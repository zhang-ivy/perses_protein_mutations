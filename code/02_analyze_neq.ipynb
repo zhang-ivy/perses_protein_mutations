{
 "cells": [
  {
   "cell_type": "code",
   "execution_count": 1,
   "metadata": {},
   "outputs": [],
   "source": [
    "from perses.analysis.analysis import Analysis\n",
    "import numpy as np\n",
    "import seaborn as sns\n",
    "import matplotlib.pyplot as plt\n",
    "import pymbar\n",
    "%matplotlib inline\n",
    "import os\n",
    "import itertools\n",
    "from tqdm import tqdm_notebook\n",
    "import pandas as pd"
   ]
  },
  {
   "cell_type": "code",
   "execution_count": 2,
   "metadata": {},
   "outputs": [],
   "source": [
    "def analyze(forward_work, reverse_work, dir_num, phase, output_dir): \n",
    "    # Substract offset\n",
    "    forward_work_offset = []\n",
    "    for cycle in forward_work:\n",
    "        forward_work_offset.append(np.array([val - cycle[0] for val in cycle[1:]]))\n",
    "    forward_work_offset = np.array(forward_work_offset)\n",
    "\n",
    "    reverse_work_offset = []\n",
    "    for cycle in reverse_work:\n",
    "        reverse_work_offset.append(np.array([val - cycle[0] for val in cycle[1:]]))\n",
    "    reverse_work_offset = np.array(reverse_work_offset)\n",
    "    \n",
    "    # Compute dg, ddg\n",
    "    dg, ddg = pymbar.bar.BAR(forward_work_offset, reverse_work_offset)\n",
    "    \n",
    "    # Plot work trajectories\n",
    "    for cycle in forward_work_offset:\n",
    "        x = [(i+1)*4e-3 for i in range(len(list(cycle)))]\n",
    "        y = cycle\n",
    "        plt.plot(x, y, color=sns.color_palette()[0])\n",
    "    for cycle in reverse_work_offset:\n",
    "        x = [(i+1)*4e-3 for i in range(len(list(cycle)))]\n",
    "        y = cycle\n",
    "        plt.plot(x, y, color=sns.color_palette()[1])\n",
    "    plt.xlabel(\"$t_{neq}$ (ps)\")\n",
    "    plt.ylabel(\"work (kT)\")\n",
    "    plt.title(f\"{pairs[dir_num][0]} -> {pairs[dir_num][1]} {phase}\")\n",
    "    plt.savefig(os.path.join(output_dir, f\"{dir_num}_{phase}_work_traj.png\"), dpi=500)\n",
    "    plt.clf()\n",
    "    \n",
    "    # Plot work distributions\n",
    "    accumulated_forward = [cycle[-1] for cycle in forward_work_offset]\n",
    "    accumulated_reverse = [-cycle[-1] for cycle in reverse_work_offset]\n",
    "    sns.distplot(accumulated_forward)\n",
    "    sns.distplot(accumulated_reverse)\n",
    "    plt.axvline(dg)\n",
    "    plt.xlabel(\"work (kT)\")\n",
    "    plt.ylabel(\"p(w)\")\n",
    "    plt.title(f\"{pairs[dir_num][0]} -> {pairs[dir_num][1]} {phase}\")\n",
    "    plt.savefig(os.path.join(output_dir, f\"{dir_num}_{phase}_work_dist.png\"), dpi=500)\n",
    "    plt.clf()\n",
    "    \n",
    "    # Compute free energy \n",
    "    return dg, ddg\n",
    "    "
   ]
  },
  {
   "cell_type": "code",
   "execution_count": 14,
   "metadata": {
    "scrolled": true
   },
   "outputs": [
    {
     "data": {
      "text/plain": [
       "(5.970786138861276, 0.0007518662912796593)"
      ]
     },
     "execution_count": 14,
     "metadata": {},
     "output_type": "execute_result"
    },
    {
     "data": {
      "image/png": "[encoded data removed]",
      "text/plain": [
       "<Figure size 432x288 with 1 Axes>"
      ]
     },
     "metadata": {
      "needs_background": "light"
     },
     "output_type": "display_data"
    }
   ],
   "source": [
    "# Example use of analyze()\n",
    "\n",
    "forward_solvent_path = '/data/chodera/zhangi/perses_benchmark/neq/old/0/solvent/0_forward.npy'\n",
    "reverse_solvent_path = '/data/chodera/zhangi/perses_benchmark/neq/old/0/solvent/0_reverse.npy'\n",
    "\n",
    "forward_vacuum_path = '/data/chodera/zhangi/perses_benchmark/neq/old/0/vacuum/0_forward.npy'\n",
    "forward_vacuum_path = '/data/chodera/zhangi/perses_benchmark/neq/old/0/vacuum/0_reverse.npy'\n",
    "\n",
    "# Load arrays\n",
    "with open(forward_solvent_path, 'rb') as f:\n",
    "    forward_work = np.load(f)\n",
    "\n",
    "with open(reverse_solvent_path, 'rb') as f:\n",
    "    reverse_work = np.load(f)\n",
    "analyze(forward_work, reverse_work, 0, 'solvent', os.path.dirname(forward_solvent_path))"
   ]
  },
  {
   "cell_type": "markdown",
   "metadata": {},
   "source": [
    "## Use new sim data (after dir structure reorg and re-generating htfs and saving trajs)"
   ]
  },
  {
   "cell_type": "code",
   "execution_count": 6,
   "metadata": {},
   "outputs": [],
   "source": [
    "# Global variables\n",
    "amino_acids = ['ALA', 'CYS', 'SER', 'THR']\n",
    "\n",
    "# Create list of tuples for every pair of amino acids\n",
    "pairs = list(itertools.permutations(amino_acids, r=2))"
   ]
  },
  {
   "cell_type": "code",
   "execution_count": 4,
   "metadata": {},
   "outputs": [
    {
     "name": "stderr",
     "output_type": "stream",
     "text": [
      "/home/zhangi/miniconda3/envs/perses-sims/lib/python3.7/site-packages/ipykernel_launcher.py:2: TqdmDeprecationWarning: This function will be removed in tqdm==5.0.0\n",
      "Please use `tqdm.notebook.tqdm` instead of `tqdm.tqdm_notebook`\n",
      "  \n"
     ]
    },
    {
     "data": {
      "application/vnd.jupyter.widget-view+json": {
       "model_id": "750611e622ac4ae8a291a9fcd42bb347",
       "version_major": 2,
       "version_minor": 0
      },
      "text/plain": [
       "HBox(children=(FloatProgress(value=0.0, max=12.0), HTML(value='')))"
      ]
     },
     "metadata": {},
     "output_type": "display_data"
    },
    {
     "name": "stdout",
     "output_type": "stream",
     "text": [
      "dir: 0\n"
     ]
    },
    {
     "name": "stderr",
     "output_type": "stream",
     "text": [
      "/home/zhangi/miniconda3/envs/perses-sims/lib/python3.7/site-packages/ipykernel_launcher.py:10: TqdmDeprecationWarning: This function will be removed in tqdm==5.0.0\n",
      "Please use `tqdm.notebook.tqdm` instead of `tqdm.tqdm_notebook`\n",
      "  # Remove the CWD from sys.path while we load stuff.\n"
     ]
    },
    {
     "data": {
      "application/vnd.jupyter.widget-view+json": {
       "model_id": "b80a5f92030840b3909c03ca86b6e24e",
       "version_major": 2,
       "version_minor": 0
      },
      "text/plain": [
       "HBox(children=(FloatProgress(value=0.0, max=10.0), HTML(value='')))"
      ]
     },
     "metadata": {},
     "output_type": "display_data"
    },
    {
     "name": "stdout",
     "output_type": "stream",
     "text": [
      "job: 0\n",
      "job: 1\n",
      "job: 2\n",
      "job: 3\n",
      "job: 4\n",
      "job: 5\n",
      "job: 6\n",
      "job: 7\n",
      "job: 8\n",
      "job: 9\n",
      "\n",
      "vacuum dg: 4.749003623939881, solvent_dg: 6.578259383575328\n",
      "dir: 1\n"
     ]
    },
    {
     "data": {
      "application/vnd.jupyter.widget-view+json": {
       "model_id": "5d7352c023474f9b8b9ed2f67590730d",
       "version_major": 2,
       "version_minor": 0
      },
      "text/plain": [
       "HBox(children=(FloatProgress(value=0.0, max=10.0), HTML(value='')))"
      ]
     },
     "metadata": {},
     "output_type": "display_data"
    },
    {
     "name": "stdout",
     "output_type": "stream",
     "text": [
      "job: 0\n",
      "job: 1\n",
      "job: 2\n",
      "job: 3\n",
      "job: 4\n",
      "job: 5\n",
      "job: 6\n",
      "job: 7\n",
      "job: 8\n",
      "job: 9\n",
      "\n",
      "vacuum dg: 9.54146396671964, solvent_dg: 7.76901473296733\n",
      "dir: 3\n"
     ]
    },
    {
     "data": {
      "application/vnd.jupyter.widget-view+json": {
       "model_id": "8652992b630d453a87aaa158a5d57934",
       "version_major": 2,
       "version_minor": 0
      },
      "text/plain": [
       "HBox(children=(FloatProgress(value=0.0, max=10.0), HTML(value='')))"
      ]
     },
     "metadata": {},
     "output_type": "display_data"
    },
    {
     "name": "stdout",
     "output_type": "stream",
     "text": [
      "job: 0\n",
      "job: 1\n",
      "job: 2\n",
      "job: 3\n",
      "job: 4\n",
      "job: 5\n",
      "job: 6\n",
      "job: 7\n",
      "job: 8\n",
      "job: 9\n",
      "\n",
      "vacuum dg: -4.801120400720513, solvent_dg: -6.591389847952169\n",
      "dir: 4\n"
     ]
    },
    {
     "data": {
      "application/vnd.jupyter.widget-view+json": {
       "model_id": "791db230bf364d8cbaf8b9d6776c2799",
       "version_major": 2,
       "version_minor": 0
      },
      "text/plain": [
       "HBox(children=(FloatProgress(value=0.0, max=10.0), HTML(value='')))"
      ]
     },
     "metadata": {},
     "output_type": "display_data"
    },
    {
     "name": "stdout",
     "output_type": "stream",
     "text": [
      "job: 0\n",
      "job: 1\n",
      "job: 2\n",
      "job: 3\n",
      "job: 4\n",
      "job: 5\n",
      "job: 6\n",
      "job: 7\n",
      "job: 8\n",
      "job: 9\n",
      "\n",
      "vacuum dg: -5.010478768011138, solvent_dg: -7.386669919959484\n",
      "dir: 5\n"
     ]
    },
    {
     "data": {
      "application/vnd.jupyter.widget-view+json": {
       "model_id": "7d68549991ad4b29a0fe98effa544ed3",
       "version_major": 2,
       "version_minor": 0
      },
      "text/plain": [
       "HBox(children=(FloatProgress(value=0.0, max=10.0), HTML(value='')))"
      ]
     },
     "metadata": {},
     "output_type": "display_data"
    },
    {
     "name": "stdout",
     "output_type": "stream",
     "text": [
      "job: 0\n",
      "job: 1\n",
      "job: 2\n",
      "job: 3\n",
      "job: 4\n",
      "job: 5\n",
      "job: 6\n",
      "job: 7\n",
      "job: 8\n",
      "job: 9\n",
      "\n",
      "vacuum dg: 9.77339692700088, solvent_dg: 7.37269711448643\n",
      "dir: 6\n"
     ]
    },
    {
     "data": {
      "application/vnd.jupyter.widget-view+json": {
       "model_id": "846a4e2a20db4f0fb6e2e7dd401e9bfb",
       "version_major": 2,
       "version_minor": 0
      },
      "text/plain": [
       "HBox(children=(FloatProgress(value=0.0, max=10.0), HTML(value='')))"
      ]
     },
     "metadata": {},
     "output_type": "display_data"
    },
    {
     "name": "stdout",
     "output_type": "stream",
     "text": [
      "job: 0\n",
      "job: 1\n",
      "job: 2\n",
      "job: 3\n",
      "job: 4\n",
      "job: 5\n",
      "job: 6\n",
      "job: 7\n",
      "job: 8\n",
      "job: 9\n",
      "\n",
      "vacuum dg: -9.41689152449264, solvent_dg: -9.362073795752007\n",
      "dir: 7\n"
     ]
    },
    {
     "data": {
      "application/vnd.jupyter.widget-view+json": {
       "model_id": "9715701b2ecf4718be689849fadb8a24",
       "version_major": 2,
       "version_minor": 0
      },
      "text/plain": [
       "HBox(children=(FloatProgress(value=0.0, max=10.0), HTML(value='')))"
      ]
     },
     "metadata": {},
     "output_type": "display_data"
    },
    {
     "name": "stdout",
     "output_type": "stream",
     "text": [
      "job: 0\n",
      "job: 1\n",
      "job: 2\n",
      "job: 3\n",
      "job: 4\n",
      "job: 5\n",
      "job: 6\n",
      "job: 7\n",
      "job: 8\n",
      "job: 9\n",
      "\n",
      "vacuum dg: 4.940941484115028, solvent_dg: 7.33537475986004\n",
      "dir: 8\n"
     ]
    },
    {
     "data": {
      "application/vnd.jupyter.widget-view+json": {
       "model_id": "f601d602dc834bf19135118a014b6ba0",
       "version_major": 2,
       "version_minor": 0
      },
      "text/plain": [
       "HBox(children=(FloatProgress(value=0.0, max=10.0), HTML(value='')))"
      ]
     },
     "metadata": {},
     "output_type": "display_data"
    },
    {
     "name": "stdout",
     "output_type": "stream",
     "text": [
      "job: 0\n",
      "job: 1\n",
      "job: 2\n",
      "job: 3\n",
      "job: 4\n",
      "job: 5\n",
      "job: 6\n",
      "job: 7\n",
      "job: 8\n",
      "job: 9\n",
      "\n",
      "vacuum dg: 13.859437213302977, solvent_dg: 13.583594210995331\n",
      "dir: 9\n"
     ]
    },
    {
     "data": {
      "application/vnd.jupyter.widget-view+json": {
       "model_id": "4890ee1075574bc9a808af5c629e2b06",
       "version_major": 2,
       "version_minor": 0
      },
      "text/plain": [
       "HBox(children=(FloatProgress(value=0.0, max=10.0), HTML(value='')))"
      ]
     },
     "metadata": {},
     "output_type": "display_data"
    },
    {
     "name": "stdout",
     "output_type": "stream",
     "text": [
      "job: 0\n",
      "job: 1\n",
      "job: 2\n",
      "job: 3\n",
      "job: 4\n",
      "job: 5\n",
      "job: 6\n",
      "job: 7\n",
      "job: 8\n",
      "job: 9\n",
      "\n",
      "vacuum dg: -23.327077393705757, solvent_dg: -21.688280831477105\n",
      "dir: 10\n"
     ]
    },
    {
     "data": {
      "application/vnd.jupyter.widget-view+json": {
       "model_id": "04abbc7da20e4751be69015aec66801c",
       "version_major": 2,
       "version_minor": 0
      },
      "text/plain": [
       "HBox(children=(FloatProgress(value=0.0, max=10.0), HTML(value='')))"
      ]
     },
     "metadata": {},
     "output_type": "display_data"
    },
    {
     "name": "stdout",
     "output_type": "stream",
     "text": [
      "job: 0\n",
      "job: 1\n",
      "job: 2\n",
      "job: 3\n",
      "job: 4\n",
      "job: 5\n",
      "job: 6\n",
      "job: 7\n",
      "job: 8\n",
      "job: 9\n",
      "\n",
      "vacuum dg: -7.007416308513394, solvent_dg: -5.227739339610647\n",
      "dir: 11\n"
     ]
    },
    {
     "data": {
      "application/vnd.jupyter.widget-view+json": {
       "model_id": "d220664ba3e94ea5bc665823fda14af4",
       "version_major": 2,
       "version_minor": 0
      },
      "text/plain": [
       "HBox(children=(FloatProgress(value=0.0, max=10.0), HTML(value='')))"
      ]
     },
     "metadata": {},
     "output_type": "display_data"
    },
    {
     "name": "stdout",
     "output_type": "stream",
     "text": [
      "job: 0\n",
      "job: 1\n",
      "job: 2\n",
      "job: 3\n",
      "job: 4\n",
      "job: 5\n",
      "job: 6\n",
      "job: 7\n",
      "job: 8\n",
      "job: 9\n",
      "\n",
      "vacuum dg: -10.984096164975663, solvent_dg: -11.073489790735586\n",
      "\n"
     ]
    },
    {
     "data": {
      "text/plain": [
       "<Figure size 432x288 with 0 Axes>"
      ]
     },
     "metadata": {},
     "output_type": "display_data"
    }
   ],
   "source": [
    "# Prep work arrays (from distributed jobs) and call analyze()\n",
    "d_results = {}\n",
    "for i in tqdm_notebook(range(12)):\n",
    "    if i != 2:\n",
    "        print(f\"dir: {i}\")\n",
    "        # Load and combine arrays\n",
    "        forward_solvent_arrays = []\n",
    "        reverse_solvent_arrays = []\n",
    "        forward_vacuum_arrays = []\n",
    "        reverse_vacuum_arrays = []\n",
    "        for j in tqdm_notebook(range(10)):\n",
    "            print(f\"job: {j}\")\n",
    "            forward_solvent_path = f'/data/chodera/zhangi/perses_benchmark/neq/3/{i}/{i}_solvent_{j}_forward.npy'\n",
    "            reverse_solvent_path = f'/data/chodera/zhangi/perses_benchmark/neq/3/{i}/{i}_solvent_{j}_reverse.npy'\n",
    "            forward_vacuum_path = f'/data/chodera/zhangi/perses_benchmark/neq/3/{i}/{i}_vacuum_{j}_forward.npy'\n",
    "            reverse_vacuum_path = f'/data/chodera/zhangi/perses_benchmark/neq/3/{i}/{i}_vacuum_{j}_reverse.npy'\n",
    "            if os.path.exists(forward_solvent_path):\n",
    "                with open(forward_solvent_path, 'rb') as f:\n",
    "                    forward_solvent_arrays.append(np.load(f))\n",
    "            if os.path.exists(reverse_solvent_path):\n",
    "                with open(reverse_solvent_path, 'rb') as f:\n",
    "                    reverse_solvent_arrays.append(np.load(f))\n",
    "            if os.path.exists(forward_vacuum_path):\n",
    "                with open(forward_vacuum_path, 'rb') as f:\n",
    "                    forward_vacuum_arrays.append(np.load(f))\n",
    "            if os.path.exists(reverse_vacuum_path):\n",
    "                with open(reverse_vacuum_path, 'rb') as f:\n",
    "                    reverse_vacuum_arrays.append(np.load(f))\n",
    "        if forward_solvent_arrays and reverse_solvent_arrays and forward_vacuum_arrays and reverse_vacuum_arrays:\n",
    "            forward_solvent_combined = np.concatenate(forward_solvent_arrays)\n",
    "            reverse_solvent_combined = np.concatenate(reverse_solvent_arrays)\n",
    "            forward_vacuum_combined = np.concatenate(forward_vacuum_arrays)\n",
    "            reverse_vacuum_combined = np.concatenate(reverse_vacuum_arrays)\n",
    "\n",
    "            # Analyze\n",
    "            solvent_dg, solvent_ddg = analyze(forward_solvent_combined, reverse_solvent_combined, i, 'solvent', os.path.dirname(forward_solvent_path))\n",
    "            vacuum_dg, vacuum_ddg = analyze(forward_vacuum_combined, reverse_vacuum_combined, i, 'vacuum', os.path.dirname(forward_vacuum_path))\n",
    "            solvation_dg = vacuum_dg - solvent_dg\n",
    "            solvation_ddg = (vacuum_ddg**2 + solvent_ddg**2)**0.5\n",
    "            d_results[pairs[i]] = [solvation_dg, solvation_ddg]\n",
    "            print(f\"vacuum dg: {vacuum_dg}, solvent_dg: {solvent_dg}\")\n",
    "        else:\n",
    "            print(f\"dir {i} has at least one phase without data\" )"
   ]
  },
  {
   "cell_type": "code",
   "execution_count": 5,
   "metadata": {},
   "outputs": [
    {
     "data": {
      "text/plain": [
       "{('ALA', 'CYS'): [-1.8292557596354468, 0.0010610280757047366],\n",
       " ('ALA', 'SER'): [1.77244923375231, 0.0009016137218107477],\n",
       " ('CYS', 'ALA'): [1.7902694472316565, 0.0010562469462769516],\n",
       " ('CYS', 'SER'): [2.376191151948346, 0.0008945467529677441],\n",
       " ('CYS', 'THR'): [2.40069981251445, 0.0006604866899912095],\n",
       " ('SER', 'ALA'): [-0.05481772874063218, 0.0008744213713120721],\n",
       " ('SER', 'CYS'): [-2.394433275745012, 0.0008818676066682503],\n",
       " ('SER', 'THR'): [0.2758430023076457, 0.0008176260779898922],\n",
       " ('THR', 'ALA'): [-1.6387965622286522, 0.0007157708748380432],\n",
       " ('THR', 'CYS'): [-1.7796769689027467, 0.0005906595518080168],\n",
       " ('THR', 'SER'): [0.08939362575992327, 0.0007900136450220111]}"
      ]
     },
     "execution_count": 5,
     "metadata": {},
     "output_type": "execute_result"
    }
   ],
   "source": [
    "d_results"
   ]
  },
  {
   "cell_type": "code",
   "execution_count": 6,
   "metadata": {},
   "outputs": [],
   "source": [
    "d_results[('ALA', 'THR')] = [np.nan, np.nan]"
   ]
  },
  {
   "cell_type": "code",
   "execution_count": 7,
   "metadata": {},
   "outputs": [],
   "source": [
    "import pickle\n",
    "with open(\"/data/chodera/zhangi/perses_benchmark/neq/3/d_results.pickle\", \"wb\") as f:\n",
    "    pickle.dump(d_results, f)"
   ]
  },
  {
   "cell_type": "code",
   "execution_count": 3,
   "metadata": {},
   "outputs": [],
   "source": [
    "import pickle\n",
    "with open(\"/data/chodera/zhangi/perses_benchmark/neq/3/d_results.pickle\", \"rb\") as f:\n",
    "    d_results = pickle.load(f)"
   ]
  },
  {
   "cell_type": "code",
   "execution_count": null,
   "metadata": {},
   "outputs": [],
   "source": []
  },
  {
   "cell_type": "code",
   "execution_count": 8,
   "metadata": {},
   "outputs": [],
   "source": [
    "# Format to match Dominic's table\n",
    "d_combined = {}\n",
    "rows = [('ALA', 'SER'), ('ALA', 'CYS'), ('ALA', 'THR'), ('SER', 'CYS'), ('SER', 'THR'), ('CYS', 'THR')]\n",
    "for pair, (dg, ddg) in sorted(d_results.items()):\n",
    "    if pair in rows:\n",
    "        d_combined[pair] = [dg, ddg]\n",
    "\n",
    "for pair, (dg, ddg) in sorted(d_results.items()):\n",
    "    if pair not in d_combined:\n",
    "        reversed_pair = pair[::-1]\n",
    "        forward_solvation_dg = d_combined[reversed_pair][0]\n",
    "        forward_solvation_ddg = d_combined[reversed_pair][1]\n",
    "        d_combined[reversed_pair] += [dg, ddg, abs(forward_solvation_dg) - abs(dg), abs(forward_solvation_ddg) - abs(ddg)]\n",
    "\n"
   ]
  },
  {
   "cell_type": "code",
   "execution_count": 9,
   "metadata": {},
   "outputs": [],
   "source": [
    "# Create dataframe\n",
    "df = pd.DataFrame.from_dict(d_combined, orient='index', columns=['forward solvation dG', \n",
    "                                                            'forward solvation ddG', \n",
    "                                                            'reverse solvation dG',\n",
    "                                                            'reverse solvation ddG',\n",
    "                                                            'discrepancy dG',\n",
    "                                                            'discrepancy ddG'\n",
    "                                                           ]\n",
    "                      \n",
    "                      )"
   ]
  },
  {
   "cell_type": "code",
   "execution_count": 10,
   "metadata": {
    "scrolled": true
   },
   "outputs": [
    {
     "data": {
      "text/html": [
       "<div>\n",
       "<style scoped>\n",
       "    .dataframe tbody tr th:only-of-type {\n",
       "        vertical-align: middle;\n",
       "    }\n",
       "\n",
       "    .dataframe tbody tr th {\n",
       "        vertical-align: top;\n",
       "    }\n",
       "\n",
       "    .dataframe thead th {\n",
       "        text-align: right;\n",
       "    }\n",
       "</style>\n",
       "<table border=\"1\" class=\"dataframe\">\n",
       "  <thead>\n",
       "    <tr style=\"text-align: right;\">\n",
       "      <th></th>\n",
       "      <th>forward solvation dG</th>\n",
       "      <th>forward solvation ddG</th>\n",
       "      <th>reverse solvation dG</th>\n",
       "      <th>reverse solvation ddG</th>\n",
       "      <th>discrepancy dG</th>\n",
       "      <th>discrepancy ddG</th>\n",
       "    </tr>\n",
       "  </thead>\n",
       "  <tbody>\n",
       "    <tr>\n",
       "      <td>(ALA, SER)</td>\n",
       "      <td>1.772449</td>\n",
       "      <td>0.000902</td>\n",
       "      <td>-0.054818</td>\n",
       "      <td>0.000874</td>\n",
       "      <td>1.717632</td>\n",
       "      <td>0.000027</td>\n",
       "    </tr>\n",
       "    <tr>\n",
       "      <td>(ALA, CYS)</td>\n",
       "      <td>-1.829256</td>\n",
       "      <td>0.001061</td>\n",
       "      <td>1.790269</td>\n",
       "      <td>0.001056</td>\n",
       "      <td>0.038986</td>\n",
       "      <td>0.000005</td>\n",
       "    </tr>\n",
       "    <tr>\n",
       "      <td>(ALA, THR)</td>\n",
       "      <td>NaN</td>\n",
       "      <td>NaN</td>\n",
       "      <td>-1.638797</td>\n",
       "      <td>0.000716</td>\n",
       "      <td>NaN</td>\n",
       "      <td>NaN</td>\n",
       "    </tr>\n",
       "    <tr>\n",
       "      <td>(SER, CYS)</td>\n",
       "      <td>-2.394433</td>\n",
       "      <td>0.000882</td>\n",
       "      <td>2.376191</td>\n",
       "      <td>0.000895</td>\n",
       "      <td>0.018242</td>\n",
       "      <td>-0.000013</td>\n",
       "    </tr>\n",
       "    <tr>\n",
       "      <td>(SER, THR)</td>\n",
       "      <td>0.275843</td>\n",
       "      <td>0.000818</td>\n",
       "      <td>0.089394</td>\n",
       "      <td>0.000790</td>\n",
       "      <td>0.186449</td>\n",
       "      <td>0.000028</td>\n",
       "    </tr>\n",
       "    <tr>\n",
       "      <td>(CYS, THR)</td>\n",
       "      <td>2.400700</td>\n",
       "      <td>0.000660</td>\n",
       "      <td>-1.779677</td>\n",
       "      <td>0.000591</td>\n",
       "      <td>0.621023</td>\n",
       "      <td>0.000070</td>\n",
       "    </tr>\n",
       "  </tbody>\n",
       "</table>\n",
       "</div>"
      ],
      "text/plain": [
       "            forward solvation dG  forward solvation ddG  reverse solvation dG  \\\n",
       "(ALA, SER)              1.772449               0.000902             -0.054818   \n",
       "(ALA, CYS)             -1.829256               0.001061              1.790269   \n",
       "(ALA, THR)                   NaN                    NaN             -1.638797   \n",
       "(SER, CYS)             -2.394433               0.000882              2.376191   \n",
       "(SER, THR)              0.275843               0.000818              0.089394   \n",
       "(CYS, THR)              2.400700               0.000660             -1.779677   \n",
       "\n",
       "            reverse solvation ddG  discrepancy dG  discrepancy ddG  \n",
       "(ALA, SER)               0.000874        1.717632         0.000027  \n",
       "(ALA, CYS)               0.001056        0.038986         0.000005  \n",
       "(ALA, THR)               0.000716             NaN              NaN  \n",
       "(SER, CYS)               0.000895        0.018242        -0.000013  \n",
       "(SER, THR)               0.000790        0.186449         0.000028  \n",
       "(CYS, THR)               0.000591        0.621023         0.000070  "
      ]
     },
     "execution_count": 10,
     "metadata": {},
     "output_type": "execute_result"
    }
   ],
   "source": [
    "df.reindex(index=rows)"
   ]
  },
  {
   "cell_type": "markdown",
   "metadata": {},
   "source": [
    "### Get indices of trajectories to look at in pymol"
   ]
  },
  {
   "cell_type": "code",
   "execution_count": 2,
   "metadata": {
    "scrolled": true
   },
   "outputs": [
    {
     "name": "stderr",
     "output_type": "stream",
     "text": [
      "/home/zhangi/miniconda3/envs/perses-sims/lib/python3.7/site-packages/ipykernel_launcher.py:9: TqdmDeprecationWarning: This function will be removed in tqdm==5.0.0\n",
      "Please use `tqdm.notebook.tqdm` instead of `tqdm.tqdm_notebook`\n",
      "  if __name__ == '__main__':\n"
     ]
    },
    {
     "data": {
      "application/vnd.jupyter.widget-view+json": {
       "model_id": "2d95527227334184b50e60047363d4c2",
       "version_major": 2,
       "version_minor": 0
      },
      "text/plain": [
       "HBox(children=(FloatProgress(value=0.0, max=10.0), HTML(value='')))"
      ]
     },
     "metadata": {},
     "output_type": "display_data"
    },
    {
     "name": "stdout",
     "output_type": "stream",
     "text": [
      "job: 0\n",
      "job: 1\n",
      "job: 2\n",
      "job: 3\n",
      "job: 4\n",
      "job: 5\n",
      "job: 6\n",
      "job: 7\n",
      "job: 8\n",
      "job: 9\n",
      "\n"
     ]
    }
   ],
   "source": [
    "# Get works\n",
    "\n",
    "i = 10\n",
    "# Load and combine arrays\n",
    "forward_solvent_arrays = []\n",
    "reverse_solvent_arrays = []\n",
    "forward_vacuum_arrays = []\n",
    "reverse_vacuum_arrays = []\n",
    "for j in tqdm_notebook(range(10)):\n",
    "    print(f\"job: {j}\")\n",
    "    forward_solvent_path = f'/data/chodera/zhangi/perses_benchmark/neq/3/{i}/{i}_solvent_{j}_forward.npy'\n",
    "    reverse_solvent_path = f'/data/chodera/zhangi/perses_benchmark/neq/3/{i}/{i}_solvent_{j}_reverse.npy'\n",
    "    forward_vacuum_path = f'/data/chodera/zhangi/perses_benchmark/neq/3/{i}/{i}_vacuum_{j}_forward.npy'\n",
    "    reverse_vacuum_path = f'/data/chodera/zhangi/perses_benchmark/neq/3/{i}/{i}_vacuum_{j}_reverse.npy'\n",
    "    if os.path.exists(forward_solvent_path):\n",
    "        with open(forward_solvent_path, 'rb') as f:\n",
    "            forward_solvent_arrays.append(np.load(f))\n",
    "    if os.path.exists(reverse_solvent_path):\n",
    "        with open(reverse_solvent_path, 'rb') as f:\n",
    "            reverse_solvent_arrays.append(np.load(f))\n",
    "    if os.path.exists(forward_vacuum_path):\n",
    "        with open(forward_vacuum_path, 'rb') as f:\n",
    "            forward_vacuum_arrays.append(np.load(f))\n",
    "    if os.path.exists(reverse_vacuum_path):\n",
    "        with open(reverse_vacuum_path, 'rb') as f:\n",
    "            reverse_vacuum_arrays.append(np.load(f))\n",
    "if forward_solvent_arrays and reverse_solvent_arrays and forward_vacuum_arrays and reverse_vacuum_arrays:\n",
    "    forward_solvent_combined = np.concatenate(forward_solvent_arrays)\n",
    "    reverse_solvent_combined = np.concatenate(reverse_solvent_arrays)\n",
    "    forward_vacuum_combined = np.concatenate(forward_vacuum_arrays)\n",
    "    reverse_vacuum_combined = np.concatenate(reverse_vacuum_arrays)\n",
    "\n",
    "\n",
    "# Substract offset\n",
    "forward_work_offset = []\n",
    "for cycle in forward_solvent_combined:\n",
    "    forward_work_offset.append(np.array([val - cycle[0] for val in cycle[1:]]))\n",
    "forward_work_offset = np.array(forward_work_offset)\n",
    "\n",
    "reverse_work_offset = []\n",
    "for cycle in reverse_solvent_combined:\n",
    "    reverse_work_offset.append(np.array([val - cycle[0] for val in cycle[1:]]))\n",
    "reverse_work_offset = np.array(reverse_work_offset)\n"
   ]
  },
  {
   "cell_type": "code",
   "execution_count": 38,
   "metadata": {},
   "outputs": [
    {
     "name": "stdout",
     "output_type": "stream",
     "text": [
      "> -18 3 0 4 7 -17.939688888623465\n",
      "> -18 11 1 2 3 -17.528974225762035\n",
      "> -18 31 3 2 3 -17.457932692475808\n",
      "> -18 33 3 4 7 -17.300710305540406\n",
      "> -18 37 3 8 15 -17.885845156598343\n",
      "> -18 52 5 3 5 -17.877561411167513\n",
      "> -18 53 5 4 7 -17.507511123480462\n",
      "> -18 68 6 9 17 -17.407572956020754\n",
      "> -18 90 9 1 1 -17.342339314011987\n",
      "> -18 98 9 9 17 -17.925739531657857\n",
      "< -23 10 1 1 1 -24.013704958468015\n",
      "< -23 15 1 6 11 -24.949798314796087\n",
      "< -23 16 1 7 13 -23.267022778584675\n",
      "< -23 38 3 9 17 -24.630337012957195\n",
      "< -23 39 3 10 19 -23.47016037995317\n",
      "< -23 41 4 2 3 -24.853442622908467\n"
     ]
    }
   ],
   "source": [
    "### i = 10, near middle of trajectory (35 ps)\n",
    "### Important numbers: 3rd and 5th numbers\n",
    "# labels:\n",
    "## i - cycle number (0-indexed)\n",
    "## int(i/10) -- pdb number (0-indexed)\n",
    "## i%10 + 1 -- index of cycle in pdb (between 1-10)\n",
    "## (i%10 + 1)*2 -1 -- index of frame *before switch* in pdb (between 1-20)\n",
    "for i, cycle in enumerate(reverse_work_offset):\n",
    "    if cycle[8750] > -18:\n",
    "        print(\"> -18\", i, int(i/10), i%10 + 1, (i%10 + 1)*2 -1, cycle[8750])\n",
    "\n",
    "for i, cycle in enumerate(reverse_work_offset):\n",
    "    if cycle[8750] < -23:\n",
    "        print(\"< -23\", i, int(i/10), i%10 + 1, (i%10 + 1)*2 -1 , cycle[8750])"
   ]
  },
  {
   "cell_type": "code",
   "execution_count": 12,
   "metadata": {},
   "outputs": [
    {
     "name": "stdout",
     "output_type": "stream",
     "text": [
      "> -26 10 1 1 1 -24.857928462314348\n",
      "> -26 11 1 2 3 -25.15615432073608\n",
      "> -26 15 1 6 11 -24.24534757345779\n",
      "> -26 16 1 7 13 -24.030377077043664\n",
      "> -26 21 2 2 3 -25.440650300509517\n",
      "> -26 38 3 9 17 -25.828783734361114\n",
      "> -26 57 5 8 15 -25.51637633937472\n",
      "> -26 63 6 4 7 -25.9050409677802\n",
      "> -26 93 9 4 7 -24.667708221409967\n",
      "< -33 0 0 1 1 -33.04863787299388\n",
      "< -33 8 0 9 17 -33.36708789641448\n",
      "< -33 13 1 4 7 -33.448390704444954\n",
      "< -33 22 2 3 5 -33.833707257096044\n",
      "< -33 26 2 7 13 -33.66315385852354\n",
      "< -33 34 3 5 9 -34.19161149104983\n",
      "< -33 37 3 8 15 -34.07548666346302\n",
      "< -33 48 4 9 17 -33.03144379979973\n",
      "< -33 56 5 7 13 -33.432686905892545\n",
      "< -33 85 8 6 11 -34.974093304949264\n",
      "< -33 97 9 8 15 -33.10744975053416\n"
     ]
    }
   ],
   "source": [
    "### i = 10, near middle of trajectory (35 ps)\n",
    "# labels:\n",
    "## i - cycle number (0-indexed)\n",
    "## int(i/10) -- pdb number (0-indexed)\n",
    "## i%10 + 1 -- index of cycle in pdb (between 1-10)\n",
    "## (i%10 + 1)*2 -1 -- index of frame *before switch* in pdb (between 1-20)\n",
    "for i, cycle in enumerate(forward_work_offset):\n",
    "    if cycle[8750] > -26:\n",
    "        print(\"> -26\", i, int(i/10), i%10 + 1, (i%10 + 1)*2 -1, cycle[8750])\n",
    "\n",
    "for i, cycle in enumerate(forward_work_offset):\n",
    "    if cycle[8750] < -33:\n",
    "        print(\"< -33\", i, int(i/10), i%10 + 1, (i%10 + 1)*2 -1 , cycle[8750])"
   ]
  },
  {
   "cell_type": "code",
   "execution_count": 31,
   "metadata": {},
   "outputs": [
    {
     "name": "stdout",
     "output_type": "stream",
     "text": [
      "> -1 47 4 8 15 -0.8811622584317398\n",
      "> -1 51 5 2 3 -0.9694523470069285\n",
      "> -1 81 8 2 3 -0.9052387111551958\n",
      "> -1 92 9 3 5 -0.9712696058926191\n",
      "> -1 99 9 10 19 -0.4250283120153675\n",
      "< -7.5 8 0 9 17 -7.597717676191866\n",
      "< -7.5 12 1 3 5 -7.63847623590612\n",
      "< -7.5 48 4 9 17 -7.559350907114075\n",
      "< -7.5 64 6 5 9 -7.621000597869536\n"
     ]
    }
   ],
   "source": [
    "### i = 0, near start of trajectory (20 ps)\n",
    "# labels:\n",
    "## i - cycle number (0-indexed)\n",
    "## int(i/10) -- pdb number (0-indexed)\n",
    "## i%10 + 1 -- index of cycle in pdb (between 1-10)\n",
    "## (i%10 + 1)*2 -1 -- index of frame *before switch* in pdb (between 1-20)\n",
    "for i, cycle in enumerate(reverse_work_offset):\n",
    "    if cycle[5000] > -1:\n",
    "        print(\"> -1\", i, int(i/10), i%10 + 1, (i%10 + 1)*2 -1, cycle[5000])\n",
    "\n",
    "for i, cycle in enumerate(reverse_work_offset):\n",
    "    if cycle[5000] < -7.5:\n",
    "        print(\"< -7.5\", i, int(i/10), i%10 + 1, (i%10 + 1)*2 -1 , cycle[5000])"
   ]
  },
  {
   "cell_type": "code",
   "execution_count": 30,
   "metadata": {
    "scrolled": true
   },
   "outputs": [
    {
     "name": "stdout",
     "output_type": "stream",
     "text": [
      "> -4 2 0 3 5 -0.664950891271566\n",
      "> -4 33 3 4 7 -1.837155218293038\n",
      "> -4 43 4 4 7 -2.339668456201604\n",
      "> -4 73 7 4 7 -1.1851652590436252\n",
      "> -4 74 7 5 9 -0.7033103976879005\n",
      "> -4 87 8 8 15 -0.542799464755479\n",
      "< -22 21 2 2 3 -22.763016279728316\n",
      "< -22 53 5 4 7 -23.183369965602573\n",
      "< -22 58 5 9 17 -22.005155057755555\n",
      "< -22 63 6 4 7 -22.152391565632964\n",
      "< -22 67 6 8 15 -24.029626966858885\n",
      "< -22 69 6 10 19 -23.011844486446808\n"
     ]
    }
   ],
   "source": [
    "### i = 1, end of trajectory\n",
    "# labels:\n",
    "## i - cycle number (0-indexed)\n",
    "## int(i/10) -- pdb number (0-indexed)\n",
    "## i%10 + 1 -- index of cycle in pdb (between 1-10)\n",
    "## (i%10 + 1)*2 -1 -- index of frame *before switch* in pdb (between 1-20)\n",
    "for i, cycle in enumerate(reverse_work_offset):\n",
    "    if cycle[-1] > -4:\n",
    "        print(\"> -4\", i, int(i/10), i%10 + 1, (i%10 + 1)*2 -1, cycle[-1])\n",
    "\n",
    "for i, cycle in enumerate(reverse_work_offset):\n",
    "    if cycle[-1] < -22:\n",
    "        print(\"< -22\", i, int(i/10), i%10 + 1, (i%10 + 1)*2 -1 , cycle[-1])"
   ]
  },
  {
   "cell_type": "code",
   "execution_count": 43,
   "metadata": {},
   "outputs": [
    {
     "name": "stdout",
     "output_type": "stream",
     "text": [
      "> 4 10 1 1 1 4.8080142751021135\n",
      "> 4 40 4 1 1 4.136433544445303\n",
      "> 4 43 4 4 7 4.834187541895364\n",
      "> 4 49 4 10 19 4.043142589060761\n",
      "> 4 74 7 5 9 4.091278009304833\n",
      "< -10 3 0 4 7 -10.30253128965199\n",
      "< -10 4 0 5 9 -10.200137960071856\n",
      "< -10 9 0 10 19 -10.135936905875134\n",
      "< -10 21 2 2 3 -10.481097675797674\n",
      "< -10 26 2 7 13 -10.267068943016644\n",
      "< -10 37 3 8 15 -10.21454869268256\n",
      "< -10 53 5 4 7 -10.405692339795104\n",
      "< -10 64 6 5 9 -10.09146849001687\n",
      "< -10 65 6 6 11 -10.29529708377428\n",
      "< -10 67 6 8 15 -10.912256783135518\n",
      "< -10 80 8 1 1 -10.616980484788744\n",
      "< -10 92 9 3 5 -10.230546023766276\n"
     ]
    }
   ],
   "source": [
    "### i = 1, near start of trajectory (20 ps)\n",
    "# labels:\n",
    "## i - cycle number (0-indexed)\n",
    "## int(i/10) -- pdb number (0-indexed)\n",
    "## i%10 + 1 -- index of cycle in pdb (between 1-10)\n",
    "## (i%10 + 1)*2 -1 -- index of frame *before switch* in pdb (between 1-20)\n",
    "for i, cycle in enumerate(reverse_work_offset):\n",
    "    if cycle[5000] > 4:\n",
    "        print(\"> 4\", i, int(i/10), i%10 + 1, (i%10 + 1)*2 -1, cycle[5000])\n",
    "\n",
    "for i, cycle in enumerate(reverse_work_offset):\n",
    "    if cycle[5000] < -10:\n",
    "        print(\"< -10\", i, int(i/10), i%10 + 1, (i%10 + 1)*2 -1 , cycle[5000])"
   ]
  },
  {
   "cell_type": "markdown",
   "metadata": {},
   "source": [
    "## Use new sim data (after dir structure reorg and regenerating htfs and saving trajs) -- non-default electrostatics protocol"
   ]
  },
  {
   "cell_type": "code",
   "execution_count": 11,
   "metadata": {},
   "outputs": [
    {
     "name": "stderr",
     "output_type": "stream",
     "text": [
      "/home/zhangi/miniconda3/envs/perses-sims/lib/python3.7/site-packages/ipykernel_launcher.py:2: TqdmDeprecationWarning: This function will be removed in tqdm==5.0.0\n",
      "Please use `tqdm.notebook.tqdm` instead of `tqdm.tqdm_notebook`\n",
      "  \n"
     ]
    },
    {
     "data": {
      "application/vnd.jupyter.widget-view+json": {
       "model_id": "176f73faa7604f3487a46bf74a0bfe14",
       "version_major": 2,
       "version_minor": 0
      },
      "text/plain": [
       "HBox(children=(FloatProgress(value=0.0, max=12.0), HTML(value='')))"
      ]
     },
     "metadata": {},
     "output_type": "display_data"
    },
    {
     "name": "stdout",
     "output_type": "stream",
     "text": [
      "dir: 0\n"
     ]
    },
    {
     "name": "stderr",
     "output_type": "stream",
     "text": [
      "/home/zhangi/miniconda3/envs/perses-sims/lib/python3.7/site-packages/ipykernel_launcher.py:10: TqdmDeprecationWarning: This function will be removed in tqdm==5.0.0\n",
      "Please use `tqdm.notebook.tqdm` instead of `tqdm.tqdm_notebook`\n",
      "  # Remove the CWD from sys.path while we load stuff.\n"
     ]
    },
    {
     "data": {
      "application/vnd.jupyter.widget-view+json": {
       "model_id": "41f94ed033ea435489e3a38d223ef916",
       "version_major": 2,
       "version_minor": 0
      },
      "text/plain": [
       "HBox(children=(FloatProgress(value=0.0, max=10.0), HTML(value='')))"
      ]
     },
     "metadata": {},
     "output_type": "display_data"
    },
    {
     "name": "stdout",
     "output_type": "stream",
     "text": [
      "job: 0\n",
      "job: 1\n",
      "job: 2\n",
      "job: 3\n",
      "job: 4\n",
      "job: 5\n",
      "job: 6\n",
      "job: 7\n",
      "job: 8\n",
      "job: 9\n",
      "\n",
      "vacuum dg: 4.242316079248315, solvent_dg: 6.747023941386586\n",
      "dir: 1\n"
     ]
    },
    {
     "data": {
      "application/vnd.jupyter.widget-view+json": {
       "model_id": "1ba648e6fb4a4134b7e8e9476abd31fd",
       "version_major": 2,
       "version_minor": 0
      },
      "text/plain": [
       "HBox(children=(FloatProgress(value=0.0, max=10.0), HTML(value='')))"
      ]
     },
     "metadata": {},
     "output_type": "display_data"
    },
    {
     "name": "stdout",
     "output_type": "stream",
     "text": [
      "job: 0\n",
      "job: 1\n",
      "job: 2\n",
      "job: 3\n",
      "job: 4\n",
      "job: 5\n",
      "job: 6\n",
      "job: 7\n",
      "job: 8\n",
      "job: 9\n",
      "\n",
      "vacuum dg: 9.294305356673364, solvent_dg: 8.82211975781065\n",
      "dir: 3\n"
     ]
    },
    {
     "data": {
      "application/vnd.jupyter.widget-view+json": {
       "model_id": "d81da0015d494a7bac39a39530d86c06",
       "version_major": 2,
       "version_minor": 0
      },
      "text/plain": [
       "HBox(children=(FloatProgress(value=0.0, max=10.0), HTML(value='')))"
      ]
     },
     "metadata": {},
     "output_type": "display_data"
    },
    {
     "name": "stdout",
     "output_type": "stream",
     "text": [
      "job: 0\n",
      "job: 1\n",
      "job: 2\n",
      "job: 3\n",
      "job: 4\n",
      "job: 5\n",
      "job: 6\n",
      "job: 7\n",
      "job: 8\n",
      "job: 9\n",
      "\n",
      "vacuum dg: -5.125268717552064, solvent_dg: -6.897185294212881\n",
      "dir: 4\n"
     ]
    },
    {
     "data": {
      "application/vnd.jupyter.widget-view+json": {
       "model_id": "9c02ed2bd6b04f06a015cd8a69e59516",
       "version_major": 2,
       "version_minor": 0
      },
      "text/plain": [
       "HBox(children=(FloatProgress(value=0.0, max=10.0), HTML(value='')))"
      ]
     },
     "metadata": {},
     "output_type": "display_data"
    },
    {
     "name": "stdout",
     "output_type": "stream",
     "text": [
      "job: 0\n",
      "job: 1\n",
      "job: 2\n",
      "job: 3\n",
      "job: 4\n",
      "job: 5\n",
      "job: 6\n",
      "job: 7\n",
      "job: 8\n",
      "job: 9\n",
      "\n",
      "vacuum dg: -4.4808790077284435, solvent_dg: -7.089511319148493\n",
      "dir: 5\n"
     ]
    },
    {
     "data": {
      "application/vnd.jupyter.widget-view+json": {
       "model_id": "937a5f77f30c4b8ea30e62d547d9c7e7",
       "version_major": 2,
       "version_minor": 0
      },
      "text/plain": [
       "HBox(children=(FloatProgress(value=0.0, max=10.0), HTML(value='')))"
      ]
     },
     "metadata": {},
     "output_type": "display_data"
    },
    {
     "name": "stdout",
     "output_type": "stream",
     "text": [
      "job: 0\n",
      "job: 1\n",
      "job: 2\n",
      "job: 3\n",
      "job: 4\n",
      "job: 5\n",
      "job: 6\n",
      "job: 7\n",
      "job: 8\n",
      "job: 9\n",
      "\n",
      "vacuum dg: 8.722584360117697, solvent_dg: 8.075577712969432\n",
      "dir: 6\n"
     ]
    },
    {
     "data": {
      "application/vnd.jupyter.widget-view+json": {
       "model_id": "32aa866a793841ab81d1ddcf04b711b8",
       "version_major": 2,
       "version_minor": 0
      },
      "text/plain": [
       "HBox(children=(FloatProgress(value=0.0, max=10.0), HTML(value='')))"
      ]
     },
     "metadata": {},
     "output_type": "display_data"
    },
    {
     "name": "stdout",
     "output_type": "stream",
     "text": [
      "job: 0\n",
      "job: 1\n",
      "job: 2\n",
      "job: 3\n",
      "job: 4\n",
      "job: 5\n",
      "job: 6\n",
      "job: 7\n",
      "job: 8\n",
      "job: 9\n",
      "\n",
      "vacuum dg: -9.113622549081867, solvent_dg: -7.5862502692892075\n",
      "dir: 7\n"
     ]
    },
    {
     "data": {
      "application/vnd.jupyter.widget-view+json": {
       "model_id": "e8f0c01c553b4192b5770c6d07a19849",
       "version_major": 2,
       "version_minor": 0
      },
      "text/plain": [
       "HBox(children=(FloatProgress(value=0.0, max=10.0), HTML(value='')))"
      ]
     },
     "metadata": {},
     "output_type": "display_data"
    },
    {
     "name": "stdout",
     "output_type": "stream",
     "text": [
      "job: 0\n",
      "job: 1\n",
      "job: 2\n",
      "job: 3\n",
      "job: 4\n",
      "job: 5\n",
      "job: 6\n",
      "job: 7\n",
      "job: 8\n",
      "job: 9\n",
      "\n",
      "vacuum dg: 5.081322858627801, solvent_dg: 7.5584988266853195\n",
      "dir: 8\n"
     ]
    },
    {
     "data": {
      "application/vnd.jupyter.widget-view+json": {
       "model_id": "4be0d4f27ae74513882131a3b8a33555",
       "version_major": 2,
       "version_minor": 0
      },
      "text/plain": [
       "HBox(children=(FloatProgress(value=0.0, max=10.0), HTML(value='')))"
      ]
     },
     "metadata": {},
     "output_type": "display_data"
    },
    {
     "name": "stdout",
     "output_type": "stream",
     "text": [
      "job: 0\n",
      "job: 1\n",
      "job: 2\n",
      "job: 3\n",
      "job: 4\n",
      "job: 5\n",
      "job: 6\n",
      "job: 7\n",
      "job: 8\n",
      "job: 9\n",
      "\n",
      "vacuum dg: 13.855490965198356, solvent_dg: 13.875292357937527\n",
      "dir: 9\n"
     ]
    },
    {
     "data": {
      "application/vnd.jupyter.widget-view+json": {
       "model_id": "ef333ac3e5f84be2b7019b46e7333616",
       "version_major": 2,
       "version_minor": 0
      },
      "text/plain": [
       "HBox(children=(FloatProgress(value=0.0, max=10.0), HTML(value='')))"
      ]
     },
     "metadata": {},
     "output_type": "display_data"
    },
    {
     "name": "stdout",
     "output_type": "stream",
     "text": [
      "job: 0\n",
      "job: 1\n",
      "job: 2\n",
      "job: 3\n",
      "job: 4\n",
      "job: 5\n",
      "job: 6\n",
      "job: 7\n",
      "job: 8\n",
      "job: 9\n",
      "\n",
      "vacuum dg: -23.44987908599584, solvent_dg: -21.407968155641374\n",
      "dir: 10\n"
     ]
    },
    {
     "data": {
      "application/vnd.jupyter.widget-view+json": {
       "model_id": "7554c78b9ebc4b6c9ba3ed1c56e76e07",
       "version_major": 2,
       "version_minor": 0
      },
      "text/plain": [
       "HBox(children=(FloatProgress(value=0.0, max=10.0), HTML(value='')))"
      ]
     },
     "metadata": {},
     "output_type": "display_data"
    },
    {
     "name": "stdout",
     "output_type": "stream",
     "text": [
      "job: 0\n",
      "job: 1\n",
      "job: 2\n",
      "job: 3\n",
      "job: 4\n",
      "job: 5\n",
      "job: 6\n",
      "job: 7\n",
      "job: 8\n",
      "job: 9\n",
      "\n",
      "vacuum dg: -6.609961661559313, solvent_dg: -3.9302710400954353\n",
      "dir: 11\n"
     ]
    },
    {
     "data": {
      "application/vnd.jupyter.widget-view+json": {
       "model_id": "4708319d9a9d4f329a2943b4b56140a6",
       "version_major": 2,
       "version_minor": 0
      },
      "text/plain": [
       "HBox(children=(FloatProgress(value=0.0, max=10.0), HTML(value='')))"
      ]
     },
     "metadata": {},
     "output_type": "display_data"
    },
    {
     "name": "stdout",
     "output_type": "stream",
     "text": [
      "job: 0\n",
      "job: 1\n",
      "job: 2\n",
      "job: 3\n",
      "job: 4\n",
      "job: 5\n",
      "job: 6\n",
      "job: 7\n",
      "job: 8\n",
      "job: 9\n",
      "\n",
      "vacuum dg: -9.961060230758926, solvent_dg: -11.697671612143298\n",
      "\n"
     ]
    },
    {
     "data": {
      "text/plain": [
       "<Figure size 432x288 with 0 Axes>"
      ]
     },
     "metadata": {},
     "output_type": "display_data"
    }
   ],
   "source": [
    "# Prep work arrays (from distributed jobs) and call analyze()\n",
    "d_results = {}\n",
    "for i in tqdm_notebook(range(12)):\n",
    "    if i != 2:\n",
    "        print(f\"dir: {i}\")\n",
    "        # Load and combine arrays\n",
    "        forward_solvent_arrays = []\n",
    "        reverse_solvent_arrays = []\n",
    "        forward_vacuum_arrays = []\n",
    "        reverse_vacuum_arrays = []\n",
    "        for j in tqdm_notebook(range(10)):\n",
    "            print(f\"job: {j}\")\n",
    "            forward_solvent_path = f'/data/chodera/zhangi/perses_benchmark/neq/2/{i}/{i}_solvent_{j}_forward.npy'\n",
    "            reverse_solvent_path = f'/data/chodera/zhangi/perses_benchmark/neq/2/{i}/{i}_solvent_{j}_reverse.npy'\n",
    "            forward_vacuum_path = f'/data/chodera/zhangi/perses_benchmark/neq/2/{i}/{i}_vacuum_{j}_forward.npy'\n",
    "            reverse_vacuum_path = f'/data/chodera/zhangi/perses_benchmark/neq/2/{i}/{i}_vacuum_{j}_reverse.npy'\n",
    "            if os.path.exists(forward_solvent_path):\n",
    "                with open(forward_solvent_path, 'rb') as f:\n",
    "                    forward_solvent_arrays.append(np.load(f))\n",
    "            if os.path.exists(reverse_solvent_path):\n",
    "                with open(reverse_solvent_path, 'rb') as f:\n",
    "                    reverse_solvent_arrays.append(np.load(f))\n",
    "            if os.path.exists(forward_vacuum_path):\n",
    "                with open(forward_vacuum_path, 'rb') as f:\n",
    "                    forward_vacuum_arrays.append(np.load(f))\n",
    "            if os.path.exists(reverse_vacuum_path):\n",
    "                with open(reverse_vacuum_path, 'rb') as f:\n",
    "                    reverse_vacuum_arrays.append(np.load(f))\n",
    "        if forward_solvent_arrays and reverse_solvent_arrays and forward_vacuum_arrays and reverse_vacuum_arrays:\n",
    "            forward_solvent_combined = np.concatenate(forward_solvent_arrays)\n",
    "            reverse_solvent_combined = np.concatenate(reverse_solvent_arrays)\n",
    "            forward_vacuum_combined = np.concatenate(forward_vacuum_arrays)\n",
    "            reverse_vacuum_combined = np.concatenate(reverse_vacuum_arrays)\n",
    "\n",
    "            # Analyze\n",
    "            solvent_dg, solvent_ddg = analyze(forward_solvent_combined, reverse_solvent_combined, i, 'solvent', os.path.dirname(forward_solvent_path))\n",
    "            vacuum_dg, vacuum_ddg = analyze(forward_vacuum_combined, reverse_vacuum_combined, i, 'vacuum', os.path.dirname(forward_vacuum_path))\n",
    "            solvation_dg = vacuum_dg - solvent_dg\n",
    "            solvation_ddg = (vacuum_ddg**2 + solvent_ddg**2)**0.5\n",
    "            d_results[pairs[i]] = [solvation_dg, solvation_ddg]\n",
    "            print(f\"vacuum dg: {vacuum_dg}, solvent_dg: {solvent_dg}\")\n",
    "        else:\n",
    "            print(f\"dir {i} has at least one phase without data\" )"
   ]
  },
  {
   "cell_type": "code",
   "execution_count": 12,
   "metadata": {
    "scrolled": true
   },
   "outputs": [
    {
     "data": {
      "text/plain": [
       "{('ALA', 'CYS'): [-2.504707862138271, 0.0012863859679359915],\n",
       " ('ALA', 'SER'): [0.4721855988627137, 0.001255241270899792],\n",
       " ('CYS', 'ALA'): [1.771916576660817, 0.0008148368400353324],\n",
       " ('CYS', 'SER'): [2.60863231142005, 0.0007877363416164383],\n",
       " ('CYS', 'THR'): [0.647006647148265, 0.001014477580280241],\n",
       " ('SER', 'ALA'): [-1.5273722797926599, 0.0005689991000766275],\n",
       " ('SER', 'CYS'): [-2.4771759680575185, 0.0009358507153477856],\n",
       " ('SER', 'THR'): [-0.019801392739170254, 0.0011610970266156281],\n",
       " ('THR', 'ALA'): [-2.041910930354465, 0.0003800356285358927],\n",
       " ('THR', 'CYS'): [-2.679690621463878, 0.00029055838350033555],\n",
       " ('THR', 'SER'): [1.736611381384371, 0.00045915041294779143]}"
      ]
     },
     "execution_count": 12,
     "metadata": {},
     "output_type": "execute_result"
    }
   ],
   "source": [
    "d_results"
   ]
  },
  {
   "cell_type": "code",
   "execution_count": 15,
   "metadata": {},
   "outputs": [],
   "source": [
    "import pickle\n",
    "with open(\"/data/chodera/zhangi/perses_benchmark/neq/2/d_results.pickle\", \"wb\") as f:\n",
    "    pickle.dump(d_results, f)"
   ]
  },
  {
   "cell_type": "code",
   "execution_count": 3,
   "metadata": {},
   "outputs": [],
   "source": [
    "import pickle\n",
    "with open(\"/data/chodera/zhangi/perses_benchmark/neq/2/d_results.pickle\", \"rb\") as f:\n",
    "    d_results = pickle.load(f)"
   ]
  },
  {
   "cell_type": "code",
   "execution_count": 14,
   "metadata": {},
   "outputs": [],
   "source": [
    "d_results[('ALA', 'THR')] = [np.nan, np.nan]"
   ]
  },
  {
   "cell_type": "code",
   "execution_count": 16,
   "metadata": {},
   "outputs": [],
   "source": [
    "# Format to match Dominic's table\n",
    "d_combined = {}\n",
    "rows = [('ALA', 'SER'), ('ALA', 'CYS'), ('ALA', 'THR'), ('SER', 'CYS'), ('SER', 'THR'), ('CYS', 'THR')]\n",
    "for pair, (dg, ddg) in sorted(d_results.items()):\n",
    "    if pair in rows:\n",
    "        d_combined[pair] = [dg, ddg]\n",
    "\n",
    "for pair, (dg, ddg) in sorted(d_results.items()):\n",
    "    if pair not in d_combined:\n",
    "        reversed_pair = pair[::-1]\n",
    "        forward_solvation_dg = d_combined[reversed_pair][0]\n",
    "        forward_solvation_ddg = d_combined[reversed_pair][1]\n",
    "        d_combined[reversed_pair] += [dg, ddg, abs(forward_solvation_dg) - abs(dg), abs(forward_solvation_ddg) - abs(ddg)]\n",
    "\n"
   ]
  },
  {
   "cell_type": "code",
   "execution_count": 17,
   "metadata": {},
   "outputs": [],
   "source": [
    "# Create dataframe\n",
    "df = pd.DataFrame.from_dict(d_combined, orient='index', columns=['forward solvation dG', \n",
    "                                                            'forward solvation ddG', \n",
    "                                                            'reverse solvation dG',\n",
    "                                                            'reverse solvation ddG',\n",
    "                                                            'discrepancy dG',\n",
    "                                                            'discrepancy ddG'\n",
    "                                                           ]\n",
    "                      \n",
    "                      )"
   ]
  },
  {
   "cell_type": "code",
   "execution_count": 18,
   "metadata": {
    "scrolled": true
   },
   "outputs": [
    {
     "data": {
      "text/html": [
       "<div>\n",
       "<style scoped>\n",
       "    .dataframe tbody tr th:only-of-type {\n",
       "        vertical-align: middle;\n",
       "    }\n",
       "\n",
       "    .dataframe tbody tr th {\n",
       "        vertical-align: top;\n",
       "    }\n",
       "\n",
       "    .dataframe thead th {\n",
       "        text-align: right;\n",
       "    }\n",
       "</style>\n",
       "<table border=\"1\" class=\"dataframe\">\n",
       "  <thead>\n",
       "    <tr style=\"text-align: right;\">\n",
       "      <th></th>\n",
       "      <th>forward solvation dG</th>\n",
       "      <th>forward solvation ddG</th>\n",
       "      <th>reverse solvation dG</th>\n",
       "      <th>reverse solvation ddG</th>\n",
       "      <th>discrepancy dG</th>\n",
       "      <th>discrepancy ddG</th>\n",
       "    </tr>\n",
       "  </thead>\n",
       "  <tbody>\n",
       "    <tr>\n",
       "      <td>(ALA, SER)</td>\n",
       "      <td>0.472186</td>\n",
       "      <td>0.001255</td>\n",
       "      <td>-1.527372</td>\n",
       "      <td>0.000569</td>\n",
       "      <td>-1.055187</td>\n",
       "      <td>0.000686</td>\n",
       "    </tr>\n",
       "    <tr>\n",
       "      <td>(ALA, CYS)</td>\n",
       "      <td>-2.504708</td>\n",
       "      <td>0.001286</td>\n",
       "      <td>1.771917</td>\n",
       "      <td>0.000815</td>\n",
       "      <td>0.732791</td>\n",
       "      <td>0.000472</td>\n",
       "    </tr>\n",
       "    <tr>\n",
       "      <td>(ALA, THR)</td>\n",
       "      <td>NaN</td>\n",
       "      <td>NaN</td>\n",
       "      <td>-2.041911</td>\n",
       "      <td>0.000380</td>\n",
       "      <td>NaN</td>\n",
       "      <td>NaN</td>\n",
       "    </tr>\n",
       "    <tr>\n",
       "      <td>(SER, CYS)</td>\n",
       "      <td>-2.477176</td>\n",
       "      <td>0.000936</td>\n",
       "      <td>2.608632</td>\n",
       "      <td>0.000788</td>\n",
       "      <td>-0.131456</td>\n",
       "      <td>0.000148</td>\n",
       "    </tr>\n",
       "    <tr>\n",
       "      <td>(SER, THR)</td>\n",
       "      <td>-0.019801</td>\n",
       "      <td>0.001161</td>\n",
       "      <td>1.736611</td>\n",
       "      <td>0.000459</td>\n",
       "      <td>-1.716810</td>\n",
       "      <td>0.000702</td>\n",
       "    </tr>\n",
       "    <tr>\n",
       "      <td>(CYS, THR)</td>\n",
       "      <td>0.647007</td>\n",
       "      <td>0.001014</td>\n",
       "      <td>-2.679691</td>\n",
       "      <td>0.000291</td>\n",
       "      <td>-2.032684</td>\n",
       "      <td>0.000724</td>\n",
       "    </tr>\n",
       "  </tbody>\n",
       "</table>\n",
       "</div>"
      ],
      "text/plain": [
       "            forward solvation dG  forward solvation ddG  reverse solvation dG  \\\n",
       "(ALA, SER)              0.472186               0.001255             -1.527372   \n",
       "(ALA, CYS)             -2.504708               0.001286              1.771917   \n",
       "(ALA, THR)                   NaN                    NaN             -2.041911   \n",
       "(SER, CYS)             -2.477176               0.000936              2.608632   \n",
       "(SER, THR)             -0.019801               0.001161              1.736611   \n",
       "(CYS, THR)              0.647007               0.001014             -2.679691   \n",
       "\n",
       "            reverse solvation ddG  discrepancy dG  discrepancy ddG  \n",
       "(ALA, SER)               0.000569       -1.055187         0.000686  \n",
       "(ALA, CYS)               0.000815        0.732791         0.000472  \n",
       "(ALA, THR)               0.000380             NaN              NaN  \n",
       "(SER, CYS)               0.000788       -0.131456         0.000148  \n",
       "(SER, THR)               0.000459       -1.716810         0.000702  \n",
       "(CYS, THR)               0.000291       -2.032684         0.000724  "
      ]
     },
     "execution_count": 18,
     "metadata": {},
     "output_type": "execute_result"
    }
   ],
   "source": [
    "df.reindex(index=rows)"
   ]
  },
  {
   "cell_type": "markdown",
   "metadata": {},
   "source": [
    "## Plot forward work distributions for default vs sqrt electrostatics"
   ]
  },
  {
   "cell_type": "code",
   "execution_count": 3,
   "metadata": {},
   "outputs": [
    {
     "name": "stderr",
     "output_type": "stream",
     "text": [
      "/home/zhangi/miniconda3/envs/perses-sims/lib/python3.7/site-packages/ipykernel_launcher.py:9: TqdmDeprecationWarning: This function will be removed in tqdm==5.0.0\n",
      "Please use `tqdm.notebook.tqdm` instead of `tqdm.tqdm_notebook`\n",
      "  if __name__ == '__main__':\n"
     ]
    },
    {
     "data": {
      "application/vnd.jupyter.widget-view+json": {
       "model_id": "85693d06867643509d2f3c481af091de",
       "version_major": 2,
       "version_minor": 0
      },
      "text/plain": [
       "HBox(children=(FloatProgress(value=0.0, max=10.0), HTML(value='')))"
      ]
     },
     "metadata": {},
     "output_type": "display_data"
    },
    {
     "name": "stdout",
     "output_type": "stream",
     "text": [
      "job: 0\n",
      "job: 1\n",
      "job: 2\n",
      "job: 3\n",
      "job: 4\n",
      "job: 5\n",
      "job: 6\n",
      "job: 7\n",
      "job: 8\n",
      "job: 9\n",
      "\n"
     ]
    }
   ],
   "source": [
    "# Get works for ALA -> SER (default protocol)\n",
    "\n",
    "i = 1 # (ALA -> SER)\n",
    "# Load and combine arrays\n",
    "forward_solvent_arrays = []\n",
    "reverse_solvent_arrays = []\n",
    "forward_vacuum_arrays = []\n",
    "reverse_vacuum_arrays = []\n",
    "for j in tqdm_notebook(range(10)):\n",
    "    print(f\"job: {j}\")\n",
    "    forward_solvent_path = f'/data/chodera/zhangi/perses_benchmark/neq/3/{i}/{i}_solvent_{j}_forward.npy'\n",
    "    reverse_solvent_path = f'/data/chodera/zhangi/perses_benchmark/neq/3/{i}/{i}_solvent_{j}_reverse.npy'\n",
    "    forward_vacuum_path = f'/data/chodera/zhangi/perses_benchmark/neq/3/{i}/{i}_vacuum_{j}_forward.npy'\n",
    "    reverse_vacuum_path = f'/data/chodera/zhangi/perses_benchmark/neq/3/{i}/{i}_vacuum_{j}_reverse.npy'\n",
    "    if os.path.exists(forward_solvent_path):\n",
    "        with open(forward_solvent_path, 'rb') as f:\n",
    "            forward_solvent_arrays.append(np.load(f))\n",
    "    if os.path.exists(reverse_solvent_path):\n",
    "        with open(reverse_solvent_path, 'rb') as f:\n",
    "            reverse_solvent_arrays.append(np.load(f))\n",
    "    if os.path.exists(forward_vacuum_path):\n",
    "        with open(forward_vacuum_path, 'rb') as f:\n",
    "            forward_vacuum_arrays.append(np.load(f))\n",
    "    if os.path.exists(reverse_vacuum_path):\n",
    "        with open(reverse_vacuum_path, 'rb') as f:\n",
    "            reverse_vacuum_arrays.append(np.load(f))\n",
    "if forward_solvent_arrays and reverse_solvent_arrays and forward_vacuum_arrays and reverse_vacuum_arrays:\n",
    "    forward_solvent_combined = np.concatenate(forward_solvent_arrays)\n",
    "    reverse_solvent_combined = np.concatenate(reverse_solvent_arrays)\n",
    "    forward_vacuum_combined = np.concatenate(forward_vacuum_arrays)\n",
    "    reverse_vacuum_combined = np.concatenate(reverse_vacuum_arrays)\n",
    "\n",
    "\n",
    "# Substract offset\n",
    "forward_work_offset_sol = []\n",
    "for cycle in forward_solvent_combined:\n",
    "    forward_work_offset_sol.append(np.array([val - cycle[0] for val in cycle[1:]]))\n",
    "forward_work_offset_sol = np.array(forward_work_offset_sol)\n",
    "\n",
    "forward_work_offset_vac = []\n",
    "for cycle in forward_vacuum_combined:\n",
    "    forward_work_offset_vac.append(np.array([val - cycle[0] for val in cycle[1:]]))\n",
    "forward_work_offset_vac = np.array(forward_work_offset_vac)\n"
   ]
  },
  {
   "cell_type": "code",
   "execution_count": 4,
   "metadata": {},
   "outputs": [
    {
     "name": "stderr",
     "output_type": "stream",
     "text": [
      "/home/zhangi/miniconda3/envs/perses-sims/lib/python3.7/site-packages/ipykernel_launcher.py:9: TqdmDeprecationWarning: This function will be removed in tqdm==5.0.0\n",
      "Please use `tqdm.notebook.tqdm` instead of `tqdm.tqdm_notebook`\n",
      "  if __name__ == '__main__':\n"
     ]
    },
    {
     "data": {
      "application/vnd.jupyter.widget-view+json": {
       "model_id": "09bd27e78327499a876b95c4ff274149",
       "version_major": 2,
       "version_minor": 0
      },
      "text/plain": [
       "HBox(children=(FloatProgress(value=0.0, max=10.0), HTML(value='')))"
      ]
     },
     "metadata": {},
     "output_type": "display_data"
    },
    {
     "name": "stdout",
     "output_type": "stream",
     "text": [
      "job: 0\n",
      "job: 1\n",
      "job: 2\n",
      "job: 3\n",
      "job: 4\n",
      "job: 5\n",
      "job: 6\n",
      "job: 7\n",
      "job: 8\n",
      "job: 9\n",
      "\n"
     ]
    }
   ],
   "source": [
    "# Get works for ALA -> SER (sqrt protocol)\n",
    "\n",
    "i = 1 # (ALA -> SER)\n",
    "# Load and combine arrays\n",
    "forward_solvent_arrays = []\n",
    "reverse_solvent_arrays = []\n",
    "forward_vacuum_arrays = []\n",
    "reverse_vacuum_arrays = []\n",
    "for j in tqdm_notebook(range(10)):\n",
    "    print(f\"job: {j}\")\n",
    "    forward_solvent_path = f'/data/chodera/zhangi/perses_benchmark/neq/2/{i}/{i}_solvent_{j}_forward.npy'\n",
    "    reverse_solvent_path = f'/data/chodera/zhangi/perses_benchmark/neq/2/{i}/{i}_solvent_{j}_reverse.npy'\n",
    "    forward_vacuum_path = f'/data/chodera/zhangi/perses_benchmark/neq/2/{i}/{i}_vacuum_{j}_forward.npy'\n",
    "    reverse_vacuum_path = f'/data/chodera/zhangi/perses_benchmark/neq/2/{i}/{i}_vacuum_{j}_reverse.npy'\n",
    "    if os.path.exists(forward_solvent_path):\n",
    "        with open(forward_solvent_path, 'rb') as f:\n",
    "            forward_solvent_arrays.append(np.load(f))\n",
    "    if os.path.exists(reverse_solvent_path):\n",
    "        with open(reverse_solvent_path, 'rb') as f:\n",
    "            reverse_solvent_arrays.append(np.load(f))\n",
    "    if os.path.exists(forward_vacuum_path):\n",
    "        with open(forward_vacuum_path, 'rb') as f:\n",
    "            forward_vacuum_arrays.append(np.load(f))\n",
    "    if os.path.exists(reverse_vacuum_path):\n",
    "        with open(reverse_vacuum_path, 'rb') as f:\n",
    "            reverse_vacuum_arrays.append(np.load(f))\n",
    "if forward_solvent_arrays and reverse_solvent_arrays and forward_vacuum_arrays and reverse_vacuum_arrays:\n",
    "    forward_solvent_combined = np.concatenate(forward_solvent_arrays)\n",
    "    reverse_solvent_combined = np.concatenate(reverse_solvent_arrays)\n",
    "    forward_vacuum_combined = np.concatenate(forward_vacuum_arrays)\n",
    "    reverse_vacuum_combined = np.concatenate(reverse_vacuum_arrays)\n",
    "\n",
    "\n",
    "# Substract offset\n",
    "forward_work_offset_sol_2 = []\n",
    "for cycle in forward_solvent_combined:\n",
    "    forward_work_offset_sol_2.append(np.array([val - cycle[0] for val in cycle[1:]]))\n",
    "forward_work_offset_sol_2 = np.array(forward_work_offset_sol_2)\n",
    "\n",
    "forward_work_offset_vac_2 = []\n",
    "for cycle in forward_solvent_combined:\n",
    "    forward_work_offset_vac_2.append(np.array([val - cycle[0] for val in cycle[1:]]))\n",
    "forward_work_offset_vac_2 = np.array(forward_work_offset_vac_2)\n"
   ]
  },
  {
   "cell_type": "code",
   "execution_count": 22,
   "metadata": {},
   "outputs": [
    {
     "data": {
      "text/plain": [
       "Text(0.5, 1.0, 'ALA -> SER solvent')"
      ]
     },
     "execution_count": 22,
     "metadata": {},
     "output_type": "execute_result"
    },
    {
     "data": {
      "image/png": "[encoded data removed]",
      "text/plain": [
       "<Figure size 432x288 with 1 Axes>"
      ]
     },
     "metadata": {
      "needs_background": "light"
     },
     "output_type": "display_data"
    }
   ],
   "source": [
    "# Plot forward work distributions for solvent\n",
    "accumulated_forward_sol = [cycle[-1] for cycle in forward_work_offset_sol]\n",
    "sns.distplot(accumulated_forward_sol, color='darkblue', label='default')\n",
    "accumulated_forward_sol_2 = [cycle[-1] for cycle in forward_work_offset_sol_2]\n",
    "sns.distplot(accumulated_forward_sol_2, color='lightblue', label='sqrt')\n",
    "plt.legend(loc='best')\n",
    "plt.xlabel(\"work (kT)\")\n",
    "plt.ylabel(\"p(w)\")\n",
    "plt.title(f\"{pairs[1][0]} -> {pairs[1][1]} solvent\")\n",
    "# plt.savefig(os.path.join(output_dir, f\"{dir_num}_{phase}_work_dist.png\"), dpi=500)\n",
    "# plt.clf()\n"
   ]
  },
  {
   "cell_type": "code",
   "execution_count": 23,
   "metadata": {},
   "outputs": [
    {
     "data": {
      "text/plain": [
       "Text(0.5, 1.0, 'ALA -> SER vacuum')"
      ]
     },
     "execution_count": 23,
     "metadata": {},
     "output_type": "execute_result"
    },
    {
     "data": {
      "image/png": "[encoded data removed]",
      "text/plain": [
       "<Figure size 432x288 with 1 Axes>"
      ]
     },
     "metadata": {
      "needs_background": "light"
     },
     "output_type": "display_data"
    }
   ],
   "source": [
    "# Plot forward work distributions for vacuum\n",
    "accumulated_forward_vac = [cycle[-1] for cycle in forward_work_offset_vac]\n",
    "sns.distplot(accumulated_forward_vac, color='darkblue', label='default')\n",
    "accumulated_forward_vac_2 = [cycle[-1] for cycle in forward_work_offset_vac_2]\n",
    "sns.distplot(accumulated_forward_vac_2, color='lightblue', label='sqrt')\n",
    "plt.legend(loc='best')\n",
    "plt.xlabel(\"work (kT)\")\n",
    "plt.ylabel(\"p(w)\")\n",
    "plt.title(f\"{pairs[1][0]} -> {pairs[1][1]} vacuum\")\n",
    "# plt.savefig(os.path.join(output_dir, f\"{dir_num}_{phase}_work_dist.png\"), dpi=500)\n",
    "# plt.clf()\n"
   ]
  },
  {
   "cell_type": "code",
   "execution_count": 19,
   "metadata": {},
   "outputs": [
    {
     "data": {
      "image/png": "[encoded data removed]",
      "text/plain": [
       "<Figure size 432x288 with 1 Axes>"
      ]
     },
     "metadata": {
      "needs_background": "light"
     },
     "output_type": "display_data"
    }
   ],
   "source": [
    "# Plot forward work trajectories for solvent\n",
    "for i, cycle in enumerate(forward_work_offset_sol):\n",
    "    x = [(i+1)*4e-3 for i in range(len(list(cycle)))]\n",
    "    y = cycle\n",
    "    if i == 0:\n",
    "        plt.plot(x, y, color='darkblue', label='default')\n",
    "    else:\n",
    "        plt.plot(x, y, color='darkblue')\n",
    "for i, cycle in enumerate(forward_work_offset_sol_2):\n",
    "    x = [(i+1)*4e-3 for i in range(len(list(cycle)))]\n",
    "    y = cycle\n",
    "    if i == 0:\n",
    "         plt.plot(x, y, color='lightblue', label='sqrt')\n",
    "    else:\n",
    "        plt.plot(x, y, color='lightblue')\n",
    "plt.legend(loc='best')\n",
    "plt.xlabel(\"$t_{neq}$ (ps)\")\n",
    "plt.ylabel(\"work (kT)\")\n",
    "plt.title(f\"{pairs[1][0]} -> {pairs[1][1]} solvent\")\n",
    "plt.show()\n",
    "# plt.savefig(os.path.join(output_dir, f\"{dir_num}_{phase}_work_traj.png\"), dpi=500)\n",
    "# plt.clf()"
   ]
  },
  {
   "cell_type": "code",
   "execution_count": 18,
   "metadata": {},
   "outputs": [
    {
     "data": {
      "image/png": "[encoded data removed]",
      "text/plain": [
       "<Figure size 432x288 with 1 Axes>"
      ]
     },
     "metadata": {
      "needs_background": "light"
     },
     "output_type": "display_data"
    }
   ],
   "source": [
    "# Plot forward work trajectories for vacuum\n",
    "for i, cycle in enumerate(forward_work_offset_vac):\n",
    "    x = [(i+1)*4e-3 for i in range(len(list(cycle)))]\n",
    "    y = cycle\n",
    "    if i == 0:\n",
    "        plt.plot(x, y, color='darkblue', label='default')\n",
    "    else:\n",
    "        plt.plot(x, y, color='darkblue')\n",
    "for i, cycle in enumerate(forward_work_offset_vac_2):\n",
    "    x = [(i+1)*4e-3 for i in range(len(list(cycle)))]\n",
    "    y = cycle\n",
    "    if i == 0:\n",
    "         plt.plot(x, y, color='lightblue', label='sqrt')\n",
    "    else:\n",
    "        plt.plot(x, y, color='lightblue')\n",
    "plt.legend(loc='best')\n",
    "plt.xlabel(\"$t_{neq}$ (ps)\")\n",
    "plt.ylabel(\"work (kT)\")\n",
    "plt.title(f\"{pairs[1][0]} -> {pairs[1][1]} vacuum\")\n",
    "plt.show()\n",
    "# plt.savefig(os.path.join(output_dir, f\"{dir_num}_{phase}_work_traj.png\"), dpi=500)\n",
    "# plt.clf()"
   ]
  },
  {
   "cell_type": "code",
   "execution_count": null,
   "metadata": {},
   "outputs": [],
   "source": []
  }
 ],
 "metadata": {
  "kernelspec": {
   "display_name": "Python 3",
   "language": "python",
   "name": "python3"
  },
  "language_info": {
   "codemirror_mode": {
    "name": "ipython",
    "version": 3
   },
   "file_extension": ".py",
   "mimetype": "text/x-python",
   "name": "python",
   "nbconvert_exporter": "python",
   "pygments_lexer": "ipython3",
   "version": "3.7.3"
  }
 },
 "nbformat": 4,
 "nbformat_minor": 4
}
