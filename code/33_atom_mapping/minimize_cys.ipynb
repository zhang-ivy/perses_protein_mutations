{
 "cells": [
  {
   "cell_type": "code",
   "execution_count": 2,
   "id": "6dca1a6f",
   "metadata": {},
   "outputs": [],
   "source": [
    "import openmm\n",
    "from openmm import app, unit\n",
    "import pickle"
   ]
  },
  {
   "cell_type": "code",
   "execution_count": 3,
   "id": "83245504",
   "metadata": {},
   "outputs": [],
   "source": [
    "pdb = app.PDBFile(\"/data/chodera/zhangi/perses_benchmark/neq/14/177/apo_new.pdb\")"
   ]
  },
  {
   "cell_type": "code",
   "execution_count": 4,
   "id": "90a8e545",
   "metadata": {},
   "outputs": [
    {
     "name": "stderr",
     "output_type": "stream",
     "text": [
      "Warning: importing 'simtk.openmm' is deprecated.  Import 'openmm' instead.\n",
      "INFO:rdkit:Enabling RDKit 2021.09.4 jupyter extensions\n"
     ]
    }
   ],
   "source": [
    "with open(\"/data/chodera/zhangi/perses_benchmark/neq/14/177/177_apo.pickle\", \"rb\") as f:\n",
    "    htf = pickle.load(f)"
   ]
  },
  {
   "cell_type": "code",
   "execution_count": 5,
   "id": "7158be3d",
   "metadata": {},
   "outputs": [],
   "source": [
    "system = htf._topology_proposal.new_system\n",
    "positions = pdb.positions"
   ]
  },
  {
   "cell_type": "code",
   "execution_count": 6,
   "id": "1d2eb99e",
   "metadata": {},
   "outputs": [],
   "source": [
    "temperature = 300 * unit.kelvin\n",
    "collision_rate = 1/unit.picosecond\n",
    "timestep = 4* unit.femtosecond\n",
    "integrator = openmm.LangevinMiddleIntegrator(temperature, collision_rate, timestep)\n",
    "    \n",
    "# Set up context\n",
    "platform_name = 'CUDA'\n",
    "platform = openmm.Platform.getPlatformByName(platform_name)\n",
    "if platform_name in ['CUDA', 'OpenCL']:\n",
    "    platform.setPropertyDefaultValue('Precision', 'mixed')\n",
    "if platform_name in ['CUDA']:\n",
    "    platform.setPropertyDefaultValue('DeterministicForces', 'true')\n",
    "\n",
    "context = openmm.Context(system, integrator, platform)\n",
    "context.setPeriodicBoxVectors(*system.getDefaultPeriodicBoxVectors())\n",
    "context.setPositions(positions)\n",
    "context.setVelocitiesToTemperature(temperature)\n",
    "\n",
    "openmm.LocalEnergyMinimizer.minimize(context)"
   ]
  },
  {
   "cell_type": "code",
   "execution_count": 7,
   "id": "bde2cd4c",
   "metadata": {},
   "outputs": [],
   "source": [
    "state = context.getState(getPositions=True)"
   ]
  },
  {
   "cell_type": "code",
   "execution_count": 8,
   "id": "5eefae14",
   "metadata": {},
   "outputs": [],
   "source": [
    "app.PDBFile.writeFile(htf._topology_proposal.new_topology, state.getPositions(asNumpy=True), open(\"/data/chodera/zhangi/perses_benchmark/neq/14/177/apo_new_minimized.pdb\", \"w\"), keepIds=True)"
   ]
  },
  {
   "cell_type": "code",
   "execution_count": null,
   "id": "c2fb2b51",
   "metadata": {},
   "outputs": [],
   "source": []
  }
 ],
 "metadata": {
  "kernelspec": {
   "display_name": "Python 3 (ipykernel)",
   "language": "python",
   "name": "python3"
  },
  "language_info": {
   "codemirror_mode": {
    "name": "ipython",
    "version": 3
   },
   "file_extension": ".py",
   "mimetype": "text/x-python",
   "name": "python",
   "nbconvert_exporter": "python",
   "pygments_lexer": "ipython3",
   "version": "3.9.9"
  }
 },
 "nbformat": 4,
 "nbformat_minor": 5
}
