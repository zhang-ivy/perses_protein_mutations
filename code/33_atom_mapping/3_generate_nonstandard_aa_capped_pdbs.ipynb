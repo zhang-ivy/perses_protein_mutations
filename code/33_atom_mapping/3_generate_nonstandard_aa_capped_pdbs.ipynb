{
 "cells": [
  {
   "cell_type": "code",
   "execution_count": 11,
   "id": "30af426f",
   "metadata": {},
   "outputs": [],
   "source": [
    "from perses.tests.test_topology_proposal import generate_atp, generate_dipeptide_top_pos_sys\n",
    "from openmm import app, unit\n",
    "import openmm"
   ]
  },
  {
   "cell_type": "code",
   "execution_count": 7,
   "id": "b56fa1a3",
   "metadata": {},
   "outputs": [
    {
     "name": "stderr",
     "output_type": "stream",
     "text": [
      "DEBUG:openmmforcefields.system_generators:Trying GAFFTemplateGenerator to load gaff-2.11\n",
      "INFO:proposal_generator:\tConducting polymer point mutation proposal...\n",
      "INFO:proposal_generator:local_atom_map: {6: 6, 7: 7, 8: 8, 9: 9, 10: 10, 13: 14, 14: 15}\n",
      "INFO:proposal_generator:the mapped atom names are: [('N', 'N'), ('H', 'H'), ('CA', 'CA'), ('HA', 'HA'), ('CB', 'CB'), ('C', 'C'), ('O', 'O')]\n",
      "INFO:geometry:propose: performing forward proposal\n",
      "INFO:geometry:propose: unique new atoms detected; proceeding to _logp_propose...\n",
      "INFO:geometry:Conducting forward proposal...\n",
      "INFO:geometry:Computing proposal order with NetworkX...\n",
      "INFO:geometry:number of atoms to be placed: 6\n",
      "INFO:geometry:Atom index proposal order is [15, 17, 16, 12, 18, 11]\n",
      "INFO:geometry:omitted_bonds: []\n",
      "INFO:geometry:direction of proposal is forward; creating atoms_with_positions and new positions from old system/topology...\n",
      "INFO:geometry:creating growth system...\n",
      "INFO:geometry:\tcreating bond force...\n",
      "INFO:geometry:\tthere are 12 bonds in reference force.\n",
      "INFO:geometry:\tcreating angle force...\n",
      "INFO:geometry:\tthere are 40 angles in reference force.\n",
      "INFO:geometry:\tcreating torsion force...\n",
      "INFO:geometry:\tcreating extra torsions force...\n",
      "INFO:geometry:\tthere are 63 torsions in reference force.\n",
      "INFO:geometry:\tcreating nonbonded force...\n",
      "INFO:geometry:\t\tgrabbing reference nonbonded method, cutoff, switching function, switching distance...\n",
      "INFO:geometry:\t\tcreating nonbonded exception force (i.e. custom bond for 1,4s)...\n",
      "INFO:geometry:\t\tlooping through exceptions calculating growth indices, and adding appropriate interactions to custom bond force.\n",
      "INFO:geometry:\t\tthere are 113 in the reference Nonbonded force\n",
      "INFO:geometry:Neglected angle terms : []\n",
      "INFO:geometry:omitted_growth_terms: {'bonds': [], 'angles': [], 'torsions': [], '1,4s': []}\n",
      "INFO:geometry:extra torsions: {0: (16, 15, 17, 18, [1, Quantity(value=-0.0005181420013453675, unit=radian), Quantity(value=1200.0, unit=kilocalorie/mole), 5]), 1: (10, 15, 17, 18, [1, Quantity(value=3.0984604445761033, unit=radian), Quantity(value=1200.0, unit=kilocalorie/mole), 5])}\n",
      "INFO:geometry:neglected angle terms include []\n",
      "INFO:geometry:log probability choice of torsions and atom order: -7.83201418050547\n",
      "INFO:geometry:creating platform, integrators, and contexts; setting growth parameter\n"
     ]
    },
    {
     "name": "stdout",
     "output_type": "stream",
     "text": [
      "ASH\n",
      "making topology proposal\n",
      "generating geometry engine\n",
      "making geometry proposal from ALA to ASH\n",
      "conducting subsequent work with the following platform: CUDA\n"
     ]
    },
    {
     "name": "stderr",
     "output_type": "stream",
     "text": [
      "INFO:geometry:setting atoms_with_positions context new positions\n"
     ]
    },
    {
     "name": "stdout",
     "output_type": "stream",
     "text": [
      "conducting subsequent work with the following platform: CUDA\n"
     ]
    },
    {
     "name": "stderr",
     "output_type": "stream",
     "text": [
      "INFO:geometry:There are 6 new atoms\n",
      "INFO:geometry:\treduced angle potential = 0.08150166034182471.\n",
      "INFO:geometry:\treduced angle potential = 0.6319524543014309.\n",
      "INFO:geometry:\treduced angle potential = 0.14180926115720335.\n",
      "INFO:geometry:\treduced angle potential = 0.5924665936504275.\n",
      "INFO:geometry:\treduced angle potential = 3.022034057558158.\n",
      "INFO:geometry:\treduced angle potential = 0.4019897030767764.\n",
      "INFO:geometry:\tbeginning construction of no_nonbonded final system...\n",
      "INFO:geometry:\tinitial no-nonbonded final system forces ['HarmonicBondForce', 'HarmonicAngleForce', 'PeriodicTorsionForce', 'NonbondedForce']\n",
      "INFO:geometry:\tfinal no-nonbonded final system forces dict_keys(['HarmonicBondForce', 'HarmonicAngleForce', 'PeriodicTorsionForce', 'NonbondedForce'])\n",
      "INFO:geometry:\tthere are 12 bond forces in the no-nonbonded final system\n",
      "INFO:geometry:\tthere are 40 angle forces in the no-nonbonded final system\n",
      "INFO:geometry:\tthere are 63 torsion forces in the no-nonbonded final system\n",
      "INFO:geometry:forward final system defined with 0 neglected angles.\n"
     ]
    },
    {
     "name": "stdout",
     "output_type": "stream",
     "text": [
      "conducting subsequent work with the following platform: CUDA\n",
      "conducting subsequent work with the following platform: CUDA\n"
     ]
    },
    {
     "name": "stderr",
     "output_type": "stream",
     "text": [
      "INFO:geometry:total reduced potential before atom placement: 16.81406823661637\n"
     ]
    },
    {
     "name": "stdout",
     "output_type": "stream",
     "text": [
      "conducting subsequent work with the following platform: CUDA\n",
      "conducting subsequent work with the following platform: CUDA\n",
      "conducting subsequent work with the following platform: CUDA\n"
     ]
    },
    {
     "name": "stderr",
     "output_type": "stream",
     "text": [
      "INFO:geometry:total reduced energy added from growth system: -18.91348627530604\n",
      "INFO:geometry:final reduced energy -2.0994190973718214\n",
      "INFO:geometry:sum of energies: -2.09941803868967\n",
      "INFO:geometry:magnitude of difference in the energies: 1.0586821517222234e-06\n",
      "INFO:geometry:Final logp_proposal: 40.891239559727154\n"
     ]
    },
    {
     "name": "stdout",
     "output_type": "stream",
     "text": [
      "added energy components: [('CustomBondForce', 2.604222988075782), ('CustomAngleForce', 16.63911622778396), ('CustomTorsionForce', 10.673130282565436), ('CustomBondForce', -48.829955773731214)]\n"
     ]
    },
    {
     "name": "stderr",
     "output_type": "stream",
     "text": [
      "INFO:geometry:logp_reverse: performing reverse proposal\n",
      "INFO:geometry:logp_reverse: unique new atoms detected; proceeding to _logp_propose...\n",
      "INFO:geometry:Conducting forward proposal...\n",
      "INFO:geometry:Computing proposal order with NetworkX...\n",
      "INFO:geometry:number of atoms to be placed: 3\n",
      "INFO:geometry:Atom index proposal order is [13, 11, 12]\n",
      "INFO:geometry:omitted_bonds: []\n",
      "INFO:geometry:direction of proposal is reverse; creating atoms_with_positions from old system/topology\n",
      "INFO:geometry:creating growth system...\n",
      "INFO:geometry:\tcreating bond force...\n",
      "INFO:geometry:\tthere are 9 bonds in reference force.\n",
      "INFO:geometry:\tcreating angle force...\n",
      "INFO:geometry:\tthere are 36 angles in reference force.\n",
      "INFO:geometry:\tcreating torsion force...\n",
      "INFO:geometry:\tcreating extra torsions force...\n",
      "INFO:geometry:\tthere are 42 torsions in reference force.\n",
      "INFO:geometry:\tcreating nonbonded force...\n",
      "INFO:geometry:\t\tgrabbing reference nonbonded method, cutoff, switching function, switching distance...\n",
      "INFO:geometry:\t\tcreating nonbonded exception force (i.e. custom bond for 1,4s)...\n",
      "INFO:geometry:\t\tlooping through exceptions calculating growth indices, and adding appropriate interactions to custom bond force.\n",
      "INFO:geometry:\t\tthere are 98 in the reference Nonbonded force\n",
      "INFO:geometry:Neglected angle terms : []\n",
      "INFO:geometry:omitted_growth_terms: {'bonds': [], 'angles': [], 'torsions': [], '1,4s': []}\n",
      "INFO:geometry:extra torsions: {0: (6, 8, 10, 11, [1, Quantity(value=2.105358864604291, unit=radian), Quantity(value=1200.0, unit=kilocalorie/mole), 2]), 1: (6, 8, 10, 12, [1, Quantity(value=-2.0823006129211796, unit=radian), Quantity(value=1200.0, unit=kilocalorie/mole), 3]), 2: (6, 8, 10, 13, [1, Quantity(value=0.018582237407944735, unit=radian), Quantity(value=1200.0, unit=kilocalorie/mole), 1]), 3: (14, 8, 10, 11, [1, Quantity(value=-0.036945135932107576, unit=radian), Quantity(value=1200.0, unit=kilocalorie/mole), 2]), 4: (14, 8, 10, 12, [1, Quantity(value=2.0585806937220097, unit=radian), Quantity(value=1200.0, unit=kilocalorie/mole), 3]), 5: (14, 8, 10, 13, [1, Quantity(value=-2.1237217631284597, unit=radian), Quantity(value=1200.0, unit=kilocalorie/mole), 1]), 6: (9, 8, 10, 11, [1, Quantity(value=-2.119603470065817, unit=radian), Quantity(value=1200.0, unit=kilocalorie/mole), 2]), 7: (9, 8, 10, 12, [1, Quantity(value=-0.024077640411697132, unit=radian), Quantity(value=1200.0, unit=kilocalorie/mole), 3]), 8: (9, 8, 10, 13, [1, Quantity(value=2.0768052099174152, unit=radian), Quantity(value=1200.0, unit=kilocalorie/mole), 1])}\n",
      "INFO:geometry:neglected angle terms include []\n",
      "INFO:geometry:log probability choice of torsions and atom order: -5.0875963352323845\n",
      "INFO:geometry:creating platform, integrators, and contexts; setting growth parameter\n"
     ]
    },
    {
     "name": "stdout",
     "output_type": "stream",
     "text": [
      "conducting subsequent work with the following platform: CUDA\n"
     ]
    },
    {
     "name": "stderr",
     "output_type": "stream",
     "text": [
      "INFO:geometry:setting atoms_with_positions context old positions\n"
     ]
    },
    {
     "name": "stdout",
     "output_type": "stream",
     "text": [
      "conducting subsequent work with the following platform: CUDA\n"
     ]
    },
    {
     "name": "stderr",
     "output_type": "stream",
     "text": [
      "INFO:geometry:There are 3 new atoms\n",
      "INFO:geometry:\treduced angle potential = 7.39096069988752e-11.\n",
      "INFO:geometry:\treduced angle potential = 1.2915588460963948e-10.\n",
      "INFO:geometry:\treduced angle potential = 3.2058324695160406e-13.\n",
      "INFO:geometry:\tbeginning construction of no_nonbonded final system...\n",
      "INFO:geometry:\tinitial no-nonbonded final system forces ['HarmonicBondForce', 'HarmonicAngleForce', 'PeriodicTorsionForce', 'NonbondedForce']\n",
      "INFO:geometry:\tfinal no-nonbonded final system forces dict_keys(['HarmonicBondForce', 'HarmonicAngleForce', 'PeriodicTorsionForce', 'NonbondedForce'])\n",
      "INFO:geometry:\tthere are 9 bond forces in the no-nonbonded final system\n",
      "INFO:geometry:\tthere are 36 angle forces in the no-nonbonded final system\n",
      "INFO:geometry:\tthere are 42 torsion forces in the no-nonbonded final system\n",
      "INFO:geometry:reverse final system defined with 0 neglected angles.\n"
     ]
    },
    {
     "name": "stdout",
     "output_type": "stream",
     "text": [
      "conducting subsequent work with the following platform: CUDA\n",
      "conducting subsequent work with the following platform: CUDA\n"
     ]
    },
    {
     "name": "stderr",
     "output_type": "stream",
     "text": [
      "INFO:geometry:total reduced potential before atom placement: 16.81406823661637\n"
     ]
    },
    {
     "name": "stdout",
     "output_type": "stream",
     "text": [
      "conducting subsequent work with the following platform: CUDA\n",
      "conducting subsequent work with the following platform: CUDA\n",
      "conducting subsequent work with the following platform: CUDA\n"
     ]
    },
    {
     "name": "stderr",
     "output_type": "stream",
     "text": [
      "INFO:geometry:total reduced energy added from growth system: 8.816525576567852\n",
      "INFO:geometry:final reduced energy 25.630593424131863\n",
      "INFO:geometry:sum of energies: 25.630593813184223\n",
      "INFO:geometry:magnitude of difference in the energies: 3.8905236010577937e-07\n",
      "INFO:geometry:Final logp_proposal: -26906.743141284824\n"
     ]
    },
    {
     "name": "stdout",
     "output_type": "stream",
     "text": [
      "added energy components: [('CustomBondForce', 0.0), ('CustomAngleForce', 0.00017810081275281765), ('CustomTorsionForce', 0.004336831234072134), ('CustomBondForce', 8.812010644521031)]\n"
     ]
    },
    {
     "name": "stderr",
     "output_type": "stream",
     "text": [
      "INFO:proposal_generator:\tConducting polymer point mutation proposal...\n",
      "INFO:proposal_generator:local_atom_map: {6: 6, 7: 7, 8: 8, 9: 9, 10: 10, 13: 14, 14: 15}\n",
      "INFO:proposal_generator:the mapped atom names are: [('N', 'N'), ('H', 'H'), ('CA', 'CA'), ('HA', 'HA'), ('CB', 'CB'), ('C', 'C'), ('O', 'O')]\n",
      "INFO:geometry:propose: performing forward proposal\n",
      "INFO:geometry:propose: unique new atoms detected; proceeding to _logp_propose...\n",
      "INFO:geometry:Conducting forward proposal...\n",
      "INFO:geometry:Computing proposal order with NetworkX...\n",
      "INFO:geometry:number of atoms to be placed: 9\n",
      "INFO:geometry:Atom index proposal order is [15, 18, 19, 20, 11, 16, 12, 21, 17]\n",
      "INFO:geometry:omitted_bonds: []\n",
      "INFO:geometry:direction of proposal is forward; creating atoms_with_positions and new positions from old system/topology...\n",
      "INFO:geometry:creating growth system...\n",
      "INFO:geometry:\tcreating bond force...\n",
      "INFO:geometry:\tthere are 13 bonds in reference force.\n",
      "INFO:geometry:\tcreating angle force...\n",
      "INFO:geometry:\tthere are 46 angles in reference force.\n",
      "INFO:geometry:\tcreating torsion force...\n",
      "INFO:geometry:\tcreating extra torsions force...\n",
      "INFO:geometry:\tthere are 75 torsions in reference force.\n",
      "INFO:geometry:\tcreating nonbonded force...\n",
      "INFO:geometry:\t\tgrabbing reference nonbonded method, cutoff, switching function, switching distance...\n",
      "INFO:geometry:\t\tcreating nonbonded exception force (i.e. custom bond for 1,4s)...\n",
      "INFO:geometry:\t\tlooping through exceptions calculating growth indices, and adding appropriate interactions to custom bond force.\n",
      "INFO:geometry:\t\tthere are 131 in the reference Nonbonded force\n",
      "INFO:geometry:Neglected angle terms : []\n",
      "INFO:geometry:omitted_growth_terms: {'bonds': [], 'angles': [], 'torsions': [], '1,4s': []}\n",
      "INFO:geometry:extra torsions: {0: (15, 18, 20, 21, [1, Quantity(value=-3.1271215633053093, unit=radian), Quantity(value=1200.0, unit=kilocalorie/mole), 8]), 1: (19, 18, 20, 21, [1, Quantity(value=0.0003197496772782138, unit=radian), Quantity(value=1200.0, unit=kilocalorie/mole), 8])}\n",
      "INFO:geometry:neglected angle terms include []\n",
      "INFO:geometry:log probability choice of torsions and atom order: -13.156648855370879\n",
      "INFO:geometry:creating platform, integrators, and contexts; setting growth parameter\n"
     ]
    },
    {
     "name": "stdout",
     "output_type": "stream",
     "text": [
      "GLH\n",
      "making topology proposal\n",
      "generating geometry engine\n",
      "making geometry proposal from ALA to GLH\n",
      "conducting subsequent work with the following platform: CUDA\n"
     ]
    },
    {
     "name": "stderr",
     "output_type": "stream",
     "text": [
      "INFO:geometry:setting atoms_with_positions context new positions\n"
     ]
    },
    {
     "name": "stdout",
     "output_type": "stream",
     "text": [
      "conducting subsequent work with the following platform: CUDA\n"
     ]
    },
    {
     "name": "stderr",
     "output_type": "stream",
     "text": [
      "INFO:geometry:There are 9 new atoms\n",
      "INFO:geometry:\treduced angle potential = 0.1349391328975153.\n",
      "INFO:geometry:\treduced angle potential = 0.728160642057775.\n",
      "INFO:geometry:\treduced angle potential = 1.5447065422305184.\n",
      "INFO:geometry:\treduced angle potential = 0.005088237330089621.\n",
      "INFO:geometry:\treduced angle potential = 0.3196620714986962.\n",
      "INFO:geometry:\treduced angle potential = 1.2376218349226928.\n",
      "INFO:geometry:\treduced angle potential = 2.7714605416564465e-05.\n",
      "INFO:geometry:\treduced angle potential = 0.16135852630321393.\n",
      "INFO:geometry:\treduced angle potential = 0.08719758232769459.\n",
      "INFO:geometry:\tbeginning construction of no_nonbonded final system...\n",
      "INFO:geometry:\tinitial no-nonbonded final system forces ['HarmonicBondForce', 'HarmonicAngleForce', 'PeriodicTorsionForce', 'NonbondedForce']\n",
      "INFO:geometry:\tfinal no-nonbonded final system forces dict_keys(['HarmonicBondForce', 'HarmonicAngleForce', 'PeriodicTorsionForce', 'NonbondedForce'])\n",
      "INFO:geometry:\tthere are 13 bond forces in the no-nonbonded final system\n",
      "INFO:geometry:\tthere are 46 angle forces in the no-nonbonded final system\n",
      "INFO:geometry:\tthere are 75 torsion forces in the no-nonbonded final system\n",
      "INFO:geometry:forward final system defined with 0 neglected angles.\n"
     ]
    },
    {
     "name": "stdout",
     "output_type": "stream",
     "text": [
      "conducting subsequent work with the following platform: CUDA\n",
      "conducting subsequent work with the following platform: CUDA\n"
     ]
    },
    {
     "name": "stderr",
     "output_type": "stream",
     "text": [
      "INFO:geometry:total reduced potential before atom placement: 16.81406823661637\n"
     ]
    },
    {
     "name": "stdout",
     "output_type": "stream",
     "text": [
      "conducting subsequent work with the following platform: CUDA\n",
      "conducting subsequent work with the following platform: CUDA\n",
      "conducting subsequent work with the following platform: CUDA\n"
     ]
    },
    {
     "name": "stderr",
     "output_type": "stream",
     "text": [
      "INFO:geometry:total reduced energy added from growth system: -14.433083941132638\n",
      "INFO:geometry:final reduced energy 2.3809829450591327\n",
      "INFO:geometry:sum of energies: 2.3809842954837332\n",
      "INFO:geometry:magnitude of difference in the energies: 1.350424600587985e-06\n",
      "INFO:geometry:Final logp_proposal: 55.2081346588982\n"
     ]
    },
    {
     "name": "stdout",
     "output_type": "stream",
     "text": [
      "added energy components: [('CustomBondForce', 0.7915398453668158), ('CustomAngleForce', 5.316921338751329), ('CustomTorsionForce', 21.65130035121606), ('CustomBondForce', -42.19284547646683)]\n"
     ]
    },
    {
     "name": "stderr",
     "output_type": "stream",
     "text": [
      "INFO:geometry:logp_reverse: performing reverse proposal\n",
      "INFO:geometry:logp_reverse: unique new atoms detected; proceeding to _logp_propose...\n",
      "INFO:geometry:Conducting forward proposal...\n",
      "INFO:geometry:Computing proposal order with NetworkX...\n",
      "INFO:geometry:number of atoms to be placed: 3\n",
      "INFO:geometry:Atom index proposal order is [12, 13, 11]\n",
      "INFO:geometry:omitted_bonds: []\n",
      "INFO:geometry:direction of proposal is reverse; creating atoms_with_positions from old system/topology\n",
      "INFO:geometry:creating growth system...\n",
      "INFO:geometry:\tcreating bond force...\n",
      "INFO:geometry:\tthere are 9 bonds in reference force.\n",
      "INFO:geometry:\tcreating angle force...\n",
      "INFO:geometry:\tthere are 36 angles in reference force.\n",
      "INFO:geometry:\tcreating torsion force...\n",
      "INFO:geometry:\tcreating extra torsions force...\n",
      "INFO:geometry:\tthere are 42 torsions in reference force.\n",
      "INFO:geometry:\tcreating nonbonded force...\n",
      "INFO:geometry:\t\tgrabbing reference nonbonded method, cutoff, switching function, switching distance...\n",
      "INFO:geometry:\t\tcreating nonbonded exception force (i.e. custom bond for 1,4s)...\n",
      "INFO:geometry:\t\tlooping through exceptions calculating growth indices, and adding appropriate interactions to custom bond force.\n",
      "INFO:geometry:\t\tthere are 98 in the reference Nonbonded force\n",
      "INFO:geometry:Neglected angle terms : []\n",
      "INFO:geometry:omitted_growth_terms: {'bonds': [], 'angles': [], 'torsions': [], '1,4s': []}\n",
      "INFO:geometry:extra torsions: {0: (6, 8, 10, 11, [1, Quantity(value=2.105358864604291, unit=radian), Quantity(value=1200.0, unit=kilocalorie/mole), 3]), 1: (6, 8, 10, 12, [1, Quantity(value=-2.0823006129211796, unit=radian), Quantity(value=1200.0, unit=kilocalorie/mole), 1]), 2: (6, 8, 10, 13, [1, Quantity(value=0.018582237407944735, unit=radian), Quantity(value=1200.0, unit=kilocalorie/mole), 2]), 3: (14, 8, 10, 11, [1, Quantity(value=-0.036945135932107576, unit=radian), Quantity(value=1200.0, unit=kilocalorie/mole), 3]), 4: (14, 8, 10, 12, [1, Quantity(value=2.0585806937220097, unit=radian), Quantity(value=1200.0, unit=kilocalorie/mole), 1]), 5: (14, 8, 10, 13, [1, Quantity(value=-2.1237217631284597, unit=radian), Quantity(value=1200.0, unit=kilocalorie/mole), 2]), 6: (9, 8, 10, 11, [1, Quantity(value=-2.119603470065817, unit=radian), Quantity(value=1200.0, unit=kilocalorie/mole), 3]), 7: (9, 8, 10, 12, [1, Quantity(value=-0.024077640411697132, unit=radian), Quantity(value=1200.0, unit=kilocalorie/mole), 1]), 8: (9, 8, 10, 13, [1, Quantity(value=2.0768052099174152, unit=radian), Quantity(value=1200.0, unit=kilocalorie/mole), 2])}\n",
      "INFO:geometry:neglected angle terms include []\n",
      "INFO:geometry:log probability choice of torsions and atom order: -5.0875963352323845\n",
      "INFO:geometry:creating platform, integrators, and contexts; setting growth parameter\n"
     ]
    },
    {
     "name": "stdout",
     "output_type": "stream",
     "text": [
      "conducting subsequent work with the following platform: CUDA\n"
     ]
    },
    {
     "name": "stderr",
     "output_type": "stream",
     "text": [
      "INFO:geometry:setting atoms_with_positions context old positions\n"
     ]
    },
    {
     "name": "stdout",
     "output_type": "stream",
     "text": [
      "conducting subsequent work with the following platform: CUDA\n"
     ]
    },
    {
     "name": "stderr",
     "output_type": "stream",
     "text": [
      "INFO:geometry:There are 3 new atoms\n",
      "INFO:geometry:\treduced angle potential = 3.2058324695160406e-13.\n",
      "INFO:geometry:\treduced angle potential = 7.39096069988752e-11.\n",
      "INFO:geometry:\treduced angle potential = 1.2915588460963948e-10.\n",
      "INFO:geometry:\tbeginning construction of no_nonbonded final system...\n",
      "INFO:geometry:\tinitial no-nonbonded final system forces ['HarmonicBondForce', 'HarmonicAngleForce', 'PeriodicTorsionForce', 'NonbondedForce']\n",
      "INFO:geometry:\tfinal no-nonbonded final system forces dict_keys(['HarmonicBondForce', 'HarmonicAngleForce', 'PeriodicTorsionForce', 'NonbondedForce'])\n",
      "INFO:geometry:\tthere are 9 bond forces in the no-nonbonded final system\n",
      "INFO:geometry:\tthere are 36 angle forces in the no-nonbonded final system\n",
      "INFO:geometry:\tthere are 42 torsion forces in the no-nonbonded final system\n",
      "INFO:geometry:reverse final system defined with 0 neglected angles.\n"
     ]
    },
    {
     "name": "stdout",
     "output_type": "stream",
     "text": [
      "conducting subsequent work with the following platform: CUDA\n",
      "conducting subsequent work with the following platform: CUDA\n"
     ]
    },
    {
     "name": "stderr",
     "output_type": "stream",
     "text": [
      "INFO:geometry:total reduced potential before atom placement: 16.81406823661637\n"
     ]
    },
    {
     "name": "stdout",
     "output_type": "stream",
     "text": [
      "conducting subsequent work with the following platform: CUDA\n",
      "conducting subsequent work with the following platform: CUDA\n",
      "conducting subsequent work with the following platform: CUDA\n"
     ]
    },
    {
     "name": "stderr",
     "output_type": "stream",
     "text": [
      "INFO:geometry:total reduced energy added from growth system: 8.816525576567852\n",
      "INFO:geometry:final reduced energy 25.630593424131863\n",
      "INFO:geometry:sum of energies: 25.630593813184223\n",
      "INFO:geometry:magnitude of difference in the energies: 3.8905236010577937e-07\n",
      "INFO:geometry:Final logp_proposal: -26905.7803568779\n"
     ]
    },
    {
     "name": "stdout",
     "output_type": "stream",
     "text": [
      "added energy components: [('CustomBondForce', 0.0), ('CustomAngleForce', 0.00017810081275281765), ('CustomTorsionForce', 0.004336831234072134), ('CustomBondForce', 8.812010644521031)]\n"
     ]
    },
    {
     "name": "stderr",
     "output_type": "stream",
     "text": [
      "INFO:proposal_generator:\tConducting polymer point mutation proposal...\n",
      "INFO:proposal_generator:local_atom_map: {6: 6, 7: 7, 8: 8, 9: 9, 10: 10, 13: 14, 14: 15}\n",
      "INFO:proposal_generator:the mapped atom names are: [('N', 'N'), ('H', 'H'), ('CA', 'CA'), ('HA', 'HA'), ('CB', 'CB'), ('C', 'C'), ('O', 'O')]\n",
      "INFO:geometry:propose: performing forward proposal\n",
      "INFO:geometry:propose: unique new atoms detected; proceeding to _logp_propose...\n",
      "INFO:geometry:Conducting forward proposal...\n",
      "INFO:geometry:Computing proposal order with NetworkX...\n",
      "INFO:geometry:number of atoms to be placed: 10\n",
      "INFO:geometry:Atom index proposal order is [15, 16, 21, 20, 18, 22, 17, 19, 11, 12]\n",
      "INFO:geometry:omitted_bonds: [(18, 20)]\n",
      "INFO:geometry:direction of proposal is forward; creating atoms_with_positions and new positions from old system/topology...\n",
      "INFO:geometry:creating growth system...\n",
      "INFO:geometry:\tcreating bond force...\n",
      "INFO:geometry:\tthere are 15 bonds in reference force.\n",
      "INFO:geometry:\tcreating angle force...\n",
      "INFO:geometry:\tthere are 49 angles in reference force.\n",
      "INFO:geometry:\tcreating torsion force...\n",
      "INFO:geometry:\tcreating extra torsions force...\n",
      "INFO:geometry:\tthere are 76 torsions in reference force.\n",
      "INFO:geometry:\tcreating nonbonded force...\n",
      "INFO:geometry:\t\tgrabbing reference nonbonded method, cutoff, switching function, switching distance...\n",
      "INFO:geometry:\t\tcreating nonbonded exception force (i.e. custom bond for 1,4s)...\n",
      "INFO:geometry:\t\tlooping through exceptions calculating growth indices, and adding appropriate interactions to custom bond force.\n",
      "INFO:geometry:\t\tthere are 136 in the reference Nonbonded force\n",
      "INFO:geometry:Neglected angle terms : []\n",
      "INFO:geometry:omitted_growth_terms: {'bonds': [(18, 20)], 'angles': [(16, 18, 20), (18, 20, 21), (19, 18, 20)], 'torsions': [(15, 16, 18, 20), (15, 21, 20, 18), (16, 18, 20, 21), (17, 16, 18, 20), (18, 20, 21, 22), (19, 18, 20, 21), (16, 20, 18, 19)], '1,4s': [(17, 20), (19, 21), (18, 22)]}\n",
      "INFO:geometry:extra torsions: {0: (17, 16, 18, 19, [1, Quantity(value=3.0996445206762737, unit=radian), Quantity(value=1200.0, unit=kilocalorie/mole), 8]), 1: (15, 16, 18, 19, [1, Quantity(value=0.02285632435988827, unit=radian), Quantity(value=1200.0, unit=kilocalorie/mole), 8]), 2: (17, 16, 15, 10, [1, Quantity(value=-3.0986533355010817, unit=radian), Quantity(value=1200.0, unit=kilocalorie/mole), 7]), 3: (17, 16, 15, 21, [1, Quantity(value=0.05512548252116778, unit=radian), Quantity(value=1200.0, unit=kilocalorie/mole), 7]), 4: (18, 16, 15, 10, [1, Quantity(value=-0.021479930025957827, unit=radian), Quantity(value=1200.0, unit=kilocalorie/mole), 5]), 5: (18, 16, 15, 21, [1, Quantity(value=3.1322988879962965, unit=radian), Quantity(value=1200.0, unit=kilocalorie/mole), 5]), 6: (16, 15, 21, 20, [1, Quantity(value=-3.135771104387108, unit=radian), Quantity(value=1200.0, unit=kilocalorie/mole), 4]), 7: (16, 15, 21, 22, [1, Quantity(value=-0.0007956009523324425, unit=radian), Quantity(value=1200.0, unit=kilocalorie/mole), 6]), 8: (10, 15, 21, 20, [1, Quantity(value=0.017721793398063568, unit=radian), Quantity(value=1200.0, unit=kilocalorie/mole), 4]), 9: (10, 15, 21, 22, [1, Quantity(value=-3.1304880103467188, unit=radian), Quantity(value=1200.0, unit=kilocalorie/mole), 6])}\n",
      "INFO:geometry:neglected angle terms include []\n",
      "INFO:geometry:log probability choice of torsions and atom order: -15.253448152236004\n",
      "INFO:geometry:creating platform, integrators, and contexts; setting growth parameter\n"
     ]
    },
    {
     "name": "stdout",
     "output_type": "stream",
     "text": [
      "HID\n",
      "making topology proposal\n",
      "generating geometry engine\n",
      "making geometry proposal from ALA to HID\n",
      "conducting subsequent work with the following platform: CUDA\n"
     ]
    },
    {
     "name": "stderr",
     "output_type": "stream",
     "text": [
      "INFO:geometry:setting atoms_with_positions context new positions\n"
     ]
    },
    {
     "name": "stdout",
     "output_type": "stream",
     "text": [
      "conducting subsequent work with the following platform: CUDA\n"
     ]
    },
    {
     "name": "stderr",
     "output_type": "stream",
     "text": [
      "INFO:geometry:There are 10 new atoms\n",
      "INFO:geometry:\treduced angle potential = 0.31428512620863225.\n",
      "INFO:geometry:\treduced angle potential = 0.008648567629303659.\n",
      "INFO:geometry:\treduced angle potential = 0.055762876103618735.\n",
      "INFO:geometry:\treduced angle potential = 0.01827714842844332.\n",
      "INFO:geometry:\treduced angle potential = 0.4419770613258889.\n",
      "INFO:geometry:\treduced angle potential = 2.6550963701559165.\n",
      "INFO:geometry:\treduced angle potential = 0.2783511780559992.\n",
      "INFO:geometry:\treduced angle potential = 0.008116105047312309.\n",
      "INFO:geometry:\treduced angle potential = 0.0010434799952095334.\n",
      "INFO:geometry:\treduced angle potential = 0.021675036450629213.\n",
      "INFO:geometry:\tbeginning construction of no_nonbonded final system...\n",
      "INFO:geometry:\tinitial no-nonbonded final system forces ['HarmonicBondForce', 'HarmonicAngleForce', 'PeriodicTorsionForce', 'NonbondedForce']\n",
      "INFO:geometry:\tfinal no-nonbonded final system forces dict_keys(['HarmonicBondForce', 'HarmonicAngleForce', 'PeriodicTorsionForce', 'NonbondedForce'])\n",
      "INFO:geometry:\tthere are 15 bond forces in the no-nonbonded final system\n",
      "INFO:geometry:\tthere are 49 angle forces in the no-nonbonded final system\n",
      "INFO:geometry:\tthere are 76 torsion forces in the no-nonbonded final system\n",
      "INFO:geometry:forward final system defined with 0 neglected angles.\n"
     ]
    },
    {
     "name": "stdout",
     "output_type": "stream",
     "text": [
      "conducting subsequent work with the following platform: CUDA\n",
      "conducting subsequent work with the following platform: CUDA\n"
     ]
    },
    {
     "name": "stderr",
     "output_type": "stream",
     "text": [
      "INFO:geometry:total reduced potential before atom placement: 16.81406823661637\n"
     ]
    },
    {
     "name": "stdout",
     "output_type": "stream",
     "text": [
      "conducting subsequent work with the following platform: CUDA\n",
      "conducting subsequent work with the following platform: CUDA\n",
      "conducting subsequent work with the following platform: CUDA\n"
     ]
    },
    {
     "name": "stderr",
     "output_type": "stream",
     "text": [
      "INFO:geometry:total reduced energy added from growth system: 29.822439800624636\n",
      "INFO:geometry:final reduced energy 999.1015516774609\n",
      "INFO:geometry:sum of energies: 46.63650803724101\n",
      "INFO:geometry:magnitude of difference in the energies: 952.4650436402198\n",
      "INFO:geometry:Final logp_proposal: 76.38891678313598\n"
     ]
    },
    {
     "name": "stdout",
     "output_type": "stream",
     "text": [
      "added energy components: [('CustomBondForce', 5.200288900415396), ('CustomAngleForce', 6.96802787872221), ('CustomTorsionForce', 6.405121822473681), ('CustomBondForce', 11.249001199013346)]\n"
     ]
    },
    {
     "name": "stderr",
     "output_type": "stream",
     "text": [
      "INFO:geometry:logp_reverse: performing reverse proposal\n",
      "INFO:geometry:logp_reverse: unique new atoms detected; proceeding to _logp_propose...\n",
      "INFO:geometry:Conducting forward proposal...\n",
      "INFO:geometry:Computing proposal order with NetworkX...\n",
      "INFO:geometry:number of atoms to be placed: 3\n",
      "INFO:geometry:Atom index proposal order is [13, 11, 12]\n",
      "INFO:geometry:omitted_bonds: []\n",
      "INFO:geometry:direction of proposal is reverse; creating atoms_with_positions from old system/topology\n",
      "INFO:geometry:creating growth system...\n",
      "INFO:geometry:\tcreating bond force...\n",
      "INFO:geometry:\tthere are 9 bonds in reference force.\n",
      "INFO:geometry:\tcreating angle force...\n",
      "INFO:geometry:\tthere are 36 angles in reference force.\n",
      "INFO:geometry:\tcreating torsion force...\n",
      "INFO:geometry:\tcreating extra torsions force...\n",
      "INFO:geometry:\tthere are 42 torsions in reference force.\n",
      "INFO:geometry:\tcreating nonbonded force...\n",
      "INFO:geometry:\t\tgrabbing reference nonbonded method, cutoff, switching function, switching distance...\n",
      "INFO:geometry:\t\tcreating nonbonded exception force (i.e. custom bond for 1,4s)...\n",
      "INFO:geometry:\t\tlooping through exceptions calculating growth indices, and adding appropriate interactions to custom bond force.\n",
      "INFO:geometry:\t\tthere are 98 in the reference Nonbonded force\n",
      "INFO:geometry:Neglected angle terms : []\n",
      "INFO:geometry:omitted_growth_terms: {'bonds': [], 'angles': [], 'torsions': [], '1,4s': []}\n",
      "INFO:geometry:extra torsions: {0: (6, 8, 10, 11, [1, Quantity(value=2.105358864604291, unit=radian), Quantity(value=1200.0, unit=kilocalorie/mole), 2]), 1: (6, 8, 10, 12, [1, Quantity(value=-2.0823006129211796, unit=radian), Quantity(value=1200.0, unit=kilocalorie/mole), 3]), 2: (6, 8, 10, 13, [1, Quantity(value=0.018582237407944735, unit=radian), Quantity(value=1200.0, unit=kilocalorie/mole), 1]), 3: (14, 8, 10, 11, [1, Quantity(value=-0.036945135932107576, unit=radian), Quantity(value=1200.0, unit=kilocalorie/mole), 2]), 4: (14, 8, 10, 12, [1, Quantity(value=2.0585806937220097, unit=radian), Quantity(value=1200.0, unit=kilocalorie/mole), 3]), 5: (14, 8, 10, 13, [1, Quantity(value=-2.1237217631284597, unit=radian), Quantity(value=1200.0, unit=kilocalorie/mole), 1]), 6: (9, 8, 10, 11, [1, Quantity(value=-2.119603470065817, unit=radian), Quantity(value=1200.0, unit=kilocalorie/mole), 2]), 7: (9, 8, 10, 12, [1, Quantity(value=-0.024077640411697132, unit=radian), Quantity(value=1200.0, unit=kilocalorie/mole), 3]), 8: (9, 8, 10, 13, [1, Quantity(value=2.0768052099174152, unit=radian), Quantity(value=1200.0, unit=kilocalorie/mole), 1])}\n",
      "INFO:geometry:neglected angle terms include []\n",
      "INFO:geometry:log probability choice of torsions and atom order: -5.0875963352323845\n",
      "INFO:geometry:creating platform, integrators, and contexts; setting growth parameter\n"
     ]
    },
    {
     "name": "stdout",
     "output_type": "stream",
     "text": [
      "conducting subsequent work with the following platform: CUDA\n"
     ]
    },
    {
     "name": "stderr",
     "output_type": "stream",
     "text": [
      "INFO:geometry:setting atoms_with_positions context old positions\n"
     ]
    },
    {
     "name": "stdout",
     "output_type": "stream",
     "text": [
      "conducting subsequent work with the following platform: CUDA\n"
     ]
    },
    {
     "name": "stderr",
     "output_type": "stream",
     "text": [
      "INFO:geometry:There are 3 new atoms\n",
      "INFO:geometry:\treduced angle potential = 7.39096069988752e-11.\n",
      "INFO:geometry:\treduced angle potential = 1.2915588460963948e-10.\n",
      "INFO:geometry:\treduced angle potential = 3.2058324695160406e-13.\n",
      "INFO:geometry:\tbeginning construction of no_nonbonded final system...\n",
      "INFO:geometry:\tinitial no-nonbonded final system forces ['HarmonicBondForce', 'HarmonicAngleForce', 'PeriodicTorsionForce', 'NonbondedForce']\n",
      "INFO:geometry:\tfinal no-nonbonded final system forces dict_keys(['HarmonicBondForce', 'HarmonicAngleForce', 'PeriodicTorsionForce', 'NonbondedForce'])\n",
      "INFO:geometry:\tthere are 9 bond forces in the no-nonbonded final system\n",
      "INFO:geometry:\tthere are 36 angle forces in the no-nonbonded final system\n",
      "INFO:geometry:\tthere are 42 torsion forces in the no-nonbonded final system\n",
      "INFO:geometry:reverse final system defined with 0 neglected angles.\n"
     ]
    },
    {
     "name": "stdout",
     "output_type": "stream",
     "text": [
      "conducting subsequent work with the following platform: CUDA\n",
      "conducting subsequent work with the following platform: CUDA\n"
     ]
    },
    {
     "name": "stderr",
     "output_type": "stream",
     "text": [
      "INFO:geometry:total reduced potential before atom placement: 16.81406823661637\n"
     ]
    },
    {
     "name": "stdout",
     "output_type": "stream",
     "text": [
      "conducting subsequent work with the following platform: CUDA\n",
      "conducting subsequent work with the following platform: CUDA\n",
      "conducting subsequent work with the following platform: CUDA\n"
     ]
    },
    {
     "name": "stderr",
     "output_type": "stream",
     "text": [
      "INFO:geometry:total reduced energy added from growth system: 8.816525576567852\n",
      "INFO:geometry:final reduced energy 25.630593424131863\n",
      "INFO:geometry:sum of energies: 25.630593813184223\n",
      "INFO:geometry:magnitude of difference in the energies: 3.8905236010577937e-07\n",
      "INFO:geometry:Final logp_proposal: -26901.74737039456\n"
     ]
    },
    {
     "name": "stdout",
     "output_type": "stream",
     "text": [
      "added energy components: [('CustomBondForce', 0.0), ('CustomAngleForce', 0.00017810081275281765), ('CustomTorsionForce', 0.004336831234072134), ('CustomBondForce', 8.812010644521031)]\n"
     ]
    },
    {
     "name": "stderr",
     "output_type": "stream",
     "text": [
      "INFO:proposal_generator:\tConducting polymer point mutation proposal...\n",
      "INFO:proposal_generator:local_atom_map: {6: 6, 7: 7, 8: 8, 9: 9, 10: 10, 13: 14, 14: 15}\n",
      "INFO:proposal_generator:the mapped atom names are: [('N', 'N'), ('H', 'H'), ('CA', 'CA'), ('HA', 'HA'), ('CB', 'CB'), ('C', 'C'), ('O', 'O')]\n",
      "INFO:geometry:propose: performing forward proposal\n",
      "INFO:geometry:propose: unique new atoms detected; proceeding to _logp_propose...\n",
      "INFO:geometry:Conducting forward proposal...\n",
      "INFO:geometry:Computing proposal order with NetworkX...\n",
      "INFO:geometry:number of atoms to be placed: 10\n",
      "INFO:geometry:Atom index proposal order is [15, 16, 17, 21, 19, 18, 12, 11, 22, 20]\n",
      "INFO:geometry:omitted_bonds: [(17, 19)]\n",
      "INFO:geometry:direction of proposal is forward; creating atoms_with_positions and new positions from old system/topology...\n",
      "INFO:geometry:creating growth system...\n",
      "INFO:geometry:\tcreating bond force...\n",
      "INFO:geometry:\tthere are 15 bonds in reference force.\n",
      "INFO:geometry:\tcreating angle force...\n",
      "INFO:geometry:\tthere are 49 angles in reference force.\n",
      "INFO:geometry:\tcreating torsion force...\n",
      "INFO:geometry:\tcreating extra torsions force...\n",
      "INFO:geometry:\tthere are 72 torsions in reference force.\n",
      "INFO:geometry:\tcreating nonbonded force...\n",
      "INFO:geometry:\t\tgrabbing reference nonbonded method, cutoff, switching function, switching distance...\n",
      "INFO:geometry:\t\tcreating nonbonded exception force (i.e. custom bond for 1,4s)...\n",
      "INFO:geometry:\t\tlooping through exceptions calculating growth indices, and adding appropriate interactions to custom bond force.\n",
      "INFO:geometry:\t\tthere are 136 in the reference Nonbonded force\n",
      "INFO:geometry:Neglected angle terms : []\n",
      "INFO:geometry:omitted_growth_terms: {'bonds': [(17, 19)], 'angles': [(16, 17, 19), (17, 19, 20), (17, 19, 21), (18, 17, 19)], 'torsions': [(15, 16, 17, 19), (15, 21, 19, 17), (16, 17, 19, 20), (16, 17, 19, 21), (17, 19, 21, 22), (18, 17, 19, 20), (18, 17, 19, 21), (16, 19, 17, 18)], '1,4s': [(16, 20), (18, 20), (18, 21), (17, 22)]}\n",
      "INFO:geometry:extra torsions: {0: (22, 21, 19, 20, [1, Quantity(value=3.140318141180648, unit=radian), Quantity(value=1200.0, unit=kilocalorie/mole), 10]), 1: (15, 21, 19, 20, [1, Quantity(value=-0.0015275307136040084, unit=radian), Quantity(value=1200.0, unit=kilocalorie/mole), 10]), 2: (22, 21, 15, 10, [1, Quantity(value=-3.140293442980254, unit=radian), Quantity(value=1200.0, unit=kilocalorie/mole), 9]), 3: (22, 21, 15, 16, [1, Quantity(value=0.0018276946356889923, unit=radian), Quantity(value=1200.0, unit=kilocalorie/mole), 9]), 4: (19, 21, 15, 10, [1, Quantity(value=0.0015427091560020756, unit=radian), Quantity(value=1200.0, unit=kilocalorie/mole), 5]), 5: (19, 21, 15, 16, [1, Quantity(value=-3.1395214604074435, unit=radian), Quantity(value=1200.0, unit=kilocalorie/mole), 5]), 6: (21, 15, 16, 17, [1, Quantity(value=3.1376354980855, unit=radian), Quantity(value=1200.0, unit=kilocalorie/mole), 4]), 7: (10, 15, 16, 17, [1, Quantity(value=-0.0034084628183812526, unit=radian), Quantity(value=1200.0, unit=kilocalorie/mole), 3]), 8: (18, 17, 16, 15, [1, Quantity(value=0.001575403373373252, unit=radian), Quantity(value=1200.0, unit=kilocalorie/mole), 6])}\n",
      "INFO:geometry:neglected angle terms include []\n",
      "INFO:geometry:log probability choice of torsions and atom order: -13.666657819230313\n",
      "INFO:geometry:creating platform, integrators, and contexts; setting growth parameter\n"
     ]
    },
    {
     "name": "stdout",
     "output_type": "stream",
     "text": [
      "HIE\n",
      "making topology proposal\n",
      "generating geometry engine\n",
      "making geometry proposal from ALA to HIE\n",
      "conducting subsequent work with the following platform: CUDA\n"
     ]
    },
    {
     "name": "stderr",
     "output_type": "stream",
     "text": [
      "INFO:geometry:setting atoms_with_positions context new positions\n"
     ]
    },
    {
     "name": "stdout",
     "output_type": "stream",
     "text": [
      "conducting subsequent work with the following platform: CUDA\n"
     ]
    },
    {
     "name": "stderr",
     "output_type": "stream",
     "text": [
      "INFO:geometry:There are 10 new atoms\n",
      "INFO:geometry:\treduced angle potential = 0.0004854365452486426.\n",
      "INFO:geometry:\treduced angle potential = 0.3267421373183693.\n",
      "INFO:geometry:\treduced angle potential = 1.1797799341141662.\n",
      "INFO:geometry:\treduced angle potential = 0.003557143304968616.\n",
      "INFO:geometry:\treduced angle potential = 0.1614065909126885.\n",
      "INFO:geometry:\treduced angle potential = 0.39476015441078105.\n",
      "INFO:geometry:\treduced angle potential = 0.3429789939105114.\n",
      "INFO:geometry:\treduced angle potential = 0.14662481109862208.\n",
      "INFO:geometry:\treduced angle potential = 0.49532590034416507.\n",
      "INFO:geometry:\treduced angle potential = 0.2263103055747802.\n",
      "INFO:geometry:\tbeginning construction of no_nonbonded final system...\n",
      "INFO:geometry:\tinitial no-nonbonded final system forces ['HarmonicBondForce', 'HarmonicAngleForce', 'PeriodicTorsionForce', 'NonbondedForce']\n",
      "INFO:geometry:\tfinal no-nonbonded final system forces dict_keys(['HarmonicBondForce', 'HarmonicAngleForce', 'PeriodicTorsionForce', 'NonbondedForce'])\n",
      "INFO:geometry:\tthere are 15 bond forces in the no-nonbonded final system\n",
      "INFO:geometry:\tthere are 49 angle forces in the no-nonbonded final system\n",
      "INFO:geometry:\tthere are 72 torsion forces in the no-nonbonded final system\n",
      "INFO:geometry:forward final system defined with 0 neglected angles.\n"
     ]
    },
    {
     "name": "stdout",
     "output_type": "stream",
     "text": [
      "conducting subsequent work with the following platform: CUDA\n",
      "conducting subsequent work with the following platform: CUDA\n"
     ]
    },
    {
     "name": "stderr",
     "output_type": "stream",
     "text": [
      "INFO:geometry:total reduced potential before atom placement: 16.81406823661637\n"
     ]
    },
    {
     "name": "stdout",
     "output_type": "stream",
     "text": [
      "conducting subsequent work with the following platform: CUDA\n",
      "conducting subsequent work with the following platform: CUDA\n",
      "conducting subsequent work with the following platform: CUDA\n"
     ]
    },
    {
     "name": "stderr",
     "output_type": "stream",
     "text": [
      "INFO:geometry:total reduced energy added from growth system: 57.0794948381766\n",
      "INFO:geometry:final reduced energy 961.9286161381698\n",
      "INFO:geometry:sum of energies: 73.89356307479298\n",
      "INFO:geometry:magnitude of difference in the energies: 888.0350530633768\n",
      "INFO:geometry:Final logp_proposal: 75.67206165489972\n"
     ]
    },
    {
     "name": "stdout",
     "output_type": "stream",
     "text": [
      "added energy components: [('CustomBondForce', 7.7546114229557785), ('CustomAngleForce', 24.185169789368764), ('CustomTorsionForce', 4.835778101699049), ('CustomBondForce', 20.30393552415301)]\n"
     ]
    },
    {
     "name": "stderr",
     "output_type": "stream",
     "text": [
      "INFO:geometry:logp_reverse: performing reverse proposal\n",
      "INFO:geometry:logp_reverse: unique new atoms detected; proceeding to _logp_propose...\n",
      "INFO:geometry:Conducting forward proposal...\n",
      "INFO:geometry:Computing proposal order with NetworkX...\n",
      "INFO:geometry:number of atoms to be placed: 3\n",
      "INFO:geometry:Atom index proposal order is [12, 13, 11]\n",
      "INFO:geometry:omitted_bonds: []\n",
      "INFO:geometry:direction of proposal is reverse; creating atoms_with_positions from old system/topology\n",
      "INFO:geometry:creating growth system...\n",
      "INFO:geometry:\tcreating bond force...\n",
      "INFO:geometry:\tthere are 9 bonds in reference force.\n",
      "INFO:geometry:\tcreating angle force...\n",
      "INFO:geometry:\tthere are 36 angles in reference force.\n",
      "INFO:geometry:\tcreating torsion force...\n",
      "INFO:geometry:\tcreating extra torsions force...\n",
      "INFO:geometry:\tthere are 42 torsions in reference force.\n",
      "INFO:geometry:\tcreating nonbonded force...\n",
      "INFO:geometry:\t\tgrabbing reference nonbonded method, cutoff, switching function, switching distance...\n",
      "INFO:geometry:\t\tcreating nonbonded exception force (i.e. custom bond for 1,4s)...\n",
      "INFO:geometry:\t\tlooping through exceptions calculating growth indices, and adding appropriate interactions to custom bond force.\n",
      "INFO:geometry:\t\tthere are 98 in the reference Nonbonded force\n",
      "INFO:geometry:Neglected angle terms : []\n",
      "INFO:geometry:omitted_growth_terms: {'bonds': [], 'angles': [], 'torsions': [], '1,4s': []}\n",
      "INFO:geometry:extra torsions: {0: (6, 8, 10, 11, [1, Quantity(value=2.105358864604291, unit=radian), Quantity(value=1200.0, unit=kilocalorie/mole), 3]), 1: (6, 8, 10, 12, [1, Quantity(value=-2.0823006129211796, unit=radian), Quantity(value=1200.0, unit=kilocalorie/mole), 1]), 2: (6, 8, 10, 13, [1, Quantity(value=0.018582237407944735, unit=radian), Quantity(value=1200.0, unit=kilocalorie/mole), 2]), 3: (14, 8, 10, 11, [1, Quantity(value=-0.036945135932107576, unit=radian), Quantity(value=1200.0, unit=kilocalorie/mole), 3]), 4: (14, 8, 10, 12, [1, Quantity(value=2.0585806937220097, unit=radian), Quantity(value=1200.0, unit=kilocalorie/mole), 1]), 5: (14, 8, 10, 13, [1, Quantity(value=-2.1237217631284597, unit=radian), Quantity(value=1200.0, unit=kilocalorie/mole), 2]), 6: (9, 8, 10, 11, [1, Quantity(value=-2.119603470065817, unit=radian), Quantity(value=1200.0, unit=kilocalorie/mole), 3]), 7: (9, 8, 10, 12, [1, Quantity(value=-0.024077640411697132, unit=radian), Quantity(value=1200.0, unit=kilocalorie/mole), 1]), 8: (9, 8, 10, 13, [1, Quantity(value=2.0768052099174152, unit=radian), Quantity(value=1200.0, unit=kilocalorie/mole), 2])}\n",
      "INFO:geometry:neglected angle terms include []\n",
      "INFO:geometry:log probability choice of torsions and atom order: -5.0875963352323845\n",
      "INFO:geometry:creating platform, integrators, and contexts; setting growth parameter\n"
     ]
    },
    {
     "name": "stdout",
     "output_type": "stream",
     "text": [
      "conducting subsequent work with the following platform: CUDA\n"
     ]
    },
    {
     "name": "stderr",
     "output_type": "stream",
     "text": [
      "INFO:geometry:setting atoms_with_positions context old positions\n"
     ]
    },
    {
     "name": "stdout",
     "output_type": "stream",
     "text": [
      "conducting subsequent work with the following platform: CUDA\n"
     ]
    },
    {
     "name": "stderr",
     "output_type": "stream",
     "text": [
      "INFO:geometry:There are 3 new atoms\n",
      "INFO:geometry:\treduced angle potential = 3.2058324695160406e-13.\n",
      "INFO:geometry:\treduced angle potential = 7.39096069988752e-11.\n",
      "INFO:geometry:\treduced angle potential = 1.2915588460963948e-10.\n",
      "INFO:geometry:\tbeginning construction of no_nonbonded final system...\n",
      "INFO:geometry:\tinitial no-nonbonded final system forces ['HarmonicBondForce', 'HarmonicAngleForce', 'PeriodicTorsionForce', 'NonbondedForce']\n",
      "INFO:geometry:\tfinal no-nonbonded final system forces dict_keys(['HarmonicBondForce', 'HarmonicAngleForce', 'PeriodicTorsionForce', 'NonbondedForce'])\n",
      "INFO:geometry:\tthere are 9 bond forces in the no-nonbonded final system\n",
      "INFO:geometry:\tthere are 36 angle forces in the no-nonbonded final system\n",
      "INFO:geometry:\tthere are 42 torsion forces in the no-nonbonded final system\n",
      "INFO:geometry:reverse final system defined with 0 neglected angles.\n"
     ]
    },
    {
     "name": "stdout",
     "output_type": "stream",
     "text": [
      "conducting subsequent work with the following platform: CUDA\n",
      "conducting subsequent work with the following platform: CUDA\n"
     ]
    },
    {
     "name": "stderr",
     "output_type": "stream",
     "text": [
      "INFO:geometry:total reduced potential before atom placement: 16.81406823661637\n"
     ]
    },
    {
     "name": "stdout",
     "output_type": "stream",
     "text": [
      "conducting subsequent work with the following platform: CUDA\n",
      "conducting subsequent work with the following platform: CUDA\n",
      "conducting subsequent work with the following platform: CUDA\n"
     ]
    },
    {
     "name": "stderr",
     "output_type": "stream",
     "text": [
      "INFO:geometry:total reduced energy added from growth system: 8.816525576567852\n",
      "INFO:geometry:final reduced energy 25.630593424131863\n",
      "INFO:geometry:sum of energies: 25.630593813184223\n",
      "INFO:geometry:magnitude of difference in the energies: 3.8905236010577937e-07\n",
      "INFO:geometry:Final logp_proposal: -26856.378004351736\n"
     ]
    },
    {
     "name": "stdout",
     "output_type": "stream",
     "text": [
      "added energy components: [('CustomBondForce', 0.0), ('CustomAngleForce', 0.00017810081275281765), ('CustomTorsionForce', 0.004336831234072134), ('CustomBondForce', 8.812010644521031)]\n"
     ]
    },
    {
     "name": "stderr",
     "output_type": "stream",
     "text": [
      "INFO:proposal_generator:\tConducting polymer point mutation proposal...\n",
      "INFO:proposal_generator:local_atom_map: {6: 6, 7: 7, 8: 8, 9: 9, 10: 10, 13: 14, 14: 15}\n",
      "INFO:proposal_generator:the mapped atom names are: [('N', 'N'), ('H', 'H'), ('CA', 'CA'), ('HA', 'HA'), ('CB', 'CB'), ('C', 'C'), ('O', 'O')]\n",
      "INFO:geometry:propose: performing forward proposal\n",
      "INFO:geometry:propose: unique new atoms detected; proceeding to _logp_propose...\n",
      "INFO:geometry:Conducting forward proposal...\n",
      "INFO:geometry:Computing proposal order with NetworkX...\n",
      "INFO:geometry:number of atoms to be placed: 11\n",
      "INFO:geometry:Atom index proposal order is [15, 16, 22, 20, 18, 12, 11, 17, 23, 19, 21]\n",
      "INFO:geometry:omitted_bonds: [(18, 20)]\n",
      "INFO:geometry:direction of proposal is forward; creating atoms_with_positions and new positions from old system/topology...\n",
      "INFO:geometry:creating growth system...\n",
      "INFO:geometry:\tcreating bond force...\n",
      "INFO:geometry:\tthere are 15 bonds in reference force.\n",
      "INFO:geometry:\tcreating angle force...\n",
      "INFO:geometry:\tthere are 51 angles in reference force.\n",
      "INFO:geometry:\tcreating torsion force...\n",
      "INFO:geometry:\tcreating extra torsions force...\n",
      "INFO:geometry:\tthere are 77 torsions in reference force.\n",
      "INFO:geometry:\tcreating nonbonded force...\n",
      "INFO:geometry:\t\tgrabbing reference nonbonded method, cutoff, switching function, switching distance...\n",
      "INFO:geometry:\t\tcreating nonbonded exception force (i.e. custom bond for 1,4s)...\n",
      "INFO:geometry:\t\tlooping through exceptions calculating growth indices, and adding appropriate interactions to custom bond force.\n",
      "INFO:geometry:\t\tthere are 143 in the reference Nonbonded force\n",
      "INFO:geometry:Neglected angle terms : []\n",
      "INFO:geometry:omitted_growth_terms: {'bonds': [(18, 20)], 'angles': [(16, 18, 20), (18, 20, 21), (18, 20, 22), (19, 18, 20)], 'torsions': [(15, 16, 18, 20), (15, 22, 20, 18), (16, 18, 20, 21), (16, 18, 20, 22), (17, 16, 18, 20), (18, 20, 22, 23), (19, 18, 20, 21), (19, 18, 20, 22), (16, 20, 18, 19)], '1,4s': [(17, 20), (16, 21), (19, 21), (19, 22), (18, 23)]}\n",
      "INFO:geometry:extra torsions: {0: (17, 16, 18, 19, [1, Quantity(value=3.0753173006590178, unit=radian), Quantity(value=1200.0, unit=kilocalorie/mole), 10]), 1: (15, 16, 18, 19, [1, Quantity(value=0.01697103483912965, unit=radian), Quantity(value=1200.0, unit=kilocalorie/mole), 10]), 2: (17, 16, 15, 10, [1, Quantity(value=-3.073354022481174, unit=radian), Quantity(value=1200.0, unit=kilocalorie/mole), 8]), 3: (17, 16, 15, 22, [1, Quantity(value=0.07737915683920349, unit=radian), Quantity(value=1200.0, unit=kilocalorie/mole), 8]), 4: (18, 16, 15, 10, [1, Quantity(value=-0.014322316757318987, unit=radian), Quantity(value=1200.0, unit=kilocalorie/mole), 5]), 5: (18, 16, 15, 22, [1, Quantity(value=3.1364108625630225, unit=radian), Quantity(value=1200.0, unit=kilocalorie/mole), 5]), 6: (16, 15, 22, 20, [1, Quantity(value=-3.1412991148590748, unit=radian), Quantity(value=1200.0, unit=kilocalorie/mole), 4]), 7: (16, 15, 22, 23, [1, Quantity(value=-0.008363973397431224, unit=radian), Quantity(value=1200.0, unit=kilocalorie/mole), 9]), 8: (10, 15, 22, 20, [1, Quantity(value=0.009221376181580254, unit=radian), Quantity(value=1200.0, unit=kilocalorie/mole), 4]), 9: (10, 15, 22, 23, [1, Quantity(value=-3.1410287895356896, unit=radian), Quantity(value=1200.0, unit=kilocalorie/mole), 9]), 10: (21, 20, 22, 15, [1, Quantity(value=-0.013645659298864743, unit=radian), Quantity(value=1200.0, unit=kilocalorie/mole), 11]), 11: (21, 20, 22, 23, [1, Quantity(value=3.136798466909643, unit=radian), Quantity(value=1200.0, unit=kilocalorie/mole), 11])}\n",
      "INFO:geometry:neglected angle terms include []\n",
      "INFO:geometry:log probability choice of torsions and atom order: -16.441916770025973\n",
      "INFO:geometry:creating platform, integrators, and contexts; setting growth parameter\n"
     ]
    },
    {
     "name": "stdout",
     "output_type": "stream",
     "text": [
      "HIP\n",
      "making topology proposal\n",
      "generating geometry engine\n",
      "making geometry proposal from ALA to HIP\n",
      "conducting subsequent work with the following platform: CUDA\n"
     ]
    },
    {
     "name": "stderr",
     "output_type": "stream",
     "text": [
      "INFO:geometry:setting atoms_with_positions context new positions\n"
     ]
    },
    {
     "name": "stdout",
     "output_type": "stream",
     "text": [
      "conducting subsequent work with the following platform: CUDA\n"
     ]
    },
    {
     "name": "stderr",
     "output_type": "stream",
     "text": [
      "INFO:geometry:There are 11 new atoms\n",
      "INFO:geometry:\treduced angle potential = 0.09470669635189459.\n",
      "INFO:geometry:\treduced angle potential = 1.0612883035374314.\n",
      "INFO:geometry:\treduced angle potential = 0.10195895535235727.\n",
      "INFO:geometry:\treduced angle potential = 0.024906203481428954.\n",
      "INFO:geometry:\treduced angle potential = 1.934509046956428.\n",
      "INFO:geometry:\treduced angle potential = 0.9523388135654154.\n",
      "INFO:geometry:\treduced angle potential = 0.016865850858082905.\n",
      "INFO:geometry:\treduced angle potential = 0.0017926086988164526.\n",
      "INFO:geometry:\treduced angle potential = 0.04296647703236512.\n",
      "INFO:geometry:\treduced angle potential = 0.1575459232261578.\n",
      "INFO:geometry:\treduced angle potential = 0.02627487149225523.\n",
      "INFO:geometry:\tbeginning construction of no_nonbonded final system...\n",
      "INFO:geometry:\tinitial no-nonbonded final system forces ['HarmonicBondForce', 'HarmonicAngleForce', 'PeriodicTorsionForce', 'NonbondedForce']\n",
      "INFO:geometry:\tfinal no-nonbonded final system forces dict_keys(['HarmonicBondForce', 'HarmonicAngleForce', 'PeriodicTorsionForce', 'NonbondedForce'])\n",
      "INFO:geometry:\tthere are 15 bond forces in the no-nonbonded final system\n",
      "INFO:geometry:\tthere are 51 angle forces in the no-nonbonded final system\n",
      "INFO:geometry:\tthere are 77 torsion forces in the no-nonbonded final system\n",
      "INFO:geometry:forward final system defined with 0 neglected angles.\n"
     ]
    },
    {
     "name": "stdout",
     "output_type": "stream",
     "text": [
      "conducting subsequent work with the following platform: CUDA\n",
      "conducting subsequent work with the following platform: CUDA\n"
     ]
    },
    {
     "name": "stderr",
     "output_type": "stream",
     "text": [
      "INFO:geometry:total reduced potential before atom placement: 16.81406823661637\n"
     ]
    },
    {
     "name": "stdout",
     "output_type": "stream",
     "text": [
      "conducting subsequent work with the following platform: CUDA\n",
      "conducting subsequent work with the following platform: CUDA\n",
      "conducting subsequent work with the following platform: CUDA\n"
     ]
    },
    {
     "name": "stderr",
     "output_type": "stream",
     "text": [
      "INFO:geometry:total reduced energy added from growth system: 57.37169839096737\n",
      "INFO:geometry:final reduced energy 1106.5447703586606\n",
      "INFO:geometry:sum of energies: 74.18576662758375\n",
      "INFO:geometry:magnitude of difference in the energies: 1032.3590037310769\n",
      "INFO:geometry:Final logp_proposal: 82.34964177941514\n"
     ]
    },
    {
     "name": "stdout",
     "output_type": "stream",
     "text": [
      "added energy components: [('CustomBondForce', 4.0270672220127715), ('CustomAngleForce', 7.206306187174124), ('CustomTorsionForce', 4.1835556709763475), ('CustomBondForce', 41.95476931080413)]\n"
     ]
    },
    {
     "name": "stderr",
     "output_type": "stream",
     "text": [
      "INFO:geometry:logp_reverse: performing reverse proposal\n",
      "INFO:geometry:logp_reverse: unique new atoms detected; proceeding to _logp_propose...\n",
      "INFO:geometry:Conducting forward proposal...\n",
      "INFO:geometry:Computing proposal order with NetworkX...\n",
      "INFO:geometry:number of atoms to be placed: 3\n",
      "INFO:geometry:Atom index proposal order is [12, 11, 13]\n",
      "INFO:geometry:omitted_bonds: []\n",
      "INFO:geometry:direction of proposal is reverse; creating atoms_with_positions from old system/topology\n",
      "INFO:geometry:creating growth system...\n",
      "INFO:geometry:\tcreating bond force...\n",
      "INFO:geometry:\tthere are 9 bonds in reference force.\n",
      "INFO:geometry:\tcreating angle force...\n",
      "INFO:geometry:\tthere are 36 angles in reference force.\n",
      "INFO:geometry:\tcreating torsion force...\n",
      "INFO:geometry:\tcreating extra torsions force...\n",
      "INFO:geometry:\tthere are 42 torsions in reference force.\n",
      "INFO:geometry:\tcreating nonbonded force...\n",
      "INFO:geometry:\t\tgrabbing reference nonbonded method, cutoff, switching function, switching distance...\n",
      "INFO:geometry:\t\tcreating nonbonded exception force (i.e. custom bond for 1,4s)...\n",
      "INFO:geometry:\t\tlooping through exceptions calculating growth indices, and adding appropriate interactions to custom bond force.\n",
      "INFO:geometry:\t\tthere are 98 in the reference Nonbonded force\n",
      "INFO:geometry:Neglected angle terms : []\n",
      "INFO:geometry:omitted_growth_terms: {'bonds': [], 'angles': [], 'torsions': [], '1,4s': []}\n",
      "INFO:geometry:extra torsions: {0: (6, 8, 10, 11, [1, Quantity(value=2.105358864604291, unit=radian), Quantity(value=1200.0, unit=kilocalorie/mole), 2]), 1: (6, 8, 10, 12, [1, Quantity(value=-2.0823006129211796, unit=radian), Quantity(value=1200.0, unit=kilocalorie/mole), 1]), 2: (6, 8, 10, 13, [1, Quantity(value=0.018582237407944735, unit=radian), Quantity(value=1200.0, unit=kilocalorie/mole), 3]), 3: (14, 8, 10, 11, [1, Quantity(value=-0.036945135932107576, unit=radian), Quantity(value=1200.0, unit=kilocalorie/mole), 2]), 4: (14, 8, 10, 12, [1, Quantity(value=2.0585806937220097, unit=radian), Quantity(value=1200.0, unit=kilocalorie/mole), 1]), 5: (14, 8, 10, 13, [1, Quantity(value=-2.1237217631284597, unit=radian), Quantity(value=1200.0, unit=kilocalorie/mole), 3]), 6: (9, 8, 10, 11, [1, Quantity(value=-2.119603470065817, unit=radian), Quantity(value=1200.0, unit=kilocalorie/mole), 2]), 7: (9, 8, 10, 12, [1, Quantity(value=-0.024077640411697132, unit=radian), Quantity(value=1200.0, unit=kilocalorie/mole), 1]), 8: (9, 8, 10, 13, [1, Quantity(value=2.0768052099174152, unit=radian), Quantity(value=1200.0, unit=kilocalorie/mole), 3])}\n",
      "INFO:geometry:neglected angle terms include []\n",
      "INFO:geometry:log probability choice of torsions and atom order: -5.0875963352323845\n",
      "INFO:geometry:creating platform, integrators, and contexts; setting growth parameter\n"
     ]
    },
    {
     "name": "stdout",
     "output_type": "stream",
     "text": [
      "conducting subsequent work with the following platform: CUDA\n"
     ]
    },
    {
     "name": "stderr",
     "output_type": "stream",
     "text": [
      "INFO:geometry:setting atoms_with_positions context old positions\n"
     ]
    },
    {
     "name": "stdout",
     "output_type": "stream",
     "text": [
      "conducting subsequent work with the following platform: CUDA\n"
     ]
    },
    {
     "name": "stderr",
     "output_type": "stream",
     "text": [
      "INFO:geometry:There are 3 new atoms\n",
      "INFO:geometry:\treduced angle potential = 3.2058324695160406e-13.\n",
      "INFO:geometry:\treduced angle potential = 1.2915588460963948e-10.\n",
      "INFO:geometry:\treduced angle potential = 7.39096069988752e-11.\n",
      "INFO:geometry:\tbeginning construction of no_nonbonded final system...\n",
      "INFO:geometry:\tinitial no-nonbonded final system forces ['HarmonicBondForce', 'HarmonicAngleForce', 'PeriodicTorsionForce', 'NonbondedForce']\n",
      "INFO:geometry:\tfinal no-nonbonded final system forces dict_keys(['HarmonicBondForce', 'HarmonicAngleForce', 'PeriodicTorsionForce', 'NonbondedForce'])\n",
      "INFO:geometry:\tthere are 9 bond forces in the no-nonbonded final system\n",
      "INFO:geometry:\tthere are 36 angle forces in the no-nonbonded final system\n",
      "INFO:geometry:\tthere are 42 torsion forces in the no-nonbonded final system\n",
      "INFO:geometry:reverse final system defined with 0 neglected angles.\n"
     ]
    },
    {
     "name": "stdout",
     "output_type": "stream",
     "text": [
      "conducting subsequent work with the following platform: CUDA\n",
      "conducting subsequent work with the following platform: CUDA\n"
     ]
    },
    {
     "name": "stderr",
     "output_type": "stream",
     "text": [
      "INFO:geometry:total reduced potential before atom placement: 16.81406823661637\n"
     ]
    },
    {
     "name": "stdout",
     "output_type": "stream",
     "text": [
      "conducting subsequent work with the following platform: CUDA\n",
      "conducting subsequent work with the following platform: CUDA\n",
      "conducting subsequent work with the following platform: CUDA\n"
     ]
    },
    {
     "name": "stderr",
     "output_type": "stream",
     "text": [
      "INFO:geometry:total reduced energy added from growth system: 8.816525576567852\n",
      "INFO:geometry:final reduced energy 25.630593424131863\n",
      "INFO:geometry:sum of energies: 25.630593813184223\n",
      "INFO:geometry:magnitude of difference in the energies: 3.8905236010577937e-07\n",
      "INFO:geometry:Final logp_proposal: -27109.567672811587\n"
     ]
    },
    {
     "name": "stdout",
     "output_type": "stream",
     "text": [
      "added energy components: [('CustomBondForce', 0.0), ('CustomAngleForce', 0.00017810081275281765), ('CustomTorsionForce', 0.004336831234072134), ('CustomBondForce', 8.812010644521031)]\n"
     ]
    },
    {
     "name": "stderr",
     "output_type": "stream",
     "text": [
      "INFO:proposal_generator:\tConducting polymer point mutation proposal...\n",
      "INFO:proposal_generator:local_atom_map: {6: 6, 7: 7, 8: 8, 9: 9, 10: 10, 13: 14, 14: 15}\n",
      "INFO:proposal_generator:the mapped atom names are: [('N', 'N'), ('H', 'H'), ('CA', 'CA'), ('HA', 'HA'), ('CB', 'CB'), ('C', 'C'), ('O', 'O')]\n",
      "INFO:geometry:propose: performing forward proposal\n",
      "INFO:geometry:propose: unique new atoms detected; proceeding to _logp_propose...\n",
      "INFO:geometry:Conducting forward proposal...\n",
      "INFO:geometry:Computing proposal order with NetworkX...\n",
      "INFO:geometry:number of atoms to be placed: 14\n",
      "INFO:geometry:Atom index proposal order is [15, 18, 21, 24, 17, 16, 12, 23, 19, 20, 26, 11, 22, 25]\n",
      "INFO:geometry:omitted_bonds: []\n",
      "INFO:geometry:direction of proposal is forward; creating atoms_with_positions and new positions from old system/topology...\n",
      "INFO:geometry:creating growth system...\n",
      "INFO:geometry:\tcreating bond force...\n",
      "INFO:geometry:\tthere are 13 bonds in reference force.\n",
      "INFO:geometry:\tcreating angle force...\n",
      "INFO:geometry:\tthere are 57 angles in reference force.\n",
      "INFO:geometry:\tcreating torsion force...\n",
      "INFO:geometry:\tcreating extra torsions force...\n",
      "INFO:geometry:\tthere are 79 torsions in reference force.\n",
      "INFO:geometry:\tcreating nonbonded force...\n",
      "INFO:geometry:\t\tgrabbing reference nonbonded method, cutoff, switching function, switching distance...\n",
      "INFO:geometry:\t\tcreating nonbonded exception force (i.e. custom bond for 1,4s)...\n",
      "INFO:geometry:\t\tlooping through exceptions calculating growth indices, and adding appropriate interactions to custom bond force.\n",
      "INFO:geometry:\t\tthere are 163 in the reference Nonbonded force\n",
      "INFO:geometry:Neglected angle terms : []\n",
      "INFO:geometry:omitted_growth_terms: {'bonds': [], 'angles': [], 'torsions': [], '1,4s': []}\n",
      "INFO:geometry:extra torsions: {0: (22, 21, 24, 25, [1, Quantity(value=1.689596931389676, unit=radian), Quantity(value=1200.0, unit=kilocalorie/mole), 14]), 1: (22, 21, 24, 26, [1, Quantity(value=-0.3662477560421884, unit=radian), Quantity(value=1200.0, unit=kilocalorie/mole), 13]), 2: (23, 21, 24, 25, [1, Quantity(value=-2.5657812925071286, unit=radian), Quantity(value=1200.0, unit=kilocalorie/mole), 14]), 3: (23, 21, 24, 26, [1, Quantity(value=1.661559327240593, unit=radian), Quantity(value=1200.0, unit=kilocalorie/mole), 11]), 4: (18, 21, 24, 25, [1, Quantity(value=-0.4406822200497267, unit=radian), Quantity(value=1200.0, unit=kilocalorie/mole), 14]), 5: (18, 21, 24, 26, [1, Quantity(value=-2.4965269074815915, unit=radian), Quantity(value=1200.0, unit=kilocalorie/mole), 11])}\n",
      "INFO:geometry:neglected angle terms include []\n",
      "INFO:geometry:log probability choice of torsions and atom order: -27.07177615074987\n",
      "INFO:geometry:creating platform, integrators, and contexts; setting growth parameter\n"
     ]
    },
    {
     "name": "stdout",
     "output_type": "stream",
     "text": [
      "LYN\n",
      "making topology proposal\n",
      "generating geometry engine\n",
      "making geometry proposal from ALA to LYN\n",
      "conducting subsequent work with the following platform: CUDA\n"
     ]
    },
    {
     "name": "stderr",
     "output_type": "stream",
     "text": [
      "INFO:geometry:setting atoms_with_positions context new positions\n"
     ]
    },
    {
     "name": "stdout",
     "output_type": "stream",
     "text": [
      "conducting subsequent work with the following platform: CUDA\n"
     ]
    },
    {
     "name": "stderr",
     "output_type": "stream",
     "text": [
      "INFO:geometry:There are 14 new atoms\n",
      "INFO:geometry:\treduced angle potential = 0.07270706192273975.\n",
      "INFO:geometry:\treduced angle potential = 0.14997076318689817.\n",
      "INFO:geometry:\treduced angle potential = 0.10730783092134669.\n",
      "INFO:geometry:\treduced angle potential = 0.8496903894482399.\n",
      "INFO:geometry:\treduced angle potential = 0.6601803348492385.\n",
      "INFO:geometry:\treduced angle potential = 1.4120644453370563.\n",
      "INFO:geometry:\treduced angle potential = 1.0625243128984652.\n",
      "INFO:geometry:\treduced angle potential = 0.23283127230851172.\n",
      "INFO:geometry:\treduced angle potential = 0.4933629542053434.\n",
      "INFO:geometry:\treduced angle potential = 0.639413721787719.\n",
      "INFO:geometry:\treduced angle potential = 0.04358075803774033.\n",
      "INFO:geometry:\treduced angle potential = 0.06298567482988894.\n",
      "INFO:geometry:\treduced angle potential = 0.6373131233058302.\n",
      "INFO:geometry:\treduced angle potential = 0.2799857593508361.\n",
      "INFO:geometry:\tbeginning construction of no_nonbonded final system...\n",
      "INFO:geometry:\tinitial no-nonbonded final system forces ['HarmonicBondForce', 'HarmonicAngleForce', 'PeriodicTorsionForce', 'NonbondedForce']\n",
      "INFO:geometry:\tfinal no-nonbonded final system forces dict_keys(['HarmonicBondForce', 'HarmonicAngleForce', 'PeriodicTorsionForce', 'NonbondedForce'])\n",
      "INFO:geometry:\tthere are 13 bond forces in the no-nonbonded final system\n",
      "INFO:geometry:\tthere are 57 angle forces in the no-nonbonded final system\n",
      "INFO:geometry:\tthere are 79 torsion forces in the no-nonbonded final system\n",
      "INFO:geometry:forward final system defined with 0 neglected angles.\n"
     ]
    },
    {
     "name": "stdout",
     "output_type": "stream",
     "text": [
      "conducting subsequent work with the following platform: CUDA\n",
      "conducting subsequent work with the following platform: CUDA\n"
     ]
    },
    {
     "name": "stderr",
     "output_type": "stream",
     "text": [
      "INFO:geometry:total reduced potential before atom placement: 16.81406823661637\n"
     ]
    },
    {
     "name": "stdout",
     "output_type": "stream",
     "text": [
      "conducting subsequent work with the following platform: CUDA\n",
      "conducting subsequent work with the following platform: CUDA\n",
      "conducting subsequent work with the following platform: CUDA\n"
     ]
    },
    {
     "name": "stderr",
     "output_type": "stream",
     "text": [
      "INFO:geometry:total reduced energy added from growth system: 178.7984098669416\n",
      "INFO:geometry:final reduced energy 195.61247712573598\n",
      "INFO:geometry:sum of energies: 195.61247810355798\n",
      "INFO:geometry:magnitude of difference in the energies: 9.778219975942193e-07\n",
      "INFO:geometry:Final logp_proposal: 77.31545829970014\n"
     ]
    },
    {
     "name": "stdout",
     "output_type": "stream",
     "text": [
      "added energy components: [('CustomBondForce', 2.575620516453786), ('CustomAngleForce', 192.22770464437974), ('CustomTorsionForce', 6.3784848207471905), ('CustomBondForce', -22.383400114639112)]\n"
     ]
    },
    {
     "name": "stderr",
     "output_type": "stream",
     "text": [
      "INFO:geometry:logp_reverse: performing reverse proposal\n",
      "INFO:geometry:logp_reverse: unique new atoms detected; proceeding to _logp_propose...\n",
      "INFO:geometry:Conducting forward proposal...\n",
      "INFO:geometry:Computing proposal order with NetworkX...\n",
      "INFO:geometry:number of atoms to be placed: 3\n",
      "INFO:geometry:Atom index proposal order is [12, 11, 13]\n",
      "INFO:geometry:omitted_bonds: []\n",
      "INFO:geometry:direction of proposal is reverse; creating atoms_with_positions from old system/topology\n",
      "INFO:geometry:creating growth system...\n",
      "INFO:geometry:\tcreating bond force...\n",
      "INFO:geometry:\tthere are 9 bonds in reference force.\n",
      "INFO:geometry:\tcreating angle force...\n",
      "INFO:geometry:\tthere are 36 angles in reference force.\n",
      "INFO:geometry:\tcreating torsion force...\n",
      "INFO:geometry:\tcreating extra torsions force...\n",
      "INFO:geometry:\tthere are 42 torsions in reference force.\n",
      "INFO:geometry:\tcreating nonbonded force...\n",
      "INFO:geometry:\t\tgrabbing reference nonbonded method, cutoff, switching function, switching distance...\n",
      "INFO:geometry:\t\tcreating nonbonded exception force (i.e. custom bond for 1,4s)...\n",
      "INFO:geometry:\t\tlooping through exceptions calculating growth indices, and adding appropriate interactions to custom bond force.\n",
      "INFO:geometry:\t\tthere are 98 in the reference Nonbonded force\n",
      "INFO:geometry:Neglected angle terms : []\n",
      "INFO:geometry:omitted_growth_terms: {'bonds': [], 'angles': [], 'torsions': [], '1,4s': []}\n",
      "INFO:geometry:extra torsions: {0: (6, 8, 10, 11, [1, Quantity(value=2.105358864604291, unit=radian), Quantity(value=1200.0, unit=kilocalorie/mole), 2]), 1: (6, 8, 10, 12, [1, Quantity(value=-2.0823006129211796, unit=radian), Quantity(value=1200.0, unit=kilocalorie/mole), 1]), 2: (6, 8, 10, 13, [1, Quantity(value=0.018582237407944735, unit=radian), Quantity(value=1200.0, unit=kilocalorie/mole), 3]), 3: (14, 8, 10, 11, [1, Quantity(value=-0.036945135932107576, unit=radian), Quantity(value=1200.0, unit=kilocalorie/mole), 2]), 4: (14, 8, 10, 12, [1, Quantity(value=2.0585806937220097, unit=radian), Quantity(value=1200.0, unit=kilocalorie/mole), 1]), 5: (14, 8, 10, 13, [1, Quantity(value=-2.1237217631284597, unit=radian), Quantity(value=1200.0, unit=kilocalorie/mole), 3]), 6: (9, 8, 10, 11, [1, Quantity(value=-2.119603470065817, unit=radian), Quantity(value=1200.0, unit=kilocalorie/mole), 2]), 7: (9, 8, 10, 12, [1, Quantity(value=-0.024077640411697132, unit=radian), Quantity(value=1200.0, unit=kilocalorie/mole), 1]), 8: (9, 8, 10, 13, [1, Quantity(value=2.0768052099174152, unit=radian), Quantity(value=1200.0, unit=kilocalorie/mole), 3])}\n",
      "INFO:geometry:neglected angle terms include []\n",
      "INFO:geometry:log probability choice of torsions and atom order: -5.0875963352323845\n",
      "INFO:geometry:creating platform, integrators, and contexts; setting growth parameter\n"
     ]
    },
    {
     "name": "stdout",
     "output_type": "stream",
     "text": [
      "conducting subsequent work with the following platform: CUDA\n"
     ]
    },
    {
     "name": "stderr",
     "output_type": "stream",
     "text": [
      "INFO:geometry:setting atoms_with_positions context old positions\n"
     ]
    },
    {
     "name": "stdout",
     "output_type": "stream",
     "text": [
      "conducting subsequent work with the following platform: CUDA\n"
     ]
    },
    {
     "name": "stderr",
     "output_type": "stream",
     "text": [
      "INFO:geometry:There are 3 new atoms\n",
      "INFO:geometry:\treduced angle potential = 3.2058324695160406e-13.\n",
      "INFO:geometry:\treduced angle potential = 1.2915588460963948e-10.\n",
      "INFO:geometry:\treduced angle potential = 7.39096069988752e-11.\n",
      "INFO:geometry:\tbeginning construction of no_nonbonded final system...\n",
      "INFO:geometry:\tinitial no-nonbonded final system forces ['HarmonicBondForce', 'HarmonicAngleForce', 'PeriodicTorsionForce', 'NonbondedForce']\n",
      "INFO:geometry:\tfinal no-nonbonded final system forces dict_keys(['HarmonicBondForce', 'HarmonicAngleForce', 'PeriodicTorsionForce', 'NonbondedForce'])\n",
      "INFO:geometry:\tthere are 9 bond forces in the no-nonbonded final system\n",
      "INFO:geometry:\tthere are 36 angle forces in the no-nonbonded final system\n",
      "INFO:geometry:\tthere are 42 torsion forces in the no-nonbonded final system\n",
      "INFO:geometry:reverse final system defined with 0 neglected angles.\n"
     ]
    },
    {
     "name": "stdout",
     "output_type": "stream",
     "text": [
      "conducting subsequent work with the following platform: CUDA\n",
      "conducting subsequent work with the following platform: CUDA\n"
     ]
    },
    {
     "name": "stderr",
     "output_type": "stream",
     "text": [
      "INFO:geometry:total reduced potential before atom placement: 16.81406823661637\n"
     ]
    },
    {
     "name": "stdout",
     "output_type": "stream",
     "text": [
      "conducting subsequent work with the following platform: CUDA\n",
      "conducting subsequent work with the following platform: CUDA\n",
      "conducting subsequent work with the following platform: CUDA\n"
     ]
    },
    {
     "name": "stderr",
     "output_type": "stream",
     "text": [
      "INFO:geometry:total reduced energy added from growth system: 8.816525576567852\n",
      "INFO:geometry:final reduced energy 25.630593424131863\n",
      "INFO:geometry:sum of energies: 25.630593813184223\n",
      "INFO:geometry:magnitude of difference in the energies: 3.8905236010577937e-07\n",
      "INFO:geometry:Final logp_proposal: -27021.169230119536\n"
     ]
    },
    {
     "name": "stdout",
     "output_type": "stream",
     "text": [
      "added energy components: [('CustomBondForce', 0.0), ('CustomAngleForce', 0.00017810081275281765), ('CustomTorsionForce', 0.004336831234072134), ('CustomBondForce', 8.812010644521031)]\n"
     ]
    }
   ],
   "source": [
    "atp, system_generator = generate_atp(phase = 'vacuum')\n",
    "\n",
    "amino_acids = ['ASH', 'GLH', 'HID', 'HIE', 'HIP', 'LYN']\n",
    "for aa in amino_acids:\n",
    "    print(aa)\n",
    "    validate_energy_bookkeeping = False if aa in ['HID', 'HIE', 'HIP'] else True\n",
    "    topology_proposal, forward_new_positions, logp_proposal, logp_reverse = generate_dipeptide_top_pos_sys(atp.topology, \n",
    "                                                                                   aa, \n",
    "                                                                                   atp.system, \n",
    "                                                                                   atp.positions, \n",
    "                                                                                   system_generator,\n",
    "                                                                                   conduct_htf_prop=False,\n",
    "                                                                                   validate_energy_bookkeeping=validate_energy_bookkeeping,\n",
    "                                                                                   validate_endstate_energy=False)\n",
    "    app.PDBFile.writeFile(topology_proposal.new_topology, forward_new_positions, open(f\"../../input/{aa.lower()}_vacuum.pdb\", 'w'), keepIds=True)\n",
    "    "
   ]
  },
  {
   "cell_type": "code",
   "execution_count": 8,
   "id": "c7638049",
   "metadata": {},
   "outputs": [
    {
     "name": "stderr",
     "output_type": "stream",
     "text": [
      "DEBUG:openmmforcefields.system_generators:Trying GAFFTemplateGenerator to load gaff-2.11\n",
      "INFO:proposal_generator:\tConducting polymer point mutation proposal...\n",
      "INFO:proposal_generator:local_atom_map: {6: 6, 7: 7, 8: 8, 9: 9, 10: 10, 13: 14, 14: 15}\n",
      "INFO:proposal_generator:the mapped atom names are: [('N', 'N'), ('H', 'H'), ('CA', 'CA'), ('HA', 'HA'), ('CB', 'CB'), ('C', 'C'), ('O', 'O')]\n",
      "INFO:geometry:propose: performing forward proposal\n",
      "INFO:geometry:propose: unique new atoms detected; proceeding to _logp_propose...\n",
      "INFO:geometry:Conducting forward proposal...\n",
      "INFO:geometry:Computing proposal order with NetworkX...\n",
      "INFO:geometry:number of atoms to be placed: 10\n",
      "INFO:geometry:Atom index proposal order is [15, 16, 17, 21, 19, 22, 11, 12, 20, 18]\n",
      "INFO:geometry:omitted_bonds: [(17, 19)]\n",
      "INFO:geometry:direction of proposal is forward; creating atoms_with_positions and new positions from old system/topology...\n",
      "INFO:geometry:creating growth system...\n",
      "INFO:geometry:\tcreating bond force...\n",
      "INFO:geometry:\tthere are 15 bonds in reference force.\n",
      "INFO:geometry:\tcreating angle force...\n",
      "INFO:geometry:\tthere are 49 angles in reference force.\n",
      "INFO:geometry:\tcreating torsion force...\n",
      "INFO:geometry:\tcreating extra torsions force...\n",
      "INFO:geometry:\tthere are 72 torsions in reference force.\n",
      "INFO:geometry:\tcreating nonbonded force...\n",
      "INFO:geometry:\t\tgrabbing reference nonbonded method, cutoff, switching function, switching distance...\n",
      "INFO:geometry:\t\tcreating nonbonded exception force (i.e. custom bond for 1,4s)...\n",
      "INFO:geometry:\t\tlooping through exceptions calculating growth indices, and adding appropriate interactions to custom bond force.\n",
      "INFO:geometry:\t\tthere are 136 in the reference Nonbonded force\n",
      "INFO:geometry:Neglected angle terms : []\n",
      "INFO:geometry:omitted_growth_terms: {'bonds': [(17, 19)], 'angles': [(16, 17, 19), (17, 19, 20), (17, 19, 21), (18, 17, 19)], 'torsions': [(15, 16, 17, 19), (15, 21, 19, 17), (16, 17, 19, 20), (16, 17, 19, 21), (17, 19, 21, 22), (18, 17, 19, 20), (18, 17, 19, 21), (16, 19, 17, 18)], '1,4s': [(16, 20), (18, 20), (18, 21), (17, 22)]}\n",
      "INFO:geometry:extra torsions: {0: (22, 21, 19, 20, [1, Quantity(value=3.1403190756536845, unit=radian), Quantity(value=1200.0, unit=kilocalorie/mole), 9]), 1: (15, 21, 19, 20, [1, Quantity(value=-0.0015267922008863621, unit=radian), Quantity(value=1200.0, unit=kilocalorie/mole), 9]), 2: (22, 21, 15, 10, [1, Quantity(value=-3.1402931952204085, unit=radian), Quantity(value=1200.0, unit=kilocalorie/mole), 6]), 3: (22, 21, 15, 16, [1, Quantity(value=0.0018275955389492893, unit=radian), Quantity(value=1200.0, unit=kilocalorie/mole), 6]), 4: (19, 21, 15, 10, [1, Quantity(value=0.0015431461438990546, unit=radian), Quantity(value=1200.0, unit=kilocalorie/mole), 5]), 5: (19, 21, 15, 16, [1, Quantity(value=-3.1395213702760545, unit=radian), Quantity(value=1200.0, unit=kilocalorie/mole), 5]), 6: (21, 15, 16, 17, [1, Quantity(value=3.1376355430016485, unit=radian), Quantity(value=1200.0, unit=kilocalorie/mole), 4]), 7: (10, 15, 16, 17, [1, Quantity(value=-0.003408777027075871, unit=radian), Quantity(value=1200.0, unit=kilocalorie/mole), 3]), 8: (18, 17, 16, 15, [1, Quantity(value=0.00157517018410136, unit=radian), Quantity(value=1200.0, unit=kilocalorie/mole), 10])}\n",
      "INFO:geometry:neglected angle terms include []\n",
      "INFO:geometry:log probability choice of torsions and atom order: -13.03680548904268\n",
      "INFO:geometry:creating platform, integrators, and contexts; setting growth parameter\n"
     ]
    },
    {
     "name": "stdout",
     "output_type": "stream",
     "text": [
      "HIS\n",
      "making topology proposal\n",
      "generating geometry engine\n",
      "making geometry proposal from ALA to HIS\n",
      "conducting subsequent work with the following platform: CUDA\n"
     ]
    },
    {
     "name": "stderr",
     "output_type": "stream",
     "text": [
      "INFO:geometry:setting atoms_with_positions context new positions\n"
     ]
    },
    {
     "name": "stdout",
     "output_type": "stream",
     "text": [
      "conducting subsequent work with the following platform: CUDA\n"
     ]
    },
    {
     "name": "stderr",
     "output_type": "stream",
     "text": [
      "INFO:geometry:There are 10 new atoms\n",
      "INFO:geometry:\treduced angle potential = 0.1987967396038316.\n",
      "INFO:geometry:\treduced angle potential = 0.14814694406115592.\n",
      "INFO:geometry:\treduced angle potential = 0.47266927675707826.\n",
      "INFO:geometry:\treduced angle potential = 0.05740466271454652.\n",
      "INFO:geometry:\treduced angle potential = 0.286198866294303.\n",
      "INFO:geometry:\treduced angle potential = 1.911877434411069.\n",
      "INFO:geometry:\treduced angle potential = 0.926801018222322.\n",
      "INFO:geometry:\treduced angle potential = 0.4855890792052561.\n",
      "INFO:geometry:\treduced angle potential = 2.2743840392624843.\n",
      "INFO:geometry:\treduced angle potential = 0.0186635114304322.\n",
      "INFO:geometry:\tbeginning construction of no_nonbonded final system...\n",
      "INFO:geometry:\tinitial no-nonbonded final system forces ['HarmonicBondForce', 'HarmonicAngleForce', 'PeriodicTorsionForce', 'NonbondedForce']\n",
      "INFO:geometry:\tfinal no-nonbonded final system forces dict_keys(['HarmonicBondForce', 'HarmonicAngleForce', 'PeriodicTorsionForce', 'NonbondedForce'])\n",
      "INFO:geometry:\tthere are 15 bond forces in the no-nonbonded final system\n",
      "INFO:geometry:\tthere are 49 angle forces in the no-nonbonded final system\n",
      "INFO:geometry:\tthere are 72 torsion forces in the no-nonbonded final system\n",
      "INFO:geometry:forward final system defined with 0 neglected angles.\n"
     ]
    },
    {
     "name": "stdout",
     "output_type": "stream",
     "text": [
      "conducting subsequent work with the following platform: CUDA\n",
      "conducting subsequent work with the following platform: CUDA\n"
     ]
    },
    {
     "name": "stderr",
     "output_type": "stream",
     "text": [
      "INFO:geometry:total reduced potential before atom placement: 16.81406823661637\n"
     ]
    },
    {
     "name": "stdout",
     "output_type": "stream",
     "text": [
      "conducting subsequent work with the following platform: CUDA\n",
      "conducting subsequent work with the following platform: CUDA\n",
      "conducting subsequent work with the following platform: CUDA\n"
     ]
    },
    {
     "name": "stderr",
     "output_type": "stream",
     "text": [
      "INFO:geometry:total reduced energy added from growth system: 49.96676768647254\n",
      "INFO:geometry:final reduced energy 1106.8150041262575\n",
      "INFO:geometry:sum of energies: 66.78083592308892\n",
      "INFO:geometry:magnitude of difference in the energies: 1040.0341682031685\n",
      "INFO:geometry:Final logp_proposal: 81.43845142194627\n"
     ]
    },
    {
     "name": "stdout",
     "output_type": "stream",
     "text": [
      "added energy components: [('CustomBondForce', 0.5562557256986683), ('CustomAngleForce', 23.44184900009452), ('CustomTorsionForce', 3.7293228933664504), ('CustomBondForce', 22.2393400673129)]\n"
     ]
    },
    {
     "name": "stderr",
     "output_type": "stream",
     "text": [
      "INFO:geometry:logp_reverse: performing reverse proposal\n",
      "INFO:geometry:logp_reverse: unique new atoms detected; proceeding to _logp_propose...\n",
      "INFO:geometry:Conducting forward proposal...\n",
      "INFO:geometry:Computing proposal order with NetworkX...\n",
      "INFO:geometry:number of atoms to be placed: 3\n",
      "INFO:geometry:Atom index proposal order is [13, 11, 12]\n",
      "INFO:geometry:omitted_bonds: []\n",
      "INFO:geometry:direction of proposal is reverse; creating atoms_with_positions from old system/topology\n",
      "INFO:geometry:creating growth system...\n",
      "INFO:geometry:\tcreating bond force...\n",
      "INFO:geometry:\tthere are 9 bonds in reference force.\n",
      "INFO:geometry:\tcreating angle force...\n",
      "INFO:geometry:\tthere are 36 angles in reference force.\n",
      "INFO:geometry:\tcreating torsion force...\n",
      "INFO:geometry:\tcreating extra torsions force...\n",
      "INFO:geometry:\tthere are 42 torsions in reference force.\n",
      "INFO:geometry:\tcreating nonbonded force...\n",
      "INFO:geometry:\t\tgrabbing reference nonbonded method, cutoff, switching function, switching distance...\n",
      "INFO:geometry:\t\tcreating nonbonded exception force (i.e. custom bond for 1,4s)...\n",
      "INFO:geometry:\t\tlooping through exceptions calculating growth indices, and adding appropriate interactions to custom bond force.\n",
      "INFO:geometry:\t\tthere are 98 in the reference Nonbonded force\n",
      "INFO:geometry:Neglected angle terms : []\n",
      "INFO:geometry:omitted_growth_terms: {'bonds': [], 'angles': [], 'torsions': [], '1,4s': []}\n",
      "INFO:geometry:extra torsions: {0: (6, 8, 10, 11, [1, Quantity(value=2.105358864604291, unit=radian), Quantity(value=1200.0, unit=kilocalorie/mole), 2]), 1: (6, 8, 10, 12, [1, Quantity(value=-2.0823006129211796, unit=radian), Quantity(value=1200.0, unit=kilocalorie/mole), 3]), 2: (6, 8, 10, 13, [1, Quantity(value=0.018582237407944735, unit=radian), Quantity(value=1200.0, unit=kilocalorie/mole), 1]), 3: (14, 8, 10, 11, [1, Quantity(value=-0.036945135932107576, unit=radian), Quantity(value=1200.0, unit=kilocalorie/mole), 2]), 4: (14, 8, 10, 12, [1, Quantity(value=2.0585806937220097, unit=radian), Quantity(value=1200.0, unit=kilocalorie/mole), 3]), 5: (14, 8, 10, 13, [1, Quantity(value=-2.1237217631284597, unit=radian), Quantity(value=1200.0, unit=kilocalorie/mole), 1]), 6: (9, 8, 10, 11, [1, Quantity(value=-2.119603470065817, unit=radian), Quantity(value=1200.0, unit=kilocalorie/mole), 2]), 7: (9, 8, 10, 12, [1, Quantity(value=-0.024077640411697132, unit=radian), Quantity(value=1200.0, unit=kilocalorie/mole), 3]), 8: (9, 8, 10, 13, [1, Quantity(value=2.0768052099174152, unit=radian), Quantity(value=1200.0, unit=kilocalorie/mole), 1])}\n",
      "INFO:geometry:neglected angle terms include []\n",
      "INFO:geometry:log probability choice of torsions and atom order: -5.0875963352323845\n",
      "INFO:geometry:creating platform, integrators, and contexts; setting growth parameter\n"
     ]
    },
    {
     "name": "stdout",
     "output_type": "stream",
     "text": [
      "conducting subsequent work with the following platform: CUDA\n"
     ]
    },
    {
     "name": "stderr",
     "output_type": "stream",
     "text": [
      "INFO:geometry:setting atoms_with_positions context old positions\n"
     ]
    },
    {
     "name": "stdout",
     "output_type": "stream",
     "text": [
      "conducting subsequent work with the following platform: CUDA\n"
     ]
    },
    {
     "name": "stderr",
     "output_type": "stream",
     "text": [
      "INFO:geometry:There are 3 new atoms\n",
      "INFO:geometry:\treduced angle potential = 7.39096069988752e-11.\n",
      "INFO:geometry:\treduced angle potential = 1.2915588460963948e-10.\n",
      "INFO:geometry:\treduced angle potential = 3.2058324695160406e-13.\n",
      "INFO:geometry:\tbeginning construction of no_nonbonded final system...\n",
      "INFO:geometry:\tinitial no-nonbonded final system forces ['HarmonicBondForce', 'HarmonicAngleForce', 'PeriodicTorsionForce', 'NonbondedForce']\n",
      "INFO:geometry:\tfinal no-nonbonded final system forces dict_keys(['HarmonicBondForce', 'HarmonicAngleForce', 'PeriodicTorsionForce', 'NonbondedForce'])\n",
      "INFO:geometry:\tthere are 9 bond forces in the no-nonbonded final system\n",
      "INFO:geometry:\tthere are 36 angle forces in the no-nonbonded final system\n",
      "INFO:geometry:\tthere are 42 torsion forces in the no-nonbonded final system\n",
      "INFO:geometry:reverse final system defined with 0 neglected angles.\n"
     ]
    },
    {
     "name": "stdout",
     "output_type": "stream",
     "text": [
      "conducting subsequent work with the following platform: CUDA\n",
      "conducting subsequent work with the following platform: CUDA\n"
     ]
    },
    {
     "name": "stderr",
     "output_type": "stream",
     "text": [
      "INFO:geometry:total reduced potential before atom placement: 16.81406823661637\n"
     ]
    },
    {
     "name": "stdout",
     "output_type": "stream",
     "text": [
      "conducting subsequent work with the following platform: CUDA\n",
      "conducting subsequent work with the following platform: CUDA\n",
      "conducting subsequent work with the following platform: CUDA\n"
     ]
    },
    {
     "name": "stderr",
     "output_type": "stream",
     "text": [
      "INFO:geometry:total reduced energy added from growth system: 8.816525576567852\n",
      "INFO:geometry:final reduced energy 25.630593424131863\n",
      "INFO:geometry:sum of energies: 25.630593813184223\n",
      "INFO:geometry:magnitude of difference in the energies: 3.8905236010577937e-07\n",
      "INFO:geometry:Final logp_proposal: -26857.53410919269\n"
     ]
    },
    {
     "name": "stdout",
     "output_type": "stream",
     "text": [
      "added energy components: [('CustomBondForce', 0.0), ('CustomAngleForce', 0.00017810081275281765), ('CustomTorsionForce', 0.004336831234072134), ('CustomBondForce', 8.812010644521031)]\n"
     ]
    }
   ],
   "source": [
    "atp, system_generator = generate_atp(phase = 'vacuum')\n",
    "\n",
    "amino_acids = ['HIS']\n",
    "for aa in amino_acids:\n",
    "    print(aa)\n",
    "    validate_energy_bookkeeping = False if aa in ['HIS', 'HID', 'HIE', 'HIP'] else True\n",
    "    topology_proposal, forward_new_positions, logp_proposal, logp_reverse = generate_dipeptide_top_pos_sys(atp.topology, \n",
    "                                                                                   aa, \n",
    "                                                                                   atp.system, \n",
    "                                                                                   atp.positions, \n",
    "                                                                                   system_generator,\n",
    "                                                                                   conduct_htf_prop=False,\n",
    "                                                                                   validate_energy_bookkeeping=validate_energy_bookkeeping,\n",
    "                                                                                   validate_endstate_energy=False)\n",
    "    app.PDBFile.writeFile(topology_proposal.new_topology, forward_new_positions, open(f\"../../input/{aa.lower()}_vacuum.pdb\", 'w'), keepIds=True)\n",
    "    "
   ]
  },
  {
   "cell_type": "code",
   "execution_count": 12,
   "id": "04c16c4b",
   "metadata": {},
   "outputs": [],
   "source": [
    "system = topology_proposal.new_system\n",
    "positions = forward_new_positions\n",
    "\n",
    "# Check to see if minimizing makes the pdb look better\n",
    "temperature = 300 * unit.kelvin\n",
    "collision_rate = 1/unit.picosecond\n",
    "timestep = 4* unit.femtosecond\n",
    "integrator = openmm.LangevinMiddleIntegrator(temperature, collision_rate, timestep)\n",
    "    \n",
    "# Set up context\n",
    "platform_name = 'CUDA'\n",
    "platform = openmm.Platform.getPlatformByName(platform_name)\n",
    "if platform_name in ['CUDA', 'OpenCL']:\n",
    "    platform.setPropertyDefaultValue('Precision', 'mixed')\n",
    "if platform_name in ['CUDA']:\n",
    "    platform.setPropertyDefaultValue('DeterministicForces', 'true')\n",
    "\n",
    "context = openmm.Context(system, integrator, platform)\n",
    "context.setPeriodicBoxVectors(*system.getDefaultPeriodicBoxVectors())\n",
    "context.setPositions(positions)\n",
    "context.setVelocitiesToTemperature(temperature)\n",
    "\n",
    "openmm.LocalEnergyMinimizer.minimize(context)\n",
    "\n",
    "state = context.getState(getPositions=True)\n",
    "app.PDBFile.writeFile(topology_proposal.new_topology, state.getPositions(asNumpy=True), open(f\"../../input/{aa.lower()}_minimized.pdb\", \"w\"), keepIds=True)"
   ]
  },
  {
   "cell_type": "code",
   "execution_count": null,
   "id": "03901b0b",
   "metadata": {},
   "outputs": [],
   "source": []
  }
 ],
 "metadata": {
  "kernelspec": {
   "display_name": "Python 3 (ipykernel)",
   "language": "python",
   "name": "python3"
  },
  "language_info": {
   "codemirror_mode": {
    "name": "ipython",
    "version": 3
   },
   "file_extension": ".py",
   "mimetype": "text/x-python",
   "name": "python",
   "nbconvert_exporter": "python",
   "pygments_lexer": "ipython3",
   "version": "3.9.9"
  }
 },
 "nbformat": 4,
 "nbformat_minor": 5
}
