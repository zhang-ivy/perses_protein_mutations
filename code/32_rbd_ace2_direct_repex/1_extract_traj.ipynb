{
 "cells": [
  {
   "cell_type": "code",
   "execution_count": 1,
   "id": "074c8ef4",
   "metadata": {},
   "outputs": [
    {
     "name": "stderr",
     "output_type": "stream",
     "text": [
      "Warning: importing 'simtk.openmm' is deprecated.  Import 'openmm' instead.\n"
     ]
    }
   ],
   "source": [
    "from simtk.openmm import unit, app\n",
    "from tqdm import tqdm_notebook\n",
    "\n",
    "import os\n",
    "import pickle\n",
    "import mdtraj as md\n",
    "import numpy as np\n"
   ]
  },
  {
   "cell_type": "code",
   "execution_count": 7,
   "id": "039aaf86",
   "metadata": {},
   "outputs": [],
   "source": [
    "def new_positions(htf, hybrid_positions):\n",
    "    n_atoms_new = htf._topology_proposal.n_atoms_new\n",
    "    hybrid_indices = [htf._new_to_hybrid_map[idx] for idx in range(n_atoms_new)]\n",
    "    return hybrid_positions[hybrid_indices, :]\n",
    "\n",
    "def old_positions(htf, hybrid_positions):\n",
    "    n_atoms_old = htf._topology_proposal.n_atoms_old\n",
    "    hybrid_indices = [htf._old_to_hybrid_map[idx] for idx in range(n_atoms_old)]\n",
    "    return hybrid_positions[hybrid_indices, :]\n",
    "\n",
    "def get_trajs(i, phase, out_dir, htf, state):\n",
    "    new_top = md.Topology.from_openmm(htf._topology_proposal.new_topology)\n",
    "    old_top = md.Topology.from_openmm(htf._topology_proposal.old_topology)\n",
    "\n",
    "    # From Hannah: https://github.com/hannahbrucemacdonald/endstate_pdbs/blob/master/scripts/input_for_pol_calc.py\n",
    "    from perses.analysis.utils import open_netcdf\n",
    "    nc = open_netcdf(os.path.join(out_dir, f\"{i}_{phase}.nc\"))\n",
    "    nc_checkpoint = open_netcdf(os.path.join(out_dir, f\"{i}_{phase}_checkpoint.nc\"))\n",
    "    checkpoint_interval = nc_checkpoint.CheckpointInterval\n",
    "    all_positions = nc_checkpoint.variables['positions']\n",
    "    n_iter, n_replicas, n_atoms, _ = np.shape(all_positions)\n",
    "    box_vectors = np.array(nc_checkpoint['box_vectors'])\n",
    "#     print(\"n_iter: \", n_iter)\n",
    "    n_iter = 100\n",
    "\n",
    "    all_pos_new = np.zeros(shape=(n_iter, new_top.n_atoms, 3))\n",
    "    all_pos_old = np.zeros(shape=(n_iter, old_top.n_atoms, 3))\n",
    "    all_pos_hybrid = np.zeros(shape=(n_iter, n_atoms, 3))\n",
    "    for iteration in tqdm_notebook(range(n_iter)): # NOTE THAT I AM ONLY EXTRACTING THE FIRST 1 NS SNAPSHOTS\n",
    "        replica_id = np.where(nc.variables['states'][iteration*checkpoint_interval] == state)[0]\n",
    "#         replica_id = 0 # This should only be hard coded to replica 0, for rest simulations, where I am only saving the positions at state = 0\n",
    "        pos = all_positions[iteration,replica_id,:,:][0] *unit.nanometers\n",
    "        all_pos_new[iteration] = new_positions(htf, pos).value_in_unit_system(unit.md_unit_system) # Get new positions only\n",
    "        all_pos_hybrid[iteration] = pos # Get hybrid positions\n",
    "        all_pos_old[iteration] = old_positions(htf, pos).value_in_unit_system(unit.md_unit_system)\n",
    "\n",
    "    traj_old = md.Trajectory(all_pos_old, old_top)\n",
    "    traj_new = md.Trajectory(all_pos_new, new_top)\n",
    "    \n",
    "    # Set unit cell vectors in traj \n",
    "    box_vectors = [val.value_in_unit_system(unit.md_unit_system) for val in htf.hybrid_system.getDefaultPeriodicBoxVectors()]\n",
    "    box_vectors_formatted = np.ndarray(shape=(3,3), buffer=np.array(box_vectors)).astype(np.float32) # note that mdraj expect np.ndarray, not np.arrays\n",
    "    box_vectors_repeated = np.repeat(np.array([box_vectors_formatted]), n_iter, axis=0)\n",
    "    traj_old.unitcell_vectors = box_vectors_repeated\n",
    "    traj_new.unitcell_vectors = box_vectors_repeated\n",
    "    \n",
    "#     print(\"imaging old traj\")\n",
    "#     traj_old = traj_old.image_molecules()\n",
    "    \n",
    "#     print(\"saving old traj\")\n",
    "#     traj_old.save(os.path.join(out_dir, f\"{i}_{phase}_old_state_{state}.dcd\"))\n",
    "# #     traj_old[0].save(os.path.join(out_dir, f\"{i}_{phase}_old.pdb\"))\n",
    "#     app.PDBxFile.writeFile(traj_old.topology.to_openmm(), traj_old.openmm_positions(0), file=open(os.path.join(out_dir, f\"{i}_{phase}_old_state_{state}.cif\"), \"w\"), keepIds=True)\n",
    "    \n",
    "    print(traj_new)\n",
    "    \n",
    "    print(\"imaging new traj\")\n",
    "    traj_new = traj_new.image_molecules()\n",
    "    \n",
    "    print(\"saving new traj\")\n",
    "    traj_new.save(os.path.join(out_dir, f\"{i}_{phase}_new_state_{state}.dcd\"))\n",
    "#     traj_new[0].save(os.path.join(out_dir, f\"{i}_{phase}_new.pdb\"))\n",
    "    app.PDBxFile.writeFile(traj_new.topology.to_openmm(), traj_new.openmm_positions(99), file=open(os.path.join(out_dir, f\"{i}_{phase}_new_state_{state}.cif\"), \"w\"), keepIds=True)\n"
   ]
  },
  {
   "cell_type": "code",
   "execution_count": null,
   "id": "6c93df84",
   "metadata": {},
   "outputs": [
    {
     "name": "stderr",
     "output_type": "stream",
     "text": [
      "INFO:rdkit:Enabling RDKit 2021.03.5 jupyter extensions\n"
     ]
    }
   ],
   "source": [
    "with open(\"/data/chodera/zhangi/perses_benchmark/repex/32/0/0/0_complex.pickle\", \"rb\") as f:\n",
    "    htf = pickle.load(f)"
   ]
  },
  {
   "cell_type": "code",
   "execution_count": 15,
   "id": "e72a85e7",
   "metadata": {
    "scrolled": true
   },
   "outputs": [
    {
     "name": "stdout",
     "output_type": "stream",
     "text": [
      "n_iter:  105\n"
     ]
    },
    {
     "name": "stderr",
     "output_type": "stream",
     "text": [
      "/scratch/lsftmp/3384006.tmpdir/ipykernel_37915/1571033238.py:28: TqdmDeprecationWarning: This function will be removed in tqdm==5.0.0\n",
      "Please use `tqdm.notebook.tqdm` instead of `tqdm.tqdm_notebook`\n",
      "  for iteration in tqdm_notebook(range(n_iter)):\n"
     ]
    },
    {
     "data": {
      "application/vnd.jupyter.widget-view+json": {
       "model_id": "757efc5319514d57ab95a11b2a0848ff",
       "version_major": 2,
       "version_minor": 0
      },
      "text/plain": [
       "  0%|          | 0/105 [00:00<?, ?it/s]"
      ]
     },
     "metadata": {},
     "output_type": "display_data"
    }
   ],
   "source": [
    "outdir = \"/data/chodera/zhangi/perses_benchmark/repex/32/0/0/\"\n",
    "i = 0\n",
    "phase = 'complex'\n",
    "get_trajs(i, phase, outdir, htf)"
   ]
  },
  {
   "cell_type": "markdown",
   "id": "cba8d971",
   "metadata": {},
   "source": [
    "# Get traj of 32/0/2 at state 2 (lambda = 0.21818)"
   ]
  },
  {
   "cell_type": "code",
   "execution_count": 10,
   "id": "b1158e6d",
   "metadata": {},
   "outputs": [],
   "source": [
    "with open(\"/data/chodera/zhangi/perses_benchmark/repex/32/0/2/2_complex.pickle\", \"rb\") as f:\n",
    "    htf = pickle.load(f)\n",
    "    "
   ]
  },
  {
   "cell_type": "code",
   "execution_count": 11,
   "id": "67e6c88d",
   "metadata": {},
   "outputs": [
    {
     "name": "stderr",
     "output_type": "stream",
     "text": [
      "/scratch/lsftmp/3527688.tmpdir/ipykernel_37774/910701077.py:29: TqdmDeprecationWarning: This function will be removed in tqdm==5.0.0\n",
      "Please use `tqdm.notebook.tqdm` instead of `tqdm.tqdm_notebook`\n",
      "  for iteration in tqdm_notebook(range(n_iter)): # NOTE THAT I AM ONLY EXTRACTING THE FIRST 1 NS SNAPSHOTS\n"
     ]
    },
    {
     "data": {
      "application/vnd.jupyter.widget-view+json": {
       "model_id": "1c12d4ed60b441518d5659e5f5f7bf74",
       "version_major": 2,
       "version_minor": 0
      },
      "text/plain": [
       "  0%|          | 0/100 [00:00<?, ?it/s]"
      ]
     },
     "metadata": {},
     "output_type": "display_data"
    },
    {
     "name": "stdout",
     "output_type": "stream",
     "text": [
      "<mdtraj.Trajectory with 100 frames, 185384 atoms, 57660 residues, and unitcells>\n",
      "imaging new traj\n",
      "saving new traj\n"
     ]
    }
   ],
   "source": [
    "outdir = \"/data/chodera/zhangi/perses_benchmark/repex/32/0/2/\"\n",
    "i = 2\n",
    "phase = 'complex'\n",
    "get_trajs(i, phase, outdir, htf, 2)\n",
    "\n"
   ]
  },
  {
   "cell_type": "markdown",
   "id": "a9d22e51",
   "metadata": {},
   "source": [
    "# Get traj of 32/2/0 at state 5 (lambda = 0.217)"
   ]
  },
  {
   "cell_type": "code",
   "execution_count": 8,
   "id": "87478313",
   "metadata": {},
   "outputs": [],
   "source": [
    "with open(\"/data/chodera/zhangi/perses_benchmark/repex/32/2/0/0_complex.pickle\", \"rb\") as f:\n",
    "    htf = pickle.load(f)"
   ]
  },
  {
   "cell_type": "code",
   "execution_count": 9,
   "id": "660550ad",
   "metadata": {},
   "outputs": [
    {
     "name": "stderr",
     "output_type": "stream",
     "text": [
      "/scratch/lsftmp/3527688.tmpdir/ipykernel_37774/910701077.py:29: TqdmDeprecationWarning: This function will be removed in tqdm==5.0.0\n",
      "Please use `tqdm.notebook.tqdm` instead of `tqdm.tqdm_notebook`\n",
      "  for iteration in tqdm_notebook(range(n_iter)): # NOTE THAT I AM ONLY EXTRACTING THE FIRST 1 NS SNAPSHOTS\n"
     ]
    },
    {
     "data": {
      "application/vnd.jupyter.widget-view+json": {
       "model_id": "771e042d6e4d43b4aa7f9b1a69208ffb",
       "version_major": 2,
       "version_minor": 0
      },
      "text/plain": [
       "  0%|          | 0/100 [00:00<?, ?it/s]"
      ]
     },
     "metadata": {},
     "output_type": "display_data"
    },
    {
     "name": "stdout",
     "output_type": "stream",
     "text": [
      "<mdtraj.Trajectory with 100 frames, 185384 atoms, 57660 residues, and unitcells>\n",
      "imaging new traj\n",
      "saving new traj\n"
     ]
    }
   ],
   "source": [
    "outdir = \"/data/chodera/zhangi/perses_benchmark/repex/32/2/0/\"\n",
    "i = 0\n",
    "phase = 'complex'\n",
    "get_trajs(i, phase, outdir, htf, 5)\n",
    "\n"
   ]
  },
  {
   "cell_type": "code",
   "execution_count": null,
   "id": "d3564b92",
   "metadata": {},
   "outputs": [],
   "source": []
  }
 ],
 "metadata": {
  "kernelspec": {
   "display_name": "Python 3 (ipykernel)",
   "language": "python",
   "name": "python3"
  },
  "language_info": {
   "codemirror_mode": {
    "name": "ipython",
    "version": 3
   },
   "file_extension": ".py",
   "mimetype": "text/x-python",
   "name": "python",
   "nbconvert_exporter": "python",
   "pygments_lexer": "ipython3",
   "version": "3.9.7"
  }
 },
 "nbformat": 4,
 "nbformat_minor": 5
}
