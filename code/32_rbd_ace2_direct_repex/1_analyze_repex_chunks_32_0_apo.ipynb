{
 "cells": [
  {
   "cell_type": "code",
   "execution_count": 1,
   "metadata": {},
   "outputs": [
    {
     "name": "stderr",
     "output_type": "stream",
     "text": [
      "Warning: importing 'simtk.openmm' is deprecated.  Import 'openmm' instead.\n"
     ]
    }
   ],
   "source": [
    "from perses.analysis import utils\n",
    "from openmmtools.multistate import MultiStateReporter, MultiStateSamplerAnalyzer\n",
    "from simtk import unit\n",
    "import os\n",
    "import itertools\n",
    "from tqdm import tqdm_notebook\n",
    "import pandas as pd\n",
    "import numpy as np\n",
    "import seaborn as sns\n",
    "import matplotlib.pyplot as plt\n",
    "import logging\n",
    "from perses.analysis import utils\n",
    "\n",
    "from openmmtools.constants import kB\n",
    "KT_KCALMOL = kB * 300 * unit.kelvin / unit.kilocalories_per_mole\n",
    "\n",
    "import warnings\n",
    "warnings.filterwarnings('ignore')"
   ]
  },
  {
   "cell_type": "code",
   "execution_count": 2,
   "metadata": {},
   "outputs": [],
   "source": [
    "class MultiStateReporter2(MultiStateReporter):\n",
    "    def read_energies(self, iteration=slice(None)):\n",
    "        \"\"\"Retrieve the energy matrix at the given iteration on the analysis file\n",
    "        Parameters\n",
    "        ----------\n",
    "        iteration : int or slice\n",
    "            The iteration(s) at which to read the data. The slice(None) allows fetching all iterations at once.\n",
    "        Returns\n",
    "        -------\n",
    "        energy_thermodynamic_states : n_replicas x n_states numpy.ndarray\n",
    "            ``energy_thermodynamic_states[iteration, i, j]`` is the reduced potential computed at\n",
    "            SamplerState ``sampler_states[iteration, i]`` and ThermodynamicState ``thermodynamic_states[iteration, j]``.\n",
    "        energy_neighborhoods : n_replicas x n_states numpy.ndarray\n",
    "            energy_neighborhoods[replica_index, state_index] is 1 if the energy was computed for this state,\n",
    "            0 otherwise\n",
    "        energy_unsampled_states : n_replicas x n_unsampled_states numpy.ndarray\n",
    "            ``energy_unsampled_states[iteration, i, j]`` is the reduced potential computed at SamplerState\n",
    "            ``sampler_states[iteration, i]`` and ThermodynamicState ``unsampled_thermodynamic_states[iteration, j]``.\n",
    "        \"\"\"\n",
    "        # Determine last consistent iteration\n",
    "        iteration = self._map_iteration_to_good(iteration)\n",
    "        # Retrieve energies at all thermodynamic states\n",
    "        energy_thermodynamic_states = np.array(self._storage_analysis.variables['energies'][iteration, :, :], np.float64)\n",
    "        # Retrieve neighborhoods, assuming global neighborhoods if reading a pre-neighborhoods file\n",
    "        try:\n",
    "            energy_neighborhoods = np.array(self._storage_analysis.variables['neighborhoods'][iteration, :, :], 'i1')\n",
    "        except KeyError:\n",
    "            energy_neighborhoods = np.ones(energy_thermodynamic_states.shape, 'i1')\n",
    "        # Read energies at unsampled states, if present\n",
    "#         try:\n",
    "#             energy_unsampled_states = np.array(self._storage_analysis.variables['unsampled_energies'][iteration, :, :], np.float64)\n",
    "#         except KeyError:\n",
    "#             # There are no unsampled thermodynamic states.\n",
    "        unsampled_shape = energy_thermodynamic_states.shape[:-1] + (0,)\n",
    "        energy_unsampled_states = np.zeros(unsampled_shape)\n",
    "        return energy_thermodynamic_states, energy_neighborhoods, energy_unsampled_states\n"
   ]
  },
  {
   "cell_type": "code",
   "execution_count": 3,
   "metadata": {},
   "outputs": [],
   "source": [
    "# Given a path, get dg and ddg\n",
    "def analyze(path):\n",
    "    reporter = MultiStateReporter(path)\n",
    "    analyzer = MultiStateSamplerAnalyzer(reporter)\n",
    "    f_ij, df_ij = analyzer.get_free_energy()\n",
    "    f = f_ij[0,-1] # units = kT\n",
    "#     f = f_ij[0,-1] * analyzer.kT\n",
    "#     dg = f.in_units_of(unit.kilocalories_per_mole)\n",
    "    df = df_ij[0, -1]\n",
    "#     df = df_ij[0, -1] * analyzer.kT\n",
    "#     ddg = df.in_units_of(unit.kilocalories_per_mole)\n",
    "    return f, df\n",
    "\n",
    "def analyze_dom(path):\n",
    "    reporter = MultiStateReporter2(path)\n",
    "    ncfile = utils.open_netcdf(path)\n",
    "    n_iterations = ncfile.variables['last_iteration'][0]\n",
    "    print(f\"n_iterations: {n_iterations}\")\n",
    "    dg, ddg = list(), list()\n",
    "#     iterations_to_analyze = list(range (1, n_iterations, 500)) + [int(n_iterations-1)]\n",
    "#     print(iterations_to_analyze) # check that this is giving me the last avail iteration\n",
    "#     for step in iterations_to_analyze: \n",
    "#         analyzer = MultiStateSamplerAnalyzer(reporter, max_n_iterations=step)\n",
    "#         f_ij, df_ij = analyzer.get_free_energy()\n",
    "#         dg.append(f_ij[0,-1])\n",
    "#         ddg.append(df_ij[0,-1])\n",
    "    # Get final free energy\n",
    "    analyzer = MultiStateSamplerAnalyzer(reporter, max_n_iterations=n_iterations)\n",
    "    f_ij, df_ij = analyzer.get_free_energy()\n",
    "    dg.append(f_ij[0,-1])\n",
    "    ddg.append(df_ij[0,-1])\n",
    "    return np.array(dg), np.array(ddg), f_ij, df_ij"
   ]
  },
  {
   "cell_type": "markdown",
   "metadata": {},
   "source": [
    "### 5 ns N501Y (repex/32/0/0)"
   ]
  },
  {
   "cell_type": "code",
   "execution_count": 70,
   "metadata": {},
   "outputs": [],
   "source": [
    "_logger = logging.getLogger()\n",
    "_logger.setLevel(logging.INFO)"
   ]
  },
  {
   "cell_type": "code",
   "execution_count": 71,
   "metadata": {},
   "outputs": [],
   "source": [
    "main_dir = 32\n",
    "sub_dir = 0\n",
    "chunk = 0\n",
    "titles = ['N501Y']"
   ]
  },
  {
   "cell_type": "code",
   "execution_count": 6,
   "metadata": {},
   "outputs": [
    {
     "name": "stderr",
     "output_type": "stream",
     "text": [
      "Warning: The openmmtools.multistate API is experimental and may change in future releases\n",
      "Warning: The openmmtools.multistate API is experimental and may change in future releases\n"
     ]
    },
    {
     "name": "stdout",
     "output_type": "stream",
     "text": [
      "analyzing apo\n",
      "n_iterations: 5000\n"
     ]
    }
   ],
   "source": [
    "output_dir = f'/data/chodera/zhangi/perses_benchmark/repex/{main_dir}/{sub_dir}/{chunk}/'\n",
    "\n",
    "print(\"analyzing apo\")\n",
    "apo_path = os.path.join(output_dir, f\"{chunk}_apo.nc\")\n",
    "apo_dg, apo_ddg, f_ij, df_ij = analyze_dom(apo_path)\n",
    "\n",
    "results = np.array([apo_dg, apo_ddg])\n",
    "with open(f'/data/chodera/zhangi/perses_benchmark/repex/{main_dir}/{sub_dir}/{chunk}/results_apo.npy', 'wb') as f:\n",
    "    np.save(f, results)\n",
    "\n",
    "with open(f'/data/chodera/zhangi/perses_benchmark/repex/{main_dir}/{sub_dir}/{chunk}/f_ij_apo.npy', 'wb') as f:\n",
    "    np.save(f, f_ij)"
   ]
  },
  {
   "cell_type": "code",
   "execution_count": 7,
   "metadata": {},
   "outputs": [
    {
     "data": {
      "text/plain": [
       "(12, 12)"
      ]
     },
     "execution_count": 7,
     "metadata": {},
     "output_type": "execute_result"
    }
   ],
   "source": [
    "f_ij.shape"
   ]
  },
  {
   "cell_type": "code",
   "execution_count": 72,
   "metadata": {
    "scrolled": true
   },
   "outputs": [
    {
     "name": "stdout",
     "output_type": "stream",
     "text": [
      "0 apo: 31.261834199192748 (0.026198043634083314) kT\n",
      "\n"
     ]
    }
   ],
   "source": [
    "# Read the dicts in and compute free energies (kT)\n",
    "d_results = {}\n",
    "with open(f\"/data/chodera/zhangi/perses_benchmark/repex/{main_dir}/{sub_dir}/{chunk}/results_apo.npy\", \"rb\") as f:\n",
    "    results = np.load(f, allow_pickle=True)\n",
    "    d_results[chunk] = results\n",
    "    apo_dg, apo_ddg = [result[-1] for result in results]\n",
    "    print(f\"{chunk} apo: {apo_dg} ({apo_ddg}) kT\")\n",
    "    print()\n"
   ]
  },
  {
   "cell_type": "code",
   "execution_count": 73,
   "metadata": {},
   "outputs": [
    {
     "data": {
      "text/plain": [
       "<Figure size 1080x1728 with 0 Axes>"
      ]
     },
     "metadata": {},
     "output_type": "display_data"
    }
   ],
   "source": [
    "# Generate replica mixing plots\n",
    "path = f\"/data/chodera/zhangi/perses_benchmark/repex/32/{sub_dir}/{chunk}/{chunk}_apo.nc\"\n",
    "utils.plot_replica_mixing(path, title=f\"{titles[0]} apo replicate {chunk}\", filename=f\"{path[:-3]}_replicas_apo.png\")\n",
    "plt.clf()\n"
   ]
  },
  {
   "cell_type": "markdown",
   "metadata": {},
   "source": [
    "### 5 ns N501Y (repex/32/0/1)"
   ]
  },
  {
   "cell_type": "code",
   "execution_count": 74,
   "metadata": {},
   "outputs": [],
   "source": [
    "_logger = logging.getLogger()\n",
    "_logger.setLevel(logging.INFO)"
   ]
  },
  {
   "cell_type": "code",
   "execution_count": 75,
   "metadata": {},
   "outputs": [],
   "source": [
    "main_dir = 32\n",
    "sub_dir = 0\n",
    "chunk = 1\n",
    "titles = ['N501Y']"
   ]
  },
  {
   "cell_type": "code",
   "execution_count": 12,
   "metadata": {},
   "outputs": [
    {
     "name": "stderr",
     "output_type": "stream",
     "text": [
      "Warning: The openmmtools.multistate API is experimental and may change in future releases\n",
      "Warning: The openmmtools.multistate API is experimental and may change in future releases\n"
     ]
    },
    {
     "name": "stdout",
     "output_type": "stream",
     "text": [
      "analyzing apo\n",
      "n_iterations: 5000\n"
     ]
    }
   ],
   "source": [
    "output_dir = f'/data/chodera/zhangi/perses_benchmark/repex/{main_dir}/{sub_dir}/{chunk}/'\n",
    "\n",
    "print(\"analyzing apo\")\n",
    "apo_path = os.path.join(output_dir, f\"{chunk}_apo.nc\")\n",
    "apo_dg, apo_ddg, f_ij, df_ij = analyze_dom(apo_path)\n",
    "\n",
    "results = np.array([apo_dg, apo_ddg])\n",
    "with open(f'/data/chodera/zhangi/perses_benchmark/repex/{main_dir}/{sub_dir}/{chunk}/results_apo.npy', 'wb') as f:\n",
    "    np.save(f, results)\n",
    "\n",
    "with open(f'/data/chodera/zhangi/perses_benchmark/repex/{main_dir}/{sub_dir}/{chunk}/f_ij_apo.npy', 'wb') as f:\n",
    "    np.save(f, f_ij)"
   ]
  },
  {
   "cell_type": "code",
   "execution_count": 76,
   "metadata": {
    "scrolled": true
   },
   "outputs": [
    {
     "name": "stdout",
     "output_type": "stream",
     "text": [
      "1 apo: 33.78609546609796 (0.0324260555838558) kT\n",
      "\n"
     ]
    }
   ],
   "source": [
    "# Read the dicts in and compute free energies (kT)\n",
    "d_results = {}\n",
    "with open(f\"/data/chodera/zhangi/perses_benchmark/repex/{main_dir}/{sub_dir}/{chunk}/results.npy\", \"rb\") as f:\n",
    "    results = np.load(f, allow_pickle=True)\n",
    "    d_results[chunk] = results\n",
    "    apo_dg, apo_ddg = [result[-1] for result in results]\n",
    "    print(f\"{chunk} apo: {apo_dg} ({apo_ddg}) kT\")\n",
    "    print()\n"
   ]
  },
  {
   "cell_type": "code",
   "execution_count": 77,
   "metadata": {},
   "outputs": [
    {
     "data": {
      "text/plain": [
       "<Figure size 1080x1728 with 0 Axes>"
      ]
     },
     "metadata": {},
     "output_type": "display_data"
    }
   ],
   "source": [
    "# Generate replica mixing plots\n",
    "path = f\"/data/chodera/zhangi/perses_benchmark/repex/32/{sub_dir}/{chunk}/{chunk}_apo.nc\"\n",
    "utils.plot_replica_mixing(path, title=f\"{titles[0]} apo replicate {chunk}\", filename=f\"{path[:-3]}_replicas_apo.png\")\n",
    "plt.clf()\n"
   ]
  },
  {
   "cell_type": "markdown",
   "metadata": {},
   "source": [
    "### 5 ns N501Y (repex/32/0/2)"
   ]
  },
  {
   "cell_type": "code",
   "execution_count": 78,
   "metadata": {},
   "outputs": [],
   "source": [
    "_logger = logging.getLogger()\n",
    "_logger.setLevel(logging.INFO)"
   ]
  },
  {
   "cell_type": "code",
   "execution_count": 79,
   "metadata": {},
   "outputs": [],
   "source": [
    "main_dir = 32\n",
    "sub_dir = 0\n",
    "chunk = 2\n",
    "titles = ['N501Y']"
   ]
  },
  {
   "cell_type": "code",
   "execution_count": 20,
   "metadata": {},
   "outputs": [
    {
     "name": "stderr",
     "output_type": "stream",
     "text": [
      "Warning: The openmmtools.multistate API is experimental and may change in future releases\n",
      "Warning: The openmmtools.multistate API is experimental and may change in future releases\n"
     ]
    },
    {
     "name": "stdout",
     "output_type": "stream",
     "text": [
      "analyzing apo\n",
      "n_iterations: 5000\n"
     ]
    }
   ],
   "source": [
    "output_dir = f'/data/chodera/zhangi/perses_benchmark/repex/{main_dir}/{sub_dir}/{chunk}/'\n",
    "\n",
    "print(\"analyzing apo\")\n",
    "apo_path = os.path.join(output_dir, f\"{chunk}_apo.nc\")\n",
    "apo_dg, apo_ddg, f_ij, df_ij = analyze_dom(apo_path)\n",
    "\n",
    "results = np.array([apo_dg, apo_ddg])\n",
    "with open(f'/data/chodera/zhangi/perses_benchmark/repex/{main_dir}/{sub_dir}/{chunk}/results_apo.npy', 'wb') as f:\n",
    "    np.save(f, results)\n",
    "\n",
    "with open(f'/data/chodera/zhangi/perses_benchmark/repex/{main_dir}/{sub_dir}/{chunk}/f_ij_apo.npy', 'wb') as f:\n",
    "    np.save(f, f_ij)"
   ]
  },
  {
   "cell_type": "code",
   "execution_count": 80,
   "metadata": {
    "scrolled": true
   },
   "outputs": [
    {
     "name": "stdout",
     "output_type": "stream",
     "text": [
      "2 apo: 32.97870473727814 (0.03204777902973682) kT\n",
      "\n"
     ]
    }
   ],
   "source": [
    "# Read the dicts in and compute free energies (kT)\n",
    "d_results = {}\n",
    "with open(f\"/data/chodera/zhangi/perses_benchmark/repex/{main_dir}/{sub_dir}/{chunk}/results_apo.npy\", \"rb\") as f:\n",
    "    results = np.load(f, allow_pickle=True)\n",
    "    d_results[chunk] = results\n",
    "    apo_dg, apo_ddg = [result[-1] for result in results]\n",
    "    print(f\"{chunk} apo: {apo_dg} ({apo_ddg}) kT\")\n",
    "    print()\n"
   ]
  },
  {
   "cell_type": "code",
   "execution_count": 81,
   "metadata": {},
   "outputs": [
    {
     "data": {
      "text/plain": [
       "<Figure size 1080x1728 with 0 Axes>"
      ]
     },
     "metadata": {},
     "output_type": "display_data"
    }
   ],
   "source": [
    "# Generate replica mixing plots\n",
    "path = f\"/data/chodera/zhangi/perses_benchmark/repex/32/{sub_dir}/{chunk}/{chunk}_apo.nc\"\n",
    "utils.plot_replica_mixing(path, title=f\"{titles[0]} apo replicate {chunk}\", filename=f\"{path[:-3]}_replicas_apo.png\")\n",
    "plt.clf()\n"
   ]
  },
  {
   "cell_type": "markdown",
   "metadata": {},
   "source": [
    "### 5 ns N501Y (repex/32/0/3)"
   ]
  },
  {
   "cell_type": "code",
   "execution_count": 4,
   "metadata": {},
   "outputs": [],
   "source": [
    "_logger = logging.getLogger()\n",
    "_logger.setLevel(logging.INFO)"
   ]
  },
  {
   "cell_type": "code",
   "execution_count": 5,
   "metadata": {},
   "outputs": [],
   "source": [
    "main_dir = 32\n",
    "sub_dir = 0\n",
    "chunk = 3\n",
    "titles = ['N501Y']"
   ]
  },
  {
   "cell_type": "code",
   "execution_count": 25,
   "metadata": {},
   "outputs": [
    {
     "name": "stderr",
     "output_type": "stream",
     "text": [
      "Warning: The openmmtools.multistate API is experimental and may change in future releases\n",
      "Warning: The openmmtools.multistate API is experimental and may change in future releases\n"
     ]
    },
    {
     "name": "stdout",
     "output_type": "stream",
     "text": [
      "analyzing apo\n",
      "n_iterations: 5000\n"
     ]
    }
   ],
   "source": [
    "output_dir = f'/data/chodera/zhangi/perses_benchmark/repex/{main_dir}/{sub_dir}/{chunk}/'\n",
    "\n",
    "print(\"analyzing apo\")\n",
    "apo_path = os.path.join(output_dir, f\"{chunk}_apo.nc\")\n",
    "apo_dg, apo_ddg, f_ij, df_ij = analyze_dom(apo_path)\n",
    "\n",
    "results = np.array([apo_dg, apo_ddg])\n",
    "with open(f'/data/chodera/zhangi/perses_benchmark/repex/{main_dir}/{sub_dir}/{chunk}/results_apo.npy', 'wb') as f:\n",
    "    np.save(f, results)\n",
    "\n",
    "with open(f'/data/chodera/zhangi/perses_benchmark/repex/{main_dir}/{sub_dir}/{chunk}/f_ij_apo.npy', 'wb') as f:\n",
    "    np.save(f, f_ij)"
   ]
  },
  {
   "cell_type": "code",
   "execution_count": 6,
   "metadata": {
    "scrolled": true
   },
   "outputs": [
    {
     "name": "stdout",
     "output_type": "stream",
     "text": [
      "3 apo: 29.363086661896048 (0.025054176700796633) kT\n",
      "\n"
     ]
    }
   ],
   "source": [
    "# Read the dicts in and compute free energies (kT)\n",
    "d_results = {}\n",
    "with open(f\"/data/chodera/zhangi/perses_benchmark/repex/{main_dir}/{sub_dir}/{chunk}/results_apo.npy\", \"rb\") as f:\n",
    "    results = np.load(f, allow_pickle=True)\n",
    "    d_results[chunk] = results\n",
    "    apo_dg, apo_ddg = [result[-1] for result in results]\n",
    "    print(f\"{chunk} apo: {apo_dg} ({apo_ddg}) kT\")\n",
    "    print()\n"
   ]
  },
  {
   "cell_type": "code",
   "execution_count": 7,
   "metadata": {},
   "outputs": [
    {
     "data": {
      "text/plain": [
       "<Figure size 1080x1728 with 0 Axes>"
      ]
     },
     "metadata": {},
     "output_type": "display_data"
    }
   ],
   "source": [
    "# Generate replica mixing plots\n",
    "path = f\"/data/chodera/zhangi/perses_benchmark/repex/32/{sub_dir}/{chunk}/{chunk}_apo.nc\"\n",
    "utils.plot_replica_mixing(path, title=f\"{titles[0]} apo replicate {chunk}\", filename=f\"{path[:-3]}_replicas_apo.png\")\n",
    "plt.clf()\n"
   ]
  },
  {
   "cell_type": "markdown",
   "metadata": {},
   "source": [
    "### 5 ns N501Y (repex/32/0/4)"
   ]
  },
  {
   "cell_type": "code",
   "execution_count": 8,
   "metadata": {},
   "outputs": [],
   "source": [
    "_logger = logging.getLogger()\n",
    "_logger.setLevel(logging.INFO)"
   ]
  },
  {
   "cell_type": "code",
   "execution_count": 9,
   "metadata": {},
   "outputs": [],
   "source": [
    "main_dir = 32\n",
    "sub_dir = 0\n",
    "chunk = 4\n",
    "titles = ['N501Y']"
   ]
  },
  {
   "cell_type": "code",
   "execution_count": 30,
   "metadata": {},
   "outputs": [
    {
     "name": "stderr",
     "output_type": "stream",
     "text": [
      "Warning: The openmmtools.multistate API is experimental and may change in future releases\n",
      "Warning: The openmmtools.multistate API is experimental and may change in future releases\n"
     ]
    },
    {
     "name": "stdout",
     "output_type": "stream",
     "text": [
      "analyzing apo\n",
      "n_iterations: 5000\n"
     ]
    }
   ],
   "source": [
    "output_dir = f'/data/chodera/zhangi/perses_benchmark/repex/{main_dir}/{sub_dir}/{chunk}/'\n",
    "\n",
    "print(\"analyzing apo\")\n",
    "apo_path = os.path.join(output_dir, f\"{chunk}_apo.nc\")\n",
    "apo_dg, apo_ddg, f_ij, df_ij = analyze_dom(apo_path)\n",
    "\n",
    "results = np.array([apo_dg, apo_ddg])\n",
    "with open(f'/data/chodera/zhangi/perses_benchmark/repex/{main_dir}/{sub_dir}/{chunk}/results_apo.npy', 'wb') as f:\n",
    "    np.save(f, results)\n",
    "\n",
    "with open(f'/data/chodera/zhangi/perses_benchmark/repex/{main_dir}/{sub_dir}/{chunk}/f_ij_apo.npy', 'wb') as f:\n",
    "    np.save(f, f_ij)"
   ]
  },
  {
   "cell_type": "code",
   "execution_count": 10,
   "metadata": {
    "scrolled": true
   },
   "outputs": [
    {
     "name": "stdout",
     "output_type": "stream",
     "text": [
      "4 apo: 23.42382009584122 (0.012223990758212183) kT\n",
      "\n"
     ]
    }
   ],
   "source": [
    "# Read the dicts in and compute free energies (kT)\n",
    "d_results = {}\n",
    "with open(f\"/data/chodera/zhangi/perses_benchmark/repex/{main_dir}/{sub_dir}/{chunk}/results_apo.npy\", \"rb\") as f:\n",
    "    results = np.load(f, allow_pickle=True)\n",
    "    d_results[chunk] = results\n",
    "    apo_dg, apo_ddg = [result[-1] for result in results]\n",
    "    print(f\"{chunk} apo: {apo_dg} ({apo_ddg}) kT\")\n",
    "    print()\n"
   ]
  },
  {
   "cell_type": "code",
   "execution_count": 11,
   "metadata": {},
   "outputs": [
    {
     "data": {
      "text/plain": [
       "<Figure size 1080x1728 with 0 Axes>"
      ]
     },
     "metadata": {},
     "output_type": "display_data"
    }
   ],
   "source": [
    "# Generate replica mixing plots\n",
    "path = f\"/data/chodera/zhangi/perses_benchmark/repex/32/{sub_dir}/{chunk}/{chunk}_apo.nc\"\n",
    "utils.plot_replica_mixing(path, title=f\"{titles[0]} apo replicate {chunk}\", filename=f\"{path[:-3]}_replicas_apo.png\")\n",
    "plt.clf()\n"
   ]
  },
  {
   "cell_type": "markdown",
   "metadata": {},
   "source": [
    "### 5 ns N501Y (repex/32/0/5)"
   ]
  },
  {
   "cell_type": "code",
   "execution_count": 12,
   "metadata": {},
   "outputs": [],
   "source": [
    "_logger = logging.getLogger()\n",
    "_logger.setLevel(logging.INFO)"
   ]
  },
  {
   "cell_type": "code",
   "execution_count": 13,
   "metadata": {},
   "outputs": [],
   "source": [
    "main_dir = 32\n",
    "sub_dir = 0\n",
    "chunk = 5\n",
    "titles = ['N501Y']"
   ]
  },
  {
   "cell_type": "code",
   "execution_count": 35,
   "metadata": {},
   "outputs": [
    {
     "name": "stderr",
     "output_type": "stream",
     "text": [
      "Warning: The openmmtools.multistate API is experimental and may change in future releases\n",
      "Warning: The openmmtools.multistate API is experimental and may change in future releases\n"
     ]
    },
    {
     "name": "stdout",
     "output_type": "stream",
     "text": [
      "analyzing apo\n",
      "n_iterations: 5000\n"
     ]
    }
   ],
   "source": [
    "output_dir = f'/data/chodera/zhangi/perses_benchmark/repex/{main_dir}/{sub_dir}/{chunk}/'\n",
    "\n",
    "print(\"analyzing apo\")\n",
    "apo_path = os.path.join(output_dir, f\"{chunk}_apo.nc\")\n",
    "apo_dg, apo_ddg, f_ij, df_ij = analyze_dom(apo_path)\n",
    "\n",
    "results = np.array([apo_dg, apo_ddg])\n",
    "with open(f'/data/chodera/zhangi/perses_benchmark/repex/{main_dir}/{sub_dir}/{chunk}/results_apo.npy', 'wb') as f:\n",
    "    np.save(f, results)\n",
    "\n",
    "with open(f'/data/chodera/zhangi/perses_benchmark/repex/{main_dir}/{sub_dir}/{chunk}/f_ij_apo.npy', 'wb') as f:\n",
    "    np.save(f, f_ij)"
   ]
  },
  {
   "cell_type": "code",
   "execution_count": 14,
   "metadata": {
    "scrolled": true
   },
   "outputs": [
    {
     "name": "stdout",
     "output_type": "stream",
     "text": [
      "5 apo: -3.385584812534036 (0.008702421705859706) kT\n",
      "\n"
     ]
    }
   ],
   "source": [
    "# Read the dicts in and compute free energies (kT)\n",
    "d_results = {}\n",
    "with open(f\"/data/chodera/zhangi/perses_benchmark/repex/{main_dir}/{sub_dir}/{chunk}/results_apo.npy\", \"rb\") as f:\n",
    "    results = np.load(f, allow_pickle=True)\n",
    "    d_results[chunk] = results\n",
    "    apo_dg, apo_ddg = [result[-1] for result in results]\n",
    "    print(f\"{chunk} apo: {apo_dg} ({apo_ddg}) kT\")\n",
    "    print()\n"
   ]
  },
  {
   "cell_type": "code",
   "execution_count": 15,
   "metadata": {},
   "outputs": [
    {
     "data": {
      "text/plain": [
       "<Figure size 1080x1728 with 0 Axes>"
      ]
     },
     "metadata": {},
     "output_type": "display_data"
    }
   ],
   "source": [
    "# Generate replica mixing plots\n",
    "path = f\"/data/chodera/zhangi/perses_benchmark/repex/32/{sub_dir}/{chunk}/{chunk}_apo.nc\"\n",
    "utils.plot_replica_mixing(path, title=f\"{titles[0]} apo replicate {chunk}\", filename=f\"{path[:-3]}_replicas_apo.png\")\n",
    "plt.clf()\n"
   ]
  },
  {
   "cell_type": "markdown",
   "metadata": {},
   "source": [
    "### 5 ns N501Y (repex/32/0/6)"
   ]
  },
  {
   "cell_type": "code",
   "execution_count": 16,
   "metadata": {},
   "outputs": [],
   "source": [
    "_logger = logging.getLogger()\n",
    "_logger.setLevel(logging.INFO)"
   ]
  },
  {
   "cell_type": "code",
   "execution_count": 17,
   "metadata": {},
   "outputs": [],
   "source": [
    "main_dir = 32\n",
    "sub_dir = 0\n",
    "chunk = 6\n",
    "titles = ['N501Y']"
   ]
  },
  {
   "cell_type": "code",
   "execution_count": 40,
   "metadata": {},
   "outputs": [
    {
     "name": "stderr",
     "output_type": "stream",
     "text": [
      "Warning: The openmmtools.multistate API is experimental and may change in future releases\n",
      "Warning: The openmmtools.multistate API is experimental and may change in future releases\n"
     ]
    },
    {
     "name": "stdout",
     "output_type": "stream",
     "text": [
      "analyzing apo\n",
      "n_iterations: 5000\n"
     ]
    }
   ],
   "source": [
    "output_dir = f'/data/chodera/zhangi/perses_benchmark/repex/{main_dir}/{sub_dir}/{chunk}/'\n",
    "\n",
    "print(\"analyzing apo\")\n",
    "apo_path = os.path.join(output_dir, f\"{chunk}_apo.nc\")\n",
    "apo_dg, apo_ddg, f_ij, df_ij = analyze_dom(apo_path)\n",
    "\n",
    "results = np.array([apo_dg, apo_ddg])\n",
    "with open(f'/data/chodera/zhangi/perses_benchmark/repex/{main_dir}/{sub_dir}/{chunk}/results_apo.npy', 'wb') as f:\n",
    "    np.save(f, results)\n",
    "\n",
    "with open(f'/data/chodera/zhangi/perses_benchmark/repex/{main_dir}/{sub_dir}/{chunk}/f_ij_apo.npy', 'wb') as f:\n",
    "    np.save(f, f_ij)"
   ]
  },
  {
   "cell_type": "code",
   "execution_count": 18,
   "metadata": {
    "scrolled": true
   },
   "outputs": [
    {
     "name": "stdout",
     "output_type": "stream",
     "text": [
      "6 apo: -5.479503355771641 (0.011255852046137568) kT\n",
      "\n"
     ]
    }
   ],
   "source": [
    "# Read the dicts in and compute free energies (kT)\n",
    "d_results = {}\n",
    "with open(f\"/data/chodera/zhangi/perses_benchmark/repex/{main_dir}/{sub_dir}/{chunk}/results_apo.npy\", \"rb\") as f:\n",
    "    results = np.load(f, allow_pickle=True)\n",
    "    d_results[chunk] = results\n",
    "    apo_dg, apo_ddg = [result[-1] for result in results]\n",
    "    print(f\"{chunk} apo: {apo_dg} ({apo_ddg}) kT\")\n",
    "    print()\n"
   ]
  },
  {
   "cell_type": "code",
   "execution_count": 19,
   "metadata": {},
   "outputs": [
    {
     "data": {
      "text/plain": [
       "<Figure size 1080x1728 with 0 Axes>"
      ]
     },
     "metadata": {},
     "output_type": "display_data"
    }
   ],
   "source": [
    "# Generate replica mixing plots\n",
    "path = f\"/data/chodera/zhangi/perses_benchmark/repex/32/{sub_dir}/{chunk}/{chunk}_apo.nc\"\n",
    "utils.plot_replica_mixing(path, title=f\"{titles[0]} apo replicate {chunk}\", filename=f\"{path[:-3]}_replicas_apo.png\")\n",
    "plt.clf()\n"
   ]
  },
  {
   "cell_type": "markdown",
   "metadata": {},
   "source": [
    "### 5 ns N501Y (repex/32/0/7)"
   ]
  },
  {
   "cell_type": "code",
   "execution_count": 20,
   "metadata": {},
   "outputs": [],
   "source": [
    "_logger = logging.getLogger()\n",
    "_logger.setLevel(logging.INFO)"
   ]
  },
  {
   "cell_type": "code",
   "execution_count": 21,
   "metadata": {},
   "outputs": [],
   "source": [
    "main_dir = 32\n",
    "sub_dir = 0\n",
    "chunk = 7\n",
    "titles = ['N501Y']"
   ]
  },
  {
   "cell_type": "code",
   "execution_count": 45,
   "metadata": {},
   "outputs": [
    {
     "name": "stderr",
     "output_type": "stream",
     "text": [
      "Warning: The openmmtools.multistate API is experimental and may change in future releases\n",
      "Warning: The openmmtools.multistate API is experimental and may change in future releases\n"
     ]
    },
    {
     "name": "stdout",
     "output_type": "stream",
     "text": [
      "analyzing apo\n",
      "n_iterations: 5000\n"
     ]
    }
   ],
   "source": [
    "output_dir = f'/data/chodera/zhangi/perses_benchmark/repex/{main_dir}/{sub_dir}/{chunk}/'\n",
    "\n",
    "print(\"analyzing apo\")\n",
    "apo_path = os.path.join(output_dir, f\"{chunk}_apo.nc\")\n",
    "apo_dg, apo_ddg, f_ij, df_ij = analyze_dom(apo_path)\n",
    "\n",
    "results = np.array([apo_dg, apo_ddg])\n",
    "with open(f'/data/chodera/zhangi/perses_benchmark/repex/{main_dir}/{sub_dir}/{chunk}/results_apo.npy', 'wb') as f:\n",
    "    np.save(f, results)\n",
    "\n",
    "with open(f'/data/chodera/zhangi/perses_benchmark/repex/{main_dir}/{sub_dir}/{chunk}/f_ij_apo.npy', 'wb') as f:\n",
    "    np.save(f, f_ij)"
   ]
  },
  {
   "cell_type": "code",
   "execution_count": 22,
   "metadata": {
    "scrolled": true
   },
   "outputs": [
    {
     "name": "stdout",
     "output_type": "stream",
     "text": [
      "7 apo: -7.799787691659756 (0.015580949822980476) kT\n",
      "\n"
     ]
    }
   ],
   "source": [
    "# Read the dicts in and compute free energies (kT)\n",
    "d_results = {}\n",
    "with open(f\"/data/chodera/zhangi/perses_benchmark/repex/{main_dir}/{sub_dir}/{chunk}/results_apo.npy\", \"rb\") as f:\n",
    "    results = np.load(f, allow_pickle=True)\n",
    "    d_results[chunk] = results\n",
    "    apo_dg, apo_ddg = [result[-1] for result in results]\n",
    "    print(f\"{chunk} apo: {apo_dg} ({apo_ddg}) kT\")\n",
    "    print()\n"
   ]
  },
  {
   "cell_type": "code",
   "execution_count": 23,
   "metadata": {},
   "outputs": [
    {
     "data": {
      "text/plain": [
       "<Figure size 1080x1728 with 0 Axes>"
      ]
     },
     "metadata": {},
     "output_type": "display_data"
    }
   ],
   "source": [
    "# Generate replica mixing plots\n",
    "path = f\"/data/chodera/zhangi/perses_benchmark/repex/32/{sub_dir}/{chunk}/{chunk}_apo.nc\"\n",
    "utils.plot_replica_mixing(path, title=f\"{titles[0]} apo replicate {chunk}\", filename=f\"{path[:-3]}_replicas_apo.png\")\n",
    "plt.clf()\n"
   ]
  },
  {
   "cell_type": "markdown",
   "metadata": {},
   "source": [
    "### 5 ns N501Y (repex/32/0/8)"
   ]
  },
  {
   "cell_type": "code",
   "execution_count": 24,
   "metadata": {},
   "outputs": [],
   "source": [
    "_logger = logging.getLogger()\n",
    "_logger.setLevel(logging.INFO)"
   ]
  },
  {
   "cell_type": "code",
   "execution_count": 25,
   "metadata": {},
   "outputs": [],
   "source": [
    "main_dir = 32\n",
    "sub_dir = 0\n",
    "chunk = 8\n",
    "titles = ['N501Y']"
   ]
  },
  {
   "cell_type": "code",
   "execution_count": 50,
   "metadata": {},
   "outputs": [
    {
     "name": "stderr",
     "output_type": "stream",
     "text": [
      "Warning: The openmmtools.multistate API is experimental and may change in future releases\n",
      "Warning: The openmmtools.multistate API is experimental and may change in future releases\n"
     ]
    },
    {
     "name": "stdout",
     "output_type": "stream",
     "text": [
      "analyzing apo\n",
      "n_iterations: 5000\n"
     ]
    }
   ],
   "source": [
    "output_dir = f'/data/chodera/zhangi/perses_benchmark/repex/{main_dir}/{sub_dir}/{chunk}/'\n",
    "\n",
    "print(\"analyzing apo\")\n",
    "apo_path = os.path.join(output_dir, f\"{chunk}_apo.nc\")\n",
    "apo_dg, apo_ddg, f_ij, df_ij = analyze_dom(apo_path)\n",
    "\n",
    "results = np.array([apo_dg, apo_ddg])\n",
    "with open(f'/data/chodera/zhangi/perses_benchmark/repex/{main_dir}/{sub_dir}/{chunk}/results_apo.npy', 'wb') as f:\n",
    "    np.save(f, results)\n",
    "\n",
    "with open(f'/data/chodera/zhangi/perses_benchmark/repex/{main_dir}/{sub_dir}/{chunk}/f_ij_apo.npy', 'wb') as f:\n",
    "    np.save(f, f_ij)"
   ]
  },
  {
   "cell_type": "code",
   "execution_count": 26,
   "metadata": {
    "scrolled": true
   },
   "outputs": [
    {
     "name": "stdout",
     "output_type": "stream",
     "text": [
      "8 apo: -9.224337246708153 (0.016299010312661493) kT\n",
      "\n"
     ]
    }
   ],
   "source": [
    "# Read the dicts in and compute free energies (kT)\n",
    "d_results = {}\n",
    "with open(f\"/data/chodera/zhangi/perses_benchmark/repex/{main_dir}/{sub_dir}/{chunk}/results_apo.npy\", \"rb\") as f:\n",
    "    results = np.load(f, allow_pickle=True)\n",
    "    d_results[chunk] = results\n",
    "    apo_dg, apo_ddg = [result[-1] for result in results]\n",
    "    print(f\"{chunk} apo: {apo_dg} ({apo_ddg}) kT\")\n",
    "    print()\n"
   ]
  },
  {
   "cell_type": "code",
   "execution_count": 27,
   "metadata": {},
   "outputs": [
    {
     "data": {
      "text/plain": [
       "<Figure size 1080x1728 with 0 Axes>"
      ]
     },
     "metadata": {},
     "output_type": "display_data"
    }
   ],
   "source": [
    "# Generate replica mixing plots\n",
    "path = f\"/data/chodera/zhangi/perses_benchmark/repex/32/{sub_dir}/{chunk}/{chunk}_apo.nc\"\n",
    "utils.plot_replica_mixing(path, title=f\"{titles[0]} apo replicate {chunk}\", filename=f\"{path[:-3]}_replicas_apo.png\")\n",
    "plt.clf()\n"
   ]
  },
  {
   "cell_type": "markdown",
   "metadata": {},
   "source": [
    "### 5 ns N501Y (repex/32/0/9)"
   ]
  },
  {
   "cell_type": "code",
   "execution_count": 28,
   "metadata": {},
   "outputs": [],
   "source": [
    "_logger = logging.getLogger()\n",
    "_logger.setLevel(logging.INFO)"
   ]
  },
  {
   "cell_type": "code",
   "execution_count": 29,
   "metadata": {},
   "outputs": [],
   "source": [
    "main_dir = 32\n",
    "sub_dir = 0\n",
    "chunk = 9\n",
    "titles = ['N501Y']"
   ]
  },
  {
   "cell_type": "code",
   "execution_count": 55,
   "metadata": {},
   "outputs": [
    {
     "name": "stderr",
     "output_type": "stream",
     "text": [
      "Warning: The openmmtools.multistate API is experimental and may change in future releases\n",
      "Warning: The openmmtools.multistate API is experimental and may change in future releases\n"
     ]
    },
    {
     "name": "stdout",
     "output_type": "stream",
     "text": [
      "analyzing apo\n",
      "n_iterations: 5000\n"
     ]
    }
   ],
   "source": [
    "output_dir = f'/data/chodera/zhangi/perses_benchmark/repex/{main_dir}/{sub_dir}/{chunk}/'\n",
    "\n",
    "print(\"analyzing apo\")\n",
    "apo_path = os.path.join(output_dir, f\"{chunk}_apo.nc\")\n",
    "apo_dg, apo_ddg, f_ij, df_ij = analyze_dom(apo_path)\n",
    "\n",
    "results = np.array([apo_dg, apo_ddg])\n",
    "with open(f'/data/chodera/zhangi/perses_benchmark/repex/{main_dir}/{sub_dir}/{chunk}/results_apo.npy', 'wb') as f:\n",
    "    np.save(f, results)\n",
    "\n",
    "with open(f'/data/chodera/zhangi/perses_benchmark/repex/{main_dir}/{sub_dir}/{chunk}/f_ij_apo.npy', 'wb') as f:\n",
    "    np.save(f, f_ij)"
   ]
  },
  {
   "cell_type": "code",
   "execution_count": 30,
   "metadata": {
    "scrolled": true
   },
   "outputs": [
    {
     "name": "stdout",
     "output_type": "stream",
     "text": [
      "9 apo: -10.088718777733346 (0.014077895815497454) kT\n",
      "\n"
     ]
    }
   ],
   "source": [
    "# Read the dicts in and compute free energies (kT)\n",
    "d_results = {}\n",
    "with open(f\"/data/chodera/zhangi/perses_benchmark/repex/{main_dir}/{sub_dir}/{chunk}/results_apo.npy\", \"rb\") as f:\n",
    "    results = np.load(f, allow_pickle=True)\n",
    "    d_results[chunk] = results\n",
    "    apo_dg, apo_ddg = [result[-1] for result in results]\n",
    "    print(f\"{chunk} apo: {apo_dg} ({apo_ddg}) kT\")\n",
    "    print()\n"
   ]
  },
  {
   "cell_type": "code",
   "execution_count": 31,
   "metadata": {},
   "outputs": [
    {
     "data": {
      "text/plain": [
       "<Figure size 1080x1728 with 0 Axes>"
      ]
     },
     "metadata": {},
     "output_type": "display_data"
    }
   ],
   "source": [
    "# Generate replica mixing plots\n",
    "path = f\"/data/chodera/zhangi/perses_benchmark/repex/32/{sub_dir}/{chunk}/{chunk}_apo.nc\"\n",
    "utils.plot_replica_mixing(path, title=f\"{titles[0]} apo replicate {chunk}\", filename=f\"{path[:-3]}_replicas_apo.png\")\n",
    "plt.clf()\n"
   ]
  },
  {
   "cell_type": "markdown",
   "metadata": {},
   "source": [
    "# Get complex free energy "
   ]
  },
  {
   "cell_type": "code",
   "execution_count": 39,
   "metadata": {},
   "outputs": [],
   "source": [
    "chunk_free_energies = []\n",
    "chunk_errors = []\n",
    "chunk_matrices = []\n",
    "for i in range(10):\n",
    "    with open(f\"/data/chodera/zhangi/perses_benchmark/repex/{main_dir}/{sub_dir}/{i}/results_apo.npy\", \"rb\") as f:\n",
    "        results = np.load(f, allow_pickle=True)\n",
    "        apo_dg, apo_ddg = [result[-1] for result in results]\n",
    "        chunk_free_energies.append(apo_dg)\n",
    "        chunk_errors.append(apo_ddg)\n",
    "        \n",
    "    with open(f\"/data/chodera/zhangi/perses_benchmark/repex/{main_dir}/{sub_dir}/{i}/f_ij_apo.npy\", \"rb\") as f:\n",
    "        f_ij = np.load(f, allow_pickle=True)\n",
    "        chunk_matrices.append(f_ij)"
   ]
  },
  {
   "cell_type": "code",
   "execution_count": 40,
   "metadata": {},
   "outputs": [
    {
     "data": {
      "text/plain": [
       "[31.261834199192748,\n",
       " 33.363463810982694,\n",
       " 32.97870473727814,\n",
       " 29.363086661896048,\n",
       " 23.42382009584122,\n",
       " -3.385584812534036,\n",
       " -5.479503355771641,\n",
       " -7.799787691659756,\n",
       " -9.224337246708153,\n",
       " -10.088718777733346]"
      ]
     },
     "execution_count": 40,
     "metadata": {},
     "output_type": "execute_result"
    }
   ],
   "source": [
    "chunk_free_energies"
   ]
  },
  {
   "cell_type": "code",
   "execution_count": 41,
   "metadata": {},
   "outputs": [
    {
     "data": {
      "text/plain": [
       "114.4129776207839"
      ]
     },
     "execution_count": 41,
     "metadata": {},
     "output_type": "execute_result"
    }
   ],
   "source": [
    "np.sum(chunk_free_energies)"
   ]
  },
  {
   "cell_type": "code",
   "execution_count": 42,
   "metadata": {},
   "outputs": [
    {
     "data": {
      "text/plain": [
       "68.20858691153998"
      ]
     },
     "execution_count": 42,
     "metadata": {},
     "output_type": "execute_result"
    }
   ],
   "source": [
    "np.sum(chunk_free_energies)*KT_KCALMOL"
   ]
  },
  {
   "cell_type": "code",
   "execution_count": 44,
   "metadata": {
    "scrolled": true
   },
   "outputs": [
    {
     "data": {
      "text/plain": [
       "0.03970793284071851"
      ]
     },
     "execution_count": 44,
     "metadata": {},
     "output_type": "execute_result"
    }
   ],
   "source": [
    "error_sum_squares = 0\n",
    "for error in chunk_errors:\n",
    "    error_sum_squares += error**2\n",
    "np.sqrt(error_sum_squares)*KT_KCALMOL"
   ]
  },
  {
   "cell_type": "code",
   "execution_count": 37,
   "metadata": {},
   "outputs": [],
   "source": [
    "import matplotlib.pyplot as plt"
   ]
  },
  {
   "cell_type": "code",
   "execution_count": 38,
   "metadata": {
    "scrolled": false
   },
   "outputs": [
    {
     "data": {
      "image/png": "[encoded data removed]",
      "text/plain": [
       "<Figure size 1440x288 with 1 Axes>"
      ]
     },
     "metadata": {
      "needs_background": "light"
     },
     "output_type": "display_data"
    }
   ],
   "source": [
    "pairs = []\n",
    "to_plot = []\n",
    "last_replica_pair_offset = 0\n",
    "for chunk in range(10):\n",
    "    first_replica_pair_offset = chunk_matrices[chunk][0][1]\n",
    "    for replica in range(11):\n",
    "        pairs.append((replica, replica + 1))\n",
    "        free_energy = chunk_matrices[chunk][replica][replica+1] - first_replica_pair_offset + last_replica_pair_offset\n",
    "        to_plot.append(free_energy)\n",
    "    last_replica_pair_offset = free_energy\n",
    "plt.figure(figsize=(20, 4))\n",
    "plt.plot(to_plot)\n",
    "plt.xlabel('replica pair')\n",
    "plt.ylabel(\"free energy (kT)\")\n",
    "plt.xticks(np.arange(110), pairs, rotation=90)  # Set text labels.\n",
    "\n",
    "plt.show()"
   ]
  },
  {
   "cell_type": "code",
   "execution_count": null,
   "metadata": {},
   "outputs": [],
   "source": []
  }
 ],
 "metadata": {
  "kernelspec": {
   "display_name": "Python 3 (ipykernel)",
   "language": "python",
   "name": "python3"
  },
  "language_info": {
   "codemirror_mode": {
    "name": "ipython",
    "version": 3
   },
   "file_extension": ".py",
   "mimetype": "text/x-python",
   "name": "python",
   "nbconvert_exporter": "python",
   "pygments_lexer": "ipython3",
   "version": "3.9.7"
  }
 },
 "nbformat": 4,
 "nbformat_minor": 4
}
