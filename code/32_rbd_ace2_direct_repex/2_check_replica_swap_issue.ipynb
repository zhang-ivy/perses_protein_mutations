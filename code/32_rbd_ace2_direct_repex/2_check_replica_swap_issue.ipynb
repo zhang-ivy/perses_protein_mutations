{
 "cells": [
  {
   "cell_type": "code",
   "execution_count": 1,
   "id": "7e12518d",
   "metadata": {},
   "outputs": [
    {
     "name": "stderr",
     "output_type": "stream",
     "text": [
      "Warning: importing 'simtk.openmm' is deprecated.  Import 'openmm' instead.\n"
     ]
    }
   ],
   "source": [
    "import openmmtools\n",
    "import os\n",
    "from perses.analysis import utils\n"
   ]
  },
  {
   "cell_type": "code",
   "execution_count": 2,
   "id": "42c6ddfc",
   "metadata": {},
   "outputs": [
    {
     "name": "stderr",
     "output_type": "stream",
     "text": [
      "Warning: The openmmtools.multistate API is experimental and may change in future releases\n"
     ]
    }
   ],
   "source": [
    "outdir = \"/data/chodera/zhangi/perses_benchmark/repex/32/2/0/test_scatter/0/\"\n",
    "# outdir = \"/data/chodera/zhangi/perses_benchmark/repex/31/28/0/test_102621/0/\"\n",
    "\n",
    "reporter = openmmtools.multistate.MultiStateReporter(os.path.join(outdir, \"0_complex.nc\"), 'r')\n"
   ]
  },
  {
   "cell_type": "code",
   "execution_count": 3,
   "id": "61e6e5dd",
   "metadata": {},
   "outputs": [
    {
     "name": "stdout",
     "output_type": "stream",
     "text": [
      "500\n"
     ]
    }
   ],
   "source": [
    "ncfile = utils.open_netcdf(os.path.join(outdir, \"0_complex.nc\"))\n",
    "n_iterations = ncfile.variables['last_iteration'][0]\n",
    "print(n_iterations)"
   ]
  },
  {
   "cell_type": "code",
   "execution_count": 4,
   "id": "90772acb",
   "metadata": {},
   "outputs": [
    {
     "name": "stdout",
     "output_type": "stream",
     "text": [
      "0 12\n",
      "1 12\n",
      "2 12\n",
      "3 12\n",
      "4 12\n",
      "5 12\n",
      "6 12\n",
      "7 12\n",
      "8 12\n",
      "9 12\n",
      "10 12\n",
      "11 12\n"
     ]
    }
   ],
   "source": [
    "states = reporter.read_replica_thermodynamic_states()\n",
    "for i in range(reporter.n_states):\n",
    "    print(i, len(set(states[:,i])))\n",
    "    \n",
    "    \n"
   ]
  },
  {
   "cell_type": "code",
   "execution_count": null,
   "id": "2972359f",
   "metadata": {},
   "outputs": [],
   "source": []
  }
 ],
 "metadata": {
  "kernelspec": {
   "display_name": "Python 3 (ipykernel)",
   "language": "python",
   "name": "python3"
  },
  "language_info": {
   "codemirror_mode": {
    "name": "ipython",
    "version": 3
   },
   "file_extension": ".py",
   "mimetype": "text/x-python",
   "name": "python",
   "nbconvert_exporter": "python",
   "pygments_lexer": "ipython3",
   "version": "3.8.11"
  }
 },
 "nbformat": 4,
 "nbformat_minor": 5
}
