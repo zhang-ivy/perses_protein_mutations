{
 "cells": [
  {
   "cell_type": "code",
   "execution_count": 1,
   "metadata": {},
   "outputs": [
    {
     "name": "stderr",
     "output_type": "stream",
     "text": [
      "Warning: importing 'simtk.openmm' is deprecated.  Import 'openmm' instead.\n"
     ]
    }
   ],
   "source": [
    "from perses.analysis import utils\n",
    "from openmmtools.multistate import MultiStateReporter, MultiStateSamplerAnalyzer\n",
    "from simtk import unit\n",
    "import os\n",
    "import itertools\n",
    "from tqdm import tqdm_notebook\n",
    "import pandas as pd\n",
    "import numpy as np\n",
    "import seaborn as sns\n",
    "import matplotlib.pyplot as plt\n",
    "import logging\n",
    "from perses.analysis import utils\n",
    "\n",
    "from openmmtools.constants import kB\n",
    "KT_KCALMOL = kB * 300 * unit.kelvin / unit.kilocalories_per_mole\n",
    "\n",
    "import warnings\n",
    "warnings.filterwarnings('ignore')"
   ]
  },
  {
   "cell_type": "code",
   "execution_count": 2,
   "metadata": {},
   "outputs": [],
   "source": [
    "class MultiStateReporter2(MultiStateReporter):\n",
    "    def read_energies(self, iteration=slice(None)):\n",
    "        \"\"\"Retrieve the energy matrix at the given iteration on the analysis file\n",
    "        Parameters\n",
    "        ----------\n",
    "        iteration : int or slice\n",
    "            The iteration(s) at which to read the data. The slice(None) allows fetching all iterations at once.\n",
    "        Returns\n",
    "        -------\n",
    "        energy_thermodynamic_states : n_replicas x n_states numpy.ndarray\n",
    "            ``energy_thermodynamic_states[iteration, i, j]`` is the reduced potential computed at\n",
    "            SamplerState ``sampler_states[iteration, i]`` and ThermodynamicState ``thermodynamic_states[iteration, j]``.\n",
    "        energy_neighborhoods : n_replicas x n_states numpy.ndarray\n",
    "            energy_neighborhoods[replica_index, state_index] is 1 if the energy was computed for this state,\n",
    "            0 otherwise\n",
    "        energy_unsampled_states : n_replicas x n_unsampled_states numpy.ndarray\n",
    "            ``energy_unsampled_states[iteration, i, j]`` is the reduced potential computed at SamplerState\n",
    "            ``sampler_states[iteration, i]`` and ThermodynamicState ``unsampled_thermodynamic_states[iteration, j]``.\n",
    "        \"\"\"\n",
    "        # Determine last consistent iteration\n",
    "        iteration = self._map_iteration_to_good(iteration)\n",
    "        # Retrieve energies at all thermodynamic states\n",
    "        energy_thermodynamic_states = np.array(self._storage_analysis.variables['energies'][iteration, :, :], np.float64)\n",
    "        # Retrieve neighborhoods, assuming global neighborhoods if reading a pre-neighborhoods file\n",
    "        try:\n",
    "            energy_neighborhoods = np.array(self._storage_analysis.variables['neighborhoods'][iteration, :, :], 'i1')\n",
    "        except KeyError:\n",
    "            energy_neighborhoods = np.ones(energy_thermodynamic_states.shape, 'i1')\n",
    "        # Read energies at unsampled states, if present\n",
    "#         try:\n",
    "#             energy_unsampled_states = np.array(self._storage_analysis.variables['unsampled_energies'][iteration, :, :], np.float64)\n",
    "#         except KeyError:\n",
    "#             # There are no unsampled thermodynamic states.\n",
    "        unsampled_shape = energy_thermodynamic_states.shape[:-1] + (0,)\n",
    "        energy_unsampled_states = np.zeros(unsampled_shape)\n",
    "        return energy_thermodynamic_states, energy_neighborhoods, energy_unsampled_states\n"
   ]
  },
  {
   "cell_type": "code",
   "execution_count": 3,
   "metadata": {},
   "outputs": [],
   "source": [
    "# Given a path, get dg and ddg\n",
    "def analyze(path):\n",
    "    reporter = MultiStateReporter(path)\n",
    "    analyzer = MultiStateSamplerAnalyzer(reporter)\n",
    "    f_ij, df_ij = analyzer.get_free_energy()\n",
    "    f = f_ij[0,-1] # units = kT\n",
    "#     f = f_ij[0,-1] * analyzer.kT\n",
    "#     dg = f.in_units_of(unit.kilocalories_per_mole)\n",
    "    df = df_ij[0, -1]\n",
    "#     df = df_ij[0, -1] * analyzer.kT\n",
    "#     ddg = df.in_units_of(unit.kilocalories_per_mole)\n",
    "    return f, df\n",
    "\n",
    "def analyze_dom(path):\n",
    "    reporter = MultiStateReporter2(path)\n",
    "    ncfile = utils.open_netcdf(path)\n",
    "    n_iterations = ncfile.variables['last_iteration'][0]\n",
    "    print(f\"n_iterations: {n_iterations}\")\n",
    "    dg, ddg = list(), list()\n",
    "#     iterations_to_analyze = list(range (1, n_iterations, 500)) + [int(n_iterations-1)]\n",
    "#     print(iterations_to_analyze) # check that this is giving me the last avail iteration\n",
    "#     for step in iterations_to_analyze: \n",
    "#         analyzer = MultiStateSamplerAnalyzer(reporter, max_n_iterations=step)\n",
    "#         f_ij, df_ij = analyzer.get_free_energy()\n",
    "#         dg.append(f_ij[0,-1])\n",
    "#         ddg.append(df_ij[0,-1])\n",
    "    # Get final free energy\n",
    "    analyzer = MultiStateSamplerAnalyzer(reporter, max_n_iterations=n_iterations)\n",
    "    f_ij, df_ij = analyzer.get_free_energy()\n",
    "    dg.append(f_ij[0,-1])\n",
    "    ddg.append(df_ij[0,-1])\n",
    "    return np.array(dg), np.array(ddg), f_ij, df_ij"
   ]
  },
  {
   "cell_type": "markdown",
   "metadata": {},
   "source": [
    "### 5 ns N501Y (repex/32/2/0)"
   ]
  },
  {
   "cell_type": "code",
   "execution_count": 4,
   "metadata": {},
   "outputs": [],
   "source": [
    "_logger = logging.getLogger()\n",
    "_logger.setLevel(logging.INFO)"
   ]
  },
  {
   "cell_type": "code",
   "execution_count": 5,
   "metadata": {},
   "outputs": [],
   "source": [
    "main_dir = 32\n",
    "sub_dir = 2\n",
    "i = 0\n",
    "titles = ['N501Y']"
   ]
  },
  {
   "cell_type": "code",
   "execution_count": 6,
   "metadata": {},
   "outputs": [
    {
     "name": "stderr",
     "output_type": "stream",
     "text": [
      "Warning: The openmmtools.multistate API is experimental and may change in future releases\n",
      "Warning: The openmmtools.multistate API is experimental and may change in future releases\n"
     ]
    },
    {
     "name": "stdout",
     "output_type": "stream",
     "text": [
      "analyzing apo\n",
      "n_iterations: 5000\n"
     ]
    }
   ],
   "source": [
    "output_dir = f'/data/chodera/zhangi/perses_benchmark/repex/{main_dir}/{sub_dir}/{i}/'\n",
    "\n",
    "print(\"analyzing apo\")\n",
    "apo_path = os.path.join(output_dir, f\"{i}_apo.nc\")\n",
    "apo_dg, apo_ddg, f_ij, df_ij = analyze_dom(apo_path)\n",
    "\n",
    "results = np.array([apo_dg, apo_ddg])\n",
    "with open(f'/data/chodera/zhangi/perses_benchmark/repex/{main_dir}/{sub_dir}/{i}/results_apo.npy', 'wb') as f:\n",
    "    np.save(f, results)\n",
    "\n",
    "with open(f'/data/chodera/zhangi/perses_benchmark/repex/{main_dir}/{sub_dir}/{i}/f_ij_apo.npy', 'wb') as f:\n",
    "    np.save(f, f_ij)"
   ]
  },
  {
   "cell_type": "code",
   "execution_count": 7,
   "metadata": {
    "scrolled": true
   },
   "outputs": [
    {
     "name": "stdout",
     "output_type": "stream",
     "text": [
      "apo: 111.14638689543855 (0.13386081278070336) kT\n",
      "\n"
     ]
    }
   ],
   "source": [
    "# Read the dicts in and compute free energies (kT)\n",
    "with open(f\"/data/chodera/zhangi/perses_benchmark/repex/{main_dir}/{sub_dir}/{i}/results_apo.npy\", \"rb\") as f:\n",
    "    results = np.load(f, allow_pickle=True)\n",
    "    apo_dg, apo_ddg = [result[-1] for result in results]\n",
    "    print(f\"apo: {apo_dg} ({apo_ddg}) kT\")\n",
    "    print()\n"
   ]
  },
  {
   "cell_type": "code",
   "execution_count": 8,
   "metadata": {},
   "outputs": [
    {
     "data": {
      "text/plain": [
       "<Figure size 1080x3456 with 0 Axes>"
      ]
     },
     "metadata": {},
     "output_type": "display_data"
    }
   ],
   "source": [
    "# Generate replica mixing plots\n",
    "path = f\"/data/chodera/zhangi/perses_benchmark/repex/32/{sub_dir}/{i}/{i}_apo.nc\"\n",
    "utils.plot_replica_mixing(path, title=f\"{titles[0]} apo\", filename=f\"{path[:-3]}_replicas.png\")\n",
    "plt.clf()\n"
   ]
  },
  {
   "cell_type": "code",
   "execution_count": null,
   "metadata": {},
   "outputs": [],
   "source": []
  }
 ],
 "metadata": {
  "kernelspec": {
   "display_name": "Python 3 (ipykernel)",
   "language": "python",
   "name": "python3"
  },
  "language_info": {
   "codemirror_mode": {
    "name": "ipython",
    "version": 3
   },
   "file_extension": ".py",
   "mimetype": "text/x-python",
   "name": "python",
   "nbconvert_exporter": "python",
   "pygments_lexer": "ipython3",
   "version": "3.9.7"
  }
 },
 "nbformat": 4,
 "nbformat_minor": 4
}
