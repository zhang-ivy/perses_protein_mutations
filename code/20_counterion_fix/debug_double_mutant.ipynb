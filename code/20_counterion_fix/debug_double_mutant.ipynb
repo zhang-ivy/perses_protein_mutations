{
 "cells": [
  {
   "cell_type": "markdown",
   "id": "dedicated-adapter",
   "metadata": {},
   "source": [
    "# Debug 14/48: K417N -> K417N/E484K"
   ]
  },
  {
   "cell_type": "code",
   "execution_count": 23,
   "id": "molecular-endorsement",
   "metadata": {},
   "outputs": [],
   "source": [
    "from perses.app.relative_point_mutation_setup import PointMutationExecutorRBD\n",
    "from simtk.openmm import unit, app\n",
    "from simtk import openmm\n",
    "from pkg_resources import resource_filename\n",
    "import os\n",
    "import shutil\n",
    "import tempfile\n",
    "from perses.utils.openeye import createOEMolFromSDF, extractPositionsFromOEMol, oechem\n",
    "from perses.annihilation.relative import HybridTopologyFactory, RepartitionedHybridTopologyFactory\n",
    "from perses.rjmc.topology_proposal import PointMutationEngine, PointMutationEngineRBD\n",
    "from perses.rjmc.geometry import FFAllAngleGeometryEngine\n",
    "from perses.utils.rbd import edit_pdb_for_tleap, edit_tleap_in_inputs, edit_tleap_in_ions, generate_tleap_system\n",
    "\n",
    "\n",
    "import numpy as np\n",
    "from openmoltools import forcefield_generators\n",
    "import mdtraj as md\n",
    "from openmmtools.constants import kB\n",
    "from perses.tests.utils import validate_endstate_energies\n",
    "from openff.toolkit.topology import Molecule\n",
    "from openmmforcefields.generators import SystemGenerator\n",
    "import os\n",
    "from pkg_resources import resource_filename\n",
    "import shutil\n",
    "import tempfile"
   ]
  },
  {
   "cell_type": "code",
   "execution_count": 9,
   "id": "mineral-electric",
   "metadata": {},
   "outputs": [],
   "source": [
    "from openmmtools.constants import kB\n",
    "ENERGY_THRESHOLD = 1e-2\n",
    "temperature = 298 * unit.kelvin\n",
    "kT = kB * temperature\n",
    "beta = 1.0/kT\n",
    "ring_amino_acids = ['TYR', 'PHE', 'TRP', 'PRO', 'HIS']\n",
    "CL_CHARGE = unit.Quantity(value=-1.0, unit=unit.elementary_charge)\n",
    "CL_SIGMA = unit.Quantity(value=0.4477656957373345, unit=unit.nanometer)\n",
    "CL_EPSILON = unit.Quantity(value=0.14891274399999999, unit=unit.kilojoule_per_mole)\n",
    "NA_CHARGE = unit.Quantity(value=1.0, unit=unit.elementary_charge)\n",
    "NA_SIGMA = unit.Quantity(value=0.2439280690268249, unit=unit.nanometer)\n",
    "NA_EPSILON = unit.Quantity(value=0.3658460312, unit=unit.kilojoule_per_mole)\n",
    "O_CHARGE = unit.Quantity(value=-0.834, unit=unit.elementary_charge)\n",
    "H_CHARGE = unit.Quantity(value=0.417, unit=unit.elementary_charge)\n",
    "\n",
    "\n",
    "# Set up logger\n",
    "import logging\n",
    "_logger = logging.getLogger(\"setup\")\n",
    "_logger.setLevel(logging.INFO)"
   ]
  },
  {
   "cell_type": "code",
   "execution_count": 13,
   "id": "second-sudan",
   "metadata": {},
   "outputs": [],
   "source": [
    "class PointMutationExecutorRBD2(PointMutationExecutorRBD):\n",
    "    def __init__(self,\n",
    "                 protein_filename,\n",
    "                 mutation_chain_id,\n",
    "                 mutation_residue_id,\n",
    "                 proposed_residue,\n",
    "                 phase='complex',\n",
    "                 clean=False,\n",
    "                 conduct_endstate_validation=True,\n",
    "                 ligand_input=None,\n",
    "                 ligand_index=0,\n",
    "                 water_model='tip3p',\n",
    "                 ionic_strength=0.15 * unit.molar,\n",
    "                 forcefield_files=['amber/protein.ff14SB.xml', 'amber/tip3p_standard.xml'],\n",
    "                 barostat=openmm.MonteCarloBarostat(1.0 * unit.atmosphere, temperature, 50),\n",
    "                 forcefield_kwargs={'removeCMMotion': False, 'ewaldErrorTolerance': 0.00025, 'constraints' : app.HBonds, 'hydrogenMass' : 4 * unit.amus},\n",
    "                 periodic_forcefield_kwargs={'nonbondedMethod': app.PME},\n",
    "                 nonperiodic_forcefield_kwargs=None,\n",
    "                 small_molecule_forcefields='gaff-2.11',\n",
    "                 complex_box_dimensions=None,\n",
    "                 apo_box_dimensions=None,\n",
    "                 flatten_torsions=False,\n",
    "                 flatten_exceptions=False,\n",
    "                 vanilla=True,\n",
    "                 repartitioned=True,\n",
    "                 debug_dir=None,\n",
    "                 **kwargs):\n",
    "        \"\"\"\n",
    "        arguments\n",
    "            protein_filename : str\n",
    "                path to protein (to mutate); .pdb\n",
    "            mutation_chain_id : str\n",
    "                name of the chain to be mutated\n",
    "            mutation_residue_id : str\n",
    "                residue id to change\n",
    "            proposed_residue : str\n",
    "                three letter code of the residue to mutate to\n",
    "            phase : str, default complex\n",
    "                if phase == vacuum, then the complex will not be solvated with water; else, it will be solvated with tip3p\n",
    "            clean : bool, default False\n",
    "                whether to clean the PDB for tleap\n",
    "            conduct_endstate_validation : bool, default True\n",
    "                whether to conduct an endstate validation of the HybridTopologyFactory. If using the RepartitionedHybridTopologyFactory,\n",
    "                endstate validation cannot and will not be conducted.\n",
    "            ligand_file : str, default None\n",
    "                path to ligand of interest (i.e. small molecule or protein); .sdf or .pdb\n",
    "            ligand_index : int, default 0\n",
    "                which ligand to use\n",
    "            water_model : str, default 'tip3p'\n",
    "                solvent model to use for solvation\n",
    "            ionic_strength : float * unit.molar, default 0.15 * unit.molar\n",
    "                the total concentration of ions (both positive and negative) to add using Modeller.\n",
    "                This does not include ions that are added to neutralize the system.\n",
    "                Note that only monovalent ions are currently supported.\n",
    "            forcefield_files : list of str, default ['amber14/protein.ff14SB.xml', 'amber14/tip3p.xml']\n",
    "                forcefield files for proteins and solvent\n",
    "            barostat : openmm.MonteCarloBarostat, default openmm.MonteCarloBarostat(1.0 * unit.atmosphere, 300 * unit.kelvin, 50)\n",
    "                barostat to use\n",
    "            forcefield_kwargs : dict, default {'removeCMMotion': False, 'ewaldErrorTolerance': 1e-4, 'constraints' : app.HBonds, 'hydrogenMass' : 4 * unit.amus}\n",
    "                forcefield kwargs for system parametrization\n",
    "            periodic_forcefield_kwargs : dict, default {'nonbondedMethod': app.PME}\n",
    "                periodic forcefield kwargs for system parametrization\n",
    "            nonperiodic_forcefield_kwargs : dict, default None\n",
    "                non-periodic forcefield kwargs for system parametrization\n",
    "            small_molecule_forcefields : str, default 'gaff-2.11'\n",
    "                the forcefield string for small molecule parametrization\n",
    "            complex_box_dimensions : Vec3, default None\n",
    "                define box dimensions of complex phase;\n",
    "                if None, padding is 1nm\n",
    "            apo_box_dimensions :  Vec3, default None\n",
    "                define box dimensions of apo phase phase;\n",
    "                if None, padding is 1nm\n",
    "            flatten_torsions : bool, default False\n",
    "                in the htf, flatten torsions involving unique new atoms at lambda = 0 and unique old atoms are lambda = 1\n",
    "            flatten_exceptions : bool, default False\n",
    "                in the htf, flatten exceptions involving unique new atoms at lambda = 0 and unique old atoms at lambda = 1\n",
    "            vanilla : bool, default True\n",
    "                whether to generate a vanilla HybridTopologyFactory\n",
    "            repartitioned : bool, default True\n",
    "                whether to generate a RepartitionedHybridTopologyFactory\n",
    "            debug_dir : str, default None\n",
    "                if specified, debug output files will be saved here\n",
    "        TODO : allow argument for spectator ligands besides the 'ligand_file'\n",
    "        \"\"\"\n",
    "        # Make debug directory\n",
    "        is_temp = False\n",
    "        if debug_dir:\n",
    "            if not os.path.exists(debug_dir):\n",
    "                os.system(f\"mkdir {debug_dir}\")\n",
    "        else:\n",
    "            debug_dir = tempfile.mkdtemp()\n",
    "            is_temp = True        \n",
    "\n",
    "        ## Generate the old topology, positions, and system\n",
    "        # Prep PDBs for tleap\n",
    "        _logger.info(\"Editing PDBs for tleap\")\n",
    "        protein_name = os.path.basename(protein_filename)\n",
    "        ligand_name = os.path.basename(ligand_input)\n",
    "        protein_tleap = os.path.join(debug_dir, f\"{protein_name[:-4]}_tleap.pdb\")\n",
    "        ligand_tleap = os.path.join(debug_dir, f\"{ligand_name[:-4]}_tleap.pdb\")\n",
    "        if clean:\n",
    "            edit_pdb_for_tleap(protein_filename, protein_tleap)\n",
    "            edit_pdb_for_tleap(ligand_input, ligand_tleap)\n",
    "        else:\n",
    "            os.system(f\"cp {protein_filename} {protein_tleap}\")\n",
    "            os.system(f\"cp {ligand_input} {ligand_tleap}\")\n",
    "        \n",
    "        # Edit tleap files\n",
    "        _logger.info(\"Editing tleap.in input files\")\n",
    "        apo_tleap_prefix = os.path.join(debug_dir, \"1_rbd_tleap\")\n",
    "        complex_tleap_prefix = os.path.join(debug_dir, \"1_rbd_ace2_tleap\")\n",
    "        apo_template = resource_filename('perses', 'data/rbd-ace2/1_rbd_template_tleap.in')\n",
    "        complex_template = resource_filename('perses', 'data/rbd-ace2/1_rbd_ace2_template_tleap.in')\n",
    "        edit_tleap_in_inputs(apo_template, apo_tleap_prefix, debug_dir)\n",
    "        edit_tleap_in_inputs(complex_template, complex_tleap_prefix, debug_dir)\n",
    " \n",
    "        _logger.info(\"Editing tleap.in number of ions\")\n",
    "        edit_tleap_in_ions(apo_tleap_prefix)\n",
    "        edit_tleap_in_ions(complex_tleap_prefix)\n",
    "        \n",
    "        # Generating old systems\n",
    "        _logger.info(\"Generating solvated old systems\")\n",
    "        apo_topology, apo_positions, apo_system = generate_tleap_system(apo_tleap_prefix)\n",
    "        complex_topology, complex_positions, complex_system = generate_tleap_system(complex_tleap_prefix)\n",
    "        \n",
    "        # Correct the topologies\n",
    "        _logger.info(\"Correcting tleap topologies\")\n",
    "        apo_topology_corrected = self._correct_topology(apo_topology)\n",
    "        complex_topology_corrected = self._correct_topology(complex_topology, is_apo=False)\n",
    "        \n",
    "        # Format inputs for pipeline\n",
    "        inputs = [[apo_topology_corrected, apo_positions, apo_system, apo_tleap_prefix, False], [complex_topology_corrected, complex_positions, complex_system, complex_tleap_prefix, True]]\n",
    "    \n",
    "        # Make system generator -- note this is only for system_generator.forcefield call in PointMutationEngine init\n",
    "        molecules = []\n",
    "        self.system_generator = SystemGenerator(forcefields=forcefield_files,\n",
    "                                                barostat=barostat,\n",
    "                                                forcefield_kwargs=forcefield_kwargs,\n",
    "                                                periodic_forcefield_kwargs=periodic_forcefield_kwargs,\n",
    "                                                nonperiodic_forcefield_kwargs=nonperiodic_forcefield_kwargs,\n",
    "                                                small_molecule_forcefield=small_molecule_forcefields,\n",
    "                                                molecules=molecules,\n",
    "                                                cache=None)\n",
    "        \n",
    "        # Run pipeline...\n",
    "        htfs = []\n",
    "        for (top, pos, sys, tleap_prefix, is_complex) in inputs:\n",
    "            name = 'rbd_ace2' if is_complex else 'rbd'\n",
    "            if is_complex:\n",
    "                continue\n",
    "            _logger.info(f\"Generating topology proposal for {name}\")\n",
    "            point_mutation_engine = PointMutationEngineRBD(wildtype_topology=top,\n",
    "                                                         system_generator=self.system_generator,\n",
    "                                                         chain_id=mutation_chain_id, # Denote the chain id allowed to mutate (it's always a string variable)\n",
    "                                                         max_point_mutants=1,\n",
    "                                                         residues_allowed_to_mutate=[mutation_residue_id], # The residue ids allowed to mutate\n",
    "                                                         allowed_mutations=[(mutation_residue_id, proposed_residue)], # The residue ids allowed to mutate with the three-letter code allowed to change\n",
    "                                                         aggregate=True) # Always allow aggregation\n",
    "\n",
    "            topology_proposal, new_positions = point_mutation_engine.propose(sys, top, pos, tleap_prefix, is_complex, debug_dir)\n",
    "            self._topology_proposal = topology_proposal\n",
    "            self._new_positions = new_positions\n",
    "            \n",
    "        if is_temp:\n",
    "            shutil.rmtree(debug_dir)"
   ]
  },
  {
   "cell_type": "code",
   "execution_count": 24,
   "id": "ultimate-scout",
   "metadata": {
    "scrolled": true
   },
   "outputs": [
    {
     "name": "stderr",
     "output_type": "stream",
     "text": [
      "INFO:setup:Editing PDBs for tleap\n",
      "INFO:setup:Editing tleap.in input files\n",
      "INFO:setup:Editing tleap.in number of ions\n"
     ]
    },
    {
     "name": "stdout",
     "output_type": "stream",
     "text": [
      "num positive: 38\n",
      "num negative: 39.0\n"
     ]
    },
    {
     "name": "stderr",
     "output_type": "stream",
     "text": [
      "INFO:setup:Generating solvated old systems\n"
     ]
    },
    {
     "name": "stdout",
     "output_type": "stream",
     "text": [
      "num positive: 173.0\n",
      "num negative: 152\n"
     ]
    },
    {
     "name": "stderr",
     "output_type": "stream",
     "text": [
      "INFO:root:Added barostat!\n",
      "INFO:root:Added barostat!\n",
      "INFO:setup:Correcting tleap topologies\n",
      "INFO:setup:Generating topology proposal for rbd\n",
      "INFO:proposal_generator:\tConducting polymer point mutation proposal...\n",
      "INFO:proposal_generator:Adding new atoms\n",
      "INFO:proposal_generator:Using matching_criterion to chose best atom map\n",
      "INFO:proposal_generator:Scaffold has symmetry of 0\n",
      "WARNING:proposal_generator:Two molecules are not similar to have a common scaffold\n",
      "WARNING:proposal_generator:Proceeding with direct mapping of molecules, but please check atom mapping and the geometry of the ligands.\n",
      "INFO:proposal_generator:len [{4: 4, 5: 5, 11: 11, 12: 12, 13: 13, 14: 14}]\n",
      "INFO:proposal_generator:{4: 4, 5: 5, 11: 11, 12: 12, 13: 13, 14: 14}\n",
      "INFO:proposal_generator:Only one map so returning that one\n",
      "INFO:proposal_generator:{4: 4, 5: 5, 11: 11, 12: 12, 13: 13, 14: 14}\n",
      "INFO:proposal_generator:Prepping for mutation\n",
      "INFO:proposal_generator:Mutating\n",
      "INFO:proposal_generator:Prepping PDBs for tleap\n",
      "INFO:proposal_generator:Generating new system\n",
      "INFO:root:Added barostat!\n",
      "INFO:proposal_generator:Finishing up topology proposal\n"
     ]
    }
   ],
   "source": [
    "rbd_file = \"0_rbd.pdb\"\n",
    "ace2_file = \"0_ace2.pdb\"\n",
    "\n",
    "solvent_delivery = PointMutationExecutorRBD2(rbd_file,\n",
    "                        'R',\n",
    "                        \"484\",\n",
    "                        \"LYS\",\n",
    "                        ligand_input=ace2_file,\n",
    "                        ionic_strength=0.05*unit.molar,\n",
    "                        flatten_torsions=True,\n",
    "                        flatten_exceptions=True)"
   ]
  },
  {
   "cell_type": "code",
   "execution_count": 27,
   "id": "surface-prerequisite",
   "metadata": {},
   "outputs": [],
   "source": [
    "new_topology = solvent_delivery._topology_proposal.new_topology\n",
    "new_positions = solvent_delivery._new_positions\n",
    "old_topology = solvent_delivery._topology_proposal.old_topology"
   ]
  },
  {
   "cell_type": "code",
   "execution_count": 29,
   "id": "cleared-phenomenon",
   "metadata": {},
   "outputs": [
    {
     "name": "stderr",
     "output_type": "stream",
     "text": [
      "INFO:setup:charge diff: -2\n"
     ]
    }
   ],
   "source": [
    "# Check for charge change...\n",
    "charge_diff = PointMutationEngine._get_charge_difference(current_resname = old_topology.residue_topology.name,\n",
    "                                                           new_resname = new_topology.residue_topology.name)\n",
    "_logger.info(f\"charge diff: {charge_diff}\")\n"
   ]
  },
  {
   "cell_type": "code",
   "execution_count": 31,
   "id": "indian-reliance",
   "metadata": {},
   "outputs": [
    {
     "name": "stderr",
     "output_type": "stream",
     "text": [
      "<ipython-input-31-68ccf53f5ca1>:9: DeprecationWarning: `np.int` is a deprecated alias for the builtin `int`. To silence this warning, use `int` by itself. Doing this will not modify any behavior and is safe. When replacing `np.int`, you may wish to use e.g. `np.int64` or `np.int32` to specify the precision. If you wish to review your current use, check the release note link for additional information.\n",
      "Deprecated in NumPy 1.20; for more details and guidance: https://numpy.org/devdocs/release/1.20.0-notes.html#deprecations\n",
      "  neighboring_atoms = md.compute_neighbors(traj, radius, query_atoms, haystack_indices=water_atoms)[0]\n"
     ]
    }
   ],
   "source": [
    "radius = 0.8\n",
    "\n",
    "# Create trajectory\n",
    "traj = md.Trajectory(new_positions[np.newaxis, ...], md.Topology.from_openmm(new_topology))\n",
    "water_atoms = list(traj.topology.select(f\"water\"))\n",
    "query_atoms = traj.top.select('protein')\n",
    "\n",
    "# Get water atoms within radius of protein\n",
    "neighboring_atoms = md.compute_neighbors(traj, radius, query_atoms, haystack_indices=water_atoms)[0]\n",
    "\n",
    "# Get water atoms outside of radius of protein\n",
    "nonneighboring_residues = set([atom.residue.index for atom in traj.topology.atoms if atom.index not in  neighboring_atoms])\n",
    "assert len(nonneighboring_residues) > 0, \"there are no available nonneighboring waters\"\n",
    "# Choose N random nonneighboring waters, where N is determined based on the charge_diff\n",
    "choice_residues = np.random.choice(list(nonneighboring_residues), size=abs(charge_diff), replace=False)\n",
    "\n"
   ]
  },
  {
   "cell_type": "code",
   "execution_count": 32,
   "id": "therapeutic-terry",
   "metadata": {},
   "outputs": [
    {
     "data": {
      "text/plain": [
       "array([5570, 8518])"
      ]
     },
     "execution_count": 32,
     "metadata": {},
     "output_type": "execute_result"
    }
   ],
   "source": [
    "choice_residues"
   ]
  },
  {
   "cell_type": "code",
   "execution_count": 34,
   "id": "biological-jersey",
   "metadata": {},
   "outputs": [],
   "source": [
    "# Get the atom indices in the water(s)\n",
    "choice_indices = np.array([[atom.index for atom in traj.topology.residue(res).atoms] for res in choice_residues])\n"
   ]
  },
  {
   "cell_type": "code",
   "execution_count": 35,
   "id": "settled-crisis",
   "metadata": {},
   "outputs": [
    {
     "data": {
      "text/plain": [
       "array([[19122, 19123, 19124],\n",
       "       [27966, 27967, 27968]])"
      ]
     },
     "execution_count": 35,
     "metadata": {},
     "output_type": "execute_result"
    }
   ],
   "source": [
    "choice_indices"
   ]
  },
  {
   "cell_type": "code",
   "execution_count": 36,
   "id": "harmful-classic",
   "metadata": {},
   "outputs": [
    {
     "data": {
      "text/plain": [
       "array([19122, 19123, 19124, 27966, 27967, 27968])"
      ]
     },
     "execution_count": 36,
     "metadata": {},
     "output_type": "execute_result"
    }
   ],
   "source": [
    "np.ndarray.flatten(choice_indices)"
   ]
  },
  {
   "cell_type": "code",
   "execution_count": null,
   "id": "elegant-protection",
   "metadata": {},
   "outputs": [],
   "source": []
  },
  {
   "cell_type": "code",
   "execution_count": null,
   "id": "controlling-society",
   "metadata": {},
   "outputs": [],
   "source": []
  },
  {
   "cell_type": "code",
   "execution_count": null,
   "id": "considered-scanner",
   "metadata": {},
   "outputs": [],
   "source": [
    "if charge_diff != 0:\n",
    "    new_water_indices_to_ionize = PointMutationEngine.get_water_indices(charge_diff, new_positions, topology_proposal._new_topology, radius=0.8)\n",
    "    _logger.info(f\"new water indices to ionize {new_water_indices_to_ionize}\")\n",
    "    PointMutationExecutorRBD._modify_new_system(new_water_indices_to_ionize, topology_proposal._new_system, charge_diff)\n",
    "    PointMutationExecutorRBD._modify_atom_classes(new_water_indices_to_ionize, topology_proposal)\n"
   ]
  }
 ],
 "metadata": {
  "kernelspec": {
   "display_name": "Python 3",
   "language": "python",
   "name": "python3"
  },
  "language_info": {
   "codemirror_mode": {
    "name": "ipython",
    "version": 3
   },
   "file_extension": ".py",
   "mimetype": "text/x-python",
   "name": "python",
   "nbconvert_exporter": "python",
   "pygments_lexer": "ipython3",
   "version": "3.8.6"
  }
 },
 "nbformat": 4,
 "nbformat_minor": 5
}
