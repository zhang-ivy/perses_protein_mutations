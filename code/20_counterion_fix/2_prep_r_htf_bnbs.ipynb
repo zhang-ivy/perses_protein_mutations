{
 "cells": [
  {
   "cell_type": "code",
   "execution_count": 2,
   "id": "likely-length",
   "metadata": {},
   "outputs": [],
   "source": [
    "import pickle\n",
    "import os\n",
    "from perses.app.relative_point_mutation_setup import PointMutationExecutor\n",
    "from simtk import unit\n",
    "from simtk.openmm import app"
   ]
  },
  {
   "cell_type": "markdown",
   "id": "expressed-angel",
   "metadata": {},
   "source": [
    "# barstar D35A apo with counterion fix (16/8), lambda = 0\n"
   ]
  },
  {
   "cell_type": "code",
   "execution_count": 3,
   "id": "numeric-presentation",
   "metadata": {
    "scrolled": true
   },
   "outputs": [
    {
     "name": "stderr",
     "output_type": "stream",
     "text": [
      "DEBUG:openmmforcefields.system_generators:Trying GAFFTemplateGenerator to load gaff-2.11\n",
      "INFO:setup:solvating at 0.05 M using tip3p\n",
      "INFO:proposal_generator:\tConducting polymer point mutation proposal...\n",
      "INFO:proposal_generator:Using matching_criterion to chose best atom map\n",
      "INFO:proposal_generator:Scaffold has symmetry of 0\n",
      "WARNING:proposal_generator:Two molecules are not similar to have a common scaffold\n",
      "WARNING:proposal_generator:Proceeding with direct mapping of molecules, but please check atom mapping and the geometry of the ligands.\n",
      "INFO:proposal_generator:len [{7: 10}, {8: 10}, {9: 10}, {7: 11}, {8: 11}, {9: 11}]\n",
      "INFO:proposal_generator:{7: 10}\n",
      "INFO:proposal_generator:{8: 10}\n",
      "INFO:proposal_generator:{9: 10}\n",
      "INFO:proposal_generator:{7: 11}\n",
      "INFO:proposal_generator:{8: 11}\n",
      "INFO:proposal_generator:{9: 11}\n",
      "INFO:proposal_generator:Returning map that best satisfies matching_criterion\n",
      "INFO:proposal_generator:Finding best map using matching_criterion name\n",
      "INFO:proposal_generator:{7: 10}\n",
      "INFO:geometry:propose: performing forward proposal\n",
      "INFO:geometry:propose: unique new atoms detected; proceeding to _logp_propose...\n",
      "INFO:geometry:Conducting forward proposal...\n",
      "INFO:geometry:Computing proposal order with NetworkX...\n",
      "INFO:geometry:number of atoms to be placed: 4\n",
      "INFO:geometry:Atom index proposal order is [567, 570, 571, 572]\n",
      "INFO:geometry:omitted_bonds: []\n",
      "INFO:geometry:direction of proposal is forward; creating atoms_with_positions and new positions from old system/topology...\n",
      "INFO:geometry:creating growth system...\n",
      "INFO:geometry:\tcreating bond force...\n",
      "INFO:geometry:\tthere are 732 bonds in reference force.\n",
      "INFO:geometry:\tcreating angle force...\n",
      "INFO:geometry:\tthere are 2632 angles in reference force.\n",
      "INFO:geometry:\tcreating torsion force...\n",
      "INFO:geometry:\tcreating extra torsions force...\n",
      "INFO:geometry:\tthere are 4958 torsions in reference force.\n",
      "INFO:geometry:\tcreating nonbonded force...\n",
      "INFO:geometry:\t\tgrabbing reference nonbonded method, cutoff, switching function, switching distance...\n",
      "INFO:geometry:\t\tcreating nonbonded exception force (i.e. custom bond for 1,4s)...\n",
      "INFO:geometry:\t\tlooping through exceptions calculating growth indices, and adding appropriate interactions to custom bond force.\n",
      "INFO:geometry:\t\tthere are 21302 in the reference Nonbonded force\n",
      "WARNING:geometry:\t\t\t\t\tchiral atom <Atom 564 (CA) of chain 0 residue 35 (ALA)> with neighbors [<Atom 565 (C) of chain 0 residue 35 (ALA)>, <Atom 567 (CB) of chain 0 residue 35 (ALA)>, <Atom 569 (HA) of chain 0 residue 35 (ALA)>, <Atom 563 (N) of chain 0 residue 35 (ALA)>] is surrounded by 3 core neighbors.  omitting chirality bias torsion\n",
      "INFO:geometry:Neglected angle terms : []\n",
      "INFO:geometry:omitted_growth_terms: {'bonds': [], 'angles': [], 'torsions': [], '1,4s': []}\n",
      "INFO:geometry:extra torsions: {0: (568, 563, 564, 567, [1, Quantity(value=0.9799661941737812, unit=radian), Quantity(value=1200.0, unit=kilocalorie/mole), 1]), 1: (563, 564, 567, 572, [1, Quantity(value=2.105358864604291, unit=radian), Quantity(value=1200.0, unit=kilocalorie/mole), 4]), 2: (563, 564, 567, 570, [1, Quantity(value=-2.0823006129211796, unit=radian), Quantity(value=1200.0, unit=kilocalorie/mole), 2]), 3: (563, 564, 567, 571, [1, Quantity(value=0.018582237407944735, unit=radian), Quantity(value=1200.0, unit=kilocalorie/mole), 3]), 4: (565, 564, 567, 572, [1, Quantity(value=-0.036945135932107576, unit=radian), Quantity(value=1200.0, unit=kilocalorie/mole), 4]), 5: (565, 564, 567, 570, [1, Quantity(value=2.0585806937220097, unit=radian), Quantity(value=1200.0, unit=kilocalorie/mole), 2]), 6: (565, 564, 567, 571, [1, Quantity(value=-2.1237217631284597, unit=radian), Quantity(value=1200.0, unit=kilocalorie/mole), 3]), 7: (569, 564, 567, 572, [1, Quantity(value=-2.119603470065817, unit=radian), Quantity(value=1200.0, unit=kilocalorie/mole), 4]), 8: (569, 564, 567, 570, [1, Quantity(value=-0.024077640411697132, unit=radian), Quantity(value=1200.0, unit=kilocalorie/mole), 2]), 9: (569, 564, 567, 571, [1, Quantity(value=2.0768052099174152, unit=radian), Quantity(value=1200.0, unit=kilocalorie/mole), 3])}\n",
      "INFO:geometry:neglected angle terms include []\n",
      "INFO:geometry:log probability choice of torsions and atom order: -5.78074351579233\n",
      "INFO:geometry:creating platform, integrators, and contexts; setting growth parameter\n"
     ]
    },
    {
     "name": "stdout",
     "output_type": "stream",
     "text": [
      "conducting subsequent work with the following platform: CUDA\n",
      "conducting subsequent work with the following platform: CUDA\n"
     ]
    },
    {
     "name": "stderr",
     "output_type": "stream",
     "text": [
      "INFO:geometry:setting atoms_with_positions context new positions\n"
     ]
    },
    {
     "name": "stdout",
     "output_type": "stream",
     "text": [
      "conducting subsequent work with the following platform: CUDA\n"
     ]
    },
    {
     "name": "stderr",
     "output_type": "stream",
     "text": [
      "INFO:geometry:There are 4 new atoms\n",
      "INFO:geometry:\treduced angle potential = 0.050213426474798914.\n",
      "INFO:geometry:\treduced angle potential = 0.03863300223337407.\n",
      "INFO:geometry:\treduced angle potential = 3.1686621478064154.\n",
      "INFO:geometry:\treduced angle potential = 0.2693536865195502.\n",
      "INFO:geometry:\tbeginning construction of no_nonbonded final system...\n",
      "INFO:geometry:\tinitial no-nonbonded final system forces ['HarmonicBondForce', 'HarmonicAngleForce', 'PeriodicTorsionForce', 'NonbondedForce', 'MonteCarloBarostat']\n",
      "INFO:geometry:\tfinal no-nonbonded final system forces dict_keys(['HarmonicBondForce', 'HarmonicAngleForce', 'PeriodicTorsionForce', 'NonbondedForce'])\n",
      "INFO:geometry:\tthere are 732 bond forces in the no-nonbonded final system\n",
      "INFO:geometry:\tthere are 2632 angle forces in the no-nonbonded final system\n",
      "INFO:geometry:\tthere are 4958 torsion forces in the no-nonbonded final system\n",
      "INFO:geometry:forward final system defined with 0 neglected angles.\n"
     ]
    },
    {
     "name": "stdout",
     "output_type": "stream",
     "text": [
      "conducting subsequent work with the following platform: CUDA\n",
      "conducting subsequent work with the following platform: CUDA\n"
     ]
    },
    {
     "name": "stderr",
     "output_type": "stream",
     "text": [
      "INFO:geometry:total reduced potential before atom placement: 2281.8388321668594\n"
     ]
    },
    {
     "name": "stdout",
     "output_type": "stream",
     "text": [
      "conducting subsequent work with the following platform: CUDA\n",
      "conducting subsequent work with the following platform: CUDA\n",
      "conducting subsequent work with the following platform: CUDA\n"
     ]
    },
    {
     "name": "stderr",
     "output_type": "stream",
     "text": [
      "INFO:geometry:total reduced energy added from growth system: 1015.2752776145601\n",
      "INFO:geometry:final reduced energy 3297.114109373205\n",
      "INFO:geometry:sum of energies: 3297.1141097814198\n",
      "INFO:geometry:magnitude of difference in the energies: 4.0821464608598035e-07\n",
      "INFO:geometry:Final logp_proposal: 29.642168952827888\n",
      "INFO:setup:charge diff: 1\n"
     ]
    },
    {
     "name": "stdout",
     "output_type": "stream",
     "text": [
      "added energy components: [('CustomBondForce', 2.3525660341196954), ('CustomAngleForce', 230.67738240416614), ('CustomTorsionForce', 9.007254858887219), ('CustomBondForce', 773.238074317387)]\n"
     ]
    },
    {
     "name": "stderr",
     "output_type": "stream",
     "text": [
      "INFO:setup:new ion indices to neutralize [14863]\n",
      "INFO:setup:idx: 14863 of type <class 'numpy.int64'>\n",
      "INFO:geometry:logp_reverse: performing reverse proposal\n",
      "INFO:geometry:logp_reverse: unique new atoms detected; proceeding to _logp_propose...\n",
      "INFO:geometry:Conducting forward proposal...\n",
      "INFO:geometry:Computing proposal order with NetworkX...\n",
      "INFO:geometry:number of atoms to be placed: 6\n",
      "INFO:geometry:Atom index proposal order is [567, 568, 569, 570, 574, 573]\n",
      "INFO:geometry:omitted_bonds: []\n",
      "INFO:geometry:direction of proposal is reverse; creating atoms_with_positions from old system/topology\n",
      "INFO:geometry:creating growth system...\n",
      "INFO:geometry:\tcreating bond force...\n",
      "INFO:geometry:\tthere are 735 bonds in reference force.\n",
      "INFO:geometry:\tcreating angle force...\n",
      "INFO:geometry:\tthere are 2635 angles in reference force.\n",
      "INFO:geometry:\tcreating torsion force...\n",
      "INFO:geometry:\tcreating extra torsions force...\n",
      "INFO:geometry:\tthere are 4969 torsions in reference force.\n",
      "INFO:geometry:\tcreating nonbonded force...\n",
      "INFO:geometry:\t\tgrabbing reference nonbonded method, cutoff, switching function, switching distance...\n",
      "INFO:geometry:\t\tcreating nonbonded exception force (i.e. custom bond for 1,4s)...\n",
      "INFO:geometry:\t\tlooping through exceptions calculating growth indices, and adding appropriate interactions to custom bond force.\n",
      "INFO:geometry:\t\tthere are 21313 in the reference Nonbonded force\n",
      "WARNING:geometry:\t\t\t\t\tchiral atom <Atom 564 (CA) of chain 0 residue 35 (ASP)> with neighbors [<Atom 565 (C) of chain 0 residue 35 (ASP)>, <Atom 567 (CB) of chain 0 residue 35 (ASP)>, <Atom 572 (HA) of chain 0 residue 35 (ASP)>, <Atom 563 (N) of chain 0 residue 35 (ASP)>] is surrounded by 3 core neighbors.  omitting chirality bias torsion\n",
      "INFO:geometry:Neglected angle terms : []\n",
      "INFO:geometry:omitted_growth_terms: {'bonds': [], 'angles': [], 'torsions': [], '1,4s': []}\n",
      "INFO:geometry:extra torsions: {0: (571, 563, 564, 567, [1, Quantity(value=0.9842372741587524, unit=radian), Quantity(value=1200.0, unit=kilocalorie/mole), 1])}\n",
      "INFO:geometry:neglected angle terms include []\n",
      "INFO:geometry:log probability choice of torsions and atom order: -6.396929655216146\n",
      "INFO:geometry:creating platform, integrators, and contexts; setting growth parameter\n"
     ]
    },
    {
     "name": "stdout",
     "output_type": "stream",
     "text": [
      "conducting subsequent work with the following platform: CUDA\n"
     ]
    },
    {
     "name": "stderr",
     "output_type": "stream",
     "text": [
      "INFO:geometry:setting atoms_with_positions context old positions\n"
     ]
    },
    {
     "name": "stdout",
     "output_type": "stream",
     "text": [
      "conducting subsequent work with the following platform: CUDA\n"
     ]
    },
    {
     "name": "stderr",
     "output_type": "stream",
     "text": [
      "INFO:geometry:There are 6 new atoms\n",
      "INFO:geometry:\treduced angle potential = 0.001810955042663048.\n",
      "INFO:geometry:\treduced angle potential = 0.8022028537150653.\n",
      "INFO:geometry:\treduced angle potential = 0.0008512316407993676.\n",
      "INFO:geometry:\treduced angle potential = 6.50541390798615e-06.\n",
      "INFO:geometry:\treduced angle potential = 9.571458454676215e-06.\n",
      "INFO:geometry:\treduced angle potential = 1.656910464917615e-05.\n",
      "INFO:geometry:\tbeginning construction of no_nonbonded final system...\n",
      "INFO:geometry:\tinitial no-nonbonded final system forces ['HarmonicBondForce', 'HarmonicAngleForce', 'PeriodicTorsionForce', 'NonbondedForce', 'MonteCarloBarostat']\n",
      "INFO:geometry:\tfinal no-nonbonded final system forces dict_keys(['HarmonicBondForce', 'HarmonicAngleForce', 'PeriodicTorsionForce', 'NonbondedForce'])\n",
      "INFO:geometry:\tthere are 735 bond forces in the no-nonbonded final system\n",
      "INFO:geometry:\tthere are 2635 angle forces in the no-nonbonded final system\n",
      "INFO:geometry:\tthere are 4969 torsion forces in the no-nonbonded final system\n",
      "INFO:geometry:reverse final system defined with 0 neglected angles.\n"
     ]
    },
    {
     "name": "stdout",
     "output_type": "stream",
     "text": [
      "conducting subsequent work with the following platform: CUDA\n",
      "conducting subsequent work with the following platform: CUDA\n"
     ]
    },
    {
     "name": "stderr",
     "output_type": "stream",
     "text": [
      "INFO:geometry:total reduced potential before atom placement: 2281.83877149957\n"
     ]
    },
    {
     "name": "stdout",
     "output_type": "stream",
     "text": [
      "conducting subsequent work with the following platform: CUDA\n",
      "conducting subsequent work with the following platform: CUDA\n",
      "conducting subsequent work with the following platform: CUDA\n"
     ]
    },
    {
     "name": "stderr",
     "output_type": "stream",
     "text": [
      "INFO:geometry:total reduced energy added from growth system: 16.1052244500692\n",
      "INFO:geometry:final reduced energy 2297.943995924393\n",
      "INFO:geometry:sum of energies: 2297.9439959496394\n",
      "INFO:geometry:magnitude of difference in the energies: 2.5246137624890252e-08\n",
      "INFO:geometry:Final logp_proposal: -2217.4688001162917\n"
     ]
    },
    {
     "name": "stdout",
     "output_type": "stream",
     "text": [
      "added energy components: [('CustomBondForce', 0.05482213967786096), ('CustomAngleForce', 1.8908629783319648), ('CustomTorsionForce', 14.985790318243794), ('CustomBondForce', -0.8262509861844156)]\n"
     ]
    },
    {
     "name": "stderr",
     "output_type": "stream",
     "text": [
      "INFO:relative:*** Generating RepartitionedHybridTopologyFactory ***\n",
      "INFO:relative:Flattening torsions of unique new/old at lambda = 0/1\n",
      "INFO:relative:Flattening exceptions of unique new/old at lambda = 0/1\n",
      "INFO:relative:Old system forces: dict_keys(['HarmonicBondForce', 'HarmonicAngleForce', 'PeriodicTorsionForce', 'NonbondedForce', 'MonteCarloBarostat'])\n",
      "INFO:relative:New system forces: dict_keys(['HarmonicBondForce', 'HarmonicAngleForce', 'PeriodicTorsionForce', 'NonbondedForce', 'MonteCarloBarostat'])\n",
      "INFO:relative:No unknown forces.\n",
      "INFO:relative:Nonbonded method to be used (i.e. from old system): 4\n",
      "INFO:relative:Adding and mapping old atoms to hybrid system...\n",
      "INFO:relative:Adding and mapping new atoms to hybrid system...\n",
      "INFO:relative:Added MonteCarloBarostat.\n",
      "INFO:relative:getDefaultPeriodicBoxVectors added to hybrid: [Quantity(value=Vec3(x=5.423900000000001, y=0.0, z=0.0), unit=nanometer), Quantity(value=Vec3(x=0.0, y=5.423900000000001, z=0.0), unit=nanometer), Quantity(value=Vec3(x=0.0, y=0.0, z=5.423900000000001), unit=nanometer)]\n",
      "INFO:relative:Determined atom classes.\n",
      "INFO:relative:Generating old system exceptions dict...\n",
      "INFO:relative:Generating new system exceptions dict...\n",
      "INFO:relative:Handling constraints...\n",
      "INFO:relative:Handling virtual sites...\n",
      "INFO:relative:\t_handle_virtual_sites: numVirtualSites: 0\n",
      "INFO:relative:\t_add_nonbonded_force_terms: <simtk.openmm.openmm.NonbondedForce; proxy of <Swig Object of type 'OpenMM::NonbondedForce *' at 0x2ba6ae70ced0> > added to hybrid system\n",
      "INFO:relative:\t_add_nonbonded_force_terms: nonbonded_method is PME or Ewald\n",
      "INFO:relative:\t_add_nonbonded_force_terms: 4 added to standard nonbonded force\n",
      "INFO:relative:\t_add_nonbonded_force_terms: 2 added to sterics_custom_nonbonded force\n"
     ]
    }
   ],
   "source": [
    "solvent_delivery = PointMutationExecutor(\"../../input/mmc2_barstar.pdb\",\n",
    "                        '1',\n",
    "                        '35',\n",
    "                        'ALA',\n",
    "                        ionic_strength=0.05*unit.molar,\n",
    "                        flatten_torsions=True,\n",
    "                        flatten_exceptions=True, \n",
    "                        conduct_endstate_validation=False,\n",
    "                        repartitioned_endstate=0\n",
    "                       )\n",
    "\n"
   ]
  },
  {
   "cell_type": "code",
   "execution_count": 4,
   "id": "raised-newton",
   "metadata": {},
   "outputs": [],
   "source": [
    "out_dir = '/data/chodera/zhangi/perses_benchmark/neq/16/8/'\n",
    "pickle.dump(solvent_delivery.get_apo_htf(), open(os.path.join(out_dir, \"8_apo_0.pickle\"), \"wb\" ))\n"
   ]
  },
  {
   "cell_type": "code",
   "execution_count": 5,
   "id": "psychological-breakfast",
   "metadata": {},
   "outputs": [],
   "source": [
    "htf = solvent_delivery.get_apo_htf()"
   ]
  },
  {
   "cell_type": "code",
   "execution_count": 18,
   "id": "drawn-attention",
   "metadata": {},
   "outputs": [],
   "source": [
    "outdir = \"/data/chodera/zhangi/perses_benchmark/neq/16/8/\"\n",
    "with open(os.path.join(outdir, f\"8_apo_0.pickle\"), \"rb\") as f:\n",
    "    htf = pickle.load(f)\n"
   ]
  },
  {
   "cell_type": "code",
   "execution_count": 22,
   "id": "attached-psychology",
   "metadata": {},
   "outputs": [
    {
     "data": {
      "text/plain": [
       "{567, 568, 569, 570, 573, 574}"
      ]
     },
     "execution_count": 22,
     "metadata": {},
     "output_type": "execute_result"
    }
   ],
   "source": [
    "htf._atom_classes['unique_old_atoms']"
   ]
  },
  {
   "cell_type": "code",
   "execution_count": 20,
   "id": "formed-pressing",
   "metadata": {},
   "outputs": [
    {
     "name": "stdout",
     "output_type": "stream",
     "text": [
      "<Atom 14861 (H1) of chain 2 residue 4564 (HOH)>\n",
      "<Atom 14862 (H2) of chain 2 residue 4564 (HOH)>\n",
      "<Atom 14863 (Na) of chain 3 residue 4565 (NA)>\n",
      "<Atom 14864 (Na) of chain 3 residue 4566 (NA)>\n",
      "<Atom 14865 (Na) of chain 3 residue 4567 (NA)>\n",
      "<Atom 14866 (Na) of chain 3 residue 4568 (NA)>\n",
      "<Atom 14867 (Na) of chain 3 residue 4569 (NA)>\n",
      "<Atom 14868 (Na) of chain 3 residue 4570 (NA)>\n",
      "<Atom 14869 (Na) of chain 3 residue 4571 (NA)>\n",
      "<Atom 14870 (Na) of chain 3 residue 4572 (NA)>\n",
      "<Atom 14871 (Na) of chain 3 residue 4573 (NA)>\n",
      "<Atom 14872 (Na) of chain 3 residue 4574 (NA)>\n",
      "<Atom 14873 (Cl) of chain 3 residue 4575 (CL)>\n",
      "<Atom 14874 (Cl) of chain 3 residue 4576 (CL)>\n",
      "<Atom 14875 (Cl) of chain 3 residue 4577 (CL)>\n",
      "<Atom 14876 (Cl) of chain 3 residue 4578 (CL)>\n"
     ]
    }
   ],
   "source": [
    "for atom in htf._topology_proposal.old_topology.atoms():\n",
    "    if atom.index > 14860:\n",
    "        print(atom)"
   ]
  },
  {
   "cell_type": "code",
   "execution_count": 23,
   "id": "atomic-phenomenon",
   "metadata": {},
   "outputs": [
    {
     "name": "stdout",
     "output_type": "stream",
     "text": [
      "14861 [Quantity(value=0.417, unit=elementary charge), Quantity(value=1.0, unit=nanometer), Quantity(value=0.0, unit=kilojoule/mole)]\n",
      "14862 [Quantity(value=0.417, unit=elementary charge), Quantity(value=1.0, unit=nanometer), Quantity(value=0.0, unit=kilojoule/mole)]\n",
      "14863 [Quantity(value=1.0, unit=elementary charge), Quantity(value=0.2439280690268249, unit=nanometer), Quantity(value=0.3658460312, unit=kilojoule/mole)]\n",
      "14864 [Quantity(value=1.0, unit=elementary charge), Quantity(value=0.2439280690268249, unit=nanometer), Quantity(value=0.3658460312, unit=kilojoule/mole)]\n",
      "14865 [Quantity(value=1.0, unit=elementary charge), Quantity(value=0.2439280690268249, unit=nanometer), Quantity(value=0.3658460312, unit=kilojoule/mole)]\n",
      "14866 [Quantity(value=1.0, unit=elementary charge), Quantity(value=0.2439280690268249, unit=nanometer), Quantity(value=0.3658460312, unit=kilojoule/mole)]\n",
      "14867 [Quantity(value=1.0, unit=elementary charge), Quantity(value=0.2439280690268249, unit=nanometer), Quantity(value=0.3658460312, unit=kilojoule/mole)]\n",
      "14868 [Quantity(value=1.0, unit=elementary charge), Quantity(value=0.2439280690268249, unit=nanometer), Quantity(value=0.3658460312, unit=kilojoule/mole)]\n",
      "14869 [Quantity(value=1.0, unit=elementary charge), Quantity(value=0.2439280690268249, unit=nanometer), Quantity(value=0.3658460312, unit=kilojoule/mole)]\n",
      "14870 [Quantity(value=1.0, unit=elementary charge), Quantity(value=0.2439280690268249, unit=nanometer), Quantity(value=0.3658460312, unit=kilojoule/mole)]\n",
      "14871 [Quantity(value=1.0, unit=elementary charge), Quantity(value=0.2439280690268249, unit=nanometer), Quantity(value=0.3658460312, unit=kilojoule/mole)]\n",
      "14872 [Quantity(value=1.0, unit=elementary charge), Quantity(value=0.2439280690268249, unit=nanometer), Quantity(value=0.3658460312, unit=kilojoule/mole)]\n",
      "14873 [Quantity(value=-1.0, unit=elementary charge), Quantity(value=0.4477656957373345, unit=nanometer), Quantity(value=0.14891274399999999, unit=kilojoule/mole)]\n",
      "14874 [Quantity(value=-1.0, unit=elementary charge), Quantity(value=0.4477656957373345, unit=nanometer), Quantity(value=0.14891274399999999, unit=kilojoule/mole)]\n",
      "14875 [Quantity(value=-1.0, unit=elementary charge), Quantity(value=0.4477656957373345, unit=nanometer), Quantity(value=0.14891274399999999, unit=kilojoule/mole)]\n",
      "14876 [Quantity(value=-1.0, unit=elementary charge), Quantity(value=0.4477656957373345, unit=nanometer), Quantity(value=0.14891274399999999, unit=kilojoule/mole)]\n"
     ]
    }
   ],
   "source": [
    "nb_force = htf._topology_proposal.old_system.getForce(3)\n",
    "for i in range(nb_force.getNumParticles()):\n",
    "    if i > 14860:\n",
    "        print(i, nb_force.getParticleParameters(i))"
   ]
  },
  {
   "cell_type": "markdown",
   "id": "educated-weekly",
   "metadata": {},
   "source": [
    "# barstar D35A apo with counterion fix (16/8), lambda = 1\n"
   ]
  },
  {
   "cell_type": "code",
   "execution_count": 6,
   "id": "confirmed-ranch",
   "metadata": {
    "scrolled": true
   },
   "outputs": [
    {
     "name": "stderr",
     "output_type": "stream",
     "text": [
      "DEBUG:openmmforcefields.system_generators:Trying GAFFTemplateGenerator to load gaff-2.11\n",
      "INFO:setup:solvating at 0.05 M using tip3p\n",
      "INFO:proposal_generator:\tConducting polymer point mutation proposal...\n",
      "INFO:proposal_generator:Using matching_criterion to chose best atom map\n",
      "INFO:proposal_generator:Scaffold has symmetry of 0\n",
      "WARNING:proposal_generator:Two molecules are not similar to have a common scaffold\n",
      "WARNING:proposal_generator:Proceeding with direct mapping of molecules, but please check atom mapping and the geometry of the ligands.\n",
      "INFO:proposal_generator:len [{7: 10}, {8: 10}, {9: 10}, {7: 11}, {8: 11}, {9: 11}]\n",
      "INFO:proposal_generator:{7: 10}\n",
      "INFO:proposal_generator:{8: 10}\n",
      "INFO:proposal_generator:{9: 10}\n",
      "INFO:proposal_generator:{7: 11}\n",
      "INFO:proposal_generator:{8: 11}\n",
      "INFO:proposal_generator:{9: 11}\n",
      "INFO:proposal_generator:Returning map that best satisfies matching_criterion\n",
      "INFO:proposal_generator:Finding best map using matching_criterion name\n",
      "INFO:proposal_generator:{7: 10}\n",
      "INFO:geometry:propose: performing forward proposal\n",
      "INFO:geometry:propose: unique new atoms detected; proceeding to _logp_propose...\n",
      "INFO:geometry:Conducting forward proposal...\n",
      "INFO:geometry:Computing proposal order with NetworkX...\n",
      "INFO:geometry:number of atoms to be placed: 4\n",
      "INFO:geometry:Atom index proposal order is [567, 572, 570, 571]\n",
      "INFO:geometry:omitted_bonds: []\n",
      "INFO:geometry:direction of proposal is forward; creating atoms_with_positions and new positions from old system/topology...\n",
      "INFO:geometry:creating growth system...\n",
      "INFO:geometry:\tcreating bond force...\n",
      "INFO:geometry:\tthere are 732 bonds in reference force.\n",
      "INFO:geometry:\tcreating angle force...\n",
      "INFO:geometry:\tthere are 2632 angles in reference force.\n",
      "INFO:geometry:\tcreating torsion force...\n",
      "INFO:geometry:\tcreating extra torsions force...\n",
      "INFO:geometry:\tthere are 4958 torsions in reference force.\n",
      "INFO:geometry:\tcreating nonbonded force...\n",
      "INFO:geometry:\t\tgrabbing reference nonbonded method, cutoff, switching function, switching distance...\n",
      "INFO:geometry:\t\tcreating nonbonded exception force (i.e. custom bond for 1,4s)...\n",
      "INFO:geometry:\t\tlooping through exceptions calculating growth indices, and adding appropriate interactions to custom bond force.\n",
      "INFO:geometry:\t\tthere are 21302 in the reference Nonbonded force\n",
      "WARNING:geometry:\t\t\t\t\tchiral atom <Atom 564 (CA) of chain 0 residue 35 (ALA)> with neighbors [<Atom 565 (C) of chain 0 residue 35 (ALA)>, <Atom 567 (CB) of chain 0 residue 35 (ALA)>, <Atom 569 (HA) of chain 0 residue 35 (ALA)>, <Atom 563 (N) of chain 0 residue 35 (ALA)>] is surrounded by 3 core neighbors.  omitting chirality bias torsion\n",
      "INFO:geometry:Neglected angle terms : []\n",
      "INFO:geometry:omitted_growth_terms: {'bonds': [], 'angles': [], 'torsions': [], '1,4s': []}\n",
      "INFO:geometry:extra torsions: {0: (568, 563, 564, 567, [1, Quantity(value=0.9799661941737812, unit=radian), Quantity(value=1200.0, unit=kilocalorie/mole), 1]), 1: (563, 564, 567, 572, [1, Quantity(value=2.105358864604291, unit=radian), Quantity(value=1200.0, unit=kilocalorie/mole), 2]), 2: (563, 564, 567, 570, [1, Quantity(value=-2.0823006129211796, unit=radian), Quantity(value=1200.0, unit=kilocalorie/mole), 3]), 3: (563, 564, 567, 571, [1, Quantity(value=0.018582237407944735, unit=radian), Quantity(value=1200.0, unit=kilocalorie/mole), 4]), 4: (565, 564, 567, 572, [1, Quantity(value=-0.036945135932107576, unit=radian), Quantity(value=1200.0, unit=kilocalorie/mole), 2]), 5: (565, 564, 567, 570, [1, Quantity(value=2.0585806937220097, unit=radian), Quantity(value=1200.0, unit=kilocalorie/mole), 3]), 6: (565, 564, 567, 571, [1, Quantity(value=-2.1237217631284597, unit=radian), Quantity(value=1200.0, unit=kilocalorie/mole), 4]), 7: (569, 564, 567, 572, [1, Quantity(value=-2.119603470065817, unit=radian), Quantity(value=1200.0, unit=kilocalorie/mole), 2]), 8: (569, 564, 567, 570, [1, Quantity(value=-0.024077640411697132, unit=radian), Quantity(value=1200.0, unit=kilocalorie/mole), 3]), 9: (569, 564, 567, 571, [1, Quantity(value=2.0768052099174152, unit=radian), Quantity(value=1200.0, unit=kilocalorie/mole), 4])}\n",
      "INFO:geometry:neglected angle terms include []\n",
      "INFO:geometry:log probability choice of torsions and atom order: -5.78074351579233\n",
      "INFO:geometry:creating platform, integrators, and contexts; setting growth parameter\n"
     ]
    },
    {
     "name": "stdout",
     "output_type": "stream",
     "text": [
      "conducting subsequent work with the following platform: CUDA\n"
     ]
    },
    {
     "name": "stderr",
     "output_type": "stream",
     "text": [
      "INFO:geometry:setting atoms_with_positions context new positions\n"
     ]
    },
    {
     "name": "stdout",
     "output_type": "stream",
     "text": [
      "conducting subsequent work with the following platform: CUDA\n"
     ]
    },
    {
     "name": "stderr",
     "output_type": "stream",
     "text": [
      "INFO:geometry:There are 4 new atoms\n",
      "INFO:geometry:\treduced angle potential = 0.014422599205279791.\n",
      "INFO:geometry:\treduced angle potential = 0.03281200109247968.\n",
      "INFO:geometry:\treduced angle potential = 0.14964671991061848.\n",
      "INFO:geometry:\treduced angle potential = 0.1508527818667827.\n",
      "INFO:geometry:\tbeginning construction of no_nonbonded final system...\n",
      "INFO:geometry:\tinitial no-nonbonded final system forces ['HarmonicBondForce', 'HarmonicAngleForce', 'PeriodicTorsionForce', 'NonbondedForce', 'MonteCarloBarostat']\n",
      "INFO:geometry:\tfinal no-nonbonded final system forces dict_keys(['HarmonicBondForce', 'HarmonicAngleForce', 'PeriodicTorsionForce', 'NonbondedForce'])\n",
      "INFO:geometry:\tthere are 732 bond forces in the no-nonbonded final system\n",
      "INFO:geometry:\tthere are 2632 angle forces in the no-nonbonded final system\n",
      "INFO:geometry:\tthere are 4958 torsion forces in the no-nonbonded final system\n",
      "INFO:geometry:forward final system defined with 0 neglected angles.\n"
     ]
    },
    {
     "name": "stdout",
     "output_type": "stream",
     "text": [
      "conducting subsequent work with the following platform: CUDA\n",
      "conducting subsequent work with the following platform: CUDA\n"
     ]
    },
    {
     "name": "stderr",
     "output_type": "stream",
     "text": [
      "INFO:geometry:total reduced potential before atom placement: 2281.8388321668594\n"
     ]
    },
    {
     "name": "stdout",
     "output_type": "stream",
     "text": [
      "conducting subsequent work with the following platform: CUDA\n",
      "conducting subsequent work with the following platform: CUDA\n",
      "conducting subsequent work with the following platform: CUDA\n"
     ]
    },
    {
     "name": "stderr",
     "output_type": "stream",
     "text": [
      "INFO:geometry:total reduced energy added from growth system: 670.9769044973577\n",
      "INFO:geometry:final reduced energy 2952.8157365166735\n",
      "INFO:geometry:sum of energies: 2952.815736664217\n",
      "INFO:geometry:magnitude of difference in the energies: 1.4754368748981506e-07\n",
      "INFO:geometry:Final logp_proposal: 34.241926673166944\n",
      "INFO:setup:charge diff: 1\n"
     ]
    },
    {
     "name": "stdout",
     "output_type": "stream",
     "text": [
      "added energy components: [('CustomBondForce', 0.015611034657617436), ('CustomAngleForce', 208.78141210890186), ('CustomTorsionForce', 9.216791984999078), ('CustomBondForce', 452.9630893687991)]\n"
     ]
    },
    {
     "name": "stderr",
     "output_type": "stream",
     "text": [
      "INFO:setup:new ion indices to neutralize [14868]\n",
      "INFO:setup:idx: 14868 of type <class 'numpy.int64'>\n",
      "INFO:geometry:logp_reverse: performing reverse proposal\n",
      "INFO:geometry:logp_reverse: unique new atoms detected; proceeding to _logp_propose...\n",
      "INFO:geometry:Conducting forward proposal...\n",
      "INFO:geometry:Computing proposal order with NetworkX...\n",
      "INFO:geometry:number of atoms to be placed: 6\n",
      "INFO:geometry:Atom index proposal order is [567, 568, 569, 570, 574, 573]\n",
      "INFO:geometry:omitted_bonds: []\n",
      "INFO:geometry:direction of proposal is reverse; creating atoms_with_positions from old system/topology\n",
      "INFO:geometry:creating growth system...\n",
      "INFO:geometry:\tcreating bond force...\n",
      "INFO:geometry:\tthere are 735 bonds in reference force.\n",
      "INFO:geometry:\tcreating angle force...\n",
      "INFO:geometry:\tthere are 2635 angles in reference force.\n",
      "INFO:geometry:\tcreating torsion force...\n",
      "INFO:geometry:\tcreating extra torsions force...\n",
      "INFO:geometry:\tthere are 4969 torsions in reference force.\n",
      "INFO:geometry:\tcreating nonbonded force...\n",
      "INFO:geometry:\t\tgrabbing reference nonbonded method, cutoff, switching function, switching distance...\n",
      "INFO:geometry:\t\tcreating nonbonded exception force (i.e. custom bond for 1,4s)...\n",
      "INFO:geometry:\t\tlooping through exceptions calculating growth indices, and adding appropriate interactions to custom bond force.\n",
      "INFO:geometry:\t\tthere are 21313 in the reference Nonbonded force\n",
      "WARNING:geometry:\t\t\t\t\tchiral atom <Atom 564 (CA) of chain 0 residue 35 (ASP)> with neighbors [<Atom 565 (C) of chain 0 residue 35 (ASP)>, <Atom 567 (CB) of chain 0 residue 35 (ASP)>, <Atom 572 (HA) of chain 0 residue 35 (ASP)>, <Atom 563 (N) of chain 0 residue 35 (ASP)>] is surrounded by 3 core neighbors.  omitting chirality bias torsion\n",
      "INFO:geometry:Neglected angle terms : []\n",
      "INFO:geometry:omitted_growth_terms: {'bonds': [], 'angles': [], 'torsions': [], '1,4s': []}\n",
      "INFO:geometry:extra torsions: {0: (571, 563, 564, 567, [1, Quantity(value=0.9842372741587524, unit=radian), Quantity(value=1200.0, unit=kilocalorie/mole), 1])}\n",
      "INFO:geometry:neglected angle terms include []\n",
      "INFO:geometry:log probability choice of torsions and atom order: -6.396929655216146\n",
      "INFO:geometry:creating platform, integrators, and contexts; setting growth parameter\n"
     ]
    },
    {
     "name": "stdout",
     "output_type": "stream",
     "text": [
      "conducting subsequent work with the following platform: CUDA\n"
     ]
    },
    {
     "name": "stderr",
     "output_type": "stream",
     "text": [
      "INFO:geometry:setting atoms_with_positions context old positions\n"
     ]
    },
    {
     "name": "stdout",
     "output_type": "stream",
     "text": [
      "conducting subsequent work with the following platform: CUDA\n"
     ]
    },
    {
     "name": "stderr",
     "output_type": "stream",
     "text": [
      "INFO:geometry:There are 6 new atoms\n",
      "INFO:geometry:\treduced angle potential = 0.3212088064539777.\n",
      "INFO:geometry:\treduced angle potential = 0.8022028537150653.\n",
      "INFO:geometry:\treduced angle potential = 0.0008512316407993676.\n",
      "INFO:geometry:\treduced angle potential = 6.50541390798615e-06.\n",
      "INFO:geometry:\treduced angle potential = 9.571458454676215e-06.\n",
      "INFO:geometry:\treduced angle potential = 0.3155387784720153.\n",
      "INFO:geometry:\tbeginning construction of no_nonbonded final system...\n",
      "INFO:geometry:\tinitial no-nonbonded final system forces ['HarmonicBondForce', 'HarmonicAngleForce', 'PeriodicTorsionForce', 'NonbondedForce', 'MonteCarloBarostat']\n",
      "INFO:geometry:\tfinal no-nonbonded final system forces dict_keys(['HarmonicBondForce', 'HarmonicAngleForce', 'PeriodicTorsionForce', 'NonbondedForce'])\n",
      "INFO:geometry:\tthere are 735 bond forces in the no-nonbonded final system\n",
      "INFO:geometry:\tthere are 2635 angle forces in the no-nonbonded final system\n",
      "INFO:geometry:\tthere are 4969 torsion forces in the no-nonbonded final system\n",
      "INFO:geometry:reverse final system defined with 0 neglected angles.\n"
     ]
    },
    {
     "name": "stdout",
     "output_type": "stream",
     "text": [
      "conducting subsequent work with the following platform: CUDA\n",
      "conducting subsequent work with the following platform: CUDA\n"
     ]
    },
    {
     "name": "stderr",
     "output_type": "stream",
     "text": [
      "INFO:geometry:total reduced potential before atom placement: 2281.83877149957\n"
     ]
    },
    {
     "name": "stdout",
     "output_type": "stream",
     "text": [
      "conducting subsequent work with the following platform: CUDA\n",
      "conducting subsequent work with the following platform: CUDA\n",
      "conducting subsequent work with the following platform: CUDA\n"
     ]
    },
    {
     "name": "stderr",
     "output_type": "stream",
     "text": [
      "INFO:geometry:total reduced energy added from growth system: 16.1052244500692\n",
      "INFO:geometry:final reduced energy 2297.943995924393\n",
      "INFO:geometry:sum of energies: 2297.9439959496394\n",
      "INFO:geometry:magnitude of difference in the energies: 2.5246137624890252e-08\n",
      "INFO:geometry:Final logp_proposal: -2189.2878293684957\n"
     ]
    },
    {
     "name": "stdout",
     "output_type": "stream",
     "text": [
      "added energy components: [('CustomBondForce', 0.05482213967786096), ('CustomAngleForce', 1.8908629783319648), ('CustomTorsionForce', 14.985790318243794), ('CustomBondForce', -0.8262509861844156)]\n"
     ]
    },
    {
     "name": "stderr",
     "output_type": "stream",
     "text": [
      "INFO:relative:*** Generating RepartitionedHybridTopologyFactory ***\n",
      "INFO:relative:Flattening torsions of unique new/old at lambda = 0/1\n",
      "INFO:relative:Flattening exceptions of unique new/old at lambda = 0/1\n",
      "INFO:relative:Old system forces: dict_keys(['HarmonicBondForce', 'HarmonicAngleForce', 'PeriodicTorsionForce', 'NonbondedForce', 'MonteCarloBarostat'])\n",
      "INFO:relative:New system forces: dict_keys(['HarmonicBondForce', 'HarmonicAngleForce', 'PeriodicTorsionForce', 'NonbondedForce', 'MonteCarloBarostat'])\n",
      "INFO:relative:No unknown forces.\n",
      "INFO:relative:Nonbonded method to be used (i.e. from old system): 4\n",
      "INFO:relative:Adding and mapping old atoms to hybrid system...\n",
      "INFO:relative:Adding and mapping new atoms to hybrid system...\n",
      "INFO:relative:Added MonteCarloBarostat.\n",
      "INFO:relative:getDefaultPeriodicBoxVectors added to hybrid: [Quantity(value=Vec3(x=5.423900000000001, y=0.0, z=0.0), unit=nanometer), Quantity(value=Vec3(x=0.0, y=5.423900000000001, z=0.0), unit=nanometer), Quantity(value=Vec3(x=0.0, y=0.0, z=5.423900000000001), unit=nanometer)]\n",
      "INFO:relative:Determined atom classes.\n",
      "INFO:relative:Generating old system exceptions dict...\n",
      "INFO:relative:Generating new system exceptions dict...\n",
      "INFO:relative:Handling constraints...\n",
      "INFO:relative:Handling virtual sites...\n",
      "INFO:relative:\t_handle_virtual_sites: numVirtualSites: 0\n",
      "INFO:relative:\t_add_nonbonded_force_terms: <simtk.openmm.openmm.NonbondedForce; proxy of <Swig Object of type 'OpenMM::NonbondedForce *' at 0x2ba6b3840120> > added to hybrid system\n",
      "INFO:relative:\t_add_nonbonded_force_terms: nonbonded_method is PME or Ewald\n",
      "INFO:relative:\t_add_nonbonded_force_terms: 4 added to standard nonbonded force\n",
      "INFO:relative:\t_add_nonbonded_force_terms: 2 added to sterics_custom_nonbonded force\n"
     ]
    }
   ],
   "source": [
    "solvent_delivery = PointMutationExecutor(\"../../input/mmc2_barstar.pdb\",\n",
    "                        '1',\n",
    "                        '35',\n",
    "                        'ALA',\n",
    "                        ionic_strength=0.05*unit.molar,\n",
    "                        flatten_torsions=True,\n",
    "                        flatten_exceptions=True, \n",
    "                        conduct_endstate_validation=False,\n",
    "                        repartitioned_endstate=1\n",
    "                       )\n",
    "\n"
   ]
  },
  {
   "cell_type": "code",
   "execution_count": 7,
   "id": "everyday-making",
   "metadata": {},
   "outputs": [],
   "source": [
    "out_dir = '/data/chodera/zhangi/perses_benchmark/neq/16/8/'\n",
    "pickle.dump(solvent_delivery.get_apo_htf(), open(os.path.join(out_dir, \"8_apo_1.pickle\"), \"wb\" ))\n"
   ]
  },
  {
   "cell_type": "code",
   "execution_count": 8,
   "id": "departmental-barcelona",
   "metadata": {},
   "outputs": [],
   "source": [
    "htf = solvent_delivery.get_apo_htf()"
   ]
  },
  {
   "cell_type": "code",
   "execution_count": 11,
   "id": "first-eligibility",
   "metadata": {},
   "outputs": [],
   "source": [
    "outdir = \"/data/chodera/zhangi/perses_benchmark/neq/16/8/\"\n",
    "with open(os.path.join(outdir, f\"8_apo_1.pickle\"), \"rb\") as f:\n",
    "    htf = pickle.load(f)\n"
   ]
  },
  {
   "cell_type": "code",
   "execution_count": 15,
   "id": "golden-cosmetic",
   "metadata": {},
   "outputs": [
    {
     "name": "stdout",
     "output_type": "stream",
     "text": [
      "<Atom 14861 (Na) of chain 3 residue 4565 (NA)>\n",
      "<Atom 14862 (Na) of chain 3 residue 4566 (NA)>\n",
      "<Atom 14863 (Na) of chain 3 residue 4567 (NA)>\n",
      "<Atom 14864 (Na) of chain 3 residue 4568 (NA)>\n",
      "<Atom 14865 (Na) of chain 3 residue 4569 (NA)>\n",
      "<Atom 14866 (Na) of chain 3 residue 4570 (NA)>\n",
      "<Atom 14867 (Na) of chain 3 residue 4571 (NA)>\n",
      "<Atom 14868 (Na) of chain 3 residue 4572 (NA)>\n",
      "<Atom 14869 (Na) of chain 3 residue 4573 (NA)>\n",
      "<Atom 14870 (Na) of chain 3 residue 4574 (NA)>\n",
      "<Atom 14871 (Cl) of chain 3 residue 4575 (CL)>\n",
      "<Atom 14872 (Cl) of chain 3 residue 4576 (CL)>\n",
      "<Atom 14873 (Cl) of chain 3 residue 4577 (CL)>\n",
      "<Atom 14874 (Cl) of chain 3 residue 4578 (CL)>\n"
     ]
    }
   ],
   "source": [
    "for atom in htf._topology_proposal.new_topology.atoms():\n",
    "    if atom.index > 14860:\n",
    "        print(atom)"
   ]
  },
  {
   "cell_type": "code",
   "execution_count": 9,
   "id": "finished-diagnosis",
   "metadata": {},
   "outputs": [
    {
     "name": "stdout",
     "output_type": "stream",
     "text": [
      "14861 [Quantity(value=1.0, unit=elementary charge), Quantity(value=0.2439280690268249, unit=nanometer), Quantity(value=0.3658460312, unit=kilojoule/mole)]\n",
      "14862 [Quantity(value=1.0, unit=elementary charge), Quantity(value=0.2439280690268249, unit=nanometer), Quantity(value=0.3658460312, unit=kilojoule/mole)]\n",
      "14863 [Quantity(value=1.0, unit=elementary charge), Quantity(value=0.2439280690268249, unit=nanometer), Quantity(value=0.3658460312, unit=kilojoule/mole)]\n",
      "14864 [Quantity(value=1.0, unit=elementary charge), Quantity(value=0.2439280690268249, unit=nanometer), Quantity(value=0.3658460312, unit=kilojoule/mole)]\n",
      "14865 [Quantity(value=1.0, unit=elementary charge), Quantity(value=0.2439280690268249, unit=nanometer), Quantity(value=0.3658460312, unit=kilojoule/mole)]\n",
      "14866 [Quantity(value=1.0, unit=elementary charge), Quantity(value=0.2439280690268249, unit=nanometer), Quantity(value=0.3658460312, unit=kilojoule/mole)]\n",
      "14867 [Quantity(value=1.0, unit=elementary charge), Quantity(value=0.2439280690268249, unit=nanometer), Quantity(value=0.3658460312, unit=kilojoule/mole)]\n",
      "14868 [Quantity(value=0.0, unit=elementary charge), Quantity(value=0.2439280690268249, unit=nanometer), Quantity(value=0.00036584603119999996, unit=kilojoule/mole)]\n",
      "14869 [Quantity(value=1.0, unit=elementary charge), Quantity(value=0.2439280690268249, unit=nanometer), Quantity(value=0.3658460312, unit=kilojoule/mole)]\n",
      "14870 [Quantity(value=1.0, unit=elementary charge), Quantity(value=0.2439280690268249, unit=nanometer), Quantity(value=0.3658460312, unit=kilojoule/mole)]\n",
      "14871 [Quantity(value=-1.0, unit=elementary charge), Quantity(value=0.4477656957373345, unit=nanometer), Quantity(value=0.14891274399999999, unit=kilojoule/mole)]\n",
      "14872 [Quantity(value=-1.0, unit=elementary charge), Quantity(value=0.4477656957373345, unit=nanometer), Quantity(value=0.14891274399999999, unit=kilojoule/mole)]\n",
      "14873 [Quantity(value=-1.0, unit=elementary charge), Quantity(value=0.4477656957373345, unit=nanometer), Quantity(value=0.14891274399999999, unit=kilojoule/mole)]\n",
      "14874 [Quantity(value=-1.0, unit=elementary charge), Quantity(value=0.4477656957373345, unit=nanometer), Quantity(value=0.14891274399999999, unit=kilojoule/mole)]\n"
     ]
    }
   ],
   "source": [
    "nb_force = htf._topology_proposal.new_system.getForce(3)\n",
    "for i in range(nb_force.getNumParticles()):\n",
    "    if i > 14860:\n",
    "        print(i, nb_force.getParticleParameters(i))"
   ]
  },
  {
   "cell_type": "markdown",
   "id": "studied-warrant",
   "metadata": {},
   "source": [
    "# barstar A35A apo with counterion fix (16/9), lambda = 0\n"
   ]
  },
  {
   "cell_type": "code",
   "execution_count": 10,
   "id": "concerned-large",
   "metadata": {
    "scrolled": true
   },
   "outputs": [
    {
     "name": "stderr",
     "output_type": "stream",
     "text": [
      "DEBUG:openmmforcefields.system_generators:Trying GAFFTemplateGenerator to load gaff-2.11\n",
      "INFO:setup:solvating at 0.05 M using tip3p\n",
      "INFO:proposal_generator:\tConducting polymer point mutation proposal...\n",
      "INFO:proposal_generator:Using matching_criterion to chose best atom map\n",
      "INFO:proposal_generator:Scaffold has symmetry of 0\n",
      "WARNING:proposal_generator:Two molecules are not similar to have a common scaffold\n",
      "WARNING:proposal_generator:Proceeding with direct mapping of molecules, but please check atom mapping and the geometry of the ligands.\n",
      "INFO:proposal_generator:len [{10: 7}, {11: 7}, {10: 8}, {11: 8}, {10: 9}, {11: 9}]\n",
      "INFO:proposal_generator:{10: 7}\n",
      "INFO:proposal_generator:{11: 7}\n",
      "INFO:proposal_generator:{10: 8}\n",
      "INFO:proposal_generator:{11: 8}\n",
      "INFO:proposal_generator:{10: 9}\n",
      "INFO:proposal_generator:{11: 9}\n",
      "INFO:proposal_generator:Returning map that best satisfies matching_criterion\n",
      "INFO:proposal_generator:Finding best map using matching_criterion name\n",
      "INFO:proposal_generator:{10: 7}\n",
      "INFO:geometry:propose: performing forward proposal\n",
      "INFO:geometry:propose: unique new atoms detected; proceeding to _logp_propose...\n",
      "INFO:geometry:Conducting forward proposal...\n",
      "INFO:geometry:Computing proposal order with NetworkX...\n",
      "INFO:geometry:number of atoms to be placed: 6\n",
      "INFO:geometry:Atom index proposal order is [567, 572, 573, 574, 571, 570]\n",
      "INFO:geometry:omitted_bonds: []\n",
      "INFO:geometry:direction of proposal is forward; creating atoms_with_positions and new positions from old system/topology...\n",
      "INFO:geometry:creating growth system...\n",
      "INFO:geometry:\tcreating bond force...\n",
      "INFO:geometry:\tthere are 735 bonds in reference force.\n",
      "INFO:geometry:\tcreating angle force...\n",
      "INFO:geometry:\tthere are 2635 angles in reference force.\n",
      "INFO:geometry:\tcreating torsion force...\n",
      "INFO:geometry:\tcreating extra torsions force...\n",
      "INFO:geometry:\tthere are 4969 torsions in reference force.\n",
      "INFO:geometry:\tcreating nonbonded force...\n",
      "INFO:geometry:\t\tgrabbing reference nonbonded method, cutoff, switching function, switching distance...\n",
      "INFO:geometry:\t\tcreating nonbonded exception force (i.e. custom bond for 1,4s)...\n",
      "INFO:geometry:\t\tlooping through exceptions calculating growth indices, and adding appropriate interactions to custom bond force.\n",
      "INFO:geometry:\t\tthere are 21316 in the reference Nonbonded force\n",
      "WARNING:geometry:\t\t\t\t\tchiral atom <Atom 564 (CA) of chain 0 residue 35 (ASP)> with neighbors [<Atom 565 (C) of chain 0 residue 35 (ASP)>, <Atom 567 (CB) of chain 0 residue 35 (ASP)>, <Atom 569 (HA) of chain 0 residue 35 (ASP)>, <Atom 563 (N) of chain 0 residue 35 (ASP)>] is surrounded by 3 core neighbors.  omitting chirality bias torsion\n",
      "INFO:geometry:Neglected angle terms : []\n",
      "INFO:geometry:omitted_growth_terms: {'bonds': [], 'angles': [], 'torsions': [], '1,4s': []}\n",
      "INFO:geometry:extra torsions: {0: (568, 563, 564, 567, [1, Quantity(value=0.9842372741587524, unit=radian), Quantity(value=1200.0, unit=kilocalorie/mole), 1])}\n",
      "INFO:geometry:neglected angle terms include []\n",
      "INFO:geometry:log probability choice of torsions and atom order: -6.396929655216146\n",
      "INFO:geometry:creating platform, integrators, and contexts; setting growth parameter\n"
     ]
    },
    {
     "name": "stdout",
     "output_type": "stream",
     "text": [
      "conducting subsequent work with the following platform: CUDA\n"
     ]
    },
    {
     "name": "stderr",
     "output_type": "stream",
     "text": [
      "INFO:geometry:setting atoms_with_positions context new positions\n"
     ]
    },
    {
     "name": "stdout",
     "output_type": "stream",
     "text": [
      "conducting subsequent work with the following platform: CUDA\n"
     ]
    },
    {
     "name": "stderr",
     "output_type": "stream",
     "text": [
      "INFO:geometry:There are 6 new atoms\n",
      "INFO:geometry:\treduced angle potential = 1.2512939270558123.\n",
      "INFO:geometry:\treduced angle potential = 1.3083414046394632.\n",
      "INFO:geometry:\treduced angle potential = 0.012646813195710125.\n",
      "INFO:geometry:\treduced angle potential = 0.11857787804675989.\n",
      "INFO:geometry:\treduced angle potential = 0.7447910704288322.\n",
      "INFO:geometry:\treduced angle potential = 0.3620395745195337.\n",
      "INFO:geometry:\tbeginning construction of no_nonbonded final system...\n",
      "INFO:geometry:\tinitial no-nonbonded final system forces ['HarmonicBondForce', 'HarmonicAngleForce', 'PeriodicTorsionForce', 'NonbondedForce', 'MonteCarloBarostat']\n",
      "INFO:geometry:\tfinal no-nonbonded final system forces dict_keys(['HarmonicBondForce', 'HarmonicAngleForce', 'PeriodicTorsionForce', 'NonbondedForce'])\n",
      "INFO:geometry:\tthere are 735 bond forces in the no-nonbonded final system\n",
      "INFO:geometry:\tthere are 2635 angle forces in the no-nonbonded final system\n",
      "INFO:geometry:\tthere are 4969 torsion forces in the no-nonbonded final system\n",
      "INFO:geometry:forward final system defined with 0 neglected angles.\n"
     ]
    },
    {
     "name": "stdout",
     "output_type": "stream",
     "text": [
      "conducting subsequent work with the following platform: CUDA\n",
      "conducting subsequent work with the following platform: CUDA\n"
     ]
    },
    {
     "name": "stderr",
     "output_type": "stream",
     "text": [
      "INFO:geometry:total reduced potential before atom placement: 2281.8387714995706\n"
     ]
    },
    {
     "name": "stdout",
     "output_type": "stream",
     "text": [
      "conducting subsequent work with the following platform: CUDA\n",
      "conducting subsequent work with the following platform: CUDA\n",
      "conducting subsequent work with the following platform: CUDA\n"
     ]
    },
    {
     "name": "stderr",
     "output_type": "stream",
     "text": [
      "INFO:geometry:total reduced energy added from growth system: 344.0062748219337\n",
      "INFO:geometry:final reduced energy 2625.845042454201\n",
      "INFO:geometry:sum of energies: 2625.8450463215045\n",
      "INFO:geometry:magnitude of difference in the energies: 3.867303178139991e-06\n",
      "INFO:geometry:Final logp_proposal: 48.805647054867826\n",
      "INFO:setup:charge diff: -1\n"
     ]
    },
    {
     "name": "stdout",
     "output_type": "stream",
     "text": [
      "added energy components: [('CustomBondForce', 0.747293473695996), ('CustomAngleForce', 292.6687639864359), ('CustomTorsionForce', 14.44828819991516), ('CustomBondForce', 36.14192916188656)]\n"
     ]
    },
    {
     "name": "stderr",
     "output_type": "stream",
     "text": [
      "INFO:setup:new ion indices to neutralize [14876]\n",
      "INFO:setup:idx: 14876 of type <class 'numpy.int64'>\n",
      "INFO:geometry:logp_reverse: performing reverse proposal\n",
      "INFO:geometry:logp_reverse: unique new atoms detected; proceeding to _logp_propose...\n",
      "INFO:geometry:Conducting forward proposal...\n",
      "INFO:geometry:Computing proposal order with NetworkX...\n",
      "INFO:geometry:number of atoms to be placed: 4\n",
      "INFO:geometry:Atom index proposal order is [567, 570, 571, 572]\n",
      "INFO:geometry:omitted_bonds: []\n",
      "INFO:geometry:direction of proposal is reverse; creating atoms_with_positions from old system/topology\n",
      "INFO:geometry:creating growth system...\n",
      "INFO:geometry:\tcreating bond force...\n",
      "INFO:geometry:\tthere are 732 bonds in reference force.\n",
      "INFO:geometry:\tcreating angle force...\n",
      "INFO:geometry:\tthere are 2632 angles in reference force.\n",
      "INFO:geometry:\tcreating torsion force...\n",
      "INFO:geometry:\tcreating extra torsions force...\n",
      "INFO:geometry:\tthere are 4958 torsions in reference force.\n",
      "INFO:geometry:\tcreating nonbonded force...\n",
      "INFO:geometry:\t\tgrabbing reference nonbonded method, cutoff, switching function, switching distance...\n",
      "INFO:geometry:\t\tcreating nonbonded exception force (i.e. custom bond for 1,4s)...\n",
      "INFO:geometry:\t\tlooping through exceptions calculating growth indices, and adding appropriate interactions to custom bond force.\n",
      "INFO:geometry:\t\tthere are 21305 in the reference Nonbonded force\n",
      "WARNING:geometry:\t\t\t\t\tchiral atom <Atom 564 (CA) of chain 0 residue 35 (ALA)> with neighbors [<Atom 565 (C) of chain 0 residue 35 (ALA)>, <Atom 567 (CB) of chain 0 residue 35 (ALA)>, <Atom 569 (HA) of chain 0 residue 35 (ALA)>, <Atom 563 (N) of chain 0 residue 35 (ALA)>] is surrounded by 3 core neighbors.  omitting chirality bias torsion\n",
      "INFO:geometry:Neglected angle terms : []\n",
      "INFO:geometry:omitted_growth_terms: {'bonds': [], 'angles': [], 'torsions': [], '1,4s': []}\n",
      "INFO:geometry:extra torsions: {0: (568, 563, 564, 567, [1, Quantity(value=0.9799661941737812, unit=radian), Quantity(value=1200.0, unit=kilocalorie/mole), 1]), 1: (563, 564, 567, 572, [1, Quantity(value=2.105358864604291, unit=radian), Quantity(value=1200.0, unit=kilocalorie/mole), 4]), 2: (563, 564, 567, 570, [1, Quantity(value=-2.0823006129211796, unit=radian), Quantity(value=1200.0, unit=kilocalorie/mole), 2]), 3: (563, 564, 567, 571, [1, Quantity(value=0.018582237407944735, unit=radian), Quantity(value=1200.0, unit=kilocalorie/mole), 3]), 4: (565, 564, 567, 572, [1, Quantity(value=-0.036945135932107576, unit=radian), Quantity(value=1200.0, unit=kilocalorie/mole), 4]), 5: (565, 564, 567, 570, [1, Quantity(value=2.0585806937220097, unit=radian), Quantity(value=1200.0, unit=kilocalorie/mole), 2]), 6: (565, 564, 567, 571, [1, Quantity(value=-2.1237217631284597, unit=radian), Quantity(value=1200.0, unit=kilocalorie/mole), 3]), 7: (569, 564, 567, 572, [1, Quantity(value=-2.119603470065817, unit=radian), Quantity(value=1200.0, unit=kilocalorie/mole), 4]), 8: (569, 564, 567, 570, [1, Quantity(value=-0.024077640411697132, unit=radian), Quantity(value=1200.0, unit=kilocalorie/mole), 2]), 9: (569, 564, 567, 571, [1, Quantity(value=2.0768052099174152, unit=radian), Quantity(value=1200.0, unit=kilocalorie/mole), 3])}\n",
      "INFO:geometry:neglected angle terms include []\n",
      "INFO:geometry:log probability choice of torsions and atom order: -5.78074351579233\n",
      "INFO:geometry:creating platform, integrators, and contexts; setting growth parameter\n"
     ]
    },
    {
     "name": "stdout",
     "output_type": "stream",
     "text": [
      "conducting subsequent work with the following platform: CUDA\n"
     ]
    },
    {
     "name": "stderr",
     "output_type": "stream",
     "text": [
      "INFO:geometry:setting atoms_with_positions context old positions\n"
     ]
    },
    {
     "name": "stdout",
     "output_type": "stream",
     "text": [
      "conducting subsequent work with the following platform: CUDA\n"
     ]
    },
    {
     "name": "stderr",
     "output_type": "stream",
     "text": [
      "INFO:geometry:There are 4 new atoms\n",
      "INFO:geometry:\treduced angle potential = 4.53277153202851.\n",
      "INFO:geometry:\treduced angle potential = 0.7518872213963329.\n",
      "INFO:geometry:\treduced angle potential = 0.004842327827036665.\n",
      "INFO:geometry:\treduced angle potential = 0.35303619779314677.\n",
      "INFO:geometry:\tbeginning construction of no_nonbonded final system...\n",
      "INFO:geometry:\tinitial no-nonbonded final system forces ['HarmonicBondForce', 'HarmonicAngleForce', 'PeriodicTorsionForce', 'NonbondedForce', 'MonteCarloBarostat']\n",
      "INFO:geometry:\tfinal no-nonbonded final system forces dict_keys(['HarmonicBondForce', 'HarmonicAngleForce', 'PeriodicTorsionForce', 'NonbondedForce'])\n",
      "INFO:geometry:\tthere are 732 bond forces in the no-nonbonded final system\n",
      "INFO:geometry:\tthere are 2632 angle forces in the no-nonbonded final system\n",
      "INFO:geometry:\tthere are 4958 torsion forces in the no-nonbonded final system\n",
      "INFO:geometry:reverse final system defined with 0 neglected angles.\n"
     ]
    },
    {
     "name": "stdout",
     "output_type": "stream",
     "text": [
      "conducting subsequent work with the following platform: CUDA\n",
      "conducting subsequent work with the following platform: CUDA\n"
     ]
    },
    {
     "name": "stderr",
     "output_type": "stream",
     "text": [
      "INFO:geometry:total reduced potential before atom placement: 2281.8388321668594\n"
     ]
    },
    {
     "name": "stdout",
     "output_type": "stream",
     "text": [
      "conducting subsequent work with the following platform: CUDA\n",
      "conducting subsequent work with the following platform: CUDA\n",
      "conducting subsequent work with the following platform: CUDA\n"
     ]
    },
    {
     "name": "stderr",
     "output_type": "stream",
     "text": [
      "INFO:geometry:total reduced energy added from growth system: 696.4531136824783\n",
      "INFO:geometry:final reduced energy 2978.291945305024\n",
      "INFO:geometry:sum of energies: 2978.291945849338\n",
      "INFO:geometry:magnitude of difference in the energies: 5.443137069960358e-07\n",
      "INFO:geometry:Final logp_proposal: 25.676426272369838\n"
     ]
    },
    {
     "name": "stdout",
     "output_type": "stream",
     "text": [
      "added energy components: [('CustomBondForce', 0.04886583259217179), ('CustomAngleForce', 204.38222275966297), ('CustomTorsionForce', 8.872086961851052), ('CustomBondForce', 483.149938128372)]\n"
     ]
    },
    {
     "name": "stderr",
     "output_type": "stream",
     "text": [
      "INFO:relative:*** Generating RepartitionedHybridTopologyFactory ***\n",
      "INFO:relative:Flattening torsions of unique new/old at lambda = 0/1\n",
      "INFO:relative:Flattening exceptions of unique new/old at lambda = 0/1\n",
      "INFO:relative:Old system forces: dict_keys(['HarmonicBondForce', 'HarmonicAngleForce', 'PeriodicTorsionForce', 'NonbondedForce', 'MonteCarloBarostat'])\n",
      "INFO:relative:New system forces: dict_keys(['HarmonicBondForce', 'HarmonicAngleForce', 'PeriodicTorsionForce', 'NonbondedForce', 'MonteCarloBarostat'])\n",
      "INFO:relative:No unknown forces.\n",
      "INFO:relative:Nonbonded method to be used (i.e. from old system): 4\n",
      "INFO:relative:Adding and mapping old atoms to hybrid system...\n",
      "INFO:relative:Adding and mapping new atoms to hybrid system...\n",
      "INFO:relative:Added MonteCarloBarostat.\n",
      "INFO:relative:getDefaultPeriodicBoxVectors added to hybrid: [Quantity(value=Vec3(x=5.423900000000001, y=0.0, z=0.0), unit=nanometer), Quantity(value=Vec3(x=0.0, y=5.423900000000001, z=0.0), unit=nanometer), Quantity(value=Vec3(x=0.0, y=0.0, z=5.423900000000001), unit=nanometer)]\n",
      "INFO:relative:Determined atom classes.\n",
      "INFO:relative:Generating old system exceptions dict...\n",
      "INFO:relative:Generating new system exceptions dict...\n",
      "INFO:relative:Handling constraints...\n",
      "INFO:relative:Handling virtual sites...\n",
      "INFO:relative:\t_handle_virtual_sites: numVirtualSites: 0\n",
      "INFO:relative:\t_add_nonbonded_force_terms: <simtk.openmm.openmm.NonbondedForce; proxy of <Swig Object of type 'OpenMM::NonbondedForce *' at 0x2ba6ae5aded0> > added to hybrid system\n",
      "INFO:relative:\t_add_nonbonded_force_terms: nonbonded_method is PME or Ewald\n",
      "INFO:relative:\t_add_nonbonded_force_terms: 4 added to standard nonbonded force\n",
      "INFO:relative:\t_add_nonbonded_force_terms: 2 added to sterics_custom_nonbonded force\n"
     ]
    }
   ],
   "source": [
    "solvent_delivery = PointMutationExecutor(\"../../input/mmc2_barstar_D35A.pdb\",\n",
    "                        '1',\n",
    "                        '35',\n",
    "                        'ASP',\n",
    "                        ionic_strength=0.05*unit.molar,\n",
    "                        flatten_torsions=True,\n",
    "                        flatten_exceptions=True, \n",
    "                        conduct_endstate_validation=False,\n",
    "                        repartitioned_endstate=0\n",
    "                       )\n",
    "\n"
   ]
  },
  {
   "cell_type": "code",
   "execution_count": 11,
   "id": "surface-blanket",
   "metadata": {},
   "outputs": [],
   "source": [
    "out_dir = '/data/chodera/zhangi/perses_benchmark/neq/16/9/'\n",
    "pickle.dump(solvent_delivery.get_apo_htf(), open(os.path.join(out_dir, \"9_apo_0.pickle\"), \"wb\" ))\n"
   ]
  },
  {
   "cell_type": "markdown",
   "id": "former-measure",
   "metadata": {},
   "source": [
    "# barstar A35A apo with counterion fix (16/9), lambda = 1\n"
   ]
  },
  {
   "cell_type": "code",
   "execution_count": 12,
   "id": "nervous-flavor",
   "metadata": {
    "scrolled": true
   },
   "outputs": [
    {
     "name": "stderr",
     "output_type": "stream",
     "text": [
      "DEBUG:openmmforcefields.system_generators:Trying GAFFTemplateGenerator to load gaff-2.11\n",
      "INFO:setup:solvating at 0.05 M using tip3p\n",
      "INFO:proposal_generator:\tConducting polymer point mutation proposal...\n",
      "INFO:proposal_generator:Using matching_criterion to chose best atom map\n",
      "INFO:proposal_generator:Scaffold has symmetry of 0\n",
      "WARNING:proposal_generator:Two molecules are not similar to have a common scaffold\n",
      "WARNING:proposal_generator:Proceeding with direct mapping of molecules, but please check atom mapping and the geometry of the ligands.\n",
      "INFO:proposal_generator:len [{10: 7}, {11: 7}, {10: 8}, {11: 8}, {10: 9}, {11: 9}]\n",
      "INFO:proposal_generator:{10: 7}\n",
      "INFO:proposal_generator:{11: 7}\n",
      "INFO:proposal_generator:{10: 8}\n",
      "INFO:proposal_generator:{11: 8}\n",
      "INFO:proposal_generator:{10: 9}\n",
      "INFO:proposal_generator:{11: 9}\n",
      "INFO:proposal_generator:Returning map that best satisfies matching_criterion\n",
      "INFO:proposal_generator:Finding best map using matching_criterion name\n",
      "INFO:proposal_generator:{10: 7}\n",
      "INFO:geometry:propose: performing forward proposal\n",
      "INFO:geometry:propose: unique new atoms detected; proceeding to _logp_propose...\n",
      "INFO:geometry:Conducting forward proposal...\n",
      "INFO:geometry:Computing proposal order with NetworkX...\n",
      "INFO:geometry:number of atoms to be placed: 6\n",
      "INFO:geometry:Atom index proposal order is [567, 572, 573, 574, 571, 570]\n",
      "INFO:geometry:omitted_bonds: []\n",
      "INFO:geometry:direction of proposal is forward; creating atoms_with_positions and new positions from old system/topology...\n",
      "INFO:geometry:creating growth system...\n",
      "INFO:geometry:\tcreating bond force...\n",
      "INFO:geometry:\tthere are 735 bonds in reference force.\n",
      "INFO:geometry:\tcreating angle force...\n",
      "INFO:geometry:\tthere are 2635 angles in reference force.\n",
      "INFO:geometry:\tcreating torsion force...\n",
      "INFO:geometry:\tcreating extra torsions force...\n",
      "INFO:geometry:\tthere are 4969 torsions in reference force.\n",
      "INFO:geometry:\tcreating nonbonded force...\n",
      "INFO:geometry:\t\tgrabbing reference nonbonded method, cutoff, switching function, switching distance...\n",
      "INFO:geometry:\t\tcreating nonbonded exception force (i.e. custom bond for 1,4s)...\n",
      "INFO:geometry:\t\tlooping through exceptions calculating growth indices, and adding appropriate interactions to custom bond force.\n",
      "INFO:geometry:\t\tthere are 21316 in the reference Nonbonded force\n",
      "WARNING:geometry:\t\t\t\t\tchiral atom <Atom 564 (CA) of chain 0 residue 35 (ASP)> with neighbors [<Atom 565 (C) of chain 0 residue 35 (ASP)>, <Atom 567 (CB) of chain 0 residue 35 (ASP)>, <Atom 569 (HA) of chain 0 residue 35 (ASP)>, <Atom 563 (N) of chain 0 residue 35 (ASP)>] is surrounded by 3 core neighbors.  omitting chirality bias torsion\n",
      "INFO:geometry:Neglected angle terms : []\n",
      "INFO:geometry:omitted_growth_terms: {'bonds': [], 'angles': [], 'torsions': [], '1,4s': []}\n",
      "INFO:geometry:extra torsions: {0: (568, 563, 564, 567, [1, Quantity(value=0.9842372741587524, unit=radian), Quantity(value=1200.0, unit=kilocalorie/mole), 1])}\n",
      "INFO:geometry:neglected angle terms include []\n",
      "INFO:geometry:log probability choice of torsions and atom order: -6.396929655216146\n",
      "INFO:geometry:creating platform, integrators, and contexts; setting growth parameter\n"
     ]
    },
    {
     "name": "stdout",
     "output_type": "stream",
     "text": [
      "conducting subsequent work with the following platform: CUDA\n"
     ]
    },
    {
     "name": "stderr",
     "output_type": "stream",
     "text": [
      "INFO:geometry:setting atoms_with_positions context new positions\n"
     ]
    },
    {
     "name": "stdout",
     "output_type": "stream",
     "text": [
      "conducting subsequent work with the following platform: CUDA\n"
     ]
    },
    {
     "name": "stderr",
     "output_type": "stream",
     "text": [
      "INFO:geometry:There are 6 new atoms\n",
      "INFO:geometry:\treduced angle potential = 0.4305490493959438.\n",
      "INFO:geometry:\treduced angle potential = 1.682484687141422.\n",
      "INFO:geometry:\treduced angle potential = 0.04721192777943294.\n",
      "INFO:geometry:\treduced angle potential = 0.8654419824857543.\n",
      "INFO:geometry:\treduced angle potential = 0.4428661553577147.\n",
      "INFO:geometry:\treduced angle potential = 0.009384901351720784.\n",
      "INFO:geometry:\tbeginning construction of no_nonbonded final system...\n",
      "INFO:geometry:\tinitial no-nonbonded final system forces ['HarmonicBondForce', 'HarmonicAngleForce', 'PeriodicTorsionForce', 'NonbondedForce', 'MonteCarloBarostat']\n",
      "INFO:geometry:\tfinal no-nonbonded final system forces dict_keys(['HarmonicBondForce', 'HarmonicAngleForce', 'PeriodicTorsionForce', 'NonbondedForce'])\n",
      "INFO:geometry:\tthere are 735 bond forces in the no-nonbonded final system\n",
      "INFO:geometry:\tthere are 2635 angle forces in the no-nonbonded final system\n",
      "INFO:geometry:\tthere are 4969 torsion forces in the no-nonbonded final system\n",
      "INFO:geometry:forward final system defined with 0 neglected angles.\n"
     ]
    },
    {
     "name": "stdout",
     "output_type": "stream",
     "text": [
      "conducting subsequent work with the following platform: CUDA\n",
      "conducting subsequent work with the following platform: CUDA\n"
     ]
    },
    {
     "name": "stderr",
     "output_type": "stream",
     "text": [
      "INFO:geometry:total reduced potential before atom placement: 2281.8387714995706\n"
     ]
    },
    {
     "name": "stdout",
     "output_type": "stream",
     "text": [
      "conducting subsequent work with the following platform: CUDA\n",
      "conducting subsequent work with the following platform: CUDA\n",
      "conducting subsequent work with the following platform: CUDA\n"
     ]
    },
    {
     "name": "stderr",
     "output_type": "stream",
     "text": [
      "INFO:geometry:total reduced energy added from growth system: 452.2221940982609\n",
      "INFO:geometry:final reduced energy 2734.060961915872\n",
      "INFO:geometry:sum of energies: 2734.0609655978315\n",
      "INFO:geometry:magnitude of difference in the energies: 3.6819592992287653e-06\n",
      "INFO:geometry:Final logp_proposal: 48.55640794132231\n"
     ]
    },
    {
     "name": "stdout",
     "output_type": "stream",
     "text": [
      "added energy components: [('CustomBondForce', 2.8769325596346516), ('CustomAngleForce', 333.84686312844), ('CustomTorsionForce', 17.287041222208035), ('CustomBondForce', 98.21135718797827)]\n"
     ]
    },
    {
     "name": "stderr",
     "output_type": "stream",
     "text": [
      "INFO:setup:charge diff: -1\n",
      "INFO:setup:new ion indices to neutralize [14878]\n",
      "INFO:setup:idx: 14878 of type <class 'numpy.int64'>\n",
      "INFO:geometry:logp_reverse: performing reverse proposal\n",
      "INFO:geometry:logp_reverse: unique new atoms detected; proceeding to _logp_propose...\n",
      "INFO:geometry:Conducting forward proposal...\n",
      "INFO:geometry:Computing proposal order with NetworkX...\n",
      "INFO:geometry:number of atoms to be placed: 4\n",
      "INFO:geometry:Atom index proposal order is [567, 571, 570, 572]\n",
      "INFO:geometry:omitted_bonds: []\n",
      "INFO:geometry:direction of proposal is reverse; creating atoms_with_positions from old system/topology\n",
      "INFO:geometry:creating growth system...\n",
      "INFO:geometry:\tcreating bond force...\n",
      "INFO:geometry:\tthere are 732 bonds in reference force.\n",
      "INFO:geometry:\tcreating angle force...\n",
      "INFO:geometry:\tthere are 2632 angles in reference force.\n",
      "INFO:geometry:\tcreating torsion force...\n",
      "INFO:geometry:\tcreating extra torsions force...\n",
      "INFO:geometry:\tthere are 4958 torsions in reference force.\n",
      "INFO:geometry:\tcreating nonbonded force...\n",
      "INFO:geometry:\t\tgrabbing reference nonbonded method, cutoff, switching function, switching distance...\n",
      "INFO:geometry:\t\tcreating nonbonded exception force (i.e. custom bond for 1,4s)...\n",
      "INFO:geometry:\t\tlooping through exceptions calculating growth indices, and adding appropriate interactions to custom bond force.\n",
      "INFO:geometry:\t\tthere are 21305 in the reference Nonbonded force\n",
      "WARNING:geometry:\t\t\t\t\tchiral atom <Atom 564 (CA) of chain 0 residue 35 (ALA)> with neighbors [<Atom 565 (C) of chain 0 residue 35 (ALA)>, <Atom 567 (CB) of chain 0 residue 35 (ALA)>, <Atom 569 (HA) of chain 0 residue 35 (ALA)>, <Atom 563 (N) of chain 0 residue 35 (ALA)>] is surrounded by 3 core neighbors.  omitting chirality bias torsion\n",
      "INFO:geometry:Neglected angle terms : []\n",
      "INFO:geometry:omitted_growth_terms: {'bonds': [], 'angles': [], 'torsions': [], '1,4s': []}\n",
      "INFO:geometry:extra torsions: {0: (568, 563, 564, 567, [1, Quantity(value=0.9799661941737812, unit=radian), Quantity(value=1200.0, unit=kilocalorie/mole), 1]), 1: (563, 564, 567, 572, [1, Quantity(value=2.105358864604291, unit=radian), Quantity(value=1200.0, unit=kilocalorie/mole), 4]), 2: (563, 564, 567, 570, [1, Quantity(value=-2.0823006129211796, unit=radian), Quantity(value=1200.0, unit=kilocalorie/mole), 3]), 3: (563, 564, 567, 571, [1, Quantity(value=0.018582237407944735, unit=radian), Quantity(value=1200.0, unit=kilocalorie/mole), 2]), 4: (565, 564, 567, 572, [1, Quantity(value=-0.036945135932107576, unit=radian), Quantity(value=1200.0, unit=kilocalorie/mole), 4]), 5: (565, 564, 567, 570, [1, Quantity(value=2.0585806937220097, unit=radian), Quantity(value=1200.0, unit=kilocalorie/mole), 3]), 6: (565, 564, 567, 571, [1, Quantity(value=-2.1237217631284597, unit=radian), Quantity(value=1200.0, unit=kilocalorie/mole), 2]), 7: (569, 564, 567, 572, [1, Quantity(value=-2.119603470065817, unit=radian), Quantity(value=1200.0, unit=kilocalorie/mole), 4]), 8: (569, 564, 567, 570, [1, Quantity(value=-0.024077640411697132, unit=radian), Quantity(value=1200.0, unit=kilocalorie/mole), 3]), 9: (569, 564, 567, 571, [1, Quantity(value=2.0768052099174152, unit=radian), Quantity(value=1200.0, unit=kilocalorie/mole), 2])}\n",
      "INFO:geometry:neglected angle terms include []\n",
      "INFO:geometry:log probability choice of torsions and atom order: -5.78074351579233\n",
      "INFO:geometry:creating platform, integrators, and contexts; setting growth parameter\n"
     ]
    },
    {
     "name": "stdout",
     "output_type": "stream",
     "text": [
      "conducting subsequent work with the following platform: CUDA\n"
     ]
    },
    {
     "name": "stderr",
     "output_type": "stream",
     "text": [
      "INFO:geometry:setting atoms_with_positions context old positions\n"
     ]
    },
    {
     "name": "stdout",
     "output_type": "stream",
     "text": [
      "conducting subsequent work with the following platform: CUDA\n"
     ]
    },
    {
     "name": "stderr",
     "output_type": "stream",
     "text": [
      "INFO:geometry:There are 4 new atoms\n",
      "INFO:geometry:\treduced angle potential = 0.047670136589235836.\n",
      "INFO:geometry:\treduced angle potential = 0.004842327827036665.\n",
      "INFO:geometry:\treduced angle potential = 0.7518872213963329.\n",
      "INFO:geometry:\treduced angle potential = 0.35303619779314677.\n",
      "INFO:geometry:\tbeginning construction of no_nonbonded final system...\n",
      "INFO:geometry:\tinitial no-nonbonded final system forces ['HarmonicBondForce', 'HarmonicAngleForce', 'PeriodicTorsionForce', 'NonbondedForce', 'MonteCarloBarostat']\n",
      "INFO:geometry:\tfinal no-nonbonded final system forces dict_keys(['HarmonicBondForce', 'HarmonicAngleForce', 'PeriodicTorsionForce', 'NonbondedForce'])\n",
      "INFO:geometry:\tthere are 732 bond forces in the no-nonbonded final system\n",
      "INFO:geometry:\tthere are 2632 angle forces in the no-nonbonded final system\n",
      "INFO:geometry:\tthere are 4958 torsion forces in the no-nonbonded final system\n",
      "INFO:geometry:reverse final system defined with 0 neglected angles.\n"
     ]
    },
    {
     "name": "stdout",
     "output_type": "stream",
     "text": [
      "conducting subsequent work with the following platform: CUDA\n",
      "conducting subsequent work with the following platform: CUDA\n"
     ]
    },
    {
     "name": "stderr",
     "output_type": "stream",
     "text": [
      "INFO:geometry:total reduced potential before atom placement: 2281.8388321668594\n"
     ]
    },
    {
     "name": "stdout",
     "output_type": "stream",
     "text": [
      "conducting subsequent work with the following platform: CUDA\n",
      "conducting subsequent work with the following platform: CUDA\n",
      "conducting subsequent work with the following platform: CUDA\n"
     ]
    },
    {
     "name": "stderr",
     "output_type": "stream",
     "text": [
      "INFO:geometry:total reduced energy added from growth system: 696.4531136824783\n",
      "INFO:geometry:final reduced energy 2978.291945305024\n",
      "INFO:geometry:sum of energies: 2978.291945849338\n",
      "INFO:geometry:magnitude of difference in the energies: 5.443137069960358e-07\n",
      "INFO:geometry:Final logp_proposal: 28.25571727654682\n"
     ]
    },
    {
     "name": "stdout",
     "output_type": "stream",
     "text": [
      "added energy components: [('CustomBondForce', 0.04886583259217179), ('CustomAngleForce', 204.38222275966297), ('CustomTorsionForce', 8.872086961851052), ('CustomBondForce', 483.149938128372)]\n"
     ]
    },
    {
     "name": "stderr",
     "output_type": "stream",
     "text": [
      "INFO:relative:*** Generating RepartitionedHybridTopologyFactory ***\n",
      "INFO:relative:Flattening torsions of unique new/old at lambda = 0/1\n",
      "INFO:relative:Flattening exceptions of unique new/old at lambda = 0/1\n",
      "INFO:relative:Old system forces: dict_keys(['HarmonicBondForce', 'HarmonicAngleForce', 'PeriodicTorsionForce', 'NonbondedForce', 'MonteCarloBarostat'])\n",
      "INFO:relative:New system forces: dict_keys(['HarmonicBondForce', 'HarmonicAngleForce', 'PeriodicTorsionForce', 'NonbondedForce', 'MonteCarloBarostat'])\n",
      "INFO:relative:No unknown forces.\n",
      "INFO:relative:Nonbonded method to be used (i.e. from old system): 4\n",
      "INFO:relative:Adding and mapping old atoms to hybrid system...\n",
      "INFO:relative:Adding and mapping new atoms to hybrid system...\n",
      "INFO:relative:Added MonteCarloBarostat.\n",
      "INFO:relative:getDefaultPeriodicBoxVectors added to hybrid: [Quantity(value=Vec3(x=5.423900000000001, y=0.0, z=0.0), unit=nanometer), Quantity(value=Vec3(x=0.0, y=5.423900000000001, z=0.0), unit=nanometer), Quantity(value=Vec3(x=0.0, y=0.0, z=5.423900000000001), unit=nanometer)]\n",
      "INFO:relative:Determined atom classes.\n",
      "INFO:relative:Generating old system exceptions dict...\n",
      "INFO:relative:Generating new system exceptions dict...\n",
      "INFO:relative:Handling constraints...\n",
      "INFO:relative:Handling virtual sites...\n",
      "INFO:relative:\t_handle_virtual_sites: numVirtualSites: 0\n",
      "INFO:relative:\t_add_nonbonded_force_terms: <simtk.openmm.openmm.NonbondedForce; proxy of <Swig Object of type 'OpenMM::NonbondedForce *' at 0x2ba6bccf6e70> > added to hybrid system\n",
      "INFO:relative:\t_add_nonbonded_force_terms: nonbonded_method is PME or Ewald\n",
      "INFO:relative:\t_add_nonbonded_force_terms: 4 added to standard nonbonded force\n",
      "INFO:relative:\t_add_nonbonded_force_terms: 2 added to sterics_custom_nonbonded force\n"
     ]
    }
   ],
   "source": [
    "solvent_delivery = PointMutationExecutor(\"../../input/mmc2_barstar_D35A.pdb\",\n",
    "                        '1',\n",
    "                        '35',\n",
    "                        'ASP',\n",
    "                        ionic_strength=0.05*unit.molar,\n",
    "                        flatten_torsions=True,\n",
    "                        flatten_exceptions=True, \n",
    "                        conduct_endstate_validation=False,\n",
    "                        repartitioned_endstate=1\n",
    "                       )\n",
    "\n"
   ]
  },
  {
   "cell_type": "code",
   "execution_count": 13,
   "id": "forward-partner",
   "metadata": {},
   "outputs": [],
   "source": [
    "out_dir = '/data/chodera/zhangi/perses_benchmark/neq/16/9/'\n",
    "pickle.dump(solvent_delivery.get_apo_htf(), open(os.path.join(out_dir, \"9_apo_1.pickle\"), \"wb\" ))\n"
   ]
  },
  {
   "cell_type": "code",
   "execution_count": null,
   "id": "premier-riverside",
   "metadata": {},
   "outputs": [],
   "source": []
  }
 ],
 "metadata": {
  "kernelspec": {
   "display_name": "Python 3",
   "language": "python",
   "name": "python3"
  },
  "language_info": {
   "codemirror_mode": {
    "name": "ipython",
    "version": 3
   },
   "file_extension": ".py",
   "mimetype": "text/x-python",
   "name": "python",
   "nbconvert_exporter": "python",
   "pygments_lexer": "ipython3",
   "version": "3.8.6"
  }
 },
 "nbformat": 4,
 "nbformat_minor": 5
}
