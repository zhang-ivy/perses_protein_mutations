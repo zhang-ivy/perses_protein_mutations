{
 "cells": [
  {
   "cell_type": "code",
   "execution_count": 1,
   "id": "dental-popularity",
   "metadata": {},
   "outputs": [],
   "source": [
    "import pickle\n",
    "import os"
   ]
  },
  {
   "cell_type": "code",
   "execution_count": 2,
   "id": "secure-customer",
   "metadata": {},
   "outputs": [],
   "source": [
    "with open(\"/data/chodera/zhangi/perses_benchmark/neq/17/0/0_apo.pickle\", \"rb\") as f:\n",
    "    htf = pickle.load(f)"
   ]
  },
  {
   "cell_type": "code",
   "execution_count": 23,
   "id": "appointed-samba",
   "metadata": {},
   "outputs": [],
   "source": [
    "system = htf._topology_proposal.old_system"
   ]
  },
  {
   "cell_type": "code",
   "execution_count": 24,
   "id": "julian-values",
   "metadata": {},
   "outputs": [],
   "source": [
    "topology = htf._topology_proposal.old_topology"
   ]
  },
  {
   "cell_type": "code",
   "execution_count": 27,
   "id": "lovely-colony",
   "metadata": {},
   "outputs": [],
   "source": [
    "def get_ion_and_water_parameters(system, topology, positive_ion_name=\"NA\", negative_ion_name=\"CL\", water_name=\"HOH\"):\n",
    "    '''\n",
    "    Get the charge, sigma, and epsilon for the positive and negative ions. Also get the charge of the water atoms.\n",
    "    \n",
    "    Parameters\n",
    "    ----------\n",
    "    system : simtk.openmm.System\n",
    "        the system from which to retrieve parameters\n",
    "    topology : app.Topology\n",
    "        the topology corresponding to the above system from which to retrieve atom indices\n",
    "    positive_ion_name : str, \"NA\"\n",
    "        the residue name of each positive ion\n",
    "    negative_ion_name : str, \"CL\"\n",
    "        the residue name of each negative ion\n",
    "    water_name : str, \"HOH\"\n",
    "        the residue name of each water\n",
    "    \n",
    "    Returns\n",
    "    -------\n",
    "    pos_charge\n",
    "        charge of positive ion\n",
    "    pos_sigma\n",
    "        sigma of positive ion\n",
    "    pos_epsilon\n",
    "        epsilon of positive ion\n",
    "    neg_charge\n",
    "        charge of negative ion\n",
    "    neg_sigma\n",
    "        sigma of negative ion\n",
    "    neg_epsilon\n",
    "        epsilon of negative ion\n",
    "    O_charge\n",
    "        charge of O atom in water\n",
    "    H_charge\n",
    "        charge of H atom in water\n",
    "    \n",
    "    '''\n",
    "    \n",
    "    # Get the indices\n",
    "    pos_index = None\n",
    "    neg_index = None\n",
    "    O_index = None\n",
    "    H_index = None\n",
    "    for atom in topology.atoms():\n",
    "        if atom.residue.name == positive_ion_name and not pos_index:\n",
    "            pos_index = atom.index\n",
    "        elif atom.residue.name == negative_ion_name and not neg_index:\n",
    "            neg_index = atom.index\n",
    "        elif atom.residue.name == water_name and (not O_index or not H_index):\n",
    "            if atom.name == 'O':\n",
    "                O_index = atom.index\n",
    "            elif atom.name == 'H1':\n",
    "                H_index = atom.index\n",
    "    assert pos_index is not None, f\"Error occurred when trying to turn a water into an ion: No positive ions with residue name {positive_ion_name} found\"\n",
    "    assert neg_index is not None, f\"Error occurred when trying to turn a water into an ion: No negative ions with residue name {negative_ion_name} found\"\n",
    "    assert O_index is not None, f\"Error occurred when trying to turn a water into an ion: No O atoms with residue name {water_name} and atom name O found\"\n",
    "    assert H_index is not None, f\"Error occurred when trying to turn a water into an ion: No water atoms with residue name {water_name} and atom name H1 found\" \n",
    "    \n",
    "    # Get parameters from nonbonded force\n",
    "    force_dict = {i.__class__.__name__: i for i in system.getForces()}\n",
    "    if 'NonbondedForce' in [i for i in force_dict.keys()]:\n",
    "        nbf = force_dict['NonbondedForce']\n",
    "        pos_charge, pos_sigma, pos_epsilon = nbf.getParticleParameters(pos_index)\n",
    "        neg_charge, neg_sigma, neg_epsilon = nbf.getParticleParameters(neg_index)\n",
    "        O_charge, _, _ = nbf.getParticleParameters(O_index)\n",
    "        H_charge, _, _ = nbf.getParticleParameters(H_index)\n",
    "    \n",
    "    return pos_charge, pos_sigma, pos_epsilon, neg_charge, neg_sigma, neg_epsilon, O_charge, H_charge"
   ]
  },
  {
   "cell_type": "code",
   "execution_count": 28,
   "id": "suitable-lounge",
   "metadata": {},
   "outputs": [
    {
     "data": {
      "text/plain": [
       "(Quantity(value=1.0, unit=elementary charge),\n",
       " Quantity(value=0.2439280690268249, unit=nanometer),\n",
       " Quantity(value=0.3658460312, unit=kilojoule/mole),\n",
       " Quantity(value=-1.0, unit=elementary charge),\n",
       " Quantity(value=0.4477656957373345, unit=nanometer),\n",
       " Quantity(value=0.14891274399999999, unit=kilojoule/mole),\n",
       " Quantity(value=-0.834, unit=elementary charge),\n",
       " Quantity(value=0.417, unit=elementary charge))"
      ]
     },
     "execution_count": 28,
     "metadata": {},
     "output_type": "execute_result"
    }
   ],
   "source": [
    "get_ion_and_water_parameters(system, topology)"
   ]
  },
  {
   "cell_type": "code",
   "execution_count": null,
   "id": "coordinate-afternoon",
   "metadata": {},
   "outputs": [],
   "source": []
  }
 ],
 "metadata": {
  "kernelspec": {
   "display_name": "Python 3",
   "language": "python",
   "name": "python3"
  },
  "language_info": {
   "codemirror_mode": {
    "name": "ipython",
    "version": 3
   },
   "file_extension": ".py",
   "mimetype": "text/x-python",
   "name": "python",
   "nbconvert_exporter": "python",
   "pygments_lexer": "ipython3",
   "version": "3.8.6"
  }
 },
 "nbformat": 4,
 "nbformat_minor": 5
}
