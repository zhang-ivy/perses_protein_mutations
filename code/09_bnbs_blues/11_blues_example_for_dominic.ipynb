{
 "cells": [
  {
   "cell_type": "markdown",
   "metadata": {},
   "source": [
    "## Run BLUES simulation with OpenMM modeller as input"
   ]
  },
  {
   "cell_type": "code",
   "execution_count": 2,
   "metadata": {},
   "outputs": [],
   "source": [
    "from blues.moves import SideChainMove\n",
    "from blues.moves import MoveEngine\n",
    "from blues.simulation import *\n",
    "import json\n",
    "from blues.settings import *\n"
   ]
  },
  {
   "cell_type": "code",
   "execution_count": 3,
   "metadata": {},
   "outputs": [
    {
     "name": "stdout",
     "output_type": "stream",
     "text": [
      "/data/chodera/zhangi/perses_benchmark/blues/barnase_barstar/complex/barnase_barstar\n"
     ]
    }
   ],
   "source": [
    "# Parse a YAML configuration, return as Dict\n",
    "cfg = Settings('barnase_barstar_complex_solvent.yaml').asDict()\n"
   ]
  },
  {
   "cell_type": "code",
   "execution_count": 4,
   "metadata": {},
   "outputs": [],
   "source": [
    "# Create OpenMM system generator\n",
    "from openmmforcefields.generators import SystemGenerator\n",
    "import simtk.unit as unit\n",
    "from simtk.openmm import app\n",
    "temperature = 300 * unit.kelvin\n",
    "forcefield_files = ['amber14/protein.ff14SB.xml', 'amber14/tip3p.xml']\n",
    "forcefield_kwargs = {'removeCMMotion': False, 'ewaldErrorTolerance': 0.00025, 'constraints' : app.HBonds, 'hydrogenMass' : 4 * unit.amus}\n",
    "periodic_forcefield_kwargs = {'nonbondedMethod': app.PME}\n",
    "nonperiodic_forcefield_kwargs = None\n",
    "small_molecule_forcefields = 'gaff-2.11'\n",
    "molecules = []\n",
    "system_generator = SystemGenerator(forcefields=forcefield_files,\n",
    "                                        forcefield_kwargs=forcefield_kwargs,\n",
    "                                        periodic_forcefield_kwargs=periodic_forcefield_kwargs,\n",
    "                                        nonperiodic_forcefield_kwargs=nonperiodic_forcefield_kwargs,\n",
    "                                        small_molecule_forcefield=small_molecule_forcefields,\n",
    "                                        molecules=molecules,\n",
    "                                        cache=None)"
   ]
  },
  {
   "cell_type": "code",
   "execution_count": 5,
   "metadata": {},
   "outputs": [],
   "source": [
    "# Create modeller object with solvated protein\n",
    "pdb = app.PDBFile(\"../input/mmc2_complex.pdb\")\n",
    "modeller = app.Modeller(pdb.topology, pdb.positions)\n",
    "modeller.addSolvent(system_generator.forcefield, model='tip3p', padding=0.9 * unit.nanometers, ionicStrength=0.15 * unit.molar)\n"
   ]
  },
  {
   "cell_type": "code",
   "execution_count": 6,
   "metadata": {},
   "outputs": [],
   "source": [
    "# Overwrite the parmed structure object in the cfg dict with modeller object\n",
    "cfg['Structure'] = modeller"
   ]
  },
  {
   "cell_type": "code",
   "execution_count": 7,
   "metadata": {},
   "outputs": [],
   "source": [
    "# Initialize structure variable to be used in later BLUES calls\n",
    "structure = cfg['Structure']"
   ]
  },
  {
   "cell_type": "code",
   "execution_count": 8,
   "metadata": {},
   "outputs": [],
   "source": [
    "## Subclass the BLUES SideChainMove object to avoid using parmed.Structure object \n",
    "## and handle an OpenMM modeller object instead (Changes involve how model positions are set)\n",
    "\n",
    "class SideChainMoveOpenMM(SideChainMove):  \n",
    "    \n",
    "    def move(self, context, verbose=False):\n",
    "        \"\"\"Rotates the target atoms around a selected bond by angle theta and updates\n",
    "        the atom coordinates in the parmed structure as well as the ncmc context object\n",
    "        Parameters\n",
    "        ----------\n",
    "        context: simtk.openmm.Context object\n",
    "            Context containing the positions to be moved.\n",
    "        verbose : bool, default=False\n",
    "            Enable verbosity to print out detailed information of the rotation.\n",
    "        Returns\n",
    "        -------\n",
    "        context: simtk.openmm.Context object\n",
    "            The same input context, but whose positions were changed by this function.\n",
    "        \"\"\"\n",
    "\n",
    "        import copy\n",
    "        import numpy\n",
    "        from simtk import unit\n",
    "    \n",
    "        # Determine the axis, theta, residue, and bond + atoms to be rotated\n",
    "        theta, target_atoms, res, bond = self.chooseBondandTheta()\n",
    "        print('Rotating bond: %s in resnum: %s by %.2f radians' % (bond, res, theta))\n",
    "\n",
    "        # Retrieve the current positions\n",
    "        initial_positions = context.getState(getPositions=True).getPositions(asNumpy=True)\n",
    "        nc_positions = copy.deepcopy(initial_positions)\n",
    "\n",
    "        model = copy.copy(self.structure)\n",
    "        atoms = list(model.topology.atoms())\n",
    "\n",
    "        # Set the modeller model to the same coordinates as the context\n",
    "        for idx, atom in enumerate(self.all_atoms):\n",
    "            if self.verbose:\n",
    "                print('Before:')\n",
    "                print(atom, idx)\n",
    "                print(nc_positions[atom], model.positions[atom])\n",
    "\n",
    "            model.positions[atom] = nc_positions[atom]\n",
    "\n",
    "            if self.verbose:\n",
    "                print('After:')\n",
    "                print(nc_positions[atom], model.positions[atom])\n",
    "\n",
    "        positions = model.positions\n",
    "\n",
    "        # Find the rotation axis using the updated positions\n",
    "        axis1 = target_atoms[0]\n",
    "        axis2 = target_atoms[1]\n",
    "        rot_axis = (positions[axis1] - positions[axis2]) / positions.unit\n",
    "\n",
    "        # Calculate the rotation matrix\n",
    "        rot_matrix = self.rotation_matrix(rot_axis, theta)\n",
    "\n",
    "        # Apply the rotation matrix to the target atoms\n",
    "        for idx, atom in enumerate(target_atoms):\n",
    "\n",
    "            my_position = positions[atom]\n",
    "\n",
    "            if self.verbose:\n",
    "                print('The current position for %i is: %s' % (atom, my_position))\n",
    "\n",
    "            # Find the reduced position (substract out axis)\n",
    "            red_position = (my_position - model.positions[axis2])._value\n",
    "            # Find the new positions by multiplying by rot matrix\n",
    "            new_position = numpy.dot(rot_matrix, red_position) * positions.unit + positions[axis2]\n",
    "\n",
    "            if self.verbose: print(\"The new position should be:\", new_position)\n",
    "\n",
    "            positions[atom] = new_position\n",
    "            # Update the parmed model with the new positions\n",
    "            model.positions[atom][0] = new_position[0] \n",
    "            model.positions[atom][1] = new_position[1] \n",
    "            model.positions[atom][2] = new_position[2]\n",
    "\n",
    "            # Update the copied ncmc context array with the new positions\n",
    "            nc_positions[atom][0] = model.positions[atom][0] \n",
    "            nc_positions[atom][1] = model.positions[atom][1] \n",
    "            nc_positions[atom][2] = model.positions[atom][2]\n",
    "  \n",
    "            if self.verbose:\n",
    "                print('The updated position for this atom is:', model.positions[atom])\n",
    "\n",
    "        # update the actual ncmc context object with the new positions\n",
    "        context.setPositions(nc_positions)\n",
    "\n",
    "        # update the class structure positions\n",
    "        self.structure.positions = model.positions\n",
    "\n",
    "#         if self.write_move:\n",
    "#             filename = 'sc_move_%s_%s_%s.pdb' % (res, axis1, axis2)\n",
    "#             mod_prot = model.save(filename, overwrite=True)\n",
    "        return context"
   ]
  },
  {
   "cell_type": "code",
   "execution_count": 9,
   "metadata": {},
   "outputs": [],
   "source": [
    "# Instantiate a (modified) BLUES SideChain object\n",
    "sidechain = SideChainMoveOpenMM(structure, [42], write_move=True)\n"
   ]
  },
  {
   "cell_type": "markdown",
   "metadata": {},
   "source": [
    "Note: The above cell specifies that we want to rotate the sidechain of residue 42, but there are two chains (i.e. two residues with index 42), so in the next few cells, I modify the appropriate sidechain attributes (rot_atoms, rot_bonds, and qry_atoms) to only contain the atoms/bonds for residue 42 on barstar."
   ]
  },
  {
   "cell_type": "code",
   "execution_count": 10,
   "metadata": {},
   "outputs": [
    {
     "name": "stdout",
     "output_type": "stream",
     "text": [
      "635\n",
      "638\n",
      "638\n",
      "639\n",
      "2397\n",
      "2400\n",
      "2419 (2397C-2400C)\n"
     ]
    }
   ],
   "source": [
    "# Check sidechain.rot_atoms and keep only the one for barstar T42\n",
    "rot_atoms = list(sidechain.rot_atoms[42].keys())\n",
    "for i in range(3):\n",
    "    beg_index = rot_atoms[i].GetBgnIdx()\n",
    "    end_index = rot_atoms[i].GetEndIdx()\n",
    "    print(beg_index)\n",
    "    print(end_index)\n",
    "    if beg_index == 2397:\n",
    "        print(rot_atoms[i])\n",
    "        desired_rot_atoms = {42: {rot_atoms[i]: sidechain.rot_atoms[42][rot_atoms[i]]}}\n",
    "        \n",
    "        "
   ]
  },
  {
   "cell_type": "code",
   "execution_count": 11,
   "metadata": {},
   "outputs": [
    {
     "name": "stdout",
     "output_type": "stream",
     "text": [
      "635\n",
      "638\n",
      "638\n",
      "639\n",
      "2397\n",
      "2400\n",
      "2419 (2397C-2400C)\n"
     ]
    }
   ],
   "source": [
    "# Check sidechain.rot_bonds and keep only the one for barstar T42\n",
    "rot_bonds = list(sidechain.rot_bonds.keys())\n",
    "for i in range(3):\n",
    "    beg_index = rot_bonds[i].GetBgnIdx()\n",
    "    end_index = rot_bonds[i].GetEndIdx()\n",
    "    print(beg_index)\n",
    "    print(end_index)\n",
    "    if beg_index == 2397:\n",
    "        print(rot_bonds[i])\n",
    "        desired_rot_bonds = {rot_bonds[i]: 42}\n",
    "        \n",
    "        "
   ]
  },
  {
   "cell_type": "code",
   "execution_count": 12,
   "metadata": {},
   "outputs": [],
   "source": [
    "# Check sidechain.qry_atoms and keep only the ones for barstar T42\n",
    "desired_qry_atoms = {}\n",
    "for key, val in sidechain.qry_atoms.items():\n",
    "    if val > 2396 and val < 2410:\n",
    "        desired_qry_atoms[key] = val\n",
    "        \n",
    "        "
   ]
  },
  {
   "cell_type": "code",
   "execution_count": 13,
   "metadata": {},
   "outputs": [],
   "source": [
    "# Keep only the desired rot_atoms, rot_bonds, qry_atoms\n",
    "sidechain.rot_bonds = desired_rot_bonds\n",
    "sidechain.rot_atoms = desired_rot_atoms\n",
    "sidechain.qry_atoms = desired_qry_atoms\n",
    "sidechain.atom_indices = sidechain.rot_atoms\n"
   ]
  },
  {
   "cell_type": "markdown",
   "metadata": {},
   "source": [
    "Check that the rot_bonds, qry_atoms, and rot_atoms attributes are correct"
   ]
  },
  {
   "cell_type": "code",
   "execution_count": 14,
   "metadata": {},
   "outputs": [
    {
     "data": {
      "text/plain": [
       "{<openeye.oechem.OEBondBase; proxy of <Swig Object of type 'OEChem::OEBondBase *' at 0x2aec4b868de0> >: 42}"
      ]
     },
     "execution_count": 14,
     "metadata": {},
     "output_type": "execute_result"
    }
   ],
   "source": [
    "sidechain.rot_bonds\n"
   ]
  },
  {
   "cell_type": "code",
   "execution_count": 15,
   "metadata": {},
   "outputs": [
    {
     "data": {
      "text/plain": [
       "{<openeye.oechem.OEAtomBase; proxy of <Swig Object of type 'OEChem::OEAtomBase *' at 0x2aec1c6e94e0> >: 2400,\n",
       " <openeye.oechem.OEAtomBase; proxy of <Swig Object of type 'OEChem::OEAtomBase *' at 0x2aec1c6e92d0> >: 2401,\n",
       " <openeye.oechem.OEAtomBase; proxy of <Swig Object of type 'OEChem::OEAtomBase *' at 0x2aec1c6e9540> >: 2402,\n",
       " <openeye.oechem.OEAtomBase; proxy of <Swig Object of type 'OEChem::OEAtomBase *' at 0x2aec1c6e9240> >: 2403,\n",
       " <openeye.oechem.OEAtomBase; proxy of <Swig Object of type 'OEChem::OEAtomBase *' at 0x2aec1c6e9450> >: 2404,\n",
       " <openeye.oechem.OEAtomBase; proxy of <Swig Object of type 'OEChem::OEAtomBase *' at 0x2aec1c6e9270> >: 2405,\n",
       " <openeye.oechem.OEAtomBase; proxy of <Swig Object of type 'OEChem::OEAtomBase *' at 0x2aec1c6e9060> >: 2406,\n",
       " <openeye.oechem.OEAtomBase; proxy of <Swig Object of type 'OEChem::OEAtomBase *' at 0x2aec1c6e95a0> >: 2407,\n",
       " <openeye.oechem.OEAtomBase; proxy of <Swig Object of type 'OEChem::OEAtomBase *' at 0x2aec4b8684b0> >: 2408,\n",
       " <openeye.oechem.OEAtomBase; proxy of <Swig Object of type 'OEChem::OEAtomBase *' at 0x2aec4b868bd0> >: 2409}"
      ]
     },
     "execution_count": 15,
     "metadata": {},
     "output_type": "execute_result"
    }
   ],
   "source": [
    "sidechain.qry_atoms\n"
   ]
  },
  {
   "cell_type": "code",
   "execution_count": 16,
   "metadata": {},
   "outputs": [
    {
     "data": {
      "text/plain": [
       "{42: {<openeye.oechem.OEBondBase; proxy of <Swig Object of type 'OEChem::OEBondBase *' at 0x2aec4b868de0> >: [2397,\n",
       "   2400,\n",
       "   2402,\n",
       "   2407,\n",
       "   2408,\n",
       "   2409,\n",
       "   2405,\n",
       "   2401,\n",
       "   2406]}}"
      ]
     },
     "execution_count": 16,
     "metadata": {},
     "output_type": "execute_result"
    }
   ],
   "source": [
    "sidechain.rot_atoms\n"
   ]
  },
  {
   "cell_type": "code",
   "execution_count": 17,
   "metadata": {},
   "outputs": [],
   "source": [
    "# Instantiate a BLUES MoveEngine\n",
    "sidechain_mover = MoveEngine(sidechain)\n"
   ]
  },
  {
   "cell_type": "code",
   "execution_count": 18,
   "metadata": {},
   "outputs": [],
   "source": [
    "## Subclass the BLUES SystemFactory object to take in an OpenMM SystemGenerator\n",
    "\n",
    "class SystemFactoryOpenMM(SystemFactory):\n",
    "    def __init__(self, structure, atom_indices, system_generator, config=None):\n",
    "        self.structure = structure\n",
    "        self.atom_indices = atom_indices\n",
    "        self._config = config\n",
    "    \n",
    "        # If parameters for generating the openmm.System is given, make them.\n",
    "        if self._config:\n",
    "            if 'alchemical' in self._config.keys():\n",
    "                self.alch_config = self._config.pop('alchemical')\n",
    "            else:\n",
    "                # Use function defaults if none is provided\n",
    "                self.alch_config = {}\n",
    "            self.md =  SystemFactoryOpenMM.generateSystem(self, self.structure, system_generator, **self._config)\n",
    "            self.alch = SystemFactory.generateAlchSystem(self.md, self.atom_indices, **self.alch_config)\n",
    "              \n",
    "    def generateSystem(self, structure, system_generator, **kwargs):\n",
    "        \"\"\"\n",
    "        Construct an OpenMM System representing the topology described by the\n",
    "        prmtop file. This function is just a wrapper for parmed Structure.createSystem().\n",
    "        Parameters\n",
    "        ----------\n",
    "        structure : app.PDBFile\n",
    "            The app.PDBFile of the molecular system to be simulated\n",
    "        nonbondedMethod : cutoff method\n",
    "            This is the cutoff method. It can be either the NoCutoff,\n",
    "            CutoffNonPeriodic, CutoffPeriodic, PME, or Ewald objects from the\n",
    "            simtk.openmm.app namespace\n",
    "        nonbondedCutoff : float or distance Quantity\n",
    "            The nonbonded cutoff must be either a floating point number\n",
    "            (interpreted as nanometers) or a Quantity with attached units. This\n",
    "            is ignored if nonbondedMethod is NoCutoff.\n",
    "        switchDistance : float or distance Quantity\n",
    "            The distance at which the switching function is turned on for van\n",
    "            der Waals interactions. This is ignored when no cutoff is used, and\n",
    "            no switch is used if switchDistance is 0, negative, or greater than\n",
    "            the cutoff\n",
    "        constraints : None, app.HBonds, app.HAngles, or app.AllBonds\n",
    "            Which type of constraints to add to the system (e.g., SHAKE). None\n",
    "            means no bonds are constrained. HBonds means bonds with hydrogen are\n",
    "            constrained\n",
    "        rigidWater : bool=True\n",
    "            If True, water is kept rigid regardless of the value of constraints.\n",
    "            A value of False is ignored if constraints is not None.\n",
    "        implicitSolvent : None, app.HCT, app.OBC1, app.OBC2, app.GBn, app.GBn2\n",
    "            The Generalized Born implicit solvent model to use.\n",
    "        implicitSolventKappa : float or 1/distance Quantity = None\n",
    "            This is the Debye kappa property related to modeling saltwater\n",
    "            conditions in GB. It should have units of 1/distance (1/nanometers\n",
    "            is assumed if no units present). A value of None means that kappa\n",
    "            will be calculated from implicitSolventSaltConc (below)\n",
    "        implicitSolventSaltConc : float or amount/volume Quantity=0 moles/liter\n",
    "            If implicitSolventKappa is None, the kappa will be computed from the\n",
    "            salt concentration. It should have units compatible with mol/L\n",
    "        temperature : float or temperature Quantity = 298.15 kelvin\n",
    "            This is only used to compute kappa from implicitSolventSaltConc\n",
    "        soluteDielectric : float=1.0\n",
    "            The dielectric constant of the protein interior used in GB\n",
    "        solventDielectric : float=78.5\n",
    "            The dielectric constant of the water used in GB\n",
    "        useSASA : bool=False\n",
    "            If True, use the ACE non-polar solvation model. Otherwise, use no\n",
    "            SASA-based nonpolar solvation model.\n",
    "        removeCMMotion : bool=True\n",
    "            If True, the center-of-mass motion will be removed periodically\n",
    "            during the simulation. If False, it will not.\n",
    "        hydrogenMass : float or mass quantity = None\n",
    "            If not None, hydrogen masses will be changed to this mass and the\n",
    "            difference subtracted from the attached heavy atom (hydrogen mass\n",
    "            repartitioning)\n",
    "        ewaldErrorTolerance : float=0.0005\n",
    "            When using PME or Ewald, the Ewald parameters will be calculated\n",
    "            from this value\n",
    "        flexibleConstraints : bool=True\n",
    "            If False, the energies and forces from the constrained degrees of\n",
    "            freedom will NOT be computed. If True, they will (but those degrees\n",
    "            of freedom will *still* be constrained).\n",
    "        verbose : bool=False\n",
    "            If True, the progress of this subroutine will be printed to stdout\n",
    "        splitDihedrals : bool=False\n",
    "            If True, the dihedrals will be split into two forces -- proper and\n",
    "            impropers. This is primarily useful for debugging torsion parameter\n",
    "            assignments.\n",
    "        Returns\n",
    "        -------\n",
    "        openmm.System\n",
    "            System formatted according to the PDB file\n",
    "        Notes\n",
    "        -----\n",
    "        This function calls prune_empty_terms if any Topology lists have\n",
    "        changed.\n",
    "        \"\"\"\n",
    "        \n",
    "        return system_generator.create_system(structure.topology)"
   ]
  },
  {
   "cell_type": "code",
   "execution_count": 19,
   "metadata": {},
   "outputs": [],
   "source": [
    "# Instantiate (modified) BLUES SystemFactory\n",
    "systems = SystemFactoryOpenMM(structure, sidechain.atom_indices, system_generator, cfg['system'])\n"
   ]
  },
  {
   "cell_type": "code",
   "execution_count": 20,
   "metadata": {},
   "outputs": [],
   "source": [
    "## Subclass BLUES SimulationFactory object to avoid using parmed.Structure object, and instead use an\n",
    "## OpenMM Modeller object. (Changes involves how box vectors are checked/set)\n",
    "\n",
    "class SimulationFactoryOpenMM(SimulationFactory):\n",
    "    \n",
    "    @classmethod\n",
    "    def generateSimFromStruct(cls, structure, system, integrator, platform=None, properties={}, **kwargs):\n",
    "        \"\"\"Generate the OpenMM Simulation objects from a given parmed.Structure()\n",
    "        Parameters\n",
    "        ----------\n",
    "        structure : parmed.Structure\n",
    "            ParmEd Structure object of the entire system to be simulated.\n",
    "        system : openmm.System\n",
    "            The OpenMM System object corresponding to the reference system.\n",
    "        integrator : openmm.Integrator\n",
    "            The OpenMM Integrator object for the simulation.\n",
    "        platform : str, default = None\n",
    "            Valid choices: 'Auto', 'OpenCL', 'CUDA'\n",
    "            If None is specified, the fastest available platform will be used.\n",
    "        Returns\n",
    "        -------\n",
    "        simulation : openmm.Simulation\n",
    "            The generated OpenMM Simulation from the parmed.Structure, openmm.System,\n",
    "            amd the integrator.\n",
    "        \"\"\"\n",
    "        #Specifying platform properties here used for local development.\n",
    "        if platform is None:\n",
    "            #Use the fastest available platform\n",
    "            simulation = app.Simulation(structure.topology, system, integrator)\n",
    "        else:\n",
    "            platform = openmm.Platform.getPlatformByName(platform)\n",
    "            #Make sure key/values are strings\n",
    "            properties = {str(k): str(v) for k, v in properties.items()}\n",
    "            simulation = app.Simulation(structure.topology, system, integrator, platform, properties)\n",
    "\n",
    "        # Set initial positions/velocities\n",
    "        if structure.topology.getPeriodicBoxVectors():\n",
    "            simulation.context.setPeriodicBoxVectors(*structure.topology.getPeriodicBoxVectors())\n",
    "        simulation.context.setPositions(structure.positions)\n",
    "        simulation.context.setVelocitiesToTemperature(integrator.getTemperature())\n",
    "\n",
    "        return simulation"
   ]
  },
  {
   "cell_type": "code",
   "execution_count": 21,
   "metadata": {
    "scrolled": true
   },
   "outputs": [
    {
     "name": "stdout",
     "output_type": "stream",
     "text": [
      "INFO: Adding MonteCarloBarostat with 1.0 atm. MD simulation will be 300.0 K NPT.\n",
      "WARNING: NCMC simulation will NOT have pressure control. NCMC will use pressure from last MD state.\n",
      "INFO: OpenMM(7.4.2.dev-dc9d188) simulation generated for CUDA platform\n",
      "system = Linux \n",
      "node = lt11 \n",
      "release = 3.10.0-957.12.2.el7.x86_64 \n",
      "version = #1 SMP Tue May 14 21:24:32 UTC 2019 \n",
      "machine = x86_64 \n",
      "processor = x86_64 \n",
      "DeviceIndex = 0 \n",
      "DeviceName = GeForce GTX 1080 Ti \n",
      "UseBlockingSync = true \n",
      "Precision = mixed \n",
      "UseCpuPme = false \n",
      "CudaCompiler = /usr/local/cuda/bin/nvcc \n",
      "TempDirectory = /scratch/lsftmp/16232491.tmpdir \n",
      "CudaHostCompiler =  \n",
      "DisablePmeStream = false \n",
      "DeterministicForces = false \n",
      "\n"
     ]
    }
   ],
   "source": [
    "# Instantiate BLUES SimulationFactory\n",
    "simulations = SimulationFactoryOpenMM(systems, sidechain_mover, cfg['simulation'], cfg['md_reporters'],\n",
    "                                cfg['ncmc_reporters'])\n",
    "\n"
   ]
  },
  {
   "cell_type": "code",
   "execution_count": 22,
   "metadata": {},
   "outputs": [
    {
     "name": "stdout",
     "output_type": "stream",
     "text": [
      "Pre-Minimized energy = -3060.1951775699654 kcal/mol\n",
      "Minimized energy = -115107.38151933263 kcal/mol\n"
     ]
    }
   ],
   "source": [
    "# Run energy minimization \n",
    "state = simulations.md.context.getState(getPositions=True, getEnergy=True)\n",
    "print('Pre-Minimized energy = {}'.format(state.getPotentialEnergy().in_units_of(unit.kilocalorie_per_mole)))\n",
    "\n",
    "simulations.md.minimizeEnergy(maxIterations=0)\n",
    "state = simulations.md.context.getState(getPositions=True, getEnergy=True)\n",
    "print('Minimized energy = {}'.format(state.getPotentialEnergy().in_units_of(unit.kilocalorie_per_mole)))\n"
   ]
  },
  {
   "cell_type": "code",
   "execution_count": 23,
   "metadata": {},
   "outputs": [
    {
     "name": "stdout",
     "output_type": "stream",
     "text": [
      "#\"Iter\"\t\"Progress (%)\"\t\"Step\"\t\"Speed (ns/day)\"\t\"Time Remaining\"\n",
      "md: 0\t100.0%\t500\t0\t--\n"
     ]
    }
   ],
   "source": [
    "# Run 500 steps of MD\n",
    "simulations.md.step(500)"
   ]
  },
  {
   "cell_type": "code",
   "execution_count": 24,
   "metadata": {},
   "outputs": [
    {
     "name": "stdout",
     "output_type": "stream",
     "text": [
      "INFO: Total BLUES Simulation Time = 50.0 ps (10.0 ps/Iter)\n",
      "Total Force Evaluations = 12500 \n",
      "Total NCMC time = 40.0 ps (8.0 ps/iter)\n",
      "Total MD time = 10.0 ps (2.0 ps/iter)\n",
      "Trajectory Interval = 10.0 ps/frame (1.0 frames/iter)\n",
      "INFO: Running 5 BLUES iterations...\n",
      "INFO: BLUES Iteration: 0\n",
      "INFO: Advancing 2000 NCMC switching steps...\n",
      "Performing SideChainMoveOpenMM...\n",
      "Rotating bond: 2419 (2397C-2400C) in resnum: 42 by 4.98 radians\n",
      "#\"Iter\"\t\"Progress (%)\"\t\"Step\"\t\"alchemicalLambda\"\t\"protocolWork\"\t\"Speed (ns/day)\"\t\"Time Remaining\"\n",
      "ncmc: 0\t100.0%\t2000\t0.0\t0.0\t0\t--\n",
      "NCMC MOVE ACCEPTED: work_ncmc -0.008618425137932685 > randnum -0.34011606054243115\n",
      "Advancing 500 MD steps...\n",
      "ERROR: [simulation._stepMD] Energy is NaN\n",
      "Traceback (most recent call last):\n",
      "  File \"/lila/home/zhangi/choderalab/blues/blues/simulation.py\", line 1202, in _stepMD\n",
      "    self._md_sim.step(1)\n",
      "  File \"/home/zhangi/miniconda3/envs/perses-sims/lib/python3.7/site-packages/simtk/openmm/app/simulation.py\", line 132, in step\n",
      "    self._simulate(endStep=self.currentStep+steps)\n",
      "  File \"/home/zhangi/miniconda3/envs/perses-sims/lib/python3.7/site-packages/simtk/openmm/app/simulation.py\", line 238, in _simulate\n",
      "    self._generate_reports(unwrapped, False)\n",
      "  File \"/home/zhangi/miniconda3/envs/perses-sims/lib/python3.7/site-packages/simtk/openmm/app/simulation.py\", line 257, in _generate_reports\n",
      "    reporter.report(self, state)\n",
      "  File \"/home/zhangi/miniconda3/envs/perses-sims/lib/python3.7/site-packages/parmed/openmm/reporters.py\", line 738, in report\n",
      "    self._checkForErrors(simulation, state)\n",
      "  File \"/home/zhangi/miniconda3/envs/perses-sims/lib/python3.7/site-packages/parmed/openmm/reporters.py\", line 268, in _checkForErrors\n",
      "    raise ValueError('Energy is NaN') # pragma: no cover\n",
      "ValueError: Energy is NaN\n",
      "ERROR: [simulation._stepMD] potential energy before NCMC: -403876.6631740059 kJ/mol\n",
      "ERROR: [simulation._stepMD] kinetic energy before NCMC: 67638.41900134535 kJ/mol\n",
      "INFO: \tSaving Frame to: MD-fail-it0-md520.pdb\n",
      "ERROR: [ultratb.inspect_error] Internal Python error in the inspect module.\n",
      "Below is the traceback from this internal error.\n",
      "\n",
      "Traceback (most recent call last):\n",
      "  File \"/lila/home/zhangi/choderalab/blues/blues/simulation.py\", line 1202, in _stepMD\n",
      "    self._md_sim.step(1)\n",
      "  File \"/home/zhangi/miniconda3/envs/perses-sims/lib/python3.7/site-packages/simtk/openmm/app/simulation.py\", line 132, in step\n",
      "    self._simulate(endStep=self.currentStep+steps)\n",
      "  File \"/home/zhangi/miniconda3/envs/perses-sims/lib/python3.7/site-packages/simtk/openmm/app/simulation.py\", line 238, in _simulate\n",
      "    self._generate_reports(unwrapped, False)\n",
      "  File \"/home/zhangi/miniconda3/envs/perses-sims/lib/python3.7/site-packages/simtk/openmm/app/simulation.py\", line 257, in _generate_reports\n",
      "    reporter.report(self, state)\n",
      "  File \"/home/zhangi/miniconda3/envs/perses-sims/lib/python3.7/site-packages/parmed/openmm/reporters.py\", line 738, in report\n",
      "    self._checkForErrors(simulation, state)\n",
      "  File \"/home/zhangi/miniconda3/envs/perses-sims/lib/python3.7/site-packages/parmed/openmm/reporters.py\", line 268, in _checkForErrors\n",
      "    raise ValueError('Energy is NaN') # pragma: no cover\n",
      "ValueError: Energy is NaN\n",
      "\n",
      "During handling of the above exception, another exception occurred:\n",
      "\n",
      "Traceback (most recent call last):\n",
      "  File \"/home/zhangi/miniconda3/envs/perses-sims/lib/python3.7/site-packages/IPython/core/interactiveshell.py\", line 3319, in run_code\n",
      "    exec(code_obj, self.user_global_ns, self.user_ns)\n",
      "  File \"<ipython-input-24-8789d05ec029>\", line 3, in <module>\n",
      "    blues.run()\n",
      "  File \"/lila/home/zhangi/choderalab/blues/blues/simulation.py\", line 1249, in run\n",
      "    self._stepMD(nstepsMD)\n",
      "  File \"/lila/home/zhangi/choderalab/blues/blues/simulation.py\", line 1210, in _stepMD\n",
      "    sys.exit(1)\n",
      "SystemExit: 1\n",
      "\n",
      "During handling of the above exception, another exception occurred:\n",
      "\n",
      "Traceback (most recent call last):\n",
      "  File \"/home/zhangi/miniconda3/envs/perses-sims/lib/python3.7/site-packages/IPython/core/ultratb.py\", line 1151, in get_records\n",
      "    return _fixed_getinnerframes(etb, number_of_lines_of_context, tb_offset)\n",
      "  File \"/home/zhangi/miniconda3/envs/perses-sims/lib/python3.7/site-packages/IPython/core/ultratb.py\", line 319, in wrapped\n",
      "    return f(*args, **kwargs)\n",
      "  File \"/home/zhangi/miniconda3/envs/perses-sims/lib/python3.7/site-packages/IPython/core/ultratb.py\", line 353, in _fixed_getinnerframes\n",
      "    records = fix_frame_records_filenames(inspect.getinnerframes(etb, context))\n",
      "  File \"/home/zhangi/miniconda3/envs/perses-sims/lib/python3.7/inspect.py\", line 1502, in getinnerframes\n",
      "    frameinfo = (tb.tb_frame,) + getframeinfo(tb, context)\n",
      "AttributeError: 'tuple' object has no attribute 'tb_frame'\n",
      "\n",
      "Unfortunately, your original traceback can not be constructed.\n",
      "\n"
     ]
    },
    {
     "ename": "SystemExit",
     "evalue": "1",
     "output_type": "error",
     "traceback": [
      "An exception has occurred, use %tb to see the full traceback.\n",
      "\u001b[0;31m---------------------------------------------------------------------------\u001b[0m",
      "\nDuring handling of the above exception, another exception occurred:\n",
      "\u001b[0;31mSystemExit\u001b[0m\u001b[0;31m:\u001b[0m 1\n"
     ]
    },
    {
     "name": "stderr",
     "output_type": "stream",
     "text": [
      "/home/zhangi/miniconda3/envs/perses-sims/lib/python3.7/site-packages/IPython/core/interactiveshell.py:3327: UserWarning: To exit: use 'exit', 'quit', or Ctrl-D.\n",
      "  warn(\"To exit: use 'exit', 'quit', or Ctrl-D.\", stacklevel=1)\n"
     ]
    }
   ],
   "source": [
    "# Run BLUES Simulation\n",
    "blues = BLUESSimulation(simulations, cfg['simulation'])\n",
    "blues.run()\n"
   ]
  },
  {
   "cell_type": "code",
   "execution_count": null,
   "metadata": {},
   "outputs": [],
   "source": []
  },
  {
   "cell_type": "code",
   "execution_count": null,
   "metadata": {},
   "outputs": [],
   "source": []
  },
  {
   "cell_type": "code",
   "execution_count": null,
   "metadata": {},
   "outputs": [],
   "source": []
  }
 ],
 "metadata": {
  "kernelspec": {
   "display_name": "Python 3",
   "language": "python",
   "name": "python3"
  },
  "language_info": {
   "codemirror_mode": {
    "name": "ipython",
    "version": 3
   },
   "file_extension": ".py",
   "mimetype": "text/x-python",
   "name": "python",
   "nbconvert_exporter": "python",
   "pygments_lexer": "ipython3",
   "version": "3.7.8"
  }
 },
 "nbformat": 4,
 "nbformat_minor": 4
}
