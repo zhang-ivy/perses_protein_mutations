{
 "cells": [
  {
   "cell_type": "markdown",
   "metadata": {},
   "source": [
    "# Why am i getting a periodic system for vacuum?"
   ]
  },
  {
   "cell_type": "markdown",
   "metadata": {},
   "source": [
    "## See if its a system generator problem"
   ]
  },
  {
   "cell_type": "code",
   "execution_count": 1,
   "metadata": {},
   "outputs": [
    {
     "name": "stderr",
     "output_type": "stream",
     "text": [
      "INFO:numexpr.utils:Note: detected 72 virtual cores but NumExpr set to maximum of 64, check \"NUMEXPR_MAX_THREADS\" environment variable.\n",
      "INFO:numexpr.utils:Note: NumExpr detected 72 cores but \"NUMEXPR_MAX_THREADS\" not set, so enforcing safe limit of 8.\n",
      "INFO:numexpr.utils:NumExpr defaulting to 8 threads.\n",
      "RDKit WARNING: [20:22:03] Enabling RDKit 2019.09.3 jupyter extensions\n"
     ]
    }
   ],
   "source": [
    "from perses.utils.openeye import *\n",
    "from perses.annihilation.relative import HybridTopologyFactory\n",
    "from perses.rjmc.topology_proposal import PointMutationEngine\n",
    "from perses.rjmc.geometry import FFAllAngleGeometryEngine\n",
    "\n",
    "import simtk.openmm as openmm\n",
    "import simtk.openmm.app as app\n",
    "import simtk.unit as unit\n",
    "import numpy as np\n",
    "from openmoltools import forcefield_generators\n",
    "import copy\n",
    "import mdtraj as md\n",
    "from openmmtools.constants import kB\n",
    "from perses.tests.utils import validate_endstate_energies\n",
    "from openforcefield.topology import Molecule\n",
    "from openmmforcefields.generators import SystemGenerator"
   ]
  },
  {
   "cell_type": "code",
   "execution_count": 2,
   "metadata": {},
   "outputs": [],
   "source": [
    "ENERGY_THRESHOLD = 1e-2\n",
    "temperature = 300 * unit.kelvin\n",
    "kT = kB * temperature\n",
    "beta = 1.0/kT"
   ]
  },
  {
   "cell_type": "code",
   "execution_count": 3,
   "metadata": {},
   "outputs": [],
   "source": [
    "# First thing to do is load the apo protein to mutate...\n",
    "protein_pdbfile = open(\"../input/ala_vacuum.pdb\", 'r')\n",
    "protein_pdb = app.PDBFile(protein_pdbfile)\n",
    "protein_pdbfile.close()\n",
    "protein_positions, protein_topology, protein_md_topology = protein_pdb.positions, protein_pdb.topology, md.Topology.from_openmm(protein_pdb.topology)\n",
    "protein_topology = protein_md_topology.to_openmm()\n",
    "protein_n_atoms = protein_md_topology.n_atoms"
   ]
  },
  {
   "cell_type": "code",
   "execution_count": 4,
   "metadata": {},
   "outputs": [],
   "source": [
    "# Load the ligand, if present\n",
    "molecules = []\n",
    "ligand_filename = \"../input/ser_vacuum.pdb\"\n",
    "if ligand_filename:\n",
    "    if ligand_filename.endswith('.sdf'): # small molecule\n",
    "        ligand_mol = createOEMolFromSDF(ligand_filename, index=ligand_index)\n",
    "        ligand_mol = generate_unique_atom_names(ligand_mol)\n",
    "        molecules.append(Molecule.from_openeye(ligand_mol, allow_undefined_stereo=False))\n",
    "        ligand_positions, ligand_topology = extractPositionsFromOEMol(ligand_mol),  forcefield_generators.generateTopologyFromOEMol(ligand_mol)\n",
    "        ligand_md_topology = md.Topology.from_openmm(ligand_topology)\n",
    "        ligand_n_atoms = ligand_md_topology.n_atoms\n",
    "\n",
    "    elif ligand_filename.endswith('pdb'): # protein\n",
    "        ligand_pdbfile = open(ligand_filename, 'r')\n",
    "        ligand_pdb = app.PDBFile(ligand_pdbfile)\n",
    "        ligand_pdbfile.close()\n",
    "        ligand_positions, ligand_topology, ligand_md_topology = ligand_pdb.positions, ligand_pdb.topology, md.Topology.from_openmm(\n",
    "            ligand_pdb.topology)\n",
    "        ligand_n_atoms = ligand_md_topology.n_atoms\n",
    "    \n",
    "    # Now create a complex\n",
    "    complex_md_topology = protein_md_topology.join(ligand_md_topology)\n",
    "    complex_topology = complex_md_topology.to_openmm()\n",
    "    complex_positions = unit.Quantity(np.zeros([protein_n_atoms + ligand_n_atoms, 3]), unit=unit.nanometers)\n",
    "    complex_positions[:protein_n_atoms, :] = protein_positions\n",
    "    complex_positions[protein_n_atoms:, :] = ligand_positions"
   ]
  },
  {
   "cell_type": "code",
   "execution_count": 14,
   "metadata": {},
   "outputs": [
    {
     "name": "stderr",
     "output_type": "stream",
     "text": [
      "DEBUG:perses.forcefields.system_generators:Trying GAFFTemplateGenerator to load openff-1.0.0\n",
      "DEBUG:perses.forcefields.system_generators:  GAFFTemplateGenerator cannot load openff-1.0.0\n",
      "DEBUG:perses.forcefields.system_generators:Specified 'forcefield' (openff-1.0.0) must be one of ['gaff-1.4', 'gaff-1.8', 'gaff-1.81', 'gaff-2.1', 'gaff-2.11']\n",
      "DEBUG:perses.forcefields.system_generators:Trying SMIRNOFFTemplateGenerator to load openff-1.0.0\n"
     ]
    }
   ],
   "source": [
    "forcefield_files = ['amber14/protein.ff14SB.xml', 'amber14/tip3p.xml']\n",
    "barostat = openmm.MonteCarloBarostat(1.0 * unit.atmosphere, 300 * unit.kelvin, 50)\n",
    "forcefield_kwargs = {'removeCMMotion': False, 'ewaldErrorTolerance': 1e-4, 'constraints' : app.HBonds, 'hydrogenMass' : 4 * unit.amus}\n",
    "periodic_forcefield_kwargs = {'nonbondedMethod': app.PME}\n",
    "# nonperiodic_forcefield_kwargs={'nonbondedMethod': app.NoCutoff}\n",
    "nonperiodic_forcefield_kwargs = {}\n",
    "system_generator = SystemGenerator(forcefields = forcefield_files,\n",
    "                                                barostat=barostat,\n",
    "                                                forcefield_kwargs=forcefield_kwargs,\n",
    "                                                periodic_forcefield_kwargs=periodic_forcefield_kwargs,\n",
    "                                                cache=None)"
   ]
  },
  {
   "cell_type": "code",
   "execution_count": 20,
   "metadata": {},
   "outputs": [
    {
     "data": {
      "text/plain": [
       "{'nonbondedMethod': PME}"
      ]
     },
     "execution_count": 20,
     "metadata": {},
     "output_type": "execute_result"
    }
   ],
   "source": [
    "system_generator.periodic_forcefield_kwargs"
   ]
  },
  {
   "cell_type": "code",
   "execution_count": 21,
   "metadata": {},
   "outputs": [
    {
     "data": {
      "text/plain": [
       "{'nonbondedMethod': NoCutoff}"
      ]
     },
     "execution_count": 21,
     "metadata": {},
     "output_type": "execute_result"
    }
   ],
   "source": [
    "system_generator.nonperiodic_forcefield_kwargs"
   ]
  },
  {
   "cell_type": "code",
   "execution_count": 16,
   "metadata": {},
   "outputs": [],
   "source": [
    "system = system_generator.create_system(complex_topology)"
   ]
  },
  {
   "cell_type": "code",
   "execution_count": 17,
   "metadata": {},
   "outputs": [
    {
     "data": {
      "text/plain": [
       "False"
      ]
     },
     "execution_count": 17,
     "metadata": {},
     "output_type": "execute_result"
    }
   ],
   "source": [
    "system.usesPeriodicBoundaryConditions()"
   ]
  },
  {
   "cell_type": "code",
   "execution_count": null,
   "metadata": {},
   "outputs": [],
   "source": [
    "sysetm."
   ]
  },
  {
   "cell_type": "markdown",
   "metadata": {},
   "source": [
    "## Reproduce the problem with PointMutationExecutor"
   ]
  },
  {
   "cell_type": "code",
   "execution_count": 1,
   "metadata": {},
   "outputs": [
    {
     "name": "stderr",
     "output_type": "stream",
     "text": [
      "INFO:numexpr.utils:Note: detected 72 virtual cores but NumExpr set to maximum of 64, check \"NUMEXPR_MAX_THREADS\" environment variable.\n",
      "INFO:numexpr.utils:Note: NumExpr detected 72 cores but \"NUMEXPR_MAX_THREADS\" not set, so enforcing safe limit of 8.\n",
      "INFO:numexpr.utils:NumExpr defaulting to 8 threads.\n"
     ]
    },
    {
     "name": "stdout",
     "output_type": "stream",
     "text": [
      "16777992\n"
     ]
    },
    {
     "name": "stderr",
     "output_type": "stream",
     "text": [
      "RDKit WARNING: [22:44:47] Enabling RDKit 2019.09.3 jupyter extensions\n",
      "INFO:root:solvating at 0.15 M using tip3p\n",
      "INFO:proposal_generator:\tConducting polymer point mutation proposal...\n",
      "INFO:proposal_generator:Using core to chose best atom map\n",
      "INFO:proposal_generator:Scaffold has symmetry of 0\n",
      "WARNING:proposal_generator:Two molecules are not similar to have a common scaffold\n",
      "WARNING:proposal_generator:Proceeding with direct mapping of molecules, but please check atom mapping and the geometry of the ligands.\n",
      "INFO:proposal_generator:len [{0: 0, 2: 1, 3: 2}, {0: 0, 2: 1, 3: 3}, {0: 0, 3: 2, 2: 3}]\n",
      "INFO:proposal_generator:{0: 0, 2: 1, 3: 2}\n",
      "INFO:proposal_generator:{0: 0, 2: 1, 3: 3}\n",
      "INFO:proposal_generator:{0: 0, 3: 2, 2: 3}\n",
      "INFO:proposal_generator:Finding best map using matching_criterion index\n",
      "INFO:proposal_generator:3 have 3 core atoms. Using matching_criterion index to return the best of those\n",
      "INFO:proposal_generator:{0: 0, 2: 1, 3: 3}\n",
      "INFO:geometry:propose: performing forward proposal\n",
      "INFO:geometry:propose: unique new atoms detected; proceeding to _logp_propose...\n",
      "INFO:geometry:Conducting forward proposal...\n",
      "INFO:geometry:Computing proposal order with NetworkX...\n",
      "INFO:geometry:number of atoms to be placed: 5\n",
      "INFO:geometry:Atom index proposal order is [10, 15, 11, 12, 16]\n",
      "INFO:geometry:omitted_bonds: []\n",
      "INFO:geometry:direction of proposal is forward; creating atoms_with_positions and new positions from old system/topology...\n",
      "INFO:geometry:creating growth system...\n",
      "INFO:geometry:\tcreating bond force...\n",
      "INFO:geometry:\tthere are 10 bonds in reference force.\n",
      "INFO:geometry:\tcreating angle force...\n",
      "INFO:geometry:\tthere are 37 angles in reference force.\n",
      "INFO:geometry:\tcreating torsion force...\n",
      "INFO:geometry:\tcreating extra torsions force...\n",
      "INFO:geometry:\tthere are 54 torsions in reference force.\n",
      "INFO:geometry:\tcreating nonbonded force...\n",
      "INFO:geometry:\t\tgrabbing reference nonbonded method, cutoff, switching function, switching distance...\n",
      "INFO:geometry:\t\tcreating nonbonded exception force (i.e. custom bond for 1,4s)...\n",
      "INFO:geometry:\t\tlooping through exceptions calculating growth indices, and adding appropriate interactions to custom bond force.\n",
      "INFO:geometry:\t\tthere are 1627 in the reference Nonbonded force\n",
      "WARNING:geometry:\t\t\t\t\tchiral atom <Atom 8 (CA) of chain 0 residue 1 (SER)> with neighbors [<Atom 13 (C) of chain 0 residue 1 (SER)>, <Atom 10 (CB) of chain 0 residue 1 (SER)>, <Atom 9 (HA) of chain 0 residue 1 (SER)>, <Atom 6 (N) of chain 0 residue 1 (SER)>] is surrounded by 3 core neighbors.  omitting chirality bias torsion\n",
      "INFO:geometry:Neglected angle terms : []\n",
      "INFO:geometry:omitted_growth_terms: {'bonds': [], 'angles': [], 'torsions': [], '1,4s': []}\n",
      "INFO:geometry:extra torsions: {}\n",
      "INFO:geometry:neglected angle terms include []\n",
      "INFO:geometry:log probability choice of torsions and atom order: -6.4457198193855785\n",
      "INFO:geometry:creating platform, integrators, and contexts; setting growth parameter\n"
     ]
    },
    {
     "name": "stdout",
     "output_type": "stream",
     "text": [
      "conducting subsequent work with the following platform: CUDA\n",
      "conducting subsequent work with the following platform: CUDA\n"
     ]
    },
    {
     "name": "stderr",
     "output_type": "stream",
     "text": [
      "INFO:geometry:setting atoms_with_positions context new positions\n"
     ]
    },
    {
     "name": "stdout",
     "output_type": "stream",
     "text": [
      "conducting subsequent work with the following platform: CUDA\n"
     ]
    },
    {
     "name": "stderr",
     "output_type": "stream",
     "text": [
      "INFO:geometry:There are 5 new atoms\n",
      "INFO:geometry:\treduced angle potential = 0.002686010985988205.\n",
      "INFO:geometry:\treduced angle potential = 0.11651089645290218.\n",
      "INFO:geometry:\treduced angle potential = 1.6917920082728277.\n",
      "INFO:geometry:\treduced angle potential = 0.33858509218957844.\n",
      "INFO:geometry:\treduced angle potential = 0.9487669665733802.\n",
      "INFO:geometry:\tbeginning construction of no_nonbonded final system...\n",
      "INFO:geometry:\tinitial no-nonbonded final system forces ['HarmonicBondForce', 'HarmonicAngleForce', 'PeriodicTorsionForce', 'NonbondedForce', 'MonteCarloBarostat']\n",
      "INFO:geometry:\tfinal no-nonbonded final system forces dict_keys(['HarmonicBondForce', 'HarmonicAngleForce', 'PeriodicTorsionForce', 'NonbondedForce'])\n",
      "INFO:geometry:\tthere are 10 bond forces in the no-nonbonded final system\n",
      "INFO:geometry:\tthere are 37 angle forces in the no-nonbonded final system\n",
      "INFO:geometry:\tthere are 54 torsion forces in the no-nonbonded final system\n",
      "INFO:geometry:forward final system defined with 0 neglected angles.\n"
     ]
    },
    {
     "name": "stdout",
     "output_type": "stream",
     "text": [
      "conducting subsequent work with the following platform: CUDA\n",
      "conducting subsequent work with the following platform: CUDA\n"
     ]
    },
    {
     "name": "stderr",
     "output_type": "stream",
     "text": [
      "INFO:geometry:total reduced potential before atom placement: 9.117927746118996\n"
     ]
    },
    {
     "name": "stdout",
     "output_type": "stream",
     "text": [
      "conducting subsequent work with the following platform: CUDA\n",
      "conducting subsequent work with the following platform: CUDA\n",
      "conducting subsequent work with the following platform: CUDA\n"
     ]
    },
    {
     "name": "stderr",
     "output_type": "stream",
     "text": [
      "INFO:geometry:total reduced energy added from growth system: -15.702534686616527\n",
      "INFO:geometry:final reduced energy -6.584608634256478\n",
      "INFO:geometry:sum of energies: -6.584606940497531\n",
      "INFO:geometry:magnitude of difference in the energies: 1.6937589464305347e-06\n",
      "INFO:geometry:Final logp_proposal: 33.414963673780065\n"
     ]
    },
    {
     "name": "stdout",
     "output_type": "stream",
     "text": [
      "added energy components: [('CustomBondForce', 0.6174063280472933), ('CustomAngleForce', 6.042084296420896), ('CustomTorsionForce', 10.703814862592077), ('CustomBondForce', -33.065840173676776)]\n"
     ]
    },
    {
     "name": "stderr",
     "output_type": "stream",
     "text": [
      "INFO:geometry:logp_reverse: performing reverse proposal\n",
      "INFO:geometry:logp_reverse: unique new atoms detected; proceeding to _logp_propose...\n",
      "INFO:geometry:Conducting forward proposal...\n",
      "INFO:geometry:Computing proposal order with NetworkX...\n",
      "INFO:geometry:number of atoms to be placed: 4\n",
      "INFO:geometry:Atom index proposal order is [10, 12, 15, 11]\n",
      "INFO:geometry:omitted_bonds: []\n",
      "INFO:geometry:direction of proposal is reverse; creating atoms_with_positions from old system/topology\n",
      "INFO:geometry:creating growth system...\n",
      "INFO:geometry:\tcreating bond force...\n",
      "INFO:geometry:\tthere are 9 bonds in reference force.\n",
      "INFO:geometry:\tcreating angle force...\n",
      "INFO:geometry:\tthere are 36 angles in reference force.\n",
      "INFO:geometry:\tcreating torsion force...\n",
      "INFO:geometry:\tcreating extra torsions force...\n",
      "INFO:geometry:\tthere are 42 torsions in reference force.\n",
      "INFO:geometry:\tcreating nonbonded force...\n",
      "INFO:geometry:\t\tgrabbing reference nonbonded method, cutoff, switching function, switching distance...\n",
      "INFO:geometry:\t\tcreating nonbonded exception force (i.e. custom bond for 1,4s)...\n",
      "INFO:geometry:\t\tlooping through exceptions calculating growth indices, and adding appropriate interactions to custom bond force.\n",
      "INFO:geometry:\t\tthere are 1622 in the reference Nonbonded force\n",
      "WARNING:geometry:\t\t\t\t\tchiral atom <Atom 8 (CA) of chain 0 residue 1 (ALA)> with neighbors [<Atom 13 (C) of chain 0 residue 1 (ALA)>, <Atom 10 (CB) of chain 0 residue 1 (ALA)>, <Atom 9 (HA) of chain 0 residue 1 (ALA)>, <Atom 6 (N) of chain 0 residue 1 (ALA)>] is surrounded by 3 core neighbors.  omitting chirality bias torsion\n",
      "INFO:geometry:Neglected angle terms : []\n",
      "INFO:geometry:omitted_growth_terms: {'bonds': [], 'angles': [], 'torsions': [], '1,4s': []}\n",
      "INFO:geometry:extra torsions: {}\n",
      "INFO:geometry:neglected angle terms include []\n",
      "INFO:geometry:log probability choice of torsions and atom order: -5.78074351579233\n",
      "INFO:geometry:creating platform, integrators, and contexts; setting growth parameter\n"
     ]
    },
    {
     "name": "stdout",
     "output_type": "stream",
     "text": [
      "conducting subsequent work with the following platform: CUDA\n"
     ]
    },
    {
     "name": "stderr",
     "output_type": "stream",
     "text": [
      "INFO:geometry:setting atoms_with_positions context old positions\n"
     ]
    },
    {
     "name": "stdout",
     "output_type": "stream",
     "text": [
      "conducting subsequent work with the following platform: CUDA\n"
     ]
    },
    {
     "name": "stderr",
     "output_type": "stream",
     "text": [
      "INFO:geometry:There are 4 new atoms\n",
      "INFO:geometry:\treduced angle potential = 0.08105429955152414.\n",
      "INFO:geometry:\treduced angle potential = 1.858184262206258e-06.\n",
      "INFO:geometry:\treduced angle potential = 1.1491328110690509.\n",
      "INFO:geometry:\treduced angle potential = 8.578546222633222e-06.\n",
      "INFO:geometry:\tbeginning construction of no_nonbonded final system...\n",
      "INFO:geometry:\tinitial no-nonbonded final system forces ['HarmonicBondForce', 'HarmonicAngleForce', 'PeriodicTorsionForce', 'NonbondedForce', 'MonteCarloBarostat']\n",
      "INFO:geometry:\tfinal no-nonbonded final system forces dict_keys(['HarmonicBondForce', 'HarmonicAngleForce', 'PeriodicTorsionForce', 'NonbondedForce'])\n",
      "INFO:geometry:\tthere are 9 bond forces in the no-nonbonded final system\n",
      "INFO:geometry:\tthere are 36 angle forces in the no-nonbonded final system\n",
      "INFO:geometry:\tthere are 42 torsion forces in the no-nonbonded final system\n",
      "INFO:geometry:reverse final system defined with 0 neglected angles.\n"
     ]
    },
    {
     "name": "stdout",
     "output_type": "stream",
     "text": [
      "conducting subsequent work with the following platform: CUDA\n",
      "conducting subsequent work with the following platform: CUDA\n"
     ]
    },
    {
     "name": "stderr",
     "output_type": "stream",
     "text": [
      "INFO:geometry:total reduced potential before atom placement: 9.117927746118994\n"
     ]
    },
    {
     "name": "stdout",
     "output_type": "stream",
     "text": [
      "conducting subsequent work with the following platform: CUDA\n",
      "conducting subsequent work with the following platform: CUDA\n",
      "conducting subsequent work with the following platform: CUDA\n"
     ]
    },
    {
     "name": "stderr",
     "output_type": "stream",
     "text": [
      "INFO:geometry:total reduced energy added from growth system: 22.707579865893052\n",
      "INFO:geometry:final reduced energy 31.825508050891976\n",
      "INFO:geometry:sum of energies: 31.825507612012046\n",
      "INFO:geometry:magnitude of difference in the energies: 4.3887992973168366e-07\n",
      "INFO:geometry:Final logp_proposal: 25.72767226898851\n"
     ]
    },
    {
     "name": "stdout",
     "output_type": "stream",
     "text": [
      "added energy components: [('CustomBondForce', 0.0006997761422412573), ('CustomAngleForce', 1.9747549513848426), ('CustomTorsionForce', 7.25085640852447), ('CustomBondForce', 13.481268729841489)]\n"
     ]
    },
    {
     "name": "stderr",
     "output_type": "stream",
     "text": [
      "INFO:relative:Beginning nonbonded method, total particle, barostat, and exceptions retrieval...\n",
      "INFO:relative:Old system forces: dict_keys(['HarmonicBondForce', 'HarmonicAngleForce', 'PeriodicTorsionForce', 'NonbondedForce', 'MonteCarloBarostat'])\n",
      "INFO:relative:New system forces: dict_keys(['HarmonicBondForce', 'HarmonicAngleForce', 'PeriodicTorsionForce', 'NonbondedForce', 'MonteCarloBarostat'])\n",
      "INFO:relative:No unknown forces.\n",
      "INFO:relative:Nonbonded method to be used (i.e. from old system): 4\n",
      "INFO:relative:Adding and mapping old atoms to hybrid system...\n",
      "INFO:relative:Adding and mapping new atoms to hybrid system...\n",
      "INFO:relative:Added MonteCarloBarostat.\n",
      "INFO:relative:getDefaultPeriodicBoxVectors added to hybrid: [Quantity(value=Vec3(x=2.5648, y=0.0, z=0.0), unit=nanometer), Quantity(value=Vec3(x=0.0, y=2.5648, z=0.0), unit=nanometer), Quantity(value=Vec3(x=0.0, y=0.0, z=2.5648), unit=nanometer)]\n",
      "INFO:relative:Determined atom classes.\n",
      "INFO:relative:Generating old system exceptions dict...\n",
      "INFO:relative:Generating new system exceptions dict...\n",
      "INFO:relative:Handling constraints...\n",
      "INFO:relative:Handling virtual sites...\n",
      "INFO:relative:\t_handle_virtual_sites: numVirtualSites: 0\n",
      "INFO:relative:Adding bond force terms...\n",
      "INFO:relative:Adding angle force terms...\n",
      "INFO:relative:Adding torsion force terms...\n",
      "INFO:relative:Adding nonbonded force terms...\n",
      "INFO:relative:\t_add_nonbonded_force_terms: <simtk.openmm.openmm.NonbondedForce; proxy of <Swig Object of type 'OpenMM::NonbondedForce *' at 0x2b1a28d535a0> > added to hybrid system\n",
      "INFO:relative:\t_add_nonbonded_force_terms: nonbonded_method is PME or Ewald\n",
      "INFO:relative:\t_add_nonbonded_force_terms: 4 added to standard nonbonded force\n",
      "INFO:relative:\t_add_nonbonded_force_terms: 2 added to sterics_custom_nonbonded force\n",
      "INFO:relative:\t_add_nonbonded_force_terms: <simtk.openmm.openmm.CustomNonbondedForce; proxy of <Swig Object of type 'OpenMM::CustomNonbondedForce *' at 0x2b1a28d53300> > added to hybrid system\n",
      "INFO:relative:Handling harmonic bonds...\n",
      "INFO:relative:\thandle_harmonic_bonds: looping through old_system to add relevant terms...\n",
      "INFO:relative:\thandle_harmonic_bonds: looping through new_system to add relevant terms...\n",
      "INFO:relative:Handling harmonic angles...\n",
      "INFO:relative:\thandle_harmonic_angles: looping through old_system to add relevant terms...\n",
      "INFO:relative:\thandle_harmonic_angles: looping through new_system to add relevant terms...\n",
      "INFO:relative:Handling torsion forces...\n",
      "INFO:relative:\thandle_periodic_torsion_forces: looping through old_system to add relevant terms...\n",
      "INFO:relative:\thandle_periodic_torsion_forces: looping through new_system to add relevant terms...\n",
      "INFO:relative:Handling nonbonded forces...\n",
      "INFO:relative:\thandle_nonbonded: looping through all particles in hybrid...\n",
      "INFO:relative:\thandle_nonbonded: Handling Interaction Groups...\n",
      "INFO:relative:\thandle_nonbonded: Handling Hybrid Exceptions...\n",
      "INFO:relative:\thandle_nonbonded: Handling Original Exceptions...\n",
      "INFO:relative:Handling unique_new/old interaction exceptions...\n",
      "INFO:relative:There are old or new system exceptions...proceeding.\n"
     ]
    },
    {
     "name": "stdout",
     "output_type": "stream",
     "text": [
      "conducting subsequent work with the following platform: CUDA\n",
      "conducting subsequent work with the following platform: CUDA\n",
      "\t\t\tHarmonicBondForce: 0.03336689198711389\n",
      "\t\t\tHarmonicAngleForce: 2.1347394429482724\n",
      "\t\t\tPeriodicTorsionForce: 16.176131477654224\n",
      "\t\t\tNonbondedForce: -40.48578205587068\n",
      "\t\t\tAndersenThermostat: 0.0\n",
      "\t\t\tMonteCarloBarostat: 0.0\n",
      "conducting subsequent work with the following platform: CUDA\n",
      "\t\t\tCustomBondForce: 0.032667115844874646\n",
      "\t\t\tHarmonicBondForce: 0.6181061041895441\n",
      "\t\t\tCustomAngleForce: 0.15998449156336056\n",
      "\t\t\tHarmonicAngleForce: 8.016839247805873\n",
      "\t\t\tCustomTorsionForce: 0.0\n",
      "\t\t\tPeriodicTorsionForce: 26.87994502099509\n",
      "\t\t\tNonbondedForce: -64.87357466750167\n",
      "\t\t\tCustomNonbondedForce: -8.678095883557813\n",
      "\t\t\tCustomBondForce: 0.0\n",
      "\t\t\tAndersenThermostat: 0.0\n",
      "\t\t\tMonteCarloBarostat: 0.0\n",
      "conducting subsequent work with the following platform: CUDA\n",
      "\t\t\tCustomBondForce: 0.032667115844874646\n",
      "\t\t\tHarmonicBondForce: 0.6181061041895441\n",
      "\t\t\tCustomAngleForce: 0.15998449156336056\n",
      "\t\t\tHarmonicAngleForce: 8.016839247805873\n",
      "\t\t\tCustomTorsionForce: 0.0\n",
      "\t\t\tPeriodicTorsionForce: 26.87994502099509\n",
      "\t\t\tNonbondedForce: -38.909389398317\n",
      "\t\t\tCustomNonbondedForce: 10.257667642141003\n",
      "\t\t\tCustomBondForce: 0.0\n",
      "\t\t\tAndersenThermostat: 0.0\n",
      "\t\t\tMonteCarloBarostat: 0.0\n",
      "conducting subsequent work with the following platform: CUDA\n"
     ]
    },
    {
     "name": "stderr",
     "output_type": "stream",
     "text": [
      "WARNING:root:Reduced potential difference of the nonalchemical and alchemical Lambda = 0 state is above the threshold (0.01): 4.794700788934847e-05\n",
      "WARNING:root:Reduced potential difference of the nonalchemical and alchemical Lambda = 1 state is above the threshold (0.01): 4.8221053276620296e-05\n"
     ]
    },
    {
     "name": "stdout",
     "output_type": "stream",
     "text": [
      "\t\t\tHarmonicBondForce: 0.6500734438921796\n",
      "\t\t\tHarmonicAngleForce: 6.202068787984321\n",
      "\t\t\tPeriodicTorsionForce: 19.62908968205162\n",
      "\t\t\tNonbondedForce: -42.13294377342093\n",
      "\t\t\tAndersenThermostat: 0.0\n",
      "\t\t\tMonteCarloBarostat: 0.0\n"
     ]
    }
   ],
   "source": [
    "from perses.app.relative_point_mutation_setup import PointMutationExecutor\n",
    "import simtk.openmm.app as app\n",
    "apo_delivery = PointMutationExecutor(f\"../input/ala_vacuum.pdb\", \n",
    "                              '1', \n",
    "                              '2', \n",
    "                              'SER'\n",
    "                             )"
   ]
  },
  {
   "cell_type": "code",
   "execution_count": null,
   "metadata": {},
   "outputs": [],
   "source": []
  },
  {
   "cell_type": "code",
   "execution_count": 17,
   "metadata": {},
   "outputs": [
    {
     "data": {
      "text/plain": [
       "False"
      ]
     },
     "execution_count": 17,
     "metadata": {},
     "output_type": "execute_result"
    }
   ],
   "source": [
    "apo_delivery.apo_htf.hybrid_system.usesPeriodicBoundaryConditions()"
   ]
  },
  {
   "cell_type": "markdown",
   "metadata": {},
   "source": [
    "# Debug through PointMutationExecutor "
   ]
  },
  {
   "cell_type": "code",
   "execution_count": 22,
   "metadata": {},
   "outputs": [],
   "source": [
    "import logging\n",
    "_logger = logging.getLogger()\n",
    "_logger.setLevel(logging.INFO)"
   ]
  },
  {
   "cell_type": "code",
   "execution_count": 2,
   "metadata": {},
   "outputs": [],
   "source": [
    "from perses.utils.openeye import *\n",
    "from perses.annihilation.relative import HybridTopologyFactory\n",
    "from perses.rjmc.topology_proposal import PointMutationEngine\n",
    "from perses.rjmc.geometry import FFAllAngleGeometryEngine\n",
    "\n",
    "import simtk.openmm as openmm\n",
    "import simtk.openmm.app as app\n",
    "import simtk.unit as unit\n",
    "import numpy as np\n",
    "from openmoltools import forcefield_generators\n",
    "import copy\n",
    "import mdtraj as md\n",
    "from openmmtools.constants import kB\n",
    "from perses.tests.utils import validate_endstate_energies\n",
    "from openforcefield.topology import Molecule\n",
    "from openmmforcefields.generators import SystemGenerator"
   ]
  },
  {
   "cell_type": "code",
   "execution_count": 3,
   "metadata": {},
   "outputs": [],
   "source": [
    "ENERGY_THRESHOLD = 1e-2\n",
    "temperature = 300 * unit.kelvin\n",
    "kT = kB * temperature\n",
    "beta = 1.0/kT"
   ]
  },
  {
   "cell_type": "code",
   "execution_count": 4,
   "metadata": {},
   "outputs": [],
   "source": [
    "# First thing to do is load the apo protein to mutate...\n",
    "protein_pdbfile = open(\"../input/mmc2_barstar.pdb\", 'r')\n",
    "protein_pdb = app.PDBFile(protein_pdbfile)\n",
    "protein_pdbfile.close()\n",
    "protein_positions, protein_topology, protein_md_topology = protein_pdb.positions, protein_pdb.topology, md.Topology.from_openmm(protein_pdb.topology)\n",
    "protein_topology = protein_md_topology.to_openmm()\n",
    "protein_n_atoms = protein_md_topology.n_atoms"
   ]
  },
  {
   "cell_type": "code",
   "execution_count": 5,
   "metadata": {},
   "outputs": [],
   "source": [
    "# Load the ligand, if present\n",
    "molecules = []\n",
    "ligand_filename = \"../input/mmc2_barnase.pdb\"\n",
    "if ligand_filename:\n",
    "    if ligand_filename.endswith('.sdf'): # small molecule\n",
    "        ligand_mol = createOEMolFromSDF(ligand_filename, index=ligand_index)\n",
    "        ligand_mol = generate_unique_atom_names(ligand_mol)\n",
    "        molecules.append(Molecule.from_openeye(ligand_mol, allow_undefined_stereo=False))\n",
    "        ligand_positions, ligand_topology = extractPositionsFromOEMol(ligand_mol),  forcefield_generators.generateTopologyFromOEMol(ligand_mol)\n",
    "        ligand_md_topology = md.Topology.from_openmm(ligand_topology)\n",
    "        ligand_n_atoms = ligand_md_topology.n_atoms\n",
    "\n",
    "    elif ligand_filename.endswith('pdb'): # protein\n",
    "        ligand_pdbfile = open(ligand_filename, 'r')\n",
    "        ligand_pdb = app.PDBFile(ligand_pdbfile)\n",
    "        ligand_pdbfile.close()\n",
    "        ligand_positions, ligand_topology, ligand_md_topology = ligand_pdb.positions, ligand_pdb.topology, md.Topology.from_openmm(\n",
    "            ligand_pdb.topology)\n",
    "        ligand_n_atoms = ligand_md_topology.n_atoms\n",
    "    \n",
    "    # Now create a complex\n",
    "    complex_md_topology = protein_md_topology.join(ligand_md_topology)\n",
    "    complex_topology = complex_md_topology.to_openmm()\n",
    "    complex_positions = unit.Quantity(np.zeros([protein_n_atoms + ligand_n_atoms, 3]), unit=unit.nanometers)\n",
    "    complex_positions[:protein_n_atoms, :] = protein_positions\n",
    "    complex_positions[protein_n_atoms:, :] = ligand_positions"
   ]
  },
  {
   "cell_type": "code",
   "execution_count": 6,
   "metadata": {},
   "outputs": [],
   "source": [
    "forcefield_files = ['amber14/protein.ff14SB.xml', 'amber14/tip3p.xml']\n",
    "barostat = openmm.MonteCarloBarostat(1.0 * unit.atmosphere, 300 * unit.kelvin, 50)\n",
    "forcefield_kwargs = {'removeCMMotion': False, 'ewaldErrorTolerance': 1e-4, 'constraints' : app.HBonds, 'hydrogenMass' : 4 * unit.amus}\n",
    "periodic_forcefield_kwargs = {'nonbondedMethod': app.PME}\n",
    "nonperiodic_forcefield_kwargs = None\n",
    "system_generator = SystemGenerator(forcefields = forcefield_files,\n",
    "                                                barostat=barostat,\n",
    "                                                forcefield_kwargs=forcefield_kwargs,\n",
    "                                                periodic_forcefield_kwargs=periodic_forcefield_kwargs,\n",
    "                                   nonperiodic_forcefield_kwargs=nonperiodic_forcefield_kwargs,\n",
    "                                                molecules=molecules,\n",
    "                                                cache=None)"
   ]
  },
  {
   "cell_type": "code",
   "execution_count": 45,
   "metadata": {},
   "outputs": [],
   "source": [
    "def _solvate(\n",
    "           topology,\n",
    "           positions,\n",
    "           water_model,\n",
    "           phase,\n",
    "           ionic_strength,\n",
    "           box_dimensions = None):\n",
    "    \"\"\"\n",
    "    Generate a solvated topology, positions, and system for a given input topology and positions.\n",
    "    For generating the system, the forcefield files provided in the constructor will be used.\n",
    "\n",
    "    Parameters\n",
    "    ----------\n",
    "    topology : app.Topology\n",
    "        Topology of the system to solvate\n",
    "    positions : [n, 3] ndarray of Quantity nm\n",
    "        the positions of the unsolvated system\n",
    "    forcefield : SystemGenerator.forcefield\n",
    "        forcefield file of solvent to add\n",
    "    water_model : str\n",
    "        solvent model to use for solvation\n",
    "    phase : str\n",
    "        if phase == vacuum, then the complex will not be solvated with water; else, it will be solvated with tip3p\n",
    "    ionic_strength : float * unit.molar\n",
    "        the total concentration of ions (both positive and negative) to add using Modeller.\n",
    "        This does not include ions that are added to neutralize the system.\n",
    "        Note that only monovalent ions are currently supported.\n",
    "\n",
    "    Returns\n",
    "    -------\n",
    "    solvated_topology : app.Topology\n",
    "        Topology of the system with added waters\n",
    "    solvated_positions : [n + 3(n_waters), 3] ndarray of Quantity nm\n",
    "        Solvated positions\n",
    "    solvated_system : openmm.System\n",
    "        The parameterized system, containing a barostat if one was specified.\n",
    "    \"\"\"\n",
    "    modeller = app.Modeller(topology, positions)\n",
    "\n",
    "    # Now we have to add missing atoms\n",
    "    if phase != 'vacuum':\n",
    "        _logger.info(f\"solvating at {ionic_strength} using {water_model}\")\n",
    "        if not box_dimensions:\n",
    "            modeller.addSolvent(system_generator.forcefield, model=water_model, padding=0.9 * unit.nanometers, ionicStrength=ionic_strength)\n",
    "            print(\"getting here 1\")\n",
    "        else:\n",
    "            modeller.addSolvent(system_generator.forcefield, model=water_model, boxSize=box_dimensions, ionicStrength=ionic_strength)\n",
    "            print(\"getting here 2\")\n",
    "    else:\n",
    "        pass\n",
    "\n",
    "    solvated_topology = modeller.getTopology()\n",
    "#     solvated_topology.setUnitCellDimensions(box_dimensions)\n",
    "    solvated_positions = modeller.getPositions()\n",
    "\n",
    "    # Canonicalize the solvated positions: turn tuples into np.array\n",
    "    solvated_positions = unit.quantity.Quantity(value=np.array([list(atom_pos) for atom_pos in solvated_positions.value_in_unit_system(unit.md_unit_system)]), unit=unit.nanometers)\n",
    "    solvated_system = system_generator.create_system(solvated_topology)\n",
    "\n",
    "    return solvated_topology, solvated_positions, solvated_system\n"
   ]
  },
  {
   "cell_type": "code",
   "execution_count": 31,
   "metadata": {},
   "outputs": [],
   "source": [
    "def _solvate(topology,\n",
    "                    positions,\n",
    "                    model,\n",
    "                    phase):\n",
    "    \"\"\"\n",
    "    Generate a solvated topology, positions, and system for a given input topology and positions.\n",
    "    For generating the system, the forcefield files provided in the constructor will be used.\n",
    "\n",
    "    Parameters\n",
    "    ----------\n",
    "    topology : app.Topology\n",
    "        Topology of the system to solvate\n",
    "    positions : [n, 3] ndarray of Quantity nm\n",
    "        the positions of the unsolvated system\n",
    "    forcefield : SystemGenerator.forcefield\n",
    "        forcefield file of solvent to add\n",
    "    model : str, default 'tip3p'\n",
    "        solvent model to use for solvation\n",
    "\n",
    "    Returns\n",
    "    -------\n",
    "    solvated_topology : app.Topology\n",
    "        Topology of the system with added waters\n",
    "    solvated_positions : [n + 3(n_waters), 3] ndarray of Quantity nm\n",
    "        Solvated positions\n",
    "    solvated_system : openmm.System\n",
    "        The parameterized system, containing a barostat if one was specified.\n",
    "    \"\"\"\n",
    "    modeller = app.Modeller(topology, positions)\n",
    "\n",
    "\n",
    "    # Now we have to add missing atoms\n",
    "    if phase != 'vacuum':\n",
    "        modeller.addSolvent(system_generator.forcefield, model=model, padding=1.0 * unit.nanometers, ionicStrength=0.05*unit.molar)\n",
    "    else:\n",
    "        pass\n",
    "\n",
    "    solvated_topology = modeller.getTopology()\n",
    "    solvated_positions = modeller.getPositions()\n",
    "\n",
    "    # Canonicalize the solvated positions: turn tuples into np.array\n",
    "    solvated_positions = unit.quantity.Quantity(value=np.array([list(atom_pos) for atom_pos in solvated_positions.value_in_unit_system(unit.md_unit_system)]), unit=unit.nanometers)\n",
    "    solvated_system = system_generator.create_system(solvated_topology)\n",
    "\n",
    "    return solvated_topology, solvated_positions, solvated_system\n"
   ]
  },
  {
   "cell_type": "code",
   "execution_count": 32,
   "metadata": {},
   "outputs": [],
   "source": [
    "apo_input = list(_solvate(protein_topology, protein_positions, 'tip3p', phase='complex'))\n",
    "inputs = [apo_input]\n",
    "if ligand_filename:\n",
    "    inputs.append(_solvate(complex_topology, complex_positions, 'tip3p', phase='complex'))"
   ]
  },
  {
   "cell_type": "code",
   "execution_count": 34,
   "metadata": {},
   "outputs": [
    {
     "data": {
      "text/plain": [
       "True"
      ]
     },
     "execution_count": 34,
     "metadata": {},
     "output_type": "execute_result"
    }
   ],
   "source": [
    "inputs[1][2].usesPeriodicBoundaryConditions()"
   ]
  },
  {
   "cell_type": "code",
   "execution_count": 51,
   "metadata": {},
   "outputs": [],
   "source": [
    "protein_topology.getUnitCellDimensions()"
   ]
  },
  {
   "cell_type": "code",
   "execution_count": 46,
   "metadata": {},
   "outputs": [
    {
     "name": "stderr",
     "output_type": "stream",
     "text": [
      "INFO:root:solvating at 0.15 M using tip3p\n"
     ]
    },
    {
     "name": "stdout",
     "output_type": "stream",
     "text": [
      "getting here 1\n"
     ]
    },
    {
     "name": "stderr",
     "output_type": "stream",
     "text": [
      "INFO:root:solvating at 0.15 M using tip3p\n"
     ]
    },
    {
     "name": "stdout",
     "output_type": "stream",
     "text": [
      "getting here 1\n"
     ]
    }
   ],
   "source": [
    "ionic_strength = 0.15 * unit.molar\n",
    "complex_box_dimensions = None\n",
    "apo_box_dimensions = None\n",
    "water_model = 'tip3p'\n",
    "phase = 'complex'\n",
    "apo_input = list(_solvate(protein_topology, protein_positions, water_model, phase, ionic_strength, apo_box_dimensions))\n",
    "inputs = [apo_input]\n",
    "if ligand_filename:\n",
    "    inputs.append(_solvate(complex_topology, complex_positions, water_model, phase, ionic_strength, complex_box_dimensions))\n"
   ]
  },
  {
   "cell_type": "code",
   "execution_count": 47,
   "metadata": {},
   "outputs": [
    {
     "data": {
      "text/plain": [
       "True"
      ]
     },
     "execution_count": 47,
     "metadata": {},
     "output_type": "execute_result"
    }
   ],
   "source": [
    "inputs[0][2].usesPeriodicBoundaryConditions()"
   ]
  },
  {
   "cell_type": "code",
   "execution_count": 9,
   "metadata": {},
   "outputs": [],
   "source": [
    "geometry_engine = FFAllAngleGeometryEngine(metadata=None,\n",
    "                                                use_sterics=False,\n",
    "                                                n_bond_divisions=100,\n",
    "                                                n_angle_divisions=180,\n",
    "                                                n_torsion_divisions=360,\n",
    "                                                verbose=True,\n",
    "                                                storage=None,\n",
    "                                                bond_softening_constant=1.0,\n",
    "                                                angle_softening_constant=1.0,\n",
    "                                                neglect_angles = False,\n",
    "                                                use_14_nonbondeds = True)"
   ]
  },
  {
   "cell_type": "code",
   "execution_count": null,
   "metadata": {},
   "outputs": [],
   "source": []
  },
  {
   "cell_type": "code",
   "execution_count": 15,
   "metadata": {},
   "outputs": [
    {
     "name": "stderr",
     "output_type": "stream",
     "text": [
      "INFO:proposal_generator:\tConducting polymer point mutation proposal...\n"
     ]
    },
    {
     "name": "stdout",
     "output_type": "stream",
     "text": [
      "0\n"
     ]
    },
    {
     "name": "stderr",
     "output_type": "stream",
     "text": [
      "INFO:proposal_generator:Using core to chose best atom map\n",
      "INFO:proposal_generator:Scaffold has symmetry of 0\n",
      "WARNING:proposal_generator:Two molecules are not similar to have a common scaffold\n",
      "WARNING:proposal_generator:Proceeding with direct mapping of molecules, but please check atom mapping and the geometry of the ligands.\n",
      "INFO:proposal_generator:len [{0: 0, 1: 8, 2: 9}, {0: 0, 1: 8, 3: 9}, {0: 0, 2: 8, 3: 9}]\n",
      "INFO:proposal_generator:{0: 0, 1: 8, 2: 9}\n",
      "INFO:proposal_generator:{0: 0, 1: 8, 3: 9}\n",
      "INFO:proposal_generator:{0: 0, 2: 8, 3: 9}\n",
      "INFO:proposal_generator:Finding best map using matching_criterion name\n",
      "INFO:proposal_generator:3 have 3 core atoms. Using matching_criterion name to return the best of those\n",
      "INFO:proposal_generator:{0: 0, 1: 8, 2: 9}\n",
      "INFO:geometry:propose: performing forward proposal\n",
      "INFO:geometry:propose: unique new atoms detected; proceeding to _logp_propose...\n",
      "INFO:geometry:Conducting forward proposal...\n",
      "INFO:geometry:Computing proposal order with NetworkX...\n",
      "INFO:geometry:number of atoms to be placed: 4\n",
      "INFO:geometry:Atom index proposal order is [470, 475, 474, 473]\n",
      "INFO:geometry:omitted_bonds: []\n",
      "INFO:geometry:direction of proposal is forward; creating atoms_with_positions and new positions from old system/topology...\n",
      "INFO:geometry:creating growth system...\n",
      "INFO:geometry:\tcreating bond force...\n",
      "INFO:geometry:\tthere are 727 bonds in reference force.\n",
      "INFO:geometry:\tcreating angle force...\n",
      "INFO:geometry:\tthere are 2616 angles in reference force.\n",
      "INFO:geometry:\tcreating torsion force...\n",
      "INFO:geometry:\tcreating extra torsions force...\n",
      "INFO:geometry:\tthere are 4925 torsions in reference force.\n",
      "INFO:geometry:\tcreating nonbonded force...\n",
      "INFO:geometry:\t\tgrabbing reference nonbonded method, cutoff, switching function, switching distance...\n",
      "INFO:geometry:\t\tcreating nonbonded exception force (i.e. custom bond for 1,4s)...\n",
      "INFO:geometry:\t\tlooping through exceptions calculating growth indices, and adding appropriate interactions to custom bond force.\n",
      "INFO:geometry:\t\tthere are 23035 in the reference Nonbonded force\n",
      "WARNING:geometry:\t\t\t\t\tchiral atom <Atom 467 (CA) of chain 0 residue 29 (ALA)> with neighbors [<Atom 468 (C) of chain 0 residue 29 (ALA)>, <Atom 470 (CB) of chain 0 residue 29 (ALA)>, <Atom 472 (HA) of chain 0 residue 29 (ALA)>, <Atom 466 (N) of chain 0 residue 29 (ALA)>] is surrounded by 3 core neighbors.  omitting chirality bias torsion\n",
      "INFO:geometry:Neglected angle terms : []\n",
      "INFO:geometry:omitted_growth_terms: {'bonds': [], 'angles': [], 'torsions': [], '1,4s': []}\n",
      "INFO:geometry:extra torsions: {}\n",
      "INFO:geometry:neglected angle terms include []\n",
      "INFO:geometry:log probability choice of torsions and atom order: -5.78074351579233\n",
      "INFO:geometry:creating platform, integrators, and contexts; setting growth parameter\n"
     ]
    },
    {
     "name": "stdout",
     "output_type": "stream",
     "text": [
      "conducting subsequent work with the following platform: CUDA\n"
     ]
    },
    {
     "name": "stderr",
     "output_type": "stream",
     "text": [
      "INFO:geometry:setting atoms_with_positions context new positions\n"
     ]
    },
    {
     "name": "stdout",
     "output_type": "stream",
     "text": [
      "conducting subsequent work with the following platform: CUDA\n"
     ]
    },
    {
     "name": "stderr",
     "output_type": "stream",
     "text": [
      "INFO:geometry:There are 4 new atoms\n",
      "INFO:geometry:\treduced angle potential = 1.4807412925269468.\n",
      "INFO:geometry:\treduced angle potential = 0.7715757342396077.\n",
      "INFO:geometry:\treduced angle potential = 0.18975679234932874.\n",
      "INFO:geometry:\treduced angle potential = 0.12032679363047673.\n",
      "INFO:geometry:\tbeginning construction of no_nonbonded final system...\n",
      "INFO:geometry:\tinitial no-nonbonded final system forces ['HarmonicBondForce', 'HarmonicAngleForce', 'PeriodicTorsionForce', 'NonbondedForce', 'MonteCarloBarostat']\n",
      "INFO:geometry:\tfinal no-nonbonded final system forces dict_keys(['HarmonicBondForce', 'HarmonicAngleForce', 'PeriodicTorsionForce', 'NonbondedForce'])\n",
      "INFO:geometry:\tthere are 727 bond forces in the no-nonbonded final system\n",
      "INFO:geometry:\tthere are 2616 angle forces in the no-nonbonded final system\n",
      "INFO:geometry:\tthere are 4925 torsion forces in the no-nonbonded final system\n",
      "INFO:geometry:forward final system defined with 0 neglected angles.\n"
     ]
    },
    {
     "name": "stdout",
     "output_type": "stream",
     "text": [
      "conducting subsequent work with the following platform: CUDA\n",
      "conducting subsequent work with the following platform: CUDA\n"
     ]
    },
    {
     "name": "stderr",
     "output_type": "stream",
     "text": [
      "INFO:geometry:total reduced potential before atom placement: 2284.252986232558\n"
     ]
    },
    {
     "name": "stdout",
     "output_type": "stream",
     "text": [
      "conducting subsequent work with the following platform: CUDA\n",
      "conducting subsequent work with the following platform: CUDA\n",
      "conducting subsequent work with the following platform: CUDA\n"
     ]
    },
    {
     "name": "stderr",
     "output_type": "stream",
     "text": [
      "INFO:geometry:total reduced energy added from growth system: 29.40269086324403\n",
      "INFO:geometry:final reduced energy 2313.6556774396954\n",
      "INFO:geometry:sum of energies: 2313.6556770958023\n",
      "INFO:geometry:magnitude of difference in the energies: 3.43893166387943e-07\n",
      "INFO:geometry:Final logp_proposal: 20.588064952021156\n"
     ]
    },
    {
     "name": "stdout",
     "output_type": "stream",
     "text": [
      "added energy components: [('CustomBondForce', 0.371799652151047), ('CustomAngleForce', 5.298868829002081), ('CustomTorsionForce', 8.09116929693206), ('CustomBondForce', 15.640853085158847)]\n"
     ]
    },
    {
     "name": "stderr",
     "output_type": "stream",
     "text": [
      "INFO:geometry:logp_reverse: performing reverse proposal\n",
      "INFO:geometry:logp_reverse: unique new atoms detected; proceeding to _logp_propose...\n",
      "INFO:geometry:Conducting forward proposal...\n",
      "INFO:geometry:Computing proposal order with NetworkX...\n",
      "INFO:geometry:number of atoms to be placed: 15\n",
      "INFO:geometry:Atom index proposal order is [470, 471, 473, 472, 475, 474, 476, 477, 484, 482, 486, 480, 483, 481, 485]\n",
      "INFO:geometry:omitted_bonds: [(475, 476)]\n",
      "INFO:geometry:direction of proposal is reverse; creating atoms_with_positions from old system/topology\n",
      "INFO:geometry:creating growth system...\n",
      "INFO:geometry:\tcreating bond force...\n",
      "INFO:geometry:\tthere are 735 bonds in reference force.\n",
      "INFO:geometry:\tcreating angle force...\n",
      "INFO:geometry:\tthere are 2635 angles in reference force.\n",
      "INFO:geometry:\tcreating torsion force...\n",
      "INFO:geometry:\tcreating extra torsions force...\n",
      "INFO:geometry:\tthere are 4969 torsions in reference force.\n",
      "INFO:geometry:\tcreating nonbonded force...\n",
      "INFO:geometry:\t\tgrabbing reference nonbonded method, cutoff, switching function, switching distance...\n",
      "INFO:geometry:\t\tcreating nonbonded exception force (i.e. custom bond for 1,4s)...\n",
      "INFO:geometry:\t\tlooping through exceptions calculating growth indices, and adding appropriate interactions to custom bond force.\n",
      "INFO:geometry:\t\tthere are 23095 in the reference Nonbonded force\n",
      "WARNING:geometry:\t\t\t\t\tchiral atom <Atom 467 (CA) of chain 0 residue 29 (TYR)> with neighbors [<Atom 468 (C) of chain 0 residue 29 (TYR)>, <Atom 470 (CB) of chain 0 residue 29 (TYR)>, <Atom 479 (HA) of chain 0 residue 29 (TYR)>, <Atom 466 (N) of chain 0 residue 29 (TYR)>] is surrounded by 3 core neighbors.  omitting chirality bias torsion\n",
      "INFO:geometry:Neglected angle terms : []\n",
      "INFO:geometry:omitted_growth_terms: {'bonds': [(475, 476)], 'angles': [(473, 475, 476), (474, 476, 475), (475, 476, 477), (476, 475, 485)], 'torsions': [(471, 473, 475, 476), (472, 474, 476, 475), (473, 475, 476, 474), (473, 475, 476, 477), (474, 476, 475, 485), (475, 476, 474, 484), (475, 476, 477, 486), (475, 476, 477, 486), (476, 475, 473, 483), (477, 476, 475, 485), (473, 476, 475, 485), (474, 475, 476, 477)], '1,4s': [(473, 474), (472, 475), (471, 476), (473, 477), (476, 483), (475, 484), (474, 485), (477, 485), (475, 486)]}\n",
      "INFO:geometry:extra torsions: {0: (472, 474, 476, 477, [1, Quantity(value=0.0022213748613295614, unit=radian), Quantity(value=120.0, unit=kilocalorie/mole), 8]), 1: (476, 474, 472, 471, [1, Quantity(value=-3.1391340540962216, unit=radian), Quantity(value=120.0, unit=kilocalorie/mole), 7]), 2: (474, 472, 471, 473, [1, Quantity(value=3.1373539745559547, unit=radian), Quantity(value=120.0, unit=kilocalorie/mole), 6]), 3: (474, 472, 471, 470, [1, Quantity(value=-0.012555513663626172, unit=radian), Quantity(value=120.0, unit=kilocalorie/mole), 6]), 4: (472, 471, 473, 475, [1, Quantity(value=-3.137699428633435, unit=radian), Quantity(value=120.0, unit=kilocalorie/mole), 5]), 5: (470, 471, 473, 475, [1, Quantity(value=0.012140215312939961, unit=radian), Quantity(value=120.0, unit=kilocalorie/mole), 5])}\n",
      "INFO:geometry:neglected angle terms include []\n",
      "INFO:geometry:log probability choice of torsions and atom order: -23.864113527684417\n",
      "INFO:geometry:creating platform, integrators, and contexts; setting growth parameter\n"
     ]
    },
    {
     "name": "stdout",
     "output_type": "stream",
     "text": [
      "conducting subsequent work with the following platform: CUDA\n"
     ]
    },
    {
     "name": "stderr",
     "output_type": "stream",
     "text": [
      "INFO:geometry:setting atoms_with_positions context old positions\n"
     ]
    },
    {
     "name": "stdout",
     "output_type": "stream",
     "text": [
      "conducting subsequent work with the following platform: CUDA\n"
     ]
    },
    {
     "name": "stderr",
     "output_type": "stream",
     "text": [
      "INFO:geometry:There are 15 new atoms\n",
      "INFO:geometry:\treduced angle potential = 0.0033324911675136908.\n",
      "INFO:geometry:\treduced angle potential = 0.3912366896214685.\n",
      "INFO:geometry:\treduced angle potential = 0.0003958629468194509.\n",
      "INFO:geometry:\treduced angle potential = 0.023139460276920935.\n",
      "INFO:geometry:\treduced angle potential = 0.003461132150632138.\n",
      "INFO:geometry:\treduced angle potential = 0.011156063809450866.\n",
      "INFO:geometry:\treduced angle potential = 0.00017814989830316526.\n",
      "INFO:geometry:\treduced angle potential = 0.029359947559883824.\n",
      "INFO:geometry:\treduced angle potential = 0.0015750444126040653.\n",
      "INFO:geometry:\treduced angle potential = 0.01835030303996373.\n",
      "INFO:geometry:\treduced angle potential = 0.0037058646634591103.\n",
      "INFO:geometry:\treduced angle potential = 0.024550202950926903.\n",
      "INFO:geometry:\treduced angle potential = 0.0018480987373667994.\n",
      "INFO:geometry:\treduced angle potential = 4.1344416375553674e-05.\n",
      "INFO:geometry:\treduced angle potential = 0.0012493644424022138.\n",
      "INFO:geometry:\tbeginning construction of no_nonbonded final system...\n",
      "INFO:geometry:\tinitial no-nonbonded final system forces ['HarmonicBondForce', 'HarmonicAngleForce', 'PeriodicTorsionForce', 'NonbondedForce', 'MonteCarloBarostat']\n",
      "INFO:geometry:\tfinal no-nonbonded final system forces dict_keys(['HarmonicBondForce', 'HarmonicAngleForce', 'PeriodicTorsionForce', 'NonbondedForce'])\n",
      "INFO:geometry:\tthere are 735 bond forces in the no-nonbonded final system\n",
      "INFO:geometry:\tthere are 2635 angle forces in the no-nonbonded final system\n",
      "INFO:geometry:\tthere are 4969 torsion forces in the no-nonbonded final system\n",
      "INFO:geometry:reverse final system defined with 0 neglected angles.\n"
     ]
    },
    {
     "name": "stdout",
     "output_type": "stream",
     "text": [
      "conducting subsequent work with the following platform: CUDA\n",
      "conducting subsequent work with the following platform: CUDA\n"
     ]
    },
    {
     "name": "stderr",
     "output_type": "stream",
     "text": [
      "INFO:geometry:total reduced potential before atom placement: 2284.2531635280784\n"
     ]
    },
    {
     "name": "stdout",
     "output_type": "stream",
     "text": [
      "conducting subsequent work with the following platform: CUDA\n",
      "conducting subsequent work with the following platform: CUDA\n",
      "conducting subsequent work with the following platform: CUDA\n"
     ]
    },
    {
     "name": "stderr",
     "output_type": "stream",
     "text": [
      "INFO:geometry:total reduced energy added from growth system: 7.525144014625207\n",
      "INFO:geometry:final reduced energy 2289.721596224567\n",
      "INFO:geometry:sum of energies: 2291.7783075427037\n",
      "INFO:geometry:magnitude of difference in the energies: 2.056711318136772\n",
      "INFO:geometry:Final logp_proposal: 112.40727288660979\n"
     ]
    },
    {
     "name": "stdout",
     "output_type": "stream",
     "text": [
      "added energy components: [('CustomBondForce', 0.8890211788717974), ('CustomAngleForce', 1.3082326281445291), ('CustomTorsionForce', 11.549703246497025), ('CustomBondForce', -6.221813038888139)]\n"
     ]
    },
    {
     "name": "stderr",
     "output_type": "stream",
     "text": [
      "INFO:relative:Beginning nonbonded method, total particle, barostat, and exceptions retrieval...\n",
      "INFO:relative:Old system forces: dict_keys(['HarmonicBondForce', 'HarmonicAngleForce', 'PeriodicTorsionForce', 'NonbondedForce', 'MonteCarloBarostat'])\n",
      "INFO:relative:New system forces: dict_keys(['HarmonicBondForce', 'HarmonicAngleForce', 'PeriodicTorsionForce', 'NonbondedForce', 'MonteCarloBarostat'])\n",
      "INFO:relative:No unknown forces.\n",
      "INFO:relative:Nonbonded method to be used (i.e. from old system): 4\n",
      "INFO:relative:Adding and mapping old atoms to hybrid system...\n",
      "INFO:relative:Adding and mapping new atoms to hybrid system...\n",
      "INFO:relative:Added MonteCarloBarostat.\n",
      "INFO:relative:getDefaultPeriodicBoxVectors added to hybrid: [Quantity(value=Vec3(x=5.623900000000001, y=0.0, z=0.0), unit=nanometer), Quantity(value=Vec3(x=0.0, y=5.623900000000001, z=0.0), unit=nanometer), Quantity(value=Vec3(x=0.0, y=0.0, z=5.623900000000001), unit=nanometer)]\n",
      "INFO:relative:Determined atom classes.\n",
      "INFO:relative:Generating old system exceptions dict...\n",
      "INFO:relative:Generating new system exceptions dict...\n",
      "INFO:relative:Handling constraints...\n",
      "INFO:relative:Handling virtual sites...\n",
      "INFO:relative:\t_handle_virtual_sites: numVirtualSites: 0\n",
      "INFO:relative:Adding bond force terms...\n",
      "INFO:relative:Adding angle force terms...\n",
      "INFO:relative:Adding torsion force terms...\n",
      "INFO:relative:Adding nonbonded force terms...\n",
      "INFO:relative:\t_add_nonbonded_force_terms: <simtk.openmm.openmm.NonbondedForce; proxy of <Swig Object of type 'OpenMM::NonbondedForce *' at 0x2b1a2279d6f0> > added to hybrid system\n",
      "INFO:relative:\t_add_nonbonded_force_terms: nonbonded_method is PME or Ewald\n",
      "INFO:relative:\t_add_nonbonded_force_terms: 4 added to standard nonbonded force\n",
      "INFO:relative:\t_add_nonbonded_force_terms: 2 added to sterics_custom_nonbonded force\n",
      "INFO:relative:\t_add_nonbonded_force_terms: <simtk.openmm.openmm.CustomNonbondedForce; proxy of <Swig Object of type 'OpenMM::CustomNonbondedForce *' at 0x2b1a2279d210> > added to hybrid system\n",
      "INFO:relative:Handling harmonic bonds...\n",
      "INFO:relative:\thandle_harmonic_bonds: looping through old_system to add relevant terms...\n",
      "INFO:relative:\thandle_harmonic_bonds: looping through new_system to add relevant terms...\n",
      "INFO:relative:Handling harmonic angles...\n",
      "INFO:relative:\thandle_harmonic_angles: looping through old_system to add relevant terms...\n",
      "INFO:relative:\thandle_harmonic_angles: looping through new_system to add relevant terms...\n",
      "INFO:relative:Handling torsion forces...\n",
      "INFO:relative:\thandle_periodic_torsion_forces: looping through old_system to add relevant terms...\n",
      "INFO:relative:\thandle_periodic_torsion_forces: looping through new_system to add relevant terms...\n",
      "INFO:relative:Handling nonbonded forces...\n",
      "INFO:relative:\thandle_nonbonded: looping through all particles in hybrid...\n",
      "INFO:relative:\thandle_nonbonded: Handling Interaction Groups...\n",
      "INFO:relative:\thandle_nonbonded: Handling Hybrid Exceptions...\n",
      "INFO:relative:\thandle_nonbonded: Handling Original Exceptions...\n",
      "INFO:relative:Handling unique_new/old interaction exceptions...\n",
      "INFO:relative:There are old or new system exceptions...proceeding.\n"
     ]
    },
    {
     "name": "stdout",
     "output_type": "stream",
     "text": [
      "conducting subsequent work with the following platform: CUDA\n",
      "conducting subsequent work with the following platform: CUDA\n",
      "\t\t\tHarmonicBondForce: 100.0580935467286\n",
      "\t\t\tHarmonicAngleForce: 356.00869902734007\n",
      "\t\t\tPeriodicTorsionForce: 1842.7007321949488\n",
      "\t\t\tNonbondedForce: -6177.832725621592\n",
      "\t\t\tAndersenThermostat: 0.0\n",
      "\t\t\tMonteCarloBarostat: 0.0\n",
      "conducting subsequent work with the following platform: CUDA\n",
      "\t\t\tCustomBondForce: 2.77893418543332\n",
      "\t\t\tHarmonicBondForce: 97.65095901344631\n",
      "\t\t\tCustomAngleForce: 7.841561373685756\n",
      "\t\t\tHarmonicAngleForce: 353.4660064826564\n",
      "\t\t\tCustomTorsionForce: 0.014489241359707245\n",
      "\t\t\tPeriodicTorsionForce: 1850.7774100658196\n",
      "\t\t\tNonbondedForce: -6067.711890892101\n",
      "\t\t\tCustomNonbondedForce: -94.48050443291642\n",
      "\t\t\tCustomBondForce: 0.0\n",
      "\t\t\tAndersenThermostat: 0.0\n",
      "\t\t\tMonteCarloBarostat: 0.0\n",
      "conducting subsequent work with the following platform: CUDA\n",
      "\t\t\tCustomBondForce: 2.77893418543332\n",
      "\t\t\tHarmonicBondForce: 97.65095901344631\n",
      "\t\t\tCustomAngleForce: 7.841561373685756\n",
      "\t\t\tHarmonicAngleForce: 353.4660064826564\n",
      "\t\t\tCustomTorsionForce: 0.01431116588051033\n",
      "\t\t\tPeriodicTorsionForce: 1850.7774100658196\n",
      "\t\t\tNonbondedForce: -6064.607447993978\n",
      "\t\t\tCustomNonbondedForce: -77.14937078187884\n",
      "\t\t\tCustomBondForce: 0.0\n",
      "\t\t\tAndersenThermostat: 0.0\n",
      "\t\t\tMonteCarloBarostat: 0.0\n",
      "conducting subsequent work with the following platform: CUDA\n"
     ]
    },
    {
     "name": "stderr",
     "output_type": "stream",
     "text": [
      "INFO:proposal_generator:\tConducting polymer point mutation proposal...\n"
     ]
    },
    {
     "name": "stdout",
     "output_type": "stream",
     "text": [
      "\t\t\tHarmonicBondForce: 99.54076510907043\n",
      "\t\t\tHarmonicAngleForce: 359.96344318258167\n",
      "\t\t\tPeriodicTorsionForce: 1838.510615212706\n",
      "\t\t\tNonbondedForce: -6132.710368482423\n",
      "\t\t\tAndersenThermostat: 0.0\n",
      "\t\t\tMonteCarloBarostat: 0.0\n",
      "1\n"
     ]
    },
    {
     "name": "stderr",
     "output_type": "stream",
     "text": [
      "INFO:proposal_generator:Using core to chose best atom map\n",
      "INFO:proposal_generator:Scaffold has symmetry of 0\n",
      "WARNING:proposal_generator:Two molecules are not similar to have a common scaffold\n",
      "WARNING:proposal_generator:Proceeding with direct mapping of molecules, but please check atom mapping and the geometry of the ligands.\n",
      "INFO:proposal_generator:len [{0: 0, 1: 8, 2: 9}, {0: 0, 1: 8, 3: 9}, {0: 0, 2: 8, 3: 9}]\n",
      "INFO:proposal_generator:{0: 0, 1: 8, 2: 9}\n",
      "INFO:proposal_generator:{0: 0, 1: 8, 3: 9}\n",
      "INFO:proposal_generator:{0: 0, 2: 8, 3: 9}\n",
      "INFO:proposal_generator:Finding best map using matching_criterion name\n",
      "INFO:proposal_generator:3 have 3 core atoms. Using matching_criterion name to return the best of those\n",
      "INFO:proposal_generator:{0: 0, 1: 8, 2: 9}\n",
      "INFO:geometry:propose: performing forward proposal\n",
      "INFO:geometry:propose: unique new atoms detected; proceeding to _logp_propose...\n",
      "INFO:geometry:Conducting forward proposal...\n",
      "INFO:geometry:Computing proposal order with NetworkX...\n",
      "INFO:geometry:number of atoms to be placed: 4\n",
      "INFO:geometry:Atom index proposal order is [470, 473, 475, 474]\n",
      "INFO:geometry:omitted_bonds: []\n",
      "INFO:geometry:direction of proposal is forward; creating atoms_with_positions and new positions from old system/topology...\n",
      "INFO:geometry:creating growth system...\n",
      "INFO:geometry:\tcreating bond force...\n",
      "INFO:geometry:\tthere are 1616 bonds in reference force.\n",
      "INFO:geometry:\tcreating angle force...\n",
      "INFO:geometry:\tthere are 5718 angles in reference force.\n",
      "INFO:geometry:\tcreating torsion force...\n",
      "INFO:geometry:\tcreating extra torsions force...\n",
      "INFO:geometry:\tthere are 10778 torsions in reference force.\n",
      "INFO:geometry:\tcreating nonbonded force...\n",
      "INFO:geometry:\t\tgrabbing reference nonbonded method, cutoff, switching function, switching distance...\n",
      "INFO:geometry:\t\tcreating nonbonded exception force (i.e. custom bond for 1,4s)...\n",
      "INFO:geometry:\t\tlooping through exceptions calculating growth indices, and adding appropriate interactions to custom bond force.\n",
      "INFO:geometry:\t\tthere are 46477 in the reference Nonbonded force\n",
      "WARNING:geometry:\t\t\t\t\tchiral atom <Atom 467 (CA) of chain 0 residue 29 (ALA)> with neighbors [<Atom 468 (C) of chain 0 residue 29 (ALA)>, <Atom 470 (CB) of chain 0 residue 29 (ALA)>, <Atom 472 (HA) of chain 0 residue 29 (ALA)>, <Atom 466 (N) of chain 0 residue 29 (ALA)>] is surrounded by 3 core neighbors.  omitting chirality bias torsion\n",
      "INFO:geometry:Neglected angle terms : []\n",
      "INFO:geometry:omitted_growth_terms: {'bonds': [], 'angles': [], 'torsions': [], '1,4s': []}\n",
      "INFO:geometry:extra torsions: {}\n",
      "INFO:geometry:neglected angle terms include []\n",
      "INFO:geometry:log probability choice of torsions and atom order: -5.78074351579233\n",
      "INFO:geometry:creating platform, integrators, and contexts; setting growth parameter\n"
     ]
    },
    {
     "name": "stdout",
     "output_type": "stream",
     "text": [
      "conducting subsequent work with the following platform: CUDA\n"
     ]
    },
    {
     "name": "stderr",
     "output_type": "stream",
     "text": [
      "INFO:geometry:setting atoms_with_positions context new positions\n"
     ]
    },
    {
     "name": "stdout",
     "output_type": "stream",
     "text": [
      "conducting subsequent work with the following platform: CUDA\n"
     ]
    },
    {
     "name": "stderr",
     "output_type": "stream",
     "text": [
      "INFO:geometry:There are 4 new atoms\n",
      "INFO:geometry:\treduced angle potential = 0.044156804785178375.\n",
      "INFO:geometry:\treduced angle potential = 0.1121808155505948.\n",
      "INFO:geometry:\treduced angle potential = 0.596859980816092.\n",
      "INFO:geometry:\treduced angle potential = 0.1008140953173879.\n",
      "INFO:geometry:\tbeginning construction of no_nonbonded final system...\n",
      "INFO:geometry:\tinitial no-nonbonded final system forces ['HarmonicBondForce', 'HarmonicAngleForce', 'PeriodicTorsionForce', 'NonbondedForce', 'MonteCarloBarostat']\n",
      "INFO:geometry:\tfinal no-nonbonded final system forces dict_keys(['HarmonicBondForce', 'HarmonicAngleForce', 'PeriodicTorsionForce', 'NonbondedForce'])\n",
      "INFO:geometry:\tthere are 1616 bond forces in the no-nonbonded final system\n",
      "INFO:geometry:\tthere are 5718 angle forces in the no-nonbonded final system\n",
      "INFO:geometry:\tthere are 10778 torsion forces in the no-nonbonded final system\n",
      "INFO:geometry:forward final system defined with 0 neglected angles.\n"
     ]
    },
    {
     "name": "stdout",
     "output_type": "stream",
     "text": [
      "conducting subsequent work with the following platform: CUDA\n",
      "conducting subsequent work with the following platform: CUDA\n"
     ]
    },
    {
     "name": "stderr",
     "output_type": "stream",
     "text": [
      "INFO:geometry:total reduced potential before atom placement: 4797.480845698219\n"
     ]
    },
    {
     "name": "stdout",
     "output_type": "stream",
     "text": [
      "conducting subsequent work with the following platform: CUDA\n",
      "conducting subsequent work with the following platform: CUDA\n",
      "conducting subsequent work with the following platform: CUDA\n"
     ]
    },
    {
     "name": "stderr",
     "output_type": "stream",
     "text": [
      "INFO:geometry:total reduced energy added from growth system: 24.847352166502795\n",
      "INFO:geometry:final reduced energy 4822.3281992520215\n",
      "INFO:geometry:sum of energies: 4822.328197864722\n",
      "INFO:geometry:magnitude of difference in the energies: 1.3872995552333123e-06\n",
      "INFO:geometry:Final logp_proposal: 25.092481658761226\n"
     ]
    },
    {
     "name": "stdout",
     "output_type": "stream",
     "text": [
      "added energy components: [('CustomBondForce', 0.369967752128222), ('CustomAngleForce', 1.3413165923301542), ('CustomTorsionForce', 8.198022291922474), ('CustomBondForce', 14.938045530121947)]\n"
     ]
    },
    {
     "name": "stderr",
     "output_type": "stream",
     "text": [
      "INFO:geometry:logp_reverse: performing reverse proposal\n",
      "INFO:geometry:logp_reverse: unique new atoms detected; proceeding to _logp_propose...\n",
      "INFO:geometry:Conducting forward proposal...\n",
      "INFO:geometry:Computing proposal order with NetworkX...\n",
      "INFO:geometry:number of atoms to be placed: 15\n",
      "INFO:geometry:Atom index proposal order is [470, 471, 473, 472, 474, 475, 476, 477, 484, 481, 480, 482, 486, 485, 483]\n",
      "INFO:geometry:omitted_bonds: [(475, 476)]\n",
      "INFO:geometry:direction of proposal is reverse; creating atoms_with_positions from old system/topology\n",
      "INFO:geometry:creating growth system...\n",
      "INFO:geometry:\tcreating bond force...\n",
      "INFO:geometry:\tthere are 1624 bonds in reference force.\n",
      "INFO:geometry:\tcreating angle force...\n",
      "INFO:geometry:\tthere are 5737 angles in reference force.\n",
      "INFO:geometry:\tcreating torsion force...\n",
      "INFO:geometry:\tcreating extra torsions force...\n",
      "INFO:geometry:\tthere are 10822 torsions in reference force.\n",
      "INFO:geometry:\tcreating nonbonded force...\n",
      "INFO:geometry:\t\tgrabbing reference nonbonded method, cutoff, switching function, switching distance...\n",
      "INFO:geometry:\t\tcreating nonbonded exception force (i.e. custom bond for 1,4s)...\n",
      "INFO:geometry:\t\tlooping through exceptions calculating growth indices, and adding appropriate interactions to custom bond force.\n",
      "INFO:geometry:\t\tthere are 46537 in the reference Nonbonded force\n",
      "WARNING:geometry:\t\t\t\t\tchiral atom <Atom 467 (CA) of chain 0 residue 29 (TYR)> with neighbors [<Atom 468 (C) of chain 0 residue 29 (TYR)>, <Atom 470 (CB) of chain 0 residue 29 (TYR)>, <Atom 479 (HA) of chain 0 residue 29 (TYR)>, <Atom 466 (N) of chain 0 residue 29 (TYR)>] is surrounded by 3 core neighbors.  omitting chirality bias torsion\n",
      "INFO:geometry:Neglected angle terms : []\n",
      "INFO:geometry:omitted_growth_terms: {'bonds': [(475, 476)], 'angles': [(473, 475, 476), (474, 476, 475), (475, 476, 477), (476, 475, 485)], 'torsions': [(471, 473, 475, 476), (472, 474, 476, 475), (473, 475, 476, 474), (473, 475, 476, 477), (474, 476, 475, 485), (475, 476, 474, 484), (475, 476, 477, 486), (475, 476, 477, 486), (476, 475, 473, 483), (477, 476, 475, 485), (473, 476, 475, 485), (474, 475, 476, 477)], '1,4s': [(473, 474), (472, 475), (471, 476), (473, 477), (476, 483), (475, 484), (474, 485), (477, 485), (475, 486)]}\n",
      "INFO:geometry:extra torsions: {0: (472, 474, 476, 477, [1, Quantity(value=0.0022213748613295614, unit=radian), Quantity(value=120.0, unit=kilocalorie/mole), 8]), 1: (476, 474, 472, 471, [1, Quantity(value=-3.1391340540962216, unit=radian), Quantity(value=120.0, unit=kilocalorie/mole), 7]), 2: (474, 472, 471, 473, [1, Quantity(value=3.1373539745559547, unit=radian), Quantity(value=120.0, unit=kilocalorie/mole), 5]), 3: (474, 472, 471, 470, [1, Quantity(value=-0.012555513663626172, unit=radian), Quantity(value=120.0, unit=kilocalorie/mole), 5]), 4: (472, 471, 473, 475, [1, Quantity(value=-3.137699428633435, unit=radian), Quantity(value=120.0, unit=kilocalorie/mole), 6]), 5: (470, 471, 473, 475, [1, Quantity(value=0.012140215312939961, unit=radian), Quantity(value=120.0, unit=kilocalorie/mole), 6])}\n",
      "INFO:geometry:neglected angle terms include []\n",
      "INFO:geometry:log probability choice of torsions and atom order: -23.20081931027415\n",
      "INFO:geometry:creating platform, integrators, and contexts; setting growth parameter\n"
     ]
    },
    {
     "name": "stdout",
     "output_type": "stream",
     "text": [
      "conducting subsequent work with the following platform: CUDA\n"
     ]
    },
    {
     "name": "stderr",
     "output_type": "stream",
     "text": [
      "INFO:geometry:setting atoms_with_positions context old positions\n"
     ]
    },
    {
     "name": "stdout",
     "output_type": "stream",
     "text": [
      "conducting subsequent work with the following platform: CUDA\n"
     ]
    },
    {
     "name": "stderr",
     "output_type": "stream",
     "text": [
      "INFO:geometry:There are 15 new atoms\n",
      "INFO:geometry:\treduced angle potential = 0.019025737227240398.\n",
      "INFO:geometry:\treduced angle potential = 0.3912366896214685.\n",
      "INFO:geometry:\treduced angle potential = 0.0003958629468194509.\n",
      "INFO:geometry:\treduced angle potential = 0.023139460276920935.\n",
      "INFO:geometry:\treduced angle potential = 0.011156063809450866.\n",
      "INFO:geometry:\treduced angle potential = 0.003461132150632138.\n",
      "INFO:geometry:\treduced angle potential = 0.00017814989830316526.\n",
      "INFO:geometry:\treduced angle potential = 0.034166505831678816.\n",
      "INFO:geometry:\treduced angle potential = 0.0015750444126040653.\n",
      "INFO:geometry:\treduced angle potential = 4.1344416375553674e-05.\n",
      "INFO:geometry:\treduced angle potential = 0.024550202950926903.\n",
      "INFO:geometry:\treduced angle potential = 0.01835030303996373.\n",
      "INFO:geometry:\treduced angle potential = 0.0037058646634591103.\n",
      "INFO:geometry:\treduced angle potential = 0.0012493644424022138.\n",
      "INFO:geometry:\treduced angle potential = 0.0018480987373667994.\n",
      "INFO:geometry:\tbeginning construction of no_nonbonded final system...\n",
      "INFO:geometry:\tinitial no-nonbonded final system forces ['HarmonicBondForce', 'HarmonicAngleForce', 'PeriodicTorsionForce', 'NonbondedForce', 'MonteCarloBarostat']\n",
      "INFO:geometry:\tfinal no-nonbonded final system forces dict_keys(['HarmonicBondForce', 'HarmonicAngleForce', 'PeriodicTorsionForce', 'NonbondedForce'])\n",
      "INFO:geometry:\tthere are 1624 bond forces in the no-nonbonded final system\n",
      "INFO:geometry:\tthere are 5737 angle forces in the no-nonbonded final system\n",
      "INFO:geometry:\tthere are 10822 torsion forces in the no-nonbonded final system\n",
      "INFO:geometry:reverse final system defined with 0 neglected angles.\n"
     ]
    },
    {
     "name": "stdout",
     "output_type": "stream",
     "text": [
      "conducting subsequent work with the following platform: CUDA\n",
      "conducting subsequent work with the following platform: CUDA\n"
     ]
    },
    {
     "name": "stderr",
     "output_type": "stream",
     "text": [
      "INFO:geometry:total reduced potential before atom placement: 4797.481419861431\n"
     ]
    },
    {
     "name": "stdout",
     "output_type": "stream",
     "text": [
      "conducting subsequent work with the following platform: CUDA\n",
      "conducting subsequent work with the following platform: CUDA\n",
      "conducting subsequent work with the following platform: CUDA\n"
     ]
    },
    {
     "name": "stderr",
     "output_type": "stream",
     "text": [
      "INFO:geometry:total reduced energy added from growth system: 7.525144014625207\n",
      "INFO:geometry:final reduced energy 4802.949852557921\n",
      "INFO:geometry:sum of energies: 4805.006563876056\n",
      "INFO:geometry:magnitude of difference in the energies: 2.0567113181354078\n",
      "INFO:geometry:Final logp_proposal: 112.85335644128457\n"
     ]
    },
    {
     "name": "stdout",
     "output_type": "stream",
     "text": [
      "added energy components: [('CustomBondForce', 0.8890211788717974), ('CustomAngleForce', 1.3082326281445291), ('CustomTorsionForce', 11.549703246497025), ('CustomBondForce', -6.221813038888139)]\n"
     ]
    },
    {
     "name": "stderr",
     "output_type": "stream",
     "text": [
      "INFO:relative:Beginning nonbonded method, total particle, barostat, and exceptions retrieval...\n",
      "INFO:relative:Old system forces: dict_keys(['HarmonicBondForce', 'HarmonicAngleForce', 'PeriodicTorsionForce', 'NonbondedForce', 'MonteCarloBarostat'])\n",
      "INFO:relative:New system forces: dict_keys(['HarmonicBondForce', 'HarmonicAngleForce', 'PeriodicTorsionForce', 'NonbondedForce', 'MonteCarloBarostat'])\n",
      "INFO:relative:No unknown forces.\n",
      "INFO:relative:Nonbonded method to be used (i.e. from old system): 4\n",
      "INFO:relative:Adding and mapping old atoms to hybrid system...\n",
      "INFO:relative:Adding and mapping new atoms to hybrid system...\n",
      "INFO:relative:Added MonteCarloBarostat.\n",
      "INFO:relative:getDefaultPeriodicBoxVectors added to hybrid: [Quantity(value=Vec3(x=6.9997, y=0.0, z=0.0), unit=nanometer), Quantity(value=Vec3(x=0.0, y=6.9997, z=0.0), unit=nanometer), Quantity(value=Vec3(x=0.0, y=0.0, z=6.9997), unit=nanometer)]\n",
      "INFO:relative:Determined atom classes.\n",
      "INFO:relative:Generating old system exceptions dict...\n",
      "INFO:relative:Generating new system exceptions dict...\n",
      "INFO:relative:Handling constraints...\n",
      "INFO:relative:Handling virtual sites...\n",
      "INFO:relative:\t_handle_virtual_sites: numVirtualSites: 0\n",
      "INFO:relative:Adding bond force terms...\n",
      "INFO:relative:Adding angle force terms...\n",
      "INFO:relative:Adding torsion force terms...\n",
      "INFO:relative:Adding nonbonded force terms...\n",
      "INFO:relative:\t_add_nonbonded_force_terms: <simtk.openmm.openmm.NonbondedForce; proxy of <Swig Object of type 'OpenMM::NonbondedForce *' at 0x2b1a7e437240> > added to hybrid system\n",
      "INFO:relative:\t_add_nonbonded_force_terms: nonbonded_method is PME or Ewald\n",
      "INFO:relative:\t_add_nonbonded_force_terms: 4 added to standard nonbonded force\n",
      "INFO:relative:\t_add_nonbonded_force_terms: 2 added to sterics_custom_nonbonded force\n",
      "INFO:relative:\t_add_nonbonded_force_terms: <simtk.openmm.openmm.CustomNonbondedForce; proxy of <Swig Object of type 'OpenMM::CustomNonbondedForce *' at 0x2b1a7e437450> > added to hybrid system\n",
      "INFO:relative:Handling harmonic bonds...\n",
      "INFO:relative:\thandle_harmonic_bonds: looping through old_system to add relevant terms...\n",
      "INFO:relative:\thandle_harmonic_bonds: looping through new_system to add relevant terms...\n",
      "INFO:relative:Handling harmonic angles...\n",
      "INFO:relative:\thandle_harmonic_angles: looping through old_system to add relevant terms...\n",
      "INFO:relative:\thandle_harmonic_angles: looping through new_system to add relevant terms...\n",
      "INFO:relative:Handling torsion forces...\n",
      "INFO:relative:\thandle_periodic_torsion_forces: looping through old_system to add relevant terms...\n",
      "INFO:relative:\thandle_periodic_torsion_forces: looping through new_system to add relevant terms...\n",
      "INFO:relative:Handling nonbonded forces...\n",
      "INFO:relative:\thandle_nonbonded: looping through all particles in hybrid...\n",
      "INFO:relative:\thandle_nonbonded: Handling Interaction Groups...\n",
      "INFO:relative:\thandle_nonbonded: Handling Hybrid Exceptions...\n",
      "INFO:relative:\thandle_nonbonded: Handling Original Exceptions...\n",
      "INFO:relative:Handling unique_new/old interaction exceptions...\n",
      "INFO:relative:There are old or new system exceptions...proceeding.\n"
     ]
    },
    {
     "name": "stdout",
     "output_type": "stream",
     "text": [
      "conducting subsequent work with the following platform: CUDA\n",
      "conducting subsequent work with the following platform: CUDA\n",
      "\t\t\tHarmonicBondForce: 189.69655643562666\n",
      "\t\t\tHarmonicAngleForce: 791.7773839676565\n",
      "\t\t\tPeriodicTorsionForce: 3830.521840699088\n",
      "\t\t\tNonbondedForce: -65426.689422382704\n",
      "\t\t\tAndersenThermostat: 0.0\n",
      "\t\t\tMonteCarloBarostat: 0.0\n",
      "conducting subsequent work with the following platform: CUDA\n",
      "\t\t\tCustomBondForce: 2.77893418543332\n",
      "\t\t\tHarmonicBondForce: 187.2875900023216\n",
      "\t\t\tCustomAngleForce: 7.841561373685756\n",
      "\t\t\tHarmonicAngleForce: 785.2771391863009\n",
      "\t\t\tCustomTorsionForce: 0.05405409160040507\n",
      "\t\t\tPeriodicTorsionForce: 3838.66580662559\n",
      "\t\t\tNonbondedForce: -65302.4921218216\n",
      "\t\t\tCustomNonbondedForce: -109.2602961088798\n",
      "\t\t\tCustomBondForce: 0.0\n",
      "\t\t\tAndersenThermostat: 0.0\n",
      "\t\t\tMonteCarloBarostat: 0.0\n",
      "conducting subsequent work with the following platform: CUDA\n",
      "\t\t\tCustomBondForce: 2.77893418543332\n",
      "\t\t\tHarmonicBondForce: 187.2875900023216\n",
      "\t\t\tCustomAngleForce: 7.841561373685756\n",
      "\t\t\tHarmonicAngleForce: 785.2771391863009\n",
      "\t\t\tCustomTorsionForce: 0.0534799528979974\n",
      "\t\t\tPeriodicTorsionForce: 3838.66580662559\n",
      "\t\t\tNonbondedForce: -65281.28021908544\n",
      "\t\t\tCustomNonbondedForce: -82.50966673456311\n",
      "\t\t\tCustomBondForce: 0.0\n",
      "\t\t\tAndersenThermostat: 0.0\n",
      "\t\t\tMonteCarloBarostat: 0.0\n",
      "conducting subsequent work with the following platform: CUDA\n",
      "\t\t\tHarmonicBondForce: 189.17739609794566\n",
      "\t\t\tHarmonicAngleForce: 791.7745758862263\n",
      "\t\t\tPeriodicTorsionForce: 3826.4381808718304\n",
      "\t\t\tNonbondedForce: -65354.74291821776\n",
      "\t\t\tAndersenThermostat: 0.0\n",
      "\t\t\tMonteCarloBarostat: 0.0\n"
     ]
    }
   ],
   "source": [
    "conduct_endstate_validation = True\n",
    "htfs = []\n",
    "for i, (top, pos, sys) in enumerate(inputs):\n",
    "    print(i)\n",
    "    point_mutation_engine = PointMutationEngine(wildtype_topology=top,\n",
    "                                                         system_generator=system_generator,\n",
    "                                                         chain_id='1', # Denote the chain id allowed to mutate (it's always a string variable)\n",
    "                                                         max_point_mutants=1,\n",
    "                                                         residues_allowed_to_mutate=['29'], # The residue ids allowed to mutate\n",
    "                                                         allowed_mutations=[('29', 'ALA')], # The residue ids allowed to mutate with the three-letter code allowed to change\n",
    "                                                         aggregate=True) # Always allow aggregation\n",
    "\n",
    "    topology_proposal = point_mutation_engine.propose(sys, top)\n",
    "\n",
    "    new_positions, logp_proposal = geometry_engine.propose(topology_proposal, pos, beta, validate_energy_bookkeeping = False)\n",
    "    logp_reverse = geometry_engine.logp_reverse(topology_proposal, new_positions, pos, beta, validate_energy_bookkeeping = False)\n",
    "\n",
    "    forward_htf = HybridTopologyFactory(topology_proposal=topology_proposal,\n",
    "                                         current_positions=pos,\n",
    "                                         new_positions=new_positions,\n",
    "                                         use_dispersion_correction=False,\n",
    "                                         functions=None,\n",
    "                                         softcore_alpha=None,\n",
    "                                         bond_softening_constant=1.0,\n",
    "                                         angle_softening_constant=1.0,\n",
    "                                         soften_only_new=False,\n",
    "                                         neglected_new_angle_terms=[],\n",
    "                                         neglected_old_angle_terms=[],\n",
    "                                         softcore_LJ_v2=True,\n",
    "                                         softcore_electrostatics=True,\n",
    "                                         softcore_LJ_v2_alpha=0.85,\n",
    "                                         softcore_electrostatics_alpha=0.3,\n",
    "                                         softcore_sigma_Q=1.0,\n",
    "                                         interpolate_old_and_new_14s=False,\n",
    "                                         omitted_terms=None)\n",
    "    if not topology_proposal.unique_new_atoms:\n",
    "        assert geometry_engine.forward_final_context_reduced_potential == None, f\"There are no unique new atoms but the geometry_engine's final context reduced potential is not None (i.e. {self._geometry_engine.forward_final_context_reduced_potential})\"\n",
    "        assert geometry_engine.forward_atoms_with_positions_reduced_potential == None, f\"There are no unique new atoms but the geometry_engine's forward atoms-with-positions-reduced-potential in not None (i.e. { self._geometry_engine.forward_atoms_with_positions_reduced_potential})\"\n",
    "        vacuum_added_valence_energy = 0.0\n",
    "    else:\n",
    "        added_valence_energy = geometry_engine.forward_final_context_reduced_potential - geometry_engine.forward_atoms_with_positions_reduced_potential\n",
    "\n",
    "    if not topology_proposal.unique_old_atoms:\n",
    "        assert geometry_engine.reverse_final_context_reduced_potential == None, f\"There are no unique old atoms but the geometry_engine's final context reduced potential is not None (i.e. {self._geometry_engine.reverse_final_context_reduced_potential})\"\n",
    "        assert geometry_engine.reverse_atoms_with_positions_reduced_potential == None, f\"There are no unique old atoms but the geometry_engine's atoms-with-positions-reduced-potential in not None (i.e. { self._geometry_engine.reverse_atoms_with_positions_reduced_potential})\"\n",
    "        subtracted_valence_energy = 0.0\n",
    "    else:\n",
    "        subtracted_valence_energy = geometry_engine.reverse_final_context_reduced_potential - geometry_engine.reverse_atoms_with_positions_reduced_potential\n",
    "\n",
    "\n",
    "    if conduct_endstate_validation:\n",
    "        zero_state_error, one_state_error = validate_endstate_energies(forward_htf._topology_proposal, forward_htf, added_valence_energy, subtracted_valence_energy, beta=beta, ENERGY_THRESHOLD=ENERGY_THRESHOLD)\n",
    "        assert zero_state_error < ENERGY_THRESHOLD, f\"Reduced potential difference of the nonalchemical and alchemical Lambda = 0 state is above the threshold ({ENERGY_THRESHOLD}): {zero_state_error}\"\n",
    "        assert one_state_error < ENERGY_THRESHOLD, f\"Reduced potential difference of the nonalchemical and alchemical Lambda = 1 state is above the threshold ({ENERGY_THRESHOLD}): {one_state_error}\"\n",
    "    else:\n",
    "        pass\n"
   ]
  },
  {
   "cell_type": "code",
   "execution_count": 13,
   "metadata": {},
   "outputs": [
    {
     "data": {
      "text/plain": [
       "True"
      ]
     },
     "execution_count": 13,
     "metadata": {},
     "output_type": "execute_result"
    }
   ],
   "source": [
    "forward_htf.hybrid_system.usesPeriodicBoundaryConditions()"
   ]
  },
  {
   "cell_type": "code",
   "execution_count": null,
   "metadata": {},
   "outputs": [],
   "source": []
  }
 ],
 "metadata": {
  "kernelspec": {
   "display_name": "Python 3",
   "language": "python",
   "name": "python3"
  },
  "language_info": {
   "codemirror_mode": {
    "name": "ipython",
    "version": 3
   },
   "file_extension": ".py",
   "mimetype": "text/x-python",
   "name": "python",
   "nbconvert_exporter": "python",
   "pygments_lexer": "ipython3",
   "version": "3.7.3"
  }
 },
 "nbformat": 4,
 "nbformat_minor": 4
}
