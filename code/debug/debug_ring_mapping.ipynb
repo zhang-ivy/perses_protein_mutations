{
 "cells": [
  {
   "cell_type": "code",
   "execution_count": 8,
   "metadata": {},
   "outputs": [
    {
     "name": "stderr",
     "output_type": "stream",
     "text": [
      "INFO:proposal_generator:\tConducting polymer point mutation proposal...\n",
      "INFO:proposal_generator:Using core to chose best atom map\n",
      "INFO:proposal_generator:Scaffold has symmetry of 0\n",
      "WARNING:proposal_generator:Two molecules are not similar to have a common scaffold\n",
      "WARNING:proposal_generator:Proceeding with direct mapping of molecules, but please check atom mapping and the geometry of the ligands.\n",
      "INFO:proposal_generator:len [{0: 0, 8: 1, 9: 2}, {0: 0, 8: 1, 9: 3}, {0: 0, 9: 2, 8: 3}]\n",
      "INFO:proposal_generator:{0: 0, 8: 1, 9: 2}\n",
      "INFO:proposal_generator:{0: 0, 8: 1, 9: 3}\n",
      "INFO:proposal_generator:{0: 0, 9: 2, 8: 3}\n",
      "INFO:proposal_generator:0\n",
      "INFO:proposal_generator:0\n",
      "INFO:proposal_generator:0\n",
      "INFO:proposal_generator:Checking maps to see if they break rings\n",
      "INFO:proposal_generator:Finding best map using matching_criterion index\n",
      "INFO:proposal_generator:3 have 3 core atoms. Using matching_criterion index to return the best of those\n",
      "INFO:proposal_generator:{0: 0, 8: 1, 9: 2}\n",
      "INFO:geometry:propose: performing forward proposal\n",
      "INFO:geometry:propose: unique new atoms detected; proceeding to _logp_propose...\n",
      "INFO:geometry:Conducting forward proposal...\n",
      "INFO:geometry:Computing proposal order with NetworkX...\n",
      "INFO:geometry:number of atoms to be placed: 15\n",
      "INFO:geometry:Atom index proposal order is [10, 15, 16, 18, 25, 20, 21, 23, 11, 26, 24, 17, 12, 22, 19]\n",
      "INFO:geometry:omitted_bonds: [(23, 25)]\n",
      "INFO:geometry:direction of proposal is forward; creating atoms_with_positions and new positions from old system/topology...\n",
      "INFO:geometry:creating growth system...\n",
      "INFO:geometry:\tcreating bond force...\n",
      "INFO:geometry:\tthere are 17 bonds in reference force.\n",
      "INFO:geometry:\tcreating angle force...\n",
      "INFO:geometry:\tthere are 55 angles in reference force.\n",
      "INFO:geometry:\tcreating torsion force...\n",
      "INFO:geometry:\tcreating extra torsions force...\n",
      "INFO:geometry:\tthere are 86 torsions in reference force.\n",
      "INFO:geometry:\tcreating nonbonded force...\n",
      "INFO:geometry:\t\tgrabbing reference nonbonded method, cutoff, switching function, switching distance...\n",
      "INFO:geometry:\t\tcreating nonbonded exception force (i.e. custom bond for 1,4s)...\n",
      "INFO:geometry:\t\tlooping through exceptions calculating growth indices, and adding appropriate interactions to custom bond force.\n",
      "INFO:geometry:\t\tthere are 158 in the reference Nonbonded force\n",
      "WARNING:geometry:\t\t\t\t\tchiral atom <Atom 8 (CA) of chain 0 residue 1 (TYR)> with neighbors [<Atom 13 (C) of chain 0 residue 1 (TYR)>, <Atom 10 (CB) of chain 0 residue 1 (TYR)>, <Atom 9 (HA) of chain 0 residue 1 (TYR)>, <Atom 6 (N) of chain 0 residue 1 (TYR)>] is surrounded by 3 core neighbors.  omitting chirality bias torsion\n",
      "INFO:geometry:Neglected angle terms : []\n",
      "INFO:geometry:omitted_growth_terms: {'bonds': [(23, 25)], 'angles': [(15, 25, 23), (20, 23, 25), (23, 25, 26), (24, 23, 25)], 'torsions': [(10, 15, 25, 23), (15, 25, 23, 20), (15, 25, 23, 24), (16, 15, 25, 23), (18, 20, 23, 25), (20, 23, 25, 26), (21, 20, 23, 25), (24, 23, 25, 26), (20, 25, 23, 24), (15, 23, 25, 26)], '1,4s': [(15, 20), (10, 23), (16, 23), (15, 24), (18, 25), (21, 25), (20, 26), (24, 26)]}\n",
      "INFO:geometry:extra torsions: {0: (16, 18, 20, 21, [1, Quantity(value=0.0022213748613295614, unit=radian), Quantity(value=120.0, unit=kilocalorie/mole), 7]), 1: (16, 18, 20, 23, [1, Quantity(value=3.1412909688070316, unit=radian), Quantity(value=120.0, unit=kilocalorie/mole), 8]), 2: (20, 18, 16, 15, [1, Quantity(value=-3.1391340540962216, unit=radian), Quantity(value=120.0, unit=kilocalorie/mole), 6]), 3: (18, 16, 15, 25, [1, Quantity(value=3.1373539745559547, unit=radian), Quantity(value=120.0, unit=kilocalorie/mole), 5]), 4: (18, 16, 15, 10, [1, Quantity(value=-0.012555513663626172, unit=radian), Quantity(value=120.0, unit=kilocalorie/mole), 4])}\n",
      "INFO:geometry:neglected angle terms include []\n",
      "INFO:geometry:log probability choice of torsions and atom order: -23.858177382982507\n",
      "INFO:geometry:creating platform, integrators, and contexts; setting growth parameter\n"
     ]
    },
    {
     "name": "stdout",
     "output_type": "stream",
     "text": [
      "conducting subsequent work with the following platform: CUDA\n"
     ]
    },
    {
     "name": "stderr",
     "output_type": "stream",
     "text": [
      "INFO:geometry:setting atoms_with_positions context new positions\n"
     ]
    },
    {
     "name": "stdout",
     "output_type": "stream",
     "text": [
      "conducting subsequent work with the following platform: CUDA\n"
     ]
    },
    {
     "name": "stderr",
     "output_type": "stream",
     "text": [
      "INFO:geometry:There are 15 new atoms\n",
      "INFO:geometry:\treduced angle potential = 1.4710126720917218.\n",
      "INFO:geometry:\treduced angle potential = 1.8799074288744309.\n",
      "INFO:geometry:\treduced angle potential = 0.061877287858612774.\n",
      "INFO:geometry:\treduced angle potential = 1.5467700828846584.\n",
      "INFO:geometry:\treduced angle potential = 0.8823246459408118.\n",
      "INFO:geometry:\treduced angle potential = 0.11445915163424317.\n",
      "INFO:geometry:\treduced angle potential = 0.8317524552627369.\n",
      "INFO:geometry:\treduced angle potential = 1.1334002439568007.\n",
      "INFO:geometry:\treduced angle potential = 1.321720202697579.\n",
      "INFO:geometry:\treduced angle potential = 0.2646128635065251.\n",
      "INFO:geometry:\treduced angle potential = 0.717284662295471.\n",
      "INFO:geometry:\treduced angle potential = 0.18681552714494745.\n",
      "INFO:geometry:\treduced angle potential = 0.0012043886970951744.\n",
      "INFO:geometry:\treduced angle potential = 0.20573703489456452.\n",
      "INFO:geometry:\treduced angle potential = 0.00412847398426443.\n",
      "INFO:geometry:\tbeginning construction of no_nonbonded final system...\n",
      "INFO:geometry:\tinitial no-nonbonded final system forces ['HarmonicBondForce', 'HarmonicAngleForce', 'PeriodicTorsionForce', 'NonbondedForce']\n",
      "INFO:geometry:\tfinal no-nonbonded final system forces dict_keys(['HarmonicBondForce', 'HarmonicAngleForce', 'PeriodicTorsionForce', 'NonbondedForce'])\n",
      "INFO:geometry:\tthere are 17 bond forces in the no-nonbonded final system\n",
      "INFO:geometry:\tthere are 55 angle forces in the no-nonbonded final system\n",
      "INFO:geometry:\tthere are 86 torsion forces in the no-nonbonded final system\n",
      "INFO:geometry:forward final system defined with 0 neglected angles.\n"
     ]
    },
    {
     "name": "stdout",
     "output_type": "stream",
     "text": [
      "conducting subsequent work with the following platform: CUDA\n",
      "conducting subsequent work with the following platform: CUDA\n"
     ]
    },
    {
     "name": "stderr",
     "output_type": "stream",
     "text": [
      "INFO:geometry:total reduced potential before atom placement: 9.117927746118994\n"
     ]
    },
    {
     "name": "stdout",
     "output_type": "stream",
     "text": [
      "conducting subsequent work with the following platform: CUDA\n",
      "conducting subsequent work with the following platform: CUDA\n",
      "conducting subsequent work with the following platform: CUDA\n"
     ]
    },
    {
     "name": "stderr",
     "output_type": "stream",
     "text": [
      "INFO:geometry:total reduced energy added from growth system: 2.899858788703795\n",
      "INFO:geometry:final reduced energy 162.84385363681344\n",
      "INFO:geometry:sum of energies: 12.01778653482279\n",
      "INFO:geometry:magnitude of difference in the energies: 150.82606710199065\n",
      "INFO:geometry:Final logp_proposal: 98.26457403939403\n"
     ]
    },
    {
     "name": "stdout",
     "output_type": "stream",
     "text": [
      "added energy components: [('CustomBondForce', 4.191889918792965), ('CustomAngleForce', 34.53263471720115), ('CustomTorsionForce', 18.61460788878765), ('CustomBondForce', -54.439273736077965)]\n"
     ]
    },
    {
     "name": "stderr",
     "output_type": "stream",
     "text": [
      "INFO:geometry:logp_reverse: performing reverse proposal\n",
      "INFO:geometry:logp_reverse: unique new atoms detected; proceeding to _logp_propose...\n",
      "INFO:geometry:Conducting forward proposal...\n",
      "INFO:geometry:Computing proposal order with NetworkX...\n",
      "INFO:geometry:number of atoms to be placed: 4\n",
      "INFO:geometry:Atom index proposal order is [10, 12, 11, 15]\n",
      "INFO:geometry:omitted_bonds: []\n",
      "INFO:geometry:direction of proposal is reverse; creating atoms_with_positions from old system/topology\n",
      "INFO:geometry:creating growth system...\n",
      "INFO:geometry:\tcreating bond force...\n",
      "INFO:geometry:\tthere are 9 bonds in reference force.\n",
      "INFO:geometry:\tcreating angle force...\n",
      "INFO:geometry:\tthere are 36 angles in reference force.\n",
      "INFO:geometry:\tcreating torsion force...\n",
      "INFO:geometry:\tcreating extra torsions force...\n",
      "INFO:geometry:\tthere are 42 torsions in reference force.\n",
      "INFO:geometry:\tcreating nonbonded force...\n",
      "INFO:geometry:\t\tgrabbing reference nonbonded method, cutoff, switching function, switching distance...\n",
      "INFO:geometry:\t\tcreating nonbonded exception force (i.e. custom bond for 1,4s)...\n",
      "INFO:geometry:\t\tlooping through exceptions calculating growth indices, and adding appropriate interactions to custom bond force.\n",
      "INFO:geometry:\t\tthere are 98 in the reference Nonbonded force\n",
      "WARNING:geometry:\t\t\t\t\tchiral atom <Atom 8 (CA) of chain 0 residue 1 (ALA)> with neighbors [<Atom 13 (C) of chain 0 residue 1 (ALA)>, <Atom 10 (CB) of chain 0 residue 1 (ALA)>, <Atom 9 (HA) of chain 0 residue 1 (ALA)>, <Atom 6 (N) of chain 0 residue 1 (ALA)>] is surrounded by 3 core neighbors.  omitting chirality bias torsion\n",
      "INFO:geometry:Neglected angle terms : []\n",
      "INFO:geometry:omitted_growth_terms: {'bonds': [], 'angles': [], 'torsions': [], '1,4s': []}\n",
      "INFO:geometry:extra torsions: {}\n",
      "INFO:geometry:neglected angle terms include []\n",
      "INFO:geometry:log probability choice of torsions and atom order: -5.78074351579233\n",
      "INFO:geometry:creating platform, integrators, and contexts; setting growth parameter\n"
     ]
    },
    {
     "name": "stdout",
     "output_type": "stream",
     "text": [
      "conducting subsequent work with the following platform: CUDA\n"
     ]
    },
    {
     "name": "stderr",
     "output_type": "stream",
     "text": [
      "INFO:geometry:setting atoms_with_positions context old positions\n"
     ]
    },
    {
     "name": "stdout",
     "output_type": "stream",
     "text": [
      "conducting subsequent work with the following platform: CUDA\n"
     ]
    },
    {
     "name": "stderr",
     "output_type": "stream",
     "text": [
      "INFO:geometry:There are 4 new atoms\n",
      "INFO:geometry:\treduced angle potential = 0.08105429955152414.\n",
      "INFO:geometry:\treduced angle potential = 1.858184262206258e-06.\n",
      "INFO:geometry:\treduced angle potential = 8.578546222633222e-06.\n",
      "INFO:geometry:\treduced angle potential = 1.1491328110690509.\n",
      "INFO:geometry:\tbeginning construction of no_nonbonded final system...\n",
      "INFO:geometry:\tinitial no-nonbonded final system forces ['HarmonicBondForce', 'HarmonicAngleForce', 'PeriodicTorsionForce', 'NonbondedForce']\n",
      "INFO:geometry:\tfinal no-nonbonded final system forces dict_keys(['HarmonicBondForce', 'HarmonicAngleForce', 'PeriodicTorsionForce', 'NonbondedForce'])\n",
      "INFO:geometry:\tthere are 9 bond forces in the no-nonbonded final system\n",
      "INFO:geometry:\tthere are 36 angle forces in the no-nonbonded final system\n",
      "INFO:geometry:\tthere are 42 torsion forces in the no-nonbonded final system\n",
      "INFO:geometry:reverse final system defined with 0 neglected angles.\n"
     ]
    },
    {
     "name": "stdout",
     "output_type": "stream",
     "text": [
      "conducting subsequent work with the following platform: CUDA\n"
     ]
    },
    {
     "name": "stderr",
     "output_type": "stream",
     "text": [
      "INFO:geometry:total reduced potential before atom placement: 9.117927746118994\n"
     ]
    },
    {
     "name": "stdout",
     "output_type": "stream",
     "text": [
      "conducting subsequent work with the following platform: CUDA\n",
      "conducting subsequent work with the following platform: CUDA\n",
      "conducting subsequent work with the following platform: CUDA\n",
      "conducting subsequent work with the following platform: CUDA\n"
     ]
    },
    {
     "name": "stderr",
     "output_type": "stream",
     "text": [
      "INFO:geometry:total reduced energy added from growth system: 22.707579865893052\n",
      "INFO:geometry:final reduced energy 31.82550805089193\n",
      "INFO:geometry:sum of energies: 31.825507612012046\n",
      "INFO:geometry:magnitude of difference in the energies: 4.3887988354640584e-07\n",
      "INFO:geometry:Final logp_proposal: 24.966130282093154\n"
     ]
    },
    {
     "name": "stdout",
     "output_type": "stream",
     "text": [
      "added energy components: [('CustomBondForce', 0.0006997761422412573), ('CustomAngleForce', 1.9747549513848426), ('CustomTorsionForce', 7.25085640852447), ('CustomBondForce', 13.481268729841489)]\n"
     ]
    },
    {
     "name": "stderr",
     "output_type": "stream",
     "text": [
      "INFO:relative:Beginning nonbonded method, total particle, barostat, and exceptions retrieval...\n",
      "INFO:relative:Old system forces: dict_keys(['HarmonicBondForce', 'HarmonicAngleForce', 'PeriodicTorsionForce', 'NonbondedForce'])\n",
      "INFO:relative:New system forces: dict_keys(['HarmonicBondForce', 'HarmonicAngleForce', 'PeriodicTorsionForce', 'NonbondedForce'])\n",
      "INFO:relative:No unknown forces.\n",
      "INFO:relative:Nonbonded method to be used (i.e. from old system): 0\n",
      "INFO:relative:Adding and mapping old atoms to hybrid system...\n",
      "INFO:relative:Adding and mapping new atoms to hybrid system...\n",
      "INFO:relative:No MonteCarloBarostat added.\n",
      "INFO:relative:getDefaultPeriodicBoxVectors added to hybrid: [Quantity(value=Vec3(x=2.0, y=0.0, z=0.0), unit=nanometer), Quantity(value=Vec3(x=0.0, y=2.0, z=0.0), unit=nanometer), Quantity(value=Vec3(x=0.0, y=0.0, z=2.0), unit=nanometer)]\n",
      "INFO:relative:Determined atom classes.\n",
      "INFO:relative:Generating old system exceptions dict...\n",
      "INFO:relative:Generating new system exceptions dict...\n",
      "INFO:relative:Handling constraints...\n",
      "INFO:relative:Handling virtual sites...\n",
      "INFO:relative:\t_handle_virtual_sites: numVirtualSites: 0\n",
      "INFO:relative:Adding bond force terms...\n",
      "INFO:relative:Adding angle force terms...\n",
      "INFO:relative:Adding torsion force terms...\n",
      "INFO:relative:Adding nonbonded force terms...\n",
      "INFO:relative:\t_add_nonbonded_force_terms: <simtk.openmm.openmm.NonbondedForce; proxy of <Swig Object of type 'OpenMM::NonbondedForce *' at 0x2aef8a70eb10> > added to hybrid system\n",
      "INFO:relative:\t_add_nonbonded_force_terms: nonbonded_method is NoCutoff\n",
      "INFO:relative:\t_add_nonbonded_force_terms: 0 added to standard nonbonded force\n",
      "INFO:relative:\t_add_nonbonded_force_terms: 0 added to sterics_custom_nonbonded force\n",
      "INFO:relative:\t_add_nonbonded_force_terms: <simtk.openmm.openmm.CustomNonbondedForce; proxy of <Swig Object of type 'OpenMM::CustomNonbondedForce *' at 0x2aef8a70eab0> > added to hybrid system\n",
      "INFO:relative:Handling harmonic bonds...\n",
      "INFO:relative:\thandle_harmonic_bonds: looping through old_system to add relevant terms...\n",
      "INFO:relative:\thandle_harmonic_bonds: looping through new_system to add relevant terms...\n",
      "INFO:relative:Handling harmonic angles...\n",
      "INFO:relative:\thandle_harmonic_angles: looping through old_system to add relevant terms...\n",
      "INFO:relative:\thandle_harmonic_angles: looping through new_system to add relevant terms...\n",
      "INFO:relative:Handling torsion forces...\n",
      "INFO:relative:\thandle_periodic_torsion_forces: looping through old_system to add relevant terms...\n",
      "INFO:relative:\thandle_periodic_torsion_forces: looping through new_system to add relevant terms...\n",
      "INFO:relative:Handling nonbonded forces...\n",
      "INFO:relative:\thandle_nonbonded: looping through all particles in hybrid...\n",
      "INFO:relative:\thandle_nonbonded: Handling Interaction Groups...\n",
      "INFO:relative:\thandle_nonbonded: Handling Hybrid Exceptions...\n",
      "INFO:relative:\thandle_nonbonded: Handling Original Exceptions...\n",
      "INFO:relative:Handling unique_new/old interaction exceptions...\n",
      "INFO:relative:There are old or new system exceptions...proceeding.\n"
     ]
    },
    {
     "name": "stdout",
     "output_type": "stream",
     "text": [
      "conducting subsequent work with the following platform: CUDA\n",
      "conducting subsequent work with the following platform: CUDA\n",
      "\t\t\tHarmonicBondForce: 0.0333668919871159\n",
      "\t\t\tHarmonicAngleForce: 2.134739442948204\n",
      "\t\t\tPeriodicTorsionForce: 16.17613147765423\n",
      "\t\t\tNonbondedForce: -38.74516998365842\n",
      "\t\t\tAndersenThermostat: 0.0\n",
      "conducting subsequent work with the following platform: CUDA\n",
      "\t\t\tCustomBondForce: 0.032667115844874646\n",
      "\t\t\tHarmonicBondForce: 71.27212419993079\n",
      "\t\t\tCustomAngleForce: 0.15998449156336095\n",
      "\t\t\tHarmonicAngleForce: 59.34459708446177\n",
      "\t\t\tCustomTorsionForce: 0.0\n",
      "\t\t\tPeriodicTorsionForce: 37.13819026104514\n",
      "\t\t\tNonbondedForce: -39.32715150613507\n",
      "\t\t\tCustomNonbondedForce: 4.704582417313628\n",
      "\t\t\tCustomBondForce: 0.0\n",
      "\t\t\tAndersenThermostat: 0.0\n",
      "conducting subsequent work with the following platform: CUDA\n",
      "\t\t\tCustomBondForce: 0.032667115844874646\n",
      "\t\t\tHarmonicBondForce: 71.27212419993079\n",
      "\t\t\tCustomAngleForce: 0.15998449156336095\n",
      "\t\t\tHarmonicAngleForce: 59.34459708446177\n",
      "\t\t\tCustomTorsionForce: 0.0\n",
      "\t\t\tPeriodicTorsionForce: 37.13819026104514\n",
      "\t\t\tNonbondedForce: -209.64234682601807\n",
      "\t\t\tCustomNonbondedForce: 6098932913099.995\n",
      "\t\t\tCustomBondForce: 0.0\n",
      "\t\t\tAndersenThermostat: 0.0\n",
      "conducting subsequent work with the following platform: CUDA\n"
     ]
    },
    {
     "name": "stderr",
     "output_type": "stream",
     "text": [
      "WARNING:root:Reduced potential difference of the nonalchemical and alchemical Lambda = 1 state is above the threshold (0.01): 387014.32855250774\n"
     ]
    },
    {
     "name": "stdout",
     "output_type": "stream",
     "text": [
      "\t\t\tHarmonicBondForce: 71.30409153963342\n",
      "\t\t\tHarmonicAngleForce: 57.529826624640286\n",
      "\t\t\tPeriodicTorsionForce: 29.88733492210166\n",
      "\t\t\tNonbondedForce: 6098932525862.542\n",
      "\t\t\tAndersenThermostat: 0.0\n"
     ]
    }
   ],
   "source": [
    "from perses.app.relative_point_mutation_setup import PointMutationExecutor\n",
    "import simtk.openmm.app as app\n",
    "apo_delivery = PointMutationExecutor(f\"../input/ala_vacuum.pdb\", \n",
    "                              '1',\n",
    "                              '2', \n",
    "                              'TYR', \n",
    "                              phase='vacuum',\n",
    "                              barostat=None,\n",
    "                             periodic_forcefield_kwargs=None, \n",
    "                             nonperiodic_forcefield_kwargs={'nonbondedMethod': app.NoCutoff}\n",
    "                             )"
   ]
  },
  {
   "cell_type": "code",
   "execution_count": 9,
   "metadata": {},
   "outputs": [],
   "source": [
    "import pickle\n",
    "import os\n",
    "pickle.dump(apo_delivery.get_apo_htf(), open(\"ala_to_tyr.pickle\", \"wb\" ))"
   ]
  },
  {
   "cell_type": "code",
   "execution_count": 10,
   "metadata": {},
   "outputs": [],
   "source": [
    "import mdtraj as md\n",
    "import numpy as np\n",
    "\n",
    "top_new = md.Topology.from_openmm(apo_delivery.get_apo_htf()._topology_proposal.new_topology)\n",
    "traj = md.Trajectory(np.array(apo_delivery.get_apo_htf().new_positions(apo_delivery.get_apo_htf().hybrid_positions)), top_new)\n",
    "traj.save(\"../input/tyr.pdb\")"
   ]
  },
  {
   "cell_type": "code",
   "execution_count": null,
   "metadata": {},
   "outputs": [],
   "source": []
  },
  {
   "cell_type": "code",
   "execution_count": 2,
   "metadata": {},
   "outputs": [
    {
     "name": "stderr",
     "output_type": "stream",
     "text": [
      "INFO:root:solvating at 0.15 M using tip3p\n",
      "INFO:proposal_generator:\tConducting polymer point mutation proposal...\n"
     ]
    },
    {
     "ename": "AttributeError",
     "evalue": "'NoneType' object has no attribute 'GetIdx'",
     "output_type": "error",
     "traceback": [
      "\u001b[0;31m---------------------------------------------\u001b[0m",
      "\u001b[0;31mAttributeError\u001b[0mTraceback (most recent call last)",
      "\u001b[0;32m<ipython-input-2-c1b85d4dab28>\u001b[0m in \u001b[0;36m<module>\u001b[0;34m\u001b[0m\n\u001b[1;32m      4\u001b[0m                               \u001b[0;34m'1'\u001b[0m\u001b[0;34m,\u001b[0m\u001b[0;34m\u001b[0m\u001b[0;34m\u001b[0m\u001b[0m\n\u001b[1;32m      5\u001b[0m                               \u001b[0;34m'2'\u001b[0m\u001b[0;34m,\u001b[0m\u001b[0;34m\u001b[0m\u001b[0;34m\u001b[0m\u001b[0m\n\u001b[0;32m----> 6\u001b[0;31m                               \u001b[0;34m'PHE'\u001b[0m\u001b[0;34m\u001b[0m\u001b[0;34m\u001b[0m\u001b[0m\n\u001b[0m\u001b[1;32m      7\u001b[0m                              )\n",
      "\u001b[0;32m~/miniconda3/envs/perses-sims/lib/python3.7/site-packages/perses-0.7.1-py3.7.egg/perses/app/relative_point_mutation_setup.py\u001b[0m in \u001b[0;36m__init__\u001b[0;34m(self, protein_filename, mutation_chain_id, mutation_residue_id, proposed_residue, phase, conduct_endstate_validation, ligand_file, ligand_index, water_model, ionic_strength, forcefield_files, barostat, forcefield_kwargs, periodic_forcefield_kwargs, nonperiodic_forcefield_kwargs, small_molecule_forcefields, complex_box_dimensions, apo_box_dimensions, **kwargs)\u001b[0m\n\u001b[1;32m    228\u001b[0m                                                                  aggregate=True) # Always allow aggregation\n\u001b[1;32m    229\u001b[0m \u001b[0;34m\u001b[0m\u001b[0m\n\u001b[0;32m--> 230\u001b[0;31m             \u001b[0mtopology_proposal\u001b[0m \u001b[0;34m=\u001b[0m \u001b[0mpoint_mutation_engine\u001b[0m\u001b[0;34m.\u001b[0m\u001b[0mpropose\u001b[0m\u001b[0;34m(\u001b[0m\u001b[0msys\u001b[0m\u001b[0;34m,\u001b[0m \u001b[0mtop\u001b[0m\u001b[0;34m)\u001b[0m\u001b[0;34m\u001b[0m\u001b[0;34m\u001b[0m\u001b[0m\n\u001b[0m\u001b[1;32m    231\u001b[0m \u001b[0;34m\u001b[0m\u001b[0m\n\u001b[1;32m    232\u001b[0m             \u001b[0;31m# Only validate energy bookkeeping if the WT and proposed residues do not involve rings\u001b[0m\u001b[0;34m\u001b[0m\u001b[0;34m\u001b[0m\u001b[0;34m\u001b[0m\u001b[0m\n",
      "\u001b[0;32m~/miniconda3/envs/perses-sims/lib/python3.7/site-packages/perses-0.7.1-py3.7.egg/perses/rjmc/topology_proposal.py\u001b[0m in \u001b[0;36mpropose\u001b[0;34m(self, current_system, current_topology, current_metadata)\u001b[0m\n\u001b[1;32m   1562\u001b[0m         \u001b[0;31m# index_to_new_residues : dict, key : int (index) , value : str (three letter name of proposed residue)\u001b[0m\u001b[0;34m\u001b[0m\u001b[0;34m\u001b[0m\u001b[0;34m\u001b[0m\u001b[0m\n\u001b[1;32m   1563\u001b[0m         \u001b[0m_logger\u001b[0m\u001b[0;34m.\u001b[0m\u001b[0mdebug\u001b[0m\u001b[0;34m(\u001b[0m\u001b[0;34mf\"\\tconstructing atom map for TopologyProposal...\"\u001b[0m\u001b[0;34m)\u001b[0m\u001b[0;34m\u001b[0m\u001b[0;34m\u001b[0m\u001b[0m\n\u001b[0;32m-> 1564\u001b[0;31m         \u001b[0matom_map\u001b[0m\u001b[0;34m,\u001b[0m \u001b[0mold_res_to_oemol_map\u001b[0m\u001b[0;34m,\u001b[0m \u001b[0mnew_res_to_oemol_map\u001b[0m\u001b[0;34m,\u001b[0m \u001b[0mlocal_atom_map_stereo_sidechain\u001b[0m\u001b[0;34m,\u001b[0m \u001b[0mcurrent_oemol_sidechain\u001b[0m\u001b[0;34m,\u001b[0m \u001b[0mproposed_oemol_sidechain\u001b[0m\u001b[0;34m,\u001b[0m \u001b[0mold_oemol_res_copy\u001b[0m\u001b[0;34m,\u001b[0m \u001b[0mnew_oemol_res_copy\u001b[0m  \u001b[0;34m=\u001b[0m \u001b[0mself\u001b[0m\u001b[0;34m.\u001b[0m\u001b[0m_construct_atom_map\u001b[0m\u001b[0;34m(\u001b[0m\u001b[0mresidue_map\u001b[0m\u001b[0;34m,\u001b[0m \u001b[0mold_topology\u001b[0m\u001b[0;34m,\u001b[0m \u001b[0mindex_to_new_residues\u001b[0m\u001b[0;34m,\u001b[0m \u001b[0mnew_topology\u001b[0m\u001b[0;34m)\u001b[0m\u001b[0;34m\u001b[0m\u001b[0;34m\u001b[0m\u001b[0m\n\u001b[0m\u001b[1;32m   1565\u001b[0m \u001b[0;34m\u001b[0m\u001b[0m\n\u001b[1;32m   1566\u001b[0m         \u001b[0m_logger\u001b[0m\u001b[0;34m.\u001b[0m\u001b[0mdebug\u001b[0m\u001b[0;34m(\u001b[0m\u001b[0;34mf\"\\tadding indices of the 'C' backbone atom in the next residue and the 'N' atom in the previous\"\u001b[0m\u001b[0;34m)\u001b[0m\u001b[0;34m\u001b[0m\u001b[0;34m\u001b[0m\u001b[0m\n",
      "\u001b[0;32m~/miniconda3/envs/perses-sims/lib/python3.7/site-packages/perses-0.7.1-py3.7.egg/perses/rjmc/topology_proposal.py\u001b[0m in \u001b[0;36m_construct_atom_map\u001b[0;34m(self, residue_map, old_topology, index_to_new_residues, new_topology)\u001b[0m\n\u001b[1;32m   2107\u001b[0m \u001b[0;34m\u001b[0m\u001b[0m\n\u001b[1;32m   2108\u001b[0m         \u001b[0;31m#create bookkeeping dictionaries\u001b[0m\u001b[0;34m\u001b[0m\u001b[0;34m\u001b[0m\u001b[0;34m\u001b[0m\u001b[0m\n\u001b[0;32m-> 2109\u001b[0;31m         \u001b[0mold_res_to_oemol_map\u001b[0m \u001b[0;34m=\u001b[0m \u001b[0;34m{\u001b[0m\u001b[0matom\u001b[0m\u001b[0;34m.\u001b[0m\u001b[0mindex\u001b[0m\u001b[0;34m:\u001b[0m \u001b[0mcurrent_oemol\u001b[0m\u001b[0;34m.\u001b[0m\u001b[0mGetAtom\u001b[0m\u001b[0;34m(\u001b[0m\u001b[0moechem\u001b[0m\u001b[0;34m.\u001b[0m\u001b[0mOEHasAtomName\u001b[0m\u001b[0;34m(\u001b[0m\u001b[0matom\u001b[0m\u001b[0;34m.\u001b[0m\u001b[0mname\u001b[0m\u001b[0;34m)\u001b[0m\u001b[0;34m)\u001b[0m\u001b[0;34m.\u001b[0m\u001b[0mGetIdx\u001b[0m\u001b[0;34m(\u001b[0m\u001b[0;34m)\u001b[0m \u001b[0;32mfor\u001b[0m \u001b[0matom\u001b[0m \u001b[0;32min\u001b[0m \u001b[0mold_res\u001b[0m\u001b[0;34m.\u001b[0m\u001b[0matoms\u001b[0m\u001b[0;34m(\u001b[0m\u001b[0;34m)\u001b[0m\u001b[0;34m}\u001b[0m\u001b[0;34m\u001b[0m\u001b[0;34m\u001b[0m\u001b[0m\n\u001b[0m\u001b[1;32m   2110\u001b[0m         \u001b[0mnew_res_to_oemol_map\u001b[0m \u001b[0;34m=\u001b[0m \u001b[0;34m{\u001b[0m\u001b[0matom\u001b[0m\u001b[0;34m.\u001b[0m\u001b[0mindex\u001b[0m\u001b[0;34m:\u001b[0m \u001b[0mproposed_oemol\u001b[0m\u001b[0;34m.\u001b[0m\u001b[0mGetAtom\u001b[0m\u001b[0;34m(\u001b[0m\u001b[0moechem\u001b[0m\u001b[0;34m.\u001b[0m\u001b[0mOEHasAtomName\u001b[0m\u001b[0;34m(\u001b[0m\u001b[0matom\u001b[0m\u001b[0;34m.\u001b[0m\u001b[0mname\u001b[0m\u001b[0;34m)\u001b[0m\u001b[0;34m)\u001b[0m\u001b[0;34m.\u001b[0m\u001b[0mGetIdx\u001b[0m\u001b[0;34m(\u001b[0m\u001b[0;34m)\u001b[0m \u001b[0;32mfor\u001b[0m \u001b[0matom\u001b[0m \u001b[0;32min\u001b[0m \u001b[0mnew_res\u001b[0m\u001b[0;34m.\u001b[0m\u001b[0matoms\u001b[0m\u001b[0;34m(\u001b[0m\u001b[0;34m)\u001b[0m\u001b[0;34m}\u001b[0m\u001b[0;34m\u001b[0m\u001b[0;34m\u001b[0m\u001b[0m\n\u001b[1;32m   2111\u001b[0m \u001b[0;34m\u001b[0m\u001b[0m\n",
      "\u001b[0;32m~/miniconda3/envs/perses-sims/lib/python3.7/site-packages/perses-0.7.1-py3.7.egg/perses/rjmc/topology_proposal.py\u001b[0m in \u001b[0;36m<dictcomp>\u001b[0;34m(.0)\u001b[0m\n\u001b[1;32m   2107\u001b[0m \u001b[0;34m\u001b[0m\u001b[0m\n\u001b[1;32m   2108\u001b[0m         \u001b[0;31m#create bookkeeping dictionaries\u001b[0m\u001b[0;34m\u001b[0m\u001b[0;34m\u001b[0m\u001b[0;34m\u001b[0m\u001b[0m\n\u001b[0;32m-> 2109\u001b[0;31m         \u001b[0mold_res_to_oemol_map\u001b[0m \u001b[0;34m=\u001b[0m \u001b[0;34m{\u001b[0m\u001b[0matom\u001b[0m\u001b[0;34m.\u001b[0m\u001b[0mindex\u001b[0m\u001b[0;34m:\u001b[0m \u001b[0mcurrent_oemol\u001b[0m\u001b[0;34m.\u001b[0m\u001b[0mGetAtom\u001b[0m\u001b[0;34m(\u001b[0m\u001b[0moechem\u001b[0m\u001b[0;34m.\u001b[0m\u001b[0mOEHasAtomName\u001b[0m\u001b[0;34m(\u001b[0m\u001b[0matom\u001b[0m\u001b[0;34m.\u001b[0m\u001b[0mname\u001b[0m\u001b[0;34m)\u001b[0m\u001b[0;34m)\u001b[0m\u001b[0;34m.\u001b[0m\u001b[0mGetIdx\u001b[0m\u001b[0;34m(\u001b[0m\u001b[0;34m)\u001b[0m \u001b[0;32mfor\u001b[0m \u001b[0matom\u001b[0m \u001b[0;32min\u001b[0m \u001b[0mold_res\u001b[0m\u001b[0;34m.\u001b[0m\u001b[0matoms\u001b[0m\u001b[0;34m(\u001b[0m\u001b[0;34m)\u001b[0m\u001b[0;34m}\u001b[0m\u001b[0;34m\u001b[0m\u001b[0;34m\u001b[0m\u001b[0m\n\u001b[0m\u001b[1;32m   2110\u001b[0m         \u001b[0mnew_res_to_oemol_map\u001b[0m \u001b[0;34m=\u001b[0m \u001b[0;34m{\u001b[0m\u001b[0matom\u001b[0m\u001b[0;34m.\u001b[0m\u001b[0mindex\u001b[0m\u001b[0;34m:\u001b[0m \u001b[0mproposed_oemol\u001b[0m\u001b[0;34m.\u001b[0m\u001b[0mGetAtom\u001b[0m\u001b[0;34m(\u001b[0m\u001b[0moechem\u001b[0m\u001b[0;34m.\u001b[0m\u001b[0mOEHasAtomName\u001b[0m\u001b[0;34m(\u001b[0m\u001b[0matom\u001b[0m\u001b[0;34m.\u001b[0m\u001b[0mname\u001b[0m\u001b[0;34m)\u001b[0m\u001b[0;34m)\u001b[0m\u001b[0;34m.\u001b[0m\u001b[0mGetIdx\u001b[0m\u001b[0;34m(\u001b[0m\u001b[0;34m)\u001b[0m \u001b[0;32mfor\u001b[0m \u001b[0matom\u001b[0m \u001b[0;32min\u001b[0m \u001b[0mnew_res\u001b[0m\u001b[0;34m.\u001b[0m\u001b[0matoms\u001b[0m\u001b[0;34m(\u001b[0m\u001b[0;34m)\u001b[0m\u001b[0;34m}\u001b[0m\u001b[0;34m\u001b[0m\u001b[0;34m\u001b[0m\u001b[0m\n\u001b[1;32m   2111\u001b[0m \u001b[0;34m\u001b[0m\u001b[0m\n",
      "\u001b[0;31mAttributeError\u001b[0m: 'NoneType' object has no attribute 'GetIdx'"
     ]
    }
   ],
   "source": [
    "from perses.app.relative_point_mutation_setup import PointMutationExecutor\n",
    "import simtk.openmm.app as app\n",
    "apo_delivery = PointMutationExecutor(f\"../input/tyr_vacuum.pdb\", \n",
    "                              '1',\n",
    "                              '2', \n",
    "                              'PHE'\n",
    "                             )"
   ]
  },
  {
   "cell_type": "code",
   "execution_count": null,
   "metadata": {},
   "outputs": [],
   "source": []
  }
 ],
 "metadata": {
  "kernelspec": {
   "display_name": "Python 3",
   "language": "python",
   "name": "python3"
  },
  "language_info": {
   "codemirror_mode": {
    "name": "ipython",
    "version": 3
   },
   "file_extension": ".py",
   "mimetype": "text/x-python",
   "name": "python",
   "nbconvert_exporter": "python",
   "pygments_lexer": "ipython3",
   "version": "3.7.3"
  }
 },
 "nbformat": 4,
 "nbformat_minor": 4
}
