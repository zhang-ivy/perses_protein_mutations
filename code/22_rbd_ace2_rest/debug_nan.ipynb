{
 "cells": [
  {
   "cell_type": "code",
   "execution_count": 41,
   "id": "fitted-accordance",
   "metadata": {},
   "outputs": [],
   "source": [
    "import pickle\n",
    "import os\n",
    "from perses.annihilation.rest import RESTTopologyFactory\n",
    "from perses.annihilation.lambda_protocol import RESTState\n",
    "from openmmtools.states import SamplerState, ThermodynamicState, CompoundThermodynamicState\n",
    "from openmmtools import cache, utils\n",
    "from perses.dispersed.utils import configure_platform\n",
    "# cache.global_context_cache.platform = configure_platform(utils.get_fastest_platform().getName())\n",
    "from simtk import openmm, unit\n",
    "import math\n",
    "from openmmtools.constants import kB\n",
    "from openmmtools import mcmc, multistate\n",
    "import argparse\n",
    "import copy\n",
    "from perses.dispersed import feptasks\n",
    "import mdtraj as md\n",
    "import numpy as np\n",
    "from perses.app.relative_point_mutation_setup import PointMutationExecutor\n",
    "from openmmtools.integrators import LangevinIntegrator\n",
    "from tqdm import tqdm_notebook\n",
    "from simtk.openmm import app"
   ]
  },
  {
   "cell_type": "code",
   "execution_count": 2,
   "id": "moved-chambers",
   "metadata": {},
   "outputs": [],
   "source": [
    "# Set up logger\n",
    "import logging\n",
    "_logger = logging.getLogger()\n",
    "_logger.setLevel(logging.INFO)\n"
   ]
  },
  {
   "cell_type": "code",
   "execution_count": 3,
   "id": "third-dealer",
   "metadata": {},
   "outputs": [],
   "source": [
    "dir = \"/data/chodera/zhangi/perses_benchmark/neq/14/4/\"\n",
    "resid = '493'\n",
    "old_aa_name = 'GLN'\n",
    "new_aa_name = 'ALA'\n",
    "sim_number = 3"
   ]
  },
  {
   "cell_type": "code",
   "execution_count": 4,
   "id": "municipal-optics",
   "metadata": {},
   "outputs": [],
   "source": [
    "if sim_number == 1:\n",
    "    phase = 'apo'\n",
    "    name = old_aa_name\n",
    "    state = 0\n",
    "elif sim_number == 2:\n",
    "    phase = 'apo'\n",
    "    name = new_aa_name\n",
    "    state = 1\n",
    "elif sim_number == 3:\n",
    "    phase = 'complex'\n",
    "    name = old_aa_name\n",
    "    state = 0\n",
    "elif sim_number == 4:\n",
    "    phase = 'complex'\n",
    "    name = new_aa_name\n",
    "    state = 1\n",
    "\n",
    "length = 1\n",
    "move_length = 3\n",
    "timestep = 2\n",
    "radius = 0.3\n",
    "\n"
   ]
  },
  {
   "cell_type": "code",
   "execution_count": 5,
   "id": "seven-trainer",
   "metadata": {},
   "outputs": [
    {
     "name": "stderr",
     "output_type": "stream",
     "text": [
      "INFO:root:path: /data/chodera/zhangi/perses_benchmark/neq/14/4/4_complex_0.pickle\n"
     ]
    }
   ],
   "source": [
    "# Load rhtf \n",
    "i = os.path.basename(os.path.dirname(dir))\n",
    "path = os.path.join(dir, f\"{i}_{phase}_{state}.pickle\")\n",
    "_logger.info(f\"path: {path}\")\n",
    "htf = pickle.load(open(path, \"rb\" ))\n",
    "\n"
   ]
  },
  {
   "cell_type": "code",
   "execution_count": 6,
   "id": "beneficial-amateur",
   "metadata": {},
   "outputs": [
    {
     "name": "stderr",
     "output_type": "stream",
     "text": [
      "INFO:root:Generating REST factory\n",
      "INFO:root:radius:0.3 nm\n",
      "INFO:root:query indices [2484, 2485, 2486, 2487, 2488, 2489, 2490, 2491, 2492, 2493, 2494, 2495, 2496, 2497, 2498, 2499, 2500, 200474, 200475, 200476, 200477]\n",
      "<ipython-input-6-2319932805d9>:12: DeprecationWarning: `np.int` is a deprecated alias for the builtin `int`. To silence this warning, use `int` by itself. Doing this will not modify any behavior and is safe. When replacing `np.int`, you may wish to use e.g. `np.int64` or `np.int32` to specify the precision. If you wish to review your current use, check the release note link for additional information.\n",
      "Deprecated in NumPy 1.20; for more details and guidance: https://numpy.org/devdocs/release/1.20.0-notes.html#deprecations\n",
      "  rest_atoms = list(md.compute_neighbors(traj, radius, query_indices, haystack_indices=solute_atoms)[0])\n",
      "INFO:root:rest atoms [1828, 1831, 1844, 1845, 1854, 1856, 1857, 1864, 1905, 2467, 2468, 2482, 2483, 2484, 2485, 2486, 2487, 2488, 2489, 2490, 2491, 2492, 2493, 2494, 2495, 2496, 2497, 2498, 2499, 2500, 200474, 200475, 200476, 200477, 2501, 2502, 2503, 2504]\n",
      "INFO:REST:No MonteCarloBarostat added.\n",
      "INFO:REST:getDefaultPeriodicBoxVectors added to hybrid: [Quantity(value=Vec3(x=11.460932200000002, y=0.0, z=0.0), unit=nanometer), Quantity(value=Vec3(x=0.0, y=11.886919200000001, z=0.0), unit=nanometer), Quantity(value=Vec3(x=0.0, y=0.0, z=17.003709), unit=nanometer)]\n",
      "INFO:REST:No unknown forces.\n",
      "INFO:root:Generating REST states\n"
     ]
    }
   ],
   "source": [
    "# Build REST factory\n",
    "_logger.info(\"Generating REST factory\")\n",
    "_logger.info(f\"radius:{radius} nm\")\n",
    "# query_indices = [atom.index for atom in list(htf.hybrid_topology.residues)[int(args.resid)].atoms]\n",
    "for res in htf.hybrid_topology.residues:\n",
    "    if res.resSeq == int(resid) and res.chain.index == 0:\n",
    "        mutated_res = res\n",
    "query_indices = [atom.index for atom in mutated_res.atoms]\n",
    "_logger.info(f\"query indices {query_indices}\")\n",
    "traj = md.Trajectory(np.array(htf.hybrid_positions), htf.hybrid_topology)\n",
    "solute_atoms = list(traj.topology.select(\"is_protein\"))\n",
    "rest_atoms = list(md.compute_neighbors(traj, radius, query_indices, haystack_indices=solute_atoms)[0])\n",
    "_logger.info(f\"rest atoms {rest_atoms}\")\n",
    "factory = RESTTopologyFactory(htf.hybrid_system, solute_region=rest_atoms)\n",
    "\n",
    "_logger.info(\"Generating REST states\")\n",
    "# Get REST system\n",
    "REST_system = factory.REST_system\n",
    "\n"
   ]
  },
  {
   "cell_type": "code",
   "execution_count": 31,
   "id": "particular-salon",
   "metadata": {},
   "outputs": [],
   "source": [
    "# Create states for each replica\n",
    "n_replicas = 12  # Number of temperature replicas.\n",
    "T_min = 298.0 * unit.kelvin  # Minimum temperature.\n",
    "T_max = 1200 * unit.kelvin  # Maximum temperature.\n",
    "temperatures = [T_min + (T_max - T_min) * (math.exp(float(i) / float(n_replicas-1)) - 1.0) / (math.e - 1.0)\n",
    "                for i in range(n_replicas)]\n",
    "\n",
    "# Create reference thermodynamic state\n",
    "lambda_zero_alchemical_state = RESTState.from_system(REST_system)\n",
    "thermostate = ThermodynamicState(REST_system, temperature=T_min)\n",
    "compound_thermodynamic_state = CompoundThermodynamicState(thermostate, composable_states=[lambda_zero_alchemical_state])\n",
    "\n",
    "context_cache = cache.ContextCache()\n",
    "\n",
    "# Create thermodynamics states\n",
    "sampler_state =  SamplerState(htf.hybrid_positions, box_vectors=htf.hybrid_system.getDefaultPeriodicBoxVectors())\n",
    "beta_0 = 1/(kB*T_min)\n",
    "thermodynamic_state_list = []\n",
    "sampler_state_list = []\n",
    "for temperature in temperatures:\n",
    "    beta_m = 1/(kB*temperature)\n",
    "    compound_thermodynamic_state_copy = copy.deepcopy(compound_thermodynamic_state)\n",
    "    compound_thermodynamic_state_copy.set_alchemical_parameters(beta_0, beta_m)\n",
    "    thermodynamic_state_list.append(compound_thermodynamic_state_copy)\n",
    "\n",
    "    # now generating a sampler_state for each thermodynamic state, with relaxed positions\n",
    "    # context, context_integrator = context_cache.get_context(compound_thermodynamic_state_copy)\n",
    "#     feptasks.minimize(compound_thermodynamic_state_copy, sampler_state, max_iterations=0)\n",
    "    sampler_state_list.append(copy.deepcopy(sampler_state))\n",
    "\n"
   ]
  },
  {
   "cell_type": "code",
   "execution_count": null,
   "id": "moral-jackson",
   "metadata": {},
   "outputs": [],
   "source": []
  },
  {
   "cell_type": "code",
   "execution_count": 14,
   "id": "confident-traffic",
   "metadata": {},
   "outputs": [
    {
     "name": "stderr",
     "output_type": "stream",
     "text": [
      "WARNING:openmmtools.multistate.multistatesampler:Warning: The openmmtools.multistate API is experimental and may change in future releases\n"
     ]
    }
   ],
   "source": [
    "# # Set up sampler\n",
    "# # _logger.setLevel(logging.DEBUG)\n",
    "# # _logger.info(\"About to start repex\")\n",
    "# # print(f\"move steps: {int((move_length*1000)/timestep)}\")\n",
    "# # print(f\"timestep: {timestep} fs\")\n",
    "# timestep = 4\n",
    "# move = mcmc.LangevinSplittingDynamicsMove(timestep=timestep*unit.femtoseconds, n_steps=int((move_length*1000)/timestep))\n",
    "# simulation = multistate.ReplicaExchangeSampler(mcmc_moves=move, number_of_iterations=length*1000)\n",
    "\n"
   ]
  },
  {
   "cell_type": "code",
   "execution_count": 32,
   "id": "oriented-particle",
   "metadata": {},
   "outputs": [
    {
     "ename": "TypeError",
     "evalue": "object of type 'float' has no len()",
     "output_type": "error",
     "traceback": [
      "\u001b[0;31m-----------------------\u001b[0m",
      "\u001b[0;31mTypeError\u001b[0mTraceback (most recent call last)",
      "\u001b[0;32m~/miniconda3/envs/perses-rbd-ace2/lib/python3.8/site-packages/simtk/unit/quantity.py\u001b[0m in \u001b[0;36m_change_units_with_factor\u001b[0;34m(self, new_unit, factor, post_multiply)\u001b[0m\n\u001b[1;32m    675\u001b[0m                 \u001b[0;32mif\u001b[0m \u001b[0mpost_multiply\u001b[0m\u001b[0;34m:\u001b[0m\u001b[0;34m\u001b[0m\u001b[0;34m\u001b[0m\u001b[0m\n\u001b[0;32m--> 676\u001b[0;31m                     \u001b[0mvalue\u001b[0m \u001b[0;34m=\u001b[0m \u001b[0mself\u001b[0m\u001b[0;34m.\u001b[0m\u001b[0m_value\u001b[0m \u001b[0;34m*\u001b[0m \u001b[0mfactor\u001b[0m \u001b[0;31m# works for number, numpy.array, or vec3, e.g.\u001b[0m\u001b[0;34m\u001b[0m\u001b[0;34m\u001b[0m\u001b[0m\n\u001b[0m\u001b[1;32m    677\u001b[0m                 \u001b[0;32melse\u001b[0m\u001b[0;34m:\u001b[0m\u001b[0;34m\u001b[0m\u001b[0;34m\u001b[0m\u001b[0m\n",
      "\u001b[0;31mTypeError\u001b[0m: unsupported operand type(s) for *: 'float' and 'NoneType'",
      "\nDuring handling of the above exception, another exception occurred:\n",
      "\u001b[0;31mTypeError\u001b[0mTraceback (most recent call last)",
      "\u001b[0;32m~/miniconda3/envs/perses-rbd-ace2/lib/python3.8/site-packages/simtk/unit/quantity.py\u001b[0m in \u001b[0;36m_scale_sequence\u001b[0;34m(self, value, factor, post_multiply)\u001b[0m\n\u001b[1;32m    690\u001b[0m             \u001b[0;32mif\u001b[0m \u001b[0mpost_multiply\u001b[0m\u001b[0;34m:\u001b[0m\u001b[0;34m\u001b[0m\u001b[0;34m\u001b[0m\u001b[0m\n\u001b[0;32m--> 691\u001b[0;31m                 \u001b[0mvalue\u001b[0m \u001b[0;34m=\u001b[0m \u001b[0mvalue\u001b[0m\u001b[0;34m*\u001b[0m\u001b[0mfactor\u001b[0m\u001b[0;34m\u001b[0m\u001b[0;34m\u001b[0m\u001b[0m\n\u001b[0m\u001b[1;32m    692\u001b[0m             \u001b[0;32melse\u001b[0m\u001b[0;34m:\u001b[0m\u001b[0;34m\u001b[0m\u001b[0;34m\u001b[0m\u001b[0m\n",
      "\u001b[0;31mTypeError\u001b[0m: unsupported operand type(s) for *: 'float' and 'NoneType'",
      "\nDuring handling of the above exception, another exception occurred:\n",
      "\u001b[0;31mTypeError\u001b[0mTraceback (most recent call last)",
      "\u001b[0;32m~/miniconda3/envs/perses-rbd-ace2/lib/python3.8/site-packages/simtk/unit/quantity.py\u001b[0m in \u001b[0;36m_scale_sequence\u001b[0;34m(self, value, factor, post_multiply)\u001b[0m\n\u001b[1;32m    699\u001b[0m                     \u001b[0;32melse\u001b[0m\u001b[0;34m:\u001b[0m\u001b[0;34m\u001b[0m\u001b[0;34m\u001b[0m\u001b[0m\n\u001b[0;32m--> 700\u001b[0;31m                         \u001b[0;32mfor\u001b[0m \u001b[0mi\u001b[0m \u001b[0;32min\u001b[0m \u001b[0mrange\u001b[0m\u001b[0;34m(\u001b[0m\u001b[0mlen\u001b[0m\u001b[0;34m(\u001b[0m\u001b[0mvalue\u001b[0m\u001b[0;34m)\u001b[0m\u001b[0;34m)\u001b[0m\u001b[0;34m:\u001b[0m\u001b[0;34m\u001b[0m\u001b[0;34m\u001b[0m\u001b[0m\n\u001b[0m\u001b[1;32m    701\u001b[0m                             \u001b[0mvalue\u001b[0m\u001b[0;34m[\u001b[0m\u001b[0mi\u001b[0m\u001b[0;34m]\u001b[0m \u001b[0;34m=\u001b[0m \u001b[0mvalue\u001b[0m\u001b[0;34m[\u001b[0m\u001b[0mi\u001b[0m\u001b[0;34m]\u001b[0m\u001b[0;34m*\u001b[0m\u001b[0mfactor\u001b[0m\u001b[0;34m\u001b[0m\u001b[0;34m\u001b[0m\u001b[0m\n",
      "\u001b[0;31mTypeError\u001b[0m: object of type 'float' has no len()",
      "\nDuring handling of the above exception, another exception occurred:\n",
      "\u001b[0;31mTypeError\u001b[0mTraceback (most recent call last)",
      "\u001b[0;32m<ipython-input-32-4c773e7e61aa>\u001b[0m in \u001b[0;36m<module>\u001b[0;34m\u001b[0m\n\u001b[1;32m      1\u001b[0m \u001b[0;32mfor\u001b[0m \u001b[0mi\u001b[0m \u001b[0;32min\u001b[0m \u001b[0mrange\u001b[0m\u001b[0;34m(\u001b[0m\u001b[0;36m12\u001b[0m\u001b[0;34m)\u001b[0m\u001b[0;34m:\u001b[0m\u001b[0;34m\u001b[0m\u001b[0;34m\u001b[0m\u001b[0m\n\u001b[0;32m----> 2\u001b[0;31m     \u001b[0mprint\u001b[0m\u001b[0;34m(\u001b[0m\u001b[0mthermodynamic_state_list\u001b[0m\u001b[0;34m[\u001b[0m\u001b[0mi\u001b[0m\u001b[0;34m]\u001b[0m\u001b[0;34m.\u001b[0m\u001b[0mreduced_potential\u001b[0m\u001b[0;34m(\u001b[0m\u001b[0msampler_state_list\u001b[0m\u001b[0;34m[\u001b[0m\u001b[0mi\u001b[0m\u001b[0;34m]\u001b[0m\u001b[0;34m)\u001b[0m\u001b[0;34m)\u001b[0m\u001b[0;34m\u001b[0m\u001b[0;34m\u001b[0m\u001b[0m\n\u001b[0m",
      "\u001b[0;32m~/miniconda3/envs/perses-rbd-ace2/lib/python3.8/site-packages/openmmtools/states.py\u001b[0m in \u001b[0;36mreduced_potential\u001b[0;34m(self, context_state)\u001b[0m\n\u001b[1;32m    902\u001b[0m         \u001b[0;32mif\u001b[0m \u001b[0mn_particles\u001b[0m \u001b[0;34m!=\u001b[0m \u001b[0mself\u001b[0m\u001b[0;34m.\u001b[0m\u001b[0mn_particles\u001b[0m\u001b[0;34m:\u001b[0m\u001b[0;34m\u001b[0m\u001b[0;34m\u001b[0m\u001b[0m\n\u001b[1;32m    903\u001b[0m             \u001b[0;32mraise\u001b[0m \u001b[0mThermodynamicsError\u001b[0m\u001b[0;34m(\u001b[0m\u001b[0mThermodynamicsError\u001b[0m\u001b[0;34m.\u001b[0m\u001b[0mINCOMPATIBLE_SAMPLER_STATE\u001b[0m\u001b[0;34m)\u001b[0m\u001b[0;34m\u001b[0m\u001b[0;34m\u001b[0m\u001b[0m\n\u001b[0;32m--> 904\u001b[0;31m         return self._compute_reduced_potential(potential_energy, self.temperature,\n\u001b[0m\u001b[1;32m    905\u001b[0m                                                volume, self.pressure, area, self.surface_tension)\n\u001b[1;32m    906\u001b[0m \u001b[0;34m\u001b[0m\u001b[0m\n",
      "\u001b[0;32m~/miniconda3/envs/perses-rbd-ace2/lib/python3.8/site-packages/openmmtools/states.py\u001b[0m in \u001b[0;36m_compute_reduced_potential\u001b[0;34m(potential_energy, temperature, volume, pressure, area_xy, surface_tension)\u001b[0m\n\u001b[1;32m   1905\u001b[0m         \u001b[0;34m\"\"\"Convert potential energy into reduced potential.\"\"\"\u001b[0m\u001b[0;34m\u001b[0m\u001b[0;34m\u001b[0m\u001b[0m\n\u001b[1;32m   1906\u001b[0m         \u001b[0mbeta\u001b[0m \u001b[0;34m=\u001b[0m \u001b[0;36m1.0\u001b[0m \u001b[0;34m/\u001b[0m \u001b[0;34m(\u001b[0m\u001b[0munit\u001b[0m\u001b[0;34m.\u001b[0m\u001b[0mBOLTZMANN_CONSTANT_kB\u001b[0m \u001b[0;34m*\u001b[0m \u001b[0mtemperature\u001b[0m\u001b[0;34m)\u001b[0m\u001b[0;34m\u001b[0m\u001b[0;34m\u001b[0m\u001b[0m\n\u001b[0;32m-> 1907\u001b[0;31m         \u001b[0mreduced_potential\u001b[0m \u001b[0;34m=\u001b[0m \u001b[0mpotential_energy\u001b[0m \u001b[0;34m/\u001b[0m \u001b[0munit\u001b[0m\u001b[0;34m.\u001b[0m\u001b[0mAVOGADRO_CONSTANT_NA\u001b[0m\u001b[0;34m\u001b[0m\u001b[0;34m\u001b[0m\u001b[0m\n\u001b[0m\u001b[1;32m   1908\u001b[0m         \u001b[0;32mif\u001b[0m \u001b[0mpressure\u001b[0m \u001b[0;32mis\u001b[0m \u001b[0;32mnot\u001b[0m \u001b[0;32mNone\u001b[0m\u001b[0;34m:\u001b[0m\u001b[0;34m\u001b[0m\u001b[0;34m\u001b[0m\u001b[0m\n\u001b[1;32m   1909\u001b[0m             \u001b[0mreduced_potential\u001b[0m \u001b[0;34m+=\u001b[0m \u001b[0mpressure\u001b[0m \u001b[0;34m*\u001b[0m \u001b[0mvolume\u001b[0m\u001b[0;34m\u001b[0m\u001b[0;34m\u001b[0m\u001b[0m\n",
      "\u001b[0;32m~/miniconda3/envs/perses-rbd-ace2/lib/python3.8/site-packages/simtk/unit/quantity.py\u001b[0m in \u001b[0;36m__rtruediv__\u001b[0;34m(self, other)\u001b[0m\n\u001b[1;32m    424\u001b[0m         \u001b[0;32melse\u001b[0m\u001b[0;34m:\u001b[0m\u001b[0;34m\u001b[0m\u001b[0;34m\u001b[0m\u001b[0m\n\u001b[1;32m    425\u001b[0m             \u001b[0;31m# print \"R scalar / quantity\"\u001b[0m\u001b[0;34m\u001b[0m\u001b[0;34m\u001b[0m\u001b[0;34m\u001b[0m\u001b[0m\n\u001b[0;32m--> 426\u001b[0;31m             \u001b[0;32mreturn\u001b[0m \u001b[0mother\u001b[0m \u001b[0;34m*\u001b[0m \u001b[0mpow\u001b[0m\u001b[0;34m(\u001b[0m\u001b[0mself\u001b[0m\u001b[0;34m,\u001b[0m \u001b[0;34m-\u001b[0m\u001b[0;36m1.0\u001b[0m\u001b[0;34m)\u001b[0m\u001b[0;34m\u001b[0m\u001b[0;34m\u001b[0m\u001b[0m\n\u001b[0m\u001b[1;32m    427\u001b[0m             \u001b[0;31m# return Quantity(other / self._value, pow(self.unit, -1.0))\u001b[0m\u001b[0;34m\u001b[0m\u001b[0;34m\u001b[0m\u001b[0;34m\u001b[0m\u001b[0m\n\u001b[1;32m    428\u001b[0m \u001b[0;34m\u001b[0m\u001b[0m\n",
      "\u001b[0;32m~/miniconda3/envs/perses-rbd-ace2/lib/python3.8/site-packages/simtk/unit/quantity.py\u001b[0m in \u001b[0;36m__rmul__\u001b[0;34m(self, other)\u001b[0m\n\u001b[1;32m    387\u001b[0m         \u001b[0;32melse\u001b[0m\u001b[0;34m:\u001b[0m\u001b[0;34m\u001b[0m\u001b[0;34m\u001b[0m\u001b[0m\n\u001b[1;32m    388\u001b[0m             \u001b[0;31m# print \"scalar * quantity\"\u001b[0m\u001b[0;34m\u001b[0m\u001b[0;34m\u001b[0m\u001b[0;34m\u001b[0m\u001b[0m\n\u001b[0;32m--> 389\u001b[0;31m             \u001b[0;32mreturn\u001b[0m \u001b[0mself\u001b[0m\u001b[0;34m.\u001b[0m\u001b[0m_change_units_with_factor\u001b[0m\u001b[0;34m(\u001b[0m\u001b[0mself\u001b[0m\u001b[0;34m.\u001b[0m\u001b[0munit\u001b[0m\u001b[0;34m,\u001b[0m \u001b[0mother\u001b[0m\u001b[0;34m,\u001b[0m \u001b[0mpost_multiply\u001b[0m\u001b[0;34m=\u001b[0m\u001b[0;32mTrue\u001b[0m\u001b[0;34m)\u001b[0m\u001b[0;34m\u001b[0m\u001b[0;34m\u001b[0m\u001b[0m\n\u001b[0m\u001b[1;32m    390\u001b[0m             \u001b[0;31m# return Quantity(other * self._value, self.unit)\u001b[0m\u001b[0;34m\u001b[0m\u001b[0;34m\u001b[0m\u001b[0;34m\u001b[0m\u001b[0m\n\u001b[1;32m    391\u001b[0m \u001b[0;34m\u001b[0m\u001b[0m\n",
      "\u001b[0;32m~/miniconda3/envs/perses-rbd-ace2/lib/python3.8/site-packages/simtk/unit/quantity.py\u001b[0m in \u001b[0;36m_change_units_with_factor\u001b[0;34m(self, new_unit, factor, post_multiply)\u001b[0m\n\u001b[1;32m    680\u001b[0m             \u001b[0;32mexcept\u001b[0m \u001b[0mTypeError\u001b[0m\u001b[0;34m:\u001b[0m\u001b[0;34m\u001b[0m\u001b[0;34m\u001b[0m\u001b[0m\n\u001b[1;32m    681\u001b[0m                 \u001b[0mvalue\u001b[0m \u001b[0;34m=\u001b[0m \u001b[0mcopy\u001b[0m\u001b[0;34m.\u001b[0m\u001b[0mdeepcopy\u001b[0m\u001b[0;34m(\u001b[0m\u001b[0mself\u001b[0m\u001b[0;34m.\u001b[0m\u001b[0m_value\u001b[0m\u001b[0;34m)\u001b[0m\u001b[0;34m\u001b[0m\u001b[0;34m\u001b[0m\u001b[0m\n\u001b[0;32m--> 682\u001b[0;31m                 \u001b[0mresult\u001b[0m \u001b[0;34m=\u001b[0m \u001b[0mQuantity\u001b[0m\u001b[0;34m(\u001b[0m\u001b[0mself\u001b[0m\u001b[0;34m.\u001b[0m\u001b[0m_scale_sequence\u001b[0m\u001b[0;34m(\u001b[0m\u001b[0mvalue\u001b[0m\u001b[0;34m,\u001b[0m \u001b[0mfactor\u001b[0m\u001b[0;34m,\u001b[0m \u001b[0mpost_multiply\u001b[0m\u001b[0;34m)\u001b[0m\u001b[0;34m,\u001b[0m \u001b[0mnew_unit\u001b[0m\u001b[0;34m)\u001b[0m\u001b[0;34m\u001b[0m\u001b[0;34m\u001b[0m\u001b[0m\n\u001b[0m\u001b[1;32m    683\u001b[0m         \u001b[0;32mif\u001b[0m \u001b[0;34m(\u001b[0m\u001b[0mnew_unit\u001b[0m\u001b[0;34m.\u001b[0m\u001b[0mis_dimensionless\u001b[0m\u001b[0;34m(\u001b[0m\u001b[0;34m)\u001b[0m\u001b[0;34m)\u001b[0m\u001b[0;34m:\u001b[0m\u001b[0;34m\u001b[0m\u001b[0;34m\u001b[0m\u001b[0m\n\u001b[1;32m    684\u001b[0m             \u001b[0;32mreturn\u001b[0m \u001b[0mresult\u001b[0m\u001b[0;34m.\u001b[0m\u001b[0m_value\u001b[0m\u001b[0;34m\u001b[0m\u001b[0;34m\u001b[0m\u001b[0m\n",
      "\u001b[0;32m~/miniconda3/envs/perses-rbd-ace2/lib/python3.8/site-packages/simtk/unit/quantity.py\u001b[0m in \u001b[0;36m_scale_sequence\u001b[0;34m(self, value, factor, post_multiply)\u001b[0m\n\u001b[1;32m    710\u001b[0m                     \u001b[0mvalue\u001b[0m \u001b[0;34m=\u001b[0m \u001b[0mtuple\u001b[0m\u001b[0;34m(\u001b[0m\u001b[0;34m[\u001b[0m\u001b[0mself\u001b[0m\u001b[0;34m.\u001b[0m\u001b[0m_scale_sequence\u001b[0m\u001b[0;34m(\u001b[0m\u001b[0mx\u001b[0m\u001b[0;34m,\u001b[0m \u001b[0mfactor\u001b[0m\u001b[0;34m,\u001b[0m \u001b[0mpost_multiply\u001b[0m\u001b[0;34m)\u001b[0m \u001b[0;32mfor\u001b[0m \u001b[0mx\u001b[0m \u001b[0;32min\u001b[0m \u001b[0mvalue\u001b[0m\u001b[0;34m]\u001b[0m\u001b[0;34m)\u001b[0m\u001b[0;34m\u001b[0m\u001b[0;34m\u001b[0m\u001b[0m\n\u001b[1;32m    711\u001b[0m                 \u001b[0;32melse\u001b[0m\u001b[0;34m:\u001b[0m\u001b[0;34m\u001b[0m\u001b[0;34m\u001b[0m\u001b[0m\n\u001b[0;32m--> 712\u001b[0;31m                     \u001b[0;32mfor\u001b[0m \u001b[0mi\u001b[0m \u001b[0;32min\u001b[0m \u001b[0mrange\u001b[0m\u001b[0;34m(\u001b[0m\u001b[0mlen\u001b[0m\u001b[0;34m(\u001b[0m\u001b[0mvalue\u001b[0m\u001b[0;34m)\u001b[0m\u001b[0;34m)\u001b[0m\u001b[0;34m:\u001b[0m\u001b[0;34m\u001b[0m\u001b[0;34m\u001b[0m\u001b[0m\n\u001b[0m\u001b[1;32m    713\u001b[0m                         \u001b[0mvalue\u001b[0m\u001b[0;34m[\u001b[0m\u001b[0mi\u001b[0m\u001b[0;34m]\u001b[0m \u001b[0;34m=\u001b[0m \u001b[0mself\u001b[0m\u001b[0;34m.\u001b[0m\u001b[0m_scale_sequence\u001b[0m\u001b[0;34m(\u001b[0m\u001b[0mvalue\u001b[0m\u001b[0;34m[\u001b[0m\u001b[0mi\u001b[0m\u001b[0;34m]\u001b[0m\u001b[0;34m,\u001b[0m \u001b[0mfactor\u001b[0m\u001b[0;34m,\u001b[0m \u001b[0mpost_multiply\u001b[0m\u001b[0;34m)\u001b[0m\u001b[0;34m\u001b[0m\u001b[0;34m\u001b[0m\u001b[0m\n\u001b[1;32m    714\u001b[0m         \u001b[0;32mreturn\u001b[0m \u001b[0mvalue\u001b[0m\u001b[0;34m\u001b[0m\u001b[0;34m\u001b[0m\u001b[0m\n",
      "\u001b[0;31mTypeError\u001b[0m: object of type 'float' has no len()"
     ]
    }
   ],
   "source": [
    "for i in range(12):\n",
    "    print(thermodynamic_state_list[i].reduced_potential(sampler_state_list[i]))"
   ]
  },
  {
   "cell_type": "code",
   "execution_count": 17,
   "id": "apparent-startup",
   "metadata": {},
   "outputs": [
    {
     "name": "stderr",
     "output_type": "stream",
     "text": [
      "WARNING:openmmtools.multistate.multistatereporter:Warning: The openmmtools.multistate API is experimental and may change in future releases\n",
      "DEBUG:openmmtools.multistate.multistatereporter:Initial checkpoint file automatically chosen as /data/chodera/zhangi/perses_benchmark/neq/14/4/11_complex_gln_1ns_checkpoint.nc\n",
      "DEBUG:mpiplus.mpiplus:Single node: executing <bound method MultiStateReporter.storage_exists of <openmmtools.multistate.multistatereporter.MultiStateReporter object at 0x2b4956a2fbb0>>\n",
      "DEBUG:mpiplus.mpiplus:Single node: executing <function ReplicaExchangeSampler._display_citations at 0x2b498d03c310>\n",
      "DEBUG:mpiplus.mpiplus:Single node: executing <function MultiStateSampler._display_citations at 0x2b498cff2c10>\n",
      "DEBUG:mpiplus.mpiplus:Single node: executing <function MultiStateSampler._initialize_reporter at 0x2b498cff2ee0>\n"
     ]
    },
    {
     "name": "stdout",
     "output_type": "stream",
     "text": [
      "Please cite the following:\n",
      "\n",
      "        Friedrichs MS, Eastman P, Vaidyanathan V, Houston M, LeGrand S, Beberg AL, Ensign DL, Bruns CM, and Pande VS. Accelerating molecular dynamic simulations on graphics processing unit. J. Comput. Chem. 30:864, 2009. DOI: 10.1002/jcc.21209\n",
      "        Eastman P and Pande VS. OpenMM: A hardware-independent framework for molecular simulations. Comput. Sci. Eng. 12:34, 2010. DOI: 10.1109/MCSE.2010.27\n",
      "        Eastman P and Pande VS. Efficient nonbonded interactions for molecular dynamics on a graphics processing unit. J. Comput. Chem. 31:1268, 2010. DOI: 10.1002/jcc.21413\n",
      "        Eastman P and Pande VS. Constant constraint matrix approximation: A robust, parallelizable constraint method for molecular simulations. J. Chem. Theor. Comput. 6:434, 2010. DOI: 10.1021/ct900463w\n",
      "        Chodera JD and Shirts MR. Replica exchange and expanded ensemble simulations as Gibbs multistate: Simple improvements for enhanced mixing. J. Chem. Phys., 135:194110, 2011. DOI:10.1063/1.3660669\n",
      "        \n"
     ]
    },
    {
     "name": "stderr",
     "output_type": "stream",
     "text": [
      "DEBUG:openmmtools.multistate.multistatereporter:Serialized state thermodynamic_states/0 is  2980173B | 2910.325KB | 2.842MB\n",
      "DEBUG:openmmtools.utils:Storing thermodynamic states took    8.764s\n",
      "DEBUG:openmmtools.multistate.multistatesampler:Storing general ReplicaExchange options...\n",
      "DEBUG:mpiplus.mpiplus:Single node: executing <function MultiStateSampler._report_iteration at 0x2b498cff5040>\n",
      "DEBUG:mpiplus.mpiplus:Single node: executing <function MultiStateSampler._report_iteration_items at 0x2b498cff5310>\n",
      "DEBUG:openmmtools.utils:Storing sampler states took    0.055s\n",
      "DEBUG:openmmtools.utils:Writing iteration information to storage took    1.166s\n",
      "DEBUG:mpiplus.mpiplus:Running _compute_replica_energies serially.\n",
      "DEBUG:openmmtools.utils:Computing energy matrix took    1.032s\n",
      "DEBUG:mpiplus.mpiplus:Single node: executing <bound method MultiStateReporter.write_energies of <openmmtools.multistate.multistatereporter.MultiStateReporter object at 0x2b4956a2fbb0>>\n",
      "DEBUG:openmmtools.multistate.multistatesampler:********************************************************************************\n",
      "DEBUG:openmmtools.multistate.multistatesampler:Iteration 1/1000\n",
      "DEBUG:openmmtools.multistate.multistatesampler:********************************************************************************\n",
      "DEBUG:mpiplus.mpiplus:Single node: executing <function ReplicaExchangeSampler._mix_replicas at 0x2b498d03bf70>\n",
      "DEBUG:openmmtools.multistate.replicaexchange:Mixing replicas...\n",
      "DEBUG:openmmtools.utils:Mixing of replicas took    0.032s\n",
      "DEBUG:openmmtools.multistate.replicaexchange:Accepted 11174/29282 attempted swaps (38.2%)\n",
      "DEBUG:openmmtools.multistate.multistatesampler:Propagating all replicas...\n",
      "DEBUG:mpiplus.mpiplus:Running _propagate_replica serially.\n",
      "WARNING:openmmtools.mcmc:Potential energy is NaN after 0 attempts of integration with move LangevinSplittingDynamicsMove Attempting a restart...\n",
      "WARNING:openmmtools.mcmc:Potential energy is NaN after 1 attempts of integration with move LangevinSplittingDynamicsMove Attempting a restart...\n",
      "WARNING:openmmtools.mcmc:Potential energy is NaN after 2 attempts of integration with move LangevinSplittingDynamicsMove Attempting a restart...\n",
      "ERROR:openmmtools.mcmc:Potential energy is NaN after 3 attempts of integration with move LangevinSplittingDynamicsMove Trying to reinitialize Context as a last-resort restart attempt...\n",
      "ERROR:openmmtools.mcmc:Potential energy is NaN after 4 attempts of integration with move LangevinSplittingDynamicsMove\n",
      "CRITICAL:openmmtools.multistate.multistatesampler:Propagating replica 0 at state 10 resulted in a NaN!\n",
      "The state of the system and integrator before the error were saved in /data/chodera/zhangi/perses_benchmark/neq/14/4/nan-error-logs\n"
     ]
    },
    {
     "ename": "SimulationNaNError",
     "evalue": "Propagating replica 0 at state 10 resulted in a NaN!\nThe state of the system and integrator before the error were saved in /data/chodera/zhangi/perses_benchmark/neq/14/4/nan-error-logs",
     "output_type": "error",
     "traceback": [
      "\u001b[0;31m-----------------------\u001b[0m",
      "\u001b[0;31mIntegratorMoveError\u001b[0mTraceback (most recent call last)",
      "\u001b[0;32m~/miniconda3/envs/perses-rbd-ace2/lib/python3.8/site-packages/openmmtools/multistate/multistatesampler.py\u001b[0m in \u001b[0;36m_propagate_replica\u001b[0;34m(self, replica_id)\u001b[0m\n\u001b[1;32m   1222\u001b[0m         \u001b[0;32mtry\u001b[0m\u001b[0;34m:\u001b[0m\u001b[0;34m\u001b[0m\u001b[0;34m\u001b[0m\u001b[0m\n\u001b[0;32m-> 1223\u001b[0;31m             \u001b[0mmcmc_move\u001b[0m\u001b[0;34m.\u001b[0m\u001b[0mapply\u001b[0m\u001b[0;34m(\u001b[0m\u001b[0mthermodynamic_state\u001b[0m\u001b[0;34m,\u001b[0m \u001b[0msampler_state\u001b[0m\u001b[0;34m)\u001b[0m\u001b[0;34m\u001b[0m\u001b[0;34m\u001b[0m\u001b[0m\n\u001b[0m\u001b[1;32m   1224\u001b[0m         \u001b[0;32mexcept\u001b[0m \u001b[0mmcmc\u001b[0m\u001b[0;34m.\u001b[0m\u001b[0mIntegratorMoveError\u001b[0m \u001b[0;32mas\u001b[0m \u001b[0me\u001b[0m\u001b[0;34m:\u001b[0m\u001b[0;34m\u001b[0m\u001b[0;34m\u001b[0m\u001b[0m\n",
      "\u001b[0;32m~/miniconda3/envs/perses-rbd-ace2/lib/python3.8/site-packages/openmmtools/mcmc.py\u001b[0m in \u001b[0;36mapply\u001b[0;34m(self, thermodynamic_state, sampler_state)\u001b[0m\n\u001b[1;32m   1113\u001b[0m         \u001b[0;31m# Explicitly implemented just to have more specific docstring.\u001b[0m\u001b[0;34m\u001b[0m\u001b[0;34m\u001b[0m\u001b[0;34m\u001b[0m\u001b[0m\n\u001b[0;32m-> 1114\u001b[0;31m         \u001b[0msuper\u001b[0m\u001b[0;34m(\u001b[0m\u001b[0mLangevinDynamicsMove\u001b[0m\u001b[0;34m,\u001b[0m \u001b[0mself\u001b[0m\u001b[0;34m)\u001b[0m\u001b[0;34m.\u001b[0m\u001b[0mapply\u001b[0m\u001b[0;34m(\u001b[0m\u001b[0mthermodynamic_state\u001b[0m\u001b[0;34m,\u001b[0m \u001b[0msampler_state\u001b[0m\u001b[0;34m)\u001b[0m\u001b[0;34m\u001b[0m\u001b[0;34m\u001b[0m\u001b[0m\n\u001b[0m\u001b[1;32m   1115\u001b[0m \u001b[0;34m\u001b[0m\u001b[0m\n",
      "\u001b[0;32m~/miniconda3/envs/perses-rbd-ace2/lib/python3.8/site-packages/openmmtools/mcmc.py\u001b[0m in \u001b[0;36mapply\u001b[0;34m(self, thermodynamic_state, sampler_state)\u001b[0m\n\u001b[1;32m    706\u001b[0m                     \u001b[0mlogger\u001b[0m\u001b[0;34m.\u001b[0m\u001b[0merror\u001b[0m\u001b[0;34m(\u001b[0m\u001b[0merr_msg\u001b[0m\u001b[0;34m)\u001b[0m\u001b[0;34m\u001b[0m\u001b[0;34m\u001b[0m\u001b[0m\n\u001b[0;32m--> 707\u001b[0;31m                     \u001b[0;32mraise\u001b[0m \u001b[0mIntegratorMoveError\u001b[0m\u001b[0;34m(\u001b[0m\u001b[0merr_msg\u001b[0m\u001b[0;34m,\u001b[0m \u001b[0mself\u001b[0m\u001b[0;34m,\u001b[0m \u001b[0mcontext\u001b[0m\u001b[0;34m)\u001b[0m\u001b[0;34m\u001b[0m\u001b[0;34m\u001b[0m\u001b[0m\n\u001b[0m\u001b[1;32m    708\u001b[0m                 \u001b[0;32melse\u001b[0m\u001b[0;34m:\u001b[0m\u001b[0;34m\u001b[0m\u001b[0;34m\u001b[0m\u001b[0m\n",
      "\u001b[0;31mIntegratorMoveError\u001b[0m: Potential energy is NaN after 4 attempts of integration with move LangevinSplittingDynamicsMove",
      "\nDuring handling of the above exception, another exception occurred:\n",
      "\u001b[0;31mSimulationNaNError\u001b[0mTraceback (most recent call last)",
      "\u001b[0;32m<ipython-input-17-d03528b21830>\u001b[0m in \u001b[0;36m<module>\u001b[0;34m\u001b[0m\n\u001b[1;32m      5\u001b[0m                   \u001b[0msampler_states\u001b[0m\u001b[0;34m=\u001b[0m\u001b[0msampler_state_list\u001b[0m\u001b[0;34m[\u001b[0m\u001b[0;34m:\u001b[0m\u001b[0;34m-\u001b[0m\u001b[0;36m1\u001b[0m\u001b[0;34m]\u001b[0m\u001b[0;34m,\u001b[0m\u001b[0;34m\u001b[0m\u001b[0;34m\u001b[0m\u001b[0m\n\u001b[1;32m      6\u001b[0m                   storage=reporter)\n\u001b[0;32m----> 7\u001b[0;31m \u001b[0msimulation\u001b[0m\u001b[0;34m.\u001b[0m\u001b[0mrun\u001b[0m\u001b[0;34m(\u001b[0m\u001b[0;34m)\u001b[0m\u001b[0;34m\u001b[0m\u001b[0;34m\u001b[0m\u001b[0m\n\u001b[0m",
      "\u001b[0;32m~/miniconda3/envs/perses-rbd-ace2/lib/python3.8/site-packages/openmmtools/multistate/multistatesampler.py\u001b[0m in \u001b[0;36mrun\u001b[0;34m(self, n_iterations)\u001b[0m\n\u001b[1;32m    679\u001b[0m \u001b[0;34m\u001b[0m\u001b[0m\n\u001b[1;32m    680\u001b[0m             \u001b[0;31m# Propagate replicas.\u001b[0m\u001b[0;34m\u001b[0m\u001b[0;34m\u001b[0m\u001b[0;34m\u001b[0m\u001b[0m\n\u001b[0;32m--> 681\u001b[0;31m             \u001b[0mself\u001b[0m\u001b[0;34m.\u001b[0m\u001b[0m_propagate_replicas\u001b[0m\u001b[0;34m(\u001b[0m\u001b[0;34m)\u001b[0m\u001b[0;34m\u001b[0m\u001b[0;34m\u001b[0m\u001b[0m\n\u001b[0m\u001b[1;32m    682\u001b[0m \u001b[0;34m\u001b[0m\u001b[0m\n\u001b[1;32m    683\u001b[0m             \u001b[0;31m# Compute energies of all replicas at all states\u001b[0m\u001b[0;34m\u001b[0m\u001b[0;34m\u001b[0m\u001b[0;34m\u001b[0m\u001b[0m\n",
      "\u001b[0;32m~/miniconda3/envs/perses-rbd-ace2/lib/python3.8/site-packages/openmmtools/utils.py\u001b[0m in \u001b[0;36m_wrapper\u001b[0;34m(*args, **kwargs)\u001b[0m\n\u001b[1;32m     85\u001b[0m         \u001b[0;32mdef\u001b[0m \u001b[0m_wrapper\u001b[0m\u001b[0;34m(\u001b[0m\u001b[0;34m*\u001b[0m\u001b[0margs\u001b[0m\u001b[0;34m,\u001b[0m \u001b[0;34m**\u001b[0m\u001b[0mkwargs\u001b[0m\u001b[0;34m)\u001b[0m\u001b[0;34m:\u001b[0m\u001b[0;34m\u001b[0m\u001b[0;34m\u001b[0m\u001b[0m\n\u001b[1;32m     86\u001b[0m             \u001b[0;32mwith\u001b[0m \u001b[0mtime_it\u001b[0m\u001b[0;34m(\u001b[0m\u001b[0mtask_name\u001b[0m\u001b[0;34m)\u001b[0m\u001b[0;34m:\u001b[0m\u001b[0;34m\u001b[0m\u001b[0;34m\u001b[0m\u001b[0m\n\u001b[0;32m---> 87\u001b[0;31m                 \u001b[0;32mreturn\u001b[0m \u001b[0mfunc\u001b[0m\u001b[0;34m(\u001b[0m\u001b[0;34m*\u001b[0m\u001b[0margs\u001b[0m\u001b[0;34m,\u001b[0m \u001b[0;34m**\u001b[0m\u001b[0mkwargs\u001b[0m\u001b[0;34m)\u001b[0m\u001b[0;34m\u001b[0m\u001b[0;34m\u001b[0m\u001b[0m\n\u001b[0m\u001b[1;32m     88\u001b[0m         \u001b[0;32mreturn\u001b[0m \u001b[0m_wrapper\u001b[0m\u001b[0;34m\u001b[0m\u001b[0;34m\u001b[0m\u001b[0m\n\u001b[1;32m     89\u001b[0m     \u001b[0;32mreturn\u001b[0m \u001b[0m_with_timer\u001b[0m\u001b[0;34m\u001b[0m\u001b[0;34m\u001b[0m\u001b[0m\n",
      "\u001b[0;32m~/miniconda3/envs/perses-rbd-ace2/lib/python3.8/site-packages/openmmtools/multistate/multistatesampler.py\u001b[0m in \u001b[0;36m_propagate_replicas\u001b[0;34m(self)\u001b[0m\n\u001b[1;32m   1194\u001b[0m         \u001b[0;31m# and box vectors. The other nodes, only need the positions that they use\u001b[0m\u001b[0;34m\u001b[0m\u001b[0;34m\u001b[0m\u001b[0;34m\u001b[0m\u001b[0m\n\u001b[1;32m   1195\u001b[0m         \u001b[0;31m# for propagation and computation of the energy matrix entries.\u001b[0m\u001b[0;34m\u001b[0m\u001b[0;34m\u001b[0m\u001b[0;34m\u001b[0m\u001b[0m\n\u001b[0;32m-> 1196\u001b[0;31m         propagated_states, replica_ids = mpiplus.distribute(self._propagate_replica, range(self.n_replicas),\n\u001b[0m\u001b[1;32m   1197\u001b[0m                                                         send_results_to=0)\n\u001b[1;32m   1198\u001b[0m \u001b[0;34m\u001b[0m\u001b[0m\n",
      "\u001b[0;32m~/miniconda3/envs/perses-rbd-ace2/lib/python3.8/site-packages/mpiplus/mpiplus.py\u001b[0m in \u001b[0;36mdistribute\u001b[0;34m(task, distributed_args, send_results_to, propagate_exceptions_to, sync_nodes, group_size, *other_args, **kwargs)\u001b[0m\n\u001b[1;32m    510\u001b[0m     \u001b[0;32mif\u001b[0m \u001b[0mget_mpicomm\u001b[0m\u001b[0;34m(\u001b[0m\u001b[0;34m)\u001b[0m \u001b[0;32mis\u001b[0m \u001b[0;32mNone\u001b[0m\u001b[0;34m:\u001b[0m\u001b[0;34m\u001b[0m\u001b[0;34m\u001b[0m\u001b[0m\n\u001b[1;32m    511\u001b[0m         \u001b[0mlogger\u001b[0m\u001b[0;34m.\u001b[0m\u001b[0mdebug\u001b[0m\u001b[0;34m(\u001b[0m\u001b[0;34m'Running {} serially.'\u001b[0m\u001b[0;34m.\u001b[0m\u001b[0mformat\u001b[0m\u001b[0;34m(\u001b[0m\u001b[0mtask\u001b[0m\u001b[0;34m.\u001b[0m\u001b[0m__name__\u001b[0m\u001b[0;34m)\u001b[0m\u001b[0;34m)\u001b[0m\u001b[0;34m\u001b[0m\u001b[0;34m\u001b[0m\u001b[0m\n\u001b[0;32m--> 512\u001b[0;31m         \u001b[0mall_results\u001b[0m \u001b[0;34m=\u001b[0m \u001b[0;34m[\u001b[0m\u001b[0mtask\u001b[0m\u001b[0;34m(\u001b[0m\u001b[0mjob_args\u001b[0m\u001b[0;34m,\u001b[0m \u001b[0;34m*\u001b[0m\u001b[0mother_args\u001b[0m\u001b[0;34m,\u001b[0m \u001b[0;34m**\u001b[0m\u001b[0mkwargs\u001b[0m\u001b[0;34m)\u001b[0m \u001b[0;32mfor\u001b[0m \u001b[0mjob_args\u001b[0m \u001b[0;32min\u001b[0m \u001b[0mdistributed_args\u001b[0m\u001b[0;34m]\u001b[0m\u001b[0;34m\u001b[0m\u001b[0;34m\u001b[0m\u001b[0m\n\u001b[0m\u001b[1;32m    513\u001b[0m         \u001b[0;32mif\u001b[0m \u001b[0msend_results_to\u001b[0m \u001b[0;34m==\u001b[0m \u001b[0;34m'all'\u001b[0m\u001b[0;34m:\u001b[0m\u001b[0;34m\u001b[0m\u001b[0;34m\u001b[0m\u001b[0m\n\u001b[1;32m    514\u001b[0m             \u001b[0;32mreturn\u001b[0m \u001b[0mall_results\u001b[0m\u001b[0;34m\u001b[0m\u001b[0;34m\u001b[0m\u001b[0m\n",
      "\u001b[0;32m~/miniconda3/envs/perses-rbd-ace2/lib/python3.8/site-packages/mpiplus/mpiplus.py\u001b[0m in \u001b[0;36m<listcomp>\u001b[0;34m(.0)\u001b[0m\n\u001b[1;32m    510\u001b[0m     \u001b[0;32mif\u001b[0m \u001b[0mget_mpicomm\u001b[0m\u001b[0;34m(\u001b[0m\u001b[0;34m)\u001b[0m \u001b[0;32mis\u001b[0m \u001b[0;32mNone\u001b[0m\u001b[0;34m:\u001b[0m\u001b[0;34m\u001b[0m\u001b[0;34m\u001b[0m\u001b[0m\n\u001b[1;32m    511\u001b[0m         \u001b[0mlogger\u001b[0m\u001b[0;34m.\u001b[0m\u001b[0mdebug\u001b[0m\u001b[0;34m(\u001b[0m\u001b[0;34m'Running {} serially.'\u001b[0m\u001b[0;34m.\u001b[0m\u001b[0mformat\u001b[0m\u001b[0;34m(\u001b[0m\u001b[0mtask\u001b[0m\u001b[0;34m.\u001b[0m\u001b[0m__name__\u001b[0m\u001b[0;34m)\u001b[0m\u001b[0;34m)\u001b[0m\u001b[0;34m\u001b[0m\u001b[0;34m\u001b[0m\u001b[0m\n\u001b[0;32m--> 512\u001b[0;31m         \u001b[0mall_results\u001b[0m \u001b[0;34m=\u001b[0m \u001b[0;34m[\u001b[0m\u001b[0mtask\u001b[0m\u001b[0;34m(\u001b[0m\u001b[0mjob_args\u001b[0m\u001b[0;34m,\u001b[0m \u001b[0;34m*\u001b[0m\u001b[0mother_args\u001b[0m\u001b[0;34m,\u001b[0m \u001b[0;34m**\u001b[0m\u001b[0mkwargs\u001b[0m\u001b[0;34m)\u001b[0m \u001b[0;32mfor\u001b[0m \u001b[0mjob_args\u001b[0m \u001b[0;32min\u001b[0m \u001b[0mdistributed_args\u001b[0m\u001b[0;34m]\u001b[0m\u001b[0;34m\u001b[0m\u001b[0;34m\u001b[0m\u001b[0m\n\u001b[0m\u001b[1;32m    513\u001b[0m         \u001b[0;32mif\u001b[0m \u001b[0msend_results_to\u001b[0m \u001b[0;34m==\u001b[0m \u001b[0;34m'all'\u001b[0m\u001b[0;34m:\u001b[0m\u001b[0;34m\u001b[0m\u001b[0;34m\u001b[0m\u001b[0m\n\u001b[1;32m    514\u001b[0m             \u001b[0;32mreturn\u001b[0m \u001b[0mall_results\u001b[0m\u001b[0;34m\u001b[0m\u001b[0;34m\u001b[0m\u001b[0m\n",
      "\u001b[0;32m~/miniconda3/envs/perses-rbd-ace2/lib/python3.8/site-packages/openmmtools/multistate/multistatesampler.py\u001b[0m in \u001b[0;36m_propagate_replica\u001b[0;34m(self, replica_id)\u001b[0m\n\u001b[1;32m   1232\u001b[0m                        ' in {}').format(replica_id, thermodynamic_state_id, output_dir)\n\u001b[1;32m   1233\u001b[0m             \u001b[0mlogger\u001b[0m\u001b[0;34m.\u001b[0m\u001b[0mcritical\u001b[0m\u001b[0;34m(\u001b[0m\u001b[0mmessage\u001b[0m\u001b[0;34m)\u001b[0m\u001b[0;34m\u001b[0m\u001b[0;34m\u001b[0m\u001b[0m\n\u001b[0;32m-> 1234\u001b[0;31m             \u001b[0;32mraise\u001b[0m \u001b[0mSimulationNaNError\u001b[0m\u001b[0;34m(\u001b[0m\u001b[0mmessage\u001b[0m\u001b[0;34m)\u001b[0m\u001b[0;34m\u001b[0m\u001b[0;34m\u001b[0m\u001b[0m\n\u001b[0m\u001b[1;32m   1235\u001b[0m \u001b[0;34m\u001b[0m\u001b[0m\n\u001b[1;32m   1236\u001b[0m         \u001b[0;31m# Send the new state to the root node. We can ignore velocities as we're not saving them.\u001b[0m\u001b[0;34m\u001b[0m\u001b[0;34m\u001b[0m\u001b[0;34m\u001b[0m\u001b[0m\n",
      "\u001b[0;31mSimulationNaNError\u001b[0m: Propagating replica 0 at state 10 resulted in a NaN!\nThe state of the system and integrator before the error were saved in /data/chodera/zhangi/perses_benchmark/neq/14/4/nan-error-logs"
     ]
    }
   ],
   "source": [
    "# # Run t-repex\n",
    "# reporter_file = os.path.join(dir, f\"{i}_{phase}_{name.lower()}_{length}ns.nc\")\n",
    "# reporter = multistate.MultiStateReporter(reporter_file, checkpoint_interval=1)\n",
    "# simulation.create(thermodynamic_states=thermodynamic_state_list[:-1],\n",
    "#                   sampler_states=sampler_state_list[:-1],\n",
    "#                   storage=reporter)\n",
    "# simulation.run()\n"
   ]
  },
  {
   "cell_type": "code",
   "execution_count": 33,
   "id": "approved-wagner",
   "metadata": {},
   "outputs": [],
   "source": [
    "# Define simulation parameters\n",
    "temperature = 298 * unit.kelvin\n",
    "collision_rate = 1.0 / unit.picoseconds\n",
    "nsteps = 100 \n",
    "timestep = 4.0 * unit.femtosecond\n",
    "platform_name = 'CUDA'\n",
    "integrator = LangevinIntegrator(temperature, collision_rate, timestep)\n",
    "\n",
    "system = htf.hybrid_system\n",
    "positions = htf.hybrid_positions\n",
    "\n",
    "platform = openmm.Platform.getPlatformByName(platform_name)\n",
    "if platform_name in ['CUDA', 'OpenCL']:\n",
    "    platform.setPropertyDefaultValue('Precision', 'mixed')\n",
    "if platform_name in ['CUDA']:\n",
    "    platform.setPropertyDefaultValue('DeterministicForces', 'true')\n",
    "context = thermodynamic_state_list[0].create_context(integrator, platform=platform)\n",
    "context.setPeriodicBoxVectors(*system.getDefaultPeriodicBoxVectors())\n",
    "context.setPositions(positions)\n",
    "context.setVelocitiesToTemperature(temperature)\n",
    "\n"
   ]
  },
  {
   "cell_type": "code",
   "execution_count": 34,
   "id": "martial-equality",
   "metadata": {},
   "outputs": [
    {
     "data": {
      "text/plain": [
       "Quantity(value=463322164233.96497, unit=kilojoule/mole)"
      ]
     },
     "execution_count": 34,
     "metadata": {},
     "output_type": "execute_result"
    }
   ],
   "source": [
    "context.getState(getEnergy=True).getPotentialEnergy()"
   ]
  },
  {
   "cell_type": "code",
   "execution_count": 35,
   "id": "round-municipality",
   "metadata": {},
   "outputs": [],
   "source": [
    "# Minimize\n",
    "openmm.LocalEnergyMinimizer.minimize(context)\n"
   ]
  },
  {
   "cell_type": "code",
   "execution_count": 36,
   "id": "spiritual-editing",
   "metadata": {},
   "outputs": [
    {
     "data": {
      "text/plain": [
       "Quantity(value=462868880899.6945, unit=kilojoule/mole)"
      ]
     },
     "execution_count": 36,
     "metadata": {},
     "output_type": "execute_result"
    }
   ],
   "source": [
    "context.getState(getEnergy=True).getPotentialEnergy()"
   ]
  },
  {
   "cell_type": "code",
   "execution_count": 37,
   "id": "existing-valentine",
   "metadata": {},
   "outputs": [
    {
     "name": "stderr",
     "output_type": "stream",
     "text": [
      "<ipython-input-37-951c7b78bb29>:2: TqdmDeprecationWarning: This function will be removed in tqdm==5.0.0\n",
      "Please use `tqdm.notebook.tqdm` instead of `tqdm.tqdm_notebook`\n",
      "  for step in tqdm_notebook(range(nsteps)):\n"
     ]
    },
    {
     "data": {
      "application/vnd.jupyter.widget-view+json": {
       "model_id": "77264b08825e430e9e4c2270401325a6",
       "version_major": 2,
       "version_minor": 0
      },
      "text/plain": [
       "  0%|          | 0/100 [00:00<?, ?it/s]"
      ]
     },
     "metadata": {},
     "output_type": "display_data"
    }
   ],
   "source": [
    "# Run equilibration\n",
    "for step in tqdm_notebook(range(nsteps)):\n",
    "    integrator.step(1)"
   ]
  },
  {
   "cell_type": "code",
   "execution_count": 38,
   "id": "suspended-tobago",
   "metadata": {},
   "outputs": [
    {
     "data": {
      "text/plain": [
       "Quantity(value=nan, unit=kilojoule/mole)"
      ]
     },
     "execution_count": 38,
     "metadata": {},
     "output_type": "execute_result"
    }
   ],
   "source": [
    "context.getState(getEnergy=True).getPotentialEnergy()"
   ]
  },
  {
   "cell_type": "code",
   "execution_count": 42,
   "id": "remarkable-invite",
   "metadata": {},
   "outputs": [],
   "source": [
    "app.PDBFile.writeFile(htf._topology_proposal.old_topology, htf.old_positions(htf.hybrid_positions), open(os.path.join(dir, \"complex_old.pdb\"), \"w\"), keepIds=True)"
   ]
  },
  {
   "cell_type": "code",
   "execution_count": 44,
   "id": "possible-caution",
   "metadata": {},
   "outputs": [
    {
     "name": "stderr",
     "output_type": "stream",
     "text": [
      "INFO:root:path: /data/chodera/zhangi/perses_benchmark/neq/14/4/4_apo_0.pickle\n"
     ]
    }
   ],
   "source": [
    "phase = 'apo'\n",
    "i = 4\n",
    "path = os.path.join(dir, f\"{i}_{phase}_{state}.pickle\")\n",
    "_logger.info(f\"path: {path}\")\n",
    "apo_htf = pickle.load(open(path, \"rb\" ))"
   ]
  },
  {
   "cell_type": "code",
   "execution_count": 45,
   "id": "boolean-faculty",
   "metadata": {},
   "outputs": [],
   "source": [
    "app.PDBFile.writeFile(apo_htf._topology_proposal.old_topology, apo_htf.old_positions(apo_htf.hybrid_positions), open(os.path.join(dir, \"apo_old.pdb\"), \"w\"), keepIds=True)"
   ]
  },
  {
   "cell_type": "code",
   "execution_count": 48,
   "id": "environmental-letters",
   "metadata": {},
   "outputs": [
    {
     "name": "stderr",
     "output_type": "stream",
     "text": [
      "INFO:root:path: /data/chodera/zhangi/perses_benchmark/neq/14/5/5_apo_0.pickle\n"
     ]
    }
   ],
   "source": [
    "phase = 'apo'\n",
    "i = 5\n",
    "dir = \"/data/chodera/zhangi/perses_benchmark/neq/14/5/\"\n",
    "path = os.path.join(dir, f\"{i}_{phase}_{state}.pickle\")\n",
    "_logger.info(f\"path: {path}\")\n",
    "htf_5 = pickle.load(open(path, \"rb\" ))"
   ]
  },
  {
   "cell_type": "code",
   "execution_count": 49,
   "id": "literary-definition",
   "metadata": {},
   "outputs": [],
   "source": [
    "app.PDBFile.writeFile(htf_5._topology_proposal.old_topology, htf_5.old_positions(htf_5.hybrid_positions), open(os.path.join(dir, \"apo_old.pdb\"), \"w\"), keepIds=True)"
   ]
  },
  {
   "cell_type": "code",
   "execution_count": 50,
   "id": "motivated-shield",
   "metadata": {},
   "outputs": [
    {
     "name": "stderr",
     "output_type": "stream",
     "text": [
      "INFO:root:path: /data/chodera/zhangi/perses_benchmark/neq/14/3/3_apo_0.pickle\n"
     ]
    }
   ],
   "source": [
    "phase = 'apo'\n",
    "i = 3\n",
    "dir = \"/data/chodera/zhangi/perses_benchmark/neq/14/3/\"\n",
    "path = os.path.join(dir, f\"{i}_{phase}_{state}.pickle\")\n",
    "_logger.info(f\"path: {path}\")\n",
    "htf_3 = pickle.load(open(path, \"rb\" ))"
   ]
  },
  {
   "cell_type": "code",
   "execution_count": 51,
   "id": "geological-defeat",
   "metadata": {},
   "outputs": [],
   "source": [
    "app.PDBFile.writeFile(htf_3._topology_proposal.old_topology, htf_3.old_positions(htf_3.hybrid_positions), open(os.path.join(dir, \"apo_old.pdb\"), \"w\"), keepIds=True)\n"
   ]
  },
  {
   "cell_type": "code",
   "execution_count": 52,
   "id": "double-video",
   "metadata": {},
   "outputs": [
    {
     "name": "stderr",
     "output_type": "stream",
     "text": [
      "INFO:root:path: /data/chodera/zhangi/perses_benchmark/neq/14/2/2_apo_0.pickle\n"
     ]
    }
   ],
   "source": [
    "phase = 'apo'\n",
    "i = 2\n",
    "dir = \"/data/chodera/zhangi/perses_benchmark/neq/14/2/\"\n",
    "path = os.path.join(dir, f\"{i}_{phase}_{state}.pickle\")\n",
    "_logger.info(f\"path: {path}\")\n",
    "htf_2 = pickle.load(open(path, \"rb\" ))"
   ]
  },
  {
   "cell_type": "code",
   "execution_count": 53,
   "id": "settled-asian",
   "metadata": {},
   "outputs": [],
   "source": [
    "app.PDBFile.writeFile(htf_2._topology_proposal.old_topology, htf_2.old_positions(htf_2.hybrid_positions), open(os.path.join(dir, \"apo_old.pdb\"), \"w\"), keepIds=True)\n"
   ]
  },
  {
   "cell_type": "code",
   "execution_count": 54,
   "id": "mighty-savannah",
   "metadata": {},
   "outputs": [
    {
     "name": "stderr",
     "output_type": "stream",
     "text": [
      "INFO:root:path: /data/chodera/zhangi/perses_benchmark/neq/14/1/1_apo_0.pickle\n"
     ]
    }
   ],
   "source": [
    "phase = 'apo'\n",
    "i = 1\n",
    "dir = \"/data/chodera/zhangi/perses_benchmark/neq/14/1/\"\n",
    "path = os.path.join(dir, f\"{i}_{phase}_{state}.pickle\")\n",
    "_logger.info(f\"path: {path}\")\n",
    "htf_1 = pickle.load(open(path, \"rb\" ))"
   ]
  },
  {
   "cell_type": "code",
   "execution_count": 55,
   "id": "bearing-basis",
   "metadata": {},
   "outputs": [],
   "source": [
    "app.PDBFile.writeFile(htf_1._topology_proposal.old_topology, htf_1.old_positions(htf_1.hybrid_positions), open(os.path.join(dir, \"apo_old.pdb\"), \"w\"), keepIds=True)\n"
   ]
  },
  {
   "cell_type": "code",
   "execution_count": 57,
   "id": "behind-found",
   "metadata": {},
   "outputs": [
    {
     "name": "stderr",
     "output_type": "stream",
     "text": [
      "INFO:root:path: /data/chodera/zhangi/perses_benchmark/neq/14/1/1_apo.pickle\n"
     ]
    }
   ],
   "source": [
    "phase = 'apo'\n",
    "i = 1\n",
    "dir = \"/data/chodera/zhangi/perses_benchmark/neq/14/1/\"\n",
    "path = os.path.join(dir, f\"{i}_{phase}.pickle\")\n",
    "_logger.info(f\"path: {path}\")\n",
    "htf_1_vanilla = pickle.load(open(path, \"rb\" ))"
   ]
  },
  {
   "cell_type": "code",
   "execution_count": 58,
   "id": "whole-booking",
   "metadata": {},
   "outputs": [],
   "source": [
    "app.PDBFile.writeFile(htf_1_vanilla._topology_proposal.old_topology, htf_1_vanilla.old_positions(htf_1_vanilla.hybrid_positions), open(os.path.join(dir, \"apo_old_vanilla.pdb\"), \"w\"), keepIds=True)\n"
   ]
  },
  {
   "cell_type": "code",
   "execution_count": 60,
   "id": "played-heating",
   "metadata": {},
   "outputs": [],
   "source": [
    "import mdtraj as md"
   ]
  },
  {
   "cell_type": "code",
   "execution_count": 62,
   "id": "understanding-gates",
   "metadata": {},
   "outputs": [],
   "source": [
    "traj = md.Trajectory(htf_1_vanilla.hybrid_positions, htf_1_vanilla.hybrid_topology)\n",
    "traj.save(os.path.join(dir, \"apo_hybrid_vanilla.pdb\"))"
   ]
  },
  {
   "cell_type": "code",
   "execution_count": 63,
   "id": "intermediate-settle",
   "metadata": {},
   "outputs": [
    {
     "data": {
      "text/plain": [
       "{1640, 1641, 1642, 1643, 1644}"
      ]
     },
     "execution_count": 63,
     "metadata": {},
     "output_type": "execute_result"
    }
   ],
   "source": [
    "htf_1_vanilla._atom_classes['unique_old_atoms']"
   ]
  },
  {
   "cell_type": "code",
   "execution_count": 64,
   "id": "painted-north",
   "metadata": {},
   "outputs": [
    {
     "name": "stdout",
     "output_type": "stream",
     "text": [
      "<Atom 1640 (CG) of chain 0 residue 107 (ASN)>\n",
      "<Atom 1641 (OD1) of chain 0 residue 107 (ASN)>\n",
      "<Atom 1642 (ND2) of chain 0 residue 107 (ASN)>\n",
      "<Atom 1643 (HD21) of chain 0 residue 107 (ASN)>\n",
      "<Atom 1644 (HD22) of chain 0 residue 107 (ASN)>\n"
     ]
    }
   ],
   "source": [
    "for atom in htf_1_vanilla._topology_proposal.old_topology.atoms():\n",
    "    if atom.index in {1640, 1641, 1642, 1643, 1644}:\n",
    "        print(atom)"
   ]
  },
  {
   "cell_type": "code",
   "execution_count": null,
   "id": "bizarre-router",
   "metadata": {},
   "outputs": [],
   "source": []
  }
 ],
 "metadata": {
  "kernelspec": {
   "display_name": "Python 3",
   "language": "python",
   "name": "python3"
  },
  "language_info": {
   "codemirror_mode": {
    "name": "ipython",
    "version": 3
   },
   "file_extension": ".py",
   "mimetype": "text/x-python",
   "name": "python",
   "nbconvert_exporter": "python",
   "pygments_lexer": "ipython3",
   "version": "3.8.6"
  }
 },
 "nbformat": 4,
 "nbformat_minor": 5
}
