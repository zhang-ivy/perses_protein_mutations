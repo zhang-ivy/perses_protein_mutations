{
 "cells": [
  {
   "cell_type": "code",
   "execution_count": 1,
   "id": "supreme-python",
   "metadata": {},
   "outputs": [],
   "source": [
    "import math\n",
    "from simtk import unit\n",
    "import os\n",
    "import tempfile\n",
    "import pickle\n",
    "import mdtraj as md\n",
    "import numpy as np\n",
    "from simtk.unit.quantity import Quantity\n",
    "import logging"
   ]
  },
  {
   "cell_type": "code",
   "execution_count": 2,
   "id": "applied-monday",
   "metadata": {},
   "outputs": [],
   "source": [
    "# Set up logger\n",
    "_logger = logging.getLogger()\n",
    "_logger.setLevel(logging.INFO)\n",
    "\n",
    "from matplotlib import pyplot as plt\n",
    "from simtk.openmm import app\n",
    "from tqdm import tqdm\n",
    "import argparse\n",
    "import random"
   ]
  },
  {
   "cell_type": "code",
   "execution_count": 3,
   "id": "hungarian-captain",
   "metadata": {},
   "outputs": [],
   "source": [
    "sim_number = 4\n",
    "outdir = \"/data/chodera/zhangi/perses_benchmark/neq/14/64/\"\n",
    "resid = '501'\n",
    "old_aa_name = 'ASN'\n",
    "new_aa_name = 'TYR'\n",
    "\n",
    "if sim_number == 3:\n",
    "    phase = 'complex'\n",
    "    name = \"ASN\"\n",
    "    state = 0\n",
    "elif sim_number == 4:\n",
    "    phase = 'complex'\n",
    "    name = \"TYR\"\n",
    "    state = 1\n",
    "\n",
    "length = 1\n",
    "i = os.path.basename(os.path.dirname(outdir))\n"
   ]
  },
  {
   "cell_type": "code",
   "execution_count": 4,
   "id": "demographic-evening",
   "metadata": {},
   "outputs": [],
   "source": [
    "def new_positions(htf, hybrid_positions):\n",
    "    n_atoms_new = htf._topology_proposal.n_atoms_new\n",
    "    hybrid_indices = [htf._new_to_hybrid_map[idx] for idx in range(n_atoms_new)]\n",
    "    return hybrid_positions[hybrid_indices, :]\n",
    "\n",
    "def old_positions(htf, hybrid_positions):\n",
    "    n_atoms_old = htf._topology_proposal.n_atoms_old\n",
    "    hybrid_indices = [htf._old_to_hybrid_map[idx] for idx in range(n_atoms_old)]\n",
    "    return hybrid_positions[hybrid_indices, :]\n"
   ]
  },
  {
   "cell_type": "code",
   "execution_count": 5,
   "id": "concerned-remains",
   "metadata": {},
   "outputs": [],
   "source": [
    "def get_dihedrals(i, name, length, out_dir, htf, dihedral_indices_new, dihedral_indices_old):\n",
    "    new_top = md.Topology.from_openmm(htf._topology_proposal.new_topology)\n",
    "    old_top = md.Topology.from_openmm(htf._topology_proposal.old_topology)\n",
    "\n",
    "    # From Hannah: https://github.com/hannahbrucemacdonald/endstate_pdbs/blob/master/scripts/input_for_pol_calc.py\n",
    "    from perses.analysis.utils import open_netcdf\n",
    "    nc = open_netcdf(os.path.join(out_dir, f\"{i}_{phase}_{name.lower()}_{length}ns.nc\"))\n",
    "    nc_checkpoint = open_netcdf(os.path.join(out_dir, f\"{i}_{phase}_{name.lower()}_{length}ns_checkpoint.nc\"))\n",
    "    checkpoint_interval = nc_checkpoint.CheckpointInterval\n",
    "    all_positions = nc_checkpoint.variables['positions']\n",
    "    n_iter, n_replicas, n_atoms, _ = np.shape(all_positions)\n",
    "\n",
    "    from tqdm import tqdm\n",
    "    all_pos_new = np.zeros(shape=(n_iter, new_top.n_atoms, 3))\n",
    "    all_pos_old = np.zeros(shape=(n_iter, old_top.n_atoms, 3))\n",
    "    all_pos_hybrid = np.zeros(shape=(n_iter, n_atoms, 3))\n",
    "    for iteration in tqdm(range(n_iter)):\n",
    "        # replica_id = np.where(nc.variables['states'][iteration*checkpoint_interval]== 0)[0]\n",
    "        replica_id = 0\n",
    "        pos = all_positions[iteration,replica_id,:,:] *unit.nanometers\n",
    "        all_pos_new[iteration] = new_positions(htf, pos).value_in_unit_system(unit.md_unit_system) # Get new positions only\n",
    "        all_pos_hybrid[iteration] = pos # Get hybrid positions\n",
    "        all_pos_old[iteration] = old_positions(htf, pos).value_in_unit_system(unit.md_unit_system)\n",
    "\n",
    "    dihedrals_all = []\n",
    "    for pos, top, indices in zip([all_pos_new, all_pos_old], [new_top, old_top], [dihedral_indices_new, dihedral_indices_old]):\n",
    "        traj = md.Trajectory(np.array(pos), top)\n",
    "        dihedrals = md.compute_dihedrals(traj, np.array([indices]))\n",
    "        dihedrals_all.append(dihedrals)\n",
    "\n",
    "    return dihedrals_all, n_iter, all_pos_hybrid, all_pos_new, all_pos_old\n",
    "\n",
    "def plot_dihedrals(dihedrals, outfile):\n",
    "    # Plot histogram with error bars : https://stackoverflow.com/questions/35390276/how-to-add-error-bars-to-histogram-diagram-in-python\n",
    "    entries, edges, _ = plt.hist(dihedrals)\n",
    "    bin_centers = 0.5 * (edges[:-1] + edges[1:]) # calculate bin centers\n",
    "    plt.errorbar(bin_centers, entries, yerr=np.sqrt(entries), fmt='r.') # draw errobars, use the sqrt error\n",
    "    plt.xlim(-np.pi, np.pi)\n",
    "    plt.savefig(outfile, dpi=300)\n",
    "    plt.close()\n",
    "                     \n",
    "def plot_time_series(dihedrals, n_iter, outfile):\n",
    "    plt.scatter(range(n_iter), dihedrals)\n",
    "    plt.ylabel(\"dihedral\")\n",
    "    plt.xlabel(\"iteration number\")\n",
    "    plt.ylim(-np.pi, np.pi)\n",
    "    plt.savefig(outfile, dpi=300)\n",
    "    plt.close()\n",
    "\n",
    "\n"
   ]
  },
  {
   "cell_type": "code",
   "execution_count": 6,
   "id": "subtle-staff",
   "metadata": {},
   "outputs": [],
   "source": [
    "with open(os.path.join(outdir, f\"{i}_{phase}_{state}.pickle\"), 'rb') as f:\n",
    "    htf = pickle.load(f)\n",
    "\n"
   ]
  },
  {
   "cell_type": "code",
   "execution_count": 9,
   "id": "hawaiian-dinner",
   "metadata": {},
   "outputs": [],
   "source": [
    "thr_dihedral = ['N', 'CA', 'CB', 'OG1']\n",
    "other_dihedral = ['N', 'CA', 'CB', 'CG']\n",
    "ala_dihedral = ['N', 'CA', 'CB', 'HB1']\n",
    "asp_dihedral = ['CA', 'CB', 'CG', 'OD2']\n",
    "ile_dihedral = ['N', 'CA', 'CB', 'CG2']\n",
    "gly_dihedral = ['O', 'C', 'CA', 'HA2']\n",
    "ser_dihedral = ['N', 'CA', 'CB', 'OG']\n",
    "\n",
    "dihedral_atoms = []\n",
    "for aa_name in [old_aa_name, new_aa_name]:\n",
    "    if aa_name in [\"PHE\", \"TYR\", \"TRP\", \"GLU\", \"LYS\", \"ARG\", \"GLN\", \"ASN\"]:\n",
    "        dihedral_atoms.append(other_dihedral)\n",
    "    elif aa_name == \"THR\":\n",
    "        dihedral_atoms.append(thr_dihedral)\n",
    "    elif aa_name == \"ALA\":\n",
    "        dihedral_atoms.append(ala_dihedral)\n",
    "    elif aa_name == 'ASP':\n",
    "        dihedral_atoms.append(asp_dihedral)\n",
    "    elif aa_name == 'ILE' or aa_name == 'VAL':\n",
    "        dihedral_atoms.append(ile_dihedral)\n",
    "    elif aa_name == 'GLY':\n",
    "        dihedral_atoms.append(gly_dihedral)"
   ]
  },
  {
   "cell_type": "code",
   "execution_count": 10,
   "id": "legal-saver",
   "metadata": {},
   "outputs": [
    {
     "name": "stderr",
     "output_type": "stream",
     "text": [
      "INFO:root:old indices: [2605, 2607, 2609, 2612]\n",
      "INFO:root:new indices: [2605, 2607, 2609, 2612]\n",
      "100%|██████████| 1001/1001 [03:29<00:00,  4.79it/s]\n"
     ]
    }
   ],
   "source": [
    "for res in htf._topology_proposal.old_topology.residues():\n",
    "    if res.id == resid and res.chain.index == 0:\n",
    "        residue_old = res\n",
    "for res in htf._topology_proposal.new_topology.residues():\n",
    "    if res.id == resid and res.chain.index == 0:\n",
    "        residue_new = res\n",
    "\n",
    "        indices_old = [atom.index for atom in residue_old.atoms() if atom.name in dihedral_atoms[0]]\n",
    "indices_new = [atom.index for atom in residue_new.atoms() if atom.name in dihedral_atoms[1]]\n",
    "_logger.info(f\"old indices: {indices_old}\")\n",
    "_logger.info(f\"new indices: {indices_new}\")\n",
    "\n",
    "dihedrals, n_iter, all_pos_hybrid, all_pos_new, all_pos_old = get_dihedrals(i, name, length, outdir, htf, indices_new, indices_old)\n",
    "\n",
    "# # Save every 10th snapshot\n",
    "# subset_pos = all_pos_hybrid[1::10] # Make array of hybrid positions for 100 uncorrelated indices\n",
    "# _logger.info(f\"subset_pos shape: {subset_pos.shape}\")\n",
    "# with open(os.path.join(outdir, f\"{i}_{phase}_{name.lower()}_{length}ns_snapshots.npy\"), 'wb') as f:\n",
    "#     np.save(f, subset_pos)"
   ]
  },
  {
   "cell_type": "code",
   "execution_count": null,
   "id": "micro-sword",
   "metadata": {},
   "outputs": [],
   "source": [
    "new_top = md.Topology.from_openmm(htf._topology_proposal.new_topology)\n",
    "old_top = md.Topology.from_openmm(htf._topology_proposal.old_topology)\n",
    "traj_new = md.Trajectory(np.array(all_pos_new), new_top)\n",
    "traj_old = md.Trajectory(np.array(all_pos_old), old_top)\n",
    "\n"
   ]
  },
  {
   "cell_type": "code",
   "execution_count": 7,
   "id": "statistical-sunset",
   "metadata": {},
   "outputs": [],
   "source": [
    "box_vectors = np.array([val.value_in_unit_system(unit.md_unit_system) for val in htf.hybrid_system.getDefaultPeriodicBoxVectors()])\n",
    "vectors = np.array([box_vectors]) \n",
    "\n",
    "new_top = md.Topology.from_openmm(htf._topology_proposal.new_topology)\n",
    "traj = md.Trajectory(np.array(htf.new_positions(htf.hybrid_positions)), new_top)\n",
    "    \n",
    "# Set unit cell vectors in traj \n",
    "traj.unitcell_vectors = vectors\n",
    "\n",
    "traj[0].save(os.path.join(outdir, f\"check_box_vectors.pdb\"))"
   ]
  },
  {
   "cell_type": "code",
   "execution_count": null,
   "id": "nuclear-liabilities",
   "metadata": {},
   "outputs": [],
   "source": [
    "traj_new[0].save(os.path.join(outdir, f\"{i}_{phase}_{name.lower()}_{length}_new.pdb\"))\n",
    "traj_new.save(os.path.join(outdir, f\"{i}_{phase}_{name.lower()}_{length}_new.dcd\"))\n",
    "traj_old[0].save(os.path.join(outdir, f\"{i}_{phase}_{name.lower()}_{length}_old.pdb\"))\n",
    "traj_old.save(os.path.join(outdir, f\"{i}_{phase}_{name.lower()}_{length}_old.dcd\"))"
   ]
  },
  {
   "cell_type": "code",
   "execution_count": 12,
   "id": "federal-haiti",
   "metadata": {},
   "outputs": [],
   "source": [
    "# # Plot\n",
    "# dihedrals_new = dihedrals[0]\n",
    "# dihedrals_old = dihedrals[1]\n",
    "# plot_dihedrals(dihedrals_old, os.path.join(outdir, f\"{i}_{phase}_{name.lower()}_{length}ns_{old_aa_name.lower()}_correlated.png\"))\n",
    "# plot_time_series(dihedrals_old, n_iter, os.path.join(outdir, f\"{i}_{phase}_{name.lower()}_{length}ns_{old_aa_name.lower()}_timeseries.png\"))\n",
    "# plot_dihedrals(dihedrals_new, os.path.join(outdir, f\"{i}_{phase}_{name.lower()}_{length}ns_{new_aa_name.lower()}_correlated.png\"))\n",
    "# plot_time_series(dihedrals_new, n_iter, os.path.join(outdir, f\"{i}_{phase}_{name.lower()}_{length}ns_{new_aa_name.lower()}_timeseries.png\"))"
   ]
  },
  {
   "cell_type": "code",
   "execution_count": 13,
   "id": "architectural-sandwich",
   "metadata": {},
   "outputs": [
    {
     "data": {
      "text/plain": [
       "Quantity(value=(Vec3(x=13.804333500000002, y=0.0, z=0.0), Vec3(x=-4.601444128722184, y=13.014850568080696, z=0.0), Vec3(x=-4.601444128722184, y=-6.507424496441187, z=11.271191673136768)), unit=nanometer)"
      ]
     },
     "execution_count": 13,
     "metadata": {},
     "output_type": "execute_result"
    }
   ],
   "source": [
    "htf._topology_proposal.new_topology.getPeriodicBoxVectors()"
   ]
  },
  {
   "cell_type": "code",
   "execution_count": 15,
   "id": "fifty-american",
   "metadata": {},
   "outputs": [
    {
     "data": {
      "text/plain": [
       "[Quantity(value=Vec3(x=13.804333500000002, y=0.0, z=0.0), unit=nanometer),\n",
       " Quantity(value=Vec3(x=-4.601444128722184, y=13.014850568080696, z=0.0), unit=nanometer),\n",
       " Quantity(value=Vec3(x=-4.601444128722184, y=-6.507424496441187, z=11.271191673136768), unit=nanometer)]"
      ]
     },
     "execution_count": 15,
     "metadata": {},
     "output_type": "execute_result"
    }
   ],
   "source": [
    "htf.hybrid_system.getDefaultPeriodicBoxVectors()"
   ]
  },
  {
   "cell_type": "code",
   "execution_count": null,
   "id": "drawn-opportunity",
   "metadata": {},
   "outputs": [],
   "source": []
  }
 ],
 "metadata": {
  "kernelspec": {
   "display_name": "Python 3 (ipykernel)",
   "language": "python",
   "name": "python3"
  },
  "language_info": {
   "codemirror_mode": {
    "name": "ipython",
    "version": 3
   },
   "file_extension": ".py",
   "mimetype": "text/x-python",
   "name": "python",
   "nbconvert_exporter": "python",
   "pygments_lexer": "ipython3",
   "version": "3.8.11"
  }
 },
 "nbformat": 4,
 "nbformat_minor": 5
}
