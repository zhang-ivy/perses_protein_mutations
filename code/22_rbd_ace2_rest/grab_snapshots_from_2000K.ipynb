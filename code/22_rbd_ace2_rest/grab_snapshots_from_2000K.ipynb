{
 "cells": [
  {
   "cell_type": "code",
   "execution_count": 1,
   "id": "frank-competition",
   "metadata": {},
   "outputs": [],
   "source": [
    "import math\n",
    "from simtk import unit\n",
    "import os\n",
    "import tempfile\n",
    "import pickle\n",
    "import mdtraj as md\n",
    "import numpy as np\n",
    "from simtk.unit.quantity import Quantity\n",
    "import logging \n",
    "\n",
    "# Set up logger\n",
    "_logger = logging.getLogger()\n",
    "_logger.setLevel(logging.INFO)\n",
    "\n",
    "from matplotlib import pyplot as plt\n",
    "from simtk.openmm import app\n",
    "from tqdm import tqdm\n",
    "import argparse\n",
    "import random"
   ]
  },
  {
   "cell_type": "code",
   "execution_count": 2,
   "id": "motivated-paste",
   "metadata": {},
   "outputs": [],
   "source": [
    "phase = 'complex'\n",
    "name = 'tyr'\n",
    "state = 1\n",
    "resid = '501'\n",
    "out_dir = \"/data/chodera/zhangi/perses_benchmark/neq/14/84/\"\n",
    "length = 1\n",
    "i = os.path.basename(os.path.dirname(out_dir))"
   ]
  },
  {
   "cell_type": "code",
   "execution_count": 3,
   "id": "centered-crisis",
   "metadata": {},
   "outputs": [],
   "source": [
    "def new_positions(htf, hybrid_positions):\n",
    "    n_atoms_new = htf._topology_proposal.n_atoms_new\n",
    "    hybrid_indices = [htf._new_to_hybrid_map[idx] for idx in range(n_atoms_new)]\n",
    "    return hybrid_positions[hybrid_indices, :]\n",
    "    \n",
    "def old_positions(htf, hybrid_positions):\n",
    "    n_atoms_old = htf._topology_proposal.n_atoms_old\n",
    "    hybrid_indices = [htf._old_to_hybrid_map[idx] for idx in range(n_atoms_old)]\n",
    "    return hybrid_positions[hybrid_indices, :]\n",
    "\n",
    "def get_dihedrals(i, name, length, out_dir, htf):\n",
    "    new_top = md.Topology.from_openmm(htf._topology_proposal.new_topology)\n",
    "    old_top = md.Topology.from_openmm(htf._topology_proposal.old_topology)\n",
    "    \n",
    "    # From Hannah: https://github.com/hannahbrucemacdonald/endstate_pdbs/blob/master/scripts/input_for_pol_calc.py\n",
    "    from perses.analysis.utils import open_netcdf\n",
    "    nc = open_netcdf(os.path.join(out_dir, f\"{i}_{phase}_{name.lower()}_{length}ns.nc\"))\n",
    "    nc_checkpoint = open_netcdf(os.path.join(out_dir, f\"{i}_{phase}_{name.lower()}_{length}ns_checkpoint.nc\"))\n",
    "    checkpoint_interval = nc_checkpoint.CheckpointInterval\n",
    "    all_positions = nc_checkpoint.variables['positions']\n",
    "    n_iter, n_replicas, n_atoms, _ = np.shape(all_positions)\n",
    "    box_vectors = np.array(nc_checkpoint['box_vectors'])\n",
    "\n",
    "    from tqdm import tqdm\n",
    "    all_pos_new = np.zeros(shape=(n_iter, new_top.n_atoms, 3))\n",
    "    all_pos_old = np.zeros(shape=(n_iter, old_top.n_atoms, 3))\n",
    "    all_pos_hybrid = np.zeros(shape=(n_iter, n_atoms, 3))\n",
    "    for iteration in tqdm(range(n_iter)):\n",
    "        # replica_id = np.where(nc.variables['states'][iteration*checkpoint_interval] == 0)[0]\n",
    "        replica_id = 1\n",
    "        pos = all_positions[iteration,replica_id,:,:] *unit.nanometers\n",
    "        all_pos_new[iteration] = new_positions(htf, pos).value_in_unit_system(unit.md_unit_system) # Get new positions only\n",
    "        all_pos_hybrid[iteration] = pos # Get hybrid positions\n",
    "        all_pos_old[iteration] = old_positions(htf, pos).value_in_unit_system(unit.md_unit_system)\n",
    "\n",
    "#     dihedrals_all = []\n",
    "#     for pos, top, indices in zip([all_pos_new, all_pos_old], [new_top, old_top], [dihedral_indices_new, dihedral_indices_old]):\n",
    "#         traj = md.Trajectory(np.array(pos), top)\n",
    "#         dihedrals = md.compute_dihedrals(traj, np.array([indices]))\n",
    "#         dihedrals_all.append(dihedrals)\n",
    "    \n",
    "    return n_iter, all_pos_hybrid, box_vectors\n",
    "    "
   ]
  },
  {
   "cell_type": "code",
   "execution_count": 4,
   "id": "royal-sheriff",
   "metadata": {},
   "outputs": [],
   "source": [
    "with open(os.path.join(out_dir, f\"{i}_{phase}_{state}.pickle\"), 'rb') as f:\n",
    "    htf = pickle.load(f)\n",
    "\n"
   ]
  },
  {
   "cell_type": "code",
   "execution_count": 5,
   "id": "recognized-button",
   "metadata": {},
   "outputs": [
    {
     "name": "stderr",
     "output_type": "stream",
     "text": [
      "100%|██████████| 1001/1001 [02:10<00:00,  7.69it/s]\n"
     ]
    }
   ],
   "source": [
    "n_iter, all_pos_hybrid, box_vectors = get_dihedrals(i, name, length, out_dir, htf)\n"
   ]
  },
  {
   "cell_type": "code",
   "execution_count": 6,
   "id": "palestinian-corruption",
   "metadata": {},
   "outputs": [
    {
     "name": "stderr",
     "output_type": "stream",
     "text": [
      "INFO:root:subset_pos shape: (100, 183508, 3)\n"
     ]
    }
   ],
   "source": [
    "# Save every 10th snapshot\n",
    "subset_pos = all_pos_hybrid[1::10] # Make array of hybrid positions for 100 uncorrelated indices\n",
    "_logger.info(f\"subset_pos shape: {subset_pos.shape}\")\n",
    "with open(os.path.join(out_dir, f\"{i}_{phase}_{name.lower()}_{length}ns_snapshots_2000K.npy\"), 'wb') as f:\n",
    "    np.save(f, subset_pos)\n"
   ]
  },
  {
   "cell_type": "code",
   "execution_count": null,
   "id": "collaborative-funds",
   "metadata": {},
   "outputs": [],
   "source": []
  },
  {
   "cell_type": "code",
   "execution_count": null,
   "id": "brave-transmission",
   "metadata": {},
   "outputs": [],
   "source": []
  }
 ],
 "metadata": {
  "kernelspec": {
   "display_name": "Python 3",
   "language": "python",
   "name": "python3"
  },
  "language_info": {
   "codemirror_mode": {
    "name": "ipython",
    "version": 3
   },
   "file_extension": ".py",
   "mimetype": "text/x-python",
   "name": "python",
   "nbconvert_exporter": "python",
   "pygments_lexer": "ipython3",
   "version": "3.8.6"
  }
 },
 "nbformat": 4,
 "nbformat_minor": 5
}
