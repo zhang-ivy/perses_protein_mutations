{
 "cells": [
  {
   "cell_type": "markdown",
   "id": "b04d2778",
   "metadata": {},
   "source": [
    "# Check to see if scaled water rest has andersen thermostat"
   ]
  },
  {
   "cell_type": "code",
   "execution_count": 1,
   "id": "88ef4aeb",
   "metadata": {},
   "outputs": [
    {
     "name": "stderr",
     "output_type": "stream",
     "text": [
      "INFO:numexpr.utils:Note: detected 80 virtual cores but NumExpr set to maximum of 64, check \"NUMEXPR_MAX_THREADS\" environment variable.\n",
      "INFO:numexpr.utils:Note: NumExpr detected 80 cores but \"NUMEXPR_MAX_THREADS\" not set, so enforcing safe limit of 8.\n",
      "INFO:numexpr.utils:NumExpr defaulting to 8 threads.\n"
     ]
    },
    {
     "name": "stdout",
     "output_type": "stream",
     "text": [
      "conducting subsequent work with the following platform: CUDA\n",
      "conducting subsequent work with the following platform: CUDA\n"
     ]
    },
    {
     "name": "stderr",
     "output_type": "stream",
     "text": [
      "INFO:rdkit:Enabling RDKit 2021.03.3 jupyter extensions\n"
     ]
    }
   ],
   "source": [
    "import pickle\n",
    "import os\n",
    "from openeye import oechem\n",
    "from perses.annihilation.rest import RESTTopologyFactoryV2\n",
    "from perses.annihilation.lambda_protocol import RESTStateV2\n",
    "from openmmtools.states import SamplerState, ThermodynamicState, CompoundThermodynamicState\n",
    "from openmmtools import cache, utils\n",
    "from perses.dispersed.utils import configure_platform\n",
    "cache.global_context_cache.platform = configure_platform(utils.get_fastest_platform().getName())\n",
    "from simtk import openmm, unit\n",
    "import math\n",
    "from openmmtools.constants import kB\n",
    "from openmmtools import mcmc, multistate\n",
    "import argparse\n",
    "import copy\n",
    "from perses.dispersed import feptasks\n",
    "import mdtraj as md\n",
    "import numpy as np\n",
    "from perses.app.relative_point_mutation_setup import PointMutationExecutor\n"
   ]
  },
  {
   "cell_type": "code",
   "execution_count": 5,
   "id": "c8ca1338",
   "metadata": {},
   "outputs": [],
   "source": [
    "phase = 'apo'\n",
    "name = \"arg\"\n",
    "state = 0\n",
    "\n",
    "length = 1\n",
    "move_length = 1\n",
    "timestep = 4\n",
    "radius = 0.4\n",
    "\n",
    "outdir = \"/data/chodera/zhangi/perses_benchmark/neq/20/30/\""
   ]
  },
  {
   "cell_type": "code",
   "execution_count": 7,
   "id": "9023f553",
   "metadata": {},
   "outputs": [],
   "source": [
    "# Load rhtf\n",
    "i = os.path.basename(os.path.dirname(outdir))\n",
    "path = os.path.join(outdir, f\"{i}_{phase}_{state}.pickle\")\n",
    "htf = pickle.load(open(path, \"rb\" ))\n",
    "\n"
   ]
  },
  {
   "cell_type": "code",
   "execution_count": 11,
   "id": "1b964671",
   "metadata": {},
   "outputs": [
    {
     "name": "stderr",
     "output_type": "stream",
     "text": [
      "INFO:REST:Added MonteCarloBarostat.\n",
      "INFO:REST:getDefaultPeriodicBoxVectors added to hybrid: [Quantity(value=Vec3(x=6.2004, y=0.0, z=0.0), unit=nanometer), Quantity(value=Vec3(x=0.0, y=6.2004, z=0.0), unit=nanometer), Quantity(value=Vec3(x=0.0, y=0.0, z=6.2004), unit=nanometer)]\n",
      "INFO:REST:No unknown forces.\n",
      "INFO:REST:Handling constraints\n",
      "INFO:REST:Handling bonds\n",
      "INFO:REST:Handling angles\n",
      "INFO:REST:Handling torsions\n",
      "INFO:REST:Handling nonbondeds\n",
      "INFO:REST:Handling nonbonded scaling (custom nb)\n",
      "INFO:REST:Handling nonbonded exception scaling (custom bond)\n"
     ]
    }
   ],
   "source": [
    "# Build REST factory\n",
    "for res in htf.hybrid_topology.residues:\n",
    "    if res.resSeq == 83 and res.chain.index == 0:\n",
    "        mutated_res = res\n",
    "query_indices = [atom.index for atom in mutated_res.atoms]\n",
    "traj = md.Trajectory(np.array(htf.hybrid_positions), htf.hybrid_topology)\n",
    "solute_atoms = list(traj.topology.select(\"is_protein\"))\n",
    "rest_atoms = list(md.compute_neighbors(traj, radius, query_indices, haystack_indices=solute_atoms)[0])\n",
    "factory = RESTTopologyFactoryV2(htf.hybrid_system, htf.hybrid_topology, rest_region=rest_atoms, use_dispersion_correction=True)"
   ]
  },
  {
   "cell_type": "code",
   "execution_count": 13,
   "id": "1fdd69ce",
   "metadata": {},
   "outputs": [],
   "source": [
    "# Get REST system\n",
    "REST_system = factory.REST_system\n",
    "\n",
    "# Create states for each replica\n",
    "n_replicas = 12  # Number of temperature replicas.\n",
    "T_min = 300.0 * unit.kelvin  # Minimum temperature.\n",
    "T_max = 1200 * unit.kelvin  # Maximum temperature.\n",
    "temperatures = [T_min + (T_max - T_min) * (math.exp(float(i) / float(n_replicas-1)) - 1.0) / (math.e - 1.0)\n",
    "                for i in range(n_replicas)]\n",
    "\n",
    "# Create reference thermodynamic state\n",
    "lambda_zero_alchemical_state = RESTStateV2.from_system(REST_system)\n",
    "thermostate = ThermodynamicState(REST_system, temperature=T_min)\n",
    "compound_thermodynamic_state = CompoundThermodynamicState(thermostate, composable_states=[lambda_zero_alchemical_state])"
   ]
  },
  {
   "cell_type": "code",
   "execution_count": 21,
   "id": "87ddf23b",
   "metadata": {},
   "outputs": [
    {
     "data": {
      "text/plain": [
       "[<simtk.openmm.openmm.MonteCarloBarostat; proxy of <Swig Object of type 'OpenMM::MonteCarloBarostat *' at 0x2b238f059b40> >,\n",
       " <simtk.openmm.openmm.CustomBondForce; proxy of <Swig Object of type 'OpenMM::CustomBondForce *' at 0x2b2395561de0> >,\n",
       " <simtk.openmm.openmm.CustomAngleForce; proxy of <Swig Object of type 'OpenMM::CustomAngleForce *' at 0x2b23955618d0> >,\n",
       " <simtk.openmm.openmm.CustomTorsionForce; proxy of <Swig Object of type 'OpenMM::CustomTorsionForce *' at 0x2b2395561930> >,\n",
       " <simtk.openmm.openmm.NonbondedForce; proxy of <Swig Object of type 'OpenMM::NonbondedForce *' at 0x2b23955619c0> >,\n",
       " <simtk.openmm.openmm.CustomNonbondedForce; proxy of <Swig Object of type 'OpenMM::CustomNonbondedForce *' at 0x2b2395561a50> >,\n",
       " <simtk.openmm.openmm.CustomBondForce; proxy of <Swig Object of type 'OpenMM::CustomBondForce *' at 0x2b2395561ae0> >]"
      ]
     },
     "execution_count": 21,
     "metadata": {},
     "output_type": "execute_result"
    }
   ],
   "source": [
    "REST_system.getForces()"
   ]
  },
  {
   "cell_type": "code",
   "execution_count": 14,
   "id": "dcc114bf",
   "metadata": {},
   "outputs": [],
   "source": [
    "# Create thermodynamics states\n",
    "sampler_state =  SamplerState(htf.hybrid_positions, box_vectors=htf.hybrid_system.\n",
    "getDefaultPeriodicBoxVectors())\n",
    "beta_0 = 1/(kB*T_min)\n",
    "thermodynamic_state_list = []\n",
    "sampler_state_list = []\n",
    "for temperature in temperatures:\n",
    "    beta_m = 1/(kB*temperature)\n",
    "    compound_thermodynamic_state_copy = copy.deepcopy(compound_thermodynamic_state)\n",
    "    compound_thermodynamic_state_copy.set_alchemical_parameters(beta_0, beta_m)\n",
    "    thermodynamic_state_list.append(compound_thermodynamic_state_copy)\n",
    "\n",
    "    # now generating a sampler_state for each thermodynamic state, with relaxed positions\n",
    "    # context, context_integrator = context_cache.get_context(compound_thermodynamic_state_copy)\n",
    "    feptasks.minimize(compound_thermodynamic_state_copy, sampler_state, max_iterations=0)\n",
    "    sampler_state_list.append(copy.deepcopy(sampler_state))\n"
   ]
  },
  {
   "cell_type": "code",
   "execution_count": 20,
   "id": "48dabcd4",
   "metadata": {
    "scrolled": true
   },
   "outputs": [
    {
     "data": {
      "text/plain": [
       "[<simtk.openmm.openmm.CustomBondForce; proxy of <Swig Object of type 'OpenMM::CustomBondForce *' at 0x2b238f059f90> >,\n",
       " <simtk.openmm.openmm.CustomAngleForce; proxy of <Swig Object of type 'OpenMM::CustomAngleForce *' at 0x2b238f059c60> >,\n",
       " <simtk.openmm.openmm.CustomTorsionForce; proxy of <Swig Object of type 'OpenMM::CustomTorsionForce *' at 0x2b238f059cf0> >,\n",
       " <simtk.openmm.openmm.NonbondedForce; proxy of <Swig Object of type 'OpenMM::NonbondedForce *' at 0x2b23955617e0> >,\n",
       " <simtk.openmm.openmm.CustomNonbondedForce; proxy of <Swig Object of type 'OpenMM::CustomNonbondedForce *' at 0x2b2395561d80> >,\n",
       " <simtk.openmm.openmm.CustomBondForce; proxy of <Swig Object of type 'OpenMM::CustomBondForce *' at 0x2b2395561f30> >,\n",
       " <simtk.openmm.openmm.AndersenThermostat; proxy of <Swig Object of type 'OpenMM::AndersenThermostat *' at 0x2b2395561e40> >,\n",
       " <simtk.openmm.openmm.MonteCarloBarostat; proxy of <Swig Object of type 'OpenMM::MonteCarloBarostat *' at 0x2b2395561d50> >]"
      ]
     },
     "execution_count": 20,
     "metadata": {},
     "output_type": "execute_result"
    }
   ],
   "source": [
    "thermodynamic_state_list[0].get_system().getForces()"
   ]
  },
  {
   "cell_type": "code",
   "execution_count": null,
   "id": "d4be5ff4",
   "metadata": {},
   "outputs": [],
   "source": []
  },
  {
   "cell_type": "markdown",
   "id": "77afdff1",
   "metadata": {},
   "source": [
    "# Check to see if normal rest has andersen thermostat"
   ]
  },
  {
   "cell_type": "code",
   "execution_count": 14,
   "id": "b56acc87",
   "metadata": {},
   "outputs": [
    {
     "name": "stdout",
     "output_type": "stream",
     "text": [
      "conducting subsequent work with the following platform: CUDA\n"
     ]
    }
   ],
   "source": [
    "import pickle\n",
    "import os\n",
    "from openeye import oechem\n",
    "from perses.annihilation.rest import RESTTopologyFactory\n",
    "from perses.annihilation.lambda_protocol import RESTState\n",
    "from openmmtools.states import SamplerState, ThermodynamicState, CompoundThermodynamicState\n",
    "from openmmtools import cache, utils\n",
    "from perses.dispersed.utils import configure_platform\n",
    "cache.global_context_cache.platform = configure_platform(utils.get_fastest_platform().getName())\n",
    "from simtk import openmm, unit\n",
    "import math\n",
    "from openmmtools.constants import kB\n",
    "from openmmtools import mcmc, multistate\n",
    "import argparse\n",
    "import copy\n",
    "from perses.dispersed import feptasks\n",
    "import mdtraj as md\n",
    "import numpy as np\n",
    "from perses.app.relative_point_mutation_setup import PointMutationExecutor\n"
   ]
  },
  {
   "cell_type": "code",
   "execution_count": 15,
   "id": "2e23065c",
   "metadata": {},
   "outputs": [],
   "source": [
    "phase = 'apo'\n",
    "name = \"arg\"\n",
    "state = 0\n",
    "\n",
    "length = 1\n",
    "move_length = 1\n",
    "timestep = 4\n",
    "radius = 0.4\n",
    "\n",
    "outdir = \"/data/chodera/zhangi/perses_benchmark/neq/20/30/\""
   ]
  },
  {
   "cell_type": "code",
   "execution_count": 16,
   "id": "3a7bc22d",
   "metadata": {},
   "outputs": [],
   "source": [
    "# Load rhtf\n",
    "i = os.path.basename(os.path.dirname(outdir))\n",
    "path = os.path.join(outdir, f\"{i}_{phase}_{state}.pickle\")\n",
    "htf = pickle.load(open(path, \"rb\" ))\n",
    "\n"
   ]
  },
  {
   "cell_type": "code",
   "execution_count": 17,
   "id": "b36e916e",
   "metadata": {},
   "outputs": [
    {
     "name": "stderr",
     "output_type": "stream",
     "text": [
      "INFO:REST:Added MonteCarloBarostat.\n",
      "INFO:REST:getDefaultPeriodicBoxVectors added to hybrid: [Quantity(value=Vec3(x=6.2004, y=0.0, z=0.0), unit=nanometer), Quantity(value=Vec3(x=0.0, y=6.2004, z=0.0), unit=nanometer), Quantity(value=Vec3(x=0.0, y=0.0, z=6.2004), unit=nanometer)]\n",
      "INFO:REST:No unknown forces.\n"
     ]
    }
   ],
   "source": [
    "# Build REST factory\n",
    "for res in htf.hybrid_topology.residues:\n",
    "    if res.resSeq == 83 and res.chain.index == 0:\n",
    "        mutated_res = res\n",
    "query_indices = [atom.index for atom in mutated_res.atoms]\n",
    "traj = md.Trajectory(np.array(htf.hybrid_positions), htf.hybrid_topology)\n",
    "solute_atoms = list(traj.topology.select(\"is_protein\"))\n",
    "rest_atoms = list(md.compute_neighbors(traj, radius, query_indices, haystack_indices=solute_atoms)[0])\n",
    "factory = RESTTopologyFactory(htf.hybrid_system, solute_region=rest_atoms, use_dispersion_correction=True)"
   ]
  },
  {
   "cell_type": "code",
   "execution_count": 18,
   "id": "035fe1dc",
   "metadata": {},
   "outputs": [],
   "source": [
    "# Get REST system\n",
    "REST_system = factory.REST_system\n",
    "\n",
    "# Create states for each replica\n",
    "n_replicas = 12  # Number of temperature replicas.\n",
    "T_min = 300.0 * unit.kelvin  # Minimum temperature.\n",
    "T_max = 1200 * unit.kelvin  # Maximum temperature.\n",
    "temperatures = [T_min + (T_max - T_min) * (math.exp(float(i) / float(n_replicas-1)) - 1.0) / (math.e - 1.0)\n",
    "                for i in range(n_replicas)]\n",
    "\n",
    "# Create reference thermodynamic state\n",
    "lambda_zero_alchemical_state = RESTState.from_system(REST_system)\n",
    "thermostate = ThermodynamicState(REST_system, temperature=T_min)\n",
    "compound_thermodynamic_state = CompoundThermodynamicState(thermostate, composable_states=[lambda_zero_alchemical_state])"
   ]
  },
  {
   "cell_type": "code",
   "execution_count": 6,
   "id": "6b46c9e6",
   "metadata": {},
   "outputs": [
    {
     "ename": "ThermodynamicsError",
     "evalue": "System does not have a thermostat specifying the temperature.",
     "output_type": "error",
     "traceback": [
      "\u001b[0;31m--------------------------------------------------------\u001b[0m",
      "\u001b[0;31mThermodynamicsError\u001b[0m    Traceback (most recent call last)",
      "\u001b[0;32m<ipython-input-6-55785ff1338c>\u001b[0m in \u001b[0;36m<module>\u001b[0;34m\u001b[0m\n\u001b[0;32m----> 1\u001b[0;31m \u001b[0mthermostate\u001b[0m\u001b[0;34m.\u001b[0m\u001b[0mset_system\u001b[0m\u001b[0;34m(\u001b[0m\u001b[0mREST_system\u001b[0m\u001b[0;34m)\u001b[0m\u001b[0;34m\u001b[0m\u001b[0;34m\u001b[0m\u001b[0m\n\u001b[0m",
      "\u001b[0;32m~/miniconda3/envs/perses-rest2v2/lib/python3.8/site-packages/openmmtools/states.py\u001b[0m in \u001b[0;36mset_system\u001b[0;34m(self, system, fix_state)\u001b[0m\n\u001b[1;32m    586\u001b[0m         \u001b[0;31m# Copy the system to avoid modifications during standardization.\u001b[0m\u001b[0;34m\u001b[0m\u001b[0;34m\u001b[0m\u001b[0;34m\u001b[0m\u001b[0m\n\u001b[1;32m    587\u001b[0m         \u001b[0msystem\u001b[0m \u001b[0;34m=\u001b[0m \u001b[0mcopy\u001b[0m\u001b[0;34m.\u001b[0m\u001b[0mdeepcopy\u001b[0m\u001b[0;34m(\u001b[0m\u001b[0msystem\u001b[0m\u001b[0;34m)\u001b[0m\u001b[0;34m\u001b[0m\u001b[0;34m\u001b[0m\u001b[0m\n\u001b[0;32m--> 588\u001b[0;31m         \u001b[0mself\u001b[0m\u001b[0;34m.\u001b[0m\u001b[0m_unsafe_set_system\u001b[0m\u001b[0;34m(\u001b[0m\u001b[0msystem\u001b[0m\u001b[0;34m,\u001b[0m \u001b[0mfix_state\u001b[0m\u001b[0;34m)\u001b[0m\u001b[0;34m\u001b[0m\u001b[0;34m\u001b[0m\u001b[0m\n\u001b[0m\u001b[1;32m    589\u001b[0m \u001b[0;34m\u001b[0m\u001b[0m\n\u001b[1;32m    590\u001b[0m     \u001b[0;32mdef\u001b[0m \u001b[0mget_system\u001b[0m\u001b[0;34m(\u001b[0m\u001b[0mself\u001b[0m\u001b[0;34m,\u001b[0m \u001b[0mremove_thermostat\u001b[0m\u001b[0;34m=\u001b[0m\u001b[0;32mFalse\u001b[0m\u001b[0;34m,\u001b[0m \u001b[0mremove_barostat\u001b[0m\u001b[0;34m=\u001b[0m\u001b[0;32mFalse\u001b[0m\u001b[0;34m)\u001b[0m\u001b[0;34m:\u001b[0m\u001b[0;34m\u001b[0m\u001b[0;34m\u001b[0m\u001b[0m\n",
      "\u001b[0;32m~/miniconda3/envs/perses-rest2v2/lib/python3.8/site-packages/openmmtools/states.py\u001b[0m in \u001b[0;36m_unsafe_set_system\u001b[0;34m(self, system, fix_state)\u001b[0m\n\u001b[1;32m   1382\u001b[0m             \u001b[0;31m# If the flag is deactivated, we check that temperature\u001b[0m\u001b[0;34m\u001b[0m\u001b[0;34m\u001b[0m\u001b[0;34m\u001b[0m\u001b[0m\n\u001b[1;32m   1383\u001b[0m             \u001b[0;31m# pressure, and surface tension of the system are correct.\u001b[0m\u001b[0;34m\u001b[0m\u001b[0;34m\u001b[0m\u001b[0;34m\u001b[0m\u001b[0m\n\u001b[0;32m-> 1384\u001b[0;31m             \u001b[0mself\u001b[0m\u001b[0;34m.\u001b[0m\u001b[0m_check_system_consistency\u001b[0m\u001b[0;34m(\u001b[0m\u001b[0msystem\u001b[0m\u001b[0;34m)\u001b[0m\u001b[0;34m\u001b[0m\u001b[0;34m\u001b[0m\u001b[0m\n\u001b[0m\u001b[1;32m   1385\u001b[0m \u001b[0;34m\u001b[0m\u001b[0m\n\u001b[1;32m   1386\u001b[0m         \u001b[0;31m# Update standard system.\u001b[0m\u001b[0;34m\u001b[0m\u001b[0;34m\u001b[0m\u001b[0;34m\u001b[0m\u001b[0m\n",
      "\u001b[0;32m~/miniconda3/envs/perses-rest2v2/lib/python3.8/site-packages/openmmtools/states.py\u001b[0m in \u001b[0;36m_check_system_consistency\u001b[0;34m(self, system)\u001b[0m\n\u001b[1;32m   1416\u001b[0m         \u001b[0;31m# checking the barostat temperature.\u001b[0m\u001b[0;34m\u001b[0m\u001b[0;34m\u001b[0m\u001b[0;34m\u001b[0m\u001b[0m\n\u001b[1;32m   1417\u001b[0m         \u001b[0;32mif\u001b[0m \u001b[0mthermostat\u001b[0m \u001b[0;32mis\u001b[0m \u001b[0;32mNone\u001b[0m\u001b[0;34m:\u001b[0m\u001b[0;34m\u001b[0m\u001b[0;34m\u001b[0m\u001b[0m\n\u001b[0;32m-> 1418\u001b[0;31m             \u001b[0;32mraise\u001b[0m \u001b[0mTE\u001b[0m\u001b[0;34m(\u001b[0m\u001b[0mTE\u001b[0m\u001b[0;34m.\u001b[0m\u001b[0mNO_THERMOSTAT\u001b[0m\u001b[0;34m)\u001b[0m\u001b[0;34m\u001b[0m\u001b[0;34m\u001b[0m\u001b[0m\n\u001b[0m\u001b[1;32m   1419\u001b[0m         elif not utils.is_quantity_close(thermostat.getDefaultTemperature(),\n\u001b[1;32m   1420\u001b[0m                                          self.temperature):\n",
      "\u001b[0;31mThermodynamicsError\u001b[0m: System does not have a thermostat specifying the temperature."
     ]
    }
   ],
   "source": [
    "thermostate.set_system(REST_system)\n"
   ]
  },
  {
   "cell_type": "code",
   "execution_count": 49,
   "id": "7c9f0580",
   "metadata": {},
   "outputs": [
    {
     "data": {
      "text/plain": [
       "[<simtk.openmm.openmm.CustomBondForce; proxy of <Swig Object of type 'OpenMM::CustomBondForce *' at 0x2b23b79e8d20> >,\n",
       " <simtk.openmm.openmm.CustomAngleForce; proxy of <Swig Object of type 'OpenMM::CustomAngleForce *' at 0x2b23b79e8de0> >,\n",
       " <simtk.openmm.openmm.CustomTorsionForce; proxy of <Swig Object of type 'OpenMM::CustomTorsionForce *' at 0x2b23b79e8270> >,\n",
       " <simtk.openmm.openmm.NonbondedForce; proxy of <Swig Object of type 'OpenMM::NonbondedForce *' at 0x2b23b79e8630> >,\n",
       " <simtk.openmm.openmm.MonteCarloBarostat; proxy of <Swig Object of type 'OpenMM::MonteCarloBarostat *' at 0x2b23b79f8240> >,\n",
       " <simtk.openmm.openmm.AndersenThermostat; proxy of <Swig Object of type 'OpenMM::AndersenThermostat *' at 0x2b23b79f8360> >]"
      ]
     },
     "execution_count": 49,
     "metadata": {},
     "output_type": "execute_result"
    }
   ],
   "source": [
    "thermostate.system.getForces()\n"
   ]
  },
  {
   "cell_type": "code",
   "execution_count": 43,
   "id": "0e398f8e",
   "metadata": {},
   "outputs": [],
   "source": [
    "thermostate._remove_thermostat(thermostate._standard_system)\n"
   ]
  },
  {
   "cell_type": "code",
   "execution_count": 33,
   "id": "2ab7a9df",
   "metadata": {},
   "outputs": [
    {
     "data": {
      "text/plain": [
       "[<simtk.openmm.openmm.MonteCarloBarostat; proxy of <Swig Object of type 'OpenMM::MonteCarloBarostat *' at 0x2b2393ca8330> >,\n",
       " <simtk.openmm.openmm.CustomBondForce; proxy of <Swig Object of type 'OpenMM::CustomBondForce *' at 0x2b2393ca8630> >,\n",
       " <simtk.openmm.openmm.CustomAngleForce; proxy of <Swig Object of type 'OpenMM::CustomAngleForce *' at 0x2b2393ca8210> >,\n",
       " <simtk.openmm.openmm.CustomTorsionForce; proxy of <Swig Object of type 'OpenMM::CustomTorsionForce *' at 0x2b238ecadae0> >,\n",
       " <simtk.openmm.openmm.NonbondedForce; proxy of <Swig Object of type 'OpenMM::NonbondedForce *' at 0x2b23846b0210> >]"
      ]
     },
     "execution_count": 33,
     "metadata": {},
     "output_type": "execute_result"
    }
   ],
   "source": [
    "REST_system.getForces()\n"
   ]
  },
  {
   "cell_type": "code",
   "execution_count": 42,
   "id": "eabc0d26",
   "metadata": {},
   "outputs": [],
   "source": [
    "# Create thermodynamics states\n",
    "sampler_state =  SamplerState(htf.hybrid_positions, box_vectors=htf.hybrid_system.\n",
    "getDefaultPeriodicBoxVectors())\n",
    "beta_0 = 1/(kB*T_min)\n",
    "thermodynamic_state_list = []\n",
    "sampler_state_list = []\n",
    "for temperature in temperatures:\n",
    "    beta_m = 1/(kB*temperature)\n",
    "    compound_thermodynamic_state_copy = copy.deepcopy(compound_thermodynamic_state)\n",
    "    compound_thermodynamic_state_copy.set_alchemical_parameters(beta_0, beta_m)\n",
    "    thermodynamic_state_list.append(compound_thermodynamic_state_copy)\n",
    "\n",
    "    # now generating a sampler_state for each thermodynamic state, with relaxed positions\n",
    "    # context, context_integrator = context_cache.get_context(compound_thermodynamic_state_copy)\n",
    "    feptasks.minimize(compound_thermodynamic_state_copy, sampler_state, max_iterations=0)\n",
    "    sampler_state_list.append(copy.deepcopy(sampler_state))\n"
   ]
  },
  {
   "cell_type": "code",
   "execution_count": 23,
   "id": "7b0aab7a",
   "metadata": {
    "scrolled": true
   },
   "outputs": [
    {
     "data": {
      "text/plain": [
       "[<simtk.openmm.openmm.CustomBondForce; proxy of <Swig Object of type 'OpenMM::CustomBondForce *' at 0x2b5569e0c210> >,\n",
       " <simtk.openmm.openmm.CustomAngleForce; proxy of <Swig Object of type 'OpenMM::CustomAngleForce *' at 0x2b5569e0c060> >,\n",
       " <simtk.openmm.openmm.CustomTorsionForce; proxy of <Swig Object of type 'OpenMM::CustomTorsionForce *' at 0x2b54de8d7960> >,\n",
       " <simtk.openmm.openmm.NonbondedForce; proxy of <Swig Object of type 'OpenMM::NonbondedForce *' at 0x2b5569e01de0> >,\n",
       " <simtk.openmm.openmm.AndersenThermostat; proxy of <Swig Object of type 'OpenMM::AndersenThermostat *' at 0x2b5569e01cf0> >,\n",
       " <simtk.openmm.openmm.MonteCarloBarostat; proxy of <Swig Object of type 'OpenMM::MonteCarloBarostat *' at 0x2b5569e01f00> >]"
      ]
     },
     "execution_count": 23,
     "metadata": {},
     "output_type": "execute_result"
    }
   ],
   "source": [
    "thermodynamic_state_list[0].get_system().getForces()\n"
   ]
  },
  {
   "cell_type": "code",
   "execution_count": 9,
   "id": "6277e1c4",
   "metadata": {},
   "outputs": [],
   "source": [
    "import openmmtools"
   ]
  },
  {
   "cell_type": "code",
   "execution_count": 12,
   "id": "cdd382cd",
   "metadata": {},
   "outputs": [],
   "source": [
    "context_cache = cache.global_context_cache"
   ]
  },
  {
   "cell_type": "code",
   "execution_count": 29,
   "id": "4a7fffe9",
   "metadata": {},
   "outputs": [],
   "source": [
    "integrator = openmmtools.integrators.LangevinIntegrator(temperature=300 * unit.kelvin,\n",
    "                                              collision_rate=1 / unit.picoseconds,\n",
    "                                              timestep= 4 * unit.femtoseconds)"
   ]
  },
  {
   "cell_type": "code",
   "execution_count": 20,
   "id": "b039db90",
   "metadata": {},
   "outputs": [],
   "source": [
    "context, integrator = context_cache.get_context(thermodynamic_state_list[0], integrator)\n"
   ]
  },
  {
   "cell_type": "code",
   "execution_count": 22,
   "id": "58d56251",
   "metadata": {},
   "outputs": [
    {
     "data": {
      "text/plain": [
       "[<simtk.openmm.openmm.CustomBondForce; proxy of <Swig Object of type 'OpenMM::CustomBondForce *' at 0x2b5569e0cae0> >,\n",
       " <simtk.openmm.openmm.CustomAngleForce; proxy of <Swig Object of type 'OpenMM::CustomAngleForce *' at 0x2b5569e0c420> >,\n",
       " <simtk.openmm.openmm.CustomTorsionForce; proxy of <Swig Object of type 'OpenMM::CustomTorsionForce *' at 0x2b5569e0ca80> >,\n",
       " <simtk.openmm.openmm.NonbondedForce; proxy of <Swig Object of type 'OpenMM::NonbondedForce *' at 0x2b5569e0cb40> >,\n",
       " <simtk.openmm.openmm.MonteCarloBarostat; proxy of <Swig Object of type 'OpenMM::MonteCarloBarostat *' at 0x2b5569e0ccc0> >]"
      ]
     },
     "execution_count": 22,
     "metadata": {},
     "output_type": "execute_result"
    }
   ],
   "source": [
    "context.getSystem().getForces()"
   ]
  },
  {
   "cell_type": "code",
   "execution_count": 30,
   "id": "89396f8f",
   "metadata": {},
   "outputs": [],
   "source": [
    "context = thermodynamic_state_list[0].create_context(integrator)"
   ]
  },
  {
   "cell_type": "code",
   "execution_count": 31,
   "id": "3d0a8337",
   "metadata": {},
   "outputs": [
    {
     "data": {
      "text/plain": [
       "[<simtk.openmm.openmm.CustomBondForce; proxy of <Swig Object of type 'OpenMM::CustomBondForce *' at 0x2b556a12d660> >,\n",
       " <simtk.openmm.openmm.CustomAngleForce; proxy of <Swig Object of type 'OpenMM::CustomAngleForce *' at 0x2b556a12d600> >,\n",
       " <simtk.openmm.openmm.CustomTorsionForce; proxy of <Swig Object of type 'OpenMM::CustomTorsionForce *' at 0x2b556a12d780> >,\n",
       " <simtk.openmm.openmm.NonbondedForce; proxy of <Swig Object of type 'OpenMM::NonbondedForce *' at 0x2b5569deced0> >,\n",
       " <simtk.openmm.openmm.MonteCarloBarostat; proxy of <Swig Object of type 'OpenMM::MonteCarloBarostat *' at 0x2b5569dec720> >]"
      ]
     },
     "execution_count": 31,
     "metadata": {},
     "output_type": "execute_result"
    }
   ],
   "source": [
    "context.getSystem().getForces()"
   ]
  },
  {
   "cell_type": "markdown",
   "id": "b4392b56",
   "metadata": {},
   "source": [
    "## Try running vanilla MD on the first thermostate and see if the problem happens"
   ]
  },
  {
   "cell_type": "code",
   "execution_count": 13,
   "id": "7119fbbe",
   "metadata": {},
   "outputs": [],
   "source": [
    "from tqdm import tqdm_notebook\n",
    "import openmmtools"
   ]
  },
  {
   "cell_type": "code",
   "execution_count": 2,
   "id": "a3e6abbc",
   "metadata": {},
   "outputs": [
    {
     "name": "stderr",
     "output_type": "stream",
     "text": [
      "INFO:numexpr.utils:Note: NumExpr detected 48 cores but \"NUMEXPR_MAX_THREADS\" not set, so enforcing safe limit of 8.\n",
      "INFO:numexpr.utils:NumExpr defaulting to 8 threads.\n"
     ]
    },
    {
     "name": "stdout",
     "output_type": "stream",
     "text": [
      "conducting subsequent work with the following platform: CUDA\n"
     ]
    },
    {
     "name": "stderr",
     "output_type": "stream",
     "text": [
      "INFO:rdkit:Enabling RDKit 2021.03.3 jupyter extensions\n"
     ]
    }
   ],
   "source": [
    "import pickle\n",
    "import os\n",
    "from openeye import oechem\n",
    "from perses.annihilation.rest import RESTTopologyFactoryV2\n",
    "from perses.annihilation.lambda_protocol import RESTStateV2\n",
    "from openmmtools.states import SamplerState, ThermodynamicState, CompoundThermodynamicState\n",
    "from openmmtools import cache, utils\n",
    "from perses.dispersed.utils import configure_platform\n",
    "# cache.global_context_cache.platform = configure_platform(utils.get_fastest_platform().getName())\n",
    "from simtk import openmm, unit\n",
    "import math\n",
    "from openmmtools.constants import kB\n",
    "from openmmtools import mcmc, multistate\n",
    "import argparse\n",
    "import copy\n",
    "from perses.dispersed import feptasks\n",
    "import mdtraj as md\n",
    "import numpy as np\n",
    "from perses.app.relative_point_mutation_setup import PointMutationExecutor\n"
   ]
  },
  {
   "cell_type": "code",
   "execution_count": 3,
   "id": "7d84cd54",
   "metadata": {},
   "outputs": [],
   "source": [
    "phase = 'apo'\n",
    "name = \"arg\"\n",
    "state = 0\n",
    "\n",
    "length = 1\n",
    "move_length = 1\n",
    "timestep = 4\n",
    "radius = 0.4\n",
    "\n",
    "outdir = \"/data/chodera/zhangi/perses_benchmark/neq/20/30/\""
   ]
  },
  {
   "cell_type": "code",
   "execution_count": 4,
   "id": "26bdf0d4",
   "metadata": {},
   "outputs": [],
   "source": [
    "# Load rhtf\n",
    "i = os.path.basename(os.path.dirname(outdir))\n",
    "path = os.path.join(outdir, f\"{i}_{phase}_{state}.pickle\")\n",
    "htf = pickle.load(open(path, \"rb\" ))\n",
    "\n"
   ]
  },
  {
   "cell_type": "code",
   "execution_count": 5,
   "id": "dc48030d",
   "metadata": {},
   "outputs": [
    {
     "name": "stderr",
     "output_type": "stream",
     "text": [
      "INFO:REST:Added MonteCarloBarostat.\n",
      "INFO:REST:getDefaultPeriodicBoxVectors added to hybrid: [Quantity(value=Vec3(x=6.2004, y=0.0, z=0.0), unit=nanometer), Quantity(value=Vec3(x=0.0, y=6.2004, z=0.0), unit=nanometer), Quantity(value=Vec3(x=0.0, y=0.0, z=6.2004), unit=nanometer)]\n",
      "INFO:REST:No unknown forces.\n",
      "INFO:REST:Handling constraints\n",
      "INFO:REST:Handling bonds\n",
      "INFO:REST:Handling angles\n",
      "INFO:REST:Handling torsions\n",
      "INFO:REST:Handling nonbondeds\n",
      "INFO:REST:Handling nonbonded scaling (custom nb)\n",
      "INFO:REST:Handling nonbonded exception scaling (custom bond)\n"
     ]
    }
   ],
   "source": [
    "# Build REST factory\n",
    "for res in htf.hybrid_topology.residues:\n",
    "    if res.resSeq == 83 and res.chain.index == 0:\n",
    "        mutated_res = res\n",
    "query_indices = [atom.index for atom in mutated_res.atoms]\n",
    "traj = md.Trajectory(np.array(htf.hybrid_positions), htf.hybrid_topology)\n",
    "solute_atoms = list(traj.topology.select(\"is_protein\"))\n",
    "rest_atoms = list(md.compute_neighbors(traj, radius, query_indices, haystack_indices=solute_atoms)[0])\n",
    "factory = RESTTopologyFactoryV2(htf.hybrid_system, htf.hybrid_topology, rest_region=rest_atoms, use_dispersion_correction=True)"
   ]
  },
  {
   "cell_type": "code",
   "execution_count": 6,
   "id": "95824802",
   "metadata": {},
   "outputs": [],
   "source": [
    "# Get REST system\n",
    "REST_system = factory.REST_system\n",
    "\n",
    "# Create states for each replica\n",
    "n_replicas = 12  # Number of temperature replicas.\n",
    "T_min = 300.0 * unit.kelvin  # Minimum temperature.\n",
    "T_max = 1200 * unit.kelvin  # Maximum temperature.\n",
    "temperatures = [T_min + (T_max - T_min) * (math.exp(float(i) / float(n_replicas-1)) - 1.0) / (math.e - 1.0)\n",
    "                for i in range(n_replicas)]\n",
    "\n",
    "# Create reference thermodynamic state\n",
    "lambda_zero_alchemical_state = RESTStateV2.from_system(REST_system)\n",
    "thermostate = ThermodynamicState(REST_system, temperature=T_min)\n",
    "compound_thermodynamic_state = CompoundThermodynamicState(thermostate, composable_states=[lambda_zero_alchemical_state])"
   ]
  },
  {
   "cell_type": "code",
   "execution_count": 7,
   "id": "f5ef21ce",
   "metadata": {},
   "outputs": [
    {
     "data": {
      "text/plain": [
       "[<simtk.openmm.openmm.MonteCarloBarostat; proxy of <Swig Object of type 'OpenMM::MonteCarloBarostat *' at 0x2b15f70d9c00> >,\n",
       " <simtk.openmm.openmm.CustomBondForce; proxy of <Swig Object of type 'OpenMM::CustomBondForce *' at 0x2b15f70d9f90> >,\n",
       " <simtk.openmm.openmm.CustomAngleForce; proxy of <Swig Object of type 'OpenMM::CustomAngleForce *' at 0x2b1680108f30> >,\n",
       " <simtk.openmm.openmm.CustomTorsionForce; proxy of <Swig Object of type 'OpenMM::CustomTorsionForce *' at 0x2b16801089c0> >,\n",
       " <simtk.openmm.openmm.NonbondedForce; proxy of <Swig Object of type 'OpenMM::NonbondedForce *' at 0x2b15f6e7b690> >,\n",
       " <simtk.openmm.openmm.CustomNonbondedForce; proxy of <Swig Object of type 'OpenMM::CustomNonbondedForce *' at 0x2b15f6e7b630> >,\n",
       " <simtk.openmm.openmm.CustomBondForce; proxy of <Swig Object of type 'OpenMM::CustomBondForce *' at 0x2b15f6e7b0c0> >]"
      ]
     },
     "execution_count": 7,
     "metadata": {},
     "output_type": "execute_result"
    }
   ],
   "source": [
    "REST_system.getForces()"
   ]
  },
  {
   "cell_type": "code",
   "execution_count": 8,
   "id": "cb8a6107",
   "metadata": {},
   "outputs": [],
   "source": [
    "# Create thermodynamics states\n",
    "sampler_state =  SamplerState(htf.hybrid_positions, box_vectors=htf.hybrid_system.getDefaultPeriodicBoxVectors())\n",
    "beta_0 = 1/(kB*T_min)\n",
    "thermodynamic_state_list = []\n",
    "sampler_state_list = []\n",
    "for temperature in temperatures:\n",
    "    beta_m = 1/(kB*temperature)\n",
    "    compound_thermodynamic_state_copy = copy.deepcopy(compound_thermodynamic_state)\n",
    "    compound_thermodynamic_state_copy.set_alchemical_parameters(beta_0, beta_m)\n",
    "    thermodynamic_state_list.append(compound_thermodynamic_state_copy)\n",
    "\n",
    "    # now generating a sampler_state for each thermodynamic state, with relaxed positions\n",
    "    # context, context_integrator = context_cache.get_context(compound_thermodynamic_state_copy)\n",
    "    feptasks.minimize(compound_thermodynamic_state_copy, sampler_state, max_iterations=0)\n",
    "    sampler_state_list.append(copy.deepcopy(sampler_state))\n"
   ]
  },
  {
   "cell_type": "code",
   "execution_count": 9,
   "id": "7489b211",
   "metadata": {
    "scrolled": true
   },
   "outputs": [
    {
     "data": {
      "text/plain": [
       "[<simtk.openmm.openmm.CustomBondForce; proxy of <Swig Object of type 'OpenMM::CustomBondForce *' at 0x2b167100a570> >,\n",
       " <simtk.openmm.openmm.CustomAngleForce; proxy of <Swig Object of type 'OpenMM::CustomAngleForce *' at 0x2b167100a4b0> >,\n",
       " <simtk.openmm.openmm.CustomTorsionForce; proxy of <Swig Object of type 'OpenMM::CustomTorsionForce *' at 0x2b15f6e704e0> >,\n",
       " <simtk.openmm.openmm.NonbondedForce; proxy of <Swig Object of type 'OpenMM::NonbondedForce *' at 0x2b167dcf8540> >,\n",
       " <simtk.openmm.openmm.CustomNonbondedForce; proxy of <Swig Object of type 'OpenMM::CustomNonbondedForce *' at 0x2b167dcf84e0> >,\n",
       " <simtk.openmm.openmm.CustomBondForce; proxy of <Swig Object of type 'OpenMM::CustomBondForce *' at 0x2b167dcf8360> >,\n",
       " <simtk.openmm.openmm.AndersenThermostat; proxy of <Swig Object of type 'OpenMM::AndersenThermostat *' at 0x2b167dcf8390> >,\n",
       " <simtk.openmm.openmm.MonteCarloBarostat; proxy of <Swig Object of type 'OpenMM::MonteCarloBarostat *' at 0x2b167dcf83c0> >]"
      ]
     },
     "execution_count": 9,
     "metadata": {},
     "output_type": "execute_result"
    }
   ],
   "source": [
    "thermodynamic_state_list[0].get_system().getForces()"
   ]
  },
  {
   "cell_type": "code",
   "execution_count": 10,
   "id": "c5494601",
   "metadata": {},
   "outputs": [],
   "source": [
    "context_cache = cache.global_context_cache"
   ]
  },
  {
   "cell_type": "code",
   "execution_count": 14,
   "id": "bee9682b",
   "metadata": {},
   "outputs": [],
   "source": [
    "integrator = openmmtools.integrators.LangevinIntegrator(temperature=300 * unit.kelvin,\n",
    "                                              collision_rate=1 / unit.picoseconds,\n",
    "                                              timestep= 4 * unit.femtoseconds)"
   ]
  },
  {
   "cell_type": "code",
   "execution_count": 15,
   "id": "346c38b1",
   "metadata": {},
   "outputs": [],
   "source": [
    "context, integrator = context_cache.get_context(thermodynamic_state_list[0], integrator)\n"
   ]
  },
  {
   "cell_type": "code",
   "execution_count": 16,
   "id": "5c9ea7ec",
   "metadata": {},
   "outputs": [
    {
     "data": {
      "text/plain": [
       "'CUDA'"
      ]
     },
     "execution_count": 16,
     "metadata": {},
     "output_type": "execute_result"
    }
   ],
   "source": [
    "context.getPlatform().getName()"
   ]
  },
  {
   "cell_type": "code",
   "execution_count": 17,
   "id": "1847ac9d",
   "metadata": {},
   "outputs": [],
   "source": [
    "sampler_state_list[0].apply_to_context(context)"
   ]
  },
  {
   "cell_type": "code",
   "execution_count": 18,
   "id": "643537ca",
   "metadata": {},
   "outputs": [
    {
     "name": "stderr",
     "output_type": "stream",
     "text": [
      "<ipython-input-18-10919d5420ff>:3: TqdmDeprecationWarning: This function will be removed in tqdm==5.0.0\n",
      "Please use `tqdm.notebook.tqdm` instead of `tqdm.tqdm_notebook`\n",
      "  for _ in tqdm_notebook(range(int(125000/250))):\n"
     ]
    },
    {
     "data": {
      "application/vnd.jupyter.widget-view+json": {
       "model_id": "9b8609b7566649b7838d2c833e1572ed",
       "version_major": 2,
       "version_minor": 0
      },
      "text/plain": [
       "  0%|          | 0/500 [00:00<?, ?it/s]"
      ]
     },
     "metadata": {},
     "output_type": "display_data"
    }
   ],
   "source": [
    "old, new = list(), list()\n",
    "energies = list()\n",
    "for _ in tqdm_notebook(range(int(125000/250))):\n",
    "    integrator.step(250)\n",
    "    \n",
    "    energy = context.getState(getEnergy=True).getPotentialEnergy()\n",
    "    energies.append(energy)\n",
    "    pos = context.getState(getPositions=True, enforcePeriodicBox=False).getPositions(asNumpy=True)\n",
    "    old_pos = np.asarray(htf.old_positions(pos))\n",
    "    new_pos = np.asarray(htf.new_positions(pos))\n",
    "    old.append(old_pos)\n",
    "    new.append(new_pos)"
   ]
  },
  {
   "cell_type": "code",
   "execution_count": 29,
   "id": "fb21eeef",
   "metadata": {},
   "outputs": [],
   "source": [
    "with open(\"old.npy\", 'wb') as f:\n",
    "    np.save(f, old)\n",
    "with open(\"new.npy\", 'wb') as f:\n",
    "    np.save(f, new)\n",
    "with open(\"energies.npy\", 'wb') as f:\n",
    "    np.save(f, energies_cleaned)"
   ]
  },
  {
   "cell_type": "code",
   "execution_count": 20,
   "id": "c0689ef2",
   "metadata": {},
   "outputs": [],
   "source": [
    "import mdtraj as md"
   ]
  },
  {
   "cell_type": "code",
   "execution_count": 21,
   "id": "d4308533",
   "metadata": {},
   "outputs": [],
   "source": [
    "traj = md.Trajectory(np.array(old), md.Topology.from_openmm(htf._topology_proposal.old_topology))\n",
    "traj.save(\"old.dcd\")\n",
    "traj[0].save(\"old.pdb\")"
   ]
  },
  {
   "cell_type": "code",
   "execution_count": 22,
   "id": "3c63fcb7",
   "metadata": {},
   "outputs": [],
   "source": [
    "import matplotlib.pyplot as plt"
   ]
  },
  {
   "cell_type": "code",
   "execution_count": 26,
   "id": "4f0f8355",
   "metadata": {},
   "outputs": [],
   "source": [
    "energies_cleaned = []\n",
    "for energy in energies:\n",
    "    energies_cleaned.append(energy.value_in_unit_system(unit.md_unit_system))"
   ]
  },
  {
   "cell_type": "code",
   "execution_count": 28,
   "id": "ae1ab393",
   "metadata": {},
   "outputs": [
    {
     "data": {
      "text/plain": [
       "[<matplotlib.lines.Line2D at 0x2b167c4033a0>]"
      ]
     },
     "execution_count": 28,
     "metadata": {},
     "output_type": "execute_result"
    },
    {
     "data": {
      "image/png": "[encoded data removed]",
      "text/plain": [
       "<Figure size 432x288 with 1 Axes>"
      ]
     },
     "metadata": {
      "needs_background": "light"
     },
     "output_type": "display_data"
    }
   ],
   "source": [
    "plt.plot(energies_cleaned[10:])"
   ]
  },
  {
   "cell_type": "markdown",
   "id": "ff3c59f0",
   "metadata": {},
   "source": [
    "### Try running at 1200 K thermostate"
   ]
  },
  {
   "cell_type": "code",
   "execution_count": 30,
   "id": "7d597afa",
   "metadata": {},
   "outputs": [],
   "source": [
    "integrator = openmmtools.integrators.LangevinIntegrator(temperature=300 * unit.kelvin,\n",
    "                                              collision_rate=1 / unit.picoseconds,\n",
    "                                              timestep= 4 * unit.femtoseconds)"
   ]
  },
  {
   "cell_type": "code",
   "execution_count": 31,
   "id": "e4724cac",
   "metadata": {},
   "outputs": [],
   "source": [
    "context, integrator = context_cache.get_context(thermodynamic_state_list[-1], integrator)\n"
   ]
  },
  {
   "cell_type": "code",
   "execution_count": 32,
   "id": "952d1195",
   "metadata": {},
   "outputs": [
    {
     "data": {
      "text/plain": [
       "'CUDA'"
      ]
     },
     "execution_count": 32,
     "metadata": {},
     "output_type": "execute_result"
    }
   ],
   "source": [
    "context.getPlatform().getName()"
   ]
  },
  {
   "cell_type": "code",
   "execution_count": 33,
   "id": "a4bfdc0e",
   "metadata": {},
   "outputs": [],
   "source": [
    "sampler_state_list[-1].apply_to_context(context)"
   ]
  },
  {
   "cell_type": "code",
   "execution_count": 36,
   "id": "e862b920",
   "metadata": {},
   "outputs": [
    {
     "name": "stderr",
     "output_type": "stream",
     "text": [
      "<ipython-input-36-43269e18d264>:3: TqdmDeprecationWarning: This function will be removed in tqdm==5.0.0\n",
      "Please use `tqdm.notebook.tqdm` instead of `tqdm.tqdm_notebook`\n",
      "  for _ in tqdm_notebook(range(int(125000/250))):\n"
     ]
    },
    {
     "data": {
      "application/vnd.jupyter.widget-view+json": {
       "model_id": "5aeac9b7ef644810ae91cf07684e4bfc",
       "version_major": 2,
       "version_minor": 0
      },
      "text/plain": [
       "  0%|          | 0/500 [00:00<?, ?it/s]"
      ]
     },
     "metadata": {},
     "output_type": "display_data"
    }
   ],
   "source": [
    "old, new = list(), list()\n",
    "energies = list()\n",
    "for _ in tqdm_notebook(range(int(125000/250))):\n",
    "    integrator.step(250)\n",
    "    \n",
    "    energy = context.getState(getEnergy=True).getPotentialEnergy()\n",
    "    energies.append(energy.value_in_unit_system(unit.md_unit_system))\n",
    "    pos = context.getState(getPositions=True, enforcePeriodicBox=False).getPositions(asNumpy=True)\n",
    "    old_pos = np.asarray(htf.old_positions(pos))\n",
    "    new_pos = np.asarray(htf.new_positions(pos))\n",
    "    old.append(old_pos)\n",
    "    new.append(new_pos)"
   ]
  },
  {
   "cell_type": "code",
   "execution_count": 37,
   "id": "e998fd1d",
   "metadata": {},
   "outputs": [],
   "source": [
    "with open(\"old_1200K.npy\", 'wb') as f:\n",
    "    np.save(f, old)\n",
    "with open(\"new_1200K.npy\", 'wb') as f:\n",
    "    np.save(f, new)\n",
    "with open(\"energies_1200K.npy\", 'wb') as f:\n",
    "    np.save(f, energies)"
   ]
  },
  {
   "cell_type": "code",
   "execution_count": 38,
   "id": "2a845426",
   "metadata": {},
   "outputs": [],
   "source": [
    "import mdtraj as md"
   ]
  },
  {
   "cell_type": "code",
   "execution_count": 39,
   "id": "6977d23c",
   "metadata": {},
   "outputs": [],
   "source": [
    "traj = md.Trajectory(np.array(old), md.Topology.from_openmm(htf._topology_proposal.old_topology))\n",
    "traj.save(\"old_1200K.dcd\")\n",
    "traj[0].save(\"old_1200K.pdb\")"
   ]
  },
  {
   "cell_type": "code",
   "execution_count": 41,
   "id": "ff738552",
   "metadata": {
    "scrolled": true
   },
   "outputs": [
    {
     "data": {
      "text/plain": [
       "[<matplotlib.lines.Line2D at 0x2b167ee32730>]"
      ]
     },
     "execution_count": 41,
     "metadata": {},
     "output_type": "execute_result"
    },
    {
     "data": {
      "image/png": "[encoded data removed]",
      "text/plain": [
       "<Figure size 432x288 with 1 Axes>"
      ]
     },
     "metadata": {
      "needs_background": "light"
     },
     "output_type": "display_data"
    }
   ],
   "source": [
    "plt.plot(energies[10:])"
   ]
  },
  {
   "cell_type": "code",
   "execution_count": null,
   "id": "71985457",
   "metadata": {},
   "outputs": [],
   "source": []
  },
  {
   "cell_type": "markdown",
   "id": "aa1170a5",
   "metadata": {},
   "source": [
    "## Try running vanilla MD on the 1200 K thermostate (with scaled water rest system) for ala dipeptide in vacuum and see if the problem happens"
   ]
  },
  {
   "cell_type": "code",
   "execution_count": 21,
   "id": "fe5ced19",
   "metadata": {},
   "outputs": [],
   "source": [
    "from tqdm import tqdm_notebook\n",
    "import openmmtools"
   ]
  },
  {
   "cell_type": "code",
   "execution_count": 3,
   "id": "e2cecf07",
   "metadata": {},
   "outputs": [],
   "source": [
    "import pickle\n",
    "import os\n",
    "from openeye import oechem\n",
    "from perses.annihilation.rest import RESTTopologyFactoryV2\n",
    "from perses.annihilation.lambda_protocol import RESTStateV2\n",
    "from openmmtools.states import SamplerState, ThermodynamicState, CompoundThermodynamicState\n",
    "from openmmtools import cache, utils\n",
    "from perses.dispersed.utils import configure_platform\n",
    "# cache.global_context_cache.platform = configure_platform(utils.get_fastest_platform().getName())\n",
    "from simtk import openmm, unit\n",
    "import math\n",
    "from openmmtools.constants import kB\n",
    "from openmmtools import mcmc, multistate\n",
    "import argparse\n",
    "import copy\n",
    "from perses.dispersed import feptasks\n",
    "import mdtraj as md\n",
    "import numpy as np\n",
    "from perses.app.relative_point_mutation_setup import PointMutationExecutor\n",
    "from perses.tests.test_topology_proposal import generate_atp, generate_dipeptide_top_pos_sys\n"
   ]
  },
  {
   "cell_type": "code",
   "execution_count": 4,
   "id": "2d204955",
   "metadata": {
    "scrolled": true
   },
   "outputs": [
    {
     "name": "stderr",
     "output_type": "stream",
     "text": [
      "DEBUG:openmmforcefields.system_generators:Trying GAFFTemplateGenerator to load gaff-2.11\n",
      "INFO:proposal_generator:\tConducting polymer point mutation proposal...\n",
      "INFO:proposal_generator:Using matching_criterion to chose best atom map\n",
      "INFO:proposal_generator:Scaffold has symmetry of 0\n",
      "WARNING:proposal_generator:Two molecules are not similar to have a common scaffold\n",
      "WARNING:proposal_generator:Proceeding with direct mapping of molecules, but please check atom mapping and the geometry of the ligands.\n",
      "INFO:proposal_generator:len [{9: 7}, {10: 7}, {11: 7}, {12: 7}, {13: 7}, {9: 8}, {10: 8}, {11: 8}, {12: 8}, {13: 8}, {9: 9}, {10: 9}, {11: 9}, {12: 9}, {13: 9}]\n",
      "INFO:proposal_generator:{9: 7}\n",
      "INFO:proposal_generator:{10: 7}\n",
      "INFO:proposal_generator:{11: 7}\n",
      "INFO:proposal_generator:{12: 7}\n",
      "INFO:proposal_generator:{13: 7}\n",
      "INFO:proposal_generator:{9: 8}\n",
      "INFO:proposal_generator:{10: 8}\n",
      "INFO:proposal_generator:{11: 8}\n",
      "INFO:proposal_generator:{12: 8}\n",
      "INFO:proposal_generator:{13: 8}\n",
      "INFO:proposal_generator:{9: 9}\n",
      "INFO:proposal_generator:{10: 9}\n",
      "INFO:proposal_generator:{11: 9}\n",
      "INFO:proposal_generator:{12: 9}\n",
      "INFO:proposal_generator:{13: 9}\n",
      "INFO:proposal_generator:Returning map that best satisfies matching_criterion\n",
      "INFO:proposal_generator:Finding best map using matching_criterion name\n",
      "INFO:proposal_generator:{9: 7}\n",
      "INFO:geometry:propose: performing forward proposal\n",
      "INFO:geometry:propose: unique new atoms detected; proceeding to _logp_propose...\n",
      "INFO:geometry:Conducting forward proposal...\n",
      "INFO:geometry:Computing proposal order with NetworkX...\n",
      "INFO:geometry:number of atoms to be placed: 8\n",
      "INFO:geometry:Atom index proposal order is [10, 14, 18, 16, 17, 13, 15, 19]\n",
      "INFO:geometry:omitted_bonds: []\n",
      "INFO:geometry:direction of proposal is forward; creating atoms_with_positions and new positions from old system/topology...\n",
      "INFO:geometry:creating growth system...\n",
      "INFO:geometry:\tcreating bond force...\n",
      "INFO:geometry:\tthere are 11 bonds in reference force.\n",
      "INFO:geometry:\tcreating angle force...\n",
      "INFO:geometry:\tthere are 43 angles in reference force.\n",
      "INFO:geometry:\tcreating torsion force...\n",
      "INFO:geometry:\tcreating extra torsions force...\n",
      "INFO:geometry:\tthere are 72 torsions in reference force.\n",
      "INFO:geometry:\tcreating nonbonded force...\n",
      "INFO:geometry:\t\tgrabbing reference nonbonded method, cutoff, switching function, switching distance...\n",
      "INFO:geometry:\t\tcreating nonbonded exception force (i.e. custom bond for 1,4s)...\n",
      "INFO:geometry:\t\tlooping through exceptions calculating growth indices, and adding appropriate interactions to custom bond force.\n",
      "INFO:geometry:\t\tthere are 121 in the reference Nonbonded force\n",
      "WARNING:geometry:\t\t\t\t\tchiral atom <Atom 8 (CA) of chain 0 residue 1 (THR)> with neighbors [<Atom 9 (HA) of chain 0 residue 1 (THR)>, <Atom 10 (CB) of chain 0 residue 1 (THR)>, <Atom 11 (C) of chain 0 residue 1 (THR)>, <Atom 6 (N) of chain 0 residue 1 (THR)>] is surrounded by 3 core neighbors.  omitting chirality bias torsion\n",
      "INFO:geometry:Neglected angle terms : []\n",
      "INFO:geometry:omitted_growth_terms: {'bonds': [], 'angles': [], 'torsions': [], '1,4s': []}\n",
      "INFO:geometry:extra torsions: {0: (7, 6, 8, 10, [1, Quantity(value=0.9900002084555819, unit=radian), Quantity(value=1200.0, unit=kilocalorie/mole), 1]), 1: (19, 18, 10, 8, [1, Quantity(value=-0.07858019216845058, unit=radian), Quantity(value=1200.0, unit=kilocalorie/mole), 8]), 2: (19, 18, 10, 14, [1, Quantity(value=2.118586571250296, unit=radian), Quantity(value=1200.0, unit=kilocalorie/mole), 8]), 3: (19, 18, 10, 13, [1, Quantity(value=-2.149781203448759, unit=radian), Quantity(value=1200.0, unit=kilocalorie/mole), 8]), 4: (8, 10, 14, 17, [1, Quantity(value=-2.1249532223845904, unit=radian), Quantity(value=1200.0, unit=kilocalorie/mole), 5]), 5: (8, 10, 14, 16, [1, Quantity(value=2.0543043017157916, unit=radian), Quantity(value=1200.0, unit=kilocalorie/mole), 4]), 6: (8, 10, 14, 15, [1, Quantity(value=-0.02223392579985184, unit=radian), Quantity(value=1200.0, unit=kilocalorie/mole), 7]), 7: (18, 10, 14, 17, [1, Quantity(value=2.0255587336734213, unit=radian), Quantity(value=1200.0, unit=kilocalorie/mole), 5]), 8: (18, 10, 14, 16, [1, Quantity(value=-0.07836904940578293, unit=radian), Quantity(value=1200.0, unit=kilocalorie/mole), 4]), 9: (18, 10, 14, 15, [1, Quantity(value=-2.154907276921426, unit=radian), Quantity(value=1200.0, unit=kilocalorie/mole), 7]), 10: (13, 10, 14, 17, [1, Quantity(value=0.007583009583349565, unit=radian), Quantity(value=1200.0, unit=kilocalorie/mole), 6]), 11: (13, 10, 14, 16, [1, Quantity(value=-2.096344773495849, unit=radian), Quantity(value=1200.0, unit=kilocalorie/mole), 6]), 12: (13, 10, 14, 15, [1, Quantity(value=2.1103023061680943, unit=radian), Quantity(value=1200.0, unit=kilocalorie/mole), 7]), 13: (14, 10, 8, 18, [1, Quantity(value=1.0655064807976995, unit=radian), Quantity(value=1200.0, unit=kilocalorie/mole), 3])}\n",
      "INFO:geometry:neglected angle terms include []\n",
      "INFO:geometry:log probability choice of torsions and atom order: -13.371595639480912\n",
      "INFO:geometry:creating platform, integrators, and contexts; setting growth parameter\n"
     ]
    },
    {
     "name": "stdout",
     "output_type": "stream",
     "text": [
      "making topology proposal\n",
      "generating geometry engine\n",
      "making geometry proposal from ALA to THR\n",
      "conducting subsequent work with the following platform: CUDA\n"
     ]
    },
    {
     "name": "stderr",
     "output_type": "stream",
     "text": [
      "INFO:geometry:setting atoms_with_positions context new positions\n"
     ]
    },
    {
     "name": "stdout",
     "output_type": "stream",
     "text": [
      "conducting subsequent work with the following platform: CUDA\n"
     ]
    },
    {
     "name": "stderr",
     "output_type": "stream",
     "text": [
      "INFO:geometry:There are 8 new atoms\n",
      "INFO:geometry:\treduced angle potential = 1.8337656028351002.\n",
      "INFO:geometry:\treduced angle potential = 1.1919183319264113.\n",
      "INFO:geometry:\treduced angle potential = 0.018091269364468077.\n",
      "INFO:geometry:\treduced angle potential = 0.024541602803826057.\n",
      "INFO:geometry:\treduced angle potential = 0.5173769600928078.\n",
      "INFO:geometry:\treduced angle potential = 0.03520838491167304.\n",
      "INFO:geometry:\treduced angle potential = 0.24812785173633503.\n",
      "INFO:geometry:\treduced angle potential = 2.560367024753947.\n",
      "INFO:geometry:\tbeginning construction of no_nonbonded final system...\n",
      "INFO:geometry:\tinitial no-nonbonded final system forces ['HarmonicBondForce', 'HarmonicAngleForce', 'PeriodicTorsionForce', 'NonbondedForce']\n",
      "INFO:geometry:\tfinal no-nonbonded final system forces dict_keys(['HarmonicBondForce', 'HarmonicAngleForce', 'PeriodicTorsionForce', 'NonbondedForce'])\n",
      "INFO:geometry:\tthere are 11 bond forces in the no-nonbonded final system\n",
      "INFO:geometry:\tthere are 43 angle forces in the no-nonbonded final system\n",
      "INFO:geometry:\tthere are 72 torsion forces in the no-nonbonded final system\n",
      "INFO:geometry:forward final system defined with 0 neglected angles.\n"
     ]
    },
    {
     "name": "stdout",
     "output_type": "stream",
     "text": [
      "conducting subsequent work with the following platform: CUDA\n",
      "conducting subsequent work with the following platform: CUDA\n"
     ]
    },
    {
     "name": "stderr",
     "output_type": "stream",
     "text": [
      "INFO:geometry:total reduced potential before atom placement: 9.11648114171204\n"
     ]
    },
    {
     "name": "stdout",
     "output_type": "stream",
     "text": [
      "conducting subsequent work with the following platform: CUDA\n",
      "conducting subsequent work with the following platform: CUDA\n",
      "conducting subsequent work with the following platform: CUDA\n"
     ]
    },
    {
     "name": "stderr",
     "output_type": "stream",
     "text": [
      "INFO:geometry:total reduced energy added from growth system: -29.77277007124259\n",
      "INFO:geometry:final reduced energy -20.656291970770887\n",
      "INFO:geometry:sum of energies: -20.65628892953055\n",
      "INFO:geometry:magnitude of difference in the energies: 3.041240336898454e-06\n",
      "INFO:geometry:Final logp_proposal: 58.49511634428963\n"
     ]
    },
    {
     "name": "stdout",
     "output_type": "stream",
     "text": [
      "added energy components: [('CustomBondForce', 2.477068020167558), ('CustomAngleForce', 11.727100944892122), ('CustomTorsionForce', 19.549801627829826), ('CustomBondForce', -63.526740664132106)]\n"
     ]
    },
    {
     "name": "stderr",
     "output_type": "stream",
     "text": [
      "INFO:geometry:logp_reverse: performing reverse proposal\n",
      "INFO:geometry:logp_reverse: unique new atoms detected; proceeding to _logp_propose...\n",
      "INFO:geometry:Conducting forward proposal...\n",
      "INFO:geometry:Computing proposal order with NetworkX...\n",
      "INFO:geometry:number of atoms to be placed: 4\n",
      "INFO:geometry:Atom index proposal order is [10, 12, 13, 11]\n",
      "INFO:geometry:omitted_bonds: []\n",
      "INFO:geometry:direction of proposal is reverse; creating atoms_with_positions from old system/topology\n",
      "INFO:geometry:creating growth system...\n",
      "INFO:geometry:\tcreating bond force...\n",
      "INFO:geometry:\tthere are 9 bonds in reference force.\n",
      "INFO:geometry:\tcreating angle force...\n",
      "INFO:geometry:\tthere are 36 angles in reference force.\n",
      "INFO:geometry:\tcreating torsion force...\n",
      "INFO:geometry:\tcreating extra torsions force...\n",
      "INFO:geometry:\tthere are 42 torsions in reference force.\n",
      "INFO:geometry:\tcreating nonbonded force...\n",
      "INFO:geometry:\t\tgrabbing reference nonbonded method, cutoff, switching function, switching distance...\n",
      "INFO:geometry:\t\tcreating nonbonded exception force (i.e. custom bond for 1,4s)...\n",
      "INFO:geometry:\t\tlooping through exceptions calculating growth indices, and adding appropriate interactions to custom bond force.\n",
      "INFO:geometry:\t\tthere are 98 in the reference Nonbonded force\n",
      "WARNING:geometry:\t\t\t\t\tchiral atom <Atom 8 (CA) of chain 0 residue 1 (ALA)> with neighbors [<Atom 9 (HA) of chain 0 residue 1 (ALA)>, <Atom 10 (CB) of chain 0 residue 1 (ALA)>, <Atom 14 (C) of chain 0 residue 1 (ALA)>, <Atom 6 (N) of chain 0 residue 1 (ALA)>] is surrounded by 3 core neighbors.  omitting chirality bias torsion\n",
      "INFO:geometry:Neglected angle terms : []\n",
      "INFO:geometry:omitted_growth_terms: {'bonds': [], 'angles': [], 'torsions': [], '1,4s': []}\n",
      "INFO:geometry:extra torsions: {0: (7, 6, 8, 10, [1, Quantity(value=0.9799661941737812, unit=radian), Quantity(value=1200.0, unit=kilocalorie/mole), 1]), 1: (6, 8, 10, 11, [1, Quantity(value=2.105358864604291, unit=radian), Quantity(value=1200.0, unit=kilocalorie/mole), 4]), 2: (6, 8, 10, 12, [1, Quantity(value=-2.0823006129211796, unit=radian), Quantity(value=1200.0, unit=kilocalorie/mole), 2]), 3: (6, 8, 10, 13, [1, Quantity(value=0.018582237407944735, unit=radian), Quantity(value=1200.0, unit=kilocalorie/mole), 3]), 4: (14, 8, 10, 11, [1, Quantity(value=-0.036945135932107576, unit=radian), Quantity(value=1200.0, unit=kilocalorie/mole), 4]), 5: (14, 8, 10, 12, [1, Quantity(value=2.0585806937220097, unit=radian), Quantity(value=1200.0, unit=kilocalorie/mole), 2]), 6: (14, 8, 10, 13, [1, Quantity(value=-2.1237217631284597, unit=radian), Quantity(value=1200.0, unit=kilocalorie/mole), 3]), 7: (9, 8, 10, 11, [1, Quantity(value=-2.119603470065817, unit=radian), Quantity(value=1200.0, unit=kilocalorie/mole), 4]), 8: (9, 8, 10, 12, [1, Quantity(value=-0.024077640411697132, unit=radian), Quantity(value=1200.0, unit=kilocalorie/mole), 2]), 9: (9, 8, 10, 13, [1, Quantity(value=2.0768052099174152, unit=radian), Quantity(value=1200.0, unit=kilocalorie/mole), 3])}\n",
      "INFO:geometry:neglected angle terms include []\n",
      "INFO:geometry:log probability choice of torsions and atom order: -5.78074351579233\n",
      "INFO:geometry:creating platform, integrators, and contexts; setting growth parameter\n"
     ]
    },
    {
     "name": "stdout",
     "output_type": "stream",
     "text": [
      "conducting subsequent work with the following platform: CUDA\n"
     ]
    },
    {
     "name": "stderr",
     "output_type": "stream",
     "text": [
      "INFO:geometry:setting atoms_with_positions context old positions\n"
     ]
    },
    {
     "name": "stdout",
     "output_type": "stream",
     "text": [
      "conducting subsequent work with the following platform: CUDA\n"
     ]
    },
    {
     "name": "stderr",
     "output_type": "stream",
     "text": [
      "INFO:geometry:There are 4 new atoms\n",
      "INFO:geometry:\treduced angle potential = 0.3517324280898812.\n",
      "INFO:geometry:\treduced angle potential = 3.2058324695160406e-13.\n",
      "INFO:geometry:\treduced angle potential = 7.39096069988752e-11.\n",
      "INFO:geometry:\treduced angle potential = 1.2915588460963948e-10.\n",
      "INFO:geometry:\tbeginning construction of no_nonbonded final system...\n",
      "INFO:geometry:\tinitial no-nonbonded final system forces ['HarmonicBondForce', 'HarmonicAngleForce', 'PeriodicTorsionForce', 'NonbondedForce']\n",
      "INFO:geometry:\tfinal no-nonbonded final system forces dict_keys(['HarmonicBondForce', 'HarmonicAngleForce', 'PeriodicTorsionForce', 'NonbondedForce'])\n",
      "INFO:geometry:\tthere are 9 bond forces in the no-nonbonded final system\n",
      "INFO:geometry:\tthere are 36 angle forces in the no-nonbonded final system\n",
      "INFO:geometry:\tthere are 42 torsion forces in the no-nonbonded final system\n",
      "INFO:geometry:reverse final system defined with 0 neglected angles.\n"
     ]
    },
    {
     "name": "stdout",
     "output_type": "stream",
     "text": [
      "conducting subsequent work with the following platform: CUDA\n",
      "conducting subsequent work with the following platform: CUDA\n"
     ]
    },
    {
     "name": "stderr",
     "output_type": "stream",
     "text": [
      "INFO:geometry:total reduced potential before atom placement: 9.11648114171204\n"
     ]
    },
    {
     "name": "stdout",
     "output_type": "stream",
     "text": [
      "conducting subsequent work with the following platform: CUDA\n",
      "conducting subsequent work with the following platform: CUDA\n",
      "conducting subsequent work with the following platform: CUDA\n"
     ]
    },
    {
     "name": "stderr",
     "output_type": "stream",
     "text": [
      "INFO:geometry:total reduced energy added from growth system: 20.672986687678176\n",
      "INFO:geometry:final reduced energy 29.78946596595154\n",
      "INFO:geometry:sum of energies: 29.789467829390215\n",
      "INFO:geometry:magnitude of difference in the energies: 1.8634386762528266e-06\n",
      "INFO:geometry:Final logp_proposal: -26846.303085669046\n"
     ]
    },
    {
     "name": "stdout",
     "output_type": "stream",
     "text": [
      "added energy components: [('CustomBondForce', 0.000520203927326505), ('CustomAngleForce', 0.4511197756248138), ('CustomTorsionForce', 7.250463344085812), ('CustomBondForce', 12.970883364040223)]\n"
     ]
    },
    {
     "name": "stderr",
     "output_type": "stream",
     "text": [
      "INFO:relative:*** Generating RepartitionedHybridTopologyFactory ***\n",
      "INFO:relative:Old system forces: dict_keys(['HarmonicBondForce', 'HarmonicAngleForce', 'PeriodicTorsionForce', 'NonbondedForce'])\n",
      "INFO:relative:New system forces: dict_keys(['HarmonicBondForce', 'HarmonicAngleForce', 'PeriodicTorsionForce', 'NonbondedForce'])\n",
      "INFO:relative:No unknown forces.\n",
      "INFO:relative:Nonbonded method to be used (i.e. from old system): 0\n",
      "INFO:relative:Adding and mapping old atoms to hybrid system...\n",
      "INFO:relative:Adding and mapping new atoms to hybrid system...\n",
      "INFO:relative:No MonteCarloBarostat added.\n",
      "INFO:relative:getDefaultPeriodicBoxVectors added to hybrid: [Quantity(value=Vec3(x=2.0, y=0.0, z=0.0), unit=nanometer), Quantity(value=Vec3(x=0.0, y=2.0, z=0.0), unit=nanometer), Quantity(value=Vec3(x=0.0, y=0.0, z=2.0), unit=nanometer)]\n",
      "INFO:relative:Determined atom classes.\n",
      "INFO:relative:Generating old system exceptions dict...\n",
      "INFO:relative:Generating new system exceptions dict...\n",
      "INFO:relative:Handling constraints...\n",
      "INFO:relative:Handling virtual sites...\n",
      "INFO:relative:\t_handle_virtual_sites: numVirtualSites: 0\n",
      "INFO:relative:\t_add_nonbonded_force_terms: <simtk.openmm.openmm.NonbondedForce; proxy of <Swig Object of type 'OpenMM::NonbondedForce *' at 0x2af9af46ccf0> > added to hybrid system\n",
      "INFO:relative:\t_add_nonbonded_force_terms: nonbonded_method is NoCutoff\n",
      "INFO:relative:\t_add_nonbonded_force_terms: 0 added to standard nonbonded force\n",
      "INFO:relative:\t_add_nonbonded_force_terms: 0 added to sterics_custom_nonbonded force\n"
     ]
    }
   ],
   "source": [
    "# Set temperatures\n",
    "T_min = 300.0 * unit.kelvin\n",
    "T = 1200 * unit.kelvin\n",
    "\n",
    "# Create repartitioned hybrid system for lambda 0 endstate\n",
    "atp, system_generator = generate_atp(phase='vacuum')\n",
    "htf = generate_dipeptide_top_pos_sys(atp.topology,\n",
    "                                     new_res='THR',\n",
    "                                     system=atp.system,\n",
    "                                     positions=atp.positions,\n",
    "                                     system_generator=system_generator,\n",
    "                                     conduct_htf_prop=True,\n",
    "                                     repartitioned=True,\n",
    "                                     endstate=0,\n",
    "                                     validate_endstate_energy=False)\n",
    "system = htf.hybrid_system\n",
    "\n"
   ]
  },
  {
   "cell_type": "code",
   "execution_count": 9,
   "id": "7df7b409",
   "metadata": {},
   "outputs": [
    {
     "name": "stderr",
     "output_type": "stream",
     "text": [
      "INFO:REST:No MonteCarloBarostat added.\n",
      "INFO:REST:getDefaultPeriodicBoxVectors added to hybrid: [Quantity(value=Vec3(x=2.0, y=0.0, z=0.0), unit=nanometer), Quantity(value=Vec3(x=0.0, y=2.0, z=0.0), unit=nanometer), Quantity(value=Vec3(x=0.0, y=0.0, z=2.0), unit=nanometer)]\n",
      "INFO:REST:No unknown forces.\n",
      "INFO:REST:Handling constraints\n",
      "INFO:REST:Handling bonds\n",
      "INFO:REST:Handling angles\n",
      "INFO:REST:Handling torsions\n",
      "INFO:REST:Handling nonbondeds\n",
      "INFO:REST:Handling nonbonded scaling (custom nb)\n",
      "INFO:REST:Handling nonbonded exception scaling (custom bond)\n"
     ]
    }
   ],
   "source": [
    "# Build REST factory\n",
    "for res in htf.hybrid_topology.residues:\n",
    "    if res.resSeq == 2 and res.chain.index == 0:\n",
    "        mutated_res = res\n",
    "query_indices = [atom.index for atom in mutated_res.atoms]\n",
    "traj = md.Trajectory(np.array(htf.hybrid_positions), htf.hybrid_topology)\n",
    "solute_atoms = list(traj.topology.select(\"is_protein\"))\n",
    "radius = 0.3\n",
    "rest_atoms = list(md.compute_neighbors(traj, radius, query_indices, haystack_indices=solute_atoms)[0])\n",
    "factory = RESTTopologyFactoryV2(htf.hybrid_system, htf.hybrid_topology, rest_region=rest_atoms, use_dispersion_correction=True)"
   ]
  },
  {
   "cell_type": "code",
   "execution_count": 15,
   "id": "a6d510c6",
   "metadata": {},
   "outputs": [],
   "source": [
    "# Get REST system\n",
    "REST_system = factory.REST_system\n",
    "\n",
    "# Create states for each replica\n",
    "n_replicas = 12  # Number of temperature replicas.\n",
    "T_min = 300.0 * unit.kelvin  # Minimum temperature.\n",
    "T_max = 1200 * unit.kelvin  # Maximum temperature.\n",
    "temperatures = [T_min + (T_max - T_min) * (math.exp(float(i) / float(n_replicas-1)) - 1.0) / (math.e - 1.0)\n",
    "                for i in range(n_replicas)]\n",
    "\n",
    "# Create reference thermodynamic state\n",
    "lambda_zero_alchemical_state = RESTStateV2.from_system(REST_system)\n",
    "thermostate = ThermodynamicState(REST_system, temperature=T_min)\n",
    "compound_thermodynamic_state = CompoundThermodynamicState(thermostate, composable_states=[lambda_zero_alchemical_state])"
   ]
  },
  {
   "cell_type": "code",
   "execution_count": 16,
   "id": "33c98e3a",
   "metadata": {},
   "outputs": [
    {
     "data": {
      "text/plain": [
       "[<simtk.openmm.openmm.CustomBondForce; proxy of <Swig Object of type 'OpenMM::CustomBondForce *' at 0x2af9af862a50> >,\n",
       " <simtk.openmm.openmm.CustomAngleForce; proxy of <Swig Object of type 'OpenMM::CustomAngleForce *' at 0x2af9455d5990> >,\n",
       " <simtk.openmm.openmm.CustomTorsionForce; proxy of <Swig Object of type 'OpenMM::CustomTorsionForce *' at 0x2af9afbc89c0> >,\n",
       " <simtk.openmm.openmm.NonbondedForce; proxy of <Swig Object of type 'OpenMM::NonbondedForce *' at 0x2af9af99a540> >,\n",
       " <simtk.openmm.openmm.CustomNonbondedForce; proxy of <Swig Object of type 'OpenMM::CustomNonbondedForce *' at 0x2af9af99ae40> >,\n",
       " <simtk.openmm.openmm.CustomBondForce; proxy of <Swig Object of type 'OpenMM::CustomBondForce *' at 0x2af9455c0420> >]"
      ]
     },
     "execution_count": 16,
     "metadata": {},
     "output_type": "execute_result"
    }
   ],
   "source": [
    "REST_system.getForces()"
   ]
  },
  {
   "cell_type": "code",
   "execution_count": 17,
   "id": "a19e107d",
   "metadata": {},
   "outputs": [],
   "source": [
    "# Create thermodynamics states\n",
    "sampler_state =  SamplerState(htf.hybrid_positions, box_vectors=htf.hybrid_system.getDefaultPeriodicBoxVectors())\n",
    "beta_0 = 1/(kB*T_min)\n",
    "thermodynamic_state_list = []\n",
    "sampler_state_list = []\n",
    "for temperature in temperatures:\n",
    "    beta_m = 1/(kB*temperature)\n",
    "    compound_thermodynamic_state_copy = copy.deepcopy(compound_thermodynamic_state)\n",
    "    compound_thermodynamic_state_copy.set_alchemical_parameters(beta_0, beta_m)\n",
    "    thermodynamic_state_list.append(compound_thermodynamic_state_copy)\n",
    "\n",
    "    # now generating a sampler_state for each thermodynamic state, with relaxed positions\n",
    "    # context, context_integrator = context_cache.get_context(compound_thermodynamic_state_copy)\n",
    "    feptasks.minimize(compound_thermodynamic_state_copy, sampler_state, max_iterations=0)\n",
    "    sampler_state_list.append(copy.deepcopy(sampler_state))\n"
   ]
  },
  {
   "cell_type": "code",
   "execution_count": 18,
   "id": "3bc90879",
   "metadata": {
    "scrolled": true
   },
   "outputs": [
    {
     "data": {
      "text/plain": [
       "[<simtk.openmm.openmm.CustomBondForce; proxy of <Swig Object of type 'OpenMM::CustomBondForce *' at 0x2af9af8a0120> >,\n",
       " <simtk.openmm.openmm.CustomAngleForce; proxy of <Swig Object of type 'OpenMM::CustomAngleForce *' at 0x2af9af8a00f0> >,\n",
       " <simtk.openmm.openmm.CustomTorsionForce; proxy of <Swig Object of type 'OpenMM::CustomTorsionForce *' at 0x2af9af8a08a0> >,\n",
       " <simtk.openmm.openmm.NonbondedForce; proxy of <Swig Object of type 'OpenMM::NonbondedForce *' at 0x2af9af8a0db0> >,\n",
       " <simtk.openmm.openmm.CustomNonbondedForce; proxy of <Swig Object of type 'OpenMM::CustomNonbondedForce *' at 0x2af9af8a0750> >,\n",
       " <simtk.openmm.openmm.CustomBondForce; proxy of <Swig Object of type 'OpenMM::CustomBondForce *' at 0x2af9af8a0c90> >,\n",
       " <simtk.openmm.openmm.AndersenThermostat; proxy of <Swig Object of type 'OpenMM::AndersenThermostat *' at 0x2af9af8a0990> >]"
      ]
     },
     "execution_count": 18,
     "metadata": {},
     "output_type": "execute_result"
    }
   ],
   "source": [
    "thermodynamic_state_list[0].get_system().getForces()"
   ]
  },
  {
   "cell_type": "code",
   "execution_count": 19,
   "id": "2282820b",
   "metadata": {},
   "outputs": [],
   "source": [
    "context_cache = cache.global_context_cache"
   ]
  },
  {
   "cell_type": "code",
   "execution_count": 22,
   "id": "8ac236c6",
   "metadata": {},
   "outputs": [],
   "source": [
    "integrator = openmmtools.integrators.LangevinIntegrator(temperature=300 * unit.kelvin,\n",
    "                                              collision_rate=1 / unit.picoseconds,\n",
    "                                              timestep= 4 * unit.femtoseconds)"
   ]
  },
  {
   "cell_type": "code",
   "execution_count": 23,
   "id": "99aae71f",
   "metadata": {},
   "outputs": [],
   "source": [
    "context, integrator = context_cache.get_context(thermodynamic_state_list[-1], integrator)\n"
   ]
  },
  {
   "cell_type": "code",
   "execution_count": 24,
   "id": "ef410b8f",
   "metadata": {},
   "outputs": [
    {
     "data": {
      "text/plain": [
       "'CUDA'"
      ]
     },
     "execution_count": 24,
     "metadata": {},
     "output_type": "execute_result"
    }
   ],
   "source": [
    "context.getPlatform().getName()"
   ]
  },
  {
   "cell_type": "code",
   "execution_count": 25,
   "id": "a0af3369",
   "metadata": {},
   "outputs": [],
   "source": [
    "sampler_state_list[-1].apply_to_context(context)"
   ]
  },
  {
   "cell_type": "code",
   "execution_count": 26,
   "id": "1692b397",
   "metadata": {},
   "outputs": [
    {
     "name": "stderr",
     "output_type": "stream",
     "text": [
      "<ipython-input-26-43269e18d264>:3: TqdmDeprecationWarning: This function will be removed in tqdm==5.0.0\n",
      "Please use `tqdm.notebook.tqdm` instead of `tqdm.tqdm_notebook`\n",
      "  for _ in tqdm_notebook(range(int(125000/250))):\n"
     ]
    },
    {
     "data": {
      "application/vnd.jupyter.widget-view+json": {
       "model_id": "",
       "version_major": 2,
       "version_minor": 0
      },
      "text/plain": [
       "  0%|          | 0/500 [00:00<?, ?it/s]"
      ]
     },
     "metadata": {},
     "output_type": "display_data"
    }
   ],
   "source": [
    "old, new = list(), list()\n",
    "energies = list()\n",
    "for _ in tqdm_notebook(range(int(125000/250))):\n",
    "    integrator.step(250)\n",
    "    \n",
    "    energy = context.getState(getEnergy=True).getPotentialEnergy()\n",
    "    energies.append(energy.value_in_unit_system(unit.md_unit_system))\n",
    "    pos = context.getState(getPositions=True, enforcePeriodicBox=False).getPositions(asNumpy=True)\n",
    "    old_pos = np.asarray(htf.old_positions(pos))\n",
    "    new_pos = np.asarray(htf.new_positions(pos))\n",
    "    old.append(old_pos)\n",
    "    new.append(new_pos)"
   ]
  },
  {
   "cell_type": "code",
   "execution_count": 27,
   "id": "cb60ef46",
   "metadata": {},
   "outputs": [],
   "source": [
    "with open(\"old_ala_vacuum_1200.npy\", 'wb') as f:\n",
    "    np.save(f, old)\n",
    "with open(\"new_ala_vacuum_1200.npy\", 'wb') as f:\n",
    "    np.save(f, new)\n",
    "with open(\"energies_ala_vacuum_1200.npy\", 'wb') as f:\n",
    "    np.save(f, energies)"
   ]
  },
  {
   "cell_type": "code",
   "execution_count": 28,
   "id": "11d90650",
   "metadata": {},
   "outputs": [],
   "source": [
    "import mdtraj as md"
   ]
  },
  {
   "cell_type": "code",
   "execution_count": 29,
   "id": "dae0e59a",
   "metadata": {},
   "outputs": [],
   "source": [
    "traj = md.Trajectory(np.array(old), md.Topology.from_openmm(htf._topology_proposal.old_topology))\n",
    "traj.save(\"old_ala_vacuum_1200.dcd\")\n",
    "traj[0].save(\"old_ala_vacuum_1200.pdb\")"
   ]
  },
  {
   "cell_type": "code",
   "execution_count": 30,
   "id": "2f09371a",
   "metadata": {},
   "outputs": [
    {
     "name": "stderr",
     "output_type": "stream",
     "text": [
      "DEBUG:matplotlib:matplotlib data path: /home/zhangi/miniconda3/envs/perses-rest2v2/lib/python3.8/site-packages/matplotlib/mpl-data\n",
      "DEBUG:matplotlib:CONFIGDIR=/home/zhangi/.config/matplotlib\n",
      "DEBUG:matplotlib:matplotlib version 3.4.2\n",
      "DEBUG:matplotlib:interactive is False\n",
      "DEBUG:matplotlib:platform is linux\n",
      "DEBUG:matplotlib:loaded modules: ['sys', 'builtins', '_frozen_importlib', '_imp', '_warnings', '_io', 'marshal', 'posix', '_frozen_importlib_external', '_thread', '_weakref', 'time', 'zipimport', '_codecs', 'codecs', 'encodings.aliases', 'encodings', 'encodings.utf_8', '_signal', '__main__', 'encodings.latin_1', '_abc', 'abc', 'io', '_stat', 'stat', '_collections_abc', 'genericpath', 'posixpath', 'os.path', 'os', '_sitebuiltins', '_locale', '_bootlocale', 'types', 'importlib._bootstrap', 'importlib._bootstrap_external', 'warnings', 'importlib', 'importlib.machinery', 'importlib.abc', '_operator', 'operator', 'keyword', '_heapq', 'heapq', 'itertools', 'reprlib', '_collections', 'collections', '_functools', 'functools', 'contextlib', 'importlib.util', 'mpl_toolkits', 'sphinxcontrib', 'sitecustomize', 'site', '_weakrefset', 'weakref', 'pkgutil', 'runpy', 'ipykernel._version', 'enum', '_sre', 'sre_constants', 'sre_parse', 'sre_compile', 'copyreg', 're', '_json', 'json.scanner', 'json.decoder', 'json.encoder', 'json', 'errno', 'signal', 'threading', '_posixsubprocess', 'select', 'collections.abc', 'math', 'selectors', 'subprocess', 'IPython.core', 'IPython.core.getipython', 'IPython.core.release', 'atexit', 'copy', 'fnmatch', 'glob', 'token', 'tokenize', 'linecache', 'traceback', '_string', 'string', 'logging', 'zlib', '_compression', '_bz2', 'bz2', '_lzma', 'lzma', 'pwd', 'grp', 'shutil', '_ast', 'ast', '_opcode', 'opcode', 'dis', 'inspect', 'traitlets.utils', 'traitlets.utils.getargspec', 'traitlets.utils.importstring', 'traitlets.utils.sentinel', 'traitlets.utils.bunch', 'traitlets.utils.descriptions', 'traitlets.traitlets', 'traitlets.utils.decorators', 'traitlets._version', 'traitlets', 'pprint', 'locale', 'gettext', 'argparse', 'ipython_genutils._version', 'ipython_genutils', '_bisect', 'bisect', '_sha512', '_random', 'random', 'ipython_genutils.encoding', 'platform', 'ipython_genutils.py3compat', 'ipython_genutils.path', 'traitlets.config.loader', 'textwrap', 'ipython_genutils.text', 'traitlets.config.configurable', 'traitlets.config.application', 'traitlets.config', 'sysconfig', 'urllib', 'urllib.parse', '_sysconfigdata__linux_x86_64-linux-gnu', 'pydoc', 'bdb', 'IPython.utils', 'IPython.utils.ipstruct', 'IPython.utils.coloransi', 'pygments', 'IPython.utils.colorable', 'IPython.utils.PyColorize', 'IPython.utils.encoding', 'IPython.utils.py3compat', 'IPython.core.excolors', 'IPython.testing', 'IPython.testing.skipdoctest', 'cmd', '__future__', 'codeop', 'code', 'pdb', 'IPython.core.debugger', 'IPython.core.display_trap', 'pexpect.exceptions', 'pexpect.utils', 'pexpect.expect', 'termios', 'tty', 'pty', 'fcntl', 'resource', '_struct', 'struct', 'ptyprocess.util', 'ptyprocess.ptyprocess', 'ptyprocess', 'pexpect.spawnbase', 'pexpect.pty_spawn', 'pexpect.run', 'pexpect', 'shlex', 'IPython.utils._process_common', 'IPython.utils._process_posix', 'IPython.utils.process', 'IPython.utils.decorators', 'IPython.utils.path', 'IPython.utils.data', 'IPython.utils.terminal', 'IPython.core.ultratb', 'IPython.utils._sysinfo', 'IPython.utils.sysinfo', 'IPython.core.crashhandler', 'tempfile', 'IPython.utils.importstring', 'IPython.paths', 'IPython.core.profiledir', 'IPython.core.application', 'IPython.terminal', '_hashlib', '_blake2', '_sha3', 'hashlib', 'IPython.core.compilerop', 'IPython.core.error', 'ntpath', 'pathlib', 'IPython.utils.text', 'IPython.core.magic_arguments', 'getopt', 'typing.io', 'typing.re', 'typing', 'binascii', 'mimetypes', 'IPython.core.display', 'IPython.core.page', 'getpass', 'IPython.lib.security', 'IPython.lib', '_datetime', 'datetime', 'IPython.lib.pretty', 'IPython.utils.openpy', 'IPython.utils.dir2', 'IPython.utils.wildcard', 'pygments.lexers._mapping', 'pygments.modeline', 'pygments.plugin', 'pygments.util', 'pygments.lexers', 'pygments.filter', 'pygments.token', 'pygments.filters', 'pygments.regexopt', 'pygments.lexer', 'pygments.unistring', 'pygments.lexers.python', 'pygments.formatters._mapping', 'pygments.formatters', 'pygments.styles', 'pygments.formatter', 'pygments.formatters.html', 'IPython.core.oinspect', 'IPython.core.inputtransformer2', 'decorator', 'IPython.core.magic', '_compat_pickle', '_pickle', 'pickle', 'pickleshare', 'IPython.core.autocall', 'IPython.core.macro', 'IPython.core.splitinput', 'IPython.core.prefilter', 'IPython.core.alias', 'IPython.core.builtin_trap', 'backcall.backcall', 'backcall', 'IPython.core.events', 'IPython.core.displayhook', 'IPython.core.displaypub', 'IPython.core.extensions', 'IPython.utils.sentinel', 'IPython.core.formatters', '_sqlite3', 'sqlite3.dbapi2', 'sqlite3', 'IPython.core.history', 'IPython.core.logger', 'IPython.core.payload', 'IPython.core.usage', 'html.entities', 'html', 'IPython.lib.display', 'IPython.display', 'IPython.utils.capture', 'IPython.utils.io', 'IPython.core.hooks', 'IPython.utils.strdispatch', 'IPython.utils.syspathcontext', 'IPython.utils.tempdir', 'IPython.utils.contexts', 'IPython.core.async_helpers', 'IPython.core.interactiveshell', 'concurrent', 'concurrent.futures._base', 'concurrent.futures', '_socket', 'socket', '_ssl', 'base64', 'ssl', 'asyncio.constants', 'asyncio.format_helpers', 'asyncio.base_futures', 'asyncio.log', 'asyncio.coroutines', '_contextvars', 'contextvars', 'asyncio.exceptions', 'asyncio.base_tasks', '_asyncio', 'asyncio.events', 'asyncio.futures', 'asyncio.protocols', 'asyncio.transports', 'asyncio.sslproto', 'asyncio.locks', 'asyncio.tasks', 'asyncio.staggered', 'asyncio.trsock', 'asyncio.base_events', 'asyncio.runners', 'asyncio.queues', 'asyncio.streams', 'asyncio.subprocess', 'asyncio.base_subprocess', 'asyncio.selector_events', 'asyncio.unix_events', 'asyncio', 'prompt_toolkit.application.current', 'prompt_toolkit.eventloop.utils', 'prompt_toolkit.eventloop.async_generator', 'wcwidth.table_wide', 'wcwidth.table_zero', 'wcwidth.unicode_versions', 'wcwidth.wcwidth', 'wcwidth', 'prompt_toolkit.utils', 'prompt_toolkit.eventloop.inputhook', 'prompt_toolkit.eventloop', 'prompt_toolkit.application.run_in_terminal', 'prompt_toolkit.selection', 'prompt_toolkit.clipboard.base', 'prompt_toolkit.clipboard.in_memory', 'prompt_toolkit.clipboard', 'prompt_toolkit.cache', 'prompt_toolkit.enums', 'prompt_toolkit.filters.base', 'prompt_toolkit.filters.app', 'prompt_toolkit.filters.cli', 'prompt_toolkit.filters.utils', 'prompt_toolkit.filters', 'prompt_toolkit.document', 'prompt_toolkit.auto_suggest', 'prompt_toolkit.data_structures', 'prompt_toolkit.styles.base', 'prompt_toolkit.styles.named_colors', 'prompt_toolkit.styles.style', 'prompt_toolkit.styles.defaults', 'prompt_toolkit.styles.pygments', 'colorsys', 'prompt_toolkit.styles.style_transformation', 'prompt_toolkit.styles', 'prompt_toolkit.output.color_depth', 'prompt_toolkit.output.base', 'prompt_toolkit.output.defaults', 'prompt_toolkit.output', 'array', 'prompt_toolkit.output.vt100', 'prompt_toolkit.mouse_events', 'prompt_toolkit.formatted_text.base', 'prompt_toolkit.formatted_text.ansi', 'xml', 'xml.dom.domreg', 'xml.dom', 'xml.dom.minicompat', 'xml.dom.NodeFilter', 'xml.dom.xmlbuilder', 'xml.dom.minidom', 'prompt_toolkit.formatted_text.html', 'prompt_toolkit.formatted_text.pygments', 'prompt_toolkit.formatted_text.utils', 'prompt_toolkit.formatted_text', 'prompt_toolkit.completion.base', 'prompt_toolkit.completion.deduplicate', 'prompt_toolkit.completion.filesystem', 'prompt_toolkit.completion.word_completer', 'prompt_toolkit.completion.fuzzy_completer', 'prompt_toolkit.completion.nested', 'prompt_toolkit.completion', 'prompt_toolkit.history', 'prompt_toolkit.keys', 'prompt_toolkit.key_binding.key_bindings', 'prompt_toolkit.key_binding.key_processor', 'prompt_toolkit.key_binding', 'prompt_toolkit.key_binding.vi_state', 'prompt_toolkit.search', 'prompt_toolkit.validation', 'prompt_toolkit.buffer', 'prompt_toolkit.input.base', 'prompt_toolkit.input.defaults', 'prompt_toolkit.input', 'prompt_toolkit.input.typeahead', 'prompt_toolkit.key_binding.bindings', 'prompt_toolkit.key_binding.bindings.scroll', 'prompt_toolkit.key_binding.bindings.page_navigation', 'prompt_toolkit.lexers.base', 'prompt_toolkit.lexers.pygments', 'prompt_toolkit.lexers', 'prompt_toolkit.layout.utils', 'prompt_toolkit.layout.processors', 'prompt_toolkit.layout.controls', 'prompt_toolkit.layout.dimension', 'prompt_toolkit.layout.margins', 'prompt_toolkit.layout.mouse_handlers', 'prompt_toolkit.layout.screen', 'prompt_toolkit.layout.containers', 'prompt_toolkit.layout.layout', 'prompt_toolkit.layout.menus', 'prompt_toolkit.layout.scrollable_pane', 'prompt_toolkit.layout', 'prompt_toolkit.key_binding.bindings.completion', 'prompt_toolkit.key_binding.bindings.named_commands', 'prompt_toolkit.key_binding.bindings.basic', 'prompt_toolkit.key_binding.bindings.cpr', 'prompt_toolkit.key_binding.bindings.emacs', 'prompt_toolkit.key_binding.bindings.mouse', 'prompt_toolkit.input.ansi_escape_sequences', 'prompt_toolkit.input.vt100_parser', 'prompt_toolkit.key_binding.digraphs', 'prompt_toolkit.key_binding.bindings.vi', 'prompt_toolkit.key_binding.defaults', 'prompt_toolkit.key_binding.emacs_state', 'prompt_toolkit.layout.dummy', 'prompt_toolkit.renderer', 'prompt_toolkit.application.application', 'prompt_toolkit.application.dummy', 'prompt_toolkit.application', 'prompt_toolkit.key_binding.bindings.focus', 'prompt_toolkit.widgets.toolbars', 'prompt_toolkit.widgets.base', 'prompt_toolkit.widgets.dialogs', 'prompt_toolkit.widgets.menus', 'prompt_toolkit.widgets', 'prompt_toolkit.shortcuts.dialogs', 'prompt_toolkit.shortcuts.progress_bar.formatters', 'prompt_toolkit.shortcuts.progress_bar.base', 'prompt_toolkit.shortcuts.progress_bar', 'prompt_toolkit.key_binding.bindings.auto_suggest', 'prompt_toolkit.key_binding.bindings.open_in_editor', 'prompt_toolkit.shortcuts.prompt', 'prompt_toolkit.shortcuts.utils', 'prompt_toolkit.shortcuts', 'prompt_toolkit', '_queue', 'queue', 'prompt_toolkit.patch_stdout', 'pygments.style', 'unicodedata', 'IPython.core.latex_symbols', 'IPython.utils.generics', 'parso.utils', 'parso.tree', 'parso.python', 'parso.python.token', 'parso.python.tokenize', 'parso.pgen2.grammar_parser', 'parso.pgen2.generator', 'parso.pgen2', 'parso.parser', 'parso._compatibility', 'difflib', 'parso.python.prefix', 'parso.python.tree', 'parso.python.parser', 'parso.python.diff', 'gc', 'parso.cache', 'parso.normalizer', 'parso.python.errors', 'parso.python.pep8', 'parso.file_io', 'parso.grammar', 'parso', 'jedi._compatibility', 'jedi.parser_utils', 'colorama.ansi', '_ctypes', 'ctypes._endian', 'ctypes', 'colorama.win32', 'colorama.winterm', 'colorama.ansitowin32', 'colorama.initialise', 'colorama', 'jedi.debug', 'jedi.settings', 'jedi.cache', 'jedi.file_io', 'jedi.inference.cache', 'jedi.inference.helpers', 'jedi.inference.utils', 'jedi.inference.base_value', 'jedi.inference.sys_path', 'jedi.inference.recursion', 'jedi.inference.flow_analysis', 'jedi.common', 'jedi.inference.lazy_value', 'jedi.inference.docstrings', 'jedi.plugins', 'jedi.inference.names', 'jedi.inference.filters', 'jedi.inference.compiled.getattr_static', 'jedi.inference.compiled.access', 'jedi.inference.signature', 'jedi.inference.context', 'jedi.inference.compiled.value', 'jedi.inference.compiled', 'jedi.inference.analysis', 'jedi.inference.gradual', 'jedi.inference.value.module', 'jedi.inference.value.dynamic_arrays', 'jedi.inference.value.iterable', 'jedi.inference.arguments', 'jedi.inference.parser_cache', 'jedi.inference.gradual.generics', 'jedi.inference.value.function', 'jedi.inference.value.klass', 'jedi.inference.value.instance', 'jedi.inference.value', 'jedi.inference.gradual.base', 'jedi.inference.gradual.type_var', 'jedi.inference.gradual.typing', 'jedi.inference.gradual.stub_value', 'jedi.inference.gradual.typeshed', 'jedi.inference.compiled.subprocess.functions', 'jedi.api.exceptions', 'jedi.inference.compiled.subprocess', 'jedi.inference.imports', 'jedi.inference.param', 'jedi.inference.gradual.annotation', 'jedi.inference.value.decorator', 'jedi.inference.syntax_tree', 'jedi.inference', 'jedi.inference.gradual.conversion', 'jedi.inference.compiled.mixed', 'pydoc_data', 'pydoc_data.topics', 'jedi.api.keywords', 'jedi.api.completion_cache', 'jedi.api.helpers', 'jedi.api.classes', 'jedi.api.interpreter', 'jedi.api.strings', 'jedi.api.file_name', 'jedi.api.completion', 'filecmp', 'jedi.api.environment', 'jedi.inference.references', 'jedi.api.project', 'jedi.api.errors', 'jedi.api.refactoring', 'jedi.api.refactoring.extract', 'jedi.inference.gradual.utils', 'jedi.api', 'jedi.plugins.stdlib', 'jedi.plugins.flask', 'jedi.plugins.pytest', 'jedi.plugins.django', 'jedi.plugins.registry', 'jedi', 'IPython.core.completer', 'IPython.terminal.ptutils', 'IPython.terminal.shortcuts', 'IPython.terminal.debugger', 'IPython.lib.clipboard', 'IPython.terminal.magics', 'IPython.terminal.pt_inputhooks', 'IPython.terminal.prompts', 'IPython.terminal.interactiveshell', 'IPython.core.magics.auto', 'IPython.core.magics.basic', 'email', 'http', 'email.errors', 'email.quoprimime', 'email.base64mime', 'quopri', 'email.encoders', 'email.charset', 'email.header', 'calendar', 'email._parseaddr', 'email.utils', 'email._policybase', 'email.feedparser', 'email.parser', 'uu', 'email._encoded_words', 'email.iterators', 'email.message', 'http.client', 'urllib.response', 'urllib.error', 'urllib.request', 'IPython.core.magics.code', 'IPython.core.magics.config', 'IPython.core.magics.display', 'timeit', '_lsprof', 'profile', 'cProfile', 'pstats', 'IPython.utils.module_paths', 'IPython.utils.timing', 'IPython.core.magics.execution', 'IPython.core.magics.extension', 'IPython.core.magics.history', 'IPython.core.magics.logging', 'IPython.core.magics.namespace', 'IPython.core.magics.osm', 'IPython.core.magics.packaging', 'IPython.core.pylabtools', 'IPython.core.magics.pylab', 'IPython.lib.backgroundjobs', 'IPython.core.magics.script', 'IPython.core.magics', 'IPython.core.shellapp', 'IPython.extensions', 'IPython.extensions.storemagic', 'IPython.terminal.ipapp', 'IPython.terminal.embed', 'IPython.utils.frame', 'IPython', 'jupyter_client._version', 'zmq.backend.select', 'cython_runtime', 'zmq.backend.cython.constants', '_cython_0_29_21', 'zmq.backend.cython.error', 'zmq.error', 'zmq.backend.cython.message', 'zmq.backend.cython.context', 'zmq.backend.cython.socket', 'zmq.backend.cython.utils', 'zmq.backend.cython._poll', 'zmq.backend.cython._version', 'zmq.backend.cython._device', 'zmq.backend.cython._proxy_steerable', 'zmq.backend.cython', 'zmq.backend', 'zmq.utils', 'zmq.utils.constant_names', 'zmq.sugar.constants', 'zmq.sugar.attrsettr', 'zmq.sugar.poll', 'zmq.utils.strtypes', 'zmq.utils.jsonapi', 'zmq.sugar.socket', 'zmq.sugar.context', 'zmq.sugar.frame', 'zmq.sugar.tracker', 'zmq.sugar.version', 'zmq.sugar.stopwatch', 'zmq.sugar', 'zmq', 'jupyter_client.localinterfaces', 'jupyter_core.version', 'jupyter_core', 'jupyter_core.paths', 'jupyter_client.utils', 'jupyter_client.connect', 'traitlets.log', 'jupyter_client.launcher', 'jupyter_client.channelsabc', 'jupyter_client.channels', 'jupyter_client.clientabc', 'jupyter_client.client', 'jupyter_client.kernelspec', 'jupyter_client.managerabc', 'jupyter_client.manager', 'jupyter_client.blocking.channels', 'jupyter_client.blocking.client', 'jupyter_client.blocking', 'zmq._future', 'zmq.asyncio', 'jupyter_client.asynchronous.channels', 'jupyter_client.asynchronous.client', 'jupyter_client.asynchronous', 'uuid', 'jupyter_client.multikernelmanager', 'jupyter_client', 'ipykernel.connect', 'ipykernel', 'tornado', 'numbers', 'logging.handlers', 'tornado.speedups', 'tornado.util', 'tornado.escape', '_curses', 'curses', 'tornado.log', 'tornado.concurrent', 'tornado.ioloop', 'tornado.platform', 'tornado.gen', 'tornado.platform.asyncio', 'zmq.eventloop.ioloop', 'zmq.eventloop', 'zmq.eventloop.zmqstream', 'ipython_genutils.importstring', 'imp', 'hmac', 'dateutil._version', 'dateutil', 'six', '_decimal', 'decimal', 'dateutil._common', 'dateutil.relativedelta', 'six.moves', 'dateutil.tz._common', 'dateutil.tz._factories', 'dateutil.tz.tz', 'dateutil.tz', 'dateutil.parser._parser', 'dateutil.parser.isoparser', 'dateutil.parser', '_strptime', 'jupyter_client.jsonutil', 'jupyter_client.adapter', 'jupyter_client.session', 'ipykernel.iostream', 'ipykernel.heartbeat', 'IPython.utils.tokenutil', 'tornado.locks', 'tornado.queues', 'ipykernel.jsonutil', 'ipykernel.kernelbase', 'ipykernel.comm.comm', 'ipykernel.comm.manager', 'ipykernel.comm', 'IPython.core.payloadpage', 'ipykernel.displayhook', 'ipykernel.codeutil', 'ipykernel.pickleutil', 'ipykernel.serialize', 'ipykernel.datapub', 'ipykernel.zmqshell', 'distutils', 'distutils.version', 'ipykernel.eventloops', 'ipykernel.ipkernel', 'ipykernel.parentpoller', 'ipykernel.kernelapp', 'faulthandler', 'IPython.core.completerlib', 'storemagic', 'openeye', 'libs', 'libs.openeye_platform', 'swig_runtime_data4', '_oechem3102', 'openeye.oechem', 'oechem', 'perses._version', 'perses', 'perses.annihilation', 'simtk', 'simtk.openmm.version', 'simtk.openmm._openmm', 'numpy._globals', 'numpy.__config__', 'numpy.version', 'numpy._distributor_init', 'numpy.core._multiarray_umath', 'numpy.compat._inspect', 'numpy.compat.py3k', 'numpy.compat', 'numpy.core.overrides', 'numpy.core.multiarray', 'numpy.core.umath', 'numpy.core._string_helpers', 'numpy.core._dtype', 'numpy.core._type_aliases', 'numpy.core.numerictypes', 'numpy.core._asarray', 'numpy.core._exceptions', 'numpy.core._methods', 'numpy.core.fromnumeric', 'numpy.core.shape_base', 'numpy.core._ufunc_config', 'numpy.core.arrayprint', 'numpy.core.numeric', 'numpy.core.defchararray', 'numpy.core.records', 'numpy.core.memmap', 'numpy.core.function_base', 'numpy.core.machar', 'numpy.core.getlimits', 'numpy.core.einsumfunc', 'numpy.core._multiarray_tests', 'numpy.core._add_newdocs', 'numpy.core._add_newdocs_scalars', 'numpy.core._dtype_ctypes', 'numpy.core._internal', 'numpy._pytesttester', 'numpy.core', 'numpy.lib.mixins', 'numpy.lib.ufunclike', 'numpy.lib.type_check', 'numpy.lib.scimath', 'numpy.lib.twodim_base', 'numpy.linalg.lapack_lite', 'numpy.linalg._umath_linalg', 'numpy.linalg.linalg', 'numpy.linalg', 'numpy.matrixlib.defmatrix', 'numpy.matrixlib', 'numpy.lib.histograms', 'numpy.lib.function_base', 'numpy.lib.stride_tricks', 'numpy.lib.index_tricks', 'numpy.lib.nanfunctions', 'numpy.lib.shape_base', 'numpy.lib.polynomial', 'numpy.lib.utils', 'numpy.lib.arraysetops', 'numpy.lib.format', 'numpy.lib._datasource', 'numpy.lib._iotools', 'numpy.lib.npyio', 'numpy.lib.arrayterator', 'numpy.lib.arraypad', 'numpy.lib._version', 'numpy.lib', 'numpy.fft._pocketfft_internal', 'numpy.fft._pocketfft', 'numpy.fft.helper', 'numpy.fft', 'numpy.polynomial.polyutils', 'numpy.polynomial._polybase', 'numpy.polynomial.polynomial', 'numpy.polynomial.chebyshev', 'numpy.polynomial.legendre', 'numpy.polynomial.hermite', 'numpy.polynomial.hermite_e', 'numpy.polynomial.laguerre', 'numpy.polynomial', '_cython_0_29_23', 'numpy.random._common', 'secrets', 'numpy.random.bit_generator', 'numpy.random._bounded_integers', 'numpy.random._mt19937', 'numpy.random.mtrand', 'numpy.random._philox', 'numpy.random._pcg64', 'numpy.random._sfc64', 'numpy.random._generator', 'numpy.random._pickle', 'numpy.random', 'numpy.ctypeslib', 'numpy.ma.core', 'numpy.ma.extras', 'numpy.ma', 'numpy', 'simtk.unit.mymatrix', 'simtk.unit.basedimension', 'simtk.unit.baseunit', 'simtk.unit.standard_dimensions', 'simtk.unit.unit', 'simtk.unit.quantity', 'simtk.unit.unit_operators', 'simtk.unit.prefix', 'simtk.unit.unit_definitions', 'simtk.unit.unit_math', 'simtk.unit.constants', 'simtk.unit', 'simtk.openmm.vec3', 'simtk.openmm.openmm', 'simtk.openmm.mtsintegrator', 'simtk.openmm.amd', 'simtk.openmm', 'mdtraj.utils.delay_import', 'mdtraj.utils.six.moves', 'mdtraj.utils.six.moves.urllib_parse', 'mdtraj.utils.six.moves.urllib.parse', 'mdtraj.utils.six.moves.urllib_error', 'mdtraj.utils.six.moves.urllib.error', 'mdtraj.utils.six.moves.urllib_request', 'mdtraj.utils.six.moves.urllib.request', 'mdtraj.utils.six.moves.urllib_response', 'mdtraj.utils.six.moves.urllib.response', 'mdtraj.utils.six.moves.urllib_robotparser', 'mdtraj.utils.six.moves.urllib.robotparser', 'mdtraj.utils.six.moves.urllib', 'mdtraj.utils.six', 'mdtraj.utils.validation', 'mdtraj.utils.unit.basedimension', 'mdtraj.utils.unit.standard_dimensions', 'mdtraj.utils.unit.mymatrix', 'mdtraj.utils.unit.baseunit', 'mdtraj.utils.unit.unit', 'mdtraj.utils.unit.quantity', 'mdtraj.utils.unit.unit_operators', 'mdtraj.utils.unit.prefix', 'mdtraj.utils.unit.unit_definitions', 'mdtraj.utils.unit', 'mdtraj.utils.rotation', 'mdtraj.utils.unitcell', 'mdtraj.utils.contextmanagers', 'gzip', 'mdtraj.utils.zipped', 'mdtraj.utils', 'mdtraj.formats.registry', 'mdtraj.formats.arc', 'mdtraj.formats.dcd', 'mdtraj.formats.binpos', 'xdrlib', 'mdtraj.formats.xtc', 'mdtraj.formats.trr', 'mdtraj.version', 'mdtraj.core', 'mdtraj.core.element', 'xml.etree', 'xml.etree.ElementPath', 'pyexpat.errors', 'pyexpat.model', 'pyexpat', '_elementtree', 'xml.etree.ElementTree', 'mdtraj.core.residue_names', 'pyparsing', 'astunparse.unparser', 'astunparse.printer', 'astunparse', 'mdtraj.core.selection', 'mdtraj.utils.singleton', 'mdtraj.core.topology', 'mdtraj.formats.hdf5', 'mdtraj.formats.netcdf', 'mdtraj.formats.pdb.pdbstructure', 'mdtraj.formats.pdb.pdbfile', 'mdtraj.formats.pdb', 'mdtraj.formats.lh5', 'mdtraj.formats.mdcrd', 'mdtraj.formats.amberrst', 'mdtraj.formats.lammpstrj', 'mdtraj.formats.dtr', 'mdtraj.formats.gro', 'mdtraj.formats.xyzfile', 'mdtraj.formats.tng', 'mdtraj.formats', 'mdtraj.formats.openmmxml', 'mdtraj.formats.prmtop', 'mdtraj.formats.psf', 'mdtraj.formats.mol2', 'xml.etree.cElementTree', 'mdtraj.formats.hoomdxml', 'mdtraj._rmsd', 'scipy._lib._testutils', 'scipy._lib', 'scipy._lib.deprecation', 'scipy.__config__', 'scipy.version', 'scipy._distributor_init', 'scipy._lib._pep440', 'scipy._lib._ccallback_c', 'scipy._lib._ccallback', 'scipy', 'scipy._lib._util', 'scipy.sparse.sputils', 'scipy.sparse.base', 'scipy.sparse._sparsetools', 'scipy.sparse.data', 'scipy.sparse.dia', 'scipy.sparse._index', 'scipy.sparse.compressed', 'scipy.sparse.csr', 'scipy.sparse.csc', 'scipy.sparse._csparsetools', 'scipy.sparse.lil', 'scipy.sparse.dok', 'scipy.sparse.coo', 'scipy.sparse.bsr', 'scipy.sparse.construct', 'scipy.sparse.extract', 'scipy.sparse._matrix_io', 'scipy.sparse.csgraph._laplacian', 'scipy.sparse.csgraph._tools', 'scipy.sparse.csgraph._validation', 'scipy.sparse.csgraph._shortest_path', 'scipy.sparse.csgraph._traversal', 'scipy.sparse.csgraph._min_spanning_tree', 'scipy.sparse.csgraph._flow', 'scipy.sparse.csgraph._matching', 'scipy.sparse.csgraph._reordering', 'scipy.sparse.csgraph', 'scipy.sparse', 'scipy.spatial.ckdtree', 'scipy.spatial.kdtree', 'scipy._lib.messagestream', 'scipy.spatial.qhull', 'scipy.spatial._voronoi', 'scipy.spatial._spherical_voronoi', 'scipy._lib.decorator', 'scipy.spatial._plotutils', 'scipy.linalg._fblas', 'scipy.linalg.blas', 'scipy.linalg._flapack', 'scipy.linalg.lapack', 'scipy.linalg.misc', 'scipy.linalg._flinalg', 'scipy.linalg.flinalg', 'scipy.linalg.decomp', 'scipy.linalg.decomp_svd', 'scipy.linalg._solve_toeplitz', 'scipy.linalg.basic', 'scipy.linalg.decomp_lu', 'scipy.linalg._decomp_ldl', 'scipy.linalg.decomp_cholesky', 'scipy.linalg.decomp_qr', 'scipy.linalg._decomp_qz', 'scipy.linalg.decomp_schur', 'scipy.linalg._decomp_polar', 'scipy.linalg.special_matrices', 'scipy.linalg._expm_frechet', 'scipy.linalg._matfuncs_sqrtm_triu', 'scipy.linalg._matfuncs_sqrtm', 'scipy.linalg.matfuncs', 'scipy.linalg._solvers', 'scipy.linalg._procrustes', 'scipy.linalg.cython_blas', 'scipy.linalg.cython_lapack', 'scipy.linalg._decomp_update', 'scipy.linalg._sketches', 'scipy.linalg._decomp_cossin', 'scipy.linalg', 'scipy.spatial._procrustes', 'scipy.spatial._distance_wrap', 'scipy.spatial._hausdorff', 'scipy.special.sf_error', 'scipy.special._ufuncs_cxx', 'scipy.special._ufuncs', 'scipy.special.specfun', 'scipy.special.orthogonal', 'scipy.special._comb', 'scipy.special._basic', 'scipy.special._logsumexp', 'scipy.special.spfun_stats', 'scipy.special._ellip_harm_2', 'scipy.special._ellip_harm', 'scipy.special._lambertw', 'scipy.special._spherical_bessel', 'scipy.special', 'scipy.spatial.distance', 'scipy.spatial._geometric_slerp', 'scipy.constants.codata', 'scipy.constants.constants', 'scipy.constants', 'scipy.spatial.transform._rotation_groups', 'scipy.spatial.transform.rotation', 'scipy.spatial.transform._rotation_spline', 'scipy.spatial.transform', 'scipy.spatial', 'mdtraj._lprmsd', 'mdtraj.geometry.rg', 'mdtraj.geometry._geometry', 'mdtraj.geometry.distance', 'mdtraj.geometry.angle', 'mdtraj.geometry.dihedral', 'mdtraj.geometry.hbond', 'mdtraj.geometry.sasa', 'mdtraj.geometry.contact', 'mdtraj.geometry.drid', 'mdtraj.geometry.dssp', 'mdtraj.geometry.neighbors', 'mdtraj.geometry.neighborlist', 'mdtraj.geometry.thermodynamic_properties', 'mdtraj.geometry.rdf', 'zipfile', 'xml.parsers', 'xml.parsers.expat.model', 'xml.parsers.expat.errors', 'xml.parsers.expat', 'plistlib', 'pkg_resources.extern', 'pkg_resources._vendor', 'pkg_resources._vendor.appdirs', 'pkg_resources.extern.appdirs', 'pkg_resources._vendor.packaging.__about__', 'pkg_resources._vendor.packaging', 'pkg_resources.extern.packaging', 'pkg_resources.extern.packaging._structures', 'pkg_resources.extern.packaging._typing', 'pkg_resources.extern.packaging.version', 'pkg_resources.extern.packaging._compat', 'pkg_resources.extern.packaging.utils', 'pkg_resources.extern.packaging.specifiers', 'pkg_resources._vendor.pyparsing', 'pkg_resources.extern.pyparsing', 'pkg_resources.extern.packaging.markers', 'pkg_resources.extern.packaging.requirements', 'encodings.cp437', 'pkg_resources', 'mdtraj.geometry.order', 'mdtraj.geometry.shape', 'mdtraj.geometry', 'mdtraj.formats.gsd', 'mdtraj.core.trajectory', 'distutils.errors', 'distutils.debug', 'distutils.log', 'distutils.spawn', 'mdtraj.nmr.shift_wrappers', 'mdtraj.nmr.scalar_couplings', 'mdtraj.nmr', 'mdtraj.reporters.basereporter', 'mdtraj.reporters.hdf5reporter', 'mdtraj.reporters.netcdfreporter', 'mdtraj.reporters.dcdreporter', 'mdtraj.reporters.xtcreporter', 'mdtraj.reporters', 'mdtraj', 'perses.annihilation.relative', 'perses.annihilation.rest', 'scipy.integrate._quadrature', 'scipy.integrate._odepack', 'scipy.integrate.odepack', 'scipy.integrate._quadpack', 'scipy.integrate.quadpack', 'scipy.integrate.vode', 'scipy.integrate._dop', 'scipy.integrate.lsoda', 'scipy.integrate._ode', 'scipy.sparse.linalg.isolve._iterative', 'scipy.sparse.linalg.interface', 'scipy.sparse.linalg.isolve.utils', 'scipy._lib._threadsafety', 'scipy.sparse.linalg.isolve.iterative', 'scipy.sparse.linalg.isolve.minres', 'scipy.sparse.linalg.isolve._gcrotmk', 'scipy.sparse.linalg.isolve.lgmres', 'scipy.sparse.linalg.isolve.lsqr', 'scipy.sparse.linalg.isolve.lsmr', 'scipy.sparse.linalg.isolve', 'scipy.sparse.linalg.dsolve._superlu', 'scipy.sparse.linalg.dsolve.linsolve', 'scipy.sparse.linalg.dsolve._add_newdocs', 'scipy.sparse.linalg.dsolve', 'scipy.sparse.linalg.eigen.arpack._arpack', 'scipy.sparse.linalg.eigen.lobpcg.lobpcg', 'scipy.sparse.linalg.eigen.lobpcg', 'scipy.sparse.linalg.eigen.arpack.arpack', 'scipy.sparse.linalg.eigen.arpack', 'scipy.sparse.linalg.eigen', 'scipy.sparse.linalg._expm_multiply', 'scipy.sparse.linalg.matfuncs', 'scipy.sparse.linalg._onenormest', 'scipy.sparse.linalg._norm', 'scipy.sparse.linalg', 'scipy.optimize.minpack2', 'scipy.optimize.linesearch', 'scipy.optimize._group_columns', 'scipy.optimize._numdiff', 'scipy.optimize._hessian_update_strategy', 'scipy.optimize._differentiable_functions', 'scipy.optimize.optimize', 'scipy.optimize._trustregion', 'scipy.optimize._trustregion_dogleg', 'scipy.optimize._trustregion_ncg', 'scipy.optimize._trlib._trlib', 'scipy.optimize._trlib', 'scipy.optimize._trustregion_krylov', 'scipy.optimize._trustregion_exact', 'unittest.util', 'unittest.result', 'unittest.case', 'unittest.async_case', 'unittest.suite', 'unittest.loader', 'unittest.signals', 'unittest.runner', 'unittest.main', 'unittest', 'numpy.testing._private', 'numpy.testing._private.utils', 'numpy.testing._private.decorators', 'numpy.testing._private.nosetester', 'numpy.testing', 'scipy.optimize._constraints', 'scipy.optimize._trustregion_constr.projections', 'scipy.optimize._trustregion_constr.qp_subproblem', 'scipy.optimize._trustregion_constr.equality_constrained_sqp', 'scipy.optimize._trustregion_constr.canonical_constraint', 'scipy.optimize._trustregion_constr.tr_interior_point', 'scipy.optimize._trustregion_constr.report', 'scipy.optimize._trustregion_constr.minimize_trustregion_constr', 'scipy.optimize._trustregion_constr', 'scipy.optimize._lbfgsb', 'scipy.optimize.lbfgsb', 'scipy.optimize.moduleTNC', 'scipy.optimize.tnc', 'scipy.optimize._cobyla', 'scipy.optimize.cobyla', 'scipy.optimize._slsqp', 'scipy.optimize.slsqp', 'scipy.optimize._minimize', 'scipy.optimize._minpack', 'scipy.optimize._lsq.common', 'scipy.optimize._lsq.trf', 'scipy.optimize._lsq.dogbox', 'scipy.optimize._lsq.least_squares', 'scipy.optimize._lsq.givens_elimination', 'scipy.optimize._lsq.trf_linear', 'scipy.optimize._lsq.bvls', 'scipy.optimize._lsq.lsq_linear', 'scipy.optimize._lsq', 'scipy.optimize.minpack', 'scipy.optimize._spectral', 'scipy.optimize.nonlin', 'scipy.optimize._root', 'scipy.optimize._zeros', 'scipy.optimize.zeros', 'scipy.optimize._root_scalar', 'scipy.optimize.__nnls', 'scipy.optimize._nnls', 'scipy.optimize._basinhopping', 'scipy.optimize._highs', 'scipy.optimize._highs.cython.src._highs_wrapper', 'scipy.optimize._highs._highs_wrapper', 'scipy.optimize._highs.cython.src._highs_constants', 'scipy.optimize._highs._highs_constants', 'scipy.optimize._linprog_highs', 'scipy.linalg._interpolative', 'scipy.linalg._interpolative_backend', 'scipy.linalg.interpolative', 'scipy.optimize._remove_redundancy', 'scipy.optimize._linprog_util', 'scipy.optimize._linprog_ip', 'scipy.optimize._linprog_simplex', 'scipy.optimize._bglu_dense', 'scipy.optimize._linprog_rs', 'scipy.optimize._linprog_doc', 'scipy.optimize._linprog', 'scipy.optimize._lsap_module', 'scipy.optimize._lsap', 'scipy.optimize._differentialevolution', 'scipy.optimize._shgo_lib', 'scipy.optimize._shgo_lib.sobol_seq', 'scipy.optimize._shgo_lib.triangulation', 'scipy.optimize._shgo', 'scipy.optimize._dual_annealing', 'scipy.optimize._qap', 'scipy.optimize', 'scipy.integrate._bvp', 'scipy.integrate._ivp.common', 'scipy.integrate._ivp.base', 'scipy.integrate._ivp.bdf', 'scipy.integrate._ivp.radau', 'scipy.integrate._ivp.dop853_coefficients', 'scipy.integrate._ivp.rk', 'scipy.integrate._ivp.lsoda', 'scipy.integrate._ivp.ivp', 'scipy.integrate._ivp', 'scipy.integrate._quad_vec', 'scipy.integrate', 'simtk.openmm.app.internal', 'simtk.openmm.app.internal.singleton', 'simtk.openmm.app.topology', 'simtk.openmm.app.element', 'simtk.openmm.app.internal.unitcell', 'simtk.openmm.app.internal.pdbstructure', 'simtk.openmm.app.pdbfile', 'simtk.openmm.app.internal.pdbx', 'simtk.openmm.app.internal.pdbx.reader', 'simtk.openmm.app.internal.pdbx.reader.PdbxContainers', 'simtk.openmm.app.internal.pdbx.reader.PdbxReader', 'simtk.openmm.app.pdbxfile', 'simtk.openmm.app.internal.compiled', 'simtk.openmm.app.forcefield', 'simtk.openmm.app.simulation', 'simtk.openmm.app.pdbreporter', 'simtk.openmm.app.internal.customgbforces', 'simtk.openmm.app.internal.amber_file_parser', 'simtk.openmm.app.amberprmtopfile', 'simtk.openmm.app.amberinpcrdfile', 'simtk.openmm.app.dcdfile', 'simtk.openmm.app.gromacsgrofile', 'simtk.openmm.app.gromacstopfile', 'simtk.openmm.app.dcdreporter', 'simtk.openmm.app.modeller', 'simtk.openmm.app.statedatareporter', 'simtk.openmm.app.desmonddmsfile', 'simtk.openmm.app.checkpointreporter', 'simtk.openmm.app.internal.charmm', 'simtk.openmm.app.internal.charmm.exceptions', 'simtk.openmm.app.charmmcrdfiles', 'simtk.openmm.app.internal.charmm._charmmfile', 'simtk.openmm.app.internal.charmm.topologyobjects', 'simtk.openmm.app.charmmparameterset', 'simtk.openmm.app.charmmpsffile', 'simtk.openmm.app.simulatedtempering', 'simtk.openmm.app.metadynamics', 'simtk.openmm.app', 'openmmtools.constants', 'openmmtools.testsystems', 'openmmtools.respa', 'openmmtools.utils', 'openmmtools.integrators', 'openmmtools.forces', 'openmmtools.states', 'openmmtools.forcefactories', 'openmmtools.alchemy', 'openmmtools.cache', 'openmmtools.mcmc', 'yaml.error', 'yaml.tokens', 'yaml.events', 'yaml.nodes', 'yaml.reader', 'yaml.scanner', 'yaml.parser', 'yaml.composer', 'yaml.constructor', 'yaml.resolver', 'yaml.loader', 'yaml.emitter', 'yaml.serializer', 'yaml.representer', 'yaml.dumper', 'yaml._yaml', 'yaml.cyaml', 'yaml', 'netCDF4.utils', 'cftime._cftime', 'cftime', 'netCDF4._netCDF4', 'netCDF4', 'openmmtools.storage.iodrivers', 'openmmtools.storage.storageinterface', 'openmmtools.storage', 'mpiplus.mpiplus', 'mpiplus._version', 'mpiplus', 'numexpr.__config__', 'numexpr.interpreter', 'numexpr.expressions', 'numexpr.utils', 'numexpr.necompiler', 'numexpr.version', 'numexpr', 'pymbar.utils', 'pymbar.timeseries', 'pymbar.testsystems.harmonic_oscillators', 'pymbar.testsystems.exponential_distributions', 'pymbar.testsystems.timeseries', 'pymbar.testsystems.gaussian_work', 'pymbar.testsystems', 'scipy.ndimage._ni_support', 'scipy.ndimage._nd_image', 'scipy._lib.doccer', 'scipy.ndimage._ni_docstrings', 'scipy.ndimage.filters', 'scipy.ndimage.fourier', 'scipy.ndimage.interpolation', '_ni_label', 'scipy.ndimage._ni_label', 'scipy.ndimage.morphology', 'scipy.ndimage.measurements', 'scipy.ndimage', 'scipy.stats._distr_params', 'scipy.misc.doccer', 'scipy.misc.common', 'scipy.misc', 'scipy.stats._constants', 'scipy.stats._distn_infrastructure', 'scipy.interpolate._fitpack', 'scipy.interpolate.dfitpack', 'scipy.interpolate._fitpack_impl', 'scipy.interpolate._bspl', 'scipy.interpolate._bsplines', 'scipy.interpolate.fitpack', 'scipy.interpolate.polyint', 'scipy.interpolate._ppoly', 'scipy.interpolate.fitpack2', 'scipy.interpolate.interpnd', 'scipy.interpolate.interpolate', 'scipy.interpolate.rbf', 'scipy.interpolate._cubic', 'scipy.interpolate.ndgriddata', 'scipy.interpolate._pade', 'scipy.interpolate', 'scipy.special.cython_special', 'scipy.stats._stats', 'scipy.stats._rvs_sampling', 'scipy.stats._tukeylambda_stats', 'scipy.stats._ksstats', 'scipy.stats._continuous_distns', 'scipy.stats._discrete_distns', 'scipy.stats.distributions', 'scipy._lib._bunch', 'scipy.stats._stats_mstats_common', 'scipy.stats.mstats_basic', 'scipy.stats._wilcoxon_data', 'scipy.stats._hypotests', 'scipy.stats.stats', 'scipy.stats.statlib', 'scipy.stats.contingency', 'scipy.stats.morestats', 'scipy.stats._binned_statistic', 'scipy.stats.mvn', 'scipy.stats.kde', 'scipy.stats.mstats_extras', 'scipy.stats.mstats', 'scipy.stats._multivariate', 'scipy.stats', 'pymbar.confidenceintervals', 'pymbar.version', 'pymbar.mbar_solvers', 'pymbar.mbar', 'pymbar.exp', 'pymbar.bar', 'pymbar.old_mbar', 'pymbar', 'openmmtools.multistate.utils', 'openmmtools.multistate.multistatesampler', 'openmmtools.multistate.multistatereporter', 'numba._version', 'numba.misc', 'numba.misc.init_utils', 'numba.core', 'multiprocessing.process', 'multiprocessing.reduction', 'multiprocessing.context', '__mp_main__', 'multiprocessing', 'llvmlite._version', 'llvmlite', 'llvmlite.binding.common', 'llvmlite.utils', 'llvmlite.binding.ffi', 'llvmlite.binding.dylib', 'llvmlite.binding.targets', 'llvmlite.binding.object_file', 'llvmlite.binding.executionengine', 'llvmlite.binding.initfini', 'llvmlite.binding.linker', 'llvmlite.binding.value', 'llvmlite.binding.context', 'llvmlite.binding.module', 'llvmlite.binding.options', 'llvmlite.binding.passmanagers', 'llvmlite.binding.transforms', 'llvmlite.ir._utils', 'llvmlite.ir.types', 'llvmlite.ir.values', 'llvmlite.ir.context', 'llvmlite.ir.module', 'llvmlite.ir.instructions', 'llvmlite.ir.builder', 'llvmlite.ir.transforms', 'llvmlite.ir', 'llvmlite.binding.analysis', 'llvmlite.binding', 'numba.core.config', 'numba.testing.loader', 'numba.testing.main', 'numba.testing', 'numba.testing._runtests', 'numba.core.utils', 'numba.core.types.abstract', 'numba.core.types.common', 'numba.core.typeconv.castgraph', 'numba.core.typeconv', 'numba.core.errors', 'numba.core.types.misc', 'numba.core.types.containers', 'numba.core.types.functions', 'numba.core.types.iterators', 'numba.core.types.npytypes', 'numba.np', 'numba.np.npdatetime_helpers', 'numba.core.types.scalars', 'numba.core.types.function_type', 'numba.core.types', 'numba.core.typeconv._typeconv', 'numba.core.typeconv.typeconv', 'numba.core.typeconv.rules', 'numba.core.cpu_options', 'numba.core.typing.templates', 'numba.core.datamodel.manager', 'numba.core.datamodel.packer', 'numba.core.datamodel.registry', 'numba.core.datamodel.models', 'numba.core.datamodel', 'numba.core.cgutils', 'numba.np.numpy_support', 'numba.core.typing.typeof', 'numba.core.typing.context', 'numba.core.typing', 'numba.core.typing.asnumbatype', 'numba.misc.special', 'numba.stencils', 'numba.core.consts', 'numba.core.ir', 'numba.core.imputils', 'llvmlite.llvmpy', 'llvmlite.llvmpy.core', 'numba._helperlib', 'numba.core.debuginfo', 'numba.core.itanium_mangler', 'numba.core.funcdesc', 'numba.core.generators', 'numba.core.removerefctpass', 'numba._dynfunc', 'numba.core.serialize', 'numba.core.environment', 'numba.core.lowering', 'numba.core.pythonapi', 'numba.core.extending', 'numba.core.controlflow', 'numba.core.analysis', 'numba.core.transforms', 'numba.core.postproc', 'numba.core.rewrites.registry', 'numba.core.rewrites.static_getitem', 'numba.core.rewrites.static_raise', 'numba.core.rewrites.static_binop', 'numba.core.rewrites.ir_print', 'numba.core.rewrites', 'numba.core.ir_utils', 'numba.core.descriptors', 'numba._devicearray', 'numba._dispatcher', 'numba.core.tracing', 'numba.core.dataflow', 'numba.core.byteflow', 'numba.core.unsafe', 'numba.core.unsafe.eh', 'numba.cpython', 'numba.cpython.unsafe', 'numba.cpython.unsafe.tuple', 'numba.core.interpreter', 'numba.core.bytecode', 'numba.core.event', 'numba.core.compiler_lock', 'numba.misc.quicksort', 'numba.misc.mergesort', 'numba.cpython.slicing', 'numba.np.arrayobj', 'numba.core.typeinfer', 'numba.stencils.stencilparfor', 'numba.core.typing.npydecl', 'numba.np.unsafe', 'numba.np.unsafe.ndarray', 'numba.parfors.array_analysis', 'numba.parfors.parfor', 'numba.core.sigutils', 'numba.parfors.parfor_lowering_utils', 'numba.parfors.parfor_lowering', 'numba.parfors', 'numba.core.typing.builtins', 'numba.extending', 'numba.cpython.builtins', 'numba.core.base', 'numba.core.callconv', 'numba.core.callwrapper', 'llvmlite.llvmpy.passes', 'numba.core.runtime.nrtdynmod', 'numba.core.runtime._nrt_python', 'numba.core.runtime.nrt', 'numba.core.runtime', 'numba.core.runtime.nrtopt', 'numba.misc.inspection', 'numba.misc.llvm_pass_timings', 'numba.core.codegen', 'numba.core.intrinsics', 'numba.core.externals', 'numba.core.fastmathpass', 'numba.core.options', 'numba.core.entrypoints', 'numba.cpython.setobj', 'numba.cpython.listobj', 'numba.core.cpu', 'numba.cpython.rangeobj', 'numba.core.inline_closurecall', 'numba.core.compiler_machinery', 'numba.core.ssa', 'numba.core.untyped_passes', 'numba.core.annotations', 'numba.core.annotations.type_annotations', 'numba.core.typed_passes', 'numba.core.pylowering', 'numba.core.object_mode_passes', 'numba.core.compiler', 'numba.misc.appdirs', 'numba.core.caching', 'numba.core.dispatcher', 'numba.core.registry', 'numba.stencils.stencil', 'numba.core.decorators', 'numba.np.ufunc._internal', 'numba.np.ufunc.wrappers', 'numba.np.ufunc.sigparse', 'numba.np.ufunc.ufuncbuilder', 'numba.np.ufunc.parallel', 'numba.np.ufunc.dufunc', 'numba.np.ufunc.gufunc', 'numba.np.ufunc.decorators', 'numba.np.ufunc.array_exprs', 'numba.np.ufunc', 'numba.experimental.jitclass._box', 'numba.experimental.jitclass.base', 'numba.experimental.jitclass.decorators', 'numba.experimental.jitclass.boxing', 'numba.experimental.jitclass', 'numba.experimental', 'numba.core.withcontexts', 'numba.typed.typedobjectutils', 'numba.core.unsafe.bytes', 'numba.cpython.hashing', 'numba.cpython.unicode_support', 'numba.cpython.unicode', 'numba.typed.dictobject', 'numba.core.boxing', 'numba.cpython.charseq', 'numba.typed.dictimpl', 'numba.core.typing.ctypes_utils', 'numba.core.ccallback', 'numba.experimental.function_type', 'numba.typed.typeddict', 'numba.typed.listobject', 'numba.typed.typedlist', 'numba.typed', 'numba', 'openmmtools.multistate.multistateanalyzer', 'openmmtools.multistate.replicaexchange', 'openmmtools.multistate.paralleltempering', 'openmmtools.multistate.sams', 'openmmtools.multistate', 'openmmtools._version', 'openmmtools', 'perses.annihilation.lambda_protocol', 'perses.dispersed', 'tqdm._monitor', 'tqdm._tqdm_pandas', 'tqdm.utils', 'tqdm.std', 'tqdm._dist_ver', 'tqdm.version', 'tqdm.cli', 'tqdm.gui', 'tqdm', 'dask.config', 'dask.utils_test', 'dask.core', 'dask.utils', 'dask.datasets', 'dask.callbacks', 'dask.order', 'dask.local', 'dataclasses', 'toolz.utils', 'toolz.itertoolz', 'toolz._signatures', 'toolz.functoolz', 'toolz.dicttoolz', 'toolz.recipes', 'toolz.curried.operator', 'toolz.curried.exceptions', 'toolz.curried', 'toolz.sandbox.core', 'toolz.sandbox.parallel', 'toolz.sandbox', 'toolz._version', 'toolz', 'cytoolz.utils', 'cytoolz.itertoolz', 'cytoolz._signatures', 'cytoolz.functoolz', 'cytoolz.dicttoolz', 'cytoolz.recipes', 'cytoolz.curried.operator', 'cytoolz.curried.exceptions', 'cytoolz.curried', 'cytoolz._version', 'cytoolz', 'tlz.utils', 'tlz.itertoolz', 'tlz._signatures', 'tlz.functoolz', 'tlz.dicttoolz', 'tlz.recipes', 'tlz._version', 'tlz._build_tlz', 'tlz', 'multiprocessing.util', '_multiprocessing', 'multiprocessing.connection', 'multiprocessing.pool', 'concurrent.futures.thread', 'psutil._common', 'psutil._compat', 'psutil._psposix', 'psutil._psutil_linux', 'psutil._psutil_posix', 'psutil._pslinux', 'psutil', 'dask.system', 'dask.threaded', 'dask.context', 'dask.hashing', 'multiprocessing.queues', 'concurrent.futures.process', 'cloudpickle.compat', 'typing_extensions', 'cloudpickle.cloudpickle', 'cloudpickle.cloudpickle_fast', 'cloudpickle', 'dask.optimization', 'tblib.cpython', 'tblib', 'tblib.pickling_support', 'dask.multiprocessing', 'dask.base', 'dask.highlevelgraph', 'dask.delayed', 'dask._version', 'dask', 'socketserver', 'logging.config', 'distributed.compatibility', 'distributed.config', 'distributed._version', 'dask.compatibility', 'distributed.versions', 'distributed.metrics', 'click._compat', 'click.globals', 'click.utils', 'click.exceptions', 'click.types', 'click._unicodefun', 'click.parser', 'click.formatting', 'click.termui', 'click.core', 'click.decorators', 'click', 'multiprocessing.popen_fork', 'multiprocessing.spawn', 'multiprocessing.popen_spawn_posix', 'msgpack._version', 'msgpack.exceptions', 'msgpack.ext', 'msgpack._cmsgpack', 'msgpack', '_posixshmem', 'multiprocessing.resource_tracker', 'multiprocessing.forkserver', 'distributed.utils', 'distributed.profile', 'distributed.protocol.compression', 'distributed.protocol.pickle', 'distributed.protocol.utils', 'distributed.protocol.serialize', 'distributed.protocol.core', 'distributed.protocol.cuda', 'distributed.protocol', 'distributed.comm.registry', 'distributed.comm.addressing', 'distributed.comm.core', 'dask.sizeof', 'distributed.comm.utils', 'distributed.comm.inproc', 'stringprep', 'encodings.idna', 'tornado.netutil', 'tornado.iostream', 'tornado.tcpclient', 'tornado.process', 'tornado.tcpserver', 'distributed.system', 'distributed._concurrent_futures_thread', 'distributed.threadpoolexecutor', 'distributed.comm.tcp', 'http.cookies', 'tornado.httputil', 'tornado.http1connection', 'tornado.httpserver', '_csv', 'csv', 'tornado._locale_data', 'tornado.locale', 'tornado.template', 'tornado.routing', 'tornado.web', 'tornado.httpclient', 'tornado.simple_httpclient', 'tornado.websocket', 'distributed.comm.ws', 'distributed.comm.ucx', 'distributed.comm', 'distributed.diagnostics.plugin', 'distributed.diagnostics.graph_layout', 'distributed.diagnostics', 'distributed.diagnostics.nvml', 'distributed.system_monitor', 'distributed.core', 'distributed.batched', 'distributed.cfexecutor', 'distributed.objects', 'distributed.publish', 'distributed.pubsub', 'distributed.security', 'distributed.sizeof', 'distributed.utils_comm', 'distributed.preloading', 'distributed.locket', 'distributed.diskutils', 'distributed.http.utils', 'distributed.http', 'distributed.http.routing', 'distributed.node', 'distributed.proctitle', 'distributed.utils_perf', 'distributed.worker', 'distributed.client', 'distributed.actor', 'distributed.deploy.adaptive_core', 'distributed.deploy.adaptive', 'distributed.deploy.cluster', 'distributed.process', 'distributed.nanny', 'sortedcontainers.sortedlist', 'sortedcontainers.sortedset', 'sortedcontainers.sorteddict', 'sortedcontainers', 'distributed.event', 'distributed.lock', 'distributed.multi_lock', 'distributed.queues', 'distributed.recreate_exceptions', 'distributed.semaphore', 'distributed.stealing', 'distributed.variable', 'cython.parallel', 'Cython.Shadow', 'Cython', 'cython', 'distributed.scheduler', 'distributed.deploy.spec', 'distributed.deploy.utils', 'distributed.deploy.local', 'distributed.deploy.ssh', 'distributed.deploy', 'distributed.diagnostics.progress', 'distributed.diagnostics.progressbar', 'distributed.worker_client', 'distributed', 'dask.distributed', 'perses.dispersed.utils', 'perses.dispersed.feptasks', 'perses.app', 'perses.utils.data', 'perses.utils.openeye', 'perses.utils', 'networkx.release', 'networkx.exception', 'networkx.utils.misc', 'networkx.utils.decorators', 'networkx.utils.random_sequence', 'networkx.utils.union_find', 'networkx.utils.rcm', 'networkx.utils.heaps', 'networkx.utils.contextmanagers', 'networkx.utils', 'networkx.classes.coreviews', 'networkx.classes.reportviews', 'networkx.convert', 'networkx.classes.graph', 'networkx.classes.digraph', 'networkx.classes.multigraph', 'networkx.classes.multidigraph', 'networkx.classes.ordered', 'networkx.classes.filters', 'networkx.classes.graphviews', 'networkx.classes.function', 'networkx.classes', 'networkx.convert_matrix', 'networkx.relabel', 'networkx.generators.atlas', 'networkx.generators.classic', 'networkx.generators.cographs', 'networkx.generators.community', 'networkx.generators.degree_seq', 'networkx.generators.directed', 'networkx.generators.duplication', 'networkx.generators.ego', 'networkx.generators.expanders', 'networkx.generators.geometric', 'networkx.generators.internet_as_graphs', 'networkx.algorithms.assortativity.connectivity', 'networkx.algorithms.assortativity.pairs', 'networkx.algorithms.assortativity.mixing', 'networkx.algorithms.assortativity.correlation', 'networkx.algorithms.assortativity.neighbor_degree', 'networkx.algorithms.assortativity', 'networkx.algorithms.asteroidal', 'networkx.algorithms.boundary', 'networkx.algorithms.bridges', 'networkx.algorithms.chains', 'networkx.algorithms.centrality.betweenness', 'networkx.algorithms.centrality.betweenness_subset', 'networkx.algorithms.centrality.closeness', 'networkx.algorithms.centrality.subgraph_alg', 'networkx.algorithms.centrality.flow_matrix', 'networkx.algorithms.centrality.current_flow_closeness', 'networkx.algorithms.centrality.current_flow_betweenness', 'networkx.algorithms.centrality.current_flow_betweenness_subset', 'networkx.algorithms.centrality.degree_alg', 'networkx.algorithms.centrality.dispersion', 'networkx.algorithms.centrality.eigenvector', 'networkx.algorithms.centrality.group', 'networkx.algorithms.centrality.harmonic', 'networkx.algorithms.centrality.katz', 'networkx.algorithms.centrality.load', 'networkx.algorithms.centrality.reaching', 'networkx.algorithms.centrality.percolation', 'networkx.algorithms.centrality.second_order', 'networkx.algorithms.centrality.trophic', 'networkx.algorithms.centrality.voterank_alg', 'networkx.algorithms.centrality', 'networkx.algorithms.components.connected', 'networkx.algorithms.components.strongly_connected', 'networkx.algorithms.components.weakly_connected', 'networkx.algorithms.components.attracting', 'networkx.algorithms.components.biconnected', 'networkx.algorithms.components.semiconnected', 'networkx.algorithms.components', 'networkx.algorithms.chordal', 'networkx.algorithms.cluster', 'networkx.algorithms.clique', 'networkx.algorithms.communicability_alg', 'networkx.algorithms.coloring.greedy_coloring_with_interchange', 'networkx.algorithms.coloring.greedy_coloring', 'networkx.algorithms.coloring.equitable_coloring', 'networkx.algorithms.coloring', 'networkx.algorithms.core', 'networkx.algorithms.covering', 'networkx.algorithms.cycles', 'networkx.algorithms.cuts', 'networkx.algorithms.d_separation', 'networkx.algorithms.traversal.breadth_first_search', 'networkx.algorithms.traversal.beamsearch', 'networkx.algorithms.traversal.depth_first_search', 'networkx.algorithms.traversal.edgedfs', 'networkx.algorithms.traversal.edgebfs', 'networkx.algorithms.traversal', 'networkx.generators.trees', 'networkx.algorithms.dag', 'networkx.algorithms.distance_measures', 'networkx.algorithms.distance_regular', 'networkx.algorithms.dominance', 'networkx.algorithms.dominating', 'networkx.algorithms.efficiency_measures', 'networkx.algorithms.euler', 'networkx.algorithms.graphical', 'networkx.algorithms.hierarchy', 'networkx.algorithms.hybrid', 'networkx.algorithms.link_analysis.pagerank_alg', 'networkx.algorithms.link_analysis.hits_alg', 'networkx.algorithms.link_analysis', 'networkx.algorithms.link_prediction', 'networkx.algorithms.lowest_common_ancestors', 'networkx.algorithms.isolate', 'networkx.algorithms.matching', 'networkx.algorithms.minors', 'networkx.algorithms.mis', 'networkx.algorithms.moral', 'networkx.algorithms.non_randomness', 'networkx.algorithms.operators.all', 'networkx.algorithms.operators.binary', 'networkx.algorithms.operators.product', 'networkx.algorithms.operators.unary', 'networkx.algorithms.operators', 'networkx.algorithms.planarity', 'networkx.algorithms.planar_drawing', 'networkx.algorithms.reciprocity', 'networkx.algorithms.regular', 'networkx.algorithms.richclub', 'networkx.algorithms.shortest_paths.generic', 'networkx.algorithms.shortest_paths.unweighted', 'networkx.algorithms.shortest_paths.weighted', 'networkx.algorithms.shortest_paths.astar', 'networkx.algorithms.shortest_paths.dense', 'networkx.algorithms.shortest_paths', 'networkx.algorithms.similarity', 'networkx.algorithms.graph_hashing', 'networkx.algorithms.simple_paths', 'networkx.algorithms.smallworld', 'networkx.algorithms.smetric', 'networkx.algorithms.structuralholes', 'networkx.algorithms.sparsifiers', 'networkx.algorithms.swap', 'networkx.algorithms.triads', 'networkx.algorithms.vitality', 'networkx.algorithms.voronoi', 'networkx.algorithms.wiener', 'networkx.algorithms.bipartite.basic', 'networkx.algorithms.bipartite.centrality', 'networkx.algorithms.bipartite.cluster', 'networkx.algorithms.bipartite.matrix', 'networkx.algorithms.bipartite.matching', 'networkx.algorithms.bipartite.covering', 'networkx.algorithms.bipartite.edgelist', 'networkx.algorithms.bipartite.projection', 'networkx.algorithms.bipartite.redundancy', 'networkx.algorithms.bipartite.spectral', 'networkx.algorithms.bipartite.generators', 'networkx.algorithms.bipartite', 'networkx.algorithms.node_classification.utils', 'networkx.algorithms.node_classification.hmn', 'networkx.algorithms.node_classification.lgc', 'networkx.algorithms.node_classification', 'networkx.algorithms.flow.utils', 'networkx.algorithms.flow.boykovkolmogorov', 'networkx.algorithms.flow.dinitz_alg', 'networkx.algorithms.flow.edmondskarp', 'networkx.algorithms.flow.preflowpush', 'networkx.algorithms.flow.shortestaugmentingpath', 'networkx.algorithms.flow.maxflow', 'networkx.algorithms.flow.mincost', 'networkx.algorithms.flow.gomory_hu', 'networkx.algorithms.flow.capacityscaling', 'networkx.algorithms.flow.networksimplex', 'networkx.algorithms.flow', 'networkx.algorithms.connectivity.utils', 'networkx.algorithms.connectivity.connectivity', 'networkx.algorithms.connectivity.cuts', 'networkx.algorithms.connectivity.edge_augmentation', 'networkx.algorithms.connectivity.edge_kcomponents', 'networkx.algorithms.connectivity.disjoint_paths', 'networkx.algorithms.connectivity.kcomponents', 'networkx.algorithms.connectivity.kcutsets', 'networkx.algorithms.connectivity.stoerwagner', 'networkx.algorithms.connectivity', 'networkx.algorithms.community.asyn_fluid', 'networkx.algorithms.community.centrality', 'networkx.algorithms.community.kclique', 'networkx.algorithms.community.community_utils', 'networkx.algorithms.community.kernighan_lin', 'networkx.algorithms.community.label_propagation', 'networkx.algorithms.community.lukes', 'networkx.algorithms.community.quality', 'networkx.utils.mapped_queue', 'networkx.algorithms.community.modularity_max', 'networkx.algorithms.community', 'networkx.algorithms.isomorphism.isomorph', 'networkx.algorithms.isomorphism.isomorphvf2', 'networkx.algorithms.isomorphism.vf2userfunc', 'networkx.algorithms.isomorphism.matchhelpers', 'networkx.algorithms.isomorphism.temporalisomorphvf2', 'networkx.algorithms.isomorphism.ismags', 'networkx.algorithms.isomorphism.tree_isomorphism', 'networkx.algorithms.isomorphism', 'networkx.algorithms.tournament', 'networkx.algorithms.tree.recognition', 'networkx.algorithms.tree.branchings', 'networkx.algorithms.tree.coding', 'networkx.algorithms.tree.mst', 'networkx.algorithms.tree.operations', 'networkx.algorithms.tree.decomposition', 'networkx.algorithms.tree', 'networkx.algorithms', 'networkx.generators.intersection', 'networkx.generators.interval_graph', 'networkx.generators.joint_degree_seq', 'networkx.generators.lattice', 'networkx.generators.line', 'networkx.generators.mycielski', 'networkx.generators.nonisomorphic_trees', 'networkx.generators.random_clustered', 'networkx.generators.random_graphs', 'networkx.generators.small', 'networkx.generators.social', 'networkx.generators.sudoku', 'networkx.generators.spectral_graph_forge', 'networkx.generators.stochastic', 'networkx.generators.triads', 'networkx.generators', 'networkx.readwrite.adjlist', 'networkx.readwrite.multiline_adjlist', 'networkx.readwrite.edgelist', 'networkx.readwrite.gpickle', 'networkx.readwrite.pajek', 'networkx.readwrite.leda', 'networkx.readwrite.graph6', 'networkx.readwrite.sparse6', 'networkx.readwrite.nx_yaml', 'networkx.readwrite.gml', 'lxml', '_cython_0_29_22', 'lxml._elementpath', 'lxml.etree', 'networkx.readwrite.graphml', 'networkx.readwrite.gexf', 'networkx.readwrite.nx_shp', 'networkx.readwrite.json_graph.node_link', 'networkx.readwrite.json_graph.adjacency', 'networkx.readwrite.json_graph.tree', 'networkx.readwrite.json_graph.jit', 'networkx.readwrite.json_graph.cytoscape', 'networkx.readwrite.json_graph', 'networkx.readwrite', 'networkx.linalg.attrmatrix', 'networkx.linalg.spectrum', 'networkx.linalg.graphmatrix', 'networkx.linalg.laplacianmatrix', 'networkx.linalg.algebraicconnectivity', 'networkx.linalg.modularitymatrix', 'networkx.linalg.bethehessianmatrix', 'networkx.linalg', 'networkx.testing.utils', 'networkx.testing.test', 'networkx.testing', 'networkx.drawing.layout', 'networkx.drawing.nx_pylab', 'networkx.drawing.nx_agraph', 'networkx.drawing.nx_pydot', 'networkx.drawing', 'networkx', 'perses.storage.storage', 'perses.storage', 'perses.rjmc.geometry', 'numba.cpython.tupleobj', 'numba.cpython.enumimpl', 'numba.cpython.heapq', 'numba.cpython.iterators', 'numba.core.optional', 'numba.cpython.unsafe.numbers', 'numba.cpython.numbers', 'numba.misc.gdb_hook', 'numba.misc.literal', 'numba.np.linalg', 'numba.np.polynomial', 'numba.np.arraymath', 'cmath', 'numba.cpython.mathimpl', 'numba.cpython.cmathimpl', 'numba.np.npyfuncs', 'numba.np.npdatetime', 'numba.np.ufunc_db', 'numba.np.npyimpl', 'numba.cpython.printimpl', 'numba.cpython.randomimpl', 'numba.misc.cffiimpl', 'cffi.lock', 'cffi.error', 'cffi.model', 'cffi.api', 'cffi', '_cffi_backend', 'cffi.commontypes', 'pycparser.ply', 'pycparser.ply.yacc', 'pycparser.c_ast', 'pycparser.ply.lex', 'pycparser.c_lexer', 'pycparser.plyparser', 'pycparser.ast_transforms', 'pycparser.c_parser', 'pycparser', 'cffi.cparser', 'numba.core.typing.cffi_utils', 'numba.core.typing.cmathdecl', 'numba.core.typing.enumdecl', 'numba.core.typing.collections', 'numba.core.typing.listdecl', 'numba.core.typing.mathdecl', 'numba.core.typing.randomdecl', 'numba.core.typing.setdecl', 'numba.core.typing.dictdecl', 'numba.core.typing.arraydecl', 'numba.core.typing.npdatetime', 'numba.core.typing.bufproto', 'perses.rjmc.coordinate_numba', 'perses.rjmc.coordinate_tools', 'openmoltools.amber_parser', 'openmoltools.system_checker', 'openmoltools.utils', 'openmoltools.packmol', 'openmoltools.amber', 'openmoltools.openeye', 'six.moves.urllib', 'openmoltools.cirpy', 'parmed._version', 'parmed.exceptions', 'parmed.periodic_table', 'parmed.residue', 'parmed.unit', 'parmed.utils.pairlist', 'parmed.utils', 'parmed.constants', 'parmed.vec3', 'parmed.geometry', 'parmed.utils.six', 'parmed.utils.decorators', 'parmed.utils.six.moves', 'parmed.topologyobjects', 'parmed.structure', 'parmed.utils.six.moves.urllib', 'parmed.utils.six.moves.urllib.request', 'parmed.utils.six.moves.urllib.error', 'parmed.utils.io', 'parmed.formats.registry', 'parmed.modeller.residue', 'parmed.amber.offlib', 'parmed.modeller.standardtemplates', 'parmed.modeller', 'parmed.formats.mol2', 'ftplib', 'parmed.formats.pdbx.PdbxContainers', 'parmed.formats.pdbx.PdbxReader', 'parmed.formats.pdbx.PdbxWriter', 'parmed.formats.pdbx', 'parmed.symmetry', 'parmed.formats.pdb', 'parmed.formats.pqr', 'parmed.charmm.psf', 'parmed.parameters', 'parmed.charmm._charmmfile', 'parmed.charmm.parameters', 'parmed.charmm.charmmcrds', 'parmed.charmm', 'parmed.formats.psf', 'parmed.rdkit.rdkit', 'parmed.rdkit', 'parmed.formats.sdf', 'parmed.formats', 'parmed.utils.fortranformat._exceptions', 'parmed.utils.fortranformat._edit_descriptors', 'parmed.utils.fortranformat._misc', 'parmed.utils.fortranformat.config', 'parmed.utils.fortranformat._input', 'parmed.utils.fortranformat._lexer', 'parmed.utils.fortranformat._parser', 'parmed.utils.fortranformat.FortranRecordReader', 'parmed.utils.fortranformat._output', 'parmed.utils.fortranformat.FortranRecordWriter', 'parmed.utils.fortranformat', 'parmed.amber.amberformat', 'parmed.amber.asciicrd', 'parmed.amber.mask', 'mmap', 'parmed.utils.netcdf', 'parmed.amber.netcdffiles', 'parmed.amber.parameters', 'parmed.amber._amberparm', 'parmed.amber._chamberparm', 'parmed.amber._tinkerparm', 'parmed.amber.readparm', 'parmed.amber.titratable_residues', 'parmed.amber', 'parmed.gromacs._cpp', 'parmed.gromacs._gromacsfile', 'parmed.gromacs.gromacstop', 'parmed.gromacs.gromacsgro', 'parmed.gromacs', 'parmed.namd.namdbinfiles', 'parmed.namd', 'parmed.openmm.reporters', 'parmed.openmm.parameters', 'parmed.openmm.topsystem', 'parmed.openmm.utils', 'parmed.openmm.xmlfile', 'parmed.openmm', 'parmed.rosetta.pose', 'parmed.rosetta', 'parmed.tinker.tinkerfiles', 'parmed.tinker', 'parmed.tools.exceptions', 'parmed.tools.argumentlist', 'parmed.tools.parmlist', 'parmed.tools.actions', 'parmed.tools', 'parmed', 'openmoltools.gromacs', 'openmoltools.schrodinger', 'openmoltools', 'openmoltools.forcefield_generators', 'perses.rjmc.topology_proposal', 'perses.rjmc', 'perses.tests', 'perses.tests.utils', 'openff', 'openff.toolkit._version', 'openff.toolkit', 'openff.toolkit.utils.utils', '_oequacpac2112', 'openeye.oequacpac', '_oeiupac2722', 'openeye.oeiupac', '_oeomega4102', 'openeye.oeomega', 'rdkit.rdBase', 'rdkit.RDPaths', 'rdkit.RDConfig', 'rdkit.DataStructs.cDataStructs', 'rdkit.DataStructs', 'rdkit.Geometry.rdGeometry', 'rdkit.Geometry', 'rdkit.Chem.rdchem', 'rdkit.Chem.rdmolfiles', 'rdkit.Chem.rdmolops', 'rdkit.Chem.rdCIPLabeler', 'rdkit.Chem.rdinchi', 'rdkit.RDLogger', 'rdkit.Chem.inchi', 'rdkit.Chem.rdMolInterchange', 'rdkit.Chem.rdCoordGen', 'rdkit.Chem', 'rdkit.Chem.Draw.rdMolDraw2D', 'rdkit.Chem.Draw.MolDrawing', 'rdkit.Chem.rdDepictor', 'rdkit.Chem.Draw', 'rdkit.Chem.rdChemReactions', 'PIL._version', 'PIL', 'PIL.ImageMode', 'PIL.TiffTags', 'PIL._binary', 'PIL._util', 'PIL._imaging', 'PIL.Image', 'PIL.ImageChops', 'PIL.ImageFile', 'PIL.GimpGradientFile', 'PIL.GimpPaletteFile', 'PIL.ImageColor', 'PIL.PaletteFile', 'PIL.ImagePalette', 'PIL.ImageSequence', 'PIL.PngImagePlugin', 'rdkit.Chem.Draw.IPythonConsole', 'rdkit', 'openff.toolkit.utils.toolkits', 'openff.toolkit.utils', 'openff.toolkit.utils.serialization', 'openff.toolkit.topology.molecule', 'openff.toolkit.typing', 'openff.toolkit.typing.chemistry.environment', 'openff.toolkit.typing.chemistry', 'openff.toolkit.topology.topology', 'openff.toolkit.topology', 'openmmforcefields.utils', 'openmmforcefields._version', 'openmmforcefields', 'openmmforcefields.generators.template_generators', 'openmmforcefields.generators.system_generators', 'openmmforcefields.generators', 'perses.app.relative_point_mutation_setup', 'optparse', 'configparser', 'nose.pyversion', 'nose.util', 'nose.plugins.base', 'nose.failure', 'nose.plugins.manager', 'nose.plugins.plugintest', 'nose.plugins', 'nose.config', 'nose.case', 'nose.importer', 'nose.selector', 'nose.proxy', 'nose.suite', 'nose.loader', 'nose.result', 'nose.core', 'nose.plugins.errorclass', 'nose.plugins.skip', 'nose.plugins.deprecated', 'nose.exc', 'nose.tools.nontrivial', 'nose.tools.trivial', 'nose.tools', 'nose', 'nose.plugins.attrib', 'perses.utils.smallmolecules', 'perses.tests.test_topology_proposal', 'scipy.io.matlab.byteordercodes', 'scipy.io.matlab.miobase', 'scipy.io.matlab.mio_utils', 'scipy.io.matlab.mio4', 'scipy.io.matlab.streams', 'scipy.io.matlab.mio5_params', 'scipy.io.matlab.mio5_utils', 'scipy.io.matlab.mio5', 'scipy.io.matlab.mio', 'scipy.io.matlab', 'scipy.io.netcdf', 'scipy.io._fortran', 'scipy.io.mmio', 'scipy.io.idl', 'scipy.io.harwell_boeing._fortran_format_parser', 'scipy.io.harwell_boeing.hb', 'scipy.io.harwell_boeing', 'scipy.io', 'ipywidgets._version', 'ipywidgets.widgets.widget', 'ipywidgets.widgets.util', 'ipywidgets.widgets.trait_types', 'ipywidgets.widgets.widget_layout', 'ipywidgets.widgets.widget_style', 'ipywidgets.widgets.domwidget', 'ipywidgets.widgets.valuewidget', 'ipywidgets.widgets.widget_core', 'ipywidgets.widgets.widget_description', 'ipywidgets.widgets.widget_bool', 'ipywidgets.widgets.widget_button', 'ipywidgets.widgets.docutils', 'ipywidgets.widgets.widget_box', 'ipywidgets.widgets.widget_int', 'ipywidgets.widgets.widget_float', 'ipywidgets.widgets.widget_color', 'ipywidgets.widgets.widget_date', 'ipywidgets.widgets.widget_output', 'ipywidgets.widgets.widget_selection', 'ipywidgets.widgets.widget_selectioncontainer', 'ipywidgets.widgets.widget_string', 'ipywidgets.widgets.widget_controller', 'ipywidgets.widgets.interaction', 'ipywidgets.widgets.widget_link', 'ipywidgets.widgets.widget_media', 'ipywidgets.widgets.widget_templates', 'ipywidgets.widgets.widget_upload', 'ipywidgets.widgets', 'ipywidgets', 'tqdm.notebook', 'multiprocessing.synchronize', 'matplotlib', 'matplotlib._api.deprecation', 'matplotlib._api', 'matplotlib._c_internal_utils', 'matplotlib.cbook', 'matplotlib.docstring', 'matplotlib._animation_data', 'matplotlib.animation', 'matplotlib._path', 'matplotlib.bezier', 'matplotlib.path', 'matplotlib.transforms', 'matplotlib.ticker', 'matplotlib.scale', 'matplotlib._color_data', 'matplotlib.colors', 'matplotlib.fontconfig_pattern', 'matplotlib._enums', 'cycler', 'matplotlib.rcsetup', 'matplotlib._version', 'matplotlib.ft2font', 'kiwisolver', 'dateutil.rrule', 'matplotlib.units', 'matplotlib.dates']\n"
     ]
    },
    {
     "name": "stderr",
     "output_type": "stream",
     "text": [
      "DEBUG:matplotlib:CACHEDIR=/home/zhangi/.cache/matplotlib\n",
      "DEBUG:matplotlib.font_manager:Using fontManager instance from /home/zhangi/.cache/matplotlib/fontlist-v330.json\n",
      "DEBUG:matplotlib.pyplot:Loaded backend module://ipykernel.pylab.backend_inline version unknown.\n",
      "DEBUG:matplotlib.pyplot:Loaded backend module://ipykernel.pylab.backend_inline version unknown.\n"
     ]
    }
   ],
   "source": [
    "import matplotlib.pyplot as plt"
   ]
  },
  {
   "cell_type": "code",
   "execution_count": 31,
   "id": "e92d9dfd",
   "metadata": {},
   "outputs": [
    {
     "data": {
      "text/plain": [
       "[<matplotlib.lines.Line2D at 0x2af9e1a40670>]"
      ]
     },
     "execution_count": 31,
     "metadata": {},
     "output_type": "execute_result"
    },
    {
     "name": "stderr",
     "output_type": "stream",
     "text": [
      "DEBUG:matplotlib.font_manager:findfont: Matching sans\\-serif:style=normal:variant=normal:weight=normal:stretch=normal:size=10.0.\n",
      "DEBUG:matplotlib.font_manager:findfont: score(<Font 'cmb10' (cmb10.ttf) normal normal 400 normal>) = 10.05\n",
      "DEBUG:matplotlib.font_manager:findfont: score(<Font 'DejaVu Sans Mono' (DejaVuSansMono-Oblique.ttf) oblique normal 400 normal>) = 11.05\n",
      "DEBUG:matplotlib.font_manager:findfont: score(<Font 'STIXGeneral' (STIXGeneral.ttf) normal normal 400 normal>) = 10.05\n",
      "DEBUG:matplotlib.font_manager:findfont: score(<Font 'cmtt10' (cmtt10.ttf) normal normal 400 normal>) = 10.05\n",
      "DEBUG:matplotlib.font_manager:findfont: score(<Font 'DejaVu Sans Display' (DejaVuSansDisplay.ttf) normal normal 400 normal>) = 10.05\n",
      "DEBUG:matplotlib.font_manager:findfont: score(<Font 'STIXSizeFourSym' (STIXSizFourSymReg.ttf) normal normal 400 normal>) = 10.05\n",
      "DEBUG:matplotlib.font_manager:findfont: score(<Font 'cmss10' (cmss10.ttf) normal normal 400 normal>) = 10.05\n",
      "DEBUG:matplotlib.font_manager:findfont: score(<Font 'cmsy10' (cmsy10.ttf) normal normal 400 normal>) = 10.05\n",
      "DEBUG:matplotlib.font_manager:findfont: score(<Font 'DejaVu Serif' (DejaVuSerif.ttf) normal normal 400 normal>) = 10.05\n",
      "DEBUG:matplotlib.font_manager:findfont: score(<Font 'STIXSizeFourSym' (STIXSizFourSymBol.ttf) normal normal 700 normal>) = 10.335\n",
      "DEBUG:matplotlib.font_manager:findfont: score(<Font 'DejaVu Serif Display' (DejaVuSerifDisplay.ttf) normal normal 400 normal>) = 10.05\n",
      "DEBUG:matplotlib.font_manager:findfont: score(<Font 'STIXSizeThreeSym' (STIXSizThreeSymReg.ttf) normal normal 400 normal>) = 10.05\n",
      "DEBUG:matplotlib.font_manager:findfont: score(<Font 'STIXGeneral' (STIXGeneralItalic.ttf) italic normal 400 normal>) = 11.05\n",
      "DEBUG:matplotlib.font_manager:findfont: score(<Font 'STIXSizeOneSym' (STIXSizOneSymReg.ttf) normal normal 400 normal>) = 10.05\n",
      "DEBUG:matplotlib.font_manager:findfont: score(<Font 'DejaVu Sans Mono' (DejaVuSansMono-BoldOblique.ttf) oblique normal 700 normal>) = 11.335\n",
      "DEBUG:matplotlib.font_manager:findfont: score(<Font 'DejaVu Sans' (DejaVuSans-Oblique.ttf) oblique normal 400 normal>) = 1.05\n",
      "DEBUG:matplotlib.font_manager:findfont: score(<Font 'DejaVu Sans' (DejaVuSans-BoldOblique.ttf) oblique normal 700 normal>) = 1.335\n",
      "DEBUG:matplotlib.font_manager:findfont: score(<Font 'DejaVu Sans Mono' (DejaVuSansMono.ttf) normal normal 400 normal>) = 10.05\n",
      "DEBUG:matplotlib.font_manager:findfont: score(<Font 'STIXSizeTwoSym' (STIXSizTwoSymReg.ttf) normal normal 400 normal>) = 10.05\n",
      "DEBUG:matplotlib.font_manager:findfont: score(<Font 'cmr10' (cmr10.ttf) normal normal 400 normal>) = 10.05\n",
      "DEBUG:matplotlib.font_manager:findfont: score(<Font 'STIXNonUnicode' (STIXNonUniIta.ttf) italic normal 400 normal>) = 11.05\n",
      "DEBUG:matplotlib.font_manager:findfont: score(<Font 'STIXGeneral' (STIXGeneralBolIta.ttf) italic normal 700 normal>) = 11.335\n",
      "DEBUG:matplotlib.font_manager:findfont: score(<Font 'DejaVu Serif' (DejaVuSerif-Bold.ttf) normal normal 700 normal>) = 10.335\n",
      "DEBUG:matplotlib.font_manager:findfont: score(<Font 'DejaVu Serif' (DejaVuSerif-Italic.ttf) italic normal 400 normal>) = 11.05\n",
      "DEBUG:matplotlib.font_manager:findfont: score(<Font 'STIXNonUnicode' (STIXNonUniBolIta.ttf) italic normal 700 normal>) = 11.335\n",
      "DEBUG:matplotlib.font_manager:findfont: score(<Font 'STIXSizeTwoSym' (STIXSizTwoSymBol.ttf) normal normal 700 normal>) = 10.335\n",
      "DEBUG:matplotlib.font_manager:findfont: score(<Font 'DejaVu Serif' (DejaVuSerif-BoldItalic.ttf) italic normal 700 normal>) = 11.335\n",
      "DEBUG:matplotlib.font_manager:findfont: score(<Font 'STIXNonUnicode' (STIXNonUni.ttf) normal normal 400 normal>) = 10.05\n",
      "DEBUG:matplotlib.font_manager:findfont: score(<Font 'DejaVu Sans' (DejaVuSans-Bold.ttf) normal normal 700 normal>) = 0.33499999999999996\n",
      "DEBUG:matplotlib.font_manager:findfont: score(<Font 'STIXSizeOneSym' (STIXSizOneSymBol.ttf) normal normal 700 normal>) = 10.335\n",
      "DEBUG:matplotlib.font_manager:findfont: score(<Font 'DejaVu Sans Mono' (DejaVuSansMono-Bold.ttf) normal normal 700 normal>) = 10.335\n",
      "DEBUG:matplotlib.font_manager:findfont: score(<Font 'STIXSizeThreeSym' (STIXSizThreeSymBol.ttf) normal normal 700 normal>) = 10.335\n",
      "DEBUG:matplotlib.font_manager:findfont: score(<Font 'cmmi10' (cmmi10.ttf) normal normal 400 normal>) = 10.05\n",
      "DEBUG:matplotlib.font_manager:findfont: score(<Font 'STIXSizeFiveSym' (STIXSizFiveSymReg.ttf) normal normal 400 normal>) = 10.05\n",
      "DEBUG:matplotlib.font_manager:findfont: score(<Font 'DejaVu Sans' (DejaVuSans.ttf) normal normal 400 normal>) = 0.05\n",
      "DEBUG:matplotlib.font_manager:findfont: score(<Font 'STIXGeneral' (STIXGeneralBol.ttf) normal normal 700 normal>) = 10.335\n",
      "DEBUG:matplotlib.font_manager:findfont: score(<Font 'cmex10' (cmex10.ttf) normal normal 400 normal>) = 10.05\n",
      "DEBUG:matplotlib.font_manager:findfont: score(<Font 'STIXNonUnicode' (STIXNonUniBol.ttf) normal normal 700 normal>) = 10.335\n",
      "DEBUG:matplotlib.font_manager:findfont: score(<Font 'DejaVu Sans Mono' (DejaVuSansMono-Oblique.ttf) oblique normal 400 normal>) = 11.05\n",
      "DEBUG:matplotlib.font_manager:findfont: score(<Font 'DejaVu Sans Mono' (DejaVuSansMono-Bold.ttf) normal normal 700 normal>) = 10.335\n",
      "DEBUG:matplotlib.font_manager:findfont: score(<Font 'DejaVu Sans' (DejaVuSans-ExtraLight.ttf) normal normal 200 normal>) = 0.24\n",
      "DEBUG:matplotlib.font_manager:findfont: score(<Font 'STIX' (STIX-BoldItalic.otf) italic normal 700 normal>) = 11.335\n",
      "DEBUG:matplotlib.font_manager:findfont: score(<Font 'DejaVu Sans Mono' (DejaVuSansMono-BoldOblique.ttf) oblique normal 700 normal>) = 11.335\n",
      "DEBUG:matplotlib.font_manager:findfont: score(<Font 'Liberation Sans' (LiberationSans-BoldItalic.ttf) italic normal 700 normal>) = 11.335\n",
      "DEBUG:matplotlib.font_manager:findfont: score(<Font 'DejaVu Sans' (DejaVuSansCondensed.ttf) normal normal 400 condensed>) = 0.25\n",
      "DEBUG:matplotlib.font_manager:findfont: score(<Font 'DejaVu Sans' (DejaVuSans-BoldOblique.ttf) oblique normal 700 normal>) = 1.335\n",
      "DEBUG:matplotlib.font_manager:findfont: score(<Font 'DejaVu Sans' (DejaVuSans.ttf) normal normal 400 normal>) = 0.05\n",
      "DEBUG:matplotlib.font_manager:findfont: score(<Font 'Liberation Sans' (LiberationSans-Regular.ttf) normal normal 400 normal>) = 10.05\n",
      "DEBUG:matplotlib.font_manager:findfont: score(<Font 'STIX' (STIX-Regular.otf) normal normal 400 normal>) = 10.05\n",
      "DEBUG:matplotlib.font_manager:findfont: score(<Font 'Liberation Sans' (LiberationSans-Bold.ttf) normal normal 700 normal>) = 10.335\n",
      "DEBUG:matplotlib.font_manager:findfont: score(<Font 'STIX' (STIX-Italic.otf) italic normal 400 normal>) = 11.05\n",
      "DEBUG:matplotlib.font_manager:findfont: score(<Font 'DejaVu Sans' (DejaVuSans-Bold.ttf) normal normal 700 normal>) = 0.33499999999999996\n",
      "DEBUG:matplotlib.font_manager:findfont: score(<Font 'DejaVu Sans' (DejaVuSansCondensed-BoldOblique.ttf) oblique normal 700 condensed>) = 1.535\n",
      "DEBUG:matplotlib.font_manager:findfont: score(<Font 'DejaVu Sans' (DejaVuSansCondensed-Bold.ttf) normal normal 700 condensed>) = 0.5349999999999999\n",
      "DEBUG:matplotlib.font_manager:findfont: score(<Font 'DejaVu Sans' (DejaVuSansCondensed-Oblique.ttf) oblique normal 400 condensed>) = 1.25\n",
      "DEBUG:matplotlib.font_manager:findfont: score(<Font 'STIX' (STIX-Bold.otf) normal normal 700 normal>) = 10.335\n",
      "DEBUG:matplotlib.font_manager:findfont: score(<Font 'DejaVu Sans Mono' (DejaVuSansMono.ttf) normal normal 400 normal>) = 10.05\n",
      "DEBUG:matplotlib.font_manager:findfont: score(<Font 'DejaVu Sans' (DejaVuSans-Oblique.ttf) oblique normal 400 normal>) = 1.05\n",
      "DEBUG:matplotlib.font_manager:findfont: score(<Font 'Liberation Sans' (LiberationSans-Italic.ttf) italic normal 400 normal>) = 11.05\n",
      "DEBUG:matplotlib.font_manager:findfont: Matching sans\\-serif:style=normal:variant=normal:weight=normal:stretch=normal:size=10.0 to DejaVu Sans ('/home/zhangi/miniconda3/envs/perses-rest2v2/lib/python3.8/site-packages/matplotlib/mpl-data/fonts/ttf/DejaVuSans.ttf') with score of 0.050000.\n"
     ]
    },
    {
     "data": {
      "image/png": "[encoded data removed]",
      "text/plain": [
       "<Figure size 432x288 with 1 Axes>"
      ]
     },
     "metadata": {
      "needs_background": "light"
     },
     "output_type": "display_data"
    }
   ],
   "source": [
    "plt.plot(energies)"
   ]
  },
  {
   "cell_type": "code",
   "execution_count": null,
   "id": "be1f00e8",
   "metadata": {},
   "outputs": [],
   "source": []
  },
  {
   "cell_type": "markdown",
   "id": "83642fab",
   "metadata": {},
   "source": [
    "## Try running vanilla MD on the 1200 K thermostate (with scaled water rest system) for ala dipeptide in solvent and see if the problem happens"
   ]
  },
  {
   "cell_type": "code",
   "execution_count": 32,
   "id": "7ab5dddb",
   "metadata": {},
   "outputs": [],
   "source": [
    "from tqdm import tqdm_notebook\n",
    "import openmmtools"
   ]
  },
  {
   "cell_type": "code",
   "execution_count": 33,
   "id": "edec3486",
   "metadata": {},
   "outputs": [],
   "source": [
    "import pickle\n",
    "import os\n",
    "from openeye import oechem\n",
    "from perses.annihilation.rest import RESTTopologyFactoryV2\n",
    "from perses.annihilation.lambda_protocol import RESTStateV2\n",
    "from openmmtools.states import SamplerState, ThermodynamicState, CompoundThermodynamicState\n",
    "from openmmtools import cache, utils\n",
    "from perses.dispersed.utils import configure_platform\n",
    "# cache.global_context_cache.platform = configure_platform(utils.get_fastest_platform().getName())\n",
    "from simtk import openmm, unit\n",
    "import math\n",
    "from openmmtools.constants import kB\n",
    "from openmmtools import mcmc, multistate\n",
    "import argparse\n",
    "import copy\n",
    "from perses.dispersed import feptasks\n",
    "import mdtraj as md\n",
    "import numpy as np\n",
    "from perses.app.relative_point_mutation_setup import PointMutationExecutor\n",
    "from perses.tests.test_topology_proposal import generate_atp, generate_dipeptide_top_pos_sys\n"
   ]
  },
  {
   "cell_type": "code",
   "execution_count": 34,
   "id": "946654b3",
   "metadata": {
    "scrolled": true
   },
   "outputs": [
    {
     "name": "stderr",
     "output_type": "stream",
     "text": [
      "DEBUG:openmmforcefields.system_generators:Trying GAFFTemplateGenerator to load gaff-2.11\n",
      "INFO:proposal_generator:\tConducting polymer point mutation proposal...\n",
      "INFO:proposal_generator:Using matching_criterion to chose best atom map\n",
      "INFO:proposal_generator:Scaffold has symmetry of 0\n",
      "WARNING:proposal_generator:Two molecules are not similar to have a common scaffold\n",
      "WARNING:proposal_generator:Proceeding with direct mapping of molecules, but please check atom mapping and the geometry of the ligands.\n",
      "INFO:proposal_generator:len [{9: 7}, {10: 7}, {11: 7}, {12: 7}, {13: 7}, {9: 8}, {10: 8}, {11: 8}, {12: 8}, {13: 8}, {9: 9}, {10: 9}, {11: 9}, {12: 9}, {13: 9}]\n",
      "INFO:proposal_generator:{9: 7}\n",
      "INFO:proposal_generator:{10: 7}\n",
      "INFO:proposal_generator:{11: 7}\n",
      "INFO:proposal_generator:{12: 7}\n",
      "INFO:proposal_generator:{13: 7}\n",
      "INFO:proposal_generator:{9: 8}\n",
      "INFO:proposal_generator:{10: 8}\n",
      "INFO:proposal_generator:{11: 8}\n",
      "INFO:proposal_generator:{12: 8}\n",
      "INFO:proposal_generator:{13: 8}\n",
      "INFO:proposal_generator:{9: 9}\n"
     ]
    },
    {
     "name": "stdout",
     "output_type": "stream",
     "text": [
      "making topology proposal\n"
     ]
    },
    {
     "name": "stderr",
     "output_type": "stream",
     "text": [
      "INFO:proposal_generator:{10: 9}\n",
      "INFO:proposal_generator:{11: 9}\n",
      "INFO:proposal_generator:{12: 9}\n",
      "INFO:proposal_generator:{13: 9}\n",
      "INFO:proposal_generator:Returning map that best satisfies matching_criterion\n",
      "INFO:proposal_generator:Finding best map using matching_criterion name\n",
      "INFO:proposal_generator:{9: 7}\n",
      "INFO:geometry:propose: performing forward proposal\n",
      "INFO:geometry:propose: unique new atoms detected; proceeding to _logp_propose...\n",
      "INFO:geometry:Conducting forward proposal...\n",
      "INFO:geometry:Computing proposal order with NetworkX...\n",
      "INFO:geometry:number of atoms to be placed: 8\n",
      "INFO:geometry:Atom index proposal order is [10, 18, 14, 17, 16, 13, 15, 19]\n",
      "INFO:geometry:omitted_bonds: []\n",
      "INFO:geometry:direction of proposal is forward; creating atoms_with_positions and new positions from old system/topology...\n",
      "INFO:geometry:creating growth system...\n",
      "INFO:geometry:\tcreating bond force...\n",
      "INFO:geometry:\tthere are 11 bonds in reference force.\n",
      "INFO:geometry:\tcreating angle force...\n",
      "INFO:geometry:\tthere are 43 angles in reference force.\n",
      "INFO:geometry:\tcreating torsion force...\n",
      "INFO:geometry:\tcreating extra torsions force...\n",
      "INFO:geometry:\tthere are 72 torsions in reference force.\n",
      "INFO:geometry:\tcreating nonbonded force...\n",
      "INFO:geometry:\t\tgrabbing reference nonbonded method, cutoff, switching function, switching distance...\n",
      "INFO:geometry:\t\tcreating nonbonded exception force (i.e. custom bond for 1,4s)...\n",
      "INFO:geometry:\t\tlooping through exceptions calculating growth indices, and adding appropriate interactions to custom bond force.\n",
      "INFO:geometry:\t\tthere are 1654 in the reference Nonbonded force\n",
      "WARNING:geometry:\t\t\t\t\tchiral atom <Atom 8 (CA) of chain 0 residue 1 (THR)> with neighbors [<Atom 9 (HA) of chain 0 residue 1 (THR)>, <Atom 10 (CB) of chain 0 residue 1 (THR)>, <Atom 11 (C) of chain 0 residue 1 (THR)>, <Atom 6 (N) of chain 0 residue 1 (THR)>] is surrounded by 3 core neighbors.  omitting chirality bias torsion\n",
      "INFO:geometry:Neglected angle terms : []\n",
      "INFO:geometry:omitted_growth_terms: {'bonds': [], 'angles': [], 'torsions': [], '1,4s': []}\n",
      "INFO:geometry:extra torsions: {0: (7, 6, 8, 10, [1, Quantity(value=0.9900002084555819, unit=radian), Quantity(value=1200.0, unit=kilocalorie/mole), 1]), 1: (19, 18, 10, 8, [1, Quantity(value=-0.07858019216845058, unit=radian), Quantity(value=1200.0, unit=kilocalorie/mole), 8]), 2: (19, 18, 10, 14, [1, Quantity(value=2.118586571250296, unit=radian), Quantity(value=1200.0, unit=kilocalorie/mole), 8]), 3: (19, 18, 10, 13, [1, Quantity(value=-2.149781203448759, unit=radian), Quantity(value=1200.0, unit=kilocalorie/mole), 8]), 4: (8, 10, 14, 17, [1, Quantity(value=-2.1249532223845904, unit=radian), Quantity(value=1200.0, unit=kilocalorie/mole), 4]), 5: (8, 10, 14, 16, [1, Quantity(value=2.0543043017157916, unit=radian), Quantity(value=1200.0, unit=kilocalorie/mole), 5]), 6: (8, 10, 14, 15, [1, Quantity(value=-0.02223392579985184, unit=radian), Quantity(value=1200.0, unit=kilocalorie/mole), 7]), 7: (18, 10, 14, 17, [1, Quantity(value=2.0255587336734213, unit=radian), Quantity(value=1200.0, unit=kilocalorie/mole), 4]), 8: (18, 10, 14, 16, [1, Quantity(value=-0.07836904940578293, unit=radian), Quantity(value=1200.0, unit=kilocalorie/mole), 5]), 9: (18, 10, 14, 15, [1, Quantity(value=-2.154907276921426, unit=radian), Quantity(value=1200.0, unit=kilocalorie/mole), 7]), 10: (13, 10, 14, 17, [1, Quantity(value=0.007583009583349565, unit=radian), Quantity(value=1200.0, unit=kilocalorie/mole), 6]), 11: (13, 10, 14, 16, [1, Quantity(value=-2.096344773495849, unit=radian), Quantity(value=1200.0, unit=kilocalorie/mole), 6]), 12: (13, 10, 14, 15, [1, Quantity(value=2.1103023061680943, unit=radian), Quantity(value=1200.0, unit=kilocalorie/mole), 7]), 13: (18, 10, 8, 14, [1, Quantity(value=-1.0655064807976995, unit=radian), Quantity(value=1200.0, unit=kilocalorie/mole), 3])}\n",
      "INFO:geometry:neglected angle terms include []\n",
      "INFO:geometry:log probability choice of torsions and atom order: -13.371595639480912\n",
      "INFO:geometry:creating platform, integrators, and contexts; setting growth parameter\n"
     ]
    },
    {
     "name": "stdout",
     "output_type": "stream",
     "text": [
      "generating geometry engine\n",
      "making geometry proposal from ALA to THR\n",
      "conducting subsequent work with the following platform: CUDA\n"
     ]
    },
    {
     "name": "stderr",
     "output_type": "stream",
     "text": [
      "INFO:geometry:setting atoms_with_positions context new positions\n"
     ]
    },
    {
     "name": "stdout",
     "output_type": "stream",
     "text": [
      "conducting subsequent work with the following platform: CUDA\n"
     ]
    },
    {
     "name": "stderr",
     "output_type": "stream",
     "text": [
      "INFO:geometry:There are 8 new atoms\n",
      "INFO:geometry:\treduced angle potential = 0.24959740242789705.\n",
      "INFO:geometry:\treduced angle potential = 0.9479110209922075.\n",
      "INFO:geometry:\treduced angle potential = 0.09037203875505953.\n",
      "INFO:geometry:\treduced angle potential = 1.912102277724299.\n",
      "INFO:geometry:\treduced angle potential = 0.024522452522797795.\n",
      "INFO:geometry:\treduced angle potential = 1.6020565189189082.\n",
      "INFO:geometry:\treduced angle potential = 1.8127706109434323.\n",
      "INFO:geometry:\treduced angle potential = 0.12377164641649234.\n",
      "INFO:geometry:\tbeginning construction of no_nonbonded final system...\n",
      "INFO:geometry:\tinitial no-nonbonded final system forces ['HarmonicBondForce', 'HarmonicAngleForce', 'PeriodicTorsionForce', 'NonbondedForce', 'MonteCarloBarostat']\n",
      "INFO:geometry:\tfinal no-nonbonded final system forces dict_keys(['HarmonicBondForce', 'HarmonicAngleForce', 'PeriodicTorsionForce', 'NonbondedForce'])\n",
      "INFO:geometry:\tthere are 11 bond forces in the no-nonbonded final system\n",
      "INFO:geometry:\tthere are 43 angle forces in the no-nonbonded final system\n",
      "INFO:geometry:\tthere are 72 torsion forces in the no-nonbonded final system\n",
      "INFO:geometry:forward final system defined with 0 neglected angles.\n"
     ]
    },
    {
     "name": "stdout",
     "output_type": "stream",
     "text": [
      "conducting subsequent work with the following platform: CUDA\n",
      "conducting subsequent work with the following platform: CUDA\n"
     ]
    },
    {
     "name": "stderr",
     "output_type": "stream",
     "text": [
      "INFO:geometry:total reduced potential before atom placement: 9.11648114171204\n"
     ]
    },
    {
     "name": "stdout",
     "output_type": "stream",
     "text": [
      "conducting subsequent work with the following platform: CUDA\n",
      "conducting subsequent work with the following platform: CUDA\n",
      "conducting subsequent work with the following platform: CUDA\n"
     ]
    },
    {
     "name": "stderr",
     "output_type": "stream",
     "text": [
      "INFO:geometry:total reduced energy added from growth system: -60.383026911186946\n",
      "INFO:geometry:final reduced energy -51.26654831135912\n",
      "INFO:geometry:sum of energies: -51.2665457694749\n",
      "INFO:geometry:magnitude of difference in the energies: 2.5418842142244102e-06\n",
      "INFO:geometry:Final logp_proposal: 58.1484248972975\n"
     ]
    },
    {
     "name": "stdout",
     "output_type": "stream",
     "text": [
      "added energy components: [('CustomBondForce', 0.4488992402888311), ('CustomAngleForce', 10.333372862320974), ('CustomTorsionForce', 17.570614234757816), ('CustomBondForce', -88.73591324855458)]\n"
     ]
    },
    {
     "name": "stderr",
     "output_type": "stream",
     "text": [
      "INFO:geometry:logp_reverse: performing reverse proposal\n",
      "INFO:geometry:logp_reverse: unique new atoms detected; proceeding to _logp_propose...\n",
      "INFO:geometry:Conducting forward proposal...\n",
      "INFO:geometry:Computing proposal order with NetworkX...\n",
      "INFO:geometry:number of atoms to be placed: 4\n",
      "INFO:geometry:Atom index proposal order is [10, 13, 12, 11]\n",
      "INFO:geometry:omitted_bonds: []\n",
      "INFO:geometry:direction of proposal is reverse; creating atoms_with_positions from old system/topology\n",
      "INFO:geometry:creating growth system...\n",
      "INFO:geometry:\tcreating bond force...\n",
      "INFO:geometry:\tthere are 9 bonds in reference force.\n",
      "INFO:geometry:\tcreating angle force...\n",
      "INFO:geometry:\tthere are 36 angles in reference force.\n",
      "INFO:geometry:\tcreating torsion force...\n",
      "INFO:geometry:\tcreating extra torsions force...\n",
      "INFO:geometry:\tthere are 42 torsions in reference force.\n",
      "INFO:geometry:\tcreating nonbonded force...\n",
      "INFO:geometry:\t\tgrabbing reference nonbonded method, cutoff, switching function, switching distance...\n",
      "INFO:geometry:\t\tcreating nonbonded exception force (i.e. custom bond for 1,4s)...\n",
      "INFO:geometry:\t\tlooping through exceptions calculating growth indices, and adding appropriate interactions to custom bond force.\n",
      "INFO:geometry:\t\tthere are 1631 in the reference Nonbonded force\n",
      "WARNING:geometry:\t\t\t\t\tchiral atom <Atom 8 (CA) of chain 0 residue 1 (ALA)> with neighbors [<Atom 9 (HA) of chain 0 residue 1 (ALA)>, <Atom 10 (CB) of chain 0 residue 1 (ALA)>, <Atom 14 (C) of chain 0 residue 1 (ALA)>, <Atom 6 (N) of chain 0 residue 1 (ALA)>] is surrounded by 3 core neighbors.  omitting chirality bias torsion\n",
      "INFO:geometry:Neglected angle terms : []\n",
      "INFO:geometry:omitted_growth_terms: {'bonds': [], 'angles': [], 'torsions': [], '1,4s': []}\n",
      "INFO:geometry:extra torsions: {0: (7, 6, 8, 10, [1, Quantity(value=0.9799661941737812, unit=radian), Quantity(value=1200.0, unit=kilocalorie/mole), 1]), 1: (6, 8, 10, 11, [1, Quantity(value=2.105358864604291, unit=radian), Quantity(value=1200.0, unit=kilocalorie/mole), 4]), 2: (6, 8, 10, 12, [1, Quantity(value=-2.0823006129211796, unit=radian), Quantity(value=1200.0, unit=kilocalorie/mole), 3]), 3: (6, 8, 10, 13, [1, Quantity(value=0.018582237407944735, unit=radian), Quantity(value=1200.0, unit=kilocalorie/mole), 2]), 4: (14, 8, 10, 11, [1, Quantity(value=-0.036945135932107576, unit=radian), Quantity(value=1200.0, unit=kilocalorie/mole), 4]), 5: (14, 8, 10, 12, [1, Quantity(value=2.0585806937220097, unit=radian), Quantity(value=1200.0, unit=kilocalorie/mole), 3]), 6: (14, 8, 10, 13, [1, Quantity(value=-2.1237217631284597, unit=radian), Quantity(value=1200.0, unit=kilocalorie/mole), 2]), 7: (9, 8, 10, 11, [1, Quantity(value=-2.119603470065817, unit=radian), Quantity(value=1200.0, unit=kilocalorie/mole), 4]), 8: (9, 8, 10, 12, [1, Quantity(value=-0.024077640411697132, unit=radian), Quantity(value=1200.0, unit=kilocalorie/mole), 3]), 9: (9, 8, 10, 13, [1, Quantity(value=2.0768052099174152, unit=radian), Quantity(value=1200.0, unit=kilocalorie/mole), 2])}\n",
      "INFO:geometry:neglected angle terms include []\n",
      "INFO:geometry:log probability choice of torsions and atom order: -5.78074351579233\n",
      "INFO:geometry:creating platform, integrators, and contexts; setting growth parameter\n"
     ]
    },
    {
     "name": "stdout",
     "output_type": "stream",
     "text": [
      "conducting subsequent work with the following platform: CUDA\n"
     ]
    },
    {
     "name": "stderr",
     "output_type": "stream",
     "text": [
      "INFO:geometry:setting atoms_with_positions context old positions\n"
     ]
    },
    {
     "name": "stdout",
     "output_type": "stream",
     "text": [
      "conducting subsequent work with the following platform: CUDA\n"
     ]
    },
    {
     "name": "stderr",
     "output_type": "stream",
     "text": [
      "INFO:geometry:There are 4 new atoms\n",
      "INFO:geometry:\treduced angle potential = 0.08012165173241896.\n",
      "INFO:geometry:\treduced angle potential = 7.39096069988752e-11.\n",
      "INFO:geometry:\treduced angle potential = 3.2058324695160406e-13.\n",
      "INFO:geometry:\treduced angle potential = 1.2915588460963948e-10.\n",
      "INFO:geometry:\tbeginning construction of no_nonbonded final system...\n",
      "INFO:geometry:\tinitial no-nonbonded final system forces ['HarmonicBondForce', 'HarmonicAngleForce', 'PeriodicTorsionForce', 'NonbondedForce', 'MonteCarloBarostat']\n",
      "INFO:geometry:\tfinal no-nonbonded final system forces dict_keys(['HarmonicBondForce', 'HarmonicAngleForce', 'PeriodicTorsionForce', 'NonbondedForce'])\n",
      "INFO:geometry:\tthere are 9 bond forces in the no-nonbonded final system\n",
      "INFO:geometry:\tthere are 36 angle forces in the no-nonbonded final system\n",
      "INFO:geometry:\tthere are 42 torsion forces in the no-nonbonded final system\n",
      "INFO:geometry:reverse final system defined with 0 neglected angles.\n"
     ]
    },
    {
     "name": "stdout",
     "output_type": "stream",
     "text": [
      "conducting subsequent work with the following platform: CUDA\n",
      "conducting subsequent work with the following platform: CUDA\n"
     ]
    },
    {
     "name": "stderr",
     "output_type": "stream",
     "text": [
      "INFO:geometry:total reduced potential before atom placement: 9.11648114171204\n"
     ]
    },
    {
     "name": "stdout",
     "output_type": "stream",
     "text": [
      "conducting subsequent work with the following platform: CUDA\n",
      "conducting subsequent work with the following platform: CUDA\n",
      "conducting subsequent work with the following platform: CUDA\n"
     ]
    },
    {
     "name": "stderr",
     "output_type": "stream",
     "text": [
      "INFO:geometry:total reduced energy added from growth system: 20.672986687678176\n",
      "INFO:geometry:final reduced energy 29.78946596595156\n",
      "INFO:geometry:sum of energies: 29.789467829390215\n",
      "INFO:geometry:magnitude of difference in the energies: 1.8634386549365445e-06\n",
      "INFO:geometry:Final logp_proposal: -27014.15599337589\n"
     ]
    },
    {
     "name": "stdout",
     "output_type": "stream",
     "text": [
      "added energy components: [('CustomBondForce', 0.000520203927326505), ('CustomAngleForce', 0.4511197756248138), ('CustomTorsionForce', 7.250463344085812), ('CustomBondForce', 12.970883364040223)]\n"
     ]
    },
    {
     "name": "stderr",
     "output_type": "stream",
     "text": [
      "INFO:relative:*** Generating RepartitionedHybridTopologyFactory ***\n",
      "INFO:relative:Old system forces: dict_keys(['HarmonicBondForce', 'HarmonicAngleForce', 'PeriodicTorsionForce', 'NonbondedForce', 'MonteCarloBarostat'])\n",
      "INFO:relative:New system forces: dict_keys(['HarmonicBondForce', 'HarmonicAngleForce', 'PeriodicTorsionForce', 'NonbondedForce', 'MonteCarloBarostat'])\n",
      "INFO:relative:No unknown forces.\n",
      "INFO:relative:Nonbonded method to be used (i.e. from old system): 4\n",
      "INFO:relative:Adding and mapping old atoms to hybrid system...\n",
      "INFO:relative:Adding and mapping new atoms to hybrid system...\n",
      "INFO:relative:Added MonteCarloBarostat.\n",
      "INFO:relative:getDefaultPeriodicBoxVectors added to hybrid: [Quantity(value=Vec3(x=2.56477354, y=0.0, z=0.0), unit=nanometer), Quantity(value=Vec3(x=0.0, y=2.56477354, z=0.0), unit=nanometer), Quantity(value=Vec3(x=0.0, y=0.0, z=2.56477354), unit=nanometer)]\n",
      "INFO:relative:Determined atom classes.\n",
      "INFO:relative:Generating old system exceptions dict...\n",
      "INFO:relative:Generating new system exceptions dict...\n",
      "INFO:relative:Handling constraints...\n",
      "INFO:relative:Handling virtual sites...\n",
      "INFO:relative:\t_handle_virtual_sites: numVirtualSites: 0\n",
      "INFO:relative:\t_add_nonbonded_force_terms: <simtk.openmm.openmm.NonbondedForce; proxy of <Swig Object of type 'OpenMM::NonbondedForce *' at 0x2af9afd9ec90> > added to hybrid system\n",
      "INFO:relative:\t_add_nonbonded_force_terms: nonbonded_method is PME or Ewald\n",
      "INFO:relative:\t_add_nonbonded_force_terms: 4 added to standard nonbonded force\n",
      "INFO:relative:\t_add_nonbonded_force_terms: 2 added to sterics_custom_nonbonded force\n"
     ]
    }
   ],
   "source": [
    "# Set temperatures\n",
    "T_min = 300.0 * unit.kelvin\n",
    "T = 1200 * unit.kelvin\n",
    "\n",
    "# Create repartitioned hybrid system for lambda 0 endstate\n",
    "atp, system_generator = generate_atp(phase='solvent')\n",
    "htf = generate_dipeptide_top_pos_sys(atp.topology,\n",
    "                                     new_res='THR',\n",
    "                                     system=atp.system,\n",
    "                                     positions=atp.positions,\n",
    "                                     system_generator=system_generator,\n",
    "                                     conduct_htf_prop=True,\n",
    "                                     repartitioned=True,\n",
    "                                     endstate=0,\n",
    "                                     validate_endstate_energy=False)\n",
    "system = htf.hybrid_system\n",
    "\n"
   ]
  },
  {
   "cell_type": "code",
   "execution_count": 35,
   "id": "89c7cd45",
   "metadata": {},
   "outputs": [
    {
     "name": "stderr",
     "output_type": "stream",
     "text": [
      "INFO:REST:Added MonteCarloBarostat.\n",
      "INFO:REST:getDefaultPeriodicBoxVectors added to hybrid: [Quantity(value=Vec3(x=2.56477354, y=0.0, z=0.0), unit=nanometer), Quantity(value=Vec3(x=0.0, y=2.56477354, z=0.0), unit=nanometer), Quantity(value=Vec3(x=0.0, y=0.0, z=2.56477354), unit=nanometer)]\n",
      "INFO:REST:No unknown forces.\n",
      "INFO:REST:Handling constraints\n",
      "INFO:REST:Handling bonds\n",
      "INFO:REST:Handling angles\n",
      "INFO:REST:Handling torsions\n",
      "INFO:REST:Handling nonbondeds\n",
      "INFO:REST:Handling nonbonded scaling (custom nb)\n",
      "INFO:REST:Handling nonbonded exception scaling (custom bond)\n"
     ]
    }
   ],
   "source": [
    "# Create REST-ified hybrid system\n",
    "res1 = list(htf.hybrid_topology.residues)[1]\n",
    "rest_atoms = [atom.index for atom in list(res1.atoms)]\n",
    "factory = RESTTopologyFactoryV2(system, htf.hybrid_topology, rest_region=rest_atoms, use_dispersion_correction=True)\n",
    "REST_system = factory.REST_system"
   ]
  },
  {
   "cell_type": "code",
   "execution_count": 36,
   "id": "cddba2f4",
   "metadata": {},
   "outputs": [
    {
     "name": "stderr",
     "output_type": "stream",
     "text": [
      "INFO:REST:Added MonteCarloBarostat.\n",
      "INFO:REST:getDefaultPeriodicBoxVectors added to hybrid: [Quantity(value=Vec3(x=2.56477354, y=0.0, z=0.0), unit=nanometer), Quantity(value=Vec3(x=0.0, y=2.56477354, z=0.0), unit=nanometer), Quantity(value=Vec3(x=0.0, y=0.0, z=2.56477354), unit=nanometer)]\n",
      "INFO:REST:No unknown forces.\n",
      "INFO:REST:Handling constraints\n",
      "INFO:REST:Handling bonds\n",
      "INFO:REST:Handling angles\n",
      "INFO:REST:Handling torsions\n",
      "INFO:REST:Handling nonbondeds\n",
      "INFO:REST:Handling nonbonded scaling (custom nb)\n",
      "INFO:REST:Handling nonbonded exception scaling (custom bond)\n"
     ]
    }
   ],
   "source": [
    "# Build REST factory\n",
    "for res in htf.hybrid_topology.residues:\n",
    "    if res.resSeq == 2 and res.chain.index == 0:\n",
    "        mutated_res = res\n",
    "query_indices = [atom.index for atom in mutated_res.atoms]\n",
    "traj = md.Trajectory(np.array(htf.hybrid_positions), htf.hybrid_topology)\n",
    "solute_atoms = list(traj.topology.select(\"is_protein\"))\n",
    "radius = 0.3\n",
    "rest_atoms = list(md.compute_neighbors(traj, radius, query_indices, haystack_indices=solute_atoms)[0])\n",
    "factory = RESTTopologyFactoryV2(htf.hybrid_system, htf.hybrid_topology, rest_region=rest_atoms, use_dispersion_correction=True)"
   ]
  },
  {
   "cell_type": "code",
   "execution_count": 37,
   "id": "cc482a2d",
   "metadata": {},
   "outputs": [],
   "source": [
    "# Get REST system\n",
    "REST_system = factory.REST_system\n",
    "\n",
    "# Create states for each replica\n",
    "n_replicas = 12  # Number of temperature replicas.\n",
    "T_min = 300.0 * unit.kelvin  # Minimum temperature.\n",
    "T_max = 1200 * unit.kelvin  # Maximum temperature.\n",
    "temperatures = [T_min + (T_max - T_min) * (math.exp(float(i) / float(n_replicas-1)) - 1.0) / (math.e - 1.0)\n",
    "                for i in range(n_replicas)]\n",
    "\n",
    "# Create reference thermodynamic state\n",
    "lambda_zero_alchemical_state = RESTStateV2.from_system(REST_system)\n",
    "thermostate = ThermodynamicState(REST_system, temperature=T_min)\n",
    "compound_thermodynamic_state = CompoundThermodynamicState(thermostate, composable_states=[lambda_zero_alchemical_state])"
   ]
  },
  {
   "cell_type": "code",
   "execution_count": 38,
   "id": "7a1eacc2",
   "metadata": {},
   "outputs": [
    {
     "data": {
      "text/plain": [
       "[<simtk.openmm.openmm.MonteCarloBarostat; proxy of <Swig Object of type 'OpenMM::MonteCarloBarostat *' at 0x2af9af84fd50> >,\n",
       " <simtk.openmm.openmm.CustomBondForce; proxy of <Swig Object of type 'OpenMM::CustomBondForce *' at 0x2af9af84fc90> >,\n",
       " <simtk.openmm.openmm.CustomAngleForce; proxy of <Swig Object of type 'OpenMM::CustomAngleForce *' at 0x2af9affaa2d0> >,\n",
       " <simtk.openmm.openmm.CustomTorsionForce; proxy of <Swig Object of type 'OpenMM::CustomTorsionForce *' at 0x2af9affaa1b0> >,\n",
       " <simtk.openmm.openmm.NonbondedForce; proxy of <Swig Object of type 'OpenMM::NonbondedForce *' at 0x2af9affaa1e0> >,\n",
       " <simtk.openmm.openmm.CustomNonbondedForce; proxy of <Swig Object of type 'OpenMM::CustomNonbondedForce *' at 0x2af9affaacc0> >,\n",
       " <simtk.openmm.openmm.CustomBondForce; proxy of <Swig Object of type 'OpenMM::CustomBondForce *' at 0x2af9affaa420> >]"
      ]
     },
     "execution_count": 38,
     "metadata": {},
     "output_type": "execute_result"
    }
   ],
   "source": [
    "REST_system.getForces()"
   ]
  },
  {
   "cell_type": "code",
   "execution_count": 39,
   "id": "2a45730d",
   "metadata": {},
   "outputs": [],
   "source": [
    "# Create thermodynamics states\n",
    "sampler_state =  SamplerState(htf.hybrid_positions, box_vectors=htf.hybrid_system.getDefaultPeriodicBoxVectors())\n",
    "beta_0 = 1/(kB*T_min)\n",
    "thermodynamic_state_list = []\n",
    "sampler_state_list = []\n",
    "for temperature in temperatures:\n",
    "    beta_m = 1/(kB*temperature)\n",
    "    compound_thermodynamic_state_copy = copy.deepcopy(compound_thermodynamic_state)\n",
    "    compound_thermodynamic_state_copy.set_alchemical_parameters(beta_0, beta_m)\n",
    "    thermodynamic_state_list.append(compound_thermodynamic_state_copy)\n",
    "\n",
    "    # now generating a sampler_state for each thermodynamic state, with relaxed positions\n",
    "    # context, context_integrator = context_cache.get_context(compound_thermodynamic_state_copy)\n",
    "    feptasks.minimize(compound_thermodynamic_state_copy, sampler_state, max_iterations=0)\n",
    "    sampler_state_list.append(copy.deepcopy(sampler_state))\n"
   ]
  },
  {
   "cell_type": "code",
   "execution_count": 40,
   "id": "212e78c9",
   "metadata": {
    "scrolled": true
   },
   "outputs": [
    {
     "data": {
      "text/plain": [
       "[<simtk.openmm.openmm.CustomBondForce; proxy of <Swig Object of type 'OpenMM::CustomBondForce *' at 0x2af9e21d7ba0> >,\n",
       " <simtk.openmm.openmm.CustomAngleForce; proxy of <Swig Object of type 'OpenMM::CustomAngleForce *' at 0x2af9e21d7b70> >,\n",
       " <simtk.openmm.openmm.CustomTorsionForce; proxy of <Swig Object of type 'OpenMM::CustomTorsionForce *' at 0x2af9e21d78d0> >,\n",
       " <simtk.openmm.openmm.NonbondedForce; proxy of <Swig Object of type 'OpenMM::NonbondedForce *' at 0x2af9e21d7900> >,\n",
       " <simtk.openmm.openmm.CustomNonbondedForce; proxy of <Swig Object of type 'OpenMM::CustomNonbondedForce *' at 0x2af9e21d7d80> >,\n",
       " <simtk.openmm.openmm.CustomBondForce; proxy of <Swig Object of type 'OpenMM::CustomBondForce *' at 0x2af9e21d7b40> >,\n",
       " <simtk.openmm.openmm.AndersenThermostat; proxy of <Swig Object of type 'OpenMM::AndersenThermostat *' at 0x2af9af3df150> >,\n",
       " <simtk.openmm.openmm.MonteCarloBarostat; proxy of <Swig Object of type 'OpenMM::MonteCarloBarostat *' at 0x2af9af3df690> >]"
      ]
     },
     "execution_count": 40,
     "metadata": {},
     "output_type": "execute_result"
    }
   ],
   "source": [
    "thermodynamic_state_list[0].get_system().getForces()"
   ]
  },
  {
   "cell_type": "code",
   "execution_count": 41,
   "id": "01fe6f6b",
   "metadata": {},
   "outputs": [],
   "source": [
    "context_cache = cache.global_context_cache"
   ]
  },
  {
   "cell_type": "code",
   "execution_count": 42,
   "id": "7578fb83",
   "metadata": {},
   "outputs": [],
   "source": [
    "integrator = openmmtools.integrators.LangevinIntegrator(temperature=300 * unit.kelvin,\n",
    "                                              collision_rate=1 / unit.picoseconds,\n",
    "                                              timestep= 4 * unit.femtoseconds)"
   ]
  },
  {
   "cell_type": "code",
   "execution_count": 43,
   "id": "b814c20a",
   "metadata": {},
   "outputs": [],
   "source": [
    "context, integrator = context_cache.get_context(thermodynamic_state_list[-1], integrator)\n"
   ]
  },
  {
   "cell_type": "code",
   "execution_count": 44,
   "id": "840b39b1",
   "metadata": {},
   "outputs": [
    {
     "data": {
      "text/plain": [
       "'CUDA'"
      ]
     },
     "execution_count": 44,
     "metadata": {},
     "output_type": "execute_result"
    }
   ],
   "source": [
    "context.getPlatform().getName()"
   ]
  },
  {
   "cell_type": "code",
   "execution_count": 45,
   "id": "b6c1d1d6",
   "metadata": {},
   "outputs": [],
   "source": [
    "sampler_state_list[-1].apply_to_context(context)"
   ]
  },
  {
   "cell_type": "code",
   "execution_count": 46,
   "id": "edee3642",
   "metadata": {},
   "outputs": [
    {
     "name": "stderr",
     "output_type": "stream",
     "text": [
      "<ipython-input-46-43269e18d264>:3: TqdmDeprecationWarning: This function will be removed in tqdm==5.0.0\n",
      "Please use `tqdm.notebook.tqdm` instead of `tqdm.tqdm_notebook`\n",
      "  for _ in tqdm_notebook(range(int(125000/250))):\n"
     ]
    },
    {
     "data": {
      "application/vnd.jupyter.widget-view+json": {
       "model_id": "668d514edef2491f872a94e22345cdcc",
       "version_major": 2,
       "version_minor": 0
      },
      "text/plain": [
       "  0%|          | 0/500 [00:00<?, ?it/s]"
      ]
     },
     "metadata": {},
     "output_type": "display_data"
    }
   ],
   "source": [
    "old, new = list(), list()\n",
    "energies = list()\n",
    "for _ in tqdm_notebook(range(int(125000/250))):\n",
    "    integrator.step(250)\n",
    "    \n",
    "    energy = context.getState(getEnergy=True).getPotentialEnergy()\n",
    "    energies.append(energy.value_in_unit_system(unit.md_unit_system))\n",
    "    pos = context.getState(getPositions=True, enforcePeriodicBox=False).getPositions(asNumpy=True)\n",
    "    old_pos = np.asarray(htf.old_positions(pos))\n",
    "    new_pos = np.asarray(htf.new_positions(pos))\n",
    "    old.append(old_pos)\n",
    "    new.append(new_pos)"
   ]
  },
  {
   "cell_type": "code",
   "execution_count": 47,
   "id": "c6e9bea7",
   "metadata": {},
   "outputs": [],
   "source": [
    "with open(\"old_ala_solvent_1200.npy\", 'wb') as f:\n",
    "    np.save(f, old)\n",
    "with open(\"new_ala_solvent_1200.npy\", 'wb') as f:\n",
    "    np.save(f, new)\n",
    "with open(\"energies_ala_solvent_1200.npy\", 'wb') as f:\n",
    "    np.save(f, energies)"
   ]
  },
  {
   "cell_type": "code",
   "execution_count": 48,
   "id": "009bef43",
   "metadata": {},
   "outputs": [],
   "source": [
    "import mdtraj as md"
   ]
  },
  {
   "cell_type": "code",
   "execution_count": 49,
   "id": "fddc50f2",
   "metadata": {},
   "outputs": [],
   "source": [
    "traj = md.Trajectory(np.array(old), md.Topology.from_openmm(htf._topology_proposal.old_topology))\n",
    "traj.save(\"old_ala_solvent_1200.dcd\")\n",
    "traj[0].save(\"old_ala_solvent_1200.pdb\")"
   ]
  },
  {
   "cell_type": "code",
   "execution_count": 50,
   "id": "9389d527",
   "metadata": {},
   "outputs": [],
   "source": [
    "import matplotlib.pyplot as plt"
   ]
  },
  {
   "cell_type": "code",
   "execution_count": 53,
   "id": "123bb772",
   "metadata": {},
   "outputs": [
    {
     "data": {
      "text/plain": [
       "[<matplotlib.lines.Line2D at 0x2af9fbe75f40>]"
      ]
     },
     "execution_count": 53,
     "metadata": {},
     "output_type": "execute_result"
    },
    {
     "data": {
      "image/png": "[encoded data removed]",
      "text/plain": [
       "<Figure size 432x288 with 1 Axes>"
      ]
     },
     "metadata": {
      "needs_background": "light"
     },
     "output_type": "display_data"
    }
   ],
   "source": [
    "plt.plot(energies[10:])"
   ]
  },
  {
   "cell_type": "markdown",
   "id": "2429c92d",
   "metadata": {},
   "source": [
    "## Try running vanilla MD on the 1200 K thermostate (with vanilla rest system) for alanine dipeptide in solvent and see if the problem happens"
   ]
  },
  {
   "cell_type": "code",
   "execution_count": 1,
   "id": "337610b6",
   "metadata": {},
   "outputs": [],
   "source": [
    "from tqdm import tqdm_notebook\n",
    "import openmmtools"
   ]
  },
  {
   "cell_type": "code",
   "execution_count": 2,
   "id": "381d0301",
   "metadata": {},
   "outputs": [
    {
     "name": "stdout",
     "output_type": "stream",
     "text": [
      "conducting subsequent work with the following platform: CUDA\n"
     ]
    },
    {
     "name": "stderr",
     "output_type": "stream",
     "text": [
      "INFO:rdkit:Enabling RDKit 2021.03.3 jupyter extensions\n"
     ]
    }
   ],
   "source": [
    "import pickle\n",
    "import os\n",
    "from openeye import oechem\n",
    "from perses.annihilation.rest import RESTTopologyFactory\n",
    "from perses.annihilation.lambda_protocol import RESTState\n",
    "from openmmtools.states import SamplerState, ThermodynamicState, CompoundThermodynamicState\n",
    "from openmmtools import cache, utils\n",
    "from perses.dispersed.utils import configure_platform\n",
    "# cache.global_context_cache.platform = configure_platform(utils.get_fastest_platform().getName())\n",
    "from simtk import openmm, unit\n",
    "import math\n",
    "from openmmtools.constants import kB\n",
    "from openmmtools import mcmc, multistate\n",
    "import argparse\n",
    "import copy\n",
    "from perses.dispersed import feptasks\n",
    "import mdtraj as md\n",
    "import numpy as np\n",
    "from perses.app.relative_point_mutation_setup import PointMutationExecutor\n",
    "from perses.tests.test_topology_proposal import generate_atp, generate_dipeptide_top_pos_sys\n"
   ]
  },
  {
   "cell_type": "code",
   "execution_count": 3,
   "id": "a5b27ee2",
   "metadata": {
    "scrolled": true
   },
   "outputs": [
    {
     "name": "stderr",
     "output_type": "stream",
     "text": [
      "DEBUG:openmmforcefields.system_generators:Trying GAFFTemplateGenerator to load gaff-2.11\n",
      "INFO:proposal_generator:\tConducting polymer point mutation proposal...\n",
      "INFO:proposal_generator:Using matching_criterion to chose best atom map\n",
      "INFO:proposal_generator:Scaffold has symmetry of 0\n",
      "WARNING:proposal_generator:Two molecules are not similar to have a common scaffold\n",
      "WARNING:proposal_generator:Proceeding with direct mapping of molecules, but please check atom mapping and the geometry of the ligands.\n",
      "INFO:proposal_generator:len [{9: 7}, {10: 7}, {11: 7}, {12: 7}, {13: 7}, {9: 8}, {10: 8}, {11: 8}, {12: 8}, {13: 8}, {9: 9}, {10: 9}, {11: 9}, {12: 9}, {13: 9}]\n",
      "INFO:proposal_generator:{9: 7}\n",
      "INFO:proposal_generator:{10: 7}\n",
      "INFO:proposal_generator:{11: 7}\n",
      "INFO:proposal_generator:{12: 7}\n",
      "INFO:proposal_generator:{13: 7}\n",
      "INFO:proposal_generator:{9: 8}\n",
      "INFO:proposal_generator:{10: 8}\n",
      "INFO:proposal_generator:{11: 8}\n",
      "INFO:proposal_generator:{12: 8}\n",
      "INFO:proposal_generator:{13: 8}\n",
      "INFO:proposal_generator:{9: 9}\n",
      "INFO:proposal_generator:{10: 9}\n",
      "INFO:proposal_generator:{11: 9}\n",
      "INFO:proposal_generator:{12: 9}\n",
      "INFO:proposal_generator:{13: 9}\n",
      "INFO:proposal_generator:Returning map that best satisfies matching_criterion\n",
      "INFO:proposal_generator:Finding best map using matching_criterion name\n",
      "INFO:proposal_generator:{9: 7}\n"
     ]
    },
    {
     "name": "stdout",
     "output_type": "stream",
     "text": [
      "making topology proposal\n"
     ]
    },
    {
     "name": "stderr",
     "output_type": "stream",
     "text": [
      "INFO:geometry:propose: performing forward proposal\n",
      "INFO:geometry:propose: unique new atoms detected; proceeding to _logp_propose...\n",
      "INFO:geometry:Conducting forward proposal...\n",
      "INFO:geometry:Computing proposal order with NetworkX...\n",
      "INFO:geometry:number of atoms to be placed: 8\n",
      "INFO:geometry:Atom index proposal order is [10, 18, 14, 19, 13, 17, 15, 16]\n",
      "INFO:geometry:omitted_bonds: []\n",
      "INFO:geometry:direction of proposal is forward; creating atoms_with_positions and new positions from old system/topology...\n",
      "INFO:geometry:creating growth system...\n",
      "INFO:geometry:\tcreating bond force...\n",
      "INFO:geometry:\tthere are 11 bonds in reference force.\n",
      "INFO:geometry:\tcreating angle force...\n",
      "INFO:geometry:\tthere are 43 angles in reference force.\n",
      "INFO:geometry:\tcreating torsion force...\n",
      "INFO:geometry:\tcreating extra torsions force...\n",
      "INFO:geometry:\tthere are 72 torsions in reference force.\n",
      "INFO:geometry:\tcreating nonbonded force...\n",
      "INFO:geometry:\t\tgrabbing reference nonbonded method, cutoff, switching function, switching distance...\n",
      "INFO:geometry:\t\tcreating nonbonded exception force (i.e. custom bond for 1,4s)...\n",
      "INFO:geometry:\t\tlooping through exceptions calculating growth indices, and adding appropriate interactions to custom bond force.\n",
      "INFO:geometry:\t\tthere are 1654 in the reference Nonbonded force\n",
      "WARNING:geometry:\t\t\t\t\tchiral atom <Atom 8 (CA) of chain 0 residue 1 (THR)> with neighbors [<Atom 9 (HA) of chain 0 residue 1 (THR)>, <Atom 10 (CB) of chain 0 residue 1 (THR)>, <Atom 11 (C) of chain 0 residue 1 (THR)>, <Atom 6 (N) of chain 0 residue 1 (THR)>] is surrounded by 3 core neighbors.  omitting chirality bias torsion\n",
      "INFO:geometry:Neglected angle terms : []\n",
      "INFO:geometry:omitted_growth_terms: {'bonds': [], 'angles': [], 'torsions': [], '1,4s': []}\n",
      "INFO:geometry:extra torsions: {0: (7, 6, 8, 10, [1, Quantity(value=0.9900002084555819, unit=radian), Quantity(value=1200.0, unit=kilocalorie/mole), 1]), 1: (19, 18, 10, 8, [1, Quantity(value=-0.07858019216845058, unit=radian), Quantity(value=1200.0, unit=kilocalorie/mole), 4]), 2: (19, 18, 10, 14, [1, Quantity(value=2.118586571250296, unit=radian), Quantity(value=1200.0, unit=kilocalorie/mole), 4]), 3: (19, 18, 10, 13, [1, Quantity(value=-2.149781203448759, unit=radian), Quantity(value=1200.0, unit=kilocalorie/mole), 5]), 4: (8, 10, 14, 17, [1, Quantity(value=-2.1249532223845904, unit=radian), Quantity(value=1200.0, unit=kilocalorie/mole), 6]), 5: (8, 10, 14, 16, [1, Quantity(value=2.0543043017157916, unit=radian), Quantity(value=1200.0, unit=kilocalorie/mole), 8]), 6: (8, 10, 14, 15, [1, Quantity(value=-0.02223392579985184, unit=radian), Quantity(value=1200.0, unit=kilocalorie/mole), 7]), 7: (18, 10, 14, 17, [1, Quantity(value=2.0255587336734213, unit=radian), Quantity(value=1200.0, unit=kilocalorie/mole), 6]), 8: (18, 10, 14, 16, [1, Quantity(value=-0.07836904940578293, unit=radian), Quantity(value=1200.0, unit=kilocalorie/mole), 8]), 9: (18, 10, 14, 15, [1, Quantity(value=-2.154907276921426, unit=radian), Quantity(value=1200.0, unit=kilocalorie/mole), 7]), 10: (13, 10, 14, 17, [1, Quantity(value=0.007583009583349565, unit=radian), Quantity(value=1200.0, unit=kilocalorie/mole), 6]), 11: (13, 10, 14, 16, [1, Quantity(value=-2.096344773495849, unit=radian), Quantity(value=1200.0, unit=kilocalorie/mole), 8]), 12: (13, 10, 14, 15, [1, Quantity(value=2.1103023061680943, unit=radian), Quantity(value=1200.0, unit=kilocalorie/mole), 7]), 13: (18, 10, 8, 14, [1, Quantity(value=-1.0655064807976995, unit=radian), Quantity(value=1200.0, unit=kilocalorie/mole), 3])}\n",
      "INFO:geometry:neglected angle terms include []\n",
      "INFO:geometry:log probability choice of torsions and atom order: -13.371595639480912\n"
     ]
    },
    {
     "name": "stdout",
     "output_type": "stream",
     "text": [
      "generating geometry engine\n",
      "making geometry proposal from ALA to THR\n"
     ]
    },
    {
     "name": "stderr",
     "output_type": "stream",
     "text": [
      "INFO:geometry:creating platform, integrators, and contexts; setting growth parameter\n"
     ]
    },
    {
     "name": "stdout",
     "output_type": "stream",
     "text": [
      "conducting subsequent work with the following platform: CUDA\n"
     ]
    },
    {
     "name": "stderr",
     "output_type": "stream",
     "text": [
      "INFO:geometry:setting atoms_with_positions context new positions\n"
     ]
    },
    {
     "name": "stdout",
     "output_type": "stream",
     "text": [
      "conducting subsequent work with the following platform: CUDA\n"
     ]
    },
    {
     "name": "stderr",
     "output_type": "stream",
     "text": [
      "INFO:geometry:There are 8 new atoms\n",
      "INFO:geometry:\treduced angle potential = 0.52073636121504.\n",
      "INFO:geometry:\treduced angle potential = 0.49495046990652297.\n",
      "INFO:geometry:\treduced angle potential = 0.19164628663423405.\n",
      "INFO:geometry:\treduced angle potential = 0.5418824591915944.\n",
      "INFO:geometry:\treduced angle potential = 0.4375420127497755.\n",
      "INFO:geometry:\treduced angle potential = 2.5650851401910777.\n",
      "INFO:geometry:\treduced angle potential = 0.275570706471153.\n",
      "INFO:geometry:\treduced angle potential = 1.8224845441562403.\n",
      "INFO:geometry:\tbeginning construction of no_nonbonded final system...\n",
      "INFO:geometry:\tinitial no-nonbonded final system forces ['HarmonicBondForce', 'HarmonicAngleForce', 'PeriodicTorsionForce', 'NonbondedForce', 'MonteCarloBarostat']\n",
      "INFO:geometry:\tfinal no-nonbonded final system forces dict_keys(['HarmonicBondForce', 'HarmonicAngleForce', 'PeriodicTorsionForce', 'NonbondedForce'])\n",
      "INFO:geometry:\tthere are 11 bond forces in the no-nonbonded final system\n",
      "INFO:geometry:\tthere are 43 angle forces in the no-nonbonded final system\n",
      "INFO:geometry:\tthere are 72 torsion forces in the no-nonbonded final system\n",
      "INFO:geometry:forward final system defined with 0 neglected angles.\n"
     ]
    },
    {
     "name": "stdout",
     "output_type": "stream",
     "text": [
      "conducting subsequent work with the following platform: CUDA\n",
      "conducting subsequent work with the following platform: CUDA\n"
     ]
    },
    {
     "name": "stderr",
     "output_type": "stream",
     "text": [
      "INFO:geometry:total reduced potential before atom placement: 9.11648114171204\n"
     ]
    },
    {
     "name": "stdout",
     "output_type": "stream",
     "text": [
      "conducting subsequent work with the following platform: CUDA\n",
      "conducting subsequent work with the following platform: CUDA\n",
      "conducting subsequent work with the following platform: CUDA\n"
     ]
    },
    {
     "name": "stderr",
     "output_type": "stream",
     "text": [
      "INFO:geometry:total reduced energy added from growth system: -63.80018747509166\n",
      "INFO:geometry:final reduced energy -54.68370816700134\n",
      "INFO:geometry:sum of energies: -54.68370633337962\n",
      "INFO:geometry:magnitude of difference in the energies: 1.833621723790202e-06\n",
      "INFO:geometry:Final logp_proposal: 58.13289887534244\n"
     ]
    },
    {
     "name": "stdout",
     "output_type": "stream",
     "text": [
      "added energy components: [('CustomBondForce', 2.5061004416340613), ('CustomAngleForce', 11.127585835334552), ('CustomTorsionForce', 16.555527070382837), ('CustomBondForce', -93.9894008224431)]\n"
     ]
    },
    {
     "name": "stderr",
     "output_type": "stream",
     "text": [
      "INFO:geometry:logp_reverse: performing reverse proposal\n",
      "INFO:geometry:logp_reverse: unique new atoms detected; proceeding to _logp_propose...\n",
      "INFO:geometry:Conducting forward proposal...\n",
      "INFO:geometry:Computing proposal order with NetworkX...\n",
      "INFO:geometry:number of atoms to be placed: 4\n",
      "INFO:geometry:Atom index proposal order is [10, 11, 13, 12]\n",
      "INFO:geometry:omitted_bonds: []\n",
      "INFO:geometry:direction of proposal is reverse; creating atoms_with_positions from old system/topology\n",
      "INFO:geometry:creating growth system...\n",
      "INFO:geometry:\tcreating bond force...\n",
      "INFO:geometry:\tthere are 9 bonds in reference force.\n",
      "INFO:geometry:\tcreating angle force...\n",
      "INFO:geometry:\tthere are 36 angles in reference force.\n",
      "INFO:geometry:\tcreating torsion force...\n",
      "INFO:geometry:\tcreating extra torsions force...\n",
      "INFO:geometry:\tthere are 42 torsions in reference force.\n",
      "INFO:geometry:\tcreating nonbonded force...\n",
      "INFO:geometry:\t\tgrabbing reference nonbonded method, cutoff, switching function, switching distance...\n",
      "INFO:geometry:\t\tcreating nonbonded exception force (i.e. custom bond for 1,4s)...\n",
      "INFO:geometry:\t\tlooping through exceptions calculating growth indices, and adding appropriate interactions to custom bond force.\n",
      "INFO:geometry:\t\tthere are 1631 in the reference Nonbonded force\n",
      "WARNING:geometry:\t\t\t\t\tchiral atom <Atom 8 (CA) of chain 0 residue 1 (ALA)> with neighbors [<Atom 9 (HA) of chain 0 residue 1 (ALA)>, <Atom 10 (CB) of chain 0 residue 1 (ALA)>, <Atom 14 (C) of chain 0 residue 1 (ALA)>, <Atom 6 (N) of chain 0 residue 1 (ALA)>] is surrounded by 3 core neighbors.  omitting chirality bias torsion\n",
      "INFO:geometry:Neglected angle terms : []\n",
      "INFO:geometry:omitted_growth_terms: {'bonds': [], 'angles': [], 'torsions': [], '1,4s': []}\n",
      "INFO:geometry:extra torsions: {0: (7, 6, 8, 10, [1, Quantity(value=0.9799661941737812, unit=radian), Quantity(value=1200.0, unit=kilocalorie/mole), 1]), 1: (6, 8, 10, 11, [1, Quantity(value=2.105358864604291, unit=radian), Quantity(value=1200.0, unit=kilocalorie/mole), 2]), 2: (6, 8, 10, 12, [1, Quantity(value=-2.0823006129211796, unit=radian), Quantity(value=1200.0, unit=kilocalorie/mole), 4]), 3: (6, 8, 10, 13, [1, Quantity(value=0.018582237407944735, unit=radian), Quantity(value=1200.0, unit=kilocalorie/mole), 3]), 4: (14, 8, 10, 11, [1, Quantity(value=-0.036945135932107576, unit=radian), Quantity(value=1200.0, unit=kilocalorie/mole), 2]), 5: (14, 8, 10, 12, [1, Quantity(value=2.0585806937220097, unit=radian), Quantity(value=1200.0, unit=kilocalorie/mole), 4]), 6: (14, 8, 10, 13, [1, Quantity(value=-2.1237217631284597, unit=radian), Quantity(value=1200.0, unit=kilocalorie/mole), 3]), 7: (9, 8, 10, 11, [1, Quantity(value=-2.119603470065817, unit=radian), Quantity(value=1200.0, unit=kilocalorie/mole), 2]), 8: (9, 8, 10, 12, [1, Quantity(value=-0.024077640411697132, unit=radian), Quantity(value=1200.0, unit=kilocalorie/mole), 4]), 9: (9, 8, 10, 13, [1, Quantity(value=2.0768052099174152, unit=radian), Quantity(value=1200.0, unit=kilocalorie/mole), 3])}\n",
      "INFO:geometry:neglected angle terms include []\n",
      "INFO:geometry:log probability choice of torsions and atom order: -5.78074351579233\n",
      "INFO:geometry:creating platform, integrators, and contexts; setting growth parameter\n"
     ]
    },
    {
     "name": "stdout",
     "output_type": "stream",
     "text": [
      "conducting subsequent work with the following platform: CUDA\n"
     ]
    },
    {
     "name": "stderr",
     "output_type": "stream",
     "text": [
      "INFO:geometry:setting atoms_with_positions context old positions\n"
     ]
    },
    {
     "name": "stdout",
     "output_type": "stream",
     "text": [
      "conducting subsequent work with the following platform: CUDA\n"
     ]
    },
    {
     "name": "stderr",
     "output_type": "stream",
     "text": [
      "INFO:geometry:There are 4 new atoms\n",
      "INFO:geometry:\treduced angle potential = 0.3517324280898812.\n",
      "INFO:geometry:\treduced angle potential = 1.2915588460963948e-10.\n",
      "INFO:geometry:\treduced angle potential = 7.39096069988752e-11.\n",
      "INFO:geometry:\treduced angle potential = 3.2058324695160406e-13.\n",
      "INFO:geometry:\tbeginning construction of no_nonbonded final system...\n",
      "INFO:geometry:\tinitial no-nonbonded final system forces ['HarmonicBondForce', 'HarmonicAngleForce', 'PeriodicTorsionForce', 'NonbondedForce', 'MonteCarloBarostat']\n",
      "INFO:geometry:\tfinal no-nonbonded final system forces dict_keys(['HarmonicBondForce', 'HarmonicAngleForce', 'PeriodicTorsionForce', 'NonbondedForce'])\n",
      "INFO:geometry:\tthere are 9 bond forces in the no-nonbonded final system\n",
      "INFO:geometry:\tthere are 36 angle forces in the no-nonbonded final system\n",
      "INFO:geometry:\tthere are 42 torsion forces in the no-nonbonded final system\n",
      "INFO:geometry:reverse final system defined with 0 neglected angles.\n"
     ]
    },
    {
     "name": "stdout",
     "output_type": "stream",
     "text": [
      "conducting subsequent work with the following platform: CUDA\n",
      "conducting subsequent work with the following platform: CUDA\n"
     ]
    },
    {
     "name": "stderr",
     "output_type": "stream",
     "text": [
      "INFO:geometry:total reduced potential before atom placement: 9.11648114171204\n"
     ]
    },
    {
     "name": "stdout",
     "output_type": "stream",
     "text": [
      "conducting subsequent work with the following platform: CUDA\n",
      "conducting subsequent work with the following platform: CUDA\n",
      "conducting subsequent work with the following platform: CUDA\n"
     ]
    },
    {
     "name": "stderr",
     "output_type": "stream",
     "text": [
      "INFO:geometry:total reduced energy added from growth system: 20.672986687678176\n",
      "INFO:geometry:final reduced energy 29.78946596595156\n",
      "INFO:geometry:sum of energies: 29.789467829390215\n",
      "INFO:geometry:magnitude of difference in the energies: 1.8634386549365445e-06\n",
      "INFO:geometry:Final logp_proposal: -27056.246626179214\n"
     ]
    },
    {
     "name": "stdout",
     "output_type": "stream",
     "text": [
      "added energy components: [('CustomBondForce', 0.000520203927326505), ('CustomAngleForce', 0.4511197756248138), ('CustomTorsionForce', 7.250463344085812), ('CustomBondForce', 12.970883364040223)]\n"
     ]
    },
    {
     "name": "stderr",
     "output_type": "stream",
     "text": [
      "INFO:relative:*** Generating RepartitionedHybridTopologyFactory ***\n",
      "INFO:relative:Old system forces: dict_keys(['HarmonicBondForce', 'HarmonicAngleForce', 'PeriodicTorsionForce', 'NonbondedForce', 'MonteCarloBarostat'])\n",
      "INFO:relative:New system forces: dict_keys(['HarmonicBondForce', 'HarmonicAngleForce', 'PeriodicTorsionForce', 'NonbondedForce', 'MonteCarloBarostat'])\n",
      "INFO:relative:No unknown forces.\n",
      "INFO:relative:Nonbonded method to be used (i.e. from old system): 4\n",
      "INFO:relative:Adding and mapping old atoms to hybrid system...\n",
      "INFO:relative:Adding and mapping new atoms to hybrid system...\n",
      "INFO:relative:Added MonteCarloBarostat.\n",
      "INFO:relative:getDefaultPeriodicBoxVectors added to hybrid: [Quantity(value=Vec3(x=2.56477354, y=0.0, z=0.0), unit=nanometer), Quantity(value=Vec3(x=0.0, y=2.56477354, z=0.0), unit=nanometer), Quantity(value=Vec3(x=0.0, y=0.0, z=2.56477354), unit=nanometer)]\n",
      "INFO:relative:Determined atom classes.\n",
      "INFO:relative:Generating old system exceptions dict...\n",
      "INFO:relative:Generating new system exceptions dict...\n",
      "INFO:relative:Handling constraints...\n",
      "INFO:relative:Handling virtual sites...\n",
      "INFO:relative:\t_handle_virtual_sites: numVirtualSites: 0\n",
      "INFO:relative:\t_add_nonbonded_force_terms: <simtk.openmm.openmm.NonbondedForce; proxy of <Swig Object of type 'OpenMM::NonbondedForce *' at 0x2ae2c003dc90> > added to hybrid system\n",
      "INFO:relative:\t_add_nonbonded_force_terms: nonbonded_method is PME or Ewald\n",
      "INFO:relative:\t_add_nonbonded_force_terms: 4 added to standard nonbonded force\n",
      "INFO:relative:\t_add_nonbonded_force_terms: 2 added to sterics_custom_nonbonded force\n"
     ]
    }
   ],
   "source": [
    "# Set temperatures\n",
    "T_min = 300.0 * unit.kelvin\n",
    "T = 1200 * unit.kelvin\n",
    "\n",
    "# Create repartitioned hybrid system for lambda 0 endstate\n",
    "atp, system_generator = generate_atp(phase='solvent')\n",
    "htf = generate_dipeptide_top_pos_sys(atp.topology,\n",
    "                                     new_res='THR',\n",
    "                                     system=atp.system,\n",
    "                                     positions=atp.positions,\n",
    "                                     system_generator=system_generator,\n",
    "                                     conduct_htf_prop=True,\n",
    "                                     repartitioned=True,\n",
    "                                     endstate=0,\n",
    "                                     validate_endstate_energy=False)\n",
    "system = htf.hybrid_system\n",
    "\n"
   ]
  },
  {
   "cell_type": "code",
   "execution_count": 5,
   "id": "9b34f124",
   "metadata": {},
   "outputs": [
    {
     "name": "stderr",
     "output_type": "stream",
     "text": [
      "INFO:REST:Added MonteCarloBarostat.\n",
      "INFO:REST:getDefaultPeriodicBoxVectors added to hybrid: [Quantity(value=Vec3(x=2.56477354, y=0.0, z=0.0), unit=nanometer), Quantity(value=Vec3(x=0.0, y=2.56477354, z=0.0), unit=nanometer), Quantity(value=Vec3(x=0.0, y=0.0, z=2.56477354), unit=nanometer)]\n",
      "INFO:REST:No unknown forces.\n"
     ]
    }
   ],
   "source": [
    "# Build REST factory\n",
    "for res in htf.hybrid_topology.residues:\n",
    "    if res.resSeq == 2 and res.chain.index == 0:\n",
    "        mutated_res = res\n",
    "query_indices = [atom.index for atom in mutated_res.atoms]\n",
    "traj = md.Trajectory(np.array(htf.hybrid_positions), htf.hybrid_topology)\n",
    "solute_atoms = list(traj.topology.select(\"is_protein\"))\n",
    "radius = 0.3\n",
    "rest_atoms = list(md.compute_neighbors(traj, radius, query_indices, haystack_indices=solute_atoms)[0])\n",
    "factory = RESTTopologyFactory(htf.hybrid_system, rest_atoms, use_dispersion_correction=True)"
   ]
  },
  {
   "cell_type": "code",
   "execution_count": 6,
   "id": "3f9b02c3",
   "metadata": {},
   "outputs": [],
   "source": [
    "# Get REST system\n",
    "REST_system = factory.REST_system\n",
    "\n",
    "# Create states for each replica\n",
    "n_replicas = 12  # Number of temperature replicas.\n",
    "T_min = 300.0 * unit.kelvin  # Minimum temperature.\n",
    "T_max = 1200 * unit.kelvin  # Maximum temperature.\n",
    "temperatures = [T_min + (T_max - T_min) * (math.exp(float(i) / float(n_replicas-1)) - 1.0) / (math.e - 1.0)\n",
    "                for i in range(n_replicas)]\n",
    "\n",
    "# Create reference thermodynamic state\n",
    "lambda_zero_alchemical_state = RESTState.from_system(REST_system)\n",
    "thermostate = ThermodynamicState(REST_system, temperature=T_min)\n",
    "compound_thermodynamic_state = CompoundThermodynamicState(thermostate, composable_states=[lambda_zero_alchemical_state])"
   ]
  },
  {
   "cell_type": "code",
   "execution_count": 7,
   "id": "108cb456",
   "metadata": {},
   "outputs": [
    {
     "data": {
      "text/plain": [
       "[<simtk.openmm.openmm.MonteCarloBarostat; proxy of <Swig Object of type 'OpenMM::MonteCarloBarostat *' at 0x2ae2afd36b40> >,\n",
       " <simtk.openmm.openmm.CustomBondForce; proxy of <Swig Object of type 'OpenMM::CustomBondForce *' at 0x2ae2afd36960> >,\n",
       " <simtk.openmm.openmm.CustomAngleForce; proxy of <Swig Object of type 'OpenMM::CustomAngleForce *' at 0x2ae2afd36c30> >,\n",
       " <simtk.openmm.openmm.CustomTorsionForce; proxy of <Swig Object of type 'OpenMM::CustomTorsionForce *' at 0x2ae2afd36f00> >,\n",
       " <simtk.openmm.openmm.NonbondedForce; proxy of <Swig Object of type 'OpenMM::NonbondedForce *' at 0x2ae2afd36db0> >]"
      ]
     },
     "execution_count": 7,
     "metadata": {},
     "output_type": "execute_result"
    }
   ],
   "source": [
    "REST_system.getForces()"
   ]
  },
  {
   "cell_type": "code",
   "execution_count": 8,
   "id": "debef03c",
   "metadata": {},
   "outputs": [],
   "source": [
    "# Create thermodynamics states\n",
    "sampler_state =  SamplerState(htf.hybrid_positions, box_vectors=htf.hybrid_system.getDefaultPeriodicBoxVectors())\n",
    "beta_0 = 1/(kB*T_min)\n",
    "thermodynamic_state_list = []\n",
    "sampler_state_list = []\n",
    "for temperature in temperatures:\n",
    "    beta_m = 1/(kB*temperature)\n",
    "    compound_thermodynamic_state_copy = copy.deepcopy(compound_thermodynamic_state)\n",
    "    compound_thermodynamic_state_copy.set_alchemical_parameters(beta_0, beta_m)\n",
    "    thermodynamic_state_list.append(compound_thermodynamic_state_copy)\n",
    "\n",
    "    # now generating a sampler_state for each thermodynamic state, with relaxed positions\n",
    "    # context, context_integrator = context_cache.get_context(compound_thermodynamic_state_copy)\n",
    "    feptasks.minimize(compound_thermodynamic_state_copy, sampler_state, max_iterations=0)\n",
    "    sampler_state_list.append(copy.deepcopy(sampler_state))\n"
   ]
  },
  {
   "cell_type": "code",
   "execution_count": 9,
   "id": "ec6acbf5",
   "metadata": {
    "scrolled": true
   },
   "outputs": [
    {
     "data": {
      "text/plain": [
       "[<simtk.openmm.openmm.CustomBondForce; proxy of <Swig Object of type 'OpenMM::CustomBondForce *' at 0x2ae2c0b119f0> >,\n",
       " <simtk.openmm.openmm.CustomAngleForce; proxy of <Swig Object of type 'OpenMM::CustomAngleForce *' at 0x2ae29e5c5d80> >,\n",
       " <simtk.openmm.openmm.CustomTorsionForce; proxy of <Swig Object of type 'OpenMM::CustomTorsionForce *' at 0x2ae29e5c5fc0> >,\n",
       " <simtk.openmm.openmm.NonbondedForce; proxy of <Swig Object of type 'OpenMM::NonbondedForce *' at 0x2ae29e5c5cf0> >,\n",
       " <simtk.openmm.openmm.AndersenThermostat; proxy of <Swig Object of type 'OpenMM::AndersenThermostat *' at 0x2ae29e4f1cf0> >,\n",
       " <simtk.openmm.openmm.MonteCarloBarostat; proxy of <Swig Object of type 'OpenMM::MonteCarloBarostat *' at 0x2ae29e4f1e10> >]"
      ]
     },
     "execution_count": 9,
     "metadata": {},
     "output_type": "execute_result"
    }
   ],
   "source": [
    "thermodynamic_state_list[0].get_system().getForces()"
   ]
  },
  {
   "cell_type": "code",
   "execution_count": 10,
   "id": "d66e0fa3",
   "metadata": {},
   "outputs": [],
   "source": [
    "context_cache = cache.global_context_cache"
   ]
  },
  {
   "cell_type": "code",
   "execution_count": 11,
   "id": "f8663a68",
   "metadata": {},
   "outputs": [],
   "source": [
    "integrator = openmmtools.integrators.LangevinIntegrator(temperature=300 * unit.kelvin,\n",
    "                                              collision_rate=1 / unit.picoseconds,\n",
    "                                              timestep= 4 * unit.femtoseconds)"
   ]
  },
  {
   "cell_type": "code",
   "execution_count": 12,
   "id": "27d4105b",
   "metadata": {},
   "outputs": [],
   "source": [
    "context, integrator = context_cache.get_context(thermodynamic_state_list[-1], integrator)\n"
   ]
  },
  {
   "cell_type": "code",
   "execution_count": 13,
   "id": "1e14b1c5",
   "metadata": {},
   "outputs": [
    {
     "data": {
      "text/plain": [
       "'CUDA'"
      ]
     },
     "execution_count": 13,
     "metadata": {},
     "output_type": "execute_result"
    }
   ],
   "source": [
    "context.getPlatform().getName()"
   ]
  },
  {
   "cell_type": "code",
   "execution_count": 14,
   "id": "c033d157",
   "metadata": {},
   "outputs": [],
   "source": [
    "sampler_state_list[-1].apply_to_context(context)"
   ]
  },
  {
   "cell_type": "code",
   "execution_count": 15,
   "id": "b9a96dba",
   "metadata": {},
   "outputs": [
    {
     "name": "stderr",
     "output_type": "stream",
     "text": [
      "<ipython-input-15-43269e18d264>:3: TqdmDeprecationWarning: This function will be removed in tqdm==5.0.0\n",
      "Please use `tqdm.notebook.tqdm` instead of `tqdm.tqdm_notebook`\n",
      "  for _ in tqdm_notebook(range(int(125000/250))):\n"
     ]
    },
    {
     "data": {
      "application/vnd.jupyter.widget-view+json": {
       "model_id": "49a5aa6c3d5c4d258c003ce376d1bc87",
       "version_major": 2,
       "version_minor": 0
      },
      "text/plain": [
       "  0%|          | 0/500 [00:00<?, ?it/s]"
      ]
     },
     "metadata": {},
     "output_type": "display_data"
    }
   ],
   "source": [
    "old, new = list(), list()\n",
    "energies = list()\n",
    "for _ in tqdm_notebook(range(int(125000/250))):\n",
    "    integrator.step(250)\n",
    "    \n",
    "    energy = context.getState(getEnergy=True).getPotentialEnergy()\n",
    "    energies.append(energy.value_in_unit_system(unit.md_unit_system))\n",
    "    pos = context.getState(getPositions=True, enforcePeriodicBox=False).getPositions(asNumpy=True)\n",
    "    old_pos = np.asarray(htf.old_positions(pos))\n",
    "    new_pos = np.asarray(htf.new_positions(pos))\n",
    "    old.append(old_pos)\n",
    "    new.append(new_pos)"
   ]
  },
  {
   "cell_type": "code",
   "execution_count": 16,
   "id": "e606a11a",
   "metadata": {},
   "outputs": [],
   "source": [
    "with open(\"old_ala_solvent_vanilla_rest_1200.npy\", 'wb') as f:\n",
    "    np.save(f, old)\n",
    "with open(\"new_ala_solvent_vanilla_rest_1200.npy\", 'wb') as f:\n",
    "    np.save(f, new)\n",
    "with open(\"energies_ala_solvent_vanilla_rest_1200.npy\", 'wb') as f:\n",
    "    np.save(f, energies)"
   ]
  },
  {
   "cell_type": "code",
   "execution_count": 17,
   "id": "31754a9f",
   "metadata": {},
   "outputs": [],
   "source": [
    "import mdtraj as md"
   ]
  },
  {
   "cell_type": "code",
   "execution_count": 18,
   "id": "ce1f57dc",
   "metadata": {},
   "outputs": [],
   "source": [
    "traj = md.Trajectory(np.array(old), md.Topology.from_openmm(htf._topology_proposal.old_topology))\n",
    "traj.save(\"old_ala_solvent_vanilla_rest_1200.dcd\")\n",
    "traj[0].save(\"old_ala_solvent_vanilla_rest_1200.pdb\")"
   ]
  },
  {
   "cell_type": "code",
   "execution_count": 19,
   "id": "245211e4",
   "metadata": {},
   "outputs": [
    {
     "name": "stderr",
     "output_type": "stream",
     "text": [
      "DEBUG:matplotlib:matplotlib data path: /home/zhangi/miniconda3/envs/perses-rest2v2/lib/python3.8/site-packages/matplotlib/mpl-data\n",
      "DEBUG:matplotlib:CONFIGDIR=/home/zhangi/.config/matplotlib\n",
      "DEBUG:matplotlib:matplotlib version 3.4.2\n",
      "DEBUG:matplotlib:interactive is False\n",
      "DEBUG:matplotlib:platform is linux\n",
      "DEBUG:matplotlib:loaded modules: ['sys', 'builtins', '_frozen_importlib', '_imp', '_warnings', '_io', 'marshal', 'posix', '_frozen_importlib_external', '_thread', '_weakref', 'time', 'zipimport', '_codecs', 'codecs', 'encodings.aliases', 'encodings', 'encodings.utf_8', '_signal', '__main__', 'encodings.latin_1', '_abc', 'abc', 'io', '_stat', 'stat', '_collections_abc', 'genericpath', 'posixpath', 'os.path', 'os', '_sitebuiltins', '_locale', '_bootlocale', 'types', 'importlib._bootstrap', 'importlib._bootstrap_external', 'warnings', 'importlib', 'importlib.machinery', 'importlib.abc', '_operator', 'operator', 'keyword', '_heapq', 'heapq', 'itertools', 'reprlib', '_collections', 'collections', '_functools', 'functools', 'contextlib', 'importlib.util', 'mpl_toolkits', 'sphinxcontrib', 'sitecustomize', 'site', '_weakrefset', 'weakref', 'pkgutil', 'runpy', 'ipykernel._version', 'enum', '_sre', 'sre_constants', 'sre_parse', 'sre_compile', 'copyreg', 're', '_json', 'json.scanner', 'json.decoder', 'json.encoder', 'json', 'errno', 'signal', 'threading', '_posixsubprocess', 'select', 'collections.abc', 'math', 'selectors', 'subprocess', 'IPython.core', 'IPython.core.getipython', 'IPython.core.release', 'atexit', 'copy', 'fnmatch', 'glob', 'token', 'tokenize', 'linecache', 'traceback', '_string', 'string', 'logging', 'zlib', '_compression', '_bz2', 'bz2', '_lzma', 'lzma', 'pwd', 'grp', 'shutil', '_ast', 'ast', '_opcode', 'opcode', 'dis', 'inspect', 'traitlets.utils', 'traitlets.utils.getargspec', 'traitlets.utils.importstring', 'traitlets.utils.sentinel', 'traitlets.utils.bunch', 'traitlets.utils.descriptions', 'traitlets.traitlets', 'traitlets.utils.decorators', 'traitlets._version', 'traitlets', 'pprint', 'locale', 'gettext', 'argparse', 'ipython_genutils._version', 'ipython_genutils', '_bisect', 'bisect', '_sha512', '_random', 'random', 'ipython_genutils.encoding', 'platform', 'ipython_genutils.py3compat', 'ipython_genutils.path', 'traitlets.config.loader', 'textwrap', 'ipython_genutils.text', 'traitlets.config.configurable', 'traitlets.config.application', 'traitlets.config', 'sysconfig', 'urllib', 'urllib.parse', '_sysconfigdata__linux_x86_64-linux-gnu', 'pydoc', 'bdb', 'IPython.utils', 'IPython.utils.ipstruct', 'IPython.utils.coloransi', 'pygments', 'IPython.utils.colorable', 'IPython.utils.PyColorize', 'IPython.utils.encoding', 'IPython.utils.py3compat', 'IPython.core.excolors', 'IPython.testing', 'IPython.testing.skipdoctest', 'cmd', '__future__', 'codeop', 'code', 'pdb', 'IPython.core.debugger', 'IPython.core.display_trap', 'pexpect.exceptions', 'pexpect.utils', 'pexpect.expect', 'termios', 'tty', 'pty', 'fcntl', 'resource', '_struct', 'struct', 'ptyprocess.util', 'ptyprocess.ptyprocess', 'ptyprocess', 'pexpect.spawnbase', 'pexpect.pty_spawn', 'pexpect.run', 'pexpect', 'shlex', 'IPython.utils._process_common', 'IPython.utils._process_posix', 'IPython.utils.process', 'IPython.utils.decorators', 'IPython.utils.path', 'IPython.utils.data', 'IPython.utils.terminal', 'IPython.core.ultratb', 'IPython.utils._sysinfo', 'IPython.utils.sysinfo', 'IPython.core.crashhandler', 'tempfile', 'IPython.utils.importstring', 'IPython.paths', 'IPython.core.profiledir', 'IPython.core.application', 'IPython.terminal', '_hashlib', '_blake2', '_sha3', 'hashlib', 'IPython.core.compilerop', 'IPython.core.error', 'ntpath', 'pathlib', 'IPython.utils.text', 'IPython.core.magic_arguments', 'getopt', 'typing.io', 'typing.re', 'typing', 'binascii', 'mimetypes', 'IPython.core.display', 'IPython.core.page', 'getpass', 'IPython.lib.security', 'IPython.lib', '_datetime', 'datetime', 'IPython.lib.pretty', 'IPython.utils.openpy', 'IPython.utils.dir2', 'IPython.utils.wildcard', 'pygments.lexers._mapping', 'pygments.modeline', 'pygments.plugin', 'pygments.util', 'pygments.lexers', 'pygments.filter', 'pygments.token', 'pygments.filters', 'pygments.regexopt', 'pygments.lexer', 'pygments.unistring', 'pygments.lexers.python', 'pygments.formatters._mapping', 'pygments.formatters', 'pygments.styles', 'pygments.formatter', 'pygments.formatters.html', 'IPython.core.oinspect', 'IPython.core.inputtransformer2', 'decorator', 'IPython.core.magic', '_compat_pickle', '_pickle', 'pickle', 'pickleshare', 'IPython.core.autocall', 'IPython.core.macro', 'IPython.core.splitinput', 'IPython.core.prefilter', 'IPython.core.alias', 'IPython.core.builtin_trap', 'backcall.backcall', 'backcall', 'IPython.core.events', 'IPython.core.displayhook', 'IPython.core.displaypub', 'IPython.core.extensions', 'IPython.utils.sentinel', 'IPython.core.formatters', '_sqlite3', 'sqlite3.dbapi2', 'sqlite3', 'IPython.core.history', 'IPython.core.logger', 'IPython.core.payload', 'IPython.core.usage', 'html.entities', 'html', 'IPython.lib.display', 'IPython.display', 'IPython.utils.capture', 'IPython.utils.io', 'IPython.core.hooks', 'IPython.utils.strdispatch', 'IPython.utils.syspathcontext', 'IPython.utils.tempdir', 'IPython.utils.contexts', 'IPython.core.async_helpers', 'IPython.core.interactiveshell', 'concurrent', 'concurrent.futures._base', 'concurrent.futures', '_socket', 'socket', '_ssl', 'base64', 'ssl', 'asyncio.constants', 'asyncio.format_helpers', 'asyncio.base_futures', 'asyncio.log', 'asyncio.coroutines', '_contextvars', 'contextvars', 'asyncio.exceptions', 'asyncio.base_tasks', '_asyncio', 'asyncio.events', 'asyncio.futures', 'asyncio.protocols', 'asyncio.transports', 'asyncio.sslproto', 'asyncio.locks', 'asyncio.tasks', 'asyncio.staggered', 'asyncio.trsock', 'asyncio.base_events', 'asyncio.runners', 'asyncio.queues', 'asyncio.streams', 'asyncio.subprocess', 'asyncio.base_subprocess', 'asyncio.selector_events', 'asyncio.unix_events', 'asyncio', 'prompt_toolkit.application.current', 'prompt_toolkit.eventloop.utils', 'prompt_toolkit.eventloop.async_generator', 'wcwidth.table_wide', 'wcwidth.table_zero', 'wcwidth.unicode_versions', 'wcwidth.wcwidth', 'wcwidth', 'prompt_toolkit.utils', 'prompt_toolkit.eventloop.inputhook', 'prompt_toolkit.eventloop', 'prompt_toolkit.application.run_in_terminal', 'prompt_toolkit.selection', 'prompt_toolkit.clipboard.base', 'prompt_toolkit.clipboard.in_memory', 'prompt_toolkit.clipboard', 'prompt_toolkit.cache', 'prompt_toolkit.enums', 'prompt_toolkit.filters.base', 'prompt_toolkit.filters.app', 'prompt_toolkit.filters.cli', 'prompt_toolkit.filters.utils', 'prompt_toolkit.filters', 'prompt_toolkit.document', 'prompt_toolkit.auto_suggest', 'prompt_toolkit.data_structures', 'prompt_toolkit.styles.base', 'prompt_toolkit.styles.named_colors', 'prompt_toolkit.styles.style', 'prompt_toolkit.styles.defaults', 'prompt_toolkit.styles.pygments', 'colorsys', 'prompt_toolkit.styles.style_transformation', 'prompt_toolkit.styles', 'prompt_toolkit.output.color_depth', 'prompt_toolkit.output.base', 'prompt_toolkit.output.defaults', 'prompt_toolkit.output', 'array', 'prompt_toolkit.output.vt100', 'prompt_toolkit.mouse_events', 'prompt_toolkit.formatted_text.base', 'prompt_toolkit.formatted_text.ansi', 'xml', 'xml.dom.domreg', 'xml.dom', 'xml.dom.minicompat', 'xml.dom.NodeFilter', 'xml.dom.xmlbuilder', 'xml.dom.minidom', 'prompt_toolkit.formatted_text.html', 'prompt_toolkit.formatted_text.pygments', 'prompt_toolkit.formatted_text.utils', 'prompt_toolkit.formatted_text', 'prompt_toolkit.completion.base', 'prompt_toolkit.completion.deduplicate', 'prompt_toolkit.completion.filesystem', 'prompt_toolkit.completion.word_completer', 'prompt_toolkit.completion.fuzzy_completer', 'prompt_toolkit.completion.nested', 'prompt_toolkit.completion', 'prompt_toolkit.history', 'prompt_toolkit.keys', 'prompt_toolkit.key_binding.key_bindings', 'prompt_toolkit.key_binding.key_processor', 'prompt_toolkit.key_binding', 'prompt_toolkit.key_binding.vi_state', 'prompt_toolkit.search', 'prompt_toolkit.validation', 'prompt_toolkit.buffer', 'prompt_toolkit.input.base', 'prompt_toolkit.input.defaults', 'prompt_toolkit.input', 'prompt_toolkit.input.typeahead', 'prompt_toolkit.key_binding.bindings', 'prompt_toolkit.key_binding.bindings.scroll', 'prompt_toolkit.key_binding.bindings.page_navigation', 'prompt_toolkit.lexers.base', 'prompt_toolkit.lexers.pygments', 'prompt_toolkit.lexers', 'prompt_toolkit.layout.utils', 'prompt_toolkit.layout.processors', 'prompt_toolkit.layout.controls', 'prompt_toolkit.layout.dimension', 'prompt_toolkit.layout.margins', 'prompt_toolkit.layout.mouse_handlers', 'prompt_toolkit.layout.screen', 'prompt_toolkit.layout.containers', 'prompt_toolkit.layout.layout', 'prompt_toolkit.layout.menus', 'prompt_toolkit.layout.scrollable_pane', 'prompt_toolkit.layout', 'prompt_toolkit.key_binding.bindings.completion', 'prompt_toolkit.key_binding.bindings.named_commands', 'prompt_toolkit.key_binding.bindings.basic', 'prompt_toolkit.key_binding.bindings.cpr', 'prompt_toolkit.key_binding.bindings.emacs', 'prompt_toolkit.key_binding.bindings.mouse', 'prompt_toolkit.input.ansi_escape_sequences', 'prompt_toolkit.input.vt100_parser', 'prompt_toolkit.key_binding.digraphs', 'prompt_toolkit.key_binding.bindings.vi', 'prompt_toolkit.key_binding.defaults', 'prompt_toolkit.key_binding.emacs_state', 'prompt_toolkit.layout.dummy', 'prompt_toolkit.renderer', 'prompt_toolkit.application.application', 'prompt_toolkit.application.dummy', 'prompt_toolkit.application', 'prompt_toolkit.key_binding.bindings.focus', 'prompt_toolkit.widgets.toolbars', 'prompt_toolkit.widgets.base', 'prompt_toolkit.widgets.dialogs', 'prompt_toolkit.widgets.menus', 'prompt_toolkit.widgets', 'prompt_toolkit.shortcuts.dialogs', 'prompt_toolkit.shortcuts.progress_bar.formatters', 'prompt_toolkit.shortcuts.progress_bar.base', 'prompt_toolkit.shortcuts.progress_bar', 'prompt_toolkit.key_binding.bindings.auto_suggest', 'prompt_toolkit.key_binding.bindings.open_in_editor', 'prompt_toolkit.shortcuts.prompt', 'prompt_toolkit.shortcuts.utils', 'prompt_toolkit.shortcuts', 'prompt_toolkit', '_queue', 'queue', 'prompt_toolkit.patch_stdout', 'pygments.style', 'unicodedata', 'IPython.core.latex_symbols', 'IPython.utils.generics', 'parso.utils', 'parso.tree', 'parso.python', 'parso.python.token', 'parso.python.tokenize', 'parso.pgen2.grammar_parser', 'parso.pgen2.generator', 'parso.pgen2', 'parso.parser', 'parso._compatibility', 'difflib', 'parso.python.prefix', 'parso.python.tree', 'parso.python.parser', 'parso.python.diff', 'gc', 'parso.cache', 'parso.normalizer', 'parso.python.errors', 'parso.python.pep8', 'parso.file_io', 'parso.grammar', 'parso', 'jedi._compatibility', 'jedi.parser_utils', 'colorama.ansi', '_ctypes', 'ctypes._endian', 'ctypes', 'colorama.win32', 'colorama.winterm', 'colorama.ansitowin32', 'colorama.initialise', 'colorama', 'jedi.debug', 'jedi.settings', 'jedi.cache', 'jedi.file_io', 'jedi.inference.cache', 'jedi.inference.helpers', 'jedi.inference.utils', 'jedi.inference.base_value', 'jedi.inference.sys_path', 'jedi.inference.recursion', 'jedi.inference.flow_analysis', 'jedi.common', 'jedi.inference.lazy_value', 'jedi.inference.docstrings', 'jedi.plugins', 'jedi.inference.names', 'jedi.inference.filters', 'jedi.inference.compiled.getattr_static', 'jedi.inference.compiled.access', 'jedi.inference.signature', 'jedi.inference.context', 'jedi.inference.compiled.value', 'jedi.inference.compiled', 'jedi.inference.analysis', 'jedi.inference.gradual', 'jedi.inference.value.module', 'jedi.inference.value.dynamic_arrays', 'jedi.inference.value.iterable', 'jedi.inference.arguments', 'jedi.inference.parser_cache', 'jedi.inference.gradual.generics', 'jedi.inference.value.function', 'jedi.inference.value.klass', 'jedi.inference.value.instance', 'jedi.inference.value', 'jedi.inference.gradual.base', 'jedi.inference.gradual.type_var', 'jedi.inference.gradual.typing', 'jedi.inference.gradual.stub_value', 'jedi.inference.gradual.typeshed', 'jedi.inference.compiled.subprocess.functions', 'jedi.api.exceptions', 'jedi.inference.compiled.subprocess', 'jedi.inference.imports', 'jedi.inference.param', 'jedi.inference.gradual.annotation', 'jedi.inference.value.decorator', 'jedi.inference.syntax_tree', 'jedi.inference', 'jedi.inference.gradual.conversion', 'jedi.inference.compiled.mixed', 'pydoc_data', 'pydoc_data.topics', 'jedi.api.keywords', 'jedi.api.completion_cache', 'jedi.api.helpers', 'jedi.api.classes', 'jedi.api.interpreter', 'jedi.api.strings', 'jedi.api.file_name', 'jedi.api.completion', 'filecmp', 'jedi.api.environment', 'jedi.inference.references', 'jedi.api.project', 'jedi.api.errors', 'jedi.api.refactoring', 'jedi.api.refactoring.extract', 'jedi.inference.gradual.utils', 'jedi.api', 'jedi.plugins.stdlib', 'jedi.plugins.flask', 'jedi.plugins.pytest', 'jedi.plugins.django', 'jedi.plugins.registry', 'jedi', 'IPython.core.completer', 'IPython.terminal.ptutils', 'IPython.terminal.shortcuts', 'IPython.terminal.debugger', 'IPython.lib.clipboard', 'IPython.terminal.magics', 'IPython.terminal.pt_inputhooks', 'IPython.terminal.prompts', 'IPython.terminal.interactiveshell', 'IPython.core.magics.auto', 'IPython.core.magics.basic', 'email', 'http', 'email.errors', 'email.quoprimime', 'email.base64mime', 'quopri', 'email.encoders', 'email.charset', 'email.header', 'calendar', 'email._parseaddr', 'email.utils', 'email._policybase', 'email.feedparser', 'email.parser', 'uu', 'email._encoded_words', 'email.iterators', 'email.message', 'http.client', 'urllib.response', 'urllib.error', 'urllib.request', 'IPython.core.magics.code', 'IPython.core.magics.config', 'IPython.core.magics.display', 'timeit', '_lsprof', 'profile', 'cProfile', 'pstats', 'IPython.utils.module_paths', 'IPython.utils.timing', 'IPython.core.magics.execution', 'IPython.core.magics.extension', 'IPython.core.magics.history', 'IPython.core.magics.logging', 'IPython.core.magics.namespace', 'IPython.core.magics.osm', 'IPython.core.magics.packaging', 'IPython.core.pylabtools', 'IPython.core.magics.pylab', 'IPython.lib.backgroundjobs', 'IPython.core.magics.script', 'IPython.core.magics', 'IPython.core.shellapp', 'IPython.extensions', 'IPython.extensions.storemagic', 'IPython.terminal.ipapp', 'IPython.terminal.embed', 'IPython.utils.frame', 'IPython', 'jupyter_client._version', 'zmq.backend.select', 'cython_runtime', 'zmq.backend.cython.constants', '_cython_0_29_21', 'zmq.backend.cython.error', 'zmq.error', 'zmq.backend.cython.message', 'zmq.backend.cython.context', 'zmq.backend.cython.socket', 'zmq.backend.cython.utils', 'zmq.backend.cython._poll', 'zmq.backend.cython._version', 'zmq.backend.cython._device', 'zmq.backend.cython._proxy_steerable', 'zmq.backend.cython', 'zmq.backend', 'zmq.utils', 'zmq.utils.constant_names', 'zmq.sugar.constants', 'zmq.sugar.attrsettr', 'zmq.sugar.poll', 'zmq.utils.strtypes', 'zmq.utils.jsonapi', 'zmq.sugar.socket', 'zmq.sugar.context', 'zmq.sugar.frame', 'zmq.sugar.tracker', 'zmq.sugar.version', 'zmq.sugar.stopwatch', 'zmq.sugar', 'zmq', 'jupyter_client.localinterfaces', 'jupyter_core.version', 'jupyter_core', 'jupyter_core.paths', 'jupyter_client.utils', 'jupyter_client.connect', 'traitlets.log', 'jupyter_client.launcher', 'jupyter_client.channelsabc', 'jupyter_client.channels', 'jupyter_client.clientabc', 'jupyter_client.client', 'jupyter_client.kernelspec', 'jupyter_client.managerabc', 'jupyter_client.manager', 'jupyter_client.blocking.channels', 'jupyter_client.blocking.client', 'jupyter_client.blocking', 'zmq._future', 'zmq.asyncio', 'jupyter_client.asynchronous.channels', 'jupyter_client.asynchronous.client', 'jupyter_client.asynchronous', 'uuid', 'jupyter_client.multikernelmanager', 'jupyter_client', 'ipykernel.connect', 'ipykernel', 'tornado', 'numbers', 'logging.handlers', 'tornado.speedups', 'tornado.util', 'tornado.escape', '_curses', 'curses', 'tornado.log', 'tornado.concurrent', 'tornado.ioloop', 'tornado.platform', 'tornado.gen', 'tornado.platform.asyncio', 'zmq.eventloop.ioloop', 'zmq.eventloop', 'zmq.eventloop.zmqstream', 'ipython_genutils.importstring', 'imp', 'hmac', 'dateutil._version', 'dateutil', 'six', '_decimal', 'decimal', 'dateutil._common', 'dateutil.relativedelta', 'six.moves', 'dateutil.tz._common', 'dateutil.tz._factories', 'dateutil.tz.tz', 'dateutil.tz', 'dateutil.parser._parser', 'dateutil.parser.isoparser', 'dateutil.parser', '_strptime', 'jupyter_client.jsonutil', 'jupyter_client.adapter', 'jupyter_client.session', 'ipykernel.iostream', 'ipykernel.heartbeat', 'IPython.utils.tokenutil', 'tornado.locks', 'tornado.queues', 'ipykernel.jsonutil', 'ipykernel.kernelbase', 'ipykernel.comm.comm', 'ipykernel.comm.manager', 'ipykernel.comm', 'IPython.core.payloadpage', 'ipykernel.displayhook', 'ipykernel.codeutil', 'ipykernel.pickleutil', 'ipykernel.serialize', 'ipykernel.datapub', 'ipykernel.zmqshell', 'distutils', 'distutils.version', 'ipykernel.eventloops', 'ipykernel.ipkernel', 'ipykernel.parentpoller', 'ipykernel.kernelapp', 'faulthandler', 'IPython.core.completerlib', 'storemagic', 'tqdm._monitor', 'tqdm._tqdm_pandas', 'tqdm.utils', 'tqdm.std', 'tqdm._dist_ver', 'tqdm.version', 'tqdm.cli', 'tqdm.gui', 'tqdm', 'numpy._globals', 'numpy.__config__', 'numpy.version', 'numpy._distributor_init', 'numpy.core._multiarray_umath', 'numpy.compat._inspect', 'numpy.compat.py3k', 'numpy.compat', 'numpy.core.overrides', 'numpy.core.multiarray', 'numpy.core.umath', 'numpy.core._string_helpers', 'numpy.core._dtype', 'numpy.core._type_aliases', 'numpy.core.numerictypes', 'numpy.core._asarray', 'numpy.core._exceptions', 'numpy.core._methods', 'numpy.core.fromnumeric', 'numpy.core.shape_base', 'numpy.core._ufunc_config', 'numpy.core.arrayprint', 'numpy.core.numeric', 'numpy.core.defchararray', 'numpy.core.records', 'numpy.core.memmap', 'numpy.core.function_base', 'numpy.core.machar', 'numpy.core.getlimits', 'numpy.core.einsumfunc', 'numpy.core._multiarray_tests', 'numpy.core._add_newdocs', 'numpy.core._add_newdocs_scalars', 'numpy.core._dtype_ctypes', 'numpy.core._internal', 'numpy._pytesttester', 'numpy.core', 'numpy.lib.mixins', 'numpy.lib.ufunclike', 'numpy.lib.type_check', 'numpy.lib.scimath', 'numpy.lib.twodim_base', 'numpy.linalg.lapack_lite', 'numpy.linalg._umath_linalg', 'numpy.linalg.linalg', 'numpy.linalg', 'numpy.matrixlib.defmatrix', 'numpy.matrixlib', 'numpy.lib.histograms', 'numpy.lib.function_base', 'numpy.lib.stride_tricks', 'numpy.lib.index_tricks', 'numpy.lib.nanfunctions', 'numpy.lib.shape_base', 'numpy.lib.polynomial', 'numpy.lib.utils', 'numpy.lib.arraysetops', 'numpy.lib.format', 'numpy.lib._datasource', 'numpy.lib._iotools', 'numpy.lib.npyio', 'numpy.lib.arrayterator', 'numpy.lib.arraypad', 'numpy.lib._version', 'numpy.lib', 'numpy.fft._pocketfft_internal', 'numpy.fft._pocketfft', 'numpy.fft.helper', 'numpy.fft', 'numpy.polynomial.polyutils', 'numpy.polynomial._polybase', 'numpy.polynomial.polynomial', 'numpy.polynomial.chebyshev', 'numpy.polynomial.legendre', 'numpy.polynomial.hermite', 'numpy.polynomial.hermite_e', 'numpy.polynomial.laguerre', 'numpy.polynomial', '_cython_0_29_23', 'numpy.random._common', 'secrets', 'numpy.random.bit_generator', 'numpy.random._bounded_integers', 'numpy.random._mt19937', 'numpy.random.mtrand', 'numpy.random._philox', 'numpy.random._pcg64', 'numpy.random._sfc64', 'numpy.random._generator', 'numpy.random._pickle', 'numpy.random', 'numpy.ctypeslib', 'numpy.ma.core', 'numpy.ma.extras', 'numpy.ma', 'numpy', 'scipy._lib._testutils', 'scipy._lib', 'scipy._lib.deprecation', 'scipy.__config__', 'scipy.version', 'scipy._distributor_init', 'scipy._lib._pep440', 'scipy._lib._ccallback_c', 'scipy._lib._ccallback', 'scipy', 'scipy.special.sf_error', 'scipy.special._ufuncs_cxx', 'scipy.special._ufuncs', 'scipy.special.specfun', 'scipy.linalg._fblas', 'scipy.linalg.blas', 'scipy.linalg._flapack', 'scipy._lib._util', 'scipy.linalg.lapack', 'scipy.linalg.misc', 'scipy.linalg._flinalg', 'scipy.linalg.flinalg', 'scipy.linalg.decomp', 'scipy.linalg.decomp_svd', 'scipy.linalg._solve_toeplitz', 'scipy.linalg.basic', 'scipy.linalg.decomp_lu', 'scipy.linalg._decomp_ldl', 'scipy.linalg.decomp_cholesky', 'scipy.linalg.decomp_qr', 'scipy.linalg._decomp_qz', 'scipy.linalg.decomp_schur', 'scipy.linalg._decomp_polar', 'scipy.linalg.special_matrices', 'scipy.linalg._expm_frechet', 'scipy.linalg._matfuncs_sqrtm_triu', 'scipy.linalg._matfuncs_sqrtm', 'scipy.linalg.matfuncs', 'scipy.linalg._solvers', 'scipy.linalg._procrustes', 'scipy.linalg.cython_blas', 'scipy.linalg.cython_lapack', 'scipy.linalg._decomp_update', 'scipy.sparse.sputils', 'scipy.sparse.base', 'scipy.sparse._sparsetools', 'scipy.sparse.data', 'scipy.sparse.dia', 'scipy.sparse._index', 'scipy.sparse.compressed', 'scipy.sparse.csr', 'scipy.sparse.csc', 'scipy.sparse._csparsetools', 'scipy.sparse.lil', 'scipy.sparse.dok', 'scipy.sparse.coo', 'scipy.sparse.bsr', 'scipy.sparse.construct', 'scipy.sparse.extract', 'scipy.sparse._matrix_io', 'scipy.sparse.csgraph._laplacian', 'scipy.sparse.csgraph._tools', 'scipy.sparse.csgraph._validation', 'scipy.sparse.csgraph._shortest_path', 'scipy.sparse.csgraph._traversal', 'scipy.sparse.csgraph._min_spanning_tree', 'scipy.sparse.csgraph._flow', 'scipy.sparse.csgraph._matching', 'scipy.sparse.csgraph._reordering', 'scipy.sparse.csgraph', 'scipy.sparse', 'scipy.linalg._sketches', 'scipy.linalg._decomp_cossin', 'scipy.linalg', 'scipy.special.orthogonal', 'scipy.special._comb', 'scipy.special._basic', 'scipy.special._logsumexp', 'scipy.special.spfun_stats', 'scipy.special._ellip_harm_2', 'scipy.special._ellip_harm', 'scipy.special._lambertw', 'scipy.special._spherical_bessel', 'scipy.special', 'scipy.integrate._quadrature', 'scipy.integrate._odepack', 'scipy.integrate.odepack', 'scipy.integrate._quadpack', 'scipy.integrate.quadpack', 'scipy.integrate.vode', 'scipy.integrate._dop', 'scipy.integrate.lsoda', 'scipy.integrate._ode', 'scipy.sparse.linalg.isolve._iterative', 'scipy.sparse.linalg.interface', 'scipy.sparse.linalg.isolve.utils', 'scipy._lib.decorator', 'scipy._lib._threadsafety', 'scipy.sparse.linalg.isolve.iterative', 'scipy.sparse.linalg.isolve.minres', 'scipy.sparse.linalg.isolve._gcrotmk', 'scipy.sparse.linalg.isolve.lgmres', 'scipy.sparse.linalg.isolve.lsqr', 'scipy.sparse.linalg.isolve.lsmr', 'scipy.sparse.linalg.isolve', 'scipy.sparse.linalg.dsolve._superlu', 'scipy.sparse.linalg.dsolve.linsolve', 'scipy.sparse.linalg.dsolve._add_newdocs', 'scipy.sparse.linalg.dsolve', 'scipy.sparse.linalg.eigen.arpack._arpack', 'scipy.sparse.linalg.eigen.lobpcg.lobpcg', 'scipy.sparse.linalg.eigen.lobpcg', 'scipy.sparse.linalg.eigen.arpack.arpack', 'scipy.sparse.linalg.eigen.arpack', 'scipy.sparse.linalg.eigen', 'scipy.sparse.linalg._expm_multiply', 'scipy.sparse.linalg.matfuncs', 'scipy.sparse.linalg._onenormest', 'scipy.sparse.linalg._norm', 'scipy.sparse.linalg', 'scipy.optimize.minpack2', 'scipy.optimize.linesearch', 'scipy.optimize._group_columns', 'scipy.optimize._numdiff', 'scipy.optimize._hessian_update_strategy', 'scipy.optimize._differentiable_functions', 'scipy.optimize.optimize', 'scipy.optimize._trustregion', 'scipy.optimize._trustregion_dogleg', 'scipy.optimize._trustregion_ncg', 'scipy._lib.messagestream', 'scipy.optimize._trlib._trlib', 'scipy.optimize._trlib', 'scipy.optimize._trustregion_krylov', 'scipy.optimize._trustregion_exact', 'unittest.util', 'unittest.result', 'unittest.case', 'unittest.async_case', 'unittest.suite', 'unittest.loader', 'unittest.signals', 'unittest.runner', 'unittest.main', 'unittest', 'numpy.testing._private', 'numpy.testing._private.utils', 'numpy.testing._private.decorators', 'numpy.testing._private.nosetester', 'numpy.testing', 'scipy.optimize._constraints', 'scipy.optimize._trustregion_constr.projections', 'scipy.optimize._trustregion_constr.qp_subproblem', 'scipy.optimize._trustregion_constr.equality_constrained_sqp', 'scipy.optimize._trustregion_constr.canonical_constraint', 'scipy.optimize._trustregion_constr.tr_interior_point', 'scipy.optimize._trustregion_constr.report', 'scipy.optimize._trustregion_constr.minimize_trustregion_constr', 'scipy.optimize._trustregion_constr', 'scipy.optimize._lbfgsb', 'scipy.optimize.lbfgsb', 'scipy.optimize.moduleTNC', 'scipy.optimize.tnc', 'scipy.optimize._cobyla', 'scipy.optimize.cobyla', 'scipy.optimize._slsqp', 'scipy.optimize.slsqp', 'scipy.optimize._minimize', 'scipy.optimize._minpack', 'scipy.optimize._lsq.common', 'scipy.optimize._lsq.trf', 'scipy.optimize._lsq.dogbox', 'scipy.optimize._lsq.least_squares', 'scipy.optimize._lsq.givens_elimination', 'scipy.optimize._lsq.trf_linear', 'scipy.optimize._lsq.bvls', 'scipy.optimize._lsq.lsq_linear', 'scipy.optimize._lsq', 'scipy.optimize.minpack', 'scipy.optimize._spectral', 'scipy.optimize.nonlin', 'scipy.optimize._root', 'scipy.optimize._zeros', 'scipy.optimize.zeros', 'scipy.optimize._root_scalar', 'scipy.optimize.__nnls', 'scipy.optimize._nnls', 'scipy.optimize._basinhopping', 'scipy.optimize._highs', 'scipy.optimize._highs.cython.src._highs_wrapper', 'scipy.optimize._highs._highs_wrapper', 'scipy.optimize._highs.cython.src._highs_constants', 'scipy.optimize._highs._highs_constants', 'scipy.optimize._linprog_highs', 'scipy.linalg._interpolative', 'scipy.linalg._interpolative_backend', 'scipy.linalg.interpolative', 'scipy.optimize._remove_redundancy', 'scipy.optimize._linprog_util', 'scipy.optimize._linprog_ip', 'scipy.optimize._linprog_simplex', 'scipy.optimize._bglu_dense', 'scipy.optimize._linprog_rs', 'scipy.optimize._linprog_doc', 'scipy.optimize._linprog', 'scipy.optimize._lsap_module', 'scipy.optimize._lsap', 'scipy.optimize._differentialevolution', 'scipy.spatial.ckdtree', 'scipy.spatial.kdtree', 'scipy.spatial.qhull', 'scipy.spatial._voronoi', 'scipy.spatial._spherical_voronoi', 'scipy.spatial._plotutils', 'scipy.spatial._procrustes', 'scipy.spatial._distance_wrap', 'scipy.spatial._hausdorff', 'scipy.spatial.distance', 'scipy.spatial._geometric_slerp', 'scipy.constants.codata', 'scipy.constants.constants', 'scipy.constants', 'scipy.spatial.transform._rotation_groups', 'scipy.spatial.transform.rotation', 'scipy.spatial.transform._rotation_spline', 'scipy.spatial.transform', 'scipy.spatial', 'scipy.optimize._shgo_lib', 'scipy.optimize._shgo_lib.sobol_seq', 'scipy.optimize._shgo_lib.triangulation', 'scipy.optimize._shgo', 'scipy.optimize._dual_annealing', 'scipy.optimize._qap', 'scipy.optimize', 'scipy.integrate._bvp', 'scipy.integrate._ivp.common', 'scipy.integrate._ivp.base', 'scipy.integrate._ivp.bdf', 'scipy.integrate._ivp.radau', 'scipy.integrate._ivp.dop853_coefficients', 'scipy.integrate._ivp.rk', 'scipy.integrate._ivp.lsoda', 'scipy.integrate._ivp.ivp', 'scipy.integrate._ivp', 'scipy.integrate._quad_vec', 'scipy.integrate', 'simtk', 'simtk.openmm.version', 'swig_runtime_data4', 'simtk.openmm._openmm', 'simtk.unit.mymatrix', 'simtk.unit.basedimension', 'simtk.unit.baseunit', 'simtk.unit.standard_dimensions', 'simtk.unit.unit', 'simtk.unit.quantity', 'simtk.unit.unit_operators', 'simtk.unit.prefix', 'simtk.unit.unit_definitions', 'simtk.unit.unit_math', 'simtk.unit.constants', 'simtk.unit', 'simtk.openmm.vec3', 'simtk.openmm.openmm', 'simtk.openmm.mtsintegrator', 'simtk.openmm.amd', 'simtk.openmm', 'xml.etree', 'xml.etree.ElementPath', 'pyexpat.errors', 'pyexpat.model', 'pyexpat', '_elementtree', 'xml.etree.ElementTree', 'simtk.openmm.app.internal', 'simtk.openmm.app.internal.singleton', 'simtk.openmm.app.topology', 'simtk.openmm.app.element', 'simtk.openmm.app.internal.unitcell', 'simtk.openmm.app.internal.pdbstructure', 'simtk.openmm.app.pdbfile', 'simtk.openmm.app.internal.pdbx', 'simtk.openmm.app.internal.pdbx.reader', 'simtk.openmm.app.internal.pdbx.reader.PdbxContainers', 'simtk.openmm.app.internal.pdbx.reader.PdbxReader', 'simtk.openmm.app.pdbxfile', 'simtk.openmm.app.internal.compiled', 'simtk.openmm.app.forcefield', 'simtk.openmm.app.simulation', 'simtk.openmm.app.pdbreporter', 'simtk.openmm.app.internal.customgbforces', 'simtk.openmm.app.internal.amber_file_parser', 'simtk.openmm.app.amberprmtopfile', 'simtk.openmm.app.amberinpcrdfile', 'simtk.openmm.app.dcdfile', 'simtk.openmm.app.gromacsgrofile', 'distutils.errors', 'distutils.debug', 'distutils.log', 'distutils.spawn', 'simtk.openmm.app.gromacstopfile', 'simtk.openmm.app.dcdreporter', 'simtk.openmm.app.modeller', 'gzip', 'simtk.openmm.app.statedatareporter', 'simtk.openmm.app.desmonddmsfile', 'simtk.openmm.app.checkpointreporter', 'simtk.openmm.app.internal.charmm', 'simtk.openmm.app.internal.charmm.exceptions', 'simtk.openmm.app.charmmcrdfiles', 'simtk.openmm.app.internal.charmm._charmmfile', 'simtk.openmm.app.internal.charmm.topologyobjects', 'simtk.openmm.app.charmmparameterset', 'simtk.openmm.app.charmmpsffile', 'simtk.openmm.app.simulatedtempering', 'simtk.openmm.app.metadynamics', 'simtk.openmm.app', 'openmmtools.constants', 'openmmtools.testsystems', 'openmmtools.respa', 'openmmtools.utils', 'openmmtools.integrators', 'openmmtools.forces', 'openmmtools.states', 'mdtraj.utils.delay_import', 'mdtraj.utils.six.moves', 'mdtraj.utils.six.moves.urllib_parse', 'mdtraj.utils.six.moves.urllib.parse', 'mdtraj.utils.six.moves.urllib_error', 'mdtraj.utils.six.moves.urllib.error', 'mdtraj.utils.six.moves.urllib_request', 'mdtraj.utils.six.moves.urllib.request', 'mdtraj.utils.six.moves.urllib_response', 'mdtraj.utils.six.moves.urllib.response', 'mdtraj.utils.six.moves.urllib_robotparser', 'mdtraj.utils.six.moves.urllib.robotparser', 'mdtraj.utils.six.moves.urllib', 'mdtraj.utils.six', 'mdtraj.utils.validation', 'mdtraj.utils.unit.basedimension', 'mdtraj.utils.unit.standard_dimensions', 'mdtraj.utils.unit.mymatrix', 'mdtraj.utils.unit.baseunit', 'mdtraj.utils.unit.unit', 'mdtraj.utils.unit.quantity', 'mdtraj.utils.unit.unit_operators', 'mdtraj.utils.unit.prefix', 'mdtraj.utils.unit.unit_definitions', 'mdtraj.utils.unit', 'mdtraj.utils.rotation', 'mdtraj.utils.unitcell', 'mdtraj.utils.contextmanagers', 'mdtraj.utils.zipped', 'mdtraj.utils', 'mdtraj.formats.registry', 'mdtraj.formats.arc', 'mdtraj.formats.dcd', 'mdtraj.formats.binpos', 'xdrlib', 'mdtraj.formats.xtc', 'mdtraj.formats.trr', 'mdtraj.version', 'mdtraj.core', 'mdtraj.core.element', 'mdtraj.core.residue_names', 'pyparsing', 'astunparse.unparser', 'astunparse.printer', 'astunparse', 'mdtraj.core.selection', 'mdtraj.utils.singleton', 'mdtraj.core.topology', 'mdtraj.formats.hdf5', 'mdtraj.formats.netcdf', 'mdtraj.formats.pdb.pdbstructure', 'mdtraj.formats.pdb.pdbfile', 'mdtraj.formats.pdb', 'mdtraj.formats.lh5', 'mdtraj.formats.mdcrd', 'mdtraj.formats.amberrst', 'mdtraj.formats.lammpstrj', 'mdtraj.formats.dtr', 'mdtraj.formats.gro', 'mdtraj.formats.xyzfile', 'mdtraj.formats.tng', 'mdtraj.formats', 'mdtraj.formats.openmmxml', 'mdtraj.formats.prmtop', 'mdtraj.formats.psf', 'mdtraj.formats.mol2', 'xml.etree.cElementTree', 'mdtraj.formats.hoomdxml', 'mdtraj._rmsd', 'mdtraj._lprmsd', 'mdtraj.geometry.rg', 'mdtraj.geometry._geometry', 'mdtraj.geometry.distance', 'mdtraj.geometry.angle', 'mdtraj.geometry.dihedral', 'mdtraj.geometry.hbond', 'mdtraj.geometry.sasa', 'mdtraj.geometry.contact', 'mdtraj.geometry.drid', 'mdtraj.geometry.dssp', 'mdtraj.geometry.neighbors', 'mdtraj.geometry.neighborlist', 'mdtraj.geometry.thermodynamic_properties', 'mdtraj.geometry.rdf', 'zipfile', 'xml.parsers', 'xml.parsers.expat.model', 'xml.parsers.expat.errors', 'xml.parsers.expat', 'plistlib', 'pkg_resources.extern', 'pkg_resources._vendor', 'pkg_resources._vendor.appdirs', 'pkg_resources.extern.appdirs', 'pkg_resources._vendor.packaging.__about__', 'pkg_resources._vendor.packaging', 'pkg_resources.extern.packaging', 'pkg_resources.extern.packaging._structures', 'pkg_resources.extern.packaging._typing', 'pkg_resources.extern.packaging.version', 'pkg_resources.extern.packaging._compat', 'pkg_resources.extern.packaging.utils', 'pkg_resources.extern.packaging.specifiers', 'pkg_resources._vendor.pyparsing', 'pkg_resources.extern.pyparsing', 'pkg_resources.extern.packaging.markers', 'pkg_resources.extern.packaging.requirements', 'encodings.cp437', 'pkg_resources', 'mdtraj.geometry.order', 'mdtraj.geometry.shape', 'mdtraj.geometry', 'mdtraj.formats.gsd', 'mdtraj.core.trajectory', 'mdtraj.nmr.shift_wrappers', 'mdtraj.nmr.scalar_couplings', 'mdtraj.nmr', 'mdtraj.reporters.basereporter', 'mdtraj.reporters.hdf5reporter', 'mdtraj.reporters.netcdfreporter', 'mdtraj.reporters.dcdreporter', 'mdtraj.reporters.xtcreporter', 'mdtraj.reporters', 'mdtraj', 'openmmtools.forcefactories', 'openmmtools.alchemy', 'openmmtools.cache', 'openmmtools.mcmc', 'yaml.error', 'yaml.tokens', 'yaml.events', 'yaml.nodes', 'yaml.reader', 'yaml.scanner', 'yaml.parser', 'yaml.composer', 'yaml.constructor', 'yaml.resolver', 'yaml.loader', 'yaml.emitter', 'yaml.serializer', 'yaml.representer', 'yaml.dumper', 'yaml._yaml', 'yaml.cyaml', 'yaml', 'netCDF4.utils', 'cftime._cftime', 'cftime', 'netCDF4._netCDF4', 'netCDF4', 'openmmtools.storage.iodrivers', 'openmmtools.storage.storageinterface', 'openmmtools.storage', 'mpiplus.mpiplus', 'mpiplus._version', 'mpiplus', 'numexpr.__config__', 'numexpr.interpreter', 'numexpr.expressions', 'numexpr.utils', 'numexpr.necompiler', 'numexpr.version', 'numexpr', 'pymbar.utils', 'pymbar.timeseries', 'pymbar.testsystems.harmonic_oscillators', 'pymbar.testsystems.exponential_distributions', 'pymbar.testsystems.timeseries', 'pymbar.testsystems.gaussian_work', 'pymbar.testsystems', 'scipy.ndimage._ni_support', 'scipy.ndimage._nd_image', 'scipy._lib.doccer', 'scipy.ndimage._ni_docstrings', 'scipy.ndimage.filters', 'scipy.ndimage.fourier', 'scipy.ndimage.interpolation', '_ni_label', 'scipy.ndimage._ni_label', 'scipy.ndimage.morphology', 'scipy.ndimage.measurements', 'scipy.ndimage', 'scipy.stats._distr_params', 'scipy.misc.doccer', 'scipy.misc.common', 'scipy.misc', 'scipy.stats._constants', 'scipy.stats._distn_infrastructure', 'scipy.interpolate._fitpack', 'scipy.interpolate.dfitpack', 'scipy.interpolate._fitpack_impl', 'scipy.interpolate._bspl', 'scipy.interpolate._bsplines', 'scipy.interpolate.fitpack', 'scipy.interpolate.polyint', 'scipy.interpolate._ppoly', 'scipy.interpolate.fitpack2', 'scipy.interpolate.interpnd', 'scipy.interpolate.interpolate', 'scipy.interpolate.rbf', 'scipy.interpolate._cubic', 'scipy.interpolate.ndgriddata', 'scipy.interpolate._pade', 'scipy.interpolate', 'scipy.special.cython_special', 'scipy.stats._stats', 'scipy.stats._rvs_sampling', 'scipy.stats._tukeylambda_stats', 'scipy.stats._ksstats', 'scipy.stats._continuous_distns', 'scipy.stats._discrete_distns', 'scipy.stats.distributions', 'scipy._lib._bunch', 'scipy.stats._stats_mstats_common', 'scipy.stats.mstats_basic', 'scipy.stats._wilcoxon_data', 'scipy.stats._hypotests', 'scipy.stats.stats', 'scipy.stats.statlib', 'scipy.stats.contingency', 'scipy.stats.morestats', 'scipy.stats._binned_statistic', 'scipy.stats.mvn', 'scipy.stats.kde', 'scipy.stats.mstats_extras', 'scipy.stats.mstats', 'scipy.stats._multivariate', 'scipy.stats', 'pymbar.confidenceintervals', 'pymbar.version', 'pymbar.mbar_solvers', 'pymbar.mbar', 'pymbar.exp', 'pymbar.bar', 'pymbar.old_mbar', 'pymbar', 'openmmtools.multistate.utils', 'openmmtools.multistate.multistatesampler', 'openmmtools.multistate.multistatereporter', 'numba._version', 'numba.misc', 'numba.misc.init_utils', 'numba.core', 'multiprocessing.process', 'multiprocessing.reduction', 'multiprocessing.context', '__mp_main__', 'multiprocessing', 'llvmlite._version', 'llvmlite', 'llvmlite.binding.common', 'llvmlite.utils', 'llvmlite.binding.ffi', 'llvmlite.binding.dylib', 'llvmlite.binding.targets', 'llvmlite.binding.object_file', 'llvmlite.binding.executionengine', 'llvmlite.binding.initfini', 'llvmlite.binding.linker', 'llvmlite.binding.value', 'llvmlite.binding.context', 'llvmlite.binding.module', 'llvmlite.binding.options', 'llvmlite.binding.passmanagers', 'llvmlite.binding.transforms', 'llvmlite.ir._utils', 'llvmlite.ir.types', 'llvmlite.ir.values', 'llvmlite.ir.context', 'llvmlite.ir.module', 'llvmlite.ir.instructions', 'llvmlite.ir.builder', 'llvmlite.ir.transforms', 'llvmlite.ir', 'llvmlite.binding.analysis', 'llvmlite.binding', 'numba.core.config', 'numba.testing.loader', 'numba.testing.main', 'numba.testing', 'numba.testing._runtests', 'numba.core.utils', 'numba.core.types.abstract', 'numba.core.types.common', 'numba.core.typeconv.castgraph', 'numba.core.typeconv', 'numba.core.errors', 'numba.core.types.misc', 'numba.core.types.containers', 'numba.core.types.functions', 'numba.core.types.iterators', 'numba.core.types.npytypes', 'numba.np', 'numba.np.npdatetime_helpers', 'numba.core.types.scalars', 'numba.core.types.function_type', 'numba.core.types', 'numba.core.typeconv._typeconv', 'numba.core.typeconv.typeconv', 'numba.core.typeconv.rules', 'numba.core.cpu_options', 'numba.core.typing.templates', 'numba.core.datamodel.manager', 'numba.core.datamodel.packer', 'numba.core.datamodel.registry', 'numba.core.datamodel.models', 'numba.core.datamodel', 'numba.core.cgutils', 'numba.np.numpy_support', 'numba.core.typing.typeof', 'numba.core.typing.context', 'numba.core.typing', 'numba.core.typing.asnumbatype', 'numba.misc.special', 'numba.stencils', 'numba.core.consts', 'numba.core.ir', 'numba.core.imputils', 'llvmlite.llvmpy', 'llvmlite.llvmpy.core', 'numba._helperlib', 'numba.core.debuginfo', 'numba.core.itanium_mangler', 'numba.core.funcdesc', 'numba.core.generators', 'numba.core.removerefctpass', 'numba._dynfunc', 'numba.core.serialize', 'numba.core.environment', 'numba.core.lowering', 'numba.core.pythonapi', 'numba.core.extending', 'numba.core.controlflow', 'numba.core.analysis', 'numba.core.transforms', 'numba.core.postproc', 'numba.core.rewrites.registry', 'numba.core.rewrites.static_getitem', 'numba.core.rewrites.static_raise', 'numba.core.rewrites.static_binop', 'numba.core.rewrites.ir_print', 'numba.core.rewrites', 'numba.core.ir_utils', 'numba.core.descriptors', 'numba._devicearray', 'numba._dispatcher', 'numba.core.tracing', 'numba.core.dataflow', 'numba.core.byteflow', 'numba.core.unsafe', 'numba.core.unsafe.eh', 'numba.cpython', 'numba.cpython.unsafe', 'numba.cpython.unsafe.tuple', 'numba.core.interpreter', 'numba.core.bytecode', 'numba.core.event', 'numba.core.compiler_lock', 'numba.misc.quicksort', 'numba.misc.mergesort', 'numba.cpython.slicing', 'numba.np.arrayobj', 'numba.core.typeinfer', 'numba.stencils.stencilparfor', 'numba.core.typing.npydecl', 'numba.np.unsafe', 'numba.np.unsafe.ndarray', 'numba.parfors.array_analysis', 'numba.parfors.parfor', 'numba.core.sigutils', 'numba.parfors.parfor_lowering_utils', 'numba.parfors.parfor_lowering', 'numba.parfors', 'numba.core.typing.builtins', 'numba.extending', 'numba.cpython.builtins', 'numba.core.base', 'numba.core.callconv', 'numba.core.callwrapper', 'llvmlite.llvmpy.passes', 'numba.core.runtime.nrtdynmod', 'numba.core.runtime._nrt_python', 'numba.core.runtime.nrt', 'numba.core.runtime', 'numba.core.runtime.nrtopt', 'numba.misc.inspection', 'numba.misc.llvm_pass_timings', 'numba.core.codegen', 'numba.core.intrinsics', 'numba.core.externals', 'numba.core.fastmathpass', 'numba.core.options', 'numba.core.entrypoints', 'numba.cpython.setobj', 'numba.cpython.listobj', 'numba.core.cpu', 'numba.cpython.rangeobj', 'numba.core.inline_closurecall', 'numba.core.compiler_machinery', 'numba.core.ssa', 'numba.core.untyped_passes', 'numba.core.annotations', 'numba.core.annotations.type_annotations', 'numba.core.typed_passes', 'numba.core.pylowering', 'numba.core.object_mode_passes', 'numba.core.compiler', 'numba.misc.appdirs', 'numba.core.caching', 'numba.core.dispatcher', 'numba.core.registry', 'numba.stencils.stencil', 'numba.core.decorators', 'numba.np.ufunc._internal', 'numba.np.ufunc.wrappers', 'numba.np.ufunc.sigparse', 'numba.np.ufunc.ufuncbuilder', 'numba.np.ufunc.parallel', 'numba.np.ufunc.dufunc', 'numba.np.ufunc.gufunc', 'numba.np.ufunc.decorators', 'numba.np.ufunc.array_exprs', 'numba.np.ufunc', 'numba.experimental.jitclass._box', 'numba.experimental.jitclass.base', 'numba.experimental.jitclass.decorators', 'numba.experimental.jitclass.boxing', 'numba.experimental.jitclass', 'numba.experimental', 'numba.core.withcontexts', 'numba.typed.typedobjectutils', 'numba.core.unsafe.bytes', 'numba.cpython.hashing', 'numba.cpython.unicode_support', 'numba.cpython.unicode', 'numba.typed.dictobject', 'numba.core.boxing', 'numba.cpython.charseq', 'numba.typed.dictimpl', 'numba.core.typing.ctypes_utils', 'numba.core.ccallback', 'numba.experimental.function_type', 'numba.typed.typeddict', 'numba.typed.listobject', 'numba.typed.typedlist', 'numba.typed', 'numba', 'openmmtools.multistate.multistateanalyzer', 'openmmtools.multistate.replicaexchange', 'openmmtools.multistate.paralleltempering', 'openmmtools.multistate.sams', 'openmmtools.multistate', 'openmmtools._version', 'openmmtools', 'openeye', 'libs', 'libs.openeye_platform', '_oechem3102', 'openeye.oechem', 'oechem', 'perses._version', 'perses', 'perses.annihilation', 'perses.annihilation.relative', 'perses.annihilation.rest', 'perses.annihilation.lambda_protocol', 'perses.dispersed', 'dask.config', 'dask.utils_test', 'dask.core', 'dask.utils', 'dask.datasets', 'dask.callbacks', 'dask.order', 'dask.local', 'dataclasses', 'toolz.utils', 'toolz.itertoolz', 'toolz._signatures', 'toolz.functoolz', 'toolz.dicttoolz', 'toolz.recipes', 'toolz.curried.operator', 'toolz.curried.exceptions', 'toolz.curried', 'toolz.sandbox.core', 'toolz.sandbox.parallel', 'toolz.sandbox', 'toolz._version', 'toolz', 'cytoolz.utils', 'cytoolz.itertoolz', 'cytoolz._signatures', 'cytoolz.functoolz', 'cytoolz.dicttoolz', 'cytoolz.recipes', 'cytoolz.curried.operator', 'cytoolz.curried.exceptions', 'cytoolz.curried', 'cytoolz._version', 'cytoolz', 'tlz.utils', 'tlz.itertoolz', 'tlz._signatures', 'tlz.functoolz', 'tlz.dicttoolz', 'tlz.recipes', 'tlz._version', 'tlz._build_tlz', 'tlz', 'multiprocessing.util', '_multiprocessing', 'multiprocessing.connection', 'multiprocessing.pool', 'concurrent.futures.thread', 'psutil._common', 'psutil._compat', 'psutil._psposix', 'psutil._psutil_linux', 'psutil._psutil_posix', 'psutil._pslinux', 'psutil', 'dask.system', 'dask.threaded', 'dask.context', 'dask.hashing', 'multiprocessing.queues', 'concurrent.futures.process', 'cloudpickle.compat', 'typing_extensions', 'cloudpickle.cloudpickle', 'cloudpickle.cloudpickle_fast', 'cloudpickle', 'dask.optimization', 'tblib.cpython', 'tblib', 'tblib.pickling_support', 'dask.multiprocessing', 'dask.base', 'dask.highlevelgraph', 'dask.delayed', 'dask._version', 'dask', 'socketserver', 'logging.config', 'distributed.compatibility', 'distributed.config', 'distributed._version', 'dask.compatibility', 'distributed.versions', 'distributed.metrics', 'click._compat', 'click.globals', 'click.utils', 'click.exceptions', 'click.types', 'click._unicodefun', 'click.parser', 'click.formatting', 'click.termui', 'click.core', 'click.decorators', 'click', 'multiprocessing.popen_fork', 'multiprocessing.spawn', 'multiprocessing.popen_spawn_posix', 'msgpack._version', 'msgpack.exceptions', 'msgpack.ext', 'msgpack._cmsgpack', 'msgpack', '_posixshmem', 'multiprocessing.resource_tracker', 'multiprocessing.forkserver', 'distributed.utils', 'distributed.profile', 'distributed.protocol.compression', 'distributed.protocol.pickle', 'distributed.protocol.utils', 'distributed.protocol.serialize', 'distributed.protocol.core', 'distributed.protocol.cuda', 'distributed.protocol', 'distributed.comm.registry', 'distributed.comm.addressing', 'distributed.comm.core', 'dask.sizeof', 'distributed.comm.utils', 'distributed.comm.inproc', 'stringprep', 'encodings.idna', 'tornado.netutil', 'tornado.iostream', 'tornado.tcpclient', 'tornado.process', 'tornado.tcpserver', 'distributed.system', 'distributed._concurrent_futures_thread', 'distributed.threadpoolexecutor', 'distributed.comm.tcp', 'http.cookies', 'tornado.httputil', 'tornado.http1connection', 'tornado.httpserver', '_csv', 'csv', 'tornado._locale_data', 'tornado.locale', 'tornado.template', 'tornado.routing', 'tornado.web', 'tornado.httpclient', 'tornado.simple_httpclient', 'tornado.websocket', 'distributed.comm.ws', 'distributed.comm.ucx', 'distributed.comm', 'distributed.diagnostics.plugin', 'distributed.diagnostics.graph_layout', 'distributed.diagnostics', 'distributed.diagnostics.nvml', 'distributed.system_monitor', 'distributed.core', 'distributed.batched', 'distributed.cfexecutor', 'distributed.objects', 'distributed.publish', 'distributed.pubsub', 'distributed.security', 'distributed.sizeof', 'distributed.utils_comm', 'distributed.preloading', 'distributed.locket', 'distributed.diskutils', 'distributed.http.utils', 'distributed.http', 'distributed.http.routing', 'distributed.node', 'distributed.proctitle', 'distributed.utils_perf', 'distributed.worker', 'distributed.client', 'distributed.actor', 'distributed.deploy.adaptive_core', 'distributed.deploy.adaptive', 'distributed.deploy.cluster', 'distributed.process', 'distributed.nanny', 'sortedcontainers.sortedlist', 'sortedcontainers.sortedset', 'sortedcontainers.sorteddict', 'sortedcontainers', 'distributed.event', 'distributed.lock', 'distributed.multi_lock', 'distributed.queues', 'distributed.recreate_exceptions', 'distributed.semaphore', 'distributed.stealing', 'distributed.variable', 'cython.parallel', 'Cython.Shadow', 'Cython', 'cython', 'distributed.scheduler', 'distributed.deploy.spec', 'distributed.deploy.utils', 'distributed.deploy.local', 'distributed.deploy.ssh', 'distributed.deploy', 'distributed.diagnostics.progress', 'distributed.diagnostics.progressbar', 'distributed.worker_client', 'distributed', 'dask.distributed', 'perses.dispersed.utils', 'perses.dispersed.feptasks', 'perses.app', 'perses.utils.data', 'perses.utils.openeye', 'perses.utils', 'networkx.release', 'networkx.exception', 'networkx.utils.misc', 'networkx.utils.decorators', 'networkx.utils.random_sequence', 'networkx.utils.union_find', 'networkx.utils.rcm', 'networkx.utils.heaps', 'networkx.utils.contextmanagers', 'networkx.utils', 'networkx.classes.coreviews', 'networkx.classes.reportviews', 'networkx.convert', 'networkx.classes.graph', 'networkx.classes.digraph', 'networkx.classes.multigraph', 'networkx.classes.multidigraph', 'networkx.classes.ordered', 'networkx.classes.filters', 'networkx.classes.graphviews', 'networkx.classes.function', 'networkx.classes', 'networkx.convert_matrix', 'networkx.relabel', 'networkx.generators.atlas', 'networkx.generators.classic', 'networkx.generators.cographs', 'networkx.generators.community', 'networkx.generators.degree_seq', 'networkx.generators.directed', 'networkx.generators.duplication', 'networkx.generators.ego', 'networkx.generators.expanders', 'networkx.generators.geometric', 'networkx.generators.internet_as_graphs', 'networkx.algorithms.assortativity.connectivity', 'networkx.algorithms.assortativity.pairs', 'networkx.algorithms.assortativity.mixing', 'networkx.algorithms.assortativity.correlation', 'networkx.algorithms.assortativity.neighbor_degree', 'networkx.algorithms.assortativity', 'networkx.algorithms.asteroidal', 'networkx.algorithms.boundary', 'networkx.algorithms.bridges', 'networkx.algorithms.chains', 'networkx.algorithms.centrality.betweenness', 'networkx.algorithms.centrality.betweenness_subset', 'networkx.algorithms.centrality.closeness', 'networkx.algorithms.centrality.subgraph_alg', 'networkx.algorithms.centrality.flow_matrix', 'networkx.algorithms.centrality.current_flow_closeness', 'networkx.algorithms.centrality.current_flow_betweenness', 'networkx.algorithms.centrality.current_flow_betweenness_subset', 'networkx.algorithms.centrality.degree_alg', 'networkx.algorithms.centrality.dispersion', 'networkx.algorithms.centrality.eigenvector', 'networkx.algorithms.centrality.group', 'networkx.algorithms.centrality.harmonic', 'networkx.algorithms.centrality.katz', 'networkx.algorithms.centrality.load', 'networkx.algorithms.centrality.reaching', 'networkx.algorithms.centrality.percolation', 'networkx.algorithms.centrality.second_order', 'networkx.algorithms.centrality.trophic', 'networkx.algorithms.centrality.voterank_alg', 'networkx.algorithms.centrality', 'networkx.algorithms.components.connected', 'networkx.algorithms.components.strongly_connected', 'networkx.algorithms.components.weakly_connected', 'networkx.algorithms.components.attracting', 'networkx.algorithms.components.biconnected', 'networkx.algorithms.components.semiconnected', 'networkx.algorithms.components', 'networkx.algorithms.chordal', 'networkx.algorithms.cluster', 'networkx.algorithms.clique', 'networkx.algorithms.communicability_alg', 'networkx.algorithms.coloring.greedy_coloring_with_interchange', 'networkx.algorithms.coloring.greedy_coloring', 'networkx.algorithms.coloring.equitable_coloring', 'networkx.algorithms.coloring', 'networkx.algorithms.core', 'networkx.algorithms.covering', 'networkx.algorithms.cycles', 'networkx.algorithms.cuts', 'networkx.algorithms.d_separation', 'networkx.algorithms.traversal.breadth_first_search', 'networkx.algorithms.traversal.beamsearch', 'networkx.algorithms.traversal.depth_first_search', 'networkx.algorithms.traversal.edgedfs', 'networkx.algorithms.traversal.edgebfs', 'networkx.algorithms.traversal', 'networkx.generators.trees', 'networkx.algorithms.dag', 'networkx.algorithms.distance_measures', 'networkx.algorithms.distance_regular', 'networkx.algorithms.dominance', 'networkx.algorithms.dominating', 'networkx.algorithms.efficiency_measures', 'networkx.algorithms.euler', 'networkx.algorithms.graphical', 'networkx.algorithms.hierarchy', 'networkx.algorithms.hybrid', 'networkx.algorithms.link_analysis.pagerank_alg', 'networkx.algorithms.link_analysis.hits_alg', 'networkx.algorithms.link_analysis', 'networkx.algorithms.link_prediction', 'networkx.algorithms.lowest_common_ancestors', 'networkx.algorithms.isolate', 'networkx.algorithms.matching', 'networkx.algorithms.minors', 'networkx.algorithms.mis', 'networkx.algorithms.moral', 'networkx.algorithms.non_randomness', 'networkx.algorithms.operators.all', 'networkx.algorithms.operators.binary', 'networkx.algorithms.operators.product', 'networkx.algorithms.operators.unary', 'networkx.algorithms.operators', 'networkx.algorithms.planarity', 'networkx.algorithms.planar_drawing', 'networkx.algorithms.reciprocity', 'networkx.algorithms.regular', 'networkx.algorithms.richclub', 'networkx.algorithms.shortest_paths.generic', 'networkx.algorithms.shortest_paths.unweighted', 'networkx.algorithms.shortest_paths.weighted', 'networkx.algorithms.shortest_paths.astar', 'networkx.algorithms.shortest_paths.dense', 'networkx.algorithms.shortest_paths', 'networkx.algorithms.similarity', 'networkx.algorithms.graph_hashing', 'networkx.algorithms.simple_paths', 'networkx.algorithms.smallworld', 'networkx.algorithms.smetric', 'networkx.algorithms.structuralholes', 'networkx.algorithms.sparsifiers', 'networkx.algorithms.swap', 'networkx.algorithms.triads', 'networkx.algorithms.vitality', 'networkx.algorithms.voronoi', 'networkx.algorithms.wiener', 'networkx.algorithms.bipartite.basic', 'networkx.algorithms.bipartite.centrality', 'networkx.algorithms.bipartite.cluster', 'networkx.algorithms.bipartite.matrix', 'networkx.algorithms.bipartite.matching', 'networkx.algorithms.bipartite.covering', 'networkx.algorithms.bipartite.edgelist', 'networkx.algorithms.bipartite.projection', 'networkx.algorithms.bipartite.redundancy', 'networkx.algorithms.bipartite.spectral', 'networkx.algorithms.bipartite.generators', 'networkx.algorithms.bipartite', 'networkx.algorithms.node_classification.utils', 'networkx.algorithms.node_classification.hmn', 'networkx.algorithms.node_classification.lgc', 'networkx.algorithms.node_classification', 'networkx.algorithms.flow.utils', 'networkx.algorithms.flow.boykovkolmogorov', 'networkx.algorithms.flow.dinitz_alg', 'networkx.algorithms.flow.edmondskarp', 'networkx.algorithms.flow.preflowpush', 'networkx.algorithms.flow.shortestaugmentingpath', 'networkx.algorithms.flow.maxflow', 'networkx.algorithms.flow.mincost', 'networkx.algorithms.flow.gomory_hu', 'networkx.algorithms.flow.capacityscaling', 'networkx.algorithms.flow.networksimplex', 'networkx.algorithms.flow', 'networkx.algorithms.connectivity.utils', 'networkx.algorithms.connectivity.connectivity', 'networkx.algorithms.connectivity.cuts', 'networkx.algorithms.connectivity.edge_augmentation', 'networkx.algorithms.connectivity.edge_kcomponents', 'networkx.algorithms.connectivity.disjoint_paths', 'networkx.algorithms.connectivity.kcomponents', 'networkx.algorithms.connectivity.kcutsets', 'networkx.algorithms.connectivity.stoerwagner', 'networkx.algorithms.connectivity', 'networkx.algorithms.community.asyn_fluid', 'networkx.algorithms.community.centrality', 'networkx.algorithms.community.kclique', 'networkx.algorithms.community.community_utils', 'networkx.algorithms.community.kernighan_lin', 'networkx.algorithms.community.label_propagation', 'networkx.algorithms.community.lukes', 'networkx.algorithms.community.quality', 'networkx.utils.mapped_queue', 'networkx.algorithms.community.modularity_max', 'networkx.algorithms.community', 'networkx.algorithms.isomorphism.isomorph', 'networkx.algorithms.isomorphism.isomorphvf2', 'networkx.algorithms.isomorphism.vf2userfunc', 'networkx.algorithms.isomorphism.matchhelpers', 'networkx.algorithms.isomorphism.temporalisomorphvf2', 'networkx.algorithms.isomorphism.ismags', 'networkx.algorithms.isomorphism.tree_isomorphism', 'networkx.algorithms.isomorphism', 'networkx.algorithms.tournament', 'networkx.algorithms.tree.recognition', 'networkx.algorithms.tree.branchings', 'networkx.algorithms.tree.coding', 'networkx.algorithms.tree.mst', 'networkx.algorithms.tree.operations', 'networkx.algorithms.tree.decomposition', 'networkx.algorithms.tree', 'networkx.algorithms', 'networkx.generators.intersection', 'networkx.generators.interval_graph', 'networkx.generators.joint_degree_seq', 'networkx.generators.lattice', 'networkx.generators.line', 'networkx.generators.mycielski', 'networkx.generators.nonisomorphic_trees', 'networkx.generators.random_clustered', 'networkx.generators.random_graphs', 'networkx.generators.small', 'networkx.generators.social', 'networkx.generators.sudoku', 'networkx.generators.spectral_graph_forge', 'networkx.generators.stochastic', 'networkx.generators.triads', 'networkx.generators', 'networkx.readwrite.adjlist', 'networkx.readwrite.multiline_adjlist', 'networkx.readwrite.edgelist', 'networkx.readwrite.gpickle', 'networkx.readwrite.pajek', 'networkx.readwrite.leda', 'networkx.readwrite.graph6', 'networkx.readwrite.sparse6', 'networkx.readwrite.nx_yaml', 'networkx.readwrite.gml', 'lxml', '_cython_0_29_22', 'lxml._elementpath', 'lxml.etree', 'networkx.readwrite.graphml', 'networkx.readwrite.gexf', 'networkx.readwrite.nx_shp', 'networkx.readwrite.json_graph.node_link', 'networkx.readwrite.json_graph.adjacency', 'networkx.readwrite.json_graph.tree', 'networkx.readwrite.json_graph.jit', 'networkx.readwrite.json_graph.cytoscape', 'networkx.readwrite.json_graph', 'networkx.readwrite', 'networkx.linalg.attrmatrix', 'networkx.linalg.spectrum', 'networkx.linalg.graphmatrix', 'networkx.linalg.laplacianmatrix', 'networkx.linalg.algebraicconnectivity', 'networkx.linalg.modularitymatrix', 'networkx.linalg.bethehessianmatrix', 'networkx.linalg', 'networkx.testing.utils', 'networkx.testing.test', 'networkx.testing', 'networkx.drawing.layout', 'networkx.drawing.nx_pylab', 'networkx.drawing.nx_agraph', 'networkx.drawing.nx_pydot', 'networkx.drawing', 'networkx', 'perses.storage.storage', 'perses.storage', 'perses.rjmc.geometry', 'numba.cpython.tupleobj', 'numba.cpython.enumimpl', 'numba.cpython.heapq', 'numba.cpython.iterators', 'numba.core.optional', 'numba.cpython.unsafe.numbers', 'numba.cpython.numbers', 'numba.misc.gdb_hook', 'numba.misc.literal', 'numba.np.linalg', 'numba.np.polynomial', 'numba.np.arraymath', 'cmath', 'numba.cpython.mathimpl', 'numba.cpython.cmathimpl', 'numba.np.npyfuncs', 'numba.np.npdatetime', 'numba.np.ufunc_db', 'numba.np.npyimpl', 'numba.cpython.printimpl', 'numba.cpython.randomimpl', 'numba.misc.cffiimpl', 'cffi.lock', 'cffi.error', 'cffi.model', 'cffi.api', 'cffi', '_cffi_backend', 'cffi.commontypes', 'pycparser.ply', 'pycparser.ply.yacc', 'pycparser.c_ast', 'pycparser.ply.lex', 'pycparser.c_lexer', 'pycparser.plyparser', 'pycparser.ast_transforms', 'pycparser.c_parser', 'pycparser', 'cffi.cparser', 'numba.core.typing.cffi_utils', 'numba.core.typing.cmathdecl', 'numba.core.typing.enumdecl', 'numba.core.typing.collections', 'numba.core.typing.listdecl', 'numba.core.typing.mathdecl', 'numba.core.typing.randomdecl', 'numba.core.typing.setdecl', 'numba.core.typing.dictdecl', 'numba.core.typing.arraydecl', 'numba.core.typing.npdatetime', 'numba.core.typing.bufproto', 'perses.rjmc.coordinate_numba', 'perses.rjmc.coordinate_tools', 'openmoltools.amber_parser', 'openmoltools.system_checker', 'openmoltools.utils', 'openmoltools.packmol', 'openmoltools.amber', 'openmoltools.openeye', 'six.moves.urllib', 'openmoltools.cirpy', 'parmed._version', 'parmed.exceptions', 'parmed.periodic_table', 'parmed.residue', 'parmed.unit', 'parmed.utils.pairlist', 'parmed.utils', 'parmed.constants', 'parmed.vec3', 'parmed.geometry', 'parmed.utils.six', 'parmed.utils.decorators', 'parmed.utils.six.moves', 'parmed.topologyobjects', 'parmed.structure', 'parmed.utils.six.moves.urllib', 'parmed.utils.six.moves.urllib.request', 'parmed.utils.six.moves.urllib.error', 'parmed.utils.io', 'parmed.formats.registry', 'parmed.modeller.residue', 'parmed.amber.offlib', 'parmed.modeller.standardtemplates', 'parmed.modeller', 'parmed.formats.mol2', 'ftplib', 'parmed.formats.pdbx.PdbxContainers', 'parmed.formats.pdbx.PdbxReader', 'parmed.formats.pdbx.PdbxWriter', 'parmed.formats.pdbx', 'parmed.symmetry', 'parmed.formats.pdb', 'parmed.formats.pqr', 'parmed.charmm.psf', 'parmed.parameters', 'parmed.charmm._charmmfile', 'parmed.charmm.parameters', 'parmed.charmm.charmmcrds', 'parmed.charmm', 'parmed.formats.psf', 'parmed.rdkit.rdkit', 'parmed.rdkit', 'parmed.formats.sdf', 'parmed.formats', 'parmed.utils.fortranformat._exceptions', 'parmed.utils.fortranformat._edit_descriptors', 'parmed.utils.fortranformat._misc', 'parmed.utils.fortranformat.config', 'parmed.utils.fortranformat._input', 'parmed.utils.fortranformat._lexer', 'parmed.utils.fortranformat._parser', 'parmed.utils.fortranformat.FortranRecordReader', 'parmed.utils.fortranformat._output', 'parmed.utils.fortranformat.FortranRecordWriter', 'parmed.utils.fortranformat', 'parmed.amber.amberformat', 'parmed.amber.asciicrd', 'parmed.amber.mask', 'mmap', 'parmed.utils.netcdf', 'parmed.amber.netcdffiles', 'parmed.amber.parameters', 'parmed.amber._amberparm', 'parmed.amber._chamberparm', 'parmed.amber._tinkerparm', 'parmed.amber.readparm', 'parmed.amber.titratable_residues', 'parmed.amber', 'parmed.gromacs._cpp', 'parmed.gromacs._gromacsfile', 'parmed.gromacs.gromacstop', 'parmed.gromacs.gromacsgro', 'parmed.gromacs', 'parmed.namd.namdbinfiles', 'parmed.namd', 'parmed.openmm.reporters', 'parmed.openmm.parameters', 'parmed.openmm.topsystem', 'parmed.openmm.utils', 'parmed.openmm.xmlfile', 'parmed.openmm', 'parmed.rosetta.pose', 'parmed.rosetta', 'parmed.tinker.tinkerfiles', 'parmed.tinker', 'parmed.tools.exceptions', 'parmed.tools.argumentlist', 'parmed.tools.parmlist', 'parmed.tools.actions', 'parmed.tools', 'parmed', 'openmoltools.gromacs', 'openmoltools.schrodinger', 'openmoltools', 'openmoltools.forcefield_generators', 'perses.rjmc.topology_proposal', 'perses.rjmc', 'perses.tests', 'perses.tests.utils', 'openff', 'openff.toolkit._version', 'openff.toolkit', 'openff.toolkit.utils.utils', '_oequacpac2112', 'openeye.oequacpac', '_oeiupac2722', 'openeye.oeiupac', '_oeomega4102', 'openeye.oeomega', 'rdkit.rdBase', 'rdkit.RDPaths', 'rdkit.RDConfig', 'rdkit.DataStructs.cDataStructs', 'rdkit.DataStructs', 'rdkit.Geometry.rdGeometry', 'rdkit.Geometry', 'rdkit.Chem.rdchem', 'rdkit.Chem.rdmolfiles', 'rdkit.Chem.rdmolops', 'rdkit.Chem.rdCIPLabeler', 'rdkit.Chem.rdinchi', 'rdkit.RDLogger', 'rdkit.Chem.inchi', 'rdkit.Chem.rdMolInterchange', 'rdkit.Chem.rdCoordGen', 'rdkit.Chem', 'rdkit.Chem.Draw.rdMolDraw2D', 'rdkit.Chem.Draw.MolDrawing', 'rdkit.Chem.rdDepictor', 'rdkit.Chem.Draw', 'rdkit.Chem.rdChemReactions', 'PIL._version', 'PIL', 'PIL.ImageMode', 'PIL.TiffTags', 'PIL._binary', 'PIL._util', 'PIL._imaging', 'PIL.Image', 'PIL.ImageChops', 'PIL.ImageFile', 'PIL.GimpGradientFile', 'PIL.GimpPaletteFile', 'PIL.ImageColor', 'PIL.PaletteFile', 'PIL.ImagePalette', 'PIL.ImageSequence', 'PIL.PngImagePlugin', 'rdkit.Chem.Draw.IPythonConsole', 'rdkit', 'openff.toolkit.utils.toolkits', 'openff.toolkit.utils', 'openff.toolkit.utils.serialization', 'openff.toolkit.topology.molecule', 'openff.toolkit.typing', 'openff.toolkit.typing.chemistry.environment', 'openff.toolkit.typing.chemistry', 'openff.toolkit.topology.topology', 'openff.toolkit.topology', 'openmmforcefields.utils', 'openmmforcefields._version', 'openmmforcefields', 'openmmforcefields.generators.template_generators', 'openmmforcefields.generators.system_generators', 'openmmforcefields.generators', 'perses.app.relative_point_mutation_setup', 'optparse', 'configparser', 'nose.pyversion', 'nose.util', 'nose.plugins.base', 'nose.failure', 'nose.plugins.manager', 'nose.plugins.plugintest', 'nose.plugins', 'nose.config', 'nose.case', 'nose.importer', 'nose.selector', 'nose.proxy', 'nose.suite', 'nose.loader', 'nose.result', 'nose.core', 'nose.plugins.errorclass', 'nose.plugins.skip', 'nose.plugins.deprecated', 'nose.exc', 'nose.tools.nontrivial', 'nose.tools.trivial', 'nose.tools', 'nose', 'nose.plugins.attrib', 'perses.utils.smallmolecules', 'perses.tests.test_topology_proposal', 'scipy.io.matlab.byteordercodes', 'scipy.io.matlab.miobase', 'scipy.io.matlab.mio_utils', 'scipy.io.matlab.mio4', 'scipy.io.matlab.streams', 'scipy.io.matlab.mio5_params', 'scipy.io.matlab.mio5_utils', 'scipy.io.matlab.mio5', 'scipy.io.matlab.mio', 'scipy.io.matlab', 'scipy.io.netcdf', 'scipy.io._fortran', 'scipy.io.mmio', 'scipy.io.idl', 'scipy.io.harwell_boeing._fortran_format_parser', 'scipy.io.harwell_boeing.hb', 'scipy.io.harwell_boeing', 'scipy.io', 'ipywidgets._version', 'ipywidgets.widgets.widget', 'ipywidgets.widgets.util', 'ipywidgets.widgets.trait_types', 'ipywidgets.widgets.widget_layout', 'ipywidgets.widgets.widget_style', 'ipywidgets.widgets.domwidget', 'ipywidgets.widgets.valuewidget', 'ipywidgets.widgets.widget_core', 'ipywidgets.widgets.widget_description', 'ipywidgets.widgets.widget_bool', 'ipywidgets.widgets.widget_button', 'ipywidgets.widgets.docutils', 'ipywidgets.widgets.widget_box', 'ipywidgets.widgets.widget_int', 'ipywidgets.widgets.widget_float', 'ipywidgets.widgets.widget_color', 'ipywidgets.widgets.widget_date', 'ipywidgets.widgets.widget_output', 'ipywidgets.widgets.widget_selection', 'ipywidgets.widgets.widget_selectioncontainer', 'ipywidgets.widgets.widget_string', 'ipywidgets.widgets.widget_controller', 'ipywidgets.widgets.interaction', 'ipywidgets.widgets.widget_link', 'ipywidgets.widgets.widget_media', 'ipywidgets.widgets.widget_templates', 'ipywidgets.widgets.widget_upload', 'ipywidgets.widgets', 'ipywidgets', 'tqdm.notebook', 'multiprocessing.synchronize', 'matplotlib', 'matplotlib._api.deprecation', 'matplotlib._api', 'matplotlib._c_internal_utils', 'matplotlib.cbook', 'matplotlib.docstring', 'matplotlib._animation_data', 'matplotlib.animation', 'matplotlib._path', 'matplotlib.bezier', 'matplotlib.path', 'matplotlib.transforms', 'matplotlib.ticker', 'matplotlib.scale', 'matplotlib._color_data', 'matplotlib.colors', 'matplotlib.fontconfig_pattern', 'matplotlib._enums', 'cycler', 'matplotlib.rcsetup', 'matplotlib._version', 'matplotlib.ft2font', 'kiwisolver', 'dateutil.rrule', 'matplotlib.units', 'matplotlib.dates']\n"
     ]
    },
    {
     "name": "stderr",
     "output_type": "stream",
     "text": [
      "DEBUG:matplotlib:CACHEDIR=/home/zhangi/.cache/matplotlib\n",
      "DEBUG:matplotlib.font_manager:Using fontManager instance from /home/zhangi/.cache/matplotlib/fontlist-v330.json\n",
      "DEBUG:matplotlib.pyplot:Loaded backend module://ipykernel.pylab.backend_inline version unknown.\n",
      "DEBUG:matplotlib.pyplot:Loaded backend module://ipykernel.pylab.backend_inline version unknown.\n"
     ]
    }
   ],
   "source": [
    "import matplotlib.pyplot as plt"
   ]
  },
  {
   "cell_type": "code",
   "execution_count": 21,
   "id": "fe2eefdb",
   "metadata": {},
   "outputs": [
    {
     "data": {
      "text/plain": [
       "[<matplotlib.lines.Line2D at 0x2ae2f86ec2e0>]"
      ]
     },
     "execution_count": 21,
     "metadata": {},
     "output_type": "execute_result"
    },
    {
     "data": {
      "image/png": "[encoded data removed]",
      "text/plain": [
       "<Figure size 432x288 with 1 Axes>"
      ]
     },
     "metadata": {
      "needs_background": "light"
     },
     "output_type": "display_data"
    }
   ],
   "source": [
    "plt.plot(energies[10:])"
   ]
  },
  {
   "cell_type": "code",
   "execution_count": null,
   "id": "8312e6c8",
   "metadata": {},
   "outputs": [],
   "source": []
  }
 ],
 "metadata": {
  "kernelspec": {
   "display_name": "Python 3",
   "language": "python",
   "name": "python3"
  },
  "language_info": {
   "codemirror_mode": {
    "name": "ipython",
    "version": 3
   },
   "file_extension": ".py",
   "mimetype": "text/x-python",
   "name": "python",
   "nbconvert_exporter": "python",
   "pygments_lexer": "ipython3",
   "version": "3.8.10"
  }
 },
 "nbformat": 4,
 "nbformat_minor": 5
}
