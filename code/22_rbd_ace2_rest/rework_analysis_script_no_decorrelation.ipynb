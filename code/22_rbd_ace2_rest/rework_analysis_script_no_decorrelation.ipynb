{
 "cells": [
  {
   "cell_type": "markdown",
   "metadata": {},
   "source": [
    "# Grab every 10th snapshot from 1000 snapshot cache"
   ]
  },
  {
   "cell_type": "code",
   "execution_count": 1,
   "metadata": {},
   "outputs": [],
   "source": [
    "import math\n",
    "from simtk import unit\n",
    "import os\n",
    "import tempfile\n",
    "import pickle\n",
    "import mdtraj as md\n",
    "import numpy as np\n",
    "from simtk.unit.quantity import Quantity\n",
    "import logging \n",
    "\n",
    "# Set up logger\n",
    "_logger = logging.getLogger()\n",
    "_logger.setLevel(logging.INFO)\n",
    "\n",
    "from matplotlib import pyplot as plt\n",
    "from simtk.openmm import app\n",
    "from tqdm import tqdm, tqdm_notebook\n",
    "import argparse\n",
    "import random\n",
    "import time\n"
   ]
  },
  {
   "cell_type": "code",
   "execution_count": 6,
   "metadata": {},
   "outputs": [],
   "source": [
    "def get_dihedrals(i, name, length, out_dir, htf, dihedral_indices_new, dihedral_indices_old):\n",
    "    \n",
    "    from tqdm import tqdm\n",
    "    \n",
    "    old_top = md.Topology.from_openmm(htf._topology_proposal.old_topology)\n",
    "    new_top = md.Topology.from_openmm(htf._topology_proposal.new_topology)\n",
    "    \n",
    "    # Load nc file\n",
    "    # From Hannah: https://github.com/hannahbrucemacdonald/endstate_pdbs/blob/master/scripts/input_for_pol_calc.py\n",
    "    from perses.analysis.utils import open_netcdf\n",
    "    nc = open_netcdf(os.path.join(out_dir, f\"{i}_{phase}_{name.lower()}_{length}ns.nc\"))\n",
    "    nc_checkpoint = open_netcdf(os.path.join(out_dir, f\"{i}_{phase}_{name.lower()}_{length}ns_checkpoint.nc\"))\n",
    "    checkpoint_interval = nc_checkpoint.CheckpointInterval\n",
    "    all_positions = nc_checkpoint.variables['positions']\n",
    "    n_iter, n_replicas, n_atoms, _ = np.shape(all_positions)\n",
    "\n",
    "    # Initialize arrays for old, new, and hybrid positions\n",
    "    all_pos_new = np.zeros(shape=(n_iter, new_top.n_atoms, 3))\n",
    "    all_pos_old = np.zeros(shape=(n_iter, old_top.n_atoms, 3))\n",
    "    all_pos_hybrid = np.zeros(shape=(n_iter, n_atoms, 3)) # includes solvent atoms\n",
    "    \n",
    "    def new_positions(htf, hybrid_positions):\n",
    "        n_atoms_new = htf._topology_proposal.n_atoms_new\n",
    "        hybrid_indices = [htf._new_to_hybrid_map[idx] for idx in range(n_atoms_new)]\n",
    "        print(\"shape \", hybrid_positions.shape)\n",
    "        return hybrid_positions[hybrid_indices, :]\n",
    "    \n",
    "    def old_positions(htf, hybrid_positions):\n",
    "        n_atoms_old = htf._topology_proposal.n_atoms_old\n",
    "        hybrid_indices = [htf._old_to_hybrid_map[idx] for idx in range(n_atoms_old)]\n",
    "        return hybrid_positions[hybrid_indices, :]\n",
    "    \n",
    "    # Save old, new, and hybrid positions\n",
    "    for iteration in tqdm(range(n_iter)):\n",
    "        replica_id = 0\n",
    "        pos = all_positions[iteration,replica_id,:,:] *unit.nanometers\n",
    "        print(\"shape \", pos.shape)\n",
    "        all_pos_new[iteration] = new_positions(htf, pos).value_in_unit_system(unit.md_unit_system) # Get new positions only\n",
    "        all_pos_hybrid[iteration] = pos # Get hybrid positions\n",
    "        all_pos_old[iteration] = old_positions(htf, pos).value_in_unit_system(unit.md_unit_system)\n",
    "\n",
    "    dihedrals_all = []\n",
    "    for pos, top, indices in zip([all_pos_new, all_pos_old], [new_top, old_top], [dihedral_indices_new, dihedral_indices_old]):\n",
    "        traj = md.Trajectory(np.array(pos), top)\n",
    "        dihedrals = md.compute_dihedrals(traj, np.array([indices]))\n",
    "        dihedrals_all.append(dihedrals)\n",
    "    \n",
    "    return dihedrals_all, n_iter, all_pos_hybrid\n",
    "\n",
    "def plot_dihedrals(dihedrals, outfile):\n",
    "    # Plot histogram with error bars : https://stackoverflow.com/questions/35390276/how-to-add-error-bars-to-histogram-diagram-in-python\n",
    "    entries, edges, _ = plt.hist(dihedrals)\n",
    "    bin_centers = 0.5 * (edges[:-1] + edges[1:]) # calculate bin centers\n",
    "    plt.errorbar(bin_centers, entries, yerr=np.sqrt(entries), fmt='r.') # draw errobars, use the sqrt error\n",
    "    plt.xlim(-np.pi, np.pi)\n",
    "    plt.show()\n",
    "#     plt.savefig(outfile, dpi=300)\n",
    "#     plt.close()\n",
    "    \n",
    "def plot_time_series(dihedrals, n_iter, outfile):\n",
    "    plt.scatter(range(n_iter), dihedrals)\n",
    "    plt.ylabel(\"dihedral\")\n",
    "    plt.xlabel(\"iteration number\")\n",
    "    plt.ylim(-np.pi, np.pi)\n",
    "    plt.show()\n",
    "#     plt.savefig(outfile, dpi=300)\n",
    "#     plt.close()\n"
   ]
  },
  {
   "cell_type": "code",
   "execution_count": 3,
   "metadata": {},
   "outputs": [],
   "source": [
    "outdir = \"/data/chodera/zhangi/perses_benchmark/neq/14/16/\"\n",
    "endstate = 0\n",
    "phase = \"apo\"\n",
    "length = 1\n",
    "i = 16\n",
    "old_aa_name = 'ASN'\n",
    "new_aa_name = 'TYR'\n",
    "resid = '501'\n",
    "name = 'asn'"
   ]
  },
  {
   "cell_type": "code",
   "execution_count": 4,
   "metadata": {},
   "outputs": [],
   "source": [
    "with open(os.path.join(outdir, f\"{i}_{phase}_{endstate}.pickle\"), 'rb') as f:\n",
    "    htf = pickle.load(f)\n"
   ]
  },
  {
   "cell_type": "code",
   "execution_count": 5,
   "metadata": {
    "scrolled": true
   },
   "outputs": [
    {
     "name": "stderr",
     "output_type": "stream",
     "text": [
      "INFO:root:old indices: [2605, 2607, 2609, 2612]\n",
      "INFO:root:new indices: [2605, 2607, 2609, 2612]\n"
     ]
    }
   ],
   "source": [
    "thr_dihedral = ['N', 'CA', 'CB', 'OG1']\n",
    "other_dihedral = ['N', 'CA', 'CB', 'CG']\n",
    "ala_dihedral = ['N', 'CA', 'CB', 'HB1']\n",
    "asp_dihedral = ['CA', 'CB', 'CG', 'OD2']\n",
    "ile_dihedral = ['N', 'CA', 'CB', 'CG2']\n",
    "\n",
    "dihedral_atoms = []\n",
    "for aa_name in [old_aa_name, new_aa_name]:\n",
    "    if aa_name in [\"PHE\", \"TYR\", \"TRP\", \"GLU\", \"LYS\", \"ARG\", \"GLN\", \"ASN\"]:\n",
    "        dihedral_atoms.append(other_dihedral)\n",
    "    elif aa_name == \"THR\":\n",
    "        dihedral_atoms.append(thr_dihedral)\n",
    "    elif aa_name == \"ALA\":\n",
    "        dihedral_atoms.append(ala_dihedral)\n",
    "    elif aa_name == 'ASP':\n",
    "        dihedral_atoms.append(asp_dihedral)\n",
    "    elif aa_name == 'ILE':\n",
    "        dihedral_atoms.append(ile_dihedral)\n",
    "        \n",
    "\n",
    "for res in htf._topology_proposal.old_topology.residues():\n",
    "    if res.id == resid and res.chain.index == 0:\n",
    "        residue_old = res\n",
    "for res in htf._topology_proposal.new_topology.residues():\n",
    "    if res.id == resid and res.chain.index == 0:\n",
    "        residue_new = res\n",
    "# indices_old = [atom.index for atom in list(htf._topology_proposal.old_topology.residues())[int(args.resid)].atoms() if atom.name in dihedral_atoms[0]]\n",
    "# indices_new = [atom.index for atom in list(htf._topology_proposal.new_topology.residues())[int(args.resid)].atoms() if atom.name in dihedral_atoms[1]]\n",
    "indices_old = [atom.index for atom in residue_old.atoms() if atom.name in dihedral_atoms[0]]\n",
    "indices_new = [atom.index for atom in residue_new.atoms() if atom.name in dihedral_atoms[1]]\n",
    "_logger.info(f\"old indices: {indices_old}\")\n",
    "_logger.info(f\"new indices: {indices_new}\")\n",
    "\n"
   ]
  },
  {
   "cell_type": "code",
   "execution_count": 7,
   "metadata": {
    "scrolled": true
   },
   "outputs": [
    {
     "name": "stderr",
     "output_type": "stream",
     "text": [
      "  0%|          | 2/1001 [00:00<01:23, 12.02it/s]"
     ]
    },
    {
     "name": "stdout",
     "output_type": "stream",
     "text": [
      "shape  (58648, 3)\n",
      "shape  (58648, 3)\n",
      "shape  (58648, 3)\n",
      "shape  (58648, 3)\n",
      "shape  (58648, 3)\n",
      "shape  (58648, 3)\n"
     ]
    },
    {
     "name": "stderr",
     "output_type": "stream",
     "text": [
      "\r",
      "  0%|          | 4/1001 [00:00<01:20, 12.43it/s]"
     ]
    },
    {
     "name": "stdout",
     "output_type": "stream",
     "text": [
      "shape  (58648, 3)\n",
      "shape  (58648, 3)\n",
      "shape  (58648, 3)\n",
      "shape  (58648, 3)\n",
      "shape  (58648, 3)\n",
      "shape  (58648, 3)\n"
     ]
    },
    {
     "name": "stderr",
     "output_type": "stream",
     "text": [
      "  1%|          | 8/1001 [00:00<01:17, 12.74it/s]"
     ]
    },
    {
     "name": "stdout",
     "output_type": "stream",
     "text": [
      "shape  (58648, 3)\n",
      "shape  (58648, 3)\n",
      "shape  (58648, 3)\n",
      "shape  (58648, 3)\n",
      "shape  (58648, 3)\n",
      "shape  (58648, 3)\n"
     ]
    },
    {
     "name": "stderr",
     "output_type": "stream",
     "text": [
      "\r",
      "  1%|          | 10/1001 [00:00<01:17, 12.78it/s]"
     ]
    },
    {
     "name": "stdout",
     "output_type": "stream",
     "text": [
      "shape  (58648, 3)\n",
      "shape  (58648, 3)\n",
      "shape  (58648, 3)\n",
      "shape  (58648, 3)\n",
      "shape  (58648, 3)\n",
      "shape  (58648, 3)\n"
     ]
    },
    {
     "name": "stderr",
     "output_type": "stream",
     "text": [
      "  1%|▏         | 14/1001 [00:01<01:16, 12.97it/s]"
     ]
    },
    {
     "name": "stdout",
     "output_type": "stream",
     "text": [
      "shape  (58648, 3)\n",
      "shape  (58648, 3)\n",
      "shape  (58648, 3)\n",
      "shape  (58648, 3)\n",
      "shape  (58648, 3)\n",
      "shape  (58648, 3)\n"
     ]
    },
    {
     "name": "stderr",
     "output_type": "stream",
     "text": [
      "\r",
      "  2%|▏         | 16/1001 [00:01<01:19, 12.38it/s]"
     ]
    },
    {
     "name": "stdout",
     "output_type": "stream",
     "text": [
      "shape  (58648, 3)\n",
      "shape  (58648, 3)\n",
      "shape  (58648, 3)\n",
      "shape  (58648, 3)\n",
      "shape  (58648, 3)\n",
      "shape  (58648, 3)\n"
     ]
    },
    {
     "name": "stderr",
     "output_type": "stream",
     "text": [
      "  2%|▏         | 20/1001 [00:01<01:16, 12.75it/s]"
     ]
    },
    {
     "name": "stdout",
     "output_type": "stream",
     "text": [
      "shape  (58648, 3)\n",
      "shape  (58648, 3)\n",
      "shape  (58648, 3)\n",
      "shape  (58648, 3)\n",
      "shape  (58648, 3)\n",
      "shape  (58648, 3)\n"
     ]
    },
    {
     "name": "stderr",
     "output_type": "stream",
     "text": [
      "\r",
      "  2%|▏         | 22/1001 [00:01<01:16, 12.77it/s]"
     ]
    },
    {
     "name": "stdout",
     "output_type": "stream",
     "text": [
      "shape  (58648, 3)\n",
      "shape  (58648, 3)\n",
      "shape  (58648, 3)\n",
      "shape  (58648, 3)\n",
      "shape  (58648, 3)\n",
      "shape  (58648, 3)\n"
     ]
    },
    {
     "name": "stderr",
     "output_type": "stream",
     "text": [
      "  3%|▎         | 26/1001 [00:02<01:15, 12.95it/s]"
     ]
    },
    {
     "name": "stdout",
     "output_type": "stream",
     "text": [
      "shape  (58648, 3)\n",
      "shape  (58648, 3)\n",
      "shape  (58648, 3)\n",
      "shape  (58648, 3)\n",
      "shape  (58648, 3)\n",
      "shape  (58648, 3)\n"
     ]
    },
    {
     "name": "stderr",
     "output_type": "stream",
     "text": [
      "\r",
      "  3%|▎         | 28/1001 [00:02<01:15, 12.90it/s]"
     ]
    },
    {
     "name": "stdout",
     "output_type": "stream",
     "text": [
      "shape  (58648, 3)\n",
      "shape  (58648, 3)\n",
      "shape  (58648, 3)\n",
      "shape  (58648, 3)\n",
      "shape  (58648, 3)\n",
      "shape  (58648, 3)\n"
     ]
    },
    {
     "name": "stderr",
     "output_type": "stream",
     "text": [
      "  3%|▎         | 32/1001 [00:02<01:14, 12.97it/s]"
     ]
    },
    {
     "name": "stdout",
     "output_type": "stream",
     "text": [
      "shape  (58648, 3)\n",
      "shape  (58648, 3)\n",
      "shape  (58648, 3)\n",
      "shape  (58648, 3)\n",
      "shape  (58648, 3)\n",
      "shape  (58648, 3)\n"
     ]
    },
    {
     "name": "stderr",
     "output_type": "stream",
     "text": [
      "\r",
      "  3%|▎         | 34/1001 [00:02<01:15, 12.88it/s]"
     ]
    },
    {
     "name": "stdout",
     "output_type": "stream",
     "text": [
      "shape  (58648, 3)\n",
      "shape  (58648, 3)\n",
      "shape  (58648, 3)\n",
      "shape  (58648, 3)\n",
      "shape  (58648, 3)\n",
      "shape  (58648, 3)\n"
     ]
    },
    {
     "name": "stderr",
     "output_type": "stream",
     "text": [
      "  4%|▍         | 38/1001 [00:02<01:14, 12.87it/s]"
     ]
    },
    {
     "name": "stdout",
     "output_type": "stream",
     "text": [
      "shape  (58648, 3)\n",
      "shape  (58648, 3)\n",
      "shape  (58648, 3)\n",
      "shape  (58648, 3)\n",
      "shape  (58648, 3)\n",
      "shape  (58648, 3)\n"
     ]
    },
    {
     "name": "stderr",
     "output_type": "stream",
     "text": [
      "\r",
      "  4%|▍         | 40/1001 [00:03<01:14, 12.85it/s]"
     ]
    },
    {
     "name": "stdout",
     "output_type": "stream",
     "text": [
      "shape  (58648, 3)\n",
      "shape  (58648, 3)\n",
      "shape  (58648, 3)\n",
      "shape  (58648, 3)\n",
      "shape  (58648, 3)\n",
      "shape  (58648, 3)\n"
     ]
    },
    {
     "name": "stderr",
     "output_type": "stream",
     "text": [
      "  4%|▍         | 44/1001 [00:03<01:13, 12.95it/s]"
     ]
    },
    {
     "name": "stdout",
     "output_type": "stream",
     "text": [
      "shape  (58648, 3)\n",
      "shape  (58648, 3)\n",
      "shape  (58648, 3)\n",
      "shape  (58648, 3)\n",
      "shape  (58648, 3)\n",
      "shape  (58648, 3)\n"
     ]
    },
    {
     "name": "stderr",
     "output_type": "stream",
     "text": [
      "\r",
      "  5%|▍         | 46/1001 [00:03<01:13, 12.93it/s]"
     ]
    },
    {
     "name": "stdout",
     "output_type": "stream",
     "text": [
      "shape  (58648, 3)\n",
      "shape  (58648, 3)\n",
      "shape  (58648, 3)\n",
      "shape  (58648, 3)\n",
      "shape  (58648, 3)\n",
      "shape  (58648, 3)\n"
     ]
    },
    {
     "name": "stderr",
     "output_type": "stream",
     "text": [
      "  5%|▍         | 50/1001 [00:03<01:12, 13.03it/s]"
     ]
    },
    {
     "name": "stdout",
     "output_type": "stream",
     "text": [
      "shape  (58648, 3)\n",
      "shape  (58648, 3)\n",
      "shape  (58648, 3)\n",
      "shape  (58648, 3)\n",
      "shape  (58648, 3)\n",
      "shape  (58648, 3)\n"
     ]
    },
    {
     "name": "stderr",
     "output_type": "stream",
     "text": [
      "\r",
      "  5%|▌         | 52/1001 [00:04<01:12, 13.02it/s]"
     ]
    },
    {
     "name": "stdout",
     "output_type": "stream",
     "text": [
      "shape  (58648, 3)\n",
      "shape  (58648, 3)\n",
      "shape  (58648, 3)\n",
      "shape  (58648, 3)\n",
      "shape  (58648, 3)\n",
      "shape  (58648, 3)\n"
     ]
    },
    {
     "name": "stderr",
     "output_type": "stream",
     "text": [
      "  6%|▌         | 56/1001 [00:04<01:12, 13.03it/s]"
     ]
    },
    {
     "name": "stdout",
     "output_type": "stream",
     "text": [
      "shape  (58648, 3)\n",
      "shape  (58648, 3)\n",
      "shape  (58648, 3)\n",
      "shape  (58648, 3)\n",
      "shape  (58648, 3)\n",
      "shape  (58648, 3)\n"
     ]
    },
    {
     "name": "stderr",
     "output_type": "stream",
     "text": [
      "\r",
      "  6%|▌         | 58/1001 [00:04<01:12, 13.01it/s]"
     ]
    },
    {
     "name": "stdout",
     "output_type": "stream",
     "text": [
      "shape  (58648, 3)\n",
      "shape  (58648, 3)\n",
      "shape  (58648, 3)\n",
      "shape  (58648, 3)\n",
      "shape  (58648, 3)\n",
      "shape  (58648, 3)\n"
     ]
    },
    {
     "name": "stderr",
     "output_type": "stream",
     "text": [
      "  6%|▌         | 62/1001 [00:04<01:11, 13.08it/s]"
     ]
    },
    {
     "name": "stdout",
     "output_type": "stream",
     "text": [
      "shape  (58648, 3)\n",
      "shape  (58648, 3)\n",
      "shape  (58648, 3)\n",
      "shape  (58648, 3)\n",
      "shape  (58648, 3)\n",
      "shape  (58648, 3)\n"
     ]
    },
    {
     "name": "stderr",
     "output_type": "stream",
     "text": [
      "\r",
      "  6%|▋         | 64/1001 [00:04<01:12, 13.00it/s]"
     ]
    },
    {
     "name": "stdout",
     "output_type": "stream",
     "text": [
      "shape  (58648, 3)\n",
      "shape  (58648, 3)\n",
      "shape  (58648, 3)\n",
      "shape  (58648, 3)\n",
      "shape  (58648, 3)\n",
      "shape  (58648, 3)\n"
     ]
    },
    {
     "name": "stderr",
     "output_type": "stream",
     "text": [
      "  7%|▋         | 68/1001 [00:05<01:11, 13.08it/s]"
     ]
    },
    {
     "name": "stdout",
     "output_type": "stream",
     "text": [
      "shape  (58648, 3)\n",
      "shape  (58648, 3)\n",
      "shape  (58648, 3)\n",
      "shape  (58648, 3)\n",
      "shape  (58648, 3)\n",
      "shape  (58648, 3)\n"
     ]
    },
    {
     "name": "stderr",
     "output_type": "stream",
     "text": [
      "\r",
      "  7%|▋         | 70/1001 [00:05<01:12, 12.91it/s]"
     ]
    },
    {
     "name": "stdout",
     "output_type": "stream",
     "text": [
      "shape  (58648, 3)\n",
      "shape  (58648, 3)\n",
      "shape  (58648, 3)\n",
      "shape  (58648, 3)\n",
      "shape  (58648, 3)\n",
      "shape  (58648, 3)\n"
     ]
    },
    {
     "name": "stderr",
     "output_type": "stream",
     "text": [
      "  7%|▋         | 74/1001 [00:05<01:11, 12.96it/s]"
     ]
    },
    {
     "name": "stdout",
     "output_type": "stream",
     "text": [
      "shape  (58648, 3)\n",
      "shape  (58648, 3)\n",
      "shape  (58648, 3)\n",
      "shape  (58648, 3)\n",
      "shape  (58648, 3)\n",
      "shape  (58648, 3)\n"
     ]
    },
    {
     "name": "stderr",
     "output_type": "stream",
     "text": [
      "\r",
      "  8%|▊         | 76/1001 [00:05<01:11, 13.01it/s]"
     ]
    },
    {
     "name": "stdout",
     "output_type": "stream",
     "text": [
      "shape  (58648, 3)\n",
      "shape  (58648, 3)\n",
      "shape  (58648, 3)\n",
      "shape  (58648, 3)\n",
      "shape  (58648, 3)\n",
      "shape  (58648, 3)\n"
     ]
    },
    {
     "name": "stderr",
     "output_type": "stream",
     "text": [
      "  8%|▊         | 80/1001 [00:06<01:10, 12.99it/s]"
     ]
    },
    {
     "name": "stdout",
     "output_type": "stream",
     "text": [
      "shape  (58648, 3)\n",
      "shape  (58648, 3)\n",
      "shape  (58648, 3)\n",
      "shape  (58648, 3)\n",
      "shape  (58648, 3)\n",
      "shape  (58648, 3)\n"
     ]
    },
    {
     "name": "stderr",
     "output_type": "stream",
     "text": [
      "\r",
      "  8%|▊         | 82/1001 [00:06<01:10, 13.02it/s]"
     ]
    },
    {
     "name": "stdout",
     "output_type": "stream",
     "text": [
      "shape  (58648, 3)\n",
      "shape  (58648, 3)\n",
      "shape  (58648, 3)\n",
      "shape  (58648, 3)\n",
      "shape  (58648, 3)\n",
      "shape  (58648, 3)\n"
     ]
    },
    {
     "name": "stderr",
     "output_type": "stream",
     "text": [
      "  9%|▊         | 86/1001 [00:06<01:10, 13.02it/s]"
     ]
    },
    {
     "name": "stdout",
     "output_type": "stream",
     "text": [
      "shape  (58648, 3)\n",
      "shape  (58648, 3)\n",
      "shape  (58648, 3)\n",
      "shape  (58648, 3)\n",
      "shape  (58648, 3)\n",
      "shape  (58648, 3)\n"
     ]
    },
    {
     "name": "stderr",
     "output_type": "stream",
     "text": [
      "\r",
      "  9%|▉         | 88/1001 [00:06<01:09, 13.09it/s]"
     ]
    },
    {
     "name": "stdout",
     "output_type": "stream",
     "text": [
      "shape  (58648, 3)\n",
      "shape  (58648, 3)\n",
      "shape  (58648, 3)\n",
      "shape  (58648, 3)\n",
      "shape  (58648, 3)\n",
      "shape  (58648, 3)\n"
     ]
    },
    {
     "name": "stderr",
     "output_type": "stream",
     "text": [
      "  9%|▉         | 92/1001 [00:07<01:09, 13.08it/s]"
     ]
    },
    {
     "name": "stdout",
     "output_type": "stream",
     "text": [
      "shape  (58648, 3)\n",
      "shape  (58648, 3)\n",
      "shape  (58648, 3)\n",
      "shape  (58648, 3)\n",
      "shape  (58648, 3)\n",
      "shape  (58648, 3)\n"
     ]
    },
    {
     "name": "stderr",
     "output_type": "stream",
     "text": [
      "\r",
      "  9%|▉         | 94/1001 [00:07<01:09, 13.08it/s]"
     ]
    },
    {
     "name": "stdout",
     "output_type": "stream",
     "text": [
      "shape  (58648, 3)\n",
      "shape  (58648, 3)\n",
      "shape  (58648, 3)\n",
      "shape  (58648, 3)\n",
      "shape  (58648, 3)\n",
      "shape  (58648, 3)\n"
     ]
    },
    {
     "name": "stderr",
     "output_type": "stream",
     "text": [
      " 10%|▉         | 98/1001 [00:07<01:09, 13.04it/s]"
     ]
    },
    {
     "name": "stdout",
     "output_type": "stream",
     "text": [
      "shape  (58648, 3)\n",
      "shape  (58648, 3)\n",
      "shape  (58648, 3)\n",
      "shape  (58648, 3)\n",
      "shape  (58648, 3)\n",
      "shape  (58648, 3)\n"
     ]
    },
    {
     "name": "stderr",
     "output_type": "stream",
     "text": [
      "\r",
      " 10%|▉         | 100/1001 [00:07<01:09, 12.95it/s]"
     ]
    },
    {
     "name": "stdout",
     "output_type": "stream",
     "text": [
      "shape  (58648, 3)\n",
      "shape  (58648, 3)\n",
      "shape  (58648, 3)\n",
      "shape  (58648, 3)\n",
      "shape  (58648, 3)\n",
      "shape  (58648, 3)\n"
     ]
    },
    {
     "name": "stderr",
     "output_type": "stream",
     "text": [
      " 10%|█         | 104/1001 [00:08<01:09, 13.00it/s]"
     ]
    },
    {
     "name": "stdout",
     "output_type": "stream",
     "text": [
      "shape  (58648, 3)\n",
      "shape  (58648, 3)\n",
      "shape  (58648, 3)\n",
      "shape  (58648, 3)\n",
      "shape  (58648, 3)\n",
      "shape  (58648, 3)\n"
     ]
    },
    {
     "name": "stderr",
     "output_type": "stream",
     "text": [
      "\r",
      " 11%|█         | 106/1001 [00:08<01:08, 13.02it/s]"
     ]
    },
    {
     "name": "stdout",
     "output_type": "stream",
     "text": [
      "shape  (58648, 3)\n",
      "shape  (58648, 3)\n",
      "shape  (58648, 3)\n",
      "shape  (58648, 3)\n",
      "shape  (58648, 3)\n",
      "shape  (58648, 3)\n"
     ]
    },
    {
     "name": "stderr",
     "output_type": "stream",
     "text": [
      " 11%|█         | 110/1001 [00:08<01:08, 13.01it/s]"
     ]
    },
    {
     "name": "stdout",
     "output_type": "stream",
     "text": [
      "shape  (58648, 3)\n",
      "shape  (58648, 3)\n",
      "shape  (58648, 3)\n",
      "shape  (58648, 3)\n",
      "shape  (58648, 3)\n",
      "shape  (58648, 3)\n"
     ]
    },
    {
     "name": "stderr",
     "output_type": "stream",
     "text": [
      "\r",
      " 11%|█         | 112/1001 [00:08<01:08, 12.99it/s]"
     ]
    },
    {
     "name": "stdout",
     "output_type": "stream",
     "text": [
      "shape  (58648, 3)\n",
      "shape  (58648, 3)\n",
      "shape  (58648, 3)\n",
      "shape  (58648, 3)\n",
      "shape  (58648, 3)\n",
      "shape  (58648, 3)\n"
     ]
    },
    {
     "name": "stderr",
     "output_type": "stream",
     "text": [
      " 12%|█▏        | 116/1001 [00:08<01:07, 13.02it/s]"
     ]
    },
    {
     "name": "stdout",
     "output_type": "stream",
     "text": [
      "shape  (58648, 3)\n",
      "shape  (58648, 3)\n",
      "shape  (58648, 3)\n",
      "shape  (58648, 3)\n",
      "shape  (58648, 3)\n",
      "shape  (58648, 3)\n"
     ]
    },
    {
     "name": "stderr",
     "output_type": "stream",
     "text": [
      "\r",
      " 12%|█▏        | 118/1001 [00:09<01:07, 12.99it/s]"
     ]
    },
    {
     "name": "stdout",
     "output_type": "stream",
     "text": [
      "shape  (58648, 3)\n",
      "shape  (58648, 3)\n",
      "shape  (58648, 3)\n",
      "shape  (58648, 3)\n",
      "shape  (58648, 3)\n",
      "shape  (58648, 3)\n"
     ]
    },
    {
     "name": "stderr",
     "output_type": "stream",
     "text": [
      " 12%|█▏        | 122/1001 [00:09<01:07, 13.03it/s]"
     ]
    },
    {
     "name": "stdout",
     "output_type": "stream",
     "text": [
      "shape  (58648, 3)\n",
      "shape  (58648, 3)\n",
      "shape  (58648, 3)\n",
      "shape  (58648, 3)\n",
      "shape  (58648, 3)\n",
      "shape  (58648, 3)\n"
     ]
    },
    {
     "name": "stderr",
     "output_type": "stream",
     "text": [
      "\r",
      " 12%|█▏        | 124/1001 [00:09<01:07, 13.04it/s]"
     ]
    },
    {
     "name": "stdout",
     "output_type": "stream",
     "text": [
      "shape  (58648, 3)\n",
      "shape  (58648, 3)\n",
      "shape  (58648, 3)\n",
      "shape  (58648, 3)\n",
      "shape  (58648, 3)\n",
      "shape  (58648, 3)\n"
     ]
    },
    {
     "name": "stderr",
     "output_type": "stream",
     "text": [
      " 13%|█▎        | 128/1001 [00:09<01:07, 12.99it/s]"
     ]
    },
    {
     "name": "stdout",
     "output_type": "stream",
     "text": [
      "shape  (58648, 3)\n",
      "shape  (58648, 3)\n",
      "shape  (58648, 3)\n",
      "shape  (58648, 3)\n",
      "shape  (58648, 3)\n",
      "shape  (58648, 3)\n"
     ]
    },
    {
     "name": "stderr",
     "output_type": "stream",
     "text": [
      "\r",
      " 13%|█▎        | 130/1001 [00:10<01:07, 12.98it/s]"
     ]
    },
    {
     "name": "stdout",
     "output_type": "stream",
     "text": [
      "shape  (58648, 3)\n",
      "shape  (58648, 3)\n",
      "shape  (58648, 3)\n",
      "shape  (58648, 3)\n",
      "shape  (58648, 3)\n",
      "shape  (58648, 3)\n"
     ]
    },
    {
     "name": "stderr",
     "output_type": "stream",
     "text": [
      " 13%|█▎        | 134/1001 [00:10<01:07, 12.94it/s]"
     ]
    },
    {
     "name": "stdout",
     "output_type": "stream",
     "text": [
      "shape  (58648, 3)\n",
      "shape  (58648, 3)\n",
      "shape  (58648, 3)\n",
      "shape  (58648, 3)\n",
      "shape  (58648, 3)\n",
      "shape  (58648, 3)\n"
     ]
    },
    {
     "name": "stderr",
     "output_type": "stream",
     "text": [
      "\r",
      " 14%|█▎        | 136/1001 [00:10<01:07, 12.89it/s]"
     ]
    },
    {
     "name": "stdout",
     "output_type": "stream",
     "text": [
      "shape  (58648, 3)\n",
      "shape  (58648, 3)\n",
      "shape  (58648, 3)\n",
      "shape  (58648, 3)\n",
      "shape  (58648, 3)\n",
      "shape  (58648, 3)\n"
     ]
    },
    {
     "name": "stderr",
     "output_type": "stream",
     "text": [
      " 14%|█▍        | 140/1001 [00:10<01:06, 13.01it/s]"
     ]
    },
    {
     "name": "stdout",
     "output_type": "stream",
     "text": [
      "shape  (58648, 3)\n",
      "shape  (58648, 3)\n",
      "shape  (58648, 3)\n",
      "shape  (58648, 3)\n",
      "shape  (58648, 3)\n",
      "shape  (58648, 3)\n"
     ]
    },
    {
     "name": "stderr",
     "output_type": "stream",
     "text": [
      "\r",
      " 14%|█▍        | 142/1001 [00:10<01:06, 12.92it/s]"
     ]
    },
    {
     "name": "stdout",
     "output_type": "stream",
     "text": [
      "shape  (58648, 3)\n",
      "shape  (58648, 3)\n",
      "shape  (58648, 3)\n",
      "shape  (58648, 3)\n",
      "shape  (58648, 3)\n",
      "shape  (58648, 3)\n"
     ]
    },
    {
     "name": "stderr",
     "output_type": "stream",
     "text": [
      " 15%|█▍        | 146/1001 [00:11<01:05, 13.06it/s]"
     ]
    },
    {
     "name": "stdout",
     "output_type": "stream",
     "text": [
      "shape  (58648, 3)\n",
      "shape  (58648, 3)\n",
      "shape  (58648, 3)\n",
      "shape  (58648, 3)\n",
      "shape  (58648, 3)\n",
      "shape  (58648, 3)\n"
     ]
    },
    {
     "name": "stderr",
     "output_type": "stream",
     "text": [
      "\r",
      " 15%|█▍        | 148/1001 [00:11<01:05, 12.98it/s]"
     ]
    },
    {
     "name": "stdout",
     "output_type": "stream",
     "text": [
      "shape  (58648, 3)\n",
      "shape  (58648, 3)\n",
      "shape  (58648, 3)\n",
      "shape  (58648, 3)\n",
      "shape  (58648, 3)\n",
      "shape  (58648, 3)\n"
     ]
    },
    {
     "name": "stderr",
     "output_type": "stream",
     "text": [
      " 15%|█▌        | 152/1001 [00:11<01:05, 13.06it/s]"
     ]
    },
    {
     "name": "stdout",
     "output_type": "stream",
     "text": [
      "shape  (58648, 3)\n",
      "shape  (58648, 3)\n",
      "shape  (58648, 3)\n",
      "shape  (58648, 3)\n",
      "shape  (58648, 3)\n",
      "shape  (58648, 3)\n"
     ]
    },
    {
     "name": "stderr",
     "output_type": "stream",
     "text": [
      "\r",
      " 15%|█▌        | 154/1001 [00:11<01:05, 12.84it/s]"
     ]
    },
    {
     "name": "stdout",
     "output_type": "stream",
     "text": [
      "shape  (58648, 3)\n",
      "shape  (58648, 3)\n",
      "shape  (58648, 3)\n",
      "shape  (58648, 3)\n",
      "shape  (58648, 3)\n",
      "shape  (58648, 3)\n"
     ]
    },
    {
     "name": "stderr",
     "output_type": "stream",
     "text": [
      " 16%|█▌        | 158/1001 [00:12<01:04, 12.97it/s]"
     ]
    },
    {
     "name": "stdout",
     "output_type": "stream",
     "text": [
      "shape  (58648, 3)\n",
      "shape  (58648, 3)\n",
      "shape  (58648, 3)\n",
      "shape  (58648, 3)\n",
      "shape  (58648, 3)\n",
      "shape  (58648, 3)\n"
     ]
    },
    {
     "name": "stderr",
     "output_type": "stream",
     "text": [
      "\r",
      " 16%|█▌        | 160/1001 [00:12<01:05, 12.88it/s]"
     ]
    },
    {
     "name": "stdout",
     "output_type": "stream",
     "text": [
      "shape  (58648, 3)\n",
      "shape  (58648, 3)\n",
      "shape  (58648, 3)\n",
      "shape  (58648, 3)\n",
      "shape  (58648, 3)\n",
      "shape  (58648, 3)\n"
     ]
    },
    {
     "name": "stderr",
     "output_type": "stream",
     "text": [
      " 16%|█▋        | 164/1001 [00:12<01:04, 12.88it/s]"
     ]
    },
    {
     "name": "stdout",
     "output_type": "stream",
     "text": [
      "shape  (58648, 3)\n",
      "shape  (58648, 3)\n",
      "shape  (58648, 3)\n",
      "shape  (58648, 3)\n",
      "shape  (58648, 3)\n",
      "shape  (58648, 3)\n"
     ]
    },
    {
     "name": "stderr",
     "output_type": "stream",
     "text": [
      "\r",
      " 17%|█▋        | 166/1001 [00:12<01:04, 12.87it/s]"
     ]
    },
    {
     "name": "stdout",
     "output_type": "stream",
     "text": [
      "shape  (58648, 3)\n",
      "shape  (58648, 3)\n",
      "shape  (58648, 3)\n",
      "shape  (58648, 3)\n",
      "shape  (58648, 3)\n",
      "shape  (58648, 3)\n"
     ]
    },
    {
     "name": "stderr",
     "output_type": "stream",
     "text": [
      " 17%|█▋        | 170/1001 [00:13<01:03, 12.99it/s]"
     ]
    },
    {
     "name": "stdout",
     "output_type": "stream",
     "text": [
      "shape  (58648, 3)\n",
      "shape  (58648, 3)\n",
      "shape  (58648, 3)\n",
      "shape  (58648, 3)\n",
      "shape  (58648, 3)\n",
      "shape  (58648, 3)\n"
     ]
    },
    {
     "name": "stderr",
     "output_type": "stream",
     "text": [
      "\r",
      " 17%|█▋        | 172/1001 [00:13<01:04, 12.93it/s]"
     ]
    },
    {
     "name": "stdout",
     "output_type": "stream",
     "text": [
      "shape  (58648, 3)\n",
      "shape  (58648, 3)\n",
      "shape  (58648, 3)\n",
      "shape  (58648, 3)\n",
      "shape  (58648, 3)\n",
      "shape  (58648, 3)\n"
     ]
    },
    {
     "name": "stderr",
     "output_type": "stream",
     "text": [
      " 18%|█▊        | 176/1001 [00:13<01:03, 13.01it/s]"
     ]
    },
    {
     "name": "stdout",
     "output_type": "stream",
     "text": [
      "shape  (58648, 3)\n",
      "shape  (58648, 3)\n",
      "shape  (58648, 3)\n",
      "shape  (58648, 3)\n",
      "shape  (58648, 3)\n",
      "shape  (58648, 3)\n"
     ]
    },
    {
     "name": "stderr",
     "output_type": "stream",
     "text": [
      "\r",
      " 18%|█▊        | 178/1001 [00:13<01:03, 12.94it/s]"
     ]
    },
    {
     "name": "stdout",
     "output_type": "stream",
     "text": [
      "shape  (58648, 3)\n",
      "shape  (58648, 3)\n",
      "shape  (58648, 3)\n",
      "shape  (58648, 3)\n",
      "shape  (58648, 3)\n",
      "shape  (58648, 3)\n"
     ]
    },
    {
     "name": "stderr",
     "output_type": "stream",
     "text": [
      " 18%|█▊        | 182/1001 [00:14<01:02, 13.05it/s]"
     ]
    },
    {
     "name": "stdout",
     "output_type": "stream",
     "text": [
      "shape  (58648, 3)\n",
      "shape  (58648, 3)\n",
      "shape  (58648, 3)\n",
      "shape  (58648, 3)\n",
      "shape  (58648, 3)\n",
      "shape  (58648, 3)\n"
     ]
    },
    {
     "name": "stderr",
     "output_type": "stream",
     "text": [
      "\r",
      " 18%|█▊        | 184/1001 [00:14<01:02, 13.00it/s]"
     ]
    },
    {
     "name": "stdout",
     "output_type": "stream",
     "text": [
      "shape  (58648, 3)\n",
      "shape  (58648, 3)\n",
      "shape  (58648, 3)\n",
      "shape  (58648, 3)\n",
      "shape  (58648, 3)\n",
      "shape  (58648, 3)\n"
     ]
    },
    {
     "name": "stderr",
     "output_type": "stream",
     "text": [
      " 19%|█▉        | 188/1001 [00:14<01:01, 13.12it/s]"
     ]
    },
    {
     "name": "stdout",
     "output_type": "stream",
     "text": [
      "shape  (58648, 3)\n",
      "shape  (58648, 3)\n",
      "shape  (58648, 3)\n",
      "shape  (58648, 3)\n",
      "shape  (58648, 3)\n",
      "shape  (58648, 3)\n"
     ]
    },
    {
     "name": "stderr",
     "output_type": "stream",
     "text": [
      "\r",
      " 19%|█▉        | 190/1001 [00:14<01:02, 13.02it/s]"
     ]
    },
    {
     "name": "stdout",
     "output_type": "stream",
     "text": [
      "shape  (58648, 3)\n",
      "shape  (58648, 3)\n",
      "shape  (58648, 3)\n",
      "shape  (58648, 3)\n",
      "shape  (58648, 3)\n",
      "shape  (58648, 3)\n"
     ]
    },
    {
     "name": "stderr",
     "output_type": "stream",
     "text": [
      " 19%|█▉        | 194/1001 [00:14<01:02, 12.97it/s]"
     ]
    },
    {
     "name": "stdout",
     "output_type": "stream",
     "text": [
      "shape  (58648, 3)\n",
      "shape  (58648, 3)\n",
      "shape  (58648, 3)\n",
      "shape  (58648, 3)\n",
      "shape  (58648, 3)\n",
      "shape  (58648, 3)\n"
     ]
    },
    {
     "name": "stderr",
     "output_type": "stream",
     "text": [
      "\r",
      " 20%|█▉        | 196/1001 [00:15<01:02, 12.96it/s]"
     ]
    },
    {
     "name": "stdout",
     "output_type": "stream",
     "text": [
      "shape  (58648, 3)\n",
      "shape  (58648, 3)\n",
      "shape  (58648, 3)\n",
      "shape  (58648, 3)\n",
      "shape  (58648, 3)\n",
      "shape  (58648, 3)\n"
     ]
    },
    {
     "name": "stderr",
     "output_type": "stream",
     "text": [
      " 20%|█▉        | 200/1001 [00:15<01:01, 13.03it/s]"
     ]
    },
    {
     "name": "stdout",
     "output_type": "stream",
     "text": [
      "shape  (58648, 3)\n",
      "shape  (58648, 3)\n",
      "shape  (58648, 3)\n",
      "shape  (58648, 3)\n",
      "shape  (58648, 3)\n",
      "shape  (58648, 3)\n"
     ]
    },
    {
     "name": "stderr",
     "output_type": "stream",
     "text": [
      "\r",
      " 20%|██        | 202/1001 [00:15<01:01, 13.01it/s]"
     ]
    },
    {
     "name": "stdout",
     "output_type": "stream",
     "text": [
      "shape  (58648, 3)\n",
      "shape  (58648, 3)\n",
      "shape  (58648, 3)\n",
      "shape  (58648, 3)\n",
      "shape  (58648, 3)\n",
      "shape  (58648, 3)\n"
     ]
    },
    {
     "name": "stderr",
     "output_type": "stream",
     "text": [
      " 21%|██        | 206/1001 [00:15<01:00, 13.03it/s]"
     ]
    },
    {
     "name": "stdout",
     "output_type": "stream",
     "text": [
      "shape  (58648, 3)\n",
      "shape  (58648, 3)\n",
      "shape  (58648, 3)\n",
      "shape  (58648, 3)\n",
      "shape  (58648, 3)\n",
      "shape  (58648, 3)\n"
     ]
    },
    {
     "name": "stderr",
     "output_type": "stream",
     "text": [
      "\r",
      " 21%|██        | 208/1001 [00:16<01:00, 13.02it/s]"
     ]
    },
    {
     "name": "stdout",
     "output_type": "stream",
     "text": [
      "shape  (58648, 3)\n",
      "shape  (58648, 3)\n",
      "shape  (58648, 3)\n",
      "shape  (58648, 3)\n",
      "shape  (58648, 3)\n",
      "shape  (58648, 3)\n"
     ]
    },
    {
     "name": "stderr",
     "output_type": "stream",
     "text": [
      " 21%|██        | 212/1001 [00:16<01:01, 12.77it/s]"
     ]
    },
    {
     "name": "stdout",
     "output_type": "stream",
     "text": [
      "shape  (58648, 3)\n",
      "shape  (58648, 3)\n",
      "shape  (58648, 3)\n",
      "shape  (58648, 3)\n",
      "shape  (58648, 3)\n",
      "shape  (58648, 3)\n"
     ]
    },
    {
     "name": "stderr",
     "output_type": "stream",
     "text": [
      "\r",
      " 21%|██▏       | 214/1001 [00:16<01:01, 12.86it/s]"
     ]
    },
    {
     "name": "stdout",
     "output_type": "stream",
     "text": [
      "shape  (58648, 3)\n",
      "shape  (58648, 3)\n",
      "shape  (58648, 3)\n",
      "shape  (58648, 3)\n",
      "shape  (58648, 3)\n",
      "shape  (58648, 3)\n"
     ]
    },
    {
     "name": "stderr",
     "output_type": "stream",
     "text": [
      " 22%|██▏       | 218/1001 [00:16<01:00, 12.87it/s]"
     ]
    },
    {
     "name": "stdout",
     "output_type": "stream",
     "text": [
      "shape  (58648, 3)\n",
      "shape  (58648, 3)\n",
      "shape  (58648, 3)\n",
      "shape  (58648, 3)\n",
      "shape  (58648, 3)\n",
      "shape  (58648, 3)\n"
     ]
    },
    {
     "name": "stderr",
     "output_type": "stream",
     "text": [
      "\r",
      " 22%|██▏       | 220/1001 [00:17<01:00, 12.90it/s]"
     ]
    },
    {
     "name": "stdout",
     "output_type": "stream",
     "text": [
      "shape  (58648, 3)\n",
      "shape  (58648, 3)\n",
      "shape  (58648, 3)\n",
      "shape  (58648, 3)\n",
      "shape  (58648, 3)\n",
      "shape  (58648, 3)\n"
     ]
    },
    {
     "name": "stderr",
     "output_type": "stream",
     "text": [
      " 22%|██▏       | 224/1001 [00:17<00:59, 12.97it/s]"
     ]
    },
    {
     "name": "stdout",
     "output_type": "stream",
     "text": [
      "shape  (58648, 3)\n",
      "shape  (58648, 3)\n",
      "shape  (58648, 3)\n",
      "shape  (58648, 3)\n",
      "shape  (58648, 3)\n",
      "shape  (58648, 3)\n"
     ]
    },
    {
     "name": "stderr",
     "output_type": "stream",
     "text": [
      "\r",
      " 23%|██▎       | 226/1001 [00:17<01:00, 12.80it/s]"
     ]
    },
    {
     "name": "stdout",
     "output_type": "stream",
     "text": [
      "shape  (58648, 3)\n",
      "shape  (58648, 3)\n",
      "shape  (58648, 3)\n",
      "shape  (58648, 3)\n",
      "shape  (58648, 3)\n",
      "shape  (58648, 3)\n"
     ]
    },
    {
     "name": "stderr",
     "output_type": "stream",
     "text": [
      " 23%|██▎       | 230/1001 [00:17<00:59, 12.96it/s]"
     ]
    },
    {
     "name": "stdout",
     "output_type": "stream",
     "text": [
      "shape  (58648, 3)\n",
      "shape  (58648, 3)\n",
      "shape  (58648, 3)\n",
      "shape  (58648, 3)\n",
      "shape  (58648, 3)\n",
      "shape  (58648, 3)\n"
     ]
    },
    {
     "name": "stderr",
     "output_type": "stream",
     "text": [
      "\r",
      " 23%|██▎       | 232/1001 [00:17<00:59, 13.01it/s]"
     ]
    },
    {
     "name": "stdout",
     "output_type": "stream",
     "text": [
      "shape  (58648, 3)\n",
      "shape  (58648, 3)\n",
      "shape  (58648, 3)\n",
      "shape  (58648, 3)\n",
      "shape  (58648, 3)\n",
      "shape  (58648, 3)\n"
     ]
    },
    {
     "name": "stderr",
     "output_type": "stream",
     "text": [
      " 24%|██▎       | 236/1001 [00:18<00:58, 13.05it/s]"
     ]
    },
    {
     "name": "stdout",
     "output_type": "stream",
     "text": [
      "shape  (58648, 3)\n",
      "shape  (58648, 3)\n",
      "shape  (58648, 3)\n",
      "shape  (58648, 3)\n",
      "shape  (58648, 3)\n",
      "shape  (58648, 3)\n"
     ]
    },
    {
     "name": "stderr",
     "output_type": "stream",
     "text": [
      "\r",
      " 24%|██▍       | 238/1001 [00:18<00:58, 13.06it/s]"
     ]
    },
    {
     "name": "stdout",
     "output_type": "stream",
     "text": [
      "shape  (58648, 3)\n",
      "shape  (58648, 3)\n",
      "shape  (58648, 3)\n",
      "shape  (58648, 3)\n",
      "shape  (58648, 3)\n",
      "shape  (58648, 3)\n"
     ]
    },
    {
     "name": "stderr",
     "output_type": "stream",
     "text": [
      " 24%|██▍       | 242/1001 [00:18<00:58, 13.08it/s]"
     ]
    },
    {
     "name": "stdout",
     "output_type": "stream",
     "text": [
      "shape  (58648, 3)\n",
      "shape  (58648, 3)\n",
      "shape  (58648, 3)\n",
      "shape  (58648, 3)\n",
      "shape  (58648, 3)\n",
      "shape  (58648, 3)\n"
     ]
    },
    {
     "name": "stderr",
     "output_type": "stream",
     "text": [
      "\r",
      " 24%|██▍       | 244/1001 [00:18<00:57, 13.13it/s]"
     ]
    },
    {
     "name": "stdout",
     "output_type": "stream",
     "text": [
      "shape  (58648, 3)\n",
      "shape  (58648, 3)\n",
      "shape  (58648, 3)\n",
      "shape  (58648, 3)\n",
      "shape  (58648, 3)\n",
      "shape  (58648, 3)\n"
     ]
    },
    {
     "name": "stderr",
     "output_type": "stream",
     "text": [
      " 25%|██▍       | 248/1001 [00:19<00:57, 13.07it/s]"
     ]
    },
    {
     "name": "stdout",
     "output_type": "stream",
     "text": [
      "shape  (58648, 3)\n",
      "shape  (58648, 3)\n",
      "shape  (58648, 3)\n",
      "shape  (58648, 3)\n",
      "shape  (58648, 3)\n",
      "shape  (58648, 3)\n"
     ]
    },
    {
     "name": "stderr",
     "output_type": "stream",
     "text": [
      "\r",
      " 25%|██▍       | 250/1001 [00:19<00:57, 13.07it/s]"
     ]
    },
    {
     "name": "stdout",
     "output_type": "stream",
     "text": [
      "shape  (58648, 3)\n",
      "shape  (58648, 3)\n",
      "shape  (58648, 3)\n",
      "shape  (58648, 3)\n",
      "shape  (58648, 3)\n",
      "shape  (58648, 3)\n"
     ]
    },
    {
     "name": "stderr",
     "output_type": "stream",
     "text": [
      " 25%|██▌       | 254/1001 [00:19<00:57, 13.00it/s]"
     ]
    },
    {
     "name": "stdout",
     "output_type": "stream",
     "text": [
      "shape  (58648, 3)\n",
      "shape  (58648, 3)\n",
      "shape  (58648, 3)\n",
      "shape  (58648, 3)\n",
      "shape  (58648, 3)\n",
      "shape  (58648, 3)\n"
     ]
    },
    {
     "name": "stderr",
     "output_type": "stream",
     "text": [
      "\r",
      " 26%|██▌       | 256/1001 [00:19<00:56, 13.10it/s]"
     ]
    },
    {
     "name": "stdout",
     "output_type": "stream",
     "text": [
      "shape  (58648, 3)\n",
      "shape  (58648, 3)\n",
      "shape  (58648, 3)\n",
      "shape  (58648, 3)\n",
      "shape  (58648, 3)\n",
      "shape  (58648, 3)\n"
     ]
    },
    {
     "name": "stderr",
     "output_type": "stream",
     "text": [
      " 26%|██▌       | 260/1001 [00:20<00:57, 12.94it/s]"
     ]
    },
    {
     "name": "stdout",
     "output_type": "stream",
     "text": [
      "shape  (58648, 3)\n",
      "shape  (58648, 3)\n",
      "shape  (58648, 3)\n",
      "shape  (58648, 3)\n",
      "shape  (58648, 3)\n",
      "shape  (58648, 3)\n"
     ]
    },
    {
     "name": "stderr",
     "output_type": "stream",
     "text": [
      "\r",
      " 26%|██▌       | 262/1001 [00:20<00:57, 12.89it/s]"
     ]
    },
    {
     "name": "stdout",
     "output_type": "stream",
     "text": [
      "shape  (58648, 3)\n",
      "shape  (58648, 3)\n",
      "shape  (58648, 3)\n",
      "shape  (58648, 3)\n",
      "shape  (58648, 3)\n",
      "shape  (58648, 3)\n"
     ]
    },
    {
     "name": "stderr",
     "output_type": "stream",
     "text": [
      " 27%|██▋       | 266/1001 [00:20<00:56, 12.98it/s]"
     ]
    },
    {
     "name": "stdout",
     "output_type": "stream",
     "text": [
      "shape  (58648, 3)\n",
      "shape  (58648, 3)\n",
      "shape  (58648, 3)\n",
      "shape  (58648, 3)\n",
      "shape  (58648, 3)\n",
      "shape  (58648, 3)\n"
     ]
    },
    {
     "name": "stderr",
     "output_type": "stream",
     "text": [
      "\r",
      " 27%|██▋       | 268/1001 [00:20<00:56, 12.90it/s]"
     ]
    },
    {
     "name": "stdout",
     "output_type": "stream",
     "text": [
      "shape  (58648, 3)\n",
      "shape  (58648, 3)\n",
      "shape  (58648, 3)\n",
      "shape  (58648, 3)\n",
      "shape  (58648, 3)\n",
      "shape  (58648, 3)\n"
     ]
    },
    {
     "name": "stderr",
     "output_type": "stream",
     "text": [
      " 27%|██▋       | 272/1001 [00:21<00:56, 12.95it/s]"
     ]
    },
    {
     "name": "stdout",
     "output_type": "stream",
     "text": [
      "shape  (58648, 3)\n",
      "shape  (58648, 3)\n",
      "shape  (58648, 3)\n",
      "shape  (58648, 3)\n",
      "shape  (58648, 3)\n",
      "shape  (58648, 3)\n"
     ]
    },
    {
     "name": "stderr",
     "output_type": "stream",
     "text": [
      "\r",
      " 27%|██▋       | 274/1001 [00:21<00:56, 12.86it/s]"
     ]
    },
    {
     "name": "stdout",
     "output_type": "stream",
     "text": [
      "shape  (58648, 3)\n",
      "shape  (58648, 3)\n",
      "shape  (58648, 3)\n",
      "shape  (58648, 3)\n",
      "shape  (58648, 3)\n",
      "shape  (58648, 3)\n"
     ]
    },
    {
     "name": "stderr",
     "output_type": "stream",
     "text": [
      " 28%|██▊       | 278/1001 [00:21<00:55, 12.97it/s]"
     ]
    },
    {
     "name": "stdout",
     "output_type": "stream",
     "text": [
      "shape  (58648, 3)\n",
      "shape  (58648, 3)\n",
      "shape  (58648, 3)\n",
      "shape  (58648, 3)\n",
      "shape  (58648, 3)\n",
      "shape  (58648, 3)\n"
     ]
    },
    {
     "name": "stderr",
     "output_type": "stream",
     "text": [
      "\r",
      " 28%|██▊       | 280/1001 [00:21<00:55, 12.96it/s]"
     ]
    },
    {
     "name": "stdout",
     "output_type": "stream",
     "text": [
      "shape  (58648, 3)\n",
      "shape  (58648, 3)\n",
      "shape  (58648, 3)\n",
      "shape  (58648, 3)\n",
      "shape  (58648, 3)\n",
      "shape  (58648, 3)\n"
     ]
    },
    {
     "name": "stderr",
     "output_type": "stream",
     "text": [
      " 28%|██▊       | 284/1001 [00:21<00:55, 12.95it/s]"
     ]
    },
    {
     "name": "stdout",
     "output_type": "stream",
     "text": [
      "shape  (58648, 3)\n",
      "shape  (58648, 3)\n",
      "shape  (58648, 3)\n",
      "shape  (58648, 3)\n",
      "shape  (58648, 3)\n",
      "shape  (58648, 3)\n"
     ]
    },
    {
     "name": "stderr",
     "output_type": "stream",
     "text": [
      "\r",
      " 29%|██▊       | 286/1001 [00:22<00:55, 12.93it/s]"
     ]
    },
    {
     "name": "stdout",
     "output_type": "stream",
     "text": [
      "shape  (58648, 3)\n",
      "shape  (58648, 3)\n",
      "shape  (58648, 3)\n",
      "shape  (58648, 3)\n",
      "shape  (58648, 3)\n",
      "shape  (58648, 3)\n"
     ]
    },
    {
     "name": "stderr",
     "output_type": "stream",
     "text": [
      " 29%|██▉       | 290/1001 [00:22<00:55, 12.82it/s]"
     ]
    },
    {
     "name": "stdout",
     "output_type": "stream",
     "text": [
      "shape  (58648, 3)\n",
      "shape  (58648, 3)\n",
      "shape  (58648, 3)\n",
      "shape  (58648, 3)\n",
      "shape  (58648, 3)\n",
      "shape  (58648, 3)\n"
     ]
    },
    {
     "name": "stderr",
     "output_type": "stream",
     "text": [
      "\r",
      " 29%|██▉       | 292/1001 [00:22<00:55, 12.79it/s]"
     ]
    },
    {
     "name": "stdout",
     "output_type": "stream",
     "text": [
      "shape  (58648, 3)\n",
      "shape  (58648, 3)\n",
      "shape  (58648, 3)\n",
      "shape  (58648, 3)\n",
      "shape  (58648, 3)\n",
      "shape  (58648, 3)\n"
     ]
    },
    {
     "name": "stderr",
     "output_type": "stream",
     "text": [
      " 30%|██▉       | 296/1001 [00:22<00:54, 12.93it/s]"
     ]
    },
    {
     "name": "stdout",
     "output_type": "stream",
     "text": [
      "shape  (58648, 3)\n",
      "shape  (58648, 3)\n",
      "shape  (58648, 3)\n",
      "shape  (58648, 3)\n",
      "shape  (58648, 3)\n",
      "shape  (58648, 3)\n"
     ]
    },
    {
     "name": "stderr",
     "output_type": "stream",
     "text": [
      "\r",
      " 30%|██▉       | 298/1001 [00:23<00:54, 12.86it/s]"
     ]
    },
    {
     "name": "stdout",
     "output_type": "stream",
     "text": [
      "shape  (58648, 3)\n",
      "shape  (58648, 3)\n",
      "shape  (58648, 3)\n",
      "shape  (58648, 3)\n",
      "shape  (58648, 3)\n",
      "shape  (58648, 3)\n"
     ]
    },
    {
     "name": "stderr",
     "output_type": "stream",
     "text": [
      " 30%|███       | 302/1001 [00:23<00:53, 12.98it/s]"
     ]
    },
    {
     "name": "stdout",
     "output_type": "stream",
     "text": [
      "shape  (58648, 3)\n",
      "shape  (58648, 3)\n",
      "shape  (58648, 3)\n",
      "shape  (58648, 3)\n",
      "shape  (58648, 3)\n",
      "shape  (58648, 3)\n"
     ]
    },
    {
     "name": "stderr",
     "output_type": "stream",
     "text": [
      "\r",
      " 30%|███       | 304/1001 [00:23<00:54, 12.90it/s]"
     ]
    },
    {
     "name": "stdout",
     "output_type": "stream",
     "text": [
      "shape  (58648, 3)\n",
      "shape  (58648, 3)\n",
      "shape  (58648, 3)\n",
      "shape  (58648, 3)\n",
      "shape  (58648, 3)\n",
      "shape  (58648, 3)\n"
     ]
    },
    {
     "name": "stderr",
     "output_type": "stream",
     "text": [
      " 31%|███       | 308/1001 [00:23<00:53, 12.99it/s]"
     ]
    },
    {
     "name": "stdout",
     "output_type": "stream",
     "text": [
      "shape  (58648, 3)\n",
      "shape  (58648, 3)\n",
      "shape  (58648, 3)\n",
      "shape  (58648, 3)\n",
      "shape  (58648, 3)\n",
      "shape  (58648, 3)\n"
     ]
    },
    {
     "name": "stderr",
     "output_type": "stream",
     "text": [
      "\r",
      " 31%|███       | 310/1001 [00:23<00:53, 12.93it/s]"
     ]
    },
    {
     "name": "stdout",
     "output_type": "stream",
     "text": [
      "shape  (58648, 3)\n",
      "shape  (58648, 3)\n",
      "shape  (58648, 3)\n",
      "shape  (58648, 3)\n",
      "shape  (58648, 3)\n",
      "shape  (58648, 3)\n"
     ]
    },
    {
     "name": "stderr",
     "output_type": "stream",
     "text": [
      " 31%|███▏      | 314/1001 [00:24<00:53, 12.94it/s]"
     ]
    },
    {
     "name": "stdout",
     "output_type": "stream",
     "text": [
      "shape  (58648, 3)\n",
      "shape  (58648, 3)\n",
      "shape  (58648, 3)\n",
      "shape  (58648, 3)\n",
      "shape  (58648, 3)\n",
      "shape  (58648, 3)\n"
     ]
    },
    {
     "name": "stderr",
     "output_type": "stream",
     "text": [
      "\r",
      " 32%|███▏      | 316/1001 [00:24<00:53, 12.83it/s]"
     ]
    },
    {
     "name": "stdout",
     "output_type": "stream",
     "text": [
      "shape  (58648, 3)\n",
      "shape  (58648, 3)\n",
      "shape  (58648, 3)\n",
      "shape  (58648, 3)\n",
      "shape  (58648, 3)\n",
      "shape  (58648, 3)\n"
     ]
    },
    {
     "name": "stderr",
     "output_type": "stream",
     "text": [
      " 32%|███▏      | 320/1001 [00:24<00:53, 12.79it/s]"
     ]
    },
    {
     "name": "stdout",
     "output_type": "stream",
     "text": [
      "shape  (58648, 3)\n",
      "shape  (58648, 3)\n",
      "shape  (58648, 3)\n",
      "shape  (58648, 3)\n",
      "shape  (58648, 3)\n",
      "shape  (58648, 3)\n"
     ]
    },
    {
     "name": "stderr",
     "output_type": "stream",
     "text": [
      "\r",
      " 32%|███▏      | 322/1001 [00:24<00:53, 12.75it/s]"
     ]
    },
    {
     "name": "stdout",
     "output_type": "stream",
     "text": [
      "shape  (58648, 3)\n",
      "shape  (58648, 3)\n",
      "shape  (58648, 3)\n",
      "shape  (58648, 3)\n",
      "shape  (58648, 3)\n",
      "shape  (58648, 3)\n"
     ]
    },
    {
     "name": "stderr",
     "output_type": "stream",
     "text": [
      " 33%|███▎      | 326/1001 [00:25<00:52, 12.88it/s]"
     ]
    },
    {
     "name": "stdout",
     "output_type": "stream",
     "text": [
      "shape  (58648, 3)\n",
      "shape  (58648, 3)\n",
      "shape  (58648, 3)\n",
      "shape  (58648, 3)\n",
      "shape  (58648, 3)\n",
      "shape  (58648, 3)\n"
     ]
    },
    {
     "name": "stderr",
     "output_type": "stream",
     "text": [
      "\r",
      " 33%|███▎      | 328/1001 [00:25<00:52, 12.80it/s]"
     ]
    },
    {
     "name": "stdout",
     "output_type": "stream",
     "text": [
      "shape  (58648, 3)\n",
      "shape  (58648, 3)\n",
      "shape  (58648, 3)\n",
      "shape  (58648, 3)\n",
      "shape  (58648, 3)\n",
      "shape  (58648, 3)\n"
     ]
    },
    {
     "name": "stderr",
     "output_type": "stream",
     "text": [
      " 33%|███▎      | 332/1001 [00:25<00:51, 12.88it/s]"
     ]
    },
    {
     "name": "stdout",
     "output_type": "stream",
     "text": [
      "shape  (58648, 3)\n",
      "shape  (58648, 3)\n",
      "shape  (58648, 3)\n",
      "shape  (58648, 3)\n",
      "shape  (58648, 3)\n",
      "shape  (58648, 3)\n"
     ]
    },
    {
     "name": "stderr",
     "output_type": "stream",
     "text": [
      "\r",
      " 33%|███▎      | 334/1001 [00:25<00:52, 12.81it/s]"
     ]
    },
    {
     "name": "stdout",
     "output_type": "stream",
     "text": [
      "shape  (58648, 3)\n",
      "shape  (58648, 3)\n",
      "shape  (58648, 3)\n",
      "shape  (58648, 3)\n",
      "shape  (58648, 3)\n",
      "shape  (58648, 3)\n"
     ]
    },
    {
     "name": "stderr",
     "output_type": "stream",
     "text": [
      " 34%|███▍      | 338/1001 [00:26<00:51, 12.90it/s]"
     ]
    },
    {
     "name": "stdout",
     "output_type": "stream",
     "text": [
      "shape  (58648, 3)\n",
      "shape  (58648, 3)\n",
      "shape  (58648, 3)\n",
      "shape  (58648, 3)\n",
      "shape  (58648, 3)\n",
      "shape  (58648, 3)\n"
     ]
    },
    {
     "name": "stderr",
     "output_type": "stream",
     "text": [
      "\r",
      " 34%|███▍      | 340/1001 [00:26<00:51, 12.81it/s]"
     ]
    },
    {
     "name": "stdout",
     "output_type": "stream",
     "text": [
      "shape  (58648, 3)\n",
      "shape  (58648, 3)\n",
      "shape  (58648, 3)\n",
      "shape  (58648, 3)\n",
      "shape  (58648, 3)\n",
      "shape  (58648, 3)\n"
     ]
    },
    {
     "name": "stderr",
     "output_type": "stream",
     "text": [
      " 34%|███▍      | 344/1001 [00:26<00:51, 12.86it/s]"
     ]
    },
    {
     "name": "stdout",
     "output_type": "stream",
     "text": [
      "shape  (58648, 3)\n",
      "shape  (58648, 3)\n",
      "shape  (58648, 3)\n",
      "shape  (58648, 3)\n",
      "shape  (58648, 3)\n",
      "shape  (58648, 3)\n"
     ]
    },
    {
     "name": "stderr",
     "output_type": "stream",
     "text": [
      "\r",
      " 35%|███▍      | 346/1001 [00:26<00:51, 12.71it/s]"
     ]
    },
    {
     "name": "stdout",
     "output_type": "stream",
     "text": [
      "shape  (58648, 3)\n",
      "shape  (58648, 3)\n",
      "shape  (58648, 3)\n",
      "shape  (58648, 3)\n",
      "shape  (58648, 3)\n",
      "shape  (58648, 3)\n"
     ]
    },
    {
     "name": "stderr",
     "output_type": "stream",
     "text": [
      " 35%|███▍      | 350/1001 [00:27<00:51, 12.68it/s]"
     ]
    },
    {
     "name": "stdout",
     "output_type": "stream",
     "text": [
      "shape  (58648, 3)\n",
      "shape  (58648, 3)\n",
      "shape  (58648, 3)\n",
      "shape  (58648, 3)\n",
      "shape  (58648, 3)\n",
      "shape  (58648, 3)\n"
     ]
    },
    {
     "name": "stderr",
     "output_type": "stream",
     "text": [
      "\r",
      " 35%|███▌      | 352/1001 [00:27<00:51, 12.64it/s]"
     ]
    },
    {
     "name": "stdout",
     "output_type": "stream",
     "text": [
      "shape  (58648, 3)\n",
      "shape  (58648, 3)\n",
      "shape  (58648, 3)\n",
      "shape  (58648, 3)\n",
      "shape  (58648, 3)\n",
      "shape  (58648, 3)\n"
     ]
    },
    {
     "name": "stderr",
     "output_type": "stream",
     "text": [
      " 36%|███▌      | 356/1001 [00:27<00:50, 12.78it/s]"
     ]
    },
    {
     "name": "stdout",
     "output_type": "stream",
     "text": [
      "shape  (58648, 3)\n",
      "shape  (58648, 3)\n",
      "shape  (58648, 3)\n",
      "shape  (58648, 3)\n",
      "shape  (58648, 3)\n",
      "shape  (58648, 3)\n"
     ]
    },
    {
     "name": "stderr",
     "output_type": "stream",
     "text": [
      "\r",
      " 36%|███▌      | 358/1001 [00:27<00:50, 12.73it/s]"
     ]
    },
    {
     "name": "stdout",
     "output_type": "stream",
     "text": [
      "shape  (58648, 3)\n",
      "shape  (58648, 3)\n",
      "shape  (58648, 3)\n",
      "shape  (58648, 3)\n",
      "shape  (58648, 3)\n",
      "shape  (58648, 3)\n"
     ]
    },
    {
     "name": "stderr",
     "output_type": "stream",
     "text": [
      " 36%|███▌      | 362/1001 [00:28<00:49, 12.83it/s]"
     ]
    },
    {
     "name": "stdout",
     "output_type": "stream",
     "text": [
      "shape  (58648, 3)\n",
      "shape  (58648, 3)\n",
      "shape  (58648, 3)\n",
      "shape  (58648, 3)\n",
      "shape  (58648, 3)\n",
      "shape  (58648, 3)\n"
     ]
    },
    {
     "name": "stderr",
     "output_type": "stream",
     "text": [
      "\r",
      " 36%|███▋      | 364/1001 [00:28<00:49, 12.80it/s]"
     ]
    },
    {
     "name": "stdout",
     "output_type": "stream",
     "text": [
      "shape  (58648, 3)\n",
      "shape  (58648, 3)\n",
      "shape  (58648, 3)\n",
      "shape  (58648, 3)\n",
      "shape  (58648, 3)\n",
      "shape  (58648, 3)\n"
     ]
    },
    {
     "name": "stderr",
     "output_type": "stream",
     "text": [
      " 37%|███▋      | 368/1001 [00:28<00:49, 12.77it/s]"
     ]
    },
    {
     "name": "stdout",
     "output_type": "stream",
     "text": [
      "shape  (58648, 3)\n",
      "shape  (58648, 3)\n",
      "shape  (58648, 3)\n",
      "shape  (58648, 3)\n",
      "shape  (58648, 3)\n",
      "shape  (58648, 3)\n"
     ]
    },
    {
     "name": "stderr",
     "output_type": "stream",
     "text": [
      "\r",
      " 37%|███▋      | 370/1001 [00:28<00:49, 12.80it/s]"
     ]
    },
    {
     "name": "stdout",
     "output_type": "stream",
     "text": [
      "shape  (58648, 3)\n",
      "shape  (58648, 3)\n",
      "shape  (58648, 3)\n",
      "shape  (58648, 3)\n",
      "shape  (58648, 3)\n",
      "shape  (58648, 3)\n"
     ]
    },
    {
     "name": "stderr",
     "output_type": "stream",
     "text": [
      " 37%|███▋      | 374/1001 [00:28<00:48, 12.82it/s]"
     ]
    },
    {
     "name": "stdout",
     "output_type": "stream",
     "text": [
      "shape  (58648, 3)\n",
      "shape  (58648, 3)\n",
      "shape  (58648, 3)\n",
      "shape  (58648, 3)\n",
      "shape  (58648, 3)\n",
      "shape  (58648, 3)\n"
     ]
    },
    {
     "name": "stderr",
     "output_type": "stream",
     "text": [
      "\r",
      " 38%|███▊      | 376/1001 [00:29<00:48, 12.83it/s]"
     ]
    },
    {
     "name": "stdout",
     "output_type": "stream",
     "text": [
      "shape  (58648, 3)\n",
      "shape  (58648, 3)\n",
      "shape  (58648, 3)\n",
      "shape  (58648, 3)\n",
      "shape  (58648, 3)\n",
      "shape  (58648, 3)\n"
     ]
    },
    {
     "name": "stderr",
     "output_type": "stream",
     "text": [
      " 38%|███▊      | 380/1001 [00:29<00:48, 12.84it/s]"
     ]
    },
    {
     "name": "stdout",
     "output_type": "stream",
     "text": [
      "shape  (58648, 3)\n",
      "shape  (58648, 3)\n",
      "shape  (58648, 3)\n",
      "shape  (58648, 3)\n",
      "shape  (58648, 3)\n",
      "shape  (58648, 3)\n"
     ]
    },
    {
     "name": "stderr",
     "output_type": "stream",
     "text": [
      "\r",
      " 38%|███▊      | 382/1001 [00:29<00:48, 12.67it/s]"
     ]
    },
    {
     "name": "stdout",
     "output_type": "stream",
     "text": [
      "shape  (58648, 3)\n",
      "shape  (58648, 3)\n",
      "shape  (58648, 3)\n",
      "shape  (58648, 3)\n",
      "shape  (58648, 3)\n",
      "shape  (58648, 3)\n"
     ]
    },
    {
     "name": "stderr",
     "output_type": "stream",
     "text": [
      " 39%|███▊      | 386/1001 [00:29<00:48, 12.71it/s]"
     ]
    },
    {
     "name": "stdout",
     "output_type": "stream",
     "text": [
      "shape  (58648, 3)\n",
      "shape  (58648, 3)\n",
      "shape  (58648, 3)\n",
      "shape  (58648, 3)\n",
      "shape  (58648, 3)\n",
      "shape  (58648, 3)\n"
     ]
    },
    {
     "name": "stderr",
     "output_type": "stream",
     "text": [
      "\r",
      " 39%|███▉      | 388/1001 [00:30<00:47, 12.78it/s]"
     ]
    },
    {
     "name": "stdout",
     "output_type": "stream",
     "text": [
      "shape  (58648, 3)\n",
      "shape  (58648, 3)\n",
      "shape  (58648, 3)\n",
      "shape  (58648, 3)\n",
      "shape  (58648, 3)\n",
      "shape  (58648, 3)\n"
     ]
    },
    {
     "name": "stderr",
     "output_type": "stream",
     "text": [
      " 39%|███▉      | 392/1001 [00:30<00:47, 12.70it/s]"
     ]
    },
    {
     "name": "stdout",
     "output_type": "stream",
     "text": [
      "shape  (58648, 3)\n",
      "shape  (58648, 3)\n",
      "shape  (58648, 3)\n",
      "shape  (58648, 3)\n",
      "shape  (58648, 3)\n",
      "shape  (58648, 3)\n"
     ]
    },
    {
     "name": "stderr",
     "output_type": "stream",
     "text": [
      "\r",
      " 39%|███▉      | 394/1001 [00:30<00:47, 12.70it/s]"
     ]
    },
    {
     "name": "stdout",
     "output_type": "stream",
     "text": [
      "shape  (58648, 3)\n",
      "shape  (58648, 3)\n",
      "shape  (58648, 3)\n",
      "shape  (58648, 3)\n",
      "shape  (58648, 3)\n",
      "shape  (58648, 3)\n"
     ]
    },
    {
     "name": "stderr",
     "output_type": "stream",
     "text": [
      " 40%|███▉      | 398/1001 [00:30<00:47, 12.60it/s]"
     ]
    },
    {
     "name": "stdout",
     "output_type": "stream",
     "text": [
      "shape  (58648, 3)\n",
      "shape  (58648, 3)\n",
      "shape  (58648, 3)\n",
      "shape  (58648, 3)\n",
      "shape  (58648, 3)\n",
      "shape  (58648, 3)\n"
     ]
    },
    {
     "name": "stderr",
     "output_type": "stream",
     "text": [
      "\r",
      " 40%|███▉      | 400/1001 [00:31<00:48, 12.43it/s]"
     ]
    },
    {
     "name": "stdout",
     "output_type": "stream",
     "text": [
      "shape  (58648, 3)\n",
      "shape  (58648, 3)\n",
      "shape  (58648, 3)\n",
      "shape  (58648, 3)\n",
      "shape  (58648, 3)\n",
      "shape  (58648, 3)\n"
     ]
    },
    {
     "name": "stderr",
     "output_type": "stream",
     "text": [
      " 40%|████      | 404/1001 [00:31<00:46, 12.72it/s]"
     ]
    },
    {
     "name": "stdout",
     "output_type": "stream",
     "text": [
      "shape  (58648, 3)\n",
      "shape  (58648, 3)\n",
      "shape  (58648, 3)\n",
      "shape  (58648, 3)\n",
      "shape  (58648, 3)\n",
      "shape  (58648, 3)\n"
     ]
    },
    {
     "name": "stderr",
     "output_type": "stream",
     "text": [
      "\r",
      " 41%|████      | 406/1001 [00:31<00:46, 12.73it/s]"
     ]
    },
    {
     "name": "stdout",
     "output_type": "stream",
     "text": [
      "shape  (58648, 3)\n",
      "shape  (58648, 3)\n",
      "shape  (58648, 3)\n",
      "shape  (58648, 3)\n",
      "shape  (58648, 3)\n",
      "shape  (58648, 3)\n"
     ]
    },
    {
     "name": "stderr",
     "output_type": "stream",
     "text": [
      " 41%|████      | 410/1001 [00:31<00:46, 12.81it/s]"
     ]
    },
    {
     "name": "stdout",
     "output_type": "stream",
     "text": [
      "shape  (58648, 3)\n",
      "shape  (58648, 3)\n",
      "shape  (58648, 3)\n",
      "shape  (58648, 3)\n",
      "shape  (58648, 3)\n",
      "shape  (58648, 3)\n"
     ]
    },
    {
     "name": "stderr",
     "output_type": "stream",
     "text": [
      "\r",
      " 41%|████      | 412/1001 [00:31<00:46, 12.76it/s]"
     ]
    },
    {
     "name": "stdout",
     "output_type": "stream",
     "text": [
      "shape  (58648, 3)\n",
      "shape  (58648, 3)\n",
      "shape  (58648, 3)\n",
      "shape  (58648, 3)\n",
      "shape  (58648, 3)\n",
      "shape  (58648, 3)\n"
     ]
    },
    {
     "name": "stderr",
     "output_type": "stream",
     "text": [
      " 42%|████▏     | 416/1001 [00:32<00:45, 12.74it/s]"
     ]
    },
    {
     "name": "stdout",
     "output_type": "stream",
     "text": [
      "shape  (58648, 3)\n",
      "shape  (58648, 3)\n",
      "shape  (58648, 3)\n",
      "shape  (58648, 3)\n",
      "shape  (58648, 3)\n",
      "shape  (58648, 3)\n"
     ]
    },
    {
     "name": "stderr",
     "output_type": "stream",
     "text": [
      "\r",
      " 42%|████▏     | 418/1001 [00:32<00:45, 12.70it/s]"
     ]
    },
    {
     "name": "stdout",
     "output_type": "stream",
     "text": [
      "shape  (58648, 3)\n",
      "shape  (58648, 3)\n",
      "shape  (58648, 3)\n",
      "shape  (58648, 3)\n",
      "shape  (58648, 3)\n",
      "shape  (58648, 3)\n"
     ]
    },
    {
     "name": "stderr",
     "output_type": "stream",
     "text": [
      " 42%|████▏     | 422/1001 [00:32<00:45, 12.78it/s]"
     ]
    },
    {
     "name": "stdout",
     "output_type": "stream",
     "text": [
      "shape  (58648, 3)\n",
      "shape  (58648, 3)\n",
      "shape  (58648, 3)\n",
      "shape  (58648, 3)\n",
      "shape  (58648, 3)\n",
      "shape  (58648, 3)\n"
     ]
    },
    {
     "name": "stderr",
     "output_type": "stream",
     "text": [
      "\r",
      " 42%|████▏     | 424/1001 [00:32<00:45, 12.72it/s]"
     ]
    },
    {
     "name": "stdout",
     "output_type": "stream",
     "text": [
      "shape  (58648, 3)\n",
      "shape  (58648, 3)\n",
      "shape  (58648, 3)\n",
      "shape  (58648, 3)\n",
      "shape  (58648, 3)\n",
      "shape  (58648, 3)\n"
     ]
    },
    {
     "name": "stderr",
     "output_type": "stream",
     "text": [
      " 43%|████▎     | 428/1001 [00:33<00:44, 12.82it/s]"
     ]
    },
    {
     "name": "stdout",
     "output_type": "stream",
     "text": [
      "shape  (58648, 3)\n",
      "shape  (58648, 3)\n",
      "shape  (58648, 3)\n",
      "shape  (58648, 3)\n",
      "shape  (58648, 3)\n",
      "shape  (58648, 3)\n"
     ]
    },
    {
     "name": "stderr",
     "output_type": "stream",
     "text": [
      "\r",
      " 43%|████▎     | 430/1001 [00:33<00:44, 12.79it/s]"
     ]
    },
    {
     "name": "stdout",
     "output_type": "stream",
     "text": [
      "shape  (58648, 3)\n",
      "shape  (58648, 3)\n",
      "shape  (58648, 3)\n",
      "shape  (58648, 3)\n",
      "shape  (58648, 3)\n",
      "shape  (58648, 3)\n"
     ]
    },
    {
     "name": "stderr",
     "output_type": "stream",
     "text": [
      " 43%|████▎     | 434/1001 [00:33<00:43, 12.91it/s]"
     ]
    },
    {
     "name": "stdout",
     "output_type": "stream",
     "text": [
      "shape  (58648, 3)\n",
      "shape  (58648, 3)\n",
      "shape  (58648, 3)\n",
      "shape  (58648, 3)\n",
      "shape  (58648, 3)\n",
      "shape  (58648, 3)\n"
     ]
    },
    {
     "name": "stderr",
     "output_type": "stream",
     "text": [
      "\r",
      " 44%|████▎     | 436/1001 [00:33<00:44, 12.83it/s]"
     ]
    },
    {
     "name": "stdout",
     "output_type": "stream",
     "text": [
      "shape  (58648, 3)\n",
      "shape  (58648, 3)\n",
      "shape  (58648, 3)\n",
      "shape  (58648, 3)\n",
      "shape  (58648, 3)\n",
      "shape  (58648, 3)\n"
     ]
    },
    {
     "name": "stderr",
     "output_type": "stream",
     "text": [
      " 44%|████▍     | 440/1001 [00:34<00:43, 12.87it/s]"
     ]
    },
    {
     "name": "stdout",
     "output_type": "stream",
     "text": [
      "shape  (58648, 3)\n",
      "shape  (58648, 3)\n",
      "shape  (58648, 3)\n",
      "shape  (58648, 3)\n",
      "shape  (58648, 3)\n",
      "shape  (58648, 3)\n"
     ]
    },
    {
     "name": "stderr",
     "output_type": "stream",
     "text": [
      "\r",
      " 44%|████▍     | 442/1001 [00:34<00:43, 12.78it/s]"
     ]
    },
    {
     "name": "stdout",
     "output_type": "stream",
     "text": [
      "shape  (58648, 3)\n",
      "shape  (58648, 3)\n",
      "shape  (58648, 3)\n",
      "shape  (58648, 3)\n",
      "shape  (58648, 3)\n",
      "shape  (58648, 3)\n"
     ]
    },
    {
     "name": "stderr",
     "output_type": "stream",
     "text": [
      " 45%|████▍     | 446/1001 [00:34<00:43, 12.77it/s]"
     ]
    },
    {
     "name": "stdout",
     "output_type": "stream",
     "text": [
      "shape  (58648, 3)\n",
      "shape  (58648, 3)\n",
      "shape  (58648, 3)\n",
      "shape  (58648, 3)\n",
      "shape  (58648, 3)\n",
      "shape  (58648, 3)\n"
     ]
    },
    {
     "name": "stderr",
     "output_type": "stream",
     "text": [
      "\r",
      " 45%|████▍     | 448/1001 [00:34<00:43, 12.75it/s]"
     ]
    },
    {
     "name": "stdout",
     "output_type": "stream",
     "text": [
      "shape  (58648, 3)\n",
      "shape  (58648, 3)\n",
      "shape  (58648, 3)\n",
      "shape  (58648, 3)\n",
      "shape  (58648, 3)\n",
      "shape  (58648, 3)\n"
     ]
    },
    {
     "name": "stderr",
     "output_type": "stream",
     "text": [
      " 45%|████▌     | 452/1001 [00:35<00:42, 12.91it/s]"
     ]
    },
    {
     "name": "stdout",
     "output_type": "stream",
     "text": [
      "shape  (58648, 3)\n",
      "shape  (58648, 3)\n",
      "shape  (58648, 3)\n",
      "shape  (58648, 3)\n",
      "shape  (58648, 3)\n",
      "shape  (58648, 3)\n"
     ]
    },
    {
     "name": "stderr",
     "output_type": "stream",
     "text": [
      "\r",
      " 45%|████▌     | 454/1001 [00:35<00:42, 12.89it/s]"
     ]
    },
    {
     "name": "stdout",
     "output_type": "stream",
     "text": [
      "shape  (58648, 3)\n",
      "shape  (58648, 3)\n",
      "shape  (58648, 3)\n",
      "shape  (58648, 3)\n",
      "shape  (58648, 3)\n",
      "shape  (58648, 3)\n"
     ]
    },
    {
     "name": "stderr",
     "output_type": "stream",
     "text": [
      " 46%|████▌     | 458/1001 [00:35<00:42, 12.91it/s]"
     ]
    },
    {
     "name": "stdout",
     "output_type": "stream",
     "text": [
      "shape  (58648, 3)\n",
      "shape  (58648, 3)\n",
      "shape  (58648, 3)\n",
      "shape  (58648, 3)\n",
      "shape  (58648, 3)\n",
      "shape  (58648, 3)\n"
     ]
    },
    {
     "name": "stderr",
     "output_type": "stream",
     "text": [
      "\r",
      " 46%|████▌     | 460/1001 [00:35<00:41, 12.91it/s]"
     ]
    },
    {
     "name": "stdout",
     "output_type": "stream",
     "text": [
      "shape  (58648, 3)\n",
      "shape  (58648, 3)\n",
      "shape  (58648, 3)\n",
      "shape  (58648, 3)\n",
      "shape  (58648, 3)\n",
      "shape  (58648, 3)\n"
     ]
    },
    {
     "name": "stderr",
     "output_type": "stream",
     "text": [
      " 46%|████▋     | 464/1001 [00:36<00:41, 12.95it/s]"
     ]
    },
    {
     "name": "stdout",
     "output_type": "stream",
     "text": [
      "shape  (58648, 3)\n",
      "shape  (58648, 3)\n",
      "shape  (58648, 3)\n",
      "shape  (58648, 3)\n",
      "shape  (58648, 3)\n",
      "shape  (58648, 3)\n"
     ]
    },
    {
     "name": "stderr",
     "output_type": "stream",
     "text": [
      "\r",
      " 47%|████▋     | 466/1001 [00:36<00:41, 12.97it/s]"
     ]
    },
    {
     "name": "stdout",
     "output_type": "stream",
     "text": [
      "shape  (58648, 3)\n",
      "shape  (58648, 3)\n",
      "shape  (58648, 3)\n",
      "shape  (58648, 3)\n",
      "shape  (58648, 3)\n",
      "shape  (58648, 3)\n"
     ]
    },
    {
     "name": "stderr",
     "output_type": "stream",
     "text": [
      " 47%|████▋     | 470/1001 [00:36<00:40, 12.99it/s]"
     ]
    },
    {
     "name": "stdout",
     "output_type": "stream",
     "text": [
      "shape  (58648, 3)\n",
      "shape  (58648, 3)\n",
      "shape  (58648, 3)\n",
      "shape  (58648, 3)\n",
      "shape  (58648, 3)\n",
      "shape  (58648, 3)\n"
     ]
    },
    {
     "name": "stderr",
     "output_type": "stream",
     "text": [
      "\r",
      " 47%|████▋     | 472/1001 [00:36<00:41, 12.88it/s]"
     ]
    },
    {
     "name": "stdout",
     "output_type": "stream",
     "text": [
      "shape  (58648, 3)\n",
      "shape  (58648, 3)\n",
      "shape  (58648, 3)\n",
      "shape  (58648, 3)\n",
      "shape  (58648, 3)\n",
      "shape  (58648, 3)\n"
     ]
    },
    {
     "name": "stderr",
     "output_type": "stream",
     "text": [
      " 48%|████▊     | 476/1001 [00:36<00:40, 12.87it/s]"
     ]
    },
    {
     "name": "stdout",
     "output_type": "stream",
     "text": [
      "shape  (58648, 3)\n",
      "shape  (58648, 3)\n",
      "shape  (58648, 3)\n",
      "shape  (58648, 3)\n",
      "shape  (58648, 3)\n",
      "shape  (58648, 3)\n"
     ]
    },
    {
     "name": "stderr",
     "output_type": "stream",
     "text": [
      "\r",
      " 48%|████▊     | 478/1001 [00:37<00:41, 12.67it/s]"
     ]
    },
    {
     "name": "stdout",
     "output_type": "stream",
     "text": [
      "shape  (58648, 3)\n",
      "shape  (58648, 3)\n",
      "shape  (58648, 3)\n",
      "shape  (58648, 3)\n",
      "shape  (58648, 3)\n",
      "shape  (58648, 3)\n"
     ]
    },
    {
     "name": "stderr",
     "output_type": "stream",
     "text": [
      " 48%|████▊     | 482/1001 [00:37<00:40, 12.66it/s]"
     ]
    },
    {
     "name": "stdout",
     "output_type": "stream",
     "text": [
      "shape  (58648, 3)\n",
      "shape  (58648, 3)\n",
      "shape  (58648, 3)\n",
      "shape  (58648, 3)\n",
      "shape  (58648, 3)\n",
      "shape  (58648, 3)\n"
     ]
    },
    {
     "name": "stderr",
     "output_type": "stream",
     "text": [
      "\r",
      " 48%|████▊     | 484/1001 [00:37<00:40, 12.74it/s]"
     ]
    },
    {
     "name": "stdout",
     "output_type": "stream",
     "text": [
      "shape  (58648, 3)\n",
      "shape  (58648, 3)\n",
      "shape  (58648, 3)\n",
      "shape  (58648, 3)\n",
      "shape  (58648, 3)\n",
      "shape  (58648, 3)\n"
     ]
    },
    {
     "name": "stderr",
     "output_type": "stream",
     "text": [
      " 49%|████▉     | 488/1001 [00:37<00:40, 12.72it/s]"
     ]
    },
    {
     "name": "stdout",
     "output_type": "stream",
     "text": [
      "shape  (58648, 3)\n",
      "shape  (58648, 3)\n",
      "shape  (58648, 3)\n",
      "shape  (58648, 3)\n",
      "shape  (58648, 3)\n",
      "shape  (58648, 3)\n"
     ]
    },
    {
     "name": "stderr",
     "output_type": "stream",
     "text": [
      "\r",
      " 49%|████▉     | 490/1001 [00:38<00:39, 12.79it/s]"
     ]
    },
    {
     "name": "stdout",
     "output_type": "stream",
     "text": [
      "shape  (58648, 3)\n",
      "shape  (58648, 3)\n",
      "shape  (58648, 3)\n",
      "shape  (58648, 3)\n",
      "shape  (58648, 3)\n",
      "shape  (58648, 3)\n"
     ]
    },
    {
     "name": "stderr",
     "output_type": "stream",
     "text": [
      " 49%|████▉     | 494/1001 [00:38<00:39, 12.77it/s]"
     ]
    },
    {
     "name": "stdout",
     "output_type": "stream",
     "text": [
      "shape  (58648, 3)\n",
      "shape  (58648, 3)\n",
      "shape  (58648, 3)\n",
      "shape  (58648, 3)\n",
      "shape  (58648, 3)\n",
      "shape  (58648, 3)\n"
     ]
    },
    {
     "name": "stderr",
     "output_type": "stream",
     "text": [
      "\r",
      " 50%|████▉     | 496/1001 [00:38<00:39, 12.78it/s]"
     ]
    },
    {
     "name": "stdout",
     "output_type": "stream",
     "text": [
      "shape  (58648, 3)\n",
      "shape  (58648, 3)\n",
      "shape  (58648, 3)\n",
      "shape  (58648, 3)\n",
      "shape  (58648, 3)\n",
      "shape  (58648, 3)\n"
     ]
    },
    {
     "name": "stderr",
     "output_type": "stream",
     "text": [
      " 50%|████▉     | 500/1001 [00:38<00:39, 12.75it/s]"
     ]
    },
    {
     "name": "stdout",
     "output_type": "stream",
     "text": [
      "shape  (58648, 3)\n",
      "shape  (58648, 3)\n",
      "shape  (58648, 3)\n",
      "shape  (58648, 3)\n",
      "shape  (58648, 3)\n",
      "shape  (58648, 3)\n"
     ]
    },
    {
     "name": "stderr",
     "output_type": "stream",
     "text": [
      "\r",
      " 50%|█████     | 502/1001 [00:38<00:38, 12.80it/s]"
     ]
    },
    {
     "name": "stdout",
     "output_type": "stream",
     "text": [
      "shape  (58648, 3)\n",
      "shape  (58648, 3)\n",
      "shape  (58648, 3)\n",
      "shape  (58648, 3)\n",
      "shape  (58648, 3)\n",
      "shape  (58648, 3)\n"
     ]
    },
    {
     "name": "stderr",
     "output_type": "stream",
     "text": [
      " 51%|█████     | 506/1001 [00:39<00:38, 12.71it/s]"
     ]
    },
    {
     "name": "stdout",
     "output_type": "stream",
     "text": [
      "shape  (58648, 3)\n",
      "shape  (58648, 3)\n",
      "shape  (58648, 3)\n",
      "shape  (58648, 3)\n",
      "shape  (58648, 3)\n",
      "shape  (58648, 3)\n"
     ]
    },
    {
     "name": "stderr",
     "output_type": "stream",
     "text": [
      "\r",
      " 51%|█████     | 508/1001 [00:39<00:38, 12.79it/s]"
     ]
    },
    {
     "name": "stdout",
     "output_type": "stream",
     "text": [
      "shape  (58648, 3)\n",
      "shape  (58648, 3)\n",
      "shape  (58648, 3)\n",
      "shape  (58648, 3)\n",
      "shape  (58648, 3)\n",
      "shape  (58648, 3)\n"
     ]
    },
    {
     "name": "stderr",
     "output_type": "stream",
     "text": [
      " 51%|█████     | 512/1001 [00:39<00:38, 12.74it/s]"
     ]
    },
    {
     "name": "stdout",
     "output_type": "stream",
     "text": [
      "shape  (58648, 3)\n",
      "shape  (58648, 3)\n",
      "shape  (58648, 3)\n",
      "shape  (58648, 3)\n",
      "shape  (58648, 3)\n",
      "shape  (58648, 3)\n"
     ]
    },
    {
     "name": "stderr",
     "output_type": "stream",
     "text": [
      "\r",
      " 51%|█████▏    | 514/1001 [00:39<00:38, 12.66it/s]"
     ]
    },
    {
     "name": "stdout",
     "output_type": "stream",
     "text": [
      "shape  (58648, 3)\n",
      "shape  (58648, 3)\n",
      "shape  (58648, 3)\n",
      "shape  (58648, 3)\n",
      "shape  (58648, 3)\n",
      "shape  (58648, 3)\n"
     ]
    },
    {
     "name": "stderr",
     "output_type": "stream",
     "text": [
      " 52%|█████▏    | 518/1001 [00:40<00:37, 12.84it/s]"
     ]
    },
    {
     "name": "stdout",
     "output_type": "stream",
     "text": [
      "shape  (58648, 3)\n",
      "shape  (58648, 3)\n",
      "shape  (58648, 3)\n",
      "shape  (58648, 3)\n",
      "shape  (58648, 3)\n",
      "shape  (58648, 3)\n"
     ]
    },
    {
     "name": "stderr",
     "output_type": "stream",
     "text": [
      "\r",
      " 52%|█████▏    | 520/1001 [00:40<00:37, 12.74it/s]"
     ]
    },
    {
     "name": "stdout",
     "output_type": "stream",
     "text": [
      "shape  (58648, 3)\n",
      "shape  (58648, 3)\n",
      "shape  (58648, 3)\n",
      "shape  (58648, 3)\n",
      "shape  (58648, 3)\n",
      "shape  (58648, 3)\n"
     ]
    },
    {
     "name": "stderr",
     "output_type": "stream",
     "text": [
      " 52%|█████▏    | 524/1001 [00:40<00:36, 13.00it/s]"
     ]
    },
    {
     "name": "stdout",
     "output_type": "stream",
     "text": [
      "shape  (58648, 3)\n",
      "shape  (58648, 3)\n",
      "shape  (58648, 3)\n",
      "shape  (58648, 3)\n",
      "shape  (58648, 3)\n",
      "shape  (58648, 3)\n"
     ]
    },
    {
     "name": "stderr",
     "output_type": "stream",
     "text": [
      "\r",
      " 53%|█████▎    | 526/1001 [00:40<00:36, 13.00it/s]"
     ]
    },
    {
     "name": "stdout",
     "output_type": "stream",
     "text": [
      "shape  (58648, 3)\n",
      "shape  (58648, 3)\n",
      "shape  (58648, 3)\n",
      "shape  (58648, 3)\n",
      "shape  (58648, 3)\n",
      "shape  (58648, 3)\n"
     ]
    },
    {
     "name": "stderr",
     "output_type": "stream",
     "text": [
      " 53%|█████▎    | 530/1001 [00:41<00:36, 13.06it/s]"
     ]
    },
    {
     "name": "stdout",
     "output_type": "stream",
     "text": [
      "shape  (58648, 3)\n",
      "shape  (58648, 3)\n",
      "shape  (58648, 3)\n",
      "shape  (58648, 3)\n",
      "shape  (58648, 3)\n",
      "shape  (58648, 3)\n"
     ]
    },
    {
     "name": "stderr",
     "output_type": "stream",
     "text": [
      "\r",
      " 53%|█████▎    | 532/1001 [00:41<00:36, 12.90it/s]"
     ]
    },
    {
     "name": "stdout",
     "output_type": "stream",
     "text": [
      "shape  (58648, 3)\n",
      "shape  (58648, 3)\n",
      "shape  (58648, 3)\n",
      "shape  (58648, 3)\n",
      "shape  (58648, 3)\n",
      "shape  (58648, 3)\n"
     ]
    },
    {
     "name": "stderr",
     "output_type": "stream",
     "text": [
      " 54%|█████▎    | 536/1001 [00:41<00:35, 12.99it/s]"
     ]
    },
    {
     "name": "stdout",
     "output_type": "stream",
     "text": [
      "shape  (58648, 3)\n",
      "shape  (58648, 3)\n",
      "shape  (58648, 3)\n",
      "shape  (58648, 3)\n",
      "shape  (58648, 3)\n",
      "shape  (58648, 3)\n"
     ]
    },
    {
     "name": "stderr",
     "output_type": "stream",
     "text": [
      "\r",
      " 54%|█████▎    | 538/1001 [00:41<00:36, 12.82it/s]"
     ]
    },
    {
     "name": "stdout",
     "output_type": "stream",
     "text": [
      "shape  (58648, 3)\n",
      "shape  (58648, 3)\n",
      "shape  (58648, 3)\n",
      "shape  (58648, 3)\n",
      "shape  (58648, 3)\n",
      "shape  (58648, 3)\n"
     ]
    },
    {
     "name": "stderr",
     "output_type": "stream",
     "text": [
      " 54%|█████▍    | 542/1001 [00:42<00:35, 12.76it/s]"
     ]
    },
    {
     "name": "stdout",
     "output_type": "stream",
     "text": [
      "shape  (58648, 3)\n",
      "shape  (58648, 3)\n",
      "shape  (58648, 3)\n",
      "shape  (58648, 3)\n",
      "shape  (58648, 3)\n",
      "shape  (58648, 3)\n"
     ]
    },
    {
     "name": "stderr",
     "output_type": "stream",
     "text": [
      "\r",
      " 54%|█████▍    | 544/1001 [00:42<00:35, 12.75it/s]"
     ]
    },
    {
     "name": "stdout",
     "output_type": "stream",
     "text": [
      "shape  (58648, 3)\n",
      "shape  (58648, 3)\n",
      "shape  (58648, 3)\n",
      "shape  (58648, 3)\n",
      "shape  (58648, 3)\n",
      "shape  (58648, 3)\n"
     ]
    },
    {
     "name": "stderr",
     "output_type": "stream",
     "text": [
      " 55%|█████▍    | 548/1001 [00:42<00:35, 12.90it/s]"
     ]
    },
    {
     "name": "stdout",
     "output_type": "stream",
     "text": [
      "shape  (58648, 3)\n",
      "shape  (58648, 3)\n",
      "shape  (58648, 3)\n",
      "shape  (58648, 3)\n",
      "shape  (58648, 3)\n",
      "shape  (58648, 3)\n"
     ]
    },
    {
     "name": "stderr",
     "output_type": "stream",
     "text": [
      "\r",
      " 55%|█████▍    | 550/1001 [00:42<00:35, 12.86it/s]"
     ]
    },
    {
     "name": "stdout",
     "output_type": "stream",
     "text": [
      "shape  (58648, 3)\n",
      "shape  (58648, 3)\n",
      "shape  (58648, 3)\n",
      "shape  (58648, 3)\n",
      "shape  (58648, 3)\n",
      "shape  (58648, 3)\n"
     ]
    },
    {
     "name": "stderr",
     "output_type": "stream",
     "text": [
      " 55%|█████▌    | 554/1001 [00:43<00:34, 12.96it/s]"
     ]
    },
    {
     "name": "stdout",
     "output_type": "stream",
     "text": [
      "shape  (58648, 3)\n",
      "shape  (58648, 3)\n",
      "shape  (58648, 3)\n",
      "shape  (58648, 3)\n",
      "shape  (58648, 3)\n",
      "shape  (58648, 3)\n"
     ]
    },
    {
     "name": "stderr",
     "output_type": "stream",
     "text": [
      "\r",
      " 56%|█████▌    | 556/1001 [00:43<00:34, 12.96it/s]"
     ]
    },
    {
     "name": "stdout",
     "output_type": "stream",
     "text": [
      "shape  (58648, 3)\n",
      "shape  (58648, 3)\n",
      "shape  (58648, 3)\n",
      "shape  (58648, 3)\n",
      "shape  (58648, 3)\n",
      "shape  (58648, 3)\n"
     ]
    },
    {
     "name": "stderr",
     "output_type": "stream",
     "text": [
      " 56%|█████▌    | 560/1001 [00:43<00:33, 13.05it/s]"
     ]
    },
    {
     "name": "stdout",
     "output_type": "stream",
     "text": [
      "shape  (58648, 3)\n",
      "shape  (58648, 3)\n",
      "shape  (58648, 3)\n",
      "shape  (58648, 3)\n",
      "shape  (58648, 3)\n",
      "shape  (58648, 3)\n"
     ]
    },
    {
     "name": "stderr",
     "output_type": "stream",
     "text": [
      "\r",
      " 56%|█████▌    | 562/1001 [00:43<00:33, 13.06it/s]"
     ]
    },
    {
     "name": "stdout",
     "output_type": "stream",
     "text": [
      "shape  (58648, 3)\n",
      "shape  (58648, 3)\n",
      "shape  (58648, 3)\n",
      "shape  (58648, 3)\n",
      "shape  (58648, 3)\n",
      "shape  (58648, 3)\n"
     ]
    },
    {
     "name": "stderr",
     "output_type": "stream",
     "text": [
      " 57%|█████▋    | 566/1001 [00:43<00:33, 13.07it/s]"
     ]
    },
    {
     "name": "stdout",
     "output_type": "stream",
     "text": [
      "shape  (58648, 3)\n",
      "shape  (58648, 3)\n",
      "shape  (58648, 3)\n",
      "shape  (58648, 3)\n",
      "shape  (58648, 3)\n",
      "shape  (58648, 3)\n"
     ]
    },
    {
     "name": "stderr",
     "output_type": "stream",
     "text": [
      "\r",
      " 57%|█████▋    | 568/1001 [00:44<00:33, 13.02it/s]"
     ]
    },
    {
     "name": "stdout",
     "output_type": "stream",
     "text": [
      "shape  (58648, 3)\n",
      "shape  (58648, 3)\n",
      "shape  (58648, 3)\n",
      "shape  (58648, 3)\n",
      "shape  (58648, 3)\n",
      "shape  (58648, 3)\n"
     ]
    },
    {
     "name": "stderr",
     "output_type": "stream",
     "text": [
      " 57%|█████▋    | 572/1001 [00:44<00:32, 13.06it/s]"
     ]
    },
    {
     "name": "stdout",
     "output_type": "stream",
     "text": [
      "shape  (58648, 3)\n",
      "shape  (58648, 3)\n",
      "shape  (58648, 3)\n",
      "shape  (58648, 3)\n",
      "shape  (58648, 3)\n",
      "shape  (58648, 3)\n"
     ]
    },
    {
     "name": "stderr",
     "output_type": "stream",
     "text": [
      "\r",
      " 57%|█████▋    | 574/1001 [00:44<00:33, 12.87it/s]"
     ]
    },
    {
     "name": "stdout",
     "output_type": "stream",
     "text": [
      "shape  (58648, 3)\n",
      "shape  (58648, 3)\n",
      "shape  (58648, 3)\n",
      "shape  (58648, 3)\n",
      "shape  (58648, 3)\n",
      "shape  (58648, 3)\n"
     ]
    },
    {
     "name": "stderr",
     "output_type": "stream",
     "text": [
      " 58%|█████▊    | 578/1001 [00:44<00:32, 12.95it/s]"
     ]
    },
    {
     "name": "stdout",
     "output_type": "stream",
     "text": [
      "shape  (58648, 3)\n",
      "shape  (58648, 3)\n",
      "shape  (58648, 3)\n",
      "shape  (58648, 3)\n",
      "shape  (58648, 3)\n",
      "shape  (58648, 3)\n"
     ]
    },
    {
     "name": "stderr",
     "output_type": "stream",
     "text": [
      "\r",
      " 58%|█████▊    | 580/1001 [00:45<00:32, 12.97it/s]"
     ]
    },
    {
     "name": "stdout",
     "output_type": "stream",
     "text": [
      "shape  (58648, 3)\n",
      "shape  (58648, 3)\n",
      "shape  (58648, 3)\n",
      "shape  (58648, 3)\n",
      "shape  (58648, 3)\n",
      "shape  (58648, 3)\n"
     ]
    },
    {
     "name": "stderr",
     "output_type": "stream",
     "text": [
      " 58%|█████▊    | 584/1001 [00:45<00:32, 12.98it/s]"
     ]
    },
    {
     "name": "stdout",
     "output_type": "stream",
     "text": [
      "shape  (58648, 3)\n",
      "shape  (58648, 3)\n",
      "shape  (58648, 3)\n",
      "shape  (58648, 3)\n",
      "shape  (58648, 3)\n",
      "shape  (58648, 3)\n"
     ]
    },
    {
     "name": "stderr",
     "output_type": "stream",
     "text": [
      "\r",
      " 59%|█████▊    | 586/1001 [00:45<00:31, 13.03it/s]"
     ]
    },
    {
     "name": "stdout",
     "output_type": "stream",
     "text": [
      "shape  (58648, 3)\n",
      "shape  (58648, 3)\n",
      "shape  (58648, 3)\n",
      "shape  (58648, 3)\n",
      "shape  (58648, 3)\n",
      "shape  (58648, 3)\n"
     ]
    },
    {
     "name": "stderr",
     "output_type": "stream",
     "text": [
      " 59%|█████▉    | 590/1001 [00:45<00:31, 13.01it/s]"
     ]
    },
    {
     "name": "stdout",
     "output_type": "stream",
     "text": [
      "shape  (58648, 3)\n",
      "shape  (58648, 3)\n",
      "shape  (58648, 3)\n",
      "shape  (58648, 3)\n",
      "shape  (58648, 3)\n",
      "shape  (58648, 3)\n"
     ]
    },
    {
     "name": "stderr",
     "output_type": "stream",
     "text": [
      "\r",
      " 59%|█████▉    | 592/1001 [00:45<00:31, 13.01it/s]"
     ]
    },
    {
     "name": "stdout",
     "output_type": "stream",
     "text": [
      "shape  (58648, 3)\n",
      "shape  (58648, 3)\n",
      "shape  (58648, 3)\n",
      "shape  (58648, 3)\n",
      "shape  (58648, 3)\n",
      "shape  (58648, 3)\n"
     ]
    },
    {
     "name": "stderr",
     "output_type": "stream",
     "text": [
      " 60%|█████▉    | 596/1001 [00:46<00:31, 13.02it/s]"
     ]
    },
    {
     "name": "stdout",
     "output_type": "stream",
     "text": [
      "shape  (58648, 3)\n",
      "shape  (58648, 3)\n",
      "shape  (58648, 3)\n",
      "shape  (58648, 3)\n",
      "shape  (58648, 3)\n",
      "shape  (58648, 3)\n"
     ]
    },
    {
     "name": "stderr",
     "output_type": "stream",
     "text": [
      "\r",
      " 60%|█████▉    | 598/1001 [00:46<00:30, 13.12it/s]"
     ]
    },
    {
     "name": "stdout",
     "output_type": "stream",
     "text": [
      "shape  (58648, 3)\n",
      "shape  (58648, 3)\n",
      "shape  (58648, 3)\n",
      "shape  (58648, 3)\n",
      "shape  (58648, 3)\n",
      "shape  (58648, 3)\n"
     ]
    },
    {
     "name": "stderr",
     "output_type": "stream",
     "text": [
      " 60%|██████    | 602/1001 [00:46<00:30, 12.99it/s]"
     ]
    },
    {
     "name": "stdout",
     "output_type": "stream",
     "text": [
      "shape  (58648, 3)\n",
      "shape  (58648, 3)\n",
      "shape  (58648, 3)\n",
      "shape  (58648, 3)\n",
      "shape  (58648, 3)\n",
      "shape  (58648, 3)\n"
     ]
    },
    {
     "name": "stderr",
     "output_type": "stream",
     "text": [
      "\r",
      " 60%|██████    | 604/1001 [00:46<00:30, 13.06it/s]"
     ]
    },
    {
     "name": "stdout",
     "output_type": "stream",
     "text": [
      "shape  (58648, 3)\n",
      "shape  (58648, 3)\n",
      "shape  (58648, 3)\n",
      "shape  (58648, 3)\n",
      "shape  (58648, 3)\n",
      "shape  (58648, 3)\n"
     ]
    },
    {
     "name": "stderr",
     "output_type": "stream",
     "text": [
      " 61%|██████    | 608/1001 [00:47<00:30, 12.98it/s]"
     ]
    },
    {
     "name": "stdout",
     "output_type": "stream",
     "text": [
      "shape  (58648, 3)\n",
      "shape  (58648, 3)\n",
      "shape  (58648, 3)\n",
      "shape  (58648, 3)\n",
      "shape  (58648, 3)\n",
      "shape  (58648, 3)\n"
     ]
    },
    {
     "name": "stderr",
     "output_type": "stream",
     "text": [
      "\r",
      " 61%|██████    | 610/1001 [00:47<00:30, 12.94it/s]"
     ]
    },
    {
     "name": "stdout",
     "output_type": "stream",
     "text": [
      "shape  (58648, 3)\n",
      "shape  (58648, 3)\n",
      "shape  (58648, 3)\n",
      "shape  (58648, 3)\n",
      "shape  (58648, 3)\n",
      "shape  (58648, 3)\n"
     ]
    },
    {
     "name": "stderr",
     "output_type": "stream",
     "text": [
      " 61%|██████▏   | 614/1001 [00:47<00:29, 13.01it/s]"
     ]
    },
    {
     "name": "stdout",
     "output_type": "stream",
     "text": [
      "shape  (58648, 3)\n",
      "shape  (58648, 3)\n",
      "shape  (58648, 3)\n",
      "shape  (58648, 3)\n",
      "shape  (58648, 3)\n",
      "shape  (58648, 3)\n"
     ]
    },
    {
     "name": "stderr",
     "output_type": "stream",
     "text": [
      "\r",
      " 62%|██████▏   | 616/1001 [00:47<00:29, 12.96it/s]"
     ]
    },
    {
     "name": "stdout",
     "output_type": "stream",
     "text": [
      "shape  (58648, 3)\n",
      "shape  (58648, 3)\n",
      "shape  (58648, 3)\n",
      "shape  (58648, 3)\n",
      "shape  (58648, 3)\n",
      "shape  (58648, 3)\n"
     ]
    },
    {
     "name": "stderr",
     "output_type": "stream",
     "text": [
      " 62%|██████▏   | 620/1001 [00:48<00:29, 13.07it/s]"
     ]
    },
    {
     "name": "stdout",
     "output_type": "stream",
     "text": [
      "shape  (58648, 3)\n",
      "shape  (58648, 3)\n",
      "shape  (58648, 3)\n",
      "shape  (58648, 3)\n",
      "shape  (58648, 3)\n",
      "shape  (58648, 3)\n"
     ]
    },
    {
     "name": "stderr",
     "output_type": "stream",
     "text": [
      "\r",
      " 62%|██████▏   | 622/1001 [00:48<00:29, 12.96it/s]"
     ]
    },
    {
     "name": "stdout",
     "output_type": "stream",
     "text": [
      "shape  (58648, 3)\n",
      "shape  (58648, 3)\n",
      "shape  (58648, 3)\n",
      "shape  (58648, 3)\n",
      "shape  (58648, 3)\n",
      "shape  (58648, 3)\n"
     ]
    },
    {
     "name": "stderr",
     "output_type": "stream",
     "text": [
      " 63%|██████▎   | 626/1001 [00:48<00:28, 13.08it/s]"
     ]
    },
    {
     "name": "stdout",
     "output_type": "stream",
     "text": [
      "shape  (58648, 3)\n",
      "shape  (58648, 3)\n",
      "shape  (58648, 3)\n",
      "shape  (58648, 3)\n",
      "shape  (58648, 3)\n",
      "shape  (58648, 3)\n"
     ]
    },
    {
     "name": "stderr",
     "output_type": "stream",
     "text": [
      "\r",
      " 63%|██████▎   | 628/1001 [00:48<00:28, 12.98it/s]"
     ]
    },
    {
     "name": "stdout",
     "output_type": "stream",
     "text": [
      "shape  (58648, 3)\n",
      "shape  (58648, 3)\n",
      "shape  (58648, 3)\n",
      "shape  (58648, 3)\n",
      "shape  (58648, 3)\n",
      "shape  (58648, 3)\n"
     ]
    },
    {
     "name": "stderr",
     "output_type": "stream",
     "text": [
      " 63%|██████▎   | 632/1001 [00:49<00:28, 13.02it/s]"
     ]
    },
    {
     "name": "stdout",
     "output_type": "stream",
     "text": [
      "shape  (58648, 3)\n",
      "shape  (58648, 3)\n",
      "shape  (58648, 3)\n",
      "shape  (58648, 3)\n",
      "shape  (58648, 3)\n",
      "shape  (58648, 3)\n"
     ]
    },
    {
     "name": "stderr",
     "output_type": "stream",
     "text": [
      "\r",
      " 63%|██████▎   | 634/1001 [00:49<00:28, 12.96it/s]"
     ]
    },
    {
     "name": "stdout",
     "output_type": "stream",
     "text": [
      "shape  (58648, 3)\n",
      "shape  (58648, 3)\n",
      "shape  (58648, 3)\n",
      "shape  (58648, 3)\n",
      "shape  (58648, 3)\n",
      "shape  (58648, 3)\n"
     ]
    },
    {
     "name": "stderr",
     "output_type": "stream",
     "text": [
      " 64%|██████▎   | 638/1001 [00:49<00:28, 12.94it/s]"
     ]
    },
    {
     "name": "stdout",
     "output_type": "stream",
     "text": [
      "shape  (58648, 3)\n",
      "shape  (58648, 3)\n",
      "shape  (58648, 3)\n",
      "shape  (58648, 3)\n",
      "shape  (58648, 3)\n",
      "shape  (58648, 3)\n"
     ]
    },
    {
     "name": "stderr",
     "output_type": "stream",
     "text": [
      "\r",
      " 64%|██████▍   | 640/1001 [00:49<00:28, 12.89it/s]"
     ]
    },
    {
     "name": "stdout",
     "output_type": "stream",
     "text": [
      "shape  (58648, 3)\n",
      "shape  (58648, 3)\n",
      "shape  (58648, 3)\n",
      "shape  (58648, 3)\n",
      "shape  (58648, 3)\n",
      "shape  (58648, 3)\n"
     ]
    },
    {
     "name": "stderr",
     "output_type": "stream",
     "text": [
      " 64%|██████▍   | 644/1001 [00:49<00:27, 13.02it/s]"
     ]
    },
    {
     "name": "stdout",
     "output_type": "stream",
     "text": [
      "shape  (58648, 3)\n",
      "shape  (58648, 3)\n",
      "shape  (58648, 3)\n",
      "shape  (58648, 3)\n",
      "shape  (58648, 3)\n",
      "shape  (58648, 3)\n"
     ]
    },
    {
     "name": "stderr",
     "output_type": "stream",
     "text": [
      "\r",
      " 65%|██████▍   | 646/1001 [00:50<00:27, 12.93it/s]"
     ]
    },
    {
     "name": "stdout",
     "output_type": "stream",
     "text": [
      "shape  (58648, 3)\n",
      "shape  (58648, 3)\n",
      "shape  (58648, 3)\n",
      "shape  (58648, 3)\n",
      "shape  (58648, 3)\n",
      "shape  (58648, 3)\n"
     ]
    },
    {
     "name": "stderr",
     "output_type": "stream",
     "text": [
      " 65%|██████▍   | 650/1001 [00:50<00:26, 13.03it/s]"
     ]
    },
    {
     "name": "stdout",
     "output_type": "stream",
     "text": [
      "shape  (58648, 3)\n",
      "shape  (58648, 3)\n",
      "shape  (58648, 3)\n",
      "shape  (58648, 3)\n",
      "shape  (58648, 3)\n",
      "shape  (58648, 3)\n"
     ]
    },
    {
     "name": "stderr",
     "output_type": "stream",
     "text": [
      "\r",
      " 65%|██████▌   | 652/1001 [00:50<00:26, 12.96it/s]"
     ]
    },
    {
     "name": "stdout",
     "output_type": "stream",
     "text": [
      "shape  (58648, 3)\n",
      "shape  (58648, 3)\n",
      "shape  (58648, 3)\n",
      "shape  (58648, 3)\n",
      "shape  (58648, 3)\n",
      "shape  (58648, 3)\n"
     ]
    },
    {
     "name": "stderr",
     "output_type": "stream",
     "text": [
      " 66%|██████▌   | 656/1001 [00:50<00:26, 13.02it/s]"
     ]
    },
    {
     "name": "stdout",
     "output_type": "stream",
     "text": [
      "shape  (58648, 3)\n",
      "shape  (58648, 3)\n",
      "shape  (58648, 3)\n",
      "shape  (58648, 3)\n",
      "shape  (58648, 3)\n",
      "shape  (58648, 3)\n"
     ]
    },
    {
     "name": "stderr",
     "output_type": "stream",
     "text": [
      "\r",
      " 66%|██████▌   | 658/1001 [00:51<00:26, 12.97it/s]"
     ]
    },
    {
     "name": "stdout",
     "output_type": "stream",
     "text": [
      "shape  (58648, 3)\n",
      "shape  (58648, 3)\n",
      "shape  (58648, 3)\n",
      "shape  (58648, 3)\n",
      "shape  (58648, 3)\n",
      "shape  (58648, 3)\n"
     ]
    },
    {
     "name": "stderr",
     "output_type": "stream",
     "text": [
      " 66%|██████▌   | 662/1001 [00:51<00:26, 13.02it/s]"
     ]
    },
    {
     "name": "stdout",
     "output_type": "stream",
     "text": [
      "shape  (58648, 3)\n",
      "shape  (58648, 3)\n",
      "shape  (58648, 3)\n",
      "shape  (58648, 3)\n",
      "shape  (58648, 3)\n",
      "shape  (58648, 3)\n"
     ]
    },
    {
     "name": "stderr",
     "output_type": "stream",
     "text": [
      "\r",
      " 66%|██████▋   | 664/1001 [00:51<00:26, 12.94it/s]"
     ]
    },
    {
     "name": "stdout",
     "output_type": "stream",
     "text": [
      "shape  (58648, 3)\n",
      "shape  (58648, 3)\n",
      "shape  (58648, 3)\n",
      "shape  (58648, 3)\n",
      "shape  (58648, 3)\n",
      "shape  (58648, 3)\n"
     ]
    },
    {
     "name": "stderr",
     "output_type": "stream",
     "text": [
      " 67%|██████▋   | 668/1001 [00:51<00:25, 12.91it/s]"
     ]
    },
    {
     "name": "stdout",
     "output_type": "stream",
     "text": [
      "shape  (58648, 3)\n",
      "shape  (58648, 3)\n",
      "shape  (58648, 3)\n",
      "shape  (58648, 3)\n",
      "shape  (58648, 3)\n",
      "shape  (58648, 3)\n"
     ]
    },
    {
     "name": "stderr",
     "output_type": "stream",
     "text": [
      "\r",
      " 67%|██████▋   | 670/1001 [00:51<00:25, 12.94it/s]"
     ]
    },
    {
     "name": "stdout",
     "output_type": "stream",
     "text": [
      "shape  (58648, 3)\n",
      "shape  (58648, 3)\n",
      "shape  (58648, 3)\n",
      "shape  (58648, 3)\n",
      "shape  (58648, 3)\n",
      "shape  (58648, 3)\n"
     ]
    },
    {
     "name": "stderr",
     "output_type": "stream",
     "text": [
      " 67%|██████▋   | 674/1001 [00:52<00:25, 13.01it/s]"
     ]
    },
    {
     "name": "stdout",
     "output_type": "stream",
     "text": [
      "shape  (58648, 3)\n",
      "shape  (58648, 3)\n",
      "shape  (58648, 3)\n",
      "shape  (58648, 3)\n",
      "shape  (58648, 3)\n",
      "shape  (58648, 3)\n"
     ]
    },
    {
     "name": "stderr",
     "output_type": "stream",
     "text": [
      "\r",
      " 68%|██████▊   | 676/1001 [00:52<00:24, 13.01it/s]"
     ]
    },
    {
     "name": "stdout",
     "output_type": "stream",
     "text": [
      "shape  (58648, 3)\n",
      "shape  (58648, 3)\n",
      "shape  (58648, 3)\n",
      "shape  (58648, 3)\n",
      "shape  (58648, 3)\n",
      "shape  (58648, 3)\n"
     ]
    },
    {
     "name": "stderr",
     "output_type": "stream",
     "text": [
      " 68%|██████▊   | 680/1001 [00:52<00:24, 13.01it/s]"
     ]
    },
    {
     "name": "stdout",
     "output_type": "stream",
     "text": [
      "shape  (58648, 3)\n",
      "shape  (58648, 3)\n",
      "shape  (58648, 3)\n",
      "shape  (58648, 3)\n",
      "shape  (58648, 3)\n",
      "shape  (58648, 3)\n"
     ]
    },
    {
     "name": "stderr",
     "output_type": "stream",
     "text": [
      "\r",
      " 68%|██████▊   | 682/1001 [00:52<00:24, 13.01it/s]"
     ]
    },
    {
     "name": "stdout",
     "output_type": "stream",
     "text": [
      "shape  (58648, 3)\n",
      "shape  (58648, 3)\n",
      "shape  (58648, 3)\n",
      "shape  (58648, 3)\n",
      "shape  (58648, 3)\n",
      "shape  (58648, 3)\n"
     ]
    },
    {
     "name": "stderr",
     "output_type": "stream",
     "text": [
      " 69%|██████▊   | 686/1001 [00:53<00:24, 13.05it/s]"
     ]
    },
    {
     "name": "stdout",
     "output_type": "stream",
     "text": [
      "shape  (58648, 3)\n",
      "shape  (58648, 3)\n",
      "shape  (58648, 3)\n",
      "shape  (58648, 3)\n",
      "shape  (58648, 3)\n",
      "shape  (58648, 3)\n"
     ]
    },
    {
     "name": "stderr",
     "output_type": "stream",
     "text": [
      "\r",
      " 69%|██████▊   | 688/1001 [00:53<00:24, 13.03it/s]"
     ]
    },
    {
     "name": "stdout",
     "output_type": "stream",
     "text": [
      "shape  (58648, 3)\n",
      "shape  (58648, 3)\n",
      "shape  (58648, 3)\n",
      "shape  (58648, 3)\n",
      "shape  (58648, 3)\n",
      "shape  (58648, 3)\n"
     ]
    },
    {
     "name": "stderr",
     "output_type": "stream",
     "text": [
      " 69%|██████▉   | 692/1001 [00:53<00:23, 13.09it/s]"
     ]
    },
    {
     "name": "stdout",
     "output_type": "stream",
     "text": [
      "shape  (58648, 3)\n",
      "shape  (58648, 3)\n",
      "shape  (58648, 3)\n",
      "shape  (58648, 3)\n",
      "shape  (58648, 3)\n",
      "shape  (58648, 3)\n"
     ]
    },
    {
     "name": "stderr",
     "output_type": "stream",
     "text": [
      "\r",
      " 69%|██████▉   | 694/1001 [00:53<00:23, 13.03it/s]"
     ]
    },
    {
     "name": "stdout",
     "output_type": "stream",
     "text": [
      "shape  (58648, 3)\n",
      "shape  (58648, 3)\n",
      "shape  (58648, 3)\n",
      "shape  (58648, 3)\n",
      "shape  (58648, 3)\n",
      "shape  (58648, 3)\n"
     ]
    },
    {
     "name": "stderr",
     "output_type": "stream",
     "text": [
      " 70%|██████▉   | 698/1001 [00:54<00:23, 13.02it/s]"
     ]
    },
    {
     "name": "stdout",
     "output_type": "stream",
     "text": [
      "shape  (58648, 3)\n",
      "shape  (58648, 3)\n",
      "shape  (58648, 3)\n",
      "shape  (58648, 3)\n",
      "shape  (58648, 3)\n",
      "shape  (58648, 3)\n"
     ]
    },
    {
     "name": "stderr",
     "output_type": "stream",
     "text": [
      "\r",
      " 70%|██████▉   | 700/1001 [00:54<00:23, 12.87it/s]"
     ]
    },
    {
     "name": "stdout",
     "output_type": "stream",
     "text": [
      "shape  (58648, 3)\n",
      "shape  (58648, 3)\n",
      "shape  (58648, 3)\n",
      "shape  (58648, 3)\n",
      "shape  (58648, 3)\n",
      "shape  (58648, 3)\n"
     ]
    },
    {
     "name": "stderr",
     "output_type": "stream",
     "text": [
      " 70%|███████   | 704/1001 [00:54<00:23, 12.87it/s]"
     ]
    },
    {
     "name": "stdout",
     "output_type": "stream",
     "text": [
      "shape  (58648, 3)\n",
      "shape  (58648, 3)\n",
      "shape  (58648, 3)\n",
      "shape  (58648, 3)\n",
      "shape  (58648, 3)\n",
      "shape  (58648, 3)\n"
     ]
    },
    {
     "name": "stderr",
     "output_type": "stream",
     "text": [
      "\r",
      " 71%|███████   | 706/1001 [00:54<00:22, 12.96it/s]"
     ]
    },
    {
     "name": "stdout",
     "output_type": "stream",
     "text": [
      "shape  (58648, 3)\n",
      "shape  (58648, 3)\n",
      "shape  (58648, 3)\n",
      "shape  (58648, 3)\n",
      "shape  (58648, 3)\n",
      "shape  (58648, 3)\n"
     ]
    },
    {
     "name": "stderr",
     "output_type": "stream",
     "text": [
      " 71%|███████   | 710/1001 [00:55<00:22, 12.92it/s]"
     ]
    },
    {
     "name": "stdout",
     "output_type": "stream",
     "text": [
      "shape  (58648, 3)\n",
      "shape  (58648, 3)\n",
      "shape  (58648, 3)\n",
      "shape  (58648, 3)\n",
      "shape  (58648, 3)\n",
      "shape  (58648, 3)\n"
     ]
    },
    {
     "name": "stderr",
     "output_type": "stream",
     "text": [
      "\r",
      " 71%|███████   | 712/1001 [00:55<00:22, 12.98it/s]"
     ]
    },
    {
     "name": "stdout",
     "output_type": "stream",
     "text": [
      "shape  (58648, 3)\n",
      "shape  (58648, 3)\n",
      "shape  (58648, 3)\n",
      "shape  (58648, 3)\n",
      "shape  (58648, 3)\n",
      "shape  (58648, 3)\n"
     ]
    },
    {
     "name": "stderr",
     "output_type": "stream",
     "text": [
      " 72%|███████▏  | 716/1001 [00:55<00:21, 12.96it/s]"
     ]
    },
    {
     "name": "stdout",
     "output_type": "stream",
     "text": [
      "shape  (58648, 3)\n",
      "shape  (58648, 3)\n",
      "shape  (58648, 3)\n",
      "shape  (58648, 3)\n",
      "shape  (58648, 3)\n",
      "shape  (58648, 3)\n"
     ]
    },
    {
     "name": "stderr",
     "output_type": "stream",
     "text": [
      "\r",
      " 72%|███████▏  | 718/1001 [00:55<00:21, 12.97it/s]"
     ]
    },
    {
     "name": "stdout",
     "output_type": "stream",
     "text": [
      "shape  (58648, 3)\n",
      "shape  (58648, 3)\n",
      "shape  (58648, 3)\n",
      "shape  (58648, 3)\n",
      "shape  (58648, 3)\n",
      "shape  (58648, 3)\n"
     ]
    },
    {
     "name": "stderr",
     "output_type": "stream",
     "text": [
      " 72%|███████▏  | 722/1001 [00:55<00:21, 12.94it/s]"
     ]
    },
    {
     "name": "stdout",
     "output_type": "stream",
     "text": [
      "shape  (58648, 3)\n",
      "shape  (58648, 3)\n",
      "shape  (58648, 3)\n",
      "shape  (58648, 3)\n",
      "shape  (58648, 3)\n",
      "shape  (58648, 3)\n"
     ]
    },
    {
     "name": "stderr",
     "output_type": "stream",
     "text": [
      "\r",
      " 72%|███████▏  | 724/1001 [00:56<00:21, 13.00it/s]"
     ]
    },
    {
     "name": "stdout",
     "output_type": "stream",
     "text": [
      "shape  (58648, 3)\n",
      "shape  (58648, 3)\n",
      "shape  (58648, 3)\n",
      "shape  (58648, 3)\n",
      "shape  (58648, 3)\n",
      "shape  (58648, 3)\n"
     ]
    },
    {
     "name": "stderr",
     "output_type": "stream",
     "text": [
      " 73%|███████▎  | 728/1001 [00:56<00:21, 12.96it/s]"
     ]
    },
    {
     "name": "stdout",
     "output_type": "stream",
     "text": [
      "shape  (58648, 3)\n",
      "shape  (58648, 3)\n",
      "shape  (58648, 3)\n",
      "shape  (58648, 3)\n",
      "shape  (58648, 3)\n",
      "shape  (58648, 3)\n"
     ]
    },
    {
     "name": "stderr",
     "output_type": "stream",
     "text": [
      "\r",
      " 73%|███████▎  | 730/1001 [00:56<00:20, 12.95it/s]"
     ]
    },
    {
     "name": "stdout",
     "output_type": "stream",
     "text": [
      "shape  (58648, 3)\n",
      "shape  (58648, 3)\n",
      "shape  (58648, 3)\n",
      "shape  (58648, 3)\n",
      "shape  (58648, 3)\n",
      "shape  (58648, 3)\n"
     ]
    },
    {
     "name": "stderr",
     "output_type": "stream",
     "text": [
      " 73%|███████▎  | 734/1001 [00:56<00:20, 12.89it/s]"
     ]
    },
    {
     "name": "stdout",
     "output_type": "stream",
     "text": [
      "shape  (58648, 3)\n",
      "shape  (58648, 3)\n",
      "shape  (58648, 3)\n",
      "shape  (58648, 3)\n",
      "shape  (58648, 3)\n",
      "shape  (58648, 3)\n"
     ]
    },
    {
     "name": "stderr",
     "output_type": "stream",
     "text": [
      "\r",
      " 74%|███████▎  | 736/1001 [00:57<00:20, 12.93it/s]"
     ]
    },
    {
     "name": "stdout",
     "output_type": "stream",
     "text": [
      "shape  (58648, 3)\n",
      "shape  (58648, 3)\n",
      "shape  (58648, 3)\n",
      "shape  (58648, 3)\n",
      "shape  (58648, 3)\n",
      "shape  (58648, 3)\n"
     ]
    },
    {
     "name": "stderr",
     "output_type": "stream",
     "text": [
      " 74%|███████▍  | 740/1001 [00:57<00:20, 12.80it/s]"
     ]
    },
    {
     "name": "stdout",
     "output_type": "stream",
     "text": [
      "shape  (58648, 3)\n",
      "shape  (58648, 3)\n",
      "shape  (58648, 3)\n",
      "shape  (58648, 3)\n",
      "shape  (58648, 3)\n",
      "shape  (58648, 3)\n"
     ]
    },
    {
     "name": "stderr",
     "output_type": "stream",
     "text": [
      "\r",
      " 74%|███████▍  | 742/1001 [00:57<00:20, 12.76it/s]"
     ]
    },
    {
     "name": "stdout",
     "output_type": "stream",
     "text": [
      "shape  (58648, 3)\n",
      "shape  (58648, 3)\n",
      "shape  (58648, 3)\n",
      "shape  (58648, 3)\n",
      "shape  (58648, 3)\n",
      "shape  (58648, 3)\n"
     ]
    },
    {
     "name": "stderr",
     "output_type": "stream",
     "text": [
      " 75%|███████▍  | 746/1001 [00:57<00:19, 12.85it/s]"
     ]
    },
    {
     "name": "stdout",
     "output_type": "stream",
     "text": [
      "shape  (58648, 3)\n",
      "shape  (58648, 3)\n",
      "shape  (58648, 3)\n",
      "shape  (58648, 3)\n",
      "shape  (58648, 3)\n",
      "shape  (58648, 3)\n"
     ]
    },
    {
     "name": "stderr",
     "output_type": "stream",
     "text": [
      "\r",
      " 75%|███████▍  | 748/1001 [00:57<00:19, 12.95it/s]"
     ]
    },
    {
     "name": "stdout",
     "output_type": "stream",
     "text": [
      "shape  (58648, 3)\n",
      "shape  (58648, 3)\n",
      "shape  (58648, 3)\n",
      "shape  (58648, 3)\n",
      "shape  (58648, 3)\n",
      "shape  (58648, 3)\n"
     ]
    },
    {
     "name": "stderr",
     "output_type": "stream",
     "text": [
      " 75%|███████▌  | 752/1001 [00:58<00:19, 12.87it/s]"
     ]
    },
    {
     "name": "stdout",
     "output_type": "stream",
     "text": [
      "shape  (58648, 3)\n",
      "shape  (58648, 3)\n",
      "shape  (58648, 3)\n",
      "shape  (58648, 3)\n",
      "shape  (58648, 3)\n",
      "shape  (58648, 3)\n"
     ]
    },
    {
     "name": "stderr",
     "output_type": "stream",
     "text": [
      "\r",
      " 75%|███████▌  | 754/1001 [00:58<00:19, 12.78it/s]"
     ]
    },
    {
     "name": "stdout",
     "output_type": "stream",
     "text": [
      "shape  (58648, 3)\n",
      "shape  (58648, 3)\n",
      "shape  (58648, 3)\n",
      "shape  (58648, 3)\n",
      "shape  (58648, 3)\n",
      "shape  (58648, 3)\n"
     ]
    },
    {
     "name": "stderr",
     "output_type": "stream",
     "text": [
      " 76%|███████▌  | 758/1001 [00:58<00:18, 12.85it/s]"
     ]
    },
    {
     "name": "stdout",
     "output_type": "stream",
     "text": [
      "shape  (58648, 3)\n",
      "shape  (58648, 3)\n",
      "shape  (58648, 3)\n",
      "shape  (58648, 3)\n",
      "shape  (58648, 3)\n",
      "shape  (58648, 3)\n"
     ]
    },
    {
     "name": "stderr",
     "output_type": "stream",
     "text": [
      "\r",
      " 76%|███████▌  | 760/1001 [00:58<00:18, 12.84it/s]"
     ]
    },
    {
     "name": "stdout",
     "output_type": "stream",
     "text": [
      "shape  (58648, 3)\n",
      "shape  (58648, 3)\n",
      "shape  (58648, 3)\n",
      "shape  (58648, 3)\n",
      "shape  (58648, 3)\n",
      "shape  (58648, 3)\n"
     ]
    },
    {
     "name": "stderr",
     "output_type": "stream",
     "text": [
      " 76%|███████▋  | 764/1001 [00:59<00:18, 13.00it/s]"
     ]
    },
    {
     "name": "stdout",
     "output_type": "stream",
     "text": [
      "shape  (58648, 3)\n",
      "shape  (58648, 3)\n",
      "shape  (58648, 3)\n",
      "shape  (58648, 3)\n",
      "shape  (58648, 3)\n",
      "shape  (58648, 3)\n"
     ]
    },
    {
     "name": "stderr",
     "output_type": "stream",
     "text": [
      "\r",
      " 77%|███████▋  | 766/1001 [00:59<00:18, 12.92it/s]"
     ]
    },
    {
     "name": "stdout",
     "output_type": "stream",
     "text": [
      "shape  (58648, 3)\n",
      "shape  (58648, 3)\n",
      "shape  (58648, 3)\n",
      "shape  (58648, 3)\n",
      "shape  (58648, 3)\n",
      "shape  (58648, 3)\n"
     ]
    },
    {
     "name": "stderr",
     "output_type": "stream",
     "text": [
      " 77%|███████▋  | 770/1001 [00:59<00:17, 13.04it/s]"
     ]
    },
    {
     "name": "stdout",
     "output_type": "stream",
     "text": [
      "shape  (58648, 3)\n",
      "shape  (58648, 3)\n",
      "shape  (58648, 3)\n",
      "shape  (58648, 3)\n",
      "shape  (58648, 3)\n",
      "shape  (58648, 3)\n"
     ]
    },
    {
     "name": "stderr",
     "output_type": "stream",
     "text": [
      "\r",
      " 77%|███████▋  | 772/1001 [00:59<00:17, 12.96it/s]"
     ]
    },
    {
     "name": "stdout",
     "output_type": "stream",
     "text": [
      "shape  (58648, 3)\n",
      "shape  (58648, 3)\n",
      "shape  (58648, 3)\n",
      "shape  (58648, 3)\n",
      "shape  (58648, 3)\n",
      "shape  (58648, 3)\n"
     ]
    },
    {
     "name": "stderr",
     "output_type": "stream",
     "text": [
      " 78%|███████▊  | 776/1001 [01:00<00:17, 13.08it/s]"
     ]
    },
    {
     "name": "stdout",
     "output_type": "stream",
     "text": [
      "shape  (58648, 3)\n",
      "shape  (58648, 3)\n",
      "shape  (58648, 3)\n",
      "shape  (58648, 3)\n",
      "shape  (58648, 3)\n",
      "shape  (58648, 3)\n"
     ]
    },
    {
     "name": "stderr",
     "output_type": "stream",
     "text": [
      "\r",
      " 78%|███████▊  | 778/1001 [01:00<00:17, 13.01it/s]"
     ]
    },
    {
     "name": "stdout",
     "output_type": "stream",
     "text": [
      "shape  (58648, 3)\n",
      "shape  (58648, 3)\n",
      "shape  (58648, 3)\n",
      "shape  (58648, 3)\n",
      "shape  (58648, 3)\n",
      "shape  (58648, 3)\n"
     ]
    },
    {
     "name": "stderr",
     "output_type": "stream",
     "text": [
      " 78%|███████▊  | 782/1001 [01:00<00:16, 13.00it/s]"
     ]
    },
    {
     "name": "stdout",
     "output_type": "stream",
     "text": [
      "shape  (58648, 3)\n",
      "shape  (58648, 3)\n",
      "shape  (58648, 3)\n",
      "shape  (58648, 3)\n",
      "shape  (58648, 3)\n",
      "shape  (58648, 3)\n"
     ]
    },
    {
     "name": "stderr",
     "output_type": "stream",
     "text": [
      "\r",
      " 78%|███████▊  | 784/1001 [01:00<00:16, 12.96it/s]"
     ]
    },
    {
     "name": "stdout",
     "output_type": "stream",
     "text": [
      "shape  (58648, 3)\n",
      "shape  (58648, 3)\n",
      "shape  (58648, 3)\n",
      "shape  (58648, 3)\n",
      "shape  (58648, 3)\n",
      "shape  (58648, 3)\n"
     ]
    },
    {
     "name": "stderr",
     "output_type": "stream",
     "text": [
      " 79%|███████▊  | 788/1001 [01:01<00:16, 12.95it/s]"
     ]
    },
    {
     "name": "stdout",
     "output_type": "stream",
     "text": [
      "shape  (58648, 3)\n",
      "shape  (58648, 3)\n",
      "shape  (58648, 3)\n",
      "shape  (58648, 3)\n",
      "shape  (58648, 3)\n",
      "shape  (58648, 3)\n"
     ]
    },
    {
     "name": "stderr",
     "output_type": "stream",
     "text": [
      "\r",
      " 79%|███████▉  | 790/1001 [01:01<00:16, 12.89it/s]"
     ]
    },
    {
     "name": "stdout",
     "output_type": "stream",
     "text": [
      "shape  (58648, 3)\n",
      "shape  (58648, 3)\n",
      "shape  (58648, 3)\n",
      "shape  (58648, 3)\n",
      "shape  (58648, 3)\n",
      "shape  (58648, 3)\n"
     ]
    },
    {
     "name": "stderr",
     "output_type": "stream",
     "text": [
      " 79%|███████▉  | 794/1001 [01:01<00:16, 12.20it/s]"
     ]
    },
    {
     "name": "stdout",
     "output_type": "stream",
     "text": [
      "shape  (58648, 3)\n",
      "shape  (58648, 3)\n",
      "shape  (58648, 3)\n",
      "shape  (58648, 3)\n",
      "shape  (58648, 3)\n",
      "shape  (58648, 3)\n",
      "shape  (58648, 3)\n",
      "shape  (58648, 3)\n"
     ]
    },
    {
     "name": "stderr",
     "output_type": "stream",
     "text": [
      "\r",
      " 80%|███████▉  | 796/1001 [01:01<00:21,  9.74it/s]"
     ]
    },
    {
     "name": "stdout",
     "output_type": "stream",
     "text": [
      "shape  (58648, 3)\n",
      "shape  (58648, 3)\n",
      "shape  (58648, 3)\n",
      "shape  (58648, 3)\n"
     ]
    },
    {
     "name": "stderr",
     "output_type": "stream",
     "text": [
      " 80%|███████▉  | 799/1001 [01:02<00:25,  8.04it/s]"
     ]
    },
    {
     "name": "stdout",
     "output_type": "stream",
     "text": [
      "shape  (58648, 3)\n",
      "shape  (58648, 3)\n",
      "shape  (58648, 3)\n",
      "shape  (58648, 3)\n"
     ]
    },
    {
     "name": "stderr",
     "output_type": "stream",
     "text": [
      " 80%|████████  | 802/1001 [01:02<00:21,  9.46it/s]"
     ]
    },
    {
     "name": "stdout",
     "output_type": "stream",
     "text": [
      "shape  (58648, 3)\n",
      "shape  (58648, 3)\n",
      "shape  (58648, 3)\n",
      "shape  (58648, 3)\n",
      "shape  (58648, 3)\n",
      "shape  (58648, 3)\n"
     ]
    },
    {
     "name": "stderr",
     "output_type": "stream",
     "text": [
      "\r",
      " 80%|████████  | 804/1001 [01:02<00:18, 10.43it/s]"
     ]
    },
    {
     "name": "stdout",
     "output_type": "stream",
     "text": [
      "shape  (58648, 3)\n",
      "shape  (58648, 3)\n",
      "shape  (58648, 3)\n",
      "shape  (58648, 3)\n",
      "shape  (58648, 3)\n",
      "shape  (58648, 3)\n"
     ]
    },
    {
     "name": "stderr",
     "output_type": "stream",
     "text": [
      " 81%|████████  | 808/1001 [01:03<00:16, 11.66it/s]"
     ]
    },
    {
     "name": "stdout",
     "output_type": "stream",
     "text": [
      "shape  (58648, 3)\n",
      "shape  (58648, 3)\n",
      "shape  (58648, 3)\n",
      "shape  (58648, 3)\n",
      "shape  (58648, 3)\n",
      "shape  (58648, 3)\n"
     ]
    },
    {
     "name": "stderr",
     "output_type": "stream",
     "text": [
      "\r",
      " 81%|████████  | 810/1001 [01:03<00:15, 12.03it/s]"
     ]
    },
    {
     "name": "stdout",
     "output_type": "stream",
     "text": [
      "shape  (58648, 3)\n",
      "shape  (58648, 3)\n",
      "shape  (58648, 3)\n",
      "shape  (58648, 3)\n",
      "shape  (58648, 3)\n",
      "shape  (58648, 3)\n"
     ]
    },
    {
     "name": "stderr",
     "output_type": "stream",
     "text": [
      " 81%|████████▏ | 814/1001 [01:03<00:15, 12.43it/s]"
     ]
    },
    {
     "name": "stdout",
     "output_type": "stream",
     "text": [
      "shape  (58648, 3)\n",
      "shape  (58648, 3)\n",
      "shape  (58648, 3)\n",
      "shape  (58648, 3)\n",
      "shape  (58648, 3)\n",
      "shape  (58648, 3)\n"
     ]
    },
    {
     "name": "stderr",
     "output_type": "stream",
     "text": [
      "\r",
      " 82%|████████▏ | 816/1001 [01:03<00:14, 12.54it/s]"
     ]
    },
    {
     "name": "stdout",
     "output_type": "stream",
     "text": [
      "shape  (58648, 3)\n",
      "shape  (58648, 3)\n",
      "shape  (58648, 3)\n",
      "shape  (58648, 3)\n",
      "shape  (58648, 3)\n",
      "shape  (58648, 3)\n"
     ]
    },
    {
     "name": "stderr",
     "output_type": "stream",
     "text": [
      " 82%|████████▏ | 820/1001 [01:04<00:14, 12.86it/s]"
     ]
    },
    {
     "name": "stdout",
     "output_type": "stream",
     "text": [
      "shape  (58648, 3)\n",
      "shape  (58648, 3)\n",
      "shape  (58648, 3)\n",
      "shape  (58648, 3)\n",
      "shape  (58648, 3)\n",
      "shape  (58648, 3)\n"
     ]
    },
    {
     "name": "stderr",
     "output_type": "stream",
     "text": [
      "\r",
      " 82%|████████▏ | 822/1001 [01:04<00:13, 12.85it/s]"
     ]
    },
    {
     "name": "stdout",
     "output_type": "stream",
     "text": [
      "shape  (58648, 3)\n",
      "shape  (58648, 3)\n",
      "shape  (58648, 3)\n",
      "shape  (58648, 3)\n",
      "shape  (58648, 3)\n",
      "shape  (58648, 3)\n"
     ]
    },
    {
     "name": "stderr",
     "output_type": "stream",
     "text": [
      " 83%|████████▎ | 826/1001 [01:04<00:13, 13.01it/s]"
     ]
    },
    {
     "name": "stdout",
     "output_type": "stream",
     "text": [
      "shape  (58648, 3)\n",
      "shape  (58648, 3)\n",
      "shape  (58648, 3)\n",
      "shape  (58648, 3)\n",
      "shape  (58648, 3)\n",
      "shape  (58648, 3)\n"
     ]
    },
    {
     "name": "stderr",
     "output_type": "stream",
     "text": [
      "\r",
      " 83%|████████▎ | 828/1001 [01:04<00:13, 12.97it/s]"
     ]
    },
    {
     "name": "stdout",
     "output_type": "stream",
     "text": [
      "shape  (58648, 3)\n",
      "shape  (58648, 3)\n",
      "shape  (58648, 3)\n",
      "shape  (58648, 3)\n",
      "shape  (58648, 3)\n",
      "shape  (58648, 3)\n"
     ]
    },
    {
     "name": "stderr",
     "output_type": "stream",
     "text": [
      " 83%|████████▎ | 832/1001 [01:04<00:12, 13.06it/s]"
     ]
    },
    {
     "name": "stdout",
     "output_type": "stream",
     "text": [
      "shape  (58648, 3)\n",
      "shape  (58648, 3)\n",
      "shape  (58648, 3)\n",
      "shape  (58648, 3)\n",
      "shape  (58648, 3)\n",
      "shape  (58648, 3)\n"
     ]
    },
    {
     "name": "stderr",
     "output_type": "stream",
     "text": [
      "\r",
      " 83%|████████▎ | 834/1001 [01:05<00:12, 13.00it/s]"
     ]
    },
    {
     "name": "stdout",
     "output_type": "stream",
     "text": [
      "shape  (58648, 3)\n",
      "shape  (58648, 3)\n",
      "shape  (58648, 3)\n",
      "shape  (58648, 3)\n",
      "shape  (58648, 3)\n",
      "shape  (58648, 3)\n"
     ]
    },
    {
     "name": "stderr",
     "output_type": "stream",
     "text": [
      " 84%|████████▎ | 838/1001 [01:05<00:12, 13.09it/s]"
     ]
    },
    {
     "name": "stdout",
     "output_type": "stream",
     "text": [
      "shape  (58648, 3)\n",
      "shape  (58648, 3)\n",
      "shape  (58648, 3)\n",
      "shape  (58648, 3)\n",
      "shape  (58648, 3)\n",
      "shape  (58648, 3)\n"
     ]
    },
    {
     "name": "stderr",
     "output_type": "stream",
     "text": [
      "\r",
      " 84%|████████▍ | 840/1001 [01:05<00:12, 12.98it/s]"
     ]
    },
    {
     "name": "stdout",
     "output_type": "stream",
     "text": [
      "shape  (58648, 3)\n",
      "shape  (58648, 3)\n",
      "shape  (58648, 3)\n",
      "shape  (58648, 3)\n",
      "shape  (58648, 3)\n",
      "shape  (58648, 3)\n"
     ]
    },
    {
     "name": "stderr",
     "output_type": "stream",
     "text": [
      " 84%|████████▍ | 844/1001 [01:05<00:12, 12.92it/s]"
     ]
    },
    {
     "name": "stdout",
     "output_type": "stream",
     "text": [
      "shape  (58648, 3)\n",
      "shape  (58648, 3)\n",
      "shape  (58648, 3)\n",
      "shape  (58648, 3)\n",
      "shape  (58648, 3)\n",
      "shape  (58648, 3)\n"
     ]
    },
    {
     "name": "stderr",
     "output_type": "stream",
     "text": [
      "\r",
      " 85%|████████▍ | 846/1001 [01:06<00:11, 12.95it/s]"
     ]
    },
    {
     "name": "stdout",
     "output_type": "stream",
     "text": [
      "shape  (58648, 3)\n",
      "shape  (58648, 3)\n",
      "shape  (58648, 3)\n",
      "shape  (58648, 3)\n",
      "shape  (58648, 3)\n",
      "shape  (58648, 3)\n"
     ]
    },
    {
     "name": "stderr",
     "output_type": "stream",
     "text": [
      " 85%|████████▍ | 850/1001 [01:06<00:11, 13.05it/s]"
     ]
    },
    {
     "name": "stdout",
     "output_type": "stream",
     "text": [
      "shape  (58648, 3)\n",
      "shape  (58648, 3)\n",
      "shape  (58648, 3)\n",
      "shape  (58648, 3)\n",
      "shape  (58648, 3)\n",
      "shape  (58648, 3)\n"
     ]
    },
    {
     "name": "stderr",
     "output_type": "stream",
     "text": [
      "\r",
      " 85%|████████▌ | 852/1001 [01:06<00:11, 13.00it/s]"
     ]
    },
    {
     "name": "stdout",
     "output_type": "stream",
     "text": [
      "shape  (58648, 3)\n",
      "shape  (58648, 3)\n",
      "shape  (58648, 3)\n",
      "shape  (58648, 3)\n",
      "shape  (58648, 3)\n",
      "shape  (58648, 3)\n"
     ]
    },
    {
     "name": "stderr",
     "output_type": "stream",
     "text": [
      " 86%|████████▌ | 856/1001 [01:06<00:11, 13.08it/s]"
     ]
    },
    {
     "name": "stdout",
     "output_type": "stream",
     "text": [
      "shape  (58648, 3)\n",
      "shape  (58648, 3)\n",
      "shape  (58648, 3)\n",
      "shape  (58648, 3)\n",
      "shape  (58648, 3)\n",
      "shape  (58648, 3)\n"
     ]
    },
    {
     "name": "stderr",
     "output_type": "stream",
     "text": [
      "\r",
      " 86%|████████▌ | 858/1001 [01:06<00:10, 13.07it/s]"
     ]
    },
    {
     "name": "stdout",
     "output_type": "stream",
     "text": [
      "shape  (58648, 3)\n",
      "shape  (58648, 3)\n",
      "shape  (58648, 3)\n",
      "shape  (58648, 3)\n",
      "shape  (58648, 3)\n",
      "shape  (58648, 3)\n"
     ]
    },
    {
     "name": "stderr",
     "output_type": "stream",
     "text": [
      " 86%|████████▌ | 862/1001 [01:07<00:10, 13.11it/s]"
     ]
    },
    {
     "name": "stdout",
     "output_type": "stream",
     "text": [
      "shape  (58648, 3)\n",
      "shape  (58648, 3)\n",
      "shape  (58648, 3)\n",
      "shape  (58648, 3)\n",
      "shape  (58648, 3)\n",
      "shape  (58648, 3)\n"
     ]
    },
    {
     "name": "stderr",
     "output_type": "stream",
     "text": [
      "\r",
      " 86%|████████▋ | 864/1001 [01:07<00:10, 13.06it/s]"
     ]
    },
    {
     "name": "stdout",
     "output_type": "stream",
     "text": [
      "shape  (58648, 3)\n",
      "shape  (58648, 3)\n",
      "shape  (58648, 3)\n",
      "shape  (58648, 3)\n",
      "shape  (58648, 3)\n",
      "shape  (58648, 3)\n"
     ]
    },
    {
     "name": "stderr",
     "output_type": "stream",
     "text": [
      " 87%|████████▋ | 868/1001 [01:07<00:10, 13.12it/s]"
     ]
    },
    {
     "name": "stdout",
     "output_type": "stream",
     "text": [
      "shape  (58648, 3)\n",
      "shape  (58648, 3)\n",
      "shape  (58648, 3)\n",
      "shape  (58648, 3)\n",
      "shape  (58648, 3)\n",
      "shape  (58648, 3)\n"
     ]
    },
    {
     "name": "stderr",
     "output_type": "stream",
     "text": [
      "\r",
      " 87%|████████▋ | 870/1001 [01:07<00:10, 13.06it/s]"
     ]
    },
    {
     "name": "stdout",
     "output_type": "stream",
     "text": [
      "shape  (58648, 3)\n",
      "shape  (58648, 3)\n",
      "shape  (58648, 3)\n",
      "shape  (58648, 3)\n",
      "shape  (58648, 3)\n",
      "shape  (58648, 3)\n"
     ]
    },
    {
     "name": "stderr",
     "output_type": "stream",
     "text": [
      " 87%|████████▋ | 874/1001 [01:08<00:09, 13.09it/s]"
     ]
    },
    {
     "name": "stdout",
     "output_type": "stream",
     "text": [
      "shape  (58648, 3)\n",
      "shape  (58648, 3)\n",
      "shape  (58648, 3)\n",
      "shape  (58648, 3)\n",
      "shape  (58648, 3)\n",
      "shape  (58648, 3)\n"
     ]
    },
    {
     "name": "stderr",
     "output_type": "stream",
     "text": [
      "\r",
      " 88%|████████▊ | 876/1001 [01:08<00:09, 12.93it/s]"
     ]
    },
    {
     "name": "stdout",
     "output_type": "stream",
     "text": [
      "shape  (58648, 3)\n",
      "shape  (58648, 3)\n",
      "shape  (58648, 3)\n",
      "shape  (58648, 3)\n",
      "shape  (58648, 3)\n",
      "shape  (58648, 3)\n"
     ]
    },
    {
     "name": "stderr",
     "output_type": "stream",
     "text": [
      " 88%|████████▊ | 880/1001 [01:08<00:09, 12.98it/s]"
     ]
    },
    {
     "name": "stdout",
     "output_type": "stream",
     "text": [
      "shape  (58648, 3)\n",
      "shape  (58648, 3)\n",
      "shape  (58648, 3)\n",
      "shape  (58648, 3)\n",
      "shape  (58648, 3)\n",
      "shape  (58648, 3)\n"
     ]
    },
    {
     "name": "stderr",
     "output_type": "stream",
     "text": [
      "\r",
      " 88%|████████▊ | 882/1001 [01:08<00:09, 13.03it/s]"
     ]
    },
    {
     "name": "stdout",
     "output_type": "stream",
     "text": [
      "shape  (58648, 3)\n",
      "shape  (58648, 3)\n",
      "shape  (58648, 3)\n",
      "shape  (58648, 3)\n",
      "shape  (58648, 3)\n",
      "shape  (58648, 3)\n"
     ]
    },
    {
     "name": "stderr",
     "output_type": "stream",
     "text": [
      " 89%|████████▊ | 886/1001 [01:09<00:08, 12.99it/s]"
     ]
    },
    {
     "name": "stdout",
     "output_type": "stream",
     "text": [
      "shape  (58648, 3)\n",
      "shape  (58648, 3)\n",
      "shape  (58648, 3)\n",
      "shape  (58648, 3)\n",
      "shape  (58648, 3)\n",
      "shape  (58648, 3)\n"
     ]
    },
    {
     "name": "stderr",
     "output_type": "stream",
     "text": [
      "\r",
      " 89%|████████▊ | 888/1001 [01:09<00:08, 13.01it/s]"
     ]
    },
    {
     "name": "stdout",
     "output_type": "stream",
     "text": [
      "shape  (58648, 3)\n",
      "shape  (58648, 3)\n",
      "shape  (58648, 3)\n",
      "shape  (58648, 3)\n",
      "shape  (58648, 3)\n",
      "shape  (58648, 3)\n"
     ]
    },
    {
     "name": "stderr",
     "output_type": "stream",
     "text": [
      " 89%|████████▉ | 892/1001 [01:09<00:08, 13.00it/s]"
     ]
    },
    {
     "name": "stdout",
     "output_type": "stream",
     "text": [
      "shape  (58648, 3)\n",
      "shape  (58648, 3)\n",
      "shape  (58648, 3)\n",
      "shape  (58648, 3)\n",
      "shape  (58648, 3)\n",
      "shape  (58648, 3)\n"
     ]
    },
    {
     "name": "stderr",
     "output_type": "stream",
     "text": [
      "\r",
      " 89%|████████▉ | 894/1001 [01:09<00:08, 13.04it/s]"
     ]
    },
    {
     "name": "stdout",
     "output_type": "stream",
     "text": [
      "shape  (58648, 3)\n",
      "shape  (58648, 3)\n",
      "shape  (58648, 3)\n",
      "shape  (58648, 3)\n",
      "shape  (58648, 3)\n",
      "shape  (58648, 3)\n"
     ]
    },
    {
     "name": "stderr",
     "output_type": "stream",
     "text": [
      " 90%|████████▉ | 898/1001 [01:10<00:07, 13.00it/s]"
     ]
    },
    {
     "name": "stdout",
     "output_type": "stream",
     "text": [
      "shape  (58648, 3)\n",
      "shape  (58648, 3)\n",
      "shape  (58648, 3)\n",
      "shape  (58648, 3)\n",
      "shape  (58648, 3)\n",
      "shape  (58648, 3)\n"
     ]
    },
    {
     "name": "stderr",
     "output_type": "stream",
     "text": [
      "\r",
      " 90%|████████▉ | 900/1001 [01:10<00:07, 13.02it/s]"
     ]
    },
    {
     "name": "stdout",
     "output_type": "stream",
     "text": [
      "shape  (58648, 3)\n",
      "shape  (58648, 3)\n",
      "shape  (58648, 3)\n",
      "shape  (58648, 3)\n",
      "shape  (58648, 3)\n",
      "shape  (58648, 3)\n"
     ]
    },
    {
     "name": "stderr",
     "output_type": "stream",
     "text": [
      " 90%|█████████ | 904/1001 [01:10<00:07, 13.02it/s]"
     ]
    },
    {
     "name": "stdout",
     "output_type": "stream",
     "text": [
      "shape  (58648, 3)\n",
      "shape  (58648, 3)\n",
      "shape  (58648, 3)\n",
      "shape  (58648, 3)\n",
      "shape  (58648, 3)\n",
      "shape  (58648, 3)\n"
     ]
    },
    {
     "name": "stderr",
     "output_type": "stream",
     "text": [
      "\r",
      " 91%|█████████ | 906/1001 [01:10<00:07, 12.82it/s]"
     ]
    },
    {
     "name": "stdout",
     "output_type": "stream",
     "text": [
      "shape  (58648, 3)\n",
      "shape  (58648, 3)\n",
      "shape  (58648, 3)\n",
      "shape  (58648, 3)\n",
      "shape  (58648, 3)\n",
      "shape  (58648, 3)\n"
     ]
    },
    {
     "name": "stderr",
     "output_type": "stream",
     "text": [
      " 91%|█████████ | 910/1001 [01:10<00:07, 12.93it/s]"
     ]
    },
    {
     "name": "stdout",
     "output_type": "stream",
     "text": [
      "shape  (58648, 3)\n",
      "shape  (58648, 3)\n",
      "shape  (58648, 3)\n",
      "shape  (58648, 3)\n",
      "shape  (58648, 3)\n",
      "shape  (58648, 3)\n"
     ]
    },
    {
     "name": "stderr",
     "output_type": "stream",
     "text": [
      "\r",
      " 91%|█████████ | 912/1001 [01:11<00:06, 12.95it/s]"
     ]
    },
    {
     "name": "stdout",
     "output_type": "stream",
     "text": [
      "shape  (58648, 3)\n",
      "shape  (58648, 3)\n",
      "shape  (58648, 3)\n",
      "shape  (58648, 3)\n",
      "shape  (58648, 3)\n",
      "shape  (58648, 3)\n"
     ]
    },
    {
     "name": "stderr",
     "output_type": "stream",
     "text": [
      " 92%|█████████▏| 916/1001 [01:11<00:06, 12.96it/s]"
     ]
    },
    {
     "name": "stdout",
     "output_type": "stream",
     "text": [
      "shape  (58648, 3)\n",
      "shape  (58648, 3)\n",
      "shape  (58648, 3)\n",
      "shape  (58648, 3)\n",
      "shape  (58648, 3)\n",
      "shape  (58648, 3)\n"
     ]
    },
    {
     "name": "stderr",
     "output_type": "stream",
     "text": [
      "\r",
      " 92%|█████████▏| 918/1001 [01:11<00:06, 13.00it/s]"
     ]
    },
    {
     "name": "stdout",
     "output_type": "stream",
     "text": [
      "shape  (58648, 3)\n",
      "shape  (58648, 3)\n",
      "shape  (58648, 3)\n",
      "shape  (58648, 3)\n",
      "shape  (58648, 3)\n",
      "shape  (58648, 3)\n"
     ]
    },
    {
     "name": "stderr",
     "output_type": "stream",
     "text": [
      " 92%|█████████▏| 922/1001 [01:11<00:06, 13.03it/s]"
     ]
    },
    {
     "name": "stdout",
     "output_type": "stream",
     "text": [
      "shape  (58648, 3)\n",
      "shape  (58648, 3)\n",
      "shape  (58648, 3)\n",
      "shape  (58648, 3)\n",
      "shape  (58648, 3)\n",
      "shape  (58648, 3)\n"
     ]
    },
    {
     "name": "stderr",
     "output_type": "stream",
     "text": [
      "\r",
      " 92%|█████████▏| 924/1001 [01:12<00:05, 13.04it/s]"
     ]
    },
    {
     "name": "stdout",
     "output_type": "stream",
     "text": [
      "shape  (58648, 3)\n",
      "shape  (58648, 3)\n",
      "shape  (58648, 3)\n",
      "shape  (58648, 3)\n",
      "shape  (58648, 3)\n",
      "shape  (58648, 3)\n"
     ]
    },
    {
     "name": "stderr",
     "output_type": "stream",
     "text": [
      " 93%|█████████▎| 928/1001 [01:12<00:05, 13.05it/s]"
     ]
    },
    {
     "name": "stdout",
     "output_type": "stream",
     "text": [
      "shape  (58648, 3)\n",
      "shape  (58648, 3)\n",
      "shape  (58648, 3)\n",
      "shape  (58648, 3)\n",
      "shape  (58648, 3)\n",
      "shape  (58648, 3)\n"
     ]
    },
    {
     "name": "stderr",
     "output_type": "stream",
     "text": [
      "\r",
      " 93%|█████████▎| 930/1001 [01:12<00:05, 13.08it/s]"
     ]
    },
    {
     "name": "stdout",
     "output_type": "stream",
     "text": [
      "shape  (58648, 3)\n",
      "shape  (58648, 3)\n",
      "shape  (58648, 3)\n",
      "shape  (58648, 3)\n",
      "shape  (58648, 3)\n",
      "shape  (58648, 3)\n"
     ]
    },
    {
     "name": "stderr",
     "output_type": "stream",
     "text": [
      " 93%|█████████▎| 934/1001 [01:12<00:05, 13.00it/s]"
     ]
    },
    {
     "name": "stdout",
     "output_type": "stream",
     "text": [
      "shape  (58648, 3)\n",
      "shape  (58648, 3)\n",
      "shape  (58648, 3)\n",
      "shape  (58648, 3)\n",
      "shape  (58648, 3)\n",
      "shape  (58648, 3)\n"
     ]
    },
    {
     "name": "stderr",
     "output_type": "stream",
     "text": [
      "\r",
      " 94%|█████████▎| 936/1001 [01:12<00:04, 13.05it/s]"
     ]
    },
    {
     "name": "stdout",
     "output_type": "stream",
     "text": [
      "shape  (58648, 3)\n",
      "shape  (58648, 3)\n",
      "shape  (58648, 3)\n",
      "shape  (58648, 3)\n",
      "shape  (58648, 3)\n",
      "shape  (58648, 3)\n"
     ]
    },
    {
     "name": "stderr",
     "output_type": "stream",
     "text": [
      " 94%|█████████▍| 940/1001 [01:13<00:04, 12.97it/s]"
     ]
    },
    {
     "name": "stdout",
     "output_type": "stream",
     "text": [
      "shape  (58648, 3)\n",
      "shape  (58648, 3)\n",
      "shape  (58648, 3)\n",
      "shape  (58648, 3)\n",
      "shape  (58648, 3)\n",
      "shape  (58648, 3)\n"
     ]
    },
    {
     "name": "stderr",
     "output_type": "stream",
     "text": [
      "\r",
      " 94%|█████████▍| 942/1001 [01:13<00:04, 12.89it/s]"
     ]
    },
    {
     "name": "stdout",
     "output_type": "stream",
     "text": [
      "shape  (58648, 3)\n",
      "shape  (58648, 3)\n",
      "shape  (58648, 3)\n",
      "shape  (58648, 3)\n",
      "shape  (58648, 3)\n",
      "shape  (58648, 3)\n"
     ]
    },
    {
     "name": "stderr",
     "output_type": "stream",
     "text": [
      " 95%|█████████▍| 946/1001 [01:13<00:04, 13.01it/s]"
     ]
    },
    {
     "name": "stdout",
     "output_type": "stream",
     "text": [
      "shape  (58648, 3)\n",
      "shape  (58648, 3)\n",
      "shape  (58648, 3)\n",
      "shape  (58648, 3)\n",
      "shape  (58648, 3)\n",
      "shape  (58648, 3)\n"
     ]
    },
    {
     "name": "stderr",
     "output_type": "stream",
     "text": [
      "\r",
      " 95%|█████████▍| 948/1001 [01:13<00:04, 12.95it/s]"
     ]
    },
    {
     "name": "stdout",
     "output_type": "stream",
     "text": [
      "shape  (58648, 3)\n",
      "shape  (58648, 3)\n",
      "shape  (58648, 3)\n",
      "shape  (58648, 3)\n",
      "shape  (58648, 3)\n",
      "shape  (58648, 3)\n"
     ]
    },
    {
     "name": "stderr",
     "output_type": "stream",
     "text": [
      " 95%|█████████▌| 952/1001 [01:14<00:03, 13.07it/s]"
     ]
    },
    {
     "name": "stdout",
     "output_type": "stream",
     "text": [
      "shape  (58648, 3)\n",
      "shape  (58648, 3)\n",
      "shape  (58648, 3)\n",
      "shape  (58648, 3)\n",
      "shape  (58648, 3)\n",
      "shape  (58648, 3)\n"
     ]
    },
    {
     "name": "stderr",
     "output_type": "stream",
     "text": [
      "\r",
      " 95%|█████████▌| 954/1001 [01:14<00:03, 12.99it/s]"
     ]
    },
    {
     "name": "stdout",
     "output_type": "stream",
     "text": [
      "shape  (58648, 3)\n",
      "shape  (58648, 3)\n",
      "shape  (58648, 3)\n",
      "shape  (58648, 3)\n",
      "shape  (58648, 3)\n",
      "shape  (58648, 3)\n"
     ]
    },
    {
     "name": "stderr",
     "output_type": "stream",
     "text": [
      " 96%|█████████▌| 958/1001 [01:14<00:03, 13.07it/s]"
     ]
    },
    {
     "name": "stdout",
     "output_type": "stream",
     "text": [
      "shape  (58648, 3)\n",
      "shape  (58648, 3)\n",
      "shape  (58648, 3)\n",
      "shape  (58648, 3)\n",
      "shape  (58648, 3)\n",
      "shape  (58648, 3)\n"
     ]
    },
    {
     "name": "stderr",
     "output_type": "stream",
     "text": [
      "\r",
      " 96%|█████████▌| 960/1001 [01:14<00:03, 13.03it/s]"
     ]
    },
    {
     "name": "stdout",
     "output_type": "stream",
     "text": [
      "shape  (58648, 3)\n",
      "shape  (58648, 3)\n",
      "shape  (58648, 3)\n",
      "shape  (58648, 3)\n",
      "shape  (58648, 3)\n",
      "shape  (58648, 3)\n"
     ]
    },
    {
     "name": "stderr",
     "output_type": "stream",
     "text": [
      " 96%|█████████▋| 964/1001 [01:15<00:02, 12.92it/s]"
     ]
    },
    {
     "name": "stdout",
     "output_type": "stream",
     "text": [
      "shape  (58648, 3)\n",
      "shape  (58648, 3)\n",
      "shape  (58648, 3)\n",
      "shape  (58648, 3)\n",
      "shape  (58648, 3)\n",
      "shape  (58648, 3)\n"
     ]
    },
    {
     "name": "stderr",
     "output_type": "stream",
     "text": [
      "\r",
      " 97%|█████████▋| 966/1001 [01:15<00:02, 12.89it/s]"
     ]
    },
    {
     "name": "stdout",
     "output_type": "stream",
     "text": [
      "shape  (58648, 3)\n",
      "shape  (58648, 3)\n",
      "shape  (58648, 3)\n",
      "shape  (58648, 3)\n",
      "shape  (58648, 3)\n",
      "shape  (58648, 3)\n"
     ]
    },
    {
     "name": "stderr",
     "output_type": "stream",
     "text": [
      " 97%|█████████▋| 970/1001 [01:15<00:02, 12.88it/s]"
     ]
    },
    {
     "name": "stdout",
     "output_type": "stream",
     "text": [
      "shape  (58648, 3)\n",
      "shape  (58648, 3)\n",
      "shape  (58648, 3)\n",
      "shape  (58648, 3)\n",
      "shape  (58648, 3)\n",
      "shape  (58648, 3)\n"
     ]
    },
    {
     "name": "stderr",
     "output_type": "stream",
     "text": [
      "\r",
      " 97%|█████████▋| 972/1001 [01:15<00:02, 12.82it/s]"
     ]
    },
    {
     "name": "stdout",
     "output_type": "stream",
     "text": [
      "shape  (58648, 3)\n",
      "shape  (58648, 3)\n",
      "shape  (58648, 3)\n",
      "shape  (58648, 3)\n",
      "shape  (58648, 3)\n",
      "shape  (58648, 3)\n"
     ]
    },
    {
     "name": "stderr",
     "output_type": "stream",
     "text": [
      " 98%|█████████▊| 976/1001 [01:16<00:01, 13.00it/s]"
     ]
    },
    {
     "name": "stdout",
     "output_type": "stream",
     "text": [
      "shape  (58648, 3)\n",
      "shape  (58648, 3)\n",
      "shape  (58648, 3)\n",
      "shape  (58648, 3)\n",
      "shape  (58648, 3)\n",
      "shape  (58648, 3)\n"
     ]
    },
    {
     "name": "stderr",
     "output_type": "stream",
     "text": [
      "\r",
      " 98%|█████████▊| 978/1001 [01:16<00:01, 12.93it/s]"
     ]
    },
    {
     "name": "stdout",
     "output_type": "stream",
     "text": [
      "shape  (58648, 3)\n",
      "shape  (58648, 3)\n",
      "shape  (58648, 3)\n",
      "shape  (58648, 3)\n",
      "shape  (58648, 3)\n",
      "shape  (58648, 3)\n"
     ]
    },
    {
     "name": "stderr",
     "output_type": "stream",
     "text": [
      " 98%|█████████▊| 982/1001 [01:16<00:01, 13.07it/s]"
     ]
    },
    {
     "name": "stdout",
     "output_type": "stream",
     "text": [
      "shape  (58648, 3)\n",
      "shape  (58648, 3)\n",
      "shape  (58648, 3)\n",
      "shape  (58648, 3)\n",
      "shape  (58648, 3)\n",
      "shape  (58648, 3)\n"
     ]
    },
    {
     "name": "stderr",
     "output_type": "stream",
     "text": [
      "\r",
      " 98%|█████████▊| 984/1001 [01:16<00:01, 12.99it/s]"
     ]
    },
    {
     "name": "stdout",
     "output_type": "stream",
     "text": [
      "shape  (58648, 3)\n",
      "shape  (58648, 3)\n",
      "shape  (58648, 3)\n",
      "shape  (58648, 3)\n",
      "shape  (58648, 3)\n",
      "shape  (58648, 3)\n"
     ]
    },
    {
     "name": "stderr",
     "output_type": "stream",
     "text": [
      " 99%|█████████▊| 988/1001 [01:16<00:00, 13.00it/s]"
     ]
    },
    {
     "name": "stdout",
     "output_type": "stream",
     "text": [
      "shape  (58648, 3)\n",
      "shape  (58648, 3)\n",
      "shape  (58648, 3)\n",
      "shape  (58648, 3)\n",
      "shape  (58648, 3)\n",
      "shape  (58648, 3)\n"
     ]
    },
    {
     "name": "stderr",
     "output_type": "stream",
     "text": [
      "\r",
      " 99%|█████████▉| 990/1001 [01:17<00:00, 12.87it/s]"
     ]
    },
    {
     "name": "stdout",
     "output_type": "stream",
     "text": [
      "shape  (58648, 3)\n",
      "shape  (58648, 3)\n",
      "shape  (58648, 3)\n",
      "shape  (58648, 3)\n",
      "shape  (58648, 3)\n",
      "shape  (58648, 3)\n"
     ]
    },
    {
     "name": "stderr",
     "output_type": "stream",
     "text": [
      " 99%|█████████▉| 994/1001 [01:17<00:00, 12.95it/s]"
     ]
    },
    {
     "name": "stdout",
     "output_type": "stream",
     "text": [
      "shape  (58648, 3)\n",
      "shape  (58648, 3)\n",
      "shape  (58648, 3)\n",
      "shape  (58648, 3)\n",
      "shape  (58648, 3)\n",
      "shape  (58648, 3)\n"
     ]
    },
    {
     "name": "stderr",
     "output_type": "stream",
     "text": [
      "\r",
      "100%|█████████▉| 996/1001 [01:17<00:00, 12.82it/s]"
     ]
    },
    {
     "name": "stdout",
     "output_type": "stream",
     "text": [
      "shape  (58648, 3)\n",
      "shape  (58648, 3)\n",
      "shape  (58648, 3)\n",
      "shape  (58648, 3)\n",
      "shape  (58648, 3)\n",
      "shape  (58648, 3)\n"
     ]
    },
    {
     "name": "stderr",
     "output_type": "stream",
     "text": [
      "100%|█████████▉| 1000/1001 [01:17<00:00, 12.89it/s]"
     ]
    },
    {
     "name": "stdout",
     "output_type": "stream",
     "text": [
      "shape  (58648, 3)\n",
      "shape  (58648, 3)\n",
      "shape  (58648, 3)\n",
      "shape  (58648, 3)\n",
      "shape  (58648, 3)\n",
      "shape  (58648, 3)\n"
     ]
    },
    {
     "name": "stderr",
     "output_type": "stream",
     "text": [
      "100%|██████████| 1001/1001 [01:17<00:00, 12.84it/s]\n"
     ]
    }
   ],
   "source": [
    "dihedrals, n_iter, all_pos_hybrid = get_dihedrals(i, name, length, outdir, htf, indices_new, indices_old)\n"
   ]
  },
  {
   "cell_type": "code",
   "execution_count": 8,
   "metadata": {},
   "outputs": [],
   "source": [
    "# Plot \n",
    "dihedrals_new = dihedrals[0]\n",
    "dihedrals_old = dihedrals[1]\n"
   ]
  },
  {
   "cell_type": "code",
   "execution_count": 12,
   "metadata": {},
   "outputs": [
    {
     "data": {
      "image/png": "[encoded data removed]",
      "text/plain": [
       "<Figure size 432x288 with 1 Axes>"
      ]
     },
     "metadata": {
      "needs_background": "light"
     },
     "output_type": "display_data"
    }
   ],
   "source": [
    "plot_dihedrals(dihedrals_old, os.path.join(outdir, f\"{i}_{phase}_{name.lower()}_{length}ns_{old_aa_name.lower()}_correlated.png\"))\n"
   ]
  },
  {
   "cell_type": "code",
   "execution_count": 13,
   "metadata": {},
   "outputs": [
    {
     "data": {
      "image/png": "[encoded data removed]",
      "text/plain": [
       "<Figure size 432x288 with 1 Axes>"
      ]
     },
     "metadata": {
      "needs_background": "light"
     },
     "output_type": "display_data"
    }
   ],
   "source": [
    "plot_time_series(dihedrals_old, n_iter, os.path.join(outdir, f\"{i}_{phase}_{name.lower()}_{length}ns_{old_aa_name.lower()}_timeseries.png\"))\n"
   ]
  },
  {
   "cell_type": "code",
   "execution_count": 14,
   "metadata": {},
   "outputs": [
    {
     "data": {
      "image/png": "[encoded data removed]",
      "text/plain": [
       "<Figure size 432x288 with 1 Axes>"
      ]
     },
     "metadata": {
      "needs_background": "light"
     },
     "output_type": "display_data"
    }
   ],
   "source": [
    "plot_dihedrals(dihedrals_new, os.path.join(outdir, f\"{i}_{phase}_{name.lower()}_{length}ns_{new_aa_name.lower()}_correlated.png\"))\n"
   ]
  },
  {
   "cell_type": "code",
   "execution_count": 15,
   "metadata": {},
   "outputs": [
    {
     "data": {
      "image/png": "[encoded data removed]",
      "text/plain": [
       "<Figure size 432x288 with 1 Axes>"
      ]
     },
     "metadata": {
      "needs_background": "light"
     },
     "output_type": "display_data"
    }
   ],
   "source": [
    "plot_time_series(dihedrals_new, n_iter, os.path.join(outdir, f\"{i}_{phase}_{name.lower()}_{length}ns_{new_aa_name.lower()}_timeseries.png\"))\n"
   ]
  },
  {
   "cell_type": "code",
   "execution_count": 19,
   "metadata": {},
   "outputs": [
    {
     "data": {
      "text/plain": [
       "(100, 58648, 3)"
      ]
     },
     "execution_count": 19,
     "metadata": {},
     "output_type": "execute_result"
    }
   ],
   "source": [
    "all_pos_hybrid[1::10].shape"
   ]
  },
  {
   "cell_type": "code",
   "execution_count": 25,
   "metadata": {},
   "outputs": [],
   "source": [
    "x = list(range(21))"
   ]
  },
  {
   "cell_type": "code",
   "execution_count": 26,
   "metadata": {},
   "outputs": [
    {
     "data": {
      "text/plain": [
       "[0, 1, 2, 3, 4, 5, 6, 7, 8, 9, 10, 11, 12, 13, 14, 15, 16, 17, 18, 19, 20]"
      ]
     },
     "execution_count": 26,
     "metadata": {},
     "output_type": "execute_result"
    }
   ],
   "source": [
    "x"
   ]
  },
  {
   "cell_type": "code",
   "execution_count": 28,
   "metadata": {},
   "outputs": [
    {
     "data": {
      "text/plain": [
       "[1, 11]"
      ]
     },
     "execution_count": 28,
     "metadata": {},
     "output_type": "execute_result"
    }
   ],
   "source": [
    "x[1::10]"
   ]
  },
  {
   "cell_type": "markdown",
   "metadata": {},
   "source": [
    "## N501Y 14/22 apo at lambda = 1 (TYR)"
   ]
  },
  {
   "cell_type": "markdown",
   "metadata": {},
   "source": [
    "This one is only loading as 3 iterations..?"
   ]
  },
  {
   "cell_type": "code",
   "execution_count": 29,
   "metadata": {},
   "outputs": [],
   "source": [
    "outdir = \"/data/chodera/zhangi/perses_benchmark/neq/14/22/\"\n",
    "endstate = 1\n",
    "phase = \"apo\"\n",
    "length = 1\n",
    "i = 22\n",
    "old_aa_name = 'ASN'\n",
    "new_aa_name = 'TYR'\n",
    "resid = '501'\n",
    "name = 'tyr'"
   ]
  },
  {
   "cell_type": "code",
   "execution_count": 30,
   "metadata": {},
   "outputs": [],
   "source": [
    "with open(os.path.join(outdir, f\"{i}_{phase}_{endstate}.pickle\"), 'rb') as f:\n",
    "    htf = pickle.load(f)\n"
   ]
  },
  {
   "cell_type": "code",
   "execution_count": 31,
   "metadata": {
    "scrolled": true
   },
   "outputs": [
    {
     "name": "stderr",
     "output_type": "stream",
     "text": [
      "INFO:root:old indices: [2605, 2607, 2609, 2612]\n",
      "INFO:root:new indices: [2605, 2607, 2609, 2612]\n"
     ]
    }
   ],
   "source": [
    "thr_dihedral = ['N', 'CA', 'CB', 'OG1']\n",
    "other_dihedral = ['N', 'CA', 'CB', 'CG']\n",
    "ala_dihedral = ['N', 'CA', 'CB', 'HB1']\n",
    "asp_dihedral = ['CA', 'CB', 'CG', 'OD2']\n",
    "ile_dihedral = ['N', 'CA', 'CB', 'CG2']\n",
    "\n",
    "dihedral_atoms = []\n",
    "for aa_name in [old_aa_name, new_aa_name]:\n",
    "    if aa_name in [\"PHE\", \"TYR\", \"TRP\", \"GLU\", \"LYS\", \"ARG\", \"GLN\", \"ASN\"]:\n",
    "        dihedral_atoms.append(other_dihedral)\n",
    "    elif aa_name == \"THR\":\n",
    "        dihedral_atoms.append(thr_dihedral)\n",
    "    elif aa_name == \"ALA\":\n",
    "        dihedral_atoms.append(ala_dihedral)\n",
    "    elif aa_name == 'ASP':\n",
    "        dihedral_atoms.append(asp_dihedral)\n",
    "    elif aa_name == 'ILE':\n",
    "        dihedral_atoms.append(ile_dihedral)\n",
    "        \n",
    "\n",
    "for res in htf._topology_proposal.old_topology.residues():\n",
    "    if res.id == resid and res.chain.index == 0:\n",
    "        residue_old = res\n",
    "for res in htf._topology_proposal.new_topology.residues():\n",
    "    if res.id == resid and res.chain.index == 0:\n",
    "        residue_new = res\n",
    "# indices_old = [atom.index for atom in list(htf._topology_proposal.old_topology.residues())[int(args.resid)].atoms() if atom.name in dihedral_atoms[0]]\n",
    "# indices_new = [atom.index for atom in list(htf._topology_proposal.new_topology.residues())[int(args.resid)].atoms() if atom.name in dihedral_atoms[1]]\n",
    "indices_old = [atom.index for atom in residue_old.atoms() if atom.name in dihedral_atoms[0]]\n",
    "indices_new = [atom.index for atom in residue_new.atoms() if atom.name in dihedral_atoms[1]]\n",
    "_logger.info(f\"old indices: {indices_old}\")\n",
    "_logger.info(f\"new indices: {indices_new}\")\n",
    "\n"
   ]
  },
  {
   "cell_type": "code",
   "execution_count": 32,
   "metadata": {
    "scrolled": true
   },
   "outputs": [
    {
     "name": "stderr",
     "output_type": "stream",
     "text": [
      " 67%|██████▋   | 2/3 [00:00<00:00, 13.57it/s]"
     ]
    },
    {
     "name": "stdout",
     "output_type": "stream",
     "text": [
      "shape  (58648, 3)\n",
      "shape  (58648, 3)\n",
      "shape  (58648, 3)\n",
      "shape  (58648, 3)\n",
      "shape  (58648, 3)\n",
      "shape  (58648, 3)\n"
     ]
    },
    {
     "name": "stderr",
     "output_type": "stream",
     "text": [
      "100%|██████████| 3/3 [00:00<00:00, 13.17it/s]\n"
     ]
    }
   ],
   "source": [
    "dihedrals, n_iter, all_pos_hybrid = get_dihedrals(i, name, length, outdir, htf, indices_new, indices_old)\n"
   ]
  },
  {
   "cell_type": "code",
   "execution_count": 34,
   "metadata": {},
   "outputs": [],
   "source": [
    "from perses.analysis.utils import open_netcdf\n",
    "nc = open_netcdf(os.path.join(outdir, f\"{i}_{phase}_{name.lower()}_{length}ns.nc\"))\n",
    "nc_checkpoint = open_netcdf(os.path.join(outdir, f\"{i}_{phase}_{name.lower()}_{length}ns_checkpoint.nc\"))\n",
    "checkpoint_interval = nc_checkpoint.CheckpointInterval\n",
    "all_positions = nc_checkpoint.variables['positions']\n",
    "n_iter, n_replicas, n_atoms, _ = np.shape(all_positions)"
   ]
  },
  {
   "cell_type": "code",
   "execution_count": 36,
   "metadata": {},
   "outputs": [
    {
     "data": {
      "text/plain": [
       "(3, 1, 58648, 3)"
      ]
     },
     "execution_count": 36,
     "metadata": {},
     "output_type": "execute_result"
    }
   ],
   "source": [
    "all_positions.shape"
   ]
  },
  {
   "cell_type": "code",
   "execution_count": 39,
   "metadata": {},
   "outputs": [
    {
     "data": {
      "text/plain": [
       "{'last_iteration': <class 'netCDF4._netCDF4.Variable'>\n",
       " int64 last_iteration(scalar)\n",
       " unlimited dimensions: \n",
       " current shape = (1,)\n",
       " filling on, default _FillValue of -9223372036854775806 used,\n",
       " 'analysis_particle_indices': <class 'netCDF4._netCDF4.Variable'>\n",
       " int64 analysis_particle_indices(analysis_particles)\n",
       "     long_name: analysis_particle_indices[analysis_particles] is the indices of the particles with extra information stored about them in theanalysis file.\n",
       " unlimited dimensions: analysis_particles\n",
       " current shape = (0,)\n",
       " filling on, default _FillValue of -9223372036854775806 used,\n",
       " 'options': <class 'netCDF4._netCDF4.Variable'>\n",
       " vlen options(scalar)\n",
       " vlen data type: <class 'str'>\n",
       " unlimited dimensions: \n",
       " current shape = (1,),\n",
       " 'metadata': <class 'netCDF4._netCDF4.Variable'>\n",
       " |S1 metadata(fixedL3)\n",
       " unlimited dimensions: \n",
       " current shape = (3,)\n",
       " filling on, default _FillValue of \u0000 used,\n",
       " 'states': <class 'netCDF4._netCDF4.Variable'>\n",
       " int32 states(iteration, replica)\n",
       "     units: none\n",
       "     long_name: states[iteration][replica] is the thermodynamic state index (0..n_states-1) of replica 'replica' of iteration 'iteration'.\n",
       " unlimited dimensions: iteration\n",
       " current shape = (3, 12)\n",
       " filling on, default _FillValue of -2147483647 used,\n",
       " 'energies': <class 'netCDF4._netCDF4.Variable'>\n",
       " float64 energies(iteration, replica, state)\n",
       "     units: kT\n",
       "     long_name: energies[iteration][replica][state] is the reduced (unitless) energy of replica 'replica' from iteration 'iteration' evaluated at the thermodynamic state 'state'.\n",
       " unlimited dimensions: iteration\n",
       " current shape = (3, 12, 12)\n",
       " filling on, default _FillValue of 9.969209968386869e+36 used,\n",
       " 'neighborhoods': <class 'netCDF4._netCDF4.Variable'>\n",
       " int8 neighborhoods(iteration, replica, state)\n",
       "     _FillValue: 1\n",
       "     long_name: neighborhoods[iteration][replica][state] is 1 if this energy was computed during this iteration.\n",
       " unlimited dimensions: iteration\n",
       " current shape = (3, 12, 12)\n",
       " filling on,\n",
       " 'accepted': <class 'netCDF4._netCDF4.Variable'>\n",
       " int32 accepted(iteration, state, state)\n",
       "     units: none\n",
       "     long_name: accepted[iteration][i][j] is the number of proposed transitions between states i and j from iteration 'iteration-1'.\n",
       " unlimited dimensions: iteration\n",
       " current shape = (3, 12, 12)\n",
       " filling on, default _FillValue of -2147483647 used,\n",
       " 'proposed': <class 'netCDF4._netCDF4.Variable'>\n",
       " int32 proposed(iteration, state, state)\n",
       "     units: none\n",
       "     long_name: proposed[iteration][i][j] is the number of proposed transitions between states i and j from iteration 'iteration-1'.\n",
       " unlimited dimensions: iteration\n",
       " current shape = (3, 12, 12)\n",
       " filling on, default _FillValue of -2147483647 used,\n",
       " 'timestamp': <class 'netCDF4._netCDF4.Variable'>\n",
       " vlen timestamp(iteration)\n",
       " vlen data type: <class 'str'>\n",
       " unlimited dimensions: iteration\n",
       " current shape = (3,)}"
      ]
     },
     "execution_count": 39,
     "metadata": {},
     "output_type": "execute_result"
    }
   ],
   "source": [
    "nc.variables"
   ]
  },
  {
   "cell_type": "code",
   "execution_count": null,
   "metadata": {},
   "outputs": [],
   "source": []
  }
 ],
 "metadata": {
  "kernelspec": {
   "display_name": "Python 3",
   "language": "python",
   "name": "python3"
  },
  "language_info": {
   "codemirror_mode": {
    "name": "ipython",
    "version": 3
   },
   "file_extension": ".py",
   "mimetype": "text/x-python",
   "name": "python",
   "nbconvert_exporter": "python",
   "pygments_lexer": "ipython3",
   "version": "3.8.6"
  }
 },
 "nbformat": 4,
 "nbformat_minor": 4
}
