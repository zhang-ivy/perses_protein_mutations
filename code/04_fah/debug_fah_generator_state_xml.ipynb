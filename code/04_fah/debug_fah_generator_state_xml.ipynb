{
 "cells": [
  {
   "cell_type": "code",
   "execution_count": 25,
   "metadata": {},
   "outputs": [],
   "source": [
    "import numpy as np\n",
    "import os\n",
    "import simtk.unit as unit\n",
    "from simtk import openmm\n",
    "import logging\n",
    "from perses.app.setup_relative_calculation import run_setup\n",
    "from tqdm import tqdm\n",
    "_logger = logging.getLogger()\n",
    "_logger.setLevel(logging.INFO)"
   ]
  },
  {
   "cell_type": "code",
   "execution_count": 3,
   "metadata": {},
   "outputs": [],
   "source": [
    "# Read in htf\n",
    "with open(\"/data/chodera/zhangi/perses_benchmark/fah/13413/RUNS/RUN3911/htf.npz\", 'rb') as f:\n",
    "    htf = np.load(f, allow_pickle=True)\n",
    "    htf = htf.get('arr_0')"
   ]
  },
  {
   "cell_type": "code",
   "execution_count": 12,
   "metadata": {},
   "outputs": [],
   "source": [
    "htf = htf.flatten()[0]"
   ]
  },
  {
   "cell_type": "code",
   "execution_count": 5,
   "metadata": {},
   "outputs": [],
   "source": [
    "temperature = 300\n",
    "nequil = 100\n",
    "n_steps_per_iteration = 250\n",
    "platform_name = 'OpenCL'\n",
    "timestep = 2.*unit.femtosecond\n",
    "collision_rate = 90./unit.picosecond"
   ]
  },
  {
   "cell_type": "code",
   "execution_count": 20,
   "metadata": {},
   "outputs": [
    {
     "name": "stderr",
     "output_type": "stream",
     "text": [
      "2020-07-13 16:29:37,509:(13.32s):root:Starting to relax\n"
     ]
    }
   ],
   "source": [
    "from openmmtools.integrators import LangevinIntegrator\n",
    "_logger.info(f'Starting to relax')\n",
    "integrator = LangevinIntegrator(temperature=temperature, timestep=timestep, collision_rate=collision_rate)\n",
    "platform = openmm.Platform.getPlatformByName(platform_name)\n"
   ]
  },
  {
   "cell_type": "code",
   "execution_count": 21,
   "metadata": {},
   "outputs": [],
   "source": [
    "# prepare the plaform\n",
    "if platform_name in ['CUDA', 'OpenCL']:\n",
    "    platform.setPropertyDefaultValue('Precision', 'mixed')\n",
    "if platform_name in ['CUDA']:\n",
    "    platform.setPropertyDefaultValue('DeterministicForces', 'true')\n",
    "context = openmm.Context(htf.hybrid_system, integrator, platform)\n",
    "context.setPeriodicBoxVectors(*htf.hybrid_system.getDefaultPeriodicBoxVectors())\n",
    "context.setPositions(htf.hybrid_positions)\n"
   ]
  },
  {
   "cell_type": "code",
   "execution_count": 22,
   "metadata": {},
   "outputs": [
    {
     "name": "stderr",
     "output_type": "stream",
     "text": [
      "2020-07-13 16:29:53,772:(16.26s):root:Starting to minimise\n"
     ]
    }
   ],
   "source": [
    "_logger.info(f'Starting to minimise')\n",
    "openmm.LocalEnergyMinimizer.minimize(context)\n"
   ]
  },
  {
   "cell_type": "code",
   "execution_count": 27,
   "metadata": {},
   "outputs": [
    {
     "name": "stderr",
     "output_type": "stream",
     "text": [
      "2020-07-13 16:31:11,185:(4.29s):root:set velocities to temperature\n",
      "2020-07-13 16:31:11,208:(0.02s):root:Starting to equilibrate for 50000.0 fs\n",
      "100%|██████████| 100/100 [02:31<00:00,  1.51s/it]\n",
      "2020-07-13 16:33:42,389:(151.18s):root:Relax done\n"
     ]
    }
   ],
   "source": [
    "# Equilibrate\n",
    "_logger.info(f'set velocities to temperature')\n",
    "context.setVelocitiesToTemperature(temperature)\n",
    "_logger.info(f'Starting to equilibrate for {nequil*n_steps_per_iteration*timestep}')\n",
    "for i in tqdm(range(nequil)):\n",
    "    integrator.step(n_steps_per_iteration)\n",
    "context.setVelocitiesToTemperature(temperature)\n",
    "state = context.getState(getEnergy=True, getForces=True, getPositions=True, getVelocities=True, getParameters=True)\n",
    "_logger.info(f'Relax done')\n"
   ]
  },
  {
   "cell_type": "code",
   "execution_count": 28,
   "metadata": {},
   "outputs": [],
   "source": [
    "from perses.utils import data\n",
    "data.serialize(state, f\"state.xml.bz2\")"
   ]
  },
  {
   "cell_type": "code",
   "execution_count": 31,
   "metadata": {},
   "outputs": [],
   "source": [
    "with open('state.xml', 'w') as outfile:\n",
    "    state_xml = XmlSerializer.serialize(state)\n",
    "    outfile.write(state_xml)"
   ]
  },
  {
   "cell_type": "code",
   "execution_count": null,
   "metadata": {},
   "outputs": [],
   "source": [
    "import bz2\n",
    "with bz2.open('state.xml.bz2', 'rb') as outfile:\n",
    "    serialized_thing = XmlSerializer.serialize(item)\n",
    "    outfile.write(serialized_thing.encode())"
   ]
  },
  {
   "cell_type": "code",
   "execution_count": 30,
   "metadata": {},
   "outputs": [
    {
     "ename": "UnicodeDecodeError",
     "evalue": "'utf-8' codec can't decode byte 0xc6 in position 10: invalid continuation byte",
     "output_type": "error",
     "traceback": [
      "\u001b[0;31m----------------------------------------------------------------\u001b[0m",
      "\u001b[0;31mUnicodeDecodeError\u001b[0m             Traceback (most recent call last)",
      "\u001b[0;32m<ipython-input-30-2ce9dfa9e1d3>\u001b[0m in \u001b[0;36m<module>\u001b[0;34m\u001b[0m\n\u001b[1;32m      2\u001b[0m \u001b[0;31m# Load state and set box vectors, positions, and velocities\u001b[0m\u001b[0;34m\u001b[0m\u001b[0;34m\u001b[0m\u001b[0;34m\u001b[0m\u001b[0m\n\u001b[1;32m      3\u001b[0m \u001b[0;32mwith\u001b[0m \u001b[0mopen\u001b[0m\u001b[0;34m(\u001b[0m\u001b[0;34m\"state.xml.bz2\"\u001b[0m\u001b[0;34m,\u001b[0m \u001b[0;34m'rb'\u001b[0m\u001b[0;34m)\u001b[0m \u001b[0;32mas\u001b[0m \u001b[0minfile\u001b[0m\u001b[0;34m:\u001b[0m\u001b[0;34m\u001b[0m\u001b[0;34m\u001b[0m\u001b[0m\n\u001b[0;32m----> 4\u001b[0;31m     \u001b[0mstate\u001b[0m \u001b[0;34m=\u001b[0m \u001b[0mXmlSerializer\u001b[0m\u001b[0;34m.\u001b[0m\u001b[0mdeserialize\u001b[0m\u001b[0;34m(\u001b[0m\u001b[0minfile\u001b[0m\u001b[0;34m.\u001b[0m\u001b[0mread\u001b[0m\u001b[0;34m(\u001b[0m\u001b[0;34m)\u001b[0m\u001b[0;34m.\u001b[0m\u001b[0mdecode\u001b[0m\u001b[0;34m(\u001b[0m\u001b[0;34m)\u001b[0m\u001b[0;34m)\u001b[0m\u001b[0;34m\u001b[0m\u001b[0;34m\u001b[0m\u001b[0m\n\u001b[0m",
      "\u001b[0;31mUnicodeDecodeError\u001b[0m: 'utf-8' codec can't decode byte 0xc6 in position 10: invalid continuation byte"
     ]
    }
   ],
   "source": [
    "from simtk.openmm import XmlSerializer\n",
    "# Load state and set box vectors, positions, and velocities\n",
    "with open(\"state.xml.bz2\", 'rb') as infile:\n",
    "    state = XmlSerializer.deserialize(infile.read().decode())"
   ]
  },
  {
   "cell_type": "code",
   "execution_count": 32,
   "metadata": {},
   "outputs": [],
   "source": [
    "from simtk.openmm import XmlSerializer\n",
    "# Load state and set box vectors, positions, and velocities\n",
    "with open(\"state.xml\", 'r') as infile:\n",
    "    state = XmlSerializer.deserialize(infile.read())"
   ]
  },
  {
   "cell_type": "code",
   "execution_count": 33,
   "metadata": {},
   "outputs": [
    {
     "data": {
      "text/plain": [
       "<simtk.openmm.openmm.State; proxy of <Swig Object of type 'OpenMM::State *' at 0x2adc7a588480> >"
      ]
     },
     "execution_count": 33,
     "metadata": {},
     "output_type": "execute_result"
    }
   ],
   "source": [
    "state"
   ]
  },
  {
   "cell_type": "code",
   "execution_count": null,
   "metadata": {},
   "outputs": [],
   "source": [
    "## NOTE the problem was i wasnt using bz2.open() for state.xml"
   ]
  }
 ],
 "metadata": {
  "kernelspec": {
   "display_name": "Python 3",
   "language": "python",
   "name": "python3"
  },
  "language_info": {
   "codemirror_mode": {
    "name": "ipython",
    "version": 3
   },
   "file_extension": ".py",
   "mimetype": "text/x-python",
   "name": "python",
   "nbconvert_exporter": "python",
   "pygments_lexer": "ipython3",
   "version": "3.7.3"
  }
 },
 "nbformat": 4,
 "nbformat_minor": 4
}
