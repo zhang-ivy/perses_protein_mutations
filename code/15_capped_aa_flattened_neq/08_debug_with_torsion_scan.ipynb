{
 "cells": [
  {
   "cell_type": "markdown",
   "metadata": {},
   "source": [
    "# Run torsion scans"
   ]
  },
  {
   "cell_type": "code",
   "execution_count": 1,
   "metadata": {},
   "outputs": [
    {
     "name": "stderr",
     "output_type": "stream",
     "text": [
      "DEBUG:matplotlib:(private) matplotlib data path: /home/zhangi/miniconda3/envs/perses-sims-oct2020/lib/python3.7/site-packages/matplotlib/mpl-data\n",
      "DEBUG:matplotlib:matplotlib data path: /home/zhangi/miniconda3/envs/perses-sims-oct2020/lib/python3.7/site-packages/matplotlib/mpl-data\n",
      "DEBUG:matplotlib:CONFIGDIR=/home/zhangi/.config/matplotlib\n",
      "DEBUG:matplotlib:matplotlib version 3.3.2\n",
      "DEBUG:matplotlib:interactive is False\n",
      "DEBUG:matplotlib:platform is linux\n",
      "DEBUG:matplotlib:loaded modules: ['sys', 'builtins', '_frozen_importlib', '_imp', '_thread', '_warnings', '_weakref', 'zipimport', '_frozen_importlib_external', '_io', 'marshal', 'posix', 'encodings', 'codecs', '_codecs', 'encodings.aliases', 'encodings.utf_8', '_signal', '__main__', 'encodings.latin_1', 'io', 'abc', '_abc', '_bootlocale', '_locale', 'site', 'os', 'stat', '_stat', '_collections_abc', 'posixpath', 'genericpath', 'os.path', '_sitebuiltins', 'types', 'importlib', 'importlib._bootstrap', 'importlib._bootstrap_external', 'warnings', 'importlib.util', 'importlib.abc', 'importlib.machinery', 'contextlib', 'collections', 'operator', '_operator', 'keyword', 'heapq', '_heapq', 'itertools', 'reprlib', '_collections', 'functools', '_functools', 'mpl_toolkits', 'sphinxcontrib', 'encodings.cp437', 'runpy', 'pkgutil', 'weakref', '_weakrefset', 'ipykernel', 'ipykernel._version', 'ipykernel.connect', '__future__', 'json', 'json.decoder', 're', 'enum', 'sre_compile', '_sre', 'sre_parse', 'sre_constants', 'copyreg', 'json.scanner', '_json', 'json.encoder', 'subprocess', 'time', 'signal', 'errno', '_posixsubprocess', 'select', 'selectors', 'collections.abc', 'math', 'threading', 'traceback', 'linecache', 'tokenize', 'token', 'IPython', 'IPython.core', 'IPython.core.getipython', 'IPython.core.release', 'IPython.core.application', 'atexit', 'copy', 'glob', 'fnmatch', 'logging', 'string', '_string', 'shutil', 'zlib', 'bz2', '_compression', '_bz2', 'lzma', '_lzma', 'pwd', 'grp', 'traitlets', 'traitlets.traitlets', 'ast', '_ast', 'inspect', 'dis', 'opcode', '_opcode', 'traitlets.utils', 'traitlets.utils.getargspec', 'traitlets.utils.importstring', 'traitlets.utils.sentinel', 'traitlets.utils.bunch', 'traitlets.utils.descriptions', 'traitlets.utils.decorators', 'traitlets._version', 'traitlets.config', 'traitlets.config.application', 'pprint', 'traitlets.config.configurable', 'traitlets.config.loader', 'argparse', 'gettext', 'locale', 'ipython_genutils', 'ipython_genutils._version', 'ipython_genutils.path', 'random', 'hashlib', '_hashlib', '_blake2', '_sha3', 'bisect', '_bisect', '_random', 'ipython_genutils.py3compat', 'ipython_genutils.encoding', 'platform', 'ipython_genutils.text', 'textwrap', 'IPython.core.crashhandler', 'IPython.core.ultratb', 'pydoc', 'sysconfig', 'urllib', 'urllib.parse', '_sysconfigdata_m_linux_x86_64-linux-gnu', 'IPython.core.debugger', 'bdb', 'IPython.utils', 'IPython.utils.PyColorize', 'IPython.utils.coloransi', 'IPython.utils.ipstruct', 'IPython.utils.colorable', 'pygments', 'IPython.utils.py3compat', 'IPython.utils.encoding', 'IPython.core.excolors', 'IPython.testing', 'IPython.testing.skipdoctest', 'pdb', 'cmd', 'code', 'codeop', 'IPython.core.display_trap', 'IPython.utils.path', 'IPython.utils.process', 'IPython.utils._process_posix', 'pexpect', 'pexpect.exceptions', 'pexpect.utils', 'pexpect.expect', 'pexpect.pty_spawn', 'pty', 'tty', 'termios', 'ptyprocess', 'ptyprocess.ptyprocess', 'fcntl', 'resource', 'struct', '_struct', 'ptyprocess.util', 'pexpect.spawnbase', 'pexpect.run', 'IPython.utils._process_common', 'shlex', 'IPython.utils.decorators', 'IPython.utils.data', 'IPython.utils.terminal', 'IPython.utils.sysinfo', 'IPython.utils._sysinfo', 'IPython.core.profiledir', 'IPython.paths', 'tempfile', 'IPython.utils.importstring', 'IPython.terminal', 'IPython.terminal.embed', 'IPython.core.compilerop', 'IPython.core.magic_arguments', 'IPython.core.error', 'IPython.utils.text', 'pathlib', 'ntpath', 'IPython.core.magic', 'getopt', 'IPython.core.oinspect', 'typing', 'typing.io', 'typing.re', 'IPython.core.page', 'IPython.core.display', 'binascii', 'mimetypes', 'IPython.lib', 'IPython.lib.security', 'getpass', 'IPython.lib.pretty', 'datetime', '_datetime', 'IPython.utils.openpy', 'IPython.utils.dir2', 'IPython.utils.wildcard', 'pygments.lexers', 'pygments.lexers._mapping', 'pygments.modeline', 'pygments.plugin', 'pygments.util', 'pygments.lexers.python', 'pygments.lexer', 'pygments.filter', 'pygments.filters', 'pygments.token', 'pygments.regexopt', 'pygments.unistring', 'pygments.formatters', 'pygments.formatters._mapping', 'pygments.formatters.html', 'pygments.formatter', 'pygments.styles', 'IPython.core.inputtransformer2', 'decorator', 'IPython.core.interactiveshell', 'pickleshare', 'pickle', '_compat_pickle', '_pickle', 'IPython.core.prefilter', 'IPython.core.autocall', 'IPython.core.macro', 'IPython.core.splitinput', 'IPython.core.alias', 'IPython.core.builtin_trap', 'IPython.core.events', 'backcall', 'backcall.backcall', 'IPython.core.displayhook', 'IPython.core.displaypub', 'IPython.core.extensions', 'IPython.core.formatters', 'IPython.utils.sentinel', 'IPython.core.history', 'sqlite3', 'sqlite3.dbapi2', '_sqlite3', 'IPython.core.logger', 'IPython.core.payload', 'IPython.core.usage', 'IPython.display', 'IPython.lib.display', 'html', 'html.entities', 'IPython.utils.io', 'IPython.utils.capture', 'IPython.utils.strdispatch', 'IPython.core.hooks', 'IPython.utils.syspathcontext', 'IPython.utils.tempdir', 'IPython.utils.contexts', 'IPython.core.async_helpers', 'IPython.terminal.interactiveshell', 'asyncio', 'asyncio.base_events', 'concurrent', 'concurrent.futures', 'concurrent.futures._base', 'socket', '_socket', 'ssl', '_ssl', 'base64', 'asyncio.constants', 'asyncio.coroutines', 'asyncio.base_futures', 'asyncio.format_helpers', 'asyncio.log', 'asyncio.events', 'contextvars', '_contextvars', 'asyncio.base_tasks', '_asyncio', 'asyncio.futures', 'asyncio.protocols', 'asyncio.sslproto', 'asyncio.transports', 'asyncio.tasks', 'asyncio.locks', 'asyncio.runners', 'asyncio.queues', 'asyncio.streams', 'asyncio.subprocess', 'asyncio.unix_events', 'asyncio.base_subprocess', 'asyncio.selector_events', 'prompt_toolkit', 'prompt_toolkit.application', 'prompt_toolkit.application.application', 'prompt_toolkit.buffer', 'prompt_toolkit.application.current', 'prompt_toolkit.application.run_in_terminal', 'prompt_toolkit.eventloop', 'prompt_toolkit.eventloop.async_generator', 'prompt_toolkit.eventloop.utils', 'prompt_toolkit.eventloop.inputhook', 'prompt_toolkit.utils', 'wcwidth', 'wcwidth.wcwidth', 'wcwidth.table_wide', 'wcwidth.table_zero', 'wcwidth.unicode_versions', 'prompt_toolkit.auto_suggest', 'prompt_toolkit.document', 'prompt_toolkit.clipboard', 'prompt_toolkit.clipboard.base', 'prompt_toolkit.selection', 'prompt_toolkit.clipboard.in_memory', 'prompt_toolkit.filters', 'prompt_toolkit.filters.app', 'prompt_toolkit.cache', 'prompt_toolkit.enums', 'prompt_toolkit.filters.base', 'prompt_toolkit.filters.cli', 'prompt_toolkit.filters.utils', 'prompt_toolkit.completion', 'prompt_toolkit.completion.base', 'prompt_toolkit.formatted_text', 'prompt_toolkit.formatted_text.ansi', 'prompt_toolkit.output', 'prompt_toolkit.output.base', 'prompt_toolkit.data_structures', 'prompt_toolkit.styles', 'prompt_toolkit.styles.base', 'prompt_toolkit.styles.defaults', 'prompt_toolkit.styles.named_colors', 'prompt_toolkit.styles.style', 'prompt_toolkit.styles.pygments', 'prompt_toolkit.styles.style_transformation', 'colorsys', 'prompt_toolkit.output.color_depth', 'prompt_toolkit.output.defaults', 'prompt_toolkit.patch_stdout', 'prompt_toolkit.output.vt100', 'array', 'prompt_toolkit.formatted_text.base', 'prompt_toolkit.mouse_events', 'prompt_toolkit.formatted_text.html', 'xml', 'xml.dom', 'xml.dom.domreg', 'xml.dom.minidom', 'xml.dom.minicompat', 'xml.dom.xmlbuilder', 'xml.dom.NodeFilter', 'prompt_toolkit.formatted_text.pygments', 'prompt_toolkit.formatted_text.utils', 'prompt_toolkit.completion.filesystem', 'prompt_toolkit.completion.fuzzy_completer', 'prompt_toolkit.completion.word_completer', 'prompt_toolkit.completion.nested', 'prompt_toolkit.history', 'prompt_toolkit.search', 'prompt_toolkit.key_binding', 'prompt_toolkit.key_binding.key_bindings', 'prompt_toolkit.keys', 'prompt_toolkit.key_binding.key_processor', 'prompt_toolkit.key_binding.vi_state', 'prompt_toolkit.validation', 'prompt_toolkit.input', 'prompt_toolkit.input.base', 'prompt_toolkit.input.defaults', 'prompt_toolkit.input.typeahead', 'prompt_toolkit.key_binding.bindings', 'prompt_toolkit.key_binding.bindings.page_navigation', 'prompt_toolkit.key_binding.bindings.scroll', 'prompt_toolkit.key_binding.defaults', 'prompt_toolkit.key_binding.bindings.basic', 'prompt_toolkit.key_binding.bindings.named_commands', 'prompt_toolkit.layout', 'prompt_toolkit.layout.containers', 'prompt_toolkit.layout.controls', 'prompt_toolkit.lexers', 'prompt_toolkit.lexers.base', 'prompt_toolkit.lexers.pygments', 'prompt_toolkit.layout.processors', 'prompt_toolkit.layout.utils', 'prompt_toolkit.layout.dimension', 'prompt_toolkit.layout.margins', 'prompt_toolkit.layout.mouse_handlers', 'prompt_toolkit.layout.screen', 'prompt_toolkit.layout.layout', 'prompt_toolkit.layout.menus', 'prompt_toolkit.key_binding.bindings.completion', 'prompt_toolkit.key_binding.bindings.cpr', 'prompt_toolkit.key_binding.bindings.emacs', 'prompt_toolkit.key_binding.bindings.mouse', 'prompt_toolkit.key_binding.bindings.vi', 'prompt_toolkit.input.vt100_parser', 'prompt_toolkit.input.ansi_escape_sequences', 'prompt_toolkit.key_binding.digraphs', 'prompt_toolkit.key_binding.emacs_state', 'prompt_toolkit.layout.dummy', 'prompt_toolkit.renderer', 'prompt_toolkit.application.dummy', 'prompt_toolkit.shortcuts', 'prompt_toolkit.shortcuts.dialogs', 'prompt_toolkit.key_binding.bindings.focus', 'prompt_toolkit.widgets', 'prompt_toolkit.widgets.base', 'prompt_toolkit.widgets.toolbars', 'prompt_toolkit.widgets.dialogs', 'prompt_toolkit.widgets.menus', 'prompt_toolkit.shortcuts.progress_bar', 'prompt_toolkit.shortcuts.progress_bar.base', 'prompt_toolkit.shortcuts.progress_bar.formatters', 'prompt_toolkit.shortcuts.prompt', 'prompt_toolkit.key_binding.bindings.auto_suggest', 'prompt_toolkit.key_binding.bindings.open_in_editor', 'prompt_toolkit.shortcuts.utils', 'pygments.style', 'IPython.terminal.debugger', 'IPython.core.completer', 'unicodedata', 'IPython.core.latex_symbols', 'IPython.utils.generics', 'jedi', 'jedi.api', 'parso', 'parso.parser', 'parso.tree', 'parso._compatibility', 'parso.utils', 'parso.pgen2', 'parso.pgen2.generator', 'parso.pgen2.grammar_parser', 'parso.python', 'parso.python.tokenize', 'parso.python.token', 'parso.grammar', 'parso.python.diff', 'difflib', 'parso.python.parser', 'parso.python.tree', 'parso.python.prefix', 'parso.cache', 'gc', 'parso.file_io', 'parso.python.errors', 'parso.normalizer', 'parso.python.pep8', 'jedi._compatibility', 'jedi.file_io', 'queue', '_queue', 'jedi.parser_utils', 'jedi.debug', 'jedi.settings', 'jedi.cache', 'jedi.api.classes', 'jedi.inference', 'jedi.inference.imports', 'jedi.inference.sys_path', 'jedi.inference.cache', 'jedi.inference.base_value', 'jedi.inference.helpers', 'jedi.inference.utils', 'jedi.common', 'jedi.inference.compiled', 'jedi.inference.compiled.value', 'jedi.inference.filters', 'jedi.inference.flow_analysis', 'jedi.inference.recursion', 'jedi.inference.names', 'jedi.inference.docstrings', 'jedi.inference.lazy_value', 'jedi.plugins', 'jedi.inference.compiled.access', 'jedi.inference.compiled.getattr_static', 'jedi.inference.signature', 'jedi.inference.context', 'jedi.inference.analysis', 'jedi.inference.gradual', 'jedi.inference.gradual.typeshed', 'jedi.inference.gradual.stub_value', 'jedi.inference.value', 'jedi.inference.value.module', 'jedi.inference.value.klass', 'jedi.inference.arguments', 'jedi.inference.value.iterable', 'jedi.inference.value.dynamic_arrays', 'jedi.inference.value.function', 'jedi.inference.parser_cache', 'jedi.inference.gradual.generics', 'jedi.inference.value.instance', 'jedi.inference.gradual.typing', 'jedi.inference.gradual.base', 'jedi.inference.gradual.type_var', 'jedi.inference.syntax_tree', 'jedi.inference.gradual.annotation', 'jedi.inference.param', 'jedi.inference.value.decorator', 'jedi.inference.compiled.mixed', 'jedi.inference.gradual.conversion', 'jedi.api.keywords', 'pydoc_data', 'pydoc_data.topics', 'jedi.api.completion_cache', 'jedi.api.helpers', 'jedi.api.interpreter', 'jedi.api.completion', 'jedi.api.strings', 'jedi.api.file_name', 'jedi.api.environment', 'filecmp', 'jedi.inference.compiled.subprocess', 'jedi.inference.compiled.subprocess.functions', 'jedi.api.exceptions', 'jedi.api.project', 'jedi.inference.references', 'jedi.api.errors', 'jedi.api.refactoring', 'jedi.api.refactoring.extract', 'jedi.inference.gradual.utils', 'jedi.plugins.registry', 'jedi.plugins.stdlib', 'jedi.plugins.flask', 'jedi.plugins.pytest', 'jedi.plugins.django', 'IPython.terminal.ptutils', 'IPython.terminal.shortcuts', 'IPython.terminal.magics', 'IPython.lib.clipboard', 'IPython.terminal.pt_inputhooks', 'IPython.terminal.prompts', 'IPython.terminal.ipapp', 'IPython.core.magics', 'IPython.core.magics.auto', 'IPython.core.magics.basic', 'IPython.core.magics.code', 'urllib.request', 'email', 'http', 'http.client', 'email.parser', 'email.feedparser', 'email.errors', 'email._policybase', 'email.header', 'email.quoprimime', 'email.base64mime', 'email.charset', 'email.encoders', 'quopri', 'email.utils', 'email._parseaddr', 'calendar', 'email.message', 'uu', 'email._encoded_words', 'email.iterators', 'urllib.error', 'urllib.response', 'IPython.core.magics.config', 'IPython.core.magics.display', 'IPython.core.magics.execution', 'timeit', 'cProfile', '_lsprof', 'profile', 'pstats', 'IPython.utils.module_paths', 'IPython.utils.timing', 'IPython.core.magics.extension', 'IPython.core.magics.history', 'IPython.core.magics.logging', 'IPython.core.magics.namespace', 'IPython.core.magics.osm', 'IPython.core.magics.packaging', 'IPython.core.magics.pylab', 'IPython.core.pylabtools', 'IPython.core.magics.script', 'IPython.lib.backgroundjobs', 'IPython.core.shellapp', 'IPython.extensions', 'IPython.extensions.storemagic', 'IPython.utils.frame', 'jupyter_client', 'jupyter_client._version', 'jupyter_client.connect', 'zmq', 'ctypes', '_ctypes', 'ctypes._endian', 'zmq.backend', 'zmq.backend.select', 'zmq.backend.cython', 'zmq.backend.cython.constants', 'cython_runtime', 'zmq.backend.cython.error', '_cython_0_29_21', 'zmq.backend.cython.message', 'zmq.error', 'zmq.backend.cython.context', 'zmq.backend.cython.socket', 'zmq.backend.cython.utils', 'zmq.backend.cython._poll', 'zmq.backend.cython._version', 'zmq.backend.cython._device', 'zmq.backend.cython._proxy_steerable', 'zmq.sugar', 'zmq.sugar.constants', 'zmq.utils', 'zmq.utils.constant_names', 'zmq.sugar.context', 'zmq.sugar.attrsettr', 'zmq.sugar.socket', 'zmq.sugar.poll', 'zmq.utils.jsonapi', 'zmq.utils.strtypes', 'zmq.sugar.frame', 'zmq.sugar.tracker', 'zmq.sugar.version', 'zmq.sugar.stopwatch', 'jupyter_client.localinterfaces', 'jupyter_core', 'jupyter_core.version', 'jupyter_core.paths', 'distutils', 'distutils.util', 'distutils.errors', 'distutils.dep_util', 'distutils.spawn', 'distutils.debug', 'distutils.log', 'jupyter_client.launcher', 'traitlets.log', 'jupyter_client.client', 'jupyter_client.channels', 'jupyter_client.channelsabc', 'jupyter_client.clientabc', 'jupyter_client.manager', 'ipython_genutils.importstring', 'jupyter_client.kernelspec', 'jupyter_client.managerabc', 'jupyter_client.blocking', 'jupyter_client.blocking.client', 'jupyter_client.blocking.channels', 'jupyter_client.asynchronous', 'jupyter_client.asynchronous.client', 'zmq.asyncio', 'zmq._future', 'jupyter_client.asynchronous.channels', 'jupyter_client.multikernelmanager', 'uuid', 'ipykernel.kernelapp', 'tornado', 'tornado.ioloop', 'numbers', 'tornado.concurrent', 'tornado.log', 'logging.handlers', 'tornado.escape', 'tornado.util', 'tornado.speedups', 'curses', '_curses', 'zmq.eventloop', 'zmq.eventloop.ioloop', 'tornado.platform', 'tornado.platform.asyncio', 'tornado.gen', 'zmq.eventloop.zmqstream', 'ipykernel.iostream', 'imp', 'jupyter_client.session', 'hmac', 'jupyter_client.jsonutil', 'dateutil', 'dateutil._version', 'dateutil.parser', 'dateutil.parser._parser', 'six', 'decimal', '_decimal', 'dateutil.relativedelta', 'dateutil._common', 'dateutil.tz', 'dateutil.tz.tz', 'six.moves', 'dateutil.tz._common', 'dateutil.tz._factories', 'dateutil.parser.isoparser', '_strptime', 'jupyter_client.adapter', 'ipykernel.heartbeat', 'ipykernel.ipkernel', 'IPython.utils.tokenutil', 'ipykernel.comm', 'ipykernel.comm.manager', 'ipykernel.comm.comm', 'ipykernel.kernelbase', 'tornado.queues', 'tornado.locks', 'ipykernel.jsonutil', 'ipykernel.zmqshell', 'IPython.core.payloadpage', 'ipykernel.displayhook', 'ipykernel.eventloops', 'distutils.version', 'ipykernel.parentpoller', 'faulthandler', 'ipykernel.datapub', 'ipykernel.serialize', 'ipykernel.pickleutil', 'ipykernel.codeutil', 'IPython.core.completerlib', 'storemagic', 'numpy', 'numpy._globals', 'numpy.__config__', 'numpy.version', 'numpy._distributor_init', 'numpy.core', 'numpy.core.info', 'numpy.core.multiarray', 'numpy.core.overrides', 'numpy.core._multiarray_umath', 'numpy.compat', 'numpy.compat._inspect', 'numpy.compat.py3k', 'numpy.core.umath', 'numpy.core.numerictypes', 'numpy.core._string_helpers', 'numpy.core._type_aliases', 'numpy.core._dtype', 'numpy.core.numeric', 'numpy.core._exceptions', 'numpy.core._asarray', 'numpy.core._ufunc_config', 'numpy.core.fromnumeric', 'numpy.core._methods', 'numpy.core.arrayprint', 'numpy.core.defchararray', 'numpy.core.records', 'numpy.core.memmap', 'numpy.core.function_base', 'numpy.core.machar', 'numpy.core.getlimits', 'numpy.core.shape_base', 'numpy.core.einsumfunc', 'numpy.core._add_newdocs', 'numpy.core._multiarray_tests', 'numpy.core._dtype_ctypes', 'numpy.core._internal', 'numpy._pytesttester', 'numpy.lib', 'numpy.lib.info', 'numpy.lib.type_check', 'numpy.lib.ufunclike', 'numpy.lib.index_tricks', 'numpy.matrixlib', 'numpy.matrixlib.defmatrix', 'numpy.linalg', 'numpy.linalg.info', 'numpy.linalg.linalg', 'numpy.lib.twodim_base', 'numpy.linalg.lapack_lite', 'numpy.linalg._umath_linalg', 'numpy.lib.function_base', 'numpy.lib.histograms', 'numpy.lib.stride_tricks', 'numpy.lib.mixins', 'numpy.lib.nanfunctions', 'numpy.lib.shape_base', 'numpy.lib.scimath', 'numpy.lib.polynomial', 'numpy.lib.utils', 'numpy.lib.arraysetops', 'numpy.lib.npyio', 'numpy.lib.format', 'numpy.lib._datasource', 'numpy.lib._iotools', 'numpy.lib.financial', 'numpy.lib.arrayterator', 'numpy.lib.arraypad', 'numpy.lib._version', 'numpy.fft', 'numpy.fft._pocketfft', 'numpy.fft._pocketfft_internal', 'numpy.fft.helper', 'numpy.polynomial', 'numpy.polynomial.polynomial', 'numpy.polynomial.polyutils', 'numpy.polynomial._polybase', 'numpy.polynomial.chebyshev', 'numpy.polynomial.legendre', 'numpy.polynomial.hermite', 'numpy.polynomial.hermite_e', 'numpy.polynomial.laguerre', 'numpy.random', 'numpy.random._pickle', 'numpy.random.mtrand', 'numpy.random.common', 'numpy.random.bounded_integers', 'numpy.random.mt19937', 'numpy.random.bit_generator', '_cython_0_29_14', 'secrets', 'numpy.random.philox', 'numpy.random.pcg64', 'numpy.random.sfc64', 'numpy.random.generator', 'numpy.ctypeslib', 'numpy.ma', 'numpy.ma.core', 'numpy.ma.extras', 'numpy.testing', 'unittest', 'unittest.result', 'unittest.util', 'unittest.case', 'unittest.suite', 'unittest.loader', 'unittest.main', 'unittest.runner', 'unittest.signals', 'numpy.testing._private', 'numpy.testing._private.utils', 'numpy.testing._private.decorators', 'numpy.testing._private.nosetester', 'openmmtools', 'openmmtools.testsystems', 'scipy', 'scipy._lib', 'scipy._lib._testutils', 'scipy._lib.deprecation', 'scipy.__config__', 'scipy.version', 'scipy._distributor_init', 'scipy._lib._pep440', 'scipy._lib._ccallback', 'scipy._lib._ccallback_c', 'scipy.fft', 'scipy.fft._basic', 'scipy._lib.uarray', 'scipy._lib._uarray', 'scipy._lib._uarray._backend', 'scipy._lib._uarray._uarray', 'scipy.fft._realtransforms', 'scipy.fft._helper', 'scipy.fft._pocketfft', 'scipy.fft._pocketfft.basic', 'scipy.fft._pocketfft.pypocketfft', 'scipy.fft._pocketfft.helper', 'scipy.fft._pocketfft.realtransforms', 'scipy.fft._backend', 'scipy.special', 'scipy.special.sf_error', 'scipy.special._ufuncs', 'scipy.special._ufuncs_cxx', 'scipy.special._basic', 'scipy.special.specfun', 'scipy.special.orthogonal', 'scipy.linalg', 'scipy.linalg.misc', 'scipy.linalg.blas', 'scipy.linalg._fblas', 'scipy.linalg.lapack', 'scipy.linalg._flapack', 'scipy._lib._util', 'multiprocessing', 'multiprocessing.context', 'multiprocessing.process', 'multiprocessing.reduction', '__mp_main__', 'scipy.linalg.basic', 'scipy.linalg.flinalg', 'scipy.linalg._flinalg', 'scipy.linalg.decomp', 'scipy.linalg.decomp_svd', 'scipy.linalg._solve_toeplitz', 'scipy.linalg.decomp_lu', 'scipy.linalg._decomp_ldl', 'scipy.linalg.decomp_cholesky', 'scipy.linalg.decomp_qr', 'scipy.linalg._decomp_qz', 'scipy.linalg.decomp_schur', 'scipy.linalg._decomp_polar', 'scipy.linalg.matfuncs', 'scipy.linalg.special_matrices', 'scipy.linalg._expm_frechet', 'scipy.linalg._matfuncs_sqrtm', 'scipy.linalg._solvers', 'scipy.linalg._procrustes', 'scipy.linalg._decomp_update', 'scipy.linalg.cython_blas', 'scipy.linalg.cython_lapack', 'scipy.linalg._sketches', 'scipy.sparse', 'scipy.sparse.base', 'scipy.sparse.sputils', 'scipy.sparse.csr', 'scipy.sparse._sparsetools', 'scipy.sparse.compressed', 'scipy.sparse.data', 'scipy.sparse.dia', 'scipy.sparse._index', 'scipy.sparse.csc', 'scipy.sparse.lil', 'scipy.sparse._csparsetools', 'scipy.sparse.dok', 'scipy.sparse.coo', 'scipy.sparse.bsr', 'scipy.sparse.construct', 'scipy.sparse.extract', 'scipy.sparse._matrix_io', 'scipy.sparse.csgraph', 'scipy.sparse.csgraph._laplacian', 'scipy.sparse.csgraph._shortest_path', 'scipy.sparse.csgraph._validation', 'scipy.sparse.csgraph._tools', 'scipy.sparse.csgraph._traversal', 'scipy.sparse.csgraph._min_spanning_tree', 'scipy.sparse.csgraph._flow', 'scipy.sparse.csgraph._matching', 'scipy.sparse.csgraph._reordering', 'scipy.linalg._decomp_cossin', 'scipy.special._comb', 'scipy.special._logsumexp', 'scipy.special.spfun_stats', 'scipy.special._ellip_harm', 'scipy.special._ellip_harm_2', 'scipy.special._lambertw', 'scipy.special._spherical_bessel', 'scipy.integrate', 'scipy.integrate._quadrature', 'scipy.integrate.odepack', 'scipy.integrate._odepack', 'scipy.integrate.quadpack', 'scipy.integrate._quadpack', 'scipy.integrate._ode', 'scipy.integrate.vode', 'scipy.integrate._dop', 'scipy.integrate.lsoda', 'scipy.integrate._bvp', 'scipy.sparse.linalg', 'scipy.sparse.linalg.isolve', 'scipy.sparse.linalg.isolve.iterative', 'scipy.sparse.linalg.isolve._iterative', 'scipy.sparse.linalg.interface', 'scipy.sparse.linalg.isolve.utils', 'scipy._lib._threadsafety', 'scipy._lib.decorator', 'scipy.sparse.linalg.isolve.minres', 'scipy.sparse.linalg.isolve.lgmres', 'scipy.sparse.linalg.isolve._gcrotmk', 'scipy.sparse.linalg.isolve.lsqr', 'scipy.sparse.linalg.isolve.lsmr', 'scipy.sparse.linalg.dsolve', 'scipy.sparse.linalg.dsolve.linsolve', 'scipy.sparse.linalg.dsolve._superlu', 'scipy.sparse.linalg.dsolve._add_newdocs', 'scipy.sparse.linalg.eigen', 'scipy.sparse.linalg.eigen.arpack', 'scipy.sparse.linalg.eigen.arpack.arpack', 'scipy.sparse.linalg.eigen.arpack._arpack', 'scipy.sparse.linalg.eigen.lobpcg', 'scipy.sparse.linalg.eigen.lobpcg.lobpcg', 'scipy.sparse.linalg.matfuncs', 'scipy.sparse.linalg._expm_multiply', 'scipy.sparse.linalg._onenormest', 'scipy.sparse.linalg._norm', 'scipy.optimize', 'scipy.optimize.optimize', 'scipy.optimize.linesearch', 'scipy.optimize.minpack2', 'scipy.optimize._numdiff', 'scipy.optimize._group_columns', 'scipy.optimize._differentiable_functions', 'scipy.optimize._hessian_update_strategy', 'scipy.optimize._minimize', 'scipy.optimize._trustregion_dogleg', 'scipy.optimize._trustregion', 'scipy.optimize._trustregion_ncg', 'scipy.optimize._trustregion_krylov', 'scipy.optimize._trlib', 'scipy.optimize._trlib._trlib', 'scipy._lib.messagestream', 'scipy.optimize._trustregion_exact', 'scipy.optimize._trustregion_constr', 'scipy.optimize._trustregion_constr.minimize_trustregion_constr', 'scipy.optimize._constraints', 'scipy.optimize._trustregion_constr.equality_constrained_sqp', 'scipy.optimize._trustregion_constr.projections', 'scipy.optimize._trustregion_constr.qp_subproblem', 'scipy.optimize._trustregion_constr.canonical_constraint', 'scipy.optimize._trustregion_constr.tr_interior_point', 'scipy.optimize._trustregion_constr.report', 'scipy.optimize.lbfgsb', 'scipy.optimize._lbfgsb', 'scipy.optimize.tnc', 'scipy.optimize.moduleTNC', 'scipy.optimize.cobyla', 'scipy.optimize._cobyla', 'scipy.optimize.slsqp', 'scipy.optimize._slsqp', 'scipy.optimize._root', 'scipy.optimize.minpack', 'scipy.optimize._minpack', 'scipy.optimize._lsq', 'scipy.optimize._lsq.least_squares', 'scipy.optimize._lsq.trf', 'scipy.optimize._lsq.common', 'scipy.optimize._lsq.dogbox', 'scipy.optimize._lsq.lsq_linear', 'scipy.optimize._lsq.trf_linear', 'scipy.optimize._lsq.givens_elimination', 'scipy.optimize._lsq.bvls', 'scipy.optimize._spectral', 'scipy.optimize.nonlin', 'scipy.optimize._root_scalar', 'scipy.optimize.zeros', 'scipy.optimize._zeros', 'scipy.optimize._nnls', 'scipy.optimize.__nnls', 'scipy.optimize._basinhopping', 'scipy.optimize._linprog', 'scipy.optimize._linprog_ip', 'scipy.optimize._linprog_util', 'scipy.optimize._remove_redundancy', 'scipy.optimize._linprog_simplex', 'scipy.optimize._linprog_rs', 'scipy.optimize._bglu_dense', 'scipy.optimize._lsap', 'scipy.optimize._lsap_module', 'scipy.optimize._differentialevolution', 'scipy.optimize._shgo', 'scipy.spatial', 'scipy.spatial.kdtree', 'scipy.spatial.ckdtree', 'scipy.spatial.qhull', 'scipy.spatial._spherical_voronoi', 'scipy.spatial._voronoi', 'scipy.spatial._plotutils', 'scipy.spatial._procrustes', 'scipy.spatial._geometric_slerp', 'scipy.spatial.distance', 'scipy.spatial._distance_wrap', 'scipy.spatial._hausdorff', 'scipy.spatial.transform', 'scipy.spatial.transform.rotation', 'scipy.spatial.transform._rotation_groups', 'scipy.constants', 'scipy.constants.codata', 'scipy.constants.constants', 'scipy.spatial.transform._rotation_spline', 'scipy.optimize._shgo_lib', 'scipy.optimize._shgo_lib.sobol_seq', 'scipy.optimize._shgo_lib.triangulation', 'scipy.optimize._dual_annealing', 'scipy.integrate._ivp', 'scipy.integrate._ivp.ivp', 'scipy.integrate._ivp.bdf', 'scipy.integrate._ivp.common', 'scipy.integrate._ivp.base', 'scipy.integrate._ivp.radau', 'scipy.integrate._ivp.rk', 'scipy.integrate._ivp.dop853_coefficients', 'scipy.integrate._ivp.lsoda', 'scipy.integrate._quad_vec', 'simtk', 'simtk.openmm', 'simtk.openmm.version', 'simtk.openmm.openmm', 'swig_runtime_data4', '_openmm', 'simtk.unit', 'simtk.unit.unit', 'simtk.unit.mymatrix', 'simtk.unit.basedimension', 'simtk.unit.baseunit', 'simtk.unit.standard_dimensions', 'simtk.unit.quantity', 'simtk.unit.unit_math', 'simtk.unit.unit_definitions', 'simtk.unit.unit_operators', 'simtk.unit.prefix', 'simtk.unit.constants', 'simtk.openmm.vec3', 'simtk.openmm.mtsintegrator', 'simtk.openmm.amd', 'simtk.openmm.app', 'simtk.openmm.app.topology', 'xml.etree', 'xml.etree.ElementTree', 'xml.etree.ElementPath', 'pyexpat.errors', 'pyexpat.model', 'pyexpat', '_elementtree', 'simtk.openmm.app.internal', 'simtk.openmm.app.internal.singleton', 'simtk.openmm.app.pdbfile', 'simtk.openmm.app.internal.pdbstructure', 'simtk.openmm.app.element', 'simtk.openmm.app.internal.unitcell', 'simtk.openmm.app.pdbxfile', 'simtk.openmm.app.internal.pdbx', 'simtk.openmm.app.internal.pdbx.reader', 'simtk.openmm.app.internal.pdbx.reader.PdbxReader', 'simtk.openmm.app.internal.pdbx.reader.PdbxContainers', 'simtk.openmm.app.forcefield', 'simtk.openmm.app.internal.compiled', '_cython_0_29_17', 'simtk.openmm.app.simulation', 'simtk.openmm.app.pdbreporter', 'simtk.openmm.app.amberprmtopfile', 'simtk.openmm.app.internal.amber_file_parser', 'simtk.openmm.app.internal.customgbforces', 'simtk.openmm.app.amberinpcrdfile', 'simtk.openmm.app.dcdfile', 'simtk.openmm.app.gromacsgrofile', 'simtk.openmm.app.gromacstopfile', 'simtk.openmm.app.dcdreporter', 'simtk.openmm.app.modeller', 'simtk.openmm.app.statedatareporter', 'gzip', 'simtk.openmm.app.desmonddmsfile', 'simtk.openmm.app.checkpointreporter', 'simtk.openmm.app.charmmcrdfiles', 'simtk.openmm.app.internal.charmm', 'simtk.openmm.app.internal.charmm.exceptions', 'simtk.openmm.app.charmmparameterset', 'simtk.openmm.app.internal.charmm._charmmfile', 'simtk.openmm.app.internal.charmm.topologyobjects', 'simtk.openmm.app.charmmpsffile', 'simtk.openmm.app.simulatedtempering', 'simtk.openmm.app.metadynamics', 'openmmtools.constants', 'openmmtools.integrators', 'openmmtools.respa', 'openmmtools.utils', 'openmmtools.alchemy', 'openmmtools.states', 'openmmtools.forces', 'openmmtools.forcefactories', 'mdtraj', 'mdtraj.formats', 'mdtraj.formats.arc', 'mdtraj.utils', 'mdtraj.utils.delay_import', 'mdtraj.utils.validation', 'mdtraj.utils.six', 'mdtraj.utils.six.moves', 'mdtraj.utils.six.moves.urllib_parse', 'mdtraj.utils.six.moves.urllib.parse', 'mdtraj.utils.six.moves.urllib_error', 'mdtraj.utils.six.moves.urllib.error', 'mdtraj.utils.six.moves.urllib_request', 'mdtraj.utils.six.moves.urllib.request', 'mdtraj.utils.six.moves.urllib_response', 'mdtraj.utils.six.moves.urllib.response', 'mdtraj.utils.six.moves.urllib_robotparser', 'mdtraj.utils.six.moves.urllib.robotparser', 'mdtraj.utils.six.moves.urllib', 'mdtraj.utils.unit', 'mdtraj.utils.unit.quantity', 'mdtraj.utils.unit.standard_dimensions', 'mdtraj.utils.unit.basedimension', 'mdtraj.utils.unit.unit', 'mdtraj.utils.unit.mymatrix', 'mdtraj.utils.unit.baseunit', 'mdtraj.utils.unit.unit_definitions', 'mdtraj.utils.unit.unit_operators', 'mdtraj.utils.unit.prefix', 'mdtraj.utils.rotation', 'mdtraj.utils.unitcell', 'mdtraj.utils.contextmanagers', 'mdtraj.utils.zipped', 'mdtraj.formats.registry', 'mdtraj.formats.dcd', 'mdtraj.formats.binpos', 'mdtraj.formats.xtc', 'xdrlib', 'mdtraj.formats.trr', 'mdtraj.formats.hdf5', 'mdtraj.version', 'mdtraj.core', 'mdtraj.core.element', 'mdtraj.core.topology', 'mdtraj.core.residue_names', 'mdtraj.core.selection', 'pyparsing', 'astor', 'astor.code_gen', 'astor.op_util', 'astor.node_util', 'astor.string_repr', 'astor.source_repr', 'astor.file_util', 'astor.tree_walk', 'mdtraj.utils.singleton', 'mdtraj.formats.netcdf', 'mdtraj.formats.pdb', 'mdtraj.formats.pdb.pdbfile', 'mdtraj.formats.pdb.pdbstructure', 'mdtraj.formats.lh5', 'mdtraj.formats.mdcrd', 'mdtraj.formats.amberrst', 'mdtraj.formats.lammpstrj', 'mdtraj.formats.dtr', 'mdtraj.formats.gro', 'mdtraj.formats.xyzfile', 'mdtraj.formats.tng', 'mdtraj.formats.openmmxml', 'mdtraj.formats.prmtop', 'mdtraj.formats.psf', 'mdtraj.formats.mol2', 'mdtraj.formats.hoomdxml', 'xml.etree.cElementTree', 'mdtraj._rmsd', 'mdtraj._lprmsd', 'mdtraj.geometry', 'mdtraj.geometry.rg', 'mdtraj.geometry.angle', 'mdtraj.geometry._geometry', 'mdtraj.geometry.distance', 'mdtraj.geometry.dihedral', 'mdtraj.geometry.hbond', 'mdtraj.geometry.sasa', 'mdtraj.geometry.contact', 'mdtraj.geometry.drid', 'mdtraj.geometry.dssp', 'mdtraj.geometry.neighbors', 'mdtraj.geometry.neighborlist', 'mdtraj.geometry.thermodynamic_properties', 'mdtraj.geometry.rdf', 'mdtraj.geometry.order', 'pkg_resources', 'zipfile', 'plistlib', 'xml.parsers', 'xml.parsers.expat', 'xml.parsers.expat.model', 'xml.parsers.expat.errors', 'pkg_resources.extern', 'pkg_resources._vendor', 'pkg_resources._vendor.six', 'pkg_resources.extern.six', 'pkg_resources._vendor.six.moves', 'pkg_resources.extern.six.moves', 'pkg_resources._vendor.appdirs', 'pkg_resources.extern.appdirs', 'pkg_resources._vendor.packaging', 'pkg_resources._vendor.packaging.__about__', 'pkg_resources.extern.packaging', 'pkg_resources.extern.packaging.version', 'pkg_resources.extern.packaging._structures', 'pkg_resources.extern.packaging._typing', 'pkg_resources.extern.packaging.specifiers', 'pkg_resources.extern.packaging._compat', 'pkg_resources.extern.packaging.utils', 'pkg_resources.extern.packaging.requirements', 'pkg_resources._vendor.pyparsing', 'pkg_resources.extern.pyparsing', 'pkg_resources._vendor.six.moves.urllib', 'pkg_resources.extern.six.moves.urllib', 'pkg_resources.extern.packaging.markers', 'mdtraj.geometry.shape', 'mdtraj.core.trajectory', 'mdtraj.formats.gsd', 'mdtraj.nmr', 'mdtraj.nmr.shift_wrappers', 'mdtraj.nmr.scalar_couplings', 'mdtraj.reporters', 'mdtraj.reporters.hdf5reporter', 'mdtraj.reporters.basereporter', 'mdtraj.reporters.netcdfreporter', 'mdtraj.reporters.dcdreporter', 'mdtraj.reporters.xtcreporter', 'openmmtools.mcmc', 'openmmtools.cache', 'openmmtools.storage', 'openmmtools.storage.iodrivers', 'yaml', 'yaml.error', 'yaml.tokens', 'yaml.events', 'yaml.nodes', 'yaml.loader', 'yaml.reader', 'yaml.scanner', 'yaml.parser', 'yaml.composer', 'yaml.constructor', 'yaml.resolver', 'yaml.dumper', 'yaml.emitter', 'yaml.serializer', 'yaml.representer', 'yaml.cyaml', '_yaml', 'netCDF4', 'netCDF4._netCDF4', 'netCDF4.utils', 'cftime', 'cftime._cftime', 'openmmtools.storage.storageinterface', 'openmmtools.multistate', 'openmmtools.multistate.multistatesampler', 'mpiplus', 'mpiplus.mpiplus', 'mpiplus._version', 'openmmtools.multistate.utils', 'pymbar', 'pymbar.timeseries', 'pymbar.utils', 'numexpr', 'numexpr.__config__', 'numexpr.expressions', 'numexpr.interpreter', 'numexpr.necompiler', 'numexpr.utils', 'numexpr.version', 'pymbar.testsystems', 'pymbar.testsystems.harmonic_oscillators', 'pymbar.testsystems.exponential_distributions', 'pymbar.testsystems.timeseries', 'pymbar.testsystems.gaussian_work', 'pymbar.confidenceintervals', 'scipy.stats', 'scipy.stats.stats', 'scipy.ndimage', 'scipy.ndimage.filters', 'scipy.ndimage._ni_support', 'scipy.ndimage._nd_image', 'scipy.ndimage._ni_docstrings', 'scipy._lib.doccer', 'scipy.ndimage.fourier', 'scipy.ndimage.interpolation', 'scipy.ndimage.measurements', 'scipy.ndimage._ni_label', '_ni_label', 'scipy.ndimage.morphology', 'scipy.stats.distributions', 'scipy.stats._distn_infrastructure', 'scipy.stats._distr_params', 'scipy.misc', 'scipy.misc.doccer', 'scipy.misc.common', 'scipy.stats._constants', 'scipy.stats._continuous_distns', 'scipy.interpolate', 'scipy.interpolate.interpolate', 'scipy.interpolate.fitpack', 'scipy.interpolate._fitpack_impl', 'scipy.interpolate._fitpack', 'scipy.interpolate.dfitpack', 'scipy.interpolate._bsplines', 'scipy.interpolate._bspl', 'scipy.interpolate.polyint', 'scipy.interpolate._ppoly', 'scipy.interpolate.fitpack2', 'scipy.interpolate.interpnd', 'scipy.interpolate.rbf', 'scipy.interpolate._cubic', 'scipy.interpolate.ndgriddata', 'scipy.interpolate._pade', 'scipy.stats._stats', 'scipy.special.cython_special', 'scipy.stats._rvs_sampling', 'scipy.stats._tukeylambda_stats', 'scipy.stats._ksstats', 'scipy.stats._discrete_distns', 'scipy.stats.mstats_basic', 'scipy.stats._stats_mstats_common', 'scipy.stats._hypotests', 'scipy.stats._wilcoxon_data', 'scipy.stats.morestats', 'scipy.stats.statlib', 'scipy.stats.contingency', 'scipy.stats._binned_statistic', 'scipy.stats.kde', 'scipy.stats.mvn', 'scipy.stats.mstats', 'scipy.stats.mstats_extras', 'scipy.stats._multivariate', 'pymbar.version', 'pymbar.mbar', 'pymbar.mbar_solvers', 'pymbar.bar', 'pymbar.exp', 'pymbar.old_mbar', 'openmmtools.multistate.multistatereporter', 'openmmtools.multistate.replicaexchange', 'openmmtools.multistate.multistateanalyzer', 'openmmtools.multistate.paralleltempering', 'openmmtools.multistate.sams', 'openmmtools._version', 'perses', 'perses.annihilation', 'perses.annihilation.lambda_protocol', 'tqdm', 'tqdm.std', 'tqdm.utils', 'tqdm._monitor', 'tqdm.gui', 'tqdm._tqdm_pandas', 'tqdm.cli', 'tqdm._version', 'matplotlib', 'matplotlib.cbook', 'matplotlib.cbook.deprecation', 'matplotlib.rcsetup', 'matplotlib.animation', 'matplotlib._animation_data', 'matplotlib.fontconfig_pattern', 'matplotlib.colors', 'matplotlib.docstring', 'matplotlib._color_data', 'cycler', 'matplotlib._version', 'matplotlib.ft2font', 'kiwisolver']\n"
     ]
    },
    {
     "name": "stderr",
     "output_type": "stream",
     "text": [
      "DEBUG:matplotlib:CACHEDIR=/home/zhangi/.cache/matplotlib\n",
      "DEBUG:matplotlib.font_manager:Using fontManager instance from /home/zhangi/.cache/matplotlib/fontlist-v330.json\n",
      "DEBUG:matplotlib.pyplot:Loaded backend module://ipykernel.pylab.backend_inline version unknown.\n",
      "DEBUG:matplotlib.pyplot:Loaded backend module://ipykernel.pylab.backend_inline version unknown.\n"
     ]
    }
   ],
   "source": [
    "import os\n",
    "import pickle\n",
    "import numpy as np\n",
    "from openmmtools.integrators import LangevinIntegrator\n",
    "from openmmtools.states import ThermodynamicState, CompoundThermodynamicState, SamplerState\n",
    "from perses.annihilation.lambda_protocol import RelativeAlchemicalState, LambdaProtocol\n",
    "from simtk import openmm, unit\n",
    "from tqdm import tqdm\n",
    "import mdtraj as md\n",
    "from openmmtools.mcmc import MCDihedralRotationMove, LangevinSplittingDynamicsMove\n",
    "import math\n",
    "from matplotlib import pyplot as plt\n",
    "import logging\n",
    "import copy\n",
    "from openmmtools import cache\n",
    "import scipy\n",
    "\n",
    "logger = logging.getLogger()\n",
    "logger.setLevel(logging.INFO)\n"
   ]
  },
  {
   "cell_type": "markdown",
   "metadata": {},
   "source": [
    "### Define helper function for running short MD"
   ]
  },
  {
   "cell_type": "code",
   "execution_count": 2,
   "metadata": {},
   "outputs": [],
   "source": [
    "def run_md(htf, endstate):\n",
    "\n",
    "    # Define simulation parameters\n",
    "    temperature = 300 * unit.kelvin\n",
    "    nsteps = 10000\n",
    "    timestep = 4.0 * unit.femtosecond\n",
    "    platform_name = 'CUDA'\n",
    "    collision_rate = 1.0 / unit.picoseconds\n",
    "\n",
    "    system = htf.hybrid_system\n",
    "    positions = htf.hybrid_positions\n",
    "\n",
    "    # Create CompoundThermodynamicState at the appropriate endstate\n",
    "    lambda_alchemical_state = RelativeAlchemicalState.from_system(system)\n",
    "    lambda_protocol = LambdaProtocol(functions = 'default')\n",
    "    lambda_alchemical_state.set_alchemical_parameters(endstate, lambda_protocol)\n",
    "    thermodynamic_state = CompoundThermodynamicState(ThermodynamicState(system, temperature=temperature), composable_states=[lambda_alchemical_state])\n",
    "\n",
    "    # Set up integrator\n",
    "    integrator = LangevinIntegrator(temperature, collision_rate, timestep)\n",
    "\n",
    "    # Set up context\n",
    "    platform = openmm.Platform.getPlatformByName(platform_name)\n",
    "    if platform_name in ['CUDA', 'OpenCL']:\n",
    "        platform.setPropertyDefaultValue('Precision', 'mixed')\n",
    "    if platform_name in ['CUDA']:\n",
    "        platform.setPropertyDefaultValue('DeterministicForces', 'true')\n",
    "        \n",
    "    context = thermodynamic_state.create_context(integrator, platform=platform)    \n",
    "#     context, integrator = cache.global_context_cache.get_context(thermodynamic_state, integrator)\n",
    "#     print(context.getParameter('lambda_angles'))\n",
    "        \n",
    "    context.setPeriodicBoxVectors(*system.getDefaultPeriodicBoxVectors())\n",
    "    context.setPositions(positions)\n",
    "    context.setVelocitiesToTemperature(temperature)\n",
    "    print(thermodynamic_state.reduced_potential(context))\n",
    "    \n",
    "    md.Trajectory(np.array(htf.old_positions(positions)), md.Topology.from_openmm(htf._topology_proposal.old_topology)).save(\"nan_before_minimize.pdb\")\n",
    "\n",
    "\n",
    "    # Minimize\n",
    "    openmm.LocalEnergyMinimizer.minimize(context)\n",
    "\n",
    "    # Run equilibration\n",
    "    for step in tqdm(range(nsteps)):\n",
    "        integrator.step(1)\n",
    "    \n",
    "    return context, thermodynamic_state"
   ]
  },
  {
   "cell_type": "markdown",
   "metadata": {},
   "source": [
    "### Sub-class MCDihedralRotationMove"
   ]
  },
  {
   "cell_type": "code",
   "execution_count": 3,
   "metadata": {},
   "outputs": [],
   "source": [
    "# 1) Remove metropolize part in apply()\n",
    "# 2) Pass -theta to compute_dihedral()\n",
    "\n",
    "class MCDihedralRotationMove2(MCDihedralRotationMove):\n",
    "    def rotate_positions(self, initial_positions):\n",
    "        \"\"\"Apply rotation to atom_subset positions.\n",
    "        Parameters\n",
    "        ----------\n",
    "        initial_positions : numpy.ndarray simtk.unit.Quantity\n",
    "            The positions of all atoms in atom_subset.\n",
    "        Returns\n",
    "        -------\n",
    "        rotated_positions : numpy.ndarray simtk.unit.Quantity\n",
    "            The rotated positions.\n",
    "        \"\"\"\n",
    "        import math\n",
    "        import copy\n",
    "        import numpy as np \n",
    "        import logging\n",
    "        logger = logging.getLogger()\n",
    "        \n",
    "        old_angle = self.compute_dihedral(initial_positions[:4])\n",
    "\n",
    "        if self.desired_angle == -np.inf:\n",
    "            # Choose a random rotation angle\n",
    "            theta = random.uniform(-math.pi, math.pi)\n",
    "        else:\n",
    "            # If desired_angle is specified, determine rotation angle\n",
    "            if not (self.desired_angle <= math.pi and self.desired_angle >= -math.pi):\n",
    "                raise Exception(\"Desired angle must be less than pi and greater than -pi\")\n",
    "            theta = self.desired_angle - old_angle\n",
    "        logger.info(f\"Rotating by {theta} radians\")\n",
    "\n",
    "        # Make a copy of the initial positions\n",
    "        new_positions = copy.deepcopy(initial_positions)\n",
    "\n",
    "        # Find the rotation axis using the initial positions\n",
    "        axis1 = 1\n",
    "        axis2 = 2\n",
    "        rotation_axis = (initial_positions[axis1] - initial_positions[axis2]) / initial_positions.unit\n",
    "\n",
    "        # Calculate the rotation matrix\n",
    "        rotation_matrix = self.generate_rotation_matrix(rotation_axis, -theta) ## CHANGED theta to negative\n",
    "\n",
    "        # Apply the rotation matrix to the target atoms\n",
    "        for atom_index in range(3, len(self.atom_subset)):\n",
    "            # Find the reduced position (substract out axis)\n",
    "            reduced_position = (initial_positions[atom_index] - initial_positions[axis2])._value\n",
    "\n",
    "            # Find the new positions by multiplying by rot matrix\n",
    "            new_position = np.dot(rotation_matrix, reduced_position) * initial_positions.unit + initial_positions[axis2]\n",
    "\n",
    "            # Update the new positions\n",
    "            new_positions[atom_index][0] = new_position[0]\n",
    "            new_positions[atom_index][1] = new_position[1]\n",
    "            new_positions[atom_index][2] = new_position[2]\n",
    "        \n",
    "        return new_positions\n",
    "    def apply(self, thermodynamic_state, sampler_state):\n",
    "        \"\"\"Apply a metropolized move to the sampler state.\n",
    "        Total number of acceptances and proposed move are updated.\n",
    "        Parameters\n",
    "        ----------\n",
    "        thermodynamic_state : openmmtools.states.ThermodynamicState\n",
    "           The thermodynamic state to use to apply the move.\n",
    "        sampler_state : openmmtools.states.SamplerState\n",
    "           The initial sampler state to apply the move to. This is modified.\n",
    "        \"\"\"\n",
    "#         from openmmtools import cache\n",
    "        import copy\n",
    "#         timer = Timer()\n",
    "#         benchmark_id = 'Applying {}'.format(self.__class__.__name__ )\n",
    "#         timer.start(benchmark_id)\n",
    "\n",
    "        # Check if we have to use the global cache.\n",
    "        if self.context_cache is None:\n",
    "            context_cache = cache.global_context_cache\n",
    "        else:\n",
    "            context_cache = self.context_cache\n",
    "\n",
    "        # Create context, any integrator works.\n",
    "        context, unused_integrator = context_cache.get_context(thermodynamic_state)\n",
    "        \n",
    "        # Compute initial energy. We don't need to set velocities to compute the potential.\n",
    "        # TODO assume sampler_state.potential_energy is the correct potential if not None?\n",
    "        sampler_state.apply_to_context(context, ignore_velocities=True)\n",
    "        initial_energy = thermodynamic_state.reduced_potential(context)\n",
    "\n",
    "        # Handle default and weird cases for atom_subset.\n",
    "        if self.atom_subset is None:\n",
    "            atom_subset = slice(None)\n",
    "        elif not isinstance(self.atom_subset, slice) and len(self.atom_subset) == 1:\n",
    "            # Slice so that initial_positions (below) will have a 2D shape.\n",
    "            atom_subset = slice(self.atom_subset[0], self.atom_subset[0]+1)\n",
    "        else:\n",
    "            atom_subset = self.atom_subset\n",
    "\n",
    "        # Store initial positions of the atoms that are moved.\n",
    "        # We'll use this also to recover in case the move is rejected.\n",
    "        if isinstance(atom_subset, slice):\n",
    "            # Numpy array when sliced return a view, they are not copied.\n",
    "            initial_positions = copy.deepcopy(sampler_state.positions[atom_subset])\n",
    "        else:\n",
    "            # This automatically creates a copy.\n",
    "            initial_positions = sampler_state.positions[atom_subset]\n",
    "\n",
    "        # Propose perturbed positions. Modifying the reference changes the sampler state.\n",
    "        proposed_positions = self._propose_positions(initial_positions)\n",
    "\n",
    "        # Compute the energy of the proposed positions.\n",
    "        sampler_state.positions[atom_subset] = proposed_positions\n",
    "        sampler_state.apply_to_context(context, ignore_velocities=True)\n",
    "        proposed_energy = thermodynamic_state.reduced_potential(context)\n",
    "\n",
    "#         # Accept or reject with Metropolis criteria.\n",
    "#         delta_energy = proposed_energy - initial_energy\n",
    "#         if (not np.isnan(proposed_energy) and\n",
    "#                 (delta_energy <= 0.0 or np.random.rand() < np.exp(-delta_energy))):\n",
    "#             self.n_accepted += 1\n",
    "#         else:\n",
    "#             # Restore original positions.\n",
    "#             sampler_state.positions[atom_subset] = initial_positions\n",
    "#         self.n_proposed += 1\n",
    "\n",
    "#         # Print timing information.\n",
    "#         timer.stop(benchmark_id)\n",
    "#         #timer.report_timing()\n",
    "        \n",
    "        return proposed_energy, sampler_state.positions"
   ]
  },
  {
   "cell_type": "markdown",
   "metadata": {},
   "source": [
    "### Define run torsion scan function"
   ]
  },
  {
   "cell_type": "code",
   "execution_count": 4,
   "metadata": {},
   "outputs": [],
   "source": [
    "def run_torsion_scan(htf, endstate, is_old, hybrid_indices, vanilla_indices, other_indices):\n",
    "    \"\"\"\n",
    "    hybrid_indices : list of int\n",
    "        indices of the dihedral atoms from the hybrid system\n",
    "    vanilla_indices : list of int\n",
    "        indices of the dihedral atoms from the vanilla (old or new) system\n",
    "    other_indices : list of int\n",
    "        indices of the non-dihedral sidechain atoms to be rotated, from the hybrid system\n",
    "    \"\"\"\n",
    "    \n",
    "    d_masses = {}\n",
    "    # Set particle masses to 0\n",
    "    for index in hybrid_indices:\n",
    "        d_masses[index] = htf.hybrid_system.getParticleMass(index)\n",
    "        htf.hybrid_system.setParticleMass(index, 0.0)\n",
    "    \n",
    "    # Turn off constraints involving massless particles\n",
    "    for i in reversed(range(htf.hybrid_system.getNumConstraints())):\n",
    "        p1, p2, d = htf.hybrid_system.getConstraintParameters(i)\n",
    "        if p1 in hybrid_indices or p2 in hybrid_indices:\n",
    "            if htf.hybrid_system.getParticleMass(p1) == 0*unit.amu or htf.hybrid_system.getParticleMass(p2) == 0*unit.amu:\n",
    "                htf.hybrid_system.removeConstraint(i)\n",
    "    \n",
    "    # Run MD\n",
    "    context, thermodynamic_state = run_md(htf, endstate)\n",
    "    \n",
    "    # Create sampler state\n",
    "    sampler_state = SamplerState.from_context(context)\n",
    "    \n",
    "    # Compute current dihedral\n",
    "    if is_old:\n",
    "        dihedral = md.compute_dihedrals(md.Trajectory(np.array(htf.old_positions(htf.hybrid_positions)), \n",
    "                                                      md.Topology.from_openmm(htf._topology_proposal.old_topology)), \n",
    "                                        np.array([vanilla_indices]))[0][0]\n",
    "    else:\n",
    "        dihedral = md.compute_dihedrals(md.Trajectory(np.array(htf.new_positions(htf.hybrid_positions)), \n",
    "                                                      md.Topology.from_openmm(htf._topology_proposal.new_topology)), \n",
    "                                        np.array([vanilla_indices]))[0][0]\n",
    "    print(dihedral)\n",
    "    \n",
    "    # Run scan\n",
    "    d = {} # key : angle, value : energy\n",
    "    new_dihedral = dihedral + 0.262\n",
    "    positions_all = []\n",
    "    for i in range(25):\n",
    "        # Add correction if the angle is no longer in the domain of [-pi, pi]\n",
    "        if new_dihedral > math.pi: \n",
    "            new_dihedral = -math.pi + (new_dihedral - math.pi)\n",
    "        elif new_dihedral < -math.pi:\n",
    "            new_dihedral = math.pi + (new_dihedral + math.pi)\n",
    "        \n",
    "        print(thermodynamic_state.reduced_potential(context))\n",
    "        \n",
    "        # Apply rotation move\n",
    "        move = MCDihedralRotationMove2(hybrid_indices + other_indices, desired_angle=new_dihedral) # Rotate the sidechain by 15 degrees\n",
    "        move.apply(thermodynamic_state, sampler_state)\n",
    "        \n",
    "        sampler_state.apply_to_context(context)\n",
    "#         openmm.LocalEnergyMinimizer.minimize(context)\n",
    "        energy = thermodynamic_state.reduced_potential(context)\n",
    "        energies = [energy]\n",
    "#         sampler_state.update_from_context(context)\n",
    "        \n",
    "#         # Apply relaxation move 3x\n",
    "#         energies = []\n",
    "#         for i in range(3):\n",
    "#             relax_move = LangevinSplittingDynamicsMove(timestep=2.0*unit.femtoseconds, collision_rate=1.0/unit.picoseconds, n_steps=10000)\n",
    "#             relax_move.apply(thermodynamic_state, sampler_state)\n",
    "#             sampler_state.apply_to_context(context)\n",
    "#             energy = thermodynamic_state.reduced_potential(context)\n",
    "#             energies.append(energy)\n",
    "#             positions = sampler_state.positions\n",
    "\n",
    "    \n",
    "        d[new_dihedral] = (np.mean(energies), scipy.stats.sem(energies))\n",
    "        \n",
    "#         if is_old:\n",
    "#             positions_all.append(htf.old_positions(positions)/unit.nanometer) # get last positions from last relaxtion\n",
    "#         else:\n",
    "#             positions_all.append(htf.new_positions(positions)/unit.nanometer) # get last positions from last relaxtion\n",
    "        \n",
    "        # Increment dihedral angle by 15 degrees\n",
    "        new_dihedral += 0.262\n",
    "    \n",
    "    print(f\"raw d: {d}\")\n",
    "        \n",
    "#     # Write out pdb of positions\n",
    "#     if is_old:\n",
    "#         md.Trajectory(np.array(positions_all), md.Topology.from_openmm(htf._topology_proposal.old_topology)).save(\"traj.pdb\")\n",
    "#     else:\n",
    "#         md.Trajectory(np.array(positions_all), md.Topology.from_openmm(htf._topology_proposal.new_topology)).save(\"traj.pdb\")\n",
    "        \n",
    "    # Plot scan data\n",
    "    minimum = min([val[0] for val in list(d.values())])\n",
    "    print(f\"min: {minimum}\")\n",
    "    d_corrected = {}\n",
    "    for k, v in d.items():\n",
    "        d_corrected[k] = (v[0] - minimum, v[1])\n",
    "    print(f\"d corrected: {d_corrected}\")\n",
    "    plt.errorbar(list(d_corrected.keys()), [mean for mean, stderr in list(d_corrected.values())], yerr=[stderr for mean, stderr in list(d_corrected.values())], fmt='o')\n",
    "    plt.show()\n",
    "    \n",
    "    # Set masses back to normal\n",
    "    for index in hybrid_indices:\n",
    "        thermodynamic_state.system.setParticleMass(index, d_masses[index])\n",
    "    thermodynamic_state.apply_to_context(context)\n",
    "    \n",
    "    return d_corrected\n",
    "    \n",
    "    "
   ]
  },
  {
   "cell_type": "code",
   "execution_count": 6,
   "metadata": {},
   "outputs": [],
   "source": [
    "torsion_scans = []"
   ]
  },
  {
   "cell_type": "markdown",
   "metadata": {},
   "source": [
    "### Generate torsion scans for the vacuum htf with flattened torsions and exceptions: ALA->THR"
   ]
  },
  {
   "cell_type": "code",
   "execution_count": 5,
   "metadata": {
    "scrolled": false
   },
   "outputs": [],
   "source": [
    "outdir = \"/data/chodera/zhangi/perses_benchmark/neq/10/11/\"\n",
    "with open(os.path.join(outdir, \"11_vacuum.pickle\" ), \"rb\") as f:\n",
    "    htf_at = pickle.load(f)"
   ]
  },
  {
   "cell_type": "markdown",
   "metadata": {},
   "source": [
    "#### Look at hybrid and vanilla topologies to determine indices"
   ]
  },
  {
   "cell_type": "code",
   "execution_count": 6,
   "metadata": {},
   "outputs": [
    {
     "name": "stdout",
     "output_type": "stream",
     "text": [
      "ACE1-H1 0\n",
      "ACE1-CH3 1\n",
      "ACE1-H2 2\n",
      "ACE1-H3 3\n",
      "ACE1-C 4\n",
      "ACE1-O 5\n",
      "ALA2-N 6\n",
      "ALA2-H 7\n",
      "ALA2-CA 8\n",
      "ALA2-HA 9\n",
      "ALA2-CB 10\n",
      "ALA2-HB1 11\n",
      "ALA2-HB2 12\n",
      "ALA2-HB3 13\n",
      "ALA2-C 14\n",
      "ALA2-O 15\n",
      "ALA2-CB 22\n",
      "ALA2-HB 23\n",
      "ALA2-CG2 24\n",
      "ALA2-HG21 25\n",
      "ALA2-HG22 26\n",
      "ALA2-HG23 27\n",
      "ALA2-OG1 28\n",
      "ALA2-HG1 29\n",
      "NME3-N 16\n",
      "NME3-H 17\n",
      "NME3-C 18\n",
      "NME3-H1 19\n",
      "NME3-H2 20\n",
      "NME3-H3 21\n"
     ]
    }
   ],
   "source": [
    "for atom in htf_at.hybrid_topology.atoms:\n",
    "    print(atom, atom.index)"
   ]
  },
  {
   "cell_type": "code",
   "execution_count": 7,
   "metadata": {
    "scrolled": true
   },
   "outputs": [
    {
     "name": "stdout",
     "output_type": "stream",
     "text": [
      "<Atom 0 (H1) of chain 0 residue 0 (ACE)> 0\n",
      "<Atom 1 (CH3) of chain 0 residue 0 (ACE)> 1\n",
      "<Atom 2 (H2) of chain 0 residue 0 (ACE)> 2\n",
      "<Atom 3 (H3) of chain 0 residue 0 (ACE)> 3\n",
      "<Atom 4 (C) of chain 0 residue 0 (ACE)> 4\n",
      "<Atom 5 (O) of chain 0 residue 0 (ACE)> 5\n",
      "<Atom 6 (N) of chain 0 residue 1 (ALA)> 6\n",
      "<Atom 7 (H) of chain 0 residue 1 (ALA)> 7\n",
      "<Atom 8 (CA) of chain 0 residue 1 (ALA)> 8\n",
      "<Atom 9 (HA) of chain 0 residue 1 (ALA)> 9\n",
      "<Atom 10 (CB) of chain 0 residue 1 (ALA)> 10\n",
      "<Atom 11 (HB1) of chain 0 residue 1 (ALA)> 11\n",
      "<Atom 12 (HB2) of chain 0 residue 1 (ALA)> 12\n",
      "<Atom 13 (HB3) of chain 0 residue 1 (ALA)> 13\n",
      "<Atom 14 (C) of chain 0 residue 1 (ALA)> 14\n",
      "<Atom 15 (O) of chain 0 residue 1 (ALA)> 15\n",
      "<Atom 16 (N) of chain 0 residue 2 (NME)> 16\n",
      "<Atom 17 (H) of chain 0 residue 2 (NME)> 17\n",
      "<Atom 18 (C) of chain 0 residue 2 (NME)> 18\n",
      "<Atom 19 (H1) of chain 0 residue 2 (NME)> 19\n",
      "<Atom 20 (H2) of chain 0 residue 2 (NME)> 20\n",
      "<Atom 21 (H3) of chain 0 residue 2 (NME)> 21\n"
     ]
    }
   ],
   "source": [
    "for atom in htf_at._topology_proposal.old_topology.atoms():\n",
    "    print(atom, atom.index)"
   ]
  },
  {
   "cell_type": "code",
   "execution_count": 8,
   "metadata": {},
   "outputs": [
    {
     "name": "stdout",
     "output_type": "stream",
     "text": [
      "<Atom 0 (H1) of chain 0 residue 0 (ACE)> 0\n",
      "<Atom 1 (CH3) of chain 0 residue 0 (ACE)> 1\n",
      "<Atom 2 (H2) of chain 0 residue 0 (ACE)> 2\n",
      "<Atom 3 (H3) of chain 0 residue 0 (ACE)> 3\n",
      "<Atom 4 (C) of chain 0 residue 0 (ACE)> 4\n",
      "<Atom 5 (O) of chain 0 residue 0 (ACE)> 5\n",
      "<Atom 6 (N) of chain 0 residue 1 (THR)> 6\n",
      "<Atom 7 (H) of chain 0 residue 1 (THR)> 7\n",
      "<Atom 8 (CA) of chain 0 residue 1 (THR)> 8\n",
      "<Atom 9 (HA) of chain 0 residue 1 (THR)> 9\n",
      "<Atom 10 (CB) of chain 0 residue 1 (THR)> 10\n",
      "<Atom 11 (C) of chain 0 residue 1 (THR)> 11\n",
      "<Atom 12 (O) of chain 0 residue 1 (THR)> 12\n",
      "<Atom 13 (HB) of chain 0 residue 1 (THR)> 13\n",
      "<Atom 14 (CG2) of chain 0 residue 1 (THR)> 14\n",
      "<Atom 15 (HG21) of chain 0 residue 1 (THR)> 15\n",
      "<Atom 16 (HG22) of chain 0 residue 1 (THR)> 16\n",
      "<Atom 17 (HG23) of chain 0 residue 1 (THR)> 17\n",
      "<Atom 18 (OG1) of chain 0 residue 1 (THR)> 18\n",
      "<Atom 19 (HG1) of chain 0 residue 1 (THR)> 19\n",
      "<Atom 20 (N) of chain 0 residue 2 (NME)> 20\n",
      "<Atom 21 (H) of chain 0 residue 2 (NME)> 21\n",
      "<Atom 22 (C) of chain 0 residue 2 (NME)> 22\n",
      "<Atom 23 (H1) of chain 0 residue 2 (NME)> 23\n",
      "<Atom 24 (H2) of chain 0 residue 2 (NME)> 24\n",
      "<Atom 25 (H3) of chain 0 residue 2 (NME)> 25\n"
     ]
    }
   ],
   "source": [
    "for atom in htf_at._topology_proposal.new_topology.atoms():\n",
    "    print(atom, atom.index)"
   ]
  },
  {
   "cell_type": "code",
   "execution_count": 11,
   "metadata": {
    "scrolled": true
   },
   "outputs": [
    {
     "name": "stdout",
     "output_type": "stream",
     "text": [
      "-19.228879176511672\n"
     ]
    },
    {
     "name": "stderr",
     "output_type": "stream",
     "text": [
      "100%|██████████| 10000/10000 [00:02<00:00, 4677.42it/s]\n"
     ]
    },
    {
     "name": "stdout",
     "output_type": "stream",
     "text": [
      "1.0471988\n",
      "40.77770879299341\n"
     ]
    },
    {
     "name": "stderr",
     "output_type": "stream",
     "text": [
      "INFO:root:Rotating by 0.26199995022480693 radians\n",
      "/home/zhangi/miniconda3/envs/perses-sims-oct2020/lib/python3.7/site-packages/numpy/core/_methods.py:217: RuntimeWarning: Degrees of freedom <= 0 for slice\n",
      "  keepdims=keepdims)\n",
      "/home/zhangi/miniconda3/envs/perses-sims-oct2020/lib/python3.7/site-packages/numpy/core/_methods.py:209: RuntimeWarning: invalid value encountered in double_scalars\n",
      "  ret = ret.dtype.type(ret / rcount)\n",
      "INFO:root:Rotating by 0.2619999999999998 radians\n",
      "INFO:root:Rotating by 0.2619999999999998 radians\n",
      "INFO:root:Rotating by 0.26199999999999957 radians\n",
      "INFO:root:Rotating by 0.26200000000000045 radians\n",
      "INFO:root:Rotating by 0.262 radians\n",
      "INFO:root:Rotating by 0.26200000000000045 radians\n",
      "INFO:root:Rotating by -6.021185307179586 radians\n",
      "INFO:root:Rotating by 0.2620000000000111 radians\n",
      "INFO:root:Rotating by 0.2619999999999889 radians\n",
      "INFO:root:Rotating by 0.26199999999999957 radians\n",
      "INFO:root:Rotating by 0.262 radians\n",
      "INFO:root:Rotating by 0.262 radians\n",
      "INFO:root:Rotating by 0.262 radians\n",
      "INFO:root:Rotating by 0.2619999999999998 radians\n",
      "INFO:root:Rotating by 0.262 radians\n",
      "INFO:root:Rotating by 0.26200000000000023 radians\n",
      "INFO:root:Rotating by 0.26200000000000023 radians\n",
      "INFO:root:Rotating by 0.2619999999999999 radians\n",
      "INFO:root:Rotating by 0.26200000000000023 radians\n",
      "INFO:root:Rotating by 0.26200000000000323 radians\n",
      "INFO:root:Rotating by 0.2619999999999972 radians\n",
      "INFO:root:Rotating by 0.26199999999999946 radians\n",
      "INFO:root:Rotating by 0.2619999999999999 radians\n",
      "INFO:root:Rotating by 0.26200000000000045 radians\n"
     ]
    },
    {
     "name": "stdout",
     "output_type": "stream",
     "text": [
      "41.425618309060425\n",
      "43.10768013269991\n",
      "44.949453322297686\n",
      "45.892710180313095\n",
      "45.194597151448185\n",
      "43.233620158237024\n",
      "41.38497389511775\n",
      "40.78853962318024\n",
      "41.661438875418106\n",
      "43.400591488938254\n",
      "44.991554911483895\n",
      "45.55364574072023\n",
      "44.81462342813883\n",
      "43.25648837743973\n",
      "41.83800609571746\n",
      "41.447352492632234\n",
      "42.392428809889346\n",
      "44.20426777510704\n",
      "45.86048407475305\n",
      "46.353806027544294\n",
      "45.333221342114776\n",
      "43.35742036926635\n",
      "41.52070229840159\n",
      "40.776979251395154\n",
      "raw d: {1.30919877243042: (41.425618309060425, nan), 1.57119877243042: (43.10768013269991, nan), 1.83319877243042: (44.949453322297686, nan), 2.09519877243042: (45.892710180313095, nan), 2.35719877243042: (45.194597151448185, nan), 2.61919877243042: (43.233620158237024, nan), 2.88119877243042: (41.38497389511775, nan), -3.1399865347491662: (40.78853962318024, nan), -2.877986534749166: (41.661438875418106, nan), -2.615986534749166: (43.400591488938254, nan), -2.353986534749166: (44.991554911483895, nan), -2.091986534749166: (45.55364574072023, nan), -1.8299865347491662: (44.81462342813883, nan), -1.5679865347491662: (43.25648837743973, nan), -1.3059865347491662: (41.83800609571746, nan), -1.0439865347491661: (41.447352492632234, nan), -0.7819865347491661: (42.392428809889346, nan), -0.5199865347491661: (44.20426777510704, nan), -0.2579865347491661: (45.86048407475305, nan), 0.004013465250833903: (46.353806027544294, nan), 0.2660134652508339: (45.333221342114776, nan), 0.5280134652508339: (43.35742036926635, nan), 0.7900134652508339: (41.52070229840159, nan), 1.052013465250834: (40.776979251395154, nan), 1.314013465250834: (41.44933263280587, nan)}\n",
      "min: 40.776979251395154\n",
      "d corrected: {1.30919877243042: (0.648639057665271, nan), 1.57119877243042: (2.3307008813047574, nan), 1.83319877243042: (4.172474070902531, nan), 2.09519877243042: (5.115730928917941, nan), 2.35719877243042: (4.417617900053031, nan), 2.61919877243042: (2.4566409068418693, nan), 2.88119877243042: (0.6079946437225985, nan), -3.1399865347491662: (0.011560371785087398, nan), -2.877986534749166: (0.8844596240229521, nan), -2.615986534749166: (2.6236122375430995, nan), -2.353986534749166: (4.214575660088741, nan), -2.091986534749166: (4.776666489325073, nan), -1.8299865347491662: (4.037644176743676, nan), -1.5679865347491662: (2.479509126044576, nan), -1.3059865347491662: (1.0610268443223063, nan), -1.0439865347491661: (0.6703732412370798, nan), -0.7819865347491661: (1.6154495584941913, nan), -0.5199865347491661: (3.427288523711887, nan), -0.2579865347491661: (5.083504823357899, nan), 0.004013465250833903: (5.57682677614914, nan), 0.2660134652508339: (4.556242090719621, nan), 0.5280134652508339: (2.580441117871196, nan), 0.7900134652508339: (0.7437230470064335, nan), 1.052013465250834: (0.0, nan), 1.314013465250834: (0.6723533814107157, nan)}\n"
     ]
    },
    {
     "name": "stderr",
     "output_type": "stream",
     "text": [
      "/home/zhangi/miniconda3/envs/perses-sims-oct2020/lib/python3.7/site-packages/numpy/core/_asarray.py:85: UserWarning: Warning: converting a masked element to nan.\n",
      "  return array(a, dtype, copy=False, order=order)\n"
     ]
    },
    {
     "data": {
      "image/png": "[encoded data removed]",
      "text/plain": [
       "<Figure size 432x288 with 1 Axes>"
      ]
     },
     "metadata": {
      "needs_background": "light"
     },
     "output_type": "display_data"
    },
    {
     "data": {
      "text/plain": [
       "{1.30919877243042: (0.648639057665271, nan),\n",
       " 1.57119877243042: (2.3307008813047574, nan),\n",
       " 1.83319877243042: (4.172474070902531, nan),\n",
       " 2.09519877243042: (5.115730928917941, nan),\n",
       " 2.35719877243042: (4.417617900053031, nan),\n",
       " 2.61919877243042: (2.4566409068418693, nan),\n",
       " 2.88119877243042: (0.6079946437225985, nan),\n",
       " -3.1399865347491662: (0.011560371785087398, nan),\n",
       " -2.877986534749166: (0.8844596240229521, nan),\n",
       " -2.615986534749166: (2.6236122375430995, nan),\n",
       " -2.353986534749166: (4.214575660088741, nan),\n",
       " -2.091986534749166: (4.776666489325073, nan),\n",
       " -1.8299865347491662: (4.037644176743676, nan),\n",
       " -1.5679865347491662: (2.479509126044576, nan),\n",
       " -1.3059865347491662: (1.0610268443223063, nan),\n",
       " -1.0439865347491661: (0.6703732412370798, nan),\n",
       " -0.7819865347491661: (1.6154495584941913, nan),\n",
       " -0.5199865347491661: (3.427288523711887, nan),\n",
       " -0.2579865347491661: (5.083504823357899, nan),\n",
       " 0.004013465250833903: (5.57682677614914, nan),\n",
       " 0.2660134652508339: (4.556242090719621, nan),\n",
       " 0.5280134652508339: (2.580441117871196, nan),\n",
       " 0.7900134652508339: (0.7437230470064335, nan),\n",
       " 1.052013465250834: (0.0, nan),\n",
       " 1.314013465250834: (0.6723533814107157, nan)}"
      ]
     },
     "execution_count": 11,
     "metadata": {},
     "output_type": "execute_result"
    }
   ],
   "source": [
    "# ALA->THR -- ALA at lambda = 0\n",
    "run_torsion_scan(htf_at, 0, True, [6, 8, 10, 11], [6, 8, 10, 11], [12, 13])"
   ]
  },
  {
   "cell_type": "code",
   "execution_count": 9,
   "metadata": {
    "scrolled": true
   },
   "outputs": [
    {
     "name": "stdout",
     "output_type": "stream",
     "text": [
      "-19.228879223112582\n"
     ]
    },
    {
     "name": "stderr",
     "output_type": "stream",
     "text": [
      "100%|██████████| 10000/10000 [00:01<00:00, 5938.38it/s]\n"
     ]
    },
    {
     "name": "stdout",
     "output_type": "stream",
     "text": [
      "-1.1030046\n",
      "22.725697922767107\n"
     ]
    },
    {
     "name": "stderr",
     "output_type": "stream",
     "text": [
      "INFO:root:Rotating by 0.26200005126769343 radians\n",
      "/home/zhangi/miniconda3/envs/perses-sims-oct2020/lib/python3.7/site-packages/numpy/core/_methods.py:217: RuntimeWarning: Degrees of freedom <= 0 for slice\n",
      "  keepdims=keepdims)\n",
      "/home/zhangi/miniconda3/envs/perses-sims-oct2020/lib/python3.7/site-packages/numpy/core/_methods.py:209: RuntimeWarning: invalid value encountered in double_scalars\n",
      "  ret = ret.dtype.type(ret / rcount)\n",
      "INFO:root:Rotating by 0.26199999999999957 radians\n",
      "INFO:root:Rotating by 0.26200000000000023 radians\n",
      "INFO:root:Rotating by 0.26199999999999957 radians\n",
      "INFO:root:Rotating by 0.26199999999999796 radians\n",
      "INFO:root:Rotating by 0.2620000000000028 radians\n",
      "INFO:root:Rotating by 0.26199999999999957 radians\n",
      "INFO:root:Rotating by 0.2619999999999998 radians\n",
      "INFO:root:Rotating by 0.26200000000000023 radians\n",
      "INFO:root:Rotating by 0.2619999999999998 radians\n",
      "INFO:root:Rotating by 0.262 radians\n",
      "INFO:root:Rotating by 0.2619999999999998 radians\n",
      "INFO:root:Rotating by 0.26200000000000045 radians\n",
      "INFO:root:Rotating by 0.2619999999999991 radians\n",
      "INFO:root:Rotating by 0.2620000000000009 radians\n",
      "INFO:root:Rotating by 0.26199999999999957 radians\n",
      "INFO:root:Rotating by -6.021185307179587 radians\n",
      "INFO:root:Rotating by 0.2620000000000009 radians\n",
      "INFO:root:Rotating by 0.26200000000000045 radians\n",
      "INFO:root:Rotating by 0.26199999999999957 radians\n",
      "INFO:root:Rotating by 0.262 radians\n",
      "INFO:root:Rotating by 0.262 radians\n",
      "INFO:root:Rotating by 0.2619999999999998 radians\n",
      "INFO:root:Rotating by 0.26199999999999957 radians\n",
      "INFO:root:Rotating by 0.26199999999999957 radians\n",
      "/home/zhangi/miniconda3/envs/perses-sims-oct2020/lib/python3.7/site-packages/numpy/core/_asarray.py:85: UserWarning: Warning: converting a masked element to nan.\n",
      "  return array(a, dtype, copy=False, order=order)\n"
     ]
    },
    {
     "name": "stdout",
     "output_type": "stream",
     "text": [
      "22.7257160026606\n",
      "22.725713405657128\n",
      "22.72571265004132\n",
      "22.725709703279666\n",
      "22.72570527917009\n",
      "22.725696974210233\n",
      "22.72569798512058\n",
      "22.725705062426428\n",
      "22.72569534797939\n",
      "22.725694647156228\n",
      "22.72570753397621\n",
      "22.725681853959795\n",
      "22.725702143014427\n",
      "22.725712933338908\n",
      "22.72569742039227\n",
      "22.725703061141314\n",
      "22.725692992548954\n",
      "22.725715584481623\n",
      "22.72572047260185\n",
      "22.725694838137073\n",
      "22.7257008797032\n",
      "22.72570033271016\n",
      "22.72571989676566\n",
      "22.725710967150956\n",
      "raw d: {-0.8410045747756958: (22.7257160026606, nan), -0.5790045747756958: (22.725713405657128, nan), -0.31700457477569577: (22.72571265004132, nan), -0.05500457477569576: (22.725709703279666, nan), 0.20699542522430425: (22.72570527917009, nan), 0.46899542522430426: (22.725696974210233, nan), 0.7309954252243043: (22.72569798512058, nan), 0.9929954252243043: (22.725705062426428, nan), 1.2549954252243043: (22.72569534797939, nan), 1.5169954252243043: (22.725694647156228, nan), 1.7789954252243043: (22.72570753397621, nan), 2.0409954252243043: (22.725681853959795, nan), 2.3029954252243043: (22.725702143014427, nan), 2.5649954252243043: (22.725712933338908, nan), 2.8269954252243044: (22.72569742039227, nan), 3.0889954252243044: (22.725703061141314, nan), -2.932189881955282: (22.725692992548954, nan), -2.670189881955282: (22.725715584481623, nan), -2.408189881955282: (22.72572047260185, nan), -2.146189881955282: (22.725694838137073, nan), -1.8841898819552818: (22.7257008797032, nan), -1.6221898819552818: (22.72570033271016, nan), -1.3601898819552818: (22.72571989676566, nan), -1.0981898819552818: (22.725710967150956, nan), -0.8361898819552818: (22.725703645471764, nan)}\n",
      "min: 22.725681853959795\n",
      "d corrected: {-0.8410045747756958: (3.414870080575838e-05, nan), -0.5790045747756958: (3.1551697333043194e-05, nan), -0.31700457477569577: (3.0796081524897545e-05, nan), -0.05500457477569576: (2.78493198706542e-05, nan), 0.20699542522430425: (2.342521029419231e-05, nan), 0.46899542522430426: (1.512025043837184e-05, nan), 0.7309954252243043: (1.6131160784027543e-05, nan), 0.9929954252243043: (2.3208466632951286e-05, nan), 1.2549954252243043: (1.349401959416241e-05, nan), 1.5169954252243043: (1.2793196432880904e-05, nan), 1.7789954252243043: (2.5680016413787143e-05, nan), 2.0409954252243043: (0.0, nan), 2.3029954252243043: (2.028905463191677e-05, nan), 2.5649954252243043: (3.1079379112952665e-05, nan), 2.8269954252243044: (1.5566432473690384e-05, nan), 3.0889954252243044: (2.120718151843448e-05, nan), -2.932189881955282: (1.1138589158576906e-05, nan), -2.670189881955282: (3.373052182809033e-05, nan), -2.408189881955282: (3.861864205489951e-05, nan), -2.146189881955282: (1.2984177278241305e-05, nan), -1.8841898819552818: (1.9025743405620688e-05, nan), -1.6221898819552818: (1.847875036631308e-05, nan), -1.3601898819552818: (3.804280586550135e-05, nan), -1.0981898819552818: (2.9113191160945462e-05, nan), -0.8361898819552818: (2.1791511969126987e-05, nan)}\n"
     ]
    },
    {
     "data": {
      "image/png": "[encoded data removed]",
      "text/plain": [
       "<Figure size 432x288 with 1 Axes>"
      ]
     },
     "metadata": {
      "needs_background": "light"
     },
     "output_type": "display_data"
    },
    {
     "data": {
      "text/plain": [
       "{-0.8410045747756958: (3.414870080575838e-05, nan),\n",
       " -0.5790045747756958: (3.1551697333043194e-05, nan),\n",
       " -0.31700457477569577: (3.0796081524897545e-05, nan),\n",
       " -0.05500457477569576: (2.78493198706542e-05, nan),\n",
       " 0.20699542522430425: (2.342521029419231e-05, nan),\n",
       " 0.46899542522430426: (1.512025043837184e-05, nan),\n",
       " 0.7309954252243043: (1.6131160784027543e-05, nan),\n",
       " 0.9929954252243043: (2.3208466632951286e-05, nan),\n",
       " 1.2549954252243043: (1.349401959416241e-05, nan),\n",
       " 1.5169954252243043: (1.2793196432880904e-05, nan),\n",
       " 1.7789954252243043: (2.5680016413787143e-05, nan),\n",
       " 2.0409954252243043: (0.0, nan),\n",
       " 2.3029954252243043: (2.028905463191677e-05, nan),\n",
       " 2.5649954252243043: (3.1079379112952665e-05, nan),\n",
       " 2.8269954252243044: (1.5566432473690384e-05, nan),\n",
       " 3.0889954252243044: (2.120718151843448e-05, nan),\n",
       " -2.932189881955282: (1.1138589158576906e-05, nan),\n",
       " -2.670189881955282: (3.373052182809033e-05, nan),\n",
       " -2.408189881955282: (3.861864205489951e-05, nan),\n",
       " -2.146189881955282: (1.2984177278241305e-05, nan),\n",
       " -1.8841898819552818: (1.9025743405620688e-05, nan),\n",
       " -1.6221898819552818: (1.847875036631308e-05, nan),\n",
       " -1.3601898819552818: (3.804280586550135e-05, nan),\n",
       " -1.0981898819552818: (2.9113191160945462e-05, nan),\n",
       " -0.8361898819552818: (2.1791511969126987e-05, nan)}"
      ]
     },
     "execution_count": 9,
     "metadata": {},
     "output_type": "execute_result"
    }
   ],
   "source": [
    "# ALA->THR -- THR at lambda = 0\n",
    "run_torsion_scan(htf_at, 0, False, [6, 8, 22, 28], [6, 8, 10, 18], [23, 24, 25, 26, 27, 29])\n"
   ]
  },
  {
   "cell_type": "code",
   "execution_count": 10,
   "metadata": {
    "scrolled": true
   },
   "outputs": [
    {
     "name": "stderr",
     "output_type": "stream",
     "text": [
      "\r",
      "  0%|          | 0/10000 [00:00<?, ?it/s]"
     ]
    },
    {
     "name": "stdout",
     "output_type": "stream",
     "text": [
      "198.21344570326875\n"
     ]
    },
    {
     "name": "stderr",
     "output_type": "stream",
     "text": [
      "100%|██████████| 10000/10000 [00:01<00:00, 5959.31it/s]\n",
      "INFO:root:Rotating by 0.26200005126769343 radians\n",
      "INFO:root:Rotating by 0.26199999999999957 radians\n",
      "INFO:root:Rotating by 0.26200000000000023 radians\n",
      "INFO:root:Rotating by 0.26199999999999957 radians\n",
      "INFO:root:Rotating by 0.26199999999999796 radians\n",
      "INFO:root:Rotating by 0.2620000000000028 radians\n",
      "INFO:root:Rotating by 0.26199999999999957 radians\n",
      "INFO:root:Rotating by 0.2619999999999998 radians\n",
      "INFO:root:Rotating by 0.26200000000000023 radians\n",
      "INFO:root:Rotating by 0.2619999999999998 radians\n",
      "INFO:root:Rotating by 0.262 radians\n",
      "INFO:root:Rotating by 0.2619999999999998 radians\n",
      "INFO:root:Rotating by 0.26200000000000045 radians\n",
      "INFO:root:Rotating by 0.2619999999999991 radians\n",
      "INFO:root:Rotating by 0.2620000000000009 radians\n",
      "INFO:root:Rotating by 0.26199999999999957 radians\n",
      "INFO:root:Rotating by -6.021185307179587 radians\n",
      "INFO:root:Rotating by 0.2620000000000009 radians\n",
      "INFO:root:Rotating by 0.26200000000000045 radians\n",
      "INFO:root:Rotating by 0.26199999999999957 radians\n",
      "INFO:root:Rotating by 0.262 radians\n",
      "INFO:root:Rotating by 0.262 radians\n",
      "INFO:root:Rotating by 0.2619999999999998 radians\n",
      "INFO:root:Rotating by 0.26199999999999957 radians\n",
      "INFO:root:Rotating by 0.26199999999999957 radians\n"
     ]
    },
    {
     "name": "stdout",
     "output_type": "stream",
     "text": [
      "-1.1030046\n",
      "26.356732586735607\n",
      "23.6684427319238\n",
      "27.543927659093068\n",
      "33.15041198687355\n",
      "37.57545517539585\n",
      "39.01299820802611\n",
      "37.93109134183165\n",
      "36.76016936489496\n",
      "38.95698256477873\n",
      "49.78792858734592\n",
      "77.49806510763179\n",
      "120.8665574835649\n",
      "142.1267146382804\n",
      "113.05328910216993\n",
      "70.25338187540218\n",
      "42.821528894144556\n",
      "30.596574191219204\n",
      "30.800406893149187\n",
      "42.28943180969425\n",
      "67.24599183466897\n",
      "144.74365245333672\n",
      "289.93559546631707\n",
      "194.40327347410093\n",
      "57.50591733628412\n",
      "26.17690238071477\n",
      "raw d: {-0.8410045747756958: (23.6684427319238, nan), -0.5790045747756958: (27.543927659093068, nan), -0.31700457477569577: (33.15041198687355, nan), -0.05500457477569576: (37.57545517539585, nan), 0.20699542522430425: (39.01299820802611, nan), 0.46899542522430426: (37.93109134183165, nan), 0.7309954252243043: (36.76016936489496, nan), 0.9929954252243043: (38.95698256477873, nan), 1.2549954252243043: (49.78792858734592, nan), 1.5169954252243043: (77.49806510763179, nan), 1.7789954252243043: (120.8665574835649, nan), 2.0409954252243043: (142.1267146382804, nan), 2.3029954252243043: (113.05328910216993, nan), 2.5649954252243043: (70.25338187540218, nan), 2.8269954252243044: (42.821528894144556, nan), 3.0889954252243044: (30.596574191219204, nan), -2.932189881955282: (30.800406893149187, nan), -2.670189881955282: (42.28943180969425, nan), -2.408189881955282: (67.24599183466897, nan), -2.146189881955282: (144.74365245333672, nan), -1.8841898819552818: (289.93559546631707, nan), -1.6221898819552818: (194.40327347410093, nan), -1.3601898819552818: (57.50591733628412, nan), -1.0981898819552818: (26.17690238071477, nan), -0.8361898819552818: (23.703303014252246, nan)}\n",
      "min: 23.6684427319238\n",
      "d corrected: {-0.8410045747756958: (0.0, nan), -0.5790045747756958: (3.8754849271692677, nan), -0.31700457477569577: (9.48196925494975, nan), -0.05500457477569576: (13.907012443472052, nan), 0.20699542522430425: (15.344555476102311, nan), 0.46899542522430426: (14.262648609907853, nan), 0.7309954252243043: (13.091726632971163, nan), 0.9929954252243043: (15.288539832854926, nan), 1.2549954252243043: (26.119485855422116, nan), 1.5169954252243043: (53.829622375707984, nan), 1.7789954252243043: (97.1981147516411, nan), 2.0409954252243043: (118.45827190635659, nan), 2.3029954252243043: (89.38484637024612, nan), 2.5649954252243043: (46.58493914347838, nan), 2.8269954252243044: (19.153086162220756, nan), 3.0889954252243044: (6.928131459295404, nan), -2.932189881955282: (7.131964161225387, nan), -2.670189881955282: (18.62098907777045, nan), -2.408189881955282: (43.57754910274517, nan), -2.146189881955282: (121.07520972141292, nan), -1.8841898819552818: (266.2671527343933, nan), -1.6221898819552818: (170.73483074217714, nan), -1.3601898819552818: (33.837474604360324, nan), -1.0981898819552818: (2.508459648790968, nan), -0.8361898819552818: (0.03486028232844518, nan)}\n"
     ]
    },
    {
     "data": {
      "image/png": "[encoded data removed]",
      "text/plain": [
       "<Figure size 432x288 with 1 Axes>"
      ]
     },
     "metadata": {
      "needs_background": "light"
     },
     "output_type": "display_data"
    },
    {
     "data": {
      "text/plain": [
       "{-0.8410045747756958: (0.0, nan),\n",
       " -0.5790045747756958: (3.8754849271692677, nan),\n",
       " -0.31700457477569577: (9.48196925494975, nan),\n",
       " -0.05500457477569576: (13.907012443472052, nan),\n",
       " 0.20699542522430425: (15.344555476102311, nan),\n",
       " 0.46899542522430426: (14.262648609907853, nan),\n",
       " 0.7309954252243043: (13.091726632971163, nan),\n",
       " 0.9929954252243043: (15.288539832854926, nan),\n",
       " 1.2549954252243043: (26.119485855422116, nan),\n",
       " 1.5169954252243043: (53.829622375707984, nan),\n",
       " 1.7789954252243043: (97.1981147516411, nan),\n",
       " 2.0409954252243043: (118.45827190635659, nan),\n",
       " 2.3029954252243043: (89.38484637024612, nan),\n",
       " 2.5649954252243043: (46.58493914347838, nan),\n",
       " 2.8269954252243044: (19.153086162220756, nan),\n",
       " 3.0889954252243044: (6.928131459295404, nan),\n",
       " -2.932189881955282: (7.131964161225387, nan),\n",
       " -2.670189881955282: (18.62098907777045, nan),\n",
       " -2.408189881955282: (43.57754910274517, nan),\n",
       " -2.146189881955282: (121.07520972141292, nan),\n",
       " -1.8841898819552818: (266.2671527343933, nan),\n",
       " -1.6221898819552818: (170.73483074217714, nan),\n",
       " -1.3601898819552818: (33.837474604360324, nan),\n",
       " -1.0981898819552818: (2.508459648790968, nan),\n",
       " -0.8361898819552818: (0.03486028232844518, nan)}"
      ]
     },
     "execution_count": 10,
     "metadata": {},
     "output_type": "execute_result"
    }
   ],
   "source": [
    "# ALA->THR -- THR at lambda = 1\n",
    "run_torsion_scan(htf_at, 1, False, [6, 8, 22, 28], [6, 8, 10, 18], [23, 24, 25, 26, 27, 29])"
   ]
  },
  {
   "cell_type": "code",
   "execution_count": 11,
   "metadata": {
    "scrolled": true
   },
   "outputs": [
    {
     "name": "stderr",
     "output_type": "stream",
     "text": [
      "\r",
      "  0%|          | 0/10000 [00:00<?, ?it/s]"
     ]
    },
    {
     "name": "stdout",
     "output_type": "stream",
     "text": [
      "198.21344570326875\n"
     ]
    },
    {
     "name": "stderr",
     "output_type": "stream",
     "text": [
      "100%|██████████| 10000/10000 [00:01<00:00, 5907.88it/s]\n"
     ]
    },
    {
     "name": "stdout",
     "output_type": "stream",
     "text": [
      "1.0471988\n",
      "87.48689510311038\n"
     ]
    },
    {
     "name": "stderr",
     "output_type": "stream",
     "text": [
      "INFO:root:Rotating by 0.26199995022480693 radians\n",
      "INFO:root:Rotating by 0.2619999999999998 radians\n",
      "INFO:root:Rotating by 0.2619999999999998 radians\n",
      "INFO:root:Rotating by 0.26199999999999957 radians\n",
      "INFO:root:Rotating by 0.26200000000000045 radians\n",
      "INFO:root:Rotating by 0.262 radians\n",
      "INFO:root:Rotating by 0.26200000000000045 radians\n",
      "INFO:root:Rotating by -6.021185307179586 radians\n",
      "INFO:root:Rotating by 0.2620000000000111 radians\n",
      "INFO:root:Rotating by 0.2619999999999889 radians\n",
      "INFO:root:Rotating by 0.26199999999999957 radians\n",
      "INFO:root:Rotating by 0.262 radians\n",
      "INFO:root:Rotating by 0.262 radians\n",
      "INFO:root:Rotating by 0.262 radians\n",
      "INFO:root:Rotating by 0.2619999999999998 radians\n",
      "INFO:root:Rotating by 0.262 radians\n",
      "INFO:root:Rotating by 0.26200000000000023 radians\n",
      "INFO:root:Rotating by 0.26200000000000023 radians\n",
      "INFO:root:Rotating by 0.2619999999999999 radians\n",
      "INFO:root:Rotating by 0.26200000000000023 radians\n",
      "INFO:root:Rotating by 0.26200000000000323 radians\n",
      "INFO:root:Rotating by 0.2619999999999972 radians\n",
      "INFO:root:Rotating by 0.26199999999999946 radians\n",
      "INFO:root:Rotating by 0.2619999999999999 radians\n",
      "INFO:root:Rotating by 0.26200000000000045 radians\n"
     ]
    },
    {
     "name": "stdout",
     "output_type": "stream",
     "text": [
      "87.48689062650203\n",
      "87.48689319120867\n",
      "87.48689069037164\n",
      "87.48689062652468\n",
      "87.48689247463307\n",
      "87.48689116831551\n",
      "87.4868929525519\n",
      "87.4868941951659\n",
      "87.48689295257695\n",
      "87.48689413138725\n",
      "87.486897094484\n",
      "87.486897094484\n",
      "87.48689703066208\n",
      "87.48689832104294\n",
      "87.48690217608272\n",
      "87.48690088572451\n",
      "87.48689832099527\n",
      "87.4868954217681\n",
      "87.4868979864318\n",
      "87.48690174590213\n",
      "87.48689241085683\n",
      "87.4868963297531\n",
      "87.48689075406449\n",
      "87.48689193293798\n",
      "raw d: {1.30919877243042: (87.48689062650203, nan), 1.57119877243042: (87.48689319120867, nan), 1.83319877243042: (87.48689069037164, nan), 2.09519877243042: (87.48689062652468, nan), 2.35719877243042: (87.48689247463307, nan), 2.61919877243042: (87.48689116831551, nan), 2.88119877243042: (87.4868929525519, nan), -3.1399865347491662: (87.4868941951659, nan), -2.877986534749166: (87.48689295257695, nan), -2.615986534749166: (87.48689413138725, nan), -2.353986534749166: (87.486897094484, nan), -2.091986534749166: (87.486897094484, nan), -1.8299865347491662: (87.48689703066208, nan), -1.5679865347491662: (87.48689832104294, nan), -1.3059865347491662: (87.48690217608272, nan), -1.0439865347491661: (87.48690088572451, nan), -0.7819865347491661: (87.48689832099527, nan), -0.5199865347491661: (87.4868954217681, nan), -0.2579865347491661: (87.4868979864318, nan), 0.004013465250833903: (87.48690174590213, nan), 0.2660134652508339: (87.48689241085683, nan), 0.5280134652508339: (87.4868963297531, nan), 0.7900134652508339: (87.48689075406449, nan), 1.052013465250834: (87.48689193293798, nan), 1.314013465250834: (87.48688957532248, nan)}\n",
      "min: 87.48688957532248\n",
      "d corrected: {1.30919877243042: (1.0511795522916145e-06, nan), 1.57119877243042: (3.6158861860258185e-06, nan), 1.83319877243042: (1.1150491587841316e-06, nan), 2.09519877243042: (1.0512022043940306e-06, nan), 2.35719877243042: (2.899310587167747e-06, nan), 2.61919877243042: (1.592993029930767e-06, nan), 2.88119877243042: (3.3772294187883745e-06, nan), -3.1399865347491662: (4.619843423370185e-06, nan), -2.877986534749166: (3.3772544725252374e-06, nan), -2.615986534749166: (4.556064766347845e-06, nan), -2.353986534749166: (7.519161513869221e-06, nan), -2.091986534749166: (7.519161513869221e-06, nan), -1.8299865347491662: (7.4553395990051285e-06, nan), -1.5679865347491662: (8.745720464276019e-06, nan), -1.3059865347491662: (1.260076024323098e-05, nan), -1.0439865347491661: (1.1310402030062505e-05, nan), -0.7819865347491661: (8.74567278685845e-06, nan), -0.5199865347491661: (5.8464456174078805e-06, nan), -0.2579865347491661: (8.41110932014999e-06, nan), 0.004013465250833903: (1.2170579651638036e-05, nan), 0.2660134652508339: (2.835534345990709e-06, nan), 0.5280134652508339: (6.7544306148192845e-06, nan), 0.7900134652508339: (1.178742010665701e-06, nan), 1.052013465250834: (2.357615500159227e-06, nan), 1.314013465250834: (0.0, nan)}\n"
     ]
    },
    {
     "data": {
      "image/png": "[encoded data removed]",
      "text/plain": [
       "<Figure size 432x288 with 1 Axes>"
      ]
     },
     "metadata": {
      "needs_background": "light"
     },
     "output_type": "display_data"
    },
    {
     "data": {
      "text/plain": [
       "{1.30919877243042: (1.0511795522916145e-06, nan),\n",
       " 1.57119877243042: (3.6158861860258185e-06, nan),\n",
       " 1.83319877243042: (1.1150491587841316e-06, nan),\n",
       " 2.09519877243042: (1.0512022043940306e-06, nan),\n",
       " 2.35719877243042: (2.899310587167747e-06, nan),\n",
       " 2.61919877243042: (1.592993029930767e-06, nan),\n",
       " 2.88119877243042: (3.3772294187883745e-06, nan),\n",
       " -3.1399865347491662: (4.619843423370185e-06, nan),\n",
       " -2.877986534749166: (3.3772544725252374e-06, nan),\n",
       " -2.615986534749166: (4.556064766347845e-06, nan),\n",
       " -2.353986534749166: (7.519161513869221e-06, nan),\n",
       " -2.091986534749166: (7.519161513869221e-06, nan),\n",
       " -1.8299865347491662: (7.4553395990051285e-06, nan),\n",
       " -1.5679865347491662: (8.745720464276019e-06, nan),\n",
       " -1.3059865347491662: (1.260076024323098e-05, nan),\n",
       " -1.0439865347491661: (1.1310402030062505e-05, nan),\n",
       " -0.7819865347491661: (8.74567278685845e-06, nan),\n",
       " -0.5199865347491661: (5.8464456174078805e-06, nan),\n",
       " -0.2579865347491661: (8.41110932014999e-06, nan),\n",
       " 0.004013465250833903: (1.2170579651638036e-05, nan),\n",
       " 0.2660134652508339: (2.835534345990709e-06, nan),\n",
       " 0.5280134652508339: (6.7544306148192845e-06, nan),\n",
       " 0.7900134652508339: (1.178742010665701e-06, nan),\n",
       " 1.052013465250834: (2.357615500159227e-06, nan),\n",
       " 1.314013465250834: (0.0, nan)}"
      ]
     },
     "execution_count": 11,
     "metadata": {},
     "output_type": "execute_result"
    }
   ],
   "source": [
    "# ALA->THR -- ALA at lambda = 1\n",
    "run_torsion_scan(htf_at, 1, True, [6, 8, 10, 11], [6, 8, 10, 11], [12, 13])"
   ]
  },
  {
   "cell_type": "markdown",
   "metadata": {},
   "source": [
    "### Generate torsion scans for the vacuum htf with flattened torsions and exceptions: THR->ALA"
   ]
  },
  {
   "cell_type": "code",
   "execution_count": 18,
   "metadata": {},
   "outputs": [],
   "source": [
    "outdir = \"/data/chodera/zhangi/perses_benchmark/neq/10/12/\"\n",
    "with open(os.path.join(outdir, \"12_vacuum.pickle\" ), \"rb\") as f:\n",
    "    htf_ta = pickle.load(f)\n"
   ]
  },
  {
   "cell_type": "markdown",
   "metadata": {},
   "source": [
    "#### Look at hybrid topology to determine indices"
   ]
  },
  {
   "cell_type": "code",
   "execution_count": 13,
   "metadata": {},
   "outputs": [
    {
     "name": "stdout",
     "output_type": "stream",
     "text": [
      "ACE1-H1 0\n",
      "ACE1-CH3 1\n",
      "ACE1-H2 2\n",
      "ACE1-H3 3\n",
      "ACE1-C 4\n",
      "ACE1-O 5\n",
      "THR2-N 6\n",
      "THR2-H 7\n",
      "THR2-CA 8\n",
      "THR2-HA 9\n",
      "THR2-CB 10\n",
      "THR2-C 11\n",
      "THR2-O 12\n",
      "THR2-HB 13\n",
      "THR2-CG2 14\n",
      "THR2-HG21 15\n",
      "THR2-HG22 16\n",
      "THR2-HG23 17\n",
      "THR2-OG1 18\n",
      "THR2-HG1 19\n",
      "THR2-CB 26\n",
      "THR2-HB1 27\n",
      "THR2-HB2 28\n",
      "THR2-HB3 29\n",
      "NME3-N 20\n",
      "NME3-H 21\n",
      "NME3-C 22\n",
      "NME3-H1 23\n",
      "NME3-H2 24\n",
      "NME3-H3 25\n"
     ]
    }
   ],
   "source": [
    "for atom in htf_ta.hybrid_topology.atoms:\n",
    "    print(atom, atom.index)"
   ]
  },
  {
   "cell_type": "code",
   "execution_count": 14,
   "metadata": {},
   "outputs": [
    {
     "name": "stdout",
     "output_type": "stream",
     "text": [
      "<Atom 0 (H1) of chain 0 residue 0 (ACE)> 0\n",
      "<Atom 1 (CH3) of chain 0 residue 0 (ACE)> 1\n",
      "<Atom 2 (H2) of chain 0 residue 0 (ACE)> 2\n",
      "<Atom 3 (H3) of chain 0 residue 0 (ACE)> 3\n",
      "<Atom 4 (C) of chain 0 residue 0 (ACE)> 4\n",
      "<Atom 5 (O) of chain 0 residue 0 (ACE)> 5\n",
      "<Atom 6 (N) of chain 0 residue 1 (THR)> 6\n",
      "<Atom 7 (H) of chain 0 residue 1 (THR)> 7\n",
      "<Atom 8 (CA) of chain 0 residue 1 (THR)> 8\n",
      "<Atom 9 (HA) of chain 0 residue 1 (THR)> 9\n",
      "<Atom 10 (CB) of chain 0 residue 1 (THR)> 10\n",
      "<Atom 11 (C) of chain 0 residue 1 (THR)> 11\n",
      "<Atom 12 (O) of chain 0 residue 1 (THR)> 12\n",
      "<Atom 13 (HB) of chain 0 residue 1 (THR)> 13\n",
      "<Atom 14 (CG2) of chain 0 residue 1 (THR)> 14\n",
      "<Atom 15 (HG21) of chain 0 residue 1 (THR)> 15\n",
      "<Atom 16 (HG22) of chain 0 residue 1 (THR)> 16\n",
      "<Atom 17 (HG23) of chain 0 residue 1 (THR)> 17\n",
      "<Atom 18 (OG1) of chain 0 residue 1 (THR)> 18\n",
      "<Atom 19 (HG1) of chain 0 residue 1 (THR)> 19\n",
      "<Atom 20 (N) of chain 0 residue 2 (NME)> 20\n",
      "<Atom 21 (H) of chain 0 residue 2 (NME)> 21\n",
      "<Atom 22 (C) of chain 0 residue 2 (NME)> 22\n",
      "<Atom 23 (H1) of chain 0 residue 2 (NME)> 23\n",
      "<Atom 24 (H2) of chain 0 residue 2 (NME)> 24\n",
      "<Atom 25 (H3) of chain 0 residue 2 (NME)> 25\n"
     ]
    }
   ],
   "source": [
    "for atom in htf_ta._topology_proposal.old_topology.atoms():\n",
    "    print(atom, atom.index)"
   ]
  },
  {
   "cell_type": "code",
   "execution_count": 15,
   "metadata": {
    "scrolled": true
   },
   "outputs": [
    {
     "name": "stdout",
     "output_type": "stream",
     "text": [
      "<Atom 0 (H1) of chain 0 residue 0 (ACE)> 0\n",
      "<Atom 1 (CH3) of chain 0 residue 0 (ACE)> 1\n",
      "<Atom 2 (H2) of chain 0 residue 0 (ACE)> 2\n",
      "<Atom 3 (H3) of chain 0 residue 0 (ACE)> 3\n",
      "<Atom 4 (C) of chain 0 residue 0 (ACE)> 4\n",
      "<Atom 5 (O) of chain 0 residue 0 (ACE)> 5\n",
      "<Atom 6 (N) of chain 0 residue 1 (ALA)> 6\n",
      "<Atom 7 (H) of chain 0 residue 1 (ALA)> 7\n",
      "<Atom 8 (CA) of chain 0 residue 1 (ALA)> 8\n",
      "<Atom 9 (HA) of chain 0 residue 1 (ALA)> 9\n",
      "<Atom 10 (CB) of chain 0 residue 1 (ALA)> 10\n",
      "<Atom 11 (C) of chain 0 residue 1 (ALA)> 11\n",
      "<Atom 12 (O) of chain 0 residue 1 (ALA)> 12\n",
      "<Atom 13 (HB1) of chain 0 residue 1 (ALA)> 13\n",
      "<Atom 14 (HB2) of chain 0 residue 1 (ALA)> 14\n",
      "<Atom 15 (HB3) of chain 0 residue 1 (ALA)> 15\n",
      "<Atom 16 (N) of chain 0 residue 2 (NME)> 16\n",
      "<Atom 17 (H) of chain 0 residue 2 (NME)> 17\n",
      "<Atom 18 (C) of chain 0 residue 2 (NME)> 18\n",
      "<Atom 19 (H1) of chain 0 residue 2 (NME)> 19\n",
      "<Atom 20 (H2) of chain 0 residue 2 (NME)> 20\n",
      "<Atom 21 (H3) of chain 0 residue 2 (NME)> 21\n"
     ]
    }
   ],
   "source": [
    "for atom in htf_ta._topology_proposal.new_topology.atoms():\n",
    "    print(atom, atom.index)"
   ]
  },
  {
   "cell_type": "code",
   "execution_count": 16,
   "metadata": {
    "scrolled": true
   },
   "outputs": [
    {
     "name": "stderr",
     "output_type": "stream",
     "text": [
      "\r",
      "  0%|          | 0/10000 [00:00<?, ?it/s]"
     ]
    },
    {
     "name": "stdout",
     "output_type": "stream",
     "text": [
      "-45.19714800310993\n"
     ]
    },
    {
     "name": "stderr",
     "output_type": "stream",
     "text": [
      "100%|██████████| 10000/10000 [00:01<00:00, 5879.54it/s]\n"
     ]
    },
    {
     "name": "stdout",
     "output_type": "stream",
     "text": [
      "3.0743732\n",
      "7.950733526450375\n"
     ]
    },
    {
     "name": "stderr",
     "output_type": "stream",
     "text": [
      "INFO:root:Rotating by -6.021185302286687 radians\n",
      "INFO:root:Rotating by 0.2620000000000027 radians\n",
      "INFO:root:Rotating by 0.26200000000000045 radians\n",
      "INFO:root:Rotating by 0.262 radians\n",
      "INFO:root:Rotating by 0.262 radians\n",
      "INFO:root:Rotating by 0.26199999999999957 radians\n",
      "INFO:root:Rotating by 0.2619999999999998 radians\n",
      "INFO:root:Rotating by 0.2619999999999998 radians\n",
      "INFO:root:Rotating by 0.2619999999999998 radians\n",
      "INFO:root:Rotating by 0.262 radians\n",
      "INFO:root:Rotating by 0.26200000000000034 radians\n",
      "INFO:root:Rotating by 0.26199999999999946 radians\n",
      "INFO:root:Rotating by 0.26199999999999846 radians\n",
      "INFO:root:Rotating by 0.2620000000000029 radians\n",
      "INFO:root:Rotating by 0.26199999999999896 radians\n",
      "INFO:root:Rotating by 0.2620000000000001 radians\n",
      "INFO:root:Rotating by 0.2619999999999997 radians\n",
      "INFO:root:Rotating by 0.2619999999999998 radians\n",
      "INFO:root:Rotating by 0.26199999999999934 radians\n",
      "INFO:root:Rotating by 0.262 radians\n",
      "INFO:root:Rotating by 0.26199999999999957 radians\n",
      "INFO:root:Rotating by 0.26200000000000045 radians\n",
      "INFO:root:Rotating by 0.26200000000000045 radians\n",
      "INFO:root:Rotating by 0.26199999999999957 radians\n",
      "INFO:root:Rotating by -6.021185307179584 radians\n"
     ]
    },
    {
     "name": "stdout",
     "output_type": "stream",
     "text": [
      "7.5474321632569135\n",
      "10.701366166522924\n",
      "16.084149289559765\n",
      "21.775192418336772\n",
      "26.37737357616488\n",
      "29.614800790725873\n",
      "32.32820430813052\n",
      "35.271119910227895\n",
      "38.39060408565915\n",
      "41.54582975826447\n",
      "44.07069748683491\n",
      "44.621100754407\n",
      "42.21667655511241\n",
      "37.54744764612958\n",
      "32.458532698883936\n",
      "28.518200115866907\n",
      "26.67869098347626\n",
      "26.27003350336004\n",
      "25.698557246115378\n",
      "24.362135749955552\n",
      "21.374799107504252\n",
      "16.75066849284606\n",
      "11.568923599136415\n",
      "7.910055698705816\n",
      "raw d: {-2.9468120619403284: (7.5474321632569135, nan), -2.6848120619403284: (10.701366166522924, nan), -2.4228120619403284: (16.084149289559765, nan), -2.1608120619403284: (21.775192418336772, nan), -1.8988120619403284: (26.37737357616488, nan), -1.6368120619403284: (29.614800790725873, nan), -1.3748120619403283: (32.32820430813052, nan), -1.1128120619403283: (35.271119910227895, nan), -0.8508120619403283: (38.39060408565915, nan), -0.5888120619403283: (41.54582975826447, nan), -0.3268120619403283: (44.07069748683491, nan), -0.06481206194032829: (44.621100754407, nan), 0.19718793805967172: (42.21667655511241, nan), 0.45918793805967173: (37.54744764612958, nan), 0.7211879380596717: (32.458532698883936, nan), 0.9831879380596718: (28.518200115866907, nan), 1.2451879380596718: (26.67869098347626, nan), 1.5071879380596718: (26.27003350336004, nan), 1.7691879380596718: (25.698557246115378, nan), 2.031187938059672: (24.362135749955552, nan), 2.293187938059672: (21.374799107504252, nan), 2.555187938059672: (16.75066849284606, nan), 2.817187938059672: (11.568923599136415, nan), 3.079187938059672: (7.910055698705816, nan), -2.9419973691199144: (7.575240354432542, nan)}\n",
      "min: 7.5474321632569135\n",
      "d corrected: {-2.9468120619403284: (0.0, nan), -2.6848120619403284: (3.15393400326601, nan), -2.4228120619403284: (8.53671712630285, nan), -2.1608120619403284: (14.227760255079858, nan), -1.8988120619403284: (18.829941412907967, nan), -1.6368120619403284: (22.06736862746896, nan), -1.3748120619403283: (24.78077214487361, nan), -1.1128120619403283: (27.72368774697098, nan), -0.8508120619403283: (30.843171922402234, nan), -0.5888120619403283: (33.99839759500755, nan), -0.3268120619403283: (36.523265323577995, nan), -0.06481206194032829: (37.07366859115009, nan), 0.19718793805967172: (34.66924439185549, nan), 0.45918793805967173: (30.000015482872662, nan), 0.7211879380596717: (24.91110053562702, nan), 0.9831879380596718: (20.970767952609993, nan), 1.2451879380596718: (19.131258820219344, nan), 1.5071879380596718: (18.722601340103125, nan), 1.7691879380596718: (18.151125082858464, nan), 2.031187938059672: (16.814703586698638, nan), 2.293187938059672: (13.827366944247338, nan), 2.555187938059672: (9.203236329589146, nan), 2.817187938059672: (4.0214914358795015, nan), 3.079187938059672: (0.36262353544890225, nan), -2.9419973691199144: (0.027808191175628494, nan)}\n"
     ]
    },
    {
     "data": {
      "image/png": "[encoded data removed]",
      "text/plain": [
       "<Figure size 432x288 with 1 Axes>"
      ]
     },
     "metadata": {
      "needs_background": "light"
     },
     "output_type": "display_data"
    },
    {
     "data": {
      "text/plain": [
       "{-2.9468120619403284: (0.0, nan),\n",
       " -2.6848120619403284: (3.15393400326601, nan),\n",
       " -2.4228120619403284: (8.53671712630285, nan),\n",
       " -2.1608120619403284: (14.227760255079858, nan),\n",
       " -1.8988120619403284: (18.829941412907967, nan),\n",
       " -1.6368120619403284: (22.06736862746896, nan),\n",
       " -1.3748120619403283: (24.78077214487361, nan),\n",
       " -1.1128120619403283: (27.72368774697098, nan),\n",
       " -0.8508120619403283: (30.843171922402234, nan),\n",
       " -0.5888120619403283: (33.99839759500755, nan),\n",
       " -0.3268120619403283: (36.523265323577995, nan),\n",
       " -0.06481206194032829: (37.07366859115009, nan),\n",
       " 0.19718793805967172: (34.66924439185549, nan),\n",
       " 0.45918793805967173: (30.000015482872662, nan),\n",
       " 0.7211879380596717: (24.91110053562702, nan),\n",
       " 0.9831879380596718: (20.970767952609993, nan),\n",
       " 1.2451879380596718: (19.131258820219344, nan),\n",
       " 1.5071879380596718: (18.722601340103125, nan),\n",
       " 1.7691879380596718: (18.151125082858464, nan),\n",
       " 2.031187938059672: (16.814703586698638, nan),\n",
       " 2.293187938059672: (13.827366944247338, nan),\n",
       " 2.555187938059672: (9.203236329589146, nan),\n",
       " 2.817187938059672: (4.0214914358795015, nan),\n",
       " 3.079187938059672: (0.36262353544890225, nan),\n",
       " -2.9419973691199144: (0.027808191175628494, nan)}"
      ]
     },
     "execution_count": 16,
     "metadata": {},
     "output_type": "execute_result"
    }
   ],
   "source": [
    "# THR->ALA -- THR at lambda = 0\n",
    "run_torsion_scan(htf_ta, 0, True, [6, 8, 10, 18], [6, 8, 10, 18], [13, 14, 15, 16, 17, 19])"
   ]
  },
  {
   "cell_type": "code",
   "execution_count": 19,
   "metadata": {
    "scrolled": true
   },
   "outputs": [
    {
     "name": "stderr",
     "output_type": "stream",
     "text": [
      "\r",
      "  0%|          | 0/10000 [00:00<?, ?it/s]"
     ]
    },
    {
     "name": "stdout",
     "output_type": "stream",
     "text": [
      "-45.19714800310993\n"
     ]
    },
    {
     "name": "stderr",
     "output_type": "stream",
     "text": [
      "100%|██████████| 10000/10000 [00:01<00:00, 6192.05it/s]\n"
     ]
    },
    {
     "name": "stdout",
     "output_type": "stream",
     "text": [
      "-1.0270934\n",
      "-4.172827870924514\n"
     ]
    },
    {
     "name": "stderr",
     "output_type": "stream",
     "text": [
      "INFO:root:Rotating by 0.26200002464663696 radians\n",
      "INFO:root:Rotating by 0.2619999999999997 radians\n",
      "INFO:root:Rotating by 0.26200000000000023 radians\n",
      "INFO:root:Rotating by 0.2620000000000002 radians\n",
      "INFO:root:Rotating by 0.2619999999999963 radians\n",
      "INFO:root:Rotating by 0.2620000000000039 radians\n",
      "INFO:root:Rotating by 0.26199999999999946 radians\n",
      "INFO:root:Rotating by 0.2620000000000001 radians\n",
      "INFO:root:Rotating by 0.262 radians\n",
      "INFO:root:Rotating by 0.26200000000000023 radians\n",
      "INFO:root:Rotating by 0.262 radians\n",
      "INFO:root:Rotating by 0.26200000000000045 radians\n",
      "INFO:root:Rotating by 0.26199999999999957 radians\n",
      "INFO:root:Rotating by 0.26200000000000045 radians\n",
      "INFO:root:Rotating by 0.262 radians\n",
      "INFO:root:Rotating by -6.021185307179587 radians\n",
      "INFO:root:Rotating by 0.26199999999999957 radians\n",
      "INFO:root:Rotating by 0.262 radians\n",
      "INFO:root:Rotating by 0.26200000000000045 radians\n",
      "INFO:root:Rotating by 0.262 radians\n",
      "INFO:root:Rotating by 0.262 radians\n",
      "INFO:root:Rotating by 0.262 radians\n",
      "INFO:root:Rotating by 0.2619999999999998 radians\n",
      "INFO:root:Rotating by 0.26199999999999934 radians\n",
      "INFO:root:Rotating by 0.26200000000000023 radians\n"
     ]
    },
    {
     "name": "stdout",
     "output_type": "stream",
     "text": [
      "-4.172826317688306\n",
      "-4.172823191602079\n",
      "-4.172826317688306\n",
      "-4.17282225537822\n",
      "-4.172821423302396\n",
      "-4.172822359526254\n",
      "-4.1728269270348175\n",
      "-4.1728234109476885\n",
      "-4.172826083011023\n",
      "-4.172824238741379\n",
      "-4.172822688888872\n",
      "-4.172826317688306\n",
      "-4.172825052101827\n",
      "-4.172826613003873\n",
      "-4.172826613003873\n",
      "-4.172825179247373\n",
      "-4.172826298074497\n",
      "-4.172825827821501\n",
      "-4.172825688727984\n",
      "-4.172825688727984\n",
      "-4.172825688727984\n",
      "-4.1728269270348175\n",
      "-4.172824764452096\n",
      "-4.172828480271027\n",
      "raw d: {-0.7650934104919433: (-4.172826317688306, nan), -0.5030934104919433: (-4.172823191602079, nan), -0.24109341049194333: (-4.172826317688306, nan), 0.020906589508056683: (-4.17282225537822, nan), 0.2829065895080567: (-4.172821423302396, nan), 0.5449065895080567: (-4.172822359526254, nan), 0.8069065895080567: (-4.1728269270348175, nan), 1.0689065895080567: (-4.1728234109476885, nan), 1.3309065895080567: (-4.172826083011023, nan), 1.5929065895080567: (-4.172824238741379, nan), 1.8549065895080568: (-4.172822688888872, nan), 2.1169065895080568: (-4.172826317688306, nan), 2.378906589508057: (-4.172825052101827, nan), 2.640906589508057: (-4.172826613003873, nan), 2.902906589508057: (-4.172826613003873, nan), -3.1182787176715294: (-4.172825179247373, nan), -2.8562787176715294: (-4.172826298074497, nan), -2.5942787176715294: (-4.172825827821501, nan), -2.3322787176715294: (-4.172825688727984, nan), -2.0702787176715294: (-4.172825688727984, nan), -1.8082787176715294: (-4.172825688727984, nan), -1.5462787176715294: (-4.1728269270348175, nan), -1.2842787176715293: (-4.172824764452096, nan), -1.0222787176715293: (-4.172828480271027, nan), -0.7602787176715293: (-4.172825071715635, nan)}\n",
      "min: -4.172828480271027\n",
      "d corrected: {-0.7650934104919433: (2.162582721787487e-06, nan), -0.5030934104919433: (5.288668948111308e-06, nan), -0.24109341049194333: (2.162582721787487e-06, nan), 0.020906589508056683: (6.224892807438209e-06, nan), 0.2829065895080567: (7.0569686316801494e-06, nan), 0.5449065895080567: (6.120744773241427e-06, nan), 0.8069065895080567: (1.5532362098724661e-06, nan), 1.0689065895080567: (5.069323338879883e-06, nan), 1.3309065895080567: (2.3972600047272863e-06, nan), 1.5929065895080567: (4.241529648396636e-06, nan), 1.8549065895080568: (5.791382155173608e-06, nan), 2.1169065895080568: (2.162582721787487e-06, nan), 2.378906589508057: (3.4281692000703856e-06, nan), 2.640906589508057: (1.8672671542319108e-06, nan), 2.902906589508057: (1.8672671542319108e-06, nan), -3.1182787176715294: (3.3010236544228633e-06, nan), -2.8562787176715294: (2.1821965301427326e-06, nan), -2.5942787176715294: (2.6524495266855297e-06, nan), -2.3322787176715294: (2.791543042945932e-06, nan), -2.0702787176715294: (2.791543042945932e-06, nan), -1.8082787176715294: (2.791543042945932e-06, nan), -1.5462787176715294: (1.5532362098724661e-06, nan), -1.2842787176715293: (3.7158189316599533e-06, nan), -1.0222787176715293: (0.0, nan), -0.7602787176715293: (3.4085553926033185e-06, nan)}\n"
     ]
    },
    {
     "data": {
      "image/png": "[encoded data removed]",
      "text/plain": [
       "<Figure size 432x288 with 1 Axes>"
      ]
     },
     "metadata": {
      "needs_background": "light"
     },
     "output_type": "display_data"
    },
    {
     "data": {
      "text/plain": [
       "{-0.7650934104919433: (2.162582721787487e-06, nan),\n",
       " -0.5030934104919433: (5.288668948111308e-06, nan),\n",
       " -0.24109341049194333: (2.162582721787487e-06, nan),\n",
       " 0.020906589508056683: (6.224892807438209e-06, nan),\n",
       " 0.2829065895080567: (7.0569686316801494e-06, nan),\n",
       " 0.5449065895080567: (6.120744773241427e-06, nan),\n",
       " 0.8069065895080567: (1.5532362098724661e-06, nan),\n",
       " 1.0689065895080567: (5.069323338879883e-06, nan),\n",
       " 1.3309065895080567: (2.3972600047272863e-06, nan),\n",
       " 1.5929065895080567: (4.241529648396636e-06, nan),\n",
       " 1.8549065895080568: (5.791382155173608e-06, nan),\n",
       " 2.1169065895080568: (2.162582721787487e-06, nan),\n",
       " 2.378906589508057: (3.4281692000703856e-06, nan),\n",
       " 2.640906589508057: (1.8672671542319108e-06, nan),\n",
       " 2.902906589508057: (1.8672671542319108e-06, nan),\n",
       " -3.1182787176715294: (3.3010236544228633e-06, nan),\n",
       " -2.8562787176715294: (2.1821965301427326e-06, nan),\n",
       " -2.5942787176715294: (2.6524495266855297e-06, nan),\n",
       " -2.3322787176715294: (2.791543042945932e-06, nan),\n",
       " -2.0702787176715294: (2.791543042945932e-06, nan),\n",
       " -1.8082787176715294: (2.791543042945932e-06, nan),\n",
       " -1.5462787176715294: (1.5532362098724661e-06, nan),\n",
       " -1.2842787176715293: (3.7158189316599533e-06, nan),\n",
       " -1.0222787176715293: (0.0, nan),\n",
       " -0.7602787176715293: (3.4085553926033185e-06, nan)}"
      ]
     },
     "execution_count": 19,
     "metadata": {},
     "output_type": "execute_result"
    }
   ],
   "source": [
    "# THR->ALA -- ALA at lambda = 0\n",
    "run_torsion_scan(htf_ta, 0, False, [6, 8, 26, 27], [6, 8, 10, 13], [28, 29])"
   ]
  },
  {
   "cell_type": "code",
   "execution_count": 20,
   "metadata": {
    "scrolled": true
   },
   "outputs": [
    {
     "name": "stderr",
     "output_type": "stream",
     "text": [
      "\r",
      "  0%|          | 0/10000 [00:00<?, ?it/s]"
     ]
    },
    {
     "name": "stdout",
     "output_type": "stream",
     "text": [
      "-1.992108374166892\n"
     ]
    },
    {
     "name": "stderr",
     "output_type": "stream",
     "text": [
      "100%|██████████| 10000/10000 [00:01<00:00, 6170.44it/s]\n",
      "INFO:root:Rotating by 0.26200002464663696 radians\n",
      "INFO:root:Rotating by 0.2619999999999997 radians\n",
      "INFO:root:Rotating by 0.26200000000000023 radians\n",
      "INFO:root:Rotating by 0.2620000000000002 radians\n",
      "INFO:root:Rotating by 0.2619999999999963 radians\n",
      "INFO:root:Rotating by 0.2620000000000039 radians\n",
      "INFO:root:Rotating by 0.26199999999999946 radians\n",
      "INFO:root:Rotating by 0.2620000000000001 radians\n",
      "INFO:root:Rotating by 0.262 radians\n",
      "INFO:root:Rotating by 0.26200000000000023 radians\n",
      "INFO:root:Rotating by 0.262 radians\n",
      "INFO:root:Rotating by 0.26200000000000045 radians\n",
      "INFO:root:Rotating by 0.26199999999999957 radians\n",
      "INFO:root:Rotating by 0.26200000000000045 radians\n",
      "INFO:root:Rotating by 0.262 radians\n",
      "INFO:root:Rotating by -6.021185307179587 radians\n",
      "INFO:root:Rotating by 0.26199999999999957 radians\n",
      "INFO:root:Rotating by 0.262 radians\n",
      "INFO:root:Rotating by 0.26200000000000045 radians\n",
      "INFO:root:Rotating by 0.262 radians\n",
      "INFO:root:Rotating by 0.262 radians\n",
      "INFO:root:Rotating by 0.262 radians\n",
      "INFO:root:Rotating by 0.2619999999999998 radians\n",
      "INFO:root:Rotating by 0.26199999999999934 radians\n",
      "INFO:root:Rotating by 0.26200000000000023 radians\n"
     ]
    },
    {
     "name": "stdout",
     "output_type": "stream",
     "text": [
      "-1.0270934\n",
      "19.39239508289535\n",
      "20.424381498359974\n",
      "22.26167304572406\n",
      "24.104856028331177\n",
      "25.00629924087059\n",
      "24.443932102780128\n",
      "22.712436064575442\n",
      "20.76955290252016\n",
      "19.68025863015606\n",
      "20.024878745052714\n",
      "21.57601846859401\n",
      "23.411400225083103\n",
      "24.42351243221263\n",
      "23.956325508757004\n",
      "22.20412754606169\n",
      "20.100066898777403\n",
      "18.750549752178852\n",
      "18.789563907189564\n",
      "20.03335210219292\n",
      "21.610772551883915\n",
      "22.490142658295667\n",
      "22.117620332933544\n",
      "20.80811783153038\n",
      "19.583349602363924\n",
      "19.400836898239497\n",
      "raw d: {-0.7650934104919433: (20.424381498359974, nan), -0.5030934104919433: (22.26167304572406, nan), -0.24109341049194333: (24.104856028331177, nan), 0.020906589508056683: (25.00629924087059, nan), 0.2829065895080567: (24.443932102780128, nan), 0.5449065895080567: (22.712436064575442, nan), 0.8069065895080567: (20.76955290252016, nan), 1.0689065895080567: (19.68025863015606, nan), 1.3309065895080567: (20.024878745052714, nan), 1.5929065895080567: (21.57601846859401, nan), 1.8549065895080568: (23.411400225083103, nan), 2.1169065895080568: (24.42351243221263, nan), 2.378906589508057: (23.956325508757004, nan), 2.640906589508057: (22.20412754606169, nan), 2.902906589508057: (20.100066898777403, nan), -3.1182787176715294: (18.750549752178852, nan), -2.8562787176715294: (18.789563907189564, nan), -2.5942787176715294: (20.03335210219292, nan), -2.3322787176715294: (21.610772551883915, nan), -2.0702787176715294: (22.490142658295667, nan), -1.8082787176715294: (22.117620332933544, nan), -1.5462787176715294: (20.80811783153038, nan), -1.2842787176715293: (19.583349602363924, nan), -1.0222787176715293: (19.400836898239497, nan), -0.7602787176715293: (20.452804072776722, nan)}\n",
      "min: 18.750549752178852\n",
      "d corrected: {-0.7650934104919433: (1.673831746181122, nan), -0.5030934104919433: (3.5111232935452072, nan), -0.24109341049194333: (5.354306276152325, nan), 0.020906589508056683: (6.2557494886917375, nan), 0.2829065895080567: (5.693382350601276, nan), 0.5449065895080567: (3.96188631239659, nan), 0.8069065895080567: (2.019003150341309, nan), 1.0689065895080567: (0.9297088779772089, nan), 1.3309065895080567: (1.274328992873862, nan), 1.5929065895080567: (2.825468716415159, nan), 1.8549065895080568: (4.660850472904251, nan), 2.1169065895080568: (5.672962680033777, nan), 2.378906589508057: (5.205775756578152, nan), 2.640906589508057: (3.4535777938828396, nan), 2.902906589508057: (1.3495171465985507, nan), -3.1182787176715294: (0.0, nan), -2.8562787176715294: (0.039014155010711704, nan), -2.5942787176715294: (1.2828023500140695, nan), -2.3322787176715294: (2.8602227997050633, nan), -2.0702787176715294: (3.7395929061168154, nan), -1.8082787176715294: (3.3670705807546923, nan), -1.5462787176715294: (2.0575680793515296, nan), -1.2842787176715293: (0.8327998501850722, nan), -1.0222787176715293: (0.650287146060645, nan), -0.7602787176715293: (1.70225432059787, nan)}\n"
     ]
    },
    {
     "data": {
      "image/png": "[encoded data removed]",
      "text/plain": [
       "<Figure size 432x288 with 1 Axes>"
      ]
     },
     "metadata": {
      "needs_background": "light"
     },
     "output_type": "display_data"
    },
    {
     "data": {
      "text/plain": [
       "{-0.7650934104919433: (1.673831746181122, nan),\n",
       " -0.5030934104919433: (3.5111232935452072, nan),\n",
       " -0.24109341049194333: (5.354306276152325, nan),\n",
       " 0.020906589508056683: (6.2557494886917375, nan),\n",
       " 0.2829065895080567: (5.693382350601276, nan),\n",
       " 0.5449065895080567: (3.96188631239659, nan),\n",
       " 0.8069065895080567: (2.019003150341309, nan),\n",
       " 1.0689065895080567: (0.9297088779772089, nan),\n",
       " 1.3309065895080567: (1.274328992873862, nan),\n",
       " 1.5929065895080567: (2.825468716415159, nan),\n",
       " 1.8549065895080568: (4.660850472904251, nan),\n",
       " 2.1169065895080568: (5.672962680033777, nan),\n",
       " 2.378906589508057: (5.205775756578152, nan),\n",
       " 2.640906589508057: (3.4535777938828396, nan),\n",
       " 2.902906589508057: (1.3495171465985507, nan),\n",
       " -3.1182787176715294: (0.0, nan),\n",
       " -2.8562787176715294: (0.039014155010711704, nan),\n",
       " -2.5942787176715294: (1.2828023500140695, nan),\n",
       " -2.3322787176715294: (2.8602227997050633, nan),\n",
       " -2.0702787176715294: (3.7395929061168154, nan),\n",
       " -1.8082787176715294: (3.3670705807546923, nan),\n",
       " -1.5462787176715294: (2.0575680793515296, nan),\n",
       " -1.2842787176715293: (0.8327998501850722, nan),\n",
       " -1.0222787176715293: (0.650287146060645, nan),\n",
       " -0.7602787176715293: (1.70225432059787, nan)}"
      ]
     },
     "execution_count": 20,
     "metadata": {},
     "output_type": "execute_result"
    }
   ],
   "source": [
    "# THR->ALA -- ALA at lambda = 1\n",
    "run_torsion_scan(htf_ta, 1, False,  [6, 8, 26, 27], [6, 8, 10, 13], [28, 29])"
   ]
  },
  {
   "cell_type": "code",
   "execution_count": 21,
   "metadata": {
    "scrolled": true
   },
   "outputs": [
    {
     "name": "stderr",
     "output_type": "stream",
     "text": [
      "\r",
      "  0%|          | 0/10000 [00:00<?, ?it/s]"
     ]
    },
    {
     "name": "stdout",
     "output_type": "stream",
     "text": [
      "-1.992108374166892\n"
     ]
    },
    {
     "name": "stderr",
     "output_type": "stream",
     "text": [
      "100%|██████████| 10000/10000 [00:01<00:00, 5870.00it/s]\n",
      "INFO:root:Rotating by -6.021185302286687 radians\n",
      "INFO:root:Rotating by 0.2620000000000027 radians\n",
      "INFO:root:Rotating by 0.26200000000000045 radians\n",
      "INFO:root:Rotating by 0.262 radians\n",
      "INFO:root:Rotating by 0.262 radians\n",
      "INFO:root:Rotating by 0.26199999999999957 radians\n",
      "INFO:root:Rotating by 0.2619999999999998 radians\n",
      "INFO:root:Rotating by 0.2619999999999998 radians\n",
      "INFO:root:Rotating by 0.2619999999999998 radians\n",
      "INFO:root:Rotating by 0.262 radians\n",
      "INFO:root:Rotating by 0.26200000000000034 radians\n",
      "INFO:root:Rotating by 0.26199999999999946 radians\n",
      "INFO:root:Rotating by 0.26199999999999846 radians\n",
      "INFO:root:Rotating by 0.2620000000000029 radians\n",
      "INFO:root:Rotating by 0.26199999999999896 radians\n",
      "INFO:root:Rotating by 0.2620000000000001 radians\n",
      "INFO:root:Rotating by 0.2619999999999997 radians\n",
      "INFO:root:Rotating by 0.2619999999999998 radians\n",
      "INFO:root:Rotating by 0.26199999999999934 radians\n",
      "INFO:root:Rotating by 0.262 radians\n",
      "INFO:root:Rotating by 0.26199999999999957 radians\n",
      "INFO:root:Rotating by 0.26200000000000045 radians\n",
      "INFO:root:Rotating by 0.26200000000000045 radians\n",
      "INFO:root:Rotating by 0.26199999999999957 radians\n",
      "INFO:root:Rotating by -6.021185307179584 radians\n"
     ]
    },
    {
     "name": "stdout",
     "output_type": "stream",
     "text": [
      "3.0743732\n",
      "21.678167643569033\n",
      "21.678173582083915\n",
      "21.678170590984088\n",
      "21.678174318012996\n",
      "21.678176801128618\n",
      "21.678166372230258\n",
      "21.678174620437254\n",
      "21.678170243746187\n",
      "21.678168650372264\n",
      "21.678161471152787\n",
      "21.6781629767663\n",
      "21.678164422581617\n",
      "21.67816350520148\n",
      "21.678160503658848\n",
      "21.678166302053434\n",
      "21.678160087361324\n",
      "21.678156577151917\n",
      "21.678149028020815\n",
      "21.678162157787735\n",
      "21.678169160045396\n",
      "21.678160278222574\n",
      "21.678165366377968\n",
      "21.678174886279606\n",
      "21.678171405730104\n",
      "21.678166829435586\n",
      "raw d: {-2.9468120619403284: (21.678173582083915, nan), -2.6848120619403284: (21.678170590984088, nan), -2.4228120619403284: (21.678174318012996, nan), -2.1608120619403284: (21.678176801128618, nan), -1.8988120619403284: (21.678166372230258, nan), -1.6368120619403284: (21.678174620437254, nan), -1.3748120619403283: (21.678170243746187, nan), -1.1128120619403283: (21.678168650372264, nan), -0.8508120619403283: (21.678161471152787, nan), -0.5888120619403283: (21.6781629767663, nan), -0.3268120619403283: (21.678164422581617, nan), -0.06481206194032829: (21.67816350520148, nan), 0.19718793805967172: (21.678160503658848, nan), 0.45918793805967173: (21.678166302053434, nan), 0.7211879380596717: (21.678160087361324, nan), 0.9831879380596718: (21.678156577151917, nan), 1.2451879380596718: (21.678149028020815, nan), 1.5071879380596718: (21.678162157787735, nan), 1.7691879380596718: (21.678169160045396, nan), 2.031187938059672: (21.678160278222574, nan), 2.293187938059672: (21.678165366377968, nan), 2.555187938059672: (21.678174886279606, nan), 2.817187938059672: (21.678171405730104, nan), 3.079187938059672: (21.678166829435586, nan), -2.9419973691199144: (21.678173656394108, nan)}\n",
      "min: 21.678149028020815\n",
      "d corrected: {-2.9468120619403284: (2.4554063099202494e-05, nan), -2.6848120619403284: (2.156296327271434e-05, nan), -2.4228120619403284: (2.528999218043282e-05, nan), -2.1608120619403284: (2.7773107802886443e-05, nan), -1.8988120619403284: (1.7344209442882175e-05, nan), -1.6368120619403284: (2.559241643851351e-05, nan), -1.3748120619403283: (2.121572537205907e-05, nan), -1.1128120619403283: (1.962235144858937e-05, nan), -0.8508120619403283: (1.2443131971906496e-05, nan), -0.5888120619403283: (1.394874548310554e-05, nan), -0.3268120619403283: (1.5394560801240686e-05, nan), -0.06481206194032829: (1.4477180663163836e-05, nan), 0.19718793805967172: (1.147563803272078e-05, nan), 0.45918793805967173: (1.7274032618530555e-05, nan), 0.7211879380596717: (1.1059340508268178e-05, nan), 0.9831879380596718: (7.549131101569628e-06, nan), 1.2451879380596718: (0.0, nan), 1.5071879380596718: (1.3129766919917074e-05, nan), 1.7691879380596718: (2.0132024580732377e-05, nan), 2.031187938059672: (1.1250201758628009e-05, nan), 2.293187938059672: (1.63383571525344e-05, nan), 2.555187938059672: (2.5858258791089384e-05, nan), 2.817187938059672: (2.2377709289145287e-05, nan), 3.079187938059672: (1.780141477070174e-05, nan), -2.9419973691199144: (2.4628373292756578e-05, nan)}\n"
     ]
    },
    {
     "data": {
      "image/png": "[encoded data removed]",
      "text/plain": [
       "<Figure size 432x288 with 1 Axes>"
      ]
     },
     "metadata": {
      "needs_background": "light"
     },
     "output_type": "display_data"
    },
    {
     "data": {
      "text/plain": [
       "{-2.9468120619403284: (2.4554063099202494e-05, nan),\n",
       " -2.6848120619403284: (2.156296327271434e-05, nan),\n",
       " -2.4228120619403284: (2.528999218043282e-05, nan),\n",
       " -2.1608120619403284: (2.7773107802886443e-05, nan),\n",
       " -1.8988120619403284: (1.7344209442882175e-05, nan),\n",
       " -1.6368120619403284: (2.559241643851351e-05, nan),\n",
       " -1.3748120619403283: (2.121572537205907e-05, nan),\n",
       " -1.1128120619403283: (1.962235144858937e-05, nan),\n",
       " -0.8508120619403283: (1.2443131971906496e-05, nan),\n",
       " -0.5888120619403283: (1.394874548310554e-05, nan),\n",
       " -0.3268120619403283: (1.5394560801240686e-05, nan),\n",
       " -0.06481206194032829: (1.4477180663163836e-05, nan),\n",
       " 0.19718793805967172: (1.147563803272078e-05, nan),\n",
       " 0.45918793805967173: (1.7274032618530555e-05, nan),\n",
       " 0.7211879380596717: (1.1059340508268178e-05, nan),\n",
       " 0.9831879380596718: (7.549131101569628e-06, nan),\n",
       " 1.2451879380596718: (0.0, nan),\n",
       " 1.5071879380596718: (1.3129766919917074e-05, nan),\n",
       " 1.7691879380596718: (2.0132024580732377e-05, nan),\n",
       " 2.031187938059672: (1.1250201758628009e-05, nan),\n",
       " 2.293187938059672: (1.63383571525344e-05, nan),\n",
       " 2.555187938059672: (2.5858258791089384e-05, nan),\n",
       " 2.817187938059672: (2.2377709289145287e-05, nan),\n",
       " 3.079187938059672: (1.780141477070174e-05, nan),\n",
       " -2.9419973691199144: (2.4628373292756578e-05, nan)}"
      ]
     },
     "execution_count": 21,
     "metadata": {},
     "output_type": "execute_result"
    }
   ],
   "source": [
    "# THR->ALA -- THR at lambda = 1\n",
    "run_torsion_scan(htf_ta, 1, True, [6, 8, 10, 18], [6, 8, 10, 18], [13, 14, 15, 16, 17, 19])"
   ]
  },
  {
   "cell_type": "code",
   "execution_count": null,
   "metadata": {},
   "outputs": [],
   "source": []
  }
 ],
 "metadata": {
  "kernelspec": {
   "display_name": "Python 3",
   "language": "python",
   "name": "python3"
  },
  "language_info": {
   "codemirror_mode": {
    "name": "ipython",
    "version": 3
   },
   "file_extension": ".py",
   "mimetype": "text/x-python",
   "name": "python",
   "nbconvert_exporter": "python",
   "pygments_lexer": "ipython3",
   "version": "3.7.8"
  }
 },
 "nbformat": 4,
 "nbformat_minor": 4
}
