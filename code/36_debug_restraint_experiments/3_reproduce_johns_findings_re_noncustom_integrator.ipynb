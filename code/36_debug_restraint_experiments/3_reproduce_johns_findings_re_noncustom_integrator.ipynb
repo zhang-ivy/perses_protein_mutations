{
 "cells": [
  {
   "cell_type": "markdown",
   "id": "9f70f3f9",
   "metadata": {},
   "source": [
    "JDC: This is odd: If I integrate the protocol work outside of the CustomIntegrator, I don't see the energy grow when I am just changing lambda_alchemical_bonds_{old|new} at the same time"
   ]
  },
  {
   "cell_type": "markdown",
   "id": "a9aec5af",
   "metadata": {},
   "source": [
    "Script: /home/chodera/equilibrated_restraint_experiments/281/test_langevin.py"
   ]
  },
  {
   "cell_type": "code",
   "execution_count": 1,
   "id": "a5023bbc",
   "metadata": {},
   "outputs": [],
   "source": [
    "import openmm\n",
    "from openmm import unit\n",
    "\n",
    "prefix = '/home/chodera/equilibrated_restraint_experiments/281/'\n",
    "\n",
    "def read(filename):\n",
    "    print(f'Reading {filename}...')\n",
    "    with open(filename, 'r') as infile:\n",
    "        return openmm.XmlSerializer.deserialize(infile.read())\n",
    "    \n",
    "def test(lambda_param=None):\n",
    "    \n",
    "    system = read(f'{prefix}281_apo_system.xml')\n",
    "    state = read(f'{prefix}281_apo_state.xml')\n",
    "\n",
    "    forces = { force.getName() : force for (index, force) in enumerate(system.getForces()) }\n",
    "    cvforce = forces['CustomCVForce']\n",
    "\n",
    "    platform = openmm.Platform.getPlatformByName('CUDA')\n",
    "    platform.setPropertyDefaultValue('Precision', 'mixed')\n",
    "    platform.setPropertyDefaultValue('DeterministicForces', 'true')\n",
    "    \n",
    "    print(\"************K_RMSD != 0************\")\n",
    "    print('Creating context...')\n",
    "    \n",
    "    temperature = 300 * unit.kelvin\n",
    "    collision_rate = 1.0 / unit.picoseconds\n",
    "    timestep = 4.0 * unit.femtoseconds\n",
    "    kT = unit.AVOGADRO_CONSTANT_NA * unit.BOLTZMANN_CONSTANT_kB * temperature\n",
    "    integrator = openmm.LangevinIntegrator(temperature, collision_rate, timestep)\n",
    "    context = openmm.Context(system, integrator, platform)\n",
    "    context.setState(state)\n",
    "\n",
    "    print('Integrating...')\n",
    "    nsteps_total = 250000\n",
    "    nsteps = 5000\n",
    "    lambda_ = 0.0\n",
    "    context.setParameter('lambda_alchemical_bonds_old', 1.0 - lambda_)\n",
    "    context.setParameter('lambda_alchemical_bonds_new', lambda_)\n",
    "    protocol_work = 0.0\n",
    "    error = 0.0\n",
    "    nsteps_per_report = 1000\n",
    "    for step in range(nsteps):\n",
    "        lambda_ = step / nsteps_total\n",
    "        Uold = context.getState(getEnergy=True).getPotentialEnergy() / kT\n",
    "\n",
    "        context.setParameter('lambda_alchemical_bonds_old', 1.0 - lambda_)\n",
    "        context.setParameter('lambda_alchemical_bonds_new', lambda_)\n",
    "\n",
    "        Unew = context.getState(getEnergy=True).getPotentialEnergy() / kT\n",
    "\n",
    "        protocol_work += (Unew - Uold)\n",
    "        time = context.getTime()\n",
    "        cvs = cvforce.getCollectiveVariableValues(context)\n",
    "        rmsd = cvs[0]\n",
    "\n",
    "        if step % nsteps_per_report == 0:\n",
    "            print(f'step {step:10.0f} : time {time/unit.nanoseconds:10.3f} ns | lambda {lambda_:16.12f} | protocol_work = {protocol_work:12.3f} | RMSD = {rmsd:12.5f} nm')\n",
    "\n",
    "        integrator.step(1)\n",
    "\n",
    "    del context, integrator\n",
    "    \n",
    "    print(\"************K_RMSD == 0************\")\n",
    "    print('Creating context...')\n",
    "\n",
    "    integrator = openmm.LangevinIntegrator(temperature, collision_rate, timestep)\n",
    "    \n",
    "    context = openmm.Context(system, integrator, platform)\n",
    "    context.setState(state)\n",
    "    \n",
    "    print(f'Setting K_RMSD to 0')\n",
    "    context.setParameter('K_RMSD', 0.0)\n",
    "\n",
    "    print('Integrating...')\n",
    "    nsteps_total = 250000\n",
    "    nsteps = 5000\n",
    "    lambda_ = 0.0\n",
    "    context.setParameter('lambda_alchemical_bonds_old', 1.0 - lambda_)\n",
    "    context.setParameter('lambda_alchemical_bonds_new', lambda_)\n",
    "    protocol_work = 0.0\n",
    "    error = 0.0\n",
    "    nsteps_per_report = 1000\n",
    "    \n",
    "    for step in range(nsteps):\n",
    "        lambda_ = step / nsteps_total\n",
    "        \n",
    "        Uold = context.getState(getEnergy=True).getPotentialEnergy() / kT\n",
    "\n",
    "        context.setParameter('lambda_alchemical_bonds_old', 1.0 - lambda_)\n",
    "        context.setParameter('lambda_alchemical_bonds_new', lambda_)\n",
    "\n",
    "        Unew = context.getState(getEnergy=True).getPotentialEnergy() / kT\n",
    "\n",
    "        protocol_work += (Unew - Uold)\n",
    "        time = context.getTime()\n",
    "        cvs = cvforce.getCollectiveVariableValues(context)\n",
    "        rmsd = cvs[0]\n",
    "\n",
    "        if step % nsteps_per_report == 0:\n",
    "            print(f'step {step:10.0f} : time {time/unit.nanoseconds:10.3f} ns | lambda {lambda_:16.12f} | protocol_work = {protocol_work:12.3f} | RMSD = {rmsd:12.5f} nm')\n",
    "\n",
    "        integrator.step(1)\n",
    "\n",
    "    del context, integrator\n",
    "\n"
   ]
  },
  {
   "cell_type": "markdown",
   "id": "d3d0afb7",
   "metadata": {},
   "source": [
    "## Run neq changing lambda_bonds only"
   ]
  },
  {
   "cell_type": "code",
   "execution_count": 3,
   "id": "f8a5a063",
   "metadata": {
    "scrolled": false
   },
   "outputs": [
    {
     "name": "stdout",
     "output_type": "stream",
     "text": [
      "Reading /home/chodera/equilibrated_restraint_experiments/281/281_apo_system.xml...\n",
      "Reading /home/chodera/equilibrated_restraint_experiments/281/281_apo_state.xml...\n",
      "************KMSD != 0************\n",
      "Creating context...\n",
      "Integrating...\n",
      "step          0 : time      0.000 ns | lambda   0.000000000000 | protocol_work =        0.000 | RMSD =      0.00026 nm\n",
      "step       1000 : time      0.004 ns | lambda   0.004000000000 | protocol_work =        0.057 | RMSD =      0.06301 nm\n",
      "step       2000 : time      0.008 ns | lambda   0.008000000000 | protocol_work =        0.114 | RMSD =      0.08738 nm\n",
      "step       3000 : time      0.012 ns | lambda   0.012000000000 | protocol_work =        0.212 | RMSD =      0.09086 nm\n",
      "step       4000 : time      0.016 ns | lambda   0.016000000000 | protocol_work =        0.320 | RMSD =      0.09276 nm\n",
      "************K_RMSD == 0************\n",
      "Creating context...\n",
      "Setting K_RMSD to 0\n",
      "Integrating...\n",
      "step          0 : time      0.000 ns | lambda   0.000000000000 | protocol_work =        0.000 | RMSD =      0.00026 nm\n",
      "step       1000 : time      0.004 ns | lambda   0.004000000000 | protocol_work =        0.000 | RMSD =      0.06806 nm\n",
      "step       2000 : time      0.008 ns | lambda   0.008000000000 | protocol_work =       -0.000 | RMSD =      0.07897 nm\n",
      "step       3000 : time      0.012 ns | lambda   0.012000000000 | protocol_work =        0.000 | RMSD =      0.08513 nm\n",
      "step       4000 : time      0.016 ns | lambda   0.016000000000 | protocol_work =        0.000 | RMSD =      0.08350 nm\n"
     ]
    }
   ],
   "source": [
    "test()"
   ]
  },
  {
   "cell_type": "code",
   "execution_count": null,
   "id": "4a2524cd",
   "metadata": {},
   "outputs": [],
   "source": []
  }
 ],
 "metadata": {
  "kernelspec": {
   "display_name": "Python 3 (ipykernel)",
   "language": "python",
   "name": "python3"
  },
  "language_info": {
   "codemirror_mode": {
    "name": "ipython",
    "version": 3
   },
   "file_extension": ".py",
   "mimetype": "text/x-python",
   "name": "python",
   "nbconvert_exporter": "python",
   "pygments_lexer": "ipython3",
   "version": "3.9.9"
  }
 },
 "nbformat": 4,
 "nbformat_minor": 5
}
