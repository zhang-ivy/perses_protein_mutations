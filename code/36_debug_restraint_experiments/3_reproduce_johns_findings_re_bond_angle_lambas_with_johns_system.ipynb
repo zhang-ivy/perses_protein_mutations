{
 "cells": [
  {
   "cell_type": "markdown",
   "id": "9f70f3f9",
   "metadata": {},
   "source": [
    "JDC: I've been printing the work accumulated over the first 5000 steps with the default K_RMSD compared with K_RMSD=0 and only changing one set of lambda_* parameters at a time.\n",
    "It appears that changing the bond lambdas causes the biggest difference in work accumulation between with and without restraints"
   ]
  },
  {
   "cell_type": "markdown",
   "id": "a9aec5af",
   "metadata": {},
   "source": [
    "Script: /home/chodera/equilibrated_restraint_experiments/281/test_neq.py"
   ]
  },
  {
   "cell_type": "code",
   "execution_count": 1,
   "id": "a5023bbc",
   "metadata": {},
   "outputs": [],
   "source": [
    "import openmm\n",
    "from openmm import unit\n",
    "from openmmtools.integrators import PeriodicNonequilibriumIntegrator\n",
    "\n",
    "# prefix = '/data/chodera/zhangi/perses_benchmark/neq/15/281/equilibrated/281/'\n",
    "prefix = '/home/chodera/equilibrated_restraint_experiments/281/'\n",
    "\n",
    "def read(filename):\n",
    "    print(f'Reading {filename}...')\n",
    "    with open(filename, 'r') as infile:\n",
    "        return openmm.XmlSerializer.deserialize(infile.read())\n",
    "    \n",
    "def create_integrator(param_to_change=None):\n",
    "    nsteps_eq = 1\n",
    "    nsteps_neq = 250000 # 1 ns\n",
    "    neq_splitting='V R H O R V'\n",
    "    timestep = 4.0 * unit.femtosecond\n",
    "    platform_name = 'CUDA'\n",
    "    temperature = 300.0 * unit.kelvin\n",
    "\n",
    "    # Define lambda functions\n",
    "    x = 'lambda'\n",
    "\n",
    "    ALCHEMICAL_FUNCTIONS = {\n",
    "    'lambda_rest_bonds': \"1\",\n",
    "    'lambda_rest_angles': \"1\",\n",
    "    'lambda_rest_torsions':\"1\",\n",
    "    'lambda_rest_electrostatics': \"1\",\n",
    "    'lambda_rest_electrostatics_exceptions': \"1\",\n",
    "    'lambda_rest_sterics':\"1\",\n",
    "    'lambda_rest_sterics_exceptions': \"1\", \n",
    "                             'lambda_alchemical_bonds_old': f'1 - {x}',\n",
    "                             'lambda_alchemical_bonds_new': x,\n",
    "                             'lambda_alchemical_angles_old': f'1 - {x}',\n",
    "                             'lambda_alchemical_angles_new': x,\n",
    "                             'lambda_alchemical_torsions_old': f'1 - {x}',\n",
    "                             'lambda_alchemical_torsions_new': x,\n",
    "                             'lambda_alchemical_electrostatics_old': f'1 - {x}',\n",
    "                             'lambda_alchemical_electrostatics_new': x,\n",
    "                             'lambda_alchemical_electrostatics_exceptions_old': f'1 - {x}',\n",
    "                             'lambda_alchemical_electrostatics_exceptions_new': x,\n",
    "                             'lambda_alchemical_electrostatics_reciprocal': x,\n",
    "                             'lambda_alchemical_sterics_old': f'1 - {x}',\n",
    "                             'lambda_alchemical_sterics_new': x,\n",
    "                             'lambda_alchemical_sterics_exceptions_old': f'1 - {x}',\n",
    "                             'lambda_alchemical_sterics_exceptions_new': x\n",
    "                             }\n",
    "    \n",
    "    if param_to_change is not None:\n",
    "        for k, v in ALCHEMICAL_FUNCTIONS.items():\n",
    "            if 'old' in k:\n",
    "                if param_to_change in k:\n",
    "                    pass\n",
    "                else:\n",
    "                    ALCHEMICAL_FUNCTIONS[k] = '1.0'\n",
    "            elif 'new' in k or 'reciprocal' in k:\n",
    "                if param_to_change in k:\n",
    "                    pass\n",
    "                else:\n",
    "                    ALCHEMICAL_FUNCTIONS[k] = '0.0'\n",
    "                \n",
    "    return PeriodicNonequilibriumIntegrator(ALCHEMICAL_FUNCTIONS, nsteps_eq, nsteps_neq, neq_splitting, timestep=timestep, temperature=temperature)\n",
    "    \n",
    "    \n",
    "def test(param_to_change=None):\n",
    "    \n",
    "    system = read(f'{prefix}281_apo_system.xml')\n",
    "    state = read(f'{prefix}281_apo_state.xml')\n",
    "#     integrator = read(f'{prefix}integrator.xml')\n",
    "    integrator = create_integrator(param_to_change)\n",
    "\n",
    "    forces = { force.getName() : force for (index, force) in enumerate(system.getForces()) }\n",
    "    cvforce = forces['CustomCVForce']\n",
    "\n",
    "    platform = openmm.Platform.getPlatformByName('CUDA')\n",
    "    platform.setPropertyDefaultValue('Precision', 'mixed')\n",
    "    platform.setPropertyDefaultValue('DeterministicForces', 'true')\n",
    "    \n",
    "    print(\"************K_RMSD != 0************\")\n",
    "    print('Creating context...')\n",
    "\n",
    "    context = openmm.Context(system, integrator, platform)\n",
    "    context.setState(state)\n",
    "\n",
    "    print('Integrating...')\n",
    "    niterations = 5\n",
    "    nsteps_per_iteration = 1000\n",
    "    for iteration in range(niterations):\n",
    "            \n",
    "        step = integrator.getGlobalVariableByName('step')\n",
    "        lambda_ = integrator.getGlobalVariableByName('lambda')\n",
    "        protocol_work = integrator.getGlobalVariableByName('protocol_work')\n",
    "        time = context.getTime()\n",
    "        cvs = cvforce.getCollectiveVariableValues(context)\n",
    "        rmsd = cvs[0]\n",
    "        print(f'step {step:10.0f} : time {time/unit.nanoseconds:10.3f} ns | lambda {lambda_:16.12f} | protocol_work = {protocol_work:12.3f} | RMSD = {rmsd:12.5f} nm')\n",
    "        integrator.step(nsteps_per_iteration)\n",
    "\n",
    "    del context, integrator\n",
    "    \n",
    "    print(\"************K_RMSD == 0************\")\n",
    "    print('Creating context...')\n",
    "\n",
    "#     integrator = read(f'{prefix}integrator.xml')\n",
    "    integrator = create_integrator(param_to_change)\n",
    "    \n",
    "    context = openmm.Context(system, integrator, platform)\n",
    "    context.setState(state)\n",
    "    \n",
    "    print(f'Setting K_RMSD to 0')\n",
    "    context.setParameter('K_RMSD', 0.0)\n",
    "\n",
    "    print('Integrating...')\n",
    "    niterations = 5\n",
    "    nsteps_per_iteration = 1000\n",
    "    for iteration in range(niterations):\n",
    "     \n",
    "        step = integrator.getGlobalVariableByName('step')\n",
    "        lambda_ = integrator.getGlobalVariableByName('lambda')\n",
    "        protocol_work = integrator.getGlobalVariableByName('protocol_work')\n",
    "        time = context.getTime()\n",
    "        cvs = cvforce.getCollectiveVariableValues(context)\n",
    "        rmsd = cvs[0]\n",
    "        print(f'step {step:10.0f} : time {time/unit.nanoseconds:10.3f} ns | lambda {lambda_:16.12f} | protocol_work = {protocol_work:12.3f} | RMSD = {rmsd:12.5f} nm')\n",
    "        integrator.step(nsteps_per_iteration)\n",
    "    \n",
    "    del context, integrator\n",
    "\n"
   ]
  },
  {
   "cell_type": "markdown",
   "id": "d3d0afb7",
   "metadata": {},
   "source": [
    "## Run neq"
   ]
  },
  {
   "cell_type": "code",
   "execution_count": 2,
   "id": "f8a5a063",
   "metadata": {
    "scrolled": false
   },
   "outputs": [
    {
     "name": "stdout",
     "output_type": "stream",
     "text": [
      "Reading /home/chodera/equilibrated_restraint_experiments/281/281_apo_system.xml...\n",
      "Reading /home/chodera/equilibrated_restraint_experiments/281/281_apo_state.xml...\n",
      "************K_RMSD != 0************\n",
      "Creating context...\n",
      "Integrating...\n",
      "step          0 : time      0.000 ns | lambda   0.000000000000 | protocol_work =        0.000 | RMSD =      0.00026 nm\n",
      "step       1000 : time      0.004 ns | lambda   0.003996000000 | protocol_work =        1.169 | RMSD =      0.07026 nm\n",
      "step       2000 : time      0.008 ns | lambda   0.007996000000 | protocol_work =        3.962 | RMSD =      0.08530 nm\n",
      "step       3000 : time      0.012 ns | lambda   0.011996000000 | protocol_work =        7.148 | RMSD =      0.09075 nm\n",
      "step       4000 : time      0.016 ns | lambda   0.015996000000 | protocol_work =       10.329 | RMSD =      0.09666 nm\n",
      "************K_RMSD == 0************\n",
      "Creating context...\n",
      "Setting K_RMSD to 0\n",
      "Integrating...\n",
      "step          0 : time      0.000 ns | lambda   0.000000000000 | protocol_work =        0.000 | RMSD =      0.00026 nm\n",
      "step       1000 : time      0.004 ns | lambda   0.003996000000 | protocol_work =        1.016 | RMSD =      0.06101 nm\n",
      "step       2000 : time      0.008 ns | lambda   0.007996000000 | protocol_work =        3.592 | RMSD =      0.07367 nm\n",
      "step       3000 : time      0.012 ns | lambda   0.011996000000 | protocol_work =        6.471 | RMSD =      0.08764 nm\n",
      "step       4000 : time      0.016 ns | lambda   0.015996000000 | protocol_work =        9.533 | RMSD =      0.08390 nm\n"
     ]
    }
   ],
   "source": [
    "test()"
   ]
  },
  {
   "cell_type": "markdown",
   "id": "8a9da2fb",
   "metadata": {},
   "source": [
    "## Run neq with lambda_bonds = 0"
   ]
  },
  {
   "cell_type": "code",
   "execution_count": 3,
   "id": "020348e2",
   "metadata": {
    "scrolled": false
   },
   "outputs": [
    {
     "name": "stdout",
     "output_type": "stream",
     "text": [
      "Reading /home/chodera/equilibrated_restraint_experiments/281/281_apo_system.xml...\n",
      "Reading /home/chodera/equilibrated_restraint_experiments/281/281_apo_state.xml...\n",
      "************K_RMSD != 0************\n",
      "Creating context...\n",
      "Integrating...\n",
      "step          0 : time      0.000 ns | lambda   0.000000000000 | protocol_work =        0.000 | RMSD =      0.00026 nm\n",
      "step       1000 : time      0.004 ns | lambda   0.003996000000 | protocol_work =        0.135 | RMSD =      0.06069 nm\n",
      "step       2000 : time      0.008 ns | lambda   0.007996000000 | protocol_work =        0.349 | RMSD =      0.07113 nm\n",
      "step       3000 : time      0.012 ns | lambda   0.011996000000 | protocol_work =        0.437 | RMSD =      0.08559 nm\n",
      "step       4000 : time      0.016 ns | lambda   0.015996000000 | protocol_work =        0.512 | RMSD =      0.08539 nm\n",
      "************K_RMSD == 0************\n",
      "Creating context...\n",
      "Setting K_RMSD to 0\n",
      "Integrating...\n",
      "step          0 : time      0.000 ns | lambda   0.000000000000 | protocol_work =        0.000 | RMSD =      0.00026 nm\n",
      "step       1000 : time      0.004 ns | lambda   0.003996000000 | protocol_work =       -0.000 | RMSD =      0.06045 nm\n",
      "step       2000 : time      0.008 ns | lambda   0.007996000000 | protocol_work =        0.000 | RMSD =      0.07446 nm\n",
      "step       3000 : time      0.012 ns | lambda   0.011996000000 | protocol_work =        0.000 | RMSD =      0.07683 nm\n",
      "step       4000 : time      0.016 ns | lambda   0.015996000000 | protocol_work =        0.000 | RMSD =      0.08759 nm\n"
     ]
    }
   ],
   "source": [
    "test('bonds')"
   ]
  },
  {
   "cell_type": "markdown",
   "id": "14f65111",
   "metadata": {},
   "source": [
    "## Run neq with lambda_angles = 0"
   ]
  },
  {
   "cell_type": "code",
   "execution_count": 4,
   "id": "40ce7b19",
   "metadata": {
    "scrolled": false
   },
   "outputs": [
    {
     "name": "stdout",
     "output_type": "stream",
     "text": [
      "Reading /home/chodera/equilibrated_restraint_experiments/281/281_apo_system.xml...\n",
      "Reading /home/chodera/equilibrated_restraint_experiments/281/281_apo_state.xml...\n",
      "************K_RMSD != 0************\n",
      "Creating context...\n",
      "Integrating...\n",
      "step          0 : time      0.000 ns | lambda   0.000000000000 | protocol_work =        0.000 | RMSD =      0.00026 nm\n",
      "step       1000 : time      0.004 ns | lambda   0.003996000000 | protocol_work =        0.138 | RMSD =      0.06368 nm\n",
      "step       2000 : time      0.008 ns | lambda   0.007996000000 | protocol_work =        0.253 | RMSD =      0.07802 nm\n",
      "step       3000 : time      0.012 ns | lambda   0.011996000000 | protocol_work =        0.334 | RMSD =      0.08228 nm\n",
      "step       4000 : time      0.016 ns | lambda   0.015996000000 | protocol_work =        0.418 | RMSD =      0.09028 nm\n",
      "************K_RMSD == 0************\n",
      "Creating context...\n",
      "Setting K_RMSD to 0\n",
      "Integrating...\n",
      "step          0 : time      0.000 ns | lambda   0.000000000000 | protocol_work =        0.000 | RMSD =      0.00026 nm\n",
      "step       1000 : time      0.004 ns | lambda   0.003996000000 | protocol_work =       -0.011 | RMSD =      0.06509 nm\n",
      "step       2000 : time      0.008 ns | lambda   0.007996000000 | protocol_work =       -0.020 | RMSD =      0.08094 nm\n",
      "step       3000 : time      0.012 ns | lambda   0.011996000000 | protocol_work =       -0.031 | RMSD =      0.08641 nm\n",
      "step       4000 : time      0.016 ns | lambda   0.015996000000 | protocol_work =       -0.042 | RMSD =      0.09093 nm\n"
     ]
    }
   ],
   "source": [
    "test('angles')"
   ]
  },
  {
   "cell_type": "markdown",
   "id": "bb2da72b",
   "metadata": {},
   "source": [
    "## Run neq with lambda_torsions = 0"
   ]
  },
  {
   "cell_type": "code",
   "execution_count": 5,
   "id": "2d3cf765",
   "metadata": {},
   "outputs": [
    {
     "name": "stdout",
     "output_type": "stream",
     "text": [
      "Reading /home/chodera/equilibrated_restraint_experiments/281/281_apo_system.xml...\n",
      "Reading /home/chodera/equilibrated_restraint_experiments/281/281_apo_state.xml...\n",
      "************K_RMSD != 0************\n",
      "Creating context...\n",
      "Integrating...\n",
      "step          0 : time      0.000 ns | lambda   0.000000000000 | protocol_work =        0.000 | RMSD =      0.00026 nm\n",
      "step       1000 : time      0.004 ns | lambda   0.003996000000 | protocol_work =        0.134 | RMSD =      0.06054 nm\n",
      "step       2000 : time      0.008 ns | lambda   0.007996000000 | protocol_work =        0.215 | RMSD =      0.07148 nm\n",
      "step       3000 : time      0.012 ns | lambda   0.011996000000 | protocol_work =        0.288 | RMSD =      0.08279 nm\n",
      "step       4000 : time      0.016 ns | lambda   0.015996000000 | protocol_work =        0.416 | RMSD =      0.08066 nm\n",
      "************K_RMSD == 0************\n",
      "Creating context...\n",
      "Setting K_RMSD to 0\n",
      "Integrating...\n",
      "step          0 : time      0.000 ns | lambda   0.000000000000 | protocol_work =        0.000 | RMSD =      0.00026 nm\n",
      "step       1000 : time      0.004 ns | lambda   0.003996000000 | protocol_work =       -0.009 | RMSD =      0.06824 nm\n",
      "step       2000 : time      0.008 ns | lambda   0.007996000000 | protocol_work =       -0.019 | RMSD =      0.08187 nm\n",
      "step       3000 : time      0.012 ns | lambda   0.011996000000 | protocol_work =       -0.028 | RMSD =      0.08960 nm\n",
      "step       4000 : time      0.016 ns | lambda   0.015996000000 | protocol_work =       -0.038 | RMSD =      0.10099 nm\n"
     ]
    }
   ],
   "source": [
    "test('torsions')"
   ]
  },
  {
   "cell_type": "markdown",
   "id": "688cedc7",
   "metadata": {},
   "source": [
    "## Run neq with lambda_electrostatics = 0"
   ]
  },
  {
   "cell_type": "code",
   "execution_count": 6,
   "id": "e2f01750",
   "metadata": {},
   "outputs": [
    {
     "name": "stdout",
     "output_type": "stream",
     "text": [
      "Reading /home/chodera/equilibrated_restraint_experiments/281/281_apo_system.xml...\n",
      "Reading /home/chodera/equilibrated_restraint_experiments/281/281_apo_state.xml...\n",
      "************K_RMSD != 0************\n",
      "Creating context...\n",
      "Integrating...\n",
      "step          0 : time      0.000 ns | lambda   0.000000000000 | protocol_work =        0.000 | RMSD =      0.00026 nm\n",
      "step       1000 : time      0.004 ns | lambda   0.003996000000 | protocol_work =        3.935 | RMSD =      0.06084 nm\n",
      "step       2000 : time      0.008 ns | lambda   0.007996000000 | protocol_work =        7.945 | RMSD =      0.07860 nm\n",
      "step       3000 : time      0.012 ns | lambda   0.011996000000 | protocol_work =       11.915 | RMSD =      0.08397 nm\n",
      "step       4000 : time      0.016 ns | lambda   0.015996000000 | protocol_work =       15.765 | RMSD =      0.08775 nm\n",
      "************K_RMSD == 0************\n",
      "Creating context...\n",
      "Setting K_RMSD to 0\n",
      "Integrating...\n",
      "step          0 : time      0.000 ns | lambda   0.000000000000 | protocol_work =        0.000 | RMSD =      0.00026 nm\n",
      "step       1000 : time      0.004 ns | lambda   0.003996000000 | protocol_work =        3.814 | RMSD =      0.06124 nm\n",
      "step       2000 : time      0.008 ns | lambda   0.007996000000 | protocol_work =        7.657 | RMSD =      0.07120 nm\n",
      "step       3000 : time      0.012 ns | lambda   0.011996000000 | protocol_work =       11.453 | RMSD =      0.08465 nm\n",
      "step       4000 : time      0.016 ns | lambda   0.015996000000 | protocol_work =       15.218 | RMSD =      0.08091 nm\n"
     ]
    }
   ],
   "source": [
    "test('electrostatics')"
   ]
  },
  {
   "cell_type": "markdown",
   "id": "70f12d56",
   "metadata": {},
   "source": [
    "## Run neq with lambda_sterics = 0"
   ]
  },
  {
   "cell_type": "code",
   "execution_count": 7,
   "id": "9b3fa6fd",
   "metadata": {
    "scrolled": false
   },
   "outputs": [
    {
     "name": "stdout",
     "output_type": "stream",
     "text": [
      "Reading /home/chodera/equilibrated_restraint_experiments/281/281_apo_system.xml...\n",
      "Reading /home/chodera/equilibrated_restraint_experiments/281/281_apo_state.xml...\n",
      "************K_RMSD != 0************\n",
      "Creating context...\n",
      "Integrating...\n",
      "step          0 : time      0.000 ns | lambda   0.000000000000 | protocol_work =        0.000 | RMSD =      0.00026 nm\n",
      "step       1000 : time      0.004 ns | lambda   0.003996000000 | protocol_work =       -2.646 | RMSD =      0.05977 nm\n",
      "step       2000 : time      0.008 ns | lambda   0.007996000000 | protocol_work =       -3.733 | RMSD =      0.07554 nm\n",
      "step       3000 : time      0.012 ns | lambda   0.011996000000 | protocol_work =       -4.553 | RMSD =      0.08425 nm\n",
      "step       4000 : time      0.016 ns | lambda   0.015996000000 | protocol_work =       -5.226 | RMSD =      0.08870 nm\n",
      "************K_RMSD == 0************\n",
      "Creating context...\n",
      "Setting K_RMSD to 0\n",
      "Integrating...\n",
      "step          0 : time      0.000 ns | lambda   0.000000000000 | protocol_work =        0.000 | RMSD =      0.00026 nm\n",
      "step       1000 : time      0.004 ns | lambda   0.003996000000 | protocol_work =       -2.793 | RMSD =      0.06385 nm\n",
      "step       2000 : time      0.008 ns | lambda   0.007996000000 | protocol_work =       -3.957 | RMSD =      0.07882 nm\n",
      "step       3000 : time      0.012 ns | lambda   0.011996000000 | protocol_work =       -4.883 | RMSD =      0.08764 nm\n",
      "step       4000 : time      0.016 ns | lambda   0.015996000000 | protocol_work =       -5.654 | RMSD =      0.09246 nm\n"
     ]
    }
   ],
   "source": [
    "test('sterics')"
   ]
  },
  {
   "cell_type": "code",
   "execution_count": null,
   "id": "4a2524cd",
   "metadata": {},
   "outputs": [],
   "source": []
  },
  {
   "cell_type": "code",
   "execution_count": null,
   "id": "953b435d",
   "metadata": {},
   "outputs": [],
   "source": []
  },
  {
   "cell_type": "code",
   "execution_count": null,
   "id": "30d4b3ac",
   "metadata": {},
   "outputs": [],
   "source": []
  },
  {
   "cell_type": "code",
   "execution_count": null,
   "id": "99925c82",
   "metadata": {},
   "outputs": [],
   "source": []
  },
  {
   "cell_type": "markdown",
   "id": "7073ab95",
   "metadata": {},
   "source": [
    "# Old code"
   ]
  },
  {
   "cell_type": "code",
   "execution_count": null,
   "id": "be8ea547",
   "metadata": {},
   "outputs": [],
   "source": [
    "#         if lambda_param is not None: # Only allow one set of lambdas to be changing\n",
    "#             print(f\"Changing only one lambda: {lambda_param}\")\n",
    "#             for k, v in context.getParameters().items():\n",
    "                \n",
    "#                 if 'old' in k:\n",
    "#                     if lambda_param in k:\n",
    "#                         pass\n",
    "#                     else:\n",
    "#                         context.setParameter(k, 1.0)\n",
    "#                 elif 'new' in k or 'reciprocal' in k:\n",
    "#                     if lambda_param in k:\n",
    "#                         pass\n",
    "#                     else:\n",
    "#                         context.setParameter(k, 0)"
   ]
  }
 ],
 "metadata": {
  "kernelspec": {
   "display_name": "Python 3 (ipykernel)",
   "language": "python",
   "name": "python3"
  },
  "language_info": {
   "codemirror_mode": {
    "name": "ipython",
    "version": 3
   },
   "file_extension": ".py",
   "mimetype": "text/x-python",
   "name": "python",
   "nbconvert_exporter": "python",
   "pygments_lexer": "ipython3",
   "version": "3.9.9"
  }
 },
 "nbformat": 4,
 "nbformat_minor": 5
}
