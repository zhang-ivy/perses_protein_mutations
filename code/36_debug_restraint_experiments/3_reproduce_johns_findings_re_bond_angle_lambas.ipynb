{
 "cells": [
  {
   "cell_type": "markdown",
   "id": "9f70f3f9",
   "metadata": {},
   "source": [
    "JDC: I've been printing the work accumulated over the first 5000 steps with the default K_RMSD compared with K_RMSD=0 and only changing one set of lambda_* parameters at a time.\n",
    "It appears that changing the bond lambdas causes the biggest difference in work accumulation between with and without restraints"
   ]
  },
  {
   "cell_type": "markdown",
   "id": "a9aec5af",
   "metadata": {},
   "source": [
    "Script: /home/chodera/equilibrated_restraint_experiments/281/test_neq.py"
   ]
  },
  {
   "cell_type": "code",
   "execution_count": 1,
   "id": "a5023bbc",
   "metadata": {},
   "outputs": [],
   "source": [
    "import openmm\n",
    "from openmm import unit\n",
    "\n",
    "# prefix = '/data/chodera/zhangi/perses_benchmark/neq/15/281/'\n",
    "prefix = '/home/chodera/equilibrated_restraint_experiments/281/'\n",
    "\n",
    "def read(filename):\n",
    "    print(f'Reading {filename}...')\n",
    "    with open(filename, 'r') as infile:\n",
    "        return openmm.XmlSerializer.deserialize(infile.read())\n",
    "    \n",
    "def test(lambda_param=None):\n",
    "    \n",
    "    system = read(f'{prefix}281_apo_system.xml')\n",
    "    state = read(f'{prefix}281_apo_state.xml')\n",
    "    integrator = read(f'{prefix}integrator.xml')\n",
    "\n",
    "    forces = { force.getName() : force for (index, force) in enumerate(system.getForces()) }\n",
    "    cvforce = forces['CustomCVForce']\n",
    "\n",
    "    platform = openmm.Platform.getPlatformByName('CUDA')\n",
    "    platform.setPropertyDefaultValue('Precision', 'mixed')\n",
    "    platform.setPropertyDefaultValue('DeterministicForces', 'true')\n",
    "    \n",
    "    print(\"************KMSD != 0************\")\n",
    "    print('Creating context...')\n",
    "\n",
    "    context = openmm.Context(system, integrator, platform)\n",
    "    context.setState(state)\n",
    "\n",
    "    print('Integrating...')\n",
    "    niterations = 5\n",
    "    nsteps_per_iteration = 1000\n",
    "    for iteration in range(niterations):\n",
    "        \n",
    "        if lambda_param is not None: # Only allow one set of lambdas to be changing\n",
    "            print(f\"Changing only one lambda: {lambda_param}\")\n",
    "            for k, v in context.getParameters().items():\n",
    "                \n",
    "                if 'old' in k:\n",
    "                    if lambda_param in k:\n",
    "                        pass\n",
    "                    else:\n",
    "                        context.setParameter(k, 1.0)\n",
    "                elif 'new' in k or 'reciprocal' in k:\n",
    "                    if lambda_param in k:\n",
    "                        pass\n",
    "                    else:\n",
    "                        context.setParameter(k, 0)\n",
    "            \n",
    "        step = integrator.getGlobalVariableByName('step')\n",
    "        lambda_ = integrator.getGlobalVariableByName('lambda')\n",
    "        protocol_work = integrator.getGlobalVariableByName('protocol_work')\n",
    "        time = context.getTime()\n",
    "        cvs = cvforce.getCollectiveVariableValues(context)\n",
    "        rmsd = cvs[0]\n",
    "        print(f'step {step:10.0f} : time {time/unit.nanoseconds:10.3f} ns | lambda {lambda_:16.12f} | protocol_work = {protocol_work:12.3f} | RMSD = {rmsd:12.5f} nm')\n",
    "#         for k, v in context.getParameters().items():\n",
    "#             print(k, v)\n",
    "        integrator.step(nsteps_per_iteration)\n",
    "\n",
    "    del context, integrator\n",
    "    \n",
    "    print(\"************K_RMSD == 0************\")\n",
    "    print('Creating context...')\n",
    "\n",
    "    integrator = read(f'{prefix}integrator.xml')\n",
    "    \n",
    "    context = openmm.Context(system, integrator, platform)\n",
    "    context.setState(state)\n",
    "    \n",
    "    print(f'Setting K_RMSD to 0')\n",
    "    context.setParameter('K_RMSD', 0.0)\n",
    "\n",
    "    print('Integrating...')\n",
    "    niterations = 5\n",
    "    nsteps_per_iteration = 1000\n",
    "    for iteration in range(niterations):\n",
    "        \n",
    "        if lambda_param is not None: # Only allow one set of lambdas to be changing\n",
    "            print(f\"Changing only one lambda: {lambda_param}\")\n",
    "            for k, v in context.getParameters().items():\n",
    "                \n",
    "                if 'old' in k:\n",
    "                    if lambda_param in k:\n",
    "                        pass\n",
    "                    else:\n",
    "                        context.setParameter(k, 1.0)\n",
    "                elif 'new' in k or 'reciprocal' in k:\n",
    "                    if lambda_param in k:\n",
    "                        pass\n",
    "                    else:\n",
    "                        context.setParameter(k, 0)\n",
    "            \n",
    "        step = integrator.getGlobalVariableByName('step')\n",
    "        lambda_ = integrator.getGlobalVariableByName('lambda')\n",
    "        protocol_work = integrator.getGlobalVariableByName('protocol_work')\n",
    "        time = context.getTime()\n",
    "        cvs = cvforce.getCollectiveVariableValues(context)\n",
    "        rmsd = cvs[0]\n",
    "        print(f'step {step:10.0f} : time {time/unit.nanoseconds:10.3f} ns | lambda {lambda_:16.12f} | protocol_work = {protocol_work:12.3f} | RMSD = {rmsd:12.5f} nm')\n",
    "        integrator.step(nsteps_per_iteration)\n",
    "    \n",
    "    del context, integrator\n",
    "\n"
   ]
  },
  {
   "cell_type": "markdown",
   "id": "d3d0afb7",
   "metadata": {},
   "source": [
    "## Run neq"
   ]
  },
  {
   "cell_type": "code",
   "execution_count": 2,
   "id": "f8a5a063",
   "metadata": {
    "scrolled": false
   },
   "outputs": [
    {
     "name": "stdout",
     "output_type": "stream",
     "text": [
      "Reading /home/chodera/equilibrated_restraint_experiments/281/281_apo_system.xml...\n",
      "Reading /home/chodera/equilibrated_restraint_experiments/281/281_apo_state.xml...\n",
      "Reading /home/chodera/equilibrated_restraint_experiments/281/integrator.xml...\n",
      "************KMSD != 0************\n",
      "Creating context...\n",
      "Integrating...\n",
      "step          0 : time      0.000 ns | lambda   0.000000000000 | protocol_work =        0.000 | RMSD =      0.00026 nm\n",
      "step       1000 : time      0.004 ns | lambda   0.003996000000 | protocol_work =        0.185 | RMSD =      0.05798 nm\n",
      "step       2000 : time      0.008 ns | lambda   0.007996000000 | protocol_work =        0.382 | RMSD =      0.08459 nm\n",
      "step       3000 : time      0.012 ns | lambda   0.011996000000 | protocol_work =        0.520 | RMSD =      0.08785 nm\n",
      "step       4000 : time      0.016 ns | lambda   0.015996000000 | protocol_work =        0.719 | RMSD =      0.08702 nm\n",
      "************K_RMSD == 0************\n",
      "Creating context...\n",
      "Reading /home/chodera/equilibrated_restraint_experiments/281/integrator.xml...\n",
      "Setting K_RMSD to 0\n",
      "Integrating...\n",
      "step          0 : time      0.000 ns | lambda   0.000000000000 | protocol_work =        0.000 | RMSD =      0.00026 nm\n",
      "step       1000 : time      0.004 ns | lambda   0.003996000000 | protocol_work =       -0.011 | RMSD =      0.05944 nm\n",
      "step       2000 : time      0.008 ns | lambda   0.007996000000 | protocol_work =       -0.021 | RMSD =      0.08556 nm\n",
      "step       3000 : time      0.012 ns | lambda   0.011996000000 | protocol_work =       -0.032 | RMSD =      0.08774 nm\n",
      "step       4000 : time      0.016 ns | lambda   0.015996000000 | protocol_work =       -0.043 | RMSD =      0.08467 nm\n"
     ]
    }
   ],
   "source": [
    "test()"
   ]
  },
  {
   "cell_type": "markdown",
   "id": "8a9da2fb",
   "metadata": {},
   "source": [
    "## Run neq with lambda_bonds = 0"
   ]
  },
  {
   "cell_type": "code",
   "execution_count": 3,
   "id": "020348e2",
   "metadata": {
    "scrolled": false
   },
   "outputs": [
    {
     "name": "stdout",
     "output_type": "stream",
     "text": [
      "Reading /home/chodera/equilibrated_restraint_experiments/281/281_apo_system.xml...\n",
      "Reading /home/chodera/equilibrated_restraint_experiments/281/281_apo_state.xml...\n",
      "Reading /home/chodera/equilibrated_restraint_experiments/281/integrator.xml...\n",
      "************KMSD != 0************\n",
      "Creating context...\n",
      "Integrating...\n",
      "Changing only one lambda: bonds\n",
      "step          0 : time      0.000 ns | lambda   0.000000000000 | protocol_work =        0.000 | RMSD =      0.00026 nm\n",
      "Changing only one lambda: bonds\n",
      "step       1000 : time      0.004 ns | lambda   0.003996000000 | protocol_work =        0.177 | RMSD =      0.06047 nm\n",
      "Changing only one lambda: bonds\n",
      "step       2000 : time      0.008 ns | lambda   0.007996000000 | protocol_work =        0.323 | RMSD =      0.07831 nm\n",
      "Changing only one lambda: bonds\n",
      "step       3000 : time      0.012 ns | lambda   0.011996000000 | protocol_work =        0.491 | RMSD =      0.08230 nm\n",
      "Changing only one lambda: bonds\n",
      "step       4000 : time      0.016 ns | lambda   0.015996000000 | protocol_work =        0.658 | RMSD =      0.09067 nm\n",
      "************K_RMSD == 0************\n",
      "Creating context...\n",
      "Reading /home/chodera/equilibrated_restraint_experiments/281/integrator.xml...\n",
      "Setting K_RMSD to 0\n",
      "Integrating...\n",
      "Changing only one lambda: bonds\n",
      "step          0 : time      0.000 ns | lambda   0.000000000000 | protocol_work =        0.000 | RMSD =      0.00026 nm\n",
      "Changing only one lambda: bonds\n",
      "step       1000 : time      0.004 ns | lambda   0.003996000000 | protocol_work =       -0.010 | RMSD =      0.06053 nm\n",
      "Changing only one lambda: bonds\n",
      "step       2000 : time      0.008 ns | lambda   0.007996000000 | protocol_work =       -0.035 | RMSD =      0.07617 nm\n",
      "Changing only one lambda: bonds\n",
      "step       3000 : time      0.012 ns | lambda   0.011996000000 | protocol_work =       -0.092 | RMSD =      0.09146 nm\n",
      "Changing only one lambda: bonds\n",
      "step       4000 : time      0.016 ns | lambda   0.015996000000 | protocol_work =       -0.143 | RMSD =      0.09138 nm\n"
     ]
    }
   ],
   "source": [
    "test(lambda_param='bonds')"
   ]
  },
  {
   "cell_type": "markdown",
   "id": "14f65111",
   "metadata": {},
   "source": [
    "## Run neq with lambda_angles = 0"
   ]
  },
  {
   "cell_type": "code",
   "execution_count": 4,
   "id": "40ce7b19",
   "metadata": {
    "scrolled": false
   },
   "outputs": [
    {
     "name": "stdout",
     "output_type": "stream",
     "text": [
      "Reading /home/chodera/equilibrated_restraint_experiments/281/281_apo_system.xml...\n",
      "Reading /home/chodera/equilibrated_restraint_experiments/281/281_apo_state.xml...\n",
      "Reading /home/chodera/equilibrated_restraint_experiments/281/integrator.xml...\n",
      "************KMSD != 0************\n",
      "Creating context...\n",
      "Integrating...\n",
      "Changing only one lambda: angles\n",
      "step          0 : time      0.000 ns | lambda   0.000000000000 | protocol_work =        0.000 | RMSD =      0.00026 nm\n",
      "Changing only one lambda: angles\n",
      "step       1000 : time      0.004 ns | lambda   0.003996000000 | protocol_work =        0.184 | RMSD =      0.06408 nm\n",
      "Changing only one lambda: angles\n",
      "step       2000 : time      0.008 ns | lambda   0.007996000000 | protocol_work =        0.282 | RMSD =      0.08663 nm\n",
      "Changing only one lambda: angles\n",
      "step       3000 : time      0.012 ns | lambda   0.011996000000 | protocol_work =        0.404 | RMSD =      0.08223 nm\n",
      "Changing only one lambda: angles\n",
      "step       4000 : time      0.016 ns | lambda   0.015996000000 | protocol_work =        0.679 | RMSD =      0.09216 nm\n",
      "************K_RMSD == 0************\n",
      "Creating context...\n",
      "Reading /home/chodera/equilibrated_restraint_experiments/281/integrator.xml...\n",
      "Setting K_RMSD to 0\n",
      "Integrating...\n",
      "Changing only one lambda: angles\n",
      "step          0 : time      0.000 ns | lambda   0.000000000000 | protocol_work =        0.000 | RMSD =      0.00026 nm\n",
      "Changing only one lambda: angles\n",
      "step       1000 : time      0.004 ns | lambda   0.003996000000 | protocol_work =       -0.010 | RMSD =      0.06066 nm\n",
      "Changing only one lambda: angles\n",
      "step       2000 : time      0.008 ns | lambda   0.007996000000 | protocol_work =       -0.021 | RMSD =      0.06806 nm\n",
      "Changing only one lambda: angles\n",
      "step       3000 : time      0.012 ns | lambda   0.011996000000 | protocol_work =       -0.031 | RMSD =      0.08787 nm\n",
      "Changing only one lambda: angles\n",
      "step       4000 : time      0.016 ns | lambda   0.015996000000 | protocol_work =       -0.040 | RMSD =      0.08525 nm\n"
     ]
    }
   ],
   "source": [
    "test(lambda_param='angles')"
   ]
  },
  {
   "cell_type": "markdown",
   "id": "bb2da72b",
   "metadata": {},
   "source": [
    "## Run neq with lambda_torsions = 0"
   ]
  },
  {
   "cell_type": "code",
   "execution_count": 5,
   "id": "2d3cf765",
   "metadata": {},
   "outputs": [
    {
     "name": "stdout",
     "output_type": "stream",
     "text": [
      "Reading /home/chodera/equilibrated_restraint_experiments/281/281_apo_system.xml...\n",
      "Reading /home/chodera/equilibrated_restraint_experiments/281/281_apo_state.xml...\n",
      "Reading /home/chodera/equilibrated_restraint_experiments/281/integrator.xml...\n",
      "************KMSD != 0************\n",
      "Creating context...\n",
      "Integrating...\n",
      "Changing only one lambda: torsions\n",
      "step          0 : time      0.000 ns | lambda   0.000000000000 | protocol_work =        0.000 | RMSD =      0.00026 nm\n",
      "Changing only one lambda: torsions\n",
      "step       1000 : time      0.004 ns | lambda   0.003996000000 | protocol_work =        0.227 | RMSD =      0.06733 nm\n",
      "Changing only one lambda: torsions\n",
      "step       2000 : time      0.008 ns | lambda   0.007996000000 | protocol_work =        0.396 | RMSD =      0.07725 nm\n",
      "Changing only one lambda: torsions\n",
      "step       3000 : time      0.012 ns | lambda   0.011996000000 | protocol_work =        0.601 | RMSD =      0.08577 nm\n",
      "Changing only one lambda: torsions\n",
      "step       4000 : time      0.016 ns | lambda   0.015996000000 | protocol_work =        0.776 | RMSD =      0.08572 nm\n",
      "************K_RMSD == 0************\n",
      "Creating context...\n",
      "Reading /home/chodera/equilibrated_restraint_experiments/281/integrator.xml...\n",
      "Setting K_RMSD to 0\n",
      "Integrating...\n",
      "Changing only one lambda: torsions\n",
      "step          0 : time      0.000 ns | lambda   0.000000000000 | protocol_work =        0.000 | RMSD =      0.00026 nm\n",
      "Changing only one lambda: torsions\n",
      "step       1000 : time      0.004 ns | lambda   0.003996000000 | protocol_work =       -0.010 | RMSD =      0.06257 nm\n",
      "Changing only one lambda: torsions\n",
      "step       2000 : time      0.008 ns | lambda   0.007996000000 | protocol_work =       -0.034 | RMSD =      0.08472 nm\n",
      "Changing only one lambda: torsions\n",
      "step       3000 : time      0.012 ns | lambda   0.011996000000 | protocol_work =       -0.077 | RMSD =      0.09214 nm\n",
      "Changing only one lambda: torsions\n",
      "step       4000 : time      0.016 ns | lambda   0.015996000000 | protocol_work =       -0.102 | RMSD =      0.10015 nm\n"
     ]
    }
   ],
   "source": [
    "test(lambda_param='torsions')"
   ]
  },
  {
   "cell_type": "markdown",
   "id": "688cedc7",
   "metadata": {},
   "source": [
    "## Run neq with lambda_electrostatics = 0"
   ]
  },
  {
   "cell_type": "code",
   "execution_count": 6,
   "id": "e2f01750",
   "metadata": {},
   "outputs": [
    {
     "name": "stdout",
     "output_type": "stream",
     "text": [
      "Reading /home/chodera/equilibrated_restraint_experiments/281/281_apo_system.xml...\n",
      "Reading /home/chodera/equilibrated_restraint_experiments/281/281_apo_state.xml...\n",
      "Reading /home/chodera/equilibrated_restraint_experiments/281/integrator.xml...\n",
      "************KMSD != 0************\n",
      "Creating context...\n",
      "Integrating...\n",
      "Changing only one lambda: electrostatics\n",
      "step          0 : time      0.000 ns | lambda   0.000000000000 | protocol_work =        0.000 | RMSD =      0.00026 nm\n",
      "Changing only one lambda: electrostatics\n",
      "step       1000 : time      0.004 ns | lambda   0.003996000000 | protocol_work =        0.248 | RMSD =      0.06423 nm\n",
      "Changing only one lambda: electrostatics\n",
      "step       2000 : time      0.008 ns | lambda   0.007996000000 | protocol_work =        0.506 | RMSD =      0.07163 nm\n",
      "Changing only one lambda: electrostatics\n",
      "step       3000 : time      0.012 ns | lambda   0.011996000000 | protocol_work =        0.730 | RMSD =      0.08516 nm\n",
      "Changing only one lambda: electrostatics\n",
      "step       4000 : time      0.016 ns | lambda   0.015996000000 | protocol_work =        0.917 | RMSD =      0.08425 nm\n",
      "************K_RMSD == 0************\n",
      "Creating context...\n",
      "Reading /home/chodera/equilibrated_restraint_experiments/281/integrator.xml...\n",
      "Setting K_RMSD to 0\n",
      "Integrating...\n",
      "Changing only one lambda: electrostatics\n",
      "step          0 : time      0.000 ns | lambda   0.000000000000 | protocol_work =        0.000 | RMSD =      0.00026 nm\n",
      "Changing only one lambda: electrostatics\n",
      "step       1000 : time      0.004 ns | lambda   0.003996000000 | protocol_work =       -0.011 | RMSD =      0.06832 nm\n",
      "Changing only one lambda: electrostatics\n",
      "step       2000 : time      0.008 ns | lambda   0.007996000000 | protocol_work =       -0.034 | RMSD =      0.07981 nm\n",
      "Changing only one lambda: electrostatics\n",
      "step       3000 : time      0.012 ns | lambda   0.011996000000 | protocol_work =       -0.052 | RMSD =      0.09587 nm\n",
      "Changing only one lambda: electrostatics\n",
      "step       4000 : time      0.016 ns | lambda   0.015996000000 | protocol_work =       -0.125 | RMSD =      0.08767 nm\n"
     ]
    }
   ],
   "source": [
    "test(lambda_param='electrostatics')"
   ]
  },
  {
   "cell_type": "markdown",
   "id": "70f12d56",
   "metadata": {},
   "source": [
    "## Run neq with lambda_sterics = 0"
   ]
  },
  {
   "cell_type": "code",
   "execution_count": 7,
   "id": "9b3fa6fd",
   "metadata": {
    "scrolled": false
   },
   "outputs": [
    {
     "name": "stdout",
     "output_type": "stream",
     "text": [
      "Reading /home/chodera/equilibrated_restraint_experiments/281/281_apo_system.xml...\n",
      "Reading /home/chodera/equilibrated_restraint_experiments/281/281_apo_state.xml...\n",
      "Reading /home/chodera/equilibrated_restraint_experiments/281/integrator.xml...\n",
      "************KMSD != 0************\n",
      "Creating context...\n",
      "Integrating...\n",
      "Changing only one lambda: sterics\n",
      "step          0 : time      0.000 ns | lambda   0.000000000000 | protocol_work =        0.000 | RMSD =      0.00026 nm\n",
      "Changing only one lambda: sterics\n",
      "step       1000 : time      0.004 ns | lambda   0.003996000000 | protocol_work =        0.222 | RMSD =      0.06247 nm\n",
      "Changing only one lambda: sterics\n",
      "step       2000 : time      0.008 ns | lambda   0.007996000000 | protocol_work =        0.462 | RMSD =      0.07497 nm\n",
      "Changing only one lambda: sterics\n",
      "step       3000 : time      0.012 ns | lambda   0.011996000000 | protocol_work =        0.634 | RMSD =      0.08862 nm\n",
      "Changing only one lambda: sterics\n",
      "step       4000 : time      0.016 ns | lambda   0.015996000000 | protocol_work =        0.785 | RMSD =      0.10422 nm\n",
      "************K_RMSD == 0************\n",
      "Creating context...\n",
      "Reading /home/chodera/equilibrated_restraint_experiments/281/integrator.xml...\n",
      "Setting K_RMSD to 0\n",
      "Integrating...\n",
      "Changing only one lambda: sterics\n",
      "step          0 : time      0.000 ns | lambda   0.000000000000 | protocol_work =        0.000 | RMSD =      0.00026 nm\n",
      "Changing only one lambda: sterics\n",
      "step       1000 : time      0.004 ns | lambda   0.003996000000 | protocol_work =       -0.011 | RMSD =      0.05776 nm\n",
      "Changing only one lambda: sterics\n",
      "step       2000 : time      0.008 ns | lambda   0.007996000000 | protocol_work =       -0.037 | RMSD =      0.07060 nm\n",
      "Changing only one lambda: sterics\n",
      "step       3000 : time      0.012 ns | lambda   0.011996000000 | protocol_work =       -0.075 | RMSD =      0.08354 nm\n",
      "Changing only one lambda: sterics\n",
      "step       4000 : time      0.016 ns | lambda   0.015996000000 | protocol_work =       -0.097 | RMSD =      0.08831 nm\n"
     ]
    }
   ],
   "source": [
    "test(lambda_param='sterics')"
   ]
  },
  {
   "cell_type": "code",
   "execution_count": null,
   "id": "4a2524cd",
   "metadata": {},
   "outputs": [],
   "source": []
  }
 ],
 "metadata": {
  "kernelspec": {
   "display_name": "Python 3 (ipykernel)",
   "language": "python",
   "name": "python3"
  },
  "language_info": {
   "codemirror_mode": {
    "name": "ipython",
    "version": 3
   },
   "file_extension": ".py",
   "mimetype": "text/x-python",
   "name": "python",
   "nbconvert_exporter": "python",
   "pygments_lexer": "ipython3",
   "version": "3.9.9"
  }
 },
 "nbformat": 4,
 "nbformat_minor": 5
}
