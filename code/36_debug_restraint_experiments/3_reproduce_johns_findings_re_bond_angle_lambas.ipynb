{
 "cells": [
  {
   "cell_type": "markdown",
   "id": "9f70f3f9",
   "metadata": {},
   "source": [
    "JDC: I've been printing the work accumulated over the first 5000 steps with the default K_RMSD compared with K_RMSD=0 and only changing one set of lambda_* parameters at a time.\n",
    "It appears that changing the bond lambdas causes the biggest difference in work accumulation between with and without restraints"
   ]
  },
  {
   "cell_type": "markdown",
   "id": "a9aec5af",
   "metadata": {},
   "source": [
    "Script: /home/chodera/equilibrated_restraint_experiments/281/test_neq.py"
   ]
  },
  {
   "cell_type": "code",
   "execution_count": 1,
   "id": "a5023bbc",
   "metadata": {},
   "outputs": [],
   "source": [
    "import openmm\n",
    "from openmm import unit\n",
    "\n",
    "prefix = '/data/chodera/zhangi/perses_benchmark/neq/15/281/'\n",
    "\n",
    "def read(filename):\n",
    "    print(f'Reading {filename}...')\n",
    "    with open(filename, 'r') as infile:\n",
    "        return openmm.XmlSerializer.deserialize(infile.read())\n",
    "    \n",
    "def test(lambda_param=None):\n",
    "    \n",
    "    system = read(f'{prefix}281_apo_system.xml')\n",
    "    state = read(f'{prefix}281_apo_state.xml')\n",
    "    integrator = read(f'{prefix}integrator.xml')\n",
    "\n",
    "    forces = { force.getName() : force for (index, force) in enumerate(system.getForces()) }\n",
    "    cvforce = forces['CustomCVForce']\n",
    "\n",
    "    platform = openmm.Platform.getPlatformByName('CUDA')\n",
    "    platform.setPropertyDefaultValue('Precision', 'mixed')\n",
    "    platform.setPropertyDefaultValue('DeterministicForces', 'true')\n",
    "    \n",
    "    print(\"************KMSD != 0************\")\n",
    "    print('Creating context...')\n",
    "\n",
    "    context = openmm.Context(system, integrator, platform)\n",
    "    context.setState(state)\n",
    "\n",
    "    print('Integrating...')\n",
    "    niterations = 5\n",
    "    nsteps_per_iteration = 1000\n",
    "    for iteration in range(niterations):\n",
    "        \n",
    "        if lambda_param is not None: # Only allow set of lambdas to be changing\n",
    "            print(f\"Changing only one lambda: {lambda_param}\")\n",
    "            for k, v in context.getParameters().items():\n",
    "                \n",
    "                if 'old' in k:\n",
    "                    if lambda_param in k:\n",
    "                        pass\n",
    "                    else:\n",
    "                        context.setParameter(k, 1.0)\n",
    "                elif 'new' in k or 'reciprocal' in k:\n",
    "                    if lambda_param in k:\n",
    "                        pass\n",
    "                    else:\n",
    "                        context.setParameter(k, 0)\n",
    "            \n",
    "        step = integrator.getGlobalVariableByName('step')\n",
    "        lambda_ = integrator.getGlobalVariableByName('lambda')\n",
    "        protocol_work = integrator.getGlobalVariableByName('protocol_work')\n",
    "        time = context.getTime()\n",
    "        cvs = cvforce.getCollectiveVariableValues(context)\n",
    "        rmsd = cvs[0]\n",
    "        print(f'step {step:10.0f} : time {time/unit.nanoseconds:10.3f} ns | lambda {lambda_:16.12f} | protocol_work = {protocol_work:12.3f} | RMSD = {rmsd:12.5f} nm')\n",
    "#         for k, v in context.getParameters().items():\n",
    "#             print(k, v)\n",
    "        integrator.step(nsteps_per_iteration)\n",
    "\n",
    "    del context, integrator\n",
    "    \n",
    "    print(\"************K_RMSD == 0************\")\n",
    "    print('Creating context...')\n",
    "\n",
    "    integrator = read(f'{prefix}integrator.xml')\n",
    "    \n",
    "    context = openmm.Context(system, integrator, platform)\n",
    "    context.setState(state)\n",
    "    \n",
    "    print(f'Setting K_RMSD to 0')\n",
    "    context.setParameter('K_RMSD', 0.0)\n",
    "\n",
    "    print('Integrating...')\n",
    "    niterations = 5\n",
    "    nsteps_per_iteration = 1000\n",
    "    for iteration in range(niterations):\n",
    "        \n",
    "        if lambda_param is not None: # Only allow one set of lambdas to be changing\n",
    "            print(f\"Changing only one lambda: {lambda_param}\")\n",
    "            for k, v in context.getParameters().items():\n",
    "                \n",
    "                if 'old' in k:\n",
    "                    if lambda_param in k:\n",
    "                        pass\n",
    "                    else:\n",
    "                        context.setParameter(k, 1.0)\n",
    "                elif 'new' in k or 'reciprocal' in k:\n",
    "                    if lambda_param in k:\n",
    "                        pass\n",
    "                    else:\n",
    "                        context.setParameter(k, 0)\n",
    "            \n",
    "        step = integrator.getGlobalVariableByName('step')\n",
    "        lambda_ = integrator.getGlobalVariableByName('lambda')\n",
    "        protocol_work = integrator.getGlobalVariableByName('protocol_work')\n",
    "        time = context.getTime()\n",
    "        cvs = cvforce.getCollectiveVariableValues(context)\n",
    "        rmsd = cvs[0]\n",
    "        print(f'step {step:10.0f} : time {time/unit.nanoseconds:10.3f} ns | lambda {lambda_:16.12f} | protocol_work = {protocol_work:12.3f} | RMSD = {rmsd:12.5f} nm')\n",
    "        integrator.step(nsteps_per_iteration)\n",
    "    \n",
    "    del context, integrator\n",
    "\n"
   ]
  },
  {
   "cell_type": "markdown",
   "id": "d3d0afb7",
   "metadata": {},
   "source": [
    "## Run neq"
   ]
  },
  {
   "cell_type": "code",
   "execution_count": 7,
   "id": "f8a5a063",
   "metadata": {
    "scrolled": false
   },
   "outputs": [
    {
     "name": "stdout",
     "output_type": "stream",
     "text": [
      "Reading /data/chodera/zhangi/perses_benchmark/neq/15/281/281_apo_system.xml...\n",
      "Reading /data/chodera/zhangi/perses_benchmark/neq/15/281/281_apo_state.xml...\n",
      "Reading /data/chodera/zhangi/perses_benchmark/neq/15/281/integrator.xml...\n",
      "************KMSD != 0************\n",
      "Creating context...\n",
      "Integrating...\n",
      "step          0 : time      0.000 ns | lambda   0.000000000000 | protocol_work =        0.000 | RMSD =      0.00019 nm\n",
      "step       1000 : time      0.004 ns | lambda   0.003996000000 | protocol_work =        2.441 | RMSD =      0.10717 nm\n",
      "step       2000 : time      0.008 ns | lambda   0.007996000000 | protocol_work =       17.858 | RMSD =      0.13589 nm\n",
      "step       3000 : time      0.012 ns | lambda   0.011996000000 | protocol_work =       32.242 | RMSD =      0.16023 nm\n",
      "step       4000 : time      0.016 ns | lambda   0.015996000000 | protocol_work =       45.717 | RMSD =      0.17481 nm\n",
      "************K_RMSD == 0************\n",
      "Creating context...\n",
      "Reading /data/chodera/zhangi/perses_benchmark/neq/15/281/integrator.xml...\n",
      "Setting K_RMSD to 0\n",
      "Integrating...\n",
      "step          0 : time      0.000 ns | lambda   0.000000000000 | protocol_work =        0.000 | RMSD =      0.00019 nm\n",
      "step       1000 : time      0.004 ns | lambda   0.003996000000 | protocol_work =        1.194 | RMSD =      0.10686 nm\n",
      "step       2000 : time      0.008 ns | lambda   0.007996000000 | protocol_work =        3.978 | RMSD =      0.12894 nm\n",
      "step       3000 : time      0.012 ns | lambda   0.011996000000 | protocol_work =        6.952 | RMSD =      0.14312 nm\n",
      "step       4000 : time      0.016 ns | lambda   0.015996000000 | protocol_work =       10.108 | RMSD =      0.15351 nm\n"
     ]
    }
   ],
   "source": [
    "test()"
   ]
  },
  {
   "cell_type": "markdown",
   "id": "8a9da2fb",
   "metadata": {},
   "source": [
    "## Run neq with lambda_bonds = 0"
   ]
  },
  {
   "cell_type": "code",
   "execution_count": 2,
   "id": "020348e2",
   "metadata": {
    "scrolled": false
   },
   "outputs": [
    {
     "name": "stdout",
     "output_type": "stream",
     "text": [
      "Reading /data/chodera/zhangi/perses_benchmark/neq/15/281/281_apo_system.xml...\n",
      "Reading /data/chodera/zhangi/perses_benchmark/neq/15/281/281_apo_state.xml...\n",
      "Reading /data/chodera/zhangi/perses_benchmark/neq/15/281/integrator.xml...\n",
      "************KMSD != 0************\n",
      "Creating context...\n",
      "Integrating...\n",
      "Changing only one lambda: bonds\n",
      "step          0 : time      0.000 ns | lambda   0.000000000000 | protocol_work =        0.000 | RMSD =      0.00019 nm\n",
      "Changing only one lambda: bonds\n",
      "step       1000 : time      0.004 ns | lambda   0.003996000000 | protocol_work =       18.250 | RMSD =      0.10483 nm\n",
      "Changing only one lambda: bonds\n",
      "step       2000 : time      0.008 ns | lambda   0.007996000000 | protocol_work =       26.034 | RMSD =      0.12202 nm\n",
      "Changing only one lambda: bonds\n",
      "step       3000 : time      0.012 ns | lambda   0.011996000000 | protocol_work =       42.310 | RMSD =      0.14735 nm\n",
      "Changing only one lambda: bonds\n",
      "step       4000 : time      0.016 ns | lambda   0.015996000000 | protocol_work =       70.976 | RMSD =      0.15601 nm\n",
      "************K_RMSD == 0************\n",
      "Creating context...\n",
      "Reading /data/chodera/zhangi/perses_benchmark/neq/15/281/integrator.xml...\n",
      "Setting K_RMSD to 0\n",
      "Integrating...\n",
      "Changing only one lambda: bonds\n",
      "step          0 : time      0.000 ns | lambda   0.000000000000 | protocol_work =        0.000 | RMSD =      0.00019 nm\n",
      "Changing only one lambda: bonds\n",
      "step       1000 : time      0.004 ns | lambda   0.003996000000 | protocol_work =        1.111 | RMSD =      0.09893 nm\n",
      "Changing only one lambda: bonds\n",
      "step       2000 : time      0.008 ns | lambda   0.007996000000 | protocol_work =        4.496 | RMSD =      0.13466 nm\n",
      "Changing only one lambda: bonds\n",
      "step       3000 : time      0.012 ns | lambda   0.011996000000 | protocol_work =       11.307 | RMSD =      0.14592 nm\n",
      "Changing only one lambda: bonds\n",
      "step       4000 : time      0.016 ns | lambda   0.015996000000 | protocol_work =       21.590 | RMSD =      0.15190 nm\n"
     ]
    }
   ],
   "source": [
    "test(lambda_param='bonds')"
   ]
  },
  {
   "cell_type": "markdown",
   "id": "14f65111",
   "metadata": {},
   "source": [
    "## Run neq with lambda_angles = 0"
   ]
  },
  {
   "cell_type": "code",
   "execution_count": 3,
   "id": "40ce7b19",
   "metadata": {
    "scrolled": false
   },
   "outputs": [
    {
     "name": "stdout",
     "output_type": "stream",
     "text": [
      "Reading /data/chodera/zhangi/perses_benchmark/neq/15/281/281_apo_system.xml...\n",
      "Reading /data/chodera/zhangi/perses_benchmark/neq/15/281/281_apo_state.xml...\n",
      "Reading /data/chodera/zhangi/perses_benchmark/neq/15/281/integrator.xml...\n",
      "************KMSD != 0************\n",
      "Creating context...\n",
      "Integrating...\n",
      "Changing only one lambda: angles\n",
      "step          0 : time      0.000 ns | lambda   0.000000000000 | protocol_work =        0.000 | RMSD =      0.00019 nm\n",
      "Changing only one lambda: angles\n",
      "step       1000 : time      0.004 ns | lambda   0.003996000000 | protocol_work =        3.741 | RMSD =      0.10336 nm\n",
      "Changing only one lambda: angles\n",
      "step       2000 : time      0.008 ns | lambda   0.007996000000 | protocol_work =       12.490 | RMSD =      0.13780 nm\n",
      "Changing only one lambda: angles\n",
      "step       3000 : time      0.012 ns | lambda   0.011996000000 | protocol_work =       35.515 | RMSD =      0.13841 nm\n",
      "Changing only one lambda: angles\n",
      "step       4000 : time      0.016 ns | lambda   0.015996000000 | protocol_work =       64.768 | RMSD =      0.14937 nm\n",
      "************K_RMSD == 0************\n",
      "Creating context...\n",
      "Reading /data/chodera/zhangi/perses_benchmark/neq/15/281/integrator.xml...\n",
      "Setting K_RMSD to 0\n",
      "Integrating...\n",
      "Changing only one lambda: angles\n",
      "step          0 : time      0.000 ns | lambda   0.000000000000 | protocol_work =        0.000 | RMSD =      0.00019 nm\n",
      "Changing only one lambda: angles\n",
      "step       1000 : time      0.004 ns | lambda   0.003996000000 | protocol_work =        1.246 | RMSD =      0.10191 nm\n",
      "Changing only one lambda: angles\n",
      "step       2000 : time      0.008 ns | lambda   0.007996000000 | protocol_work =        5.298 | RMSD =      0.13695 nm\n",
      "Changing only one lambda: angles\n",
      "step       3000 : time      0.012 ns | lambda   0.011996000000 | protocol_work =       12.600 | RMSD =      0.14220 nm\n",
      "Changing only one lambda: angles\n",
      "step       4000 : time      0.016 ns | lambda   0.015996000000 | protocol_work =       22.791 | RMSD =      0.15005 nm\n"
     ]
    }
   ],
   "source": [
    "test(lambda_param='angles')"
   ]
  },
  {
   "cell_type": "markdown",
   "id": "f53c7b21",
   "metadata": {},
   "source": [
    "## Run neq with lambda_torsions = 0"
   ]
  },
  {
   "cell_type": "code",
   "execution_count": 4,
   "id": "34ca7e7d",
   "metadata": {},
   "outputs": [
    {
     "name": "stdout",
     "output_type": "stream",
     "text": [
      "Reading /data/chodera/zhangi/perses_benchmark/neq/15/281/281_apo_system.xml...\n",
      "Reading /data/chodera/zhangi/perses_benchmark/neq/15/281/281_apo_state.xml...\n",
      "Reading /data/chodera/zhangi/perses_benchmark/neq/15/281/integrator.xml...\n",
      "************KMSD != 0************\n",
      "Creating context...\n",
      "Integrating...\n",
      "Changing only one lambda: torsions\n",
      "step          0 : time      0.000 ns | lambda   0.000000000000 | protocol_work =        0.000 | RMSD =      0.00019 nm\n",
      "Changing only one lambda: torsions\n",
      "step       1000 : time      0.004 ns | lambda   0.003996000000 | protocol_work =       18.579 | RMSD =      0.10888 nm\n",
      "Changing only one lambda: torsions\n",
      "step       2000 : time      0.008 ns | lambda   0.007996000000 | protocol_work =       26.647 | RMSD =      0.13235 nm\n",
      "Changing only one lambda: torsions\n",
      "step       3000 : time      0.012 ns | lambda   0.011996000000 | protocol_work =       42.317 | RMSD =      0.14618 nm\n",
      "Changing only one lambda: torsions\n",
      "step       4000 : time      0.016 ns | lambda   0.015996000000 | protocol_work =       60.905 | RMSD =      0.15803 nm\n",
      "************K_RMSD == 0************\n",
      "Creating context...\n",
      "Reading /data/chodera/zhangi/perses_benchmark/neq/15/281/integrator.xml...\n",
      "Setting K_RMSD to 0\n",
      "Integrating...\n",
      "Changing only one lambda: torsions\n",
      "step          0 : time      0.000 ns | lambda   0.000000000000 | protocol_work =        0.000 | RMSD =      0.00019 nm\n",
      "Changing only one lambda: torsions\n",
      "step       1000 : time      0.004 ns | lambda   0.003996000000 | protocol_work =        1.222 | RMSD =      0.09899 nm\n",
      "Changing only one lambda: torsions\n",
      "step       2000 : time      0.008 ns | lambda   0.007996000000 | protocol_work =        4.795 | RMSD =      0.12949 nm\n",
      "Changing only one lambda: torsions\n",
      "step       3000 : time      0.012 ns | lambda   0.011996000000 | protocol_work =       11.213 | RMSD =      0.15736 nm\n",
      "Changing only one lambda: torsions\n",
      "step       4000 : time      0.016 ns | lambda   0.015996000000 | protocol_work =       20.477 | RMSD =      0.15357 nm\n"
     ]
    }
   ],
   "source": [
    "test(lambda_param='torsions')"
   ]
  },
  {
   "cell_type": "markdown",
   "id": "4361662a",
   "metadata": {},
   "source": [
    "## Run neq with lambda_electrostatics = 0"
   ]
  },
  {
   "cell_type": "code",
   "execution_count": 5,
   "id": "5d5d0d3c",
   "metadata": {},
   "outputs": [
    {
     "name": "stdout",
     "output_type": "stream",
     "text": [
      "Reading /data/chodera/zhangi/perses_benchmark/neq/15/281/281_apo_system.xml...\n",
      "Reading /data/chodera/zhangi/perses_benchmark/neq/15/281/281_apo_state.xml...\n",
      "Reading /data/chodera/zhangi/perses_benchmark/neq/15/281/integrator.xml...\n",
      "************KMSD != 0************\n",
      "Creating context...\n",
      "Integrating...\n",
      "Changing only one lambda: electrostatics\n",
      "step          0 : time      0.000 ns | lambda   0.000000000000 | protocol_work =        0.000 | RMSD =      0.00019 nm\n",
      "Changing only one lambda: electrostatics\n",
      "step       1000 : time      0.004 ns | lambda   0.003996000000 | protocol_work =       23.490 | RMSD =      0.10599 nm\n",
      "Changing only one lambda: electrostatics\n",
      "step       2000 : time      0.008 ns | lambda   0.007996000000 | protocol_work =       25.618 | RMSD =      0.13007 nm\n",
      "Changing only one lambda: electrostatics\n",
      "step       3000 : time      0.012 ns | lambda   0.011996000000 | protocol_work =       29.967 | RMSD =      0.15465 nm\n",
      "Changing only one lambda: electrostatics\n",
      "step       4000 : time      0.016 ns | lambda   0.015996000000 | protocol_work =       51.885 | RMSD =      0.16376 nm\n",
      "************K_RMSD == 0************\n",
      "Creating context...\n",
      "Reading /data/chodera/zhangi/perses_benchmark/neq/15/281/integrator.xml...\n",
      "Setting K_RMSD to 0\n",
      "Integrating...\n",
      "Changing only one lambda: electrostatics\n",
      "step          0 : time      0.000 ns | lambda   0.000000000000 | protocol_work =        0.000 | RMSD =      0.00019 nm\n",
      "Changing only one lambda: electrostatics\n",
      "step       1000 : time      0.004 ns | lambda   0.003996000000 | protocol_work =        1.187 | RMSD =      0.10408 nm\n",
      "Changing only one lambda: electrostatics\n",
      "step       2000 : time      0.008 ns | lambda   0.007996000000 | protocol_work =        0.870 | RMSD =      0.12518 nm\n",
      "Changing only one lambda: electrostatics\n",
      "step       3000 : time      0.012 ns | lambda   0.011996000000 | protocol_work =       -0.475 | RMSD =      0.13638 nm\n",
      "Changing only one lambda: electrostatics\n",
      "step       4000 : time      0.016 ns | lambda   0.015996000000 | protocol_work =       -2.135 | RMSD =      0.14168 nm\n"
     ]
    }
   ],
   "source": [
    "test(lambda_param='electrostatics')"
   ]
  },
  {
   "cell_type": "markdown",
   "id": "ac7d452c",
   "metadata": {},
   "source": [
    "## Run neq with lambda_sterics = 0"
   ]
  },
  {
   "cell_type": "code",
   "execution_count": 6,
   "id": "57804a12",
   "metadata": {
    "scrolled": false
   },
   "outputs": [
    {
     "name": "stdout",
     "output_type": "stream",
     "text": [
      "Reading /data/chodera/zhangi/perses_benchmark/neq/15/281/281_apo_system.xml...\n",
      "Reading /data/chodera/zhangi/perses_benchmark/neq/15/281/281_apo_state.xml...\n",
      "Reading /data/chodera/zhangi/perses_benchmark/neq/15/281/integrator.xml...\n",
      "************KMSD != 0************\n",
      "Creating context...\n",
      "Integrating...\n",
      "Changing only one lambda: sterics\n",
      "step          0 : time      0.000 ns | lambda   0.000000000000 | protocol_work =        0.000 | RMSD =      0.00019 nm\n",
      "Changing only one lambda: sterics\n",
      "step       1000 : time      0.004 ns | lambda   0.003996000000 | protocol_work =       23.447 | RMSD =      0.10128 nm\n",
      "Changing only one lambda: sterics\n",
      "step       2000 : time      0.008 ns | lambda   0.007996000000 | protocol_work =       49.463 | RMSD =      0.12440 nm\n",
      "Changing only one lambda: sterics\n",
      "step       3000 : time      0.012 ns | lambda   0.011996000000 | protocol_work =       67.312 | RMSD =      0.14611 nm\n",
      "Changing only one lambda: sterics\n",
      "step       4000 : time      0.016 ns | lambda   0.015996000000 | protocol_work =       84.215 | RMSD =      0.15740 nm\n",
      "************K_RMSD == 0************\n",
      "Creating context...\n",
      "Reading /data/chodera/zhangi/perses_benchmark/neq/15/281/integrator.xml...\n",
      "Setting K_RMSD to 0\n",
      "Integrating...\n",
      "Changing only one lambda: sterics\n",
      "step          0 : time      0.000 ns | lambda   0.000000000000 | protocol_work =        0.000 | RMSD =      0.00019 nm\n",
      "Changing only one lambda: sterics\n",
      "step       1000 : time      0.004 ns | lambda   0.003996000000 | protocol_work =        1.271 | RMSD =      0.10545 nm\n",
      "Changing only one lambda: sterics\n",
      "step       2000 : time      0.008 ns | lambda   0.007996000000 | protocol_work =        7.876 | RMSD =      0.14075 nm\n",
      "Changing only one lambda: sterics\n",
      "step       3000 : time      0.012 ns | lambda   0.011996000000 | protocol_work =       18.540 | RMSD =      0.15506 nm\n",
      "Changing only one lambda: sterics\n",
      "step       4000 : time      0.016 ns | lambda   0.015996000000 | protocol_work =       32.947 | RMSD =      0.16141 nm\n"
     ]
    }
   ],
   "source": [
    "test(lambda_param='sterics')"
   ]
  },
  {
   "cell_type": "code",
   "execution_count": null,
   "id": "4a2524cd",
   "metadata": {},
   "outputs": [],
   "source": []
  }
 ],
 "metadata": {
  "kernelspec": {
   "display_name": "Python 3 (ipykernel)",
   "language": "python",
   "name": "python3"
  },
  "language_info": {
   "codemirror_mode": {
    "name": "ipython",
    "version": 3
   },
   "file_extension": ".py",
   "mimetype": "text/x-python",
   "name": "python",
   "nbconvert_exporter": "python",
   "pygments_lexer": "ipython3",
   "version": "3.9.9"
  }
 },
 "nbformat": 4,
 "nbformat_minor": 5
}
