{
 "cells": [
  {
   "cell_type": "markdown",
   "id": "center-introduction",
   "metadata": {},
   "source": [
    "## Determine longest trajectories"
   ]
  },
  {
   "cell_type": "code",
   "execution_count": 2,
   "id": "dominican-diamond",
   "metadata": {},
   "outputs": [],
   "source": [
    "import MDAnalysis as mda\n",
    "import matplotlib.pyplot as plt\n",
    "import seaborn as sns\n",
    "import os\n",
    "from tqdm import tqdm_notebook\n",
    "import warnings\n",
    "warnings.filterwarnings('ignore')\n",
    "\n",
    "import pickle"
   ]
  },
  {
   "cell_type": "code",
   "execution_count": 24,
   "id": "useful-white",
   "metadata": {
    "scrolled": true
   },
   "outputs": [
    {
     "data": {
      "application/vnd.jupyter.widget-view+json": {
       "model_id": "b589e6c822534c8bb44246f3e1a15915",
       "version_major": 2,
       "version_minor": 0
      },
      "text/plain": [
       "  0%|          | 0/1000 [00:00<?, ?it/s]"
      ]
     },
     "metadata": {},
     "output_type": "display_data"
    },
    {
     "name": "stderr",
     "output_type": "stream",
     "text": [
      "Exception ignored in: <function ReaderBase.__del__ at 0x2b16b52a68b0>\n",
      "Traceback (most recent call last):\n",
      "  File \"/home/zhangi/miniconda3/envs/perses-rbd-ace2/lib/python3.8/site-packages/MDAnalysis/coordinates/base.py\", line 2152, in __del__\n",
      "    self.close()\n",
      "  File \"/home/zhangi/miniconda3/envs/perses-rbd-ace2/lib/python3.8/site-packages/MDAnalysis/coordinates/XDR.py\", line 179, in close\n",
      "    self._xdr.close()\n",
      "AttributeError: 'XTCReader' object has no attribute '_xdr'\n",
      "Exception ignored in: <function ReaderBase.__del__ at 0x2b16b52a68b0>\n",
      "Traceback (most recent call last):\n",
      "  File \"/home/zhangi/miniconda3/envs/perses-rbd-ace2/lib/python3.8/site-packages/MDAnalysis/coordinates/base.py\", line 2152, in __del__\n",
      "    self.close()\n",
      "  File \"/home/zhangi/miniconda3/envs/perses-rbd-ace2/lib/python3.8/site-packages/MDAnalysis/coordinates/XDR.py\", line 179, in close\n",
      "    self._xdr.close()\n",
      "AttributeError: 'XTCReader' object has no attribute '_xdr'\n",
      "Exception ignored in: <function ReaderBase.__del__ at 0x2b16b52a68b0>\n",
      "Traceback (most recent call last):\n",
      "  File \"/home/zhangi/miniconda3/envs/perses-rbd-ace2/lib/python3.8/site-packages/MDAnalysis/coordinates/base.py\", line 2152, in __del__\n",
      "    self.close()\n",
      "  File \"/home/zhangi/miniconda3/envs/perses-rbd-ace2/lib/python3.8/site-packages/MDAnalysis/coordinates/XDR.py\", line 179, in close\n",
      "    self._xdr.close()\n",
      "AttributeError: 'XTCReader' object has no attribute '_xdr'\n",
      "Exception ignored in: <function ReaderBase.__del__ at 0x2b16b52a68b0>\n",
      "Traceback (most recent call last):\n",
      "  File \"/home/zhangi/miniconda3/envs/perses-rbd-ace2/lib/python3.8/site-packages/MDAnalysis/coordinates/base.py\", line 2152, in __del__\n",
      "    self.close()\n",
      "  File \"/home/zhangi/miniconda3/envs/perses-rbd-ace2/lib/python3.8/site-packages/MDAnalysis/coordinates/XDR.py\", line 179, in close\n",
      "    self._xdr.close()\n",
      "AttributeError: 'XTCReader' object has no attribute '_xdr'\n",
      "Exception ignored in: <function ReaderBase.__del__ at 0x2b16b52a68b0>\n",
      "Traceback (most recent call last):\n",
      "  File \"/home/zhangi/miniconda3/envs/perses-rbd-ace2/lib/python3.8/site-packages/MDAnalysis/coordinates/base.py\", line 2152, in __del__\n",
      "    self.close()\n",
      "  File \"/home/zhangi/miniconda3/envs/perses-rbd-ace2/lib/python3.8/site-packages/MDAnalysis/coordinates/XDR.py\", line 179, in close\n",
      "    self._xdr.close()\n",
      "AttributeError: 'XTCReader' object has no attribute '_xdr'\n",
      "Exception ignored in: <function ReaderBase.__del__ at 0x2b16b52a68b0>\n",
      "Traceback (most recent call last):\n",
      "  File \"/home/zhangi/miniconda3/envs/perses-rbd-ace2/lib/python3.8/site-packages/MDAnalysis/coordinates/base.py\", line 2152, in __del__\n",
      "    self.close()\n",
      "  File \"/home/zhangi/miniconda3/envs/perses-rbd-ace2/lib/python3.8/site-packages/MDAnalysis/coordinates/XDR.py\", line 179, in close\n",
      "    self._xdr.close()\n",
      "AttributeError: 'XTCReader' object has no attribute '_xdr'\n",
      "Exception ignored in: <function ReaderBase.__del__ at 0x2b16b52a68b0>\n",
      "Traceback (most recent call last):\n",
      "  File \"/home/zhangi/miniconda3/envs/perses-rbd-ace2/lib/python3.8/site-packages/MDAnalysis/coordinates/base.py\", line 2152, in __del__\n",
      "    self.close()\n",
      "  File \"/home/zhangi/miniconda3/envs/perses-rbd-ace2/lib/python3.8/site-packages/MDAnalysis/coordinates/XDR.py\", line 179, in close\n",
      "    self._xdr.close()\n",
      "AttributeError: 'XTCReader' object has no attribute '_xdr'\n"
     ]
    }
   ],
   "source": [
    "# Get the traj lengths\n",
    "d_lengths = {}\n",
    "for i in tqdm_notebook(range(1000)):\n",
    "    for j in range(5):\n",
    "        path = f\"/data/chodera/zhangi/vir/fah/PROJ17344/munged_data/run{j}-clone{i}.xtc\"\n",
    "        if os.path.exists(path):\n",
    "            try: # note i'm using mdanalysis here because its faster than loading into mdtraj\n",
    "                u = mda.Universe(\"/data/chodera/zhangi/vir/fah/PROJ17344/munged_data/run0-clone0.pdb\", f\"/data/chodera/zhangi/vir/fah/PROJ17344/munged_data/run{j}-clone{i}.xtc\")\n",
    "                n_frames = u.trajectory.n_frames\n",
    "                if j not in d_lengths:\n",
    "                    d_lengths[j] = {}\n",
    "                d_lengths[j][i] = n_frames\n",
    "            except:\n",
    "                continue\n",
    "\n"
   ]
  },
  {
   "cell_type": "code",
   "execution_count": 27,
   "id": "coral-contact",
   "metadata": {},
   "outputs": [],
   "source": [
    "with open(\"050621_lengths.pickle\", \"wb\") as f:\n",
    "    pickle.dump(d_lengths, f)"
   ]
  },
  {
   "cell_type": "code",
   "execution_count": 28,
   "id": "careful-french",
   "metadata": {},
   "outputs": [],
   "source": [
    "with open(\"050621_lengths.pickle\", \"rb\") as f:\n",
    "    d_lengths = pickle.load(f)"
   ]
  },
  {
   "cell_type": "code",
   "execution_count": 32,
   "id": "fundamental-diving",
   "metadata": {
    "scrolled": true
   },
   "outputs": [],
   "source": [
    "lengths = [length for run, clone_dict in d_lengths.items() for clone, length in clone_dict.items()]"
   ]
  },
  {
   "cell_type": "code",
   "execution_count": 33,
   "id": "conceptual-maine",
   "metadata": {},
   "outputs": [
    {
     "data": {
      "text/plain": [
       "<AxesSubplot:ylabel='Density'>"
      ]
     },
     "execution_count": 33,
     "metadata": {},
     "output_type": "execute_result"
    },
    {
     "data": {
      "image/png": "[encoded data removed]",
      "text/plain": [
       "<Figure size 432x288 with 1 Axes>"
      ]
     },
     "metadata": {
      "needs_background": "light"
     },
     "output_type": "display_data"
    }
   ],
   "source": [
    "sns.distplot(lengths)"
   ]
  },
  {
   "cell_type": "code",
   "execution_count": 35,
   "id": "pacific-conclusion",
   "metadata": {},
   "outputs": [],
   "source": [
    "long_trajs = [(run, clone) for run, clone_dict in d_lengths.items() for clone, length in clone_dict.items() if length > 150]"
   ]
  },
  {
   "cell_type": "code",
   "execution_count": 36,
   "id": "colonial-difficulty",
   "metadata": {},
   "outputs": [
    {
     "data": {
      "text/plain": [
       "162"
      ]
     },
     "execution_count": 36,
     "metadata": {},
     "output_type": "execute_result"
    }
   ],
   "source": [
    "len(long_trajs)"
   ]
  },
  {
   "cell_type": "code",
   "execution_count": 37,
   "id": "prostate-racing",
   "metadata": {
    "scrolled": true
   },
   "outputs": [
    {
     "data": {
      "text/plain": [
       "[(0, 0),\n",
       " (0, 1),\n",
       " (0, 4),\n",
       " (0, 6),\n",
       " (0, 17),\n",
       " (0, 46),\n",
       " (0, 92),\n",
       " (0, 109),\n",
       " (0, 123),\n",
       " (0, 157),\n",
       " (0, 195),\n",
       " (0, 242),\n",
       " (0, 286),\n",
       " (0, 299),\n",
       " (0, 342),\n",
       " (0, 375),\n",
       " (0, 382),\n",
       " (0, 385),\n",
       " (0, 418),\n",
       " (0, 423),\n",
       " (0, 424),\n",
       " (0, 428),\n",
       " (0, 460),\n",
       " (0, 461),\n",
       " (0, 472),\n",
       " (0, 506),\n",
       " (0, 543),\n",
       " (0, 571),\n",
       " (0, 742),\n",
       " (0, 765),\n",
       " (0, 857),\n",
       " (0, 885),\n",
       " (0, 904),\n",
       " (1, 1),\n",
       " (1, 7),\n",
       " (1, 9),\n",
       " (1, 14),\n",
       " (1, 21),\n",
       " (1, 63),\n",
       " (1, 76),\n",
       " (1, 129),\n",
       " (1, 136),\n",
       " (1, 148),\n",
       " (1, 193),\n",
       " (1, 237),\n",
       " (1, 240),\n",
       " (1, 287),\n",
       " (1, 295),\n",
       " (1, 321),\n",
       " (1, 343),\n",
       " (1, 345),\n",
       " (1, 361),\n",
       " (1, 363),\n",
       " (1, 381),\n",
       " (1, 407),\n",
       " (1, 425),\n",
       " (1, 426),\n",
       " (1, 475),\n",
       " (1, 528),\n",
       " (1, 530),\n",
       " (1, 561),\n",
       " (1, 564),\n",
       " (1, 567),\n",
       " (1, 661),\n",
       " (1, 679),\n",
       " (1, 702),\n",
       " (1, 792),\n",
       " (1, 819),\n",
       " (2, 0),\n",
       " (2, 2),\n",
       " (2, 12),\n",
       " (2, 30),\n",
       " (2, 56),\n",
       " (2, 89),\n",
       " (2, 141),\n",
       " (2, 153),\n",
       " (2, 215),\n",
       " (2, 230),\n",
       " (2, 257),\n",
       " (2, 285),\n",
       " (2, 340),\n",
       " (2, 347),\n",
       " (2, 355),\n",
       " (2, 365),\n",
       " (2, 428),\n",
       " (2, 435),\n",
       " (2, 509),\n",
       " (2, 531),\n",
       " (2, 550),\n",
       " (2, 574),\n",
       " (2, 592),\n",
       " (2, 609),\n",
       " (2, 610),\n",
       " (2, 793),\n",
       " (2, 811),\n",
       " (2, 813),\n",
       " (3, 4),\n",
       " (3, 34),\n",
       " (3, 38),\n",
       " (3, 64),\n",
       " (3, 116),\n",
       " (3, 118),\n",
       " (3, 177),\n",
       " (3, 201),\n",
       " (3, 205),\n",
       " (3, 244),\n",
       " (3, 326),\n",
       " (3, 407),\n",
       " (3, 419),\n",
       " (3, 445),\n",
       " (3, 466),\n",
       " (3, 481),\n",
       " (3, 540),\n",
       " (3, 617),\n",
       " (3, 632),\n",
       " (3, 633),\n",
       " (3, 645),\n",
       " (3, 653),\n",
       " (3, 707),\n",
       " (3, 781),\n",
       " (3, 806),\n",
       " (4, 0),\n",
       " (4, 1),\n",
       " (4, 2),\n",
       " (4, 5),\n",
       " (4, 18),\n",
       " (4, 25),\n",
       " (4, 77),\n",
       " (4, 88),\n",
       " (4, 127),\n",
       " (4, 128),\n",
       " (4, 165),\n",
       " (4, 175),\n",
       " (4, 182),\n",
       " (4, 185),\n",
       " (4, 199),\n",
       " (4, 213),\n",
       " (4, 263),\n",
       " (4, 288),\n",
       " (4, 293),\n",
       " (4, 299),\n",
       " (4, 324),\n",
       " (4, 343),\n",
       " (4, 346),\n",
       " (4, 359),\n",
       " (4, 380),\n",
       " (4, 395),\n",
       " (4, 399),\n",
       " (4, 413),\n",
       " (4, 446),\n",
       " (4, 490),\n",
       " (4, 521),\n",
       " (4, 549),\n",
       " (4, 556),\n",
       " (4, 603),\n",
       " (4, 615),\n",
       " (4, 647),\n",
       " (4, 677),\n",
       " (4, 706),\n",
       " (4, 751),\n",
       " (4, 779),\n",
       " (4, 839)]"
      ]
     },
     "execution_count": 37,
     "metadata": {},
     "output_type": "execute_result"
    }
   ],
   "source": [
    "long_trajs"
   ]
  },
  {
   "cell_type": "markdown",
   "id": "attempted-america",
   "metadata": {},
   "source": [
    "## Compute dihedral angles for Y501"
   ]
  },
  {
   "cell_type": "code",
   "execution_count": 3,
   "id": "pointed-dublin",
   "metadata": {},
   "outputs": [],
   "source": [
    "import mdtraj as md\n",
    "import os\n",
    "from tqdm import tqdm_notebook\n",
    "\n",
    "import warnings\n",
    "warnings.filterwarnings('ignore')\n",
    "\n",
    "import time\n",
    "from simtk.openmm import unit\n",
    "import itertools\n",
    "import numpy as np"
   ]
  },
  {
   "cell_type": "markdown",
   "id": "stable-thread",
   "metadata": {},
   "source": [
    "### Test angle computation on run 0 clone 428"
   ]
  },
  {
   "cell_type": "code",
   "execution_count": 38,
   "id": "parallel-macro",
   "metadata": {},
   "outputs": [],
   "source": [
    "top = md.load(\"/data/chodera/zhangi/vir/fah/PROJ17344/munged_data/run0-clone0.pdb\")\n",
    "path = \"/data/chodera/zhangi/vir/fah/PROJ17344/munged_data/run0-clone428.xtc\"\n",
    "traj = md.load(path, top=top)\n"
   ]
  },
  {
   "cell_type": "code",
   "execution_count": 49,
   "id": "round-afghanistan",
   "metadata": {},
   "outputs": [],
   "source": [
    "tyrosine_atoms = list(range(2605, 2626))"
   ]
  },
  {
   "cell_type": "code",
   "execution_count": 89,
   "id": "first-antique",
   "metadata": {},
   "outputs": [],
   "source": [
    "phi_indices, phi_angles = md.compute_phi(traj)"
   ]
  },
  {
   "cell_type": "code",
   "execution_count": 90,
   "id": "featured-examination",
   "metadata": {},
   "outputs": [
    {
     "name": "stdout",
     "output_type": "stream",
     "text": [
      "168 [2603 2605 2607 2624]\n",
      "169 [2624 2626 2628 2631]\n"
     ]
    }
   ],
   "source": [
    "for i, phi_index_list in enumerate(phi_indices):\n",
    "    found = False\n",
    "    for atom in tyrosine_atoms:\n",
    "        if atom in phi_index_list and not found:\n",
    "            print(i, phi_index_list)\n",
    "            found = True"
   ]
  },
  {
   "cell_type": "code",
   "execution_count": 92,
   "id": "interested-factor",
   "metadata": {},
   "outputs": [],
   "source": [
    "psi_indices, psi_angles = md.compute_psi(traj)"
   ]
  },
  {
   "cell_type": "code",
   "execution_count": 93,
   "id": "downtown-checklist",
   "metadata": {},
   "outputs": [
    {
     "name": "stdout",
     "output_type": "stream",
     "text": [
      "167 [2591 2593 2603 2605]\n",
      "168 [2605 2607 2624 2626]\n"
     ]
    }
   ],
   "source": [
    "for i, psi_index_list in enumerate(psi_indices):\n",
    "    found = False\n",
    "    for atom in tyrosine_atoms:\n",
    "        if atom in psi_index_list and not found:\n",
    "            print(i, psi_index_list)\n",
    "            found = True"
   ]
  },
  {
   "cell_type": "code",
   "execution_count": 75,
   "id": "violent-moderator",
   "metadata": {},
   "outputs": [],
   "source": [
    "chi1_indices, chi1_angles = md.compute_chi1(traj)"
   ]
  },
  {
   "cell_type": "code",
   "execution_count": 57,
   "id": "incorporated-reception",
   "metadata": {},
   "outputs": [
    {
     "name": "stdout",
     "output_type": "stream",
     "text": [
      "146 [2605 2607 2609 2612]\n"
     ]
    }
   ],
   "source": [
    "for i, chi1_index_list in enumerate(chi1_indices):\n",
    "    found = False\n",
    "    for atom in tyrosine_atoms:\n",
    "        if atom in chi1_index_list and not found:\n",
    "            print(i, chi1_index_list)\n",
    "            found = True"
   ]
  },
  {
   "cell_type": "code",
   "execution_count": 42,
   "id": "taken-visitor",
   "metadata": {},
   "outputs": [],
   "source": [
    "chi2_indices, chi2_angles = md.compute_chi2(traj)"
   ]
  },
  {
   "cell_type": "code",
   "execution_count": 58,
   "id": "greenhouse-trash",
   "metadata": {},
   "outputs": [
    {
     "name": "stdout",
     "output_type": "stream",
     "text": [
      "104 [2607 2609 2612 2613]\n"
     ]
    }
   ],
   "source": [
    "for i, chi2_index_list in enumerate(chi2_indices):\n",
    "    found = False\n",
    "    for atom in tyrosine_atoms:\n",
    "        if atom in chi2_index_list and not found:\n",
    "            print(i, chi2_index_list)\n",
    "            found = True"
   ]
  },
  {
   "cell_type": "code",
   "execution_count": 46,
   "id": "close-panic",
   "metadata": {},
   "outputs": [
    {
     "name": "stdout",
     "output_type": "stream",
     "text": [
      "2605 169 0 TYR501-N\n",
      "2606 169 0 TYR501-H\n",
      "2607 169 0 TYR501-CA\n",
      "2608 169 0 TYR501-HA\n",
      "2609 169 0 TYR501-CB\n",
      "2610 169 0 TYR501-HB2\n",
      "2611 169 0 TYR501-HB3\n",
      "2612 169 0 TYR501-CG\n",
      "2613 169 0 TYR501-CD1\n",
      "2614 169 0 TYR501-HD1\n",
      "2615 169 0 TYR501-CE1\n",
      "2616 169 0 TYR501-HE1\n",
      "2617 169 0 TYR501-CZ\n",
      "2618 169 0 TYR501-OH\n",
      "2619 169 0 TYR501-HH\n",
      "2620 169 0 TYR501-CE2\n",
      "2621 169 0 TYR501-HE2\n",
      "2622 169 0 TYR501-CD2\n",
      "2623 169 0 TYR501-HD2\n",
      "2624 169 0 TYR501-C\n",
      "2625 169 0 TYR501-O\n"
     ]
    }
   ],
   "source": [
    "for atom in traj.topology.atoms:\n",
    "    if atom.residue.name == 'TYR' and atom.residue.index == 169:\n",
    "        print(atom.index, atom.residue.index, atom.residue.chain.index, atom)"
   ]
  },
  {
   "cell_type": "markdown",
   "id": "complex-seating",
   "metadata": {},
   "source": [
    "### Compute angles for longest trajs"
   ]
  },
  {
   "cell_type": "code",
   "execution_count": 79,
   "id": "opening-prototype",
   "metadata": {},
   "outputs": [
    {
     "data": {
      "application/vnd.jupyter.widget-view+json": {
       "model_id": "b0041648775f4a6ab97520021d741dd6",
       "version_major": 2,
       "version_minor": 0
      },
      "text/plain": [
       "  0%|          | 0/162 [00:00<?, ?it/s]"
      ]
     },
     "metadata": {},
     "output_type": "display_data"
    }
   ],
   "source": [
    "chi1_long = []\n",
    "chi2_long = []\n",
    "for key in tqdm_notebook(long_trajs):\n",
    "    j, i = key\n",
    "    path = f\"/data/chodera/zhangi/vir/fah/PROJ17344/munged_data/run{j}-clone{i}.xtc\"\n",
    "    traj = md.load(path, top=top)\n",
    "    chi1_indices, chi1_angles = md.compute_chi1(traj)\n",
    "    assert np.array_equal(chi1_indices[146], np.array([2605, 2607, 2609, 2612]))\n",
    "    chi1_long.append(chi1_angles[:, 146])\n",
    "    assert np.array_equal(chi2_indices[104], np.array([2607, 2609, 2612, 2613]))\n",
    "    chi2_indices, chi2_angles = md.compute_chi2(traj)\n",
    "    chi2_long.append(chi2_angles[:, 104])"
   ]
  },
  {
   "cell_type": "code",
   "execution_count": 80,
   "id": "insured-friendly",
   "metadata": {},
   "outputs": [],
   "source": [
    "with open(\"050621_chi1.pickle\", \"wb\") as f:\n",
    "    pickle.dump(chi1_long, f)"
   ]
  },
  {
   "cell_type": "code",
   "execution_count": 81,
   "id": "junior-enhancement",
   "metadata": {},
   "outputs": [],
   "source": [
    "with open(\"050621_chi2.pickle\", \"wb\") as f:\n",
    "    pickle.dump(chi2_long, f)"
   ]
  },
  {
   "cell_type": "code",
   "execution_count": 4,
   "id": "minor-coaching",
   "metadata": {},
   "outputs": [],
   "source": [
    "with open(\"050621_chi1.pickle\", \"rb\") as f:\n",
    "    chi1_long = pickle.load(f)\n",
    "\n",
    "with open(\"050621_chi2.pickle\", \"rb\") as f:\n",
    "    chi2_long = pickle.load(f)"
   ]
  },
  {
   "cell_type": "code",
   "execution_count": 7,
   "id": "clinical-holocaust",
   "metadata": {},
   "outputs": [
    {
     "data": {
      "text/plain": [
       "(-3.141592653589793, 3.141592653589793)"
      ]
     },
     "execution_count": 7,
     "metadata": {},
     "output_type": "execute_result"
    },
    {
     "data": {
      "image/png": "[encoded data removed]",
      "text/plain": [
       "<Figure size 432x288 with 1 Axes>"
      ]
     },
     "metadata": {
      "needs_background": "light"
     },
     "output_type": "display_data"
    }
   ],
   "source": [
    "sns.distplot([element for array in chi1_long for element in array])\n",
    "plt.xlabel(\"dihedral angle (radians)\")\n",
    "plt.title(\"Chi1\")\n",
    "plt.xlim([-np.pi, np.pi])"
   ]
  },
  {
   "cell_type": "code",
   "execution_count": 8,
   "id": "exterior-touch",
   "metadata": {
    "scrolled": true
   },
   "outputs": [
    {
     "data": {
      "text/plain": [
       "(-3.141592653589793, 3.141592653589793)"
      ]
     },
     "execution_count": 8,
     "metadata": {},
     "output_type": "execute_result"
    },
    {
     "data": {
      "image/png": "[encoded data removed]",
      "text/plain": [
       "<Figure size 432x288 with 1 Axes>"
      ]
     },
     "metadata": {
      "needs_background": "light"
     },
     "output_type": "display_data"
    }
   ],
   "source": [
    "sns.distplot([element for array in chi2_long for element in array])\n",
    "plt.xlabel(\"dihedral angle (radians)\")\n",
    "plt.title(\"Chi2\")\n",
    "plt.xlim([-np.pi, np.pi])"
   ]
  },
  {
   "cell_type": "code",
   "execution_count": 102,
   "id": "blocked-destination",
   "metadata": {},
   "outputs": [
    {
     "data": {
      "application/vnd.jupyter.widget-view+json": {
       "model_id": "97a1fbd643be495cbb9e79c468bedaee",
       "version_major": 2,
       "version_minor": 0
      },
      "text/plain": [
       "  0%|          | 0/162 [00:00<?, ?it/s]"
      ]
     },
     "metadata": {},
     "output_type": "display_data"
    }
   ],
   "source": [
    "phi1_long = []\n",
    "phi2_long = []\n",
    "psi1_long = []\n",
    "psi2_long = []\n",
    "for key in tqdm_notebook(long_trajs):\n",
    "    j, i = key\n",
    "    path = f\"/data/chodera/zhangi/vir/fah/PROJ17344/munged_data/run{j}-clone{i}.xtc\"\n",
    "    traj = md.load(path, top=top)\n",
    "    phi_indices, phi_angles = md.compute_phi(traj)\n",
    "    assert np.array_equal(phi_indices[168], np.array([2603, 2605, 2607, 2624]))\n",
    "    phi1_long.append(phi_angles[:, 168])\n",
    "    assert np.array_equal(phi_indices[169], np.array([2624, 2626, 2628, 2631]))\n",
    "    phi2_long.append(phi_angles[:, 169])\n",
    "    psi_indices, psi_angles = md.compute_psi(traj)\n",
    "    assert np.array_equal(psi_indices[167], np.array([2591, 2593, 2603, 2605]))\n",
    "    psi1_long.append(psi_angles[:, 167])\n",
    "    assert np.array_equal(psi_indices[168], np.array([2605, 2607, 2624, 2626]))\n",
    "    psi2_long.append(psi_angles[:, 168])\n"
   ]
  },
  {
   "cell_type": "code",
   "execution_count": 103,
   "id": "constitutional-korean",
   "metadata": {},
   "outputs": [],
   "source": [
    "with open(\"050621_phi1.pickle\", \"wb\") as f:\n",
    "    pickle.dump(phi1_long, f)\n",
    "with open(\"050621_phi2.pickle\", \"wb\") as f:\n",
    "    pickle.dump(phi2_long, f)"
   ]
  },
  {
   "cell_type": "code",
   "execution_count": 104,
   "id": "formed-sussex",
   "metadata": {},
   "outputs": [],
   "source": [
    "with open(\"050621_psi1.pickle\", \"wb\") as f:\n",
    "    pickle.dump(psi1_long, f)\n",
    "with open(\"050621_psi2.pickle\", \"wb\") as f:\n",
    "    pickle.dump(psi2_long, f)"
   ]
  },
  {
   "cell_type": "code",
   "execution_count": 10,
   "id": "agricultural-backup",
   "metadata": {},
   "outputs": [],
   "source": [
    "with open(\"050621_phi1.pickle\", \"rb\") as f:\n",
    "    phi1_long = pickle.load(f)\n",
    "with open(\"050621_phi2.pickle\", \"rb\") as f:\n",
    "    phi2_long = pickle.load(f)\n",
    "with open(\"050621_psi1.pickle\", \"rb\") as f:\n",
    "    psi1_long = pickle.load(f)\n",
    "with open(\"050621_psi2.pickle\", \"rb\") as f:\n",
    "    psi2_long = pickle.load(f)"
   ]
  },
  {
   "cell_type": "code",
   "execution_count": 15,
   "id": "improving-scanner",
   "metadata": {},
   "outputs": [
    {
     "data": {
      "text/plain": [
       "(-3.141592653589793, 3.141592653589793)"
      ]
     },
     "execution_count": 15,
     "metadata": {},
     "output_type": "execute_result"
    },
    {
     "data": {
      "image/png": "[encoded data removed]",
      "text/plain": [
       "<Figure size 432x288 with 1 Axes>"
      ]
     },
     "metadata": {
      "needs_background": "light"
     },
     "output_type": "display_data"
    }
   ],
   "source": [
    "sns.distplot([element for array in phi1_long for element in array])\n",
    "plt.xlabel(\"dihedral angle (radians)\")\n",
    "plt.title(\"phi\")\n",
    "plt.xlim([-np.pi, np.pi])"
   ]
  },
  {
   "cell_type": "code",
   "execution_count": 16,
   "id": "hawaiian-kingston",
   "metadata": {},
   "outputs": [
    {
     "data": {
      "text/plain": [
       "(-3.141592653589793, 3.141592653589793)"
      ]
     },
     "execution_count": 16,
     "metadata": {},
     "output_type": "execute_result"
    },
    {
     "data": {
      "image/png": "[encoded data removed]",
      "text/plain": [
       "<Figure size 432x288 with 1 Axes>"
      ]
     },
     "metadata": {
      "needs_background": "light"
     },
     "output_type": "display_data"
    }
   ],
   "source": [
    "sns.distplot([element for array in psi1_long for element in array])\n",
    "plt.xlabel(\"dihedral angle (radians)\")\n",
    "plt.title(\"psi\")\n",
    "plt.xlim([-np.pi, np.pi])"
   ]
  },
  {
   "cell_type": "markdown",
   "id": "speaking-compilation",
   "metadata": {},
   "source": [
    "## Compute distances between residues"
   ]
  },
  {
   "cell_type": "code",
   "execution_count": 109,
   "id": "three-remainder",
   "metadata": {},
   "outputs": [],
   "source": [
    "import mdtraj as md\n",
    "import os\n",
    "from tqdm import tqdm_notebook\n",
    "\n",
    "import warnings\n",
    "warnings.filterwarnings('ignore')\n",
    "\n",
    "import time\n",
    "from simtk.openmm import unit\n",
    "import itertools\n",
    "import numpy as np"
   ]
  },
  {
   "cell_type": "markdown",
   "id": "educated-jumping",
   "metadata": {},
   "source": [
    "### Test compute_contacts on run0 clone428"
   ]
  },
  {
   "cell_type": "code",
   "execution_count": 110,
   "id": "finnish-active",
   "metadata": {},
   "outputs": [],
   "source": [
    "top = md.load(\"/data/chodera/zhangi/vir/fah/PROJ17344/munged_data/run0-clone0.pdb\")\n",
    "path = \"/data/chodera/zhangi/vir/fah/PROJ17344/munged_data/run0-clone428.xtc\"\n",
    "traj = md.load(path, top=top)\n"
   ]
  },
  {
   "cell_type": "code",
   "execution_count": 111,
   "id": "worldwide-champagne",
   "metadata": {},
   "outputs": [],
   "source": [
    "# Get neighboring residues\n",
    "resid = 501\n",
    "radius = 1\n",
    "\n",
    "for res in top.topology.residues:\n",
    "    if res.resSeq == resid and res.chain.index == 0:\n",
    "        mutated_res = res\n",
    "query_indices = [atom.index for atom in mutated_res.atoms]\n",
    "solute_atoms = list(traj.topology.select(\"is_protein\"))\n",
    "neighboring_atoms = list(md.compute_neighbors(traj, radius, query_indices, haystack_indices=solute_atoms)[0])\n",
    "neighboring_residues = set([atom.residue.index for atom in top.topology.atoms if atom.index in neighboring_atoms])"
   ]
  },
  {
   "cell_type": "code",
   "execution_count": 112,
   "id": "toxic-consolidation",
   "metadata": {},
   "outputs": [],
   "source": [
    "# Get all pairs of residues\n",
    "pairs = []\n",
    "for pair in itertools.combinations(neighboring_residues, 2):\n",
    "    pairs.append(pair)"
   ]
  },
  {
   "cell_type": "code",
   "execution_count": 113,
   "id": "voluntary-preview",
   "metadata": {},
   "outputs": [
    {
     "data": {
      "text/plain": [
       "2016"
      ]
     },
     "execution_count": 113,
     "metadata": {},
     "output_type": "execute_result"
    }
   ],
   "source": [
    "len(pairs)"
   ]
  },
  {
   "cell_type": "code",
   "execution_count": 114,
   "id": "quantitative-multimedia",
   "metadata": {},
   "outputs": [
    {
     "name": "stdout",
     "output_type": "stream",
     "text": [
      "took: 2.642390489578247 seconds\n"
     ]
    }
   ],
   "source": [
    "initial_time = time.time()\n",
    "distances = md.compute_contacts(traj, contacts=pairs, scheme='closest-heavy')\n",
    "elapsed_time = (time.time() - initial_time) * unit.seconds\n",
    "print(f'took: {elapsed_time / unit.seconds} seconds')"
   ]
  },
  {
   "cell_type": "markdown",
   "id": "creative-philippines",
   "metadata": {},
   "source": [
    "### Run compute_contacts on trajectories with > 400 frames"
   ]
  },
  {
   "cell_type": "code",
   "execution_count": 116,
   "id": "greek-samba",
   "metadata": {},
   "outputs": [
    {
     "data": {
      "application/vnd.jupyter.widget-view+json": {
       "model_id": "baabaa6f7c1341ddb15a813d5112c386",
       "version_major": 2,
       "version_minor": 0
      },
      "text/plain": [
       "  0%|          | 0/162 [00:00<?, ?it/s]"
      ]
     },
     "metadata": {},
     "output_type": "display_data"
    }
   ],
   "source": [
    "distances_long = []\n",
    "for key in tqdm_notebook(long_trajs):\n",
    "    j, i = key\n",
    "    path = f\"/data/chodera/zhangi/vir/fah/PROJ17344/munged_data/run{j}-clone{i}.xtc\"\n",
    "    traj = md.load(path, top=top)\n",
    "    distances = md.compute_contacts(traj, contacts=pairs, scheme='closest-heavy')\n",
    "    distances_long.append(distances)"
   ]
  },
  {
   "cell_type": "code",
   "execution_count": 117,
   "id": "attached-advisory",
   "metadata": {},
   "outputs": [],
   "source": [
    "with open(\"050621_distances_1.pickle\", \"wb\") as f:\n",
    "    pickle.dump(distances_long, f)"
   ]
  },
  {
   "cell_type": "code",
   "execution_count": 118,
   "id": "legitimate-banking",
   "metadata": {},
   "outputs": [],
   "source": [
    "distances_final = np.array([output[0] for output in distances_long])"
   ]
  },
  {
   "cell_type": "code",
   "execution_count": null,
   "id": "saving-material",
   "metadata": {},
   "outputs": [],
   "source": []
  },
  {
   "cell_type": "code",
   "execution_count": 119,
   "id": "opposed-quest",
   "metadata": {},
   "outputs": [
    {
     "name": "stdout",
     "output_type": "stream",
     "text": [
      "69 VAL401\n",
      "70 ILE402\n",
      "71 ARG403\n",
      "72 GLY404\n",
      "73 ASP405\n",
      "105 ASN437\n",
      "106 SER438\n",
      "107 ASN439\n",
      "108 ASN440\n",
      "110 ASP442\n",
      "111 SER443\n",
      "112 LYS444\n",
      "113 VAL445\n",
      "114 GLY446\n",
      "115 GLY447\n",
      "116 ASN448\n",
      "117 TYR449\n",
      "118 ASN450\n",
      "119 TYR451\n",
      "161 GLN493\n",
      "162 SER494\n",
      "163 TYR495\n",
      "164 GLY496\n",
      "165 PHE497\n",
      "166 GLN498\n",
      "167 PRO499\n",
      "168 THR500\n",
      "169 TYR501\n",
      "170 GLY502\n",
      "171 VAL503\n",
      "172 GLY504\n",
      "173 TYR505\n",
      "174 GLN506\n",
      "175 PRO507\n",
      "176 TYR508\n",
      "222 HIS34\n",
      "223 GLU35\n",
      "225 GLU37\n",
      "226 ASP38\n",
      "227 LEU39\n",
      "228 PHE40\n",
      "229 TYR41\n",
      "230 GLN42\n",
      "231 SER43\n",
      "232 SER44\n",
      "233 LEU45\n",
      "234 ALA46\n",
      "512 THR324\n",
      "513 GLN325\n",
      "514 GLY326\n",
      "515 PHE327\n",
      "517 GLU329\n",
      "518 ASN330\n",
      "537 TRP349\n",
      "538 ASP350\n",
      "539 LEU351\n",
      "540 GLY352\n",
      "541 LYS353\n",
      "542 GLY354\n",
      "543 ASP355\n",
      "544 PHE356\n",
      "545 ARG357\n",
      "574 ALA386\n",
      "581 ARG393\n"
     ]
    }
   ],
   "source": [
    "for res in top.topology.residues:\n",
    "    if res.index in neighboring_residues:\n",
    "        print(res.index, res)"
   ]
  },
  {
   "cell_type": "code",
   "execution_count": null,
   "id": "floppy-ranch",
   "metadata": {},
   "outputs": [],
   "source": []
  },
  {
   "cell_type": "code",
   "execution_count": null,
   "id": "southeast-power",
   "metadata": {},
   "outputs": [],
   "source": [
    "# Question: should i discard the first X ns of data if im going to build an MSM?"
   ]
  },
  {
   "cell_type": "code",
   "execution_count": null,
   "id": "lucky-stevens",
   "metadata": {},
   "outputs": [],
   "source": [
    "# See if using sidechain heavy atoms changes anything\n",
    "distances = md.compute_contacts(traj, contacts=, scheme='sidechain-heavy')"
   ]
  },
  {
   "cell_type": "code",
   "execution_count": null,
   "id": "incredible-walker",
   "metadata": {},
   "outputs": [],
   "source": [
    "# See if using alpha carbons changes anything\n",
    "distances = md.compute_contacts(traj, contacts=, scheme='ca')"
   ]
  }
 ],
 "metadata": {
  "kernelspec": {
   "display_name": "Python 3",
   "language": "python",
   "name": "python3"
  },
  "language_info": {
   "codemirror_mode": {
    "name": "ipython",
    "version": 3
   },
   "file_extension": ".py",
   "mimetype": "text/x-python",
   "name": "python",
   "nbconvert_exporter": "python",
   "pygments_lexer": "ipython3",
   "version": "3.8.6"
  }
 },
 "nbformat": 4,
 "nbformat_minor": 5
}
