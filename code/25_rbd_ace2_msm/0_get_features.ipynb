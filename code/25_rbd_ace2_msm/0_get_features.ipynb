{
 "cells": [
  {
   "cell_type": "markdown",
   "id": "center-introduction",
   "metadata": {},
   "source": [
    "## Determine longest trajectories"
   ]
  },
  {
   "cell_type": "code",
   "execution_count": 15,
   "id": "dominican-diamond",
   "metadata": {},
   "outputs": [],
   "source": [
    "import MDAnalysis as mda\n",
    "import matplotlib.pyplot as plt\n",
    "import seaborn as sns\n",
    "import os\n",
    "from tqdm import tqdm_notebook\n",
    "import warnings\n",
    "warnings.filterwarnings('ignore')\n",
    "\n",
    "import pickle"
   ]
  },
  {
   "cell_type": "code",
   "execution_count": 15,
   "id": "useful-white",
   "metadata": {},
   "outputs": [
    {
     "data": {
      "application/vnd.jupyter.widget-view+json": {
       "model_id": "978dce5595a04b93ac03bf1205213f2e",
       "version_major": 2,
       "version_minor": 0
      },
      "text/plain": [
       "  0%|          | 0/1000 [00:00<?, ?it/s]"
      ]
     },
     "metadata": {},
     "output_type": "display_data"
    },
    {
     "name": "stderr",
     "output_type": "stream",
     "text": [
      "Exception ignored in: <function ReaderBase.__del__ at 0x2abbb16cedc0>\n",
      "Traceback (most recent call last):\n",
      "  File \"/home/zhangi/miniconda3/envs/perses-rbd-ace2/lib/python3.8/site-packages/MDAnalysis/coordinates/base.py\", line 2152, in __del__\n",
      "    self.close()\n",
      "  File \"/home/zhangi/miniconda3/envs/perses-rbd-ace2/lib/python3.8/site-packages/MDAnalysis/coordinates/XDR.py\", line 179, in close\n",
      "    self._xdr.close()\n",
      "AttributeError: 'XTCReader' object has no attribute '_xdr'\n"
     ]
    }
   ],
   "source": [
    "# Get the traj lengths\n",
    "d_lengths = {}\n",
    "for i in tqdm_notebook(range(1000)):\n",
    "    path = f\"/data/chodera/glassw/covid_vir/PROJ17329/munged_data/run0-clone{i}.xtc\"\n",
    "    if os.path.exists(path):\n",
    "        try: # note i'm using mdanalysis here because its faster than loading into mdtraj\n",
    "            u = mda.Universe(\"/data/chodera/glassw/covid_vir/PROJ17329/munged_data/run0-clone0.pdb\", f\"/data/chodera/glassw/covid_vir/PROJ17329/munged_data/run0-clone{i}.xtc\")\n",
    "            n_frames = u.trajectory.n_frames\n",
    "            d_lengths[i] = n_frames\n",
    "        except:\n",
    "            continue\n",
    "\n"
   ]
  },
  {
   "cell_type": "code",
   "execution_count": 82,
   "id": "coral-contact",
   "metadata": {},
   "outputs": [],
   "source": [
    "with open(\"042021_lenghs.pickle\", \"wb\") as f:\n",
    "    pickle.dump(d_lengths, f)"
   ]
  },
  {
   "cell_type": "code",
   "execution_count": 16,
   "id": "careful-french",
   "metadata": {},
   "outputs": [],
   "source": [
    "with open(\"042021_lenghs.pickle\", \"rb\") as f:\n",
    "    d_lengths = pickle.load(f)"
   ]
  },
  {
   "cell_type": "code",
   "execution_count": 17,
   "id": "conceptual-maine",
   "metadata": {},
   "outputs": [
    {
     "data": {
      "text/plain": [
       "<AxesSubplot:ylabel='Density'>"
      ]
     },
     "execution_count": 17,
     "metadata": {},
     "output_type": "execute_result"
    },
    {
     "data": {
      "image/png": "[encoded data removed]",
      "text/plain": [
       "<Figure size 432x288 with 1 Axes>"
      ]
     },
     "metadata": {
      "needs_background": "light"
     },
     "output_type": "display_data"
    }
   ],
   "source": [
    "sns.distplot(list(d_lengths.values()))"
   ]
  },
  {
   "cell_type": "code",
   "execution_count": 18,
   "id": "pacific-conclusion",
   "metadata": {},
   "outputs": [],
   "source": [
    "long_trajs = [k for k, v in d_lengths.items() if v > 400]"
   ]
  },
  {
   "cell_type": "code",
   "execution_count": 19,
   "id": "colonial-difficulty",
   "metadata": {},
   "outputs": [
    {
     "data": {
      "text/plain": [
       "278"
      ]
     },
     "execution_count": 19,
     "metadata": {},
     "output_type": "execute_result"
    }
   ],
   "source": [
    "len(long_trajs)"
   ]
  },
  {
   "cell_type": "code",
   "execution_count": 20,
   "id": "prostate-racing",
   "metadata": {
    "scrolled": true
   },
   "outputs": [
    {
     "data": {
      "text/plain": [
       "[2,\n",
       " 6,\n",
       " 7,\n",
       " 8,\n",
       " 9,\n",
       " 10,\n",
       " 11,\n",
       " 14,\n",
       " 15,\n",
       " 16,\n",
       " 18,\n",
       " 19,\n",
       " 20,\n",
       " 21,\n",
       " 22,\n",
       " 23,\n",
       " 26,\n",
       " 27,\n",
       " 31,\n",
       " 32,\n",
       " 35,\n",
       " 37,\n",
       " 40,\n",
       " 41,\n",
       " 42,\n",
       " 44,\n",
       " 45,\n",
       " 47,\n",
       " 50,\n",
       " 51,\n",
       " 52,\n",
       " 54,\n",
       " 56,\n",
       " 60,\n",
       " 63,\n",
       " 68,\n",
       " 72,\n",
       " 74,\n",
       " 76,\n",
       " 82,\n",
       " 83,\n",
       " 84,\n",
       " 85,\n",
       " 92,\n",
       " 93,\n",
       " 95,\n",
       " 97,\n",
       " 101,\n",
       " 107,\n",
       " 108,\n",
       " 109,\n",
       " 111,\n",
       " 115,\n",
       " 124,\n",
       " 131,\n",
       " 133,\n",
       " 136,\n",
       " 141,\n",
       " 152,\n",
       " 156,\n",
       " 158,\n",
       " 160,\n",
       " 161,\n",
       " 162,\n",
       " 164,\n",
       " 165,\n",
       " 166,\n",
       " 167,\n",
       " 168,\n",
       " 171,\n",
       " 179,\n",
       " 181,\n",
       " 184,\n",
       " 190,\n",
       " 207,\n",
       " 208,\n",
       " 212,\n",
       " 213,\n",
       " 215,\n",
       " 219,\n",
       " 226,\n",
       " 232,\n",
       " 236,\n",
       " 240,\n",
       " 241,\n",
       " 243,\n",
       " 247,\n",
       " 248,\n",
       " 249,\n",
       " 252,\n",
       " 254,\n",
       " 256,\n",
       " 262,\n",
       " 264,\n",
       " 276,\n",
       " 281,\n",
       " 284,\n",
       " 285,\n",
       " 290,\n",
       " 293,\n",
       " 294,\n",
       " 295,\n",
       " 304,\n",
       " 306,\n",
       " 311,\n",
       " 325,\n",
       " 328,\n",
       " 332,\n",
       " 335,\n",
       " 336,\n",
       " 340,\n",
       " 350,\n",
       " 351,\n",
       " 353,\n",
       " 354,\n",
       " 355,\n",
       " 357,\n",
       " 360,\n",
       " 361,\n",
       " 363,\n",
       " 366,\n",
       " 367,\n",
       " 372,\n",
       " 377,\n",
       " 379,\n",
       " 380,\n",
       " 381,\n",
       " 384,\n",
       " 391,\n",
       " 397,\n",
       " 398,\n",
       " 399,\n",
       " 409,\n",
       " 411,\n",
       " 417,\n",
       " 422,\n",
       " 424,\n",
       " 429,\n",
       " 430,\n",
       " 439,\n",
       " 447,\n",
       " 455,\n",
       " 459,\n",
       " 466,\n",
       " 469,\n",
       " 471,\n",
       " 475,\n",
       " 478,\n",
       " 485,\n",
       " 488,\n",
       " 489,\n",
       " 504,\n",
       " 506,\n",
       " 511,\n",
       " 514,\n",
       " 515,\n",
       " 522,\n",
       " 527,\n",
       " 529,\n",
       " 533,\n",
       " 546,\n",
       " 548,\n",
       " 559,\n",
       " 563,\n",
       " 568,\n",
       " 570,\n",
       " 579,\n",
       " 582,\n",
       " 588,\n",
       " 598,\n",
       " 601,\n",
       " 604,\n",
       " 608,\n",
       " 609,\n",
       " 610,\n",
       " 612,\n",
       " 616,\n",
       " 621,\n",
       " 622,\n",
       " 625,\n",
       " 626,\n",
       " 632,\n",
       " 633,\n",
       " 634,\n",
       " 636,\n",
       " 639,\n",
       " 641,\n",
       " 655,\n",
       " 660,\n",
       " 665,\n",
       " 667,\n",
       " 668,\n",
       " 678,\n",
       " 680,\n",
       " 684,\n",
       " 691,\n",
       " 694,\n",
       " 696,\n",
       " 697,\n",
       " 698,\n",
       " 700,\n",
       " 702,\n",
       " 704,\n",
       " 706,\n",
       " 709,\n",
       " 720,\n",
       " 726,\n",
       " 728,\n",
       " 730,\n",
       " 737,\n",
       " 739,\n",
       " 740,\n",
       " 741,\n",
       " 748,\n",
       " 749,\n",
       " 751,\n",
       " 756,\n",
       " 757,\n",
       " 758,\n",
       " 760,\n",
       " 761,\n",
       " 767,\n",
       " 768,\n",
       " 773,\n",
       " 775,\n",
       " 788,\n",
       " 795,\n",
       " 810,\n",
       " 817,\n",
       " 825,\n",
       " 827,\n",
       " 828,\n",
       " 842,\n",
       " 843,\n",
       " 846,\n",
       " 849,\n",
       " 850,\n",
       " 852,\n",
       " 854,\n",
       " 855,\n",
       " 856,\n",
       " 860,\n",
       " 865,\n",
       " 866,\n",
       " 869,\n",
       " 871,\n",
       " 874,\n",
       " 875,\n",
       " 877,\n",
       " 885,\n",
       " 890,\n",
       " 892,\n",
       " 894,\n",
       " 895,\n",
       " 898,\n",
       " 901,\n",
       " 902,\n",
       " 908,\n",
       " 914,\n",
       " 922,\n",
       " 924,\n",
       " 929,\n",
       " 932,\n",
       " 934,\n",
       " 945,\n",
       " 951,\n",
       " 954,\n",
       " 955,\n",
       " 956,\n",
       " 959,\n",
       " 961,\n",
       " 965,\n",
       " 973,\n",
       " 982,\n",
       " 988,\n",
       " 992,\n",
       " 993,\n",
       " 996]"
      ]
     },
     "execution_count": 20,
     "metadata": {},
     "output_type": "execute_result"
    }
   ],
   "source": [
    "long_trajs"
   ]
  },
  {
   "cell_type": "markdown",
   "id": "speaking-compilation",
   "metadata": {},
   "source": [
    "## Compute distances between residues"
   ]
  },
  {
   "cell_type": "code",
   "execution_count": 1,
   "id": "three-remainder",
   "metadata": {},
   "outputs": [],
   "source": [
    "import mdtraj as md\n",
    "import os\n",
    "from tqdm import tqdm_notebook\n",
    "\n",
    "import warnings\n",
    "warnings.filterwarnings('ignore')\n",
    "\n",
    "import time\n",
    "from simtk.openmm import unit\n",
    "import itertools\n",
    "import numpy as np"
   ]
  },
  {
   "cell_type": "markdown",
   "id": "educated-jumping",
   "metadata": {},
   "source": [
    "### Test compute_contacts on clone6"
   ]
  },
  {
   "cell_type": "code",
   "execution_count": 2,
   "id": "finnish-active",
   "metadata": {},
   "outputs": [],
   "source": [
    "top = md.load(\"/data/chodera/glassw/covid_vir/PROJ17329/munged_data/run0-clone0.pdb\")\n",
    "path = \"/data/chodera/glassw/covid_vir/PROJ17329/munged_data/run0-clone6.xtc\"\n",
    "traj = md.load(path, top=top)\n"
   ]
  },
  {
   "cell_type": "code",
   "execution_count": 9,
   "id": "worldwide-champagne",
   "metadata": {},
   "outputs": [],
   "source": [
    "# Get neighboring residues\n",
    "resid = 501\n",
    "radius = 1\n",
    "\n",
    "for res in top.topology.residues:\n",
    "    if res.resSeq == resid and res.chain.index == 0:\n",
    "        mutated_res = res\n",
    "query_indices = [atom.index for atom in mutated_res.atoms]\n",
    "solute_atoms = list(traj.topology.select(\"is_protein\"))\n",
    "neighboring_atoms = list(md.compute_neighbors(traj, radius, query_indices, haystack_indices=solute_atoms)[0])\n",
    "neighboring_residues = set([atom.residue.index for atom in top.topology.atoms if atom.index in neighboring_atoms])"
   ]
  },
  {
   "cell_type": "code",
   "execution_count": 10,
   "id": "toxic-consolidation",
   "metadata": {},
   "outputs": [],
   "source": [
    "# Get all pairs of residues\n",
    "pairs = []\n",
    "for pair in itertools.combinations(neighboring_residues, 2):\n",
    "    pairs.append(pair)"
   ]
  },
  {
   "cell_type": "code",
   "execution_count": 11,
   "id": "voluntary-preview",
   "metadata": {},
   "outputs": [
    {
     "data": {
      "text/plain": [
       "1485"
      ]
     },
     "execution_count": 11,
     "metadata": {},
     "output_type": "execute_result"
    }
   ],
   "source": [
    "len(pairs)"
   ]
  },
  {
   "cell_type": "code",
   "execution_count": 12,
   "id": "quantitative-multimedia",
   "metadata": {},
   "outputs": [
    {
     "name": "stdout",
     "output_type": "stream",
     "text": [
      "took: 5.296170711517334 seconds\n"
     ]
    }
   ],
   "source": [
    "initial_time = time.time()\n",
    "distances = md.compute_contacts(traj, contacts=pairs, scheme='closest-heavy')\n",
    "elapsed_time = (time.time() - initial_time) * unit.seconds\n",
    "print(f'took: {elapsed_time / unit.seconds} seconds')"
   ]
  },
  {
   "cell_type": "markdown",
   "id": "creative-philippines",
   "metadata": {},
   "source": [
    "### Run compute_contacts on trajectories with > 400 frames"
   ]
  },
  {
   "cell_type": "code",
   "execution_count": 21,
   "id": "greek-samba",
   "metadata": {},
   "outputs": [
    {
     "data": {
      "application/vnd.jupyter.widget-view+json": {
       "model_id": "87a3848f582b40aa87ac2d55059d43fc",
       "version_major": 2,
       "version_minor": 0
      },
      "text/plain": [
       "  0%|          | 0/278 [00:00<?, ?it/s]"
      ]
     },
     "metadata": {},
     "output_type": "display_data"
    }
   ],
   "source": [
    "distances_long = []\n",
    "for i in tqdm_notebook(long_trajs):\n",
    "    path = f\"/data/chodera/glassw/covid_vir/PROJ17329/munged_data/run0-clone{i}.xtc\"\n",
    "    traj = md.load(path, top=top)\n",
    "    distances = md.compute_contacts(traj, contacts=pairs, scheme='closest-heavy')\n",
    "    distances_long.append(distances)"
   ]
  },
  {
   "cell_type": "code",
   "execution_count": 22,
   "id": "attached-advisory",
   "metadata": {},
   "outputs": [],
   "source": [
    "with open(\"042021_distances_1.pickle\", \"wb\") as f:\n",
    "    pickle.dump(distances_long, f)"
   ]
  },
  {
   "cell_type": "code",
   "execution_count": 23,
   "id": "legitimate-banking",
   "metadata": {},
   "outputs": [],
   "source": [
    "distances_final = np.array([output[0] for output in distances_long])"
   ]
  },
  {
   "cell_type": "code",
   "execution_count": null,
   "id": "saving-material",
   "metadata": {},
   "outputs": [],
   "source": []
  },
  {
   "cell_type": "code",
   "execution_count": 73,
   "id": "opposed-quest",
   "metadata": {},
   "outputs": [
    {
     "name": "stdout",
     "output_type": "stream",
     "text": [
      "107 ASN439\n",
      "164 GLY496\n",
      "165 PHE497\n",
      "166 GLN498\n",
      "167 PRO499\n",
      "168 THR500\n",
      "169 ASN501\n",
      "170 GLY502\n",
      "171 VAL503\n",
      "173 TYR505\n",
      "174 GLN506\n",
      "175 PRO507\n",
      "229 TYR41\n",
      "540 GLY352\n",
      "541 LYS353\n",
      "542 GLY354\n",
      "543 ASP355\n"
     ]
    }
   ],
   "source": [
    "for res in top.topology.residues:\n",
    "    if res.index in neighboring_residues:\n",
    "        print(res.index, res)"
   ]
  },
  {
   "cell_type": "code",
   "execution_count": null,
   "id": "floppy-ranch",
   "metadata": {},
   "outputs": [],
   "source": []
  },
  {
   "cell_type": "code",
   "execution_count": null,
   "id": "southeast-power",
   "metadata": {},
   "outputs": [],
   "source": [
    "# Question: should i discard the first X ns of data if im going to build an MSM?"
   ]
  },
  {
   "cell_type": "code",
   "execution_count": null,
   "id": "lucky-stevens",
   "metadata": {},
   "outputs": [],
   "source": [
    "# See if using sidechain heavy atoms changes anything\n",
    "distances = md.compute_contacts(traj, contacts=, scheme='sidechain-heavy')"
   ]
  },
  {
   "cell_type": "code",
   "execution_count": null,
   "id": "incredible-walker",
   "metadata": {},
   "outputs": [],
   "source": [
    "# See if using alpha carbons changes anything\n",
    "distances = md.compute_contacts(traj, contacts=, scheme='ca')"
   ]
  }
 ],
 "metadata": {
  "kernelspec": {
   "display_name": "Python 3",
   "language": "python",
   "name": "python3"
  },
  "language_info": {
   "codemirror_mode": {
    "name": "ipython",
    "version": 3
   },
   "file_extension": ".py",
   "mimetype": "text/x-python",
   "name": "python",
   "nbconvert_exporter": "python",
   "pygments_lexer": "ipython3",
   "version": "3.8.6"
  }
 },
 "nbformat": 4,
 "nbformat_minor": 5
}
