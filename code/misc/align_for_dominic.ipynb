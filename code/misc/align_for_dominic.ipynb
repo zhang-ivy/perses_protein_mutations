{
 "cells": [
  {
   "cell_type": "code",
   "execution_count": 1,
   "metadata": {},
   "outputs": [],
   "source": [
    "import mdtraj as md"
   ]
  },
  {
   "cell_type": "code",
   "execution_count": 4,
   "metadata": {},
   "outputs": [],
   "source": [
    "traj = md.load_pdb(\"../../lig0.solvent.unaligned.pdb\")"
   ]
  },
  {
   "cell_type": "code",
   "execution_count": 9,
   "metadata": {},
   "outputs": [
    {
     "name": "stdout",
     "output_type": "stream",
     "text": [
      "MOL1-C1 0\n",
      "MOL1-C2 1\n",
      "MOL1-O1 2\n",
      "MOL1-C3 3\n",
      "MOL1-N1 4\n",
      "MOL1-C4 5\n",
      "MOL1-C5 6\n",
      "MOL1-C6 7\n",
      "MOL1-N2 8\n",
      "MOL1-C7 9\n",
      "MOL1-C8 10\n",
      "MOL1-N3 11\n",
      "MOL1-N4 12\n",
      "MOL1-C9 13\n",
      "MOL1-O2 14\n",
      "MOL1-C10 15\n",
      "MOL1-C11 16\n",
      "MOL1-C12 17\n",
      "MOL1-C13 18\n",
      "MOL1-C14 19\n",
      "MOL1-C15 20\n",
      "MOL1-C16 21\n",
      "MOL1-C17 22\n",
      "MOL1-H1 23\n",
      "MOL1-H2 24\n",
      "MOL1-H3 25\n",
      "MOL1-H4 26\n",
      "MOL1-H5 27\n",
      "MOL1-H6 28\n",
      "MOL1-H7 29\n",
      "MOL1-H8 30\n",
      "MOL1-H9 31\n",
      "MOL1-H10 32\n",
      "MOL1-H11 33\n",
      "MOL1-H12 34\n",
      "MOL1-H13 35\n",
      "MOL1-H14 36\n",
      "MOL1-H15 37\n",
      "MOL1-H16 38\n",
      "MOL1-H17 39\n",
      "MOL1-H18 40\n"
     ]
    }
   ],
   "source": [
    "for atom in traj.topology.atoms:\n",
    "    print(atom, atom.index)"
   ]
  },
  {
   "cell_type": "code",
   "execution_count": 12,
   "metadata": {},
   "outputs": [],
   "source": [
    "aligned_traj = traj.superpose(traj, 0, [4,5,6,7,9,10,8,3])"
   ]
  },
  {
   "cell_type": "code",
   "execution_count": 13,
   "metadata": {},
   "outputs": [],
   "source": [
    "aligned_traj.save(\"aligned.pdb\")"
   ]
  },
  {
   "cell_type": "code",
   "execution_count": null,
   "metadata": {},
   "outputs": [],
   "source": []
  }
 ],
 "metadata": {
  "kernelspec": {
   "display_name": "Python 3",
   "language": "python",
   "name": "python3"
  },
  "language_info": {
   "codemirror_mode": {
    "name": "ipython",
    "version": 3
   },
   "file_extension": ".py",
   "mimetype": "text/x-python",
   "name": "python",
   "nbconvert_exporter": "python",
   "pygments_lexer": "ipython3",
   "version": "3.7.3"
  }
 },
 "nbformat": 4,
 "nbformat_minor": 4
}
