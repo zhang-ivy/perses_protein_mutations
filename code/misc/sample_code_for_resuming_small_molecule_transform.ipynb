{
 "cells": [
  {
   "cell_type": "code",
   "execution_count": 1,
   "id": "aad5c025",
   "metadata": {},
   "outputs": [
    {
     "name": "stdout",
     "output_type": "stream",
     "text": [
      "conducting subsequent work with the following platform: CUDA\n",
      "conducting subsequent work with the following platform: CUDA\n",
      "conducting subsequent work with the following platform: CUDA\n",
      "conducting subsequent work with the following platform: CUDA\n"
     ]
    }
   ],
   "source": [
    "import os\n",
    "from pkg_resources import resource_filename\n",
    "from perses.app import setup_relative_calculation\n",
    "import pickle"
   ]
  },
  {
   "cell_type": "code",
   "execution_count": 3,
   "id": "ca9aee5c",
   "metadata": {
    "scrolled": true
   },
   "outputs": [
    {
     "name": "stderr",
     "output_type": "stream",
     "text": [
      "2021-07-12 16:23:01,274:(152.16s):root:\tDetecting phases...\n",
      "2021-07-12 16:23:01,277:(0.00s):root:\t\tphases detected: ['complex', 'solvent', 'vacuum']\n",
      "2021-07-12 16:23:01,280:(0.00s):root:No constraints will be removed\n",
      "2021-07-12 16:23:01,282:(0.00s):root:No spectators\n",
      "2021-07-12 16:23:01,285:(0.00s):root:\t\t\trun_type is not specified; default to None\n",
      "2021-07-12 16:23:01,288:(0.00s):root:\tDetecting fe_type...\n",
      "2021-07-12 16:23:01,290:(0.00s):root:\t\tfe_type: repex\n",
      "2021-07-12 16:23:01,292:(0.00s):root:\t\t\toffline-freq not specified: default to 10.\n",
      "2021-07-12 16:23:01,295:(0.00s):root:\t'neglect_angles' detected: False.\n",
      "2021-07-12 16:23:01,296:(0.00s):root:\t'softcore_v2' not specified: default to 'False'\n",
      "2021-07-12 16:23:01,300:(0.00s):root:\tCreating 'output'...\n",
      "2021-07-12 16:23:01,308:(0.01s):root:\tdetected ligand file: /home/zhangi/miniconda3/envs/perses-rbd-ace2/lib/python3.8/site-packages/perses-0.8.2.dev0-py3.8.egg/perses/data/cdk2-example/CDK2_ligands.sdf\n",
      "2021-07-12 16:23:01,309:(0.00s):root:\told ligand index: 14; new ligand index: 15\n",
      "2021-07-12 16:23:01,310:(0.00s):root:\tsetting up forcefield files...\n",
      "2021-07-12 16:23:01,311:(0.00s):root:\tno timestep detected: setting default as 1.0fs.\n",
      "2021-07-12 16:23:01,312:(0.00s):root:\tno splitting strings specified: defaulting to neq: V R O R V, eq: V R O R V.\n",
      "2021-07-12 16:23:01,313:(0.00s):root:\tno measure_shadow_work specified: defaulting to False.\n",
      "2021-07-12 16:23:01,314:(0.00s):root:\tsetting pressure: 1.0 atm.\n",
      "2021-07-12 16:23:01,315:(0.00s):root:\tsetting temperature: 300.0 K.\n",
      "2021-07-12 16:23:01,316:(0.00s):root:\tsetting solvent padding: 9.0 AA.\n",
      "2021-07-12 16:23:01,317:(0.00s):root:\tsetting ionic strength: 0.15 MM.\n",
      "2021-07-12 16:23:01,318:(0.00s):root:\tsetup pickle file: fesetup_hbonds.pkl\n",
      "2021-07-12 16:23:01,319:(0.00s):root:\ttrajectory directory: output\n",
      "2021-07-12 16:23:01,320:(0.00s):root:\tno atom map specified: default to None.\n",
      "2021-07-12 16:23:01,321:(0.00s):root:\tno topology_proposal specified; proceeding to RelativeFEPSetup...\n",
      "\n",
      "\n",
      "\n",
      "2021-07-12 16:23:01,322:(0.00s):root:Box dimensions: None and None\n",
      "2021-07-12 16:23:01,323:(0.00s):relative_setup:\t\t\t_hmass: 4 Da.\n",
      "\n",
      "2021-07-12 16:23:01,324:(0.00s):relative_setup:Setting non bonded method to PME\n",
      "2021-07-12 16:23:01,325:(0.00s):relative_setup:Handling files for ligands and indices...\n",
      "2021-07-12 16:23:01,338:(0.01s):relative_setup:Detected .sdf format.  Proceeding...\n",
      "2021-07-12 16:23:01,513:(0.17s):utils.openeye:molecule 17                      does not have unique atom names. Generating now...\n",
      "2021-07-12 16:23:01,524:(0.01s):utils.openeye:molecule 1h1q                      does not have unique atom names. Generating now...\n",
      "2021-07-12 16:23:01,530:(0.01s):relative_setup:\tsuccessfully extracted positions from OEMOL.\n",
      "2021-07-12 16:23:01,533:(0.00s):relative_setup:\tsetting both molecule oemol titles to 'MOL'.\n",
      "2021-07-12 16:23:01,535:(0.00s):relative_setup:\tsuccessfully created SMILES for both ligand OEMOLs.\n",
      "2021-07-12 16:23:01,542:(0.01s):relative_setup:\tsuccessfully generated topologies for both OEMOLs.\n",
      "2021-07-12 16:23:01,545:(0.00s):relative_setup:Created mdtraj topologies for both ligands.\n",
      "2021-07-12 16:23:01,548:(0.00s):relative_setup:set MonteCarloBarostat because pressure was specified as 1.0 atm atmospheres\n",
      "2021-07-12 16:23:03,928:(2.38s):rdkit:Enabling RDKit 2020.09.4 jupyter extensions\n",
      "2021-07-12 16:23:04,179:(0.25s):relative_setup:PME tolerance: 0.00025\n",
      "2021-07-12 16:23:04,411:(0.23s):relative_setup:successfully created SystemGenerator to create ligand systems\n",
      "2021-07-12 16:23:04,415:(0.00s):relative_setup:executing SmallMoleculeSetProposalEngine...\n",
      "2021-07-12 16:23:04,418:(0.00s):relative_setup:instantiating FFAllAngleGeometryEngine...\n",
      "2021-07-12 16:23:04,421:(0.00s):relative_setup:Detected solvent...\n",
      "2021-07-12 16:23:04,423:(0.00s):relative_setup:no complex detected in phases...generating unique topology/geometry proposals...\n",
      "2021-07-12 16:23:04,426:(0.00s):relative_setup:solvating ligand...\n",
      "2021-07-12 16:23:04,428:(0.00s):relative_setup:box_dimensions: None\n",
      "2021-07-12 16:23:04,430:(0.00s):relative_setup:solvent padding: 9.0\n",
      "2021-07-12 16:23:04,433:(0.00s):relative_setup:\tpreparing to add solvent\n",
      "2021-07-12 16:23:04,876:(0.44s):openmmforcefields.generators.template_generators:Requested to generate parameters for residue <Residue 0 (MOL) of chain 0>\n",
      "2021-07-12 16:23:05,317:(0.44s):relative_setup:\tparameterizing...\n",
      "2021-07-12 16:23:05,685:(0.37s):relative_setup:\tSystem parameterized\n",
      "2021-07-12 16:23:05,864:(0.18s):relative_setup:creating TopologyProposal\n",
      "2021-07-12 16:23:05,867:(0.00s):proposal_generator:creating current receptor topology by removing small molecule from current topology...\n",
      "2021-07-12 16:23:05,883:(0.02s):proposal_generator:small molecule start index: 0\n",
      "2021-07-12 16:23:05,886:(0.00s):proposal_generator:small molecule has 45 atoms.\n",
      "2021-07-12 16:23:05,888:(0.00s):proposal_generator:old alchemical atom indices: range(0, 45)\n",
      "2021-07-12 16:23:05,891:(0.00s):proposal_generator:proposed mol detected with smiles [H]c1c(c(c(c(c1[H])[H])N([H])c2nc3c(c(n2)OC([H])([H])C4(C(C(C(C(C4([H])[H])([H])[H])([H])[H])([H])[H])([H])[H])[H])nc(n3[H])[H])[H])[H] and logp_proposal of 0.0\n",
      "2021-07-12 16:23:05,893:(0.00s):proposal_generator:conducting proposal from [H]c1c(c(c(c(c1[H])Br)[H])N([H])c2nc3c(c(n2)OC([H])([H])C4(C(C(C(C(C4([H])[H])([H])[H])([H])[H])([H])[H])([H])[H])[H])nc(n3[H])[H])[H] to [H]c1c(c(c(c(c1[H])[H])N([H])c2nc3c(c(n2)OC([H])([H])C4(C(C(C(C(C4([H])[H])([H])[H])([H])[H])([H])[H])([H])[H])[H])nc(n3[H])[H])[H])[H]...\n",
      "2021-07-12 16:23:05,896:(0.00s):proposal_generator:building new topology with proposed molecule and current receptor topology...\n",
      "2021-07-12 16:23:05,898:(0.00s):proposal_generator:\tsetting proposed oemol title to MOL\n",
      "2021-07-12 16:23:05,900:(0.00s):proposal_generator:\tcreating mol topology from oemol...\n",
      "2021-07-12 16:23:05,904:(0.00s):proposal_generator:\tappending current receptor topology to new mol topology...\n",
      "2021-07-12 16:23:05,920:(0.02s):proposal_generator:\tperiodic box vectors of the current receptor is specified; copying to new topology...\n",
      "2021-07-12 16:23:05,923:(0.00s):proposal_generator:new molecule has a start index of 2152 and 45 atoms.\n",
      "2021-07-12 16:23:05,925:(0.00s):proposal_generator:proceeding to build the new system from the new topology...\n",
      "2021-07-12 16:23:05,973:(0.05s):openmmforcefields.generators.template_generators:Requested to generate parameters for residue <Residue 720 (MOL) of chain 3>\n",
      "2021-07-12 16:23:06,316:(0.34s):proposal_generator:determining atom map between old and new molecules...\n",
      "2021-07-12 16:23:06,319:(0.00s):proposal_generator:the atom map is not specified; proceeding to generate an atom map...\n",
      "2021-07-12 16:23:06,322:(0.00s):proposal_generator:Using geometry to chose best atom map\n",
      "2021-07-12 16:23:06,338:(0.02s):proposal_generator:Scaffold has symmetry of 4\n",
      "2021-07-12 16:23:06,341:(0.00s):proposal_generator:There are 4 before filtering\n",
      "2021-07-12 16:23:06,343:(0.00s):proposal_generator:There are 4 after filtering to remove maps with fewer matches than 24 atoms\n",
      "2021-07-12 16:23:06,351:(0.01s):proposal_generator:1 scaffold maps for A\n",
      "2021-07-12 16:23:06,353:(0.00s):proposal_generator:Scaffold to molA: {0: 0, 1: 1, 2: 2, 3: 3, 8: 4, 7: 5, 6: 6, 5: 7, 4: 8, 11: 9, 10: 10, 9: 11, 23: 12, 13: 13, 14: 14, 15: 15, 16: 16, 17: 17, 18: 18, 19: 19, 20: 20, 21: 21, 22: 22, 12: 23}\n",
      "2021-07-12 16:23:06,361:(0.01s):proposal_generator:1 scaffold maps for B\n",
      "2021-07-12 16:23:06,364:(0.00s):proposal_generator:Scaffold to molB: {0: 0, 1: 1, 2: 2, 3: 3, 8: 4, 7: 5, 6: 6, 5: 7, 4: 8, 11: 9, 10: 10, 9: 11, 23: 12, 13: 13, 14: 14, 15: 15, 16: 16, 17: 17, 18: 18, 19: 19, 20: 20, 21: 21, 22: 22, 12: 23}\n",
      "2021-07-12 16:23:09,119:(2.76s):proposal_generator:4 maps are reduced to 1\n",
      "2021-07-12 16:23:09,124:(0.00s):proposal_generator:molecule_maps_scores: dict_keys([19.8560123167367])\n",
      "2021-07-12 16:23:09,126:(0.00s):proposal_generator:Returning map with closest geometry satisfaction\n",
      "2021-07-12 16:23:09,322:(0.20s):proposal_generator:Proposed transformation would delete 1 atoms and create 1 atoms.\n",
      "2021-07-12 16:23:09,325:(0.00s):relative_setup:conducting geometry proposal...\n",
      "2021-07-12 16:23:09,328:(0.00s):geometry:propose: performing forward proposal\n"
     ]
    },
    {
     "name": "stderr",
     "output_type": "stream",
     "text": [
      "2021-07-12 16:23:09,331:(0.00s):geometry:propose: unique new atoms detected; proceeding to _logp_propose...\n",
      "2021-07-12 16:23:09,334:(0.00s):geometry:Conducting forward proposal...\n",
      "2021-07-12 16:23:09,336:(0.00s):geometry:Computing proposal order with NetworkX...\n",
      "2021-07-12 16:23:09,354:(0.02s):geometry:number of atoms to be placed: 1\n",
      "2021-07-12 16:23:09,357:(0.00s):geometry:Atom index proposal order is [2190]\n",
      "2021-07-12 16:23:09,359:(0.00s):geometry:omitted_bonds: []\n",
      "2021-07-12 16:23:09,362:(0.00s):geometry:direction of proposal is forward; creating atoms_with_positions and new positions from old system/topology...\n",
      "2021-07-12 16:23:09,701:(0.34s):geometry:creating growth system...\n",
      "2021-07-12 16:23:09,780:(0.08s):geometry:\tcreating bond force...\n",
      "2021-07-12 16:23:09,783:(0.00s):geometry:\tthere are 27 bonds in reference force.\n",
      "2021-07-12 16:23:09,786:(0.00s):geometry:\tcreating angle force...\n",
      "2021-07-12 16:23:09,788:(0.00s):geometry:\tthere are 85 angles in reference force.\n",
      "2021-07-12 16:23:09,793:(0.00s):geometry:\tcreating torsion force...\n",
      "2021-07-12 16:23:09,796:(0.00s):geometry:\tcreating extra torsions force...\n",
      "2021-07-12 16:23:09,798:(0.00s):geometry:\tthere are 157 torsions in reference force.\n",
      "2021-07-12 16:23:09,802:(0.00s):geometry:\tcreating nonbonded force...\n",
      "2021-07-12 16:23:09,805:(0.00s):geometry:\t\tgrabbing reference nonbonded method, cutoff, switching function, switching distance...\n",
      "2021-07-12 16:23:09,807:(0.00s):geometry:\t\tcreating nonbonded exception force (i.e. custom bond for 1,4s)...\n",
      "2021-07-12 16:23:09,810:(0.00s):geometry:\t\tlooping through exceptions calculating growth indices, and adding appropriate interactions to custom bond force.\n",
      "2021-07-12 16:23:09,812:(0.00s):geometry:\t\tthere are 2395 in the reference Nonbonded force\n",
      "2021-07-12 16:23:09,915:(0.10s):geometry:Neglected angle terms : []\n",
      "2021-07-12 16:23:09,918:(0.00s):geometry:omitted_growth_terms: {'bonds': [], 'angles': [], 'torsions': [], '1,4s': []}\n",
      "2021-07-12 16:23:09,920:(0.00s):geometry:extra torsions: {0: (2190, 2161, 2162, 2163, [1, Quantity(value=-0.019594642035228205, unit=radian), Quantity(value=1200.0, unit=kilocalorie/mole), 1]), 1: (2190, 2161, 2162, 2191, [1, Quantity(value=-3.1361896196768977, unit=radian), Quantity(value=1200.0, unit=kilocalorie/mole), 1]), 2: (2190, 2161, 2175, 2174, [1, Quantity(value=-0.008871224163264912, unit=radian), Quantity(value=1200.0, unit=kilocalorie/mole), 1]), 3: (2190, 2161, 2175, 2196, [1, Quantity(value=3.1405837865634907, unit=radian), Quantity(value=1200.0, unit=kilocalorie/mole), 1])}\n",
      "2021-07-12 16:23:09,923:(0.00s):geometry:neglected angle terms include []\n",
      "2021-07-12 16:23:09,925:(0.00s):geometry:log probability choice of torsions and atom order: -1.3862943611198906\n",
      "2021-07-12 16:23:09,928:(0.00s):geometry:creating platform, integrators, and contexts; setting growth parameter\n"
     ]
    },
    {
     "name": "stdout",
     "output_type": "stream",
     "text": [
      "conducting subsequent work with the following platform: CUDA\n"
     ]
    },
    {
     "name": "stderr",
     "output_type": "stream",
     "text": [
      "2021-07-12 16:23:10,670:(0.74s):geometry:setting atoms_with_positions context new positions\n"
     ]
    },
    {
     "name": "stdout",
     "output_type": "stream",
     "text": [
      "conducting subsequent work with the following platform: CUDA\n"
     ]
    },
    {
     "name": "stderr",
     "output_type": "stream",
     "text": [
      "2021-07-12 16:23:11,202:(0.53s):geometry:There are 1 new atoms\n",
      "2021-07-12 16:23:11,217:(0.01s):geometry:\treduced angle potential = 0.14873722154719302.\n",
      "2021-07-12 16:23:11,425:(0.21s):geometry:\tbeginning construction of no_nonbonded final system...\n",
      "2021-07-12 16:23:11,429:(0.00s):geometry:\tinitial no-nonbonded final system forces ['HarmonicBondForce', 'HarmonicAngleForce', 'PeriodicTorsionForce', 'NonbondedForce', 'MonteCarloBarostat']\n",
      "2021-07-12 16:23:11,654:(0.23s):geometry:\tfinal no-nonbonded final system forces dict_keys(['HarmonicBondForce', 'HarmonicAngleForce', 'PeriodicTorsionForce', 'NonbondedForce'])\n",
      "2021-07-12 16:23:11,658:(0.00s):geometry:\tthere are 27 bond forces in the no-nonbonded final system\n",
      "2021-07-12 16:23:11,660:(0.00s):geometry:\tthere are 85 angle forces in the no-nonbonded final system\n",
      "2021-07-12 16:23:11,663:(0.00s):geometry:\tthere are 157 torsion forces in the no-nonbonded final system\n",
      "2021-07-12 16:23:11,666:(0.00s):geometry:forward final system defined with 0 neglected angles.\n"
     ]
    },
    {
     "name": "stdout",
     "output_type": "stream",
     "text": [
      "conducting subsequent work with the following platform: CUDA\n",
      "conducting subsequent work with the following platform: CUDA\n"
     ]
    },
    {
     "name": "stderr",
     "output_type": "stream",
     "text": [
      "2021-07-12 16:23:13,042:(1.38s):geometry:total reduced potential before atom placement: 48.41967204742058\n"
     ]
    },
    {
     "name": "stdout",
     "output_type": "stream",
     "text": [
      "conducting subsequent work with the following platform: CUDA\n",
      "conducting subsequent work with the following platform: CUDA\n",
      "conducting subsequent work with the following platform: CUDA\n"
     ]
    },
    {
     "name": "stderr",
     "output_type": "stream",
     "text": [
      "2021-07-12 16:23:14,576:(1.53s):geometry:total reduced energy added from growth system: 8.210541408321284\n",
      "2021-07-12 16:23:14,579:(0.00s):geometry:final reduced energy 56.63021495835569\n",
      "2021-07-12 16:23:14,582:(0.00s):geometry:sum of energies: 56.63021345574187\n",
      "2021-07-12 16:23:14,584:(0.00s):geometry:magnitude of difference in the energies: 1.5026138200369132e-06\n",
      "2021-07-12 16:23:14,587:(0.00s):geometry:Final logp_proposal: 8.2233514962068\n"
     ]
    },
    {
     "name": "stdout",
     "output_type": "stream",
     "text": [
      "added energy components: [('CustomBondForce', 0.0), ('CustomAngleForce', 0.3596221563137868), ('CustomTorsionForce', 0.0054896148441438836), ('CustomBondForce', 7.845429637163353)]\n"
     ]
    },
    {
     "name": "stderr",
     "output_type": "stream",
     "text": [
      "2021-07-12 16:23:14,759:(0.17s):geometry:logp_reverse: performing reverse proposal\n",
      "2021-07-12 16:23:14,762:(0.00s):geometry:logp_reverse: unique new atoms detected; proceeding to _logp_propose...\n",
      "2021-07-12 16:23:14,764:(0.00s):geometry:Conducting forward proposal...\n",
      "2021-07-12 16:23:14,767:(0.00s):geometry:Computing proposal order with NetworkX...\n",
      "2021-07-12 16:23:14,778:(0.01s):geometry:number of atoms to be placed: 1\n",
      "2021-07-12 16:23:14,780:(0.00s):geometry:Atom index proposal order is [44]\n",
      "2021-07-12 16:23:14,782:(0.00s):geometry:omitted_bonds: []\n",
      "2021-07-12 16:23:14,784:(0.00s):geometry:direction of proposal is reverse; creating atoms_with_positions from old system/topology\n",
      "2021-07-12 16:23:15,197:(0.41s):geometry:creating growth system...\n",
      "2021-07-12 16:23:15,275:(0.08s):geometry:\tcreating bond force...\n",
      "2021-07-12 16:23:15,278:(0.00s):geometry:\tthere are 28 bonds in reference force.\n",
      "2021-07-12 16:23:15,282:(0.00s):geometry:\tcreating angle force...\n",
      "2021-07-12 16:23:15,284:(0.00s):geometry:\tthere are 85 angles in reference force.\n",
      "2021-07-12 16:23:15,288:(0.00s):geometry:\tcreating torsion force...\n",
      "2021-07-12 16:23:15,291:(0.00s):geometry:\tcreating extra torsions force...\n",
      "2021-07-12 16:23:15,293:(0.00s):geometry:\tthere are 157 torsions in reference force.\n",
      "2021-07-12 16:23:15,298:(0.00s):geometry:\tcreating nonbonded force...\n",
      "2021-07-12 16:23:15,300:(0.00s):geometry:\t\tgrabbing reference nonbonded method, cutoff, switching function, switching distance...\n",
      "2021-07-12 16:23:15,303:(0.00s):geometry:\t\tcreating nonbonded exception force (i.e. custom bond for 1,4s)...\n",
      "2021-07-12 16:23:15,305:(0.00s):geometry:\t\tlooping through exceptions calculating growth indices, and adding appropriate interactions to custom bond force.\n",
      "2021-07-12 16:23:15,307:(0.00s):geometry:\t\tthere are 2395 in the reference Nonbonded force\n",
      "2021-07-12 16:23:15,409:(0.10s):geometry:Neglected angle terms : []\n",
      "2021-07-12 16:23:15,412:(0.00s):geometry:omitted_growth_terms: {'bonds': [], 'angles': [], 'torsions': [], '1,4s': []}\n",
      "2021-07-12 16:23:15,415:(0.00s):geometry:extra torsions: {0: (9, 10, 11, 44, [1, Quantity(value=0.017128570696415935, unit=radian), Quantity(value=1200.0, unit=kilocalorie/mole), 1]), 1: (39, 10, 11, 44, [1, Quantity(value=3.1337857477223063, unit=radian), Quantity(value=1200.0, unit=kilocalorie/mole), 1]), 2: (44, 11, 12, 22, [1, Quantity(value=0.00863885124394681, unit=radian), Quantity(value=1200.0, unit=kilocalorie/mole), 1]), 3: (44, 11, 12, 40, [1, Quantity(value=-3.1382699121359634, unit=radian), Quantity(value=1200.0, unit=kilocalorie/mole), 1])}\n",
      "2021-07-12 16:23:15,417:(0.00s):geometry:neglected angle terms include []\n",
      "2021-07-12 16:23:15,420:(0.00s):geometry:log probability choice of torsions and atom order: -1.3862943611198906\n",
      "2021-07-12 16:23:15,422:(0.00s):geometry:creating platform, integrators, and contexts; setting growth parameter\n"
     ]
    },
    {
     "name": "stdout",
     "output_type": "stream",
     "text": [
      "conducting subsequent work with the following platform: CUDA\n"
     ]
    },
    {
     "name": "stderr",
     "output_type": "stream",
     "text": [
      "2021-07-12 16:23:16,134:(0.71s):geometry:setting atoms_with_positions context old positions\n"
     ]
    },
    {
     "name": "stdout",
     "output_type": "stream",
     "text": [
      "conducting subsequent work with the following platform: CUDA\n"
     ]
    },
    {
     "name": "stderr",
     "output_type": "stream",
     "text": [
      "2021-07-12 16:23:16,639:(0.51s):geometry:There are 1 new atoms\n",
      "2021-07-12 16:23:16,646:(0.01s):geometry:\treduced angle potential = 0.012250173302112203.\n",
      "2021-07-12 16:23:16,807:(0.16s):geometry:\tbeginning construction of no_nonbonded final system...\n",
      "2021-07-12 16:23:16,810:(0.00s):geometry:\tinitial no-nonbonded final system forces ['HarmonicBondForce', 'HarmonicAngleForce', 'PeriodicTorsionForce', 'NonbondedForce', 'MonteCarloBarostat']\n",
      "2021-07-12 16:23:17,036:(0.23s):geometry:\tfinal no-nonbonded final system forces dict_keys(['HarmonicBondForce', 'HarmonicAngleForce', 'PeriodicTorsionForce', 'NonbondedForce'])\n",
      "2021-07-12 16:23:17,039:(0.00s):geometry:\tthere are 28 bond forces in the no-nonbonded final system\n",
      "2021-07-12 16:23:17,041:(0.00s):geometry:\tthere are 85 angle forces in the no-nonbonded final system\n",
      "2021-07-12 16:23:17,044:(0.00s):geometry:\tthere are 157 torsion forces in the no-nonbonded final system\n",
      "2021-07-12 16:23:17,046:(0.00s):geometry:reverse final system defined with 0 neglected angles.\n"
     ]
    },
    {
     "name": "stdout",
     "output_type": "stream",
     "text": [
      "conducting subsequent work with the following platform: CUDA\n",
      "conducting subsequent work with the following platform: CUDA\n"
     ]
    },
    {
     "name": "stderr",
     "output_type": "stream",
     "text": [
      "2021-07-12 16:23:18,466:(1.42s):geometry:total reduced potential before atom placement: 48.41899607369698\n"
     ]
    },
    {
     "name": "stdout",
     "output_type": "stream",
     "text": [
      "conducting subsequent work with the following platform: CUDA\n",
      "conducting subsequent work with the following platform: CUDA\n",
      "conducting subsequent work with the following platform: CUDA\n"
     ]
    },
    {
     "name": "stderr",
     "output_type": "stream",
     "text": [
      "2021-07-12 16:23:20,060:(1.59s):geometry:total reduced energy added from growth system: -5.056837038117532\n",
      "2021-07-12 16:23:20,064:(0.00s):geometry:final reduced energy 43.36216011253515\n",
      "2021-07-12 16:23:20,066:(0.00s):geometry:sum of energies: 43.36215903557945\n",
      "2021-07-12 16:23:20,069:(0.00s):geometry:magnitude of difference in the energies: 1.0769557015066766e-06\n",
      "2021-07-12 16:23:20,071:(0.00s):geometry:Final logp_proposal: 11.562669373421256\n"
     ]
    },
    {
     "name": "stdout",
     "output_type": "stream",
     "text": [
      "added energy components: [('CustomBondForce', 0.0879842954280575), ('CustomAngleForce', 0.04605409749261916), ('CustomTorsionForce', 0.005423200139534058), ('CustomBondForce', -5.1962986311777435)]\n"
     ]
    },
    {
     "name": "stderr",
     "output_type": "stream",
     "text": [
      "2021-07-12 16:23:20,308:(0.24s):root:\twriting pickle output...\n",
      "2021-07-12 16:23:20,628:(0.32s):root:\tsuccessfully dumped pickle.\n",
      "2021-07-12 16:23:20,633:(0.01s):root:\tsetup is complete.  Writing proposals and positions for each phase to top_prop dict...\n",
      "2021-07-12 16:23:20,636:(0.00s):root:\twriting atom_mapping.png\n",
      "2021-07-12 16:23:21,271:(0.64s):root:\t steps per move application: 50\n",
      "2021-07-12 16:23:21,275:(0.00s):root:\ttrajectory prefix: out\n",
      "2021-07-12 16:23:21,278:(0.00s):root:\tatom selection detected: not water\n",
      "2021-07-12 16:23:21,280:(0.00s):root:\tno nonequilibrium detected.\n",
      "2021-07-12 16:23:21,282:(0.00s):root:\tcataloging HybridTopologyFactories...\n",
      "2021-07-12 16:23:21,285:(0.00s):root:\t\tphase: solvent:\n",
      "2021-07-12 16:23:21,287:(0.00s):root:\t\twriting HybridTopologyFactory for phase solvent...\n",
      "2021-07-12 16:23:21,290:(0.00s):relative:*** Generating vanilla HybridTopologyFactory ***\n",
      "2021-07-12 16:23:21,292:(0.00s):relative:Beginning nonbonded method, total particle, barostat, and exceptions retrieval...\n",
      "2021-07-12 16:23:21,381:(0.09s):relative:Old system forces: dict_keys(['HarmonicBondForce', 'HarmonicAngleForce', 'PeriodicTorsionForce', 'NonbondedForce', 'MonteCarloBarostat'])\n",
      "2021-07-12 16:23:21,384:(0.00s):relative:New system forces: dict_keys(['HarmonicBondForce', 'HarmonicAngleForce', 'PeriodicTorsionForce', 'NonbondedForce', 'MonteCarloBarostat'])\n",
      "2021-07-12 16:23:21,387:(0.00s):relative:No unknown forces.\n",
      "2021-07-12 16:23:21,389:(0.00s):relative:Nonbonded method to be used (i.e. from old system): 4\n",
      "2021-07-12 16:23:21,392:(0.00s):relative:Adding and mapping old atoms to hybrid system...\n",
      "2021-07-12 16:23:21,429:(0.04s):relative:Adding and mapping new atoms to hybrid system...\n",
      "2021-07-12 16:23:21,432:(0.00s):relative:Added MonteCarloBarostat.\n",
      "2021-07-12 16:23:21,435:(0.00s):relative:getDefaultPeriodicBoxVectors added to hybrid: [Quantity(value=Vec3(x=2.875229835510254, y=0.0, z=0.0), unit=nanometer), Quantity(value=Vec3(x=0.0, y=2.875229835510254, z=0.0), unit=nanometer), Quantity(value=Vec3(x=0.0, y=0.0, z=2.875229835510254), unit=nanometer)]\n",
      "2021-07-12 16:23:21,439:(0.00s):relative:Determined atom classes.\n",
      "2021-07-12 16:23:21,441:(0.00s):relative:Generating old system exceptions dict...\n",
      "2021-07-12 16:23:21,465:(0.02s):relative:Generating new system exceptions dict...\n",
      "2021-07-12 16:23:21,499:(0.03s):relative:Handling constraints...\n",
      "2021-07-12 16:23:21,582:(0.08s):relative:Handling virtual sites...\n",
      "2021-07-12 16:23:21,588:(0.01s):relative:\t_handle_virtual_sites: numVirtualSites: 0\n",
      "2021-07-12 16:23:21,591:(0.00s):relative:Adding bond force terms...\n",
      "2021-07-12 16:23:21,593:(0.00s):relative:Adding angle force terms...\n",
      "2021-07-12 16:23:21,596:(0.00s):relative:Adding torsion force terms...\n",
      "2021-07-12 16:23:21,598:(0.00s):relative:Adding nonbonded force terms...\n",
      "2021-07-12 16:23:21,601:(0.00s):relative:\t_add_nonbonded_force_terms: <simtk.openmm.openmm.NonbondedForce; proxy of <Swig Object of type 'OpenMM::NonbondedForce *' at 0x2b4689a13c00> > added to hybrid system\n",
      "2021-07-12 16:23:21,603:(0.00s):relative:\t_add_nonbonded_force_terms: nonbonded_method is PME or Ewald\n",
      "2021-07-12 16:23:21,606:(0.00s):relative:\t_add_nonbonded_force_terms: 4 added to standard nonbonded force\n",
      "2021-07-12 16:23:21,615:(0.01s):relative:\t_add_nonbonded_force_terms: 2 added to sterics_custom_nonbonded force\n",
      "2021-07-12 16:23:21,618:(0.00s):relative:\t_add_nonbonded_force_terms: <simtk.openmm.openmm.CustomNonbondedForce; proxy of <Swig Object of type 'OpenMM::CustomNonbondedForce *' at 0x2b4689a13cf0> > added to hybrid system\n",
      "2021-07-12 16:23:21,620:(0.00s):relative:Handling harmonic bonds...\n",
      "2021-07-12 16:23:21,623:(0.00s):relative:\thandle_harmonic_bonds: looping through old_system to add relevant terms...\n",
      "2021-07-12 16:23:21,638:(0.02s):relative:\thandle_harmonic_bonds: looping through new_system to add relevant terms...\n",
      "2021-07-12 16:23:21,642:(0.00s):relative:Handling harmonic angles...\n",
      "2021-07-12 16:23:21,644:(0.00s):relative:\thandle_harmonic_angles: looping through old_system to add relevant terms...\n",
      "2021-07-12 16:23:21,690:(0.05s):relative:\thandle_harmonic_angles: looping through new_system to add relevant terms...\n",
      "2021-07-12 16:23:21,699:(0.01s):relative:Handling torsion forces...\n",
      "2021-07-12 16:23:21,702:(0.00s):relative:\thandle_periodic_torsion_forces: looping through old_system to add relevant terms...\n",
      "2021-07-12 16:23:21,706:(0.00s):relative:\thandle_periodic_torsion_forces: looping through new_system to add relevant terms...\n",
      "2021-07-12 16:23:21,724:(0.02s):relative:Handling nonbonded forces...\n",
      "2021-07-12 16:23:21,727:(0.00s):relative:\thandle_nonbonded: looping through all particles in hybrid...\n",
      "2021-07-12 16:23:22,004:(0.28s):relative:\thandle_nonbonded: Handling Interaction Groups...\n",
      "2021-07-12 16:23:22,009:(0.01s):relative:\thandle_nonbonded: Handling Hybrid Exceptions...\n",
      "2021-07-12 16:23:22,012:(0.00s):relative:\thandle_nonbonded: Handling Original Exceptions...\n",
      "2021-07-12 16:23:26,362:(4.35s):relative:Handling unique_new/old interaction exceptions...\n",
      "2021-07-12 16:23:26,366:(0.00s):relative:There are old or new system exceptions...proceeding.\n"
     ]
    },
    {
     "name": "stdout",
     "output_type": "stream",
     "text": [
      "conducting subsequent work with the following platform: CUDA\n",
      "conducting subsequent work with the following platform: CUDA\n",
      "\t\t\tHarmonicBondForce: 4.577362424768389\n",
      "\t\t\tHarmonicAngleForce: 29.004860118481037\n",
      "\t\t\tPeriodicTorsionForce: 14.976236339333711\n",
      "\t\t\tNonbondedForce: 3261.4242025853764\n",
      "\t\t\tAndersenThermostat: 0.0\n",
      "\t\t\tMonteCarloBarostat: 0.0\n",
      "conducting subsequent work with the following platform: CUDA\n",
      "\t\t\tCustomBondForce: 4.4893781293403325\n",
      "\t\t\tHarmonicBondForce: 0.0879842954280575\n",
      "\t\t\tCustomAngleForce: 28.958806020988415\n",
      "\t\t\tHarmonicAngleForce: 0.40567625380640593\n",
      "\t\t\tCustomTorsionForce: 3.886001540593064\n",
      "\t\t\tPeriodicTorsionForce: 11.095725379240719\n",
      "\t\t\tNonbondedForce: 3304.0697050466397\n",
      "\t\t\tCustomNonbondedForce: -34.80014147733447\n",
      "\t\t\tCustomBondForce: 0.0\n",
      "\t\t\tAndersenThermostat: 0.0\n",
      "\t\t\tMonteCarloBarostat: 0.0\n",
      "conducting subsequent work with the following platform: CUDA\n",
      "\t\t\tCustomBondForce: 4.4893781293403325\n",
      "\t\t\tHarmonicBondForce: 0.0879842954280575\n",
      "\t\t\tCustomAngleForce: 28.958806020988415\n",
      "\t\t\tHarmonicAngleForce: 0.40567625380640593\n",
      "\t\t\tCustomTorsionForce: 3.8866776903055706\n",
      "\t\t\tPeriodicTorsionForce: 11.095725379240719\n",
      "\t\t\tNonbondedForce: 3302.6898667891246\n",
      "\t\t\tCustomNonbondedForce: -30.841397543813795\n",
      "\t\t\tCustomBondForce: 0.0\n",
      "\t\t\tAndersenThermostat: 0.0\n",
      "\t\t\tMonteCarloBarostat: 0.0\n",
      "conducting subsequent work with the following platform: CUDA\n"
     ]
    },
    {
     "name": "stderr",
     "output_type": "stream",
     "text": [
      "2021-07-12 16:23:46,819:(20.45s):root:\t\terror in zero state: 6.919019183726505e-05\n",
      "2021-07-12 16:23:46,823:(0.00s):root:\t\terror in one state: 8.937646429529877e-05\n",
      "2021-07-12 16:23:46,825:(0.00s):root:omitting sampler construction\n"
     ]
    },
    {
     "name": "stdout",
     "output_type": "stream",
     "text": [
      "\t\t\tHarmonicBondForce: 4.4893781293403325\n",
      "\t\t\tHarmonicAngleForce: 29.318428177302206\n",
      "\t\t\tPeriodicTorsionForce: 14.97697884933223\n",
      "\t\t\tNonbondedForce: 3277.044857196071\n",
      "\t\t\tAndersenThermostat: 0.0\n",
      "\t\t\tMonteCarloBarostat: 0.0\n"
     ]
    }
   ],
   "source": [
    "# Create a htf\n",
    "setup_directory = resource_filename(\"perses\", \"data/cdk2-example\")\n",
    "\n",
    "# Get options\n",
    "from perses.app.setup_relative_calculation import getSetupOptions\n",
    "yaml_filename = os.path.join(setup_directory, \"cdk2_setup_repex.yaml\")\n",
    "setup_options = getSetupOptions(yaml_filename)\n",
    "\n",
    "# Update options\n",
    "for parameter in ['protein_pdb', 'ligand_file']:\n",
    "    setup_options[parameter] = os.path.join(setup_directory, setup_options[parameter])\n",
    "    \n",
    "setup_options['phases'] = ['solvent']\n",
    "setup_options['validate_endstate_energies'] = False\n",
    "    \n",
    "setup_dict = setup_relative_calculation.run_setup(setup_options, serialize_systems=False, build_samplers=False)\n",
    "\n",
    "htf = setup_dict['hybrid_topology_factories']['solvent']\n"
   ]
  },
  {
   "cell_type": "code",
   "execution_count": 4,
   "id": "52617832",
   "metadata": {},
   "outputs": [],
   "source": [
    "# Save htf\n",
    "with open(\"cdk2_solvent.pickle\", \"wb\") as f:\n",
    "    pickle.dump(htf, f)"
   ]
  },
  {
   "cell_type": "code",
   "execution_count": null,
   "id": "fallen-intelligence",
   "metadata": {},
   "outputs": [],
   "source": [
    "# The code for running h-repex and resuming repex are scripts i pulled from elsewhere -- posted them here"
   ]
  }
 ],
 "metadata": {
  "kernelspec": {
   "display_name": "Python 3",
   "language": "python",
   "name": "python3"
  },
  "language_info": {
   "codemirror_mode": {
    "name": "ipython",
    "version": 3
   },
   "file_extension": ".py",
   "mimetype": "text/x-python",
   "name": "python",
   "nbconvert_exporter": "python",
   "pygments_lexer": "ipython3",
   "version": "3.8.6"
  }
 },
 "nbformat": 4,
 "nbformat_minor": 5
}
