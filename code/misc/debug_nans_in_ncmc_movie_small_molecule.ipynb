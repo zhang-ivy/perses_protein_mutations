{
 "cells": [
  {
   "cell_type": "code",
   "execution_count": 1,
   "id": "5929cafa",
   "metadata": {},
   "outputs": [],
   "source": [
    "from simtk.openmm import XmlSerializer\n"
   ]
  },
  {
   "cell_type": "code",
   "execution_count": 3,
   "id": "5381cdc9",
   "metadata": {},
   "outputs": [],
   "source": [
    "with open('/data/chodera/zhangi/ncmc_movie/1/integrator.xml', 'r') as f:\n",
    "    integrator_xml = f.read()\n",
    "integrator = XmlSerializer.deserialize(integrator_xml)"
   ]
  },
  {
   "cell_type": "code",
   "execution_count": 6,
   "id": "4e2ae292",
   "metadata": {},
   "outputs": [
    {
     "ename": "AttributeError",
     "evalue": "'CustomIntegrator' object has no attribute '_n_steps_eq'",
     "output_type": "error",
     "traceback": [
      "\u001b[0;31m---------------------------------------------------------------------------\u001b[0m",
      "\u001b[0;31mAttributeError\u001b[0m                            Traceback (most recent call last)",
      "\u001b[0;32m/scratch/lsftmp/2592645.tmpdir/ipykernel_322898/320779820.py\u001b[0m in \u001b[0;36m<module>\u001b[0;34m\u001b[0m\n\u001b[0;32m----> 1\u001b[0;31m \u001b[0mintegrator\u001b[0m\u001b[0;34m.\u001b[0m\u001b[0m_n_steps_eq\u001b[0m\u001b[0;34m\u001b[0m\u001b[0;34m\u001b[0m\u001b[0m\n\u001b[0m",
      "\u001b[0;31mAttributeError\u001b[0m: 'CustomIntegrator' object has no attribute '_n_steps_eq'"
     ]
    }
   ],
   "source": [
    "integrator._n_steps_eq"
   ]
  },
  {
   "cell_type": "code",
   "execution_count": 8,
   "id": "18d0f9b1",
   "metadata": {},
   "outputs": [
    {
     "ename": "AttributeError",
     "evalue": "type object 'CustomIntegrator' has no attribute 'name'",
     "output_type": "error",
     "traceback": [
      "\u001b[0;31m---------------------------------------------------------------------------\u001b[0m",
      "\u001b[0;31mAttributeError\u001b[0m                            Traceback (most recent call last)",
      "\u001b[0;32m/scratch/lsftmp/2592645.tmpdir/ipykernel_322898/3965516168.py\u001b[0m in \u001b[0;36m<module>\u001b[0;34m\u001b[0m\n\u001b[0;32m----> 1\u001b[0;31m \u001b[0mintegrator\u001b[0m\u001b[0;34m.\u001b[0m\u001b[0m__class__\u001b[0m\u001b[0;34m.\u001b[0m\u001b[0mname\u001b[0m\u001b[0;34m\u001b[0m\u001b[0;34m\u001b[0m\u001b[0m\n\u001b[0m",
      "\u001b[0;31mAttributeError\u001b[0m: type object 'CustomIntegrator' has no attribute 'name'"
     ]
    }
   ],
   "source": []
  },
  {
   "cell_type": "code",
   "execution_count": null,
   "id": "77b39131",
   "metadata": {},
   "outputs": [],
   "source": []
  }
 ],
 "metadata": {
  "kernelspec": {
   "display_name": "Python 3 (ipykernel)",
   "language": "python",
   "name": "python3"
  },
  "language_info": {
   "codemirror_mode": {
    "name": "ipython",
    "version": 3
   },
   "file_extension": ".py",
   "mimetype": "text/x-python",
   "name": "python",
   "nbconvert_exporter": "python",
   "pygments_lexer": "ipython3",
   "version": "3.9.6"
  }
 },
 "nbformat": 4,
 "nbformat_minor": 5
}
