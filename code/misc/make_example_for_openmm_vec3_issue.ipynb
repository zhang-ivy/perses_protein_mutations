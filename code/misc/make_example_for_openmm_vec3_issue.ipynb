{
 "cells": [
  {
   "cell_type": "code",
   "execution_count": 1,
   "id": "119f8e81",
   "metadata": {},
   "outputs": [],
   "source": [
    "from simtk.openmm import app, unit\n",
    "from simtk import openmm\n",
    "import numpy as np\n",
    "import mdtraj as md"
   ]
  },
  {
   "cell_type": "code",
   "execution_count": 2,
   "id": "d350e2cd",
   "metadata": {},
   "outputs": [],
   "source": [
    "protein_filename = \"../../input/1brs_barnase_renumbered.pdb\"\n",
    "ligand_input = \"../../input/1brs_barstar_renumbered.pdb\""
   ]
  },
  {
   "cell_type": "code",
   "execution_count": 3,
   "id": "a0c4c1be",
   "metadata": {},
   "outputs": [],
   "source": [
    "# First thing to do is load the apo protein\n",
    "protein_pdbfile = open(protein_filename, 'r')\n",
    "protein_pdb = app.PDBFile(protein_pdbfile)\n",
    "protein_pdbfile.close()\n",
    "protein_positions, protein_topology, protein_md_topology = protein_pdb.positions, protein_pdb.topology, md.Topology.from_openmm(protein_pdb.topology)\n",
    "protein_topology = protein_md_topology.to_openmm()\n",
    "protein_n_atoms = protein_md_topology.n_atoms\n",
    "\n",
    "# Load the ligand\n",
    "ligand_pdbfile = open(ligand_input, 'r')\n",
    "ligand_pdb = app.PDBFile(ligand_pdbfile)\n",
    "ligand_pdbfile.close()\n",
    "ligand_positions, ligand_topology, ligand_md_topology = ligand_pdb.positions, ligand_pdb.topology, md.Topology.from_openmm(\n",
    "    ligand_pdb.topology)\n",
    "ligand_n_atoms = ligand_md_topology.n_atoms\n",
    "\n",
    "# Now create a complex\n",
    "complex_md_topology = protein_md_topology.join(ligand_md_topology)\n",
    "complex_topology = complex_md_topology.to_openmm()\n",
    "complex_positions = unit.Quantity(np.zeros([protein_n_atoms + ligand_n_atoms, 3]), unit=unit.nanometers)\n",
    "complex_positions[:protein_n_atoms, :] = protein_positions\n",
    "complex_positions[protein_n_atoms:, :] = ligand_positions\n",
    "\n",
    "# Convert positions back to openmm vec3 objects\n",
    "complex_positions_vec3 = []\n",
    "for position in complex_positions:\n",
    "    complex_positions_vec3.append(openmm.Vec3(*position.value_in_unit_system(unit.md_unit_system)))\n",
    "complex_positions_vec3 = unit.Quantity(value=complex_positions_vec3, unit=unit.nanometer)"
   ]
  },
  {
   "cell_type": "code",
   "execution_count": 4,
   "id": "f52fca8c",
   "metadata": {},
   "outputs": [],
   "source": [
    "# Load the ffxmls\n",
    "ffxml = ['amber14/protein.ff14SB.xml', \"amber14/tip3p.xml\"]\n",
    "ff = app.ForceField(*ffxml)"
   ]
  },
  {
   "cell_type": "code",
   "execution_count": 5,
   "id": "98cd1305",
   "metadata": {},
   "outputs": [],
   "source": [
    "modeller = app.Modeller(complex_topology, complex_positions)\n",
    "modeller.addSolvent(ff, padding=0.9 * unit.nanometers, ionicStrength=0.15 * unit.molar)\n",
    "app.PDBFile.writeFile(modeller.topology, modeller.positions, open(\"complex_np.pdb\", \"w\"), keepIds=True)"
   ]
  },
  {
   "cell_type": "code",
   "execution_count": 6,
   "id": "7203a73f",
   "metadata": {},
   "outputs": [],
   "source": [
    "modeller = app.Modeller(complex_topology, complex_positions_vec3)\n",
    "modeller.addSolvent(ff, padding=0.9 * unit.nanometers, ionicStrength=0.15 * unit.molar)\n",
    "app.PDBFile.writeFile(modeller.topology, modeller.positions, open(\"complex_vec3.pdb\", \"w\"), keepIds=True)"
   ]
  },
  {
   "cell_type": "code",
   "execution_count": 12,
   "id": "ba11b085",
   "metadata": {},
   "outputs": [
    {
     "data": {
      "text/plain": [
       "array([[ 1.4878,  5.0324,  2.7118],\n",
       "       [ 1.5711,  4.9593,  2.6066],\n",
       "       [ 1.5422,  4.9701,  2.4876],\n",
       "       ...,\n",
       "       [ 4.5191,  3.48  , -1.0616],\n",
       "       [ 4.582 ,  3.4472, -0.9905],\n",
       "       [ 4.4247,  3.4796, -1.0278]])"
      ]
     },
     "execution_count": 12,
     "metadata": {},
     "output_type": "execute_result"
    }
   ],
   "source": []
  },
  {
   "cell_type": "code",
   "execution_count": 13,
   "id": "9252eea3",
   "metadata": {},
   "outputs": [],
   "source": [
    "modeller = app.Modeller(complex_topology, np.array(complex_positions_vec3.value_in_unit_system(unit.md_unit_system)))\n",
    "modeller.addSolvent(ff, padding=0.9 * unit.nanometers, ionicStrength=0.15 * unit.molar)\n",
    "app.PDBFile.writeFile(modeller.topology, modeller.positions, open(\"complex_vec3_np.pdb\", \"w\"), keepIds=True)"
   ]
  },
  {
   "cell_type": "code",
   "execution_count": null,
   "id": "84df6478",
   "metadata": {},
   "outputs": [],
   "source": []
  }
 ],
 "metadata": {
  "kernelspec": {
   "display_name": "Python 3 (ipykernel)",
   "language": "python",
   "name": "python3"
  },
  "language_info": {
   "codemirror_mode": {
    "name": "ipython",
    "version": 3
   },
   "file_extension": ".py",
   "mimetype": "text/x-python",
   "name": "python",
   "nbconvert_exporter": "python",
   "pygments_lexer": "ipython3",
   "version": "3.9.6"
  }
 },
 "nbformat": 4,
 "nbformat_minor": 5
}
