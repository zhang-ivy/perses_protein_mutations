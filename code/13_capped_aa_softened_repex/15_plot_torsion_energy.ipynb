{
 "cells": [
  {
   "cell_type": "code",
   "execution_count": 1,
   "metadata": {},
   "outputs": [
    {
     "name": "stderr",
     "output_type": "stream",
     "text": [
      "RDKit WARNING: [10:08:59] Enabling RDKit 2019.09.3 jupyter extensions\n"
     ]
    }
   ],
   "source": [
    "import math\n",
    "from simtk import unit\n",
    "import os\n",
    "import pickle\n",
    "import mdtraj as md\n",
    "import numpy as np\n",
    "from simtk.unit.quantity import Quantity\n",
    "from simtk.openmm import app\n",
    "from openmmforcefields.generators import SystemGenerator\n",
    "from perses.tests.test_topology_proposal import generate_atp, generate_dipeptide_top_pos_sys\n",
    "import logging \n",
    "\n",
    "# Set up logger\n",
    "_logger = logging.getLogger()\n",
    "_logger.setLevel(logging.INFO)\n",
    "\n",
    "from matplotlib import pyplot as plt\n"
   ]
  },
  {
   "cell_type": "code",
   "execution_count": 2,
   "metadata": {
    "scrolled": true
   },
   "outputs": [
    {
     "name": "stderr",
     "output_type": "stream",
     "text": [
      "INFO:proposal_generator:\tConducting polymer point mutation proposal...\n",
      "INFO:proposal_generator:Using matching_criterion to chose best atom map\n",
      "INFO:proposal_generator:Scaffold has symmetry of 0\n",
      "WARNING:proposal_generator:Two molecules are not similar to have a common scaffold\n",
      "WARNING:proposal_generator:Proceeding with direct mapping of molecules, but please check atom mapping and the geometry of the ligands.\n",
      "INFO:proposal_generator:len [{4: 4, 7: 9}, {4: 4, 8: 9}, {4: 4, 9: 9}]\n",
      "INFO:proposal_generator:{4: 4, 7: 9}\n",
      "INFO:proposal_generator:{4: 4, 8: 9}\n",
      "INFO:proposal_generator:{4: 4, 9: 9}\n",
      "INFO:proposal_generator:Returning map that best satisfies matching_criterion\n",
      "INFO:proposal_generator:Finding best map using matching_criterion name\n",
      "INFO:proposal_generator:{4: 4, 7: 9}\n",
      "INFO:geometry:propose: performing forward proposal\n",
      "INFO:geometry:propose: unique new atoms detected; proceeding to _logp_propose...\n",
      "INFO:geometry:Conducting forward proposal...\n",
      "INFO:geometry:Computing proposal order with NetworkX...\n",
      "INFO:geometry:number of atoms to be placed: 2\n",
      "INFO:geometry:Atom index proposal order is [15, 14]\n",
      "INFO:geometry:omitted_bonds: []\n",
      "INFO:geometry:direction of proposal is forward; creating atoms_with_positions and new positions from old system/topology...\n",
      "INFO:geometry:creating growth system...\n",
      "INFO:geometry:\tcreating bond force...\n",
      "INFO:geometry:\tthere are 9 bonds in reference force.\n",
      "INFO:geometry:\tcreating angle force...\n",
      "INFO:geometry:\tthere are 36 angles in reference force.\n",
      "INFO:geometry:\tcreating torsion force...\n",
      "INFO:geometry:\tcreating extra torsions force...\n",
      "INFO:geometry:\tthere are 42 torsions in reference force.\n",
      "INFO:geometry:\tcreating nonbonded force...\n",
      "INFO:geometry:\t\tgrabbing reference nonbonded method, cutoff, switching function, switching distance...\n",
      "INFO:geometry:\t\tcreating nonbonded exception force (i.e. custom bond for 1,4s)...\n"
     ]
    },
    {
     "name": "stdout",
     "output_type": "stream",
     "text": [
      "making topology proposal\n",
      "generating geometry engine\n",
      "making geometry proposal from THR to ALA\n"
     ]
    },
    {
     "name": "stderr",
     "output_type": "stream",
     "text": [
      "INFO:geometry:\t\tlooping through exceptions calculating growth indices, and adding appropriate interactions to custom bond force.\n",
      "INFO:geometry:\t\tthere are 98 in the reference Nonbonded force\n",
      "INFO:geometry:Neglected angle terms : []\n",
      "INFO:geometry:omitted_growth_terms: {'bonds': [], 'angles': [], 'torsions': [], '1,4s': []}\n",
      "INFO:geometry:extra torsions: {}\n",
      "INFO:geometry:neglected angle terms include []\n",
      "INFO:geometry:log probability choice of torsions and atom order: -2.8903717578961645\n",
      "INFO:geometry:creating platform, integrators, and contexts; setting growth parameter\n"
     ]
    },
    {
     "name": "stdout",
     "output_type": "stream",
     "text": [
      "conducting subsequent work with the following platform: CUDA\n",
      "conducting subsequent work with the following platform: CUDA\n"
     ]
    },
    {
     "name": "stderr",
     "output_type": "stream",
     "text": [
      "INFO:geometry:setting atoms_with_positions context new positions\n"
     ]
    },
    {
     "name": "stdout",
     "output_type": "stream",
     "text": [
      "conducting subsequent work with the following platform: CUDA\n"
     ]
    },
    {
     "name": "stderr",
     "output_type": "stream",
     "text": [
      "INFO:geometry:There are 2 new atoms\n",
      "INFO:geometry:\treduced angle potential = 0.4393582538895373.\n",
      "INFO:geometry:\treduced angle potential = 1.3544740777570032.\n",
      "INFO:geometry:\tbeginning construction of no_nonbonded final system...\n",
      "INFO:geometry:\tinitial no-nonbonded final system forces ['HarmonicBondForce', 'HarmonicAngleForce', 'PeriodicTorsionForce', 'NonbondedForce']\n",
      "INFO:geometry:\tfinal no-nonbonded final system forces dict_keys(['HarmonicBondForce', 'HarmonicAngleForce', 'PeriodicTorsionForce', 'NonbondedForce'])\n",
      "INFO:geometry:\tthere are 9 bond forces in the no-nonbonded final system\n",
      "INFO:geometry:\tthere are 36 angle forces in the no-nonbonded final system\n",
      "INFO:geometry:\tthere are 42 torsion forces in the no-nonbonded final system\n",
      "INFO:geometry:forward final system defined with 0 neglected angles.\n"
     ]
    },
    {
     "name": "stdout",
     "output_type": "stream",
     "text": [
      "conducting subsequent work with the following platform: CUDA\n",
      "conducting subsequent work with the following platform: CUDA\n"
     ]
    },
    {
     "name": "stderr",
     "output_type": "stream",
     "text": [
      "INFO:geometry:total reduced potential before atom placement: 32.60026351468746\n"
     ]
    },
    {
     "name": "stdout",
     "output_type": "stream",
     "text": [
      "conducting subsequent work with the following platform: CUDA\n",
      "conducting subsequent work with the following platform: CUDA\n",
      "conducting subsequent work with the following platform: CUDA\n"
     ]
    },
    {
     "name": "stderr",
     "output_type": "stream",
     "text": [
      "INFO:geometry:total reduced energy added from growth system: 18.8477483298321\n",
      "INFO:geometry:final reduced energy 51.44801202515673\n",
      "INFO:geometry:sum of energies: 51.44801184451956\n",
      "INFO:geometry:magnitude of difference in the energies: 1.8063716566985022e-07\n",
      "INFO:geometry:Final logp_proposal: 9.200687374778553\n"
     ]
    },
    {
     "name": "stdout",
     "output_type": "stream",
     "text": [
      "added energy components: [('CustomBondForce', 0.0), ('CustomAngleForce', 12.85533866180478), ('CustomTorsionForce', 0.2812726676361725), ('CustomBondForce', 5.711137000391147)]\n"
     ]
    },
    {
     "name": "stderr",
     "output_type": "stream",
     "text": [
      "INFO:geometry:logp_reverse: performing reverse proposal\n",
      "INFO:geometry:logp_reverse: unique new atoms detected; proceeding to _logp_propose...\n",
      "INFO:geometry:Conducting forward proposal...\n",
      "INFO:geometry:Computing proposal order with NetworkX...\n",
      "INFO:geometry:number of atoms to be placed: 6\n",
      "INFO:geometry:Atom index proposal order is [18, 14, 16, 19, 17, 15]\n",
      "INFO:geometry:omitted_bonds: []\n",
      "INFO:geometry:direction of proposal is reverse; creating atoms_with_positions from old system/topology\n",
      "INFO:geometry:creating growth system...\n",
      "INFO:geometry:\tcreating bond force...\n",
      "INFO:geometry:\tthere are 11 bonds in reference force.\n",
      "INFO:geometry:\tcreating angle force...\n",
      "INFO:geometry:\tthere are 43 angles in reference force.\n",
      "INFO:geometry:\tcreating torsion force...\n",
      "INFO:geometry:\tcreating extra torsions force...\n",
      "INFO:geometry:\tthere are 72 torsions in reference force.\n",
      "INFO:geometry:\tcreating nonbonded force...\n",
      "INFO:geometry:\t\tgrabbing reference nonbonded method, cutoff, switching function, switching distance...\n",
      "INFO:geometry:\t\tcreating nonbonded exception force (i.e. custom bond for 1,4s)...\n",
      "INFO:geometry:\t\tlooping through exceptions calculating growth indices, and adding appropriate interactions to custom bond force.\n",
      "INFO:geometry:\t\tthere are 121 in the reference Nonbonded force\n",
      "INFO:geometry:Neglected angle terms : []\n",
      "INFO:geometry:omitted_growth_terms: {'bonds': [], 'angles': [], 'torsions': [], '1,4s': []}\n",
      "INFO:geometry:extra torsions: {0: (18, 10, 8, 14, [1, Quantity(value=-1.0655064807976995, unit=radian), Quantity(value=120.0, unit=kilocalorie/mole), 2])}\n",
      "INFO:geometry:neglected angle terms include []\n",
      "INFO:geometry:log probability choice of torsions and atom order: -10.462874742916549\n",
      "INFO:geometry:creating platform, integrators, and contexts; setting growth parameter\n"
     ]
    },
    {
     "name": "stdout",
     "output_type": "stream",
     "text": [
      "conducting subsequent work with the following platform: CUDA\n"
     ]
    },
    {
     "name": "stderr",
     "output_type": "stream",
     "text": [
      "INFO:geometry:setting atoms_with_positions context old positions\n"
     ]
    },
    {
     "name": "stdout",
     "output_type": "stream",
     "text": [
      "conducting subsequent work with the following platform: CUDA\n"
     ]
    },
    {
     "name": "stderr",
     "output_type": "stream",
     "text": [
      "INFO:geometry:There are 6 new atoms\n",
      "INFO:geometry:\treduced angle potential = 0.9937847427445646.\n",
      "INFO:geometry:\treduced angle potential = 0.0014854685245420216.\n",
      "INFO:geometry:\treduced angle potential = 1.4721875889480596.\n",
      "INFO:geometry:\treduced angle potential = 0.06574611719589983.\n",
      "INFO:geometry:\treduced angle potential = 0.1309305042075324.\n",
      "INFO:geometry:\treduced angle potential = 0.4119874609634221.\n",
      "INFO:geometry:\tbeginning construction of no_nonbonded final system...\n",
      "INFO:geometry:\tinitial no-nonbonded final system forces ['HarmonicBondForce', 'HarmonicAngleForce', 'PeriodicTorsionForce', 'NonbondedForce']\n",
      "INFO:geometry:\tfinal no-nonbonded final system forces dict_keys(['HarmonicBondForce', 'HarmonicAngleForce', 'PeriodicTorsionForce', 'NonbondedForce'])\n",
      "INFO:geometry:\tthere are 11 bond forces in the no-nonbonded final system\n",
      "INFO:geometry:\tthere are 43 angle forces in the no-nonbonded final system\n",
      "INFO:geometry:\tthere are 72 torsion forces in the no-nonbonded final system\n",
      "INFO:geometry:reverse final system defined with 0 neglected angles.\n"
     ]
    },
    {
     "name": "stdout",
     "output_type": "stream",
     "text": [
      "conducting subsequent work with the following platform: CUDA\n"
     ]
    },
    {
     "name": "stderr",
     "output_type": "stream",
     "text": [
      "INFO:geometry:total reduced potential before atom placement: 32.60026351468747\n"
     ]
    },
    {
     "name": "stdout",
     "output_type": "stream",
     "text": [
      "conducting subsequent work with the following platform: CUDA\n",
      "conducting subsequent work with the following platform: CUDA\n",
      "conducting subsequent work with the following platform: CUDA\n",
      "conducting subsequent work with the following platform: CUDA\n"
     ]
    },
    {
     "name": "stderr",
     "output_type": "stream",
     "text": [
      "INFO:geometry:total reduced energy added from growth system: 39.581556232340176\n",
      "INFO:geometry:final reduced energy 72.18181819915482\n",
      "INFO:geometry:sum of energies: 72.18181974702765\n",
      "INFO:geometry:magnitude of difference in the energies: 1.5478728272455555e-06\n",
      "INFO:geometry:Final logp_proposal: -359.2028893022663\n"
     ]
    },
    {
     "name": "stdout",
     "output_type": "stream",
     "text": [
      "added energy components: [('CustomBondForce', 1.183228307230623), ('CustomAngleForce', 110.48068313226224), ('CustomTorsionForce', 10.601103430928823), ('CustomBondForce', -82.68345863808149)]\n"
     ]
    },
    {
     "name": "stderr",
     "output_type": "stream",
     "text": [
      "INFO:relative:Old system forces: dict_keys(['HarmonicBondForce', 'HarmonicAngleForce', 'PeriodicTorsionForce', 'NonbondedForce'])\n",
      "INFO:relative:New system forces: dict_keys(['HarmonicBondForce', 'HarmonicAngleForce', 'PeriodicTorsionForce', 'NonbondedForce'])\n",
      "INFO:relative:No unknown forces.\n",
      "INFO:relative:Nonbonded method to be used (i.e. from old system): 0\n",
      "INFO:relative:Adding and mapping old atoms to hybrid system...\n",
      "INFO:relative:Adding and mapping new atoms to hybrid system...\n",
      "INFO:relative:No MonteCarloBarostat added.\n",
      "INFO:relative:getDefaultPeriodicBoxVectors added to hybrid: [Quantity(value=Vec3(x=2.0, y=0.0, z=0.0), unit=nanometer), Quantity(value=Vec3(x=0.0, y=2.0, z=0.0), unit=nanometer), Quantity(value=Vec3(x=0.0, y=0.0, z=2.0), unit=nanometer)]\n",
      "INFO:relative:Determined atom classes.\n",
      "INFO:relative:Generating old system exceptions dict...\n",
      "INFO:relative:Generating new system exceptions dict...\n",
      "INFO:relative:Handling constraints...\n",
      "INFO:relative:Handling virtual sites...\n",
      "INFO:relative:\t_handle_virtual_sites: numVirtualSites: 0\n",
      "INFO:relative:\t_add_nonbonded_force_terms: <simtk.openmm.openmm.NonbondedForce; proxy of <Swig Object of type 'OpenMM::NonbondedForce *' at 0x2ae19f30d0c0> > added to hybrid system\n",
      "INFO:relative:\t_add_nonbonded_force_terms: nonbonded_method is NoCutoff\n",
      "INFO:relative:\t_add_nonbonded_force_terms: 0 added to standard nonbonded force\n",
      "INFO:relative:\t_add_nonbonded_force_terms: 0 added to sterics_custom_nonbonded force\n"
     ]
    }
   ],
   "source": [
    "# Generate htf for capped THR->ALA in vacuum\n",
    "pdb = app.PDBFile(\"../input/thr_vacuum.pdb\")\n",
    "\n",
    "forcefield_files = ['amber14/protein.ff14SB.xml', 'amber14/tip3p.xml']\n",
    "barostat = None\n",
    "system_generator = SystemGenerator(forcefields=forcefield_files,\n",
    "                               barostat=barostat,\n",
    "                               forcefield_kwargs={'removeCMMotion': False,\n",
    "                                                    'ewaldErrorTolerance': 1e-4,\n",
    "                                                    'constraints' : app.HBonds,\n",
    "                                                    'hydrogenMass' : 4 * unit.amus},\n",
    "                                periodic_forcefield_kwargs=None,\n",
    "                                small_molecule_forcefield='gaff-2.11',\n",
    "                                nonperiodic_forcefield_kwargs = {'nonbondedMethod': app.NoCutoff}, \n",
    "                                   molecules=None, \n",
    "                                   cache=None)\n",
    "system = system_generator.create_system(pdb.topology) \n",
    "positions = unit.quantity.Quantity(value = np.array([list(atom_pos) for atom_pos in pdb.positions.value_in_unit_system(unit.md_unit_system)]), unit = unit.nanometers)\n",
    "\n",
    "htf_0 = generate_dipeptide_top_pos_sys(pdb.topology, \n",
    "                                         new_res = 'ALA', \n",
    "                                         system = system, \n",
    "                                         positions = positions,\n",
    "                                         system_generator = system_generator, \n",
    "                                         conduct_htf_prop=True,\n",
    "                                         repartitioned=True, endstate=0, validate_endstate_energy=False)\n"
   ]
  },
  {
   "cell_type": "code",
   "execution_count": 3,
   "metadata": {},
   "outputs": [
    {
     "name": "stderr",
     "output_type": "stream",
     "text": [
      "INFO:proposal_generator:\tConducting polymer point mutation proposal...\n",
      "INFO:proposal_generator:Using matching_criterion to chose best atom map\n",
      "INFO:proposal_generator:Scaffold has symmetry of 0\n",
      "WARNING:proposal_generator:Two molecules are not similar to have a common scaffold\n",
      "WARNING:proposal_generator:Proceeding with direct mapping of molecules, but please check atom mapping and the geometry of the ligands.\n",
      "INFO:proposal_generator:len [{4: 4, 7: 9}, {4: 4, 8: 9}, {4: 4, 9: 9}]\n",
      "INFO:proposal_generator:{4: 4, 7: 9}\n",
      "INFO:proposal_generator:{4: 4, 8: 9}\n",
      "INFO:proposal_generator:{4: 4, 9: 9}\n",
      "INFO:proposal_generator:Returning map that best satisfies matching_criterion\n",
      "INFO:proposal_generator:Finding best map using matching_criterion name\n",
      "INFO:proposal_generator:{4: 4, 7: 9}\n",
      "INFO:geometry:propose: performing forward proposal\n",
      "INFO:geometry:propose: unique new atoms detected; proceeding to _logp_propose...\n",
      "INFO:geometry:Conducting forward proposal...\n",
      "INFO:geometry:Computing proposal order with NetworkX...\n",
      "INFO:geometry:number of atoms to be placed: 2\n",
      "INFO:geometry:Atom index proposal order is [15, 14]\n",
      "INFO:geometry:omitted_bonds: []\n",
      "INFO:geometry:direction of proposal is forward; creating atoms_with_positions and new positions from old system/topology...\n",
      "INFO:geometry:creating growth system...\n",
      "INFO:geometry:\tcreating bond force...\n",
      "INFO:geometry:\tthere are 9 bonds in reference force.\n",
      "INFO:geometry:\tcreating angle force...\n",
      "INFO:geometry:\tthere are 36 angles in reference force.\n",
      "INFO:geometry:\tcreating torsion force...\n",
      "INFO:geometry:\tcreating extra torsions force...\n",
      "INFO:geometry:\tthere are 42 torsions in reference force.\n",
      "INFO:geometry:\tcreating nonbonded force...\n",
      "INFO:geometry:\t\tgrabbing reference nonbonded method, cutoff, switching function, switching distance...\n",
      "INFO:geometry:\t\tcreating nonbonded exception force (i.e. custom bond for 1,4s)...\n"
     ]
    },
    {
     "name": "stdout",
     "output_type": "stream",
     "text": [
      "making topology proposal\n",
      "generating geometry engine\n",
      "making geometry proposal from THR to ALA\n"
     ]
    },
    {
     "name": "stderr",
     "output_type": "stream",
     "text": [
      "INFO:geometry:\t\tlooping through exceptions calculating growth indices, and adding appropriate interactions to custom bond force.\n",
      "INFO:geometry:\t\tthere are 98 in the reference Nonbonded force\n",
      "INFO:geometry:Neglected angle terms : []\n",
      "INFO:geometry:omitted_growth_terms: {'bonds': [], 'angles': [], 'torsions': [], '1,4s': []}\n",
      "INFO:geometry:extra torsions: {}\n",
      "INFO:geometry:neglected angle terms include []\n",
      "INFO:geometry:log probability choice of torsions and atom order: -2.8903717578961645\n",
      "INFO:geometry:creating platform, integrators, and contexts; setting growth parameter\n"
     ]
    },
    {
     "name": "stdout",
     "output_type": "stream",
     "text": [
      "conducting subsequent work with the following platform: CUDA\n"
     ]
    },
    {
     "name": "stderr",
     "output_type": "stream",
     "text": [
      "INFO:geometry:setting atoms_with_positions context new positions\n"
     ]
    },
    {
     "name": "stdout",
     "output_type": "stream",
     "text": [
      "conducting subsequent work with the following platform: CUDA\n"
     ]
    },
    {
     "name": "stderr",
     "output_type": "stream",
     "text": [
      "INFO:geometry:There are 2 new atoms\n",
      "INFO:geometry:\treduced angle potential = 0.002830995799624884.\n",
      "INFO:geometry:\treduced angle potential = 0.00030557280376312896.\n",
      "INFO:geometry:\tbeginning construction of no_nonbonded final system...\n",
      "INFO:geometry:\tinitial no-nonbonded final system forces ['HarmonicBondForce', 'HarmonicAngleForce', 'PeriodicTorsionForce', 'NonbondedForce']\n",
      "INFO:geometry:\tfinal no-nonbonded final system forces dict_keys(['HarmonicBondForce', 'HarmonicAngleForce', 'PeriodicTorsionForce', 'NonbondedForce'])\n",
      "INFO:geometry:\tthere are 9 bond forces in the no-nonbonded final system\n",
      "INFO:geometry:\tthere are 36 angle forces in the no-nonbonded final system\n",
      "INFO:geometry:\tthere are 42 torsion forces in the no-nonbonded final system\n",
      "INFO:geometry:forward final system defined with 0 neglected angles.\n"
     ]
    },
    {
     "name": "stdout",
     "output_type": "stream",
     "text": [
      "conducting subsequent work with the following platform: CUDA\n",
      "conducting subsequent work with the following platform: CUDA\n"
     ]
    },
    {
     "name": "stderr",
     "output_type": "stream",
     "text": [
      "INFO:geometry:total reduced potential before atom placement: 32.60026351468746\n"
     ]
    },
    {
     "name": "stdout",
     "output_type": "stream",
     "text": [
      "conducting subsequent work with the following platform: CUDA\n",
      "conducting subsequent work with the following platform: CUDA\n",
      "conducting subsequent work with the following platform: CUDA\n"
     ]
    },
    {
     "name": "stderr",
     "output_type": "stream",
     "text": [
      "INFO:geometry:total reduced energy added from growth system: 23.924916561434394\n",
      "INFO:geometry:final reduced energy 56.52518019402572\n",
      "INFO:geometry:sum of energies: 56.525180076121856\n",
      "INFO:geometry:magnitude of difference in the energies: 1.1790386622578808e-07\n",
      "INFO:geometry:Final logp_proposal: 10.635636134058482\n"
     ]
    },
    {
     "name": "stdout",
     "output_type": "stream",
     "text": [
      "added energy components: [('CustomBondForce', 0.0), ('CustomAngleForce', 18.014179302065138), ('CustomTorsionForce', 0.2501790164895362), ('CustomBondForce', 5.660558242879723)]\n"
     ]
    },
    {
     "name": "stderr",
     "output_type": "stream",
     "text": [
      "INFO:geometry:logp_reverse: performing reverse proposal\n",
      "INFO:geometry:logp_reverse: unique new atoms detected; proceeding to _logp_propose...\n",
      "INFO:geometry:Conducting forward proposal...\n",
      "INFO:geometry:Computing proposal order with NetworkX...\n",
      "INFO:geometry:number of atoms to be placed: 6\n",
      "INFO:geometry:Atom index proposal order is [18, 14, 19, 15, 16, 17]\n",
      "INFO:geometry:omitted_bonds: []\n",
      "INFO:geometry:direction of proposal is reverse; creating atoms_with_positions from old system/topology\n",
      "INFO:geometry:creating growth system...\n",
      "INFO:geometry:\tcreating bond force...\n",
      "INFO:geometry:\tthere are 11 bonds in reference force.\n",
      "INFO:geometry:\tcreating angle force...\n",
      "INFO:geometry:\tthere are 43 angles in reference force.\n",
      "INFO:geometry:\tcreating torsion force...\n",
      "INFO:geometry:\tcreating extra torsions force...\n",
      "INFO:geometry:\tthere are 72 torsions in reference force.\n",
      "INFO:geometry:\tcreating nonbonded force...\n",
      "INFO:geometry:\t\tgrabbing reference nonbonded method, cutoff, switching function, switching distance...\n",
      "INFO:geometry:\t\tcreating nonbonded exception force (i.e. custom bond for 1,4s)...\n",
      "INFO:geometry:\t\tlooping through exceptions calculating growth indices, and adding appropriate interactions to custom bond force.\n",
      "INFO:geometry:\t\tthere are 121 in the reference Nonbonded force\n",
      "INFO:geometry:Neglected angle terms : []\n",
      "INFO:geometry:omitted_growth_terms: {'bonds': [], 'angles': [], 'torsions': [], '1,4s': []}\n",
      "INFO:geometry:extra torsions: {0: (18, 10, 8, 14, [1, Quantity(value=-1.0655064807976995, unit=radian), Quantity(value=120.0, unit=kilocalorie/mole), 2])}\n",
      "INFO:geometry:neglected angle terms include []\n",
      "INFO:geometry:log probability choice of torsions and atom order: -10.462874742916549\n",
      "INFO:geometry:creating platform, integrators, and contexts; setting growth parameter\n"
     ]
    },
    {
     "name": "stdout",
     "output_type": "stream",
     "text": [
      "conducting subsequent work with the following platform: CUDA\n"
     ]
    },
    {
     "name": "stderr",
     "output_type": "stream",
     "text": [
      "INFO:geometry:setting atoms_with_positions context old positions\n",
      "INFO:geometry:There are 6 new atoms\n",
      "INFO:geometry:\treduced angle potential = 0.9937847427445646.\n"
     ]
    },
    {
     "name": "stdout",
     "output_type": "stream",
     "text": [
      "conducting subsequent work with the following platform: CUDA\n"
     ]
    },
    {
     "name": "stderr",
     "output_type": "stream",
     "text": [
      "INFO:geometry:\treduced angle potential = 0.0014854685245420216.\n",
      "INFO:geometry:\treduced angle potential = 0.06574611719589983.\n",
      "INFO:geometry:\treduced angle potential = 0.4119874609634221.\n",
      "INFO:geometry:\treduced angle potential = 1.4721875889480596.\n",
      "INFO:geometry:\treduced angle potential = 0.1309305042075324.\n",
      "INFO:geometry:\tbeginning construction of no_nonbonded final system...\n",
      "INFO:geometry:\tinitial no-nonbonded final system forces ['HarmonicBondForce', 'HarmonicAngleForce', 'PeriodicTorsionForce', 'NonbondedForce']\n",
      "INFO:geometry:\tfinal no-nonbonded final system forces dict_keys(['HarmonicBondForce', 'HarmonicAngleForce', 'PeriodicTorsionForce', 'NonbondedForce'])\n",
      "INFO:geometry:\tthere are 11 bond forces in the no-nonbonded final system\n",
      "INFO:geometry:\tthere are 43 angle forces in the no-nonbonded final system\n",
      "INFO:geometry:\tthere are 72 torsion forces in the no-nonbonded final system\n",
      "INFO:geometry:reverse final system defined with 0 neglected angles.\n"
     ]
    },
    {
     "name": "stdout",
     "output_type": "stream",
     "text": [
      "conducting subsequent work with the following platform: CUDA\n",
      "conducting subsequent work with the following platform: CUDA\n"
     ]
    },
    {
     "name": "stderr",
     "output_type": "stream",
     "text": [
      "INFO:geometry:total reduced potential before atom placement: 32.60026351468747\n"
     ]
    },
    {
     "name": "stdout",
     "output_type": "stream",
     "text": [
      "conducting subsequent work with the following platform: CUDA\n",
      "conducting subsequent work with the following platform: CUDA\n",
      "conducting subsequent work with the following platform: CUDA\n"
     ]
    },
    {
     "name": "stderr",
     "output_type": "stream",
     "text": [
      "INFO:geometry:total reduced energy added from growth system: 39.581556232340176\n",
      "INFO:geometry:final reduced energy 72.18181819915482\n",
      "INFO:geometry:sum of energies: 72.18181974702765\n",
      "INFO:geometry:magnitude of difference in the energies: 1.5478728272455555e-06\n",
      "INFO:geometry:Final logp_proposal: -359.48838570342883\n"
     ]
    },
    {
     "name": "stdout",
     "output_type": "stream",
     "text": [
      "added energy components: [('CustomBondForce', 1.183228307230623), ('CustomAngleForce', 110.48068313226224), ('CustomTorsionForce', 10.601103430928823), ('CustomBondForce', -82.68345863808149)]\n"
     ]
    },
    {
     "name": "stderr",
     "output_type": "stream",
     "text": [
      "INFO:relative:Old system forces: dict_keys(['HarmonicBondForce', 'HarmonicAngleForce', 'PeriodicTorsionForce', 'NonbondedForce'])\n",
      "INFO:relative:New system forces: dict_keys(['HarmonicBondForce', 'HarmonicAngleForce', 'PeriodicTorsionForce', 'NonbondedForce'])\n",
      "INFO:relative:No unknown forces.\n",
      "INFO:relative:Nonbonded method to be used (i.e. from old system): 0\n",
      "INFO:relative:Adding and mapping old atoms to hybrid system...\n",
      "INFO:relative:Adding and mapping new atoms to hybrid system...\n",
      "INFO:relative:No MonteCarloBarostat added.\n",
      "INFO:relative:getDefaultPeriodicBoxVectors added to hybrid: [Quantity(value=Vec3(x=2.0, y=0.0, z=0.0), unit=nanometer), Quantity(value=Vec3(x=0.0, y=2.0, z=0.0), unit=nanometer), Quantity(value=Vec3(x=0.0, y=0.0, z=2.0), unit=nanometer)]\n",
      "INFO:relative:Determined atom classes.\n",
      "INFO:relative:Generating old system exceptions dict...\n",
      "INFO:relative:Generating new system exceptions dict...\n",
      "INFO:relative:Handling constraints...\n",
      "INFO:relative:Handling virtual sites...\n",
      "INFO:relative:\t_handle_virtual_sites: numVirtualSites: 0\n",
      "INFO:relative:\t_add_nonbonded_force_terms: <simtk.openmm.openmm.NonbondedForce; proxy of <Swig Object of type 'OpenMM::NonbondedForce *' at 0x2ae19f30d720> > added to hybrid system\n",
      "INFO:relative:\t_add_nonbonded_force_terms: nonbonded_method is NoCutoff\n",
      "INFO:relative:\t_add_nonbonded_force_terms: 0 added to standard nonbonded force\n",
      "INFO:relative:\t_add_nonbonded_force_terms: 0 added to sterics_custom_nonbonded force\n"
     ]
    }
   ],
   "source": [
    "htf_1 = generate_dipeptide_top_pos_sys(pdb.topology, \n",
    "                                         new_res = 'ALA', \n",
    "                                         system = system, \n",
    "                                         positions = positions,\n",
    "                                         system_generator = system_generator, \n",
    "                                         conduct_htf_prop=True,\n",
    "                                         repartitioned=True, endstate=1, validate_endstate_energy=False)\n"
   ]
  },
  {
   "cell_type": "code",
   "execution_count": 4,
   "metadata": {},
   "outputs": [
    {
     "data": {
      "text/plain": [
       "array([-3.14159265, -2.44346095, -1.74532925, -1.04719755, -0.34906585,\n",
       "        0.34906585,  1.04719755,  1.74532925,  2.44346095,  3.14159265])"
      ]
     },
     "execution_count": 4,
     "metadata": {},
     "output_type": "execute_result"
    }
   ],
   "source": [
    "np.linspace(-np.pi, np.pi, endpoint=True, num=10)"
   ]
  },
  {
   "cell_type": "code",
   "execution_count": 5,
   "metadata": {},
   "outputs": [],
   "source": [
    "def plot_torsion_energy(torsion_force, hybrid_indices, atom_indices, topology, positions):\n",
    "    # hybrid indices : for use in querying periodic torsion force for torsion parameters (of hybrid system)\n",
    "    # atom_indices : for use in computing dihedrals given the old or new topology\n",
    "\n",
    "    periodicities = []\n",
    "    phase_offsets = []\n",
    "    ks = []\n",
    "    for i in range(torsion_force.getNumTorsions()):\n",
    "        particle1, particle2, particle3, particle4, periodicity, phase, k = torsion_force.getTorsionParameters(i)\n",
    "        if sorted([particle1, particle2, particle3, particle4]) == sorted(hybrid_indices):\n",
    "            periodicities.append(periodicity)\n",
    "            phase_offsets.append(phase)\n",
    "            ks.append(k)\n",
    "    print(f\"periodicities: {periodicities}\")\n",
    "    print(f\"phase offsets: {phase_offsets}\")\n",
    "    print(f\"ks: {ks}\")\n",
    "    \n",
    "    # Get angles\n",
    "    angles = np.linspace(-np.pi, np.pi, endpoint=True, num=10)\n",
    "    print(f\"angles: {angles}\")\n",
    "    \n",
    "    # Compute energies\n",
    "    # (http://docs.openmm.org/latest/userguide/theory.html#periodictorsionforce)\n",
    "    def f(periodicity, angle, phase_offset, k):\n",
    "        return k*(1 + np.cos(periodicity*angle - phase_offset))\n",
    "    \n",
    "    energies = []\n",
    "    for angle in angles:\n",
    "        terms = []\n",
    "        for periodicity, phase, k in zip(periodicities, phase_offsets, ks):\n",
    "            terms.append(f(periodicity, angle, phase.value_in_unit_system(unit.md_unit_system), k.value_in_unit_system(unit.md_unit_system)))\n",
    "        energies.append(np.sum(terms))\n",
    "    print(f\"energies: {energies}\")\n",
    "    \n",
    "    # Plot the torsion energies in the order in which they appear in the torsion force\n",
    "    plt.plot(angles, energies)\n",
    "    plt.xlabel('radians')\n",
    "    plt.ylabel('Torsion energy')\n",
    "    plt.ylim(0, 10)\n",
    "    plt.show()"
   ]
  },
  {
   "cell_type": "markdown",
   "metadata": {},
   "source": [
    "# THR-ALA lambda = 0"
   ]
  },
  {
   "cell_type": "markdown",
   "metadata": {},
   "source": [
    "### THR"
   ]
  },
  {
   "cell_type": "code",
   "execution_count": 6,
   "metadata": {},
   "outputs": [
    {
     "data": {
      "text/plain": [
       "{0: 0,\n",
       " 1: 1,\n",
       " 2: 2,\n",
       " 3: 3,\n",
       " 4: 4,\n",
       " 5: 5,\n",
       " 6: 6,\n",
       " 7: 7,\n",
       " 8: 8,\n",
       " 9: 9,\n",
       " 10: 10,\n",
       " 11: 11,\n",
       " 12: 12,\n",
       " 13: 13,\n",
       " 14: 14,\n",
       " 15: 15,\n",
       " 16: 16,\n",
       " 17: 17,\n",
       " 18: 18,\n",
       " 19: 19,\n",
       " 20: 20,\n",
       " 21: 21,\n",
       " 22: 22,\n",
       " 23: 23,\n",
       " 24: 24,\n",
       " 25: 25}"
      ]
     },
     "execution_count": 6,
     "metadata": {},
     "output_type": "execute_result"
    }
   ],
   "source": [
    "htf_0.old_to_hybrid_atom_map"
   ]
  },
  {
   "cell_type": "code",
   "execution_count": 7,
   "metadata": {
    "scrolled": true
   },
   "outputs": [
    {
     "name": "stdout",
     "output_type": "stream",
     "text": [
      "[0, 1, 4, 5, 1, Quantity(value=0.0, unit=radian), Quantity(value=3.3472000000000004, unit=kilojoule/mole)]\n",
      "[0, 1, 4, 5, 3, Quantity(value=3.141592653589793, unit=radian), Quantity(value=0.33472, unit=kilojoule/mole)]\n",
      "[1, 4, 6, 7, 2, Quantity(value=3.141592653589793, unit=radian), Quantity(value=10.46, unit=kilojoule/mole)]\n",
      "[1, 4, 6, 8, 2, Quantity(value=3.141592653589793, unit=radian), Quantity(value=10.46, unit=kilojoule/mole)]\n",
      "[2, 1, 4, 5, 1, Quantity(value=0.0, unit=radian), Quantity(value=3.3472000000000004, unit=kilojoule/mole)]\n",
      "[2, 1, 4, 5, 3, Quantity(value=3.141592653589793, unit=radian), Quantity(value=0.33472, unit=kilojoule/mole)]\n",
      "[3, 1, 4, 5, 1, Quantity(value=0.0, unit=radian), Quantity(value=3.3472000000000004, unit=kilojoule/mole)]\n",
      "[3, 1, 4, 5, 3, Quantity(value=3.141592653589793, unit=radian), Quantity(value=0.33472, unit=kilojoule/mole)]\n",
      "[4, 6, 8, 10, 3, Quantity(value=0.0, unit=radian), Quantity(value=3.3472000000000004, unit=kilojoule/mole)]\n",
      "[4, 6, 8, 10, 2, Quantity(value=0.0, unit=radian), Quantity(value=7.5312, unit=kilojoule/mole)]\n",
      "[4, 6, 8, 10, 1, Quantity(value=0.0, unit=radian), Quantity(value=8.368, unit=kilojoule/mole)]\n",
      "[4, 6, 8, 11, 3, Quantity(value=0.0, unit=radian), Quantity(value=1.75728, unit=kilojoule/mole)]\n",
      "[4, 6, 8, 11, 2, Quantity(value=0.0, unit=radian), Quantity(value=1.12968, unit=kilojoule/mole)]\n",
      "[5, 4, 6, 7, 2, Quantity(value=3.141592653589793, unit=radian), Quantity(value=10.46, unit=kilojoule/mole)]\n",
      "[5, 4, 6, 7, 1, Quantity(value=0.0, unit=radian), Quantity(value=8.368, unit=kilojoule/mole)]\n",
      "[5, 4, 6, 8, 2, Quantity(value=3.141592653589793, unit=radian), Quantity(value=10.46, unit=kilojoule/mole)]\n",
      "[6, 8, 10, 13, 3, Quantity(value=0.0, unit=radian), Quantity(value=0.6508444444444444, unit=kilojoule/mole)]\n",
      "[6, 8, 10, 14, 4, Quantity(value=3.141592653589793, unit=radian), Quantity(value=0.004184, unit=kilojoule/mole)]\n",
      "[6, 8, 10, 14, 3, Quantity(value=0.0, unit=radian), Quantity(value=0.619232, unit=kilojoule/mole)]\n",
      "[6, 8, 10, 14, 2, Quantity(value=3.141592653589793, unit=radian), Quantity(value=0.903744, unit=kilojoule/mole)]\n",
      "[6, 8, 10, 14, 1, Quantity(value=0.0, unit=radian), Quantity(value=1.4100080000000002, unit=kilojoule/mole)]\n",
      "[6, 8, 10, 18, 4, Quantity(value=0.0, unit=radian), Quantity(value=0.39748, unit=kilojoule/mole)]\n",
      "[6, 8, 10, 18, 3, Quantity(value=0.0, unit=radian), Quantity(value=1.31796, unit=kilojoule/mole)]\n",
      "[6, 8, 10, 18, 2, Quantity(value=0.0, unit=radian), Quantity(value=0.025104, unit=kilojoule/mole)]\n",
      "[6, 8, 10, 18, 1, Quantity(value=0.0, unit=radian), Quantity(value=2.8200160000000003, unit=kilojoule/mole)]\n",
      "[6, 8, 11, 20, 3, Quantity(value=3.141592653589793, unit=radian), Quantity(value=2.3012, unit=kilojoule/mole)]\n",
      "[6, 8, 11, 20, 2, Quantity(value=3.141592653589793, unit=radian), Quantity(value=6.610720000000001, unit=kilojoule/mole)]\n",
      "[6, 8, 11, 20, 1, Quantity(value=3.141592653589793, unit=radian), Quantity(value=1.8828, unit=kilojoule/mole)]\n",
      "[8, 10, 14, 15, 3, Quantity(value=0.0, unit=radian), Quantity(value=0.66944, unit=kilojoule/mole)]\n",
      "[8, 10, 14, 16, 3, Quantity(value=0.0, unit=radian), Quantity(value=0.66944, unit=kilojoule/mole)]\n",
      "[8, 10, 14, 17, 3, Quantity(value=0.0, unit=radian), Quantity(value=0.66944, unit=kilojoule/mole)]\n",
      "[8, 10, 18, 19, 4, Quantity(value=0.0, unit=radian), Quantity(value=0.054392, unit=kilojoule/mole)]\n",
      "[8, 10, 18, 19, 3, Quantity(value=0.0, unit=radian), Quantity(value=0.987424, unit=kilojoule/mole)]\n",
      "[8, 10, 18, 19, 2, Quantity(value=0.0, unit=radian), Quantity(value=1.050184, unit=kilojoule/mole)]\n",
      "[8, 10, 18, 19, 1, Quantity(value=3.141592653589793, unit=radian), Quantity(value=0.025104, unit=kilojoule/mole)]\n",
      "[8, 11, 20, 21, 2, Quantity(value=3.141592653589793, unit=radian), Quantity(value=10.46, unit=kilojoule/mole)]\n",
      "[8, 11, 20, 22, 2, Quantity(value=3.141592653589793, unit=radian), Quantity(value=10.46, unit=kilojoule/mole)]\n",
      "[9, 8, 10, 13, 3, Quantity(value=0.0, unit=radian), Quantity(value=0.6508444444444444, unit=kilojoule/mole)]\n",
      "[9, 8, 10, 14, 3, Quantity(value=0.0, unit=radian), Quantity(value=0.6508444444444444, unit=kilojoule/mole)]\n",
      "[9, 8, 10, 18, 1, Quantity(value=0.0, unit=radian), Quantity(value=1.046, unit=kilojoule/mole)]\n",
      "[9, 8, 11, 12, 1, Quantity(value=0.0, unit=radian), Quantity(value=3.3472000000000004, unit=kilojoule/mole)]\n",
      "[9, 8, 11, 12, 3, Quantity(value=3.141592653589793, unit=radian), Quantity(value=0.33472, unit=kilojoule/mole)]\n",
      "[10, 8, 11, 20, 3, Quantity(value=0.0, unit=radian), Quantity(value=1.6736000000000002, unit=kilojoule/mole)]\n",
      "[10, 8, 11, 20, 2, Quantity(value=0.0, unit=radian), Quantity(value=0.8368000000000001, unit=kilojoule/mole)]\n",
      "[10, 8, 11, 20, 1, Quantity(value=0.0, unit=radian), Quantity(value=0.8368000000000001, unit=kilojoule/mole)]\n",
      "[11, 8, 10, 13, 3, Quantity(value=0.0, unit=radian), Quantity(value=0.6508444444444444, unit=kilojoule/mole)]\n",
      "[11, 8, 10, 14, 4, Quantity(value=0.0, unit=radian), Quantity(value=0.468608, unit=kilojoule/mole)]\n",
      "[11, 8, 10, 14, 3, Quantity(value=0.0, unit=radian), Quantity(value=0.619232, unit=kilojoule/mole)]\n",
      "[11, 8, 10, 14, 2, Quantity(value=3.141592653589793, unit=radian), Quantity(value=1.209176, unit=kilojoule/mole)]\n",
      "[11, 8, 10, 14, 1, Quantity(value=3.141592653589793, unit=radian), Quantity(value=1.6987040000000002, unit=kilojoule/mole)]\n",
      "[11, 8, 10, 18, 4, Quantity(value=0.0, unit=radian), Quantity(value=0.6527040000000001, unit=kilojoule/mole)]\n",
      "[11, 8, 10, 18, 3, Quantity(value=0.0, unit=radian), Quantity(value=1.31796, unit=kilojoule/mole)]\n",
      "[11, 8, 10, 18, 2, Quantity(value=3.141592653589793, unit=radian), Quantity(value=0.497896, unit=kilojoule/mole)]\n",
      "[11, 8, 10, 18, 1, Quantity(value=3.141592653589793, unit=radian), Quantity(value=2.916248, unit=kilojoule/mole)]\n",
      "[12, 11, 20, 21, 2, Quantity(value=3.141592653589793, unit=radian), Quantity(value=10.46, unit=kilojoule/mole)]\n",
      "[12, 11, 20, 21, 1, Quantity(value=0.0, unit=radian), Quantity(value=8.368, unit=kilojoule/mole)]\n",
      "[12, 11, 20, 22, 2, Quantity(value=3.141592653589793, unit=radian), Quantity(value=10.46, unit=kilojoule/mole)]\n",
      "[13, 10, 14, 15, 3, Quantity(value=0.0, unit=radian), Quantity(value=0.6508444444444444, unit=kilojoule/mole)]\n",
      "[13, 10, 14, 16, 3, Quantity(value=0.0, unit=radian), Quantity(value=0.6508444444444444, unit=kilojoule/mole)]\n",
      "[13, 10, 14, 17, 3, Quantity(value=0.0, unit=radian), Quantity(value=0.6508444444444444, unit=kilojoule/mole)]\n",
      "[13, 10, 18, 19, 3, Quantity(value=0.0, unit=radian), Quantity(value=0.6973333333333334, unit=kilojoule/mole)]\n",
      "[14, 10, 18, 19, 4, Quantity(value=0.0, unit=radian), Quantity(value=0.200832, unit=kilojoule/mole)]\n",
      "[14, 10, 18, 19, 3, Quantity(value=0.0, unit=radian), Quantity(value=0.987424, unit=kilojoule/mole)]\n",
      "[14, 10, 18, 19, 2, Quantity(value=3.141592653589793, unit=radian), Quantity(value=0.330536, unit=kilojoule/mole)]\n",
      "[14, 10, 18, 19, 1, Quantity(value=0.0, unit=radian), Quantity(value=2.690312, unit=kilojoule/mole)]\n",
      "[15, 14, 10, 18, 1, Quantity(value=0.0, unit=radian), Quantity(value=1.046, unit=kilojoule/mole)]\n",
      "[16, 14, 10, 18, 1, Quantity(value=0.0, unit=radian), Quantity(value=1.046, unit=kilojoule/mole)]\n",
      "[17, 14, 10, 18, 1, Quantity(value=0.0, unit=radian), Quantity(value=1.046, unit=kilojoule/mole)]\n",
      "[1, 6, 4, 5, 2, Quantity(value=3.141592653589793, unit=radian), Quantity(value=43.932, unit=kilojoule/mole)]\n",
      "[4, 8, 6, 7, 2, Quantity(value=3.141592653589793, unit=radian), Quantity(value=4.6024, unit=kilojoule/mole)]\n",
      "[8, 20, 11, 12, 2, Quantity(value=3.141592653589793, unit=radian), Quantity(value=43.932, unit=kilojoule/mole)]\n",
      "[11, 22, 20, 21, 2, Quantity(value=3.141592653589793, unit=radian), Quantity(value=4.6024, unit=kilojoule/mole)]\n",
      "[6, 8, 10, 26, 3, Quantity(value=0.0, unit=radian), Quantity(value=0.6508444444444444, unit=kilojoule/mole)]\n",
      "[6, 8, 10, 27, 3, Quantity(value=0.0, unit=radian), Quantity(value=0.6508444444444444, unit=kilojoule/mole)]\n",
      "[9, 8, 10, 26, 3, Quantity(value=0.0, unit=radian), Quantity(value=0.6508444444444444, unit=kilojoule/mole)]\n",
      "[9, 8, 10, 27, 3, Quantity(value=0.0, unit=radian), Quantity(value=0.6508444444444444, unit=kilojoule/mole)]\n",
      "[11, 8, 10, 26, 3, Quantity(value=0.0, unit=radian), Quantity(value=0.6508444444444444, unit=kilojoule/mole)]\n",
      "[11, 8, 10, 27, 3, Quantity(value=0.0, unit=radian), Quantity(value=0.6508444444444444, unit=kilojoule/mole)]\n"
     ]
    }
   ],
   "source": [
    "torsion_force = htf_0.hybrid_system.getForce(2)\n",
    "for i in range(torsion_force.getNumTorsions()):\n",
    "    print(torsion_force.getTorsionParameters(i))"
   ]
  },
  {
   "cell_type": "code",
   "execution_count": 8,
   "metadata": {},
   "outputs": [
    {
     "name": "stdout",
     "output_type": "stream",
     "text": [
      "periodicities: [4, 3, 2, 1]\n",
      "phase offsets: [Quantity(value=0.0, unit=radian), Quantity(value=0.0, unit=radian), Quantity(value=0.0, unit=radian), Quantity(value=0.0, unit=radian)]\n",
      "ks: [Quantity(value=0.39748, unit=kilojoule/mole), Quantity(value=1.31796, unit=kilojoule/mole), Quantity(value=0.025104, unit=kilojoule/mole), Quantity(value=2.8200160000000003, unit=kilojoule/mole)]\n",
      "angles: [-3.14159265 -2.44346095 -1.74532925 -1.04719755 -0.34906585  0.34906585\n",
      "  1.04719755  1.74532925  2.44346095  3.14159265]\n",
      "energies: [0.845168, 2.6901326546355606, 5.010746662307136, 4.4413160000000005, 7.957740683057306, 7.957740683057306, 4.441316000000001, 5.010746662307136, 2.6901326546355606, 0.845168]\n"
     ]
    },
    {
     "data": {
      "image/png": "[encoded data removed]",
      "text/plain": [
       "<Figure size 432x288 with 1 Axes>"
      ]
     },
     "metadata": {
      "needs_background": "light"
     },
     "output_type": "display_data"
    }
   ],
   "source": [
    "torsion_force = htf_0.hybrid_system.getForce(2)\n",
    "plot_torsion_energy(torsion_force, [18, 10, 8, 6], [18, 10, 8, 6], htf_0._topology_proposal.old_topology, np.array(htf_0.old_positions(htf_0.hybrid_positions)))\n"
   ]
  },
  {
   "cell_type": "markdown",
   "metadata": {},
   "source": [
    "### ALA"
   ]
  },
  {
   "cell_type": "code",
   "execution_count": 9,
   "metadata": {},
   "outputs": [
    {
     "name": "stdout",
     "output_type": "stream",
     "text": [
      "<Atom 0 (H1) of chain 0 residue 0 (ACE)>\n",
      "<Atom 1 (CH3) of chain 0 residue 0 (ACE)>\n",
      "<Atom 2 (H2) of chain 0 residue 0 (ACE)>\n",
      "<Atom 3 (H3) of chain 0 residue 0 (ACE)>\n",
      "<Atom 4 (C) of chain 0 residue 0 (ACE)>\n",
      "<Atom 5 (O) of chain 0 residue 0 (ACE)>\n",
      "<Atom 6 (N) of chain 0 residue 1 (ALA)>\n",
      "<Atom 7 (H) of chain 0 residue 1 (ALA)>\n",
      "<Atom 8 (CA) of chain 0 residue 1 (ALA)>\n",
      "<Atom 9 (HA) of chain 0 residue 1 (ALA)>\n",
      "<Atom 10 (CB) of chain 0 residue 1 (ALA)>\n",
      "<Atom 11 (C) of chain 0 residue 1 (ALA)>\n",
      "<Atom 12 (O) of chain 0 residue 1 (ALA)>\n",
      "<Atom 13 (HB1) of chain 0 residue 1 (ALA)>\n",
      "<Atom 14 (HB2) of chain 0 residue 1 (ALA)>\n",
      "<Atom 15 (HB3) of chain 0 residue 1 (ALA)>\n",
      "<Atom 16 (N) of chain 0 residue 2 (NME)>\n",
      "<Atom 17 (H) of chain 0 residue 2 (NME)>\n",
      "<Atom 18 (C) of chain 0 residue 2 (NME)>\n",
      "<Atom 19 (H1) of chain 0 residue 2 (NME)>\n",
      "<Atom 20 (H2) of chain 0 residue 2 (NME)>\n",
      "<Atom 21 (H3) of chain 0 residue 2 (NME)>\n"
     ]
    }
   ],
   "source": [
    "for atom in htf_0._topology_proposal.new_topology.atoms():\n",
    "    print(atom)"
   ]
  },
  {
   "cell_type": "code",
   "execution_count": 10,
   "metadata": {},
   "outputs": [
    {
     "data": {
      "text/plain": [
       "{0: 0,\n",
       " 1: 1,\n",
       " 2: 2,\n",
       " 3: 3,\n",
       " 4: 4,\n",
       " 5: 5,\n",
       " 6: 6,\n",
       " 7: 7,\n",
       " 8: 8,\n",
       " 9: 9,\n",
       " 10: 10,\n",
       " 11: 11,\n",
       " 12: 12,\n",
       " 13: 13,\n",
       " 16: 20,\n",
       " 17: 21,\n",
       " 18: 22,\n",
       " 19: 23,\n",
       " 20: 24,\n",
       " 21: 25,\n",
       " 14: 26,\n",
       " 15: 27}"
      ]
     },
     "execution_count": 10,
     "metadata": {},
     "output_type": "execute_result"
    }
   ],
   "source": [
    "htf_0.new_to_hybrid_atom_map"
   ]
  },
  {
   "cell_type": "code",
   "execution_count": 11,
   "metadata": {},
   "outputs": [
    {
     "name": "stdout",
     "output_type": "stream",
     "text": [
      "periodicities: [3]\n",
      "phase offsets: [Quantity(value=0.0, unit=radian)]\n",
      "ks: [Quantity(value=0.6508444444444444, unit=kilojoule/mole)]\n",
      "angles: [-3.14159265 -2.44346095 -1.74532925 -1.04719755 -0.34906585  0.34906585\n",
      "  1.04719755  1.74532925  2.44346095  3.14159265]\n",
      "energies: [0.0, 0.976266666666667, 0.9762666666666666, 0.0, 0.9762666666666666, 0.9762666666666666, 0.0, 0.9762666666666663, 0.976266666666667, 0.0]\n"
     ]
    },
    {
     "data": {
      "image/png": "[encoded data removed]",
      "text/plain": [
       "<Figure size 432x288 with 1 Axes>"
      ]
     },
     "metadata": {
      "needs_background": "light"
     },
     "output_type": "display_data"
    }
   ],
   "source": [
    "torsion_force = htf_0.hybrid_system.getForce(2)\n",
    "plot_torsion_energy(torsion_force, [13, 10, 8, 6], [13, 10, 8, 6], htf_0._topology_proposal.new_topology, np.array(htf_0.new_positions(htf_0.hybrid_positions)))"
   ]
  },
  {
   "cell_type": "markdown",
   "metadata": {},
   "source": [
    "# THR->ALA lambda = 1"
   ]
  },
  {
   "cell_type": "markdown",
   "metadata": {},
   "source": [
    "### THR"
   ]
  },
  {
   "cell_type": "code",
   "execution_count": 12,
   "metadata": {},
   "outputs": [
    {
     "data": {
      "text/plain": [
       "{0: 0,\n",
       " 1: 1,\n",
       " 2: 2,\n",
       " 3: 3,\n",
       " 4: 4,\n",
       " 5: 5,\n",
       " 6: 6,\n",
       " 7: 7,\n",
       " 8: 8,\n",
       " 9: 9,\n",
       " 10: 10,\n",
       " 11: 11,\n",
       " 12: 12,\n",
       " 13: 13,\n",
       " 14: 14,\n",
       " 15: 15,\n",
       " 16: 16,\n",
       " 17: 17,\n",
       " 18: 18,\n",
       " 19: 19,\n",
       " 20: 20,\n",
       " 21: 21,\n",
       " 22: 22,\n",
       " 23: 23,\n",
       " 24: 24,\n",
       " 25: 25}"
      ]
     },
     "execution_count": 12,
     "metadata": {},
     "output_type": "execute_result"
    }
   ],
   "source": [
    "htf_1.old_to_hybrid_atom_map"
   ]
  },
  {
   "cell_type": "code",
   "execution_count": 13,
   "metadata": {},
   "outputs": [
    {
     "name": "stdout",
     "output_type": "stream",
     "text": [
      "periodicities: [4, 3, 2, 1]\n",
      "phase offsets: [Quantity(value=0.0, unit=radian), Quantity(value=0.0, unit=radian), Quantity(value=0.0, unit=radian), Quantity(value=0.0, unit=radian)]\n",
      "ks: [Quantity(value=0.39748, unit=kilojoule/mole), Quantity(value=1.31796, unit=kilojoule/mole), Quantity(value=0.025104, unit=kilojoule/mole), Quantity(value=2.8200160000000003, unit=kilojoule/mole)]\n",
      "angles: [-3.14159265 -2.44346095 -1.74532925 -1.04719755 -0.34906585  0.34906585\n",
      "  1.04719755  1.74532925  2.44346095  3.14159265]\n",
      "energies: [0.845168, 2.6901326546355606, 5.010746662307136, 4.4413160000000005, 7.957740683057306, 7.957740683057306, 4.441316000000001, 5.010746662307136, 2.6901326546355606, 0.845168]\n"
     ]
    },
    {
     "data": {
      "image/png": "[encoded data removed]",
      "text/plain": [
       "<Figure size 432x288 with 1 Axes>"
      ]
     },
     "metadata": {
      "needs_background": "light"
     },
     "output_type": "display_data"
    }
   ],
   "source": [
    "torsion_force = htf_1.hybrid_system.getForce(2)\n",
    "plot_torsion_energy(torsion_force, [18, 10, 8, 6], [18, 10, 8, 6], htf_1._topology_proposal.old_topology, np.array(htf_1.old_positions(htf_1.hybrid_positions)))"
   ]
  },
  {
   "cell_type": "markdown",
   "metadata": {},
   "source": [
    "### ALA"
   ]
  },
  {
   "cell_type": "code",
   "execution_count": 14,
   "metadata": {},
   "outputs": [
    {
     "name": "stdout",
     "output_type": "stream",
     "text": [
      "<Atom 0 (H1) of chain 0 residue 0 (ACE)>\n",
      "<Atom 1 (CH3) of chain 0 residue 0 (ACE)>\n",
      "<Atom 2 (H2) of chain 0 residue 0 (ACE)>\n",
      "<Atom 3 (H3) of chain 0 residue 0 (ACE)>\n",
      "<Atom 4 (C) of chain 0 residue 0 (ACE)>\n",
      "<Atom 5 (O) of chain 0 residue 0 (ACE)>\n",
      "<Atom 6 (N) of chain 0 residue 1 (ALA)>\n",
      "<Atom 7 (H) of chain 0 residue 1 (ALA)>\n",
      "<Atom 8 (CA) of chain 0 residue 1 (ALA)>\n",
      "<Atom 9 (HA) of chain 0 residue 1 (ALA)>\n",
      "<Atom 10 (CB) of chain 0 residue 1 (ALA)>\n",
      "<Atom 11 (C) of chain 0 residue 1 (ALA)>\n",
      "<Atom 12 (O) of chain 0 residue 1 (ALA)>\n",
      "<Atom 13 (HB1) of chain 0 residue 1 (ALA)>\n",
      "<Atom 14 (HB2) of chain 0 residue 1 (ALA)>\n",
      "<Atom 15 (HB3) of chain 0 residue 1 (ALA)>\n",
      "<Atom 16 (N) of chain 0 residue 2 (NME)>\n",
      "<Atom 17 (H) of chain 0 residue 2 (NME)>\n",
      "<Atom 18 (C) of chain 0 residue 2 (NME)>\n",
      "<Atom 19 (H1) of chain 0 residue 2 (NME)>\n",
      "<Atom 20 (H2) of chain 0 residue 2 (NME)>\n",
      "<Atom 21 (H3) of chain 0 residue 2 (NME)>\n"
     ]
    }
   ],
   "source": [
    "for atom in htf_1._topology_proposal.new_topology.atoms():\n",
    "    print(atom)"
   ]
  },
  {
   "cell_type": "code",
   "execution_count": 15,
   "metadata": {},
   "outputs": [
    {
     "data": {
      "text/plain": [
       "{0: 0,\n",
       " 1: 1,\n",
       " 2: 2,\n",
       " 3: 3,\n",
       " 4: 4,\n",
       " 5: 5,\n",
       " 6: 6,\n",
       " 7: 7,\n",
       " 8: 8,\n",
       " 9: 9,\n",
       " 10: 10,\n",
       " 11: 11,\n",
       " 12: 12,\n",
       " 13: 13,\n",
       " 16: 20,\n",
       " 17: 21,\n",
       " 18: 22,\n",
       " 19: 23,\n",
       " 20: 24,\n",
       " 21: 25,\n",
       " 14: 26,\n",
       " 15: 27}"
      ]
     },
     "execution_count": 15,
     "metadata": {},
     "output_type": "execute_result"
    }
   ],
   "source": [
    "htf_1.new_to_hybrid_atom_map"
   ]
  },
  {
   "cell_type": "code",
   "execution_count": 16,
   "metadata": {
    "scrolled": true
   },
   "outputs": [
    {
     "name": "stdout",
     "output_type": "stream",
     "text": [
      "[0, 1, 4, 5, 1, Quantity(value=0.0, unit=radian), Quantity(value=3.3472000000000004, unit=kilojoule/mole)]\n",
      "[0, 1, 4, 5, 3, Quantity(value=3.141592653589793, unit=radian), Quantity(value=0.33472, unit=kilojoule/mole)]\n",
      "[1, 4, 6, 7, 2, Quantity(value=3.141592653589793, unit=radian), Quantity(value=10.46, unit=kilojoule/mole)]\n",
      "[1, 4, 6, 8, 2, Quantity(value=3.141592653589793, unit=radian), Quantity(value=10.46, unit=kilojoule/mole)]\n",
      "[2, 1, 4, 5, 1, Quantity(value=0.0, unit=radian), Quantity(value=3.3472000000000004, unit=kilojoule/mole)]\n",
      "[2, 1, 4, 5, 3, Quantity(value=3.141592653589793, unit=radian), Quantity(value=0.33472, unit=kilojoule/mole)]\n",
      "[3, 1, 4, 5, 1, Quantity(value=0.0, unit=radian), Quantity(value=3.3472000000000004, unit=kilojoule/mole)]\n",
      "[3, 1, 4, 5, 3, Quantity(value=3.141592653589793, unit=radian), Quantity(value=0.33472, unit=kilojoule/mole)]\n",
      "[4, 6, 8, 10, 3, Quantity(value=0.0, unit=radian), Quantity(value=3.3472000000000004, unit=kilojoule/mole)]\n",
      "[4, 6, 8, 10, 2, Quantity(value=0.0, unit=radian), Quantity(value=7.5312, unit=kilojoule/mole)]\n",
      "[4, 6, 8, 10, 1, Quantity(value=0.0, unit=radian), Quantity(value=8.368, unit=kilojoule/mole)]\n",
      "[4, 6, 8, 11, 3, Quantity(value=0.0, unit=radian), Quantity(value=1.75728, unit=kilojoule/mole)]\n",
      "[4, 6, 8, 11, 2, Quantity(value=0.0, unit=radian), Quantity(value=1.12968, unit=kilojoule/mole)]\n",
      "[5, 4, 6, 7, 2, Quantity(value=3.141592653589793, unit=radian), Quantity(value=10.46, unit=kilojoule/mole)]\n",
      "[5, 4, 6, 7, 1, Quantity(value=0.0, unit=radian), Quantity(value=8.368, unit=kilojoule/mole)]\n",
      "[5, 4, 6, 8, 2, Quantity(value=3.141592653589793, unit=radian), Quantity(value=10.46, unit=kilojoule/mole)]\n",
      "[6, 8, 10, 13, 3, Quantity(value=0.0, unit=radian), Quantity(value=0.6508444444444444, unit=kilojoule/mole)]\n",
      "[6, 8, 10, 26, 3, Quantity(value=0.0, unit=radian), Quantity(value=0.6508444444444444, unit=kilojoule/mole)]\n",
      "[6, 8, 10, 27, 3, Quantity(value=0.0, unit=radian), Quantity(value=0.6508444444444444, unit=kilojoule/mole)]\n",
      "[6, 8, 11, 20, 3, Quantity(value=3.141592653589793, unit=radian), Quantity(value=2.3012, unit=kilojoule/mole)]\n",
      "[6, 8, 11, 20, 2, Quantity(value=3.141592653589793, unit=radian), Quantity(value=6.610720000000001, unit=kilojoule/mole)]\n",
      "[6, 8, 11, 20, 1, Quantity(value=3.141592653589793, unit=radian), Quantity(value=1.8828, unit=kilojoule/mole)]\n",
      "[8, 11, 20, 21, 2, Quantity(value=3.141592653589793, unit=radian), Quantity(value=10.46, unit=kilojoule/mole)]\n",
      "[8, 11, 20, 22, 2, Quantity(value=3.141592653589793, unit=radian), Quantity(value=10.46, unit=kilojoule/mole)]\n",
      "[9, 8, 10, 13, 3, Quantity(value=0.0, unit=radian), Quantity(value=0.6508444444444444, unit=kilojoule/mole)]\n",
      "[9, 8, 10, 26, 3, Quantity(value=0.0, unit=radian), Quantity(value=0.6508444444444444, unit=kilojoule/mole)]\n",
      "[9, 8, 10, 27, 3, Quantity(value=0.0, unit=radian), Quantity(value=0.6508444444444444, unit=kilojoule/mole)]\n",
      "[9, 8, 11, 12, 1, Quantity(value=0.0, unit=radian), Quantity(value=3.3472000000000004, unit=kilojoule/mole)]\n",
      "[9, 8, 11, 12, 3, Quantity(value=3.141592653589793, unit=radian), Quantity(value=0.33472, unit=kilojoule/mole)]\n",
      "[10, 8, 11, 20, 3, Quantity(value=0.0, unit=radian), Quantity(value=1.6736000000000002, unit=kilojoule/mole)]\n",
      "[10, 8, 11, 20, 2, Quantity(value=0.0, unit=radian), Quantity(value=0.8368000000000001, unit=kilojoule/mole)]\n",
      "[10, 8, 11, 20, 1, Quantity(value=0.0, unit=radian), Quantity(value=0.8368000000000001, unit=kilojoule/mole)]\n",
      "[11, 8, 10, 13, 3, Quantity(value=0.0, unit=radian), Quantity(value=0.6508444444444444, unit=kilojoule/mole)]\n",
      "[11, 8, 10, 26, 3, Quantity(value=0.0, unit=radian), Quantity(value=0.6508444444444444, unit=kilojoule/mole)]\n",
      "[11, 8, 10, 27, 3, Quantity(value=0.0, unit=radian), Quantity(value=0.6508444444444444, unit=kilojoule/mole)]\n",
      "[12, 11, 20, 21, 2, Quantity(value=3.141592653589793, unit=radian), Quantity(value=10.46, unit=kilojoule/mole)]\n",
      "[12, 11, 20, 21, 1, Quantity(value=0.0, unit=radian), Quantity(value=8.368, unit=kilojoule/mole)]\n",
      "[12, 11, 20, 22, 2, Quantity(value=3.141592653589793, unit=radian), Quantity(value=10.46, unit=kilojoule/mole)]\n",
      "[1, 6, 4, 5, 2, Quantity(value=3.141592653589793, unit=radian), Quantity(value=43.932, unit=kilojoule/mole)]\n",
      "[4, 8, 6, 7, 2, Quantity(value=3.141592653589793, unit=radian), Quantity(value=4.6024, unit=kilojoule/mole)]\n",
      "[8, 20, 11, 12, 2, Quantity(value=3.141592653589793, unit=radian), Quantity(value=43.932, unit=kilojoule/mole)]\n",
      "[11, 22, 20, 21, 2, Quantity(value=3.141592653589793, unit=radian), Quantity(value=4.6024, unit=kilojoule/mole)]\n",
      "[6, 8, 10, 14, 4, Quantity(value=3.141592653589793, unit=radian), Quantity(value=0.004184, unit=kilojoule/mole)]\n",
      "[6, 8, 10, 14, 3, Quantity(value=0.0, unit=radian), Quantity(value=0.619232, unit=kilojoule/mole)]\n",
      "[6, 8, 10, 14, 2, Quantity(value=3.141592653589793, unit=radian), Quantity(value=0.903744, unit=kilojoule/mole)]\n",
      "[6, 8, 10, 14, 1, Quantity(value=0.0, unit=radian), Quantity(value=1.4100080000000002, unit=kilojoule/mole)]\n",
      "[6, 8, 10, 18, 4, Quantity(value=0.0, unit=radian), Quantity(value=0.39748, unit=kilojoule/mole)]\n",
      "[6, 8, 10, 18, 3, Quantity(value=0.0, unit=radian), Quantity(value=1.31796, unit=kilojoule/mole)]\n",
      "[6, 8, 10, 18, 2, Quantity(value=0.0, unit=radian), Quantity(value=0.025104, unit=kilojoule/mole)]\n",
      "[6, 8, 10, 18, 1, Quantity(value=0.0, unit=radian), Quantity(value=2.8200160000000003, unit=kilojoule/mole)]\n",
      "[8, 10, 14, 15, 3, Quantity(value=0.0, unit=radian), Quantity(value=0.66944, unit=kilojoule/mole)]\n",
      "[8, 10, 14, 16, 3, Quantity(value=0.0, unit=radian), Quantity(value=0.66944, unit=kilojoule/mole)]\n",
      "[8, 10, 14, 17, 3, Quantity(value=0.0, unit=radian), Quantity(value=0.66944, unit=kilojoule/mole)]\n",
      "[8, 10, 18, 19, 4, Quantity(value=0.0, unit=radian), Quantity(value=0.054392, unit=kilojoule/mole)]\n",
      "[8, 10, 18, 19, 3, Quantity(value=0.0, unit=radian), Quantity(value=0.987424, unit=kilojoule/mole)]\n",
      "[8, 10, 18, 19, 2, Quantity(value=0.0, unit=radian), Quantity(value=1.050184, unit=kilojoule/mole)]\n",
      "[8, 10, 18, 19, 1, Quantity(value=3.141592653589793, unit=radian), Quantity(value=0.025104, unit=kilojoule/mole)]\n",
      "[9, 8, 10, 14, 3, Quantity(value=0.0, unit=radian), Quantity(value=0.6508444444444444, unit=kilojoule/mole)]\n",
      "[9, 8, 10, 18, 1, Quantity(value=0.0, unit=radian), Quantity(value=1.046, unit=kilojoule/mole)]\n",
      "[11, 8, 10, 14, 4, Quantity(value=0.0, unit=radian), Quantity(value=0.468608, unit=kilojoule/mole)]\n",
      "[11, 8, 10, 14, 3, Quantity(value=0.0, unit=radian), Quantity(value=0.619232, unit=kilojoule/mole)]\n",
      "[11, 8, 10, 14, 2, Quantity(value=3.141592653589793, unit=radian), Quantity(value=1.209176, unit=kilojoule/mole)]\n",
      "[11, 8, 10, 14, 1, Quantity(value=3.141592653589793, unit=radian), Quantity(value=1.6987040000000002, unit=kilojoule/mole)]\n",
      "[11, 8, 10, 18, 4, Quantity(value=0.0, unit=radian), Quantity(value=0.6527040000000001, unit=kilojoule/mole)]\n",
      "[11, 8, 10, 18, 3, Quantity(value=0.0, unit=radian), Quantity(value=1.31796, unit=kilojoule/mole)]\n",
      "[11, 8, 10, 18, 2, Quantity(value=3.141592653589793, unit=radian), Quantity(value=0.497896, unit=kilojoule/mole)]\n",
      "[11, 8, 10, 18, 1, Quantity(value=3.141592653589793, unit=radian), Quantity(value=2.916248, unit=kilojoule/mole)]\n",
      "[13, 10, 14, 15, 3, Quantity(value=0.0, unit=radian), Quantity(value=0.6508444444444444, unit=kilojoule/mole)]\n",
      "[13, 10, 14, 16, 3, Quantity(value=0.0, unit=radian), Quantity(value=0.6508444444444444, unit=kilojoule/mole)]\n",
      "[13, 10, 14, 17, 3, Quantity(value=0.0, unit=radian), Quantity(value=0.6508444444444444, unit=kilojoule/mole)]\n",
      "[13, 10, 18, 19, 3, Quantity(value=0.0, unit=radian), Quantity(value=0.6973333333333334, unit=kilojoule/mole)]\n",
      "[14, 10, 18, 19, 4, Quantity(value=0.0, unit=radian), Quantity(value=0.200832, unit=kilojoule/mole)]\n",
      "[14, 10, 18, 19, 3, Quantity(value=0.0, unit=radian), Quantity(value=0.987424, unit=kilojoule/mole)]\n",
      "[14, 10, 18, 19, 2, Quantity(value=3.141592653589793, unit=radian), Quantity(value=0.330536, unit=kilojoule/mole)]\n",
      "[14, 10, 18, 19, 1, Quantity(value=0.0, unit=radian), Quantity(value=2.690312, unit=kilojoule/mole)]\n",
      "[15, 14, 10, 18, 1, Quantity(value=0.0, unit=radian), Quantity(value=1.046, unit=kilojoule/mole)]\n",
      "[16, 14, 10, 18, 1, Quantity(value=0.0, unit=radian), Quantity(value=1.046, unit=kilojoule/mole)]\n",
      "[17, 14, 10, 18, 1, Quantity(value=0.0, unit=radian), Quantity(value=1.046, unit=kilojoule/mole)]\n"
     ]
    }
   ],
   "source": [
    "torsion_force = htf_1.hybrid_system.getForce(2)\n",
    "for i in range(torsion_force.getNumTorsions()):\n",
    "    print(torsion_force.getTorsionParameters(i))"
   ]
  },
  {
   "cell_type": "code",
   "execution_count": 17,
   "metadata": {},
   "outputs": [
    {
     "name": "stdout",
     "output_type": "stream",
     "text": [
      "periodicities: [3]\n",
      "phase offsets: [Quantity(value=0.0, unit=radian)]\n",
      "ks: [Quantity(value=0.6508444444444444, unit=kilojoule/mole)]\n",
      "angles: [-3.14159265 -2.44346095 -1.74532925 -1.04719755 -0.34906585  0.34906585\n",
      "  1.04719755  1.74532925  2.44346095  3.14159265]\n",
      "energies: [0.0, 0.976266666666667, 0.9762666666666666, 0.0, 0.9762666666666666, 0.9762666666666666, 0.0, 0.9762666666666663, 0.976266666666667, 0.0]\n"
     ]
    },
    {
     "data": {
      "image/png": "[encoded data removed]",
      "text/plain": [
       "<Figure size 432x288 with 1 Axes>"
      ]
     },
     "metadata": {
      "needs_background": "light"
     },
     "output_type": "display_data"
    }
   ],
   "source": [
    "torsion_force = htf_1.hybrid_system.getForce(2)\n",
    "plot_torsion_energy(torsion_force, [13, 10, 8, 6], [13, 10, 8, 6], htf_1._topology_proposal.new_topology, np.array(htf_1.new_positions(htf_1.hybrid_positions)))"
   ]
  },
  {
   "cell_type": "code",
   "execution_count": null,
   "metadata": {},
   "outputs": [],
   "source": []
  },
  {
   "cell_type": "code",
   "execution_count": null,
   "metadata": {},
   "outputs": [],
   "source": []
  },
  {
   "cell_type": "markdown",
   "metadata": {},
   "source": [
    "# ALA->THR lambda=0"
   ]
  },
  {
   "cell_type": "code",
   "execution_count": 18,
   "metadata": {
    "scrolled": true
   },
   "outputs": [
    {
     "name": "stderr",
     "output_type": "stream",
     "text": [
      "INFO:proposal_generator:\tConducting polymer point mutation proposal...\n",
      "INFO:proposal_generator:Using matching_criterion to chose best atom map\n",
      "INFO:proposal_generator:Scaffold has symmetry of 0\n",
      "WARNING:proposal_generator:Two molecules are not similar to have a common scaffold\n",
      "WARNING:proposal_generator:Proceeding with direct mapping of molecules, but please check atom mapping and the geometry of the ligands.\n",
      "INFO:proposal_generator:len [{4: 4, 9: 9}]\n",
      "INFO:proposal_generator:{4: 4, 9: 9}\n",
      "INFO:proposal_generator:Only one map so returning that one\n",
      "INFO:proposal_generator:{4: 4, 9: 9}\n",
      "INFO:geometry:propose: performing forward proposal\n",
      "INFO:geometry:propose: unique new atoms detected; proceeding to _logp_propose...\n"
     ]
    },
    {
     "name": "stdout",
     "output_type": "stream",
     "text": [
      "making topology proposal\n",
      "generating geometry engine\n",
      "making geometry proposal from ALA to THR\n"
     ]
    },
    {
     "name": "stderr",
     "output_type": "stream",
     "text": [
      "INFO:geometry:Conducting forward proposal...\n",
      "INFO:geometry:Computing proposal order with NetworkX...\n",
      "INFO:geometry:number of atoms to be placed: 7\n",
      "INFO:geometry:Atom index proposal order is [18, 14, 13, 15, 19, 16, 17]\n",
      "INFO:geometry:omitted_bonds: []\n",
      "INFO:geometry:direction of proposal is forward; creating atoms_with_positions and new positions from old system/topology...\n",
      "INFO:geometry:creating growth system...\n",
      "INFO:geometry:\tcreating bond force...\n",
      "INFO:geometry:\tthere are 11 bonds in reference force.\n",
      "INFO:geometry:\tcreating angle force...\n",
      "INFO:geometry:\tthere are 43 angles in reference force.\n",
      "INFO:geometry:\tcreating torsion force...\n",
      "INFO:geometry:\tcreating extra torsions force...\n",
      "INFO:geometry:\tthere are 72 torsions in reference force.\n",
      "INFO:geometry:\tcreating nonbonded force...\n",
      "INFO:geometry:\t\tgrabbing reference nonbonded method, cutoff, switching function, switching distance...\n",
      "INFO:geometry:\t\tcreating nonbonded exception force (i.e. custom bond for 1,4s)...\n",
      "INFO:geometry:\t\tlooping through exceptions calculating growth indices, and adding appropriate interactions to custom bond force.\n",
      "INFO:geometry:\t\tthere are 121 in the reference Nonbonded force\n",
      "INFO:geometry:Neglected angle terms : []\n",
      "INFO:geometry:omitted_growth_terms: {'bonds': [], 'angles': [], 'torsions': [], '1,4s': []}\n",
      "INFO:geometry:extra torsions: {0: (18, 10, 8, 14, [1, Quantity(value=-1.0655064807976995, unit=radian), Quantity(value=120.0, unit=kilocalorie/mole), 2])}\n",
      "INFO:geometry:neglected angle terms include []\n",
      "INFO:geometry:log probability choice of torsions and atom order: -12.86077001571492\n",
      "INFO:geometry:creating platform, integrators, and contexts; setting growth parameter\n"
     ]
    },
    {
     "name": "stdout",
     "output_type": "stream",
     "text": [
      "conducting subsequent work with the following platform: CUDA\n"
     ]
    },
    {
     "name": "stderr",
     "output_type": "stream",
     "text": [
      "INFO:geometry:setting atoms_with_positions context new positions\n"
     ]
    },
    {
     "name": "stdout",
     "output_type": "stream",
     "text": [
      "conducting subsequent work with the following platform: CUDA\n"
     ]
    },
    {
     "name": "stderr",
     "output_type": "stream",
     "text": [
      "INFO:geometry:There are 7 new atoms\n",
      "INFO:geometry:\treduced angle potential = 0.3244063562834821.\n",
      "INFO:geometry:\treduced angle potential = 0.4076537174230009.\n",
      "INFO:geometry:\treduced angle potential = 0.1694172537441297.\n",
      "INFO:geometry:\treduced angle potential = 0.09034073074986741.\n",
      "INFO:geometry:\treduced angle potential = 0.37390858496942914.\n",
      "INFO:geometry:\treduced angle potential = 0.19757798851272032.\n",
      "INFO:geometry:\treduced angle potential = 0.2950369248635637.\n",
      "INFO:geometry:\tbeginning construction of no_nonbonded final system...\n",
      "INFO:geometry:\tinitial no-nonbonded final system forces ['HarmonicBondForce', 'HarmonicAngleForce', 'PeriodicTorsionForce', 'NonbondedForce']\n",
      "INFO:geometry:\tfinal no-nonbonded final system forces dict_keys(['HarmonicBondForce', 'HarmonicAngleForce', 'PeriodicTorsionForce', 'NonbondedForce'])\n",
      "INFO:geometry:\tthere are 11 bond forces in the no-nonbonded final system\n",
      "INFO:geometry:\tthere are 43 angle forces in the no-nonbonded final system\n",
      "INFO:geometry:\tthere are 72 torsion forces in the no-nonbonded final system\n",
      "INFO:geometry:forward final system defined with 0 neglected angles.\n"
     ]
    },
    {
     "name": "stdout",
     "output_type": "stream",
     "text": [
      "conducting subsequent work with the following platform: CUDA\n",
      "conducting subsequent work with the following platform: CUDA\n"
     ]
    },
    {
     "name": "stderr",
     "output_type": "stream",
     "text": [
      "INFO:geometry:total reduced potential before atom placement: 16.814048311102034\n"
     ]
    },
    {
     "name": "stdout",
     "output_type": "stream",
     "text": [
      "conducting subsequent work with the following platform: CUDA\n",
      "conducting subsequent work with the following platform: CUDA\n",
      "conducting subsequent work with the following platform: CUDA\n"
     ]
    },
    {
     "name": "stderr",
     "output_type": "stream",
     "text": [
      "INFO:geometry:total reduced energy added from growth system: -78.73549333265761\n",
      "INFO:geometry:final reduced energy -61.92144683957432\n",
      "INFO:geometry:sum of energies: -61.92144502155558\n",
      "INFO:geometry:magnitude of difference in the energies: 1.8180187453253893e-06\n",
      "INFO:geometry:Final logp_proposal: 39.139878513802195\n"
     ]
    },
    {
     "name": "stdout",
     "output_type": "stream",
     "text": [
      "added energy components: [('CustomBondForce', 0.3936198870624234), ('CustomAngleForce', 5.245308825242342), ('CustomTorsionForce', 10.649172721491047), ('CustomBondForce', -95.02359476645344)]\n"
     ]
    },
    {
     "name": "stderr",
     "output_type": "stream",
     "text": [
      "INFO:geometry:logp_reverse: performing reverse proposal\n",
      "INFO:geometry:logp_reverse: unique new atoms detected; proceeding to _logp_propose...\n",
      "INFO:geometry:Conducting forward proposal...\n",
      "INFO:geometry:Computing proposal order with NetworkX...\n",
      "INFO:geometry:number of atoms to be placed: 3\n",
      "INFO:geometry:Atom index proposal order is [13, 12, 11]\n",
      "INFO:geometry:omitted_bonds: []\n",
      "INFO:geometry:direction of proposal is reverse; creating atoms_with_positions from old system/topology\n",
      "INFO:geometry:creating growth system...\n",
      "INFO:geometry:\tcreating bond force...\n",
      "INFO:geometry:\tthere are 9 bonds in reference force.\n",
      "INFO:geometry:\tcreating angle force...\n",
      "INFO:geometry:\tthere are 36 angles in reference force.\n",
      "INFO:geometry:\tcreating torsion force...\n",
      "INFO:geometry:\tcreating extra torsions force...\n",
      "INFO:geometry:\tthere are 42 torsions in reference force.\n",
      "INFO:geometry:\tcreating nonbonded force...\n",
      "INFO:geometry:\t\tgrabbing reference nonbonded method, cutoff, switching function, switching distance...\n",
      "INFO:geometry:\t\tcreating nonbonded exception force (i.e. custom bond for 1,4s)...\n",
      "INFO:geometry:\t\tlooping through exceptions calculating growth indices, and adding appropriate interactions to custom bond force.\n",
      "INFO:geometry:\t\tthere are 98 in the reference Nonbonded force\n",
      "INFO:geometry:Neglected angle terms : []\n",
      "INFO:geometry:omitted_growth_terms: {'bonds': [], 'angles': [], 'torsions': [], '1,4s': []}\n",
      "INFO:geometry:extra torsions: {}\n",
      "INFO:geometry:neglected angle terms include []\n",
      "INFO:geometry:log probability choice of torsions and atom order: -5.0875963352323845\n",
      "INFO:geometry:creating platform, integrators, and contexts; setting growth parameter\n"
     ]
    },
    {
     "name": "stdout",
     "output_type": "stream",
     "text": [
      "conducting subsequent work with the following platform: CUDA\n"
     ]
    },
    {
     "name": "stderr",
     "output_type": "stream",
     "text": [
      "INFO:geometry:setting atoms_with_positions context old positions\n"
     ]
    },
    {
     "name": "stdout",
     "output_type": "stream",
     "text": [
      "conducting subsequent work with the following platform: CUDA\n"
     ]
    },
    {
     "name": "stderr",
     "output_type": "stream",
     "text": [
      "INFO:geometry:There are 3 new atoms\n",
      "INFO:geometry:\treduced angle potential = 7.390951941228323e-11.\n",
      "INFO:geometry:\treduced angle potential = 3.205828647416432e-13.\n",
      "INFO:geometry:\treduced angle potential = 1.2915573155343707e-10.\n",
      "INFO:geometry:\tbeginning construction of no_nonbonded final system...\n",
      "INFO:geometry:\tinitial no-nonbonded final system forces ['HarmonicBondForce', 'HarmonicAngleForce', 'PeriodicTorsionForce', 'NonbondedForce']\n",
      "INFO:geometry:\tfinal no-nonbonded final system forces dict_keys(['HarmonicBondForce', 'HarmonicAngleForce', 'PeriodicTorsionForce', 'NonbondedForce'])\n",
      "INFO:geometry:\tthere are 9 bond forces in the no-nonbonded final system\n",
      "INFO:geometry:\tthere are 36 angle forces in the no-nonbonded final system\n",
      "INFO:geometry:\tthere are 42 torsion forces in the no-nonbonded final system\n",
      "INFO:geometry:reverse final system defined with 0 neglected angles.\n"
     ]
    },
    {
     "name": "stdout",
     "output_type": "stream",
     "text": [
      "conducting subsequent work with the following platform: CUDA\n",
      "conducting subsequent work with the following platform: CUDA\n"
     ]
    },
    {
     "name": "stderr",
     "output_type": "stream",
     "text": [
      "INFO:geometry:total reduced potential before atom placement: 16.814048311102034\n"
     ]
    },
    {
     "name": "stdout",
     "output_type": "stream",
     "text": [
      "conducting subsequent work with the following platform: CUDA\n",
      "conducting subsequent work with the following platform: CUDA\n",
      "conducting subsequent work with the following platform: CUDA\n"
     ]
    },
    {
     "name": "stderr",
     "output_type": "stream",
     "text": [
      "INFO:geometry:total reduced energy added from growth system: 8.81651499884088\n",
      "INFO:geometry:final reduced energy 25.630563767506082\n",
      "INFO:geometry:sum of energies: 25.630563309942914\n",
      "INFO:geometry:magnitude of difference in the energies: 4.575631677994352e-07\n",
      "INFO:geometry:Final logp_proposal: 14.67597728802957\n"
     ]
    },
    {
     "name": "stdout",
     "output_type": "stream",
     "text": [
      "added energy components: [('CustomBondForce', 0.0), ('CustomAngleForce', 0.0001781006016944201), ('CustomTorsionForce', 0.0043368105421684325), ('CustomBondForce', 8.812000087697017)]\n"
     ]
    },
    {
     "name": "stderr",
     "output_type": "stream",
     "text": [
      "INFO:relative:Old system forces: dict_keys(['HarmonicBondForce', 'HarmonicAngleForce', 'PeriodicTorsionForce', 'NonbondedForce'])\n",
      "INFO:relative:New system forces: dict_keys(['HarmonicBondForce', 'HarmonicAngleForce', 'PeriodicTorsionForce', 'NonbondedForce'])\n",
      "INFO:relative:No unknown forces.\n",
      "INFO:relative:Nonbonded method to be used (i.e. from old system): 0\n",
      "INFO:relative:Adding and mapping old atoms to hybrid system...\n",
      "INFO:relative:Adding and mapping new atoms to hybrid system...\n",
      "INFO:relative:No MonteCarloBarostat added.\n",
      "INFO:relative:getDefaultPeriodicBoxVectors added to hybrid: [Quantity(value=Vec3(x=2.0, y=0.0, z=0.0), unit=nanometer), Quantity(value=Vec3(x=0.0, y=2.0, z=0.0), unit=nanometer), Quantity(value=Vec3(x=0.0, y=0.0, z=2.0), unit=nanometer)]\n",
      "INFO:relative:Determined atom classes.\n",
      "INFO:relative:Generating old system exceptions dict...\n",
      "INFO:relative:Generating new system exceptions dict...\n",
      "INFO:relative:Handling constraints...\n",
      "INFO:relative:Handling virtual sites...\n",
      "INFO:relative:\t_handle_virtual_sites: numVirtualSites: 0\n",
      "INFO:relative:\t_add_nonbonded_force_terms: <simtk.openmm.openmm.NonbondedForce; proxy of <Swig Object of type 'OpenMM::NonbondedForce *' at 0x2ae1a14f9db0> > added to hybrid system\n",
      "INFO:relative:\t_add_nonbonded_force_terms: nonbonded_method is NoCutoff\n",
      "INFO:relative:\t_add_nonbonded_force_terms: 0 added to standard nonbonded force\n",
      "INFO:relative:\t_add_nonbonded_force_terms: 0 added to sterics_custom_nonbonded force\n"
     ]
    }
   ],
   "source": [
    "# Generate htf for capped ALA->THR in vacuum\n",
    "atp, sys_gen = generate_atp()\n",
    "\n",
    "# At alanine endstate\n",
    "htf_0 = generate_dipeptide_top_pos_sys(atp.topology, \n",
    "                                         new_res = 'THR', \n",
    "                                         system = atp.system, \n",
    "                                         positions = atp.positions,\n",
    "                                         system_generator = sys_gen, \n",
    "                                         conduct_htf_prop=True,\n",
    "                                         repartitioned=True, endstate=0, validate_endstate_energy=False)"
   ]
  },
  {
   "cell_type": "code",
   "execution_count": 19,
   "metadata": {
    "scrolled": true
   },
   "outputs": [
    {
     "name": "stderr",
     "output_type": "stream",
     "text": [
      "INFO:proposal_generator:\tConducting polymer point mutation proposal...\n",
      "INFO:proposal_generator:Using matching_criterion to chose best atom map\n",
      "INFO:proposal_generator:Scaffold has symmetry of 0\n",
      "WARNING:proposal_generator:Two molecules are not similar to have a common scaffold\n",
      "WARNING:proposal_generator:Proceeding with direct mapping of molecules, but please check atom mapping and the geometry of the ligands.\n",
      "INFO:proposal_generator:len [{4: 4, 9: 9}]\n",
      "INFO:proposal_generator:{4: 4, 9: 9}\n",
      "INFO:proposal_generator:Only one map so returning that one\n",
      "INFO:proposal_generator:{4: 4, 9: 9}\n",
      "INFO:geometry:propose: performing forward proposal\n",
      "INFO:geometry:propose: unique new atoms detected; proceeding to _logp_propose...\n",
      "INFO:geometry:Conducting forward proposal...\n",
      "INFO:geometry:Computing proposal order with NetworkX...\n",
      "INFO:geometry:number of atoms to be placed: 7\n",
      "INFO:geometry:Atom index proposal order is [14, 18, 19, 16, 13, 17, 15]\n",
      "INFO:geometry:omitted_bonds: []\n",
      "INFO:geometry:direction of proposal is forward; creating atoms_with_positions and new positions from old system/topology...\n",
      "INFO:geometry:creating growth system...\n",
      "INFO:geometry:\tcreating bond force...\n",
      "INFO:geometry:\tthere are 11 bonds in reference force.\n",
      "INFO:geometry:\tcreating angle force...\n",
      "INFO:geometry:\tthere are 43 angles in reference force.\n",
      "INFO:geometry:\tcreating torsion force...\n"
     ]
    },
    {
     "name": "stdout",
     "output_type": "stream",
     "text": [
      "making topology proposal\n",
      "generating geometry engine\n",
      "making geometry proposal from ALA to THR\n"
     ]
    },
    {
     "name": "stderr",
     "output_type": "stream",
     "text": [
      "INFO:geometry:\tcreating extra torsions force...\n",
      "INFO:geometry:\tthere are 72 torsions in reference force.\n",
      "INFO:geometry:\tcreating nonbonded force...\n",
      "INFO:geometry:\t\tgrabbing reference nonbonded method, cutoff, switching function, switching distance...\n",
      "INFO:geometry:\t\tcreating nonbonded exception force (i.e. custom bond for 1,4s)...\n",
      "INFO:geometry:\t\tlooping through exceptions calculating growth indices, and adding appropriate interactions to custom bond force.\n",
      "INFO:geometry:\t\tthere are 121 in the reference Nonbonded force\n",
      "INFO:geometry:Neglected angle terms : []\n",
      "INFO:geometry:omitted_growth_terms: {'bonds': [], 'angles': [], 'torsions': [], '1,4s': []}\n",
      "INFO:geometry:extra torsions: {0: (14, 10, 8, 18, [1, Quantity(value=1.0655064807976995, unit=radian), Quantity(value=120.0, unit=kilocalorie/mole), 2])}\n",
      "INFO:geometry:neglected angle terms include []\n",
      "INFO:geometry:log probability choice of torsions and atom order: -12.678448458920965\n",
      "INFO:geometry:creating platform, integrators, and contexts; setting growth parameter\n"
     ]
    },
    {
     "name": "stdout",
     "output_type": "stream",
     "text": [
      "conducting subsequent work with the following platform: CUDA\n"
     ]
    },
    {
     "name": "stderr",
     "output_type": "stream",
     "text": [
      "INFO:geometry:setting atoms_with_positions context new positions\n"
     ]
    },
    {
     "name": "stdout",
     "output_type": "stream",
     "text": [
      "conducting subsequent work with the following platform: CUDA\n"
     ]
    },
    {
     "name": "stderr",
     "output_type": "stream",
     "text": [
      "INFO:geometry:There are 7 new atoms\n",
      "INFO:geometry:\treduced angle potential = 0.08850239291350784.\n",
      "INFO:geometry:\treduced angle potential = 0.5170342989313403.\n",
      "INFO:geometry:\treduced angle potential = 0.5147633685245022.\n",
      "INFO:geometry:\treduced angle potential = 0.010583022083134604.\n",
      "INFO:geometry:\treduced angle potential = 0.00028929749659679823.\n",
      "INFO:geometry:\treduced angle potential = 0.09162056414135346.\n",
      "INFO:geometry:\treduced angle potential = 0.02618764187845028.\n",
      "INFO:geometry:\tbeginning construction of no_nonbonded final system...\n",
      "INFO:geometry:\tinitial no-nonbonded final system forces ['HarmonicBondForce', 'HarmonicAngleForce', 'PeriodicTorsionForce', 'NonbondedForce']\n",
      "INFO:geometry:\tfinal no-nonbonded final system forces dict_keys(['HarmonicBondForce', 'HarmonicAngleForce', 'PeriodicTorsionForce', 'NonbondedForce'])\n",
      "INFO:geometry:\tthere are 11 bond forces in the no-nonbonded final system\n",
      "INFO:geometry:\tthere are 43 angle forces in the no-nonbonded final system\n",
      "INFO:geometry:\tthere are 72 torsion forces in the no-nonbonded final system\n",
      "INFO:geometry:forward final system defined with 0 neglected angles.\n"
     ]
    },
    {
     "name": "stdout",
     "output_type": "stream",
     "text": [
      "conducting subsequent work with the following platform: CUDA\n"
     ]
    },
    {
     "name": "stderr",
     "output_type": "stream",
     "text": [
      "INFO:geometry:total reduced potential before atom placement: 16.814048311102034\n"
     ]
    },
    {
     "name": "stdout",
     "output_type": "stream",
     "text": [
      "conducting subsequent work with the following platform: CUDA\n",
      "conducting subsequent work with the following platform: CUDA\n",
      "conducting subsequent work with the following platform: CUDA\n",
      "conducting subsequent work with the following platform: CUDA\n"
     ]
    },
    {
     "name": "stderr",
     "output_type": "stream",
     "text": [
      "INFO:geometry:total reduced energy added from growth system: -55.276810178587986\n",
      "INFO:geometry:final reduced energy -38.462763546564254\n",
      "INFO:geometry:sum of energies: -38.46276186748595\n",
      "INFO:geometry:magnitude of difference in the energies: 1.6790783021747302e-06\n",
      "INFO:geometry:Final logp_proposal: 34.246869388130946\n"
     ]
    },
    {
     "name": "stdout",
     "output_type": "stream",
     "text": [
      "added energy components: [('CustomBondForce', 3.5931559915039686), ('CustomAngleForce', 3.4124709977998586), ('CustomTorsionForce', 13.611558311806814), ('CustomBondForce', -75.89399547969863)]\n"
     ]
    },
    {
     "name": "stderr",
     "output_type": "stream",
     "text": [
      "INFO:geometry:logp_reverse: performing reverse proposal\n",
      "INFO:geometry:logp_reverse: unique new atoms detected; proceeding to _logp_propose...\n",
      "INFO:geometry:Conducting forward proposal...\n",
      "INFO:geometry:Computing proposal order with NetworkX...\n",
      "INFO:geometry:number of atoms to be placed: 3\n",
      "INFO:geometry:Atom index proposal order is [12, 13, 11]\n",
      "INFO:geometry:omitted_bonds: []\n",
      "INFO:geometry:direction of proposal is reverse; creating atoms_with_positions from old system/topology\n",
      "INFO:geometry:creating growth system...\n",
      "INFO:geometry:\tcreating bond force...\n",
      "INFO:geometry:\tthere are 9 bonds in reference force.\n",
      "INFO:geometry:\tcreating angle force...\n",
      "INFO:geometry:\tthere are 36 angles in reference force.\n",
      "INFO:geometry:\tcreating torsion force...\n",
      "INFO:geometry:\tcreating extra torsions force...\n",
      "INFO:geometry:\tthere are 42 torsions in reference force.\n",
      "INFO:geometry:\tcreating nonbonded force...\n",
      "INFO:geometry:\t\tgrabbing reference nonbonded method, cutoff, switching function, switching distance...\n",
      "INFO:geometry:\t\tcreating nonbonded exception force (i.e. custom bond for 1,4s)...\n",
      "INFO:geometry:\t\tlooping through exceptions calculating growth indices, and adding appropriate interactions to custom bond force.\n",
      "INFO:geometry:\t\tthere are 98 in the reference Nonbonded force\n",
      "INFO:geometry:Neglected angle terms : []\n",
      "INFO:geometry:omitted_growth_terms: {'bonds': [], 'angles': [], 'torsions': [], '1,4s': []}\n",
      "INFO:geometry:extra torsions: {}\n",
      "INFO:geometry:neglected angle terms include []\n",
      "INFO:geometry:log probability choice of torsions and atom order: -5.0875963352323845\n",
      "INFO:geometry:creating platform, integrators, and contexts; setting growth parameter\n"
     ]
    },
    {
     "name": "stdout",
     "output_type": "stream",
     "text": [
      "conducting subsequent work with the following platform: CUDA\n"
     ]
    },
    {
     "name": "stderr",
     "output_type": "stream",
     "text": [
      "INFO:geometry:setting atoms_with_positions context old positions\n"
     ]
    },
    {
     "name": "stdout",
     "output_type": "stream",
     "text": [
      "conducting subsequent work with the following platform: CUDA\n"
     ]
    },
    {
     "name": "stderr",
     "output_type": "stream",
     "text": [
      "INFO:geometry:There are 3 new atoms\n",
      "INFO:geometry:\treduced angle potential = 3.205828647416432e-13.\n",
      "INFO:geometry:\treduced angle potential = 7.390951941228323e-11.\n",
      "INFO:geometry:\treduced angle potential = 1.2915573155343707e-10.\n",
      "INFO:geometry:\tbeginning construction of no_nonbonded final system...\n",
      "INFO:geometry:\tinitial no-nonbonded final system forces ['HarmonicBondForce', 'HarmonicAngleForce', 'PeriodicTorsionForce', 'NonbondedForce']\n",
      "INFO:geometry:\tfinal no-nonbonded final system forces dict_keys(['HarmonicBondForce', 'HarmonicAngleForce', 'PeriodicTorsionForce', 'NonbondedForce'])\n",
      "INFO:geometry:\tthere are 9 bond forces in the no-nonbonded final system\n",
      "INFO:geometry:\tthere are 36 angle forces in the no-nonbonded final system\n",
      "INFO:geometry:\tthere are 42 torsion forces in the no-nonbonded final system\n",
      "INFO:geometry:reverse final system defined with 0 neglected angles.\n"
     ]
    },
    {
     "name": "stdout",
     "output_type": "stream",
     "text": [
      "conducting subsequent work with the following platform: CUDA\n",
      "conducting subsequent work with the following platform: CUDA\n"
     ]
    },
    {
     "name": "stderr",
     "output_type": "stream",
     "text": [
      "INFO:geometry:total reduced potential before atom placement: 16.814048311102034\n"
     ]
    },
    {
     "name": "stdout",
     "output_type": "stream",
     "text": [
      "conducting subsequent work with the following platform: CUDA\n",
      "conducting subsequent work with the following platform: CUDA\n",
      "conducting subsequent work with the following platform: CUDA\n"
     ]
    },
    {
     "name": "stderr",
     "output_type": "stream",
     "text": [
      "INFO:geometry:total reduced energy added from growth system: 8.81651499884088\n",
      "INFO:geometry:final reduced energy 25.630563767506082\n",
      "INFO:geometry:sum of energies: 25.630563309942914\n",
      "INFO:geometry:magnitude of difference in the energies: 4.575631677994352e-07\n",
      "INFO:geometry:Final logp_proposal: 13.404593253756095\n"
     ]
    },
    {
     "name": "stdout",
     "output_type": "stream",
     "text": [
      "added energy components: [('CustomBondForce', 0.0), ('CustomAngleForce', 0.0001781006016944201), ('CustomTorsionForce', 0.0043368105421684325), ('CustomBondForce', 8.812000087697017)]\n"
     ]
    },
    {
     "name": "stderr",
     "output_type": "stream",
     "text": [
      "INFO:relative:Old system forces: dict_keys(['HarmonicBondForce', 'HarmonicAngleForce', 'PeriodicTorsionForce', 'NonbondedForce'])\n",
      "INFO:relative:New system forces: dict_keys(['HarmonicBondForce', 'HarmonicAngleForce', 'PeriodicTorsionForce', 'NonbondedForce'])\n",
      "INFO:relative:No unknown forces.\n",
      "INFO:relative:Nonbonded method to be used (i.e. from old system): 0\n",
      "INFO:relative:Adding and mapping old atoms to hybrid system...\n",
      "INFO:relative:Adding and mapping new atoms to hybrid system...\n",
      "INFO:relative:No MonteCarloBarostat added.\n",
      "INFO:relative:getDefaultPeriodicBoxVectors added to hybrid: [Quantity(value=Vec3(x=2.0, y=0.0, z=0.0), unit=nanometer), Quantity(value=Vec3(x=0.0, y=2.0, z=0.0), unit=nanometer), Quantity(value=Vec3(x=0.0, y=0.0, z=2.0), unit=nanometer)]\n",
      "INFO:relative:Determined atom classes.\n",
      "INFO:relative:Generating old system exceptions dict...\n",
      "INFO:relative:Generating new system exceptions dict...\n",
      "INFO:relative:Handling constraints...\n",
      "INFO:relative:Handling virtual sites...\n",
      "INFO:relative:\t_handle_virtual_sites: numVirtualSites: 0\n",
      "INFO:relative:\t_add_nonbonded_force_terms: <simtk.openmm.openmm.NonbondedForce; proxy of <Swig Object of type 'OpenMM::NonbondedForce *' at 0x2ae1a14f9a80> > added to hybrid system\n",
      "INFO:relative:\t_add_nonbonded_force_terms: nonbonded_method is NoCutoff\n",
      "INFO:relative:\t_add_nonbonded_force_terms: 0 added to standard nonbonded force\n",
      "INFO:relative:\t_add_nonbonded_force_terms: 0 added to sterics_custom_nonbonded force\n"
     ]
    }
   ],
   "source": [
    "# At threonine endstate\n",
    "htf_1 = generate_dipeptide_top_pos_sys(atp.topology, \n",
    "                                         new_res = 'THR', \n",
    "                                         system = atp.system, \n",
    "                                         positions = atp.positions,\n",
    "                                         system_generator = sys_gen, \n",
    "                                         conduct_htf_prop=True,\n",
    "                                         repartitioned=True, endstate=1, validate_endstate_energy=False)"
   ]
  },
  {
   "cell_type": "markdown",
   "metadata": {},
   "source": [
    "### THR"
   ]
  },
  {
   "cell_type": "code",
   "execution_count": 20,
   "metadata": {},
   "outputs": [
    {
     "data": {
      "text/plain": [
       "{0: 0,\n",
       " 1: 1,\n",
       " 2: 2,\n",
       " 3: 3,\n",
       " 4: 4,\n",
       " 5: 5,\n",
       " 6: 6,\n",
       " 7: 7,\n",
       " 8: 8,\n",
       " 9: 9,\n",
       " 10: 10,\n",
       " 11: 14,\n",
       " 12: 15,\n",
       " 20: 16,\n",
       " 21: 17,\n",
       " 22: 18,\n",
       " 23: 19,\n",
       " 24: 20,\n",
       " 25: 21,\n",
       " 13: 22,\n",
       " 14: 23,\n",
       " 15: 24,\n",
       " 16: 25,\n",
       " 17: 26,\n",
       " 18: 27,\n",
       " 19: 28}"
      ]
     },
     "execution_count": 20,
     "metadata": {},
     "output_type": "execute_result"
    }
   ],
   "source": [
    "htf_0.new_to_hybrid_atom_map"
   ]
  },
  {
   "cell_type": "code",
   "execution_count": 21,
   "metadata": {},
   "outputs": [
    {
     "name": "stdout",
     "output_type": "stream",
     "text": [
      "periodicities: [4, 3, 2, 1]\n",
      "phase offsets: [Quantity(value=0.0, unit=radian), Quantity(value=0.0, unit=radian), Quantity(value=0.0, unit=radian), Quantity(value=0.0, unit=radian)]\n",
      "ks: [Quantity(value=0.39748, unit=kilojoule/mole), Quantity(value=1.31796, unit=kilojoule/mole), Quantity(value=0.025104, unit=kilojoule/mole), Quantity(value=2.8200160000000003, unit=kilojoule/mole)]\n",
      "angles: [-3.14159265 -2.44346095 -1.74532925 -1.04719755 -0.34906585  0.34906585\n",
      "  1.04719755  1.74532925  2.44346095  3.14159265]\n",
      "energies: [0.845168, 2.6901326546355606, 5.010746662307136, 4.4413160000000005, 7.957740683057306, 7.957740683057306, 4.441316000000001, 5.010746662307136, 2.6901326546355606, 0.845168]\n"
     ]
    },
    {
     "data": {
      "image/png": "[encoded data removed]",
      "text/plain": [
       "<Figure size 432x288 with 1 Axes>"
      ]
     },
     "metadata": {
      "needs_background": "light"
     },
     "output_type": "display_data"
    }
   ],
   "source": [
    "torsion_force = htf_0.hybrid_system.getForce(2)\n",
    "plot_torsion_energy(torsion_force, [27, 10, 8, 6], [18, 10, 8, 6], htf_0._topology_proposal.new_topology, np.array(htf_0.new_positions(htf_0.hybrid_positions)))"
   ]
  },
  {
   "cell_type": "markdown",
   "metadata": {},
   "source": [
    "### ALA"
   ]
  },
  {
   "cell_type": "code",
   "execution_count": 22,
   "metadata": {},
   "outputs": [
    {
     "name": "stdout",
     "output_type": "stream",
     "text": [
      "<Atom 0 (H1) of chain 0 residue 0 (ACE)>\n",
      "<Atom 1 (CH3) of chain 0 residue 0 (ACE)>\n",
      "<Atom 2 (H2) of chain 0 residue 0 (ACE)>\n",
      "<Atom 3 (H3) of chain 0 residue 0 (ACE)>\n",
      "<Atom 4 (C) of chain 0 residue 0 (ACE)>\n",
      "<Atom 5 (O) of chain 0 residue 0 (ACE)>\n",
      "<Atom 6 (N) of chain 0 residue 1 (ALA)>\n",
      "<Atom 7 (H) of chain 0 residue 1 (ALA)>\n",
      "<Atom 8 (CA) of chain 0 residue 1 (ALA)>\n",
      "<Atom 9 (HA) of chain 0 residue 1 (ALA)>\n",
      "<Atom 10 (CB) of chain 0 residue 1 (ALA)>\n",
      "<Atom 11 (HB1) of chain 0 residue 1 (ALA)>\n",
      "<Atom 12 (HB2) of chain 0 residue 1 (ALA)>\n",
      "<Atom 13 (HB3) of chain 0 residue 1 (ALA)>\n",
      "<Atom 14 (C) of chain 0 residue 1 (ALA)>\n",
      "<Atom 15 (O) of chain 0 residue 1 (ALA)>\n",
      "<Atom 16 (N) of chain 0 residue 2 (NME)>\n",
      "<Atom 17 (H) of chain 0 residue 2 (NME)>\n",
      "<Atom 18 (C) of chain 0 residue 2 (NME)>\n",
      "<Atom 19 (H1) of chain 0 residue 2 (NME)>\n",
      "<Atom 20 (H2) of chain 0 residue 2 (NME)>\n",
      "<Atom 21 (H3) of chain 0 residue 2 (NME)>\n"
     ]
    }
   ],
   "source": [
    "for atom in htf_0._topology_proposal.old_topology.atoms():\n",
    "    print(atom)"
   ]
  },
  {
   "cell_type": "code",
   "execution_count": 23,
   "metadata": {},
   "outputs": [
    {
     "data": {
      "text/plain": [
       "{0: 0,\n",
       " 1: 1,\n",
       " 2: 2,\n",
       " 3: 3,\n",
       " 4: 4,\n",
       " 5: 5,\n",
       " 6: 6,\n",
       " 7: 7,\n",
       " 8: 8,\n",
       " 9: 9,\n",
       " 10: 10,\n",
       " 11: 11,\n",
       " 12: 12,\n",
       " 13: 13,\n",
       " 14: 14,\n",
       " 15: 15,\n",
       " 16: 16,\n",
       " 17: 17,\n",
       " 18: 18,\n",
       " 19: 19,\n",
       " 20: 20,\n",
       " 21: 21}"
      ]
     },
     "execution_count": 23,
     "metadata": {},
     "output_type": "execute_result"
    }
   ],
   "source": [
    "htf_0.old_to_hybrid_atom_map"
   ]
  },
  {
   "cell_type": "code",
   "execution_count": 24,
   "metadata": {
    "scrolled": true
   },
   "outputs": [
    {
     "name": "stdout",
     "output_type": "stream",
     "text": [
      "[0, 1, 4, 5, 1, Quantity(value=0.0, unit=radian), Quantity(value=3.3472000000000004, unit=kilojoule/mole)]\n",
      "[0, 1, 4, 5, 3, Quantity(value=3.141592653589793, unit=radian), Quantity(value=0.33472, unit=kilojoule/mole)]\n",
      "[1, 4, 6, 7, 2, Quantity(value=3.141592653589793, unit=radian), Quantity(value=10.46, unit=kilojoule/mole)]\n",
      "[1, 4, 6, 8, 2, Quantity(value=3.141592653589793, unit=radian), Quantity(value=10.46, unit=kilojoule/mole)]\n",
      "[2, 1, 4, 5, 1, Quantity(value=0.0, unit=radian), Quantity(value=3.3472000000000004, unit=kilojoule/mole)]\n",
      "[2, 1, 4, 5, 3, Quantity(value=3.141592653589793, unit=radian), Quantity(value=0.33472, unit=kilojoule/mole)]\n",
      "[3, 1, 4, 5, 1, Quantity(value=0.0, unit=radian), Quantity(value=3.3472000000000004, unit=kilojoule/mole)]\n",
      "[3, 1, 4, 5, 3, Quantity(value=3.141592653589793, unit=radian), Quantity(value=0.33472, unit=kilojoule/mole)]\n",
      "[4, 6, 8, 10, 3, Quantity(value=0.0, unit=radian), Quantity(value=3.3472000000000004, unit=kilojoule/mole)]\n",
      "[4, 6, 8, 10, 2, Quantity(value=0.0, unit=radian), Quantity(value=7.5312, unit=kilojoule/mole)]\n",
      "[4, 6, 8, 10, 1, Quantity(value=0.0, unit=radian), Quantity(value=8.368, unit=kilojoule/mole)]\n",
      "[4, 6, 8, 14, 3, Quantity(value=0.0, unit=radian), Quantity(value=1.75728, unit=kilojoule/mole)]\n",
      "[4, 6, 8, 14, 2, Quantity(value=0.0, unit=radian), Quantity(value=1.12968, unit=kilojoule/mole)]\n",
      "[5, 4, 6, 7, 2, Quantity(value=3.141592653589793, unit=radian), Quantity(value=10.46, unit=kilojoule/mole)]\n",
      "[5, 4, 6, 7, 1, Quantity(value=0.0, unit=radian), Quantity(value=8.368, unit=kilojoule/mole)]\n",
      "[5, 4, 6, 8, 2, Quantity(value=3.141592653589793, unit=radian), Quantity(value=10.46, unit=kilojoule/mole)]\n",
      "[6, 8, 10, 11, 3, Quantity(value=0.0, unit=radian), Quantity(value=0.6508444444444444, unit=kilojoule/mole)]\n",
      "[6, 8, 10, 12, 3, Quantity(value=0.0, unit=radian), Quantity(value=0.6508444444444444, unit=kilojoule/mole)]\n",
      "[6, 8, 10, 13, 3, Quantity(value=0.0, unit=radian), Quantity(value=0.6508444444444444, unit=kilojoule/mole)]\n",
      "[6, 8, 14, 16, 3, Quantity(value=3.141592653589793, unit=radian), Quantity(value=2.3012, unit=kilojoule/mole)]\n",
      "[6, 8, 14, 16, 2, Quantity(value=3.141592653589793, unit=radian), Quantity(value=6.610720000000001, unit=kilojoule/mole)]\n",
      "[6, 8, 14, 16, 1, Quantity(value=3.141592653589793, unit=radian), Quantity(value=1.8828, unit=kilojoule/mole)]\n",
      "[8, 14, 16, 17, 2, Quantity(value=3.141592653589793, unit=radian), Quantity(value=10.46, unit=kilojoule/mole)]\n",
      "[8, 14, 16, 18, 2, Quantity(value=3.141592653589793, unit=radian), Quantity(value=10.46, unit=kilojoule/mole)]\n",
      "[9, 8, 10, 11, 3, Quantity(value=0.0, unit=radian), Quantity(value=0.6508444444444444, unit=kilojoule/mole)]\n",
      "[9, 8, 10, 12, 3, Quantity(value=0.0, unit=radian), Quantity(value=0.6508444444444444, unit=kilojoule/mole)]\n",
      "[9, 8, 10, 13, 3, Quantity(value=0.0, unit=radian), Quantity(value=0.6508444444444444, unit=kilojoule/mole)]\n",
      "[9, 8, 14, 15, 1, Quantity(value=0.0, unit=radian), Quantity(value=3.3472000000000004, unit=kilojoule/mole)]\n",
      "[9, 8, 14, 15, 3, Quantity(value=3.141592653589793, unit=radian), Quantity(value=0.33472, unit=kilojoule/mole)]\n",
      "[10, 8, 14, 16, 3, Quantity(value=0.0, unit=radian), Quantity(value=1.6736000000000002, unit=kilojoule/mole)]\n",
      "[10, 8, 14, 16, 2, Quantity(value=0.0, unit=radian), Quantity(value=0.8368000000000001, unit=kilojoule/mole)]\n",
      "[10, 8, 14, 16, 1, Quantity(value=0.0, unit=radian), Quantity(value=0.8368000000000001, unit=kilojoule/mole)]\n",
      "[11, 10, 8, 14, 3, Quantity(value=0.0, unit=radian), Quantity(value=0.6508444444444444, unit=kilojoule/mole)]\n",
      "[12, 10, 8, 14, 3, Quantity(value=0.0, unit=radian), Quantity(value=0.6508444444444444, unit=kilojoule/mole)]\n",
      "[13, 10, 8, 14, 3, Quantity(value=0.0, unit=radian), Quantity(value=0.6508444444444444, unit=kilojoule/mole)]\n",
      "[15, 14, 16, 17, 2, Quantity(value=3.141592653589793, unit=radian), Quantity(value=10.46, unit=kilojoule/mole)]\n",
      "[15, 14, 16, 17, 1, Quantity(value=0.0, unit=radian), Quantity(value=8.368, unit=kilojoule/mole)]\n",
      "[15, 14, 16, 18, 2, Quantity(value=3.141592653589793, unit=radian), Quantity(value=10.46, unit=kilojoule/mole)]\n",
      "[1, 6, 4, 5, 2, Quantity(value=3.141592653589793, unit=radian), Quantity(value=43.932, unit=kilojoule/mole)]\n",
      "[4, 8, 6, 7, 2, Quantity(value=3.141592653589793, unit=radian), Quantity(value=4.6024, unit=kilojoule/mole)]\n",
      "[8, 16, 14, 15, 2, Quantity(value=3.141592653589793, unit=radian), Quantity(value=43.932, unit=kilojoule/mole)]\n",
      "[14, 18, 16, 17, 2, Quantity(value=3.141592653589793, unit=radian), Quantity(value=4.6024, unit=kilojoule/mole)]\n",
      "[6, 8, 10, 22, 3, Quantity(value=0.0, unit=radian), Quantity(value=0.6508444444444444, unit=kilojoule/mole)]\n",
      "[6, 8, 10, 23, 4, Quantity(value=3.141592653589793, unit=radian), Quantity(value=0.004184, unit=kilojoule/mole)]\n",
      "[6, 8, 10, 23, 3, Quantity(value=0.0, unit=radian), Quantity(value=0.619232, unit=kilojoule/mole)]\n",
      "[6, 8, 10, 23, 2, Quantity(value=3.141592653589793, unit=radian), Quantity(value=0.903744, unit=kilojoule/mole)]\n",
      "[6, 8, 10, 23, 1, Quantity(value=0.0, unit=radian), Quantity(value=1.4100080000000002, unit=kilojoule/mole)]\n",
      "[6, 8, 10, 27, 4, Quantity(value=0.0, unit=radian), Quantity(value=0.39748, unit=kilojoule/mole)]\n",
      "[6, 8, 10, 27, 3, Quantity(value=0.0, unit=radian), Quantity(value=1.31796, unit=kilojoule/mole)]\n",
      "[6, 8, 10, 27, 2, Quantity(value=0.0, unit=radian), Quantity(value=0.025104, unit=kilojoule/mole)]\n",
      "[6, 8, 10, 27, 1, Quantity(value=0.0, unit=radian), Quantity(value=2.8200160000000003, unit=kilojoule/mole)]\n",
      "[8, 10, 23, 24, 3, Quantity(value=0.0, unit=radian), Quantity(value=0.66944, unit=kilojoule/mole)]\n",
      "[8, 10, 23, 25, 3, Quantity(value=0.0, unit=radian), Quantity(value=0.66944, unit=kilojoule/mole)]\n",
      "[8, 10, 23, 26, 3, Quantity(value=0.0, unit=radian), Quantity(value=0.66944, unit=kilojoule/mole)]\n",
      "[8, 10, 27, 28, 4, Quantity(value=0.0, unit=radian), Quantity(value=0.054392, unit=kilojoule/mole)]\n",
      "[8, 10, 27, 28, 3, Quantity(value=0.0, unit=radian), Quantity(value=0.987424, unit=kilojoule/mole)]\n",
      "[8, 10, 27, 28, 2, Quantity(value=0.0, unit=radian), Quantity(value=1.050184, unit=kilojoule/mole)]\n",
      "[8, 10, 27, 28, 1, Quantity(value=3.141592653589793, unit=radian), Quantity(value=0.025104, unit=kilojoule/mole)]\n",
      "[9, 8, 10, 22, 3, Quantity(value=0.0, unit=radian), Quantity(value=0.6508444444444444, unit=kilojoule/mole)]\n",
      "[9, 8, 10, 23, 3, Quantity(value=0.0, unit=radian), Quantity(value=0.6508444444444444, unit=kilojoule/mole)]\n",
      "[9, 8, 10, 27, 1, Quantity(value=0.0, unit=radian), Quantity(value=1.046, unit=kilojoule/mole)]\n",
      "[14, 8, 10, 22, 3, Quantity(value=0.0, unit=radian), Quantity(value=0.6508444444444444, unit=kilojoule/mole)]\n",
      "[14, 8, 10, 23, 4, Quantity(value=0.0, unit=radian), Quantity(value=0.468608, unit=kilojoule/mole)]\n",
      "[14, 8, 10, 23, 3, Quantity(value=0.0, unit=radian), Quantity(value=0.619232, unit=kilojoule/mole)]\n",
      "[14, 8, 10, 23, 2, Quantity(value=3.141592653589793, unit=radian), Quantity(value=1.209176, unit=kilojoule/mole)]\n",
      "[14, 8, 10, 23, 1, Quantity(value=3.141592653589793, unit=radian), Quantity(value=1.6987040000000002, unit=kilojoule/mole)]\n",
      "[14, 8, 10, 27, 4, Quantity(value=0.0, unit=radian), Quantity(value=0.6527040000000001, unit=kilojoule/mole)]\n",
      "[14, 8, 10, 27, 3, Quantity(value=0.0, unit=radian), Quantity(value=1.31796, unit=kilojoule/mole)]\n",
      "[14, 8, 10, 27, 2, Quantity(value=3.141592653589793, unit=radian), Quantity(value=0.497896, unit=kilojoule/mole)]\n",
      "[14, 8, 10, 27, 1, Quantity(value=3.141592653589793, unit=radian), Quantity(value=2.916248, unit=kilojoule/mole)]\n",
      "[22, 10, 23, 24, 3, Quantity(value=0.0, unit=radian), Quantity(value=0.6508444444444444, unit=kilojoule/mole)]\n",
      "[22, 10, 23, 25, 3, Quantity(value=0.0, unit=radian), Quantity(value=0.6508444444444444, unit=kilojoule/mole)]\n",
      "[22, 10, 23, 26, 3, Quantity(value=0.0, unit=radian), Quantity(value=0.6508444444444444, unit=kilojoule/mole)]\n",
      "[22, 10, 27, 28, 3, Quantity(value=0.0, unit=radian), Quantity(value=0.6973333333333334, unit=kilojoule/mole)]\n",
      "[23, 10, 27, 28, 4, Quantity(value=0.0, unit=radian), Quantity(value=0.200832, unit=kilojoule/mole)]\n",
      "[23, 10, 27, 28, 3, Quantity(value=0.0, unit=radian), Quantity(value=0.987424, unit=kilojoule/mole)]\n",
      "[23, 10, 27, 28, 2, Quantity(value=3.141592653589793, unit=radian), Quantity(value=0.330536, unit=kilojoule/mole)]\n",
      "[23, 10, 27, 28, 1, Quantity(value=0.0, unit=radian), Quantity(value=2.690312, unit=kilojoule/mole)]\n",
      "[24, 23, 10, 27, 1, Quantity(value=0.0, unit=radian), Quantity(value=1.046, unit=kilojoule/mole)]\n",
      "[25, 23, 10, 27, 1, Quantity(value=0.0, unit=radian), Quantity(value=1.046, unit=kilojoule/mole)]\n",
      "[26, 23, 10, 27, 1, Quantity(value=0.0, unit=radian), Quantity(value=1.046, unit=kilojoule/mole)]\n"
     ]
    }
   ],
   "source": [
    "torsion_force = htf_0.hybrid_system.getForce(2)\n",
    "for i in range(torsion_force.getNumTorsions()):\n",
    "    print(torsion_force.getTorsionParameters(i))"
   ]
  },
  {
   "cell_type": "code",
   "execution_count": 25,
   "metadata": {},
   "outputs": [
    {
     "name": "stdout",
     "output_type": "stream",
     "text": [
      "periodicities: [3]\n",
      "phase offsets: [Quantity(value=0.0, unit=radian)]\n",
      "ks: [Quantity(value=0.6508444444444444, unit=kilojoule/mole)]\n",
      "angles: [-3.14159265 -2.44346095 -1.74532925 -1.04719755 -0.34906585  0.34906585\n",
      "  1.04719755  1.74532925  2.44346095  3.14159265]\n",
      "energies: [0.0, 0.976266666666667, 0.9762666666666666, 0.0, 0.9762666666666666, 0.9762666666666666, 0.0, 0.9762666666666663, 0.976266666666667, 0.0]\n"
     ]
    },
    {
     "data": {
      "image/png": "[encoded data removed]",
      "text/plain": [
       "<Figure size 432x288 with 1 Axes>"
      ]
     },
     "metadata": {
      "needs_background": "light"
     },
     "output_type": "display_data"
    }
   ],
   "source": [
    "torsion_force = htf_0.hybrid_system.getForce(2)\n",
    "plot_torsion_energy(torsion_force, [11, 10, 8, 6], [11, 10, 8, 6], htf_0._topology_proposal.old_topology, np.array(htf_0.old_positions(htf_0.hybrid_positions)))"
   ]
  },
  {
   "cell_type": "code",
   "execution_count": 26,
   "metadata": {},
   "outputs": [],
   "source": [
    "# Note: 6, 8, 10, 15 is not present in "
   ]
  },
  {
   "cell_type": "markdown",
   "metadata": {},
   "source": [
    "# ALA->THR lambda=1"
   ]
  },
  {
   "cell_type": "markdown",
   "metadata": {},
   "source": [
    "### THR"
   ]
  },
  {
   "cell_type": "code",
   "execution_count": 27,
   "metadata": {},
   "outputs": [
    {
     "data": {
      "text/plain": [
       "{0: 0,\n",
       " 1: 1,\n",
       " 2: 2,\n",
       " 3: 3,\n",
       " 4: 4,\n",
       " 5: 5,\n",
       " 6: 6,\n",
       " 7: 7,\n",
       " 8: 8,\n",
       " 9: 9,\n",
       " 10: 10,\n",
       " 11: 14,\n",
       " 12: 15,\n",
       " 20: 16,\n",
       " 21: 17,\n",
       " 22: 18,\n",
       " 23: 19,\n",
       " 24: 20,\n",
       " 25: 21,\n",
       " 13: 22,\n",
       " 14: 23,\n",
       " 15: 24,\n",
       " 16: 25,\n",
       " 17: 26,\n",
       " 18: 27,\n",
       " 19: 28}"
      ]
     },
     "execution_count": 27,
     "metadata": {},
     "output_type": "execute_result"
    }
   ],
   "source": [
    "htf_1.new_to_hybrid_atom_map"
   ]
  },
  {
   "cell_type": "code",
   "execution_count": 28,
   "metadata": {},
   "outputs": [
    {
     "name": "stdout",
     "output_type": "stream",
     "text": [
      "periodicities: [4, 3, 2, 1]\n",
      "phase offsets: [Quantity(value=0.0, unit=radian), Quantity(value=0.0, unit=radian), Quantity(value=0.0, unit=radian), Quantity(value=0.0, unit=radian)]\n",
      "ks: [Quantity(value=0.39748, unit=kilojoule/mole), Quantity(value=1.31796, unit=kilojoule/mole), Quantity(value=0.025104, unit=kilojoule/mole), Quantity(value=2.8200160000000003, unit=kilojoule/mole)]\n",
      "angles: [-3.14159265 -2.44346095 -1.74532925 -1.04719755 -0.34906585  0.34906585\n",
      "  1.04719755  1.74532925  2.44346095  3.14159265]\n",
      "energies: [0.845168, 2.6901326546355606, 5.010746662307136, 4.4413160000000005, 7.957740683057306, 7.957740683057306, 4.441316000000001, 5.010746662307136, 2.6901326546355606, 0.845168]\n"
     ]
    },
    {
     "data": {
      "image/png": "[encoded data removed]",
      "text/plain": [
       "<Figure size 432x288 with 1 Axes>"
      ]
     },
     "metadata": {
      "needs_background": "light"
     },
     "output_type": "display_data"
    }
   ],
   "source": [
    "torsion_force = htf_1.hybrid_system.getForce(2)\n",
    "plot_torsion_energy(torsion_force, [27, 10, 8, 6], [18, 10, 8, 6], htf_1._topology_proposal.new_topology, np.array(htf_1.new_positions(htf_1.hybrid_positions)))"
   ]
  },
  {
   "cell_type": "markdown",
   "metadata": {},
   "source": [
    "### ALA"
   ]
  },
  {
   "cell_type": "code",
   "execution_count": 29,
   "metadata": {},
   "outputs": [
    {
     "data": {
      "text/plain": [
       "{0: 0,\n",
       " 1: 1,\n",
       " 2: 2,\n",
       " 3: 3,\n",
       " 4: 4,\n",
       " 5: 5,\n",
       " 6: 6,\n",
       " 7: 7,\n",
       " 8: 8,\n",
       " 9: 9,\n",
       " 10: 10,\n",
       " 11: 11,\n",
       " 12: 12,\n",
       " 13: 13,\n",
       " 14: 14,\n",
       " 15: 15,\n",
       " 16: 16,\n",
       " 17: 17,\n",
       " 18: 18,\n",
       " 19: 19,\n",
       " 20: 20,\n",
       " 21: 21}"
      ]
     },
     "execution_count": 29,
     "metadata": {},
     "output_type": "execute_result"
    }
   ],
   "source": [
    "htf_1.old_to_hybrid_atom_map"
   ]
  },
  {
   "cell_type": "code",
   "execution_count": 30,
   "metadata": {
    "scrolled": true
   },
   "outputs": [
    {
     "name": "stdout",
     "output_type": "stream",
     "text": [
      "[0, 1, 4, 5, 1, Quantity(value=0.0, unit=radian), Quantity(value=3.3472000000000004, unit=kilojoule/mole)]\n",
      "[0, 1, 4, 5, 3, Quantity(value=3.141592653589793, unit=radian), Quantity(value=0.33472, unit=kilojoule/mole)]\n",
      "[1, 4, 6, 7, 2, Quantity(value=3.141592653589793, unit=radian), Quantity(value=10.46, unit=kilojoule/mole)]\n",
      "[1, 4, 6, 8, 2, Quantity(value=3.141592653589793, unit=radian), Quantity(value=10.46, unit=kilojoule/mole)]\n",
      "[2, 1, 4, 5, 1, Quantity(value=0.0, unit=radian), Quantity(value=3.3472000000000004, unit=kilojoule/mole)]\n",
      "[2, 1, 4, 5, 3, Quantity(value=3.141592653589793, unit=radian), Quantity(value=0.33472, unit=kilojoule/mole)]\n",
      "[3, 1, 4, 5, 1, Quantity(value=0.0, unit=radian), Quantity(value=3.3472000000000004, unit=kilojoule/mole)]\n",
      "[3, 1, 4, 5, 3, Quantity(value=3.141592653589793, unit=radian), Quantity(value=0.33472, unit=kilojoule/mole)]\n",
      "[4, 6, 8, 10, 3, Quantity(value=0.0, unit=radian), Quantity(value=3.3472000000000004, unit=kilojoule/mole)]\n",
      "[4, 6, 8, 10, 2, Quantity(value=0.0, unit=radian), Quantity(value=7.5312, unit=kilojoule/mole)]\n",
      "[4, 6, 8, 10, 1, Quantity(value=0.0, unit=radian), Quantity(value=8.368, unit=kilojoule/mole)]\n",
      "[4, 6, 8, 14, 3, Quantity(value=0.0, unit=radian), Quantity(value=1.75728, unit=kilojoule/mole)]\n",
      "[4, 6, 8, 14, 2, Quantity(value=0.0, unit=radian), Quantity(value=1.12968, unit=kilojoule/mole)]\n",
      "[5, 4, 6, 7, 2, Quantity(value=3.141592653589793, unit=radian), Quantity(value=10.46, unit=kilojoule/mole)]\n",
      "[5, 4, 6, 7, 1, Quantity(value=0.0, unit=radian), Quantity(value=8.368, unit=kilojoule/mole)]\n",
      "[5, 4, 6, 8, 2, Quantity(value=3.141592653589793, unit=radian), Quantity(value=10.46, unit=kilojoule/mole)]\n",
      "[6, 8, 10, 22, 3, Quantity(value=0.0, unit=radian), Quantity(value=0.6508444444444444, unit=kilojoule/mole)]\n",
      "[6, 8, 10, 23, 4, Quantity(value=3.141592653589793, unit=radian), Quantity(value=0.004184, unit=kilojoule/mole)]\n",
      "[6, 8, 10, 23, 3, Quantity(value=0.0, unit=radian), Quantity(value=0.619232, unit=kilojoule/mole)]\n",
      "[6, 8, 10, 23, 2, Quantity(value=3.141592653589793, unit=radian), Quantity(value=0.903744, unit=kilojoule/mole)]\n",
      "[6, 8, 10, 23, 1, Quantity(value=0.0, unit=radian), Quantity(value=1.4100080000000002, unit=kilojoule/mole)]\n",
      "[6, 8, 10, 27, 4, Quantity(value=0.0, unit=radian), Quantity(value=0.39748, unit=kilojoule/mole)]\n",
      "[6, 8, 10, 27, 3, Quantity(value=0.0, unit=radian), Quantity(value=1.31796, unit=kilojoule/mole)]\n",
      "[6, 8, 10, 27, 2, Quantity(value=0.0, unit=radian), Quantity(value=0.025104, unit=kilojoule/mole)]\n",
      "[6, 8, 10, 27, 1, Quantity(value=0.0, unit=radian), Quantity(value=2.8200160000000003, unit=kilojoule/mole)]\n",
      "[6, 8, 14, 16, 3, Quantity(value=3.141592653589793, unit=radian), Quantity(value=2.3012, unit=kilojoule/mole)]\n",
      "[6, 8, 14, 16, 2, Quantity(value=3.141592653589793, unit=radian), Quantity(value=6.610720000000001, unit=kilojoule/mole)]\n",
      "[6, 8, 14, 16, 1, Quantity(value=3.141592653589793, unit=radian), Quantity(value=1.8828, unit=kilojoule/mole)]\n",
      "[8, 10, 23, 24, 3, Quantity(value=0.0, unit=radian), Quantity(value=0.66944, unit=kilojoule/mole)]\n",
      "[8, 10, 23, 25, 3, Quantity(value=0.0, unit=radian), Quantity(value=0.66944, unit=kilojoule/mole)]\n",
      "[8, 10, 23, 26, 3, Quantity(value=0.0, unit=radian), Quantity(value=0.66944, unit=kilojoule/mole)]\n",
      "[8, 10, 27, 28, 4, Quantity(value=0.0, unit=radian), Quantity(value=0.054392, unit=kilojoule/mole)]\n",
      "[8, 10, 27, 28, 3, Quantity(value=0.0, unit=radian), Quantity(value=0.987424, unit=kilojoule/mole)]\n",
      "[8, 10, 27, 28, 2, Quantity(value=0.0, unit=radian), Quantity(value=1.050184, unit=kilojoule/mole)]\n",
      "[8, 10, 27, 28, 1, Quantity(value=3.141592653589793, unit=radian), Quantity(value=0.025104, unit=kilojoule/mole)]\n",
      "[8, 14, 16, 17, 2, Quantity(value=3.141592653589793, unit=radian), Quantity(value=10.46, unit=kilojoule/mole)]\n",
      "[8, 14, 16, 18, 2, Quantity(value=3.141592653589793, unit=radian), Quantity(value=10.46, unit=kilojoule/mole)]\n",
      "[9, 8, 10, 22, 3, Quantity(value=0.0, unit=radian), Quantity(value=0.6508444444444444, unit=kilojoule/mole)]\n",
      "[9, 8, 10, 23, 3, Quantity(value=0.0, unit=radian), Quantity(value=0.6508444444444444, unit=kilojoule/mole)]\n",
      "[9, 8, 10, 27, 1, Quantity(value=0.0, unit=radian), Quantity(value=1.046, unit=kilojoule/mole)]\n",
      "[9, 8, 14, 15, 1, Quantity(value=0.0, unit=radian), Quantity(value=3.3472000000000004, unit=kilojoule/mole)]\n",
      "[9, 8, 14, 15, 3, Quantity(value=3.141592653589793, unit=radian), Quantity(value=0.33472, unit=kilojoule/mole)]\n",
      "[10, 8, 14, 16, 3, Quantity(value=0.0, unit=radian), Quantity(value=1.6736000000000002, unit=kilojoule/mole)]\n",
      "[10, 8, 14, 16, 2, Quantity(value=0.0, unit=radian), Quantity(value=0.8368000000000001, unit=kilojoule/mole)]\n",
      "[10, 8, 14, 16, 1, Quantity(value=0.0, unit=radian), Quantity(value=0.8368000000000001, unit=kilojoule/mole)]\n",
      "[14, 8, 10, 22, 3, Quantity(value=0.0, unit=radian), Quantity(value=0.6508444444444444, unit=kilojoule/mole)]\n",
      "[14, 8, 10, 23, 4, Quantity(value=0.0, unit=radian), Quantity(value=0.468608, unit=kilojoule/mole)]\n",
      "[14, 8, 10, 23, 3, Quantity(value=0.0, unit=radian), Quantity(value=0.619232, unit=kilojoule/mole)]\n",
      "[14, 8, 10, 23, 2, Quantity(value=3.141592653589793, unit=radian), Quantity(value=1.209176, unit=kilojoule/mole)]\n",
      "[14, 8, 10, 23, 1, Quantity(value=3.141592653589793, unit=radian), Quantity(value=1.6987040000000002, unit=kilojoule/mole)]\n",
      "[14, 8, 10, 27, 4, Quantity(value=0.0, unit=radian), Quantity(value=0.6527040000000001, unit=kilojoule/mole)]\n",
      "[14, 8, 10, 27, 3, Quantity(value=0.0, unit=radian), Quantity(value=1.31796, unit=kilojoule/mole)]\n",
      "[14, 8, 10, 27, 2, Quantity(value=3.141592653589793, unit=radian), Quantity(value=0.497896, unit=kilojoule/mole)]\n",
      "[14, 8, 10, 27, 1, Quantity(value=3.141592653589793, unit=radian), Quantity(value=2.916248, unit=kilojoule/mole)]\n",
      "[15, 14, 16, 17, 2, Quantity(value=3.141592653589793, unit=radian), Quantity(value=10.46, unit=kilojoule/mole)]\n",
      "[15, 14, 16, 17, 1, Quantity(value=0.0, unit=radian), Quantity(value=8.368, unit=kilojoule/mole)]\n",
      "[15, 14, 16, 18, 2, Quantity(value=3.141592653589793, unit=radian), Quantity(value=10.46, unit=kilojoule/mole)]\n",
      "[22, 10, 23, 24, 3, Quantity(value=0.0, unit=radian), Quantity(value=0.6508444444444444, unit=kilojoule/mole)]\n",
      "[22, 10, 23, 25, 3, Quantity(value=0.0, unit=radian), Quantity(value=0.6508444444444444, unit=kilojoule/mole)]\n",
      "[22, 10, 23, 26, 3, Quantity(value=0.0, unit=radian), Quantity(value=0.6508444444444444, unit=kilojoule/mole)]\n",
      "[22, 10, 27, 28, 3, Quantity(value=0.0, unit=radian), Quantity(value=0.6973333333333334, unit=kilojoule/mole)]\n",
      "[23, 10, 27, 28, 4, Quantity(value=0.0, unit=radian), Quantity(value=0.200832, unit=kilojoule/mole)]\n",
      "[23, 10, 27, 28, 3, Quantity(value=0.0, unit=radian), Quantity(value=0.987424, unit=kilojoule/mole)]\n",
      "[23, 10, 27, 28, 2, Quantity(value=3.141592653589793, unit=radian), Quantity(value=0.330536, unit=kilojoule/mole)]\n",
      "[23, 10, 27, 28, 1, Quantity(value=0.0, unit=radian), Quantity(value=2.690312, unit=kilojoule/mole)]\n",
      "[24, 23, 10, 27, 1, Quantity(value=0.0, unit=radian), Quantity(value=1.046, unit=kilojoule/mole)]\n",
      "[25, 23, 10, 27, 1, Quantity(value=0.0, unit=radian), Quantity(value=1.046, unit=kilojoule/mole)]\n",
      "[26, 23, 10, 27, 1, Quantity(value=0.0, unit=radian), Quantity(value=1.046, unit=kilojoule/mole)]\n",
      "[1, 6, 4, 5, 2, Quantity(value=3.141592653589793, unit=radian), Quantity(value=43.932, unit=kilojoule/mole)]\n",
      "[4, 8, 6, 7, 2, Quantity(value=3.141592653589793, unit=radian), Quantity(value=4.6024, unit=kilojoule/mole)]\n",
      "[8, 16, 14, 15, 2, Quantity(value=3.141592653589793, unit=radian), Quantity(value=43.932, unit=kilojoule/mole)]\n",
      "[14, 18, 16, 17, 2, Quantity(value=3.141592653589793, unit=radian), Quantity(value=4.6024, unit=kilojoule/mole)]\n",
      "[6, 8, 10, 11, 3, Quantity(value=0.0, unit=radian), Quantity(value=0.6508444444444444, unit=kilojoule/mole)]\n",
      "[6, 8, 10, 12, 3, Quantity(value=0.0, unit=radian), Quantity(value=0.6508444444444444, unit=kilojoule/mole)]\n",
      "[6, 8, 10, 13, 3, Quantity(value=0.0, unit=radian), Quantity(value=0.6508444444444444, unit=kilojoule/mole)]\n",
      "[9, 8, 10, 11, 3, Quantity(value=0.0, unit=radian), Quantity(value=0.6508444444444444, unit=kilojoule/mole)]\n",
      "[9, 8, 10, 12, 3, Quantity(value=0.0, unit=radian), Quantity(value=0.6508444444444444, unit=kilojoule/mole)]\n",
      "[9, 8, 10, 13, 3, Quantity(value=0.0, unit=radian), Quantity(value=0.6508444444444444, unit=kilojoule/mole)]\n",
      "[11, 10, 8, 14, 3, Quantity(value=0.0, unit=radian), Quantity(value=0.6508444444444444, unit=kilojoule/mole)]\n",
      "[12, 10, 8, 14, 3, Quantity(value=0.0, unit=radian), Quantity(value=0.6508444444444444, unit=kilojoule/mole)]\n",
      "[13, 10, 8, 14, 3, Quantity(value=0.0, unit=radian), Quantity(value=0.6508444444444444, unit=kilojoule/mole)]\n"
     ]
    }
   ],
   "source": [
    "torsion_force = htf_1.hybrid_system.getForce(2)\n",
    "for i in range(torsion_force.getNumTorsions()):\n",
    "    print(torsion_force.getTorsionParameters(i))"
   ]
  },
  {
   "cell_type": "code",
   "execution_count": 31,
   "metadata": {},
   "outputs": [
    {
     "name": "stdout",
     "output_type": "stream",
     "text": [
      "periodicities: [3]\n",
      "phase offsets: [Quantity(value=0.0, unit=radian)]\n",
      "ks: [Quantity(value=0.6508444444444444, unit=kilojoule/mole)]\n",
      "angles: [-3.14159265 -2.44346095 -1.74532925 -1.04719755 -0.34906585  0.34906585\n",
      "  1.04719755  1.74532925  2.44346095  3.14159265]\n",
      "energies: [0.0, 0.976266666666667, 0.9762666666666666, 0.0, 0.9762666666666666, 0.9762666666666666, 0.0, 0.9762666666666663, 0.976266666666667, 0.0]\n"
     ]
    },
    {
     "data": {
      "image/png": "[encoded data removed]",
      "text/plain": [
       "<Figure size 432x288 with 1 Axes>"
      ]
     },
     "metadata": {
      "needs_background": "light"
     },
     "output_type": "display_data"
    }
   ],
   "source": [
    "torsion_force = htf_1.hybrid_system.getForce(2)\n",
    "plot_torsion_energy(torsion_force, [11, 10, 8, 6], [11, 10, 8, 6], htf_1._topology_proposal.old_topology, np.array(htf_1.old_positions(htf_1.hybrid_positions)))"
   ]
  },
  {
   "cell_type": "code",
   "execution_count": null,
   "metadata": {},
   "outputs": [],
   "source": []
  },
  {
   "cell_type": "code",
   "execution_count": null,
   "metadata": {},
   "outputs": [],
   "source": []
  },
  {
   "cell_type": "code",
   "execution_count": null,
   "metadata": {},
   "outputs": [],
   "source": []
  }
 ],
 "metadata": {
  "kernelspec": {
   "display_name": "Python 3",
   "language": "python",
   "name": "python3"
  },
  "language_info": {
   "codemirror_mode": {
    "name": "ipython",
    "version": 3
   },
   "file_extension": ".py",
   "mimetype": "text/x-python",
   "name": "python",
   "nbconvert_exporter": "python",
   "pygments_lexer": "ipython3",
   "version": "3.7.3"
  }
 },
 "nbformat": 4,
 "nbformat_minor": 4
}
