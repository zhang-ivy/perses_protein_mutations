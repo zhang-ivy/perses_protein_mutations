{
 "cells": [
  {
   "cell_type": "markdown",
   "metadata": {},
   "source": [
    "# Run torsion scans"
   ]
  },
  {
   "cell_type": "code",
   "execution_count": 1,
   "metadata": {},
   "outputs": [
    {
     "name": "stderr",
     "output_type": "stream",
     "text": [
      "DEBUG:matplotlib:$HOME=/home/zhangi\n",
      "DEBUG:matplotlib:CONFIGDIR=/home/zhangi/.config/matplotlib\n",
      "DEBUG:matplotlib:matplotlib data path: /home/zhangi/miniconda3/envs/perses-sims/lib/python3.7/site-packages/matplotlib/mpl-data\n",
      "DEBUG:matplotlib:loaded rc file /home/zhangi/miniconda3/envs/perses-sims/lib/python3.7/site-packages/matplotlib/mpl-data/matplotlibrc\n",
      "DEBUG:matplotlib:matplotlib version 3.1.1\n",
      "DEBUG:matplotlib:interactive is False\n",
      "DEBUG:matplotlib:platform is linux\n",
      "DEBUG:matplotlib:loaded modules: ['sys', 'builtins', '_frozen_importlib', '_imp', '_thread', '_warnings', '_weakref', 'zipimport', '_frozen_importlib_external', '_io', 'marshal', 'posix', 'encodings', 'codecs', '_codecs', 'encodings.aliases', 'encodings.utf_8', '_signal', '__main__', 'encodings.latin_1', 'io', 'abc', '_abc', '_bootlocale', '_locale', 'site', 'os', 'stat', '_stat', 'posixpath', 'genericpath', 'os.path', '_collections_abc', '_sitebuiltins', 'types', 'importlib', 'importlib._bootstrap', 'importlib._bootstrap_external', 'warnings', 'importlib.util', 'importlib.abc', 'importlib.machinery', 'contextlib', 'collections', 'operator', '_operator', 'keyword', 'heapq', '_heapq', 'itertools', 'reprlib', '_collections', 'functools', '_functools', 'mpl_toolkits', 'sphinxcontrib', 'encodings.cp437', 'runpy', 'pkgutil', 'weakref', '_weakrefset', 'ipykernel', 'ipykernel._version', 'ipykernel.connect', '__future__', 'json', 'json.decoder', 're', 'enum', 'sre_compile', '_sre', 'sre_parse', 'sre_constants', 'copyreg', 'json.scanner', '_json', 'json.encoder', 'subprocess', 'time', 'signal', 'errno', '_posixsubprocess', 'select', 'selectors', 'collections.abc', 'math', 'threading', 'traceback', 'linecache', 'tokenize', 'token', 'IPython', 'IPython.core', 'IPython.core.getipython', 'IPython.core.release', 'IPython.core.application', 'atexit', 'copy', 'glob', 'fnmatch', 'logging', 'string', '_string', 'shutil', 'zlib', 'bz2', '_compression', '_bz2', 'lzma', '_lzma', 'pwd', 'grp', 'traitlets', 'traitlets.traitlets', 'inspect', 'dis', 'opcode', '_opcode', 'six', 'struct', '_struct', 'traitlets.utils', 'traitlets.utils.getargspec', 'traitlets.utils.importstring', 'ipython_genutils', 'ipython_genutils._version', 'ipython_genutils.py3compat', 'ipython_genutils.encoding', 'locale', 'platform', 'traitlets.utils.sentinel', 'traitlets.utils.bunch', 'traitlets._version', 'traitlets.config', 'traitlets.config.application', 'decorator', 'traitlets.config.configurable', 'traitlets.config.loader', 'argparse', 'gettext', 'ast', '_ast', 'ipython_genutils.path', 'random', 'hashlib', '_hashlib', '_blake2', '_sha3', 'bisect', '_bisect', '_random', 'ipython_genutils.text', 'textwrap', 'ipython_genutils.importstring', 'IPython.core.crashhandler', 'pprint', 'IPython.core.ultratb', 'pydoc', 'urllib', 'urllib.parse', 'IPython.core.debugger', 'bdb', 'IPython.utils', 'IPython.utils.PyColorize', 'IPython.utils.coloransi', 'IPython.utils.ipstruct', 'IPython.utils.colorable', 'pygments', 'pygments.util', 'IPython.utils.py3compat', 'IPython.utils.encoding', 'IPython.core.excolors', 'IPython.testing', 'IPython.testing.skipdoctest', 'pdb', 'cmd', 'code', 'codeop', 'IPython.core.display_trap', 'IPython.utils.path', 'IPython.utils.process', 'IPython.utils._process_posix', 'pexpect', 'pexpect.exceptions', 'pexpect.utils', 'pexpect.expect', 'pexpect.pty_spawn', 'pty', 'tty', 'termios', 'ptyprocess', 'ptyprocess.ptyprocess', 'fcntl', 'resource', 'ptyprocess.util', 'pexpect.spawnbase', 'pexpect.run', 'IPython.utils._process_common', 'shlex', 'IPython.utils.decorators', 'IPython.utils.data', 'IPython.utils.terminal', 'IPython.utils.sysinfo', 'IPython.utils._sysinfo', 'IPython.core.profiledir', 'IPython.paths', 'tempfile', 'IPython.utils.importstring', 'IPython.terminal', 'IPython.terminal.embed', 'IPython.core.compilerop', 'IPython.core.magic_arguments', 'IPython.core.error', 'IPython.utils.text', 'pathlib', 'ntpath', 'IPython.core.magic', 'getopt', 'IPython.core.oinspect', 'typing', 'typing.io', 'typing.re', 'IPython.core.page', 'IPython.core.display', 'binascii', 'mimetypes', 'IPython.lib', 'IPython.lib.security', 'getpass', 'IPython.lib.pretty', 'datetime', '_datetime', 'IPython.utils.openpy', 'IPython.utils.dir2', 'IPython.utils.wildcard', 'pygments.lexers', 'pygments.lexers._mapping', 'pygments.modeline', 'pygments.plugin', 'pygments.lexers.python', 'pygments.lexer', 'pygments.filter', 'pygments.filters', 'pygments.token', 'pygments.regexopt', 'pygments.unistring', 'pygments.formatters', 'pygments.formatters._mapping', 'pygments.formatters.html', 'pygments.formatter', 'pygments.styles', 'IPython.core.inputtransformer2', 'IPython.core.interactiveshell', 'pickleshare', 'pickle', '_compat_pickle', '_pickle', 'IPython.core.prefilter', 'IPython.core.autocall', 'IPython.core.macro', 'IPython.core.splitinput', 'IPython.core.alias', 'IPython.core.builtin_trap', 'IPython.core.events', 'backcall', 'backcall.backcall', 'IPython.core.displayhook', 'IPython.core.displaypub', 'IPython.core.extensions', 'IPython.core.formatters', 'IPython.utils.sentinel', 'IPython.core.history', 'sqlite3', 'sqlite3.dbapi2', '_sqlite3', 'IPython.core.logger', 'IPython.core.payload', 'IPython.core.usage', 'IPython.display', 'IPython.lib.display', 'html', 'html.entities', 'IPython.utils.io', 'IPython.utils.capture', 'IPython.utils.strdispatch', 'IPython.core.hooks', 'IPython.utils.syspathcontext', 'IPython.utils.tempdir', 'IPython.utils.contexts', 'IPython.core.async_helpers', 'IPython.terminal.interactiveshell', 'asyncio', 'asyncio.base_events', 'concurrent', 'concurrent.futures', 'concurrent.futures._base', 'socket', '_socket', 'ssl', '_ssl', 'base64', 'asyncio.constants', 'asyncio.coroutines', 'asyncio.base_futures', 'asyncio.format_helpers', 'asyncio.log', 'asyncio.events', 'contextvars', '_contextvars', 'asyncio.base_tasks', '_asyncio', 'asyncio.futures', 'asyncio.protocols', 'asyncio.sslproto', 'asyncio.transports', 'asyncio.tasks', 'asyncio.locks', 'asyncio.runners', 'asyncio.queues', 'asyncio.streams', 'asyncio.subprocess', 'asyncio.unix_events', 'asyncio.base_subprocess', 'asyncio.selector_events', 'prompt_toolkit', 'prompt_toolkit.application', 'prompt_toolkit.application.application', 'prompt_toolkit.buffer', 'prompt_toolkit.application.current', 'prompt_toolkit.application.run_in_terminal', 'prompt_toolkit.eventloop', 'prompt_toolkit.eventloop.async_generator', 'prompt_toolkit.eventloop.utils', 'prompt_toolkit.eventloop.inputhook', 'prompt_toolkit.utils', 'wcwidth', 'wcwidth.wcwidth', 'wcwidth.table_wide', 'wcwidth.table_zero', 'prompt_toolkit.auto_suggest', 'prompt_toolkit.document', 'prompt_toolkit.clipboard', 'prompt_toolkit.clipboard.base', 'prompt_toolkit.selection', 'prompt_toolkit.clipboard.in_memory', 'prompt_toolkit.filters', 'prompt_toolkit.filters.app', 'prompt_toolkit.cache', 'prompt_toolkit.enums', 'prompt_toolkit.filters.base', 'prompt_toolkit.filters.cli', 'prompt_toolkit.filters.utils', 'prompt_toolkit.completion', 'prompt_toolkit.completion.base', 'prompt_toolkit.formatted_text', 'prompt_toolkit.formatted_text.ansi', 'prompt_toolkit.output', 'prompt_toolkit.output.base', 'prompt_toolkit.data_structures', 'prompt_toolkit.styles', 'prompt_toolkit.styles.base', 'prompt_toolkit.styles.defaults', 'prompt_toolkit.styles.named_colors', 'prompt_toolkit.styles.style', 'prompt_toolkit.styles.pygments', 'prompt_toolkit.styles.style_transformation', 'colorsys', 'prompt_toolkit.output.color_depth', 'prompt_toolkit.output.defaults', 'prompt_toolkit.patch_stdout', 'prompt_toolkit.output.vt100', 'array', 'prompt_toolkit.formatted_text.base', 'prompt_toolkit.mouse_events', 'prompt_toolkit.formatted_text.html', 'xml', 'xml.dom', 'xml.dom.domreg', 'xml.dom.minidom', 'xml.dom.minicompat', 'xml.dom.xmlbuilder', 'xml.dom.NodeFilter', 'prompt_toolkit.formatted_text.pygments', 'prompt_toolkit.formatted_text.utils', 'prompt_toolkit.completion.filesystem', 'prompt_toolkit.completion.fuzzy_completer', 'prompt_toolkit.completion.word_completer', 'prompt_toolkit.completion.nested', 'prompt_toolkit.history', 'prompt_toolkit.search', 'prompt_toolkit.key_binding', 'prompt_toolkit.key_binding.key_bindings', 'prompt_toolkit.keys', 'prompt_toolkit.key_binding.key_processor', 'prompt_toolkit.key_binding.vi_state', 'prompt_toolkit.validation', 'prompt_toolkit.input', 'prompt_toolkit.input.base', 'prompt_toolkit.input.defaults', 'prompt_toolkit.input.typeahead', 'prompt_toolkit.key_binding.bindings', 'prompt_toolkit.key_binding.bindings.page_navigation', 'prompt_toolkit.key_binding.bindings.scroll', 'prompt_toolkit.key_binding.defaults', 'prompt_toolkit.key_binding.bindings.basic', 'prompt_toolkit.key_binding.bindings.named_commands', 'prompt_toolkit.layout', 'prompt_toolkit.layout.containers', 'prompt_toolkit.layout.controls', 'prompt_toolkit.lexers', 'prompt_toolkit.lexers.base', 'prompt_toolkit.lexers.pygments', 'prompt_toolkit.layout.processors', 'prompt_toolkit.layout.utils', 'prompt_toolkit.layout.dimension', 'prompt_toolkit.layout.margins', 'prompt_toolkit.layout.mouse_handlers', 'prompt_toolkit.layout.screen', 'prompt_toolkit.layout.layout', 'prompt_toolkit.layout.menus', 'prompt_toolkit.key_binding.bindings.completion', 'prompt_toolkit.key_binding.bindings.cpr', 'prompt_toolkit.key_binding.bindings.emacs', 'prompt_toolkit.key_binding.bindings.mouse', 'prompt_toolkit.key_binding.bindings.vi', 'prompt_toolkit.input.vt100_parser', 'prompt_toolkit.input.ansi_escape_sequences', 'prompt_toolkit.key_binding.digraphs', 'prompt_toolkit.key_binding.emacs_state', 'prompt_toolkit.layout.dummy', 'prompt_toolkit.renderer', 'prompt_toolkit.application.dummy', 'prompt_toolkit.shortcuts', 'prompt_toolkit.shortcuts.dialogs', 'prompt_toolkit.key_binding.bindings.focus', 'prompt_toolkit.widgets', 'prompt_toolkit.widgets.base', 'prompt_toolkit.widgets.toolbars', 'prompt_toolkit.widgets.dialogs', 'prompt_toolkit.widgets.menus', 'prompt_toolkit.shortcuts.progress_bar', 'prompt_toolkit.shortcuts.progress_bar.base', 'prompt_toolkit.shortcuts.progress_bar.formatters', 'prompt_toolkit.shortcuts.prompt', 'prompt_toolkit.key_binding.bindings.auto_suggest', 'prompt_toolkit.key_binding.bindings.open_in_editor', 'prompt_toolkit.shortcuts.utils', 'pygments.style', 'IPython.terminal.debugger', 'IPython.core.completer', 'unicodedata', 'IPython.core.latex_symbols', 'IPython.utils.generics', 'jedi', 'jedi.api', 'parso', 'parso.parser', 'parso.tree', 'parso._compatibility', 'parso.utils', 'parso.pgen2', 'parso.pgen2.generator', 'parso.pgen2.grammar_parser', 'parso.python', 'parso.python.tokenize', 'parso.python.token', 'parso.grammar', 'parso.python.diff', 'difflib', 'parso.python.parser', 'parso.python.tree', 'parso.python.prefix', 'parso.cache', 'gc', 'parso.python.errors', 'parso.normalizer', 'parso.python.pep8', 'parso.file_io', 'jedi._compatibility', 'jedi.file_io', 'queue', '_queue', 'jedi.parser_utils', 'jedi.debug', 'jedi.settings', 'jedi.cache', 'jedi.api.classes', 'jedi.inference', 'jedi.inference.imports', 'jedi.inference.sys_path', 'jedi.inference.cache', 'jedi.inference.base_value', 'jedi.common', 'jedi.common.value', 'jedi.inference.helpers', 'jedi.inference.utils', 'jedi.common.utils', 'jedi.inference.compiled', 'jedi.inference.compiled.value', 'jedi.inference.filters', 'jedi.inference.flow_analysis', 'jedi.inference.recursion', 'jedi.inference.names', 'jedi.inference.docstrings', 'jedi.inference.lazy_value', 'jedi.inference.compiled.access', 'jedi.inference.compiled.getattr_static', 'jedi.inference.signature', 'jedi.inference.context', 'jedi.inference.analysis', 'jedi.inference.gradual', 'jedi.inference.gradual.typeshed', 'jedi.inference.gradual.stub_value', 'jedi.inference.value', 'jedi.inference.value.module', 'jedi.inference.value.klass', 'jedi.inference.arguments', 'jedi.inference.value.iterable', 'jedi.inference.value.dynamic_arrays', 'jedi.inference.value.function', 'jedi.inference.parser_cache', 'jedi.inference.gradual.generics', 'jedi.plugins', 'jedi.inference.value.instance', 'jedi.inference.gradual.typing', 'jedi.inference.gradual.base', 'jedi.inference.gradual.type_var', 'jedi.inference.syntax_tree', 'jedi.inference.gradual.annotation', 'jedi.inference.param', 'jedi.inference.value.decorator', 'jedi.inference.gradual.conversion', 'jedi.api.keywords', 'pydoc_data', 'pydoc_data.topics', 'jedi.api.interpreter', 'jedi.inference.compiled.mixed', 'jedi.api.helpers', 'jedi.api.completion', 'jedi.api.file_name', 'jedi.api.environment', 'filecmp', 'jedi.inference.compiled.subprocess', 'jedi.inference.compiled.subprocess.functions', 'jedi.api.exceptions', 'jedi.api.project', 'jedi.inference.usages', 'jedi.inference.gradual.utils', 'jedi.plugins.registry', 'jedi.plugins.stdlib', 'jedi.plugins.flask', 'IPython.terminal.ptutils', 'IPython.terminal.shortcuts', 'IPython.terminal.magics', 'IPython.lib.clipboard', 'IPython.terminal.pt_inputhooks', 'IPython.terminal.prompts', 'IPython.terminal.ipapp', 'IPython.core.magics', 'IPython.core.magics.auto', 'IPython.core.magics.basic', 'IPython.core.magics.code', 'urllib.request', 'email', 'http', 'http.client', 'email.parser', 'email.feedparser', 'email.errors', 'email._policybase', 'email.header', 'email.quoprimime', 'email.base64mime', 'email.charset', 'email.encoders', 'quopri', 'email.utils', 'email._parseaddr', 'calendar', 'email.message', 'uu', 'email._encoded_words', 'email.iterators', 'urllib.error', 'urllib.response', 'IPython.core.magics.config', 'IPython.core.magics.display', 'IPython.core.magics.execution', 'timeit', 'cProfile', '_lsprof', 'profile', 'pstats', 'IPython.utils.module_paths', 'IPython.utils.timing', 'IPython.core.magics.extension', 'IPython.core.magics.history', 'IPython.core.magics.logging', 'IPython.core.magics.namespace', 'IPython.core.magics.osm', 'IPython.core.magics.packaging', 'IPython.core.magics.pylab', 'IPython.core.pylabtools', 'IPython.core.magics.script', 'IPython.lib.backgroundjobs', 'IPython.core.shellapp', 'IPython.extensions', 'IPython.extensions.storemagic', 'IPython.utils.frame', 'jupyter_client', 'jupyter_client._version', 'jupyter_client.connect', 'zmq', 'ctypes', '_ctypes', 'ctypes._endian', 'zmq.backend', 'zmq.backend.select', 'zmq.backend.cython', 'zmq.backend.cython.constants', 'cython_runtime', 'zmq.backend.cython.error', '_cython_0_29_14', 'zmq.backend.cython.message', 'zmq.error', 'zmq.backend.cython.context', 'zmq.backend.cython.socket', 'zmq.backend.cython.utils', 'zmq.backend.cython._poll', 'zmq.backend.cython._version', 'zmq.backend.cython._device', 'zmq.backend.cython._proxy_steerable', 'zmq.sugar', 'zmq.sugar.constants', 'zmq.utils', 'zmq.utils.constant_names', 'zmq.sugar.context', 'zmq.sugar.attrsettr', 'zmq.sugar.socket', 'zmq.sugar.poll', 'zmq.utils.jsonapi', 'zmq.utils.strtypes', 'zmq.sugar.frame', 'zmq.sugar.tracker', 'zmq.sugar.version', 'zmq.sugar.stopwatch', 'jupyter_client.localinterfaces', 'jupyter_core', 'jupyter_core.version', 'jupyter_core.paths', 'jupyter_client.launcher', 'traitlets.log', 'jupyter_client.client', 'jupyter_client.channels', 'jupyter_client.channelsabc', 'jupyter_client.clientabc', 'jupyter_client.manager', 'jupyter_client.kernelspec', 'jupyter_client.managerabc', 'jupyter_client.blocking', 'jupyter_client.blocking.client', 'jupyter_client.blocking.channels', 'jupyter_client.multikernelmanager', 'uuid', 'ipykernel.kernelapp', 'tornado', 'tornado.ioloop', 'numbers', 'tornado.concurrent', 'tornado.log', 'logging.handlers', 'tornado.escape', 'tornado.util', 'tornado.speedups', 'curses', '_curses', 'zmq.eventloop', 'zmq.eventloop.ioloop', 'tornado.platform', 'tornado.platform.asyncio', 'tornado.gen', 'zmq.eventloop.zmqstream', 'ipykernel.iostream', 'imp', 'jupyter_client.session', 'hmac', 'jupyter_client.jsonutil', 'dateutil', 'dateutil._version', 'dateutil.parser', 'dateutil.parser._parser', 'decimal', '_decimal', 'dateutil.relativedelta', 'dateutil._common', 'dateutil.tz', 'dateutil.tz.tz', 'six.moves', 'dateutil.tz._common', 'dateutil.tz._factories', 'dateutil.parser.isoparser', '_strptime', 'jupyter_client.adapter', 'ipykernel.heartbeat', 'ipykernel.ipkernel', 'IPython.utils.tokenutil', 'ipykernel.comm', 'ipykernel.comm.manager', 'ipykernel.comm.comm', 'ipykernel.kernelbase', 'tornado.queues', 'tornado.locks', 'ipykernel.jsonutil', 'ipykernel.zmqshell', 'IPython.core.payloadpage', 'ipykernel.displayhook', 'ipykernel.eventloops', 'distutils', 'distutils.version', 'ipykernel.parentpoller', 'faulthandler', 'ipykernel.datapub', 'ipykernel.serialize', 'ipykernel.pickleutil', 'ipykernel.codeutil', 'IPython.core.completerlib', 'storemagic', 'ipywidgets', 'ipywidgets._version', 'ipywidgets.widgets', 'ipywidgets.widgets.widget', 'ipywidgets.widgets.domwidget', 'ipywidgets.widgets.trait_types', 'ipywidgets.widgets.util', 'ipywidgets.widgets.widget_layout', 'ipywidgets.widgets.widget_style', 'ipywidgets.widgets.valuewidget', 'ipywidgets.widgets.widget_core', 'ipywidgets.widgets.widget_bool', 'ipywidgets.widgets.widget_description', 'ipywidgets.widgets.widget_button', 'ipywidgets.widgets.widget_box', 'ipywidgets.widgets.docutils', 'ipywidgets.widgets.widget_float', 'ipywidgets.widgets.widget_int', 'ipywidgets.widgets.widget_color', 'ipywidgets.widgets.widget_date', 'ipywidgets.widgets.widget_output', 'ipywidgets.widgets.widget_selection', 'ipywidgets.widgets.widget_selectioncontainer', 'ipywidgets.widgets.widget_string', 'ipywidgets.widgets.widget_controller', 'ipywidgets.widgets.interaction', 'ipywidgets.widgets.widget_link', 'ipywidgets.widgets.widget_media', 'ipywidgets.widgets.widget_templates', 'ipywidgets.widgets.widget_upload', 'numpy', 'numpy._globals', 'numpy.__config__', 'numpy.version', 'numpy._distributor_init', 'numpy.core', 'numpy.core.info', 'numpy.core.multiarray', 'numpy.core.overrides', 'numpy.core._multiarray_umath', 'numpy.compat', 'numpy.compat._inspect', 'numpy.compat.py3k', 'numpy.core.umath', 'numpy.core.numerictypes', 'numpy.core._string_helpers', 'numpy.core._type_aliases', 'numpy.core._dtype', 'numpy.core.numeric', 'numpy.core._exceptions', 'numpy.core._asarray', 'numpy.core._ufunc_config', 'numpy.core.fromnumeric', 'numpy.core._methods', 'numpy.core.arrayprint', 'numpy.core.defchararray', 'numpy.core.records', 'numpy.core.memmap', 'numpy.core.function_base', 'numpy.core.machar', 'numpy.core.getlimits', 'numpy.core.shape_base', 'numpy.core.einsumfunc', 'numpy.core._add_newdocs', 'numpy.core._multiarray_tests', 'numpy.core._dtype_ctypes', 'numpy.core._internal', 'numpy._pytesttester', 'numpy.lib', 'numpy.lib.info', 'numpy.lib.type_check', 'numpy.lib.ufunclike', 'numpy.lib.index_tricks', 'numpy.matrixlib', 'numpy.matrixlib.defmatrix', 'numpy.linalg', 'numpy.linalg.info', 'numpy.linalg.linalg', 'numpy.lib.twodim_base', 'numpy.linalg.lapack_lite', 'numpy.linalg._umath_linalg', 'numpy.lib.function_base', 'numpy.lib.histograms', 'numpy.lib.stride_tricks', 'numpy.lib.mixins', 'numpy.lib.nanfunctions', 'numpy.lib.shape_base', 'numpy.lib.scimath', 'numpy.lib.polynomial', 'numpy.lib.utils', 'numpy.lib.arraysetops', 'numpy.lib.npyio', 'numpy.lib.format', 'numpy.lib._datasource', 'numpy.lib._iotools', 'numpy.lib.financial', 'numpy.lib.arrayterator', 'numpy.lib.arraypad', 'numpy.lib._version', 'numpy.fft', 'numpy.fft.info', 'numpy.fft.pocketfft', 'numpy.fft.pocketfft_internal', 'numpy.fft.helper', 'numpy.polynomial', 'numpy.polynomial.polynomial', 'numpy.polynomial.polyutils', 'numpy.polynomial._polybase', 'numpy.polynomial.chebyshev', 'numpy.polynomial.legendre', 'numpy.polynomial.hermite', 'numpy.polynomial.hermite_e', 'numpy.polynomial.laguerre', 'numpy.random', 'numpy.random._pickle', 'numpy.random.mtrand', 'numpy.random.common', 'numpy.random.bounded_integers', 'numpy.random.mt19937', 'numpy.random.bit_generator', '_cython_0_29_13', 'secrets', 'numpy.random.entropy', 'numpy.random.philox', 'numpy.random.pcg64', 'numpy.random.sfc64', 'numpy.random.generator', 'numpy.ctypeslib', 'numpy.ma', 'numpy.ma.core', 'numpy.ma.extras', 'numpy.testing', 'unittest', 'unittest.result', 'unittest.util', 'unittest.case', 'unittest.suite', 'unittest.loader', 'unittest.main', 'unittest.runner', 'unittest.signals', 'numpy.testing._private', 'numpy.testing._private.utils', 'numpy.testing._private.decorators', 'numpy.testing._private.nosetester', 'openmmtools', 'openmmtools.testsystems', 'scipy', 'scipy._distributor_init', 'scipy.__config__', 'scipy.version', 'scipy._lib', 'scipy._lib._testutils', 'scipy._lib._version', 'scipy._lib.six', 'scipy._lib._ccallback', 'scipy._lib._ccallback_c', 'scipy.special', 'scipy.special.sf_error', 'scipy.special._ufuncs', 'scipy.special._ufuncs_cxx', 'scipy.special.basic', 'scipy.special.specfun', 'scipy.special.orthogonal', 'scipy.linalg', 'scipy.linalg.linalg_version', 'scipy.linalg.misc', 'scipy.linalg.blas', 'scipy.linalg._fblas', 'scipy.linalg.lapack', 'scipy.linalg._flapack', 'scipy._lib._util', 'multiprocessing', 'multiprocessing.context', 'multiprocessing.process', 'multiprocessing.reduction', '__mp_main__', 'scipy.linalg.basic', 'scipy.linalg.flinalg', 'scipy.linalg._flinalg', 'scipy.linalg.decomp', 'scipy.linalg.decomp_svd', 'scipy.linalg._solve_toeplitz', 'scipy.linalg.decomp_lu', 'scipy.linalg._decomp_ldl', 'scipy.linalg.decomp_cholesky', 'scipy.linalg.decomp_qr', 'scipy.linalg._decomp_qz', 'scipy.linalg.decomp_schur', 'scipy.linalg._decomp_polar', 'scipy.linalg.matfuncs', 'scipy.linalg.special_matrices', 'scipy.linalg._expm_frechet', 'scipy.linalg._matfuncs_sqrtm', 'scipy.linalg._solvers', 'scipy.linalg._procrustes', 'scipy.linalg._decomp_update', 'scipy.linalg.cython_blas', 'scipy.linalg.cython_lapack', 'scipy.linalg._sketches', 'scipy.sparse', 'scipy.sparse.base', 'scipy._lib._numpy_compat', 'scipy.sparse.sputils', 'scipy.sparse.csr', 'scipy.sparse._sparsetools', 'scipy.sparse.compressed', 'scipy.sparse.data', 'scipy.sparse.dia', 'scipy.sparse._index', 'scipy.sparse.csc', 'scipy.sparse.lil', 'scipy.sparse._csparsetools', 'scipy.sparse.dok', 'scipy.sparse.coo', 'scipy.sparse.bsr', 'scipy.sparse.construct', 'scipy.sparse.extract', 'scipy.sparse._matrix_io', 'scipy.sparse.csgraph', 'scipy.sparse.csgraph._laplacian', 'scipy.sparse.csgraph._shortest_path', 'scipy.sparse.csgraph._validation', 'scipy.sparse.csgraph._tools', 'scipy.sparse.csgraph._traversal', 'scipy.sparse.csgraph._min_spanning_tree', 'scipy.sparse.csgraph._reordering', 'numpy.dual', 'scipy.special._comb', 'scipy.special._logsumexp', 'scipy.special.spfun_stats', 'scipy.special._ellip_harm', 'scipy.special._ellip_harm_2', 'scipy.special.lambertw', 'scipy.special._spherical_bessel', 'scipy.integrate', 'scipy.integrate.quadrature', 'scipy.integrate.odepack', 'scipy.integrate._odepack', 'scipy.integrate.quadpack', 'scipy.integrate._quadpack', 'scipy.integrate._ode', 'scipy.integrate.vode', 'scipy.integrate._dop', 'scipy.integrate.lsoda', 'scipy.integrate._bvp', 'scipy.sparse.linalg', 'scipy.sparse.linalg.isolve', 'scipy.sparse.linalg.isolve.iterative', 'scipy.sparse.linalg.isolve._iterative', 'scipy.sparse.linalg.interface', 'scipy.sparse.linalg.isolve.utils', 'scipy._lib._threadsafety', 'scipy._lib.decorator', 'scipy.sparse.linalg.isolve.minres', 'scipy.sparse.linalg.isolve.lgmres', 'scipy.sparse.linalg.isolve._gcrotmk', 'scipy.sparse.linalg.isolve.lsqr', 'scipy.sparse.linalg.isolve.lsmr', 'scipy.sparse.linalg.dsolve', 'scipy.sparse.linalg.dsolve.linsolve', 'scipy.sparse.linalg.dsolve._superlu', 'scipy.sparse.linalg.dsolve._add_newdocs', 'scipy.sparse.linalg.eigen', 'scipy.sparse.linalg.eigen.arpack', 'scipy.sparse.linalg.eigen.arpack.arpack', 'scipy.sparse.linalg.eigen.arpack._arpack', 'scipy.sparse.linalg.eigen.lobpcg', 'scipy.sparse.linalg.eigen.lobpcg.lobpcg', 'scipy.sparse.linalg.matfuncs', 'scipy.sparse.linalg._onenormest', 'scipy.sparse.linalg._norm', 'scipy.sparse.linalg._expm_multiply', 'scipy.optimize', 'scipy.optimize.optimize', 'scipy.optimize.linesearch', 'scipy.optimize.minpack2', 'scipy.optimize._minimize', 'scipy.optimize._trustregion_dogleg', 'scipy.optimize._trustregion', 'scipy.optimize._trustregion_ncg', 'scipy.optimize._trustregion_krylov', 'scipy.optimize._trlib', 'scipy.optimize._trlib._trlib', 'scipy._lib.messagestream', 'scipy.optimize._trustregion_exact', 'scipy.optimize._trustregion_constr', 'scipy.optimize._trustregion_constr.minimize_trustregion_constr', 'scipy.optimize._differentiable_functions', 'scipy.optimize._numdiff', 'scipy.optimize._group_columns', 'scipy.optimize._hessian_update_strategy', 'scipy.optimize._constraints', 'scipy.optimize._trustregion_constr.equality_constrained_sqp', 'scipy.optimize._trustregion_constr.projections', 'scipy.optimize._trustregion_constr.qp_subproblem', 'scipy.optimize._trustregion_constr.canonical_constraint', 'scipy.optimize._trustregion_constr.tr_interior_point', 'scipy.optimize._trustregion_constr.report', 'scipy.optimize.lbfgsb', 'scipy.optimize._lbfgsb', 'scipy.optimize.tnc', 'scipy.optimize.moduleTNC', 'scipy.optimize.cobyla', 'scipy.optimize._cobyla', 'scipy.optimize.slsqp', 'scipy.optimize._slsqp', 'scipy.optimize._root', 'scipy.optimize.minpack', 'scipy.optimize._minpack', 'scipy.optimize._lsq', 'scipy.optimize._lsq.least_squares', 'scipy.optimize._lsq.trf', 'scipy.optimize._lsq.common', 'scipy.optimize._lsq.dogbox', 'scipy.optimize._lsq.lsq_linear', 'scipy.optimize._lsq.trf_linear', 'scipy.optimize._lsq.givens_elimination', 'scipy.optimize._lsq.bvls', 'scipy.optimize._spectral', 'scipy.optimize.nonlin', 'scipy.optimize._root_scalar', 'scipy.optimize.zeros', 'scipy.optimize._zeros', 'scipy.optimize.nnls', 'scipy.optimize._nnls', 'scipy.optimize._basinhopping', 'scipy.optimize._linprog', 'scipy.optimize._linprog_ip', 'scipy.optimize._linprog_util', 'scipy.optimize._remove_redundancy', 'scipy.optimize._linprog_simplex', 'scipy.optimize._linprog_rs', 'scipy.optimize._bglu_dense', 'scipy.optimize._hungarian', 'scipy.optimize._differentialevolution', 'scipy.optimize._shgo', 'scipy.spatial', 'scipy.spatial.kdtree', 'scipy.spatial.ckdtree', 'scipy.spatial.qhull', 'scipy.spatial._spherical_voronoi', 'scipy.spatial._voronoi', 'scipy.spatial.distance', 'scipy.spatial._distance_wrap', 'scipy.spatial._hausdorff', 'scipy.spatial._plotutils', 'scipy.spatial._procrustes', 'scipy.spatial.transform', 'scipy.spatial.transform.rotation', 'scipy.spatial.transform._rotation_spline', 'scipy.optimize._shgo_lib', 'scipy.optimize._shgo_lib.sobol_seq', 'scipy.optimize._shgo_lib.triangulation', 'scipy.optimize._dual_annealing', 'scipy.integrate._ivp', 'scipy.integrate._ivp.ivp', 'scipy.integrate._ivp.bdf', 'scipy.integrate._ivp.common', 'scipy.integrate._ivp.base', 'scipy.integrate._ivp.radau', 'scipy.integrate._ivp.rk', 'scipy.integrate._ivp.lsoda', 'simtk', 'simtk.openmm', 'simtk.openmm.version', 'simtk.openmm.openmm', 'swig_runtime_data4', '_openmm', 'simtk.unit', 'simtk.unit.unit', 'simtk.unit.mymatrix', 'simtk.unit.basedimension', 'simtk.unit.baseunit', 'simtk.unit.standard_dimensions', 'simtk.unit.quantity', 'simtk.unit.unit_math', 'simtk.unit.unit_definitions', 'simtk.unit.unit_operators', 'simtk.unit.prefix', 'simtk.unit.constants', 'simtk.openmm.vec3', 'simtk.openmm.mtsintegrator', 'simtk.openmm.amd', 'simtk.openmm.app', 'simtk.openmm.app.topology', 'xml.etree', 'xml.etree.ElementTree', 'xml.etree.ElementPath', 'pyexpat.errors', 'pyexpat.model', 'pyexpat', '_elementtree', 'simtk.openmm.app.internal', 'simtk.openmm.app.internal.singleton', 'simtk.openmm.app.pdbfile', 'simtk.openmm.app.internal.pdbstructure', 'simtk.openmm.app.element', 'simtk.openmm.app.internal.unitcell', 'simtk.openmm.app.pdbxfile', 'simtk.openmm.app.internal.pdbx', 'simtk.openmm.app.internal.pdbx.reader', 'simtk.openmm.app.internal.pdbx.reader.PdbxReader', 'simtk.openmm.app.internal.pdbx.reader.PdbxContainers', 'simtk.openmm.app.forcefield', 'simtk.openmm.app.internal.compiled', '_cython_0_29_17', 'simtk.openmm.app.simulation', 'simtk.openmm.app.pdbreporter', 'simtk.openmm.app.amberprmtopfile', 'simtk.openmm.app.internal.amber_file_parser', 'simtk.openmm.app.internal.customgbforces', 'simtk.openmm.app.amberinpcrdfile', 'simtk.openmm.app.dcdfile', 'simtk.openmm.app.gromacsgrofile', 'simtk.openmm.app.gromacstopfile', 'distutils.spawn', 'distutils.errors', 'distutils.debug', 'distutils.log', 'simtk.openmm.app.dcdreporter', 'simtk.openmm.app.modeller', 'simtk.openmm.app.statedatareporter', 'gzip', 'simtk.openmm.app.desmonddmsfile', 'simtk.openmm.app.checkpointreporter', 'simtk.openmm.app.charmmcrdfiles', 'simtk.openmm.app.internal.charmm', 'simtk.openmm.app.internal.charmm.exceptions', 'simtk.openmm.app.charmmparameterset', 'simtk.openmm.app.internal.charmm._charmmfile', 'simtk.openmm.app.internal.charmm.topologyobjects', 'simtk.openmm.app.charmmpsffile', 'simtk.openmm.app.simulatedtempering', 'simtk.openmm.app.metadynamics', 'openmmtools.constants', 'openmmtools.integrators', 'openmmtools.respa', 'openmmtools.utils', 'openmmtools.alchemy', 'openmmtools.states', 'openmmtools.forces', 'openmmtools.forcefactories', 'mdtraj', 'mdtraj.formats', 'mdtraj.formats.arc', 'mdtraj.utils', 'mdtraj.utils.delay_import', 'mdtraj.utils.validation', 'mdtraj.utils.six', 'mdtraj.utils.six.moves', 'mdtraj.utils.six.moves.urllib_parse', 'mdtraj.utils.six.moves.urllib.parse', 'mdtraj.utils.six.moves.urllib_error', 'mdtraj.utils.six.moves.urllib.error', 'mdtraj.utils.six.moves.urllib_request', 'mdtraj.utils.six.moves.urllib.request', 'mdtraj.utils.six.moves.urllib_response', 'mdtraj.utils.six.moves.urllib.response', 'mdtraj.utils.six.moves.urllib_robotparser', 'mdtraj.utils.six.moves.urllib.robotparser', 'mdtraj.utils.six.moves.urllib', 'mdtraj.utils.unit', 'mdtraj.utils.unit.quantity', 'mdtraj.utils.unit.standard_dimensions', 'mdtraj.utils.unit.basedimension', 'mdtraj.utils.unit.unit', 'mdtraj.utils.unit.mymatrix', 'mdtraj.utils.unit.baseunit', 'mdtraj.utils.unit.unit_definitions', 'mdtraj.utils.unit.unit_operators', 'mdtraj.utils.unit.prefix', 'mdtraj.utils.rotation', 'mdtraj.utils.unitcell', 'mdtraj.utils.contextmanagers', 'mdtraj.utils.zipped', 'mdtraj.formats.registry', 'mdtraj.formats.dcd', 'mdtraj.formats.binpos', 'mdtraj.formats.xtc', '_cython_0_29_7', 'xdrlib', 'mdtraj.formats.trr', 'mdtraj.formats.hdf5', 'mdtraj.version', 'mdtraj.core', 'mdtraj.core.element', 'mdtraj.core.topology', 'mdtraj.core.residue_names', 'mdtraj.core.selection', 'mdtraj.utils.external', 'mdtraj.utils.external.pyparsing', 'mdtraj.utils.external.astor', 'mdtraj.utils.external.astor.codegen', 'mdtraj.utils.external.astor.misc', 'mdtraj.utils.external.astor.treewalk', 'mdtraj.utils.singleton', 'mdtraj.formats.netcdf', 'mdtraj.formats.pdb', 'mdtraj.formats.pdb.pdbfile', 'mdtraj.formats.pdb.pdbstructure', 'mdtraj.formats.lh5', 'mdtraj.formats.mdcrd', 'mdtraj.formats.amberrst', 'mdtraj.formats.lammpstrj', 'mdtraj.formats.dtr', 'mdtraj.formats.gro', 'mdtraj.formats.xyzfile', 'mdtraj.formats.tng', 'mdtraj.formats.openmmxml', 'mdtraj.formats.prmtop', 'mdtraj.formats.psf', 'mdtraj.formats.mol2', 'mdtraj.formats.hoomdxml', 'xml.etree.cElementTree', 'mdtraj._rmsd', 'mdtraj._lprmsd', 'mdtraj.geometry', 'mdtraj.geometry.rg', 'mdtraj.geometry.angle', 'mdtraj.geometry._geometry', 'mdtraj.geometry.distance', 'mdtraj.geometry.dihedral', 'mdtraj.geometry.hbond', 'mdtraj.geometry.sasa', 'mdtraj.geometry.contact', 'mdtraj.geometry.drid', 'mdtraj.geometry.dssp', 'mdtraj.geometry.neighbors', 'mdtraj.geometry.neighborlist', 'mdtraj.geometry.thermodynamic_properties', 'mdtraj.geometry.rdf', 'mdtraj.geometry.order', 'pkg_resources', 'zipfile', 'plistlib', 'xml.parsers', 'xml.parsers.expat', 'xml.parsers.expat.model', 'xml.parsers.expat.errors', 'pkg_resources.extern', 'pkg_resources._vendor', 'pkg_resources.extern.six', 'pkg_resources._vendor.six', 'pkg_resources.extern.six.moves', 'pkg_resources._vendor.six.moves', 'pkg_resources.py31compat', 'pkg_resources.extern.appdirs', 'pkg_resources._vendor.packaging.__about__', 'pkg_resources.extern.packaging', 'pkg_resources.extern.packaging.version', 'pkg_resources.extern.packaging._structures', 'pkg_resources.extern.packaging.specifiers', 'pkg_resources.extern.packaging._compat', 'pkg_resources.extern.packaging.requirements', 'pkg_resources.extern.pyparsing', 'pkg_resources.extern.six.moves.urllib', 'pkg_resources.extern.packaging.markers', 'sysconfig', 'mdtraj.core.trajectory', 'mdtraj.nmr', 'mdtraj.nmr.shift_wrappers', 'mdtraj.nmr.scalar_couplings', 'mdtraj.reporters', 'mdtraj.reporters.hdf5reporter', 'mdtraj.reporters.basereporter', 'mdtraj.reporters.netcdfreporter', 'mdtraj.reporters.dcdreporter', 'mdtraj.reporters.xtcreporter', 'openmmtools.mcmc', 'openmmtools.cache', 'openmmtools.storage', 'openmmtools.storage.iodrivers', 'yaml', 'yaml.error', 'yaml.tokens', 'yaml.events', 'yaml.nodes', 'yaml.loader', 'yaml.reader', 'yaml.scanner', 'yaml.parser', 'yaml.composer', 'yaml.constructor', 'yaml.resolver', 'yaml.dumper', 'yaml.emitter', 'yaml.serializer', 'yaml.representer', 'yaml.cyaml', '_yaml', 'netCDF4', 'netCDF4._netCDF4', '_cython_0_29_10', 'netCDF4.utils', 'cftime', 'cftime._cftime', 'openmmtools.storage.storageinterface', 'openmmtools.multistate', 'openmmtools.multistate.multistatesampler', 'mpiplus', 'mpiplus.mpiplus', 'mpiplus._version', 'openmmtools.multistate.utils', 'pymbar', 'pymbar.timeseries', 'pymbar.utils', 'numexpr', 'numexpr.__config__', 'numexpr.expressions', 'numexpr.interpreter', 'numexpr.necompiler', 'numexpr.utils', 'numexpr.version', 'pymbar.testsystems', 'pymbar.testsystems.harmonic_oscillators', 'pymbar.testsystems.exponential_distributions', 'pymbar.testsystems.timeseries', 'pymbar.testsystems.gaussian_work', 'pymbar.confidenceintervals', 'scipy.stats', 'scipy.stats.stats', 'scipy.stats.distributions', 'scipy.stats._distn_infrastructure', 'scipy._lib.doccer', 'scipy.stats._distr_params', 'scipy.misc', 'scipy.misc.doccer', 'scipy.misc.common', 'scipy.stats._constants', 'scipy.stats._continuous_distns', 'scipy.interpolate', 'scipy.interpolate.interpolate', 'scipy.interpolate.fitpack', 'scipy.interpolate._fitpack_impl', 'scipy.interpolate._fitpack', 'scipy.interpolate.dfitpack', 'scipy.interpolate._bsplines', 'scipy.interpolate._bspl', 'scipy.interpolate.polyint', 'scipy.interpolate._ppoly', 'scipy.interpolate.fitpack2', 'scipy.interpolate.interpnd', 'scipy.interpolate.rbf', 'scipy.interpolate._cubic', 'scipy.interpolate.ndgriddata', 'scipy.interpolate._pade', 'scipy.stats._stats', 'scipy.stats._tukeylambda_stats', 'scipy.stats._discrete_distns', 'scipy.stats.mstats_basic', 'scipy.stats._stats_mstats_common', 'scipy.stats._rvs_sampling', 'scipy.stats._hypotests', 'scipy.stats.morestats', 'scipy.stats.statlib', 'scipy.stats.contingency', 'scipy.stats._binned_statistic', 'scipy.stats.kde', 'scipy.stats.mvn', 'scipy.stats.mstats', 'scipy.stats.mstats_extras', 'scipy.stats._multivariate', 'pymbar.version', 'pymbar.mbar', 'pymbar.mbar_solvers', 'pymbar.bar', 'pymbar.exp', 'pymbar.old_mbar', 'openmmtools.multistate.multistatereporter', 'openmmtools.multistate.replicaexchange', 'openmmtools.multistate.multistateanalyzer', 'openmmtools.multistate.paralleltempering', 'openmmtools.multistate.sams', 'openmmtools._version', 'perses', 'perses.annihilation', 'perses.annihilation.lambda_protocol', 'tqdm', 'tqdm.std', 'tqdm.utils', 'tqdm._monitor', 'tqdm.gui', 'tqdm._tqdm_pandas', 'tqdm.cli', 'tqdm._version', 'matplotlib', 'matplotlib.cbook', 'matplotlib.cbook.deprecation', 'matplotlib.rcsetup', 'matplotlib.fontconfig_pattern', 'pyparsing', 'matplotlib.colors', 'matplotlib._color_data', 'cycler', 'matplotlib._version', 'matplotlib.ft2font', 'kiwisolver']\n"
     ]
    },
    {
     "name": "stderr",
     "output_type": "stream",
     "text": [
      "DEBUG:matplotlib:CACHEDIR=/home/zhangi/.cache/matplotlib\n",
      "DEBUG:matplotlib.font_manager:Using fontManager instance from /home/zhangi/.cache/matplotlib/fontlist-v310.json\n",
      "DEBUG:matplotlib.pyplot:Loaded backend module://ipykernel.pylab.backend_inline version unknown.\n",
      "DEBUG:matplotlib.pyplot:Loaded backend module://ipykernel.pylab.backend_inline version unknown.\n",
      "RDKit WARNING: [11:41:13] Enabling RDKit 2019.09.3 jupyter extensions\n"
     ]
    }
   ],
   "source": [
    "import os\n",
    "import pickle\n",
    "import numpy as np\n",
    "from openmmtools.integrators import LangevinIntegrator\n",
    "from openmmtools import states\n",
    "from openmmtools.states import ThermodynamicState, CompoundThermodynamicState, SamplerState\n",
    "from perses.annihilation.lambda_protocol import RelativeAlchemicalState, LambdaProtocol, AlchemicalState\n",
    "from openmmtools.alchemy import AbsoluteAlchemicalFactory, AlchemicalRegion, AlchemicalState\n",
    "from simtk import openmm, unit\n",
    "from tqdm import tqdm\n",
    "import mdtraj as md\n",
    "from openmmtools.mcmc import MCDihedralRotationMove, LangevinSplittingDynamicsMove\n",
    "import math\n",
    "from matplotlib import pyplot as plt\n",
    "import logging\n",
    "import copy\n",
    "from openmmtools import cache\n",
    "import scipy\n",
    "from perses.tests.test_topology_proposal import generate_atp, generate_dipeptide_top_pos_sys\n",
    "\n",
    "\n",
    "logger = logging.getLogger()\n",
    "logger.setLevel(logging.INFO)\n"
   ]
  },
  {
   "cell_type": "markdown",
   "metadata": {},
   "source": [
    "### Define helper function for alchemifying"
   ]
  },
  {
   "cell_type": "code",
   "execution_count": 46,
   "metadata": {},
   "outputs": [],
   "source": [
    "def alchemify(htf, endstate):\n",
    "\n",
    "    # Define simulation parameters\n",
    "    temperature = 300 * unit.kelvin\n",
    "    nsteps = 10000\n",
    "    timestep = 2.0 * unit.femtosecond\n",
    "    platform_name = 'CUDA'\n",
    "    collision_rate = 1.0 / unit.picoseconds\n",
    "\n",
    "    system = htf.hybrid_system\n",
    "    positions = htf.hybrid_positions\n",
    "\n",
    "    # Alchemify the hybrid system\n",
    "    atoms_to_alchemify = list(htf._atom_classes['unique_new_atoms']) + list(htf._atom_classes['unique_old_atoms'])\n",
    "\n",
    "    alch_factory = AbsoluteAlchemicalFactory(consistent_exceptions=False)\n",
    "    alchemical_region = AlchemicalRegion(alchemical_atoms=list(atoms_to_alchemify), alchemical_torsions=True) \n",
    "#                                          annihilate_sterics=True,\n",
    "#                                          annihilate_electrostatics=True)\n",
    "    reference_forces = {force.__class__.__name__: force for force in htf._topology_proposal.new_system.getForces()}\n",
    "    print(\"torsion list: \", alch_factory._build_alchemical_torsion_list(atoms_to_alchemify, reference_forces, htf._topology_proposal.new_system))\n",
    "    alchemical_system = alch_factory.create_alchemical_system(htf.hybrid_system, alchemical_region)\n",
    "\n",
    "    # Initialize compound thermodynamic states at different temperatures and alchemical states.\n",
    "    protocol = {'temperature': [300*unit.kelvin],\n",
    "                'lambda_electrostatics': [0.0],\n",
    "                'lambda_sterics': [0.0],\n",
    "               'lambda_torsions': [0.0]}\n",
    "    alchemical_state = AlchemicalState.from_system(alchemical_system)\n",
    "    alchemical_state.set_alchemical_parameters(endstate)\n",
    "\n",
    "    compound_state = states.create_thermodynamic_state_protocol(alchemical_system, \n",
    "                                                                 protocol=protocol, \n",
    "                                                                 composable_states=[alchemical_state])[0]\n",
    "    compound_state.lambda_sterics = 0.0\n",
    "    compound_state.lambda_electrostatics = 0.0\n",
    "    compound_state.lambda_torsions = 0.0\n",
    "    \n",
    "    print(\"sterics \", compound_state.lambda_sterics)\n",
    "    print(\"elec \", compound_state.lambda_electrostatics)\n",
    "    print(\"torsions \", compound_state.lambda_torsions)\n",
    "    \n",
    "    \n",
    "#     thermodynamic_state = CompoundThermodynamicState(ThermodynamicState(alchemical_system, temperature=temperature), composable_states=[alchemical_state])\n",
    "\n",
    "    \n",
    "    \n",
    "    # Set up integrator\n",
    "    integrator = LangevinIntegrator(temperature, collision_rate, timestep)\n",
    "\n",
    "    # Set up context\n",
    "    platform = openmm.Platform.getPlatformByName(platform_name)\n",
    "    if platform_name in ['CUDA', 'OpenCL']:\n",
    "        platform.setPropertyDefaultValue('Precision', 'mixed')\n",
    "    if platform_name in ['CUDA']:\n",
    "        platform.setPropertyDefaultValue('DeterministicForces', 'true')\n",
    "        \n",
    "    context = compound_state.create_context(integrator, platform=platform)    \n",
    "\n",
    "    context.setPeriodicBoxVectors(*system.getDefaultPeriodicBoxVectors())\n",
    "    context.setPositions(positions)\n",
    "    context.setVelocitiesToTemperature(temperature)\n",
    "    print(compound_state.reduced_potential(context))\n",
    "    \n",
    "#     md.Trajectory(np.array(htf.old_positions(positions)), md.Topology.from_openmm(htf._topology_proposal.old_topology)).save(\"nan_before_minimize.pdb\")\n",
    "\n",
    "\n",
    "#     # Minimize\n",
    "#     openmm.LocalEnergyMinimizer.minimize(context)\n",
    "\n",
    "#     # Run equilibration\n",
    "#     for step in tqdm(range(nsteps)):\n",
    "#         integrator.step(1)\n",
    "    \n",
    "    return context, compound_state"
   ]
  },
  {
   "cell_type": "markdown",
   "metadata": {},
   "source": [
    "### Sub-class MCDihedralRotationMove"
   ]
  },
  {
   "cell_type": "code",
   "execution_count": 3,
   "metadata": {},
   "outputs": [],
   "source": [
    "# 1) Remove metropolize part in apply()\n",
    "# 2) Pass -theta to compute_dihedral()\n",
    "\n",
    "class MCDihedralRotationMove2(MCDihedralRotationMove):\n",
    "    def rotate_positions(self, initial_positions):\n",
    "        \"\"\"Apply rotation to atom_subset positions.\n",
    "        Parameters\n",
    "        ----------\n",
    "        initial_positions : numpy.ndarray simtk.unit.Quantity\n",
    "            The positions of all atoms in atom_subset.\n",
    "        Returns\n",
    "        -------\n",
    "        rotated_positions : numpy.ndarray simtk.unit.Quantity\n",
    "            The rotated positions.\n",
    "        \"\"\"\n",
    "        import math\n",
    "        import copy\n",
    "        import numpy as np \n",
    "        import logging\n",
    "        logger = logging.getLogger()\n",
    "        \n",
    "        old_angle = self.compute_dihedral(initial_positions[:4])\n",
    "\n",
    "        if self.desired_angle == -np.inf:\n",
    "            # Choose a random rotation angle\n",
    "            theta = random.uniform(-math.pi, math.pi)\n",
    "        else:\n",
    "            # If desired_angle is specified, determine rotation angle\n",
    "            if not (self.desired_angle <= math.pi and self.desired_angle >= -math.pi):\n",
    "                raise Exception(\"Desired angle must be less than pi and greater than -pi\")\n",
    "            theta = self.desired_angle - old_angle\n",
    "        logger.info(f\"Rotating by {theta} radians\")\n",
    "\n",
    "        # Make a copy of the initial positions\n",
    "        new_positions = copy.deepcopy(initial_positions)\n",
    "\n",
    "        # Find the rotation axis using the initial positions\n",
    "        axis1 = 1\n",
    "        axis2 = 2\n",
    "        rotation_axis = (initial_positions[axis1] - initial_positions[axis2]) / initial_positions.unit\n",
    "\n",
    "        # Calculate the rotation matrix\n",
    "        rotation_matrix = self.generate_rotation_matrix(rotation_axis, -theta) ## CHANGED theta to negative\n",
    "\n",
    "        # Apply the rotation matrix to the target atoms\n",
    "        for atom_index in range(3, len(self.atom_subset)):\n",
    "            # Find the reduced position (substract out axis)\n",
    "            reduced_position = (initial_positions[atom_index] - initial_positions[axis2])._value\n",
    "\n",
    "            # Find the new positions by multiplying by rot matrix\n",
    "            new_position = np.dot(rotation_matrix, reduced_position) * initial_positions.unit + initial_positions[axis2]\n",
    "\n",
    "            # Update the new positions\n",
    "            new_positions[atom_index][0] = new_position[0]\n",
    "            new_positions[atom_index][1] = new_position[1]\n",
    "            new_positions[atom_index][2] = new_position[2]\n",
    "        \n",
    "        return new_positions\n",
    "    def apply(self, thermodynamic_state, sampler_state):\n",
    "        \"\"\"Apply a metropolized move to the sampler state.\n",
    "        Total number of acceptances and proposed move are updated.\n",
    "        Parameters\n",
    "        ----------\n",
    "        thermodynamic_state : openmmtools.states.ThermodynamicState\n",
    "           The thermodynamic state to use to apply the move.\n",
    "        sampler_state : openmmtools.states.SamplerState\n",
    "           The initial sampler state to apply the move to. This is modified.\n",
    "        \"\"\"\n",
    "#         from openmmtools import cache\n",
    "        import copy\n",
    "#         timer = Timer()\n",
    "#         benchmark_id = 'Applying {}'.format(self.__class__.__name__ )\n",
    "#         timer.start(benchmark_id)\n",
    "\n",
    "        # Check if we have to use the global cache.\n",
    "        if self.context_cache is None:\n",
    "            context_cache = cache.global_context_cache\n",
    "        else:\n",
    "            context_cache = self.context_cache\n",
    "\n",
    "        # Create context, any integrator works.\n",
    "        context, unused_integrator = context_cache.get_context(thermodynamic_state)\n",
    "        \n",
    "        # Compute initial energy. We don't need to set velocities to compute the potential.\n",
    "        # TODO assume sampler_state.potential_energy is the correct potential if not None?\n",
    "        sampler_state.apply_to_context(context, ignore_velocities=True)\n",
    "        initial_energy = thermodynamic_state.reduced_potential(context)\n",
    "\n",
    "        # Handle default and weird cases for atom_subset.\n",
    "        if self.atom_subset is None:\n",
    "            atom_subset = slice(None)\n",
    "        elif not isinstance(self.atom_subset, slice) and len(self.atom_subset) == 1:\n",
    "            # Slice so that initial_positions (below) will have a 2D shape.\n",
    "            atom_subset = slice(self.atom_subset[0], self.atom_subset[0]+1)\n",
    "        else:\n",
    "            atom_subset = self.atom_subset\n",
    "\n",
    "        # Store initial positions of the atoms that are moved.\n",
    "        # We'll use this also to recover in case the move is rejected.\n",
    "        if isinstance(atom_subset, slice):\n",
    "            # Numpy array when sliced return a view, they are not copied.\n",
    "            initial_positions = copy.deepcopy(sampler_state.positions[atom_subset])\n",
    "        else:\n",
    "            # This automatically creates a copy.\n",
    "            initial_positions = sampler_state.positions[atom_subset]\n",
    "\n",
    "        # Propose perturbed positions. Modifying the reference changes the sampler state.\n",
    "        proposed_positions = self._propose_positions(initial_positions)\n",
    "\n",
    "        # Compute the energy of the proposed positions.\n",
    "        sampler_state.positions[atom_subset] = proposed_positions\n",
    "        sampler_state.apply_to_context(context, ignore_velocities=True)\n",
    "        proposed_energy = thermodynamic_state.reduced_potential(context)\n",
    "\n",
    "#         # Accept or reject with Metropolis criteria.\n",
    "#         delta_energy = proposed_energy - initial_energy\n",
    "#         if (not np.isnan(proposed_energy) and\n",
    "#                 (delta_energy <= 0.0 or np.random.rand() < np.exp(-delta_energy))):\n",
    "#             self.n_accepted += 1\n",
    "#         else:\n",
    "#             # Restore original positions.\n",
    "#             sampler_state.positions[atom_subset] = initial_positions\n",
    "#         self.n_proposed += 1\n",
    "\n",
    "#         # Print timing information.\n",
    "#         timer.stop(benchmark_id)\n",
    "#         #timer.report_timing()\n",
    "        \n",
    "        return proposed_energy, sampler_state.positions"
   ]
  },
  {
   "cell_type": "markdown",
   "metadata": {},
   "source": [
    "### Define run torsion scan function"
   ]
  },
  {
   "cell_type": "code",
   "execution_count": 4,
   "metadata": {},
   "outputs": [],
   "source": [
    "def run_torsion_scan(htf, endstate, is_old, hybrid_indices, vanilla_indices, other_indices):\n",
    "    \"\"\"\n",
    "    hybrid_indices : list of int\n",
    "        indices of the dihedral atoms from the hybrid system\n",
    "    vanilla_indices : list of int\n",
    "        indices of the dihedral atoms from the vanilla (old or new) system\n",
    "    other_indices : list of int\n",
    "        indices of the non-dihedral sidechain atoms to be rotated, from the hybrid system\n",
    "    \"\"\"\n",
    "    \n",
    "    d_masses = {}\n",
    "    # Set particle masses to 0\n",
    "    for index in hybrid_indices:\n",
    "        d_masses[index] = htf.hybrid_system.getParticleMass(index)\n",
    "        htf.hybrid_system.setParticleMass(index, 0.0)\n",
    "    \n",
    "    # Turn off constraints involving massless particles\n",
    "    for i in reversed(range(htf.hybrid_system.getNumConstraints())):\n",
    "        p1, p2, d = htf.hybrid_system.getConstraintParameters(i)\n",
    "        if p1 in hybrid_indices or p2 in hybrid_indices:\n",
    "            if htf.hybrid_system.getParticleMass(p1) == 0*unit.amu or htf.hybrid_system.getParticleMass(p2) == 0*unit.amu:\n",
    "                htf.hybrid_system.removeConstraint(i)\n",
    "    \n",
    "    # Create context, compound state\n",
    "    context, compound_state = alchemify(htf, endstate)\n",
    "    \n",
    "    # Create sampler state\n",
    "    sampler_state = SamplerState.from_context(context)\n",
    "    \n",
    "    # Compute current dihedral\n",
    "    if is_old:\n",
    "        dihedral = md.compute_dihedrals(md.Trajectory(np.array(htf.old_positions(htf.hybrid_positions)), \n",
    "                                                      md.Topology.from_openmm(htf._topology_proposal.old_topology)), \n",
    "                                        np.array([vanilla_indices]))[0][0]\n",
    "    else:\n",
    "        dihedral = md.compute_dihedrals(md.Trajectory(np.array(htf.new_positions(htf.hybrid_positions)), \n",
    "                                                      md.Topology.from_openmm(htf._topology_proposal.new_topology)), \n",
    "                                        np.array([vanilla_indices]))[0][0]\n",
    "    print(dihedral)\n",
    "    \n",
    "    # Run scan\n",
    "    d = {} # key : angle, value : energy\n",
    "    new_dihedral = dihedral + 0.262\n",
    "    positions_all = []\n",
    "    for i in range(25):\n",
    "        # Add correction if the angle is no longer in the domain of [-pi, pi]\n",
    "        if new_dihedral > math.pi: \n",
    "            new_dihedral = -math.pi + (new_dihedral - math.pi)\n",
    "        elif new_dihedral < -math.pi:\n",
    "            new_dihedral = math.pi + (new_dihedral + math.pi)\n",
    "        \n",
    "        print(compound_state.reduced_potential(context))\n",
    "        \n",
    "        # Apply rotation move\n",
    "        move = MCDihedralRotationMove2(hybrid_indices + other_indices, desired_angle=new_dihedral) # Rotate the sidechain by 15 degrees\n",
    "        move.apply(compound_state, sampler_state)\n",
    "        \n",
    "        sampler_state.apply_to_context(context)\n",
    "        energy = compound_state.reduced_potential(context)\n",
    "        energies = [energy]\n",
    "    \n",
    "        d[new_dihedral] = (np.mean(energies), scipy.stats.sem(energies))\n",
    "        \n",
    "#         if is_old:\n",
    "#             positions_all.append(htf.old_positions(positions)/unit.nanometer) # get last positions from last relaxtion\n",
    "#         else:\n",
    "#             positions_all.append(htf.new_positions(positions)/unit.nanometer) # get last positions from last relaxtion\n",
    "        \n",
    "        # Increment dihedral angle by 15 degrees\n",
    "        new_dihedral += 0.262\n",
    "    \n",
    "    print(f\"raw d: {d}\")\n",
    "        \n",
    "#     # Write out pdb of positions\n",
    "#     if is_old:\n",
    "#         md.Trajectory(np.array(positions_all), md.Topology.from_openmm(htf._topology_proposal.old_topology)).save(\"traj.pdb\")\n",
    "#     else:\n",
    "#         md.Trajectory(np.array(positions_all), md.Topology.from_openmm(htf._topology_proposal.new_topology)).save(\"traj.pdb\")\n",
    "        \n",
    "    # Plot scan data\n",
    "    minimum = min([val[0] for val in list(d.values())])\n",
    "    print(f\"min: {minimum}\")\n",
    "    d_corrected = {}\n",
    "    for k, v in d.items():\n",
    "        d_corrected[k] = (v[0] - minimum, v[1])\n",
    "    print(f\"d corrected: {d_corrected}\")\n",
    "    plt.errorbar(list(d_corrected.keys()), [mean for mean, stderr in list(d_corrected.values())], yerr=[stderr for mean, stderr in list(d_corrected.values())], fmt='o')\n",
    "    plt.show()\n",
    "    \n",
    "    # Set masses back to normal\n",
    "    for index in hybrid_indices:\n",
    "        compound_state.system.setParticleMass(index, d_masses[index])\n",
    "    compound_state.apply_to_context(context)\n",
    "    \n",
    "    return d_corrected\n",
    "    \n",
    "    "
   ]
  },
  {
   "cell_type": "code",
   "execution_count": 130,
   "metadata": {},
   "outputs": [],
   "source": [
    "torsion_scans = []"
   ]
  },
  {
   "cell_type": "markdown",
   "metadata": {},
   "source": [
    "###  Generate torsion scans for r-htf with 4 flattened exceptions and all torsions and softened torsions, electrostatics, sterics (sidechains not mapped): ALA->THR lambda = 1"
   ]
  },
  {
   "cell_type": "code",
   "execution_count": 6,
   "metadata": {
    "scrolled": true
   },
   "outputs": [
    {
     "name": "stderr",
     "output_type": "stream",
     "text": [
      "INFO:proposal_generator:\tConducting polymer point mutation proposal...\n",
      "INFO:proposal_generator:Using matching_criterion to chose best atom map\n",
      "INFO:proposal_generator:Scaffold has symmetry of 0\n",
      "WARNING:proposal_generator:Two molecules are not similar to have a common scaffold\n",
      "WARNING:proposal_generator:Proceeding with direct mapping of molecules, but please check atom mapping and the geometry of the ligands.\n",
      "INFO:proposal_generator:len [{9: 7}, {10: 7}, {11: 7}, {12: 7}, {13: 7}, {9: 8}, {10: 8}, {11: 8}, {12: 8}, {13: 8}, {9: 9}, {10: 9}, {11: 9}, {12: 9}, {13: 9}]\n",
      "INFO:proposal_generator:{9: 7}\n",
      "INFO:proposal_generator:{10: 7}\n",
      "INFO:proposal_generator:{11: 7}\n",
      "INFO:proposal_generator:{12: 7}\n",
      "INFO:proposal_generator:{13: 7}\n",
      "INFO:proposal_generator:{9: 8}\n",
      "INFO:proposal_generator:{10: 8}\n",
      "INFO:proposal_generator:{11: 8}\n",
      "INFO:proposal_generator:{12: 8}\n",
      "INFO:proposal_generator:{13: 8}\n",
      "INFO:proposal_generator:{9: 9}\n",
      "INFO:proposal_generator:{10: 9}\n",
      "INFO:proposal_generator:{11: 9}\n",
      "INFO:proposal_generator:{12: 9}\n",
      "INFO:proposal_generator:{13: 9}\n",
      "INFO:proposal_generator:Returning map that best satisfies matching_criterion\n",
      "INFO:proposal_generator:Finding best map using matching_criterion name\n",
      "INFO:proposal_generator:{9: 7}\n",
      "INFO:geometry:propose: performing forward proposal\n",
      "INFO:geometry:propose: unique new atoms detected; proceeding to _logp_propose...\n",
      "INFO:geometry:Conducting forward proposal...\n",
      "INFO:geometry:Computing proposal order with NetworkX...\n",
      "INFO:geometry:number of atoms to be placed: 8\n",
      "INFO:geometry:Atom index proposal order is [10, 14, 18, 13, 16, 17, 15, 19]\n",
      "INFO:geometry:omitted_bonds: []\n",
      "INFO:geometry:direction of proposal is forward; creating atoms_with_positions and new positions from old system/topology...\n",
      "INFO:geometry:creating growth system...\n",
      "INFO:geometry:\tcreating bond force...\n",
      "INFO:geometry:\tthere are 11 bonds in reference force.\n",
      "INFO:geometry:\tcreating angle force...\n",
      "INFO:geometry:\tthere are 43 angles in reference force.\n"
     ]
    },
    {
     "name": "stdout",
     "output_type": "stream",
     "text": [
      "making topology proposal\n",
      "generating geometry engine\n",
      "making geometry proposal from ALA to THR\n"
     ]
    },
    {
     "name": "stderr",
     "output_type": "stream",
     "text": [
      "INFO:geometry:\tcreating torsion force...\n",
      "INFO:geometry:\tcreating extra torsions force...\n",
      "INFO:geometry:\tthere are 72 torsions in reference force.\n",
      "INFO:geometry:\tcreating nonbonded force...\n",
      "INFO:geometry:\t\tgrabbing reference nonbonded method, cutoff, switching function, switching distance...\n",
      "INFO:geometry:\t\tcreating nonbonded exception force (i.e. custom bond for 1,4s)...\n",
      "INFO:geometry:\t\tlooping through exceptions calculating growth indices, and adding appropriate interactions to custom bond force.\n",
      "INFO:geometry:\t\tthere are 121 in the reference Nonbonded force\n",
      "WARNING:geometry:\t\t\t\t\tchiral atom <Atom 8 (CA) of chain 0 residue 1 (THR)> with neighbors [<Atom 9 (HA) of chain 0 residue 1 (THR)>, <Atom 10 (CB) of chain 0 residue 1 (THR)>, <Atom 11 (C) of chain 0 residue 1 (THR)>, <Atom 6 (N) of chain 0 residue 1 (THR)>] is surrounded by 3 core neighbors.  omitting chirality bias torsion\n",
      "INFO:geometry:Neglected angle terms : []\n",
      "INFO:geometry:omitted_growth_terms: {'bonds': [], 'angles': [], 'torsions': [], '1,4s': []}\n",
      "INFO:geometry:extra torsions: {0: (14, 10, 8, 18, [1, Quantity(value=1.0655064807976995, unit=radian), Quantity(value=120.0, unit=kilocalorie/mole), 3])}\n",
      "INFO:geometry:neglected angle terms include []\n",
      "INFO:geometry:log probability choice of torsions and atom order: -13.553917196274867\n",
      "INFO:geometry:creating platform, integrators, and contexts; setting growth parameter\n"
     ]
    },
    {
     "name": "stdout",
     "output_type": "stream",
     "text": [
      "conducting subsequent work with the following platform: CUDA\n",
      "conducting subsequent work with the following platform: CUDA\n"
     ]
    },
    {
     "name": "stderr",
     "output_type": "stream",
     "text": [
      "INFO:geometry:setting atoms_with_positions context new positions\n"
     ]
    },
    {
     "name": "stdout",
     "output_type": "stream",
     "text": [
      "conducting subsequent work with the following platform: CUDA\n"
     ]
    },
    {
     "name": "stderr",
     "output_type": "stream",
     "text": [
      "INFO:geometry:There are 8 new atoms\n",
      "INFO:geometry:\treduced angle potential = 0.5456169300542779.\n",
      "INFO:geometry:\treduced angle potential = 1.8984292687198974.\n",
      "INFO:geometry:\treduced angle potential = 0.14018493387289752.\n",
      "INFO:geometry:\treduced angle potential = 0.740898179004869.\n",
      "INFO:geometry:\treduced angle potential = 0.7532480136541813.\n",
      "INFO:geometry:\treduced angle potential = 0.026210048080904488.\n",
      "INFO:geometry:\treduced angle potential = 1.223984710996938.\n",
      "INFO:geometry:\treduced angle potential = 0.38449108220230854.\n",
      "INFO:geometry:\tbeginning construction of no_nonbonded final system...\n",
      "INFO:geometry:\tinitial no-nonbonded final system forces ['HarmonicBondForce', 'HarmonicAngleForce', 'PeriodicTorsionForce', 'NonbondedForce']\n",
      "INFO:geometry:\tfinal no-nonbonded final system forces dict_keys(['HarmonicBondForce', 'HarmonicAngleForce', 'PeriodicTorsionForce', 'NonbondedForce'])\n",
      "INFO:geometry:\tthere are 11 bond forces in the no-nonbonded final system\n",
      "INFO:geometry:\tthere are 43 angle forces in the no-nonbonded final system\n",
      "INFO:geometry:\tthere are 72 torsion forces in the no-nonbonded final system\n",
      "INFO:geometry:forward final system defined with 0 neglected angles.\n"
     ]
    },
    {
     "name": "stdout",
     "output_type": "stream",
     "text": [
      "conducting subsequent work with the following platform: CUDA\n",
      "conducting subsequent work with the following platform: CUDA\n"
     ]
    },
    {
     "name": "stderr",
     "output_type": "stream",
     "text": [
      "INFO:geometry:total reduced potential before atom placement: 9.116470338224556\n"
     ]
    },
    {
     "name": "stdout",
     "output_type": "stream",
     "text": [
      "conducting subsequent work with the following platform: CUDA\n",
      "conducting subsequent work with the following platform: CUDA\n",
      "conducting subsequent work with the following platform: CUDA\n"
     ]
    },
    {
     "name": "stderr",
     "output_type": "stream",
     "text": [
      "INFO:geometry:total reduced energy added from growth system: -45.185553028454905\n",
      "INFO:geometry:final reduced energy -36.06908381512685\n",
      "INFO:geometry:sum of energies: -36.069082690230346\n",
      "INFO:geometry:magnitude of difference in the energies: 1.1248964995047572e-06\n",
      "INFO:geometry:Final logp_proposal: 46.095064828935534\n"
     ]
    },
    {
     "name": "stdout",
     "output_type": "stream",
     "text": [
      "added energy components: [('CustomBondForce', 0.46435413250020935), ('CustomAngleForce', 11.155244930360222), ('CustomTorsionForce', 22.33136215188683), ('CustomBondForce', -79.1365142432022)]\n"
     ]
    },
    {
     "name": "stderr",
     "output_type": "stream",
     "text": [
      "INFO:geometry:logp_reverse: performing reverse proposal\n",
      "INFO:geometry:logp_reverse: unique new atoms detected; proceeding to _logp_propose...\n",
      "INFO:geometry:Conducting forward proposal...\n",
      "INFO:geometry:Computing proposal order with NetworkX...\n",
      "INFO:geometry:number of atoms to be placed: 4\n",
      "INFO:geometry:Atom index proposal order is [10, 12, 13, 11]\n",
      "INFO:geometry:omitted_bonds: []\n",
      "INFO:geometry:direction of proposal is reverse; creating atoms_with_positions from old system/topology\n",
      "INFO:geometry:creating growth system...\n",
      "INFO:geometry:\tcreating bond force...\n",
      "INFO:geometry:\tthere are 9 bonds in reference force.\n",
      "INFO:geometry:\tcreating angle force...\n",
      "INFO:geometry:\tthere are 36 angles in reference force.\n",
      "INFO:geometry:\tcreating torsion force...\n",
      "INFO:geometry:\tcreating extra torsions force...\n",
      "INFO:geometry:\tthere are 42 torsions in reference force.\n",
      "INFO:geometry:\tcreating nonbonded force...\n",
      "INFO:geometry:\t\tgrabbing reference nonbonded method, cutoff, switching function, switching distance...\n",
      "INFO:geometry:\t\tcreating nonbonded exception force (i.e. custom bond for 1,4s)...\n",
      "INFO:geometry:\t\tlooping through exceptions calculating growth indices, and adding appropriate interactions to custom bond force.\n",
      "INFO:geometry:\t\tthere are 98 in the reference Nonbonded force\n",
      "WARNING:geometry:\t\t\t\t\tchiral atom <Atom 8 (CA) of chain 0 residue 1 (ALA)> with neighbors [<Atom 9 (HA) of chain 0 residue 1 (ALA)>, <Atom 10 (CB) of chain 0 residue 1 (ALA)>, <Atom 14 (C) of chain 0 residue 1 (ALA)>, <Atom 6 (N) of chain 0 residue 1 (ALA)>] is surrounded by 3 core neighbors.  omitting chirality bias torsion\n",
      "INFO:geometry:Neglected angle terms : []\n",
      "INFO:geometry:omitted_growth_terms: {'bonds': [], 'angles': [], 'torsions': [], '1,4s': []}\n",
      "INFO:geometry:extra torsions: {}\n",
      "INFO:geometry:neglected angle terms include []\n",
      "INFO:geometry:log probability choice of torsions and atom order: -5.78074351579233\n",
      "INFO:geometry:creating platform, integrators, and contexts; setting growth parameter\n"
     ]
    },
    {
     "name": "stdout",
     "output_type": "stream",
     "text": [
      "conducting subsequent work with the following platform: CUDA\n"
     ]
    },
    {
     "name": "stderr",
     "output_type": "stream",
     "text": [
      "INFO:geometry:setting atoms_with_positions context old positions\n"
     ]
    },
    {
     "name": "stdout",
     "output_type": "stream",
     "text": [
      "conducting subsequent work with the following platform: CUDA\n"
     ]
    },
    {
     "name": "stderr",
     "output_type": "stream",
     "text": [
      "INFO:geometry:There are 4 new atoms\n",
      "INFO:geometry:\treduced angle potential = 0.3517320112693091.\n",
      "INFO:geometry:\treduced angle potential = 3.205828647416432e-13.\n",
      "INFO:geometry:\treduced angle potential = 7.390951941228323e-11.\n",
      "INFO:geometry:\treduced angle potential = 1.2915573155343707e-10.\n",
      "INFO:geometry:\tbeginning construction of no_nonbonded final system...\n",
      "INFO:geometry:\tinitial no-nonbonded final system forces ['HarmonicBondForce', 'HarmonicAngleForce', 'PeriodicTorsionForce', 'NonbondedForce']\n",
      "INFO:geometry:\tfinal no-nonbonded final system forces dict_keys(['HarmonicBondForce', 'HarmonicAngleForce', 'PeriodicTorsionForce', 'NonbondedForce'])\n",
      "INFO:geometry:\tthere are 9 bond forces in the no-nonbonded final system\n",
      "INFO:geometry:\tthere are 36 angle forces in the no-nonbonded final system\n",
      "INFO:geometry:\tthere are 42 torsion forces in the no-nonbonded final system\n",
      "INFO:geometry:reverse final system defined with 0 neglected angles.\n"
     ]
    },
    {
     "name": "stdout",
     "output_type": "stream",
     "text": [
      "conducting subsequent work with the following platform: CUDA\n",
      "conducting subsequent work with the following platform: CUDA\n"
     ]
    },
    {
     "name": "stderr",
     "output_type": "stream",
     "text": [
      "INFO:geometry:total reduced potential before atom placement: 9.116470338224556\n"
     ]
    },
    {
     "name": "stdout",
     "output_type": "stream",
     "text": [
      "conducting subsequent work with the following platform: CUDA\n",
      "conducting subsequent work with the following platform: CUDA\n",
      "conducting subsequent work with the following platform: CUDA\n"
     ]
    },
    {
     "name": "stderr",
     "output_type": "stream",
     "text": [
      "INFO:geometry:total reduced energy added from growth system: 20.67296217359934\n",
      "INFO:geometry:final reduced energy 29.789432654951565\n",
      "INFO:geometry:sum of energies: 29.789432511823897\n",
      "INFO:geometry:magnitude of difference in the energies: 1.431276679397797e-07\n",
      "INFO:geometry:Final logp_proposal: 24.08494743003856\n"
     ]
    },
    {
     "name": "stdout",
     "output_type": "stream",
     "text": [
      "added energy components: [('CustomBondForce', 0.000520203310858755), ('CustomAngleForce', 0.4511192410252491), ('CustomTorsionForce', 7.250454736370486), ('CustomBondForce', 12.970867992892748)]\n"
     ]
    },
    {
     "name": "stderr",
     "output_type": "stream",
     "text": [
      "INFO:relative:Old system forces: dict_keys(['HarmonicBondForce', 'HarmonicAngleForce', 'PeriodicTorsionForce', 'NonbondedForce'])\n",
      "INFO:relative:New system forces: dict_keys(['HarmonicBondForce', 'HarmonicAngleForce', 'PeriodicTorsionForce', 'NonbondedForce'])\n",
      "INFO:relative:No unknown forces.\n",
      "INFO:relative:Nonbonded method to be used (i.e. from old system): 0\n",
      "INFO:relative:Adding and mapping old atoms to hybrid system...\n",
      "INFO:relative:Adding and mapping new atoms to hybrid system...\n",
      "INFO:relative:No MonteCarloBarostat added.\n",
      "INFO:relative:getDefaultPeriodicBoxVectors added to hybrid: [Quantity(value=Vec3(x=2.0, y=0.0, z=0.0), unit=nanometer), Quantity(value=Vec3(x=0.0, y=2.0, z=0.0), unit=nanometer), Quantity(value=Vec3(x=0.0, y=0.0, z=2.0), unit=nanometer)]\n",
      "INFO:relative:Determined atom classes.\n",
      "INFO:relative:Generating old system exceptions dict...\n",
      "INFO:relative:Generating new system exceptions dict...\n",
      "INFO:relative:Handling constraints...\n",
      "INFO:relative:Handling virtual sites...\n",
      "INFO:relative:\t_handle_virtual_sites: numVirtualSites: 0\n",
      "INFO:relative:\t_add_nonbonded_force_terms: <simtk.openmm.openmm.NonbondedForce; proxy of <Swig Object of type 'OpenMM::NonbondedForce *' at 0x2b40064f85d0> > added to hybrid system\n",
      "INFO:relative:\t_add_nonbonded_force_terms: nonbonded_method is NoCutoff\n",
      "INFO:relative:\t_add_nonbonded_force_terms: 0 added to standard nonbonded force\n",
      "INFO:relative:\t_add_nonbonded_force_terms: 0 added to sterics_custom_nonbonded force\n"
     ]
    }
   ],
   "source": [
    "# Generate htf for capped ALA->THR in vacuum\n",
    "atp, sys_gen = generate_atp()\n",
    "\n",
    "# At alanine endstate\n",
    "htf = generate_dipeptide_top_pos_sys(atp.topology, \n",
    "                                         new_res='THR', \n",
    "                                         system=atp.system, \n",
    "                                         positions=atp.positions,\n",
    "                                         system_generator=sys_gen, \n",
    "                                         conduct_htf_prop=True,\n",
    "                                         repartitioned=True,\n",
    "                                         endstate=1,\n",
    "                                         flatten_torsions=True,\n",
    "                                         flatten_exceptions=True,\n",
    "                                         validate_endstate_energy=False)\n"
   ]
  },
  {
   "cell_type": "code",
   "execution_count": 7,
   "metadata": {},
   "outputs": [
    {
     "name": "stdout",
     "output_type": "stream",
     "text": [
      "ACE1-H1 0\n",
      "ACE1-CH3 1\n",
      "ACE1-H2 2\n",
      "ACE1-H3 3\n",
      "ACE1-C 4\n",
      "ACE1-O 5\n",
      "ALA2-N 6\n",
      "ALA2-H 7\n",
      "ALA2-CA 8\n",
      "ALA2-HA 9\n",
      "ALA2-CB 10\n",
      "ALA2-HB1 11\n",
      "ALA2-HB2 12\n",
      "ALA2-HB3 13\n",
      "ALA2-C 14\n",
      "ALA2-O 15\n",
      "ALA2-CB 22\n",
      "ALA2-HB 23\n",
      "ALA2-CG2 24\n",
      "ALA2-HG21 25\n",
      "ALA2-HG22 26\n",
      "ALA2-HG23 27\n",
      "ALA2-OG1 28\n",
      "ALA2-HG1 29\n",
      "NME3-N 16\n",
      "NME3-H 17\n",
      "NME3-C 18\n",
      "NME3-H1 19\n",
      "NME3-H2 20\n",
      "NME3-H3 21\n"
     ]
    }
   ],
   "source": [
    "for atom in htf.hybrid_topology.atoms:\n",
    "    print(atom, atom.index)"
   ]
  },
  {
   "cell_type": "code",
   "execution_count": 8,
   "metadata": {
    "scrolled": true
   },
   "outputs": [
    {
     "name": "stdout",
     "output_type": "stream",
     "text": [
      "<Atom 0 (H1) of chain 0 residue 0 (ACE)> 0\n",
      "<Atom 1 (CH3) of chain 0 residue 0 (ACE)> 1\n",
      "<Atom 2 (H2) of chain 0 residue 0 (ACE)> 2\n",
      "<Atom 3 (H3) of chain 0 residue 0 (ACE)> 3\n",
      "<Atom 4 (C) of chain 0 residue 0 (ACE)> 4\n",
      "<Atom 5 (O) of chain 0 residue 0 (ACE)> 5\n",
      "<Atom 6 (N) of chain 0 residue 1 (ALA)> 6\n",
      "<Atom 7 (H) of chain 0 residue 1 (ALA)> 7\n",
      "<Atom 8 (CA) of chain 0 residue 1 (ALA)> 8\n",
      "<Atom 9 (HA) of chain 0 residue 1 (ALA)> 9\n",
      "<Atom 10 (CB) of chain 0 residue 1 (ALA)> 10\n",
      "<Atom 11 (HB1) of chain 0 residue 1 (ALA)> 11\n",
      "<Atom 12 (HB2) of chain 0 residue 1 (ALA)> 12\n",
      "<Atom 13 (HB3) of chain 0 residue 1 (ALA)> 13\n",
      "<Atom 14 (C) of chain 0 residue 1 (ALA)> 14\n",
      "<Atom 15 (O) of chain 0 residue 1 (ALA)> 15\n",
      "<Atom 16 (N) of chain 0 residue 2 (NME)> 16\n",
      "<Atom 17 (H) of chain 0 residue 2 (NME)> 17\n",
      "<Atom 18 (C) of chain 0 residue 2 (NME)> 18\n",
      "<Atom 19 (H1) of chain 0 residue 2 (NME)> 19\n",
      "<Atom 20 (H2) of chain 0 residue 2 (NME)> 20\n",
      "<Atom 21 (H3) of chain 0 residue 2 (NME)> 21\n"
     ]
    }
   ],
   "source": [
    "for atom in htf._topology_proposal.old_topology.atoms():\n",
    "    print(atom, atom.index)"
   ]
  },
  {
   "cell_type": "code",
   "execution_count": 9,
   "metadata": {},
   "outputs": [
    {
     "name": "stdout",
     "output_type": "stream",
     "text": [
      "<Atom 0 (H1) of chain 0 residue 0 (ACE)> 0\n",
      "<Atom 1 (CH3) of chain 0 residue 0 (ACE)> 1\n",
      "<Atom 2 (H2) of chain 0 residue 0 (ACE)> 2\n",
      "<Atom 3 (H3) of chain 0 residue 0 (ACE)> 3\n",
      "<Atom 4 (C) of chain 0 residue 0 (ACE)> 4\n",
      "<Atom 5 (O) of chain 0 residue 0 (ACE)> 5\n",
      "<Atom 6 (N) of chain 0 residue 1 (THR)> 6\n",
      "<Atom 7 (H) of chain 0 residue 1 (THR)> 7\n",
      "<Atom 8 (CA) of chain 0 residue 1 (THR)> 8\n",
      "<Atom 9 (HA) of chain 0 residue 1 (THR)> 9\n",
      "<Atom 10 (CB) of chain 0 residue 1 (THR)> 10\n",
      "<Atom 11 (C) of chain 0 residue 1 (THR)> 11\n",
      "<Atom 12 (O) of chain 0 residue 1 (THR)> 12\n",
      "<Atom 13 (HB) of chain 0 residue 1 (THR)> 13\n",
      "<Atom 14 (CG2) of chain 0 residue 1 (THR)> 14\n",
      "<Atom 15 (HG21) of chain 0 residue 1 (THR)> 15\n",
      "<Atom 16 (HG22) of chain 0 residue 1 (THR)> 16\n",
      "<Atom 17 (HG23) of chain 0 residue 1 (THR)> 17\n",
      "<Atom 18 (OG1) of chain 0 residue 1 (THR)> 18\n",
      "<Atom 19 (HG1) of chain 0 residue 1 (THR)> 19\n",
      "<Atom 20 (N) of chain 0 residue 2 (NME)> 20\n",
      "<Atom 21 (H) of chain 0 residue 2 (NME)> 21\n",
      "<Atom 22 (C) of chain 0 residue 2 (NME)> 22\n",
      "<Atom 23 (H1) of chain 0 residue 2 (NME)> 23\n",
      "<Atom 24 (H2) of chain 0 residue 2 (NME)> 24\n",
      "<Atom 25 (H3) of chain 0 residue 2 (NME)> 25\n"
     ]
    }
   ],
   "source": [
    "for atom in htf._topology_proposal.new_topology.atoms():\n",
    "    print(atom, atom.index)"
   ]
  },
  {
   "cell_type": "code",
   "execution_count": 10,
   "metadata": {},
   "outputs": [
    {
     "name": "stdout",
     "output_type": "stream",
     "text": [
      "sterics  0.0\n",
      "elec  0.0\n",
      "torsions  0.0\n",
      "-24.914391103963382\n",
      "-1.3185705\n",
      "-24.914391103963382\n"
     ]
    },
    {
     "name": "stderr",
     "output_type": "stream",
     "text": [
      "INFO:root:Rotating by 0.26199997660982444 radians\n",
      "/home/zhangi/miniconda3/envs/perses-sims/lib/python3.7/site-packages/numpy/core/_methods.py:217: RuntimeWarning: Degrees of freedom <= 0 for slice\n",
      "  keepdims=keepdims)\n",
      "/home/zhangi/miniconda3/envs/perses-sims/lib/python3.7/site-packages/numpy/core/_methods.py:209: RuntimeWarning: invalid value encountered in double_scalars\n",
      "  ret = ret.dtype.type(ret / rcount)\n",
      "INFO:root:Rotating by 0.262 radians\n",
      "INFO:root:Rotating by 0.2619999999999999 radians\n",
      "INFO:root:Rotating by 0.26200000000000023 radians\n",
      "INFO:root:Rotating by 0.26199999999999973 radians\n",
      "INFO:root:Rotating by 0.26200000000000145 radians\n",
      "INFO:root:Rotating by 0.261999999999999 radians\n",
      "INFO:root:Rotating by 0.2619999999999998 radians\n",
      "INFO:root:Rotating by 0.2619999999999998 radians\n",
      "INFO:root:Rotating by 0.262 radians\n",
      "INFO:root:Rotating by 0.262 radians\n",
      "INFO:root:Rotating by 0.26200000000000023 radians\n",
      "INFO:root:Rotating by 0.26200000000000023 radians\n",
      "INFO:root:Rotating by 0.262 radians\n",
      "INFO:root:Rotating by 0.26200000000000045 radians\n",
      "INFO:root:Rotating by 0.26199999999999957 radians\n",
      "INFO:root:Rotating by 0.26200000000000134 radians\n",
      "INFO:root:Rotating by -6.021185307179584 radians\n",
      "INFO:root:Rotating by 0.26199999999999646 radians\n",
      "INFO:root:Rotating by 0.262 radians\n",
      "INFO:root:Rotating by 0.26200000000000045 radians\n",
      "INFO:root:Rotating by 0.262 radians\n",
      "INFO:root:Rotating by 0.262 radians\n",
      "INFO:root:Rotating by 0.2619999999999998 radians\n",
      "INFO:root:Rotating by 0.26200000000000023 radians\n"
     ]
    },
    {
     "name": "stdout",
     "output_type": "stream",
     "text": [
      "-25.367229271171098\n",
      "-25.228290336259295\n",
      "-24.631713153843833\n",
      "-23.983881439177146\n",
      "-23.721057684227844\n",
      "-24.04967000438684\n",
      "-24.821667966730054\n",
      "-25.618272285522227\n",
      "-25.993350063454702\n",
      "-25.733680969646606\n",
      "-24.983589815698473\n",
      "-24.160788392473737\n",
      "-23.712882649594548\n",
      "-23.857186405712845\n",
      "-24.456323553452798\n",
      "-25.10243457120473\n",
      "-25.360268951169093\n",
      "-25.026363469718923\n",
      "-24.251976058263796\n",
      "-23.457416025334165\n",
      "-23.087708975349802\n",
      "-23.35305374841234\n",
      "-24.106033765265533\n",
      "-24.927220985519778\n",
      "raw d: {-1.0565704946517944: (-25.367229271171098, nan), -0.7945704946517944: (-25.228290336259295, nan), -0.5325704946517944: (-24.631713153843833, nan), -0.2705704946517944: (-23.983881439177146, nan), -0.00857049465179438: (-23.721057684227844, nan), 0.25342950534820563: (-24.04967000438684, nan), 0.5154295053482056: (-24.821667966730054, nan), 0.7774295053482057: (-25.618272285522227, nan), 1.0394295053482057: (-25.993350063454702, nan), 1.3014295053482057: (-25.733680969646606, nan), 1.5634295053482057: (-24.983589815698473, nan), 1.8254295053482057: (-24.160788392473737, nan), 2.0874295053482057: (-23.712882649594548, nan), 2.3494295053482057: (-23.857186405712845, nan), 2.6114295053482057: (-24.456323553452798, nan), 2.8734295053482057: (-25.10243457120473, nan), 3.1354295053482057: (-25.360268951169093, nan), -2.8857558018313805: (-25.026363469718923, nan), -2.6237558018313805: (-24.251976058263796, nan), -2.3617558018313805: (-23.457416025334165, nan), -2.0997558018313804: (-23.087708975349802, nan), -1.8377558018313804: (-23.35305374841234, nan), -1.5757558018313804: (-24.106033765265533, nan), -1.3137558018313804: (-24.927220985519778, nan), -1.0517558018313804: (-25.37015640660044, nan)}\n",
      "min: -25.993350063454702\n",
      "d corrected: {-1.0565704946517944: (0.6261207922836043, nan), -0.7945704946517944: (0.7650597271954069, nan), -0.5325704946517944: (1.3616369096108691, nan), -0.2705704946517944: (2.009468624277556, nan), -0.00857049465179438: (2.272292379226858, nan), 0.25342950534820563: (1.9436800590678622, nan), 0.5154295053482056: (1.1716820967246484, nan), 0.7774295053482057: (0.375077777932475, nan), 1.0394295053482057: (0.0, nan), 1.3014295053482057: (0.2596690938080961, nan), 1.5634295053482057: (1.0097602477562297, nan), 1.8254295053482057: (1.8325616709809651, nan), 2.0874295053482057: (2.280467413860155, nan), 2.3494295053482057: (2.1361636577418572, nan), 2.6114295053482057: (1.5370265100019047, nan), 2.8734295053482057: (0.8909154922499738, nan), 3.1354295053482057: (0.633081112285609, nan), -2.8857558018313805: (0.9669865937357791, nan), -2.6237558018313805: (1.741374005190906, nan), -2.3617558018313805: (2.535934038120537, nan), -2.0997558018313804: (2.9056410881049004, nan), -1.8377558018313804: (2.640296315042363, nan), -1.5757558018313804: (1.8873162981891696, nan), -1.3137558018313804: (1.0661290779349244, nan), -1.0517558018313804: (0.6231936568542622, nan)}\n"
     ]
    },
    {
     "data": {
      "image/png": "[encoded data removed]",
      "text/plain": [
       "<Figure size 432x288 with 1 Axes>"
      ]
     },
     "metadata": {
      "needs_background": "light"
     },
     "output_type": "display_data"
    },
    {
     "data": {
      "text/plain": [
       "{-1.0565704946517944: (0.6261207922836043, nan),\n",
       " -0.7945704946517944: (0.7650597271954069, nan),\n",
       " -0.5325704946517944: (1.3616369096108691, nan),\n",
       " -0.2705704946517944: (2.009468624277556, nan),\n",
       " -0.00857049465179438: (2.272292379226858, nan),\n",
       " 0.25342950534820563: (1.9436800590678622, nan),\n",
       " 0.5154295053482056: (1.1716820967246484, nan),\n",
       " 0.7774295053482057: (0.375077777932475, nan),\n",
       " 1.0394295053482057: (0.0, nan),\n",
       " 1.3014295053482057: (0.2596690938080961, nan),\n",
       " 1.5634295053482057: (1.0097602477562297, nan),\n",
       " 1.8254295053482057: (1.8325616709809651, nan),\n",
       " 2.0874295053482057: (2.280467413860155, nan),\n",
       " 2.3494295053482057: (2.1361636577418572, nan),\n",
       " 2.6114295053482057: (1.5370265100019047, nan),\n",
       " 2.8734295053482057: (0.8909154922499738, nan),\n",
       " 3.1354295053482057: (0.633081112285609, nan),\n",
       " -2.8857558018313805: (0.9669865937357791, nan),\n",
       " -2.6237558018313805: (1.741374005190906, nan),\n",
       " -2.3617558018313805: (2.535934038120537, nan),\n",
       " -2.0997558018313804: (2.9056410881049004, nan),\n",
       " -1.8377558018313804: (2.640296315042363, nan),\n",
       " -1.5757558018313804: (1.8873162981891696, nan),\n",
       " -1.3137558018313804: (1.0661290779349244, nan),\n",
       " -1.0517558018313804: (0.6231936568542622, nan)}"
      ]
     },
     "execution_count": 10,
     "metadata": {},
     "output_type": "execute_result"
    }
   ],
   "source": [
    "# ALA->THR -- THR at lambda = 1\n",
    "run_torsion_scan(htf, 1, False, [6, 8, 22, 28], [6, 8, 10, 18], [23, 24, 25, 26, 27, 29]) "
   ]
  },
  {
   "cell_type": "code",
   "execution_count": null,
   "metadata": {},
   "outputs": [],
   "source": []
  },
  {
   "cell_type": "markdown",
   "metadata": {},
   "source": [
    "###  Generate torsion scans for r-htf with 4 flattened exceptions and all torsions and softened torsions, electrostatics, sterics AND annihilate sterics and electrostatics (sidechains not mapped): ALA->THR lambda = 1"
   ]
  },
  {
   "cell_type": "code",
   "execution_count": 16,
   "metadata": {
    "scrolled": true
   },
   "outputs": [
    {
     "name": "stderr",
     "output_type": "stream",
     "text": [
      "INFO:proposal_generator:\tConducting polymer point mutation proposal...\n",
      "INFO:proposal_generator:Using matching_criterion to chose best atom map\n",
      "INFO:proposal_generator:Scaffold has symmetry of 0\n",
      "WARNING:proposal_generator:Two molecules are not similar to have a common scaffold\n",
      "WARNING:proposal_generator:Proceeding with direct mapping of molecules, but please check atom mapping and the geometry of the ligands.\n",
      "INFO:proposal_generator:len [{9: 7}, {10: 7}, {11: 7}, {12: 7}, {13: 7}, {9: 8}, {10: 8}, {11: 8}, {12: 8}, {13: 8}, {9: 9}, {10: 9}, {11: 9}, {12: 9}, {13: 9}]\n",
      "INFO:proposal_generator:{9: 7}\n",
      "INFO:proposal_generator:{10: 7}\n",
      "INFO:proposal_generator:{11: 7}\n",
      "INFO:proposal_generator:{12: 7}\n",
      "INFO:proposal_generator:{13: 7}\n",
      "INFO:proposal_generator:{9: 8}\n",
      "INFO:proposal_generator:{10: 8}\n",
      "INFO:proposal_generator:{11: 8}\n",
      "INFO:proposal_generator:{12: 8}\n",
      "INFO:proposal_generator:{13: 8}\n",
      "INFO:proposal_generator:{9: 9}\n",
      "INFO:proposal_generator:{10: 9}\n",
      "INFO:proposal_generator:{11: 9}\n",
      "INFO:proposal_generator:{12: 9}\n",
      "INFO:proposal_generator:{13: 9}\n",
      "INFO:proposal_generator:Returning map that best satisfies matching_criterion\n",
      "INFO:proposal_generator:Finding best map using matching_criterion name\n",
      "INFO:proposal_generator:{9: 7}\n",
      "INFO:geometry:propose: performing forward proposal\n",
      "INFO:geometry:propose: unique new atoms detected; proceeding to _logp_propose...\n",
      "INFO:geometry:Conducting forward proposal...\n",
      "INFO:geometry:Computing proposal order with NetworkX...\n",
      "INFO:geometry:number of atoms to be placed: 8\n",
      "INFO:geometry:Atom index proposal order is [10, 18, 14, 19, 17, 15, 13, 16]\n",
      "INFO:geometry:omitted_bonds: []\n",
      "INFO:geometry:direction of proposal is forward; creating atoms_with_positions and new positions from old system/topology...\n",
      "INFO:geometry:creating growth system...\n",
      "INFO:geometry:\tcreating bond force...\n",
      "INFO:geometry:\tthere are 11 bonds in reference force.\n",
      "INFO:geometry:\tcreating angle force...\n",
      "INFO:geometry:\tthere are 43 angles in reference force.\n",
      "INFO:geometry:\tcreating torsion force...\n",
      "INFO:geometry:\tcreating extra torsions force...\n",
      "INFO:geometry:\tthere are 72 torsions in reference force.\n",
      "INFO:geometry:\tcreating nonbonded force...\n"
     ]
    },
    {
     "name": "stdout",
     "output_type": "stream",
     "text": [
      "making topology proposal\n",
      "generating geometry engine\n",
      "making geometry proposal from ALA to THR\n"
     ]
    },
    {
     "name": "stderr",
     "output_type": "stream",
     "text": [
      "INFO:geometry:\t\tgrabbing reference nonbonded method, cutoff, switching function, switching distance...\n",
      "INFO:geometry:\t\tcreating nonbonded exception force (i.e. custom bond for 1,4s)...\n",
      "INFO:geometry:\t\tlooping through exceptions calculating growth indices, and adding appropriate interactions to custom bond force.\n",
      "INFO:geometry:\t\tthere are 121 in the reference Nonbonded force\n",
      "WARNING:geometry:\t\t\t\t\tchiral atom <Atom 8 (CA) of chain 0 residue 1 (THR)> with neighbors [<Atom 9 (HA) of chain 0 residue 1 (THR)>, <Atom 10 (CB) of chain 0 residue 1 (THR)>, <Atom 11 (C) of chain 0 residue 1 (THR)>, <Atom 6 (N) of chain 0 residue 1 (THR)>] is surrounded by 3 core neighbors.  omitting chirality bias torsion\n",
      "INFO:geometry:Neglected angle terms : []\n",
      "INFO:geometry:omitted_growth_terms: {'bonds': [], 'angles': [], 'torsions': [], '1,4s': []}\n",
      "INFO:geometry:extra torsions: {0: (18, 10, 8, 14, [1, Quantity(value=-1.0655064807976995, unit=radian), Quantity(value=120.0, unit=kilocalorie/mole), 3])}\n",
      "INFO:geometry:neglected angle terms include []\n",
      "INFO:geometry:log probability choice of torsions and atom order: -13.659277711932692\n",
      "INFO:geometry:creating platform, integrators, and contexts; setting growth parameter\n"
     ]
    },
    {
     "name": "stdout",
     "output_type": "stream",
     "text": [
      "conducting subsequent work with the following platform: CUDA\n"
     ]
    },
    {
     "name": "stderr",
     "output_type": "stream",
     "text": [
      "INFO:geometry:setting atoms_with_positions context new positions\n"
     ]
    },
    {
     "name": "stdout",
     "output_type": "stream",
     "text": [
      "conducting subsequent work with the following platform: CUDA\n"
     ]
    },
    {
     "name": "stderr",
     "output_type": "stream",
     "text": [
      "INFO:geometry:There are 8 new atoms\n",
      "INFO:geometry:\treduced angle potential = 0.011911234796091677.\n",
      "INFO:geometry:\treduced angle potential = 0.4351933921520479.\n",
      "INFO:geometry:\treduced angle potential = 1.296674894916039.\n",
      "INFO:geometry:\treduced angle potential = 0.0699347421667924.\n",
      "INFO:geometry:\treduced angle potential = 0.08708370447614831.\n",
      "INFO:geometry:\treduced angle potential = 0.07628373586958204.\n",
      "INFO:geometry:\treduced angle potential = 0.4857526840151744.\n",
      "INFO:geometry:\treduced angle potential = 0.05528763344039972.\n",
      "INFO:geometry:\tbeginning construction of no_nonbonded final system...\n",
      "INFO:geometry:\tinitial no-nonbonded final system forces ['HarmonicBondForce', 'HarmonicAngleForce', 'PeriodicTorsionForce', 'NonbondedForce']\n",
      "INFO:geometry:\tfinal no-nonbonded final system forces dict_keys(['HarmonicBondForce', 'HarmonicAngleForce', 'PeriodicTorsionForce', 'NonbondedForce'])\n",
      "INFO:geometry:\tthere are 11 bond forces in the no-nonbonded final system\n",
      "INFO:geometry:\tthere are 43 angle forces in the no-nonbonded final system\n",
      "INFO:geometry:\tthere are 72 torsion forces in the no-nonbonded final system\n",
      "INFO:geometry:forward final system defined with 0 neglected angles.\n"
     ]
    },
    {
     "name": "stdout",
     "output_type": "stream",
     "text": [
      "conducting subsequent work with the following platform: CUDA\n",
      "conducting subsequent work with the following platform: CUDA\n"
     ]
    },
    {
     "name": "stderr",
     "output_type": "stream",
     "text": [
      "INFO:geometry:total reduced potential before atom placement: 9.116470338224556\n"
     ]
    },
    {
     "name": "stdout",
     "output_type": "stream",
     "text": [
      "conducting subsequent work with the following platform: CUDA\n",
      "conducting subsequent work with the following platform: CUDA\n",
      "conducting subsequent work with the following platform: CUDA\n"
     ]
    },
    {
     "name": "stderr",
     "output_type": "stream",
     "text": [
      "INFO:geometry:total reduced energy added from growth system: -61.69559811448555\n",
      "INFO:geometry:final reduced energy -52.57912880747584\n",
      "INFO:geometry:sum of energies: -52.57912777626099\n",
      "INFO:geometry:magnitude of difference in the energies: 1.0312148503999197e-06\n",
      "INFO:geometry:Final logp_proposal: 47.60944395430903\n"
     ]
    },
    {
     "name": "stdout",
     "output_type": "stream",
     "text": [
      "added energy components: [('CustomBondForce', 0.6005430700011501), ('CustomAngleForce', 8.15924139321325), ('CustomTorsionForce', 14.240905841706963), ('CustomBondForce', -84.69628841940693)]\n"
     ]
    },
    {
     "name": "stderr",
     "output_type": "stream",
     "text": [
      "INFO:geometry:logp_reverse: performing reverse proposal\n",
      "INFO:geometry:logp_reverse: unique new atoms detected; proceeding to _logp_propose...\n",
      "INFO:geometry:Conducting forward proposal...\n",
      "INFO:geometry:Computing proposal order with NetworkX...\n",
      "INFO:geometry:number of atoms to be placed: 4\n",
      "INFO:geometry:Atom index proposal order is [10, 13, 12, 11]\n",
      "INFO:geometry:omitted_bonds: []\n",
      "INFO:geometry:direction of proposal is reverse; creating atoms_with_positions from old system/topology\n",
      "INFO:geometry:creating growth system...\n",
      "INFO:geometry:\tcreating bond force...\n",
      "INFO:geometry:\tthere are 9 bonds in reference force.\n",
      "INFO:geometry:\tcreating angle force...\n",
      "INFO:geometry:\tthere are 36 angles in reference force.\n",
      "INFO:geometry:\tcreating torsion force...\n",
      "INFO:geometry:\tcreating extra torsions force...\n",
      "INFO:geometry:\tthere are 42 torsions in reference force.\n",
      "INFO:geometry:\tcreating nonbonded force...\n",
      "INFO:geometry:\t\tgrabbing reference nonbonded method, cutoff, switching function, switching distance...\n",
      "INFO:geometry:\t\tcreating nonbonded exception force (i.e. custom bond for 1,4s)...\n",
      "INFO:geometry:\t\tlooping through exceptions calculating growth indices, and adding appropriate interactions to custom bond force.\n",
      "INFO:geometry:\t\tthere are 98 in the reference Nonbonded force\n",
      "WARNING:geometry:\t\t\t\t\tchiral atom <Atom 8 (CA) of chain 0 residue 1 (ALA)> with neighbors [<Atom 9 (HA) of chain 0 residue 1 (ALA)>, <Atom 10 (CB) of chain 0 residue 1 (ALA)>, <Atom 14 (C) of chain 0 residue 1 (ALA)>, <Atom 6 (N) of chain 0 residue 1 (ALA)>] is surrounded by 3 core neighbors.  omitting chirality bias torsion\n",
      "INFO:geometry:Neglected angle terms : []\n",
      "INFO:geometry:omitted_growth_terms: {'bonds': [], 'angles': [], 'torsions': [], '1,4s': []}\n",
      "INFO:geometry:extra torsions: {}\n",
      "INFO:geometry:neglected angle terms include []\n",
      "INFO:geometry:log probability choice of torsions and atom order: -5.78074351579233\n",
      "INFO:geometry:creating platform, integrators, and contexts; setting growth parameter\n"
     ]
    },
    {
     "name": "stdout",
     "output_type": "stream",
     "text": [
      "conducting subsequent work with the following platform: CUDA\n"
     ]
    },
    {
     "name": "stderr",
     "output_type": "stream",
     "text": [
      "INFO:geometry:setting atoms_with_positions context old positions\n"
     ]
    },
    {
     "name": "stdout",
     "output_type": "stream",
     "text": [
      "conducting subsequent work with the following platform: CUDA\n"
     ]
    },
    {
     "name": "stderr",
     "output_type": "stream",
     "text": [
      "INFO:geometry:There are 4 new atoms\n",
      "INFO:geometry:\treduced angle potential = 0.3517320112693091.\n",
      "INFO:geometry:\treduced angle potential = 7.390951941228323e-11.\n",
      "INFO:geometry:\treduced angle potential = 3.205828647416432e-13.\n",
      "INFO:geometry:\treduced angle potential = 1.2915573155343707e-10.\n",
      "INFO:geometry:\tbeginning construction of no_nonbonded final system...\n",
      "INFO:geometry:\tinitial no-nonbonded final system forces ['HarmonicBondForce', 'HarmonicAngleForce', 'PeriodicTorsionForce', 'NonbondedForce']\n",
      "INFO:geometry:\tfinal no-nonbonded final system forces dict_keys(['HarmonicBondForce', 'HarmonicAngleForce', 'PeriodicTorsionForce', 'NonbondedForce'])\n",
      "INFO:geometry:\tthere are 9 bond forces in the no-nonbonded final system\n",
      "INFO:geometry:\tthere are 36 angle forces in the no-nonbonded final system\n",
      "INFO:geometry:\tthere are 42 torsion forces in the no-nonbonded final system\n",
      "INFO:geometry:reverse final system defined with 0 neglected angles.\n"
     ]
    },
    {
     "name": "stdout",
     "output_type": "stream",
     "text": [
      "conducting subsequent work with the following platform: CUDA\n",
      "conducting subsequent work with the following platform: CUDA\n"
     ]
    },
    {
     "name": "stderr",
     "output_type": "stream",
     "text": [
      "INFO:geometry:total reduced potential before atom placement: 9.116470338224556\n"
     ]
    },
    {
     "name": "stdout",
     "output_type": "stream",
     "text": [
      "conducting subsequent work with the following platform: CUDA\n",
      "conducting subsequent work with the following platform: CUDA\n",
      "conducting subsequent work with the following platform: CUDA\n"
     ]
    },
    {
     "name": "stderr",
     "output_type": "stream",
     "text": [
      "INFO:geometry:total reduced energy added from growth system: 20.67296217359934\n",
      "INFO:geometry:final reduced energy 29.789432654951565\n",
      "INFO:geometry:sum of energies: 29.789432511823897\n",
      "INFO:geometry:magnitude of difference in the energies: 1.431276679397797e-07\n",
      "INFO:geometry:Final logp_proposal: 25.370167324821\n"
     ]
    },
    {
     "name": "stdout",
     "output_type": "stream",
     "text": [
      "added energy components: [('CustomBondForce', 0.000520203310858755), ('CustomAngleForce', 0.4511192410252491), ('CustomTorsionForce', 7.250454736370486), ('CustomBondForce', 12.970867992892748)]\n"
     ]
    },
    {
     "name": "stderr",
     "output_type": "stream",
     "text": [
      "INFO:relative:Old system forces: dict_keys(['HarmonicBondForce', 'HarmonicAngleForce', 'PeriodicTorsionForce', 'NonbondedForce'])\n",
      "INFO:relative:New system forces: dict_keys(['HarmonicBondForce', 'HarmonicAngleForce', 'PeriodicTorsionForce', 'NonbondedForce'])\n",
      "INFO:relative:No unknown forces.\n",
      "INFO:relative:Nonbonded method to be used (i.e. from old system): 0\n",
      "INFO:relative:Adding and mapping old atoms to hybrid system...\n",
      "INFO:relative:Adding and mapping new atoms to hybrid system...\n",
      "INFO:relative:No MonteCarloBarostat added.\n",
      "INFO:relative:getDefaultPeriodicBoxVectors added to hybrid: [Quantity(value=Vec3(x=2.0, y=0.0, z=0.0), unit=nanometer), Quantity(value=Vec3(x=0.0, y=2.0, z=0.0), unit=nanometer), Quantity(value=Vec3(x=0.0, y=0.0, z=2.0), unit=nanometer)]\n",
      "INFO:relative:Determined atom classes.\n",
      "INFO:relative:Generating old system exceptions dict...\n",
      "INFO:relative:Generating new system exceptions dict...\n",
      "INFO:relative:Handling constraints...\n",
      "INFO:relative:Handling virtual sites...\n",
      "INFO:relative:\t_handle_virtual_sites: numVirtualSites: 0\n",
      "INFO:relative:\t_add_nonbonded_force_terms: <simtk.openmm.openmm.NonbondedForce; proxy of <Swig Object of type 'OpenMM::NonbondedForce *' at 0x2b40067404e0> > added to hybrid system\n",
      "INFO:relative:\t_add_nonbonded_force_terms: nonbonded_method is NoCutoff\n",
      "INFO:relative:\t_add_nonbonded_force_terms: 0 added to standard nonbonded force\n",
      "INFO:relative:\t_add_nonbonded_force_terms: 0 added to sterics_custom_nonbonded force\n"
     ]
    }
   ],
   "source": [
    "# Generate htf for capped ALA->THR in vacuum\n",
    "atp, sys_gen = generate_atp()\n",
    "\n",
    "# At alanine endstate\n",
    "htf = generate_dipeptide_top_pos_sys(atp.topology, \n",
    "                                         new_res='THR', \n",
    "                                         system=atp.system, \n",
    "                                         positions=atp.positions,\n",
    "                                         system_generator=sys_gen, \n",
    "                                         conduct_htf_prop=True,\n",
    "                                         repartitioned=True,\n",
    "                                         endstate=1,\n",
    "                                         flatten_torsions=True,\n",
    "                                         flatten_exceptions=True,\n",
    "                                         validate_endstate_energy=False)\n"
   ]
  },
  {
   "cell_type": "code",
   "execution_count": 17,
   "metadata": {},
   "outputs": [
    {
     "name": "stdout",
     "output_type": "stream",
     "text": [
      "ACE1-H1 0\n",
      "ACE1-CH3 1\n",
      "ACE1-H2 2\n",
      "ACE1-H3 3\n",
      "ACE1-C 4\n",
      "ACE1-O 5\n",
      "ALA2-N 6\n",
      "ALA2-H 7\n",
      "ALA2-CA 8\n",
      "ALA2-HA 9\n",
      "ALA2-CB 10\n",
      "ALA2-HB1 11\n",
      "ALA2-HB2 12\n",
      "ALA2-HB3 13\n",
      "ALA2-C 14\n",
      "ALA2-O 15\n",
      "ALA2-CB 22\n",
      "ALA2-HB 23\n",
      "ALA2-CG2 24\n",
      "ALA2-HG21 25\n",
      "ALA2-HG22 26\n",
      "ALA2-HG23 27\n",
      "ALA2-OG1 28\n",
      "ALA2-HG1 29\n",
      "NME3-N 16\n",
      "NME3-H 17\n",
      "NME3-C 18\n",
      "NME3-H1 19\n",
      "NME3-H2 20\n",
      "NME3-H3 21\n"
     ]
    }
   ],
   "source": [
    "for atom in htf.hybrid_topology.atoms:\n",
    "    print(atom, atom.index)"
   ]
  },
  {
   "cell_type": "code",
   "execution_count": 18,
   "metadata": {
    "scrolled": true
   },
   "outputs": [
    {
     "name": "stdout",
     "output_type": "stream",
     "text": [
      "<Atom 0 (H1) of chain 0 residue 0 (ACE)> 0\n",
      "<Atom 1 (CH3) of chain 0 residue 0 (ACE)> 1\n",
      "<Atom 2 (H2) of chain 0 residue 0 (ACE)> 2\n",
      "<Atom 3 (H3) of chain 0 residue 0 (ACE)> 3\n",
      "<Atom 4 (C) of chain 0 residue 0 (ACE)> 4\n",
      "<Atom 5 (O) of chain 0 residue 0 (ACE)> 5\n",
      "<Atom 6 (N) of chain 0 residue 1 (ALA)> 6\n",
      "<Atom 7 (H) of chain 0 residue 1 (ALA)> 7\n",
      "<Atom 8 (CA) of chain 0 residue 1 (ALA)> 8\n",
      "<Atom 9 (HA) of chain 0 residue 1 (ALA)> 9\n",
      "<Atom 10 (CB) of chain 0 residue 1 (ALA)> 10\n",
      "<Atom 11 (HB1) of chain 0 residue 1 (ALA)> 11\n",
      "<Atom 12 (HB2) of chain 0 residue 1 (ALA)> 12\n",
      "<Atom 13 (HB3) of chain 0 residue 1 (ALA)> 13\n",
      "<Atom 14 (C) of chain 0 residue 1 (ALA)> 14\n",
      "<Atom 15 (O) of chain 0 residue 1 (ALA)> 15\n",
      "<Atom 16 (N) of chain 0 residue 2 (NME)> 16\n",
      "<Atom 17 (H) of chain 0 residue 2 (NME)> 17\n",
      "<Atom 18 (C) of chain 0 residue 2 (NME)> 18\n",
      "<Atom 19 (H1) of chain 0 residue 2 (NME)> 19\n",
      "<Atom 20 (H2) of chain 0 residue 2 (NME)> 20\n",
      "<Atom 21 (H3) of chain 0 residue 2 (NME)> 21\n"
     ]
    }
   ],
   "source": [
    "for atom in htf._topology_proposal.old_topology.atoms():\n",
    "    print(atom, atom.index)"
   ]
  },
  {
   "cell_type": "code",
   "execution_count": 19,
   "metadata": {},
   "outputs": [
    {
     "name": "stdout",
     "output_type": "stream",
     "text": [
      "<Atom 0 (H1) of chain 0 residue 0 (ACE)> 0\n",
      "<Atom 1 (CH3) of chain 0 residue 0 (ACE)> 1\n",
      "<Atom 2 (H2) of chain 0 residue 0 (ACE)> 2\n",
      "<Atom 3 (H3) of chain 0 residue 0 (ACE)> 3\n",
      "<Atom 4 (C) of chain 0 residue 0 (ACE)> 4\n",
      "<Atom 5 (O) of chain 0 residue 0 (ACE)> 5\n",
      "<Atom 6 (N) of chain 0 residue 1 (THR)> 6\n",
      "<Atom 7 (H) of chain 0 residue 1 (THR)> 7\n",
      "<Atom 8 (CA) of chain 0 residue 1 (THR)> 8\n",
      "<Atom 9 (HA) of chain 0 residue 1 (THR)> 9\n",
      "<Atom 10 (CB) of chain 0 residue 1 (THR)> 10\n",
      "<Atom 11 (C) of chain 0 residue 1 (THR)> 11\n",
      "<Atom 12 (O) of chain 0 residue 1 (THR)> 12\n",
      "<Atom 13 (HB) of chain 0 residue 1 (THR)> 13\n",
      "<Atom 14 (CG2) of chain 0 residue 1 (THR)> 14\n",
      "<Atom 15 (HG21) of chain 0 residue 1 (THR)> 15\n",
      "<Atom 16 (HG22) of chain 0 residue 1 (THR)> 16\n",
      "<Atom 17 (HG23) of chain 0 residue 1 (THR)> 17\n",
      "<Atom 18 (OG1) of chain 0 residue 1 (THR)> 18\n",
      "<Atom 19 (HG1) of chain 0 residue 1 (THR)> 19\n",
      "<Atom 20 (N) of chain 0 residue 2 (NME)> 20\n",
      "<Atom 21 (H) of chain 0 residue 2 (NME)> 21\n",
      "<Atom 22 (C) of chain 0 residue 2 (NME)> 22\n",
      "<Atom 23 (H1) of chain 0 residue 2 (NME)> 23\n",
      "<Atom 24 (H2) of chain 0 residue 2 (NME)> 24\n",
      "<Atom 25 (H3) of chain 0 residue 2 (NME)> 25\n"
     ]
    }
   ],
   "source": [
    "for atom in htf._topology_proposal.new_topology.atoms():\n",
    "    print(atom, atom.index)"
   ]
  },
  {
   "cell_type": "code",
   "execution_count": 22,
   "metadata": {},
   "outputs": [
    {
     "name": "stdout",
     "output_type": "stream",
     "text": [
      "sterics  0.0\n",
      "elec  0.0\n",
      "torsions  0.0\n",
      "-33.25614143752553\n",
      "2.847447\n",
      "-33.25614143752553\n"
     ]
    },
    {
     "name": "stderr",
     "output_type": "stream",
     "text": [
      "INFO:root:Rotating by 0.26199987357691334 radians\n",
      "INFO:root:Rotating by -6.021185307179586 radians\n",
      "INFO:root:Rotating by 0.26199999999999957 radians\n",
      "INFO:root:Rotating by 0.262 radians\n",
      "INFO:root:Rotating by 0.262 radians\n",
      "INFO:root:Rotating by 0.262 radians\n",
      "INFO:root:Rotating by 0.262 radians\n",
      "INFO:root:Rotating by 0.262 radians\n",
      "INFO:root:Rotating by 0.26200000000000023 radians\n",
      "INFO:root:Rotating by 0.26200000000000045 radians\n",
      "INFO:root:Rotating by 0.2619999999999999 radians\n",
      "INFO:root:Rotating by 0.2620000000000001 radians\n",
      "INFO:root:Rotating by 0.26200000000000034 radians\n",
      "INFO:root:Rotating by 0.2620000000000027 radians\n",
      "INFO:root:Rotating by 0.261999999999997 radians\n",
      "INFO:root:Rotating by 0.26200000000000007 radians\n",
      "INFO:root:Rotating by 0.2620000000000001 radians\n",
      "INFO:root:Rotating by 0.2619999999999998 radians\n",
      "INFO:root:Rotating by 0.2619999999999998 radians\n",
      "INFO:root:Rotating by 0.26200000000000045 radians\n",
      "INFO:root:Rotating by 0.262 radians\n",
      "INFO:root:Rotating by 0.26200000000000045 radians\n",
      "INFO:root:Rotating by 0.26199999999999957 radians\n",
      "INFO:root:Rotating by 0.26200000000000045 radians\n",
      "INFO:root:Rotating by 0.26199999999999957 radians\n"
     ]
    },
    {
     "name": "stdout",
     "output_type": "stream",
     "text": [
      "-33.25461995729613\n",
      "-32.68482272994053\n",
      "-31.8378223435889\n",
      "-31.17835906126023\n",
      "-31.074346136284998\n",
      "-31.582399702796163\n",
      "-32.414851721797994\n",
      "-33.10784857485921\n",
      "-33.29182861684032\n",
      "-32.905666389423025\n",
      "-32.2294814289584\n",
      "-31.716579792006286\n",
      "-31.723657743794977\n",
      "-32.29777849827536\n",
      "-33.14522816809488\n",
      "-33.800907123601434\n",
      "-33.898976324707135\n",
      "-33.38619827378498\n",
      "-32.55284167129732\n",
      "-31.86317883985215\n",
      "-31.684750255156327\n",
      "-32.075278954112655\n",
      "-32.75209261866968\n",
      "-33.26148118199479\n",
      "raw d: {3.109446918487549: (-33.25461995729613, nan), -2.9117383886920374: (-32.68482272994053, nan), -2.6497383886920374: (-31.8378223435889, nan), -2.3877383886920374: (-31.17835906126023, nan), -2.1257383886920374: (-31.074346136284998, nan), -1.8637383886920373: (-31.582399702796163, nan), -1.6017383886920373: (-32.414851721797994, nan), -1.3397383886920373: (-33.10784857485921, nan), -1.0777383886920373: (-33.29182861684032, nan), -0.8157383886920373: (-32.905666389423025, nan), -0.5537383886920373: (-32.2294814289584, nan), -0.2917383886920373: (-31.716579792006286, nan), -0.029738388692037265: (-31.723657743794977, nan), 0.23226161130796275: (-32.29777849827536, nan), 0.49426161130796276: (-33.14522816809488, nan), 0.7562616113079628: (-33.800907123601434, nan), 1.0182616113079628: (-33.898976324707135, nan), 1.2802616113079628: (-33.38619827378498, nan), 1.5422616113079628: (-32.55284167129732, nan), 1.8042616113079628: (-31.86317883985215, nan), 2.066261611307963: (-31.684750255156327, nan), 2.328261611307963: (-32.075278954112655, nan), 2.590261611307963: (-32.75209261866968, nan), 2.852261611307963: (-33.26148118199479, nan), 3.114261611307963: (-33.248845446283575, nan)}\n",
      "min: -33.898976324707135\n",
      "d corrected: {3.109446918487549: (0.6443563674110067, nan), -2.9117383886920374: (1.2141535947666071, nan), -2.6497383886920374: (2.0611539811182347, nan), -2.3877383886920374: (2.720617263446904, nan), -2.1257383886920374: (2.8246301884221374, nan), -1.8637383886920373: (2.316576621910972, nan), -1.6017383886920373: (1.4841246029091408, nan), -1.3397383886920373: (0.7911277498479237, nan), -1.0777383886920373: (0.6071477078668153, nan), -0.8157383886920373: (0.9933099352841097, nan), -0.5537383886920373: (1.669494895748734, nan), -0.2917383886920373: (2.1823965327008494, nan), -0.029738388692037265: (2.1753185809121582, nan), 0.23226161130796275: (1.6011978264317719, nan), 0.49426161130796276: (0.7537481566122537, nan), 0.7562616113079628: (0.09806920110570161, nan), 1.0182616113079628: (0.0, nan), 1.2802616113079628: (0.512778050922158, nan), 1.5422616113079628: (1.3461346534098126, nan), 1.8042616113079628: (2.035797484854985, nan), 2.066261611307963: (2.214226069550808, nan), 2.328261611307963: (1.8236973705944806, nan), 2.590261611307963: (1.1468837060374568, nan), 2.852261611307963: (0.6374951427123463, nan), 3.114261611307963: (0.6501308784235604, nan)}\n"
     ]
    },
    {
     "data": {
      "image/png": "[encoded data removed]",
      "text/plain": [
       "<Figure size 432x288 with 1 Axes>"
      ]
     },
     "metadata": {
      "needs_background": "light"
     },
     "output_type": "display_data"
    },
    {
     "data": {
      "text/plain": [
       "{3.109446918487549: (0.6443563674110067, nan),\n",
       " -2.9117383886920374: (1.2141535947666071, nan),\n",
       " -2.6497383886920374: (2.0611539811182347, nan),\n",
       " -2.3877383886920374: (2.720617263446904, nan),\n",
       " -2.1257383886920374: (2.8246301884221374, nan),\n",
       " -1.8637383886920373: (2.316576621910972, nan),\n",
       " -1.6017383886920373: (1.4841246029091408, nan),\n",
       " -1.3397383886920373: (0.7911277498479237, nan),\n",
       " -1.0777383886920373: (0.6071477078668153, nan),\n",
       " -0.8157383886920373: (0.9933099352841097, nan),\n",
       " -0.5537383886920373: (1.669494895748734, nan),\n",
       " -0.2917383886920373: (2.1823965327008494, nan),\n",
       " -0.029738388692037265: (2.1753185809121582, nan),\n",
       " 0.23226161130796275: (1.6011978264317719, nan),\n",
       " 0.49426161130796276: (0.7537481566122537, nan),\n",
       " 0.7562616113079628: (0.09806920110570161, nan),\n",
       " 1.0182616113079628: (0.0, nan),\n",
       " 1.2802616113079628: (0.512778050922158, nan),\n",
       " 1.5422616113079628: (1.3461346534098126, nan),\n",
       " 1.8042616113079628: (2.035797484854985, nan),\n",
       " 2.066261611307963: (2.214226069550808, nan),\n",
       " 2.328261611307963: (1.8236973705944806, nan),\n",
       " 2.590261611307963: (1.1468837060374568, nan),\n",
       " 2.852261611307963: (0.6374951427123463, nan),\n",
       " 3.114261611307963: (0.6501308784235604, nan)}"
      ]
     },
     "execution_count": 22,
     "metadata": {},
     "output_type": "execute_result"
    }
   ],
   "source": [
    "# ALA->THR -- THR at lambda = 1\n",
    "run_torsion_scan(htf, 1, False, [6, 8, 22, 28], [6, 8, 10, 18], [23, 24, 25, 26, 27, 29]) "
   ]
  },
  {
   "cell_type": "markdown",
   "metadata": {},
   "source": [
    "###  Generate torsion scans for r-htf with 4 flattened exceptions and all torsions and softened torsions, electrostatics, sterics AND new system exceptions flattened (sidechains not mapped): ALA->THR lambda = 1"
   ]
  },
  {
   "cell_type": "code",
   "execution_count": 47,
   "metadata": {
    "scrolled": true
   },
   "outputs": [
    {
     "name": "stderr",
     "output_type": "stream",
     "text": [
      "INFO:proposal_generator:\tConducting polymer point mutation proposal...\n",
      "INFO:proposal_generator:Using matching_criterion to chose best atom map\n",
      "INFO:proposal_generator:Scaffold has symmetry of 0\n",
      "WARNING:proposal_generator:Two molecules are not similar to have a common scaffold\n",
      "WARNING:proposal_generator:Proceeding with direct mapping of molecules, but please check atom mapping and the geometry of the ligands.\n",
      "INFO:proposal_generator:len [{9: 7}, {10: 7}, {11: 7}, {12: 7}, {13: 7}, {9: 8}, {10: 8}, {11: 8}, {12: 8}, {13: 8}, {9: 9}, {10: 9}, {11: 9}, {12: 9}, {13: 9}]\n",
      "INFO:proposal_generator:{9: 7}\n",
      "INFO:proposal_generator:{10: 7}\n",
      "INFO:proposal_generator:{11: 7}\n",
      "INFO:proposal_generator:{12: 7}\n",
      "INFO:proposal_generator:{13: 7}\n",
      "INFO:proposal_generator:{9: 8}\n",
      "INFO:proposal_generator:{10: 8}\n",
      "INFO:proposal_generator:{11: 8}\n",
      "INFO:proposal_generator:{12: 8}\n",
      "INFO:proposal_generator:{13: 8}\n",
      "INFO:proposal_generator:{9: 9}\n",
      "INFO:proposal_generator:{10: 9}\n",
      "INFO:proposal_generator:{11: 9}\n",
      "INFO:proposal_generator:{12: 9}\n",
      "INFO:proposal_generator:{13: 9}\n",
      "INFO:proposal_generator:Returning map that best satisfies matching_criterion\n",
      "INFO:proposal_generator:Finding best map using matching_criterion name\n",
      "INFO:proposal_generator:{9: 7}\n",
      "INFO:geometry:propose: performing forward proposal\n",
      "INFO:geometry:propose: unique new atoms detected; proceeding to _logp_propose...\n",
      "INFO:geometry:Conducting forward proposal...\n",
      "INFO:geometry:Computing proposal order with NetworkX...\n",
      "INFO:geometry:number of atoms to be placed: 8\n",
      "INFO:geometry:Atom index proposal order is [10, 14, 18, 19, 16, 13, 17, 15]\n",
      "INFO:geometry:omitted_bonds: []\n",
      "INFO:geometry:direction of proposal is forward; creating atoms_with_positions and new positions from old system/topology...\n",
      "INFO:geometry:creating growth system...\n",
      "INFO:geometry:\tcreating bond force...\n",
      "INFO:geometry:\tthere are 11 bonds in reference force.\n",
      "INFO:geometry:\tcreating angle force...\n",
      "INFO:geometry:\tthere are 43 angles in reference force.\n",
      "INFO:geometry:\tcreating torsion force...\n",
      "INFO:geometry:\tcreating extra torsions force...\n",
      "INFO:geometry:\tthere are 72 torsions in reference force.\n"
     ]
    },
    {
     "name": "stdout",
     "output_type": "stream",
     "text": [
      "making topology proposal\n",
      "generating geometry engine\n",
      "making geometry proposal from ALA to THR\n"
     ]
    },
    {
     "name": "stderr",
     "output_type": "stream",
     "text": [
      "INFO:geometry:\tcreating nonbonded force...\n",
      "INFO:geometry:\t\tgrabbing reference nonbonded method, cutoff, switching function, switching distance...\n",
      "INFO:geometry:\t\tcreating nonbonded exception force (i.e. custom bond for 1,4s)...\n",
      "INFO:geometry:\t\tlooping through exceptions calculating growth indices, and adding appropriate interactions to custom bond force.\n",
      "INFO:geometry:\t\tthere are 121 in the reference Nonbonded force\n",
      "WARNING:geometry:\t\t\t\t\tchiral atom <Atom 8 (CA) of chain 0 residue 1 (THR)> with neighbors [<Atom 9 (HA) of chain 0 residue 1 (THR)>, <Atom 10 (CB) of chain 0 residue 1 (THR)>, <Atom 11 (C) of chain 0 residue 1 (THR)>, <Atom 6 (N) of chain 0 residue 1 (THR)>] is surrounded by 3 core neighbors.  omitting chirality bias torsion\n",
      "INFO:geometry:Neglected angle terms : []\n",
      "INFO:geometry:omitted_growth_terms: {'bonds': [], 'angles': [], 'torsions': [], '1,4s': []}\n",
      "INFO:geometry:extra torsions: {0: (14, 10, 8, 18, [1, Quantity(value=1.0655064807976995, unit=radian), Quantity(value=120.0, unit=kilocalorie/mole), 3])}\n",
      "INFO:geometry:neglected angle terms include []\n",
      "INFO:geometry:log probability choice of torsions and atom order: -13.371595639480912\n",
      "INFO:geometry:creating platform, integrators, and contexts; setting growth parameter\n"
     ]
    },
    {
     "name": "stdout",
     "output_type": "stream",
     "text": [
      "conducting subsequent work with the following platform: CUDA\n"
     ]
    },
    {
     "name": "stderr",
     "output_type": "stream",
     "text": [
      "INFO:geometry:setting atoms_with_positions context new positions\n"
     ]
    },
    {
     "name": "stdout",
     "output_type": "stream",
     "text": [
      "conducting subsequent work with the following platform: CUDA\n"
     ]
    },
    {
     "name": "stderr",
     "output_type": "stream",
     "text": [
      "INFO:geometry:There are 8 new atoms\n",
      "INFO:geometry:\treduced angle potential = 2.7089299395213144.\n",
      "INFO:geometry:\treduced angle potential = 0.321967074445487.\n",
      "INFO:geometry:\treduced angle potential = 0.4326428243715022.\n",
      "INFO:geometry:\treduced angle potential = 0.04227343652487156.\n",
      "INFO:geometry:\treduced angle potential = 0.24780578454309793.\n",
      "INFO:geometry:\treduced angle potential = 0.42046591830006785.\n",
      "INFO:geometry:\treduced angle potential = 0.2166806090052044.\n",
      "INFO:geometry:\treduced angle potential = 0.013180996084875165.\n",
      "INFO:geometry:\tbeginning construction of no_nonbonded final system...\n",
      "INFO:geometry:\tinitial no-nonbonded final system forces ['HarmonicBondForce', 'HarmonicAngleForce', 'PeriodicTorsionForce', 'NonbondedForce']\n",
      "INFO:geometry:\tfinal no-nonbonded final system forces dict_keys(['HarmonicBondForce', 'HarmonicAngleForce', 'PeriodicTorsionForce', 'NonbondedForce'])\n",
      "INFO:geometry:\tthere are 11 bond forces in the no-nonbonded final system\n",
      "INFO:geometry:\tthere are 43 angle forces in the no-nonbonded final system\n",
      "INFO:geometry:\tthere are 72 torsion forces in the no-nonbonded final system\n",
      "INFO:geometry:forward final system defined with 0 neglected angles.\n"
     ]
    },
    {
     "name": "stdout",
     "output_type": "stream",
     "text": [
      "conducting subsequent work with the following platform: CUDA\n",
      "conducting subsequent work with the following platform: CUDA\n"
     ]
    },
    {
     "name": "stderr",
     "output_type": "stream",
     "text": [
      "INFO:geometry:total reduced potential before atom placement: 9.116470338224556\n"
     ]
    },
    {
     "name": "stdout",
     "output_type": "stream",
     "text": [
      "conducting subsequent work with the following platform: CUDA\n",
      "conducting subsequent work with the following platform: CUDA\n",
      "conducting subsequent work with the following platform: CUDA\n"
     ]
    },
    {
     "name": "stderr",
     "output_type": "stream",
     "text": [
      "INFO:geometry:total reduced energy added from growth system: -41.39090989567055\n",
      "INFO:geometry:final reduced energy -32.27443937797213\n",
      "INFO:geometry:sum of energies: -32.274439557446\n",
      "INFO:geometry:magnitude of difference in the energies: 1.7947386510286378e-07\n",
      "INFO:geometry:Final logp_proposal: 42.771906546875435\n"
     ]
    },
    {
     "name": "stdout",
     "output_type": "stream",
     "text": [
      "added energy components: [('CustomBondForce', 1.3258877799928566), ('CustomAngleForce', 11.61678106847151), ('CustomTorsionForce', 21.770511729142584), ('CustomBondForce', -76.10409047327751)]\n"
     ]
    },
    {
     "name": "stderr",
     "output_type": "stream",
     "text": [
      "INFO:geometry:logp_reverse: performing reverse proposal\n",
      "INFO:geometry:logp_reverse: unique new atoms detected; proceeding to _logp_propose...\n",
      "INFO:geometry:Conducting forward proposal...\n",
      "INFO:geometry:Computing proposal order with NetworkX...\n",
      "INFO:geometry:number of atoms to be placed: 4\n",
      "INFO:geometry:Atom index proposal order is [10, 13, 12, 11]\n",
      "INFO:geometry:omitted_bonds: []\n",
      "INFO:geometry:direction of proposal is reverse; creating atoms_with_positions from old system/topology\n",
      "INFO:geometry:creating growth system...\n",
      "INFO:geometry:\tcreating bond force...\n",
      "INFO:geometry:\tthere are 9 bonds in reference force.\n",
      "INFO:geometry:\tcreating angle force...\n",
      "INFO:geometry:\tthere are 36 angles in reference force.\n",
      "INFO:geometry:\tcreating torsion force...\n",
      "INFO:geometry:\tcreating extra torsions force...\n",
      "INFO:geometry:\tthere are 42 torsions in reference force.\n",
      "INFO:geometry:\tcreating nonbonded force...\n",
      "INFO:geometry:\t\tgrabbing reference nonbonded method, cutoff, switching function, switching distance...\n",
      "INFO:geometry:\t\tcreating nonbonded exception force (i.e. custom bond for 1,4s)...\n",
      "INFO:geometry:\t\tlooping through exceptions calculating growth indices, and adding appropriate interactions to custom bond force.\n",
      "INFO:geometry:\t\tthere are 98 in the reference Nonbonded force\n",
      "WARNING:geometry:\t\t\t\t\tchiral atom <Atom 8 (CA) of chain 0 residue 1 (ALA)> with neighbors [<Atom 9 (HA) of chain 0 residue 1 (ALA)>, <Atom 10 (CB) of chain 0 residue 1 (ALA)>, <Atom 14 (C) of chain 0 residue 1 (ALA)>, <Atom 6 (N) of chain 0 residue 1 (ALA)>] is surrounded by 3 core neighbors.  omitting chirality bias torsion\n",
      "INFO:geometry:Neglected angle terms : []\n",
      "INFO:geometry:omitted_growth_terms: {'bonds': [], 'angles': [], 'torsions': [], '1,4s': []}\n",
      "INFO:geometry:extra torsions: {}\n",
      "INFO:geometry:neglected angle terms include []\n",
      "INFO:geometry:log probability choice of torsions and atom order: -5.78074351579233\n",
      "INFO:geometry:creating platform, integrators, and contexts; setting growth parameter\n"
     ]
    },
    {
     "name": "stdout",
     "output_type": "stream",
     "text": [
      "conducting subsequent work with the following platform: CUDA\n"
     ]
    },
    {
     "name": "stderr",
     "output_type": "stream",
     "text": [
      "INFO:geometry:setting atoms_with_positions context old positions\n"
     ]
    },
    {
     "name": "stdout",
     "output_type": "stream",
     "text": [
      "conducting subsequent work with the following platform: CUDA\n"
     ]
    },
    {
     "name": "stderr",
     "output_type": "stream",
     "text": [
      "INFO:geometry:There are 4 new atoms\n",
      "INFO:geometry:\treduced angle potential = 0.3517320112693091.\n",
      "INFO:geometry:\treduced angle potential = 7.390951941228323e-11.\n",
      "INFO:geometry:\treduced angle potential = 3.205828647416432e-13.\n",
      "INFO:geometry:\treduced angle potential = 1.2915573155343707e-10.\n",
      "INFO:geometry:\tbeginning construction of no_nonbonded final system...\n",
      "INFO:geometry:\tinitial no-nonbonded final system forces ['HarmonicBondForce', 'HarmonicAngleForce', 'PeriodicTorsionForce', 'NonbondedForce']\n",
      "INFO:geometry:\tfinal no-nonbonded final system forces dict_keys(['HarmonicBondForce', 'HarmonicAngleForce', 'PeriodicTorsionForce', 'NonbondedForce'])\n",
      "INFO:geometry:\tthere are 9 bond forces in the no-nonbonded final system\n",
      "INFO:geometry:\tthere are 36 angle forces in the no-nonbonded final system\n",
      "INFO:geometry:\tthere are 42 torsion forces in the no-nonbonded final system\n",
      "INFO:geometry:reverse final system defined with 0 neglected angles.\n"
     ]
    },
    {
     "name": "stdout",
     "output_type": "stream",
     "text": [
      "conducting subsequent work with the following platform: CUDA\n",
      "conducting subsequent work with the following platform: CUDA\n"
     ]
    },
    {
     "name": "stderr",
     "output_type": "stream",
     "text": [
      "INFO:geometry:total reduced potential before atom placement: 9.116470338224556\n"
     ]
    },
    {
     "name": "stdout",
     "output_type": "stream",
     "text": [
      "conducting subsequent work with the following platform: CUDA\n",
      "conducting subsequent work with the following platform: CUDA\n",
      "conducting subsequent work with the following platform: CUDA\n"
     ]
    },
    {
     "name": "stderr",
     "output_type": "stream",
     "text": [
      "INFO:geometry:total reduced energy added from growth system: 20.67296217359934\n",
      "INFO:geometry:final reduced energy 29.789432654951565\n",
      "INFO:geometry:sum of energies: 29.789432511823897\n",
      "INFO:geometry:magnitude of difference in the energies: 1.431276679397797e-07\n",
      "INFO:geometry:Final logp_proposal: 25.335788326841836\n"
     ]
    },
    {
     "name": "stdout",
     "output_type": "stream",
     "text": [
      "added energy components: [('CustomBondForce', 0.000520203310858755), ('CustomAngleForce', 0.4511192410252491), ('CustomTorsionForce', 7.250454736370486), ('CustomBondForce', 12.970867992892748)]\n"
     ]
    },
    {
     "name": "stderr",
     "output_type": "stream",
     "text": [
      "INFO:relative:Old system forces: dict_keys(['HarmonicBondForce', 'HarmonicAngleForce', 'PeriodicTorsionForce', 'NonbondedForce'])\n",
      "INFO:relative:New system forces: dict_keys(['HarmonicBondForce', 'HarmonicAngleForce', 'PeriodicTorsionForce', 'NonbondedForce'])\n",
      "INFO:relative:No unknown forces.\n",
      "INFO:relative:Nonbonded method to be used (i.e. from old system): 0\n",
      "INFO:relative:Adding and mapping old atoms to hybrid system...\n",
      "INFO:relative:Adding and mapping new atoms to hybrid system...\n",
      "INFO:relative:No MonteCarloBarostat added.\n",
      "INFO:relative:getDefaultPeriodicBoxVectors added to hybrid: [Quantity(value=Vec3(x=2.0, y=0.0, z=0.0), unit=nanometer), Quantity(value=Vec3(x=0.0, y=2.0, z=0.0), unit=nanometer), Quantity(value=Vec3(x=0.0, y=0.0, z=2.0), unit=nanometer)]\n",
      "INFO:relative:Determined atom classes.\n",
      "INFO:relative:Generating old system exceptions dict...\n",
      "INFO:relative:Generating new system exceptions dict...\n",
      "INFO:relative:Handling constraints...\n",
      "INFO:relative:Handling virtual sites...\n",
      "INFO:relative:\t_handle_virtual_sites: numVirtualSites: 0\n",
      "INFO:relative:\t_add_nonbonded_force_terms: <simtk.openmm.openmm.NonbondedForce; proxy of <Swig Object of type 'OpenMM::NonbondedForce *' at 0x2ba0060adf60> > added to hybrid system\n",
      "INFO:relative:\t_add_nonbonded_force_terms: nonbonded_method is NoCutoff\n",
      "INFO:relative:\t_add_nonbonded_force_terms: 0 added to standard nonbonded force\n",
      "INFO:relative:\t_add_nonbonded_force_terms: 0 added to sterics_custom_nonbonded force\n"
     ]
    }
   ],
   "source": [
    "# Generate htf for capped ALA->THR in vacuum\n",
    "atp, sys_gen = generate_atp()\n",
    "\n",
    "# At alanine endstate\n",
    "htf = generate_dipeptide_top_pos_sys(atp.topology, \n",
    "                                         new_res='THR', \n",
    "                                         system=atp.system, \n",
    "                                         positions=atp.positions,\n",
    "                                         system_generator=sys_gen, \n",
    "                                         conduct_htf_prop=True,\n",
    "                                         repartitioned=True,\n",
    "                                         endstate=1,\n",
    "                                         flatten_torsions=True,\n",
    "                                         flatten_exceptions=True,\n",
    "                                         validate_endstate_energy=False)\n"
   ]
  },
  {
   "cell_type": "code",
   "execution_count": 6,
   "metadata": {},
   "outputs": [
    {
     "name": "stdout",
     "output_type": "stream",
     "text": [
      "ACE1-H1 0\n",
      "ACE1-CH3 1\n",
      "ACE1-H2 2\n",
      "ACE1-H3 3\n",
      "ACE1-C 4\n",
      "ACE1-O 5\n",
      "ALA2-N 6\n",
      "ALA2-H 7\n",
      "ALA2-CA 8\n",
      "ALA2-HA 9\n",
      "ALA2-CB 10\n",
      "ALA2-HB1 11\n",
      "ALA2-HB2 12\n",
      "ALA2-HB3 13\n",
      "ALA2-C 14\n",
      "ALA2-O 15\n",
      "ALA2-CB 22\n",
      "ALA2-HB 23\n",
      "ALA2-CG2 24\n",
      "ALA2-HG21 25\n",
      "ALA2-HG22 26\n",
      "ALA2-HG23 27\n",
      "ALA2-OG1 28\n",
      "ALA2-HG1 29\n",
      "NME3-N 16\n",
      "NME3-H 17\n",
      "NME3-C 18\n",
      "NME3-H1 19\n",
      "NME3-H2 20\n",
      "NME3-H3 21\n"
     ]
    }
   ],
   "source": [
    "for atom in htf.hybrid_topology.atoms:\n",
    "    print(atom, atom.index)"
   ]
  },
  {
   "cell_type": "code",
   "execution_count": 7,
   "metadata": {
    "scrolled": true
   },
   "outputs": [
    {
     "name": "stdout",
     "output_type": "stream",
     "text": [
      "<Atom 0 (H1) of chain 0 residue 0 (ACE)> 0\n",
      "<Atom 1 (CH3) of chain 0 residue 0 (ACE)> 1\n",
      "<Atom 2 (H2) of chain 0 residue 0 (ACE)> 2\n",
      "<Atom 3 (H3) of chain 0 residue 0 (ACE)> 3\n",
      "<Atom 4 (C) of chain 0 residue 0 (ACE)> 4\n",
      "<Atom 5 (O) of chain 0 residue 0 (ACE)> 5\n",
      "<Atom 6 (N) of chain 0 residue 1 (ALA)> 6\n",
      "<Atom 7 (H) of chain 0 residue 1 (ALA)> 7\n",
      "<Atom 8 (CA) of chain 0 residue 1 (ALA)> 8\n",
      "<Atom 9 (HA) of chain 0 residue 1 (ALA)> 9\n",
      "<Atom 10 (CB) of chain 0 residue 1 (ALA)> 10\n",
      "<Atom 11 (HB1) of chain 0 residue 1 (ALA)> 11\n",
      "<Atom 12 (HB2) of chain 0 residue 1 (ALA)> 12\n",
      "<Atom 13 (HB3) of chain 0 residue 1 (ALA)> 13\n",
      "<Atom 14 (C) of chain 0 residue 1 (ALA)> 14\n",
      "<Atom 15 (O) of chain 0 residue 1 (ALA)> 15\n",
      "<Atom 16 (N) of chain 0 residue 2 (NME)> 16\n",
      "<Atom 17 (H) of chain 0 residue 2 (NME)> 17\n",
      "<Atom 18 (C) of chain 0 residue 2 (NME)> 18\n",
      "<Atom 19 (H1) of chain 0 residue 2 (NME)> 19\n",
      "<Atom 20 (H2) of chain 0 residue 2 (NME)> 20\n",
      "<Atom 21 (H3) of chain 0 residue 2 (NME)> 21\n"
     ]
    }
   ],
   "source": [
    "for atom in htf._topology_proposal.old_topology.atoms():\n",
    "    print(atom, atom.index)"
   ]
  },
  {
   "cell_type": "code",
   "execution_count": 8,
   "metadata": {},
   "outputs": [
    {
     "name": "stdout",
     "output_type": "stream",
     "text": [
      "<Atom 0 (H1) of chain 0 residue 0 (ACE)> 0\n",
      "<Atom 1 (CH3) of chain 0 residue 0 (ACE)> 1\n",
      "<Atom 2 (H2) of chain 0 residue 0 (ACE)> 2\n",
      "<Atom 3 (H3) of chain 0 residue 0 (ACE)> 3\n",
      "<Atom 4 (C) of chain 0 residue 0 (ACE)> 4\n",
      "<Atom 5 (O) of chain 0 residue 0 (ACE)> 5\n",
      "<Atom 6 (N) of chain 0 residue 1 (THR)> 6\n",
      "<Atom 7 (H) of chain 0 residue 1 (THR)> 7\n",
      "<Atom 8 (CA) of chain 0 residue 1 (THR)> 8\n",
      "<Atom 9 (HA) of chain 0 residue 1 (THR)> 9\n",
      "<Atom 10 (CB) of chain 0 residue 1 (THR)> 10\n",
      "<Atom 11 (C) of chain 0 residue 1 (THR)> 11\n",
      "<Atom 12 (O) of chain 0 residue 1 (THR)> 12\n",
      "<Atom 13 (HB) of chain 0 residue 1 (THR)> 13\n",
      "<Atom 14 (CG2) of chain 0 residue 1 (THR)> 14\n",
      "<Atom 15 (HG21) of chain 0 residue 1 (THR)> 15\n",
      "<Atom 16 (HG22) of chain 0 residue 1 (THR)> 16\n",
      "<Atom 17 (HG23) of chain 0 residue 1 (THR)> 17\n",
      "<Atom 18 (OG1) of chain 0 residue 1 (THR)> 18\n",
      "<Atom 19 (HG1) of chain 0 residue 1 (THR)> 19\n",
      "<Atom 20 (N) of chain 0 residue 2 (NME)> 20\n",
      "<Atom 21 (H) of chain 0 residue 2 (NME)> 21\n",
      "<Atom 22 (C) of chain 0 residue 2 (NME)> 22\n",
      "<Atom 23 (H1) of chain 0 residue 2 (NME)> 23\n",
      "<Atom 24 (H2) of chain 0 residue 2 (NME)> 24\n",
      "<Atom 25 (H3) of chain 0 residue 2 (NME)> 25\n"
     ]
    }
   ],
   "source": [
    "for atom in htf._topology_proposal.new_topology.atoms():\n",
    "    print(atom, atom.index)"
   ]
  },
  {
   "cell_type": "code",
   "execution_count": 9,
   "metadata": {},
   "outputs": [
    {
     "name": "stdout",
     "output_type": "stream",
     "text": [
      "0 <simtk.openmm.openmm.HarmonicBondForce; proxy of <Swig Object of type 'OpenMM::HarmonicBondForce *' at 0x2ba006ef5de0> >\n",
      "1 <simtk.openmm.openmm.HarmonicAngleForce; proxy of <Swig Object of type 'OpenMM::HarmonicAngleForce *' at 0x2ba006ef5de0> >\n",
      "2 <simtk.openmm.openmm.PeriodicTorsionForce; proxy of <Swig Object of type 'OpenMM::PeriodicTorsionForce *' at 0x2ba006ef5de0> >\n",
      "3 <simtk.openmm.openmm.NonbondedForce; proxy of <Swig Object of type 'OpenMM::NonbondedForce *' at 0x2ba006ef5de0> >\n"
     ]
    }
   ],
   "source": [
    "for i in range(htf._topology_proposal.new_system.getNumForces()):\n",
    "    print(i, htf._topology_proposal.new_system.getForce(i))"
   ]
  },
  {
   "cell_type": "code",
   "execution_count": 48,
   "metadata": {},
   "outputs": [],
   "source": [
    "unique_new = htf._topology_proposal.unique_new_atoms"
   ]
  },
  {
   "cell_type": "code",
   "execution_count": 11,
   "metadata": {},
   "outputs": [
    {
     "data": {
      "text/plain": [
       "[10, 13, 14, 15, 16, 17, 18, 19]"
      ]
     },
     "execution_count": 11,
     "metadata": {},
     "output_type": "execute_result"
    }
   ],
   "source": [
    "unique_new"
   ]
  },
  {
   "cell_type": "code",
   "execution_count": 49,
   "metadata": {},
   "outputs": [
    {
     "name": "stdout",
     "output_type": "stream",
     "text": [
      "4 6 8 10\n",
      "4 6 8 10\n",
      "4 6 8 10\n",
      "6 8 10 13\n",
      "6 8 10 14\n",
      "6 8 10 14\n",
      "6 8 10 14\n",
      "6 8 10 14\n",
      "6 8 10 18\n",
      "6 8 10 18\n",
      "6 8 10 18\n",
      "6 8 10 18\n",
      "8 10 14 15\n",
      "8 10 14 16\n",
      "8 10 14 17\n",
      "8 10 18 19\n",
      "8 10 18 19\n",
      "8 10 18 19\n",
      "8 10 18 19\n",
      "9 8 10 13\n",
      "9 8 10 14\n",
      "9 8 10 18\n",
      "10 8 11 20\n",
      "10 8 11 20\n",
      "10 8 11 20\n",
      "11 8 10 13\n",
      "11 8 10 14\n",
      "11 8 10 14\n",
      "11 8 10 14\n",
      "11 8 10 14\n",
      "11 8 10 18\n",
      "11 8 10 18\n",
      "11 8 10 18\n",
      "11 8 10 18\n"
     ]
    }
   ],
   "source": [
    "# # Flatten all exceptions in new system\n",
    "new_system = htf._topology_proposal.new_system\n",
    "# nb_force = new_system.getForce(3)\n",
    "# for i in range(nb_force.getNumExceptions()):\n",
    "#     p1, p2, chargeProd, sigma, epsilon = nb_force.getExceptionParameters(i)\n",
    "#     nb_force.setExceptionParameters(i, p1, p2, 0, sigma, 0)\n",
    "\n",
    "bonds = AbsoluteAlchemicalFactory._tabulate_bonds(new_system)\n",
    "\n",
    "def is_bonded(i, j):\n",
    "    if j in bonds[i]:\n",
    "        return True\n",
    "    return False\n",
    "\n",
    "def is_proper_torsion(i, j, k, l):\n",
    "    if is_bonded(i, j) and is_bonded(j, k) and is_bonded(k, l):\n",
    "        return True\n",
    "    return False\n",
    "\n",
    "# # Flatten more torsions (for all atoms)\n",
    "periodic_torsion = new_system.getForce(2)\n",
    "for i in range(periodic_torsion.getNumTorsions()):\n",
    "    p1, p2, p3, p4, periodicity, phase, k = periodic_torsion.getTorsionParameters(i)\n",
    "    if p1 in unique_new or p2 in unique_new or p3 in unique_new or p4 in unique_new:\n",
    "#     if p1 in unique_new and p2 in unique_new and p3 and unique_new and p4 in unique_new:\n",
    "        \n",
    "#             if p4 != 17 and p4 != 15 and:\n",
    "        if not (p1 in unique_new and p2 in unique_new and p3 in unique_new and p4 in unique_new):\n",
    "            if is_proper_torsion(p1, p2, p3, p4):\n",
    "                print(p1, p2, p3, p4)\n",
    "                periodic_torsion.setTorsionParameters(i, p1, p2, p3, p4, periodicity, phase, 0.*k)\n",
    "\n",
    "# # Flatten sterics, electrostatics\n",
    "# nb_force = new_system.getForce(3)\n",
    "# for i in range(nb_force.getNumParticles()):\n",
    "#     chargeProd, sigma, epsilon = nb_force.getParticleParameters(i)\n",
    "#     nb_force.setParticleParameters(i, 0, sigma, 0)\n"
   ]
  },
  {
   "cell_type": "code",
   "execution_count": 50,
   "metadata": {
    "scrolled": false
   },
   "outputs": [
    {
     "name": "stderr",
     "output_type": "stream",
     "text": [
      "INFO:relative:Old system forces: dict_keys(['HarmonicBondForce', 'HarmonicAngleForce', 'PeriodicTorsionForce', 'NonbondedForce'])\n",
      "INFO:relative:New system forces: dict_keys(['HarmonicBondForce', 'HarmonicAngleForce', 'PeriodicTorsionForce', 'NonbondedForce'])\n",
      "INFO:relative:No unknown forces.\n",
      "INFO:relative:Nonbonded method to be used (i.e. from old system): 0\n",
      "INFO:relative:Adding and mapping old atoms to hybrid system...\n",
      "INFO:relative:Adding and mapping new atoms to hybrid system...\n",
      "INFO:relative:No MonteCarloBarostat added.\n",
      "INFO:relative:getDefaultPeriodicBoxVectors added to hybrid: [Quantity(value=Vec3(x=2.0, y=0.0, z=0.0), unit=nanometer), Quantity(value=Vec3(x=0.0, y=2.0, z=0.0), unit=nanometer), Quantity(value=Vec3(x=0.0, y=0.0, z=2.0), unit=nanometer)]\n",
      "INFO:relative:Determined atom classes.\n",
      "INFO:relative:Generating old system exceptions dict...\n",
      "INFO:relative:Generating new system exceptions dict...\n",
      "INFO:relative:Handling constraints...\n",
      "INFO:relative:Handling virtual sites...\n",
      "INFO:relative:\t_handle_virtual_sites: numVirtualSites: 0\n",
      "INFO:relative:\t_add_nonbonded_force_terms: <simtk.openmm.openmm.NonbondedForce; proxy of <Swig Object of type 'OpenMM::NonbondedForce *' at 0x2ba00feeacc0> > added to hybrid system\n",
      "INFO:relative:\t_add_nonbonded_force_terms: nonbonded_method is NoCutoff\n",
      "INFO:relative:\t_add_nonbonded_force_terms: 0 added to standard nonbonded force\n",
      "INFO:relative:\t_add_nonbonded_force_terms: 0 added to sterics_custom_nonbonded force\n"
     ]
    }
   ],
   "source": [
    "# Build new r-htf\n",
    "htf._topology_proposal._new_system = new_system\n",
    "\n",
    "from perses.annihilation.relative import RepartitionedHybridTopologyFactory\n",
    "htf = RepartitionedHybridTopologyFactory(topology_proposal=htf._topology_proposal,\n",
    "                     current_positions=htf.old_positions(htf.hybrid_positions),\n",
    "                     new_positions=htf.new_positions(htf.hybrid_positions),\n",
    "                     use_dispersion_correction=False,\n",
    "                     functions=None,\n",
    "                     softcore_alpha=None,\n",
    "                     bond_softening_constant=1.0,\n",
    "                     angle_softening_constant=1.0,\n",
    "                     soften_only_new=False,\n",
    "                     neglected_new_angle_terms=[],\n",
    "                     neglected_old_angle_terms=[],\n",
    "                     softcore_LJ_v2=True,\n",
    "                     softcore_electrostatics=True,\n",
    "                     softcore_LJ_v2_alpha=0.85,\n",
    "                     softcore_electrostatics_alpha=0.3,\n",
    "                     softcore_sigma_Q=1.0,\n",
    "                     interpolate_old_and_new_14s=True, ## NOTE: when this is True, don't need to modify old and new systems\n",
    "                     omitted_terms=None,\n",
    "                     flatten_torsions=True,\n",
    "                     endstate=1)"
   ]
  },
  {
   "cell_type": "code",
   "execution_count": 51,
   "metadata": {},
   "outputs": [
    {
     "name": "stdout",
     "output_type": "stream",
     "text": [
      "torsion list:  [8, 9, 10, 11, 12, 16, 17, 18, 19, 20, 21, 22, 23, 24, 25, 26, 27, 28, 29, 30, 31, 32, 33, 34, 35, 36, 37, 38, 39, 40, 41, 42, 43, 44, 45, 46, 47, 48, 49, 50, 51, 52, 53, 54, 55, 56, 57, 58, 59, 60, 61, 62, 63, 64, 65, 66, 67]\n",
      "sterics  0.0\n",
      "elec  0.0\n",
      "torsions  0.0\n"
     ]
    },
    {
     "name": "stderr",
     "output_type": "stream",
     "text": [
      "INFO:root:Rotating by 0.26199989048744843 radians\n",
      "INFO:root:Rotating by 0.26199999999999957 radians\n",
      "INFO:root:Rotating by 0.2620000000000006 radians\n",
      "INFO:root:Rotating by 0.26200000000000184 radians\n",
      "INFO:root:Rotating by 0.26199999999999724 radians\n",
      "INFO:root:Rotating by 0.26199999999999996 radians\n",
      "INFO:root:Rotating by 0.2619999999999998 radians\n",
      "INFO:root:Rotating by 0.2620000000000001 radians\n",
      "INFO:root:Rotating by 0.262 radians\n",
      "INFO:root:Rotating by 0.26200000000000023 radians\n",
      "INFO:root:Rotating by 0.26200000000000023 radians\n",
      "INFO:root:Rotating by 0.262 radians\n",
      "INFO:root:Rotating by 0.26200000000000045 radians\n",
      "INFO:root:Rotating by 0.262 radians\n",
      "INFO:root:Rotating by 0.26199999999999957 radians\n",
      "INFO:root:Rotating by -6.021185307179586 radians\n",
      "INFO:root:Rotating by 0.2619999999999978 radians\n",
      "INFO:root:Rotating by 0.26200000000000134 radians\n",
      "INFO:root:Rotating by 0.26200000000000045 radians\n",
      "INFO:root:Rotating by 0.262 radians\n"
     ]
    },
    {
     "name": "stdout",
     "output_type": "stream",
     "text": [
      "-26.85454805407864\n",
      "-0.84139407\n",
      "-26.85454805407864\n",
      "-26.85452377477512\n",
      "-26.854527943123447\n",
      "-26.854533010556576\n",
      "-26.8545388187639\n",
      "-26.854516258007962\n",
      "-26.85451730046842\n",
      "-26.854561438606286\n",
      "-26.854541739109333\n",
      "-26.85455562694525\n",
      "-26.85455026940045\n",
      "-26.854532758715752\n",
      "-26.854541404192776\n",
      "-26.854536545662445\n",
      "-26.854537390514665\n",
      "-26.85455141976602\n",
      "-26.8545412691247\n",
      "-26.85452159380372\n",
      "-26.854536450638744\n",
      "-26.854518038255616\n"
     ]
    },
    {
     "name": "stderr",
     "output_type": "stream",
     "text": [
      "INFO:root:Rotating by 0.262 radians\n",
      "INFO:root:Rotating by 0.2619999999999998 radians\n",
      "INFO:root:Rotating by 0.2619999999999998 radians\n",
      "INFO:root:Rotating by 0.26200000000000023 radians\n",
      "INFO:root:Rotating by 0.26200000000000034 radians\n"
     ]
    },
    {
     "name": "stdout",
     "output_type": "stream",
     "text": [
      "-26.854538770505297\n",
      "-26.854556820902243\n",
      "-26.854543056839834\n",
      "-26.854527797787576\n",
      "-26.854541310942597\n",
      "raw d: {-0.5793940668106079: (-26.85452377477512, nan), -0.3173940668106079: (-26.854527943123447, nan), -0.05539406681060788: (-26.854533010556576, nan), 0.20660593318939213: (-26.8545388187639, nan), 0.46860593318939214: (-26.854516258007962, nan), 0.7306059331893922: (-26.85451730046842, nan), 0.9926059331893922: (-26.854561438606286, nan), 1.2546059331893922: (-26.854541739109333, nan), 1.5166059331893922: (-26.85455562694525, nan), 1.7786059331893922: (-26.85455026940045, nan), 2.040605933189392: (-26.854532758715752, nan), 2.302605933189392: (-26.854541404192776, nan), 2.5646059331893922: (-26.854536545662445, nan), 2.8266059331893922: (-26.854537390514665, nan), 3.0886059331893922: (-26.85455141976602, nan), -2.932579373990194: (-26.8545412691247, nan), -2.670579373990194: (-26.85452159380372, nan), -2.408579373990194: (-26.854536450638744, nan), -2.146579373990194: (-26.854518038255616, nan), -1.884579373990194: (-26.854538770505297, nan), -1.622579373990194: (-26.854556820902243, nan), -1.360579373990194: (-26.854543056839834, nan), -1.098579373990194: (-26.854527797787576, nan), -0.8365793739901939: (-26.854541310942597, nan), -0.5745793739901939: (-26.854540010107275, nan)}\n",
      "min: -26.854561438606286\n",
      "d corrected: {-0.5793940668106079: (3.766383116499128e-05, nan), -0.3173940668106079: (3.349548283893e-05, nan), -0.05539406681060788: (2.8428049709816605e-05, nan), 0.20660593318939213: (2.2619842386717437e-05, nan), 0.46860593318939214: (4.518059832392396e-05, nan), 0.7306059331893922: (4.413813786641185e-05, nan), 0.9926059331893922: (0.0, nan), 1.2546059331893922: (1.969949695279638e-05, nan), 1.5166059331893922: (5.811661036858595e-06, nan), 1.7786059331893922: (1.116920583754677e-05, nan), 2.040605933189392: (2.867989053356723e-05, nan), 2.302605933189392: (2.003441350950652e-05, nan), 2.5646059331893922: (2.4892943841337e-05, nan), 2.8266059331893922: (2.4048091621153844e-05, nan), 3.0886059331893922: (1.0018840267633777e-05, nan), -2.932579373990194: (2.0169481587117843e-05, nan), -2.670579373990194: (3.9844802564914517e-05, nan), -2.408579373990194: (2.498796754224486e-05, nan), -2.146579373990194: (4.340035066974224e-05, nan), -1.884579373990194: (2.266810098916494e-05, nan), -1.622579373990194: (4.617704043141657e-06, nan), -1.360579373990194: (1.8381766452080228e-05, nan), -1.098579373990194: (3.3640818710267695e-05, nan), -0.8365793739901939: (2.0127663688640496e-05, nan), -0.5745793739901939: (2.1428499010767155e-05, nan)}\n"
     ]
    },
    {
     "data": {
      "image/png": "[encoded data removed]",
      "text/plain": [
       "<Figure size 432x288 with 1 Axes>"
      ]
     },
     "metadata": {
      "needs_background": "light"
     },
     "output_type": "display_data"
    },
    {
     "data": {
      "text/plain": [
       "{-0.5793940668106079: (3.766383116499128e-05, nan),\n",
       " -0.3173940668106079: (3.349548283893e-05, nan),\n",
       " -0.05539406681060788: (2.8428049709816605e-05, nan),\n",
       " 0.20660593318939213: (2.2619842386717437e-05, nan),\n",
       " 0.46860593318939214: (4.518059832392396e-05, nan),\n",
       " 0.7306059331893922: (4.413813786641185e-05, nan),\n",
       " 0.9926059331893922: (0.0, nan),\n",
       " 1.2546059331893922: (1.969949695279638e-05, nan),\n",
       " 1.5166059331893922: (5.811661036858595e-06, nan),\n",
       " 1.7786059331893922: (1.116920583754677e-05, nan),\n",
       " 2.040605933189392: (2.867989053356723e-05, nan),\n",
       " 2.302605933189392: (2.003441350950652e-05, nan),\n",
       " 2.5646059331893922: (2.4892943841337e-05, nan),\n",
       " 2.8266059331893922: (2.4048091621153844e-05, nan),\n",
       " 3.0886059331893922: (1.0018840267633777e-05, nan),\n",
       " -2.932579373990194: (2.0169481587117843e-05, nan),\n",
       " -2.670579373990194: (3.9844802564914517e-05, nan),\n",
       " -2.408579373990194: (2.498796754224486e-05, nan),\n",
       " -2.146579373990194: (4.340035066974224e-05, nan),\n",
       " -1.884579373990194: (2.266810098916494e-05, nan),\n",
       " -1.622579373990194: (4.617704043141657e-06, nan),\n",
       " -1.360579373990194: (1.8381766452080228e-05, nan),\n",
       " -1.098579373990194: (3.3640818710267695e-05, nan),\n",
       " -0.8365793739901939: (2.0127663688640496e-05, nan),\n",
       " -0.5745793739901939: (2.1428499010767155e-05, nan)}"
      ]
     },
     "execution_count": 51,
     "metadata": {},
     "output_type": "execute_result"
    }
   ],
   "source": [
    "# ALA->THR -- THR at lambda = 1\n",
    "run_torsion_scan(htf, 1, False, [6, 8, 22, 28], [6, 8, 10, 18], [23, 24, 25, 26, 27, 29]) "
   ]
  },
  {
   "cell_type": "code",
   "execution_count": null,
   "metadata": {},
   "outputs": [],
   "source": []
  },
  {
   "cell_type": "code",
   "execution_count": null,
   "metadata": {},
   "outputs": [],
   "source": []
  },
  {
   "cell_type": "code",
   "execution_count": null,
   "metadata": {},
   "outputs": [],
   "source": []
  },
  {
   "cell_type": "code",
   "execution_count": null,
   "metadata": {},
   "outputs": [],
   "source": []
  },
  {
   "cell_type": "code",
   "execution_count": null,
   "metadata": {},
   "outputs": [],
   "source": []
  },
  {
   "cell_type": "code",
   "execution_count": null,
   "metadata": {},
   "outputs": [],
   "source": []
  },
  {
   "cell_type": "markdown",
   "metadata": {},
   "source": [
    "###  Generate torsion scans for r-htf with 4 flattened exceptions and all torsions and softened torsions, electrostatics, sterics AND new system exceptions flattened (sidechains not mapped): THR->ALA lambda = 0"
   ]
  },
  {
   "cell_type": "code",
   "execution_count": 5,
   "metadata": {},
   "outputs": [],
   "source": [
    "from simtk.openmm import app, unit\n",
    "from openmmforcefields.generators import SystemGenerator\n"
   ]
  },
  {
   "cell_type": "code",
   "execution_count": 6,
   "metadata": {},
   "outputs": [],
   "source": [
    "\n",
    "# Get pdb and system geneator for capped THR->ALA in vacuum\n",
    "pdb = app.PDBFile(\"../input/thr_vacuum.pdb\")\n",
    "\n",
    "forcefield_files = ['amber14/protein.ff14SB.xml', 'amber14/tip3p.xml']\n",
    "barostat = None\n",
    "system_generator = SystemGenerator(forcefields=forcefield_files,\n",
    "                               barostat=barostat,\n",
    "                               forcefield_kwargs={'removeCMMotion': False,\n",
    "                                                    'ewaldErrorTolerance': 1e-4,\n",
    "                                                    'constraints' : app.HBonds,\n",
    "                                                    'hydrogenMass' : 4 * unit.amus},\n",
    "                                periodic_forcefield_kwargs=None,\n",
    "                                small_molecule_forcefield='gaff-2.11',\n",
    "                                nonperiodic_forcefield_kwargs = {'nonbondedMethod': app.NoCutoff}, \n",
    "                                   molecules=None, \n",
    "                                   cache=None)\n",
    "system = system_generator.create_system(pdb.topology) \n",
    "positions = unit.quantity.Quantity(value = np.array([list(atom_pos) for atom_pos in pdb.positions.value_in_unit_system(unit.md_unit_system)]), unit = unit.nanometers)\n"
   ]
  },
  {
   "cell_type": "code",
   "execution_count": 7,
   "metadata": {
    "scrolled": true
   },
   "outputs": [
    {
     "name": "stderr",
     "output_type": "stream",
     "text": [
      "INFO:proposal_generator:\tConducting polymer point mutation proposal...\n",
      "INFO:proposal_generator:Using matching_criterion to chose best atom map\n",
      "INFO:proposal_generator:Scaffold has symmetry of 0\n",
      "WARNING:proposal_generator:Two molecules are not similar to have a common scaffold\n",
      "WARNING:proposal_generator:Proceeding with direct mapping of molecules, but please check atom mapping and the geometry of the ligands.\n",
      "INFO:proposal_generator:len [{7: 9}, {8: 9}, {9: 9}, {7: 10}, {8: 10}, {9: 10}, {7: 11}, {8: 11}, {9: 11}, {7: 12}, {8: 12}, {9: 12}, {7: 13}, {8: 13}, {9: 13}]\n",
      "INFO:proposal_generator:{7: 9}\n",
      "INFO:proposal_generator:{8: 9}\n",
      "INFO:proposal_generator:{9: 9}\n",
      "INFO:proposal_generator:{7: 10}\n",
      "INFO:proposal_generator:{8: 10}\n",
      "INFO:proposal_generator:{9: 10}\n",
      "INFO:proposal_generator:{7: 11}\n",
      "INFO:proposal_generator:{8: 11}\n",
      "INFO:proposal_generator:{9: 11}\n",
      "INFO:proposal_generator:{7: 12}\n",
      "INFO:proposal_generator:{8: 12}\n",
      "INFO:proposal_generator:{9: 12}\n",
      "INFO:proposal_generator:{7: 13}\n",
      "INFO:proposal_generator:{8: 13}\n",
      "INFO:proposal_generator:{9: 13}\n",
      "INFO:proposal_generator:Returning map that best satisfies matching_criterion\n",
      "INFO:proposal_generator:Finding best map using matching_criterion name\n",
      "INFO:proposal_generator:{7: 9}\n",
      "INFO:geometry:propose: performing forward proposal\n",
      "INFO:geometry:propose: unique new atoms detected; proceeding to _logp_propose...\n",
      "INFO:geometry:Conducting forward proposal...\n",
      "INFO:geometry:Computing proposal order with NetworkX...\n",
      "INFO:geometry:number of atoms to be placed: 4\n",
      "INFO:geometry:Atom index proposal order is [10, 13, 15, 14]\n",
      "INFO:geometry:omitted_bonds: []\n",
      "INFO:geometry:direction of proposal is forward; creating atoms_with_positions and new positions from old system/topology...\n",
      "INFO:geometry:creating growth system...\n",
      "INFO:geometry:\tcreating bond force...\n",
      "INFO:geometry:\tthere are 9 bonds in reference force.\n",
      "INFO:geometry:\tcreating angle force...\n",
      "INFO:geometry:\tthere are 36 angles in reference force.\n",
      "INFO:geometry:\tcreating torsion force...\n",
      "INFO:geometry:\tcreating extra torsions force...\n",
      "INFO:geometry:\tthere are 42 torsions in reference force.\n",
      "INFO:geometry:\tcreating nonbonded force...\n",
      "INFO:geometry:\t\tgrabbing reference nonbonded method, cutoff, switching function, switching distance...\n",
      "INFO:geometry:\t\tcreating nonbonded exception force (i.e. custom bond for 1,4s)...\n",
      "INFO:geometry:\t\tlooping through exceptions calculating growth indices, and adding appropriate interactions to custom bond force.\n",
      "INFO:geometry:\t\tthere are 98 in the reference Nonbonded force\n"
     ]
    },
    {
     "name": "stdout",
     "output_type": "stream",
     "text": [
      "making topology proposal\n",
      "generating geometry engine\n",
      "making geometry proposal from THR to ALA\n"
     ]
    },
    {
     "name": "stderr",
     "output_type": "stream",
     "text": [
      "WARNING:geometry:\t\t\t\t\tchiral atom <Atom 8 (CA) of chain 0 residue 1 (ALA)> with neighbors [<Atom 11 (C) of chain 0 residue 1 (ALA)>, <Atom 10 (CB) of chain 0 residue 1 (ALA)>, <Atom 9 (HA) of chain 0 residue 1 (ALA)>, <Atom 6 (N) of chain 0 residue 1 (ALA)>] is surrounded by 3 core neighbors.  omitting chirality bias torsion\n",
      "INFO:geometry:Neglected angle terms : []\n",
      "INFO:geometry:omitted_growth_terms: {'bonds': [], 'angles': [], 'torsions': [], '1,4s': []}\n",
      "INFO:geometry:extra torsions: {}\n",
      "INFO:geometry:neglected angle terms include []\n",
      "INFO:geometry:log probability choice of torsions and atom order: -5.78074351579233\n",
      "INFO:geometry:creating platform, integrators, and contexts; setting growth parameter\n"
     ]
    },
    {
     "name": "stdout",
     "output_type": "stream",
     "text": [
      "conducting subsequent work with the following platform: CUDA\n",
      "conducting subsequent work with the following platform: CUDA\n"
     ]
    },
    {
     "name": "stderr",
     "output_type": "stream",
     "text": [
      "INFO:geometry:setting atoms_with_positions context new positions\n"
     ]
    },
    {
     "name": "stdout",
     "output_type": "stream",
     "text": [
      "conducting subsequent work with the following platform: CUDA\n"
     ]
    },
    {
     "name": "stderr",
     "output_type": "stream",
     "text": [
      "INFO:geometry:There are 4 new atoms\n",
      "INFO:geometry:\treduced angle potential = 0.9915047875152379.\n",
      "INFO:geometry:\treduced angle potential = 0.21396765029844242.\n",
      "INFO:geometry:\treduced angle potential = 0.0016376828499885898.\n",
      "INFO:geometry:\treduced angle potential = 4.931645749027829.\n",
      "INFO:geometry:\tbeginning construction of no_nonbonded final system...\n",
      "INFO:geometry:\tinitial no-nonbonded final system forces ['HarmonicBondForce', 'HarmonicAngleForce', 'PeriodicTorsionForce', 'NonbondedForce']\n",
      "INFO:geometry:\tfinal no-nonbonded final system forces dict_keys(['HarmonicBondForce', 'HarmonicAngleForce', 'PeriodicTorsionForce', 'NonbondedForce'])\n",
      "INFO:geometry:\tthere are 9 bond forces in the no-nonbonded final system\n",
      "INFO:geometry:\tthere are 36 angle forces in the no-nonbonded final system\n",
      "INFO:geometry:\tthere are 42 torsion forces in the no-nonbonded final system\n",
      "INFO:geometry:forward final system defined with 0 neglected angles.\n"
     ]
    },
    {
     "name": "stdout",
     "output_type": "stream",
     "text": [
      "conducting subsequent work with the following platform: CUDA\n",
      "conducting subsequent work with the following platform: CUDA\n"
     ]
    },
    {
     "name": "stderr",
     "output_type": "stream",
     "text": [
      "INFO:geometry:total reduced potential before atom placement: 9.117927746118994\n"
     ]
    },
    {
     "name": "stdout",
     "output_type": "stream",
     "text": [
      "conducting subsequent work with the following platform: CUDA\n",
      "conducting subsequent work with the following platform: CUDA\n",
      "conducting subsequent work with the following platform: CUDA\n"
     ]
    },
    {
     "name": "stderr",
     "output_type": "stream",
     "text": [
      "INFO:geometry:total reduced energy added from growth system: 34.844304820385794\n",
      "INFO:geometry:final reduced energy 43.96223397644937\n",
      "INFO:geometry:sum of energies: 43.96223256650479\n",
      "INFO:geometry:magnitude of difference in the energies: 1.409944580643696e-06\n",
      "INFO:geometry:Final logp_proposal: 18.54166345166149\n"
     ]
    },
    {
     "name": "stdout",
     "output_type": "stream",
     "text": [
      "added energy components: [('CustomBondForce', 0.6663124446045402), ('CustomAngleForce', 9.365921180344877), ('CustomTorsionForce', 11.381435519335183), ('CustomBondForce', 13.430635676101199)]\n"
     ]
    },
    {
     "name": "stderr",
     "output_type": "stream",
     "text": [
      "INFO:geometry:logp_reverse: performing reverse proposal\n",
      "INFO:geometry:logp_reverse: unique new atoms detected; proceeding to _logp_propose...\n",
      "INFO:geometry:Conducting forward proposal...\n",
      "INFO:geometry:Computing proposal order with NetworkX...\n",
      "INFO:geometry:number of atoms to be placed: 8\n",
      "INFO:geometry:Atom index proposal order is [10, 18, 14, 13, 16, 17, 15, 19]\n",
      "INFO:geometry:omitted_bonds: []\n",
      "INFO:geometry:direction of proposal is reverse; creating atoms_with_positions from old system/topology\n",
      "INFO:geometry:creating growth system...\n",
      "INFO:geometry:\tcreating bond force...\n",
      "INFO:geometry:\tthere are 11 bonds in reference force.\n",
      "INFO:geometry:\tcreating angle force...\n",
      "INFO:geometry:\tthere are 43 angles in reference force.\n",
      "INFO:geometry:\tcreating torsion force...\n",
      "INFO:geometry:\tcreating extra torsions force...\n",
      "INFO:geometry:\tthere are 72 torsions in reference force.\n",
      "INFO:geometry:\tcreating nonbonded force...\n",
      "INFO:geometry:\t\tgrabbing reference nonbonded method, cutoff, switching function, switching distance...\n",
      "INFO:geometry:\t\tcreating nonbonded exception force (i.e. custom bond for 1,4s)...\n",
      "INFO:geometry:\t\tlooping through exceptions calculating growth indices, and adding appropriate interactions to custom bond force.\n",
      "INFO:geometry:\t\tthere are 121 in the reference Nonbonded force\n",
      "WARNING:geometry:\t\t\t\t\tchiral atom <Atom 8 (CA) of chain 0 residue 1 (THR)> with neighbors [<Atom 11 (C) of chain 0 residue 1 (THR)>, <Atom 10 (CB) of chain 0 residue 1 (THR)>, <Atom 9 (HA) of chain 0 residue 1 (THR)>, <Atom 6 (N) of chain 0 residue 1 (THR)>] is surrounded by 3 core neighbors.  omitting chirality bias torsion\n",
      "INFO:geometry:Neglected angle terms : []\n",
      "INFO:geometry:omitted_growth_terms: {'bonds': [], 'angles': [], 'torsions': [], '1,4s': []}\n",
      "INFO:geometry:extra torsions: {0: (18, 10, 8, 14, [1, Quantity(value=-1.0655064807976995, unit=radian), Quantity(value=120.0, unit=kilocalorie/mole), 3])}\n",
      "INFO:geometry:neglected angle terms include []\n",
      "INFO:geometry:log probability choice of torsions and atom order: -13.553917196274867\n",
      "INFO:geometry:creating platform, integrators, and contexts; setting growth parameter\n"
     ]
    },
    {
     "name": "stdout",
     "output_type": "stream",
     "text": [
      "conducting subsequent work with the following platform: CUDA\n"
     ]
    },
    {
     "name": "stderr",
     "output_type": "stream",
     "text": [
      "INFO:geometry:setting atoms_with_positions context old positions\n",
      "INFO:geometry:There are 8 new atoms\n"
     ]
    },
    {
     "name": "stdout",
     "output_type": "stream",
     "text": [
      "conducting subsequent work with the following platform: CUDA\n"
     ]
    },
    {
     "name": "stderr",
     "output_type": "stream",
     "text": [
      "INFO:geometry:\treduced angle potential = 0.5305209475348288.\n",
      "INFO:geometry:\treduced angle potential = 0.005165150791445113.\n",
      "INFO:geometry:\treduced angle potential = 0.4788702500646966.\n",
      "INFO:geometry:\treduced angle potential = 0.01392576095456174.\n",
      "INFO:geometry:\treduced angle potential = 0.8672997245591195.\n",
      "INFO:geometry:\treduced angle potential = 0.2596979326900967.\n",
      "INFO:geometry:\treduced angle potential = 0.2124939602020238.\n",
      "INFO:geometry:\treduced angle potential = 0.70608244841363.\n",
      "INFO:geometry:\tbeginning construction of no_nonbonded final system...\n",
      "INFO:geometry:\tinitial no-nonbonded final system forces ['HarmonicBondForce', 'HarmonicAngleForce', 'PeriodicTorsionForce', 'NonbondedForce']\n",
      "INFO:geometry:\tfinal no-nonbonded final system forces dict_keys(['HarmonicBondForce', 'HarmonicAngleForce', 'PeriodicTorsionForce', 'NonbondedForce'])\n",
      "INFO:geometry:\tthere are 11 bond forces in the no-nonbonded final system\n",
      "INFO:geometry:\tthere are 43 angle forces in the no-nonbonded final system\n",
      "INFO:geometry:\tthere are 72 torsion forces in the no-nonbonded final system\n",
      "INFO:geometry:reverse final system defined with 0 neglected angles.\n"
     ]
    },
    {
     "name": "stdout",
     "output_type": "stream",
     "text": [
      "conducting subsequent work with the following platform: CUDA\n"
     ]
    },
    {
     "name": "stderr",
     "output_type": "stream",
     "text": [
      "INFO:geometry:total reduced potential before atom placement: 9.117927746118994\n"
     ]
    },
    {
     "name": "stdout",
     "output_type": "stream",
     "text": [
      "conducting subsequent work with the following platform: CUDA\n",
      "conducting subsequent work with the following platform: CUDA\n",
      "conducting subsequent work with the following platform: CUDA\n",
      "conducting subsequent work with the following platform: CUDA\n",
      "added energy components: [('CustomBondForce', 1.1114824464808768), ('CustomAngleForce', 9.449446410979123), ('CustomTorsionForce', 18.656515884333214), ('CustomBondForce', -92.18526532593798)]\n"
     ]
    },
    {
     "name": "stderr",
     "output_type": "stream",
     "text": [
      "INFO:geometry:total reduced energy added from growth system: -62.96782058414476\n",
      "INFO:geometry:final reduced energy -53.84989368793476\n",
      "INFO:geometry:sum of energies: -53.84989283802577\n",
      "INFO:geometry:magnitude of difference in the energies: 8.499089929614456e-07\n",
      "INFO:geometry:Final logp_proposal: 39.379738578232455\n",
      "INFO:relative:Old system forces: dict_keys(['HarmonicBondForce', 'HarmonicAngleForce', 'PeriodicTorsionForce', 'NonbondedForce'])\n",
      "INFO:relative:New system forces: dict_keys(['HarmonicBondForce', 'HarmonicAngleForce', 'PeriodicTorsionForce', 'NonbondedForce'])\n",
      "INFO:relative:No unknown forces.\n",
      "INFO:relative:Nonbonded method to be used (i.e. from old system): 0\n",
      "INFO:relative:Adding and mapping old atoms to hybrid system...\n",
      "INFO:relative:Adding and mapping new atoms to hybrid system...\n",
      "INFO:relative:No MonteCarloBarostat added.\n",
      "INFO:relative:getDefaultPeriodicBoxVectors added to hybrid: [Quantity(value=Vec3(x=2.0, y=0.0, z=0.0), unit=nanometer), Quantity(value=Vec3(x=0.0, y=2.0, z=0.0), unit=nanometer), Quantity(value=Vec3(x=0.0, y=0.0, z=2.0), unit=nanometer)]\n",
      "INFO:relative:Determined atom classes.\n",
      "INFO:relative:Generating old system exceptions dict...\n",
      "INFO:relative:Generating new system exceptions dict...\n",
      "INFO:relative:Handling constraints...\n",
      "INFO:relative:Handling virtual sites...\n",
      "INFO:relative:\t_handle_virtual_sites: numVirtualSites: 0\n",
      "INFO:relative:\t_add_nonbonded_force_terms: <simtk.openmm.openmm.NonbondedForce; proxy of <Swig Object of type 'OpenMM::NonbondedForce *' at 0x2b52e4143a80> > added to hybrid system\n",
      "INFO:relative:\t_add_nonbonded_force_terms: nonbonded_method is NoCutoff\n",
      "INFO:relative:\t_add_nonbonded_force_terms: 0 added to standard nonbonded force\n",
      "INFO:relative:\t_add_nonbonded_force_terms: 0 added to sterics_custom_nonbonded force\n"
     ]
    }
   ],
   "source": [
    "rhtf = generate_dipeptide_top_pos_sys(pdb.topology, \n",
    "                                         new_res = 'ALA', \n",
    "                                         system = system, \n",
    "                                         positions = positions,\n",
    "                                         system_generator = system_generator, \n",
    "                                         conduct_htf_prop=True,\n",
    "                                         repartitioned=True, \n",
    "                                         endstate=0, \n",
    "                                         flatten_torsions=True,\n",
    "                                         flatten_exceptions=True,\n",
    "                                         validate_endstate_energy=False)\n"
   ]
  },
  {
   "cell_type": "code",
   "execution_count": 36,
   "metadata": {},
   "outputs": [
    {
     "name": "stdout",
     "output_type": "stream",
     "text": [
      "ACE1-H1 0\n",
      "ACE1-CH3 1\n",
      "ACE1-H2 2\n",
      "ACE1-H3 3\n",
      "ACE1-C 4\n",
      "ACE1-O 5\n",
      "THR2-N 6\n",
      "THR2-H 7\n",
      "THR2-CA 8\n",
      "THR2-HA 9\n",
      "THR2-CB 10\n",
      "THR2-C 11\n",
      "THR2-O 12\n",
      "THR2-HB 13\n",
      "THR2-CG2 14\n",
      "THR2-HG21 15\n",
      "THR2-HG22 16\n",
      "THR2-HG23 17\n",
      "THR2-OG1 18\n",
      "THR2-HG1 19\n",
      "THR2-CB 26\n",
      "THR2-HB1 27\n",
      "THR2-HB2 28\n",
      "THR2-HB3 29\n",
      "NME3-N 20\n",
      "NME3-H 21\n",
      "NME3-C 22\n",
      "NME3-H1 23\n",
      "NME3-H2 24\n",
      "NME3-H3 25\n"
     ]
    }
   ],
   "source": [
    "for atom in rhtf.hybrid_topology.atoms:\n",
    "    print(atom, atom.index)"
   ]
  },
  {
   "cell_type": "code",
   "execution_count": 37,
   "metadata": {},
   "outputs": [
    {
     "name": "stdout",
     "output_type": "stream",
     "text": [
      "<Atom 0 (H1) of chain 0 residue 0 (ACE)> 0\n",
      "<Atom 1 (CH3) of chain 0 residue 0 (ACE)> 1\n",
      "<Atom 2 (H2) of chain 0 residue 0 (ACE)> 2\n",
      "<Atom 3 (H3) of chain 0 residue 0 (ACE)> 3\n",
      "<Atom 4 (C) of chain 0 residue 0 (ACE)> 4\n",
      "<Atom 5 (O) of chain 0 residue 0 (ACE)> 5\n",
      "<Atom 6 (N) of chain 0 residue 1 (THR)> 6\n",
      "<Atom 7 (H) of chain 0 residue 1 (THR)> 7\n",
      "<Atom 8 (CA) of chain 0 residue 1 (THR)> 8\n",
      "<Atom 9 (HA) of chain 0 residue 1 (THR)> 9\n",
      "<Atom 10 (CB) of chain 0 residue 1 (THR)> 10\n",
      "<Atom 11 (C) of chain 0 residue 1 (THR)> 11\n",
      "<Atom 12 (O) of chain 0 residue 1 (THR)> 12\n",
      "<Atom 13 (HB) of chain 0 residue 1 (THR)> 13\n",
      "<Atom 14 (CG2) of chain 0 residue 1 (THR)> 14\n",
      "<Atom 15 (HG21) of chain 0 residue 1 (THR)> 15\n",
      "<Atom 16 (HG22) of chain 0 residue 1 (THR)> 16\n",
      "<Atom 17 (HG23) of chain 0 residue 1 (THR)> 17\n",
      "<Atom 18 (OG1) of chain 0 residue 1 (THR)> 18\n",
      "<Atom 19 (HG1) of chain 0 residue 1 (THR)> 19\n",
      "<Atom 20 (N) of chain 0 residue 2 (NME)> 20\n",
      "<Atom 21 (H) of chain 0 residue 2 (NME)> 21\n",
      "<Atom 22 (C) of chain 0 residue 2 (NME)> 22\n",
      "<Atom 23 (H1) of chain 0 residue 2 (NME)> 23\n",
      "<Atom 24 (H2) of chain 0 residue 2 (NME)> 24\n",
      "<Atom 25 (H3) of chain 0 residue 2 (NME)> 25\n"
     ]
    }
   ],
   "source": [
    "for atom in rhtf._topology_proposal.old_topology.atoms():\n",
    "    print(atom, atom.index)"
   ]
  },
  {
   "cell_type": "code",
   "execution_count": 38,
   "metadata": {},
   "outputs": [
    {
     "name": "stdout",
     "output_type": "stream",
     "text": [
      "<Atom 0 (H1) of chain 0 residue 0 (ACE)> 0\n",
      "<Atom 1 (CH3) of chain 0 residue 0 (ACE)> 1\n",
      "<Atom 2 (H2) of chain 0 residue 0 (ACE)> 2\n",
      "<Atom 3 (H3) of chain 0 residue 0 (ACE)> 3\n",
      "<Atom 4 (C) of chain 0 residue 0 (ACE)> 4\n",
      "<Atom 5 (O) of chain 0 residue 0 (ACE)> 5\n",
      "<Atom 6 (N) of chain 0 residue 1 (ALA)> 6\n",
      "<Atom 7 (H) of chain 0 residue 1 (ALA)> 7\n",
      "<Atom 8 (CA) of chain 0 residue 1 (ALA)> 8\n",
      "<Atom 9 (HA) of chain 0 residue 1 (ALA)> 9\n",
      "<Atom 10 (CB) of chain 0 residue 1 (ALA)> 10\n",
      "<Atom 11 (C) of chain 0 residue 1 (ALA)> 11\n",
      "<Atom 12 (O) of chain 0 residue 1 (ALA)> 12\n",
      "<Atom 13 (HB1) of chain 0 residue 1 (ALA)> 13\n",
      "<Atom 14 (HB2) of chain 0 residue 1 (ALA)> 14\n",
      "<Atom 15 (HB3) of chain 0 residue 1 (ALA)> 15\n",
      "<Atom 16 (N) of chain 0 residue 2 (NME)> 16\n",
      "<Atom 17 (H) of chain 0 residue 2 (NME)> 17\n",
      "<Atom 18 (C) of chain 0 residue 2 (NME)> 18\n",
      "<Atom 19 (H1) of chain 0 residue 2 (NME)> 19\n",
      "<Atom 20 (H2) of chain 0 residue 2 (NME)> 20\n",
      "<Atom 21 (H3) of chain 0 residue 2 (NME)> 21\n"
     ]
    }
   ],
   "source": [
    "for atom in rhtf._topology_proposal.new_topology.atoms():\n",
    "    print(atom, atom.index)"
   ]
  },
  {
   "cell_type": "code",
   "execution_count": 39,
   "metadata": {},
   "outputs": [
    {
     "name": "stdout",
     "output_type": "stream",
     "text": [
      "0 <simtk.openmm.openmm.HarmonicBondForce; proxy of <Swig Object of type 'OpenMM::HarmonicBondForce *' at 0x2b40067403f0> >\n",
      "1 <simtk.openmm.openmm.HarmonicAngleForce; proxy of <Swig Object of type 'OpenMM::HarmonicAngleForce *' at 0x2b40064f8c90> >\n",
      "2 <simtk.openmm.openmm.PeriodicTorsionForce; proxy of <Swig Object of type 'OpenMM::PeriodicTorsionForce *' at 0x2b40064f8c90> >\n",
      "3 <simtk.openmm.openmm.NonbondedForce; proxy of <Swig Object of type 'OpenMM::NonbondedForce *' at 0x2b40064f8c90> >\n"
     ]
    }
   ],
   "source": [
    "for i in range(rhtf._topology_proposal.new_system.getNumForces()):\n",
    "    print(i, rhtf._topology_proposal.new_system.getForce(i))"
   ]
  },
  {
   "cell_type": "code",
   "execution_count": 40,
   "metadata": {},
   "outputs": [],
   "source": [
    "# Flatten all exceptions in new system\n",
    "new_system = rhtf._topology_proposal.new_system\n",
    "nb_force = new_system.getForce(3)\n",
    "for i in range(nb_force.getNumExceptions()):\n",
    "    p1, p2, chargeProd, sigma, epsilon = nb_force.getExceptionParameters(i)\n",
    "    nb_force.setExceptionParameters(i, p1, p2, 0, sigma, 0)\n"
   ]
  },
  {
   "cell_type": "code",
   "execution_count": 31,
   "metadata": {
    "scrolled": true
   },
   "outputs": [
    {
     "name": "stderr",
     "output_type": "stream",
     "text": [
      "INFO:relative:Beginning nonbonded method, total particle, barostat, and exceptions retrieval...\n",
      "INFO:relative:Old system forces: dict_keys(['HarmonicBondForce', 'HarmonicAngleForce', 'PeriodicTorsionForce', 'NonbondedForce'])\n",
      "INFO:relative:New system forces: dict_keys(['HarmonicBondForce', 'HarmonicAngleForce', 'PeriodicTorsionForce', 'NonbondedForce'])\n",
      "INFO:relative:No unknown forces.\n",
      "INFO:relative:Nonbonded method to be used (i.e. from old system): 0\n",
      "INFO:relative:Adding and mapping old atoms to hybrid system...\n",
      "INFO:relative:Adding and mapping new atoms to hybrid system...\n",
      "INFO:relative:No MonteCarloBarostat added.\n",
      "INFO:relative:getDefaultPeriodicBoxVectors added to hybrid: [Quantity(value=Vec3(x=2.0, y=0.0, z=0.0), unit=nanometer), Quantity(value=Vec3(x=0.0, y=2.0, z=0.0), unit=nanometer), Quantity(value=Vec3(x=0.0, y=0.0, z=2.0), unit=nanometer)]\n",
      "INFO:relative:Determined atom classes.\n",
      "INFO:relative:Generating old system exceptions dict...\n",
      "INFO:relative:Generating new system exceptions dict...\n",
      "INFO:relative:Handling constraints...\n",
      "INFO:relative:Handling virtual sites...\n",
      "INFO:relative:\t_handle_virtual_sites: numVirtualSites: 0\n",
      "INFO:relative:Adding bond force terms...\n",
      "INFO:relative:Adding angle force terms...\n",
      "INFO:relative:Adding torsion force terms...\n",
      "INFO:relative:Adding nonbonded force terms...\n",
      "INFO:relative:\t_add_nonbonded_force_terms: <simtk.openmm.openmm.NonbondedForce; proxy of <Swig Object of type 'OpenMM::NonbondedForce *' at 0x2b4006740a20> > added to hybrid system\n",
      "INFO:relative:\t_add_nonbonded_force_terms: nonbonded_method is NoCutoff\n",
      "INFO:relative:\t_add_nonbonded_force_terms: 0 added to standard nonbonded force\n",
      "INFO:relative:\t_add_nonbonded_force_terms: 0 added to sterics_custom_nonbonded force\n",
      "INFO:relative:\t_add_nonbonded_force_terms: <simtk.openmm.openmm.CustomNonbondedForce; proxy of <Swig Object of type 'OpenMM::CustomNonbondedForce *' at 0x2b4006740b10> > added to hybrid system\n",
      "INFO:relative:Handling harmonic bonds...\n",
      "INFO:relative:\thandle_harmonic_bonds: looping through old_system to add relevant terms...\n",
      "INFO:relative:\thandle_harmonic_bonds: looping through new_system to add relevant terms...\n",
      "INFO:relative:Handling harmonic angles...\n",
      "INFO:relative:\thandle_harmonic_angles: looping through old_system to add relevant terms...\n",
      "INFO:relative:\thandle_harmonic_angles: looping through new_system to add relevant terms...\n",
      "INFO:relative:Handling torsion forces...\n",
      "INFO:relative:\thandle_periodic_torsion_forces: looping through old_system to add relevant terms...\n",
      "INFO:relative:\thandle_periodic_torsion_forces: looping through new_system to add relevant terms...\n",
      "INFO:relative:Handling nonbonded forces...\n",
      "INFO:relative:\thandle_nonbonded: looping through all particles in hybrid...\n",
      "INFO:relative:\thandle_nonbonded: Handling Interaction Groups...\n",
      "INFO:relative:\thandle_nonbonded: Handling Hybrid Exceptions...\n",
      "INFO:relative:\thandle_nonbonded: Handling Original Exceptions...\n",
      "INFO:relative:Handling unique_new/old interaction exceptions...\n",
      "INFO:relative:There are old or new system exceptions...proceeding.\n"
     ]
    }
   ],
   "source": [
    "# Build new htf\n",
    "rhtf._topology_proposal._new_system = new_system\n",
    "\n",
    "from perses.annihilation.relative import HybridTopologyFactory\n",
    "htf = HybridTopologyFactory(topology_proposal=rhtf._topology_proposal,\n",
    "                     current_positions=rhtf.old_positions(rhtf.hybrid_positions),\n",
    "                     new_positions=rhtf.new_positions(rhtf.hybrid_positions),\n",
    "                     use_dispersion_correction=False,\n",
    "                     functions=None,\n",
    "                     softcore_alpha=None,\n",
    "                     bond_softening_constant=1.0,\n",
    "                     angle_softening_constant=1.0,\n",
    "                     soften_only_new=False,\n",
    "                     neglected_new_angle_terms=[],\n",
    "                     neglected_old_angle_terms=[],\n",
    "                     softcore_LJ_v2=True,\n",
    "                     softcore_electrostatics=True,\n",
    "                     softcore_LJ_v2_alpha=0.85,\n",
    "                     softcore_electrostatics_alpha=0.3,\n",
    "                     softcore_sigma_Q=1.0,\n",
    "                     interpolate_old_and_new_14s=True, ## NOTE: when this is True, don't need to modify old and new systems\n",
    "                     omitted_terms=None,\n",
    "                     flatten_torsions=True)"
   ]
  },
  {
   "cell_type": "code",
   "execution_count": 32,
   "metadata": {},
   "outputs": [
    {
     "name": "stdout",
     "output_type": "stream",
     "text": [
      "sterics  0.0\n",
      "elec  0.0\n",
      "torsions  0.0\n",
      "-10.050355769935354\n",
      "-0.87087864\n",
      "-10.050355769935354\n"
     ]
    },
    {
     "name": "stderr",
     "output_type": "stream",
     "text": [
      "INFO:root:Rotating by 0.2619999873535249 radians\n",
      "INFO:root:Rotating by 0.262 radians\n",
      "INFO:root:Rotating by 0.2619999999999999 radians\n",
      "INFO:root:Rotating by 0.26200000000000057 radians\n",
      "INFO:root:Rotating by 0.26199999999999907 radians\n",
      "INFO:root:Rotating by 0.26200000000000034 radians\n",
      "INFO:root:Rotating by 0.26199999999999946 radians\n",
      "INFO:root:Rotating by 0.26200000000000023 radians\n",
      "INFO:root:Rotating by 0.262 radians\n",
      "INFO:root:Rotating by 0.26200000000000023 radians\n",
      "INFO:root:Rotating by 0.262 radians\n",
      "INFO:root:Rotating by 0.26199999999999957 radians\n",
      "INFO:root:Rotating by 0.26200000000000045 radians\n",
      "INFO:root:Rotating by 0.262 radians\n",
      "INFO:root:Rotating by 0.26199999999999957 radians\n",
      "INFO:root:Rotating by -6.021185307179584 radians\n",
      "INFO:root:Rotating by 0.26199999999999823 radians\n"
     ]
    },
    {
     "name": "stdout",
     "output_type": "stream",
     "text": [
      "-10.050368398940533\n",
      "-10.050362386124208\n",
      "-10.05036637973346\n",
      "-10.050354040466575\n",
      "-10.050355949154918\n",
      "-10.050358888355744\n",
      "-10.050343821964518\n",
      "-10.050356830317767\n",
      "-10.050356916940556\n",
      "-10.050353198134632\n",
      "-10.050340449649745\n",
      "-10.050354676696022\n",
      "-10.050349407640883\n",
      "-10.050368180890064\n",
      "-10.050351674768349\n",
      "-10.050362436903084\n",
      "-10.050339831342257"
     ]
    },
    {
     "name": "stderr",
     "output_type": "stream",
     "text": [
      "INFO:root:Rotating by 0.26199999999999957 radians\n",
      "INFO:root:Rotating by 0.26200000000000045 radians\n",
      "INFO:root:Rotating by 0.26199999999999957 radians\n",
      "INFO:root:Rotating by 0.26200000000000023 radians\n",
      "INFO:root:Rotating by 0.2619999999999998 radians\n",
      "INFO:root:Rotating by 0.2619999999999998 radians\n",
      "INFO:root:Rotating by 0.26200000000000045 radians\n",
      "INFO:root:Rotating by 0.26199999999999957 radians\n"
     ]
    },
    {
     "name": "stdout",
     "output_type": "stream",
     "text": [
      "\n",
      "-10.050356406164802\n",
      "-10.05035175243016\n",
      "-10.050344502998854\n",
      "-10.050368903742298\n",
      "-10.050364919094024\n",
      "-10.050366275188715\n",
      "-10.05034382495151\n",
      "raw d: {-0.6088786368370056: (-10.050368398940533, nan), -0.3468786368370056: (-10.050362386124208, nan), -0.08487863683700558: (-10.05036637973346, nan), 0.17712136316299443: (-10.050354040466575, nan), 0.43912136316299444: (-10.050355949154918, nan), 0.7011213631629944: (-10.050358888355744, nan), 0.9631213631629945: (-10.050343821964518, nan), 1.2251213631629945: (-10.050356830317767, nan), 1.4871213631629945: (-10.050356916940556, nan), 1.7491213631629945: (-10.050353198134632, nan), 2.0111213631629945: (-10.050340449649745, nan), 2.2731213631629945: (-10.050354676696022, nan), 2.5351213631629945: (-10.050349407640883, nan), 2.7971213631629945: (-10.050368180890064, nan), 3.0591213631629945: (-10.050351674768349, nan), -2.9620639440165917: (-10.050362436903084, nan), -2.7000639440165917: (-10.050339831342257, nan), -2.4380639440165917: (-10.050356406164802, nan), -2.1760639440165916: (-10.05035175243016, nan), -1.9140639440165916: (-10.050344502998854, nan), -1.6520639440165916: (-10.050368903742298, nan), -1.3900639440165916: (-10.050364919094024, nan), -1.1280639440165916: (-10.050366275188715, nan), -0.8660639440165916: (-10.05034382495151, nan), -0.6040639440165916: (-10.050358556799553, nan)}\n",
      "min: -10.050368903742298\n",
      "d corrected: {-0.6088786368370056: (5.048017648334735e-07, nan), -0.3468786368370056: (6.517618089674215e-06, nan), -0.08487863683700558: (2.524008838378222e-06, nan), 0.17712136316299443: (1.48632757230871e-05, nan), 0.43912136316299444: (1.2954587379709892e-05, nan), 0.7011213631629944: (1.001538655387435e-05, nan), 0.9631213631629945: (2.5081777780044945e-05, nan), 1.2251213631629945: (1.2073424530356647e-05, nan), 1.4871213631629945: (1.1986801741414865e-05, nan), 1.7491213631629945: (1.5705607665950083e-05, nan), 2.0111213631629945: (2.845409255236575e-05, nan), 2.2731213631629945: (1.4227046275294697e-05, nan), 2.5351213631629945: (1.949610141416258e-05, nan), 2.7971213631629945: (7.228522331814702e-07, nan), 3.0591213631629945: (1.722897394884626e-05, nan), -2.9620639440165917: (6.466839213459252e-06, nan), -2.7000639440165917: (2.907240004113021e-05, nan), -2.4380639440165917: (1.2497577495551582e-05, nan), -2.1760639440165916: (1.7151312137642094e-05, nan), -1.9140639440165916: (2.4400743443564465e-05, nan), -1.6520639440165916: (0.0, nan), -1.3900639440165916: (3.984648273558378e-06, nan), -1.1280639440165916: (2.6285535827952344e-06, nan), -0.8660639440165916: (2.507879078805786e-05, nan), -0.6040639440165916: (1.0346942744376975e-05, nan)}\n"
     ]
    },
    {
     "data": {
      "image/png": "[encoded data removed]",
      "text/plain": [
       "<Figure size 432x288 with 1 Axes>"
      ]
     },
     "metadata": {
      "needs_background": "light"
     },
     "output_type": "display_data"
    },
    {
     "data": {
      "text/plain": [
       "{-0.6088786368370056: (5.048017648334735e-07, nan),\n",
       " -0.3468786368370056: (6.517618089674215e-06, nan),\n",
       " -0.08487863683700558: (2.524008838378222e-06, nan),\n",
       " 0.17712136316299443: (1.48632757230871e-05, nan),\n",
       " 0.43912136316299444: (1.2954587379709892e-05, nan),\n",
       " 0.7011213631629944: (1.001538655387435e-05, nan),\n",
       " 0.9631213631629945: (2.5081777780044945e-05, nan),\n",
       " 1.2251213631629945: (1.2073424530356647e-05, nan),\n",
       " 1.4871213631629945: (1.1986801741414865e-05, nan),\n",
       " 1.7491213631629945: (1.5705607665950083e-05, nan),\n",
       " 2.0111213631629945: (2.845409255236575e-05, nan),\n",
       " 2.2731213631629945: (1.4227046275294697e-05, nan),\n",
       " 2.5351213631629945: (1.949610141416258e-05, nan),\n",
       " 2.7971213631629945: (7.228522331814702e-07, nan),\n",
       " 3.0591213631629945: (1.722897394884626e-05, nan),\n",
       " -2.9620639440165917: (6.466839213459252e-06, nan),\n",
       " -2.7000639440165917: (2.907240004113021e-05, nan),\n",
       " -2.4380639440165917: (1.2497577495551582e-05, nan),\n",
       " -2.1760639440165916: (1.7151312137642094e-05, nan),\n",
       " -1.9140639440165916: (2.4400743443564465e-05, nan),\n",
       " -1.6520639440165916: (0.0, nan),\n",
       " -1.3900639440165916: (3.984648273558378e-06, nan),\n",
       " -1.1280639440165916: (2.6285535827952344e-06, nan),\n",
       " -0.8660639440165916: (2.507879078805786e-05, nan),\n",
       " -0.6040639440165916: (1.0346942744376975e-05, nan)}"
      ]
     },
     "execution_count": 32,
     "metadata": {},
     "output_type": "execute_result"
    }
   ],
   "source": [
    "# ALA->THR -- THR at lambda = 1\n",
    "run_torsion_scan(htf, 1, False, [6, 8, 22, 28], [6, 8, 10, 18], [23, 24, 25, 26, 27, 29]) "
   ]
  },
  {
   "cell_type": "code",
   "execution_count": 119,
   "metadata": {
    "scrolled": true
   },
   "outputs": [
    {
     "name": "stdout",
     "output_type": "stream",
     "text": [
      "-22.10941842751517\n"
     ]
    },
    {
     "name": "stderr",
     "output_type": "stream",
     "text": [
      "100%|██████████| 10000/10000 [00:01<00:00, 5847.48it/s]\n",
      "INFO:root:Rotating by 0.2620001133349332 radians\n",
      "INFO:root:Rotating by 0.262 radians\n",
      "INFO:root:Rotating by 0.2619999999999999 radians\n",
      "INFO:root:Rotating by 0.2619999999999998 radians\n",
      "INFO:root:Rotating by 0.2620000000000003 radians\n",
      "INFO:root:Rotating by 0.26200000000000023 radians\n",
      "INFO:root:Rotating by 0.26200000000000084 radians\n",
      "INFO:root:Rotating by 0.26199999999999946 radians\n",
      "INFO:root:Rotating by 0.2619999999999997 radians\n",
      "INFO:root:Rotating by 0.262 radians\n",
      "INFO:root:Rotating by 0.26200000000000045 radians\n",
      "INFO:root:Rotating by 0.2619999999999998 radians\n",
      "INFO:root:Rotating by 0.262 radians\n",
      "INFO:root:Rotating by 0.26199999999999934 radians\n",
      "INFO:root:Rotating by 0.262 radians\n",
      "INFO:root:Rotating by 0.262 radians\n",
      "INFO:root:Rotating by 0.26200000000000045 radians\n",
      "INFO:root:Rotating by -6.021185307179586 radians\n",
      "INFO:root:Rotating by 0.2619999999999987 radians\n",
      "INFO:root:Rotating by 0.26200000000000134 radians\n",
      "INFO:root:Rotating by 0.262 radians\n",
      "INFO:root:Rotating by 0.262 radians\n",
      "INFO:root:Rotating by 0.262 radians\n",
      "INFO:root:Rotating by 0.262 radians\n",
      "INFO:root:Rotating by 0.26200000000000023 radians\n"
     ]
    },
    {
     "name": "stdout",
     "output_type": "stream",
     "text": [
      "-1.4848638\n",
      "-0.03522379469260741\n",
      "-0.035219317190535594\n",
      "-0.035228956216009744\n",
      "-0.03522604091112509\n",
      "-0.03522549429145923\n",
      "-0.03522567649801451\n",
      "-0.03523016893504988\n",
      "-0.035229873222771615\n",
      "-0.035236853824734155\n",
      "-0.03523284826751046\n",
      "-0.03523714953701241\n",
      "-0.035236853824734155\n",
      "-0.03523729589965518\n",
      "-0.03523747810621048\n",
      "-0.03523766031276577\n",
      "-0.03523288709841569\n",
      "-0.03523111879873155\n",
      "-0.035235420068233506\n",
      "-0.035230381011532266\n",
      "-0.03523067672381053\n",
      "-0.035229941923603944\n",
      "-0.03522441598709102\n",
      "-0.03522427261144096\n",
      "-0.03522332274775928\n",
      "-0.03522846933619807\n",
      "raw d: {-1.2228637580871582: (-0.035219317190535594, nan), -0.9608637580871582: (-0.035228956216009744, nan), -0.6988637580871582: (-0.03522604091112509, nan), -0.43686375808715816: (-0.03522549429145923, nan), -0.17486375808715815: (-0.03522567649801451, nan), 0.08713624191284186: (-0.03523016893504988, nan), 0.34913624191284187: (-0.035229873222771615, nan), 0.6111362419128419: (-0.035236853824734155, nan), 0.8731362419128419: (-0.03523284826751046, nan), 1.135136241912842: (-0.03523714953701241, nan), 1.397136241912842: (-0.035236853824734155, nan), 1.659136241912842: (-0.03523729589965518, nan), 1.921136241912842: (-0.03523747810621048, nan), 2.183136241912842: (-0.03523766031276577, nan), 2.445136241912842: (-0.03523288709841569, nan), 2.707136241912842: (-0.03523111879873155, nan), 2.969136241912842: (-0.035235420068233506, nan), -3.0520490652667442: (-0.035230381011532266, nan), -2.7900490652667442: (-0.03523067672381053, nan), -2.528049065266744: (-0.035229941923603944, nan), -2.266049065266744: (-0.03522441598709102, nan), -2.004049065266744: (-0.03522427261144096, nan), -1.7420490652667442: (-0.03522332274775928, nan), -1.4800490652667442: (-0.03522846933619807, nan), -1.2180490652667442: (-0.03522846933619807, nan)}\n",
      "min: -0.03523766031276577\n",
      "d corrected: {-1.2228637580871582: (1.8343122230174425e-05, nan), -0.9608637580871582: (8.70409675602507e-06, nan), -0.6988637580871582: (1.1619401640676486e-05, nan), -0.43686375808715816: (1.216602130654082e-05, nan), -0.17486375808715815: (1.1983814751259647e-05, nan), 0.08713624191284186: (7.491377715891645e-06, nan), 0.34913624191284187: (7.787089994153173e-06, nan), 0.6111362419128419: (8.064880316141498e-07, nan), 0.8731362419128419: (4.812045255306319e-06, nan), 1.135136241912842: (5.107757533595603e-07, nan), 1.397136241912842: (8.064880316141498e-07, nan), 1.659136241912842: (3.644131105901005e-07, nan), 1.921136241912842: (1.8220655528811136e-07, nan), 2.183136241912842: (0.0, nan), 2.445136241912842: (4.773214350078936e-06, nan), 2.707136241912842: (6.541514034216767e-06, nan), 2.969136241912842: (2.2402445322630693e-06, nan), -3.0520490652667442: (7.279301233502344e-06, nan), -2.7900490652667442: (6.983588955240816e-06, nan), -2.528049065266744: (7.718389161824601e-06, nan), -2.266049065266744: (1.3244325674746649e-05, nan), -2.004049065266744: (1.3387701324807377e-05, nan), -1.7420490652667442: (1.4337565006489195e-05, nan), -1.4800490652667442: (9.190976567700904e-06, nan), -1.2180490652667442: (9.190976567700904e-06, nan)}\n"
     ]
    },
    {
     "data": {
      "image/png": "[encoded data removed]",
      "text/plain": [
       "<Figure size 432x288 with 1 Axes>"
      ]
     },
     "metadata": {
      "needs_background": "light"
     },
     "output_type": "display_data"
    },
    {
     "data": {
      "text/plain": [
       "{-1.2228637580871582: (1.8343122230174425e-05, nan),\n",
       " -0.9608637580871582: (8.70409675602507e-06, nan),\n",
       " -0.6988637580871582: (1.1619401640676486e-05, nan),\n",
       " -0.43686375808715816: (1.216602130654082e-05, nan),\n",
       " -0.17486375808715815: (1.1983814751259647e-05, nan),\n",
       " 0.08713624191284186: (7.491377715891645e-06, nan),\n",
       " 0.34913624191284187: (7.787089994153173e-06, nan),\n",
       " 0.6111362419128419: (8.064880316141498e-07, nan),\n",
       " 0.8731362419128419: (4.812045255306319e-06, nan),\n",
       " 1.135136241912842: (5.107757533595603e-07, nan),\n",
       " 1.397136241912842: (8.064880316141498e-07, nan),\n",
       " 1.659136241912842: (3.644131105901005e-07, nan),\n",
       " 1.921136241912842: (1.8220655528811136e-07, nan),\n",
       " 2.183136241912842: (0.0, nan),\n",
       " 2.445136241912842: (4.773214350078936e-06, nan),\n",
       " 2.707136241912842: (6.541514034216767e-06, nan),\n",
       " 2.969136241912842: (2.2402445322630693e-06, nan),\n",
       " -3.0520490652667442: (7.279301233502344e-06, nan),\n",
       " -2.7900490652667442: (6.983588955240816e-06, nan),\n",
       " -2.528049065266744: (7.718389161824601e-06, nan),\n",
       " -2.266049065266744: (1.3244325674746649e-05, nan),\n",
       " -2.004049065266744: (1.3387701324807377e-05, nan),\n",
       " -1.7420490652667442: (1.4337565006489195e-05, nan),\n",
       " -1.4800490652667442: (9.190976567700904e-06, nan),\n",
       " -1.2180490652667442: (9.190976567700904e-06, nan)}"
      ]
     },
     "execution_count": 119,
     "metadata": {},
     "output_type": "execute_result"
    }
   ],
   "source": [
    "# THR->ALA -- ALA at lambda = 0\n",
    "run_torsion_scan(rhtf, 0, False, [6, 8, 26, 27], [6, 8, 10, 13], [28, 29], repartitioned=True)"
   ]
  },
  {
   "cell_type": "code",
   "execution_count": 120,
   "metadata": {},
   "outputs": [
    {
     "name": "stderr",
     "output_type": "stream",
     "text": [
      "\r",
      "  0%|          | 0/10000 [00:00<?, ?it/s]"
     ]
    },
    {
     "name": "stdout",
     "output_type": "stream",
     "text": [
      "-17.686529117180065\n"
     ]
    },
    {
     "name": "stderr",
     "output_type": "stream",
     "text": [
      "100%|██████████| 10000/10000 [00:01<00:00, 5799.25it/s]\n",
      "INFO:root:Rotating by -0.706255991811203 radians\n",
      "INFO:root:Rotating by 0.2620000000000031 radians\n",
      "INFO:root:Rotating by 0.26199999999999957 radians\n",
      "INFO:root:Rotating by -6.021185307179586 radians\n",
      "INFO:root:Rotating by 0.2620000000000142 radians\n",
      "INFO:root:Rotating by 0.2619999999999858 radians\n",
      "INFO:root:Rotating by 0.262 radians\n",
      "INFO:root:Rotating by 0.262 radians\n",
      "INFO:root:Rotating by 0.26199999999999957 radians\n",
      "INFO:root:Rotating by 0.262 radians\n",
      "INFO:root:Rotating by 0.2619999999999998 radians\n",
      "INFO:root:Rotating by 0.262 radians\n",
      "INFO:root:Rotating by 0.26200000000000023 radians\n",
      "INFO:root:Rotating by 0.262 radians\n",
      "INFO:root:Rotating by 0.26200000000000023 radians\n",
      "INFO:root:Rotating by 0.2619999999999999 radians\n",
      "INFO:root:Rotating by 0.261999999999995 radians\n",
      "INFO:root:Rotating by 0.26200000000000595 radians\n",
      "INFO:root:Rotating by 0.2619999999999991 radians\n",
      "INFO:root:Rotating by 0.2620000000000001 radians\n",
      "INFO:root:Rotating by 0.262 radians\n",
      "INFO:root:Rotating by 0.26200000000000023 radians\n",
      "INFO:root:Rotating by 0.262 radians\n",
      "INFO:root:Rotating by 0.26200000000000023 radians\n",
      "INFO:root:Rotating by 0.262 radians\n"
     ]
    },
    {
     "name": "stdout",
     "output_type": "stream",
     "text": [
      "2.1061172\n",
      "11.822919755090672\n",
      "13.072634773815341\n",
      "12.392222669853272\n",
      "11.880004591761201\n",
      "11.891937355259998\n",
      "12.471425529210494\n",
      "13.320472208357064\n",
      "13.971549494185043\n",
      "14.059868378995398\n",
      "13.536148097328654\n",
      "12.695339880392105\n",
      "12.00453792193969\n",
      "11.830604911648352\n",
      "12.227698873564519\n",
      "12.908696551264462\n",
      "13.417360492642324\n",
      "13.399844559049988\n",
      "12.816078474487268\n",
      "11.966678975227207\n",
      "11.319466483424678\n",
      "11.237124968051406\n",
      "11.76556370727629\n",
      "12.607156037743847\n",
      "13.294533665889311\n",
      "13.462882831971857\n",
      "raw d: {2.3681172485351563: (13.072634773815341, nan), 2.6301172485351563: (12.392222669853272, nan), 2.8921172485351563: (11.880004591761201, nan), -3.12906805864443: (11.891937355259998, nan), -2.86706805864443: (12.471425529210494, nan), -2.60506805864443: (13.320472208357064, nan), -2.34306805864443: (13.971549494185043, nan), -2.08106805864443: (14.059868378995398, nan), -1.8190680586444299: (13.536148097328654, nan), -1.5570680586444299: (12.695339880392105, nan), -1.2950680586444299: (12.00453792193969, nan), -1.0330680586444299: (11.830604911648352, nan), -0.7710680586444298: (12.227698873564519, nan), -0.5090680586444298: (12.908696551264462, nan), -0.24706805864442982: (13.417360492642324, nan), 0.014931941355570189: (13.399844559049988, nan), 0.2769319413555702: (12.816078474487268, nan), 0.5389319413555702: (11.966678975227207, nan), 0.8009319413555702: (11.319466483424678, nan), 1.0629319413555702: (11.237124968051406, nan), 1.3249319413555702: (11.76556370727629, nan), 1.5869319413555703: (12.607156037743847, nan), 1.8489319413555703: (13.294533665889311, nan), 2.1109319413555703: (13.462882831971857, nan), 2.3729319413555703: (13.061445592001663, nan)}\n",
      "min: 11.237124968051406\n",
      "d corrected: {2.3681172485351563: (1.8355098057639356, nan), 2.6301172485351563: (1.155097701801866, nan), 2.8921172485351563: (0.6428796237097956, nan), -3.12906805864443: (0.654812387208592, nan), -2.86706805864443: (1.2343005611590883, nan), -2.60506805864443: (2.083347240305658, nan), -2.34306805864443: (2.734424526133637, nan), -2.08106805864443: (2.8227434109439926, nan), -1.8190680586444299: (2.2990231292772485, nan), -1.5570680586444299: (1.4582149123406989, nan), -1.2950680586444299: (0.7674129538882841, nan), -1.0330680586444299: (0.5934799435969467, nan), -0.7710680586444298: (0.9905739055131129, nan), -0.5090680586444298: (1.6715715832130567, nan), -0.24706805864442982: (2.180235524590918, nan), 0.014931941355570189: (2.1627195909985826, nan), 0.2769319413555702: (1.5789535064358624, nan), 0.5389319413555702: (0.7295540071758015, nan), 0.8009319413555702: (0.0823415153732725, nan), 1.0629319413555702: (0.0, nan), 1.3249319413555702: (0.5284387392248835, nan), 1.5869319413555703: (1.3700310696924412, nan), 1.8489319413555703: (2.0574086978379054, nan), 2.1109319413555703: (2.2257578639204514, nan), 2.3729319413555703: (1.824320623950257, nan)}\n"
     ]
    },
    {
     "data": {
      "image/png": "[encoded data removed]",
      "text/plain": [
       "<Figure size 432x288 with 1 Axes>"
      ]
     },
     "metadata": {
      "needs_background": "light"
     },
     "output_type": "display_data"
    },
    {
     "data": {
      "text/plain": [
       "{2.3681172485351563: (1.8355098057639356, nan),\n",
       " 2.6301172485351563: (1.155097701801866, nan),\n",
       " 2.8921172485351563: (0.6428796237097956, nan),\n",
       " -3.12906805864443: (0.654812387208592, nan),\n",
       " -2.86706805864443: (1.2343005611590883, nan),\n",
       " -2.60506805864443: (2.083347240305658, nan),\n",
       " -2.34306805864443: (2.734424526133637, nan),\n",
       " -2.08106805864443: (2.8227434109439926, nan),\n",
       " -1.8190680586444299: (2.2990231292772485, nan),\n",
       " -1.5570680586444299: (1.4582149123406989, nan),\n",
       " -1.2950680586444299: (0.7674129538882841, nan),\n",
       " -1.0330680586444299: (0.5934799435969467, nan),\n",
       " -0.7710680586444298: (0.9905739055131129, nan),\n",
       " -0.5090680586444298: (1.6715715832130567, nan),\n",
       " -0.24706805864442982: (2.180235524590918, nan),\n",
       " 0.014931941355570189: (2.1627195909985826, nan),\n",
       " 0.2769319413555702: (1.5789535064358624, nan),\n",
       " 0.5389319413555702: (0.7295540071758015, nan),\n",
       " 0.8009319413555702: (0.0823415153732725, nan),\n",
       " 1.0629319413555702: (0.0, nan),\n",
       " 1.3249319413555702: (0.5284387392248835, nan),\n",
       " 1.5869319413555703: (1.3700310696924412, nan),\n",
       " 1.8489319413555703: (2.0574086978379054, nan),\n",
       " 2.1109319413555703: (2.2257578639204514, nan),\n",
       " 2.3729319413555703: (1.824320623950257, nan)}"
      ]
     },
     "execution_count": 120,
     "metadata": {},
     "output_type": "execute_result"
    }
   ],
   "source": [
    "# THR->ALA -- THR at lambda = 0\n",
    "run_torsion_scan(rhtf, 0, True, [6, 8, 10, 18], [6, 8, 10, 11], [13, 14, 15, 16, 17, 19], repartitioned=True)"
   ]
  },
  {
   "cell_type": "markdown",
   "metadata": {},
   "source": [
    "# Plot diff torsion scans all on one plot"
   ]
  },
  {
   "cell_type": "code",
   "execution_count": 135,
   "metadata": {},
   "outputs": [],
   "source": [
    "import collections"
   ]
  },
  {
   "cell_type": "code",
   "execution_count": 136,
   "metadata": {},
   "outputs": [
    {
     "data": {
      "text/plain": [
       "2"
      ]
     },
     "execution_count": 136,
     "metadata": {},
     "output_type": "execute_result"
    }
   ],
   "source": [
    "len(torsion_scans)"
   ]
  },
  {
   "cell_type": "code",
   "execution_count": 129,
   "metadata": {},
   "outputs": [
    {
     "data": {
      "text/plain": [
       "[{-3.085164217625753: (2.09873575283126e-05, nan),\n",
       "  -2.823164217625753: (1.531057788284329e-05, nan),\n",
       "  -2.561164217625753: (2.9430839171951106e-05, nan),\n",
       "  -2.299164217625753: (3.569530962899137e-05, nan),\n",
       "  -2.037164217625753: (2.4936908639361377e-05, nan),\n",
       "  -1.7751642176257532: (6.327197308308996e-06, nan),\n",
       "  -1.5131642176257531: (2.701809580507586e-05, nan),\n",
       "  -1.2511642176257531: (9.783147872255427e-06, nan),\n",
       "  -0.9891642176257531: (1.247144131433231e-05, nan),\n",
       "  -0.7271642176257531: (2.3862338011326756e-05, nan),\n",
       "  -0.4651642176257531: (2.3752566029600075e-05, nan),\n",
       "  -0.2031642176257531: (1.4255422708941978e-06, nan),\n",
       "  0.058835782374246914: (5.705156077340234e-06, nan),\n",
       "  0.3208357823742469: (0.0, nan),\n",
       "  0.5828357823742469: (1.7458225640254454e-05, nan),\n",
       "  0.844835782374247: (3.0457617913981494e-05, nan),\n",
       "  1.106835782374247: (1.8016793280395405e-05, nan),\n",
       "  1.368835782374247: (2.4720351664342388e-05, nan),\n",
       "  1.630835782374247: (1.791224853242568e-05, nan),\n",
       "  1.892835782374247: (1.7919716013281572e-05, nan),\n",
       "  2.154835782374247: (3.94955110927242e-06, nan),\n",
       "  2.416835782374247: (1.8508153578622455e-05, nan),\n",
       "  2.678835782374247: (2.1214368972621855e-05, nan),\n",
       "  2.940835782374247: (3.117524291162965e-05, nan),\n",
       "  -3.080349524805339: (1.5909469919250796e-05, nan)}]"
      ]
     },
     "execution_count": 129,
     "metadata": {},
     "output_type": "execute_result"
    }
   ],
   "source": [
    "torsion_scans"
   ]
  },
  {
   "cell_type": "code",
   "execution_count": 52,
   "metadata": {},
   "outputs": [],
   "source": [
    "torsion_scans_sorted = []\n",
    "for scan in torsion_scans:\n",
    "    torsion_scans_sorted.append(collections.OrderedDict(sorted(scan.items())))"
   ]
  },
  {
   "cell_type": "code",
   "execution_count": 55,
   "metadata": {},
   "outputs": [
    {
     "data": {
      "image/png": "[encoded data removed]",
      "text/plain": [
       "<Figure size 720x432 with 1 Axes>"
      ]
     },
     "metadata": {
      "needs_background": "light"
     },
     "output_type": "display_data"
    }
   ],
   "source": [
    "labels = ['fully interacting', 'flattened torsions + all exceptions']\n",
    "\n",
    "fig, ax = plt.subplots(figsize=(10, 6))\n",
    "\n",
    "for i in range(len(torsion_scans)):\n",
    "    ax.plot(list(torsion_scans_sorted[i].keys()), [mean for mean, stderr in list(torsion_scans_sorted[i].values())], label=labels[i])\n",
    "\n",
    "ax.set(xlabel='dihedral angle (radians)', ylabel='energy (kcal/mol)')\n",
    "ax.legend(loc='upper right')\n",
    "ax.set_ylim([0, 3])\n",
    "plt.show()"
   ]
  },
  {
   "cell_type": "code",
   "execution_count": null,
   "metadata": {},
   "outputs": [],
   "source": []
  }
 ],
 "metadata": {
  "kernelspec": {
   "display_name": "Python 3",
   "language": "python",
   "name": "python3"
  },
  "language_info": {
   "codemirror_mode": {
    "name": "ipython",
    "version": 3
   },
   "file_extension": ".py",
   "mimetype": "text/x-python",
   "name": "python",
   "nbconvert_exporter": "python",
   "pygments_lexer": "ipython3",
   "version": "3.7.3"
  }
 },
 "nbformat": 4,
 "nbformat_minor": 4
}
