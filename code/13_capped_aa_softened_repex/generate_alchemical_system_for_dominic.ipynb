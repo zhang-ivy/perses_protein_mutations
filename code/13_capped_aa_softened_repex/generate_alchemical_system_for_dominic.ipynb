{
 "cells": [
  {
   "cell_type": "markdown",
   "metadata": {},
   "source": [
    "## Generate vacuum r-htf for THR->ALA (flattened torsions/exceptions) @ lambda = 0 endstate"
   ]
  },
  {
   "cell_type": "code",
   "execution_count": null,
   "metadata": {},
   "outputs": [],
   "source": [
    "from perses.tests.test_topology_proposal import generate_atp, generate_dipeptide_top_pos_sys\n",
    "from openmmtools.alchemy import AbsoluteAlchemicalFactory, AlchemicalRegion, AlchemicalState\n",
    "from openmmtools import states\n",
    "from simtk import openmm, unit\n",
    "from openmmtools.mcmc import LangevinSplittingDynamicsMove, GHMCMove\n",
    "from openmmtools.multistate import ReplicaExchangeSampler, MultiStateReporter\n",
    "from perses.utils.smallmolecules import  render_protein_residue_atom_mapping\n",
    "from simtk.openmm import app\n",
    "from openmmforcefields.generators import SystemGenerator\n",
    "import numpy as np\n",
    "import pickle\n",
    "\n",
    "# Set up logger\n",
    "import logging\n",
    "_logger = logging.getLogger()\n",
    "_logger.setLevel(logging.INFO)"
   ]
  },
  {
   "cell_type": "code",
   "execution_count": null,
   "metadata": {},
   "outputs": [],
   "source": [
    "# Generate htf for capped THR->ALA in vacuum\n",
    "pdb = app.PDBFile(\"../../input/thr_vacuum.pdb\")\n",
    "\n",
    "forcefield_files = ['amber14/protein.ff14SB.xml', 'amber14/tip3p.xml']\n",
    "barostat = None\n",
    "system_generator = SystemGenerator(forcefields=forcefield_files,\n",
    "                               barostat=barostat,\n",
    "                               forcefield_kwargs={'removeCMMotion': False,\n",
    "                                                    'ewaldErrorTolerance': 1e-4,\n",
    "                                                    'constraints' : app.HBonds,\n",
    "                                                    'hydrogenMass' : 4 * unit.amus},\n",
    "                                periodic_forcefield_kwargs=None,\n",
    "                                small_molecule_forcefield='gaff-2.11',\n",
    "                                nonperiodic_forcefield_kwargs={'nonbondedMethod': app.NoCutoff}, \n",
    "                                   molecules=None, \n",
    "                                   cache=None)\n",
    "\n",
    "# Canonicalize the solvated positions: turn tuples into np.array\n",
    "positions = unit.quantity.Quantity(value=np.array([list(atom_pos) for atom_pos in pdb.positions.value_in_unit_system(unit.md_unit_system)]), unit=unit.nanometers)\n",
    "system = system_generator.create_system(pdb.topology)\n",
    "\n",
    "htf = generate_dipeptide_top_pos_sys(pdb.topology, \n",
    "                                         new_res='ALA', \n",
    "                                         system=system, \n",
    "                                         positions=positions,\n",
    "                                         system_generator=system_generator, \n",
    "                                         conduct_htf_prop=True,\n",
    "                                         repartitioned=True,\n",
    "                                         endstate=0,\n",
    "                                         flatten_torsions=True,\n",
    "                                         flatten_exceptions=True,\n",
    "                                         validate_endstate_energy=False)"
   ]
  },
  {
   "cell_type": "code",
   "execution_count": null,
   "metadata": {},
   "outputs": [],
   "source": [
    "import os\n",
    "out_dir = ''\n",
    "pickle.dump(htf, open(os.path.join(out_dir, \".pickle\"), \"wb\" ))\n"
   ]
  },
  {
   "cell_type": "markdown",
   "metadata": {},
   "source": [
    "## Create alchemical system"
   ]
  },
  {
   "cell_type": "code",
   "execution_count": null,
   "metadata": {},
   "outputs": [],
   "source": [
    "from openmmtools.alchemy import AbsoluteAlchemicalFactory, AlchemicalRegion, AlchemicalState\n",
    "from openmmtools import states\n",
    "from simtk import openmm, unit\n",
    "from simtk.openmm import app\n",
    "import numpy as np\n",
    "import pickle\n",
    "import argparse\n",
    "import os\n",
    "\n"
   ]
  },
  {
   "cell_type": "code",
   "execution_count": null,
   "metadata": {},
   "outputs": [],
   "source": [
    "# Read htf\n",
    "out_dir = ''\n",
    "with open(os.path.join(out_dir, f\".pickle\"), \"rb\") as f:\n",
    "    htf = pickle.load(f)\n"
   ]
  },
  {
   "cell_type": "code",
   "execution_count": null,
   "metadata": {},
   "outputs": [],
   "source": [
    "endstate = 0\n",
    "\n",
    "# Alchemify the hybrid system\n",
    "if endstate == 0: # Alchemical region = mutated residue atoms only\n",
    "    atoms_to_alchemify = list(htf._atom_classes['unique_old_atoms']) + [6, 7, 8, 9, 13, 14]\n",
    "elif endstate == 1:\n",
    "    atoms_to_alchemify = list(htf._atom_classes['unique_new_atoms']) + [6, 7, 8, 9, 13, 14]\n",
    "\n",
    "alch_factory = AbsoluteAlchemicalFactory(consistent_exceptions=False)\n",
    "alchemical_region = AlchemicalRegion(alchemical_atoms=list(atoms_to_alchemify), alchemical_torsions=True, annihilate_sterics=True, annihilate_electrostatics=True)\n",
    "alchemical_system = alch_factory.create_alchemical_system(htf.hybrid_system, alchemical_region)\n",
    "\n",
    "# Initialize compound thermodynamic states at different temperatures and alchemical states.\n",
    "protocol = {'temperature': [300]*unit.kelvin*11,\n",
    "            'lambda_electrostatics': [1.0, 0.9, 0.8, 0.7, 0.6, 0.5, 0.4, 0.3, 0.2, 0.1, 0.0],\n",
    "            'lambda_sterics': [1.0, 1.0, 1.0, 1.0, 1.0, 1.0, 1.0, 1.0, 1.0, 1.0, 1.0],\n",
    "           'lambda_torsions': [1.0, 0.9, 0.8, 0.7, 0.6, 0.5, 0.4, 0.3, 0.2, 0.1, 0.0]}\n",
    "\n",
    "alchemical_state = AlchemicalState.from_system(alchemical_system)\n",
    "compound_states = states.create_thermodynamic_state_protocol(alchemical_system, \n",
    "                                                             protocol=protocol, \n",
    "                                                             composable_states=[alchemical_state])"
   ]
  }
 ],
 "metadata": {
  "kernelspec": {
   "display_name": "Python 3",
   "language": "python",
   "name": "python3"
  },
  "language_info": {
   "codemirror_mode": {
    "name": "ipython",
    "version": 3
   },
   "file_extension": ".py",
   "mimetype": "text/x-python",
   "name": "python",
   "nbconvert_exporter": "python",
   "pygments_lexer": "ipython3",
   "version": "3.7.8"
  }
 },
 "nbformat": 4,
 "nbformat_minor": 4
}
