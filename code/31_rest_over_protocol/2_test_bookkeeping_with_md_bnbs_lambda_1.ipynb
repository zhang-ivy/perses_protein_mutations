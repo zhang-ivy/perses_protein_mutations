{
 "cells": [
  {
   "cell_type": "markdown",
   "id": "b4392b56",
   "metadata": {},
   "source": [
    "## Run MD with vanilla/og system and then check that difference in energies between vanilla vs hybrid system are close to 0"
   ]
  },
  {
   "cell_type": "code",
   "execution_count": 2,
   "id": "7119fbbe",
   "metadata": {},
   "outputs": [
    {
     "name": "stderr",
     "output_type": "stream",
     "text": [
      "Warning: importing 'simtk.openmm' is deprecated.  Import 'openmm' instead.\n",
      "INFO:rdkit:Enabling RDKit 2021.03.4 jupyter extensions\n"
     ]
    }
   ],
   "source": [
    "from tqdm import tqdm_notebook\n",
    "import openmmtools\n",
    "import matplotlib.pyplot as plt\n",
    "import pickle\n",
    "\n",
    "from simtk import openmm\n",
    "from simtk.openmm import unit\n",
    "import openmmtools\n",
    "from openmmtools.states import SamplerState, ThermodynamicState, CompoundThermodynamicState\n",
    "from openmmtools import cache\n",
    "from openmmtools.constants import kB\n",
    "\n",
    "from perses.annihilation.lambda_protocol import RESTState, RESTCapableRelativeAlchemicalState, RESTCapableLambdaProtocol\n",
    "from perses.dispersed import feptasks\n",
    "\n",
    "import numpy as np\n",
    "\n",
    "from perses.app.relative_point_mutation_setup import PointMutationExecutor\n"
   ]
  },
  {
   "cell_type": "markdown",
   "id": "2caad53a",
   "metadata": {},
   "source": [
    "## Generate htf"
   ]
  },
  {
   "cell_type": "code",
   "execution_count": null,
   "id": "2728275a",
   "metadata": {
    "scrolled": true
   },
   "outputs": [
    {
     "name": "stderr",
     "output_type": "stream",
     "text": [
      "DEBUG:openmmforcefields.system_generators:Trying GAFFTemplateGenerator to load gaff-2.11\n",
      "INFO:setup:solvating at 0.05 M using tip3p\n",
      "INFO:setup:solvating at 0.05 M using tip3p\n",
      "INFO:proposal_generator:\tConducting polymer point mutation proposal...\n",
      "INFO:proposal_generator:local_atom_map: {669: 669, 670: 670, 671: 671, 672: 672, 673: 673, 674: 676, 675: 677}\n",
      "INFO:proposal_generator:the mapped atom names are: [('N', 'N'), ('CA', 'CA'), ('C', 'C'), ('O', 'O'), ('CB', 'CB'), ('H', 'H'), ('HA', 'HA')]\n",
      "INFO:setup:Changed particle 201's epsilon from 0.0 kJ/mol to 0.0001 kJ/mol\n",
      "INFO:setup:Changed particle 201's sigma from 1.0 nm to 0.1 nm\n",
      "INFO:setup:Changed particle 231's epsilon from 0.0 kJ/mol to 0.0001 kJ/mol\n",
      "INFO:setup:Changed particle 231's sigma from 1.0 nm to 0.1 nm\n",
      "INFO:setup:Changed particle 307's epsilon from 0.0 kJ/mol to 0.0001 kJ/mol\n",
      "INFO:setup:Changed particle 307's sigma from 1.0 nm to 0.1 nm\n",
      "INFO:setup:Changed particle 486's epsilon from 0.0 kJ/mol to 0.0001 kJ/mol\n",
      "INFO:setup:Changed particle 486's sigma from 1.0 nm to 0.1 nm\n",
      "INFO:setup:Changed particle 507's epsilon from 0.0 kJ/mol to 0.0001 kJ/mol\n",
      "INFO:setup:Changed particle 507's sigma from 1.0 nm to 0.1 nm\n",
      "INFO:setup:Changed particle 679's epsilon from 0.0 kJ/mol to 0.0001 kJ/mol\n",
      "INFO:setup:Changed particle 679's sigma from 1.0 nm to 0.1 nm\n",
      "INFO:setup:Changed particle 765's epsilon from 0.0 kJ/mol to 0.0001 kJ/mol\n",
      "INFO:setup:Changed particle 765's sigma from 1.0 nm to 0.1 nm\n",
      "INFO:setup:Changed particle 976's epsilon from 0.0 kJ/mol to 0.0001 kJ/mol\n",
      "INFO:setup:Changed particle 976's sigma from 1.0 nm to 0.1 nm\n",
      "INFO:setup:Changed particle 1045's epsilon from 0.0 kJ/mol to 0.0001 kJ/mol\n",
      "INFO:setup:Changed particle 1045's sigma from 1.0 nm to 0.1 nm\n",
      "INFO:setup:Changed particle 1120's epsilon from 0.0 kJ/mol to 0.0001 kJ/mol\n",
      "INFO:setup:Changed particle 1120's sigma from 1.0 nm to 0.1 nm\n",
      "INFO:setup:Changed particle 1363's epsilon from 0.0 kJ/mol to 0.0001 kJ/mol\n",
      "INFO:setup:Changed particle 1363's sigma from 1.0 nm to 0.1 nm\n",
      "INFO:setup:Changed particle 1434's epsilon from 0.0 kJ/mol to 0.0001 kJ/mol\n",
      "INFO:setup:Changed particle 1434's sigma from 1.0 nm to 0.1 nm\n",
      "INFO:setup:Changed particle 201's epsilon from 0.0 kJ/mol to 0.0001 kJ/mol\n",
      "INFO:setup:Changed particle 201's sigma from 1.0 nm to 0.1 nm\n",
      "INFO:setup:Changed particle 231's epsilon from 0.0 kJ/mol to 0.0001 kJ/mol\n",
      "INFO:setup:Changed particle 231's sigma from 1.0 nm to 0.1 nm\n",
      "INFO:setup:Changed particle 307's epsilon from 0.0 kJ/mol to 0.0001 kJ/mol\n",
      "INFO:setup:Changed particle 307's sigma from 1.0 nm to 0.1 nm\n",
      "INFO:setup:Changed particle 486's epsilon from 0.0 kJ/mol to 0.0001 kJ/mol\n",
      "INFO:setup:Changed particle 486's sigma from 1.0 nm to 0.1 nm\n",
      "INFO:setup:Changed particle 507's epsilon from 0.0 kJ/mol to 0.0001 kJ/mol\n",
      "INFO:setup:Changed particle 507's sigma from 1.0 nm to 0.1 nm\n",
      "INFO:setup:Changed particle 761's epsilon from 0.0 kJ/mol to 0.0001 kJ/mol\n",
      "INFO:setup:Changed particle 761's sigma from 1.0 nm to 0.1 nm\n",
      "INFO:setup:Changed particle 972's epsilon from 0.0 kJ/mol to 0.0001 kJ/mol\n",
      "INFO:setup:Changed particle 972's sigma from 1.0 nm to 0.1 nm\n",
      "INFO:setup:Changed particle 1041's epsilon from 0.0 kJ/mol to 0.0001 kJ/mol\n",
      "INFO:setup:Changed particle 1041's sigma from 1.0 nm to 0.1 nm\n",
      "INFO:setup:Changed particle 1116's epsilon from 0.0 kJ/mol to 0.0001 kJ/mol\n",
      "INFO:setup:Changed particle 1116's sigma from 1.0 nm to 0.1 nm\n",
      "INFO:setup:Changed particle 1359's epsilon from 0.0 kJ/mol to 0.0001 kJ/mol\n",
      "INFO:setup:Changed particle 1359's sigma from 1.0 nm to 0.1 nm\n",
      "INFO:setup:Changed particle 1430's epsilon from 0.0 kJ/mol to 0.0001 kJ/mol\n",
      "INFO:setup:Changed particle 1430's sigma from 1.0 nm to 0.1 nm\n",
      "INFO:geometry:propose: performing forward proposal\n",
      "INFO:geometry:propose: unique new atoms detected; proceeding to _logp_propose...\n",
      "INFO:geometry:Conducting forward proposal...\n",
      "INFO:geometry:Computing proposal order with NetworkX...\n",
      "INFO:geometry:number of atoms to be placed: 3\n",
      "INFO:geometry:Atom index proposal order is [677, 678, 676]\n",
      "INFO:geometry:omitted_bonds: []\n",
      "INFO:geometry:direction of proposal is forward; creating atoms_with_positions and new positions from old system/topology...\n",
      "INFO:geometry:creating growth system...\n",
      "INFO:geometry:\tcreating bond force...\n",
      "INFO:geometry:\tthere are 733 bonds in reference force.\n",
      "INFO:geometry:\tcreating angle force...\n",
      "INFO:geometry:\tthere are 2628 angles in reference force.\n",
      "INFO:geometry:\tcreating torsion force...\n",
      "INFO:geometry:\tcreating extra torsions force...\n",
      "INFO:geometry:\tthere are 4943 torsions in reference force.\n",
      "INFO:geometry:\tcreating nonbonded force...\n",
      "INFO:geometry:\t\tgrabbing reference nonbonded method, cutoff, switching function, switching distance...\n",
      "INFO:geometry:\t\tcreating nonbonded exception force (i.e. custom bond for 1,4s)...\n",
      "INFO:geometry:\t\tlooping through exceptions calculating growth indices, and adding appropriate interactions to custom bond force.\n",
      "INFO:geometry:\t\tthere are 22457 in the reference Nonbonded force\n",
      "INFO:geometry:Neglected angle terms : []\n",
      "INFO:geometry:omitted_growth_terms: {'bonds': [], 'angles': [], 'torsions': [], '1,4s': []}\n",
      "INFO:geometry:extra torsions: {0: (669, 670, 673, 676, [1, Quantity(value=2.105358864604291, unit=radian), Quantity(value=1200.0, unit=kilocalorie/mole), 3]), 1: (669, 670, 673, 677, [1, Quantity(value=-2.0823006129211796, unit=radian), Quantity(value=1200.0, unit=kilocalorie/mole), 1]), 2: (669, 670, 673, 678, [1, Quantity(value=0.018582237407944735, unit=radian), Quantity(value=1200.0, unit=kilocalorie/mole), 2]), 3: (671, 670, 673, 676, [1, Quantity(value=-0.036945135932107576, unit=radian), Quantity(value=1200.0, unit=kilocalorie/mole), 3]), 4: (671, 670, 673, 677, [1, Quantity(value=2.0585806937220097, unit=radian), Quantity(value=1200.0, unit=kilocalorie/mole), 1]), 5: (671, 670, 673, 678, [1, Quantity(value=-2.1237217631284597, unit=radian), Quantity(value=1200.0, unit=kilocalorie/mole), 2]), 6: (675, 670, 673, 676, [1, Quantity(value=-2.119603470065817, unit=radian), Quantity(value=1200.0, unit=kilocalorie/mole), 3]), 7: (675, 670, 673, 677, [1, Quantity(value=-0.024077640411697132, unit=radian), Quantity(value=1200.0, unit=kilocalorie/mole), 1]), 8: (675, 670, 673, 678, [1, Quantity(value=2.0768052099174152, unit=radian), Quantity(value=1200.0, unit=kilocalorie/mole), 2])}\n",
      "INFO:geometry:neglected angle terms include []\n",
      "INFO:geometry:log probability choice of torsions and atom order: -5.0875963352323845\n",
      "INFO:geometry:creating platform, integrators, and contexts; setting growth parameter\n"
     ]
    },
    {
     "name": "stdout",
     "output_type": "stream",
     "text": [
      "conducting subsequent work with the following platform: CUDA\n"
     ]
    },
    {
     "name": "stderr",
     "output_type": "stream",
     "text": [
      "INFO:geometry:setting atoms_with_positions context new positions\n"
     ]
    },
    {
     "name": "stdout",
     "output_type": "stream",
     "text": [
      "conducting subsequent work with the following platform: CUDA\n"
     ]
    },
    {
     "name": "stderr",
     "output_type": "stream",
     "text": [
      "INFO:geometry:There are 3 new atoms\n",
      "INFO:geometry:\treduced angle potential = 0.046165521877793034.\n",
      "INFO:geometry:\treduced angle potential = 0.14667522352959209.\n",
      "INFO:geometry:\treduced angle potential = 2.2811643557986843.\n",
      "INFO:geometry:\tbeginning construction of no_nonbonded final system...\n",
      "INFO:geometry:\tinitial no-nonbonded final system forces ['HarmonicBondForce', 'HarmonicAngleForce', 'PeriodicTorsionForce', 'NonbondedForce', 'MonteCarloBarostat']\n",
      "INFO:geometry:\tfinal no-nonbonded final system forces dict_keys(['HarmonicBondForce', 'HarmonicAngleForce', 'PeriodicTorsionForce', 'NonbondedForce'])\n",
      "INFO:geometry:\tthere are 733 bond forces in the no-nonbonded final system\n",
      "INFO:geometry:\tthere are 2628 angle forces in the no-nonbonded final system\n",
      "INFO:geometry:\tthere are 4943 torsion forces in the no-nonbonded final system\n",
      "INFO:geometry:forward final system defined with 0 neglected angles.\n"
     ]
    },
    {
     "name": "stdout",
     "output_type": "stream",
     "text": [
      "conducting subsequent work with the following platform: CUDA\n",
      "conducting subsequent work with the following platform: CUDA\n"
     ]
    },
    {
     "name": "stderr",
     "output_type": "stream",
     "text": [
      "INFO:geometry:total reduced potential before atom placement: 2667.606655043375\n"
     ]
    },
    {
     "name": "stdout",
     "output_type": "stream",
     "text": [
      "conducting subsequent work with the following platform: CUDA\n",
      "conducting subsequent work with the following platform: CUDA\n",
      "conducting subsequent work with the following platform: CUDA\n",
      "added energy components: [('CustomBondForce', 0.0), ('CustomAngleForce', 3.1856694559433336), ('CustomTorsionForce', 0.029467372393299395), ('CustomBondForce', 8.79561262175644)]\n"
     ]
    },
    {
     "name": "stderr",
     "output_type": "stream",
     "text": [
      "INFO:geometry:total reduced energy added from growth system: 12.010749450093073\n",
      "INFO:geometry:final reduced energy 2679.6174042587327\n",
      "INFO:geometry:sum of energies: 2679.6174044934683\n",
      "INFO:geometry:magnitude of difference in the energies: 2.3473560872844246e-07\n",
      "INFO:geometry:Final logp_proposal: 19.960143630679326\n",
      "INFO:geometry:logp_reverse: performing reverse proposal\n",
      "INFO:geometry:logp_reverse: unique new atoms detected; proceeding to _logp_propose...\n",
      "INFO:geometry:Conducting forward proposal...\n",
      "INFO:geometry:Computing proposal order with NetworkX...\n",
      "INFO:geometry:number of atoms to be placed: 7\n",
      "INFO:geometry:Atom index proposal order is [675, 674, 681, 682, 680, 678, 679]\n",
      "INFO:geometry:omitted_bonds: []\n",
      "INFO:geometry:direction of proposal is reverse; creating atoms_with_positions from old system/topology\n",
      "INFO:geometry:creating growth system...\n",
      "INFO:geometry:\tcreating bond force...\n",
      "INFO:geometry:\tthere are 735 bonds in reference force.\n",
      "INFO:geometry:\tcreating angle force...\n",
      "INFO:geometry:\tthere are 2635 angles in reference force.\n",
      "INFO:geometry:\tcreating torsion force...\n",
      "INFO:geometry:\tcreating extra torsions force...\n",
      "INFO:geometry:\tthere are 4973 torsions in reference force.\n",
      "INFO:geometry:\tcreating nonbonded force...\n",
      "INFO:geometry:\t\tgrabbing reference nonbonded method, cutoff, switching function, switching distance...\n",
      "INFO:geometry:\t\tcreating nonbonded exception force (i.e. custom bond for 1,4s)...\n",
      "INFO:geometry:\t\tlooping through exceptions calculating growth indices, and adding appropriate interactions to custom bond force.\n",
      "INFO:geometry:\t\tthere are 22480 in the reference Nonbonded force\n",
      "INFO:geometry:Neglected angle terms : []\n",
      "INFO:geometry:omitted_growth_terms: {'bonds': [], 'angles': [], 'torsions': [], '1,4s': []}\n",
      "INFO:geometry:extra torsions: {0: (679, 674, 673, 670, [1, Quantity(value=-0.07858019216845058, unit=radian), Quantity(value=1200.0, unit=kilocalorie/mole), 7]), 1: (679, 674, 673, 675, [1, Quantity(value=2.118586571250296, unit=radian), Quantity(value=1200.0, unit=kilocalorie/mole), 7]), 2: (679, 674, 673, 678, [1, Quantity(value=-2.149781203448759, unit=radian), Quantity(value=1200.0, unit=kilocalorie/mole), 7]), 3: (670, 673, 675, 682, [1, Quantity(value=-2.1249532223845904, unit=radian), Quantity(value=1200.0, unit=kilocalorie/mole), 4]), 4: (670, 673, 675, 681, [1, Quantity(value=2.0543043017157916, unit=radian), Quantity(value=1200.0, unit=kilocalorie/mole), 3]), 5: (670, 673, 675, 680, [1, Quantity(value=-0.02223392579985184, unit=radian), Quantity(value=1200.0, unit=kilocalorie/mole), 5]), 6: (674, 673, 675, 682, [1, Quantity(value=2.0255587336734213, unit=radian), Quantity(value=1200.0, unit=kilocalorie/mole), 4]), 7: (674, 673, 675, 681, [1, Quantity(value=-0.07836904940578293, unit=radian), Quantity(value=1200.0, unit=kilocalorie/mole), 3]), 8: (674, 673, 675, 680, [1, Quantity(value=-2.154907276921426, unit=radian), Quantity(value=1200.0, unit=kilocalorie/mole), 5]), 9: (678, 673, 675, 682, [1, Quantity(value=0.007583009583349565, unit=radian), Quantity(value=1200.0, unit=kilocalorie/mole), 6]), 10: (678, 673, 675, 681, [1, Quantity(value=-2.096344773495849, unit=radian), Quantity(value=1200.0, unit=kilocalorie/mole), 6]), 11: (678, 673, 675, 680, [1, Quantity(value=2.1103023061680943, unit=radian), Quantity(value=1200.0, unit=kilocalorie/mole), 6]), 12: (675, 673, 670, 674, [1, Quantity(value=1.0655064807976995, unit=radian), Quantity(value=1200.0, unit=kilocalorie/mole), 2])}\n",
      "INFO:geometry:neglected angle terms include []\n",
      "INFO:geometry:log probability choice of torsions and atom order: -12.966130531372746\n",
      "INFO:geometry:creating platform, integrators, and contexts; setting growth parameter\n"
     ]
    },
    {
     "name": "stdout",
     "output_type": "stream",
     "text": [
      "conducting subsequent work with the following platform: CUDA\n"
     ]
    },
    {
     "name": "stderr",
     "output_type": "stream",
     "text": [
      "INFO:geometry:setting atoms_with_positions context old positions\n"
     ]
    },
    {
     "name": "stdout",
     "output_type": "stream",
     "text": [
      "conducting subsequent work with the following platform: CUDA\n"
     ]
    },
    {
     "name": "stderr",
     "output_type": "stream",
     "text": [
      "INFO:geometry:There are 7 new atoms\n",
      "INFO:geometry:\treduced angle potential = 0.15088552138282585.\n",
      "INFO:geometry:\treduced angle potential = 1.1717867235443227.\n",
      "INFO:geometry:\treduced angle potential = 2.0226598106735676e-06.\n",
      "INFO:geometry:\treduced angle potential = 8.429836390053187e-06.\n",
      "INFO:geometry:\treduced angle potential = 6.103681872621702e-06.\n",
      "INFO:geometry:\treduced angle potential = 0.0014485627329499679.\n",
      "INFO:geometry:\treduced angle potential = 0.0037318575268475676.\n",
      "INFO:geometry:\tbeginning construction of no_nonbonded final system...\n",
      "INFO:geometry:\tinitial no-nonbonded final system forces ['HarmonicBondForce', 'HarmonicAngleForce', 'PeriodicTorsionForce', 'NonbondedForce', 'MonteCarloBarostat']\n",
      "INFO:geometry:\tfinal no-nonbonded final system forces dict_keys(['HarmonicBondForce', 'HarmonicAngleForce', 'PeriodicTorsionForce', 'NonbondedForce'])\n",
      "INFO:geometry:\tthere are 735 bond forces in the no-nonbonded final system\n",
      "INFO:geometry:\tthere are 2635 angle forces in the no-nonbonded final system\n",
      "INFO:geometry:\tthere are 4973 torsion forces in the no-nonbonded final system\n",
      "INFO:geometry:reverse final system defined with 0 neglected angles.\n"
     ]
    },
    {
     "name": "stdout",
     "output_type": "stream",
     "text": [
      "conducting subsequent work with the following platform: CUDA\n",
      "conducting subsequent work with the following platform: CUDA\n"
     ]
    },
    {
     "name": "stderr",
     "output_type": "stream",
     "text": [
      "INFO:geometry:total reduced potential before atom placement: 2667.6066550433757\n"
     ]
    },
    {
     "name": "stdout",
     "output_type": "stream",
     "text": [
      "conducting subsequent work with the following platform: CUDA\n",
      "conducting subsequent work with the following platform: CUDA\n",
      "conducting subsequent work with the following platform: CUDA\n",
      "added energy components: [('CustomBondForce', 0.33407521838716286), ('CustomAngleForce', 1.7019045529067363), ('CustomTorsionForce', 10.252126980649416), ('CustomBondForce', -73.24630632041867)]\n"
     ]
    },
    {
     "name": "stderr",
     "output_type": "stream",
     "text": [
      "INFO:geometry:total reduced energy added from growth system: -60.958199568475365\n",
      "INFO:geometry:final reduced energy 2606.648455666519\n",
      "INFO:geometry:sum of energies: 2606.6484554749004\n",
      "INFO:geometry:magnitude of difference in the energies: 1.9161880970841594e-07\n",
      "INFO:geometry:Final logp_proposal: -7252.10338555722\n",
      "INFO:setup:charge diff: 0\n",
      "INFO:relative:*** Generating RESTCapableHybridTopologyFactory ***\n",
      "INFO:relative:Old system forces: dict_keys(['HarmonicBondForce', 'HarmonicAngleForce', 'PeriodicTorsionForce', 'NonbondedForce', 'MonteCarloBarostat'])\n",
      "INFO:relative:New system forces: dict_keys(['HarmonicBondForce', 'HarmonicAngleForce', 'PeriodicTorsionForce', 'NonbondedForce', 'MonteCarloBarostat'])\n",
      "INFO:relative:No unknown forces.\n",
      "INFO:relative:r_cutoff is 1.0 nm\n",
      "INFO:relative:alpha_ewald is 2.7569734238004693\n",
      "INFO:relative:w_scale is 0.1\n",
      "INFO:relative:Creating hybrid system\n",
      "INFO:relative:Adding and mapping old atoms to hybrid system...\n",
      "INFO:relative:Adding and mapping new atoms to hybrid system...\n",
      "INFO:relative:Added MonteCarloBarostat.\n",
      "INFO:relative:getDefaultPeriodicBoxVectors added to hybrid: [Quantity(value=Vec3(x=5.564, y=0.0, z=0.0), unit=nanometer), Quantity(value=Vec3(x=0.0, y=5.564, z=0.0), unit=nanometer), Quantity(value=Vec3(x=0.0, y=0.0, z=5.564), unit=nanometer)]\n",
      "INFO:relative:Determined atom classes.\n",
      "INFO:relative:Computed hybrid positions\n",
      "INFO:relative:Created hybrid topology\n",
      "INFO:relative:Generating rest_region with query indices: [669, 670, 671, 672, 673, 674, 675, 676, 677, 678, 679, 680, 681, 682, 16044, 16045, 16046]\n",
      "INFO:relative:Rest radius: 0.2 nm\n",
      "INFO:relative:Rest region: [607, 652, 669, 670, 671, 672, 673, 674, 675, 676, 677, 678, 679, 680, 681, 682, 16044, 16045, 16046, 683]\n",
      "INFO:relative:Prepped look up dict for determining if atom is solvent\n",
      "INFO:relative:Generating old system exceptions dict...\n"
     ]
    }
   ],
   "source": [
    "solvent_delivery = PointMutationExecutor(\"../../input/1brs_barstar_renumbered.pdb\",\n",
    "                        '1',\n",
    "                        '42',\n",
    "                        'ALA',\n",
    "                        ligand_input=\"../../input/1brs_barnase_renumbered.pdb\",\n",
    "                        forcefield_files=['amber14/protein.ff14SB.xml', 'amber14/tip3p.xml'],\n",
    "                        ionic_strength=0.05*unit.molar,\n",
    "                        rest_radius=0.2,\n",
    "                        generate_unmodified_hybrid_topology_factory=False,\n",
    "                        generate_rest_capable_hybrid_topology_factory=True,\n",
    "                        conduct_endstate_validation=False,\n",
    "                       )"
   ]
  },
  {
   "cell_type": "code",
   "execution_count": null,
   "id": "a3e6abbc",
   "metadata": {},
   "outputs": [],
   "source": [
    "pickle.dump(solvent_delivery.get_complex_htf(), open(\"bnbs_complex.pickle\", \"wb\" ))\n",
    "pickle.dump(solvent_delivery.get_apo_htf(), open(\"bnbs_apo.pickle\", \"wb\" ))\n"
   ]
  },
  {
   "cell_type": "markdown",
   "id": "ce398083",
   "metadata": {},
   "source": [
    "## Test at lambda = 1"
   ]
  },
  {
   "cell_type": "code",
   "execution_count": 3,
   "id": "00639c98",
   "metadata": {},
   "outputs": [],
   "source": [
    "# htf = solvent_delivery.get_apo_htf()\n",
    "with open(\"bnbs_apo.pickle\", \"rb\") as f:\n",
    "    htf = pickle.load(f)\n",
    "hybrid_system = htf.hybrid_system\n",
    "hybrid_positions = htf.hybrid_positions\n",
    "box_vectors = hybrid_system.getDefaultPeriodicBoxVectors()\n"
   ]
  },
  {
   "cell_type": "code",
   "execution_count": 4,
   "id": "127711a8",
   "metadata": {},
   "outputs": [
    {
     "data": {
      "text/plain": [
       "16047"
      ]
     },
     "execution_count": 4,
     "metadata": {},
     "output_type": "execute_result"
    }
   ],
   "source": [
    "htf.hybrid_topology.n_atoms"
   ]
  },
  {
   "cell_type": "code",
   "execution_count": 3,
   "id": "f2f9b5b6",
   "metadata": {},
   "outputs": [
    {
     "data": {
      "text/plain": [
       "[<openmm.openmm.MonteCarloBarostat; proxy of <Swig Object of type 'OpenMM::MonteCarloBarostat *' at 0x2b7373e77a80> >,\n",
       " <openmm.openmm.CustomBondForce; proxy of <Swig Object of type 'OpenMM::CustomBondForce *' at 0x2b7373e77d50> >,\n",
       " <openmm.openmm.CustomAngleForce; proxy of <Swig Object of type 'OpenMM::CustomAngleForce *' at 0x2b7373e77d80> >,\n",
       " <openmm.openmm.CustomTorsionForce; proxy of <Swig Object of type 'OpenMM::CustomTorsionForce *' at 0x2b7373e77630> >,\n",
       " <openmm.openmm.CustomNonbondedForce; proxy of <Swig Object of type 'OpenMM::CustomNonbondedForce *' at 0x2b7373e77e10> >,\n",
       " <openmm.openmm.CustomNonbondedForce; proxy of <Swig Object of type 'OpenMM::CustomNonbondedForce *' at 0x2b73fabb30f0> >,\n",
       " <openmm.openmm.CustomBondForce; proxy of <Swig Object of type 'OpenMM::CustomBondForce *' at 0x2b73fabb3180> >,\n",
       " <openmm.openmm.NonbondedForce; proxy of <Swig Object of type 'OpenMM::NonbondedForce *' at 0x2b73fabb3210> >]"
      ]
     },
     "execution_count": 3,
     "metadata": {},
     "output_type": "execute_result"
    }
   ],
   "source": [
    "htf.hybrid_system.getForces()"
   ]
  },
  {
   "cell_type": "code",
   "execution_count": 4,
   "id": "783ea5cb",
   "metadata": {},
   "outputs": [
    {
     "name": "stdout",
     "output_type": "stream",
     "text": [
      "1.0\n",
      "0.0\n",
      "1.0\n"
     ]
    }
   ],
   "source": [
    "T_min = 300 * unit.kelvin\n",
    "T_max = 600 * unit.kelvin\n",
    "\n",
    "# Create thermodynamic state\n",
    "lambda_protocol = RESTCapableLambdaProtocol()\n",
    "lambda_zero_alchemical_state = RESTCapableRelativeAlchemicalState.from_system(hybrid_system)\n",
    "thermostate = ThermodynamicState(hybrid_system, temperature=T_min)\n",
    "compound_thermodynamic_state = CompoundThermodynamicState(thermostate,\n",
    "                                                          composable_states=[lambda_zero_alchemical_state])\n",
    "\n",
    "# Set alchemical parameters\n",
    "beta_0 = 1 / (kB * T_min)\n",
    "beta_m = 1 / (kB * T_max)\n",
    "global_lambda = 1\n",
    "compound_thermodynamic_state.set_alchemical_parameters(global_lambda, beta_0, beta_m, lambda_protocol=lambda_protocol)\n",
    "\n",
    "print(compound_thermodynamic_state.lambda_rest_bonds)\n",
    "print(compound_thermodynamic_state.lambda_alchemical_bonds_old)\n",
    "print(compound_thermodynamic_state.lambda_alchemical_bonds_new)\n"
   ]
  },
  {
   "cell_type": "code",
   "execution_count": 5,
   "id": "a141c0ba",
   "metadata": {},
   "outputs": [],
   "source": [
    "integrator = openmmtools.integrators.LangevinIntegrator(temperature=300 * unit.kelvin, \n",
    "                                    collision_rate=1 / unit.picoseconds, \n",
    "                                    timestep=4 * unit.femtoseconds)\n",
    "context = compound_thermodynamic_state.create_context(integrator)\n",
    "context.setPositions(hybrid_positions)\n",
    "context.setPeriodicBoxVectors(*box_vectors)\n",
    "context.setVelocitiesToTemperature(300 * unit.kelvin)\n"
   ]
  },
  {
   "cell_type": "code",
   "execution_count": 6,
   "id": "779b99b2",
   "metadata": {},
   "outputs": [
    {
     "name": "stdout",
     "output_type": "stream",
     "text": [
      "MonteCarloPressure 1.01325\n",
      "MonteCarloTemperature 300.0\n",
      "lambda_alchemical_angles_new 1.0\n",
      "lambda_alchemical_angles_old 0.0\n",
      "lambda_alchemical_bonds_new 1.0\n",
      "lambda_alchemical_bonds_old 0.0\n",
      "lambda_alchemical_electrostatics_exceptions_new 1.0\n",
      "lambda_alchemical_electrostatics_exceptions_old 0.0\n",
      "lambda_alchemical_electrostatics_new 1.0\n",
      "lambda_alchemical_electrostatics_old 0.0\n",
      "lambda_alchemical_electrostatics_reciprocal 1.0\n",
      "lambda_alchemical_sterics_exceptions_new 1.0\n",
      "lambda_alchemical_sterics_exceptions_old 0.0\n",
      "lambda_alchemical_sterics_new 1.0\n",
      "lambda_alchemical_sterics_old 0.0\n",
      "lambda_alchemical_torsions_new 1.0\n",
      "lambda_alchemical_torsions_old 0.0\n",
      "lambda_rest_angles 1.0\n",
      "lambda_rest_bonds 1.0\n",
      "lambda_rest_electrostatics 1.0\n",
      "lambda_rest_electrostatics_exceptions 1.0\n",
      "lambda_rest_sterics 1.0\n",
      "lambda_rest_sterics_exceptions 1.0\n",
      "lambda_rest_torsions 1.0\n"
     ]
    }
   ],
   "source": [
    "for k, v in context.getParameters().items():\n",
    "    print(k, v)"
   ]
  },
  {
   "cell_type": "code",
   "execution_count": 7,
   "id": "3d2f3b21",
   "metadata": {},
   "outputs": [],
   "source": [
    "# Minimize\n",
    "openmm.LocalEnergyMinimizer.minimize(context)\n"
   ]
  },
  {
   "cell_type": "code",
   "execution_count": 8,
   "id": "642a6166",
   "metadata": {},
   "outputs": [
    {
     "name": "stderr",
     "output_type": "stream",
     "text": [
      "/scratch/lsftmp/4137575.tmpdir/ipykernel_46084/1273711913.py:4: TqdmDeprecationWarning: This function will be removed in tqdm==5.0.0\n",
      "Please use `tqdm.notebook.tqdm` instead of `tqdm.tqdm_notebook`\n",
      "  for _ in tqdm_notebook(range(int(125000/250))):\n"
     ]
    },
    {
     "data": {
      "application/vnd.jupyter.widget-view+json": {
       "model_id": "e922322c1f0a4f869aedcbbe38c3d6c0",
       "version_major": 2,
       "version_minor": 0
      },
      "text/plain": [
       "  0%|          | 0/500 [00:00<?, ?it/s]"
      ]
     },
     "metadata": {},
     "output_type": "display_data"
    }
   ],
   "source": [
    "# Run MD\n",
    "# hybrid = list()\n",
    "hybrid_states = list()\n",
    "for _ in tqdm_notebook(range(int(125000/250))):\n",
    "    integrator.step(250)\n",
    "    state = context.getState(getPositions=True, enforcePeriodicBox=False)\n",
    "    hybrid_states.append(state)\n",
    "#     pos = context.getState(getPositions=True, enforcePeriodicBox=False).getPositions(asNumpy=True)\n",
    "#     hybrid.append(pos)\n"
   ]
  },
  {
   "cell_type": "code",
   "execution_count": 9,
   "id": "189f2a91",
   "metadata": {},
   "outputs": [],
   "source": [
    "# with open(\"hybrid_positions_bnbs_lambda_1.pickle\", \"wb\") as f:\n",
    "#     pickle.dump(hybrid, f)\n",
    "with open(\"hybrid_states_bnbs_lambda_1.pickle\", \"wb\") as f:\n",
    "    pickle.dump(hybrid_states, f)"
   ]
  },
  {
   "cell_type": "code",
   "execution_count": 4,
   "id": "33044ba2",
   "metadata": {},
   "outputs": [],
   "source": [
    "# with open(\"hybrid_positions_bnbs_lambda_1.pickle\", \"rb\") as f:\n",
    "#     hybrid = pickle.load(f)\n",
    "with open(\"hybrid_states_bnbs_lambda_1.pickle\", \"rb\") as f:\n",
    "    hybrid_states = pickle.load(f)"
   ]
  },
  {
   "cell_type": "code",
   "execution_count": 10,
   "id": "7935c4b7",
   "metadata": {
    "scrolled": true
   },
   "outputs": [
    {
     "name": "stderr",
     "output_type": "stream",
     "text": [
      "/scratch/lsftmp/4137575.tmpdir/ipykernel_46084/3461162691.py:64: TqdmDeprecationWarning: This function will be removed in tqdm==5.0.0\n",
      "Please use `tqdm.notebook.tqdm` instead of `tqdm.tqdm_notebook`\n",
      "  for state in tqdm_notebook(hybrid_states):\n"
     ]
    },
    {
     "data": {
      "application/vnd.jupyter.widget-view+json": {
       "model_id": "faf9b80ba6994225bdddc002f9db791f",
       "version_major": 2,
       "version_minor": 0
      },
      "text/plain": [
       "  0%|          | 0/500 [00:00<?, ?it/s]"
      ]
     },
     "metadata": {},
     "output_type": "display_data"
    },
    {
     "name": "stdout",
     "output_type": "stream",
     "text": [
      "-224938.45227975724 kJ/mol -224938.42524001232 kJ/mol\n",
      "-218236.08209100063 kJ/mol -218236.18004590063 kJ/mol\n",
      "-214149.51836229628 kJ/mol -214149.49130955344 kJ/mol\n",
      "-212272.22960428614 kJ/mol -212272.2494243529 kJ/mol\n",
      "-211368.2032584718 kJ/mol -211368.23869695552 kJ/mol\n",
      "-210278.7032584718 kJ/mol -210278.70744695552 kJ/mol\n",
      "-210689.15698370012 kJ/mol -210689.16117129373 kJ/mol\n",
      "-210829.9716872275 kJ/mol -210830.00712407497 kJ/mol\n",
      "-210291.58122557355 kJ/mol -210291.61666179332 kJ/mol\n",
      "-210322.5406776932 kJ/mol -210322.51361401362 kJ/mol\n",
      "-210491.66747146333 kJ/mol -210491.67165654132 kJ/mol\n",
      "-210833.72997146333 kJ/mol -210833.73415654132 kJ/mol\n",
      "-210364.47997146333 kJ/mol -210364.45290654132 kJ/mol\n",
      "-210418.79247146333 kJ/mol -210418.79665654132 kJ/mol\n",
      "-210416.43153614528 kJ/mol -210416.45134574792 kJ/mol\n",
      "-210384.74403614528 kJ/mol -210384.70134574792 kJ/mol\n",
      "-211237.4852703549 kJ/mol -211237.53632645696 kJ/mol\n",
      "-211119.69025790272 kJ/mol -211119.7100646869 kJ/mol\n",
      "-210902.62775790272 kJ/mol -210902.6944396869 kJ/mol\n",
      "-210946.51445306535 kJ/mol -210946.51863481675 kJ/mol\n",
      "-210191.45195306535 kJ/mol -210191.44050981675 kJ/mol\n",
      "-210278.3830096107 kJ/mol -210278.38719302055 kJ/mol\n",
      "-210525.31542767794 kJ/mol -210525.35086172473 kJ/mol\n",
      "-211007.69042767794 kJ/mol -211007.72586172473 kJ/mol\n",
      "-210994.72408362012 kJ/mol -210994.79076687957 kJ/mol\n",
      "-211537.53658362012 kJ/mol -211537.54076687957 kJ/mol\n",
      "-211593.83082498983 kJ/mol -211593.86625671206 kJ/mol\n",
      "-210897.20582498983 kJ/mol -210897.27250671206 kJ/mol\n",
      "-211126.6255847162 kJ/mol -211126.6297657565 kJ/mol\n",
      "-211067.16416052566 kJ/mol -211067.2308435355 kJ/mol\n",
      "-211407.12925385986 kJ/mol -211407.1646881269 kJ/mol\n",
      "-211449.46760027483 kJ/mol -211449.47178232286 kJ/mol\n",
      "-211112.65510027483 kJ/mol -211112.65928232286 kJ/mol\n",
      "-210857.65681720013 kJ/mol -210857.66099985453 kJ/mol\n",
      "-211448.09431720013 kJ/mol -211448.16099985453 kJ/mol\n",
      "-211822.21931720013 kJ/mol -211822.23912485453 kJ/mol\n",
      "-211184.78692005994 kJ/mol -211184.7911025466 kJ/mol\n",
      "-210883.22442005994 kJ/mol -210883.2442275466 kJ/mol\n",
      "-210621.59942005994 kJ/mol -210621.5879775466 kJ/mol\n",
      "-211226.11964682397 kJ/mol -211226.15507996388 kJ/mol\n",
      "-210235.86964682397 kJ/mol -210235.90507996388 kJ/mol\n",
      "-211269.16485204617 kJ/mol -211269.2159108284 kJ/mol\n",
      "-211365.28985204617 kJ/mol -211365.3252858284 kJ/mol\n",
      "-211149.82607006142 kJ/mol -211149.86150421403 kJ/mol\n",
      "-211781.86637254036 kJ/mol -211781.808054026 kJ/mol\n",
      "-211207.9776521176 kJ/mol -211208.01308247802 kJ/mol\n",
      "-211270.54776762426 kJ/mol -211270.5206979813 kJ/mol\n",
      "-210664.17936411104 kJ/mol -210664.230421728 kJ/mol\n",
      "-210907.707456931 kJ/mol -210907.71163859736 kJ/mol\n",
      "-211214.19641080708 kJ/mol -211214.2630927543 kJ/mol\n",
      "-212126.44638855872 kJ/mol -212126.52869583695 kJ/mol\n",
      "-211265.12856031745 kJ/mol -211265.13274251518 kJ/mol\n",
      "-211676.52439695084 kJ/mol -211676.55982952568 kJ/mol\n",
      "-212206.50549118407 kJ/mol -212206.50967219454 kJ/mol\n",
      "-211851.44778794283 kJ/mol -211851.45196842685 kJ/mol\n",
      "-210644.92148377374 kJ/mol -210644.92566382783 kJ/mol\n",
      "-211637.72696337104 kJ/mol -211637.7623932627 kJ/mol\n",
      "-211346.74586444045 kJ/mol -211346.8125454551 kJ/mol\n",
      "-211091.27546076593 kJ/mol -211091.295266133 kJ/mol\n",
      "-210944.15046076593 kJ/mol -210944.201516133 kJ/mol\n",
      "-211530.21996078803 kJ/mol -211530.23976772468 kJ/mol\n",
      "-211249.81581078493 kJ/mol -211249.85124212748 kJ/mol\n",
      "-210906.7033274842 kJ/mol -210906.75438404188 kJ/mol\n",
      "-210991.53482604516 kJ/mol -210991.5702577877 kJ/mol\n",
      "-211194.7086402506 kJ/mol -211194.7128226889 kJ/mol\n",
      "-211521.2086402506 kJ/mol -211521.2284476889 kJ/mol\n",
      "-211201.149502869 kJ/mol -211201.106810637 kJ/mol\n",
      "-211150.149502869 kJ/mol -211150.184935637 kJ/mol\n",
      "-210539.1981768713 kJ/mol -210539.24923359684 kJ/mol\n",
      "-210513.08355192235 kJ/mol -210513.11898505062 kJ/mol\n",
      "-211393.8222214505 kJ/mol -211393.85765403183 kJ/mol\n",
      "-211662.7817006379 kJ/mol -211662.832757023 kJ/mol\n",
      "-211616.68271676963 kJ/mol -211616.71814883305 kJ/mol\n",
      "-210985.80771676963 kJ/mol -210985.79627383305 kJ/mol\n",
      "-211128.73276860523 kJ/mol -211128.76819907376 kJ/mol\n",
      "-211560.26208186406 kJ/mol -211560.26626278882 kJ/mol\n",
      "-211300.13708186406 kJ/mol -211300.20376278882 kJ/mol\n",
      "-210911.03636619612 kJ/mol -210911.07179799318 kJ/mol\n",
      "-211854.7750546662 kJ/mol -211854.8417379582 kJ/mol\n",
      "-211264.43594339513 kJ/mol -211264.4713758711 kJ/mol\n",
      "-210858.9848727479 kJ/mol -210858.9890536019 kJ/mol\n",
      "-211787.97295297962 kJ/mol -211787.9927579283 kJ/mol\n",
      "-210968.09021063498 kJ/mol -210968.12564061471 kJ/mol\n",
      "-211109.59104345785 kJ/mol -211109.62647630693 kJ/mol\n",
      "-211017.65354345785 kJ/mol -211017.72022630693 kJ/mol\n",
      "-211271.59104345785 kJ/mol -211271.56397630693 kJ/mol\n",
      "-211327.07726887846 kJ/mol -211327.05020143 kJ/mol\n",
      "-210595.459257256 kJ/mol -210595.4790647494 kJ/mol\n",
      "-211229.709257256 kJ/mol -211229.7915647494 kJ/mol\n",
      "-210383.17139905877 kJ/mol -210383.2068309066 kJ/mol\n",
      "-210489.4043430509 kJ/mol -210489.40852523723 kJ/mol\n",
      "-210928.6185053296 kJ/mol -210928.62268736638 kJ/mol\n",
      "-211276.86930243578 kJ/mol -211276.87348463776 kJ/mol\n",
      "-211046.61700811656 kJ/mol -211046.68368905023 kJ/mol\n",
      "-210848.6317679223 kJ/mol -210848.63594851835 kJ/mol\n",
      "-210768.70780099765 kJ/mol -210768.72760771896 kJ/mol\n",
      "-211721.51821459667 kJ/mol -211721.55364750538 kJ/mol\n",
      "-211510.60377109097 kJ/mol -211510.60795280294 kJ/mol\n",
      "-210996.8330716258 kJ/mol -210996.85288019569 kJ/mol\n",
      "-211482.35806709202 kJ/mol -211482.3622492713 kJ/mol\n",
      "-211491.65307874652 kJ/mol -211491.65726314095 kJ/mol\n",
      "-211446.3908256006 kJ/mol -211446.3950093383 kJ/mol\n",
      "-211722.8908256006 kJ/mol -211722.9262593383 kJ/mol\n",
      "-211304.67202980747 kJ/mol -211304.66058455792 kJ/mol\n",
      "-211539.52841450227 kJ/mol -211539.54821920578 kJ/mol\n",
      "-212060.19143503206 kJ/mol -212060.2581146083 kJ/mol\n",
      "-211109.16867643828 kJ/mol -211109.18848268015 kJ/mol\n",
      "-211526.80263465573 kJ/mol -211526.83806512118 kJ/mol\n",
      "-211566.30263465573 kJ/mol -211566.36931512118 kJ/mol\n",
      "-210972.53832077654 kJ/mol -210972.589375724 kJ/mol\n",
      "-212053.85082077654 kJ/mol -212053.933125724 kJ/mol\n",
      "-211354.1964041721 kJ/mol -211354.231833691 kJ/mol\n",
      "-211311.68701401143 kJ/mol -211311.62869353456 kJ/mol\n",
      "-210657.28574044304 kJ/mol -210657.2742941498 kJ/mol\n",
      "-210900.35991406417 kJ/mol -210900.3797178486 kJ/mol\n",
      "-211389.35991406417 kJ/mol -211389.3953428486 kJ/mol\n",
      "-211253.74282056605 kJ/mol -211253.77824970585 kJ/mol\n",
      "-212505.96694927546 kJ/mol -212505.9398802754 kJ/mol\n",
      "-211358.62384207058 kJ/mol -211358.5967725598 kJ/mol\n",
      "-211046.56182720745 kJ/mol -211046.59725816542 kJ/mol\n",
      "-211443.3241340234 kJ/mol -211443.29706403776 kJ/mol\n",
      "-212169.63855725876 kJ/mol -212169.6896100925 kJ/mol\n",
      "-212649.2633361509 kJ/mol -212649.26751486765 kJ/mol\n",
      "-212348.0133361509 kJ/mol -212348.04876486765 kJ/mol\n",
      "-211988.01843136223 kJ/mol -211988.02261079414 kJ/mol\n",
      "-211872.74468613183 kJ/mol -211872.73324018798 kJ/mol\n",
      "-211514.6731941332 kJ/mol -211514.64612255868 kJ/mol\n",
      "-211785.06551116146 kJ/mol -211785.10093919304 kJ/mol\n",
      "-211625.24903309532 kJ/mol -211625.28446027328 kJ/mol\n",
      "-211752.52467804635 kJ/mol -211752.5601038332 kJ/mol\n",
      "-211656.70600296464 kJ/mol -211656.6789285611 kJ/mol\n",
      "-211613.2710813398 kJ/mol -211613.25963256965 kJ/mol\n",
      "-211746.01084627537 kJ/mol -211746.01502510352 kJ/mol\n",
      "-211559.5843195396 kJ/mol -211559.5572483906 kJ/mol\n",
      "-211389.8968195396 kJ/mol -211389.9009983906 kJ/mol\n",
      "-211446.75217460888 kJ/mol -211446.78760305457 kJ/mol\n",
      "-211414.07921969658 kJ/mol -211414.0990226393 kJ/mol\n",
      "-211535.30925296224 kJ/mol -211535.34468041704 kJ/mol\n",
      "-212133.89855539706 kJ/mol -212133.96523267435 kJ/mol\n",
      "-212118.5366446802 kJ/mol -212118.55644686904 kJ/mol\n",
      "-212392.86919044494 kJ/mol -212392.88899367338 kJ/mol\n",
      "-211466.89246958005 kJ/mol -211466.92789818448 kJ/mol\n",
      "-211307.43953137123 kJ/mol -211307.45933641747 kJ/mol\n",
      "-210447.45708382828 kJ/mol -210447.47689413695 kJ/mol\n",
      "-211067.12775972462 kJ/mol -211067.13194324722 kJ/mol\n",
      "-211337.12775972462 kJ/mol -211337.13194324722 kJ/mol\n",
      "-210601.2801090395 kJ/mol -210601.2999162255 kJ/mol\n",
      "-210728.6551090395 kJ/mol -210728.6905412255 kJ/mol\n",
      "-211306.12661790824 kJ/mol -211306.11517474827 kJ/mol\n",
      "-211431.71161830076 kJ/mol -211431.71580084824 kJ/mol\n",
      "-211467.12819145364 kJ/mol -211467.14799931375 kJ/mol\n",
      "-211358.16690745205 kJ/mol -211358.23358985357 kJ/mol\n",
      "-210837.8465005397 kJ/mol -210837.85068258605 kJ/mol\n",
      "-210586.78524110187 kJ/mol -210586.88317025048 kJ/mol\n"
     ]
    },
    {
     "name": "stdout",
     "output_type": "stream",
     "text": [
      "-210653.74611177528 kJ/mol -210653.78154251384 kJ/mol\n",
      "-211142.28473102348 kJ/mol -211142.32016213145 kJ/mol\n",
      "-211128.71825159085 kJ/mol -211128.81617972045 kJ/mol\n",
      "-211068.69245723705 kJ/mol -211068.64976043318 kJ/mol\n",
      "-211898.43235862418 kJ/mol -211898.4834117697 kJ/mol\n",
      "-210574.45624448964 kJ/mol -210574.4604245285 kJ/mol\n",
      "-210867.21290185326 kJ/mol -210867.2795831309 kJ/mol\n",
      "-210940.27224017167 kJ/mol -210940.27642194732 kJ/mol\n",
      "-211003.08474017167 kJ/mol -211003.08892194732 kJ/mol\n",
      "-211223.6380211187 kJ/mol -211223.65782798125 kJ/mol\n",
      "-211365.6201280253 kJ/mol -211365.63993348845 kJ/mol\n",
      "-210841.5116837211 kJ/mol -210841.53148881817 kJ/mol\n",
      "-211319.66860741167 kJ/mol -211319.73528826743 kJ/mol\n",
      "-211155.0610421726 kJ/mol -211155.15897489683 kJ/mol\n",
      "-210557.4360421726 kJ/mol -210557.48709989683 kJ/mol\n",
      "-210821.0610421726 kJ/mol -210821.11209989683 kJ/mol\n",
      "-211619.26521214633 kJ/mol -211619.33189489084 kJ/mol\n",
      "-211114.55423379922 kJ/mol -211114.5896668853 kJ/mol\n",
      "-210682.86673379922 kJ/mol -210682.8709168853 kJ/mol\n",
      "-211513.94266171916 kJ/mol -211513.99371844713 kJ/mol\n",
      "-211281.23493195348 kJ/mol -211281.23911369036 kJ/mol\n",
      "-210828.37334928242 kJ/mol -210828.3931536956 kJ/mol\n",
      "-211853.70649981056 kJ/mol -211853.74192973902 kJ/mol\n",
      "-211596.5004482027 kJ/mol -211596.5358782772 kJ/mol\n",
      "-211107.77011908428 kJ/mol -211107.82117787507 kJ/mol\n",
      "-211265.64865276404 kJ/mol -211265.62158514606 kJ/mol\n",
      "-211567.96115276404 kJ/mol -211567.99658514606 kJ/mol\n",
      "-211619.33615276404 kJ/mol -211619.34033514606 kJ/mol\n",
      "-211343.13757311576 kJ/mol -211343.2042561925 kJ/mol\n",
      "-211177.87134245783 kJ/mol -211177.84427510033 kJ/mol\n",
      "-211425.823179845 kJ/mol -211425.8429875915 kJ/mol\n",
      "-211513.3824084641 kJ/mol -211513.46471626725 kJ/mol\n",
      "-211708.77952802973 kJ/mol -211708.78371082316 kJ/mol\n",
      "-211730.65234697564 kJ/mol -211730.71903087376 kJ/mol\n",
      "-210428.96203688928 kJ/mol -210429.02872098185 kJ/mol\n",
      "-211059.38653390273 kJ/mol -211059.4688423111 kJ/mol\n",
      "-211465.82403390273 kJ/mol -211465.8594673111 kJ/mol\n",
      "-210724.95191767346 kJ/mol -210724.98734994922 kJ/mol\n",
      "-211346.98315804382 kJ/mol -211346.94046273959 kJ/mol\n",
      "-211330.54299701238 kJ/mol -211330.60967797867 kJ/mol\n",
      "-211627.5668362088 kJ/mol -211627.60226630926 kJ/mol\n",
      "-211906.26212426787 kJ/mol -211906.23505544092 kJ/mol\n",
      "-210353.19962426787 kJ/mol -210353.20380544092 kJ/mol\n",
      "-211794.9428694218 kJ/mol -211794.9783007635 kJ/mol\n",
      "-211340.5240966631 kJ/mol -211340.54390131327 kJ/mol\n",
      "-211110.72038106015 kJ/mol -211110.70893476834 kJ/mol\n",
      "-212254.5088211908 kJ/mol -212254.5442501304 kJ/mol\n",
      "-212022.26854325924 kJ/mol -212022.30397235992 kJ/mol\n",
      "-211180.43986711907 kJ/mol -211180.47529741356 kJ/mol\n",
      "-211283.3039598565 kJ/mol -211283.32376540406 kJ/mol\n",
      "-211136.50527966092 kJ/mol -211136.5094617751 kJ/mol\n",
      "-211495.51691771252 kJ/mol -211495.5523496561 kJ/mol\n",
      "-211974.35788880987 kJ/mol -211974.36206842298 kJ/mol\n",
      "-211858.04231484002 kJ/mol -211858.06212047557 kJ/mol\n",
      "-211451.6994291381 kJ/mol -211451.73486066988 kJ/mol\n",
      "-211685.3869291381 kJ/mol -211685.39111066988 kJ/mol\n",
      "-211621.4296109334 kJ/mol -211621.49629150823 kJ/mol\n",
      "-211446.32736180467 kJ/mol -211446.39404261776 kJ/mol\n",
      "-211795.26486180467 kJ/mol -211795.23779261776 kJ/mol\n",
      "-210849.9831553779 kJ/mol -210849.9717117018 kJ/mol\n",
      "-211219.99059606926 kJ/mol -211220.02602788637 kJ/mol\n",
      "-210518.36292733997 kJ/mol -210518.4608589377 kJ/mol\n",
      "-211478.3623556306 kJ/mol -211478.4290393807 kJ/mol\n",
      "-211277.8909261271 kJ/mol -211277.9263562223 kJ/mol\n",
      "-211727.9534261271 kJ/mol -211727.9732312223 kJ/mol\n",
      "-211612.4764665498 kJ/mol -211612.4650211658 kJ/mol\n",
      "-210474.8205996703 kJ/mol -210474.84040468634 kJ/mol\n",
      "-210929.4075460476 kJ/mol -210929.42735119065 kJ/mol\n",
      "-211009.41523057944 kJ/mol -211009.45066127108 kJ/mol\n",
      "-211533.75014927355 kJ/mol -211533.785579707 kJ/mol\n",
      "-210294.75014927355 kJ/mol -210294.832454707 kJ/mol\n",
      "-211026.7351766643 kJ/mol -211026.73935754586 kJ/mol\n",
      "-210911.8601766643 kJ/mol -210911.89560754586 kJ/mol\n",
      "-211253.9851766643 kJ/mol -211253.97373254586 kJ/mol\n",
      "-211713.95332095353 kJ/mol -211713.98875262163 kJ/mol\n",
      "-210906.09398135147 kJ/mol -210906.16066439223 kJ/mol\n",
      "-211355.07956301305 kJ/mol -211355.0837473572 kJ/mol\n",
      "-211151.71380806132 kJ/mol -211151.76486731868 kJ/mol\n",
      "-210300.18528312142 kJ/mol -210300.20509087355 kJ/mol\n",
      "-211002.49778312142 kJ/mol -211002.53321587355 kJ/mol\n",
      "-211951.12102669617 kJ/mol -211951.15645873183 kJ/mol\n",
      "-211484.70746991457 kJ/mol -211484.74290218792 kJ/mol\n",
      "-211047.07421473344 kJ/mol -211047.10964805895 kJ/mol\n",
      "-211508.63671473344 kJ/mol -211508.65652305895 kJ/mol\n",
      "-211765.51318450645 kJ/mol -211765.56424181047 kJ/mol\n",
      "-211213.69734642305 kJ/mol -211213.6702779282 kJ/mol\n",
      "-210696.59826502972 kJ/mol -210696.6805738964 kJ/mol\n",
      "-211243.05755301123 kJ/mol -211243.0617359854 kJ/mol\n",
      "-211370.62005301123 kJ/mol -211370.6867359854 kJ/mol\n",
      "-211415.18255301123 kJ/mol -211415.2179859854 kJ/mol\n",
      "-211315.30755301123 kJ/mol -211315.3429859854 kJ/mol\n",
      "-211042.9304555345 kJ/mol -211042.93463903392 kJ/mol\n",
      "-210937.4304555345 kJ/mol -210937.49713903392 kJ/mol\n",
      "-211110.16254541394 kJ/mol -211110.16672886594 kJ/mol\n",
      "-211628.6822565191 kJ/mol -211628.71768758955 kJ/mol\n",
      "-211118.10695619322 kJ/mol -211118.18926191045 kJ/mol\n",
      "-211843.16945619322 kJ/mol -211843.18926191045 kJ/mol\n",
      "-212169.1489114482 kJ/mol -212169.1530930852 kJ/mol\n",
      "-211182.6489114482 kJ/mol -211182.6843430852 kJ/mol\n",
      "-211143.18697805377 kJ/mol -211143.20678373575 kJ/mol\n",
      "-211380.81197805377 kJ/mol -211380.78490873575 kJ/mol\n",
      "-211468.12447805377 kJ/mol -211468.17553373575 kJ/mol\n",
      "-210704.6319377625 kJ/mol -210704.6986169511 kJ/mol\n",
      "-211516.61839408614 kJ/mol -211516.62257361185 kJ/mol\n",
      "-210924.80589408614 kJ/mol -210924.84132361185 kJ/mol\n",
      "-210921.90475252783 kJ/mol -210921.94018192726 kJ/mol\n",
      "-211721.85791053437 kJ/mol -211721.89333984395 kJ/mol\n",
      "-211480.02493181452 kJ/mol -211480.09161025018 kJ/mol\n",
      "-211316.14993181452 kJ/mol -211316.10723525018 kJ/mol\n",
      "-211410.45295012766 kJ/mol -211410.47275387112 kJ/mol\n",
      "-211330.20295012766 kJ/mol -211330.26962887112 kJ/mol\n",
      "-211284.7207834858 kJ/mol -211284.72496117273 kJ/mol\n",
      "-211124.5957834858 kJ/mol -211124.67808617273 kJ/mol\n",
      "-210832.6180327125 kJ/mol -210832.70033682446 kJ/mol\n",
      "-211539.98747894284 kJ/mol -211540.06978366437 kJ/mol\n",
      "-210419.79997894284 kJ/mol -210419.86665866437 kJ/mol\n",
      "-210959.52926764498 kJ/mol -210959.48657394844 kJ/mol\n",
      "-211540.35999393044 kJ/mol -211540.41104920494 kJ/mol\n",
      "-211255.25538285915 kJ/mol -211255.30643870402 kJ/mol\n",
      "-211085.94288285915 kJ/mol -211085.94706370402 kJ/mol\n",
      "-211136.44288285915 kJ/mol -211136.41581370402 kJ/mol\n",
      "-211205.65197017347 kJ/mol -211205.64052504316 kJ/mol\n",
      "-211241.5518393498 kJ/mol -211241.61851829782 kJ/mol\n",
      "-211014.8643393498 kJ/mol -211014.89976829782 kJ/mol\n",
      "-210888.7424249514 kJ/mol -210888.74660362216 kJ/mol\n",
      "-211047.11410862207 kJ/mol -211047.11828757037 kJ/mol\n",
      "-211700.7120569353 kJ/mol -211700.74748528833 kJ/mol\n",
      "-211930.72555417288 kJ/mol -211930.6672342859 kJ/mol\n",
      "-211914.05654808553 kJ/mol -211914.10760459764 kJ/mol\n",
      "-211569.30654808553 kJ/mol -211569.32635459764 kJ/mol\n",
      "-211234.01494323974 kJ/mol -211234.01912452193 kJ/mol\n",
      "-211558.89083114523 kJ/mol -211558.92626353068 kJ/mol\n",
      "-211104.35785527295 kJ/mol -211104.37766201078 kJ/mol\n",
      "-210996.83530069864 kJ/mol -210996.82385708787 kJ/mol\n",
      "-211256.60644314648 kJ/mol -211256.61062438818 kJ/mol\n",
      "-211558.6941051036 kJ/mol -211558.69828567206 kJ/mol\n",
      "-211443.99141171598 kJ/mol -211444.05809099425 kJ/mol\n",
      "-211176.1841296011 kJ/mol -211176.17268572596 kJ/mol\n",
      "-211157.5583802655 kJ/mol -211157.5938100108 kJ/mol\n",
      "-211132.4958802655 kJ/mol -211132.5313100108 kJ/mol\n",
      "-211077.19640769437 kJ/mol -211077.1849611371 kJ/mol\n",
      "-211471.01037867088 kJ/mol -211471.07705832712 kJ/mol\n",
      "-211911.39613761613 kJ/mol -211911.44719182618 kJ/mol\n",
      "-211658.6318164135 kJ/mol -211658.66724524338 kJ/mol\n",
      "-212001.6848384631 kJ/mol -212001.75151641434 kJ/mol\n",
      "-211879.22376736044 kJ/mol -211879.2435730261 kJ/mol\n",
      "-211803.34876736044 kJ/mol -211803.3998230261 kJ/mol\n",
      "-210643.52813193365 kJ/mol -210643.5635642586 kJ/mol\n",
      "-211421.6200796927 kJ/mol -211421.59301137007 kJ/mol\n",
      "-210361.70361107332 kJ/mol -210361.77029340362 kJ/mol\n",
      "-210781.75753833633 kJ/mol -210781.82422221548 kJ/mol\n",
      "-211239.5496950138 kJ/mol -211239.58512926064 kJ/mol\n",
      "-210852.1121950138 kJ/mol -210852.11637926064 kJ/mol\n",
      "-211311.53133923933 kJ/mol -211311.55114741824 kJ/mol\n"
     ]
    },
    {
     "name": "stdout",
     "output_type": "stream",
     "text": [
      "-212104.46258759033 kJ/mol -212104.52926980617 kJ/mol\n",
      "-211726.20361929573 kJ/mol -211726.14530024643 kJ/mol\n",
      "-211608.5593236282 kJ/mol -211608.56350411824 kJ/mol\n",
      "-211494.95048300107 kJ/mol -211495.00153983606 kJ/mol\n",
      "-210838.84473392204 kJ/mol -210838.86454223844 kJ/mol\n",
      "-211464.21973392204 kJ/mol -211464.25516723844 kJ/mol\n",
      "-210701.26245540567 kJ/mol -210701.23538486773 kJ/mol\n",
      "-211081.59532332537 kJ/mol -211081.5995025026 kJ/mol\n",
      "-210808.34532332537 kJ/mol -210808.3495025026 kJ/mol\n",
      "-210888.06971878582 kJ/mol -210888.1207724225 kJ/mol\n",
      "-211307.66934125382 kJ/mol -211307.70476976366 kJ/mol\n",
      "-211048.23184125382 kJ/mol -211048.20476976366 kJ/mol\n",
      "-211565.5496881015 kJ/mol -211565.52261707807 kJ/mol\n",
      "-212486.34686636273 kJ/mol -212486.3510455392 kJ/mol\n",
      "-211727.03532447643 kJ/mol -211727.07075428718 kJ/mol\n",
      "-211067.47282447643 kJ/mol -211067.50825428718 kJ/mol\n",
      "-211661.7267603504 kJ/mol -211661.7778151869 kJ/mol\n",
      "-212162.9767603504 kJ/mol -212162.9809401869 kJ/mol\n",
      "-211810.6092019698 kJ/mol -211810.67588456243 kJ/mol\n",
      "-210805.8812329031 kJ/mol -210805.9010388856 kJ/mol\n",
      "-210542.28592828196 kJ/mol -210542.2901100241 kJ/mol\n",
      "-211048.70737991296 kJ/mol -211048.72718553082 kJ/mol\n",
      "-210567.47678768518 kJ/mol -210567.48096854283 kJ/mol\n",
      "-210582.41783160088 kJ/mol -210582.45326391936 kJ/mol\n",
      "-211470.24671962392 kJ/mol -211470.2352754451 kJ/mol\n",
      "-211013.142685069 kJ/mol -211013.20936626729 kJ/mol\n",
      "-211839.1378002579 kJ/mol -211839.12635518896 kJ/mol\n",
      "-211213.3092526535 kJ/mol -211213.34468179155 kJ/mol\n",
      "-211788.00297958567 kJ/mol -211788.02278396935 kJ/mol\n",
      "-211251.50812852336 kJ/mol -211251.52793312538 kJ/mol\n",
      "-210677.60717162886 kJ/mol -210677.61135085596 kJ/mol\n",
      "-211116.31980340835 kJ/mol -211116.35523428008 kJ/mol\n",
      "-210851.77934445068 kJ/mol -210851.84602691294 kJ/mol\n",
      "-211217.53485995252 kJ/mol -211217.57029075682 kJ/mol\n",
      "-210637.69948828057 kJ/mol -210637.7036708334 kJ/mol\n",
      "-210915.6665416907 kJ/mol -210915.7644747272 kJ/mol\n",
      "-211371.98664492182 kJ/mol -211372.00645323092 kJ/mol\n",
      "-210678.64192458754 kJ/mol -210678.5992316139 kJ/mol\n",
      "-211142.76692458754 kJ/mol -211142.8023566139 kJ/mol\n",
      "-210496.29704750841 kJ/mol -210496.2699800182 kJ/mol\n",
      "-211088.12659499678 kJ/mol -211088.09952664367 kJ/mol\n",
      "-210759.68909499678 kJ/mol -210759.75577664367 kJ/mol\n",
      "-211836.82656041905 kJ/mol -211836.87761537725 kJ/mol\n",
      "-211741.28090720996 kJ/mol -211741.25383597417 kJ/mol\n",
      "-211561.08964399924 kJ/mol -211561.1250733997 kJ/mol\n",
      "-211971.03873319132 kJ/mol -211971.07416173126 kJ/mol\n",
      "-211479.4934976634 kJ/mol -211479.49767856885 kJ/mol\n",
      "-211100.84502590052 kJ/mol -211100.89608319587 kJ/mol\n",
      "-210878.0250581766 kJ/mol -210877.99798766075 kJ/mol\n",
      "-211123.56874232134 kJ/mol -211123.54167101366 kJ/mol\n",
      "-211275.38124232134 kJ/mol -211275.44792101366 kJ/mol\n",
      "-210753.86655042414 kJ/mol -210753.8707293989 kJ/mol\n",
      "-211357.03024775977 kJ/mol -211357.06567729692 kJ/mol\n",
      "-211122.12292029872 kJ/mol -211122.11147540205 kJ/mol\n",
      "-211564.12011355557 kJ/mol -211564.12429321866 kJ/mol\n",
      "-211561.6511272504 kJ/mol -211561.65530678927 kJ/mol\n",
      "-211500.20828638598 kJ/mol -211500.2749685487 kJ/mol\n",
      "-210741.53779238532 kJ/mol -210741.5732245681 kJ/mol\n",
      "-210697.78779238532 kJ/mol -210697.8232245681 kJ/mol\n",
      "-210993.21302291006 kJ/mol -210993.21720639503 kJ/mol\n",
      "-210698.7803669672 kJ/mol -210698.7845497878 kJ/mol\n",
      "-210653.97868608427 kJ/mol -210653.982869783 kJ/mol\n",
      "-211119.97868608427 kJ/mol -211120.029744783 kJ/mol\n",
      "-211273.72868608427 kJ/mol -211273.701619783 kJ/mol\n",
      "-210582.5470032955 kJ/mol -210582.55118773688 kJ/mol\n",
      "-210948.47794221947 kJ/mol -210948.46650340204 kJ/mol\n",
      "-210619.29044221947 kJ/mol -210619.29462840204 kJ/mol\n",
      "-210966.27284454694 kJ/mol -210966.27702833654 kJ/mol\n",
      "-211019.31524675805 kJ/mol -211019.35067942523 kJ/mol\n",
      "-210575.98953970452 kJ/mol -210576.02497163252 kJ/mol\n",
      "-211410.1025442914 kJ/mol -211410.16922219616 kJ/mol\n",
      "-211367.64797697635 kJ/mol -211367.6521562959 kJ/mol\n",
      "-211507.00497029326 kJ/mol -211507.04040055882 kJ/mol\n",
      "-210864.63611438964 kJ/mol -210864.64029410065 kJ/mol\n",
      "-211156.14150286256 kJ/mol -211156.0988075162 kJ/mol\n",
      "-211381.17615302303 kJ/mol -211381.21158255078 kJ/mol\n",
      "-211457.80115302303 kJ/mol -211457.80533255078 kJ/mol\n",
      "-211887.23865302303 kJ/mol -211887.21158255078 kJ/mol\n",
      "-211201.2815734106 kJ/mol -211201.34825327818 kJ/mol\n",
      "-210981.7390373957 kJ/mol -210981.74321568166 kJ/mol\n",
      "-211265.1896488848 kJ/mol -211265.19382879307 kJ/mol\n",
      "-211520.01084014587 kJ/mol -211520.10877002263 kJ/mol\n",
      "-211738.01084014587 kJ/mol -211738.07752002263 kJ/mol\n",
      "-211303.6664102634 kJ/mol -211303.73309125795 kJ/mol\n",
      "-211282.6039102634 kJ/mol -211282.63934125795 kJ/mol\n",
      "-211453.33926280285 kJ/mol -211453.37469319697 kJ/mol\n",
      "-211501.04543614923 kJ/mol -211501.0496167558 kJ/mol\n",
      "-211501.98293614923 kJ/mol -211502.0027417558 kJ/mol\n",
      "-211732.98293614923 kJ/mol -211732.9558667558 kJ/mol\n",
      "-211042.3800931312 kJ/mol -211042.4311490591 kJ/mol\n",
      "-211314.34465641482 kJ/mol -211314.42696307565 kJ/mol\n",
      "-211494.8604944048 kJ/mol -211494.80217407199 kJ/mol\n",
      "-211252.24595698714 kJ/mol -211252.2813869808 kJ/mol\n",
      "-211459.87095698714 kJ/mol -211459.8751369808 kJ/mol\n",
      "-212131.43880543066 kJ/mol -212131.44298401466 kJ/mol\n",
      "-212540.05111126485 kJ/mol -212540.1177907652 kJ/mol\n",
      "-211783.79080061964 kJ/mol -211783.81060432416 kJ/mol\n",
      "-212246.50277056452 kJ/mol -212246.49132293396 kJ/mol\n",
      "-212902.21709281276 kJ/mol -212902.25251989445 kJ/mol\n",
      "-212259.8590083141 kJ/mol -212259.89443657477 kJ/mol\n",
      "-211913.43702055328 kJ/mol -211913.50369726194 kJ/mol\n",
      "-212218.47717944323 kJ/mol -212218.48135762406 kJ/mol\n",
      "-212171.5739639569 kJ/mol -212171.67189176384 kJ/mol\n",
      "-211580.9610920872 kJ/mol -211581.0121466549 kJ/mol\n",
      "-211282.6259730563 kJ/mol -211282.66140150253 kJ/mol\n",
      "-210897.92394552403 kJ/mol -210897.95937599096 kJ/mol\n",
      "-211233.53897753335 kJ/mol -211233.6369076184 kJ/mol\n",
      "-211815.10147753335 kJ/mol -211815.1525326184 kJ/mol\n",
      "-211159.30463372194 kJ/mol -211159.30881341375 kJ/mol\n",
      "-212194.16268485505 kJ/mol -212194.16686444407 kJ/mol\n",
      "-211688.41268485505 kJ/mol -211688.47936444407 kJ/mol\n",
      "-211464.6486134883 kJ/mol -211464.68404253174 kJ/mol\n",
      "-211045.01105179847 kJ/mol -211045.04648228223 kJ/mol\n",
      "-211099.38605179847 kJ/mol -211099.46835728223 kJ/mol\n",
      "-210937.3336261576 kJ/mol -210937.36905710597 kJ/mol\n",
      "-211565.81870858883 kJ/mol -211565.7916396818 kJ/mol\n",
      "-212079.3244922771 kJ/mol -212079.35992237413 kJ/mol\n",
      "-212005.72616541316 kJ/mol -212005.74597248502 kJ/mol\n",
      "-210973.97616541316 kJ/mol -210973.96472248502 kJ/mol\n",
      "-211774.85976198362 kJ/mol -211774.92644347227 kJ/mol\n",
      "-212086.57021953654 kJ/mol -212086.60565015968 kJ/mol\n",
      "-211848.17793493345 kJ/mol -211848.21336559183 kJ/mol\n",
      "-211792.49043493345 kJ/mol -211792.47899059183 kJ/mol\n",
      "-211276.91139430692 kJ/mol -211276.9936998898 kJ/mol\n",
      "-211965.00649998523 kJ/mol -211965.04193168512 kJ/mol\n",
      "-211484.12761535263 kJ/mol -211484.16304749556 kJ/mol\n",
      "-211051.69011535263 kJ/mol -211051.72554749556 kJ/mol\n",
      "-210997.19011535263 kJ/mol -210997.22554749556 kJ/mol\n",
      "-211242.46012185328 kJ/mol -211242.49555291134 kJ/mol\n",
      "-211169.13796257065 kJ/mol -211169.14214443328 kJ/mol\n",
      "-211121.49497961067 kJ/mol -211121.5147863708 kJ/mol\n",
      "-211824.5880256067 kJ/mol -211824.62345660824 kJ/mol\n",
      "-211014.9630256067 kJ/mol -211015.06095660824 kJ/mol\n",
      "-210791.37077985192 kJ/mol -210791.4218360598 kJ/mol\n",
      "-211400.80745970178 kJ/mol -211400.78039071683 kJ/mol\n",
      "-211682.61069014994 kJ/mol -211682.64612028605 kJ/mol\n",
      "-211102.55098217446 kJ/mol -211102.61766385462 kJ/mol\n",
      "-210776.63642885047 kJ/mol -210776.68748477547 kJ/mol\n",
      "-211596.4774271818 kJ/mol -211596.48160795638 kJ/mol\n",
      "-211962.5399271818 kJ/mol -211962.57535795638 kJ/mol\n",
      "-212036.83045540354 kJ/mol -212036.81901027713 kJ/mol\n",
      "-211181.89295540354 kJ/mol -211181.92838527713 kJ/mol\n",
      "-210494.1802339072 kJ/mol -210494.20003881946 kJ/mol\n",
      "-211018.70916075632 kJ/mol -211018.69771416587 kJ/mol\n",
      "-210964.38666994707 kJ/mol -210964.4221000717 kJ/mol\n",
      "-211263.43960536295 kJ/mol -211263.50628576774 kJ/mol\n",
      "-211387.5533371612 kJ/mol -211387.5575177367 kJ/mol\n",
      "-210669.5988575362 kJ/mol -210669.6186628985 kJ/mol\n",
      "-211418.04985047248 kJ/mol -211418.08528160138 kJ/mol\n",
      "-211594.44891702966 kJ/mol -211594.48434878263 kJ/mol\n",
      "-211941.3823718133 kJ/mol -211941.38655362316 kJ/mol\n",
      "-211125.5871771339 kJ/mol -211125.63823539854 kJ/mol\n",
      "-211992.55131103192 kJ/mol -211992.61799227053 kJ/mol\n",
      "-211473.05131103192 kJ/mol -211473.08674227053 kJ/mol\n",
      "-211229.11381103192 kJ/mol -211229.13361727053 kJ/mol\n"
     ]
    },
    {
     "name": "stdout",
     "output_type": "stream",
     "text": [
      "-211200.08215119084 kJ/mol -211200.1644580781 kJ/mol\n",
      "-211291.43021642207 kJ/mol -211291.43439810042 kJ/mol\n",
      "-211085.18021642207 kJ/mol -211085.20002310042 kJ/mol\n",
      "-211720.07389272214 kJ/mol -211720.09369735033 kJ/mol\n",
      "-211408.26573663903 kJ/mol -211408.30116701042 kJ/mol\n",
      "-212181.73243018123 kJ/mol -212181.79911018087 kJ/mol\n",
      "-211425.63234497816 kJ/mol -211425.63652452547 kJ/mol\n",
      "-210809.264049371 kJ/mol -210809.2994789705 kJ/mol\n",
      "-210741.01501713414 kJ/mol -210741.01919438766 kJ/mol\n",
      "-211499.86114484165 kJ/mol -211499.88094754948 kJ/mol\n",
      "-210853.81247912883 kJ/mol -210853.86353158217 kJ/mol\n",
      "-212003.36836551526 kJ/mol -212003.4662939098 kJ/mol\n",
      "-211870.9430039127 kJ/mol -211870.97843268813 kJ/mol\n",
      "-211846.82211793005 kJ/mol -211846.8887965656 kJ/mol\n",
      "-211563.32211793005 kJ/mol -211563.3575465656 kJ/mol\n",
      "-211858.82211793005 kJ/mol -211858.9044215656 kJ/mol\n",
      "-211131.94799570716 kJ/mol -211131.96779945274 kJ/mol\n",
      "-210867.23657726962 kJ/mol -210867.25638124655 kJ/mol\n",
      "-211367.86157726962 kJ/mol -211367.86575624655 kJ/mol\n",
      "-211335.71773826214 kJ/mol -211335.7375430199 kJ/mol\n",
      "-211597.61564691435 kJ/mol -211597.71357553083 kJ/mol\n",
      "-211195.15909047145 kJ/mol -211195.1632690136 kJ/mol\n",
      "-211117.89646510268 kJ/mol -211117.96314480915 kJ/mol\n",
      "-211271.41582136345 kJ/mol -211271.38875095095 kJ/mol\n",
      "-211637.87053106702 kJ/mol -211637.93721155758 kJ/mol\n",
      "-211414.78586631897 kJ/mol -211414.82129695732 kJ/mol\n",
      "-211749.72922408022 kJ/mol -211749.78028073694 kJ/mol\n",
      "-211194.20007128664 kJ/mol -211194.2355044462 kJ/mol\n",
      "-211024.67565068556 kJ/mol -211024.74233388348 kJ/mol\n",
      "-211106.2507445207 kJ/mol -211106.27055235428 kJ/mol\n",
      "-211344.0817350056 kJ/mol -211344.05466634105 kJ/mol\n",
      "-211243.7177902921 kJ/mol -211243.75322278155 kJ/mol\n",
      "-211100.7369947005 kJ/mol -211100.7724284785 kJ/mol\n",
      "-211095.4244947005 kJ/mol -211095.4443034785 kJ/mol\n",
      "-211360.07781649358 kJ/mol -211360.11324841037 kJ/mol\n",
      "-211038.51531649358 kJ/mol -211038.56637341037 kJ/mol\n",
      "-211121.07359110774 kJ/mol -211121.12464670185 kJ/mol\n"
     ]
    }
   ],
   "source": [
    "T_min = 300 * unit.kelvin\n",
    "T_max = 600 * unit.kelvin\n",
    "\n",
    "# Make context for og system\n",
    "thermodynamic_state = ThermodynamicState(htf._topology_proposal.new_system, temperature=T_min)\n",
    "integrator_og = openmmtools.integrators.LangevinIntegrator(temperature=300 * unit.kelvin,\n",
    "                                          collision_rate=1 / unit.picoseconds,\n",
    "                                          timestep= 4 * unit.femtoseconds)\n",
    "context_og = thermodynamic_state.create_context(integrator_og)\n",
    "# context_og.setPeriodicBoxVectors(*box_vectors)\n",
    "\n",
    "# Zero the unique old/new valence in the hybrid system\n",
    "bond_force_index = 1 \n",
    "angle_force_index = 2 \n",
    "torsion_force_index = 3 \n",
    "custom_bond_force = hybrid_system.getForce(bond_force_index)\n",
    "custom_angle_force = hybrid_system.getForce(angle_force_index)\n",
    "custom_torsion_force = hybrid_system.getForce(torsion_force_index)\n",
    "is_old = False\n",
    "hybrid_to_bond_indices = htf._hybrid_to_new_bond_indices if is_old else htf._hybrid_to_old_bond_indices\n",
    "hybrid_to_angle_indices = htf._hybrid_to_new_angle_indices if is_old else htf._hybrid_to_old_angle_indices\n",
    "hybrid_to_torsion_indices = htf._hybrid_to_new_torsion_indices if is_old else htf._hybrid_to_old_torsion_indices\n",
    "for hybrid_idx, idx in hybrid_to_bond_indices.items():\n",
    "    p1, p2, hybrid_params = custom_bond_force.getBondParameters(hybrid_idx)\n",
    "    hybrid_params = list(hybrid_params)\n",
    "    hybrid_params[-2] *= 0 # zero K_old\n",
    "    hybrid_params[-1] *= 0 # zero K_new\n",
    "    custom_bond_force.setBondParameters(hybrid_idx, p1, p2, hybrid_params)\n",
    "for hybrid_idx, idx in hybrid_to_angle_indices.items():\n",
    "    p1, p2, p3, hybrid_params = custom_angle_force.getAngleParameters(hybrid_idx)\n",
    "    hybrid_params = list(hybrid_params)\n",
    "    hybrid_params[-1] *= 0\n",
    "    hybrid_params[-2] *= 0\n",
    "    custom_angle_force.setAngleParameters(hybrid_idx, p1, p2, p3, hybrid_params)\n",
    "for hybrid_idx, idx in hybrid_to_torsion_indices.items():\n",
    "    p1, p2, p3, p4, hybrid_params = custom_torsion_force.getTorsionParameters(hybrid_idx)\n",
    "    hybrid_params = list(hybrid_params)\n",
    "    hybrid_params[-1] *= 0\n",
    "    hybrid_params[-2] *= 0\n",
    "    custom_torsion_force.setTorsionParameters(hybrid_idx, p1, p2, p3, p4, hybrid_params)\n",
    "\n",
    "# Make context for hybrid system\n",
    "lambda_protocol = RESTCapableLambdaProtocol()\n",
    "lambda_zero_alchemical_state = RESTCapableRelativeAlchemicalState.from_system(hybrid_system)\n",
    "thermostate = ThermodynamicState(hybrid_system, temperature=T_min)\n",
    "compound_thermodynamic_state = CompoundThermodynamicState(thermostate,\n",
    "                                                          composable_states=[lambda_zero_alchemical_state])\n",
    "\n",
    "beta_0 = 1 / (kB * T_min)\n",
    "beta_m = 1 / (kB * T_max)\n",
    "global_lambda = 1\n",
    "compound_thermodynamic_state.set_alchemical_parameters(global_lambda, beta_0, beta_m, lambda_protocol=lambda_protocol)\n",
    "\n",
    "integrator_hybrid = openmmtools.integrators.LangevinIntegrator(temperature=300 * unit.kelvin,\n",
    "                                          collision_rate=1 / unit.picoseconds,\n",
    "                                          timestep= 4 * unit.femtoseconds)\n",
    "context_hybrid = compound_thermodynamic_state.create_context(integrator_hybrid)\n",
    "# context_hybrid.setPeriodicBoxVectors(*box_vectors)\n",
    "\n",
    "\n",
    "# Get energies for each conformation\n",
    "energies_og = list()\n",
    "energies_hybrid = list()\n",
    "for state in tqdm_notebook(hybrid_states):\n",
    "   \n",
    "    context_og.setPositions(htf.new_positions(state.getPositions(asNumpy=True)))\n",
    "    context_og.setPeriodicBoxVectors(*state.getPeriodicBoxVectors())\n",
    "    energy_og = context_og.getState(getEnergy=True).getPotentialEnergy()\n",
    "    energies_og.append(energy_og.value_in_unit_system(unit.md_unit_system))\n",
    "    \n",
    "#     context_hybrid.setPositions(pos)\n",
    "    context_hybrid.setState(state)\n",
    "    energy_hybrid = context_hybrid.getState(getEnergy=True).getPotentialEnergy()\n",
    "    energies_hybrid.append(energy_hybrid.value_in_unit_system(unit.md_unit_system))\n",
    "    \n",
    "    print(energy_og, energy_hybrid)"
   ]
  },
  {
   "cell_type": "code",
   "execution_count": 12,
   "id": "6e6604b2",
   "metadata": {
    "scrolled": true
   },
   "outputs": [
    {
     "data": {
      "image/png": "[encoded data removed]",
      "text/plain": [
       "<Figure size 432x288 with 1 Axes>"
      ]
     },
     "metadata": {
      "needs_background": "light"
     },
     "output_type": "display_data"
    }
   ],
   "source": [
    "plt.plot(np.array(energies_og) - np.array(energies_hybrid))\n",
    "plt.ylabel(\"energy difference (kJ/mol)\")\n",
    "plt.xlabel(\"snapshot #\")\n",
    "plt.title(\"Lambda = 1 endstate\")\n",
    "plt.show()\n"
   ]
  },
  {
   "cell_type": "code",
   "execution_count": 13,
   "id": "b0ef11e7",
   "metadata": {},
   "outputs": [
    {
     "data": {
      "image/png": "[encoded data removed]",
      "text/plain": [
       "<Figure size 432x288 with 1 Axes>"
      ]
     },
     "metadata": {
      "needs_background": "light"
     },
     "output_type": "display_data"
    }
   ],
   "source": [
    "plt.hist(np.array(energies_og) - np.array(energies_hybrid))\n",
    "plt.show()"
   ]
  },
  {
   "cell_type": "code",
   "execution_count": 14,
   "id": "6652b44c",
   "metadata": {},
   "outputs": [
    {
     "data": {
      "text/plain": [
       "0.026056217590812593"
      ]
     },
     "execution_count": 14,
     "metadata": {},
     "output_type": "execute_result"
    }
   ],
   "source": [
    "np.mean(np.array(energies_og) - np.array(energies_hybrid))"
   ]
  },
  {
   "cell_type": "code",
   "execution_count": 15,
   "id": "6cee0000",
   "metadata": {
    "scrolled": true
   },
   "outputs": [
    {
     "data": {
      "text/plain": [
       "0.03194533874198286"
      ]
     },
     "execution_count": 15,
     "metadata": {},
     "output_type": "execute_result"
    }
   ],
   "source": [
    "np.std(np.array(energies_og) - np.array(energies_hybrid))"
   ]
  },
  {
   "cell_type": "code",
   "execution_count": 17,
   "id": "782321ef",
   "metadata": {
    "scrolled": true
   },
   "outputs": [
    {
     "name": "stdout",
     "output_type": "stream",
     "text": [
      "29 0.3010890390141867 173170.74352562684 173170.44243658782\n",
      "35 0.8714015390141867 45329.493525626836 45328.62212408782\n",
      "37 0.44171403907239437 625035.7435256268 625035.3018115878\n",
      "102 0.5667140390141867 -136530.06897437316 -136530.63568841218\n",
      "109 10.19171404093504 21055796.993525628 21055786.801811587\n",
      "110 55.691714039072394 5225960.993525627 5225905.301811588\n",
      "129 0.2854640390141867 -153762.75647437316 -153763.04193841218\n",
      "181 0.4417140390141867 -155451.63147437316 -155452.07318841218\n",
      "190 0.2229640390141867 -162859.38147437316 -162859.60443841218\n",
      "196 0.2854640390141867 -146267.69397437316 -146267.97943841218\n",
      "197 0.1760890390141867 -171919.50647437316 -171919.68256341218\n",
      "232 1.3167140390141867 345342.61852562684 345341.3018115878\n",
      "240 1.4182765390141867 -122467.00647437316 -122468.42475091218\n",
      "247 0.2542140390141867 375057.24352562684 375056.9893115878\n",
      "257 0.8635890390141867 -128242.88147437316 -128243.74506341218\n",
      "267 0.5198390390141867 -147021.06897437316 -147021.58881341218\n",
      "271 0.3792140390141867 -166965.50647437316 -166965.88568841218\n",
      "283 0.2229640390141867 -183620.75647437316 -183620.97943841218\n",
      "293 0.2464015390141867 -42778.006474373164 -42778.25287591218\n",
      "305 0.1917140390141867 -177190.25647437316 -177190.44818841218\n",
      "313 1.9104640390141867 -24623.881474373164 -24625.791938412178\n",
      "433 44.19171403348446 37061182.993525624 37061138.80181159\n",
      "474 6.691714039072394 6526522.493525627 6526515.801811588\n"
     ]
    }
   ],
   "source": [
    "for i, (energy_og, energy_hybrid) in enumerate(zip(energies_og, energies_hybrid)):\n",
    "    if energy_og - energy_hybrid > 0.15:\n",
    "        print(i, energy_og - energy_hybrid, energy_og, energy_hybrid)"
   ]
  },
  {
   "cell_type": "code",
   "execution_count": 16,
   "id": "59104ae9",
   "metadata": {},
   "outputs": [],
   "source": [
    "with open(\"energies_bnbs_hybrid_lambda_1.pickle\", \"wb\") as f:\n",
    "    pickle.dump(energies_hybrid, f)\n",
    "with open(\"energies_bnbs_og_lambda_1.pickle\", \"wb\") as f:\n",
    "    pickle.dump(energies_og, f)"
   ]
  },
  {
   "cell_type": "code",
   "execution_count": null,
   "id": "2c00f474",
   "metadata": {},
   "outputs": [],
   "source": []
  }
 ],
 "metadata": {
  "kernelspec": {
   "display_name": "Python 3 (ipykernel)",
   "language": "python",
   "name": "python3"
  },
  "language_info": {
   "codemirror_mode": {
    "name": "ipython",
    "version": 3
   },
   "file_extension": ".py",
   "mimetype": "text/x-python",
   "name": "python",
   "nbconvert_exporter": "python",
   "pygments_lexer": "ipython3",
   "version": "3.8.11"
  }
 },
 "nbformat": 4,
 "nbformat_minor": 5
}
