{
 "cells": [
  {
   "cell_type": "code",
   "execution_count": 75,
   "id": "ac051fbf",
   "metadata": {},
   "outputs": [],
   "source": [
    "from openmmtools.states import SamplerState, ThermodynamicState, CompoundThermodynamicState\n",
    "from simtk import unit, openmm\n",
    "from perses.tests.utils import compute_potential_components\n",
    "from openmmtools.constants import kB\n",
    "from perses.dispersed.utils import configure_platform\n",
    "from perses.annihilation.rest import RESTTopologyFactory\n",
    "from perses.annihilation.lambda_protocol import RESTState\n",
    "import numpy as np\n",
    "from perses.tests.test_topology_proposal import generate_atp, generate_dipeptide_top_pos_sys\n",
    "from openmmtools.testsystems import AlanineDipeptideVacuum, AlanineDipeptideExplicit\n",
    "import itertools\n",
    "from perses.tests.test_topology_proposal import generate_dipeptide_top_pos_sys, generate_atp\n",
    "import pickle\n",
    "import copy\n",
    "\n",
    "#############################################\n",
    "# CONSTANTS\n",
    "#############################################\n",
    "temperature = 298.0 * unit.kelvin\n",
    "kT = kB * temperature\n",
    "beta = 1.0/kT\n",
    "REFERENCE_PLATFORM = openmm.Platform.getPlatformByName(\"Reference\")\n"
   ]
  },
  {
   "cell_type": "code",
   "execution_count": 152,
   "id": "69ee892f",
   "metadata": {},
   "outputs": [],
   "source": [
    "def test_nb_energies(htf, is_old=True, is_solvated=False, check_scale=False):\n",
    "    htf_copy = copy.deepcopy(htf)\n",
    "\n",
    "    # Get system and old/new positions\n",
    "    system = htf._topology_proposal.old_system if is_old else htf._topology_proposal.new_system\n",
    "    positions = htf.old_positions(htf.hybrid_positions) if is_old else htf.new_positions(htf.hybrid_positions)\n",
    "\n",
    "    # Get nb force\n",
    "    nb_force_index = 3 \n",
    "    nb_force = system.getForce(nb_force_index) \n",
    "\n",
    "    # Get system and positions\n",
    "    hybrid_system = htf.hybrid_system\n",
    "    hybrid_positions = htf.hybrid_positions\n",
    "\n",
    "    # Get custom nb force \n",
    "    custom_nb_force_index = 3 if not is_solvated else 4\n",
    "    custom_nb_exceptions_force_index = 4 if not is_solvated else 5\n",
    "    standard_nb_force_index = 5 if not is_solvated else 6\n",
    "   \n",
    "    custom_nb_force = hybrid_system.getForce(custom_nb_force_index)\n",
    "    custom_nb_exceptions_force = hybrid_system.getForce(custom_nb_exceptions_force_index)\n",
    "    standard_nb_force = hybrid_system.getForce(standard_nb_force_index)\n",
    "\n",
    "    for i in range(nb_force.getNumParticles()):\n",
    "        charge, sigma, epsilon = nb_force.getParticleParameters(i)\n",
    "        if i in htf._atom_classes['environment_atoms']:\n",
    "            nb_force.setParticleParameters(i, charge*0, sigma, epsilon*0)\n",
    "#         else:\n",
    "#             nb_force.setParticleParameters(i, charge*0, sigma, epsilon)\n",
    "    \n",
    "    for i in range(nb_force.getNumExceptions()):\n",
    "        p1, p2, chargeProd, sigma, epsilon = nb_force.getExceptionParameters(i)\n",
    "        if p1 in htf._atom_classes['environment_atoms']:\n",
    "            nb_force.setExceptionParameters(i, p1, p2, chargeProd*0, sigma, epsilon*0)\n",
    "#         else:\n",
    "#             nb_force.setExceptionParameters(i, p1, p2, chargeProd*0, sigma, epsilon*0)\n",
    "    \n",
    "    for i in range(custom_nb_force.getNumParticles()):\n",
    "        params = custom_nb_force.getParticleParameters(i)\n",
    "#         if i in list(htf._atom_classes['environment_atoms'])  +  list(htf._alchemical_regions_by_type['core_atoms']):\n",
    "        params = list(params)\n",
    "        if i in htf._atom_classes['environment_atoms']:\n",
    "            params[7] = params[7]*0\n",
    "            params[9] = params[9]*0\n",
    "            params[10] = params[10]*0\n",
    "            params[12] = params[12]*0\n",
    "            custom_nb_force.setParticleParameters(i, params)\n",
    "#         else:\n",
    "#             params[7] = params[7]*0\n",
    "#             params[10] = params[10]*0\n",
    "#             custom_nb_force.setParticleParameters(i, params)\n",
    "            \n",
    "    for i in range(custom_nb_exceptions_force.getNumBonds()):\n",
    "        p1, p2, params = custom_nb_exceptions_force.getBondParameters(i)\n",
    "#         print(p1, p2, params)\n",
    "#         if p1 in htf._atom_classes['environment_atoms'] or p2 in htf._atom_classes['environment_atoms'] or p1 in htf._atom_classes['core_atoms'] or p2 in htf._atom_classes['core_atoms']:\n",
    "        params = list(params)\n",
    "        if p1 in htf._atom_classes['environment_atoms'] or p2 in htf._atom_classes['environment_atoms']:\n",
    "            params[7] = params[7]*0\n",
    "            params[9] = params[9]*0\n",
    "            params[10] = params[10]*0\n",
    "            params[12] = params[12]*0\n",
    "            custom_nb_exceptions_force.setBondParameters(i, p1, p2, params)\n",
    "#         else:\n",
    "#             params[7] = params[7]*0\n",
    "#             params[9] = params[9]*0\n",
    "#             params[10] = params[10]*0\n",
    "#             params[12] = params[12]*0\n",
    "#             custom_nb_exceptions_force.setBondParameters(i, p1, p2, params)\n",
    "        \n",
    "    # Set global parameters\n",
    "    lambda_old = 1 if is_old else 0\n",
    "    lambda_new = 0 if is_old else 1\n",
    "    lambda_old_str = ['lambda_alchemical_electrostatics_old', 'lambda_alchemical_sterics_old']\n",
    "    lambda_new_str = ['lambda_alchemical_electrostatics_new', 'lambda_alchemical_sterics_new']\n",
    "    lambda_old_exceptions_str = ['lambda_alchemical_electrostatics_exceptions_old', 'lambda_alchemical_sterics_exceptions_old']\n",
    "    lambda_new_exceptions_str = ['lambda_alchemical_electrostatics_exceptions_new', 'lambda_alchemical_sterics_exceptions_new']\n",
    "    \n",
    "    for i in range(custom_nb_force.getNumGlobalParameters()):\n",
    "        if custom_nb_force.getGlobalParameterName(i) in lambda_old_str:\n",
    "            custom_nb_force.setGlobalParameterDefaultValue(i, lambda_old)\n",
    "        elif custom_nb_force.getGlobalParameterName(i) in lambda_new_str:\n",
    "            custom_nb_force.setGlobalParameterDefaultValue(i, lambda_new)\n",
    "\n",
    "    for i in range(custom_nb_exceptions_force.getNumGlobalParameters()):\n",
    "        if custom_nb_exceptions_force.getGlobalParameterName(i) in lambda_old_exceptions_str:\n",
    "            custom_nb_exceptions_force.setGlobalParameterDefaultValue(i, lambda_old)\n",
    "        elif custom_nb_exceptions_force.getGlobalParameterName(i) in lambda_new_exceptions_str:\n",
    "            custom_nb_exceptions_force.setGlobalParameterDefaultValue(i, lambda_new)\n",
    "                                 \n",
    "    for i in range(standard_nb_force.getNumGlobalParameters()):\n",
    "        if standard_nb_force.getGlobalParameterName(i) in ['lambda_alchemical_electrostatics', 'lambda_alchemical_sterics']:\n",
    "            standard_nb_force.setGlobalParameterDefaultValue(i, lambda_new)\n",
    "\n",
    "    # Get energy components of standard nb force\n",
    "    thermostate_other = ThermodynamicState(system=system, temperature=temperature)\n",
    "    integrator_other = openmm.VerletIntegrator(1.0*unit.femtosecond)\n",
    "    context_other = thermostate_other.create_context(integrator_other)\n",
    "    context_other.setPositions(positions)\n",
    "    components_other = compute_potential_components(context_other, beta=beta, platform=REFERENCE_PLATFORM)\n",
    "    print(components_other)\n",
    "    \n",
    "#     print(\"running md\")\n",
    "#     energies_other = []\n",
    "#     for step in range(300):\n",
    "#         print(f\"step {step}\")\n",
    "#         integrator_other.step(1)\n",
    "#         components_other = compute_potential_components(context_other, beta=beta, platform=REFERENCE_PLATFORM)\n",
    "#         energies_other.append(components_other[nb_force_index][1])\n",
    "    \n",
    "    # Get energy components of custom nb force\n",
    "    thermostate_hybrid = ThermodynamicState(system=hybrid_system, temperature=temperature)\n",
    "    integrator_hybrid = openmm.VerletIntegrator(1.0 * unit.femtosecond)\n",
    "    context_hybrid = thermostate_hybrid.create_context(integrator_hybrid)\n",
    "    context_hybrid.setPositions(hybrid_positions)\n",
    "    components_hybrid = compute_potential_components(context_hybrid, beta=beta, platform=REFERENCE_PLATFORM)\n",
    "    print(components_hybrid)\n",
    "    \n",
    "#     print(\"running md\")\n",
    "#     energies_hybrid = []\n",
    "#     for step in range(300):\n",
    "#         print(f\"step {step}\")\n",
    "#         integrator_hybrid.step(1)\n",
    "#         components_hybrid = compute_potential_components(context_hybrid, beta=beta, platform=REFERENCE_PLATFORM)\n",
    "#         energies_hybrid.append(components_hybrid[3][1])\n",
    "    \n",
    "\n",
    "#     assert np.isclose([components_other[nb_force_index][1]], np.sum([energy[1] for i, energy in enumerate(components_hybrid) if i in [custom_nb_force_index, custom_nb_exceptions_force_index, standard_nb_force_index] ])), f\"standard nonbonded: {components_other[nb_force_index][1]}, custom nonbonded/bond: {np.sum([energy[1] for i, energy in enumerate(components_hybrid) if i in [custom_nb_force_index, custom_nb_exceptions_force_index, standard_nb_force_index] ])}\"\n",
    "\n",
    "#     print(f\"Success! Custom nb force and standard nb force energies are equal!\")\n",
    "\n",
    "#     if check_scale:\n",
    "        \n",
    "#         # Get custom nb and custom bond forces and hybrid positions\n",
    "#         hybrid_system = htf_copy.hybrid_system\n",
    "#         hybrid_positions = htf_copy.hybrid_positions\n",
    "        \n",
    "#         # Get custom nb force \n",
    "#         custom_nb_force_index = 3 if not is_solvated else 4\n",
    "#         custom_nb_exceptions_force_index = 4 if not is_solvated else 5\n",
    "        \n",
    "#         custom_nb_force = hybrid_system.getForce(custom_nb_force_index)\n",
    "#         custom_nb_exceptions_force = hybrid_system.getForce(custom_nb_exceptions_force_index)\n",
    "\n",
    "#         # Get energy components of custom nb force\n",
    "#         thermostate_hybrid = ThermodynamicState(system=hybrid_system, temperature=temperature)\n",
    "#         integrator_hybrid = openmm.VerletIntegrator(1.0 * unit.femtosecond)\n",
    "#         context_hybrid = thermostate_hybrid.create_context(integrator_hybrid)\n",
    "#         context_hybrid.setPositions(hybrid_positions)\n",
    "#         components_hybrid = compute_potential_components(context_hybrid, beta=beta)\n",
    "#         print(components_hybrid)\n",
    "        \n",
    "#         # Set rest lambda to 0.5\n",
    "#         for i in range(custom_nb_force.getNumGlobalParameters()):\n",
    "#             if custom_nb_force.getGlobalParameterName(i) == 'lambda_rest_electrostatics':\n",
    "#                 custom_nb_force.setGlobalParameterDefaultValue(i, 0.5)\n",
    "#             elif custom_nb_force.getGlobalParameterName(i) == 'lambda_rest_sterics':\n",
    "#                 custom_nb_force.setGlobalParameterDefaultValue(i, 0.5)\n",
    "                \n",
    "#         for i in range(custom_nb_exceptions_force.getNumGlobalParameters()):\n",
    "#             if custom_nb_exceptions_force.getGlobalParameterName(i) == 'lambda_rest_electrostatics_exceptions':\n",
    "#                 custom_nb_exceptions_force.setGlobalParameterDefaultValue(i, 0.5)\n",
    "#             elif custom_nb_exceptions_force.getGlobalParameterName(i) == 'lambda_rest_sterics_exceptions':\n",
    "#                 custom_nb_exceptions_force.setGlobalParameterDefaultValue(i, 0.5)\n",
    "            \n",
    "#         ## Get energy components of custom torsion force iwth scaling\n",
    "#         thermostate_hybrid = ThermodynamicState(system=hybrid_system, temperature=temperature)\n",
    "#         integrator_hybrid = openmm.VerletIntegrator(1.0 * unit.femtosecond)\n",
    "#         context_hybrid = thermostate_hybrid.create_context(integrator_hybrid)\n",
    "#         context_hybrid.setPositions(hybrid_positions)\n",
    "#         components_hybrid_scaled = compute_potential_components(context_hybrid, beta=beta)\n",
    "#         print(components_hybrid_scaled)\n",
    "        \n",
    "#         assert not np.isclose([components_hybrid[custom_nb_force_index][1]], [components_hybrid_scaled[custom_nb_force_index][1]])\n",
    "#         assert not np.isclose([components_hybrid[custom_nb_exceptions_force_index][1]], [components_hybrid_scaled[custom_nb_exceptions_force_index][1]])\n",
    "        \n",
    "#         print(f\"Success! Scaling the custom nb and bond forces changes the energy\")\n",
    "        \n",
    "#     return energies_other, energies_hybrid"
   ]
  },
  {
   "cell_type": "markdown",
   "id": "434a0b31",
   "metadata": {},
   "source": [
    "# Alanine dipeptide in vacuum"
   ]
  },
  {
   "cell_type": "markdown",
   "id": "503b6f4b",
   "metadata": {},
   "source": [
    "### Test one alchemical region, no scale regions"
   ]
  },
  {
   "cell_type": "markdown",
   "id": "11e9c95a",
   "metadata": {},
   "source": [
    "#### Old system HarmonicBondForce vs hybrid system CustomBondForce"
   ]
  },
  {
   "cell_type": "code",
   "execution_count": 48,
   "id": "19b06c88",
   "metadata": {},
   "outputs": [],
   "source": [
    "# Load htf\n",
    "with open(\"/home/zhangi/choderalab/perses_benchmark/perses_protein_mutations/code/31_rest_over_protocol/atp_vacuum.pickle\", \"rb\") as f:\n",
    "    htf = pickle.load(f)"
   ]
  },
  {
   "cell_type": "code",
   "execution_count": 49,
   "id": "22ba9edd",
   "metadata": {},
   "outputs": [
    {
     "data": {
      "text/plain": [
       "Quantity(value=100, unit=nanometer)"
      ]
     },
     "execution_count": 49,
     "metadata": {},
     "output_type": "execute_result"
    }
   ],
   "source": [
    "htf._r_cutoff"
   ]
  },
  {
   "cell_type": "code",
   "execution_count": 50,
   "id": "18deeb39",
   "metadata": {
    "scrolled": true
   },
   "outputs": [
    {
     "name": "stdout",
     "output_type": "stream",
     "text": [
      "Warning: Returning CPU platform instead of requested platform <openmm.openmm.Platform; proxy of <Swig Object of type 'OpenMM::Platform *' at 0x2ba980229480> >\n",
      "conducting subsequent work with the following platform: CPU\n",
      "conducting subsequent work with the following platform: CUDA\n",
      "[('HarmonicBondForce', 0.0347836535652138), ('HarmonicAngleForce', 0.6112775462128993), ('PeriodicTorsionForce', 16.285398289983057), ('NonbondedForce', -39.449927745600284), ('AndersenThermostat', 0.0)]\n",
      "conducting subsequent work with the following platform: CUDA\n",
      "[('CustomBondForce', 0.0347836535652138), ('CustomAngleForce', 0.6112775462128993), ('CustomTorsionForce', 16.285403285921717), ('CustomNonbondedForce', -130.55774492044804), ('CustomBondForce', 91.10781400532242), ('NonbondedForce', 0.0), ('AndersenThermostat', 0.0)]\n",
      "Success! Custom nb force and standard nb force energies are equal!\n"
     ]
    },
    {
     "data": {
      "text/plain": [
       "<openmm.openmm.Context; proxy of <Swig Object of type 'OpenMM::Context *' at 0x2baa02212cc0> >"
      ]
     },
     "execution_count": 50,
     "metadata": {},
     "output_type": "execute_result"
    }
   ],
   "source": [
    "test_nb_energies(htf)\n"
   ]
  },
  {
   "cell_type": "markdown",
   "id": "e336aed9",
   "metadata": {},
   "source": [
    "#### New system HarmonicBondForce vs hybrid system CustomBondForce"
   ]
  },
  {
   "cell_type": "code",
   "execution_count": 51,
   "id": "49875cd6",
   "metadata": {},
   "outputs": [],
   "source": [
    "# Load htf\n",
    "with open(\"/home/zhangi/choderalab/perses_benchmark/perses_protein_mutations/code/31_rest_over_protocol/atp_vacuum.pickle\", \"rb\") as f:\n",
    "    htf = pickle.load(f)"
   ]
  },
  {
   "cell_type": "code",
   "execution_count": 52,
   "id": "039fb22d",
   "metadata": {},
   "outputs": [
    {
     "name": "stdout",
     "output_type": "stream",
     "text": [
      "Warning: Returning CPU platform instead of requested platform <openmm.openmm.Platform; proxy of <Swig Object of type 'OpenMM::Platform *' at 0x2ba980229480> >\n",
      "conducting subsequent work with the following platform: CPU\n",
      "conducting subsequent work with the following platform: CUDA\n",
      "[('HarmonicBondForce', 1.7533924299367394), ('HarmonicAngleForce', 265.6677928204255), ('PeriodicTorsionForce', 25.881782322451524), ('NonbondedForce', 407.2892526962738), ('AndersenThermostat', 0.0)]\n",
      "conducting subsequent work with the following platform: CUDA\n",
      "[('CustomBondForce', 0.0347836535652138), ('CustomAngleForce', 0.6112775462128993), ('CustomTorsionForce', 16.285403285921717), ('CustomNonbondedForce', -79.49811878075636), ('CustomBondForce', 486.7873687513989), ('NonbondedForce', 0.0), ('AndersenThermostat', 0.0)]\n",
      "Success! Custom nb force and standard nb force energies are equal!\n"
     ]
    },
    {
     "data": {
      "text/plain": [
       "<openmm.openmm.Context; proxy of <Swig Object of type 'OpenMM::Context *' at 0x2ba9cbc45810> >"
      ]
     },
     "execution_count": 52,
     "metadata": {},
     "output_type": "execute_result"
    }
   ],
   "source": [
    "test_nb_energies(htf, is_old=False)"
   ]
  },
  {
   "cell_type": "markdown",
   "id": "16251d48",
   "metadata": {},
   "source": [
    "### Test one alchemical region, one scale region"
   ]
  },
  {
   "cell_type": "markdown",
   "id": "5e9bd435",
   "metadata": {},
   "source": [
    "#### Old system HarmonicBondForce vs hybrid system CustomBondForce"
   ]
  },
  {
   "cell_type": "code",
   "execution_count": 31,
   "id": "288c11e1",
   "metadata": {},
   "outputs": [],
   "source": [
    "# Load htf\n",
    "with open(\"/home/zhangi/choderalab/perses_benchmark/perses_protein_mutations/code/31_rest_over_protocol/atp_vacuum_scale_region.pickle\", \"rb\") as f:\n",
    "    htf = pickle.load(f)"
   ]
  },
  {
   "cell_type": "code",
   "execution_count": 32,
   "id": "9c194d51",
   "metadata": {
    "scrolled": false
   },
   "outputs": [
    {
     "name": "stdout",
     "output_type": "stream",
     "text": [
      "Warning: Returning CPU platform instead of requested platform <openmm.openmm.Platform; proxy of <Swig Object of type 'OpenMM::Platform *' at 0x2ba980229480> >\n",
      "conducting subsequent work with the following platform: CPU\n",
      "conducting subsequent work with the following platform: CUDA\n",
      "[('HarmonicBondForce', 0.0347836535652138), ('HarmonicAngleForce', 0.6112775462128993), ('PeriodicTorsionForce', 16.285398289983057), ('NonbondedForce', -39.449927745600284), ('AndersenThermostat', 0.0)]\n",
      "conducting subsequent work with the following platform: CUDA\n",
      "[('CustomBondForce', 0.0347836535652138), ('CustomAngleForce', 0.6112775462128993), ('CustomTorsionForce', 16.285403285921717), ('CustomNonbondedForce', -130.5577432119903), ('CustomBondForce', 91.1078186820756), ('NonbondedForce', 0.0), ('AndersenThermostat', 0.0)]\n",
      "Success! Custom nb force and standard nb force energies are equal!\n",
      "conducting subsequent work with the following platform: CUDA\n",
      "[('CustomBondForce', 0.0347836535652138), ('CustomAngleForce', 0.6112775462128993), ('CustomTorsionForce', 16.285403285921717), ('CustomNonbondedForce', -130.5577432119903), ('CustomBondForce', 91.1078186820756), ('NonbondedForce', 0.0), ('AndersenThermostat', 0.0)]\n",
      "conducting subsequent work with the following platform: CUDA\n",
      "[('CustomBondForce', 0.0347836535652138), ('CustomAngleForce', 0.6112775462128993), ('CustomTorsionForce', 16.285403285921717), ('CustomNonbondedForce', -129.46302491713897), ('CustomBondForce', 88.21630371244039), ('NonbondedForce', 0.0), ('AndersenThermostat', 0.0)]\n",
      "Success! Scaling the custom nb and bond forces changes the energy\n"
     ]
    },
    {
     "data": {
      "text/plain": [
       "<openmm.openmm.Context; proxy of <Swig Object of type 'OpenMM::Context *' at 0x2ba9f0001480> >"
      ]
     },
     "execution_count": 32,
     "metadata": {},
     "output_type": "execute_result"
    }
   ],
   "source": [
    "test_nb_energies(htf, check_scale=True)\n"
   ]
  },
  {
   "cell_type": "markdown",
   "id": "0057ce49",
   "metadata": {},
   "source": [
    "#### New system HarmonicBondForce vs hybrid system CustomBondForce"
   ]
  },
  {
   "cell_type": "code",
   "execution_count": 33,
   "id": "1e6a7202",
   "metadata": {},
   "outputs": [],
   "source": [
    "# Load htf\n",
    "with open(\"/home/zhangi/choderalab/perses_benchmark/perses_protein_mutations/code/31_rest_over_protocol/atp_vacuum_scale_region.pickle\", \"rb\") as f:\n",
    "    htf = pickle.load(f)"
   ]
  },
  {
   "cell_type": "code",
   "execution_count": 34,
   "id": "8ccc8c53",
   "metadata": {},
   "outputs": [
    {
     "name": "stdout",
     "output_type": "stream",
     "text": [
      "Warning: Returning CPU platform instead of requested platform <openmm.openmm.Platform; proxy of <Swig Object of type 'OpenMM::Platform *' at 0x2ba980229480> >\n",
      "conducting subsequent work with the following platform: CPU\n",
      "conducting subsequent work with the following platform: CUDA\n",
      "[('HarmonicBondForce', 0.34717794777053645), ('HarmonicAngleForce', 2.6613512766961778), ('PeriodicTorsionForce', 26.628276332415044), ('NonbondedForce', 493.81950799233925), ('AndersenThermostat', 0.0)]\n",
      "conducting subsequent work with the following platform: CUDA\n",
      "[('CustomBondForce', 0.0347836535652138), ('CustomAngleForce', 0.6112775462128993), ('CustomTorsionForce', 16.285403285921717), ('CustomNonbondedForce', 480.253488017234), ('CustomBondForce', 13.566319605554744), ('NonbondedForce', 0.0), ('AndersenThermostat', 0.0)]\n",
      "Success! Custom nb force and standard nb force energies are equal!\n",
      "conducting subsequent work with the following platform: CUDA\n",
      "[('CustomBondForce', 0.0347836535652138), ('CustomAngleForce', 0.6112775462128993), ('CustomTorsionForce', 16.285403285921717), ('CustomNonbondedForce', -130.5577432119903), ('CustomBondForce', 91.1078186820756), ('NonbondedForce', 0.0), ('AndersenThermostat', 0.0)]\n",
      "conducting subsequent work with the following platform: CUDA\n",
      "[('CustomBondForce', 0.0347836535652138), ('CustomAngleForce', 0.6112775462128993), ('CustomTorsionForce', 16.285403285921717), ('CustomNonbondedForce', -129.46302491713897), ('CustomBondForce', 88.21630371244039), ('NonbondedForce', 0.0), ('AndersenThermostat', 0.0)]\n",
      "Success! Scaling the custom nb and bond forces changes the energy\n"
     ]
    },
    {
     "data": {
      "text/plain": [
       "<openmm.openmm.Context; proxy of <Swig Object of type 'OpenMM::Context *' at 0x2ba9f7eaa600> >"
      ]
     },
     "execution_count": 34,
     "metadata": {},
     "output_type": "execute_result"
    }
   ],
   "source": [
    "test_nb_energies(htf, is_old=False, check_scale=True)\n"
   ]
  },
  {
   "cell_type": "markdown",
   "id": "a30a9095",
   "metadata": {},
   "source": [
    "# Alanine dipeptide in solvent"
   ]
  },
  {
   "cell_type": "markdown",
   "id": "d6ef38ac",
   "metadata": {},
   "source": [
    "### Test one alchemical region, no scale regions"
   ]
  },
  {
   "cell_type": "markdown",
   "id": "5c908dfd",
   "metadata": {},
   "source": [
    "#### Old system nb force vs hybrid system custom nb force and custom bond force (electrostatics)"
   ]
  },
  {
   "cell_type": "code",
   "execution_count": 153,
   "id": "88edb8f7",
   "metadata": {
    "scrolled": true
   },
   "outputs": [],
   "source": [
    "# Load htf\n",
    "with open(\"/home/zhangi/choderalab/perses_benchmark/perses_protein_mutations/code/31_rest_over_protocol/atp_solvent.pickle\", \"rb\") as f:\n",
    "    htf = pickle.load(f)"
   ]
  },
  {
   "cell_type": "code",
   "execution_count": 121,
   "id": "8540fd02",
   "metadata": {},
   "outputs": [
    {
     "data": {
      "text/plain": [
       "[<openmm.openmm.MonteCarloBarostat; proxy of <Swig Object of type 'OpenMM::MonteCarloBarostat *' at 0x2ae3b506abd0> >,\n",
       " <openmm.openmm.CustomBondForce; proxy of <Swig Object of type 'OpenMM::CustomBondForce *' at 0x2ae3b506ab70> >,\n",
       " <openmm.openmm.CustomAngleForce; proxy of <Swig Object of type 'OpenMM::CustomAngleForce *' at 0x2ae3b506aba0> >,\n",
       " <openmm.openmm.CustomTorsionForce; proxy of <Swig Object of type 'OpenMM::CustomTorsionForce *' at 0x2ae3b506ae40> >,\n",
       " <openmm.openmm.CustomNonbondedForce; proxy of <Swig Object of type 'OpenMM::CustomNonbondedForce *' at 0x2ae3b506ac90> >,\n",
       " <openmm.openmm.CustomBondForce; proxy of <Swig Object of type 'OpenMM::CustomBondForce *' at 0x2ae3b506af00> >,\n",
       " <openmm.openmm.NonbondedForce; proxy of <Swig Object of type 'OpenMM::NonbondedForce *' at 0x2ae3b506af90> >]"
      ]
     },
     "execution_count": 121,
     "metadata": {},
     "output_type": "execute_result"
    }
   ],
   "source": [
    "htf.hybrid_system.getForces()"
   ]
  },
  {
   "cell_type": "code",
   "execution_count": 154,
   "id": "dddf7f3c",
   "metadata": {},
   "outputs": [],
   "source": [
    "htf._topology_proposal.old_system.getForce(3).setReciprocalSpaceForceGroup(31)"
   ]
  },
  {
   "cell_type": "code",
   "execution_count": 148,
   "id": "ba1ed217",
   "metadata": {},
   "outputs": [],
   "source": [
    "# htf._topology_proposal.old_system.getForce(3).setUseDispersionCorrection(False)"
   ]
  },
  {
   "cell_type": "code",
   "execution_count": 155,
   "id": "9c292a01",
   "metadata": {},
   "outputs": [],
   "source": [
    "htf.hybrid_system.getForce(4).setUseLongRangeCorrection(True)"
   ]
  },
  {
   "cell_type": "code",
   "execution_count": 150,
   "id": "4073c4b5",
   "metadata": {},
   "outputs": [],
   "source": [
    "# htf._topology_proposal.old_system.getForce(3).setIncludeDirectSpace(False)"
   ]
  },
  {
   "cell_type": "code",
   "execution_count": 156,
   "id": "07c59aac",
   "metadata": {
    "scrolled": true
   },
   "outputs": [
    {
     "name": "stdout",
     "output_type": "stream",
     "text": [
      "conducting subsequent work with the following platform: Reference\n",
      "[('HarmonicBondForce', 0.03478347046543876), ('HarmonicAngleForce', 0.6112776764392966), ('PeriodicTorsionForce', 16.28539847276254), ('NonbondedForce', 153.3520669226475), ('AndersenThermostat', 0.0), ('MonteCarloBarostat', 0.0)]\n",
      "conducting subsequent work with the following platform: Reference\n",
      "[('CustomBondForce', 0.03478347046543876), ('CustomAngleForce', 0.6112776764392966), ('CustomTorsionForce', 16.28539847276254), ('CustomNonbondedForce', -21.763196679965723), ('CustomBondForce', 25.88461738358351), ('NonbondedForce', -49300.72430979579), ('AndersenThermostat', 0.0), ('MonteCarloBarostat', 0.0)]\n"
     ]
    },
    {
     "ename": "TypeError",
     "evalue": "cannot unpack non-iterable NoneType object",
     "output_type": "error",
     "traceback": [
      "\u001b[0;31m---------------------------------------------------------------------------\u001b[0m",
      "\u001b[0;31mTypeError\u001b[0m                                 Traceback (most recent call last)",
      "\u001b[0;32m/scratch/lsftmp/2631455.tmpdir/ipykernel_373608/1867933940.py\u001b[0m in \u001b[0;36m<module>\u001b[0;34m\u001b[0m\n\u001b[0;32m----> 1\u001b[0;31m \u001b[0menergies_other\u001b[0m\u001b[0;34m,\u001b[0m \u001b[0menergies_hybrid\u001b[0m \u001b[0;34m=\u001b[0m \u001b[0mtest_nb_energies\u001b[0m\u001b[0;34m(\u001b[0m\u001b[0mhtf\u001b[0m\u001b[0;34m,\u001b[0m \u001b[0mis_solvated\u001b[0m\u001b[0;34m=\u001b[0m\u001b[0;32mTrue\u001b[0m\u001b[0;34m)\u001b[0m\u001b[0;34m\u001b[0m\u001b[0;34m\u001b[0m\u001b[0m\n\u001b[0m",
      "\u001b[0;31mTypeError\u001b[0m: cannot unpack non-iterable NoneType object"
     ]
    }
   ],
   "source": [
    "energies_other, energies_hybrid = test_nb_energies(htf, is_solvated=True)"
   ]
  },
  {
   "cell_type": "code",
   "execution_count": 115,
   "id": "e8c1571a",
   "metadata": {},
   "outputs": [
    {
     "name": "stderr",
     "output_type": "stream",
     "text": [
      "DEBUG:matplotlib:matplotlib data path: /home/zhangi/miniconda3/envs/perses-rest-over-protocol/lib/python3.8/site-packages/matplotlib/mpl-data\n",
      "DEBUG:matplotlib:CONFIGDIR=/home/zhangi/.config/matplotlib\n",
      "DEBUG:matplotlib:matplotlib version 3.4.3\n",
      "DEBUG:matplotlib:interactive is False\n",
      "DEBUG:matplotlib:platform is linux\n",
      "DEBUG:matplotlib:loaded modules: ['sys', 'builtins', '_frozen_importlib', '_imp', '_warnings', '_io', 'marshal', 'posix', '_frozen_importlib_external', '_thread', '_weakref', 'time', 'zipimport', '_codecs', 'codecs', 'encodings.aliases', 'encodings', 'encodings.utf_8', '_signal', '__main__', 'encodings.latin_1', '_abc', 'abc', 'io', '_stat', 'stat', '_collections_abc', 'genericpath', 'posixpath', 'os.path', 'os', '_sitebuiltins', '_locale', '_bootlocale', 'types', 'importlib._bootstrap', 'importlib._bootstrap_external', 'warnings', 'importlib', 'importlib.machinery', 'importlib.abc', '_operator', 'operator', 'keyword', '_heapq', 'heapq', 'itertools', 'reprlib', '_collections', 'collections', '_functools', 'functools', 'contextlib', 'importlib.util', 'mpl_toolkits', 'sphinxcontrib', 'sitecustomize', 'site', '_weakrefset', 'weakref', 'pkgutil', 'runpy', 'ipykernel._version', 'enum', '_sre', 'sre_constants', 'sre_parse', 'sre_compile', 'copyreg', 're', '_json', 'json.scanner', 'json.decoder', 'json.encoder', 'json', 'errno', 'signal', 'threading', '_posixsubprocess', 'select', 'collections.abc', 'math', 'selectors', 'subprocess', 'ipython_genutils._version', 'ipython_genutils', 'fnmatch', 'zlib', '_compression', '_bz2', 'bz2', '_lzma', 'lzma', 'pwd', 'grp', 'shutil', '_bisect', 'bisect', '_sha512', '_random', 'random', 'locale', 'ipython_genutils.encoding', 'platform', 'ipython_genutils.py3compat', 'ipython_genutils.path', 'jupyter_client._version', 'glob', '_socket', 'socket', 'tempfile', 'termios', 'getpass', '_ctypes', '_struct', 'struct', 'ctypes._endian', 'ctypes', 'typing.io', 'typing.re', 'typing', 'zmq.backend.select', 'cython_runtime', 'zmq.backend.cython.constants', '_cython_0_29_24', 'zmq.backend.cython.error', 'zmq.error', 'zmq.backend.cython.message', 'zmq.backend.cython.context', 'copy', '_compat_pickle', '_pickle', 'pickle', 'zmq.backend.cython.socket', 'zmq.backend.cython.utils', 'zmq.backend.cython._poll', 'zmq.backend.cython._version', 'zmq.backend.cython._device', 'zmq.backend.cython._proxy_steerable', 'zmq.backend.cython', 'zmq.backend', 'zmq.utils', 'zmq.utils.constant_names', 'zmq.sugar.constants', 'atexit', 'zmq.sugar.attrsettr', 'zmq.sugar.poll', 'zmq.utils.jsonapi', 'zmq.utils.strtypes', 'zmq.sugar.socket', 'zmq.sugar.context', 'zmq.sugar.frame', 'zmq.sugar.tracker', 'zmq.sugar.version', 'zmq.sugar.stopwatch', 'zmq.sugar', 'zmq', '_ast', 'ast', '_opcode', 'opcode', 'dis', 'token', 'tokenize', 'linecache', 'inspect', 'traitlets.utils', 'traitlets.utils.getargspec', 'traitlets.utils.importstring', 'traitlets.utils.sentinel', 'traitlets.utils.bunch', 'traitlets.utils.descriptions', 'traitlets.traitlets', 'traitlets.utils.decorators', 'traitlets._version', 'traitlets', 'traceback', '_string', 'string', 'logging', 'pprint', 'gettext', 'argparse', 'traitlets.config.loader', 'textwrap', 'ipython_genutils.text', 'traitlets.config.configurable', 'traitlets.config.application', 'traitlets.config', 'jupyter_client.localinterfaces', 'jupyter_core.version', 'jupyter_core', 'jupyter_core.paths', 'jupyter_client.utils', 'jupyter_client.connect', 'traitlets.log', 'jupyter_client.launcher', 'concurrent', 'concurrent.futures._base', 'concurrent.futures', '_ssl', 'binascii', 'base64', 'ssl', 'asyncio.constants', 'asyncio.format_helpers', 'asyncio.base_futures', 'asyncio.log', 'asyncio.coroutines', '_contextvars', 'contextvars', 'asyncio.exceptions', 'asyncio.base_tasks', '_asyncio', 'asyncio.events', 'asyncio.futures', 'asyncio.protocols', 'asyncio.transports', 'asyncio.sslproto', 'asyncio.locks', 'asyncio.tasks', 'asyncio.staggered', 'asyncio.trsock', 'asyncio.base_events', 'asyncio.runners', 'asyncio.queues', 'asyncio.streams', 'asyncio.subprocess', 'asyncio.base_subprocess', 'asyncio.selector_events', 'asyncio.unix_events', 'asyncio', 'jupyter_client.channelsabc', 'jupyter_client.channels', 'jupyter_client.clientabc', 'jupyter_client.client', 'jupyter_client.kernelspec', 'jupyter_client.managerabc', 'jupyter_client.manager', '_queue', 'queue', 'jupyter_client.blocking.channels', 'jupyter_client.blocking.client', 'jupyter_client.blocking', 'zmq._future', 'zmq.asyncio', 'jupyter_client.asynchronous.channels', 'jupyter_client.asynchronous.client', 'jupyter_client.asynchronous', 'uuid', 'jupyter_client.multikernelmanager', 'jupyter_client', 'ipykernel.connect', 'ipykernel', 'tornado', '_datetime', 'datetime', 'numbers', 'logging.handlers', 'html.entities', 'html', 'urllib', 'urllib.parse', 'array', 'tornado.speedups', 'tornado.util', 'tornado.escape', 'colorama.ansi', 'colorama.win32', 'colorama.winterm', 'colorama.ansitowin32', 'colorama.initialise', 'colorama', '_curses', 'curses', 'tornado.log', 'tornado.concurrent', 'tornado.ioloop', '__future__', 'tornado.platform', 'tornado.gen', 'tornado.platform.asyncio', 'zmq.eventloop.ioloop', 'zmq.eventloop', 'zmq.eventloop.zmqstream', 'IPython.core', 'IPython.core.getipython', 'IPython.core.release', 'sysconfig', '_sysconfigdata_x86_64_conda_cos6_linux_gnu', 'pydoc', 'bdb', 'IPython.utils', 'IPython.utils.ipstruct', 'IPython.utils.coloransi', 'pygments', 'IPython.utils.colorable', 'IPython.utils.PyColorize', 'IPython.utils.encoding', 'IPython.utils.py3compat', 'IPython.core.excolors', 'IPython.testing', 'IPython.testing.skipdoctest', 'cmd', 'codeop', 'code', 'pdb', 'IPython.core.debugger', 'IPython.core.display_trap', 'pexpect.exceptions', 'pexpect.utils', 'pexpect.expect', 'tty', 'pty', 'fcntl', 'resource', 'ptyprocess.util', 'ptyprocess.ptyprocess', 'ptyprocess', 'pexpect.spawnbase', 'pexpect.pty_spawn', 'pexpect.run', 'pexpect', 'shlex', 'IPython.utils._process_common', 'IPython.utils._process_posix', 'IPython.utils.process', 'IPython.utils.decorators', 'IPython.utils.path', 'IPython.utils.data', 'IPython.utils.terminal', 'IPython.core.ultratb', 'IPython.utils._sysinfo', 'IPython.utils.sysinfo', 'IPython.core.crashhandler', 'IPython.utils.importstring', 'IPython.paths', 'IPython.core.profiledir', 'IPython.core.application', 'IPython.terminal', '_hashlib', '_blake2', '_sha3', 'hashlib', 'IPython.core.compilerop', 'IPython.core.error', 'ntpath', 'pathlib', 'IPython.utils.text', 'IPython.core.magic_arguments', 'getopt', 'mimetypes', 'IPython.core.display', 'IPython.core.page', 'IPython.lib.security', 'IPython.lib', 'IPython.lib.pretty', 'IPython.utils.openpy', 'IPython.utils.dir2', 'IPython.utils.wildcard', 'pygments.lexers._mapping', 'pygments.modeline', 'pygments.plugin', 'pygments.util', 'pygments.lexers', 'pygments.filter', 'pygments.token', 'pygments.filters', 'pygments.regexopt', 'pygments.lexer', 'pygments.unistring', 'pygments.lexers.python', 'pygments.formatters._mapping', 'pygments.formatters', 'pygments.styles', 'pygments.formatter', 'pygments.formatters.html', 'IPython.core.oinspect', 'IPython.core.inputtransformer2', 'decorator', 'IPython.core.magic', 'pickleshare', 'IPython.core.autocall', 'IPython.core.macro', 'IPython.core.splitinput', 'IPython.core.prefilter', 'IPython.core.alias', 'IPython.core.builtin_trap', 'backcall.backcall', 'backcall', 'IPython.core.events', 'IPython.core.displayhook', 'IPython.core.displaypub', 'IPython.core.extensions', 'IPython.utils.sentinel', 'IPython.core.formatters', '_sqlite3', 'sqlite3.dbapi2', 'sqlite3', 'IPython.core.history', 'IPython.core.logger', 'IPython.core.payload', 'IPython.core.usage', 'IPython.lib.display', 'IPython.display', 'IPython.utils.capture', 'IPython.utils.io', 'IPython.core.hooks', 'IPython.utils.strdispatch', 'IPython.utils.syspathcontext', 'IPython.utils.tempdir', 'IPython.utils.contexts', 'IPython.core.async_helpers', 'IPython.core.interactiveshell', 'prompt_toolkit.application.current', 'prompt_toolkit.eventloop.utils', 'prompt_toolkit.eventloop.async_generator', 'wcwidth.table_wide', 'wcwidth.table_zero', 'wcwidth.unicode_versions', 'wcwidth.wcwidth', 'wcwidth', 'prompt_toolkit.utils', 'prompt_toolkit.eventloop.inputhook', 'prompt_toolkit.eventloop', 'prompt_toolkit.application.run_in_terminal', 'prompt_toolkit.selection', 'prompt_toolkit.clipboard.base', 'prompt_toolkit.clipboard.in_memory', 'prompt_toolkit.clipboard', 'prompt_toolkit.cache', 'prompt_toolkit.enums', 'prompt_toolkit.filters.base', 'prompt_toolkit.filters.app', 'prompt_toolkit.filters.cli', 'prompt_toolkit.filters.utils', 'prompt_toolkit.filters', 'prompt_toolkit.document', 'prompt_toolkit.auto_suggest', 'prompt_toolkit.data_structures', 'prompt_toolkit.styles.base', 'prompt_toolkit.styles.named_colors', 'prompt_toolkit.styles.style', 'prompt_toolkit.styles.defaults', 'prompt_toolkit.styles.pygments', 'colorsys', 'prompt_toolkit.styles.style_transformation', 'prompt_toolkit.styles', 'prompt_toolkit.output.color_depth', 'prompt_toolkit.output.base', 'prompt_toolkit.output.defaults', 'prompt_toolkit.output', 'prompt_toolkit.output.vt100', 'prompt_toolkit.mouse_events', 'prompt_toolkit.formatted_text.base', 'prompt_toolkit.formatted_text.ansi', 'xml', 'xml.dom.domreg', 'xml.dom', 'xml.dom.minicompat', 'xml.dom.NodeFilter', 'xml.dom.xmlbuilder', 'xml.dom.minidom', 'prompt_toolkit.formatted_text.html', 'prompt_toolkit.formatted_text.pygments', 'prompt_toolkit.formatted_text.utils', 'prompt_toolkit.formatted_text', 'prompt_toolkit.completion.base', 'prompt_toolkit.completion.deduplicate', 'prompt_toolkit.completion.filesystem', 'prompt_toolkit.completion.word_completer', 'prompt_toolkit.completion.fuzzy_completer', 'prompt_toolkit.completion.nested', 'prompt_toolkit.completion', 'prompt_toolkit.history', 'prompt_toolkit.keys', 'prompt_toolkit.key_binding.key_bindings', 'prompt_toolkit.key_binding.key_processor', 'prompt_toolkit.key_binding', 'prompt_toolkit.key_binding.vi_state', 'prompt_toolkit.search', 'prompt_toolkit.validation', 'prompt_toolkit.buffer', 'prompt_toolkit.input.base', 'prompt_toolkit.input.defaults', 'prompt_toolkit.input', 'prompt_toolkit.input.typeahead', 'prompt_toolkit.key_binding.bindings', 'prompt_toolkit.key_binding.bindings.scroll', 'prompt_toolkit.key_binding.bindings.page_navigation', 'prompt_toolkit.lexers.base', 'prompt_toolkit.lexers.pygments', 'prompt_toolkit.lexers', 'prompt_toolkit.layout.utils', 'prompt_toolkit.layout.processors', 'prompt_toolkit.layout.controls', 'prompt_toolkit.layout.dimension', 'prompt_toolkit.layout.margins', 'prompt_toolkit.layout.mouse_handlers', 'prompt_toolkit.layout.screen', 'prompt_toolkit.layout.containers', 'prompt_toolkit.layout.layout', 'prompt_toolkit.layout.menus', 'prompt_toolkit.layout.scrollable_pane', 'prompt_toolkit.layout', 'prompt_toolkit.key_binding.bindings.completion', 'prompt_toolkit.key_binding.bindings.named_commands', 'prompt_toolkit.key_binding.bindings.basic', 'prompt_toolkit.key_binding.bindings.cpr', 'prompt_toolkit.key_binding.bindings.emacs', 'prompt_toolkit.key_binding.bindings.mouse', 'prompt_toolkit.input.ansi_escape_sequences', 'prompt_toolkit.input.vt100_parser', 'prompt_toolkit.key_binding.digraphs', 'prompt_toolkit.key_binding.bindings.vi', 'prompt_toolkit.key_binding.defaults', 'prompt_toolkit.key_binding.emacs_state', 'prompt_toolkit.layout.dummy', 'prompt_toolkit.renderer', 'prompt_toolkit.application.application', 'prompt_toolkit.application.dummy', 'prompt_toolkit.application', 'prompt_toolkit.key_binding.bindings.focus', 'prompt_toolkit.widgets.toolbars', 'prompt_toolkit.widgets.base', 'prompt_toolkit.widgets.dialogs', 'prompt_toolkit.widgets.menus', 'prompt_toolkit.widgets', 'prompt_toolkit.shortcuts.dialogs', 'prompt_toolkit.shortcuts.progress_bar.formatters', 'prompt_toolkit.shortcuts.progress_bar.base', 'prompt_toolkit.shortcuts.progress_bar', 'prompt_toolkit.key_binding.bindings.auto_suggest', 'prompt_toolkit.key_binding.bindings.open_in_editor', 'prompt_toolkit.shortcuts.prompt', 'prompt_toolkit.shortcuts.utils', 'prompt_toolkit.shortcuts', 'prompt_toolkit', 'prompt_toolkit.patch_stdout', 'pygments.style', 'unicodedata', 'IPython.core.latex_symbols', 'IPython.utils.generics', 'parso.utils', 'parso.tree', 'parso.python', 'parso.python.token', 'parso.python.tokenize', 'parso.pgen2.grammar_parser', 'parso.pgen2.generator', 'parso.pgen2', 'parso.parser', 'parso._compatibility', 'difflib', 'parso.python.prefix', 'parso.python.tree', 'parso.python.parser', 'parso.python.diff', 'gc', 'parso.cache', 'parso.normalizer', 'parso.python.errors', 'parso.python.pep8', 'parso.file_io', 'parso.grammar', 'parso', 'jedi._compatibility', 'jedi.parser_utils', 'jedi.debug', 'jedi.settings', 'jedi.cache', 'jedi.file_io', 'jedi.inference.cache', 'jedi.inference.helpers', 'jedi.inference.utils', 'jedi.inference.base_value', 'jedi.inference.sys_path', 'jedi.inference.recursion', 'jedi.inference.flow_analysis', 'jedi.common', 'jedi.inference.lazy_value', 'jedi.inference.docstrings', 'jedi.plugins', 'jedi.inference.names', 'jedi.inference.filters', 'jedi.inference.compiled.getattr_static', 'jedi.inference.compiled.access', 'jedi.inference.signature', 'jedi.inference.context', 'jedi.inference.compiled.value', 'jedi.inference.compiled', 'jedi.inference.analysis', 'jedi.inference.gradual', 'jedi.inference.value.module', 'jedi.inference.value.dynamic_arrays', 'jedi.inference.value.iterable', 'jedi.inference.arguments', 'jedi.inference.parser_cache', 'jedi.inference.gradual.generics', 'jedi.inference.value.function', 'jedi.inference.value.klass', 'jedi.inference.value.instance', 'jedi.inference.value', 'jedi.inference.gradual.base', 'jedi.inference.gradual.type_var', 'jedi.inference.gradual.typing', 'jedi.inference.gradual.stub_value', 'jedi.inference.gradual.typeshed', 'jedi.inference.compiled.subprocess.functions', 'jedi.api.exceptions', 'jedi.inference.compiled.subprocess', 'jedi.inference.imports', 'jedi.inference.param', 'jedi.inference.gradual.annotation', 'jedi.inference.value.decorator', 'jedi.inference.syntax_tree', 'jedi.inference', 'jedi.inference.gradual.conversion', 'jedi.inference.compiled.mixed', 'pydoc_data', 'pydoc_data.topics', 'jedi.api.keywords', 'jedi.api.completion_cache', 'jedi.api.helpers', 'jedi.api.classes', 'jedi.api.interpreter', 'jedi.api.strings', 'jedi.api.file_name', 'jedi.api.completion', 'filecmp', 'jedi.api.environment', 'jedi.inference.references', 'jedi.api.project', 'jedi.api.errors', 'jedi.api.refactoring', 'jedi.api.refactoring.extract', 'jedi.inference.gradual.utils', 'jedi.api', 'jedi.plugins.stdlib', 'jedi.plugins.flask', 'jedi.plugins.pytest', 'jedi.plugins.django', 'jedi.plugins.registry', 'jedi', 'IPython.core.completer', 'IPython.terminal.ptutils', 'IPython.terminal.shortcuts', 'IPython.terminal.debugger', 'IPython.lib.clipboard', 'IPython.terminal.magics', 'IPython.terminal.pt_inputhooks', 'IPython.terminal.prompts', 'IPython.terminal.interactiveshell', 'IPython.core.magics.auto', 'IPython.core.magics.basic', 'email', 'http', 'email.errors', 'email.quoprimime', 'email.base64mime', 'quopri', 'email.encoders', 'email.charset', 'email.header', 'calendar', 'email._parseaddr', 'email.utils', 'email._policybase', 'email.feedparser', 'email.parser', 'uu', 'email._encoded_words', 'email.iterators', 'email.message', 'http.client', 'urllib.response', 'urllib.error', 'urllib.request', 'IPython.core.magics.code', 'IPython.core.magics.config', 'IPython.core.magics.display', 'timeit', '_lsprof', 'profile', 'cProfile', 'pstats', 'IPython.utils.module_paths', 'IPython.utils.timing', 'IPython.core.magics.execution', 'IPython.core.magics.extension', 'IPython.core.magics.history', 'IPython.core.magics.logging', 'IPython.core.magics.namespace', 'IPython.core.magics.osm', 'IPython.core.magics.packaging', 'IPython.core.pylabtools', 'IPython.core.magics.pylab', 'IPython.lib.backgroundjobs', 'IPython.core.magics.script', 'IPython.core.magics', 'IPython.core.shellapp', 'IPython.extensions', 'IPython.extensions.storemagic', 'IPython.terminal.ipapp', 'IPython.terminal.embed', 'IPython.utils.frame', 'IPython', 'imp', 'hmac', 'dateutil._version', 'dateutil', 'six', '_decimal', 'decimal', 'dateutil._common', 'dateutil.relativedelta', 'six.moves', 'dateutil.tz._common', 'dateutil.tz._factories', 'dateutil.tz.tz', 'dateutil.tz', 'dateutil.parser._parser', 'dateutil.parser.isoparser', 'dateutil.parser', '_strptime', 'jupyter_client.jsonutil', 'jupyter_client.adapter', 'jupyter_client.session', 'ipykernel.iostream', 'ipykernel.control', 'ipykernel.heartbeat', 'IPython.utils.tokenutil', 'tornado.locks', 'tornado.queues', 'ipykernel.jsonutil', 'ipykernel.kernelbase', 'ipykernel.comm.comm', 'ipykernel.comm.manager', 'ipykernel.comm', 'IPython.core.payloadpage', 'ipykernel.displayhook', 'ipykernel.zmqshell', 'distutils', 'distutils.version', 'ipykernel.eventloops', 'ipykernel.compiler', 'ipykernel.debugger', 'ipykernel.ipkernel', 'ipykernel.parentpoller', 'ipykernel.kernelapp', 'faulthandler', 'IPython.core.completerlib', 'storemagic', 'numpy._globals', 'numpy.__config__', 'numpy._version', 'numpy._distributor_init', 'numpy.version', 'numpy.core._multiarray_umath', 'numpy.compat._inspect', 'numpy.compat.py3k', 'numpy.compat', 'numpy.core.overrides', 'numpy.core.multiarray', 'numpy.core.umath', 'numpy.core._string_helpers', 'numpy.core._dtype', 'numpy.core._type_aliases', 'numpy.core.numerictypes', 'numpy.core._exceptions', 'numpy.core._methods', 'numpy.core.fromnumeric', 'numpy.core.shape_base', 'numpy.core._ufunc_config', 'numpy.core.arrayprint', 'numpy.core._asarray', 'numpy.core.numeric', 'numpy.core.defchararray', 'numpy.core.records', 'numpy.core.memmap', 'numpy.core.function_base', 'numpy.core.machar', 'numpy.core.getlimits', 'numpy.core.einsumfunc', 'numpy.core._multiarray_tests', 'numpy.core._add_newdocs', 'numpy.core._add_newdocs_scalars', 'numpy.core._dtype_ctypes', 'numpy.core._internal', 'numpy._pytesttester', 'numpy.core', 'numpy.lib.mixins', 'numpy.lib.ufunclike', 'numpy.lib.type_check', 'numpy.lib.scimath', 'numpy.lib.stride_tricks', 'numpy.lib.twodim_base', 'numpy.linalg.lapack_lite', 'numpy.linalg._umath_linalg', 'numpy.linalg.linalg', 'numpy.linalg', 'numpy.matrixlib.defmatrix', 'numpy.matrixlib', 'numpy.lib.histograms', 'numpy.lib.function_base', 'numpy.lib.index_tricks', 'numpy.lib.nanfunctions', 'numpy.lib.shape_base', 'numpy.lib.polynomial', 'numpy.lib.utils', 'numpy.lib.arraysetops', 'numpy.lib.format', 'numpy.lib._datasource', 'numpy.lib._iotools', 'numpy.lib.npyio', 'numpy.lib.arrayterator', 'numpy.lib.arraypad', 'numpy.lib._version', 'numpy.lib', 'numpy.fft._pocketfft_internal', 'numpy.fft._pocketfft', 'numpy.fft.helper', 'numpy.fft', 'numpy.polynomial.polyutils', 'numpy.polynomial._polybase', 'numpy.polynomial.polynomial', 'numpy.polynomial.chebyshev', 'numpy.polynomial.legendre', 'numpy.polynomial.hermite', 'numpy.polynomial.hermite_e', 'numpy.polynomial.laguerre', 'numpy.polynomial', 'numpy.random._common', 'secrets', 'numpy.random.bit_generator', 'numpy.random._bounded_integers', 'numpy.random._mt19937', 'numpy.random.mtrand', 'numpy.random._philox', 'numpy.random._pcg64', 'numpy.random._sfc64', 'numpy.random._generator', 'numpy.random._pickle', 'numpy.random', 'numpy.ctypeslib', 'numpy.ma.core', 'numpy.ma.extras', 'numpy.ma', 'numpy', 'scipy._lib._testutils', 'scipy._lib', 'scipy._lib.deprecation', 'scipy.__config__', 'scipy.version', 'scipy._distributor_init', 'scipy._lib._pep440', 'scipy._lib._ccallback_c', 'scipy._lib._ccallback', 'scipy', 'scipy.special.sf_error', 'scipy.special._ufuncs_cxx', 'scipy.special._ufuncs', 'scipy.special.specfun', 'scipy.linalg._fblas', 'scipy.linalg.blas', 'scipy.linalg._flapack', 'scipy._lib._util', 'scipy.linalg.lapack', 'scipy.linalg.misc', 'scipy.linalg._flinalg', 'scipy.linalg.flinalg', 'scipy.linalg.decomp', 'scipy.linalg.decomp_svd', 'scipy.linalg._solve_toeplitz', 'scipy.linalg.basic', 'scipy.linalg.decomp_lu', 'scipy.linalg._decomp_ldl', 'scipy.linalg.decomp_cholesky', 'scipy.linalg.decomp_qr', 'scipy.linalg._decomp_qz', 'scipy.linalg.decomp_schur', 'scipy.linalg._decomp_polar', 'scipy.linalg.special_matrices', 'scipy.linalg._expm_frechet', 'scipy.linalg._matfuncs_sqrtm_triu', 'scipy.linalg._matfuncs_sqrtm', 'scipy.linalg.matfuncs', 'scipy.linalg._solvers', 'scipy.linalg._procrustes', 'scipy.linalg.cython_blas', 'scipy.linalg.cython_lapack', 'scipy.linalg._decomp_update', 'scipy.sparse.sputils', 'scipy.sparse.base', 'scipy.sparse._sparsetools', 'scipy.sparse.data', 'scipy.sparse.dia', 'scipy.sparse._index', 'scipy.sparse.compressed', 'scipy.sparse.csr', 'scipy.sparse.csc', 'scipy.sparse._csparsetools', 'scipy.sparse.lil', 'scipy.sparse.dok', 'scipy.sparse.coo', 'scipy.sparse.bsr', 'scipy.sparse.construct', 'scipy.sparse.extract', 'scipy.sparse._matrix_io', 'scipy.sparse.csgraph._laplacian', 'scipy.sparse.csgraph._tools', 'scipy.sparse.csgraph._validation', 'scipy.sparse.csgraph._shortest_path', 'scipy.sparse.csgraph._traversal', 'scipy.sparse.csgraph._min_spanning_tree', 'scipy.sparse.csgraph._flow', 'scipy.sparse.csgraph._matching', 'scipy.sparse.csgraph._reordering', 'scipy.sparse.csgraph', 'scipy.sparse', 'scipy.linalg._sketches', 'scipy.linalg._decomp_cossin', 'scipy.linalg', 'scipy.special.orthogonal', 'scipy.special._comb', 'scipy.special._basic', 'scipy.special._logsumexp', 'scipy.special.spfun_stats', 'scipy.special._ellip_harm_2', 'scipy.special._ellip_harm', 'scipy.special._lambertw', 'scipy.special._spherical_bessel', 'scipy.special', 'scipy.integrate._quadrature', 'scipy.integrate._odepack', 'scipy.integrate.odepack', 'scipy.integrate._quadpack', 'scipy.integrate.quadpack', 'scipy.integrate.vode', 'scipy.integrate._dop', 'scipy.integrate.lsoda', 'scipy.integrate._ode', 'scipy.sparse.linalg.isolve._iterative', 'scipy.sparse.linalg.interface', 'scipy.sparse.linalg.isolve.utils', 'scipy._lib.decorator', 'scipy._lib._threadsafety', 'scipy.sparse.linalg.isolve.iterative', 'scipy.sparse.linalg.isolve.minres', 'scipy.sparse.linalg.isolve._gcrotmk', 'scipy.sparse.linalg.isolve.lgmres', 'scipy.sparse.linalg.isolve.lsqr', 'scipy.sparse.linalg.isolve.lsmr', 'scipy.sparse.linalg.isolve', 'scipy.sparse.linalg.dsolve._superlu', 'scipy.sparse.linalg.dsolve.linsolve', 'scipy.sparse.linalg.dsolve._add_newdocs', 'scipy.sparse.linalg.dsolve', 'scipy.sparse.linalg.eigen.arpack._arpack', 'scipy.sparse.linalg.eigen.lobpcg.lobpcg', 'scipy.sparse.linalg.eigen.lobpcg', 'scipy.sparse.linalg.eigen.arpack.arpack', 'scipy.sparse.linalg.eigen.arpack', 'scipy.sparse.linalg.eigen', 'scipy.sparse.linalg._expm_multiply', 'scipy.sparse.linalg.matfuncs', 'scipy.sparse.linalg._onenormest', 'scipy.sparse.linalg._norm', 'scipy.sparse.linalg', 'scipy.optimize.minpack2', 'scipy.optimize.linesearch', 'scipy.optimize._group_columns', 'scipy.optimize._numdiff', 'scipy.optimize._hessian_update_strategy', 'scipy.optimize._differentiable_functions', 'scipy.optimize.optimize', 'scipy.optimize._trustregion', 'scipy.optimize._trustregion_dogleg', 'scipy.optimize._trustregion_ncg', 'scipy._lib.messagestream', 'scipy.optimize._trlib._trlib', 'scipy.optimize._trlib', 'scipy.optimize._trustregion_krylov', 'scipy.optimize._trustregion_exact', 'unittest.util', 'unittest.result', 'unittest.case', 'unittest.async_case', 'unittest.suite', 'unittest.loader', 'unittest.signals', 'unittest.runner', 'unittest.main', 'unittest', 'numpy.testing._private', 'numpy.testing._private.utils', 'numpy.testing._private.decorators', 'numpy.testing._private.nosetester', 'numpy.testing', 'scipy.optimize._constraints', 'scipy.optimize._trustregion_constr.projections', 'scipy.optimize._trustregion_constr.qp_subproblem', 'scipy.optimize._trustregion_constr.equality_constrained_sqp', 'scipy.optimize._trustregion_constr.canonical_constraint', 'scipy.optimize._trustregion_constr.tr_interior_point', 'scipy.optimize._trustregion_constr.report', 'scipy.optimize._trustregion_constr.minimize_trustregion_constr', 'scipy.optimize._trustregion_constr', 'scipy.optimize._lbfgsb', 'scipy.optimize.lbfgsb', 'scipy.optimize.moduleTNC', 'scipy.optimize.tnc', 'scipy.optimize._cobyla', 'scipy.optimize.cobyla', 'scipy.optimize._slsqp', 'scipy.optimize.slsqp', 'scipy.optimize._minimize', 'scipy.optimize._minpack', 'scipy.optimize._lsq.common', 'scipy.optimize._lsq.trf', 'scipy.optimize._lsq.dogbox', 'scipy.optimize._lsq.least_squares', 'scipy.optimize._lsq.givens_elimination', 'scipy.optimize._lsq.trf_linear', 'scipy.optimize._lsq.bvls', 'scipy.optimize._lsq.lsq_linear', 'scipy.optimize._lsq', 'scipy.optimize.minpack', 'scipy.optimize._spectral', 'scipy.optimize.nonlin', 'scipy.optimize._root', 'scipy.optimize._zeros', 'scipy.optimize.zeros', 'scipy.optimize._root_scalar', 'scipy.optimize.__nnls', 'scipy.optimize._nnls', 'scipy.optimize._basinhopping', 'scipy.optimize._highs', 'scipy.optimize._highs.cython.src._highs_wrapper', 'scipy.optimize._highs._highs_wrapper', 'scipy.optimize._highs.cython.src._highs_constants', 'scipy.optimize._highs._highs_constants', 'scipy.optimize._linprog_highs', 'scipy.linalg._interpolative', 'scipy.linalg._interpolative_backend', 'scipy.linalg.interpolative', 'scipy.optimize._remove_redundancy', 'scipy.optimize._linprog_util', 'scipy.optimize._linprog_ip', 'scipy.optimize._linprog_simplex', 'scipy.optimize._bglu_dense', 'scipy.optimize._linprog_rs', 'scipy.optimize._linprog_doc', 'scipy.optimize._linprog', 'scipy.optimize._lsap_module', 'scipy.optimize._lsap', 'scipy.optimize._differentialevolution', 'scipy.spatial.ckdtree', 'scipy.spatial.kdtree', 'scipy.spatial.qhull', 'scipy.spatial._voronoi', 'scipy.spatial._spherical_voronoi', 'scipy.spatial._plotutils', 'scipy.spatial._procrustes', 'dataclasses', 'scipy.spatial._distance_wrap', 'scipy.spatial._hausdorff', 'scipy.spatial._distance_pybind', 'scipy.spatial.distance', 'scipy.spatial._geometric_slerp', 'scipy.constants.codata', 'scipy.constants.constants', 'scipy.constants', 'scipy.spatial.transform._rotation_groups', 'scipy.spatial.transform.rotation', 'scipy.spatial.transform._rotation_spline', 'scipy.spatial.transform', 'scipy.spatial', 'scipy.optimize._shgo_lib', 'scipy.optimize._shgo_lib.triangulation', 'scipy.optimize._shgo', 'scipy.optimize._dual_annealing', 'scipy.optimize._qap', 'scipy.optimize', 'scipy.integrate._bvp', 'scipy.integrate._ivp.common', 'scipy.integrate._ivp.base', 'scipy.integrate._ivp.bdf', 'scipy.integrate._ivp.radau', 'scipy.integrate._ivp.dop853_coefficients', 'scipy.integrate._ivp.rk', 'scipy.integrate._ivp.lsoda', 'scipy.integrate._ivp.ivp', 'scipy.integrate._ivp', 'scipy.integrate._quad_vec', 'scipy.integrate', 'openmm.version', 'swig_runtime_data4', 'openmm._openmm', 'openmm.unit.mymatrix', 'openmm.unit.baseunit', 'openmm.unit.basedimension', 'openmm.unit.standard_dimensions', 'openmm.unit.unit', 'openmm.unit.quantity', 'openmm.unit.unit_operators', 'openmm.unit.prefix', 'openmm.unit.unit_definitions', 'openmm.unit.unit_math', 'openmm.unit.constants', 'openmm.unit', 'openmm.vec3', 'openmm.openmm', 'openmm.mtsintegrator', 'openmm.amd', 'openmm', 'simtk', 'xml.etree', 'xml.etree.ElementPath', 'pyexpat.errors', 'pyexpat.model', 'pyexpat', 'openmm.app.internal', 'openmm.app.internal.singleton', 'openmm.app.topology', 'openmm.app.element', 'openmm.app.internal.unitcell', 'openmm.app.internal.pdbstructure', 'openmm.app.pdbfile', 'openmm.app.internal.pdbx', 'openmm.app.internal.pdbx.reader', 'openmm.app.internal.pdbx.reader.PdbxContainers', 'openmm.app.internal.pdbx.reader.PdbxReader', 'openmm.app.pdbxfile', 'openmm.app.internal.compiled', 'openmm.app.forcefield', 'openmm.app.simulation', 'openmm.app.pdbreporter', 'openmm.app.internal.customgbforces', 'openmm.app.internal.amber_file_parser', 'openmm.app.amberprmtopfile', 'openmm.app.amberinpcrdfile', 'openmm.app.dcdfile', 'openmm.app.gromacsgrofile', 'distutils.errors', 'distutils.debug', 'distutils.log', 'distutils.spawn', 'openmm.app.gromacstopfile', 'openmm.app.dcdreporter', 'openmm.app.modeller', 'gzip', 'openmm.app.statedatareporter', 'openmm.app.desmonddmsfile', 'openmm.app.checkpointreporter', 'openmm.app.internal.charmm', 'openmm.app.internal.charmm.exceptions', 'openmm.app.charmmcrdfiles', 'openmm.app.internal.charmm._charmmfile', 'openmm.app.internal.charmm.topologyobjects', 'openmm.app.charmmparameterset', 'openmm.app.charmmpsffile', 'openmm.app.simulatedtempering', 'openmm.app.metadynamics', 'openmm.app', 'simtk.openmm.app', 'simtk.openmm', 'simtk.unit', 'openmmtools.constants', 'openmmtools.testsystems', 'openmmtools.respa', 'openmmtools.utils', 'openmmtools.integrators', 'openmmtools.forces', 'openmmtools.states', 'mdtraj.utils.delay_import', 'mdtraj.utils.six.moves', 'mdtraj.utils.six.moves.urllib_parse', 'mdtraj.utils.six.moves.urllib.parse', 'mdtraj.utils.six.moves.urllib_error', 'mdtraj.utils.six.moves.urllib.error', 'mdtraj.utils.six.moves.urllib_request', 'mdtraj.utils.six.moves.urllib.request', 'mdtraj.utils.six.moves.urllib_response', 'mdtraj.utils.six.moves.urllib.response', 'mdtraj.utils.six.moves.urllib_robotparser', 'mdtraj.utils.six.moves.urllib.robotparser', 'mdtraj.utils.six.moves.urllib', 'mdtraj.utils.six', 'mdtraj.utils.validation', 'mdtraj.utils.unit.basedimension', 'mdtraj.utils.unit.standard_dimensions', 'mdtraj.utils.unit.mymatrix', 'mdtraj.utils.unit.baseunit', 'mdtraj.utils.unit.unit', 'mdtraj.utils.unit.quantity', 'mdtraj.utils.unit.unit_operators', 'mdtraj.utils.unit.prefix', 'mdtraj.utils.unit.unit_definitions', 'mdtraj.utils.unit', 'mdtraj.utils.rotation', 'mdtraj.utils.unitcell', 'mdtraj.utils.contextmanagers', 'mdtraj.utils.zipped', 'mdtraj.utils', 'mdtraj.formats.registry', 'mdtraj.formats.arc', 'mdtraj.formats.dcd', 'mdtraj.formats.binpos', '_cython_0_29_23', 'xdrlib', 'mdtraj.formats.xtc', 'mdtraj.formats.trr', 'mdtraj.version', 'mdtraj.core', 'mdtraj.core.element', 'mdtraj.core.residue_names', 'pyparsing', 'astunparse.unparser', 'astunparse.printer', 'astunparse', 'mdtraj.core.selection', 'mdtraj.utils.singleton', 'mdtraj.core.topology', 'mdtraj.formats.hdf5', 'mdtraj.formats.netcdf', 'mdtraj.formats.pdb.pdbstructure', 'mdtraj.formats.pdb.pdbfile', 'mdtraj.formats.pdb', 'mdtraj.formats.lh5', 'mdtraj.formats.mdcrd', 'mdtraj.formats.amberrst', 'mdtraj.formats.lammpstrj', 'mdtraj.formats.dtr', 'mdtraj.formats.gro', 'mdtraj.formats.xyzfile', 'mdtraj.formats.tng', 'mdtraj.formats', 'mdtraj.formats.openmmxml', 'mdtraj.formats.prmtop', 'mdtraj.formats.psf', 'mdtraj.formats.mol2', 'xml.etree.cElementTree', 'mdtraj.formats.hoomdxml', 'mdtraj._rmsd', 'mdtraj._lprmsd', 'mdtraj.geometry.rg', 'mdtraj.geometry._geometry', 'mdtraj.geometry.distance', 'mdtraj.geometry.angle', 'mdtraj.geometry.dihedral', 'mdtraj.geometry.hbond', 'mdtraj.geometry.sasa', 'mdtraj.geometry.contact', '_cython_0_29_21', 'mdtraj.geometry.drid', 'mdtraj.geometry.dssp', 'mdtraj.geometry.neighbors', 'mdtraj.geometry.neighborlist', 'mdtraj.geometry.thermodynamic_properties', 'mdtraj.geometry.rdf', 'zipfile', 'xml.parsers', 'xml.parsers.expat.model', 'xml.parsers.expat.errors', 'xml.parsers.expat', 'plistlib', 'pkg_resources.extern', 'pkg_resources._vendor', 'pkg_resources._vendor.appdirs', 'pkg_resources.extern.appdirs', 'pkg_resources._vendor.packaging.__about__', 'pkg_resources._vendor.packaging', 'pkg_resources.extern.packaging', 'pkg_resources.extern.packaging._structures', 'pkg_resources.extern.packaging._typing', 'pkg_resources.extern.packaging.version', 'pkg_resources.extern.packaging._compat', 'pkg_resources.extern.packaging.utils', 'pkg_resources.extern.packaging.specifiers', 'pkg_resources._vendor.pyparsing', 'pkg_resources.extern.pyparsing', 'pkg_resources.extern.packaging.markers', 'pkg_resources.extern.packaging.requirements', 'encodings.cp437', 'pkg_resources', 'mdtraj.geometry.order', 'mdtraj.geometry.shape', 'mdtraj.geometry', 'mdtraj.formats.gsd', 'mdtraj.core.trajectory', 'mdtraj.nmr.shift_wrappers', 'mdtraj.nmr.scalar_couplings', 'mdtraj.nmr', 'mdtraj.reporters.basereporter', 'mdtraj.reporters.hdf5reporter', 'mdtraj.reporters.netcdfreporter', 'mdtraj.reporters.dcdreporter', 'mdtraj.reporters.xtcreporter', 'mdtraj.reporters', 'mdtraj', 'openmmtools.forcefactories', 'openmmtools.alchemy', 'openmmtools.cache', 'openmmtools.mcmc', 'yaml.error', 'yaml.tokens', 'yaml.events', 'yaml.nodes', 'yaml.reader', 'yaml.scanner', 'yaml.parser', 'yaml.composer', 'yaml.constructor', 'yaml.resolver', 'yaml.loader', 'yaml.emitter', 'yaml.serializer', 'yaml.representer', 'yaml.dumper', 'yaml._yaml', 'yaml.cyaml', 'yaml', 'netCDF4.utils', 'cftime._cftime', 'cftime', 'netCDF4._netCDF4', 'netCDF4', 'openmmtools.storage.iodrivers', 'openmmtools.storage.storageinterface', 'openmmtools.storage', 'mpiplus.mpiplus', 'mpiplus._version', 'mpiplus', 'numexpr.__config__', 'numexpr.interpreter', 'numexpr.expressions', 'numexpr.utils', 'numexpr.necompiler', 'numexpr.version', 'numexpr', 'pymbar.utils', 'pymbar.timeseries', 'pymbar.testsystems.harmonic_oscillators', 'pymbar.testsystems.exponential_distributions', 'pymbar.testsystems.timeseries', 'pymbar.testsystems.gaussian_work', 'pymbar.testsystems', 'scipy.ndimage._ni_support', 'scipy.ndimage._nd_image', 'scipy._lib.doccer', 'scipy.ndimage._ni_docstrings', 'scipy.ndimage.filters', 'scipy.ndimage.fourier', 'scipy.ndimage.interpolation', '_ni_label', 'scipy.ndimage._ni_label', 'scipy.ndimage.morphology', 'scipy.ndimage.measurements', 'scipy.ndimage', 'scipy.stats._distr_params', 'scipy.misc.doccer', 'scipy.misc.common', 'scipy.misc', 'scipy.stats._constants', 'scipy.stats._distn_infrastructure', 'scipy.interpolate._fitpack', 'scipy.interpolate.dfitpack', 'scipy.interpolate._fitpack_impl', 'scipy.interpolate._bspl', 'scipy.interpolate._bsplines', 'scipy.interpolate.fitpack', 'scipy.interpolate.polyint', 'scipy.interpolate._ppoly', 'scipy.interpolate.fitpack2', 'scipy.interpolate.interpnd', 'scipy.interpolate.interpolate', 'scipy.interpolate.rbf', 'scipy.interpolate._rbfinterp_pythran', 'scipy.interpolate._rbfinterp', 'scipy.interpolate._cubic', 'scipy.interpolate.ndgriddata', 'scipy.interpolate._pade', 'scipy.interpolate', 'scipy.special.cython_special', 'scipy.stats._stats', 'scipy.stats._rvs_sampling', 'scipy.stats._tukeylambda_stats', 'scipy.stats._ksstats', 'beta_ufunc', 'scipy.stats._boost.beta_ufunc', 'binom_ufunc', 'scipy.stats._boost.binom_ufunc', 'nbinom_ufunc', 'scipy.stats._boost.nbinom_ufunc', 'scipy.stats._boost', 'scipy.stats._continuous_distns', 'scipy.stats.biasedurn', 'scipy.stats._discrete_distns', 'scipy.stats._entropy', 'scipy.stats.distributions', 'scipy._lib._bunch', 'scipy.stats._stats_mstats_common', 'scipy.stats.mstats_basic', 'scipy.stats._wilcoxon_data', 'scipy.stats._hypotests', 'scipy.stats.stats', 'scipy.stats.statlib', 'scipy.stats._common', 'scipy.stats._relative_risk', 'scipy.stats._crosstab', 'scipy.stats.contingency', 'scipy.stats.morestats', 'scipy.stats._binomtest', 'scipy.stats._binned_statistic', 'scipy.stats.mvn', 'scipy.stats.kde', 'scipy.stats.mstats_extras', 'scipy.stats.mstats', 'scipy.stats._sobol', 'scipy.stats._qmc_cy', 'scipy.stats._qmc', 'scipy.stats.qmc', 'scipy.stats._multivariate', 'scipy.stats._bootstrap', 'scipy.stats._page_trend_test', 'scipy.stats._mannwhitneyu', 'scipy.stats', 'pymbar.confidenceintervals', 'pymbar.version', 'pymbar.mbar_solvers', 'pymbar.mbar', 'pymbar.exp', 'pymbar.bar', 'pymbar.old_mbar', 'pymbar', 'openmmtools.multistate.utils', 'openmmtools.multistate.multistatesampler', 'openmmtools.multistate.multistatereporter', 'numba._version', 'numba.misc', 'numba.misc.init_utils', 'numba.core', 'multiprocessing.process', 'multiprocessing.reduction', 'multiprocessing.context', '__mp_main__', 'multiprocessing', 'llvmlite._version', 'llvmlite', 'llvmlite.binding.common', 'llvmlite.utils', 'llvmlite.binding.ffi', 'llvmlite.binding.dylib', 'llvmlite.binding.targets', 'llvmlite.binding.object_file', 'llvmlite.binding.executionengine', 'llvmlite.binding.initfini', 'llvmlite.binding.linker', 'llvmlite.binding.value', 'llvmlite.binding.context', 'llvmlite.binding.module', 'llvmlite.binding.options', 'llvmlite.binding.passmanagers', 'llvmlite.binding.transforms', 'llvmlite.ir._utils', 'llvmlite.ir.types', 'llvmlite.ir.values', 'llvmlite.ir.context', 'llvmlite.ir.module', 'llvmlite.ir.instructions', 'llvmlite.ir.builder', 'llvmlite.ir.transforms', 'llvmlite.ir', 'llvmlite.binding.analysis', 'llvmlite.binding', 'numba.core.config', 'numba.testing.loader', 'numba.testing.main', 'numba.testing', 'numba.testing._runtests', 'numba.core.utils', 'numba.core.types.abstract', 'numba.core.types.common', 'numba.core.typeconv.castgraph', 'numba.core.typeconv', 'numba.core.errors', 'numba.core.types.misc', 'numba.core.types.containers', 'numba.core.types.functions', 'numba.core.types.iterators', 'numba.core.types.npytypes', 'numba.np', 'numba.np.npdatetime_helpers', 'numba.core.types.scalars', 'numba.core.types.function_type', 'numba.core.types', 'numba.core.typeconv._typeconv', 'numba.core.typeconv.typeconv', 'numba.core.typeconv.rules', 'numba.core.cpu_options', 'numba.core.typing.templates', 'numba.core.datamodel.manager', 'numba.core.datamodel.packer', 'numba.core.datamodel.registry', 'numba.core.datamodel.models', 'numba.core.datamodel', 'numba.core.cgutils', 'numba.np.numpy_support', 'numba.core.typing.typeof', 'numba.core.typing.context', 'numba.core.typing', 'numba.core.typing.asnumbatype', 'numba.misc.special', 'numba.stencils', 'numba.core.consts', 'numba.core.ir', 'numba.core.imputils', 'llvmlite.llvmpy', 'llvmlite.llvmpy.core', 'numba._helperlib', 'numba.core.debuginfo', 'numba.core.itanium_mangler', 'numba.core.funcdesc', 'numba.core.generators', 'numba.core.removerefctpass', 'numba._dynfunc', 'numba.core.serialize', 'numba.core.environment', 'numba.core.lowering', 'numba.core.pythonapi', 'numba.core.extending', 'numba.core.controlflow', 'numba.core.analysis', 'numba.core.transforms', 'numba.core.postproc', 'numba.core.rewrites.registry', 'numba.core.rewrites.static_getitem', 'numba.core.rewrites.static_raise', 'numba.core.rewrites.static_binop', 'numba.core.rewrites.ir_print', 'numba.core.rewrites', 'numba.core.ir_utils', 'numba.core.descriptors', 'numba._devicearray', 'numba._dispatcher', 'numba.core.tracing', 'numba.core.dataflow', 'numba.core.byteflow', 'numba.core.unsafe', 'numba.core.unsafe.eh', 'numba.cpython', 'numba.cpython.unsafe', 'numba.cpython.unsafe.tuple', 'numba.core.interpreter', 'numba.core.bytecode', 'numba.core.event', 'numba.core.compiler_lock', 'numba.misc.quicksort', 'numba.misc.mergesort', 'numba.cpython.slicing', 'numba.np.arrayobj', 'numba.core.typeinfer', 'numba.stencils.stencilparfor', 'numba.core.typing.npydecl', 'numba.np.unsafe', 'numba.np.unsafe.ndarray', 'numba.parfors.array_analysis', 'numba.parfors.parfor', 'numba.core.sigutils', 'numba.parfors.parfor_lowering_utils', 'numba.parfors.parfor_lowering', 'numba.parfors', 'numba.core.typing.builtins', 'numba.extending', 'numba.cpython.builtins', 'numba.core.base', 'numba.core.callconv', 'numba.core.callwrapper', 'llvmlite.llvmpy.passes', 'numba.core.runtime.nrtdynmod', 'numba.core.runtime._nrt_python', 'numba.core.runtime.nrt', 'numba.core.runtime', 'numba.core.runtime.nrtopt', 'numba.misc.inspection', 'numba.misc.llvm_pass_timings', 'numba.core.codegen', 'numba.core.intrinsics', 'numba.core.externals', 'numba.core.fastmathpass', 'numba.core.options', 'numba.core.entrypoints', 'numba.cpython.setobj', 'numba.cpython.listobj', 'numba.core.cpu', 'numba.cpython.rangeobj', 'numba.core.inline_closurecall', 'numba.core.compiler_machinery', 'numba.core.ssa', 'numba.core.untyped_passes', 'numba.core.annotations', 'numba.core.annotations.type_annotations', 'numba.core.typed_passes', 'numba.core.pylowering', 'numba.core.object_mode_passes', 'numba.core.compiler', 'numba.misc.appdirs', 'numba.core.caching', 'numba.core.dispatcher', 'numba.core.registry', 'numba.stencils.stencil', 'numba.core.decorators', 'numba.np.ufunc._internal', 'numba.np.ufunc.wrappers', 'numba.np.ufunc.sigparse', 'numba.np.ufunc.ufuncbuilder', 'numba.np.ufunc.parallel', 'numba.np.ufunc.dufunc', 'numba.np.ufunc.gufunc', 'numba.np.ufunc.decorators', 'numba.np.ufunc.array_exprs', 'numba.np.ufunc', 'numba.experimental.jitclass._box', 'numba.experimental.jitclass.base', 'numba.experimental.jitclass.decorators', 'numba.experimental.jitclass.boxing', 'numba.experimental.jitclass', 'numba.experimental', 'numba.core.withcontexts', 'numba.typed.typedobjectutils', 'numba.core.unsafe.bytes', 'numba.cpython.hashing', 'numba.cpython.unicode_support', 'numba.cpython.unicode', 'numba.typed.dictobject', 'numba.core.boxing', 'numba.cpython.charseq', 'numba.typed.dictimpl', 'numba.core.typing.ctypes_utils', 'numba.core.ccallback', 'numba.experimental.function_type', 'numba.typed.typeddict', 'numba.typed.listobject', 'numba.typed.typedlist', 'numba.typed', 'numba', 'openmmtools.multistate.multistateanalyzer', 'openmmtools.multistate.replicaexchange', 'openmmtools.multistate.paralleltempering', 'openmmtools.multistate.sams', 'openmmtools.multistate', 'openmmtools._version', 'openmmtools', 'perses._version', 'perses', 'perses.tests', 'networkx.exception', 'networkx.utils.misc', 'networkx.utils.decorators', 'networkx.utils.random_sequence', 'networkx.utils.union_find', 'networkx.utils.rcm', 'networkx.utils.heaps', 'networkx.utils.contextmanagers', 'networkx.utils', 'networkx.classes.coreviews', 'networkx.classes.reportviews', 'networkx.convert', 'networkx.classes.graph', 'networkx.classes.digraph', 'networkx.classes.multigraph', 'networkx.classes.multidigraph', 'networkx.classes.ordered', 'networkx.classes.filters', 'networkx.classes.graphviews', 'networkx.classes.function', 'networkx.classes', 'networkx.convert_matrix', 'networkx.relabel', 'networkx.generators.atlas', 'networkx.generators.classic', 'networkx.generators.cographs', 'networkx.generators.community', 'networkx.generators.degree_seq', 'networkx.generators.directed', 'networkx.generators.duplication', 'networkx.generators.ego', 'networkx.generators.expanders', 'networkx.generators.geometric', 'networkx.generators.internet_as_graphs', 'networkx.generators.intersection', 'networkx.generators.interval_graph', 'networkx.generators.joint_degree_seq', 'networkx.generators.lattice', 'networkx.generators.line', 'networkx.generators.mycielski', 'networkx.generators.nonisomorphic_trees', 'networkx.generators.random_clustered', 'networkx.generators.random_graphs', 'networkx.generators.small', 'networkx.generators.social', 'networkx.generators.sudoku', 'networkx.generators.spectral_graph_forge', 'networkx.generators.stochastic', 'networkx.generators.trees', 'networkx.generators.triads', 'networkx.generators', 'networkx.readwrite.adjlist', 'networkx.readwrite.multiline_adjlist', 'networkx.readwrite.edgelist', 'networkx.readwrite.gpickle', 'networkx.readwrite.pajek', 'networkx.readwrite.leda', 'networkx.readwrite.graph6', 'networkx.readwrite.sparse6', 'networkx.readwrite.gml', 'networkx.readwrite.graphml', 'networkx.readwrite.gexf', 'networkx.readwrite.nx_shp', 'networkx.readwrite.json_graph.node_link', 'networkx.readwrite.json_graph.adjacency', 'networkx.readwrite.json_graph.tree', 'networkx.readwrite.json_graph.jit', 'networkx.readwrite.json_graph.cytoscape', 'networkx.readwrite.json_graph', 'networkx.readwrite.text', 'networkx.readwrite', 'networkx.algorithms.assortativity.connectivity', 'networkx.algorithms.assortativity.pairs', 'networkx.algorithms.assortativity.mixing', 'networkx.algorithms.assortativity.correlation', 'networkx.algorithms.assortativity.neighbor_degree', 'networkx.algorithms.assortativity', 'networkx.algorithms.asteroidal', 'networkx.algorithms.boundary', 'networkx.algorithms.bridges', 'networkx.algorithms.chains', 'networkx.algorithms.centrality.betweenness', 'networkx.algorithms.centrality.betweenness_subset', 'networkx.algorithms.centrality.closeness', 'networkx.algorithms.centrality.subgraph_alg', 'networkx.algorithms.centrality.flow_matrix', 'networkx.algorithms.centrality.current_flow_closeness', 'networkx.algorithms.centrality.current_flow_betweenness', 'networkx.algorithms.centrality.current_flow_betweenness_subset', 'networkx.algorithms.centrality.degree_alg', 'networkx.algorithms.centrality.dispersion', 'networkx.algorithms.centrality.eigenvector', 'networkx.algorithms.centrality.group', 'networkx.algorithms.centrality.harmonic', 'networkx.algorithms.centrality.katz', 'networkx.algorithms.centrality.load', 'networkx.algorithms.centrality.reaching', 'networkx.algorithms.centrality.percolation', 'networkx.algorithms.centrality.second_order', 'networkx.algorithms.centrality.trophic', 'networkx.algorithms.centrality.voterank_alg', 'networkx.algorithms.centrality', 'networkx.algorithms.components.connected', 'networkx.algorithms.components.strongly_connected', 'networkx.algorithms.components.weakly_connected', 'networkx.algorithms.components.attracting', 'networkx.algorithms.components.biconnected', 'networkx.algorithms.components.semiconnected', 'networkx.algorithms.components', 'networkx.algorithms.chordal', 'networkx.algorithms.cluster', 'networkx.algorithms.clique', 'networkx.algorithms.communicability_alg', 'networkx.algorithms.coloring.greedy_coloring_with_interchange', 'networkx.algorithms.coloring.greedy_coloring', 'networkx.algorithms.coloring.equitable_coloring', 'networkx.algorithms.coloring', 'networkx.algorithms.core', 'networkx.algorithms.covering', 'networkx.algorithms.cycles', 'networkx.algorithms.cuts', 'networkx.algorithms.d_separation', 'networkx.algorithms.dag', 'networkx.algorithms.distance_measures', 'networkx.algorithms.distance_regular', 'networkx.algorithms.dominance', 'networkx.algorithms.dominating', 'networkx.algorithms.efficiency_measures', 'networkx.algorithms.euler', 'networkx.algorithms.graphical', 'networkx.algorithms.hierarchy', 'networkx.algorithms.hybrid', 'networkx.algorithms.link_analysis.pagerank_alg', 'networkx.algorithms.link_analysis.hits_alg', 'networkx.algorithms.link_analysis', 'networkx.algorithms.link_prediction', 'networkx.algorithms.lowest_common_ancestors', 'networkx.algorithms.isolate', 'networkx.algorithms.matching', 'networkx.algorithms.minors.contraction', 'networkx.algorithms.minors', 'networkx.algorithms.mis', 'networkx.algorithms.moral', 'networkx.algorithms.non_randomness', 'networkx.algorithms.operators.all', 'networkx.algorithms.operators.binary', 'networkx.algorithms.operators.product', 'networkx.algorithms.operators.unary', 'networkx.algorithms.operators', 'networkx.algorithms.planarity', 'networkx.algorithms.planar_drawing', 'networkx.algorithms.reciprocity', 'networkx.algorithms.regular', 'networkx.algorithms.richclub', 'networkx.algorithms.shortest_paths.generic', 'networkx.algorithms.shortest_paths.unweighted', 'networkx.algorithms.shortest_paths.weighted', 'networkx.algorithms.shortest_paths.astar', 'networkx.algorithms.shortest_paths.dense', 'networkx.algorithms.shortest_paths', 'networkx.algorithms.similarity', 'networkx.algorithms.graph_hashing', 'networkx.algorithms.simple_paths', 'networkx.algorithms.smallworld', 'networkx.algorithms.smetric', 'networkx.algorithms.structuralholes', 'networkx.algorithms.sparsifiers', 'networkx.algorithms.summarization', 'networkx.algorithms.swap', 'networkx.algorithms.traversal.breadth_first_search', 'networkx.algorithms.traversal.beamsearch', 'networkx.algorithms.traversal.depth_first_search', 'networkx.algorithms.traversal.edgedfs', 'networkx.algorithms.traversal.edgebfs', 'networkx.algorithms.traversal', 'networkx.algorithms.triads', 'networkx.algorithms.vitality', 'networkx.algorithms.voronoi', 'networkx.algorithms.wiener', 'networkx.algorithms.approximation.clustering_coefficient', 'networkx.algorithms.approximation.ramsey', 'networkx.algorithms.approximation.clique', 'networkx.algorithms.approximation.connectivity', 'networkx.algorithms.approximation.distance_measures', 'networkx.algorithms.approximation.dominating_set', 'networkx.algorithms.approximation.kcomponents', 'networkx.algorithms.approximation.matching', 'networkx.algorithms.approximation.steinertree', 'networkx.algorithms.approximation.traveling_salesman', 'networkx.algorithms.approximation.treewidth', 'networkx.algorithms.approximation.vertex_cover', 'networkx.algorithms.approximation.maxcut', 'networkx.algorithms.approximation', 'networkx.algorithms.bipartite.basic', 'networkx.algorithms.bipartite.centrality', 'networkx.algorithms.bipartite.cluster', 'networkx.algorithms.bipartite.matrix', 'networkx.algorithms.bipartite.matching', 'networkx.algorithms.bipartite.covering', 'networkx.algorithms.bipartite.edgelist', 'networkx.algorithms.bipartite.projection', 'networkx.algorithms.bipartite.redundancy', 'networkx.algorithms.bipartite.spectral', 'networkx.algorithms.bipartite.generators', 'networkx.algorithms.bipartite', 'networkx.algorithms.node_classification.utils', 'networkx.algorithms.node_classification.hmn', 'networkx.algorithms.node_classification.lgc', 'networkx.algorithms.node_classification', 'networkx.algorithms.community.asyn_fluid', 'networkx.algorithms.community.centrality', 'networkx.algorithms.community.kclique', 'networkx.algorithms.community.community_utils', 'networkx.algorithms.community.kernighan_lin', 'networkx.algorithms.community.label_propagation', 'networkx.algorithms.community.lukes', 'networkx.algorithms.community.quality', 'networkx.utils.mapped_queue', 'networkx.algorithms.community.modularity_max', 'networkx.algorithms.community', 'networkx.algorithms.flow.utils', 'networkx.algorithms.flow.boykovkolmogorov', 'networkx.algorithms.flow.dinitz_alg', 'networkx.algorithms.flow.edmondskarp', 'networkx.algorithms.flow.preflowpush', 'networkx.algorithms.flow.shortestaugmentingpath', 'networkx.algorithms.flow.maxflow', 'networkx.algorithms.flow.mincost', 'networkx.algorithms.flow.gomory_hu', 'networkx.algorithms.flow.capacityscaling', 'networkx.algorithms.flow.networksimplex', 'networkx.algorithms.flow', 'networkx.algorithms.isomorphism.isomorph', 'networkx.algorithms.isomorphism.isomorphvf2', 'networkx.algorithms.isomorphism.vf2userfunc', 'networkx.algorithms.isomorphism.matchhelpers', 'networkx.algorithms.isomorphism.temporalisomorphvf2', 'networkx.algorithms.isomorphism.ismags', 'networkx.algorithms.isomorphism.tree_isomorphism', 'networkx.algorithms.isomorphism', 'networkx.algorithms.tournament', 'networkx.algorithms.tree.recognition', 'networkx.algorithms.tree.branchings', 'networkx.algorithms.tree.coding', 'networkx.algorithms.tree.mst', 'networkx.algorithms.tree.operations', 'networkx.algorithms.tree.decomposition', 'networkx.algorithms.tree', 'networkx.algorithms.connectivity.utils', 'networkx.algorithms.connectivity.connectivity', 'networkx.algorithms.connectivity.cuts', 'networkx.algorithms.connectivity.edge_augmentation', 'networkx.algorithms.connectivity.edge_kcomponents', 'networkx.algorithms.connectivity.disjoint_paths', 'networkx.algorithms.connectivity.kcomponents', 'networkx.algorithms.connectivity.kcutsets', 'networkx.algorithms.connectivity.stoerwagner', 'networkx.algorithms.connectivity', 'networkx.algorithms', 'networkx.linalg.attrmatrix', 'networkx.linalg.spectrum', 'networkx.linalg.graphmatrix', 'networkx.linalg.laplacianmatrix', 'networkx.linalg.algebraicconnectivity', 'networkx.linalg.modularitymatrix', 'networkx.linalg.bethehessianmatrix', 'networkx.linalg', 'networkx.testing.utils', 'networkx.testing.test', 'networkx.testing', 'networkx.drawing.layout', 'networkx.drawing.nx_pylab', 'networkx.drawing.nx_agraph', 'networkx.drawing.nx_pydot', 'networkx.drawing', 'networkx', 'perses.storage.storage', 'perses.storage', 'perses.rjmc.geometry', 'numba.cpython.tupleobj', 'numba.cpython.enumimpl', 'numba.cpython.heapq', 'numba.cpython.iterators', 'numba.core.optional', 'numba.cpython.unsafe.numbers', 'numba.cpython.numbers', 'numba.misc.gdb_hook', 'numba.misc.literal', 'numba.np.linalg', 'numba.np.polynomial', 'numba.np.arraymath', 'cmath', 'numba.cpython.mathimpl', 'numba.cpython.cmathimpl', 'numba.np.npyfuncs', 'numba.np.npdatetime', 'numba.np.ufunc_db', 'numba.np.npyimpl', 'numba.cpython.printimpl', 'numba.cpython.randomimpl', 'numba.misc.cffiimpl', 'cffi.lock', 'cffi.error', 'cffi.model', 'cffi.api', 'cffi', '_cffi_backend', 'cffi.commontypes', 'pycparser.ply', 'pycparser.ply.yacc', 'pycparser.c_ast', 'pycparser.ply.lex', 'pycparser.c_lexer', 'pycparser.plyparser', 'pycparser.ast_transforms', 'pycparser.c_parser', 'pycparser', 'cffi.cparser', 'numba.core.typing.cffi_utils', 'numba.core.typing.cmathdecl', 'numba.core.typing.enumdecl', 'numba.core.typing.collections', 'numba.core.typing.listdecl', 'numba.core.typing.mathdecl', 'numba.core.typing.randomdecl', 'numba.core.typing.setdecl', 'numba.core.typing.dictdecl', 'numba.core.typing.arraydecl', 'numba.core.typing.npdatetime', 'numba.core.typing.bufproto', 'numba.core.runtime.context', 'perses.rjmc.coordinate_numba', 'perses.rjmc.coordinate_tools', 'openmoltools.amber_parser', 'openmoltools.system_checker', 'openmoltools.utils', 'openmoltools.packmol', 'openmoltools.amber', 'openmoltools.openeye', 'six.moves.urllib', 'openmoltools.cirpy', 'parmed._version', 'parmed.exceptions', 'parmed.periodic_table', 'parmed.residue', 'parmed.unit', 'parmed.utils.pairlist', 'parmed.constants', 'parmed.vec3', 'parmed.geometry', 'parmed.topologyobjects', 'parmed.utils', 'parmed.utils.decorators', 'parmed.structure', 'parmed.utils.io', 'parmed.formats.registry', 'parmed.modeller.residue', 'parmed.amber.offlib', 'parmed.modeller.standardtemplates', 'parmed.modeller', 'parmed.formats.mol2', 'ftplib', 'parmed.formats.pdbx.PdbxContainers', 'parmed.formats.pdbx.PdbxReader', 'parmed.formats.pdbx.PdbxWriter', 'parmed.formats.pdbx', 'parmed.symmetry', 'parmed.formats.pdb', 'parmed.formats.pqr', 'parmed.charmm.psf', 'parmed.parameters', 'parmed.charmm._charmmfile', 'parmed.charmm.parameters', 'parmed.charmm.charmmcrds', 'parmed.charmm', 'parmed.formats.psf', 'parmed.rdkit.rdkit', 'parmed.rdkit', 'parmed.formats.sdf', 'parmed.formats', 'parmed.utils.fortranformat._exceptions', 'parmed.utils.fortranformat._edit_descriptors', 'parmed.utils.fortranformat._misc', 'parmed.utils.fortranformat.config', 'parmed.utils.fortranformat._input', 'parmed.utils.fortranformat._lexer', 'parmed.utils.fortranformat._parser', 'parmed.utils.fortranformat.FortranRecordReader', 'parmed.utils.fortranformat._output', 'parmed.utils.fortranformat.FortranRecordWriter', 'parmed.utils.fortranformat', 'parmed.amber.amberformat', 'parmed.amber.asciicrd', 'parmed.amber.mask', 'mmap', 'parmed.utils.netcdf', 'parmed.amber.netcdffiles', 'parmed.amber.parameters', 'parmed.amber._amberparm', 'parmed.amber._chamberparm', 'parmed.amber._tinkerparm', 'parmed.amber.readparm', 'parmed.amber.titratable_residues', 'parmed.amber', 'parmed.gromacs._cpp', 'parmed.gromacs._gromacsfile', 'parmed.gromacs.gromacstop', 'parmed.gromacs.gromacsgro', 'parmed.gromacs', 'parmed.dlpoly.dlpolyfield', 'parmed.dlpoly.dlpolyconfig', 'parmed.dlpoly', 'parmed.namd.namdbinfiles', 'parmed.namd', 'parmed.openmm.reporters', 'lxml', '_cython_0_29_22', 'lxml._elementpath', 'lxml.etree', 'parmed.openmm.parameters', 'parmed.openmm.topsystem', 'parmed.openmm.utils', 'parmed.openmm.xmlfile', 'parmed.openmm', 'parmed.rosetta.pose', 'parmed.rosetta', 'parmed.tinker.tinkerfiles', 'parmed.tinker', 'parmed.entos.imports', 'parmed.entos.converters', 'parmed.entos', 'parmed.tools.exceptions', 'parmed.tools.argumentlist', 'parmed.tools.parmlist', 'parmed.tools.actions', 'parmed.tools', 'parmed', 'openmoltools.gromacs', '_csv', 'csv', 'openmoltools.schrodinger', 'openmoltools', 'openmoltools.forcefield_generators', 'perses.rjmc.topology_proposal', 'perses.rjmc', 'perses.tests.utils', 'perses.dispersed', 'tqdm._monitor', 'tqdm._tqdm_pandas', 'tqdm.utils', 'tqdm.std', 'tqdm._dist_ver', 'tqdm.version', 'tqdm.cli', 'tqdm.gui', 'tqdm', 'perses.annihilation', 'perses.annihilation.lambda_protocol', 'dask.config', 'dask.utils_test', 'dask.core', 'dask.utils', 'dask.datasets', 'dask._version', 'packaging.__about__', 'packaging', 'packaging._structures', 'packaging.version', 'toolz.utils', 'toolz.itertoolz', 'toolz._signatures', 'toolz.functoolz', 'toolz.dicttoolz', 'toolz.recipes', 'toolz.curried.operator', 'toolz.curried.exceptions', 'toolz.curried', 'toolz.sandbox.core', 'toolz.sandbox.parallel', 'toolz.sandbox', 'toolz._version', 'toolz', 'cytoolz.utils', 'cytoolz.itertoolz', 'cytoolz._signatures', 'cytoolz.functoolz', 'cytoolz.dicttoolz', 'cytoolz.recipes', 'cytoolz.curried.operator', 'cytoolz.curried.exceptions', 'cytoolz.curried', 'cytoolz._version', 'cytoolz', 'tlz.utils', 'tlz.itertoolz', 'tlz._signatures', 'tlz.functoolz', 'tlz.dicttoolz', 'tlz.recipes', 'tlz._version', 'tlz._build_tlz', 'tlz', 'dask.callbacks', 'dask.order', 'dask.local', 'multiprocessing.util', '_multiprocessing', 'multiprocessing.connection', 'multiprocessing.pool', 'concurrent.futures.thread', 'psutil._common', 'psutil._compat', 'psutil._psposix', 'psutil._psutil_linux', 'psutil._psutil_posix', 'psutil._pslinux', 'psutil', 'dask.system', 'dask.threaded', 'dask.context', 'dask.hashing', 'multiprocessing.queues', 'concurrent.futures.process', 'cloudpickle.compat', 'typing_extensions', 'cloudpickle.cloudpickle', 'cloudpickle.cloudpickle_fast', 'cloudpickle', 'dask.optimization', 'tblib.cpython', 'tblib', 'tblib.pickling_support', 'dask.multiprocessing', 'dask.base', 'dask.highlevelgraph', 'dask.delayed', 'dask', 'socketserver', 'logging.config', 'distributed.compatibility', 'distributed.config', 'distributed._version', 'distributed.versions', 'distributed.metrics', 'click._compat', 'click.globals', 'click.utils', 'click.exceptions', 'click.types', 'click._unicodefun', 'click.parser', 'click.formatting', 'click.termui', 'click.core', 'click.decorators', 'click', 'multiprocessing.popen_fork', 'multiprocessing.spawn', 'multiprocessing.popen_spawn_posix', 'msgpack._version', 'msgpack.exceptions', 'msgpack.ext', 'msgpack._cmsgpack', 'msgpack', 'pytz.exceptions', 'pytz.lazy', 'pytz.tzinfo', 'pytz.tzfile', 'pytz', 'pandas._typing', 'pandas._libs.tslibs.dtypes', 'pandas._libs.tslibs.base', 'pandas._libs.tslibs.np_datetime', 'pandas._libs.tslibs.nattype', 'pandas._libs.tslibs.timezones', 'pandas._libs.tslibs.ccalendar', 'pandas._libs.tslibs.tzconversion', 'pandas._config.config', 'pandas._config.dates', 'pandas._config.display', 'pandas._config', 'pandas._config.localization', 'pandas._libs.tslibs.strptime', 'pandas._libs.tslibs.fields', 'pandas._libs.tslibs.timedeltas', 'pandas._libs.tslibs.timestamps', 'dateutil.easter', 'pandas._libs.properties', 'pandas._libs.tslibs.offsets', 'pandas._libs.tslibs.parsing', 'pandas._libs.tslibs.conversion', 'pandas._libs.tslibs.period', 'pandas._libs.tslibs.vectorized', 'pandas._libs.tslibs', 'pandas._libs.ops_dispatch', 'pandas._libs.missing', 'pandas._libs.hashtable', 'pandas._libs.algos', 'pandas._libs.interval', 'pandas._libs', 'pandas.util._decorators', 'pandas.core', 'pandas.core.util', 'pandas._libs.tslib', 'pandas._libs.lib', 'pandas._libs.hashing', 'pandas.core.dtypes', 'pandas.errors', 'pandas.core.dtypes.generic', 'pandas.core.dtypes.base', 'pandas.core.dtypes.inference', 'pandas.core.dtypes.dtypes', 'pandas.core.dtypes.common', 'pandas.core.util.hashing', 'pandas.util', 'pandas.util.version', 'pandas.compat.numpy', 'pandas.compat.pyarrow', 'pandas.compat', 'pandas.core.config_init', 'pandas.core.dtypes.missing', 'pandas.util._exceptions', 'pandas.util._validators', 'pandas.core.dtypes.cast', 'pandas.core.array_algos', 'pandas.core.common', 'pandas.core.construction', 'pandas.core.array_algos.take', 'pandas.core.indexers', 'pandas.core.algorithms', 'pandas.compat.numpy.function', 'pandas.compat._optional', 'pandas.core.missing', 'pandas.core.roperator', 'pandas._libs.ops', 'pandas.core.computation', 'pandas.core.computation.check', 'pandas.core.computation.expressions', 'pandas.core.ops.missing', 'pandas.core.ops.dispatch', 'pandas.core.ops.invalid', 'pandas.core.ops.array_ops', 'pandas.core.ops.common', 'pandas.core.ops.docstrings', 'pandas.core.ops.mask_ops', 'pandas.core.ops.methods', 'pandas.core.ops', 'pandas.core.sorting', 'pandas.core.arrays.base', 'pandas.core.nanops', 'pandas.core.array_algos.masked_reductions', 'pandas.core.arraylike', 'pandas.core.arrays.masked', 'pandas.core.arrays.boolean', 'pandas._libs.arrays', 'pandas.core.accessor', 'pandas.core.array_algos.transforms', 'pandas.core.arrays._mixins', 'pandas.core.base', 'pandas.core.strings.accessor', 'pandas.core.strings.base', 'pandas.core.strings', 'pandas.core.strings.object_array', 'pandas.io', 'pandas.io.formats', 'pandas.io.formats.console', 'pandas.core.arrays.categorical', 'pandas.tseries', 'pandas.tseries.frequencies', 'pandas.core.arrays.datetimelike', 'pandas.core.arrays._ranges', 'pandas.core.arrays.numeric', 'pandas.core.tools', 'pandas.core.tools.numeric', 'pandas.core.arrays.integer', 'pandas.tseries.offsets', 'pandas.core.arrays.datetimes', 'pandas.core.arrays.floating', 'pandas.core.indexes', 'pandas._libs.index', 'pandas._libs.join', 'pandas._libs.sparse', 'pandas.core.arrays.sparse.dtype', 'pandas.io.formats.printing', 'pandas.core.arrays.sparse.array', 'pandas.core.arrays.sparse.accessor', 'pandas.core.arrays.sparse', 'pandas.core.dtypes.concat', 'pandas.core.array_algos.putmask', 'pandas.core.indexes.frozen', 'pandas.core.indexes.base', 'pandas.core.arrays.interval', 'pandas.core.arrays.numpy_', 'pandas.core.arrays.period', 'pandas.core.arrays.string_', 'pandas.core.arrays.string_arrow', 'pandas.core.arrays.timedeltas', 'pandas.core.arrays', 'pandas.core.flags', 'pandas._libs.reduction', 'pandas.core.indexes.extension', 'pandas.core.indexes.category', 'pandas.core.indexes.numeric', 'pandas.core.tools.timedeltas', 'pandas.core.indexes.datetimelike', 'pandas.core.tools.times', 'pandas.core.indexes.datetimes', 'pandas.core.indexes.multi', 'pandas.core.indexes.timedeltas', 'pandas.core.indexes.interval', 'pandas.core.indexes.period', 'pandas.core.indexes.range', 'pandas.core.indexes.api', 'pandas.core.aggregation', 'pandas.core.apply', 'pandas._libs.indexing', 'pandas.core.indexing', 'pandas.core.reshape', 'pandas._libs.internals', 'pandas._libs.writers', 'pandas.core.array_algos.quantile', 'pandas.core.array_algos.replace', 'pandas.core.internals.blocks', 'pandas.core.internals.api', 'pandas.core.internals.base', 'pandas.core.internals.array_manager', 'pandas.core.internals.ops', 'pandas.core.internals.managers', 'pandas.core.internals.concat', 'pandas.core.internals', 'pandas.core.reshape.concat', 'pandas.io.common', 'pandas.io.formats.format', 'pandas.core.describe', 'pandas.core.internals.construction', 'pandas.core.shared_docs', 'pandas._libs.window', 'pandas._libs.window.aggregations', 'pandas.core.util.numba_', 'pandas.core.window.common', 'pandas.core.window.doc', 'pandas._libs.window.indexers', 'pandas.core.window.indexers', 'pandas.core.window.numba_', 'pandas.core.window.online', 'pandas.core.window.rolling', 'pandas.core.window.ewm', 'pandas.core.window.expanding', 'pandas.core.window', 'pandas.core.generic', 'pandas.core.reshape.util', 'pandas.core.reshape.melt', 'pandas._libs.reshape', 'pandas.core.indexes.accessors', 'pandas.arrays', 'pandas.core.tools.datetimes', 'pandas.plotting._core', 'pandas.plotting._misc', 'pandas.plotting', 'pandas.core.series', 'pandas.io.formats.info', 'pandas.core.frame', 'pandas.core.groupby.base', 'pandas._libs.groupby', 'pandas.core.groupby.numba_', 'pandas.core.groupby.categorical', 'pandas.core.groupby.grouper', 'pandas.core.groupby.ops', 'pandas.core.groupby.groupby', 'pandas.core.groupby.generic', 'pandas.core.groupby', 'pandas.core.api', 'pandas.tseries.api', 'pandas.core.computation.common', 'pandas.core.computation.align', 'pandas.compat.chainmap', 'pandas.core.computation.scope', 'pandas.core.computation.ops', 'pandas.core.computation.parsing', 'pandas.core.computation.expr', 'pandas.core.computation.engines', 'pandas.core.computation.eval', 'pandas.core.computation.api', 'pandas.core.reshape.merge', 'pandas.core.reshape.pivot', 'pandas.core.reshape.reshape', 'pandas.core.reshape.tile', 'pandas.core.reshape.api', 'pandas.api.extensions', 'pandas.api.indexers', 'pandas.core.dtypes.api', 'pandas.api.types', 'pandas.api', 'pandas.util._print_versions', 'pandas.io.clipboards', 'pandas._libs.parsers', 'pandas.io.excel._util', 'pandas.io.date_converters', 'pandas.io.parsers.base_parser', 'pandas.io.parsers.c_parser_wrapper', 'pandas.io.parsers.python_parser', 'pandas.io.parsers.readers', 'pandas.io.parsers', 'pandas.io.excel._odfreader', 'pandas.io.excel._openpyxl', 'pandas.io.excel._pyxlsb', 'pandas.io.excel._xlrd', 'pandas.io.excel._base', 'pandas._libs.json', 'pandas.io.formats._color_data', 'pandas.io.formats.css', 'pandas.io.formats.excel', 'pandas.io.excel._odswriter', 'pandas.io.excel._xlsxwriter', 'pandas.io.excel._xlwt', 'pandas.io.excel', 'pandas.io.feather_format', 'pandas.io.gbq', 'pandas.io.html', 'pandas.io.json._normalize', 'pandas.io.json._table_schema', 'pandas.io.json._json', 'pandas.io.json', 'pandas.io.orc', 'pandas.io.parquet', 'pandas.compat.pickle_compat', 'pandas.io.pickle', 'pandas.core.computation.pytables', 'pandas.io.pytables', 'pandas.io.sas.sasreader', 'pandas.io.sas', 'pandas.io.spss', 'pandas.io.sql', 'pandas.io.stata', 'pandas.io.xml', 'pandas.io.api', 'pandas.util._tester', 'pandas._testing._random', 'pandas._testing.contexts', 'pandas._testing._io', 'pandas._testing._warnings', 'pandas._libs.testing', 'pandas._testing.asserters', 'pandas._testing.compat', 'pandas._testing', 'pandas.testing', 'pandas._version', 'pandas', '_posixshmem', 'multiprocessing.resource_tracker', 'multiprocessing.forkserver', 'distributed.utils', 'distributed.profile', 'distributed.protocol.compression', 'distributed.protocol.pickle', 'distributed.protocol.utils', 'distributed.protocol.serialize', 'distributed.protocol.core', 'distributed.protocol.cuda', 'distributed.protocol', 'distributed.comm.registry', 'distributed.comm.addressing', 'distributed.comm.core', 'dask.sizeof', 'distributed.comm.utils', 'distributed.comm.inproc', 'stringprep', 'encodings.idna', 'tornado.netutil', 'tornado.iostream', 'tornado.tcpclient', 'tornado.process', 'tornado.tcpserver', 'distributed.system', 'distributed._concurrent_futures_thread', 'distributed.threadpoolexecutor', 'distributed.comm.tcp', 'http.cookies', 'tornado.httputil', 'tornado.http1connection', 'tornado.httpserver', 'tornado._locale_data', 'tornado.locale', 'tornado.template', 'tornado.routing', 'tornado.web', 'tornado.httpclient', 'tornado.simple_httpclient', 'tornado.websocket', 'distributed.comm.ws', 'distributed.comm.ucx', 'distributed.comm', 'distributed.diagnostics.plugin', 'distributed.diagnostics.graph_layout', 'distributed.diagnostics', 'distributed.diagnostics.nvml', 'distributed.system_monitor', 'distributed.core', 'distributed.batched', 'distributed.cfexecutor', 'jinja2.bccache', 'markupsafe._speedups', 'markupsafe', 'jinja2.utils', 'jinja2.nodes', 'jinja2.exceptions', 'jinja2.visitor', 'jinja2.idtracking', 'jinja2.optimizer', 'jinja2.compiler', 'jinja2.async_utils', 'jinja2.runtime', 'jinja2.filters', 'jinja2.tests', 'jinja2.defaults', 'jinja2._identifier', 'jinja2.lexer', 'jinja2.parser', 'jinja2.environment', 'jinja2.loaders', 'jinja2', 'distributed.widgets.utils', 'distributed.widgets', 'distributed.objects', 'distributed.publish', 'distributed.pubsub', 'distributed.security', 'distributed.sizeof', 'distributed.utils_comm', 'distributed.preloading', 'distributed.locket', 'distributed.diskutils', 'distributed.http.utils', 'distributed.http', 'distributed.http.routing', 'distributed.node', 'distributed.proctitle', 'distributed.utils_perf', 'distributed.worker', 'distributed.client', 'distributed.actor', 'distributed.deploy.adaptive_core', 'distributed.deploy.adaptive', 'distributed.deploy.cluster', 'distributed.process', 'distributed.nanny', 'sortedcontainers.sortedlist', 'sortedcontainers.sortedset', 'sortedcontainers.sorteddict', 'sortedcontainers', 'distributed.event', 'distributed.lock', 'distributed.multi_lock', 'distributed.queues', 'distributed.recreate_tasks', 'distributed.semaphore', 'distributed.stealing', 'distributed.variable', 'cython.parallel', 'Cython.Shadow', 'Cython', 'cython', 'distributed.scheduler', 'distributed.deploy.spec', 'distributed.deploy.utils', 'distributed.deploy.local', 'distributed.deploy.ssh', 'distributed.deploy', 'distributed.diagnostics.progress', 'distributed.diagnostics.progressbar', 'distributed.worker_client', 'distributed', 'dask.distributed', 'perses.dispersed.utils', 'perses.annihilation.relative', 'perses.annihilation.rest', 'optparse', 'configparser', 'nose.pyversion', 'nose.util', 'nose.plugins.base', 'nose.failure', 'nose.plugins.manager', 'nose.plugins.plugintest', 'nose.plugins', 'nose.config', 'nose.case', 'nose.importer', 'nose.selector', 'nose.proxy', 'nose.suite', 'nose.loader', 'nose.result', 'nose.core', 'nose.plugins.errorclass', 'nose.plugins.skip', 'nose.plugins.deprecated', 'nose.exc', 'nose.tools.nontrivial', 'nose.tools.trivial', 'nose.tools', 'nose', 'nose.plugins.attrib', 'perses.utils.data', 'perses.utils.openeye', 'perses.utils', 'perses.utils.smallmolecules', 'openmmforcefields.utils', 'openmmforcefields._version', 'openmmforcefields', 'openmmforcefields.generators.template_generators', 'openmmforcefields.generators.system_generators', 'openmmforcefields.generators', 'openff', 'openff.toolkit._version', 'openff.toolkit', 'openff.toolkit.utils.exceptions', 'openff.toolkit.utils.utils', 'openff.toolkit.utils.base_wrapper', 'openff.toolkit.utils.constants', 'openff.toolkit.utils.rdkit_wrapper', 'openff.toolkit.utils.ambertools_wrapper', 'openff.toolkit.utils.builtin_wrapper', 'openff.toolkit.utils.openeye_wrapper', 'openff.toolkit.utils.toolkit_registry', 'openeye', 'libs', 'libs.openeye_platform', '_oechem3111', 'openeye.oechem', '_oequacpac2121', 'openeye.oequacpac', '_oeiupac2731', 'openeye.oeiupac', '_oeomega4111', 'openeye.oeomega', 'rdkit.rdBase', 'rdkit.RDPaths', 'rdkit.RDConfig', 'rdkit.DataStructs.cDataStructs', 'rdkit.DataStructs', 'rdkit.Geometry.rdGeometry', 'rdkit.Geometry', 'rdkit.Chem.rdchem', 'rdkit.Chem.rdmolfiles', 'rdkit.Chem.rdmolops', 'rdkit.Chem.rdCIPLabeler', 'rdkit.Chem.rdinchi', 'rdkit.RDLogger', 'rdkit.Chem.inchi', 'rdkit.Chem.rdMolInterchange', 'rdkit.Chem.rdCoordGen', 'rdkit.Chem', 'rdkit.Chem.Draw.rdMolDraw2D', 'rdkit.Chem.Draw.MolDrawing', 'rdkit.Chem.rdDepictor', 'rdkit.Chem.Draw', 'rdkit.Chem.rdChemReactions', 'PIL._version', 'PIL', 'defusedxml.common', 'defusedxml', '_elementtree', 'xml.etree.ElementTree', 'defusedxml.ElementTree', 'PIL.ImageMode', 'PIL.TiffTags', 'PIL._binary', 'PIL._util', 'PIL._imaging', 'PIL.Image', 'PIL.ImageChops', 'PIL.ImageFile', 'PIL.GimpGradientFile', 'PIL.GimpPaletteFile', 'PIL.ImageColor', 'PIL.PaletteFile', 'PIL.ImagePalette', 'PIL.ImageSequence', 'PIL.PngImagePlugin', 'rdkit.Chem.Draw.IPythonConsole', 'rdkit', 'openff.toolkit.utils.toolkits', 'openff.toolkit.utils', 'openff.toolkit.utils.serialization', 'openff.toolkit.topology.molecule', 'openff.toolkit.typing', 'openff.toolkit.typing.chemistry.environment', 'openff.toolkit.typing.chemistry', 'openff.toolkit.topology.topology', 'openff.toolkit.topology', 'perses.tests.test_topology_proposal', 'zmq.utils.garbage', 'matplotlib', 'matplotlib._api.deprecation', 'matplotlib._api', 'matplotlib._c_internal_utils', 'matplotlib.cbook', 'matplotlib.docstring', 'matplotlib._animation_data', 'matplotlib.animation', 'matplotlib._path', 'matplotlib.bezier', 'matplotlib.path', 'matplotlib.transforms', 'matplotlib.ticker', 'matplotlib.scale', 'matplotlib._color_data', 'matplotlib.colors', 'matplotlib.fontconfig_pattern', 'matplotlib._enums', 'cycler', 'matplotlib.rcsetup', 'matplotlib._version', 'matplotlib.ft2font', 'kiwisolver', 'dateutil.rrule', 'matplotlib.units', 'matplotlib.dates']\n"
     ]
    },
    {
     "name": "stderr",
     "output_type": "stream",
     "text": [
      "DEBUG:matplotlib:CACHEDIR=/home/zhangi/.cache/matplotlib\n",
      "DEBUG:matplotlib.font_manager:Using fontManager instance from /home/zhangi/.cache/matplotlib/fontlist-v330.json\n",
      "DEBUG:matplotlib.pyplot:Loaded backend module://matplotlib_inline.backend_inline version unknown.\n",
      "DEBUG:matplotlib.pyplot:Loaded backend module://matplotlib_inline.backend_inline version unknown.\n"
     ]
    }
   ],
   "source": [
    "import matplotlib.pyplot as plt"
   ]
  },
  {
   "cell_type": "code",
   "execution_count": 134,
   "id": "6e3dca0e",
   "metadata": {},
   "outputs": [
    {
     "data": {
      "text/plain": [
       "(array([65., 75., 61., 48., 26.,  7.,  4.,  3.,  4.,  7.]),\n",
       " array([-1.95081102, -1.74725317, -1.54369531, -1.34013746, -1.1365796 ,\n",
       "        -0.93302175, -0.72946389, -0.52590604, -0.32234818, -0.11879033,\n",
       "         0.08476752]),\n",
       " <BarContainer object of 10 artists>)"
      ]
     },
     "execution_count": 134,
     "metadata": {},
     "output_type": "execute_result"
    },
    {
     "data": {
      "image/png": "[encoded data removed]",
      "text/plain": [
       "<Figure size 432x288 with 1 Axes>"
      ]
     },
     "metadata": {
      "needs_background": "light"
     },
     "output_type": "display_data"
    }
   ],
   "source": [
    "plt.hist(energies_other)\n",
    "plt.hist(energies_hybrid)"
   ]
  },
  {
   "cell_type": "code",
   "execution_count": 135,
   "id": "4878a191",
   "metadata": {},
   "outputs": [
    {
     "data": {
      "text/plain": [
       "[<matplotlib.lines.Line2D at 0x2ae50c2f13d0>]"
      ]
     },
     "execution_count": 135,
     "metadata": {},
     "output_type": "execute_result"
    },
    {
     "data": {
      "image/png": "[encoded data removed]",
      "text/plain": [
       "<Figure size 432x288 with 1 Axes>"
      ]
     },
     "metadata": {
      "needs_background": "light"
     },
     "output_type": "display_data"
    }
   ],
   "source": [
    "plt.plot(np.array(energies_other))\n",
    "plt.plot(np.array(energies_hybrid))"
   ]
  },
  {
   "cell_type": "code",
   "execution_count": 136,
   "id": "a267c735",
   "metadata": {},
   "outputs": [
    {
     "data": {
      "text/plain": [
       "[<matplotlib.lines.Line2D at 0x2ae3b493f1f0>]"
      ]
     },
     "execution_count": 136,
     "metadata": {},
     "output_type": "execute_result"
    },
    {
     "data": {
      "image/png": "[encoded data removed]",
      "text/plain": [
       "<Figure size 432x288 with 1 Axes>"
      ]
     },
     "metadata": {
      "needs_background": "light"
     },
     "output_type": "display_data"
    }
   ],
   "source": [
    "plt.plot(np.array(energies_other) - np.array(energies_hybrid))"
   ]
  },
  {
   "cell_type": "code",
   "execution_count": 137,
   "id": "92ac11a4",
   "metadata": {},
   "outputs": [
    {
     "data": {
      "text/plain": [
       "0.1103941451005837"
      ]
     },
     "execution_count": 137,
     "metadata": {},
     "output_type": "execute_result"
    }
   ],
   "source": [
    "np.std(np.array(energies_other) - np.array(energies_hybrid))"
   ]
  },
  {
   "cell_type": "code",
   "execution_count": 117,
   "id": "5aa5e226",
   "metadata": {},
   "outputs": [
    {
     "name": "stdout",
     "output_type": "stream",
     "text": [
      "0 (0.0, 1.0, 0.0, 0.0, 1.0, 0.0, 0.0, 0.0, 0.2649532787749369, 0.06568879999999999, 0.0, 0.2649532787749369, 0.06568879999999999)\n",
      "1 (0.0, 1.0, 0.0, 0.0, 1.0, 0.0, 0.0, -0.0, 0.3399669508423535, 0.4577296, -0.0, 0.3399669508423535, 0.4577296)\n",
      "2 (0.0, 1.0, 0.0, 0.0, 1.0, 0.0, 0.0, 0.0, 0.2649532787749369, 0.06568879999999999, 0.0, 0.2649532787749369, 0.06568879999999999)\n",
      "3 (0.0, 1.0, 0.0, 0.0, 1.0, 0.0, 0.0, 0.0, 0.2649532787749369, 0.06568879999999999, 0.0, 0.2649532787749369, 0.06568879999999999)\n",
      "4 (0.0, 1.0, 0.0, 0.0, 1.0, 0.0, 0.0, 0.0, 0.3399669508423535, 0.359824, 0.0, 0.3399669508423535, 0.359824)\n",
      "5 (0.0, 1.0, 0.0, 0.0, 1.0, 0.0, 0.0, -0.0, 0.2959921901149463, 0.87864, -0.0, 0.2959921901149463, 0.87864)\n",
      "6 (0.0, 1.0, 0.0, 0.0, 1.0, 0.0, 0.0, -0.0, 0.3249998523775958, 0.7112800000000001, -0.0, 0.3249998523775958, 0.7112800000000001)\n",
      "7 (0.0, 1.0, 0.0, 0.0, 1.0, 0.0, 0.0, 0.0, 0.10690784617684071, 0.06568879999999999, 0.0, 0.10690784617684071, 0.06568879999999999)\n",
      "8 (0.0, 1.0, 0.0, 0.0, 1.0, 0.0, 0.0, 0.0, 0.3399669508423535, 0.4577296, -0.0, 0.3399669508423535, 0.4577296)\n",
      "9 (0.0, 1.0, 0.0, 0.0, 1.0, 0.0, 0.0, 0.0, 0.2471353044121301, 0.06568879999999999, 0.0, 0.2471353044121301, 0.06568879999999999)\n",
      "10 (0.0, 1.0, 0.0, 0.0, 1.0, 0.0, 0.0, -0.0, 0.3399669508423535, 0.4577296, 0.0, 0.3399669508423535, 0.4577296)\n",
      "11 (0.0, 1.0, 0.0, 0.0, 1.0, 0.0, 0.0, 0.0, 0.2649532787749369, 0.06568879999999999, 0.0, 0.2471353044121301, 0.06568879999999999)\n",
      "12 (0.0, 1.0, 0.0, 0.0, 0.0, 1.0, 0.0, 0.0, 0.2649532787749369, 0.0, 0.0, 0.2649532787749369, 0.0)\n",
      "13 (0.0, 1.0, 0.0, 0.0, 0.0, 1.0, 0.0, 0.0, 0.2649532787749369, 0.0, 0.0, 0.2649532787749369, 0.0)\n",
      "14 (0.0, 1.0, 0.0, 0.0, 1.0, 0.0, 0.0, 0.0, 0.3399669508423535, 0.359824, 0.0, 0.3399669508423535, 0.359824)\n",
      "15 (0.0, 1.0, 0.0, 0.0, 1.0, 0.0, 0.0, -0.0, 0.2959921901149463, 0.87864, -0.0, 0.2959921901149463, 0.87864)\n",
      "16 (0.0, 1.0, 0.0, 0.0, 1.0, 0.0, 0.0, -0.0, 0.3249998523775958, 0.7112800000000001, -0.0, 0.3249998523775958, 0.7112800000000001)\n",
      "17 (0.0, 1.0, 0.0, 0.0, 1.0, 0.0, 0.0, 0.0, 0.10690784617684071, 0.06568879999999999, 0.0, 0.10690784617684071, 0.06568879999999999)\n",
      "18 (0.0, 1.0, 0.0, 0.0, 1.0, 0.0, 0.0, -0.0, 0.3399669508423535, 0.4577296, -0.0, 0.3399669508423535, 0.4577296)\n",
      "19 (0.0, 1.0, 0.0, 0.0, 1.0, 0.0, 0.0, 0.0, 0.2471353044121301, 0.06568879999999999, 0.0, 0.2471353044121301, 0.06568879999999999)\n",
      "20 (0.0, 1.0, 0.0, 0.0, 1.0, 0.0, 0.0, 0.0, 0.2471353044121301, 0.06568879999999999, 0.0, 0.2471353044121301, 0.06568879999999999)\n",
      "21 (0.0, 1.0, 0.0, 0.0, 1.0, 0.0, 0.0, 0.0, 0.2471353044121301, 0.06568879999999999, 0.0, 0.2471353044121301, 0.06568879999999999)\n",
      "22 (0.0, 1.0, 0.0, 1.0, 0.0, 0.0, 0.0, -0.0, 0.3150752406575124, 0.0, -0.0, 0.3150752406575124, 0.0)\n",
      "23 (0.0, 1.0, 0.0, 1.0, 0.0, 0.0, 0.0, 0.0, 1.0, 0.0, 0.0, 1.0, 0.0)\n",
      "24 (0.0, 1.0, 0.0, 1.0, 0.0, 0.0, 0.0, 0.0, 1.0, 0.0, 0.0, 1.0, 0.0)\n",
      "25 (0.0, 1.0, 0.0, 1.0, 0.0, 0.0, 0.0, -0.0, 0.3150752406575124, 0.0, -0.0, 0.3150752406575124, 0.0)\n",
      "26 (0.0, 1.0, 0.0, 1.0, 0.0, 0.0, 0.0, 0.0, 1.0, 0.0, 0.0, 1.0, 0.0)\n",
      "27 (0.0, 1.0, 0.0, 1.0, 0.0, 0.0, 0.0, 0.0, 1.0, 0.0, 0.0, 1.0, 0.0)\n",
      "28 (0.0, 1.0, 0.0, 1.0, 0.0, 0.0, 0.0, -0.0, 0.3150752406575124, 0.0, -0.0, 0.3150752406575124, 0.0)\n",
      "29 (0.0, 1.0, 0.0, 1.0, 0.0, 0.0, 0.0, 0.0, 1.0, 0.0, 0.0, 1.0, 0.0)\n",
      "30 (0.0, 1.0, 0.0, 1.0, 0.0, 0.0, 0.0, 0.0, 1.0, 0.0, 0.0, 1.0, 0.0)\n",
      "31 (0.0, 1.0, 0.0, 1.0, 0.0, 0.0, 0.0, -0.0, 0.3150752406575124, 0.0, -0.0, 0.3150752406575124, 0.0)\n",
      "32 (0.0, 1.0, 0.0, 1.0, 0.0, 0.0, 0.0, 0.0, 1.0, 0.0, 0.0, 1.0, 0.0)\n",
      "33 (0.0, 1.0, 0.0, 1.0, 0.0, 0.0, 0.0, 0.0, 1.0, 0.0, 0.0, 1.0, 0.0)\n",
      "34 (0.0, 1.0, 0.0, 1.0, 0.0, 0.0, 0.0, -0.0, 0.3150752406575124, 0.0, -0.0, 0.3150752406575124, 0.0)\n",
      "35 (0.0, 1.0, 0.0, 1.0, 0.0, 0.0, 0.0, 0.0, 1.0, 0.0, 0.0, 1.0, 0.0)\n",
      "36 (0.0, 1.0, 0.0, 1.0, 0.0, 0.0, 0.0, 0.0, 1.0, 0.0, 0.0, 1.0, 0.0)\n",
      "37 (0.0, 1.0, 0.0, 1.0, 0.0, 0.0, 0.0, -0.0, 0.3150752406575124, 0.0, -0.0, 0.3150752406575124, 0.0)\n",
      "38 (0.0, 1.0, 0.0, 1.0, 0.0, 0.0, 0.0, 0.0, 1.0, 0.0, 0.0, 1.0, 0.0)\n",
      "39 (0.0, 1.0, 0.0, 1.0, 0.0, 0.0, 0.0, 0.0, 1.0, 0.0, 0.0, 1.0, 0.0)\n",
      "40 (0.0, 1.0, 0.0, 1.0, 0.0, 0.0, 0.0, -0.0, 0.3150752406575124, 0.0, -0.0, 0.3150752406575124, 0.0)\n",
      "41 (0.0, 1.0, 0.0, 1.0, 0.0, 0.0, 0.0, 0.0, 1.0, 0.0, 0.0, 1.0, 0.0)\n",
      "42 (0.0, 1.0, 0.0, 1.0, 0.0, 0.0, 0.0, 0.0, 1.0, 0.0, 0.0, 1.0, 0.0)\n",
      "43 (0.0, 1.0, 0.0, 1.0, 0.0, 0.0, 0.0, -0.0, 0.3150752406575124, 0.0, -0.0, 0.3150752406575124, 0.0)\n",
      "44 (0.0, 1.0, 0.0, 1.0, 0.0, 0.0, 0.0, 0.0, 1.0, 0.0, 0.0, 1.0, 0.0)\n",
      "45 (0.0, 1.0, 0.0, 1.0, 0.0, 0.0, 0.0, 0.0, 1.0, 0.0, 0.0, 1.0, 0.0)\n",
      "46 (0.0, 1.0, 0.0, 1.0, 0.0, 0.0, 0.0, -0.0, 0.3150752406575124, 0.0, -0.0, 0.3150752406575124, 0.0)\n",
      "47 (0.0, 1.0, 0.0, 1.0, 0.0, 0.0, 0.0, 0.0, 1.0, 0.0, 0.0, 1.0, 0.0)\n",
      "48 (0.0, 1.0, 0.0, 1.0, 0.0, 0.0, 0.0, 0.0, 1.0, 0.0, 0.0, 1.0, 0.0)\n",
      "49 (0.0, 1.0, 0.0, 1.0, 0.0, 0.0, 0.0, -0.0, 0.3150752406575124, 0.0, -0.0, 0.3150752406575124, 0.0)\n",
      "50 (0.0, 1.0, 0.0, 1.0, 0.0, 0.0, 0.0, 0.0, 1.0, 0.0, 0.0, 1.0, 0.0)\n",
      "51 (0.0, 1.0, 0.0, 1.0, 0.0, 0.0, 0.0, 0.0, 1.0, 0.0, 0.0, 1.0, 0.0)\n",
      "52 (0.0, 1.0, 0.0, 1.0, 0.0, 0.0, 0.0, -0.0, 0.3150752406575124, 0.0, -0.0, 0.3150752406575124, 0.0)\n",
      "53 (0.0, 1.0, 0.0, 1.0, 0.0, 0.0, 0.0, 0.0, 1.0, 0.0, 0.0, 1.0, 0.0)\n",
      "54 (0.0, 1.0, 0.0, 1.0, 0.0, 0.0, 0.0, 0.0, 1.0, 0.0, 0.0, 1.0, 0.0)\n",
      "55 (0.0, 1.0, 0.0, 1.0, 0.0, 0.0, 0.0, -0.0, 0.3150752406575124, 0.0, -0.0, 0.3150752406575124, 0.0)\n",
      "56 (0.0, 1.0, 0.0, 1.0, 0.0, 0.0, 0.0, 0.0, 1.0, 0.0, 0.0, 1.0, 0.0)\n",
      "57 (0.0, 1.0, 0.0, 1.0, 0.0, 0.0, 0.0, 0.0, 1.0, 0.0, 0.0, 1.0, 0.0)\n",
      "58 (0.0, 1.0, 0.0, 1.0, 0.0, 0.0, 0.0, -0.0, 0.3150752406575124, 0.0, -0.0, 0.3150752406575124, 0.0)\n",
      "59 (0.0, 1.0, 0.0, 1.0, 0.0, 0.0, 0.0, 0.0, 1.0, 0.0, 0.0, 1.0, 0.0)\n",
      "60 (0.0, 1.0, 0.0, 1.0, 0.0, 0.0, 0.0, 0.0, 1.0, 0.0, 0.0, 1.0, 0.0)\n",
      "61 (0.0, 1.0, 0.0, 1.0, 0.0, 0.0, 0.0, -0.0, 0.3150752406575124, 0.0, -0.0, 0.3150752406575124, 0.0)\n",
      "62 (0.0, 1.0, 0.0, 1.0, 0.0, 0.0, 0.0, 0.0, 1.0, 0.0, 0.0, 1.0, 0.0)\n",
      "63 (0.0, 1.0, 0.0, 1.0, 0.0, 0.0, 0.0, 0.0, 1.0, 0.0, 0.0, 1.0, 0.0)\n",
      "64 (0.0, 1.0, 0.0, 1.0, 0.0, 0.0, 0.0, -0.0, 0.3150752406575124, 0.0, -0.0, 0.3150752406575124, 0.0)\n",
      "65 (0.0, 1.0, 0.0, 1.0, 0.0, 0.0, 0.0, 0.0, 1.0, 0.0, 0.0, 1.0, 0.0)\n",
      "66 (0.0, 1.0, 0.0, 1.0, 0.0, 0.0, 0.0, 0.0, 1.0, 0.0, 0.0, 1.0, 0.0)\n",
      "67 (0.0, 1.0, 0.0, 1.0, 0.0, 0.0, 0.0, -0.0, 0.3150752406575124, 0.0, -0.0, 0.3150752406575124, 0.0)\n",
      "68 (0.0, 1.0, 0.0, 1.0, 0.0, 0.0, 0.0, 0.0, 1.0, 0.0, 0.0, 1.0, 0.0)\n",
      "69 (0.0, 1.0, 0.0, 1.0, 0.0, 0.0, 0.0, 0.0, 1.0, 0.0, 0.0, 1.0, 0.0)\n",
      "70 (0.0, 1.0, 0.0, 1.0, 0.0, 0.0, 0.0, -0.0, 0.3150752406575124, 0.0, -0.0, 0.3150752406575124, 0.0)\n",
      "71 (0.0, 1.0, 0.0, 1.0, 0.0, 0.0, 0.0, 0.0, 1.0, 0.0, 0.0, 1.0, 0.0)\n",
      "72 (0.0, 1.0, 0.0, 1.0, 0.0, 0.0, 0.0, 0.0, 1.0, 0.0, 0.0, 1.0, 0.0)\n",
      "73 (0.0, 1.0, 0.0, 1.0, 0.0, 0.0, 0.0, -0.0, 0.3150752406575124, 0.0, -0.0, 0.3150752406575124, 0.0)\n",
      "74 (0.0, 1.0, 0.0, 1.0, 0.0, 0.0, 0.0, 0.0, 1.0, 0.0, 0.0, 1.0, 0.0)\n",
      "75 (0.0, 1.0, 0.0, 1.0, 0.0, 0.0, 0.0, 0.0, 1.0, 0.0, 0.0, 1.0, 0.0)\n",
      "76 (0.0, 1.0, 0.0, 1.0, 0.0, 0.0, 0.0, -0.0, 0.3150752406575124, 0.0, -0.0, 0.3150752406575124, 0.0)\n",
      "77 (0.0, 1.0, 0.0, 1.0, 0.0, 0.0, 0.0, 0.0, 1.0, 0.0, 0.0, 1.0, 0.0)\n",
      "78 (0.0, 1.0, 0.0, 1.0, 0.0, 0.0, 0.0, 0.0, 1.0, 0.0, 0.0, 1.0, 0.0)\n",
      "79 (0.0, 1.0, 0.0, 1.0, 0.0, 0.0, 0.0, -0.0, 0.3150752406575124, 0.0, -0.0, 0.3150752406575124, 0.0)\n",
      "80 (0.0, 1.0, 0.0, 1.0, 0.0, 0.0, 0.0, 0.0, 1.0, 0.0, 0.0, 1.0, 0.0)\n",
      "81 (0.0, 1.0, 0.0, 1.0, 0.0, 0.0, 0.0, 0.0, 1.0, 0.0, 0.0, 1.0, 0.0)\n",
      "82 (0.0, 1.0, 0.0, 1.0, 0.0, 0.0, 0.0, -0.0, 0.3150752406575124, 0.0, -0.0, 0.3150752406575124, 0.0)\n",
      "83 (0.0, 1.0, 0.0, 1.0, 0.0, 0.0, 0.0, 0.0, 1.0, 0.0, 0.0, 1.0, 0.0)\n",
      "84 (0.0, 1.0, 0.0, 1.0, 0.0, 0.0, 0.0, 0.0, 1.0, 0.0, 0.0, 1.0, 0.0)\n",
      "85 (0.0, 1.0, 0.0, 1.0, 0.0, 0.0, 0.0, -0.0, 0.3150752406575124, 0.0, -0.0, 0.3150752406575124, 0.0)\n",
      "86 (0.0, 1.0, 0.0, 1.0, 0.0, 0.0, 0.0, 0.0, 1.0, 0.0, 0.0, 1.0, 0.0)\n",
      "87 (0.0, 1.0, 0.0, 1.0, 0.0, 0.0, 0.0, 0.0, 1.0, 0.0, 0.0, 1.0, 0.0)\n",
      "88 (0.0, 1.0, 0.0, 1.0, 0.0, 0.0, 0.0, -0.0, 0.3150752406575124, 0.0, -0.0, 0.3150752406575124, 0.0)\n",
      "89 (0.0, 1.0, 0.0, 1.0, 0.0, 0.0, 0.0, 0.0, 1.0, 0.0, 0.0, 1.0, 0.0)\n",
      "90 (0.0, 1.0, 0.0, 1.0, 0.0, 0.0, 0.0, 0.0, 1.0, 0.0, 0.0, 1.0, 0.0)\n",
      "91 (0.0, 1.0, 0.0, 1.0, 0.0, 0.0, 0.0, -0.0, 0.3150752406575124, 0.0, -0.0, 0.3150752406575124, 0.0)\n",
      "92 (0.0, 1.0, 0.0, 1.0, 0.0, 0.0, 0.0, 0.0, 1.0, 0.0, 0.0, 1.0, 0.0)\n",
      "93 (0.0, 1.0, 0.0, 1.0, 0.0, 0.0, 0.0, 0.0, 1.0, 0.0, 0.0, 1.0, 0.0)\n",
      "94 (0.0, 1.0, 0.0, 1.0, 0.0, 0.0, 0.0, -0.0, 0.3150752406575124, 0.0, -0.0, 0.3150752406575124, 0.0)\n",
      "95 (0.0, 1.0, 0.0, 1.0, 0.0, 0.0, 0.0, 0.0, 1.0, 0.0, 0.0, 1.0, 0.0)\n",
      "96 (0.0, 1.0, 0.0, 1.0, 0.0, 0.0, 0.0, 0.0, 1.0, 0.0, 0.0, 1.0, 0.0)\n",
      "97 (0.0, 1.0, 0.0, 1.0, 0.0, 0.0, 0.0, -0.0, 0.3150752406575124, 0.0, -0.0, 0.3150752406575124, 0.0)\n",
      "98 (0.0, 1.0, 0.0, 1.0, 0.0, 0.0, 0.0, 0.0, 1.0, 0.0, 0.0, 1.0, 0.0)\n",
      "99 (0.0, 1.0, 0.0, 1.0, 0.0, 0.0, 0.0, 0.0, 1.0, 0.0, 0.0, 1.0, 0.0)\n",
      "100 (0.0, 1.0, 0.0, 1.0, 0.0, 0.0, 0.0, -0.0, 0.3150752406575124, 0.0, -0.0, 0.3150752406575124, 0.0)\n",
      "101 (0.0, 1.0, 0.0, 1.0, 0.0, 0.0, 0.0, 0.0, 1.0, 0.0, 0.0, 1.0, 0.0)\n",
      "102 (0.0, 1.0, 0.0, 1.0, 0.0, 0.0, 0.0, 0.0, 1.0, 0.0, 0.0, 1.0, 0.0)\n",
      "103 (0.0, 1.0, 0.0, 1.0, 0.0, 0.0, 0.0, -0.0, 0.3150752406575124, 0.0, -0.0, 0.3150752406575124, 0.0)\n",
      "104 (0.0, 1.0, 0.0, 1.0, 0.0, 0.0, 0.0, 0.0, 1.0, 0.0, 0.0, 1.0, 0.0)\n",
      "105 (0.0, 1.0, 0.0, 1.0, 0.0, 0.0, 0.0, 0.0, 1.0, 0.0, 0.0, 1.0, 0.0)\n",
      "106 (0.0, 1.0, 0.0, 1.0, 0.0, 0.0, 0.0, -0.0, 0.3150752406575124, 0.0, -0.0, 0.3150752406575124, 0.0)\n",
      "107 (0.0, 1.0, 0.0, 1.0, 0.0, 0.0, 0.0, 0.0, 1.0, 0.0, 0.0, 1.0, 0.0)\n",
      "108 (0.0, 1.0, 0.0, 1.0, 0.0, 0.0, 0.0, 0.0, 1.0, 0.0, 0.0, 1.0, 0.0)\n",
      "109 (0.0, 1.0, 0.0, 1.0, 0.0, 0.0, 0.0, -0.0, 0.3150752406575124, 0.0, -0.0, 0.3150752406575124, 0.0)\n",
      "110 (0.0, 1.0, 0.0, 1.0, 0.0, 0.0, 0.0, 0.0, 1.0, 0.0, 0.0, 1.0, 0.0)\n",
      "111 (0.0, 1.0, 0.0, 1.0, 0.0, 0.0, 0.0, 0.0, 1.0, 0.0, 0.0, 1.0, 0.0)\n",
      "112 (0.0, 1.0, 0.0, 1.0, 0.0, 0.0, 0.0, -0.0, 0.3150752406575124, 0.0, -0.0, 0.3150752406575124, 0.0)\n",
      "113 (0.0, 1.0, 0.0, 1.0, 0.0, 0.0, 0.0, 0.0, 1.0, 0.0, 0.0, 1.0, 0.0)\n",
      "114 (0.0, 1.0, 0.0, 1.0, 0.0, 0.0, 0.0, 0.0, 1.0, 0.0, 0.0, 1.0, 0.0)\n",
      "115 (0.0, 1.0, 0.0, 1.0, 0.0, 0.0, 0.0, -0.0, 0.3150752406575124, 0.0, -0.0, 0.3150752406575124, 0.0)\n",
      "116 (0.0, 1.0, 0.0, 1.0, 0.0, 0.0, 0.0, 0.0, 1.0, 0.0, 0.0, 1.0, 0.0)\n",
      "117 (0.0, 1.0, 0.0, 1.0, 0.0, 0.0, 0.0, 0.0, 1.0, 0.0, 0.0, 1.0, 0.0)\n",
      "118 (0.0, 1.0, 0.0, 1.0, 0.0, 0.0, 0.0, -0.0, 0.3150752406575124, 0.0, -0.0, 0.3150752406575124, 0.0)\n",
      "119 (0.0, 1.0, 0.0, 1.0, 0.0, 0.0, 0.0, 0.0, 1.0, 0.0, 0.0, 1.0, 0.0)\n",
      "120 (0.0, 1.0, 0.0, 1.0, 0.0, 0.0, 0.0, 0.0, 1.0, 0.0, 0.0, 1.0, 0.0)\n",
      "121 (0.0, 1.0, 0.0, 1.0, 0.0, 0.0, 0.0, -0.0, 0.3150752406575124, 0.0, -0.0, 0.3150752406575124, 0.0)\n",
      "122 (0.0, 1.0, 0.0, 1.0, 0.0, 0.0, 0.0, 0.0, 1.0, 0.0, 0.0, 1.0, 0.0)\n",
      "123 (0.0, 1.0, 0.0, 1.0, 0.0, 0.0, 0.0, 0.0, 1.0, 0.0, 0.0, 1.0, 0.0)\n",
      "124 (0.0, 1.0, 0.0, 1.0, 0.0, 0.0, 0.0, -0.0, 0.3150752406575124, 0.0, -0.0, 0.3150752406575124, 0.0)\n",
      "125 (0.0, 1.0, 0.0, 1.0, 0.0, 0.0, 0.0, 0.0, 1.0, 0.0, 0.0, 1.0, 0.0)\n",
      "126 (0.0, 1.0, 0.0, 1.0, 0.0, 0.0, 0.0, 0.0, 1.0, 0.0, 0.0, 1.0, 0.0)\n",
      "127 (0.0, 1.0, 0.0, 1.0, 0.0, 0.0, 0.0, -0.0, 0.3150752406575124, 0.0, -0.0, 0.3150752406575124, 0.0)\n",
      "128 (0.0, 1.0, 0.0, 1.0, 0.0, 0.0, 0.0, 0.0, 1.0, 0.0, 0.0, 1.0, 0.0)\n",
      "129 (0.0, 1.0, 0.0, 1.0, 0.0, 0.0, 0.0, 0.0, 1.0, 0.0, 0.0, 1.0, 0.0)\n",
      "130 (0.0, 1.0, 0.0, 1.0, 0.0, 0.0, 0.0, -0.0, 0.3150752406575124, 0.0, -0.0, 0.3150752406575124, 0.0)\n",
      "131 (0.0, 1.0, 0.0, 1.0, 0.0, 0.0, 0.0, 0.0, 1.0, 0.0, 0.0, 1.0, 0.0)\n",
      "132 (0.0, 1.0, 0.0, 1.0, 0.0, 0.0, 0.0, 0.0, 1.0, 0.0, 0.0, 1.0, 0.0)\n",
      "133 (0.0, 1.0, 0.0, 1.0, 0.0, 0.0, 0.0, -0.0, 0.3150752406575124, 0.0, -0.0, 0.3150752406575124, 0.0)\n",
      "134 (0.0, 1.0, 0.0, 1.0, 0.0, 0.0, 0.0, 0.0, 1.0, 0.0, 0.0, 1.0, 0.0)\n",
      "135 (0.0, 1.0, 0.0, 1.0, 0.0, 0.0, 0.0, 0.0, 1.0, 0.0, 0.0, 1.0, 0.0)\n",
      "136 (0.0, 1.0, 0.0, 1.0, 0.0, 0.0, 0.0, -0.0, 0.3150752406575124, 0.0, -0.0, 0.3150752406575124, 0.0)\n",
      "137 (0.0, 1.0, 0.0, 1.0, 0.0, 0.0, 0.0, 0.0, 1.0, 0.0, 0.0, 1.0, 0.0)\n",
      "138 (0.0, 1.0, 0.0, 1.0, 0.0, 0.0, 0.0, 0.0, 1.0, 0.0, 0.0, 1.0, 0.0)\n",
      "139 (0.0, 1.0, 0.0, 1.0, 0.0, 0.0, 0.0, -0.0, 0.3150752406575124, 0.0, -0.0, 0.3150752406575124, 0.0)\n",
      "140 (0.0, 1.0, 0.0, 1.0, 0.0, 0.0, 0.0, 0.0, 1.0, 0.0, 0.0, 1.0, 0.0)\n",
      "141 (0.0, 1.0, 0.0, 1.0, 0.0, 0.0, 0.0, 0.0, 1.0, 0.0, 0.0, 1.0, 0.0)\n",
      "142 (0.0, 1.0, 0.0, 1.0, 0.0, 0.0, 0.0, -0.0, 0.3150752406575124, 0.0, -0.0, 0.3150752406575124, 0.0)\n",
      "143 (0.0, 1.0, 0.0, 1.0, 0.0, 0.0, 0.0, 0.0, 1.0, 0.0, 0.0, 1.0, 0.0)\n",
      "144 (0.0, 1.0, 0.0, 1.0, 0.0, 0.0, 0.0, 0.0, 1.0, 0.0, 0.0, 1.0, 0.0)\n",
      "145 (0.0, 1.0, 0.0, 1.0, 0.0, 0.0, 0.0, -0.0, 0.3150752406575124, 0.0, -0.0, 0.3150752406575124, 0.0)\n",
      "146 (0.0, 1.0, 0.0, 1.0, 0.0, 0.0, 0.0, 0.0, 1.0, 0.0, 0.0, 1.0, 0.0)\n",
      "147 (0.0, 1.0, 0.0, 1.0, 0.0, 0.0, 0.0, 0.0, 1.0, 0.0, 0.0, 1.0, 0.0)\n",
      "148 (0.0, 1.0, 0.0, 1.0, 0.0, 0.0, 0.0, -0.0, 0.3150752406575124, 0.0, -0.0, 0.3150752406575124, 0.0)\n",
      "149 (0.0, 1.0, 0.0, 1.0, 0.0, 0.0, 0.0, 0.0, 1.0, 0.0, 0.0, 1.0, 0.0)\n",
      "150 (0.0, 1.0, 0.0, 1.0, 0.0, 0.0, 0.0, 0.0, 1.0, 0.0, 0.0, 1.0, 0.0)\n",
      "151 (0.0, 1.0, 0.0, 1.0, 0.0, 0.0, 0.0, -0.0, 0.3150752406575124, 0.0, -0.0, 0.3150752406575124, 0.0)\n",
      "152 (0.0, 1.0, 0.0, 1.0, 0.0, 0.0, 0.0, 0.0, 1.0, 0.0, 0.0, 1.0, 0.0)\n",
      "153 (0.0, 1.0, 0.0, 1.0, 0.0, 0.0, 0.0, 0.0, 1.0, 0.0, 0.0, 1.0, 0.0)\n",
      "154 (0.0, 1.0, 0.0, 1.0, 0.0, 0.0, 0.0, -0.0, 0.3150752406575124, 0.0, -0.0, 0.3150752406575124, 0.0)\n",
      "155 (0.0, 1.0, 0.0, 1.0, 0.0, 0.0, 0.0, 0.0, 1.0, 0.0, 0.0, 1.0, 0.0)\n",
      "156 (0.0, 1.0, 0.0, 1.0, 0.0, 0.0, 0.0, 0.0, 1.0, 0.0, 0.0, 1.0, 0.0)\n",
      "157 (0.0, 1.0, 0.0, 1.0, 0.0, 0.0, 0.0, -0.0, 0.3150752406575124, 0.0, -0.0, 0.3150752406575124, 0.0)\n",
      "158 (0.0, 1.0, 0.0, 1.0, 0.0, 0.0, 0.0, 0.0, 1.0, 0.0, 0.0, 1.0, 0.0)\n",
      "159 (0.0, 1.0, 0.0, 1.0, 0.0, 0.0, 0.0, 0.0, 1.0, 0.0, 0.0, 1.0, 0.0)\n",
      "160 (0.0, 1.0, 0.0, 1.0, 0.0, 0.0, 0.0, -0.0, 0.3150752406575124, 0.0, -0.0, 0.3150752406575124, 0.0)\n",
      "161 (0.0, 1.0, 0.0, 1.0, 0.0, 0.0, 0.0, 0.0, 1.0, 0.0, 0.0, 1.0, 0.0)\n",
      "162 (0.0, 1.0, 0.0, 1.0, 0.0, 0.0, 0.0, 0.0, 1.0, 0.0, 0.0, 1.0, 0.0)\n",
      "163 (0.0, 1.0, 0.0, 1.0, 0.0, 0.0, 0.0, -0.0, 0.3150752406575124, 0.0, -0.0, 0.3150752406575124, 0.0)\n",
      "164 (0.0, 1.0, 0.0, 1.0, 0.0, 0.0, 0.0, 0.0, 1.0, 0.0, 0.0, 1.0, 0.0)\n",
      "165 (0.0, 1.0, 0.0, 1.0, 0.0, 0.0, 0.0, 0.0, 1.0, 0.0, 0.0, 1.0, 0.0)\n",
      "166 (0.0, 1.0, 0.0, 1.0, 0.0, 0.0, 0.0, -0.0, 0.3150752406575124, 0.0, -0.0, 0.3150752406575124, 0.0)\n",
      "167 (0.0, 1.0, 0.0, 1.0, 0.0, 0.0, 0.0, 0.0, 1.0, 0.0, 0.0, 1.0, 0.0)\n",
      "168 (0.0, 1.0, 0.0, 1.0, 0.0, 0.0, 0.0, 0.0, 1.0, 0.0, 0.0, 1.0, 0.0)\n",
      "169 (0.0, 1.0, 0.0, 1.0, 0.0, 0.0, 0.0, -0.0, 0.3150752406575124, 0.0, -0.0, 0.3150752406575124, 0.0)\n",
      "170 (0.0, 1.0, 0.0, 1.0, 0.0, 0.0, 0.0, 0.0, 1.0, 0.0, 0.0, 1.0, 0.0)\n",
      "171 (0.0, 1.0, 0.0, 1.0, 0.0, 0.0, 0.0, 0.0, 1.0, 0.0, 0.0, 1.0, 0.0)\n",
      "172 (0.0, 1.0, 0.0, 1.0, 0.0, 0.0, 0.0, -0.0, 0.3150752406575124, 0.0, -0.0, 0.3150752406575124, 0.0)\n",
      "173 (0.0, 1.0, 0.0, 1.0, 0.0, 0.0, 0.0, 0.0, 1.0, 0.0, 0.0, 1.0, 0.0)\n",
      "174 (0.0, 1.0, 0.0, 1.0, 0.0, 0.0, 0.0, 0.0, 1.0, 0.0, 0.0, 1.0, 0.0)\n",
      "175 (0.0, 1.0, 0.0, 1.0, 0.0, 0.0, 0.0, -0.0, 0.3150752406575124, 0.0, -0.0, 0.3150752406575124, 0.0)\n",
      "176 (0.0, 1.0, 0.0, 1.0, 0.0, 0.0, 0.0, 0.0, 1.0, 0.0, 0.0, 1.0, 0.0)\n",
      "177 (0.0, 1.0, 0.0, 1.0, 0.0, 0.0, 0.0, 0.0, 1.0, 0.0, 0.0, 1.0, 0.0)\n",
      "178 (0.0, 1.0, 0.0, 1.0, 0.0, 0.0, 0.0, -0.0, 0.3150752406575124, 0.0, -0.0, 0.3150752406575124, 0.0)\n",
      "179 (0.0, 1.0, 0.0, 1.0, 0.0, 0.0, 0.0, 0.0, 1.0, 0.0, 0.0, 1.0, 0.0)\n",
      "180 (0.0, 1.0, 0.0, 1.0, 0.0, 0.0, 0.0, 0.0, 1.0, 0.0, 0.0, 1.0, 0.0)\n",
      "181 (0.0, 1.0, 0.0, 1.0, 0.0, 0.0, 0.0, -0.0, 0.3150752406575124, 0.0, -0.0, 0.3150752406575124, 0.0)\n",
      "182 (0.0, 1.0, 0.0, 1.0, 0.0, 0.0, 0.0, 0.0, 1.0, 0.0, 0.0, 1.0, 0.0)\n",
      "183 (0.0, 1.0, 0.0, 1.0, 0.0, 0.0, 0.0, 0.0, 1.0, 0.0, 0.0, 1.0, 0.0)\n",
      "184 (0.0, 1.0, 0.0, 1.0, 0.0, 0.0, 0.0, -0.0, 0.3150752406575124, 0.0, -0.0, 0.3150752406575124, 0.0)\n",
      "185 (0.0, 1.0, 0.0, 1.0, 0.0, 0.0, 0.0, 0.0, 1.0, 0.0, 0.0, 1.0, 0.0)\n",
      "186 (0.0, 1.0, 0.0, 1.0, 0.0, 0.0, 0.0, 0.0, 1.0, 0.0, 0.0, 1.0, 0.0)\n",
      "187 (0.0, 1.0, 0.0, 1.0, 0.0, 0.0, 0.0, -0.0, 0.3150752406575124, 0.0, -0.0, 0.3150752406575124, 0.0)\n",
      "188 (0.0, 1.0, 0.0, 1.0, 0.0, 0.0, 0.0, 0.0, 1.0, 0.0, 0.0, 1.0, 0.0)\n",
      "189 (0.0, 1.0, 0.0, 1.0, 0.0, 0.0, 0.0, 0.0, 1.0, 0.0, 0.0, 1.0, 0.0)\n",
      "190 (0.0, 1.0, 0.0, 1.0, 0.0, 0.0, 0.0, -0.0, 0.3150752406575124, 0.0, -0.0, 0.3150752406575124, 0.0)\n",
      "191 (0.0, 1.0, 0.0, 1.0, 0.0, 0.0, 0.0, 0.0, 1.0, 0.0, 0.0, 1.0, 0.0)\n",
      "192 (0.0, 1.0, 0.0, 1.0, 0.0, 0.0, 0.0, 0.0, 1.0, 0.0, 0.0, 1.0, 0.0)\n",
      "193 (0.0, 1.0, 0.0, 1.0, 0.0, 0.0, 0.0, -0.0, 0.3150752406575124, 0.0, -0.0, 0.3150752406575124, 0.0)\n",
      "194 (0.0, 1.0, 0.0, 1.0, 0.0, 0.0, 0.0, 0.0, 1.0, 0.0, 0.0, 1.0, 0.0)\n",
      "195 (0.0, 1.0, 0.0, 1.0, 0.0, 0.0, 0.0, 0.0, 1.0, 0.0, 0.0, 1.0, 0.0)\n",
      "196 (0.0, 1.0, 0.0, 1.0, 0.0, 0.0, 0.0, -0.0, 0.3150752406575124, 0.0, -0.0, 0.3150752406575124, 0.0)\n",
      "197 (0.0, 1.0, 0.0, 1.0, 0.0, 0.0, 0.0, 0.0, 1.0, 0.0, 0.0, 1.0, 0.0)\n",
      "198 (0.0, 1.0, 0.0, 1.0, 0.0, 0.0, 0.0, 0.0, 1.0, 0.0, 0.0, 1.0, 0.0)\n",
      "199 (0.0, 1.0, 0.0, 1.0, 0.0, 0.0, 0.0, -0.0, 0.3150752406575124, 0.0, -0.0, 0.3150752406575124, 0.0)\n",
      "200 (0.0, 1.0, 0.0, 1.0, 0.0, 0.0, 0.0, 0.0, 1.0, 0.0, 0.0, 1.0, 0.0)\n",
      "201 (0.0, 1.0, 0.0, 1.0, 0.0, 0.0, 0.0, 0.0, 1.0, 0.0, 0.0, 1.0, 0.0)\n",
      "202 (0.0, 1.0, 0.0, 1.0, 0.0, 0.0, 0.0, -0.0, 0.3150752406575124, 0.0, -0.0, 0.3150752406575124, 0.0)\n",
      "203 (0.0, 1.0, 0.0, 1.0, 0.0, 0.0, 0.0, 0.0, 1.0, 0.0, 0.0, 1.0, 0.0)\n",
      "204 (0.0, 1.0, 0.0, 1.0, 0.0, 0.0, 0.0, 0.0, 1.0, 0.0, 0.0, 1.0, 0.0)\n",
      "205 (0.0, 1.0, 0.0, 1.0, 0.0, 0.0, 0.0, -0.0, 0.3150752406575124, 0.0, -0.0, 0.3150752406575124, 0.0)\n",
      "206 (0.0, 1.0, 0.0, 1.0, 0.0, 0.0, 0.0, 0.0, 1.0, 0.0, 0.0, 1.0, 0.0)\n",
      "207 (0.0, 1.0, 0.0, 1.0, 0.0, 0.0, 0.0, 0.0, 1.0, 0.0, 0.0, 1.0, 0.0)\n",
      "208 (0.0, 1.0, 0.0, 1.0, 0.0, 0.0, 0.0, -0.0, 0.3150752406575124, 0.0, -0.0, 0.3150752406575124, 0.0)\n",
      "209 (0.0, 1.0, 0.0, 1.0, 0.0, 0.0, 0.0, 0.0, 1.0, 0.0, 0.0, 1.0, 0.0)\n",
      "210 (0.0, 1.0, 0.0, 1.0, 0.0, 0.0, 0.0, 0.0, 1.0, 0.0, 0.0, 1.0, 0.0)\n",
      "211 (0.0, 1.0, 0.0, 1.0, 0.0, 0.0, 0.0, -0.0, 0.3150752406575124, 0.0, -0.0, 0.3150752406575124, 0.0)\n",
      "212 (0.0, 1.0, 0.0, 1.0, 0.0, 0.0, 0.0, 0.0, 1.0, 0.0, 0.0, 1.0, 0.0)\n",
      "213 (0.0, 1.0, 0.0, 1.0, 0.0, 0.0, 0.0, 0.0, 1.0, 0.0, 0.0, 1.0, 0.0)\n",
      "214 (0.0, 1.0, 0.0, 1.0, 0.0, 0.0, 0.0, -0.0, 0.3150752406575124, 0.0, -0.0, 0.3150752406575124, 0.0)\n",
      "215 (0.0, 1.0, 0.0, 1.0, 0.0, 0.0, 0.0, 0.0, 1.0, 0.0, 0.0, 1.0, 0.0)\n",
      "216 (0.0, 1.0, 0.0, 1.0, 0.0, 0.0, 0.0, 0.0, 1.0, 0.0, 0.0, 1.0, 0.0)\n",
      "217 (0.0, 1.0, 0.0, 1.0, 0.0, 0.0, 0.0, -0.0, 0.3150752406575124, 0.0, -0.0, 0.3150752406575124, 0.0)\n",
      "218 (0.0, 1.0, 0.0, 1.0, 0.0, 0.0, 0.0, 0.0, 1.0, 0.0, 0.0, 1.0, 0.0)\n",
      "219 (0.0, 1.0, 0.0, 1.0, 0.0, 0.0, 0.0, 0.0, 1.0, 0.0, 0.0, 1.0, 0.0)\n",
      "220 (0.0, 1.0, 0.0, 1.0, 0.0, 0.0, 0.0, -0.0, 0.3150752406575124, 0.0, -0.0, 0.3150752406575124, 0.0)\n",
      "221 (0.0, 1.0, 0.0, 1.0, 0.0, 0.0, 0.0, 0.0, 1.0, 0.0, 0.0, 1.0, 0.0)\n",
      "222 (0.0, 1.0, 0.0, 1.0, 0.0, 0.0, 0.0, 0.0, 1.0, 0.0, 0.0, 1.0, 0.0)\n",
      "223 (0.0, 1.0, 0.0, 1.0, 0.0, 0.0, 0.0, -0.0, 0.3150752406575124, 0.0, -0.0, 0.3150752406575124, 0.0)\n",
      "224 (0.0, 1.0, 0.0, 1.0, 0.0, 0.0, 0.0, 0.0, 1.0, 0.0, 0.0, 1.0, 0.0)\n",
      "225 (0.0, 1.0, 0.0, 1.0, 0.0, 0.0, 0.0, 0.0, 1.0, 0.0, 0.0, 1.0, 0.0)\n",
      "226 (0.0, 1.0, 0.0, 1.0, 0.0, 0.0, 0.0, -0.0, 0.3150752406575124, 0.0, -0.0, 0.3150752406575124, 0.0)\n",
      "227 (0.0, 1.0, 0.0, 1.0, 0.0, 0.0, 0.0, 0.0, 1.0, 0.0, 0.0, 1.0, 0.0)\n",
      "228 (0.0, 1.0, 0.0, 1.0, 0.0, 0.0, 0.0, 0.0, 1.0, 0.0, 0.0, 1.0, 0.0)\n",
      "229 (0.0, 1.0, 0.0, 1.0, 0.0, 0.0, 0.0, -0.0, 0.3150752406575124, 0.0, -0.0, 0.3150752406575124, 0.0)\n",
      "230 (0.0, 1.0, 0.0, 1.0, 0.0, 0.0, 0.0, 0.0, 1.0, 0.0, 0.0, 1.0, 0.0)\n",
      "231 (0.0, 1.0, 0.0, 1.0, 0.0, 0.0, 0.0, 0.0, 1.0, 0.0, 0.0, 1.0, 0.0)\n",
      "232 (0.0, 1.0, 0.0, 1.0, 0.0, 0.0, 0.0, -0.0, 0.3150752406575124, 0.0, -0.0, 0.3150752406575124, 0.0)\n",
      "233 (0.0, 1.0, 0.0, 1.0, 0.0, 0.0, 0.0, 0.0, 1.0, 0.0, 0.0, 1.0, 0.0)\n",
      "234 (0.0, 1.0, 0.0, 1.0, 0.0, 0.0, 0.0, 0.0, 1.0, 0.0, 0.0, 1.0, 0.0)\n",
      "235 (0.0, 1.0, 0.0, 1.0, 0.0, 0.0, 0.0, -0.0, 0.3150752406575124, 0.0, -0.0, 0.3150752406575124, 0.0)\n",
      "236 (0.0, 1.0, 0.0, 1.0, 0.0, 0.0, 0.0, 0.0, 1.0, 0.0, 0.0, 1.0, 0.0)\n",
      "237 (0.0, 1.0, 0.0, 1.0, 0.0, 0.0, 0.0, 0.0, 1.0, 0.0, 0.0, 1.0, 0.0)\n",
      "238 (0.0, 1.0, 0.0, 1.0, 0.0, 0.0, 0.0, -0.0, 0.3150752406575124, 0.0, -0.0, 0.3150752406575124, 0.0)\n",
      "239 (0.0, 1.0, 0.0, 1.0, 0.0, 0.0, 0.0, 0.0, 1.0, 0.0, 0.0, 1.0, 0.0)\n",
      "240 (0.0, 1.0, 0.0, 1.0, 0.0, 0.0, 0.0, 0.0, 1.0, 0.0, 0.0, 1.0, 0.0)\n",
      "241 (0.0, 1.0, 0.0, 1.0, 0.0, 0.0, 0.0, -0.0, 0.3150752406575124, 0.0, -0.0, 0.3150752406575124, 0.0)\n",
      "242 (0.0, 1.0, 0.0, 1.0, 0.0, 0.0, 0.0, 0.0, 1.0, 0.0, 0.0, 1.0, 0.0)\n",
      "243 (0.0, 1.0, 0.0, 1.0, 0.0, 0.0, 0.0, 0.0, 1.0, 0.0, 0.0, 1.0, 0.0)\n",
      "244 (0.0, 1.0, 0.0, 1.0, 0.0, 0.0, 0.0, -0.0, 0.3150752406575124, 0.0, -0.0, 0.3150752406575124, 0.0)\n",
      "245 (0.0, 1.0, 0.0, 1.0, 0.0, 0.0, 0.0, 0.0, 1.0, 0.0, 0.0, 1.0, 0.0)\n",
      "246 (0.0, 1.0, 0.0, 1.0, 0.0, 0.0, 0.0, 0.0, 1.0, 0.0, 0.0, 1.0, 0.0)\n",
      "247 (0.0, 1.0, 0.0, 1.0, 0.0, 0.0, 0.0, -0.0, 0.3150752406575124, 0.0, -0.0, 0.3150752406575124, 0.0)\n",
      "248 (0.0, 1.0, 0.0, 1.0, 0.0, 0.0, 0.0, 0.0, 1.0, 0.0, 0.0, 1.0, 0.0)\n",
      "249 (0.0, 1.0, 0.0, 1.0, 0.0, 0.0, 0.0, 0.0, 1.0, 0.0, 0.0, 1.0, 0.0)\n",
      "250 (0.0, 1.0, 0.0, 1.0, 0.0, 0.0, 0.0, -0.0, 0.3150752406575124, 0.0, -0.0, 0.3150752406575124, 0.0)\n",
      "251 (0.0, 1.0, 0.0, 1.0, 0.0, 0.0, 0.0, 0.0, 1.0, 0.0, 0.0, 1.0, 0.0)\n",
      "252 (0.0, 1.0, 0.0, 1.0, 0.0, 0.0, 0.0, 0.0, 1.0, 0.0, 0.0, 1.0, 0.0)\n",
      "253 (0.0, 1.0, 0.0, 1.0, 0.0, 0.0, 0.0, -0.0, 0.3150752406575124, 0.0, -0.0, 0.3150752406575124, 0.0)\n",
      "254 (0.0, 1.0, 0.0, 1.0, 0.0, 0.0, 0.0, 0.0, 1.0, 0.0, 0.0, 1.0, 0.0)\n",
      "255 (0.0, 1.0, 0.0, 1.0, 0.0, 0.0, 0.0, 0.0, 1.0, 0.0, 0.0, 1.0, 0.0)\n",
      "256 (0.0, 1.0, 0.0, 1.0, 0.0, 0.0, 0.0, -0.0, 0.3150752406575124, 0.0, -0.0, 0.3150752406575124, 0.0)\n",
      "257 (0.0, 1.0, 0.0, 1.0, 0.0, 0.0, 0.0, 0.0, 1.0, 0.0, 0.0, 1.0, 0.0)\n",
      "258 (0.0, 1.0, 0.0, 1.0, 0.0, 0.0, 0.0, 0.0, 1.0, 0.0, 0.0, 1.0, 0.0)\n",
      "259 (0.0, 1.0, 0.0, 1.0, 0.0, 0.0, 0.0, -0.0, 0.3150752406575124, 0.0, -0.0, 0.3150752406575124, 0.0)\n",
      "260 (0.0, 1.0, 0.0, 1.0, 0.0, 0.0, 0.0, 0.0, 1.0, 0.0, 0.0, 1.0, 0.0)\n",
      "261 (0.0, 1.0, 0.0, 1.0, 0.0, 0.0, 0.0, 0.0, 1.0, 0.0, 0.0, 1.0, 0.0)\n",
      "262 (0.0, 1.0, 0.0, 1.0, 0.0, 0.0, 0.0, -0.0, 0.3150752406575124, 0.0, -0.0, 0.3150752406575124, 0.0)\n",
      "263 (0.0, 1.0, 0.0, 1.0, 0.0, 0.0, 0.0, 0.0, 1.0, 0.0, 0.0, 1.0, 0.0)\n",
      "264 (0.0, 1.0, 0.0, 1.0, 0.0, 0.0, 0.0, 0.0, 1.0, 0.0, 0.0, 1.0, 0.0)\n",
      "265 (0.0, 1.0, 0.0, 1.0, 0.0, 0.0, 0.0, -0.0, 0.3150752406575124, 0.0, -0.0, 0.3150752406575124, 0.0)\n",
      "266 (0.0, 1.0, 0.0, 1.0, 0.0, 0.0, 0.0, 0.0, 1.0, 0.0, 0.0, 1.0, 0.0)\n",
      "267 (0.0, 1.0, 0.0, 1.0, 0.0, 0.0, 0.0, 0.0, 1.0, 0.0, 0.0, 1.0, 0.0)\n",
      "268 (0.0, 1.0, 0.0, 1.0, 0.0, 0.0, 0.0, -0.0, 0.3150752406575124, 0.0, -0.0, 0.3150752406575124, 0.0)\n",
      "269 (0.0, 1.0, 0.0, 1.0, 0.0, 0.0, 0.0, 0.0, 1.0, 0.0, 0.0, 1.0, 0.0)\n",
      "270 (0.0, 1.0, 0.0, 1.0, 0.0, 0.0, 0.0, 0.0, 1.0, 0.0, 0.0, 1.0, 0.0)\n",
      "271 (0.0, 1.0, 0.0, 1.0, 0.0, 0.0, 0.0, -0.0, 0.3150752406575124, 0.0, -0.0, 0.3150752406575124, 0.0)\n",
      "272 (0.0, 1.0, 0.0, 1.0, 0.0, 0.0, 0.0, 0.0, 1.0, 0.0, 0.0, 1.0, 0.0)\n",
      "273 (0.0, 1.0, 0.0, 1.0, 0.0, 0.0, 0.0, 0.0, 1.0, 0.0, 0.0, 1.0, 0.0)\n",
      "274 (0.0, 1.0, 0.0, 1.0, 0.0, 0.0, 0.0, -0.0, 0.3150752406575124, 0.0, -0.0, 0.3150752406575124, 0.0)\n",
      "275 (0.0, 1.0, 0.0, 1.0, 0.0, 0.0, 0.0, 0.0, 1.0, 0.0, 0.0, 1.0, 0.0)\n",
      "276 (0.0, 1.0, 0.0, 1.0, 0.0, 0.0, 0.0, 0.0, 1.0, 0.0, 0.0, 1.0, 0.0)\n",
      "277 (0.0, 1.0, 0.0, 1.0, 0.0, 0.0, 0.0, -0.0, 0.3150752406575124, 0.0, -0.0, 0.3150752406575124, 0.0)\n",
      "278 (0.0, 1.0, 0.0, 1.0, 0.0, 0.0, 0.0, 0.0, 1.0, 0.0, 0.0, 1.0, 0.0)\n",
      "279 (0.0, 1.0, 0.0, 1.0, 0.0, 0.0, 0.0, 0.0, 1.0, 0.0, 0.0, 1.0, 0.0)\n",
      "280 (0.0, 1.0, 0.0, 1.0, 0.0, 0.0, 0.0, -0.0, 0.3150752406575124, 0.0, -0.0, 0.3150752406575124, 0.0)\n",
      "281 (0.0, 1.0, 0.0, 1.0, 0.0, 0.0, 0.0, 0.0, 1.0, 0.0, 0.0, 1.0, 0.0)\n",
      "282 (0.0, 1.0, 0.0, 1.0, 0.0, 0.0, 0.0, 0.0, 1.0, 0.0, 0.0, 1.0, 0.0)\n",
      "283 (0.0, 1.0, 0.0, 1.0, 0.0, 0.0, 0.0, -0.0, 0.3150752406575124, 0.0, -0.0, 0.3150752406575124, 0.0)\n",
      "284 (0.0, 1.0, 0.0, 1.0, 0.0, 0.0, 0.0, 0.0, 1.0, 0.0, 0.0, 1.0, 0.0)\n",
      "285 (0.0, 1.0, 0.0, 1.0, 0.0, 0.0, 0.0, 0.0, 1.0, 0.0, 0.0, 1.0, 0.0)\n",
      "286 (0.0, 1.0, 0.0, 1.0, 0.0, 0.0, 0.0, -0.0, 0.3150752406575124, 0.0, -0.0, 0.3150752406575124, 0.0)\n",
      "287 (0.0, 1.0, 0.0, 1.0, 0.0, 0.0, 0.0, 0.0, 1.0, 0.0, 0.0, 1.0, 0.0)\n",
      "288 (0.0, 1.0, 0.0, 1.0, 0.0, 0.0, 0.0, 0.0, 1.0, 0.0, 0.0, 1.0, 0.0)\n",
      "289 (0.0, 1.0, 0.0, 1.0, 0.0, 0.0, 0.0, -0.0, 0.3150752406575124, 0.0, -0.0, 0.3150752406575124, 0.0)\n",
      "290 (0.0, 1.0, 0.0, 1.0, 0.0, 0.0, 0.0, 0.0, 1.0, 0.0, 0.0, 1.0, 0.0)\n",
      "291 (0.0, 1.0, 0.0, 1.0, 0.0, 0.0, 0.0, 0.0, 1.0, 0.0, 0.0, 1.0, 0.0)\n",
      "292 (0.0, 1.0, 0.0, 1.0, 0.0, 0.0, 0.0, -0.0, 0.3150752406575124, 0.0, -0.0, 0.3150752406575124, 0.0)\n",
      "293 (0.0, 1.0, 0.0, 1.0, 0.0, 0.0, 0.0, 0.0, 1.0, 0.0, 0.0, 1.0, 0.0)\n",
      "294 (0.0, 1.0, 0.0, 1.0, 0.0, 0.0, 0.0, 0.0, 1.0, 0.0, 0.0, 1.0, 0.0)\n",
      "295 (0.0, 1.0, 0.0, 1.0, 0.0, 0.0, 0.0, -0.0, 0.3150752406575124, 0.0, -0.0, 0.3150752406575124, 0.0)\n",
      "296 (0.0, 1.0, 0.0, 1.0, 0.0, 0.0, 0.0, 0.0, 1.0, 0.0, 0.0, 1.0, 0.0)\n",
      "297 (0.0, 1.0, 0.0, 1.0, 0.0, 0.0, 0.0, 0.0, 1.0, 0.0, 0.0, 1.0, 0.0)\n",
      "298 (0.0, 1.0, 0.0, 1.0, 0.0, 0.0, 0.0, -0.0, 0.3150752406575124, 0.0, -0.0, 0.3150752406575124, 0.0)\n",
      "299 (0.0, 1.0, 0.0, 1.0, 0.0, 0.0, 0.0, 0.0, 1.0, 0.0, 0.0, 1.0, 0.0)\n",
      "300 (0.0, 1.0, 0.0, 1.0, 0.0, 0.0, 0.0, 0.0, 1.0, 0.0, 0.0, 1.0, 0.0)\n",
      "301 (0.0, 1.0, 0.0, 1.0, 0.0, 0.0, 0.0, -0.0, 0.3150752406575124, 0.0, -0.0, 0.3150752406575124, 0.0)\n",
      "302 (0.0, 1.0, 0.0, 1.0, 0.0, 0.0, 0.0, 0.0, 1.0, 0.0, 0.0, 1.0, 0.0)\n",
      "303 (0.0, 1.0, 0.0, 1.0, 0.0, 0.0, 0.0, 0.0, 1.0, 0.0, 0.0, 1.0, 0.0)\n",
      "304 (0.0, 1.0, 0.0, 1.0, 0.0, 0.0, 0.0, -0.0, 0.3150752406575124, 0.0, -0.0, 0.3150752406575124, 0.0)\n",
      "305 (0.0, 1.0, 0.0, 1.0, 0.0, 0.0, 0.0, 0.0, 1.0, 0.0, 0.0, 1.0, 0.0)\n",
      "306 (0.0, 1.0, 0.0, 1.0, 0.0, 0.0, 0.0, 0.0, 1.0, 0.0, 0.0, 1.0, 0.0)\n",
      "307 (0.0, 1.0, 0.0, 1.0, 0.0, 0.0, 0.0, -0.0, 0.3150752406575124, 0.0, -0.0, 0.3150752406575124, 0.0)\n",
      "308 (0.0, 1.0, 0.0, 1.0, 0.0, 0.0, 0.0, 0.0, 1.0, 0.0, 0.0, 1.0, 0.0)\n",
      "309 (0.0, 1.0, 0.0, 1.0, 0.0, 0.0, 0.0, 0.0, 1.0, 0.0, 0.0, 1.0, 0.0)\n",
      "310 (0.0, 1.0, 0.0, 1.0, 0.0, 0.0, 0.0, -0.0, 0.3150752406575124, 0.0, -0.0, 0.3150752406575124, 0.0)\n",
      "311 (0.0, 1.0, 0.0, 1.0, 0.0, 0.0, 0.0, 0.0, 1.0, 0.0, 0.0, 1.0, 0.0)\n",
      "312 (0.0, 1.0, 0.0, 1.0, 0.0, 0.0, 0.0, 0.0, 1.0, 0.0, 0.0, 1.0, 0.0)\n",
      "313 (0.0, 1.0, 0.0, 1.0, 0.0, 0.0, 0.0, -0.0, 0.3150752406575124, 0.0, -0.0, 0.3150752406575124, 0.0)\n",
      "314 (0.0, 1.0, 0.0, 1.0, 0.0, 0.0, 0.0, 0.0, 1.0, 0.0, 0.0, 1.0, 0.0)\n",
      "315 (0.0, 1.0, 0.0, 1.0, 0.0, 0.0, 0.0, 0.0, 1.0, 0.0, 0.0, 1.0, 0.0)\n",
      "316 (0.0, 1.0, 0.0, 1.0, 0.0, 0.0, 0.0, -0.0, 0.3150752406575124, 0.0, -0.0, 0.3150752406575124, 0.0)\n",
      "317 (0.0, 1.0, 0.0, 1.0, 0.0, 0.0, 0.0, 0.0, 1.0, 0.0, 0.0, 1.0, 0.0)\n",
      "318 (0.0, 1.0, 0.0, 1.0, 0.0, 0.0, 0.0, 0.0, 1.0, 0.0, 0.0, 1.0, 0.0)\n",
      "319 (0.0, 1.0, 0.0, 1.0, 0.0, 0.0, 0.0, -0.0, 0.3150752406575124, 0.0, -0.0, 0.3150752406575124, 0.0)\n",
      "320 (0.0, 1.0, 0.0, 1.0, 0.0, 0.0, 0.0, 0.0, 1.0, 0.0, 0.0, 1.0, 0.0)\n",
      "321 (0.0, 1.0, 0.0, 1.0, 0.0, 0.0, 0.0, 0.0, 1.0, 0.0, 0.0, 1.0, 0.0)\n",
      "322 (0.0, 1.0, 0.0, 1.0, 0.0, 0.0, 0.0, -0.0, 0.3150752406575124, 0.0, -0.0, 0.3150752406575124, 0.0)\n",
      "323 (0.0, 1.0, 0.0, 1.0, 0.0, 0.0, 0.0, 0.0, 1.0, 0.0, 0.0, 1.0, 0.0)\n",
      "324 (0.0, 1.0, 0.0, 1.0, 0.0, 0.0, 0.0, 0.0, 1.0, 0.0, 0.0, 1.0, 0.0)\n",
      "325 (0.0, 1.0, 0.0, 1.0, 0.0, 0.0, 0.0, -0.0, 0.3150752406575124, 0.0, -0.0, 0.3150752406575124, 0.0)\n",
      "326 (0.0, 1.0, 0.0, 1.0, 0.0, 0.0, 0.0, 0.0, 1.0, 0.0, 0.0, 1.0, 0.0)\n",
      "327 (0.0, 1.0, 0.0, 1.0, 0.0, 0.0, 0.0, 0.0, 1.0, 0.0, 0.0, 1.0, 0.0)\n",
      "328 (0.0, 1.0, 0.0, 1.0, 0.0, 0.0, 0.0, -0.0, 0.3150752406575124, 0.0, -0.0, 0.3150752406575124, 0.0)\n",
      "329 (0.0, 1.0, 0.0, 1.0, 0.0, 0.0, 0.0, 0.0, 1.0, 0.0, 0.0, 1.0, 0.0)\n",
      "330 (0.0, 1.0, 0.0, 1.0, 0.0, 0.0, 0.0, 0.0, 1.0, 0.0, 0.0, 1.0, 0.0)\n",
      "331 (0.0, 1.0, 0.0, 1.0, 0.0, 0.0, 0.0, -0.0, 0.3150752406575124, 0.0, -0.0, 0.3150752406575124, 0.0)\n",
      "332 (0.0, 1.0, 0.0, 1.0, 0.0, 0.0, 0.0, 0.0, 1.0, 0.0, 0.0, 1.0, 0.0)\n",
      "333 (0.0, 1.0, 0.0, 1.0, 0.0, 0.0, 0.0, 0.0, 1.0, 0.0, 0.0, 1.0, 0.0)\n",
      "334 (0.0, 1.0, 0.0, 1.0, 0.0, 0.0, 0.0, -0.0, 0.3150752406575124, 0.0, -0.0, 0.3150752406575124, 0.0)\n",
      "335 (0.0, 1.0, 0.0, 1.0, 0.0, 0.0, 0.0, 0.0, 1.0, 0.0, 0.0, 1.0, 0.0)\n",
      "336 (0.0, 1.0, 0.0, 1.0, 0.0, 0.0, 0.0, 0.0, 1.0, 0.0, 0.0, 1.0, 0.0)\n",
      "337 (0.0, 1.0, 0.0, 1.0, 0.0, 0.0, 0.0, -0.0, 0.3150752406575124, 0.0, -0.0, 0.3150752406575124, 0.0)\n",
      "338 (0.0, 1.0, 0.0, 1.0, 0.0, 0.0, 0.0, 0.0, 1.0, 0.0, 0.0, 1.0, 0.0)\n",
      "339 (0.0, 1.0, 0.0, 1.0, 0.0, 0.0, 0.0, 0.0, 1.0, 0.0, 0.0, 1.0, 0.0)\n",
      "340 (0.0, 1.0, 0.0, 1.0, 0.0, 0.0, 0.0, -0.0, 0.3150752406575124, 0.0, -0.0, 0.3150752406575124, 0.0)\n",
      "341 (0.0, 1.0, 0.0, 1.0, 0.0, 0.0, 0.0, 0.0, 1.0, 0.0, 0.0, 1.0, 0.0)\n",
      "342 (0.0, 1.0, 0.0, 1.0, 0.0, 0.0, 0.0, 0.0, 1.0, 0.0, 0.0, 1.0, 0.0)\n",
      "343 (0.0, 1.0, 0.0, 1.0, 0.0, 0.0, 0.0, -0.0, 0.3150752406575124, 0.0, -0.0, 0.3150752406575124, 0.0)\n",
      "344 (0.0, 1.0, 0.0, 1.0, 0.0, 0.0, 0.0, 0.0, 1.0, 0.0, 0.0, 1.0, 0.0)\n",
      "345 (0.0, 1.0, 0.0, 1.0, 0.0, 0.0, 0.0, 0.0, 1.0, 0.0, 0.0, 1.0, 0.0)\n",
      "346 (0.0, 1.0, 0.0, 1.0, 0.0, 0.0, 0.0, -0.0, 0.3150752406575124, 0.0, -0.0, 0.3150752406575124, 0.0)\n",
      "347 (0.0, 1.0, 0.0, 1.0, 0.0, 0.0, 0.0, 0.0, 1.0, 0.0, 0.0, 1.0, 0.0)\n",
      "348 (0.0, 1.0, 0.0, 1.0, 0.0, 0.0, 0.0, 0.0, 1.0, 0.0, 0.0, 1.0, 0.0)\n",
      "349 (0.0, 1.0, 0.0, 1.0, 0.0, 0.0, 0.0, -0.0, 0.3150752406575124, 0.0, -0.0, 0.3150752406575124, 0.0)\n",
      "350 (0.0, 1.0, 0.0, 1.0, 0.0, 0.0, 0.0, 0.0, 1.0, 0.0, 0.0, 1.0, 0.0)\n",
      "351 (0.0, 1.0, 0.0, 1.0, 0.0, 0.0, 0.0, 0.0, 1.0, 0.0, 0.0, 1.0, 0.0)\n",
      "352 (0.0, 1.0, 0.0, 1.0, 0.0, 0.0, 0.0, -0.0, 0.3150752406575124, 0.0, -0.0, 0.3150752406575124, 0.0)\n",
      "353 (0.0, 1.0, 0.0, 1.0, 0.0, 0.0, 0.0, 0.0, 1.0, 0.0, 0.0, 1.0, 0.0)\n",
      "354 (0.0, 1.0, 0.0, 1.0, 0.0, 0.0, 0.0, 0.0, 1.0, 0.0, 0.0, 1.0, 0.0)\n",
      "355 (0.0, 1.0, 0.0, 1.0, 0.0, 0.0, 0.0, -0.0, 0.3150752406575124, 0.0, -0.0, 0.3150752406575124, 0.0)\n",
      "356 (0.0, 1.0, 0.0, 1.0, 0.0, 0.0, 0.0, 0.0, 1.0, 0.0, 0.0, 1.0, 0.0)\n",
      "357 (0.0, 1.0, 0.0, 1.0, 0.0, 0.0, 0.0, 0.0, 1.0, 0.0, 0.0, 1.0, 0.0)\n",
      "358 (0.0, 1.0, 0.0, 1.0, 0.0, 0.0, 0.0, -0.0, 0.3150752406575124, 0.0, -0.0, 0.3150752406575124, 0.0)\n",
      "359 (0.0, 1.0, 0.0, 1.0, 0.0, 0.0, 0.0, 0.0, 1.0, 0.0, 0.0, 1.0, 0.0)\n",
      "360 (0.0, 1.0, 0.0, 1.0, 0.0, 0.0, 0.0, 0.0, 1.0, 0.0, 0.0, 1.0, 0.0)\n",
      "361 (0.0, 1.0, 0.0, 1.0, 0.0, 0.0, 0.0, -0.0, 0.3150752406575124, 0.0, -0.0, 0.3150752406575124, 0.0)\n",
      "362 (0.0, 1.0, 0.0, 1.0, 0.0, 0.0, 0.0, 0.0, 1.0, 0.0, 0.0, 1.0, 0.0)\n",
      "363 (0.0, 1.0, 0.0, 1.0, 0.0, 0.0, 0.0, 0.0, 1.0, 0.0, 0.0, 1.0, 0.0)\n",
      "364 (0.0, 1.0, 0.0, 1.0, 0.0, 0.0, 0.0, -0.0, 0.3150752406575124, 0.0, -0.0, 0.3150752406575124, 0.0)\n",
      "365 (0.0, 1.0, 0.0, 1.0, 0.0, 0.0, 0.0, 0.0, 1.0, 0.0, 0.0, 1.0, 0.0)\n",
      "366 (0.0, 1.0, 0.0, 1.0, 0.0, 0.0, 0.0, 0.0, 1.0, 0.0, 0.0, 1.0, 0.0)\n",
      "367 (0.0, 1.0, 0.0, 1.0, 0.0, 0.0, 0.0, -0.0, 0.3150752406575124, 0.0, -0.0, 0.3150752406575124, 0.0)\n",
      "368 (0.0, 1.0, 0.0, 1.0, 0.0, 0.0, 0.0, 0.0, 1.0, 0.0, 0.0, 1.0, 0.0)\n",
      "369 (0.0, 1.0, 0.0, 1.0, 0.0, 0.0, 0.0, 0.0, 1.0, 0.0, 0.0, 1.0, 0.0)\n",
      "370 (0.0, 1.0, 0.0, 1.0, 0.0, 0.0, 0.0, -0.0, 0.3150752406575124, 0.0, -0.0, 0.3150752406575124, 0.0)\n",
      "371 (0.0, 1.0, 0.0, 1.0, 0.0, 0.0, 0.0, 0.0, 1.0, 0.0, 0.0, 1.0, 0.0)\n",
      "372 (0.0, 1.0, 0.0, 1.0, 0.0, 0.0, 0.0, 0.0, 1.0, 0.0, 0.0, 1.0, 0.0)\n",
      "373 (0.0, 1.0, 0.0, 1.0, 0.0, 0.0, 0.0, -0.0, 0.3150752406575124, 0.0, -0.0, 0.3150752406575124, 0.0)\n",
      "374 (0.0, 1.0, 0.0, 1.0, 0.0, 0.0, 0.0, 0.0, 1.0, 0.0, 0.0, 1.0, 0.0)\n",
      "375 (0.0, 1.0, 0.0, 1.0, 0.0, 0.0, 0.0, 0.0, 1.0, 0.0, 0.0, 1.0, 0.0)\n",
      "376 (0.0, 1.0, 0.0, 1.0, 0.0, 0.0, 0.0, -0.0, 0.3150752406575124, 0.0, -0.0, 0.3150752406575124, 0.0)\n",
      "377 (0.0, 1.0, 0.0, 1.0, 0.0, 0.0, 0.0, 0.0, 1.0, 0.0, 0.0, 1.0, 0.0)\n",
      "378 (0.0, 1.0, 0.0, 1.0, 0.0, 0.0, 0.0, 0.0, 1.0, 0.0, 0.0, 1.0, 0.0)\n",
      "379 (0.0, 1.0, 0.0, 1.0, 0.0, 0.0, 0.0, -0.0, 0.3150752406575124, 0.0, -0.0, 0.3150752406575124, 0.0)\n",
      "380 (0.0, 1.0, 0.0, 1.0, 0.0, 0.0, 0.0, 0.0, 1.0, 0.0, 0.0, 1.0, 0.0)\n",
      "381 (0.0, 1.0, 0.0, 1.0, 0.0, 0.0, 0.0, 0.0, 1.0, 0.0, 0.0, 1.0, 0.0)\n",
      "382 (0.0, 1.0, 0.0, 1.0, 0.0, 0.0, 0.0, -0.0, 0.3150752406575124, 0.0, -0.0, 0.3150752406575124, 0.0)\n",
      "383 (0.0, 1.0, 0.0, 1.0, 0.0, 0.0, 0.0, 0.0, 1.0, 0.0, 0.0, 1.0, 0.0)\n",
      "384 (0.0, 1.0, 0.0, 1.0, 0.0, 0.0, 0.0, 0.0, 1.0, 0.0, 0.0, 1.0, 0.0)\n",
      "385 (0.0, 1.0, 0.0, 1.0, 0.0, 0.0, 0.0, -0.0, 0.3150752406575124, 0.0, -0.0, 0.3150752406575124, 0.0)\n",
      "386 (0.0, 1.0, 0.0, 1.0, 0.0, 0.0, 0.0, 0.0, 1.0, 0.0, 0.0, 1.0, 0.0)\n",
      "387 (0.0, 1.0, 0.0, 1.0, 0.0, 0.0, 0.0, 0.0, 1.0, 0.0, 0.0, 1.0, 0.0)\n",
      "388 (0.0, 1.0, 0.0, 1.0, 0.0, 0.0, 0.0, -0.0, 0.3150752406575124, 0.0, -0.0, 0.3150752406575124, 0.0)\n",
      "389 (0.0, 1.0, 0.0, 1.0, 0.0, 0.0, 0.0, 0.0, 1.0, 0.0, 0.0, 1.0, 0.0)\n",
      "390 (0.0, 1.0, 0.0, 1.0, 0.0, 0.0, 0.0, 0.0, 1.0, 0.0, 0.0, 1.0, 0.0)\n",
      "391 (0.0, 1.0, 0.0, 1.0, 0.0, 0.0, 0.0, -0.0, 0.3150752406575124, 0.0, -0.0, 0.3150752406575124, 0.0)\n",
      "392 (0.0, 1.0, 0.0, 1.0, 0.0, 0.0, 0.0, 0.0, 1.0, 0.0, 0.0, 1.0, 0.0)\n",
      "393 (0.0, 1.0, 0.0, 1.0, 0.0, 0.0, 0.0, 0.0, 1.0, 0.0, 0.0, 1.0, 0.0)\n",
      "394 (0.0, 1.0, 0.0, 1.0, 0.0, 0.0, 0.0, -0.0, 0.3150752406575124, 0.0, -0.0, 0.3150752406575124, 0.0)\n",
      "395 (0.0, 1.0, 0.0, 1.0, 0.0, 0.0, 0.0, 0.0, 1.0, 0.0, 0.0, 1.0, 0.0)\n",
      "396 (0.0, 1.0, 0.0, 1.0, 0.0, 0.0, 0.0, 0.0, 1.0, 0.0, 0.0, 1.0, 0.0)\n",
      "397 (0.0, 1.0, 0.0, 1.0, 0.0, 0.0, 0.0, -0.0, 0.3150752406575124, 0.0, -0.0, 0.3150752406575124, 0.0)\n",
      "398 (0.0, 1.0, 0.0, 1.0, 0.0, 0.0, 0.0, 0.0, 1.0, 0.0, 0.0, 1.0, 0.0)\n",
      "399 (0.0, 1.0, 0.0, 1.0, 0.0, 0.0, 0.0, 0.0, 1.0, 0.0, 0.0, 1.0, 0.0)\n",
      "400 (0.0, 1.0, 0.0, 1.0, 0.0, 0.0, 0.0, -0.0, 0.3150752406575124, 0.0, -0.0, 0.3150752406575124, 0.0)\n",
      "401 (0.0, 1.0, 0.0, 1.0, 0.0, 0.0, 0.0, 0.0, 1.0, 0.0, 0.0, 1.0, 0.0)\n",
      "402 (0.0, 1.0, 0.0, 1.0, 0.0, 0.0, 0.0, 0.0, 1.0, 0.0, 0.0, 1.0, 0.0)\n",
      "403 (0.0, 1.0, 0.0, 1.0, 0.0, 0.0, 0.0, -0.0, 0.3150752406575124, 0.0, -0.0, 0.3150752406575124, 0.0)\n",
      "404 (0.0, 1.0, 0.0, 1.0, 0.0, 0.0, 0.0, 0.0, 1.0, 0.0, 0.0, 1.0, 0.0)\n",
      "405 (0.0, 1.0, 0.0, 1.0, 0.0, 0.0, 0.0, 0.0, 1.0, 0.0, 0.0, 1.0, 0.0)\n",
      "406 (0.0, 1.0, 0.0, 1.0, 0.0, 0.0, 0.0, -0.0, 0.3150752406575124, 0.0, -0.0, 0.3150752406575124, 0.0)\n",
      "407 (0.0, 1.0, 0.0, 1.0, 0.0, 0.0, 0.0, 0.0, 1.0, 0.0, 0.0, 1.0, 0.0)\n",
      "408 (0.0, 1.0, 0.0, 1.0, 0.0, 0.0, 0.0, 0.0, 1.0, 0.0, 0.0, 1.0, 0.0)\n",
      "409 (0.0, 1.0, 0.0, 1.0, 0.0, 0.0, 0.0, -0.0, 0.3150752406575124, 0.0, -0.0, 0.3150752406575124, 0.0)\n",
      "410 (0.0, 1.0, 0.0, 1.0, 0.0, 0.0, 0.0, 0.0, 1.0, 0.0, 0.0, 1.0, 0.0)\n",
      "411 (0.0, 1.0, 0.0, 1.0, 0.0, 0.0, 0.0, 0.0, 1.0, 0.0, 0.0, 1.0, 0.0)\n",
      "412 (0.0, 1.0, 0.0, 1.0, 0.0, 0.0, 0.0, -0.0, 0.3150752406575124, 0.0, -0.0, 0.3150752406575124, 0.0)\n",
      "413 (0.0, 1.0, 0.0, 1.0, 0.0, 0.0, 0.0, 0.0, 1.0, 0.0, 0.0, 1.0, 0.0)\n",
      "414 (0.0, 1.0, 0.0, 1.0, 0.0, 0.0, 0.0, 0.0, 1.0, 0.0, 0.0, 1.0, 0.0)\n",
      "415 (0.0, 1.0, 0.0, 1.0, 0.0, 0.0, 0.0, -0.0, 0.3150752406575124, 0.0, -0.0, 0.3150752406575124, 0.0)\n",
      "416 (0.0, 1.0, 0.0, 1.0, 0.0, 0.0, 0.0, 0.0, 1.0, 0.0, 0.0, 1.0, 0.0)\n",
      "417 (0.0, 1.0, 0.0, 1.0, 0.0, 0.0, 0.0, 0.0, 1.0, 0.0, 0.0, 1.0, 0.0)\n",
      "418 (0.0, 1.0, 0.0, 1.0, 0.0, 0.0, 0.0, -0.0, 0.3150752406575124, 0.0, -0.0, 0.3150752406575124, 0.0)\n",
      "419 (0.0, 1.0, 0.0, 1.0, 0.0, 0.0, 0.0, 0.0, 1.0, 0.0, 0.0, 1.0, 0.0)\n",
      "420 (0.0, 1.0, 0.0, 1.0, 0.0, 0.0, 0.0, 0.0, 1.0, 0.0, 0.0, 1.0, 0.0)\n",
      "421 (0.0, 1.0, 0.0, 1.0, 0.0, 0.0, 0.0, -0.0, 0.3150752406575124, 0.0, -0.0, 0.3150752406575124, 0.0)\n",
      "422 (0.0, 1.0, 0.0, 1.0, 0.0, 0.0, 0.0, 0.0, 1.0, 0.0, 0.0, 1.0, 0.0)\n",
      "423 (0.0, 1.0, 0.0, 1.0, 0.0, 0.0, 0.0, 0.0, 1.0, 0.0, 0.0, 1.0, 0.0)\n",
      "424 (0.0, 1.0, 0.0, 1.0, 0.0, 0.0, 0.0, -0.0, 0.3150752406575124, 0.0, -0.0, 0.3150752406575124, 0.0)\n",
      "425 (0.0, 1.0, 0.0, 1.0, 0.0, 0.0, 0.0, 0.0, 1.0, 0.0, 0.0, 1.0, 0.0)\n",
      "426 (0.0, 1.0, 0.0, 1.0, 0.0, 0.0, 0.0, 0.0, 1.0, 0.0, 0.0, 1.0, 0.0)\n",
      "427 (0.0, 1.0, 0.0, 1.0, 0.0, 0.0, 0.0, -0.0, 0.3150752406575124, 0.0, -0.0, 0.3150752406575124, 0.0)\n",
      "428 (0.0, 1.0, 0.0, 1.0, 0.0, 0.0, 0.0, 0.0, 1.0, 0.0, 0.0, 1.0, 0.0)\n",
      "429 (0.0, 1.0, 0.0, 1.0, 0.0, 0.0, 0.0, 0.0, 1.0, 0.0, 0.0, 1.0, 0.0)\n",
      "430 (0.0, 1.0, 0.0, 1.0, 0.0, 0.0, 0.0, -0.0, 0.3150752406575124, 0.0, -0.0, 0.3150752406575124, 0.0)\n",
      "431 (0.0, 1.0, 0.0, 1.0, 0.0, 0.0, 0.0, 0.0, 1.0, 0.0, 0.0, 1.0, 0.0)\n",
      "432 (0.0, 1.0, 0.0, 1.0, 0.0, 0.0, 0.0, 0.0, 1.0, 0.0, 0.0, 1.0, 0.0)\n",
      "433 (0.0, 1.0, 0.0, 1.0, 0.0, 0.0, 0.0, -0.0, 0.3150752406575124, 0.0, -0.0, 0.3150752406575124, 0.0)\n",
      "434 (0.0, 1.0, 0.0, 1.0, 0.0, 0.0, 0.0, 0.0, 1.0, 0.0, 0.0, 1.0, 0.0)\n",
      "435 (0.0, 1.0, 0.0, 1.0, 0.0, 0.0, 0.0, 0.0, 1.0, 0.0, 0.0, 1.0, 0.0)\n",
      "436 (0.0, 1.0, 0.0, 1.0, 0.0, 0.0, 0.0, -0.0, 0.3150752406575124, 0.0, -0.0, 0.3150752406575124, 0.0)\n",
      "437 (0.0, 1.0, 0.0, 1.0, 0.0, 0.0, 0.0, 0.0, 1.0, 0.0, 0.0, 1.0, 0.0)\n",
      "438 (0.0, 1.0, 0.0, 1.0, 0.0, 0.0, 0.0, 0.0, 1.0, 0.0, 0.0, 1.0, 0.0)\n",
      "439 (0.0, 1.0, 0.0, 1.0, 0.0, 0.0, 0.0, -0.0, 0.3150752406575124, 0.0, -0.0, 0.3150752406575124, 0.0)\n",
      "440 (0.0, 1.0, 0.0, 1.0, 0.0, 0.0, 0.0, 0.0, 1.0, 0.0, 0.0, 1.0, 0.0)\n",
      "441 (0.0, 1.0, 0.0, 1.0, 0.0, 0.0, 0.0, 0.0, 1.0, 0.0, 0.0, 1.0, 0.0)\n",
      "442 (0.0, 1.0, 0.0, 1.0, 0.0, 0.0, 0.0, -0.0, 0.3150752406575124, 0.0, -0.0, 0.3150752406575124, 0.0)\n",
      "443 (0.0, 1.0, 0.0, 1.0, 0.0, 0.0, 0.0, 0.0, 1.0, 0.0, 0.0, 1.0, 0.0)\n",
      "444 (0.0, 1.0, 0.0, 1.0, 0.0, 0.0, 0.0, 0.0, 1.0, 0.0, 0.0, 1.0, 0.0)\n",
      "445 (0.0, 1.0, 0.0, 1.0, 0.0, 0.0, 0.0, -0.0, 0.3150752406575124, 0.0, -0.0, 0.3150752406575124, 0.0)\n",
      "446 (0.0, 1.0, 0.0, 1.0, 0.0, 0.0, 0.0, 0.0, 1.0, 0.0, 0.0, 1.0, 0.0)\n",
      "447 (0.0, 1.0, 0.0, 1.0, 0.0, 0.0, 0.0, 0.0, 1.0, 0.0, 0.0, 1.0, 0.0)\n",
      "448 (0.0, 1.0, 0.0, 1.0, 0.0, 0.0, 0.0, -0.0, 0.3150752406575124, 0.0, -0.0, 0.3150752406575124, 0.0)\n",
      "449 (0.0, 1.0, 0.0, 1.0, 0.0, 0.0, 0.0, 0.0, 1.0, 0.0, 0.0, 1.0, 0.0)\n",
      "450 (0.0, 1.0, 0.0, 1.0, 0.0, 0.0, 0.0, 0.0, 1.0, 0.0, 0.0, 1.0, 0.0)\n",
      "451 (0.0, 1.0, 0.0, 1.0, 0.0, 0.0, 0.0, -0.0, 0.3150752406575124, 0.0, -0.0, 0.3150752406575124, 0.0)\n",
      "452 (0.0, 1.0, 0.0, 1.0, 0.0, 0.0, 0.0, 0.0, 1.0, 0.0, 0.0, 1.0, 0.0)\n",
      "453 (0.0, 1.0, 0.0, 1.0, 0.0, 0.0, 0.0, 0.0, 1.0, 0.0, 0.0, 1.0, 0.0)\n",
      "454 (0.0, 1.0, 0.0, 1.0, 0.0, 0.0, 0.0, -0.0, 0.3150752406575124, 0.0, -0.0, 0.3150752406575124, 0.0)\n",
      "455 (0.0, 1.0, 0.0, 1.0, 0.0, 0.0, 0.0, 0.0, 1.0, 0.0, 0.0, 1.0, 0.0)\n",
      "456 (0.0, 1.0, 0.0, 1.0, 0.0, 0.0, 0.0, 0.0, 1.0, 0.0, 0.0, 1.0, 0.0)\n",
      "457 (0.0, 1.0, 0.0, 1.0, 0.0, 0.0, 0.0, -0.0, 0.3150752406575124, 0.0, -0.0, 0.3150752406575124, 0.0)\n",
      "458 (0.0, 1.0, 0.0, 1.0, 0.0, 0.0, 0.0, 0.0, 1.0, 0.0, 0.0, 1.0, 0.0)\n",
      "459 (0.0, 1.0, 0.0, 1.0, 0.0, 0.0, 0.0, 0.0, 1.0, 0.0, 0.0, 1.0, 0.0)\n",
      "460 (0.0, 1.0, 0.0, 1.0, 0.0, 0.0, 0.0, -0.0, 0.3150752406575124, 0.0, -0.0, 0.3150752406575124, 0.0)\n",
      "461 (0.0, 1.0, 0.0, 1.0, 0.0, 0.0, 0.0, 0.0, 1.0, 0.0, 0.0, 1.0, 0.0)\n",
      "462 (0.0, 1.0, 0.0, 1.0, 0.0, 0.0, 0.0, 0.0, 1.0, 0.0, 0.0, 1.0, 0.0)\n",
      "463 (0.0, 1.0, 0.0, 1.0, 0.0, 0.0, 0.0, -0.0, 0.3150752406575124, 0.0, -0.0, 0.3150752406575124, 0.0)\n",
      "464 (0.0, 1.0, 0.0, 1.0, 0.0, 0.0, 0.0, 0.0, 1.0, 0.0, 0.0, 1.0, 0.0)\n",
      "465 (0.0, 1.0, 0.0, 1.0, 0.0, 0.0, 0.0, 0.0, 1.0, 0.0, 0.0, 1.0, 0.0)\n",
      "466 (0.0, 1.0, 0.0, 1.0, 0.0, 0.0, 0.0, -0.0, 0.3150752406575124, 0.0, -0.0, 0.3150752406575124, 0.0)\n",
      "467 (0.0, 1.0, 0.0, 1.0, 0.0, 0.0, 0.0, 0.0, 1.0, 0.0, 0.0, 1.0, 0.0)\n",
      "468 (0.0, 1.0, 0.0, 1.0, 0.0, 0.0, 0.0, 0.0, 1.0, 0.0, 0.0, 1.0, 0.0)\n",
      "469 (0.0, 1.0, 0.0, 1.0, 0.0, 0.0, 0.0, -0.0, 0.3150752406575124, 0.0, -0.0, 0.3150752406575124, 0.0)\n",
      "470 (0.0, 1.0, 0.0, 1.0, 0.0, 0.0, 0.0, 0.0, 1.0, 0.0, 0.0, 1.0, 0.0)\n",
      "471 (0.0, 1.0, 0.0, 1.0, 0.0, 0.0, 0.0, 0.0, 1.0, 0.0, 0.0, 1.0, 0.0)\n",
      "472 (0.0, 1.0, 0.0, 1.0, 0.0, 0.0, 0.0, -0.0, 0.3150752406575124, 0.0, -0.0, 0.3150752406575124, 0.0)\n",
      "473 (0.0, 1.0, 0.0, 1.0, 0.0, 0.0, 0.0, 0.0, 1.0, 0.0, 0.0, 1.0, 0.0)\n",
      "474 (0.0, 1.0, 0.0, 1.0, 0.0, 0.0, 0.0, 0.0, 1.0, 0.0, 0.0, 1.0, 0.0)\n",
      "475 (0.0, 1.0, 0.0, 1.0, 0.0, 0.0, 0.0, -0.0, 0.3150752406575124, 0.0, -0.0, 0.3150752406575124, 0.0)\n",
      "476 (0.0, 1.0, 0.0, 1.0, 0.0, 0.0, 0.0, 0.0, 1.0, 0.0, 0.0, 1.0, 0.0)\n",
      "477 (0.0, 1.0, 0.0, 1.0, 0.0, 0.0, 0.0, 0.0, 1.0, 0.0, 0.0, 1.0, 0.0)\n",
      "478 (0.0, 1.0, 0.0, 1.0, 0.0, 0.0, 0.0, -0.0, 0.3150752406575124, 0.0, -0.0, 0.3150752406575124, 0.0)\n",
      "479 (0.0, 1.0, 0.0, 1.0, 0.0, 0.0, 0.0, 0.0, 1.0, 0.0, 0.0, 1.0, 0.0)\n",
      "480 (0.0, 1.0, 0.0, 1.0, 0.0, 0.0, 0.0, 0.0, 1.0, 0.0, 0.0, 1.0, 0.0)\n",
      "481 (0.0, 1.0, 0.0, 1.0, 0.0, 0.0, 0.0, -0.0, 0.3150752406575124, 0.0, -0.0, 0.3150752406575124, 0.0)\n",
      "482 (0.0, 1.0, 0.0, 1.0, 0.0, 0.0, 0.0, 0.0, 1.0, 0.0, 0.0, 1.0, 0.0)\n",
      "483 (0.0, 1.0, 0.0, 1.0, 0.0, 0.0, 0.0, 0.0, 1.0, 0.0, 0.0, 1.0, 0.0)\n",
      "484 (0.0, 1.0, 0.0, 1.0, 0.0, 0.0, 0.0, -0.0, 0.3150752406575124, 0.0, -0.0, 0.3150752406575124, 0.0)\n",
      "485 (0.0, 1.0, 0.0, 1.0, 0.0, 0.0, 0.0, 0.0, 1.0, 0.0, 0.0, 1.0, 0.0)\n",
      "486 (0.0, 1.0, 0.0, 1.0, 0.0, 0.0, 0.0, 0.0, 1.0, 0.0, 0.0, 1.0, 0.0)\n",
      "487 (0.0, 1.0, 0.0, 1.0, 0.0, 0.0, 0.0, -0.0, 0.3150752406575124, 0.0, -0.0, 0.3150752406575124, 0.0)\n",
      "488 (0.0, 1.0, 0.0, 1.0, 0.0, 0.0, 0.0, 0.0, 1.0, 0.0, 0.0, 1.0, 0.0)\n",
      "489 (0.0, 1.0, 0.0, 1.0, 0.0, 0.0, 0.0, 0.0, 1.0, 0.0, 0.0, 1.0, 0.0)\n",
      "490 (0.0, 1.0, 0.0, 1.0, 0.0, 0.0, 0.0, -0.0, 0.3150752406575124, 0.0, -0.0, 0.3150752406575124, 0.0)\n",
      "491 (0.0, 1.0, 0.0, 1.0, 0.0, 0.0, 0.0, 0.0, 1.0, 0.0, 0.0, 1.0, 0.0)\n",
      "492 (0.0, 1.0, 0.0, 1.0, 0.0, 0.0, 0.0, 0.0, 1.0, 0.0, 0.0, 1.0, 0.0)\n",
      "493 (0.0, 1.0, 0.0, 1.0, 0.0, 0.0, 0.0, -0.0, 0.3150752406575124, 0.0, -0.0, 0.3150752406575124, 0.0)\n",
      "494 (0.0, 1.0, 0.0, 1.0, 0.0, 0.0, 0.0, 0.0, 1.0, 0.0, 0.0, 1.0, 0.0)\n",
      "495 (0.0, 1.0, 0.0, 1.0, 0.0, 0.0, 0.0, 0.0, 1.0, 0.0, 0.0, 1.0, 0.0)\n",
      "496 (0.0, 1.0, 0.0, 1.0, 0.0, 0.0, 0.0, -0.0, 0.3150752406575124, 0.0, -0.0, 0.3150752406575124, 0.0)\n",
      "497 (0.0, 1.0, 0.0, 1.0, 0.0, 0.0, 0.0, 0.0, 1.0, 0.0, 0.0, 1.0, 0.0)\n",
      "498 (0.0, 1.0, 0.0, 1.0, 0.0, 0.0, 0.0, 0.0, 1.0, 0.0, 0.0, 1.0, 0.0)\n",
      "499 (0.0, 1.0, 0.0, 1.0, 0.0, 0.0, 0.0, -0.0, 0.3150752406575124, 0.0, -0.0, 0.3150752406575124, 0.0)\n",
      "500 (0.0, 1.0, 0.0, 1.0, 0.0, 0.0, 0.0, 0.0, 1.0, 0.0, 0.0, 1.0, 0.0)\n",
      "501 (0.0, 1.0, 0.0, 1.0, 0.0, 0.0, 0.0, 0.0, 1.0, 0.0, 0.0, 1.0, 0.0)\n",
      "502 (0.0, 1.0, 0.0, 1.0, 0.0, 0.0, 0.0, -0.0, 0.3150752406575124, 0.0, -0.0, 0.3150752406575124, 0.0)\n",
      "503 (0.0, 1.0, 0.0, 1.0, 0.0, 0.0, 0.0, 0.0, 1.0, 0.0, 0.0, 1.0, 0.0)\n",
      "504 (0.0, 1.0, 0.0, 1.0, 0.0, 0.0, 0.0, 0.0, 1.0, 0.0, 0.0, 1.0, 0.0)\n",
      "505 (0.0, 1.0, 0.0, 1.0, 0.0, 0.0, 0.0, -0.0, 0.3150752406575124, 0.0, -0.0, 0.3150752406575124, 0.0)\n",
      "506 (0.0, 1.0, 0.0, 1.0, 0.0, 0.0, 0.0, 0.0, 1.0, 0.0, 0.0, 1.0, 0.0)\n",
      "507 (0.0, 1.0, 0.0, 1.0, 0.0, 0.0, 0.0, 0.0, 1.0, 0.0, 0.0, 1.0, 0.0)\n",
      "508 (0.0, 1.0, 0.0, 1.0, 0.0, 0.0, 0.0, -0.0, 0.3150752406575124, 0.0, -0.0, 0.3150752406575124, 0.0)\n",
      "509 (0.0, 1.0, 0.0, 1.0, 0.0, 0.0, 0.0, 0.0, 1.0, 0.0, 0.0, 1.0, 0.0)\n",
      "510 (0.0, 1.0, 0.0, 1.0, 0.0, 0.0, 0.0, 0.0, 1.0, 0.0, 0.0, 1.0, 0.0)\n",
      "511 (0.0, 1.0, 0.0, 1.0, 0.0, 0.0, 0.0, -0.0, 0.3150752406575124, 0.0, -0.0, 0.3150752406575124, 0.0)\n",
      "512 (0.0, 1.0, 0.0, 1.0, 0.0, 0.0, 0.0, 0.0, 1.0, 0.0, 0.0, 1.0, 0.0)\n",
      "513 (0.0, 1.0, 0.0, 1.0, 0.0, 0.0, 0.0, 0.0, 1.0, 0.0, 0.0, 1.0, 0.0)\n",
      "514 (0.0, 1.0, 0.0, 1.0, 0.0, 0.0, 0.0, -0.0, 0.3150752406575124, 0.0, -0.0, 0.3150752406575124, 0.0)\n",
      "515 (0.0, 1.0, 0.0, 1.0, 0.0, 0.0, 0.0, 0.0, 1.0, 0.0, 0.0, 1.0, 0.0)\n",
      "516 (0.0, 1.0, 0.0, 1.0, 0.0, 0.0, 0.0, 0.0, 1.0, 0.0, 0.0, 1.0, 0.0)\n",
      "517 (0.0, 1.0, 0.0, 1.0, 0.0, 0.0, 0.0, -0.0, 0.3150752406575124, 0.0, -0.0, 0.3150752406575124, 0.0)\n",
      "518 (0.0, 1.0, 0.0, 1.0, 0.0, 0.0, 0.0, 0.0, 1.0, 0.0, 0.0, 1.0, 0.0)\n",
      "519 (0.0, 1.0, 0.0, 1.0, 0.0, 0.0, 0.0, 0.0, 1.0, 0.0, 0.0, 1.0, 0.0)\n",
      "520 (0.0, 1.0, 0.0, 1.0, 0.0, 0.0, 0.0, -0.0, 0.3150752406575124, 0.0, -0.0, 0.3150752406575124, 0.0)\n",
      "521 (0.0, 1.0, 0.0, 1.0, 0.0, 0.0, 0.0, 0.0, 1.0, 0.0, 0.0, 1.0, 0.0)\n",
      "522 (0.0, 1.0, 0.0, 1.0, 0.0, 0.0, 0.0, 0.0, 1.0, 0.0, 0.0, 1.0, 0.0)\n",
      "523 (0.0, 1.0, 0.0, 1.0, 0.0, 0.0, 0.0, -0.0, 0.3150752406575124, 0.0, -0.0, 0.3150752406575124, 0.0)\n",
      "524 (0.0, 1.0, 0.0, 1.0, 0.0, 0.0, 0.0, 0.0, 1.0, 0.0, 0.0, 1.0, 0.0)\n",
      "525 (0.0, 1.0, 0.0, 1.0, 0.0, 0.0, 0.0, 0.0, 1.0, 0.0, 0.0, 1.0, 0.0)\n",
      "526 (0.0, 1.0, 0.0, 1.0, 0.0, 0.0, 0.0, -0.0, 0.3150752406575124, 0.0, -0.0, 0.3150752406575124, 0.0)\n",
      "527 (0.0, 1.0, 0.0, 1.0, 0.0, 0.0, 0.0, 0.0, 1.0, 0.0, 0.0, 1.0, 0.0)\n",
      "528 (0.0, 1.0, 0.0, 1.0, 0.0, 0.0, 0.0, 0.0, 1.0, 0.0, 0.0, 1.0, 0.0)\n",
      "529 (0.0, 1.0, 0.0, 1.0, 0.0, 0.0, 0.0, -0.0, 0.3150752406575124, 0.0, -0.0, 0.3150752406575124, 0.0)\n",
      "530 (0.0, 1.0, 0.0, 1.0, 0.0, 0.0, 0.0, 0.0, 1.0, 0.0, 0.0, 1.0, 0.0)\n",
      "531 (0.0, 1.0, 0.0, 1.0, 0.0, 0.0, 0.0, 0.0, 1.0, 0.0, 0.0, 1.0, 0.0)\n",
      "532 (0.0, 1.0, 0.0, 1.0, 0.0, 0.0, 0.0, -0.0, 0.3150752406575124, 0.0, -0.0, 0.3150752406575124, 0.0)\n",
      "533 (0.0, 1.0, 0.0, 1.0, 0.0, 0.0, 0.0, 0.0, 1.0, 0.0, 0.0, 1.0, 0.0)\n",
      "534 (0.0, 1.0, 0.0, 1.0, 0.0, 0.0, 0.0, 0.0, 1.0, 0.0, 0.0, 1.0, 0.0)\n",
      "535 (0.0, 1.0, 0.0, 1.0, 0.0, 0.0, 0.0, -0.0, 0.3150752406575124, 0.0, -0.0, 0.3150752406575124, 0.0)\n",
      "536 (0.0, 1.0, 0.0, 1.0, 0.0, 0.0, 0.0, 0.0, 1.0, 0.0, 0.0, 1.0, 0.0)\n",
      "537 (0.0, 1.0, 0.0, 1.0, 0.0, 0.0, 0.0, 0.0, 1.0, 0.0, 0.0, 1.0, 0.0)\n",
      "538 (0.0, 1.0, 0.0, 1.0, 0.0, 0.0, 0.0, -0.0, 0.3150752406575124, 0.0, -0.0, 0.3150752406575124, 0.0)\n",
      "539 (0.0, 1.0, 0.0, 1.0, 0.0, 0.0, 0.0, 0.0, 1.0, 0.0, 0.0, 1.0, 0.0)\n",
      "540 (0.0, 1.0, 0.0, 1.0, 0.0, 0.0, 0.0, 0.0, 1.0, 0.0, 0.0, 1.0, 0.0)\n",
      "541 (0.0, 1.0, 0.0, 1.0, 0.0, 0.0, 0.0, -0.0, 0.3150752406575124, 0.0, -0.0, 0.3150752406575124, 0.0)\n",
      "542 (0.0, 1.0, 0.0, 1.0, 0.0, 0.0, 0.0, 0.0, 1.0, 0.0, 0.0, 1.0, 0.0)\n",
      "543 (0.0, 1.0, 0.0, 1.0, 0.0, 0.0, 0.0, 0.0, 1.0, 0.0, 0.0, 1.0, 0.0)\n",
      "544 (0.0, 1.0, 0.0, 1.0, 0.0, 0.0, 0.0, -0.0, 0.3150752406575124, 0.0, -0.0, 0.3150752406575124, 0.0)\n",
      "545 (0.0, 1.0, 0.0, 1.0, 0.0, 0.0, 0.0, 0.0, 1.0, 0.0, 0.0, 1.0, 0.0)\n",
      "546 (0.0, 1.0, 0.0, 1.0, 0.0, 0.0, 0.0, 0.0, 1.0, 0.0, 0.0, 1.0, 0.0)\n",
      "547 (0.0, 1.0, 0.0, 1.0, 0.0, 0.0, 0.0, -0.0, 0.3150752406575124, 0.0, -0.0, 0.3150752406575124, 0.0)\n",
      "548 (0.0, 1.0, 0.0, 1.0, 0.0, 0.0, 0.0, 0.0, 1.0, 0.0, 0.0, 1.0, 0.0)\n",
      "549 (0.0, 1.0, 0.0, 1.0, 0.0, 0.0, 0.0, 0.0, 1.0, 0.0, 0.0, 1.0, 0.0)\n",
      "550 (0.0, 1.0, 0.0, 1.0, 0.0, 0.0, 0.0, -0.0, 0.3150752406575124, 0.0, -0.0, 0.3150752406575124, 0.0)\n",
      "551 (0.0, 1.0, 0.0, 1.0, 0.0, 0.0, 0.0, 0.0, 1.0, 0.0, 0.0, 1.0, 0.0)\n",
      "552 (0.0, 1.0, 0.0, 1.0, 0.0, 0.0, 0.0, 0.0, 1.0, 0.0, 0.0, 1.0, 0.0)\n",
      "553 (0.0, 1.0, 0.0, 1.0, 0.0, 0.0, 0.0, -0.0, 0.3150752406575124, 0.0, -0.0, 0.3150752406575124, 0.0)\n",
      "554 (0.0, 1.0, 0.0, 1.0, 0.0, 0.0, 0.0, 0.0, 1.0, 0.0, 0.0, 1.0, 0.0)\n",
      "555 (0.0, 1.0, 0.0, 1.0, 0.0, 0.0, 0.0, 0.0, 1.0, 0.0, 0.0, 1.0, 0.0)\n",
      "556 (0.0, 1.0, 0.0, 1.0, 0.0, 0.0, 0.0, -0.0, 0.3150752406575124, 0.0, -0.0, 0.3150752406575124, 0.0)\n",
      "557 (0.0, 1.0, 0.0, 1.0, 0.0, 0.0, 0.0, 0.0, 1.0, 0.0, 0.0, 1.0, 0.0)\n",
      "558 (0.0, 1.0, 0.0, 1.0, 0.0, 0.0, 0.0, 0.0, 1.0, 0.0, 0.0, 1.0, 0.0)\n",
      "559 (0.0, 1.0, 0.0, 1.0, 0.0, 0.0, 0.0, -0.0, 0.3150752406575124, 0.0, -0.0, 0.3150752406575124, 0.0)\n",
      "560 (0.0, 1.0, 0.0, 1.0, 0.0, 0.0, 0.0, 0.0, 1.0, 0.0, 0.0, 1.0, 0.0)\n",
      "561 (0.0, 1.0, 0.0, 1.0, 0.0, 0.0, 0.0, 0.0, 1.0, 0.0, 0.0, 1.0, 0.0)\n",
      "562 (0.0, 1.0, 0.0, 1.0, 0.0, 0.0, 0.0, -0.0, 0.3150752406575124, 0.0, -0.0, 0.3150752406575124, 0.0)\n",
      "563 (0.0, 1.0, 0.0, 1.0, 0.0, 0.0, 0.0, 0.0, 1.0, 0.0, 0.0, 1.0, 0.0)\n",
      "564 (0.0, 1.0, 0.0, 1.0, 0.0, 0.0, 0.0, 0.0, 1.0, 0.0, 0.0, 1.0, 0.0)\n",
      "565 (0.0, 1.0, 0.0, 1.0, 0.0, 0.0, 0.0, -0.0, 0.3150752406575124, 0.0, -0.0, 0.3150752406575124, 0.0)\n",
      "566 (0.0, 1.0, 0.0, 1.0, 0.0, 0.0, 0.0, 0.0, 1.0, 0.0, 0.0, 1.0, 0.0)\n",
      "567 (0.0, 1.0, 0.0, 1.0, 0.0, 0.0, 0.0, 0.0, 1.0, 0.0, 0.0, 1.0, 0.0)\n",
      "568 (0.0, 1.0, 0.0, 1.0, 0.0, 0.0, 0.0, -0.0, 0.3150752406575124, 0.0, -0.0, 0.3150752406575124, 0.0)\n",
      "569 (0.0, 1.0, 0.0, 1.0, 0.0, 0.0, 0.0, 0.0, 1.0, 0.0, 0.0, 1.0, 0.0)\n",
      "570 (0.0, 1.0, 0.0, 1.0, 0.0, 0.0, 0.0, 0.0, 1.0, 0.0, 0.0, 1.0, 0.0)\n",
      "571 (0.0, 1.0, 0.0, 1.0, 0.0, 0.0, 0.0, -0.0, 0.3150752406575124, 0.0, -0.0, 0.3150752406575124, 0.0)\n",
      "572 (0.0, 1.0, 0.0, 1.0, 0.0, 0.0, 0.0, 0.0, 1.0, 0.0, 0.0, 1.0, 0.0)\n",
      "573 (0.0, 1.0, 0.0, 1.0, 0.0, 0.0, 0.0, 0.0, 1.0, 0.0, 0.0, 1.0, 0.0)\n",
      "574 (0.0, 1.0, 0.0, 1.0, 0.0, 0.0, 0.0, -0.0, 0.3150752406575124, 0.0, -0.0, 0.3150752406575124, 0.0)\n",
      "575 (0.0, 1.0, 0.0, 1.0, 0.0, 0.0, 0.0, 0.0, 1.0, 0.0, 0.0, 1.0, 0.0)\n",
      "576 (0.0, 1.0, 0.0, 1.0, 0.0, 0.0, 0.0, 0.0, 1.0, 0.0, 0.0, 1.0, 0.0)\n",
      "577 (0.0, 1.0, 0.0, 1.0, 0.0, 0.0, 0.0, -0.0, 0.3150752406575124, 0.0, -0.0, 0.3150752406575124, 0.0)\n",
      "578 (0.0, 1.0, 0.0, 1.0, 0.0, 0.0, 0.0, 0.0, 1.0, 0.0, 0.0, 1.0, 0.0)\n",
      "579 (0.0, 1.0, 0.0, 1.0, 0.0, 0.0, 0.0, 0.0, 1.0, 0.0, 0.0, 1.0, 0.0)\n",
      "580 (0.0, 1.0, 0.0, 1.0, 0.0, 0.0, 0.0, -0.0, 0.3150752406575124, 0.0, -0.0, 0.3150752406575124, 0.0)\n",
      "581 (0.0, 1.0, 0.0, 1.0, 0.0, 0.0, 0.0, 0.0, 1.0, 0.0, 0.0, 1.0, 0.0)\n",
      "582 (0.0, 1.0, 0.0, 1.0, 0.0, 0.0, 0.0, 0.0, 1.0, 0.0, 0.0, 1.0, 0.0)\n",
      "583 (0.0, 1.0, 0.0, 1.0, 0.0, 0.0, 0.0, -0.0, 0.3150752406575124, 0.0, -0.0, 0.3150752406575124, 0.0)\n",
      "584 (0.0, 1.0, 0.0, 1.0, 0.0, 0.0, 0.0, 0.0, 1.0, 0.0, 0.0, 1.0, 0.0)\n",
      "585 (0.0, 1.0, 0.0, 1.0, 0.0, 0.0, 0.0, 0.0, 1.0, 0.0, 0.0, 1.0, 0.0)\n",
      "586 (0.0, 1.0, 0.0, 1.0, 0.0, 0.0, 0.0, -0.0, 0.3150752406575124, 0.0, -0.0, 0.3150752406575124, 0.0)\n",
      "587 (0.0, 1.0, 0.0, 1.0, 0.0, 0.0, 0.0, 0.0, 1.0, 0.0, 0.0, 1.0, 0.0)\n",
      "588 (0.0, 1.0, 0.0, 1.0, 0.0, 0.0, 0.0, 0.0, 1.0, 0.0, 0.0, 1.0, 0.0)\n",
      "589 (0.0, 1.0, 0.0, 1.0, 0.0, 0.0, 0.0, -0.0, 0.3150752406575124, 0.0, -0.0, 0.3150752406575124, 0.0)\n",
      "590 (0.0, 1.0, 0.0, 1.0, 0.0, 0.0, 0.0, 0.0, 1.0, 0.0, 0.0, 1.0, 0.0)\n",
      "591 (0.0, 1.0, 0.0, 1.0, 0.0, 0.0, 0.0, 0.0, 1.0, 0.0, 0.0, 1.0, 0.0)\n",
      "592 (0.0, 1.0, 0.0, 1.0, 0.0, 0.0, 0.0, -0.0, 0.3150752406575124, 0.0, -0.0, 0.3150752406575124, 0.0)\n",
      "593 (0.0, 1.0, 0.0, 1.0, 0.0, 0.0, 0.0, 0.0, 1.0, 0.0, 0.0, 1.0, 0.0)\n",
      "594 (0.0, 1.0, 0.0, 1.0, 0.0, 0.0, 0.0, 0.0, 1.0, 0.0, 0.0, 1.0, 0.0)\n",
      "595 (0.0, 1.0, 0.0, 1.0, 0.0, 0.0, 0.0, -0.0, 0.3150752406575124, 0.0, -0.0, 0.3150752406575124, 0.0)\n",
      "596 (0.0, 1.0, 0.0, 1.0, 0.0, 0.0, 0.0, 0.0, 1.0, 0.0, 0.0, 1.0, 0.0)\n",
      "597 (0.0, 1.0, 0.0, 1.0, 0.0, 0.0, 0.0, 0.0, 1.0, 0.0, 0.0, 1.0, 0.0)\n",
      "598 (0.0, 1.0, 0.0, 1.0, 0.0, 0.0, 0.0, -0.0, 0.3150752406575124, 0.0, -0.0, 0.3150752406575124, 0.0)\n",
      "599 (0.0, 1.0, 0.0, 1.0, 0.0, 0.0, 0.0, 0.0, 1.0, 0.0, 0.0, 1.0, 0.0)\n",
      "600 (0.0, 1.0, 0.0, 1.0, 0.0, 0.0, 0.0, 0.0, 1.0, 0.0, 0.0, 1.0, 0.0)\n",
      "601 (0.0, 1.0, 0.0, 1.0, 0.0, 0.0, 0.0, -0.0, 0.3150752406575124, 0.0, -0.0, 0.3150752406575124, 0.0)\n",
      "602 (0.0, 1.0, 0.0, 1.0, 0.0, 0.0, 0.0, 0.0, 1.0, 0.0, 0.0, 1.0, 0.0)\n",
      "603 (0.0, 1.0, 0.0, 1.0, 0.0, 0.0, 0.0, 0.0, 1.0, 0.0, 0.0, 1.0, 0.0)\n",
      "604 (0.0, 1.0, 0.0, 1.0, 0.0, 0.0, 0.0, -0.0, 0.3150752406575124, 0.0, -0.0, 0.3150752406575124, 0.0)\n",
      "605 (0.0, 1.0, 0.0, 1.0, 0.0, 0.0, 0.0, 0.0, 1.0, 0.0, 0.0, 1.0, 0.0)\n",
      "606 (0.0, 1.0, 0.0, 1.0, 0.0, 0.0, 0.0, 0.0, 1.0, 0.0, 0.0, 1.0, 0.0)\n",
      "607 (0.0, 1.0, 0.0, 1.0, 0.0, 0.0, 0.0, -0.0, 0.3150752406575124, 0.0, -0.0, 0.3150752406575124, 0.0)\n",
      "608 (0.0, 1.0, 0.0, 1.0, 0.0, 0.0, 0.0, 0.0, 1.0, 0.0, 0.0, 1.0, 0.0)\n",
      "609 (0.0, 1.0, 0.0, 1.0, 0.0, 0.0, 0.0, 0.0, 1.0, 0.0, 0.0, 1.0, 0.0)\n",
      "610 (0.0, 1.0, 0.0, 1.0, 0.0, 0.0, 0.0, -0.0, 0.3150752406575124, 0.0, -0.0, 0.3150752406575124, 0.0)\n",
      "611 (0.0, 1.0, 0.0, 1.0, 0.0, 0.0, 0.0, 0.0, 1.0, 0.0, 0.0, 1.0, 0.0)\n",
      "612 (0.0, 1.0, 0.0, 1.0, 0.0, 0.0, 0.0, 0.0, 1.0, 0.0, 0.0, 1.0, 0.0)\n",
      "613 (0.0, 1.0, 0.0, 1.0, 0.0, 0.0, 0.0, -0.0, 0.3150752406575124, 0.0, -0.0, 0.3150752406575124, 0.0)\n",
      "614 (0.0, 1.0, 0.0, 1.0, 0.0, 0.0, 0.0, 0.0, 1.0, 0.0, 0.0, 1.0, 0.0)\n",
      "615 (0.0, 1.0, 0.0, 1.0, 0.0, 0.0, 0.0, 0.0, 1.0, 0.0, 0.0, 1.0, 0.0)\n",
      "616 (0.0, 1.0, 0.0, 1.0, 0.0, 0.0, 0.0, -0.0, 0.3150752406575124, 0.0, -0.0, 0.3150752406575124, 0.0)\n",
      "617 (0.0, 1.0, 0.0, 1.0, 0.0, 0.0, 0.0, 0.0, 1.0, 0.0, 0.0, 1.0, 0.0)\n",
      "618 (0.0, 1.0, 0.0, 1.0, 0.0, 0.0, 0.0, 0.0, 1.0, 0.0, 0.0, 1.0, 0.0)\n",
      "619 (0.0, 1.0, 0.0, 1.0, 0.0, 0.0, 0.0, -0.0, 0.3150752406575124, 0.0, -0.0, 0.3150752406575124, 0.0)\n",
      "620 (0.0, 1.0, 0.0, 1.0, 0.0, 0.0, 0.0, 0.0, 1.0, 0.0, 0.0, 1.0, 0.0)\n",
      "621 (0.0, 1.0, 0.0, 1.0, 0.0, 0.0, 0.0, 0.0, 1.0, 0.0, 0.0, 1.0, 0.0)\n",
      "622 (0.0, 1.0, 0.0, 1.0, 0.0, 0.0, 0.0, -0.0, 0.3150752406575124, 0.0, -0.0, 0.3150752406575124, 0.0)\n",
      "623 (0.0, 1.0, 0.0, 1.0, 0.0, 0.0, 0.0, 0.0, 1.0, 0.0, 0.0, 1.0, 0.0)\n",
      "624 (0.0, 1.0, 0.0, 1.0, 0.0, 0.0, 0.0, 0.0, 1.0, 0.0, 0.0, 1.0, 0.0)\n",
      "625 (0.0, 1.0, 0.0, 1.0, 0.0, 0.0, 0.0, -0.0, 0.3150752406575124, 0.0, -0.0, 0.3150752406575124, 0.0)\n",
      "626 (0.0, 1.0, 0.0, 1.0, 0.0, 0.0, 0.0, 0.0, 1.0, 0.0, 0.0, 1.0, 0.0)\n",
      "627 (0.0, 1.0, 0.0, 1.0, 0.0, 0.0, 0.0, 0.0, 1.0, 0.0, 0.0, 1.0, 0.0)\n",
      "628 (0.0, 1.0, 0.0, 1.0, 0.0, 0.0, 0.0, -0.0, 0.3150752406575124, 0.0, -0.0, 0.3150752406575124, 0.0)\n",
      "629 (0.0, 1.0, 0.0, 1.0, 0.0, 0.0, 0.0, 0.0, 1.0, 0.0, 0.0, 1.0, 0.0)\n",
      "630 (0.0, 1.0, 0.0, 1.0, 0.0, 0.0, 0.0, 0.0, 1.0, 0.0, 0.0, 1.0, 0.0)\n",
      "631 (0.0, 1.0, 0.0, 1.0, 0.0, 0.0, 0.0, -0.0, 0.3150752406575124, 0.0, -0.0, 0.3150752406575124, 0.0)\n",
      "632 (0.0, 1.0, 0.0, 1.0, 0.0, 0.0, 0.0, 0.0, 1.0, 0.0, 0.0, 1.0, 0.0)\n",
      "633 (0.0, 1.0, 0.0, 1.0, 0.0, 0.0, 0.0, 0.0, 1.0, 0.0, 0.0, 1.0, 0.0)\n",
      "634 (0.0, 1.0, 0.0, 1.0, 0.0, 0.0, 0.0, -0.0, 0.3150752406575124, 0.0, -0.0, 0.3150752406575124, 0.0)\n",
      "635 (0.0, 1.0, 0.0, 1.0, 0.0, 0.0, 0.0, 0.0, 1.0, 0.0, 0.0, 1.0, 0.0)\n",
      "636 (0.0, 1.0, 0.0, 1.0, 0.0, 0.0, 0.0, 0.0, 1.0, 0.0, 0.0, 1.0, 0.0)\n",
      "637 (0.0, 1.0, 0.0, 1.0, 0.0, 0.0, 0.0, -0.0, 0.3150752406575124, 0.0, -0.0, 0.3150752406575124, 0.0)\n",
      "638 (0.0, 1.0, 0.0, 1.0, 0.0, 0.0, 0.0, 0.0, 1.0, 0.0, 0.0, 1.0, 0.0)\n",
      "639 (0.0, 1.0, 0.0, 1.0, 0.0, 0.0, 0.0, 0.0, 1.0, 0.0, 0.0, 1.0, 0.0)\n",
      "640 (0.0, 1.0, 0.0, 1.0, 0.0, 0.0, 0.0, -0.0, 0.3150752406575124, 0.0, -0.0, 0.3150752406575124, 0.0)\n",
      "641 (0.0, 1.0, 0.0, 1.0, 0.0, 0.0, 0.0, 0.0, 1.0, 0.0, 0.0, 1.0, 0.0)\n",
      "642 (0.0, 1.0, 0.0, 1.0, 0.0, 0.0, 0.0, 0.0, 1.0, 0.0, 0.0, 1.0, 0.0)\n",
      "643 (0.0, 1.0, 0.0, 1.0, 0.0, 0.0, 0.0, -0.0, 0.3150752406575124, 0.0, -0.0, 0.3150752406575124, 0.0)\n",
      "644 (0.0, 1.0, 0.0, 1.0, 0.0, 0.0, 0.0, 0.0, 1.0, 0.0, 0.0, 1.0, 0.0)\n",
      "645 (0.0, 1.0, 0.0, 1.0, 0.0, 0.0, 0.0, 0.0, 1.0, 0.0, 0.0, 1.0, 0.0)\n",
      "646 (0.0, 1.0, 0.0, 1.0, 0.0, 0.0, 0.0, -0.0, 0.3150752406575124, 0.0, -0.0, 0.3150752406575124, 0.0)\n",
      "647 (0.0, 1.0, 0.0, 1.0, 0.0, 0.0, 0.0, 0.0, 1.0, 0.0, 0.0, 1.0, 0.0)\n",
      "648 (0.0, 1.0, 0.0, 1.0, 0.0, 0.0, 0.0, 0.0, 1.0, 0.0, 0.0, 1.0, 0.0)\n",
      "649 (0.0, 1.0, 0.0, 1.0, 0.0, 0.0, 0.0, -0.0, 0.3150752406575124, 0.0, -0.0, 0.3150752406575124, 0.0)\n",
      "650 (0.0, 1.0, 0.0, 1.0, 0.0, 0.0, 0.0, 0.0, 1.0, 0.0, 0.0, 1.0, 0.0)\n",
      "651 (0.0, 1.0, 0.0, 1.0, 0.0, 0.0, 0.0, 0.0, 1.0, 0.0, 0.0, 1.0, 0.0)\n",
      "652 (0.0, 1.0, 0.0, 1.0, 0.0, 0.0, 0.0, -0.0, 0.3150752406575124, 0.0, -0.0, 0.3150752406575124, 0.0)\n",
      "653 (0.0, 1.0, 0.0, 1.0, 0.0, 0.0, 0.0, 0.0, 1.0, 0.0, 0.0, 1.0, 0.0)\n",
      "654 (0.0, 1.0, 0.0, 1.0, 0.0, 0.0, 0.0, 0.0, 1.0, 0.0, 0.0, 1.0, 0.0)\n",
      "655 (0.0, 1.0, 0.0, 1.0, 0.0, 0.0, 0.0, -0.0, 0.3150752406575124, 0.0, -0.0, 0.3150752406575124, 0.0)\n",
      "656 (0.0, 1.0, 0.0, 1.0, 0.0, 0.0, 0.0, 0.0, 1.0, 0.0, 0.0, 1.0, 0.0)\n",
      "657 (0.0, 1.0, 0.0, 1.0, 0.0, 0.0, 0.0, 0.0, 1.0, 0.0, 0.0, 1.0, 0.0)\n",
      "658 (0.0, 1.0, 0.0, 1.0, 0.0, 0.0, 0.0, -0.0, 0.3150752406575124, 0.0, -0.0, 0.3150752406575124, 0.0)\n",
      "659 (0.0, 1.0, 0.0, 1.0, 0.0, 0.0, 0.0, 0.0, 1.0, 0.0, 0.0, 1.0, 0.0)\n",
      "660 (0.0, 1.0, 0.0, 1.0, 0.0, 0.0, 0.0, 0.0, 1.0, 0.0, 0.0, 1.0, 0.0)\n",
      "661 (0.0, 1.0, 0.0, 1.0, 0.0, 0.0, 0.0, -0.0, 0.3150752406575124, 0.0, -0.0, 0.3150752406575124, 0.0)\n",
      "662 (0.0, 1.0, 0.0, 1.0, 0.0, 0.0, 0.0, 0.0, 1.0, 0.0, 0.0, 1.0, 0.0)\n",
      "663 (0.0, 1.0, 0.0, 1.0, 0.0, 0.0, 0.0, 0.0, 1.0, 0.0, 0.0, 1.0, 0.0)\n",
      "664 (0.0, 1.0, 0.0, 1.0, 0.0, 0.0, 0.0, -0.0, 0.3150752406575124, 0.0, -0.0, 0.3150752406575124, 0.0)\n",
      "665 (0.0, 1.0, 0.0, 1.0, 0.0, 0.0, 0.0, 0.0, 1.0, 0.0, 0.0, 1.0, 0.0)\n",
      "666 (0.0, 1.0, 0.0, 1.0, 0.0, 0.0, 0.0, 0.0, 1.0, 0.0, 0.0, 1.0, 0.0)\n",
      "667 (0.0, 1.0, 0.0, 1.0, 0.0, 0.0, 0.0, -0.0, 0.3150752406575124, 0.0, -0.0, 0.3150752406575124, 0.0)\n",
      "668 (0.0, 1.0, 0.0, 1.0, 0.0, 0.0, 0.0, 0.0, 1.0, 0.0, 0.0, 1.0, 0.0)\n",
      "669 (0.0, 1.0, 0.0, 1.0, 0.0, 0.0, 0.0, 0.0, 1.0, 0.0, 0.0, 1.0, 0.0)\n",
      "670 (0.0, 1.0, 0.0, 1.0, 0.0, 0.0, 0.0, -0.0, 0.3150752406575124, 0.0, -0.0, 0.3150752406575124, 0.0)\n",
      "671 (0.0, 1.0, 0.0, 1.0, 0.0, 0.0, 0.0, 0.0, 1.0, 0.0, 0.0, 1.0, 0.0)\n",
      "672 (0.0, 1.0, 0.0, 1.0, 0.0, 0.0, 0.0, 0.0, 1.0, 0.0, 0.0, 1.0, 0.0)\n",
      "673 (0.0, 1.0, 0.0, 1.0, 0.0, 0.0, 0.0, -0.0, 0.3150752406575124, 0.0, -0.0, 0.3150752406575124, 0.0)\n",
      "674 (0.0, 1.0, 0.0, 1.0, 0.0, 0.0, 0.0, 0.0, 1.0, 0.0, 0.0, 1.0, 0.0)\n",
      "675 (0.0, 1.0, 0.0, 1.0, 0.0, 0.0, 0.0, 0.0, 1.0, 0.0, 0.0, 1.0, 0.0)\n",
      "676 (0.0, 1.0, 0.0, 1.0, 0.0, 0.0, 0.0, -0.0, 0.3150752406575124, 0.0, -0.0, 0.3150752406575124, 0.0)\n",
      "677 (0.0, 1.0, 0.0, 1.0, 0.0, 0.0, 0.0, 0.0, 1.0, 0.0, 0.0, 1.0, 0.0)\n",
      "678 (0.0, 1.0, 0.0, 1.0, 0.0, 0.0, 0.0, 0.0, 1.0, 0.0, 0.0, 1.0, 0.0)\n",
      "679 (0.0, 1.0, 0.0, 1.0, 0.0, 0.0, 0.0, -0.0, 0.3150752406575124, 0.0, -0.0, 0.3150752406575124, 0.0)\n",
      "680 (0.0, 1.0, 0.0, 1.0, 0.0, 0.0, 0.0, 0.0, 1.0, 0.0, 0.0, 1.0, 0.0)\n",
      "681 (0.0, 1.0, 0.0, 1.0, 0.0, 0.0, 0.0, 0.0, 1.0, 0.0, 0.0, 1.0, 0.0)\n",
      "682 (0.0, 1.0, 0.0, 1.0, 0.0, 0.0, 0.0, -0.0, 0.3150752406575124, 0.0, -0.0, 0.3150752406575124, 0.0)\n",
      "683 (0.0, 1.0, 0.0, 1.0, 0.0, 0.0, 0.0, 0.0, 1.0, 0.0, 0.0, 1.0, 0.0)\n",
      "684 (0.0, 1.0, 0.0, 1.0, 0.0, 0.0, 0.0, 0.0, 1.0, 0.0, 0.0, 1.0, 0.0)\n",
      "685 (0.0, 1.0, 0.0, 1.0, 0.0, 0.0, 0.0, -0.0, 0.3150752406575124, 0.0, -0.0, 0.3150752406575124, 0.0)\n",
      "686 (0.0, 1.0, 0.0, 1.0, 0.0, 0.0, 0.0, 0.0, 1.0, 0.0, 0.0, 1.0, 0.0)\n",
      "687 (0.0, 1.0, 0.0, 1.0, 0.0, 0.0, 0.0, 0.0, 1.0, 0.0, 0.0, 1.0, 0.0)\n",
      "688 (0.0, 1.0, 0.0, 1.0, 0.0, 0.0, 0.0, -0.0, 0.3150752406575124, 0.0, -0.0, 0.3150752406575124, 0.0)\n",
      "689 (0.0, 1.0, 0.0, 1.0, 0.0, 0.0, 0.0, 0.0, 1.0, 0.0, 0.0, 1.0, 0.0)\n",
      "690 (0.0, 1.0, 0.0, 1.0, 0.0, 0.0, 0.0, 0.0, 1.0, 0.0, 0.0, 1.0, 0.0)\n",
      "691 (0.0, 1.0, 0.0, 1.0, 0.0, 0.0, 0.0, -0.0, 0.3150752406575124, 0.0, -0.0, 0.3150752406575124, 0.0)\n",
      "692 (0.0, 1.0, 0.0, 1.0, 0.0, 0.0, 0.0, 0.0, 1.0, 0.0, 0.0, 1.0, 0.0)\n",
      "693 (0.0, 1.0, 0.0, 1.0, 0.0, 0.0, 0.0, 0.0, 1.0, 0.0, 0.0, 1.0, 0.0)\n",
      "694 (0.0, 1.0, 0.0, 1.0, 0.0, 0.0, 0.0, -0.0, 0.3150752406575124, 0.0, -0.0, 0.3150752406575124, 0.0)\n",
      "695 (0.0, 1.0, 0.0, 1.0, 0.0, 0.0, 0.0, 0.0, 1.0, 0.0, 0.0, 1.0, 0.0)\n",
      "696 (0.0, 1.0, 0.0, 1.0, 0.0, 0.0, 0.0, 0.0, 1.0, 0.0, 0.0, 1.0, 0.0)\n",
      "697 (0.0, 1.0, 0.0, 1.0, 0.0, 0.0, 0.0, -0.0, 0.3150752406575124, 0.0, -0.0, 0.3150752406575124, 0.0)\n",
      "698 (0.0, 1.0, 0.0, 1.0, 0.0, 0.0, 0.0, 0.0, 1.0, 0.0, 0.0, 1.0, 0.0)\n",
      "699 (0.0, 1.0, 0.0, 1.0, 0.0, 0.0, 0.0, 0.0, 1.0, 0.0, 0.0, 1.0, 0.0)\n",
      "700 (0.0, 1.0, 0.0, 1.0, 0.0, 0.0, 0.0, -0.0, 0.3150752406575124, 0.0, -0.0, 0.3150752406575124, 0.0)\n",
      "701 (0.0, 1.0, 0.0, 1.0, 0.0, 0.0, 0.0, 0.0, 1.0, 0.0, 0.0, 1.0, 0.0)\n",
      "702 (0.0, 1.0, 0.0, 1.0, 0.0, 0.0, 0.0, 0.0, 1.0, 0.0, 0.0, 1.0, 0.0)\n",
      "703 (0.0, 1.0, 0.0, 1.0, 0.0, 0.0, 0.0, -0.0, 0.3150752406575124, 0.0, -0.0, 0.3150752406575124, 0.0)\n",
      "704 (0.0, 1.0, 0.0, 1.0, 0.0, 0.0, 0.0, 0.0, 1.0, 0.0, 0.0, 1.0, 0.0)\n",
      "705 (0.0, 1.0, 0.0, 1.0, 0.0, 0.0, 0.0, 0.0, 1.0, 0.0, 0.0, 1.0, 0.0)\n",
      "706 (0.0, 1.0, 0.0, 1.0, 0.0, 0.0, 0.0, -0.0, 0.3150752406575124, 0.0, -0.0, 0.3150752406575124, 0.0)\n",
      "707 (0.0, 1.0, 0.0, 1.0, 0.0, 0.0, 0.0, 0.0, 1.0, 0.0, 0.0, 1.0, 0.0)\n",
      "708 (0.0, 1.0, 0.0, 1.0, 0.0, 0.0, 0.0, 0.0, 1.0, 0.0, 0.0, 1.0, 0.0)\n",
      "709 (0.0, 1.0, 0.0, 1.0, 0.0, 0.0, 0.0, -0.0, 0.3150752406575124, 0.0, -0.0, 0.3150752406575124, 0.0)\n",
      "710 (0.0, 1.0, 0.0, 1.0, 0.0, 0.0, 0.0, 0.0, 1.0, 0.0, 0.0, 1.0, 0.0)\n",
      "711 (0.0, 1.0, 0.0, 1.0, 0.0, 0.0, 0.0, 0.0, 1.0, 0.0, 0.0, 1.0, 0.0)\n",
      "712 (0.0, 1.0, 0.0, 1.0, 0.0, 0.0, 0.0, -0.0, 0.3150752406575124, 0.0, -0.0, 0.3150752406575124, 0.0)\n",
      "713 (0.0, 1.0, 0.0, 1.0, 0.0, 0.0, 0.0, 0.0, 1.0, 0.0, 0.0, 1.0, 0.0)\n",
      "714 (0.0, 1.0, 0.0, 1.0, 0.0, 0.0, 0.0, 0.0, 1.0, 0.0, 0.0, 1.0, 0.0)\n",
      "715 (0.0, 1.0, 0.0, 1.0, 0.0, 0.0, 0.0, -0.0, 0.3150752406575124, 0.0, -0.0, 0.3150752406575124, 0.0)\n",
      "716 (0.0, 1.0, 0.0, 1.0, 0.0, 0.0, 0.0, 0.0, 1.0, 0.0, 0.0, 1.0, 0.0)\n",
      "717 (0.0, 1.0, 0.0, 1.0, 0.0, 0.0, 0.0, 0.0, 1.0, 0.0, 0.0, 1.0, 0.0)\n",
      "718 (0.0, 1.0, 0.0, 1.0, 0.0, 0.0, 0.0, -0.0, 0.3150752406575124, 0.0, -0.0, 0.3150752406575124, 0.0)\n",
      "719 (0.0, 1.0, 0.0, 1.0, 0.0, 0.0, 0.0, 0.0, 1.0, 0.0, 0.0, 1.0, 0.0)\n",
      "720 (0.0, 1.0, 0.0, 1.0, 0.0, 0.0, 0.0, 0.0, 1.0, 0.0, 0.0, 1.0, 0.0)\n",
      "721 (0.0, 1.0, 0.0, 1.0, 0.0, 0.0, 0.0, -0.0, 0.3150752406575124, 0.0, -0.0, 0.3150752406575124, 0.0)\n",
      "722 (0.0, 1.0, 0.0, 1.0, 0.0, 0.0, 0.0, 0.0, 1.0, 0.0, 0.0, 1.0, 0.0)\n",
      "723 (0.0, 1.0, 0.0, 1.0, 0.0, 0.0, 0.0, 0.0, 1.0, 0.0, 0.0, 1.0, 0.0)\n",
      "724 (0.0, 1.0, 0.0, 1.0, 0.0, 0.0, 0.0, -0.0, 0.3150752406575124, 0.0, -0.0, 0.3150752406575124, 0.0)\n",
      "725 (0.0, 1.0, 0.0, 1.0, 0.0, 0.0, 0.0, 0.0, 1.0, 0.0, 0.0, 1.0, 0.0)\n",
      "726 (0.0, 1.0, 0.0, 1.0, 0.0, 0.0, 0.0, 0.0, 1.0, 0.0, 0.0, 1.0, 0.0)\n",
      "727 (0.0, 1.0, 0.0, 1.0, 0.0, 0.0, 0.0, -0.0, 0.3150752406575124, 0.0, -0.0, 0.3150752406575124, 0.0)\n",
      "728 (0.0, 1.0, 0.0, 1.0, 0.0, 0.0, 0.0, 0.0, 1.0, 0.0, 0.0, 1.0, 0.0)\n",
      "729 (0.0, 1.0, 0.0, 1.0, 0.0, 0.0, 0.0, 0.0, 1.0, 0.0, 0.0, 1.0, 0.0)\n",
      "730 (0.0, 1.0, 0.0, 1.0, 0.0, 0.0, 0.0, -0.0, 0.3150752406575124, 0.0, -0.0, 0.3150752406575124, 0.0)\n",
      "731 (0.0, 1.0, 0.0, 1.0, 0.0, 0.0, 0.0, 0.0, 1.0, 0.0, 0.0, 1.0, 0.0)\n",
      "732 (0.0, 1.0, 0.0, 1.0, 0.0, 0.0, 0.0, 0.0, 1.0, 0.0, 0.0, 1.0, 0.0)\n",
      "733 (0.0, 1.0, 0.0, 1.0, 0.0, 0.0, 0.0, -0.0, 0.3150752406575124, 0.0, -0.0, 0.3150752406575124, 0.0)\n",
      "734 (0.0, 1.0, 0.0, 1.0, 0.0, 0.0, 0.0, 0.0, 1.0, 0.0, 0.0, 1.0, 0.0)\n",
      "735 (0.0, 1.0, 0.0, 1.0, 0.0, 0.0, 0.0, 0.0, 1.0, 0.0, 0.0, 1.0, 0.0)\n",
      "736 (0.0, 1.0, 0.0, 1.0, 0.0, 0.0, 0.0, -0.0, 0.3150752406575124, 0.0, -0.0, 0.3150752406575124, 0.0)\n",
      "737 (0.0, 1.0, 0.0, 1.0, 0.0, 0.0, 0.0, 0.0, 1.0, 0.0, 0.0, 1.0, 0.0)\n",
      "738 (0.0, 1.0, 0.0, 1.0, 0.0, 0.0, 0.0, 0.0, 1.0, 0.0, 0.0, 1.0, 0.0)\n",
      "739 (0.0, 1.0, 0.0, 1.0, 0.0, 0.0, 0.0, -0.0, 0.3150752406575124, 0.0, -0.0, 0.3150752406575124, 0.0)\n",
      "740 (0.0, 1.0, 0.0, 1.0, 0.0, 0.0, 0.0, 0.0, 1.0, 0.0, 0.0, 1.0, 0.0)\n",
      "741 (0.0, 1.0, 0.0, 1.0, 0.0, 0.0, 0.0, 0.0, 1.0, 0.0, 0.0, 1.0, 0.0)\n",
      "742 (0.0, 1.0, 0.0, 1.0, 0.0, 0.0, 0.0, -0.0, 0.3150752406575124, 0.0, -0.0, 0.3150752406575124, 0.0)\n",
      "743 (0.0, 1.0, 0.0, 1.0, 0.0, 0.0, 0.0, 0.0, 1.0, 0.0, 0.0, 1.0, 0.0)\n",
      "744 (0.0, 1.0, 0.0, 1.0, 0.0, 0.0, 0.0, 0.0, 1.0, 0.0, 0.0, 1.0, 0.0)\n",
      "745 (0.0, 1.0, 0.0, 1.0, 0.0, 0.0, 0.0, -0.0, 0.3150752406575124, 0.0, -0.0, 0.3150752406575124, 0.0)\n",
      "746 (0.0, 1.0, 0.0, 1.0, 0.0, 0.0, 0.0, 0.0, 1.0, 0.0, 0.0, 1.0, 0.0)\n",
      "747 (0.0, 1.0, 0.0, 1.0, 0.0, 0.0, 0.0, 0.0, 1.0, 0.0, 0.0, 1.0, 0.0)\n",
      "748 (0.0, 1.0, 0.0, 1.0, 0.0, 0.0, 0.0, -0.0, 0.3150752406575124, 0.0, -0.0, 0.3150752406575124, 0.0)\n",
      "749 (0.0, 1.0, 0.0, 1.0, 0.0, 0.0, 0.0, 0.0, 1.0, 0.0, 0.0, 1.0, 0.0)\n",
      "750 (0.0, 1.0, 0.0, 1.0, 0.0, 0.0, 0.0, 0.0, 1.0, 0.0, 0.0, 1.0, 0.0)\n",
      "751 (0.0, 1.0, 0.0, 1.0, 0.0, 0.0, 0.0, -0.0, 0.3150752406575124, 0.0, -0.0, 0.3150752406575124, 0.0)\n",
      "752 (0.0, 1.0, 0.0, 1.0, 0.0, 0.0, 0.0, 0.0, 1.0, 0.0, 0.0, 1.0, 0.0)\n",
      "753 (0.0, 1.0, 0.0, 1.0, 0.0, 0.0, 0.0, 0.0, 1.0, 0.0, 0.0, 1.0, 0.0)\n",
      "754 (0.0, 1.0, 0.0, 1.0, 0.0, 0.0, 0.0, -0.0, 0.3150752406575124, 0.0, -0.0, 0.3150752406575124, 0.0)\n",
      "755 (0.0, 1.0, 0.0, 1.0, 0.0, 0.0, 0.0, 0.0, 1.0, 0.0, 0.0, 1.0, 0.0)\n",
      "756 (0.0, 1.0, 0.0, 1.0, 0.0, 0.0, 0.0, 0.0, 1.0, 0.0, 0.0, 1.0, 0.0)\n",
      "757 (0.0, 1.0, 0.0, 1.0, 0.0, 0.0, 0.0, -0.0, 0.3150752406575124, 0.0, -0.0, 0.3150752406575124, 0.0)\n",
      "758 (0.0, 1.0, 0.0, 1.0, 0.0, 0.0, 0.0, 0.0, 1.0, 0.0, 0.0, 1.0, 0.0)\n",
      "759 (0.0, 1.0, 0.0, 1.0, 0.0, 0.0, 0.0, 0.0, 1.0, 0.0, 0.0, 1.0, 0.0)\n",
      "760 (0.0, 1.0, 0.0, 1.0, 0.0, 0.0, 0.0, -0.0, 0.3150752406575124, 0.0, -0.0, 0.3150752406575124, 0.0)\n",
      "761 (0.0, 1.0, 0.0, 1.0, 0.0, 0.0, 0.0, 0.0, 1.0, 0.0, 0.0, 1.0, 0.0)\n",
      "762 (0.0, 1.0, 0.0, 1.0, 0.0, 0.0, 0.0, 0.0, 1.0, 0.0, 0.0, 1.0, 0.0)\n",
      "763 (0.0, 1.0, 0.0, 1.0, 0.0, 0.0, 0.0, -0.0, 0.3150752406575124, 0.0, -0.0, 0.3150752406575124, 0.0)\n",
      "764 (0.0, 1.0, 0.0, 1.0, 0.0, 0.0, 0.0, 0.0, 1.0, 0.0, 0.0, 1.0, 0.0)\n",
      "765 (0.0, 1.0, 0.0, 1.0, 0.0, 0.0, 0.0, 0.0, 1.0, 0.0, 0.0, 1.0, 0.0)\n",
      "766 (0.0, 1.0, 0.0, 1.0, 0.0, 0.0, 0.0, -0.0, 0.3150752406575124, 0.0, -0.0, 0.3150752406575124, 0.0)\n",
      "767 (0.0, 1.0, 0.0, 1.0, 0.0, 0.0, 0.0, 0.0, 1.0, 0.0, 0.0, 1.0, 0.0)\n",
      "768 (0.0, 1.0, 0.0, 1.0, 0.0, 0.0, 0.0, 0.0, 1.0, 0.0, 0.0, 1.0, 0.0)\n",
      "769 (0.0, 1.0, 0.0, 1.0, 0.0, 0.0, 0.0, -0.0, 0.3150752406575124, 0.0, -0.0, 0.3150752406575124, 0.0)\n",
      "770 (0.0, 1.0, 0.0, 1.0, 0.0, 0.0, 0.0, 0.0, 1.0, 0.0, 0.0, 1.0, 0.0)\n",
      "771 (0.0, 1.0, 0.0, 1.0, 0.0, 0.0, 0.0, 0.0, 1.0, 0.0, 0.0, 1.0, 0.0)\n",
      "772 (0.0, 1.0, 0.0, 1.0, 0.0, 0.0, 0.0, -0.0, 0.3150752406575124, 0.0, -0.0, 0.3150752406575124, 0.0)\n",
      "773 (0.0, 1.0, 0.0, 1.0, 0.0, 0.0, 0.0, 0.0, 1.0, 0.0, 0.0, 1.0, 0.0)\n",
      "774 (0.0, 1.0, 0.0, 1.0, 0.0, 0.0, 0.0, 0.0, 1.0, 0.0, 0.0, 1.0, 0.0)\n",
      "775 (0.0, 1.0, 0.0, 1.0, 0.0, 0.0, 0.0, -0.0, 0.3150752406575124, 0.0, -0.0, 0.3150752406575124, 0.0)\n",
      "776 (0.0, 1.0, 0.0, 1.0, 0.0, 0.0, 0.0, 0.0, 1.0, 0.0, 0.0, 1.0, 0.0)\n",
      "777 (0.0, 1.0, 0.0, 1.0, 0.0, 0.0, 0.0, 0.0, 1.0, 0.0, 0.0, 1.0, 0.0)\n",
      "778 (0.0, 1.0, 0.0, 1.0, 0.0, 0.0, 0.0, -0.0, 0.3150752406575124, 0.0, -0.0, 0.3150752406575124, 0.0)\n",
      "779 (0.0, 1.0, 0.0, 1.0, 0.0, 0.0, 0.0, 0.0, 1.0, 0.0, 0.0, 1.0, 0.0)\n",
      "780 (0.0, 1.0, 0.0, 1.0, 0.0, 0.0, 0.0, 0.0, 1.0, 0.0, 0.0, 1.0, 0.0)\n",
      "781 (0.0, 1.0, 0.0, 1.0, 0.0, 0.0, 0.0, -0.0, 0.3150752406575124, 0.0, -0.0, 0.3150752406575124, 0.0)\n",
      "782 (0.0, 1.0, 0.0, 1.0, 0.0, 0.0, 0.0, 0.0, 1.0, 0.0, 0.0, 1.0, 0.0)\n",
      "783 (0.0, 1.0, 0.0, 1.0, 0.0, 0.0, 0.0, 0.0, 1.0, 0.0, 0.0, 1.0, 0.0)\n",
      "784 (0.0, 1.0, 0.0, 1.0, 0.0, 0.0, 0.0, -0.0, 0.3150752406575124, 0.0, -0.0, 0.3150752406575124, 0.0)\n",
      "785 (0.0, 1.0, 0.0, 1.0, 0.0, 0.0, 0.0, 0.0, 1.0, 0.0, 0.0, 1.0, 0.0)\n",
      "786 (0.0, 1.0, 0.0, 1.0, 0.0, 0.0, 0.0, 0.0, 1.0, 0.0, 0.0, 1.0, 0.0)\n",
      "787 (0.0, 1.0, 0.0, 1.0, 0.0, 0.0, 0.0, -0.0, 0.3150752406575124, 0.0, -0.0, 0.3150752406575124, 0.0)\n",
      "788 (0.0, 1.0, 0.0, 1.0, 0.0, 0.0, 0.0, 0.0, 1.0, 0.0, 0.0, 1.0, 0.0)\n",
      "789 (0.0, 1.0, 0.0, 1.0, 0.0, 0.0, 0.0, 0.0, 1.0, 0.0, 0.0, 1.0, 0.0)\n",
      "790 (0.0, 1.0, 0.0, 1.0, 0.0, 0.0, 0.0, -0.0, 0.3150752406575124, 0.0, -0.0, 0.3150752406575124, 0.0)\n",
      "791 (0.0, 1.0, 0.0, 1.0, 0.0, 0.0, 0.0, 0.0, 1.0, 0.0, 0.0, 1.0, 0.0)\n",
      "792 (0.0, 1.0, 0.0, 1.0, 0.0, 0.0, 0.0, 0.0, 1.0, 0.0, 0.0, 1.0, 0.0)\n",
      "793 (0.0, 1.0, 0.0, 1.0, 0.0, 0.0, 0.0, -0.0, 0.3150752406575124, 0.0, -0.0, 0.3150752406575124, 0.0)\n",
      "794 (0.0, 1.0, 0.0, 1.0, 0.0, 0.0, 0.0, 0.0, 1.0, 0.0, 0.0, 1.0, 0.0)\n",
      "795 (0.0, 1.0, 0.0, 1.0, 0.0, 0.0, 0.0, 0.0, 1.0, 0.0, 0.0, 1.0, 0.0)\n",
      "796 (0.0, 1.0, 0.0, 1.0, 0.0, 0.0, 0.0, -0.0, 0.3150752406575124, 0.0, -0.0, 0.3150752406575124, 0.0)\n",
      "797 (0.0, 1.0, 0.0, 1.0, 0.0, 0.0, 0.0, 0.0, 1.0, 0.0, 0.0, 1.0, 0.0)\n",
      "798 (0.0, 1.0, 0.0, 1.0, 0.0, 0.0, 0.0, 0.0, 1.0, 0.0, 0.0, 1.0, 0.0)\n",
      "799 (0.0, 1.0, 0.0, 1.0, 0.0, 0.0, 0.0, -0.0, 0.3150752406575124, 0.0, -0.0, 0.3150752406575124, 0.0)\n",
      "800 (0.0, 1.0, 0.0, 1.0, 0.0, 0.0, 0.0, 0.0, 1.0, 0.0, 0.0, 1.0, 0.0)\n",
      "801 (0.0, 1.0, 0.0, 1.0, 0.0, 0.0, 0.0, 0.0, 1.0, 0.0, 0.0, 1.0, 0.0)\n",
      "802 (0.0, 1.0, 0.0, 1.0, 0.0, 0.0, 0.0, -0.0, 0.3150752406575124, 0.0, -0.0, 0.3150752406575124, 0.0)\n",
      "803 (0.0, 1.0, 0.0, 1.0, 0.0, 0.0, 0.0, 0.0, 1.0, 0.0, 0.0, 1.0, 0.0)\n",
      "804 (0.0, 1.0, 0.0, 1.0, 0.0, 0.0, 0.0, 0.0, 1.0, 0.0, 0.0, 1.0, 0.0)\n",
      "805 (0.0, 1.0, 0.0, 1.0, 0.0, 0.0, 0.0, -0.0, 0.3150752406575124, 0.0, -0.0, 0.3150752406575124, 0.0)\n",
      "806 (0.0, 1.0, 0.0, 1.0, 0.0, 0.0, 0.0, 0.0, 1.0, 0.0, 0.0, 1.0, 0.0)\n",
      "807 (0.0, 1.0, 0.0, 1.0, 0.0, 0.0, 0.0, 0.0, 1.0, 0.0, 0.0, 1.0, 0.0)\n",
      "808 (0.0, 1.0, 0.0, 1.0, 0.0, 0.0, 0.0, -0.0, 0.3150752406575124, 0.0, -0.0, 0.3150752406575124, 0.0)\n",
      "809 (0.0, 1.0, 0.0, 1.0, 0.0, 0.0, 0.0, 0.0, 1.0, 0.0, 0.0, 1.0, 0.0)\n",
      "810 (0.0, 1.0, 0.0, 1.0, 0.0, 0.0, 0.0, 0.0, 1.0, 0.0, 0.0, 1.0, 0.0)\n",
      "811 (0.0, 1.0, 0.0, 1.0, 0.0, 0.0, 0.0, -0.0, 0.3150752406575124, 0.0, -0.0, 0.3150752406575124, 0.0)\n",
      "812 (0.0, 1.0, 0.0, 1.0, 0.0, 0.0, 0.0, 0.0, 1.0, 0.0, 0.0, 1.0, 0.0)\n",
      "813 (0.0, 1.0, 0.0, 1.0, 0.0, 0.0, 0.0, 0.0, 1.0, 0.0, 0.0, 1.0, 0.0)\n",
      "814 (0.0, 1.0, 0.0, 1.0, 0.0, 0.0, 0.0, -0.0, 0.3150752406575124, 0.0, -0.0, 0.3150752406575124, 0.0)\n",
      "815 (0.0, 1.0, 0.0, 1.0, 0.0, 0.0, 0.0, 0.0, 1.0, 0.0, 0.0, 1.0, 0.0)\n",
      "816 (0.0, 1.0, 0.0, 1.0, 0.0, 0.0, 0.0, 0.0, 1.0, 0.0, 0.0, 1.0, 0.0)\n",
      "817 (0.0, 1.0, 0.0, 1.0, 0.0, 0.0, 0.0, -0.0, 0.3150752406575124, 0.0, -0.0, 0.3150752406575124, 0.0)\n",
      "818 (0.0, 1.0, 0.0, 1.0, 0.0, 0.0, 0.0, 0.0, 1.0, 0.0, 0.0, 1.0, 0.0)\n",
      "819 (0.0, 1.0, 0.0, 1.0, 0.0, 0.0, 0.0, 0.0, 1.0, 0.0, 0.0, 1.0, 0.0)\n",
      "820 (0.0, 1.0, 0.0, 1.0, 0.0, 0.0, 0.0, -0.0, 0.3150752406575124, 0.0, -0.0, 0.3150752406575124, 0.0)\n",
      "821 (0.0, 1.0, 0.0, 1.0, 0.0, 0.0, 0.0, 0.0, 1.0, 0.0, 0.0, 1.0, 0.0)\n",
      "822 (0.0, 1.0, 0.0, 1.0, 0.0, 0.0, 0.0, 0.0, 1.0, 0.0, 0.0, 1.0, 0.0)\n",
      "823 (0.0, 1.0, 0.0, 1.0, 0.0, 0.0, 0.0, -0.0, 0.3150752406575124, 0.0, -0.0, 0.3150752406575124, 0.0)\n",
      "824 (0.0, 1.0, 0.0, 1.0, 0.0, 0.0, 0.0, 0.0, 1.0, 0.0, 0.0, 1.0, 0.0)\n",
      "825 (0.0, 1.0, 0.0, 1.0, 0.0, 0.0, 0.0, 0.0, 1.0, 0.0, 0.0, 1.0, 0.0)\n",
      "826 (0.0, 1.0, 0.0, 1.0, 0.0, 0.0, 0.0, -0.0, 0.3150752406575124, 0.0, -0.0, 0.3150752406575124, 0.0)\n",
      "827 (0.0, 1.0, 0.0, 1.0, 0.0, 0.0, 0.0, 0.0, 1.0, 0.0, 0.0, 1.0, 0.0)\n",
      "828 (0.0, 1.0, 0.0, 1.0, 0.0, 0.0, 0.0, 0.0, 1.0, 0.0, 0.0, 1.0, 0.0)\n",
      "829 (0.0, 1.0, 0.0, 1.0, 0.0, 0.0, 0.0, -0.0, 0.3150752406575124, 0.0, -0.0, 0.3150752406575124, 0.0)\n",
      "830 (0.0, 1.0, 0.0, 1.0, 0.0, 0.0, 0.0, 0.0, 1.0, 0.0, 0.0, 1.0, 0.0)\n",
      "831 (0.0, 1.0, 0.0, 1.0, 0.0, 0.0, 0.0, 0.0, 1.0, 0.0, 0.0, 1.0, 0.0)\n",
      "832 (0.0, 1.0, 0.0, 1.0, 0.0, 0.0, 0.0, -0.0, 0.3150752406575124, 0.0, -0.0, 0.3150752406575124, 0.0)\n",
      "833 (0.0, 1.0, 0.0, 1.0, 0.0, 0.0, 0.0, 0.0, 1.0, 0.0, 0.0, 1.0, 0.0)\n",
      "834 (0.0, 1.0, 0.0, 1.0, 0.0, 0.0, 0.0, 0.0, 1.0, 0.0, 0.0, 1.0, 0.0)\n",
      "835 (0.0, 1.0, 0.0, 1.0, 0.0, 0.0, 0.0, -0.0, 0.3150752406575124, 0.0, -0.0, 0.3150752406575124, 0.0)\n",
      "836 (0.0, 1.0, 0.0, 1.0, 0.0, 0.0, 0.0, 0.0, 1.0, 0.0, 0.0, 1.0, 0.0)\n",
      "837 (0.0, 1.0, 0.0, 1.0, 0.0, 0.0, 0.0, 0.0, 1.0, 0.0, 0.0, 1.0, 0.0)\n",
      "838 (0.0, 1.0, 0.0, 1.0, 0.0, 0.0, 0.0, -0.0, 0.3150752406575124, 0.0, -0.0, 0.3150752406575124, 0.0)\n",
      "839 (0.0, 1.0, 0.0, 1.0, 0.0, 0.0, 0.0, 0.0, 1.0, 0.0, 0.0, 1.0, 0.0)\n",
      "840 (0.0, 1.0, 0.0, 1.0, 0.0, 0.0, 0.0, 0.0, 1.0, 0.0, 0.0, 1.0, 0.0)\n",
      "841 (0.0, 1.0, 0.0, 1.0, 0.0, 0.0, 0.0, -0.0, 0.3150752406575124, 0.0, -0.0, 0.3150752406575124, 0.0)\n",
      "842 (0.0, 1.0, 0.0, 1.0, 0.0, 0.0, 0.0, 0.0, 1.0, 0.0, 0.0, 1.0, 0.0)\n",
      "843 (0.0, 1.0, 0.0, 1.0, 0.0, 0.0, 0.0, 0.0, 1.0, 0.0, 0.0, 1.0, 0.0)\n",
      "844 (0.0, 1.0, 0.0, 1.0, 0.0, 0.0, 0.0, -0.0, 0.3150752406575124, 0.0, -0.0, 0.3150752406575124, 0.0)\n",
      "845 (0.0, 1.0, 0.0, 1.0, 0.0, 0.0, 0.0, 0.0, 1.0, 0.0, 0.0, 1.0, 0.0)\n",
      "846 (0.0, 1.0, 0.0, 1.0, 0.0, 0.0, 0.0, 0.0, 1.0, 0.0, 0.0, 1.0, 0.0)\n",
      "847 (0.0, 1.0, 0.0, 1.0, 0.0, 0.0, 0.0, -0.0, 0.3150752406575124, 0.0, -0.0, 0.3150752406575124, 0.0)\n",
      "848 (0.0, 1.0, 0.0, 1.0, 0.0, 0.0, 0.0, 0.0, 1.0, 0.0, 0.0, 1.0, 0.0)\n",
      "849 (0.0, 1.0, 0.0, 1.0, 0.0, 0.0, 0.0, 0.0, 1.0, 0.0, 0.0, 1.0, 0.0)\n",
      "850 (0.0, 1.0, 0.0, 1.0, 0.0, 0.0, 0.0, -0.0, 0.3150752406575124, 0.0, -0.0, 0.3150752406575124, 0.0)\n",
      "851 (0.0, 1.0, 0.0, 1.0, 0.0, 0.0, 0.0, 0.0, 1.0, 0.0, 0.0, 1.0, 0.0)\n",
      "852 (0.0, 1.0, 0.0, 1.0, 0.0, 0.0, 0.0, 0.0, 1.0, 0.0, 0.0, 1.0, 0.0)\n",
      "853 (0.0, 1.0, 0.0, 1.0, 0.0, 0.0, 0.0, -0.0, 0.3150752406575124, 0.0, -0.0, 0.3150752406575124, 0.0)\n",
      "854 (0.0, 1.0, 0.0, 1.0, 0.0, 0.0, 0.0, 0.0, 1.0, 0.0, 0.0, 1.0, 0.0)\n",
      "855 (0.0, 1.0, 0.0, 1.0, 0.0, 0.0, 0.0, 0.0, 1.0, 0.0, 0.0, 1.0, 0.0)\n",
      "856 (0.0, 1.0, 0.0, 1.0, 0.0, 0.0, 0.0, -0.0, 0.3150752406575124, 0.0, -0.0, 0.3150752406575124, 0.0)\n",
      "857 (0.0, 1.0, 0.0, 1.0, 0.0, 0.0, 0.0, 0.0, 1.0, 0.0, 0.0, 1.0, 0.0)\n",
      "858 (0.0, 1.0, 0.0, 1.0, 0.0, 0.0, 0.0, 0.0, 1.0, 0.0, 0.0, 1.0, 0.0)\n",
      "859 (0.0, 1.0, 0.0, 1.0, 0.0, 0.0, 0.0, -0.0, 0.3150752406575124, 0.0, -0.0, 0.3150752406575124, 0.0)\n",
      "860 (0.0, 1.0, 0.0, 1.0, 0.0, 0.0, 0.0, 0.0, 1.0, 0.0, 0.0, 1.0, 0.0)\n",
      "861 (0.0, 1.0, 0.0, 1.0, 0.0, 0.0, 0.0, 0.0, 1.0, 0.0, 0.0, 1.0, 0.0)\n",
      "862 (0.0, 1.0, 0.0, 1.0, 0.0, 0.0, 0.0, -0.0, 0.3150752406575124, 0.0, -0.0, 0.3150752406575124, 0.0)\n",
      "863 (0.0, 1.0, 0.0, 1.0, 0.0, 0.0, 0.0, 0.0, 1.0, 0.0, 0.0, 1.0, 0.0)\n",
      "864 (0.0, 1.0, 0.0, 1.0, 0.0, 0.0, 0.0, 0.0, 1.0, 0.0, 0.0, 1.0, 0.0)\n",
      "865 (0.0, 1.0, 0.0, 1.0, 0.0, 0.0, 0.0, -0.0, 0.3150752406575124, 0.0, -0.0, 0.3150752406575124, 0.0)\n",
      "866 (0.0, 1.0, 0.0, 1.0, 0.0, 0.0, 0.0, 0.0, 1.0, 0.0, 0.0, 1.0, 0.0)\n",
      "867 (0.0, 1.0, 0.0, 1.0, 0.0, 0.0, 0.0, 0.0, 1.0, 0.0, 0.0, 1.0, 0.0)\n",
      "868 (0.0, 1.0, 0.0, 1.0, 0.0, 0.0, 0.0, -0.0, 0.3150752406575124, 0.0, -0.0, 0.3150752406575124, 0.0)\n",
      "869 (0.0, 1.0, 0.0, 1.0, 0.0, 0.0, 0.0, 0.0, 1.0, 0.0, 0.0, 1.0, 0.0)\n",
      "870 (0.0, 1.0, 0.0, 1.0, 0.0, 0.0, 0.0, 0.0, 1.0, 0.0, 0.0, 1.0, 0.0)\n",
      "871 (0.0, 1.0, 0.0, 1.0, 0.0, 0.0, 0.0, -0.0, 0.3150752406575124, 0.0, -0.0, 0.3150752406575124, 0.0)\n",
      "872 (0.0, 1.0, 0.0, 1.0, 0.0, 0.0, 0.0, 0.0, 1.0, 0.0, 0.0, 1.0, 0.0)\n",
      "873 (0.0, 1.0, 0.0, 1.0, 0.0, 0.0, 0.0, 0.0, 1.0, 0.0, 0.0, 1.0, 0.0)\n",
      "874 (0.0, 1.0, 0.0, 1.0, 0.0, 0.0, 0.0, -0.0, 0.3150752406575124, 0.0, -0.0, 0.3150752406575124, 0.0)\n",
      "875 (0.0, 1.0, 0.0, 1.0, 0.0, 0.0, 0.0, 0.0, 1.0, 0.0, 0.0, 1.0, 0.0)\n",
      "876 (0.0, 1.0, 0.0, 1.0, 0.0, 0.0, 0.0, 0.0, 1.0, 0.0, 0.0, 1.0, 0.0)\n",
      "877 (0.0, 1.0, 0.0, 1.0, 0.0, 0.0, 0.0, -0.0, 0.3150752406575124, 0.0, -0.0, 0.3150752406575124, 0.0)\n",
      "878 (0.0, 1.0, 0.0, 1.0, 0.0, 0.0, 0.0, 0.0, 1.0, 0.0, 0.0, 1.0, 0.0)\n",
      "879 (0.0, 1.0, 0.0, 1.0, 0.0, 0.0, 0.0, 0.0, 1.0, 0.0, 0.0, 1.0, 0.0)\n",
      "880 (0.0, 1.0, 0.0, 1.0, 0.0, 0.0, 0.0, -0.0, 0.3150752406575124, 0.0, -0.0, 0.3150752406575124, 0.0)\n",
      "881 (0.0, 1.0, 0.0, 1.0, 0.0, 0.0, 0.0, 0.0, 1.0, 0.0, 0.0, 1.0, 0.0)\n",
      "882 (0.0, 1.0, 0.0, 1.0, 0.0, 0.0, 0.0, 0.0, 1.0, 0.0, 0.0, 1.0, 0.0)\n",
      "883 (0.0, 1.0, 0.0, 1.0, 0.0, 0.0, 0.0, -0.0, 0.3150752406575124, 0.0, -0.0, 0.3150752406575124, 0.0)\n",
      "884 (0.0, 1.0, 0.0, 1.0, 0.0, 0.0, 0.0, 0.0, 1.0, 0.0, 0.0, 1.0, 0.0)\n",
      "885 (0.0, 1.0, 0.0, 1.0, 0.0, 0.0, 0.0, 0.0, 1.0, 0.0, 0.0, 1.0, 0.0)\n",
      "886 (0.0, 1.0, 0.0, 1.0, 0.0, 0.0, 0.0, -0.0, 0.3150752406575124, 0.0, -0.0, 0.3150752406575124, 0.0)\n",
      "887 (0.0, 1.0, 0.0, 1.0, 0.0, 0.0, 0.0, 0.0, 1.0, 0.0, 0.0, 1.0, 0.0)\n",
      "888 (0.0, 1.0, 0.0, 1.0, 0.0, 0.0, 0.0, 0.0, 1.0, 0.0, 0.0, 1.0, 0.0)\n",
      "889 (0.0, 1.0, 0.0, 1.0, 0.0, 0.0, 0.0, -0.0, 0.3150752406575124, 0.0, -0.0, 0.3150752406575124, 0.0)\n",
      "890 (0.0, 1.0, 0.0, 1.0, 0.0, 0.0, 0.0, 0.0, 1.0, 0.0, 0.0, 1.0, 0.0)\n",
      "891 (0.0, 1.0, 0.0, 1.0, 0.0, 0.0, 0.0, 0.0, 1.0, 0.0, 0.0, 1.0, 0.0)\n",
      "892 (0.0, 1.0, 0.0, 1.0, 0.0, 0.0, 0.0, -0.0, 0.3150752406575124, 0.0, -0.0, 0.3150752406575124, 0.0)\n",
      "893 (0.0, 1.0, 0.0, 1.0, 0.0, 0.0, 0.0, 0.0, 1.0, 0.0, 0.0, 1.0, 0.0)\n",
      "894 (0.0, 1.0, 0.0, 1.0, 0.0, 0.0, 0.0, 0.0, 1.0, 0.0, 0.0, 1.0, 0.0)\n",
      "895 (0.0, 1.0, 0.0, 1.0, 0.0, 0.0, 0.0, -0.0, 0.3150752406575124, 0.0, -0.0, 0.3150752406575124, 0.0)\n",
      "896 (0.0, 1.0, 0.0, 1.0, 0.0, 0.0, 0.0, 0.0, 1.0, 0.0, 0.0, 1.0, 0.0)\n",
      "897 (0.0, 1.0, 0.0, 1.0, 0.0, 0.0, 0.0, 0.0, 1.0, 0.0, 0.0, 1.0, 0.0)\n",
      "898 (0.0, 1.0, 0.0, 1.0, 0.0, 0.0, 0.0, -0.0, 0.3150752406575124, 0.0, -0.0, 0.3150752406575124, 0.0)\n",
      "899 (0.0, 1.0, 0.0, 1.0, 0.0, 0.0, 0.0, 0.0, 1.0, 0.0, 0.0, 1.0, 0.0)\n",
      "900 (0.0, 1.0, 0.0, 1.0, 0.0, 0.0, 0.0, 0.0, 1.0, 0.0, 0.0, 1.0, 0.0)\n",
      "901 (0.0, 1.0, 0.0, 1.0, 0.0, 0.0, 0.0, -0.0, 0.3150752406575124, 0.0, -0.0, 0.3150752406575124, 0.0)\n",
      "902 (0.0, 1.0, 0.0, 1.0, 0.0, 0.0, 0.0, 0.0, 1.0, 0.0, 0.0, 1.0, 0.0)\n",
      "903 (0.0, 1.0, 0.0, 1.0, 0.0, 0.0, 0.0, 0.0, 1.0, 0.0, 0.0, 1.0, 0.0)\n",
      "904 (0.0, 1.0, 0.0, 1.0, 0.0, 0.0, 0.0, -0.0, 0.3150752406575124, 0.0, -0.0, 0.3150752406575124, 0.0)\n",
      "905 (0.0, 1.0, 0.0, 1.0, 0.0, 0.0, 0.0, 0.0, 1.0, 0.0, 0.0, 1.0, 0.0)\n",
      "906 (0.0, 1.0, 0.0, 1.0, 0.0, 0.0, 0.0, 0.0, 1.0, 0.0, 0.0, 1.0, 0.0)\n",
      "907 (0.0, 1.0, 0.0, 1.0, 0.0, 0.0, 0.0, -0.0, 0.3150752406575124, 0.0, -0.0, 0.3150752406575124, 0.0)\n",
      "908 (0.0, 1.0, 0.0, 1.0, 0.0, 0.0, 0.0, 0.0, 1.0, 0.0, 0.0, 1.0, 0.0)\n",
      "909 (0.0, 1.0, 0.0, 1.0, 0.0, 0.0, 0.0, 0.0, 1.0, 0.0, 0.0, 1.0, 0.0)\n",
      "910 (0.0, 1.0, 0.0, 1.0, 0.0, 0.0, 0.0, -0.0, 0.3150752406575124, 0.0, -0.0, 0.3150752406575124, 0.0)\n",
      "911 (0.0, 1.0, 0.0, 1.0, 0.0, 0.0, 0.0, 0.0, 1.0, 0.0, 0.0, 1.0, 0.0)\n",
      "912 (0.0, 1.0, 0.0, 1.0, 0.0, 0.0, 0.0, 0.0, 1.0, 0.0, 0.0, 1.0, 0.0)\n",
      "913 (0.0, 1.0, 0.0, 1.0, 0.0, 0.0, 0.0, -0.0, 0.3150752406575124, 0.0, -0.0, 0.3150752406575124, 0.0)\n",
      "914 (0.0, 1.0, 0.0, 1.0, 0.0, 0.0, 0.0, 0.0, 1.0, 0.0, 0.0, 1.0, 0.0)\n",
      "915 (0.0, 1.0, 0.0, 1.0, 0.0, 0.0, 0.0, 0.0, 1.0, 0.0, 0.0, 1.0, 0.0)\n",
      "916 (0.0, 1.0, 0.0, 1.0, 0.0, 0.0, 0.0, -0.0, 0.3150752406575124, 0.0, -0.0, 0.3150752406575124, 0.0)\n",
      "917 (0.0, 1.0, 0.0, 1.0, 0.0, 0.0, 0.0, 0.0, 1.0, 0.0, 0.0, 1.0, 0.0)\n",
      "918 (0.0, 1.0, 0.0, 1.0, 0.0, 0.0, 0.0, 0.0, 1.0, 0.0, 0.0, 1.0, 0.0)\n",
      "919 (0.0, 1.0, 0.0, 1.0, 0.0, 0.0, 0.0, -0.0, 0.3150752406575124, 0.0, -0.0, 0.3150752406575124, 0.0)\n",
      "920 (0.0, 1.0, 0.0, 1.0, 0.0, 0.0, 0.0, 0.0, 1.0, 0.0, 0.0, 1.0, 0.0)\n",
      "921 (0.0, 1.0, 0.0, 1.0, 0.0, 0.0, 0.0, 0.0, 1.0, 0.0, 0.0, 1.0, 0.0)\n",
      "922 (0.0, 1.0, 0.0, 1.0, 0.0, 0.0, 0.0, -0.0, 0.3150752406575124, 0.0, -0.0, 0.3150752406575124, 0.0)\n",
      "923 (0.0, 1.0, 0.0, 1.0, 0.0, 0.0, 0.0, 0.0, 1.0, 0.0, 0.0, 1.0, 0.0)\n",
      "924 (0.0, 1.0, 0.0, 1.0, 0.0, 0.0, 0.0, 0.0, 1.0, 0.0, 0.0, 1.0, 0.0)\n",
      "925 (0.0, 1.0, 0.0, 1.0, 0.0, 0.0, 0.0, -0.0, 0.3150752406575124, 0.0, -0.0, 0.3150752406575124, 0.0)\n",
      "926 (0.0, 1.0, 0.0, 1.0, 0.0, 0.0, 0.0, 0.0, 1.0, 0.0, 0.0, 1.0, 0.0)\n",
      "927 (0.0, 1.0, 0.0, 1.0, 0.0, 0.0, 0.0, 0.0, 1.0, 0.0, 0.0, 1.0, 0.0)\n",
      "928 (0.0, 1.0, 0.0, 1.0, 0.0, 0.0, 0.0, -0.0, 0.3150752406575124, 0.0, -0.0, 0.3150752406575124, 0.0)\n",
      "929 (0.0, 1.0, 0.0, 1.0, 0.0, 0.0, 0.0, 0.0, 1.0, 0.0, 0.0, 1.0, 0.0)\n",
      "930 (0.0, 1.0, 0.0, 1.0, 0.0, 0.0, 0.0, 0.0, 1.0, 0.0, 0.0, 1.0, 0.0)\n",
      "931 (0.0, 1.0, 0.0, 1.0, 0.0, 0.0, 0.0, -0.0, 0.3150752406575124, 0.0, -0.0, 0.3150752406575124, 0.0)\n",
      "932 (0.0, 1.0, 0.0, 1.0, 0.0, 0.0, 0.0, 0.0, 1.0, 0.0, 0.0, 1.0, 0.0)\n",
      "933 (0.0, 1.0, 0.0, 1.0, 0.0, 0.0, 0.0, 0.0, 1.0, 0.0, 0.0, 1.0, 0.0)\n",
      "934 (0.0, 1.0, 0.0, 1.0, 0.0, 0.0, 0.0, -0.0, 0.3150752406575124, 0.0, -0.0, 0.3150752406575124, 0.0)\n",
      "935 (0.0, 1.0, 0.0, 1.0, 0.0, 0.0, 0.0, 0.0, 1.0, 0.0, 0.0, 1.0, 0.0)\n",
      "936 (0.0, 1.0, 0.0, 1.0, 0.0, 0.0, 0.0, 0.0, 1.0, 0.0, 0.0, 1.0, 0.0)\n",
      "937 (0.0, 1.0, 0.0, 1.0, 0.0, 0.0, 0.0, -0.0, 0.3150752406575124, 0.0, -0.0, 0.3150752406575124, 0.0)\n",
      "938 (0.0, 1.0, 0.0, 1.0, 0.0, 0.0, 0.0, 0.0, 1.0, 0.0, 0.0, 1.0, 0.0)\n",
      "939 (0.0, 1.0, 0.0, 1.0, 0.0, 0.0, 0.0, 0.0, 1.0, 0.0, 0.0, 1.0, 0.0)\n",
      "940 (0.0, 1.0, 0.0, 1.0, 0.0, 0.0, 0.0, -0.0, 0.3150752406575124, 0.0, -0.0, 0.3150752406575124, 0.0)\n",
      "941 (0.0, 1.0, 0.0, 1.0, 0.0, 0.0, 0.0, 0.0, 1.0, 0.0, 0.0, 1.0, 0.0)\n",
      "942 (0.0, 1.0, 0.0, 1.0, 0.0, 0.0, 0.0, 0.0, 1.0, 0.0, 0.0, 1.0, 0.0)\n",
      "943 (0.0, 1.0, 0.0, 1.0, 0.0, 0.0, 0.0, -0.0, 0.3150752406575124, 0.0, -0.0, 0.3150752406575124, 0.0)\n",
      "944 (0.0, 1.0, 0.0, 1.0, 0.0, 0.0, 0.0, 0.0, 1.0, 0.0, 0.0, 1.0, 0.0)\n",
      "945 (0.0, 1.0, 0.0, 1.0, 0.0, 0.0, 0.0, 0.0, 1.0, 0.0, 0.0, 1.0, 0.0)\n",
      "946 (0.0, 1.0, 0.0, 1.0, 0.0, 0.0, 0.0, -0.0, 0.3150752406575124, 0.0, -0.0, 0.3150752406575124, 0.0)\n",
      "947 (0.0, 1.0, 0.0, 1.0, 0.0, 0.0, 0.0, 0.0, 1.0, 0.0, 0.0, 1.0, 0.0)\n",
      "948 (0.0, 1.0, 0.0, 1.0, 0.0, 0.0, 0.0, 0.0, 1.0, 0.0, 0.0, 1.0, 0.0)\n",
      "949 (0.0, 1.0, 0.0, 1.0, 0.0, 0.0, 0.0, -0.0, 0.3150752406575124, 0.0, -0.0, 0.3150752406575124, 0.0)\n",
      "950 (0.0, 1.0, 0.0, 1.0, 0.0, 0.0, 0.0, 0.0, 1.0, 0.0, 0.0, 1.0, 0.0)\n",
      "951 (0.0, 1.0, 0.0, 1.0, 0.0, 0.0, 0.0, 0.0, 1.0, 0.0, 0.0, 1.0, 0.0)\n",
      "952 (0.0, 1.0, 0.0, 1.0, 0.0, 0.0, 0.0, -0.0, 0.3150752406575124, 0.0, -0.0, 0.3150752406575124, 0.0)\n",
      "953 (0.0, 1.0, 0.0, 1.0, 0.0, 0.0, 0.0, 0.0, 1.0, 0.0, 0.0, 1.0, 0.0)\n",
      "954 (0.0, 1.0, 0.0, 1.0, 0.0, 0.0, 0.0, 0.0, 1.0, 0.0, 0.0, 1.0, 0.0)\n",
      "955 (0.0, 1.0, 0.0, 1.0, 0.0, 0.0, 0.0, -0.0, 0.3150752406575124, 0.0, -0.0, 0.3150752406575124, 0.0)\n",
      "956 (0.0, 1.0, 0.0, 1.0, 0.0, 0.0, 0.0, 0.0, 1.0, 0.0, 0.0, 1.0, 0.0)\n",
      "957 (0.0, 1.0, 0.0, 1.0, 0.0, 0.0, 0.0, 0.0, 1.0, 0.0, 0.0, 1.0, 0.0)\n",
      "958 (0.0, 1.0, 0.0, 1.0, 0.0, 0.0, 0.0, -0.0, 0.3150752406575124, 0.0, -0.0, 0.3150752406575124, 0.0)\n",
      "959 (0.0, 1.0, 0.0, 1.0, 0.0, 0.0, 0.0, 0.0, 1.0, 0.0, 0.0, 1.0, 0.0)\n",
      "960 (0.0, 1.0, 0.0, 1.0, 0.0, 0.0, 0.0, 0.0, 1.0, 0.0, 0.0, 1.0, 0.0)\n",
      "961 (0.0, 1.0, 0.0, 1.0, 0.0, 0.0, 0.0, -0.0, 0.3150752406575124, 0.0, -0.0, 0.3150752406575124, 0.0)\n",
      "962 (0.0, 1.0, 0.0, 1.0, 0.0, 0.0, 0.0, 0.0, 1.0, 0.0, 0.0, 1.0, 0.0)\n",
      "963 (0.0, 1.0, 0.0, 1.0, 0.0, 0.0, 0.0, 0.0, 1.0, 0.0, 0.0, 1.0, 0.0)\n",
      "964 (0.0, 1.0, 0.0, 1.0, 0.0, 0.0, 0.0, -0.0, 0.3150752406575124, 0.0, -0.0, 0.3150752406575124, 0.0)\n",
      "965 (0.0, 1.0, 0.0, 1.0, 0.0, 0.0, 0.0, 0.0, 1.0, 0.0, 0.0, 1.0, 0.0)\n",
      "966 (0.0, 1.0, 0.0, 1.0, 0.0, 0.0, 0.0, 0.0, 1.0, 0.0, 0.0, 1.0, 0.0)\n",
      "967 (0.0, 1.0, 0.0, 1.0, 0.0, 0.0, 0.0, -0.0, 0.3150752406575124, 0.0, -0.0, 0.3150752406575124, 0.0)\n",
      "968 (0.0, 1.0, 0.0, 1.0, 0.0, 0.0, 0.0, 0.0, 1.0, 0.0, 0.0, 1.0, 0.0)\n",
      "969 (0.0, 1.0, 0.0, 1.0, 0.0, 0.0, 0.0, 0.0, 1.0, 0.0, 0.0, 1.0, 0.0)\n",
      "970 (0.0, 1.0, 0.0, 1.0, 0.0, 0.0, 0.0, -0.0, 0.3150752406575124, 0.0, -0.0, 0.3150752406575124, 0.0)\n",
      "971 (0.0, 1.0, 0.0, 1.0, 0.0, 0.0, 0.0, 0.0, 1.0, 0.0, 0.0, 1.0, 0.0)\n",
      "972 (0.0, 1.0, 0.0, 1.0, 0.0, 0.0, 0.0, 0.0, 1.0, 0.0, 0.0, 1.0, 0.0)\n",
      "973 (0.0, 1.0, 0.0, 1.0, 0.0, 0.0, 0.0, -0.0, 0.3150752406575124, 0.0, -0.0, 0.3150752406575124, 0.0)\n",
      "974 (0.0, 1.0, 0.0, 1.0, 0.0, 0.0, 0.0, 0.0, 1.0, 0.0, 0.0, 1.0, 0.0)\n",
      "975 (0.0, 1.0, 0.0, 1.0, 0.0, 0.0, 0.0, 0.0, 1.0, 0.0, 0.0, 1.0, 0.0)\n",
      "976 (0.0, 1.0, 0.0, 1.0, 0.0, 0.0, 0.0, -0.0, 0.3150752406575124, 0.0, -0.0, 0.3150752406575124, 0.0)\n",
      "977 (0.0, 1.0, 0.0, 1.0, 0.0, 0.0, 0.0, 0.0, 1.0, 0.0, 0.0, 1.0, 0.0)\n",
      "978 (0.0, 1.0, 0.0, 1.0, 0.0, 0.0, 0.0, 0.0, 1.0, 0.0, 0.0, 1.0, 0.0)\n",
      "979 (0.0, 1.0, 0.0, 1.0, 0.0, 0.0, 0.0, -0.0, 0.3150752406575124, 0.0, -0.0, 0.3150752406575124, 0.0)\n",
      "980 (0.0, 1.0, 0.0, 1.0, 0.0, 0.0, 0.0, 0.0, 1.0, 0.0, 0.0, 1.0, 0.0)\n",
      "981 (0.0, 1.0, 0.0, 1.0, 0.0, 0.0, 0.0, 0.0, 1.0, 0.0, 0.0, 1.0, 0.0)\n",
      "982 (0.0, 1.0, 0.0, 1.0, 0.0, 0.0, 0.0, -0.0, 0.3150752406575124, 0.0, -0.0, 0.3150752406575124, 0.0)\n",
      "983 (0.0, 1.0, 0.0, 1.0, 0.0, 0.0, 0.0, 0.0, 1.0, 0.0, 0.0, 1.0, 0.0)\n",
      "984 (0.0, 1.0, 0.0, 1.0, 0.0, 0.0, 0.0, 0.0, 1.0, 0.0, 0.0, 1.0, 0.0)\n",
      "985 (0.0, 1.0, 0.0, 1.0, 0.0, 0.0, 0.0, -0.0, 0.3150752406575124, 0.0, -0.0, 0.3150752406575124, 0.0)\n",
      "986 (0.0, 1.0, 0.0, 1.0, 0.0, 0.0, 0.0, 0.0, 1.0, 0.0, 0.0, 1.0, 0.0)\n",
      "987 (0.0, 1.0, 0.0, 1.0, 0.0, 0.0, 0.0, 0.0, 1.0, 0.0, 0.0, 1.0, 0.0)\n",
      "988 (0.0, 1.0, 0.0, 1.0, 0.0, 0.0, 0.0, -0.0, 0.3150752406575124, 0.0, -0.0, 0.3150752406575124, 0.0)\n",
      "989 (0.0, 1.0, 0.0, 1.0, 0.0, 0.0, 0.0, 0.0, 1.0, 0.0, 0.0, 1.0, 0.0)\n",
      "990 (0.0, 1.0, 0.0, 1.0, 0.0, 0.0, 0.0, 0.0, 1.0, 0.0, 0.0, 1.0, 0.0)\n",
      "991 (0.0, 1.0, 0.0, 1.0, 0.0, 0.0, 0.0, -0.0, 0.3150752406575124, 0.0, -0.0, 0.3150752406575124, 0.0)\n",
      "992 (0.0, 1.0, 0.0, 1.0, 0.0, 0.0, 0.0, 0.0, 1.0, 0.0, 0.0, 1.0, 0.0)\n",
      "993 (0.0, 1.0, 0.0, 1.0, 0.0, 0.0, 0.0, 0.0, 1.0, 0.0, 0.0, 1.0, 0.0)\n",
      "994 (0.0, 1.0, 0.0, 1.0, 0.0, 0.0, 0.0, -0.0, 0.3150752406575124, 0.0, -0.0, 0.3150752406575124, 0.0)\n",
      "995 (0.0, 1.0, 0.0, 1.0, 0.0, 0.0, 0.0, 0.0, 1.0, 0.0, 0.0, 1.0, 0.0)\n",
      "996 (0.0, 1.0, 0.0, 1.0, 0.0, 0.0, 0.0, 0.0, 1.0, 0.0, 0.0, 1.0, 0.0)\n",
      "997 (0.0, 1.0, 0.0, 1.0, 0.0, 0.0, 0.0, -0.0, 0.3150752406575124, 0.0, -0.0, 0.3150752406575124, 0.0)\n",
      "998 (0.0, 1.0, 0.0, 1.0, 0.0, 0.0, 0.0, 0.0, 1.0, 0.0, 0.0, 1.0, 0.0)\n",
      "999 (0.0, 1.0, 0.0, 1.0, 0.0, 0.0, 0.0, 0.0, 1.0, 0.0, 0.0, 1.0, 0.0)\n",
      "1000 (0.0, 1.0, 0.0, 1.0, 0.0, 0.0, 0.0, -0.0, 0.3150752406575124, 0.0, -0.0, 0.3150752406575124, 0.0)\n",
      "1001 (0.0, 1.0, 0.0, 1.0, 0.0, 0.0, 0.0, 0.0, 1.0, 0.0, 0.0, 1.0, 0.0)\n",
      "1002 (0.0, 1.0, 0.0, 1.0, 0.0, 0.0, 0.0, 0.0, 1.0, 0.0, 0.0, 1.0, 0.0)\n",
      "1003 (0.0, 1.0, 0.0, 1.0, 0.0, 0.0, 0.0, -0.0, 0.3150752406575124, 0.0, -0.0, 0.3150752406575124, 0.0)\n",
      "1004 (0.0, 1.0, 0.0, 1.0, 0.0, 0.0, 0.0, 0.0, 1.0, 0.0, 0.0, 1.0, 0.0)\n",
      "1005 (0.0, 1.0, 0.0, 1.0, 0.0, 0.0, 0.0, 0.0, 1.0, 0.0, 0.0, 1.0, 0.0)\n",
      "1006 (0.0, 1.0, 0.0, 1.0, 0.0, 0.0, 0.0, -0.0, 0.3150752406575124, 0.0, -0.0, 0.3150752406575124, 0.0)\n",
      "1007 (0.0, 1.0, 0.0, 1.0, 0.0, 0.0, 0.0, 0.0, 1.0, 0.0, 0.0, 1.0, 0.0)\n",
      "1008 (0.0, 1.0, 0.0, 1.0, 0.0, 0.0, 0.0, 0.0, 1.0, 0.0, 0.0, 1.0, 0.0)\n",
      "1009 (0.0, 1.0, 0.0, 1.0, 0.0, 0.0, 0.0, -0.0, 0.3150752406575124, 0.0, -0.0, 0.3150752406575124, 0.0)\n",
      "1010 (0.0, 1.0, 0.0, 1.0, 0.0, 0.0, 0.0, 0.0, 1.0, 0.0, 0.0, 1.0, 0.0)\n",
      "1011 (0.0, 1.0, 0.0, 1.0, 0.0, 0.0, 0.0, 0.0, 1.0, 0.0, 0.0, 1.0, 0.0)\n",
      "1012 (0.0, 1.0, 0.0, 1.0, 0.0, 0.0, 0.0, -0.0, 0.3150752406575124, 0.0, -0.0, 0.3150752406575124, 0.0)\n",
      "1013 (0.0, 1.0, 0.0, 1.0, 0.0, 0.0, 0.0, 0.0, 1.0, 0.0, 0.0, 1.0, 0.0)\n",
      "1014 (0.0, 1.0, 0.0, 1.0, 0.0, 0.0, 0.0, 0.0, 1.0, 0.0, 0.0, 1.0, 0.0)\n",
      "1015 (0.0, 1.0, 0.0, 1.0, 0.0, 0.0, 0.0, -0.0, 0.3150752406575124, 0.0, -0.0, 0.3150752406575124, 0.0)\n",
      "1016 (0.0, 1.0, 0.0, 1.0, 0.0, 0.0, 0.0, 0.0, 1.0, 0.0, 0.0, 1.0, 0.0)\n",
      "1017 (0.0, 1.0, 0.0, 1.0, 0.0, 0.0, 0.0, 0.0, 1.0, 0.0, 0.0, 1.0, 0.0)\n",
      "1018 (0.0, 1.0, 0.0, 1.0, 0.0, 0.0, 0.0, -0.0, 0.3150752406575124, 0.0, -0.0, 0.3150752406575124, 0.0)\n",
      "1019 (0.0, 1.0, 0.0, 1.0, 0.0, 0.0, 0.0, 0.0, 1.0, 0.0, 0.0, 1.0, 0.0)\n",
      "1020 (0.0, 1.0, 0.0, 1.0, 0.0, 0.0, 0.0, 0.0, 1.0, 0.0, 0.0, 1.0, 0.0)\n",
      "1021 (0.0, 1.0, 0.0, 1.0, 0.0, 0.0, 0.0, -0.0, 0.3150752406575124, 0.0, -0.0, 0.3150752406575124, 0.0)\n",
      "1022 (0.0, 1.0, 0.0, 1.0, 0.0, 0.0, 0.0, 0.0, 1.0, 0.0, 0.0, 1.0, 0.0)\n",
      "1023 (0.0, 1.0, 0.0, 1.0, 0.0, 0.0, 0.0, 0.0, 1.0, 0.0, 0.0, 1.0, 0.0)\n",
      "1024 (0.0, 1.0, 0.0, 1.0, 0.0, 0.0, 0.0, -0.0, 0.3150752406575124, 0.0, -0.0, 0.3150752406575124, 0.0)\n",
      "1025 (0.0, 1.0, 0.0, 1.0, 0.0, 0.0, 0.0, 0.0, 1.0, 0.0, 0.0, 1.0, 0.0)\n",
      "1026 (0.0, 1.0, 0.0, 1.0, 0.0, 0.0, 0.0, 0.0, 1.0, 0.0, 0.0, 1.0, 0.0)\n",
      "1027 (0.0, 1.0, 0.0, 1.0, 0.0, 0.0, 0.0, -0.0, 0.3150752406575124, 0.0, -0.0, 0.3150752406575124, 0.0)\n",
      "1028 (0.0, 1.0, 0.0, 1.0, 0.0, 0.0, 0.0, 0.0, 1.0, 0.0, 0.0, 1.0, 0.0)\n",
      "1029 (0.0, 1.0, 0.0, 1.0, 0.0, 0.0, 0.0, 0.0, 1.0, 0.0, 0.0, 1.0, 0.0)\n",
      "1030 (0.0, 1.0, 0.0, 1.0, 0.0, 0.0, 0.0, -0.0, 0.3150752406575124, 0.0, -0.0, 0.3150752406575124, 0.0)\n",
      "1031 (0.0, 1.0, 0.0, 1.0, 0.0, 0.0, 0.0, 0.0, 1.0, 0.0, 0.0, 1.0, 0.0)\n",
      "1032 (0.0, 1.0, 0.0, 1.0, 0.0, 0.0, 0.0, 0.0, 1.0, 0.0, 0.0, 1.0, 0.0)\n",
      "1033 (0.0, 1.0, 0.0, 1.0, 0.0, 0.0, 0.0, -0.0, 0.3150752406575124, 0.0, -0.0, 0.3150752406575124, 0.0)\n",
      "1034 (0.0, 1.0, 0.0, 1.0, 0.0, 0.0, 0.0, 0.0, 1.0, 0.0, 0.0, 1.0, 0.0)\n",
      "1035 (0.0, 1.0, 0.0, 1.0, 0.0, 0.0, 0.0, 0.0, 1.0, 0.0, 0.0, 1.0, 0.0)\n",
      "1036 (0.0, 1.0, 0.0, 1.0, 0.0, 0.0, 0.0, -0.0, 0.3150752406575124, 0.0, -0.0, 0.3150752406575124, 0.0)\n",
      "1037 (0.0, 1.0, 0.0, 1.0, 0.0, 0.0, 0.0, 0.0, 1.0, 0.0, 0.0, 1.0, 0.0)\n",
      "1038 (0.0, 1.0, 0.0, 1.0, 0.0, 0.0, 0.0, 0.0, 1.0, 0.0, 0.0, 1.0, 0.0)\n",
      "1039 (0.0, 1.0, 0.0, 1.0, 0.0, 0.0, 0.0, -0.0, 0.3150752406575124, 0.0, -0.0, 0.3150752406575124, 0.0)\n",
      "1040 (0.0, 1.0, 0.0, 1.0, 0.0, 0.0, 0.0, 0.0, 1.0, 0.0, 0.0, 1.0, 0.0)\n",
      "1041 (0.0, 1.0, 0.0, 1.0, 0.0, 0.0, 0.0, 0.0, 1.0, 0.0, 0.0, 1.0, 0.0)\n",
      "1042 (0.0, 1.0, 0.0, 1.0, 0.0, 0.0, 0.0, -0.0, 0.3150752406575124, 0.0, -0.0, 0.3150752406575124, 0.0)\n",
      "1043 (0.0, 1.0, 0.0, 1.0, 0.0, 0.0, 0.0, 0.0, 1.0, 0.0, 0.0, 1.0, 0.0)\n",
      "1044 (0.0, 1.0, 0.0, 1.0, 0.0, 0.0, 0.0, 0.0, 1.0, 0.0, 0.0, 1.0, 0.0)\n",
      "1045 (0.0, 1.0, 0.0, 1.0, 0.0, 0.0, 0.0, -0.0, 0.3150752406575124, 0.0, -0.0, 0.3150752406575124, 0.0)\n",
      "1046 (0.0, 1.0, 0.0, 1.0, 0.0, 0.0, 0.0, 0.0, 1.0, 0.0, 0.0, 1.0, 0.0)\n",
      "1047 (0.0, 1.0, 0.0, 1.0, 0.0, 0.0, 0.0, 0.0, 1.0, 0.0, 0.0, 1.0, 0.0)\n",
      "1048 (0.0, 1.0, 0.0, 1.0, 0.0, 0.0, 0.0, -0.0, 0.3150752406575124, 0.0, -0.0, 0.3150752406575124, 0.0)\n",
      "1049 (0.0, 1.0, 0.0, 1.0, 0.0, 0.0, 0.0, 0.0, 1.0, 0.0, 0.0, 1.0, 0.0)\n",
      "1050 (0.0, 1.0, 0.0, 1.0, 0.0, 0.0, 0.0, 0.0, 1.0, 0.0, 0.0, 1.0, 0.0)\n",
      "1051 (0.0, 1.0, 0.0, 1.0, 0.0, 0.0, 0.0, -0.0, 0.3150752406575124, 0.0, -0.0, 0.3150752406575124, 0.0)\n",
      "1052 (0.0, 1.0, 0.0, 1.0, 0.0, 0.0, 0.0, 0.0, 1.0, 0.0, 0.0, 1.0, 0.0)\n",
      "1053 (0.0, 1.0, 0.0, 1.0, 0.0, 0.0, 0.0, 0.0, 1.0, 0.0, 0.0, 1.0, 0.0)\n",
      "1054 (0.0, 1.0, 0.0, 1.0, 0.0, 0.0, 0.0, -0.0, 0.3150752406575124, 0.0, -0.0, 0.3150752406575124, 0.0)\n",
      "1055 (0.0, 1.0, 0.0, 1.0, 0.0, 0.0, 0.0, 0.0, 1.0, 0.0, 0.0, 1.0, 0.0)\n",
      "1056 (0.0, 1.0, 0.0, 1.0, 0.0, 0.0, 0.0, 0.0, 1.0, 0.0, 0.0, 1.0, 0.0)\n",
      "1057 (0.0, 1.0, 0.0, 1.0, 0.0, 0.0, 0.0, -0.0, 0.3150752406575124, 0.0, -0.0, 0.3150752406575124, 0.0)\n",
      "1058 (0.0, 1.0, 0.0, 1.0, 0.0, 0.0, 0.0, 0.0, 1.0, 0.0, 0.0, 1.0, 0.0)\n",
      "1059 (0.0, 1.0, 0.0, 1.0, 0.0, 0.0, 0.0, 0.0, 1.0, 0.0, 0.0, 1.0, 0.0)\n",
      "1060 (0.0, 1.0, 0.0, 1.0, 0.0, 0.0, 0.0, -0.0, 0.3150752406575124, 0.0, -0.0, 0.3150752406575124, 0.0)\n",
      "1061 (0.0, 1.0, 0.0, 1.0, 0.0, 0.0, 0.0, 0.0, 1.0, 0.0, 0.0, 1.0, 0.0)\n",
      "1062 (0.0, 1.0, 0.0, 1.0, 0.0, 0.0, 0.0, 0.0, 1.0, 0.0, 0.0, 1.0, 0.0)\n",
      "1063 (0.0, 1.0, 0.0, 1.0, 0.0, 0.0, 0.0, -0.0, 0.3150752406575124, 0.0, -0.0, 0.3150752406575124, 0.0)\n",
      "1064 (0.0, 1.0, 0.0, 1.0, 0.0, 0.0, 0.0, 0.0, 1.0, 0.0, 0.0, 1.0, 0.0)\n",
      "1065 (0.0, 1.0, 0.0, 1.0, 0.0, 0.0, 0.0, 0.0, 1.0, 0.0, 0.0, 1.0, 0.0)\n",
      "1066 (0.0, 1.0, 0.0, 1.0, 0.0, 0.0, 0.0, -0.0, 0.3150752406575124, 0.0, -0.0, 0.3150752406575124, 0.0)\n",
      "1067 (0.0, 1.0, 0.0, 1.0, 0.0, 0.0, 0.0, 0.0, 1.0, 0.0, 0.0, 1.0, 0.0)\n",
      "1068 (0.0, 1.0, 0.0, 1.0, 0.0, 0.0, 0.0, 0.0, 1.0, 0.0, 0.0, 1.0, 0.0)\n",
      "1069 (0.0, 1.0, 0.0, 1.0, 0.0, 0.0, 0.0, -0.0, 0.3150752406575124, 0.0, -0.0, 0.3150752406575124, 0.0)\n",
      "1070 (0.0, 1.0, 0.0, 1.0, 0.0, 0.0, 0.0, 0.0, 1.0, 0.0, 0.0, 1.0, 0.0)\n",
      "1071 (0.0, 1.0, 0.0, 1.0, 0.0, 0.0, 0.0, 0.0, 1.0, 0.0, 0.0, 1.0, 0.0)\n",
      "1072 (0.0, 1.0, 0.0, 1.0, 0.0, 0.0, 0.0, -0.0, 0.3150752406575124, 0.0, -0.0, 0.3150752406575124, 0.0)\n",
      "1073 (0.0, 1.0, 0.0, 1.0, 0.0, 0.0, 0.0, 0.0, 1.0, 0.0, 0.0, 1.0, 0.0)\n",
      "1074 (0.0, 1.0, 0.0, 1.0, 0.0, 0.0, 0.0, 0.0, 1.0, 0.0, 0.0, 1.0, 0.0)\n",
      "1075 (0.0, 1.0, 0.0, 1.0, 0.0, 0.0, 0.0, -0.0, 0.3150752406575124, 0.0, -0.0, 0.3150752406575124, 0.0)\n",
      "1076 (0.0, 1.0, 0.0, 1.0, 0.0, 0.0, 0.0, 0.0, 1.0, 0.0, 0.0, 1.0, 0.0)\n",
      "1077 (0.0, 1.0, 0.0, 1.0, 0.0, 0.0, 0.0, 0.0, 1.0, 0.0, 0.0, 1.0, 0.0)\n",
      "1078 (0.0, 1.0, 0.0, 1.0, 0.0, 0.0, 0.0, -0.0, 0.3150752406575124, 0.0, -0.0, 0.3150752406575124, 0.0)\n",
      "1079 (0.0, 1.0, 0.0, 1.0, 0.0, 0.0, 0.0, 0.0, 1.0, 0.0, 0.0, 1.0, 0.0)\n",
      "1080 (0.0, 1.0, 0.0, 1.0, 0.0, 0.0, 0.0, 0.0, 1.0, 0.0, 0.0, 1.0, 0.0)\n",
      "1081 (0.0, 1.0, 0.0, 1.0, 0.0, 0.0, 0.0, -0.0, 0.3150752406575124, 0.0, -0.0, 0.3150752406575124, 0.0)\n",
      "1082 (0.0, 1.0, 0.0, 1.0, 0.0, 0.0, 0.0, 0.0, 1.0, 0.0, 0.0, 1.0, 0.0)\n",
      "1083 (0.0, 1.0, 0.0, 1.0, 0.0, 0.0, 0.0, 0.0, 1.0, 0.0, 0.0, 1.0, 0.0)\n",
      "1084 (0.0, 1.0, 0.0, 1.0, 0.0, 0.0, 0.0, -0.0, 0.3150752406575124, 0.0, -0.0, 0.3150752406575124, 0.0)\n",
      "1085 (0.0, 1.0, 0.0, 1.0, 0.0, 0.0, 0.0, 0.0, 1.0, 0.0, 0.0, 1.0, 0.0)\n",
      "1086 (0.0, 1.0, 0.0, 1.0, 0.0, 0.0, 0.0, 0.0, 1.0, 0.0, 0.0, 1.0, 0.0)\n",
      "1087 (0.0, 1.0, 0.0, 1.0, 0.0, 0.0, 0.0, -0.0, 0.3150752406575124, 0.0, -0.0, 0.3150752406575124, 0.0)\n",
      "1088 (0.0, 1.0, 0.0, 1.0, 0.0, 0.0, 0.0, 0.0, 1.0, 0.0, 0.0, 1.0, 0.0)\n",
      "1089 (0.0, 1.0, 0.0, 1.0, 0.0, 0.0, 0.0, 0.0, 1.0, 0.0, 0.0, 1.0, 0.0)\n",
      "1090 (0.0, 1.0, 0.0, 1.0, 0.0, 0.0, 0.0, -0.0, 0.3150752406575124, 0.0, -0.0, 0.3150752406575124, 0.0)\n",
      "1091 (0.0, 1.0, 0.0, 1.0, 0.0, 0.0, 0.0, 0.0, 1.0, 0.0, 0.0, 1.0, 0.0)\n",
      "1092 (0.0, 1.0, 0.0, 1.0, 0.0, 0.0, 0.0, 0.0, 1.0, 0.0, 0.0, 1.0, 0.0)\n",
      "1093 (0.0, 1.0, 0.0, 1.0, 0.0, 0.0, 0.0, -0.0, 0.3150752406575124, 0.0, -0.0, 0.3150752406575124, 0.0)\n",
      "1094 (0.0, 1.0, 0.0, 1.0, 0.0, 0.0, 0.0, 0.0, 1.0, 0.0, 0.0, 1.0, 0.0)\n",
      "1095 (0.0, 1.0, 0.0, 1.0, 0.0, 0.0, 0.0, 0.0, 1.0, 0.0, 0.0, 1.0, 0.0)\n",
      "1096 (0.0, 1.0, 0.0, 1.0, 0.0, 0.0, 0.0, -0.0, 0.3150752406575124, 0.0, -0.0, 0.3150752406575124, 0.0)\n",
      "1097 (0.0, 1.0, 0.0, 1.0, 0.0, 0.0, 0.0, 0.0, 1.0, 0.0, 0.0, 1.0, 0.0)\n",
      "1098 (0.0, 1.0, 0.0, 1.0, 0.0, 0.0, 0.0, 0.0, 1.0, 0.0, 0.0, 1.0, 0.0)\n",
      "1099 (0.0, 1.0, 0.0, 1.0, 0.0, 0.0, 0.0, -0.0, 0.3150752406575124, 0.0, -0.0, 0.3150752406575124, 0.0)\n",
      "1100 (0.0, 1.0, 0.0, 1.0, 0.0, 0.0, 0.0, 0.0, 1.0, 0.0, 0.0, 1.0, 0.0)\n",
      "1101 (0.0, 1.0, 0.0, 1.0, 0.0, 0.0, 0.0, 0.0, 1.0, 0.0, 0.0, 1.0, 0.0)\n",
      "1102 (0.0, 1.0, 0.0, 1.0, 0.0, 0.0, 0.0, -0.0, 0.3150752406575124, 0.0, -0.0, 0.3150752406575124, 0.0)\n",
      "1103 (0.0, 1.0, 0.0, 1.0, 0.0, 0.0, 0.0, 0.0, 1.0, 0.0, 0.0, 1.0, 0.0)\n",
      "1104 (0.0, 1.0, 0.0, 1.0, 0.0, 0.0, 0.0, 0.0, 1.0, 0.0, 0.0, 1.0, 0.0)\n",
      "1105 (0.0, 1.0, 0.0, 1.0, 0.0, 0.0, 0.0, -0.0, 0.3150752406575124, 0.0, -0.0, 0.3150752406575124, 0.0)\n",
      "1106 (0.0, 1.0, 0.0, 1.0, 0.0, 0.0, 0.0, 0.0, 1.0, 0.0, 0.0, 1.0, 0.0)\n",
      "1107 (0.0, 1.0, 0.0, 1.0, 0.0, 0.0, 0.0, 0.0, 1.0, 0.0, 0.0, 1.0, 0.0)\n",
      "1108 (0.0, 1.0, 0.0, 1.0, 0.0, 0.0, 0.0, -0.0, 0.3150752406575124, 0.0, -0.0, 0.3150752406575124, 0.0)\n",
      "1109 (0.0, 1.0, 0.0, 1.0, 0.0, 0.0, 0.0, 0.0, 1.0, 0.0, 0.0, 1.0, 0.0)\n",
      "1110 (0.0, 1.0, 0.0, 1.0, 0.0, 0.0, 0.0, 0.0, 1.0, 0.0, 0.0, 1.0, 0.0)\n",
      "1111 (0.0, 1.0, 0.0, 1.0, 0.0, 0.0, 0.0, -0.0, 0.3150752406575124, 0.0, -0.0, 0.3150752406575124, 0.0)\n",
      "1112 (0.0, 1.0, 0.0, 1.0, 0.0, 0.0, 0.0, 0.0, 1.0, 0.0, 0.0, 1.0, 0.0)\n",
      "1113 (0.0, 1.0, 0.0, 1.0, 0.0, 0.0, 0.0, 0.0, 1.0, 0.0, 0.0, 1.0, 0.0)\n",
      "1114 (0.0, 1.0, 0.0, 1.0, 0.0, 0.0, 0.0, -0.0, 0.3150752406575124, 0.0, -0.0, 0.3150752406575124, 0.0)\n",
      "1115 (0.0, 1.0, 0.0, 1.0, 0.0, 0.0, 0.0, 0.0, 1.0, 0.0, 0.0, 1.0, 0.0)\n",
      "1116 (0.0, 1.0, 0.0, 1.0, 0.0, 0.0, 0.0, 0.0, 1.0, 0.0, 0.0, 1.0, 0.0)\n",
      "1117 (0.0, 1.0, 0.0, 1.0, 0.0, 0.0, 0.0, -0.0, 0.3150752406575124, 0.0, -0.0, 0.3150752406575124, 0.0)\n",
      "1118 (0.0, 1.0, 0.0, 1.0, 0.0, 0.0, 0.0, 0.0, 1.0, 0.0, 0.0, 1.0, 0.0)\n",
      "1119 (0.0, 1.0, 0.0, 1.0, 0.0, 0.0, 0.0, 0.0, 1.0, 0.0, 0.0, 1.0, 0.0)\n",
      "1120 (0.0, 1.0, 0.0, 1.0, 0.0, 0.0, 0.0, -0.0, 0.3150752406575124, 0.0, -0.0, 0.3150752406575124, 0.0)\n",
      "1121 (0.0, 1.0, 0.0, 1.0, 0.0, 0.0, 0.0, 0.0, 1.0, 0.0, 0.0, 1.0, 0.0)\n",
      "1122 (0.0, 1.0, 0.0, 1.0, 0.0, 0.0, 0.0, 0.0, 1.0, 0.0, 0.0, 1.0, 0.0)\n",
      "1123 (0.0, 1.0, 0.0, 1.0, 0.0, 0.0, 0.0, -0.0, 0.3150752406575124, 0.0, -0.0, 0.3150752406575124, 0.0)\n",
      "1124 (0.0, 1.0, 0.0, 1.0, 0.0, 0.0, 0.0, 0.0, 1.0, 0.0, 0.0, 1.0, 0.0)\n",
      "1125 (0.0, 1.0, 0.0, 1.0, 0.0, 0.0, 0.0, 0.0, 1.0, 0.0, 0.0, 1.0, 0.0)\n",
      "1126 (0.0, 1.0, 0.0, 1.0, 0.0, 0.0, 0.0, -0.0, 0.3150752406575124, 0.0, -0.0, 0.3150752406575124, 0.0)\n",
      "1127 (0.0, 1.0, 0.0, 1.0, 0.0, 0.0, 0.0, 0.0, 1.0, 0.0, 0.0, 1.0, 0.0)\n",
      "1128 (0.0, 1.0, 0.0, 1.0, 0.0, 0.0, 0.0, 0.0, 1.0, 0.0, 0.0, 1.0, 0.0)\n",
      "1129 (0.0, 1.0, 0.0, 1.0, 0.0, 0.0, 0.0, -0.0, 0.3150752406575124, 0.0, -0.0, 0.3150752406575124, 0.0)\n",
      "1130 (0.0, 1.0, 0.0, 1.0, 0.0, 0.0, 0.0, 0.0, 1.0, 0.0, 0.0, 1.0, 0.0)\n",
      "1131 (0.0, 1.0, 0.0, 1.0, 0.0, 0.0, 0.0, 0.0, 1.0, 0.0, 0.0, 1.0, 0.0)\n",
      "1132 (0.0, 1.0, 0.0, 1.0, 0.0, 0.0, 0.0, -0.0, 0.3150752406575124, 0.0, -0.0, 0.3150752406575124, 0.0)\n",
      "1133 (0.0, 1.0, 0.0, 1.0, 0.0, 0.0, 0.0, 0.0, 1.0, 0.0, 0.0, 1.0, 0.0)\n",
      "1134 (0.0, 1.0, 0.0, 1.0, 0.0, 0.0, 0.0, 0.0, 1.0, 0.0, 0.0, 1.0, 0.0)\n",
      "1135 (0.0, 1.0, 0.0, 1.0, 0.0, 0.0, 0.0, -0.0, 0.3150752406575124, 0.0, -0.0, 0.3150752406575124, 0.0)\n",
      "1136 (0.0, 1.0, 0.0, 1.0, 0.0, 0.0, 0.0, 0.0, 1.0, 0.0, 0.0, 1.0, 0.0)\n",
      "1137 (0.0, 1.0, 0.0, 1.0, 0.0, 0.0, 0.0, 0.0, 1.0, 0.0, 0.0, 1.0, 0.0)\n",
      "1138 (0.0, 1.0, 0.0, 1.0, 0.0, 0.0, 0.0, -0.0, 0.3150752406575124, 0.0, -0.0, 0.3150752406575124, 0.0)\n",
      "1139 (0.0, 1.0, 0.0, 1.0, 0.0, 0.0, 0.0, 0.0, 1.0, 0.0, 0.0, 1.0, 0.0)\n",
      "1140 (0.0, 1.0, 0.0, 1.0, 0.0, 0.0, 0.0, 0.0, 1.0, 0.0, 0.0, 1.0, 0.0)\n",
      "1141 (0.0, 1.0, 0.0, 1.0, 0.0, 0.0, 0.0, -0.0, 0.3150752406575124, 0.0, -0.0, 0.3150752406575124, 0.0)\n",
      "1142 (0.0, 1.0, 0.0, 1.0, 0.0, 0.0, 0.0, 0.0, 1.0, 0.0, 0.0, 1.0, 0.0)\n",
      "1143 (0.0, 1.0, 0.0, 1.0, 0.0, 0.0, 0.0, 0.0, 1.0, 0.0, 0.0, 1.0, 0.0)\n",
      "1144 (0.0, 1.0, 0.0, 1.0, 0.0, 0.0, 0.0, -0.0, 0.3150752406575124, 0.0, -0.0, 0.3150752406575124, 0.0)\n",
      "1145 (0.0, 1.0, 0.0, 1.0, 0.0, 0.0, 0.0, 0.0, 1.0, 0.0, 0.0, 1.0, 0.0)\n",
      "1146 (0.0, 1.0, 0.0, 1.0, 0.0, 0.0, 0.0, 0.0, 1.0, 0.0, 0.0, 1.0, 0.0)\n",
      "1147 (0.0, 1.0, 0.0, 1.0, 0.0, 0.0, 0.0, -0.0, 0.3150752406575124, 0.0, -0.0, 0.3150752406575124, 0.0)\n",
      "1148 (0.0, 1.0, 0.0, 1.0, 0.0, 0.0, 0.0, 0.0, 1.0, 0.0, 0.0, 1.0, 0.0)\n",
      "1149 (0.0, 1.0, 0.0, 1.0, 0.0, 0.0, 0.0, 0.0, 1.0, 0.0, 0.0, 1.0, 0.0)\n",
      "1150 (0.0, 1.0, 0.0, 1.0, 0.0, 0.0, 0.0, -0.0, 0.3150752406575124, 0.0, -0.0, 0.3150752406575124, 0.0)\n",
      "1151 (0.0, 1.0, 0.0, 1.0, 0.0, 0.0, 0.0, 0.0, 1.0, 0.0, 0.0, 1.0, 0.0)\n",
      "1152 (0.0, 1.0, 0.0, 1.0, 0.0, 0.0, 0.0, 0.0, 1.0, 0.0, 0.0, 1.0, 0.0)\n",
      "1153 (0.0, 1.0, 0.0, 1.0, 0.0, 0.0, 0.0, -0.0, 0.3150752406575124, 0.0, -0.0, 0.3150752406575124, 0.0)\n",
      "1154 (0.0, 1.0, 0.0, 1.0, 0.0, 0.0, 0.0, 0.0, 1.0, 0.0, 0.0, 1.0, 0.0)\n",
      "1155 (0.0, 1.0, 0.0, 1.0, 0.0, 0.0, 0.0, 0.0, 1.0, 0.0, 0.0, 1.0, 0.0)\n",
      "1156 (0.0, 1.0, 0.0, 1.0, 0.0, 0.0, 0.0, -0.0, 0.3150752406575124, 0.0, -0.0, 0.3150752406575124, 0.0)\n",
      "1157 (0.0, 1.0, 0.0, 1.0, 0.0, 0.0, 0.0, 0.0, 1.0, 0.0, 0.0, 1.0, 0.0)\n",
      "1158 (0.0, 1.0, 0.0, 1.0, 0.0, 0.0, 0.0, 0.0, 1.0, 0.0, 0.0, 1.0, 0.0)\n",
      "1159 (0.0, 1.0, 0.0, 1.0, 0.0, 0.0, 0.0, -0.0, 0.3150752406575124, 0.0, -0.0, 0.3150752406575124, 0.0)\n",
      "1160 (0.0, 1.0, 0.0, 1.0, 0.0, 0.0, 0.0, 0.0, 1.0, 0.0, 0.0, 1.0, 0.0)\n",
      "1161 (0.0, 1.0, 0.0, 1.0, 0.0, 0.0, 0.0, 0.0, 1.0, 0.0, 0.0, 1.0, 0.0)\n",
      "1162 (0.0, 1.0, 0.0, 1.0, 0.0, 0.0, 0.0, -0.0, 0.3150752406575124, 0.0, -0.0, 0.3150752406575124, 0.0)\n",
      "1163 (0.0, 1.0, 0.0, 1.0, 0.0, 0.0, 0.0, 0.0, 1.0, 0.0, 0.0, 1.0, 0.0)\n",
      "1164 (0.0, 1.0, 0.0, 1.0, 0.0, 0.0, 0.0, 0.0, 1.0, 0.0, 0.0, 1.0, 0.0)\n",
      "1165 (0.0, 1.0, 0.0, 1.0, 0.0, 0.0, 0.0, -0.0, 0.3150752406575124, 0.0, -0.0, 0.3150752406575124, 0.0)\n",
      "1166 (0.0, 1.0, 0.0, 1.0, 0.0, 0.0, 0.0, 0.0, 1.0, 0.0, 0.0, 1.0, 0.0)\n",
      "1167 (0.0, 1.0, 0.0, 1.0, 0.0, 0.0, 0.0, 0.0, 1.0, 0.0, 0.0, 1.0, 0.0)\n",
      "1168 (0.0, 1.0, 0.0, 1.0, 0.0, 0.0, 0.0, -0.0, 0.3150752406575124, 0.0, -0.0, 0.3150752406575124, 0.0)\n",
      "1169 (0.0, 1.0, 0.0, 1.0, 0.0, 0.0, 0.0, 0.0, 1.0, 0.0, 0.0, 1.0, 0.0)\n",
      "1170 (0.0, 1.0, 0.0, 1.0, 0.0, 0.0, 0.0, 0.0, 1.0, 0.0, 0.0, 1.0, 0.0)\n",
      "1171 (0.0, 1.0, 0.0, 1.0, 0.0, 0.0, 0.0, -0.0, 0.3150752406575124, 0.0, -0.0, 0.3150752406575124, 0.0)\n",
      "1172 (0.0, 1.0, 0.0, 1.0, 0.0, 0.0, 0.0, 0.0, 1.0, 0.0, 0.0, 1.0, 0.0)\n",
      "1173 (0.0, 1.0, 0.0, 1.0, 0.0, 0.0, 0.0, 0.0, 1.0, 0.0, 0.0, 1.0, 0.0)\n",
      "1174 (0.0, 1.0, 0.0, 1.0, 0.0, 0.0, 0.0, -0.0, 0.3150752406575124, 0.0, -0.0, 0.3150752406575124, 0.0)\n",
      "1175 (0.0, 1.0, 0.0, 1.0, 0.0, 0.0, 0.0, 0.0, 1.0, 0.0, 0.0, 1.0, 0.0)\n",
      "1176 (0.0, 1.0, 0.0, 1.0, 0.0, 0.0, 0.0, 0.0, 1.0, 0.0, 0.0, 1.0, 0.0)\n",
      "1177 (0.0, 1.0, 0.0, 1.0, 0.0, 0.0, 0.0, -0.0, 0.3150752406575124, 0.0, -0.0, 0.3150752406575124, 0.0)\n",
      "1178 (0.0, 1.0, 0.0, 1.0, 0.0, 0.0, 0.0, 0.0, 1.0, 0.0, 0.0, 1.0, 0.0)\n",
      "1179 (0.0, 1.0, 0.0, 1.0, 0.0, 0.0, 0.0, 0.0, 1.0, 0.0, 0.0, 1.0, 0.0)\n",
      "1180 (0.0, 1.0, 0.0, 1.0, 0.0, 0.0, 0.0, -0.0, 0.3150752406575124, 0.0, -0.0, 0.3150752406575124, 0.0)\n",
      "1181 (0.0, 1.0, 0.0, 1.0, 0.0, 0.0, 0.0, 0.0, 1.0, 0.0, 0.0, 1.0, 0.0)\n",
      "1182 (0.0, 1.0, 0.0, 1.0, 0.0, 0.0, 0.0, 0.0, 1.0, 0.0, 0.0, 1.0, 0.0)\n",
      "1183 (0.0, 1.0, 0.0, 1.0, 0.0, 0.0, 0.0, -0.0, 0.3150752406575124, 0.0, -0.0, 0.3150752406575124, 0.0)\n",
      "1184 (0.0, 1.0, 0.0, 1.0, 0.0, 0.0, 0.0, 0.0, 1.0, 0.0, 0.0, 1.0, 0.0)\n",
      "1185 (0.0, 1.0, 0.0, 1.0, 0.0, 0.0, 0.0, 0.0, 1.0, 0.0, 0.0, 1.0, 0.0)\n",
      "1186 (0.0, 1.0, 0.0, 1.0, 0.0, 0.0, 0.0, -0.0, 0.3150752406575124, 0.0, -0.0, 0.3150752406575124, 0.0)\n",
      "1187 (0.0, 1.0, 0.0, 1.0, 0.0, 0.0, 0.0, 0.0, 1.0, 0.0, 0.0, 1.0, 0.0)\n",
      "1188 (0.0, 1.0, 0.0, 1.0, 0.0, 0.0, 0.0, 0.0, 1.0, 0.0, 0.0, 1.0, 0.0)\n",
      "1189 (0.0, 1.0, 0.0, 1.0, 0.0, 0.0, 0.0, -0.0, 0.3150752406575124, 0.0, -0.0, 0.3150752406575124, 0.0)\n",
      "1190 (0.0, 1.0, 0.0, 1.0, 0.0, 0.0, 0.0, 0.0, 1.0, 0.0, 0.0, 1.0, 0.0)\n",
      "1191 (0.0, 1.0, 0.0, 1.0, 0.0, 0.0, 0.0, 0.0, 1.0, 0.0, 0.0, 1.0, 0.0)\n",
      "1192 (0.0, 1.0, 0.0, 1.0, 0.0, 0.0, 0.0, -0.0, 0.3150752406575124, 0.0, -0.0, 0.3150752406575124, 0.0)\n",
      "1193 (0.0, 1.0, 0.0, 1.0, 0.0, 0.0, 0.0, 0.0, 1.0, 0.0, 0.0, 1.0, 0.0)\n",
      "1194 (0.0, 1.0, 0.0, 1.0, 0.0, 0.0, 0.0, 0.0, 1.0, 0.0, 0.0, 1.0, 0.0)\n",
      "1195 (0.0, 1.0, 0.0, 1.0, 0.0, 0.0, 0.0, -0.0, 0.3150752406575124, 0.0, -0.0, 0.3150752406575124, 0.0)\n",
      "1196 (0.0, 1.0, 0.0, 1.0, 0.0, 0.0, 0.0, 0.0, 1.0, 0.0, 0.0, 1.0, 0.0)\n",
      "1197 (0.0, 1.0, 0.0, 1.0, 0.0, 0.0, 0.0, 0.0, 1.0, 0.0, 0.0, 1.0, 0.0)\n",
      "1198 (0.0, 1.0, 0.0, 1.0, 0.0, 0.0, 0.0, -0.0, 0.3150752406575124, 0.0, -0.0, 0.3150752406575124, 0.0)\n",
      "1199 (0.0, 1.0, 0.0, 1.0, 0.0, 0.0, 0.0, 0.0, 1.0, 0.0, 0.0, 1.0, 0.0)\n",
      "1200 (0.0, 1.0, 0.0, 1.0, 0.0, 0.0, 0.0, 0.0, 1.0, 0.0, 0.0, 1.0, 0.0)\n",
      "1201 (0.0, 1.0, 0.0, 1.0, 0.0, 0.0, 0.0, -0.0, 0.3150752406575124, 0.0, -0.0, 0.3150752406575124, 0.0)\n",
      "1202 (0.0, 1.0, 0.0, 1.0, 0.0, 0.0, 0.0, 0.0, 1.0, 0.0, 0.0, 1.0, 0.0)\n",
      "1203 (0.0, 1.0, 0.0, 1.0, 0.0, 0.0, 0.0, 0.0, 1.0, 0.0, 0.0, 1.0, 0.0)\n",
      "1204 (0.0, 1.0, 0.0, 1.0, 0.0, 0.0, 0.0, -0.0, 0.3150752406575124, 0.0, -0.0, 0.3150752406575124, 0.0)\n",
      "1205 (0.0, 1.0, 0.0, 1.0, 0.0, 0.0, 0.0, 0.0, 1.0, 0.0, 0.0, 1.0, 0.0)\n",
      "1206 (0.0, 1.0, 0.0, 1.0, 0.0, 0.0, 0.0, 0.0, 1.0, 0.0, 0.0, 1.0, 0.0)\n",
      "1207 (0.0, 1.0, 0.0, 1.0, 0.0, 0.0, 0.0, -0.0, 0.3150752406575124, 0.0, -0.0, 0.3150752406575124, 0.0)\n",
      "1208 (0.0, 1.0, 0.0, 1.0, 0.0, 0.0, 0.0, 0.0, 1.0, 0.0, 0.0, 1.0, 0.0)\n",
      "1209 (0.0, 1.0, 0.0, 1.0, 0.0, 0.0, 0.0, 0.0, 1.0, 0.0, 0.0, 1.0, 0.0)\n",
      "1210 (0.0, 1.0, 0.0, 1.0, 0.0, 0.0, 0.0, -0.0, 0.3150752406575124, 0.0, -0.0, 0.3150752406575124, 0.0)\n",
      "1211 (0.0, 1.0, 0.0, 1.0, 0.0, 0.0, 0.0, 0.0, 1.0, 0.0, 0.0, 1.0, 0.0)\n",
      "1212 (0.0, 1.0, 0.0, 1.0, 0.0, 0.0, 0.0, 0.0, 1.0, 0.0, 0.0, 1.0, 0.0)\n",
      "1213 (0.0, 1.0, 0.0, 1.0, 0.0, 0.0, 0.0, -0.0, 0.3150752406575124, 0.0, -0.0, 0.3150752406575124, 0.0)\n",
      "1214 (0.0, 1.0, 0.0, 1.0, 0.0, 0.0, 0.0, 0.0, 1.0, 0.0, 0.0, 1.0, 0.0)\n",
      "1215 (0.0, 1.0, 0.0, 1.0, 0.0, 0.0, 0.0, 0.0, 1.0, 0.0, 0.0, 1.0, 0.0)\n",
      "1216 (0.0, 1.0, 0.0, 1.0, 0.0, 0.0, 0.0, -0.0, 0.3150752406575124, 0.0, -0.0, 0.3150752406575124, 0.0)\n",
      "1217 (0.0, 1.0, 0.0, 1.0, 0.0, 0.0, 0.0, 0.0, 1.0, 0.0, 0.0, 1.0, 0.0)\n",
      "1218 (0.0, 1.0, 0.0, 1.0, 0.0, 0.0, 0.0, 0.0, 1.0, 0.0, 0.0, 1.0, 0.0)\n",
      "1219 (0.0, 1.0, 0.0, 1.0, 0.0, 0.0, 0.0, -0.0, 0.3150752406575124, 0.0, -0.0, 0.3150752406575124, 0.0)\n",
      "1220 (0.0, 1.0, 0.0, 1.0, 0.0, 0.0, 0.0, 0.0, 1.0, 0.0, 0.0, 1.0, 0.0)\n",
      "1221 (0.0, 1.0, 0.0, 1.0, 0.0, 0.0, 0.0, 0.0, 1.0, 0.0, 0.0, 1.0, 0.0)\n",
      "1222 (0.0, 1.0, 0.0, 1.0, 0.0, 0.0, 0.0, -0.0, 0.3150752406575124, 0.0, -0.0, 0.3150752406575124, 0.0)\n",
      "1223 (0.0, 1.0, 0.0, 1.0, 0.0, 0.0, 0.0, 0.0, 1.0, 0.0, 0.0, 1.0, 0.0)\n",
      "1224 (0.0, 1.0, 0.0, 1.0, 0.0, 0.0, 0.0, 0.0, 1.0, 0.0, 0.0, 1.0, 0.0)\n",
      "1225 (0.0, 1.0, 0.0, 1.0, 0.0, 0.0, 0.0, -0.0, 0.3150752406575124, 0.0, -0.0, 0.3150752406575124, 0.0)\n",
      "1226 (0.0, 1.0, 0.0, 1.0, 0.0, 0.0, 0.0, 0.0, 1.0, 0.0, 0.0, 1.0, 0.0)\n",
      "1227 (0.0, 1.0, 0.0, 1.0, 0.0, 0.0, 0.0, 0.0, 1.0, 0.0, 0.0, 1.0, 0.0)\n",
      "1228 (0.0, 1.0, 0.0, 1.0, 0.0, 0.0, 0.0, -0.0, 0.3150752406575124, 0.0, -0.0, 0.3150752406575124, 0.0)\n",
      "1229 (0.0, 1.0, 0.0, 1.0, 0.0, 0.0, 0.0, 0.0, 1.0, 0.0, 0.0, 1.0, 0.0)\n",
      "1230 (0.0, 1.0, 0.0, 1.0, 0.0, 0.0, 0.0, 0.0, 1.0, 0.0, 0.0, 1.0, 0.0)\n",
      "1231 (0.0, 1.0, 0.0, 1.0, 0.0, 0.0, 0.0, -0.0, 0.3150752406575124, 0.0, -0.0, 0.3150752406575124, 0.0)\n",
      "1232 (0.0, 1.0, 0.0, 1.0, 0.0, 0.0, 0.0, 0.0, 1.0, 0.0, 0.0, 1.0, 0.0)\n",
      "1233 (0.0, 1.0, 0.0, 1.0, 0.0, 0.0, 0.0, 0.0, 1.0, 0.0, 0.0, 1.0, 0.0)\n",
      "1234 (0.0, 1.0, 0.0, 1.0, 0.0, 0.0, 0.0, -0.0, 0.3150752406575124, 0.0, -0.0, 0.3150752406575124, 0.0)\n",
      "1235 (0.0, 1.0, 0.0, 1.0, 0.0, 0.0, 0.0, 0.0, 1.0, 0.0, 0.0, 1.0, 0.0)\n",
      "1236 (0.0, 1.0, 0.0, 1.0, 0.0, 0.0, 0.0, 0.0, 1.0, 0.0, 0.0, 1.0, 0.0)\n",
      "1237 (0.0, 1.0, 0.0, 1.0, 0.0, 0.0, 0.0, -0.0, 0.3150752406575124, 0.0, -0.0, 0.3150752406575124, 0.0)\n",
      "1238 (0.0, 1.0, 0.0, 1.0, 0.0, 0.0, 0.0, 0.0, 1.0, 0.0, 0.0, 1.0, 0.0)\n",
      "1239 (0.0, 1.0, 0.0, 1.0, 0.0, 0.0, 0.0, 0.0, 1.0, 0.0, 0.0, 1.0, 0.0)\n",
      "1240 (0.0, 1.0, 0.0, 1.0, 0.0, 0.0, 0.0, -0.0, 0.3150752406575124, 0.0, -0.0, 0.3150752406575124, 0.0)\n",
      "1241 (0.0, 1.0, 0.0, 1.0, 0.0, 0.0, 0.0, 0.0, 1.0, 0.0, 0.0, 1.0, 0.0)\n",
      "1242 (0.0, 1.0, 0.0, 1.0, 0.0, 0.0, 0.0, 0.0, 1.0, 0.0, 0.0, 1.0, 0.0)\n",
      "1243 (0.0, 1.0, 0.0, 1.0, 0.0, 0.0, 0.0, -0.0, 0.3150752406575124, 0.0, -0.0, 0.3150752406575124, 0.0)\n",
      "1244 (0.0, 1.0, 0.0, 1.0, 0.0, 0.0, 0.0, 0.0, 1.0, 0.0, 0.0, 1.0, 0.0)\n",
      "1245 (0.0, 1.0, 0.0, 1.0, 0.0, 0.0, 0.0, 0.0, 1.0, 0.0, 0.0, 1.0, 0.0)\n",
      "1246 (0.0, 1.0, 0.0, 1.0, 0.0, 0.0, 0.0, -0.0, 0.3150752406575124, 0.0, -0.0, 0.3150752406575124, 0.0)\n",
      "1247 (0.0, 1.0, 0.0, 1.0, 0.0, 0.0, 0.0, 0.0, 1.0, 0.0, 0.0, 1.0, 0.0)\n",
      "1248 (0.0, 1.0, 0.0, 1.0, 0.0, 0.0, 0.0, 0.0, 1.0, 0.0, 0.0, 1.0, 0.0)\n",
      "1249 (0.0, 1.0, 0.0, 1.0, 0.0, 0.0, 0.0, -0.0, 0.3150752406575124, 0.0, -0.0, 0.3150752406575124, 0.0)\n",
      "1250 (0.0, 1.0, 0.0, 1.0, 0.0, 0.0, 0.0, 0.0, 1.0, 0.0, 0.0, 1.0, 0.0)\n",
      "1251 (0.0, 1.0, 0.0, 1.0, 0.0, 0.0, 0.0, 0.0, 1.0, 0.0, 0.0, 1.0, 0.0)\n",
      "1252 (0.0, 1.0, 0.0, 1.0, 0.0, 0.0, 0.0, -0.0, 0.3150752406575124, 0.0, -0.0, 0.3150752406575124, 0.0)\n",
      "1253 (0.0, 1.0, 0.0, 1.0, 0.0, 0.0, 0.0, 0.0, 1.0, 0.0, 0.0, 1.0, 0.0)\n",
      "1254 (0.0, 1.0, 0.0, 1.0, 0.0, 0.0, 0.0, 0.0, 1.0, 0.0, 0.0, 1.0, 0.0)\n",
      "1255 (0.0, 1.0, 0.0, 1.0, 0.0, 0.0, 0.0, -0.0, 0.3150752406575124, 0.0, -0.0, 0.3150752406575124, 0.0)\n",
      "1256 (0.0, 1.0, 0.0, 1.0, 0.0, 0.0, 0.0, 0.0, 1.0, 0.0, 0.0, 1.0, 0.0)\n",
      "1257 (0.0, 1.0, 0.0, 1.0, 0.0, 0.0, 0.0, 0.0, 1.0, 0.0, 0.0, 1.0, 0.0)\n",
      "1258 (0.0, 1.0, 0.0, 1.0, 0.0, 0.0, 0.0, -0.0, 0.3150752406575124, 0.0, -0.0, 0.3150752406575124, 0.0)\n",
      "1259 (0.0, 1.0, 0.0, 1.0, 0.0, 0.0, 0.0, 0.0, 1.0, 0.0, 0.0, 1.0, 0.0)\n",
      "1260 (0.0, 1.0, 0.0, 1.0, 0.0, 0.0, 0.0, 0.0, 1.0, 0.0, 0.0, 1.0, 0.0)\n",
      "1261 (0.0, 1.0, 0.0, 1.0, 0.0, 0.0, 0.0, -0.0, 0.3150752406575124, 0.0, -0.0, 0.3150752406575124, 0.0)\n",
      "1262 (0.0, 1.0, 0.0, 1.0, 0.0, 0.0, 0.0, 0.0, 1.0, 0.0, 0.0, 1.0, 0.0)\n",
      "1263 (0.0, 1.0, 0.0, 1.0, 0.0, 0.0, 0.0, 0.0, 1.0, 0.0, 0.0, 1.0, 0.0)\n",
      "1264 (0.0, 1.0, 0.0, 1.0, 0.0, 0.0, 0.0, -0.0, 0.3150752406575124, 0.0, -0.0, 0.3150752406575124, 0.0)\n",
      "1265 (0.0, 1.0, 0.0, 1.0, 0.0, 0.0, 0.0, 0.0, 1.0, 0.0, 0.0, 1.0, 0.0)\n",
      "1266 (0.0, 1.0, 0.0, 1.0, 0.0, 0.0, 0.0, 0.0, 1.0, 0.0, 0.0, 1.0, 0.0)\n",
      "1267 (0.0, 1.0, 0.0, 1.0, 0.0, 0.0, 0.0, -0.0, 0.3150752406575124, 0.0, -0.0, 0.3150752406575124, 0.0)\n",
      "1268 (0.0, 1.0, 0.0, 1.0, 0.0, 0.0, 0.0, 0.0, 1.0, 0.0, 0.0, 1.0, 0.0)\n",
      "1269 (0.0, 1.0, 0.0, 1.0, 0.0, 0.0, 0.0, 0.0, 1.0, 0.0, 0.0, 1.0, 0.0)\n",
      "1270 (0.0, 1.0, 0.0, 1.0, 0.0, 0.0, 0.0, -0.0, 0.3150752406575124, 0.0, -0.0, 0.3150752406575124, 0.0)\n",
      "1271 (0.0, 1.0, 0.0, 1.0, 0.0, 0.0, 0.0, 0.0, 1.0, 0.0, 0.0, 1.0, 0.0)\n",
      "1272 (0.0, 1.0, 0.0, 1.0, 0.0, 0.0, 0.0, 0.0, 1.0, 0.0, 0.0, 1.0, 0.0)\n",
      "1273 (0.0, 1.0, 0.0, 1.0, 0.0, 0.0, 0.0, -0.0, 0.3150752406575124, 0.0, -0.0, 0.3150752406575124, 0.0)\n",
      "1274 (0.0, 1.0, 0.0, 1.0, 0.0, 0.0, 0.0, 0.0, 1.0, 0.0, 0.0, 1.0, 0.0)\n",
      "1275 (0.0, 1.0, 0.0, 1.0, 0.0, 0.0, 0.0, 0.0, 1.0, 0.0, 0.0, 1.0, 0.0)\n",
      "1276 (0.0, 1.0, 0.0, 1.0, 0.0, 0.0, 0.0, -0.0, 0.3150752406575124, 0.0, -0.0, 0.3150752406575124, 0.0)\n",
      "1277 (0.0, 1.0, 0.0, 1.0, 0.0, 0.0, 0.0, 0.0, 1.0, 0.0, 0.0, 1.0, 0.0)\n",
      "1278 (0.0, 1.0, 0.0, 1.0, 0.0, 0.0, 0.0, 0.0, 1.0, 0.0, 0.0, 1.0, 0.0)\n",
      "1279 (0.0, 1.0, 0.0, 1.0, 0.0, 0.0, 0.0, -0.0, 0.3150752406575124, 0.0, -0.0, 0.3150752406575124, 0.0)\n",
      "1280 (0.0, 1.0, 0.0, 1.0, 0.0, 0.0, 0.0, 0.0, 1.0, 0.0, 0.0, 1.0, 0.0)\n",
      "1281 (0.0, 1.0, 0.0, 1.0, 0.0, 0.0, 0.0, 0.0, 1.0, 0.0, 0.0, 1.0, 0.0)\n",
      "1282 (0.0, 1.0, 0.0, 1.0, 0.0, 0.0, 0.0, -0.0, 0.3150752406575124, 0.0, -0.0, 0.3150752406575124, 0.0)\n",
      "1283 (0.0, 1.0, 0.0, 1.0, 0.0, 0.0, 0.0, 0.0, 1.0, 0.0, 0.0, 1.0, 0.0)\n",
      "1284 (0.0, 1.0, 0.0, 1.0, 0.0, 0.0, 0.0, 0.0, 1.0, 0.0, 0.0, 1.0, 0.0)\n",
      "1285 (0.0, 1.0, 0.0, 1.0, 0.0, 0.0, 0.0, -0.0, 0.3150752406575124, 0.0, -0.0, 0.3150752406575124, 0.0)\n",
      "1286 (0.0, 1.0, 0.0, 1.0, 0.0, 0.0, 0.0, 0.0, 1.0, 0.0, 0.0, 1.0, 0.0)\n",
      "1287 (0.0, 1.0, 0.0, 1.0, 0.0, 0.0, 0.0, 0.0, 1.0, 0.0, 0.0, 1.0, 0.0)\n",
      "1288 (0.0, 1.0, 0.0, 1.0, 0.0, 0.0, 0.0, -0.0, 0.3150752406575124, 0.0, -0.0, 0.3150752406575124, 0.0)\n",
      "1289 (0.0, 1.0, 0.0, 1.0, 0.0, 0.0, 0.0, 0.0, 1.0, 0.0, 0.0, 1.0, 0.0)\n",
      "1290 (0.0, 1.0, 0.0, 1.0, 0.0, 0.0, 0.0, 0.0, 1.0, 0.0, 0.0, 1.0, 0.0)\n",
      "1291 (0.0, 1.0, 0.0, 1.0, 0.0, 0.0, 0.0, -0.0, 0.3150752406575124, 0.0, -0.0, 0.3150752406575124, 0.0)\n",
      "1292 (0.0, 1.0, 0.0, 1.0, 0.0, 0.0, 0.0, 0.0, 1.0, 0.0, 0.0, 1.0, 0.0)\n",
      "1293 (0.0, 1.0, 0.0, 1.0, 0.0, 0.0, 0.0, 0.0, 1.0, 0.0, 0.0, 1.0, 0.0)\n",
      "1294 (0.0, 1.0, 0.0, 1.0, 0.0, 0.0, 0.0, -0.0, 0.3150752406575124, 0.0, -0.0, 0.3150752406575124, 0.0)\n",
      "1295 (0.0, 1.0, 0.0, 1.0, 0.0, 0.0, 0.0, 0.0, 1.0, 0.0, 0.0, 1.0, 0.0)\n",
      "1296 (0.0, 1.0, 0.0, 1.0, 0.0, 0.0, 0.0, 0.0, 1.0, 0.0, 0.0, 1.0, 0.0)\n",
      "1297 (0.0, 1.0, 0.0, 1.0, 0.0, 0.0, 0.0, -0.0, 0.3150752406575124, 0.0, -0.0, 0.3150752406575124, 0.0)\n",
      "1298 (0.0, 1.0, 0.0, 1.0, 0.0, 0.0, 0.0, 0.0, 1.0, 0.0, 0.0, 1.0, 0.0)\n",
      "1299 (0.0, 1.0, 0.0, 1.0, 0.0, 0.0, 0.0, 0.0, 1.0, 0.0, 0.0, 1.0, 0.0)\n",
      "1300 (0.0, 1.0, 0.0, 1.0, 0.0, 0.0, 0.0, -0.0, 0.3150752406575124, 0.0, -0.0, 0.3150752406575124, 0.0)\n",
      "1301 (0.0, 1.0, 0.0, 1.0, 0.0, 0.0, 0.0, 0.0, 1.0, 0.0, 0.0, 1.0, 0.0)\n",
      "1302 (0.0, 1.0, 0.0, 1.0, 0.0, 0.0, 0.0, 0.0, 1.0, 0.0, 0.0, 1.0, 0.0)\n",
      "1303 (0.0, 1.0, 0.0, 1.0, 0.0, 0.0, 0.0, -0.0, 0.3150752406575124, 0.0, -0.0, 0.3150752406575124, 0.0)\n",
      "1304 (0.0, 1.0, 0.0, 1.0, 0.0, 0.0, 0.0, 0.0, 1.0, 0.0, 0.0, 1.0, 0.0)\n",
      "1305 (0.0, 1.0, 0.0, 1.0, 0.0, 0.0, 0.0, 0.0, 1.0, 0.0, 0.0, 1.0, 0.0)\n",
      "1306 (0.0, 1.0, 0.0, 1.0, 0.0, 0.0, 0.0, -0.0, 0.3150752406575124, 0.0, -0.0, 0.3150752406575124, 0.0)\n",
      "1307 (0.0, 1.0, 0.0, 1.0, 0.0, 0.0, 0.0, 0.0, 1.0, 0.0, 0.0, 1.0, 0.0)\n",
      "1308 (0.0, 1.0, 0.0, 1.0, 0.0, 0.0, 0.0, 0.0, 1.0, 0.0, 0.0, 1.0, 0.0)\n",
      "1309 (0.0, 1.0, 0.0, 1.0, 0.0, 0.0, 0.0, -0.0, 0.3150752406575124, 0.0, -0.0, 0.3150752406575124, 0.0)\n",
      "1310 (0.0, 1.0, 0.0, 1.0, 0.0, 0.0, 0.0, 0.0, 1.0, 0.0, 0.0, 1.0, 0.0)\n",
      "1311 (0.0, 1.0, 0.0, 1.0, 0.0, 0.0, 0.0, 0.0, 1.0, 0.0, 0.0, 1.0, 0.0)\n",
      "1312 (0.0, 1.0, 0.0, 1.0, 0.0, 0.0, 0.0, -0.0, 0.3150752406575124, 0.0, -0.0, 0.3150752406575124, 0.0)\n",
      "1313 (0.0, 1.0, 0.0, 1.0, 0.0, 0.0, 0.0, 0.0, 1.0, 0.0, 0.0, 1.0, 0.0)\n",
      "1314 (0.0, 1.0, 0.0, 1.0, 0.0, 0.0, 0.0, 0.0, 1.0, 0.0, 0.0, 1.0, 0.0)\n",
      "1315 (0.0, 1.0, 0.0, 1.0, 0.0, 0.0, 0.0, -0.0, 0.3150752406575124, 0.0, -0.0, 0.3150752406575124, 0.0)\n",
      "1316 (0.0, 1.0, 0.0, 1.0, 0.0, 0.0, 0.0, 0.0, 1.0, 0.0, 0.0, 1.0, 0.0)\n",
      "1317 (0.0, 1.0, 0.0, 1.0, 0.0, 0.0, 0.0, 0.0, 1.0, 0.0, 0.0, 1.0, 0.0)\n",
      "1318 (0.0, 1.0, 0.0, 1.0, 0.0, 0.0, 0.0, -0.0, 0.3150752406575124, 0.0, -0.0, 0.3150752406575124, 0.0)\n",
      "1319 (0.0, 1.0, 0.0, 1.0, 0.0, 0.0, 0.0, 0.0, 1.0, 0.0, 0.0, 1.0, 0.0)\n",
      "1320 (0.0, 1.0, 0.0, 1.0, 0.0, 0.0, 0.0, 0.0, 1.0, 0.0, 0.0, 1.0, 0.0)\n",
      "1321 (0.0, 1.0, 0.0, 1.0, 0.0, 0.0, 0.0, -0.0, 0.3150752406575124, 0.0, -0.0, 0.3150752406575124, 0.0)\n",
      "1322 (0.0, 1.0, 0.0, 1.0, 0.0, 0.0, 0.0, 0.0, 1.0, 0.0, 0.0, 1.0, 0.0)\n",
      "1323 (0.0, 1.0, 0.0, 1.0, 0.0, 0.0, 0.0, 0.0, 1.0, 0.0, 0.0, 1.0, 0.0)\n",
      "1324 (0.0, 1.0, 0.0, 1.0, 0.0, 0.0, 0.0, -0.0, 0.3150752406575124, 0.0, -0.0, 0.3150752406575124, 0.0)\n",
      "1325 (0.0, 1.0, 0.0, 1.0, 0.0, 0.0, 0.0, 0.0, 1.0, 0.0, 0.0, 1.0, 0.0)\n",
      "1326 (0.0, 1.0, 0.0, 1.0, 0.0, 0.0, 0.0, 0.0, 1.0, 0.0, 0.0, 1.0, 0.0)\n",
      "1327 (0.0, 1.0, 0.0, 1.0, 0.0, 0.0, 0.0, -0.0, 0.3150752406575124, 0.0, -0.0, 0.3150752406575124, 0.0)\n",
      "1328 (0.0, 1.0, 0.0, 1.0, 0.0, 0.0, 0.0, 0.0, 1.0, 0.0, 0.0, 1.0, 0.0)\n",
      "1329 (0.0, 1.0, 0.0, 1.0, 0.0, 0.0, 0.0, 0.0, 1.0, 0.0, 0.0, 1.0, 0.0)\n",
      "1330 (0.0, 1.0, 0.0, 1.0, 0.0, 0.0, 0.0, -0.0, 0.3150752406575124, 0.0, -0.0, 0.3150752406575124, 0.0)\n",
      "1331 (0.0, 1.0, 0.0, 1.0, 0.0, 0.0, 0.0, 0.0, 1.0, 0.0, 0.0, 1.0, 0.0)\n",
      "1332 (0.0, 1.0, 0.0, 1.0, 0.0, 0.0, 0.0, 0.0, 1.0, 0.0, 0.0, 1.0, 0.0)\n",
      "1333 (0.0, 1.0, 0.0, 1.0, 0.0, 0.0, 0.0, -0.0, 0.3150752406575124, 0.0, -0.0, 0.3150752406575124, 0.0)\n",
      "1334 (0.0, 1.0, 0.0, 1.0, 0.0, 0.0, 0.0, 0.0, 1.0, 0.0, 0.0, 1.0, 0.0)\n",
      "1335 (0.0, 1.0, 0.0, 1.0, 0.0, 0.0, 0.0, 0.0, 1.0, 0.0, 0.0, 1.0, 0.0)\n",
      "1336 (0.0, 1.0, 0.0, 1.0, 0.0, 0.0, 0.0, -0.0, 0.3150752406575124, 0.0, -0.0, 0.3150752406575124, 0.0)\n",
      "1337 (0.0, 1.0, 0.0, 1.0, 0.0, 0.0, 0.0, 0.0, 1.0, 0.0, 0.0, 1.0, 0.0)\n",
      "1338 (0.0, 1.0, 0.0, 1.0, 0.0, 0.0, 0.0, 0.0, 1.0, 0.0, 0.0, 1.0, 0.0)\n",
      "1339 (0.0, 1.0, 0.0, 1.0, 0.0, 0.0, 0.0, -0.0, 0.3150752406575124, 0.0, -0.0, 0.3150752406575124, 0.0)\n",
      "1340 (0.0, 1.0, 0.0, 1.0, 0.0, 0.0, 0.0, 0.0, 1.0, 0.0, 0.0, 1.0, 0.0)\n",
      "1341 (0.0, 1.0, 0.0, 1.0, 0.0, 0.0, 0.0, 0.0, 1.0, 0.0, 0.0, 1.0, 0.0)\n",
      "1342 (0.0, 1.0, 0.0, 1.0, 0.0, 0.0, 0.0, -0.0, 0.3150752406575124, 0.0, -0.0, 0.3150752406575124, 0.0)\n",
      "1343 (0.0, 1.0, 0.0, 1.0, 0.0, 0.0, 0.0, 0.0, 1.0, 0.0, 0.0, 1.0, 0.0)\n",
      "1344 (0.0, 1.0, 0.0, 1.0, 0.0, 0.0, 0.0, 0.0, 1.0, 0.0, 0.0, 1.0, 0.0)\n",
      "1345 (0.0, 1.0, 0.0, 1.0, 0.0, 0.0, 0.0, -0.0, 0.3150752406575124, 0.0, -0.0, 0.3150752406575124, 0.0)\n",
      "1346 (0.0, 1.0, 0.0, 1.0, 0.0, 0.0, 0.0, 0.0, 1.0, 0.0, 0.0, 1.0, 0.0)\n",
      "1347 (0.0, 1.0, 0.0, 1.0, 0.0, 0.0, 0.0, 0.0, 1.0, 0.0, 0.0, 1.0, 0.0)\n",
      "1348 (0.0, 1.0, 0.0, 1.0, 0.0, 0.0, 0.0, -0.0, 0.3150752406575124, 0.0, -0.0, 0.3150752406575124, 0.0)\n",
      "1349 (0.0, 1.0, 0.0, 1.0, 0.0, 0.0, 0.0, 0.0, 1.0, 0.0, 0.0, 1.0, 0.0)\n",
      "1350 (0.0, 1.0, 0.0, 1.0, 0.0, 0.0, 0.0, 0.0, 1.0, 0.0, 0.0, 1.0, 0.0)\n",
      "1351 (0.0, 1.0, 0.0, 1.0, 0.0, 0.0, 0.0, -0.0, 0.3150752406575124, 0.0, -0.0, 0.3150752406575124, 0.0)\n",
      "1352 (0.0, 1.0, 0.0, 1.0, 0.0, 0.0, 0.0, 0.0, 1.0, 0.0, 0.0, 1.0, 0.0)\n",
      "1353 (0.0, 1.0, 0.0, 1.0, 0.0, 0.0, 0.0, 0.0, 1.0, 0.0, 0.0, 1.0, 0.0)\n",
      "1354 (0.0, 1.0, 0.0, 1.0, 0.0, 0.0, 0.0, -0.0, 0.3150752406575124, 0.0, -0.0, 0.3150752406575124, 0.0)\n",
      "1355 (0.0, 1.0, 0.0, 1.0, 0.0, 0.0, 0.0, 0.0, 1.0, 0.0, 0.0, 1.0, 0.0)\n",
      "1356 (0.0, 1.0, 0.0, 1.0, 0.0, 0.0, 0.0, 0.0, 1.0, 0.0, 0.0, 1.0, 0.0)\n",
      "1357 (0.0, 1.0, 0.0, 1.0, 0.0, 0.0, 0.0, -0.0, 0.3150752406575124, 0.0, -0.0, 0.3150752406575124, 0.0)\n",
      "1358 (0.0, 1.0, 0.0, 1.0, 0.0, 0.0, 0.0, 0.0, 1.0, 0.0, 0.0, 1.0, 0.0)\n",
      "1359 (0.0, 1.0, 0.0, 1.0, 0.0, 0.0, 0.0, 0.0, 1.0, 0.0, 0.0, 1.0, 0.0)\n",
      "1360 (0.0, 1.0, 0.0, 1.0, 0.0, 0.0, 0.0, -0.0, 0.3150752406575124, 0.0, -0.0, 0.3150752406575124, 0.0)\n",
      "1361 (0.0, 1.0, 0.0, 1.0, 0.0, 0.0, 0.0, 0.0, 1.0, 0.0, 0.0, 1.0, 0.0)\n",
      "1362 (0.0, 1.0, 0.0, 1.0, 0.0, 0.0, 0.0, 0.0, 1.0, 0.0, 0.0, 1.0, 0.0)\n",
      "1363 (0.0, 1.0, 0.0, 1.0, 0.0, 0.0, 0.0, -0.0, 0.3150752406575124, 0.0, -0.0, 0.3150752406575124, 0.0)\n",
      "1364 (0.0, 1.0, 0.0, 1.0, 0.0, 0.0, 0.0, 0.0, 1.0, 0.0, 0.0, 1.0, 0.0)\n",
      "1365 (0.0, 1.0, 0.0, 1.0, 0.0, 0.0, 0.0, 0.0, 1.0, 0.0, 0.0, 1.0, 0.0)\n",
      "1366 (0.0, 1.0, 0.0, 1.0, 0.0, 0.0, 0.0, -0.0, 0.3150752406575124, 0.0, -0.0, 0.3150752406575124, 0.0)\n",
      "1367 (0.0, 1.0, 0.0, 1.0, 0.0, 0.0, 0.0, 0.0, 1.0, 0.0, 0.0, 1.0, 0.0)\n",
      "1368 (0.0, 1.0, 0.0, 1.0, 0.0, 0.0, 0.0, 0.0, 1.0, 0.0, 0.0, 1.0, 0.0)\n",
      "1369 (0.0, 1.0, 0.0, 1.0, 0.0, 0.0, 0.0, -0.0, 0.3150752406575124, 0.0, -0.0, 0.3150752406575124, 0.0)\n",
      "1370 (0.0, 1.0, 0.0, 1.0, 0.0, 0.0, 0.0, 0.0, 1.0, 0.0, 0.0, 1.0, 0.0)\n",
      "1371 (0.0, 1.0, 0.0, 1.0, 0.0, 0.0, 0.0, 0.0, 1.0, 0.0, 0.0, 1.0, 0.0)\n",
      "1372 (0.0, 1.0, 0.0, 1.0, 0.0, 0.0, 0.0, -0.0, 0.3150752406575124, 0.0, -0.0, 0.3150752406575124, 0.0)\n",
      "1373 (0.0, 1.0, 0.0, 1.0, 0.0, 0.0, 0.0, 0.0, 1.0, 0.0, 0.0, 1.0, 0.0)\n",
      "1374 (0.0, 1.0, 0.0, 1.0, 0.0, 0.0, 0.0, 0.0, 1.0, 0.0, 0.0, 1.0, 0.0)\n",
      "1375 (0.0, 1.0, 0.0, 1.0, 0.0, 0.0, 0.0, -0.0, 0.3150752406575124, 0.0, -0.0, 0.3150752406575124, 0.0)\n",
      "1376 (0.0, 1.0, 0.0, 1.0, 0.0, 0.0, 0.0, 0.0, 1.0, 0.0, 0.0, 1.0, 0.0)\n",
      "1377 (0.0, 1.0, 0.0, 1.0, 0.0, 0.0, 0.0, 0.0, 1.0, 0.0, 0.0, 1.0, 0.0)\n",
      "1378 (0.0, 1.0, 0.0, 1.0, 0.0, 0.0, 0.0, -0.0, 0.3150752406575124, 0.0, -0.0, 0.3150752406575124, 0.0)\n",
      "1379 (0.0, 1.0, 0.0, 1.0, 0.0, 0.0, 0.0, 0.0, 1.0, 0.0, 0.0, 1.0, 0.0)\n",
      "1380 (0.0, 1.0, 0.0, 1.0, 0.0, 0.0, 0.0, 0.0, 1.0, 0.0, 0.0, 1.0, 0.0)\n",
      "1381 (0.0, 1.0, 0.0, 1.0, 0.0, 0.0, 0.0, -0.0, 0.3150752406575124, 0.0, -0.0, 0.3150752406575124, 0.0)\n",
      "1382 (0.0, 1.0, 0.0, 1.0, 0.0, 0.0, 0.0, 0.0, 1.0, 0.0, 0.0, 1.0, 0.0)\n",
      "1383 (0.0, 1.0, 0.0, 1.0, 0.0, 0.0, 0.0, 0.0, 1.0, 0.0, 0.0, 1.0, 0.0)\n",
      "1384 (0.0, 1.0, 0.0, 1.0, 0.0, 0.0, 0.0, -0.0, 0.3150752406575124, 0.0, -0.0, 0.3150752406575124, 0.0)\n",
      "1385 (0.0, 1.0, 0.0, 1.0, 0.0, 0.0, 0.0, 0.0, 1.0, 0.0, 0.0, 1.0, 0.0)\n",
      "1386 (0.0, 1.0, 0.0, 1.0, 0.0, 0.0, 0.0, 0.0, 1.0, 0.0, 0.0, 1.0, 0.0)\n",
      "1387 (0.0, 1.0, 0.0, 1.0, 0.0, 0.0, 0.0, -0.0, 0.3150752406575124, 0.0, -0.0, 0.3150752406575124, 0.0)\n",
      "1388 (0.0, 1.0, 0.0, 1.0, 0.0, 0.0, 0.0, 0.0, 1.0, 0.0, 0.0, 1.0, 0.0)\n",
      "1389 (0.0, 1.0, 0.0, 1.0, 0.0, 0.0, 0.0, 0.0, 1.0, 0.0, 0.0, 1.0, 0.0)\n",
      "1390 (0.0, 1.0, 0.0, 1.0, 0.0, 0.0, 0.0, -0.0, 0.3150752406575124, 0.0, -0.0, 0.3150752406575124, 0.0)\n",
      "1391 (0.0, 1.0, 0.0, 1.0, 0.0, 0.0, 0.0, 0.0, 1.0, 0.0, 0.0, 1.0, 0.0)\n",
      "1392 (0.0, 1.0, 0.0, 1.0, 0.0, 0.0, 0.0, 0.0, 1.0, 0.0, 0.0, 1.0, 0.0)\n",
      "1393 (0.0, 1.0, 0.0, 1.0, 0.0, 0.0, 0.0, -0.0, 0.3150752406575124, 0.0, -0.0, 0.3150752406575124, 0.0)\n",
      "1394 (0.0, 1.0, 0.0, 1.0, 0.0, 0.0, 0.0, 0.0, 1.0, 0.0, 0.0, 1.0, 0.0)\n",
      "1395 (0.0, 1.0, 0.0, 1.0, 0.0, 0.0, 0.0, 0.0, 1.0, 0.0, 0.0, 1.0, 0.0)\n",
      "1396 (0.0, 1.0, 0.0, 1.0, 0.0, 0.0, 0.0, -0.0, 0.3150752406575124, 0.0, -0.0, 0.3150752406575124, 0.0)\n",
      "1397 (0.0, 1.0, 0.0, 1.0, 0.0, 0.0, 0.0, 0.0, 1.0, 0.0, 0.0, 1.0, 0.0)\n",
      "1398 (0.0, 1.0, 0.0, 1.0, 0.0, 0.0, 0.0, 0.0, 1.0, 0.0, 0.0, 1.0, 0.0)\n",
      "1399 (0.0, 1.0, 0.0, 1.0, 0.0, 0.0, 0.0, -0.0, 0.3150752406575124, 0.0, -0.0, 0.3150752406575124, 0.0)\n",
      "1400 (0.0, 1.0, 0.0, 1.0, 0.0, 0.0, 0.0, 0.0, 1.0, 0.0, 0.0, 1.0, 0.0)\n",
      "1401 (0.0, 1.0, 0.0, 1.0, 0.0, 0.0, 0.0, 0.0, 1.0, 0.0, 0.0, 1.0, 0.0)\n",
      "1402 (0.0, 1.0, 0.0, 1.0, 0.0, 0.0, 0.0, -0.0, 0.3150752406575124, 0.0, -0.0, 0.3150752406575124, 0.0)\n",
      "1403 (0.0, 1.0, 0.0, 1.0, 0.0, 0.0, 0.0, 0.0, 1.0, 0.0, 0.0, 1.0, 0.0)\n",
      "1404 (0.0, 1.0, 0.0, 1.0, 0.0, 0.0, 0.0, 0.0, 1.0, 0.0, 0.0, 1.0, 0.0)\n",
      "1405 (0.0, 1.0, 0.0, 1.0, 0.0, 0.0, 0.0, -0.0, 0.3150752406575124, 0.0, -0.0, 0.3150752406575124, 0.0)\n",
      "1406 (0.0, 1.0, 0.0, 1.0, 0.0, 0.0, 0.0, 0.0, 1.0, 0.0, 0.0, 1.0, 0.0)\n",
      "1407 (0.0, 1.0, 0.0, 1.0, 0.0, 0.0, 0.0, 0.0, 1.0, 0.0, 0.0, 1.0, 0.0)\n",
      "1408 (0.0, 1.0, 0.0, 1.0, 0.0, 0.0, 0.0, -0.0, 0.3150752406575124, 0.0, -0.0, 0.3150752406575124, 0.0)\n",
      "1409 (0.0, 1.0, 0.0, 1.0, 0.0, 0.0, 0.0, 0.0, 1.0, 0.0, 0.0, 1.0, 0.0)\n",
      "1410 (0.0, 1.0, 0.0, 1.0, 0.0, 0.0, 0.0, 0.0, 1.0, 0.0, 0.0, 1.0, 0.0)\n",
      "1411 (0.0, 1.0, 0.0, 1.0, 0.0, 0.0, 0.0, -0.0, 0.3150752406575124, 0.0, -0.0, 0.3150752406575124, 0.0)\n",
      "1412 (0.0, 1.0, 0.0, 1.0, 0.0, 0.0, 0.0, 0.0, 1.0, 0.0, 0.0, 1.0, 0.0)\n",
      "1413 (0.0, 1.0, 0.0, 1.0, 0.0, 0.0, 0.0, 0.0, 1.0, 0.0, 0.0, 1.0, 0.0)\n",
      "1414 (0.0, 1.0, 0.0, 1.0, 0.0, 0.0, 0.0, -0.0, 0.3150752406575124, 0.0, -0.0, 0.3150752406575124, 0.0)\n",
      "1415 (0.0, 1.0, 0.0, 1.0, 0.0, 0.0, 0.0, 0.0, 1.0, 0.0, 0.0, 1.0, 0.0)\n",
      "1416 (0.0, 1.0, 0.0, 1.0, 0.0, 0.0, 0.0, 0.0, 1.0, 0.0, 0.0, 1.0, 0.0)\n",
      "1417 (0.0, 1.0, 0.0, 1.0, 0.0, 0.0, 0.0, -0.0, 0.3150752406575124, 0.0, -0.0, 0.3150752406575124, 0.0)\n",
      "1418 (0.0, 1.0, 0.0, 1.0, 0.0, 0.0, 0.0, 0.0, 1.0, 0.0, 0.0, 1.0, 0.0)\n",
      "1419 (0.0, 1.0, 0.0, 1.0, 0.0, 0.0, 0.0, 0.0, 1.0, 0.0, 0.0, 1.0, 0.0)\n",
      "1420 (0.0, 1.0, 0.0, 1.0, 0.0, 0.0, 0.0, -0.0, 0.3150752406575124, 0.0, -0.0, 0.3150752406575124, 0.0)\n",
      "1421 (0.0, 1.0, 0.0, 1.0, 0.0, 0.0, 0.0, 0.0, 1.0, 0.0, 0.0, 1.0, 0.0)\n",
      "1422 (0.0, 1.0, 0.0, 1.0, 0.0, 0.0, 0.0, 0.0, 1.0, 0.0, 0.0, 1.0, 0.0)\n",
      "1423 (0.0, 1.0, 0.0, 1.0, 0.0, 0.0, 0.0, -0.0, 0.3150752406575124, 0.0, -0.0, 0.3150752406575124, 0.0)\n",
      "1424 (0.0, 1.0, 0.0, 1.0, 0.0, 0.0, 0.0, 0.0, 1.0, 0.0, 0.0, 1.0, 0.0)\n",
      "1425 (0.0, 1.0, 0.0, 1.0, 0.0, 0.0, 0.0, 0.0, 1.0, 0.0, 0.0, 1.0, 0.0)\n",
      "1426 (0.0, 1.0, 0.0, 1.0, 0.0, 0.0, 0.0, -0.0, 0.3150752406575124, 0.0, -0.0, 0.3150752406575124, 0.0)\n",
      "1427 (0.0, 1.0, 0.0, 1.0, 0.0, 0.0, 0.0, 0.0, 1.0, 0.0, 0.0, 1.0, 0.0)\n",
      "1428 (0.0, 1.0, 0.0, 1.0, 0.0, 0.0, 0.0, 0.0, 1.0, 0.0, 0.0, 1.0, 0.0)\n",
      "1429 (0.0, 1.0, 0.0, 1.0, 0.0, 0.0, 0.0, -0.0, 0.3150752406575124, 0.0, -0.0, 0.3150752406575124, 0.0)\n",
      "1430 (0.0, 1.0, 0.0, 1.0, 0.0, 0.0, 0.0, 0.0, 1.0, 0.0, 0.0, 1.0, 0.0)\n",
      "1431 (0.0, 1.0, 0.0, 1.0, 0.0, 0.0, 0.0, 0.0, 1.0, 0.0, 0.0, 1.0, 0.0)\n",
      "1432 (0.0, 1.0, 0.0, 1.0, 0.0, 0.0, 0.0, -0.0, 0.3150752406575124, 0.0, -0.0, 0.3150752406575124, 0.0)\n",
      "1433 (0.0, 1.0, 0.0, 1.0, 0.0, 0.0, 0.0, 0.0, 1.0, 0.0, 0.0, 1.0, 0.0)\n",
      "1434 (0.0, 1.0, 0.0, 1.0, 0.0, 0.0, 0.0, 0.0, 1.0, 0.0, 0.0, 1.0, 0.0)\n",
      "1435 (0.0, 1.0, 0.0, 1.0, 0.0, 0.0, 0.0, -0.0, 0.3150752406575124, 0.0, -0.0, 0.3150752406575124, 0.0)\n",
      "1436 (0.0, 1.0, 0.0, 1.0, 0.0, 0.0, 0.0, 0.0, 1.0, 0.0, 0.0, 1.0, 0.0)\n",
      "1437 (0.0, 1.0, 0.0, 1.0, 0.0, 0.0, 0.0, 0.0, 1.0, 0.0, 0.0, 1.0, 0.0)\n",
      "1438 (0.0, 1.0, 0.0, 1.0, 0.0, 0.0, 0.0, -0.0, 0.3150752406575124, 0.0, -0.0, 0.3150752406575124, 0.0)\n",
      "1439 (0.0, 1.0, 0.0, 1.0, 0.0, 0.0, 0.0, 0.0, 1.0, 0.0, 0.0, 1.0, 0.0)\n",
      "1440 (0.0, 1.0, 0.0, 1.0, 0.0, 0.0, 0.0, 0.0, 1.0, 0.0, 0.0, 1.0, 0.0)\n",
      "1441 (0.0, 1.0, 0.0, 1.0, 0.0, 0.0, 0.0, -0.0, 0.3150752406575124, 0.0, -0.0, 0.3150752406575124, 0.0)\n",
      "1442 (0.0, 1.0, 0.0, 1.0, 0.0, 0.0, 0.0, 0.0, 1.0, 0.0, 0.0, 1.0, 0.0)\n",
      "1443 (0.0, 1.0, 0.0, 1.0, 0.0, 0.0, 0.0, 0.0, 1.0, 0.0, 0.0, 1.0, 0.0)\n",
      "1444 (0.0, 1.0, 0.0, 1.0, 0.0, 0.0, 0.0, -0.0, 0.3150752406575124, 0.0, -0.0, 0.3150752406575124, 0.0)\n",
      "1445 (0.0, 1.0, 0.0, 1.0, 0.0, 0.0, 0.0, 0.0, 1.0, 0.0, 0.0, 1.0, 0.0)\n",
      "1446 (0.0, 1.0, 0.0, 1.0, 0.0, 0.0, 0.0, 0.0, 1.0, 0.0, 0.0, 1.0, 0.0)\n",
      "1447 (0.0, 1.0, 0.0, 1.0, 0.0, 0.0, 0.0, -0.0, 0.3150752406575124, 0.0, -0.0, 0.3150752406575124, 0.0)\n",
      "1448 (0.0, 1.0, 0.0, 1.0, 0.0, 0.0, 0.0, 0.0, 1.0, 0.0, 0.0, 1.0, 0.0)\n",
      "1449 (0.0, 1.0, 0.0, 1.0, 0.0, 0.0, 0.0, 0.0, 1.0, 0.0, 0.0, 1.0, 0.0)\n",
      "1450 (0.0, 1.0, 0.0, 1.0, 0.0, 0.0, 0.0, -0.0, 0.3150752406575124, 0.0, -0.0, 0.3150752406575124, 0.0)\n",
      "1451 (0.0, 1.0, 0.0, 1.0, 0.0, 0.0, 0.0, 0.0, 1.0, 0.0, 0.0, 1.0, 0.0)\n",
      "1452 (0.0, 1.0, 0.0, 1.0, 0.0, 0.0, 0.0, 0.0, 1.0, 0.0, 0.0, 1.0, 0.0)\n",
      "1453 (0.0, 1.0, 0.0, 1.0, 0.0, 0.0, 0.0, -0.0, 0.3150752406575124, 0.0, -0.0, 0.3150752406575124, 0.0)\n",
      "1454 (0.0, 1.0, 0.0, 1.0, 0.0, 0.0, 0.0, 0.0, 1.0, 0.0, 0.0, 1.0, 0.0)\n",
      "1455 (0.0, 1.0, 0.0, 1.0, 0.0, 0.0, 0.0, 0.0, 1.0, 0.0, 0.0, 1.0, 0.0)\n",
      "1456 (0.0, 1.0, 0.0, 1.0, 0.0, 0.0, 0.0, -0.0, 0.3150752406575124, 0.0, -0.0, 0.3150752406575124, 0.0)\n",
      "1457 (0.0, 1.0, 0.0, 1.0, 0.0, 0.0, 0.0, 0.0, 1.0, 0.0, 0.0, 1.0, 0.0)\n",
      "1458 (0.0, 1.0, 0.0, 1.0, 0.0, 0.0, 0.0, 0.0, 1.0, 0.0, 0.0, 1.0, 0.0)\n",
      "1459 (0.0, 1.0, 0.0, 1.0, 0.0, 0.0, 0.0, -0.0, 0.3150752406575124, 0.0, -0.0, 0.3150752406575124, 0.0)\n",
      "1460 (0.0, 1.0, 0.0, 1.0, 0.0, 0.0, 0.0, 0.0, 1.0, 0.0, 0.0, 1.0, 0.0)\n",
      "1461 (0.0, 1.0, 0.0, 1.0, 0.0, 0.0, 0.0, 0.0, 1.0, 0.0, 0.0, 1.0, 0.0)\n",
      "1462 (0.0, 1.0, 0.0, 1.0, 0.0, 0.0, 0.0, -0.0, 0.3150752406575124, 0.0, -0.0, 0.3150752406575124, 0.0)\n",
      "1463 (0.0, 1.0, 0.0, 1.0, 0.0, 0.0, 0.0, 0.0, 1.0, 0.0, 0.0, 1.0, 0.0)\n",
      "1464 (0.0, 1.0, 0.0, 1.0, 0.0, 0.0, 0.0, 0.0, 1.0, 0.0, 0.0, 1.0, 0.0)\n",
      "1465 (0.0, 1.0, 0.0, 1.0, 0.0, 0.0, 0.0, -0.0, 0.3150752406575124, 0.0, -0.0, 0.3150752406575124, 0.0)\n",
      "1466 (0.0, 1.0, 0.0, 1.0, 0.0, 0.0, 0.0, 0.0, 1.0, 0.0, 0.0, 1.0, 0.0)\n",
      "1467 (0.0, 1.0, 0.0, 1.0, 0.0, 0.0, 0.0, 0.0, 1.0, 0.0, 0.0, 1.0, 0.0)\n",
      "1468 (0.0, 1.0, 0.0, 1.0, 0.0, 0.0, 0.0, -0.0, 0.3150752406575124, 0.0, -0.0, 0.3150752406575124, 0.0)\n",
      "1469 (0.0, 1.0, 0.0, 1.0, 0.0, 0.0, 0.0, 0.0, 1.0, 0.0, 0.0, 1.0, 0.0)\n",
      "1470 (0.0, 1.0, 0.0, 1.0, 0.0, 0.0, 0.0, 0.0, 1.0, 0.0, 0.0, 1.0, 0.0)\n",
      "1471 (0.0, 1.0, 0.0, 1.0, 0.0, 0.0, 0.0, -0.0, 0.3150752406575124, 0.0, -0.0, 0.3150752406575124, 0.0)\n",
      "1472 (0.0, 1.0, 0.0, 1.0, 0.0, 0.0, 0.0, 0.0, 1.0, 0.0, 0.0, 1.0, 0.0)\n",
      "1473 (0.0, 1.0, 0.0, 1.0, 0.0, 0.0, 0.0, 0.0, 1.0, 0.0, 0.0, 1.0, 0.0)\n",
      "1474 (0.0, 1.0, 0.0, 1.0, 0.0, 0.0, 0.0, -0.0, 0.3150752406575124, 0.0, -0.0, 0.3150752406575124, 0.0)\n",
      "1475 (0.0, 1.0, 0.0, 1.0, 0.0, 0.0, 0.0, 0.0, 1.0, 0.0, 0.0, 1.0, 0.0)\n",
      "1476 (0.0, 1.0, 0.0, 1.0, 0.0, 0.0, 0.0, 0.0, 1.0, 0.0, 0.0, 1.0, 0.0)\n",
      "1477 (0.0, 1.0, 0.0, 1.0, 0.0, 0.0, 0.0, -0.0, 0.3150752406575124, 0.0, -0.0, 0.3150752406575124, 0.0)\n",
      "1478 (0.0, 1.0, 0.0, 1.0, 0.0, 0.0, 0.0, 0.0, 1.0, 0.0, 0.0, 1.0, 0.0)\n",
      "1479 (0.0, 1.0, 0.0, 1.0, 0.0, 0.0, 0.0, 0.0, 1.0, 0.0, 0.0, 1.0, 0.0)\n",
      "1480 (0.0, 1.0, 0.0, 1.0, 0.0, 0.0, 0.0, -0.0, 0.3150752406575124, 0.0, -0.0, 0.3150752406575124, 0.0)\n",
      "1481 (0.0, 1.0, 0.0, 1.0, 0.0, 0.0, 0.0, 0.0, 1.0, 0.0, 0.0, 1.0, 0.0)\n",
      "1482 (0.0, 1.0, 0.0, 1.0, 0.0, 0.0, 0.0, 0.0, 1.0, 0.0, 0.0, 1.0, 0.0)\n",
      "1483 (0.0, 1.0, 0.0, 1.0, 0.0, 0.0, 0.0, -0.0, 0.3150752406575124, 0.0, -0.0, 0.3150752406575124, 0.0)\n",
      "1484 (0.0, 1.0, 0.0, 1.0, 0.0, 0.0, 0.0, 0.0, 1.0, 0.0, 0.0, 1.0, 0.0)\n",
      "1485 (0.0, 1.0, 0.0, 1.0, 0.0, 0.0, 0.0, 0.0, 1.0, 0.0, 0.0, 1.0, 0.0)\n",
      "1486 (0.0, 1.0, 0.0, 1.0, 0.0, 0.0, 0.0, -0.0, 0.3150752406575124, 0.0, -0.0, 0.3150752406575124, 0.0)\n",
      "1487 (0.0, 1.0, 0.0, 1.0, 0.0, 0.0, 0.0, 0.0, 1.0, 0.0, 0.0, 1.0, 0.0)\n",
      "1488 (0.0, 1.0, 0.0, 1.0, 0.0, 0.0, 0.0, 0.0, 1.0, 0.0, 0.0, 1.0, 0.0)\n",
      "1489 (0.0, 1.0, 0.0, 1.0, 0.0, 0.0, 0.0, -0.0, 0.3150752406575124, 0.0, -0.0, 0.3150752406575124, 0.0)\n",
      "1490 (0.0, 1.0, 0.0, 1.0, 0.0, 0.0, 0.0, 0.0, 1.0, 0.0, 0.0, 1.0, 0.0)\n",
      "1491 (0.0, 1.0, 0.0, 1.0, 0.0, 0.0, 0.0, 0.0, 1.0, 0.0, 0.0, 1.0, 0.0)\n",
      "1492 (0.0, 1.0, 0.0, 1.0, 0.0, 0.0, 0.0, -0.0, 0.3150752406575124, 0.0, -0.0, 0.3150752406575124, 0.0)\n",
      "1493 (0.0, 1.0, 0.0, 1.0, 0.0, 0.0, 0.0, 0.0, 1.0, 0.0, 0.0, 1.0, 0.0)\n",
      "1494 (0.0, 1.0, 0.0, 1.0, 0.0, 0.0, 0.0, 0.0, 1.0, 0.0, 0.0, 1.0, 0.0)\n",
      "1495 (0.0, 1.0, 0.0, 1.0, 0.0, 0.0, 0.0, -0.0, 0.3150752406575124, 0.0, -0.0, 0.3150752406575124, 0.0)\n",
      "1496 (0.0, 1.0, 0.0, 1.0, 0.0, 0.0, 0.0, 0.0, 1.0, 0.0, 0.0, 1.0, 0.0)\n",
      "1497 (0.0, 1.0, 0.0, 1.0, 0.0, 0.0, 0.0, 0.0, 1.0, 0.0, 0.0, 1.0, 0.0)\n",
      "1498 (0.0, 1.0, 0.0, 1.0, 0.0, 0.0, 0.0, -0.0, 0.3150752406575124, 0.0, -0.0, 0.3150752406575124, 0.0)\n",
      "1499 (0.0, 1.0, 0.0, 1.0, 0.0, 0.0, 0.0, 0.0, 1.0, 0.0, 0.0, 1.0, 0.0)\n",
      "1500 (0.0, 1.0, 0.0, 1.0, 0.0, 0.0, 0.0, 0.0, 1.0, 0.0, 0.0, 1.0, 0.0)\n",
      "1501 (0.0, 1.0, 0.0, 1.0, 0.0, 0.0, 0.0, -0.0, 0.3150752406575124, 0.0, -0.0, 0.3150752406575124, 0.0)\n",
      "1502 (0.0, 1.0, 0.0, 1.0, 0.0, 0.0, 0.0, 0.0, 1.0, 0.0, 0.0, 1.0, 0.0)\n",
      "1503 (0.0, 1.0, 0.0, 1.0, 0.0, 0.0, 0.0, 0.0, 1.0, 0.0, 0.0, 1.0, 0.0)\n",
      "1504 (0.0, 1.0, 0.0, 1.0, 0.0, 0.0, 0.0, -0.0, 0.3150752406575124, 0.0, -0.0, 0.3150752406575124, 0.0)\n",
      "1505 (0.0, 1.0, 0.0, 1.0, 0.0, 0.0, 0.0, 0.0, 1.0, 0.0, 0.0, 1.0, 0.0)\n",
      "1506 (0.0, 1.0, 0.0, 1.0, 0.0, 0.0, 0.0, 0.0, 1.0, 0.0, 0.0, 1.0, 0.0)\n",
      "1507 (0.0, 1.0, 0.0, 1.0, 0.0, 0.0, 0.0, -0.0, 0.3150752406575124, 0.0, -0.0, 0.3150752406575124, 0.0)\n",
      "1508 (0.0, 1.0, 0.0, 1.0, 0.0, 0.0, 0.0, 0.0, 1.0, 0.0, 0.0, 1.0, 0.0)\n",
      "1509 (0.0, 1.0, 0.0, 1.0, 0.0, 0.0, 0.0, 0.0, 1.0, 0.0, 0.0, 1.0, 0.0)\n",
      "1510 (0.0, 1.0, 0.0, 1.0, 0.0, 0.0, 0.0, -0.0, 0.3150752406575124, 0.0, -0.0, 0.3150752406575124, 0.0)\n",
      "1511 (0.0, 1.0, 0.0, 1.0, 0.0, 0.0, 0.0, 0.0, 1.0, 0.0, 0.0, 1.0, 0.0)\n",
      "1512 (0.0, 1.0, 0.0, 1.0, 0.0, 0.0, 0.0, 0.0, 1.0, 0.0, 0.0, 1.0, 0.0)\n",
      "1513 (0.0, 1.0, 0.0, 1.0, 0.0, 0.0, 0.0, -0.0, 0.3150752406575124, 0.0, -0.0, 0.3150752406575124, 0.0)\n",
      "1514 (0.0, 1.0, 0.0, 1.0, 0.0, 0.0, 0.0, 0.0, 1.0, 0.0, 0.0, 1.0, 0.0)\n",
      "1515 (0.0, 1.0, 0.0, 1.0, 0.0, 0.0, 0.0, 0.0, 1.0, 0.0, 0.0, 1.0, 0.0)\n",
      "1516 (0.0, 1.0, 0.0, 1.0, 0.0, 0.0, 0.0, -0.0, 0.3150752406575124, 0.0, -0.0, 0.3150752406575124, 0.0)\n",
      "1517 (0.0, 1.0, 0.0, 1.0, 0.0, 0.0, 0.0, 0.0, 1.0, 0.0, 0.0, 1.0, 0.0)\n",
      "1518 (0.0, 1.0, 0.0, 1.0, 0.0, 0.0, 0.0, 0.0, 1.0, 0.0, 0.0, 1.0, 0.0)\n",
      "1519 (0.0, 1.0, 0.0, 1.0, 0.0, 0.0, 0.0, -0.0, 0.3150752406575124, 0.0, -0.0, 0.3150752406575124, 0.0)\n",
      "1520 (0.0, 1.0, 0.0, 1.0, 0.0, 0.0, 0.0, 0.0, 1.0, 0.0, 0.0, 1.0, 0.0)\n",
      "1521 (0.0, 1.0, 0.0, 1.0, 0.0, 0.0, 0.0, 0.0, 1.0, 0.0, 0.0, 1.0, 0.0)\n",
      "1522 (0.0, 1.0, 0.0, 1.0, 0.0, 0.0, 0.0, -0.0, 0.3150752406575124, 0.0, -0.0, 0.3150752406575124, 0.0)\n",
      "1523 (0.0, 1.0, 0.0, 1.0, 0.0, 0.0, 0.0, 0.0, 1.0, 0.0, 0.0, 1.0, 0.0)\n",
      "1524 (0.0, 1.0, 0.0, 1.0, 0.0, 0.0, 0.0, 0.0, 1.0, 0.0, 0.0, 1.0, 0.0)\n",
      "1525 (0.0, 1.0, 0.0, 1.0, 0.0, 0.0, 0.0, -0.0, 0.3150752406575124, 0.0, -0.0, 0.3150752406575124, 0.0)\n",
      "1526 (0.0, 1.0, 0.0, 1.0, 0.0, 0.0, 0.0, 0.0, 1.0, 0.0, 0.0, 1.0, 0.0)\n",
      "1527 (0.0, 1.0, 0.0, 1.0, 0.0, 0.0, 0.0, 0.0, 1.0, 0.0, 0.0, 1.0, 0.0)\n",
      "1528 (0.0, 1.0, 0.0, 1.0, 0.0, 0.0, 0.0, -0.0, 0.3150752406575124, 0.0, -0.0, 0.3150752406575124, 0.0)\n",
      "1529 (0.0, 1.0, 0.0, 1.0, 0.0, 0.0, 0.0, 0.0, 1.0, 0.0, 0.0, 1.0, 0.0)\n",
      "1530 (0.0, 1.0, 0.0, 1.0, 0.0, 0.0, 0.0, 0.0, 1.0, 0.0, 0.0, 1.0, 0.0)\n",
      "1531 (0.0, 1.0, 0.0, 1.0, 0.0, 0.0, 0.0, -0.0, 0.3150752406575124, 0.0, -0.0, 0.3150752406575124, 0.0)\n",
      "1532 (0.0, 1.0, 0.0, 1.0, 0.0, 0.0, 0.0, 0.0, 1.0, 0.0, 0.0, 1.0, 0.0)\n",
      "1533 (0.0, 1.0, 0.0, 1.0, 0.0, 0.0, 0.0, 0.0, 1.0, 0.0, 0.0, 1.0, 0.0)\n",
      "1534 (0.0, 1.0, 0.0, 1.0, 0.0, 0.0, 0.0, -0.0, 0.3150752406575124, 0.0, -0.0, 0.3150752406575124, 0.0)\n",
      "1535 (0.0, 1.0, 0.0, 1.0, 0.0, 0.0, 0.0, 0.0, 1.0, 0.0, 0.0, 1.0, 0.0)\n",
      "1536 (0.0, 1.0, 0.0, 1.0, 0.0, 0.0, 0.0, 0.0, 1.0, 0.0, 0.0, 1.0, 0.0)\n",
      "1537 (0.0, 1.0, 0.0, 1.0, 0.0, 0.0, 0.0, -0.0, 0.3150752406575124, 0.0, -0.0, 0.3150752406575124, 0.0)\n",
      "1538 (0.0, 1.0, 0.0, 1.0, 0.0, 0.0, 0.0, 0.0, 1.0, 0.0, 0.0, 1.0, 0.0)\n",
      "1539 (0.0, 1.0, 0.0, 1.0, 0.0, 0.0, 0.0, 0.0, 1.0, 0.0, 0.0, 1.0, 0.0)\n",
      "1540 (0.0, 1.0, 0.0, 1.0, 0.0, 0.0, 0.0, -0.0, 0.3150752406575124, 0.0, -0.0, 0.3150752406575124, 0.0)\n",
      "1541 (0.0, 1.0, 0.0, 1.0, 0.0, 0.0, 0.0, 0.0, 1.0, 0.0, 0.0, 1.0, 0.0)\n",
      "1542 (0.0, 1.0, 0.0, 1.0, 0.0, 0.0, 0.0, 0.0, 1.0, 0.0, 0.0, 1.0, 0.0)\n",
      "1543 (0.0, 1.0, 0.0, 1.0, 0.0, 0.0, 0.0, -0.0, 0.3150752406575124, 0.0, -0.0, 0.3150752406575124, 0.0)\n",
      "1544 (0.0, 1.0, 0.0, 1.0, 0.0, 0.0, 0.0, 0.0, 1.0, 0.0, 0.0, 1.0, 0.0)\n",
      "1545 (0.0, 1.0, 0.0, 1.0, 0.0, 0.0, 0.0, 0.0, 1.0, 0.0, 0.0, 1.0, 0.0)\n",
      "1546 (0.0, 1.0, 0.0, 1.0, 0.0, 0.0, 0.0, -0.0, 0.3150752406575124, 0.0, -0.0, 0.3150752406575124, 0.0)\n",
      "1547 (0.0, 1.0, 0.0, 1.0, 0.0, 0.0, 0.0, 0.0, 1.0, 0.0, 0.0, 1.0, 0.0)\n",
      "1548 (0.0, 1.0, 0.0, 1.0, 0.0, 0.0, 0.0, 0.0, 1.0, 0.0, 0.0, 1.0, 0.0)\n",
      "1549 (0.0, 1.0, 0.0, 1.0, 0.0, 0.0, 0.0, -0.0, 0.3150752406575124, 0.0, -0.0, 0.3150752406575124, 0.0)\n",
      "1550 (0.0, 1.0, 0.0, 1.0, 0.0, 0.0, 0.0, 0.0, 1.0, 0.0, 0.0, 1.0, 0.0)\n",
      "1551 (0.0, 1.0, 0.0, 1.0, 0.0, 0.0, 0.0, 0.0, 1.0, 0.0, 0.0, 1.0, 0.0)\n",
      "1552 (0.0, 1.0, 0.0, 1.0, 0.0, 0.0, 0.0, -0.0, 0.3150752406575124, 0.0, -0.0, 0.3150752406575124, 0.0)\n",
      "1553 (0.0, 1.0, 0.0, 1.0, 0.0, 0.0, 0.0, 0.0, 1.0, 0.0, 0.0, 1.0, 0.0)\n",
      "1554 (0.0, 1.0, 0.0, 1.0, 0.0, 0.0, 0.0, 0.0, 1.0, 0.0, 0.0, 1.0, 0.0)\n",
      "1555 (0.0, 1.0, 0.0, 1.0, 0.0, 0.0, 0.0, 0.0, 0.2439280690268249, 0.0, 0.0, 0.2439280690268249, 0.0)\n",
      "1556 (0.0, 1.0, 0.0, 1.0, 0.0, 0.0, 0.0, -0.0, 0.4477656957373345, 0.0, -0.0, 0.4477656957373345, 0.0)\n",
      "1557 (0.0, 1.0, 0.0, 0.0, 0.0, 0.0, 1.0, -0.0, 0.3399669508423535, 0.4577296, -0.0, 0.3399669508423535, 0.4577296)\n",
      "1558 (0.0, 1.0, 0.0, 0.0, 0.0, 0.0, 1.0, 0.0, 0.2649532787749369, 0.06568879999999999, 0.0, 0.2649532787749369, 0.06568879999999999)\n",
      "1559 (0.0, 1.0, 0.0, 0.0, 0.0, 0.0, 1.0, 0.0, 0.2649532787749369, 0.06568879999999999, 0.0, 0.2649532787749369, 0.06568879999999999)\n",
      "1560 (0.0, 1.0, 0.0, 0.0, 0.0, 0.0, 1.0, 0.0, 0.2649532787749369, 0.06568879999999999, 0.0, 0.2649532787749369, 0.06568879999999999)\n",
      "1561 (0.0, 1.0, 0.0, 0.0, 0.0, 0.0, 1.0, -0.0, 0.3066473387839048, 0.8803136, -0.0, 0.3066473387839048, 0.8803136)\n",
      "1562 (0.0, 1.0, 0.0, 0.0, 0.0, 0.0, 1.0, 0.0, 1.0, 0.0, 0.0, 1.0, 0.0)\n"
     ]
    }
   ],
   "source": [
    "for i in range(htf.hybrid_system.getForce(4).getNumParticles()):\n",
    "    print(i, htf.hybrid_system.getForce(4).getParticleParameters(i))"
   ]
  },
  {
   "cell_type": "code",
   "execution_count": 72,
   "id": "e5114520",
   "metadata": {},
   "outputs": [
    {
     "data": {
      "text/plain": [
       "{22,\n",
       " 23,\n",
       " 24,\n",
       " 25,\n",
       " 26,\n",
       " 27,\n",
       " 28,\n",
       " 29,\n",
       " 30,\n",
       " 31,\n",
       " 32,\n",
       " 33,\n",
       " 34,\n",
       " 35,\n",
       " 36,\n",
       " 37,\n",
       " 38,\n",
       " 39,\n",
       " 40,\n",
       " 41,\n",
       " 42,\n",
       " 43,\n",
       " 44,\n",
       " 45,\n",
       " 46,\n",
       " 47,\n",
       " 48,\n",
       " 49,\n",
       " 50,\n",
       " 51,\n",
       " 52,\n",
       " 53,\n",
       " 54,\n",
       " 55,\n",
       " 56,\n",
       " 57,\n",
       " 58,\n",
       " 59,\n",
       " 60,\n",
       " 61,\n",
       " 62,\n",
       " 63,\n",
       " 64,\n",
       " 65,\n",
       " 66,\n",
       " 67,\n",
       " 68,\n",
       " 69,\n",
       " 70,\n",
       " 71,\n",
       " 72,\n",
       " 73,\n",
       " 74,\n",
       " 75,\n",
       " 76,\n",
       " 77,\n",
       " 78,\n",
       " 79,\n",
       " 80,\n",
       " 81,\n",
       " 82,\n",
       " 83,\n",
       " 84,\n",
       " 85,\n",
       " 86,\n",
       " 87,\n",
       " 88,\n",
       " 89,\n",
       " 90,\n",
       " 91,\n",
       " 92,\n",
       " 93,\n",
       " 94,\n",
       " 95,\n",
       " 96,\n",
       " 97,\n",
       " 98,\n",
       " 99,\n",
       " 100,\n",
       " 101,\n",
       " 102,\n",
       " 103,\n",
       " 104,\n",
       " 105,\n",
       " 106,\n",
       " 107,\n",
       " 108,\n",
       " 109,\n",
       " 110,\n",
       " 111,\n",
       " 112,\n",
       " 113,\n",
       " 114,\n",
       " 115,\n",
       " 116,\n",
       " 117,\n",
       " 118,\n",
       " 119,\n",
       " 120,\n",
       " 121,\n",
       " 122,\n",
       " 123,\n",
       " 124,\n",
       " 125,\n",
       " 126,\n",
       " 127,\n",
       " 128,\n",
       " 129,\n",
       " 130,\n",
       " 131,\n",
       " 132,\n",
       " 133,\n",
       " 134,\n",
       " 135,\n",
       " 136,\n",
       " 137,\n",
       " 138,\n",
       " 139,\n",
       " 140,\n",
       " 141,\n",
       " 142,\n",
       " 143,\n",
       " 144,\n",
       " 145,\n",
       " 146,\n",
       " 147,\n",
       " 148,\n",
       " 149,\n",
       " 150,\n",
       " 151,\n",
       " 152,\n",
       " 153,\n",
       " 154,\n",
       " 155,\n",
       " 156,\n",
       " 157,\n",
       " 158,\n",
       " 159,\n",
       " 160,\n",
       " 161,\n",
       " 162,\n",
       " 163,\n",
       " 164,\n",
       " 165,\n",
       " 166,\n",
       " 167,\n",
       " 168,\n",
       " 169,\n",
       " 170,\n",
       " 171,\n",
       " 172,\n",
       " 173,\n",
       " 174,\n",
       " 175,\n",
       " 176,\n",
       " 177,\n",
       " 178,\n",
       " 179,\n",
       " 180,\n",
       " 181,\n",
       " 182,\n",
       " 183,\n",
       " 184,\n",
       " 185,\n",
       " 186,\n",
       " 187,\n",
       " 188,\n",
       " 189,\n",
       " 190,\n",
       " 191,\n",
       " 192,\n",
       " 193,\n",
       " 194,\n",
       " 195,\n",
       " 196,\n",
       " 197,\n",
       " 198,\n",
       " 199,\n",
       " 200,\n",
       " 201,\n",
       " 202,\n",
       " 203,\n",
       " 204,\n",
       " 205,\n",
       " 206,\n",
       " 207,\n",
       " 208,\n",
       " 209,\n",
       " 210,\n",
       " 211,\n",
       " 212,\n",
       " 213,\n",
       " 214,\n",
       " 215,\n",
       " 216,\n",
       " 217,\n",
       " 218,\n",
       " 219,\n",
       " 220,\n",
       " 221,\n",
       " 222,\n",
       " 223,\n",
       " 224,\n",
       " 225,\n",
       " 226,\n",
       " 227,\n",
       " 228,\n",
       " 229,\n",
       " 230,\n",
       " 231,\n",
       " 232,\n",
       " 233,\n",
       " 234,\n",
       " 235,\n",
       " 236,\n",
       " 237,\n",
       " 238,\n",
       " 239,\n",
       " 240,\n",
       " 241,\n",
       " 242,\n",
       " 243,\n",
       " 244,\n",
       " 245,\n",
       " 246,\n",
       " 247,\n",
       " 248,\n",
       " 249,\n",
       " 250,\n",
       " 251,\n",
       " 252,\n",
       " 253,\n",
       " 254,\n",
       " 255,\n",
       " 256,\n",
       " 257,\n",
       " 258,\n",
       " 259,\n",
       " 260,\n",
       " 261,\n",
       " 262,\n",
       " 263,\n",
       " 264,\n",
       " 265,\n",
       " 266,\n",
       " 267,\n",
       " 268,\n",
       " 269,\n",
       " 270,\n",
       " 271,\n",
       " 272,\n",
       " 273,\n",
       " 274,\n",
       " 275,\n",
       " 276,\n",
       " 277,\n",
       " 278,\n",
       " 279,\n",
       " 280,\n",
       " 281,\n",
       " 282,\n",
       " 283,\n",
       " 284,\n",
       " 285,\n",
       " 286,\n",
       " 287,\n",
       " 288,\n",
       " 289,\n",
       " 290,\n",
       " 291,\n",
       " 292,\n",
       " 293,\n",
       " 294,\n",
       " 295,\n",
       " 296,\n",
       " 297,\n",
       " 298,\n",
       " 299,\n",
       " 300,\n",
       " 301,\n",
       " 302,\n",
       " 303,\n",
       " 304,\n",
       " 305,\n",
       " 306,\n",
       " 307,\n",
       " 308,\n",
       " 309,\n",
       " 310,\n",
       " 311,\n",
       " 312,\n",
       " 313,\n",
       " 314,\n",
       " 315,\n",
       " 316,\n",
       " 317,\n",
       " 318,\n",
       " 319,\n",
       " 320,\n",
       " 321,\n",
       " 322,\n",
       " 323,\n",
       " 324,\n",
       " 325,\n",
       " 326,\n",
       " 327,\n",
       " 328,\n",
       " 329,\n",
       " 330,\n",
       " 331,\n",
       " 332,\n",
       " 333,\n",
       " 334,\n",
       " 335,\n",
       " 336,\n",
       " 337,\n",
       " 338,\n",
       " 339,\n",
       " 340,\n",
       " 341,\n",
       " 342,\n",
       " 343,\n",
       " 344,\n",
       " 345,\n",
       " 346,\n",
       " 347,\n",
       " 348,\n",
       " 349,\n",
       " 350,\n",
       " 351,\n",
       " 352,\n",
       " 353,\n",
       " 354,\n",
       " 355,\n",
       " 356,\n",
       " 357,\n",
       " 358,\n",
       " 359,\n",
       " 360,\n",
       " 361,\n",
       " 362,\n",
       " 363,\n",
       " 364,\n",
       " 365,\n",
       " 366,\n",
       " 367,\n",
       " 368,\n",
       " 369,\n",
       " 370,\n",
       " 371,\n",
       " 372,\n",
       " 373,\n",
       " 374,\n",
       " 375,\n",
       " 376,\n",
       " 377,\n",
       " 378,\n",
       " 379,\n",
       " 380,\n",
       " 381,\n",
       " 382,\n",
       " 383,\n",
       " 384,\n",
       " 385,\n",
       " 386,\n",
       " 387,\n",
       " 388,\n",
       " 389,\n",
       " 390,\n",
       " 391,\n",
       " 392,\n",
       " 393,\n",
       " 394,\n",
       " 395,\n",
       " 396,\n",
       " 397,\n",
       " 398,\n",
       " 399,\n",
       " 400,\n",
       " 401,\n",
       " 402,\n",
       " 403,\n",
       " 404,\n",
       " 405,\n",
       " 406,\n",
       " 407,\n",
       " 408,\n",
       " 409,\n",
       " 410,\n",
       " 411,\n",
       " 412,\n",
       " 413,\n",
       " 414,\n",
       " 415,\n",
       " 416,\n",
       " 417,\n",
       " 418,\n",
       " 419,\n",
       " 420,\n",
       " 421,\n",
       " 422,\n",
       " 423,\n",
       " 424,\n",
       " 425,\n",
       " 426,\n",
       " 427,\n",
       " 428,\n",
       " 429,\n",
       " 430,\n",
       " 431,\n",
       " 432,\n",
       " 433,\n",
       " 434,\n",
       " 435,\n",
       " 436,\n",
       " 437,\n",
       " 438,\n",
       " 439,\n",
       " 440,\n",
       " 441,\n",
       " 442,\n",
       " 443,\n",
       " 444,\n",
       " 445,\n",
       " 446,\n",
       " 447,\n",
       " 448,\n",
       " 449,\n",
       " 450,\n",
       " 451,\n",
       " 452,\n",
       " 453,\n",
       " 454,\n",
       " 455,\n",
       " 456,\n",
       " 457,\n",
       " 458,\n",
       " 459,\n",
       " 460,\n",
       " 461,\n",
       " 462,\n",
       " 463,\n",
       " 464,\n",
       " 465,\n",
       " 466,\n",
       " 467,\n",
       " 468,\n",
       " 469,\n",
       " 470,\n",
       " 471,\n",
       " 472,\n",
       " 473,\n",
       " 474,\n",
       " 475,\n",
       " 476,\n",
       " 477,\n",
       " 478,\n",
       " 479,\n",
       " 480,\n",
       " 481,\n",
       " 482,\n",
       " 483,\n",
       " 484,\n",
       " 485,\n",
       " 486,\n",
       " 487,\n",
       " 488,\n",
       " 489,\n",
       " 490,\n",
       " 491,\n",
       " 492,\n",
       " 493,\n",
       " 494,\n",
       " 495,\n",
       " 496,\n",
       " 497,\n",
       " 498,\n",
       " 499,\n",
       " 500,\n",
       " 501,\n",
       " 502,\n",
       " 503,\n",
       " 504,\n",
       " 505,\n",
       " 506,\n",
       " 507,\n",
       " 508,\n",
       " 509,\n",
       " 510,\n",
       " 511,\n",
       " 512,\n",
       " 513,\n",
       " 514,\n",
       " 515,\n",
       " 516,\n",
       " 517,\n",
       " 518,\n",
       " 519,\n",
       " 520,\n",
       " 521,\n",
       " 522,\n",
       " 523,\n",
       " 524,\n",
       " 525,\n",
       " 526,\n",
       " 527,\n",
       " 528,\n",
       " 529,\n",
       " 530,\n",
       " 531,\n",
       " 532,\n",
       " 533,\n",
       " 534,\n",
       " 535,\n",
       " 536,\n",
       " 537,\n",
       " 538,\n",
       " 539,\n",
       " 540,\n",
       " 541,\n",
       " 542,\n",
       " 543,\n",
       " 544,\n",
       " 545,\n",
       " 546,\n",
       " 547,\n",
       " 548,\n",
       " 549,\n",
       " 550,\n",
       " 551,\n",
       " 552,\n",
       " 553,\n",
       " 554,\n",
       " 555,\n",
       " 556,\n",
       " 557,\n",
       " 558,\n",
       " 559,\n",
       " 560,\n",
       " 561,\n",
       " 562,\n",
       " 563,\n",
       " 564,\n",
       " 565,\n",
       " 566,\n",
       " 567,\n",
       " 568,\n",
       " 569,\n",
       " 570,\n",
       " 571,\n",
       " 572,\n",
       " 573,\n",
       " 574,\n",
       " 575,\n",
       " 576,\n",
       " 577,\n",
       " 578,\n",
       " 579,\n",
       " 580,\n",
       " 581,\n",
       " 582,\n",
       " 583,\n",
       " 584,\n",
       " 585,\n",
       " 586,\n",
       " 587,\n",
       " 588,\n",
       " 589,\n",
       " 590,\n",
       " 591,\n",
       " 592,\n",
       " 593,\n",
       " 594,\n",
       " 595,\n",
       " 596,\n",
       " 597,\n",
       " 598,\n",
       " 599,\n",
       " 600,\n",
       " 601,\n",
       " 602,\n",
       " 603,\n",
       " 604,\n",
       " 605,\n",
       " 606,\n",
       " 607,\n",
       " 608,\n",
       " 609,\n",
       " 610,\n",
       " 611,\n",
       " 612,\n",
       " 613,\n",
       " 614,\n",
       " 615,\n",
       " 616,\n",
       " 617,\n",
       " 618,\n",
       " 619,\n",
       " 620,\n",
       " 621,\n",
       " 622,\n",
       " 623,\n",
       " 624,\n",
       " 625,\n",
       " 626,\n",
       " 627,\n",
       " 628,\n",
       " 629,\n",
       " 630,\n",
       " 631,\n",
       " 632,\n",
       " 633,\n",
       " 634,\n",
       " 635,\n",
       " 636,\n",
       " 637,\n",
       " 638,\n",
       " 639,\n",
       " 640,\n",
       " 641,\n",
       " 642,\n",
       " 643,\n",
       " 644,\n",
       " 645,\n",
       " 646,\n",
       " 647,\n",
       " 648,\n",
       " 649,\n",
       " 650,\n",
       " 651,\n",
       " 652,\n",
       " 653,\n",
       " 654,\n",
       " 655,\n",
       " 656,\n",
       " 657,\n",
       " 658,\n",
       " 659,\n",
       " 660,\n",
       " 661,\n",
       " 662,\n",
       " 663,\n",
       " 664,\n",
       " 665,\n",
       " 666,\n",
       " 667,\n",
       " 668,\n",
       " 669,\n",
       " 670,\n",
       " 671,\n",
       " 672,\n",
       " 673,\n",
       " 674,\n",
       " 675,\n",
       " 676,\n",
       " 677,\n",
       " 678,\n",
       " 679,\n",
       " 680,\n",
       " 681,\n",
       " 682,\n",
       " 683,\n",
       " 684,\n",
       " 685,\n",
       " 686,\n",
       " 687,\n",
       " 688,\n",
       " 689,\n",
       " 690,\n",
       " 691,\n",
       " 692,\n",
       " 693,\n",
       " 694,\n",
       " 695,\n",
       " 696,\n",
       " 697,\n",
       " 698,\n",
       " 699,\n",
       " 700,\n",
       " 701,\n",
       " 702,\n",
       " 703,\n",
       " 704,\n",
       " 705,\n",
       " 706,\n",
       " 707,\n",
       " 708,\n",
       " 709,\n",
       " 710,\n",
       " 711,\n",
       " 712,\n",
       " 713,\n",
       " 714,\n",
       " 715,\n",
       " 716,\n",
       " 717,\n",
       " 718,\n",
       " 719,\n",
       " 720,\n",
       " 721,\n",
       " 722,\n",
       " 723,\n",
       " 724,\n",
       " 725,\n",
       " 726,\n",
       " 727,\n",
       " 728,\n",
       " 729,\n",
       " 730,\n",
       " 731,\n",
       " 732,\n",
       " 733,\n",
       " 734,\n",
       " 735,\n",
       " 736,\n",
       " 737,\n",
       " 738,\n",
       " 739,\n",
       " 740,\n",
       " 741,\n",
       " 742,\n",
       " 743,\n",
       " 744,\n",
       " 745,\n",
       " 746,\n",
       " 747,\n",
       " 748,\n",
       " 749,\n",
       " 750,\n",
       " 751,\n",
       " 752,\n",
       " 753,\n",
       " 754,\n",
       " 755,\n",
       " 756,\n",
       " 757,\n",
       " 758,\n",
       " 759,\n",
       " 760,\n",
       " 761,\n",
       " 762,\n",
       " 763,\n",
       " 764,\n",
       " 765,\n",
       " 766,\n",
       " 767,\n",
       " 768,\n",
       " 769,\n",
       " 770,\n",
       " 771,\n",
       " 772,\n",
       " 773,\n",
       " 774,\n",
       " 775,\n",
       " 776,\n",
       " 777,\n",
       " 778,\n",
       " 779,\n",
       " 780,\n",
       " 781,\n",
       " 782,\n",
       " 783,\n",
       " 784,\n",
       " 785,\n",
       " 786,\n",
       " 787,\n",
       " 788,\n",
       " 789,\n",
       " 790,\n",
       " 791,\n",
       " 792,\n",
       " 793,\n",
       " 794,\n",
       " 795,\n",
       " 796,\n",
       " 797,\n",
       " 798,\n",
       " 799,\n",
       " 800,\n",
       " 801,\n",
       " 802,\n",
       " 803,\n",
       " 804,\n",
       " 805,\n",
       " 806,\n",
       " 807,\n",
       " 808,\n",
       " 809,\n",
       " 810,\n",
       " 811,\n",
       " 812,\n",
       " 813,\n",
       " 814,\n",
       " 815,\n",
       " 816,\n",
       " 817,\n",
       " 818,\n",
       " 819,\n",
       " 820,\n",
       " 821,\n",
       " 822,\n",
       " 823,\n",
       " 824,\n",
       " 825,\n",
       " 826,\n",
       " 827,\n",
       " 828,\n",
       " 829,\n",
       " 830,\n",
       " 831,\n",
       " 832,\n",
       " 833,\n",
       " 834,\n",
       " 835,\n",
       " 836,\n",
       " 837,\n",
       " 838,\n",
       " 839,\n",
       " 840,\n",
       " 841,\n",
       " 842,\n",
       " 843,\n",
       " 844,\n",
       " 845,\n",
       " 846,\n",
       " 847,\n",
       " 848,\n",
       " 849,\n",
       " 850,\n",
       " 851,\n",
       " 852,\n",
       " 853,\n",
       " 854,\n",
       " 855,\n",
       " 856,\n",
       " 857,\n",
       " 858,\n",
       " 859,\n",
       " 860,\n",
       " 861,\n",
       " 862,\n",
       " 863,\n",
       " 864,\n",
       " 865,\n",
       " 866,\n",
       " 867,\n",
       " 868,\n",
       " 869,\n",
       " 870,\n",
       " 871,\n",
       " 872,\n",
       " 873,\n",
       " 874,\n",
       " 875,\n",
       " 876,\n",
       " 877,\n",
       " 878,\n",
       " 879,\n",
       " 880,\n",
       " 881,\n",
       " 882,\n",
       " 883,\n",
       " 884,\n",
       " 885,\n",
       " 886,\n",
       " 887,\n",
       " 888,\n",
       " 889,\n",
       " 890,\n",
       " 891,\n",
       " 892,\n",
       " 893,\n",
       " 894,\n",
       " 895,\n",
       " 896,\n",
       " 897,\n",
       " 898,\n",
       " 899,\n",
       " 900,\n",
       " 901,\n",
       " 902,\n",
       " 903,\n",
       " 904,\n",
       " 905,\n",
       " 906,\n",
       " 907,\n",
       " 908,\n",
       " 909,\n",
       " 910,\n",
       " 911,\n",
       " 912,\n",
       " 913,\n",
       " 914,\n",
       " 915,\n",
       " 916,\n",
       " 917,\n",
       " 918,\n",
       " 919,\n",
       " 920,\n",
       " 921,\n",
       " 922,\n",
       " 923,\n",
       " 924,\n",
       " 925,\n",
       " 926,\n",
       " 927,\n",
       " 928,\n",
       " 929,\n",
       " 930,\n",
       " 931,\n",
       " 932,\n",
       " 933,\n",
       " 934,\n",
       " 935,\n",
       " 936,\n",
       " 937,\n",
       " 938,\n",
       " 939,\n",
       " 940,\n",
       " 941,\n",
       " 942,\n",
       " 943,\n",
       " 944,\n",
       " 945,\n",
       " 946,\n",
       " 947,\n",
       " 948,\n",
       " 949,\n",
       " 950,\n",
       " 951,\n",
       " 952,\n",
       " 953,\n",
       " 954,\n",
       " 955,\n",
       " 956,\n",
       " 957,\n",
       " 958,\n",
       " 959,\n",
       " 960,\n",
       " 961,\n",
       " 962,\n",
       " 963,\n",
       " 964,\n",
       " 965,\n",
       " 966,\n",
       " 967,\n",
       " 968,\n",
       " 969,\n",
       " 970,\n",
       " 971,\n",
       " 972,\n",
       " 973,\n",
       " 974,\n",
       " 975,\n",
       " 976,\n",
       " 977,\n",
       " 978,\n",
       " 979,\n",
       " 980,\n",
       " 981,\n",
       " 982,\n",
       " 983,\n",
       " 984,\n",
       " 985,\n",
       " 986,\n",
       " 987,\n",
       " 988,\n",
       " 989,\n",
       " 990,\n",
       " 991,\n",
       " 992,\n",
       " 993,\n",
       " 994,\n",
       " 995,\n",
       " 996,\n",
       " 997,\n",
       " 998,\n",
       " 999,\n",
       " 1000,\n",
       " 1001,\n",
       " 1002,\n",
       " 1003,\n",
       " 1004,\n",
       " 1005,\n",
       " 1006,\n",
       " 1007,\n",
       " 1008,\n",
       " 1009,\n",
       " 1010,\n",
       " 1011,\n",
       " 1012,\n",
       " 1013,\n",
       " 1014,\n",
       " 1015,\n",
       " 1016,\n",
       " 1017,\n",
       " 1018,\n",
       " 1019,\n",
       " 1020,\n",
       " 1021,\n",
       " ...}"
      ]
     },
     "execution_count": 72,
     "metadata": {},
     "output_type": "execute_result"
    }
   ],
   "source": [
    "htf._atom_classes['environment_atoms']"
   ]
  },
  {
   "cell_type": "code",
   "execution_count": 63,
   "id": "93cceb52",
   "metadata": {},
   "outputs": [
    {
     "data": {
      "text/plain": [
       "[<openmm.openmm.MonteCarloBarostat; proxy of <Swig Object of type 'OpenMM::MonteCarloBarostat *' at 0x2ba9ccf74270> >,\n",
       " <openmm.openmm.CustomBondForce; proxy of <Swig Object of type 'OpenMM::CustomBondForce *' at 0x2ba9ccf747b0> >,\n",
       " <openmm.openmm.CustomAngleForce; proxy of <Swig Object of type 'OpenMM::CustomAngleForce *' at 0x2ba9c4fb4a80> >,\n",
       " <openmm.openmm.CustomTorsionForce; proxy of <Swig Object of type 'OpenMM::CustomTorsionForce *' at 0x2ba9ccfed660> >,\n",
       " <openmm.openmm.CustomNonbondedForce; proxy of <Swig Object of type 'OpenMM::CustomNonbondedForce *' at 0x2baa6ea9cc30> >,\n",
       " <openmm.openmm.CustomBondForce; proxy of <Swig Object of type 'OpenMM::CustomBondForce *' at 0x2baa6ea9ccc0> >,\n",
       " <openmm.openmm.NonbondedForce; proxy of <Swig Object of type 'OpenMM::NonbondedForce *' at 0x2baa6ea9cd50> >]"
      ]
     },
     "execution_count": 63,
     "metadata": {},
     "output_type": "execute_result"
    }
   ],
   "source": [
    "htf.hybrid_system.getForces()"
   ]
  },
  {
   "cell_type": "code",
   "execution_count": 64,
   "id": "85faff91",
   "metadata": {},
   "outputs": [
    {
     "data": {
      "text/plain": [
       "'U_electrostatics + U_sterics; U_electrostatics = 138.935456 * chargeProd  * erfc(alpha * r)/ r_eff_electrostatics; U_sterics = 4 * epsilon * x * (x - 1.0);x = (sigma / r_eff_sterics)^6;chargeProd = (charge1 * p1_electrostatics_rest_scale) * (charge2 * p2_electrostatics_rest_scale); charge1 = (is_unique_old1 * old_charge_scaled1) + (is_unique_new1 * new_charge_scaled1) + is_core1 * (old_charge_scaled1 + new_charge_scaled1) + is_environment1 * (old_charge_scaled1 + new_charge_scaled1); old_charge_scaled1 = lambda_alchemical_electrostatics_old * charge_old1; new_charge_scaled1 = lambda_alchemical_electrostatics_new * charge_new1; charge2 = (is_unique_old2 * old_charge_scaled2) + (is_unique_new2 * new_charge_scaled2) + is_core2 * (old_charge_scaled2 + new_charge_scaled2) + is_environment2 * (old_charge_scaled2 + new_charge_scaled2); old_charge_scaled2 = lambda_alchemical_electrostatics_old * charge_old2; new_charge_scaled2 = lambda_alchemical_electrostatics_new * charge_new2; sigma = (sigma1 + sigma2) / 2; sigma1 = (is_unique_old1 * old_sigma_scaled1) + (is_unique_new1 * new_sigma_scaled1) + is_core1 * (old_sigma_scaled1 + new_sigma_scaled1) + is_environment1 * (old_sigma_scaled1 + new_sigma_scaled1); old_sigma_scaled1 = lambda_alchemical_sterics_old * sigma_old1; new_sigma_scaled1 = lambda_alchemical_sterics_new * sigma_new1; sigma2 = (is_unique_old2 * old_sigma_scaled2) + (is_unique_new2 * new_sigma_scaled2) + is_core2 * (old_sigma_scaled2 + new_sigma_scaled2) + is_environment2 * (old_sigma_scaled2 + new_sigma_scaled2); old_sigma_scaled2 = lambda_alchemical_sterics_old * sigma_old2; new_sigma_scaled2 = lambda_alchemical_sterics_new * sigma_new2; epsilon = p1_sterics_rest_scale * p2_sterics_rest_scale * sqrt(epsilon1 * epsilon2); epsilon1 = (is_unique_old1 * old_epsilon_scaled1) + (is_unique_new1 * new_epsilon_scaled1) + is_core1 * (old_epsilon_scaled1 + new_epsilon_scaled1) + is_environment1 * (old_epsilon_scaled1 + new_epsilon_scaled1); old_epsilon_scaled1 = lambda_alchemical_sterics_old * epsilon_old1; new_epsilon_scaled1 = lambda_alchemical_sterics_new * epsilon_new1; epsilon2 = (is_unique_old2 * old_epsilon_scaled2) + (is_unique_new2 * new_epsilon_scaled2) + is_core2 * (old_epsilon_scaled2 + new_epsilon_scaled2) + is_environment2 * (old_epsilon_scaled2 + new_epsilon_scaled2); old_epsilon_scaled2 = lambda_alchemical_sterics_old * epsilon_old2; new_epsilon_scaled2 = lambda_alchemical_sterics_new * epsilon_new2; p1_electrostatics_rest_scale = is_rest1 * lambda_rest_electrostatics + is_nonrest_solute1 + is_nonrest_solvent1; p2_electrostatics_rest_scale = is_rest2 * lambda_rest_electrostatics + is_nonrest_solute2 + is_nonrest_solvent2; p1_sterics_rest_scale = is_rest1 * lambda_rest_sterics + is_nonrest_solute1 + is_nonrest_solvent1; p2_sterics_rest_scale = is_rest2 * lambda_rest_sterics + is_nonrest_solute2 + is_nonrest_solvent2; alpha = sqrt(-log(2 * delta) / r_cutoff); delta = 0.0001; r_eff_electrostatics = sqrt(r^2 + w_electrostatics^2); r_eff_sterics = sqrt(r^2 + w_sterics^2); w_electrostatics = is_unique_old * lambda_alchemical_electrostatics_new * w_scale * r_cutoff + is_unique_new * lambda_alchemical_electrostatics_old * w_scale * r_cutoff; w_sterics = is_unique_old * lambda_alchemical_sterics_new * w_scale * r_cutoff + is_unique_new * lambda_alchemical_sterics_old * w_scale * r_cutoff; is_unique_old = step(is_unique_old1 + is_unique_old2 - 0.1); is_unique_new = step(is_unique_new1 + is_unique_new2 - 0.1); w_scale = 0; r_cutoff = 1.0;'"
      ]
     },
     "execution_count": 64,
     "metadata": {},
     "output_type": "execute_result"
    }
   ],
   "source": [
    "htf.hybrid_system.getForce(4).getEnergyFunction()"
   ]
  },
  {
   "cell_type": "code",
   "execution_count": null,
   "id": "dd6fa85c",
   "metadata": {},
   "outputs": [],
   "source": []
  },
  {
   "cell_type": "code",
   "execution_count": null,
   "id": "6c3471a4",
   "metadata": {},
   "outputs": [],
   "source": []
  },
  {
   "cell_type": "markdown",
   "id": "dc4b7b1d",
   "metadata": {},
   "source": [
    "#### New system HarmonicBondForce vs hybrid system CustomBondForce"
   ]
  },
  {
   "cell_type": "code",
   "execution_count": 56,
   "id": "9f9cbe99",
   "metadata": {},
   "outputs": [],
   "source": [
    "# Load htf\n",
    "with open(\"/home/zhangi/choderalab/perses_benchmark/perses_protein_mutations/code/26_rxn_field/atp_solvent.pickle\", \"rb\") as f:\n",
    "    htf = pickle.load(f)"
   ]
  },
  {
   "cell_type": "code",
   "execution_count": 57,
   "id": "95887c44",
   "metadata": {},
   "outputs": [
    {
     "name": "stdout",
     "output_type": "stream",
     "text": [
      "Warning: Returning CPU platform instead of requested platform <simtk.openmm.openmm.Platform; proxy of <Swig Object of type 'OpenMM::Platform *' at 0x2b9a91b55060> >\n",
      "conducting subsequent work with the following platform: CPU\n",
      "conducting subsequent work with the following platform: CUDA\n",
      "[('HarmonicBondForce', 1.9354122356346202), ('HarmonicAngleForce', 3.6005321167873987), ('PeriodicTorsionForce', 26.07468251170674), ('NonbondedForce', -7806.242439792879), ('AndersenThermostat', 0.0)]\n",
      "conducting subsequent work with the following platform: CUDA\n",
      "[('CustomBondForce', 1.935932439561947), ('CustomAngleForce', 4.051651892412213), ('CustomTorsionForce', 16.176833930682243), ('CustomNonbondedForce', -7789.345291713065), ('CustomNonbondedForce', 1271.8269495978834), ('CustomBondForce', -16.897057128136233), ('CustomBondForce', 8.413314804589984), ('AndersenThermostat', 0.0)]\n",
      "Success! Custom nb force and standard nb force electrostatics energies are equal!\n"
     ]
    },
    {
     "data": {
      "text/plain": [
       "<simtk.openmm.openmm.Context; proxy of <Swig Object of type 'OpenMM::Context *' at 0x2b9ae7542900> >"
      ]
     },
     "execution_count": 57,
     "metadata": {},
     "output_type": "execute_result"
    }
   ],
   "source": [
    "test_nb_energies(htf, is_old=False, is_solvated=True)"
   ]
  },
  {
   "cell_type": "markdown",
   "id": "d907a68d",
   "metadata": {},
   "source": [
    "### Test one alchemical region, one scale region"
   ]
  },
  {
   "cell_type": "code",
   "execution_count": 59,
   "id": "52f50c72",
   "metadata": {
    "scrolled": true
   },
   "outputs": [
    {
     "name": "stderr",
     "output_type": "stream",
     "text": [
      "DEBUG:openmmforcefields.system_generators:Trying GAFFTemplateGenerator to load gaff-2.11\n",
      "INFO:proposal_generator:\tConducting polymer point mutation proposal...\n",
      "INFO:proposal_generator:Using matching_criterion to chose best atom map\n",
      "INFO:proposal_generator:Scaffold has symmetry of 0\n",
      "WARNING:proposal_generator:Two molecules are not similar to have a common scaffold\n",
      "WARNING:proposal_generator:Proceeding with direct mapping of molecules, but please check atom mapping and the geometry of the ligands.\n",
      "INFO:proposal_generator:len [{9: 7}, {10: 7}, {11: 7}, {12: 7}, {13: 7}, {9: 8}, {10: 8}, {11: 8}, {12: 8}, {13: 8}, {9: 9}, {10: 9}, {11: 9}, {12: 9}, {13: 9}]\n",
      "INFO:proposal_generator:{9: 7}\n",
      "INFO:proposal_generator:{10: 7}\n",
      "INFO:proposal_generator:{11: 7}\n"
     ]
    },
    {
     "name": "stdout",
     "output_type": "stream",
     "text": [
      "making topology proposal\n"
     ]
    },
    {
     "name": "stderr",
     "output_type": "stream",
     "text": [
      "INFO:proposal_generator:{12: 7}\n",
      "INFO:proposal_generator:{13: 7}\n",
      "INFO:proposal_generator:{9: 8}\n",
      "INFO:proposal_generator:{10: 8}\n",
      "INFO:proposal_generator:{11: 8}\n",
      "INFO:proposal_generator:{12: 8}\n",
      "INFO:proposal_generator:{13: 8}\n",
      "INFO:proposal_generator:{9: 9}\n",
      "INFO:proposal_generator:{10: 9}\n",
      "INFO:proposal_generator:{11: 9}\n",
      "INFO:proposal_generator:{12: 9}\n",
      "INFO:proposal_generator:{13: 9}\n",
      "INFO:proposal_generator:Returning map that best satisfies matching_criterion\n",
      "INFO:proposal_generator:Finding best map using matching_criterion name\n",
      "INFO:proposal_generator:{9: 7}\n",
      "INFO:geometry:propose: performing forward proposal\n",
      "INFO:geometry:propose: unique new atoms detected; proceeding to _logp_propose...\n",
      "INFO:geometry:Conducting forward proposal...\n",
      "INFO:geometry:Computing proposal order with NetworkX...\n",
      "INFO:geometry:number of atoms to be placed: 8\n",
      "INFO:geometry:Atom index proposal order is [10, 14, 18, 13, 15, 17, 16, 19]\n",
      "INFO:geometry:omitted_bonds: []\n",
      "INFO:geometry:direction of proposal is forward; creating atoms_with_positions and new positions from old system/topology...\n"
     ]
    },
    {
     "name": "stdout",
     "output_type": "stream",
     "text": [
      "generating geometry engine\n",
      "making geometry proposal from ALA to THR\n"
     ]
    },
    {
     "name": "stderr",
     "output_type": "stream",
     "text": [
      "INFO:geometry:creating growth system...\n",
      "INFO:geometry:\tcreating bond force...\n",
      "INFO:geometry:\tthere are 11 bonds in reference force.\n",
      "INFO:geometry:\tcreating angle force...\n",
      "INFO:geometry:\tthere are 43 angles in reference force.\n",
      "INFO:geometry:\tcreating torsion force...\n",
      "INFO:geometry:\tcreating extra torsions force...\n",
      "INFO:geometry:\tthere are 72 torsions in reference force.\n",
      "INFO:geometry:\tcreating nonbonded force...\n",
      "INFO:geometry:\t\tgrabbing reference nonbonded method, cutoff, switching function, switching distance...\n",
      "INFO:geometry:\t\tcreating nonbonded exception force (i.e. custom bond for 1,4s)...\n",
      "INFO:geometry:\t\tlooping through exceptions calculating growth indices, and adding appropriate interactions to custom bond force.\n",
      "INFO:geometry:\t\tthere are 1654 in the reference Nonbonded force\n",
      "WARNING:geometry:\t\t\t\t\tchiral atom <Atom 8 (CA) of chain 0 residue 1 (THR)> with neighbors [<Atom 9 (HA) of chain 0 residue 1 (THR)>, <Atom 10 (CB) of chain 0 residue 1 (THR)>, <Atom 11 (C) of chain 0 residue 1 (THR)>, <Atom 6 (N) of chain 0 residue 1 (THR)>] is surrounded by 3 core neighbors.  omitting chirality bias torsion\n",
      "INFO:geometry:Neglected angle terms : []\n",
      "INFO:geometry:omitted_growth_terms: {'bonds': [], 'angles': [], 'torsions': [], '1,4s': []}\n",
      "INFO:geometry:extra torsions: {0: (7, 6, 8, 10, [1, Quantity(value=0.9900002084555819, unit=radian), Quantity(value=1200.0, unit=kilocalorie/mole), 1]), 1: (19, 18, 10, 8, [1, Quantity(value=-0.07858019216845058, unit=radian), Quantity(value=1200.0, unit=kilocalorie/mole), 8]), 2: (19, 18, 10, 14, [1, Quantity(value=2.118586571250296, unit=radian), Quantity(value=1200.0, unit=kilocalorie/mole), 8]), 3: (19, 18, 10, 13, [1, Quantity(value=-2.149781203448759, unit=radian), Quantity(value=1200.0, unit=kilocalorie/mole), 8]), 4: (8, 10, 14, 17, [1, Quantity(value=-2.1249532223845904, unit=radian), Quantity(value=1200.0, unit=kilocalorie/mole), 6]), 5: (8, 10, 14, 16, [1, Quantity(value=2.0543043017157916, unit=radian), Quantity(value=1200.0, unit=kilocalorie/mole), 7]), 6: (8, 10, 14, 15, [1, Quantity(value=-0.02223392579985184, unit=radian), Quantity(value=1200.0, unit=kilocalorie/mole), 5]), 7: (18, 10, 14, 17, [1, Quantity(value=2.0255587336734213, unit=radian), Quantity(value=1200.0, unit=kilocalorie/mole), 6]), 8: (18, 10, 14, 16, [1, Quantity(value=-0.07836904940578293, unit=radian), Quantity(value=1200.0, unit=kilocalorie/mole), 7]), 9: (18, 10, 14, 15, [1, Quantity(value=-2.154907276921426, unit=radian), Quantity(value=1200.0, unit=kilocalorie/mole), 5]), 10: (13, 10, 14, 17, [1, Quantity(value=0.007583009583349565, unit=radian), Quantity(value=1200.0, unit=kilocalorie/mole), 6]), 11: (13, 10, 14, 16, [1, Quantity(value=-2.096344773495849, unit=radian), Quantity(value=1200.0, unit=kilocalorie/mole), 7]), 12: (13, 10, 14, 15, [1, Quantity(value=2.1103023061680943, unit=radian), Quantity(value=1200.0, unit=kilocalorie/mole), 5]), 13: (14, 10, 8, 18, [1, Quantity(value=1.0655064807976995, unit=radian), Quantity(value=1200.0, unit=kilocalorie/mole), 3])}\n",
      "INFO:geometry:neglected angle terms include []\n",
      "INFO:geometry:log probability choice of torsions and atom order: -13.553917196274867\n",
      "INFO:geometry:creating platform, integrators, and contexts; setting growth parameter\n"
     ]
    },
    {
     "name": "stdout",
     "output_type": "stream",
     "text": [
      "conducting subsequent work with the following platform: CUDA\n"
     ]
    },
    {
     "name": "stderr",
     "output_type": "stream",
     "text": [
      "INFO:geometry:setting atoms_with_positions context new positions\n"
     ]
    },
    {
     "name": "stdout",
     "output_type": "stream",
     "text": [
      "conducting subsequent work with the following platform: CUDA\n"
     ]
    },
    {
     "name": "stderr",
     "output_type": "stream",
     "text": [
      "INFO:geometry:There are 8 new atoms\n",
      "INFO:geometry:\treduced angle potential = 0.19711556435713273.\n",
      "INFO:geometry:\treduced angle potential = 0.5063325081267936.\n",
      "INFO:geometry:\treduced angle potential = 0.0010634705818818718.\n",
      "INFO:geometry:\treduced angle potential = 1.5533562600417.\n",
      "INFO:geometry:\treduced angle potential = 0.012891566226709741.\n",
      "INFO:geometry:\treduced angle potential = 0.05115620283566464.\n",
      "INFO:geometry:\treduced angle potential = 0.037791316896063146.\n",
      "INFO:geometry:\treduced angle potential = 0.8116170349519928.\n",
      "INFO:geometry:\tbeginning construction of no_nonbonded final system...\n",
      "INFO:geometry:\tinitial no-nonbonded final system forces ['HarmonicBondForce', 'HarmonicAngleForce', 'PeriodicTorsionForce', 'NonbondedForce', 'MonteCarloBarostat']\n",
      "INFO:geometry:\tfinal no-nonbonded final system forces dict_keys(['HarmonicBondForce', 'HarmonicAngleForce', 'PeriodicTorsionForce', 'NonbondedForce'])\n",
      "INFO:geometry:\tthere are 11 bond forces in the no-nonbonded final system\n",
      "INFO:geometry:\tthere are 43 angle forces in the no-nonbonded final system\n",
      "INFO:geometry:\tthere are 72 torsion forces in the no-nonbonded final system\n",
      "INFO:geometry:forward final system defined with 0 neglected angles.\n"
     ]
    },
    {
     "name": "stdout",
     "output_type": "stream",
     "text": [
      "conducting subsequent work with the following platform: CUDA\n",
      "conducting subsequent work with the following platform: CUDA\n"
     ]
    },
    {
     "name": "stderr",
     "output_type": "stream",
     "text": [
      "INFO:geometry:total reduced potential before atom placement: 9.11648114171204\n"
     ]
    },
    {
     "name": "stdout",
     "output_type": "stream",
     "text": [
      "conducting subsequent work with the following platform: CUDA\n",
      "conducting subsequent work with the following platform: CUDA\n",
      "conducting subsequent work with the following platform: CUDA\n"
     ]
    },
    {
     "name": "stderr",
     "output_type": "stream",
     "text": [
      "INFO:geometry:total reduced energy added from growth system: -47.92948920147241\n",
      "INFO:geometry:final reduced energy -38.81301025997128\n",
      "INFO:geometry:sum of energies: -38.813008059760364\n",
      "INFO:geometry:magnitude of difference in the energies: 2.200210914793388e-06\n",
      "INFO:geometry:Final logp_proposal: 61.14866449814366\n"
     ]
    },
    {
     "name": "stdout",
     "output_type": "stream",
     "text": [
      "added energy components: [('CustomBondForce', 3.2249312816828275), ('CustomAngleForce', 4.471500203887942), ('CustomTorsionForce', 18.788803641799632), ('CustomBondForce', -74.41472432884282)]\n"
     ]
    },
    {
     "name": "stderr",
     "output_type": "stream",
     "text": [
      "INFO:geometry:logp_reverse: performing reverse proposal\n",
      "INFO:geometry:logp_reverse: unique new atoms detected; proceeding to _logp_propose...\n",
      "INFO:geometry:Conducting forward proposal...\n",
      "INFO:geometry:Computing proposal order with NetworkX...\n",
      "INFO:geometry:number of atoms to be placed: 4\n",
      "INFO:geometry:Atom index proposal order is [10, 13, 11, 12]\n",
      "INFO:geometry:omitted_bonds: []\n",
      "INFO:geometry:direction of proposal is reverse; creating atoms_with_positions from old system/topology\n",
      "INFO:geometry:creating growth system...\n",
      "INFO:geometry:\tcreating bond force...\n",
      "INFO:geometry:\tthere are 9 bonds in reference force.\n",
      "INFO:geometry:\tcreating angle force...\n",
      "INFO:geometry:\tthere are 36 angles in reference force.\n",
      "INFO:geometry:\tcreating torsion force...\n",
      "INFO:geometry:\tcreating extra torsions force...\n",
      "INFO:geometry:\tthere are 42 torsions in reference force.\n",
      "INFO:geometry:\tcreating nonbonded force...\n",
      "INFO:geometry:\t\tgrabbing reference nonbonded method, cutoff, switching function, switching distance...\n",
      "INFO:geometry:\t\tcreating nonbonded exception force (i.e. custom bond for 1,4s)...\n",
      "INFO:geometry:\t\tlooping through exceptions calculating growth indices, and adding appropriate interactions to custom bond force.\n",
      "INFO:geometry:\t\tthere are 1631 in the reference Nonbonded force\n",
      "WARNING:geometry:\t\t\t\t\tchiral atom <Atom 8 (CA) of chain 0 residue 1 (ALA)> with neighbors [<Atom 9 (HA) of chain 0 residue 1 (ALA)>, <Atom 10 (CB) of chain 0 residue 1 (ALA)>, <Atom 14 (C) of chain 0 residue 1 (ALA)>, <Atom 6 (N) of chain 0 residue 1 (ALA)>] is surrounded by 3 core neighbors.  omitting chirality bias torsion\n",
      "INFO:geometry:Neglected angle terms : []\n",
      "INFO:geometry:omitted_growth_terms: {'bonds': [], 'angles': [], 'torsions': [], '1,4s': []}\n",
      "INFO:geometry:extra torsions: {0: (7, 6, 8, 10, [1, Quantity(value=0.9799661941737812, unit=radian), Quantity(value=1200.0, unit=kilocalorie/mole), 1]), 1: (6, 8, 10, 11, [1, Quantity(value=2.105358864604291, unit=radian), Quantity(value=1200.0, unit=kilocalorie/mole), 3]), 2: (6, 8, 10, 12, [1, Quantity(value=-2.0823006129211796, unit=radian), Quantity(value=1200.0, unit=kilocalorie/mole), 4]), 3: (6, 8, 10, 13, [1, Quantity(value=0.018582237407944735, unit=radian), Quantity(value=1200.0, unit=kilocalorie/mole), 2]), 4: (14, 8, 10, 11, [1, Quantity(value=-0.036945135932107576, unit=radian), Quantity(value=1200.0, unit=kilocalorie/mole), 3]), 5: (14, 8, 10, 12, [1, Quantity(value=2.0585806937220097, unit=radian), Quantity(value=1200.0, unit=kilocalorie/mole), 4]), 6: (14, 8, 10, 13, [1, Quantity(value=-2.1237217631284597, unit=radian), Quantity(value=1200.0, unit=kilocalorie/mole), 2]), 7: (9, 8, 10, 11, [1, Quantity(value=-2.119603470065817, unit=radian), Quantity(value=1200.0, unit=kilocalorie/mole), 3]), 8: (9, 8, 10, 12, [1, Quantity(value=-0.024077640411697132, unit=radian), Quantity(value=1200.0, unit=kilocalorie/mole), 4]), 9: (9, 8, 10, 13, [1, Quantity(value=2.0768052099174152, unit=radian), Quantity(value=1200.0, unit=kilocalorie/mole), 2])}\n",
      "INFO:geometry:neglected angle terms include []\n",
      "INFO:geometry:log probability choice of torsions and atom order: -5.78074351579233\n",
      "INFO:geometry:creating platform, integrators, and contexts; setting growth parameter\n"
     ]
    },
    {
     "name": "stdout",
     "output_type": "stream",
     "text": [
      "conducting subsequent work with the following platform: CUDA\n"
     ]
    },
    {
     "name": "stderr",
     "output_type": "stream",
     "text": [
      "INFO:geometry:setting atoms_with_positions context old positions\n"
     ]
    },
    {
     "name": "stdout",
     "output_type": "stream",
     "text": [
      "conducting subsequent work with the following platform: CUDA\n"
     ]
    },
    {
     "name": "stderr",
     "output_type": "stream",
     "text": [
      "INFO:geometry:There are 4 new atoms\n",
      "INFO:geometry:\treduced angle potential = 0.3517324280898812.\n",
      "INFO:geometry:\treduced angle potential = 7.39096069988752e-11.\n",
      "INFO:geometry:\treduced angle potential = 1.2915588460963948e-10.\n",
      "INFO:geometry:\treduced angle potential = 3.205832446488702e-13.\n",
      "INFO:geometry:\tbeginning construction of no_nonbonded final system...\n",
      "INFO:geometry:\tinitial no-nonbonded final system forces ['HarmonicBondForce', 'HarmonicAngleForce', 'PeriodicTorsionForce', 'NonbondedForce']\n",
      "INFO:geometry:\tfinal no-nonbonded final system forces dict_keys(['HarmonicBondForce', 'HarmonicAngleForce', 'PeriodicTorsionForce', 'NonbondedForce'])\n",
      "INFO:geometry:\tthere are 9 bond forces in the no-nonbonded final system\n",
      "INFO:geometry:\tthere are 36 angle forces in the no-nonbonded final system\n",
      "INFO:geometry:\tthere are 42 torsion forces in the no-nonbonded final system\n",
      "INFO:geometry:reverse final system defined with 0 neglected angles.\n"
     ]
    },
    {
     "name": "stdout",
     "output_type": "stream",
     "text": [
      "conducting subsequent work with the following platform: CUDA\n",
      "conducting subsequent work with the following platform: CUDA\n"
     ]
    },
    {
     "name": "stderr",
     "output_type": "stream",
     "text": [
      "INFO:geometry:total reduced potential before atom placement: 9.11648114171204\n"
     ]
    },
    {
     "name": "stdout",
     "output_type": "stream",
     "text": [
      "conducting subsequent work with the following platform: CUDA\n",
      "conducting subsequent work with the following platform: CUDA\n",
      "conducting subsequent work with the following platform: CUDA\n"
     ]
    },
    {
     "name": "stderr",
     "output_type": "stream",
     "text": [
      "INFO:geometry:total reduced energy added from growth system: 20.672986672125617\n",
      "INFO:geometry:final reduced energy 29.78946596595154\n",
      "INFO:geometry:sum of energies: 29.789467813837657\n",
      "INFO:geometry:magnitude of difference in the energies: 1.8478861179005435e-06\n",
      "INFO:geometry:Final logp_proposal: -26852.091213679538\n"
     ]
    },
    {
     "name": "stdout",
     "output_type": "stream",
     "text": [
      "added energy components: [('CustomBondForce', 0.000520203927326505), ('CustomAngleForce', 0.4511197756248138), ('CustomTorsionForce', 7.250463328533253), ('CustomBondForce', 12.970883364040223)]\n"
     ]
    },
    {
     "name": "stderr",
     "output_type": "stream",
     "text": [
      "INFO:relative:*** Generating RxnHybridTopologyFactory ***\n",
      "INFO:relative:Beginning nonbonded method, total particle, barostat, and exceptions retrieval...\n",
      "INFO:relative:Old system forces: dict_keys(['HarmonicBondForce', 'HarmonicAngleForce', 'PeriodicTorsionForce', 'NonbondedForce'])\n",
      "INFO:relative:New system forces: dict_keys(['HarmonicBondForce', 'HarmonicAngleForce', 'PeriodicTorsionForce', 'NonbondedForce', 'MonteCarloBarostat'])\n",
      "INFO:relative:No unknown forces.\n",
      "INFO:relative:Nonbonded method to be used (i.e. from old system): 0\n",
      "INFO:relative:Adding and mapping old atoms to hybrid system...\n",
      "INFO:relative:Adding and mapping new atoms to hybrid system...\n",
      "INFO:relative:scale_templates: [['nonscale_lambda', 'scale_lambda_0', 'interscale_lambda_0'], ['nonscale_region', 'scale_region_0', 'interscale_region_0']]\n",
      "INFO:relative:particle (nonbonded) scale_templates: [['nonscale_lambda', 'scale_lambda_0'], ['nonscale_region1', 'scale_region_01'], ['nonscale_region2', 'scale_region_02']]\n",
      "INFO:relative:No MonteCarloBarostat added.\n",
      "INFO:relative:getDefaultPeriodicBoxVectors added to hybrid: [Quantity(value=Vec3(x=2.56477354, y=0.0, z=0.0), unit=nanometer), Quantity(value=Vec3(x=0.0, y=2.56477354, z=0.0), unit=nanometer), Quantity(value=Vec3(x=0.0, y=0.0, z=2.56477354), unit=nanometer)]\n",
      "INFO:relative:Determined atom classes.\n",
      "INFO:relative:Generating old system exceptions dict...\n",
      "INFO:relative:Generating new system exceptions dict...\n",
      "INFO:relative:Handling constraints...\n",
      "INFO:relative:Handling virtual sites...\n",
      "INFO:relative:\t_handle_virtual_sites: numVirtualSites: 0\n"
     ]
    }
   ],
   "source": [
    "# Create a htf\n",
    "atp, system_generator = generate_atp(phase = 'solvent')\n",
    "atp.system.getForce(3).setNonbondedMethod(openmm.NonbondedForce.NoCutoff)\n",
    "atp.system.getForce(3).setUseDispersionCorrection(False)\n",
    "for i in range(atp.system.getNumForces()):\n",
    "    if i == 3:\n",
    "        atp.system.getForce(i).setExceptionsUsePeriodicBoundaryConditions(False)\n",
    "    elif i < 3: # do not set PBCs for barostat\n",
    "        atp.system.getForce(i).setUsesPeriodicBoundaryConditions(False)\n",
    "atp.system.removeForce(4) # Remove barostat\n",
    "htf = generate_dipeptide_top_pos_sys(atp.topology, \n",
    "                               'THR', \n",
    "                               atp.system, \n",
    "                               atp.positions, \n",
    "                               system_generator,\n",
    "                                rxn_field=True,\n",
    "                               flatten_torsions=True,\n",
    "                               flatten_exceptions=True,\n",
    "                               validate_endstate_energy=False,\n",
    "                                conduct_htf_prop=True, \n",
    "                                scale_regions=[[10, 11, 12, 13, 1557, 1558, 1559, 1560, 1561, 1562, 1563, 1564]])\n",
    "\n",
    "\n",
    "htf._topology_proposal.new_system.getForce(3).setNonbondedMethod(openmm.NonbondedForce.NoCutoff)\n",
    "htf._topology_proposal.new_system.getForce(3).setUseDispersionCorrection(False)\n",
    "htf._topology_proposal.new_system.removeForce(4) # Remove barostat"
   ]
  },
  {
   "cell_type": "code",
   "execution_count": 60,
   "id": "e4f8824e",
   "metadata": {},
   "outputs": [],
   "source": [
    "# Save htf\n",
    "with open(\"atp_solvent_scale_region.pickle\", \"wb\") as f:\n",
    "    pickle.dump(htf, f)"
   ]
  },
  {
   "cell_type": "markdown",
   "id": "3576b206",
   "metadata": {},
   "source": [
    "#### Old system HarmonicBondForce vs hybrid system CustomBondForce"
   ]
  },
  {
   "cell_type": "code",
   "execution_count": 61,
   "id": "f714b6e7",
   "metadata": {},
   "outputs": [],
   "source": [
    "# Load htf\n",
    "with open(\"/home/zhangi/choderalab/perses_benchmark/perses_protein_mutations/code/26_rxn_field/atp_solvent_scale_region.pickle\", \"rb\") as f:\n",
    "    htf = pickle.load(f)"
   ]
  },
  {
   "cell_type": "code",
   "execution_count": 62,
   "id": "fca19e10",
   "metadata": {},
   "outputs": [
    {
     "data": {
      "text/plain": [
       "[10, 11, 12, 13, 1557, 1558, 1559, 1560, 1561, 1562, 1563, 1564]"
      ]
     },
     "execution_count": 62,
     "metadata": {},
     "output_type": "execute_result"
    }
   ],
   "source": [
    "# This is the scale region\n",
    "list(htf._atom_classes['unique_old_atoms'][0]) + list(htf._atom_classes['unique_new_atoms'][0])"
   ]
  },
  {
   "cell_type": "code",
   "execution_count": 63,
   "id": "eaffc419",
   "metadata": {
    "scrolled": false
   },
   "outputs": [
    {
     "name": "stdout",
     "output_type": "stream",
     "text": [
      "Warning: Returning CPU platform instead of requested platform <simtk.openmm.openmm.Platform; proxy of <Swig Object of type 'OpenMM::Platform *' at 0x2b9a91b55060> >\n",
      "conducting subsequent work with the following platform: CPU\n",
      "conducting subsequent work with the following platform: CUDA\n",
      "[('HarmonicBondForce', 0.03455176254144571), ('HarmonicAngleForce', 0.6072023625714803), ('PeriodicTorsionForce', 16.17682896804984), ('NonbondedForce', -7741.198424138051), ('AndersenThermostat', 0.0)]\n",
      "conducting subsequent work with the following platform: CUDA\n",
      "[('CustomBondForce', 3.259483044224273), ('CustomAngleForce', 5.078702566459422), ('CustomTorsionForce', 16.176833930682243), ('CustomNonbondedForce', -7823.285446356815), ('CustomNonbondedForce', 1278.0467883801186), ('CustomBondForce', 82.08711377403033), ('CustomBondForce', 8.413314804589984), ('AndersenThermostat', 0.0)]\n",
      "Success! Custom nb force and standard nb force electrostatics energies are equal!\n",
      "conducting subsequent work with the following platform: CUDA\n",
      "[('CustomBondForce', 3.259483044224273), ('CustomAngleForce', 5.078702566459422), ('CustomTorsionForce', 16.176833930682243), ('CustomNonbondedForce', -7823.285446356815), ('CustomNonbondedForce', 1278.0467883801186), ('CustomBondForce', 82.08711377403033), ('CustomBondForce', 8.413314804589984), ('AndersenThermostat', 0.0)]\n",
      "conducting subsequent work with the following platform: CUDA\n",
      "[('CustomBondForce', 3.259483044224273), ('CustomAngleForce', 5.078702566459422), ('CustomTorsionForce', 16.176833930682243), ('CustomNonbondedForce', -7822.464351487902), ('CustomNonbondedForce', 1278.0467883801186), ('CustomBondForce', 82.08711377403033), ('CustomBondForce', 8.413314804589984), ('AndersenThermostat', 0.0)]\n",
      "Success! Scaling the custom nb electrostatics force changes the energy\n"
     ]
    },
    {
     "data": {
      "text/plain": [
       "<simtk.openmm.openmm.Context; proxy of <Swig Object of type 'OpenMM::Context *' at 0x2b9b0b4cdb70> >"
      ]
     },
     "execution_count": 63,
     "metadata": {},
     "output_type": "execute_result"
    }
   ],
   "source": [
    "test_nb_energies(htf, is_solvated=True, check_scale=True)\n"
   ]
  },
  {
   "cell_type": "code",
   "execution_count": 64,
   "id": "bca1106d",
   "metadata": {},
   "outputs": [],
   "source": [
    "# Load htf\n",
    "with open(\"/home/zhangi/choderalab/perses_benchmark/perses_protein_mutations/code/26_rxn_field/atp_solvent_scale_region.pickle\", \"rb\") as f:\n",
    "    htf = pickle.load(f)"
   ]
  },
  {
   "cell_type": "code",
   "execution_count": 65,
   "id": "20c6d80e",
   "metadata": {
    "scrolled": true
   },
   "outputs": [
    {
     "name": "stdout",
     "output_type": "stream",
     "text": [
      "Warning: Returning CPU platform instead of requested platform <simtk.openmm.openmm.Platform; proxy of <Swig Object of type 'OpenMM::Platform *' at 0x2b9a91b55060> >\n",
      "conducting subsequent work with the following platform: CPU\n",
      "conducting subsequent work with the following platform: CUDA\n",
      "[('HarmonicBondForce', 0.03455176254144571), ('HarmonicAngleForce', 0.6072023625714803), ('PeriodicTorsionForce', 16.17682896804984), ('NonbondedForce', 1286.4601254223019), ('AndersenThermostat', 0.0)]\n",
      "conducting subsequent work with the following platform: CUDA\n",
      "[('CustomBondForce', 3.259483044224273), ('CustomAngleForce', 5.078702566459422), ('CustomTorsionForce', 16.176833930682243), ('CustomNonbondedForce', -7823.285446356815), ('CustomNonbondedForce', 1278.0467883801186), ('CustomBondForce', 82.08711377403033), ('CustomBondForce', 8.413314804589984), ('AndersenThermostat', 0.0)]\n",
      "Success! Custom nb force and standard nb force sterics energies are equal!\n",
      "conducting subsequent work with the following platform: CUDA\n",
      "[('CustomBondForce', 3.259483044224273), ('CustomAngleForce', 5.078702566459422), ('CustomTorsionForce', 16.176833930682243), ('CustomNonbondedForce', -7823.285446356815), ('CustomNonbondedForce', 1278.0467883801186), ('CustomBondForce', 82.08711377403033), ('CustomBondForce', 8.413314804589984), ('AndersenThermostat', 0.0)]\n",
      "conducting subsequent work with the following platform: CUDA\n",
      "[('CustomBondForce', 3.259483044224273), ('CustomAngleForce', 5.078702566459422), ('CustomTorsionForce', 16.176833930682243), ('CustomNonbondedForce', -7823.285446356815), ('CustomNonbondedForce', 1276.7709851896086), ('CustomBondForce', 82.08711377403033), ('CustomBondForce', 8.413314804589984), ('AndersenThermostat', 0.0)]\n",
      "Success! Scaling the custom nb sterics force changes the energy\n"
     ]
    },
    {
     "data": {
      "text/plain": [
       "<simtk.openmm.openmm.Context; proxy of <Swig Object of type 'OpenMM::Context *' at 0x2b9ae811b600> >"
      ]
     },
     "execution_count": 65,
     "metadata": {},
     "output_type": "execute_result"
    }
   ],
   "source": [
    "test_nb_energies(htf, is_electrostatics=False, is_solvated=True, check_scale=True)\n"
   ]
  },
  {
   "cell_type": "markdown",
   "id": "2e0b009a",
   "metadata": {},
   "source": [
    "#### New system HarmonicBondForce vs hybrid system CustomBondForce"
   ]
  },
  {
   "cell_type": "code",
   "execution_count": 66,
   "id": "a1d202a2",
   "metadata": {},
   "outputs": [],
   "source": [
    "# Load htf\n",
    "with open(\"/home/zhangi/choderalab/perses_benchmark/perses_protein_mutations/code/26_rxn_field/atp_solvent_scale_region.pickle\", \"rb\") as f:\n",
    "    htf = pickle.load(f)"
   ]
  },
  {
   "cell_type": "code",
   "execution_count": 67,
   "id": "3d6aaf36",
   "metadata": {
    "scrolled": true
   },
   "outputs": [
    {
     "name": "stdout",
     "output_type": "stream",
     "text": [
      "Warning: Returning CPU platform instead of requested platform <simtk.openmm.openmm.Platform; proxy of <Swig Object of type 'OpenMM::Platform *' at 0x2b9a91b55060> >\n",
      "conducting subsequent work with the following platform: CPU\n",
      "conducting subsequent work with the following platform: CUDA\n",
      "[('HarmonicBondForce', 3.2589628402969466), ('HarmonicAngleForce', 4.627582790834608), ('PeriodicTorsionForce', 27.715169874271666), ('NonbondedForce', -7779.43554294078), ('AndersenThermostat', 0.0)]\n",
      "conducting subsequent work with the following platform: CUDA\n",
      "[('CustomBondForce', 3.259483044224273), ('CustomAngleForce', 5.078702566459422), ('CustomTorsionForce', 16.176833930682243), ('CustomNonbondedForce', -7775.098376588055), ('CustomNonbondedForce', 1278.0467883801186), ('CustomBondForce', -4.33707519559398), ('CustomBondForce', 8.413314804589984), ('AndersenThermostat', 0.0)]\n",
      "Success! Custom nb force and standard nb force electrostatics energies are equal!\n",
      "conducting subsequent work with the following platform: CUDA\n",
      "[('CustomBondForce', 3.259483044224273), ('CustomAngleForce', 5.078702566459422), ('CustomTorsionForce', 16.176833930682243), ('CustomNonbondedForce', -7823.285446356815), ('CustomNonbondedForce', 1278.0467883801186), ('CustomBondForce', 82.08711377403033), ('CustomBondForce', 8.413314804589984), ('AndersenThermostat', 0.0)]\n",
      "conducting subsequent work with the following platform: CUDA\n",
      "[('CustomBondForce', 3.259483044224273), ('CustomAngleForce', 5.078702566459422), ('CustomTorsionForce', 16.176833930682243), ('CustomNonbondedForce', -7822.464351487902), ('CustomNonbondedForce', 1278.0467883801186), ('CustomBondForce', 82.08711377403033), ('CustomBondForce', 8.413314804589984), ('AndersenThermostat', 0.0)]\n",
      "Success! Scaling the custom nb electrostatics force changes the energy\n"
     ]
    },
    {
     "data": {
      "text/plain": [
       "<simtk.openmm.openmm.Context; proxy of <Swig Object of type 'OpenMM::Context *' at 0x2b9ae710d930> >"
      ]
     },
     "execution_count": 67,
     "metadata": {},
     "output_type": "execute_result"
    }
   ],
   "source": [
    "test_nb_energies(htf, is_old=False, is_solvated=True, check_scale=True)"
   ]
  },
  {
   "cell_type": "code",
   "execution_count": 68,
   "id": "c57a07ef",
   "metadata": {},
   "outputs": [],
   "source": [
    "# Load htf\n",
    "with open(\"/home/zhangi/choderalab/perses_benchmark/perses_protein_mutations/code/26_rxn_field/atp_solvent_scale_region.pickle\", \"rb\") as f:\n",
    "    htf = pickle.load(f)"
   ]
  },
  {
   "cell_type": "code",
   "execution_count": 69,
   "id": "b63427ad",
   "metadata": {
    "scrolled": true
   },
   "outputs": [
    {
     "name": "stdout",
     "output_type": "stream",
     "text": [
      "Warning: Returning CPU platform instead of requested platform <simtk.openmm.openmm.Platform; proxy of <Swig Object of type 'OpenMM::Platform *' at 0x2b9a91b55060> >\n",
      "conducting subsequent work with the following platform: CPU\n",
      "conducting subsequent work with the following platform: CUDA\n",
      "[('HarmonicBondForce', 3.2589628402969466), ('HarmonicAngleForce', 4.627582790834608), ('PeriodicTorsionForce', 27.715169874271666), ('NonbondedForce', 1361.5327430487744), ('AndersenThermostat', 0.0)]\n",
      "conducting subsequent work with the following platform: CUDA\n",
      "[('CustomBondForce', 3.259483044224273), ('CustomAngleForce', 5.078702566459422), ('CustomTorsionForce', 16.176833930682243), ('CustomNonbondedForce', -7823.285446356815), ('CustomNonbondedForce', 1346.3953572817475), ('CustomBondForce', 82.08711377403033), ('CustomBondForce', 15.137338901589434), ('AndersenThermostat', 0.0)]\n",
      "Success! Custom nb force and standard nb force sterics energies are equal!\n",
      "conducting subsequent work with the following platform: CUDA\n",
      "[('CustomBondForce', 3.259483044224273), ('CustomAngleForce', 5.078702566459422), ('CustomTorsionForce', 16.176833930682243), ('CustomNonbondedForce', -7823.285446356815), ('CustomNonbondedForce', 1278.0467883801186), ('CustomBondForce', 82.08711377403033), ('CustomBondForce', 8.413314804589984), ('AndersenThermostat', 0.0)]\n",
      "conducting subsequent work with the following platform: CUDA\n",
      "[('CustomBondForce', 3.259483044224273), ('CustomAngleForce', 5.078702566459422), ('CustomTorsionForce', 16.176833930682243), ('CustomNonbondedForce', -7823.285446356815), ('CustomNonbondedForce', 1276.7709851896086), ('CustomBondForce', 82.08711377403033), ('CustomBondForce', 8.413314804589984), ('AndersenThermostat', 0.0)]\n",
      "Success! Scaling the custom nb sterics force changes the energy\n"
     ]
    },
    {
     "data": {
      "text/plain": [
       "<simtk.openmm.openmm.Context; proxy of <Swig Object of type 'OpenMM::Context *' at 0x2b9ae7098150> >"
      ]
     },
     "execution_count": 69,
     "metadata": {},
     "output_type": "execute_result"
    }
   ],
   "source": [
    "test_nb_energies(htf, is_electrostatics=False, is_old=False, is_solvated=True, check_scale=True)\n"
   ]
  },
  {
   "cell_type": "markdown",
   "id": "dd3a6ebd",
   "metadata": {},
   "source": [
    "# CDK2 transformation in solvent"
   ]
  },
  {
   "cell_type": "code",
   "execution_count": 3,
   "id": "0007ff9b",
   "metadata": {},
   "outputs": [
    {
     "name": "stdout",
     "output_type": "stream",
     "text": [
      "conducting subsequent work with the following platform: CUDA\n",
      "conducting subsequent work with the following platform: CUDA\n",
      "conducting subsequent work with the following platform: CUDA\n"
     ]
    }
   ],
   "source": [
    "import os\n",
    "from pkg_resources import resource_filename\n",
    "from perses.app import setup_relative_calculation\n",
    "import pickle"
   ]
  },
  {
   "cell_type": "code",
   "execution_count": 4,
   "id": "afad5b52",
   "metadata": {
    "scrolled": true
   },
   "outputs": [
    {
     "name": "stderr",
     "output_type": "stream",
     "text": [
      "2021-07-14 16:57:34,139:(0.00s):root:\tDetecting phases...\n",
      "2021-07-14 16:57:34,142:(0.00s):root:\t\tphases detected: ['complex', 'solvent', 'vacuum']\n",
      "2021-07-14 16:57:34,145:(0.00s):root:No constraints will be removed\n",
      "2021-07-14 16:57:34,147:(0.00s):root:No spectators\n",
      "2021-07-14 16:57:34,149:(0.00s):root:\t\t\trun_type is not specified; default to None\n",
      "2021-07-14 16:57:34,151:(0.00s):root:\tDetecting fe_type...\n",
      "2021-07-14 16:57:34,154:(0.00s):root:\t\tfe_type: repex\n",
      "2021-07-14 16:57:34,156:(0.00s):root:\t\t\toffline-freq not specified: default to 10.\n",
      "2021-07-14 16:57:34,158:(0.00s):root:\t'neglect_angles' detected: False.\n",
      "2021-07-14 16:57:34,160:(0.00s):root:\t'softcore_v2' not specified: default to 'False'\n",
      "2021-07-14 16:57:34,163:(0.00s):root:\tCreating 'output'...\n",
      "2021-07-14 16:57:34,167:(0.00s):root:\tdetected ligand file: /home/zhangi/miniconda3/envs/perses-rxn-field/lib/python3.8/site-packages/perses-0.9.0+78.gee97a4e.dirty-py3.8.egg/perses/data/cdk2-example/CDK2_ligands.sdf\n",
      "2021-07-14 16:57:34,168:(0.00s):root:\told ligand index: 14; new ligand index: 15\n",
      "2021-07-14 16:57:34,169:(0.00s):root:\tsetting up forcefield files...\n",
      "2021-07-14 16:57:34,170:(0.00s):root:\tno timestep detected: setting default as 1.0fs.\n",
      "2021-07-14 16:57:34,171:(0.00s):root:\tno splitting strings specified: defaulting to neq: V R O R V, eq: V R O R V.\n",
      "2021-07-14 16:57:34,172:(0.00s):root:\tno measure_shadow_work specified: defaulting to False.\n",
      "2021-07-14 16:57:34,179:(0.01s):root:\tsetting pressure: 1.0 atm.\n",
      "2021-07-14 16:57:34,180:(0.00s):root:\tsetting temperature: 300.0 K.\n",
      "2021-07-14 16:57:34,181:(0.00s):root:\tsetting solvent padding: 9.0 AA.\n",
      "2021-07-14 16:57:34,182:(0.00s):root:\tsetting ionic strength: 0.15 MM.\n",
      "2021-07-14 16:57:34,183:(0.00s):root:\tsetup pickle file: fesetup_hbonds.pkl\n",
      "2021-07-14 16:57:34,184:(0.00s):root:\ttrajectory directory: output\n",
      "2021-07-14 16:57:34,185:(0.00s):root:\tno atom map specified: default to None.\n",
      "2021-07-14 16:57:34,186:(0.00s):root:\tno topology_proposal specified; proceeding to RelativeFEPSetup...\n",
      "\n",
      "\n",
      "\n",
      "2021-07-14 16:57:34,186:(0.00s):root:Box dimensions: None and None\n",
      "2021-07-14 16:57:34,187:(0.00s):relative_setup:\t\t\t_hmass: 4 Da.\n",
      "\n",
      "2021-07-14 16:57:34,188:(0.00s):relative_setup:Setting non bonded method to PME\n",
      "2021-07-14 16:57:34,189:(0.00s):relative_setup:Handling files for ligands and indices...\n",
      "2021-07-14 16:57:34,190:(0.00s):relative_setup:Detected .sdf format.  Proceeding...\n",
      "2021-07-14 16:57:34,230:(0.04s):utils.openeye:molecule 17                      does not have unique atom names. Generating now...\n",
      "2021-07-14 16:57:34,238:(0.01s):utils.openeye:molecule 1h1q                      does not have unique atom names. Generating now...\n",
      "2021-07-14 16:57:34,244:(0.01s):relative_setup:\tsuccessfully extracted positions from OEMOL.\n",
      "2021-07-14 16:57:34,248:(0.00s):relative_setup:\tsetting both molecule oemol titles to 'MOL'.\n",
      "2021-07-14 16:57:34,251:(0.00s):relative_setup:\tsuccessfully created SMILES for both ligand OEMOLs.\n",
      "2021-07-14 16:57:34,255:(0.00s):relative_setup:\tsuccessfully generated topologies for both OEMOLs.\n",
      "2021-07-14 16:57:34,258:(0.00s):relative_setup:Created mdtraj topologies for both ligands.\n",
      "2021-07-14 16:57:34,261:(0.00s):relative_setup:set MonteCarloBarostat because pressure was specified as 1.0 atm atmospheres\n",
      "2021-07-14 16:57:34,279:(0.02s):relative_setup:PME tolerance: 0.00025\n",
      "2021-07-14 16:57:34,577:(0.30s):relative_setup:successfully created SystemGenerator to create ligand systems\n",
      "2021-07-14 16:57:34,580:(0.00s):relative_setup:executing SmallMoleculeSetProposalEngine...\n",
      "2021-07-14 16:57:34,583:(0.00s):relative_setup:instantiating FFAllAngleGeometryEngine...\n",
      "2021-07-14 16:57:34,585:(0.00s):relative_setup:Detected solvent...\n",
      "2021-07-14 16:57:34,588:(0.00s):relative_setup:no complex detected in phases...generating unique topology/geometry proposals...\n",
      "2021-07-14 16:57:34,590:(0.00s):relative_setup:solvating ligand...\n",
      "2021-07-14 16:57:34,592:(0.00s):relative_setup:box_dimensions: None\n",
      "2021-07-14 16:57:34,595:(0.00s):relative_setup:solvent padding: 9.0\n",
      "2021-07-14 16:57:34,597:(0.00s):relative_setup:\tpreparing to add solvent\n",
      "2021-07-14 16:57:35,152:(0.55s):openmmforcefields.generators.template_generators:Requested to generate parameters for residue <Residue 0 (MOL) of chain 0>\n",
      "2021-07-14 16:57:35,516:(0.36s):relative_setup:\tparameterizing...\n",
      "2021-07-14 16:57:35,854:(0.34s):relative_setup:\tSystem parameterized\n",
      "2021-07-14 16:57:35,923:(0.07s):relative_setup:creating TopologyProposal\n",
      "2021-07-14 16:57:35,926:(0.00s):proposal_generator:creating current receptor topology by removing small molecule from current topology...\n",
      "2021-07-14 16:57:36,074:(0.15s):proposal_generator:small molecule start index: 0\n",
      "2021-07-14 16:57:36,077:(0.00s):proposal_generator:small molecule has 45 atoms.\n",
      "2021-07-14 16:57:36,079:(0.00s):proposal_generator:old alchemical atom indices: range(0, 45)\n",
      "2021-07-14 16:57:36,081:(0.00s):proposal_generator:proposed mol detected with smiles [H]c1c(c(c(c(c1[H])[H])N([H])c2nc3c(c(n2)OC([H])([H])C4(C(C(C(C(C4([H])[H])([H])[H])([H])[H])([H])[H])([H])[H])[H])nc(n3[H])[H])[H])[H] and logp_proposal of 0.0\n",
      "2021-07-14 16:57:36,084:(0.00s):proposal_generator:conducting proposal from [H]c1c(c(c(c(c1[H])Br)[H])N([H])c2nc3c(c(n2)OC([H])([H])C4(C(C(C(C(C4([H])[H])([H])[H])([H])[H])([H])[H])([H])[H])[H])nc(n3[H])[H])[H] to [H]c1c(c(c(c(c1[H])[H])N([H])c2nc3c(c(n2)OC([H])([H])C4(C(C(C(C(C4([H])[H])([H])[H])([H])[H])([H])[H])([H])[H])[H])nc(n3[H])[H])[H])[H]...\n",
      "2021-07-14 16:57:36,086:(0.00s):proposal_generator:building new topology with proposed molecule and current receptor topology...\n",
      "2021-07-14 16:57:36,088:(0.00s):proposal_generator:\tsetting proposed oemol title to MOL\n",
      "2021-07-14 16:57:36,090:(0.00s):proposal_generator:\tcreating mol topology from oemol...\n",
      "2021-07-14 16:57:36,094:(0.00s):proposal_generator:\tappending current receptor topology to new mol topology...\n",
      "2021-07-14 16:57:36,111:(0.02s):proposal_generator:\tperiodic box vectors of the current receptor is specified; copying to new topology...\n",
      "2021-07-14 16:57:36,114:(0.00s):proposal_generator:new molecule has a start index of 2152 and 45 atoms.\n",
      "2021-07-14 16:57:36,116:(0.00s):proposal_generator:proceeding to build the new system from the new topology...\n",
      "2021-07-14 16:57:36,163:(0.05s):openmmforcefields.generators.template_generators:Requested to generate parameters for residue <Residue 720 (MOL) of chain 3>\n",
      "2021-07-14 16:57:36,506:(0.34s):proposal_generator:determining atom map between old and new molecules...\n",
      "2021-07-14 16:57:36,509:(0.00s):proposal_generator:the atom map is not specified; proceeding to generate an atom map...\n",
      "2021-07-14 16:57:36,511:(0.00s):proposal_generator:Using geometry to chose best atom map\n",
      "2021-07-14 16:57:36,527:(0.02s):proposal_generator:Scaffold has symmetry of 4\n",
      "2021-07-14 16:57:36,529:(0.00s):proposal_generator:There are 4 before filtering\n",
      "2021-07-14 16:57:36,531:(0.00s):proposal_generator:There are 4 after filtering to remove maps with fewer matches than 24 atoms\n",
      "2021-07-14 16:57:36,539:(0.01s):proposal_generator:1 scaffold maps for A\n",
      "2021-07-14 16:57:36,541:(0.00s):proposal_generator:Scaffold to molA: {0: 0, 1: 1, 2: 2, 3: 3, 8: 4, 7: 5, 6: 6, 5: 7, 4: 8, 11: 9, 10: 10, 9: 11, 23: 12, 13: 13, 14: 14, 15: 15, 16: 16, 17: 17, 18: 18, 19: 19, 20: 20, 21: 21, 22: 22, 12: 23}\n",
      "2021-07-14 16:57:36,549:(0.01s):proposal_generator:1 scaffold maps for B\n",
      "2021-07-14 16:57:36,551:(0.00s):proposal_generator:Scaffold to molB: {0: 0, 1: 1, 2: 2, 3: 3, 8: 4, 7: 5, 6: 6, 5: 7, 4: 8, 11: 9, 10: 10, 9: 11, 23: 12, 13: 13, 14: 14, 15: 15, 16: 16, 17: 17, 18: 18, 19: 19, 20: 20, 21: 21, 22: 22, 12: 23}\n",
      "2021-07-14 16:57:39,640:(3.09s):proposal_generator:4 maps are reduced to 1\n",
      "2021-07-14 16:57:39,643:(0.00s):proposal_generator:molecule_maps_scores: dict_keys([19.8560123167367])\n",
      "2021-07-14 16:57:39,645:(0.00s):proposal_generator:Returning map with closest geometry satisfaction\n",
      "2021-07-14 16:57:39,845:(0.20s):proposal_generator:Proposed transformation would delete 1 atoms and create 1 atoms.\n",
      "2021-07-14 16:57:39,848:(0.00s):relative_setup:conducting geometry proposal...\n",
      "2021-07-14 16:57:39,850:(0.00s):geometry:propose: performing forward proposal\n",
      "2021-07-14 16:57:39,853:(0.00s):geometry:propose: unique new atoms detected; proceeding to _logp_propose...\n"
     ]
    },
    {
     "name": "stderr",
     "output_type": "stream",
     "text": [
      "2021-07-14 16:57:39,855:(0.00s):geometry:Conducting forward proposal...\n",
      "2021-07-14 16:57:39,858:(0.00s):geometry:Computing proposal order with NetworkX...\n",
      "2021-07-14 16:57:39,875:(0.02s):geometry:number of atoms to be placed: 1\n",
      "2021-07-14 16:57:39,877:(0.00s):geometry:Atom index proposal order is [2190]\n",
      "2021-07-14 16:57:39,880:(0.00s):geometry:omitted_bonds: []\n",
      "2021-07-14 16:57:39,882:(0.00s):geometry:direction of proposal is forward; creating atoms_with_positions and new positions from old system/topology...\n",
      "2021-07-14 16:57:40,203:(0.32s):geometry:creating growth system...\n",
      "2021-07-14 16:57:40,283:(0.08s):geometry:\tcreating bond force...\n",
      "2021-07-14 16:57:40,286:(0.00s):geometry:\tthere are 27 bonds in reference force.\n",
      "2021-07-14 16:57:40,289:(0.00s):geometry:\tcreating angle force...\n",
      "2021-07-14 16:57:40,291:(0.00s):geometry:\tthere are 85 angles in reference force.\n",
      "2021-07-14 16:57:40,295:(0.00s):geometry:\tcreating torsion force...\n",
      "2021-07-14 16:57:40,297:(0.00s):geometry:\tcreating extra torsions force...\n",
      "2021-07-14 16:57:40,300:(0.00s):geometry:\tthere are 157 torsions in reference force.\n",
      "2021-07-14 16:57:40,304:(0.00s):geometry:\tcreating nonbonded force...\n",
      "2021-07-14 16:57:40,306:(0.00s):geometry:\t\tgrabbing reference nonbonded method, cutoff, switching function, switching distance...\n",
      "2021-07-14 16:57:40,308:(0.00s):geometry:\t\tcreating nonbonded exception force (i.e. custom bond for 1,4s)...\n",
      "2021-07-14 16:57:40,310:(0.00s):geometry:\t\tlooping through exceptions calculating growth indices, and adding appropriate interactions to custom bond force.\n",
      "2021-07-14 16:57:40,313:(0.00s):geometry:\t\tthere are 2395 in the reference Nonbonded force\n",
      "2021-07-14 16:57:40,411:(0.10s):geometry:Neglected angle terms : []\n",
      "2021-07-14 16:57:40,414:(0.00s):geometry:omitted_growth_terms: {'bonds': [], 'angles': [], 'torsions': [], '1,4s': []}\n",
      "2021-07-14 16:57:40,416:(0.00s):geometry:extra torsions: {0: (2190, 2161, 2162, 2163, [1, Quantity(value=-0.019594642035228205, unit=radian), Quantity(value=1200.0, unit=kilocalorie/mole), 1]), 1: (2190, 2161, 2162, 2191, [1, Quantity(value=-3.1361896196768977, unit=radian), Quantity(value=1200.0, unit=kilocalorie/mole), 1]), 2: (2190, 2161, 2175, 2174, [1, Quantity(value=-0.008871224163264912, unit=radian), Quantity(value=1200.0, unit=kilocalorie/mole), 1]), 3: (2190, 2161, 2175, 2196, [1, Quantity(value=3.1405837865634907, unit=radian), Quantity(value=1200.0, unit=kilocalorie/mole), 1])}\n",
      "2021-07-14 16:57:40,418:(0.00s):geometry:neglected angle terms include []\n",
      "2021-07-14 16:57:40,421:(0.00s):geometry:log probability choice of torsions and atom order: -1.3862943611198906\n",
      "2021-07-14 16:57:40,423:(0.00s):geometry:creating platform, integrators, and contexts; setting growth parameter\n"
     ]
    },
    {
     "name": "stdout",
     "output_type": "stream",
     "text": [
      "conducting subsequent work with the following platform: CUDA\n"
     ]
    },
    {
     "name": "stderr",
     "output_type": "stream",
     "text": [
      "2021-07-14 16:57:41,040:(0.62s):geometry:setting atoms_with_positions context new positions\n"
     ]
    },
    {
     "name": "stdout",
     "output_type": "stream",
     "text": [
      "conducting subsequent work with the following platform: CUDA\n"
     ]
    },
    {
     "name": "stderr",
     "output_type": "stream",
     "text": [
      "2021-07-14 16:57:41,488:(0.45s):geometry:There are 1 new atoms\n",
      "2021-07-14 16:57:41,500:(0.01s):geometry:\treduced angle potential = 1.5958891514392612.\n",
      "2021-07-14 16:57:41,653:(0.15s):geometry:\tbeginning construction of no_nonbonded final system...\n",
      "2021-07-14 16:57:41,656:(0.00s):geometry:\tinitial no-nonbonded final system forces ['HarmonicBondForce', 'HarmonicAngleForce', 'PeriodicTorsionForce', 'NonbondedForce', 'MonteCarloBarostat']\n",
      "2021-07-14 16:57:41,871:(0.21s):geometry:\tfinal no-nonbonded final system forces dict_keys(['HarmonicBondForce', 'HarmonicAngleForce', 'PeriodicTorsionForce', 'NonbondedForce'])\n",
      "2021-07-14 16:57:41,874:(0.00s):geometry:\tthere are 27 bond forces in the no-nonbonded final system\n",
      "2021-07-14 16:57:41,876:(0.00s):geometry:\tthere are 85 angle forces in the no-nonbonded final system\n",
      "2021-07-14 16:57:41,879:(0.00s):geometry:\tthere are 157 torsion forces in the no-nonbonded final system\n",
      "2021-07-14 16:57:41,881:(0.00s):geometry:forward final system defined with 0 neglected angles.\n"
     ]
    },
    {
     "name": "stdout",
     "output_type": "stream",
     "text": [
      "conducting subsequent work with the following platform: CUDA\n",
      "conducting subsequent work with the following platform: CUDA\n"
     ]
    },
    {
     "name": "stderr",
     "output_type": "stream",
     "text": [
      "2021-07-14 16:57:43,031:(1.15s):geometry:total reduced potential before atom placement: 48.41967204742058\n"
     ]
    },
    {
     "name": "stdout",
     "output_type": "stream",
     "text": [
      "conducting subsequent work with the following platform: CUDA\n",
      "conducting subsequent work with the following platform: CUDA\n",
      "conducting subsequent work with the following platform: CUDA\n"
     ]
    },
    {
     "name": "stderr",
     "output_type": "stream",
     "text": [
      "2021-07-14 16:57:44,405:(1.37s):geometry:total reduced energy added from growth system: 10.99256812471518\n",
      "2021-07-14 16:57:44,408:(0.00s):geometry:final reduced energy 59.41224082231347\n",
      "2021-07-14 16:57:44,411:(0.00s):geometry:sum of energies: 59.41224017213577\n",
      "2021-07-14 16:57:44,413:(0.00s):geometry:magnitude of difference in the energies: 6.501777072287496e-07\n",
      "2021-07-14 16:57:44,415:(0.00s):geometry:Final logp_proposal: 6.903457084039831\n"
     ]
    },
    {
     "name": "stdout",
     "output_type": "stream",
     "text": [
      "added energy components: [('CustomBondForce', 0.0), ('CustomAngleForce', 3.011672283821379), ('CustomTorsionForce', 0.006025509093586868), ('CustomBondForce', 7.974870331800213)]\n"
     ]
    },
    {
     "name": "stderr",
     "output_type": "stream",
     "text": [
      "2021-07-14 16:57:44,576:(0.16s):geometry:logp_reverse: performing reverse proposal\n",
      "2021-07-14 16:57:44,579:(0.00s):geometry:logp_reverse: unique new atoms detected; proceeding to _logp_propose...\n",
      "2021-07-14 16:57:44,582:(0.00s):geometry:Conducting forward proposal...\n",
      "2021-07-14 16:57:44,585:(0.00s):geometry:Computing proposal order with NetworkX...\n",
      "2021-07-14 16:57:44,603:(0.02s):geometry:number of atoms to be placed: 1\n",
      "2021-07-14 16:57:44,607:(0.00s):geometry:Atom index proposal order is [44]\n",
      "2021-07-14 16:57:44,609:(0.00s):geometry:omitted_bonds: []\n",
      "2021-07-14 16:57:44,612:(0.00s):geometry:direction of proposal is reverse; creating atoms_with_positions from old system/topology\n",
      "2021-07-14 16:57:45,029:(0.42s):geometry:creating growth system...\n",
      "2021-07-14 16:57:45,108:(0.08s):geometry:\tcreating bond force...\n",
      "2021-07-14 16:57:45,111:(0.00s):geometry:\tthere are 28 bonds in reference force.\n",
      "2021-07-14 16:57:45,115:(0.00s):geometry:\tcreating angle force...\n",
      "2021-07-14 16:57:45,117:(0.00s):geometry:\tthere are 85 angles in reference force.\n",
      "2021-07-14 16:57:45,121:(0.00s):geometry:\tcreating torsion force...\n",
      "2021-07-14 16:57:45,124:(0.00s):geometry:\tcreating extra torsions force...\n",
      "2021-07-14 16:57:45,126:(0.00s):geometry:\tthere are 157 torsions in reference force.\n",
      "2021-07-14 16:57:45,131:(0.00s):geometry:\tcreating nonbonded force...\n",
      "2021-07-14 16:57:45,133:(0.00s):geometry:\t\tgrabbing reference nonbonded method, cutoff, switching function, switching distance...\n",
      "2021-07-14 16:57:45,136:(0.00s):geometry:\t\tcreating nonbonded exception force (i.e. custom bond for 1,4s)...\n",
      "2021-07-14 16:57:45,138:(0.00s):geometry:\t\tlooping through exceptions calculating growth indices, and adding appropriate interactions to custom bond force.\n",
      "2021-07-14 16:57:45,141:(0.00s):geometry:\t\tthere are 2395 in the reference Nonbonded force\n",
      "2021-07-14 16:57:45,238:(0.10s):geometry:Neglected angle terms : []\n",
      "2021-07-14 16:57:45,242:(0.00s):geometry:omitted_growth_terms: {'bonds': [], 'angles': [], 'torsions': [], '1,4s': []}\n",
      "2021-07-14 16:57:45,246:(0.00s):geometry:extra torsions: {0: (9, 10, 11, 44, [1, Quantity(value=0.017128570696415935, unit=radian), Quantity(value=1200.0, unit=kilocalorie/mole), 1]), 1: (39, 10, 11, 44, [1, Quantity(value=3.1337857477223063, unit=radian), Quantity(value=1200.0, unit=kilocalorie/mole), 1]), 2: (44, 11, 12, 22, [1, Quantity(value=0.00863885124394681, unit=radian), Quantity(value=1200.0, unit=kilocalorie/mole), 1]), 3: (44, 11, 12, 40, [1, Quantity(value=-3.1382699121359634, unit=radian), Quantity(value=1200.0, unit=kilocalorie/mole), 1])}\n",
      "2021-07-14 16:57:45,249:(0.00s):geometry:neglected angle terms include []\n",
      "2021-07-14 16:57:45,252:(0.00s):geometry:log probability choice of torsions and atom order: -1.3862943611198906\n",
      "2021-07-14 16:57:45,254:(0.00s):geometry:creating platform, integrators, and contexts; setting growth parameter\n"
     ]
    },
    {
     "name": "stdout",
     "output_type": "stream",
     "text": [
      "conducting subsequent work with the following platform: CUDA\n"
     ]
    },
    {
     "name": "stderr",
     "output_type": "stream",
     "text": [
      "2021-07-14 16:57:45,828:(0.57s):geometry:setting atoms_with_positions context old positions\n"
     ]
    },
    {
     "name": "stdout",
     "output_type": "stream",
     "text": [
      "conducting subsequent work with the following platform: CUDA\n"
     ]
    },
    {
     "name": "stderr",
     "output_type": "stream",
     "text": [
      "2021-07-14 16:57:46,292:(0.46s):geometry:There are 1 new atoms\n",
      "2021-07-14 16:57:46,299:(0.01s):geometry:\treduced angle potential = 0.012250173302112203.\n",
      "2021-07-14 16:57:46,456:(0.16s):geometry:\tbeginning construction of no_nonbonded final system...\n",
      "2021-07-14 16:57:46,460:(0.00s):geometry:\tinitial no-nonbonded final system forces ['HarmonicBondForce', 'HarmonicAngleForce', 'PeriodicTorsionForce', 'NonbondedForce', 'MonteCarloBarostat']\n",
      "2021-07-14 16:57:46,680:(0.22s):geometry:\tfinal no-nonbonded final system forces dict_keys(['HarmonicBondForce', 'HarmonicAngleForce', 'PeriodicTorsionForce', 'NonbondedForce'])\n",
      "2021-07-14 16:57:46,684:(0.00s):geometry:\tthere are 28 bond forces in the no-nonbonded final system\n",
      "2021-07-14 16:57:46,686:(0.00s):geometry:\tthere are 85 angle forces in the no-nonbonded final system\n",
      "2021-07-14 16:57:46,689:(0.00s):geometry:\tthere are 157 torsion forces in the no-nonbonded final system\n",
      "2021-07-14 16:57:46,691:(0.00s):geometry:reverse final system defined with 0 neglected angles.\n"
     ]
    },
    {
     "name": "stdout",
     "output_type": "stream",
     "text": [
      "conducting subsequent work with the following platform: CUDA\n",
      "conducting subsequent work with the following platform: CUDA\n"
     ]
    },
    {
     "name": "stderr",
     "output_type": "stream",
     "text": [
      "2021-07-14 16:57:47,873:(1.18s):geometry:total reduced potential before atom placement: 48.41899607369698\n"
     ]
    },
    {
     "name": "stdout",
     "output_type": "stream",
     "text": [
      "conducting subsequent work with the following platform: CUDA\n",
      "conducting subsequent work with the following platform: CUDA\n",
      "conducting subsequent work with the following platform: CUDA\n"
     ]
    },
    {
     "name": "stderr",
     "output_type": "stream",
     "text": [
      "2021-07-14 16:57:49,306:(1.43s):geometry:total reduced energy added from growth system: -5.056837038117532\n",
      "2021-07-14 16:57:49,310:(0.00s):geometry:final reduced energy 43.36216011253515\n",
      "2021-07-14 16:57:49,312:(0.00s):geometry:sum of energies: 43.36215903557945\n",
      "2021-07-14 16:57:49,315:(0.00s):geometry:magnitude of difference in the energies: 1.0769557015066766e-06\n",
      "2021-07-14 16:57:49,317:(0.00s):geometry:Final logp_proposal: 11.821616720480304\n"
     ]
    },
    {
     "name": "stdout",
     "output_type": "stream",
     "text": [
      "added energy components: [('CustomBondForce', 0.0879842954280575), ('CustomAngleForce', 0.04605409749261916), ('CustomTorsionForce', 0.005423200139534058), ('CustomBondForce', -5.1962986311777435)]\n"
     ]
    },
    {
     "name": "stderr",
     "output_type": "stream",
     "text": [
      "2021-07-14 16:57:49,507:(0.19s):root:\twriting pickle output...\n",
      "2021-07-14 16:57:49,726:(0.22s):root:\tsuccessfully dumped pickle.\n",
      "2021-07-14 16:57:49,732:(0.01s):root:\tsetup is complete.  Writing proposals and positions for each phase to top_prop dict...\n",
      "2021-07-14 16:57:49,735:(0.00s):root:\twriting atom_mapping.png\n",
      "2021-07-14 16:57:49,951:(0.22s):root:\t steps per move application: 50\n",
      "2021-07-14 16:57:49,954:(0.00s):root:\ttrajectory prefix: out\n",
      "2021-07-14 16:57:49,957:(0.00s):root:\tatom selection detected: not water\n",
      "2021-07-14 16:57:49,959:(0.00s):root:\tno nonequilibrium detected.\n",
      "2021-07-14 16:57:49,961:(0.00s):root:\tcataloging HybridTopologyFactories...\n",
      "2021-07-14 16:57:49,963:(0.00s):root:\t\tphase: solvent:\n",
      "2021-07-14 16:57:49,966:(0.00s):root:\t\twriting HybridTopologyFactory for phase solvent...\n",
      "2021-07-14 16:57:49,968:(0.00s):root:\t\t changed nonnbondedmethod to: 0\n",
      "2021-07-14 16:57:49,971:(0.00s):relative:*** Generating RxnHybridTopologyFactory ***\n",
      "2021-07-14 16:57:49,973:(0.00s):relative:Beginning nonbonded method, total particle, barostat, and exceptions retrieval...\n",
      "2021-07-14 16:57:50,068:(0.09s):relative:Old system forces: dict_keys(['HarmonicBondForce', 'HarmonicAngleForce', 'PeriodicTorsionForce', 'NonbondedForce'])\n",
      "2021-07-14 16:57:50,071:(0.00s):relative:New system forces: dict_keys(['HarmonicBondForce', 'HarmonicAngleForce', 'PeriodicTorsionForce', 'NonbondedForce', 'MonteCarloBarostat'])\n",
      "2021-07-14 16:57:50,073:(0.00s):relative:No unknown forces.\n",
      "2021-07-14 16:57:50,075:(0.00s):relative:Nonbonded method to be used (i.e. from old system): 0\n",
      "2021-07-14 16:57:50,078:(0.00s):relative:Adding and mapping old atoms to hybrid system...\n",
      "2021-07-14 16:57:50,114:(0.04s):relative:Adding and mapping new atoms to hybrid system...\n",
      "2021-07-14 16:57:50,117:(0.00s):relative:scale_templates: [['nonscale_lambda'], ['nonscale_region']]\n",
      "2021-07-14 16:57:50,120:(0.00s):relative:particle (nonbonded) scale_templates: [['nonscale_lambda'], ['nonscale_region1'], ['nonscale_region2']]\n",
      "2021-07-14 16:57:50,122:(0.00s):relative:No MonteCarloBarostat added.\n",
      "2021-07-14 16:57:50,124:(0.00s):relative:getDefaultPeriodicBoxVectors added to hybrid: [Quantity(value=Vec3(x=2.875229835510254, y=0.0, z=0.0), unit=nanometer), Quantity(value=Vec3(x=0.0, y=2.875229835510254, z=0.0), unit=nanometer), Quantity(value=Vec3(x=0.0, y=0.0, z=2.875229835510254), unit=nanometer)]\n",
      "2021-07-14 16:57:50,128:(0.00s):relative:Determined atom classes.\n",
      "2021-07-14 16:57:50,131:(0.00s):relative:Generating old system exceptions dict...\n",
      "2021-07-14 16:57:50,155:(0.02s):relative:Generating new system exceptions dict...\n",
      "2021-07-14 16:57:50,189:(0.03s):relative:Handling constraints...\n",
      "2021-07-14 16:57:50,272:(0.08s):relative:Handling virtual sites...\n",
      "2021-07-14 16:57:50,278:(0.01s):relative:\t_handle_virtual_sites: numVirtualSites: 0\n",
      "2021-07-14 16:57:51,461:(1.18s):root:'use_given_geometries' was passed to setup; skipping endstate validation\n",
      "2021-07-14 16:57:51,464:(0.00s):root:omitting sampler construction\n"
     ]
    }
   ],
   "source": [
    "# Create a htf\n",
    "setup_directory = resource_filename(\"perses\", \"data/cdk2-example\")\n",
    "\n",
    "# Get options\n",
    "from perses.app.setup_relative_calculation import getSetupOptions\n",
    "yaml_filename = os.path.join(setup_directory, \"cdk2_setup_repex.yaml\")\n",
    "setup_options = getSetupOptions(yaml_filename)\n",
    "\n",
    "# Update options\n",
    "for parameter in ['protein_pdb', 'ligand_file']:\n",
    "    setup_options[parameter] = os.path.join(setup_directory, setup_options[parameter])\n",
    "    \n",
    "setup_options['rxn_field'] = True\n",
    "setup_options['phases'] = ['solvent']\n",
    "setup_options['scale_regions'] = None\n",
    "setup_options['validate_endstate_energies'] = False\n",
    "    \n",
    "setup_dict = setup_relative_calculation.run_setup(setup_options, serialize_systems=False, build_samplers=False)\n",
    "\n",
    "htf = setup_dict['hybrid_topology_factories']['solvent']\n"
   ]
  },
  {
   "cell_type": "code",
   "execution_count": 5,
   "id": "058f9b83",
   "metadata": {
    "scrolled": true
   },
   "outputs": [],
   "source": [
    "\n",
    "# Set nonbonded params\n",
    "# htf._topology_proposal.old_system.getForce(3).setNonbondedMethod(openmm.NonbondedForce.NoCutoff)\n",
    "# htf._topology_proposal.old_system.getForce(3).setUseDispersionCorrection(False)\n",
    "# htf._topology_proposal.old_system.removeForce(4) # Remove barostat\n",
    "\n",
    "htf._topology_proposal.new_system.getForce(3).setNonbondedMethod(openmm.NonbondedForce.NoCutoff)\n",
    "htf._topology_proposal.new_system.getForce(3).setUseDispersionCorrection(False)\n",
    "htf._topology_proposal.new_system.removeForce(4) # Remove barostat\n",
    "\n",
    "# htf.hybrid_system.removeForce(0)\n",
    "# htf.hybrid_system.getForce(3).setNonbondedMethod(openmm.CustomNonbondedForce.NoCutoff)\n",
    "# htf.hybrid_system.getForce(3).setUseLongRangeCorrection(False)\n",
    "# htf.hybrid_system.getForce(3).setUseSwitchingFunction(False)\n",
    "\n",
    "# htf.hybrid_system.getForce(4).setNonbondedMethod(openmm.CustomNonbondedForce.NoCutoff)\n",
    "# htf.hybrid_system.getForce(4).setUseLongRangeCorrection(False)\n",
    "# htf.hybrid_system.getForce(4).setUseSwitchingFunction(False)\n",
    "\n",
    "# htf.hybrid_system.getForce(5).setUsesPeriodicBoundaryConditions(False)\n",
    "\n",
    "# htf.hybrid_system.getForce(6).setUsesPeriodicBoundaryConditions(False)"
   ]
  },
  {
   "cell_type": "code",
   "execution_count": 6,
   "id": "be703515",
   "metadata": {},
   "outputs": [],
   "source": [
    "# Save htf\n",
    "with open(\"cdk2_solvent.pickle\", \"wb\") as f:\n",
    "    pickle.dump(htf, f)"
   ]
  },
  {
   "cell_type": "markdown",
   "id": "115af5f8",
   "metadata": {},
   "source": [
    "### Test one alchemical region, no scale regions"
   ]
  },
  {
   "cell_type": "markdown",
   "id": "60604039",
   "metadata": {},
   "source": [
    "#### Old system HarmonicBondForce vs hybrid system CustomBondForce"
   ]
  },
  {
   "cell_type": "code",
   "execution_count": 7,
   "id": "c301b106",
   "metadata": {},
   "outputs": [],
   "source": [
    "# Load htf\n",
    "with open(\"/home/zhangi/choderalab/perses_benchmark/perses_protein_mutations/code/26_rxn_field/cdk2_solvent.pickle\", \"rb\") as f:\n",
    "    htf = pickle.load(f)"
   ]
  },
  {
   "cell_type": "code",
   "execution_count": 8,
   "id": "41891b46",
   "metadata": {
    "scrolled": true
   },
   "outputs": [
    {
     "name": "stdout",
     "output_type": "stream",
     "text": [
      "Warning: Returning CPU platform instead of requested platform <simtk.openmm.openmm.Platform; proxy of <Swig Object of type 'OpenMM::Platform *' at 0x2b2ab7bc8840> >\n",
      "conducting subsequent work with the following platform: CPU\n",
      "conducting subsequent work with the following platform: CUDA\n",
      "[('HarmonicBondForce', 4.577362424768389), ('HarmonicAngleForce', 29.004860118481037), ('PeriodicTorsionForce', 14.976236339333711), ('NonbondedForce', -11667.074395913096), ('AndersenThermostat', 0.0)]\n",
      "conducting subsequent work with the following platform: CUDA\n",
      "[('CustomBondForce', 4.577362424768389), ('CustomAngleForce', 32.01653240230242), ('CustomTorsionForce', 14.976242103332336), ('CustomNonbondedForce', -10815.085688729141), ('CustomNonbondedForce', 1775.464188818727), ('CustomBondForce', -851.9885779774369), ('CustomBondForce', 23.736455480731266), ('AndersenThermostat', 0.0)]\n",
      "Success! Custom nb force and standard nb force electrostatics energies are equal!\n"
     ]
    },
    {
     "data": {
      "text/plain": [
       "<simtk.openmm.openmm.Context; proxy of <Swig Object of type 'OpenMM::Context *' at 0x2b2b0e088ae0> >"
      ]
     },
     "execution_count": 8,
     "metadata": {},
     "output_type": "execute_result"
    }
   ],
   "source": [
    "test_nb_energies(htf, is_solvated=True)"
   ]
  },
  {
   "cell_type": "code",
   "execution_count": 9,
   "id": "38d8a1c6",
   "metadata": {},
   "outputs": [],
   "source": [
    "# Load htf\n",
    "with open(\"/home/zhangi/choderalab/perses_benchmark/perses_protein_mutations/code/26_rxn_field/cdk2_solvent.pickle\", \"rb\") as f:\n",
    "    htf = pickle.load(f)"
   ]
  },
  {
   "cell_type": "code",
   "execution_count": 10,
   "id": "d437f735",
   "metadata": {},
   "outputs": [
    {
     "name": "stdout",
     "output_type": "stream",
     "text": [
      "Warning: Returning CPU platform instead of requested platform <simtk.openmm.openmm.Platform; proxy of <Swig Object of type 'OpenMM::Platform *' at 0x2b2ab7bc8840> >\n",
      "conducting subsequent work with the following platform: CPU\n",
      "conducting subsequent work with the following platform: CUDA\n",
      "[('HarmonicBondForce', 4.577362424768389), ('HarmonicAngleForce', 29.004860118481037), ('PeriodicTorsionForce', 14.976236339333711), ('NonbondedForce', 1799.2006984335433), ('AndersenThermostat', 0.0)]\n",
      "conducting subsequent work with the following platform: CUDA\n",
      "[('CustomBondForce', 4.577362424768389), ('CustomAngleForce', 32.01653240230242), ('CustomTorsionForce', 14.976242103332336), ('CustomNonbondedForce', -10815.085688729141), ('CustomNonbondedForce', 1775.464188818727), ('CustomBondForce', -851.9885779774369), ('CustomBondForce', 23.736455480731266), ('AndersenThermostat', 0.0)]\n",
      "Success! Custom nb force and standard nb force sterics energies are equal!\n"
     ]
    },
    {
     "data": {
      "text/plain": [
       "<simtk.openmm.openmm.Context; proxy of <Swig Object of type 'OpenMM::Context *' at 0x2b2b0d9715d0> >"
      ]
     },
     "execution_count": 10,
     "metadata": {},
     "output_type": "execute_result"
    }
   ],
   "source": [
    "test_nb_energies(htf, is_electrostatics=False, is_solvated=True)"
   ]
  },
  {
   "cell_type": "markdown",
   "id": "1aa884bc",
   "metadata": {},
   "source": [
    "#### New system HarmonicBondForce vs hybrid system CustomBondForce"
   ]
  },
  {
   "cell_type": "code",
   "execution_count": 11,
   "id": "ea1e2d34",
   "metadata": {},
   "outputs": [],
   "source": [
    "# Load htf\n",
    "with open(\"/home/zhangi/choderalab/perses_benchmark/perses_protein_mutations/code/26_rxn_field/cdk2_solvent.pickle\", \"rb\") as f:\n",
    "    htf = pickle.load(f)"
   ]
  },
  {
   "cell_type": "code",
   "execution_count": 12,
   "id": "efc8566f",
   "metadata": {},
   "outputs": [
    {
     "name": "stdout",
     "output_type": "stream",
     "text": [
      "Warning: Returning CPU platform instead of requested platform <simtk.openmm.openmm.Platform; proxy of <Swig Object of type 'OpenMM::Platform *' at 0x2b2ab7bc8840> >\n",
      "conducting subsequent work with the following platform: CPU\n",
      "conducting subsequent work with the following platform: CUDA\n",
      "[('HarmonicBondForce', 4.4893781293403325), ('HarmonicAngleForce', 31.970478304809795), ('PeriodicTorsionForce', 14.977513886328776), ('NonbondedForce', -11658.510680368603), ('AndersenThermostat', 0.0)]\n",
      "conducting subsequent work with the following platform: CUDA\n",
      "[('CustomBondForce', 4.577362424768389), ('CustomAngleForce', 32.01653240230242), ('CustomTorsionForce', 14.976242103332336), ('CustomNonbondedForce', -10828.281748079738), ('CustomNonbondedForce', 1775.464188818727), ('CustomBondForce', -830.2287946890532), ('CustomBondForce', 23.736455480731266), ('AndersenThermostat', 0.0)]\n",
      "Success! Custom nb force and standard nb force electrostatics energies are equal!\n"
     ]
    },
    {
     "data": {
      "text/plain": [
       "<simtk.openmm.openmm.Context; proxy of <Swig Object of type 'OpenMM::Context *' at 0x2b2b0ece3090> >"
      ]
     },
     "execution_count": 12,
     "metadata": {},
     "output_type": "execute_result"
    }
   ],
   "source": [
    "test_nb_energies(htf, is_old=False, is_solvated=True)"
   ]
  },
  {
   "cell_type": "code",
   "execution_count": 13,
   "id": "c61c9650",
   "metadata": {},
   "outputs": [],
   "source": [
    "# Load htf\n",
    "with open(\"/home/zhangi/choderalab/perses_benchmark/perses_protein_mutations/code/26_rxn_field/cdk2_solvent.pickle\", \"rb\") as f:\n",
    "    htf = pickle.load(f)"
   ]
  },
  {
   "cell_type": "code",
   "execution_count": 14,
   "id": "ad36c334",
   "metadata": {},
   "outputs": [
    {
     "name": "stdout",
     "output_type": "stream",
     "text": [
      "Warning: Returning CPU platform instead of requested platform <simtk.openmm.openmm.Platform; proxy of <Swig Object of type 'OpenMM::Platform *' at 0x2b2ab7bc8840> >\n",
      "conducting subsequent work with the following platform: CPU\n",
      "conducting subsequent work with the following platform: CUDA\n",
      "[('HarmonicBondForce', 4.4893781293403325), ('HarmonicAngleForce', 31.970478304809795), ('PeriodicTorsionForce', 14.977513886328776), ('NonbondedForce', 1803.046267592978), ('AndersenThermostat', 0.0)]\n",
      "conducting subsequent work with the following platform: CUDA\n",
      "[('CustomBondForce', 4.577362424768389), ('CustomAngleForce', 32.01653240230242), ('CustomTorsionForce', 14.976242103332336), ('CustomNonbondedForce', -10815.085688729141), ('CustomNonbondedForce', 1779.2372899725685), ('CustomBondForce', -851.9885779774369), ('CustomBondForce', 23.808923401481334), ('AndersenThermostat', 0.0)]\n",
      "Success! Custom nb force and standard nb force sterics energies are equal!\n"
     ]
    },
    {
     "data": {
      "text/plain": [
       "<simtk.openmm.openmm.Context; proxy of <Swig Object of type 'OpenMM::Context *' at 0x2b2b15abb1e0> >"
      ]
     },
     "execution_count": 14,
     "metadata": {},
     "output_type": "execute_result"
    }
   ],
   "source": [
    "test_nb_energies(htf, is_electrostatics=False, is_old=False, is_solvated=True)"
   ]
  },
  {
   "cell_type": "markdown",
   "id": "b390ade2",
   "metadata": {},
   "source": [
    "### Test one alchemical region, one scale region"
   ]
  },
  {
   "cell_type": "code",
   "execution_count": 15,
   "id": "8671a075",
   "metadata": {},
   "outputs": [],
   "source": [
    "import os\n",
    "from pkg_resources import resource_filename\n",
    "from perses.app import setup_relative_calculation\n",
    "import pickle"
   ]
  },
  {
   "cell_type": "code",
   "execution_count": 16,
   "id": "63072c61",
   "metadata": {
    "scrolled": true
   },
   "outputs": [
    {
     "name": "stderr",
     "output_type": "stream",
     "text": [
      "2021-07-14 16:58:48,375:(56.91s):root:\tDetecting phases...\n",
      "2021-07-14 16:58:48,376:(0.00s):root:\t\tphases detected: ['complex', 'solvent', 'vacuum']\n",
      "2021-07-14 16:58:48,377:(0.00s):root:No constraints will be removed\n",
      "2021-07-14 16:58:48,383:(0.01s):root:No spectators\n",
      "2021-07-14 16:58:48,384:(0.00s):root:\t\t\trun_type is not specified; default to None\n",
      "2021-07-14 16:58:48,385:(0.00s):root:\tDetecting fe_type...\n",
      "2021-07-14 16:58:48,386:(0.00s):root:\t\tfe_type: repex\n",
      "2021-07-14 16:58:48,387:(0.00s):root:\t\t\toffline-freq not specified: default to 10.\n",
      "2021-07-14 16:58:48,388:(0.00s):root:\t'neglect_angles' detected: False.\n",
      "2021-07-14 16:58:48,389:(0.00s):root:\t'softcore_v2' not specified: default to 'False'\n",
      "2021-07-14 16:58:48,390:(0.00s):root:\tCreating 'output'...\n",
      "2021-07-14 16:58:48,399:(0.01s):root:\tdetected ligand file: /home/zhangi/miniconda3/envs/perses-rxn-field/lib/python3.8/site-packages/perses-0.9.0+78.gee97a4e.dirty-py3.8.egg/perses/data/cdk2-example/CDK2_ligands.sdf\n",
      "2021-07-14 16:58:48,400:(0.00s):root:\told ligand index: 14; new ligand index: 15\n",
      "2021-07-14 16:58:48,401:(0.00s):root:\tsetting up forcefield files...\n",
      "2021-07-14 16:58:48,402:(0.00s):root:\tno timestep detected: setting default as 1.0fs.\n",
      "2021-07-14 16:58:48,402:(0.00s):root:\tno splitting strings specified: defaulting to neq: V R O R V, eq: V R O R V.\n",
      "2021-07-14 16:58:48,403:(0.00s):root:\tno measure_shadow_work specified: defaulting to False.\n",
      "2021-07-14 16:58:48,404:(0.00s):root:\tsetting pressure: 1.0 atm.\n",
      "2021-07-14 16:58:48,405:(0.00s):root:\tsetting temperature: 300.0 K.\n",
      "2021-07-14 16:58:48,406:(0.00s):root:\tsetting solvent padding: 9.0 AA.\n",
      "2021-07-14 16:58:48,407:(0.00s):root:\tsetting ionic strength: 0.15 MM.\n",
      "2021-07-14 16:58:48,408:(0.00s):root:\tsetup pickle file: fesetup_hbonds.pkl\n",
      "2021-07-14 16:58:48,408:(0.00s):root:\ttrajectory directory: output\n",
      "2021-07-14 16:58:48,409:(0.00s):root:\tno atom map specified: default to None.\n",
      "2021-07-14 16:58:48,410:(0.00s):root:\tno topology_proposal specified; proceeding to RelativeFEPSetup...\n",
      "\n",
      "\n",
      "\n",
      "2021-07-14 16:58:48,410:(0.00s):root:Box dimensions: None and None\n",
      "2021-07-14 16:58:48,411:(0.00s):relative_setup:\t\t\t_hmass: 4 Da.\n",
      "\n",
      "2021-07-14 16:58:48,412:(0.00s):relative_setup:Setting non bonded method to PME\n",
      "2021-07-14 16:58:48,413:(0.00s):relative_setup:Handling files for ligands and indices...\n",
      "2021-07-14 16:58:48,413:(0.00s):relative_setup:Detected .sdf format.  Proceeding...\n",
      "2021-07-14 16:58:48,428:(0.01s):utils.openeye:molecule 17                      does not have unique atom names. Generating now...\n",
      "2021-07-14 16:58:48,437:(0.01s):utils.openeye:molecule 1h1q                      does not have unique atom names. Generating now...\n",
      "2021-07-14 16:58:48,452:(0.01s):relative_setup:\tsuccessfully extracted positions from OEMOL.\n",
      "2021-07-14 16:58:48,466:(0.01s):relative_setup:\tsetting both molecule oemol titles to 'MOL'.\n",
      "2021-07-14 16:58:48,467:(0.00s):relative_setup:\tsuccessfully created SMILES for both ligand OEMOLs.\n",
      "2021-07-14 16:58:48,471:(0.00s):relative_setup:\tsuccessfully generated topologies for both OEMOLs.\n",
      "2021-07-14 16:58:48,473:(0.00s):relative_setup:Created mdtraj topologies for both ligands.\n",
      "2021-07-14 16:58:48,474:(0.00s):relative_setup:set MonteCarloBarostat because pressure was specified as 1.0 atm atmospheres\n",
      "2021-07-14 16:58:48,502:(0.03s):relative_setup:PME tolerance: 0.00025\n",
      "2021-07-14 16:58:48,588:(0.09s):relative_setup:successfully created SystemGenerator to create ligand systems\n",
      "2021-07-14 16:58:48,592:(0.00s):relative_setup:executing SmallMoleculeSetProposalEngine...\n",
      "2021-07-14 16:58:48,595:(0.00s):relative_setup:instantiating FFAllAngleGeometryEngine...\n",
      "2021-07-14 16:58:48,598:(0.00s):relative_setup:Detected solvent...\n",
      "2021-07-14 16:58:48,601:(0.00s):relative_setup:no complex detected in phases...generating unique topology/geometry proposals...\n",
      "2021-07-14 16:58:48,603:(0.00s):relative_setup:solvating ligand...\n",
      "2021-07-14 16:58:48,606:(0.00s):relative_setup:box_dimensions: None\n",
      "2021-07-14 16:58:48,609:(0.00s):relative_setup:solvent padding: 9.0\n",
      "2021-07-14 16:58:48,611:(0.00s):relative_setup:\tpreparing to add solvent\n",
      "2021-07-14 16:58:49,167:(0.56s):openmmforcefields.generators.template_generators:Requested to generate parameters for residue <Residue 0 (MOL) of chain 0>\n",
      "2021-07-14 16:58:49,535:(0.37s):relative_setup:\tparameterizing...\n",
      "2021-07-14 16:58:49,876:(0.34s):relative_setup:\tSystem parameterized\n",
      "2021-07-14 16:58:49,946:(0.07s):relative_setup:creating TopologyProposal\n",
      "2021-07-14 16:58:49,950:(0.00s):proposal_generator:creating current receptor topology by removing small molecule from current topology...\n",
      "2021-07-14 16:58:49,970:(0.02s):proposal_generator:small molecule start index: 0\n",
      "2021-07-14 16:58:49,973:(0.00s):proposal_generator:small molecule has 45 atoms.\n",
      "2021-07-14 16:58:49,976:(0.00s):proposal_generator:old alchemical atom indices: range(0, 45)\n",
      "2021-07-14 16:58:49,978:(0.00s):proposal_generator:proposed mol detected with smiles [H]c1c(c(c(c(c1[H])[H])N([H])c2nc3c(c(n2)OC([H])([H])C4(C(C(C(C(C4([H])[H])([H])[H])([H])[H])([H])[H])([H])[H])[H])nc(n3[H])[H])[H])[H] and logp_proposal of 0.0\n",
      "2021-07-14 16:58:49,981:(0.00s):proposal_generator:conducting proposal from [H]c1c(c(c(c(c1[H])Br)[H])N([H])c2nc3c(c(n2)OC([H])([H])C4(C(C(C(C(C4([H])[H])([H])[H])([H])[H])([H])[H])([H])[H])[H])nc(n3[H])[H])[H] to [H]c1c(c(c(c(c1[H])[H])N([H])c2nc3c(c(n2)OC([H])([H])C4(C(C(C(C(C4([H])[H])([H])[H])([H])[H])([H])[H])([H])[H])[H])nc(n3[H])[H])[H])[H]...\n",
      "2021-07-14 16:58:49,983:(0.00s):proposal_generator:building new topology with proposed molecule and current receptor topology...\n",
      "2021-07-14 16:58:49,985:(0.00s):proposal_generator:\tsetting proposed oemol title to MOL\n",
      "2021-07-14 16:58:49,987:(0.00s):proposal_generator:\tcreating mol topology from oemol...\n",
      "2021-07-14 16:58:49,991:(0.00s):proposal_generator:\tappending current receptor topology to new mol topology...\n",
      "2021-07-14 16:58:50,008:(0.02s):proposal_generator:\tperiodic box vectors of the current receptor is specified; copying to new topology...\n",
      "2021-07-14 16:58:50,011:(0.00s):proposal_generator:new molecule has a start index of 2152 and 45 atoms.\n",
      "2021-07-14 16:58:50,014:(0.00s):proposal_generator:proceeding to build the new system from the new topology...\n",
      "2021-07-14 16:58:50,059:(0.04s):openmmforcefields.generators.template_generators:Requested to generate parameters for residue <Residue 720 (MOL) of chain 3>\n",
      "2021-07-14 16:58:50,406:(0.35s):proposal_generator:determining atom map between old and new molecules...\n",
      "2021-07-14 16:58:50,410:(0.00s):proposal_generator:the atom map is not specified; proceeding to generate an atom map...\n",
      "2021-07-14 16:58:50,412:(0.00s):proposal_generator:Using geometry to chose best atom map\n",
      "2021-07-14 16:58:50,428:(0.02s):proposal_generator:Scaffold has symmetry of 4\n",
      "2021-07-14 16:58:50,431:(0.00s):proposal_generator:There are 4 before filtering\n",
      "2021-07-14 16:58:50,433:(0.00s):proposal_generator:There are 4 after filtering to remove maps with fewer matches than 24 atoms\n",
      "2021-07-14 16:58:50,442:(0.01s):proposal_generator:1 scaffold maps for A\n",
      "2021-07-14 16:58:50,445:(0.00s):proposal_generator:Scaffold to molA: {0: 0, 1: 1, 2: 2, 3: 3, 8: 4, 7: 5, 6: 6, 5: 7, 4: 8, 11: 9, 10: 10, 9: 11, 23: 12, 13: 13, 14: 14, 15: 15, 16: 16, 17: 17, 18: 18, 19: 19, 20: 20, 21: 21, 22: 22, 12: 23}\n",
      "2021-07-14 16:58:50,454:(0.01s):proposal_generator:1 scaffold maps for B\n",
      "2021-07-14 16:58:50,457:(0.00s):proposal_generator:Scaffold to molB: {0: 0, 1: 1, 2: 2, 3: 3, 8: 4, 7: 5, 6: 6, 5: 7, 4: 8, 11: 9, 10: 10, 9: 11, 23: 12, 13: 13, 14: 14, 15: 15, 16: 16, 17: 17, 18: 18, 19: 19, 20: 20, 21: 21, 22: 22, 12: 23}\n",
      "2021-07-14 16:58:53,602:(3.14s):proposal_generator:4 maps are reduced to 1\n",
      "2021-07-14 16:58:53,605:(0.00s):proposal_generator:molecule_maps_scores: dict_keys([19.8560123167367])\n",
      "2021-07-14 16:58:53,608:(0.00s):proposal_generator:Returning map with closest geometry satisfaction\n",
      "2021-07-14 16:58:53,797:(0.19s):proposal_generator:Proposed transformation would delete 1 atoms and create 1 atoms.\n",
      "2021-07-14 16:58:53,799:(0.00s):relative_setup:conducting geometry proposal...\n",
      "2021-07-14 16:58:53,802:(0.00s):geometry:propose: performing forward proposal\n",
      "2021-07-14 16:58:53,804:(0.00s):geometry:propose: unique new atoms detected; proceeding to _logp_propose...\n"
     ]
    },
    {
     "name": "stderr",
     "output_type": "stream",
     "text": [
      "2021-07-14 16:58:53,806:(0.00s):geometry:Conducting forward proposal...\n",
      "2021-07-14 16:58:53,809:(0.00s):geometry:Computing proposal order with NetworkX...\n",
      "2021-07-14 16:58:53,825:(0.02s):geometry:number of atoms to be placed: 1\n",
      "2021-07-14 16:58:53,828:(0.00s):geometry:Atom index proposal order is [2190]\n",
      "2021-07-14 16:58:53,830:(0.00s):geometry:omitted_bonds: []\n",
      "2021-07-14 16:58:53,832:(0.00s):geometry:direction of proposal is forward; creating atoms_with_positions and new positions from old system/topology...\n",
      "2021-07-14 16:58:54,341:(0.51s):geometry:creating growth system...\n",
      "2021-07-14 16:58:54,423:(0.08s):geometry:\tcreating bond force...\n",
      "2021-07-14 16:58:54,426:(0.00s):geometry:\tthere are 27 bonds in reference force.\n",
      "2021-07-14 16:58:54,429:(0.00s):geometry:\tcreating angle force...\n",
      "2021-07-14 16:58:54,431:(0.00s):geometry:\tthere are 85 angles in reference force.\n",
      "2021-07-14 16:58:54,435:(0.00s):geometry:\tcreating torsion force...\n",
      "2021-07-14 16:58:54,437:(0.00s):geometry:\tcreating extra torsions force...\n",
      "2021-07-14 16:58:54,440:(0.00s):geometry:\tthere are 157 torsions in reference force.\n",
      "2021-07-14 16:58:54,444:(0.00s):geometry:\tcreating nonbonded force...\n",
      "2021-07-14 16:58:54,446:(0.00s):geometry:\t\tgrabbing reference nonbonded method, cutoff, switching function, switching distance...\n",
      "2021-07-14 16:58:54,448:(0.00s):geometry:\t\tcreating nonbonded exception force (i.e. custom bond for 1,4s)...\n",
      "2021-07-14 16:58:54,450:(0.00s):geometry:\t\tlooping through exceptions calculating growth indices, and adding appropriate interactions to custom bond force.\n",
      "2021-07-14 16:58:54,452:(0.00s):geometry:\t\tthere are 2395 in the reference Nonbonded force\n",
      "2021-07-14 16:58:54,550:(0.10s):geometry:Neglected angle terms : []\n",
      "2021-07-14 16:58:54,553:(0.00s):geometry:omitted_growth_terms: {'bonds': [], 'angles': [], 'torsions': [], '1,4s': []}\n",
      "2021-07-14 16:58:54,556:(0.00s):geometry:extra torsions: {0: (2190, 2161, 2162, 2163, [1, Quantity(value=-0.019594642035228205, unit=radian), Quantity(value=1200.0, unit=kilocalorie/mole), 1]), 1: (2190, 2161, 2162, 2191, [1, Quantity(value=-3.1361896196768977, unit=radian), Quantity(value=1200.0, unit=kilocalorie/mole), 1]), 2: (2190, 2161, 2175, 2174, [1, Quantity(value=-0.008871224163264912, unit=radian), Quantity(value=1200.0, unit=kilocalorie/mole), 1]), 3: (2190, 2161, 2175, 2196, [1, Quantity(value=3.1405837865634907, unit=radian), Quantity(value=1200.0, unit=kilocalorie/mole), 1])}\n",
      "2021-07-14 16:58:54,558:(0.00s):geometry:neglected angle terms include []\n",
      "2021-07-14 16:58:54,560:(0.00s):geometry:log probability choice of torsions and atom order: -1.3862943611198906\n",
      "2021-07-14 16:58:54,562:(0.00s):geometry:creating platform, integrators, and contexts; setting growth parameter\n"
     ]
    },
    {
     "name": "stdout",
     "output_type": "stream",
     "text": [
      "conducting subsequent work with the following platform: CUDA\n"
     ]
    },
    {
     "name": "stderr",
     "output_type": "stream",
     "text": [
      "2021-07-14 16:58:55,341:(0.78s):geometry:setting atoms_with_positions context new positions\n"
     ]
    },
    {
     "name": "stdout",
     "output_type": "stream",
     "text": [
      "conducting subsequent work with the following platform: CUDA\n"
     ]
    },
    {
     "name": "stderr",
     "output_type": "stream",
     "text": [
      "2021-07-14 16:58:55,933:(0.59s):geometry:There are 1 new atoms\n",
      "2021-07-14 16:58:55,946:(0.01s):geometry:\treduced angle potential = 1.0986202972967256.\n",
      "2021-07-14 16:58:56,148:(0.20s):geometry:\tbeginning construction of no_nonbonded final system...\n",
      "2021-07-14 16:58:56,151:(0.00s):geometry:\tinitial no-nonbonded final system forces ['HarmonicBondForce', 'HarmonicAngleForce', 'PeriodicTorsionForce', 'NonbondedForce', 'MonteCarloBarostat']\n",
      "2021-07-14 16:58:56,372:(0.22s):geometry:\tfinal no-nonbonded final system forces dict_keys(['HarmonicBondForce', 'HarmonicAngleForce', 'PeriodicTorsionForce', 'NonbondedForce'])\n",
      "2021-07-14 16:58:56,375:(0.00s):geometry:\tthere are 27 bond forces in the no-nonbonded final system\n",
      "2021-07-14 16:58:56,378:(0.00s):geometry:\tthere are 85 angle forces in the no-nonbonded final system\n",
      "2021-07-14 16:58:56,380:(0.00s):geometry:\tthere are 157 torsion forces in the no-nonbonded final system\n",
      "2021-07-14 16:58:56,383:(0.00s):geometry:forward final system defined with 0 neglected angles.\n"
     ]
    },
    {
     "name": "stdout",
     "output_type": "stream",
     "text": [
      "conducting subsequent work with the following platform: CUDA\n",
      "conducting subsequent work with the following platform: CUDA\n"
     ]
    },
    {
     "name": "stderr",
     "output_type": "stream",
     "text": [
      "2021-07-14 16:58:57,851:(1.47s):geometry:total reduced potential before atom placement: 48.41967204742058\n"
     ]
    },
    {
     "name": "stdout",
     "output_type": "stream",
     "text": [
      "conducting subsequent work with the following platform: CUDA\n",
      "conducting subsequent work with the following platform: CUDA\n",
      "conducting subsequent work with the following platform: CUDA\n"
     ]
    },
    {
     "name": "stderr",
     "output_type": "stream",
     "text": [
      "2021-07-14 16:58:59,556:(1.70s):geometry:total reduced energy added from growth system: 9.996381413204624\n",
      "2021-07-14 16:58:59,560:(0.00s):geometry:final reduced energy 58.416054390396575\n",
      "2021-07-14 16:58:59,562:(0.00s):geometry:sum of energies: 58.41605346062521\n",
      "2021-07-14 16:58:59,564:(0.00s):geometry:magnitude of difference in the energies: 9.297713674527586e-07\n",
      "2021-07-14 16:58:59,566:(0.00s):geometry:Final logp_proposal: 7.264382696160448\n"
     ]
    },
    {
     "name": "stdout",
     "output_type": "stream",
     "text": [
      "added energy components: [('CustomBondForce', 0.0), ('CustomAngleForce', 2.050298938746859), ('CustomTorsionForce', 0.012608528261721994), ('CustomBondForce', 7.933473946196044)]\n"
     ]
    },
    {
     "name": "stderr",
     "output_type": "stream",
     "text": [
      "2021-07-14 16:58:59,772:(0.21s):geometry:logp_reverse: performing reverse proposal\n",
      "2021-07-14 16:58:59,775:(0.00s):geometry:logp_reverse: unique new atoms detected; proceeding to _logp_propose...\n",
      "2021-07-14 16:58:59,778:(0.00s):geometry:Conducting forward proposal...\n",
      "2021-07-14 16:58:59,780:(0.00s):geometry:Computing proposal order with NetworkX...\n",
      "2021-07-14 16:58:59,799:(0.02s):geometry:number of atoms to be placed: 1\n",
      "2021-07-14 16:58:59,802:(0.00s):geometry:Atom index proposal order is [44]\n",
      "2021-07-14 16:58:59,805:(0.00s):geometry:omitted_bonds: []\n",
      "2021-07-14 16:58:59,807:(0.00s):geometry:direction of proposal is reverse; creating atoms_with_positions from old system/topology\n",
      "2021-07-14 16:59:00,060:(0.25s):geometry:creating growth system...\n",
      "2021-07-14 16:59:00,144:(0.08s):geometry:\tcreating bond force...\n",
      "2021-07-14 16:59:00,147:(0.00s):geometry:\tthere are 28 bonds in reference force.\n",
      "2021-07-14 16:59:00,150:(0.00s):geometry:\tcreating angle force...\n",
      "2021-07-14 16:59:00,152:(0.00s):geometry:\tthere are 85 angles in reference force.\n",
      "2021-07-14 16:59:00,156:(0.00s):geometry:\tcreating torsion force...\n",
      "2021-07-14 16:59:00,158:(0.00s):geometry:\tcreating extra torsions force...\n",
      "2021-07-14 16:59:00,161:(0.00s):geometry:\tthere are 157 torsions in reference force.\n",
      "2021-07-14 16:59:00,165:(0.00s):geometry:\tcreating nonbonded force...\n",
      "2021-07-14 16:59:00,167:(0.00s):geometry:\t\tgrabbing reference nonbonded method, cutoff, switching function, switching distance...\n",
      "2021-07-14 16:59:00,170:(0.00s):geometry:\t\tcreating nonbonded exception force (i.e. custom bond for 1,4s)...\n",
      "2021-07-14 16:59:00,172:(0.00s):geometry:\t\tlooping through exceptions calculating growth indices, and adding appropriate interactions to custom bond force.\n",
      "2021-07-14 16:59:00,174:(0.00s):geometry:\t\tthere are 2395 in the reference Nonbonded force\n",
      "2021-07-14 16:59:00,271:(0.10s):geometry:Neglected angle terms : []\n",
      "2021-07-14 16:59:00,274:(0.00s):geometry:omitted_growth_terms: {'bonds': [], 'angles': [], 'torsions': [], '1,4s': []}\n",
      "2021-07-14 16:59:00,276:(0.00s):geometry:extra torsions: {0: (9, 10, 11, 44, [1, Quantity(value=0.017128570696415935, unit=radian), Quantity(value=1200.0, unit=kilocalorie/mole), 1]), 1: (39, 10, 11, 44, [1, Quantity(value=3.1337857477223063, unit=radian), Quantity(value=1200.0, unit=kilocalorie/mole), 1]), 2: (44, 11, 12, 22, [1, Quantity(value=0.00863885124394681, unit=radian), Quantity(value=1200.0, unit=kilocalorie/mole), 1]), 3: (44, 11, 12, 40, [1, Quantity(value=-3.1382699121359634, unit=radian), Quantity(value=1200.0, unit=kilocalorie/mole), 1])}\n",
      "2021-07-14 16:59:00,279:(0.00s):geometry:neglected angle terms include []\n",
      "2021-07-14 16:59:00,281:(0.00s):geometry:log probability choice of torsions and atom order: -1.3862943611198906\n",
      "2021-07-14 16:59:00,283:(0.00s):geometry:creating platform, integrators, and contexts; setting growth parameter\n"
     ]
    },
    {
     "name": "stdout",
     "output_type": "stream",
     "text": [
      "conducting subsequent work with the following platform: CUDA\n"
     ]
    },
    {
     "name": "stderr",
     "output_type": "stream",
     "text": [
      "2021-07-14 16:59:00,973:(0.69s):geometry:setting atoms_with_positions context old positions\n"
     ]
    },
    {
     "name": "stdout",
     "output_type": "stream",
     "text": [
      "conducting subsequent work with the following platform: CUDA\n"
     ]
    },
    {
     "name": "stderr",
     "output_type": "stream",
     "text": [
      "2021-07-14 16:59:01,564:(0.59s):geometry:There are 1 new atoms\n",
      "2021-07-14 16:59:01,571:(0.01s):geometry:\treduced angle potential = 0.03380441319981336.\n",
      "2021-07-14 16:59:01,775:(0.20s):geometry:\tbeginning construction of no_nonbonded final system...\n",
      "2021-07-14 16:59:01,778:(0.00s):geometry:\tinitial no-nonbonded final system forces ['HarmonicBondForce', 'HarmonicAngleForce', 'PeriodicTorsionForce', 'NonbondedForce', 'MonteCarloBarostat']\n",
      "2021-07-14 16:59:02,002:(0.22s):geometry:\tfinal no-nonbonded final system forces dict_keys(['HarmonicBondForce', 'HarmonicAngleForce', 'PeriodicTorsionForce', 'NonbondedForce'])\n",
      "2021-07-14 16:59:02,006:(0.00s):geometry:\tthere are 28 bond forces in the no-nonbonded final system\n",
      "2021-07-14 16:59:02,008:(0.00s):geometry:\tthere are 85 angle forces in the no-nonbonded final system\n",
      "2021-07-14 16:59:02,010:(0.00s):geometry:\tthere are 157 torsion forces in the no-nonbonded final system\n",
      "2021-07-14 16:59:02,013:(0.00s):geometry:reverse final system defined with 0 neglected angles.\n"
     ]
    },
    {
     "name": "stdout",
     "output_type": "stream",
     "text": [
      "conducting subsequent work with the following platform: CUDA\n",
      "conducting subsequent work with the following platform: CUDA\n"
     ]
    },
    {
     "name": "stderr",
     "output_type": "stream",
     "text": [
      "2021-07-14 16:59:03,443:(1.43s):geometry:total reduced potential before atom placement: 48.41899607369698\n"
     ]
    },
    {
     "name": "stdout",
     "output_type": "stream",
     "text": [
      "conducting subsequent work with the following platform: CUDA\n",
      "conducting subsequent work with the following platform: CUDA\n",
      "conducting subsequent work with the following platform: CUDA\n"
     ]
    },
    {
     "name": "stderr",
     "output_type": "stream",
     "text": [
      "2021-07-14 16:59:05,218:(1.77s):geometry:total reduced energy added from growth system: -5.056837038117532\n",
      "2021-07-14 16:59:05,221:(0.00s):geometry:final reduced energy 43.36216011253515\n",
      "2021-07-14 16:59:05,223:(0.00s):geometry:sum of energies: 43.36215903557945\n",
      "2021-07-14 16:59:05,225:(0.00s):geometry:magnitude of difference in the energies: 1.0769557015066766e-06\n",
      "2021-07-14 16:59:05,228:(0.00s):geometry:Final logp_proposal: 11.56594796641107\n"
     ]
    },
    {
     "name": "stdout",
     "output_type": "stream",
     "text": [
      "added energy components: [('CustomBondForce', 0.0879842954280575), ('CustomAngleForce', 0.04605409749261916), ('CustomTorsionForce', 0.005423200139534058), ('CustomBondForce', -5.1962986311777435)]\n"
     ]
    },
    {
     "name": "stderr",
     "output_type": "stream",
     "text": [
      "2021-07-14 16:59:05,427:(0.20s):root:\twriting pickle output...\n",
      "2021-07-14 16:59:05,657:(0.23s):root:\tsuccessfully dumped pickle.\n",
      "2021-07-14 16:59:05,662:(0.01s):root:\tsetup is complete.  Writing proposals and positions for each phase to top_prop dict...\n",
      "2021-07-14 16:59:05,665:(0.00s):root:\twriting atom_mapping.png\n",
      "2021-07-14 16:59:05,746:(0.08s):root:\t steps per move application: 50\n",
      "2021-07-14 16:59:05,749:(0.00s):root:\ttrajectory prefix: out\n",
      "2021-07-14 16:59:05,751:(0.00s):root:\tatom selection detected: not water\n",
      "2021-07-14 16:59:05,754:(0.00s):root:\tno nonequilibrium detected.\n",
      "2021-07-14 16:59:05,756:(0.00s):root:\tcataloging HybridTopologyFactories...\n",
      "2021-07-14 16:59:05,758:(0.00s):root:\t\tphase: solvent:\n",
      "2021-07-14 16:59:05,761:(0.00s):root:\t\twriting HybridTopologyFactory for phase solvent...\n",
      "2021-07-14 16:59:05,763:(0.00s):root:\t\t changed nonnbondedmethod to: 0\n",
      "2021-07-14 16:59:05,765:(0.00s):relative:*** Generating RxnHybridTopologyFactory ***\n",
      "2021-07-14 16:59:05,768:(0.00s):relative:Beginning nonbonded method, total particle, barostat, and exceptions retrieval...\n",
      "2021-07-14 16:59:05,871:(0.10s):relative:Old system forces: dict_keys(['HarmonicBondForce', 'HarmonicAngleForce', 'PeriodicTorsionForce', 'NonbondedForce'])\n",
      "2021-07-14 16:59:05,874:(0.00s):relative:New system forces: dict_keys(['HarmonicBondForce', 'HarmonicAngleForce', 'PeriodicTorsionForce', 'NonbondedForce', 'MonteCarloBarostat'])\n",
      "2021-07-14 16:59:05,876:(0.00s):relative:No unknown forces.\n",
      "2021-07-14 16:59:05,879:(0.00s):relative:Nonbonded method to be used (i.e. from old system): 0\n",
      "2021-07-14 16:59:05,881:(0.00s):relative:Adding and mapping old atoms to hybrid system...\n",
      "2021-07-14 16:59:05,916:(0.03s):relative:Adding and mapping new atoms to hybrid system...\n",
      "2021-07-14 16:59:05,919:(0.00s):relative:scale_templates: [['nonscale_lambda', 'scale_lambda_0', 'interscale_lambda_0'], ['nonscale_region', 'scale_region_0', 'interscale_region_0']]\n",
      "2021-07-14 16:59:05,922:(0.00s):relative:particle (nonbonded) scale_templates: [['nonscale_lambda', 'scale_lambda_0'], ['nonscale_region1', 'scale_region_01'], ['nonscale_region2', 'scale_region_02']]\n",
      "2021-07-14 16:59:05,924:(0.00s):relative:No MonteCarloBarostat added.\n",
      "2021-07-14 16:59:05,926:(0.00s):relative:getDefaultPeriodicBoxVectors added to hybrid: [Quantity(value=Vec3(x=2.875229835510254, y=0.0, z=0.0), unit=nanometer), Quantity(value=Vec3(x=0.0, y=2.875229835510254, z=0.0), unit=nanometer), Quantity(value=Vec3(x=0.0, y=0.0, z=2.875229835510254), unit=nanometer)]\n",
      "2021-07-14 16:59:05,930:(0.00s):relative:Determined atom classes.\n",
      "2021-07-14 16:59:05,932:(0.00s):relative:Generating old system exceptions dict...\n",
      "2021-07-14 16:59:05,956:(0.02s):relative:Generating new system exceptions dict...\n",
      "2021-07-14 16:59:05,991:(0.04s):relative:Handling constraints...\n",
      "2021-07-14 16:59:06,075:(0.08s):relative:Handling virtual sites...\n",
      "2021-07-14 16:59:06,081:(0.01s):relative:\t_handle_virtual_sites: numVirtualSites: 0\n",
      "2021-07-14 16:59:07,402:(1.32s):root:'use_given_geometries' was passed to setup; skipping endstate validation\n",
      "2021-07-14 16:59:07,405:(0.00s):root:omitting sampler construction\n"
     ]
    }
   ],
   "source": [
    "# Create a htf\n",
    "setup_directory = resource_filename(\"perses\", \"data/cdk2-example\")\n",
    "\n",
    "# Get options\n",
    "from perses.app.setup_relative_calculation import getSetupOptions\n",
    "yaml_filename = os.path.join(setup_directory, \"cdk2_setup_repex.yaml\")\n",
    "setup_options = getSetupOptions(yaml_filename)\n",
    "\n",
    "# Update options\n",
    "for parameter in ['protein_pdb', 'ligand_file']:\n",
    "    setup_options[parameter] = os.path.join(setup_directory, setup_options[parameter])\n",
    "    \n",
    "setup_options['rxn_field'] = True\n",
    "setup_options['phases'] = ['solvent']\n",
    "setup_options['scale_regions'] = [[44, 2197]]\n",
    "setup_options['validate_endstate_energies'] = False\n",
    "    \n",
    "setup_dict = setup_relative_calculation.run_setup(setup_options, serialize_systems=False, build_samplers=False)"
   ]
  },
  {
   "cell_type": "code",
   "execution_count": 17,
   "id": "fd82bc90",
   "metadata": {
    "scrolled": true
   },
   "outputs": [],
   "source": [
    "htf = setup_dict['hybrid_topology_factories']['solvent']\n",
    "htf._topology_proposal.new_system.getForce(3).setNonbondedMethod(openmm.NonbondedForce.NoCutoff)\n",
    "htf._topology_proposal.new_system.getForce(3).setUseDispersionCorrection(False)\n",
    "htf._topology_proposal.new_system.removeForce(4) # Remove barostat\n"
   ]
  },
  {
   "cell_type": "code",
   "execution_count": 18,
   "id": "31d239c7",
   "metadata": {},
   "outputs": [],
   "source": [
    "# Save htf\n",
    "with open(\"cdk2_solvent_scale_regions.pickle\", \"wb\") as f:\n",
    "    pickle.dump(htf, f)"
   ]
  },
  {
   "cell_type": "markdown",
   "id": "dc742379",
   "metadata": {},
   "source": [
    "#### Old system HarmonicBondForce vs hybrid system CustomBondForce"
   ]
  },
  {
   "cell_type": "code",
   "execution_count": 19,
   "id": "0858c0e0",
   "metadata": {},
   "outputs": [],
   "source": [
    "# Load htf\n",
    "with open(\"/home/zhangi/choderalab/perses_benchmark/perses_protein_mutations/code/26_rxn_field/cdk2_solvent_scale_regions.pickle\", \"rb\") as f:\n",
    "    htf = pickle.load(f)"
   ]
  },
  {
   "cell_type": "code",
   "execution_count": 20,
   "id": "9860b232",
   "metadata": {},
   "outputs": [
    {
     "data": {
      "text/plain": [
       "[44, 2197]"
      ]
     },
     "execution_count": 20,
     "metadata": {},
     "output_type": "execute_result"
    }
   ],
   "source": [
    "# This is the scale region\n",
    "list(htf._atom_classes['unique_old_atoms'][0]) + list(htf._atom_classes['unique_new_atoms'][0])"
   ]
  },
  {
   "cell_type": "code",
   "execution_count": 21,
   "id": "2661b103",
   "metadata": {
    "scrolled": false
   },
   "outputs": [
    {
     "name": "stdout",
     "output_type": "stream",
     "text": [
      "Warning: Returning CPU platform instead of requested platform <simtk.openmm.openmm.Platform; proxy of <Swig Object of type 'OpenMM::Platform *' at 0x2b2ab7bc8840> >\n",
      "conducting subsequent work with the following platform: CPU\n",
      "conducting subsequent work with the following platform: CUDA\n",
      "[('HarmonicBondForce', 4.577362424768389), ('HarmonicAngleForce', 29.004860118481037), ('PeriodicTorsionForce', 14.976236339333711), ('NonbondedForce', -11479.54035231737), ('AndersenThermostat', 0.0)]\n",
      "conducting subsequent work with the following platform: CUDA\n",
      "[('CustomBondForce', 4.577362424768389), ('CustomAngleForce', 31.055159057227897), ('CustomTorsionForce', 14.976242103332336), ('CustomNonbondedForce', -10627.55164735299), ('CustomNonbondedForce', 1844.5745851886502), ('CustomBondForce', -851.9885779774369), ('CustomBondForce', 23.736455480731266), ('AndersenThermostat', 0.0)]\n",
      "Success! Custom nb force and standard nb force electrostatics energies are equal!\n",
      "conducting subsequent work with the following platform: CUDA\n",
      "[('CustomBondForce', 4.577362424768389), ('CustomAngleForce', 31.055159057227897), ('CustomTorsionForce', 14.976242103332336), ('CustomNonbondedForce', -10627.55164735299), ('CustomNonbondedForce', 1844.5745851886502), ('CustomBondForce', -851.9885779774369), ('CustomBondForce', 23.736455480731266), ('AndersenThermostat', 0.0)]\n",
      "conducting subsequent work with the following platform: CUDA\n",
      "[('CustomBondForce', 4.577362424768389), ('CustomAngleForce', 31.055159057227897), ('CustomTorsionForce', 14.976242103332336), ('CustomNonbondedForce', -10625.01340439548), ('CustomNonbondedForce', 1844.5745851886502), ('CustomBondForce', -851.9885779774369), ('CustomBondForce', 23.736455480731266), ('AndersenThermostat', 0.0)]\n",
      "Success! Scaling the custom nb electrostatics force changes the energy\n"
     ]
    },
    {
     "data": {
      "text/plain": [
       "<simtk.openmm.openmm.Context; proxy of <Swig Object of type 'OpenMM::Context *' at 0x2b2b0ef72b70> >"
      ]
     },
     "execution_count": 21,
     "metadata": {},
     "output_type": "execute_result"
    }
   ],
   "source": [
    "test_nb_energies(htf, is_solvated=True, check_scale=True)"
   ]
  },
  {
   "cell_type": "code",
   "execution_count": 22,
   "id": "220eac14",
   "metadata": {},
   "outputs": [],
   "source": [
    "# Load htf\n",
    "with open(\"/home/zhangi/choderalab/perses_benchmark/perses_protein_mutations/code/26_rxn_field/cdk2_solvent_scale_regions.pickle\", \"rb\") as f:\n",
    "    htf = pickle.load(f)"
   ]
  },
  {
   "cell_type": "code",
   "execution_count": 23,
   "id": "aab18089",
   "metadata": {
    "scrolled": true
   },
   "outputs": [
    {
     "name": "stdout",
     "output_type": "stream",
     "text": [
      "Warning: Returning CPU platform instead of requested platform <simtk.openmm.openmm.Platform; proxy of <Swig Object of type 'OpenMM::Platform *' at 0x2b2ab7bc8840> >\n",
      "conducting subsequent work with the following platform: CPU\n",
      "conducting subsequent work with the following platform: CUDA\n",
      "[('HarmonicBondForce', 4.577362424768389), ('HarmonicAngleForce', 29.004860118481037), ('PeriodicTorsionForce', 14.976236339333711), ('NonbondedForce', 1868.3111307047168), ('AndersenThermostat', 0.0)]\n",
      "conducting subsequent work with the following platform: CUDA\n",
      "[('CustomBondForce', 4.577362424768389), ('CustomAngleForce', 31.055159057227897), ('CustomTorsionForce', 14.976242103332336), ('CustomNonbondedForce', -10627.55164735299), ('CustomNonbondedForce', 1844.5745851886502), ('CustomBondForce', -851.9885779774369), ('CustomBondForce', 23.736455480731266), ('AndersenThermostat', 0.0)]\n",
      "Success! Custom nb force and standard nb force sterics energies are equal!\n",
      "conducting subsequent work with the following platform: CUDA\n",
      "[('CustomBondForce', 4.577362424768389), ('CustomAngleForce', 31.055159057227897), ('CustomTorsionForce', 14.976242103332336), ('CustomNonbondedForce', -10627.55164735299), ('CustomNonbondedForce', 1844.5745851886502), ('CustomBondForce', -851.9885779774369), ('CustomBondForce', 23.736455480731266), ('AndersenThermostat', 0.0)]\n",
      "conducting subsequent work with the following platform: CUDA\n",
      "[('CustomBondForce', 4.577362424768389), ('CustomAngleForce', 31.055159057227897), ('CustomTorsionForce', 14.976242103332336), ('CustomNonbondedForce', -10627.55164735299), ('CustomNonbondedForce', 1845.7873571427606), ('CustomBondForce', -851.9885779774369), ('CustomBondForce', 23.736455480731266), ('AndersenThermostat', 0.0)]\n",
      "Success! Scaling the custom nb sterics force changes the energy\n"
     ]
    },
    {
     "data": {
      "text/plain": [
       "<simtk.openmm.openmm.Context; proxy of <Swig Object of type 'OpenMM::Context *' at 0x2b2b0d610300> >"
      ]
     },
     "execution_count": 23,
     "metadata": {},
     "output_type": "execute_result"
    }
   ],
   "source": [
    "test_nb_energies(htf, is_electrostatics=False, is_solvated=True, check_scale=True)"
   ]
  },
  {
   "cell_type": "markdown",
   "id": "9d93a3cd",
   "metadata": {},
   "source": [
    "#### New system HarmonicBondForce vs hybrid system CustomBondForce"
   ]
  },
  {
   "cell_type": "code",
   "execution_count": 24,
   "id": "c2ab9959",
   "metadata": {},
   "outputs": [],
   "source": [
    "# Load htf\n",
    "with open(\"/home/zhangi/choderalab/perses_benchmark/perses_protein_mutations/code/26_rxn_field/cdk2_solvent_scale_regions.pickle\", \"rb\") as f:\n",
    "    htf = pickle.load(f)"
   ]
  },
  {
   "cell_type": "code",
   "execution_count": 25,
   "id": "dacdf51f",
   "metadata": {
    "scrolled": true
   },
   "outputs": [
    {
     "name": "stdout",
     "output_type": "stream",
     "text": [
      "Warning: Returning CPU platform instead of requested platform <simtk.openmm.openmm.Platform; proxy of <Swig Object of type 'OpenMM::Platform *' at 0x2b2ab7bc8840> >\n",
      "conducting subsequent work with the following platform: CPU\n",
      "conducting subsequent work with the following platform: CUDA\n",
      "[('HarmonicBondForce', 4.4893781293403325), ('HarmonicAngleForce', 31.009104959735275), ('PeriodicTorsionForce', 14.984097186419396), ('NonbondedForce', -11468.414405341717), ('AndersenThermostat', 0.0)]\n",
      "conducting subsequent work with the following platform: CUDA\n",
      "[('CustomBondForce', 4.577362424768389), ('CustomAngleForce', 31.055159057227897), ('CustomTorsionForce', 14.976242103332336), ('CustomNonbondedForce', -10638.15952951401), ('CustomNonbondedForce', 1844.5745851886502), ('CustomBondForce', -830.2547404767723), ('CustomBondForce', 23.736455480731266), ('AndersenThermostat', 0.0)]\n",
      "Success! Custom nb force and standard nb force electrostatics energies are equal!\n",
      "conducting subsequent work with the following platform: CUDA\n",
      "[('CustomBondForce', 4.577362424768389), ('CustomAngleForce', 31.055159057227897), ('CustomTorsionForce', 14.976242103332336), ('CustomNonbondedForce', -10627.55164735299), ('CustomNonbondedForce', 1844.5745851886502), ('CustomBondForce', -851.9885779774369), ('CustomBondForce', 23.736455480731266), ('AndersenThermostat', 0.0)]\n",
      "conducting subsequent work with the following platform: CUDA\n",
      "[('CustomBondForce', 4.577362424768389), ('CustomAngleForce', 31.055159057227897), ('CustomTorsionForce', 14.976242103332336), ('CustomNonbondedForce', -10625.01340439548), ('CustomNonbondedForce', 1844.5745851886502), ('CustomBondForce', -851.9885779774369), ('CustomBondForce', 23.736455480731266), ('AndersenThermostat', 0.0)]\n",
      "Success! Scaling the custom nb electrostatics force changes the energy\n"
     ]
    },
    {
     "data": {
      "text/plain": [
       "<simtk.openmm.openmm.Context; proxy of <Swig Object of type 'OpenMM::Context *' at 0x2b2b31ea43f0> >"
      ]
     },
     "execution_count": 25,
     "metadata": {},
     "output_type": "execute_result"
    }
   ],
   "source": [
    "test_nb_energies(htf, is_old=False, is_solvated=True, check_scale=True)"
   ]
  },
  {
   "cell_type": "code",
   "execution_count": 26,
   "id": "1ba5799e",
   "metadata": {},
   "outputs": [],
   "source": [
    "# Load htf\n",
    "with open(\"/home/zhangi/choderalab/perses_benchmark/perses_protein_mutations/code/26_rxn_field/cdk2_solvent_scale_regions.pickle\", \"rb\") as f:\n",
    "    htf = pickle.load(f)"
   ]
  },
  {
   "cell_type": "code",
   "execution_count": 27,
   "id": "7303faba",
   "metadata": {
    "scrolled": false
   },
   "outputs": [
    {
     "name": "stdout",
     "output_type": "stream",
     "text": [
      "Warning: Returning CPU platform instead of requested platform <simtk.openmm.openmm.Platform; proxy of <Swig Object of type 'OpenMM::Platform *' at 0x2b2ab7bc8840> >\n",
      "conducting subsequent work with the following platform: CPU\n",
      "conducting subsequent work with the following platform: CUDA\n",
      "[('HarmonicBondForce', 4.4893781293403325), ('HarmonicAngleForce', 31.009104959735275), ('PeriodicTorsionForce', 14.984097186419396), ('NonbondedForce', 1872.1399635331431), ('AndersenThermostat', 0.0)]\n",
      "conducting subsequent work with the following platform: CUDA\n",
      "[('CustomBondForce', 4.577362424768389), ('CustomAngleForce', 31.055159057227897), ('CustomTorsionForce', 14.976242103332336), ('CustomNonbondedForce', -10627.55164735299), ('CustomNonbondedForce', 1848.3464006094885), ('CustomBondForce', -851.9885779774369), ('CustomBondForce', 23.793472803596398), ('AndersenThermostat', 0.0)]\n",
      "Success! Custom nb force and standard nb force sterics energies are equal!\n",
      "conducting subsequent work with the following platform: CUDA\n",
      "[('CustomBondForce', 4.577362424768389), ('CustomAngleForce', 31.055159057227897), ('CustomTorsionForce', 14.976242103332336), ('CustomNonbondedForce', -10627.55164735299), ('CustomNonbondedForce', 1844.5745851886502), ('CustomBondForce', -851.9885779774369), ('CustomBondForce', 23.736455480731266), ('AndersenThermostat', 0.0)]\n",
      "conducting subsequent work with the following platform: CUDA\n",
      "[('CustomBondForce', 4.577362424768389), ('CustomAngleForce', 31.055159057227897), ('CustomTorsionForce', 14.976242103332336), ('CustomNonbondedForce', -10627.55164735299), ('CustomNonbondedForce', 1845.7873571427606), ('CustomBondForce', -851.9885779774369), ('CustomBondForce', 23.736455480731266), ('AndersenThermostat', 0.0)]\n",
      "Success! Scaling the custom nb sterics force changes the energy\n"
     ]
    },
    {
     "data": {
      "text/plain": [
       "<simtk.openmm.openmm.Context; proxy of <Swig Object of type 'OpenMM::Context *' at 0x2b2b0dba8e10> >"
      ]
     },
     "execution_count": 27,
     "metadata": {},
     "output_type": "execute_result"
    }
   ],
   "source": [
    "test_nb_energies(htf, is_electrostatics=False, is_old=False, is_solvated=True, check_scale=True)"
   ]
  },
  {
   "cell_type": "markdown",
   "id": "bf9aca45",
   "metadata": {},
   "source": [
    "# 8mer in vacuum"
   ]
  },
  {
   "cell_type": "code",
   "execution_count": 28,
   "id": "09fec0b1",
   "metadata": {},
   "outputs": [],
   "source": [
    "import os\n",
    "from pkg_resources import resource_filename\n",
    "from perses.app import setup_relative_calculation\n",
    "import pickle\n",
    "from simtk import openmm, unit\n",
    "from simtk.openmm import app\n",
    "from openmmforcefields.generators import SystemGenerator\n",
    "import numpy as np"
   ]
  },
  {
   "cell_type": "code",
   "execution_count": 29,
   "id": "2142ce66",
   "metadata": {},
   "outputs": [],
   "source": [
    "# Test 8-mer peptide in vacuum\n",
    "peptide_filename = resource_filename('perses', 'data/8mer-example/4zuh_peptide_capped.pdb')\n",
    "pdb = app.PDBFile(peptide_filename)\n",
    "forcefield_files = ['amber14/protein.ff14SB.xml', 'amber14/tip3p.xml']\n",
    "# barostat = openmm.MonteCarloBarostat(1.0 * unit.atmosphere, 300 * unit.kelvin, 50)\n",
    "barostat = None\n",
    "modeller = app.Modeller(pdb.topology, pdb.positions)\n",
    " \n",
    "system_generator = SystemGenerator(forcefields=forcefield_files,\n",
    "                                   barostat=barostat,\n",
    "                                   forcefield_kwargs={'removeCMMotion': False,\n",
    "                                                      'ewaldErrorTolerance': 1e-4,\n",
    "                                                      'constraints': app.HBonds,\n",
    "                                                      'hydrogenMass': 4 * unit.amus},\n",
    "                                   periodic_forcefield_kwargs=None,\n",
    "                                   small_molecule_forcefield='gaff-2.11',\n",
    "                                   nonperiodic_forcefield_kwargs={'nonbondedMethod': app.NoCutoff},\n",
    "                                   molecules=None,\n",
    "                                   cache=None)\n",
    "\n",
    "# modeller.addSolvent(system_generator.forcefield, model='tip3p', padding=9*unit.angstroms, ionicStrength=0.15*unit.molar)\n",
    "topology = modeller.getTopology()\n",
    "positions = modeller.getPositions()\n",
    "\n",
    "# Canonicalize the solvated positions: turn tuples into np.array\n",
    "positions = unit.quantity.Quantity(value=np.array([list(atom_pos) for atom_pos in positions.value_in_unit_system(unit.md_unit_system)]), unit=unit.nanometers)\n",
    "system = system_generator.create_system(topology)\n",
    "\n"
   ]
  },
  {
   "cell_type": "code",
   "execution_count": 30,
   "id": "350a16ae",
   "metadata": {},
   "outputs": [],
   "source": [
    "# set nonbonded parameters\n",
    "system.getForce(3).setNonbondedMethod(openmm.NonbondedForce.NoCutoff)\n",
    "system.getForce(3).setUseDispersionCorrection(False)\n",
    "for i in range(system.getNumForces()):\n",
    "    if i == 3:\n",
    "        system.getForce(i).setExceptionsUsePeriodicBoundaryConditions(False)\n",
    "    elif i < 3: # do not set PBCs for barostat\n",
    "        system.getForce(i).setUsesPeriodicBoundaryConditions(False)\n",
    "# system.removeForce(4) # Remove barostat\n"
   ]
  },
  {
   "cell_type": "code",
   "execution_count": 31,
   "id": "e448a6ec",
   "metadata": {
    "scrolled": true
   },
   "outputs": [
    {
     "name": "stderr",
     "output_type": "stream",
     "text": [
      "2021-07-14 16:59:44,901:(37.50s):proposal_generator:\tConducting polymer point mutation proposal...\n",
      "2021-07-14 16:59:44,923:(0.02s):proposal_generator:Using matching_criterion to chose best atom map\n",
      "2021-07-14 16:59:44,933:(0.01s):proposal_generator:Scaffold has symmetry of 0\n",
      "2021-07-14 16:59:44,936:(0.00s):proposal_generator:Two molecules are not similar to have a common scaffold\n",
      "2021-07-14 16:59:44,938:(0.00s):proposal_generator:Proceeding with direct mapping of molecules, but please check atom mapping and the geometry of the ligands.\n",
      "2021-07-14 16:59:44,945:(0.01s):proposal_generator:len [{14: 8}, {18: 9}, {17: 9}, {16: 9}, {15: 9}, {14: 9}, {13: 9}, {12: 9}, {11: 9}, {10: 9}, {18: 8}, {17: 8}, {16: 8}, {15: 8}, {10: 7}, {13: 8}, {12: 8}, {11: 8}, {10: 8}, {18: 7}, {17: 7}, {16: 7}, {15: 7}, {14: 7}, {13: 7}, {12: 7}, {11: 7}]\n",
      "2021-07-14 16:59:44,948:(0.00s):proposal_generator:{14: 8}\n",
      "2021-07-14 16:59:44,950:(0.00s):proposal_generator:{18: 9}\n",
      "2021-07-14 16:59:44,952:(0.00s):proposal_generator:{17: 9}\n",
      "2021-07-14 16:59:44,955:(0.00s):proposal_generator:{16: 9}\n",
      "2021-07-14 16:59:44,957:(0.00s):proposal_generator:{15: 9}\n",
      "2021-07-14 16:59:44,959:(0.00s):proposal_generator:{14: 9}\n",
      "2021-07-14 16:59:44,962:(0.00s):proposal_generator:{13: 9}\n",
      "2021-07-14 16:59:44,964:(0.00s):proposal_generator:{12: 9}\n",
      "2021-07-14 16:59:44,966:(0.00s):proposal_generator:{11: 9}\n",
      "2021-07-14 16:59:44,969:(0.00s):proposal_generator:{10: 9}\n",
      "2021-07-14 16:59:44,970:(0.00s):proposal_generator:{18: 8}\n",
      "2021-07-14 16:59:44,972:(0.00s):proposal_generator:{17: 8}\n",
      "2021-07-14 16:59:44,973:(0.00s):proposal_generator:{16: 8}\n",
      "2021-07-14 16:59:44,974:(0.00s):proposal_generator:{15: 8}\n",
      "2021-07-14 16:59:44,975:(0.00s):proposal_generator:{10: 7}\n",
      "2021-07-14 16:59:44,976:(0.00s):proposal_generator:{13: 8}\n",
      "2021-07-14 16:59:44,977:(0.00s):proposal_generator:{12: 8}\n",
      "2021-07-14 16:59:44,977:(0.00s):proposal_generator:{11: 8}\n",
      "2021-07-14 16:59:44,978:(0.00s):proposal_generator:{10: 8}\n",
      "2021-07-14 16:59:44,979:(0.00s):proposal_generator:{18: 7}\n",
      "2021-07-14 16:59:44,981:(0.00s):proposal_generator:{17: 7}\n",
      "2021-07-14 16:59:44,982:(0.00s):proposal_generator:{16: 7}\n",
      "2021-07-14 16:59:44,982:(0.00s):proposal_generator:{15: 7}\n",
      "2021-07-14 16:59:44,984:(0.00s):proposal_generator:{14: 7}\n",
      "2021-07-14 16:59:44,984:(0.00s):proposal_generator:{13: 7}\n",
      "2021-07-14 16:59:44,986:(0.00s):proposal_generator:{12: 7}\n",
      "2021-07-14 16:59:44,987:(0.00s):proposal_generator:{11: 7}\n",
      "2021-07-14 16:59:44,988:(0.00s):proposal_generator:Returning map that best satisfies matching_criterion\n",
      "2021-07-14 16:59:44,988:(0.00s):proposal_generator:Finding best map using matching_criterion name\n",
      "2021-07-14 16:59:44,992:(0.00s):proposal_generator:{14: 8}\n",
      "2021-07-14 16:59:45,084:(0.09s):geometry:propose: performing forward proposal\n",
      "2021-07-14 16:59:45,087:(0.00s):geometry:propose: unique new atoms detected; proceeding to _logp_propose...\n",
      "2021-07-14 16:59:45,090:(0.00s):geometry:Conducting forward proposal...\n",
      "2021-07-14 16:59:45,093:(0.00s):geometry:Computing proposal order with NetworkX...\n"
     ]
    },
    {
     "name": "stdout",
     "output_type": "stream",
     "text": [
      "Making mutation ALA->LEU\n"
     ]
    },
    {
     "name": "stderr",
     "output_type": "stream",
     "text": [
      "2021-07-14 16:59:45,101:(0.01s):geometry:number of atoms to be placed: 13\n",
      "2021-07-14 16:59:45,106:(0.01s):geometry:Atom index proposal order is [21, 26, 32, 28, 35, 34, 30, 24, 31, 27, 25, 29, 33]\n",
      "2021-07-14 16:59:45,109:(0.00s):geometry:omitted_bonds: []\n",
      "2021-07-14 16:59:45,111:(0.00s):geometry:direction of proposal is forward; creating atoms_with_positions and new positions from old system/topology...\n",
      "2021-07-14 16:59:45,178:(0.07s):geometry:creating growth system...\n",
      "2021-07-14 16:59:45,207:(0.03s):geometry:\tcreating bond force...\n",
      "2021-07-14 16:59:45,211:(0.00s):geometry:\tthere are 64 bonds in reference force.\n",
      "2021-07-14 16:59:45,215:(0.00s):geometry:\tcreating angle force...\n",
      "2021-07-14 16:59:45,218:(0.00s):geometry:\tthere are 236 angles in reference force.\n",
      "2021-07-14 16:59:45,226:(0.01s):geometry:\tcreating torsion force...\n",
      "2021-07-14 16:59:45,229:(0.00s):geometry:\tcreating extra torsions force...\n",
      "2021-07-14 16:59:45,231:(0.00s):geometry:\tthere are 438 torsions in reference force.\n",
      "2021-07-14 16:59:45,242:(0.01s):geometry:\tcreating nonbonded force...\n",
      "2021-07-14 16:59:45,245:(0.00s):geometry:\t\tgrabbing reference nonbonded method, cutoff, switching function, switching distance...\n",
      "2021-07-14 16:59:45,248:(0.00s):geometry:\t\tcreating nonbonded exception force (i.e. custom bond for 1,4s)...\n",
      "2021-07-14 16:59:45,250:(0.00s):geometry:\t\tlooping through exceptions calculating growth indices, and adding appropriate interactions to custom bond force.\n",
      "2021-07-14 16:59:45,253:(0.00s):geometry:\t\tthere are 699 in the reference Nonbonded force\n",
      "2021-07-14 16:59:45,290:(0.04s):geometry:\t\t\t\t\tchiral atom <Atom 18 (CA) of chain 0 residue 2 (LEU)> with neighbors [<Atom 19 (C) of chain 0 residue 2 (LEU)>, <Atom 21 (CB) of chain 0 residue 2 (LEU)>, <Atom 23 (HA) of chain 0 residue 2 (LEU)>, <Atom 17 (N) of chain 0 residue 2 (LEU)>] is surrounded by 3 core neighbors.  omitting chirality bias torsion\n",
      "2021-07-14 16:59:45,293:(0.00s):geometry:Neglected angle terms : []\n",
      "2021-07-14 16:59:45,296:(0.00s):geometry:omitted_growth_terms: {'bonds': [], 'angles': [], 'torsions': [], '1,4s': []}\n",
      "2021-07-14 16:59:45,299:(0.00s):geometry:extra torsions: {0: (22, 17, 18, 21, [1, Quantity(value=0.9859219945010964, unit=radian), Quantity(value=1200.0, unit=kilocalorie/mole), 1]), 1: (34, 32, 26, 21, [1, Quantity(value=-2.0227817869841767, unit=radian), Quantity(value=1200.0, unit=kilocalorie/mole), 6]), 2: (34, 32, 26, 27, [1, Quantity(value=2.1747176462148077, unit=radian), Quantity(value=1200.0, unit=kilocalorie/mole), 10]), 3: (34, 32, 26, 28, [1, Quantity(value=0.12555609374227705, unit=radian), Quantity(value=1200.0, unit=kilocalorie/mole), 6]), 4: (33, 32, 26, 21, [1, Quantity(value=2.1608959125285745, unit=radian), Quantity(value=1200.0, unit=kilocalorie/mole), 13]), 5: (33, 32, 26, 27, [1, Quantity(value=0.07521003854797348, unit=radian), Quantity(value=1200.0, unit=kilocalorie/mole), 13]), 6: (33, 32, 26, 28, [1, Quantity(value=-1.9739515139245594, unit=radian), Quantity(value=1200.0, unit=kilocalorie/mole), 13]), 7: (35, 32, 26, 21, [1, Quantity(value=0.044277067588684105, unit=radian), Quantity(value=1200.0, unit=kilocalorie/mole), 5]), 8: (35, 32, 26, 27, [1, Quantity(value=-2.0414088063919174, unit=radian), Quantity(value=1200.0, unit=kilocalorie/mole), 10]), 9: (35, 32, 26, 28, [1, Quantity(value=2.1926149483151365, unit=radian), Quantity(value=1200.0, unit=kilocalorie/mole), 5]), 10: (32, 26, 28, 30, [1, Quantity(value=2.0608193095255114, unit=radian), Quantity(value=1200.0, unit=kilocalorie/mole), 7]), 11: (32, 26, 28, 31, [1, Quantity(value=-2.1223206784487587, unit=radian), Quantity(value=1200.0, unit=kilocalorie/mole), 9]), 12: (32, 26, 28, 29, [1, Quantity(value=-0.041194569384030544, unit=radian), Quantity(value=1200.0, unit=kilocalorie/mole), 12]), 13: (21, 26, 28, 30, [1, Quantity(value=-2.04758602813798, unit=radian), Quantity(value=1200.0, unit=kilocalorie/mole), 7]), 14: (21, 26, 28, 31, [1, Quantity(value=0.05245929106733893, unit=radian), Quantity(value=1200.0, unit=kilocalorie/mole), 9]), 15: (21, 26, 28, 29, [1, Quantity(value=2.133585400132068, unit=radian), Quantity(value=1200.0, unit=kilocalorie/mole), 12]), 16: (27, 26, 28, 30, [1, Quantity(value=0.007960429539980218, unit=radian), Quantity(value=1200.0, unit=kilocalorie/mole), 10]), 17: (27, 26, 28, 31, [1, Quantity(value=2.108005748745306, unit=radian), Quantity(value=1200.0, unit=kilocalorie/mole), 10]), 18: (27, 26, 28, 29, [1, Quantity(value=-2.0940534493695484, unit=radian), Quantity(value=1200.0, unit=kilocalorie/mole), 12])}\n",
      "2021-07-14 16:59:45,301:(0.00s):geometry:neglected angle terms include []\n",
      "2021-07-14 16:59:45,304:(0.00s):geometry:log probability choice of torsions and atom order: -25.607615361379036\n",
      "2021-07-14 16:59:45,306:(0.00s):geometry:creating platform, integrators, and contexts; setting growth parameter\n"
     ]
    },
    {
     "name": "stdout",
     "output_type": "stream",
     "text": [
      "conducting subsequent work with the following platform: CUDA\n"
     ]
    },
    {
     "name": "stderr",
     "output_type": "stream",
     "text": [
      "2021-07-14 16:59:47,751:(2.44s):geometry:setting atoms_with_positions context new positions\n"
     ]
    },
    {
     "name": "stdout",
     "output_type": "stream",
     "text": [
      "conducting subsequent work with the following platform: CUDA\n"
     ]
    },
    {
     "name": "stderr",
     "output_type": "stream",
     "text": [
      "2021-07-14 16:59:48,956:(1.21s):geometry:There are 13 new atoms\n",
      "2021-07-14 16:59:48,964:(0.01s):geometry:\treduced angle potential = 0.15030424269045697.\n",
      "2021-07-14 16:59:49,126:(0.16s):geometry:\treduced angle potential = 0.1502278701060991.\n",
      "2021-07-14 16:59:49,294:(0.17s):geometry:\treduced angle potential = 0.08632712096025512.\n",
      "2021-07-14 16:59:49,457:(0.16s):geometry:\treduced angle potential = 0.002237885922882147.\n",
      "2021-07-14 16:59:49,620:(0.16s):geometry:\treduced angle potential = 0.46417288794211187.\n",
      "2021-07-14 16:59:49,784:(0.16s):geometry:\treduced angle potential = 2.2448406601902993.\n",
      "2021-07-14 16:59:49,952:(0.17s):geometry:\treduced angle potential = 0.1731401019601293.\n",
      "2021-07-14 16:59:50,090:(0.14s):geometry:\treduced angle potential = 0.01811381532263626.\n",
      "2021-07-14 16:59:50,221:(0.13s):geometry:\treduced angle potential = 0.538474625011467.\n",
      "2021-07-14 16:59:50,395:(0.17s):geometry:\treduced angle potential = 0.10406128071768896.\n",
      "2021-07-14 16:59:50,570:(0.17s):geometry:\treduced angle potential = 0.6221794216285204.\n",
      "2021-07-14 16:59:50,743:(0.17s):geometry:\treduced angle potential = 1.3053068595481452.\n",
      "2021-07-14 16:59:50,933:(0.19s):geometry:\treduced angle potential = 2.9205456681159916.\n",
      "2021-07-14 16:59:51,140:(0.21s):geometry:\tbeginning construction of no_nonbonded final system...\n",
      "2021-07-14 16:59:51,143:(0.00s):geometry:\tinitial no-nonbonded final system forces ['HarmonicBondForce', 'HarmonicAngleForce', 'PeriodicTorsionForce', 'NonbondedForce']\n",
      "2021-07-14 16:59:51,182:(0.04s):geometry:\tfinal no-nonbonded final system forces dict_keys(['HarmonicBondForce', 'HarmonicAngleForce', 'PeriodicTorsionForce', 'NonbondedForce'])\n",
      "2021-07-14 16:59:51,185:(0.00s):geometry:\tthere are 64 bond forces in the no-nonbonded final system\n",
      "2021-07-14 16:59:51,188:(0.00s):geometry:\tthere are 236 angle forces in the no-nonbonded final system\n",
      "2021-07-14 16:59:51,190:(0.00s):geometry:\tthere are 438 torsion forces in the no-nonbonded final system\n",
      "2021-07-14 16:59:51,192:(0.00s):geometry:forward final system defined with 0 neglected angles.\n"
     ]
    },
    {
     "name": "stdout",
     "output_type": "stream",
     "text": [
      "conducting subsequent work with the following platform: CUDA\n",
      "conducting subsequent work with the following platform: CUDA\n"
     ]
    },
    {
     "name": "stderr",
     "output_type": "stream",
     "text": [
      "2021-07-14 16:59:54,460:(3.27s):geometry:total reduced potential before atom placement: 168.36662826283057\n"
     ]
    },
    {
     "name": "stdout",
     "output_type": "stream",
     "text": [
      "conducting subsequent work with the following platform: CUDA\n",
      "conducting subsequent work with the following platform: CUDA\n",
      "conducting subsequent work with the following platform: CUDA\n"
     ]
    },
    {
     "name": "stderr",
     "output_type": "stream",
     "text": [
      "2021-07-14 16:59:57,459:(3.00s):geometry:total reduced energy added from growth system: 977.9798546124931\n",
      "2021-07-14 16:59:57,462:(0.00s):geometry:final reduced energy 1146.3464845460953\n",
      "2021-07-14 16:59:57,464:(0.00s):geometry:sum of energies: 1146.3464828753238\n",
      "2021-07-14 16:59:57,466:(0.00s):geometry:magnitude of difference in the energies: 1.67077166679519e-06\n",
      "2021-07-14 16:59:57,469:(0.00s):geometry:Final logp_proposal: 88.06285355811475\n"
     ]
    },
    {
     "name": "stdout",
     "output_type": "stream",
     "text": [
      "added energy components: [('CustomBondForce', 0.5242788133904879), ('CustomAngleForce', 567.4625420065533), ('CustomTorsionForce', 27.754290679771692), ('CustomBondForce', 382.2387431127775)]\n"
     ]
    },
    {
     "name": "stderr",
     "output_type": "stream",
     "text": [
      "2021-07-14 16:59:57,641:(0.17s):geometry:logp_reverse: performing reverse proposal\n",
      "2021-07-14 16:59:57,644:(0.00s):geometry:logp_reverse: unique new atoms detected; proceeding to _logp_propose...\n",
      "2021-07-14 16:59:57,646:(0.00s):geometry:Conducting forward proposal...\n",
      "2021-07-14 16:59:57,648:(0.00s):geometry:Computing proposal order with NetworkX...\n",
      "2021-07-14 16:59:57,653:(0.00s):geometry:number of atoms to be placed: 4\n",
      "2021-07-14 16:59:57,656:(0.00s):geometry:Atom index proposal order is [21, 25, 26, 24]\n",
      "2021-07-14 16:59:57,658:(0.00s):geometry:omitted_bonds: []\n",
      "2021-07-14 16:59:57,660:(0.00s):geometry:direction of proposal is reverse; creating atoms_with_positions from old system/topology\n",
      "2021-07-14 16:59:57,719:(0.06s):geometry:creating growth system...\n",
      "2021-07-14 16:59:57,743:(0.02s):geometry:\tcreating bond force...\n",
      "2021-07-14 16:59:57,746:(0.00s):geometry:\tthere are 61 bonds in reference force.\n",
      "2021-07-14 16:59:57,750:(0.00s):geometry:\tcreating angle force...\n",
      "2021-07-14 16:59:57,752:(0.00s):geometry:\tthere are 218 angles in reference force.\n",
      "2021-07-14 16:59:57,758:(0.01s):geometry:\tcreating torsion force...\n",
      "2021-07-14 16:59:57,760:(0.00s):geometry:\tcreating extra torsions force...\n",
      "2021-07-14 16:59:57,762:(0.00s):geometry:\tthere are 399 torsions in reference force.\n",
      "2021-07-14 16:59:57,769:(0.01s):geometry:\tcreating nonbonded force...\n",
      "2021-07-14 16:59:57,771:(0.00s):geometry:\t\tgrabbing reference nonbonded method, cutoff, switching function, switching distance...\n",
      "2021-07-14 16:59:57,774:(0.00s):geometry:\t\tcreating nonbonded exception force (i.e. custom bond for 1,4s)...\n",
      "2021-07-14 16:59:57,776:(0.00s):geometry:\t\tlooping through exceptions calculating growth indices, and adding appropriate interactions to custom bond force.\n",
      "2021-07-14 16:59:57,778:(0.00s):geometry:\t\tthere are 645 in the reference Nonbonded force\n",
      "2021-07-14 16:59:57,808:(0.03s):geometry:\t\t\t\t\tchiral atom <Atom 18 (CA) of chain 0 residue 2 (ALA)> with neighbors [<Atom 19 (C) of chain 0 residue 2 (ALA)>, <Atom 21 (CB) of chain 0 residue 2 (ALA)>, <Atom 23 (HA) of chain 0 residue 2 (ALA)>, <Atom 17 (N) of chain 0 residue 2 (ALA)>] is surrounded by 3 core neighbors.  omitting chirality bias torsion\n",
      "2021-07-14 16:59:57,811:(0.00s):geometry:Neglected angle terms : []\n",
      "2021-07-14 16:59:57,813:(0.00s):geometry:omitted_growth_terms: {'bonds': [], 'angles': [], 'torsions': [], '1,4s': []}\n",
      "2021-07-14 16:59:57,816:(0.00s):geometry:extra torsions: {0: (22, 17, 18, 21, [1, Quantity(value=0.9799661941737812, unit=radian), Quantity(value=1200.0, unit=kilocalorie/mole), 1]), 1: (17, 18, 21, 24, [1, Quantity(value=2.105358864604291, unit=radian), Quantity(value=1200.0, unit=kilocalorie/mole), 4]), 2: (17, 18, 21, 25, [1, Quantity(value=-2.0823006129211796, unit=radian), Quantity(value=1200.0, unit=kilocalorie/mole), 2]), 3: (17, 18, 21, 26, [1, Quantity(value=0.018582237407944735, unit=radian), Quantity(value=1200.0, unit=kilocalorie/mole), 3]), 4: (19, 18, 21, 24, [1, Quantity(value=-0.036945135932107576, unit=radian), Quantity(value=1200.0, unit=kilocalorie/mole), 4]), 5: (19, 18, 21, 25, [1, Quantity(value=2.0585806937220097, unit=radian), Quantity(value=1200.0, unit=kilocalorie/mole), 2]), 6: (19, 18, 21, 26, [1, Quantity(value=-2.1237217631284597, unit=radian), Quantity(value=1200.0, unit=kilocalorie/mole), 3]), 7: (23, 18, 21, 24, [1, Quantity(value=-2.119603470065817, unit=radian), Quantity(value=1200.0, unit=kilocalorie/mole), 4]), 8: (23, 18, 21, 25, [1, Quantity(value=-0.024077640411697132, unit=radian), Quantity(value=1200.0, unit=kilocalorie/mole), 2]), 9: (23, 18, 21, 26, [1, Quantity(value=2.0768052099174152, unit=radian), Quantity(value=1200.0, unit=kilocalorie/mole), 3])}\n",
      "2021-07-14 16:59:57,818:(0.00s):geometry:neglected angle terms include []\n",
      "2021-07-14 16:59:57,821:(0.00s):geometry:log probability choice of torsions and atom order: -5.78074351579233\n",
      "2021-07-14 16:59:57,823:(0.00s):geometry:creating platform, integrators, and contexts; setting growth parameter\n"
     ]
    },
    {
     "name": "stdout",
     "output_type": "stream",
     "text": [
      "conducting subsequent work with the following platform: CUDA\n"
     ]
    },
    {
     "name": "stderr",
     "output_type": "stream",
     "text": [
      "2021-07-14 17:00:00,158:(2.33s):geometry:setting atoms_with_positions context old positions\n"
     ]
    },
    {
     "name": "stdout",
     "output_type": "stream",
     "text": [
      "conducting subsequent work with the following platform: CUDA\n"
     ]
    },
    {
     "name": "stderr",
     "output_type": "stream",
     "text": [
      "2021-07-14 17:00:01,396:(1.24s):geometry:There are 4 new atoms\n",
      "2021-07-14 17:00:01,402:(0.01s):geometry:\treduced angle potential = 0.017911900159989516.\n",
      "2021-07-14 17:00:01,576:(0.17s):geometry:\treduced angle potential = 9.561051668715153e-06.\n",
      "2021-07-14 17:00:01,767:(0.19s):geometry:\treduced angle potential = 2.233125127093818e-08.\n",
      "2021-07-14 17:00:01,940:(0.17s):geometry:\treduced angle potential = 9.265637866968462e-06.\n",
      "2021-07-14 17:00:02,123:(0.18s):geometry:\tbeginning construction of no_nonbonded final system...\n",
      "2021-07-14 17:00:02,126:(0.00s):geometry:\tinitial no-nonbonded final system forces ['HarmonicBondForce', 'HarmonicAngleForce', 'PeriodicTorsionForce', 'NonbondedForce']\n",
      "2021-07-14 17:00:02,166:(0.04s):geometry:\tfinal no-nonbonded final system forces dict_keys(['HarmonicBondForce', 'HarmonicAngleForce', 'PeriodicTorsionForce', 'NonbondedForce'])\n",
      "2021-07-14 17:00:02,169:(0.00s):geometry:\tthere are 61 bond forces in the no-nonbonded final system\n",
      "2021-07-14 17:00:02,171:(0.00s):geometry:\tthere are 218 angle forces in the no-nonbonded final system\n",
      "2021-07-14 17:00:02,174:(0.00s):geometry:\tthere are 399 torsion forces in the no-nonbonded final system\n",
      "2021-07-14 17:00:02,176:(0.00s):geometry:reverse final system defined with 0 neglected angles.\n"
     ]
    },
    {
     "name": "stdout",
     "output_type": "stream",
     "text": [
      "conducting subsequent work with the following platform: CUDA\n",
      "conducting subsequent work with the following platform: CUDA\n"
     ]
    },
    {
     "name": "stderr",
     "output_type": "stream",
     "text": [
      "2021-07-14 17:00:05,256:(3.08s):geometry:total reduced potential before atom placement: 168.36662826283057\n"
     ]
    },
    {
     "name": "stdout",
     "output_type": "stream",
     "text": [
      "conducting subsequent work with the following platform: CUDA\n",
      "conducting subsequent work with the following platform: CUDA\n",
      "conducting subsequent work with the following platform: CUDA\n"
     ]
    },
    {
     "name": "stderr",
     "output_type": "stream",
     "text": [
      "2021-07-14 17:00:07,377:(2.12s):geometry:total reduced energy added from growth system: 19.11335785388209\n",
      "2021-07-14 17:00:07,379:(0.00s):geometry:final reduced energy 187.47998570143525\n",
      "2021-07-14 17:00:07,381:(0.00s):geometry:sum of energies: 187.47998611671267\n",
      "2021-07-14 17:00:07,382:(0.00s):geometry:magnitude of difference in the energies: 4.1527740890501263e-07\n",
      "2021-07-14 17:00:07,384:(0.00s):geometry:Final logp_proposal: -30520.401117598245\n"
     ]
    },
    {
     "name": "stdout",
     "output_type": "stream",
     "text": [
      "added energy components: [('CustomBondForce', 0.04562463240715887), ('CustomAngleForce', 0.11963264577965825), ('CustomTorsionForce', 7.457414545448549), ('CustomBondForce', 11.490686030246726)]\n"
     ]
    }
   ],
   "source": [
    "from perses.rjmc.topology_proposal import PointMutationEngine\n",
    "from perses.tests.utils import validate_endstate_energies\n",
    "import random\n",
    "\n",
    "aminos = ['ALA','ARG','ASN','ASP','CYS','GLN','GLU','GLY','HIS','ILE','LEU','LYS','MET','PHE','PRO','SER','THR','TRP','TYR','VAL']\n",
    "\n",
    "ENERGY_THRESHOLD = 1e-6\n",
    "kB = unit.BOLTZMANN_CONSTANT_kB * unit.AVOGADRO_CONSTANT_NA\n",
    "temperature = 300.0 * unit.kelvin\n",
    "kT = kB * temperature\n",
    "beta = 1.0/kT\n",
    "\n",
    "chain = 'C'\n",
    "for res in topology.residues():\n",
    "    if res.id == '2':\n",
    "        wt_res = res.name\n",
    "aminos_updated = [amino for amino in aminos if amino not in [wt_res, 'PRO', 'HIS', 'TRP', 'PHE', 'TYR', 'ARG', 'LYS', 'GLU', 'ASP']]\n",
    "# mutant = random.choice(aminos_updated)\n",
    "mutant = \"LEU\"\n",
    "print(f'Making mutation {wt_res}->{mutant}')\n",
    "\n",
    "# Create point mutation engine to mutate residue at id 2 to random amino acid\n",
    "point_mutation_engine = PointMutationEngine(wildtype_topology=topology,\n",
    "                                            system_generator=system_generator,\n",
    "                                            chain_id=chain,\n",
    "                                            max_point_mutants=1,\n",
    "                                            residues_allowed_to_mutate=['2'],  # the residue ids allowed to mutate\n",
    "                                            allowed_mutations=[('2', mutant)],\n",
    "                                            aggregate=True)  # always allow aggregation\n",
    "\n",
    "# Create topology proposal\n",
    "topology_proposal = point_mutation_engine.propose(current_system=system, current_topology=topology)\n",
    "\n",
    "# Create geometry engine\n",
    "from perses.rjmc.geometry import FFAllAngleGeometryEngine\n",
    "geometry_engine = FFAllAngleGeometryEngine(metadata=None,\n",
    "                                           use_sterics=False,\n",
    "                                           n_bond_divisions=100,\n",
    "                                           n_angle_divisions=180,\n",
    "                                           n_torsion_divisions=360,\n",
    "                                           verbose=True,\n",
    "                                           storage=None,\n",
    "                                           bond_softening_constant=1.0,\n",
    "                                           angle_softening_constant=1.0,\n",
    "                                           neglect_angles=False,\n",
    "                                           use_14_nonbondeds=True)\n",
    "\n",
    "# Create geometry proposal\n",
    "new_positions, logp_proposal = geometry_engine.propose(topology_proposal, positions, beta,\n",
    "                                                               validate_energy_bookkeeping=False)\n",
    "logp_reverse = geometry_engine.logp_reverse(topology_proposal, new_positions, positions, beta,\n",
    "                                            validate_energy_bookkeeping=False)\n",
    "\n",
    "if not topology_proposal.unique_new_atoms:\n",
    "    assert geometry_engine.forward_final_context_reduced_potential == None, f\"There are no unique new atoms but the geometry_engine's final context reduced potential is not None (i.e. {self._geometry_engine.forward_final_context_reduced_potential})\"\n",
    "    assert geometry_engine.forward_atoms_with_positions_reduced_potential == None, f\"There are no unique new atoms but the geometry_engine's forward atoms-with-positions-reduced-potential in not None (i.e. { self._geometry_engine.forward_atoms_with_positions_reduced_potential})\"\n",
    "    vacuum_added_valence_energy = 0.0\n",
    "else:\n",
    "    added_valence_energy = geometry_engine.forward_final_context_reduced_potential - geometry_engine.forward_atoms_with_positions_reduced_potential\n",
    "\n",
    "if not topology_proposal.unique_old_atoms:\n",
    "    assert geometry_engine.reverse_final_context_reduced_potential == None, f\"There are no unique old atoms but the geometry_engine's final context reduced potential is not None (i.e. {self._geometry_engine.reverse_final_context_reduced_potential})\"\n",
    "    assert geometry_engine.reverse_atoms_with_positions_reduced_potential == None, f\"There are no unique old atoms but the geometry_engine's atoms-with-positions-reduced-potential in not None (i.e. { self._geometry_engine.reverse_atoms_with_positions_reduced_potential})\"\n",
    "    subtracted_valence_energy = 0.0\n",
    "else:\n",
    "    subtracted_valence_energy = geometry_engine.reverse_final_context_reduced_potential - geometry_engine.reverse_atoms_with_positions_reduced_potential\n"
   ]
  },
  {
   "cell_type": "code",
   "execution_count": 32,
   "id": "d52c0100",
   "metadata": {
    "scrolled": true
   },
   "outputs": [
    {
     "name": "stderr",
     "output_type": "stream",
     "text": [
      "2021-07-14 17:00:07,534:(0.15s):relative:*** Generating RxnHybridTopologyFactory ***\n",
      "2021-07-14 17:00:07,536:(0.00s):relative:Beginning nonbonded method, total particle, barostat, and exceptions retrieval...\n",
      "2021-07-14 17:00:07,563:(0.03s):relative:Old system forces: dict_keys(['HarmonicBondForce', 'HarmonicAngleForce', 'PeriodicTorsionForce', 'NonbondedForce'])\n",
      "2021-07-14 17:00:07,565:(0.00s):relative:New system forces: dict_keys(['HarmonicBondForce', 'HarmonicAngleForce', 'PeriodicTorsionForce', 'NonbondedForce'])\n",
      "2021-07-14 17:00:07,567:(0.00s):relative:No unknown forces.\n",
      "2021-07-14 17:00:07,568:(0.00s):relative:Nonbonded method to be used (i.e. from old system): 0\n",
      "2021-07-14 17:00:07,570:(0.00s):relative:Adding and mapping old atoms to hybrid system...\n",
      "2021-07-14 17:00:07,573:(0.00s):relative:Adding and mapping new atoms to hybrid system...\n",
      "2021-07-14 17:00:07,574:(0.00s):relative:scale_templates: [['nonscale_lambda'], ['nonscale_region']]\n",
      "2021-07-14 17:00:07,576:(0.00s):relative:particle (nonbonded) scale_templates: [['nonscale_lambda'], ['nonscale_region1'], ['nonscale_region2']]\n",
      "2021-07-14 17:00:07,578:(0.00s):relative:No MonteCarloBarostat added.\n",
      "2021-07-14 17:00:07,579:(0.00s):relative:getDefaultPeriodicBoxVectors added to hybrid: [Quantity(value=Vec3(x=2.0, y=0.0, z=0.0), unit=nanometer), Quantity(value=Vec3(x=0.0, y=2.0, z=0.0), unit=nanometer), Quantity(value=Vec3(x=0.0, y=0.0, z=2.0), unit=nanometer)]\n",
      "2021-07-14 17:00:07,581:(0.00s):relative:Determined atom classes.\n",
      "2021-07-14 17:00:07,583:(0.00s):relative:Generating old system exceptions dict...\n",
      "2021-07-14 17:00:07,588:(0.00s):relative:Generating new system exceptions dict...\n",
      "2021-07-14 17:00:07,595:(0.01s):relative:Handling constraints...\n",
      "2021-07-14 17:00:07,598:(0.00s):relative:Handling virtual sites...\n",
      "2021-07-14 17:00:07,600:(0.00s):relative:\t_handle_virtual_sites: numVirtualSites: 0\n"
     ]
    }
   ],
   "source": [
    "from perses.annihilation.relative import RxnHybridTopologyFactory\n",
    "flatten_exceptions = True\n",
    "flatten_torsions = True\n",
    "scale_regions = None\n",
    "htf = RxnHybridTopologyFactory(topology_proposal=topology_proposal,\n",
    "                     current_positions=positions,\n",
    "                     new_positions=new_positions,\n",
    "                     use_dispersion_correction=False,\n",
    "                     functions=None,\n",
    "                     softcore_alpha=None,\n",
    "                     bond_softening_constant=1.0,\n",
    "                     angle_softening_constant=1.0,\n",
    "                     soften_only_new=False,\n",
    "                     neglected_new_angle_terms=[],\n",
    "                     neglected_old_angle_terms=[],\n",
    "                     softcore_LJ_v2=True,\n",
    "                     softcore_electrostatics=True,\n",
    "                     softcore_LJ_v2_alpha=0.85,\n",
    "                     softcore_electrostatics_alpha=0.3,\n",
    "                     softcore_sigma_Q=1.0,\n",
    "                     interpolate_old_and_new_14s=flatten_exceptions,\n",
    "                     omitted_terms=None,\n",
    "                     flatten_torsions=flatten_torsions,\n",
    "                     scale_regions=scale_regions,\n",
    "                    generate_htf_for_testing=True)"
   ]
  },
  {
   "cell_type": "code",
   "execution_count": 33,
   "id": "a99c5ffe",
   "metadata": {},
   "outputs": [],
   "source": [
    "\n",
    "htf._topology_proposal.new_system.getForce(3).setNonbondedMethod(openmm.NonbondedForce.NoCutoff)\n",
    "htf._topology_proposal.new_system.getForce(3).setUseDispersionCorrection(False)\n",
    "# htf._topology_proposal.new_system.removeForce(4) # Remove barostat\n"
   ]
  },
  {
   "cell_type": "code",
   "execution_count": 34,
   "id": "8c62c02d",
   "metadata": {},
   "outputs": [],
   "source": [
    "# Load htf\n",
    "with open(\"/home/zhangi/choderalab/perses_benchmark/perses_protein_mutations/code/26_rxn_field/8mer_vacuum.pickle\", \"wb\") as f:\n",
    "    pickle.dump(htf, f)"
   ]
  },
  {
   "cell_type": "markdown",
   "id": "2c85d0fd",
   "metadata": {},
   "source": [
    "### Test one alchemical region, no scale regions"
   ]
  },
  {
   "cell_type": "markdown",
   "id": "4c4ccfc3",
   "metadata": {},
   "source": [
    "#### Old system HarmonicBondForce vs hybrid system CustomBondForce"
   ]
  },
  {
   "cell_type": "code",
   "execution_count": 35,
   "id": "12d3c781",
   "metadata": {},
   "outputs": [],
   "source": [
    "# Load htf\n",
    "with open(\"/home/zhangi/choderalab/perses_benchmark/perses_protein_mutations/code/26_rxn_field/8mer_vacuum.pickle\", \"rb\") as f:\n",
    "    htf = pickle.load(f)"
   ]
  },
  {
   "cell_type": "code",
   "execution_count": 36,
   "id": "e84ef3f5",
   "metadata": {
    "scrolled": false
   },
   "outputs": [
    {
     "name": "stdout",
     "output_type": "stream",
     "text": [
      "Warning: Returning CPU platform instead of requested platform <simtk.openmm.openmm.Platform; proxy of <Swig Object of type 'OpenMM::Platform *' at 0x2b2ab7bc8840> >\n",
      "conducting subsequent work with the following platform: CPU\n",
      "conducting subsequent work with the following platform: CUDA\n",
      "[('HarmonicBondForce', 7.300105424153174), ('HarmonicAngleForce', 12.445685055931849), ('PeriodicTorsionForce', 156.24350906389375), ('NonbondedForce', -243.3076664147409), ('AndersenThermostat', 0.0)]\n",
      "conducting subsequent work with the following platform: CUDA\n",
      "[('CustomBondForce', 7.824384237543661), ('CustomAngleForce', 579.9082270624853), ('CustomTorsionForce', 156.24351836067592), ('CustomNonbondedForce', -879.2155855849345), ('CustomNonbondedForce', 12.998397411394905), ('CustomBondForce', 635.907909782493), ('CustomBondForce', 56.047220181697135), ('AndersenThermostat', 0.0)]\n",
      "Success! Custom nb force and standard nb force electrostatics energies are equal!\n"
     ]
    },
    {
     "data": {
      "text/plain": [
       "<simtk.openmm.openmm.Context; proxy of <Swig Object of type 'OpenMM::Context *' at 0x2b2b0d2c19f0> >"
      ]
     },
     "execution_count": 36,
     "metadata": {},
     "output_type": "execute_result"
    }
   ],
   "source": [
    "test_nb_energies(htf)"
   ]
  },
  {
   "cell_type": "code",
   "execution_count": 37,
   "id": "cb27387d",
   "metadata": {},
   "outputs": [],
   "source": [
    "# Load htf\n",
    "with open(\"/home/zhangi/choderalab/perses_benchmark/perses_protein_mutations/code/26_rxn_field/8mer_vacuum.pickle\", \"rb\") as f:\n",
    "    htf = pickle.load(f)"
   ]
  },
  {
   "cell_type": "code",
   "execution_count": 38,
   "id": "1c71e30b",
   "metadata": {},
   "outputs": [
    {
     "name": "stdout",
     "output_type": "stream",
     "text": [
      "Warning: Returning CPU platform instead of requested platform <simtk.openmm.openmm.Platform; proxy of <Swig Object of type 'OpenMM::Platform *' at 0x2b2ab7bc8840> >\n",
      "conducting subsequent work with the following platform: CPU\n",
      "conducting subsequent work with the following platform: CUDA\n",
      "[('HarmonicBondForce', 7.300105424153174), ('HarmonicAngleForce', 12.445685055931849), ('PeriodicTorsionForce', 156.24350906389375), ('NonbondedForce', 69.04562949047147), ('AndersenThermostat', 0.0)]\n",
      "conducting subsequent work with the following platform: CUDA\n",
      "[('CustomBondForce', 7.824384237543661), ('CustomAngleForce', 579.9082270624853), ('CustomTorsionForce', 156.24351836067592), ('CustomNonbondedForce', -879.2155855849345), ('CustomNonbondedForce', 12.998397411394905), ('CustomBondForce', 635.907909782493), ('CustomBondForce', 56.047220181697135), ('AndersenThermostat', 0.0)]\n",
      "Success! Custom nb force and standard nb force sterics energies are equal!\n"
     ]
    },
    {
     "data": {
      "text/plain": [
       "<simtk.openmm.openmm.Context; proxy of <Swig Object of type 'OpenMM::Context *' at 0x2b2b0d3ecde0> >"
      ]
     },
     "execution_count": 38,
     "metadata": {},
     "output_type": "execute_result"
    }
   ],
   "source": [
    "test_nb_energies(htf, is_electrostatics=False)"
   ]
  },
  {
   "cell_type": "markdown",
   "id": "2cd71594",
   "metadata": {},
   "source": [
    "#### New system HarmonicBondForce vs hybrid system CustomBondForce"
   ]
  },
  {
   "cell_type": "code",
   "execution_count": 39,
   "id": "fe34d458",
   "metadata": {},
   "outputs": [],
   "source": [
    "def get_params(system, is_hybrid=False):\n",
    "    print(f\"nb method: {system.getNonbondedMethod()}\")\n",
    "    if is_hybrid:\n",
    "        print(f\"dispersion correction: {system.getUseLongRangeCorrection()}\")\n",
    "    else:\n",
    "        print(f\"dispersion correction: {system.getUseDispersionCorrection()}\")\n",
    "    print(f\"switching fn: {system.getUseSwitchingFunction()}\")\n",
    "    print(f\"pbcs: {system.usesPeriodicBoundaryConditions()}\")    "
   ]
  },
  {
   "cell_type": "code",
   "execution_count": 40,
   "id": "73786db6",
   "metadata": {},
   "outputs": [],
   "source": [
    "# Load htf\n",
    "with open(\"/home/zhangi/choderalab/perses_benchmark/perses_protein_mutations/code/26_rxn_field/8mer_vacuum.pickle\", \"rb\") as f:\n",
    "    htf = pickle.load(f)\n"
   ]
  },
  {
   "cell_type": "code",
   "execution_count": 41,
   "id": "f9f31eb5",
   "metadata": {
    "scrolled": false
   },
   "outputs": [
    {
     "name": "stdout",
     "output_type": "stream",
     "text": [
      "Warning: Returning CPU platform instead of requested platform <simtk.openmm.openmm.Platform; proxy of <Swig Object of type 'OpenMM::Platform *' at 0x2b2ab7bc8840> >\n",
      "conducting subsequent work with the following platform: CPU\n",
      "conducting subsequent work with the following platform: CUDA\n",
      "[('HarmonicBondForce', 7.778759605136503), ('HarmonicAngleForce', 579.7885944167056), ('PeriodicTorsionForce', 176.54038573044002), ('NonbondedForce', -290.33658525638515), ('AndersenThermostat', 0.0)]\n",
      "conducting subsequent work with the following platform: CUDA\n",
      "[('CustomBondForce', 7.824384237543661), ('CustomAngleForce', 579.9082270624853), ('CustomTorsionForce', 156.24351836067592), ('CustomNonbondedForce', -875.4291730639841), ('CustomNonbondedForce', 12.998397411394905), ('CustomBondForce', 597.8875219982423), ('CustomBondForce', 56.047220181697135), ('AndersenThermostat', 0.0)]\n"
     ]
    },
    {
     "ename": "AssertionError",
     "evalue": "standard nonbonded: -290.33658525638515, custom nonbonded/bond: -277.5416510657418",
     "output_type": "error",
     "traceback": [
      "\u001b[0;31m---------------------------------------------------------------------------\u001b[0m",
      "\u001b[0;31mAssertionError\u001b[0m                            Traceback (most recent call last)",
      "\u001b[0;32m<ipython-input-41-2f3996bb479d>\u001b[0m in \u001b[0;36m<module>\u001b[0;34m\u001b[0m\n\u001b[0;32m----> 1\u001b[0;31m \u001b[0mtest_nb_energies\u001b[0m\u001b[0;34m(\u001b[0m\u001b[0mhtf\u001b[0m\u001b[0;34m,\u001b[0m \u001b[0mis_old\u001b[0m\u001b[0;34m=\u001b[0m\u001b[0;32mFalse\u001b[0m\u001b[0;34m)\u001b[0m\u001b[0;34m\u001b[0m\u001b[0;34m\u001b[0m\u001b[0m\n\u001b[0m",
      "\u001b[0;32m<ipython-input-2-4c32de47cb35>\u001b[0m in \u001b[0;36mtest_nb_energies\u001b[0;34m(htf, is_electrostatics, is_old, is_solvated, check_scale)\u001b[0m\n\u001b[1;32m    127\u001b[0m     \u001b[0mprint\u001b[0m\u001b[0;34m(\u001b[0m\u001b[0mcomponents_hybrid\u001b[0m\u001b[0;34m)\u001b[0m\u001b[0;34m\u001b[0m\u001b[0;34m\u001b[0m\u001b[0m\n\u001b[1;32m    128\u001b[0m \u001b[0;34m\u001b[0m\u001b[0m\n\u001b[0;32m--> 129\u001b[0;31m     \u001b[0;32massert\u001b[0m \u001b[0mnp\u001b[0m\u001b[0;34m.\u001b[0m\u001b[0misclose\u001b[0m\u001b[0;34m(\u001b[0m\u001b[0;34m[\u001b[0m\u001b[0mcomponents_other\u001b[0m\u001b[0;34m[\u001b[0m\u001b[0mnb_force_index\u001b[0m\u001b[0;34m]\u001b[0m\u001b[0;34m[\u001b[0m\u001b[0;36m1\u001b[0m\u001b[0;34m]\u001b[0m\u001b[0;34m]\u001b[0m\u001b[0;34m,\u001b[0m \u001b[0mnp\u001b[0m\u001b[0;34m.\u001b[0m\u001b[0msum\u001b[0m\u001b[0;34m(\u001b[0m\u001b[0;34m[\u001b[0m\u001b[0menergy\u001b[0m\u001b[0;34m[\u001b[0m\u001b[0;36m1\u001b[0m\u001b[0;34m]\u001b[0m \u001b[0;32mfor\u001b[0m \u001b[0mi\u001b[0m\u001b[0;34m,\u001b[0m \u001b[0menergy\u001b[0m \u001b[0;32min\u001b[0m \u001b[0menumerate\u001b[0m\u001b[0;34m(\u001b[0m\u001b[0mcomponents_hybrid\u001b[0m\u001b[0;34m)\u001b[0m \u001b[0;32mif\u001b[0m \u001b[0mi\u001b[0m \u001b[0;32min\u001b[0m \u001b[0;34m[\u001b[0m\u001b[0mcustom_nb_force_index\u001b[0m\u001b[0;34m,\u001b[0m \u001b[0mcustom_nb_exceptions_force_index\u001b[0m\u001b[0;34m]\u001b[0m \u001b[0;34m]\u001b[0m\u001b[0;34m)\u001b[0m\u001b[0;34m)\u001b[0m\u001b[0;34m,\u001b[0m \u001b[0;34mf\"standard nonbonded: {components_other[nb_force_index][1]}, custom nonbonded/bond: {np.sum([energy[1] for i, energy in enumerate(components_hybrid) if i in [custom_nb_force_index, custom_nb_exceptions_force_index] ])}\"\u001b[0m\u001b[0;34m\u001b[0m\u001b[0;34m\u001b[0m\u001b[0m\n\u001b[0m\u001b[1;32m    130\u001b[0m \u001b[0;34m\u001b[0m\u001b[0m\n\u001b[1;32m    131\u001b[0m     \u001b[0mtype_str\u001b[0m \u001b[0;34m=\u001b[0m \u001b[0;34m'electrostatics'\u001b[0m \u001b[0;32mif\u001b[0m \u001b[0mis_electrostatics\u001b[0m \u001b[0;32melse\u001b[0m \u001b[0;34m'sterics'\u001b[0m\u001b[0;34m\u001b[0m\u001b[0;34m\u001b[0m\u001b[0m\n",
      "\u001b[0;31mAssertionError\u001b[0m: standard nonbonded: -290.33658525638515, custom nonbonded/bond: -277.5416510657418"
     ]
    }
   ],
   "source": [
    "test_nb_energies(htf, is_old=False)"
   ]
  },
  {
   "cell_type": "code",
   "execution_count": 145,
   "id": "a34e5852",
   "metadata": {},
   "outputs": [
    {
     "name": "stdout",
     "output_type": "stream",
     "text": [
      "nb method: 0\n",
      "dispersion correction: False\n",
      "switching fn: False\n",
      "pbcs: False\n"
     ]
    }
   ],
   "source": [
    "get_params(htf.hybrid_system.getForce(3), is_hybrid=True)"
   ]
  },
  {
   "cell_type": "code",
   "execution_count": 30,
   "id": "d807c571",
   "metadata": {},
   "outputs": [
    {
     "name": "stdout",
     "output_type": "stream",
     "text": [
      "nb method: 0\n",
      "dispersion correction: False\n",
      "switching fn: False\n",
      "pbcs: False\n"
     ]
    }
   ],
   "source": [
    "get_params(htf.hybrid_system.getForce(4), is_hybrid=True)"
   ]
  },
  {
   "cell_type": "code",
   "execution_count": 56,
   "id": "2cd7ddf1",
   "metadata": {},
   "outputs": [
    {
     "data": {
      "text/plain": [
       "False"
      ]
     },
     "execution_count": 56,
     "metadata": {},
     "output_type": "execute_result"
    }
   ],
   "source": [
    "htf.hybrid_system.getForce(5).usesPeriodicBoundaryConditions()"
   ]
  },
  {
   "cell_type": "code",
   "execution_count": 57,
   "id": "05bfbfaa",
   "metadata": {},
   "outputs": [
    {
     "data": {
      "text/plain": [
       "False"
      ]
     },
     "execution_count": 57,
     "metadata": {},
     "output_type": "execute_result"
    }
   ],
   "source": [
    "htf.hybrid_system.getForce(6).usesPeriodicBoundaryConditions()"
   ]
  },
  {
   "cell_type": "code",
   "execution_count": 65,
   "id": "8123e7d7",
   "metadata": {},
   "outputs": [
    {
     "data": {
      "text/plain": [
       "False"
      ]
     },
     "execution_count": 65,
     "metadata": {},
     "output_type": "execute_result"
    }
   ],
   "source": [
    "htf._topology_proposal.new_system.getForce(3).getUseSwitchingFunction()"
   ]
  },
  {
   "cell_type": "code",
   "execution_count": 54,
   "id": "585966a4",
   "metadata": {},
   "outputs": [
    {
     "name": "stdout",
     "output_type": "stream",
     "text": [
      "0 ACE0-CH3\n",
      "1 ACE0-C\n",
      "2 ACE0-O\n",
      "3 ACE0-H1\n",
      "4 ACE0-H2\n",
      "5 ACE0-H3\n",
      "6 SER1-N\n",
      "7 SER1-CA\n",
      "8 SER1-C\n",
      "9 SER1-O\n",
      "10 SER1-CB\n",
      "11 SER1-OG\n",
      "12 SER1-H2\n",
      "13 SER1-HA\n",
      "14 SER1-HB3\n",
      "15 SER1-HB2\n",
      "16 SER1-HG\n",
      "17 ALA2-N\n",
      "18 ALA2-CA\n",
      "19 ALA2-C\n",
      "20 ALA2-O\n",
      "21 ALA2-CB\n",
      "22 ALA2-H\n",
      "23 ALA2-HA\n",
      "24 ALA2-HB1\n",
      "25 ALA2-HB2\n",
      "26 ALA2-HB3\n",
      "123 ALA2-CD1\n",
      "124 ALA2-HD11\n",
      "125 ALA2-HD12\n",
      "126 ALA2-HD13\n",
      "127 ALA2-CB\n",
      "128 ALA2-HB\n",
      "129 ALA2-CG2\n",
      "130 ALA2-HG21\n",
      "131 ALA2-HG22\n",
      "132 ALA2-HG23\n",
      "133 ALA2-CG1\n",
      "134 ALA2-HG12\n",
      "135 ALA2-HG13\n",
      "27 VAL3-N\n",
      "28 VAL3-CA\n",
      "29 VAL3-C\n",
      "30 VAL3-O\n",
      "31 VAL3-CB\n",
      "32 VAL3-CG1\n",
      "33 VAL3-CG2\n",
      "34 VAL3-H\n",
      "35 VAL3-HA\n",
      "36 VAL3-HB\n",
      "37 VAL3-HG11\n",
      "38 VAL3-HG12\n",
      "39 VAL3-HG13\n",
      "40 VAL3-HG21\n",
      "41 VAL3-HG22\n",
      "42 VAL3-HG23\n",
      "43 LEU4-N\n",
      "44 LEU4-CA\n",
      "45 LEU4-C\n",
      "46 LEU4-O\n",
      "47 LEU4-CB\n",
      "48 LEU4-CG\n",
      "49 LEU4-CD1\n",
      "50 LEU4-CD2\n",
      "51 LEU4-H\n",
      "52 LEU4-HA\n",
      "53 LEU4-HB3\n",
      "54 LEU4-HB2\n",
      "55 LEU4-HG\n",
      "56 LEU4-HD11\n",
      "57 LEU4-HD12\n",
      "58 LEU4-HD13\n",
      "59 LEU4-HD21\n",
      "60 LEU4-HD22\n",
      "61 LEU4-HD23\n",
      "62 GLN5-N\n",
      "63 GLN5-CA\n",
      "64 GLN5-C\n",
      "65 GLN5-O\n",
      "66 GLN5-CB\n",
      "67 GLN5-CG\n",
      "68 GLN5-CD\n",
      "69 GLN5-NE2\n",
      "70 GLN5-OE1\n",
      "71 GLN5-H\n",
      "72 GLN5-HA\n",
      "73 GLN5-HB3\n",
      "74 GLN5-HB2\n",
      "75 GLN5-HG3\n",
      "76 GLN5-HG2\n",
      "77 GLN5-HE22\n",
      "78 GLN5-HE21\n",
      "79 SER6-N\n",
      "80 SER6-CA\n",
      "81 SER6-C\n",
      "82 SER6-O\n",
      "83 SER6-CB\n",
      "84 SER6-OG\n",
      "85 SER6-H\n",
      "86 SER6-HA\n",
      "87 SER6-HB3\n",
      "88 SER6-HB2\n",
      "89 SER6-HG\n",
      "90 GLY7-N\n",
      "91 GLY7-CA\n",
      "92 GLY7-C\n",
      "93 GLY7-O\n",
      "94 GLY7-H\n",
      "95 GLY7-HA3\n",
      "96 GLY7-HA2\n",
      "97 PHE8-N\n",
      "98 PHE8-CA\n",
      "99 PHE8-C\n",
      "100 PHE8-O\n",
      "101 PHE8-CB\n",
      "102 PHE8-CG\n",
      "103 PHE8-CD1\n",
      "104 PHE8-CD2\n",
      "105 PHE8-CE1\n",
      "106 PHE8-CE2\n",
      "107 PHE8-CZ\n",
      "108 PHE8-H\n",
      "109 PHE8-HA\n",
      "110 PHE8-HB3\n",
      "111 PHE8-HB2\n",
      "112 PHE8-HD1\n",
      "113 PHE8-HD2\n",
      "114 PHE8-HE1\n",
      "115 PHE8-HE2\n",
      "116 PHE8-HZ\n",
      "117 NME8-N\n",
      "118 NME8-C\n",
      "119 NME8-H\n",
      "120 NME8-H1\n",
      "121 NME8-H2\n",
      "122 NME8-H3\n"
     ]
    }
   ],
   "source": [
    "for atom in htf.hybrid_topology.atoms:\n",
    "    print(atom.index, atom)"
   ]
  },
  {
   "cell_type": "code",
   "execution_count": 55,
   "id": "bf0cf2c4",
   "metadata": {},
   "outputs": [
    {
     "name": "stdout",
     "output_type": "stream",
     "text": [
      "0 (1.0, 1.0, 0.0, 0.0, 0.0, 0.0, -0.3662, -0.0)\n",
      "1 (1.0, 1.0, 0.0, 0.0, 0.0, 0.0, 0.5972, 0.0)\n",
      "2 (1.0, 1.0, 0.0, 0.0, 0.0, 0.0, -0.5679, -0.0)\n",
      "3 (1.0, 1.0, 0.0, 0.0, 0.0, 0.0, 0.1123, 0.0)\n",
      "4 (1.0, 1.0, 0.0, 0.0, 0.0, 0.0, 0.1123, 0.0)\n",
      "5 (1.0, 1.0, 0.0, 0.0, 0.0, 0.0, 0.1123, 0.0)\n",
      "6 (1.0, 0.0, 1.0, 0.0, 0.0, 1.0, -0.4157, -0.4157)\n",
      "7 (1.0, 0.0, 1.0, 0.0, 0.0, 1.0, -0.0249, -0.0249)\n",
      "8 (1.0, 0.0, 1.0, 0.0, 0.0, 1.0, 0.5973, 0.5973)\n",
      "9 (1.0, 0.0, 1.0, 0.0, 0.0, 1.0, -0.5679, -0.5679)\n",
      "10 (1.0, 0.0, 1.0, 0.0, 0.0, 1.0, 0.2117, 0.2117)\n",
      "11 (1.0, 0.0, 1.0, 0.0, 0.0, 1.0, -0.6546, -0.6546)\n",
      "12 (1.0, 0.0, 1.0, 0.0, 0.0, 1.0, 0.2719, 0.2719)\n",
      "13 (1.0, 0.0, 1.0, 0.0, 0.0, 1.0, 0.0843, 0.0843)\n",
      "14 (1.0, 0.0, 1.0, 0.0, 0.0, 1.0, 0.0352, 0.0352)\n",
      "15 (1.0, 0.0, 1.0, 0.0, 0.0, 1.0, 0.0352, 0.0352)\n",
      "16 (1.0, 0.0, 1.0, 0.0, 0.0, 1.0, 0.4275, 0.4275)\n",
      "17 (1.0, 0.0, 1.0, 0.0, 0.0, 1.0, -0.4157, -0.4157)\n",
      "18 (1.0, 0.0, 1.0, 0.0, 0.0, 1.0, 0.0337, -0.0597)\n",
      "19 (1.0, 0.0, 1.0, 0.0, 0.0, 1.0, 0.5973, 0.5973)\n",
      "20 (1.0, 0.0, 1.0, 0.0, 0.0, 1.0, -0.5679, -0.5679)\n",
      "21 (1.0, 0.0, 1.0, 1.0, 0.0, 0.0, -0.1825, -0.0)\n",
      "22 (1.0, 0.0, 1.0, 0.0, 0.0, 1.0, 0.2719, 0.2719)\n",
      "23 (1.0, 0.0, 1.0, 0.0, 0.0, 1.0, 0.0823, 0.0869)\n",
      "24 (1.0, 0.0, 1.0, 1.0, 0.0, 0.0, 0.0603, 0.0)\n",
      "25 (1.0, 0.0, 1.0, 1.0, 0.0, 0.0, 0.0603, 0.0)\n",
      "26 (1.0, 0.0, 1.0, 1.0, 0.0, 0.0, 0.0603, 0.0)\n",
      "27 (1.0, 0.0, 1.0, 0.0, 0.0, 1.0, -0.4157, -0.4157)\n",
      "28 (1.0, 0.0, 1.0, 0.0, 0.0, 1.0, -0.0875, -0.0875)\n",
      "29 (1.0, 0.0, 1.0, 0.0, 0.0, 1.0, 0.5973, 0.5973)\n",
      "30 (1.0, 0.0, 1.0, 0.0, 0.0, 1.0, -0.5679, -0.5679)\n",
      "31 (1.0, 0.0, 1.0, 0.0, 0.0, 1.0, 0.2985, 0.2985)\n",
      "32 (1.0, 0.0, 1.0, 0.0, 0.0, 1.0, -0.3192, -0.3192)\n",
      "33 (1.0, 0.0, 1.0, 0.0, 0.0, 1.0, -0.3192, -0.3192)\n",
      "34 (1.0, 0.0, 1.0, 0.0, 0.0, 1.0, 0.2719, 0.2719)\n",
      "35 (1.0, 0.0, 1.0, 0.0, 0.0, 1.0, 0.0969, 0.0969)\n",
      "36 (1.0, 0.0, 1.0, 0.0, 0.0, 1.0, -0.0297, -0.0297)\n",
      "37 (1.0, 0.0, 1.0, 0.0, 0.0, 1.0, 0.0791, 0.0791)\n",
      "38 (1.0, 0.0, 1.0, 0.0, 0.0, 1.0, 0.0791, 0.0791)\n",
      "39 (1.0, 0.0, 1.0, 0.0, 0.0, 1.0, 0.0791, 0.0791)\n",
      "40 (1.0, 0.0, 1.0, 0.0, 0.0, 1.0, 0.0791, 0.0791)\n",
      "41 (1.0, 0.0, 1.0, 0.0, 0.0, 1.0, 0.0791, 0.0791)\n",
      "42 (1.0, 0.0, 1.0, 0.0, 0.0, 1.0, 0.0791, 0.0791)\n",
      "43 (1.0, 1.0, 0.0, 0.0, 0.0, 0.0, -0.4157, -0.0)\n",
      "44 (1.0, 1.0, 0.0, 0.0, 0.0, 0.0, -0.0518, -0.0)\n",
      "45 (1.0, 1.0, 0.0, 0.0, 0.0, 0.0, 0.5973, 0.0)\n",
      "46 (1.0, 1.0, 0.0, 0.0, 0.0, 0.0, -0.5679, -0.0)\n",
      "47 (1.0, 1.0, 0.0, 0.0, 0.0, 0.0, -0.1102, -0.0)\n",
      "48 (1.0, 1.0, 0.0, 0.0, 0.0, 0.0, 0.3531, 0.0)\n",
      "49 (1.0, 1.0, 0.0, 0.0, 0.0, 0.0, -0.4121, -0.0)\n",
      "50 (1.0, 1.0, 0.0, 0.0, 0.0, 0.0, -0.4121, -0.0)\n",
      "51 (1.0, 1.0, 0.0, 0.0, 0.0, 0.0, 0.2719, 0.0)\n",
      "52 (1.0, 1.0, 0.0, 0.0, 0.0, 0.0, 0.0922, 0.0)\n",
      "53 (1.0, 1.0, 0.0, 0.0, 0.0, 0.0, 0.0457, 0.0)\n",
      "54 (1.0, 1.0, 0.0, 0.0, 0.0, 0.0, 0.0457, 0.0)\n",
      "55 (1.0, 1.0, 0.0, 0.0, 0.0, 0.0, -0.0361, -0.0)\n",
      "56 (1.0, 1.0, 0.0, 0.0, 0.0, 0.0, 0.1, 0.0)\n",
      "57 (1.0, 1.0, 0.0, 0.0, 0.0, 0.0, 0.1, 0.0)\n",
      "58 (1.0, 1.0, 0.0, 0.0, 0.0, 0.0, 0.1, 0.0)\n",
      "59 (1.0, 1.0, 0.0, 0.0, 0.0, 0.0, 0.1, 0.0)\n",
      "60 (1.0, 1.0, 0.0, 0.0, 0.0, 0.0, 0.1, 0.0)\n",
      "61 (1.0, 1.0, 0.0, 0.0, 0.0, 0.0, 0.1, 0.0)\n",
      "62 (1.0, 1.0, 0.0, 0.0, 0.0, 0.0, -0.4157, -0.0)\n",
      "63 (1.0, 1.0, 0.0, 0.0, 0.0, 0.0, -0.0031, -0.0)\n",
      "64 (1.0, 1.0, 0.0, 0.0, 0.0, 0.0, 0.5973, 0.0)\n",
      "65 (1.0, 1.0, 0.0, 0.0, 0.0, 0.0, -0.5679, -0.0)\n",
      "66 (1.0, 1.0, 0.0, 0.0, 0.0, 0.0, -0.0036, -0.0)\n",
      "67 (1.0, 1.0, 0.0, 0.0, 0.0, 0.0, -0.0645, -0.0)\n",
      "68 (1.0, 1.0, 0.0, 0.0, 0.0, 0.0, 0.6951, 0.0)\n",
      "69 (1.0, 1.0, 0.0, 0.0, 0.0, 0.0, -0.9407, -0.0)\n",
      "70 (1.0, 1.0, 0.0, 0.0, 0.0, 0.0, -0.6086, -0.0)\n",
      "71 (1.0, 1.0, 0.0, 0.0, 0.0, 0.0, 0.2719, 0.0)\n",
      "72 (1.0, 1.0, 0.0, 0.0, 0.0, 0.0, 0.085, 0.0)\n",
      "73 (1.0, 1.0, 0.0, 0.0, 0.0, 0.0, 0.0171, 0.0)\n",
      "74 (1.0, 1.0, 0.0, 0.0, 0.0, 0.0, 0.0171, 0.0)\n",
      "75 (1.0, 1.0, 0.0, 0.0, 0.0, 0.0, 0.0352, 0.0)\n",
      "76 (1.0, 1.0, 0.0, 0.0, 0.0, 0.0, 0.0352, 0.0)\n",
      "77 (1.0, 1.0, 0.0, 0.0, 0.0, 0.0, 0.4251, 0.0)\n",
      "78 (1.0, 1.0, 0.0, 0.0, 0.0, 0.0, 0.4251, 0.0)\n",
      "79 (1.0, 1.0, 0.0, 0.0, 0.0, 0.0, -0.4157, -0.0)\n",
      "80 (1.0, 1.0, 0.0, 0.0, 0.0, 0.0, -0.0249, -0.0)\n",
      "81 (1.0, 1.0, 0.0, 0.0, 0.0, 0.0, 0.5973, 0.0)\n",
      "82 (1.0, 1.0, 0.0, 0.0, 0.0, 0.0, -0.5679, -0.0)\n",
      "83 (1.0, 1.0, 0.0, 0.0, 0.0, 0.0, 0.2117, 0.0)\n",
      "84 (1.0, 1.0, 0.0, 0.0, 0.0, 0.0, -0.6546, -0.0)\n",
      "85 (1.0, 1.0, 0.0, 0.0, 0.0, 0.0, 0.2719, 0.0)\n",
      "86 (1.0, 1.0, 0.0, 0.0, 0.0, 0.0, 0.0843, 0.0)\n",
      "87 (1.0, 1.0, 0.0, 0.0, 0.0, 0.0, 0.0352, 0.0)\n",
      "88 (1.0, 1.0, 0.0, 0.0, 0.0, 0.0, 0.0352, 0.0)\n",
      "89 (1.0, 1.0, 0.0, 0.0, 0.0, 0.0, 0.4275, 0.0)\n",
      "90 (1.0, 1.0, 0.0, 0.0, 0.0, 0.0, -0.4157, -0.0)\n",
      "91 (1.0, 1.0, 0.0, 0.0, 0.0, 0.0, -0.0252, -0.0)\n",
      "92 (1.0, 1.0, 0.0, 0.0, 0.0, 0.0, 0.5973, 0.0)\n",
      "93 (1.0, 1.0, 0.0, 0.0, 0.0, 0.0, -0.5679, -0.0)\n",
      "94 (1.0, 1.0, 0.0, 0.0, 0.0, 0.0, 0.2719, 0.0)\n",
      "95 (1.0, 1.0, 0.0, 0.0, 0.0, 0.0, 0.0698, 0.0)\n",
      "96 (1.0, 1.0, 0.0, 0.0, 0.0, 0.0, 0.0698, 0.0)\n",
      "97 (1.0, 1.0, 0.0, 0.0, 0.0, 0.0, -0.4157, -0.0)\n",
      "98 (1.0, 1.0, 0.0, 0.0, 0.0, 0.0, -0.0024, -0.0)\n",
      "99 (1.0, 1.0, 0.0, 0.0, 0.0, 0.0, 0.5973, 0.0)\n",
      "100 (1.0, 1.0, 0.0, 0.0, 0.0, 0.0, -0.5679, -0.0)\n",
      "101 (1.0, 1.0, 0.0, 0.0, 0.0, 0.0, -0.0343, -0.0)\n",
      "102 (1.0, 1.0, 0.0, 0.0, 0.0, 0.0, 0.0118, 0.0)\n",
      "103 (1.0, 1.0, 0.0, 0.0, 0.0, 0.0, -0.1256, -0.0)\n",
      "104 (1.0, 1.0, 0.0, 0.0, 0.0, 0.0, -0.1256, -0.0)\n",
      "105 (1.0, 1.0, 0.0, 0.0, 0.0, 0.0, -0.1704, -0.0)\n",
      "106 (1.0, 1.0, 0.0, 0.0, 0.0, 0.0, -0.1704, -0.0)\n",
      "107 (1.0, 1.0, 0.0, 0.0, 0.0, 0.0, -0.1072, -0.0)\n",
      "108 (1.0, 1.0, 0.0, 0.0, 0.0, 0.0, 0.2719, 0.0)\n",
      "109 (1.0, 1.0, 0.0, 0.0, 0.0, 0.0, 0.0978, 0.0)\n",
      "110 (1.0, 1.0, 0.0, 0.0, 0.0, 0.0, 0.0295, 0.0)\n",
      "111 (1.0, 1.0, 0.0, 0.0, 0.0, 0.0, 0.0295, 0.0)\n",
      "112 (1.0, 1.0, 0.0, 0.0, 0.0, 0.0, 0.133, 0.0)\n",
      "113 (1.0, 1.0, 0.0, 0.0, 0.0, 0.0, 0.133, 0.0)\n",
      "114 (1.0, 1.0, 0.0, 0.0, 0.0, 0.0, 0.143, 0.0)\n",
      "115 (1.0, 1.0, 0.0, 0.0, 0.0, 0.0, 0.143, 0.0)\n",
      "116 (1.0, 1.0, 0.0, 0.0, 0.0, 0.0, 0.1297, 0.0)\n",
      "117 (1.0, 1.0, 0.0, 0.0, 0.0, 0.0, -0.4157, -0.0)\n",
      "118 (1.0, 1.0, 0.0, 0.0, 0.0, 0.0, -0.149, -0.0)\n",
      "119 (1.0, 1.0, 0.0, 0.0, 0.0, 0.0, 0.2719, 0.0)\n",
      "120 (1.0, 1.0, 0.0, 0.0, 0.0, 0.0, 0.0976, 0.0)\n",
      "121 (1.0, 1.0, 0.0, 0.0, 0.0, 0.0, 0.0976, 0.0)\n",
      "122 (1.0, 1.0, 0.0, 0.0, 0.0, 0.0, 0.0976, 0.0)\n",
      "123 (1.0, 0.0, 1.0, 0.0, 1.0, 0.0, 0.0, 0.0187)\n",
      "124 (1.0, 0.0, 1.0, 0.0, 1.0, 0.0, -0.0, -0.3204)\n",
      "125 (1.0, 0.0, 1.0, 0.0, 1.0, 0.0, 0.0, 0.0882)\n",
      "126 (1.0, 0.0, 1.0, 0.0, 1.0, 0.0, 0.0, 0.0882)\n",
      "127 (1.0, 0.0, 1.0, 0.0, 1.0, 0.0, 0.0, 0.0882)\n",
      "128 (1.0, 0.0, 1.0, 0.0, 1.0, 0.0, -0.0, -0.043)\n",
      "129 (1.0, 0.0, 1.0, 0.0, 1.0, 0.0, 0.0, 0.0236)\n",
      "130 (1.0, 0.0, 1.0, 0.0, 1.0, 0.0, 0.0, 0.0236)\n",
      "131 (1.0, 0.0, 1.0, 0.0, 1.0, 0.0, -0.0, -0.066)\n",
      "132 (1.0, 0.0, 1.0, 0.0, 1.0, 0.0, 0.0, 0.0186)\n",
      "133 (1.0, 0.0, 1.0, 0.0, 1.0, 0.0, 0.0, 0.0186)\n",
      "134 (1.0, 0.0, 1.0, 0.0, 1.0, 0.0, 0.0, 0.0186)\n",
      "135 (1.0, 0.0, 1.0, 0.0, 1.0, 0.0, 0.0, 0.1303)\n"
     ]
    }
   ],
   "source": [
    "nb_force = htf.hybrid_system.getForce(3)\n",
    "for i in range(nb_force.getNumParticles()):\n",
    "    print(i, nb_force.getParticleParameters(i))"
   ]
  },
  {
   "cell_type": "code",
   "execution_count": 48,
   "id": "6078393f",
   "metadata": {},
   "outputs": [
    {
     "data": {
      "text/plain": [
       "'U_electrostatics; U_electrostatics = switch * c_RF * u_RF; switch = 1; t = (r_eff - r_switch) / (r_cutoff - r_switch); c_RF = 138.935456 * chargeProd; chargeProd = charge1 * charge2; charge1 = ((charge_old1 * ( 1 * environment_region1+lambda_0_electrostatics_old * alchemical_region_01 )) + (charge_new1 * ( 1 * environment_region1+lambda_0_electrostatics_new * alchemical_region_01 ))) * ( nonscale_lambda_electrostatics * nonscale_region1 ); charge2 = ((charge_old2 * ( 1 * environment_region2+lambda_0_electrostatics_old * alchemical_region_02 )) + (charge_new2 * ( 1 * environment_region2+lambda_0_electrostatics_new * alchemical_region_02 ))) * ( nonscale_lambda_electrostatics * nonscale_region2 ); u_RF = 1 / r_eff; r_eff = sqrt(r^2 + w^2); w = step(unique_new1 + unique_new2 + unique_old1 + unique_old2 - 0.1) * r_cutoff * (1. - ( 1 * environment_region1+lambda_0_electrostatics_old * alchemical_region_01 ) - ( 1 * environment_region1+lambda_0_electrostatics_new * alchemical_region_01 )) * 0; r_switch = r_cutoff * 0.25; eps_RF = 78.8; r_cutoff = 1.4; w_scale = 0;'"
      ]
     },
     "execution_count": 48,
     "metadata": {},
     "output_type": "execute_result"
    }
   ],
   "source": [
    "htf.hybrid_system.getForce(3).getEnergyFunction()"
   ]
  },
  {
   "cell_type": "code",
   "execution_count": null,
   "id": "a91ca00e",
   "metadata": {},
   "outputs": [],
   "source": [
    "U_electrostatics;\n",
    "U_electrostatics = switch * c_RF * u_RF;\n",
    "switch = 1;\n",
    "t = (r_eff - r_switch) / (r_cutoff - r_switch);\n",
    "c_RF = 138.935456 * chargeProd;\n",
    "chargeProd = charge1 * charge2;\n",
    "charge1 = ((charge_old1 * ( 1 * environment_region1+lambda_0_electrostatics_old * alchemical_region_01 )) + (charge_new1 * ( 1 * environment_region1+lambda_0_electrostatics_new * alchemical_region_01 ))) * ( nonscale_lambda_electrostatics * nonscale_region1 );\n",
    "charge2 = ((charge_old2 * ( 1 * environment_region2+lambda_0_electrostatics_old * alchemical_region_02 )) + (charge_new2 * ( 1 * environment_region2+lambda_0_electrostatics_new * alchemical_region_02 ))) * ( nonscale_lambda_electrostatics * nonscale_region2 );\n",
    "u_RF = 1 / r_eff;\n",
    "r_eff = sqrt(r^2 + w^2);\n",
    "w = step(unique_new1 + unique_new2 + unique_old1 + unique_old2 - 0.1) * r_cutoff * (1. - ( 1 * environment_region1+lambda_0_electrostatics_old * alchemical_region_01 ) - ( 1 * environment_region1+lambda_0_electrostatics_new * alchemical_region_01 )) * 0;\n",
    "r_switch = r_cutoff * 0.25;\n",
    "eps_RF = 78.8;\n",
    "r_cutoff = 1.4;\n",
    "w_scale = 0;'"
   ]
  },
  {
   "cell_type": "code",
   "execution_count": 152,
   "id": "14682bca",
   "metadata": {},
   "outputs": [],
   "source": [
    "# Load htf\n",
    "with open(\"/home/zhangi/choderalab/perses_benchmark/perses_protein_mutations/code/26_rxn_field/8mer_vacuum.pickle\", \"rb\") as f:\n",
    "    htf = pickle.load(f)\n"
   ]
  },
  {
   "cell_type": "code",
   "execution_count": 153,
   "id": "ea0397ec",
   "metadata": {
    "scrolled": false
   },
   "outputs": [
    {
     "name": "stdout",
     "output_type": "stream",
     "text": [
      "Warning: Returning CPU platform instead of requested platform <simtk.openmm.openmm.Platform; proxy of <Swig Object of type 'OpenMM::Platform *' at 0x2b5a4ae196c0> >\n",
      "conducting subsequent work with the following platform: CPU\n",
      "conducting subsequent work with the following platform: CUDA\n",
      "[('HarmonicBondForce', 9.123179895657778), ('HarmonicAngleForce', 346.0420650607845), ('PeriodicTorsionForce', 164.39865377562708), ('NonbondedForce', 951.6044721926664), ('AndersenThermostat', 0.0)]\n",
      "conducting subsequent work with the following platform: CUDA\n",
      "[('CustomBondForce', 9.168804528064936), ('CustomAngleForce', 346.1616977065642), ('CustomTorsionForce', 156.24351836067592), ('CustomNonbondedForce', -879.2155855849345), ('CustomNonbondedForce', 732.2363821130278), ('CustomBondForce', 635.907909782493), ('CustomBondForce', 219.36802668850493), ('AndersenThermostat', 0.0)]\n",
      "Success! Custom nb force and standard nb force sterics energies are equal!\n"
     ]
    }
   ],
   "source": [
    "test_nb_energies(htf, is_electrostatics=False, is_old=False)"
   ]
  },
  {
   "cell_type": "markdown",
   "id": "moderate-christopher",
   "metadata": {},
   "source": [
    "# 8mer in solvent"
   ]
  },
  {
   "cell_type": "code",
   "execution_count": 42,
   "id": "split-fitting",
   "metadata": {},
   "outputs": [],
   "source": [
    "import os\n",
    "from pkg_resources import resource_filename\n",
    "from perses.app import setup_relative_calculation\n",
    "import pickle\n",
    "from simtk import openmm, unit\n",
    "from simtk.openmm import app\n",
    "from openmmforcefields.generators import SystemGenerator\n",
    "import numpy as np"
   ]
  },
  {
   "cell_type": "code",
   "execution_count": 43,
   "id": "charming-cassette",
   "metadata": {},
   "outputs": [],
   "source": [
    "# Test 8-mer peptide in solvent\n",
    "peptide_filename = resource_filename('perses', 'data/8mer-example/4zuh_peptide_capped.pdb')\n",
    "pdb = app.PDBFile(peptide_filename)\n",
    "forcefield_files = ['amber14/protein.ff14SB.xml', 'amber14/tip3p.xml']\n",
    "barostat = openmm.MonteCarloBarostat(1.0 * unit.atmosphere, 300 * unit.kelvin, 50)\n",
    "# barostat = None\n",
    "modeller = app.Modeller(pdb.topology, pdb.positions)\n",
    " \n",
    "system_generator = SystemGenerator(forcefields=forcefield_files,\n",
    "                                   barostat=barostat,\n",
    "                                   forcefield_kwargs={'removeCMMotion': False,\n",
    "                                                      'ewaldErrorTolerance': 1e-4,\n",
    "                                                      'constraints': app.HBonds,\n",
    "                                                      'hydrogenMass': 4 * unit.amus},\n",
    "                                   periodic_forcefield_kwargs=None,\n",
    "                                   small_molecule_forcefield='gaff-2.11',\n",
    "                                   nonperiodic_forcefield_kwargs={'nonbondedMethod': app.NoCutoff},\n",
    "                                   molecules=None,\n",
    "                                   cache=None)\n",
    "\n",
    "modeller.addSolvent(system_generator.forcefield, model='tip3p', padding=9*unit.angstroms, ionicStrength=0.15*unit.molar)\n",
    "topology = modeller.getTopology()\n",
    "positions = modeller.getPositions()\n",
    "\n",
    "# Canonicalize the solvated positions: turn tuples into np.array\n",
    "positions = unit.quantity.Quantity(value=np.array([list(atom_pos) for atom_pos in positions.value_in_unit_system(unit.md_unit_system)]), unit=unit.nanometers)\n",
    "system = system_generator.create_system(topology)\n",
    "\n"
   ]
  },
  {
   "cell_type": "code",
   "execution_count": 44,
   "id": "c02ca045",
   "metadata": {},
   "outputs": [],
   "source": [
    "# set nonbonded parameters\n",
    "system.getForce(3).setNonbondedMethod(openmm.NonbondedForce.NoCutoff)\n",
    "# atp.system.getForce(3).setNonbondedMethod(openmm.NonbondedForce.CutoffPeriodic)\n",
    "system.getForce(3).setUseDispersionCorrection(False)\n",
    "for i in range(system.getNumForces()):\n",
    "    if i == 3:\n",
    "        system.getForce(i).setExceptionsUsePeriodicBoundaryConditions(False)\n",
    "    elif i < 3: # do not set PBCs for barostat\n",
    "        system.getForce(i).setUsesPeriodicBoundaryConditions(False)\n",
    "system.removeForce(4) # Remove barostat\n"
   ]
  },
  {
   "cell_type": "code",
   "execution_count": 45,
   "id": "working-blackjack",
   "metadata": {
    "scrolled": true
   },
   "outputs": [
    {
     "name": "stderr",
     "output_type": "stream",
     "text": [
      "2021-07-14 17:04:27,782:(260.18s):proposal_generator:\tConducting polymer point mutation proposal...\n"
     ]
    },
    {
     "name": "stdout",
     "output_type": "stream",
     "text": [
      "Making mutation ALA->GLU\n"
     ]
    },
    {
     "name": "stderr",
     "output_type": "stream",
     "text": [
      "2021-07-14 17:04:28,374:(0.59s):proposal_generator:Using matching_criterion to chose best atom map\n",
      "2021-07-14 17:04:28,380:(0.01s):proposal_generator:Scaffold has symmetry of 0\n",
      "2021-07-14 17:04:28,383:(0.00s):proposal_generator:Two molecules are not similar to have a common scaffold\n",
      "2021-07-14 17:04:28,386:(0.00s):proposal_generator:Proceeding with direct mapping of molecules, but please check atom mapping and the geometry of the ligands.\n",
      "2021-07-14 17:04:28,390:(0.00s):proposal_generator:len [{11: 7}, {12: 7}, {13: 7}, {14: 7}, {11: 8}, {12: 8}, {13: 8}, {14: 8}, {11: 9}, {12: 9}, {13: 9}, {14: 9}]\n",
      "2021-07-14 17:04:28,392:(0.00s):proposal_generator:{11: 7}\n",
      "2021-07-14 17:04:28,395:(0.00s):proposal_generator:{12: 7}\n",
      "2021-07-14 17:04:28,397:(0.00s):proposal_generator:{13: 7}\n",
      "2021-07-14 17:04:28,399:(0.00s):proposal_generator:{14: 7}\n",
      "2021-07-14 17:04:28,401:(0.00s):proposal_generator:{11: 8}\n",
      "2021-07-14 17:04:28,404:(0.00s):proposal_generator:{12: 8}\n",
      "2021-07-14 17:04:28,406:(0.00s):proposal_generator:{13: 8}\n",
      "2021-07-14 17:04:28,408:(0.00s):proposal_generator:{14: 8}\n",
      "2021-07-14 17:04:28,410:(0.00s):proposal_generator:{11: 9}\n",
      "2021-07-14 17:04:28,411:(0.00s):proposal_generator:{12: 9}\n",
      "2021-07-14 17:04:28,412:(0.00s):proposal_generator:{13: 9}\n",
      "2021-07-14 17:04:28,413:(0.00s):proposal_generator:{14: 9}\n",
      "2021-07-14 17:04:28,414:(0.00s):proposal_generator:Returning map that best satisfies matching_criterion\n",
      "2021-07-14 17:04:28,422:(0.01s):proposal_generator:Finding best map using matching_criterion name\n",
      "2021-07-14 17:04:28,424:(0.00s):proposal_generator:{11: 7}\n",
      "2021-07-14 17:04:30,526:(2.10s):geometry:propose: performing forward proposal\n",
      "2021-07-14 17:04:30,529:(0.00s):geometry:propose: unique new atoms detected; proceeding to _logp_propose...\n",
      "2021-07-14 17:04:30,532:(0.00s):geometry:Conducting forward proposal...\n",
      "2021-07-14 17:04:30,534:(0.00s):geometry:Computing proposal order with NetworkX...\n",
      "2021-07-14 17:04:30,549:(0.01s):geometry:number of atoms to be placed: 9\n",
      "2021-07-14 17:04:30,552:(0.00s):geometry:Atom index proposal order is [21, 26, 29, 30, 31, 28, 24, 27, 25]\n",
      "2021-07-14 17:04:30,555:(0.00s):geometry:omitted_bonds: []\n",
      "2021-07-14 17:04:30,557:(0.00s):geometry:direction of proposal is forward; creating atoms_with_positions and new positions from old system/topology...\n",
      "2021-07-14 17:04:31,564:(1.01s):geometry:creating growth system...\n",
      "2021-07-14 17:04:31,762:(0.20s):geometry:\tcreating bond force...\n",
      "2021-07-14 17:04:31,765:(0.00s):geometry:\tthere are 65 bonds in reference force.\n",
      "2021-07-14 17:04:31,769:(0.00s):geometry:\tcreating angle force...\n",
      "2021-07-14 17:04:31,772:(0.00s):geometry:\tthere are 227 angles in reference force.\n",
      "2021-07-14 17:04:31,780:(0.01s):geometry:\tcreating torsion force...\n",
      "2021-07-14 17:04:31,782:(0.00s):geometry:\tcreating extra torsions force...\n",
      "2021-07-14 17:04:31,785:(0.00s):geometry:\tthere are 422 torsions in reference force.\n",
      "2021-07-14 17:04:31,794:(0.01s):geometry:\tcreating nonbonded force...\n",
      "2021-07-14 17:04:31,796:(0.00s):geometry:\t\tgrabbing reference nonbonded method, cutoff, switching function, switching distance...\n",
      "2021-07-14 17:04:31,799:(0.00s):geometry:\t\tcreating nonbonded exception force (i.e. custom bond for 1,4s)...\n",
      "2021-07-14 17:04:31,801:(0.00s):geometry:\t\tlooping through exceptions calculating growth indices, and adding appropriate interactions to custom bond force.\n",
      "2021-07-14 17:04:31,803:(0.00s):geometry:\t\tthere are 6116 in the reference Nonbonded force\n",
      "2021-07-14 17:04:32,024:(0.22s):geometry:\t\t\t\t\tchiral atom <Atom 18 (CA) of chain 0 residue 2 (GLU)> with neighbors [<Atom 19 (C) of chain 0 residue 2 (GLU)>, <Atom 21 (CB) of chain 0 residue 2 (GLU)>, <Atom 23 (HA) of chain 0 residue 2 (GLU)>, <Atom 17 (N) of chain 0 residue 2 (GLU)>] is surrounded by 3 core neighbors.  omitting chirality bias torsion\n",
      "2021-07-14 17:04:32,027:(0.00s):geometry:Neglected angle terms : []\n",
      "2021-07-14 17:04:32,029:(0.00s):geometry:omitted_growth_terms: {'bonds': [], 'angles': [], 'torsions': [], '1,4s': []}\n",
      "2021-07-14 17:04:32,032:(0.00s):geometry:extra torsions: {0: (22, 17, 18, 21, [1, Quantity(value=1.0060900571611229, unit=radian), Quantity(value=1200.0, unit=kilocalorie/mole), 1])}\n",
      "2021-07-14 17:04:32,034:(0.00s):geometry:neglected angle terms include []\n",
      "2021-07-14 17:04:32,036:(0.00s):geometry:log probability choice of torsions and atom order: -11.67789738342907\n",
      "2021-07-14 17:04:32,039:(0.00s):geometry:creating platform, integrators, and contexts; setting growth parameter\n"
     ]
    },
    {
     "name": "stdout",
     "output_type": "stream",
     "text": [
      "conducting subsequent work with the following platform: CUDA\n"
     ]
    },
    {
     "name": "stderr",
     "output_type": "stream",
     "text": [
      "2021-07-14 17:04:33,831:(1.79s):geometry:setting atoms_with_positions context new positions\n"
     ]
    },
    {
     "name": "stdout",
     "output_type": "stream",
     "text": [
      "conducting subsequent work with the following platform: CUDA\n"
     ]
    },
    {
     "name": "stderr",
     "output_type": "stream",
     "text": [
      "2021-07-14 17:04:35,059:(1.23s):geometry:There are 9 new atoms\n",
      "2021-07-14 17:04:35,066:(0.01s):geometry:\treduced angle potential = 0.23338477560508594.\n",
      "2021-07-14 17:04:35,357:(0.29s):geometry:\treduced angle potential = 0.8656804084299605.\n",
      "2021-07-14 17:04:35,652:(0.29s):geometry:\treduced angle potential = 0.18047655432033013.\n",
      "2021-07-14 17:04:35,948:(0.30s):geometry:\treduced angle potential = 0.23587316374308728.\n",
      "2021-07-14 17:04:36,240:(0.29s):geometry:\treduced angle potential = 1.0879461151915089.\n",
      "2021-07-14 17:04:36,527:(0.29s):geometry:\treduced angle potential = 0.24770676781680648.\n",
      "2021-07-14 17:04:36,801:(0.27s):geometry:\treduced angle potential = 0.2587319048453789.\n",
      "2021-07-14 17:04:37,099:(0.30s):geometry:\treduced angle potential = 0.05221099837585388.\n",
      "2021-07-14 17:04:37,380:(0.28s):geometry:\treduced angle potential = 0.07343574048181356.\n",
      "2021-07-14 17:04:37,758:(0.38s):geometry:\tbeginning construction of no_nonbonded final system...\n",
      "2021-07-14 17:04:37,761:(0.00s):geometry:\tinitial no-nonbonded final system forces ['HarmonicBondForce', 'HarmonicAngleForce', 'PeriodicTorsionForce', 'NonbondedForce', 'MonteCarloBarostat']\n",
      "2021-07-14 17:04:38,321:(0.56s):geometry:\tfinal no-nonbonded final system forces dict_keys(['HarmonicBondForce', 'HarmonicAngleForce', 'PeriodicTorsionForce', 'NonbondedForce'])\n",
      "2021-07-14 17:04:38,324:(0.00s):geometry:\tthere are 65 bond forces in the no-nonbonded final system\n",
      "2021-07-14 17:04:38,326:(0.00s):geometry:\tthere are 227 angle forces in the no-nonbonded final system\n",
      "2021-07-14 17:04:38,329:(0.00s):geometry:\tthere are 422 torsion forces in the no-nonbonded final system\n",
      "2021-07-14 17:04:38,332:(0.00s):geometry:forward final system defined with 0 neglected angles.\n"
     ]
    },
    {
     "name": "stdout",
     "output_type": "stream",
     "text": [
      "conducting subsequent work with the following platform: CUDA\n",
      "conducting subsequent work with the following platform: CUDA\n"
     ]
    },
    {
     "name": "stderr",
     "output_type": "stream",
     "text": [
      "2021-07-14 17:04:42,518:(4.19s):geometry:total reduced potential before atom placement: 168.36662826283057\n"
     ]
    },
    {
     "name": "stdout",
     "output_type": "stream",
     "text": [
      "conducting subsequent work with the following platform: CUDA\n",
      "conducting subsequent work with the following platform: CUDA\n",
      "conducting subsequent work with the following platform: CUDA\n"
     ]
    },
    {
     "name": "stderr",
     "output_type": "stream",
     "text": [
      "2021-07-14 17:04:45,648:(3.13s):geometry:total reduced energy added from growth system: 528.5358563448931\n",
      "2021-07-14 17:04:45,652:(0.00s):geometry:final reduced energy 696.9024850700905\n",
      "2021-07-14 17:04:45,655:(0.00s):geometry:sum of energies: 696.9024846077236\n",
      "2021-07-14 17:04:45,658:(0.00s):geometry:magnitude of difference in the energies: 4.6236687012424227e-07\n",
      "2021-07-14 17:04:45,661:(0.00s):geometry:Final logp_proposal: 69.34836018721342\n"
     ]
    },
    {
     "name": "stdout",
     "output_type": "stream",
     "text": [
      "added energy components: [('CustomBondForce', 0.6554005309014176), ('CustomAngleForce', 366.9886630665181), ('CustomTorsionForce', 18.530017970336807), ('CustomBondForce', 142.3617747771367)]\n"
     ]
    },
    {
     "name": "stderr",
     "output_type": "stream",
     "text": [
      "2021-07-14 17:04:45,839:(0.18s):geometry:logp_reverse: performing reverse proposal\n",
      "2021-07-14 17:04:45,843:(0.00s):geometry:logp_reverse: unique new atoms detected; proceeding to _logp_propose...\n",
      "2021-07-14 17:04:45,846:(0.00s):geometry:Conducting forward proposal...\n",
      "2021-07-14 17:04:45,849:(0.00s):geometry:Computing proposal order with NetworkX...\n",
      "2021-07-14 17:04:45,864:(0.02s):geometry:number of atoms to be placed: 4\n",
      "2021-07-14 17:04:45,867:(0.00s):geometry:Atom index proposal order is [21, 24, 25, 26]\n",
      "2021-07-14 17:04:45,869:(0.00s):geometry:omitted_bonds: []\n",
      "2021-07-14 17:04:45,872:(0.00s):geometry:direction of proposal is reverse; creating atoms_with_positions from old system/topology\n",
      "2021-07-14 17:04:46,522:(0.65s):geometry:creating growth system...\n",
      "2021-07-14 17:04:46,713:(0.19s):geometry:\tcreating bond force...\n",
      "2021-07-14 17:04:46,716:(0.00s):geometry:\tthere are 61 bonds in reference force.\n",
      "2021-07-14 17:04:46,719:(0.00s):geometry:\tcreating angle force...\n",
      "2021-07-14 17:04:46,722:(0.00s):geometry:\tthere are 218 angles in reference force.\n",
      "2021-07-14 17:04:46,728:(0.01s):geometry:\tcreating torsion force...\n",
      "2021-07-14 17:04:46,731:(0.00s):geometry:\tcreating extra torsions force...\n",
      "2021-07-14 17:04:46,733:(0.00s):geometry:\tthere are 399 torsions in reference force.\n",
      "2021-07-14 17:04:46,740:(0.01s):geometry:\tcreating nonbonded force...\n",
      "2021-07-14 17:04:46,743:(0.00s):geometry:\t\tgrabbing reference nonbonded method, cutoff, switching function, switching distance...\n",
      "2021-07-14 17:04:46,745:(0.00s):geometry:\t\tcreating nonbonded exception force (i.e. custom bond for 1,4s)...\n",
      "2021-07-14 17:04:46,748:(0.00s):geometry:\t\tlooping through exceptions calculating growth indices, and adding appropriate interactions to custom bond force.\n",
      "2021-07-14 17:04:46,750:(0.00s):geometry:\t\tthere are 6087 in the reference Nonbonded force\n",
      "2021-07-14 17:04:46,962:(0.21s):geometry:\t\t\t\t\tchiral atom <Atom 18 (CA) of chain 0 residue 2 (ALA)> with neighbors [<Atom 19 (C) of chain 0 residue 2 (ALA)>, <Atom 21 (CB) of chain 0 residue 2 (ALA)>, <Atom 23 (HA) of chain 0 residue 2 (ALA)>, <Atom 17 (N) of chain 0 residue 2 (ALA)>] is surrounded by 3 core neighbors.  omitting chirality bias torsion\n",
      "2021-07-14 17:04:46,965:(0.00s):geometry:Neglected angle terms : []\n",
      "2021-07-14 17:04:46,967:(0.00s):geometry:omitted_growth_terms: {'bonds': [], 'angles': [], 'torsions': [], '1,4s': []}\n",
      "2021-07-14 17:04:46,970:(0.00s):geometry:extra torsions: {0: (22, 17, 18, 21, [1, Quantity(value=0.9799661941737812, unit=radian), Quantity(value=1200.0, unit=kilocalorie/mole), 1]), 1: (17, 18, 21, 24, [1, Quantity(value=2.105358864604291, unit=radian), Quantity(value=1200.0, unit=kilocalorie/mole), 2]), 2: (17, 18, 21, 25, [1, Quantity(value=-2.0823006129211796, unit=radian), Quantity(value=1200.0, unit=kilocalorie/mole), 3]), 3: (17, 18, 21, 26, [1, Quantity(value=0.018582237407944735, unit=radian), Quantity(value=1200.0, unit=kilocalorie/mole), 4]), 4: (19, 18, 21, 24, [1, Quantity(value=-0.036945135932107576, unit=radian), Quantity(value=1200.0, unit=kilocalorie/mole), 2]), 5: (19, 18, 21, 25, [1, Quantity(value=2.0585806937220097, unit=radian), Quantity(value=1200.0, unit=kilocalorie/mole), 3]), 6: (19, 18, 21, 26, [1, Quantity(value=-2.1237217631284597, unit=radian), Quantity(value=1200.0, unit=kilocalorie/mole), 4]), 7: (23, 18, 21, 24, [1, Quantity(value=-2.119603470065817, unit=radian), Quantity(value=1200.0, unit=kilocalorie/mole), 2]), 8: (23, 18, 21, 25, [1, Quantity(value=-0.024077640411697132, unit=radian), Quantity(value=1200.0, unit=kilocalorie/mole), 3]), 9: (23, 18, 21, 26, [1, Quantity(value=2.0768052099174152, unit=radian), Quantity(value=1200.0, unit=kilocalorie/mole), 4])}\n",
      "2021-07-14 17:04:46,972:(0.00s):geometry:neglected angle terms include []\n",
      "2021-07-14 17:04:46,974:(0.00s):geometry:log probability choice of torsions and atom order: -5.78074351579233\n",
      "2021-07-14 17:04:46,977:(0.00s):geometry:creating platform, integrators, and contexts; setting growth parameter\n"
     ]
    },
    {
     "name": "stdout",
     "output_type": "stream",
     "text": [
      "conducting subsequent work with the following platform: CUDA\n"
     ]
    },
    {
     "name": "stderr",
     "output_type": "stream",
     "text": [
      "2021-07-14 17:04:47,900:(0.92s):geometry:setting atoms_with_positions context old positions\n"
     ]
    },
    {
     "name": "stdout",
     "output_type": "stream",
     "text": [
      "conducting subsequent work with the following platform: CUDA\n"
     ]
    },
    {
     "name": "stderr",
     "output_type": "stream",
     "text": [
      "2021-07-14 17:04:48,615:(0.71s):geometry:There are 4 new atoms\n",
      "2021-07-14 17:04:48,621:(0.01s):geometry:\treduced angle potential = 0.017911900159989516.\n",
      "2021-07-14 17:04:48,883:(0.26s):geometry:\treduced angle potential = 9.265637866968462e-06.\n",
      "2021-07-14 17:04:49,153:(0.27s):geometry:\treduced angle potential = 9.561051668715153e-06.\n",
      "2021-07-14 17:04:49,420:(0.27s):geometry:\treduced angle potential = 2.233125127093818e-08.\n",
      "2021-07-14 17:04:49,789:(0.37s):geometry:\tbeginning construction of no_nonbonded final system...\n",
      "2021-07-14 17:04:49,792:(0.00s):geometry:\tinitial no-nonbonded final system forces ['HarmonicBondForce', 'HarmonicAngleForce', 'PeriodicTorsionForce', 'NonbondedForce']\n",
      "2021-07-14 17:04:50,337:(0.54s):geometry:\tfinal no-nonbonded final system forces dict_keys(['HarmonicBondForce', 'HarmonicAngleForce', 'PeriodicTorsionForce', 'NonbondedForce'])\n",
      "2021-07-14 17:04:50,340:(0.00s):geometry:\tthere are 61 bond forces in the no-nonbonded final system\n",
      "2021-07-14 17:04:50,343:(0.00s):geometry:\tthere are 218 angle forces in the no-nonbonded final system\n",
      "2021-07-14 17:04:50,345:(0.00s):geometry:\tthere are 399 torsion forces in the no-nonbonded final system\n",
      "2021-07-14 17:04:50,348:(0.00s):geometry:reverse final system defined with 0 neglected angles.\n"
     ]
    },
    {
     "name": "stdout",
     "output_type": "stream",
     "text": [
      "conducting subsequent work with the following platform: CUDA\n",
      "conducting subsequent work with the following platform: CUDA\n"
     ]
    },
    {
     "name": "stderr",
     "output_type": "stream",
     "text": [
      "2021-07-14 17:04:53,884:(3.54s):geometry:total reduced potential before atom placement: 168.36662826283057\n"
     ]
    },
    {
     "name": "stdout",
     "output_type": "stream",
     "text": [
      "conducting subsequent work with the following platform: CUDA\n",
      "conducting subsequent work with the following platform: CUDA\n",
      "conducting subsequent work with the following platform: CUDA\n"
     ]
    },
    {
     "name": "stderr",
     "output_type": "stream",
     "text": [
      "2021-07-14 17:04:55,863:(1.98s):geometry:total reduced energy added from growth system: 19.11335785388209\n",
      "2021-07-14 17:04:55,867:(0.00s):geometry:final reduced energy 187.47998570143525\n",
      "2021-07-14 17:04:55,869:(0.00s):geometry:sum of energies: 187.47998611671267\n",
      "2021-07-14 17:04:55,871:(0.00s):geometry:magnitude of difference in the energies: 4.1527740890501263e-07\n",
      "2021-07-14 17:04:55,873:(0.00s):geometry:Final logp_proposal: -30493.261222107467\n"
     ]
    },
    {
     "name": "stdout",
     "output_type": "stream",
     "text": [
      "added energy components: [('CustomBondForce', 0.04562463240715887), ('CustomAngleForce', 0.11963264577965825), ('CustomTorsionForce', 7.457414545448549), ('CustomBondForce', 11.490686030246726)]\n"
     ]
    }
   ],
   "source": [
    "from perses.rjmc.topology_proposal import PointMutationEngine\n",
    "from perses.annihilation.relative import RepartitionedHybridTopologyFactory\n",
    "from perses.tests.utils import validate_endstate_energies\n",
    "import random\n",
    "\n",
    "aminos = ['ALA','ARG','ASN','ASP','CYS','GLN','GLU','GLY','HIS','ILE','LEU','LYS','MET','PHE','PRO','SER','THR','TRP','TYR','VAL']\n",
    "\n",
    "ENERGY_THRESHOLD = 1e-6\n",
    "kB = unit.BOLTZMANN_CONSTANT_kB * unit.AVOGADRO_CONSTANT_NA\n",
    "temperature = 300.0 * unit.kelvin\n",
    "kT = kB * temperature\n",
    "beta = 1.0/kT\n",
    "\n",
    "chain = 'C'\n",
    "for res in topology.residues():\n",
    "    if res.id == '2':\n",
    "        wt_res = res.name\n",
    "aminos_updated = [amino for amino in aminos if amino not in [wt_res, 'PRO', 'HIS', 'TRP', 'PHE', 'TYR']]\n",
    "mutant = random.choice(aminos_updated)\n",
    "# mutant = \"MET\"\n",
    "print(f'Making mutation {wt_res}->{mutant}')\n",
    "\n",
    "# Create point mutation engine to mutate residue at id 2 to random amino acid\n",
    "point_mutation_engine = PointMutationEngine(wildtype_topology=topology,\n",
    "                                            system_generator=system_generator,\n",
    "                                            chain_id=chain,\n",
    "                                            max_point_mutants=1,\n",
    "                                            residues_allowed_to_mutate=['2'],  # the residue ids allowed to mutate\n",
    "                                            allowed_mutations=[('2', mutant)],\n",
    "                                            aggregate=True)  # always allow aggregation\n",
    "\n",
    "# Create topology proposal\n",
    "topology_proposal = point_mutation_engine.propose(current_system=system, current_topology=topology)\n",
    "\n",
    "# Create geometry engine\n",
    "from perses.rjmc.geometry import FFAllAngleGeometryEngine\n",
    "geometry_engine = FFAllAngleGeometryEngine(metadata=None,\n",
    "                                           use_sterics=False,\n",
    "                                           n_bond_divisions=100,\n",
    "                                           n_angle_divisions=180,\n",
    "                                           n_torsion_divisions=360,\n",
    "                                           verbose=True,\n",
    "                                           storage=None,\n",
    "                                           bond_softening_constant=1.0,\n",
    "                                           angle_softening_constant=1.0,\n",
    "                                           neglect_angles=False,\n",
    "                                           use_14_nonbondeds=True)\n",
    "\n",
    "# Create geometry proposal\n",
    "new_positions, logp_proposal = geometry_engine.propose(topology_proposal, positions, beta,\n",
    "                                                               validate_energy_bookkeeping=True)\n",
    "logp_reverse = geometry_engine.logp_reverse(topology_proposal, new_positions, positions, beta,\n",
    "                                            validate_energy_bookkeeping=True)\n",
    "\n",
    "if not topology_proposal.unique_new_atoms:\n",
    "    assert geometry_engine.forward_final_context_reduced_potential == None, f\"There are no unique new atoms but the geometry_engine's final context reduced potential is not None (i.e. {self._geometry_engine.forward_final_context_reduced_potential})\"\n",
    "    assert geometry_engine.forward_atoms_with_positions_reduced_potential == None, f\"There are no unique new atoms but the geometry_engine's forward atoms-with-positions-reduced-potential in not None (i.e. { self._geometry_engine.forward_atoms_with_positions_reduced_potential})\"\n",
    "    vacuum_added_valence_energy = 0.0\n",
    "else:\n",
    "    added_valence_energy = geometry_engine.forward_final_context_reduced_potential - geometry_engine.forward_atoms_with_positions_reduced_potential\n",
    "\n",
    "if not topology_proposal.unique_old_atoms:\n",
    "    assert geometry_engine.reverse_final_context_reduced_potential == None, f\"There are no unique old atoms but the geometry_engine's final context reduced potential is not None (i.e. {self._geometry_engine.reverse_final_context_reduced_potential})\"\n",
    "    assert geometry_engine.reverse_atoms_with_positions_reduced_potential == None, f\"There are no unique old atoms but the geometry_engine's atoms-with-positions-reduced-potential in not None (i.e. { self._geometry_engine.reverse_atoms_with_positions_reduced_potential})\"\n",
    "    subtracted_valence_energy = 0.0\n",
    "else:\n",
    "    subtracted_valence_energy = geometry_engine.reverse_final_context_reduced_potential - geometry_engine.reverse_atoms_with_positions_reduced_potential\n"
   ]
  },
  {
   "cell_type": "code",
   "execution_count": 46,
   "id": "visible-mistress",
   "metadata": {
    "scrolled": true
   },
   "outputs": [
    {
     "name": "stderr",
     "output_type": "stream",
     "text": [
      "2021-07-14 17:04:56,053:(0.18s):relative:*** Generating RxnHybridTopologyFactory ***\n",
      "2021-07-14 17:04:56,056:(0.00s):relative:Beginning nonbonded method, total particle, barostat, and exceptions retrieval...\n",
      "2021-07-14 17:04:56,293:(0.24s):relative:Old system forces: dict_keys(['HarmonicBondForce', 'HarmonicAngleForce', 'PeriodicTorsionForce', 'NonbondedForce'])\n",
      "2021-07-14 17:04:56,296:(0.00s):relative:New system forces: dict_keys(['HarmonicBondForce', 'HarmonicAngleForce', 'PeriodicTorsionForce', 'NonbondedForce', 'MonteCarloBarostat'])\n",
      "2021-07-14 17:04:56,298:(0.00s):relative:No unknown forces.\n",
      "2021-07-14 17:04:56,301:(0.00s):relative:Nonbonded method to be used (i.e. from old system): 0\n",
      "2021-07-14 17:04:56,303:(0.00s):relative:Adding and mapping old atoms to hybrid system...\n",
      "2021-07-14 17:04:56,394:(0.09s):relative:Adding and mapping new atoms to hybrid system...\n",
      "2021-07-14 17:04:56,397:(0.00s):relative:scale_templates: [['nonscale_lambda'], ['nonscale_region']]\n",
      "2021-07-14 17:04:56,399:(0.00s):relative:particle (nonbonded) scale_templates: [['nonscale_lambda'], ['nonscale_region1'], ['nonscale_region2']]\n",
      "2021-07-14 17:04:56,402:(0.00s):relative:No MonteCarloBarostat added.\n",
      "2021-07-14 17:04:56,404:(0.00s):relative:getDefaultPeriodicBoxVectors added to hybrid: [Quantity(value=Vec3(x=3.9005, y=0.0, z=0.0), unit=nanometer), Quantity(value=Vec3(x=0.0, y=3.9005, z=0.0), unit=nanometer), Quantity(value=Vec3(x=0.0, y=0.0, z=3.9005), unit=nanometer)]\n",
      "2021-07-14 17:04:56,411:(0.01s):relative:Determined atom classes.\n",
      "2021-07-14 17:04:56,413:(0.00s):relative:Generating old system exceptions dict...\n",
      "2021-07-14 17:04:56,749:(0.34s):relative:Generating new system exceptions dict...\n",
      "2021-07-14 17:04:56,837:(0.09s):relative:Handling constraints...\n",
      "2021-07-14 17:04:57,043:(0.21s):relative:Handling virtual sites...\n",
      "2021-07-14 17:04:57,051:(0.01s):relative:\t_handle_virtual_sites: numVirtualSites: 0\n"
     ]
    }
   ],
   "source": [
    "from perses.annihilation.relative import RxnHybridTopologyFactory\n",
    "flatten_exceptions = True\n",
    "flatten_torsions = True\n",
    "endstate = None\n",
    "scale_regions = None\n",
    "htf = RxnHybridTopologyFactory(topology_proposal=topology_proposal,\n",
    "                     current_positions=positions,\n",
    "                     new_positions=new_positions,\n",
    "                     use_dispersion_correction=False,\n",
    "                     functions=None,\n",
    "                     softcore_alpha=None,\n",
    "                     bond_softening_constant=1.0,\n",
    "                     angle_softening_constant=1.0,\n",
    "                     soften_only_new=False,\n",
    "                     neglected_new_angle_terms=[],\n",
    "                     neglected_old_angle_terms=[],\n",
    "                     softcore_LJ_v2=True,\n",
    "                     softcore_electrostatics=True,\n",
    "                     softcore_LJ_v2_alpha=0.85,\n",
    "                     softcore_electrostatics_alpha=0.3,\n",
    "                     softcore_sigma_Q=1.0,\n",
    "                     interpolate_old_and_new_14s=flatten_exceptions,\n",
    "                     omitted_terms=None,\n",
    "                     flatten_torsions=flatten_torsions,\n",
    "                     scale_regions=scale_regions,\n",
    "                    generate_htf_for_testing=True)"
   ]
  },
  {
   "cell_type": "code",
   "execution_count": 47,
   "id": "5d8d80c8",
   "metadata": {},
   "outputs": [],
   "source": [
    "\n",
    "htf._topology_proposal.new_system.getForce(3).setNonbondedMethod(openmm.NonbondedForce.NoCutoff)\n",
    "htf._topology_proposal.new_system.getForce(3).setUseDispersionCorrection(False)\n",
    "htf._topology_proposal.new_system.removeForce(4) # Remove barostat\n"
   ]
  },
  {
   "cell_type": "code",
   "execution_count": 48,
   "id": "004f2d2b",
   "metadata": {},
   "outputs": [],
   "source": [
    "# Load htf\n",
    "with open(\"/home/zhangi/choderalab/perses_benchmark/perses_protein_mutations/code/26_rxn_field/8mer_solvent.pickle\", \"wb\") as f:\n",
    "    pickle.dump(htf, f)"
   ]
  },
  {
   "cell_type": "markdown",
   "id": "spiritual-pension",
   "metadata": {},
   "source": [
    "### Test one alchemical region, no scale regions"
   ]
  },
  {
   "cell_type": "markdown",
   "id": "established-handy",
   "metadata": {},
   "source": [
    "#### Old system HarmonicBondForce vs hybrid system CustomBondForce"
   ]
  },
  {
   "cell_type": "code",
   "execution_count": 49,
   "id": "accessory-spectrum",
   "metadata": {},
   "outputs": [],
   "source": [
    "# Load htf\n",
    "with open(\"/home/zhangi/choderalab/perses_benchmark/perses_protein_mutations/code/26_rxn_field/8mer_solvent.pickle\", \"rb\") as f:\n",
    "    htf = pickle.load(f)"
   ]
  },
  {
   "cell_type": "code",
   "execution_count": 50,
   "id": "32839d52",
   "metadata": {
    "scrolled": false
   },
   "outputs": [
    {
     "name": "stdout",
     "output_type": "stream",
     "text": [
      "Warning: Returning CPU platform instead of requested platform <simtk.openmm.openmm.Platform; proxy of <Swig Object of type 'OpenMM::Platform *' at 0x2b2ab7bc8840> >\n",
      "conducting subsequent work with the following platform: CPU\n",
      "conducting subsequent work with the following platform: CUDA\n",
      "[('HarmonicBondForce', 7.300105424153174), ('HarmonicAngleForce', 12.445685055931849), ('PeriodicTorsionForce', 156.24350906389375), ('NonbondedForce', -28349.916749050924), ('AndersenThermostat', 0.0)]\n",
      "conducting subsequent work with the following platform: CUDA\n",
      "[('CustomBondForce', 7.9555059550545915), ('CustomAngleForce', 379.4343481224499), ('CustomTorsionForce', 156.24351836067592), ('CustomNonbondedForce', -28985.82433556304), ('CustomNonbondedForce', 4419.805159760622), ('CustomBondForce', 635.907909782493), ('CustomBondForce', 56.047220181697135), ('AndersenThermostat', 0.0)]\n",
      "Success! Custom nb force and standard nb force electrostatics energies are equal!\n"
     ]
    },
    {
     "data": {
      "text/plain": [
       "<simtk.openmm.openmm.Context; proxy of <Swig Object of type 'OpenMM::Context *' at 0x2b2c56bc31e0> >"
      ]
     },
     "execution_count": 50,
     "metadata": {},
     "output_type": "execute_result"
    }
   ],
   "source": [
    "test_nb_energies(htf, is_solvated=True)"
   ]
  },
  {
   "cell_type": "code",
   "execution_count": 51,
   "id": "0523cf81",
   "metadata": {},
   "outputs": [],
   "source": [
    "# Load htf\n",
    "with open(\"/home/zhangi/choderalab/perses_benchmark/perses_protein_mutations/code/26_rxn_field/8mer_solvent.pickle\", \"rb\") as f:\n",
    "    htf = pickle.load(f)"
   ]
  },
  {
   "cell_type": "code",
   "execution_count": 52,
   "id": "4e411dda",
   "metadata": {},
   "outputs": [
    {
     "name": "stdout",
     "output_type": "stream",
     "text": [
      "Warning: Returning CPU platform instead of requested platform <simtk.openmm.openmm.Platform; proxy of <Swig Object of type 'OpenMM::Platform *' at 0x2b2ab7bc8840> >\n",
      "conducting subsequent work with the following platform: CPU\n",
      "conducting subsequent work with the following platform: CUDA\n",
      "[('HarmonicBondForce', 7.300105424153174), ('HarmonicAngleForce', 12.445685055931849), ('PeriodicTorsionForce', 156.24350906389375), ('NonbondedForce', 4475.852556809397), ('AndersenThermostat', 0.0)]\n",
      "conducting subsequent work with the following platform: CUDA\n",
      "[('CustomBondForce', 7.9555059550545915), ('CustomAngleForce', 379.4343481224499), ('CustomTorsionForce', 156.24351836067592), ('CustomNonbondedForce', -28985.82433556304), ('CustomNonbondedForce', 4419.805159760622), ('CustomBondForce', 635.907909782493), ('CustomBondForce', 56.047220181697135), ('AndersenThermostat', 0.0)]\n",
      "Success! Custom nb force and standard nb force sterics energies are equal!\n"
     ]
    },
    {
     "data": {
      "text/plain": [
       "<simtk.openmm.openmm.Context; proxy of <Swig Object of type 'OpenMM::Context *' at 0x2b2c57182d80> >"
      ]
     },
     "execution_count": 52,
     "metadata": {},
     "output_type": "execute_result"
    }
   ],
   "source": [
    "test_nb_energies(htf, is_electrostatics=False, is_solvated=True)"
   ]
  },
  {
   "cell_type": "markdown",
   "id": "southeast-norwegian",
   "metadata": {},
   "source": [
    "#### New system HarmonicBondForce vs hybrid system CustomBondForce"
   ]
  },
  {
   "cell_type": "code",
   "execution_count": 53,
   "id": "after-medicaid",
   "metadata": {},
   "outputs": [],
   "source": [
    "# Load htf\n",
    "with open(\"/home/zhangi/choderalab/perses_benchmark/perses_protein_mutations/code/26_rxn_field/8mer_solvent.pickle\", \"rb\") as f:\n",
    "    htf = pickle.load(f)\n"
   ]
  },
  {
   "cell_type": "code",
   "execution_count": 54,
   "id": "protected-playing",
   "metadata": {
    "scrolled": false
   },
   "outputs": [
    {
     "name": "stdout",
     "output_type": "stream",
     "text": [
      "Warning: Returning CPU platform instead of requested platform <simtk.openmm.openmm.Platform; proxy of <Swig Object of type 'OpenMM::Platform *' at 0x2b2ab7bc8840> >\n",
      "conducting subsequent work with the following platform: CPU\n",
      "conducting subsequent work with the following platform: CUDA\n",
      "[('HarmonicBondForce', 7.909881322647433), ('HarmonicAngleForce', 379.3147154766703), ('PeriodicTorsionForce', 167.31611159146243), ('NonbondedForce', -28285.877443913818), ('AndersenThermostat', 0.0)]\n",
      "conducting subsequent work with the following platform: CUDA\n",
      "[('CustomBondForce', 7.9555059550545915), ('CustomAngleForce', 379.4343481224499), ('CustomTorsionForce', 156.24351836067592), ('CustomNonbondedForce', -28921.34433943991), ('CustomNonbondedForce', 4419.805159760622), ('CustomBondForce', 635.4672191078836), ('CustomBondForce', 56.047220181697135), ('AndersenThermostat', 0.0)]\n",
      "Success! Custom nb force and standard nb force electrostatics energies are equal!\n"
     ]
    },
    {
     "data": {
      "text/plain": [
       "<simtk.openmm.openmm.Context; proxy of <Swig Object of type 'OpenMM::Context *' at 0x2b2c57cf7420> >"
      ]
     },
     "execution_count": 54,
     "metadata": {},
     "output_type": "execute_result"
    }
   ],
   "source": [
    "test_nb_energies(htf, is_old=False, is_solvated=True)"
   ]
  },
  {
   "cell_type": "code",
   "execution_count": 55,
   "id": "9c5c8664",
   "metadata": {},
   "outputs": [],
   "source": [
    "# Load htf\n",
    "with open(\"/home/zhangi/choderalab/perses_benchmark/perses_protein_mutations/code/26_rxn_field/8mer_solvent.pickle\", \"rb\") as f:\n",
    "    htf = pickle.load(f)\n"
   ]
  },
  {
   "cell_type": "code",
   "execution_count": 56,
   "id": "6db9ec0b",
   "metadata": {
    "scrolled": false
   },
   "outputs": [
    {
     "name": "stdout",
     "output_type": "stream",
     "text": [
      "Warning: Returning CPU platform instead of requested platform <simtk.openmm.openmm.Platform; proxy of <Swig Object of type 'OpenMM::Platform *' at 0x2b2ab7bc8840> >\n",
      "conducting subsequent work with the following platform: CPU\n",
      "conducting subsequent work with the following platform: CUDA\n",
      "[('HarmonicBondForce', 7.909881322647433), ('HarmonicAngleForce', 379.3147154766703), ('PeriodicTorsionForce', 167.31611159146243), ('NonbondedForce', 23503147.1755113), ('AndersenThermostat', 0.0)]\n",
      "conducting subsequent work with the following platform: CUDA\n",
      "[('CustomBondForce', 7.9555059550545915), ('CustomAngleForce', 379.4343481224499), ('CustomTorsionForce', 156.24351836067592), ('CustomNonbondedForce', -28985.82433556304), ('CustomNonbondedForce', 23502963.013379827), ('CustomBondForce', 635.907909782493), ('CustomBondForce', 186.62237623352632), ('AndersenThermostat', 0.0)]\n",
      "Success! Custom nb force and standard nb force sterics energies are equal!\n"
     ]
    },
    {
     "data": {
      "text/plain": [
       "<simtk.openmm.openmm.Context; proxy of <Swig Object of type 'OpenMM::Context *' at 0x2b2c55544240> >"
      ]
     },
     "execution_count": 56,
     "metadata": {},
     "output_type": "execute_result"
    }
   ],
   "source": [
    "test_nb_energies(htf, is_electrostatics=False, is_old=False, is_solvated=True)"
   ]
  },
  {
   "cell_type": "markdown",
   "id": "intellectual-pennsylvania",
   "metadata": {},
   "source": [
    "### Test one alchemical region, one scale region"
   ]
  },
  {
   "cell_type": "code",
   "execution_count": 57,
   "id": "4e12fd1c",
   "metadata": {},
   "outputs": [],
   "source": [
    "import os\n",
    "from pkg_resources import resource_filename\n",
    "from perses.app import setup_relative_calculation\n",
    "import pickle\n",
    "from simtk import openmm, unit\n",
    "from simtk.openmm import app\n",
    "from openmmforcefields.generators import SystemGenerator\n",
    "import numpy as np"
   ]
  },
  {
   "cell_type": "code",
   "execution_count": 58,
   "id": "12142255",
   "metadata": {},
   "outputs": [],
   "source": [
    "# Test 8-mer peptide in solvent\n",
    "peptide_filename = resource_filename('perses', 'data/8mer-example/4zuh_peptide_capped.pdb')\n",
    "pdb = app.PDBFile(peptide_filename)\n",
    "forcefield_files = ['amber14/protein.ff14SB.xml', 'amber14/tip3p.xml']\n",
    "barostat = openmm.MonteCarloBarostat(1.0 * unit.atmosphere, 300 * unit.kelvin, 50)\n",
    "# barostat = None\n",
    "modeller = app.Modeller(pdb.topology, pdb.positions)\n",
    " \n",
    "system_generator = SystemGenerator(forcefields=forcefield_files,\n",
    "                                   barostat=barostat,\n",
    "                                   forcefield_kwargs={'removeCMMotion': False,\n",
    "                                                      'ewaldErrorTolerance': 1e-4,\n",
    "                                                      'constraints': app.HBonds,\n",
    "                                                      'hydrogenMass': 4 * unit.amus},\n",
    "                                   periodic_forcefield_kwargs=None,\n",
    "                                   small_molecule_forcefield='gaff-2.11',\n",
    "                                   nonperiodic_forcefield_kwargs={'nonbondedMethod': app.NoCutoff},\n",
    "                                   molecules=None,\n",
    "                                   cache=None)\n",
    "\n",
    "modeller.addSolvent(system_generator.forcefield, model='tip3p', padding=9*unit.angstroms, ionicStrength=0.15*unit.molar)\n",
    "topology = modeller.getTopology()\n",
    "positions = modeller.getPositions()\n",
    "\n",
    "# Canonicalize the solvated positions: turn tuples into np.array\n",
    "positions = unit.quantity.Quantity(value=np.array([list(atom_pos) for atom_pos in positions.value_in_unit_system(unit.md_unit_system)]), unit=unit.nanometers)\n",
    "system = system_generator.create_system(topology)\n",
    "\n"
   ]
  },
  {
   "cell_type": "code",
   "execution_count": 59,
   "id": "7660b44f",
   "metadata": {},
   "outputs": [],
   "source": [
    "# set nonbonded parameters\n",
    "system.getForce(3).setNonbondedMethod(openmm.NonbondedForce.NoCutoff)\n",
    "system.getForce(3).setUseDispersionCorrection(False)\n",
    "for i in range(system.getNumForces()):\n",
    "    if i == 3:\n",
    "        system.getForce(i).setExceptionsUsePeriodicBoundaryConditions(False)\n",
    "    elif i < 3: # do not set PBCs for barostat\n",
    "        system.getForce(i).setUsesPeriodicBoundaryConditions(False)\n",
    "system.removeForce(4) # Remove barostat\n"
   ]
  },
  {
   "cell_type": "code",
   "execution_count": 60,
   "id": "dd6352bf",
   "metadata": {
    "scrolled": true
   },
   "outputs": [
    {
     "name": "stderr",
     "output_type": "stream",
     "text": [
      "2021-07-14 17:05:55,288:(58.24s):proposal_generator:\tConducting polymer point mutation proposal...\n"
     ]
    },
    {
     "name": "stdout",
     "output_type": "stream",
     "text": [
      "Making mutation ALA->ASN\n"
     ]
    },
    {
     "name": "stderr",
     "output_type": "stream",
     "text": [
      "2021-07-14 17:05:55,853:(0.56s):proposal_generator:Using matching_criterion to chose best atom map\n",
      "2021-07-14 17:05:55,859:(0.01s):proposal_generator:Scaffold has symmetry of 0\n",
      "2021-07-14 17:05:55,861:(0.00s):proposal_generator:Two molecules are not similar to have a common scaffold\n",
      "2021-07-14 17:05:55,863:(0.00s):proposal_generator:Proceeding with direct mapping of molecules, but please check atom mapping and the geometry of the ligands.\n",
      "2021-07-14 17:05:55,867:(0.00s):proposal_generator:len [{10: 7}, {11: 7}, {12: 7}, {13: 7}, {10: 8}, {11: 8}, {12: 8}, {13: 8}, {10: 9}, {11: 9}, {12: 9}, {13: 9}]\n",
      "2021-07-14 17:05:55,869:(0.00s):proposal_generator:{10: 7}\n",
      "2021-07-14 17:05:55,872:(0.00s):proposal_generator:{11: 7}\n",
      "2021-07-14 17:05:55,874:(0.00s):proposal_generator:{12: 7}\n",
      "2021-07-14 17:05:55,876:(0.00s):proposal_generator:{13: 7}\n",
      "2021-07-14 17:05:55,878:(0.00s):proposal_generator:{10: 8}\n",
      "2021-07-14 17:05:55,880:(0.00s):proposal_generator:{11: 8}\n",
      "2021-07-14 17:05:55,883:(0.00s):proposal_generator:{12: 8}\n",
      "2021-07-14 17:05:55,885:(0.00s):proposal_generator:{13: 8}\n",
      "2021-07-14 17:05:55,887:(0.00s):proposal_generator:{10: 9}\n",
      "2021-07-14 17:05:55,890:(0.00s):proposal_generator:{11: 9}\n",
      "2021-07-14 17:05:55,891:(0.00s):proposal_generator:{12: 9}\n",
      "2021-07-14 17:05:55,891:(0.00s):proposal_generator:{13: 9}\n",
      "2021-07-14 17:05:55,892:(0.00s):proposal_generator:Returning map that best satisfies matching_criterion\n",
      "2021-07-14 17:05:55,893:(0.00s):proposal_generator:Finding best map using matching_criterion name\n",
      "2021-07-14 17:05:55,895:(0.00s):proposal_generator:{10: 7}\n",
      "2021-07-14 17:05:57,778:(1.88s):geometry:propose: performing forward proposal\n",
      "2021-07-14 17:05:57,781:(0.00s):geometry:propose: unique new atoms detected; proceeding to _logp_propose...\n",
      "2021-07-14 17:05:57,784:(0.00s):geometry:Conducting forward proposal...\n",
      "2021-07-14 17:05:57,786:(0.00s):geometry:Computing proposal order with NetworkX...\n",
      "2021-07-14 17:05:57,800:(0.01s):geometry:number of atoms to be placed: 8\n",
      "2021-07-14 17:05:57,803:(0.00s):geometry:Atom index proposal order is [21, 26, 27, 28, 24, 30, 25, 29]\n",
      "2021-07-14 17:05:57,806:(0.00s):geometry:omitted_bonds: []\n",
      "2021-07-14 17:05:57,808:(0.00s):geometry:direction of proposal is forward; creating atoms_with_positions and new positions from old system/topology...\n",
      "2021-07-14 17:05:58,988:(1.18s):geometry:creating growth system...\n",
      "2021-07-14 17:05:59,201:(0.21s):geometry:\tcreating bond force...\n",
      "2021-07-14 17:05:59,204:(0.00s):geometry:\tthere are 64 bonds in reference force.\n",
      "2021-07-14 17:05:59,208:(0.00s):geometry:\tcreating angle force...\n",
      "2021-07-14 17:05:59,210:(0.00s):geometry:\tthere are 224 angles in reference force.\n",
      "2021-07-14 17:05:59,217:(0.01s):geometry:\tcreating torsion force...\n",
      "2021-07-14 17:05:59,220:(0.00s):geometry:\tcreating extra torsions force...\n",
      "2021-07-14 17:05:59,222:(0.00s):geometry:\tthere are 421 torsions in reference force.\n",
      "2021-07-14 17:05:59,232:(0.01s):geometry:\tcreating nonbonded force...\n",
      "2021-07-14 17:05:59,235:(0.00s):geometry:\t\tgrabbing reference nonbonded method, cutoff, switching function, switching distance...\n",
      "2021-07-14 17:05:59,238:(0.00s):geometry:\t\tcreating nonbonded exception force (i.e. custom bond for 1,4s)...\n",
      "2021-07-14 17:05:59,241:(0.00s):geometry:\t\tlooping through exceptions calculating growth indices, and adding appropriate interactions to custom bond force.\n",
      "2021-07-14 17:05:59,244:(0.00s):geometry:\t\tthere are 6107 in the reference Nonbonded force\n",
      "2021-07-14 17:05:59,465:(0.22s):geometry:\t\t\t\t\tchiral atom <Atom 18 (CA) of chain 0 residue 2 (ASN)> with neighbors [<Atom 19 (C) of chain 0 residue 2 (ASN)>, <Atom 21 (CB) of chain 0 residue 2 (ASN)>, <Atom 23 (HA) of chain 0 residue 2 (ASN)>, <Atom 17 (N) of chain 0 residue 2 (ASN)>] is surrounded by 3 core neighbors.  omitting chirality bias torsion\n",
      "2021-07-14 17:05:59,468:(0.00s):geometry:Neglected angle terms : []\n",
      "2021-07-14 17:05:59,471:(0.00s):geometry:omitted_growth_terms: {'bonds': [], 'angles': [], 'torsions': [], '1,4s': []}\n",
      "2021-07-14 17:05:59,473:(0.00s):geometry:extra torsions: {0: (22, 17, 18, 21, [1, Quantity(value=1.0033542268906723, unit=radian), Quantity(value=1200.0, unit=kilocalorie/mole), 1]), 1: (30, 28, 26, 21, [1, Quantity(value=-3.0613628096248338, unit=radian), Quantity(value=1200.0, unit=kilocalorie/mole), 6]), 2: (30, 28, 26, 27, [1, Quantity(value=0.1006962644006828, unit=radian), Quantity(value=1200.0, unit=kilocalorie/mole), 6]), 3: (29, 28, 26, 21, [1, Quantity(value=-0.163557181151619, unit=radian), Quantity(value=1200.0, unit=kilocalorie/mole), 8]), 4: (29, 28, 26, 27, [1, Quantity(value=2.998501892873897, unit=radian), Quantity(value=1200.0, unit=kilocalorie/mole), 8])}\n",
      "2021-07-14 17:05:59,476:(0.00s):geometry:neglected angle terms include []\n",
      "2021-07-14 17:05:59,479:(0.00s):geometry:log probability choice of torsions and atom order: -9.960245886354738\n",
      "2021-07-14 17:05:59,481:(0.00s):geometry:creating platform, integrators, and contexts; setting growth parameter\n"
     ]
    },
    {
     "name": "stdout",
     "output_type": "stream",
     "text": [
      "conducting subsequent work with the following platform: CUDA\n"
     ]
    },
    {
     "name": "stderr",
     "output_type": "stream",
     "text": [
      "2021-07-14 17:06:02,140:(2.66s):geometry:setting atoms_with_positions context new positions\n"
     ]
    },
    {
     "name": "stdout",
     "output_type": "stream",
     "text": [
      "conducting subsequent work with the following platform: CUDA\n"
     ]
    },
    {
     "name": "stderr",
     "output_type": "stream",
     "text": [
      "2021-07-14 17:06:03,505:(1.36s):geometry:There are 8 new atoms\n",
      "2021-07-14 17:06:03,512:(0.01s):geometry:\treduced angle potential = 0.10215256243949326.\n",
      "2021-07-14 17:06:03,818:(0.31s):geometry:\treduced angle potential = 0.34228318935551466.\n",
      "2021-07-14 17:06:04,155:(0.34s):geometry:\treduced angle potential = 0.016908874612937344.\n",
      "2021-07-14 17:06:04,500:(0.35s):geometry:\treduced angle potential = 0.06208705743311762.\n",
      "2021-07-14 17:06:04,835:(0.33s):geometry:\treduced angle potential = 1.0433732366487356.\n",
      "2021-07-14 17:06:05,176:(0.34s):geometry:\treduced angle potential = 2.4881746438851637.\n",
      "2021-07-14 17:06:05,529:(0.35s):geometry:\treduced angle potential = 0.3898994111438934.\n",
      "2021-07-14 17:06:05,858:(0.33s):geometry:\treduced angle potential = 0.07981201224658659.\n",
      "2021-07-14 17:06:06,312:(0.45s):geometry:\tbeginning construction of no_nonbonded final system...\n",
      "2021-07-14 17:06:06,315:(0.00s):geometry:\tinitial no-nonbonded final system forces ['HarmonicBondForce', 'HarmonicAngleForce', 'PeriodicTorsionForce', 'NonbondedForce', 'MonteCarloBarostat']\n",
      "2021-07-14 17:06:06,882:(0.57s):geometry:\tfinal no-nonbonded final system forces dict_keys(['HarmonicBondForce', 'HarmonicAngleForce', 'PeriodicTorsionForce', 'NonbondedForce'])\n",
      "2021-07-14 17:06:06,886:(0.00s):geometry:\tthere are 64 bond forces in the no-nonbonded final system\n",
      "2021-07-14 17:06:06,888:(0.00s):geometry:\tthere are 224 angle forces in the no-nonbonded final system\n",
      "2021-07-14 17:06:06,890:(0.00s):geometry:\tthere are 421 torsion forces in the no-nonbonded final system\n",
      "2021-07-14 17:06:06,892:(0.00s):geometry:forward final system defined with 0 neglected angles.\n"
     ]
    },
    {
     "name": "stdout",
     "output_type": "stream",
     "text": [
      "conducting subsequent work with the following platform: CUDA\n",
      "conducting subsequent work with the following platform: CUDA\n"
     ]
    },
    {
     "name": "stderr",
     "output_type": "stream",
     "text": [
      "2021-07-14 17:06:11,181:(4.29s):geometry:total reduced potential before atom placement: 168.36662826271774\n"
     ]
    },
    {
     "name": "stdout",
     "output_type": "stream",
     "text": [
      "conducting subsequent work with the following platform: CUDA\n",
      "conducting subsequent work with the following platform: CUDA\n",
      "conducting subsequent work with the following platform: CUDA\n"
     ]
    },
    {
     "name": "stderr",
     "output_type": "stream",
     "text": [
      "2021-07-14 17:06:14,282:(3.10s):geometry:total reduced energy added from growth system: 496.86336828737177\n",
      "2021-07-14 17:06:14,285:(0.00s):geometry:final reduced energy 665.229986831898\n",
      "2021-07-14 17:06:14,287:(0.00s):geometry:sum of energies: 665.2299965500895\n",
      "2021-07-14 17:06:14,290:(0.00s):geometry:magnitude of difference in the energies: 9.718191506635776e-06\n",
      "2021-07-14 17:06:14,292:(0.00s):geometry:Final logp_proposal: 58.74858461300786\n"
     ]
    },
    {
     "name": "stdout",
     "output_type": "stream",
     "text": [
      "added energy components: [('CustomBondForce', 2.938366962206339), ('CustomAngleForce', 367.5698014592312), ('CustomTorsionForce', 27.839801874938562), ('CustomBondForce', 98.5153979909956)]\n"
     ]
    },
    {
     "name": "stderr",
     "output_type": "stream",
     "text": [
      "2021-07-14 17:06:14,468:(0.18s):geometry:logp_reverse: performing reverse proposal\n",
      "2021-07-14 17:06:14,471:(0.00s):geometry:logp_reverse: unique new atoms detected; proceeding to _logp_propose...\n",
      "2021-07-14 17:06:14,473:(0.00s):geometry:Conducting forward proposal...\n",
      "2021-07-14 17:06:14,475:(0.00s):geometry:Computing proposal order with NetworkX...\n",
      "2021-07-14 17:06:14,490:(0.01s):geometry:number of atoms to be placed: 4\n",
      "2021-07-14 17:06:14,492:(0.00s):geometry:Atom index proposal order is [21, 26, 25, 24]\n",
      "2021-07-14 17:06:14,495:(0.00s):geometry:omitted_bonds: []\n",
      "2021-07-14 17:06:14,497:(0.00s):geometry:direction of proposal is reverse; creating atoms_with_positions from old system/topology\n",
      "2021-07-14 17:06:15,510:(1.01s):geometry:creating growth system...\n",
      "2021-07-14 17:06:15,717:(0.21s):geometry:\tcreating bond force...\n",
      "2021-07-14 17:06:15,720:(0.00s):geometry:\tthere are 61 bonds in reference force.\n",
      "2021-07-14 17:06:15,723:(0.00s):geometry:\tcreating angle force...\n",
      "2021-07-14 17:06:15,726:(0.00s):geometry:\tthere are 218 angles in reference force.\n",
      "2021-07-14 17:06:15,732:(0.01s):geometry:\tcreating torsion force...\n",
      "2021-07-14 17:06:15,735:(0.00s):geometry:\tcreating extra torsions force...\n",
      "2021-07-14 17:06:15,737:(0.00s):geometry:\tthere are 399 torsions in reference force.\n",
      "2021-07-14 17:06:15,744:(0.01s):geometry:\tcreating nonbonded force...\n",
      "2021-07-14 17:06:15,747:(0.00s):geometry:\t\tgrabbing reference nonbonded method, cutoff, switching function, switching distance...\n",
      "2021-07-14 17:06:15,750:(0.00s):geometry:\t\tcreating nonbonded exception force (i.e. custom bond for 1,4s)...\n",
      "2021-07-14 17:06:15,753:(0.00s):geometry:\t\tlooping through exceptions calculating growth indices, and adding appropriate interactions to custom bond force.\n",
      "2021-07-14 17:06:15,756:(0.00s):geometry:\t\tthere are 6087 in the reference Nonbonded force\n",
      "2021-07-14 17:06:15,970:(0.21s):geometry:\t\t\t\t\tchiral atom <Atom 18 (CA) of chain 0 residue 2 (ALA)> with neighbors [<Atom 19 (C) of chain 0 residue 2 (ALA)>, <Atom 21 (CB) of chain 0 residue 2 (ALA)>, <Atom 23 (HA) of chain 0 residue 2 (ALA)>, <Atom 17 (N) of chain 0 residue 2 (ALA)>] is surrounded by 3 core neighbors.  omitting chirality bias torsion\n",
      "2021-07-14 17:06:15,973:(0.00s):geometry:Neglected angle terms : []\n",
      "2021-07-14 17:06:15,975:(0.00s):geometry:omitted_growth_terms: {'bonds': [], 'angles': [], 'torsions': [], '1,4s': []}\n",
      "2021-07-14 17:06:15,978:(0.00s):geometry:extra torsions: {0: (22, 17, 18, 21, [1, Quantity(value=0.9799661941737812, unit=radian), Quantity(value=1200.0, unit=kilocalorie/mole), 1]), 1: (17, 18, 21, 24, [1, Quantity(value=2.105358864604291, unit=radian), Quantity(value=1200.0, unit=kilocalorie/mole), 4]), 2: (17, 18, 21, 25, [1, Quantity(value=-2.0823006129211796, unit=radian), Quantity(value=1200.0, unit=kilocalorie/mole), 3]), 3: (17, 18, 21, 26, [1, Quantity(value=0.018582237407944735, unit=radian), Quantity(value=1200.0, unit=kilocalorie/mole), 2]), 4: (19, 18, 21, 24, [1, Quantity(value=-0.036945135932107576, unit=radian), Quantity(value=1200.0, unit=kilocalorie/mole), 4]), 5: (19, 18, 21, 25, [1, Quantity(value=2.0585806937220097, unit=radian), Quantity(value=1200.0, unit=kilocalorie/mole), 3]), 6: (19, 18, 21, 26, [1, Quantity(value=-2.1237217631284597, unit=radian), Quantity(value=1200.0, unit=kilocalorie/mole), 2]), 7: (23, 18, 21, 24, [1, Quantity(value=-2.119603470065817, unit=radian), Quantity(value=1200.0, unit=kilocalorie/mole), 4]), 8: (23, 18, 21, 25, [1, Quantity(value=-0.024077640411697132, unit=radian), Quantity(value=1200.0, unit=kilocalorie/mole), 3]), 9: (23, 18, 21, 26, [1, Quantity(value=2.0768052099174152, unit=radian), Quantity(value=1200.0, unit=kilocalorie/mole), 2])}\n",
      "2021-07-14 17:06:15,980:(0.00s):geometry:neglected angle terms include []\n",
      "2021-07-14 17:06:15,983:(0.00s):geometry:log probability choice of torsions and atom order: -5.78074351579233\n",
      "2021-07-14 17:06:15,985:(0.00s):geometry:creating platform, integrators, and contexts; setting growth parameter\n"
     ]
    },
    {
     "name": "stdout",
     "output_type": "stream",
     "text": [
      "conducting subsequent work with the following platform: CUDA\n"
     ]
    },
    {
     "name": "stderr",
     "output_type": "stream",
     "text": [
      "2021-07-14 17:06:16,986:(1.00s):geometry:setting atoms_with_positions context old positions\n"
     ]
    },
    {
     "name": "stdout",
     "output_type": "stream",
     "text": [
      "conducting subsequent work with the following platform: CUDA\n"
     ]
    },
    {
     "name": "stderr",
     "output_type": "stream",
     "text": [
      "2021-07-14 17:06:17,809:(0.82s):geometry:There are 4 new atoms\n",
      "2021-07-14 17:06:17,815:(0.01s):geometry:\treduced angle potential = 0.042051561766555265.\n",
      "2021-07-14 17:06:18,122:(0.31s):geometry:\treduced angle potential = 2.233125127093818e-08.\n",
      "2021-07-14 17:06:18,430:(0.31s):geometry:\treduced angle potential = 9.561051668715153e-06.\n",
      "2021-07-14 17:06:18,741:(0.31s):geometry:\treduced angle potential = 9.265637866968462e-06.\n",
      "2021-07-14 17:06:19,156:(0.41s):geometry:\tbeginning construction of no_nonbonded final system...\n",
      "2021-07-14 17:06:19,159:(0.00s):geometry:\tinitial no-nonbonded final system forces ['HarmonicBondForce', 'HarmonicAngleForce', 'PeriodicTorsionForce', 'NonbondedForce']\n",
      "2021-07-14 17:06:19,715:(0.56s):geometry:\tfinal no-nonbonded final system forces dict_keys(['HarmonicBondForce', 'HarmonicAngleForce', 'PeriodicTorsionForce', 'NonbondedForce'])\n",
      "2021-07-14 17:06:19,718:(0.00s):geometry:\tthere are 61 bond forces in the no-nonbonded final system\n",
      "2021-07-14 17:06:19,721:(0.00s):geometry:\tthere are 218 angle forces in the no-nonbonded final system\n",
      "2021-07-14 17:06:19,723:(0.00s):geometry:\tthere are 399 torsion forces in the no-nonbonded final system\n",
      "2021-07-14 17:06:19,726:(0.00s):geometry:reverse final system defined with 0 neglected angles.\n"
     ]
    },
    {
     "name": "stdout",
     "output_type": "stream",
     "text": [
      "conducting subsequent work with the following platform: CUDA\n",
      "conducting subsequent work with the following platform: CUDA\n"
     ]
    },
    {
     "name": "stderr",
     "output_type": "stream",
     "text": [
      "2021-07-14 17:06:21,766:(2.04s):geometry:total reduced potential before atom placement: 168.36662826283057\n"
     ]
    },
    {
     "name": "stdout",
     "output_type": "stream",
     "text": [
      "conducting subsequent work with the following platform: CUDA\n",
      "conducting subsequent work with the following platform: CUDA\n",
      "conducting subsequent work with the following platform: CUDA\n"
     ]
    },
    {
     "name": "stderr",
     "output_type": "stream",
     "text": [
      "2021-07-14 17:06:24,020:(2.25s):geometry:total reduced energy added from growth system: 19.11335785388209\n",
      "2021-07-14 17:06:24,023:(0.00s):geometry:final reduced energy 187.47998570143525\n",
      "2021-07-14 17:06:24,026:(0.00s):geometry:sum of energies: 187.47998611671267\n",
      "2021-07-14 17:06:24,028:(0.00s):geometry:magnitude of difference in the energies: 4.1527740890501263e-07\n",
      "2021-07-14 17:06:24,030:(0.00s):geometry:Final logp_proposal: -30364.69631509255\n"
     ]
    },
    {
     "name": "stdout",
     "output_type": "stream",
     "text": [
      "added energy components: [('CustomBondForce', 0.04562463240715887), ('CustomAngleForce', 0.11963264577965825), ('CustomTorsionForce', 7.457414545448549), ('CustomBondForce', 11.490686030246726)]\n"
     ]
    }
   ],
   "source": [
    "from perses.rjmc.topology_proposal import PointMutationEngine\n",
    "from perses.annihilation.relative import RepartitionedHybridTopologyFactory\n",
    "from perses.tests.utils import validate_endstate_energies\n",
    "import random\n",
    "\n",
    "aminos = ['ALA','ARG','ASN','ASP','CYS','GLN','GLU','GLY','HIS','ILE','LEU','LYS','MET','PHE','PRO','SER','THR','TRP','TYR','VAL']\n",
    "\n",
    "ENERGY_THRESHOLD = 1e-6\n",
    "kB = unit.BOLTZMANN_CONSTANT_kB * unit.AVOGADRO_CONSTANT_NA\n",
    "temperature = 300.0 * unit.kelvin\n",
    "kT = kB * temperature\n",
    "beta = 1.0/kT\n",
    "\n",
    "chain = 'C'\n",
    "for res in topology.residues():\n",
    "    if res.id == '2':\n",
    "        wt_res = res.name\n",
    "aminos_updated = [amino for amino in aminos if amino not in [wt_res, 'PRO', 'HIS', 'TRP', 'PHE', 'TYR']]\n",
    "# mutant = random.choice(aminos_updated)\n",
    "mutant = \"ASN\"\n",
    "print(f'Making mutation {wt_res}->{mutant}')\n",
    "\n",
    "# Create point mutation engine to mutate residue at id 2 to random amino acid\n",
    "point_mutation_engine = PointMutationEngine(wildtype_topology=topology,\n",
    "                                            system_generator=system_generator,\n",
    "                                            chain_id=chain,\n",
    "                                            max_point_mutants=1,\n",
    "                                            residues_allowed_to_mutate=['2'],  # the residue ids allowed to mutate\n",
    "                                            allowed_mutations=[('2', mutant)],\n",
    "                                            aggregate=True)  # always allow aggregation\n",
    "\n",
    "# Create topology proposal\n",
    "topology_proposal = point_mutation_engine.propose(current_system=system, current_topology=topology)\n",
    "\n",
    "# Create geometry engine\n",
    "from perses.rjmc.geometry import FFAllAngleGeometryEngine\n",
    "geometry_engine = FFAllAngleGeometryEngine(metadata=None,\n",
    "                                           use_sterics=False,\n",
    "                                           n_bond_divisions=100,\n",
    "                                           n_angle_divisions=180,\n",
    "                                           n_torsion_divisions=360,\n",
    "                                           verbose=True,\n",
    "                                           storage=None,\n",
    "                                           bond_softening_constant=1.0,\n",
    "                                           angle_softening_constant=1.0,\n",
    "                                           neglect_angles=False,\n",
    "                                           use_14_nonbondeds=True)\n",
    "\n",
    "# Create geometry proposal\n",
    "new_positions, logp_proposal = geometry_engine.propose(topology_proposal, positions, beta,\n",
    "                                                               validate_energy_bookkeeping=True)\n",
    "logp_reverse = geometry_engine.logp_reverse(topology_proposal, new_positions, positions, beta,\n",
    "                                            validate_energy_bookkeeping=True)\n",
    "\n",
    "if not topology_proposal.unique_new_atoms:\n",
    "    assert geometry_engine.forward_final_context_reduced_potential == None, f\"There are no unique new atoms but the geometry_engine's final context reduced potential is not None (i.e. {self._geometry_engine.forward_final_context_reduced_potential})\"\n",
    "    assert geometry_engine.forward_atoms_with_positions_reduced_potential == None, f\"There are no unique new atoms but the geometry_engine's forward atoms-with-positions-reduced-potential in not None (i.e. { self._geometry_engine.forward_atoms_with_positions_reduced_potential})\"\n",
    "    vacuum_added_valence_energy = 0.0\n",
    "else:\n",
    "    added_valence_energy = geometry_engine.forward_final_context_reduced_potential - geometry_engine.forward_atoms_with_positions_reduced_potential\n",
    "\n",
    "if not topology_proposal.unique_old_atoms:\n",
    "    assert geometry_engine.reverse_final_context_reduced_potential == None, f\"There are no unique old atoms but the geometry_engine's final context reduced potential is not None (i.e. {self._geometry_engine.reverse_final_context_reduced_potential})\"\n",
    "    assert geometry_engine.reverse_atoms_with_positions_reduced_potential == None, f\"There are no unique old atoms but the geometry_engine's atoms-with-positions-reduced-potential in not None (i.e. { self._geometry_engine.reverse_atoms_with_positions_reduced_potential})\"\n",
    "    subtracted_valence_energy = 0.0\n",
    "else:\n",
    "    subtracted_valence_energy = geometry_engine.reverse_final_context_reduced_potential - geometry_engine.reverse_atoms_with_positions_reduced_potential\n"
   ]
  },
  {
   "cell_type": "code",
   "execution_count": 61,
   "id": "3213dec6",
   "metadata": {
    "scrolled": true
   },
   "outputs": [
    {
     "name": "stderr",
     "output_type": "stream",
     "text": [
      "2021-07-14 17:06:24,234:(0.20s):relative:*** Generating RxnHybridTopologyFactory ***\n",
      "2021-07-14 17:06:24,237:(0.00s):relative:Beginning nonbonded method, total particle, barostat, and exceptions retrieval...\n",
      "2021-07-14 17:06:24,501:(0.26s):relative:Old system forces: dict_keys(['HarmonicBondForce', 'HarmonicAngleForce', 'PeriodicTorsionForce', 'NonbondedForce'])\n",
      "2021-07-14 17:06:24,504:(0.00s):relative:New system forces: dict_keys(['HarmonicBondForce', 'HarmonicAngleForce', 'PeriodicTorsionForce', 'NonbondedForce', 'MonteCarloBarostat'])\n",
      "2021-07-14 17:06:24,506:(0.00s):relative:No unknown forces.\n",
      "2021-07-14 17:06:24,509:(0.00s):relative:Nonbonded method to be used (i.e. from old system): 0\n",
      "2021-07-14 17:06:24,512:(0.00s):relative:Adding and mapping old atoms to hybrid system...\n",
      "2021-07-14 17:06:24,605:(0.09s):relative:Adding and mapping new atoms to hybrid system...\n",
      "2021-07-14 17:06:24,608:(0.00s):relative:scale_templates: [['nonscale_lambda', 'scale_lambda_0', 'interscale_lambda_0'], ['nonscale_region', 'scale_region_0', 'interscale_region_0']]\n",
      "2021-07-14 17:06:24,611:(0.00s):relative:particle (nonbonded) scale_templates: [['nonscale_lambda', 'scale_lambda_0'], ['nonscale_region1', 'scale_region_01'], ['nonscale_region2', 'scale_region_02']]\n",
      "2021-07-14 17:06:24,613:(0.00s):relative:No MonteCarloBarostat added.\n",
      "2021-07-14 17:06:24,616:(0.00s):relative:getDefaultPeriodicBoxVectors added to hybrid: [Quantity(value=Vec3(x=3.9005, y=0.0, z=0.0), unit=nanometer), Quantity(value=Vec3(x=0.0, y=3.9005, z=0.0), unit=nanometer), Quantity(value=Vec3(x=0.0, y=0.0, z=3.9005), unit=nanometer)]\n",
      "2021-07-14 17:06:24,623:(0.01s):relative:Determined atom classes.\n",
      "2021-07-14 17:06:24,626:(0.00s):relative:Generating old system exceptions dict...\n",
      "2021-07-14 17:06:24,685:(0.06s):relative:Generating new system exceptions dict...\n",
      "2021-07-14 17:06:24,774:(0.09s):relative:Handling constraints...\n",
      "2021-07-14 17:06:24,983:(0.21s):relative:Handling virtual sites...\n",
      "2021-07-14 17:06:24,993:(0.01s):relative:\t_handle_virtual_sites: numVirtualSites: 0\n",
      "2021-07-14 17:06:25,080:(0.09s):relative:hybrid_index_pair (107, 104, 106, 115) was not found in the new_term_collector, but (104, 107, 106, 115) has the same atoms and terms, so (104, 107, 106, 115) will be removed from the new term collector\n"
     ]
    }
   ],
   "source": [
    "from perses.annihilation.relative import RxnHybridTopologyFactory\n",
    "flatten_exceptions = True\n",
    "flatten_torsions = True\n",
    "endstate = None\n",
    "scale_regions = [list(htf._atom_classes['unique_old_atoms'][0]) + list(htf._atom_classes['unique_new_atoms'][0])]\n",
    "htf = RxnHybridTopologyFactory(topology_proposal=topology_proposal,\n",
    "                     current_positions=positions,\n",
    "                     new_positions=new_positions,\n",
    "                     use_dispersion_correction=False,\n",
    "                     functions=None,\n",
    "                     softcore_alpha=None,\n",
    "                     bond_softening_constant=1.0,\n",
    "                     angle_softening_constant=1.0,\n",
    "                     soften_only_new=False,\n",
    "                     neglected_new_angle_terms=[],\n",
    "                     neglected_old_angle_terms=[],\n",
    "                     softcore_LJ_v2=True,\n",
    "                     softcore_electrostatics=True,\n",
    "                     softcore_LJ_v2_alpha=0.85,\n",
    "                     softcore_electrostatics_alpha=0.3,\n",
    "                     softcore_sigma_Q=1.0,\n",
    "                     interpolate_old_and_new_14s=flatten_exceptions,\n",
    "                     omitted_terms=None,\n",
    "                     flatten_torsions=flatten_torsions,\n",
    "                     scale_regions=scale_regions,\n",
    "                    generate_htf_for_testing=True)"
   ]
  },
  {
   "cell_type": "code",
   "execution_count": 62,
   "id": "a919d4ad",
   "metadata": {},
   "outputs": [],
   "source": [
    "\n",
    "htf._topology_proposal.new_system.getForce(3).setNonbondedMethod(openmm.NonbondedForce.NoCutoff)\n",
    "htf._topology_proposal.new_system.getForce(3).setUseDispersionCorrection(False)\n",
    "htf._topology_proposal.new_system.removeForce(4) # Remove barostat\n"
   ]
  },
  {
   "cell_type": "code",
   "execution_count": 63,
   "id": "053830ab",
   "metadata": {},
   "outputs": [],
   "source": [
    "# Save htf\n",
    "with open(\"8mer_solvent_scale_region.pickle\", \"wb\") as f:\n",
    "    pickle.dump(htf, f)"
   ]
  },
  {
   "cell_type": "markdown",
   "id": "romantic-florist",
   "metadata": {},
   "source": [
    "#### Old system HarmonicBondForce vs hybrid system CustomBondForce"
   ]
  },
  {
   "cell_type": "code",
   "execution_count": 64,
   "id": "needed-classroom",
   "metadata": {},
   "outputs": [],
   "source": [
    "# Load htf\n",
    "with open(\"/home/zhangi/choderalab/perses_benchmark/perses_protein_mutations/code/26_rxn_field/8mer_solvent_scale_region.pickle\", \"rb\") as f:\n",
    "    htf = pickle.load(f)"
   ]
  },
  {
   "cell_type": "code",
   "execution_count": 65,
   "id": "continuing-award",
   "metadata": {
    "scrolled": false
   },
   "outputs": [
    {
     "name": "stdout",
     "output_type": "stream",
     "text": [
      "Warning: Returning CPU platform instead of requested platform <simtk.openmm.openmm.Platform; proxy of <Swig Object of type 'OpenMM::Platform *' at 0x2b2ab7bc8840> >\n",
      "conducting subsequent work with the following platform: CPU\n",
      "conducting subsequent work with the following platform: CUDA\n",
      "[('HarmonicBondForce', 7.300105424153174), ('HarmonicAngleForce', 12.445685055931849), ('PeriodicTorsionForce', 156.24350906389375), ('NonbondedForce', -28630.550068355682), ('AndersenThermostat', 0.0)]\n",
      "conducting subsequent work with the following platform: CUDA\n",
      "[('CustomBondForce', 10.238472386359515), ('CustomAngleForce', 380.01548651516316), ('CustomTorsionForce', 156.24351836067592), ('CustomNonbondedForce', -29266.457651546327), ('CustomNonbondedForce', 4439.3730113179445), ('CustomBondForce', 635.907909782493), ('CustomBondForce', 56.047220181697135), ('AndersenThermostat', 0.0)]\n",
      "Success! Custom nb force and standard nb force electrostatics energies are equal!\n",
      "conducting subsequent work with the following platform: CUDA\n",
      "[('CustomBondForce', 10.238472386359515), ('CustomAngleForce', 380.01548651516316), ('CustomTorsionForce', 156.24351836067592), ('CustomNonbondedForce', -29266.457651546327), ('CustomNonbondedForce', 4439.3730113179445), ('CustomBondForce', 635.907909782493), ('CustomBondForce', 56.047220181697135), ('AndersenThermostat', 0.0)]\n",
      "conducting subsequent work with the following platform: CUDA\n",
      "[('CustomBondForce', 10.238472386359515), ('CustomAngleForce', 380.01548651516316), ('CustomTorsionForce', 156.24351836067592), ('CustomNonbondedForce', -29264.793705939792), ('CustomNonbondedForce', 4439.3730113179445), ('CustomBondForce', 635.907909782493), ('CustomBondForce', 56.047220181697135), ('AndersenThermostat', 0.0)]\n",
      "Success! Scaling the custom nb electrostatics force changes the energy\n"
     ]
    },
    {
     "data": {
      "text/plain": [
       "<simtk.openmm.openmm.Context; proxy of <Swig Object of type 'OpenMM::Context *' at 0x2b2c55b8b4b0> >"
      ]
     },
     "execution_count": 65,
     "metadata": {},
     "output_type": "execute_result"
    }
   ],
   "source": [
    "test_nb_energies(htf, is_solvated=True, check_scale=True)"
   ]
  },
  {
   "cell_type": "code",
   "execution_count": 66,
   "id": "87d4d538",
   "metadata": {},
   "outputs": [],
   "source": [
    "# Load htf\n",
    "with open(\"/home/zhangi/choderalab/perses_benchmark/perses_protein_mutations/code/26_rxn_field/8mer_solvent_scale_region.pickle\", \"rb\") as f:\n",
    "    htf = pickle.load(f)"
   ]
  },
  {
   "cell_type": "code",
   "execution_count": 67,
   "id": "c11dc544",
   "metadata": {
    "scrolled": true
   },
   "outputs": [
    {
     "name": "stdout",
     "output_type": "stream",
     "text": [
      "Warning: Returning CPU platform instead of requested platform <simtk.openmm.openmm.Platform; proxy of <Swig Object of type 'OpenMM::Platform *' at 0x2b2ab7bc8840> >\n",
      "conducting subsequent work with the following platform: CPU\n",
      "conducting subsequent work with the following platform: CUDA\n",
      "[('HarmonicBondForce', 7.300105424153174), ('HarmonicAngleForce', 12.445685055931849), ('PeriodicTorsionForce', 156.24350906389375), ('NonbondedForce', 4495.420414682414), ('AndersenThermostat', 0.0)]\n",
      "conducting subsequent work with the following platform: CUDA\n",
      "[('CustomBondForce', 10.238472386359515), ('CustomAngleForce', 380.01548651516316), ('CustomTorsionForce', 156.24351836067592), ('CustomNonbondedForce', -29266.457651546327), ('CustomNonbondedForce', 4439.3730113179445), ('CustomBondForce', 635.907909782493), ('CustomBondForce', 56.047220181697135), ('AndersenThermostat', 0.0)]\n",
      "Success! Custom nb force and standard nb force sterics energies are equal!\n",
      "conducting subsequent work with the following platform: CUDA\n",
      "[('CustomBondForce', 10.238472386359515), ('CustomAngleForce', 380.01548651516316), ('CustomTorsionForce', 156.24351836067592), ('CustomNonbondedForce', -29266.457651546327), ('CustomNonbondedForce', 4439.3730113179445), ('CustomBondForce', 635.907909782493), ('CustomBondForce', 56.047220181697135), ('AndersenThermostat', 0.0)]\n",
      "conducting subsequent work with the following platform: CUDA\n",
      "[('CustomBondForce', 10.238472386359515), ('CustomAngleForce', 380.01548651516316), ('CustomTorsionForce', 156.24351836067592), ('CustomNonbondedForce', -29266.457651546327), ('CustomNonbondedForce', 4440.56833222147), ('CustomBondForce', 635.907909782493), ('CustomBondForce', 56.047220181697135), ('AndersenThermostat', 0.0)]\n",
      "Success! Scaling the custom nb sterics force changes the energy\n"
     ]
    },
    {
     "data": {
      "text/plain": [
       "<simtk.openmm.openmm.Context; proxy of <Swig Object of type 'OpenMM::Context *' at 0x2b2b0d729b10> >"
      ]
     },
     "execution_count": 67,
     "metadata": {},
     "output_type": "execute_result"
    }
   ],
   "source": [
    "test_nb_energies(htf, is_electrostatics=False, is_solvated=True, check_scale=True)"
   ]
  },
  {
   "cell_type": "markdown",
   "id": "relevant-insured",
   "metadata": {},
   "source": [
    "#### New system HarmonicBondForce vs hybrid system CustomBondForce"
   ]
  },
  {
   "cell_type": "code",
   "execution_count": 68,
   "id": "mediterranean-assist",
   "metadata": {},
   "outputs": [],
   "source": [
    "# Load htf\n",
    "with open(\"/home/zhangi/choderalab/perses_benchmark/perses_protein_mutations/code/26_rxn_field/8mer_solvent_scale_region.pickle\", \"rb\") as f:\n",
    "    htf = pickle.load(f)"
   ]
  },
  {
   "cell_type": "code",
   "execution_count": 69,
   "id": "angry-perception",
   "metadata": {
    "scrolled": false
   },
   "outputs": [
    {
     "name": "stdout",
     "output_type": "stream",
     "text": [
      "Warning: Returning CPU platform instead of requested platform <simtk.openmm.openmm.Platform; proxy of <Swig Object of type 'OpenMM::Platform *' at 0x2b2ab7bc8840> >\n",
      "conducting subsequent work with the following platform: CPU\n",
      "conducting subsequent work with the following platform: CUDA\n",
      "[('HarmonicBondForce', 10.192847753952355), ('HarmonicAngleForce', 379.8958538693835), ('PeriodicTorsionForce', 176.62589458008253), ('NonbondedForce', -28635.82780770589), ('AndersenThermostat', 0.0)]\n",
      "conducting subsequent work with the following platform: CUDA\n",
      "[('CustomBondForce', 10.238472386359515), ('CustomAngleForce', 380.01548651516316), ('CustomTorsionForce', 156.24351836067592), ('CustomNonbondedForce', -29167.511143113235), ('CustomNonbondedForce', 4439.3730113179445), ('CustomBondForce', 531.6836684580401), ('CustomBondForce', 56.047220181697135), ('AndersenThermostat', 0.0)]\n",
      "Success! Custom nb force and standard nb force electrostatics energies are equal!\n",
      "conducting subsequent work with the following platform: CUDA\n",
      "[('CustomBondForce', 10.238472386359515), ('CustomAngleForce', 380.01548651516316), ('CustomTorsionForce', 156.24351836067592), ('CustomNonbondedForce', -29266.457651546327), ('CustomNonbondedForce', 4439.3730113179445), ('CustomBondForce', 635.907909782493), ('CustomBondForce', 56.047220181697135), ('AndersenThermostat', 0.0)]\n",
      "conducting subsequent work with the following platform: CUDA\n",
      "[('CustomBondForce', 10.238472386359515), ('CustomAngleForce', 380.01548651516316), ('CustomTorsionForce', 156.24351836067592), ('CustomNonbondedForce', -29264.793705939792), ('CustomNonbondedForce', 4439.3730113179445), ('CustomBondForce', 635.907909782493), ('CustomBondForce', 56.047220181697135), ('AndersenThermostat', 0.0)]\n",
      "Success! Scaling the custom nb electrostatics force changes the energy\n"
     ]
    },
    {
     "data": {
      "text/plain": [
       "<simtk.openmm.openmm.Context; proxy of <Swig Object of type 'OpenMM::Context *' at 0x2b2b77eae600> >"
      ]
     },
     "execution_count": 69,
     "metadata": {},
     "output_type": "execute_result"
    }
   ],
   "source": [
    "test_nb_energies(htf, is_old=False, is_solvated=True, check_scale=True)"
   ]
  },
  {
   "cell_type": "code",
   "execution_count": 70,
   "id": "f997fbe4",
   "metadata": {},
   "outputs": [],
   "source": [
    "# Load htf\n",
    "with open(\"/home/zhangi/choderalab/perses_benchmark/perses_protein_mutations/code/26_rxn_field/8mer_solvent_scale_region.pickle\", \"rb\") as f:\n",
    "    htf = pickle.load(f)"
   ]
  },
  {
   "cell_type": "code",
   "execution_count": 71,
   "id": "7265a2ff",
   "metadata": {
    "scrolled": false
   },
   "outputs": [
    {
     "name": "stdout",
     "output_type": "stream",
     "text": [
      "Warning: Returning CPU platform instead of requested platform <simtk.openmm.openmm.Platform; proxy of <Swig Object of type 'OpenMM::Platform *' at 0x2b2ab7bc8840> >\n",
      "conducting subsequent work with the following platform: CPU\n",
      "conducting subsequent work with the following platform: CUDA\n",
      "[('HarmonicBondForce', 10.192847753952355), ('HarmonicAngleForce', 379.8958538693835), ('PeriodicTorsionForce', 176.62589458008253), ('NonbondedForce', 4218185.726841893), ('AndersenThermostat', 0.0)]\n",
      "conducting subsequent work with the following platform: CUDA\n",
      "[('CustomBondForce', 10.238472386359515), ('CustomAngleForce', 380.01548651516316), ('CustomTorsionForce', 156.24351836067592), ('CustomNonbondedForce', -29266.457651546327), ('CustomNonbondedForce', 4217937.960762077), ('CustomBondForce', 635.907909782493), ('CustomBondForce', 248.05181503403892), ('AndersenThermostat', 0.0)]\n",
      "Success! Custom nb force and standard nb force sterics energies are equal!\n",
      "conducting subsequent work with the following platform: CUDA\n",
      "[('CustomBondForce', 10.238472386359515), ('CustomAngleForce', 380.01548651516316), ('CustomTorsionForce', 156.24351836067592), ('CustomNonbondedForce', -29266.457651546327), ('CustomNonbondedForce', 4439.3730113179445), ('CustomBondForce', 635.907909782493), ('CustomBondForce', 56.047220181697135), ('AndersenThermostat', 0.0)]\n",
      "conducting subsequent work with the following platform: CUDA\n",
      "[('CustomBondForce', 10.238472386359515), ('CustomAngleForce', 380.01548651516316), ('CustomTorsionForce', 156.24351836067592), ('CustomNonbondedForce', -29266.457651546327), ('CustomNonbondedForce', 4440.56833222147), ('CustomBondForce', 635.907909782493), ('CustomBondForce', 56.047220181697135), ('AndersenThermostat', 0.0)]\n",
      "Success! Scaling the custom nb sterics force changes the energy\n"
     ]
    },
    {
     "data": {
      "text/plain": [
       "<simtk.openmm.openmm.Context; proxy of <Swig Object of type 'OpenMM::Context *' at 0x2b2bf7fdc210> >"
      ]
     },
     "execution_count": 71,
     "metadata": {},
     "output_type": "execute_result"
    }
   ],
   "source": [
    "test_nb_energies(htf, is_old=False, is_electrostatics=False, is_solvated=True, check_scale=True)"
   ]
  },
  {
   "cell_type": "markdown",
   "id": "corrected-meeting",
   "metadata": {},
   "source": [
    "## barnase:barstar (no naked charge fix, no counterion fix)"
   ]
  },
  {
   "cell_type": "markdown",
   "id": "japanese-persian",
   "metadata": {},
   "source": [
    "### Test one alchemical region, no scale regions"
   ]
  },
  {
   "cell_type": "code",
   "execution_count": 74,
   "id": "4a1b7df8",
   "metadata": {},
   "outputs": [],
   "source": [
    "from perses.app.relative_point_mutation_setup import PointMutationExecutor\n",
    "from openeye import oechem"
   ]
  },
  {
   "cell_type": "code",
   "execution_count": 75,
   "id": "cd193956",
   "metadata": {},
   "outputs": [],
   "source": [
    "from __future__ import absolute_import\n",
    "\n",
    "from perses.utils.openeye import createOEMolFromSDF, extractPositionsFromOEMol\n",
    "from perses.annihilation.relative import HybridTopologyFactory, RepartitionedHybridTopologyFactory, RxnHybridTopologyFactory\n",
    "from perses.rjmc.topology_proposal import PointMutationEngine\n",
    "from perses.rjmc.geometry import FFAllAngleGeometryEngine\n",
    "\n",
    "import simtk.openmm as openmm\n",
    "import simtk.openmm.app as app\n",
    "import simtk.unit as unit\n",
    "import numpy as np\n",
    "from openmoltools import forcefield_generators\n",
    "import mdtraj as md\n",
    "from openmmtools.constants import kB\n",
    "from perses.tests.utils import validate_endstate_energies\n",
    "from openff.toolkit.topology import Molecule\n",
    "from openmmforcefields.generators import SystemGenerator\n",
    "\n",
    "ENERGY_THRESHOLD = 1e-2\n",
    "temperature = 300 * unit.kelvin\n",
    "kT = kB * temperature\n",
    "beta = 1.0/kT\n",
    "ring_amino_acids = ['TYR', 'PHE', 'TRP', 'PRO', 'HIS']\n",
    "\n",
    "# Set up logger\n",
    "import logging\n",
    "_logger = logging.getLogger()\n",
    "_logger.setLevel(logging.INFO)\n",
    "\n",
    "class PointMutationExecutor2(PointMutationExecutor):\n",
    "    \"\"\"\n",
    "    Simple, stripped-down class to create a protein-ligand system and allow a mutation of a protein.\n",
    "    this will allow support for the creation of _two_ relative free energy calculations:\n",
    "        1. 'wildtype' - 'point mutant' complex hybrid.\n",
    "        2. 'wildtype' - 'point mutant' protein hybrid (i.e. with ligand of interest unbound)\n",
    "    Example (create full point mutation executor and run parallel tempering on both complex and apo phases):\n",
    "        from pkg_resources import resource_filename\n",
    "        protein_path = 'data/perses_jacs_systems/thrombin/Thrombin_protein.pdb'\n",
    "        ligands_path = 'data/perses_jacs_systems/thrombin/Thrombin_ligands.sdf'\n",
    "        protein_filename = resource_filename('openmmforcefields', protein_path)\n",
    "        ligand_input = resource_filename('openmmforcefields', ligands_path)\n",
    "        pm_delivery = PointMutationExecutor(protein_filename=protein_filename,\n",
    "                                    mutation_chain_id='2',\n",
    "                                    mutation_residue_id='198',\n",
    "                                     proposed_residue='THR',\n",
    "                                     phase='complex',\n",
    "                                     conduct_endstate_validation=False,\n",
    "                                     ligand_input=ligand_input,\n",
    "                                     ligand_index=0,\n",
    "                                     forcefield_files=['amber14/protein.ff14SB.xml', 'amber14/tip3p.xml'],\n",
    "                                     barostat=openmm.MonteCarloBarostat(1.0 * unit.atmosphere, temperature, 50),\n",
    "                                     forcefield_kwargs={'removeCMMotion': False, 'ewaldErrorTolerance': 1e-4, 'nonbondedMethod': app.PME, 'constraints' : app.HBonds, 'hydrogenMass' : 4 * unit.amus},\n",
    "                                     small_molecule_forcefields='gaff-2.11')\n",
    "        complex_htf = pm_delivery.get_complex_htf()\n",
    "        apo_htf = pm_delivery.get_apo_htf()\n",
    "        # Now we can build the hybrid repex samplers\n",
    "        from perses.annihilation.lambda_protocol import LambdaProtocol\n",
    "        from openmmtools.multistate import MultiStateReporter\n",
    "        from perses.samplers.multistate import HybridRepexSampler\n",
    "        from openmmtools import mcmc\n",
    "        suffix = 'run'; selection = 'not water'; checkpoint_interval = 10; n_states = 11; n_cycles = 5000\n",
    "        for htf in [complex_htf, apo_htf]:\n",
    "            lambda_protocol = LambdaProtocol(functions='default')\n",
    "            reporter_file = 'reporter.nc'\n",
    "            reporter = MultiStateReporter(reporter_file, analysis_particle_indices = htf.hybrid_topology.select(selection), checkpoint_interval = checkpoint_interval)\n",
    "            hss = HybridRepexSampler(mcmc_moves=mcmc.LangevinSplittingDynamicsMove(timestep= 4.0 * unit.femtoseconds,\n",
    "                                                                                  collision_rate=5.0 / unit.picosecond,\n",
    "                                                                                  n_steps=250,\n",
    "                                                                                  reassign_velocities=False,\n",
    "                                                                                  n_restart_attempts=20,\n",
    "                                                                                  splitting=\"V R R R O R R R V\",\n",
    "                                                                                  constraint_tolerance=1e-06),\n",
    "                                                                                  hybrid_factory=htf, online_analysis_interval=10)\n",
    "            hss.setup(n_states=n_states, temperature=300*unit.kelvin, storage_file=reporter, lambda_protocol=lambda_protocol, endstates=False)\n",
    "            hss.extend(n_cycles)\n",
    "    \"\"\"\n",
    "    def __init__(self,\n",
    "                 protein_filename,\n",
    "                 mutation_chain_id,\n",
    "                 mutation_residue_id,\n",
    "                 proposed_residue,\n",
    "                 phase='complex',\n",
    "                 conduct_endstate_validation=True,\n",
    "                 ligand_input=None,\n",
    "                 ligand_index=0,\n",
    "                 water_model='tip3p',\n",
    "                 ionic_strength=0.15 * unit.molar,\n",
    "                 forcefield_files=['amber14/protein.ff14SB.xml', 'amber14/tip3p.xml'],\n",
    "                 barostat=openmm.MonteCarloBarostat(1.0 * unit.atmosphere, temperature, 50),\n",
    "                 forcefield_kwargs={'removeCMMotion': False, 'ewaldErrorTolerance': 0.00025, 'constraints' : app.HBonds, 'hydrogenMass' : 4 * unit.amus},\n",
    "                 periodic_forcefield_kwargs={'nonbondedMethod': app.PME},\n",
    "                 nonperiodic_forcefield_kwargs=None,\n",
    "                 small_molecule_forcefields='gaff-2.11',\n",
    "                 complex_box_dimensions=None,\n",
    "                 apo_box_dimensions=None,\n",
    "                 flatten_torsions=False,\n",
    "                 flatten_exceptions=False,\n",
    "                 repartitioned_endstate=None,\n",
    "                 rxn_field = True,\n",
    "                 **kwargs):\n",
    "        \"\"\"\n",
    "        arguments\n",
    "            protein_filename : str\n",
    "                path to protein (to mutate); .pdb\n",
    "            mutation_chain_id : str\n",
    "                name of the chain to be mutated\n",
    "            mutation_residue_id : str\n",
    "                residue id to change\n",
    "            proposed_residue : str\n",
    "                three letter code of the residue to mutate to\n",
    "            phase : str, default complex\n",
    "                if phase == vacuum, then the complex will not be solvated with water; else, it will be solvated with tip3p\n",
    "            conduct_endstate_validation : bool, default True\n",
    "                whether to conduct an endstate validation of the HybridTopologyFactory. If using the RepartitionedHybridTopologyFactory,\n",
    "                endstate validation cannot and will not be conducted.\n",
    "            ligand_file : str, default None\n",
    "                path to ligand of interest (i.e. small molecule or protein); .sdf or .pdb\n",
    "            ligand_index : int, default 0\n",
    "                which ligand to use\n",
    "            water_model : str, default 'tip3p'\n",
    "                solvent model to use for solvation\n",
    "            ionic_strength : float * unit.molar, default 0.15 * unit.molar\n",
    "                the total concentration of ions (both positive and negative) to add using Modeller.\n",
    "                This does not include ions that are added to neutralize the system.\n",
    "                Note that only monovalent ions are currently supported.\n",
    "            forcefield_files : list of str, default ['amber14/protein.ff14SB.xml', 'amber14/tip3p.xml']\n",
    "                forcefield files for proteins and solvent\n",
    "            barostat : openmm.MonteCarloBarostat, default openmm.MonteCarloBarostat(1.0 * unit.atmosphere, 300 * unit.kelvin, 50)\n",
    "                barostat to use\n",
    "            forcefield_kwargs : dict, default {'removeCMMotion': False, 'ewaldErrorTolerance': 1e-4, 'constraints' : app.HBonds, 'hydrogenMass' : 4 * unit.amus}\n",
    "                forcefield kwargs for system parametrization\n",
    "            periodic_forcefield_kwargs : dict, default {'nonbondedMethod': app.PME}\n",
    "                periodic forcefield kwargs for system parametrization\n",
    "            nonperiodic_forcefield_kwargs : dict, default None\n",
    "                non-periodic forcefield kwargs for system parametrization\n",
    "            small_molecule_forcefields : str, default 'gaff-2.11'\n",
    "                the forcefield string for small molecule parametrization\n",
    "            complex_box_dimensions : Vec3, default None\n",
    "                define box dimensions of complex phase;\n",
    "                if None, padding is 1nm\n",
    "            apo_box_dimensions :  Vec3, default None\n",
    "                define box dimensions of apo phase phase;\n",
    "                if None, padding is 1nm\n",
    "            flatten_torsions : bool, default False\n",
    "                in the htf, flatten torsions involving unique new atoms at lambda = 0 and unique old atoms are lambda = 1\n",
    "            flatten_exceptions : bool, default False\n",
    "                in the htf, flatten exceptions involving unique new atoms at lambda = 0 and unique old atoms at lambda = 1\n",
    "            repartitioned_endstate : int, default None\n",
    "                the endstate (0 or 1) at which to build the RepartitionedHybridTopologyFactory. By default, this is None,\n",
    "                meaning a vanilla HybridTopologyFactory will be built.\n",
    "        TODO : allow argument for spectator ligands besides the 'ligand_file'\n",
    "        \"\"\"\n",
    "\n",
    "        # First thing to do is load the apo protein to mutate...\n",
    "        protein_pdbfile = open(protein_filename, 'r')\n",
    "        protein_pdb = app.PDBFile(protein_pdbfile)\n",
    "        protein_pdbfile.close()\n",
    "        protein_positions, protein_topology, protein_md_topology = protein_pdb.positions, protein_pdb.topology, md.Topology.from_openmm(protein_pdb.topology)\n",
    "        protein_topology = protein_md_topology.to_openmm()\n",
    "        protein_n_atoms = protein_md_topology.n_atoms\n",
    "\n",
    "        # Load the ligand, if present\n",
    "        molecules = []\n",
    "        if ligand_input:\n",
    "            if isinstance(ligand_input, str):\n",
    "                if ligand_input.endswith('.sdf'): # small molecule\n",
    "                        ligand_mol = createOEMolFromSDF(ligand_input, index=ligand_index)\n",
    "                        molecules.append(Molecule.from_openeye(ligand_mol, allow_undefined_stereo=False))\n",
    "                        ligand_positions, ligand_topology = extractPositionsFromOEMol(ligand_mol),  forcefield_generators.generateTopologyFromOEMol(ligand_mol)\n",
    "                        ligand_md_topology = md.Topology.from_openmm(ligand_topology)\n",
    "                        ligand_n_atoms = ligand_md_topology.n_atoms\n",
    "\n",
    "                if ligand_input.endswith('pdb'): # protein\n",
    "                    ligand_pdbfile = open(ligand_input, 'r')\n",
    "                    ligand_pdb = app.PDBFile(ligand_pdbfile)\n",
    "                    ligand_pdbfile.close()\n",
    "                    ligand_positions, ligand_topology, ligand_md_topology = ligand_pdb.positions, ligand_pdb.topology, md.Topology.from_openmm(\n",
    "                        ligand_pdb.topology)\n",
    "                    ligand_n_atoms = ligand_md_topology.n_atoms\n",
    "\n",
    "            elif isinstance(ligand_input, oechem.OEMol): # oemol object\n",
    "                molecules.append(Molecule.from_openeye(ligand_input, allow_undefined_stereo=False))\n",
    "                ligand_positions, ligand_topology = extractPositionsFromOEMol(ligand_input),  forcefield_generators.generateTopologyFromOEMol(ligand_input)\n",
    "                ligand_md_topology = md.Topology.from_openmm(ligand_topology)\n",
    "                ligand_n_atoms = ligand_md_topology.n_atoms\n",
    "\n",
    "            else:\n",
    "                _logger.warning(f'ligand filetype not recognised. Please provide a path to a .pdb or .sdf file')\n",
    "                return\n",
    "\n",
    "            # Now create a complex\n",
    "            complex_md_topology = protein_md_topology.join(ligand_md_topology)\n",
    "            complex_topology = complex_md_topology.to_openmm()\n",
    "            complex_positions = unit.Quantity(np.zeros([protein_n_atoms + ligand_n_atoms, 3]), unit=unit.nanometers)\n",
    "            complex_positions[:protein_n_atoms, :] = protein_positions\n",
    "            complex_positions[protein_n_atoms:, :] = ligand_positions\n",
    "\n",
    "        # Now for a system_generator\n",
    "        self.system_generator = SystemGenerator(forcefields=forcefield_files,\n",
    "                                                barostat=barostat,\n",
    "                                                forcefield_kwargs=forcefield_kwargs,\n",
    "                                                periodic_forcefield_kwargs=periodic_forcefield_kwargs,\n",
    "                                                nonperiodic_forcefield_kwargs=nonperiodic_forcefield_kwargs,\n",
    "                                                small_molecule_forcefield=small_molecule_forcefields,\n",
    "                                                molecules=molecules,\n",
    "                                                cache=None)\n",
    "\n",
    "        # Solvate apo and complex...\n",
    "        apo_input = list(self._solvate(protein_topology, protein_positions, water_model, phase, ionic_strength, apo_box_dimensions))\n",
    "        inputs = [apo_input]\n",
    "        if ligand_input:\n",
    "            inputs.append(self._solvate(complex_topology, complex_positions, water_model, phase, ionic_strength, complex_box_dimensions))\n",
    "\n",
    "        geometry_engine = FFAllAngleGeometryEngine(metadata=None,\n",
    "                                                use_sterics=False,\n",
    "                                                n_bond_divisions=100,\n",
    "                                                n_angle_divisions=180,\n",
    "                                                n_torsion_divisions=360,\n",
    "                                                verbose=True,\n",
    "                                                storage=None,\n",
    "                                                bond_softening_constant=1.0,\n",
    "                                                angle_softening_constant=1.0,\n",
    "                                                neglect_angles = False,\n",
    "                                                use_14_nonbondeds = True)\n",
    "\n",
    "\n",
    "        # Run pipeline...\n",
    "        htfs = []\n",
    "        for (top, pos, sys) in inputs:\n",
    "            \n",
    "            sys.getForce(3).setNonbondedMethod(openmm.NonbondedForce.NoCutoff)\n",
    "            sys.getForce(3).setUseDispersionCorrection(False)\n",
    "            for i in range(sys.getNumForces()):\n",
    "                if i == 3:\n",
    "                    sys.getForce(i).setExceptionsUsePeriodicBoundaryConditions(False)\n",
    "                elif i < 3: # do not set PBCs for barostat\n",
    "                    sys.getForce(i).setUsesPeriodicBoundaryConditions(False)\n",
    "            sys.removeForce(4) # Remove barostat\n",
    "\n",
    "            \n",
    "            point_mutation_engine = PointMutationEngine(wildtype_topology=top,\n",
    "                                                                 system_generator=self.system_generator,\n",
    "                                                                 chain_id=mutation_chain_id, # Denote the chain id allowed to mutate (it's always a string variable)\n",
    "                                                                 max_point_mutants=1,\n",
    "                                                                 residues_allowed_to_mutate=[mutation_residue_id], # The residue ids allowed to mutate\n",
    "                                                                 allowed_mutations=[(mutation_residue_id, proposed_residue)], # The residue ids allowed to mutate with the three-letter code allowed to change\n",
    "                                                                 aggregate=True) # Always allow aggregation\n",
    "\n",
    "            topology_proposal = point_mutation_engine.propose(sys, top)\n",
    "\n",
    "            # Only validate energy bookkeeping if the WT and proposed residues do not involve rings\n",
    "            old_res = [res for res in top.residues() if res.id == mutation_residue_id][0]\n",
    "            validate_bool = False if old_res.name in ring_amino_acids or proposed_residue in ring_amino_acids else True\n",
    "            new_positions, logp_proposal = geometry_engine.propose(topology_proposal, pos, beta,\n",
    "                                                                   validate_energy_bookkeeping=validate_bool)\n",
    "            logp_reverse = geometry_engine.logp_reverse(topology_proposal, new_positions, pos, beta,\n",
    "                                                        validate_energy_bookkeeping=validate_bool)\n",
    "\n",
    "            if rxn_field:\n",
    "                factory = RxnHybridTopologyFactory\n",
    "            else:\n",
    "                if repartitioned_endstate is None:\n",
    "                    factory = HybridTopologyFactory\n",
    "                elif repartitioned_endstate in [0, 1]:\n",
    "                    factory = RepartitionedHybridTopologyFactory\n",
    "\n",
    "            forward_htf = factory(topology_proposal=topology_proposal,\n",
    "                                  current_positions=pos,\n",
    "                                  new_positions=new_positions,\n",
    "                                  use_dispersion_correction=False,\n",
    "                                  functions=None,\n",
    "                                  softcore_alpha=None,\n",
    "                                  bond_softening_constant=1.0,\n",
    "                                  angle_softening_constant=1.0,\n",
    "                                  soften_only_new=False,\n",
    "                                  neglected_new_angle_terms=[],\n",
    "                                  neglected_old_angle_terms=[],\n",
    "                                  softcore_LJ_v2=True,\n",
    "                                  softcore_electrostatics=True,\n",
    "                                  softcore_LJ_v2_alpha=0.85,\n",
    "                                  softcore_electrostatics_alpha=0.3,\n",
    "                                  softcore_sigma_Q=1.0,\n",
    "                                  interpolate_old_and_new_14s=flatten_exceptions,\n",
    "                                  omitted_terms=None,\n",
    "                                  endstate=repartitioned_endstate,\n",
    "                                  flatten_torsions=flatten_torsions,\n",
    "                                 generate_htf_for_testing=True)\n",
    "\n",
    "            if not topology_proposal.unique_new_atoms:\n",
    "                assert geometry_engine.forward_final_context_reduced_potential == None, f\"There are no unique new atoms but the geometry_engine's final context reduced potential is not None (i.e. {self._geometry_engine.forward_final_context_reduced_potential})\"\n",
    "                assert geometry_engine.forward_atoms_with_positions_reduced_potential == None, f\"There are no unique new atoms but the geometry_engine's forward atoms-with-positions-reduced-potential in not None (i.e. { self._geometry_engine.forward_atoms_with_positions_reduced_potential})\"\n",
    "            else:\n",
    "                added_valence_energy = geometry_engine.forward_final_context_reduced_potential - geometry_engine.forward_atoms_with_positions_reduced_potential\n",
    "\n",
    "            if not topology_proposal.unique_old_atoms:\n",
    "                assert geometry_engine.reverse_final_context_reduced_potential == None, f\"There are no unique old atoms but the geometry_engine's final context reduced potential is not None (i.e. {self._geometry_engine.reverse_final_context_reduced_potential})\"\n",
    "                assert geometry_engine.reverse_atoms_with_positions_reduced_potential == None, f\"There are no unique old atoms but the geometry_engine's atoms-with-positions-reduced-potential in not None (i.e. { self._geometry_engine.reverse_atoms_with_positions_reduced_potential})\"\n",
    "                subtracted_valence_energy = 0.0\n",
    "            else:\n",
    "                subtracted_valence_energy = geometry_engine.reverse_final_context_reduced_potential - geometry_engine.reverse_atoms_with_positions_reduced_potential\n",
    "\n",
    "\n",
    "            if conduct_endstate_validation and repartitioned_endstate is None:\n",
    "                zero_state_error, one_state_error = validate_endstate_energies(forward_htf._topology_proposal, forward_htf, added_valence_energy, subtracted_valence_energy, beta=beta, ENERGY_THRESHOLD=ENERGY_THRESHOLD)\n",
    "                if zero_state_error > ENERGY_THRESHOLD:\n",
    "                    _logger.warning(f\"Reduced potential difference of the nonalchemical and alchemical Lambda = 0 state is above the threshold ({ENERGY_THRESHOLD}): {zero_state_error}\")\n",
    "                if one_state_error > ENERGY_THRESHOLD:\n",
    "                    _logger.warning(f\"Reduced potential difference of the nonalchemical and alchemical Lambda = 1 state is above the threshold ({ENERGY_THRESHOLD}): {one_state_error}\")\n",
    "            else:\n",
    "                pass\n",
    "\n",
    "            htfs.append(forward_htf)\n",
    "\n",
    "        self.apo_htf = htfs[0]\n",
    "        self.complex_htf = htfs[1] if ligand_input else None"
   ]
  },
  {
   "cell_type": "code",
   "execution_count": 76,
   "id": "f2e344bb",
   "metadata": {
    "scrolled": true
   },
   "outputs": [
    {
     "name": "stderr",
     "output_type": "stream",
     "text": [
      "2021-07-14 17:08:03,103:(98.02s):setup:solvating at 0.05 M using tip3p\n",
      "2021-07-14 17:08:09,234:(6.13s):setup:solvating at 0.05 M using tip3p\n",
      "2021-07-14 17:08:21,548:(12.31s):proposal_generator:\tConducting polymer point mutation proposal...\n",
      "2021-07-14 17:08:24,638:(3.09s):proposal_generator:Using matching_criterion to chose best atom map\n",
      "2021-07-14 17:08:24,644:(0.01s):proposal_generator:Scaffold has symmetry of 0\n",
      "2021-07-14 17:08:24,648:(0.00s):proposal_generator:Two molecules are not similar to have a common scaffold\n",
      "2021-07-14 17:08:24,650:(0.00s):proposal_generator:Proceeding with direct mapping of molecules, but please check atom mapping and the geometry of the ligands.\n",
      "2021-07-14 17:08:24,655:(0.00s):proposal_generator:len [{7: 9}, {8: 9}, {9: 9}, {7: 10}, {8: 10}, {9: 10}, {7: 11}, {8: 11}, {9: 11}, {7: 12}, {8: 12}, {9: 12}, {7: 13}, {8: 13}, {9: 13}]\n",
      "2021-07-14 17:08:24,658:(0.00s):proposal_generator:{7: 9}\n",
      "2021-07-14 17:08:24,660:(0.00s):proposal_generator:{8: 9}\n",
      "2021-07-14 17:08:24,663:(0.00s):proposal_generator:{9: 9}\n",
      "2021-07-14 17:08:24,665:(0.00s):proposal_generator:{7: 10}\n",
      "2021-07-14 17:08:24,668:(0.00s):proposal_generator:{8: 10}\n",
      "2021-07-14 17:08:24,670:(0.00s):proposal_generator:{9: 10}\n",
      "2021-07-14 17:08:24,672:(0.00s):proposal_generator:{7: 11}\n",
      "2021-07-14 17:08:24,674:(0.00s):proposal_generator:{8: 11}\n",
      "2021-07-14 17:08:24,677:(0.00s):proposal_generator:{9: 11}\n",
      "2021-07-14 17:08:24,678:(0.00s):proposal_generator:{7: 12}\n",
      "2021-07-14 17:08:24,679:(0.00s):proposal_generator:{8: 12}\n",
      "2021-07-14 17:08:24,680:(0.00s):proposal_generator:{9: 12}\n",
      "2021-07-14 17:08:24,685:(0.01s):proposal_generator:{7: 13}\n",
      "2021-07-14 17:08:24,686:(0.00s):proposal_generator:{8: 13}\n",
      "2021-07-14 17:08:24,687:(0.00s):proposal_generator:{9: 13}\n",
      "2021-07-14 17:08:24,688:(0.00s):proposal_generator:Returning map that best satisfies matching_criterion\n",
      "2021-07-14 17:08:24,689:(0.00s):proposal_generator:Finding best map using matching_criterion name\n",
      "2021-07-14 17:08:24,691:(0.00s):proposal_generator:{7: 9}\n",
      "2021-07-14 17:08:35,176:(10.49s):geometry:propose: performing forward proposal\n",
      "2021-07-14 17:08:35,180:(0.00s):geometry:propose: unique new atoms detected; proceeding to _logp_propose...\n",
      "2021-07-14 17:08:35,183:(0.00s):geometry:Conducting forward proposal...\n",
      "2021-07-14 17:08:35,185:(0.00s):geometry:Computing proposal order with NetworkX...\n",
      "2021-07-14 17:08:35,211:(0.03s):geometry:number of atoms to be placed: 4\n",
      "2021-07-14 17:08:35,215:(0.00s):geometry:Atom index proposal order is [673, 677, 678, 676]\n",
      "2021-07-14 17:08:35,217:(0.00s):geometry:omitted_bonds: []\n",
      "2021-07-14 17:08:35,220:(0.00s):geometry:direction of proposal is forward; creating atoms_with_positions and new positions from old system/topology...\n",
      "2021-07-14 17:08:38,226:(3.01s):geometry:creating growth system...\n",
      "2021-07-14 17:08:38,936:(0.71s):geometry:\tcreating bond force...\n",
      "2021-07-14 17:08:38,939:(0.00s):geometry:\tthere are 733 bonds in reference force.\n",
      "2021-07-14 17:08:38,952:(0.01s):geometry:\tcreating angle force...\n",
      "2021-07-14 17:08:38,955:(0.00s):geometry:\tthere are 2628 angles in reference force.\n",
      "2021-07-14 17:08:38,995:(0.04s):geometry:\tcreating torsion force...\n",
      "2021-07-14 17:08:38,998:(0.00s):geometry:\tcreating extra torsions force...\n",
      "2021-07-14 17:08:39,001:(0.00s):geometry:\tthere are 4939 torsions in reference force.\n",
      "2021-07-14 17:08:39,044:(0.04s):geometry:\tcreating nonbonded force...\n",
      "2021-07-14 17:08:39,047:(0.00s):geometry:\t\tgrabbing reference nonbonded method, cutoff, switching function, switching distance...\n",
      "2021-07-14 17:08:39,050:(0.00s):geometry:\t\tcreating nonbonded exception force (i.e. custom bond for 1,4s)...\n",
      "2021-07-14 17:08:39,052:(0.00s):geometry:\t\tlooping through exceptions calculating growth indices, and adding appropriate interactions to custom bond force.\n",
      "2021-07-14 17:08:39,055:(0.00s):geometry:\t\tthere are 21290 in the reference Nonbonded force\n",
      "2021-07-14 17:08:39,793:(0.74s):geometry:\t\t\t\t\tchiral atom <Atom 670 (CA) of chain 0 residue 42 (ALA)> with neighbors [<Atom 671 (C) of chain 0 residue 42 (ALA)>, <Atom 673 (CB) of chain 0 residue 42 (ALA)>, <Atom 675 (HA) of chain 0 residue 42 (ALA)>, <Atom 669 (N) of chain 0 residue 42 (ALA)>] is surrounded by 3 core neighbors.  omitting chirality bias torsion\n",
      "2021-07-14 17:08:39,797:(0.00s):geometry:Neglected angle terms : []\n",
      "2021-07-14 17:08:39,799:(0.00s):geometry:omitted_growth_terms: {'bonds': [], 'angles': [], 'torsions': [], '1,4s': []}\n",
      "2021-07-14 17:08:39,802:(0.00s):geometry:extra torsions: {0: (674, 669, 670, 673, [1, Quantity(value=0.9799661941737812, unit=radian), Quantity(value=1200.0, unit=kilocalorie/mole), 1]), 1: (669, 670, 673, 676, [1, Quantity(value=2.105358864604291, unit=radian), Quantity(value=1200.0, unit=kilocalorie/mole), 4]), 2: (669, 670, 673, 677, [1, Quantity(value=-2.0823006129211796, unit=radian), Quantity(value=1200.0, unit=kilocalorie/mole), 2]), 3: (669, 670, 673, 678, [1, Quantity(value=0.018582237407944735, unit=radian), Quantity(value=1200.0, unit=kilocalorie/mole), 3]), 4: (671, 670, 673, 676, [1, Quantity(value=-0.036945135932107576, unit=radian), Quantity(value=1200.0, unit=kilocalorie/mole), 4]), 5: (671, 670, 673, 677, [1, Quantity(value=2.0585806937220097, unit=radian), Quantity(value=1200.0, unit=kilocalorie/mole), 2]), 6: (671, 670, 673, 678, [1, Quantity(value=-2.1237217631284597, unit=radian), Quantity(value=1200.0, unit=kilocalorie/mole), 3]), 7: (675, 670, 673, 676, [1, Quantity(value=-2.119603470065817, unit=radian), Quantity(value=1200.0, unit=kilocalorie/mole), 4]), 8: (675, 670, 673, 677, [1, Quantity(value=-0.024077640411697132, unit=radian), Quantity(value=1200.0, unit=kilocalorie/mole), 2]), 9: (675, 670, 673, 678, [1, Quantity(value=2.0768052099174152, unit=radian), Quantity(value=1200.0, unit=kilocalorie/mole), 3])}\n",
      "2021-07-14 17:08:39,804:(0.00s):geometry:neglected angle terms include []\n",
      "2021-07-14 17:08:39,807:(0.00s):geometry:log probability choice of torsions and atom order: -5.78074351579233\n",
      "2021-07-14 17:08:39,809:(0.00s):geometry:creating platform, integrators, and contexts; setting growth parameter\n"
     ]
    },
    {
     "name": "stdout",
     "output_type": "stream",
     "text": [
      "conducting subsequent work with the following platform: CUDA\n"
     ]
    },
    {
     "name": "stderr",
     "output_type": "stream",
     "text": [
      "2021-07-14 17:08:41,209:(1.40s):geometry:setting atoms_with_positions context new positions\n"
     ]
    },
    {
     "name": "stdout",
     "output_type": "stream",
     "text": [
      "conducting subsequent work with the following platform: CUDA\n"
     ]
    },
    {
     "name": "stderr",
     "output_type": "stream",
     "text": [
      "2021-07-14 17:08:42,293:(1.08s):geometry:There are 4 new atoms\n",
      "2021-07-14 17:08:42,301:(0.01s):geometry:\treduced angle potential = 0.9373414238916543.\n",
      "2021-07-14 17:08:42,771:(0.47s):geometry:\treduced angle potential = 0.05289150020730546.\n",
      "2021-07-14 17:08:43,271:(0.50s):geometry:\treduced angle potential = 0.03606882185015109.\n",
      "2021-07-14 17:08:43,739:(0.47s):geometry:\treduced angle potential = 0.08302607732716484.\n",
      "2021-07-14 17:08:44,663:(0.92s):geometry:\tbeginning construction of no_nonbonded final system...\n",
      "2021-07-14 17:08:44,668:(0.00s):geometry:\tinitial no-nonbonded final system forces ['HarmonicBondForce', 'HarmonicAngleForce', 'PeriodicTorsionForce', 'NonbondedForce', 'MonteCarloBarostat']\n",
      "2021-07-14 17:08:46,412:(1.74s):geometry:\tfinal no-nonbonded final system forces dict_keys(['HarmonicBondForce', 'HarmonicAngleForce', 'PeriodicTorsionForce', 'NonbondedForce'])\n",
      "2021-07-14 17:08:46,415:(0.00s):geometry:\tthere are 733 bond forces in the no-nonbonded final system\n",
      "2021-07-14 17:08:46,418:(0.00s):geometry:\tthere are 2628 angle forces in the no-nonbonded final system\n",
      "2021-07-14 17:08:46,420:(0.00s):geometry:\tthere are 4939 torsion forces in the no-nonbonded final system\n",
      "2021-07-14 17:08:46,423:(0.00s):geometry:forward final system defined with 0 neglected angles.\n"
     ]
    },
    {
     "name": "stdout",
     "output_type": "stream",
     "text": [
      "conducting subsequent work with the following platform: CUDA\n",
      "conducting subsequent work with the following platform: CUDA\n"
     ]
    },
    {
     "name": "stderr",
     "output_type": "stream",
     "text": [
      "2021-07-14 17:08:49,329:(2.91s):geometry:total reduced potential before atom placement: 2279.236671135735\n"
     ]
    },
    {
     "name": "stdout",
     "output_type": "stream",
     "text": [
      "conducting subsequent work with the following platform: CUDA\n",
      "conducting subsequent work with the following platform: CUDA\n",
      "conducting subsequent work with the following platform: CUDA\n"
     ]
    },
    {
     "name": "stderr",
     "output_type": "stream",
     "text": [
      "2021-07-14 17:08:51,850:(2.52s):geometry:total reduced energy added from growth system: 539.4137615336557\n",
      "2021-07-14 17:08:51,853:(0.00s):geometry:final reduced energy 2818.6504331027863\n",
      "2021-07-14 17:08:51,856:(0.00s):geometry:sum of energies: 2818.6504326693907\n",
      "2021-07-14 17:08:51,858:(0.00s):geometry:magnitude of difference in the energies: 4.333957122071297e-07\n",
      "2021-07-14 17:08:51,861:(0.00s):geometry:Final logp_proposal: 34.2814259158406\n"
     ]
    },
    {
     "name": "stdout",
     "output_type": "stream",
     "text": [
      "added energy components: [('CustomBondForce', 0.14353591466357207), ('CustomAngleForce', 188.97230160149837), ('CustomTorsionForce', 11.093328838778863), ('CustomBondForce', 339.2045951787149)]\n"
     ]
    },
    {
     "name": "stderr",
     "output_type": "stream",
     "text": [
      "2021-07-14 17:08:52,088:(0.23s):geometry:logp_reverse: performing reverse proposal\n",
      "2021-07-14 17:08:52,092:(0.00s):geometry:logp_reverse: unique new atoms detected; proceeding to _logp_propose...\n",
      "2021-07-14 17:08:52,094:(0.00s):geometry:Conducting forward proposal...\n",
      "2021-07-14 17:08:52,097:(0.00s):geometry:Computing proposal order with NetworkX...\n",
      "2021-07-14 17:08:52,136:(0.04s):geometry:number of atoms to be placed: 8\n",
      "2021-07-14 17:08:52,140:(0.00s):geometry:Atom index proposal order is [673, 674, 675, 679, 681, 680, 678, 682]\n",
      "2021-07-14 17:08:52,142:(0.00s):geometry:omitted_bonds: []\n",
      "2021-07-14 17:08:52,144:(0.00s):geometry:direction of proposal is reverse; creating atoms_with_positions from old system/topology\n",
      "2021-07-14 17:08:54,831:(2.69s):geometry:creating growth system...\n",
      "2021-07-14 17:08:55,543:(0.71s):geometry:\tcreating bond force...\n",
      "2021-07-14 17:08:55,546:(0.00s):geometry:\tthere are 735 bonds in reference force.\n",
      "2021-07-14 17:08:55,561:(0.01s):geometry:\tcreating angle force...\n",
      "2021-07-14 17:08:55,564:(0.00s):geometry:\tthere are 2635 angles in reference force.\n",
      "2021-07-14 17:08:55,605:(0.04s):geometry:\tcreating torsion force...\n",
      "2021-07-14 17:08:55,608:(0.00s):geometry:\tcreating extra torsions force...\n",
      "2021-07-14 17:08:55,611:(0.00s):geometry:\tthere are 4969 torsions in reference force.\n",
      "2021-07-14 17:08:55,658:(0.05s):geometry:\tcreating nonbonded force...\n",
      "2021-07-14 17:08:55,661:(0.00s):geometry:\t\tgrabbing reference nonbonded method, cutoff, switching function, switching distance...\n",
      "2021-07-14 17:08:55,663:(0.00s):geometry:\t\tcreating nonbonded exception force (i.e. custom bond for 1,4s)...\n",
      "2021-07-14 17:08:55,666:(0.00s):geometry:\t\tlooping through exceptions calculating growth indices, and adding appropriate interactions to custom bond force.\n",
      "2021-07-14 17:08:55,668:(0.00s):geometry:\t\tthere are 21313 in the reference Nonbonded force\n",
      "2021-07-14 17:08:56,420:(0.75s):geometry:\t\t\t\t\tchiral atom <Atom 670 (CA) of chain 0 residue 42 (THR)> with neighbors [<Atom 671 (C) of chain 0 residue 42 (THR)>, <Atom 673 (CB) of chain 0 residue 42 (THR)>, <Atom 677 (HA) of chain 0 residue 42 (THR)>, <Atom 669 (N) of chain 0 residue 42 (THR)>] is surrounded by 3 core neighbors.  omitting chirality bias torsion\n",
      "2021-07-14 17:08:56,424:(0.00s):geometry:Neglected angle terms : []\n",
      "2021-07-14 17:08:56,426:(0.00s):geometry:omitted_growth_terms: {'bonds': [], 'angles': [], 'torsions': [], '1,4s': []}\n",
      "2021-07-14 17:08:56,428:(0.00s):geometry:extra torsions: {0: (676, 669, 670, 673, [1, Quantity(value=0.9900002084555819, unit=radian), Quantity(value=1200.0, unit=kilocalorie/mole), 1]), 1: (679, 674, 673, 670, [1, Quantity(value=-0.07858019216845058, unit=radian), Quantity(value=1200.0, unit=kilocalorie/mole), 4]), 2: (679, 674, 673, 675, [1, Quantity(value=2.118586571250296, unit=radian), Quantity(value=1200.0, unit=kilocalorie/mole), 4]), 3: (679, 674, 673, 678, [1, Quantity(value=-2.149781203448759, unit=radian), Quantity(value=1200.0, unit=kilocalorie/mole), 7]), 4: (670, 673, 675, 682, [1, Quantity(value=-2.1249532223845904, unit=radian), Quantity(value=1200.0, unit=kilocalorie/mole), 8]), 5: (670, 673, 675, 681, [1, Quantity(value=2.0543043017157916, unit=radian), Quantity(value=1200.0, unit=kilocalorie/mole), 5]), 6: (670, 673, 675, 680, [1, Quantity(value=-0.02223392579985184, unit=radian), Quantity(value=1200.0, unit=kilocalorie/mole), 6]), 7: (674, 673, 675, 682, [1, Quantity(value=2.0255587336734213, unit=radian), Quantity(value=1200.0, unit=kilocalorie/mole), 8]), 8: (674, 673, 675, 681, [1, Quantity(value=-0.07836904940578293, unit=radian), Quantity(value=1200.0, unit=kilocalorie/mole), 5]), 9: (674, 673, 675, 680, [1, Quantity(value=-2.154907276921426, unit=radian), Quantity(value=1200.0, unit=kilocalorie/mole), 6]), 10: (678, 673, 675, 682, [1, Quantity(value=0.007583009583349565, unit=radian), Quantity(value=1200.0, unit=kilocalorie/mole), 8]), 11: (678, 673, 675, 681, [1, Quantity(value=-2.096344773495849, unit=radian), Quantity(value=1200.0, unit=kilocalorie/mole), 7]), 12: (678, 673, 675, 680, [1, Quantity(value=2.1103023061680943, unit=radian), Quantity(value=1200.0, unit=kilocalorie/mole), 7]), 13: (674, 673, 670, 675, [1, Quantity(value=-1.0655064807976995, unit=radian), Quantity(value=1200.0, unit=kilocalorie/mole), 3])}\n",
      "2021-07-14 17:08:56,431:(0.00s):geometry:neglected angle terms include []\n",
      "2021-07-14 17:08:56,433:(0.00s):geometry:log probability choice of torsions and atom order: -13.659277711932692\n",
      "2021-07-14 17:08:56,436:(0.00s):geometry:creating platform, integrators, and contexts; setting growth parameter\n"
     ]
    },
    {
     "name": "stdout",
     "output_type": "stream",
     "text": [
      "conducting subsequent work with the following platform: CUDA\n"
     ]
    },
    {
     "name": "stderr",
     "output_type": "stream",
     "text": [
      "2021-07-14 17:08:57,700:(1.26s):geometry:setting atoms_with_positions context old positions\n"
     ]
    },
    {
     "name": "stdout",
     "output_type": "stream",
     "text": [
      "conducting subsequent work with the following platform: CUDA\n"
     ]
    },
    {
     "name": "stderr",
     "output_type": "stream",
     "text": [
      "2021-07-14 17:08:58,772:(1.07s):geometry:There are 8 new atoms\n",
      "2021-07-14 17:08:58,779:(0.01s):geometry:\treduced angle potential = 0.005472066865685023.\n",
      "2021-07-14 17:08:59,234:(0.46s):geometry:\treduced angle potential = 0.1536280916466212.\n",
      "2021-07-14 17:08:59,678:(0.44s):geometry:\treduced angle potential = 0.2257125237447829.\n",
      "2021-07-14 17:09:00,116:(0.44s):geometry:\treduced angle potential = 0.0066955214510641915.\n",
      "2021-07-14 17:09:00,557:(0.44s):geometry:\treduced angle potential = 0.05657264681042365.\n",
      "2021-07-14 17:09:01,029:(0.47s):geometry:\treduced angle potential = 0.023352265895513123.\n",
      "2021-07-14 17:09:01,508:(0.48s):geometry:\treduced angle potential = 0.20638629209120055.\n",
      "2021-07-14 17:09:01,926:(0.42s):geometry:\treduced angle potential = 0.25876654048332753.\n",
      "2021-07-14 17:09:02,829:(0.90s):geometry:\tbeginning construction of no_nonbonded final system...\n",
      "2021-07-14 17:09:02,833:(0.00s):geometry:\tinitial no-nonbonded final system forces ['HarmonicBondForce', 'HarmonicAngleForce', 'PeriodicTorsionForce', 'NonbondedForce']\n",
      "2021-07-14 17:09:04,581:(1.75s):geometry:\tfinal no-nonbonded final system forces dict_keys(['HarmonicBondForce', 'HarmonicAngleForce', 'PeriodicTorsionForce', 'NonbondedForce'])\n",
      "2021-07-14 17:09:04,584:(0.00s):geometry:\tthere are 735 bond forces in the no-nonbonded final system\n",
      "2021-07-14 17:09:04,587:(0.00s):geometry:\tthere are 2635 angle forces in the no-nonbonded final system\n",
      "2021-07-14 17:09:04,589:(0.00s):geometry:\tthere are 4969 torsion forces in the no-nonbonded final system\n",
      "2021-07-14 17:09:04,591:(0.00s):geometry:reverse final system defined with 0 neglected angles.\n"
     ]
    },
    {
     "name": "stdout",
     "output_type": "stream",
     "text": [
      "conducting subsequent work with the following platform: CUDA\n",
      "conducting subsequent work with the following platform: CUDA\n"
     ]
    },
    {
     "name": "stderr",
     "output_type": "stream",
     "text": [
      "2021-07-14 17:09:09,265:(4.67s):geometry:total reduced potential before atom placement: 2279.2366360388532\n"
     ]
    },
    {
     "name": "stdout",
     "output_type": "stream",
     "text": [
      "conducting subsequent work with the following platform: CUDA\n",
      "conducting subsequent work with the following platform: CUDA\n",
      "conducting subsequent work with the following platform: CUDA\n"
     ]
    },
    {
     "name": "stderr",
     "output_type": "stream",
     "text": [
      "2021-07-14 17:09:11,752:(2.49s):geometry:total reduced energy added from growth system: -62.3900963283472\n",
      "2021-07-14 17:09:11,756:(0.00s):geometry:final reduced energy 2216.846539716323\n",
      "2021-07-14 17:09:11,759:(0.00s):geometry:sum of energies: 2216.846539710506\n",
      "2021-07-14 17:09:11,762:(0.00s):geometry:magnitude of difference in the energies: 5.817099690830219e-09\n",
      "2021-07-14 17:09:11,764:(0.00s):geometry:Final logp_proposal: -7504.266518763814\n"
     ]
    },
    {
     "name": "stdout",
     "output_type": "stream",
     "text": [
      "added energy components: [('CustomBondForce', 0.4083956553523612), ('CustomAngleForce', 1.622079514297996), ('CustomTorsionForce', 17.503137529087592), ('CustomBondForce', -81.92370902708515)]\n"
     ]
    },
    {
     "name": "stderr",
     "output_type": "stream",
     "text": [
      "2021-07-14 17:09:11,996:(0.23s):relative:*** Generating RxnHybridTopologyFactory ***\n",
      "2021-07-14 17:09:11,999:(0.00s):relative:Beginning nonbonded method, total particle, barostat, and exceptions retrieval...\n",
      "2021-07-14 17:09:12,996:(1.00s):relative:Old system forces: dict_keys(['HarmonicBondForce', 'HarmonicAngleForce', 'PeriodicTorsionForce', 'NonbondedForce'])\n",
      "2021-07-14 17:09:12,999:(0.00s):relative:New system forces: dict_keys(['HarmonicBondForce', 'HarmonicAngleForce', 'PeriodicTorsionForce', 'NonbondedForce', 'MonteCarloBarostat'])\n",
      "2021-07-14 17:09:13,002:(0.00s):relative:No unknown forces.\n",
      "2021-07-14 17:09:13,004:(0.00s):relative:Nonbonded method to be used (i.e. from old system): 0\n",
      "2021-07-14 17:09:13,007:(0.00s):relative:Adding and mapping old atoms to hybrid system...\n",
      "2021-07-14 17:09:13,247:(0.24s):relative:Adding and mapping new atoms to hybrid system...\n",
      "2021-07-14 17:09:13,250:(0.00s):relative:scale_templates: [['nonscale_lambda'], ['nonscale_region']]\n",
      "2021-07-14 17:09:13,253:(0.00s):relative:particle (nonbonded) scale_templates: [['nonscale_lambda'], ['nonscale_region1'], ['nonscale_region2']]\n",
      "2021-07-14 17:09:13,255:(0.00s):relative:No MonteCarloBarostat added.\n",
      "2021-07-14 17:09:13,258:(0.00s):relative:getDefaultPeriodicBoxVectors added to hybrid: [Quantity(value=Vec3(x=5.423900000000001, y=0.0, z=0.0), unit=nanometer), Quantity(value=Vec3(x=0.0, y=5.423900000000001, z=0.0), unit=nanometer), Quantity(value=Vec3(x=0.0, y=0.0, z=5.423900000000001), unit=nanometer)]\n",
      "2021-07-14 17:09:13,273:(0.01s):relative:Determined atom classes.\n",
      "2021-07-14 17:09:13,276:(0.00s):relative:Generating old system exceptions dict...\n",
      "2021-07-14 17:09:14,072:(0.80s):relative:Generating new system exceptions dict...\n",
      "2021-07-14 17:09:14,364:(0.29s):relative:Handling constraints...\n",
      "2021-07-14 17:09:14,894:(0.53s):relative:Handling virtual sites...\n",
      "2021-07-14 17:09:14,914:(0.02s):relative:\t_handle_virtual_sites: numVirtualSites: 0\n",
      "2021-07-14 17:09:16,625:(1.71s):relative:hybrid_index_pair (700, 703, 702, 712) was not found in the new_term_collector, but (703, 700, 702, 712) has the same atoms and terms, so (703, 700, 702, 712) will be removed from the new term collector\n",
      "2021-07-14 17:09:16,632:(0.01s):relative:hybrid_index_pair (701, 702, 703, 713) was not found in the new_term_collector, but (702, 701, 703, 713) has the same atoms and terms, so (702, 701, 703, 713) will be removed from the new term collector\n",
      "2021-07-14 17:09:16,640:(0.01s):relative:hybrid_index_pair (750, 754, 752, 762) was not found in the new_term_collector, but (754, 750, 752, 762) has the same atoms and terms, so (754, 750, 752, 762) will be removed from the new term collector\n",
      "2021-07-14 17:09:16,649:(0.01s):relative:hybrid_index_pair (862, 859, 861, 871) was not found in the new_term_collector, but (859, 862, 861, 871) has the same atoms and terms, so (859, 862, 861, 871) will be removed from the new term collector\n",
      "2021-07-14 17:09:16,655:(0.01s):relative:hybrid_index_pair (860, 861, 862, 872) was not found in the new_term_collector, but (861, 860, 862, 872) has the same atoms and terms, so (861, 860, 862, 872) will be removed from the new term collector\n",
      "2021-07-14 17:09:16,663:(0.01s):relative:hybrid_index_pair (903, 913, 905, 912) was not found in the new_term_collector, but (903, 912, 905, 913) has the same atoms and terms, so (903, 912, 905, 913) will be removed from the new term collector\n",
      "2021-07-14 17:09:16,672:(0.01s):relative:hybrid_index_pair (924, 920, 922, 931) was not found in the new_term_collector, but (920, 924, 922, 931) has the same atoms and terms, so (920, 924, 922, 931) will be removed from the new term collector\n",
      "2021-07-14 17:09:16,679:(0.01s):relative:hybrid_index_pair (924, 921, 923, 932) was not found in the new_term_collector, but (921, 924, 923, 932) has the same atoms and terms, so (921, 924, 923, 932) will be removed from the new term collector\n",
      "2021-07-14 17:09:16,686:(0.01s):relative:hybrid_index_pair (923, 922, 924, 933) was not found in the new_term_collector, but (922, 923, 924, 933) has the same atoms and terms, so (922, 923, 924, 933) will be removed from the new term collector\n",
      "2021-07-14 17:09:16,694:(0.01s):relative:hybrid_index_pair (955, 964, 957, 965) was not found in the new_term_collector, but (955, 965, 957, 964) has the same atoms and terms, so (955, 965, 957, 964) will be removed from the new term collector\n",
      "2021-07-14 17:09:16,702:(0.01s):relative:hybrid_index_pair (1069, 1075, 1071, 1074) was not found in the new_term_collector, but (1069, 1074, 1071, 1075) has the same atoms and terms, so (1069, 1074, 1071, 1075) will be removed from the new term collector\n",
      "2021-07-14 17:09:16,712:(0.01s):relative:hybrid_index_pair (1196, 1199, 1198, 1207) was not found in the new_term_collector, but (1199, 1196, 1198, 1207) has the same atoms and terms, so (1199, 1196, 1198, 1207) will be removed from the new term collector\n",
      "2021-07-14 17:09:16,719:(0.01s):relative:hybrid_index_pair (1197, 1198, 1199, 1208) was not found in the new_term_collector, but (1198, 1197, 1199, 1208) has the same atoms and terms, so (1198, 1197, 1199, 1208) will be removed from the new term collector\n",
      "2021-07-14 17:09:41,560:(24.84s):proposal_generator:\tConducting polymer point mutation proposal...\n",
      "2021-07-14 17:09:53,531:(11.97s):proposal_generator:Using matching_criterion to chose best atom map\n",
      "2021-07-14 17:09:53,538:(0.01s):proposal_generator:Scaffold has symmetry of 0\n",
      "2021-07-14 17:09:53,541:(0.00s):proposal_generator:Two molecules are not similar to have a common scaffold\n",
      "2021-07-14 17:09:53,544:(0.00s):proposal_generator:Proceeding with direct mapping of molecules, but please check atom mapping and the geometry of the ligands.\n",
      "2021-07-14 17:09:53,548:(0.00s):proposal_generator:len [{7: 9}, {8: 9}, {9: 9}, {7: 10}, {8: 10}, {9: 10}, {7: 11}, {8: 11}, {9: 11}, {7: 12}, {8: 12}, {9: 12}, {7: 13}, {8: 13}, {9: 13}]\n",
      "2021-07-14 17:09:53,551:(0.00s):proposal_generator:{7: 9}\n",
      "2021-07-14 17:09:53,553:(0.00s):proposal_generator:{8: 9}\n",
      "2021-07-14 17:09:53,556:(0.00s):proposal_generator:{9: 9}\n",
      "2021-07-14 17:09:53,558:(0.00s):proposal_generator:{7: 10}\n",
      "2021-07-14 17:09:53,560:(0.00s):proposal_generator:{8: 10}\n",
      "2021-07-14 17:09:53,563:(0.00s):proposal_generator:{9: 10}\n",
      "2021-07-14 17:09:53,565:(0.00s):proposal_generator:{7: 11}\n",
      "2021-07-14 17:09:53,567:(0.00s):proposal_generator:{8: 11}\n",
      "2021-07-14 17:09:53,570:(0.00s):proposal_generator:{9: 11}\n",
      "2021-07-14 17:09:53,571:(0.00s):proposal_generator:{7: 12}\n",
      "2021-07-14 17:09:53,573:(0.00s):proposal_generator:{8: 12}\n",
      "2021-07-14 17:09:53,574:(0.00s):proposal_generator:{9: 12}\n",
      "2021-07-14 17:09:53,575:(0.00s):proposal_generator:{7: 13}\n",
      "2021-07-14 17:09:53,576:(0.00s):proposal_generator:{8: 13}\n",
      "2021-07-14 17:09:53,577:(0.00s):proposal_generator:{9: 13}\n",
      "2021-07-14 17:09:53,578:(0.00s):proposal_generator:Returning map that best satisfies matching_criterion\n",
      "2021-07-14 17:09:53,578:(0.00s):proposal_generator:Finding best map using matching_criterion name\n",
      "2021-07-14 17:09:53,583:(0.00s):proposal_generator:{7: 9}\n",
      "2021-07-14 17:10:24,420:(30.84s):geometry:propose: performing forward proposal\n",
      "2021-07-14 17:10:24,424:(0.00s):geometry:propose: unique new atoms detected; proceeding to _logp_propose...\n",
      "2021-07-14 17:10:24,426:(0.00s):geometry:Conducting forward proposal...\n",
      "2021-07-14 17:10:24,429:(0.00s):geometry:Computing proposal order with NetworkX...\n",
      "2021-07-14 17:10:24,479:(0.05s):geometry:number of atoms to be placed: 4\n",
      "2021-07-14 17:10:24,482:(0.00s):geometry:Atom index proposal order is [673, 678, 676, 677]\n",
      "2021-07-14 17:10:24,484:(0.00s):geometry:omitted_bonds: []\n",
      "2021-07-14 17:10:24,486:(0.00s):geometry:direction of proposal is forward; creating atoms_with_positions and new positions from old system/topology...\n",
      "2021-07-14 17:10:30,706:(6.22s):geometry:creating growth system...\n",
      "2021-07-14 17:10:32,124:(1.42s):geometry:\tcreating bond force...\n",
      "2021-07-14 17:10:32,127:(0.00s):geometry:\tthere are 1622 bonds in reference force.\n",
      "2021-07-14 17:10:32,154:(0.03s):geometry:\tcreating angle force...\n",
      "2021-07-14 17:10:32,157:(0.00s):geometry:\tthere are 5730 angles in reference force.\n",
      "2021-07-14 17:10:32,243:(0.09s):geometry:\tcreating torsion force...\n",
      "2021-07-14 17:10:32,246:(0.00s):geometry:\tcreating extra torsions force...\n"
     ]
    },
    {
     "name": "stderr",
     "output_type": "stream",
     "text": [
      "2021-07-14 17:10:32,248:(0.00s):geometry:\tthere are 10792 torsions in reference force.\n",
      "2021-07-14 17:10:32,336:(0.09s):geometry:\tcreating nonbonded force...\n",
      "2021-07-14 17:10:32,339:(0.00s):geometry:\t\tgrabbing reference nonbonded method, cutoff, switching function, switching distance...\n",
      "2021-07-14 17:10:32,342:(0.00s):geometry:\t\tcreating nonbonded exception force (i.e. custom bond for 1,4s)...\n",
      "2021-07-14 17:10:32,344:(0.00s):geometry:\t\tlooping through exceptions calculating growth indices, and adding appropriate interactions to custom bond force.\n",
      "2021-07-14 17:10:32,346:(0.00s):geometry:\t\tthere are 43478 in the reference Nonbonded force\n",
      "2021-07-14 17:10:33,866:(1.52s):geometry:\t\t\t\t\tchiral atom <Atom 670 (CA) of chain 0 residue 42 (ALA)> with neighbors [<Atom 671 (C) of chain 0 residue 42 (ALA)>, <Atom 673 (CB) of chain 0 residue 42 (ALA)>, <Atom 675 (HA) of chain 0 residue 42 (ALA)>, <Atom 669 (N) of chain 0 residue 42 (ALA)>] is surrounded by 3 core neighbors.  omitting chirality bias torsion\n",
      "2021-07-14 17:10:33,870:(0.00s):geometry:Neglected angle terms : []\n",
      "2021-07-14 17:10:33,872:(0.00s):geometry:omitted_growth_terms: {'bonds': [], 'angles': [], 'torsions': [], '1,4s': []}\n",
      "2021-07-14 17:10:33,875:(0.00s):geometry:extra torsions: {0: (674, 669, 670, 673, [1, Quantity(value=0.9799661941737812, unit=radian), Quantity(value=1200.0, unit=kilocalorie/mole), 1]), 1: (669, 670, 673, 676, [1, Quantity(value=2.105358864604291, unit=radian), Quantity(value=1200.0, unit=kilocalorie/mole), 3]), 2: (669, 670, 673, 677, [1, Quantity(value=-2.0823006129211796, unit=radian), Quantity(value=1200.0, unit=kilocalorie/mole), 4]), 3: (669, 670, 673, 678, [1, Quantity(value=0.018582237407944735, unit=radian), Quantity(value=1200.0, unit=kilocalorie/mole), 2]), 4: (671, 670, 673, 676, [1, Quantity(value=-0.036945135932107576, unit=radian), Quantity(value=1200.0, unit=kilocalorie/mole), 3]), 5: (671, 670, 673, 677, [1, Quantity(value=2.0585806937220097, unit=radian), Quantity(value=1200.0, unit=kilocalorie/mole), 4]), 6: (671, 670, 673, 678, [1, Quantity(value=-2.1237217631284597, unit=radian), Quantity(value=1200.0, unit=kilocalorie/mole), 2]), 7: (675, 670, 673, 676, [1, Quantity(value=-2.119603470065817, unit=radian), Quantity(value=1200.0, unit=kilocalorie/mole), 3]), 8: (675, 670, 673, 677, [1, Quantity(value=-0.024077640411697132, unit=radian), Quantity(value=1200.0, unit=kilocalorie/mole), 4]), 9: (675, 670, 673, 678, [1, Quantity(value=2.0768052099174152, unit=radian), Quantity(value=1200.0, unit=kilocalorie/mole), 2])}\n",
      "2021-07-14 17:10:33,878:(0.00s):geometry:neglected angle terms include []\n",
      "2021-07-14 17:10:33,881:(0.00s):geometry:log probability choice of torsions and atom order: -5.78074351579233\n",
      "2021-07-14 17:10:33,883:(0.00s):geometry:creating platform, integrators, and contexts; setting growth parameter\n"
     ]
    },
    {
     "name": "stdout",
     "output_type": "stream",
     "text": [
      "conducting subsequent work with the following platform: CUDA\n"
     ]
    },
    {
     "name": "stderr",
     "output_type": "stream",
     "text": [
      "2021-07-14 17:10:35,263:(1.38s):geometry:setting atoms_with_positions context new positions\n"
     ]
    },
    {
     "name": "stdout",
     "output_type": "stream",
     "text": [
      "conducting subsequent work with the following platform: CUDA\n"
     ]
    },
    {
     "name": "stderr",
     "output_type": "stream",
     "text": [
      "2021-07-14 17:10:36,746:(1.48s):geometry:There are 4 new atoms\n",
      "2021-07-14 17:10:36,754:(0.01s):geometry:\treduced angle potential = 0.22279221315259795.\n",
      "2021-07-14 17:10:37,442:(0.69s):geometry:\treduced angle potential = 0.02243497373935852.\n",
      "2021-07-14 17:10:38,117:(0.67s):geometry:\treduced angle potential = 1.7853476299450768.\n",
      "2021-07-14 17:10:38,802:(0.68s):geometry:\treduced angle potential = 0.004787538802209894.\n",
      "2021-07-14 17:10:40,388:(1.59s):geometry:\tbeginning construction of no_nonbonded final system...\n",
      "2021-07-14 17:10:40,392:(0.00s):geometry:\tinitial no-nonbonded final system forces ['HarmonicBondForce', 'HarmonicAngleForce', 'PeriodicTorsionForce', 'NonbondedForce', 'MonteCarloBarostat']\n",
      "2021-07-14 17:10:43,895:(3.50s):geometry:\tfinal no-nonbonded final system forces dict_keys(['HarmonicBondForce', 'HarmonicAngleForce', 'PeriodicTorsionForce', 'NonbondedForce'])\n",
      "2021-07-14 17:10:43,898:(0.00s):geometry:\tthere are 1622 bond forces in the no-nonbonded final system\n",
      "2021-07-14 17:10:43,901:(0.00s):geometry:\tthere are 5730 angle forces in the no-nonbonded final system\n",
      "2021-07-14 17:10:43,903:(0.00s):geometry:\tthere are 10792 torsion forces in the no-nonbonded final system\n",
      "2021-07-14 17:10:43,905:(0.00s):geometry:forward final system defined with 0 neglected angles.\n"
     ]
    },
    {
     "name": "stdout",
     "output_type": "stream",
     "text": [
      "conducting subsequent work with the following platform: CUDA\n",
      "conducting subsequent work with the following platform: CUDA\n"
     ]
    },
    {
     "name": "stderr",
     "output_type": "stream",
     "text": [
      "2021-07-14 17:10:47,774:(3.87s):geometry:total reduced potential before atom placement: 4792.467751597958\n"
     ]
    },
    {
     "name": "stdout",
     "output_type": "stream",
     "text": [
      "conducting subsequent work with the following platform: CUDA\n",
      "conducting subsequent work with the following platform: CUDA\n",
      "conducting subsequent work with the following platform: CUDA\n"
     ]
    },
    {
     "name": "stderr",
     "output_type": "stream",
     "text": [
      "2021-07-14 17:10:50,625:(2.85s):geometry:total reduced energy added from growth system: 661.2871743250262\n",
      "2021-07-14 17:10:50,629:(0.00s):geometry:final reduced energy 5453.754926012721\n",
      "2021-07-14 17:10:50,632:(0.00s):geometry:sum of energies: 5453.7549259229845\n",
      "2021-07-14 17:10:50,634:(0.00s):geometry:magnitude of difference in the energies: 8.973620424512774e-08\n",
      "2021-07-14 17:10:50,637:(0.00s):geometry:Final logp_proposal: 32.71047187238077\n"
     ]
    },
    {
     "name": "stdout",
     "output_type": "stream",
     "text": [
      "added energy components: [('CustomBondForce', 0.07042172106942633), ('CustomAngleForce', 197.79426515163328), ('CustomTorsionForce', 11.352776855372795), ('CustomBondForce', 452.06971059695064)]\n"
     ]
    },
    {
     "name": "stderr",
     "output_type": "stream",
     "text": [
      "2021-07-14 17:10:50,889:(0.25s):geometry:logp_reverse: performing reverse proposal\n",
      "2021-07-14 17:10:50,893:(0.00s):geometry:logp_reverse: unique new atoms detected; proceeding to _logp_propose...\n",
      "2021-07-14 17:10:50,896:(0.00s):geometry:Conducting forward proposal...\n",
      "2021-07-14 17:10:50,900:(0.00s):geometry:Computing proposal order with NetworkX...\n",
      "2021-07-14 17:10:50,970:(0.07s):geometry:number of atoms to be placed: 8\n",
      "2021-07-14 17:10:50,974:(0.00s):geometry:Atom index proposal order is [673, 674, 675, 681, 679, 678, 682, 680]\n",
      "2021-07-14 17:10:50,976:(0.00s):geometry:omitted_bonds: []\n",
      "2021-07-14 17:10:50,979:(0.00s):geometry:direction of proposal is reverse; creating atoms_with_positions from old system/topology\n",
      "2021-07-14 17:10:56,202:(5.22s):geometry:creating growth system...\n",
      "2021-07-14 17:10:57,610:(1.41s):geometry:\tcreating bond force...\n",
      "2021-07-14 17:10:57,613:(0.00s):geometry:\tthere are 1624 bonds in reference force.\n",
      "2021-07-14 17:10:57,643:(0.03s):geometry:\tcreating angle force...\n",
      "2021-07-14 17:10:57,646:(0.00s):geometry:\tthere are 5737 angles in reference force.\n",
      "2021-07-14 17:10:57,732:(0.09s):geometry:\tcreating torsion force...\n",
      "2021-07-14 17:10:57,735:(0.00s):geometry:\tcreating extra torsions force...\n",
      "2021-07-14 17:10:57,737:(0.00s):geometry:\tthere are 10822 torsions in reference force.\n",
      "2021-07-14 17:10:57,831:(0.09s):geometry:\tcreating nonbonded force...\n",
      "2021-07-14 17:10:57,835:(0.00s):geometry:\t\tgrabbing reference nonbonded method, cutoff, switching function, switching distance...\n",
      "2021-07-14 17:10:57,837:(0.00s):geometry:\t\tcreating nonbonded exception force (i.e. custom bond for 1,4s)...\n",
      "2021-07-14 17:10:57,839:(0.00s):geometry:\t\tlooping through exceptions calculating growth indices, and adding appropriate interactions to custom bond force.\n",
      "2021-07-14 17:10:57,842:(0.00s):geometry:\t\tthere are 43501 in the reference Nonbonded force\n",
      "2021-07-14 17:10:59,385:(1.54s):geometry:\t\t\t\t\tchiral atom <Atom 670 (CA) of chain 0 residue 42 (THR)> with neighbors [<Atom 671 (C) of chain 0 residue 42 (THR)>, <Atom 673 (CB) of chain 0 residue 42 (THR)>, <Atom 677 (HA) of chain 0 residue 42 (THR)>, <Atom 669 (N) of chain 0 residue 42 (THR)>] is surrounded by 3 core neighbors.  omitting chirality bias torsion\n",
      "2021-07-14 17:10:59,389:(0.00s):geometry:Neglected angle terms : []\n",
      "2021-07-14 17:10:59,391:(0.00s):geometry:omitted_growth_terms: {'bonds': [], 'angles': [], 'torsions': [], '1,4s': []}\n",
      "2021-07-14 17:10:59,394:(0.00s):geometry:extra torsions: {0: (676, 669, 670, 673, [1, Quantity(value=0.9900002084555819, unit=radian), Quantity(value=1200.0, unit=kilocalorie/mole), 1]), 1: (679, 674, 673, 670, [1, Quantity(value=-0.07858019216845058, unit=radian), Quantity(value=1200.0, unit=kilocalorie/mole), 5]), 2: (679, 674, 673, 675, [1, Quantity(value=2.118586571250296, unit=radian), Quantity(value=1200.0, unit=kilocalorie/mole), 5]), 3: (679, 674, 673, 678, [1, Quantity(value=-2.149781203448759, unit=radian), Quantity(value=1200.0, unit=kilocalorie/mole), 6]), 4: (670, 673, 675, 682, [1, Quantity(value=-2.1249532223845904, unit=radian), Quantity(value=1200.0, unit=kilocalorie/mole), 7]), 5: (670, 673, 675, 681, [1, Quantity(value=2.0543043017157916, unit=radian), Quantity(value=1200.0, unit=kilocalorie/mole), 4]), 6: (670, 673, 675, 680, [1, Quantity(value=-0.02223392579985184, unit=radian), Quantity(value=1200.0, unit=kilocalorie/mole), 8]), 7: (674, 673, 675, 682, [1, Quantity(value=2.0255587336734213, unit=radian), Quantity(value=1200.0, unit=kilocalorie/mole), 7]), 8: (674, 673, 675, 681, [1, Quantity(value=-0.07836904940578293, unit=radian), Quantity(value=1200.0, unit=kilocalorie/mole), 4]), 9: (674, 673, 675, 680, [1, Quantity(value=-2.154907276921426, unit=radian), Quantity(value=1200.0, unit=kilocalorie/mole), 8]), 10: (678, 673, 675, 682, [1, Quantity(value=0.007583009583349565, unit=radian), Quantity(value=1200.0, unit=kilocalorie/mole), 7]), 11: (678, 673, 675, 681, [1, Quantity(value=-2.096344773495849, unit=radian), Quantity(value=1200.0, unit=kilocalorie/mole), 6]), 12: (678, 673, 675, 680, [1, Quantity(value=2.1103023061680943, unit=radian), Quantity(value=1200.0, unit=kilocalorie/mole), 8]), 13: (674, 673, 670, 675, [1, Quantity(value=-1.0655064807976995, unit=radian), Quantity(value=1200.0, unit=kilocalorie/mole), 3])}\n",
      "2021-07-14 17:10:59,397:(0.00s):geometry:neglected angle terms include []\n",
      "2021-07-14 17:10:59,399:(0.00s):geometry:log probability choice of torsions and atom order: -13.371595639480912\n",
      "2021-07-14 17:10:59,401:(0.00s):geometry:creating platform, integrators, and contexts; setting growth parameter\n"
     ]
    },
    {
     "name": "stdout",
     "output_type": "stream",
     "text": [
      "conducting subsequent work with the following platform: CUDA\n"
     ]
    },
    {
     "name": "stderr",
     "output_type": "stream",
     "text": [
      "2021-07-14 17:11:00,754:(1.35s):geometry:setting atoms_with_positions context old positions\n"
     ]
    },
    {
     "name": "stdout",
     "output_type": "stream",
     "text": [
      "conducting subsequent work with the following platform: CUDA\n"
     ]
    },
    {
     "name": "stderr",
     "output_type": "stream",
     "text": [
      "2021-07-14 17:11:02,224:(1.47s):geometry:There are 8 new atoms\n",
      "2021-07-14 17:11:02,231:(0.01s):geometry:\treduced angle potential = 0.005472066865685023.\n",
      "2021-07-14 17:11:02,837:(0.61s):geometry:\treduced angle potential = 0.1536280916466212.\n",
      "2021-07-14 17:11:03,454:(0.62s):geometry:\treduced angle potential = 0.2257125237447829.\n",
      "2021-07-14 17:11:04,060:(0.61s):geometry:\treduced angle potential = 0.05657264681042365.\n",
      "2021-07-14 17:11:04,668:(0.61s):geometry:\treduced angle potential = 0.0066955214510641915.\n",
      "2021-07-14 17:11:05,266:(0.60s):geometry:\treduced angle potential = 0.00589659951395519.\n",
      "2021-07-14 17:11:05,864:(0.60s):geometry:\treduced angle potential = 0.25876654048332753.\n",
      "2021-07-14 17:11:06,486:(0.62s):geometry:\treduced angle potential = 0.023352265895513123.\n",
      "2021-07-14 17:11:08,100:(1.61s):geometry:\tbeginning construction of no_nonbonded final system...\n",
      "2021-07-14 17:11:08,105:(0.00s):geometry:\tinitial no-nonbonded final system forces ['HarmonicBondForce', 'HarmonicAngleForce', 'PeriodicTorsionForce', 'NonbondedForce']\n",
      "2021-07-14 17:11:11,620:(3.51s):geometry:\tfinal no-nonbonded final system forces dict_keys(['HarmonicBondForce', 'HarmonicAngleForce', 'PeriodicTorsionForce', 'NonbondedForce'])\n",
      "2021-07-14 17:11:11,624:(0.00s):geometry:\tthere are 1624 bond forces in the no-nonbonded final system\n",
      "2021-07-14 17:11:11,626:(0.00s):geometry:\tthere are 5737 angle forces in the no-nonbonded final system\n",
      "2021-07-14 17:11:11,629:(0.00s):geometry:\tthere are 10822 torsion forces in the no-nonbonded final system\n",
      "2021-07-14 17:11:11,632:(0.00s):geometry:reverse final system defined with 0 neglected angles.\n"
     ]
    },
    {
     "name": "stdout",
     "output_type": "stream",
     "text": [
      "conducting subsequent work with the following platform: CUDA\n",
      "conducting subsequent work with the following platform: CUDA\n"
     ]
    },
    {
     "name": "stderr",
     "output_type": "stream",
     "text": [
      "2021-07-14 17:11:17,580:(5.95s):geometry:total reduced potential before atom placement: 4792.467870677297\n"
     ]
    },
    {
     "name": "stdout",
     "output_type": "stream",
     "text": [
      "conducting subsequent work with the following platform: CUDA\n",
      "conducting subsequent work with the following platform: CUDA\n",
      "conducting subsequent work with the following platform: CUDA\n"
     ]
    },
    {
     "name": "stderr",
     "output_type": "stream",
     "text": [
      "2021-07-14 17:11:20,250:(2.67s):geometry:total reduced energy added from growth system: -62.3900963283472\n",
      "2021-07-14 17:11:20,254:(0.00s):geometry:final reduced energy 4730.077774354767\n",
      "2021-07-14 17:11:20,256:(0.00s):geometry:sum of energies: 4730.07777434895\n",
      "2021-07-14 17:11:20,259:(0.00s):geometry:magnitude of difference in the energies: 5.817554438181105e-09\n",
      "2021-07-14 17:11:20,261:(0.00s):geometry:Final logp_proposal: -9287.298178592682\n"
     ]
    },
    {
     "name": "stdout",
     "output_type": "stream",
     "text": [
      "added energy components: [('CustomBondForce', 0.4083956553523612), ('CustomAngleForce', 1.622079514297996), ('CustomTorsionForce', 17.503137529087592), ('CustomBondForce', -81.92370902708515)]\n"
     ]
    },
    {
     "name": "stderr",
     "output_type": "stream",
     "text": [
      "2021-07-14 17:11:20,500:(0.24s):relative:*** Generating RxnHybridTopologyFactory ***\n",
      "2021-07-14 17:11:20,504:(0.00s):relative:Beginning nonbonded method, total particle, barostat, and exceptions retrieval...\n",
      "2021-07-14 17:11:22,478:(1.97s):relative:Old system forces: dict_keys(['HarmonicBondForce', 'HarmonicAngleForce', 'PeriodicTorsionForce', 'NonbondedForce'])\n",
      "2021-07-14 17:11:22,481:(0.00s):relative:New system forces: dict_keys(['HarmonicBondForce', 'HarmonicAngleForce', 'PeriodicTorsionForce', 'NonbondedForce', 'MonteCarloBarostat'])\n",
      "2021-07-14 17:11:22,483:(0.00s):relative:No unknown forces.\n",
      "2021-07-14 17:11:22,485:(0.00s):relative:Nonbonded method to be used (i.e. from old system): 0\n",
      "2021-07-14 17:11:22,488:(0.00s):relative:Adding and mapping old atoms to hybrid system...\n",
      "2021-07-14 17:11:22,952:(0.46s):relative:Adding and mapping new atoms to hybrid system...\n",
      "2021-07-14 17:11:22,955:(0.00s):relative:scale_templates: [['nonscale_lambda'], ['nonscale_region']]\n",
      "2021-07-14 17:11:22,957:(0.00s):relative:particle (nonbonded) scale_templates: [['nonscale_lambda'], ['nonscale_region1'], ['nonscale_region2']]\n",
      "2021-07-14 17:11:22,960:(0.00s):relative:No MonteCarloBarostat added.\n",
      "2021-07-14 17:11:22,962:(0.00s):relative:getDefaultPeriodicBoxVectors added to hybrid: [Quantity(value=Vec3(x=6.7997, y=0.0, z=0.0), unit=nanometer), Quantity(value=Vec3(x=0.0, y=6.7997, z=0.0), unit=nanometer), Quantity(value=Vec3(x=0.0, y=0.0, z=6.7997), unit=nanometer)]\n",
      "2021-07-14 17:11:22,988:(0.03s):relative:Determined atom classes.\n",
      "2021-07-14 17:11:22,991:(0.00s):relative:Generating old system exceptions dict...\n",
      "2021-07-14 17:11:24,218:(1.23s):relative:Generating new system exceptions dict...\n",
      "2021-07-14 17:11:25,463:(1.24s):relative:Handling constraints...\n",
      "2021-07-14 17:11:26,492:(1.03s):relative:Handling virtual sites...\n",
      "2021-07-14 17:11:26,528:(0.04s):relative:\t_handle_virtual_sites: numVirtualSites: 0\n",
      "2021-07-14 17:11:29,889:(3.36s):relative:hybrid_index_pair (700, 703, 702, 712) was not found in the new_term_collector, but (703, 700, 702, 712) has the same atoms and terms, so (703, 700, 702, 712) will be removed from the new term collector\n",
      "2021-07-14 17:11:29,899:(0.01s):relative:hybrid_index_pair (701, 702, 703, 713) was not found in the new_term_collector, but (702, 701, 703, 713) has the same atoms and terms, so (702, 701, 703, 713) will be removed from the new term collector\n",
      "2021-07-14 17:11:29,911:(0.01s):relative:hybrid_index_pair (750, 754, 752, 762) was not found in the new_term_collector, but (754, 750, 752, 762) has the same atoms and terms, so (754, 750, 752, 762) will be removed from the new term collector\n",
      "2021-07-14 17:11:29,923:(0.01s):relative:hybrid_index_pair (862, 859, 861, 871) was not found in the new_term_collector, but (859, 862, 861, 871) has the same atoms and terms, so (859, 862, 861, 871) will be removed from the new term collector\n",
      "2021-07-14 17:11:29,933:(0.01s):relative:hybrid_index_pair (860, 861, 862, 872) was not found in the new_term_collector, but (861, 860, 862, 872) has the same atoms and terms, so (861, 860, 862, 872) will be removed from the new term collector\n",
      "2021-07-14 17:11:29,945:(0.01s):relative:hybrid_index_pair (903, 913, 905, 912) was not found in the new_term_collector, but (903, 912, 905, 913) has the same atoms and terms, so (903, 912, 905, 913) will be removed from the new term collector\n",
      "2021-07-14 17:11:29,955:(0.01s):relative:hybrid_index_pair (924, 920, 922, 931) was not found in the new_term_collector, but (920, 924, 922, 931) has the same atoms and terms, so (920, 924, 922, 931) will be removed from the new term collector\n",
      "2021-07-14 17:11:29,966:(0.01s):relative:hybrid_index_pair (924, 921, 923, 932) was not found in the new_term_collector, but (921, 924, 923, 932) has the same atoms and terms, so (921, 924, 923, 932) will be removed from the new term collector\n",
      "2021-07-14 17:11:29,976:(0.01s):relative:hybrid_index_pair (923, 922, 924, 933) was not found in the new_term_collector, but (922, 923, 924, 933) has the same atoms and terms, so (922, 923, 924, 933) will be removed from the new term collector\n",
      "2021-07-14 17:11:29,987:(0.01s):relative:hybrid_index_pair (955, 964, 957, 965) was not found in the new_term_collector, but (955, 965, 957, 964) has the same atoms and terms, so (955, 965, 957, 964) will be removed from the new term collector\n",
      "2021-07-14 17:11:29,999:(0.01s):relative:hybrid_index_pair (1069, 1075, 1071, 1074) was not found in the new_term_collector, but (1069, 1074, 1071, 1075) has the same atoms and terms, so (1069, 1074, 1071, 1075) will be removed from the new term collector\n",
      "2021-07-14 17:11:30,012:(0.01s):relative:hybrid_index_pair (1196, 1199, 1198, 1207) was not found in the new_term_collector, but (1199, 1196, 1198, 1207) has the same atoms and terms, so (1199, 1196, 1198, 1207) will be removed from the new term collector\n",
      "2021-07-14 17:11:30,022:(0.01s):relative:hybrid_index_pair (1197, 1198, 1199, 1208) was not found in the new_term_collector, but (1198, 1197, 1199, 1208) has the same atoms and terms, so (1198, 1197, 1199, 1208) will be removed from the new term collector\n",
      "2021-07-14 17:11:30,038:(0.02s):relative:hybrid_index_pair (1490, 1498, 1492, 1497) was not found in the new_term_collector, but (1490, 1497, 1492, 1498) has the same atoms and terms, so (1490, 1497, 1492, 1498) will be removed from the new term collector\n",
      "2021-07-14 17:11:30,049:(0.01s):relative:hybrid_index_pair (1523, 1520, 1522, 1531) was not found in the new_term_collector, but (1520, 1523, 1522, 1531) has the same atoms and terms, so (1520, 1523, 1522, 1531) will be removed from the new term collector\n",
      "2021-07-14 17:11:30,059:(0.01s):relative:hybrid_index_pair (1522, 1521, 1523, 1532) was not found in the new_term_collector, but (1521, 1522, 1523, 1532) has the same atoms and terms, so (1521, 1522, 1523, 1532) will be removed from the new term collector\n",
      "2021-07-14 17:11:30,072:(0.01s):relative:hybrid_index_pair (1669, 1666, 1667, 1677) was not found in the new_term_collector, but (1666, 1669, 1667, 1677) has the same atoms and terms, so (1666, 1669, 1667, 1677) will be removed from the new term collector\n",
      "2021-07-14 17:11:30,081:(0.01s):relative:hybrid_index_pair (1670, 1666, 1668, 1678) was not found in the new_term_collector, but (1666, 1670, 1668, 1678) has the same atoms and terms, so (1666, 1670, 1668, 1678) will be removed from the new term collector\n",
      "2021-07-14 17:11:30,093:(0.01s):relative:hybrid_index_pair (1771, 1779, 1773, 1778) was not found in the new_term_collector, but (1771, 1778, 1773, 1779) has the same atoms and terms, so (1771, 1778, 1773, 1779) will be removed from the new term collector\n",
      "2021-07-14 17:11:30,103:(0.01s):relative:hybrid_index_pair (1788, 1785, 1786, 1796) was not found in the new_term_collector, but (1785, 1788, 1786, 1796) has the same atoms and terms, so (1785, 1788, 1786, 1796) will be removed from the new term collector\n",
      "2021-07-14 17:11:30,114:(0.01s):relative:hybrid_index_pair (1789, 1785, 1787, 1797) was not found in the new_term_collector, but (1785, 1789, 1787, 1797) has the same atoms and terms, so (1785, 1789, 1787, 1797) will be removed from the new term collector\n",
      "2021-07-14 17:11:30,127:(0.01s):relative:hybrid_index_pair (1958, 1955, 1957, 1967) was not found in the new_term_collector, but (1955, 1958, 1957, 1967) has the same atoms and terms, so (1955, 1958, 1957, 1967) will be removed from the new term collector\n",
      "2021-07-14 17:11:30,138:(0.01s):relative:hybrid_index_pair (1956, 1957, 1958, 1968) was not found in the new_term_collector, but (1957, 1956, 1958, 1968) has the same atoms and terms, so (1957, 1956, 1958, 1968) will be removed from the new term collector\n",
      "2021-07-14 17:11:30,157:(0.02s):relative:hybrid_index_pair (2244, 2240, 2242, 2251) was not found in the new_term_collector, but (2240, 2244, 2242, 2251) has the same atoms and terms, so (2240, 2244, 2242, 2251) will be removed from the new term collector\n",
      "2021-07-14 17:11:30,167:(0.01s):relative:hybrid_index_pair (2244, 2241, 2243, 2252) was not found in the new_term_collector, but (2241, 2244, 2243, 2252) has the same atoms and terms, so (2241, 2244, 2243, 2252) will be removed from the new term collector\n"
     ]
    },
    {
     "name": "stderr",
     "output_type": "stream",
     "text": [
      "2021-07-14 17:11:30,178:(0.01s):relative:hybrid_index_pair (2243, 2242, 2244, 2253) was not found in the new_term_collector, but (2242, 2243, 2244, 2253) has the same atoms and terms, so (2242, 2243, 2244, 2253) will be removed from the new term collector\n",
      "2021-07-14 17:11:30,189:(0.01s):relative:hybrid_index_pair (2270, 2277, 2272, 2278) was not found in the new_term_collector, but (2270, 2278, 2272, 2277) has the same atoms and terms, so (2270, 2278, 2272, 2277) will be removed from the new term collector\n",
      "2021-07-14 17:11:30,200:(0.01s):relative:hybrid_index_pair (2286, 2288, 2287, 2289) was not found in the new_term_collector, but (2288, 2287, 2286, 2289) has the same atoms and terms, so (2288, 2287, 2286, 2289) will be removed from the new term collector\n",
      "2021-07-14 17:11:30,213:(0.01s):relative:hybrid_index_pair (2436, 2435, 2434, 2437) was not found in the new_term_collector, but (2434, 2436, 2435, 2437) has the same atoms and terms, so (2434, 2436, 2435, 2437) will be removed from the new term collector\n",
      "2021-07-14 17:11:30,225:(0.01s):relative:hybrid_index_pair (2478, 2475, 2477, 2487) was not found in the new_term_collector, but (2475, 2478, 2477, 2487) has the same atoms and terms, so (2475, 2478, 2477, 2487) will be removed from the new term collector\n",
      "2021-07-14 17:11:30,236:(0.01s):relative:hybrid_index_pair (2476, 2477, 2478, 2488) was not found in the new_term_collector, but (2477, 2476, 2478, 2488) has the same atoms and terms, so (2477, 2476, 2478, 2488) will be removed from the new term collector\n",
      "2021-07-14 17:11:30,249:(0.01s):relative:hybrid_index_pair (2588, 2592, 2590, 2600) was not found in the new_term_collector, but (2592, 2588, 2590, 2600) has the same atoms and terms, so (2592, 2588, 2590, 2600) will be removed from the new term collector\n",
      "2021-07-14 17:11:30,262:(0.01s):relative:hybrid_index_pair (2644, 2641, 2642, 2651) was not found in the new_term_collector, but (2641, 2644, 2642, 2651) has the same atoms and terms, so (2641, 2644, 2642, 2651) will be removed from the new term collector\n",
      "2021-07-14 17:11:30,273:(0.01s):relative:hybrid_index_pair (2663, 2665, 2664, 2666) was not found in the new_term_collector, but (2665, 2664, 2663, 2666) has the same atoms and terms, so (2665, 2664, 2663, 2666) will be removed from the new term collector\n",
      "2021-07-14 17:11:30,286:(0.01s):relative:hybrid_index_pair (2787, 2784, 2785, 2795) was not found in the new_term_collector, but (2784, 2787, 2785, 2795) has the same atoms and terms, so (2784, 2787, 2785, 2795) will be removed from the new term collector\n",
      "2021-07-14 17:11:30,296:(0.01s):relative:hybrid_index_pair (2788, 2784, 2786, 2796) was not found in the new_term_collector, but (2784, 2788, 2786, 2796) has the same atoms and terms, so (2784, 2788, 2786, 2796) will be removed from the new term collector\n",
      "2021-07-14 17:11:30,309:(0.01s):relative:hybrid_index_pair (2844, 2847, 2846, 2856) was not found in the new_term_collector, but (2847, 2844, 2846, 2856) has the same atoms and terms, so (2847, 2844, 2846, 2856) will be removed from the new term collector\n",
      "2021-07-14 17:11:30,320:(0.01s):relative:hybrid_index_pair (2845, 2846, 2847, 2857) was not found in the new_term_collector, but (2846, 2845, 2847, 2857) has the same atoms and terms, so (2846, 2845, 2847, 2857) will be removed from the new term collector\n",
      "2021-07-14 17:11:30,331:(0.01s):relative:hybrid_index_pair (2901, 2904, 2902, 2912) was not found in the new_term_collector, but (2904, 2901, 2902, 2912) has the same atoms and terms, so (2904, 2901, 2902, 2912) will be removed from the new term collector\n",
      "2021-07-14 17:11:30,345:(0.01s):relative:hybrid_index_pair (3004, 3001, 3002, 3012) was not found in the new_term_collector, but (3001, 3004, 3002, 3012) has the same atoms and terms, so (3001, 3004, 3002, 3012) will be removed from the new term collector\n",
      "2021-07-14 17:11:30,356:(0.01s):relative:hybrid_index_pair (3023, 3033, 3025, 3032) was not found in the new_term_collector, but (3023, 3032, 3025, 3033) has the same atoms and terms, so (3023, 3032, 3025, 3033) will be removed from the new term collector\n",
      "2021-07-14 17:11:30,368:(0.01s):relative:hybrid_index_pair (3053, 3056, 3054, 3063) was not found in the new_term_collector, but (3056, 3053, 3054, 3063) has the same atoms and terms, so (3056, 3053, 3054, 3063) will be removed from the new term collector\n",
      "2021-07-14 17:11:30,380:(0.01s):relative:hybrid_index_pair (3132, 3131, 3130, 3133) was not found in the new_term_collector, but (3130, 3132, 3131, 3133) has the same atoms and terms, so (3130, 3132, 3131, 3133) will be removed from the new term collector\n"
     ]
    }
   ],
   "source": [
    "solvent_delivery = PointMutationExecutor2(\"../../input/mmc2_barstar.pdb\",\n",
    "                        '1',\n",
    "                        \"42\",\n",
    "                        \"ALA\",\n",
    "                        ligand_input=\"../../input/mmc2_barnase.pdb\",\n",
    "                        ionic_strength=0.05*unit.molar,\n",
    "                        flatten_torsions=True,\n",
    "                        flatten_exceptions=True, \n",
    "                        conduct_endstate_validation=False,\n",
    "                        rxn_field=True\n",
    "                       )"
   ]
  },
  {
   "cell_type": "code",
   "execution_count": 77,
   "id": "691b164c",
   "metadata": {},
   "outputs": [],
   "source": [
    "complex_htf = solvent_delivery.get_complex_htf()\n",
    "\n",
    "complex_htf._topology_proposal.new_system.getForce(3).setNonbondedMethod(openmm.NonbondedForce.NoCutoff)\n",
    "complex_htf._topology_proposal.new_system.getForce(3).setUseDispersionCorrection(False)\n",
    "complex_htf._topology_proposal.new_system.removeForce(4) # Remove barostat\n",
    "\n"
   ]
  },
  {
   "cell_type": "code",
   "execution_count": 78,
   "id": "da2baf07",
   "metadata": {},
   "outputs": [],
   "source": [
    "# pickle.dump(apo_htf, open(\"T42A_apo.pickle\", \"wb\" ))\n",
    "pickle.dump(complex_htf, open(\"T42A_complex.pickle\", \"wb\" ))\n"
   ]
  },
  {
   "cell_type": "markdown",
   "id": "dated-desire",
   "metadata": {},
   "source": [
    "#### Old system PeroidicTorsionForce vs hybrid system CustomTorsionForce"
   ]
  },
  {
   "cell_type": "code",
   "execution_count": 79,
   "id": "excellent-cosmetic",
   "metadata": {},
   "outputs": [],
   "source": [
    "# Load htf\n",
    "with open(\"T42A_complex.pickle\", \"rb\") as f:\n",
    "    htf = pickle.load(f)"
   ]
  },
  {
   "cell_type": "code",
   "execution_count": 80,
   "id": "bigger-meeting",
   "metadata": {
    "scrolled": true
   },
   "outputs": [
    {
     "name": "stdout",
     "output_type": "stream",
     "text": [
      "Warning: Returning CPU platform instead of requested platform <simtk.openmm.openmm.Platform; proxy of <Swig Object of type 'OpenMM::Platform *' at 0x2b2ab7bc8840> >\n",
      "conducting subsequent work with the following platform: CPU\n",
      "conducting subsequent work with the following platform: CUDA\n",
      "[('HarmonicBondForce', 189.69678123582867), ('HarmonicAngleForce', 791.7783222646883), ('PeriodicTorsionForce', 3830.526380065008), ('NonbondedForce', -157166.78879353323), ('AndersenThermostat', 0.0)]\n",
      "conducting subsequent work with the following platform: CUDA\n",
      "[('CustomBondForce', 189.7672029568981), ('CustomAngleForce', 989.5725874163215), ('CustomTorsionForce', 3830.526548711567), ('CustomNonbondedForce', -171527.38145966266), ('CustomNonbondedForce', 56835.03760159929), ('CustomBondForce', 14360.59463495793), ('CustomBondForce', 1038.0966743330832), ('AndersenThermostat', 0.0)]\n",
      "Success! Custom nb force and standard nb force electrostatics energies are equal!\n"
     ]
    },
    {
     "data": {
      "text/plain": [
       "<simtk.openmm.openmm.Context; proxy of <Swig Object of type 'OpenMM::Context *' at 0x2b2b41e9d2a0> >"
      ]
     },
     "execution_count": 80,
     "metadata": {},
     "output_type": "execute_result"
    }
   ],
   "source": [
    "test_nb_energies(htf, is_solvated=True)"
   ]
  },
  {
   "cell_type": "code",
   "execution_count": 81,
   "id": "14b75bbd",
   "metadata": {},
   "outputs": [],
   "source": [
    "# Load htf\n",
    "with open(\"T42A_complex.pickle\", \"rb\") as f:\n",
    "    htf = pickle.load(f)"
   ]
  },
  {
   "cell_type": "code",
   "execution_count": 82,
   "id": "10d21359",
   "metadata": {},
   "outputs": [
    {
     "name": "stdout",
     "output_type": "stream",
     "text": [
      "Warning: Returning CPU platform instead of requested platform <simtk.openmm.openmm.Platform; proxy of <Swig Object of type 'OpenMM::Platform *' at 0x2b2ab7bc8840> >\n",
      "conducting subsequent work with the following platform: CPU\n",
      "conducting subsequent work with the following platform: CUDA\n",
      "[('HarmonicBondForce', 189.69678123582867), ('HarmonicAngleForce', 791.7783222646883), ('PeriodicTorsionForce', 3830.526380065008), ('NonbondedForce', 57873.13222606863), ('AndersenThermostat', 0.0)]\n",
      "conducting subsequent work with the following platform: CUDA\n",
      "[('CustomBondForce', 189.7672029568981), ('CustomAngleForce', 989.5725874163215), ('CustomTorsionForce', 3830.526548711567), ('CustomNonbondedForce', -171527.38145966266), ('CustomNonbondedForce', 56835.03760159929), ('CustomBondForce', 14360.59463495793), ('CustomBondForce', 1038.0966743330832), ('AndersenThermostat', 0.0)]\n",
      "Success! Custom nb force and standard nb force sterics energies are equal!\n"
     ]
    },
    {
     "data": {
      "text/plain": [
       "<simtk.openmm.openmm.Context; proxy of <Swig Object of type 'OpenMM::Context *' at 0x2b2d58bf3de0> >"
      ]
     },
     "execution_count": 82,
     "metadata": {},
     "output_type": "execute_result"
    }
   ],
   "source": [
    "test_nb_energies(htf, is_electrostatics=False, is_solvated=True)"
   ]
  },
  {
   "cell_type": "markdown",
   "id": "satisfactory-taxation",
   "metadata": {},
   "source": [
    "#### New system HarmonicTorsionForce vs hybrid system CustomTorsionForce"
   ]
  },
  {
   "cell_type": "code",
   "execution_count": 83,
   "id": "turkish-exclusive",
   "metadata": {},
   "outputs": [],
   "source": [
    "# Load htf\n",
    "with open(\"T42A_complex.pickle\", \"rb\") as f:\n",
    "    htf = pickle.load(f)"
   ]
  },
  {
   "cell_type": "code",
   "execution_count": 84,
   "id": "cordless-kitty",
   "metadata": {
    "scrolled": true
   },
   "outputs": [
    {
     "name": "stdout",
     "output_type": "stream",
     "text": [
      "Warning: Returning CPU platform instead of requested platform <simtk.openmm.openmm.Platform; proxy of <Swig Object of type 'OpenMM::Platform *' at 0x2b2ab7bc8840> >\n",
      "conducting subsequent work with the following platform: CPU\n",
      "conducting subsequent work with the following platform: CUDA\n",
      "[('HarmonicBondForce', 189.3588073015457), ('HarmonicAngleForce', 987.9505079020236), ('PeriodicTorsionForce', 3824.375899919634), ('NonbondedForce', -157091.3398845824), ('AndersenThermostat', 0.0)]\n",
      "conducting subsequent work with the following platform: CUDA\n",
      "[('CustomBondForce', 189.7672029568981), ('CustomAngleForce', 989.5725874163215), ('CustomTorsionForce', 3830.526548711567), ('CustomNonbondedForce', -171546.37509216822), ('CustomNonbondedForce', 56835.03760159929), ('CustomBondForce', 14455.037176790518), ('CustomBondForce', 1038.0966743330832), ('AndersenThermostat', 0.0)]\n",
      "Success! Custom nb force and standard nb force electrostatics energies are equal!\n"
     ]
    },
    {
     "data": {
      "text/plain": [
       "<simtk.openmm.openmm.Context; proxy of <Swig Object of type 'OpenMM::Context *' at 0x2b2d591e6630> >"
      ]
     },
     "execution_count": 84,
     "metadata": {},
     "output_type": "execute_result"
    }
   ],
   "source": [
    "test_nb_energies(htf, is_old=False, is_solvated=True)"
   ]
  },
  {
   "cell_type": "code",
   "execution_count": 85,
   "id": "720bd2a2",
   "metadata": {},
   "outputs": [],
   "source": [
    "# Load htf\n",
    "with open(\"T42A_complex.pickle\", \"rb\") as f:\n",
    "    htf = pickle.load(f)"
   ]
  },
  {
   "cell_type": "code",
   "execution_count": 86,
   "id": "c95b2734",
   "metadata": {
    "scrolled": false
   },
   "outputs": [
    {
     "name": "stdout",
     "output_type": "stream",
     "text": [
      "Warning: Returning CPU platform instead of requested platform <simtk.openmm.openmm.Platform; proxy of <Swig Object of type 'OpenMM::Platform *' at 0x2b2ab7bc8840> >\n",
      "conducting subsequent work with the following platform: CPU\n",
      "conducting subsequent work with the following platform: CUDA\n",
      "[('HarmonicBondForce', 189.3588073015457), ('HarmonicAngleForce', 987.9505079020236), ('PeriodicTorsionForce', 3824.375899919634), ('NonbondedForce', 58320.28187338352), ('AndersenThermostat', 0.0)]\n",
      "conducting subsequent work with the following platform: CUDA\n",
      "[('CustomBondForce', 189.7672029568981), ('CustomAngleForce', 989.5725874163215), ('CustomTorsionForce', 3830.526548711567), ('CustomNonbondedForce', -171527.38145966266), ('CustomNonbondedForce', 56846.397643300144), ('CustomBondForce', 14360.59463495793), ('CustomBondForce', 1473.8862793888807), ('AndersenThermostat', 0.0)]\n",
      "Success! Custom nb force and standard nb force sterics energies are equal!\n"
     ]
    }
   ],
   "source": [
    "context = test_nb_energies(htf, is_electrostatics=False, is_old=False, is_solvated=True)"
   ]
  },
  {
   "cell_type": "code",
   "execution_count": 87,
   "id": "38179913",
   "metadata": {
    "scrolled": true
   },
   "outputs": [
    {
     "name": "stdout",
     "output_type": "stream",
     "text": [
      "AndersenCollisionFrequency 1.0\n",
      "AndersenTemperature 300.0\n",
      "lambda_0_angles_new 0.0\n",
      "lambda_0_angles_old 1.0\n",
      "lambda_0_bonds_new 0.0\n",
      "lambda_0_bonds_old 1.0\n",
      "lambda_0_electrostatics_exceptions_new 0.0\n",
      "lambda_0_electrostatics_exceptions_old 1.0\n",
      "lambda_0_electrostatics_new 0.0\n",
      "lambda_0_electrostatics_old 1.0\n",
      "lambda_0_sterics_exceptions_new 1.0\n",
      "lambda_0_sterics_exceptions_old 0.0\n",
      "lambda_0_sterics_new 1.0\n",
      "lambda_0_sterics_old 0.0\n",
      "lambda_0_torsions_new 0.0\n",
      "lambda_0_torsions_old 1.0\n",
      "nonscale_lambda_angles 1.0\n",
      "nonscale_lambda_bonds 1.0\n",
      "nonscale_lambda_electrostatics 1.0\n",
      "nonscale_lambda_electrostatics_exceptions 1.0\n",
      "nonscale_lambda_sterics 1.0\n",
      "nonscale_lambda_sterics_exceptions 1.0\n",
      "nonscale_lambda_torsions 1.0\n"
     ]
    }
   ],
   "source": [
    "for param, val in context.getParameters().items():\n",
    "    print(param, val)"
   ]
  },
  {
   "cell_type": "code",
   "execution_count": null,
   "id": "7ba99c4b",
   "metadata": {},
   "outputs": [],
   "source": [
    "# TO DO: actually test the scaling of the energies matches"
   ]
  }
 ],
 "metadata": {
  "kernelspec": {
   "display_name": "Python 3 (ipykernel)",
   "language": "python",
   "name": "python3"
  },
  "language_info": {
   "codemirror_mode": {
    "name": "ipython",
    "version": 3
   },
   "file_extension": ".py",
   "mimetype": "text/x-python",
   "name": "python",
   "nbconvert_exporter": "python",
   "pygments_lexer": "ipython3",
   "version": "3.8.11"
  }
 },
 "nbformat": 4,
 "nbformat_minor": 5
}
