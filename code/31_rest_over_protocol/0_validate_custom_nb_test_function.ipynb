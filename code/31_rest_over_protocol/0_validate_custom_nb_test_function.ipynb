{
 "cells": [
  {
   "cell_type": "code",
   "execution_count": 1,
   "id": "ac051fbf",
   "metadata": {},
   "outputs": [
    {
     "name": "stderr",
     "output_type": "stream",
     "text": [
      "Warning: importing 'simtk.openmm' is deprecated.  Import 'openmm' instead.\n",
      "INFO:rdkit:Enabling RDKit 2021.03.4 jupyter extensions\n"
     ]
    },
    {
     "name": "stdout",
     "output_type": "stream",
     "text": [
      "conducting subsequent work with the following platform: CUDA\n"
     ]
    }
   ],
   "source": [
    "from openmmtools.states import SamplerState, ThermodynamicState, CompoundThermodynamicState\n",
    "from simtk import unit, openmm\n",
    "from perses.tests.utils import compute_potential_components\n",
    "from openmmtools.constants import kB\n",
    "from perses.dispersed.utils import configure_platform\n",
    "from perses.annihilation.rest import RESTTopologyFactory\n",
    "from perses.annihilation.lambda_protocol import RESTState\n",
    "import numpy as np\n",
    "from perses.tests.test_topology_proposal import generate_atp, generate_dipeptide_top_pos_sys\n",
    "from openmmtools.testsystems import AlanineDipeptideVacuum, AlanineDipeptideExplicit\n",
    "import itertools\n",
    "from perses.tests.test_topology_proposal import generate_dipeptide_top_pos_sys, generate_atp\n",
    "import pickle\n",
    "import copy\n",
    "\n",
    "#############################################\n",
    "# CONSTANTS\n",
    "#############################################\n",
    "temperature = 300.0 * unit.kelvin\n",
    "kT = kB * temperature\n",
    "beta = 1.0/kT\n",
    "DEFAULT_PLATFORM = openmm.Platform.getPlatformByName(\"CUDA\")\n"
   ]
  },
  {
   "cell_type": "code",
   "execution_count": 2,
   "id": "69ee892f",
   "metadata": {},
   "outputs": [],
   "source": [
    "def test_nb_energies(htf, is_old=True, is_solvated=False, check_scale=False):\n",
    "    htf_copy_1 = copy.deepcopy(htf)\n",
    "    htf_copy_2 = copy.deepcopy(htf)\n",
    "   \n",
    "    # Get system and old/new positions\n",
    "    system = htf._topology_proposal.old_system if is_old else htf._topology_proposal.new_system\n",
    "    system_copy_1 = copy.deepcopy(system)\n",
    "    positions = htf.old_positions(htf.hybrid_positions) if is_old else htf.new_positions(htf.hybrid_positions)\n",
    "\n",
    "    # Get nb force\n",
    "    nb_force_index = 3 \n",
    "    nb_force = system.getForce(nb_force_index) \n",
    "\n",
    "    # Get system and positions\n",
    "    hybrid_system = htf.hybrid_system\n",
    "    hybrid_positions = htf.hybrid_positions\n",
    "\n",
    "    # Get custom nb force \n",
    "    custom_electrostatics_nb_force_index = 3 if not is_solvated else 4\n",
    "    custom_sterics_nb_force_index = 4 if not is_solvated else 5\n",
    "    custom_nb_exceptions_force_index = 5 if not is_solvated else 6\n",
    "    standard_nb_force_index = 6 if not is_solvated else 7\n",
    "       \n",
    "    custom_electrostatics_nb_force = hybrid_system.getForce(custom_electrostatics_nb_force_index)\n",
    "    custom_sterics_nb_force = hybrid_system.getForce(custom_sterics_nb_force_index)\n",
    "    custom_nb_exceptions_force = hybrid_system.getForce(custom_nb_exceptions_force_index)\n",
    "#     standard_nb_force = hybrid_system.getForce(standard_nb_force_index)\n",
    "    standard_nb_force = htf_copy_1.hybrid_system.getForce(standard_nb_force_index)\n",
    "\n",
    "    # Set global parameters\n",
    "    lambda_old = 1 if is_old else 0\n",
    "    lambda_new = 0 if is_old else 1\n",
    "    lambda_old_str = ['lambda_alchemical_electrostatics_old', 'lambda_alchemical_sterics_old']\n",
    "    lambda_new_str = ['lambda_alchemical_electrostatics_new', 'lambda_alchemical_sterics_new']\n",
    "    lambda_old_exceptions_str = ['lambda_alchemical_electrostatics_exceptions_old', 'lambda_alchemical_sterics_exceptions_old']\n",
    "    lambda_new_exceptions_str = ['lambda_alchemical_electrostatics_exceptions_new', 'lambda_alchemical_sterics_exceptions_new']\n",
    "    \n",
    "    for custom_nb_force in [custom_electrostatics_nb_force, custom_sterics_nb_force]:\n",
    "        for i in range(custom_nb_force.getNumGlobalParameters()):\n",
    "            if custom_nb_force.getGlobalParameterName(i) in lambda_old_str:\n",
    "                custom_nb_force.setGlobalParameterDefaultValue(i, lambda_old)\n",
    "            elif custom_nb_force.getGlobalParameterName(i) in lambda_new_str:\n",
    "                custom_nb_force.setGlobalParameterDefaultValue(i, lambda_new)\n",
    "\n",
    "    for i in range(custom_nb_exceptions_force.getNumGlobalParameters()):\n",
    "        if custom_nb_exceptions_force.getGlobalParameterName(i) in lambda_old_exceptions_str:\n",
    "            custom_nb_exceptions_force.setGlobalParameterDefaultValue(i, lambda_old)\n",
    "        elif custom_nb_exceptions_force.getGlobalParameterName(i) in lambda_new_exceptions_str:\n",
    "            custom_nb_exceptions_force.setGlobalParameterDefaultValue(i, lambda_new)\n",
    "                                 \n",
    "    for i in range(standard_nb_force.getNumGlobalParameters()):\n",
    "        if standard_nb_force.getGlobalParameterName(i) == 'lambda_alchemical_electrostatics_reciprocal':\n",
    "            standard_nb_force.setGlobalParameterDefaultValue(i, lambda_new)\n",
    "       \n",
    "    # Get energy components of standard nb force (direct space only)\n",
    "    nb_force.setReciprocalSpaceForceGroup(31)\n",
    "    thermostate_other = ThermodynamicState(system=system, temperature=temperature)\n",
    "    integrator_other = openmm.VerletIntegrator(1.0*unit.femtosecond)\n",
    "    context_other = thermostate_other.create_context(integrator_other)\n",
    "    context_other.setPositions(positions)\n",
    "    components_other = compute_potential_components(context_other, beta=beta, platform=DEFAULT_PLATFORM)\n",
    "    print(components_other)\n",
    "    \n",
    "    # Get energy components of custom nb force + custom nb force + custom bond force\n",
    "    hybrid_system.removeForce(standard_nb_force_index)\n",
    "    thermostate_hybrid = ThermodynamicState(system=hybrid_system, temperature=temperature)\n",
    "    integrator_hybrid = openmm.VerletIntegrator(1.0 * unit.femtosecond)\n",
    "    context_hybrid = thermostate_hybrid.create_context(integrator_hybrid)\n",
    "    context_hybrid.setPositions(hybrid_positions)\n",
    "    components_hybrid = compute_potential_components(context_hybrid, beta=beta, platform=DEFAULT_PLATFORM)\n",
    "    print(components_hybrid)\n",
    "    \n",
    "    for k, v in context_hybrid.getParameters().items():\n",
    "        print(k, v)\n",
    "    \n",
    "    print([components_other[nb_force_index][1]], [np.sum([energy[1] for i, energy in enumerate(components_hybrid) if i in [3, 4, 5] ])])\n",
    "    assert np.isclose([components_other[nb_force_index][1]], np.sum([energy[1] for i, energy in enumerate(components_hybrid) if i in [3, 4, 5] ])), f\"standard nonbonded: {components_other[nb_force_index][1]}, custom nonbonded/bond: {np.sum([energy[1] for i, energy in enumerate(components_hybrid) if i in [3, 4, 5] ])}\"\n",
    "    \n",
    "     # Get energy components of standard nb force (reciprocal space only) (og system)\n",
    "    system_copy_1.getForce(nb_force_index).setIncludeDirectSpace(False)\n",
    "    thermostate_other = ThermodynamicState(system=system_copy_1, temperature=temperature)\n",
    "    integrator_other = openmm.VerletIntegrator(1.0*unit.femtosecond)\n",
    "    context_other = thermostate_other.create_context(integrator_other)\n",
    "    context_other.setPositions(positions)\n",
    "    components_other_reciprocal = compute_potential_components(context_other, beta=beta, platform=DEFAULT_PLATFORM)\n",
    "    print(components_other_reciprocal)\n",
    "    \n",
    "    thermostate_hybrid = ThermodynamicState(system=htf_copy_1.hybrid_system, temperature=temperature)\n",
    "    integrator_hybrid = openmm.VerletIntegrator(1.0 * unit.femtosecond)\n",
    "    context_hybrid = thermostate_hybrid.create_context(integrator_hybrid)\n",
    "    context_hybrid.setPositions(hybrid_positions)\n",
    "    components_hybrid_reciprocal = compute_potential_components(context_hybrid, beta=beta, platform=DEFAULT_PLATFORM)\n",
    "    print(components_hybrid_reciprocal)\n",
    "\n",
    "    print([components_other_reciprocal[nb_force_index][1]], [components_hybrid_reciprocal[6][1]])\n",
    "    assert np.isclose([components_other_reciprocal[nb_force_index][1]], [components_hybrid_reciprocal[6][1]]), f\"standard nonbonded: {components_other_reciprocal[nb_force_index][1]}, custom nonbonded/bond: {components_hybrid_reciprocal[0][1]}\"\n",
    "\n",
    "    \n",
    "    print(f\"Success! Custom nb force and standard nb force energies are equal!\")\n",
    "\n",
    "    if check_scale:\n",
    "        \n",
    "        # Get custom nb and custom bond forces and hybrid positions\n",
    "        hybrid_system = htf_copy_2.hybrid_system\n",
    "        hybrid_positions = htf_copy_2.hybrid_positions\n",
    "        \n",
    "        # Get custom nb force \n",
    "        custom_electrostatics_nb_force_index = 3 if not is_solvated else 4\n",
    "        custom_sterics_nb_force_index = 4 if not is_solvated else 5\n",
    "        custom_nb_exceptions_force_index = 5 if not is_solvated else 6\n",
    "        standard_nb_force_index = 6 if not is_solvated else 7\n",
    "\n",
    "        custom_electrostatics_nb_force = hybrid_system.getForce(custom_electrostatics_nb_force_index)\n",
    "        custom_sterics_nb_force = hybrid_system.getForce(custom_sterics_nb_force_index)\n",
    "        custom_nb_exceptions_force = hybrid_system.getForce(custom_nb_exceptions_force_index)\n",
    "\n",
    "        # Get energy components of custom nb force + custom nb force + custom bond force\n",
    "        hybrid_system.removeForce(standard_nb_force_index)\n",
    "        thermostate_hybrid = ThermodynamicState(system=hybrid_system, temperature=temperature)\n",
    "        integrator_hybrid = openmm.VerletIntegrator(1.0 * unit.femtosecond)\n",
    "        context_hybrid = thermostate_hybrid.create_context(integrator_hybrid)\n",
    "        context_hybrid.setPositions(hybrid_positions)\n",
    "        components_hybrid = compute_potential_components(context_hybrid, beta=beta, platform=DEFAULT_PLATFORM)\n",
    "        print(components_hybrid)\n",
    "\n",
    "        # Set rest lambda to 0.5\n",
    "        for custom_nb_force in [custom_electrostatics_nb_force, custom_sterics_nb_force]:\n",
    "            for i in range(custom_nb_force.getNumGlobalParameters()):\n",
    "                if custom_nb_force.getGlobalParameterName(i) == 'lambda_rest_electrostatics':\n",
    "                    custom_nb_force.setGlobalParameterDefaultValue(i, 0.5)\n",
    "                elif custom_nb_force.getGlobalParameterName(i) == 'lambda_rest_sterics':\n",
    "                    custom_nb_force.setGlobalParameterDefaultValue(i, 0.5)\n",
    "                \n",
    "        for i in range(custom_nb_exceptions_force.getNumGlobalParameters()):\n",
    "            if custom_nb_exceptions_force.getGlobalParameterName(i) == 'lambda_rest_electrostatics_exceptions':\n",
    "                custom_nb_exceptions_force.setGlobalParameterDefaultValue(i, 0.5)\n",
    "            elif custom_nb_exceptions_force.getGlobalParameterName(i) == 'lambda_rest_sterics_exceptions':\n",
    "                custom_nb_exceptions_force.setGlobalParameterDefaultValue(i, 0.5)\n",
    "            \n",
    "        thermostate_hybrid = ThermodynamicState(system=hybrid_system, temperature=temperature)\n",
    "        integrator_hybrid = openmm.VerletIntegrator(1.0 * unit.femtosecond)\n",
    "        context_hybrid = thermostate_hybrid.create_context(integrator_hybrid)\n",
    "        context_hybrid.setPositions(hybrid_positions)\n",
    "        components_hybrid_scaled = compute_potential_components(context_hybrid, beta=beta, platform=DEFAULT_PLATFORM)\n",
    "        print(components_hybrid_scaled)\n",
    "\n",
    "        print([np.sum([energy[1] for i, energy in enumerate(components_hybrid) if i in [3, 4, 5] ])], [np.sum([energy[1] for i, energy in enumerate(components_hybrid_scaled) if i in [3, 4, 5] ])])\n",
    "        assert not np.isclose([np.sum([energy[1] for i, energy in enumerate(components_hybrid) if i in [3, 4, 5] ])], [np.sum([energy[1] for i, energy in enumerate(components_hybrid_scaled) if i in [3, 4, 5] ])]), f\"standard nonbonded: {components_other[nb_force_index][1]}, custom nonbonded/bond: {np.sum([energy[1] for i, energy in enumerate(components_hybrid) if i in [3, 4, 5] ])}\"\n",
    "\n",
    "        print(f\"Success! Scaling the custom nb and bond forces changes the energy\")\n",
    "        "
   ]
  },
  {
   "cell_type": "markdown",
   "id": "434a0b31",
   "metadata": {},
   "source": [
    "# Alanine dipeptide in vacuum"
   ]
  },
  {
   "cell_type": "markdown",
   "id": "503b6f4b",
   "metadata": {},
   "source": [
    "### Test one alchemical region, no scale regions"
   ]
  },
  {
   "cell_type": "markdown",
   "id": "11e9c95a",
   "metadata": {},
   "source": [
    "#### Old system HarmonicBondForce vs hybrid system CustomBondForce"
   ]
  },
  {
   "cell_type": "code",
   "execution_count": 27,
   "id": "19b06c88",
   "metadata": {},
   "outputs": [],
   "source": [
    "# Load htf\n",
    "with open(\"/home/zhangi/choderalab/perses_benchmark/perses_protein_mutations/code/31_rest_over_protocol/atp_vacuum.pickle\", \"rb\") as f:\n",
    "    htf = pickle.load(f)"
   ]
  },
  {
   "cell_type": "code",
   "execution_count": 28,
   "id": "18deeb39",
   "metadata": {
    "scrolled": true
   },
   "outputs": [
    {
     "name": "stdout",
     "output_type": "stream",
     "text": [
      "conducting subsequent work with the following platform: CUDA\n",
      "[('HarmonicBondForce', 0.0345517625414457), ('HarmonicAngleForce', 0.6072023625714801), ('PeriodicTorsionForce', 16.176828968049836), ('NonbondedForce', -39.186928227296285), ('AndersenThermostat', 0.0)]\n",
      "conducting subsequent work with the following platform: CUDA\n",
      "[('CustomBondForce', 0.19661163482151217), ('CustomAngleForce', 260.92795488030396), ('CustomTorsionForce', 27.47798844472086), ('CustomNonbondedForce', -134.4041837676869), ('CustomNonbondedForce', 4.716822222623423), ('CustomBondForce', 90.50042955016903), ('AndersenThermostat', 0.0)]\n",
      "conducting subsequent work with the following platform: CUDA\n",
      "[('HarmonicBondForce', 0.0345517625414457), ('HarmonicAngleForce', 0.6072023625714801), ('PeriodicTorsionForce', 16.176828968049836), ('NonbondedForce', 0.0), ('AndersenThermostat', 0.0)]\n",
      "conducting subsequent work with the following platform: CUDA\n",
      "[('CustomBondForce', 0.19661163482151217), ('CustomAngleForce', 260.92795488030396), ('CustomTorsionForce', 27.47798844472086), ('CustomNonbondedForce', -134.4041837676869), ('CustomNonbondedForce', 4.716822222623423), ('CustomBondForce', 90.50042955016903), ('NonbondedForce', 0.0), ('AndersenThermostat', 0.0)]\n",
      "[-39.186928227296285] [-39.18693199489445]\n",
      "[0.0] [0.0]\n",
      "Success! Custom nb force and standard nb force energies are equal!\n"
     ]
    }
   ],
   "source": [
    "test_nb_energies(htf)\n"
   ]
  },
  {
   "cell_type": "markdown",
   "id": "e336aed9",
   "metadata": {},
   "source": [
    "#### New system HarmonicBondForce vs hybrid system CustomBondForce"
   ]
  },
  {
   "cell_type": "code",
   "execution_count": 25,
   "id": "49875cd6",
   "metadata": {},
   "outputs": [],
   "source": [
    "# Load htf\n",
    "with open(\"/home/zhangi/choderalab/perses_benchmark/perses_protein_mutations/code/31_rest_over_protocol/atp_vacuum.pickle\", \"rb\") as f:\n",
    "    htf = pickle.load(f)"
   ]
  },
  {
   "cell_type": "code",
   "execution_count": 26,
   "id": "039fb22d",
   "metadata": {},
   "outputs": [
    {
     "name": "stdout",
     "output_type": "stream",
     "text": [
      "conducting subsequent work with the following platform: CUDA\n",
      "[('HarmonicBondForce', 0.19661163482151217), ('HarmonicAngleForce', 260.92777677949186), ('PeriodicTorsionForce', 27.47509191436743), ('NonbondedForce', -88.2896603063111), ('AndersenThermostat', 0.0)]\n",
      "conducting subsequent work with the following platform: CUDA\n",
      "[('CustomBondForce', 0.19661163482151217), ('CustomAngleForce', 260.92795488030396), ('CustomTorsionForce', 27.47798844472086), ('CustomNonbondedForce', -89.72759295871141), ('CustomNonbondedForce', 9.277896982930873), ('CustomBondForce', -7.83996894169944), ('AndersenThermostat', 0.0)]\n",
      "conducting subsequent work with the following platform: CUDA\n",
      "[('HarmonicBondForce', 0.19661163482151217), ('HarmonicAngleForce', 260.92777677949186), ('PeriodicTorsionForce', 27.47509191436743), ('NonbondedForce', 0.0), ('AndersenThermostat', 0.0)]\n",
      "conducting subsequent work with the following platform: CUDA\n",
      "[('CustomBondForce', 0.19661163482151217), ('CustomAngleForce', 260.92795488030396), ('CustomTorsionForce', 27.47798844472086), ('CustomNonbondedForce', -134.4041837676869), ('CustomNonbondedForce', 4.716822222623423), ('CustomBondForce', 90.50042955016903), ('NonbondedForce', 0.0), ('AndersenThermostat', 0.0)]\n",
      "[-88.2896603063111] [-88.28966491747998]\n",
      "[0.0] [0.0]\n",
      "Success! Custom nb force and standard nb force energies are equal!\n"
     ]
    }
   ],
   "source": [
    "test_nb_energies(htf, is_old=False)"
   ]
  },
  {
   "cell_type": "markdown",
   "id": "16251d48",
   "metadata": {},
   "source": [
    "### Test one alchemical region, one scale region"
   ]
  },
  {
   "cell_type": "markdown",
   "id": "5e9bd435",
   "metadata": {},
   "source": [
    "#### Old system HarmonicBondForce vs hybrid system CustomBondForce"
   ]
  },
  {
   "cell_type": "code",
   "execution_count": 33,
   "id": "288c11e1",
   "metadata": {},
   "outputs": [],
   "source": [
    "# Load htf\n",
    "with open(\"/home/zhangi/choderalab/perses_benchmark/perses_protein_mutations/code/31_rest_over_protocol/atp_vacuum_scale_region.pickle\", \"rb\") as f:\n",
    "    htf = pickle.load(f)"
   ]
  },
  {
   "cell_type": "code",
   "execution_count": 34,
   "id": "9c194d51",
   "metadata": {
    "scrolled": false
   },
   "outputs": [
    {
     "name": "stdout",
     "output_type": "stream",
     "text": [
      "conducting subsequent work with the following platform: CUDA\n",
      "[('HarmonicBondForce', 0.0345517625414457), ('HarmonicAngleForce', 0.6072023625714801), ('PeriodicTorsionForce', 16.176828968049836), ('NonbondedForce', -39.186928227296285), ('AndersenThermostat', 0.0)]\n",
      "conducting subsequent work with the following platform: CUDA\n",
      "[('CustomBondForce', 0.11204966907978851), ('CustomAngleForce', 7.754114928422474), ('CustomTorsionForce', 26.2414559977149), ('CustomNonbondedForce', -134.4041837676869), ('CustomNonbondedForce', 4.716822222623423), ('CustomBondForce', 90.50042955016903), ('AndersenThermostat', 0.0)]\n",
      "conducting subsequent work with the following platform: CUDA\n",
      "[('HarmonicBondForce', 0.0345517625414457), ('HarmonicAngleForce', 0.6072023625714801), ('PeriodicTorsionForce', 16.176828968049836), ('NonbondedForce', 0.0), ('AndersenThermostat', 0.0)]\n",
      "conducting subsequent work with the following platform: CUDA\n",
      "[('CustomBondForce', 0.11204966907978851), ('CustomAngleForce', 7.754114928422474), ('CustomTorsionForce', 26.2414559977149), ('CustomNonbondedForce', -134.4041837676869), ('CustomNonbondedForce', 4.716822222623423), ('CustomBondForce', 90.50042955016903), ('NonbondedForce', 0.0), ('AndersenThermostat', 0.0)]\n",
      "[-39.186928227296285] [-39.18693199489445]\n",
      "[0.0] [0.0]\n",
      "Success! Custom nb force and standard nb force energies are equal!\n",
      "conducting subsequent work with the following platform: CUDA\n",
      "[('CustomBondForce', 0.11204966907978851), ('CustomAngleForce', 7.754114928422474), ('CustomTorsionForce', 26.2414559977149), ('CustomNonbondedForce', -134.4041837676869), ('CustomNonbondedForce', 4.716822222623423), ('CustomBondForce', 90.50042955016903), ('AndersenThermostat', 0.0)]\n",
      "conducting subsequent work with the following platform: CUDA\n",
      "[('CustomBondForce', 0.11204966907978851), ('CustomAngleForce', 7.754114928422474), ('CustomTorsionForce', 26.2414559977149), ('CustomNonbondedForce', -133.38818360975787), ('CustomNonbondedForce', 2.303429262558317), ('CustomBondForce', 84.01498780838561), ('AndersenThermostat', 0.0)]\n",
      "[-39.18693199489445] [-47.06976653881394]\n",
      "Success! Scaling the custom nb and bond forces changes the energy\n"
     ]
    }
   ],
   "source": [
    "test_nb_energies(htf, check_scale=True)\n"
   ]
  },
  {
   "cell_type": "markdown",
   "id": "0057ce49",
   "metadata": {},
   "source": [
    "#### New system HarmonicBondForce vs hybrid system CustomBondForce"
   ]
  },
  {
   "cell_type": "code",
   "execution_count": 37,
   "id": "1e6a7202",
   "metadata": {},
   "outputs": [],
   "source": [
    "# Load htf\n",
    "with open(\"/home/zhangi/choderalab/perses_benchmark/perses_protein_mutations/code/31_rest_over_protocol/atp_vacuum_scale_region.pickle\", \"rb\") as f:\n",
    "    htf = pickle.load(f)"
   ]
  },
  {
   "cell_type": "code",
   "execution_count": 38,
   "id": "8ccc8c53",
   "metadata": {
    "scrolled": false
   },
   "outputs": [
    {
     "name": "stdout",
     "output_type": "stream",
     "text": [
      "conducting subsequent work with the following platform: CUDA\n",
      "[('HarmonicBondForce', 0.11204966907978851), ('HarmonicAngleForce', 7.753936827610332), ('PeriodicTorsionForce', 26.23856046443492), ('NonbondedForce', 551.2600335631639), ('AndersenThermostat', 0.0)]\n",
      "conducting subsequent work with the following platform: CUDA\n",
      "[('CustomBondForce', 0.11204966907978851), ('CustomAngleForce', 7.754114928422474), ('CustomTorsionForce', 26.2414559977149), ('CustomNonbondedForce', -97.94581621939766), ('CustomNonbondedForce', 641.5552191005575), ('CustomBondForce', 7.650297172428192), ('AndersenThermostat', 0.0)]\n",
      "conducting subsequent work with the following platform: CUDA\n",
      "[('HarmonicBondForce', 0.11204966907978851), ('HarmonicAngleForce', 7.753936827610332), ('PeriodicTorsionForce', 26.23856046443492), ('NonbondedForce', 0.0), ('AndersenThermostat', 0.0)]\n",
      "conducting subsequent work with the following platform: CUDA\n",
      "[('CustomBondForce', 0.11204966907978851), ('CustomAngleForce', 7.754114928422474), ('CustomTorsionForce', 26.2414559977149), ('CustomNonbondedForce', -134.4041837676869), ('CustomNonbondedForce', 4.716822222623423), ('CustomBondForce', 90.50042955016903), ('NonbondedForce', 0.0), ('AndersenThermostat', 0.0)]\n",
      "[551.2600335631639] [551.259700053588]\n",
      "[0.0] [0.0]\n",
      "Success! Custom nb force and standard nb force energies are equal!\n",
      "conducting subsequent work with the following platform: CUDA\n",
      "[('CustomBondForce', 0.11204966907978851), ('CustomAngleForce', 7.754114928422474), ('CustomTorsionForce', 26.2414559977149), ('CustomNonbondedForce', -134.4041837676869), ('CustomNonbondedForce', 4.716822222623423), ('CustomBondForce', 90.50042955016903), ('AndersenThermostat', 0.0)]\n",
      "conducting subsequent work with the following platform: CUDA\n",
      "[('CustomBondForce', 0.11204966907978851), ('CustomAngleForce', 7.754114928422474), ('CustomTorsionForce', 26.2414559977149), ('CustomNonbondedForce', -133.38818360975787), ('CustomNonbondedForce', 2.303429262558317), ('CustomBondForce', 84.01498780838561), ('AndersenThermostat', 0.0)]\n",
      "[-39.18693199489445] [-47.06976653881394]\n",
      "Success! Scaling the custom nb and bond forces changes the energy\n"
     ]
    }
   ],
   "source": [
    "test_nb_energies(htf, is_old=False, check_scale=True)\n"
   ]
  },
  {
   "cell_type": "markdown",
   "id": "a30a9095",
   "metadata": {},
   "source": [
    "# Alanine dipeptide in solvent"
   ]
  },
  {
   "cell_type": "markdown",
   "id": "d6ef38ac",
   "metadata": {},
   "source": [
    "### Test one alchemical region, no scale regions"
   ]
  },
  {
   "cell_type": "code",
   "execution_count": 4,
   "id": "bfacca92",
   "metadata": {},
   "outputs": [],
   "source": [
    "# from perses.annihilation.relative import RestCapablePMEHybridTopologyFactory"
   ]
  },
  {
   "cell_type": "code",
   "execution_count": 5,
   "id": "6586092b",
   "metadata": {
    "scrolled": true
   },
   "outputs": [
    {
     "name": "stderr",
     "output_type": "stream",
     "text": [
      "DEBUG:openmmforcefields.system_generators:Trying GAFFTemplateGenerator to load gaff-2.11\n",
      "INFO:proposal_generator:\tConducting polymer point mutation proposal...\n",
      "WARNING:atom_mapping:Molecules do not appear to share a common scaffold.\n",
      "WARNING:atom_mapping:Proceeding with direct mapping of molecules, but please check atom mapping and the geometry of the ligands.\n",
      "INFO:proposal_generator:[Atom(name=CB, atomic number=6), Atom(name=HB1, atomic number=1), Atom(name=HB2, atomic number=1), Atom(name=HB3, atomic number=1)]\n",
      "INFO:proposal_generator:[Atom(name=CB, atomic number=6), Atom(name=CG2, atomic number=6), Atom(name=OG1, atomic number=8), Atom(name=HB, atomic number=1), Atom(name=HG1, atomic number=1), Atom(name=HG21, atomic number=1), Atom(name=HG22, atomic number=1), Atom(name=HG23, atomic number=1)]\n"
     ]
    },
    {
     "name": "stdout",
     "output_type": "stream",
     "text": [
      "making topology proposal\n"
     ]
    },
    {
     "name": "stderr",
     "output_type": "stream",
     "text": [
      "INFO:geometry:propose: performing forward proposal\n",
      "INFO:geometry:propose: unique new atoms detected; proceeding to _logp_propose...\n",
      "INFO:geometry:Conducting forward proposal...\n",
      "INFO:geometry:Computing proposal order with NetworkX...\n",
      "INFO:geometry:number of atoms to be placed: 6\n",
      "INFO:geometry:Atom index proposal order is [14, 18, 15, 16, 19, 17]\n",
      "INFO:geometry:omitted_bonds: []\n",
      "INFO:geometry:direction of proposal is forward; creating atoms_with_positions and new positions from old system/topology...\n",
      "INFO:geometry:creating growth system...\n",
      "INFO:geometry:\tcreating bond force...\n",
      "INFO:geometry:\tthere are 11 bonds in reference force.\n",
      "INFO:geometry:\tcreating angle force...\n",
      "INFO:geometry:\tthere are 43 angles in reference force.\n",
      "INFO:geometry:\tcreating torsion force...\n",
      "INFO:geometry:\tcreating extra torsions force...\n",
      "INFO:geometry:\tthere are 72 torsions in reference force.\n",
      "INFO:geometry:\tcreating nonbonded force...\n",
      "INFO:geometry:\t\tgrabbing reference nonbonded method, cutoff, switching function, switching distance...\n",
      "INFO:geometry:\t\tcreating nonbonded exception force (i.e. custom bond for 1,4s)...\n",
      "INFO:geometry:\t\tlooping through exceptions calculating growth indices, and adding appropriate interactions to custom bond force.\n",
      "INFO:geometry:\t\tthere are 1654 in the reference Nonbonded force\n"
     ]
    },
    {
     "name": "stdout",
     "output_type": "stream",
     "text": [
      "generating geometry engine\n",
      "making geometry proposal from ALA to THR\n"
     ]
    },
    {
     "name": "stderr",
     "output_type": "stream",
     "text": [
      "INFO:geometry:Neglected angle terms : []\n",
      "INFO:geometry:omitted_growth_terms: {'bonds': [], 'angles': [], 'torsions': [], '1,4s': []}\n",
      "INFO:geometry:extra torsions: {0: (19, 18, 10, 8, [1, Quantity(value=-0.07858019216845058, unit=radian), Quantity(value=1200.0, unit=kilocalorie/mole), 5]), 1: (19, 18, 10, 14, [1, Quantity(value=2.118586571250296, unit=radian), Quantity(value=1200.0, unit=kilocalorie/mole), 5]), 2: (19, 18, 10, 13, [1, Quantity(value=-2.149781203448759, unit=radian), Quantity(value=1200.0, unit=kilocalorie/mole), 5]), 3: (8, 10, 14, 17, [1, Quantity(value=-2.1249532223845904, unit=radian), Quantity(value=1200.0, unit=kilocalorie/mole), 6]), 4: (8, 10, 14, 16, [1, Quantity(value=2.0543043017157916, unit=radian), Quantity(value=1200.0, unit=kilocalorie/mole), 4]), 5: (8, 10, 14, 15, [1, Quantity(value=-0.02223392579985184, unit=radian), Quantity(value=1200.0, unit=kilocalorie/mole), 3]), 6: (18, 10, 14, 17, [1, Quantity(value=2.0255587336734213, unit=radian), Quantity(value=1200.0, unit=kilocalorie/mole), 6]), 7: (18, 10, 14, 16, [1, Quantity(value=-0.07836904940578293, unit=radian), Quantity(value=1200.0, unit=kilocalorie/mole), 4]), 8: (18, 10, 14, 15, [1, Quantity(value=-2.154907276921426, unit=radian), Quantity(value=1200.0, unit=kilocalorie/mole), 3]), 9: (13, 10, 14, 17, [1, Quantity(value=0.007583009583349565, unit=radian), Quantity(value=1200.0, unit=kilocalorie/mole), 6]), 10: (13, 10, 14, 16, [1, Quantity(value=-2.096344773495849, unit=radian), Quantity(value=1200.0, unit=kilocalorie/mole), 4]), 11: (13, 10, 14, 15, [1, Quantity(value=2.1103023061680943, unit=radian), Quantity(value=1200.0, unit=kilocalorie/mole), 3]), 12: (14, 10, 8, 18, [1, Quantity(value=1.0655064807976995, unit=radian), Quantity(value=1200.0, unit=kilocalorie/mole), 2])}\n",
      "INFO:geometry:neglected angle terms include []\n",
      "INFO:geometry:log probability choice of torsions and atom order: -10.462874742916549\n",
      "INFO:geometry:creating platform, integrators, and contexts; setting growth parameter\n"
     ]
    },
    {
     "name": "stdout",
     "output_type": "stream",
     "text": [
      "conducting subsequent work with the following platform: CUDA\n"
     ]
    },
    {
     "name": "stderr",
     "output_type": "stream",
     "text": [
      "INFO:geometry:setting atoms_with_positions context new positions\n"
     ]
    },
    {
     "name": "stdout",
     "output_type": "stream",
     "text": [
      "conducting subsequent work with the following platform: CUDA\n"
     ]
    },
    {
     "name": "stderr",
     "output_type": "stream",
     "text": [
      "INFO:geometry:There are 6 new atoms\n",
      "INFO:geometry:\treduced angle potential = 0.001505123748024158.\n",
      "INFO:geometry:\treduced angle potential = 2.720781482009262.\n",
      "INFO:geometry:\treduced angle potential = 0.4611773736058746.\n",
      "INFO:geometry:\treduced angle potential = 0.44633036325961944.\n",
      "INFO:geometry:\treduced angle potential = 0.024747176007389595.\n",
      "INFO:geometry:\treduced angle potential = 0.018674398235547215.\n",
      "INFO:geometry:\tbeginning construction of no_nonbonded final system...\n",
      "INFO:geometry:\tinitial no-nonbonded final system forces ['HarmonicBondForce', 'HarmonicAngleForce', 'PeriodicTorsionForce', 'NonbondedForce', 'MonteCarloBarostat']\n",
      "INFO:geometry:\tfinal no-nonbonded final system forces dict_keys(['HarmonicBondForce', 'HarmonicAngleForce', 'PeriodicTorsionForce', 'NonbondedForce'])\n",
      "INFO:geometry:\tthere are 11 bond forces in the no-nonbonded final system\n",
      "INFO:geometry:\tthere are 43 angle forces in the no-nonbonded final system\n",
      "INFO:geometry:\tthere are 72 torsion forces in the no-nonbonded final system\n",
      "INFO:geometry:forward final system defined with 0 neglected angles.\n"
     ]
    },
    {
     "name": "stdout",
     "output_type": "stream",
     "text": [
      "conducting subsequent work with the following platform: CUDA\n",
      "conducting subsequent work with the following platform: CUDA\n"
     ]
    },
    {
     "name": "stderr",
     "output_type": "stream",
     "text": [
      "INFO:geometry:total reduced potential before atom placement: 16.815513850992346\n"
     ]
    },
    {
     "name": "stdout",
     "output_type": "stream",
     "text": [
      "conducting subsequent work with the following platform: CUDA\n",
      "conducting subsequent work with the following platform: CUDA\n",
      "conducting subsequent work with the following platform: CUDA\n"
     ]
    },
    {
     "name": "stderr",
     "output_type": "stream",
     "text": [
      "INFO:geometry:total reduced energy added from growth system: 164.95045392802237\n",
      "INFO:geometry:final reduced energy 181.76596730603805\n",
      "INFO:geometry:sum of energies: 181.76596777901472\n",
      "INFO:geometry:magnitude of difference in the energies: 4.7297666583290265e-07\n",
      "INFO:geometry:Final logp_proposal: 46.01010150868524\n"
     ]
    },
    {
     "name": "stdout",
     "output_type": "stream",
     "text": [
      "added energy components: [('CustomBondForce', 1.4676227308003211), ('CustomAngleForce', 242.83783402487614), ('CustomTorsionForce', 12.008510424491345), ('CustomBondForce', -91.36351325214544)]\n"
     ]
    },
    {
     "name": "stderr",
     "output_type": "stream",
     "text": [
      "INFO:geometry:logp_reverse: performing reverse proposal\n",
      "INFO:geometry:logp_reverse: unique new atoms detected; proceeding to _logp_propose...\n",
      "INFO:geometry:Conducting forward proposal...\n",
      "INFO:geometry:Computing proposal order with NetworkX...\n",
      "INFO:geometry:number of atoms to be placed: 2\n",
      "INFO:geometry:Atom index proposal order is [11, 13]\n",
      "INFO:geometry:omitted_bonds: []\n",
      "INFO:geometry:direction of proposal is reverse; creating atoms_with_positions from old system/topology\n",
      "INFO:geometry:creating growth system...\n",
      "INFO:geometry:\tcreating bond force...\n",
      "INFO:geometry:\tthere are 9 bonds in reference force.\n",
      "INFO:geometry:\tcreating angle force...\n",
      "INFO:geometry:\tthere are 36 angles in reference force.\n",
      "INFO:geometry:\tcreating torsion force...\n",
      "INFO:geometry:\tcreating extra torsions force...\n",
      "INFO:geometry:\tthere are 42 torsions in reference force.\n",
      "INFO:geometry:\tcreating nonbonded force...\n",
      "INFO:geometry:\t\tgrabbing reference nonbonded method, cutoff, switching function, switching distance...\n",
      "INFO:geometry:\t\tcreating nonbonded exception force (i.e. custom bond for 1,4s)...\n",
      "INFO:geometry:\t\tlooping through exceptions calculating growth indices, and adding appropriate interactions to custom bond force.\n",
      "INFO:geometry:\t\tthere are 1631 in the reference Nonbonded force\n",
      "INFO:geometry:Neglected angle terms : []\n",
      "INFO:geometry:omitted_growth_terms: {'bonds': [], 'angles': [], 'torsions': [], '1,4s': []}\n",
      "INFO:geometry:extra torsions: {0: (6, 8, 10, 11, [1, Quantity(value=2.105358864604291, unit=radian), Quantity(value=1200.0, unit=kilocalorie/mole), 1]), 1: (6, 8, 10, 13, [1, Quantity(value=0.018582237407944735, unit=radian), Quantity(value=1200.0, unit=kilocalorie/mole), 2]), 2: (14, 8, 10, 11, [1, Quantity(value=-0.036945135932107576, unit=radian), Quantity(value=1200.0, unit=kilocalorie/mole), 1]), 3: (14, 8, 10, 13, [1, Quantity(value=-2.1237217631284597, unit=radian), Quantity(value=1200.0, unit=kilocalorie/mole), 2]), 4: (9, 8, 10, 11, [1, Quantity(value=-2.119603470065817, unit=radian), Quantity(value=1200.0, unit=kilocalorie/mole), 1]), 5: (9, 8, 10, 13, [1, Quantity(value=2.0768052099174152, unit=radian), Quantity(value=1200.0, unit=kilocalorie/mole), 2])}\n",
      "INFO:geometry:neglected angle terms include []\n",
      "INFO:geometry:log probability choice of torsions and atom order: -2.8903717578961645\n",
      "INFO:geometry:creating platform, integrators, and contexts; setting growth parameter\n"
     ]
    },
    {
     "name": "stdout",
     "output_type": "stream",
     "text": [
      "conducting subsequent work with the following platform: CUDA\n"
     ]
    },
    {
     "name": "stderr",
     "output_type": "stream",
     "text": [
      "INFO:geometry:setting atoms_with_positions context old positions\n"
     ]
    },
    {
     "name": "stdout",
     "output_type": "stream",
     "text": [
      "conducting subsequent work with the following platform: CUDA\n"
     ]
    },
    {
     "name": "stderr",
     "output_type": "stream",
     "text": [
      "INFO:geometry:There are 2 new atoms\n",
      "INFO:geometry:\treduced angle potential = 1.2915588460963948e-10.\n",
      "INFO:geometry:\treduced angle potential = 7.39096069988752e-11.\n",
      "INFO:geometry:\tbeginning construction of no_nonbonded final system...\n",
      "INFO:geometry:\tinitial no-nonbonded final system forces ['HarmonicBondForce', 'HarmonicAngleForce', 'PeriodicTorsionForce', 'NonbondedForce', 'MonteCarloBarostat']\n",
      "INFO:geometry:\tfinal no-nonbonded final system forces dict_keys(['HarmonicBondForce', 'HarmonicAngleForce', 'PeriodicTorsionForce', 'NonbondedForce'])\n",
      "INFO:geometry:\tthere are 9 bond forces in the no-nonbonded final system\n",
      "INFO:geometry:\tthere are 36 angle forces in the no-nonbonded final system\n",
      "INFO:geometry:\tthere are 42 torsion forces in the no-nonbonded final system\n",
      "INFO:geometry:reverse final system defined with 0 neglected angles.\n"
     ]
    },
    {
     "name": "stdout",
     "output_type": "stream",
     "text": [
      "conducting subsequent work with the following platform: CUDA\n",
      "conducting subsequent work with the following platform: CUDA\n"
     ]
    },
    {
     "name": "stderr",
     "output_type": "stream",
     "text": [
      "INFO:geometry:total reduced potential before atom placement: 16.815513850992346\n"
     ]
    },
    {
     "name": "stdout",
     "output_type": "stream",
     "text": [
      "conducting subsequent work with the following platform: CUDA\n",
      "conducting subsequent work with the following platform: CUDA\n",
      "conducting subsequent work with the following platform: CUDA\n"
     ]
    },
    {
     "name": "stderr",
     "output_type": "stream",
     "text": [
      "INFO:geometry:total reduced energy added from growth system: 4.780760226787146\n",
      "INFO:geometry:final reduced energy 21.596273881350857\n",
      "INFO:geometry:sum of energies: 21.59627407777949\n",
      "INFO:geometry:magnitude of difference in the energies: 1.9642863513524844e-07\n",
      "INFO:geometry:Final logp_proposal: -17931.575647370104\n"
     ]
    },
    {
     "name": "stdout",
     "output_type": "stream",
     "text": [
      "added energy components: [('CustomBondForce', 0.0), ('CustomAngleForce', 0.00017810081214392654), ('CustomTorsionForce', 0.002891174165036068), ('CustomBondForce', 4.777690951809965)]\n"
     ]
    }
   ],
   "source": [
    "# # Create a htf\n",
    "# atp, system_generator = generate_atp(phase = 'solvent')\n",
    "# topology_proposal, new_positions, _, _ = generate_dipeptide_top_pos_sys(atp.topology, \n",
    "#                                'THR', \n",
    "#                                atp.system, \n",
    "#                                atp.positions, \n",
    "#                                system_generator,\n",
    "#                                flatten_torsions=True,\n",
    "#                                flatten_exceptions=True,\n",
    "#                                validate_endstate_energy=False)"
   ]
  },
  {
   "cell_type": "code",
   "execution_count": 6,
   "id": "a85a484a",
   "metadata": {
    "scrolled": true
   },
   "outputs": [
    {
     "name": "stderr",
     "output_type": "stream",
     "text": [
      "INFO:relative:*** Generating RestCapablePMEHybridTopologyFactory ***\n",
      "INFO:relative:Old system forces: dict_keys(['HarmonicBondForce', 'HarmonicAngleForce', 'PeriodicTorsionForce', 'NonbondedForce', 'MonteCarloBarostat'])\n",
      "INFO:relative:New system forces: dict_keys(['HarmonicBondForce', 'HarmonicAngleForce', 'PeriodicTorsionForce', 'NonbondedForce', 'MonteCarloBarostat'])\n",
      "INFO:relative:No unknown forces.\n",
      "INFO:relative:r_cutoff is 1.0 nm\n",
      "INFO:relative:alpha_ewald is 2.918423065872431\n",
      "INFO:relative:w_scale is 0.1\n",
      "INFO:relative:Set w_scale to 0 for testing\n",
      "INFO:relative:Creating hybrid system\n",
      "INFO:relative:Adding and mapping old atoms to hybrid system...\n",
      "INFO:relative:Adding and mapping new atoms to hybrid system...\n",
      "INFO:relative:Added MonteCarloBarostat.\n",
      "INFO:relative:getDefaultPeriodicBoxVectors added to hybrid: [Quantity(value=Vec3(x=2.56477354, y=0.0, z=0.0), unit=nanometer), Quantity(value=Vec3(x=0.0, y=2.56477354, z=0.0), unit=nanometer), Quantity(value=Vec3(x=0.0, y=0.0, z=2.56477354), unit=nanometer)]\n",
      "INFO:relative:Determined atom classes.\n",
      "INFO:relative:Computed hybrid positions\n",
      "INFO:relative:Created hybrid topology\n",
      "INFO:relative:Rest region: None\n",
      "INFO:relative:Prepped look up dict for determining if atom is solvent\n",
      "INFO:relative:Generating old system exceptions dict...\n",
      "INFO:relative:Generating new system exceptions dict...\n",
      "INFO:relative:Handling constraints...\n",
      "INFO:relative:Handling virtual sites...\n",
      "INFO:relative:\t_handle_virtual_sites: numVirtualSites: 0\n",
      "INFO:relative:Handling bonds...\n",
      "INFO:relative:Handling angles...\n",
      "INFO:relative:Handling torsions...\n",
      "INFO:relative:Handling nonbondeds...\n"
     ]
    }
   ],
   "source": [
    "# flatten_exceptions = True\n",
    "# flatten_torsions = True\n",
    "# endstate = None\n",
    "# rest_region = None\n",
    "# htf = RestCapablePMEHybridTopologyFactory(topology_proposal=topology_proposal,\n",
    "#                      current_positions=atp.positions,\n",
    "#                      new_positions=new_positions,\n",
    "#                      rest_region=rest_region,\n",
    "#                      generate_htf_for_testing=True,\n",
    "#                      interpolate_old_and_new_14s=flatten_exceptions\n",
    "#                     )"
   ]
  },
  {
   "cell_type": "code",
   "execution_count": 7,
   "id": "b9a96a5e",
   "metadata": {},
   "outputs": [],
   "source": [
    "# with open(\"atp_solvent_nb.pickle\", \"wb\") as f:\n",
    "#     pickle.dump(htf, f)"
   ]
  },
  {
   "cell_type": "markdown",
   "id": "5c908dfd",
   "metadata": {},
   "source": [
    "#### Old system nb force vs hybrid system custom nb force and custom bond force (electrostatics)"
   ]
  },
  {
   "cell_type": "code",
   "execution_count": 5,
   "id": "88edb8f7",
   "metadata": {
    "scrolled": true
   },
   "outputs": [],
   "source": [
    "# Load htf\n",
    "with open(\"/home/zhangi/choderalab/perses_benchmark/perses_protein_mutations/code/31_rest_over_protocol/atp_solvent.pickle\", \"rb\") as f:\n",
    "    htf = pickle.load(f)"
   ]
  },
  {
   "cell_type": "code",
   "execution_count": 50,
   "id": "f2da37eb",
   "metadata": {},
   "outputs": [],
   "source": [
    "# exceptions_force = htf.hybrid_system.getForce(6)\n",
    "# for i in range(exceptions_force.getNumBonds()):\n",
    "#     print(exceptions_force.getBondParameters(i))"
   ]
  },
  {
   "cell_type": "code",
   "execution_count": 9,
   "id": "fc8b81a9",
   "metadata": {},
   "outputs": [],
   "source": [
    "# from simtk.openmm import XmlSerializer\n",
    "# with open('hybrid_system.xml', 'w') as f:\n",
    "#     f.write(XmlSerializer.serialize(htf.hybrid_system))"
   ]
  },
  {
   "cell_type": "code",
   "execution_count": 8,
   "id": "2d6d1bd8",
   "metadata": {},
   "outputs": [],
   "source": [
    "# with open(\"hybrid_positions.pickle\", \"wb\") as f:\n",
    "#     pickle.dump(htf.hybrid_positions, f)"
   ]
  },
  {
   "cell_type": "code",
   "execution_count": 10,
   "id": "108dc277",
   "metadata": {},
   "outputs": [],
   "source": [
    "# with open('old_system.xml', 'w') as f:\n",
    "#     f.write(XmlSerializer.serialize(htf._topology_proposal.old_system))"
   ]
  },
  {
   "cell_type": "code",
   "execution_count": 12,
   "id": "e16e7727",
   "metadata": {},
   "outputs": [],
   "source": [
    "# with open(\"old_positions.pickle\", \"wb\") as f:\n",
    "#     pickle.dump(htf.old_positions(htf.hybrid_positions), f)"
   ]
  },
  {
   "cell_type": "code",
   "execution_count": 6,
   "id": "07c59aac",
   "metadata": {
    "scrolled": true
   },
   "outputs": [
    {
     "name": "stdout",
     "output_type": "stream",
     "text": [
      "conducting subsequent work with the following platform: CUDA\n",
      "[('HarmonicBondForce', 0.03455284552741751), ('HarmonicAngleForce', 0.6071989411338462), ('PeriodicTorsionForce', 16.176841775340726), ('NonbondedForce', 48048.15874389563), ('AndersenThermostat', 0.0), ('MonteCarloBarostat', 0.0)]\n",
      "conducting subsequent work with the following platform: CUDA\n",
      "[('CustomBondForce', 0.28581688607525807), ('CustomAngleForce', 7.781404329601241), ('CustomTorsionForce', 26.48030777263283), ('CustomNonbondedForce', -7398.382023995852), ('CustomNonbondedForce', 7032.129149022988), ('CustomBondForce', 48414.4178835812), ('AndersenThermostat', 0.0), ('MonteCarloBarostat', 0.0)]\n",
      "AndersenCollisionFrequency 1.0\n",
      "AndersenTemperature 300.0\n",
      "MonteCarloPressure 1.01325\n",
      "MonteCarloTemperature 300.0\n",
      "lambda_alchemical_angles_new 0.0\n",
      "lambda_alchemical_angles_old 1.0\n",
      "lambda_alchemical_bonds_new 0.0\n",
      "lambda_alchemical_bonds_old 1.0\n",
      "lambda_alchemical_electrostatics_exceptions_new 0.0\n",
      "lambda_alchemical_electrostatics_exceptions_old 1.0\n",
      "lambda_alchemical_electrostatics_new 0.0\n",
      "lambda_alchemical_electrostatics_old 1.0\n",
      "lambda_alchemical_sterics_exceptions_new 0.0\n",
      "lambda_alchemical_sterics_exceptions_old 1.0\n",
      "lambda_alchemical_sterics_new 0.0\n",
      "lambda_alchemical_sterics_old 1.0\n",
      "lambda_alchemical_torsions_new 0.0\n",
      "lambda_alchemical_torsions_old 1.0\n",
      "lambda_rest_angles 1.0\n",
      "lambda_rest_bonds 1.0\n",
      "lambda_rest_electrostatics 1.0\n",
      "lambda_rest_electrostatics_exceptions 1.0\n",
      "lambda_rest_sterics 1.0\n",
      "lambda_rest_sterics_exceptions 1.0\n",
      "lambda_rest_torsions 1.0\n",
      "conducting subsequent work with the following platform: CUDA\n",
      "[('HarmonicBondForce', 0.0345517625414457), ('HarmonicAngleForce', 0.6072023625714801), ('PeriodicTorsionForce', 16.176828968049836), ('NonbondedForce', -48990.91558025926), ('AndersenThermostat', 0.0), ('MonteCarloBarostat', 0.0)]\n",
      "conducting subsequent work with the following platform: CUDA\n",
      "[('CustomBondForce', -49274.40307167325), ('CustomAngleForce', -49266.907484229734), ('CustomTorsionForce', -49248.2085807867), ('CustomNonbondedForce', -56673.07091255519), ('CustomNonbondedForce', -42242.559739536344), ('CustomBondForce', -860.271004978127), ('NonbondedForce', -48990.915628567345), ('AndersenThermostat', -49274.68888855932), ('MonteCarloBarostat', -49274.68888855932)]\n",
      "[48048.15874389563] [48048.16500860833]\n",
      "[-48990.91558025926] [-48990.915628567345]\n",
      "Success! Custom nb force and standard nb force energies are equal!\n"
     ]
    }
   ],
   "source": [
    "test_nb_energies(htf, is_solvated=True)"
   ]
  },
  {
   "cell_type": "code",
   "execution_count": null,
   "id": "dd6fa85c",
   "metadata": {},
   "outputs": [],
   "source": []
  },
  {
   "cell_type": "code",
   "execution_count": null,
   "id": "6c3471a4",
   "metadata": {},
   "outputs": [],
   "source": []
  },
  {
   "cell_type": "markdown",
   "id": "dc4b7b1d",
   "metadata": {},
   "source": [
    "#### New system HarmonicBondForce vs hybrid system CustomBondForce"
   ]
  },
  {
   "cell_type": "code",
   "execution_count": 6,
   "id": "9f9cbe99",
   "metadata": {},
   "outputs": [],
   "source": [
    "# Load htf\n",
    "with open(\"/home/zhangi/choderalab/perses_benchmark/perses_protein_mutations/code/31_rest_over_protocol/atp_solvent.pickle\", \"rb\") as f:\n",
    "    htf = pickle.load(f)"
   ]
  },
  {
   "cell_type": "code",
   "execution_count": 7,
   "id": "95887c44",
   "metadata": {},
   "outputs": [
    {
     "name": "stdout",
     "output_type": "stream",
     "text": [
      "conducting subsequent work with the following platform: CUDA\n",
      "[('HarmonicBondForce', 0.285816886075258), ('HarmonicAngleForce', 7.781226228912823), ('PeriodicTorsionForce', 26.47741160999302), ('NonbondedForce', 48377.94175328148), ('AndersenThermostat', 0.0), ('MonteCarloBarostat', 0.0)]\n",
      "conducting subsequent work with the following platform: CUDA\n",
      "[('CustomBondForce', 0.28581688607525807), ('CustomAngleForce', 7.781404329601241), ('CustomTorsionForce', 26.48030777263283), ('CustomNonbondedForce', -7383.797824099858), ('CustomNonbondedForce', 7321.555217409464), ('CustomBondForce', 48440.18369417566), ('AndersenThermostat', 0.0), ('MonteCarloBarostat', 0.0)]\n",
      "conducting subsequent work with the following platform: CUDA\n",
      "[('HarmonicBondForce', 0.2858168860752572), ('HarmonicAngleForce', 7.7812262289128125), ('PeriodicTorsionForce', 26.477411609993002), ('NonbondedForce', -49058.8156811369), ('AndersenThermostat', 0.0), ('MonteCarloBarostat', 0.0)]\n",
      "conducting subsequent work with the following platform: CUDA\n",
      "[('CustomBondForce', -49346.87877613193), ('CustomAngleForce', -49339.38318868841), ('CustomTorsionForce', -49320.68428524537), ('CustomNonbondedForce', -56745.54661701386), ('CustomNonbondedForce', -42315.03544399502), ('CustomBondForce', -932.7467094368005), ('NonbondedForce', -49058.81572999644), ('AndersenThermostat', -49347.164593018), ('MonteCarloBarostat', -49347.164593018)]\n",
      "[48377.94175328148] [48377.94108748527]\n",
      "[-49058.8156811369] [-49058.81572999644]\n",
      "Success! Custom nb force and standard nb force energies are equal!\n"
     ]
    }
   ],
   "source": [
    "test_nb_energies(htf, is_old=False, is_solvated=True)"
   ]
  },
  {
   "cell_type": "markdown",
   "id": "d907a68d",
   "metadata": {},
   "source": [
    "### Test one alchemical region, one scale region"
   ]
  },
  {
   "cell_type": "markdown",
   "id": "3576b206",
   "metadata": {},
   "source": [
    "#### Old system HarmonicBondForce vs hybrid system CustomBondForce"
   ]
  },
  {
   "cell_type": "code",
   "execution_count": 18,
   "id": "f714b6e7",
   "metadata": {},
   "outputs": [],
   "source": [
    "# Load htf\n",
    "with open(\"/home/zhangi/choderalab/perses_benchmark/perses_protein_mutations/code/31_rest_over_protocol/atp_solvent_scale_region.pickle\", \"rb\") as f:\n",
    "    htf = pickle.load(f)"
   ]
  },
  {
   "cell_type": "code",
   "execution_count": 19,
   "id": "eaffc419",
   "metadata": {
    "scrolled": false
   },
   "outputs": [
    {
     "name": "stdout",
     "output_type": "stream",
     "text": [
      "conducting subsequent work with the following platform: CUDA\n",
      "[('HarmonicBondForce', 0.03455176254144657), ('HarmonicAngleForce', 0.6072023625714819), ('PeriodicTorsionForce', 16.176828968049854), ('NonbondedForce', 48577.510535772766), ('AndersenThermostat', 0.0), ('MonteCarloBarostat', 0.0)]\n",
      "conducting subsequent work with the following platform: CUDA\n",
      "[('CustomBondForce', 2.436358777060491), ('CustomAngleForce', 8.349984184707225), ('CustomTorsionForce', 24.706018116420218), ('CustomNonbondedForce', -7334.199200237913), ('CustomNonbondedForce', 7780.49610808769), ('CustomBondForce', 48131.21520351297), ('AndersenThermostat', 0.0), ('MonteCarloBarostat', 0.0)]\n",
      "AndersenCollisionFrequency 1.0\n",
      "AndersenTemperature 300.0\n",
      "MonteCarloPressure 1.01325\n",
      "MonteCarloTemperature 300.0\n",
      "lambda_alchemical_angles_new 0.0\n",
      "lambda_alchemical_angles_old 1.0\n",
      "lambda_alchemical_bonds_new 0.0\n",
      "lambda_alchemical_bonds_old 1.0\n",
      "lambda_alchemical_electrostatics_exceptions_new 0.0\n",
      "lambda_alchemical_electrostatics_exceptions_old 1.0\n",
      "lambda_alchemical_electrostatics_new 0.0\n",
      "lambda_alchemical_electrostatics_old 1.0\n",
      "lambda_alchemical_sterics_exceptions_new 0.0\n",
      "lambda_alchemical_sterics_exceptions_old 1.0\n",
      "lambda_alchemical_sterics_new 0.0\n",
      "lambda_alchemical_sterics_old 1.0\n",
      "lambda_alchemical_torsions_new 0.0\n",
      "lambda_alchemical_torsions_old 1.0\n",
      "lambda_rest_angles 1.0\n",
      "lambda_rest_bonds 1.0\n",
      "lambda_rest_electrostatics 1.0\n",
      "lambda_rest_electrostatics_exceptions 1.0\n",
      "lambda_rest_sterics 1.0\n",
      "lambda_rest_sterics_exceptions 1.0\n",
      "lambda_rest_torsions 1.0\n",
      "[48577.510535772766] [48577.51211136275]\n",
      "conducting subsequent work with the following platform: CUDA\n",
      "[('HarmonicBondForce', 0.0345517625414457), ('HarmonicAngleForce', 0.6072023625714801), ('PeriodicTorsionForce', 16.176828968049836), ('NonbondedForce', -48657.26360796019), ('AndersenThermostat', 0.0), ('MonteCarloBarostat', 0.0)]\n",
      "conducting subsequent work with the following platform: CUDA\n",
      "[('CustomBondForce', -48985.19061654366), ('CustomAngleForce', -48979.276991136016), ('CustomTorsionForce', -48962.920957204304), ('CustomNonbondedForce', -56321.826175558635), ('CustomNonbondedForce', -41207.13086723304), ('CustomBondForce', -856.4117718077623), ('NonbondedForce', -48657.26365597545), ('AndersenThermostat', -48987.62697532073), ('MonteCarloBarostat', -48987.62697532073)]\n",
      "[-48657.26360796019] [-48657.26365597545]\n",
      "Success! Custom nb force and standard nb force energies are equal!\n",
      "conducting subsequent work with the following platform: CUDA\n",
      "[('CustomBondForce', 2.436358777060491), ('CustomAngleForce', 8.349984184707225), ('CustomTorsionForce', 24.706018116420218), ('CustomNonbondedForce', -7334.199200237911), ('CustomNonbondedForce', 7780.49610808769), ('CustomBondForce', 48131.21520351297), ('AndersenThermostat', 0.0), ('MonteCarloBarostat', 0.0)]\n",
      "conducting subsequent work with the following platform: CUDA\n",
      "[('CustomBondForce', 2.436358777060491), ('CustomAngleForce', 8.349984184707225), ('CustomTorsionForce', 24.706018116420218), ('CustomNonbondedForce', -7320.849542388272), ('CustomNonbondedForce', 7782.361747692737), ('CustomBondForce', 48038.166655289344), ('AndersenThermostat', 0.0), ('MonteCarloBarostat', 0.0)]\n",
      "[48577.51211136275] [48499.678860593805]\n",
      "Success! Scaling the custom nb and bond forces changes the energy\n"
     ]
    }
   ],
   "source": [
    "test_nb_energies(htf, is_solvated=True, check_scale=True)\n"
   ]
  },
  {
   "cell_type": "markdown",
   "id": "2e0b009a",
   "metadata": {},
   "source": [
    "#### New system HarmonicBondForce vs hybrid system CustomBondForce"
   ]
  },
  {
   "cell_type": "code",
   "execution_count": 21,
   "id": "a1d202a2",
   "metadata": {},
   "outputs": [],
   "source": [
    "# Load htf\n",
    "with open(\"/home/zhangi/choderalab/perses_benchmark/perses_protein_mutations/code/31_rest_over_protocol/atp_solvent_scale_region.pickle\", \"rb\") as f:\n",
    "    htf = pickle.load(f)"
   ]
  },
  {
   "cell_type": "code",
   "execution_count": 22,
   "id": "3d6aaf36",
   "metadata": {
    "scrolled": true
   },
   "outputs": [
    {
     "name": "stdout",
     "output_type": "stream",
     "text": [
      "conducting subsequent work with the following platform: CUDA\n",
      "[('HarmonicBondForce', 2.436358777060491), ('HarmonicAngleForce', 8.349806083894475), ('PeriodicTorsionForce', 24.701676520795253), ('NonbondedForce', 48616.250012431265), ('AndersenThermostat', 0.0), ('MonteCarloBarostat', 0.0)]\n",
      "conducting subsequent work with the following platform: CUDA\n",
      "[('CustomBondForce', 2.436358777060491), ('CustomAngleForce', 8.349984184707225), ('CustomTorsionForce', 24.706018116420218), ('CustomNonbondedForce', -7325.6994711743655), ('CustomNonbondedForce', 7799.613938465385), ('CustomBondForce', 48142.33716493503), ('AndersenThermostat', 0.0), ('MonteCarloBarostat', 0.0)]\n",
      "AndersenCollisionFrequency 1.0\n",
      "AndersenTemperature 300.0\n",
      "MonteCarloPressure 1.01325\n",
      "MonteCarloTemperature 300.0\n",
      "lambda_alchemical_angles_new 0.0\n",
      "lambda_alchemical_angles_old 1.0\n",
      "lambda_alchemical_bonds_new 0.0\n",
      "lambda_alchemical_bonds_old 1.0\n",
      "lambda_alchemical_electrostatics_exceptions_new 1.0\n",
      "lambda_alchemical_electrostatics_exceptions_old 0.0\n",
      "lambda_alchemical_electrostatics_new 1.0\n",
      "lambda_alchemical_electrostatics_old 0.0\n",
      "lambda_alchemical_sterics_exceptions_new 1.0\n",
      "lambda_alchemical_sterics_exceptions_old 0.0\n",
      "lambda_alchemical_sterics_new 1.0\n",
      "lambda_alchemical_sterics_old 0.0\n",
      "lambda_alchemical_torsions_new 0.0\n",
      "lambda_alchemical_torsions_old 1.0\n",
      "lambda_rest_angles 1.0\n",
      "lambda_rest_bonds 1.0\n",
      "lambda_rest_electrostatics 1.0\n",
      "lambda_rest_electrostatics_exceptions 1.0\n",
      "lambda_rest_sterics 1.0\n",
      "lambda_rest_sterics_exceptions 1.0\n",
      "lambda_rest_torsions 1.0\n",
      "[48616.250012431265] [48616.25163222605]\n",
      "conducting subsequent work with the following platform: CUDA\n",
      "[('HarmonicBondForce', 2.4363587770604886), ('HarmonicAngleForce', 8.349806083894464), ('PeriodicTorsionForce', 24.70167652079524), ('NonbondedForce', -48732.28934307284), ('AndersenThermostat', 0.0), ('MonteCarloBarostat', 0.0)]\n",
      "conducting subsequent work with the following platform: CUDA\n",
      "[('CustomBondForce', -49057.66632100381), ('CustomAngleForce', -49051.752695596166), ('CustomTorsionForce', -49035.39666166445), ('CustomNonbondedForce', -56394.30188001878), ('CustomNonbondedForce', -41279.606571693184), ('CustomBondForce', -928.8874762679051), ('NonbondedForce', -48732.28939119306), ('AndersenThermostat', -49060.102679780866), ('MonteCarloBarostat', -49060.102679780866)]\n",
      "[-48732.28934307284] [-48732.28939119306]\n",
      "Success! Custom nb force and standard nb force energies are equal!\n",
      "conducting subsequent work with the following platform: CUDA\n",
      "[('CustomBondForce', 2.436358777060491), ('CustomAngleForce', 8.349984184707225), ('CustomTorsionForce', 24.706018116420218), ('CustomNonbondedForce', -7334.199200237911), ('CustomNonbondedForce', 7780.496108087688), ('CustomBondForce', 48131.21520351297), ('AndersenThermostat', 0.0), ('MonteCarloBarostat', 0.0)]\n",
      "conducting subsequent work with the following platform: CUDA\n",
      "[('CustomBondForce', 2.436358777060491), ('CustomAngleForce', 8.349984184707225), ('CustomTorsionForce', 24.706018116420218), ('CustomNonbondedForce', -7320.849542388276), ('CustomNonbondedForce', 7782.361747692737), ('CustomBondForce', 48038.166655289344), ('AndersenThermostat', 0.0), ('MonteCarloBarostat', 0.0)]\n",
      "[48577.51211136275] [48499.678860593805]\n",
      "Success! Scaling the custom nb and bond forces changes the energy\n"
     ]
    }
   ],
   "source": [
    "test_nb_energies(htf, is_old=False, is_solvated=True, check_scale=True)"
   ]
  },
  {
   "cell_type": "markdown",
   "id": "dd3a6ebd",
   "metadata": {},
   "source": [
    "# CDK2 transformation in solvent"
   ]
  },
  {
   "cell_type": "markdown",
   "id": "115af5f8",
   "metadata": {},
   "source": [
    "### Test one alchemical region, no scale regions"
   ]
  },
  {
   "cell_type": "markdown",
   "id": "60604039",
   "metadata": {},
   "source": [
    "#### Old system HarmonicBondForce vs hybrid system CustomBondForce"
   ]
  },
  {
   "cell_type": "code",
   "execution_count": 54,
   "id": "c301b106",
   "metadata": {},
   "outputs": [],
   "source": [
    "# Load htf\n",
    "with open(\"/home/zhangi/choderalab/perses_benchmark/perses_protein_mutations/code/31_rest_over_protocol/cdk2_solvent.pickle\", \"rb\") as f:\n",
    "    htf = pickle.load(f)"
   ]
  },
  {
   "cell_type": "code",
   "execution_count": 55,
   "id": "41891b46",
   "metadata": {
    "scrolled": true
   },
   "outputs": [
    {
     "name": "stdout",
     "output_type": "stream",
     "text": [
      "conducting subsequent work with the following platform: CUDA\n",
      "[('HarmonicBondForce', 4.5773624247683875), ('HarmonicAngleForce', 29.004860118481027), ('PeriodicTorsionForce', 14.976236339333706), ('NonbondedForce', 66770.07027409678), ('AndersenThermostat', 0.0), ('MonteCarloBarostat', 0.0)]\n",
      "conducting subsequent work with the following platform: CUDA\n",
      "[('CustomBondForce', 4.5773624247683875), ('CustomAngleForce', 30.676180764366656), ('CustomTorsionForce', 15.015954434573812), ('CustomNonbondedForce', -11618.580433337456), ('CustomNonbondedForce', 14488.970730343253), ('CustomBondForce', 63899.68070530242), ('AndersenThermostat', 0.0), ('MonteCarloBarostat', 0.0)]\n",
      "conducting subsequent work with the following platform: CUDA\n",
      "[('HarmonicBondForce', 4.5773624247683875), ('HarmonicAngleForce', 29.004860118481027), ('PeriodicTorsionForce', 14.976236339333706), ('NonbondedForce', -65203.97895621224), ('AndersenThermostat', 0.0), ('MonteCarloBarostat', 0.0)]\n",
      "conducting subsequent work with the following platform: CUDA\n",
      "[('CustomBondForce', -65558.01786357856), ('CustomAngleForce', -65531.91904523895), ('CustomTorsionForce', -65547.57927156876), ('CustomNonbondedForce', -77181.17565934078), ('CustomNonbondedForce', -51073.62449566007), ('CustomBondForce', -1662.91452070091), ('NonbondedForce', -65203.97902161244), ('AndersenThermostat', -65562.59522600332), ('MonteCarloBarostat', -65562.59522600332)]\n",
      "[66770.07027409678] [66770.07100230822]\n",
      "[-65203.97895621224] [-65203.97902161244]\n",
      "Success! Custom nb force and standard nb force energies are equal!\n"
     ]
    }
   ],
   "source": [
    "test_nb_energies(htf, is_solvated=True)"
   ]
  },
  {
   "cell_type": "markdown",
   "id": "1aa884bc",
   "metadata": {},
   "source": [
    "#### New system HarmonicBondForce vs hybrid system CustomBondForce"
   ]
  },
  {
   "cell_type": "code",
   "execution_count": 56,
   "id": "ea1e2d34",
   "metadata": {},
   "outputs": [],
   "source": [
    "# Load htf\n",
    "with open(\"/home/zhangi/choderalab/perses_benchmark/perses_protein_mutations/code/31_rest_over_protocol/cdk2_solvent.pickle\", \"rb\") as f:\n",
    "    htf = pickle.load(f)"
   ]
  },
  {
   "cell_type": "code",
   "execution_count": 57,
   "id": "efc8566f",
   "metadata": {},
   "outputs": [
    {
     "name": "stdout",
     "output_type": "stream",
     "text": [
      "conducting subsequent work with the following platform: CUDA\n",
      "[('HarmonicBondForce', 4.489378129340331), ('HarmonicAngleForce', 30.630126666874034), ('PeriodicTorsionForce', 15.011200335725704), ('NonbondedForce', 66782.47266746471), ('AndersenThermostat', 0.0), ('MonteCarloBarostat', 0.0)]\n",
      "conducting subsequent work with the following platform: CUDA\n",
      "[('CustomBondForce', 4.5773624247683875), ('CustomAngleForce', 30.676180764366656), ('CustomTorsionForce', 15.015954434573812), ('CustomNonbondedForce', -11617.495598709871), ('CustomNonbondedForce', 14493.240231208783), ('CustomBondForce', 63906.728789225155), ('AndersenThermostat', 0.0), ('MonteCarloBarostat', 0.0)]\n",
      "conducting subsequent work with the following platform: CUDA\n",
      "[('HarmonicBondForce', 4.489378129340331), ('HarmonicAngleForce', 30.630126666874034), ('PeriodicTorsionForce', 15.011200335725704), ('NonbondedForce', -65204.787336655856), ('AndersenThermostat', 0.0), ('MonteCarloBarostat', 0.0)]\n",
      "conducting subsequent work with the following platform: CUDA\n",
      "[('CustomBondForce', -65562.22387932948), ('CustomAngleForce', -65536.12506098989), ('CustomTorsionForce', -65551.78528731968), ('CustomNonbondedForce', -77185.38167509172), ('CustomNonbondedForce', -51077.830511411004), ('CustomBondForce', -1667.1205364518391), ('NonbondedForce', -65204.787399873196), ('AndersenThermostat', -65566.80124175426), ('MonteCarloBarostat', -65566.80124175426)]\n",
      "[66782.47266746471] [66782.47342172406]\n",
      "[-65204.787336655856] [-65204.787399873196]\n",
      "Success! Custom nb force and standard nb force energies are equal!\n"
     ]
    }
   ],
   "source": [
    "test_nb_energies(htf, is_old=False, is_solvated=True)"
   ]
  },
  {
   "cell_type": "markdown",
   "id": "b390ade2",
   "metadata": {},
   "source": [
    "### Test one alchemical region, one scale region"
   ]
  },
  {
   "cell_type": "markdown",
   "id": "dc742379",
   "metadata": {},
   "source": [
    "#### Old system HarmonicBondForce vs hybrid system CustomBondForce"
   ]
  },
  {
   "cell_type": "code",
   "execution_count": 59,
   "id": "0858c0e0",
   "metadata": {},
   "outputs": [],
   "source": [
    "# Load htf\n",
    "with open(\"/home/zhangi/choderalab/perses_benchmark/perses_protein_mutations/code/31_rest_over_protocol/cdk2_solvent_scale_region.pickle\", \"rb\") as f:\n",
    "    htf = pickle.load(f)"
   ]
  },
  {
   "cell_type": "code",
   "execution_count": 60,
   "id": "2661b103",
   "metadata": {
    "scrolled": false
   },
   "outputs": [
    {
     "name": "stdout",
     "output_type": "stream",
     "text": [
      "conducting subsequent work with the following platform: CUDA\n",
      "[('HarmonicBondForce', 4.5773624247683875), ('HarmonicAngleForce', 29.004860118481027), ('PeriodicTorsionForce', 14.976236339333706), ('NonbondedForce', 66433.40086528676), ('AndersenThermostat', 0.0), ('MonteCarloBarostat', 0.0)]\n",
      "conducting subsequent work with the following platform: CUDA\n",
      "[('CustomBondForce', 4.5773624247683875), ('CustomAngleForce', 29.800334653456577), ('CustomTorsionForce', 14.98233372968621), ('CustomNonbondedForce', -11682.245408114439), ('CustomNonbondedForce', 14215.963208043462), ('CustomBondForce', 63899.68358862266), ('AndersenThermostat', 0.0), ('MonteCarloBarostat', 0.0)]\n",
      "conducting subsequent work with the following platform: CUDA\n",
      "[('HarmonicBondForce', 4.5773624247683875), ('HarmonicAngleForce', 29.004860118481027), ('PeriodicTorsionForce', 14.976236339333706), ('NonbondedForce', -65124.03514213234), ('AndersenThermostat', 0.0), ('MonteCarloBarostat', 0.0)]\n",
      "conducting subsequent work with the following platform: CUDA\n",
      "[('CustomBondForce', -65558.01786357856), ('CustomAngleForce', -65532.794891349855), ('CustomTorsionForce', -65547.61289227364), ('CustomNonbondedForce', -77244.84063411776), ('CustomNonbondedForce', -51346.63201795986), ('CustomBondForce', -1662.9116373806673), ('NonbondedForce', -65124.03520753254), ('AndersenThermostat', -65562.59522600332), ('MonteCarloBarostat', -65562.59522600332)]\n",
      "[66433.40086528676] [66433.40138855169]\n",
      "[-65124.03514213234] [-65124.03520753254]\n",
      "Success! Custom nb force and standard nb force energies are equal!\n",
      "conducting subsequent work with the following platform: CUDA\n",
      "[('CustomBondForce', 4.5773624247683875), ('CustomAngleForce', 29.800334653456577), ('CustomTorsionForce', 14.98233372968621), ('CustomNonbondedForce', -11682.245408114437), ('CustomNonbondedForce', 14215.963208043462), ('CustomBondForce', 63899.68358862266), ('AndersenThermostat', 0.0), ('MonteCarloBarostat', 0.0)]\n",
      "conducting subsequent work with the following platform: CUDA\n",
      "[('CustomBondForce', 4.5773624247683875), ('CustomAngleForce', 29.800334653456577), ('CustomTorsionForce', 14.98233372968621), ('CustomNonbondedForce', -11681.826852468017), ('CustomNonbondedForce', 14218.304469336284), ('CustomBondForce', 63902.27235316137), ('AndersenThermostat', 0.0), ('MonteCarloBarostat', 0.0)]\n",
      "[66433.40138855169] [66438.74997002963]\n",
      "Success! Scaling the custom nb and bond forces changes the energy\n"
     ]
    }
   ],
   "source": [
    "test_nb_energies(htf, is_solvated=True, check_scale=True)"
   ]
  },
  {
   "cell_type": "markdown",
   "id": "9d93a3cd",
   "metadata": {},
   "source": [
    "#### New system HarmonicBondForce vs hybrid system CustomBondForce"
   ]
  },
  {
   "cell_type": "code",
   "execution_count": 61,
   "id": "c2ab9959",
   "metadata": {},
   "outputs": [],
   "source": [
    "# Load htf\n",
    "with open(\"/home/zhangi/choderalab/perses_benchmark/perses_protein_mutations/code/31_rest_over_protocol/cdk2_solvent_scale_region.pickle\", \"rb\") as f:\n",
    "    htf = pickle.load(f)"
   ]
  },
  {
   "cell_type": "code",
   "execution_count": 62,
   "id": "dacdf51f",
   "metadata": {
    "scrolled": true
   },
   "outputs": [
    {
     "name": "stdout",
     "output_type": "stream",
     "text": [
      "conducting subsequent work with the following platform: CUDA\n",
      "[('HarmonicBondForce', 4.489378129340331), ('HarmonicAngleForce', 29.754280555963955), ('PeriodicTorsionForce', 14.977580108775431), ('NonbondedForce', 66445.4899755582), ('AndersenThermostat', 0.0), ('MonteCarloBarostat', 0.0)]\n",
      "conducting subsequent work with the following platform: CUDA\n",
      "[('CustomBondForce', 4.5773624247683875), ('CustomAngleForce', 29.800334653456577), ('CustomTorsionForce', 14.98233372968621), ('CustomNonbondedForce', -11681.527447749873), ('CustomNonbondedForce', 14220.23056906056), ('CustomBondForce', 63906.78740313257), ('AndersenThermostat', 0.0), ('MonteCarloBarostat', 0.0)]\n",
      "conducting subsequent work with the following platform: CUDA\n",
      "[('HarmonicBondForce', 4.489378129340331), ('HarmonicAngleForce', 29.754280555963955), ('PeriodicTorsionForce', 14.977580108775431), ('NonbondedForce', -65131.244084710044), ('AndersenThermostat', 0.0), ('MonteCarloBarostat', 0.0)]\n",
      "conducting subsequent work with the following platform: CUDA\n",
      "[('CustomBondForce', -65562.22387932948), ('CustomAngleForce', -65537.0009071008), ('CustomTorsionForce', -65551.81890802456), ('CustomNonbondedForce', -77249.04664986869), ('CustomNonbondedForce', -51350.8380337108), ('CustomBondForce', -1667.1176531315962), ('NonbondedForce', -65131.244147927406), ('AndersenThermostat', -65566.80124175426), ('MonteCarloBarostat', -65566.80124175426)]\n",
      "[66445.4899755582] [66445.49052444326]\n",
      "[-65131.244084710044] [-65131.244147927406]\n",
      "Success! Custom nb force and standard nb force energies are equal!\n",
      "conducting subsequent work with the following platform: CUDA\n",
      "[('CustomBondForce', 4.5773624247683875), ('CustomAngleForce', 29.800334653456577), ('CustomTorsionForce', 14.98233372968621), ('CustomNonbondedForce', -11682.245408114437), ('CustomNonbondedForce', 14215.963208043462), ('CustomBondForce', 63899.68358862266), ('AndersenThermostat', 0.0), ('MonteCarloBarostat', 0.0)]\n",
      "conducting subsequent work with the following platform: CUDA\n",
      "[('CustomBondForce', 4.5773624247683875), ('CustomAngleForce', 29.800334653456577), ('CustomTorsionForce', 14.98233372968621), ('CustomNonbondedForce', -11681.826852468017), ('CustomNonbondedForce', 14218.304469336283), ('CustomBondForce', 63902.27235316137), ('AndersenThermostat', 0.0), ('MonteCarloBarostat', 0.0)]\n",
      "[66433.40138855169] [66438.74997002963]\n",
      "Success! Scaling the custom nb and bond forces changes the energy\n"
     ]
    }
   ],
   "source": [
    "test_nb_energies(htf, is_old=False, is_solvated=True, check_scale=True)"
   ]
  },
  {
   "cell_type": "markdown",
   "id": "corrected-meeting",
   "metadata": {},
   "source": [
    "## barnase:barstar (no naked charge fix, no counterion fix)"
   ]
  },
  {
   "cell_type": "markdown",
   "id": "japanese-persian",
   "metadata": {},
   "source": [
    "### Test one alchemical region, no scale regions"
   ]
  },
  {
   "cell_type": "markdown",
   "id": "dated-desire",
   "metadata": {},
   "source": [
    "#### Old system nonbondeds vs hybrid system nonbondeds"
   ]
  },
  {
   "cell_type": "code",
   "execution_count": 26,
   "id": "excellent-cosmetic",
   "metadata": {},
   "outputs": [],
   "source": [
    "# Load htf\n",
    "with open(\"bnbs_apo.pickle\", \"rb\") as f:\n",
    "    htf = pickle.load(f)\n",
    "    "
   ]
  },
  {
   "cell_type": "code",
   "execution_count": 27,
   "id": "bigger-meeting",
   "metadata": {
    "scrolled": true
   },
   "outputs": [
    {
     "name": "stdout",
     "output_type": "stream",
     "text": [
      "conducting subsequent work with the following platform: CUDA\n",
      "[('HarmonicBondForce', 235.19170527285917), ('HarmonicAngleForce', 617.0801971492558), ('PeriodicTorsionForce', 1827.6228592530676), ('NonbondedForce', 57571456.6629012), ('AndersenThermostat', 0.0), ('MonteCarloBarostat', 0.0)]\n",
      "conducting subsequent work with the following platform: CUDA\n",
      "[('CustomBondForce', 235.19170527285917), ('CustomAngleForce', 618.469614075649), ('CustomTorsionForce', 1827.650565186107), ('CustomNonbondedForce', -79221.28149200724), ('CustomNonbondedForce', 57203102.40806319), ('CustomBondForce', 447603.8036728785), ('AndersenThermostat', 0.0), ('MonteCarloBarostat', 0.0)]\n",
      "AndersenCollisionFrequency 1.0\n",
      "AndersenTemperature 300.0\n",
      "MonteCarloPressure 1.01325\n",
      "MonteCarloTemperature 300.0\n",
      "lambda_alchemical_angles_new 0.0\n",
      "lambda_alchemical_angles_old 1.0\n",
      "lambda_alchemical_bonds_new 0.0\n",
      "lambda_alchemical_bonds_old 1.0\n",
      "lambda_alchemical_electrostatics_exceptions_new 0.0\n",
      "lambda_alchemical_electrostatics_exceptions_old 1.0\n",
      "lambda_alchemical_electrostatics_new 0.0\n",
      "lambda_alchemical_electrostatics_old 1.0\n",
      "lambda_alchemical_sterics_exceptions_new 0.0\n",
      "lambda_alchemical_sterics_exceptions_old 1.0\n",
      "lambda_alchemical_sterics_new 0.0\n",
      "lambda_alchemical_sterics_old 1.0\n",
      "lambda_alchemical_torsions_new 0.0\n",
      "lambda_alchemical_torsions_old 1.0\n",
      "lambda_rest_angles 1.0\n",
      "lambda_rest_bonds 1.0\n",
      "lambda_rest_electrostatics 1.0\n",
      "lambda_rest_electrostatics_exceptions 1.0\n",
      "lambda_rest_sterics 1.0\n",
      "lambda_rest_sterics_exceptions 1.0\n",
      "lambda_rest_torsions 1.0\n",
      "[57571456.6629012] [57571484.93024406]\n",
      "conducting subsequent work with the following platform: CUDA\n",
      "[('HarmonicBondForce', 235.19170527285917), ('HarmonicAngleForce', 617.0801971492558), ('PeriodicTorsionForce', 1827.6228592530676), ('NonbondedForce', -452699.4652434025), ('AndersenThermostat', 0.0), ('MonteCarloBarostat', 0.0)]\n",
      "conducting subsequent work with the following platform: CUDA\n",
      "[('CustomBondForce', -455343.093717018), ('CustomAngleForce', -454959.8158082153), ('CustomTorsionForce', -453750.6348571048), ('CustomNonbondedForce', -534799.5669142982), ('CustomNonbondedForce', 56747524.12264089), ('CustomBondForce', -7974.481749412471), ('NonbondedForce', -452699.4657146949), ('AndersenThermostat', -455578.28542229097), ('MonteCarloBarostat', -455578.28542229097)]\n",
      "[-452699.4652434025] [-452699.4657146949]\n",
      "Success! Custom nb force and standard nb force energies are equal!\n"
     ]
    }
   ],
   "source": [
    "test_nb_energies(htf, is_solvated=True)\n"
   ]
  },
  {
   "cell_type": "markdown",
   "id": "satisfactory-taxation",
   "metadata": {},
   "source": [
    "#### New system nonbondeds vs hybrid system nonbondeds"
   ]
  },
  {
   "cell_type": "code",
   "execution_count": 10,
   "id": "turkish-exclusive",
   "metadata": {},
   "outputs": [],
   "source": [
    "# Load htf\n",
    "with open(\"bnbs_apo.pickle\", \"rb\") as f:\n",
    "    htf = pickle.load(f)"
   ]
  },
  {
   "cell_type": "code",
   "execution_count": 11,
   "id": "cordless-kitty",
   "metadata": {
    "scrolled": true
   },
   "outputs": [
    {
     "name": "stdout",
     "output_type": "stream",
     "text": [
      "conducting subsequent work with the following platform: CUDA\n",
      "[('HarmonicBondForce', 234.85763005447197), ('HarmonicAngleForce', 616.116462838331), ('PeriodicTorsionForce', 1817.399334662456), ('NonbondedForce', 57572024.87828817), ('AndersenThermostat', 0.0), ('MonteCarloBarostat', 0.0)]\n",
      "conducting subsequent work with the following platform: CUDA\n",
      "[('CustomBondForce', 235.19170527285917), ('CustomAngleForce', 617.8183673912378), ('CustomTorsionForce', 1827.6515646557948), ('CustomNonbondedForce', -79013.15928562051), ('CustomNonbondedForce', 57203475.60907662), ('CustomBondForce', 447590.696971324), ('AndersenThermostat', 0.0), ('MonteCarloBarostat', 0.0)]\n",
      "AndersenCollisionFrequency 1.0\n",
      "AndersenTemperature 300.0\n",
      "MonteCarloPressure 1.01325\n",
      "MonteCarloTemperature 300.0\n",
      "lambda_alchemical_angles_new 0.0\n",
      "lambda_alchemical_angles_old 1.0\n",
      "lambda_alchemical_bonds_new 0.0\n",
      "lambda_alchemical_bonds_old 1.0\n",
      "lambda_alchemical_electrostatics_exceptions_new 1.0\n",
      "lambda_alchemical_electrostatics_exceptions_old 0.0\n",
      "lambda_alchemical_electrostatics_new 1.0\n",
      "lambda_alchemical_electrostatics_old 0.0\n",
      "lambda_alchemical_sterics_exceptions_new 1.0\n",
      "lambda_alchemical_sterics_exceptions_old 0.0\n",
      "lambda_alchemical_sterics_new 1.0\n",
      "lambda_alchemical_sterics_old 0.0\n",
      "lambda_alchemical_torsions_new 0.0\n",
      "lambda_alchemical_torsions_old 1.0\n",
      "lambda_rest_angles 1.0\n",
      "lambda_rest_bonds 1.0\n",
      "lambda_rest_electrostatics 1.0\n",
      "lambda_rest_electrostatics_exceptions 1.0\n",
      "lambda_rest_sterics 1.0\n",
      "lambda_rest_sterics_exceptions 1.0\n",
      "lambda_rest_torsions 1.0\n",
      "[57572024.87828817] [57572053.14676233]\n",
      "conducting subsequent work with the following platform: CUDA\n",
      "[('HarmonicBondForce', 234.85763005447197), ('HarmonicAngleForce', 616.116462838331), ('PeriodicTorsionForce', 1817.399334662456), ('NonbondedForce', -452541.03023212845), ('AndersenThermostat', 0.0), ('MonteCarloBarostat', 0.0)]\n",
      "conducting subsequent work with the following platform: CUDA\n",
      "[('CustomBondForce', -455274.62743289804), ('CustomAngleForce', -454892.0007707796), ('CustomTorsionForce', -453682.1675735151), ('CustomNonbondedForce', -534530.8989749069), ('CustomNonbondedForce', 56747961.56512203), ('CustomBondForce', -7905.867870369795), ('NonbondedForce', -452541.0307006462), ('AndersenThermostat', -455509.81913817086), ('MonteCarloBarostat', -455509.81913817086)]\n",
      "[-452541.03023212845] [-452541.0307006462]\n",
      "Success! Custom nb force and standard nb force energies are equal!\n"
     ]
    }
   ],
   "source": [
    "test_nb_energies(htf, is_old=False, is_solvated=True)\n"
   ]
  },
  {
   "cell_type": "code",
   "execution_count": null,
   "id": "7ba99c4b",
   "metadata": {},
   "outputs": [],
   "source": [
    "# TO DO: actually test the scaling of the energies matches"
   ]
  }
 ],
 "metadata": {
  "kernelspec": {
   "display_name": "Python 3 (ipykernel)",
   "language": "python",
   "name": "python3"
  },
  "language_info": {
   "codemirror_mode": {
    "name": "ipython",
    "version": 3
   },
   "file_extension": ".py",
   "mimetype": "text/x-python",
   "name": "python",
   "nbconvert_exporter": "python",
   "pygments_lexer": "ipython3",
   "version": "3.8.11"
  }
 },
 "nbformat": 4,
 "nbformat_minor": 5
}
