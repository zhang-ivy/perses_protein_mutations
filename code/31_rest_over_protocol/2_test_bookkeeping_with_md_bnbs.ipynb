{
 "cells": [
  {
   "cell_type": "markdown",
   "id": "b4392b56",
   "metadata": {},
   "source": [
    "## Run MD with vanilla/og system and then check that difference in energies between vanilla vs hybrid system are close to 0"
   ]
  },
  {
   "cell_type": "code",
   "execution_count": 1,
   "id": "7119fbbe",
   "metadata": {},
   "outputs": [
    {
     "name": "stderr",
     "output_type": "stream",
     "text": [
      "Warning: importing 'simtk.openmm' is deprecated.  Import 'openmm' instead.\n",
      "INFO:rdkit:Enabling RDKit 2021.03.4 jupyter extensions\n"
     ]
    }
   ],
   "source": [
    "from tqdm import tqdm_notebook\n",
    "import openmmtools\n",
    "import matplotlib.pyplot as plt\n",
    "import pickle\n",
    "\n",
    "from simtk import openmm\n",
    "from simtk.openmm import unit\n",
    "import openmmtools\n",
    "from openmmtools.states import SamplerState, ThermodynamicState, CompoundThermodynamicState\n",
    "from openmmtools import cache\n",
    "from openmmtools.constants import kB\n",
    "\n",
    "from perses.annihilation.lambda_protocol import RESTState, RESTCapableRelativeAlchemicalState, RESTCapableLambdaProtocol\n",
    "from perses.dispersed import feptasks\n",
    "\n",
    "import numpy as np\n",
    "\n",
    "from perses.app.relative_point_mutation_setup import PointMutationExecutor\n"
   ]
  },
  {
   "cell_type": "markdown",
   "id": "2caad53a",
   "metadata": {},
   "source": [
    "## Generate htf"
   ]
  },
  {
   "cell_type": "code",
   "execution_count": 2,
   "id": "2728275a",
   "metadata": {
    "scrolled": true
   },
   "outputs": [
    {
     "name": "stderr",
     "output_type": "stream",
     "text": [
      "DEBUG:openmmforcefields.system_generators:Trying GAFFTemplateGenerator to load gaff-2.11\n",
      "INFO:setup:solvating at 0.05 M using tip3p\n",
      "INFO:proposal_generator:\tConducting polymer point mutation proposal...\n",
      "INFO:proposal_generator:local_atom_map: {669: 669, 670: 670, 671: 671, 672: 672, 673: 673, 674: 676, 675: 677}\n",
      "INFO:proposal_generator:the mapped atom names are: [('N', 'N'), ('CA', 'CA'), ('C', 'C'), ('O', 'O'), ('CB', 'CB'), ('H', 'H'), ('HA', 'HA')]\n",
      "INFO:setup:Changed particle 201's epsilon from 0.0 kJ/mol to 0.0001 kJ/mol\n",
      "INFO:setup:Changed particle 201's sigma from 1.0 nm to 0.1 nm\n",
      "INFO:setup:Changed particle 231's epsilon from 0.0 kJ/mol to 0.0001 kJ/mol\n",
      "INFO:setup:Changed particle 231's sigma from 1.0 nm to 0.1 nm\n",
      "INFO:setup:Changed particle 307's epsilon from 0.0 kJ/mol to 0.0001 kJ/mol\n",
      "INFO:setup:Changed particle 307's sigma from 1.0 nm to 0.1 nm\n",
      "INFO:setup:Changed particle 486's epsilon from 0.0 kJ/mol to 0.0001 kJ/mol\n",
      "INFO:setup:Changed particle 486's sigma from 1.0 nm to 0.1 nm\n",
      "INFO:setup:Changed particle 507's epsilon from 0.0 kJ/mol to 0.0001 kJ/mol\n",
      "INFO:setup:Changed particle 507's sigma from 1.0 nm to 0.1 nm\n",
      "INFO:setup:Changed particle 679's epsilon from 0.0 kJ/mol to 0.0001 kJ/mol\n",
      "INFO:setup:Changed particle 679's sigma from 1.0 nm to 0.1 nm\n",
      "INFO:setup:Changed particle 765's epsilon from 0.0 kJ/mol to 0.0001 kJ/mol\n",
      "INFO:setup:Changed particle 765's sigma from 1.0 nm to 0.1 nm\n",
      "INFO:setup:Changed particle 976's epsilon from 0.0 kJ/mol to 0.0001 kJ/mol\n",
      "INFO:setup:Changed particle 976's sigma from 1.0 nm to 0.1 nm\n",
      "INFO:setup:Changed particle 1045's epsilon from 0.0 kJ/mol to 0.0001 kJ/mol\n",
      "INFO:setup:Changed particle 1045's sigma from 1.0 nm to 0.1 nm\n",
      "INFO:setup:Changed particle 1120's epsilon from 0.0 kJ/mol to 0.0001 kJ/mol\n",
      "INFO:setup:Changed particle 1120's sigma from 1.0 nm to 0.1 nm\n",
      "INFO:setup:Changed particle 1363's epsilon from 0.0 kJ/mol to 0.0001 kJ/mol\n",
      "INFO:setup:Changed particle 1363's sigma from 1.0 nm to 0.1 nm\n",
      "INFO:setup:Changed particle 1434's epsilon from 0.0 kJ/mol to 0.0001 kJ/mol\n",
      "INFO:setup:Changed particle 1434's sigma from 1.0 nm to 0.1 nm\n",
      "INFO:setup:Changed particle 201's epsilon from 0.0 kJ/mol to 0.0001 kJ/mol\n",
      "INFO:setup:Changed particle 201's sigma from 1.0 nm to 0.1 nm\n",
      "INFO:setup:Changed particle 231's epsilon from 0.0 kJ/mol to 0.0001 kJ/mol\n",
      "INFO:setup:Changed particle 231's sigma from 1.0 nm to 0.1 nm\n",
      "INFO:setup:Changed particle 307's epsilon from 0.0 kJ/mol to 0.0001 kJ/mol\n",
      "INFO:setup:Changed particle 307's sigma from 1.0 nm to 0.1 nm\n",
      "INFO:setup:Changed particle 486's epsilon from 0.0 kJ/mol to 0.0001 kJ/mol\n",
      "INFO:setup:Changed particle 486's sigma from 1.0 nm to 0.1 nm\n",
      "INFO:setup:Changed particle 507's epsilon from 0.0 kJ/mol to 0.0001 kJ/mol\n",
      "INFO:setup:Changed particle 507's sigma from 1.0 nm to 0.1 nm\n",
      "INFO:setup:Changed particle 761's epsilon from 0.0 kJ/mol to 0.0001 kJ/mol\n",
      "INFO:setup:Changed particle 761's sigma from 1.0 nm to 0.1 nm\n",
      "INFO:setup:Changed particle 972's epsilon from 0.0 kJ/mol to 0.0001 kJ/mol\n",
      "INFO:setup:Changed particle 972's sigma from 1.0 nm to 0.1 nm\n",
      "INFO:setup:Changed particle 1041's epsilon from 0.0 kJ/mol to 0.0001 kJ/mol\n",
      "INFO:setup:Changed particle 1041's sigma from 1.0 nm to 0.1 nm\n",
      "INFO:setup:Changed particle 1116's epsilon from 0.0 kJ/mol to 0.0001 kJ/mol\n",
      "INFO:setup:Changed particle 1116's sigma from 1.0 nm to 0.1 nm\n",
      "INFO:setup:Changed particle 1359's epsilon from 0.0 kJ/mol to 0.0001 kJ/mol\n",
      "INFO:setup:Changed particle 1359's sigma from 1.0 nm to 0.1 nm\n",
      "INFO:setup:Changed particle 1430's epsilon from 0.0 kJ/mol to 0.0001 kJ/mol\n",
      "INFO:setup:Changed particle 1430's sigma from 1.0 nm to 0.1 nm\n",
      "INFO:geometry:propose: performing forward proposal\n",
      "INFO:geometry:propose: unique new atoms detected; proceeding to _logp_propose...\n",
      "INFO:geometry:Conducting forward proposal...\n",
      "INFO:geometry:Computing proposal order with NetworkX...\n",
      "INFO:geometry:number of atoms to be placed: 3\n",
      "INFO:geometry:Atom index proposal order is [678, 676, 677]\n",
      "INFO:geometry:omitted_bonds: []\n",
      "INFO:geometry:direction of proposal is forward; creating atoms_with_positions and new positions from old system/topology...\n",
      "INFO:geometry:creating growth system...\n",
      "INFO:geometry:\tcreating bond force...\n",
      "INFO:geometry:\tthere are 733 bonds in reference force.\n",
      "INFO:geometry:\tcreating angle force...\n",
      "INFO:geometry:\tthere are 2628 angles in reference force.\n",
      "INFO:geometry:\tcreating torsion force...\n",
      "INFO:geometry:\tcreating extra torsions force...\n",
      "INFO:geometry:\tthere are 4943 torsions in reference force.\n",
      "INFO:geometry:\tcreating nonbonded force...\n",
      "INFO:geometry:\t\tgrabbing reference nonbonded method, cutoff, switching function, switching distance...\n",
      "INFO:geometry:\t\tcreating nonbonded exception force (i.e. custom bond for 1,4s)...\n",
      "INFO:geometry:\t\tlooping through exceptions calculating growth indices, and adding appropriate interactions to custom bond force.\n",
      "INFO:geometry:\t\tthere are 22457 in the reference Nonbonded force\n",
      "INFO:geometry:Neglected angle terms : []\n",
      "INFO:geometry:omitted_growth_terms: {'bonds': [], 'angles': [], 'torsions': [], '1,4s': []}\n",
      "INFO:geometry:extra torsions: {0: (669, 670, 673, 676, [1, Quantity(value=2.105358864604291, unit=radian), Quantity(value=1200.0, unit=kilocalorie/mole), 2]), 1: (669, 670, 673, 677, [1, Quantity(value=-2.0823006129211796, unit=radian), Quantity(value=1200.0, unit=kilocalorie/mole), 3]), 2: (669, 670, 673, 678, [1, Quantity(value=0.018582237407944735, unit=radian), Quantity(value=1200.0, unit=kilocalorie/mole), 1]), 3: (671, 670, 673, 676, [1, Quantity(value=-0.036945135932107576, unit=radian), Quantity(value=1200.0, unit=kilocalorie/mole), 2]), 4: (671, 670, 673, 677, [1, Quantity(value=2.0585806937220097, unit=radian), Quantity(value=1200.0, unit=kilocalorie/mole), 3]), 5: (671, 670, 673, 678, [1, Quantity(value=-2.1237217631284597, unit=radian), Quantity(value=1200.0, unit=kilocalorie/mole), 1]), 6: (675, 670, 673, 676, [1, Quantity(value=-2.119603470065817, unit=radian), Quantity(value=1200.0, unit=kilocalorie/mole), 2]), 7: (675, 670, 673, 677, [1, Quantity(value=-0.024077640411697132, unit=radian), Quantity(value=1200.0, unit=kilocalorie/mole), 3]), 8: (675, 670, 673, 678, [1, Quantity(value=2.0768052099174152, unit=radian), Quantity(value=1200.0, unit=kilocalorie/mole), 1])}\n",
      "INFO:geometry:neglected angle terms include []\n",
      "INFO:geometry:log probability choice of torsions and atom order: -5.0875963352323845\n",
      "INFO:geometry:creating platform, integrators, and contexts; setting growth parameter\n"
     ]
    },
    {
     "name": "stdout",
     "output_type": "stream",
     "text": [
      "conducting subsequent work with the following platform: CUDA\n",
      "conducting subsequent work with the following platform: CUDA\n"
     ]
    },
    {
     "name": "stderr",
     "output_type": "stream",
     "text": [
      "INFO:geometry:setting atoms_with_positions context new positions\n"
     ]
    },
    {
     "name": "stdout",
     "output_type": "stream",
     "text": [
      "conducting subsequent work with the following platform: CUDA\n"
     ]
    },
    {
     "name": "stderr",
     "output_type": "stream",
     "text": [
      "INFO:geometry:There are 3 new atoms\n",
      "INFO:geometry:\treduced angle potential = 0.3934403300997135.\n",
      "INFO:geometry:\treduced angle potential = 0.5684421563808242.\n",
      "INFO:geometry:\treduced angle potential = 0.2613875598919042.\n",
      "INFO:geometry:\tbeginning construction of no_nonbonded final system...\n",
      "INFO:geometry:\tinitial no-nonbonded final system forces ['HarmonicBondForce', 'HarmonicAngleForce', 'PeriodicTorsionForce', 'NonbondedForce', 'MonteCarloBarostat']\n",
      "INFO:geometry:\tfinal no-nonbonded final system forces dict_keys(['HarmonicBondForce', 'HarmonicAngleForce', 'PeriodicTorsionForce', 'NonbondedForce'])\n",
      "INFO:geometry:\tthere are 733 bond forces in the no-nonbonded final system\n",
      "INFO:geometry:\tthere are 2628 angle forces in the no-nonbonded final system\n",
      "INFO:geometry:\tthere are 4943 torsion forces in the no-nonbonded final system\n",
      "INFO:geometry:forward final system defined with 0 neglected angles.\n"
     ]
    },
    {
     "name": "stdout",
     "output_type": "stream",
     "text": [
      "conducting subsequent work with the following platform: CUDA\n",
      "conducting subsequent work with the following platform: CUDA\n"
     ]
    },
    {
     "name": "stderr",
     "output_type": "stream",
     "text": [
      "INFO:geometry:total reduced potential before atom placement: 2667.606655043375\n"
     ]
    },
    {
     "name": "stdout",
     "output_type": "stream",
     "text": [
      "conducting subsequent work with the following platform: CUDA\n",
      "conducting subsequent work with the following platform: CUDA\n"
     ]
    },
    {
     "name": "stderr",
     "output_type": "stream",
     "text": [
      "INFO:geometry:total reduced energy added from growth system: 10.320194074673378\n",
      "INFO:geometry:final reduced energy 2677.9268488685475\n",
      "INFO:geometry:sum of energies: 2677.9268491180487\n",
      "INFO:geometry:magnitude of difference in the energies: 2.495010953396104e-07\n",
      "INFO:geometry:Final logp_proposal: 20.29308198772691\n"
     ]
    },
    {
     "name": "stdout",
     "output_type": "stream",
     "text": [
      "conducting subsequent work with the following platform: CUDA\n",
      "added energy components: [('CustomBondForce', 0.0), ('CustomAngleForce', 1.3894169263932388), ('CustomTorsionForce', 0.027602853790119414), ('CustomBondForce', 8.90317429449002)]\n"
     ]
    },
    {
     "name": "stderr",
     "output_type": "stream",
     "text": [
      "INFO:geometry:logp_reverse: performing reverse proposal\n",
      "INFO:geometry:logp_reverse: unique new atoms detected; proceeding to _logp_propose...\n",
      "INFO:geometry:Conducting forward proposal...\n",
      "INFO:geometry:Computing proposal order with NetworkX...\n",
      "INFO:geometry:number of atoms to be placed: 7\n",
      "INFO:geometry:Atom index proposal order is [674, 675, 681, 678, 680, 682, 679]\n",
      "INFO:geometry:omitted_bonds: []\n",
      "INFO:geometry:direction of proposal is reverse; creating atoms_with_positions from old system/topology\n",
      "INFO:geometry:creating growth system...\n",
      "INFO:geometry:\tcreating bond force...\n",
      "INFO:geometry:\tthere are 735 bonds in reference force.\n",
      "INFO:geometry:\tcreating angle force...\n",
      "INFO:geometry:\tthere are 2635 angles in reference force.\n",
      "INFO:geometry:\tcreating torsion force...\n",
      "INFO:geometry:\tcreating extra torsions force...\n",
      "INFO:geometry:\tthere are 4973 torsions in reference force.\n",
      "INFO:geometry:\tcreating nonbonded force...\n",
      "INFO:geometry:\t\tgrabbing reference nonbonded method, cutoff, switching function, switching distance...\n",
      "INFO:geometry:\t\tcreating nonbonded exception force (i.e. custom bond for 1,4s)...\n",
      "INFO:geometry:\t\tlooping through exceptions calculating growth indices, and adding appropriate interactions to custom bond force.\n",
      "INFO:geometry:\t\tthere are 22480 in the reference Nonbonded force\n",
      "INFO:geometry:Neglected angle terms : []\n",
      "INFO:geometry:omitted_growth_terms: {'bonds': [], 'angles': [], 'torsions': [], '1,4s': []}\n",
      "INFO:geometry:extra torsions: {0: (679, 674, 673, 670, [1, Quantity(value=-0.07858019216845058, unit=radian), Quantity(value=1200.0, unit=kilocalorie/mole), 7]), 1: (679, 674, 673, 675, [1, Quantity(value=2.118586571250296, unit=radian), Quantity(value=1200.0, unit=kilocalorie/mole), 7]), 2: (679, 674, 673, 678, [1, Quantity(value=-2.149781203448759, unit=radian), Quantity(value=1200.0, unit=kilocalorie/mole), 7]), 3: (670, 673, 675, 682, [1, Quantity(value=-2.1249532223845904, unit=radian), Quantity(value=1200.0, unit=kilocalorie/mole), 6]), 4: (670, 673, 675, 681, [1, Quantity(value=2.0543043017157916, unit=radian), Quantity(value=1200.0, unit=kilocalorie/mole), 3]), 5: (670, 673, 675, 680, [1, Quantity(value=-0.02223392579985184, unit=radian), Quantity(value=1200.0, unit=kilocalorie/mole), 5]), 6: (674, 673, 675, 682, [1, Quantity(value=2.0255587336734213, unit=radian), Quantity(value=1200.0, unit=kilocalorie/mole), 6]), 7: (674, 673, 675, 681, [1, Quantity(value=-0.07836904940578293, unit=radian), Quantity(value=1200.0, unit=kilocalorie/mole), 3]), 8: (674, 673, 675, 680, [1, Quantity(value=-2.154907276921426, unit=radian), Quantity(value=1200.0, unit=kilocalorie/mole), 5]), 9: (678, 673, 675, 682, [1, Quantity(value=0.007583009583349565, unit=radian), Quantity(value=1200.0, unit=kilocalorie/mole), 6]), 10: (678, 673, 675, 681, [1, Quantity(value=-2.096344773495849, unit=radian), Quantity(value=1200.0, unit=kilocalorie/mole), 4]), 11: (678, 673, 675, 680, [1, Quantity(value=2.1103023061680943, unit=radian), Quantity(value=1200.0, unit=kilocalorie/mole), 5]), 12: (674, 673, 670, 675, [1, Quantity(value=-1.0655064807976995, unit=radian), Quantity(value=1200.0, unit=kilocalorie/mole), 2])}\n",
      "INFO:geometry:neglected angle terms include []\n",
      "INFO:geometry:log probability choice of torsions and atom order: -12.678448458920965\n",
      "INFO:geometry:creating platform, integrators, and contexts; setting growth parameter\n"
     ]
    },
    {
     "name": "stdout",
     "output_type": "stream",
     "text": [
      "conducting subsequent work with the following platform: CUDA\n"
     ]
    },
    {
     "name": "stderr",
     "output_type": "stream",
     "text": [
      "INFO:geometry:setting atoms_with_positions context old positions\n"
     ]
    },
    {
     "name": "stdout",
     "output_type": "stream",
     "text": [
      "conducting subsequent work with the following platform: CUDA\n"
     ]
    },
    {
     "name": "stderr",
     "output_type": "stream",
     "text": [
      "INFO:geometry:There are 7 new atoms\n",
      "INFO:geometry:\treduced angle potential = 1.1717867235443227.\n",
      "INFO:geometry:\treduced angle potential = 0.15088552138282585.\n",
      "INFO:geometry:\treduced angle potential = 2.0226598106735676e-06.\n",
      "INFO:geometry:\treduced angle potential = 0.0014485627329499679.\n",
      "INFO:geometry:\treduced angle potential = 6.103681872621702e-06.\n",
      "INFO:geometry:\treduced angle potential = 8.429836390053187e-06.\n",
      "INFO:geometry:\treduced angle potential = 0.0037318575268475676.\n",
      "INFO:geometry:\tbeginning construction of no_nonbonded final system...\n",
      "INFO:geometry:\tinitial no-nonbonded final system forces ['HarmonicBondForce', 'HarmonicAngleForce', 'PeriodicTorsionForce', 'NonbondedForce', 'MonteCarloBarostat']\n",
      "INFO:geometry:\tfinal no-nonbonded final system forces dict_keys(['HarmonicBondForce', 'HarmonicAngleForce', 'PeriodicTorsionForce', 'NonbondedForce'])\n",
      "INFO:geometry:\tthere are 735 bond forces in the no-nonbonded final system\n",
      "INFO:geometry:\tthere are 2635 angle forces in the no-nonbonded final system\n",
      "INFO:geometry:\tthere are 4973 torsion forces in the no-nonbonded final system\n",
      "INFO:geometry:reverse final system defined with 0 neglected angles.\n"
     ]
    },
    {
     "name": "stdout",
     "output_type": "stream",
     "text": [
      "conducting subsequent work with the following platform: CUDA\n",
      "conducting subsequent work with the following platform: CUDA\n"
     ]
    },
    {
     "name": "stderr",
     "output_type": "stream",
     "text": [
      "INFO:geometry:total reduced potential before atom placement: 2667.6066550433757\n"
     ]
    },
    {
     "name": "stdout",
     "output_type": "stream",
     "text": [
      "conducting subsequent work with the following platform: CUDA\n",
      "conducting subsequent work with the following platform: CUDA\n"
     ]
    },
    {
     "name": "stderr",
     "output_type": "stream",
     "text": [
      "INFO:geometry:total reduced energy added from growth system: -60.958199568475365\n",
      "INFO:geometry:final reduced energy 2606.648455666519\n",
      "INFO:geometry:sum of energies: 2606.6484554749004\n",
      "INFO:geometry:magnitude of difference in the energies: 1.9161880970841594e-07\n",
      "INFO:geometry:Final logp_proposal: -7282.490340295291\n"
     ]
    },
    {
     "name": "stdout",
     "output_type": "stream",
     "text": [
      "conducting subsequent work with the following platform: CUDA\n",
      "added energy components: [('CustomBondForce', 0.33407521838716286), ('CustomAngleForce', 1.7019045529067363), ('CustomTorsionForce', 10.252126980649416), ('CustomBondForce', -73.24630632041867)]\n"
     ]
    },
    {
     "name": "stderr",
     "output_type": "stream",
     "text": [
      "INFO:setup:charge diff: 0\n",
      "INFO:relative:*** Generating RESTCapableHybridTopologyFactory ***\n",
      "INFO:relative:Old system forces: dict_keys(['HarmonicBondForce', 'HarmonicAngleForce', 'PeriodicTorsionForce', 'NonbondedForce', 'MonteCarloBarostat'])\n",
      "INFO:relative:New system forces: dict_keys(['HarmonicBondForce', 'HarmonicAngleForce', 'PeriodicTorsionForce', 'NonbondedForce', 'MonteCarloBarostat'])\n",
      "INFO:relative:No unknown forces.\n",
      "INFO:relative:r_cutoff is 1.0 nm\n",
      "INFO:relative:alpha_ewald is 2.7569734238004693\n",
      "INFO:relative:w_scale is 0.1\n",
      "INFO:relative:Creating hybrid system\n",
      "INFO:relative:Adding and mapping old atoms to hybrid system...\n",
      "INFO:relative:Adding and mapping new atoms to hybrid system...\n",
      "INFO:relative:Added MonteCarloBarostat.\n",
      "INFO:relative:getDefaultPeriodicBoxVectors added to hybrid: [Quantity(value=Vec3(x=5.564, y=0.0, z=0.0), unit=nanometer), Quantity(value=Vec3(x=0.0, y=5.564, z=0.0), unit=nanometer), Quantity(value=Vec3(x=0.0, y=0.0, z=5.564), unit=nanometer)]\n",
      "INFO:relative:Determined atom classes.\n",
      "INFO:relative:Computed hybrid positions\n",
      "INFO:relative:Created hybrid topology\n",
      "INFO:relative:Generating rest_region with query indices: [669, 670, 671, 672, 673, 674, 675, 676, 677, 678, 679, 680, 681, 682, 16044, 16045, 16046]\n",
      "INFO:relative:Rest radius: 0.2 nm\n",
      "INFO:relative:Rest region: [607, 652, 669, 670, 671, 672, 673, 674, 675, 676, 677, 678, 679, 680, 681, 682, 16044, 16045, 16046, 683]\n",
      "INFO:relative:Prepped look up dict for determining if atom is solvent\n",
      "INFO:relative:Generating old system exceptions dict...\n",
      "INFO:relative:Generating new system exceptions dict...\n",
      "INFO:relative:Handling constraints...\n",
      "INFO:relative:Handling virtual sites...\n",
      "INFO:relative:\t_handle_virtual_sites: numVirtualSites: 0\n",
      "INFO:relative:Handling bonds...\n",
      "INFO:relative:Handling angles...\n",
      "INFO:relative:Handling torsions...\n",
      "INFO:relative:Handling nonbondeds (creating forces)...\n",
      "INFO:relative:Handling nonbondeds (copying nonbonded particles)...\n",
      "INFO:relative:Handling nonbondeds (copying nonbonded exceptions)...\n"
     ]
    }
   ],
   "source": [
    "solvent_delivery = PointMutationExecutor(\"../../input/1brs_barstar_renumbered.pdb\",\n",
    "                        '1',\n",
    "                        '42',\n",
    "                        'ALA',\n",
    "#                         ligand_input=\"../../input/1brs_barnase_renumbered.pdb\",\n",
    "                        forcefield_files=['amber14/protein.ff14SB.xml', 'amber14/tip3p.xml'],\n",
    "                        ionic_strength=0.05*unit.molar,\n",
    "                        rest_radius=0.2,\n",
    "                        generate_unmodified_hybrid_topology_factory=False,\n",
    "                        generate_rest_capable_hybrid_topology_factory=True,\n",
    "                        conduct_endstate_validation=False,\n",
    "                       )"
   ]
  },
  {
   "cell_type": "code",
   "execution_count": 3,
   "id": "a3e6abbc",
   "metadata": {},
   "outputs": [],
   "source": [
    "# pickle.dump(solvent_delivery.get_complex_htf(), open(\"bnbs_complex.pickle\", \"wb\" ))\n",
    "pickle.dump(solvent_delivery.get_apo_htf(), open(\"bnbs_apo.pickle\", \"wb\" ))\n"
   ]
  },
  {
   "cell_type": "code",
   "execution_count": 9,
   "id": "1ddc5f89",
   "metadata": {},
   "outputs": [
    {
     "name": "stdout",
     "output_type": "stream",
     "text": [
      "673 6.026000000000001 Da 9.018 Da\n"
     ]
    },
    {
     "ename": "OpenMMException",
     "evalue": "Assertion failure at System.cpp:55.  Index out of range",
     "output_type": "error",
     "traceback": [
      "\u001b[0;31m---------------------------------------------------------------------------\u001b[0m",
      "\u001b[0;31mOpenMMException\u001b[0m                           Traceback (most recent call last)",
      "\u001b[0;32m/scratch/lsftmp/4107629.tmpdir/ipykernel_53098/3383709398.py\u001b[0m in \u001b[0;36m<module>\u001b[0;34m\u001b[0m\n\u001b[1;32m      2\u001b[0m \u001b[0mhybrid_system\u001b[0m \u001b[0;34m=\u001b[0m \u001b[0msolvent_delivery\u001b[0m\u001b[0;34m.\u001b[0m\u001b[0mget_apo_htf\u001b[0m\u001b[0;34m(\u001b[0m\u001b[0;34m)\u001b[0m\u001b[0;34m.\u001b[0m\u001b[0mhybrid_system\u001b[0m\u001b[0;34m\u001b[0m\u001b[0;34m\u001b[0m\u001b[0m\n\u001b[1;32m      3\u001b[0m \u001b[0;32mfor\u001b[0m \u001b[0mi\u001b[0m \u001b[0;32min\u001b[0m \u001b[0mrange\u001b[0m\u001b[0;34m(\u001b[0m\u001b[0mhybrid_system\u001b[0m\u001b[0;34m.\u001b[0m\u001b[0mgetNumParticles\u001b[0m\u001b[0;34m(\u001b[0m\u001b[0;34m)\u001b[0m\u001b[0;34m)\u001b[0m\u001b[0;34m:\u001b[0m\u001b[0;34m\u001b[0m\u001b[0;34m\u001b[0m\u001b[0m\n\u001b[0;32m----> 4\u001b[0;31m     \u001b[0;32mif\u001b[0m \u001b[0mhybrid_system\u001b[0m\u001b[0;34m.\u001b[0m\u001b[0mgetParticleMass\u001b[0m\u001b[0;34m(\u001b[0m\u001b[0mi\u001b[0m\u001b[0;34m)\u001b[0m \u001b[0;34m!=\u001b[0m \u001b[0mold_system\u001b[0m\u001b[0;34m.\u001b[0m\u001b[0mgetParticleMass\u001b[0m\u001b[0;34m(\u001b[0m\u001b[0mi\u001b[0m\u001b[0;34m)\u001b[0m\u001b[0;34m:\u001b[0m\u001b[0;34m\u001b[0m\u001b[0;34m\u001b[0m\u001b[0m\n\u001b[0m\u001b[1;32m      5\u001b[0m         \u001b[0mprint\u001b[0m\u001b[0;34m(\u001b[0m\u001b[0mi\u001b[0m\u001b[0;34m,\u001b[0m \u001b[0mhybrid_system\u001b[0m\u001b[0;34m.\u001b[0m\u001b[0mgetParticleMass\u001b[0m\u001b[0;34m(\u001b[0m\u001b[0mi\u001b[0m\u001b[0;34m)\u001b[0m\u001b[0;34m,\u001b[0m \u001b[0mold_system\u001b[0m\u001b[0;34m.\u001b[0m\u001b[0mgetParticleMass\u001b[0m\u001b[0;34m(\u001b[0m\u001b[0mi\u001b[0m\u001b[0;34m)\u001b[0m\u001b[0;34m)\u001b[0m\u001b[0;34m\u001b[0m\u001b[0;34m\u001b[0m\u001b[0m\n",
      "\u001b[0;32m~/miniconda3/envs/perses-rest-over-protocol/lib/python3.8/site-packages/openmm/openmm.py\u001b[0m in \u001b[0;36mgetParticleMass\u001b[0;34m(self, index)\u001b[0m\n\u001b[1;32m  15735\u001b[0m             \u001b[0mthe\u001b[0m \u001b[0mindex\u001b[0m \u001b[0mof\u001b[0m \u001b[0mthe\u001b[0m \u001b[0mparticle\u001b[0m \u001b[0;32mfor\u001b[0m \u001b[0mwhich\u001b[0m \u001b[0mto\u001b[0m \u001b[0mget\u001b[0m \u001b[0mthe\u001b[0m \u001b[0mmass\u001b[0m\u001b[0;34m\u001b[0m\u001b[0;34m\u001b[0m\u001b[0m\n\u001b[1;32m  15736\u001b[0m         \"\"\"\n\u001b[0;32m> 15737\u001b[0;31m         \u001b[0mval\u001b[0m \u001b[0;34m=\u001b[0m \u001b[0m_openmm\u001b[0m\u001b[0;34m.\u001b[0m\u001b[0mSystem_getParticleMass\u001b[0m\u001b[0;34m(\u001b[0m\u001b[0mself\u001b[0m\u001b[0;34m,\u001b[0m \u001b[0mindex\u001b[0m\u001b[0;34m)\u001b[0m\u001b[0;34m\u001b[0m\u001b[0;34m\u001b[0m\u001b[0m\n\u001b[0m\u001b[1;32m  15738\u001b[0m \u001b[0;34m\u001b[0m\u001b[0m\n\u001b[1;32m  15739\u001b[0m         \u001b[0mval\u001b[0m\u001b[0;34m=\u001b[0m\u001b[0munit\u001b[0m\u001b[0;34m.\u001b[0m\u001b[0mQuantity\u001b[0m\u001b[0;34m(\u001b[0m\u001b[0mval\u001b[0m\u001b[0;34m,\u001b[0m \u001b[0munit\u001b[0m\u001b[0;34m.\u001b[0m\u001b[0mamu\u001b[0m\u001b[0;34m)\u001b[0m\u001b[0;34m\u001b[0m\u001b[0;34m\u001b[0m\u001b[0m\n",
      "\u001b[0;31mOpenMMException\u001b[0m: Assertion failure at System.cpp:55.  Index out of range"
     ]
    }
   ],
   "source": [
    "old_system = solvent_delivery.get_apo_htf()._topology_proposal.old_system\n",
    "hybrid_system = solvent_delivery.get_apo_htf().hybrid_system\n",
    "for i in range(hybrid_system.getNumParticles()):\n",
    "    if hybrid_system.getParticleMass(i) != old_system.getParticleMass(i):\n",
    "        print(i, hybrid_system.getParticleMass(i), old_system.getParticleMass(i))"
   ]
  },
  {
   "cell_type": "code",
   "execution_count": 11,
   "id": "142f1c9c",
   "metadata": {},
   "outputs": [
    {
     "name": "stdout",
     "output_type": "stream",
     "text": [
      "16044 4.0 Da 4.0 Da\n",
      "16045 4.0 Da 4.0 Da\n",
      "16046 4.0 Da 4.0 Da\n"
     ]
    }
   ],
   "source": [
    "htf = solvent_delivery.get_apo_htf()\n",
    "new_system = htf._topology_proposal.new_system\n",
    "hybrid_system = htf.hybrid_system\n",
    "for i in htf._atom_classes['unique_new_atoms']:\n",
    "#     if hybrid_system.getParticleMass(i) != new_system.getParticleMass(htf._hybrid_to_new_map[i]):\n",
    "    print(i, hybrid_system.getParticleMass(i), new_system.getParticleMass(htf._hybrid_to_new_map[i]))"
   ]
  },
  {
   "cell_type": "markdown",
   "id": "82fbcfb5",
   "metadata": {},
   "source": [
    "## Test at lambda = 0"
   ]
  },
  {
   "cell_type": "code",
   "execution_count": 3,
   "id": "9138230e",
   "metadata": {},
   "outputs": [],
   "source": [
    "# htf = solvent_delivery.get_apo_htf()\n",
    "with open(\"bnbs_apo.pickle\", \"rb\") as f:\n",
    "    htf = pickle.load(f)\n",
    "hybrid_system = htf.hybrid_system\n",
    "hybrid_positions = htf.hybrid_positions\n",
    "box_vectors = hybrid_system.getDefaultPeriodicBoxVectors()\n"
   ]
  },
  {
   "cell_type": "code",
   "execution_count": 4,
   "id": "3b05641a",
   "metadata": {},
   "outputs": [
    {
     "data": {
      "text/plain": [
       "[<openmm.openmm.MonteCarloBarostat; proxy of <Swig Object of type 'OpenMM::MonteCarloBarostat *' at 0x2ad9d8512cf0> >,\n",
       " <openmm.openmm.CustomBondForce; proxy of <Swig Object of type 'OpenMM::CustomBondForce *' at 0x2ad9d8512930> >,\n",
       " <openmm.openmm.CustomAngleForce; proxy of <Swig Object of type 'OpenMM::CustomAngleForce *' at 0x2ad9d8512990> >,\n",
       " <openmm.openmm.CustomTorsionForce; proxy of <Swig Object of type 'OpenMM::CustomTorsionForce *' at 0x2ad9dd4890c0> >,\n",
       " <openmm.openmm.CustomNonbondedForce; proxy of <Swig Object of type 'OpenMM::CustomNonbondedForce *' at 0x2ad9dd4891e0> >,\n",
       " <openmm.openmm.CustomNonbondedForce; proxy of <Swig Object of type 'OpenMM::CustomNonbondedForce *' at 0x2ad9dd489270> >,\n",
       " <openmm.openmm.CustomBondForce; proxy of <Swig Object of type 'OpenMM::CustomBondForce *' at 0x2ad9dd489300> >,\n",
       " <openmm.openmm.NonbondedForce; proxy of <Swig Object of type 'OpenMM::NonbondedForce *' at 0x2ad9dd489390> >]"
      ]
     },
     "execution_count": 4,
     "metadata": {},
     "output_type": "execute_result"
    }
   ],
   "source": [
    "htf.hybrid_system.getForces()\n"
   ]
  },
  {
   "cell_type": "code",
   "execution_count": 5,
   "id": "95824802",
   "metadata": {},
   "outputs": [
    {
     "name": "stdout",
     "output_type": "stream",
     "text": [
      "1.0\n",
      "1.0\n",
      "0.0\n"
     ]
    }
   ],
   "source": [
    "T_min = 300 * unit.kelvin\n",
    "T_max = 600 * unit.kelvin\n",
    "\n",
    "# Create thermodynamic state\n",
    "lambda_protocol = RESTCapableLambdaProtocol()\n",
    "lambda_zero_alchemical_state = RESTCapableRelativeAlchemicalState.from_system(hybrid_system)\n",
    "thermostate = ThermodynamicState(hybrid_system, temperature=T_min)\n",
    "compound_thermodynamic_state = CompoundThermodynamicState(thermostate,\n",
    "                                                          composable_states=[lambda_zero_alchemical_state])\n",
    "\n",
    "# Set alchemical parameters\n",
    "beta_0 = 1 / (kB * T_min)\n",
    "beta_m = 1 / (kB * T_max)\n",
    "global_lambda = 0\n",
    "compound_thermodynamic_state.set_alchemical_parameters(global_lambda, beta_0, beta_m, lambda_protocol=lambda_protocol)\n",
    "\n",
    "print(compound_thermodynamic_state.lambda_rest_bonds)\n",
    "print(compound_thermodynamic_state.lambda_alchemical_bonds_old)\n",
    "print(compound_thermodynamic_state.lambda_alchemical_bonds_new)\n"
   ]
  },
  {
   "cell_type": "code",
   "execution_count": 6,
   "id": "88ca7f0c",
   "metadata": {},
   "outputs": [],
   "source": [
    "integrator = openmmtools.integrators.LangevinIntegrator(temperature=300 * unit.kelvin, \n",
    "                                    collision_rate=1 / unit.picoseconds, \n",
    "                                    timestep=4 * unit.femtoseconds)\n",
    "context = compound_thermodynamic_state.create_context(integrator)\n",
    "context.setPositions(hybrid_positions)\n",
    "context.setPeriodicBoxVectors(*box_vectors)\n",
    "context.setVelocitiesToTemperature(300 * unit.kelvin)\n"
   ]
  },
  {
   "cell_type": "code",
   "execution_count": 7,
   "id": "5e31b1f9",
   "metadata": {},
   "outputs": [],
   "source": [
    "# Minimize\n",
    "openmm.LocalEnergyMinimizer.minimize(context)\n"
   ]
  },
  {
   "cell_type": "code",
   "execution_count": 8,
   "id": "643537ca",
   "metadata": {},
   "outputs": [
    {
     "name": "stderr",
     "output_type": "stream",
     "text": [
      "/scratch/lsftmp/4137623.tmpdir/ipykernel_50481/3798079088.py:4: TqdmDeprecationWarning: This function will be removed in tqdm==5.0.0\n",
      "Please use `tqdm.notebook.tqdm` instead of `tqdm.tqdm_notebook`\n",
      "  for _ in tqdm_notebook(range(int(125000/250))):\n"
     ]
    },
    {
     "data": {
      "application/vnd.jupyter.widget-view+json": {
       "model_id": "88df29abacd34fcfbfe3dc05cbf15fed",
       "version_major": 2,
       "version_minor": 0
      },
      "text/plain": [
       "  0%|          | 0/500 [00:00<?, ?it/s]"
      ]
     },
     "metadata": {},
     "output_type": "display_data"
    }
   ],
   "source": [
    "# Run MD\n",
    "hybrid = list()\n",
    "hybrid_states = list()\n",
    "for _ in tqdm_notebook(range(int(125000/250))):\n",
    "    integrator.step(250)\n",
    "    state = context.getState(getPositions=True, enforcePeriodicBox=False)\n",
    "    hybrid_states.append(state)\n",
    "#     pos = context.getState(getPositions=True, enforcePeriodicBox=False).getPositions(asNumpy=True)\n",
    "#     hybrid.append(pos)\n"
   ]
  },
  {
   "cell_type": "code",
   "execution_count": 9,
   "id": "7c4c6569",
   "metadata": {},
   "outputs": [],
   "source": [
    "# with open(\"hybrid_positions_bnbs.pickle\", \"wb\") as f:\n",
    "#     pickle.dump(hybrid, f)\n",
    "with open(\"hybrid_states_bnbs.pickle\", \"wb\") as f:\n",
    "    pickle.dump(hybrid_states, f)\n",
    "    "
   ]
  },
  {
   "cell_type": "code",
   "execution_count": 9,
   "id": "febea871",
   "metadata": {},
   "outputs": [],
   "source": [
    "# with open(\"hybrid_positions_bnbs.pickle\", \"rb\") as f:\n",
    "#     hybrid = pickle.load(f)\n",
    "with open(\"hybrid_states_bnbs.pickle\", \"rb\") as f:\n",
    "    hybrid_states = pickle.load(f)\n",
    "    "
   ]
  },
  {
   "cell_type": "code",
   "execution_count": 11,
   "id": "71985457",
   "metadata": {
    "scrolled": true
   },
   "outputs": [
    {
     "name": "stderr",
     "output_type": "stream",
     "text": [
      "/scratch/lsftmp/4137623.tmpdir/ipykernel_50481/383744331.py:62: TqdmDeprecationWarning: This function will be removed in tqdm==5.0.0\n",
      "Please use `tqdm.notebook.tqdm` instead of `tqdm.tqdm_notebook`\n",
      "  for state in tqdm_notebook(hybrid_states):\n"
     ]
    },
    {
     "data": {
      "application/vnd.jupyter.widget-view+json": {
       "model_id": "93440d619352479796f48cd35639e1a2",
       "version_major": 2,
       "version_minor": 0
      },
      "text/plain": [
       "  0%|          | 0/500 [00:00<?, ?it/s]"
      ]
     },
     "metadata": {},
     "output_type": "display_data"
    },
    {
     "name": "stdout",
     "output_type": "stream",
     "text": [
      "-225707.29093947378 kJ/mol -225707.29827102934 kJ/mol\n",
      "-217894.430565133 kJ/mol -217894.50039114026 kJ/mol\n",
      "-214527.32349696057 kJ/mol -214527.3308190178 kJ/mol\n",
      "-212351.0803639684 kJ/mol -212351.11893379447 kJ/mol\n",
      "-211657.62557602278 kJ/mol -211657.632889144 kJ/mol\n",
      "-211197.02893887437 kJ/mol -211197.06749986892 kJ/mol\n",
      "-211361.3735972594 kJ/mol -211361.36528212533 kJ/mol\n",
      "-210164.7485972594 kJ/mol -210164.75590712533 kJ/mol\n",
      "-210084.05474009388 kJ/mol -210084.06204970565 kJ/mol\n",
      "-210764.65109590837 kJ/mol -210764.6740291048 kJ/mol\n",
      "-210997.49718633713 kJ/mol -210997.5201176616 kJ/mol\n",
      "-211018.87218633713 kJ/mol -211018.8794926616 kJ/mol\n",
      "-211034.18468633713 kJ/mol -211034.2232426616 kJ/mol\n",
      "-211170.62218633713 kJ/mol -211170.6607426616 kJ/mol\n",
      "-211914.41496291873 kJ/mol -211914.42226805259 kJ/mol\n",
      "-211809.2473836795 kJ/mol -211809.2546892041 kJ/mol\n",
      "-211504.10481117456 kJ/mol -211504.1121154217 kJ/mol\n",
      "-210580.776834331 kJ/mol -210580.784138014 kJ/mol\n",
      "-210558.221268086 kJ/mol -210558.2754463945 kJ/mol\n",
      "-210962.721268086 kJ/mol -210962.7910713945 kJ/mol\n",
      "-211440.9638259362 kJ/mol -211440.93987821977 kJ/mol\n",
      "-211877.9618450068 kJ/mol -211877.9691478625 kJ/mol\n",
      "-212025.4360649546 kJ/mol -212025.47461913613 kJ/mol\n",
      "-211795.8110649546 kJ/mol -211795.83399413613 kJ/mol\n",
      "-211200.98388962634 kJ/mol -211200.95994258628 kJ/mol\n",
      "-209835.60888962634 kJ/mol -209835.64744258628 kJ/mol\n",
      "-210114.70242623845 kJ/mol -210114.7253535272 kJ/mol\n",
      "-210582.63511925936 kJ/mol -210582.6424214074 kJ/mol\n",
      "-210850.93364307587 kJ/mol -210850.95657037318 kJ/mol\n",
      "-211138.26199381286 kJ/mol -211138.28492061727 kJ/mol\n",
      "-211318.7904621777 kJ/mol -211318.79776548315 kJ/mol\n",
      "-211302.8529621777 kJ/mol -211302.89151548315 kJ/mol\n",
      "-211802.54422465595 kJ/mol -211802.59840244544 kJ/mol\n",
      "-211543.01851201686 kJ/mol -211543.0258154752 kJ/mol\n",
      "-211509.1759745397 kJ/mol -211509.1832758122 kJ/mol\n",
      "-211474.07299827016 kJ/mol -211474.11154936114 kJ/mol\n",
      "-211357.96314382716 kJ/mol -211357.98607008264 kJ/mol\n",
      "-211335.69755706284 kJ/mol -211335.73610775432 kJ/mol\n",
      "-211987.19359624968 kJ/mol -211987.21652065744 kJ/mol\n",
      "-211855.63109624968 kJ/mol -211855.62277065744 kJ/mol\n",
      "-211807.1307773725 kJ/mol -211807.1224525802 kJ/mol\n",
      "-212100.71399113513 kJ/mol -212100.7369176474 kJ/mol\n",
      "-211841.08899113513 kJ/mol -211841.1275426474 kJ/mol\n",
      "-211073.90477166232 kJ/mol -211073.86519883003 kJ/mol\n",
      "-211744.29329194548 kJ/mol -211744.30059316428 kJ/mol\n",
      "-212029.02029787423 kJ/mol -212028.99634756125 kJ/mol\n",
      "-211586.45779787423 kJ/mol -211586.51197256125 kJ/mol\n",
      "-212195.20213830704 kJ/mol -212195.27193728244 kJ/mol\n",
      "-211958.64627234451 kJ/mol -211958.66919811637 kJ/mol\n",
      "-211516.60388380778 kJ/mol -211516.61118299948 kJ/mol\n",
      "-211392.57525907527 kJ/mol -211392.61380890838 kJ/mol\n",
      "-211133.55231959536 kJ/mol -211133.55961909634 kJ/mol\n",
      "-212059.67731959536 kJ/mol -212059.70024409634 kJ/mol\n",
      "-211449.45707140933 kJ/mol -211449.4643707252 kJ/mol\n",
      "-211715.29209080036 kJ/mol -211715.3306406486 kJ/mol\n",
      "-212115.97164264973 kJ/mol -212115.97894001665 kJ/mol\n",
      "-211698.44624243886 kJ/mol -211698.51604021725 kJ/mol\n",
      "-211082.12991082645 kJ/mol -211082.1215855776 kJ/mol\n",
      "-211405.65835588076 kJ/mol -211405.6969039907 kJ/mol\n",
      "-212310.71277591563 kJ/mol -212310.7513246577 kJ/mol\n",
      "-212162.235730808 kJ/mol -212162.25865585354 kJ/mol\n",
      "-211328.360730808 kJ/mol -211328.39928085354 kJ/mol\n",
      "-210608.72686229367 kJ/mol -210608.79666439988 kJ/mol\n",
      "-211115.82065989776 kJ/mol -211115.8279629609 kJ/mol\n",
      "-211091.2930797811 kJ/mol -211091.26913071438 kJ/mol\n",
      "-211491.44844270777 kJ/mol -211491.39324425574 kJ/mol\n",
      "-212060.7788582861 kJ/mol -212060.7861595116 kJ/mol\n",
      "-211894.00633198372 kJ/mol -211894.0761330482 kJ/mol\n",
      "-211605.00633198372 kJ/mol -211605.0448830482 kJ/mol\n",
      "-211031.1586610414 kJ/mol -211031.1972120361 kJ/mol\n",
      "-210728.60848268587 kJ/mol -210728.64703256107 kJ/mol\n",
      "-211128.7579940611 kJ/mol -211128.79654443916 kJ/mol\n",
      "-212239.07674011006 kJ/mol -212239.11528977123 kJ/mol\n",
      "-212415.2268179697 kJ/mol -212415.26536721937 kJ/mol\n",
      "-212127.7268179697 kJ/mol -212127.76536721937 kJ/mol\n",
      "-212513.54762067832 kJ/mol -212513.5861711525 kJ/mol\n",
      "-212403.29762067832 kJ/mol -212403.3361711525 kJ/mol\n",
      "-211886.37169369543 kJ/mol -211886.36337022117 kJ/mol\n",
      "-211405.44804848917 kJ/mol -211405.4240996944 kJ/mol\n",
      "-211017.53025538614 kJ/mol -211017.61568155387 kJ/mol\n",
      "-211203.80912816082 kJ/mol -211203.76955522946 kJ/mol\n",
      "-211554.56465773308 kJ/mol -211554.6344587708 kJ/mol\n",
      "-211158.38497100212 kJ/mol -211158.42352172203 kJ/mol\n",
      "-211397.47026751074 kJ/mol -211397.55569484842 kJ/mol\n",
      "-211272.06086201314 kJ/mol -211272.0837899951 kJ/mol\n",
      "-211658.77112033335 kJ/mol -211658.77842344771 kJ/mol\n",
      "-211761.23174994462 kJ/mol -211761.2703026199 kJ/mol\n",
      "-211061.11665866827 kJ/mol -211061.15521096776 kJ/mol\n",
      "-211608.92682401976 kJ/mol -211608.93412512046 kJ/mol\n",
      "-211220.62438582745 kJ/mol -211220.6316846956 kJ/mol\n",
      "-211597.62438582745 kJ/mol -211597.6629346956 kJ/mol\n",
      "-211252.99938582745 kJ/mol -211253.0066846956 kJ/mol\n",
      "-210624.43387666834 kJ/mol -210624.4411758807 kJ/mol\n",
      "-211203.74637666834 kJ/mol -211203.7536758807 kJ/mol\n",
      "-211672.68387666834 kJ/mol -211672.7224258807 kJ/mol\n",
      "-211861.3453911862 kJ/mol -211861.3526926097 kJ/mol\n",
      "-211148.66359833954 kJ/mol -211148.68652478917 kJ/mol\n",
      "-211283.26585025107 kJ/mol -211283.32002591132 kJ/mol\n",
      "-211458.48416756094 kJ/mol -211458.5227189497 kJ/mol\n",
      "-211440.01738552586 kJ/mol -211440.02468689944 kJ/mol\n",
      "-211804.31649754988 kJ/mol -211804.37067401526 kJ/mol\n",
      "-211827.48717806512 kJ/mol -211827.55697965235 kJ/mol\n",
      "-211333.59539274825 kJ/mol -211333.57144462896 kJ/mol\n",
      "-211425.32383328164 kJ/mol -211425.3623856007 kJ/mol\n",
      "-211796.15431734035 kJ/mol -211796.16161873695 kJ/mol\n",
      "-211418.90103793168 kJ/mol -211418.93959132928 kJ/mol\n",
      "-211335.90957517852 kJ/mol -211335.94812777263 kJ/mol\n",
      "-210624.24776407843 kJ/mol -210624.31756626078 kJ/mol\n",
      "-210724.03946151352 kJ/mol -210724.04676330555 kJ/mol\n",
      "-211053.98099808744 kJ/mol -211053.95705236265 kJ/mol\n",
      "-210824.5100045628 kJ/mol -210824.54855745356 kJ/mol\n",
      "-211146.9475045628 kJ/mol -211146.98605745356 kJ/mol\n",
      "-211027.3850045628 kJ/mol -211027.39230745356 kJ/mol\n",
      "-211526.0188316023 kJ/mol -211526.04175986044 kJ/mol\n",
      "-210768.57124022162 kJ/mol -210768.5785425417 kJ/mol\n",
      "-211259.13374022162 kJ/mol -211259.1410425417 kJ/mol\n",
      "-211456.9558144759 kJ/mol -211456.97874247725 kJ/mol\n",
      "-211185.46040482027 kJ/mol -211185.48333353366 kJ/mol\n",
      "-211939.17783552152 kJ/mol -211939.24763967824 kJ/mol\n",
      "-211343.00268618786 kJ/mol -211343.05686493896 kJ/mol\n",
      "-211658.45007517608 kJ/mol -211658.48862789446 kJ/mol\n",
      "-210927.3472667022 kJ/mol -210927.32332112416 kJ/mol\n",
      "-210429.45560128288 kJ/mol -210429.46290502694 kJ/mol\n",
      "-210892.4483596154 kJ/mol -210892.53378622048 kJ/mol\n",
      "-210765.24500139034 kJ/mol -210765.26792888818 kJ/mol\n",
      "-211108.2932168399 kJ/mol -211108.26926805885 kJ/mol\n",
      "-210820.0378166982 kJ/mol -210820.12324234835 kJ/mol\n",
      "-211423.42242094805 kJ/mol -211423.49222147948 kJ/mol\n",
      "-211115.21709208796 kJ/mol -211115.28689248464 kJ/mol\n",
      "-211270.210566625 kJ/mol -211270.24911625343 kJ/mol\n",
      "-211246.023066625 kJ/mol -211246.07724125343 kJ/mol\n",
      "-211542.335566625 kJ/mol -211542.37411625343 kJ/mol\n",
      "-211097.2578596659 kJ/mol -211097.26515895865 kJ/mol\n",
      "-211022.60912938835 kJ/mol -211022.61643020585 kJ/mol\n",
      "-211193.235724814 kJ/mol -211193.30552503082 kJ/mol\n",
      "-211723.89517627237 kJ/mol -211723.8868510736 kJ/mol\n",
      "-211839.77017627237 kJ/mol -211839.7618510736 kJ/mol\n",
      "-211663.29637860646 kJ/mol -211663.30367793862 kJ/mol\n",
      "-211680.5159206146 kJ/mol -211680.58572161745 kJ/mol\n",
      "-211213.8793244916 kJ/mol -211213.91787758493 kJ/mol\n",
      "-210801.1918244916 kJ/mol -210801.19912758493 kJ/mol\n",
      "-210827.9418244916 kJ/mol -210827.98037758493 kJ/mol\n",
      "-210946.28414996504 kJ/mol -210946.3227011881 kJ/mol\n",
      "-211315.0302203244 kJ/mol -211315.10002212052 kJ/mol\n",
      "-211493.4052203244 kJ/mol -211493.42814712052 kJ/mol\n",
      "-212047.4047355121 kJ/mol -212047.45891205146 kJ/mol\n",
      "-211547.53033087403 kJ/mol -211547.5845062419 kJ/mol\n",
      "-211711.83519196138 kJ/mol -211711.79561764695 kJ/mol\n",
      "-211338.07086817105 kJ/mol -211338.0469181776 kJ/mol\n",
      "-210955.2532566241 kJ/mol -210955.2918073758 kJ/mol\n",
      "-211368.6282566241 kJ/mol -211368.6355573758 kJ/mol\n",
      "-211962.2051115674 kJ/mol -211962.2749112555 kJ/mol\n",
      "-211238.97331170738 kJ/mol -211239.04311070175 kJ/mol\n",
      "-210713.7225634877 kJ/mol -210713.72986382496 kJ/mol\n"
     ]
    },
    {
     "name": "stdout",
     "output_type": "stream",
     "text": [
      "-210969.5975634877 kJ/mol -210969.60486382496 kJ/mol\n",
      "-211890.57484152843 kJ/mol -211890.644640962 kJ/mol\n",
      "-211777.41973159835 kJ/mol -211777.42703224538 kJ/mol\n",
      "-211601.98546246532 kJ/mol -211602.02401296803 kJ/mol\n",
      "-211509.67231762712 kJ/mol -211509.74211850148 kJ/mol\n",
      "-211664.42828566604 kJ/mol -211664.4355854236 kJ/mol\n",
      "-212474.8431030251 kJ/mol -212474.88165273596 kJ/mol\n",
      "-211861.9363247319 kJ/mol -211862.00612257194 kJ/mol\n",
      "-211763.81647384702 kJ/mol -211763.839398313 kJ/mol\n",
      "-211835.54438375006 kJ/mol -211835.61418196923 kJ/mol\n",
      "-211604.9363629287 kJ/mol -211604.91241431082 kJ/mol\n",
      "-211547.2589610368 kJ/mol -211547.28188915658 kJ/mol\n",
      "-210670.3604944339 kJ/mol -210670.35217202175 kJ/mol\n",
      "-211719.14862300432 kJ/mol -211719.218425946 kJ/mol\n",
      "-210349.33612300432 kJ/mol -210349.390300946 kJ/mol\n",
      "-211453.58940607263 kJ/mol -211453.6279582701 kJ/mol\n",
      "-210883.77690607263 kJ/mol -210883.7998332701 kJ/mol\n",
      "-210752.7455988878 kJ/mol -210752.76852701383 kJ/mol\n",
      "-210757.8705988878 kJ/mol -210757.92477701383 kJ/mol\n",
      "-210926.32093456364 kJ/mol -210926.3282364841 kJ/mol\n",
      "-210996.32461136114 kJ/mol -210996.39441068054 kJ/mol\n",
      "-211204.8553935769 kJ/mol -211204.83144248233 kJ/mol\n",
      "-210750.22308487352 kJ/mol -210750.26163658153 kJ/mol\n",
      "-211631.1441957096 kJ/mol -211631.1827463396 kJ/mol\n",
      "-211244.8036285136 kJ/mol -211244.82655612734 kJ/mol\n",
      "-210689.10741057852 kJ/mol -210689.1772129678 kJ/mol\n",
      "-211199.34138795105 kJ/mol -211199.37993874802 kJ/mol\n",
      "-211111.31004886748 kJ/mol -211111.31735042148 kJ/mol\n",
      "-211793.61951448652 kJ/mol -211793.6893143566 kJ/mol\n",
      "-211305.3339964999 kJ/mol -211305.31004735743 kJ/mol\n",
      "-212008.85124463332 kJ/mol -212008.84291882624 kJ/mol\n",
      "-211843.50864544418 kJ/mol -211843.5315707649 kJ/mol\n",
      "-211904.2598462433 kJ/mol -211904.29839696328 kJ/mol\n",
      "-211537.80153232464 kJ/mol -211537.855707997 kJ/mol\n",
      "-212664.59352348605 kJ/mol -212664.6164468826 kJ/mol\n",
      "-211980.34352348605 kJ/mol -211980.3508218826 kJ/mol\n",
      "-211825.44076425512 kJ/mol -211825.47931057916 kJ/mol\n",
      "-211256.99194161594 kJ/mol -211257.0304898877 kJ/mol\n",
      "-211191.30712045077 kJ/mol -211191.2519206921 kJ/mol\n",
      "-211431.05712045077 kJ/mol -211431.0644206921 kJ/mol\n",
      "-212398.13331510476 kJ/mol -212398.12499356773 kJ/mol\n",
      "-211148.75562952505 kJ/mol -211148.7941835034 kJ/mol\n",
      "-211560.18232012494 kJ/mol -211560.22087362263 kJ/mol\n",
      "-211946.05732012494 kJ/mol -211946.12712362263 kJ/mol\n",
      "-210690.36500761984 kJ/mol -210690.43481051977 kJ/mol\n",
      "-212000.55629758537 kJ/mol -212000.57922522663 kJ/mol\n",
      "-211883.54063510685 kJ/mol -211883.56356169836 kJ/mol\n",
      "-210829.28964284784 kJ/mol -210829.3750686113 kJ/mol\n",
      "-211392.16239136783 kJ/mol -211392.13844304645 kJ/mol\n",
      "-211425.32698292984 kJ/mol -211425.36553316226 kJ/mol\n",
      "-210784.70198292984 kJ/mol -210784.77178316226 kJ/mol\n",
      "-211443.32385448762 kJ/mol -211443.3311551783 kJ/mol\n",
      "-211479.67710835976 kJ/mol -211479.74690866066 kJ/mol\n",
      "-211539.66602429142 kJ/mol -211539.6733253972 kJ/mol\n",
      "-212084.84160106466 kJ/mol -212084.8176525757 kJ/mol\n",
      "-211539.26472573075 kJ/mol -211539.24077616283 kJ/mol\n",
      "-211411.41879514325 kJ/mol -211411.42609627626 kJ/mol\n",
      "-212065.01645610458 kJ/mol -212064.97688136462 kJ/mol\n",
      "-211482.57248195074 kJ/mol -211482.62665804214 kJ/mol\n",
      "-211751.00226142467 kJ/mol -211751.040812691 kJ/mol\n",
      "-211622.17047165823 kJ/mol -211622.14652356168 kJ/mol\n",
      "-211640.51691787108 kJ/mol -211640.58671838802 kJ/mol\n",
      "-211933.78789518634 kJ/mol -211933.82644595063 kJ/mol\n",
      "-211852.10039518634 kJ/mol -211852.12332095063 kJ/mol\n",
      "-211296.43967525777 kJ/mol -211296.4938507529 kJ/mol\n",
      "-211076.7696380054 kJ/mol -211076.76131269254 kJ/mol\n",
      "-211106.2071380054 kJ/mol -211106.23006269254 kJ/mol\n",
      "-211598.0196380054 kJ/mol -211598.02693769254 kJ/mol\n",
      "-210843.8012204743 kJ/mol -210843.83977091828 kJ/mol\n",
      "-211287.6762204743 kJ/mol -211287.68352091828 kJ/mol\n",
      "-211689.55640186928 kJ/mol -211689.53245034 kJ/mol\n",
      "-211602.7688020498 kJ/mol -211602.8386005091 kJ/mol\n",
      "-211343.6438020498 kJ/mol -211343.6823505091 kJ/mol\n",
      "-211347.81360204262 kJ/mol -211347.78965142422 kJ/mol\n",
      "-212062.15202488843 kJ/mol -212062.14370088614 kJ/mol\n",
      "-211421.81299670576 kJ/mol -211421.85154788705 kJ/mol\n",
      "-211241.0132736254 kJ/mol -211241.05182297277 kJ/mol\n",
      "-211515.0757736254 kJ/mol -211515.08307297277 kJ/mol\n",
      "-211553.3882736254 kJ/mol -211553.36432297277 kJ/mol\n",
      "-211638.0132736254 kJ/mol -211638.05182297277 kJ/mol\n",
      "-211426.19902754854 kJ/mol -211426.2063269539 kJ/mol\n",
      "-211243.0591863722 kJ/mol -211243.09773681255 kJ/mol\n",
      "-212112.39276663982 kJ/mol -212112.41569058519 kJ/mol\n",
      "-212205.89276663982 kJ/mol -212205.93131558519 kJ/mol\n",
      "-211900.5325140101 kJ/mol -211900.5398122632 kJ/mol\n",
      "-211898.20113652782 kJ/mol -211898.28655976107 kJ/mol\n",
      "-211742.364330773 kJ/mol -211742.3872525606 kJ/mol\n",
      "-212440.11874422827 kJ/mol -212440.11041692784 kJ/mol\n",
      "-211961.00587287848 kJ/mol -211961.0131719149 kJ/mol\n",
      "-211523.01504577603 kJ/mol -211523.0223454655 kJ/mol\n",
      "-211880.8958859942 kJ/mol -211880.93443550935 kJ/mol\n",
      "-212627.11599855707 kJ/mol -212627.1232966578 kJ/mol\n",
      "-212468.9172916375 kJ/mol -212468.92459045735 kJ/mol\n",
      "-212130.79229496536 kJ/mol -212130.76834495645 kJ/mol\n",
      "-211757.11970738252 kJ/mol -211757.17388162419 kJ/mol\n",
      "-212653.10931544704 kJ/mol -212653.1791136079 kJ/mol\n",
      "-211942.51786170038 kJ/mol -211942.50953678845 kJ/mol\n",
      "-211605.07597817667 kJ/mol -211605.0989038664 kJ/mol\n",
      "-211624.19114096835 kJ/mol -211624.1984422339 kJ/mol\n",
      "-211429.15333847213 kJ/mol -211429.17626529766 kJ/mol\n",
      "-211042.44087764295 kJ/mol -211042.44817970844 kJ/mol\n",
      "-211657.764358558 kJ/mol -211657.80290919027 kJ/mol\n",
      "-211871.576858558 kJ/mol -211871.64665919027 kJ/mol\n",
      "-212201.33776702126 kJ/mol -212201.3763174772 kJ/mol\n",
      "-211622.48569093668 kJ/mol -211622.57111672495 kJ/mol\n",
      "-211713.60790827405 kJ/mol -211713.6464586065 kJ/mol\n",
      "-211800.93806733866 kJ/mol -211800.99224360555 kJ/mol\n",
      "-212174.02008248796 kJ/mol -212174.0273821749 kJ/mol\n",
      "-212509.15982892457 kJ/mol -212509.24525234796 kJ/mol\n",
      "-211738.08215293544 kJ/mol -211738.07382670863 kJ/mol\n",
      "-212126.26965293544 kJ/mol -212126.33945170863 kJ/mol\n",
      "-211983.64070213563 kJ/mol -211983.64800191027 kJ/mol\n",
      "-212027.20455716108 kJ/mol -212027.25873147807 kJ/mol\n",
      "-211838.53517790558 kJ/mol -211838.54247758564 kJ/mol\n",
      "-212156.13451195438 kJ/mol -212156.18868716035 kJ/mol\n",
      "-210995.31697055697 kJ/mol -210995.41802096536 kJ/mol\n",
      "-211643.2626980627 kJ/mol -211643.33249906698 kJ/mol\n",
      "-211633.3643829124 kJ/mol -211633.4029338704 kJ/mol\n",
      "-211630.1143829124 kJ/mol -211630.1373088704 kJ/mol\n",
      "-211332.02471539448 kJ/mol -211332.06326822148 kJ/mol\n",
      "-211781.22509915032 kJ/mol -211781.24802774275 kJ/mol\n",
      "-211840.03759915032 kJ/mol -211840.07615274275 kJ/mol\n",
      "-210945.2270981369 kJ/mol -210945.29690252815 kJ/mol\n",
      "-211442.31853332464 kJ/mol -211442.29458750272 kJ/mol\n",
      "-211140.74886803515 kJ/mol -211140.75617104527 kJ/mol\n",
      "-210897.820478064 kJ/mol -210897.87465624145 kJ/mol\n",
      "-211398.632978064 kJ/mol -211398.64028124145 kJ/mol\n",
      "-211300.36524272314 kJ/mol -211300.41942273683 kJ/mol\n",
      "-211752.51259854552 kJ/mol -211752.53552786345 kJ/mol\n",
      "-211953.76524971123 kJ/mol -211953.7725543706 kJ/mol\n",
      "-211669.98553420068 kJ/mol -211670.07096267396 kJ/mol\n",
      "-211924.05849866592 kJ/mol -211924.1439233925 kJ/mol\n",
      "-211833.4092532061 kJ/mol -211833.35405060154 kJ/mol\n",
      "-212252.7670071749 kJ/mol -212252.83680606366 kJ/mol\n",
      "-211816.0179491553 kJ/mol -211816.0252491289 kJ/mol\n",
      "-211984.2054491553 kJ/mol -211984.2127491289 kJ/mol\n",
      "-212451.0148836933 kJ/mol -212451.0534346681 kJ/mol\n",
      "-211494.87463578396 kJ/mol -211494.960062994 kJ/mol\n",
      "-211465.87463578396 kJ/mol -211465.897562994 kJ/mol\n",
      "-211022.74963578396 kJ/mol -211022.803812994 kJ/mol\n",
      "-211240.31212029583 kJ/mol -211240.30379673472 kJ/mol\n",
      "-210953.8219191383 kJ/mol -210953.87609503002 kJ/mol\n",
      "-211302.3844191383 kJ/mol -211302.34484503002 kJ/mol\n",
      "-211373.28084119363 kJ/mol -211373.28814036163 kJ/mol\n",
      "-211709.0050841153 kJ/mol -211708.9967595519 kJ/mol\n",
      "-211437.48233064706 kJ/mol -211437.52088075117 kJ/mol\n",
      "-212223.70278311172 kJ/mol -212223.741333515 kJ/mol\n",
      "-211400.7068409666 kJ/mol -211400.729767825 kJ/mol\n",
      "-210321.1443409666 kJ/mol -210321.136017825 kJ/mol\n",
      "-212078.2068409666 kJ/mol -212078.229767825 kJ/mol\n",
      "-211544.04925888102 kJ/mol -211544.05656029715 kJ/mol\n",
      "-210748.5250561838 kJ/mol -210748.51673283943 kJ/mol\n",
      "-211426.5404783939 kJ/mol -211426.54777952834 kJ/mol\n",
      "-211122.7279783939 kJ/mol -211122.76652952834 kJ/mol\n",
      "-210991.93544218037 kJ/mol -210991.9739941913 kJ/mol\n",
      "-211290.9917529244 kJ/mol -211291.0615549096 kJ/mol\n"
     ]
    },
    {
     "name": "stdout",
     "output_type": "stream",
     "text": [
      "-210694.58000462432 kJ/mol -210694.6185542839 kJ/mol\n",
      "-211217.08000462432 kJ/mol -211217.1341792839 kJ/mol\n",
      "-211724.2284648649 kJ/mol -211724.25138931395 kJ/mol\n",
      "-211204.05624802643 kJ/mol -211204.12604695425 kJ/mol\n",
      "-211125.21839681268 kJ/mol -211125.21007306591 kJ/mol\n",
      "-211339.84339681268 kJ/mol -211339.88194806591 kJ/mol\n",
      "-211555.76064067404 kJ/mol -211555.79919127945 kJ/mol\n",
      "-211640.58643917576 kJ/mol -211640.62499208876 kJ/mol\n",
      "-211418.1476413817 kJ/mol -211418.12369363842 kJ/mol\n",
      "-211345.7122023697 kJ/mol -211345.75075373997 kJ/mol\n",
      "-210955.27414540248 kJ/mol -210955.2814465729 kJ/mol\n",
      "-212025.64914540248 kJ/mol -212025.6876965729 kJ/mol\n",
      "-211389.91922980105 kJ/mol -211389.8952806196 kJ/mol\n",
      "-211855.928905827 kJ/mol -211855.87370624123 kJ/mol\n",
      "-212338.1830273848 kJ/mol -212338.19032634047 kJ/mol\n",
      "-211259.1630843256 kJ/mol -211259.1703838331 kJ/mol\n",
      "-212130.10802994552 kJ/mol -212130.11532759288 kJ/mol\n",
      "-212869.35802994552 kJ/mol -212869.36532759288 kJ/mol\n",
      "-212678.85802994552 kJ/mol -212678.86532759288 kJ/mol\n",
      "-211607.12138386723 kJ/mol -211607.15993227964 kJ/mol\n",
      "-212400.80888386723 kJ/mol -212400.81618227964 kJ/mol\n",
      "-212231.67733529606 kJ/mol -212231.76275951136 kJ/mol\n",
      "-211653.6291337756 kJ/mol -211653.66768238437 kJ/mol\n",
      "-211279.4416337756 kJ/mol -211279.48018238437 kJ/mol\n",
      "-211549.12673170934 kJ/mol -211549.1965318046 kJ/mol\n",
      "-211590.10645058122 kJ/mol -211590.14500194273 kJ/mol\n",
      "-211350.3035546781 kJ/mol -211350.3421060352 kJ/mol\n",
      "-210924.91538771125 kJ/mol -210924.93831547388 kJ/mol\n",
      "-210712.72788771125 kJ/mol -210712.76644047388 kJ/mol\n",
      "-211693.62057042774 kJ/mol -211693.62787303948 kJ/mol\n",
      "-211496.693928621 kJ/mol -211496.7012307136 kJ/mol\n",
      "-211523.35629168013 kJ/mol -211523.3948421847 kJ/mol\n",
      "-212097.80809689383 kJ/mol -212097.78414702046 kJ/mol\n",
      "-211118.09940748126 kJ/mol -211118.16920701772 kJ/mol\n",
      "-211202.409132862 kJ/mol -211202.44768100008 kJ/mol\n",
      "-211431.86679159105 kJ/mol -211431.90534131965 kJ/mol\n",
      "-211722.58352273074 kJ/mol -211722.60644681755 kJ/mol\n",
      "-211203.08352273074 kJ/mol -211203.12207181755 kJ/mol\n",
      "-211389.7710529042 kJ/mol -211389.84085167662 kJ/mol\n",
      "-211939.5210529042 kJ/mol -211939.55960167662 kJ/mol\n",
      "-211001.10862096748 kJ/mol -211001.16279667098 kJ/mol\n",
      "-211540.36872149166 kJ/mol -211540.3760234759 kJ/mol\n",
      "-211121.11156242364 kJ/mol -211121.11886472534 kJ/mol\n",
      "-212184.35827440117 kJ/mol -212184.45932507617 kJ/mol\n",
      "-211763.4096394917 kJ/mol -211763.43256694285 kJ/mol\n",
      "-210749.0971394917 kJ/mol -210749.10444194285 kJ/mol\n",
      "-211709.51946517127 kJ/mol -211709.55801811503 kJ/mol\n",
      "-212018.39446517127 kJ/mol -212018.41739311503 kJ/mol\n",
      "-211803.1974085176 kJ/mol -211803.23596220824 kJ/mol\n",
      "-211221.81983434688 kJ/mol -211221.88963860998 kJ/mol\n",
      "-210666.50199547177 kJ/mol -210666.5092984806 kJ/mol\n",
      "-210619.87699547177 kJ/mol -210619.9467984806 kJ/mol\n",
      "-211191.42887645308 kJ/mol -211191.43617681015 kJ/mol\n",
      "-210649.9971483366 kJ/mol -210650.0669487196 kJ/mol\n",
      "-211171.23845750047 kJ/mol -211171.27700825877 kJ/mol\n",
      "-211637.30095750047 kJ/mol -211637.32388325877 kJ/mol\n",
      "-211006.56769005535 kJ/mol -211006.6374901777 kJ/mol\n",
      "-211212.19269005535 kJ/mol -211212.1687401777 kJ/mol\n",
      "-211039.2323044357 kJ/mol -211039.23960431147 kJ/mol\n",
      "-210989.65000862884 kJ/mol -210989.59481042737 kJ/mol\n",
      "-211092.0697450866 kJ/mol -211092.0770451223 kJ/mol\n",
      "-210899.2986429052 kJ/mol -210899.3371927505 kJ/mol\n",
      "-210926.4861429052 kJ/mol -210926.5403177505 kJ/mol\n",
      "-211108.01556649082 kJ/mol -211107.9916176652 kJ/mol\n",
      "-211200.2112888929 kJ/mol -211200.2498407492 kJ/mol\n",
      "-211174.1487888929 kJ/mol -211174.1873407492 kJ/mol\n",
      "-211499.64076730725 kJ/mol -211499.67931668207 kJ/mol\n",
      "-210794.2336871021 kJ/mol -210794.28786349096 kJ/mol\n",
      "-210722.1659661322 kJ/mol -210722.17326792353 kJ/mol\n",
      "-211124.72348250775 kJ/mol -211124.7307845297 kJ/mol\n",
      "-210454.49245673465 kJ/mol -210454.51538409086 kJ/mol\n",
      "-211643.46570103103 kJ/mol -211643.50425257094 kJ/mol\n",
      "-211271.21570103103 kJ/mol -211271.22300257094 kJ/mol\n",
      "-211077.15320103103 kJ/mol -211077.16050257094 kJ/mol\n",
      "-211368.12539891386 kJ/mol -211368.1483248667 kJ/mol\n",
      "-211342.31753539178 kJ/mol -211342.324835857 kJ/mol\n",
      "-211671.00503539178 kJ/mol -211670.981085857 kJ/mol\n",
      "-211644.92909714067 kJ/mol -211644.96764829743 kJ/mol\n",
      "-211456.17909714067 kJ/mol -211456.24889829743 kJ/mol\n",
      "-211066.75958385481 kJ/mol -211066.79813414646 kJ/mol\n",
      "-211414.57944124984 kJ/mol -211414.61799282368 kJ/mol\n",
      "-211308.88433351275 kJ/mol -211308.90725929022 kJ/mol\n",
      "-211539.64954797062 kJ/mol -211539.5943486553 kJ/mol\n",
      "-212087.025885975 kJ/mol -212087.0956854881 kJ/mol\n",
      "-211638.588385975 kJ/mol -211638.6581854881 kJ/mol\n",
      "-212040.4896702587 kJ/mol -212040.48134587365 kJ/mol\n",
      "-211969.7623286629 kJ/mol -211969.80087929618 kJ/mol\n",
      "-211286.0918271481 kJ/mol -211286.16162805923 kJ/mol\n",
      "-211098.4054742558 kJ/mol -211098.44402422383 kJ/mol\n",
      "-210675.65177156776 kJ/mol -210675.70594670883 kJ/mol\n",
      "-211049.77677156776 kJ/mol -211049.78407170883 kJ/mol\n",
      "-211585.1842782211 kJ/mol -211585.2384542328 kJ/mol\n",
      "-211520.37131742714 kJ/mol -211520.39424235345 kJ/mol\n",
      "-211571.7201240724 kJ/mol -211571.74304826808 kJ/mol\n",
      "-212221.2757880846 kJ/mol -212221.28308771196 kJ/mol\n",
      "-211700.01883333945 kJ/mol -211700.08863439824 kJ/mol\n",
      "-211047.95211122464 kJ/mol -211047.97503754232 kJ/mol\n",
      "-211002.82711122464 kJ/mol -211002.91253754232 kJ/mol\n",
      "-211516.01653880114 kJ/mol -211516.02383983243 kJ/mol\n",
      "-211753.32049349346 kJ/mol -211753.3590454998 kJ/mol\n",
      "-211309.78575633164 kJ/mol -211309.79305635433 kJ/mol\n",
      "-211686.47235853062 kJ/mol -211686.4796587537 kJ/mol\n",
      "-211446.45621084026 kJ/mol -211446.40101307022 kJ/mol\n",
      "-211671.37872393522 kJ/mol -211671.3860234013 kJ/mol\n",
      "-211165.66723473044 kJ/mol -211165.73703614986 kJ/mol\n",
      "-211071.35473473044 kJ/mol -211071.39328614986 kJ/mol\n",
      "-211363.16723473044 kJ/mol -211363.20578614986 kJ/mol\n",
      "-211152.422664525 kJ/mol -211152.47684125608 kJ/mol\n",
      "-211479.85464961338 kJ/mol -211479.86195148985 kJ/mol\n",
      "-211198.89012204646 kJ/mol -211198.89742225004 kJ/mol\n",
      "-211345.18895125506 kJ/mol -211345.21187497932 kJ/mol\n",
      "-211554.49893395836 kJ/mol -211554.56873325506 kJ/mol\n",
      "-212086.15883130534 kJ/mol -212086.21300447214 kJ/mol\n",
      "-211566.98400189122 kJ/mol -211567.0069248523 kJ/mol\n",
      "-211721.62831866345 kJ/mol -211721.66686775823 kJ/mol\n",
      "-211832.83369587036 kJ/mol -211832.84099407162 kJ/mol\n",
      "-211191.01707883435 kJ/mol -211191.07125083765 kJ/mol\n",
      "-211223.53762236913 kJ/mol -211223.57617044853 kJ/mol\n",
      "-211343.03762236913 kJ/mol -211343.07617044853 kJ/mol\n",
      "-211441.04367115116 kJ/mol -211441.05096845666 kJ/mol\n",
      "-211194.9430647234 kJ/mol -211194.98161373148 kJ/mol\n",
      "-211904.46601785882 kJ/mol -211904.55144351316 kJ/mol\n",
      "-211204.25059515587 kJ/mol -211204.3203950232 kJ/mol\n",
      "-211368.42346316855 kJ/mol -211368.4932634139 kJ/mol\n",
      "-210746.29846316855 kJ/mol -210746.2745134139 kJ/mol\n",
      "-210756.66333014262 kJ/mol -210756.70188070688 kJ/mol\n",
      "-211612.92517246096 kJ/mol -211612.90122367686 kJ/mol\n",
      "-211355.42517246096 kJ/mol -211355.43247367686 kJ/mol\n",
      "-210766.84010259877 kJ/mol -210766.90990276803 kJ/mol\n",
      "-210171.64094639104 kJ/mol -210171.63262325083 kJ/mol\n",
      "-211128.46329197125 kJ/mol -211128.43934414088 kJ/mol\n",
      "-211422.7818063104 kJ/mol -211422.83598450542 kJ/mol\n",
      "-210861.07140227547 kJ/mol -210861.12558133792 kJ/mol\n",
      "-211322.3392551227 kJ/mol -211322.3465577202 kJ/mol\n",
      "-211166.70534308953 kJ/mol -211166.7595207483 kJ/mol\n",
      "-210906.89284308953 kJ/mol -210906.9626457483 kJ/mol\n",
      "-211113.64284308953 kJ/mol -211113.7126457483 kJ/mol\n",
      "-210835.63997181295 kJ/mol -210835.72539958722 kJ/mol\n",
      "-210957.22585983155 kJ/mol -210957.23316399497 kJ/mol\n",
      "-211307.5227342262 kJ/mol -211307.56128534029 kJ/mol\n",
      "-211352.84313876973 kJ/mol -211352.88168853754 kJ/mol\n",
      "-210776.96813876973 kJ/mol -210776.97543853754 kJ/mol\n",
      "-211420.64480239735 kJ/mol -211420.68335191315 kJ/mol\n",
      "-212240.51679255487 kJ/mol -212240.55534178644 kJ/mol\n",
      "-211869.84786567255 kJ/mol -211869.8864155812 kJ/mol\n",
      "-211757.5752541134 kJ/mol -211757.5981792037 kJ/mol\n",
      "-212102.18340295297 kJ/mol -212102.1907021655 kJ/mol\n",
      "-211945.55840295297 kJ/mol -211945.5969521655 kJ/mol\n",
      "-211649.17468410148 kJ/mol -211649.21323314664 kJ/mol\n",
      "-211671.86218410148 kJ/mol -211671.90073314664 kJ/mol\n",
      "-212013.2282095151 kJ/mol -212013.23550933553 kJ/mol\n",
      "-211277.18695022352 kJ/mol -211277.16299992 kJ/mol\n",
      "-211586.9935148568 kJ/mol -211587.06331455594 kJ/mol\n",
      "-211322.39136694465 kJ/mol -211322.42991789026 kJ/mol\n"
     ]
    },
    {
     "name": "stdout",
     "output_type": "stream",
     "text": [
      "-211388.2897921463 kJ/mol -211388.29709285256 kJ/mol\n",
      "-211931.58342788857 kJ/mol -211931.57510266095 kJ/mol\n",
      "-211054.29517426528 kJ/mol -211054.34934991196 kJ/mol\n",
      "-211427.40135024628 kJ/mol -211427.45552535896 kJ/mol\n",
      "-211855.78958040383 kJ/mol -211855.79688013907 kJ/mol\n",
      "-211565.2441385095 kJ/mol -211565.2514393796 kJ/mol\n",
      "-210882.36748072226 kJ/mol -210882.40603099315 kJ/mol\n",
      "-211231.5839820532 kJ/mol -211231.622532825 kJ/mol\n",
      "-211626.7714820532 kJ/mol -211626.794407825 kJ/mol\n",
      "-211037.19428056222 kJ/mol -211037.17033159785 kJ/mol\n",
      "-211088.3803564408 kJ/mol -211088.40328239146 kJ/mol\n",
      "-211262.2553564408 kJ/mol -211262.32515739146 kJ/mol\n",
      "-211820.6283514672 kJ/mol -211820.71377667604 kJ/mol\n",
      "-211413.59942525555 kJ/mol -211413.6692251063 kJ/mol\n",
      "-210989.02696089982 kJ/mol -210989.08113418406 kJ/mol\n",
      "-211031.11583563336 kJ/mol -211031.13876010533 kJ/mol\n",
      "-211136.14930856903 kJ/mol -211136.21910922526 kJ/mol\n",
      "-211559.21180856903 kJ/mol -211559.21910922526 kJ/mol\n",
      "-211778.76817967836 kJ/mol -211778.77548025176 kJ/mol\n",
      "-211356.31357238023 kJ/mol -211356.3521243897 kJ/mol\n",
      "-211019.72741770698 kJ/mol -211019.76596918458 kJ/mol\n",
      "-210792.4118808161 kJ/mol -210792.5129327234 kJ/mol\n",
      "-211299.96057583299 kJ/mol -211299.9991290606 kJ/mol\n",
      "-211429.76413138723 kJ/mol -211429.7870570481 kJ/mol\n",
      "-211677.32663138723 kJ/mol -211677.3651820481 kJ/mol\n",
      "-211781.4500342335 kJ/mol -211781.45733600925 kJ/mol\n",
      "-211361.60367174563 kJ/mol -211361.59534856537 kJ/mol\n",
      "-211847.75342967547 kJ/mol -211847.76073025563 kJ/mol\n",
      "-211524.22703976673 kJ/mol -211524.24996458774 kJ/mol\n",
      "-211776.61818732228 kJ/mol -211776.64111165033 kJ/mol\n",
      "-211942.3292769252 kJ/mol -211942.39907789903 kJ/mol\n",
      "-212236.53444230766 kJ/mol -212236.5417432449 kJ/mol\n",
      "-212115.5722305572 kJ/mol -212115.6576566487 kJ/mol\n",
      "-211392.70668889326 kJ/mol -211392.7764890092 kJ/mol\n",
      "-211529.53820565622 kJ/mol -211529.57675824867 kJ/mol\n",
      "-211385.09869134356 kJ/mol -211385.13724410813 kJ/mol\n"
     ]
    }
   ],
   "source": [
    "# Make context for og system\n",
    "thermodynamic_state = ThermodynamicState(htf._topology_proposal.old_system, temperature=T_min)\n",
    "integrator_og = openmmtools.integrators.LangevinIntegrator(temperature=300 * unit.kelvin,\n",
    "                                          collision_rate=1 / unit.picoseconds,\n",
    "                                          timestep= 4 * unit.femtoseconds)\n",
    "context_og = thermodynamic_state.create_context(integrator_og)\n",
    "\n",
    "\n",
    "# Zero the unique old/new valence in the hybrid system\n",
    "bond_force_index = 1 \n",
    "angle_force_index = 2 \n",
    "torsion_force_index = 3 \n",
    "custom_bond_force = hybrid_system.getForce(bond_force_index)\n",
    "custom_angle_force = hybrid_system.getForce(angle_force_index)\n",
    "custom_torsion_force = hybrid_system.getForce(torsion_force_index)\n",
    "is_old = True\n",
    "hybrid_to_bond_indices = htf._hybrid_to_new_bond_indices if is_old else htf._hybrid_to_old_bond_indices\n",
    "hybrid_to_angle_indices = htf._hybrid_to_new_angle_indices if is_old else htf._hybrid_to_old_angle_indices\n",
    "hybrid_to_torsion_indices = htf._hybrid_to_new_torsion_indices if is_old else htf._hybrid_to_old_torsion_indices\n",
    "for hybrid_idx, idx in hybrid_to_bond_indices.items():\n",
    "    p1, p2, hybrid_params = custom_bond_force.getBondParameters(hybrid_idx)\n",
    "    hybrid_params = list(hybrid_params)\n",
    "    hybrid_params[-2] *= 0 # zero K_old\n",
    "    hybrid_params[-1] *= 0 # zero K_new\n",
    "    custom_bond_force.setBondParameters(hybrid_idx, p1, p2, hybrid_params)\n",
    "for hybrid_idx, idx in hybrid_to_angle_indices.items():\n",
    "    p1, p2, p3, hybrid_params = custom_angle_force.getAngleParameters(hybrid_idx)\n",
    "    hybrid_params = list(hybrid_params)\n",
    "    hybrid_params[-1] *= 0\n",
    "    hybrid_params[-2] *= 0\n",
    "    custom_angle_force.setAngleParameters(hybrid_idx, p1, p2, p3, hybrid_params)\n",
    "for hybrid_idx, idx in hybrid_to_torsion_indices.items():\n",
    "    p1, p2, p3, p4, hybrid_params = custom_torsion_force.getTorsionParameters(hybrid_idx)\n",
    "    hybrid_params = list(hybrid_params)\n",
    "    hybrid_params[-1] *= 0\n",
    "    hybrid_params[-2] *= 0\n",
    "    custom_torsion_force.setTorsionParameters(hybrid_idx, p1, p2, p3, p4, hybrid_params)\n",
    "\n",
    "# Make context for hybrid system\n",
    "T_min = 300 * unit.kelvin\n",
    "T_max = 600 * unit.kelvin\n",
    "\n",
    "lambda_protocol = RESTCapableLambdaProtocol()\n",
    "lambda_zero_alchemical_state = RESTCapableRelativeAlchemicalState.from_system(hybrid_system)\n",
    "thermostate = ThermodynamicState(hybrid_system, temperature=T_min)\n",
    "compound_thermodynamic_state = CompoundThermodynamicState(thermostate,\n",
    "                                                          composable_states=[lambda_zero_alchemical_state])\n",
    "\n",
    "beta_0 = 1 / (kB * T_min)\n",
    "beta_m = 1 / (kB * T_max)\n",
    "global_lambda = 0\n",
    "compound_thermodynamic_state.set_alchemical_parameters(global_lambda, beta_0, beta_m, lambda_protocol=lambda_protocol)\n",
    "\n",
    "integrator_hybrid = openmmtools.integrators.LangevinIntegrator(temperature=300 * unit.kelvin,\n",
    "                                          collision_rate=1 / unit.picoseconds,\n",
    "                                          timestep= 4 * unit.femtoseconds)\n",
    "context_hybrid = compound_thermodynamic_state.create_context(integrator_hybrid)\n",
    "\n",
    "# Get energies for each conformation\n",
    "energies_og = list()\n",
    "energies_hybrid = list()\n",
    "for state in tqdm_notebook(hybrid_states):\n",
    "   \n",
    "#     context_og.setPositions(htf.old_positions(pos))\n",
    "    context_og.setPositions(htf.old_positions(state.getPositions(asNumpy=True)))\n",
    "    context_og.setPeriodicBoxVectors(*state.getPeriodicBoxVectors())\n",
    "    energy_og = context_og.getState(getEnergy=True).getPotentialEnergy()\n",
    "    energies_og.append(energy_og.value_in_unit_system(unit.md_unit_system))\n",
    "    \n",
    "#     context_hybrid.setPositions(pos)\n",
    "    context_hybrid.setState(state)\n",
    "    energy_hybrid = context_hybrid.getState(getEnergy=True).getPotentialEnergy()\n",
    "    energies_hybrid.append(energy_hybrid.value_in_unit_system(unit.md_unit_system))\n",
    "    \n",
    "    print(energy_og, energy_hybrid)"
   ]
  },
  {
   "cell_type": "code",
   "execution_count": 12,
   "id": "34ef5080",
   "metadata": {
    "scrolled": true
   },
   "outputs": [
    {
     "name": "stderr",
     "output_type": "stream",
     "text": [
      "DEBUG:matplotlib.font_manager:findfont: Matching sans\\-serif:style=normal:variant=normal:weight=normal:stretch=normal:size=12.0.\n",
      "DEBUG:matplotlib.font_manager:findfont: score(<Font 'cmb10' (cmb10.ttf) normal normal 400 normal>) = 10.05\n",
      "DEBUG:matplotlib.font_manager:findfont: score(<Font 'DejaVu Sans Mono' (DejaVuSansMono-Oblique.ttf) oblique normal 400 normal>) = 11.05\n",
      "DEBUG:matplotlib.font_manager:findfont: score(<Font 'STIXGeneral' (STIXGeneral.ttf) normal normal 400 normal>) = 10.05\n",
      "DEBUG:matplotlib.font_manager:findfont: score(<Font 'cmtt10' (cmtt10.ttf) normal normal 400 normal>) = 10.05\n",
      "DEBUG:matplotlib.font_manager:findfont: score(<Font 'DejaVu Sans Display' (DejaVuSansDisplay.ttf) normal normal 400 normal>) = 10.05\n",
      "DEBUG:matplotlib.font_manager:findfont: score(<Font 'STIXSizeFourSym' (STIXSizFourSymReg.ttf) normal normal 400 normal>) = 10.05\n",
      "DEBUG:matplotlib.font_manager:findfont: score(<Font 'cmss10' (cmss10.ttf) normal normal 400 normal>) = 10.05\n",
      "DEBUG:matplotlib.font_manager:findfont: score(<Font 'cmsy10' (cmsy10.ttf) normal normal 400 normal>) = 10.05\n",
      "DEBUG:matplotlib.font_manager:findfont: score(<Font 'DejaVu Serif' (DejaVuSerif.ttf) normal normal 400 normal>) = 10.05\n",
      "DEBUG:matplotlib.font_manager:findfont: score(<Font 'STIXSizeFourSym' (STIXSizFourSymBol.ttf) normal normal 700 normal>) = 10.335\n",
      "DEBUG:matplotlib.font_manager:findfont: score(<Font 'DejaVu Serif Display' (DejaVuSerifDisplay.ttf) normal normal 400 normal>) = 10.05\n",
      "DEBUG:matplotlib.font_manager:findfont: score(<Font 'STIXSizeThreeSym' (STIXSizThreeSymReg.ttf) normal normal 400 normal>) = 10.05\n",
      "DEBUG:matplotlib.font_manager:findfont: score(<Font 'STIXGeneral' (STIXGeneralItalic.ttf) italic normal 400 normal>) = 11.05\n",
      "DEBUG:matplotlib.font_manager:findfont: score(<Font 'STIXSizeOneSym' (STIXSizOneSymReg.ttf) normal normal 400 normal>) = 10.05\n",
      "DEBUG:matplotlib.font_manager:findfont: score(<Font 'DejaVu Sans Mono' (DejaVuSansMono-BoldOblique.ttf) oblique normal 700 normal>) = 11.335\n",
      "DEBUG:matplotlib.font_manager:findfont: score(<Font 'DejaVu Sans' (DejaVuSans-Oblique.ttf) oblique normal 400 normal>) = 1.05\n",
      "DEBUG:matplotlib.font_manager:findfont: score(<Font 'DejaVu Sans' (DejaVuSans-BoldOblique.ttf) oblique normal 700 normal>) = 1.335\n",
      "DEBUG:matplotlib.font_manager:findfont: score(<Font 'DejaVu Sans Mono' (DejaVuSansMono.ttf) normal normal 400 normal>) = 10.05\n",
      "DEBUG:matplotlib.font_manager:findfont: score(<Font 'STIXSizeTwoSym' (STIXSizTwoSymReg.ttf) normal normal 400 normal>) = 10.05\n",
      "DEBUG:matplotlib.font_manager:findfont: score(<Font 'cmr10' (cmr10.ttf) normal normal 400 normal>) = 10.05\n",
      "DEBUG:matplotlib.font_manager:findfont: score(<Font 'STIXNonUnicode' (STIXNonUniIta.ttf) italic normal 400 normal>) = 11.05\n",
      "DEBUG:matplotlib.font_manager:findfont: score(<Font 'STIXGeneral' (STIXGeneralBolIta.ttf) italic normal 700 normal>) = 11.335\n",
      "DEBUG:matplotlib.font_manager:findfont: score(<Font 'DejaVu Serif' (DejaVuSerif-Bold.ttf) normal normal 700 normal>) = 10.335\n",
      "DEBUG:matplotlib.font_manager:findfont: score(<Font 'DejaVu Serif' (DejaVuSerif-Italic.ttf) italic normal 400 normal>) = 11.05\n",
      "DEBUG:matplotlib.font_manager:findfont: score(<Font 'STIXNonUnicode' (STIXNonUniBolIta.ttf) italic normal 700 normal>) = 11.335\n",
      "DEBUG:matplotlib.font_manager:findfont: score(<Font 'STIXSizeTwoSym' (STIXSizTwoSymBol.ttf) normal normal 700 normal>) = 10.335\n",
      "DEBUG:matplotlib.font_manager:findfont: score(<Font 'DejaVu Serif' (DejaVuSerif-BoldItalic.ttf) italic normal 700 normal>) = 11.335\n",
      "DEBUG:matplotlib.font_manager:findfont: score(<Font 'STIXNonUnicode' (STIXNonUni.ttf) normal normal 400 normal>) = 10.05\n",
      "DEBUG:matplotlib.font_manager:findfont: score(<Font 'DejaVu Sans' (DejaVuSans-Bold.ttf) normal normal 700 normal>) = 0.33499999999999996\n",
      "DEBUG:matplotlib.font_manager:findfont: score(<Font 'STIXSizeOneSym' (STIXSizOneSymBol.ttf) normal normal 700 normal>) = 10.335\n",
      "DEBUG:matplotlib.font_manager:findfont: score(<Font 'DejaVu Sans Mono' (DejaVuSansMono-Bold.ttf) normal normal 700 normal>) = 10.335\n",
      "DEBUG:matplotlib.font_manager:findfont: score(<Font 'STIXSizeThreeSym' (STIXSizThreeSymBol.ttf) normal normal 700 normal>) = 10.335\n",
      "DEBUG:matplotlib.font_manager:findfont: score(<Font 'cmmi10' (cmmi10.ttf) normal normal 400 normal>) = 10.05\n",
      "DEBUG:matplotlib.font_manager:findfont: score(<Font 'STIXSizeFiveSym' (STIXSizFiveSymReg.ttf) normal normal 400 normal>) = 10.05\n",
      "DEBUG:matplotlib.font_manager:findfont: score(<Font 'DejaVu Sans' (DejaVuSans.ttf) normal normal 400 normal>) = 0.05\n",
      "DEBUG:matplotlib.font_manager:findfont: score(<Font 'STIXGeneral' (STIXGeneralBol.ttf) normal normal 700 normal>) = 10.335\n",
      "DEBUG:matplotlib.font_manager:findfont: score(<Font 'cmex10' (cmex10.ttf) normal normal 400 normal>) = 10.05\n",
      "DEBUG:matplotlib.font_manager:findfont: score(<Font 'STIXNonUnicode' (STIXNonUniBol.ttf) normal normal 700 normal>) = 10.335\n",
      "DEBUG:matplotlib.font_manager:findfont: score(<Font 'DejaVu Sans Mono' (DejaVuSansMono-Oblique.ttf) oblique normal 400 normal>) = 11.05\n",
      "DEBUG:matplotlib.font_manager:findfont: score(<Font 'DejaVu Sans Mono' (DejaVuSansMono-Bold.ttf) normal normal 700 normal>) = 10.335\n",
      "DEBUG:matplotlib.font_manager:findfont: score(<Font 'DejaVu Sans' (DejaVuSans-ExtraLight.ttf) normal normal 200 normal>) = 0.24\n",
      "DEBUG:matplotlib.font_manager:findfont: score(<Font 'STIX' (STIX-BoldItalic.otf) italic normal 700 normal>) = 11.335\n",
      "DEBUG:matplotlib.font_manager:findfont: score(<Font 'DejaVu Sans Mono' (DejaVuSansMono-BoldOblique.ttf) oblique normal 700 normal>) = 11.335\n",
      "DEBUG:matplotlib.font_manager:findfont: score(<Font 'Liberation Sans' (LiberationSans-BoldItalic.ttf) italic normal 700 normal>) = 11.335\n",
      "DEBUG:matplotlib.font_manager:findfont: score(<Font 'DejaVu Sans' (DejaVuSansCondensed.ttf) normal normal 400 condensed>) = 0.25\n",
      "DEBUG:matplotlib.font_manager:findfont: score(<Font 'DejaVu Sans' (DejaVuSans-BoldOblique.ttf) oblique normal 700 normal>) = 1.335\n",
      "DEBUG:matplotlib.font_manager:findfont: score(<Font 'DejaVu Sans' (DejaVuSans.ttf) normal normal 400 normal>) = 0.05\n",
      "DEBUG:matplotlib.font_manager:findfont: score(<Font 'Liberation Sans' (LiberationSans-Regular.ttf) normal normal 400 normal>) = 10.05\n",
      "DEBUG:matplotlib.font_manager:findfont: score(<Font 'STIX' (STIX-Regular.otf) normal normal 400 normal>) = 10.05\n",
      "DEBUG:matplotlib.font_manager:findfont: score(<Font 'Liberation Sans' (LiberationSans-Bold.ttf) normal normal 700 normal>) = 10.335\n",
      "DEBUG:matplotlib.font_manager:findfont: score(<Font 'STIX' (STIX-Italic.otf) italic normal 400 normal>) = 11.05\n",
      "DEBUG:matplotlib.font_manager:findfont: score(<Font 'DejaVu Sans' (DejaVuSans-Bold.ttf) normal normal 700 normal>) = 0.33499999999999996\n",
      "DEBUG:matplotlib.font_manager:findfont: score(<Font 'DejaVu Sans' (DejaVuSansCondensed-BoldOblique.ttf) oblique normal 700 condensed>) = 1.535\n",
      "DEBUG:matplotlib.font_manager:findfont: score(<Font 'DejaVu Sans' (DejaVuSansCondensed-Bold.ttf) normal normal 700 condensed>) = 0.5349999999999999\n",
      "DEBUG:matplotlib.font_manager:findfont: score(<Font 'DejaVu Sans' (DejaVuSansCondensed-Oblique.ttf) oblique normal 400 condensed>) = 1.25\n",
      "DEBUG:matplotlib.font_manager:findfont: score(<Font 'STIX' (STIX-Bold.otf) normal normal 700 normal>) = 10.335\n",
      "DEBUG:matplotlib.font_manager:findfont: score(<Font 'DejaVu Sans Mono' (DejaVuSansMono.ttf) normal normal 400 normal>) = 10.05\n",
      "DEBUG:matplotlib.font_manager:findfont: score(<Font 'DejaVu Sans' (DejaVuSans-Oblique.ttf) oblique normal 400 normal>) = 1.05\n",
      "DEBUG:matplotlib.font_manager:findfont: score(<Font 'Liberation Sans' (LiberationSans-Italic.ttf) italic normal 400 normal>) = 11.05\n",
      "DEBUG:matplotlib.font_manager:findfont: Matching sans\\-serif:style=normal:variant=normal:weight=normal:stretch=normal:size=12.0 to DejaVu Sans ('/home/zhangi/miniconda3/envs/perses-rest-over-protocol/lib/python3.8/site-packages/matplotlib/mpl-data/fonts/ttf/DejaVuSans.ttf') with score of 0.050000.\n",
      "DEBUG:matplotlib.font_manager:findfont: Matching sans\\-serif:style=normal:variant=normal:weight=normal:stretch=normal:size=10.0.\n",
      "DEBUG:matplotlib.font_manager:findfont: score(<Font 'cmb10' (cmb10.ttf) normal normal 400 normal>) = 10.05\n",
      "DEBUG:matplotlib.font_manager:findfont: score(<Font 'DejaVu Sans Mono' (DejaVuSansMono-Oblique.ttf) oblique normal 400 normal>) = 11.05\n"
     ]
    },
    {
     "name": "stderr",
     "output_type": "stream",
     "text": [
      "DEBUG:matplotlib.font_manager:findfont: score(<Font 'STIXGeneral' (STIXGeneral.ttf) normal normal 400 normal>) = 10.05\n",
      "DEBUG:matplotlib.font_manager:findfont: score(<Font 'cmtt10' (cmtt10.ttf) normal normal 400 normal>) = 10.05\n",
      "DEBUG:matplotlib.font_manager:findfont: score(<Font 'DejaVu Sans Display' (DejaVuSansDisplay.ttf) normal normal 400 normal>) = 10.05\n",
      "DEBUG:matplotlib.font_manager:findfont: score(<Font 'STIXSizeFourSym' (STIXSizFourSymReg.ttf) normal normal 400 normal>) = 10.05\n",
      "DEBUG:matplotlib.font_manager:findfont: score(<Font 'cmss10' (cmss10.ttf) normal normal 400 normal>) = 10.05\n",
      "DEBUG:matplotlib.font_manager:findfont: score(<Font 'cmsy10' (cmsy10.ttf) normal normal 400 normal>) = 10.05\n",
      "DEBUG:matplotlib.font_manager:findfont: score(<Font 'DejaVu Serif' (DejaVuSerif.ttf) normal normal 400 normal>) = 10.05\n",
      "DEBUG:matplotlib.font_manager:findfont: score(<Font 'STIXSizeFourSym' (STIXSizFourSymBol.ttf) normal normal 700 normal>) = 10.335\n",
      "DEBUG:matplotlib.font_manager:findfont: score(<Font 'DejaVu Serif Display' (DejaVuSerifDisplay.ttf) normal normal 400 normal>) = 10.05\n",
      "DEBUG:matplotlib.font_manager:findfont: score(<Font 'STIXSizeThreeSym' (STIXSizThreeSymReg.ttf) normal normal 400 normal>) = 10.05\n",
      "DEBUG:matplotlib.font_manager:findfont: score(<Font 'STIXGeneral' (STIXGeneralItalic.ttf) italic normal 400 normal>) = 11.05\n",
      "DEBUG:matplotlib.font_manager:findfont: score(<Font 'STIXSizeOneSym' (STIXSizOneSymReg.ttf) normal normal 400 normal>) = 10.05\n",
      "DEBUG:matplotlib.font_manager:findfont: score(<Font 'DejaVu Sans Mono' (DejaVuSansMono-BoldOblique.ttf) oblique normal 700 normal>) = 11.335\n",
      "DEBUG:matplotlib.font_manager:findfont: score(<Font 'DejaVu Sans' (DejaVuSans-Oblique.ttf) oblique normal 400 normal>) = 1.05\n",
      "DEBUG:matplotlib.font_manager:findfont: score(<Font 'DejaVu Sans' (DejaVuSans-BoldOblique.ttf) oblique normal 700 normal>) = 1.335\n",
      "DEBUG:matplotlib.font_manager:findfont: score(<Font 'DejaVu Sans Mono' (DejaVuSansMono.ttf) normal normal 400 normal>) = 10.05\n",
      "DEBUG:matplotlib.font_manager:findfont: score(<Font 'STIXSizeTwoSym' (STIXSizTwoSymReg.ttf) normal normal 400 normal>) = 10.05\n",
      "DEBUG:matplotlib.font_manager:findfont: score(<Font 'cmr10' (cmr10.ttf) normal normal 400 normal>) = 10.05\n",
      "DEBUG:matplotlib.font_manager:findfont: score(<Font 'STIXNonUnicode' (STIXNonUniIta.ttf) italic normal 400 normal>) = 11.05\n",
      "DEBUG:matplotlib.font_manager:findfont: score(<Font 'STIXGeneral' (STIXGeneralBolIta.ttf) italic normal 700 normal>) = 11.335\n",
      "DEBUG:matplotlib.font_manager:findfont: score(<Font 'DejaVu Serif' (DejaVuSerif-Bold.ttf) normal normal 700 normal>) = 10.335\n",
      "DEBUG:matplotlib.font_manager:findfont: score(<Font 'DejaVu Serif' (DejaVuSerif-Italic.ttf) italic normal 400 normal>) = 11.05\n",
      "DEBUG:matplotlib.font_manager:findfont: score(<Font 'STIXNonUnicode' (STIXNonUniBolIta.ttf) italic normal 700 normal>) = 11.335\n",
      "DEBUG:matplotlib.font_manager:findfont: score(<Font 'STIXSizeTwoSym' (STIXSizTwoSymBol.ttf) normal normal 700 normal>) = 10.335\n",
      "DEBUG:matplotlib.font_manager:findfont: score(<Font 'DejaVu Serif' (DejaVuSerif-BoldItalic.ttf) italic normal 700 normal>) = 11.335\n",
      "DEBUG:matplotlib.font_manager:findfont: score(<Font 'STIXNonUnicode' (STIXNonUni.ttf) normal normal 400 normal>) = 10.05\n",
      "DEBUG:matplotlib.font_manager:findfont: score(<Font 'DejaVu Sans' (DejaVuSans-Bold.ttf) normal normal 700 normal>) = 0.33499999999999996\n",
      "DEBUG:matplotlib.font_manager:findfont: score(<Font 'STIXSizeOneSym' (STIXSizOneSymBol.ttf) normal normal 700 normal>) = 10.335\n",
      "DEBUG:matplotlib.font_manager:findfont: score(<Font 'DejaVu Sans Mono' (DejaVuSansMono-Bold.ttf) normal normal 700 normal>) = 10.335\n",
      "DEBUG:matplotlib.font_manager:findfont: score(<Font 'STIXSizeThreeSym' (STIXSizThreeSymBol.ttf) normal normal 700 normal>) = 10.335\n",
      "DEBUG:matplotlib.font_manager:findfont: score(<Font 'cmmi10' (cmmi10.ttf) normal normal 400 normal>) = 10.05\n",
      "DEBUG:matplotlib.font_manager:findfont: score(<Font 'STIXSizeFiveSym' (STIXSizFiveSymReg.ttf) normal normal 400 normal>) = 10.05\n",
      "DEBUG:matplotlib.font_manager:findfont: score(<Font 'DejaVu Sans' (DejaVuSans.ttf) normal normal 400 normal>) = 0.05\n",
      "DEBUG:matplotlib.font_manager:findfont: score(<Font 'STIXGeneral' (STIXGeneralBol.ttf) normal normal 700 normal>) = 10.335\n",
      "DEBUG:matplotlib.font_manager:findfont: score(<Font 'cmex10' (cmex10.ttf) normal normal 400 normal>) = 10.05\n",
      "DEBUG:matplotlib.font_manager:findfont: score(<Font 'STIXNonUnicode' (STIXNonUniBol.ttf) normal normal 700 normal>) = 10.335\n",
      "DEBUG:matplotlib.font_manager:findfont: score(<Font 'DejaVu Sans Mono' (DejaVuSansMono-Oblique.ttf) oblique normal 400 normal>) = 11.05\n",
      "DEBUG:matplotlib.font_manager:findfont: score(<Font 'DejaVu Sans Mono' (DejaVuSansMono-Bold.ttf) normal normal 700 normal>) = 10.335\n",
      "DEBUG:matplotlib.font_manager:findfont: score(<Font 'DejaVu Sans' (DejaVuSans-ExtraLight.ttf) normal normal 200 normal>) = 0.24\n",
      "DEBUG:matplotlib.font_manager:findfont: score(<Font 'STIX' (STIX-BoldItalic.otf) italic normal 700 normal>) = 11.335\n",
      "DEBUG:matplotlib.font_manager:findfont: score(<Font 'DejaVu Sans Mono' (DejaVuSansMono-BoldOblique.ttf) oblique normal 700 normal>) = 11.335\n",
      "DEBUG:matplotlib.font_manager:findfont: score(<Font 'Liberation Sans' (LiberationSans-BoldItalic.ttf) italic normal 700 normal>) = 11.335\n",
      "DEBUG:matplotlib.font_manager:findfont: score(<Font 'DejaVu Sans' (DejaVuSansCondensed.ttf) normal normal 400 condensed>) = 0.25\n",
      "DEBUG:matplotlib.font_manager:findfont: score(<Font 'DejaVu Sans' (DejaVuSans-BoldOblique.ttf) oblique normal 700 normal>) = 1.335\n",
      "DEBUG:matplotlib.font_manager:findfont: score(<Font 'DejaVu Sans' (DejaVuSans.ttf) normal normal 400 normal>) = 0.05\n",
      "DEBUG:matplotlib.font_manager:findfont: score(<Font 'Liberation Sans' (LiberationSans-Regular.ttf) normal normal 400 normal>) = 10.05\n",
      "DEBUG:matplotlib.font_manager:findfont: score(<Font 'STIX' (STIX-Regular.otf) normal normal 400 normal>) = 10.05\n",
      "DEBUG:matplotlib.font_manager:findfont: score(<Font 'Liberation Sans' (LiberationSans-Bold.ttf) normal normal 700 normal>) = 10.335\n",
      "DEBUG:matplotlib.font_manager:findfont: score(<Font 'STIX' (STIX-Italic.otf) italic normal 400 normal>) = 11.05\n",
      "DEBUG:matplotlib.font_manager:findfont: score(<Font 'DejaVu Sans' (DejaVuSans-Bold.ttf) normal normal 700 normal>) = 0.33499999999999996\n",
      "DEBUG:matplotlib.font_manager:findfont: score(<Font 'DejaVu Sans' (DejaVuSansCondensed-BoldOblique.ttf) oblique normal 700 condensed>) = 1.535\n",
      "DEBUG:matplotlib.font_manager:findfont: score(<Font 'DejaVu Sans' (DejaVuSansCondensed-Bold.ttf) normal normal 700 condensed>) = 0.5349999999999999\n",
      "DEBUG:matplotlib.font_manager:findfont: score(<Font 'DejaVu Sans' (DejaVuSansCondensed-Oblique.ttf) oblique normal 400 condensed>) = 1.25\n",
      "DEBUG:matplotlib.font_manager:findfont: score(<Font 'STIX' (STIX-Bold.otf) normal normal 700 normal>) = 10.335\n",
      "DEBUG:matplotlib.font_manager:findfont: score(<Font 'DejaVu Sans Mono' (DejaVuSansMono.ttf) normal normal 400 normal>) = 10.05\n",
      "DEBUG:matplotlib.font_manager:findfont: score(<Font 'DejaVu Sans' (DejaVuSans-Oblique.ttf) oblique normal 400 normal>) = 1.05\n",
      "DEBUG:matplotlib.font_manager:findfont: score(<Font 'Liberation Sans' (LiberationSans-Italic.ttf) italic normal 400 normal>) = 11.05\n",
      "DEBUG:matplotlib.font_manager:findfont: Matching sans\\-serif:style=normal:variant=normal:weight=normal:stretch=normal:size=10.0 to DejaVu Sans ('/home/zhangi/miniconda3/envs/perses-rest-over-protocol/lib/python3.8/site-packages/matplotlib/mpl-data/fonts/ttf/DejaVuSans.ttf') with score of 0.050000.\n"
     ]
    },
    {
     "data": {
      "image/png": "[encoded data removed]",
      "text/plain": [
       "<Figure size 432x288 with 1 Axes>"
      ]
     },
     "metadata": {
      "needs_background": "light"
     },
     "output_type": "display_data"
    }
   ],
   "source": [
    "plt.plot(np.array(energies_og) - np.array(energies_hybrid))\n",
    "plt.ylabel(\"energy difference (kJ/mol)\")\n",
    "plt.xlabel(\"snapshot #\")\n",
    "plt.title(\"Lambda = 0 endstate\")\n",
    "plt.show()"
   ]
  },
  {
   "cell_type": "code",
   "execution_count": 13,
   "id": "c552d674",
   "metadata": {
    "scrolled": true
   },
   "outputs": [
    {
     "data": {
      "image/png": "[encoded data removed]",
      "text/plain": [
       "<Figure size 432x288 with 1 Axes>"
      ]
     },
     "metadata": {
      "needs_background": "light"
     },
     "output_type": "display_data"
    }
   ],
   "source": [
    "plt.hist(np.array(energies_og) - np.array(energies_hybrid))\n",
    "plt.show()"
   ]
  },
  {
   "cell_type": "code",
   "execution_count": 14,
   "id": "796a0beb",
   "metadata": {},
   "outputs": [
    {
     "data": {
      "text/plain": [
       "0.02786370110907592"
      ]
     },
     "execution_count": 14,
     "metadata": {},
     "output_type": "execute_result"
    }
   ],
   "source": [
    "np.mean(np.array(energies_og) - np.array(energies_hybrid))"
   ]
  },
  {
   "cell_type": "code",
   "execution_count": 15,
   "id": "69ebad73",
   "metadata": {},
   "outputs": [
    {
     "data": {
      "text/plain": [
       "0.03060316381820711"
      ]
     },
     "execution_count": 15,
     "metadata": {},
     "output_type": "execute_result"
    }
   ],
   "source": [
    "np.std(np.array(energies_og) - np.array(energies_hybrid))"
   ]
  },
  {
   "cell_type": "code",
   "execution_count": 18,
   "id": "ab0818ae",
   "metadata": {},
   "outputs": [
    {
     "name": "stdout",
     "output_type": "stream",
     "text": [
      "40 0.3823354759369977 408235.66180068 408235.27946520405\n",
      "41 0.41358547587879 1060803.41180068 1060802.998215204\n",
      "55 0.9135854756459594 5750468.91180068 5750467.998215204\n",
      "75 0.47608547587879 915989.41180068 915988.9357152041\n",
      "120 0.16358547587879002 1720692.66180068 1720692.498215204\n",
      "149 1.78858547587879 1048467.16180068 1048465.3732152041\n",
      "152 1.78858547587879 1700591.41180068 1700589.623215204\n",
      "155 0.72608547587879 622109.41180068 622108.6857152041\n",
      "167 0.4135854759369977 92604.16180067998 92603.74821520405\n",
      "175 0.6635854756459594 2395801.4118006798 2395800.748215204\n",
      "176 0.4135854756459594 3043310.6618006798 3043310.248215204\n",
      "185 0.5698354759369977 427130.53680068 427129.96696520405\n",
      "202 0.6635854756459594 2248677.9118006798 2248677.248215204\n",
      "207 0.47608547587879 719591.91180068 719591.4357152041\n",
      "212 529.4135854840279 399280815.4118007 399280285.9982152\n",
      "214 5.663585475645959 2569485.9118006798 2569480.248215204\n",
      "220 0.22608547593699768 292959.66180068 292959.43571520405\n",
      "226 0.3823354759369977 278903.41180068 278903.02946520405\n",
      "227 0.9135854756459594 2621628.4118006798 2621627.498215204\n",
      "228 0.16358547587879002 630144.66180068 630144.4982152041\n",
      "241 0.19483547593699768 301851.91180068 301851.71696520405\n",
      "264 0.18702297592972172 62914.16180067998 62913.974777704054\n",
      "267 0.16358547564595938 4098426.4118006798 4098426.248215204\n",
      "298 0.16358547587879002 1505346.41180068 1505346.248215204\n",
      "311 0.20264797592972172 34545.91180067998 34545.709152704054\n",
      "316 3.413585476577282 23876751.41180068 23876747.998215202\n",
      "319 13.413585476577282 57857247.41180068 57857233.998215206\n",
      "322 0.28858547587879 544265.66180068 544265.3732152041\n",
      "332 0.3510854759369977 141943.03680067998 141942.68571520405\n",
      "343 0.28858547587879 1048308.41180068 1048308.1232152041\n",
      "389 0.16358547587879002 622302.41180068 622302.2482152041\n",
      "407 5.413585476577282 9549592.41180068 9549586.998215204\n",
      "412 0.41358547587879 1841932.91180068 1841932.498215204\n",
      "418 433.41358548402786 315825839.4118007 315825405.9982152\n",
      "420 15.413585476577282 10338610.41180068 10338594.998215204\n",
      "463 0.16358547592972172 35776.41180067998 35776.248215204054\n",
      "473 0.9135854756459594 5278140.91180068 5278139.998215204\n",
      "491 0.21046047593699768 72987.66180067998 72987.45134020405\n",
      "495 0.41358547587879 938245.66180068 938245.2482152041\n"
     ]
    }
   ],
   "source": [
    "for i, (energy_og, energy_hybrid) in enumerate(zip(energies_og, energies_hybrid)):\n",
    "    if energy_og - energy_hybrid > 0.15:\n",
    "        print(i, energy_og - energy_hybrid, energy_og, energy_hybrid)"
   ]
  },
  {
   "cell_type": "code",
   "execution_count": 19,
   "id": "873bf9de",
   "metadata": {},
   "outputs": [],
   "source": [
    "with open(\"energies_bnbs_hybrid.pickle\", \"wb\") as f:\n",
    "    pickle.dump(energies_hybrid, f)\n",
    "with open(\"energies_bnbs_og.pickle\", \"wb\") as f:\n",
    "    pickle.dump(energies_og, f)"
   ]
  },
  {
   "cell_type": "code",
   "execution_count": null,
   "id": "2c00f474",
   "metadata": {},
   "outputs": [],
   "source": []
  }
 ],
 "metadata": {
  "kernelspec": {
   "display_name": "Python 3 (ipykernel)",
   "language": "python",
   "name": "python3"
  },
  "language_info": {
   "codemirror_mode": {
    "name": "ipython",
    "version": 3
   },
   "file_extension": ".py",
   "mimetype": "text/x-python",
   "name": "python",
   "nbconvert_exporter": "python",
   "pygments_lexer": "ipython3",
   "version": "3.8.11"
  }
 },
 "nbformat": 4,
 "nbformat_minor": 5
}
