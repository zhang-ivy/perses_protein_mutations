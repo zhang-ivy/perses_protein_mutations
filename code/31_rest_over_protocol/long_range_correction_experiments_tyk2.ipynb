{
 "cells": [
  {
   "cell_type": "code",
   "execution_count": 1,
   "id": "b5c600cc",
   "metadata": {},
   "outputs": [
    {
     "name": "stderr",
     "output_type": "stream",
     "text": [
      "Warning: importing 'simtk.openmm' is deprecated.  Import 'openmm' instead.\n"
     ]
    }
   ],
   "source": [
    "import pickle\n",
    "from openmmtools.integrators import LangevinIntegrator\n",
    "from simtk import openmm\n",
    "from simtk.openmm import unit \n",
    "from tqdm import tqdm_notebook\n",
    "import numpy as np\n",
    "import matplotlib.pyplot as plt\n",
    "from simtk.openmm import XmlSerializer\n",
    "from openeye import oechem"
   ]
  },
  {
   "cell_type": "markdown",
   "id": "0b982f7d",
   "metadata": {},
   "source": [
    "## Get tyk2 system and minimized state xmls from pickle (there's an env incompatability)"
   ]
  },
  {
   "cell_type": "markdown",
   "id": "d632a57d",
   "metadata": {},
   "source": [
    "Used perses-nonstandard-aa for this part"
   ]
  },
  {
   "cell_type": "code",
   "execution_count": 6,
   "id": "11109de6",
   "metadata": {},
   "outputs": [],
   "source": [
    "# Load tyk2 complex htf\n",
    "htf_np = np.load('/data/chodera/pulidoi/perses/benchmarks/out_1_7/outhybrid_factory.npy.npz', allow_pickle=True)\n",
    "htf_dict = htf_np['arr_0'].tolist()\n",
    "\n",
    "htf = htf_dict['complex']"
   ]
  },
  {
   "cell_type": "code",
   "execution_count": 7,
   "id": "c45d0521",
   "metadata": {},
   "outputs": [],
   "source": [
    "system = htf.hybrid_system\n",
    "positions = htf.hybrid_positions\n",
    "box_vectors = system.getDefaultPeriodicBoxVectors()"
   ]
  },
  {
   "cell_type": "code",
   "execution_count": 8,
   "id": "240d917b",
   "metadata": {},
   "outputs": [],
   "source": [
    "# Set up integrator and context\n",
    "integrator = LangevinIntegrator(temperature=300 * unit.kelvin, \n",
    "                                                        collision_rate=1 / unit.picoseconds, \n",
    "                                                        timestep=4 * unit.femtoseconds)\n",
    "\n",
    "platform = openmm.Platform.getPlatformByName('CUDA')\n",
    "context = openmm.Context(system, integrator, platform)\n",
    "context.setPositions(positions)\n",
    "context.setPeriodicBoxVectors(*box_vectors)\n",
    "context.setPositions(positions)\n",
    "context.setVelocitiesToTemperature(300 * unit.kelvin)\n"
   ]
  },
  {
   "cell_type": "code",
   "execution_count": 9,
   "id": "5e9120cf",
   "metadata": {},
   "outputs": [],
   "source": [
    "# Minimize\n",
    "openmm.LocalEnergyMinimizer.minimize(context)"
   ]
  },
  {
   "cell_type": "code",
   "execution_count": 10,
   "id": "385b0628",
   "metadata": {},
   "outputs": [],
   "source": [
    "with open('tyk2_minimized_state_0.xml', 'w') as f:\n",
    "    f.write(XmlSerializer.serialize(context.getState(getPositions=True, getVelocities=True)))\n",
    "\n",
    "with open('tyk2_system.xml', 'w') as f:\n",
    "    f.write(XmlSerializer.serialize(system))\n"
   ]
  },
  {
   "cell_type": "markdown",
   "id": "cc14c1f6",
   "metadata": {},
   "source": [
    "## Prep for getting energies at lambda = 0\n"
   ]
  },
  {
   "cell_type": "markdown",
   "id": "2ffa7e78",
   "metadata": {},
   "source": [
    "Use perses-rest-over-protocol env for rest of the experiments"
   ]
  },
  {
   "cell_type": "code",
   "execution_count": 55,
   "id": "29b2c25e",
   "metadata": {},
   "outputs": [],
   "source": [
    "with open('tyk2_minimized_state_0.xml') as input:\n",
    "    state = XmlSerializer.deserialize(input.read())\n",
    "\n",
    "with open('tyk2_system.xml') as input:\n",
    "    system = XmlSerializer.deserialize(input.read())\n",
    "    "
   ]
  },
  {
   "cell_type": "code",
   "execution_count": 56,
   "id": "c5196d4a",
   "metadata": {},
   "outputs": [],
   "source": [
    "# Set up integrator and context\n",
    "integrator = LangevinIntegrator(temperature=300 * unit.kelvin, \n",
    "                                collision_rate=1 / unit.picoseconds, \n",
    "                                timestep=4 * unit.femtoseconds)\n",
    "\n",
    "platform = openmm.Platform.getPlatformByName('CUDA')\n",
    "context = openmm.Context(system, integrator, platform)\n",
    "# context.setPositions(positions)\n",
    "# context.setPeriodicBoxVectors(*box_vectors)\n",
    "# context.setPositions(positions)\n",
    "# context.setVelocitiesToTemperature(300 * unit.kelvin)\n",
    "context.setState(state)"
   ]
  },
  {
   "cell_type": "code",
   "execution_count": 36,
   "id": "8b8519ba",
   "metadata": {},
   "outputs": [
    {
     "data": {
      "text/plain": [
       "[<openmm.openmm.MonteCarloBarostat; proxy of <Swig Object of type 'OpenMM::MonteCarloBarostat *' at 0x2b6c81f3fa20> >,\n",
       " <openmm.openmm.CustomBondForce; proxy of <Swig Object of type 'OpenMM::CustomBondForce *' at 0x2b6c81f3f720> >,\n",
       " <openmm.openmm.HarmonicBondForce; proxy of <Swig Object of type 'OpenMM::HarmonicBondForce *' at 0x2b6c81f3fa50> >,\n",
       " <openmm.openmm.CustomAngleForce; proxy of <Swig Object of type 'OpenMM::CustomAngleForce *' at 0x2b6c81f3f660> >,\n",
       " <openmm.openmm.HarmonicAngleForce; proxy of <Swig Object of type 'OpenMM::HarmonicAngleForce *' at 0x2b6c81f3fe70> >,\n",
       " <openmm.openmm.CustomTorsionForce; proxy of <Swig Object of type 'OpenMM::CustomTorsionForce *' at 0x2b6c81f3fae0> >,\n",
       " <openmm.openmm.PeriodicTorsionForce; proxy of <Swig Object of type 'OpenMM::PeriodicTorsionForce *' at 0x2b6c81f3fe10> >,\n",
       " <openmm.openmm.NonbondedForce; proxy of <Swig Object of type 'OpenMM::NonbondedForce *' at 0x2b6c81f3fd20> >,\n",
       " <openmm.openmm.CustomNonbondedForce; proxy of <Swig Object of type 'OpenMM::CustomNonbondedForce *' at 0x2b6c81f3f930> >,\n",
       " <openmm.openmm.CustomBondForce; proxy of <Swig Object of type 'OpenMM::CustomBondForce *' at 0x2b6c81f3f600> >]"
      ]
     },
     "execution_count": 36,
     "metadata": {},
     "output_type": "execute_result"
    }
   ],
   "source": [
    "system.getForces()"
   ]
  },
  {
   "cell_type": "code",
   "execution_count": 37,
   "id": "e4fffe19",
   "metadata": {},
   "outputs": [
    {
     "data": {
      "text/plain": [
       "Quantity(value=1.0, unit=nanometer)"
      ]
     },
     "execution_count": 37,
     "metadata": {},
     "output_type": "execute_result"
    }
   ],
   "source": [
    "system.getForce(7).getCutoffDistance()"
   ]
  },
  {
   "cell_type": "code",
   "execution_count": 38,
   "id": "55ede4f9",
   "metadata": {
    "scrolled": true
   },
   "outputs": [
    {
     "data": {
      "text/plain": [
       "Quantity(value=1.0, unit=nanometer)"
      ]
     },
     "execution_count": 38,
     "metadata": {},
     "output_type": "execute_result"
    }
   ],
   "source": [
    "system.getForce(8).getCutoffDistance()"
   ]
  },
  {
   "cell_type": "markdown",
   "id": "e51bb9ae",
   "metadata": {},
   "source": [
    "## Get coefficient at lambda = 0 (Peter's code)"
   ]
  },
  {
   "cell_type": "code",
   "execution_count": 57,
   "id": "d7398b2f",
   "metadata": {},
   "outputs": [
    {
     "name": "stdout",
     "output_type": "stream",
     "text": [
      "coefficient: 1391444606.7349782 nm**3 kJ/mol\n"
     ]
    }
   ],
   "source": [
    "system.getForce(7).setUseDispersionCorrection(False)\n",
    "system.getForce(8).setUseLongRangeCorrection(False)\n",
    "system.getForce(7).setForceGroup(1) # so we can query just the nonbonded forces\n",
    "system.getForce(8).setForceGroup(1)\n",
    "\n",
    "e1 = context.getState(getEnergy=True, groups={1}).getPotentialEnergy()\n",
    "system.getForce(7).setUseDispersionCorrection(True)\n",
    "system.getForce(8).setUseLongRangeCorrection(True)\n",
    "\n",
    "context.reinitialize(preserveState=True) # otherwise it won't see the change to the force\n",
    "e2 = context.getState(getEnergy=True, groups={1}).getPotentialEnergy()\n",
    "volume = context.getState().getPeriodicBoxVolume()\n",
    "print('coefficient:', (e2-e1)*volume)"
   ]
  },
  {
   "cell_type": "markdown",
   "id": "104e3db3",
   "metadata": {},
   "source": [
    "## Get energy at lambda = 0 without correction"
   ]
  },
  {
   "cell_type": "code",
   "execution_count": 7,
   "id": "71b36579",
   "metadata": {},
   "outputs": [],
   "source": [
    "system.getForce(7).setUseDispersionCorrection(False)"
   ]
  },
  {
   "cell_type": "code",
   "execution_count": 8,
   "id": "36e7f5ec",
   "metadata": {},
   "outputs": [],
   "source": [
    "system.getForce(8).setUseLongRangeCorrection(False)"
   ]
  },
  {
   "cell_type": "code",
   "execution_count": 9,
   "id": "aa5ac113",
   "metadata": {},
   "outputs": [],
   "source": [
    "state = context.getState(getEnergy=True, getParameters=True)"
   ]
  },
  {
   "cell_type": "code",
   "execution_count": 10,
   "id": "5d940b4f",
   "metadata": {},
   "outputs": [
    {
     "data": {
      "text/plain": [
       "Quantity(value=-812145.9588281967, unit=kilojoule/mole)"
      ]
     },
     "execution_count": 10,
     "metadata": {},
     "output_type": "execute_result"
    }
   ],
   "source": [
    "state.getPotentialEnergy()"
   ]
  },
  {
   "cell_type": "code",
   "execution_count": 11,
   "id": "4279b4b4",
   "metadata": {
    "scrolled": false
   },
   "outputs": [
    {
     "data": {
      "text/plain": [
       "Quantity(value=523.509176644875, unit=nanometer**3)"
      ]
     },
     "execution_count": 11,
     "metadata": {},
     "output_type": "execute_result"
    }
   ],
   "source": [
    "state.getPeriodicBoxVolume()"
   ]
  },
  {
   "cell_type": "markdown",
   "id": "198369bf",
   "metadata": {},
   "source": [
    "## Get energy at lambda = 0 with correction"
   ]
  },
  {
   "cell_type": "code",
   "execution_count": 12,
   "id": "901f2224",
   "metadata": {},
   "outputs": [],
   "source": [
    "system.getForce(7).setUseDispersionCorrection(True)"
   ]
  },
  {
   "cell_type": "code",
   "execution_count": 13,
   "id": "db7cfe14",
   "metadata": {},
   "outputs": [],
   "source": [
    "system.getForce(8).setUseLongRangeCorrection(True)"
   ]
  },
  {
   "cell_type": "code",
   "execution_count": 14,
   "id": "1199b158",
   "metadata": {},
   "outputs": [],
   "source": [
    "state = context.getState(getEnergy=True, getParameters=True)"
   ]
  },
  {
   "cell_type": "code",
   "execution_count": 15,
   "id": "5ac1776b",
   "metadata": {},
   "outputs": [
    {
     "data": {
      "text/plain": [
       "Quantity(value=-812145.9588281967, unit=kilojoule/mole)"
      ]
     },
     "execution_count": 15,
     "metadata": {},
     "output_type": "execute_result"
    }
   ],
   "source": [
    "state.getPotentialEnergy()"
   ]
  },
  {
   "cell_type": "code",
   "execution_count": 16,
   "id": "965280e7",
   "metadata": {
    "scrolled": true
   },
   "outputs": [
    {
     "data": {
      "text/plain": [
       "Quantity(value=523.509176644875, unit=nanometer**3)"
      ]
     },
     "execution_count": 16,
     "metadata": {},
     "output_type": "execute_result"
    }
   ],
   "source": [
    "state.getPeriodicBoxVolume()"
   ]
  },
  {
   "cell_type": "markdown",
   "id": "f8f0dab4",
   "metadata": {},
   "source": [
    "##  Set endstate to lambda = 1"
   ]
  },
  {
   "cell_type": "code",
   "execution_count": 51,
   "id": "74366a34",
   "metadata": {},
   "outputs": [],
   "source": [
    "with open('tyk2_minimized_state_1.xml') as input:\n",
    "    state = XmlSerializer.deserialize(input.read())\n",
    "\n",
    "with open('tyk2_system.xml') as input:\n",
    "    system = XmlSerializer.deserialize(input.read())\n",
    "    "
   ]
  },
  {
   "cell_type": "code",
   "execution_count": 52,
   "id": "31ea86b9",
   "metadata": {},
   "outputs": [],
   "source": [
    "# Set up integrator and context\n",
    "integrator = LangevinIntegrator(temperature=300 * unit.kelvin, \n",
    "                                                        collision_rate=1 / unit.picoseconds, \n",
    "                                                        timestep=4 * unit.femtoseconds)\n",
    "\n",
    "platform = openmm.Platform.getPlatformByName('CUDA')\n",
    "context = openmm.Context(system, integrator, platform)\n",
    "# context.setPositions(positions)\n",
    "# context.setPeriodicBoxVectors(*box_vectors)\n",
    "# context.setPositions(positions)\n",
    "# context.setVelocitiesToTemperature(300 * unit.kelvin)\n",
    "context.setState(state)"
   ]
  },
  {
   "cell_type": "code",
   "execution_count": 53,
   "id": "b0a8ace7",
   "metadata": {
    "scrolled": true
   },
   "outputs": [
    {
     "name": "stdout",
     "output_type": "stream",
     "text": [
      "MonteCarloPressure 1.01325\n",
      "MonteCarloTemperature 300.0\n",
      "lambda_angles 1.0\n",
      "lambda_bonds 1.0\n",
      "lambda_electrostatics_core 1.0\n",
      "lambda_electrostatics_delete 1.0\n",
      "lambda_electrostatics_insert 1.0\n",
      "lambda_sterics_core 1.0\n",
      "lambda_sterics_delete 1.0\n",
      "lambda_sterics_insert 1.0\n",
      "lambda_torsions 1.0\n",
      "softcore_alpha 0.5\n"
     ]
    }
   ],
   "source": [
    "for k, v in context.getParameters().items():\n",
    "    if 'lambda' in k:\n",
    "        context.setParameter(k, 1.0)\n",
    "        \n",
    "for k, v in context.getParameters().items():\n",
    "    print(k, v)"
   ]
  },
  {
   "cell_type": "code",
   "execution_count": 18,
   "id": "6abb1158",
   "metadata": {},
   "outputs": [],
   "source": [
    "# # Minimize\n",
    "# openmm.LocalEnergyMinimizer.minimize(context)"
   ]
  },
  {
   "cell_type": "code",
   "execution_count": 19,
   "id": "d35bc269",
   "metadata": {},
   "outputs": [],
   "source": [
    "# with open('tyk2_minimized_state_1.xml', 'w') as f:\n",
    "#     f.write(XmlSerializer.serialize(context.getState(getPositions=True, getVelocities=True)))\n"
   ]
  },
  {
   "cell_type": "markdown",
   "id": "ca0be8bc",
   "metadata": {},
   "source": [
    "## Get coefficient at lambda = 1 (Peter's code)"
   ]
  },
  {
   "cell_type": "code",
   "execution_count": 54,
   "id": "a796c134",
   "metadata": {},
   "outputs": [
    {
     "name": "stdout",
     "output_type": "stream",
     "text": [
      "coefficient: 1391370281.631637 nm**3 kJ/mol\n"
     ]
    }
   ],
   "source": [
    "system.getForce(7).setUseDispersionCorrection(False)\n",
    "system.getForce(8).setUseLongRangeCorrection(False)\n",
    "system.getForce(7).setForceGroup(1) # so we can query just the nonbonded forces\n",
    "system.getForce(8).setForceGroup(1)\n",
    "\n",
    "e1 = context.getState(getEnergy=True, groups={1}).getPotentialEnergy()\n",
    "system.getForce(7).setUseDispersionCorrection(True)\n",
    "system.getForce(8).setUseLongRangeCorrection(True)\n",
    "\n",
    "context.reinitialize(preserveState=True) # otherwise it won't see the change to the force\n",
    "e2 = context.getState(getEnergy=True, groups={1}).getPotentialEnergy()\n",
    "volume = context.getState().getPeriodicBoxVolume()\n",
    "print('coefficient:', (e2-e1)*volume)"
   ]
  },
  {
   "cell_type": "markdown",
   "id": "58f8f1d0",
   "metadata": {},
   "source": [
    "## Get energy at lambda = 1 without correction"
   ]
  },
  {
   "cell_type": "code",
   "execution_count": 20,
   "id": "be043dca",
   "metadata": {},
   "outputs": [],
   "source": [
    "system.getForce(7).setUseDispersionCorrection(False)"
   ]
  },
  {
   "cell_type": "code",
   "execution_count": 21,
   "id": "044bfd67",
   "metadata": {},
   "outputs": [],
   "source": [
    "system.getForce(8).setUseLongRangeCorrection(False)"
   ]
  },
  {
   "cell_type": "code",
   "execution_count": 22,
   "id": "7fff9ed1",
   "metadata": {},
   "outputs": [],
   "source": [
    "state = context.getState(getEnergy=True, getParameters=True)"
   ]
  },
  {
   "cell_type": "code",
   "execution_count": 23,
   "id": "731af602",
   "metadata": {},
   "outputs": [
    {
     "data": {
      "text/plain": [
       "Quantity(value=-812296.8338281967, unit=kilojoule/mole)"
      ]
     },
     "execution_count": 23,
     "metadata": {},
     "output_type": "execute_result"
    }
   ],
   "source": [
    "state.getPotentialEnergy()"
   ]
  },
  {
   "cell_type": "code",
   "execution_count": 24,
   "id": "79b3c282",
   "metadata": {
    "scrolled": false
   },
   "outputs": [
    {
     "data": {
      "text/plain": [
       "Quantity(value=523.509176644875, unit=nanometer**3)"
      ]
     },
     "execution_count": 24,
     "metadata": {},
     "output_type": "execute_result"
    }
   ],
   "source": [
    "state.getPeriodicBoxVolume()"
   ]
  },
  {
   "cell_type": "markdown",
   "id": "22fd2199",
   "metadata": {},
   "source": [
    "## Get energy at lambda = 1 with correction"
   ]
  },
  {
   "cell_type": "code",
   "execution_count": 25,
   "id": "6b7f52a7",
   "metadata": {},
   "outputs": [],
   "source": [
    "system.getForce(7).setUseDispersionCorrection(True)"
   ]
  },
  {
   "cell_type": "code",
   "execution_count": 26,
   "id": "ce269098",
   "metadata": {},
   "outputs": [],
   "source": [
    "system.getForce(8).setUseLongRangeCorrection(True)"
   ]
  },
  {
   "cell_type": "code",
   "execution_count": 27,
   "id": "39492667",
   "metadata": {},
   "outputs": [],
   "source": [
    "state = context.getState(getEnergy=True, getParameters=True)"
   ]
  },
  {
   "cell_type": "code",
   "execution_count": 28,
   "id": "d6e37eb0",
   "metadata": {},
   "outputs": [
    {
     "data": {
      "text/plain": [
       "Quantity(value=-812296.8338281967, unit=kilojoule/mole)"
      ]
     },
     "execution_count": 28,
     "metadata": {},
     "output_type": "execute_result"
    }
   ],
   "source": [
    "state.getPotentialEnergy()"
   ]
  },
  {
   "cell_type": "code",
   "execution_count": 29,
   "id": "5ea10f86",
   "metadata": {
    "scrolled": true
   },
   "outputs": [
    {
     "data": {
      "text/plain": [
       "Quantity(value=523.509176644875, unit=nanometer**3)"
      ]
     },
     "execution_count": 29,
     "metadata": {},
     "output_type": "execute_result"
    }
   ],
   "source": [
    "state.getPeriodicBoxVolume()"
   ]
  },
  {
   "cell_type": "markdown",
   "id": "0205f39a",
   "metadata": {},
   "source": [
    "## Get energies and box volumes for lambda = 0"
   ]
  },
  {
   "cell_type": "code",
   "execution_count": 30,
   "id": "436127e4",
   "metadata": {},
   "outputs": [],
   "source": [
    "with open('tyk2_minimized_state_0.xml') as input:\n",
    "    state = XmlSerializer.deserialize(input.read())\n",
    "\n",
    "with open('tyk2_system.xml') as input:\n",
    "    system = XmlSerializer.deserialize(input.read())"
   ]
  },
  {
   "cell_type": "code",
   "execution_count": 31,
   "id": "d06c9137",
   "metadata": {},
   "outputs": [],
   "source": [
    "# Set up integrator and context\n",
    "integrator = LangevinIntegrator(temperature=300 * unit.kelvin, \n",
    "                                                        collision_rate=1 / unit.picoseconds, \n",
    "                                                        timestep=4 * unit.femtoseconds)\n",
    "\n",
    "platform = openmm.Platform.getPlatformByName('CUDA')\n",
    "context = openmm.Context(system, integrator, platform)\n",
    "# context.setPositions(positions)\n",
    "# context.setPeriodicBoxVectors(*box_vectors)\n",
    "# context.setPositions(positions)\n",
    "# context.setVelocitiesToTemperature(300 * unit.kelvin)\n",
    "context.setState(state)"
   ]
  },
  {
   "cell_type": "code",
   "execution_count": 32,
   "id": "eebaba91",
   "metadata": {
    "scrolled": true
   },
   "outputs": [
    {
     "name": "stdout",
     "output_type": "stream",
     "text": [
      "MonteCarloPressure 1.01325\n",
      "MonteCarloTemperature 300.0\n",
      "lambda_angles 0.0\n",
      "lambda_bonds 0.0\n",
      "lambda_electrostatics_core 0.0\n",
      "lambda_electrostatics_delete 0.0\n",
      "lambda_electrostatics_insert 0.0\n",
      "lambda_sterics_core 0.0\n",
      "lambda_sterics_delete 0.0\n",
      "lambda_sterics_insert 0.0\n",
      "lambda_torsions 0.0\n",
      "softcore_alpha 0.5\n"
     ]
    }
   ],
   "source": [
    "for k, v in context.getParameters().items():\n",
    "    if 'lambda' in k:\n",
    "        context.setParameter(k, 0.0)\n",
    "        \n",
    "for k, v in context.getParameters().items():\n",
    "    print(k, v)"
   ]
  },
  {
   "cell_type": "code",
   "execution_count": 33,
   "id": "47caac22",
   "metadata": {},
   "outputs": [],
   "source": [
    "system.getForce(7).setUseDispersionCorrection(False)\n",
    "system.getForce(8).setUseLongRangeCorrection(False)"
   ]
  },
  {
   "cell_type": "code",
   "execution_count": 34,
   "id": "1df8fcc3",
   "metadata": {},
   "outputs": [
    {
     "name": "stderr",
     "output_type": "stream",
     "text": [
      "/scratch/lsftmp/4041702.tmpdir/ipykernel_18426/512206467.py:5: TqdmDeprecationWarning: This function will be removed in tqdm==5.0.0\n",
      "Please use `tqdm.notebook.tqdm` instead of `tqdm.tqdm_notebook`\n",
      "  for _ in tqdm_notebook(range(1000)):\n"
     ]
    },
    {
     "data": {
      "application/vnd.jupyter.widget-view+json": {
       "model_id": "489e7d5237d043f583ed6f64041cbce9",
       "version_major": 2,
       "version_minor": 0
      },
      "text/plain": [
       "  0%|          | 0/1000 [00:00<?, ?it/s]"
      ]
     },
     "metadata": {},
     "output_type": "display_data"
    }
   ],
   "source": [
    "volumes_0 = []\n",
    "energies_0_without_correction = []\n",
    "energies_0_with_correction = []\n",
    "\n",
    "for _ in tqdm_notebook(range(1000)):\n",
    "    integrator.step(250) \n",
    "    \n",
    "    # Get box volume and energy without correction\n",
    "    state = context.getState(getEnergy=True)\n",
    "    volumes_0.append(state.getPeriodicBoxVolume().value_in_unit_system(unit.md_unit_system))\n",
    "    energies_0_without_correction.append(state.getPotentialEnergy().value_in_unit_system(unit.md_unit_system))\n",
    "    \n",
    "    # Get energy with correction\n",
    "    system.getForce(7).setUseDispersionCorrection(True)\n",
    "    system.getForce(8).setUseLongRangeCorrection(True)\n",
    "    state = context.getState(getEnergy=True)\n",
    "    energies_0_with_correction.append(state.getPotentialEnergy().value_in_unit_system(unit.md_unit_system))\n",
    "    \n",
    "    # Turn correction off\n",
    "    system.getForce(7).setUseDispersionCorrection(False)\n",
    "    system.getForce(8).setUseLongRangeCorrection(False)"
   ]
  },
  {
   "cell_type": "code",
   "execution_count": 35,
   "id": "34b56b60",
   "metadata": {},
   "outputs": [],
   "source": [
    "with open(\"tyk2_volumes_0.npy\", \"wb\") as f:\n",
    "    np.save(f, np.array(volumes_0))\n",
    "    \n",
    "with open(\"tyk2_energies_0_without_correction.npy\", \"wb\") as f:\n",
    "    np.save(f, np.array(energies_0_without_correction))\n",
    "    \n",
    "with open(\"tyk2_energies_0_with_correction.npy\", \"wb\") as f:\n",
    "    np.save(f, np.array(energies_0_with_correction))"
   ]
  },
  {
   "cell_type": "code",
   "execution_count": 14,
   "id": "f82c4e11",
   "metadata": {},
   "outputs": [],
   "source": [
    "with open(\"tyk2_volumes_0.npy\", \"rb\") as f:\n",
    "    volumes_0 = np.load(f)\n",
    "    "
   ]
  },
  {
   "cell_type": "code",
   "execution_count": 15,
   "id": "53f1ae93",
   "metadata": {},
   "outputs": [
    {
     "data": {
      "image/png": "[encoded data removed]",
      "text/plain": [
       "<Figure size 432x288 with 1 Axes>"
      ]
     },
     "metadata": {
      "needs_background": "light"
     },
     "output_type": "display_data"
    }
   ],
   "source": [
    "plt.plot(1/np.array(volumes_0))\n",
    "plt.ylabel('box volume')\n",
    "plt.xlabel('snapshot #')\n",
    "plt.show()"
   ]
  },
  {
   "cell_type": "code",
   "execution_count": 16,
   "id": "b3f30cce",
   "metadata": {},
   "outputs": [
    {
     "data": {
      "text/plain": [
       "0.0020253639646206404"
      ]
     },
     "execution_count": 16,
     "metadata": {},
     "output_type": "execute_result"
    }
   ],
   "source": [
    "np.mean(1/np.array(volumes_0[300:]))"
   ]
  },
  {
   "cell_type": "code",
   "execution_count": 17,
   "id": "94ea5d6b",
   "metadata": {},
   "outputs": [
    {
     "data": {
      "text/plain": [
       "3.7006908511059544e-06"
      ]
     },
     "execution_count": 17,
     "metadata": {},
     "output_type": "execute_result"
    }
   ],
   "source": [
    "np.std(1/np.array(volumes_0[300:]))"
   ]
  },
  {
   "cell_type": "code",
   "execution_count": 39,
   "id": "93c052ed",
   "metadata": {},
   "outputs": [
    {
     "data": {
      "text/plain": [
       "[<matplotlib.lines.Line2D at 0x2ba6c4845e20>]"
      ]
     },
     "execution_count": 39,
     "metadata": {},
     "output_type": "execute_result"
    },
    {
     "data": {
      "image/png": "[encoded data removed]",
      "text/plain": [
       "<Figure size 432x288 with 1 Axes>"
      ]
     },
     "metadata": {
      "needs_background": "light"
     },
     "output_type": "display_data"
    }
   ],
   "source": [
    "plt.plot((np.array(energies_0_with_correction) - np.array(energies_0_without_correction))*np.array(volumes_0))"
   ]
  },
  {
   "cell_type": "code",
   "execution_count": 40,
   "id": "cfbc495f",
   "metadata": {},
   "outputs": [
    {
     "data": {
      "text/plain": [
       "0.0609348559135845"
      ]
     },
     "execution_count": 40,
     "metadata": {},
     "output_type": "execute_result"
    }
   ],
   "source": [
    "np.mean((np.array(energies_0_with_correction) - np.array(energies_0_without_correction))*np.array(volumes_0))"
   ]
  },
  {
   "cell_type": "code",
   "execution_count": 41,
   "id": "ad88ec83",
   "metadata": {},
   "outputs": [
    {
     "data": {
      "text/plain": [
       "5.1640113240166015"
      ]
     },
     "execution_count": 41,
     "metadata": {},
     "output_type": "execute_result"
    }
   ],
   "source": [
    "np.std((np.array(energies_0_with_correction) - np.array(energies_0_without_correction))*np.array(volumes_0))"
   ]
  },
  {
   "cell_type": "markdown",
   "id": "0032db32",
   "metadata": {},
   "source": [
    "## Get box volumes for lambda = 1 (without correction)"
   ]
  },
  {
   "cell_type": "code",
   "execution_count": 2,
   "id": "5c23572f",
   "metadata": {},
   "outputs": [],
   "source": [
    "with open('tyk2_minimized_state_1.xml') as input:\n",
    "    state = XmlSerializer.deserialize(input.read())\n",
    "\n",
    "with open('tyk2_system.xml') as input:\n",
    "    system = XmlSerializer.deserialize(input.read())"
   ]
  },
  {
   "cell_type": "code",
   "execution_count": 3,
   "id": "2384da4b",
   "metadata": {},
   "outputs": [],
   "source": [
    "# Set up integrator and context\n",
    "integrator = LangevinIntegrator(temperature=300 * unit.kelvin, \n",
    "                                                        collision_rate=1 / unit.picoseconds, \n",
    "                                                        timestep=4 * unit.femtoseconds)\n",
    "\n",
    "platform = openmm.Platform.getPlatformByName('CUDA')\n",
    "context = openmm.Context(system, integrator, platform)\n",
    "# context.setPositions(positions)\n",
    "# context.setPeriodicBoxVectors(*box_vectors)\n",
    "# context.setPositions(positions)\n",
    "# context.setVelocitiesToTemperature(300 * unit.kelvin)\n",
    "context.setState(state)"
   ]
  },
  {
   "cell_type": "code",
   "execution_count": 4,
   "id": "c5bf8db7",
   "metadata": {
    "scrolled": true
   },
   "outputs": [
    {
     "name": "stdout",
     "output_type": "stream",
     "text": [
      "MonteCarloPressure 1.01325\n",
      "MonteCarloTemperature 300.0\n",
      "lambda_angles 1.0\n",
      "lambda_bonds 1.0\n",
      "lambda_electrostatics_core 1.0\n",
      "lambda_electrostatics_delete 1.0\n",
      "lambda_electrostatics_insert 1.0\n",
      "lambda_sterics_core 1.0\n",
      "lambda_sterics_delete 1.0\n",
      "lambda_sterics_insert 1.0\n",
      "lambda_torsions 1.0\n",
      "softcore_alpha 0.5\n"
     ]
    }
   ],
   "source": [
    "for k, v in context.getParameters().items():\n",
    "    if 'lambda' in k:\n",
    "        context.setParameter(k, 1.0)\n",
    "        \n",
    "for k, v in context.getParameters().items():\n",
    "    print(k, v)"
   ]
  },
  {
   "cell_type": "code",
   "execution_count": 5,
   "id": "978b1a53",
   "metadata": {},
   "outputs": [],
   "source": [
    "system.getForce(8).setUseLongRangeCorrection(False)\n",
    "system.getForce(7).setUseDispersionCorrection(False)"
   ]
  },
  {
   "cell_type": "code",
   "execution_count": 6,
   "id": "eb43402f",
   "metadata": {},
   "outputs": [
    {
     "name": "stderr",
     "output_type": "stream",
     "text": [
      "/scratch/lsftmp/4042699.tmpdir/ipykernel_1309/1607465935.py:5: TqdmDeprecationWarning: This function will be removed in tqdm==5.0.0\n",
      "Please use `tqdm.notebook.tqdm` instead of `tqdm.tqdm_notebook`\n",
      "  for _ in tqdm_notebook(range(1000)):\n"
     ]
    },
    {
     "data": {
      "application/vnd.jupyter.widget-view+json": {
       "model_id": "decf87146b8a4f6fad1064ec1d8290da",
       "version_major": 2,
       "version_minor": 0
      },
      "text/plain": [
       "  0%|          | 0/1000 [00:00<?, ?it/s]"
      ]
     },
     "metadata": {},
     "output_type": "display_data"
    }
   ],
   "source": [
    "volumes_1 = []\n",
    "energies_1_without_correction = []\n",
    "energies_1_with_correction = []\n",
    "\n",
    "for _ in tqdm_notebook(range(1000)):\n",
    "    integrator.step(250) \n",
    "    \n",
    "    # Get box volume and energy without correction\n",
    "    state = context.getState(getEnergy=True)\n",
    "    volumes_1.append(state.getPeriodicBoxVolume().value_in_unit_system(unit.md_unit_system))\n",
    "    energies_1_without_correction.append(state.getPotentialEnergy().value_in_unit_system(unit.md_unit_system))\n",
    "    \n",
    "    # Get energy with correction\n",
    "    system.getForce(7).setUseDispersionCorrection(True)\n",
    "    system.getForce(8).setUseLongRangeCorrection(True)\n",
    "    state = context.getState(getEnergy=True)\n",
    "    energies_1_with_correction.append(state.getPotentialEnergy().value_in_unit_system(unit.md_unit_system))\n",
    "    \n",
    "    # Turn correction off\n",
    "    system.getForce(7).setUseDispersionCorrection(False)\n",
    "    system.getForce(8).setUseLongRangeCorrection(False)"
   ]
  },
  {
   "cell_type": "code",
   "execution_count": 7,
   "id": "ec721de7",
   "metadata": {},
   "outputs": [],
   "source": [
    "with open(\"tyk2_volumes_1.npy\", \"wb\") as f:\n",
    "    np.save(f, np.array(volumes_1))\n",
    "    \n",
    "with open(\"tyk2_energies_1_without_correction.npy\", \"wb\") as f:\n",
    "    np.save(f, np.array(energies_1_without_correction))\n",
    "    \n",
    "with open(\"tyk2_energies_1_with_correction.npy\", \"wb\") as f:\n",
    "    np.save(f, np.array(energies_1_with_correction))"
   ]
  },
  {
   "cell_type": "code",
   "execution_count": 8,
   "id": "578fdd70",
   "metadata": {},
   "outputs": [
    {
     "data": {
      "image/png": "[encoded data removed]",
      "text/plain": [
       "<Figure size 432x288 with 1 Axes>"
      ]
     },
     "metadata": {
      "needs_background": "light"
     },
     "output_type": "display_data"
    }
   ],
   "source": [
    "plt.plot(1/np.array(volumes_1))\n",
    "plt.ylabel('box volume')\n",
    "plt.xlabel('snapshot #')\n",
    "plt.show()"
   ]
  },
  {
   "cell_type": "code",
   "execution_count": 11,
   "id": "0bf03f99",
   "metadata": {},
   "outputs": [
    {
     "data": {
      "text/plain": [
       "0.002024878962158837"
      ]
     },
     "execution_count": 11,
     "metadata": {},
     "output_type": "execute_result"
    }
   ],
   "source": [
    "np.mean(1/np.array(volumes_1[300:]))"
   ]
  },
  {
   "cell_type": "code",
   "execution_count": 12,
   "id": "7c715582",
   "metadata": {},
   "outputs": [
    {
     "data": {
      "text/plain": [
       "4.267036202637575e-06"
      ]
     },
     "execution_count": 12,
     "metadata": {},
     "output_type": "execute_result"
    }
   ],
   "source": [
    "np.std(1/np.array(volumes_1[300:]))"
   ]
  },
  {
   "cell_type": "code",
   "execution_count": 51,
   "id": "4a75fb58",
   "metadata": {},
   "outputs": [
    {
     "data": {
      "text/plain": [
       "[<matplotlib.lines.Line2D at 0x2ba6caf962e0>]"
      ]
     },
     "execution_count": 51,
     "metadata": {},
     "output_type": "execute_result"
    },
    {
     "data": {
      "image/png": "[encoded data removed]",
      "text/plain": [
       "<Figure size 432x288 with 1 Axes>"
      ]
     },
     "metadata": {
      "needs_background": "light"
     },
     "output_type": "display_data"
    }
   ],
   "source": [
    "plt.plot((np.array(energies_1_with_correction) - np.array(energies_1_without_correction))*np.array(volumes_1))"
   ]
  },
  {
   "cell_type": "code",
   "execution_count": 52,
   "id": "bca27b34",
   "metadata": {},
   "outputs": [
    {
     "data": {
      "text/plain": [
       "-0.06163438665437092"
      ]
     },
     "execution_count": 52,
     "metadata": {},
     "output_type": "execute_result"
    }
   ],
   "source": [
    "np.mean((np.array(energies_1_with_correction) - np.array(energies_1_without_correction))*np.array(volumes_1))"
   ]
  },
  {
   "cell_type": "code",
   "execution_count": 53,
   "id": "57934718",
   "metadata": {},
   "outputs": [
    {
     "data": {
      "text/plain": [
       "5.688603035895988"
      ]
     },
     "execution_count": 53,
     "metadata": {},
     "output_type": "execute_result"
    }
   ],
   "source": [
    "np.std((np.array(energies_1_with_correction) - np.array(energies_1_without_correction))*np.array(volumes_1))"
   ]
  },
  {
   "cell_type": "code",
   "execution_count": null,
   "id": "73ddf424",
   "metadata": {},
   "outputs": [],
   "source": []
  }
 ],
 "metadata": {
  "kernelspec": {
   "display_name": "Python 3 (ipykernel)",
   "language": "python",
   "name": "python3"
  },
  "language_info": {
   "codemirror_mode": {
    "name": "ipython",
    "version": 3
   },
   "file_extension": ".py",
   "mimetype": "text/x-python",
   "name": "python",
   "nbconvert_exporter": "python",
   "pygments_lexer": "ipython3",
   "version": "3.8.11"
  }
 },
 "nbformat": 4,
 "nbformat_minor": 5
}
