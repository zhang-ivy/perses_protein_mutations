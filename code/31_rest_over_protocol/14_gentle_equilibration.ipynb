{
 "cells": [
  {
   "cell_type": "code",
   "execution_count": 64,
   "id": "3fdddadf",
   "metadata": {},
   "outputs": [],
   "source": [
    "# from openmm import LangevinMiddleIntegrator\n",
    "\n",
    "# LangevinMiddleIntegrator(300 * unit.kelvin, )"
   ]
  },
  {
   "cell_type": "code",
   "execution_count": 66,
   "id": "51711be6",
   "metadata": {},
   "outputs": [],
   "source": [
    "import openmm\n",
    "from openmm import unit\n",
    "\n",
    "from openmmtools import integrators\n",
    "\n",
    "import mdtraj as md\n",
    "\n",
    "import copy\n",
    "import pickle\n",
    "from openeye import oechem\n",
    "import tqdm"
   ]
  },
  {
   "cell_type": "code",
   "execution_count": 67,
   "id": "c483c6fb",
   "metadata": {},
   "outputs": [],
   "source": [
    "# Load ALA->THR dipeptide rest htf\n",
    "with open(\"atp_solvent.pickle\", \"rb\") as f:\n",
    "    htf = pickle.load(f)\n",
    "\n",
    "# # Load RBD:ACE2 rest htf\n",
    "# with open(\"/data/chodera/zhangi/perses_benchmark/neq/15/202/202_complex.pickle\", \"rb\") as f:\n",
    "#     htf = pickle.load(f)"
   ]
  },
  {
   "cell_type": "code",
   "execution_count": 69,
   "id": "fe63b40d",
   "metadata": {},
   "outputs": [],
   "source": [
    "# Retrieve old positions and system \n",
    "# (in PointMutationExecutor, we will want to feed the gently equilibrated positions in before geometry engine)\n",
    "positions = htf.old_positions(htf.hybrid_positions)\n",
    "system = htf._topology_proposal.old_system\n",
    "topology = htf._topology_proposal.old_topology"
   ]
  },
  {
   "cell_type": "markdown",
   "id": "3d4d22fa",
   "metadata": {},
   "source": [
    "# Stage 1: 10 K steps minimization, restrain protein heavy atoms (force constant = 100 kcal/molA^2)"
   ]
  },
  {
   "cell_type": "code",
   "execution_count": 70,
   "id": "7929646a",
   "metadata": {},
   "outputs": [
    {
     "data": {
      "text/plain": [
       "5"
      ]
     },
     "execution_count": 70,
     "metadata": {},
     "output_type": "execute_result"
    }
   ],
   "source": [
    "# Add restraint\n",
    "system_copy = copy.deepcopy(system)\n",
    "\n",
    "# force = openmm.CustomExternalForce(\"k*((x-x0)^2+(y-y0)^2+(z-z0)^2)\")\n",
    "# force.addGlobalParameter(\"k\", 100.0*unit.kilocalories_per_mole/unit.angstroms**2)\n",
    "# force.addPerParticleParameter(\"x0\")\n",
    "# force.addPerParticleParameter(\"y0\")\n",
    "# force.addPerParticleParameter(\"z0\")\n",
    "\n",
    "traj = md.Trajectory(positions, md.Topology.from_openmm(topology))\n",
    "selection_indices = traj.topology.select('protein and not type H')\n",
    "\n",
    "# for index in selection_indices:\n",
    "#     force.addParticle(index, positions[index].value_in_unit(unit.nanometers))\n",
    "\n",
    "# system_copy.addForce(force)\n",
    "\n",
    "custom_cv_force = openmm.CustomCVForce('(K_RMSD/2)*(RMSD)^2')\n",
    "custom_cv_force.addGlobalParameter('K_RMSD', 100.0*unit.kilocalories_per_mole/unit.angstroms**2)\n",
    "rmsd_force = openmm.RMSDForce(positions, selection_indices)\n",
    "custom_cv_force.addCollectiveVariable('RMSD', rmsd_force)\n",
    "system_copy.addForce(custom_cv_force)\n"
   ]
  },
  {
   "cell_type": "code",
   "execution_count": 71,
   "id": "af96b800",
   "metadata": {},
   "outputs": [],
   "source": [
    "# Set up integrator\n",
    "temperature = 300 * unit.kelvin\n",
    "collision_rate = 1.0 / unit.picoseconds\n",
    "timestep = 4.0 * unit.femtoseconds\n",
    "splitting = 'V R O R V'\n",
    "constraint_tolerance = 1e-08\n",
    "integrator = integrators.LangevinIntegrator(temperature=temperature, \n",
    "                                            collision_rate=collision_rate, \n",
    "                                            timestep=timestep, \n",
    "                                            splitting=splitting, \n",
    "                                            constraint_tolerance=constraint_tolerance)\n",
    "\n",
    "# Set up context\n",
    "platform_name = 'CUDA'\n",
    "platform = openmm.Platform.getPlatformByName(platform_name)\n",
    "if platform_name in ['CUDA', 'OpenCL']:\n",
    "    platform.setPropertyDefaultValue('Precision', 'mixed')\n",
    "if platform_name in ['CUDA']:\n",
    "    platform.setPropertyDefaultValue('DeterministicForces', 'true')\n",
    "context = openmm.Context(system_copy, integrator, platform)\n",
    "context.setPeriodicBoxVectors(*system_copy.getDefaultPeriodicBoxVectors())\n",
    "context.setPositions(positions)\n",
    "context.setVelocitiesToTemperature(temperature)\n",
    "\n",
    "# Minimize\n",
    "openmm.LocalEnergyMinimizer.minimize(context, maxIterations=10000)"
   ]
  },
  {
   "cell_type": "code",
   "execution_count": 72,
   "id": "b3079e14",
   "metadata": {},
   "outputs": [],
   "source": [
    "positions = context.getState(getPositions=True).getPositions(asNumpy=True)"
   ]
  },
  {
   "cell_type": "markdown",
   "id": "10c6fdde",
   "metadata": {},
   "source": [
    "# Stage 2: 100 K steps MD, T = 100/300 K, NVT, restrain protein heavy atoms (force constant = 100 kcal/molA^2), bath coupling constant = 0.1 ps"
   ]
  },
  {
   "cell_type": "markdown",
   "id": "517c8065",
   "metadata": {},
   "source": [
    "Questions: What does \"100/300\" means? To make this NVT, do I just remove the barostat? What is a bath coupling constant? Why is this nan-ing?"
   ]
  },
  {
   "cell_type": "code",
   "execution_count": 73,
   "id": "c3107e72",
   "metadata": {},
   "outputs": [
    {
     "data": {
      "text/plain": [
       "5"
      ]
     },
     "execution_count": 73,
     "metadata": {},
     "output_type": "execute_result"
    }
   ],
   "source": [
    "# Add restraint\n",
    "system_copy = copy.deepcopy(system)\n",
    "\n",
    "# force = openmm.CustomExternalForce(\"k*((x-x0)^2+(y-y0)^2+(z-z0)^2)\")\n",
    "# force.addGlobalParameter(\"k\", 100.0*unit.kilocalories_per_mole/unit.angstroms**2)\n",
    "# force.addPerParticleParameter(\"x0\")\n",
    "# force.addPerParticleParameter(\"y0\")\n",
    "# force.addPerParticleParameter(\"z0\")\n",
    "\n",
    "traj = md.Trajectory(positions, md.Topology.from_openmm(topology))\n",
    "selection_indices = traj.topology.select('protein and not type H')\n",
    "\n",
    "# for index in selection_indices:\n",
    "#     force.addParticle(index, positions[index].value_in_unit(unit.nanometers))\n",
    "\n",
    "# system_copy.addForce(force)\n",
    "\n",
    "custom_cv_force = openmm.CustomCVForce('(K_RMSD/2)*(RMSD)^2')\n",
    "custom_cv_force.addGlobalParameter('K_RMSD', 100.0*unit.kilocalories_per_mole/unit.angstroms**2)\n",
    "rmsd_force = openmm.RMSDForce(positions, selection_indices)\n",
    "custom_cv_force.addCollectiveVariable('RMSD', rmsd_force)\n",
    "system_copy.addForce(custom_cv_force)\n"
   ]
  },
  {
   "cell_type": "code",
   "execution_count": 75,
   "id": "2b0d88d0",
   "metadata": {},
   "outputs": [
    {
     "name": "stderr",
     "output_type": "stream",
     "text": [
      "/scratch/lsftmp/4773884.tmpdir/ipykernel_756539/4156506540.py:26: TqdmDeprecationWarning: This function will be removed in tqdm==5.0.0\n",
      "Please use `tqdm.notebook.tqdm` instead of `tqdm.tqdm_notebook`\n",
      "  for _ in tqdm.tqdm_notebook(range(100000)):\n"
     ]
    },
    {
     "data": {
      "application/vnd.jupyter.widget-view+json": {
       "model_id": "6e97aa86b3b7429eba19620e5090452f",
       "version_major": 2,
       "version_minor": 0
      },
      "text/plain": [
       "  0%|          | 0/100000 [00:00<?, ?it/s]"
      ]
     },
     "metadata": {},
     "output_type": "display_data"
    }
   ],
   "source": [
    "# Set up integrator\n",
    "temperature = 300 * unit.kelvin\n",
    "collision_rate = 1.0 / unit.picoseconds\n",
    "timestep = 4.0 * unit.femtoseconds\n",
    "splitting = 'V R O R V'\n",
    "constraint_tolerance = 1e-08\n",
    "integrator = integrators.LangevinIntegrator(temperature=temperature, \n",
    "                                            collision_rate=collision_rate, \n",
    "                                            timestep=timestep, \n",
    "                                            splitting=splitting, \n",
    "                                            constraint_tolerance=constraint_tolerance)\n",
    "\n",
    "# Set up context\n",
    "platform_name = 'CUDA'\n",
    "platform = openmm.Platform.getPlatformByName(platform_name)\n",
    "if platform_name in ['CUDA', 'OpenCL']:\n",
    "    platform.setPropertyDefaultValue('Precision', 'mixed')\n",
    "if platform_name in ['CUDA']:\n",
    "    platform.setPropertyDefaultValue('DeterministicForces', 'true')\n",
    "context = openmm.Context(system_copy, integrator, platform)\n",
    "context.setPeriodicBoxVectors(*system_copy.getDefaultPeriodicBoxVectors())\n",
    "context.setPositions(positions)\n",
    "context.setVelocitiesToTemperature(temperature)\n",
    "\n",
    "# Run MD\n",
    "for _ in tqdm.tqdm_notebook(range(100000)):\n",
    "    integrator.step(1)"
   ]
  },
  {
   "cell_type": "code",
   "execution_count": null,
   "id": "1d046f9a",
   "metadata": {},
   "outputs": [],
   "source": [
    "positions = context.getState(getPositions=True).getPositions(asNumpy=True)"
   ]
  },
  {
   "cell_type": "markdown",
   "id": "de0f0093",
   "metadata": {},
   "source": [
    "# Stage 3: 100 K steps MD, T = 300 K, NPT, restrain protein heavy atoms (force constant = 100 kcal/molA^2), bath coupling constant = 0.1 ps"
   ]
  },
  {
   "cell_type": "code",
   "execution_count": null,
   "id": "80143c3c",
   "metadata": {},
   "outputs": [],
   "source": []
  },
  {
   "cell_type": "markdown",
   "id": "ba7cf2f7",
   "metadata": {},
   "source": [
    "# Stage 4: 250 K steps MD, T = 300 K, NPT,  restrain protein heavy atoms (force constant = 10 kcal/molA^2), bath coupling constant = 0.5 ps"
   ]
  },
  {
   "cell_type": "code",
   "execution_count": null,
   "id": "4187f3d2",
   "metadata": {},
   "outputs": [],
   "source": []
  },
  {
   "cell_type": "markdown",
   "id": "a08e35a0",
   "metadata": {},
   "source": [
    "# Stage 5: 10 K steps minimization, restrain protein backbone atoms (CA, C, N) (force constant = 10 kcal/molA^2)"
   ]
  },
  {
   "cell_type": "code",
   "execution_count": null,
   "id": "405f6239",
   "metadata": {},
   "outputs": [],
   "source": []
  },
  {
   "cell_type": "markdown",
   "id": "5d3f6770",
   "metadata": {},
   "source": [
    "# Stage 6: 100 K steps MD, T = 300 K, NPT, restraint protein backbone atoms (CA, C, N) (force constant = 10 kcal/molA^2), bath coupling constant = 0.5 ps"
   ]
  },
  {
   "cell_type": "code",
   "execution_count": null,
   "id": "35564a57",
   "metadata": {},
   "outputs": [],
   "source": []
  },
  {
   "cell_type": "markdown",
   "id": "95d1d694",
   "metadata": {},
   "source": [
    "# Stage 7: 100 K steps MD, restrain protein backbone atoms (CA, C, N) (force constant = 1 kcal/molA^2), bath coupling constant = 0.5 ps"
   ]
  },
  {
   "cell_type": "code",
   "execution_count": null,
   "id": "96439e2a",
   "metadata": {},
   "outputs": [],
   "source": []
  },
  {
   "cell_type": "markdown",
   "id": "c54ec2f4",
   "metadata": {},
   "source": [
    "# Stage 8: 100 K steps MD, restrain protein backbone atoms (CA, C, N) (force constant = 0.1 kcal/molA^2), bath coupling constant = 0.5 ps"
   ]
  },
  {
   "cell_type": "code",
   "execution_count": null,
   "id": "ef7d8510",
   "metadata": {},
   "outputs": [],
   "source": []
  },
  {
   "cell_type": "markdown",
   "id": "03d7ced0",
   "metadata": {},
   "source": [
    "# Stage 9: 2500 K steps MD, 300 K, NPT, bath coupling constant = 0.5 ps"
   ]
  },
  {
   "cell_type": "code",
   "execution_count": null,
   "id": "006abbe6",
   "metadata": {},
   "outputs": [],
   "source": []
  }
 ],
 "metadata": {
  "kernelspec": {
   "display_name": "Python 3 (ipykernel)",
   "language": "python",
   "name": "python3"
  },
  "language_info": {
   "codemirror_mode": {
    "name": "ipython",
    "version": 3
   },
   "file_extension": ".py",
   "mimetype": "text/x-python",
   "name": "python",
   "nbconvert_exporter": "python",
   "pygments_lexer": "ipython3",
   "version": "3.9.9"
  }
 },
 "nbformat": 4,
 "nbformat_minor": 5
}
