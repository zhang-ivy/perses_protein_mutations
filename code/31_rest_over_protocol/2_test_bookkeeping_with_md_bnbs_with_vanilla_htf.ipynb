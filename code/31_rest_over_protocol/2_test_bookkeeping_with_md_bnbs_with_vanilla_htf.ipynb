{
 "cells": [
  {
   "cell_type": "markdown",
   "id": "b4392b56",
   "metadata": {},
   "source": [
    "## Run MD with vanilla/og system and then check that difference in energies between vanilla vs hybrid system are close to 0"
   ]
  },
  {
   "cell_type": "code",
   "execution_count": 1,
   "id": "7119fbbe",
   "metadata": {},
   "outputs": [
    {
     "name": "stderr",
     "output_type": "stream",
     "text": [
      "Warning: importing 'simtk.openmm' is deprecated.  Import 'openmm' instead.\n",
      "INFO:rdkit:Enabling RDKit 2021.03.4 jupyter extensions\n"
     ]
    }
   ],
   "source": [
    "from tqdm import tqdm_notebook\n",
    "import openmmtools\n",
    "import matplotlib.pyplot as plt\n",
    "import pickle\n",
    "\n",
    "from simtk import openmm\n",
    "from simtk.openmm import unit\n",
    "import openmmtools\n",
    "from openmmtools.states import SamplerState, ThermodynamicState, CompoundThermodynamicState\n",
    "from openmmtools import cache\n",
    "from openmmtools.constants import kB\n",
    "\n",
    "from perses.annihilation.lambda_protocol import LambdaProtocol, RelativeAlchemicalState, RESTState, RESTCapableRelativeAlchemicalState, RESTCapableLambdaProtocol\n",
    "from perses.dispersed import feptasks\n",
    "\n",
    "import numpy as np\n",
    "\n",
    "from perses.app.relative_point_mutation_setup import PointMutationExecutor\n"
   ]
  },
  {
   "cell_type": "markdown",
   "id": "2caad53a",
   "metadata": {},
   "source": [
    "## Generate htf"
   ]
  },
  {
   "cell_type": "code",
   "execution_count": 2,
   "id": "2728275a",
   "metadata": {
    "scrolled": true
   },
   "outputs": [
    {
     "name": "stderr",
     "output_type": "stream",
     "text": [
      "DEBUG:openmmforcefields.system_generators:Trying GAFFTemplateGenerator to load gaff-2.11\n",
      "INFO:setup:solvating at 0.05 M using tip3p\n",
      "INFO:proposal_generator:\tConducting polymer point mutation proposal...\n",
      "INFO:proposal_generator:local_atom_map: {669: 669, 670: 670, 671: 671, 672: 672, 673: 673, 674: 676, 675: 677}\n",
      "INFO:proposal_generator:the mapped atom names are: [('N', 'N'), ('CA', 'CA'), ('C', 'C'), ('O', 'O'), ('CB', 'CB'), ('H', 'H'), ('HA', 'HA')]\n",
      "INFO:setup:Changed particle 201's epsilon from 0.0 kJ/mol to 0.0001 kJ/mol\n",
      "INFO:setup:Changed particle 201's sigma from 1.0 nm to 0.1 nm\n",
      "INFO:setup:Changed particle 231's epsilon from 0.0 kJ/mol to 0.0001 kJ/mol\n",
      "INFO:setup:Changed particle 231's sigma from 1.0 nm to 0.1 nm\n",
      "INFO:setup:Changed particle 307's epsilon from 0.0 kJ/mol to 0.0001 kJ/mol\n",
      "INFO:setup:Changed particle 307's sigma from 1.0 nm to 0.1 nm\n",
      "INFO:setup:Changed particle 486's epsilon from 0.0 kJ/mol to 0.0001 kJ/mol\n",
      "INFO:setup:Changed particle 486's sigma from 1.0 nm to 0.1 nm\n",
      "INFO:setup:Changed particle 507's epsilon from 0.0 kJ/mol to 0.0001 kJ/mol\n",
      "INFO:setup:Changed particle 507's sigma from 1.0 nm to 0.1 nm\n",
      "INFO:setup:Changed particle 679's epsilon from 0.0 kJ/mol to 0.0001 kJ/mol\n",
      "INFO:setup:Changed particle 679's sigma from 1.0 nm to 0.1 nm\n",
      "INFO:setup:Changed particle 765's epsilon from 0.0 kJ/mol to 0.0001 kJ/mol\n",
      "INFO:setup:Changed particle 765's sigma from 1.0 nm to 0.1 nm\n",
      "INFO:setup:Changed particle 976's epsilon from 0.0 kJ/mol to 0.0001 kJ/mol\n",
      "INFO:setup:Changed particle 976's sigma from 1.0 nm to 0.1 nm\n",
      "INFO:setup:Changed particle 1045's epsilon from 0.0 kJ/mol to 0.0001 kJ/mol\n",
      "INFO:setup:Changed particle 1045's sigma from 1.0 nm to 0.1 nm\n",
      "INFO:setup:Changed particle 1120's epsilon from 0.0 kJ/mol to 0.0001 kJ/mol\n",
      "INFO:setup:Changed particle 1120's sigma from 1.0 nm to 0.1 nm\n",
      "INFO:setup:Changed particle 1363's epsilon from 0.0 kJ/mol to 0.0001 kJ/mol\n",
      "INFO:setup:Changed particle 1363's sigma from 1.0 nm to 0.1 nm\n",
      "INFO:setup:Changed particle 1434's epsilon from 0.0 kJ/mol to 0.0001 kJ/mol\n",
      "INFO:setup:Changed particle 1434's sigma from 1.0 nm to 0.1 nm\n",
      "INFO:setup:Changed particle 201's epsilon from 0.0 kJ/mol to 0.0001 kJ/mol\n",
      "INFO:setup:Changed particle 201's sigma from 1.0 nm to 0.1 nm\n",
      "INFO:setup:Changed particle 231's epsilon from 0.0 kJ/mol to 0.0001 kJ/mol\n",
      "INFO:setup:Changed particle 231's sigma from 1.0 nm to 0.1 nm\n",
      "INFO:setup:Changed particle 307's epsilon from 0.0 kJ/mol to 0.0001 kJ/mol\n",
      "INFO:setup:Changed particle 307's sigma from 1.0 nm to 0.1 nm\n",
      "INFO:setup:Changed particle 486's epsilon from 0.0 kJ/mol to 0.0001 kJ/mol\n",
      "INFO:setup:Changed particle 486's sigma from 1.0 nm to 0.1 nm\n",
      "INFO:setup:Changed particle 507's epsilon from 0.0 kJ/mol to 0.0001 kJ/mol\n",
      "INFO:setup:Changed particle 507's sigma from 1.0 nm to 0.1 nm\n",
      "INFO:setup:Changed particle 761's epsilon from 0.0 kJ/mol to 0.0001 kJ/mol\n",
      "INFO:setup:Changed particle 761's sigma from 1.0 nm to 0.1 nm\n",
      "INFO:setup:Changed particle 972's epsilon from 0.0 kJ/mol to 0.0001 kJ/mol\n",
      "INFO:setup:Changed particle 972's sigma from 1.0 nm to 0.1 nm\n",
      "INFO:setup:Changed particle 1041's epsilon from 0.0 kJ/mol to 0.0001 kJ/mol\n",
      "INFO:setup:Changed particle 1041's sigma from 1.0 nm to 0.1 nm\n",
      "INFO:setup:Changed particle 1116's epsilon from 0.0 kJ/mol to 0.0001 kJ/mol\n",
      "INFO:setup:Changed particle 1116's sigma from 1.0 nm to 0.1 nm\n",
      "INFO:setup:Changed particle 1359's epsilon from 0.0 kJ/mol to 0.0001 kJ/mol\n",
      "INFO:setup:Changed particle 1359's sigma from 1.0 nm to 0.1 nm\n",
      "INFO:setup:Changed particle 1430's epsilon from 0.0 kJ/mol to 0.0001 kJ/mol\n",
      "INFO:setup:Changed particle 1430's sigma from 1.0 nm to 0.1 nm\n",
      "INFO:geometry:propose: performing forward proposal\n",
      "INFO:geometry:propose: unique new atoms detected; proceeding to _logp_propose...\n",
      "INFO:geometry:Conducting forward proposal...\n",
      "INFO:geometry:Computing proposal order with NetworkX...\n",
      "INFO:geometry:number of atoms to be placed: 3\n",
      "INFO:geometry:Atom index proposal order is [677, 678, 676]\n",
      "INFO:geometry:omitted_bonds: []\n",
      "INFO:geometry:direction of proposal is forward; creating atoms_with_positions and new positions from old system/topology...\n",
      "INFO:geometry:creating growth system...\n",
      "INFO:geometry:\tcreating bond force...\n",
      "INFO:geometry:\tthere are 733 bonds in reference force.\n",
      "INFO:geometry:\tcreating angle force...\n",
      "INFO:geometry:\tthere are 2628 angles in reference force.\n",
      "INFO:geometry:\tcreating torsion force...\n",
      "INFO:geometry:\tcreating extra torsions force...\n",
      "INFO:geometry:\tthere are 4943 torsions in reference force.\n",
      "INFO:geometry:\tcreating nonbonded force...\n",
      "INFO:geometry:\t\tgrabbing reference nonbonded method, cutoff, switching function, switching distance...\n",
      "INFO:geometry:\t\tcreating nonbonded exception force (i.e. custom bond for 1,4s)...\n",
      "INFO:geometry:\t\tlooping through exceptions calculating growth indices, and adding appropriate interactions to custom bond force.\n",
      "INFO:geometry:\t\tthere are 22457 in the reference Nonbonded force\n",
      "INFO:geometry:Neglected angle terms : []\n",
      "INFO:geometry:omitted_growth_terms: {'bonds': [], 'angles': [], 'torsions': [], '1,4s': []}\n",
      "INFO:geometry:extra torsions: {0: (669, 670, 673, 676, [1, Quantity(value=2.105358864604291, unit=radian), Quantity(value=1200.0, unit=kilocalorie/mole), 3]), 1: (669, 670, 673, 677, [1, Quantity(value=-2.0823006129211796, unit=radian), Quantity(value=1200.0, unit=kilocalorie/mole), 1]), 2: (669, 670, 673, 678, [1, Quantity(value=0.018582237407944735, unit=radian), Quantity(value=1200.0, unit=kilocalorie/mole), 2]), 3: (671, 670, 673, 676, [1, Quantity(value=-0.036945135932107576, unit=radian), Quantity(value=1200.0, unit=kilocalorie/mole), 3]), 4: (671, 670, 673, 677, [1, Quantity(value=2.0585806937220097, unit=radian), Quantity(value=1200.0, unit=kilocalorie/mole), 1]), 5: (671, 670, 673, 678, [1, Quantity(value=-2.1237217631284597, unit=radian), Quantity(value=1200.0, unit=kilocalorie/mole), 2]), 6: (675, 670, 673, 676, [1, Quantity(value=-2.119603470065817, unit=radian), Quantity(value=1200.0, unit=kilocalorie/mole), 3]), 7: (675, 670, 673, 677, [1, Quantity(value=-0.024077640411697132, unit=radian), Quantity(value=1200.0, unit=kilocalorie/mole), 1]), 8: (675, 670, 673, 678, [1, Quantity(value=2.0768052099174152, unit=radian), Quantity(value=1200.0, unit=kilocalorie/mole), 2])}\n",
      "INFO:geometry:neglected angle terms include []\n",
      "INFO:geometry:log probability choice of torsions and atom order: -5.0875963352323845\n",
      "INFO:geometry:creating platform, integrators, and contexts; setting growth parameter\n"
     ]
    },
    {
     "name": "stdout",
     "output_type": "stream",
     "text": [
      "conducting subsequent work with the following platform: CUDA\n",
      "conducting subsequent work with the following platform: CUDA\n"
     ]
    },
    {
     "name": "stderr",
     "output_type": "stream",
     "text": [
      "INFO:geometry:setting atoms_with_positions context new positions\n"
     ]
    },
    {
     "name": "stdout",
     "output_type": "stream",
     "text": [
      "conducting subsequent work with the following platform: CUDA\n"
     ]
    },
    {
     "name": "stderr",
     "output_type": "stream",
     "text": [
      "INFO:geometry:There are 3 new atoms\n",
      "INFO:geometry:\treduced angle potential = 0.5945545378903309.\n",
      "INFO:geometry:\treduced angle potential = 0.5641293702551271.\n",
      "INFO:geometry:\treduced angle potential = 0.2261626494172101.\n",
      "INFO:geometry:\tbeginning construction of no_nonbonded final system...\n",
      "INFO:geometry:\tinitial no-nonbonded final system forces ['HarmonicBondForce', 'HarmonicAngleForce', 'PeriodicTorsionForce', 'NonbondedForce', 'MonteCarloBarostat']\n",
      "INFO:geometry:\tfinal no-nonbonded final system forces dict_keys(['HarmonicBondForce', 'HarmonicAngleForce', 'PeriodicTorsionForce', 'NonbondedForce'])\n",
      "INFO:geometry:\tthere are 733 bond forces in the no-nonbonded final system\n",
      "INFO:geometry:\tthere are 2628 angle forces in the no-nonbonded final system\n",
      "INFO:geometry:\tthere are 4943 torsion forces in the no-nonbonded final system\n",
      "INFO:geometry:forward final system defined with 0 neglected angles.\n"
     ]
    },
    {
     "name": "stdout",
     "output_type": "stream",
     "text": [
      "conducting subsequent work with the following platform: CUDA\n",
      "conducting subsequent work with the following platform: CUDA\n"
     ]
    },
    {
     "name": "stderr",
     "output_type": "stream",
     "text": [
      "INFO:geometry:total reduced potential before atom placement: 2667.606655043375\n"
     ]
    },
    {
     "name": "stdout",
     "output_type": "stream",
     "text": [
      "conducting subsequent work with the following platform: CUDA\n",
      "conducting subsequent work with the following platform: CUDA\n",
      "conducting subsequent work with the following platform: CUDA\n"
     ]
    },
    {
     "name": "stderr",
     "output_type": "stream",
     "text": [
      "INFO:geometry:total reduced energy added from growth system: 10.557583935694803\n",
      "INFO:geometry:final reduced energy 2678.1642387072266\n",
      "INFO:geometry:sum of energies: 2678.16423897907\n",
      "INFO:geometry:magnitude of difference in the energies: 2.71843456189913e-07\n",
      "INFO:geometry:Final logp_proposal: 21.531775331223205\n",
      "INFO:geometry:logp_reverse: performing reverse proposal\n",
      "INFO:geometry:logp_reverse: unique new atoms detected; proceeding to _logp_propose...\n",
      "INFO:geometry:Conducting forward proposal...\n",
      "INFO:geometry:Computing proposal order with NetworkX...\n",
      "INFO:geometry:number of atoms to be placed: 7\n",
      "INFO:geometry:Atom index proposal order is [674, 675, 679, 678, 680, 682, 681]\n",
      "INFO:geometry:omitted_bonds: []\n",
      "INFO:geometry:direction of proposal is reverse; creating atoms_with_positions from old system/topology\n"
     ]
    },
    {
     "name": "stdout",
     "output_type": "stream",
     "text": [
      "added energy components: [('CustomBondForce', 0.0), ('CustomAngleForce', 1.7696049093300759), ('CustomTorsionForce', 0.026586929494361623), ('CustomBondForce', 8.761392096870363)]\n"
     ]
    },
    {
     "name": "stderr",
     "output_type": "stream",
     "text": [
      "INFO:geometry:creating growth system...\n",
      "INFO:geometry:\tcreating bond force...\n",
      "INFO:geometry:\tthere are 735 bonds in reference force.\n",
      "INFO:geometry:\tcreating angle force...\n",
      "INFO:geometry:\tthere are 2635 angles in reference force.\n",
      "INFO:geometry:\tcreating torsion force...\n",
      "INFO:geometry:\tcreating extra torsions force...\n",
      "INFO:geometry:\tthere are 4973 torsions in reference force.\n",
      "INFO:geometry:\tcreating nonbonded force...\n",
      "INFO:geometry:\t\tgrabbing reference nonbonded method, cutoff, switching function, switching distance...\n",
      "INFO:geometry:\t\tcreating nonbonded exception force (i.e. custom bond for 1,4s)...\n",
      "INFO:geometry:\t\tlooping through exceptions calculating growth indices, and adding appropriate interactions to custom bond force.\n",
      "INFO:geometry:\t\tthere are 22480 in the reference Nonbonded force\n",
      "INFO:geometry:Neglected angle terms : []\n",
      "INFO:geometry:omitted_growth_terms: {'bonds': [], 'angles': [], 'torsions': [], '1,4s': []}\n",
      "INFO:geometry:extra torsions: {0: (679, 674, 673, 670, [1, Quantity(value=-0.07858019216845058, unit=radian), Quantity(value=1200.0, unit=kilocalorie/mole), 3]), 1: (679, 674, 673, 675, [1, Quantity(value=2.118586571250296, unit=radian), Quantity(value=1200.0, unit=kilocalorie/mole), 3]), 2: (679, 674, 673, 678, [1, Quantity(value=-2.149781203448759, unit=radian), Quantity(value=1200.0, unit=kilocalorie/mole), 4]), 3: (670, 673, 675, 682, [1, Quantity(value=-2.1249532223845904, unit=radian), Quantity(value=1200.0, unit=kilocalorie/mole), 6]), 4: (670, 673, 675, 681, [1, Quantity(value=2.0543043017157916, unit=radian), Quantity(value=1200.0, unit=kilocalorie/mole), 7]), 5: (670, 673, 675, 680, [1, Quantity(value=-0.02223392579985184, unit=radian), Quantity(value=1200.0, unit=kilocalorie/mole), 5]), 6: (674, 673, 675, 682, [1, Quantity(value=2.0255587336734213, unit=radian), Quantity(value=1200.0, unit=kilocalorie/mole), 6]), 7: (674, 673, 675, 681, [1, Quantity(value=-0.07836904940578293, unit=radian), Quantity(value=1200.0, unit=kilocalorie/mole), 7]), 8: (674, 673, 675, 680, [1, Quantity(value=-2.154907276921426, unit=radian), Quantity(value=1200.0, unit=kilocalorie/mole), 5]), 9: (678, 673, 675, 682, [1, Quantity(value=0.007583009583349565, unit=radian), Quantity(value=1200.0, unit=kilocalorie/mole), 6]), 10: (678, 673, 675, 681, [1, Quantity(value=-2.096344773495849, unit=radian), Quantity(value=1200.0, unit=kilocalorie/mole), 7]), 11: (678, 673, 675, 680, [1, Quantity(value=2.1103023061680943, unit=radian), Quantity(value=1200.0, unit=kilocalorie/mole), 5]), 12: (674, 673, 670, 675, [1, Quantity(value=-1.0655064807976995, unit=radian), Quantity(value=1200.0, unit=kilocalorie/mole), 2])}\n",
      "INFO:geometry:neglected angle terms include []\n",
      "INFO:geometry:log probability choice of torsions and atom order: -12.678448458920965\n",
      "INFO:geometry:creating platform, integrators, and contexts; setting growth parameter\n"
     ]
    },
    {
     "name": "stdout",
     "output_type": "stream",
     "text": [
      "conducting subsequent work with the following platform: CUDA\n"
     ]
    },
    {
     "name": "stderr",
     "output_type": "stream",
     "text": [
      "INFO:geometry:setting atoms_with_positions context old positions\n"
     ]
    },
    {
     "name": "stdout",
     "output_type": "stream",
     "text": [
      "conducting subsequent work with the following platform: CUDA\n"
     ]
    },
    {
     "name": "stderr",
     "output_type": "stream",
     "text": [
      "INFO:geometry:There are 7 new atoms\n",
      "INFO:geometry:\treduced angle potential = 1.1717867235443227.\n",
      "INFO:geometry:\treduced angle potential = 0.15088552138282585.\n",
      "INFO:geometry:\treduced angle potential = 0.0037318575268475676.\n",
      "INFO:geometry:\treduced angle potential = 0.0009835018195185007.\n",
      "INFO:geometry:\treduced angle potential = 6.103681872621702e-06.\n",
      "INFO:geometry:\treduced angle potential = 8.429836390053187e-06.\n",
      "INFO:geometry:\treduced angle potential = 2.0226598106735676e-06.\n",
      "INFO:geometry:\tbeginning construction of no_nonbonded final system...\n",
      "INFO:geometry:\tinitial no-nonbonded final system forces ['HarmonicBondForce', 'HarmonicAngleForce', 'PeriodicTorsionForce', 'NonbondedForce', 'MonteCarloBarostat']\n",
      "INFO:geometry:\tfinal no-nonbonded final system forces dict_keys(['HarmonicBondForce', 'HarmonicAngleForce', 'PeriodicTorsionForce', 'NonbondedForce'])\n",
      "INFO:geometry:\tthere are 735 bond forces in the no-nonbonded final system\n",
      "INFO:geometry:\tthere are 2635 angle forces in the no-nonbonded final system\n",
      "INFO:geometry:\tthere are 4973 torsion forces in the no-nonbonded final system\n",
      "INFO:geometry:reverse final system defined with 0 neglected angles.\n"
     ]
    },
    {
     "name": "stdout",
     "output_type": "stream",
     "text": [
      "conducting subsequent work with the following platform: CUDA\n",
      "conducting subsequent work with the following platform: CUDA\n"
     ]
    },
    {
     "name": "stderr",
     "output_type": "stream",
     "text": [
      "INFO:geometry:total reduced potential before atom placement: 2667.6066550433757\n"
     ]
    },
    {
     "name": "stdout",
     "output_type": "stream",
     "text": [
      "conducting subsequent work with the following platform: CUDA\n",
      "conducting subsequent work with the following platform: CUDA\n",
      "conducting subsequent work with the following platform: CUDA\n"
     ]
    },
    {
     "name": "stderr",
     "output_type": "stream",
     "text": [
      "INFO:geometry:total reduced energy added from growth system: -60.958199568475365\n",
      "INFO:geometry:final reduced energy 2606.648455666519\n",
      "INFO:geometry:sum of energies: 2606.6484554749004\n",
      "INFO:geometry:magnitude of difference in the energies: 1.9161880970841594e-07\n",
      "INFO:geometry:Final logp_proposal: -7080.344775037623\n",
      "INFO:setup:charge diff: 0\n",
      "INFO:relative:*** Generating vanilla HybridTopologyFactory ***\n",
      "INFO:relative:Beginning nonbonded method, total particle, barostat, and exceptions retrieval...\n"
     ]
    },
    {
     "name": "stdout",
     "output_type": "stream",
     "text": [
      "added energy components: [('CustomBondForce', 0.33407521838716286), ('CustomAngleForce', 1.7019045529067363), ('CustomTorsionForce', 10.252126980649416), ('CustomBondForce', -73.24630632041867)]\n"
     ]
    },
    {
     "name": "stderr",
     "output_type": "stream",
     "text": [
      "INFO:relative:Old system forces: dict_keys(['HarmonicBondForce', 'HarmonicAngleForce', 'PeriodicTorsionForce', 'NonbondedForce', 'MonteCarloBarostat'])\n",
      "INFO:relative:New system forces: dict_keys(['HarmonicBondForce', 'HarmonicAngleForce', 'PeriodicTorsionForce', 'NonbondedForce', 'MonteCarloBarostat'])\n",
      "INFO:relative:No unknown forces.\n",
      "INFO:relative:Nonbonded method to be used (i.e. from old system): 4\n",
      "INFO:relative:Adding and mapping old atoms to hybrid system...\n",
      "INFO:relative:Adding and mapping new atoms to hybrid system...\n",
      "INFO:relative:Added MonteCarloBarostat.\n",
      "INFO:relative:getDefaultPeriodicBoxVectors added to hybrid: [Quantity(value=Vec3(x=5.564, y=0.0, z=0.0), unit=nanometer), Quantity(value=Vec3(x=0.0, y=5.564, z=0.0), unit=nanometer), Quantity(value=Vec3(x=0.0, y=0.0, z=5.564), unit=nanometer)]\n",
      "INFO:relative:Determined atom classes.\n",
      "INFO:relative:Generating old system exceptions dict...\n",
      "INFO:relative:Generating new system exceptions dict...\n",
      "INFO:relative:Handling constraints...\n",
      "INFO:relative:Handling virtual sites...\n",
      "INFO:relative:\t_handle_virtual_sites: numVirtualSites: 0\n",
      "INFO:relative:Adding bond force terms...\n",
      "INFO:relative:Adding angle force terms...\n",
      "INFO:relative:Adding torsion force terms...\n",
      "INFO:relative:Adding nonbonded force terms...\n",
      "INFO:relative:\t_add_nonbonded_force_terms: <openmm.openmm.NonbondedForce; proxy of <Swig Object of type 'OpenMM::NonbondedForce *' at 0x2b496ef4fc60> > added to hybrid system\n",
      "INFO:relative:\t_add_nonbonded_force_terms: nonbonded_method is PME or Ewald\n",
      "INFO:relative:\t_add_nonbonded_force_terms: 4 added to standard nonbonded force\n",
      "INFO:relative:\t_add_nonbonded_force_terms: 2 added to sterics_custom_nonbonded force\n",
      "INFO:relative:\t_add_nonbonded_force_terms: <openmm.openmm.CustomNonbondedForce; proxy of <Swig Object of type 'OpenMM::CustomNonbondedForce *' at 0x2b496ef4fa50> > added to hybrid system\n",
      "INFO:relative:Handling harmonic bonds...\n",
      "INFO:relative:\thandle_harmonic_bonds: looping through old_system to add relevant terms...\n",
      "INFO:relative:\thandle_harmonic_bonds: looping through new_system to add relevant terms...\n",
      "INFO:relative:Handling harmonic angles...\n",
      "INFO:relative:\thandle_harmonic_angles: looping through old_system to add relevant terms...\n",
      "INFO:relative:\thandle_harmonic_angles: looping through new_system to add relevant terms...\n",
      "INFO:relative:Handling torsion forces...\n",
      "INFO:relative:\thandle_periodic_torsion_forces: looping through old_system to add relevant terms...\n",
      "INFO:relative:\thandle_periodic_torsion_forces: looping through new_system to add relevant terms...\n",
      "INFO:relative:Handling nonbonded forces...\n",
      "INFO:relative:\thandle_nonbonded: looping through all particles in hybrid...\n",
      "INFO:relative:\thandle_nonbonded: Handling Interaction Groups...\n",
      "INFO:relative:\thandle_nonbonded: Handling Hybrid Exceptions...\n",
      "INFO:relative:\thandle_nonbonded: Handling Original Exceptions...\n",
      "INFO:relative:Handling unique_new/old interaction exceptions...\n",
      "INFO:relative:There are old or new system exceptions...proceeding.\n"
     ]
    }
   ],
   "source": [
    "solvent_delivery = PointMutationExecutor(\"../../input/1brs_barstar_renumbered.pdb\",\n",
    "                        '1',\n",
    "                        '42',\n",
    "                        'ALA',\n",
    "#                         ligand_input=\"../../input/1brs_barnase_renumbered.pdb\",\n",
    "                        forcefield_files=['amber14/protein.ff14SB.xml', 'amber14/tip3p.xml'],\n",
    "                        ionic_strength=0.05*unit.molar,\n",
    "                        rest_radius=0.2,\n",
    "                        generate_unmodified_hybrid_topology_factory=True,\n",
    "                        generate_rest_capable_hybrid_topology_factory=False,\n",
    "                        conduct_endstate_validation=False,\n",
    "                       )"
   ]
  },
  {
   "cell_type": "code",
   "execution_count": 3,
   "id": "a3e6abbc",
   "metadata": {},
   "outputs": [],
   "source": [
    "# pickle.dump(solvent_delivery.get_complex_htf(), open(\"bnbs_complex.pickle\", \"wb\" ))\n",
    "pickle.dump(solvent_delivery.get_apo_htf(), open(\"bnbs_apo_vanilla.pickle\", \"wb\" ))\n"
   ]
  },
  {
   "cell_type": "markdown",
   "id": "82fbcfb5",
   "metadata": {},
   "source": [
    "## Test at lambda = 0"
   ]
  },
  {
   "cell_type": "code",
   "execution_count": 2,
   "id": "9138230e",
   "metadata": {},
   "outputs": [],
   "source": [
    "# htf = solvent_delivery.get_apo_htf()\n",
    "with open(\"bnbs_apo_vanilla.pickle\", \"rb\") as f:\n",
    "    htf = pickle.load(f)\n",
    "hybrid_system = htf.hybrid_system\n",
    "hybrid_positions = htf.hybrid_positions\n",
    "box_vectors = hybrid_system.getDefaultPeriodicBoxVectors()\n"
   ]
  },
  {
   "cell_type": "code",
   "execution_count": 3,
   "id": "3b05641a",
   "metadata": {},
   "outputs": [
    {
     "data": {
      "text/plain": [
       "[<openmm.openmm.MonteCarloBarostat; proxy of <Swig Object of type 'OpenMM::MonteCarloBarostat *' at 0x2b918259f330> >,\n",
       " <openmm.openmm.CustomBondForce; proxy of <Swig Object of type 'OpenMM::CustomBondForce *' at 0x2b918259f5d0> >,\n",
       " <openmm.openmm.HarmonicBondForce; proxy of <Swig Object of type 'OpenMM::HarmonicBondForce *' at 0x2b918259f7b0> >,\n",
       " <openmm.openmm.CustomAngleForce; proxy of <Swig Object of type 'OpenMM::CustomAngleForce *' at 0x2b918259f960> >,\n",
       " <openmm.openmm.HarmonicAngleForce; proxy of <Swig Object of type 'OpenMM::HarmonicAngleForce *' at 0x2b920b692cf0> >,\n",
       " <openmm.openmm.CustomTorsionForce; proxy of <Swig Object of type 'OpenMM::CustomTorsionForce *' at 0x2b920b692e10> >,\n",
       " <openmm.openmm.PeriodicTorsionForce; proxy of <Swig Object of type 'OpenMM::PeriodicTorsionForce *' at 0x2b920b692ea0> >,\n",
       " <openmm.openmm.NonbondedForce; proxy of <Swig Object of type 'OpenMM::NonbondedForce *' at 0x2b920b692f30> >,\n",
       " <openmm.openmm.CustomNonbondedForce; proxy of <Swig Object of type 'OpenMM::CustomNonbondedForce *' at 0x2b920b692fc0> >,\n",
       " <openmm.openmm.CustomBondForce; proxy of <Swig Object of type 'OpenMM::CustomBondForce *' at 0x2b92039a0090> >]"
      ]
     },
     "execution_count": 3,
     "metadata": {},
     "output_type": "execute_result"
    }
   ],
   "source": [
    "htf.hybrid_system.getForces()\n"
   ]
  },
  {
   "cell_type": "code",
   "execution_count": 4,
   "id": "95824802",
   "metadata": {},
   "outputs": [],
   "source": [
    "# Create thermodynamic state\n",
    "lambda_protocol = LambdaProtocol()\n",
    "lambda_alchemical_state = RelativeAlchemicalState.from_system(hybrid_system)\n",
    "lambda_alchemical_state.set_alchemical_parameters(0, lambda_protocol)\n",
    "compound_thermodynamic_state = CompoundThermodynamicState(ThermodynamicState(hybrid_system, temperature=300 * unit.kelvin), composable_states=[lambda_alchemical_state])\n"
   ]
  },
  {
   "cell_type": "code",
   "execution_count": 5,
   "id": "88ca7f0c",
   "metadata": {},
   "outputs": [],
   "source": [
    "integrator = openmmtools.integrators.LangevinIntegrator(temperature=300 * unit.kelvin, \n",
    "                                    collision_rate=1 / unit.picoseconds, \n",
    "                                    timestep=4 * unit.femtoseconds)\n",
    "context = compound_thermodynamic_state.create_context(integrator)\n",
    "context.setPositions(hybrid_positions)\n",
    "context.setPeriodicBoxVectors(*box_vectors)\n",
    "context.setVelocitiesToTemperature(300 * unit.kelvin)\n"
   ]
  },
  {
   "cell_type": "code",
   "execution_count": 6,
   "id": "a52b21b0",
   "metadata": {},
   "outputs": [
    {
     "name": "stdout",
     "output_type": "stream",
     "text": [
      "MonteCarloPressure 1.01325\n",
      "MonteCarloTemperature 300.0\n",
      "lambda_angles 0.0\n",
      "lambda_bonds 0.0\n",
      "lambda_electrostatics_core 0.0\n",
      "lambda_electrostatics_delete 0.0\n",
      "lambda_electrostatics_insert 0.0\n",
      "lambda_sterics_core 0.0\n",
      "lambda_sterics_delete 0.0\n",
      "lambda_sterics_insert 0.0\n",
      "lambda_torsions 0.0\n",
      "softcore_alpha 0.85\n"
     ]
    }
   ],
   "source": [
    "for k, v in context.getParameters().items():\n",
    "    print(k, v)"
   ]
  },
  {
   "cell_type": "code",
   "execution_count": 7,
   "id": "5e31b1f9",
   "metadata": {},
   "outputs": [],
   "source": [
    "# Minimize\n",
    "openmm.LocalEnergyMinimizer.minimize(context)\n"
   ]
  },
  {
   "cell_type": "code",
   "execution_count": 8,
   "id": "643537ca",
   "metadata": {},
   "outputs": [
    {
     "name": "stderr",
     "output_type": "stream",
     "text": [
      "/scratch/lsftmp/4137623.tmpdir/ipykernel_44874/2861022740.py:3: TqdmDeprecationWarning: This function will be removed in tqdm==5.0.0\n",
      "Please use `tqdm.notebook.tqdm` instead of `tqdm.tqdm_notebook`\n",
      "  for _ in tqdm_notebook(range(int(125000/250))):\n"
     ]
    },
    {
     "data": {
      "application/vnd.jupyter.widget-view+json": {
       "model_id": "0857de2f6a1040d491187315b7f2fed9",
       "version_major": 2,
       "version_minor": 0
      },
      "text/plain": [
       "  0%|          | 0/500 [00:00<?, ?it/s]"
      ]
     },
     "metadata": {},
     "output_type": "display_data"
    }
   ],
   "source": [
    "# Run MD\n",
    "hybrid = list()\n",
    "for _ in tqdm_notebook(range(int(125000/250))):\n",
    "    integrator.step(250)\n",
    "    pos = context.getState(getPositions=True, enforcePeriodicBox=False).getPositions(asNumpy=True)\n",
    "    hybrid.append(pos)\n"
   ]
  },
  {
   "cell_type": "code",
   "execution_count": 9,
   "id": "7c4c6569",
   "metadata": {},
   "outputs": [],
   "source": [
    "with open(\"hybrid_positions_bnbs_vanilla.pickle\", \"wb\") as f:\n",
    "    pickle.dump(hybrid, f)\n",
    "    "
   ]
  },
  {
   "cell_type": "code",
   "execution_count": 9,
   "id": "febea871",
   "metadata": {},
   "outputs": [],
   "source": [
    "with open(\"hybrid_positions_bnbs_vanilla.pickle\", \"rb\") as f:\n",
    "    hybrid = pickle.load(f)\n",
    "    "
   ]
  },
  {
   "cell_type": "code",
   "execution_count": null,
   "id": "9b05b07d",
   "metadata": {},
   "outputs": [],
   "source": [
    "htf.get"
   ]
  },
  {
   "cell_type": "code",
   "execution_count": 14,
   "id": "71985457",
   "metadata": {
    "scrolled": true
   },
   "outputs": [
    {
     "name": "stderr",
     "output_type": "stream",
     "text": [
      "/scratch/lsftmp/4137623.tmpdir/ipykernel_44874/2584440712.py:58: TqdmDeprecationWarning: This function will be removed in tqdm==5.0.0\n",
      "Please use `tqdm.notebook.tqdm` instead of `tqdm.tqdm_notebook`\n",
      "  for pos in tqdm_notebook(hybrid):\n"
     ]
    },
    {
     "data": {
      "application/vnd.jupyter.widget-view+json": {
       "model_id": "be4be965df4c4ad597b8be64d99a54e2",
       "version_major": 2,
       "version_minor": 0
      },
      "text/plain": [
       "  0%|          | 0/500 [00:00<?, ?it/s]"
      ]
     },
     "metadata": {},
     "output_type": "display_data"
    },
    {
     "name": "stdout",
     "output_type": "stream",
     "text": [
      "-223752.46319932002 kJ/mol -223714.9173635867 kJ/mol\n",
      "-215322.65069932002 kJ/mol -215288.4486135867 kJ/mol\n",
      "-210596.96319932002 kJ/mol -210560.6673635867 kJ/mol\n",
      "-208301.33819932002 kJ/mol -208269.3704885867 kJ/mol\n",
      "-204380.90069932002 kJ/mol -204345.4798635867 kJ/mol\n",
      "-203591.71319932002 kJ/mol -203558.7767385867 kJ/mol\n",
      "-199585.77569932002 kJ/mol -199554.0267385867 kJ/mol\n",
      "-196576.77569932002 kJ/mol -196535.8392385867 kJ/mol\n",
      "-195126.33819932002 kJ/mol -195088.3704885867 kJ/mol\n",
      "-197320.08819932002 kJ/mol -197279.4954885867 kJ/mol\n",
      "-123583.33819932002 kJ/mol -123552.80798858669 kJ/mol\n",
      "-162872.33819932002 kJ/mol -162838.0892385867 kJ/mol\n",
      "-155980.65069932002 kJ/mol -155943.6829885867 kJ/mol\n",
      "-180522.83819932002 kJ/mol -180486.8704885867 kJ/mol\n",
      "-70964.33819932002 kJ/mol -70923.33923858669 kJ/mol\n",
      "444457.91180068 kJ/mol 444491.72326141334 kJ/mol\n",
      "-52603.96319932002 kJ/mol -52570.90173858668 kJ/mol\n",
      "-40804.33819932002 kJ/mol -40770.41736358668 kJ/mol\n",
      "48042.28680067998 kJ/mol 48073.17638641332 kJ/mol\n",
      "-93920.90069932002 kJ/mol -93884.62048858669 kJ/mol\n",
      "-145609.02569932002 kJ/mol -145573.2454885867 kJ/mol\n",
      "-176984.71319932002 kJ/mol -176954.9017385867 kJ/mol\n",
      "-140798.71319932002 kJ/mol -140756.3236135867 kJ/mol\n",
      "42338.91180067998 kJ/mol 42379.77404266332 kJ/mol\n",
      "-172690.21319932002 kJ/mol -172652.1673635867 kJ/mol\n",
      "-156083.46319932002 kJ/mol -156048.2298635867 kJ/mol\n",
      "2531.1618006799836 kJ/mol 2565.4654489133163 kJ/mol\n",
      "-62997.96319932002 kJ/mol -62964.50720733668 kJ/mol\n",
      "-136367.96319932002 kJ/mol -136337.7923635867 kJ/mol\n",
      "-139842.65069932002 kJ/mol -139804.2298635867 kJ/mol\n",
      "-87081.58819932002 kJ/mol -87050.32361358669 kJ/mol\n",
      "-148568.46319932002 kJ/mol -148534.6517385867 kJ/mol\n",
      "-115669.58819932002 kJ/mol -115637.66736358669 kJ/mol\n",
      "-63285.58819932002 kJ/mol -63253.71033233668 kJ/mol\n",
      "-145676.58819932002 kJ/mol -145645.2767385867 kJ/mol\n",
      "32245.411800679984 kJ/mol 32276.574823913317 kJ/mol\n",
      "-63798.33819932002 kJ/mol -63764.71033233668 kJ/mol\n",
      "-126163.96319932002 kJ/mol -126121.47986358669 kJ/mol\n",
      "78145.41180067998 kJ/mol 78181.12951141331 kJ/mol\n",
      "-167893.21319932002 kJ/mol -167857.6204885867 kJ/mol\n",
      "-119146.40069932002 kJ/mol -119106.83923858669 kJ/mol\n",
      "-186042.65069932002 kJ/mol -185998.6829885867 kJ/mol\n",
      "-174177.27569932002 kJ/mol -174138.7767385867 kJ/mol\n",
      "-195184.96319932002 kJ/mol -195152.8392385867 kJ/mol\n",
      "-191678.40069932002 kJ/mol -191636.6517385867 kJ/mol\n",
      "-169217.96319932002 kJ/mol -169183.6673635867 kJ/mol\n",
      "-193694.90069932002 kJ/mol -193661.2298635867 kJ/mol\n",
      "-178896.15069932002 kJ/mol -178849.5892385867 kJ/mol\n",
      "-189225.21319932002 kJ/mol -189187.9017385867 kJ/mol\n",
      "-194382.77569932002 kJ/mol -194350.1204885867 kJ/mol\n",
      "-188654.96319932002 kJ/mol -188620.4486135867 kJ/mol\n",
      "-174667.46319932002 kJ/mol -174625.4173635867 kJ/mol\n",
      "-185900.65069932002 kJ/mol -185863.7767385867 kJ/mol\n",
      "-178930.96319932002 kJ/mol -178884.6829885867 kJ/mol\n",
      "-161626.33819932002 kJ/mol -161591.7454885867 kJ/mol\n",
      "-193229.83819932002 kJ/mol -193197.5892385867 kJ/mol\n",
      "-193621.83819932002 kJ/mol -193583.7298635867 kJ/mol\n",
      "-195644.83819932002 kJ/mol -195604.9329885867 kJ/mol\n",
      "-160344.58819932002 kJ/mol -160304.5736135867 kJ/mol\n",
      "-185029.96319932002 kJ/mol -184997.1829885867 kJ/mol\n",
      "-182241.83819932002 kJ/mol -182211.0111135867 kJ/mol\n",
      "-187501.65069932002 kJ/mol -187463.6204885867 kJ/mol\n",
      "-196430.27569932002 kJ/mol -196399.1204885867 kJ/mol\n",
      "-184198.40069932002 kJ/mol -184165.3861135867 kJ/mol\n",
      "-180717.08819932002 kJ/mol -180684.9017385867 kJ/mol\n",
      "-185536.27569932002 kJ/mol -185501.0111135867 kJ/mol\n",
      "-194175.96319932002 kJ/mol -194141.9642385867 kJ/mol\n",
      "-160775.08819932002 kJ/mol -160739.9954885867 kJ/mol\n",
      "-182431.40069932002 kJ/mol -182402.1361135867 kJ/mol\n",
      "-187245.46319932002 kJ/mol -187210.4329885867 kJ/mol\n",
      "-169312.83819932002 kJ/mol -169280.3861135867 kJ/mol\n",
      "-157770.83819932002 kJ/mol -157734.8392385867 kJ/mol\n",
      "-173421.08819932002 kJ/mol -173390.9017385867 kJ/mol\n",
      "-186054.65069932002 kJ/mol -186025.4329885867 kJ/mol\n",
      "-166279.27569932002 kJ/mol -166247.4017385867 kJ/mol\n",
      "-54281.58819932002 kJ/mol -54236.06970733668 kJ/mol\n",
      "-130751.27569932002 kJ/mol -130720.47205108669 kJ/mol\n",
      "55933.41180067998 kJ/mol 55974.10216766332 kJ/mol\n",
      "-95852.33819932002 kJ/mol -95820.74548858669 kJ/mol\n",
      "-111113.77569932002 kJ/mol -111079.52673858669 kJ/mol\n",
      "-167040.21319932002 kJ/mol -167010.6517385867 kJ/mol\n",
      "-156615.58819932002 kJ/mol -156583.6829885867 kJ/mol\n",
      "-147938.83819932002 kJ/mol -147906.3392385867 kJ/mol\n",
      "-167820.27569932002 kJ/mol -167772.1204885867 kJ/mol\n",
      "-190235.83819932002 kJ/mol -190198.2298635867 kJ/mol\n",
      "-108874.33819932002 kJ/mol -108838.74548858669 kJ/mol\n",
      "-188095.52569932002 kJ/mol -188061.4954885867 kJ/mol\n",
      "-147034.52569932002 kJ/mol -147006.5736135867 kJ/mol\n",
      "14518.536800679984 kJ/mol 14552.731073913317 kJ/mol\n",
      "-151020.58819932002 kJ/mol -150983.5111135867 kJ/mol\n",
      "-188936.33819932002 kJ/mol -188902.6204885867 kJ/mol\n",
      "-136361.21319932002 kJ/mol -136322.4329885867 kJ/mol\n",
      "100097.78680067998 kJ/mol 100129.47326141331 kJ/mol\n",
      "447053.16180068 kJ/mol 447093.09826141334 kJ/mol\n",
      "335907.53680068 kJ/mol 335938.72326141334 kJ/mol\n",
      "-84432.83819932002 kJ/mol -84397.83923858669 kJ/mol\n",
      "-104650.40069932002 kJ/mol -104610.76892608669 kJ/mol\n",
      "82994.78680067998 kJ/mol 83030.13732391331 kJ/mol\n",
      "232212.28680067998 kJ/mol 232250.5357614133 kJ/mol\n",
      "-919.7131993200164 kJ/mol -883.0189260866836 kJ/mol\n",
      "-122536.02569932002 kJ/mol -122502.06580108669 kJ/mol\n",
      "-18219.338199320016 kJ/mol -18180.182988586683 kJ/mol\n",
      "-60518.08819932002 kJ/mol -60481.78064483668 kJ/mol\n",
      "-28756.338199320016 kJ/mol -28722.136113586683 kJ/mol\n",
      "-108956.83819932002 kJ/mol -108926.83923858669 kJ/mol\n",
      "-97501.71319932002 kJ/mol -97469.12048858669 kJ/mol\n",
      "7560407.41180068 kJ/mol 7560442.035761413 kJ/mol\n",
      "17397303.41180068 kJ/mol 17397336.035761412 kJ/mol\n",
      "313866.53680068 kJ/mol 313902.12951141334 kJ/mol\n",
      "404809.41180068 kJ/mol 404840.03576141334 kJ/mol\n",
      "-87238.83819932002 kJ/mol -87204.08923858669 kJ/mol\n",
      "-170995.46319932002 kJ/mol -170968.2611135867 kJ/mol\n",
      "-84217.83819932002 kJ/mol -84178.92517608669 kJ/mol\n",
      "-125392.33819932002 kJ/mol -125354.71423858669 kJ/mol\n",
      "-59905.46319932002 kJ/mol -59868.97205108668 kJ/mol\n",
      "-143570.33819932002 kJ/mol -143530.2767385867 kJ/mol\n",
      "-172239.08819932002 kJ/mol -172208.5892385867 kJ/mol\n",
      "-109191.15069932002 kJ/mol -109160.62048858669 kJ/mol\n",
      "-15776.088199320016 kJ/mol -15736.065801086683 kJ/mol\n",
      "-134937.96319932002 kJ/mol -134906.5579885867 kJ/mol\n",
      "-88937.96319932002 kJ/mol -88905.60486358669 kJ/mol\n",
      "-118585.15069932002 kJ/mol -118551.04236358669 kJ/mol\n",
      "-102096.46319932002 kJ/mol -102057.33923858669 kJ/mol\n",
      "-138215.83819932002 kJ/mol -138179.5892385867 kJ/mol\n",
      "-133702.96319932002 kJ/mol -133675.6204885867 kJ/mol\n",
      "-83334.96319932002 kJ/mol -83293.51892608669 kJ/mol\n",
      "-62123.33819932002 kJ/mol -62086.81580108668 kJ/mol\n",
      "-160712.46319932002 kJ/mol -160678.5267385867 kJ/mol\n",
      "-182695.46319932002 kJ/mol -182659.1048635867 kJ/mol\n",
      "40038.53680067998 kJ/mol 40086.09826141332 kJ/mol\n",
      "-59843.96319932002 kJ/mol -59804.08142608668 kJ/mol\n",
      "473971.16180068 kJ/mol 474010.25451141334 kJ/mol\n",
      "16554.036800679984 kJ/mol 16582.172480163317 kJ/mol\n",
      "459849.03680068 kJ/mol 459881.34826141334 kJ/mol\n",
      "-48225.21319932002 kJ/mol -48187.98767608668 kJ/mol\n",
      "-34204.71319932002 kJ/mol -34165.99939483668 kJ/mol\n",
      "-146283.46319932002 kJ/mol -146238.4329885867 kJ/mol\n",
      "14558.161800679984 kJ/mol 14597.035761413317 kJ/mol\n",
      "-65693.83819932002 kJ/mol -65659.40173858669 kJ/mol\n",
      "-124506.65069932002 kJ/mol -124478.19861358669 kJ/mol\n",
      "-167071.46319932002 kJ/mol -167037.1361135867 kJ/mol\n",
      "-141067.08819932002 kJ/mol -141032.5579885867 kJ/mol\n",
      "-94072.90069932002 kJ/mol -94040.72205108669 kJ/mol\n",
      "-150365.77569932002 kJ/mol -150321.0579885867 kJ/mol\n",
      "-118319.58819932002 kJ/mol -118277.77673858669 kJ/mol\n",
      "-61230.08819932002 kJ/mol -61197.70642608668 kJ/mol\n",
      "-72778.71319932002 kJ/mol -72726.57361358669 kJ/mol\n",
      "484408.41180068 kJ/mol 484438.37951141334 kJ/mol\n",
      "470996.41180068 kJ/mol 471040.56701141334 kJ/mol\n",
      "3916291.4118006798 kJ/mol 3916324.785761413 kJ/mol\n",
      "888723.28680068 kJ/mol 888761.2232614133 kJ/mol\n",
      "288728.91180068 kJ/mol 288761.03576141334 kJ/mol\n",
      "-6795.713199320016 kJ/mol -6756.214238586684 kJ/mol\n",
      "-155241.71319932002 kJ/mol -155204.7142385867 kJ/mol\n",
      "-152159.08819932002 kJ/mol -152119.2611135867 kJ/mol\n",
      "17791.661800679984 kJ/mol 17832.332636413317 kJ/mol\n",
      "-29956.963199320016 kJ/mol -29921.036504211683 kJ/mol\n"
     ]
    },
    {
     "name": "stdout",
     "output_type": "stream",
     "text": [
      "487955.16180068 kJ/mol 487992.03576141334 kJ/mol\n",
      "-139470.40069932002 kJ/mol -139433.2142385867 kJ/mol\n",
      "-169807.71319932002 kJ/mol -169771.5736135867 kJ/mol\n",
      "-120889.27569932002 kJ/mol -120849.37048858669 kJ/mol\n",
      "-138711.77569932002 kJ/mol -138668.0579885867 kJ/mol\n",
      "-65143.46319932002 kJ/mol -65106.64001983668 kJ/mol\n",
      "-178849.77569932002 kJ/mol -178815.3392385867 kJ/mol\n",
      "-172780.46319932002 kJ/mol -172748.1204885867 kJ/mol\n",
      "-166946.58819932002 kJ/mol -166915.6829885867 kJ/mol\n",
      "-155306.21319932002 kJ/mol -155276.1829885867 kJ/mol\n",
      "-108494.27569932002 kJ/mol -108463.09705108669 kJ/mol\n",
      "3377.4118006799836 kJ/mol 3408.6607614133163 kJ/mol\n",
      "-59680.21319932002 kJ/mol -59641.55798858668 kJ/mol\n",
      "-140085.83819932002 kJ/mol -140054.7142385867 kJ/mol\n",
      "-116848.46319932002 kJ/mol -116809.06580108669 kJ/mol\n",
      "-152423.71319932002 kJ/mol -152393.0736135867 kJ/mol\n",
      "1064681.91180068 kJ/mol 1064713.1607614134 kJ/mol\n",
      "-155584.96319932002 kJ/mol -155555.5267385867 kJ/mol\n",
      "1323089.41180068 kJ/mol 1323124.7857614134 kJ/mol\n",
      "-94921.02569932002 kJ/mol -94884.37830108669 kJ/mol\n",
      "-78213.08819932002 kJ/mol -78171.91736358669 kJ/mol\n",
      "-140313.46319932002 kJ/mol -140276.4173635867 kJ/mol\n",
      "-178168.21319932002 kJ/mol -178132.2142385867 kJ/mol\n",
      "-162230.15069932002 kJ/mol -162192.1829885867 kJ/mol\n",
      "1214081.41180068 kJ/mol 1214112.2857614134 kJ/mol\n",
      "-169932.96319932002 kJ/mol -169904.4017385867 kJ/mol\n",
      "-52036.83819932002 kJ/mol -52006.04236358668 kJ/mol\n",
      "-165368.58819932002 kJ/mol -165331.1673635867 kJ/mol\n",
      "-102816.71319932002 kJ/mol -102782.21423858669 kJ/mol\n",
      "-173781.21319932002 kJ/mol -173744.7767385867 kJ/mol\n",
      "-184101.46319932002 kJ/mol -184070.9329885867 kJ/mol\n",
      "-185392.02569932002 kJ/mol -185357.0267385867 kJ/mol\n",
      "-165706.58819932002 kJ/mol -165670.6361135867 kJ/mol\n",
      "-176113.46319932002 kJ/mol -176084.4017385867 kJ/mol\n",
      "-124487.40069932002 kJ/mol -124447.99548858669 kJ/mol\n",
      "-161269.83819932002 kJ/mol -161231.4329885867 kJ/mol\n",
      "2428291.9118006798 kJ/mol 2428325.035761413 kJ/mol\n",
      "-110396.52569932002 kJ/mol -110368.25330108669 kJ/mol\n",
      "-152993.08819932002 kJ/mol -152964.5892385867 kJ/mol\n",
      "560114.91180068 kJ/mol 560144.4732614133 kJ/mol\n",
      "-86024.58819932002 kJ/mol -85990.05798858669 kJ/mol\n",
      "-162957.52569932002 kJ/mol -162923.8548635867 kJ/mol\n",
      "-96950.52569932002 kJ/mol -96917.90955108669 kJ/mol\n",
      "-155928.46319932002 kJ/mol -155880.2767385867 kJ/mol\n",
      "146084.03680067998 kJ/mol 146121.8170114133 kJ/mol\n",
      "16159047.41180068 kJ/mol 16159086.035761414 kJ/mol\n",
      "-143142.83819932002 kJ/mol -143100.7767385867 kJ/mol\n",
      "-90214.08819932002 kJ/mol -90178.57361358669 kJ/mol\n",
      "-75884.83819932002 kJ/mol -75852.41736358669 kJ/mol\n",
      "-143843.96319932002 kJ/mol -143810.9329885867 kJ/mol\n",
      "-137916.08819932002 kJ/mol -137884.0892385867 kJ/mol\n",
      "-180697.33819932002 kJ/mol -180660.7611135867 kJ/mol\n",
      "-168416.58819932002 kJ/mol -168376.4954885867 kJ/mol\n",
      "15964.036800679984 kJ/mol 15995.660761413317 kJ/mol\n",
      "-140770.27569932002 kJ/mol -140736.4017385867 kJ/mol\n",
      "-116515.33819932002 kJ/mol -116483.93298858669 kJ/mol\n",
      "-76418.46319932002 kJ/mol -76381.46423858669 kJ/mol\n",
      "-10074.338199320016 kJ/mol -10042.343144836683 kJ/mol\n",
      "-153345.46319932002 kJ/mol -153305.4329885867 kJ/mol\n",
      "-101530.08819932002 kJ/mol -101489.04236358669 kJ/mol\n",
      "2506557.9118006798 kJ/mol 2506588.285761413 kJ/mol\n",
      "-160891.02569932002 kJ/mol -160846.4954885867 kJ/mol\n",
      "-111392.71319932002 kJ/mol -111360.84705108669 kJ/mol\n",
      "-165708.58819932002 kJ/mol -165665.0267385867 kJ/mol\n",
      "499526.91180068 kJ/mol 499564.16076141334 kJ/mol\n",
      "15244016.41180068 kJ/mol 15244056.035761414 kJ/mol\n",
      "-154521.71319932002 kJ/mol -154492.5736135867 kJ/mol\n",
      "25334.911800679984 kJ/mol 25374.942011413317 kJ/mol\n",
      "-104194.33819932002 kJ/mol -104160.40173858669 kJ/mol\n",
      "-154151.96319932002 kJ/mol -154118.4017385867 kJ/mol\n",
      "3450853.4118006798 kJ/mol 3450894.035761413 kJ/mol\n",
      "34021.66180067998 kJ/mol 34050.71935516332 kJ/mol\n",
      "91846.41180067998 kJ/mol 91879.00451141331 kJ/mol\n",
      "-164633.83819932002 kJ/mol -164603.1829885867 kJ/mol\n",
      "-133357.83819932002 kJ/mol -133325.2923635867 kJ/mol\n",
      "-128585.77569932002 kJ/mol -128541.02673858669 kJ/mol\n",
      "-171847.40069932002 kJ/mol -171810.9954885867 kJ/mol\n",
      "-75110.33819932002 kJ/mol -75075.83923858669 kJ/mol\n",
      "-78824.58819932002 kJ/mol -78794.37830108669 kJ/mol\n",
      "-161256.40069932002 kJ/mol -161218.0579885867 kJ/mol\n",
      "-181946.02569932002 kJ/mol -181908.9798635867 kJ/mol\n",
      "-92503.21319932002 kJ/mol -92460.51111358669 kJ/mol\n",
      "117270255.41180068 kJ/mol 117270302.03576142 kJ/mol\n",
      "-36165.71319932002 kJ/mol -36132.87830108668 kJ/mol\n",
      "-19013.463199320016 kJ/mol -18982.222051086683 kJ/mol\n",
      "-88634.08819932002 kJ/mol -88594.35486358669 kJ/mol\n",
      "-110341.71319932002 kJ/mol -110302.30017608669 kJ/mol\n",
      "-167126.71319932002 kJ/mol -167089.2142385867 kJ/mol\n",
      "2752605.4118006798 kJ/mol 2752636.785761413 kJ/mol\n",
      "-162564.71319932002 kJ/mol -162531.6517385867 kJ/mol\n",
      "-179856.52569932002 kJ/mol -179827.4642385867 kJ/mol\n",
      "50279.66180067998 kJ/mol 50317.33263641332 kJ/mol\n",
      "4084197.9118006798 kJ/mol 4084236.535761413 kJ/mol\n",
      "-32199.713199320016 kJ/mol -32159.966191711683 kJ/mol\n",
      "-147373.58819932002 kJ/mol -147334.5267385867 kJ/mol\n",
      "-153647.90069932002 kJ/mol -153615.1517385867 kJ/mol\n",
      "2913764.9118006798 kJ/mol 2913800.285761413 kJ/mol\n"
     ]
    },
    {
     "ename": "KeyboardInterrupt",
     "evalue": "",
     "output_type": "error",
     "traceback": [
      "\u001b[0;31m---------------------------------------------------------------------------\u001b[0m",
      "\u001b[0;31mKeyboardInterrupt\u001b[0m                         Traceback (most recent call last)",
      "\u001b[0;32m/scratch/lsftmp/4137623.tmpdir/ipykernel_44874/2584440712.py\u001b[0m in \u001b[0;36m<module>\u001b[0;34m\u001b[0m\n\u001b[1;32m     58\u001b[0m \u001b[0;32mfor\u001b[0m \u001b[0mpos\u001b[0m \u001b[0;32min\u001b[0m \u001b[0mtqdm_notebook\u001b[0m\u001b[0;34m(\u001b[0m\u001b[0mhybrid\u001b[0m\u001b[0;34m)\u001b[0m\u001b[0;34m:\u001b[0m\u001b[0;34m\u001b[0m\u001b[0;34m\u001b[0m\u001b[0m\n\u001b[1;32m     59\u001b[0m \u001b[0;34m\u001b[0m\u001b[0m\n\u001b[0;32m---> 60\u001b[0;31m     \u001b[0mcontext_og\u001b[0m\u001b[0;34m.\u001b[0m\u001b[0msetPositions\u001b[0m\u001b[0;34m(\u001b[0m\u001b[0mhtf\u001b[0m\u001b[0;34m.\u001b[0m\u001b[0mold_positions\u001b[0m\u001b[0;34m(\u001b[0m\u001b[0mpos\u001b[0m\u001b[0;34m)\u001b[0m\u001b[0;34m)\u001b[0m\u001b[0;34m\u001b[0m\u001b[0;34m\u001b[0m\u001b[0m\n\u001b[0m\u001b[1;32m     61\u001b[0m     \u001b[0menergy_og\u001b[0m \u001b[0;34m=\u001b[0m \u001b[0mcontext_og\u001b[0m\u001b[0;34m.\u001b[0m\u001b[0mgetState\u001b[0m\u001b[0;34m(\u001b[0m\u001b[0mgetEnergy\u001b[0m\u001b[0;34m=\u001b[0m\u001b[0;32mTrue\u001b[0m\u001b[0;34m)\u001b[0m\u001b[0;34m.\u001b[0m\u001b[0mgetPotentialEnergy\u001b[0m\u001b[0;34m(\u001b[0m\u001b[0;34m)\u001b[0m\u001b[0;34m\u001b[0m\u001b[0;34m\u001b[0m\u001b[0m\n\u001b[1;32m     62\u001b[0m     \u001b[0menergies_og\u001b[0m\u001b[0;34m.\u001b[0m\u001b[0mappend\u001b[0m\u001b[0;34m(\u001b[0m\u001b[0menergy_og\u001b[0m\u001b[0;34m.\u001b[0m\u001b[0mvalue_in_unit_system\u001b[0m\u001b[0;34m(\u001b[0m\u001b[0munit\u001b[0m\u001b[0;34m.\u001b[0m\u001b[0mmd_unit_system\u001b[0m\u001b[0;34m)\u001b[0m\u001b[0;34m)\u001b[0m\u001b[0;34m\u001b[0m\u001b[0;34m\u001b[0m\u001b[0m\n",
      "\u001b[0;32m~/miniconda3/envs/perses-rest-over-protocol/lib/python3.8/site-packages/perses-0.9.2+76.g6ec66b7-py3.8.egg/perses/annihilation/relative.py\u001b[0m in \u001b[0;36mold_positions\u001b[0;34m(self, hybrid_positions)\u001b[0m\n\u001b[1;32m   2106\u001b[0m         \u001b[0mold_positions\u001b[0m \u001b[0;34m=\u001b[0m \u001b[0munit\u001b[0m\u001b[0;34m.\u001b[0m\u001b[0mQuantity\u001b[0m\u001b[0;34m(\u001b[0m\u001b[0mnp\u001b[0m\u001b[0;34m.\u001b[0m\u001b[0mzeros\u001b[0m\u001b[0;34m(\u001b[0m\u001b[0;34m[\u001b[0m\u001b[0mn_atoms_old\u001b[0m\u001b[0;34m,\u001b[0m \u001b[0;36m3\u001b[0m\u001b[0;34m]\u001b[0m\u001b[0;34m)\u001b[0m\u001b[0;34m,\u001b[0m \u001b[0munit\u001b[0m\u001b[0;34m=\u001b[0m\u001b[0munit\u001b[0m\u001b[0;34m.\u001b[0m\u001b[0mnanometer\u001b[0m\u001b[0;34m)\u001b[0m\u001b[0;34m\u001b[0m\u001b[0;34m\u001b[0m\u001b[0m\n\u001b[1;32m   2107\u001b[0m         \u001b[0;32mfor\u001b[0m \u001b[0midx\u001b[0m \u001b[0;32min\u001b[0m \u001b[0mrange\u001b[0m\u001b[0;34m(\u001b[0m\u001b[0mn_atoms_old\u001b[0m\u001b[0;34m)\u001b[0m\u001b[0;34m:\u001b[0m\u001b[0;34m\u001b[0m\u001b[0;34m\u001b[0m\u001b[0m\n\u001b[0;32m-> 2108\u001b[0;31m             \u001b[0mold_positions\u001b[0m\u001b[0;34m[\u001b[0m\u001b[0midx\u001b[0m\u001b[0;34m,\u001b[0m \u001b[0;34m:\u001b[0m\u001b[0;34m]\u001b[0m \u001b[0;34m=\u001b[0m \u001b[0mhybrid_positions\u001b[0m\u001b[0;34m[\u001b[0m\u001b[0midx\u001b[0m\u001b[0;34m,\u001b[0m \u001b[0;34m:\u001b[0m\u001b[0;34m]\u001b[0m\u001b[0;34m\u001b[0m\u001b[0;34m\u001b[0m\u001b[0m\n\u001b[0m\u001b[1;32m   2109\u001b[0m         \u001b[0;32mreturn\u001b[0m \u001b[0mold_positions\u001b[0m\u001b[0;34m\u001b[0m\u001b[0;34m\u001b[0m\u001b[0m\n\u001b[1;32m   2110\u001b[0m \u001b[0;34m\u001b[0m\u001b[0m\n",
      "\u001b[0;32m~/miniconda3/envs/perses-rest-over-protocol/lib/python3.8/site-packages/openmm/unit/quantity.py\u001b[0m in \u001b[0;36m__setitem__\u001b[0;34m(self, key, value)\u001b[0m\n\u001b[1;32m    748\u001b[0m             \u001b[0;32melif\u001b[0m \u001b[0;32mnot\u001b[0m \u001b[0mself\u001b[0m\u001b[0;34m.\u001b[0m\u001b[0munit\u001b[0m\u001b[0;34m.\u001b[0m\u001b[0mis_compatible\u001b[0m\u001b[0;34m(\u001b[0m\u001b[0mvalue\u001b[0m\u001b[0;34m.\u001b[0m\u001b[0munit\u001b[0m\u001b[0;34m)\u001b[0m\u001b[0;34m:\u001b[0m\u001b[0;34m\u001b[0m\u001b[0;34m\u001b[0m\u001b[0m\n\u001b[1;32m    749\u001b[0m                 \u001b[0;32mraise\u001b[0m \u001b[0mTypeError\u001b[0m\u001b[0;34m(\u001b[0m\u001b[0;34m'Unit \"%s\" is not compatible with Unit \"%s\".'\u001b[0m \u001b[0;34m%\u001b[0m \u001b[0;34m(\u001b[0m\u001b[0mself\u001b[0m\u001b[0;34m.\u001b[0m\u001b[0munit\u001b[0m\u001b[0;34m,\u001b[0m \u001b[0mvalue\u001b[0m\u001b[0;34m.\u001b[0m\u001b[0munit\u001b[0m\u001b[0;34m)\u001b[0m\u001b[0;34m)\u001b[0m\u001b[0;34m\u001b[0m\u001b[0;34m\u001b[0m\u001b[0m\n\u001b[0;32m--> 750\u001b[0;31m             \u001b[0mself\u001b[0m\u001b[0;34m.\u001b[0m\u001b[0m_value\u001b[0m\u001b[0;34m[\u001b[0m\u001b[0mkey\u001b[0m\u001b[0;34m]\u001b[0m \u001b[0;34m=\u001b[0m \u001b[0mvalue\u001b[0m \u001b[0;34m/\u001b[0m \u001b[0mself\u001b[0m\u001b[0;34m.\u001b[0m\u001b[0munit\u001b[0m\u001b[0;34m\u001b[0m\u001b[0;34m\u001b[0m\u001b[0m\n\u001b[0m\u001b[1;32m    751\u001b[0m             \u001b[0;32massert\u001b[0m \u001b[0;32mnot\u001b[0m \u001b[0mis_quantity\u001b[0m\u001b[0;34m(\u001b[0m\u001b[0mself\u001b[0m\u001b[0;34m.\u001b[0m\u001b[0m_value\u001b[0m\u001b[0;34m[\u001b[0m\u001b[0mkey\u001b[0m\u001b[0;34m]\u001b[0m\u001b[0;34m)\u001b[0m\u001b[0;34m\u001b[0m\u001b[0;34m\u001b[0m\u001b[0m\n\u001b[1;32m    752\u001b[0m \u001b[0;34m\u001b[0m\u001b[0m\n",
      "\u001b[0;32m~/miniconda3/envs/perses-rest-over-protocol/lib/python3.8/site-packages/openmm/unit/quantity.py\u001b[0m in \u001b[0;36m__truediv__\u001b[0;34m(self, other)\u001b[0m\n\u001b[1;32m    400\u001b[0m         \u001b[0;32mif\u001b[0m \u001b[0mis_unit\u001b[0m\u001b[0;34m(\u001b[0m\u001b[0mother\u001b[0m\u001b[0;34m)\u001b[0m\u001b[0;34m:\u001b[0m\u001b[0;34m\u001b[0m\u001b[0;34m\u001b[0m\u001b[0m\n\u001b[1;32m    401\u001b[0m             \u001b[0;31m# print \"quantity / unit\"\u001b[0m\u001b[0;34m\u001b[0m\u001b[0;34m\u001b[0m\u001b[0;34m\u001b[0m\u001b[0m\n\u001b[0;32m--> 402\u001b[0;31m             \u001b[0;32mreturn\u001b[0m \u001b[0mself\u001b[0m \u001b[0;34m*\u001b[0m \u001b[0mpow\u001b[0m\u001b[0;34m(\u001b[0m\u001b[0mother\u001b[0m\u001b[0;34m,\u001b[0m \u001b[0;34m-\u001b[0m\u001b[0;36m1.0\u001b[0m\u001b[0;34m)\u001b[0m\u001b[0;34m\u001b[0m\u001b[0;34m\u001b[0m\u001b[0m\n\u001b[0m\u001b[1;32m    403\u001b[0m             \u001b[0;31m# unit = self.unit / other\u001b[0m\u001b[0;34m\u001b[0m\u001b[0;34m\u001b[0m\u001b[0;34m\u001b[0m\u001b[0m\n\u001b[1;32m    404\u001b[0m             \u001b[0;31m# return Quantity(self._value, unit).reduce_unit(self.unit)\u001b[0m\u001b[0;34m\u001b[0m\u001b[0;34m\u001b[0m\u001b[0;34m\u001b[0m\u001b[0m\n",
      "\u001b[0;32m~/miniconda3/envs/perses-rest-over-protocol/lib/python3.8/site-packages/openmm/unit/quantity.py\u001b[0m in \u001b[0;36m__mul__\u001b[0;34m(self, other)\u001b[0m\n\u001b[1;32m    364\u001b[0m             \u001b[0;31m# the reduce_unit() method.\u001b[0m\u001b[0;34m\u001b[0m\u001b[0;34m\u001b[0m\u001b[0;34m\u001b[0m\u001b[0m\n\u001b[1;32m    365\u001b[0m             \u001b[0munit\u001b[0m \u001b[0;34m=\u001b[0m \u001b[0mself\u001b[0m\u001b[0;34m.\u001b[0m\u001b[0munit\u001b[0m \u001b[0;34m*\u001b[0m \u001b[0mother\u001b[0m\u001b[0;34m\u001b[0m\u001b[0;34m\u001b[0m\u001b[0m\n\u001b[0;32m--> 366\u001b[0;31m             \u001b[0;32mreturn\u001b[0m \u001b[0mQuantity\u001b[0m\u001b[0;34m(\u001b[0m\u001b[0mself\u001b[0m\u001b[0;34m.\u001b[0m\u001b[0m_value\u001b[0m\u001b[0;34m,\u001b[0m \u001b[0munit\u001b[0m\u001b[0;34m)\u001b[0m\u001b[0;34m.\u001b[0m\u001b[0mreduce_unit\u001b[0m\u001b[0;34m(\u001b[0m\u001b[0mself\u001b[0m\u001b[0;34m.\u001b[0m\u001b[0munit\u001b[0m\u001b[0;34m)\u001b[0m\u001b[0;34m\u001b[0m\u001b[0;34m\u001b[0m\u001b[0m\n\u001b[0m\u001b[1;32m    367\u001b[0m         \u001b[0;32melif\u001b[0m \u001b[0mis_quantity\u001b[0m\u001b[0;34m(\u001b[0m\u001b[0mother\u001b[0m\u001b[0;34m)\u001b[0m\u001b[0;34m:\u001b[0m\u001b[0;34m\u001b[0m\u001b[0;34m\u001b[0m\u001b[0m\n\u001b[1;32m    368\u001b[0m             \u001b[0;31m# print \"quantity * quantity\"\u001b[0m\u001b[0;34m\u001b[0m\u001b[0;34m\u001b[0m\u001b[0;34m\u001b[0m\u001b[0m\n",
      "\u001b[0;31mKeyboardInterrupt\u001b[0m: "
     ]
    }
   ],
   "source": [
    "T_min = 300 * unit.kelvin\n",
    "\n",
    "# Make context for og system\n",
    "thermodynamic_state = ThermodynamicState(htf._topology_proposal.old_system, temperature=T_min)\n",
    "integrator_og = openmmtools.integrators.LangevinIntegrator(temperature=300 * unit.kelvin,\n",
    "                                          collision_rate=1 / unit.picoseconds,\n",
    "                                          timestep= 4 * unit.femtoseconds)\n",
    "context_og = thermodynamic_state.create_context(integrator_og)\n",
    "\n",
    "\n",
    "# Zero the unique old/new valence in the hybrid system\n",
    "bond_force_index = 1 \n",
    "angle_force_index = 3\n",
    "torsion_force_index = 5\n",
    "custom_bond_force = hybrid_system.getForce(bond_force_index)\n",
    "custom_angle_force = hybrid_system.getForce(angle_force_index)\n",
    "custom_torsion_force = hybrid_system.getForce(torsion_force_index)\n",
    "is_old = True\n",
    "# hybrid_to_bond_indices = htf._hybrid_to_new_bond_indices if is_old else htf._hybrid_to_old_bond_indices\n",
    "# hybrid_to_angle_indices = htf._hybrid_to_new_angle_indices if is_old else htf._hybrid_to_old_angle_indices\n",
    "# hybrid_to_torsion_indices = htf._hybrid_to_new_torsion_indices if is_old else htf._hybrid_to_old_torsion_indices\n",
    "for hybrid_idx in range(custom_bond_force.getNumBonds()):\n",
    "    p1, p2, hybrid_params = custom_bond_force.getBondParameters(hybrid_idx)\n",
    "    if p1 in htf._atom_classes['unique_new_atoms'] or p2 in htf._atom_classes['unique_new_atoms']:\n",
    "        hybrid_params = list(hybrid_params)\n",
    "        hybrid_params[-3] *= 0 # zero K_old\n",
    "        hybrid_params[-1] *= 0 # zero K_new\n",
    "        custom_bond_force.setBondParameters(hybrid_idx, p1, p2, hybrid_params)\n",
    "for hybrid_idx in range(custom_angle_force.getNumAngles()):\n",
    "    p1, p2, p3, hybrid_params = custom_angle_force.getAngleParameters(hybrid_idx)\n",
    "    if p1 in htf._atom_classes['unique_new_atoms'] or p2 in htf._atom_classes['unique_new_atoms'] or p3 in htf._atom_classes['unique_new_atoms']:\n",
    "        hybrid_params = list(hybrid_params)\n",
    "        hybrid_params[-1] *= 0\n",
    "        hybrid_params[-3] *= 0\n",
    "        custom_angle_force.setAngleParameters(hybrid_idx, p1, p2, p3, hybrid_params)\n",
    "for hybrid_idx in range(custom_torsion_force.getNumTorsions()):\n",
    "    p1, p2, p3, p4, hybrid_params = custom_torsion_force.getTorsionParameters(hybrid_idx)\n",
    "    if p1 in htf._atom_classes['unique_new_atoms'] or p2 in htf._atom_classes['unique_new_atoms'] or p3 in htf._atom_classes['unique_new_atoms']  or p4 in htf._atom_classes['unique_new_atoms']:\n",
    "        hybrid_params = list(hybrid_params)\n",
    "        hybrid_params[-1] *= 0\n",
    "        hybrid_params[-4] *= 0\n",
    "        custom_torsion_force.setTorsionParameters(hybrid_idx, p1, p2, p3, p4, hybrid_params)\n",
    "\n",
    "# Make context for hybrid system\n",
    "lambda_protocol = LambdaProtocol()\n",
    "lambda_alchemical_state = RelativeAlchemicalState.from_system(hybrid_system)\n",
    "lambda_alchemical_state.set_alchemical_parameters(0, lambda_protocol)\n",
    "compound_thermodynamic_state = CompoundThermodynamicState(ThermodynamicState(hybrid_system, temperature=300 * unit.kelvin), composable_states=[lambda_alchemical_state])\n",
    "\n",
    "integrator_hybrid = openmmtools.integrators.LangevinIntegrator(temperature=300 * unit.kelvin,\n",
    "                                          collision_rate=1 / unit.picoseconds,\n",
    "                                          timestep= 4 * unit.femtoseconds)\n",
    "context_hybrid = compound_thermodynamic_state.create_context(integrator_hybrid)\n",
    "\n",
    "# Get energies for each conformation\n",
    "energies_og = list()\n",
    "energies_hybrid = list()\n",
    "for pos in tqdm_notebook(hybrid):\n",
    "   \n",
    "    context_og.setPositions(htf.old_positions(pos))\n",
    "    energy_og = context_og.getState(getEnergy=True).getPotentialEnergy()\n",
    "    energies_og.append(energy_og.value_in_unit_system(unit.md_unit_system))\n",
    "    \n",
    "    context_hybrid.setPositions(pos)\n",
    "    energy_hybrid = context_hybrid.getState(getEnergy=True).getPotentialEnergy()\n",
    "    energies_hybrid.append(energy_hybrid.value_in_unit_system(unit.md_unit_system))\n",
    "    \n",
    "    print(energy_og, energy_hybrid)"
   ]
  },
  {
   "cell_type": "code",
   "execution_count": 16,
   "id": "34ef5080",
   "metadata": {
    "scrolled": true
   },
   "outputs": [
    {
     "name": "stderr",
     "output_type": "stream",
     "text": [
      "DEBUG:matplotlib.font_manager:findfont: Matching sans\\-serif:style=normal:variant=normal:weight=normal:stretch=normal:size=12.0.\n",
      "DEBUG:matplotlib.font_manager:findfont: score(<Font 'cmb10' (cmb10.ttf) normal normal 400 normal>) = 10.05\n",
      "DEBUG:matplotlib.font_manager:findfont: score(<Font 'DejaVu Sans Mono' (DejaVuSansMono-Oblique.ttf) oblique normal 400 normal>) = 11.05\n",
      "DEBUG:matplotlib.font_manager:findfont: score(<Font 'STIXGeneral' (STIXGeneral.ttf) normal normal 400 normal>) = 10.05\n",
      "DEBUG:matplotlib.font_manager:findfont: score(<Font 'cmtt10' (cmtt10.ttf) normal normal 400 normal>) = 10.05\n",
      "DEBUG:matplotlib.font_manager:findfont: score(<Font 'DejaVu Sans Display' (DejaVuSansDisplay.ttf) normal normal 400 normal>) = 10.05\n",
      "DEBUG:matplotlib.font_manager:findfont: score(<Font 'STIXSizeFourSym' (STIXSizFourSymReg.ttf) normal normal 400 normal>) = 10.05\n",
      "DEBUG:matplotlib.font_manager:findfont: score(<Font 'cmss10' (cmss10.ttf) normal normal 400 normal>) = 10.05\n",
      "DEBUG:matplotlib.font_manager:findfont: score(<Font 'cmsy10' (cmsy10.ttf) normal normal 400 normal>) = 10.05\n",
      "DEBUG:matplotlib.font_manager:findfont: score(<Font 'DejaVu Serif' (DejaVuSerif.ttf) normal normal 400 normal>) = 10.05\n",
      "DEBUG:matplotlib.font_manager:findfont: score(<Font 'STIXSizeFourSym' (STIXSizFourSymBol.ttf) normal normal 700 normal>) = 10.335\n",
      "DEBUG:matplotlib.font_manager:findfont: score(<Font 'DejaVu Serif Display' (DejaVuSerifDisplay.ttf) normal normal 400 normal>) = 10.05\n",
      "DEBUG:matplotlib.font_manager:findfont: score(<Font 'STIXSizeThreeSym' (STIXSizThreeSymReg.ttf) normal normal 400 normal>) = 10.05\n",
      "DEBUG:matplotlib.font_manager:findfont: score(<Font 'STIXGeneral' (STIXGeneralItalic.ttf) italic normal 400 normal>) = 11.05\n",
      "DEBUG:matplotlib.font_manager:findfont: score(<Font 'STIXSizeOneSym' (STIXSizOneSymReg.ttf) normal normal 400 normal>) = 10.05\n",
      "DEBUG:matplotlib.font_manager:findfont: score(<Font 'DejaVu Sans Mono' (DejaVuSansMono-BoldOblique.ttf) oblique normal 700 normal>) = 11.335\n",
      "DEBUG:matplotlib.font_manager:findfont: score(<Font 'DejaVu Sans' (DejaVuSans-Oblique.ttf) oblique normal 400 normal>) = 1.05\n",
      "DEBUG:matplotlib.font_manager:findfont: score(<Font 'DejaVu Sans' (DejaVuSans-BoldOblique.ttf) oblique normal 700 normal>) = 1.335\n",
      "DEBUG:matplotlib.font_manager:findfont: score(<Font 'DejaVu Sans Mono' (DejaVuSansMono.ttf) normal normal 400 normal>) = 10.05\n",
      "DEBUG:matplotlib.font_manager:findfont: score(<Font 'STIXSizeTwoSym' (STIXSizTwoSymReg.ttf) normal normal 400 normal>) = 10.05\n",
      "DEBUG:matplotlib.font_manager:findfont: score(<Font 'cmr10' (cmr10.ttf) normal normal 400 normal>) = 10.05\n",
      "DEBUG:matplotlib.font_manager:findfont: score(<Font 'STIXNonUnicode' (STIXNonUniIta.ttf) italic normal 400 normal>) = 11.05\n",
      "DEBUG:matplotlib.font_manager:findfont: score(<Font 'STIXGeneral' (STIXGeneralBolIta.ttf) italic normal 700 normal>) = 11.335\n",
      "DEBUG:matplotlib.font_manager:findfont: score(<Font 'DejaVu Serif' (DejaVuSerif-Bold.ttf) normal normal 700 normal>) = 10.335\n",
      "DEBUG:matplotlib.font_manager:findfont: score(<Font 'DejaVu Serif' (DejaVuSerif-Italic.ttf) italic normal 400 normal>) = 11.05\n",
      "DEBUG:matplotlib.font_manager:findfont: score(<Font 'STIXNonUnicode' (STIXNonUniBolIta.ttf) italic normal 700 normal>) = 11.335\n",
      "DEBUG:matplotlib.font_manager:findfont: score(<Font 'STIXSizeTwoSym' (STIXSizTwoSymBol.ttf) normal normal 700 normal>) = 10.335\n",
      "DEBUG:matplotlib.font_manager:findfont: score(<Font 'DejaVu Serif' (DejaVuSerif-BoldItalic.ttf) italic normal 700 normal>) = 11.335\n",
      "DEBUG:matplotlib.font_manager:findfont: score(<Font 'STIXNonUnicode' (STIXNonUni.ttf) normal normal 400 normal>) = 10.05\n",
      "DEBUG:matplotlib.font_manager:findfont: score(<Font 'DejaVu Sans' (DejaVuSans-Bold.ttf) normal normal 700 normal>) = 0.33499999999999996\n",
      "DEBUG:matplotlib.font_manager:findfont: score(<Font 'STIXSizeOneSym' (STIXSizOneSymBol.ttf) normal normal 700 normal>) = 10.335\n",
      "DEBUG:matplotlib.font_manager:findfont: score(<Font 'DejaVu Sans Mono' (DejaVuSansMono-Bold.ttf) normal normal 700 normal>) = 10.335\n",
      "DEBUG:matplotlib.font_manager:findfont: score(<Font 'STIXSizeThreeSym' (STIXSizThreeSymBol.ttf) normal normal 700 normal>) = 10.335\n",
      "DEBUG:matplotlib.font_manager:findfont: score(<Font 'cmmi10' (cmmi10.ttf) normal normal 400 normal>) = 10.05\n",
      "DEBUG:matplotlib.font_manager:findfont: score(<Font 'STIXSizeFiveSym' (STIXSizFiveSymReg.ttf) normal normal 400 normal>) = 10.05\n",
      "DEBUG:matplotlib.font_manager:findfont: score(<Font 'DejaVu Sans' (DejaVuSans.ttf) normal normal 400 normal>) = 0.05\n",
      "DEBUG:matplotlib.font_manager:findfont: score(<Font 'STIXGeneral' (STIXGeneralBol.ttf) normal normal 700 normal>) = 10.335\n",
      "DEBUG:matplotlib.font_manager:findfont: score(<Font 'cmex10' (cmex10.ttf) normal normal 400 normal>) = 10.05\n",
      "DEBUG:matplotlib.font_manager:findfont: score(<Font 'STIXNonUnicode' (STIXNonUniBol.ttf) normal normal 700 normal>) = 10.335\n",
      "DEBUG:matplotlib.font_manager:findfont: score(<Font 'DejaVu Sans Mono' (DejaVuSansMono-Oblique.ttf) oblique normal 400 normal>) = 11.05\n",
      "DEBUG:matplotlib.font_manager:findfont: score(<Font 'DejaVu Sans Mono' (DejaVuSansMono-Bold.ttf) normal normal 700 normal>) = 10.335\n",
      "DEBUG:matplotlib.font_manager:findfont: score(<Font 'DejaVu Sans' (DejaVuSans-ExtraLight.ttf) normal normal 200 normal>) = 0.24\n",
      "DEBUG:matplotlib.font_manager:findfont: score(<Font 'STIX' (STIX-BoldItalic.otf) italic normal 700 normal>) = 11.335\n",
      "DEBUG:matplotlib.font_manager:findfont: score(<Font 'DejaVu Sans Mono' (DejaVuSansMono-BoldOblique.ttf) oblique normal 700 normal>) = 11.335\n",
      "DEBUG:matplotlib.font_manager:findfont: score(<Font 'Liberation Sans' (LiberationSans-BoldItalic.ttf) italic normal 700 normal>) = 11.335\n",
      "DEBUG:matplotlib.font_manager:findfont: score(<Font 'DejaVu Sans' (DejaVuSansCondensed.ttf) normal normal 400 condensed>) = 0.25\n",
      "DEBUG:matplotlib.font_manager:findfont: score(<Font 'DejaVu Sans' (DejaVuSans-BoldOblique.ttf) oblique normal 700 normal>) = 1.335\n",
      "DEBUG:matplotlib.font_manager:findfont: score(<Font 'DejaVu Sans' (DejaVuSans.ttf) normal normal 400 normal>) = 0.05\n",
      "DEBUG:matplotlib.font_manager:findfont: score(<Font 'Liberation Sans' (LiberationSans-Regular.ttf) normal normal 400 normal>) = 10.05\n",
      "DEBUG:matplotlib.font_manager:findfont: score(<Font 'STIX' (STIX-Regular.otf) normal normal 400 normal>) = 10.05\n",
      "DEBUG:matplotlib.font_manager:findfont: score(<Font 'Liberation Sans' (LiberationSans-Bold.ttf) normal normal 700 normal>) = 10.335\n",
      "DEBUG:matplotlib.font_manager:findfont: score(<Font 'STIX' (STIX-Italic.otf) italic normal 400 normal>) = 11.05\n",
      "DEBUG:matplotlib.font_manager:findfont: score(<Font 'DejaVu Sans' (DejaVuSans-Bold.ttf) normal normal 700 normal>) = 0.33499999999999996\n",
      "DEBUG:matplotlib.font_manager:findfont: score(<Font 'DejaVu Sans' (DejaVuSansCondensed-BoldOblique.ttf) oblique normal 700 condensed>) = 1.535\n",
      "DEBUG:matplotlib.font_manager:findfont: score(<Font 'DejaVu Sans' (DejaVuSansCondensed-Bold.ttf) normal normal 700 condensed>) = 0.5349999999999999\n",
      "DEBUG:matplotlib.font_manager:findfont: score(<Font 'DejaVu Sans' (DejaVuSansCondensed-Oblique.ttf) oblique normal 400 condensed>) = 1.25\n",
      "DEBUG:matplotlib.font_manager:findfont: score(<Font 'STIX' (STIX-Bold.otf) normal normal 700 normal>) = 10.335\n",
      "DEBUG:matplotlib.font_manager:findfont: score(<Font 'DejaVu Sans Mono' (DejaVuSansMono.ttf) normal normal 400 normal>) = 10.05\n",
      "DEBUG:matplotlib.font_manager:findfont: score(<Font 'DejaVu Sans' (DejaVuSans-Oblique.ttf) oblique normal 400 normal>) = 1.05\n",
      "DEBUG:matplotlib.font_manager:findfont: score(<Font 'Liberation Sans' (LiberationSans-Italic.ttf) italic normal 400 normal>) = 11.05\n",
      "DEBUG:matplotlib.font_manager:findfont: Matching sans\\-serif:style=normal:variant=normal:weight=normal:stretch=normal:size=12.0 to DejaVu Sans ('/home/zhangi/miniconda3/envs/perses-rest-over-protocol/lib/python3.8/site-packages/matplotlib/mpl-data/fonts/ttf/DejaVuSans.ttf') with score of 0.050000.\n"
     ]
    },
    {
     "data": {
      "image/png": "[encoded data removed]",
      "text/plain": [
       "<Figure size 432x288 with 1 Axes>"
      ]
     },
     "metadata": {
      "needs_background": "light"
     },
     "output_type": "display_data"
    }
   ],
   "source": [
    "plt.plot(np.array(energies_og) - np.array(energies_hybrid))\n",
    "plt.ylabel(\"energy difference (kJ/mol)\")\n",
    "plt.xlabel(\"snapshot #\")\n",
    "plt.title(\"Lambda = 0 endstate\")\n",
    "plt.show()"
   ]
  },
  {
   "cell_type": "code",
   "execution_count": 12,
   "id": "c552d674",
   "metadata": {
    "scrolled": true
   },
   "outputs": [
    {
     "data": {
      "image/png": "[encoded data removed]",
      "text/plain": [
       "<Figure size 432x288 with 1 Axes>"
      ]
     },
     "metadata": {
      "needs_background": "light"
     },
     "output_type": "display_data"
    }
   ],
   "source": [
    "plt.hist(np.array(energies_og) - np.array(energies_hybrid))\n",
    "plt.show()"
   ]
  },
  {
   "cell_type": "code",
   "execution_count": 13,
   "id": "796a0beb",
   "metadata": {},
   "outputs": [
    {
     "data": {
      "text/plain": [
       "1.4672221947348243"
      ]
     },
     "execution_count": 13,
     "metadata": {},
     "output_type": "execute_result"
    }
   ],
   "source": [
    "np.mean(np.array(energies_og) - np.array(energies_hybrid))"
   ]
  },
  {
   "cell_type": "code",
   "execution_count": 14,
   "id": "69ebad73",
   "metadata": {},
   "outputs": [
    {
     "data": {
      "text/plain": [
       "31.398627388187617"
      ]
     },
     "execution_count": 14,
     "metadata": {},
     "output_type": "execute_result"
    }
   ],
   "source": [
    "np.std(np.array(energies_og) - np.array(energies_hybrid))"
   ]
  },
  {
   "cell_type": "code",
   "execution_count": 18,
   "id": "ab0818ae",
   "metadata": {},
   "outputs": [
    {
     "name": "stdout",
     "output_type": "stream",
     "text": [
      "40 0.3823354759369977 408235.66180068 408235.27946520405\n",
      "41 0.41358547587879 1060803.41180068 1060802.998215204\n",
      "55 0.9135854756459594 5750468.91180068 5750467.998215204\n",
      "75 0.47608547587879 915989.41180068 915988.9357152041\n",
      "120 0.16358547587879002 1720692.66180068 1720692.498215204\n",
      "149 1.78858547587879 1048467.16180068 1048465.3732152041\n",
      "152 1.78858547587879 1700591.41180068 1700589.623215204\n",
      "155 0.72608547587879 622109.41180068 622108.6857152041\n",
      "167 0.4135854759369977 92604.16180067998 92603.74821520405\n",
      "175 0.6635854756459594 2395801.4118006798 2395800.748215204\n",
      "176 0.4135854756459594 3043310.6618006798 3043310.248215204\n",
      "185 0.5698354759369977 427130.53680068 427129.96696520405\n",
      "202 0.6635854756459594 2248677.9118006798 2248677.248215204\n",
      "207 0.47608547587879 719591.91180068 719591.4357152041\n",
      "212 529.4135854840279 399280815.4118007 399280285.9982152\n",
      "214 5.663585475645959 2569485.9118006798 2569480.248215204\n",
      "220 0.22608547593699768 292959.66180068 292959.43571520405\n",
      "226 0.3823354759369977 278903.41180068 278903.02946520405\n",
      "227 0.9135854756459594 2621628.4118006798 2621627.498215204\n",
      "228 0.16358547587879002 630144.66180068 630144.4982152041\n",
      "241 0.19483547593699768 301851.91180068 301851.71696520405\n",
      "264 0.18702297592972172 62914.16180067998 62913.974777704054\n",
      "267 0.16358547564595938 4098426.4118006798 4098426.248215204\n",
      "298 0.16358547587879002 1505346.41180068 1505346.248215204\n",
      "311 0.20264797592972172 34545.91180067998 34545.709152704054\n",
      "316 3.413585476577282 23876751.41180068 23876747.998215202\n",
      "319 13.413585476577282 57857247.41180068 57857233.998215206\n",
      "322 0.28858547587879 544265.66180068 544265.3732152041\n",
      "332 0.3510854759369977 141943.03680067998 141942.68571520405\n",
      "343 0.28858547587879 1048308.41180068 1048308.1232152041\n",
      "389 0.16358547587879002 622302.41180068 622302.2482152041\n",
      "407 5.413585476577282 9549592.41180068 9549586.998215204\n",
      "412 0.41358547587879 1841932.91180068 1841932.498215204\n",
      "418 433.41358548402786 315825839.4118007 315825405.9982152\n",
      "420 15.413585476577282 10338610.41180068 10338594.998215204\n",
      "463 0.16358547592972172 35776.41180067998 35776.248215204054\n",
      "473 0.9135854756459594 5278140.91180068 5278139.998215204\n",
      "491 0.21046047593699768 72987.66180067998 72987.45134020405\n",
      "495 0.41358547587879 938245.66180068 938245.2482152041\n"
     ]
    }
   ],
   "source": [
    "for i, (energy_og, energy_hybrid) in enumerate(zip(energies_og, energies_hybrid)):\n",
    "    if energy_og - energy_hybrid > 0.15:\n",
    "        print(i, energy_og - energy_hybrid, energy_og, energy_hybrid)"
   ]
  },
  {
   "cell_type": "code",
   "execution_count": 19,
   "id": "873bf9de",
   "metadata": {},
   "outputs": [],
   "source": [
    "with open(\"energies_bnbs_hybrid.pickle\", \"wb\") as f:\n",
    "    pickle.dump(energies_hybrid, f)\n",
    "with open(\"energies_bnbs_og.pickle\", \"wb\") as f:\n",
    "    pickle.dump(energies_og, f)"
   ]
  },
  {
   "cell_type": "markdown",
   "id": "ce398083",
   "metadata": {},
   "source": [
    "## Test at lambda = 1"
   ]
  },
  {
   "cell_type": "code",
   "execution_count": 32,
   "id": "00639c98",
   "metadata": {},
   "outputs": [],
   "source": [
    "# htf = solvent_delivery.get_apo_htf()\n",
    "with open(\"bnbs_apo.pickle\", \"rb\") as f:\n",
    "    htf = pickle.load(f)\n",
    "hybrid_system = htf.hybrid_system\n",
    "hybrid_positions = htf.hybrid_positions\n",
    "box_vectors = hybrid_system.getDefaultPeriodicBoxVectors()\n"
   ]
  },
  {
   "cell_type": "code",
   "execution_count": 33,
   "id": "f2f9b5b6",
   "metadata": {},
   "outputs": [
    {
     "data": {
      "text/plain": [
       "[<openmm.openmm.MonteCarloBarostat; proxy of <Swig Object of type 'OpenMM::MonteCarloBarostat *' at 0x2ba99111e5a0> >,\n",
       " <openmm.openmm.CustomBondForce; proxy of <Swig Object of type 'OpenMM::CustomBondForce *' at 0x2ba99111ea80> >,\n",
       " <openmm.openmm.CustomAngleForce; proxy of <Swig Object of type 'OpenMM::CustomAngleForce *' at 0x2ba99111eae0> >,\n",
       " <openmm.openmm.CustomTorsionForce; proxy of <Swig Object of type 'OpenMM::CustomTorsionForce *' at 0x2ba99111e450> >,\n",
       " <openmm.openmm.CustomNonbondedForce; proxy of <Swig Object of type 'OpenMM::CustomNonbondedForce *' at 0x2ba997801f30> >,\n",
       " <openmm.openmm.CustomNonbondedForce; proxy of <Swig Object of type 'OpenMM::CustomNonbondedForce *' at 0x2ba99bb46ea0> >,\n",
       " <openmm.openmm.CustomBondForce; proxy of <Swig Object of type 'OpenMM::CustomBondForce *' at 0x2ba99bb469c0> >,\n",
       " <openmm.openmm.NonbondedForce; proxy of <Swig Object of type 'OpenMM::NonbondedForce *' at 0x2ba99bb467b0> >]"
      ]
     },
     "execution_count": 33,
     "metadata": {},
     "output_type": "execute_result"
    }
   ],
   "source": [
    "htf.hybrid_system.getForces()"
   ]
  },
  {
   "cell_type": "code",
   "execution_count": 34,
   "id": "783ea5cb",
   "metadata": {},
   "outputs": [
    {
     "name": "stdout",
     "output_type": "stream",
     "text": [
      "1.0\n",
      "0.0\n",
      "1.0\n"
     ]
    }
   ],
   "source": [
    "T_min = 300 * unit.kelvin\n",
    "T_max = 600 * unit.kelvin\n",
    "\n",
    "# Create thermodynamic state\n",
    "lambda_protocol = RESTCapableLambdaProtocol()\n",
    "lambda_zero_alchemical_state = RESTCapableRelativeAlchemicalState.from_system(hybrid_system)\n",
    "thermostate = ThermodynamicState(hybrid_system, temperature=T_min)\n",
    "compound_thermodynamic_state = CompoundThermodynamicState(thermostate,\n",
    "                                                          composable_states=[lambda_zero_alchemical_state])\n",
    "\n",
    "# Set alchemical parameters\n",
    "beta_0 = 1 / (kB * T_min)\n",
    "beta_m = 1 / (kB * T_max)\n",
    "global_lambda = 1\n",
    "compound_thermodynamic_state.set_alchemical_parameters(global_lambda, beta_0, beta_m, lambda_protocol=lambda_protocol)\n",
    "\n",
    "print(compound_thermodynamic_state.lambda_rest_bonds)\n",
    "print(compound_thermodynamic_state.lambda_alchemical_bonds_old)\n",
    "print(compound_thermodynamic_state.lambda_alchemical_bonds_new)\n"
   ]
  },
  {
   "cell_type": "code",
   "execution_count": 35,
   "id": "a141c0ba",
   "metadata": {},
   "outputs": [],
   "source": [
    "integrator = openmmtools.integrators.LangevinIntegrator(temperature=300 * unit.kelvin, \n",
    "                                    collision_rate=1 / unit.picoseconds, \n",
    "                                    timestep=4 * unit.femtoseconds)\n",
    "context = compound_thermodynamic_state.create_context(integrator)\n",
    "context.setPositions(hybrid_positions)\n",
    "context.setPeriodicBoxVectors(*box_vectors)\n",
    "context.setVelocitiesToTemperature(300 * unit.kelvin)\n"
   ]
  },
  {
   "cell_type": "code",
   "execution_count": 36,
   "id": "3d2f3b21",
   "metadata": {},
   "outputs": [],
   "source": [
    "# Minimize\n",
    "openmm.LocalEnergyMinimizer.minimize(context)\n"
   ]
  },
  {
   "cell_type": "code",
   "execution_count": 37,
   "id": "642a6166",
   "metadata": {},
   "outputs": [
    {
     "name": "stderr",
     "output_type": "stream",
     "text": [
      "/scratch/lsftmp/4055528.tmpdir/ipykernel_68104/2861022740.py:3: TqdmDeprecationWarning: This function will be removed in tqdm==5.0.0\n",
      "Please use `tqdm.notebook.tqdm` instead of `tqdm.tqdm_notebook`\n",
      "  for _ in tqdm_notebook(range(int(125000/250))):\n"
     ]
    },
    {
     "data": {
      "application/vnd.jupyter.widget-view+json": {
       "model_id": "1694b38933614c2599766d5f3666b8d3",
       "version_major": 2,
       "version_minor": 0
      },
      "text/plain": [
       "  0%|          | 0/500 [00:00<?, ?it/s]"
      ]
     },
     "metadata": {},
     "output_type": "display_data"
    },
    {
     "ename": "KeyboardInterrupt",
     "evalue": "",
     "output_type": "error",
     "traceback": [
      "\u001b[0;31m---------------------------------------------------------------------------\u001b[0m",
      "\u001b[0;31mKeyboardInterrupt\u001b[0m                         Traceback (most recent call last)",
      "\u001b[0;32m/scratch/lsftmp/4055528.tmpdir/ipykernel_68104/2861022740.py\u001b[0m in \u001b[0;36m<module>\u001b[0;34m\u001b[0m\n\u001b[1;32m      2\u001b[0m \u001b[0mhybrid\u001b[0m \u001b[0;34m=\u001b[0m \u001b[0mlist\u001b[0m\u001b[0;34m(\u001b[0m\u001b[0;34m)\u001b[0m\u001b[0;34m\u001b[0m\u001b[0;34m\u001b[0m\u001b[0m\n\u001b[1;32m      3\u001b[0m \u001b[0;32mfor\u001b[0m \u001b[0m_\u001b[0m \u001b[0;32min\u001b[0m \u001b[0mtqdm_notebook\u001b[0m\u001b[0;34m(\u001b[0m\u001b[0mrange\u001b[0m\u001b[0;34m(\u001b[0m\u001b[0mint\u001b[0m\u001b[0;34m(\u001b[0m\u001b[0;36m125000\u001b[0m\u001b[0;34m/\u001b[0m\u001b[0;36m250\u001b[0m\u001b[0;34m)\u001b[0m\u001b[0;34m)\u001b[0m\u001b[0;34m)\u001b[0m\u001b[0;34m:\u001b[0m\u001b[0;34m\u001b[0m\u001b[0;34m\u001b[0m\u001b[0m\n\u001b[0;32m----> 4\u001b[0;31m     \u001b[0mintegrator\u001b[0m\u001b[0;34m.\u001b[0m\u001b[0mstep\u001b[0m\u001b[0;34m(\u001b[0m\u001b[0;36m250\u001b[0m\u001b[0;34m)\u001b[0m\u001b[0;34m\u001b[0m\u001b[0;34m\u001b[0m\u001b[0m\n\u001b[0m\u001b[1;32m      5\u001b[0m     \u001b[0mpos\u001b[0m \u001b[0;34m=\u001b[0m \u001b[0mcontext\u001b[0m\u001b[0;34m.\u001b[0m\u001b[0mgetState\u001b[0m\u001b[0;34m(\u001b[0m\u001b[0mgetPositions\u001b[0m\u001b[0;34m=\u001b[0m\u001b[0;32mTrue\u001b[0m\u001b[0;34m,\u001b[0m \u001b[0menforcePeriodicBox\u001b[0m\u001b[0;34m=\u001b[0m\u001b[0;32mFalse\u001b[0m\u001b[0;34m)\u001b[0m\u001b[0;34m.\u001b[0m\u001b[0mgetPositions\u001b[0m\u001b[0;34m(\u001b[0m\u001b[0masNumpy\u001b[0m\u001b[0;34m=\u001b[0m\u001b[0;32mTrue\u001b[0m\u001b[0;34m)\u001b[0m\u001b[0;34m\u001b[0m\u001b[0;34m\u001b[0m\u001b[0m\n\u001b[1;32m      6\u001b[0m     \u001b[0mhybrid\u001b[0m\u001b[0;34m.\u001b[0m\u001b[0mappend\u001b[0m\u001b[0;34m(\u001b[0m\u001b[0mpos\u001b[0m\u001b[0;34m)\u001b[0m\u001b[0;34m\u001b[0m\u001b[0;34m\u001b[0m\u001b[0m\n",
      "\u001b[0;32m~/miniconda3/envs/perses-rest-over-protocol/lib/python3.8/site-packages/openmm/openmm.py\u001b[0m in \u001b[0;36mstep\u001b[0;34m(self, steps)\u001b[0m\n\u001b[1;32m   8220\u001b[0m             \u001b[0mthe\u001b[0m \u001b[0mnumber\u001b[0m \u001b[0mof\u001b[0m \u001b[0mtime\u001b[0m \u001b[0msteps\u001b[0m \u001b[0mto\u001b[0m \u001b[0mtake\u001b[0m\u001b[0;34m\u001b[0m\u001b[0;34m\u001b[0m\u001b[0m\n\u001b[1;32m   8221\u001b[0m         \"\"\"\n\u001b[0;32m-> 8222\u001b[0;31m         \u001b[0;32mreturn\u001b[0m \u001b[0m_openmm\u001b[0m\u001b[0;34m.\u001b[0m\u001b[0mCustomIntegrator_step\u001b[0m\u001b[0;34m(\u001b[0m\u001b[0mself\u001b[0m\u001b[0;34m,\u001b[0m \u001b[0msteps\u001b[0m\u001b[0;34m)\u001b[0m\u001b[0;34m\u001b[0m\u001b[0;34m\u001b[0m\u001b[0m\n\u001b[0m\u001b[1;32m   8223\u001b[0m \u001b[0;34m\u001b[0m\u001b[0m\n\u001b[1;32m   8224\u001b[0m     \u001b[0;32mdef\u001b[0m \u001b[0mgetPerDofVariable\u001b[0m\u001b[0;34m(\u001b[0m\u001b[0mself\u001b[0m\u001b[0;34m,\u001b[0m \u001b[0;34m*\u001b[0m\u001b[0margs\u001b[0m\u001b[0;34m)\u001b[0m\u001b[0;34m:\u001b[0m\u001b[0;34m\u001b[0m\u001b[0;34m\u001b[0m\u001b[0m\n",
      "\u001b[0;31mKeyboardInterrupt\u001b[0m: "
     ]
    }
   ],
   "source": [
    "# Run MD\n",
    "hybrid = list()\n",
    "for _ in tqdm_notebook(range(int(125000/250))):\n",
    "    integrator.step(250)\n",
    "    pos = context.getState(getPositions=True, enforcePeriodicBox=False).getPositions(asNumpy=True)\n",
    "    hybrid.append(pos)\n"
   ]
  },
  {
   "cell_type": "code",
   "execution_count": 38,
   "id": "189f2a91",
   "metadata": {},
   "outputs": [],
   "source": [
    "with open(\"hybrid_positions_bnbs_lambda_1.pickle\", \"wb\") as f:\n",
    "    pickle.dump(hybrid, f)"
   ]
  },
  {
   "cell_type": "code",
   "execution_count": 39,
   "id": "33044ba2",
   "metadata": {},
   "outputs": [],
   "source": [
    "with open(\"hybrid_positions_bnbs_lambda_1.pickle\", \"rb\") as f:\n",
    "    hybrid = pickle.load(f)"
   ]
  },
  {
   "cell_type": "code",
   "execution_count": 40,
   "id": "7935c4b7",
   "metadata": {
    "scrolled": true
   },
   "outputs": [
    {
     "name": "stderr",
     "output_type": "stream",
     "text": [
      "/scratch/lsftmp/4055528.tmpdir/ipykernel_68104/280257880.py:62: TqdmDeprecationWarning: This function will be removed in tqdm==5.0.0\n",
      "Please use `tqdm.notebook.tqdm` instead of `tqdm.tqdm_notebook`\n",
      "  for pos in tqdm_notebook(hybrid):\n"
     ]
    },
    {
     "data": {
      "application/vnd.jupyter.widget-view+json": {
       "model_id": "5f93393140d748eb9c3e91aef0c16eb6",
       "version_major": 2,
       "version_minor": 0
      },
      "text/plain": [
       "  0%|          | 0/305 [00:00<?, ?it/s]"
      ]
     },
     "metadata": {},
     "output_type": "display_data"
    },
    {
     "name": "stdout",
     "output_type": "stream",
     "text": [
      "-221694.7456467396 kJ/mol -221694.73548905272 kJ/mol\n",
      "-211725.31481193344 kJ/mol -211725.3058160422 kJ/mol\n",
      "-204706.11665310804 kJ/mol -204706.10540276518 kJ/mol\n",
      "-202700.83425680758 kJ/mol -202700.82383068604 kJ/mol\n",
      "-196606.49615696643 kJ/mol -196606.48470694848 kJ/mol\n",
      "-197616.13048806123 kJ/mol -197616.11771871796 kJ/mol\n",
      "-186135.2830104679 kJ/mol -186135.2638664839 kJ/mol\n",
      "-183800.95875915326 kJ/mol -183800.94419391 kJ/mol\n",
      "-192300.89874743577 kJ/mol -192300.88779800758 kJ/mol\n",
      "-152128.73923751386 kJ/mol -152128.70435730962 kJ/mol\n",
      "-134841.51576933544 kJ/mol -134841.4914230942 kJ/mol\n",
      "-183804.68814478524 kJ/mol -183804.67176592955 kJ/mol\n",
      "-153579.64448392915 kJ/mol -153579.6056516871 kJ/mol\n",
      "-150497.97859704762 kJ/mol -150497.9468932719 kJ/mol\n",
      "-122801.57385003078 kJ/mol -122801.53211841389 kJ/mol\n",
      "-188351.74930905714 kJ/mol -188351.73874250386 kJ/mol\n",
      "-176533.65272227535 kJ/mol -176533.63088270923 kJ/mol\n",
      "-155144.8990328433 kJ/mol -155144.8590595901 kJ/mol\n",
      "-169596.1274662069 kJ/mol -169596.10346675207 kJ/mol\n",
      "-180515.0377460958 kJ/mol -180515.02278147454 kJ/mol\n",
      "-175610.7316250148 kJ/mol -175610.69938069893 kJ/mol\n",
      "165844.4976107448 kJ/mol 165844.71572098398 kJ/mol\n",
      "-176742.19195799623 kJ/mol -176742.17289689914 kJ/mol\n",
      "-96471.22611174989 kJ/mol -96471.17911392258 kJ/mol\n",
      "-103974.75089555117 kJ/mol -103974.66595562942 kJ/mol\n",
      "46337.24411802809 kJ/mol 46337.312527916954 kJ/mol\n",
      "-160728.4595739015 kJ/mol -160728.44002815607 kJ/mol\n",
      "965597.7906676589 kJ/mol 965598.0714273739 kJ/mol\n",
      "-179856.83135892753 kJ/mol -179856.80463339703 kJ/mol\n",
      "-129661.33995556575 kJ/mol -129661.28953720938 kJ/mol\n",
      "-56968.18684269092 kJ/mol -56968.0625050878 kJ/mol\n",
      "-48262.53096279269 kJ/mol -48262.40399021759 kJ/mol\n",
      "-30605.534834452206 kJ/mol -30605.41358150905 kJ/mol\n",
      "-139065.6185798077 kJ/mol -139065.57679206837 kJ/mol\n",
      "156238.30756899412 kJ/mol 156238.49313623153 kJ/mol\n",
      "-177701.15249682777 kJ/mol -177701.13058223343 kJ/mol\n",
      "-156491.72570295772 kJ/mol -156491.69830648383 kJ/mol\n",
      "-15105.270006777486 kJ/mol -15105.225540307169 kJ/mol\n",
      "-143106.91495714663 kJ/mol -143106.89443607433 kJ/mol\n",
      "-136895.15037590126 kJ/mol -136895.12217708194 kJ/mol\n",
      "449720.2040750575 kJ/mol 449720.0504488016 kJ/mol\n",
      "-166153.8425214868 kJ/mol -166153.82991559 kJ/mol\n",
      "-151380.50822123094 kJ/mol -151380.48303674848 kJ/mol\n",
      "-160120.4823800067 kJ/mol -160120.4456498211 kJ/mol\n",
      "-160459.51852837414 kJ/mol -160459.4754859171 kJ/mol\n",
      "-134672.84321078996 kJ/mol -134672.79393496114 kJ/mol\n",
      "-170576.8909159028 kJ/mol -170576.86228320297 kJ/mol\n",
      "-168784.08849624975 kJ/mol -168784.06294511628 kJ/mol\n",
      "-164462.87386776856 kJ/mol -164462.8534914776 kJ/mol\n",
      "-154849.36056539218 kJ/mol -154849.3273109568 kJ/mol\n",
      "-139173.32131827401 kJ/mol -139173.2883726498 kJ/mol\n",
      "-162773.42727219104 kJ/mol -162773.41240497425 kJ/mol\n",
      "-175113.48155390914 kJ/mol -175113.4570146987 kJ/mol\n",
      "-184251.89937194414 kJ/mol -184251.88910632877 kJ/mol\n",
      "-180215.46054083935 kJ/mol -180215.4545360352 kJ/mol\n",
      "-186264.35711972415 kJ/mol -186264.33949946013 kJ/mol\n",
      "-126021.3438379548 kJ/mol -126021.32823266072 kJ/mol\n",
      "-167762.65856701753 kJ/mol -167762.63948101044 kJ/mol\n",
      "335299.27139427816 kJ/mol 335299.15644896094 kJ/mol\n",
      "-159864.72037926363 kJ/mol -159864.69452034833 kJ/mol\n",
      "-142182.75391219533 kJ/mol -142182.71643071008 kJ/mol\n",
      "-146849.7491727178 kJ/mol -146849.7054121188 kJ/mol\n",
      "-170034.989493754 kJ/mol -170034.97231392318 kJ/mol\n",
      "-104255.07937929989 kJ/mol -104254.96836275351 kJ/mol\n",
      "-148228.97899019253 kJ/mol -148228.94741231 kJ/mol\n",
      "-102847.45660072984 kJ/mol -102847.39070458697 kJ/mol\n",
      "-71776.16297646053 kJ/mol -71776.1036111621 kJ/mol\n",
      "-162264.48609701078 kJ/mol -162264.46079532965 kJ/mol\n",
      "-74276.93036902952 kJ/mol -74276.88873330798 kJ/mol\n",
      "-51229.90442368272 kJ/mol -51229.82789000371 kJ/mol\n",
      "-170871.562097657 kJ/mol -170871.52610087412 kJ/mol\n",
      "-59166.4639711387 kJ/mol -59166.45819372939 kJ/mol\n",
      "-136576.69668266736 kJ/mol -136576.61824267427 kJ/mol\n",
      "-137620.57845989417 kJ/mol -137620.5190263806 kJ/mol\n",
      "-172061.22039494477 kJ/mol -172061.1888534992 kJ/mol\n",
      "-90198.73561110254 kJ/mol -90198.64209414688 kJ/mol\n",
      "-103621.74910077697 kJ/mol -103621.7045010108 kJ/mol\n",
      "-134455.24749855464 kJ/mol -134455.19061701203 kJ/mol\n",
      "-106088.5357263796 kJ/mol -106088.48232966443 kJ/mol\n",
      "-161351.57554264425 kJ/mol -161351.55497140365 kJ/mol\n",
      "120158.45332684251 kJ/mol 120158.68914578987 kJ/mol\n",
      "-162799.7483296804 kJ/mol -162799.72639768216 kJ/mol\n",
      "-145928.25933059328 kJ/mol -145928.23835689126 kJ/mol\n",
      "-186036.81402115454 kJ/mol -186036.79376546876 kJ/mol\n",
      "-93125.96060546115 kJ/mol -93125.88604439709 kJ/mol\n",
      "-178789.67781770043 kJ/mol -178789.66173731675 kJ/mol\n",
      "-175861.3328182178 kJ/mol -175861.2982152849 kJ/mol\n",
      "-186090.54081188398 kJ/mol -186090.5263518328 kJ/mol\n",
      "-185433.53292036697 kJ/mol -185433.52689163756 kJ/mol\n",
      "-187284.17258266825 kJ/mol -187284.15641649728 kJ/mol\n",
      "-184483.4999134749 kJ/mol -184483.48447344292 kJ/mol\n",
      "-171446.86128615984 kJ/mol -171446.8284392511 kJ/mol\n",
      "-104067.58650074946 kJ/mol -104067.50230597857 kJ/mol\n",
      "-163662.23246942845 kJ/mol -163662.2049584206 kJ/mol\n",
      "-169580.8436356245 kJ/mol -169580.81783001916 kJ/mol\n",
      "-110865.76440354926 kJ/mol -110865.70084560211 kJ/mol\n",
      "-162305.12946820038 kJ/mol -162305.0891276686 kJ/mol\n",
      "-141617.8055255917 kJ/mol -141617.7737788659 kJ/mol\n",
      "-168375.41485036002 kJ/mol -168375.3886216289 kJ/mol\n",
      "-181019.2418259828 kJ/mol -181019.22580349745 kJ/mol\n",
      "-190471.76721195935 kJ/mol -190471.7586215344 kJ/mol\n",
      "-151454.24029913498 kJ/mol -151454.20994348952 kJ/mol\n",
      "-175806.89355879556 kJ/mol -175806.873316969 kJ/mol\n",
      "-183353.43671786017 kJ/mol -183353.42009633905 kJ/mol\n",
      "-173874.10453963536 kJ/mol -173874.08227096294 kJ/mol\n",
      "-157915.22214703984 kJ/mol -157915.19364228979 kJ/mol\n",
      "-157069.7869748763 kJ/mol -157069.74772111722 kJ/mol\n",
      "-149651.3668816673 kJ/mol -149651.3347158516 kJ/mol\n",
      "-163618.67972079106 kJ/mol -163618.6537529382 kJ/mol\n",
      "-44035.13929851097 kJ/mol -44034.94186902757 kJ/mol\n",
      "-135906.37056074536 kJ/mol -135906.29604696043 kJ/mol\n",
      "-106366.97627105098 kJ/mol -106366.89906737153 kJ/mol\n",
      "-43243.37452185899 kJ/mol -43243.30372869498 kJ/mol\n",
      "-107100.763877725 kJ/mol -107100.747238149 kJ/mol\n",
      "-163383.38349398866 kJ/mol -163383.3542613467 kJ/mol\n",
      "-128188.34710990114 kJ/mol -128188.25455982173 kJ/mol\n",
      "-151860.23582808068 kJ/mol -151860.19207552655 kJ/mol\n",
      "-92198.1197502932 kJ/mol -92198.08768025885 kJ/mol\n",
      "-138898.7215685097 kJ/mol -138898.69816258154 kJ/mol\n",
      "-62552.46429581009 kJ/mol -62552.44383207623 kJ/mol\n",
      "-163375.7594402125 kJ/mol -163375.72653759416 kJ/mol\n",
      "-140643.40336460643 kJ/mol -140643.35758702416 kJ/mol\n",
      "-138261.49126515177 kJ/mol -138261.44953012437 kJ/mol\n",
      "-151185.63978678046 kJ/mol -151185.60528808206 kJ/mol\n",
      "-96671.8934486846 kJ/mol -96671.81468372617 kJ/mol\n",
      "-162545.96380561334 kJ/mol -162545.9287429669 kJ/mol\n",
      "-157178.89706105762 kJ/mol -157178.86483870528 kJ/mol\n",
      "-179331.05853318027 kJ/mol -179331.0404595709 kJ/mol\n",
      "-175605.42077399464 kJ/mol -175605.40350259628 kJ/mol\n",
      "-158136.18004213716 kJ/mol -158136.1318661373 kJ/mol\n",
      "666635.0228230078 kJ/mol 666635.0932303368 kJ/mol\n",
      "-102620.46862560126 kJ/mol -102620.43719056538 kJ/mol\n",
      "-164929.57343598723 kJ/mol -164929.54534999534 kJ/mol\n",
      "-153285.91572027456 kJ/mol -153285.8853553839 kJ/mol\n",
      "-141.2781459314283 kJ/mol -141.23074065264598 kJ/mol\n",
      "-172454.47632667213 kJ/mol -172454.45033971738 kJ/mol\n",
      "-168081.5906210154 kJ/mol -168081.57308649702 kJ/mol\n",
      "-134624.1771657837 kJ/mol -134624.15323110027 kJ/mol\n",
      "-143424.70957093674 kJ/mol -143424.6640426148 kJ/mol\n",
      "-146226.8603964426 kJ/mol -146226.80353706988 kJ/mol\n",
      "-101257.37240573775 kJ/mol -101257.30945966009 kJ/mol\n",
      "-173377.41142984235 kJ/mol -173377.38016132129 kJ/mol\n",
      "-190845.254019203 kJ/mol -190845.2407546239 kJ/mol\n",
      "-154570.62958457868 kJ/mol -154570.617855514 kJ/mol\n",
      "-90779.82885988057 kJ/mol -90779.85855082312 kJ/mol\n",
      "-142046.47821991146 kJ/mol -142046.4414584834 kJ/mol\n",
      "-167526.0782883342 kJ/mol -167526.05671795332 kJ/mol\n",
      "-139508.48630918132 kJ/mol -139508.446819641 kJ/mol\n",
      "-158775.2784605103 kJ/mol -158775.25050476548 kJ/mol\n",
      "-176736.67788862786 kJ/mol -176736.65013666824 kJ/mol\n",
      "-167227.6138553836 kJ/mol -167227.58223436464 kJ/mol\n",
      "-137203.7728089441 kJ/mol -137203.71727671285 kJ/mol\n",
      "-42613.96938138991 kJ/mol -42613.7975378718 kJ/mol\n",
      "-88667.70444546873 kJ/mol -88667.65527788538 kJ/mol\n",
      "-102666.75503604591 kJ/mol -102666.6348956279 kJ/mol\n"
     ]
    },
    {
     "name": "stdout",
     "output_type": "stream",
     "text": [
      "-96758.57218651404 kJ/mol -96758.42130436243 kJ/mol\n",
      "-149354.47325140226 kJ/mol -149354.4525934388 kJ/mol\n",
      "-165949.67116358294 kJ/mol -165949.65119400318 kJ/mol\n",
      "124540.51657795231 kJ/mol 124540.64017668 kJ/mol\n",
      "-94261.93780458823 kJ/mol -94261.8284561319 kJ/mol\n",
      "-121480.62321181793 kJ/mol -121480.59075900995 kJ/mol\n",
      "-133593.6396700982 kJ/mol -133593.59997457272 kJ/mol\n",
      "-182379.2098648831 kJ/mol -182379.20003256295 kJ/mol\n",
      "-136513.0067682024 kJ/mol -136512.97720573182 kJ/mol\n",
      "-74478.01769164228 kJ/mol -74477.98693931321 kJ/mol\n",
      "-124173.13728974038 kJ/mol -124173.11326298033 kJ/mol\n",
      "-70379.63567598048 kJ/mol -70379.56608178119 kJ/mol\n",
      "-54402.55049429205 kJ/mol -54402.51080707967 kJ/mol\n",
      "-138081.8467627276 kJ/mol -138081.81161888398 kJ/mol\n",
      "-130867.62797095766 kJ/mol -130867.57028854005 kJ/mol\n",
      "-126518.55901321722 kJ/mol -126518.51114191693 kJ/mol\n",
      "-177956.45782075007 kJ/mol -177956.4426688265 kJ/mol\n",
      "5166236.764589908 kJ/mol 5166236.844185673 kJ/mol\n",
      "4004312.1145135676 kJ/mol 4004314.3019207167 kJ/mol\n",
      "121712.3935815855 kJ/mol 121712.63236253778 kJ/mol\n",
      "94008.90890123509 kJ/mol 94009.03911168128 kJ/mol\n",
      "342293.60857778625 kJ/mol 342293.6557246658 kJ/mol\n",
      "-148010.91526300635 kJ/mol -148010.88768441518 kJ/mol\n",
      "779722.4142346017 kJ/mol 779721.8983803351 kJ/mol\n",
      "-77640.91357861715 kJ/mol -77640.87268764226 kJ/mol\n",
      "-144093.32738484838 kJ/mol -144093.28781474888 kJ/mol\n",
      "-186813.38012898015 kJ/mol -186813.3666488732 kJ/mol\n",
      "-119517.39238615893 kJ/mol -119517.36533490446 kJ/mol\n",
      "-171805.7687976563 kJ/mol -171805.74258858705 kJ/mol\n",
      "186979.8740676453 kJ/mol 186979.8335072523 kJ/mol\n",
      "-143661.15646670945 kJ/mol -143661.12373023748 kJ/mol\n",
      "-155322.19443347002 kJ/mol -155322.17594811 kJ/mol\n",
      "-172836.98282169155 kJ/mol -172836.95275319292 kJ/mol\n",
      "-163254.92122646444 kJ/mol -163254.8825954627 kJ/mol\n",
      "-181847.4443744251 kJ/mol -181847.43101737625 kJ/mol\n",
      "-186030.51928719296 kJ/mol -186030.50354773848 kJ/mol\n",
      "-139773.9947099929 kJ/mol -139773.97525159112 kJ/mol\n",
      "-117787.43909299304 kJ/mol -117787.36171437221 kJ/mol\n",
      "-171548.42979115644 kJ/mol -171548.39172192238 kJ/mol\n",
      "-148517.89903846802 kJ/mol -148517.8629898653 kJ/mol\n",
      "-128331.18133703177 kJ/mol -128331.11895456856 kJ/mol\n",
      "-169845.8209120615 kJ/mol -169845.80119539986 kJ/mol\n",
      "-112613.1900313748 kJ/mol -112613.13234920026 kJ/mol\n",
      "7715.194092551712 kJ/mol 7715.304267555918 kJ/mol\n",
      "-141442.46016683546 kJ/mol -141442.44149067593 kJ/mol\n",
      "-158590.26844310865 kJ/mol -158590.25699895193 kJ/mol\n",
      "-164521.07935934083 kJ/mol -164521.0660886098 kJ/mol\n",
      "1372758.5177610766 kJ/mol 1372758.6966642581 kJ/mol\n",
      "-17096.11037296173 kJ/mol -17096.053101487436 kJ/mol\n",
      "-164408.6545347073 kJ/mol -164408.62635352998 kJ/mol\n",
      "-135614.80279554578 kJ/mol -135614.8020288386 kJ/mol\n",
      "-100327.89004991623 kJ/mol -100327.82768065648 kJ/mol\n",
      "-174360.35895440984 kJ/mol -174360.32811565854 kJ/mol\n",
      "-168904.55268341978 kJ/mol -168904.5413414559 kJ/mol\n",
      "-165782.30483676447 kJ/mol -165782.28560251428 kJ/mol\n",
      "-116935.19922044198 kJ/mol -116935.15840357571 kJ/mol\n",
      "-178024.7278953723 kJ/mol -178024.71281361385 kJ/mol\n",
      "-118510.4409135615 kJ/mol -118510.41823298277 kJ/mol\n",
      "-124451.68816509843 kJ/mol -124451.63970550592 kJ/mol\n",
      "-186364.0178528435 kJ/mol -186364.00509069988 kJ/mol\n",
      "-193329.8934011323 kJ/mol -193329.876269863 kJ/mol\n",
      "-186818.82304082578 kJ/mol -186818.80601542146 kJ/mol\n",
      "1084853.4132961684 kJ/mol 1084853.2134561106 kJ/mol\n",
      "-163732.1770771884 kJ/mol -163732.14419079333 kJ/mol\n",
      "-166152.14197810832 kJ/mol -166152.11666389415 kJ/mol\n",
      "-169131.2774955437 kJ/mol -169131.2606874506 kJ/mol\n",
      "-140143.0027050355 kJ/mol -140142.98198242913 kJ/mol\n",
      "30517.71981805563 kJ/mol 30517.91001636863 kJ/mol\n",
      "-165612.95322315977 kJ/mol -165612.92606749063 kJ/mol\n",
      "9077.451845804462 kJ/mol 9077.60526154354 kJ/mol\n",
      "-86732.35698559415 kJ/mol -86732.29010480856 kJ/mol\n",
      "-137330.9782580838 kJ/mol -137330.91807985972 kJ/mol\n",
      "-165001.85172458168 kJ/mol -165001.81889147998 kJ/mol\n",
      "-184681.49195182964 kJ/mol -184681.47298685796 kJ/mol\n",
      "-186724.30572658684 kJ/mol -186724.29008970823 kJ/mol\n",
      "-176170.1353196901 kJ/mol -176170.10816735783 kJ/mol\n",
      "27762.37696525827 kJ/mol 27762.466445783473 kJ/mol\n",
      "-174052.67131490237 kJ/mol -174052.64910294677 kJ/mol\n",
      "-178645.48627914418 kJ/mol -178645.4715248875 kJ/mol\n",
      "-138066.6496952069 kJ/mol -138066.61733319802 kJ/mol\n",
      "2865815.3949851617 kJ/mol 2865814.6442636373 kJ/mol\n",
      "-160164.61977339303 kJ/mol -160164.60197671514 kJ/mol\n",
      "84666.87063768972 kJ/mol 84666.99301182941 kJ/mol\n",
      "-154060.37026156066 kJ/mol -154060.33781578654 kJ/mol\n",
      "-114879.70378827979 kJ/mol -114879.62204602355 kJ/mol\n",
      "-123931.27311251115 kJ/mol -123931.23545557444 kJ/mol\n",
      "-180806.31129369163 kJ/mol -180806.2924340059 kJ/mol\n",
      "-128893.69401565846 kJ/mol -128893.666843034 kJ/mol\n",
      "-43161.38117365795 kJ/mol -43161.31830006968 kJ/mol\n",
      "-83470.83992949524 kJ/mol -83470.7690132241 kJ/mol\n",
      "-184443.82502343238 kJ/mol -184443.80595925084 kJ/mol\n",
      "-190325.61660045234 kJ/mol -190325.60508372152 kJ/mol\n",
      "-193531.5307099542 kJ/mol -193531.5180750798 kJ/mol\n",
      "-164632.47521546832 kJ/mol -164632.44313075114 kJ/mol\n",
      "243829.07822335907 kJ/mol 243828.54046590772 kJ/mol\n",
      "-180248.32375393528 kJ/mol -180248.31264077546 kJ/mol\n",
      "-100504.57467838761 kJ/mol -100504.5510456896 kJ/mol\n",
      "-125919.48321646429 kJ/mol -125919.46821416172 kJ/mol\n",
      "-189366.72940647672 kJ/mol -189366.716963796 kJ/mol\n",
      "-194518.81114269514 kJ/mol -194518.79787907755 kJ/mol\n",
      "-177692.72797468794 kJ/mol -177692.7093314477 kJ/mol\n",
      "-147695.58873894252 kJ/mol -147695.5707195842 kJ/mol\n",
      "-153580.2038116972 kJ/mol -153580.19686477497 kJ/mol\n",
      "-142965.38228328992 kJ/mol -142965.34841589822 kJ/mol\n",
      "-182250.17380581703 kJ/mol -182250.1609335153 kJ/mol\n",
      "99083.9425437015 kJ/mol 99083.80765893743 kJ/mol\n",
      "-176544.19224292424 kJ/mol -176544.16996196503 kJ/mol\n",
      "684822.0386361978 kJ/mol 684822.6494611864 kJ/mol\n",
      "-177069.7213440037 kJ/mol -177069.70322259533 kJ/mol\n",
      "-140711.67173542595 kJ/mol -140711.63659021928 kJ/mol\n",
      "-135954.1557185275 kJ/mol -135954.1343889788 kJ/mol\n",
      "-171295.86558391026 kJ/mol -171295.85278266232 kJ/mol\n",
      "-176678.61701052194 kJ/mol -176678.5999962578 kJ/mol\n",
      "1167987.0811308564 kJ/mol 1167988.179111638 kJ/mol\n",
      "-184143.01409082208 kJ/mol -184143.0004574475 kJ/mol\n",
      "-82848.60243610642 kJ/mol -82848.56324338839 kJ/mol\n",
      "126470.83227312146 kJ/mol 126470.85945143957 kJ/mol\n",
      "169171.98319192883 kJ/mol 169172.26435161682 kJ/mol\n",
      "-185819.02683197055 kJ/mol -185819.01347345524 kJ/mol\n",
      "-95618.08623022866 kJ/mol -95618.02843882376 kJ/mol\n",
      "-25625.45326142991 kJ/mol -25625.322216009605 kJ/mol\n",
      "78613.1352023303 kJ/mol 78613.24071596585 kJ/mol\n",
      "-175461.7793716233 kJ/mol -175461.7590523419 kJ/mol\n",
      "-133394.53689126414 kJ/mol -133394.5215102391 kJ/mol\n",
      "-156369.50938912388 kJ/mol -156369.48059254527 kJ/mol\n",
      "58499825.46010127 kJ/mol 58499840.6379767 kJ/mol\n",
      "-164036.32721746445 kJ/mol -164036.31554868666 kJ/mol\n",
      "2013011.760602516 kJ/mol 2013011.1418147038 kJ/mol\n",
      "-194790.84442056972 kJ/mol -194790.83250752673 kJ/mol\n",
      "-175645.14543674875 kJ/mol -175645.12979531902 kJ/mol\n",
      "-191703.38319854322 kJ/mol -191703.37138268474 kJ/mol\n",
      "556890.71985776 kJ/mol 556891.3984210145 kJ/mol\n",
      "-151084.96376820887 kJ/mol -151084.95123644933 kJ/mol\n",
      "-166120.44698916352 kJ/mol -166120.44792397227 kJ/mol\n",
      "16709.91131459293 kJ/mol 16709.996263951653 kJ/mol\n",
      "2502099.314601226 kJ/mol 2502099.8472885466 kJ/mol\n",
      "-188491.81491668045 kJ/mol -188491.80172945905 kJ/mol\n",
      "-192101.45234901807 kJ/mol -192101.43897240143 kJ/mol\n",
      "-191043.47959209094 kJ/mol -191043.46910586397 kJ/mol\n",
      "-189353.2506244604 kJ/mol -189353.2372574549 kJ/mol\n",
      "-188999.3230265273 kJ/mol -188999.31179416337 kJ/mol\n",
      "101284.47582563455 kJ/mol 101284.52084384755 kJ/mol\n",
      "-192766.37544224993 kJ/mol -192766.3654239897 kJ/mol\n",
      "-192525.56462463643 kJ/mol -192525.55478814215 kJ/mol\n",
      "-100022.75514219166 kJ/mol -100022.69645059473 kJ/mol\n",
      "569711.0713928731 kJ/mol 569711.3441425592 kJ/mol\n",
      "-172901.77519135014 kJ/mol -172901.75193665072 kJ/mol\n",
      "122312.97991404613 kJ/mol 122312.88019149289 kJ/mol\n",
      "-177460.91073045018 kJ/mol -177460.90154564666 kJ/mol\n",
      "-75987.02017813758 kJ/mol -75987.01459862427 kJ/mol\n"
     ]
    }
   ],
   "source": [
    "# Make context for og system\n",
    "thermodynamic_state = ThermodynamicState(htf._topology_proposal.new_system, temperature=T_min)\n",
    "integrator_og = openmmtools.integrators.LangevinIntegrator(temperature=300 * unit.kelvin,\n",
    "                                          collision_rate=1 / unit.picoseconds,\n",
    "                                          timestep= 4 * unit.femtoseconds)\n",
    "context_og = thermodynamic_state.create_context(integrator_og)\n",
    "\n",
    "\n",
    "# Zero the unique old/new valence in the hybrid system\n",
    "bond_force_index = 1 \n",
    "angle_force_index = 2 \n",
    "torsion_force_index = 3 \n",
    "custom_bond_force = hybrid_system.getForce(bond_force_index)\n",
    "custom_angle_force = hybrid_system.getForce(angle_force_index)\n",
    "custom_torsion_force = hybrid_system.getForce(torsion_force_index)\n",
    "is_old = False\n",
    "hybrid_to_bond_indices = htf._hybrid_to_new_bond_indices if is_old else htf._hybrid_to_old_bond_indices\n",
    "hybrid_to_angle_indices = htf._hybrid_to_new_angle_indices if is_old else htf._hybrid_to_old_angle_indices\n",
    "hybrid_to_torsion_indices = htf._hybrid_to_new_torsion_indices if is_old else htf._hybrid_to_old_torsion_indices\n",
    "for hybrid_idx, idx in hybrid_to_bond_indices.items():\n",
    "    p1, p2, hybrid_params = custom_bond_force.getBondParameters(hybrid_idx)\n",
    "    hybrid_params = list(hybrid_params)\n",
    "    hybrid_params[-2] *= 0 # zero K_old\n",
    "    hybrid_params[-1] *= 0 # zero K_new\n",
    "    custom_bond_force.setBondParameters(hybrid_idx, p1, p2, hybrid_params)\n",
    "for hybrid_idx, idx in hybrid_to_angle_indices.items():\n",
    "    p1, p2, p3, hybrid_params = custom_angle_force.getAngleParameters(hybrid_idx)\n",
    "    hybrid_params = list(hybrid_params)\n",
    "    hybrid_params[-1] *= 0\n",
    "    hybrid_params[-2] *= 0\n",
    "    custom_angle_force.setAngleParameters(hybrid_idx, p1, p2, p3, hybrid_params)\n",
    "for hybrid_idx, idx in hybrid_to_torsion_indices.items():\n",
    "    p1, p2, p3, p4, hybrid_params = custom_torsion_force.getTorsionParameters(hybrid_idx)\n",
    "    hybrid_params = list(hybrid_params)\n",
    "    hybrid_params[-1] *= 0\n",
    "    hybrid_params[-2] *= 0\n",
    "    custom_torsion_force.setTorsionParameters(hybrid_idx, p1, p2, p3, p4, hybrid_params)\n",
    "\n",
    "# Make context for hybrid system\n",
    "T_min = 300 * unit.kelvin\n",
    "T_max = 600 * unit.kelvin\n",
    "\n",
    "lambda_protocol = RESTCapableLambdaProtocol()\n",
    "lambda_zero_alchemical_state = RESTCapableRelativeAlchemicalState.from_system(hybrid_system)\n",
    "thermostate = ThermodynamicState(hybrid_system, temperature=T_min)\n",
    "compound_thermodynamic_state = CompoundThermodynamicState(thermostate,\n",
    "                                                          composable_states=[lambda_zero_alchemical_state])\n",
    "\n",
    "beta_0 = 1 / (kB * T_min)\n",
    "beta_m = 1 / (kB * T_max)\n",
    "global_lambda = 1\n",
    "compound_thermodynamic_state.set_alchemical_parameters(global_lambda, beta_0, beta_m, lambda_protocol=lambda_protocol)\n",
    "\n",
    "integrator_hybrid = openmmtools.integrators.LangevinIntegrator(temperature=300 * unit.kelvin,\n",
    "                                          collision_rate=1 / unit.picoseconds,\n",
    "                                          timestep= 4 * unit.femtoseconds)\n",
    "context_hybrid = compound_thermodynamic_state.create_context(integrator_hybrid)\n",
    "\n",
    "# Get energies for each conformation\n",
    "energies_og = list()\n",
    "energies_hybrid = list()\n",
    "for pos in tqdm_notebook(hybrid):\n",
    "   \n",
    "    context_og.setPositions(htf.new_positions(pos))\n",
    "    energy_og = context_og.getState(getEnergy=True).getPotentialEnergy()\n",
    "    energies_og.append(energy_og.value_in_unit_system(unit.md_unit_system))\n",
    "    \n",
    "    context_hybrid.setPositions(pos)\n",
    "    energy_hybrid = context_hybrid.getState(getEnergy=True).getPotentialEnergy()\n",
    "    energies_hybrid.append(energy_hybrid.value_in_unit_system(unit.md_unit_system))\n",
    "    \n",
    "    print(energy_og, energy_hybrid)"
   ]
  },
  {
   "cell_type": "code",
   "execution_count": 41,
   "id": "6e6604b2",
   "metadata": {
    "scrolled": true
   },
   "outputs": [
    {
     "data": {
      "image/png": "[encoded data removed]",
      "text/plain": [
       "<Figure size 432x288 with 1 Axes>"
      ]
     },
     "metadata": {
      "needs_background": "light"
     },
     "output_type": "display_data"
    }
   ],
   "source": [
    "plt.plot(np.array(energies_og) - np.array(energies_hybrid))\n",
    "plt.ylabel(\"energy difference between og system vs hybrid system (kJ/mol)\")\n",
    "plt.xlabel(\"snapshot #\")\n",
    "plt.show()"
   ]
  },
  {
   "cell_type": "code",
   "execution_count": null,
   "id": "fb58848f",
   "metadata": {},
   "outputs": [],
   "source": []
  },
  {
   "cell_type": "code",
   "execution_count": 42,
   "id": "b0ef11e7",
   "metadata": {},
   "outputs": [
    {
     "data": {
      "image/png": "[encoded data removed]",
      "text/plain": [
       "<Figure size 432x288 with 1 Axes>"
      ]
     },
     "metadata": {
      "needs_background": "light"
     },
     "output_type": "display_data"
    }
   ],
   "source": [
    "plt.hist(np.array(energies_og) - np.array(energies_hybrid))\n",
    "plt.show()"
   ]
  },
  {
   "cell_type": "code",
   "execution_count": 23,
   "id": "ae297a1e",
   "metadata": {},
   "outputs": [
    {
     "data": {
      "text/plain": [
       "-2.3724230397492647"
      ]
     },
     "execution_count": 23,
     "metadata": {},
     "output_type": "execute_result"
    }
   ],
   "source": [
    "diff = np.array(energies_og) - np.array(energies_hybrid)\n",
    "diff[112]"
   ]
  },
  {
   "cell_type": "code",
   "execution_count": 29,
   "id": "f17013d6",
   "metadata": {},
   "outputs": [
    {
     "data": {
      "text/plain": [
       "-0.707159933866933"
      ]
     },
     "execution_count": 29,
     "metadata": {},
     "output_type": "execute_result"
    }
   ],
   "source": [
    "diff[51]"
   ]
  },
  {
   "cell_type": "code",
   "execution_count": 24,
   "id": "bd6a5d9b",
   "metadata": {},
   "outputs": [
    {
     "data": {
      "text/plain": [
       "(8270022.855682447, 8270025.228105486)"
      ]
     },
     "execution_count": 24,
     "metadata": {},
     "output_type": "execute_result"
    }
   ],
   "source": [
    "np.array(energies_og)[112], np.array(energies_hybrid)[112]"
   ]
  },
  {
   "cell_type": "code",
   "execution_count": 30,
   "id": "5e5a500c",
   "metadata": {},
   "outputs": [
    {
     "data": {
      "text/plain": [
       "(1376561.5401569547, 1376562.2473168885)"
      ]
     },
     "execution_count": 30,
     "metadata": {},
     "output_type": "execute_result"
    }
   ],
   "source": [
    "np.array(energies_og)[51], np.array(energies_hybrid)[51]"
   ]
  },
  {
   "cell_type": "code",
   "execution_count": 18,
   "id": "33c74528",
   "metadata": {},
   "outputs": [
    {
     "name": "stdout",
     "output_type": "stream",
     "text": [
      "[-0.01346908 -0.01067229 -0.01012315 -0.01221986 -0.00812304 -0.01459526\n",
      "  0.01919606 -0.01974559 -0.03170726 -0.01377402 -0.01205406 -0.01659078\n",
      " -0.02664336 -0.01950886 -0.03504796 -0.01287016 -0.01482397 -0.01139997\n",
      " -0.05752246 -0.02414044 -0.02344317 -0.01241196 -0.13138499 -0.02416543\n",
      " -0.02663405 -0.03321857 -0.09940147 -0.02394162 -0.01827952 -0.01390322\n",
      " -0.01808958 -0.02705217 -0.01365297 -0.02384317 -0.02002375 -0.02534276\n",
      " -0.00549805 -0.0137345  -0.01805166 -0.10861181 -0.0662268  -0.05789296\n",
      " -0.05039494 -0.01586104 -0.03626614 -0.01795644 -0.01645997  0.10541786\n",
      " -0.09289358 -0.02308618 -0.17948118 -0.70715993 -0.01611057 -0.02530045\n",
      " -0.03263536 -0.05590057 -0.10972033 -0.21062642 -0.02024341  0.05777151\n",
      "  0.20990809 -0.08555084 -0.02138034 -0.09679643 -0.0376456  -0.01579891\n",
      " -0.05797013 -0.01890206  0.01205472 -0.12387628 -0.02031007 -0.02964002\n",
      " -0.07108696 -0.02557722 -0.02469062 -0.05634577 -0.00856514 -0.19180412\n",
      " -0.03634591 -0.02043421 -0.06927997 -0.04028461 -0.02917847 -0.11332426\n",
      " -0.04424083 -0.0099473  -0.06623583 -0.00876539 -0.01647303 -0.01234956\n",
      " -0.01570426 -0.06854859 -0.02090272 -0.03333655 -0.19318428 -0.04701033\n",
      " -0.03115728 -0.01633924 -0.01462926 -0.03553171 -0.02091685 -0.0465133\n",
      " -0.05004397 -0.09195732 -0.01953527 -0.03550022 -0.02141815 -0.07030112\n",
      " -0.08656198 -0.07531215 -0.01641906 -0.0174355  -2.37242304 -0.08288695\n",
      " -0.05797693 -0.01654119 -0.18281736 -0.01206903 -0.02288775 -0.10624404\n",
      " -0.01687668 -0.02271114 -0.01690608 -0.01405725 -0.01199366 -0.00772647\n",
      " -0.01240545 -0.02142025 -0.01171472 -0.02316675 -0.01738318 -0.02572828\n",
      " -0.02784899 -0.05799431 -0.0105676  -0.01224071 -0.01427426 -0.00992738\n",
      " -0.01092122 -0.02700864 -0.01787593 -0.01199412 -0.03671382 -0.01680539\n",
      " -0.0175026  -0.01329925 -0.01764908 -0.01269389 -0.01120536 -0.01696423\n",
      " -0.01173606 -0.0520525  -0.30073953 -0.02862863 -0.03416384 -0.01175688\n",
      " -0.03293896 -0.02261945 -0.14056521 -0.012244   -0.01013995 -0.01527977\n",
      " -0.01297383 -0.01603959 -0.01984209 -0.04023909 -0.02865171 -0.01697016\n",
      " -0.04919614 -0.01788085 -0.06437128 -0.01770739 -0.08116555 -0.02748208\n",
      " -0.04349164 -0.02498604 -0.01548206 -0.01022289 -0.01107669 -0.01240698\n",
      " -0.01100823 -0.0312587  -0.02608301 -0.01344157 -0.00893514 -0.01193003\n",
      " -0.01057925 -0.01561838 -0.01401949 -0.01544219 -0.01526153 -0.0154687\n",
      " -0.01118014 -0.01482313 -0.0103887  -0.02483602 -0.0574741  -0.01848691\n",
      " -0.01131828 -0.00992269 -0.04060813 -0.01188503 -0.00323907 -0.04596953\n",
      " -0.00637791 -0.0136284  -0.01474722 -0.01240044 -0.00994954 -0.00922591\n",
      " -0.00810914 -0.00680101 -0.00902728 -0.01408948 -0.00975813 -0.01468407\n",
      " -0.01069635 -0.01050445 -0.01421987 -0.0277186  -0.03451163 -0.02498444\n",
      " -0.01316304 -0.01551688 -0.01398966 -0.01301467 -0.01190657 -0.01198531\n",
      " -0.01373659 -0.01580957 -0.01219634 -0.13418705 -0.01282612 -0.01320456\n",
      " -0.06931579 -0.03263649 -0.00903796 -0.03401978 -0.03189938 -0.04358726\n",
      " -0.0100656  -0.03167055 -0.01116465 -0.02663457 -0.02745516 -0.0230768\n",
      " -0.0315922  -0.03492446 -0.14413802 -0.03137311 -0.08184428 -0.02650823\n",
      " -0.01700313 -0.0196832  -0.02037877 -0.01812857 -0.00821726 -0.0310557\n",
      " -0.02308916 -0.040782   -0.01349026 -0.02236545 -0.01155302 -0.01079983\n",
      " -0.01755064 -0.01747817 -0.01832577 -0.03293812 -0.05062506 -0.01660392]\n"
     ]
    }
   ],
   "source": [
    "print(np.array(energies_og) - np.array(energies_hybrid))\n"
   ]
  },
  {
   "cell_type": "code",
   "execution_count": 27,
   "id": "8a9037f6",
   "metadata": {
    "scrolled": true
   },
   "outputs": [
    {
     "data": {
      "text/plain": [
       "0.005789720133556094"
      ]
     },
     "execution_count": 27,
     "metadata": {},
     "output_type": "execute_result"
    }
   ],
   "source": [
    "np.std(np.array(energies_og) - np.array(energies_hybrid))"
   ]
  },
  {
   "cell_type": "code",
   "execution_count": 28,
   "id": "59104ae9",
   "metadata": {},
   "outputs": [],
   "source": [
    "with open(\"energies_bnbs_hybrid_lambda_1.pickle\", \"wb\") as f:\n",
    "    pickle.dump(energies_hybrid, f)\n",
    "with open(\"energies_bnbs_og_lambda_1.pickle\", \"wb\") as f:\n",
    "    pickle.dump(energies_og, f)"
   ]
  },
  {
   "cell_type": "code",
   "execution_count": null,
   "id": "2c00f474",
   "metadata": {},
   "outputs": [],
   "source": []
  }
 ],
 "metadata": {
  "kernelspec": {
   "display_name": "Python 3 (ipykernel)",
   "language": "python",
   "name": "python3"
  },
  "language_info": {
   "codemirror_mode": {
    "name": "ipython",
    "version": 3
   },
   "file_extension": ".py",
   "mimetype": "text/x-python",
   "name": "python",
   "nbconvert_exporter": "python",
   "pygments_lexer": "ipython3",
   "version": "3.8.11"
  }
 },
 "nbformat": 4,
 "nbformat_minor": 5
}
