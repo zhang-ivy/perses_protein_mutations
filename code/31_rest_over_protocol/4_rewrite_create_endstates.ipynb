{
 "cells": [
  {
   "cell_type": "code",
   "execution_count": 7,
   "id": "b631821d",
   "metadata": {
    "scrolled": true
   },
   "outputs": [],
   "source": [
    "import pickle\n",
    "\n",
    "import openmm\n",
    "from openmm import unit\n",
    "\n",
    "from openmmtools.states import ThermodynamicState, CompoundThermodynamicState\n",
    "from openmmtools.constants import kB\n",
    "\n",
    "from perses.annihilation.lambda_protocol import RESTCapableRelativeAlchemicalState"
   ]
  },
  {
   "cell_type": "code",
   "execution_count": 3,
   "id": "91684777",
   "metadata": {},
   "outputs": [
    {
     "data": {
      "text/plain": [
       "array([0.        , 0.09090909, 0.18181818, 0.27272727, 0.36363636,\n",
       "       0.45454545, 0.54545455, 0.63636364, 0.72727273, 0.81818182,\n",
       "       0.90909091, 1.        ])"
      ]
     },
     "execution_count": 3,
     "metadata": {},
     "output_type": "execute_result"
    }
   ],
   "source": [
    "import numpy as np\n",
    "n_states = 12\n",
    "np.linspace(0.,1.,n_states)"
   ]
  },
  {
   "cell_type": "markdown",
   "id": "d2a64a40",
   "metadata": {},
   "source": [
    "## Test on ala dipeptide"
   ]
  },
  {
   "cell_type": "code",
   "execution_count": 13,
   "id": "1bf2aa15",
   "metadata": {},
   "outputs": [],
   "source": [
    "# htf = solvent_delivery.get_apo_htf()\n",
    "with open(\"atp_solvent_scale_region.pickle\", \"rb\") as f:\n",
    "    htf = pickle.load(f)\n",
    "hybrid_system = htf.hybrid_system\n",
    "hybrid_positions = htf.hybrid_positions\n",
    "box_vectors = hybrid_system.getDefaultPeriodicBoxVectors()\n"
   ]
  },
  {
   "cell_type": "code",
   "execution_count": 14,
   "id": "67f28874",
   "metadata": {},
   "outputs": [],
   "source": [
    "T_min = 300 * unit.kelvin\n",
    "T_max = 600 * unit.kelvin\n",
    "\n",
    "# Create thermodynamic state\n",
    "lambda_zero_alchemical_state = RESTCapableRelativeAlchemicalState.from_system(hybrid_system)\n",
    "thermostate = ThermodynamicState(hybrid_system, temperature=T_min)\n",
    "compound_thermodynamic_state_0 = CompoundThermodynamicState(thermostate,\n",
    "                                                          composable_states=[lambda_zero_alchemical_state])\n",
    "compound_thermodynamic_state_1 = CompoundThermodynamicState(thermostate,\n",
    "                                                          composable_states=[lambda_zero_alchemical_state])\n",
    "\n",
    "# Set alchemical parameters\n",
    "beta_0 = 1 / (kB * T_min)\n",
    "beta_m = 1 / (kB * T_max)\n",
    "global_lambda = 0\n",
    "compound_thermodynamic_state_0.set_alchemical_parameters(global_lambda, beta_0, beta_m)\n",
    "global_lambda = 1\n",
    "compound_thermodynamic_state_1.set_alchemical_parameters(global_lambda, beta_0, beta_m)\n"
   ]
  },
  {
   "cell_type": "code",
   "execution_count": 21,
   "id": "762338c0",
   "metadata": {},
   "outputs": [
    {
     "data": {
      "text/plain": [
       "{'CustomBondForce': <openmm.openmm.CustomBondForce; proxy of <Swig Object of type 'OpenMM::CustomBondForce *' at 0x2b79c5bb7ba0> >,\n",
       " 'CustomAngleForce': <openmm.openmm.CustomAngleForce; proxy of <Swig Object of type 'OpenMM::CustomAngleForce *' at 0x2b79c60a2f00> >,\n",
       " 'CustomTorsionForce': <openmm.openmm.CustomTorsionForce; proxy of <Swig Object of type 'OpenMM::CustomTorsionForce *' at 0x2b79c60a2e70> >,\n",
       " 'CustomNonbondedForce_electrostatics': <openmm.openmm.CustomNonbondedForce; proxy of <Swig Object of type 'OpenMM::CustomNonbondedForce *' at 0x2b79c7635fc0> >,\n",
       " 'CustomNonbondedForce_sterics': <openmm.openmm.CustomNonbondedForce; proxy of <Swig Object of type 'OpenMM::CustomNonbondedForce *' at 0x2b79c7635d20> >,\n",
       " 'CustomBondForce_exceptions': <openmm.openmm.CustomBondForce; proxy of <Swig Object of type 'OpenMM::CustomBondForce *' at 0x2b79c7635de0> >,\n",
       " 'NonbondedForce': <openmm.openmm.NonbondedForce; proxy of <Swig Object of type 'OpenMM::NonbondedForce *' at 0x2b79c7635e70> >,\n",
       " 'AndersenThermostat': <openmm.openmm.AndersenThermostat; proxy of <Swig Object of type 'OpenMM::AndersenThermostat *' at 0x2b79c7635f00> >,\n",
       " 'MonteCarloBarostat': <openmm.openmm.MonteCarloBarostat; proxy of <Swig Object of type 'OpenMM::MonteCarloBarostat *' at 0x2b79c7635f90> >}"
      ]
     },
     "execution_count": 21,
     "metadata": {},
     "output_type": "execute_result"
    }
   ],
   "source": [
    "forces"
   ]
  },
  {
   "cell_type": "code",
   "execution_count": 39,
   "id": "ccfeb14e",
   "metadata": {},
   "outputs": [],
   "source": [
    "unsampled_endstates = []\n",
    "for master_lambda, endstate in zip([0., 1.], [compound_thermodynamic_state_0, compound_thermodynamic_state_1]):\n",
    "    dispersion_system = endstate.get_system()\n",
    "    energy_unit = unit.kilocalories_per_mole\n",
    "    # Find the NonbondedForce (there must be only one)\n",
    "    forces = { force.getName() : force for force in dispersion_system.getForces() }\n",
    "    # Set NonbondedForce to use LJPME\n",
    "    forces['NonbondedForce'].setNonbondedMethod(openmm.NonbondedForce.LJPME)\n",
    "    # Set tight PME tolerance\n",
    "    TIGHT_PME_TOLERANCE = 1.0e-5\n",
    "    forces['NonbondedForce'].setEwaldErrorTolerance(TIGHT_PME_TOLERANCE)\n",
    "    # Move alchemical LJ sites from CustomNonbondedForce back to NonbondedForce\n",
    "    for particle_index in range(forces['NonbondedForce'].getNumParticles()):\n",
    "        charge, sigma, epsilon = forces['NonbondedForce'].getParticleParameters(particle_index)\n",
    "#         params_electrostatics = forces['CustomNonbondedForce_electrostatics'].getParticleParameters(particle_index)\n",
    "#         charge_old, charge_new = params_electrostatics[-2:]\n",
    "        params_sterics = forces['CustomNonbondedForce_sterics'].getParticleParameters(particle_index)\n",
    "        sigma_old, sigma_new, epsilon_old, epsilon_new = params_sterics[-4:]\n",
    "#         charge_final = (1 - master_lambda)* charge_old + master_lambda * charge_new\n",
    "        sigma_final = (1 - master_lambda)* sigma_old + master_lambda * sigma_new\n",
    "        epsilon_final = (1 - master_lambda)* epsilon_old + master_lambda * epsilon_new\n",
    "#         print(particle_index, charge.value_in_unit_system(unit.md_unit_system), charge_old, charge_new, charge_other)\n",
    "#         assert charge.value_in_unit_system(unit.md_unit_system) == charge_other\n",
    "        \n",
    "#         if (epsilon/energy_unit == 0.0) and ((epsilonA > 0.0) or (epsilonB > 0.0)):\n",
    "#             sigma = (1-master_lambda)*sigmaA + master_lambda*sigmaB\n",
    "#             epsilon = (1-master_lambda)*epsilonA + master_lambda*epsilonB\n",
    "        forces['NonbondedForce'].setParticleParameters(particle_index, charge, sigma_final, epsilon_final)\n",
    "    # Delete the CustomNonbondedForce since we have moved all alchemical particles out of it\n",
    "    for force_index, force in enumerate(list(dispersion_system.getForces())):\n",
    "#         if force.getName() == 'CustomNonbondedForce_electrostatics':\n",
    "#             electrostatics_force_index = force_index\n",
    "        if force.getName() == 'CustomNonbondedForce_sterics':\n",
    "            sterics_force_index = force_index\n",
    "    dispersion_system.removeForce(electrostatics_force_index)\n",
    "    dispersion_system.removeForce(sterics_force_index)\n",
    "    # Set all parameters to master lambda\n",
    "    for force_index, force in enumerate(list(dispersion_system.getForces())):\n",
    "        if hasattr(force, 'getNumGlobalParameters'):\n",
    "            for parameter_index in range(force.getNumGlobalParameters()):\n",
    "                parameter_name = force.getGlobalParameterName(parameter_index)\n",
    "                if parameter_name[0:17] == 'lambda_alchemical':\n",
    "                    if 'old' in parameter_name:\n",
    "                        force.setGlobalParameterDefaultValue(parameter_index, 1 - master_lambda)\n",
    "                    elif 'new' in parameter_name:\n",
    "                        force.setGlobalParameterDefaultValue(parameter_index, master_lambda)\n",
    "                        \n",
    "    # Store the unsampled endstate\n",
    "    unsampled_endstates.append(ThermodynamicState(dispersion_system, temperature = endstate.temperature))"
   ]
  },
  {
   "cell_type": "markdown",
   "id": "f68914cc",
   "metadata": {},
   "source": [
    "### For each endstate, check that the steric energy in the CompoundThermodynamicState matches that in the ThermodynamicState"
   ]
  },
  {
   "cell_type": "code",
   "execution_count": 41,
   "id": "420f350c",
   "metadata": {},
   "outputs": [
    {
     "data": {
      "text/plain": [
       "<bound method ThermodynamicState.reduced_potential of <openmmtools.states.CompoundThermodynamicState object at 0x2b79c5bbab20>>"
      ]
     },
     "execution_count": 41,
     "metadata": {},
     "output_type": "execute_result"
    }
   ],
   "source": [
    "# Create context\n",
    "\n",
    "# Retrieve energy components"
   ]
  },
  {
   "cell_type": "code",
   "execution_count": null,
   "id": "1954289f",
   "metadata": {},
   "outputs": [],
   "source": []
  },
  {
   "cell_type": "markdown",
   "id": "4d52273b",
   "metadata": {},
   "source": [
    "## Test on bnbs"
   ]
  },
  {
   "cell_type": "code",
   "execution_count": null,
   "id": "53b7567e",
   "metadata": {},
   "outputs": [],
   "source": []
  }
 ],
 "metadata": {
  "kernelspec": {
   "display_name": "Python 3 (ipykernel)",
   "language": "python",
   "name": "python3"
  },
  "language_info": {
   "codemirror_mode": {
    "name": "ipython",
    "version": 3
   },
   "file_extension": ".py",
   "mimetype": "text/x-python",
   "name": "python",
   "nbconvert_exporter": "python",
   "pygments_lexer": "ipython3",
   "version": "3.8.11"
  }
 },
 "nbformat": 4,
 "nbformat_minor": 5
}
