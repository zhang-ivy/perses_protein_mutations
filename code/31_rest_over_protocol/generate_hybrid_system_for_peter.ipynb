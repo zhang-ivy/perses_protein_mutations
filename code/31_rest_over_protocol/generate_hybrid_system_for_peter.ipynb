{
 "cells": [
  {
   "cell_type": "code",
   "execution_count": 21,
   "id": "d2cada7c",
   "metadata": {},
   "outputs": [],
   "source": [
    "from perses.app.relative_point_mutation_setup import PointMutationExecutor\n",
    "import pickle\n",
    "import os\n",
    "from simtk.openmm import XmlSerializer\n",
    "from perses.utils.smallmolecules import  render_protein_residue_atom_mapping\n"
   ]
  },
  {
   "cell_type": "code",
   "execution_count": 15,
   "id": "cafacc00",
   "metadata": {},
   "outputs": [],
   "source": [
    "from perses.utils.openeye import createOEMolFromSDF, extractPositionsFromOEMol\n",
    "from perses.annihilation.relative import HybridTopologyFactory, RepartitionedHybridTopologyFactory\n",
    "from perses.rjmc.topology_proposal import PointMutationEngine\n",
    "from perses.rjmc.geometry import FFAllAngleGeometryEngine\n",
    "\n",
    "import simtk.openmm as openmm\n",
    "import simtk.openmm.app as app\n",
    "import simtk.unit as unit\n",
    "import numpy as np\n",
    "from openmoltools import forcefield_generators\n",
    "import mdtraj as md\n",
    "from openmmtools.constants import kB\n",
    "from perses.tests.utils import validate_endstate_energies\n",
    "from openff.toolkit.topology import Molecule\n",
    "from openmmforcefields.generators import SystemGenerator\n",
    "\n",
    "ENERGY_THRESHOLD = 1e-2\n",
    "temperature = 300 * unit.kelvin\n",
    "kT = kB * temperature\n",
    "beta = 1.0/kT\n",
    "ring_amino_acids = ['TYR', 'PHE', 'TRP', 'PRO', 'HIS']\n",
    "\n",
    "# Set up logger\n",
    "import logging\n",
    "_logger = logging.getLogger(\"setup\")\n",
    "_logger.setLevel(logging.INFO)\n",
    "\n",
    "class PointMutationExecutor2(PointMutationExecutor):\n",
    "    def generate_htf(self, factory, topology_proposal, old_positions, new_positions, flatten_exceptions, flatten_torsions, repartitioned_endstate, is_complex):\n",
    "        htf = factory(topology_proposal=topology_proposal,\n",
    "                                      current_positions=old_positions,\n",
    "                                      new_positions=new_positions,\n",
    "                                      use_dispersion_correction=True,\n",
    "                                      functions=None,\n",
    "                                      softcore_alpha=None,\n",
    "                                      bond_softening_constant=1.0,\n",
    "                                      angle_softening_constant=1.0,\n",
    "                                      soften_only_new=False,\n",
    "                                      neglected_new_angle_terms=[],\n",
    "                                      neglected_old_angle_terms=[],\n",
    "                                      softcore_LJ_v2=True,\n",
    "                                      softcore_electrostatics=True,\n",
    "                                      softcore_LJ_v2_alpha=0.85,\n",
    "                                      softcore_electrostatics_alpha=0.3,\n",
    "                                      softcore_sigma_Q=1.0,\n",
    "                                      interpolate_old_and_new_14s=flatten_exceptions,\n",
    "                                      omitted_terms=None,\n",
    "                                      endstate=repartitioned_endstate,\n",
    "                                      flatten_torsions=flatten_torsions)\n",
    "        if is_complex:\n",
    "            if factory == HybridTopologyFactory:\n",
    "                self.complex_htf = htf\n",
    "            elif factory == RepartitionedHybridTopologyFactory:\n",
    "                if repartitioned_endstate == 0:\n",
    "                    self.complex_rhtf_0 = htf\n",
    "                elif repartitioned_endstate == 1:\n",
    "                    self.complex_rhtf_1 = htf\n",
    "        else:\n",
    "            if factory == HybridTopologyFactory:\n",
    "                self.apo_htf = htf\n",
    "            elif factory == RepartitionedHybridTopologyFactory:\n",
    "                if repartitioned_endstate == 0:\n",
    "                    self.apo_rhtf_0 = htf\n",
    "                elif repartitioned_endstate == 1:\n",
    "                    self.apo_rhtf_1 = htf\n",
    "                    \n",
    "                    \n",
    "    def _solvate(self,\n",
    "               topology,\n",
    "               positions,\n",
    "               water_model,\n",
    "               phase,\n",
    "               ionic_strength,\n",
    "               box_dimensions=None):\n",
    "        \"\"\"\n",
    "        Generate a solvated topology, positions, and system for a given input topology and positions.\n",
    "        For generating the system, the forcefield files provided in the constructor will be used.\n",
    "        Parameters\n",
    "        ----------\n",
    "        topology : app.Topology\n",
    "            Topology of the system to solvate\n",
    "        positions : [n, 3] ndarray of Quantity nm\n",
    "            the positions of the unsolvated system\n",
    "        forcefield : SystemGenerator.forcefield\n",
    "            forcefield file of solvent to add\n",
    "        water_model : str\n",
    "            solvent model to use for solvation\n",
    "        phase : str\n",
    "            if phase == vacuum, then the complex will not be solvated with water; else, it will be solvated with tip3p\n",
    "        ionic_strength : float * unit.molar\n",
    "            the total concentration of ions (both positive and negative) to add using Modeller.\n",
    "            This does not include ions that are added to neutralize the system.\n",
    "            Note that only monovalent ions are currently supported.\n",
    "        Returns\n",
    "        -------\n",
    "        solvated_topology : app.Topology\n",
    "            Topology of the system with added waters\n",
    "        solvated_positions : [n + 3(n_waters), 3] ndarray of Quantity nm\n",
    "            Solvated positions\n",
    "        solvated_system : openmm.System\n",
    "            The parameterized system, containing a barostat if one was specified.\n",
    "        \"\"\"\n",
    "        modeller = app.Modeller(topology, positions)\n",
    "    \n",
    "        geompadding = 0.9 * unit.nanometers\n",
    "        maxSize = max(max((pos[i] for pos in positions))-min((pos[i] for pos in positions)) for i in range(3))\n",
    "        vectors = openmm.Vec3(1,0,0), openmm.Vec3(1/3,2*np.sqrt(2)/3,0), openmm.Vec3(-1/3,np.sqrt(2)/3,np.sqrt(6)/3)\n",
    "        boxVectors = [(maxSize+geompadding)*v for v in vectors]\n",
    "        \n",
    "        # Now we have to add missing atoms\n",
    "        if phase != 'vacuum':\n",
    "            _logger.info(f\"solvating at {ionic_strength} using {water_model}\")\n",
    "            modeller.addSolvent(self.system_generator.forcefield, model=water_model, boxVectors=boxVectors, ionicStrength=ionic_strength)\n",
    "#             if not box_dimensions:\n",
    "#                 modeller.addSolvent(self.system_generator.forcefield, model=water_model, padding=0.9 * unit.nanometers, ionicStrength=ionic_strength)\n",
    "#             else:\n",
    "#                 modeller.addSolvent(self.system_generator.forcefield, model=water_model, boxSize=box_dimensions, ionicStrength=ionic_strength)\n",
    "        else:\n",
    "            pass\n",
    "\n",
    "        solvated_topology = modeller.getTopology()\n",
    "#         if box_dimensions:\n",
    "#             solvated_topology.setUnitCellDimensions(box_dimensions)\n",
    "#         solvated_topology.setPeriodicBoxVectors(boxVectors)\n",
    "        solvated_positions = modeller.getPositions()\n",
    "\n",
    "        # Canonicalize the solvated positions: turn tuples into np.array\n",
    "        solvated_positions = unit.quantity.Quantity(value=np.array([list(atom_pos) for atom_pos in solvated_positions.value_in_unit_system(unit.md_unit_system)]), unit=unit.nanometers)\n",
    "        solvated_system = self.system_generator.create_system(solvated_topology)\n",
    "\n",
    "        return solvated_topology, solvated_positions, solvated_system"
   ]
  },
  {
   "cell_type": "code",
   "execution_count": 13,
   "id": "b895bd6f",
   "metadata": {},
   "outputs": [
    {
     "name": "stdout",
     "output_type": "stream",
     "text": [
      "softcore_alpha\n",
      "lambda_sterics_core\n",
      "lambda_electrostatics_core\n",
      "lambda_sterics_insert\n",
      "lambda_sterics_delete\n"
     ]
    }
   ],
   "source": [
    "for i in range(htf.hybrid_system.getForce(8).getNumGlobalParameters()):\n",
    "    print(htf.hybrid_system.getForce(8).getGlobalParameterName(i))"
   ]
  },
  {
   "cell_type": "code",
   "execution_count": null,
   "id": "145b0a4e",
   "metadata": {},
   "outputs": [],
   "source": []
  },
  {
   "cell_type": "code",
   "execution_count": 17,
   "id": "05e5fa74",
   "metadata": {},
   "outputs": [
    {
     "name": "stderr",
     "output_type": "stream",
     "text": [
      "DEBUG:openmmforcefields.system_generators:Trying GAFFTemplateGenerator to load gaff-2.11\n",
      "INFO:setup:solvating at 0.15 M using tip3p\n",
      "INFO:setup:solvating at 0.15 M using tip3p\n",
      "INFO:proposal_generator:\tConducting polymer point mutation proposal...\n",
      "WARNING:atom_mapping:Molecules do not appear to share a common scaffold.\n",
      "WARNING:atom_mapping:Proceeding with direct mapping of molecules, but please check atom mapping and the geometry of the ligands.\n",
      "INFO:proposal_generator:[Atom(name=CB, atomic number=6), Atom(name=CG, atomic number=6), Atom(name=ND2, atomic number=7), Atom(name=OD1, atomic number=8), Atom(name=HB2, atomic number=1), Atom(name=HB3, atomic number=1), Atom(name=HD21, atomic number=1), Atom(name=HD22, atomic number=1)]\n",
      "INFO:proposal_generator:[Atom(name=CB, atomic number=6), Atom(name=HB1, atomic number=1), Atom(name=HB2, atomic number=1), Atom(name=HB3, atomic number=1)]\n",
      "INFO:geometry:propose: performing forward proposal\n",
      "INFO:geometry:propose: unique new atoms detected; proceeding to _logp_propose...\n",
      "INFO:geometry:Conducting forward proposal...\n",
      "INFO:geometry:Computing proposal order with NetworkX...\n",
      "INFO:geometry:number of atoms to be placed: 1\n",
      "INFO:geometry:Atom index proposal order is [2614]\n",
      "INFO:geometry:omitted_bonds: []\n",
      "INFO:geometry:direction of proposal is forward; creating atoms_with_positions and new positions from old system/topology...\n",
      "INFO:geometry:creating growth system...\n",
      "INFO:geometry:\tcreating bond force...\n",
      "INFO:geometry:\tthere are 1716 bonds in reference force.\n",
      "INFO:geometry:\tcreating angle force...\n",
      "INFO:geometry:\tthere are 5906 angles in reference force.\n",
      "INFO:geometry:\tcreating torsion force...\n",
      "INFO:geometry:\tcreating extra torsions force...\n",
      "INFO:geometry:\tthere are 11180 torsions in reference force.\n",
      "INFO:geometry:\tcreating nonbonded force...\n",
      "INFO:geometry:\t\tgrabbing reference nonbonded method, cutoff, switching function, switching distance...\n",
      "INFO:geometry:\t\tcreating nonbonded exception force (i.e. custom bond for 1,4s)...\n",
      "INFO:geometry:\t\tlooping through exceptions calculating growth indices, and adding appropriate interactions to custom bond force.\n",
      "INFO:geometry:\t\tthere are 63531 in the reference Nonbonded force\n",
      "INFO:geometry:Neglected angle terms : []\n",
      "INFO:geometry:omitted_growth_terms: {'bonds': [], 'angles': [], 'torsions': [], '1,4s': []}\n",
      "INFO:geometry:extra torsions: {0: (2605, 2607, 2611, 2614, [1, Quantity(value=2.105358864604291, unit=radian), Quantity(value=1200.0, unit=kilocalorie/mole), 1]), 1: (2609, 2607, 2611, 2614, [1, Quantity(value=-0.036945135932107576, unit=radian), Quantity(value=1200.0, unit=kilocalorie/mole), 1]), 2: (2608, 2607, 2611, 2614, [1, Quantity(value=-2.119603470065817, unit=radian), Quantity(value=1200.0, unit=kilocalorie/mole), 1])}\n",
      "INFO:geometry:neglected angle terms include []\n",
      "INFO:geometry:log probability choice of torsions and atom order: -1.0986122886681098\n",
      "INFO:geometry:creating platform, integrators, and contexts; setting growth parameter\n"
     ]
    },
    {
     "name": "stdout",
     "output_type": "stream",
     "text": [
      "conducting subsequent work with the following platform: CUDA\n",
      "conducting subsequent work with the following platform: CUDA\n"
     ]
    },
    {
     "name": "stderr",
     "output_type": "stream",
     "text": [
      "INFO:geometry:setting atoms_with_positions context new positions\n"
     ]
    },
    {
     "name": "stdout",
     "output_type": "stream",
     "text": [
      "conducting subsequent work with the following platform: CUDA\n"
     ]
    },
    {
     "name": "stderr",
     "output_type": "stream",
     "text": [
      "INFO:geometry:There are 1 new atoms\n",
      "INFO:geometry:\treduced angle potential = 0.006694119787455299.\n",
      "INFO:geometry:\tbeginning construction of no_nonbonded final system...\n",
      "INFO:geometry:\tinitial no-nonbonded final system forces ['HarmonicBondForce', 'HarmonicAngleForce', 'PeriodicTorsionForce', 'NonbondedForce', 'MonteCarloBarostat']\n",
      "INFO:geometry:\tfinal no-nonbonded final system forces dict_keys(['HarmonicBondForce', 'HarmonicAngleForce', 'PeriodicTorsionForce', 'NonbondedForce'])\n",
      "INFO:geometry:\tthere are 1716 bond forces in the no-nonbonded final system\n",
      "INFO:geometry:\tthere are 5906 angle forces in the no-nonbonded final system\n",
      "INFO:geometry:\tthere are 11180 torsion forces in the no-nonbonded final system\n",
      "INFO:geometry:forward final system defined with 0 neglected angles.\n"
     ]
    },
    {
     "name": "stdout",
     "output_type": "stream",
     "text": [
      "conducting subsequent work with the following platform: CUDA\n",
      "conducting subsequent work with the following platform: CUDA\n"
     ]
    },
    {
     "name": "stderr",
     "output_type": "stream",
     "text": [
      "INFO:geometry:total reduced potential before atom placement: 4814.274573427949\n"
     ]
    },
    {
     "name": "stdout",
     "output_type": "stream",
     "text": [
      "conducting subsequent work with the following platform: CUDA\n",
      "conducting subsequent work with the following platform: CUDA\n",
      "conducting subsequent work with the following platform: CUDA\n"
     ]
    },
    {
     "name": "stderr",
     "output_type": "stream",
     "text": [
      "INFO:geometry:total reduced energy added from growth system: 2.210564634966297\n",
      "INFO:geometry:final reduced energy 4816.485137944211\n",
      "INFO:geometry:sum of energies: 4816.485138062915\n",
      "INFO:geometry:magnitude of difference in the energies: 1.187043858763559e-07\n",
      "INFO:geometry:Final logp_proposal: 8.456804440578315\n"
     ]
    },
    {
     "name": "stdout",
     "output_type": "stream",
     "text": [
      "added energy components: [('CustomBondForce', 0.0), ('CustomAngleForce', 0.6115494226973863), ('CustomTorsionForce', 0.004504114564729046), ('CustomBondForce', 1.5945110977041816)]\n"
     ]
    },
    {
     "name": "stderr",
     "output_type": "stream",
     "text": [
      "INFO:geometry:logp_reverse: performing reverse proposal\n",
      "INFO:geometry:logp_reverse: unique new atoms detected; proceeding to _logp_propose...\n",
      "INFO:geometry:Conducting forward proposal...\n",
      "INFO:geometry:Computing proposal order with NetworkX...\n",
      "INFO:geometry:number of atoms to be placed: 5\n",
      "INFO:geometry:Atom index proposal order is [2614, 2615, 2618, 2616, 2617]\n",
      "INFO:geometry:omitted_bonds: []\n",
      "INFO:geometry:direction of proposal is reverse; creating atoms_with_positions from old system/topology\n",
      "INFO:geometry:creating growth system...\n",
      "INFO:geometry:\tcreating bond force...\n",
      "INFO:geometry:\tthere are 1719 bonds in reference force.\n",
      "INFO:geometry:\tcreating angle force...\n",
      "INFO:geometry:\tthere are 5912 angles in reference force.\n",
      "INFO:geometry:\tcreating torsion force...\n",
      "INFO:geometry:\tcreating extra torsions force...\n",
      "INFO:geometry:\tthere are 11202 torsions in reference force.\n",
      "INFO:geometry:\tcreating nonbonded force...\n",
      "INFO:geometry:\t\tgrabbing reference nonbonded method, cutoff, switching function, switching distance...\n",
      "INFO:geometry:\t\tcreating nonbonded exception force (i.e. custom bond for 1,4s)...\n",
      "INFO:geometry:\t\tlooping through exceptions calculating growth indices, and adding appropriate interactions to custom bond force.\n",
      "INFO:geometry:\t\tthere are 63551 in the reference Nonbonded force\n",
      "INFO:geometry:Neglected angle terms : []\n",
      "INFO:geometry:omitted_growth_terms: {'bonds': [], 'angles': [], 'torsions': [], '1,4s': []}\n",
      "INFO:geometry:extra torsions: {0: (2617, 2615, 2614, 2611, [1, Quantity(value=-3.0613628096248338, unit=radian), Quantity(value=1200.0, unit=kilocalorie/mole), 5]), 1: (2617, 2615, 2614, 2618, [1, Quantity(value=0.1006962644006828, unit=radian), Quantity(value=1200.0, unit=kilocalorie/mole), 5]), 2: (2616, 2615, 2614, 2611, [1, Quantity(value=-0.163557181151619, unit=radian), Quantity(value=1200.0, unit=kilocalorie/mole), 4]), 3: (2616, 2615, 2614, 2618, [1, Quantity(value=2.998501892873897, unit=radian), Quantity(value=1200.0, unit=kilocalorie/mole), 4])}\n",
      "INFO:geometry:neglected angle terms include []\n",
      "INFO:geometry:log probability choice of torsions and atom order: -6.068425588244111\n",
      "INFO:geometry:creating platform, integrators, and contexts; setting growth parameter\n"
     ]
    },
    {
     "name": "stdout",
     "output_type": "stream",
     "text": [
      "conducting subsequent work with the following platform: CUDA\n"
     ]
    },
    {
     "name": "stderr",
     "output_type": "stream",
     "text": [
      "INFO:geometry:setting atoms_with_positions context old positions\n"
     ]
    },
    {
     "name": "stdout",
     "output_type": "stream",
     "text": [
      "conducting subsequent work with the following platform: CUDA\n"
     ]
    },
    {
     "name": "stderr",
     "output_type": "stream",
     "text": [
      "INFO:geometry:There are 5 new atoms\n",
      "INFO:geometry:\treduced angle potential = 0.556024589180152.\n",
      "INFO:geometry:\treduced angle potential = 0.16493779391879834.\n",
      "INFO:geometry:\treduced angle potential = 0.07895606380492576.\n",
      "INFO:geometry:\treduced angle potential = 0.38088600786860893.\n",
      "INFO:geometry:\treduced angle potential = 0.0005705976143499401.\n",
      "INFO:geometry:\tbeginning construction of no_nonbonded final system...\n",
      "INFO:geometry:\tinitial no-nonbonded final system forces ['HarmonicBondForce', 'HarmonicAngleForce', 'PeriodicTorsionForce', 'NonbondedForce', 'MonteCarloBarostat']\n",
      "INFO:geometry:\tfinal no-nonbonded final system forces dict_keys(['HarmonicBondForce', 'HarmonicAngleForce', 'PeriodicTorsionForce', 'NonbondedForce'])\n",
      "INFO:geometry:\tthere are 1719 bond forces in the no-nonbonded final system\n",
      "INFO:geometry:\tthere are 5912 angle forces in the no-nonbonded final system\n",
      "INFO:geometry:\tthere are 11202 torsion forces in the no-nonbonded final system\n",
      "INFO:geometry:reverse final system defined with 0 neglected angles.\n"
     ]
    },
    {
     "name": "stdout",
     "output_type": "stream",
     "text": [
      "conducting subsequent work with the following platform: CUDA\n",
      "conducting subsequent work with the following platform: CUDA\n"
     ]
    },
    {
     "name": "stderr",
     "output_type": "stream",
     "text": [
      "INFO:geometry:total reduced potential before atom placement: 4814.274573427948\n"
     ]
    },
    {
     "name": "stdout",
     "output_type": "stream",
     "text": [
      "conducting subsequent work with the following platform: CUDA\n",
      "conducting subsequent work with the following platform: CUDA\n",
      "conducting subsequent work with the following platform: CUDA\n"
     ]
    },
    {
     "name": "stderr",
     "output_type": "stream",
     "text": [
      "INFO:geometry:total reduced energy added from growth system: -119.58794055741666\n",
      "INFO:geometry:final reduced energy 4694.686624307993\n",
      "INFO:geometry:sum of energies: 4694.686632870531\n",
      "INFO:geometry:magnitude of difference in the energies: 8.562538170053813e-06\n",
      "INFO:geometry:Final logp_proposal: 42.81272660339971\n"
     ]
    },
    {
     "name": "stdout",
     "output_type": "stream",
     "text": [
      "added energy components: [('CustomBondForce', 1.391536201473014), ('CustomAngleForce', 1.9490930168024763), ('CustomTorsionForce', 14.458137952558326), ('CustomBondForce', -137.3867077282505)]\n"
     ]
    },
    {
     "name": "stderr",
     "output_type": "stream",
     "text": [
      "INFO:setup:charge diff: 0\n",
      "INFO:relative:*** Generating vanilla HybridTopologyFactory ***\n",
      "INFO:relative:Beginning nonbonded method, total particle, barostat, and exceptions retrieval...\n",
      "INFO:relative:Flattening torsions of unique new/old at lambda = 0/1\n",
      "INFO:relative:Flattening exceptions of unique new/old at lambda = 0/1\n",
      "INFO:relative:Old system forces: dict_keys(['HarmonicBondForce', 'HarmonicAngleForce', 'PeriodicTorsionForce', 'NonbondedForce', 'MonteCarloBarostat'])\n",
      "INFO:relative:New system forces: dict_keys(['HarmonicBondForce', 'HarmonicAngleForce', 'PeriodicTorsionForce', 'NonbondedForce', 'MonteCarloBarostat'])\n",
      "INFO:relative:No unknown forces.\n",
      "INFO:relative:Nonbonded method to be used (i.e. from old system): 4\n",
      "INFO:relative:Adding and mapping old atoms to hybrid system...\n",
      "INFO:relative:Adding and mapping new atoms to hybrid system...\n",
      "INFO:relative:Added MonteCarloBarostat.\n",
      "INFO:relative:getDefaultPeriodicBoxVectors added to hybrid: [Quantity(value=Vec3(x=8.625399999999999, y=0.0, z=0.0), unit=nanometer), Quantity(value=Vec3(x=2.875133333333333, y=8.13210510726193, z=0.0), unit=nanometer), Quantity(value=Vec3(x=-2.875133333333333, y=4.066052553630965, z=7.042609609134006), unit=nanometer)]\n",
      "INFO:relative:Determined atom classes.\n",
      "INFO:relative:Generating old system exceptions dict...\n",
      "INFO:relative:Generating new system exceptions dict...\n",
      "INFO:relative:Handling constraints...\n",
      "INFO:relative:Handling virtual sites...\n",
      "INFO:relative:\t_handle_virtual_sites: numVirtualSites: 0\n",
      "INFO:relative:Adding bond force terms...\n",
      "INFO:relative:Adding angle force terms...\n",
      "INFO:relative:Adding torsion force terms...\n",
      "INFO:relative:Adding nonbonded force terms...\n",
      "INFO:relative:\t_add_nonbonded_force_terms: <openmm.openmm.NonbondedForce; proxy of <Swig Object of type 'OpenMM::NonbondedForce *' at 0x2b016d2c8c90> > added to hybrid system\n",
      "INFO:relative:\t_add_nonbonded_force_terms: nonbonded_method is PME or Ewald\n",
      "INFO:relative:\t_add_nonbonded_force_terms: 4 added to standard nonbonded force\n",
      "INFO:relative:\t_add_nonbonded_force_terms: 2 added to sterics_custom_nonbonded force\n",
      "INFO:relative:\t_add_nonbonded_force_terms: <openmm.openmm.CustomNonbondedForce; proxy of <Swig Object of type 'OpenMM::CustomNonbondedForce *' at 0x2b016d2c8ae0> > added to hybrid system\n",
      "INFO:relative:Handling harmonic bonds...\n",
      "INFO:relative:\thandle_harmonic_bonds: looping through old_system to add relevant terms...\n",
      "INFO:relative:\thandle_harmonic_bonds: looping through new_system to add relevant terms...\n",
      "INFO:relative:Handling harmonic angles...\n",
      "INFO:relative:\thandle_harmonic_angles: looping through old_system to add relevant terms...\n",
      "INFO:relative:\thandle_harmonic_angles: looping through new_system to add relevant terms...\n",
      "INFO:relative:Handling torsion forces...\n",
      "INFO:relative:\thandle_periodic_torsion_forces: looping through old_system to add relevant terms...\n",
      "INFO:relative:\thandle_periodic_torsion_forces: looping through new_system to add relevant terms...\n",
      "INFO:relative:Handling nonbonded forces...\n",
      "INFO:relative:\thandle_nonbonded: looping through all particles in hybrid...\n",
      "INFO:relative:\thandle_nonbonded: Handling Interaction Groups...\n",
      "INFO:relative:\thandle_nonbonded: Handling Hybrid Exceptions...\n",
      "INFO:relative:\thandle_nonbonded: Handling Original Exceptions...\n",
      "INFO:relative:Handling unique_new/old interaction exceptions...\n",
      "INFO:relative:There are old or new system exceptions...proceeding.\n",
      "INFO:proposal_generator:\tConducting polymer point mutation proposal...\n",
      "WARNING:atom_mapping:Molecules do not appear to share a common scaffold.\n",
      "WARNING:atom_mapping:Proceeding with direct mapping of molecules, but please check atom mapping and the geometry of the ligands.\n",
      "INFO:proposal_generator:[Atom(name=CB, atomic number=6), Atom(name=CG, atomic number=6), Atom(name=ND2, atomic number=7), Atom(name=OD1, atomic number=8), Atom(name=HB2, atomic number=1), Atom(name=HB3, atomic number=1), Atom(name=HD21, atomic number=1), Atom(name=HD22, atomic number=1)]\n",
      "INFO:proposal_generator:[Atom(name=CB, atomic number=6), Atom(name=HB1, atomic number=1), Atom(name=HB2, atomic number=1), Atom(name=HB3, atomic number=1)]\n",
      "INFO:geometry:propose: performing forward proposal\n",
      "INFO:geometry:propose: unique new atoms detected; proceeding to _logp_propose...\n",
      "INFO:geometry:Conducting forward proposal...\n",
      "INFO:geometry:Computing proposal order with NetworkX...\n",
      "INFO:geometry:number of atoms to be placed: 1\n",
      "INFO:geometry:Atom index proposal order is [2614]\n",
      "INFO:geometry:omitted_bonds: []\n",
      "INFO:geometry:direction of proposal is forward; creating atoms_with_positions and new positions from old system/topology...\n",
      "INFO:geometry:creating growth system...\n",
      "INFO:geometry:\tcreating bond force...\n",
      "INFO:geometry:\tthere are 8431 bonds in reference force.\n",
      "INFO:geometry:\tcreating angle force...\n",
      "INFO:geometry:\tthere are 29331 angles in reference force.\n",
      "INFO:geometry:\tcreating torsion force...\n",
      "INFO:geometry:\tcreating extra torsions force...\n",
      "INFO:geometry:\tthere are 55102 torsions in reference force.\n",
      "INFO:geometry:\tcreating nonbonded force...\n",
      "INFO:geometry:\t\tgrabbing reference nonbonded method, cutoff, switching function, switching distance...\n",
      "INFO:geometry:\t\tcreating nonbonded exception force (i.e. custom bond for 1,4s)...\n",
      "INFO:geometry:\t\tlooping through exceptions calculating growth indices, and adding appropriate interactions to custom bond force.\n",
      "INFO:geometry:\t\tthere are 257127 in the reference Nonbonded force\n",
      "INFO:geometry:Neglected angle terms : []\n",
      "INFO:geometry:omitted_growth_terms: {'bonds': [], 'angles': [], 'torsions': [], '1,4s': []}\n",
      "INFO:geometry:extra torsions: {0: (2605, 2607, 2611, 2614, [1, Quantity(value=2.105358864604291, unit=radian), Quantity(value=1200.0, unit=kilocalorie/mole), 1]), 1: (2609, 2607, 2611, 2614, [1, Quantity(value=-0.036945135932107576, unit=radian), Quantity(value=1200.0, unit=kilocalorie/mole), 1]), 2: (2608, 2607, 2611, 2614, [1, Quantity(value=-2.119603470065817, unit=radian), Quantity(value=1200.0, unit=kilocalorie/mole), 1])}\n",
      "INFO:geometry:neglected angle terms include []\n",
      "INFO:geometry:log probability choice of torsions and atom order: -1.0986122886681098\n",
      "INFO:geometry:creating platform, integrators, and contexts; setting growth parameter\n"
     ]
    },
    {
     "name": "stdout",
     "output_type": "stream",
     "text": [
      "conducting subsequent work with the following platform: CUDA\n"
     ]
    },
    {
     "name": "stderr",
     "output_type": "stream",
     "text": [
      "INFO:geometry:setting atoms_with_positions context new positions\n"
     ]
    },
    {
     "name": "stdout",
     "output_type": "stream",
     "text": [
      "conducting subsequent work with the following platform: CUDA\n"
     ]
    },
    {
     "name": "stderr",
     "output_type": "stream",
     "text": [
      "INFO:geometry:There are 1 new atoms\n",
      "INFO:geometry:\treduced angle potential = 0.5169986852097123.\n",
      "INFO:geometry:\tbeginning construction of no_nonbonded final system...\n",
      "INFO:geometry:\tinitial no-nonbonded final system forces ['HarmonicBondForce', 'HarmonicAngleForce', 'PeriodicTorsionForce', 'NonbondedForce', 'MonteCarloBarostat']\n",
      "INFO:geometry:\tfinal no-nonbonded final system forces dict_keys(['HarmonicBondForce', 'HarmonicAngleForce', 'PeriodicTorsionForce', 'NonbondedForce'])\n",
      "INFO:geometry:\tthere are 8431 bond forces in the no-nonbonded final system\n",
      "INFO:geometry:\tthere are 29331 angle forces in the no-nonbonded final system\n",
      "INFO:geometry:\tthere are 55102 torsion forces in the no-nonbonded final system\n",
      "INFO:geometry:forward final system defined with 0 neglected angles.\n"
     ]
    },
    {
     "name": "stdout",
     "output_type": "stream",
     "text": [
      "conducting subsequent work with the following platform: CUDA\n",
      "conducting subsequent work with the following platform: CUDA\n"
     ]
    },
    {
     "name": "stderr",
     "output_type": "stream",
     "text": [
      "INFO:geometry:total reduced potential before atom placement: 23394.25697699707\n"
     ]
    },
    {
     "name": "stdout",
     "output_type": "stream",
     "text": [
      "conducting subsequent work with the following platform: CUDA\n",
      "conducting subsequent work with the following platform: CUDA\n",
      "conducting subsequent work with the following platform: CUDA\n"
     ]
    },
    {
     "name": "stderr",
     "output_type": "stream",
     "text": [
      "INFO:geometry:total reduced energy added from growth system: 2.6212560882413216\n",
      "INFO:geometry:final reduced energy 23396.8782329657\n",
      "INFO:geometry:sum of energies: 23396.87823308531\n",
      "INFO:geometry:magnitude of difference in the energies: 1.1960943613331665e-07\n",
      "INFO:geometry:Final logp_proposal: 7.478393143925339\n"
     ]
    },
    {
     "name": "stdout",
     "output_type": "stream",
     "text": [
      "added energy components: [('CustomBondForce', 0.0), ('CustomAngleForce', 1.0754747262287931), ('CustomTorsionForce', 0.004526463592820715), ('CustomBondForce', 1.541254898419708)]\n"
     ]
    },
    {
     "name": "stderr",
     "output_type": "stream",
     "text": [
      "INFO:geometry:logp_reverse: performing reverse proposal\n",
      "INFO:geometry:logp_reverse: unique new atoms detected; proceeding to _logp_propose...\n",
      "INFO:geometry:Conducting forward proposal...\n",
      "INFO:geometry:Computing proposal order with NetworkX...\n",
      "INFO:geometry:number of atoms to be placed: 5\n",
      "INFO:geometry:Atom index proposal order is [2614, 2618, 2615, 2616, 2617]\n",
      "INFO:geometry:omitted_bonds: []\n",
      "INFO:geometry:direction of proposal is reverse; creating atoms_with_positions from old system/topology\n",
      "INFO:geometry:creating growth system...\n",
      "INFO:geometry:\tcreating bond force...\n",
      "INFO:geometry:\tthere are 8434 bonds in reference force.\n",
      "INFO:geometry:\tcreating angle force...\n",
      "INFO:geometry:\tthere are 29337 angles in reference force.\n",
      "INFO:geometry:\tcreating torsion force...\n",
      "INFO:geometry:\tcreating extra torsions force...\n",
      "INFO:geometry:\tthere are 55124 torsions in reference force.\n",
      "INFO:geometry:\tcreating nonbonded force...\n",
      "INFO:geometry:\t\tgrabbing reference nonbonded method, cutoff, switching function, switching distance...\n",
      "INFO:geometry:\t\tcreating nonbonded exception force (i.e. custom bond for 1,4s)...\n",
      "INFO:geometry:\t\tlooping through exceptions calculating growth indices, and adding appropriate interactions to custom bond force.\n",
      "INFO:geometry:\t\tthere are 257147 in the reference Nonbonded force\n",
      "INFO:geometry:Neglected angle terms : []\n",
      "INFO:geometry:omitted_growth_terms: {'bonds': [], 'angles': [], 'torsions': [], '1,4s': []}\n",
      "INFO:geometry:extra torsions: {0: (2617, 2615, 2614, 2611, [1, Quantity(value=-3.0613628096248338, unit=radian), Quantity(value=1200.0, unit=kilocalorie/mole), 5]), 1: (2617, 2615, 2614, 2618, [1, Quantity(value=0.1006962644006828, unit=radian), Quantity(value=1200.0, unit=kilocalorie/mole), 5]), 2: (2616, 2615, 2614, 2611, [1, Quantity(value=-0.163557181151619, unit=radian), Quantity(value=1200.0, unit=kilocalorie/mole), 4]), 3: (2616, 2615, 2614, 2618, [1, Quantity(value=2.998501892873897, unit=radian), Quantity(value=1200.0, unit=kilocalorie/mole), 4])}\n",
      "INFO:geometry:neglected angle terms include []\n",
      "INFO:geometry:log probability choice of torsions and atom order: -6.068425588244111\n",
      "INFO:geometry:creating platform, integrators, and contexts; setting growth parameter\n"
     ]
    },
    {
     "name": "stdout",
     "output_type": "stream",
     "text": [
      "conducting subsequent work with the following platform: CUDA\n"
     ]
    },
    {
     "name": "stderr",
     "output_type": "stream",
     "text": [
      "INFO:geometry:setting atoms_with_positions context old positions\n"
     ]
    },
    {
     "name": "stdout",
     "output_type": "stream",
     "text": [
      "conducting subsequent work with the following platform: CUDA\n"
     ]
    },
    {
     "name": "stderr",
     "output_type": "stream",
     "text": [
      "INFO:geometry:There are 5 new atoms\n",
      "INFO:geometry:\treduced angle potential = 0.556024589180152.\n",
      "INFO:geometry:\treduced angle potential = 0.07895606380492576.\n",
      "INFO:geometry:\treduced angle potential = 0.16493779391879834.\n",
      "INFO:geometry:\treduced angle potential = 0.38088600786860893.\n",
      "INFO:geometry:\treduced angle potential = 0.0005705976143499401.\n",
      "INFO:geometry:\tbeginning construction of no_nonbonded final system...\n",
      "INFO:geometry:\tinitial no-nonbonded final system forces ['HarmonicBondForce', 'HarmonicAngleForce', 'PeriodicTorsionForce', 'NonbondedForce', 'MonteCarloBarostat']\n",
      "INFO:geometry:\tfinal no-nonbonded final system forces dict_keys(['HarmonicBondForce', 'HarmonicAngleForce', 'PeriodicTorsionForce', 'NonbondedForce'])\n",
      "INFO:geometry:\tthere are 8434 bond forces in the no-nonbonded final system\n",
      "INFO:geometry:\tthere are 29337 angle forces in the no-nonbonded final system\n",
      "INFO:geometry:\tthere are 55124 torsion forces in the no-nonbonded final system\n",
      "INFO:geometry:reverse final system defined with 0 neglected angles.\n"
     ]
    },
    {
     "name": "stdout",
     "output_type": "stream",
     "text": [
      "conducting subsequent work with the following platform: CUDA\n",
      "conducting subsequent work with the following platform: CUDA\n"
     ]
    },
    {
     "name": "stderr",
     "output_type": "stream",
     "text": [
      "INFO:geometry:total reduced potential before atom placement: 23394.256976997072\n"
     ]
    },
    {
     "name": "stdout",
     "output_type": "stream",
     "text": [
      "conducting subsequent work with the following platform: CUDA\n",
      "conducting subsequent work with the following platform: CUDA\n",
      "conducting subsequent work with the following platform: CUDA\n"
     ]
    },
    {
     "name": "stderr",
     "output_type": "stream",
     "text": [
      "INFO:geometry:total reduced energy added from growth system: -119.58794055741666\n",
      "INFO:geometry:final reduced energy 23274.669027877113\n",
      "INFO:geometry:sum of energies: 23274.669036439656\n",
      "INFO:geometry:magnitude of difference in the energies: 8.562542717527322e-06\n",
      "INFO:geometry:Final logp_proposal: 42.23810426310473\n"
     ]
    },
    {
     "name": "stdout",
     "output_type": "stream",
     "text": [
      "added energy components: [('CustomBondForce', 1.391536201473014), ('CustomAngleForce', 1.9490930168024763), ('CustomTorsionForce', 14.458137952558326), ('CustomBondForce', -137.3867077282505)]\n"
     ]
    },
    {
     "name": "stderr",
     "output_type": "stream",
     "text": [
      "INFO:setup:charge diff: 0\n",
      "INFO:relative:*** Generating vanilla HybridTopologyFactory ***\n",
      "INFO:relative:Beginning nonbonded method, total particle, barostat, and exceptions retrieval...\n",
      "INFO:relative:Flattening torsions of unique new/old at lambda = 0/1\n",
      "INFO:relative:Flattening exceptions of unique new/old at lambda = 0/1\n",
      "INFO:relative:Old system forces: dict_keys(['HarmonicBondForce', 'HarmonicAngleForce', 'PeriodicTorsionForce', 'NonbondedForce', 'MonteCarloBarostat'])\n",
      "INFO:relative:New system forces: dict_keys(['HarmonicBondForce', 'HarmonicAngleForce', 'PeriodicTorsionForce', 'NonbondedForce', 'MonteCarloBarostat'])\n",
      "INFO:relative:No unknown forces.\n",
      "INFO:relative:Nonbonded method to be used (i.e. from old system): 4\n",
      "INFO:relative:Adding and mapping old atoms to hybrid system...\n",
      "INFO:relative:Adding and mapping new atoms to hybrid system...\n",
      "INFO:relative:Added MonteCarloBarostat.\n",
      "INFO:relative:getDefaultPeriodicBoxVectors added to hybrid: [Quantity(value=Vec3(x=13.556500000000002, y=0.0, z=0.0), unit=nanometer), Quantity(value=Vec3(x=4.518833333333333, y=12.781190772207244, z=0.0), unit=nanometer), Quantity(value=Vec3(x=-4.518833333333333, y=6.390595386103622, z=11.068835899346718), unit=nanometer)]\n",
      "INFO:relative:Determined atom classes.\n",
      "INFO:relative:Generating old system exceptions dict...\n",
      "INFO:relative:Generating new system exceptions dict...\n",
      "INFO:relative:Handling constraints...\n",
      "INFO:relative:Handling virtual sites...\n",
      "INFO:relative:\t_handle_virtual_sites: numVirtualSites: 0\n",
      "INFO:relative:Adding bond force terms...\n",
      "INFO:relative:Adding angle force terms...\n",
      "INFO:relative:Adding torsion force terms...\n",
      "INFO:relative:Adding nonbonded force terms...\n",
      "INFO:relative:\t_add_nonbonded_force_terms: <openmm.openmm.NonbondedForce; proxy of <Swig Object of type 'OpenMM::NonbondedForce *' at 0x2b01984dcba0> > added to hybrid system\n",
      "INFO:relative:\t_add_nonbonded_force_terms: nonbonded_method is PME or Ewald\n",
      "INFO:relative:\t_add_nonbonded_force_terms: 4 added to standard nonbonded force\n",
      "INFO:relative:\t_add_nonbonded_force_terms: 2 added to sterics_custom_nonbonded force\n",
      "INFO:relative:\t_add_nonbonded_force_terms: <openmm.openmm.CustomNonbondedForce; proxy of <Swig Object of type 'OpenMM::CustomNonbondedForce *' at 0x2b01984dca80> > added to hybrid system\n",
      "INFO:relative:Handling harmonic bonds...\n",
      "INFO:relative:\thandle_harmonic_bonds: looping through old_system to add relevant terms...\n",
      "INFO:relative:\thandle_harmonic_bonds: looping through new_system to add relevant terms...\n",
      "INFO:relative:Handling harmonic angles...\n",
      "INFO:relative:\thandle_harmonic_angles: looping through old_system to add relevant terms...\n",
      "INFO:relative:\thandle_harmonic_angles: looping through new_system to add relevant terms...\n",
      "INFO:relative:Handling torsion forces...\n",
      "INFO:relative:\thandle_periodic_torsion_forces: looping through old_system to add relevant terms...\n",
      "INFO:relative:\thandle_periodic_torsion_forces: looping through new_system to add relevant terms...\n",
      "INFO:relative:Handling nonbonded forces...\n",
      "INFO:relative:\thandle_nonbonded: looping through all particles in hybrid...\n",
      "INFO:relative:\thandle_nonbonded: Handling Interaction Groups...\n",
      "INFO:relative:\thandle_nonbonded: Handling Hybrid Exceptions...\n",
      "INFO:relative:\thandle_nonbonded: Handling Original Exceptions...\n",
      "INFO:relative:Handling unique_new/old interaction exceptions...\n",
      "INFO:relative:There are old or new system exceptions...proceeding.\n"
     ]
    }
   ],
   "source": [
    "# Generate htf\n",
    "solvent_delivery = PointMutationExecutor2(\"../../input/rbd_protonated.pdb\",\n",
    "                        '1', # First chain is the barstar one\n",
    "                        '501',\n",
    "                        'ALA',\n",
    "                        ligand_input=\"../../input/ace2_protonated.pdb\",\n",
    "                        forcefield_files=['amber14/protein.ff14SB.xml', 'amber14/tip3p.xml', '/home/zhangi/choderalab/openmmforcefields/amber/ffxml/GLYCAM_06j-1.xml'],\n",
    "                        flatten_torsions=True,\n",
    "                        flatten_exceptions=True,\n",
    "                        generate_unmodified_hybrid_topology_factory=True,\n",
    "                        conduct_endstate_validation=False\n",
    "                        )"
   ]
  },
  {
   "cell_type": "code",
   "execution_count": 19,
   "id": "52bad377",
   "metadata": {},
   "outputs": [
    {
     "ename": "NameError",
     "evalue": "name 'render_protein_residue_atom_mapping' is not defined",
     "output_type": "error",
     "traceback": [
      "\u001b[0;31m---------------------------------------------------------------------------\u001b[0m",
      "\u001b[0;31mNameError\u001b[0m                                 Traceback (most recent call last)",
      "\u001b[0;32m/scratch/lsftmp/2643261.tmpdir/ipykernel_358735/1945434613.py\u001b[0m in \u001b[0;36m<module>\u001b[0;34m\u001b[0m\n\u001b[1;32m     11\u001b[0m \u001b[0;31m# Render atom map\u001b[0m\u001b[0;34m\u001b[0m\u001b[0;34m\u001b[0m\u001b[0;34m\u001b[0m\u001b[0m\n\u001b[1;32m     12\u001b[0m \u001b[0matom_map_filename\u001b[0m \u001b[0;34m=\u001b[0m \u001b[0;34mf'atom_map.png'\u001b[0m\u001b[0;34m\u001b[0m\u001b[0;34m\u001b[0m\u001b[0m\n\u001b[0;32m---> 13\u001b[0;31m \u001b[0mrender_protein_residue_atom_mapping\u001b[0m\u001b[0;34m(\u001b[0m\u001b[0mapo_htf\u001b[0m\u001b[0;34m.\u001b[0m\u001b[0m_topology_proposal\u001b[0m\u001b[0;34m,\u001b[0m \u001b[0matom_map_filename\u001b[0m\u001b[0;34m)\u001b[0m\u001b[0;34m\u001b[0m\u001b[0;34m\u001b[0m\u001b[0m\n\u001b[0m\u001b[1;32m     14\u001b[0m \u001b[0;34m\u001b[0m\u001b[0m\n\u001b[1;32m     15\u001b[0m \u001b[0mtraj\u001b[0m \u001b[0;34m=\u001b[0m \u001b[0mmd\u001b[0m\u001b[0;34m.\u001b[0m\u001b[0mTrajectory\u001b[0m\u001b[0;34m(\u001b[0m\u001b[0mapo_htf\u001b[0m\u001b[0;34m.\u001b[0m\u001b[0mold_positions\u001b[0m\u001b[0;34m(\u001b[0m\u001b[0mapo_htf\u001b[0m\u001b[0;34m.\u001b[0m\u001b[0mhybrid_positions\u001b[0m\u001b[0;34m)\u001b[0m\u001b[0;34m,\u001b[0m \u001b[0mmd\u001b[0m\u001b[0;34m.\u001b[0m\u001b[0mTopology\u001b[0m\u001b[0;34m.\u001b[0m\u001b[0mfrom_openmm\u001b[0m\u001b[0;34m(\u001b[0m\u001b[0mapo_htf\u001b[0m\u001b[0;34m.\u001b[0m\u001b[0m_topology_proposal\u001b[0m\u001b[0;34m.\u001b[0m\u001b[0mold_topology\u001b[0m\u001b[0;34m)\u001b[0m\u001b[0;34m)\u001b[0m\u001b[0;34m\u001b[0m\u001b[0;34m\u001b[0m\u001b[0m\n",
      "\u001b[0;31mNameError\u001b[0m: name 'render_protein_residue_atom_mapping' is not defined"
     ]
    }
   ],
   "source": [
    "i = 0\n",
    "\n",
    "apo_htf = solvent_delivery.get_apo_htf()\n",
    "with open(os.path.join(f\"{i}_apo.pickle\"), \"wb\") as f:\n",
    "    pickle.dump(apo_htf, f)\n",
    "\n",
    "complex_htf = solvent_delivery.get_complex_htf()\n",
    "with open(os.path.join(f\"{i}_complex.pickle\"), \"wb\") as f:\n",
    "    pickle.dump(complex_htf, f)\n",
    "\n"
   ]
  },
  {
   "cell_type": "code",
   "execution_count": 22,
   "id": "90487466",
   "metadata": {},
   "outputs": [],
   "source": [
    "# Render atom map\n",
    "atom_map_filename = f'atom_map.png'\n",
    "render_protein_residue_atom_mapping(apo_htf._topology_proposal, atom_map_filename)\n",
    "\n",
    "traj = md.Trajectory(apo_htf.old_positions(apo_htf.hybrid_positions), md.Topology.from_openmm(apo_htf._topology_proposal.old_topology))\n",
    "traj.save(os.path.join(\"apo_old.pdb\"))\n",
    "\n",
    "traj = md.Trajectory(apo_htf.new_positions(apo_htf.hybrid_positions), md.Topology.from_openmm(apo_htf._topology_proposal.new_topology))\n",
    "traj.save(os.path.join(\"apo_new.pdb\"))\n",
    "\n",
    "traj = md.Trajectory(complex_htf.old_positions(complex_htf.hybrid_positions), md.Topology.from_openmm(complex_htf._topology_proposal.old_topology))\n",
    "traj.save(os.path.join(\"complex_old.pdb\"))\n",
    "\n",
    "traj = md.Trajectory(complex_htf.new_positions(complex_htf.hybrid_positions), md.Topology.from_openmm(complex_htf._topology_proposal.new_topology))\n",
    "traj.save(os.path.join(\"complex_new.pdb\"))"
   ]
  },
  {
   "cell_type": "code",
   "execution_count": 23,
   "id": "d9c47155",
   "metadata": {},
   "outputs": [],
   "source": [
    "with open('rbd_ace2_hybrid_system.xml', 'w') as outfile:\n",
    "    system_xml = XmlSerializer.serialize(complex_htf.hybrid_system)\n",
    "    outfile.write(system_xml)"
   ]
  },
  {
   "cell_type": "code",
   "execution_count": 24,
   "id": "bcdc96ea",
   "metadata": {},
   "outputs": [],
   "source": [
    "from simtk.openmm import VerletIntegrator\n",
    "from simtk import openmm"
   ]
  },
  {
   "cell_type": "code",
   "execution_count": 25,
   "id": "71150341",
   "metadata": {},
   "outputs": [],
   "source": [
    "# Check the potential energy of the nb force (total energy)\n",
    "integrator = VerletIntegrator(0.001)\n",
    "context = openmm.Context(complex_htf.hybrid_system, integrator)\n",
    "context.setPositions(complex_htf.hybrid_positions)\n",
    "state = context.getState(getPositions=True)"
   ]
  },
  {
   "cell_type": "code",
   "execution_count": 27,
   "id": "5ad839ea",
   "metadata": {},
   "outputs": [],
   "source": [
    "with open('rbd_ace2_state.xml', 'w') as outfile:\n",
    "    state_xml = XmlSerializer.serialize(state)\n",
    "    outfile.write(state_xml)"
   ]
  },
  {
   "cell_type": "code",
   "execution_count": 20,
   "id": "205e16a7",
   "metadata": {},
   "outputs": [
    {
     "data": {
      "text/plain": [
       "185378"
      ]
     },
     "execution_count": 20,
     "metadata": {},
     "output_type": "execute_result"
    }
   ],
   "source": [
    "complex_htf.hybrid_topology.n_atoms"
   ]
  },
  {
   "cell_type": "code",
   "execution_count": 29,
   "id": "5626c21f",
   "metadata": {},
   "outputs": [
    {
     "data": {
      "text/plain": [
       "True"
      ]
     },
     "execution_count": 29,
     "metadata": {},
     "output_type": "execute_result"
    }
   ],
   "source": [
    "complex_htf.hybrid_system.getForce(8).getUseLongRangeCorrection()"
   ]
  },
  {
   "cell_type": "code",
   "execution_count": null,
   "id": "1d4b1943",
   "metadata": {},
   "outputs": [],
   "source": []
  }
 ],
 "metadata": {
  "kernelspec": {
   "display_name": "Python 3 (ipykernel)",
   "language": "python",
   "name": "python3"
  },
  "language_info": {
   "codemirror_mode": {
    "name": "ipython",
    "version": 3
   },
   "file_extension": ".py",
   "mimetype": "text/x-python",
   "name": "python",
   "nbconvert_exporter": "python",
   "pygments_lexer": "ipython3",
   "version": "3.8.12"
  }
 },
 "nbformat": 4,
 "nbformat_minor": 5
}
