{
 "cells": [
  {
   "cell_type": "code",
   "execution_count": 1,
   "id": "ac051fbf",
   "metadata": {},
   "outputs": [
    {
     "name": "stderr",
     "output_type": "stream",
     "text": [
      "Warning: importing 'simtk.openmm' is deprecated.  Import 'openmm' instead.\n"
     ]
    },
    {
     "name": "stdout",
     "output_type": "stream",
     "text": [
      "conducting subsequent work with the following platform: CPU\n"
     ]
    },
    {
     "name": "stderr",
     "output_type": "stream",
     "text": [
      "INFO:rdkit:Enabling RDKit 2021.03.4 jupyter extensions\n"
     ]
    }
   ],
   "source": [
    "from openmmtools.states import SamplerState, ThermodynamicState, CompoundThermodynamicState\n",
    "from simtk import unit, openmm\n",
    "from perses.tests.utils import compute_potential_components\n",
    "from openmmtools.constants import kB\n",
    "from perses.dispersed.utils import configure_platform\n",
    "from perses.annihilation.rest import RESTTopologyFactory\n",
    "from perses.annihilation.lambda_protocol import RESTState\n",
    "import numpy as np\n",
    "from perses.tests.test_topology_proposal import generate_atp, generate_dipeptide_top_pos_sys\n",
    "from openmmtools.testsystems import AlanineDipeptideVacuum, AlanineDipeptideExplicit\n",
    "import itertools\n",
    "from perses.tests.test_topology_proposal import generate_dipeptide_top_pos_sys, generate_atp\n",
    "import pickle\n",
    "import copy\n",
    "from perses.annihilation.relative import RestCapablePMEHybridTopologyFactory\n",
    "\n",
    "#############################################\n",
    "# CONSTANTS\n",
    "#############################################\n",
    "temperature = 298.0 * unit.kelvin\n",
    "kT = kB * temperature\n",
    "beta = 1.0/kT\n",
    "REFERENCE_PLATFORM = openmm.Platform.getPlatformByName(\"CUDA\")\n"
   ]
  },
  {
   "cell_type": "code",
   "execution_count": 2,
   "id": "69ee892f",
   "metadata": {},
   "outputs": [],
   "source": [
    "def test_bond_energies(htf, is_old=True, is_solvated=False, check_scale=False):\n",
    "    htf_copy = copy.deepcopy(htf)\n",
    "    \n",
    "    # Get harmonic bond force and old/new positions\n",
    "    system = htf._topology_proposal.old_system if is_old else htf._topology_proposal.new_system\n",
    "    harmonic_bond_force = system.getForce(0) \n",
    "    positions = htf.old_positions(htf.hybrid_positions) if is_old else htf.new_positions(htf.hybrid_positions)\n",
    "    \n",
    "    # Get custom bond force and hybrid positions\n",
    "    bond_force_index = 1 if is_solvated else 0\n",
    "    hybrid_system = htf.hybrid_system\n",
    "    custom_bond_force = hybrid_system.getForce(bond_force_index)\n",
    "    hybrid_positions = htf.hybrid_positions\n",
    "    \n",
    "    # Remove all other forces\n",
    "    for i in range(hybrid_system.getNumForces(), hybrid_system.getNumForces() - 4, -1):\n",
    "        hybrid_system.removeForce(i - 1)\n",
    "    \n",
    "    # Set global parameters\n",
    "    lambda_old = 1 if is_old else 0\n",
    "    lambda_new = 0 if is_old else 1\n",
    "    for i in range(custom_bond_force.getNumGlobalParameters()):\n",
    "        if custom_bond_force.getGlobalParameterName(i) == 'lambda_alchemical_bonds_old':\n",
    "            custom_bond_force.setGlobalParameterDefaultValue(i, lambda_old)\n",
    "        if custom_bond_force.getGlobalParameterName(i) == 'lambda_alchemical_bonds_new':\n",
    "            custom_bond_force.setGlobalParameterDefaultValue(i, lambda_new)\n",
    "\n",
    "#     # Zero the unique old/new bonds in the custom bond force\n",
    "#     hybrid_to_bond_indices = htf._hybrid_to_new_bond_indices if is_old else htf._hybrid_to_old_bond_indices\n",
    "#     for hybrid_idx, idx in hybrid_to_bond_indices.items():\n",
    "#         p1, p2, hybrid_params = custom_bond_force.getBondParameters(hybrid_idx)\n",
    "#         hybrid_params = list(hybrid_params)\n",
    "#         index_to_zero = -3 if is_old else -1\n",
    "#         hybrid_params[index_to_zero] *= 0\n",
    "#         custom_bond_force.setBondParameters(hybrid_idx, p1, p2, hybrid_params)\n",
    "\n",
    "    ## Get energy components of standard bond force\n",
    "    platform = configure_platform(REFERENCE_PLATFORM)\n",
    "    thermostate_other = ThermodynamicState(system=system, temperature=temperature)\n",
    "    integrator_other = openmm.VerletIntegrator(1.0*unit.femtosecond)\n",
    "    context_other = thermostate_other.create_context(integrator_other)\n",
    "    context_other.setPositions(positions)\n",
    "    components_other = compute_potential_components(context_other, beta=beta)\n",
    "    print(components_other)\n",
    "    \n",
    "    ## Get energy components of custom bond force\n",
    "    if is_solvated:\n",
    "        custom_bond_force.setUsesPeriodicBoundaryConditions(True)\n",
    "    thermostate_hybrid = ThermodynamicState(system=hybrid_system, temperature=temperature)\n",
    "    integrator_hybrid = openmm.VerletIntegrator(1.0 * unit.femtosecond)\n",
    "    context_hybrid = thermostate_hybrid.create_context(integrator_hybrid)\n",
    "    context_hybrid.setPositions(hybrid_positions)\n",
    "    components_hybrid = compute_potential_components(context_hybrid, beta=beta)\n",
    "    print(components_hybrid)\n",
    "    \n",
    "    assert np.isclose([components_other[0][1]], [components_hybrid[0][1]])\n",
    "    \n",
    "    print(\"Success! Custom bond force and standard bond force energies are equal!\")\n",
    "    \n",
    "    if check_scale:\n",
    "        \n",
    "        # Get custom bond force and hybrid positions\n",
    "        bond_force_index = 1 if is_solvated else 0\n",
    "        hybrid_system = htf_copy.hybrid_system\n",
    "        custom_bond_force = hybrid_system.getForce(bond_force_index)\n",
    "        hybrid_positions = htf_copy.hybrid_positions\n",
    "        \n",
    "        if is_solvated:\n",
    "            custom_bond_force.setUsesPeriodicBoundaryConditions(True)\n",
    "        \n",
    "        # Remove all other forces\n",
    "        for i in range(hybrid_system.getNumForces(), hybrid_system.getNumForces() - 4, -1):\n",
    "            hybrid_system.removeForce(i - 1)\n",
    "        \n",
    "        ## Get energy components of custom bond force\n",
    "        thermostate_hybrid = ThermodynamicState(system=hybrid_system, temperature=temperature)\n",
    "        integrator_hybrid = openmm.VerletIntegrator(1.0 * unit.femtosecond)\n",
    "        context_hybrid = thermostate_hybrid.create_context(integrator_hybrid)\n",
    "        context_hybrid.setPositions(hybrid_positions)\n",
    "        components_hybrid = compute_potential_components(context_hybrid, beta=beta)\n",
    "        print(components_hybrid)\n",
    "        \n",
    "        # Set `scale_lambda_{i}` to 0.5\n",
    "        for i in range(custom_bond_force.getNumGlobalParameters()):\n",
    "            if custom_bond_force.getGlobalParameterName(i) == 'lambda_rest_bonds':\n",
    "                custom_bond_force.setGlobalParameterDefaultValue(i, 0.5)\n",
    "        \n",
    "        ## Get energy components of custom bond force with scaling\n",
    "        thermostate_hybrid = ThermodynamicState(system=hybrid_system, temperature=temperature)\n",
    "        integrator_hybrid = openmm.VerletIntegrator(1.0 * unit.femtosecond)\n",
    "        context_hybrid = thermostate_hybrid.create_context(integrator_hybrid)\n",
    "        context_hybrid.setPositions(hybrid_positions)\n",
    "        components_hybrid_scaled = compute_potential_components(context_hybrid, beta=beta)\n",
    "        print(components_hybrid_scaled)\n",
    "        \n",
    "        assert not np.isclose([components_hybrid[0][1]], [components_hybrid_scaled[0][1]])\n",
    "        \n",
    "        print(\"Success! Scaling the bond force changes the energy\")"
   ]
  },
  {
   "cell_type": "markdown",
   "id": "434a0b31",
   "metadata": {},
   "source": [
    "# Alanine dipeptide in vacuum"
   ]
  },
  {
   "cell_type": "code",
   "execution_count": 35,
   "id": "723a6506",
   "metadata": {
    "scrolled": true
   },
   "outputs": [
    {
     "name": "stderr",
     "output_type": "stream",
     "text": [
      "DEBUG:openmmforcefields.system_generators:Trying GAFFTemplateGenerator to load gaff-2.11\n",
      "INFO:proposal_generator:\tConducting polymer point mutation proposal...\n",
      "WARNING:atom_mapping:Molecules do not appear to share a common scaffold.\n",
      "WARNING:atom_mapping:Proceeding with direct mapping of molecules, but please check atom mapping and the geometry of the ligands.\n",
      "INFO:proposal_generator:[Atom(name=CB, atomic number=6), Atom(name=HB1, atomic number=1), Atom(name=HB2, atomic number=1), Atom(name=HB3, atomic number=1)]\n",
      "INFO:proposal_generator:[Atom(name=CB, atomic number=6), Atom(name=CG2, atomic number=6), Atom(name=OG1, atomic number=8), Atom(name=HB, atomic number=1), Atom(name=HG1, atomic number=1), Atom(name=HG21, atomic number=1), Atom(name=HG22, atomic number=1), Atom(name=HG23, atomic number=1)]\n",
      "INFO:geometry:propose: performing forward proposal\n",
      "INFO:geometry:propose: unique new atoms detected; proceeding to _logp_propose...\n",
      "INFO:geometry:Conducting forward proposal...\n",
      "INFO:geometry:Computing proposal order with NetworkX...\n",
      "INFO:geometry:number of atoms to be placed: 6\n",
      "INFO:geometry:Atom index proposal order is [18, 14, 19, 17, 15, 16]\n",
      "INFO:geometry:omitted_bonds: []\n",
      "INFO:geometry:direction of proposal is forward; creating atoms_with_positions and new positions from old system/topology...\n",
      "INFO:geometry:creating growth system...\n",
      "INFO:geometry:\tcreating bond force...\n",
      "INFO:geometry:\tthere are 11 bonds in reference force.\n",
      "INFO:geometry:\tcreating angle force...\n",
      "INFO:geometry:\tthere are 43 angles in reference force.\n",
      "INFO:geometry:\tcreating torsion force...\n",
      "INFO:geometry:\tcreating extra torsions force...\n",
      "INFO:geometry:\tthere are 72 torsions in reference force.\n",
      "INFO:geometry:\tcreating nonbonded force...\n",
      "INFO:geometry:\t\tgrabbing reference nonbonded method, cutoff, switching function, switching distance...\n",
      "INFO:geometry:\t\tcreating nonbonded exception force (i.e. custom bond for 1,4s)...\n",
      "INFO:geometry:\t\tlooping through exceptions calculating growth indices, and adding appropriate interactions to custom bond force.\n",
      "INFO:geometry:\t\tthere are 121 in the reference Nonbonded force\n",
      "INFO:geometry:Neglected angle terms : []\n",
      "INFO:geometry:omitted_growth_terms: {'bonds': [], 'angles': [], 'torsions': [], '1,4s': []}\n",
      "INFO:geometry:extra torsions: {0: (19, 18, 10, 8, [1, Quantity(value=-0.07858019216845058, unit=radian), Quantity(value=1200.0, unit=kilocalorie/mole), 3]), 1: (19, 18, 10, 14, [1, Quantity(value=2.118586571250296, unit=radian), Quantity(value=1200.0, unit=kilocalorie/mole), 3]), 2: (19, 18, 10, 13, [1, Quantity(value=-2.149781203448759, unit=radian), Quantity(value=1200.0, unit=kilocalorie/mole), 3]), 3: (8, 10, 14, 17, [1, Quantity(value=-2.1249532223845904, unit=radian), Quantity(value=1200.0, unit=kilocalorie/mole), 4]), 4: (8, 10, 14, 16, [1, Quantity(value=2.0543043017157916, unit=radian), Quantity(value=1200.0, unit=kilocalorie/mole), 6]), 5: (8, 10, 14, 15, [1, Quantity(value=-0.02223392579985184, unit=radian), Quantity(value=1200.0, unit=kilocalorie/mole), 5]), 6: (18, 10, 14, 17, [1, Quantity(value=2.0255587336734213, unit=radian), Quantity(value=1200.0, unit=kilocalorie/mole), 4]), 7: (18, 10, 14, 16, [1, Quantity(value=-0.07836904940578293, unit=radian), Quantity(value=1200.0, unit=kilocalorie/mole), 6]), 8: (18, 10, 14, 15, [1, Quantity(value=-2.154907276921426, unit=radian), Quantity(value=1200.0, unit=kilocalorie/mole), 5]), 9: (13, 10, 14, 17, [1, Quantity(value=0.007583009583349565, unit=radian), Quantity(value=1200.0, unit=kilocalorie/mole), 4]), 10: (13, 10, 14, 16, [1, Quantity(value=-2.096344773495849, unit=radian), Quantity(value=1200.0, unit=kilocalorie/mole), 6]), 11: (13, 10, 14, 15, [1, Quantity(value=2.1103023061680943, unit=radian), Quantity(value=1200.0, unit=kilocalorie/mole), 5]), 12: (18, 10, 8, 14, [1, Quantity(value=-1.0655064807976995, unit=radian), Quantity(value=1200.0, unit=kilocalorie/mole), 2])}\n",
      "INFO:geometry:neglected angle terms include []\n",
      "INFO:geometry:log probability choice of torsions and atom order: -10.462874742916549\n",
      "INFO:geometry:creating platform, integrators, and contexts; setting growth parameter\n"
     ]
    },
    {
     "name": "stdout",
     "output_type": "stream",
     "text": [
      "making topology proposal\n",
      "generating geometry engine\n",
      "making geometry proposal from ALA to THR\n",
      "conducting subsequent work with the following platform: CUDA\n"
     ]
    },
    {
     "name": "stderr",
     "output_type": "stream",
     "text": [
      "INFO:geometry:setting atoms_with_positions context new positions\n",
      "INFO:geometry:There are 6 new atoms\n",
      "INFO:geometry:\treduced angle potential = 0.1916210312398112.\n"
     ]
    },
    {
     "name": "stdout",
     "output_type": "stream",
     "text": [
      "conducting subsequent work with the following platform: CUDA\n"
     ]
    },
    {
     "name": "stderr",
     "output_type": "stream",
     "text": [
      "INFO:geometry:\treduced angle potential = 0.5294767290459792.\n",
      "INFO:geometry:\treduced angle potential = 1.4198399455193607.\n",
      "INFO:geometry:\treduced angle potential = 0.10363537635946199.\n",
      "INFO:geometry:\treduced angle potential = 0.09980266220072555.\n",
      "INFO:geometry:\treduced angle potential = 0.20610506455409472.\n",
      "INFO:geometry:\tbeginning construction of no_nonbonded final system...\n",
      "INFO:geometry:\tinitial no-nonbonded final system forces ['HarmonicBondForce', 'HarmonicAngleForce', 'PeriodicTorsionForce', 'NonbondedForce']\n",
      "INFO:geometry:\tfinal no-nonbonded final system forces dict_keys(['HarmonicBondForce', 'HarmonicAngleForce', 'PeriodicTorsionForce', 'NonbondedForce'])\n",
      "INFO:geometry:\tthere are 11 bond forces in the no-nonbonded final system\n",
      "INFO:geometry:\tthere are 43 angle forces in the no-nonbonded final system\n",
      "INFO:geometry:\tthere are 72 torsion forces in the no-nonbonded final system\n",
      "INFO:geometry:forward final system defined with 0 neglected angles.\n"
     ]
    },
    {
     "name": "stdout",
     "output_type": "stream",
     "text": [
      "conducting subsequent work with the following platform: CUDA\n"
     ]
    },
    {
     "name": "stderr",
     "output_type": "stream",
     "text": [
      "INFO:geometry:total reduced potential before atom placement: 16.815513850992346\n"
     ]
    },
    {
     "name": "stdout",
     "output_type": "stream",
     "text": [
      "conducting subsequent work with the following platform: CUDA\n",
      "conducting subsequent work with the following platform: CUDA\n",
      "conducting subsequent work with the following platform: CUDA\n"
     ]
    },
    {
     "name": "stderr",
     "output_type": "stream",
     "text": [
      "INFO:geometry:total reduced energy added from growth system: -60.14445928486636\n"
     ]
    },
    {
     "name": "stdout",
     "output_type": "stream",
     "text": [
      "conducting subsequent work with the following platform: CUDA\n",
      "added energy components: [('CustomBondForce', 0.8406852751292699), ('CustomAngleForce', 8.184445665091207), ('CustomTorsionForce', 9.892062766250772), ('CustomBondForce', -79.06165299133762)]\n"
     ]
    },
    {
     "name": "stderr",
     "output_type": "stream",
     "text": [
      "INFO:geometry:final reduced energy -43.32894488585975\n",
      "INFO:geometry:sum of energies: -43.32894543387401\n",
      "INFO:geometry:magnitude of difference in the energies: 5.480142633018659e-07\n",
      "INFO:geometry:Final logp_proposal: 47.606511836690544\n",
      "INFO:geometry:logp_reverse: performing reverse proposal\n",
      "INFO:geometry:logp_reverse: unique new atoms detected; proceeding to _logp_propose...\n",
      "INFO:geometry:Conducting forward proposal...\n",
      "INFO:geometry:Computing proposal order with NetworkX...\n",
      "INFO:geometry:number of atoms to be placed: 2\n",
      "INFO:geometry:Atom index proposal order is [13, 11]\n",
      "INFO:geometry:omitted_bonds: []\n",
      "INFO:geometry:direction of proposal is reverse; creating atoms_with_positions from old system/topology\n",
      "INFO:geometry:creating growth system...\n",
      "INFO:geometry:\tcreating bond force...\n",
      "INFO:geometry:\tthere are 9 bonds in reference force.\n",
      "INFO:geometry:\tcreating angle force...\n",
      "INFO:geometry:\tthere are 36 angles in reference force.\n",
      "INFO:geometry:\tcreating torsion force...\n",
      "INFO:geometry:\tcreating extra torsions force...\n",
      "INFO:geometry:\tthere are 42 torsions in reference force.\n",
      "INFO:geometry:\tcreating nonbonded force...\n",
      "INFO:geometry:\t\tgrabbing reference nonbonded method, cutoff, switching function, switching distance...\n",
      "INFO:geometry:\t\tcreating nonbonded exception force (i.e. custom bond for 1,4s)...\n",
      "INFO:geometry:\t\tlooping through exceptions calculating growth indices, and adding appropriate interactions to custom bond force.\n",
      "INFO:geometry:\t\tthere are 98 in the reference Nonbonded force\n",
      "INFO:geometry:Neglected angle terms : []\n",
      "INFO:geometry:omitted_growth_terms: {'bonds': [], 'angles': [], 'torsions': [], '1,4s': []}\n",
      "INFO:geometry:extra torsions: {0: (6, 8, 10, 11, [1, Quantity(value=2.105358864604291, unit=radian), Quantity(value=1200.0, unit=kilocalorie/mole), 2]), 1: (6, 8, 10, 13, [1, Quantity(value=0.018582237407944735, unit=radian), Quantity(value=1200.0, unit=kilocalorie/mole), 1]), 2: (14, 8, 10, 11, [1, Quantity(value=-0.036945135932107576, unit=radian), Quantity(value=1200.0, unit=kilocalorie/mole), 2]), 3: (14, 8, 10, 13, [1, Quantity(value=-2.1237217631284597, unit=radian), Quantity(value=1200.0, unit=kilocalorie/mole), 1]), 4: (9, 8, 10, 11, [1, Quantity(value=-2.119603470065817, unit=radian), Quantity(value=1200.0, unit=kilocalorie/mole), 2]), 5: (9, 8, 10, 13, [1, Quantity(value=2.0768052099174152, unit=radian), Quantity(value=1200.0, unit=kilocalorie/mole), 1])}\n",
      "INFO:geometry:neglected angle terms include []\n",
      "INFO:geometry:log probability choice of torsions and atom order: -2.8903717578961645\n",
      "INFO:geometry:creating platform, integrators, and contexts; setting growth parameter\n"
     ]
    },
    {
     "name": "stdout",
     "output_type": "stream",
     "text": [
      "conducting subsequent work with the following platform: CUDA\n"
     ]
    },
    {
     "name": "stderr",
     "output_type": "stream",
     "text": [
      "INFO:geometry:setting atoms_with_positions context old positions\n",
      "INFO:geometry:There are 2 new atoms\n",
      "INFO:geometry:\treduced angle potential = 7.39096069988752e-11.\n"
     ]
    },
    {
     "name": "stdout",
     "output_type": "stream",
     "text": [
      "conducting subsequent work with the following platform: CUDA\n"
     ]
    },
    {
     "name": "stderr",
     "output_type": "stream",
     "text": [
      "INFO:geometry:\treduced angle potential = 1.2915588460963948e-10.\n",
      "INFO:geometry:\tbeginning construction of no_nonbonded final system...\n",
      "INFO:geometry:\tinitial no-nonbonded final system forces ['HarmonicBondForce', 'HarmonicAngleForce', 'PeriodicTorsionForce', 'NonbondedForce']\n",
      "INFO:geometry:\tfinal no-nonbonded final system forces dict_keys(['HarmonicBondForce', 'HarmonicAngleForce', 'PeriodicTorsionForce', 'NonbondedForce'])\n",
      "INFO:geometry:\tthere are 9 bond forces in the no-nonbonded final system\n",
      "INFO:geometry:\tthere are 36 angle forces in the no-nonbonded final system\n",
      "INFO:geometry:\tthere are 42 torsion forces in the no-nonbonded final system\n",
      "INFO:geometry:reverse final system defined with 0 neglected angles.\n"
     ]
    },
    {
     "name": "stdout",
     "output_type": "stream",
     "text": [
      "conducting subsequent work with the following platform: CUDA\n"
     ]
    },
    {
     "name": "stderr",
     "output_type": "stream",
     "text": [
      "INFO:geometry:total reduced potential before atom placement: 16.815513850992346\n"
     ]
    },
    {
     "name": "stdout",
     "output_type": "stream",
     "text": [
      "conducting subsequent work with the following platform: CUDA\n",
      "conducting subsequent work with the following platform: CUDA\n",
      "conducting subsequent work with the following platform: CUDA\n",
      "conducting subsequent work with the following platform: CUDA\n",
      "added energy components: [('CustomBondForce', 0.0), ('CustomAngleForce', 0.00017810081214392654), ('CustomTorsionForce', 0.002891174165036068), ('CustomBondForce', 4.777690951809965)]\n"
     ]
    },
    {
     "name": "stderr",
     "output_type": "stream",
     "text": [
      "INFO:geometry:total reduced energy added from growth system: 4.780760226787146\n",
      "INFO:geometry:final reduced energy 21.59627388135083\n",
      "INFO:geometry:sum of energies: 21.59627407777949\n",
      "INFO:geometry:magnitude of difference in the energies: 1.9642866355695787e-07\n",
      "INFO:geometry:Final logp_proposal: -17727.595083382985\n"
     ]
    }
   ],
   "source": [
    "# Create a htf\n",
    "atp, system_generator = generate_atp(phase = 'vacuum')\n",
    "topology_proposal, new_positions, _, _ = generate_dipeptide_top_pos_sys(atp.topology, \n",
    "                               'THR', \n",
    "                               atp.system, \n",
    "                               atp.positions, \n",
    "                               system_generator,\n",
    "                               flatten_torsions=True,\n",
    "                               flatten_exceptions=True,\n",
    "                               validate_endstate_energy=False)"
   ]
  },
  {
   "cell_type": "code",
   "execution_count": 4,
   "id": "e0e58739",
   "metadata": {
    "scrolled": true
   },
   "outputs": [
    {
     "name": "stderr",
     "output_type": "stream",
     "text": [
      "INFO:relative:*** Generating RestCapablePMEHybridTopologyFactory ***\n",
      "INFO:relative:Old system forces: dict_keys(['HarmonicBondForce', 'HarmonicAngleForce', 'PeriodicTorsionForce', 'NonbondedForce'])\n",
      "INFO:relative:New system forces: dict_keys(['HarmonicBondForce', 'HarmonicAngleForce', 'PeriodicTorsionForce', 'NonbondedForce'])\n",
      "INFO:relative:No unknown forces.\n",
      "INFO:relative:Nonbonded method to be used (i.e. from old system): 0\n",
      "INFO:relative:Adding and mapping old atoms to hybrid system...\n",
      "INFO:relative:Adding and mapping new atoms to hybrid system...\n",
      "INFO:relative:No MonteCarloBarostat added.\n",
      "INFO:relative:getDefaultPeriodicBoxVectors added to hybrid: [Quantity(value=Vec3(x=2.0, y=0.0, z=0.0), unit=nanometer), Quantity(value=Vec3(x=0.0, y=2.0, z=0.0), unit=nanometer), Quantity(value=Vec3(x=0.0, y=0.0, z=2.0), unit=nanometer)]\n",
      "INFO:relative:Determined atom classes.\n",
      "INFO:relative:Generating old system exceptions dict...\n",
      "INFO:relative:Generating new system exceptions dict...\n",
      "INFO:relative:Handling constraints...\n",
      "INFO:relative:Handling virtual sites...\n",
      "INFO:relative:\t_handle_virtual_sites: numVirtualSites: 0\n"
     ]
    }
   ],
   "source": [
    "flatten_exceptions = True\n",
    "flatten_torsions = True\n",
    "endstate = None\n",
    "rest_region = None\n",
    "htf = RestCapablePMEHybridTopologyFactory(topology_proposal=topology_proposal,\n",
    "                     current_positions=atp.positions,\n",
    "                     new_positions=new_positions,\n",
    "                     rest_region=rest_region,\n",
    "                     use_dispersion_correction=False,\n",
    "                     generate_htf_for_testing=True,\n",
    "                     interpolate_old_and_new_14s=flatten_exceptions\n",
    "                    # no flatten torsions yet\n",
    "                    )"
   ]
  },
  {
   "cell_type": "code",
   "execution_count": 5,
   "id": "04b09f92",
   "metadata": {},
   "outputs": [
    {
     "data": {
      "text/plain": [
       "Quantity(value=100, unit=nanometer)"
      ]
     },
     "execution_count": 5,
     "metadata": {},
     "output_type": "execute_result"
    }
   ],
   "source": [
    "htf._r_cutoff"
   ]
  },
  {
   "cell_type": "code",
   "execution_count": 6,
   "id": "cb69c8ad",
   "metadata": {},
   "outputs": [],
   "source": [
    "with open(\"atp_vacuum.pickle\", \"wb\") as f:\n",
    "    pickle.dump(htf, f)"
   ]
  },
  {
   "cell_type": "code",
   "execution_count": 7,
   "id": "4a66705e",
   "metadata": {},
   "outputs": [],
   "source": [
    "with open(\"atp_vacuum.pickle\", \"rb\") as f:\n",
    "    htf = pickle.load(f)"
   ]
  },
  {
   "cell_type": "code",
   "execution_count": 8,
   "id": "85db2acb",
   "metadata": {},
   "outputs": [
    {
     "data": {
      "text/plain": [
       "[<openmm.openmm.CustomBondForce; proxy of <Swig Object of type 'OpenMM::CustomBondForce *' at 0x2aadb46ba900> >,\n",
       " <openmm.openmm.CustomAngleForce; proxy of <Swig Object of type 'OpenMM::CustomAngleForce *' at 0x2aadb46ba9c0> >,\n",
       " <openmm.openmm.CustomTorsionForce; proxy of <Swig Object of type 'OpenMM::CustomTorsionForce *' at 0x2aadb46ba7b0> >,\n",
       " <openmm.openmm.CustomNonbondedForce; proxy of <Swig Object of type 'OpenMM::CustomNonbondedForce *' at 0x2aadb46ba870> >,\n",
       " <openmm.openmm.CustomBondForce; proxy of <Swig Object of type 'OpenMM::CustomBondForce *' at 0x2aadb46ba6c0> >,\n",
       " <openmm.openmm.NonbondedForce; proxy of <Swig Object of type 'OpenMM::NonbondedForce *' at 0x2aadb46ba750> >]"
      ]
     },
     "execution_count": 8,
     "metadata": {},
     "output_type": "execute_result"
    }
   ],
   "source": [
    "htf.hybrid_system.getForces()"
   ]
  },
  {
   "cell_type": "code",
   "execution_count": 9,
   "id": "60da3ad4",
   "metadata": {},
   "outputs": [
    {
     "data": {
      "text/plain": [
       "False"
      ]
     },
     "execution_count": 9,
     "metadata": {},
     "output_type": "execute_result"
    }
   ],
   "source": [
    "htf.hybrid_system.getForce(5).getIncludeDirectSpace()"
   ]
  },
  {
   "cell_type": "code",
   "execution_count": 7,
   "id": "24a6515a",
   "metadata": {},
   "outputs": [],
   "source": [
    "from simtk.openmm import VerletIntegrator"
   ]
  },
  {
   "cell_type": "code",
   "execution_count": 12,
   "id": "bb182669",
   "metadata": {},
   "outputs": [],
   "source": [
    "htf._topology_proposal.old_system.removeForce(2)\n",
    "htf._topology_proposal.old_system.removeForce(1)\n",
    "htf._topology_proposal.old_system.removeForce(0)"
   ]
  },
  {
   "cell_type": "code",
   "execution_count": 14,
   "id": "382a5e18",
   "metadata": {},
   "outputs": [
    {
     "data": {
      "text/plain": [
       "Quantity(value=-97.74547495983268, unit=kilojoule/mole)"
      ]
     },
     "execution_count": 14,
     "metadata": {},
     "output_type": "execute_result"
    }
   ],
   "source": [
    "# Check the potential energy of the nb force (total energy)\n",
    "integrator = VerletIntegrator(0.001)\n",
    "context = openmm.Context(htf._topology_proposal.old_system, integrator)\n",
    "context.setPositions(htf.old_positions(htf.hybrid_positions))\n",
    "context.getState(getEnergy=True).getPotentialEnergy()"
   ]
  },
  {
   "cell_type": "code",
   "execution_count": 10,
   "id": "7875bfe5",
   "metadata": {},
   "outputs": [],
   "source": [
    "htf._topology_proposal.new_system.removeForce(2)\n",
    "htf._topology_proposal.new_system.removeForce(1)\n",
    "htf._topology_proposal.new_system.removeForce(0)"
   ]
  },
  {
   "cell_type": "code",
   "execution_count": 11,
   "id": "2ce6f3f7",
   "metadata": {},
   "outputs": [
    {
     "data": {
      "text/plain": [
       "Quantity(value=1441.296769774057, unit=kilojoule/mole)"
      ]
     },
     "execution_count": 11,
     "metadata": {},
     "output_type": "execute_result"
    }
   ],
   "source": [
    "# Check the potential energy of the nb force (total energy)\n",
    "integrator = VerletIntegrator(0.001)\n",
    "context = openmm.Context(htf._topology_proposal.new_system, integrator)\n",
    "context.setPositions(htf.new_positions(htf.hybrid_positions))\n",
    "context.getState(getEnergy=True).getPotentialEnergy()"
   ]
  },
  {
   "cell_type": "code",
   "execution_count": null,
   "id": "0c5f82d8",
   "metadata": {},
   "outputs": [],
   "source": []
  },
  {
   "cell_type": "markdown",
   "id": "503b6f4b",
   "metadata": {},
   "source": [
    "### Test one alchemical region, no rest region"
   ]
  },
  {
   "cell_type": "markdown",
   "id": "11e9c95a",
   "metadata": {},
   "source": [
    "#### Old system HarmonicBondForce vs hybrid system CustomBondForce"
   ]
  },
  {
   "cell_type": "code",
   "execution_count": 28,
   "id": "19b06c88",
   "metadata": {},
   "outputs": [],
   "source": [
    "# Load htf\n",
    "with open(\"/home/zhangi/choderalab/perses_benchmark/perses_protein_mutations/code/31_rest_over_protocol/atp_vacuum.pickle\", \"rb\") as f:\n",
    "    htf = pickle.load(f)"
   ]
  },
  {
   "cell_type": "code",
   "execution_count": 11,
   "id": "18deeb39",
   "metadata": {
    "scrolled": false
   },
   "outputs": [
    {
     "name": "stdout",
     "output_type": "stream",
     "text": [
      "Warning: Returning CPU platform instead of requested platform <openmm.openmm.Platform; proxy of <Swig Object of type 'OpenMM::Platform *' at 0x2aad8b60ef30> >\n",
      "conducting subsequent work with the following platform: CPU\n",
      "conducting subsequent work with the following platform: CUDA\n",
      "[('HarmonicBondForce', 0.0347836535652138), ('HarmonicAngleForce', 0.6112775462128993), ('PeriodicTorsionForce', 16.285398289983057), ('NonbondedForce', -39.449927745600284), ('AndersenThermostat', 0.0)]\n",
      "conducting subsequent work with the following platform: CUDA\n",
      "[('CustomBondForce', 0.0347836535652138), ('CustomAngleForce', 0.6112775462128993), ('AndersenThermostat', 0.0)]\n",
      "Success! Custom bond force and standard bond force energies are equal!\n"
     ]
    }
   ],
   "source": [
    "test_bond_energies(htf)"
   ]
  },
  {
   "cell_type": "markdown",
   "id": "e336aed9",
   "metadata": {},
   "source": [
    "#### New system HarmonicBondForce vs hybrid system CustomBondForce"
   ]
  },
  {
   "cell_type": "code",
   "execution_count": 12,
   "id": "49875cd6",
   "metadata": {},
   "outputs": [],
   "source": [
    "# Load htf\n",
    "with open(\"/home/zhangi/choderalab/perses_benchmark/perses_protein_mutations/code/31_rest_over_protocol/atp_vacuum.pickle\", \"rb\") as f:\n",
    "    htf = pickle.load(f)"
   ]
  },
  {
   "cell_type": "code",
   "execution_count": 13,
   "id": "039fb22d",
   "metadata": {},
   "outputs": [
    {
     "name": "stdout",
     "output_type": "stream",
     "text": [
      "Warning: Returning CPU platform instead of requested platform <openmm.openmm.Platform; proxy of <Swig Object of type 'OpenMM::Platform *' at 0x2aad8b60ef30> >\n",
      "conducting subsequent work with the following platform: CPU\n",
      "conducting subsequent work with the following platform: CUDA\n",
      "[('HarmonicBondForce', 2.0790338903939647), ('HarmonicAngleForce', 3.430235820649689), ('PeriodicTorsionForce', 26.404036436796364), ('NonbondedForce', 1124.682158104184), ('AndersenThermostat', 0.0)]\n",
      "conducting subsequent work with the following platform: CUDA\n",
      "[('CustomBondForce', 2.0790338903939647), ('CustomAngleForce', 0.6112775462128993), ('AndersenThermostat', 0.0)]\n",
      "Success! Custom bond force and standard bond force energies are equal!\n"
     ]
    }
   ],
   "source": [
    "test_bond_energies(htf, is_old=False)"
   ]
  },
  {
   "cell_type": "markdown",
   "id": "16251d48",
   "metadata": {},
   "source": [
    "### Test one alchemical region, one rest region"
   ]
  },
  {
   "cell_type": "code",
   "execution_count": 69,
   "id": "12fe9b6c",
   "metadata": {
    "scrolled": true
   },
   "outputs": [
    {
     "name": "stderr",
     "output_type": "stream",
     "text": [
      "DEBUG:openmmforcefields.system_generators:Trying GAFFTemplateGenerator to load gaff-2.11\n",
      "INFO:proposal_generator:\tConducting polymer point mutation proposal...\n",
      "WARNING:atom_mapping:Molecules do not appear to share a common scaffold.\n",
      "WARNING:atom_mapping:Proceeding with direct mapping of molecules, but please check atom mapping and the geometry of the ligands.\n",
      "INFO:proposal_generator:[Atom(name=CB, atomic number=6), Atom(name=HB1, atomic number=1), Atom(name=HB2, atomic number=1), Atom(name=HB3, atomic number=1)]\n",
      "INFO:proposal_generator:[Atom(name=CB, atomic number=6), Atom(name=CG2, atomic number=6), Atom(name=OG1, atomic number=8), Atom(name=HB, atomic number=1), Atom(name=HG1, atomic number=1), Atom(name=HG21, atomic number=1), Atom(name=HG22, atomic number=1), Atom(name=HG23, atomic number=1)]\n",
      "INFO:geometry:propose: performing forward proposal\n",
      "INFO:geometry:propose: unique new atoms detected; proceeding to _logp_propose...\n",
      "INFO:geometry:Conducting forward proposal...\n",
      "INFO:geometry:Computing proposal order with NetworkX...\n",
      "INFO:geometry:number of atoms to be placed: 6\n",
      "INFO:geometry:Atom index proposal order is [18, 14, 16, 17, 15, 19]\n",
      "INFO:geometry:omitted_bonds: []\n",
      "INFO:geometry:direction of proposal is forward; creating atoms_with_positions and new positions from old system/topology...\n",
      "INFO:geometry:creating growth system...\n",
      "INFO:geometry:\tcreating bond force...\n",
      "INFO:geometry:\tthere are 11 bonds in reference force.\n",
      "INFO:geometry:\tcreating angle force...\n",
      "INFO:geometry:\tthere are 43 angles in reference force.\n",
      "INFO:geometry:\tcreating torsion force...\n",
      "INFO:geometry:\tcreating extra torsions force...\n",
      "INFO:geometry:\tthere are 72 torsions in reference force.\n",
      "INFO:geometry:\tcreating nonbonded force...\n",
      "INFO:geometry:\t\tgrabbing reference nonbonded method, cutoff, switching function, switching distance...\n",
      "INFO:geometry:\t\tcreating nonbonded exception force (i.e. custom bond for 1,4s)...\n",
      "INFO:geometry:\t\tlooping through exceptions calculating growth indices, and adding appropriate interactions to custom bond force.\n",
      "INFO:geometry:\t\tthere are 121 in the reference Nonbonded force\n",
      "INFO:geometry:Neglected angle terms : []\n",
      "INFO:geometry:omitted_growth_terms: {'bonds': [], 'angles': [], 'torsions': [], '1,4s': []}\n",
      "INFO:geometry:extra torsions: {0: (19, 18, 10, 8, [1, Quantity(value=-0.07858019216845058, unit=radian), Quantity(value=1200.0, unit=kilocalorie/mole), 6]), 1: (19, 18, 10, 14, [1, Quantity(value=2.118586571250296, unit=radian), Quantity(value=1200.0, unit=kilocalorie/mole), 6]), 2: (19, 18, 10, 13, [1, Quantity(value=-2.149781203448759, unit=radian), Quantity(value=1200.0, unit=kilocalorie/mole), 6]), 3: (8, 10, 14, 17, [1, Quantity(value=-2.1249532223845904, unit=radian), Quantity(value=1200.0, unit=kilocalorie/mole), 4]), 4: (8, 10, 14, 16, [1, Quantity(value=2.0543043017157916, unit=radian), Quantity(value=1200.0, unit=kilocalorie/mole), 3]), 5: (8, 10, 14, 15, [1, Quantity(value=-0.02223392579985184, unit=radian), Quantity(value=1200.0, unit=kilocalorie/mole), 5]), 6: (18, 10, 14, 17, [1, Quantity(value=2.0255587336734213, unit=radian), Quantity(value=1200.0, unit=kilocalorie/mole), 4]), 7: (18, 10, 14, 16, [1, Quantity(value=-0.07836904940578293, unit=radian), Quantity(value=1200.0, unit=kilocalorie/mole), 3]), 8: (18, 10, 14, 15, [1, Quantity(value=-2.154907276921426, unit=radian), Quantity(value=1200.0, unit=kilocalorie/mole), 5]), 9: (13, 10, 14, 17, [1, Quantity(value=0.007583009583349565, unit=radian), Quantity(value=1200.0, unit=kilocalorie/mole), 4]), 10: (13, 10, 14, 16, [1, Quantity(value=-2.096344773495849, unit=radian), Quantity(value=1200.0, unit=kilocalorie/mole), 3]), 11: (13, 10, 14, 15, [1, Quantity(value=2.1103023061680943, unit=radian), Quantity(value=1200.0, unit=kilocalorie/mole), 5]), 12: (18, 10, 8, 14, [1, Quantity(value=-1.0655064807976995, unit=radian), Quantity(value=1200.0, unit=kilocalorie/mole), 2])}\n",
      "INFO:geometry:neglected angle terms include []\n",
      "INFO:geometry:log probability choice of torsions and atom order: -10.462874742916549\n",
      "INFO:geometry:creating platform, integrators, and contexts; setting growth parameter\n"
     ]
    },
    {
     "name": "stdout",
     "output_type": "stream",
     "text": [
      "making topology proposal\n",
      "generating geometry engine\n",
      "making geometry proposal from ALA to THR\n",
      "conducting subsequent work with the following platform: CUDA\n"
     ]
    },
    {
     "name": "stderr",
     "output_type": "stream",
     "text": [
      "INFO:geometry:setting atoms_with_positions context new positions\n",
      "INFO:geometry:There are 6 new atoms\n",
      "INFO:geometry:\treduced angle potential = 0.002462794086282191.\n"
     ]
    },
    {
     "name": "stdout",
     "output_type": "stream",
     "text": [
      "conducting subsequent work with the following platform: CUDA\n"
     ]
    },
    {
     "name": "stderr",
     "output_type": "stream",
     "text": [
      "INFO:geometry:\treduced angle potential = 2.368313509650312.\n",
      "INFO:geometry:\treduced angle potential = 0.11423804670668047.\n",
      "INFO:geometry:\treduced angle potential = 0.0412920616254721.\n",
      "INFO:geometry:\treduced angle potential = 1.459823375546265.\n",
      "INFO:geometry:\treduced angle potential = 0.26981558425144714.\n",
      "INFO:geometry:\tbeginning construction of no_nonbonded final system...\n",
      "INFO:geometry:\tinitial no-nonbonded final system forces ['HarmonicBondForce', 'HarmonicAngleForce', 'PeriodicTorsionForce', 'NonbondedForce']\n",
      "INFO:geometry:\tfinal no-nonbonded final system forces dict_keys(['HarmonicBondForce', 'HarmonicAngleForce', 'PeriodicTorsionForce', 'NonbondedForce'])\n",
      "INFO:geometry:\tthere are 11 bond forces in the no-nonbonded final system\n",
      "INFO:geometry:\tthere are 43 angle forces in the no-nonbonded final system\n",
      "INFO:geometry:\tthere are 72 torsion forces in the no-nonbonded final system\n",
      "INFO:geometry:forward final system defined with 0 neglected angles.\n"
     ]
    },
    {
     "name": "stdout",
     "output_type": "stream",
     "text": [
      "conducting subsequent work with the following platform: CUDA\n"
     ]
    },
    {
     "name": "stderr",
     "output_type": "stream",
     "text": [
      "INFO:geometry:total reduced potential before atom placement: 16.815513850992346\n"
     ]
    },
    {
     "name": "stdout",
     "output_type": "stream",
     "text": [
      "conducting subsequent work with the following platform: CUDA\n",
      "conducting subsequent work with the following platform: CUDA\n",
      "conducting subsequent work with the following platform: CUDA\n",
      "conducting subsequent work with the following platform: CUDA\n",
      "added energy components: [('CustomBondForce', 0.31388906922751747), ('CustomAngleForce', 8.603609193040532), ('CustomTorsionForce', 9.81464156471797), ('CustomBondForce', -67.71625433795732)]\n"
     ]
    },
    {
     "name": "stderr",
     "output_type": "stream",
     "text": [
      "INFO:geometry:total reduced energy added from growth system: -48.984114510971295\n",
      "INFO:geometry:final reduced energy -32.168599658508306\n",
      "INFO:geometry:sum of energies: -32.16860065997895\n",
      "INFO:geometry:magnitude of difference in the energies: 1.0014706433025822e-06\n",
      "INFO:geometry:Final logp_proposal: 46.320079663786984\n",
      "INFO:geometry:logp_reverse: performing reverse proposal\n",
      "INFO:geometry:logp_reverse: unique new atoms detected; proceeding to _logp_propose...\n",
      "INFO:geometry:Conducting forward proposal...\n",
      "INFO:geometry:Computing proposal order with NetworkX...\n",
      "INFO:geometry:number of atoms to be placed: 2\n",
      "INFO:geometry:Atom index proposal order is [11, 13]\n",
      "INFO:geometry:omitted_bonds: []\n",
      "INFO:geometry:direction of proposal is reverse; creating atoms_with_positions from old system/topology\n",
      "INFO:geometry:creating growth system...\n",
      "INFO:geometry:\tcreating bond force...\n",
      "INFO:geometry:\tthere are 9 bonds in reference force.\n",
      "INFO:geometry:\tcreating angle force...\n",
      "INFO:geometry:\tthere are 36 angles in reference force.\n",
      "INFO:geometry:\tcreating torsion force...\n",
      "INFO:geometry:\tcreating extra torsions force...\n",
      "INFO:geometry:\tthere are 42 torsions in reference force.\n",
      "INFO:geometry:\tcreating nonbonded force...\n",
      "INFO:geometry:\t\tgrabbing reference nonbonded method, cutoff, switching function, switching distance...\n",
      "INFO:geometry:\t\tcreating nonbonded exception force (i.e. custom bond for 1,4s)...\n",
      "INFO:geometry:\t\tlooping through exceptions calculating growth indices, and adding appropriate interactions to custom bond force.\n",
      "INFO:geometry:\t\tthere are 98 in the reference Nonbonded force\n",
      "INFO:geometry:Neglected angle terms : []\n",
      "INFO:geometry:omitted_growth_terms: {'bonds': [], 'angles': [], 'torsions': [], '1,4s': []}\n",
      "INFO:geometry:extra torsions: {0: (6, 8, 10, 11, [1, Quantity(value=2.105358864604291, unit=radian), Quantity(value=1200.0, unit=kilocalorie/mole), 1]), 1: (6, 8, 10, 13, [1, Quantity(value=0.018582237407944735, unit=radian), Quantity(value=1200.0, unit=kilocalorie/mole), 2]), 2: (14, 8, 10, 11, [1, Quantity(value=-0.036945135932107576, unit=radian), Quantity(value=1200.0, unit=kilocalorie/mole), 1]), 3: (14, 8, 10, 13, [1, Quantity(value=-2.1237217631284597, unit=radian), Quantity(value=1200.0, unit=kilocalorie/mole), 2]), 4: (9, 8, 10, 11, [1, Quantity(value=-2.119603470065817, unit=radian), Quantity(value=1200.0, unit=kilocalorie/mole), 1]), 5: (9, 8, 10, 13, [1, Quantity(value=2.0768052099174152, unit=radian), Quantity(value=1200.0, unit=kilocalorie/mole), 2])}\n",
      "INFO:geometry:neglected angle terms include []\n",
      "INFO:geometry:log probability choice of torsions and atom order: -2.8903717578961645\n",
      "INFO:geometry:creating platform, integrators, and contexts; setting growth parameter\n"
     ]
    },
    {
     "name": "stdout",
     "output_type": "stream",
     "text": [
      "conducting subsequent work with the following platform: CUDA\n"
     ]
    },
    {
     "name": "stderr",
     "output_type": "stream",
     "text": [
      "INFO:geometry:setting atoms_with_positions context old positions\n",
      "INFO:geometry:There are 2 new atoms\n",
      "INFO:geometry:\treduced angle potential = 1.2915588460963948e-10.\n"
     ]
    },
    {
     "name": "stdout",
     "output_type": "stream",
     "text": [
      "conducting subsequent work with the following platform: CUDA\n"
     ]
    },
    {
     "name": "stderr",
     "output_type": "stream",
     "text": [
      "INFO:geometry:\treduced angle potential = 7.39096069988752e-11.\n",
      "INFO:geometry:\tbeginning construction of no_nonbonded final system...\n",
      "INFO:geometry:\tinitial no-nonbonded final system forces ['HarmonicBondForce', 'HarmonicAngleForce', 'PeriodicTorsionForce', 'NonbondedForce']\n",
      "INFO:geometry:\tfinal no-nonbonded final system forces dict_keys(['HarmonicBondForce', 'HarmonicAngleForce', 'PeriodicTorsionForce', 'NonbondedForce'])\n",
      "INFO:geometry:\tthere are 9 bond forces in the no-nonbonded final system\n",
      "INFO:geometry:\tthere are 36 angle forces in the no-nonbonded final system\n",
      "INFO:geometry:\tthere are 42 torsion forces in the no-nonbonded final system\n",
      "INFO:geometry:reverse final system defined with 0 neglected angles.\n"
     ]
    },
    {
     "name": "stdout",
     "output_type": "stream",
     "text": [
      "conducting subsequent work with the following platform: CUDA\n"
     ]
    },
    {
     "name": "stderr",
     "output_type": "stream",
     "text": [
      "INFO:geometry:total reduced potential before atom placement: 16.815513850992346\n"
     ]
    },
    {
     "name": "stdout",
     "output_type": "stream",
     "text": [
      "conducting subsequent work with the following platform: CUDA\n",
      "conducting subsequent work with the following platform: CUDA\n",
      "conducting subsequent work with the following platform: CUDA\n",
      "conducting subsequent work with the following platform: CUDA\n",
      "added energy components: [('CustomBondForce', 0.0), ('CustomAngleForce', 0.00017810081214392654), ('CustomTorsionForce', 0.002891174165036068), ('CustomBondForce', 4.777690951809965)]\n"
     ]
    },
    {
     "name": "stderr",
     "output_type": "stream",
     "text": [
      "INFO:geometry:total reduced energy added from growth system: 4.780760226787146\n",
      "INFO:geometry:final reduced energy 21.59627388135083\n",
      "INFO:geometry:sum of energies: 21.59627407777949\n",
      "INFO:geometry:magnitude of difference in the energies: 1.9642866355695787e-07\n",
      "INFO:geometry:Final logp_proposal: -17980.99178064207\n"
     ]
    }
   ],
   "source": [
    "# Create a htf\n",
    "atp, system_generator = generate_atp(phase = 'vacuum')\n",
    "topology_proposal, new_positions, _, _ = generate_dipeptide_top_pos_sys(atp.topology, \n",
    "                               'THR', \n",
    "                               atp.system, \n",
    "                               atp.positions, \n",
    "                               system_generator,\n",
    "                               flatten_torsions=True,\n",
    "                               flatten_exceptions=True,\n",
    "                               validate_endstate_energy=False)"
   ]
  },
  {
   "cell_type": "code",
   "execution_count": 70,
   "id": "d5525ade",
   "metadata": {
    "scrolled": true
   },
   "outputs": [
    {
     "name": "stderr",
     "output_type": "stream",
     "text": [
      "INFO:relative:*** Generating RestCapablePMEHybridTopologyFactory ***\n",
      "INFO:relative:Old system forces: dict_keys(['HarmonicBondForce', 'HarmonicAngleForce', 'PeriodicTorsionForce', 'NonbondedForce'])\n",
      "INFO:relative:New system forces: dict_keys(['HarmonicBondForce', 'HarmonicAngleForce', 'PeriodicTorsionForce', 'NonbondedForce'])\n",
      "INFO:relative:No unknown forces.\n",
      "INFO:relative:Nonbonded method to be used (i.e. from old system): 0\n",
      "INFO:relative:Adding and mapping old atoms to hybrid system...\n",
      "INFO:relative:Adding and mapping new atoms to hybrid system...\n",
      "INFO:relative:No MonteCarloBarostat added.\n",
      "INFO:relative:getDefaultPeriodicBoxVectors added to hybrid: [Quantity(value=Vec3(x=2.0, y=0.0, z=0.0), unit=nanometer), Quantity(value=Vec3(x=0.0, y=2.0, z=0.0), unit=nanometer), Quantity(value=Vec3(x=0.0, y=0.0, z=2.0), unit=nanometer)]\n",
      "INFO:relative:Determined atom classes.\n",
      "INFO:relative:Generating old system exceptions dict...\n",
      "INFO:relative:Generating new system exceptions dict...\n",
      "INFO:relative:Handling constraints...\n",
      "INFO:relative:Handling virtual sites...\n",
      "INFO:relative:\t_handle_virtual_sites: numVirtualSites: 0\n"
     ]
    }
   ],
   "source": [
    "flatten_exceptions = True\n",
    "flatten_torsions = True\n",
    "endstate = None\n",
    "rest_region = list(htf._atom_classes['unique_old_atoms']) + list(htf._atom_classes['unique_new_atoms']) + [10, 12]\n",
    "htf = RestCapablePMEHybridTopologyFactory(topology_proposal=topology_proposal,\n",
    "                     current_positions=atp.positions,\n",
    "                     new_positions=new_positions,\n",
    "                     rest_region=rest_region,\n",
    "                     use_dispersion_correction=False,\n",
    "                     generate_htf_for_testing=True,\n",
    "                     interpolate_old_and_new_14s=flatten_exceptions\n",
    "                    )\n"
   ]
  },
  {
   "cell_type": "code",
   "execution_count": 71,
   "id": "6f7eef63",
   "metadata": {},
   "outputs": [],
   "source": [
    "with open(\"atp_vacuum_scale_region.pickle\", \"wb\") as f:\n",
    "    pickle.dump(htf, f)"
   ]
  },
  {
   "cell_type": "markdown",
   "id": "5e9bd435",
   "metadata": {},
   "source": [
    "#### Old system HarmonicBondForce vs hybrid system CustomBondForce"
   ]
  },
  {
   "cell_type": "code",
   "execution_count": 72,
   "id": "288c11e1",
   "metadata": {},
   "outputs": [],
   "source": [
    "# Load htf\n",
    "with open(\"/home/zhangi/choderalab/perses_benchmark/perses_protein_mutations/code/31_rest_over_protocol/atp_vacuum_scale_region.pickle\", \"rb\") as f:\n",
    "    htf = pickle.load(f)"
   ]
  },
  {
   "cell_type": "code",
   "execution_count": 73,
   "id": "9c194d51",
   "metadata": {
    "scrolled": true
   },
   "outputs": [
    {
     "name": "stdout",
     "output_type": "stream",
     "text": [
      "Warning: Returning CPU platform instead of requested platform <openmm.openmm.Platform; proxy of <Swig Object of type 'OpenMM::Platform *' at 0x2aad8b60ef30> >\n",
      "conducting subsequent work with the following platform: CPU\n",
      "conducting subsequent work with the following platform: CUDA\n",
      "[('HarmonicBondForce', 0.0347836535652138), ('HarmonicAngleForce', 0.6112775462128993), ('PeriodicTorsionForce', 16.285398289983057), ('NonbondedForce', -39.449927745600284), ('AndersenThermostat', 0.0)]\n",
      "conducting subsequent work with the following platform: CUDA\n",
      "[('CustomBondForce', 0.0347836535652138), ('CustomAngleForce', 0.6112775462128993), ('AndersenThermostat', 0.0)]\n",
      "Success! Custom bond force and standard bond force energies are equal!\n",
      "conducting subsequent work with the following platform: CUDA\n",
      "[('CustomBondForce', 0.0347836535652138), ('CustomAngleForce', 0.6112775462128993), ('AndersenThermostat', 0.0)]\n",
      "conducting subsequent work with the following platform: CUDA\n",
      "[('CustomBondForce', 0.03452180595078771), ('CustomAngleForce', 0.6112775462128993), ('AndersenThermostat', 0.0)]\n",
      "Success! Scaling the bond force changes the energy\n"
     ]
    }
   ],
   "source": [
    "test_bond_energies(htf, check_scale=True)"
   ]
  },
  {
   "cell_type": "markdown",
   "id": "0057ce49",
   "metadata": {},
   "source": [
    "#### New system HarmonicBondForce vs hybrid system CustomBondForce"
   ]
  },
  {
   "cell_type": "code",
   "execution_count": 74,
   "id": "1e6a7202",
   "metadata": {},
   "outputs": [],
   "source": [
    "# Load htf\n",
    "with open(\"/home/zhangi/choderalab/perses_benchmark/perses_protein_mutations/code/31_rest_over_protocol/atp_vacuum_scale_region.pickle\", \"rb\") as f:\n",
    "    htf = pickle.load(f)"
   ]
  },
  {
   "cell_type": "code",
   "execution_count": 75,
   "id": "8ccc8c53",
   "metadata": {},
   "outputs": [
    {
     "name": "stdout",
     "output_type": "stream",
     "text": [
      "Warning: Returning CPU platform instead of requested platform <openmm.openmm.Platform; proxy of <Swig Object of type 'OpenMM::Platform *' at 0x2aad8b60ef30> >\n",
      "conducting subsequent work with the following platform: CPU\n",
      "conducting subsequent work with the following platform: CUDA\n",
      "[('HarmonicBondForce', 0.35077936084123806), ('HarmonicAngleForce', 9.272449786711276), ('PeriodicTorsionForce', 26.163000081487677), ('NonbondedForce', 9765.584801666835), ('AndersenThermostat', 0.0)]\n",
      "conducting subsequent work with the following platform: CUDA\n",
      "[('CustomBondForce', 0.35077936084123806), ('CustomAngleForce', 0.6112775462128993), ('AndersenThermostat', 0.0)]\n",
      "Success! Custom bond force and standard bond force energies are equal!\n"
     ]
    }
   ],
   "source": [
    "test_bond_energies(htf, is_old=False)"
   ]
  },
  {
   "cell_type": "markdown",
   "id": "a30a9095",
   "metadata": {},
   "source": [
    "# Alanine dipeptide in solvent"
   ]
  },
  {
   "cell_type": "code",
   "execution_count": 5,
   "id": "f2e0997f",
   "metadata": {
    "scrolled": true
   },
   "outputs": [
    {
     "name": "stderr",
     "output_type": "stream",
     "text": [
      "DEBUG:openmmforcefields.system_generators:Trying GAFFTemplateGenerator to load gaff-2.11\n",
      "INFO:proposal_generator:\tConducting polymer point mutation proposal...\n",
      "WARNING:atom_mapping:Molecules do not appear to share a common scaffold.\n",
      "WARNING:atom_mapping:Proceeding with direct mapping of molecules, but please check atom mapping and the geometry of the ligands.\n",
      "INFO:proposal_generator:[Atom(name=CB, atomic number=6), Atom(name=HB1, atomic number=1), Atom(name=HB2, atomic number=1), Atom(name=HB3, atomic number=1)]\n",
      "INFO:proposal_generator:[Atom(name=CB, atomic number=6), Atom(name=CG2, atomic number=6), Atom(name=OG1, atomic number=8), Atom(name=HB, atomic number=1), Atom(name=HG1, atomic number=1), Atom(name=HG21, atomic number=1), Atom(name=HG22, atomic number=1), Atom(name=HG23, atomic number=1)]\n",
      "INFO:geometry:propose: performing forward proposal\n",
      "INFO:geometry:propose: unique new atoms detected; proceeding to _logp_propose...\n",
      "INFO:geometry:Conducting forward proposal...\n",
      "INFO:geometry:Computing proposal order with NetworkX...\n",
      "INFO:geometry:number of atoms to be placed: 6\n",
      "INFO:geometry:Atom index proposal order is [14, 18, 17, 19, 15, 16]\n",
      "INFO:geometry:omitted_bonds: []\n",
      "INFO:geometry:direction of proposal is forward; creating atoms_with_positions and new positions from old system/topology...\n"
     ]
    },
    {
     "name": "stdout",
     "output_type": "stream",
     "text": [
      "making topology proposal\n",
      "generating geometry engine\n",
      "making geometry proposal from ALA to THR\n"
     ]
    },
    {
     "name": "stderr",
     "output_type": "stream",
     "text": [
      "INFO:geometry:creating growth system...\n",
      "INFO:geometry:\tcreating bond force...\n",
      "INFO:geometry:\tthere are 11 bonds in reference force.\n",
      "INFO:geometry:\tcreating angle force...\n",
      "INFO:geometry:\tthere are 43 angles in reference force.\n",
      "INFO:geometry:\tcreating torsion force...\n",
      "INFO:geometry:\tcreating extra torsions force...\n",
      "INFO:geometry:\tthere are 72 torsions in reference force.\n",
      "INFO:geometry:\tcreating nonbonded force...\n",
      "INFO:geometry:\t\tgrabbing reference nonbonded method, cutoff, switching function, switching distance...\n",
      "INFO:geometry:\t\tcreating nonbonded exception force (i.e. custom bond for 1,4s)...\n",
      "INFO:geometry:\t\tlooping through exceptions calculating growth indices, and adding appropriate interactions to custom bond force.\n",
      "INFO:geometry:\t\tthere are 1654 in the reference Nonbonded force\n",
      "INFO:geometry:Neglected angle terms : []\n",
      "INFO:geometry:omitted_growth_terms: {'bonds': [], 'angles': [], 'torsions': [], '1,4s': []}\n",
      "INFO:geometry:extra torsions: {0: (19, 18, 10, 8, [1, Quantity(value=-0.07858019216845058, unit=radian), Quantity(value=1200.0, unit=kilocalorie/mole), 4]), 1: (19, 18, 10, 14, [1, Quantity(value=2.118586571250296, unit=radian), Quantity(value=1200.0, unit=kilocalorie/mole), 4]), 2: (19, 18, 10, 13, [1, Quantity(value=-2.149781203448759, unit=radian), Quantity(value=1200.0, unit=kilocalorie/mole), 4]), 3: (8, 10, 14, 17, [1, Quantity(value=-2.1249532223845904, unit=radian), Quantity(value=1200.0, unit=kilocalorie/mole), 3]), 4: (8, 10, 14, 16, [1, Quantity(value=2.0543043017157916, unit=radian), Quantity(value=1200.0, unit=kilocalorie/mole), 6]), 5: (8, 10, 14, 15, [1, Quantity(value=-0.02223392579985184, unit=radian), Quantity(value=1200.0, unit=kilocalorie/mole), 5]), 6: (18, 10, 14, 17, [1, Quantity(value=2.0255587336734213, unit=radian), Quantity(value=1200.0, unit=kilocalorie/mole), 3]), 7: (18, 10, 14, 16, [1, Quantity(value=-0.07836904940578293, unit=radian), Quantity(value=1200.0, unit=kilocalorie/mole), 6]), 8: (18, 10, 14, 15, [1, Quantity(value=-2.154907276921426, unit=radian), Quantity(value=1200.0, unit=kilocalorie/mole), 5]), 9: (13, 10, 14, 17, [1, Quantity(value=0.007583009583349565, unit=radian), Quantity(value=1200.0, unit=kilocalorie/mole), 3]), 10: (13, 10, 14, 16, [1, Quantity(value=-2.096344773495849, unit=radian), Quantity(value=1200.0, unit=kilocalorie/mole), 6]), 11: (13, 10, 14, 15, [1, Quantity(value=2.1103023061680943, unit=radian), Quantity(value=1200.0, unit=kilocalorie/mole), 5]), 12: (14, 10, 8, 18, [1, Quantity(value=1.0655064807976995, unit=radian), Quantity(value=1200.0, unit=kilocalorie/mole), 2])}\n",
      "INFO:geometry:neglected angle terms include []\n",
      "INFO:geometry:log probability choice of torsions and atom order: -10.462874742916549\n",
      "INFO:geometry:creating platform, integrators, and contexts; setting growth parameter\n",
      "INFO:geometry:setting atoms_with_positions context new positions\n",
      "INFO:geometry:There are 6 new atoms\n",
      "INFO:geometry:\treduced angle potential = 0.05737229161324998.\n",
      "INFO:geometry:\treduced angle potential = 1.285517547001525.\n",
      "INFO:geometry:\treduced angle potential = 0.07591885783945028.\n",
      "INFO:geometry:\treduced angle potential = 0.20241665112519133.\n",
      "INFO:geometry:\treduced angle potential = 5.2742901606985976e-06.\n",
      "INFO:geometry:\treduced angle potential = 2.571427756689248.\n",
      "INFO:geometry:\tbeginning construction of no_nonbonded final system...\n",
      "INFO:geometry:\tinitial no-nonbonded final system forces ['HarmonicBondForce', 'HarmonicAngleForce', 'PeriodicTorsionForce', 'NonbondedForce', 'MonteCarloBarostat']\n"
     ]
    },
    {
     "name": "stdout",
     "output_type": "stream",
     "text": [
      "Desired platform not supported. exception raised: Error initializing CUDA: CUDA_ERROR_NO_DEVICE (100) at /home/conda/build_artifacts/openmm_1629263119354/work/platforms/cuda/src/CudaContext.cpp:138\n",
      "Warning: Returning Reference platform instead of requested platform CUDA\n",
      "conducting subsequent work with the following platform: Reference\n",
      "conducting subsequent work with the following platform: CPU\n"
     ]
    },
    {
     "name": "stderr",
     "output_type": "stream",
     "text": [
      "INFO:geometry:\tfinal no-nonbonded final system forces dict_keys(['HarmonicBondForce', 'HarmonicAngleForce', 'PeriodicTorsionForce', 'NonbondedForce'])\n",
      "INFO:geometry:\tthere are 11 bond forces in the no-nonbonded final system\n",
      "INFO:geometry:\tthere are 43 angle forces in the no-nonbonded final system\n",
      "INFO:geometry:\tthere are 72 torsion forces in the no-nonbonded final system\n",
      "INFO:geometry:forward final system defined with 0 neglected angles.\n"
     ]
    },
    {
     "name": "stdout",
     "output_type": "stream",
     "text": [
      "conducting subsequent work with the following platform: CPU\n"
     ]
    },
    {
     "name": "stderr",
     "output_type": "stream",
     "text": [
      "INFO:geometry:total reduced potential before atom placement: 16.815513985240173\n",
      "INFO:geometry:total reduced energy added from growth system: -51.86786960410674\n",
      "INFO:geometry:final reduced energy -35.05235647603251\n",
      "INFO:geometry:sum of energies: -35.052355618866564\n",
      "INFO:geometry:magnitude of difference in the energies: 8.571659435574475e-07\n",
      "INFO:geometry:Final logp_proposal: 46.53532668307194\n",
      "INFO:geometry:logp_reverse: performing reverse proposal\n",
      "INFO:geometry:logp_reverse: unique new atoms detected; proceeding to _logp_propose...\n",
      "INFO:geometry:Conducting forward proposal...\n",
      "INFO:geometry:Computing proposal order with NetworkX...\n",
      "INFO:geometry:number of atoms to be placed: 2\n",
      "INFO:geometry:Atom index proposal order is [12, 13]\n",
      "INFO:geometry:omitted_bonds: []\n",
      "INFO:geometry:direction of proposal is reverse; creating atoms_with_positions from old system/topology\n"
     ]
    },
    {
     "name": "stdout",
     "output_type": "stream",
     "text": [
      "conducting subsequent work with the following platform: CPU\n",
      "conducting subsequent work with the following platform: CPU\n",
      "Desired platform not supported. exception raised: Error initializing CUDA: CUDA_ERROR_NO_DEVICE (100) at /home/conda/build_artifacts/openmm_1629263119354/work/platforms/cuda/src/CudaContext.cpp:138\n",
      "Warning: Returning Reference platform instead of requested platform CUDA\n",
      "conducting subsequent work with the following platform: Reference\n",
      "conducting subsequent work with the following platform: CPU\n",
      "added energy components: [('CustomBondForce', 0.5978518668881), ('CustomAngleForce', 5.416667964161844), ('CustomTorsionForce', 10.345145951898028), ('CustomBondForce', -68.22753538705471)]\n"
     ]
    },
    {
     "name": "stderr",
     "output_type": "stream",
     "text": [
      "INFO:geometry:creating growth system...\n",
      "INFO:geometry:\tcreating bond force...\n",
      "INFO:geometry:\tthere are 9 bonds in reference force.\n",
      "INFO:geometry:\tcreating angle force...\n",
      "INFO:geometry:\tthere are 36 angles in reference force.\n",
      "INFO:geometry:\tcreating torsion force...\n",
      "INFO:geometry:\tcreating extra torsions force...\n",
      "INFO:geometry:\tthere are 42 torsions in reference force.\n",
      "INFO:geometry:\tcreating nonbonded force...\n",
      "INFO:geometry:\t\tgrabbing reference nonbonded method, cutoff, switching function, switching distance...\n",
      "INFO:geometry:\t\tcreating nonbonded exception force (i.e. custom bond for 1,4s)...\n",
      "INFO:geometry:\t\tlooping through exceptions calculating growth indices, and adding appropriate interactions to custom bond force.\n",
      "INFO:geometry:\t\tthere are 1631 in the reference Nonbonded force\n",
      "INFO:geometry:Neglected angle terms : []\n",
      "INFO:geometry:omitted_growth_terms: {'bonds': [], 'angles': [], 'torsions': [], '1,4s': []}\n",
      "INFO:geometry:extra torsions: {0: (6, 8, 10, 12, [1, Quantity(value=-2.0823006129211796, unit=radian), Quantity(value=1200.0, unit=kilocalorie/mole), 1]), 1: (6, 8, 10, 13, [1, Quantity(value=0.018582237407944735, unit=radian), Quantity(value=1200.0, unit=kilocalorie/mole), 2]), 2: (14, 8, 10, 12, [1, Quantity(value=2.0585806937220097, unit=radian), Quantity(value=1200.0, unit=kilocalorie/mole), 1]), 3: (14, 8, 10, 13, [1, Quantity(value=-2.1237217631284597, unit=radian), Quantity(value=1200.0, unit=kilocalorie/mole), 2]), 4: (9, 8, 10, 12, [1, Quantity(value=-0.024077640411697132, unit=radian), Quantity(value=1200.0, unit=kilocalorie/mole), 1]), 5: (9, 8, 10, 13, [1, Quantity(value=2.0768052099174152, unit=radian), Quantity(value=1200.0, unit=kilocalorie/mole), 2])}\n",
      "INFO:geometry:neglected angle terms include []\n",
      "INFO:geometry:log probability choice of torsions and atom order: -2.8903717578961645\n",
      "INFO:geometry:creating platform, integrators, and contexts; setting growth parameter\n",
      "INFO:geometry:setting atoms_with_positions context old positions\n",
      "INFO:geometry:There are 2 new atoms\n",
      "INFO:geometry:\treduced angle potential = 3.2058324695160406e-13.\n",
      "INFO:geometry:\treduced angle potential = 7.39096069988752e-11.\n",
      "INFO:geometry:\tbeginning construction of no_nonbonded final system...\n",
      "INFO:geometry:\tinitial no-nonbonded final system forces ['HarmonicBondForce', 'HarmonicAngleForce', 'PeriodicTorsionForce', 'NonbondedForce', 'MonteCarloBarostat']\n",
      "INFO:geometry:\tfinal no-nonbonded final system forces dict_keys(['HarmonicBondForce', 'HarmonicAngleForce', 'PeriodicTorsionForce', 'NonbondedForce'])\n",
      "INFO:geometry:\tthere are 9 bond forces in the no-nonbonded final system\n",
      "INFO:geometry:\tthere are 36 angle forces in the no-nonbonded final system\n",
      "INFO:geometry:\tthere are 42 torsion forces in the no-nonbonded final system\n",
      "INFO:geometry:reverse final system defined with 0 neglected angles.\n"
     ]
    },
    {
     "name": "stdout",
     "output_type": "stream",
     "text": [
      "Desired platform not supported. exception raised: Error initializing CUDA: CUDA_ERROR_NO_DEVICE (100) at /home/conda/build_artifacts/openmm_1629263119354/work/platforms/cuda/src/CudaContext.cpp:138\n",
      "Warning: Returning Reference platform instead of requested platform CUDA\n",
      "conducting subsequent work with the following platform: Reference\n",
      "conducting subsequent work with the following platform: CPU\n"
     ]
    },
    {
     "name": "stderr",
     "output_type": "stream",
     "text": [
      "INFO:geometry:total reduced potential before atom placement: 16.815513985240173\n",
      "INFO:geometry:total reduced energy added from growth system: 5.747545172611741\n",
      "INFO:geometry:final reduced energy 22.563059220440383\n",
      "INFO:geometry:sum of energies: 22.563059157851914\n",
      "INFO:geometry:magnitude of difference in the energies: 6.258846951823216e-08\n",
      "INFO:geometry:Final logp_proposal: -17765.61580635068\n"
     ]
    },
    {
     "name": "stdout",
     "output_type": "stream",
     "text": [
      "conducting subsequent work with the following platform: CPU\n",
      "conducting subsequent work with the following platform: CPU\n",
      "conducting subsequent work with the following platform: CPU\n",
      "Desired platform not supported. exception raised: Error initializing CUDA: CUDA_ERROR_NO_DEVICE (100) at /home/conda/build_artifacts/openmm_1629263119354/work/platforms/cuda/src/CudaContext.cpp:138\n",
      "Warning: Returning Reference platform instead of requested platform CUDA\n",
      "conducting subsequent work with the following platform: Reference\n",
      "conducting subsequent work with the following platform: CPU\n",
      "added energy components: [('CustomBondForce', 0.0), ('CustomAngleForce', 0.00017809240723536907), ('CustomTorsionForce', 0.0028911445554170986), ('CustomBondForce', 5.744475935649088)]\n"
     ]
    }
   ],
   "source": [
    "# Create a htf\n",
    "atp, system_generator = generate_atp(phase = 'solvent')\n",
    "topology_proposal, new_positions, _, _ = generate_dipeptide_top_pos_sys(atp.topology, \n",
    "                               'THR', \n",
    "                               atp.system, \n",
    "                               atp.positions, \n",
    "                               system_generator,\n",
    "                               flatten_torsions=True,\n",
    "                               flatten_exceptions=True,\n",
    "                               validate_endstate_energy=False)"
   ]
  },
  {
   "cell_type": "code",
   "execution_count": 6,
   "id": "39e5ec07",
   "metadata": {},
   "outputs": [
    {
     "name": "stderr",
     "output_type": "stream",
     "text": [
      "INFO:relative:*** Generating RestCapablePMEHybridTopologyFactory ***\n",
      "INFO:relative:Old system forces: dict_keys(['HarmonicBondForce', 'HarmonicAngleForce', 'PeriodicTorsionForce', 'NonbondedForce', 'MonteCarloBarostat'])\n",
      "INFO:relative:New system forces: dict_keys(['HarmonicBondForce', 'HarmonicAngleForce', 'PeriodicTorsionForce', 'NonbondedForce', 'MonteCarloBarostat'])\n",
      "INFO:relative:No unknown forces.\n",
      "INFO:relative:Nonbonded method to be used (i.e. from old system): 4\n",
      "INFO:relative:Adding and mapping old atoms to hybrid system...\n",
      "INFO:relative:Adding and mapping new atoms to hybrid system...\n",
      "INFO:relative:Added MonteCarloBarostat.\n",
      "INFO:relative:getDefaultPeriodicBoxVectors added to hybrid: [Quantity(value=Vec3(x=2.56477354, y=0.0, z=0.0), unit=nanometer), Quantity(value=Vec3(x=0.0, y=2.56477354, z=0.0), unit=nanometer), Quantity(value=Vec3(x=0.0, y=0.0, z=2.56477354), unit=nanometer)]\n",
      "INFO:relative:Determined atom classes.\n",
      "INFO:relative:Generating old system exceptions dict...\n",
      "INFO:relative:Generating new system exceptions dict...\n",
      "INFO:relative:Handling constraints...\n",
      "INFO:relative:Handling virtual sites...\n",
      "INFO:relative:\t_handle_virtual_sites: numVirtualSites: 0\n"
     ]
    }
   ],
   "source": [
    "flatten_exceptions = True\n",
    "flatten_torsions = True\n",
    "endstate = None\n",
    "rest_region = None\n",
    "htf = RestCapablePMEHybridTopologyFactory(topology_proposal=topology_proposal,\n",
    "                     current_positions=atp.positions,\n",
    "                     new_positions=new_positions,\n",
    "                     rest_region=rest_region,\n",
    "                     use_dispersion_correction=False,\n",
    "                     generate_htf_for_testing=True,\n",
    "                     interpolate_old_and_new_14s=flatten_exceptions\n",
    "                    )"
   ]
  },
  {
   "cell_type": "code",
   "execution_count": 7,
   "id": "d42924fd",
   "metadata": {},
   "outputs": [],
   "source": [
    "with open(\"atp_solvent.pickle\", \"wb\") as f:\n",
    "    pickle.dump(htf, f)"
   ]
  },
  {
   "cell_type": "markdown",
   "id": "88966f3e",
   "metadata": {},
   "source": [
    "### Check that the reciprocal space is working as expected for ala dipeptide in solvent"
   ]
  },
  {
   "cell_type": "code",
   "execution_count": 4,
   "id": "8f7faed2",
   "metadata": {},
   "outputs": [],
   "source": [
    "from simtk.openmm import XmlSerializer\n"
   ]
  },
  {
   "cell_type": "code",
   "execution_count": 3,
   "id": "27141c8a",
   "metadata": {},
   "outputs": [],
   "source": [
    "with open(\"atp_solvent.pickle\", \"rb\") as f:\n",
    "    htf = pickle.load(f)"
   ]
  },
  {
   "cell_type": "code",
   "execution_count": 5,
   "id": "f2976d25",
   "metadata": {},
   "outputs": [],
   "source": [
    "with open('system.xml', 'w') as outfile:\n",
    "    system_xml = XmlSerializer.serialize(htf.hybrid_system)\n",
    "    outfile.write(system_xml)"
   ]
  },
  {
   "cell_type": "code",
   "execution_count": 8,
   "id": "e757a3f6",
   "metadata": {},
   "outputs": [],
   "source": [
    "from simtk.openmm import VerletIntegrator"
   ]
  },
  {
   "cell_type": "code",
   "execution_count": 36,
   "id": "75397af0",
   "metadata": {},
   "outputs": [
    {
     "data": {
      "text/plain": [
       "[<openmm.openmm.HarmonicBondForce; proxy of <Swig Object of type 'OpenMM::HarmonicBondForce *' at 0x2abab3598b40> >,\n",
       " <openmm.openmm.HarmonicAngleForce; proxy of <Swig Object of type 'OpenMM::HarmonicAngleForce *' at 0x2abab3598ae0> >,\n",
       " <openmm.openmm.PeriodicTorsionForce; proxy of <Swig Object of type 'OpenMM::PeriodicTorsionForce *' at 0x2abab3598e70> >,\n",
       " <openmm.openmm.NonbondedForce; proxy of <Swig Object of type 'OpenMM::NonbondedForce *' at 0x2abab3598300> >,\n",
       " <openmm.openmm.MonteCarloBarostat; proxy of <Swig Object of type 'OpenMM::MonteCarloBarostat *' at 0x2abab3598e10> >]"
      ]
     },
     "execution_count": 36,
     "metadata": {},
     "output_type": "execute_result"
    }
   ],
   "source": [
    "htf._topology_proposal.old_system.getForces()"
   ]
  },
  {
   "cell_type": "code",
   "execution_count": 37,
   "id": "6bbcb75e",
   "metadata": {},
   "outputs": [],
   "source": [
    "# Delete all forces except the nb force\n",
    "htf._topology_proposal.old_system.removeForce(4)\n",
    "htf._topology_proposal.old_system.removeForce(2)\n",
    "htf._topology_proposal.old_system.removeForce(1)\n",
    "htf._topology_proposal.old_system.removeForce(0)"
   ]
  },
  {
   "cell_type": "code",
   "execution_count": 38,
   "id": "a46e27ad",
   "metadata": {},
   "outputs": [
    {
     "data": {
      "text/plain": [
       "[<openmm.openmm.NonbondedForce; proxy of <Swig Object of type 'OpenMM::NonbondedForce *' at 0x2abab36303f0> >]"
      ]
     },
     "execution_count": 38,
     "metadata": {},
     "output_type": "execute_result"
    }
   ],
   "source": [
    "htf._topology_proposal.old_system.getForces()"
   ]
  },
  {
   "cell_type": "code",
   "execution_count": 39,
   "id": "1a7f39cc",
   "metadata": {},
   "outputs": [],
   "source": [
    "# Set the reciprocal space force group to 1\n",
    "htf._topology_proposal.old_system.getForce(0).setReciprocalSpaceForceGroup(1)"
   ]
  },
  {
   "cell_type": "code",
   "execution_count": 40,
   "id": "b1fc4f1f",
   "metadata": {},
   "outputs": [
    {
     "data": {
      "text/plain": [
       "0"
      ]
     },
     "execution_count": 40,
     "metadata": {},
     "output_type": "execute_result"
    }
   ],
   "source": [
    "# Check that the direct space force group is 0\n",
    "htf._topology_proposal.old_system.getForce(0).getForceGroup()"
   ]
  },
  {
   "cell_type": "code",
   "execution_count": 41,
   "id": "118d442e",
   "metadata": {},
   "outputs": [
    {
     "data": {
      "text/plain": [
       "1"
      ]
     },
     "execution_count": 41,
     "metadata": {},
     "output_type": "execute_result"
    }
   ],
   "source": [
    "# Check that the reciprocal space force group is 1\n",
    "htf._topology_proposal.old_system.getForce(0).getReciprocalSpaceForceGroup()"
   ]
  },
  {
   "cell_type": "code",
   "execution_count": null,
   "id": "92d65ed4",
   "metadata": {},
   "outputs": [],
   "source": []
  },
  {
   "cell_type": "code",
   "execution_count": 9,
   "id": "949876c3",
   "metadata": {},
   "outputs": [
    {
     "data": {
      "text/plain": [
       "Quantity(value=-2317.135130805541, unit=kilojoule/mole)"
      ]
     },
     "execution_count": 9,
     "metadata": {},
     "output_type": "execute_result"
    }
   ],
   "source": [
    "# Check the potential energy of the nb force (total energy)\n",
    "integrator = VerletIntegrator(0.001)\n",
    "context = openmm.Context(htf._topology_proposal.old_system, integrator)\n",
    "context.setPositions(htf.old_positions(htf.hybrid_positions))\n",
    "context.getState(getEnergy=True).getPotentialEnergy()"
   ]
  },
  {
   "cell_type": "code",
   "execution_count": 11,
   "id": "90c1968b",
   "metadata": {},
   "outputs": [],
   "source": [
    "# Check the potential energy of the nb force (total energy)\n",
    "integrator = VerletIntegrator(0.001)\n",
    "context = openmm.Context(htf._topology_proposal.old_system, integrator)\n",
    "context.setPositions(htf.old_positions(htf.hybrid_positions))\n",
    "state = context.getState(getPositions=True)"
   ]
  },
  {
   "cell_type": "code",
   "execution_count": 12,
   "id": "fd3a9bfe",
   "metadata": {},
   "outputs": [],
   "source": [
    "with open('state.xml', 'w') as outfile:\n",
    "    state_xml = XmlSerializer.serialize(state)\n",
    "    outfile.write(state_xml)"
   ]
  },
  {
   "cell_type": "code",
   "execution_count": 13,
   "id": "1972fd70",
   "metadata": {},
   "outputs": [],
   "source": [
    "with open(\"topology.pickle\", \"wb\") as f:\n",
    "    pickle.dump(htf.hybrid_topology, f)"
   ]
  },
  {
   "cell_type": "code",
   "execution_count": 43,
   "id": "fd779e76",
   "metadata": {},
   "outputs": [
    {
     "data": {
      "text/plain": [
       "Quantity(value=119792.39420779605, unit=kilojoule/mole)"
      ]
     },
     "execution_count": 43,
     "metadata": {},
     "output_type": "execute_result"
    }
   ],
   "source": [
    "# Check the potential energy of the direct space of the nb force \n",
    "integrator = VerletIntegrator(0.001)\n",
    "context = openmm.Context(htf._topology_proposal.old_system, integrator)\n",
    "context.setPositions(htf.old_positions(htf.hybrid_positions))\n",
    "context.getState(getEnergy=True, groups=set([0])).getPotentialEnergy()"
   ]
  },
  {
   "cell_type": "code",
   "execution_count": 44,
   "id": "b1f144fb",
   "metadata": {},
   "outputs": [
    {
     "data": {
      "text/plain": [
       "Quantity(value=-122153.15459813026, unit=kilojoule/mole)"
      ]
     },
     "execution_count": 44,
     "metadata": {},
     "output_type": "execute_result"
    }
   ],
   "source": [
    "# Check the potential energy of the reciprocal space of the nb force \n",
    "integrator = VerletIntegrator(0.001)\n",
    "context = openmm.Context(htf._topology_proposal.old_system, integrator)\n",
    "context.setPositions(htf.old_positions(htf.hybrid_positions))\n",
    "context.getState(getEnergy=True, groups=set([1])).getPotentialEnergy()"
   ]
  },
  {
   "cell_type": "code",
   "execution_count": 45,
   "id": "ca39198a",
   "metadata": {},
   "outputs": [
    {
     "data": {
      "text/plain": [
       "-2360.7603822039528"
      ]
     },
     "execution_count": 45,
     "metadata": {},
     "output_type": "execute_result"
    }
   ],
   "source": [
    "# Check that the direct space + reciprocal space = total energy\n",
    "119792.39420779605 + -122153.15459"
   ]
  },
  {
   "cell_type": "code",
   "execution_count": 46,
   "id": "d7a5c0b9",
   "metadata": {},
   "outputs": [],
   "source": [
    "# Now disable the direct space\n",
    "htf._topology_proposal.old_system.getForce(0).setIncludeDirectSpace(False)"
   ]
  },
  {
   "cell_type": "code",
   "execution_count": 48,
   "id": "e433568f",
   "metadata": {},
   "outputs": [
    {
     "data": {
      "text/plain": [
       "Quantity(value=-122153.15459813026, unit=kilojoule/mole)"
      ]
     },
     "execution_count": 48,
     "metadata": {},
     "output_type": "execute_result"
    }
   ],
   "source": [
    "# Check that the energy of the system with direct space enabled is the same as the energy of force group 1\n",
    "integrator = VerletIntegrator(0.001)\n",
    "context = openmm.Context(htf._topology_proposal.old_system, integrator)\n",
    "context.setPositions(htf.old_positions(htf.hybrid_positions))\n",
    "context.getState(getEnergy=True).getPotentialEnergy()"
   ]
  },
  {
   "cell_type": "markdown",
   "id": "d6ef38ac",
   "metadata": {},
   "source": [
    "### Test one alchemical region, no rest regions"
   ]
  },
  {
   "cell_type": "markdown",
   "id": "5c908dfd",
   "metadata": {},
   "source": [
    "#### Old system HarmonicBondForce vs hybrid system CustomBondForce"
   ]
  },
  {
   "cell_type": "code",
   "execution_count": 53,
   "id": "0033103c",
   "metadata": {},
   "outputs": [],
   "source": [
    "# Load htf\n",
    "with open(\"/home/zhangi/choderalab/perses_benchmark/perses_protein_mutations/code/31_rest_over_protocol/atp_solvent.pickle\", \"rb\") as f:\n",
    "    htf = pickle.load(f)"
   ]
  },
  {
   "cell_type": "code",
   "execution_count": 54,
   "id": "fea5843b",
   "metadata": {},
   "outputs": [
    {
     "name": "stdout",
     "output_type": "stream",
     "text": [
      "Warning: Returning CPU platform instead of requested platform <openmm.openmm.Platform; proxy of <Swig Object of type 'OpenMM::Platform *' at 0x2aad8b60ef30> >\n",
      "conducting subsequent work with the following platform: CPU\n",
      "conducting subsequent work with the following platform: CUDA\n",
      "[('HarmonicBondForce', 0.03478365356521467), ('HarmonicAngleForce', 0.6112775462129013), ('PeriodicTorsionForce', 16.285398289983075), ('NonbondedForce', -913.4899398562932), ('AndersenThermostat', 0.0), ('MonteCarloBarostat', 0.0)]\n",
      "conducting subsequent work with the following platform: CUDA\n",
      "[('CustomBondForce', 0.0347836535652138), ('CustomAngleForce', 0.6112775462128993), ('AndersenThermostat', 0.0), ('MonteCarloBarostat', 0.0)]\n",
      "Success! Custom bond force and standard bond force energies are equal!\n"
     ]
    }
   ],
   "source": [
    "test_bond_energies(htf, is_solvated=True)"
   ]
  },
  {
   "cell_type": "markdown",
   "id": "dc4b7b1d",
   "metadata": {},
   "source": [
    "#### New system HarmonicBondForce vs hybrid system CustomBondForce"
   ]
  },
  {
   "cell_type": "code",
   "execution_count": 55,
   "id": "9f9cbe99",
   "metadata": {},
   "outputs": [],
   "source": [
    "# Load htf\n",
    "with open(\"/home/zhangi/choderalab/perses_benchmark/perses_protein_mutations/code/31_rest_over_protocol/atp_solvent.pickle\", \"rb\") as f:\n",
    "    htf = pickle.load(f)"
   ]
  },
  {
   "cell_type": "code",
   "execution_count": 56,
   "id": "5c16c96c",
   "metadata": {},
   "outputs": [
    {
     "name": "stdout",
     "output_type": "stream",
     "text": [
      "Warning: Returning CPU platform instead of requested platform <openmm.openmm.Platform; proxy of <Swig Object of type 'OpenMM::Platform *' at 0x2aad8b60ef30> >\n",
      "conducting subsequent work with the following platform: CPU\n",
      "conducting subsequent work with the following platform: CUDA\n",
      "[('HarmonicBondForce', 0.5354578445848086), ('HarmonicAngleForce', 7.390279777724092), ('PeriodicTorsionForce', 26.146835612586532), ('NonbondedForce', -573.4656458412903), ('AndersenThermostat', 0.0), ('MonteCarloBarostat', 0.0)]\n",
      "conducting subsequent work with the following platform: CUDA\n",
      "[('CustomBondForce', 0.5354578445848076), ('CustomAngleForce', 0.6112775462128993), ('AndersenThermostat', 0.0), ('MonteCarloBarostat', 0.0)]\n",
      "Success! Custom bond force and standard bond force energies are equal!\n"
     ]
    }
   ],
   "source": [
    "test_bond_energies(htf, is_old=False, is_solvated=True)"
   ]
  },
  {
   "cell_type": "markdown",
   "id": "d907a68d",
   "metadata": {},
   "source": [
    "### Test one alchemical region, one rest region"
   ]
  },
  {
   "cell_type": "code",
   "execution_count": 76,
   "id": "044a3f4d",
   "metadata": {},
   "outputs": [],
   "source": [
    "rest_region = list(htf._atom_classes['unique_old_atoms']) + list(htf._atom_classes['unique_new_atoms']) + [10, 12]"
   ]
  },
  {
   "cell_type": "code",
   "execution_count": 77,
   "id": "167036cc",
   "metadata": {
    "scrolled": true
   },
   "outputs": [
    {
     "name": "stderr",
     "output_type": "stream",
     "text": [
      "DEBUG:openmmforcefields.system_generators:Trying GAFFTemplateGenerator to load gaff-2.11\n",
      "INFO:proposal_generator:\tConducting polymer point mutation proposal...\n",
      "WARNING:atom_mapping:Molecules do not appear to share a common scaffold.\n",
      "WARNING:atom_mapping:Proceeding with direct mapping of molecules, but please check atom mapping and the geometry of the ligands.\n",
      "INFO:proposal_generator:[Atom(name=CB, atomic number=6), Atom(name=HB1, atomic number=1), Atom(name=HB2, atomic number=1), Atom(name=HB3, atomic number=1)]\n",
      "INFO:proposal_generator:[Atom(name=CB, atomic number=6), Atom(name=CG2, atomic number=6), Atom(name=OG1, atomic number=8), Atom(name=HB, atomic number=1), Atom(name=HG1, atomic number=1), Atom(name=HG21, atomic number=1), Atom(name=HG22, atomic number=1), Atom(name=HG23, atomic number=1)]\n",
      "INFO:geometry:propose: performing forward proposal\n",
      "INFO:geometry:propose: unique new atoms detected; proceeding to _logp_propose...\n",
      "INFO:geometry:Conducting forward proposal...\n",
      "INFO:geometry:Computing proposal order with NetworkX...\n",
      "INFO:geometry:number of atoms to be placed: 6\n"
     ]
    },
    {
     "name": "stdout",
     "output_type": "stream",
     "text": [
      "making topology proposal\n",
      "generating geometry engine\n",
      "making geometry proposal from ALA to THR\n"
     ]
    },
    {
     "name": "stderr",
     "output_type": "stream",
     "text": [
      "INFO:geometry:Atom index proposal order is [14, 18, 15, 16, 19, 17]\n",
      "INFO:geometry:omitted_bonds: []\n",
      "INFO:geometry:direction of proposal is forward; creating atoms_with_positions and new positions from old system/topology...\n",
      "INFO:geometry:creating growth system...\n",
      "INFO:geometry:\tcreating bond force...\n",
      "INFO:geometry:\tthere are 11 bonds in reference force.\n",
      "INFO:geometry:\tcreating angle force...\n",
      "INFO:geometry:\tthere are 43 angles in reference force.\n",
      "INFO:geometry:\tcreating torsion force...\n",
      "INFO:geometry:\tcreating extra torsions force...\n",
      "INFO:geometry:\tthere are 72 torsions in reference force.\n",
      "INFO:geometry:\tcreating nonbonded force...\n",
      "INFO:geometry:\t\tgrabbing reference nonbonded method, cutoff, switching function, switching distance...\n",
      "INFO:geometry:\t\tcreating nonbonded exception force (i.e. custom bond for 1,4s)...\n",
      "INFO:geometry:\t\tlooping through exceptions calculating growth indices, and adding appropriate interactions to custom bond force.\n",
      "INFO:geometry:\t\tthere are 1654 in the reference Nonbonded force\n",
      "INFO:geometry:Neglected angle terms : []\n",
      "INFO:geometry:omitted_growth_terms: {'bonds': [], 'angles': [], 'torsions': [], '1,4s': []}\n",
      "INFO:geometry:extra torsions: {0: (19, 18, 10, 8, [1, Quantity(value=-0.07858019216845058, unit=radian), Quantity(value=1200.0, unit=kilocalorie/mole), 5]), 1: (19, 18, 10, 14, [1, Quantity(value=2.118586571250296, unit=radian), Quantity(value=1200.0, unit=kilocalorie/mole), 5]), 2: (19, 18, 10, 13, [1, Quantity(value=-2.149781203448759, unit=radian), Quantity(value=1200.0, unit=kilocalorie/mole), 5]), 3: (8, 10, 14, 17, [1, Quantity(value=-2.1249532223845904, unit=radian), Quantity(value=1200.0, unit=kilocalorie/mole), 6]), 4: (8, 10, 14, 16, [1, Quantity(value=2.0543043017157916, unit=radian), Quantity(value=1200.0, unit=kilocalorie/mole), 4]), 5: (8, 10, 14, 15, [1, Quantity(value=-0.02223392579985184, unit=radian), Quantity(value=1200.0, unit=kilocalorie/mole), 3]), 6: (18, 10, 14, 17, [1, Quantity(value=2.0255587336734213, unit=radian), Quantity(value=1200.0, unit=kilocalorie/mole), 6]), 7: (18, 10, 14, 16, [1, Quantity(value=-0.07836904940578293, unit=radian), Quantity(value=1200.0, unit=kilocalorie/mole), 4]), 8: (18, 10, 14, 15, [1, Quantity(value=-2.154907276921426, unit=radian), Quantity(value=1200.0, unit=kilocalorie/mole), 3]), 9: (13, 10, 14, 17, [1, Quantity(value=0.007583009583349565, unit=radian), Quantity(value=1200.0, unit=kilocalorie/mole), 6]), 10: (13, 10, 14, 16, [1, Quantity(value=-2.096344773495849, unit=radian), Quantity(value=1200.0, unit=kilocalorie/mole), 4]), 11: (13, 10, 14, 15, [1, Quantity(value=2.1103023061680943, unit=radian), Quantity(value=1200.0, unit=kilocalorie/mole), 3]), 12: (14, 10, 8, 18, [1, Quantity(value=1.0655064807976995, unit=radian), Quantity(value=1200.0, unit=kilocalorie/mole), 2])}\n",
      "INFO:geometry:neglected angle terms include []\n",
      "INFO:geometry:log probability choice of torsions and atom order: -10.462874742916549\n",
      "INFO:geometry:creating platform, integrators, and contexts; setting growth parameter\n"
     ]
    },
    {
     "name": "stdout",
     "output_type": "stream",
     "text": [
      "conducting subsequent work with the following platform: CUDA\n"
     ]
    },
    {
     "name": "stderr",
     "output_type": "stream",
     "text": [
      "INFO:geometry:setting atoms_with_positions context new positions\n",
      "INFO:geometry:There are 6 new atoms\n",
      "INFO:geometry:\treduced angle potential = 2.438674416988987.\n"
     ]
    },
    {
     "name": "stdout",
     "output_type": "stream",
     "text": [
      "conducting subsequent work with the following platform: CUDA\n"
     ]
    },
    {
     "name": "stderr",
     "output_type": "stream",
     "text": [
      "INFO:geometry:\treduced angle potential = 0.16465128276788374.\n",
      "INFO:geometry:\treduced angle potential = 0.015845902380695106.\n",
      "INFO:geometry:\treduced angle potential = 0.05749738094704095.\n",
      "INFO:geometry:\treduced angle potential = 0.6875109630654073.\n",
      "INFO:geometry:\treduced angle potential = 0.010959898274826975.\n",
      "INFO:geometry:\tbeginning construction of no_nonbonded final system...\n",
      "INFO:geometry:\tinitial no-nonbonded final system forces ['HarmonicBondForce', 'HarmonicAngleForce', 'PeriodicTorsionForce', 'NonbondedForce', 'MonteCarloBarostat']\n",
      "INFO:geometry:\tfinal no-nonbonded final system forces dict_keys(['HarmonicBondForce', 'HarmonicAngleForce', 'PeriodicTorsionForce', 'NonbondedForce'])\n",
      "INFO:geometry:\tthere are 11 bond forces in the no-nonbonded final system\n",
      "INFO:geometry:\tthere are 43 angle forces in the no-nonbonded final system\n",
      "INFO:geometry:\tthere are 72 torsion forces in the no-nonbonded final system\n",
      "INFO:geometry:forward final system defined with 0 neglected angles.\n"
     ]
    },
    {
     "name": "stdout",
     "output_type": "stream",
     "text": [
      "conducting subsequent work with the following platform: CUDA\n",
      "conducting subsequent work with the following platform: CUDA\n"
     ]
    },
    {
     "name": "stderr",
     "output_type": "stream",
     "text": [
      "INFO:geometry:total reduced potential before atom placement: 16.815513850992346\n"
     ]
    },
    {
     "name": "stdout",
     "output_type": "stream",
     "text": [
      "conducting subsequent work with the following platform: CUDA\n",
      "conducting subsequent work with the following platform: CUDA\n",
      "conducting subsequent work with the following platform: CUDA\n",
      "added energy components: [('CustomBondForce', 0.6008295400661001), ('CustomAngleForce', 240.650471318294), ('CustomTorsionForce', 11.65795310460632), ('CustomBondForce', -79.82113088408556)]\n"
     ]
    },
    {
     "name": "stderr",
     "output_type": "stream",
     "text": [
      "INFO:geometry:total reduced energy added from growth system: 173.08812307888087\n",
      "INFO:geometry:final reduced energy 189.90363692802657\n",
      "INFO:geometry:sum of energies: 189.90363692987322\n",
      "INFO:geometry:magnitude of difference in the energies: 1.8466437268216396e-09\n",
      "INFO:geometry:Final logp_proposal: 47.35767162959339\n",
      "INFO:geometry:logp_reverse: performing reverse proposal\n",
      "INFO:geometry:logp_reverse: unique new atoms detected; proceeding to _logp_propose...\n",
      "INFO:geometry:Conducting forward proposal...\n",
      "INFO:geometry:Computing proposal order with NetworkX...\n",
      "INFO:geometry:number of atoms to be placed: 2\n",
      "INFO:geometry:Atom index proposal order is [11, 13]\n",
      "INFO:geometry:omitted_bonds: []\n",
      "INFO:geometry:direction of proposal is reverse; creating atoms_with_positions from old system/topology\n",
      "INFO:geometry:creating growth system...\n",
      "INFO:geometry:\tcreating bond force...\n",
      "INFO:geometry:\tthere are 9 bonds in reference force.\n",
      "INFO:geometry:\tcreating angle force...\n",
      "INFO:geometry:\tthere are 36 angles in reference force.\n",
      "INFO:geometry:\tcreating torsion force...\n",
      "INFO:geometry:\tcreating extra torsions force...\n",
      "INFO:geometry:\tthere are 42 torsions in reference force.\n",
      "INFO:geometry:\tcreating nonbonded force...\n",
      "INFO:geometry:\t\tgrabbing reference nonbonded method, cutoff, switching function, switching distance...\n",
      "INFO:geometry:\t\tcreating nonbonded exception force (i.e. custom bond for 1,4s)...\n",
      "INFO:geometry:\t\tlooping through exceptions calculating growth indices, and adding appropriate interactions to custom bond force.\n",
      "INFO:geometry:\t\tthere are 1631 in the reference Nonbonded force\n",
      "INFO:geometry:Neglected angle terms : []\n",
      "INFO:geometry:omitted_growth_terms: {'bonds': [], 'angles': [], 'torsions': [], '1,4s': []}\n",
      "INFO:geometry:extra torsions: {0: (6, 8, 10, 11, [1, Quantity(value=2.105358864604291, unit=radian), Quantity(value=1200.0, unit=kilocalorie/mole), 1]), 1: (6, 8, 10, 13, [1, Quantity(value=0.018582237407944735, unit=radian), Quantity(value=1200.0, unit=kilocalorie/mole), 2]), 2: (14, 8, 10, 11, [1, Quantity(value=-0.036945135932107576, unit=radian), Quantity(value=1200.0, unit=kilocalorie/mole), 1]), 3: (14, 8, 10, 13, [1, Quantity(value=-2.1237217631284597, unit=radian), Quantity(value=1200.0, unit=kilocalorie/mole), 2]), 4: (9, 8, 10, 11, [1, Quantity(value=-2.119603470065817, unit=radian), Quantity(value=1200.0, unit=kilocalorie/mole), 1]), 5: (9, 8, 10, 13, [1, Quantity(value=2.0768052099174152, unit=radian), Quantity(value=1200.0, unit=kilocalorie/mole), 2])}\n",
      "INFO:geometry:neglected angle terms include []\n",
      "INFO:geometry:log probability choice of torsions and atom order: -2.8903717578961645\n",
      "INFO:geometry:creating platform, integrators, and contexts; setting growth parameter\n"
     ]
    },
    {
     "name": "stdout",
     "output_type": "stream",
     "text": [
      "conducting subsequent work with the following platform: CUDA\n"
     ]
    },
    {
     "name": "stderr",
     "output_type": "stream",
     "text": [
      "INFO:geometry:setting atoms_with_positions context old positions\n",
      "INFO:geometry:There are 2 new atoms\n",
      "INFO:geometry:\treduced angle potential = 1.2915588460963948e-10.\n"
     ]
    },
    {
     "name": "stdout",
     "output_type": "stream",
     "text": [
      "conducting subsequent work with the following platform: CUDA\n"
     ]
    },
    {
     "name": "stderr",
     "output_type": "stream",
     "text": [
      "INFO:geometry:\treduced angle potential = 7.39096069988752e-11.\n",
      "INFO:geometry:\tbeginning construction of no_nonbonded final system...\n",
      "INFO:geometry:\tinitial no-nonbonded final system forces ['HarmonicBondForce', 'HarmonicAngleForce', 'PeriodicTorsionForce', 'NonbondedForce', 'MonteCarloBarostat']\n",
      "INFO:geometry:\tfinal no-nonbonded final system forces dict_keys(['HarmonicBondForce', 'HarmonicAngleForce', 'PeriodicTorsionForce', 'NonbondedForce'])\n",
      "INFO:geometry:\tthere are 9 bond forces in the no-nonbonded final system\n",
      "INFO:geometry:\tthere are 36 angle forces in the no-nonbonded final system\n",
      "INFO:geometry:\tthere are 42 torsion forces in the no-nonbonded final system\n",
      "INFO:geometry:reverse final system defined with 0 neglected angles.\n"
     ]
    },
    {
     "name": "stdout",
     "output_type": "stream",
     "text": [
      "conducting subsequent work with the following platform: CUDA\n"
     ]
    },
    {
     "name": "stderr",
     "output_type": "stream",
     "text": [
      "INFO:geometry:total reduced potential before atom placement: 16.815513850992346\n"
     ]
    },
    {
     "name": "stdout",
     "output_type": "stream",
     "text": [
      "conducting subsequent work with the following platform: CUDA\n",
      "conducting subsequent work with the following platform: CUDA\n",
      "conducting subsequent work with the following platform: CUDA\n",
      "conducting subsequent work with the following platform: CUDA\n",
      "added energy components: [('CustomBondForce', 0.0), ('CustomAngleForce', 0.00017810081214392654), ('CustomTorsionForce', 0.002891174165036068), ('CustomBondForce', 4.777690951809965)]\n"
     ]
    },
    {
     "name": "stderr",
     "output_type": "stream",
     "text": [
      "INFO:geometry:total reduced energy added from growth system: 4.780760226787146\n",
      "INFO:geometry:final reduced energy 21.596273881350857\n",
      "INFO:geometry:sum of energies: 21.59627407777949\n",
      "INFO:geometry:magnitude of difference in the energies: 1.9642863513524844e-07\n",
      "INFO:geometry:Final logp_proposal: -17931.595052951918\n"
     ]
    }
   ],
   "source": [
    "# Create a htf\n",
    "atp, system_generator = generate_atp(phase = 'solvent')\n",
    "topology_proposal, new_positions, _, _ = generate_dipeptide_top_pos_sys(atp.topology, \n",
    "                               'THR', \n",
    "                               atp.system, \n",
    "                               atp.positions, \n",
    "                               system_generator,\n",
    "                               flatten_torsions=True,\n",
    "                               flatten_exceptions=True,\n",
    "                               validate_endstate_energy=False)"
   ]
  },
  {
   "cell_type": "code",
   "execution_count": 78,
   "id": "ad2c51da",
   "metadata": {},
   "outputs": [
    {
     "name": "stderr",
     "output_type": "stream",
     "text": [
      "INFO:relative:*** Generating RestCapablePMEHybridTopologyFactory ***\n",
      "INFO:relative:Old system forces: dict_keys(['HarmonicBondForce', 'HarmonicAngleForce', 'PeriodicTorsionForce', 'NonbondedForce', 'MonteCarloBarostat'])\n",
      "INFO:relative:New system forces: dict_keys(['HarmonicBondForce', 'HarmonicAngleForce', 'PeriodicTorsionForce', 'NonbondedForce', 'MonteCarloBarostat'])\n",
      "INFO:relative:No unknown forces.\n",
      "INFO:relative:Nonbonded method to be used (i.e. from old system): 4\n",
      "INFO:relative:Adding and mapping old atoms to hybrid system...\n",
      "INFO:relative:Adding and mapping new atoms to hybrid system...\n",
      "INFO:relative:Added MonteCarloBarostat.\n",
      "INFO:relative:getDefaultPeriodicBoxVectors added to hybrid: [Quantity(value=Vec3(x=2.56477354, y=0.0, z=0.0), unit=nanometer), Quantity(value=Vec3(x=0.0, y=2.56477354, z=0.0), unit=nanometer), Quantity(value=Vec3(x=0.0, y=0.0, z=2.56477354), unit=nanometer)]\n",
      "INFO:relative:Determined atom classes.\n",
      "INFO:relative:Generating old system exceptions dict...\n",
      "INFO:relative:Generating new system exceptions dict...\n",
      "INFO:relative:Handling constraints...\n",
      "INFO:relative:Handling virtual sites...\n",
      "INFO:relative:\t_handle_virtual_sites: numVirtualSites: 0\n"
     ]
    }
   ],
   "source": [
    "flatten_exceptions = True\n",
    "flatten_torsions = True\n",
    "endstate = None\n",
    "rest_region = rest_region\n",
    "htf = RestCapablePMEHybridTopologyFactory(topology_proposal=topology_proposal,\n",
    "                     current_positions=atp.positions,\n",
    "                     new_positions=new_positions,\n",
    "                     rest_region=rest_region,\n",
    "                     use_dispersion_correction=False,\n",
    "                     generate_htf_for_testing=True,\n",
    "                     interpolate_old_and_new_14s=flatten_exceptions\n",
    "                    )"
   ]
  },
  {
   "cell_type": "code",
   "execution_count": 79,
   "id": "d6546cfb",
   "metadata": {},
   "outputs": [],
   "source": [
    "with open(\"atp_solvent_scale_region.pickle\", \"wb\") as f:\n",
    "    pickle.dump(htf, f)"
   ]
  },
  {
   "cell_type": "markdown",
   "id": "3576b206",
   "metadata": {},
   "source": [
    "#### Old system HarmonicBondForce vs hybrid system CustomBondForce"
   ]
  },
  {
   "cell_type": "code",
   "execution_count": 80,
   "id": "f714b6e7",
   "metadata": {},
   "outputs": [],
   "source": [
    "# Load htf\n",
    "with open(\"/home/zhangi/choderalab/perses_benchmark/perses_protein_mutations/code/31_rest_over_protocol/atp_solvent_scale_region.pickle\", \"rb\") as f:\n",
    "    htf = pickle.load(f)"
   ]
  },
  {
   "cell_type": "code",
   "execution_count": 81,
   "id": "479adca5",
   "metadata": {},
   "outputs": [
    {
     "name": "stdout",
     "output_type": "stream",
     "text": [
      "Warning: Returning CPU platform instead of requested platform <openmm.openmm.Platform; proxy of <Swig Object of type 'OpenMM::Platform *' at 0x2aad8b60ef30> >\n",
      "conducting subsequent work with the following platform: CPU\n",
      "conducting subsequent work with the following platform: CUDA\n",
      "[('HarmonicBondForce', 0.03478365356521467), ('HarmonicAngleForce', 0.6112775462129013), ('PeriodicTorsionForce', 16.285398289983075), ('NonbondedForce', -854.4284339778609), ('AndersenThermostat', 0.0), ('MonteCarloBarostat', 0.0)]\n",
      "conducting subsequent work with the following platform: CUDA\n",
      "[('CustomBondForce', 0.0347836535652138), ('CustomAngleForce', 0.6112775462128993), ('AndersenThermostat', 0.0), ('MonteCarloBarostat', 0.0)]\n",
      "Success! Custom bond force and standard bond force energies are equal!\n",
      "conducting subsequent work with the following platform: CUDA\n",
      "[('CustomBondForce', 0.0347836535652138), ('CustomAngleForce', 0.6112775462128993), ('AndersenThermostat', 0.0), ('MonteCarloBarostat', 0.0)]\n",
      "conducting subsequent work with the following platform: CUDA\n",
      "[('CustomBondForce', 0.03452180595078771), ('CustomAngleForce', 0.6112775462128993), ('AndersenThermostat', 0.0), ('MonteCarloBarostat', 0.0)]\n",
      "Success! Scaling the bond force changes the energy\n"
     ]
    }
   ],
   "source": [
    "test_bond_energies(htf, is_solvated=True, check_scale=True)"
   ]
  },
  {
   "cell_type": "markdown",
   "id": "2e0b009a",
   "metadata": {},
   "source": [
    "#### New system HarmonicBondForce vs hybrid system CustomBondForce"
   ]
  },
  {
   "cell_type": "code",
   "execution_count": 82,
   "id": "a1d202a2",
   "metadata": {},
   "outputs": [],
   "source": [
    "# Load htf\n",
    "with open(\"/home/zhangi/choderalab/perses_benchmark/perses_protein_mutations/code/31_rest_over_protocol/atp_solvent_scale_region.pickle\", \"rb\") as f:\n",
    "    htf = pickle.load(f)"
   ]
  },
  {
   "cell_type": "code",
   "execution_count": 83,
   "id": "3d6aaf36",
   "metadata": {},
   "outputs": [
    {
     "name": "stdout",
     "output_type": "stream",
     "text": [
      "Warning: Returning CPU platform instead of requested platform <openmm.openmm.Platform; proxy of <Swig Object of type 'OpenMM::Platform *' at 0x2aad8b60ef30> >\n",
      "conducting subsequent work with the following platform: CPU\n",
      "conducting subsequent work with the following platform: CUDA\n",
      "[('HarmonicBondForce', 0.6396456066518906), ('HarmonicAngleForce', 242.87667340273873), ('PeriodicTorsionForce', 28.018682089890692), ('NonbondedForce', -823.8106185152285), ('AndersenThermostat', 0.0), ('MonteCarloBarostat', 0.0)]\n",
      "conducting subsequent work with the following platform: CUDA\n",
      "[('CustomBondForce', 0.6396456066518919), ('CustomAngleForce', 0.6112775462128993), ('AndersenThermostat', 0.0), ('MonteCarloBarostat', 0.0)]\n",
      "Success! Custom bond force and standard bond force energies are equal!\n"
     ]
    }
   ],
   "source": [
    "test_bond_energies(htf, is_old=False, is_solvated=True)"
   ]
  },
  {
   "cell_type": "code",
   "execution_count": null,
   "id": "95bc995d",
   "metadata": {},
   "outputs": [],
   "source": []
  },
  {
   "cell_type": "markdown",
   "id": "dd3a6ebd",
   "metadata": {},
   "source": [
    "# CDK2 transformation in solvent"
   ]
  },
  {
   "cell_type": "code",
   "execution_count": 18,
   "id": "0007ff9b",
   "metadata": {},
   "outputs": [
    {
     "name": "stdout",
     "output_type": "stream",
     "text": [
      "conducting subsequent work with the following platform: CUDA\n",
      "conducting subsequent work with the following platform: CUDA\n",
      "conducting subsequent work with the following platform: CUDA\n"
     ]
    }
   ],
   "source": [
    "import os\n",
    "from pkg_resources import resource_filename\n",
    "from perses.app import setup_relative_calculation\n",
    "import pickle"
   ]
  },
  {
   "cell_type": "code",
   "execution_count": 19,
   "id": "afad5b52",
   "metadata": {
    "scrolled": true
   },
   "outputs": [
    {
     "name": "stderr",
     "output_type": "stream",
     "text": [
      "2021-08-19 13:28:17,274:(0.00s):root:\tDetecting phases...\n",
      "2021-08-19 13:28:17,275:(0.00s):root:\t\tphases detected: ['complex', 'solvent', 'vacuum']\n",
      "2021-08-19 13:28:17,277:(0.00s):root:No constraints will be removed\n",
      "2021-08-19 13:28:17,278:(0.00s):root:No spectators\n",
      "2021-08-19 13:28:17,280:(0.00s):root:\t\t\trun_type is not specified; default to None\n",
      "2021-08-19 13:28:17,281:(0.00s):root:\tDetecting fe_type...\n",
      "2021-08-19 13:28:17,282:(0.00s):root:\t\tfe_type: repex\n",
      "2021-08-19 13:28:17,283:(0.00s):root:\t\t\toffline-freq not specified: default to 10.\n",
      "2021-08-19 13:28:17,285:(0.00s):root:\t'neglect_angles' detected: False.\n",
      "2021-08-19 13:28:17,286:(0.00s):root:\t'softcore_v2' not specified: default to 'False'\n",
      "2021-08-19 13:28:17,288:(0.00s):root:\tCreating 'output'...\n",
      "2021-08-19 13:28:17,290:(0.00s):root:\tdetected ligand file: /home/zhangi/miniconda3/envs/perses-rest-over-protocol/lib/python3.8/site-packages/perses-0.9.1+35.gb0f7541-py3.8.egg/perses/data/cdk2-example/CDK2_ligands.sdf\n",
      "2021-08-19 13:28:17,291:(0.00s):root:\told ligand index: 14; new ligand index: 15\n",
      "2021-08-19 13:28:17,293:(0.00s):root:\tsetting up forcefield files...\n",
      "2021-08-19 13:28:17,294:(0.00s):root:\tno timestep detected: setting default as 1.0fs.\n",
      "2021-08-19 13:28:17,296:(0.00s):root:\tno splitting strings specified: defaulting to neq: V R O R V, eq: V R O R V.\n",
      "2021-08-19 13:28:17,297:(0.00s):root:\tno measure_shadow_work specified: defaulting to False.\n",
      "2021-08-19 13:28:17,298:(0.00s):root:\tsetting pressure: 1.0 atm.\n",
      "2021-08-19 13:28:17,300:(0.00s):root:\tsetting temperature: 300.0 K.\n",
      "2021-08-19 13:28:17,301:(0.00s):root:\tsetting solvent padding: 9.0 AA.\n",
      "2021-08-19 13:28:17,301:(0.00s):root:\tsetting ionic strength: 0.15 MM.\n",
      "2021-08-19 13:28:17,302:(0.00s):root:\tsetup pickle file: fesetup_hbonds.pkl\n",
      "2021-08-19 13:28:17,305:(0.00s):root:\ttrajectory directory: output\n",
      "2021-08-19 13:28:17,306:(0.00s):root:\tno atom map specified: default to None.\n",
      "2021-08-19 13:28:17,307:(0.00s):root:\tno topology_proposal specified; proceeding to RelativeFEPSetup...\n",
      "\n",
      "\n",
      "\n",
      "2021-08-19 13:28:17,307:(0.00s):root:Box dimensions: None and None\n",
      "2021-08-19 13:28:17,308:(0.00s):relative_setup:\t\t\t_hmass: 4 Da.\n",
      "\n",
      "2021-08-19 13:28:17,309:(0.00s):relative_setup:Setting non bonded method to PME\n",
      "2021-08-19 13:28:17,309:(0.00s):relative_setup:Handling files for ligands and indices...\n",
      "2021-08-19 13:28:17,310:(0.00s):relative_setup:Detected .sdf format.  Proceeding...\n",
      "2021-08-19 13:28:17,338:(0.03s):utils.openeye:molecule 17                      does not have unique atom names. Generating now...\n",
      "2021-08-19 13:28:17,343:(0.00s):utils.openeye:molecule 1h1q                      does not have unique atom names. Generating now...\n",
      "2021-08-19 13:28:17,345:(0.00s):relative_setup:\tsuccessfully extracted positions from OEMOL.\n",
      "2021-08-19 13:28:17,346:(0.00s):relative_setup:\tsetting both molecule oemol titles to 'MOL'.\n",
      "2021-08-19 13:28:17,346:(0.00s):relative_setup:\tsuccessfully created SMILES for both ligand OEMOLs.\n",
      "2021-08-19 13:28:17,350:(0.00s):relative_setup:\tsuccessfully generated topologies for both OEMOLs.\n",
      "2021-08-19 13:28:17,351:(0.00s):relative_setup:Created mdtraj topologies for both ligands.\n",
      "2021-08-19 13:28:17,352:(0.00s):relative_setup:set MonteCarloBarostat because pressure was specified as 1.0 atm atmospheres\n",
      "2021-08-19 13:28:17,358:(0.01s):relative_setup:PME tolerance: 0.00025\n",
      "2021-08-19 13:28:17,453:(0.09s):relative_setup:successfully created SystemGenerator to create ligand systems\n",
      "2021-08-19 13:28:17,455:(0.00s):relative_setup:executing SmallMoleculeSetProposalEngine...\n",
      "2021-08-19 13:28:17,458:(0.00s):relative_setup:instantiating FFAllAngleGeometryEngine...\n",
      "2021-08-19 13:28:17,459:(0.00s):relative_setup:Detected solvent...\n",
      "2021-08-19 13:28:17,461:(0.00s):relative_setup:no complex detected in phases...generating unique topology/geometry proposals...\n",
      "2021-08-19 13:28:17,462:(0.00s):relative_setup:solvating ligand...\n",
      "2021-08-19 13:28:17,464:(0.00s):relative_setup:box_dimensions: None\n",
      "2021-08-19 13:28:17,465:(0.00s):relative_setup:solvent padding: 9.0\n",
      "2021-08-19 13:28:17,467:(0.00s):relative_setup:\tpreparing to add solvent\n",
      "2021-08-19 13:28:17,813:(0.35s):openmmforcefields.generators.template_generators:Requested to generate parameters for residue <Residue 0 (MOL) of chain 0>\n",
      "2021-08-19 13:28:18,288:(0.48s):relative_setup:\tparameterizing...\n",
      "2021-08-19 13:28:18,429:(0.14s):relative_setup:\tSystem parameterized\n",
      "2021-08-19 13:28:18,476:(0.05s):relative_setup:creating TopologyProposal\n",
      "2021-08-19 13:28:18,478:(0.00s):proposal_generator:creating current receptor topology by removing small molecule from current topology...\n",
      "2021-08-19 13:28:18,492:(0.01s):proposal_generator:small molecule start index: 0\n",
      "2021-08-19 13:28:18,493:(0.00s):proposal_generator:small molecule has 45 atoms.\n",
      "2021-08-19 13:28:18,494:(0.00s):proposal_generator:old alchemical atom indices: range(0, 45)\n",
      "2021-08-19 13:28:18,495:(0.00s):proposal_generator:proposed mol detected with smiles [H]c1c(c(c(c(c1[H])[H])N([H])c2nc3c(c(n2)OC([H])([H])C4(C(C(C(C(C4([H])[H])([H])[H])([H])[H])([H])[H])([H])[H])[H])nc(n3[H])[H])[H])[H] and logp_proposal of 0.0\n",
      "2021-08-19 13:28:18,496:(0.00s):proposal_generator:conducting proposal from [H]c1c(c(c(c(c1[H])Br)[H])N([H])c2nc3c(c(n2)OC([H])([H])C4(C(C(C(C(C4([H])[H])([H])[H])([H])[H])([H])[H])([H])[H])[H])nc(n3[H])[H])[H] to [H]c1c(c(c(c(c1[H])[H])N([H])c2nc3c(c(n2)OC([H])([H])C4(C(C(C(C(C4([H])[H])([H])[H])([H])[H])([H])[H])([H])[H])[H])nc(n3[H])[H])[H])[H]...\n",
      "2021-08-19 13:28:18,498:(0.00s):proposal_generator:building new topology with proposed molecule and current receptor topology...\n",
      "2021-08-19 13:28:18,499:(0.00s):proposal_generator:\tsetting proposed oemol title to MOL\n",
      "2021-08-19 13:28:18,500:(0.00s):proposal_generator:\tcreating mol topology from oemol...\n",
      "2021-08-19 13:28:18,502:(0.00s):proposal_generator:\tappending current receptor topology to new mol topology...\n",
      "2021-08-19 13:28:18,515:(0.01s):proposal_generator:\tperiodic box vectors of the current receptor is specified; copying to new topology...\n",
      "2021-08-19 13:28:18,517:(0.00s):proposal_generator:new molecule has a start index of 2152 and 45 atoms.\n",
      "2021-08-19 13:28:18,519:(0.00s):proposal_generator:proceeding to build the new system from the new topology...\n",
      "2021-08-19 13:28:18,545:(0.03s):openmmforcefields.generators.template_generators:Requested to generate parameters for residue <Residue 720 (MOL) of chain 3>\n",
      "2021-08-19 13:28:18,704:(0.16s):proposal_generator:determining atom map between old and new molecules...\n",
      "2021-08-19 13:28:18,707:(0.00s):proposal_generator:the atom map is not specified; proceeding to generate an atom map...\n",
      "2021-08-19 13:28:19,555:(0.85s):proposal_generator:Proposed transformation would delete 1 atoms and create 1 atoms.\n",
      "2021-08-19 13:28:19,557:(0.00s):relative_setup:conducting geometry proposal...\n",
      "2021-08-19 13:28:19,559:(0.00s):geometry:propose: performing forward proposal\n",
      "2021-08-19 13:28:19,560:(0.00s):geometry:propose: unique new atoms detected; proceeding to _logp_propose...\n",
      "2021-08-19 13:28:19,561:(0.00s):geometry:Conducting forward proposal...\n",
      "2021-08-19 13:28:19,563:(0.00s):geometry:Computing proposal order with NetworkX...\n",
      "2021-08-19 13:28:19,570:(0.01s):geometry:number of atoms to be placed: 1\n",
      "2021-08-19 13:28:19,571:(0.00s):geometry:Atom index proposal order is [2190]\n",
      "2021-08-19 13:28:19,572:(0.00s):geometry:omitted_bonds: []\n",
      "2021-08-19 13:28:19,574:(0.00s):geometry:direction of proposal is forward; creating atoms_with_positions and new positions from old system/topology...\n",
      "2021-08-19 13:28:19,702:(0.13s):geometry:creating growth system...\n",
      "2021-08-19 13:28:19,735:(0.03s):geometry:\tcreating bond force...\n",
      "2021-08-19 13:28:19,736:(0.00s):geometry:\tthere are 27 bonds in reference force.\n",
      "2021-08-19 13:28:19,738:(0.00s):geometry:\tcreating angle force...\n",
      "2021-08-19 13:28:19,739:(0.00s):geometry:\tthere are 85 angles in reference force.\n",
      "2021-08-19 13:28:19,741:(0.00s):geometry:\tcreating torsion force...\n",
      "2021-08-19 13:28:19,742:(0.00s):geometry:\tcreating extra torsions force...\n",
      "2021-08-19 13:28:19,743:(0.00s):geometry:\tthere are 157 torsions in reference force.\n",
      "2021-08-19 13:28:19,745:(0.00s):geometry:\tcreating nonbonded force...\n",
      "2021-08-19 13:28:19,746:(0.00s):geometry:\t\tgrabbing reference nonbonded method, cutoff, switching function, switching distance...\n"
     ]
    },
    {
     "name": "stderr",
     "output_type": "stream",
     "text": [
      "2021-08-19 13:28:19,748:(0.00s):geometry:\t\tcreating nonbonded exception force (i.e. custom bond for 1,4s)...\n",
      "2021-08-19 13:28:19,749:(0.00s):geometry:\t\tlooping through exceptions calculating growth indices, and adding appropriate interactions to custom bond force.\n",
      "2021-08-19 13:28:19,750:(0.00s):geometry:\t\tthere are 2395 in the reference Nonbonded force\n",
      "2021-08-19 13:28:19,790:(0.04s):geometry:Neglected angle terms : []\n",
      "2021-08-19 13:28:19,792:(0.00s):geometry:omitted_growth_terms: {'bonds': [], 'angles': [], 'torsions': [], '1,4s': []}\n",
      "2021-08-19 13:28:19,793:(0.00s):geometry:extra torsions: {0: (2190, 2161, 2162, 2163, [1, Quantity(value=-0.019594642035228205, unit=radian), Quantity(value=1200.0, unit=kilocalorie/mole), 1]), 1: (2190, 2161, 2162, 2191, [1, Quantity(value=-3.1361896196768977, unit=radian), Quantity(value=1200.0, unit=kilocalorie/mole), 1]), 2: (2190, 2161, 2175, 2174, [1, Quantity(value=-0.008871224163264912, unit=radian), Quantity(value=1200.0, unit=kilocalorie/mole), 1]), 3: (2190, 2161, 2175, 2196, [1, Quantity(value=3.1405837865634907, unit=radian), Quantity(value=1200.0, unit=kilocalorie/mole), 1])}\n",
      "2021-08-19 13:28:19,794:(0.00s):geometry:neglected angle terms include []\n",
      "2021-08-19 13:28:19,795:(0.00s):geometry:log probability choice of torsions and atom order: -1.3862943611198906\n",
      "2021-08-19 13:28:19,796:(0.00s):geometry:creating platform, integrators, and contexts; setting growth parameter\n"
     ]
    },
    {
     "name": "stdout",
     "output_type": "stream",
     "text": [
      "conducting subsequent work with the following platform: CUDA\n"
     ]
    },
    {
     "name": "stderr",
     "output_type": "stream",
     "text": [
      "2021-08-19 13:28:20,302:(0.51s):geometry:setting atoms_with_positions context new positions\n"
     ]
    },
    {
     "name": "stdout",
     "output_type": "stream",
     "text": [
      "conducting subsequent work with the following platform: CUDA\n"
     ]
    },
    {
     "name": "stderr",
     "output_type": "stream",
     "text": [
      "2021-08-19 13:28:20,698:(0.40s):geometry:There are 1 new atoms\n",
      "2021-08-19 13:28:20,707:(0.01s):geometry:\treduced angle potential = 0.002110715751882627.\n",
      "2021-08-19 13:28:20,825:(0.12s):geometry:\tbeginning construction of no_nonbonded final system...\n",
      "2021-08-19 13:28:20,827:(0.00s):geometry:\tinitial no-nonbonded final system forces ['HarmonicBondForce', 'HarmonicAngleForce', 'PeriodicTorsionForce', 'NonbondedForce', 'MonteCarloBarostat']\n",
      "2021-08-19 13:28:20,954:(0.13s):geometry:\tfinal no-nonbonded final system forces dict_keys(['HarmonicBondForce', 'HarmonicAngleForce', 'PeriodicTorsionForce', 'NonbondedForce'])\n",
      "2021-08-19 13:28:20,956:(0.00s):geometry:\tthere are 27 bond forces in the no-nonbonded final system\n",
      "2021-08-19 13:28:20,958:(0.00s):geometry:\tthere are 85 angle forces in the no-nonbonded final system\n",
      "2021-08-19 13:28:20,959:(0.00s):geometry:\tthere are 157 torsion forces in the no-nonbonded final system\n",
      "2021-08-19 13:28:20,961:(0.00s):geometry:forward final system defined with 0 neglected angles.\n"
     ]
    },
    {
     "name": "stdout",
     "output_type": "stream",
     "text": [
      "conducting subsequent work with the following platform: CUDA\n",
      "conducting subsequent work with the following platform: CUDA\n"
     ]
    },
    {
     "name": "stderr",
     "output_type": "stream",
     "text": [
      "2021-08-19 13:28:22,010:(1.05s):geometry:total reduced potential before atom placement: 48.41967204742056\n"
     ]
    },
    {
     "name": "stdout",
     "output_type": "stream",
     "text": [
      "conducting subsequent work with the following platform: CUDA\n",
      "conducting subsequent work with the following platform: CUDA\n",
      "conducting subsequent work with the following platform: CUDA\n",
      "added energy components: [('CustomBondForce', 0.0), ('CustomAngleForce', 0.0028758462756147884), ('CustomTorsionForce', 0.008115488932224529), ('CustomBondForce', 7.846379629161214)]\n"
     ]
    },
    {
     "name": "stderr",
     "output_type": "stream",
     "text": [
      "2021-08-19 13:28:23,210:(1.20s):geometry:total reduced energy added from growth system: 7.857370964369053\n",
      "2021-08-19 13:28:23,212:(0.00s):geometry:final reduced energy 56.277043122560066\n",
      "2021-08-19 13:28:23,214:(0.00s):geometry:sum of energies: 56.277043011789615\n",
      "2021-08-19 13:28:23,215:(0.00s):geometry:magnitude of difference in the energies: 1.107704514780039e-07\n",
      "2021-08-19 13:28:23,217:(0.00s):geometry:Final logp_proposal: 8.068845240606002\n",
      "2021-08-19 13:28:23,333:(0.12s):geometry:logp_reverse: performing reverse proposal\n",
      "2021-08-19 13:28:23,336:(0.00s):geometry:logp_reverse: unique new atoms detected; proceeding to _logp_propose...\n",
      "2021-08-19 13:28:23,338:(0.00s):geometry:Conducting forward proposal...\n",
      "2021-08-19 13:28:23,340:(0.00s):geometry:Computing proposal order with NetworkX...\n",
      "2021-08-19 13:28:23,353:(0.01s):geometry:number of atoms to be placed: 1\n",
      "2021-08-19 13:28:23,355:(0.00s):geometry:Atom index proposal order is [44]\n",
      "2021-08-19 13:28:23,357:(0.00s):geometry:omitted_bonds: []\n",
      "2021-08-19 13:28:23,359:(0.00s):geometry:direction of proposal is reverse; creating atoms_with_positions from old system/topology\n",
      "2021-08-19 13:28:23,646:(0.29s):geometry:creating growth system...\n",
      "2021-08-19 13:28:23,679:(0.03s):geometry:\tcreating bond force...\n",
      "2021-08-19 13:28:23,681:(0.00s):geometry:\tthere are 28 bonds in reference force.\n",
      "2021-08-19 13:28:23,682:(0.00s):geometry:\tcreating angle force...\n",
      "2021-08-19 13:28:23,684:(0.00s):geometry:\tthere are 85 angles in reference force.\n",
      "2021-08-19 13:28:23,685:(0.00s):geometry:\tcreating torsion force...\n",
      "2021-08-19 13:28:23,686:(0.00s):geometry:\tcreating extra torsions force...\n",
      "2021-08-19 13:28:23,688:(0.00s):geometry:\tthere are 157 torsions in reference force.\n",
      "2021-08-19 13:28:23,690:(0.00s):geometry:\tcreating nonbonded force...\n",
      "2021-08-19 13:28:23,691:(0.00s):geometry:\t\tgrabbing reference nonbonded method, cutoff, switching function, switching distance...\n",
      "2021-08-19 13:28:23,692:(0.00s):geometry:\t\tcreating nonbonded exception force (i.e. custom bond for 1,4s)...\n",
      "2021-08-19 13:28:23,693:(0.00s):geometry:\t\tlooping through exceptions calculating growth indices, and adding appropriate interactions to custom bond force.\n",
      "2021-08-19 13:28:23,694:(0.00s):geometry:\t\tthere are 2395 in the reference Nonbonded force\n",
      "2021-08-19 13:28:23,736:(0.04s):geometry:Neglected angle terms : []\n",
      "2021-08-19 13:28:23,738:(0.00s):geometry:omitted_growth_terms: {'bonds': [], 'angles': [], 'torsions': [], '1,4s': []}\n",
      "2021-08-19 13:28:23,739:(0.00s):geometry:extra torsions: {0: (9, 10, 11, 44, [1, Quantity(value=0.017128570696415935, unit=radian), Quantity(value=1200.0, unit=kilocalorie/mole), 1]), 1: (39, 10, 11, 44, [1, Quantity(value=3.1337857477223063, unit=radian), Quantity(value=1200.0, unit=kilocalorie/mole), 1]), 2: (44, 11, 12, 22, [1, Quantity(value=0.00863885124394681, unit=radian), Quantity(value=1200.0, unit=kilocalorie/mole), 1]), 3: (44, 11, 12, 40, [1, Quantity(value=-3.1382699121359634, unit=radian), Quantity(value=1200.0, unit=kilocalorie/mole), 1])}\n",
      "2021-08-19 13:28:23,740:(0.00s):geometry:neglected angle terms include []\n",
      "2021-08-19 13:28:23,741:(0.00s):geometry:log probability choice of torsions and atom order: -1.3862943611198906\n",
      "2021-08-19 13:28:23,742:(0.00s):geometry:creating platform, integrators, and contexts; setting growth parameter\n"
     ]
    },
    {
     "name": "stdout",
     "output_type": "stream",
     "text": [
      "conducting subsequent work with the following platform: CUDA\n"
     ]
    },
    {
     "name": "stderr",
     "output_type": "stream",
     "text": [
      "2021-08-19 13:28:24,246:(0.50s):geometry:setting atoms_with_positions context old positions\n"
     ]
    },
    {
     "name": "stdout",
     "output_type": "stream",
     "text": [
      "conducting subsequent work with the following platform: CUDA\n"
     ]
    },
    {
     "name": "stderr",
     "output_type": "stream",
     "text": [
      "2021-08-19 13:28:24,667:(0.42s):geometry:There are 1 new atoms\n",
      "2021-08-19 13:28:24,672:(0.01s):geometry:\treduced angle potential = 0.033804413199813345.\n",
      "2021-08-19 13:28:24,786:(0.11s):geometry:\tbeginning construction of no_nonbonded final system...\n",
      "2021-08-19 13:28:24,788:(0.00s):geometry:\tinitial no-nonbonded final system forces ['HarmonicBondForce', 'HarmonicAngleForce', 'PeriodicTorsionForce', 'NonbondedForce', 'MonteCarloBarostat']\n",
      "2021-08-19 13:28:24,908:(0.12s):geometry:\tfinal no-nonbonded final system forces dict_keys(['HarmonicBondForce', 'HarmonicAngleForce', 'PeriodicTorsionForce', 'NonbondedForce'])\n",
      "2021-08-19 13:28:24,910:(0.00s):geometry:\tthere are 28 bond forces in the no-nonbonded final system\n",
      "2021-08-19 13:28:24,911:(0.00s):geometry:\tthere are 85 angle forces in the no-nonbonded final system\n",
      "2021-08-19 13:28:24,912:(0.00s):geometry:\tthere are 157 torsion forces in the no-nonbonded final system\n",
      "2021-08-19 13:28:24,914:(0.00s):geometry:reverse final system defined with 0 neglected angles.\n"
     ]
    },
    {
     "name": "stdout",
     "output_type": "stream",
     "text": [
      "conducting subsequent work with the following platform: CUDA\n",
      "conducting subsequent work with the following platform: CUDA\n"
     ]
    },
    {
     "name": "stderr",
     "output_type": "stream",
     "text": [
      "2021-08-19 13:28:25,928:(1.01s):geometry:total reduced potential before atom placement: 48.41899607369697\n"
     ]
    },
    {
     "name": "stdout",
     "output_type": "stream",
     "text": [
      "conducting subsequent work with the following platform: CUDA\n",
      "conducting subsequent work with the following platform: CUDA\n",
      "conducting subsequent work with the following platform: CUDA\n"
     ]
    },
    {
     "name": "stderr",
     "output_type": "stream",
     "text": [
      "2021-08-19 13:28:27,090:(1.16s):geometry:total reduced energy added from growth system: -5.038066954807732\n",
      "2021-08-19 13:28:27,092:(0.00s):geometry:final reduced energy 43.38092980084384\n",
      "2021-08-19 13:28:27,094:(0.00s):geometry:sum of energies: 43.380929118889235\n",
      "2021-08-19 13:28:27,095:(0.00s):geometry:magnitude of difference in the energies: 6.819546030101264e-07\n",
      "2021-08-19 13:28:27,097:(0.00s):geometry:Final logp_proposal: 11.810926560573073\n",
      "2021-08-19 13:28:27,230:(0.13s):root:\twriting pickle output...\n"
     ]
    },
    {
     "name": "stdout",
     "output_type": "stream",
     "text": [
      "added energy components: [('CustomBondForce', 0.08798429542805747), ('CustomAngleForce', 0.04605409749261914), ('CustomTorsionForce', 0.005423562569706602), ('CustomBondForce', -5.177528910298116)]\n"
     ]
    },
    {
     "name": "stderr",
     "output_type": "stream",
     "text": [
      "2021-08-19 13:28:27,397:(0.17s):root:\tsuccessfully dumped pickle.\n",
      "2021-08-19 13:28:27,404:(0.01s):root:\tsetup is complete.  Writing proposals and positions for each phase to top_prop dict...\n",
      "2021-08-19 13:28:27,406:(0.00s):root:\twriting atom_mapping.png\n",
      "2021-08-19 13:28:27,457:(0.05s):root:\t steps per move application: 50\n",
      "2021-08-19 13:28:27,459:(0.00s):root:\ttrajectory prefix: out\n",
      "2021-08-19 13:28:27,461:(0.00s):root:\tatom selection detected: not water\n",
      "2021-08-19 13:28:27,463:(0.00s):root:\tno nonequilibrium detected.\n",
      "2021-08-19 13:28:27,464:(0.00s):root:\tcataloging HybridTopologyFactories...\n",
      "2021-08-19 13:28:27,466:(0.00s):root:\t\tphase: solvent:\n",
      "2021-08-19 13:28:27,467:(0.00s):root:\t\twriting HybridTopologyFactory for phase solvent...\n",
      "2021-08-19 13:28:27,469:(0.00s):relative:*** Generating RestCapablePMEHybridTopologyFactory ***\n",
      "2021-08-19 13:28:27,535:(0.07s):relative:Old system forces: dict_keys(['HarmonicBondForce', 'HarmonicAngleForce', 'PeriodicTorsionForce', 'NonbondedForce', 'MonteCarloBarostat'])\n",
      "2021-08-19 13:28:27,538:(0.00s):relative:New system forces: dict_keys(['HarmonicBondForce', 'HarmonicAngleForce', 'PeriodicTorsionForce', 'NonbondedForce', 'MonteCarloBarostat'])\n",
      "2021-08-19 13:28:27,539:(0.00s):relative:No unknown forces.\n",
      "2021-08-19 13:28:27,541:(0.00s):relative:Nonbonded method to be used (i.e. from old system): 4\n",
      "2021-08-19 13:28:27,542:(0.00s):relative:Adding and mapping old atoms to hybrid system...\n",
      "2021-08-19 13:28:27,559:(0.02s):relative:Adding and mapping new atoms to hybrid system...\n",
      "2021-08-19 13:28:27,561:(0.00s):relative:Added MonteCarloBarostat.\n",
      "2021-08-19 13:28:27,562:(0.00s):relative:getDefaultPeriodicBoxVectors added to hybrid: [Quantity(value=Vec3(x=2.875229835510254, y=0.0, z=0.0), unit=nanometer), Quantity(value=Vec3(x=0.0, y=2.875229835510254, z=0.0), unit=nanometer), Quantity(value=Vec3(x=0.0, y=0.0, z=2.875229835510254), unit=nanometer)]\n",
      "2021-08-19 13:28:27,563:(0.00s):relative:Determined atom classes.\n",
      "2021-08-19 13:28:27,588:(0.02s):relative:Generating old system exceptions dict...\n",
      "2021-08-19 13:28:27,597:(0.01s):relative:Generating new system exceptions dict...\n",
      "2021-08-19 13:28:27,617:(0.02s):relative:Handling constraints...\n",
      "2021-08-19 13:28:27,673:(0.06s):relative:Handling virtual sites...\n",
      "2021-08-19 13:28:27,676:(0.00s):relative:\t_handle_virtual_sites: numVirtualSites: 0\n",
      "2021-08-19 13:28:28,276:(0.60s):root:'use_given_geometries' was passed to setup; skipping endstate validation\n",
      "2021-08-19 13:28:28,278:(0.00s):root:omitting sampler construction\n"
     ]
    }
   ],
   "source": [
    "# Create a htf\n",
    "setup_directory = resource_filename(\"perses\", \"data/cdk2-example\")\n",
    "\n",
    "# Get options\n",
    "from perses.app.setup_relative_calculation import getSetupOptions\n",
    "yaml_filename = os.path.join(setup_directory, \"cdk2_setup_repex.yaml\")\n",
    "setup_options = getSetupOptions(yaml_filename)\n",
    "\n",
    "# Update options\n",
    "for parameter in ['protein_pdb', 'ligand_file']:\n",
    "    setup_options[parameter] = os.path.join(setup_directory, setup_options[parameter])\n",
    "    \n",
    "setup_options['rest_over_protocol'] = True\n",
    "setup_options['phases'] = ['solvent']\n",
    "setup_options['use_given_geometries'] = False\n",
    "setup_options['rest_region'] = None\n",
    "setup_options['validate_endstate_energies'] = False\n",
    "    \n",
    "setup_dict = setup_relative_calculation.run_setup(setup_options, serialize_systems=False, build_samplers=False)"
   ]
  },
  {
   "cell_type": "code",
   "execution_count": 20,
   "id": "058f9b83",
   "metadata": {
    "scrolled": true
   },
   "outputs": [],
   "source": [
    "htf = setup_dict['hybrid_topology_factories']['solvent']"
   ]
  },
  {
   "cell_type": "code",
   "execution_count": 21,
   "id": "c69b4ff8",
   "metadata": {},
   "outputs": [],
   "source": [
    "with open(\"cdk2_solvent.pickle\", \"wb\") as f:\n",
    "    pickle.dump(htf, f)"
   ]
  },
  {
   "cell_type": "markdown",
   "id": "115af5f8",
   "metadata": {},
   "source": [
    "### Test one alchemical region, no rest regions"
   ]
  },
  {
   "cell_type": "markdown",
   "id": "60604039",
   "metadata": {},
   "source": [
    "#### Old system HarmonicBondForce vs hybrid system CustomBondForce"
   ]
  },
  {
   "cell_type": "code",
   "execution_count": 22,
   "id": "c301b106",
   "metadata": {},
   "outputs": [],
   "source": [
    "# Load htf\n",
    "with open(\"/home/zhangi/choderalab/perses_benchmark/perses_protein_mutations/code/31_rest_over_protocol/cdk2_solvent.pickle\", \"rb\") as f:\n",
    "    htf = pickle.load(f)"
   ]
  },
  {
   "cell_type": "code",
   "execution_count": 23,
   "id": "41891b46",
   "metadata": {},
   "outputs": [
    {
     "name": "stdout",
     "output_type": "stream",
     "text": [
      "Warning: Returning CPU platform instead of requested platform <openmm.openmm.Platform; proxy of <Swig Object of type 'OpenMM::Platform *' at 0x2b0380ee28d0> >\n",
      "conducting subsequent work with the following platform: CPU\n",
      "conducting subsequent work with the following platform: CUDA\n",
      "[('HarmonicBondForce', 4.608082977954754), ('HarmonicAngleForce', 29.19952360920909), ('PeriodicTorsionForce', 15.076747992617824), ('NonbondedForce', 1155.3185260687214), ('AndersenThermostat', 0.0), ('MonteCarloBarostat', 0.0)]\n",
      "conducting subsequent work with the following platform: CUDA\n",
      "[('CustomBondForce', 4.608082977954754), ('AndersenThermostat', 0.0), ('MonteCarloBarostat', 0.0)]\n",
      "Success! Custom bond force and standard bond force energies are equal!\n"
     ]
    }
   ],
   "source": [
    "test_bond_energies(htf, is_solvated=True)"
   ]
  },
  {
   "cell_type": "markdown",
   "id": "1aa884bc",
   "metadata": {},
   "source": [
    "#### New system HarmonicBondForce vs hybrid system CustomBondForce"
   ]
  },
  {
   "cell_type": "code",
   "execution_count": 24,
   "id": "ea1e2d34",
   "metadata": {},
   "outputs": [],
   "source": [
    "# Load htf\n",
    "with open(\"/home/zhangi/choderalab/perses_benchmark/perses_protein_mutations/code/31_rest_over_protocol/cdk2_solvent.pickle\", \"rb\") as f:\n",
    "    htf = pickle.load(f)"
   ]
  },
  {
   "cell_type": "code",
   "execution_count": 25,
   "id": "efc8566f",
   "metadata": {},
   "outputs": [
    {
     "name": "stdout",
     "output_type": "stream",
     "text": [
      "Warning: Returning CPU platform instead of requested platform <openmm.openmm.Platform; proxy of <Swig Object of type 'OpenMM::Platform *' at 0x2b0380ee28d0> >\n",
      "conducting subsequent work with the following platform: CPU\n",
      "conducting subsequent work with the following platform: CUDA\n",
      "[('HarmonicBondForce', 4.519508183899662), ('HarmonicAngleForce', 29.156055571071168), ('PeriodicTorsionForce', 15.080137722591825), ('NonbondedForce', 1167.4875392137392), ('AndersenThermostat', 0.0), ('MonteCarloBarostat', 0.0)]\n",
      "conducting subsequent work with the following platform: CUDA\n",
      "[('CustomBondForce', 4.519508183899662), ('AndersenThermostat', 0.0), ('MonteCarloBarostat', 0.0)]\n",
      "Success! Custom bond force and standard bond force energies are equal!\n"
     ]
    }
   ],
   "source": [
    "test_bond_energies(htf, is_old=False, is_solvated=True)"
   ]
  },
  {
   "cell_type": "markdown",
   "id": "b390ade2",
   "metadata": {},
   "source": [
    "### Test one alchemical region, one rest region"
   ]
  },
  {
   "cell_type": "code",
   "execution_count": 26,
   "id": "8671a075",
   "metadata": {},
   "outputs": [],
   "source": [
    "import os\n",
    "from pkg_resources import resource_filename\n",
    "from perses.app import setup_relative_calculation\n",
    "import pickle"
   ]
  },
  {
   "cell_type": "code",
   "execution_count": 27,
   "id": "63072c61",
   "metadata": {
    "scrolled": true
   },
   "outputs": [
    {
     "name": "stderr",
     "output_type": "stream",
     "text": [
      "2021-08-19 13:28:35,793:(7.52s):root:\tDetecting phases...\n",
      "2021-08-19 13:28:35,795:(0.00s):root:\t\tphases detected: ['complex', 'solvent', 'vacuum']\n",
      "2021-08-19 13:28:35,797:(0.00s):root:No constraints will be removed\n",
      "2021-08-19 13:28:35,799:(0.00s):root:No spectators\n",
      "2021-08-19 13:28:35,800:(0.00s):root:\t\t\trun_type is not specified; default to None\n",
      "2021-08-19 13:28:35,802:(0.00s):root:\tDetecting fe_type...\n",
      "2021-08-19 13:28:35,804:(0.00s):root:\t\tfe_type: repex\n",
      "2021-08-19 13:28:35,806:(0.00s):root:\t\t\toffline-freq not specified: default to 10.\n",
      "2021-08-19 13:28:35,807:(0.00s):root:\t'neglect_angles' detected: False.\n",
      "2021-08-19 13:28:35,809:(0.00s):root:\t'softcore_v2' not specified: default to 'False'\n",
      "2021-08-19 13:28:35,811:(0.00s):root:\tCreating 'output'...\n",
      "2021-08-19 13:28:35,813:(0.00s):root:\tdetected ligand file: /home/zhangi/miniconda3/envs/perses-rest-over-protocol/lib/python3.8/site-packages/perses-0.9.1+35.gb0f7541-py3.8.egg/perses/data/cdk2-example/CDK2_ligands.sdf\n",
      "2021-08-19 13:28:35,814:(0.00s):root:\told ligand index: 14; new ligand index: 15\n",
      "2021-08-19 13:28:35,815:(0.00s):root:\tsetting up forcefield files...\n",
      "2021-08-19 13:28:35,816:(0.00s):root:\tno timestep detected: setting default as 1.0fs.\n",
      "2021-08-19 13:28:35,818:(0.00s):root:\tno splitting strings specified: defaulting to neq: V R O R V, eq: V R O R V.\n",
      "2021-08-19 13:28:35,819:(0.00s):root:\tno measure_shadow_work specified: defaulting to False.\n",
      "2021-08-19 13:28:35,819:(0.00s):root:\tsetting pressure: 1.0 atm.\n",
      "2021-08-19 13:28:35,820:(0.00s):root:\tsetting temperature: 300.0 K.\n",
      "2021-08-19 13:28:35,822:(0.00s):root:\tsetting solvent padding: 9.0 AA.\n",
      "2021-08-19 13:28:35,823:(0.00s):root:\tsetting ionic strength: 0.15 MM.\n",
      "2021-08-19 13:28:35,823:(0.00s):root:\tsetup pickle file: fesetup_hbonds.pkl\n",
      "2021-08-19 13:28:35,824:(0.00s):root:\ttrajectory directory: output\n",
      "2021-08-19 13:28:35,824:(0.00s):root:\tno atom map specified: default to None.\n",
      "2021-08-19 13:28:35,825:(0.00s):root:\tno topology_proposal specified; proceeding to RelativeFEPSetup...\n",
      "\n",
      "\n",
      "\n",
      "2021-08-19 13:28:35,825:(0.00s):root:Box dimensions: None and None\n",
      "2021-08-19 13:28:35,826:(0.00s):relative_setup:\t\t\t_hmass: 4 Da.\n",
      "\n",
      "2021-08-19 13:28:35,827:(0.00s):relative_setup:Setting non bonded method to PME\n",
      "2021-08-19 13:28:35,827:(0.00s):relative_setup:Handling files for ligands and indices...\n",
      "2021-08-19 13:28:35,828:(0.00s):relative_setup:Detected .sdf format.  Proceeding...\n",
      "2021-08-19 13:28:35,833:(0.01s):utils.openeye:molecule 17                      does not have unique atom names. Generating now...\n",
      "2021-08-19 13:28:35,849:(0.02s):utils.openeye:molecule 1h1q                      does not have unique atom names. Generating now...\n",
      "2021-08-19 13:28:35,852:(0.00s):relative_setup:\tsuccessfully extracted positions from OEMOL.\n",
      "2021-08-19 13:28:35,854:(0.00s):relative_setup:\tsetting both molecule oemol titles to 'MOL'.\n",
      "2021-08-19 13:28:35,855:(0.00s):relative_setup:\tsuccessfully created SMILES for both ligand OEMOLs.\n",
      "2021-08-19 13:28:35,859:(0.00s):relative_setup:\tsuccessfully generated topologies for both OEMOLs.\n",
      "2021-08-19 13:28:35,862:(0.00s):relative_setup:Created mdtraj topologies for both ligands.\n",
      "2021-08-19 13:28:35,863:(0.00s):relative_setup:set MonteCarloBarostat because pressure was specified as 1.0 atm atmospheres\n",
      "2021-08-19 13:28:35,872:(0.01s):relative_setup:PME tolerance: 0.00025\n",
      "2021-08-19 13:28:35,916:(0.04s):relative_setup:successfully created SystemGenerator to create ligand systems\n",
      "2021-08-19 13:28:35,918:(0.00s):relative_setup:executing SmallMoleculeSetProposalEngine...\n",
      "2021-08-19 13:28:35,920:(0.00s):relative_setup:instantiating FFAllAngleGeometryEngine...\n",
      "2021-08-19 13:28:35,922:(0.00s):relative_setup:Detected solvent...\n",
      "2021-08-19 13:28:35,924:(0.00s):relative_setup:no complex detected in phases...generating unique topology/geometry proposals...\n",
      "2021-08-19 13:28:35,925:(0.00s):relative_setup:solvating ligand...\n",
      "2021-08-19 13:28:35,927:(0.00s):relative_setup:box_dimensions: None\n",
      "2021-08-19 13:28:35,929:(0.00s):relative_setup:solvent padding: 9.0\n",
      "2021-08-19 13:28:35,930:(0.00s):relative_setup:\tpreparing to add solvent\n",
      "2021-08-19 13:28:36,120:(0.19s):openmmforcefields.generators.template_generators:Requested to generate parameters for residue <Residue 0 (MOL) of chain 0>\n",
      "2021-08-19 13:28:36,559:(0.44s):relative_setup:\tparameterizing...\n",
      "2021-08-19 13:28:36,731:(0.17s):relative_setup:\tSystem parameterized\n",
      "2021-08-19 13:28:36,765:(0.03s):relative_setup:creating TopologyProposal\n",
      "2021-08-19 13:28:36,766:(0.00s):proposal_generator:creating current receptor topology by removing small molecule from current topology...\n",
      "2021-08-19 13:28:36,774:(0.01s):proposal_generator:small molecule start index: 0\n",
      "2021-08-19 13:28:36,775:(0.00s):proposal_generator:small molecule has 45 atoms.\n",
      "2021-08-19 13:28:36,776:(0.00s):proposal_generator:old alchemical atom indices: range(0, 45)\n",
      "2021-08-19 13:28:36,777:(0.00s):proposal_generator:proposed mol detected with smiles [H]c1c(c(c(c(c1[H])[H])N([H])c2nc3c(c(n2)OC([H])([H])C4(C(C(C(C(C4([H])[H])([H])[H])([H])[H])([H])[H])([H])[H])[H])nc(n3[H])[H])[H])[H] and logp_proposal of 0.0\n",
      "2021-08-19 13:28:36,778:(0.00s):proposal_generator:conducting proposal from [H]c1c(c(c(c(c1[H])Br)[H])N([H])c2nc3c(c(n2)OC([H])([H])C4(C(C(C(C(C4([H])[H])([H])[H])([H])[H])([H])[H])([H])[H])[H])nc(n3[H])[H])[H] to [H]c1c(c(c(c(c1[H])[H])N([H])c2nc3c(c(n2)OC([H])([H])C4(C(C(C(C(C4([H])[H])([H])[H])([H])[H])([H])[H])([H])[H])[H])nc(n3[H])[H])[H])[H]...\n",
      "2021-08-19 13:28:36,780:(0.00s):proposal_generator:building new topology with proposed molecule and current receptor topology...\n",
      "2021-08-19 13:28:36,781:(0.00s):proposal_generator:\tsetting proposed oemol title to MOL\n",
      "2021-08-19 13:28:36,783:(0.00s):proposal_generator:\tcreating mol topology from oemol...\n",
      "2021-08-19 13:28:36,785:(0.00s):proposal_generator:\tappending current receptor topology to new mol topology...\n",
      "2021-08-19 13:28:36,799:(0.01s):proposal_generator:\tperiodic box vectors of the current receptor is specified; copying to new topology...\n",
      "2021-08-19 13:28:36,801:(0.00s):proposal_generator:new molecule has a start index of 2152 and 45 atoms.\n",
      "2021-08-19 13:28:36,802:(0.00s):proposal_generator:proceeding to build the new system from the new topology...\n",
      "2021-08-19 13:28:36,829:(0.03s):openmmforcefields.generators.template_generators:Requested to generate parameters for residue <Residue 720 (MOL) of chain 3>\n",
      "2021-08-19 13:28:36,984:(0.16s):proposal_generator:determining atom map between old and new molecules...\n",
      "2021-08-19 13:28:36,987:(0.00s):proposal_generator:the atom map is not specified; proceeding to generate an atom map...\n",
      "2021-08-19 13:28:37,646:(0.66s):proposal_generator:Proposed transformation would delete 1 atoms and create 1 atoms.\n",
      "2021-08-19 13:28:37,649:(0.00s):relative_setup:conducting geometry proposal...\n",
      "2021-08-19 13:28:37,650:(0.00s):geometry:propose: performing forward proposal\n",
      "2021-08-19 13:28:37,652:(0.00s):geometry:propose: unique new atoms detected; proceeding to _logp_propose...\n",
      "2021-08-19 13:28:37,654:(0.00s):geometry:Conducting forward proposal...\n",
      "2021-08-19 13:28:37,656:(0.00s):geometry:Computing proposal order with NetworkX...\n",
      "2021-08-19 13:28:37,667:(0.01s):geometry:number of atoms to be placed: 1\n",
      "2021-08-19 13:28:37,668:(0.00s):geometry:Atom index proposal order is [2190]\n",
      "2021-08-19 13:28:37,670:(0.00s):geometry:omitted_bonds: []\n",
      "2021-08-19 13:28:37,671:(0.00s):geometry:direction of proposal is forward; creating atoms_with_positions and new positions from old system/topology...\n",
      "2021-08-19 13:28:37,856:(0.18s):geometry:creating growth system...\n",
      "2021-08-19 13:28:37,902:(0.05s):geometry:\tcreating bond force...\n",
      "2021-08-19 13:28:37,904:(0.00s):geometry:\tthere are 27 bonds in reference force.\n",
      "2021-08-19 13:28:37,906:(0.00s):geometry:\tcreating angle force...\n",
      "2021-08-19 13:28:37,907:(0.00s):geometry:\tthere are 85 angles in reference force.\n",
      "2021-08-19 13:28:37,910:(0.00s):geometry:\tcreating torsion force...\n",
      "2021-08-19 13:28:37,911:(0.00s):geometry:\tcreating extra torsions force...\n",
      "2021-08-19 13:28:37,913:(0.00s):geometry:\tthere are 157 torsions in reference force.\n",
      "2021-08-19 13:28:37,915:(0.00s):geometry:\tcreating nonbonded force...\n",
      "2021-08-19 13:28:37,917:(0.00s):geometry:\t\tgrabbing reference nonbonded method, cutoff, switching function, switching distance...\n"
     ]
    },
    {
     "name": "stderr",
     "output_type": "stream",
     "text": [
      "2021-08-19 13:28:37,919:(0.00s):geometry:\t\tcreating nonbonded exception force (i.e. custom bond for 1,4s)...\n",
      "2021-08-19 13:28:37,920:(0.00s):geometry:\t\tlooping through exceptions calculating growth indices, and adding appropriate interactions to custom bond force.\n",
      "2021-08-19 13:28:37,922:(0.00s):geometry:\t\tthere are 2395 in the reference Nonbonded force\n",
      "2021-08-19 13:28:37,980:(0.06s):geometry:Neglected angle terms : []\n",
      "2021-08-19 13:28:37,982:(0.00s):geometry:omitted_growth_terms: {'bonds': [], 'angles': [], 'torsions': [], '1,4s': []}\n",
      "2021-08-19 13:28:37,983:(0.00s):geometry:extra torsions: {0: (2190, 2161, 2162, 2163, [1, Quantity(value=-0.019594642035228205, unit=radian), Quantity(value=1200.0, unit=kilocalorie/mole), 1]), 1: (2190, 2161, 2162, 2191, [1, Quantity(value=-3.1361896196768977, unit=radian), Quantity(value=1200.0, unit=kilocalorie/mole), 1]), 2: (2190, 2161, 2175, 2174, [1, Quantity(value=-0.008871224163264912, unit=radian), Quantity(value=1200.0, unit=kilocalorie/mole), 1]), 3: (2190, 2161, 2175, 2196, [1, Quantity(value=3.1405837865634907, unit=radian), Quantity(value=1200.0, unit=kilocalorie/mole), 1])}\n",
      "2021-08-19 13:28:37,984:(0.00s):geometry:neglected angle terms include []\n",
      "2021-08-19 13:28:37,985:(0.00s):geometry:log probability choice of torsions and atom order: -1.3862943611198906\n",
      "2021-08-19 13:28:37,986:(0.00s):geometry:creating platform, integrators, and contexts; setting growth parameter\n"
     ]
    },
    {
     "name": "stdout",
     "output_type": "stream",
     "text": [
      "conducting subsequent work with the following platform: CUDA\n"
     ]
    },
    {
     "name": "stderr",
     "output_type": "stream",
     "text": [
      "2021-08-19 13:28:38,501:(0.52s):geometry:setting atoms_with_positions context new positions\n",
      "2021-08-19 13:28:38,877:(0.38s):geometry:There are 1 new atoms\n"
     ]
    },
    {
     "name": "stdout",
     "output_type": "stream",
     "text": [
      "conducting subsequent work with the following platform: CUDA\n"
     ]
    },
    {
     "name": "stderr",
     "output_type": "stream",
     "text": [
      "2021-08-19 13:28:38,889:(0.01s):geometry:\treduced angle potential = 0.6139962438060625.\n",
      "2021-08-19 13:28:38,999:(0.11s):geometry:\tbeginning construction of no_nonbonded final system...\n",
      "2021-08-19 13:28:39,002:(0.00s):geometry:\tinitial no-nonbonded final system forces ['HarmonicBondForce', 'HarmonicAngleForce', 'PeriodicTorsionForce', 'NonbondedForce', 'MonteCarloBarostat']\n",
      "2021-08-19 13:28:39,118:(0.12s):geometry:\tfinal no-nonbonded final system forces dict_keys(['HarmonicBondForce', 'HarmonicAngleForce', 'PeriodicTorsionForce', 'NonbondedForce'])\n",
      "2021-08-19 13:28:39,120:(0.00s):geometry:\tthere are 27 bond forces in the no-nonbonded final system\n",
      "2021-08-19 13:28:39,122:(0.00s):geometry:\tthere are 85 angle forces in the no-nonbonded final system\n",
      "2021-08-19 13:28:39,124:(0.00s):geometry:\tthere are 157 torsion forces in the no-nonbonded final system\n",
      "2021-08-19 13:28:39,125:(0.00s):geometry:forward final system defined with 0 neglected angles.\n"
     ]
    },
    {
     "name": "stdout",
     "output_type": "stream",
     "text": [
      "conducting subsequent work with the following platform: CUDA\n"
     ]
    },
    {
     "name": "stderr",
     "output_type": "stream",
     "text": [
      "2021-08-19 13:28:40,038:(0.91s):geometry:total reduced potential before atom placement: 48.41967204742056\n"
     ]
    },
    {
     "name": "stdout",
     "output_type": "stream",
     "text": [
      "conducting subsequent work with the following platform: CUDA\n",
      "conducting subsequent work with the following platform: CUDA\n",
      "conducting subsequent work with the following platform: CUDA\n",
      "conducting subsequent work with the following platform: CUDA\n"
     ]
    },
    {
     "name": "stderr",
     "output_type": "stream",
     "text": [
      "2021-08-19 13:28:41,221:(1.18s):geometry:total reduced energy added from growth system: 9.176020450421243\n",
      "2021-08-19 13:28:41,224:(0.00s):geometry:final reduced energy 57.59569341914707\n",
      "2021-08-19 13:28:41,225:(0.00s):geometry:sum of energies: 57.5956924978418\n",
      "2021-08-19 13:28:41,227:(0.00s):geometry:magnitude of difference in the energies: 9.213052631906749e-07\n",
      "2021-08-19 13:28:41,229:(0.00s):geometry:Final logp_proposal: 7.46563656498296\n",
      "2021-08-19 13:28:41,348:(0.12s):geometry:logp_reverse: performing reverse proposal\n",
      "2021-08-19 13:28:41,351:(0.00s):geometry:logp_reverse: unique new atoms detected; proceeding to _logp_propose...\n",
      "2021-08-19 13:28:41,353:(0.00s):geometry:Conducting forward proposal...\n",
      "2021-08-19 13:28:41,355:(0.00s):geometry:Computing proposal order with NetworkX...\n",
      "2021-08-19 13:28:41,369:(0.01s):geometry:number of atoms to be placed: 1\n",
      "2021-08-19 13:28:41,371:(0.00s):geometry:Atom index proposal order is [44]\n",
      "2021-08-19 13:28:41,372:(0.00s):geometry:omitted_bonds: []\n",
      "2021-08-19 13:28:41,374:(0.00s):geometry:direction of proposal is reverse; creating atoms_with_positions from old system/topology\n"
     ]
    },
    {
     "name": "stdout",
     "output_type": "stream",
     "text": [
      "added energy components: [('CustomBondForce', 0.0), ('CustomAngleForce', 1.346359805745452), ('CustomTorsionForce', 0.015762630561245747), ('CustomBondForce', 7.813898014114544)]\n"
     ]
    },
    {
     "name": "stderr",
     "output_type": "stream",
     "text": [
      "2021-08-19 13:28:41,539:(0.17s):geometry:creating growth system...\n",
      "2021-08-19 13:28:41,594:(0.06s):geometry:\tcreating bond force...\n",
      "2021-08-19 13:28:41,597:(0.00s):geometry:\tthere are 28 bonds in reference force.\n",
      "2021-08-19 13:28:41,599:(0.00s):geometry:\tcreating angle force...\n",
      "2021-08-19 13:28:41,600:(0.00s):geometry:\tthere are 85 angles in reference force.\n",
      "2021-08-19 13:28:41,603:(0.00s):geometry:\tcreating torsion force...\n",
      "2021-08-19 13:28:41,605:(0.00s):geometry:\tcreating extra torsions force...\n",
      "2021-08-19 13:28:41,606:(0.00s):geometry:\tthere are 157 torsions in reference force.\n",
      "2021-08-19 13:28:41,609:(0.00s):geometry:\tcreating nonbonded force...\n",
      "2021-08-19 13:28:41,611:(0.00s):geometry:\t\tgrabbing reference nonbonded method, cutoff, switching function, switching distance...\n",
      "2021-08-19 13:28:41,613:(0.00s):geometry:\t\tcreating nonbonded exception force (i.e. custom bond for 1,4s)...\n",
      "2021-08-19 13:28:41,614:(0.00s):geometry:\t\tlooping through exceptions calculating growth indices, and adding appropriate interactions to custom bond force.\n",
      "2021-08-19 13:28:41,616:(0.00s):geometry:\t\tthere are 2395 in the reference Nonbonded force\n",
      "2021-08-19 13:28:41,679:(0.06s):geometry:Neglected angle terms : []\n",
      "2021-08-19 13:28:41,681:(0.00s):geometry:omitted_growth_terms: {'bonds': [], 'angles': [], 'torsions': [], '1,4s': []}\n",
      "2021-08-19 13:28:41,682:(0.00s):geometry:extra torsions: {0: (9, 10, 11, 44, [1, Quantity(value=0.017128570696415935, unit=radian), Quantity(value=1200.0, unit=kilocalorie/mole), 1]), 1: (39, 10, 11, 44, [1, Quantity(value=3.1337857477223063, unit=radian), Quantity(value=1200.0, unit=kilocalorie/mole), 1]), 2: (44, 11, 12, 22, [1, Quantity(value=0.00863885124394681, unit=radian), Quantity(value=1200.0, unit=kilocalorie/mole), 1]), 3: (44, 11, 12, 40, [1, Quantity(value=-3.1382699121359634, unit=radian), Quantity(value=1200.0, unit=kilocalorie/mole), 1])}\n",
      "2021-08-19 13:28:41,683:(0.00s):geometry:neglected angle terms include []\n",
      "2021-08-19 13:28:41,684:(0.00s):geometry:log probability choice of torsions and atom order: -1.3862943611198906\n",
      "2021-08-19 13:28:41,686:(0.00s):geometry:creating platform, integrators, and contexts; setting growth parameter\n"
     ]
    },
    {
     "name": "stdout",
     "output_type": "stream",
     "text": [
      "conducting subsequent work with the following platform: CUDA\n"
     ]
    },
    {
     "name": "stderr",
     "output_type": "stream",
     "text": [
      "2021-08-19 13:28:42,216:(0.53s):geometry:setting atoms_with_positions context old positions\n"
     ]
    },
    {
     "name": "stdout",
     "output_type": "stream",
     "text": [
      "conducting subsequent work with the following platform: CUDA\n"
     ]
    },
    {
     "name": "stderr",
     "output_type": "stream",
     "text": [
      "2021-08-19 13:28:42,612:(0.40s):geometry:There are 1 new atoms\n",
      "2021-08-19 13:28:42,618:(0.01s):geometry:\treduced angle potential = 0.012250173302112198.\n",
      "2021-08-19 13:28:42,729:(0.11s):geometry:\tbeginning construction of no_nonbonded final system...\n",
      "2021-08-19 13:28:42,731:(0.00s):geometry:\tinitial no-nonbonded final system forces ['HarmonicBondForce', 'HarmonicAngleForce', 'PeriodicTorsionForce', 'NonbondedForce', 'MonteCarloBarostat']\n",
      "2021-08-19 13:28:42,848:(0.12s):geometry:\tfinal no-nonbonded final system forces dict_keys(['HarmonicBondForce', 'HarmonicAngleForce', 'PeriodicTorsionForce', 'NonbondedForce'])\n",
      "2021-08-19 13:28:42,851:(0.00s):geometry:\tthere are 28 bond forces in the no-nonbonded final system\n",
      "2021-08-19 13:28:42,852:(0.00s):geometry:\tthere are 85 angle forces in the no-nonbonded final system\n",
      "2021-08-19 13:28:42,854:(0.00s):geometry:\tthere are 157 torsion forces in the no-nonbonded final system\n",
      "2021-08-19 13:28:42,856:(0.00s):geometry:reverse final system defined with 0 neglected angles.\n"
     ]
    },
    {
     "name": "stdout",
     "output_type": "stream",
     "text": [
      "conducting subsequent work with the following platform: CUDA\n",
      "conducting subsequent work with the following platform: CUDA\n"
     ]
    },
    {
     "name": "stderr",
     "output_type": "stream",
     "text": [
      "2021-08-19 13:28:43,864:(1.01s):geometry:total reduced potential before atom placement: 48.41899607369697\n"
     ]
    },
    {
     "name": "stdout",
     "output_type": "stream",
     "text": [
      "conducting subsequent work with the following platform: CUDA\n",
      "conducting subsequent work with the following platform: CUDA\n",
      "conducting subsequent work with the following platform: CUDA\n"
     ]
    },
    {
     "name": "stderr",
     "output_type": "stream",
     "text": [
      "2021-08-19 13:28:45,034:(1.17s):geometry:total reduced energy added from growth system: -5.038066954807732\n",
      "2021-08-19 13:28:45,036:(0.00s):geometry:final reduced energy 43.38092980084384\n",
      "2021-08-19 13:28:45,038:(0.00s):geometry:sum of energies: 43.380929118889235\n",
      "2021-08-19 13:28:45,040:(0.00s):geometry:magnitude of difference in the energies: 6.819546030101264e-07\n",
      "2021-08-19 13:28:45,041:(0.00s):geometry:Final logp_proposal: 11.562670091155372\n",
      "2021-08-19 13:28:45,181:(0.14s):root:\twriting pickle output...\n"
     ]
    },
    {
     "name": "stdout",
     "output_type": "stream",
     "text": [
      "added energy components: [('CustomBondForce', 0.08798429542805747), ('CustomAngleForce', 0.04605409749261914), ('CustomTorsionForce', 0.005423562569706602), ('CustomBondForce', -5.177528910298116)]\n"
     ]
    },
    {
     "name": "stderr",
     "output_type": "stream",
     "text": [
      "2021-08-19 13:28:45,361:(0.18s):root:\tsuccessfully dumped pickle.\n",
      "2021-08-19 13:28:45,367:(0.01s):root:\tsetup is complete.  Writing proposals and positions for each phase to top_prop dict...\n",
      "2021-08-19 13:28:45,370:(0.00s):root:\twriting atom_mapping.png\n",
      "2021-08-19 13:28:45,426:(0.06s):root:\t steps per move application: 50\n",
      "2021-08-19 13:28:45,429:(0.00s):root:\ttrajectory prefix: out\n",
      "2021-08-19 13:28:45,430:(0.00s):root:\tatom selection detected: not water\n",
      "2021-08-19 13:28:45,432:(0.00s):root:\tno nonequilibrium detected.\n",
      "2021-08-19 13:28:45,433:(0.00s):root:\tcataloging HybridTopologyFactories...\n",
      "2021-08-19 13:28:45,435:(0.00s):root:\t\tphase: solvent:\n",
      "2021-08-19 13:28:45,436:(0.00s):root:\t\twriting HybridTopologyFactory for phase solvent...\n",
      "2021-08-19 13:28:45,438:(0.00s):relative:*** Generating RestCapablePMEHybridTopologyFactory ***\n",
      "2021-08-19 13:28:45,507:(0.07s):relative:Old system forces: dict_keys(['HarmonicBondForce', 'HarmonicAngleForce', 'PeriodicTorsionForce', 'NonbondedForce', 'MonteCarloBarostat'])\n",
      "2021-08-19 13:28:45,510:(0.00s):relative:New system forces: dict_keys(['HarmonicBondForce', 'HarmonicAngleForce', 'PeriodicTorsionForce', 'NonbondedForce', 'MonteCarloBarostat'])\n",
      "2021-08-19 13:28:45,511:(0.00s):relative:No unknown forces.\n",
      "2021-08-19 13:28:45,513:(0.00s):relative:Nonbonded method to be used (i.e. from old system): 4\n",
      "2021-08-19 13:28:45,515:(0.00s):relative:Adding and mapping old atoms to hybrid system...\n",
      "2021-08-19 13:28:45,533:(0.02s):relative:Adding and mapping new atoms to hybrid system...\n",
      "2021-08-19 13:28:45,534:(0.00s):relative:Added MonteCarloBarostat.\n",
      "2021-08-19 13:28:45,536:(0.00s):relative:getDefaultPeriodicBoxVectors added to hybrid: [Quantity(value=Vec3(x=2.875229835510254, y=0.0, z=0.0), unit=nanometer), Quantity(value=Vec3(x=0.0, y=2.875229835510254, z=0.0), unit=nanometer), Quantity(value=Vec3(x=0.0, y=0.0, z=2.875229835510254), unit=nanometer)]\n",
      "2021-08-19 13:28:45,539:(0.00s):relative:Determined atom classes.\n",
      "2021-08-19 13:28:45,807:(0.27s):relative:Generating old system exceptions dict...\n",
      "2021-08-19 13:28:45,822:(0.01s):relative:Generating new system exceptions dict...\n",
      "2021-08-19 13:28:45,845:(0.02s):relative:Handling constraints...\n",
      "2021-08-19 13:28:45,891:(0.05s):relative:Handling virtual sites...\n",
      "2021-08-19 13:28:45,893:(0.00s):relative:\t_handle_virtual_sites: numVirtualSites: 0\n",
      "2021-08-19 13:28:46,545:(0.65s):root:'use_given_geometries' was passed to setup; skipping endstate validation\n",
      "2021-08-19 13:28:46,547:(0.00s):root:omitting sampler construction\n"
     ]
    }
   ],
   "source": [
    "# Create a htf\n",
    "setup_directory = resource_filename(\"perses\", \"data/cdk2-example\")\n",
    "\n",
    "# Get options\n",
    "from perses.app.setup_relative_calculation import getSetupOptions\n",
    "yaml_filename = os.path.join(setup_directory, \"cdk2_setup_repex.yaml\")\n",
    "setup_options = getSetupOptions(yaml_filename)\n",
    "\n",
    "# Update options\n",
    "for parameter in ['protein_pdb', 'ligand_file']:\n",
    "    setup_options[parameter] = os.path.join(setup_directory, setup_options[parameter])\n",
    "    \n",
    "setup_options['rest_over_protocol'] = True\n",
    "setup_options['phases'] = ['solvent']\n",
    "setup_options['use_given_geometries'] = False\n",
    "setup_options['rest_region'] = [44, 2197]\n",
    "setup_options['validate_endstate_energies'] = False    \n",
    "\n",
    "setup_dict = setup_relative_calculation.run_setup(setup_options, serialize_systems=False, build_samplers=False)"
   ]
  },
  {
   "cell_type": "code",
   "execution_count": 28,
   "id": "fd82bc90",
   "metadata": {
    "scrolled": true
   },
   "outputs": [],
   "source": [
    "htf = setup_dict['hybrid_topology_factories']['solvent']"
   ]
  },
  {
   "cell_type": "code",
   "execution_count": 29,
   "id": "2dc781dc",
   "metadata": {},
   "outputs": [],
   "source": [
    "with open(\"cdk2_solvent_scale_region.pickle\", \"wb\") as f:\n",
    "    pickle.dump(htf, f)"
   ]
  },
  {
   "cell_type": "markdown",
   "id": "dc742379",
   "metadata": {},
   "source": [
    "#### Old system HarmonicBondForce vs hybrid system CustomBondForce"
   ]
  },
  {
   "cell_type": "code",
   "execution_count": 30,
   "id": "0858c0e0",
   "metadata": {},
   "outputs": [],
   "source": [
    "# Load htf\n",
    "with open(\"/home/zhangi/choderalab/perses_benchmark/perses_protein_mutations/code/31_rest_over_protocol/cdk2_solvent_scale_region.pickle\", \"rb\") as f:\n",
    "    htf = pickle.load(f)"
   ]
  },
  {
   "cell_type": "code",
   "execution_count": 31,
   "id": "2661b103",
   "metadata": {},
   "outputs": [
    {
     "name": "stdout",
     "output_type": "stream",
     "text": [
      "Warning: Returning CPU platform instead of requested platform <openmm.openmm.Platform; proxy of <Swig Object of type 'OpenMM::Platform *' at 0x2b0380ee28d0> >\n",
      "conducting subsequent work with the following platform: CPU\n",
      "conducting subsequent work with the following platform: CUDA\n",
      "[('HarmonicBondForce', 4.608082977954754), ('HarmonicAngleForce', 29.19952360920909), ('PeriodicTorsionForce', 15.076747992617824), ('NonbondedForce', 2263.9032169954517), ('AndersenThermostat', 0.0), ('MonteCarloBarostat', 0.0)]\n",
      "conducting subsequent work with the following platform: CUDA\n",
      "[('CustomBondForce', 4.608082977954754), ('AndersenThermostat', 0.0), ('MonteCarloBarostat', 0.0)]\n",
      "Success! Custom bond force and standard bond force energies are equal!\n",
      "conducting subsequent work with the following platform: CUDA\n",
      "[('CustomBondForce', 4.608082977954754), ('AndersenThermostat', 0.0), ('MonteCarloBarostat', 0.0)]\n",
      "conducting subsequent work with the following platform: CUDA\n",
      "[('CustomBondForce', 4.563795580927208), ('AndersenThermostat', 0.0), ('MonteCarloBarostat', 0.0)]\n",
      "Success! Scaling the bond force changes the energy\n"
     ]
    }
   ],
   "source": [
    "test_bond_energies(htf, is_solvated=True, check_scale=True)"
   ]
  },
  {
   "cell_type": "markdown",
   "id": "9d93a3cd",
   "metadata": {},
   "source": [
    "#### New system HarmonicBondForce vs hybrid system CustomBondForce"
   ]
  },
  {
   "cell_type": "code",
   "execution_count": 32,
   "id": "c2ab9959",
   "metadata": {},
   "outputs": [],
   "source": [
    "# Load htf\n",
    "with open(\"/home/zhangi/choderalab/perses_benchmark/perses_protein_mutations/code/31_rest_over_protocol/cdk2_solvent_scale_region.pickle\", \"rb\") as f:\n",
    "    htf = pickle.load(f)"
   ]
  },
  {
   "cell_type": "code",
   "execution_count": 33,
   "id": "dacdf51f",
   "metadata": {
    "scrolled": false
   },
   "outputs": [
    {
     "name": "stdout",
     "output_type": "stream",
     "text": [
      "Warning: Returning CPU platform instead of requested platform <openmm.openmm.Platform; proxy of <Swig Object of type 'OpenMM::Platform *' at 0x2b0380ee28d0> >\n",
      "conducting subsequent work with the following platform: CPU\n",
      "conducting subsequent work with the following platform: CUDA\n",
      "[('HarmonicBondForce', 4.519508183899662), ('HarmonicAngleForce', 30.50855620140993), ('PeriodicTorsionForce', 15.087836996961196), ('NonbondedForce', 2274.5789646221738), ('AndersenThermostat', 0.0), ('MonteCarloBarostat', 0.0)]\n",
      "conducting subsequent work with the following platform: CUDA\n",
      "[('CustomBondForce', 4.519508183899662), ('AndersenThermostat', 0.0), ('MonteCarloBarostat', 0.0)]\n",
      "Success! Custom bond force and standard bond force energies are equal!\n"
     ]
    }
   ],
   "source": [
    "test_bond_energies(htf, is_old=False, is_solvated=True)"
   ]
  },
  {
   "cell_type": "markdown",
   "id": "moderate-christopher",
   "metadata": {},
   "source": [
    "# 8mer in solvent"
   ]
  },
  {
   "cell_type": "code",
   "execution_count": 3,
   "id": "split-fitting",
   "metadata": {},
   "outputs": [
    {
     "name": "stdout",
     "output_type": "stream",
     "text": [
      "conducting subsequent work with the following platform: CUDA\n",
      "conducting subsequent work with the following platform: CUDA\n",
      "conducting subsequent work with the following platform: CUDA\n"
     ]
    }
   ],
   "source": [
    "import os\n",
    "from pkg_resources import resource_filename\n",
    "from perses.app import setup_relative_calculation\n",
    "import pickle\n",
    "from simtk import openmm, unit\n",
    "from simtk.openmm import app\n",
    "from openmmforcefields.generators import SystemGenerator\n",
    "import numpy as np"
   ]
  },
  {
   "cell_type": "code",
   "execution_count": 4,
   "id": "charming-cassette",
   "metadata": {},
   "outputs": [],
   "source": [
    "# Test 8-mer peptide in solvent\n",
    "peptide_filename = resource_filename('perses', 'data/8mer-example/4zuh_peptide_capped.pdb')\n",
    "pdb = app.PDBFile(peptide_filename)\n",
    "forcefield_files = ['amber14/protein.ff14SB.xml', 'amber14/tip3p.xml']\n",
    "barostat = openmm.MonteCarloBarostat(1.0 * unit.atmosphere, 300 * unit.kelvin, 50)\n",
    "# barostat = None\n",
    "modeller = app.Modeller(pdb.topology, pdb.positions)\n",
    " \n",
    "system_generator = SystemGenerator(forcefields=forcefield_files,\n",
    "                                   barostat=barostat,\n",
    "                                   forcefield_kwargs={'removeCMMotion': False,\n",
    "                                                      'ewaldErrorTolerance': 0.00025,\n",
    "                                                      'constraints': app.HBonds,\n",
    "                                                      'hydrogenMass': 4 * unit.amus},\n",
    "                                   periodic_forcefield_kwargs=None,\n",
    "                                   small_molecule_forcefield='gaff-2.11',\n",
    "                                   nonperiodic_forcefield_kwargs={'nonbondedMethod': app.NoCutoff},\n",
    "                                   molecules=None,\n",
    "                                   cache=None)\n",
    "\n",
    "modeller.addSolvent(system_generator.forcefield, model='tip3p', padding=9*unit.angstroms, ionicStrength=0.15*unit.molar)\n",
    "topology = modeller.getTopology()\n",
    "positions = modeller.getPositions()\n",
    "\n",
    "# Canonicalize the solvated positions: turn tuples into np.array\n",
    "positions = unit.quantity.Quantity(value=np.array([list(atom_pos) for atom_pos in positions.value_in_unit_system(unit.md_unit_system)]), unit=unit.nanometers)\n",
    "system = system_generator.create_system(topology)\n",
    "\n"
   ]
  },
  {
   "cell_type": "code",
   "execution_count": 5,
   "id": "working-blackjack",
   "metadata": {
    "scrolled": true
   },
   "outputs": [
    {
     "name": "stderr",
     "output_type": "stream",
     "text": [
      "2021-08-19 13:37:50,182:(0.00s):proposal_generator:\tConducting polymer point mutation proposal...\n"
     ]
    },
    {
     "name": "stdout",
     "output_type": "stream",
     "text": [
      "Making mutation ALA->ARG\n"
     ]
    },
    {
     "name": "stderr",
     "output_type": "stream",
     "text": [
      "2021-08-19 13:37:50,468:(0.29s):atom_mapping:Molecules do not appear to share a common scaffold.\n",
      "2021-08-19 13:37:50,470:(0.00s):atom_mapping:Proceeding with direct mapping of molecules, but please check atom mapping and the geometry of the ligands.\n",
      "2021-08-19 13:37:50,491:(0.02s):proposal_generator:[Atom(name=CB, atomic number=6), Atom(name=HB1, atomic number=1), Atom(name=HB2, atomic number=1), Atom(name=HB3, atomic number=1)]\n",
      "2021-08-19 13:37:50,493:(0.00s):proposal_generator:[Atom(name=CB, atomic number=6), Atom(name=CG, atomic number=6), Atom(name=CD, atomic number=6), Atom(name=NE, atomic number=7), Atom(name=CZ, atomic number=6), Atom(name=NH1, atomic number=7), Atom(name=NH2, atomic number=7), Atom(name=HB2, atomic number=1), Atom(name=HB3, atomic number=1), Atom(name=HG2, atomic number=1), Atom(name=HG3, atomic number=1), Atom(name=HD2, atomic number=1), Atom(name=HD3, atomic number=1), Atom(name=HE, atomic number=1), Atom(name=HH11, atomic number=1), Atom(name=HH12, atomic number=1), Atom(name=HH21, atomic number=1), Atom(name=HH22, atomic number=1)]\n",
      "2021-08-19 13:37:51,521:(1.03s):geometry:propose: performing forward proposal\n",
      "2021-08-19 13:37:51,525:(0.00s):geometry:propose: unique new atoms detected; proceeding to _logp_propose...\n",
      "2021-08-19 13:37:51,527:(0.00s):geometry:Conducting forward proposal...\n",
      "2021-08-19 13:37:51,529:(0.00s):geometry:Computing proposal order with NetworkX...\n",
      "2021-08-19 13:37:51,540:(0.01s):geometry:number of atoms to be placed: 18\n",
      "2021-08-19 13:37:51,541:(0.00s):geometry:Atom index proposal order is [21, 26, 29, 32, 34, 35, 38, 40, 36, 27, 39, 24, 30, 33, 28, 31, 37, 25]\n",
      "2021-08-19 13:37:51,542:(0.00s):geometry:omitted_bonds: []\n",
      "2021-08-19 13:37:51,543:(0.00s):geometry:direction of proposal is forward; creating atoms_with_positions and new positions from old system/topology...\n",
      "2021-08-19 13:37:52,203:(0.66s):geometry:creating growth system...\n",
      "2021-08-19 13:37:52,342:(0.14s):geometry:\tcreating bond force...\n",
      "2021-08-19 13:37:52,345:(0.00s):geometry:\tthere are 67 bonds in reference force.\n",
      "2021-08-19 13:37:52,348:(0.00s):geometry:\tcreating angle force...\n",
      "2021-08-19 13:37:52,350:(0.00s):geometry:\tthere are 242 angles in reference force.\n",
      "2021-08-19 13:37:52,356:(0.01s):geometry:\tcreating torsion force...\n",
      "2021-08-19 13:37:52,358:(0.00s):geometry:\tcreating extra torsions force...\n",
      "2021-08-19 13:37:52,360:(0.00s):geometry:\tthere are 435 torsions in reference force.\n",
      "2021-08-19 13:37:52,368:(0.01s):geometry:\tcreating nonbonded force...\n",
      "2021-08-19 13:37:52,369:(0.00s):geometry:\t\tgrabbing reference nonbonded method, cutoff, switching function, switching distance...\n",
      "2021-08-19 13:37:52,371:(0.00s):geometry:\t\tcreating nonbonded exception force (i.e. custom bond for 1,4s)...\n",
      "2021-08-19 13:37:52,373:(0.00s):geometry:\t\tlooping through exceptions calculating growth indices, and adding appropriate interactions to custom bond force.\n",
      "2021-08-19 13:37:52,375:(0.00s):geometry:\t\tthere are 6161 in the reference Nonbonded force\n",
      "2021-08-19 13:37:52,516:(0.14s):geometry:\t\t\t\t\tchiral atom <Atom 18 (CA) of chain 0 residue 2 (ARG)> with neighbors [<Atom 19 (C) of chain 0 residue 2 (ARG)>, <Atom 21 (CB) of chain 0 residue 2 (ARG)>, <Atom 23 (HA) of chain 0 residue 2 (ARG)>, <Atom 17 (N) of chain 0 residue 2 (ARG)>] is surrounded by 3 core neighbors.  omitting chirality bias torsion\n",
      "2021-08-19 13:37:52,518:(0.00s):geometry:Neglected angle terms : []\n",
      "2021-08-19 13:37:52,519:(0.00s):geometry:omitted_growth_terms: {'bonds': [], 'angles': [], 'torsions': [], '1,4s': []}\n",
      "2021-08-19 13:37:52,520:(0.00s):geometry:extra torsions: {0: (39, 38, 34, 32, [1, Quantity(value=3.1400479780546657, unit=radian), Quantity(value=1200.0, unit=kilocalorie/mole), 11]), 1: (39, 38, 34, 35, [1, Quantity(value=-0.0009854700401916716, unit=radian), Quantity(value=1200.0, unit=kilocalorie/mole), 11]), 2: (40, 38, 34, 32, [1, Quantity(value=-0.0019499207113558015, unit=radian), Quantity(value=1200.0, unit=kilocalorie/mole), 8]), 3: (40, 38, 34, 35, [1, Quantity(value=3.1402019383733304, unit=radian), Quantity(value=1200.0, unit=kilocalorie/mole), 8]), 4: (38, 34, 35, 37, [1, Quantity(value=-3.141011085169936, unit=radian), Quantity(value=1200.0, unit=kilocalorie/mole), 17]), 5: (38, 34, 35, 36, [1, Quantity(value=0.0013841937088012735, unit=radian), Quantity(value=1200.0, unit=kilocalorie/mole), 9]), 6: (32, 34, 35, 37, [1, Quantity(value=0.0011725432810614222, unit=radian), Quantity(value=1200.0, unit=kilocalorie/mole), 17]), 7: (32, 34, 35, 36, [1, Quantity(value=-3.1396174850195098, unit=radian), Quantity(value=1200.0, unit=kilocalorie/mole), 9]), 8: (21, 18, 17, 22, [1, Quantity(value=0.9965312433928144, unit=radian), Quantity(value=1200.0, unit=kilocalorie/mole), 1])}\n",
      "2021-08-19 13:37:52,522:(0.00s):geometry:neglected angle terms include []\n",
      "2021-08-19 13:37:52,523:(0.00s):geometry:log probability choice of torsions and atom order: -33.468494903921275\n",
      "2021-08-19 13:37:52,525:(0.00s):geometry:creating platform, integrators, and contexts; setting growth parameter\n"
     ]
    },
    {
     "name": "stdout",
     "output_type": "stream",
     "text": [
      "conducting subsequent work with the following platform: CUDA\n"
     ]
    },
    {
     "name": "stderr",
     "output_type": "stream",
     "text": [
      "2021-08-19 13:37:53,057:(0.53s):geometry:setting atoms_with_positions context new positions\n"
     ]
    },
    {
     "name": "stdout",
     "output_type": "stream",
     "text": [
      "conducting subsequent work with the following platform: CUDA\n"
     ]
    },
    {
     "name": "stderr",
     "output_type": "stream",
     "text": [
      "2021-08-19 13:37:53,426:(0.37s):geometry:There are 18 new atoms\n",
      "2021-08-19 13:37:53,433:(0.01s):geometry:\treduced angle potential = 4.916905364978399.\n",
      "2021-08-19 13:37:53,544:(0.11s):geometry:\treduced angle potential = 0.15769266599368179.\n",
      "2021-08-19 13:37:53,658:(0.11s):geometry:\treduced angle potential = 1.0929879533613345.\n",
      "2021-08-19 13:37:53,773:(0.12s):geometry:\treduced angle potential = 0.07307301992939039.\n",
      "2021-08-19 13:37:53,882:(0.11s):geometry:\treduced angle potential = 0.09043932343859616.\n",
      "2021-08-19 13:37:53,991:(0.11s):geometry:\treduced angle potential = 0.49405336819669043.\n",
      "2021-08-19 13:37:54,100:(0.11s):geometry:\treduced angle potential = 1.2477968725337405.\n",
      "2021-08-19 13:37:54,215:(0.11s):geometry:\treduced angle potential = 0.4257420016103133.\n",
      "2021-08-19 13:37:54,336:(0.12s):geometry:\treduced angle potential = 2.1127147234270867.\n",
      "2021-08-19 13:37:54,453:(0.12s):geometry:\treduced angle potential = 0.4881789571773197.\n",
      "2021-08-19 13:37:54,571:(0.12s):geometry:\treduced angle potential = 0.00045680065162635107.\n",
      "2021-08-19 13:37:54,691:(0.12s):geometry:\treduced angle potential = 0.7446637321498546.\n",
      "2021-08-19 13:37:54,809:(0.12s):geometry:\treduced angle potential = 0.22403492428338412.\n",
      "2021-08-19 13:37:54,928:(0.12s):geometry:\treduced angle potential = 0.12469121041958997.\n",
      "2021-08-19 13:37:55,046:(0.12s):geometry:\treduced angle potential = 1.4295623164735651.\n",
      "2021-08-19 13:37:55,163:(0.12s):geometry:\treduced angle potential = 0.027641723240377832.\n",
      "2021-08-19 13:37:55,280:(0.12s):geometry:\treduced angle potential = 0.17151861608224467.\n",
      "2021-08-19 13:37:55,394:(0.11s):geometry:\treduced angle potential = 1.5195546866099592.\n",
      "2021-08-19 13:37:55,575:(0.18s):geometry:\tbeginning construction of no_nonbonded final system...\n",
      "2021-08-19 13:37:55,578:(0.00s):geometry:\tinitial no-nonbonded final system forces ['HarmonicBondForce', 'HarmonicAngleForce', 'PeriodicTorsionForce', 'NonbondedForce', 'MonteCarloBarostat']\n",
      "2021-08-19 13:37:55,873:(0.29s):geometry:\tfinal no-nonbonded final system forces dict_keys(['HarmonicBondForce', 'HarmonicAngleForce', 'PeriodicTorsionForce', 'NonbondedForce'])\n",
      "2021-08-19 13:37:55,875:(0.00s):geometry:\tthere are 67 bond forces in the no-nonbonded final system\n",
      "2021-08-19 13:37:55,877:(0.00s):geometry:\tthere are 242 angle forces in the no-nonbonded final system\n",
      "2021-08-19 13:37:55,878:(0.00s):geometry:\tthere are 435 torsion forces in the no-nonbonded final system\n",
      "2021-08-19 13:37:55,880:(0.00s):geometry:forward final system defined with 0 neglected angles.\n"
     ]
    },
    {
     "name": "stdout",
     "output_type": "stream",
     "text": [
      "conducting subsequent work with the following platform: CUDA\n",
      "conducting subsequent work with the following platform: CUDA\n"
     ]
    },
    {
     "name": "stderr",
     "output_type": "stream",
     "text": [
      "2021-08-19 13:37:56,990:(1.11s):geometry:total reduced potential before atom placement: 168.36662826271768\n"
     ]
    },
    {
     "name": "stdout",
     "output_type": "stream",
     "text": [
      "conducting subsequent work with the following platform: CUDA\n",
      "conducting subsequent work with the following platform: CUDA\n",
      "conducting subsequent work with the following platform: CUDA\n"
     ]
    },
    {
     "name": "stderr",
     "output_type": "stream",
     "text": [
      "2021-08-19 13:37:58,176:(1.19s):geometry:total reduced energy added from growth system: 258.7947188144386\n",
      "2021-08-19 13:37:58,178:(0.00s):geometry:final reduced energy 427.16133230070517\n",
      "2021-08-19 13:37:58,180:(0.00s):geometry:sum of energies: 427.1613470771563\n",
      "2021-08-19 13:37:58,182:(0.00s):geometry:magnitude of difference in the energies: 1.4776451166653715e-05\n",
      "2021-08-19 13:37:58,183:(0.00s):geometry:Final logp_proposal: 108.53113658147035\n",
      "2021-08-19 13:37:58,297:(0.11s):geometry:logp_reverse: performing reverse proposal\n",
      "2021-08-19 13:37:58,299:(0.00s):geometry:logp_reverse: unique new atoms detected; proceeding to _logp_propose...\n",
      "2021-08-19 13:37:58,301:(0.00s):geometry:Conducting forward proposal...\n",
      "2021-08-19 13:37:58,303:(0.00s):geometry:Computing proposal order with NetworkX...\n",
      "2021-08-19 13:37:58,313:(0.01s):geometry:number of atoms to be placed: 4\n",
      "2021-08-19 13:37:58,314:(0.00s):geometry:Atom index proposal order is [21, 26, 25, 24]\n",
      "2021-08-19 13:37:58,316:(0.00s):geometry:omitted_bonds: []\n",
      "2021-08-19 13:37:58,318:(0.00s):geometry:direction of proposal is reverse; creating atoms_with_positions from old system/topology\n"
     ]
    },
    {
     "name": "stdout",
     "output_type": "stream",
     "text": [
      "added energy components: [('CustomBondForce', 1.33886178828592), ('CustomAngleForce', 380.56068487400165), ('CustomTorsionForce', 17.065741587046485), ('CustomBondForce', -140.1705694348956)]\n"
     ]
    },
    {
     "name": "stderr",
     "output_type": "stream",
     "text": [
      "2021-08-19 13:37:58,919:(0.60s):geometry:creating growth system...\n",
      "2021-08-19 13:37:59,032:(0.11s):geometry:\tcreating bond force...\n",
      "2021-08-19 13:37:59,035:(0.00s):geometry:\tthere are 61 bonds in reference force.\n",
      "2021-08-19 13:37:59,038:(0.00s):geometry:\tcreating angle force...\n",
      "2021-08-19 13:37:59,040:(0.00s):geometry:\tthere are 218 angles in reference force.\n",
      "2021-08-19 13:37:59,044:(0.00s):geometry:\tcreating torsion force...\n",
      "2021-08-19 13:37:59,045:(0.00s):geometry:\tcreating extra torsions force...\n",
      "2021-08-19 13:37:59,047:(0.00s):geometry:\tthere are 399 torsions in reference force.\n",
      "2021-08-19 13:37:59,051:(0.00s):geometry:\tcreating nonbonded force...\n",
      "2021-08-19 13:37:59,053:(0.00s):geometry:\t\tgrabbing reference nonbonded method, cutoff, switching function, switching distance...\n",
      "2021-08-19 13:37:59,054:(0.00s):geometry:\t\tcreating nonbonded exception force (i.e. custom bond for 1,4s)...\n",
      "2021-08-19 13:37:59,056:(0.00s):geometry:\t\tlooping through exceptions calculating growth indices, and adding appropriate interactions to custom bond force.\n",
      "2021-08-19 13:37:59,057:(0.00s):geometry:\t\tthere are 6087 in the reference Nonbonded force\n",
      "2021-08-19 13:37:59,185:(0.13s):geometry:\t\t\t\t\tchiral atom <Atom 18 (CA) of chain 0 residue 2 (ALA)> with neighbors [<Atom 19 (C) of chain 0 residue 2 (ALA)>, <Atom 21 (CB) of chain 0 residue 2 (ALA)>, <Atom 23 (HA) of chain 0 residue 2 (ALA)>, <Atom 17 (N) of chain 0 residue 2 (ALA)>] is surrounded by 3 core neighbors.  omitting chirality bias torsion\n",
      "2021-08-19 13:37:59,188:(0.00s):geometry:Neglected angle terms : []\n",
      "2021-08-19 13:37:59,189:(0.00s):geometry:omitted_growth_terms: {'bonds': [], 'angles': [], 'torsions': [], '1,4s': []}\n",
      "2021-08-19 13:37:59,191:(0.00s):geometry:extra torsions: {0: (22, 17, 18, 21, [1, Quantity(value=0.9799661941737812, unit=radian), Quantity(value=1200.0, unit=kilocalorie/mole), 1]), 1: (17, 18, 21, 24, [1, Quantity(value=2.105358864604291, unit=radian), Quantity(value=1200.0, unit=kilocalorie/mole), 4]), 2: (17, 18, 21, 25, [1, Quantity(value=-2.0823006129211796, unit=radian), Quantity(value=1200.0, unit=kilocalorie/mole), 3]), 3: (17, 18, 21, 26, [1, Quantity(value=0.018582237407944735, unit=radian), Quantity(value=1200.0, unit=kilocalorie/mole), 2]), 4: (19, 18, 21, 24, [1, Quantity(value=-0.036945135932107576, unit=radian), Quantity(value=1200.0, unit=kilocalorie/mole), 4]), 5: (19, 18, 21, 25, [1, Quantity(value=2.0585806937220097, unit=radian), Quantity(value=1200.0, unit=kilocalorie/mole), 3]), 6: (19, 18, 21, 26, [1, Quantity(value=-2.1237217631284597, unit=radian), Quantity(value=1200.0, unit=kilocalorie/mole), 2]), 7: (23, 18, 21, 24, [1, Quantity(value=-2.119603470065817, unit=radian), Quantity(value=1200.0, unit=kilocalorie/mole), 4]), 8: (23, 18, 21, 25, [1, Quantity(value=-0.024077640411697132, unit=radian), Quantity(value=1200.0, unit=kilocalorie/mole), 3]), 9: (23, 18, 21, 26, [1, Quantity(value=2.0768052099174152, unit=radian), Quantity(value=1200.0, unit=kilocalorie/mole), 2])}\n",
      "2021-08-19 13:37:59,193:(0.00s):geometry:neglected angle terms include []\n",
      "2021-08-19 13:37:59,195:(0.00s):geometry:log probability choice of torsions and atom order: -5.78074351579233\n",
      "2021-08-19 13:37:59,196:(0.00s):geometry:creating platform, integrators, and contexts; setting growth parameter\n"
     ]
    },
    {
     "name": "stdout",
     "output_type": "stream",
     "text": [
      "conducting subsequent work with the following platform: CUDA\n"
     ]
    },
    {
     "name": "stderr",
     "output_type": "stream",
     "text": [
      "2021-08-19 13:37:59,669:(0.47s):geometry:setting atoms_with_positions context old positions\n",
      "2021-08-19 13:38:00,049:(0.38s):geometry:There are 4 new atoms\n",
      "2021-08-19 13:38:00,054:(0.00s):geometry:\treduced angle potential = 0.017911900159989506.\n"
     ]
    },
    {
     "name": "stdout",
     "output_type": "stream",
     "text": [
      "conducting subsequent work with the following platform: CUDA\n"
     ]
    },
    {
     "name": "stderr",
     "output_type": "stream",
     "text": [
      "2021-08-19 13:38:00,160:(0.11s):geometry:\treduced angle potential = 2.233125127093818e-08.\n",
      "2021-08-19 13:38:00,257:(0.10s):geometry:\treduced angle potential = 9.561051668702576e-06.\n",
      "2021-08-19 13:38:00,365:(0.11s):geometry:\treduced angle potential = 9.265637866968462e-06.\n",
      "2021-08-19 13:38:00,538:(0.17s):geometry:\tbeginning construction of no_nonbonded final system...\n",
      "2021-08-19 13:38:00,540:(0.00s):geometry:\tinitial no-nonbonded final system forces ['HarmonicBondForce', 'HarmonicAngleForce', 'PeriodicTorsionForce', 'NonbondedForce', 'MonteCarloBarostat']\n",
      "2021-08-19 13:38:00,798:(0.26s):geometry:\tfinal no-nonbonded final system forces dict_keys(['HarmonicBondForce', 'HarmonicAngleForce', 'PeriodicTorsionForce', 'NonbondedForce'])\n",
      "2021-08-19 13:38:00,801:(0.00s):geometry:\tthere are 61 bond forces in the no-nonbonded final system\n",
      "2021-08-19 13:38:00,802:(0.00s):geometry:\tthere are 218 angle forces in the no-nonbonded final system\n",
      "2021-08-19 13:38:00,804:(0.00s):geometry:\tthere are 399 torsion forces in the no-nonbonded final system\n",
      "2021-08-19 13:38:00,806:(0.00s):geometry:reverse final system defined with 0 neglected angles.\n"
     ]
    },
    {
     "name": "stdout",
     "output_type": "stream",
     "text": [
      "conducting subsequent work with the following platform: CUDA\n",
      "conducting subsequent work with the following platform: CUDA\n"
     ]
    },
    {
     "name": "stderr",
     "output_type": "stream",
     "text": [
      "2021-08-19 13:38:01,805:(1.00s):geometry:total reduced potential before atom placement: 168.36662826271765\n"
     ]
    },
    {
     "name": "stdout",
     "output_type": "stream",
     "text": [
      "conducting subsequent work with the following platform: CUDA\n",
      "conducting subsequent work with the following platform: CUDA\n",
      "conducting subsequent work with the following platform: CUDA\n",
      "added energy components: [('CustomBondForce', 0.04562463240715885), ('CustomAngleForce', 0.11963264577965821), ('CustomTorsionForce', 7.457414669869015), ('CustomBondForce', 11.49068603024672)]\n"
     ]
    },
    {
     "name": "stderr",
     "output_type": "stream",
     "text": [
      "2021-08-19 13:38:02,921:(1.12s):geometry:total reduced energy added from growth system: 19.11335797830255\n",
      "2021-08-19 13:38:02,923:(0.00s):geometry:final reduced energy 187.47998570132236\n",
      "2021-08-19 13:38:02,924:(0.00s):geometry:sum of energies: 187.4799862410202\n",
      "2021-08-19 13:38:02,925:(0.00s):geometry:magnitude of difference in the energies: 5.396978401961405e-07\n",
      "2021-08-19 13:38:02,926:(0.00s):geometry:Final logp_proposal: -30294.385345801762\n"
     ]
    }
   ],
   "source": [
    "from perses.rjmc.topology_proposal import PointMutationEngine\n",
    "from perses.annihilation.relative import RepartitionedHybridTopologyFactory\n",
    "from perses.tests.utils import validate_endstate_energies\n",
    "import random\n",
    "\n",
    "aminos = ['ALA','ARG','ASN','ASP','CYS','GLN','GLU','GLY','HIS','ILE','LEU','LYS','MET','PHE','PRO','SER','THR','TRP','TYR','VAL']\n",
    "\n",
    "ENERGY_THRESHOLD = 1e-6\n",
    "kB = unit.BOLTZMANN_CONSTANT_kB * unit.AVOGADRO_CONSTANT_NA\n",
    "temperature = 300.0 * unit.kelvin\n",
    "kT = kB * temperature\n",
    "beta = 1.0/kT\n",
    "\n",
    "chain = 'C'\n",
    "for res in topology.residues():\n",
    "    if res.id == '2':\n",
    "        wt_res = res.name\n",
    "aminos_updated = [amino for amino in aminos if amino not in [wt_res, 'PRO', 'HIS', 'TRP', 'PHE', 'TYR']]\n",
    "mutant = random.choice(aminos_updated)\n",
    "# mutant = \"MET\"\n",
    "print(f'Making mutation {wt_res}->{mutant}')\n",
    "\n",
    "# Create point mutation engine to mutate residue at id 2 to random amino acid\n",
    "point_mutation_engine = PointMutationEngine(wildtype_topology=topology,\n",
    "                                            system_generator=system_generator,\n",
    "                                            chain_id=chain,\n",
    "                                            max_point_mutants=1,\n",
    "                                            residues_allowed_to_mutate=['2'],  # the residue ids allowed to mutate\n",
    "                                            allowed_mutations=[('2', mutant)],\n",
    "                                            aggregate=True)  # always allow aggregation\n",
    "\n",
    "# Create topology proposal\n",
    "topology_proposal = point_mutation_engine.propose(current_system=system, current_topology=topology)\n",
    "\n",
    "# Create geometry engine\n",
    "from perses.rjmc.geometry import FFAllAngleGeometryEngine\n",
    "geometry_engine = FFAllAngleGeometryEngine(metadata=None,\n",
    "                                           use_sterics=False,\n",
    "                                           n_bond_divisions=100,\n",
    "                                           n_angle_divisions=180,\n",
    "                                           n_torsion_divisions=360,\n",
    "                                           verbose=True,\n",
    "                                           storage=None,\n",
    "                                           bond_softening_constant=1.0,\n",
    "                                           angle_softening_constant=1.0,\n",
    "                                           neglect_angles=False,\n",
    "                                           use_14_nonbondeds=True)\n",
    "\n",
    "# Create geometry proposal\n",
    "new_positions, logp_proposal = geometry_engine.propose(topology_proposal, positions, beta,\n",
    "                                                               validate_energy_bookkeeping=True)\n",
    "logp_reverse = geometry_engine.logp_reverse(topology_proposal, new_positions, positions, beta,\n",
    "                                            validate_energy_bookkeeping=True)\n",
    "\n",
    "if not topology_proposal.unique_new_atoms:\n",
    "    assert geometry_engine.forward_final_context_reduced_potential == None, f\"There are no unique new atoms but the geometry_engine's final context reduced potential is not None (i.e. {self._geometry_engine.forward_final_context_reduced_potential})\"\n",
    "    assert geometry_engine.forward_atoms_with_positions_reduced_potential == None, f\"There are no unique new atoms but the geometry_engine's forward atoms-with-positions-reduced-potential in not None (i.e. { self._geometry_engine.forward_atoms_with_positions_reduced_potential})\"\n",
    "    vacuum_added_valence_energy = 0.0\n",
    "else:\n",
    "    added_valence_energy = geometry_engine.forward_final_context_reduced_potential - geometry_engine.forward_atoms_with_positions_reduced_potential\n",
    "\n",
    "if not topology_proposal.unique_old_atoms:\n",
    "    assert geometry_engine.reverse_final_context_reduced_potential == None, f\"There are no unique old atoms but the geometry_engine's final context reduced potential is not None (i.e. {self._geometry_engine.reverse_final_context_reduced_potential})\"\n",
    "    assert geometry_engine.reverse_atoms_with_positions_reduced_potential == None, f\"There are no unique old atoms but the geometry_engine's atoms-with-positions-reduced-potential in not None (i.e. { self._geometry_engine.reverse_atoms_with_positions_reduced_potential})\"\n",
    "    subtracted_valence_energy = 0.0\n",
    "else:\n",
    "    subtracted_valence_energy = geometry_engine.reverse_final_context_reduced_potential - geometry_engine.reverse_atoms_with_positions_reduced_potential\n"
   ]
  },
  {
   "cell_type": "code",
   "execution_count": 6,
   "id": "visible-mistress",
   "metadata": {
    "scrolled": true
   },
   "outputs": [
    {
     "name": "stderr",
     "output_type": "stream",
     "text": [
      "2021-08-19 13:38:03,033:(0.11s):relative:*** Generating RestCapablePMEHybridTopologyFactory ***\n",
      "2021-08-19 13:38:03,132:(0.10s):relative:Old system forces: dict_keys(['HarmonicBondForce', 'HarmonicAngleForce', 'PeriodicTorsionForce', 'NonbondedForce', 'MonteCarloBarostat'])\n",
      "2021-08-19 13:38:03,133:(0.00s):relative:New system forces: dict_keys(['HarmonicBondForce', 'HarmonicAngleForce', 'PeriodicTorsionForce', 'NonbondedForce', 'MonteCarloBarostat'])\n",
      "2021-08-19 13:38:03,135:(0.00s):relative:No unknown forces.\n",
      "2021-08-19 13:38:03,136:(0.00s):relative:Nonbonded method to be used (i.e. from old system): 4\n",
      "2021-08-19 13:38:03,137:(0.00s):relative:Adding and mapping old atoms to hybrid system...\n",
      "2021-08-19 13:38:03,162:(0.03s):relative:Adding and mapping new atoms to hybrid system...\n",
      "2021-08-19 13:38:03,164:(0.00s):relative:Added MonteCarloBarostat.\n",
      "2021-08-19 13:38:03,165:(0.00s):relative:getDefaultPeriodicBoxVectors added to hybrid: [Quantity(value=Vec3(x=3.9005, y=0.0, z=0.0), unit=nanometer), Quantity(value=Vec3(x=0.0, y=3.9005, z=0.0), unit=nanometer), Quantity(value=Vec3(x=0.0, y=0.0, z=3.9005), unit=nanometer)]\n",
      "2021-08-19 13:38:03,168:(0.00s):relative:Determined atom classes.\n",
      "2021-08-19 13:38:03,396:(0.23s):relative:Generating old system exceptions dict...\n",
      "2021-08-19 13:38:03,434:(0.04s):relative:Generating new system exceptions dict...\n",
      "2021-08-19 13:38:03,660:(0.23s):relative:Handling constraints...\n",
      "2021-08-19 13:38:03,803:(0.14s):relative:Handling virtual sites...\n",
      "2021-08-19 13:38:03,809:(0.01s):relative:\t_handle_virtual_sites: numVirtualSites: 0\n"
     ]
    }
   ],
   "source": [
    "flatten_exceptions = True\n",
    "flatten_torsions = True\n",
    "endstate = None\n",
    "rest_region = None\n",
    "htf = RestCapablePMEHybridTopologyFactory(topology_proposal=topology_proposal,\n",
    "                     current_positions=atp.positions,\n",
    "                     new_positions=new_positions,\n",
    "                     rest_region=rest_region,\n",
    "                     use_dispersion_correction=False,\n",
    "                     generate_htf_for_testing=True,\n",
    "                     interpolate_old_and_new_14s=flatten_exceptions\n",
    "                    )"
   ]
  },
  {
   "cell_type": "code",
   "execution_count": 7,
   "id": "8de5fb16",
   "metadata": {},
   "outputs": [],
   "source": [
    "# Save htf\n",
    "with open(\"8mer_solvent.pickle\", \"wb\") as f:\n",
    "    pickle.dump(htf, f)"
   ]
  },
  {
   "cell_type": "markdown",
   "id": "spiritual-pension",
   "metadata": {},
   "source": [
    "### Test one alchemical region, no rest region"
   ]
  },
  {
   "cell_type": "markdown",
   "id": "established-handy",
   "metadata": {},
   "source": [
    "#### Old system HarmonicBondForce vs hybrid system CustomBondForce"
   ]
  },
  {
   "cell_type": "code",
   "execution_count": 8,
   "id": "accessory-spectrum",
   "metadata": {},
   "outputs": [],
   "source": [
    "# Load htf\n",
    "with open(\"/home/zhangi/choderalab/perses_benchmark/perses_protein_mutations/code/31_rest_over_protocol/8mer_solvent.pickle\", \"rb\") as f:\n",
    "    htf = pickle.load(f)"
   ]
  },
  {
   "cell_type": "code",
   "execution_count": 9,
   "id": "difficult-cream",
   "metadata": {
    "scrolled": true
   },
   "outputs": [
    {
     "name": "stdout",
     "output_type": "stream",
     "text": [
      "Warning: Returning CPU platform instead of requested platform <openmm.openmm.Platform; proxy of <Swig Object of type 'OpenMM::Platform *' at 0x2b697acd5f30> >\n",
      "conducting subsequent work with the following platform: CPU\n",
      "conducting subsequent work with the following platform: CUDA\n",
      "[('HarmonicBondForce', 7.300105424153172), ('HarmonicAngleForce', 12.445685055931843), ('PeriodicTorsionForce', 156.2435090637808), ('NonbondedForce', -9977.178722665794), ('AndersenThermostat', 0.0), ('MonteCarloBarostat', 0.0)]\n",
      "conducting subsequent work with the following platform: CUDA\n",
      "[('CustomBondForce', 7.300105424153172), ('AndersenThermostat', 0.0), ('MonteCarloBarostat', 0.0)]\n",
      "Success! Custom bond force and standard bond force energies are equal!\n"
     ]
    }
   ],
   "source": [
    "test_bond_energies(htf, is_solvated=True)"
   ]
  },
  {
   "cell_type": "markdown",
   "id": "southeast-norwegian",
   "metadata": {},
   "source": [
    "#### New system HarmonicBondForce vs hybrid system CustomBondForce"
   ]
  },
  {
   "cell_type": "code",
   "execution_count": 10,
   "id": "after-medicaid",
   "metadata": {},
   "outputs": [],
   "source": [
    "# Load htf\n",
    "with open(\"/home/zhangi/choderalab/perses_benchmark/perses_protein_mutations/code/31_rest_over_protocol/8mer_solvent.pickle\", \"rb\") as f:\n",
    "    htf = pickle.load(f)\n"
   ]
  },
  {
   "cell_type": "code",
   "execution_count": 11,
   "id": "protected-playing",
   "metadata": {
    "scrolled": true
   },
   "outputs": [
    {
     "name": "stdout",
     "output_type": "stream",
     "text": [
      "Warning: Returning CPU platform instead of requested platform <openmm.openmm.Platform; proxy of <Swig Object of type 'OpenMM::Platform *' at 0x2b697acd5f30> >\n",
      "conducting subsequent work with the following platform: CPU\n",
      "conducting subsequent work with the following platform: CUDA\n",
      "[('HarmonicBondForce', 8.593342580031933), ('HarmonicAngleForce', 392.8867372841539), ('PeriodicTorsionForce', 165.85183375283793), ('NonbondedForce', 4695.038642747033), ('AndersenThermostat', 0.0), ('MonteCarloBarostat', 0.0)]\n",
      "conducting subsequent work with the following platform: CUDA\n",
      "[('CustomBondForce', 8.593342580031933), ('AndersenThermostat', 0.0), ('MonteCarloBarostat', 0.0)]\n",
      "Success! Custom bond force and standard bond force energies are equal!\n"
     ]
    }
   ],
   "source": [
    "test_bond_energies(htf, is_old=False, is_solvated=True)"
   ]
  },
  {
   "cell_type": "markdown",
   "id": "intellectual-pennsylvania",
   "metadata": {},
   "source": [
    "### Test one alchemical region, one rest region"
   ]
  },
  {
   "cell_type": "code",
   "execution_count": 12,
   "id": "4e12fd1c",
   "metadata": {},
   "outputs": [],
   "source": [
    "import os\n",
    "from pkg_resources import resource_filename\n",
    "from perses.app import setup_relative_calculation\n",
    "import pickle\n",
    "from simtk import openmm, unit\n",
    "from simtk.openmm import app\n",
    "from openmmforcefields.generators import SystemGenerator\n",
    "import numpy as np"
   ]
  },
  {
   "cell_type": "code",
   "execution_count": 13,
   "id": "12142255",
   "metadata": {},
   "outputs": [],
   "source": [
    "# Test 8-mer peptide in solvent\n",
    "peptide_filename = resource_filename('perses', 'data/8mer-example/4zuh_peptide_capped.pdb')\n",
    "pdb = app.PDBFile(peptide_filename)\n",
    "forcefield_files = ['amber14/protein.ff14SB.xml', 'amber14/tip3p.xml']\n",
    "barostat = openmm.MonteCarloBarostat(1.0 * unit.atmosphere, 300 * unit.kelvin, 50)\n",
    "# barostat = None\n",
    "modeller = app.Modeller(pdb.topology, pdb.positions)\n",
    " \n",
    "system_generator = SystemGenerator(forcefields=forcefield_files,\n",
    "                                   barostat=barostat,\n",
    "                                   forcefield_kwargs={'removeCMMotion': False,\n",
    "                                                      'ewaldErrorTolerance': 0.00025,\n",
    "                                                      'constraints': app.HBonds,\n",
    "                                                      'hydrogenMass': 4 * unit.amus},\n",
    "                                   periodic_forcefield_kwargs=None,\n",
    "                                   small_molecule_forcefield='gaff-2.11',\n",
    "                                   nonperiodic_forcefield_kwargs={'nonbondedMethod': app.NoCutoff},\n",
    "                                   molecules=None,\n",
    "                                   cache=None)\n",
    "\n",
    "modeller.addSolvent(system_generator.forcefield, model='tip3p', padding=9*unit.angstroms, ionicStrength=0.15*unit.molar)\n",
    "topology = modeller.getTopology()\n",
    "positions = modeller.getPositions()\n",
    "\n",
    "# Canonicalize the solvated positions: turn tuples into np.array\n",
    "positions = unit.quantity.Quantity(value=np.array([list(atom_pos) for atom_pos in positions.value_in_unit_system(unit.md_unit_system)]), unit=unit.nanometers)\n",
    "system = system_generator.create_system(topology)\n",
    "\n"
   ]
  },
  {
   "cell_type": "code",
   "execution_count": 14,
   "id": "dd6352bf",
   "metadata": {
    "scrolled": true
   },
   "outputs": [
    {
     "name": "stderr",
     "output_type": "stream",
     "text": [
      "2021-08-19 13:38:28,906:(25.10s):proposal_generator:\tConducting polymer point mutation proposal...\n",
      "2021-08-19 13:38:29,070:(0.16s):atom_mapping:Molecules do not appear to share a common scaffold.\n",
      "2021-08-19 13:38:29,072:(0.00s):atom_mapping:Proceeding with direct mapping of molecules, but please check atom mapping and the geometry of the ligands.\n",
      "2021-08-19 13:38:29,087:(0.01s):proposal_generator:[Atom(name=CB, atomic number=6), Atom(name=HB1, atomic number=1), Atom(name=HB2, atomic number=1), Atom(name=HB3, atomic number=1)]\n",
      "2021-08-19 13:38:29,091:(0.00s):proposal_generator:[Atom(name=CB, atomic number=6), Atom(name=CG, atomic number=6), Atom(name=CD, atomic number=6), Atom(name=OE1, atomic number=8), Atom(name=OE2, atomic number=8), Atom(name=HB2, atomic number=1), Atom(name=HB3, atomic number=1), Atom(name=HG2, atomic number=1), Atom(name=HG3, atomic number=1)]\n"
     ]
    },
    {
     "name": "stdout",
     "output_type": "stream",
     "text": [
      "Making mutation ALA->GLU\n"
     ]
    },
    {
     "name": "stderr",
     "output_type": "stream",
     "text": [
      "2021-08-19 13:38:30,431:(1.34s):geometry:propose: performing forward proposal\n",
      "2021-08-19 13:38:30,441:(0.01s):geometry:propose: unique new atoms detected; proceeding to _logp_propose...\n",
      "2021-08-19 13:38:30,443:(0.00s):geometry:Conducting forward proposal...\n",
      "2021-08-19 13:38:30,444:(0.00s):geometry:Computing proposal order with NetworkX...\n",
      "2021-08-19 13:38:30,452:(0.01s):geometry:number of atoms to be placed: 9\n",
      "2021-08-19 13:38:30,459:(0.01s):geometry:Atom index proposal order is [21, 26, 29, 30, 31, 28, 24, 27, 25]\n",
      "2021-08-19 13:38:30,460:(0.00s):geometry:omitted_bonds: []\n",
      "2021-08-19 13:38:30,461:(0.00s):geometry:direction of proposal is forward; creating atoms_with_positions and new positions from old system/topology...\n",
      "2021-08-19 13:38:31,585:(1.12s):geometry:creating growth system...\n",
      "2021-08-19 13:38:31,752:(0.17s):geometry:\tcreating bond force...\n",
      "2021-08-19 13:38:31,754:(0.00s):geometry:\tthere are 65 bonds in reference force.\n",
      "2021-08-19 13:38:31,756:(0.00s):geometry:\tcreating angle force...\n",
      "2021-08-19 13:38:31,757:(0.00s):geometry:\tthere are 227 angles in reference force.\n",
      "2021-08-19 13:38:31,760:(0.00s):geometry:\tcreating torsion force...\n",
      "2021-08-19 13:38:31,761:(0.00s):geometry:\tcreating extra torsions force...\n",
      "2021-08-19 13:38:31,763:(0.00s):geometry:\tthere are 422 torsions in reference force.\n",
      "2021-08-19 13:38:31,772:(0.01s):geometry:\tcreating nonbonded force...\n",
      "2021-08-19 13:38:31,773:(0.00s):geometry:\t\tgrabbing reference nonbonded method, cutoff, switching function, switching distance...\n",
      "2021-08-19 13:38:31,774:(0.00s):geometry:\t\tcreating nonbonded exception force (i.e. custom bond for 1,4s)...\n",
      "2021-08-19 13:38:31,775:(0.00s):geometry:\t\tlooping through exceptions calculating growth indices, and adding appropriate interactions to custom bond force.\n",
      "2021-08-19 13:38:31,776:(0.00s):geometry:\t\tthere are 6116 in the reference Nonbonded force\n",
      "2021-08-19 13:38:31,949:(0.17s):geometry:\t\t\t\t\tchiral atom <Atom 18 (CA) of chain 0 residue 2 (GLU)> with neighbors [<Atom 19 (C) of chain 0 residue 2 (GLU)>, <Atom 21 (CB) of chain 0 residue 2 (GLU)>, <Atom 23 (HA) of chain 0 residue 2 (GLU)>, <Atom 17 (N) of chain 0 residue 2 (GLU)>] is surrounded by 3 core neighbors.  omitting chirality bias torsion\n",
      "2021-08-19 13:38:31,954:(0.01s):geometry:Neglected angle terms : []\n",
      "2021-08-19 13:38:31,956:(0.00s):geometry:omitted_growth_terms: {'bonds': [], 'angles': [], 'torsions': [], '1,4s': []}\n",
      "2021-08-19 13:38:31,957:(0.00s):geometry:extra torsions: {0: (22, 17, 18, 21, [1, Quantity(value=1.0060900571611229, unit=radian), Quantity(value=1200.0, unit=kilocalorie/mole), 1])}\n",
      "2021-08-19 13:38:31,958:(0.00s):geometry:neglected angle terms include []\n",
      "2021-08-19 13:38:31,960:(0.00s):geometry:log probability choice of torsions and atom order: -11.67789738342907\n",
      "2021-08-19 13:38:31,961:(0.00s):geometry:creating platform, integrators, and contexts; setting growth parameter\n"
     ]
    },
    {
     "name": "stdout",
     "output_type": "stream",
     "text": [
      "conducting subsequent work with the following platform: CUDA\n"
     ]
    },
    {
     "name": "stderr",
     "output_type": "stream",
     "text": [
      "2021-08-19 13:38:35,536:(3.58s):geometry:setting atoms_with_positions context new positions\n"
     ]
    },
    {
     "name": "stdout",
     "output_type": "stream",
     "text": [
      "conducting subsequent work with the following platform: CUDA\n"
     ]
    },
    {
     "name": "stderr",
     "output_type": "stream",
     "text": [
      "2021-08-19 13:38:37,132:(1.60s):geometry:There are 9 new atoms\n",
      "2021-08-19 13:38:37,137:(0.01s):geometry:\treduced angle potential = 0.020597324927655033.\n",
      "2021-08-19 13:38:37,342:(0.20s):geometry:\treduced angle potential = 0.012843278804145732.\n",
      "2021-08-19 13:38:37,547:(0.21s):geometry:\treduced angle potential = 0.34455612715902373.\n",
      "2021-08-19 13:38:37,756:(0.21s):geometry:\treduced angle potential = 0.2618499775525778.\n",
      "2021-08-19 13:38:37,964:(0.21s):geometry:\treduced angle potential = 1.2628897854623.\n",
      "2021-08-19 13:38:38,194:(0.23s):geometry:\treduced angle potential = 1.1080570742918927.\n",
      "2021-08-19 13:38:38,415:(0.22s):geometry:\treduced angle potential = 0.6007514267159487.\n",
      "2021-08-19 13:38:38,622:(0.21s):geometry:\treduced angle potential = 0.4375859464760802.\n",
      "2021-08-19 13:38:38,822:(0.20s):geometry:\treduced angle potential = 0.2907499232669775.\n",
      "2021-08-19 13:38:39,164:(0.34s):geometry:\tbeginning construction of no_nonbonded final system...\n",
      "2021-08-19 13:38:39,167:(0.00s):geometry:\tinitial no-nonbonded final system forces ['HarmonicBondForce', 'HarmonicAngleForce', 'PeriodicTorsionForce', 'NonbondedForce', 'MonteCarloBarostat']\n",
      "2021-08-19 13:38:39,743:(0.58s):geometry:\tfinal no-nonbonded final system forces dict_keys(['HarmonicBondForce', 'HarmonicAngleForce', 'PeriodicTorsionForce', 'NonbondedForce'])\n",
      "2021-08-19 13:38:39,758:(0.02s):geometry:\tthere are 65 bond forces in the no-nonbonded final system\n",
      "2021-08-19 13:38:39,760:(0.00s):geometry:\tthere are 227 angle forces in the no-nonbonded final system\n",
      "2021-08-19 13:38:39,761:(0.00s):geometry:\tthere are 422 torsion forces in the no-nonbonded final system\n",
      "2021-08-19 13:38:39,763:(0.00s):geometry:forward final system defined with 0 neglected angles.\n"
     ]
    },
    {
     "name": "stdout",
     "output_type": "stream",
     "text": [
      "conducting subsequent work with the following platform: CUDA\n",
      "conducting subsequent work with the following platform: CUDA\n"
     ]
    },
    {
     "name": "stderr",
     "output_type": "stream",
     "text": [
      "2021-08-19 13:38:45,819:(6.06s):geometry:total reduced potential before atom placement: 168.36662826271763\n"
     ]
    },
    {
     "name": "stdout",
     "output_type": "stream",
     "text": [
      "conducting subsequent work with the following platform: CUDA\n",
      "conducting subsequent work with the following platform: CUDA\n",
      "conducting subsequent work with the following platform: CUDA\n"
     ]
    },
    {
     "name": "stderr",
     "output_type": "stream",
     "text": [
      "2021-08-19 13:38:49,994:(4.17s):geometry:total reduced energy added from growth system: 420.77464150022854\n",
      "2021-08-19 13:38:49,997:(0.00s):geometry:final reduced energy 589.1412696545614\n",
      "2021-08-19 13:38:49,999:(0.00s):geometry:sum of energies: 589.1412697629462\n",
      "2021-08-19 13:38:50,000:(0.00s):geometry:magnitude of difference in the energies: 1.0838482467079302e-07\n",
      "2021-08-19 13:38:50,002:(0.00s):geometry:Final logp_proposal: 60.02208657338611\n",
      "2021-08-19 13:38:50,141:(0.14s):geometry:logp_reverse: performing reverse proposal\n",
      "2021-08-19 13:38:50,144:(0.00s):geometry:logp_reverse: unique new atoms detected; proceeding to _logp_propose...\n",
      "2021-08-19 13:38:50,146:(0.00s):geometry:Conducting forward proposal...\n",
      "2021-08-19 13:38:50,148:(0.00s):geometry:Computing proposal order with NetworkX...\n",
      "2021-08-19 13:38:50,159:(0.01s):geometry:number of atoms to be placed: 4\n"
     ]
    },
    {
     "name": "stdout",
     "output_type": "stream",
     "text": [
      "added energy components: [('CustomBondForce', 3.6351450536445777), ('CustomAngleForce', 267.3176492939772), ('CustomTorsionForce', 21.114259131503708), ('CustomBondForce', 128.707588021103)]\n"
     ]
    },
    {
     "name": "stderr",
     "output_type": "stream",
     "text": [
      "2021-08-19 13:38:50,162:(0.00s):geometry:Atom index proposal order is [21, 24, 26, 25]\n",
      "2021-08-19 13:38:50,164:(0.00s):geometry:omitted_bonds: []\n",
      "2021-08-19 13:38:50,166:(0.00s):geometry:direction of proposal is reverse; creating atoms_with_positions from old system/topology\n",
      "2021-08-19 13:38:50,872:(0.71s):geometry:creating growth system...\n",
      "2021-08-19 13:38:50,997:(0.12s):geometry:\tcreating bond force...\n",
      "2021-08-19 13:38:50,999:(0.00s):geometry:\tthere are 61 bonds in reference force.\n",
      "2021-08-19 13:38:51,002:(0.00s):geometry:\tcreating angle force...\n",
      "2021-08-19 13:38:51,004:(0.00s):geometry:\tthere are 218 angles in reference force.\n",
      "2021-08-19 13:38:51,008:(0.00s):geometry:\tcreating torsion force...\n",
      "2021-08-19 13:38:51,009:(0.00s):geometry:\tcreating extra torsions force...\n",
      "2021-08-19 13:38:51,011:(0.00s):geometry:\tthere are 399 torsions in reference force.\n",
      "2021-08-19 13:38:51,015:(0.00s):geometry:\tcreating nonbonded force...\n",
      "2021-08-19 13:38:51,017:(0.00s):geometry:\t\tgrabbing reference nonbonded method, cutoff, switching function, switching distance...\n",
      "2021-08-19 13:38:51,018:(0.00s):geometry:\t\tcreating nonbonded exception force (i.e. custom bond for 1,4s)...\n",
      "2021-08-19 13:38:51,020:(0.00s):geometry:\t\tlooping through exceptions calculating growth indices, and adding appropriate interactions to custom bond force.\n",
      "2021-08-19 13:38:51,021:(0.00s):geometry:\t\tthere are 6087 in the reference Nonbonded force\n",
      "2021-08-19 13:38:51,144:(0.12s):geometry:\t\t\t\t\tchiral atom <Atom 18 (CA) of chain 0 residue 2 (ALA)> with neighbors [<Atom 19 (C) of chain 0 residue 2 (ALA)>, <Atom 21 (CB) of chain 0 residue 2 (ALA)>, <Atom 23 (HA) of chain 0 residue 2 (ALA)>, <Atom 17 (N) of chain 0 residue 2 (ALA)>] is surrounded by 3 core neighbors.  omitting chirality bias torsion\n",
      "2021-08-19 13:38:51,147:(0.00s):geometry:Neglected angle terms : []\n",
      "2021-08-19 13:38:51,148:(0.00s):geometry:omitted_growth_terms: {'bonds': [], 'angles': [], 'torsions': [], '1,4s': []}\n",
      "2021-08-19 13:38:51,150:(0.00s):geometry:extra torsions: {0: (22, 17, 18, 21, [1, Quantity(value=0.9799661941737812, unit=radian), Quantity(value=1200.0, unit=kilocalorie/mole), 1]), 1: (17, 18, 21, 24, [1, Quantity(value=2.105358864604291, unit=radian), Quantity(value=1200.0, unit=kilocalorie/mole), 2]), 2: (17, 18, 21, 25, [1, Quantity(value=-2.0823006129211796, unit=radian), Quantity(value=1200.0, unit=kilocalorie/mole), 4]), 3: (17, 18, 21, 26, [1, Quantity(value=0.018582237407944735, unit=radian), Quantity(value=1200.0, unit=kilocalorie/mole), 3]), 4: (19, 18, 21, 24, [1, Quantity(value=-0.036945135932107576, unit=radian), Quantity(value=1200.0, unit=kilocalorie/mole), 2]), 5: (19, 18, 21, 25, [1, Quantity(value=2.0585806937220097, unit=radian), Quantity(value=1200.0, unit=kilocalorie/mole), 4]), 6: (19, 18, 21, 26, [1, Quantity(value=-2.1237217631284597, unit=radian), Quantity(value=1200.0, unit=kilocalorie/mole), 3]), 7: (23, 18, 21, 24, [1, Quantity(value=-2.119603470065817, unit=radian), Quantity(value=1200.0, unit=kilocalorie/mole), 2]), 8: (23, 18, 21, 25, [1, Quantity(value=-0.024077640411697132, unit=radian), Quantity(value=1200.0, unit=kilocalorie/mole), 4]), 9: (23, 18, 21, 26, [1, Quantity(value=2.0768052099174152, unit=radian), Quantity(value=1200.0, unit=kilocalorie/mole), 3])}\n",
      "2021-08-19 13:38:51,152:(0.00s):geometry:neglected angle terms include []\n",
      "2021-08-19 13:38:51,153:(0.00s):geometry:log probability choice of torsions and atom order: -5.78074351579233\n",
      "2021-08-19 13:38:51,155:(0.00s):geometry:creating platform, integrators, and contexts; setting growth parameter\n"
     ]
    },
    {
     "name": "stdout",
     "output_type": "stream",
     "text": [
      "conducting subsequent work with the following platform: CUDA\n"
     ]
    },
    {
     "name": "stderr",
     "output_type": "stream",
     "text": [
      "2021-08-19 13:38:51,722:(0.57s):geometry:setting atoms_with_positions context old positions\n"
     ]
    },
    {
     "name": "stdout",
     "output_type": "stream",
     "text": [
      "conducting subsequent work with the following platform: CUDA\n"
     ]
    },
    {
     "name": "stderr",
     "output_type": "stream",
     "text": [
      "2021-08-19 13:38:52,160:(0.44s):geometry:There are 4 new atoms\n",
      "2021-08-19 13:38:52,165:(0.01s):geometry:\treduced angle potential = 0.017911900159989506.\n",
      "2021-08-19 13:38:52,267:(0.10s):geometry:\treduced angle potential = 9.265637866968462e-06.\n",
      "2021-08-19 13:38:52,371:(0.10s):geometry:\treduced angle potential = 2.233125127093818e-08.\n",
      "2021-08-19 13:38:52,464:(0.09s):geometry:\treduced angle potential = 9.561051668702576e-06.\n",
      "2021-08-19 13:38:52,621:(0.16s):geometry:\tbeginning construction of no_nonbonded final system...\n",
      "2021-08-19 13:38:52,623:(0.00s):geometry:\tinitial no-nonbonded final system forces ['HarmonicBondForce', 'HarmonicAngleForce', 'PeriodicTorsionForce', 'NonbondedForce', 'MonteCarloBarostat']\n",
      "2021-08-19 13:38:52,858:(0.24s):geometry:\tfinal no-nonbonded final system forces dict_keys(['HarmonicBondForce', 'HarmonicAngleForce', 'PeriodicTorsionForce', 'NonbondedForce'])\n",
      "2021-08-19 13:38:52,861:(0.00s):geometry:\tthere are 61 bond forces in the no-nonbonded final system\n",
      "2021-08-19 13:38:52,863:(0.00s):geometry:\tthere are 218 angle forces in the no-nonbonded final system\n",
      "2021-08-19 13:38:52,864:(0.00s):geometry:\tthere are 399 torsion forces in the no-nonbonded final system\n",
      "2021-08-19 13:38:52,866:(0.00s):geometry:reverse final system defined with 0 neglected angles.\n"
     ]
    },
    {
     "name": "stdout",
     "output_type": "stream",
     "text": [
      "conducting subsequent work with the following platform: CUDA\n"
     ]
    },
    {
     "name": "stderr",
     "output_type": "stream",
     "text": [
      "2021-08-19 13:38:53,905:(1.04s):geometry:total reduced potential before atom placement: 168.36662826271765\n"
     ]
    },
    {
     "name": "stdout",
     "output_type": "stream",
     "text": [
      "conducting subsequent work with the following platform: CUDA\n",
      "conducting subsequent work with the following platform: CUDA\n",
      "conducting subsequent work with the following platform: CUDA\n",
      "conducting subsequent work with the following platform: CUDA\n"
     ]
    },
    {
     "name": "stderr",
     "output_type": "stream",
     "text": [
      "2021-08-19 13:38:55,151:(1.25s):geometry:total reduced energy added from growth system: 19.11335797830255\n",
      "2021-08-19 13:38:55,154:(0.00s):geometry:final reduced energy 187.47998570132236\n",
      "2021-08-19 13:38:55,156:(0.00s):geometry:sum of energies: 187.4799862410202\n",
      "2021-08-19 13:38:55,157:(0.00s):geometry:magnitude of difference in the energies: 5.396978401961405e-07\n",
      "2021-08-19 13:38:55,158:(0.00s):geometry:Final logp_proposal: -30393.957534332112\n"
     ]
    },
    {
     "name": "stdout",
     "output_type": "stream",
     "text": [
      "added energy components: [('CustomBondForce', 0.04562463240715885), ('CustomAngleForce', 0.11963264577965821), ('CustomTorsionForce', 7.457414669869015), ('CustomBondForce', 11.49068603024672)]\n"
     ]
    }
   ],
   "source": [
    "from perses.rjmc.topology_proposal import PointMutationEngine\n",
    "from perses.annihilation.relative import RepartitionedHybridTopologyFactory\n",
    "from perses.tests.utils import validate_endstate_energies\n",
    "import random\n",
    "\n",
    "aminos = ['ALA','ARG','ASN','ASP','CYS','GLN','GLU','GLY','HIS','ILE','LEU','LYS','MET','PHE','PRO','SER','THR','TRP','TYR','VAL']\n",
    "\n",
    "ENERGY_THRESHOLD = 1e-6\n",
    "kB = unit.BOLTZMANN_CONSTANT_kB * unit.AVOGADRO_CONSTANT_NA\n",
    "temperature = 300.0 * unit.kelvin\n",
    "kT = kB * temperature\n",
    "beta = 1.0/kT\n",
    "\n",
    "chain = 'C'\n",
    "for res in topology.residues():\n",
    "    if res.id == '2':\n",
    "        wt_res = res.name\n",
    "aminos_updated = [amino for amino in aminos if amino not in [wt_res, 'PRO', 'HIS', 'TRP', 'PHE', 'TYR']]\n",
    "mutant = random.choice(aminos_updated)\n",
    "print(f'Making mutation {wt_res}->{mutant}')\n",
    "\n",
    "# Create point mutation engine to mutate residue at id 2 to random amino acid\n",
    "point_mutation_engine = PointMutationEngine(wildtype_topology=topology,\n",
    "                                            system_generator=system_generator,\n",
    "                                            chain_id=chain,\n",
    "                                            max_point_mutants=1,\n",
    "                                            residues_allowed_to_mutate=['2'],  # the residue ids allowed to mutate\n",
    "                                            allowed_mutations=[('2', mutant)],\n",
    "                                            aggregate=True)  # always allow aggregation\n",
    "\n",
    "# Create topology proposal\n",
    "topology_proposal = point_mutation_engine.propose(current_system=system, current_topology=topology)\n",
    "\n",
    "# Create geometry engine\n",
    "from perses.rjmc.geometry import FFAllAngleGeometryEngine\n",
    "geometry_engine = FFAllAngleGeometryEngine(metadata=None,\n",
    "                                           use_sterics=False,\n",
    "                                           n_bond_divisions=100,\n",
    "                                           n_angle_divisions=180,\n",
    "                                           n_torsion_divisions=360,\n",
    "                                           verbose=True,\n",
    "                                           storage=None,\n",
    "                                           bond_softening_constant=1.0,\n",
    "                                           angle_softening_constant=1.0,\n",
    "                                           neglect_angles=False,\n",
    "                                           use_14_nonbondeds=True)\n",
    "\n",
    "# Create geometry proposal\n",
    "new_positions, logp_proposal = geometry_engine.propose(topology_proposal, positions, beta,\n",
    "                                                               validate_energy_bookkeeping=True)\n",
    "logp_reverse = geometry_engine.logp_reverse(topology_proposal, new_positions, positions, beta,\n",
    "                                            validate_energy_bookkeeping=True)\n",
    "\n",
    "if not topology_proposal.unique_new_atoms:\n",
    "    assert geometry_engine.forward_final_context_reduced_potential == None, f\"There are no unique new atoms but the geometry_engine's final context reduced potential is not None (i.e. {self._geometry_engine.forward_final_context_reduced_potential})\"\n",
    "    assert geometry_engine.forward_atoms_with_positions_reduced_potential == None, f\"There are no unique new atoms but the geometry_engine's forward atoms-with-positions-reduced-potential in not None (i.e. { self._geometry_engine.forward_atoms_with_positions_reduced_potential})\"\n",
    "    vacuum_added_valence_energy = 0.0\n",
    "else:\n",
    "    added_valence_energy = geometry_engine.forward_final_context_reduced_potential - geometry_engine.forward_atoms_with_positions_reduced_potential\n",
    "\n",
    "if not topology_proposal.unique_old_atoms:\n",
    "    assert geometry_engine.reverse_final_context_reduced_potential == None, f\"There are no unique old atoms but the geometry_engine's final context reduced potential is not None (i.e. {self._geometry_engine.reverse_final_context_reduced_potential})\"\n",
    "    assert geometry_engine.reverse_atoms_with_positions_reduced_potential == None, f\"There are no unique old atoms but the geometry_engine's atoms-with-positions-reduced-potential in not None (i.e. { self._geometry_engine.reverse_atoms_with_positions_reduced_potential})\"\n",
    "    subtracted_valence_energy = 0.0\n",
    "else:\n",
    "    subtracted_valence_energy = geometry_engine.reverse_final_context_reduced_potential - geometry_engine.reverse_atoms_with_positions_reduced_potential\n"
   ]
  },
  {
   "cell_type": "code",
   "execution_count": 15,
   "id": "3213dec6",
   "metadata": {
    "scrolled": true
   },
   "outputs": [
    {
     "name": "stderr",
     "output_type": "stream",
     "text": [
      "2021-08-19 13:38:55,295:(0.14s):relative:*** Generating RestCapablePMEHybridTopologyFactory ***\n",
      "2021-08-19 13:38:55,474:(0.18s):relative:Old system forces: dict_keys(['HarmonicBondForce', 'HarmonicAngleForce', 'PeriodicTorsionForce', 'NonbondedForce', 'MonteCarloBarostat'])\n",
      "2021-08-19 13:38:55,477:(0.00s):relative:New system forces: dict_keys(['HarmonicBondForce', 'HarmonicAngleForce', 'PeriodicTorsionForce', 'NonbondedForce', 'MonteCarloBarostat'])\n",
      "2021-08-19 13:38:55,479:(0.00s):relative:No unknown forces.\n",
      "2021-08-19 13:38:55,481:(0.00s):relative:Nonbonded method to be used (i.e. from old system): 4\n",
      "2021-08-19 13:38:55,482:(0.00s):relative:Adding and mapping old atoms to hybrid system...\n",
      "2021-08-19 13:38:55,520:(0.04s):relative:Adding and mapping new atoms to hybrid system...\n",
      "2021-08-19 13:38:55,522:(0.00s):relative:Added MonteCarloBarostat.\n",
      "2021-08-19 13:38:55,524:(0.00s):relative:getDefaultPeriodicBoxVectors added to hybrid: [Quantity(value=Vec3(x=3.9005, y=0.0, z=0.0), unit=nanometer), Quantity(value=Vec3(x=0.0, y=3.9005, z=0.0), unit=nanometer), Quantity(value=Vec3(x=0.0, y=0.0, z=3.9005), unit=nanometer)]\n",
      "2021-08-19 13:38:55,529:(0.00s):relative:Determined atom classes.\n",
      "2021-08-19 13:38:55,628:(0.10s):relative:Generating old system exceptions dict...\n",
      "2021-08-19 13:38:55,666:(0.04s):relative:Generating new system exceptions dict...\n",
      "2021-08-19 13:38:56,034:(0.37s):relative:Handling constraints...\n",
      "2021-08-19 13:38:56,174:(0.14s):relative:Handling virtual sites...\n",
      "2021-08-19 13:38:56,181:(0.01s):relative:\t_handle_virtual_sites: numVirtualSites: 0\n"
     ]
    }
   ],
   "source": [
    "flatten_exceptions = True\n",
    "flatten_torsions = True\n",
    "endstate = None\n",
    "rest_region = list(htf._atom_classes['unique_old_atoms']) + list(htf._atom_classes['unique_new_atoms'])\n",
    "htf = RestCapablePMEHybridTopologyFactory(topology_proposal=topology_proposal,\n",
    "                     current_positions=atp.positions,\n",
    "                     new_positions=new_positions,\n",
    "                     rest_region=rest_region,\n",
    "                     use_dispersion_correction=False,\n",
    "                     generate_htf_for_testing=True,\n",
    "                     interpolate_old_and_new_14s=flatten_exceptions\n",
    "                    )"
   ]
  },
  {
   "cell_type": "code",
   "execution_count": 16,
   "id": "053830ab",
   "metadata": {},
   "outputs": [],
   "source": [
    "# Save htf\n",
    "with open(\"8mer_solvent_scale_region.pickle\", \"wb\") as f:\n",
    "    pickle.dump(htf, f)"
   ]
  },
  {
   "cell_type": "markdown",
   "id": "romantic-florist",
   "metadata": {},
   "source": [
    "#### Old system HarmonicBondForce vs hybrid system CustomBondForce"
   ]
  },
  {
   "cell_type": "code",
   "execution_count": 17,
   "id": "needed-classroom",
   "metadata": {},
   "outputs": [],
   "source": [
    "# Load htf\n",
    "with open(\"/home/zhangi/choderalab/perses_benchmark/perses_protein_mutations/code/31_rest_over_protocol/8mer_solvent_scale_region.pickle\", \"rb\") as f:\n",
    "    htf = pickle.load(f)"
   ]
  },
  {
   "cell_type": "code",
   "execution_count": 18,
   "id": "continuing-award",
   "metadata": {},
   "outputs": [
    {
     "name": "stdout",
     "output_type": "stream",
     "text": [
      "Warning: Returning CPU platform instead of requested platform <openmm.openmm.Platform; proxy of <Swig Object of type 'OpenMM::Platform *' at 0x2b697acd5f30> >\n",
      "conducting subsequent work with the following platform: CPU\n",
      "conducting subsequent work with the following platform: CUDA\n",
      "[('HarmonicBondForce', 7.300105424153172), ('HarmonicAngleForce', 12.445685055931843), ('PeriodicTorsionForce', 156.2435090637808), ('NonbondedForce', -10393.617741962595), ('AndersenThermostat', 0.0), ('MonteCarloBarostat', 0.0)]\n",
      "conducting subsequent work with the following platform: CUDA\n",
      "[('CustomBondForce', 7.300105424153172), ('AndersenThermostat', 0.0), ('MonteCarloBarostat', 0.0)]\n",
      "Success! Custom bond force and standard bond force energies are equal!\n",
      "conducting subsequent work with the following platform: CUDA\n",
      "[('CustomBondForce', 7.300105424153172), ('AndersenThermostat', 0.0), ('MonteCarloBarostat', 0.0)]\n",
      "conducting subsequent work with the following platform: CUDA\n",
      "[('CustomBondForce', 7.277293107949593), ('AndersenThermostat', 0.0), ('MonteCarloBarostat', 0.0)]\n",
      "Success! Scaling the bond force changes the energy\n"
     ]
    }
   ],
   "source": [
    "test_bond_energies(htf, is_solvated=True, check_scale=True)"
   ]
  },
  {
   "cell_type": "markdown",
   "id": "relevant-insured",
   "metadata": {},
   "source": [
    "#### New system HarmonicBondForce vs hybrid system CustomBondForce"
   ]
  },
  {
   "cell_type": "code",
   "execution_count": 19,
   "id": "mediterranean-assist",
   "metadata": {},
   "outputs": [],
   "source": [
    "# Load htf\n",
    "with open(\"/home/zhangi/choderalab/perses_benchmark/perses_protein_mutations/code/31_rest_over_protocol/8mer_solvent_scale_region.pickle\", \"rb\") as f:\n",
    "    htf = pickle.load(f)"
   ]
  },
  {
   "cell_type": "code",
   "execution_count": 20,
   "id": "angry-perception",
   "metadata": {
    "scrolled": true
   },
   "outputs": [
    {
     "name": "stdout",
     "output_type": "stream",
     "text": [
      "Warning: Returning CPU platform instead of requested platform <openmm.openmm.Platform; proxy of <Swig Object of type 'OpenMM::Platform *' at 0x2b697acd5f30> >\n",
      "conducting subsequent work with the following platform: CPU\n",
      "conducting subsequent work with the following platform: CUDA\n",
      "[('HarmonicBondForce', 10.889625845390588), ('HarmonicAngleForce', 279.6437017041294), ('PeriodicTorsionForce', 169.90035224547114), ('NonbondedForce', 231019.52148371315), ('AndersenThermostat', 0.0), ('MonteCarloBarostat', 0.0)]\n",
      "conducting subsequent work with the following platform: CUDA\n",
      "[('CustomBondForce', 10.889625845390588), ('AndersenThermostat', 0.0), ('MonteCarloBarostat', 0.0)]\n",
      "Success! Custom bond force and standard bond force energies are equal!\n"
     ]
    }
   ],
   "source": [
    "test_bond_energies(htf, is_old=False, is_solvated=True)"
   ]
  },
  {
   "cell_type": "markdown",
   "id": "corrected-meeting",
   "metadata": {},
   "source": [
    "## Barnase:barstar (no naked charge fix)"
   ]
  },
  {
   "cell_type": "markdown",
   "id": "japanese-persian",
   "metadata": {},
   "source": [
    "### Test one alchemical region, no rest region"
   ]
  },
  {
   "cell_type": "code",
   "execution_count": 21,
   "id": "d94d0516",
   "metadata": {},
   "outputs": [],
   "source": [
    "from perses.app.relative_point_mutation_setup import PointMutationExecutor\n",
    "from openeye import oechem"
   ]
  },
  {
   "cell_type": "code",
   "execution_count": 22,
   "id": "3c7b671e",
   "metadata": {},
   "outputs": [],
   "source": [
    "from __future__ import absolute_import\n",
    "\n",
    "from perses.utils.openeye import createOEMolFromSDF, extractPositionsFromOEMol\n",
    "from perses.annihilation.relative import HybridTopologyFactory, RepartitionedHybridTopologyFactory, RestCapablePMEHybridTopologyFactory\n",
    "from perses.rjmc.topology_proposal import PointMutationEngine\n",
    "from perses.rjmc.geometry import FFAllAngleGeometryEngine\n",
    "\n",
    "import simtk.openmm as openmm\n",
    "import simtk.openmm.app as app\n",
    "import simtk.unit as unit\n",
    "import numpy as np\n",
    "from openmoltools import forcefield_generators\n",
    "import mdtraj as md\n",
    "from openmmtools.constants import kB\n",
    "from perses.tests.utils import validate_endstate_energies\n",
    "from openff.toolkit.topology import Molecule\n",
    "from openmmforcefields.generators import SystemGenerator\n",
    "\n",
    "ENERGY_THRESHOLD = 1e-2\n",
    "temperature = 300 * unit.kelvin\n",
    "kT = kB * temperature\n",
    "beta = 1.0/kT\n",
    "ring_amino_acids = ['TYR', 'PHE', 'TRP', 'PRO', 'HIS']\n",
    "\n",
    "# Set up logger\n",
    "import logging\n",
    "_logger = logging.getLogger(\"setup\")\n",
    "_logger.setLevel(logging.INFO)\n",
    "\n",
    "class PointMutationExecutor2(PointMutationExecutor):\n",
    "    \"\"\"\n",
    "    Simple, stripped-down class to create a protein-ligand system and allow a mutation of a protein.\n",
    "    this will allow support for the creation of _two_ relative free energy calculations:\n",
    "        1. 'wildtype' - 'point mutant' complex hybrid.\n",
    "        2. 'wildtype' - 'point mutant' protein hybrid (i.e. with ligand of interest unbound)\n",
    "    Example (create full point mutation executor and run parallel tempering on both complex and apo phases):\n",
    "        from pkg_resources import resource_filename\n",
    "        protein_path = 'data/perses_jacs_systems/thrombin/Thrombin_protein.pdb'\n",
    "        ligands_path = 'data/perses_jacs_systems/thrombin/Thrombin_ligands.sdf'\n",
    "        protein_filename = resource_filename('openmmforcefields', protein_path)\n",
    "        ligand_input = resource_filename('openmmforcefields', ligands_path)\n",
    "        pm_delivery = PointMutationExecutor(protein_filename=protein_filename,\n",
    "                                    mutation_chain_id='2',\n",
    "                                    mutation_residue_id='198',\n",
    "                                     proposed_residue='THR',\n",
    "                                     phase='complex',\n",
    "                                     conduct_endstate_validation=False,\n",
    "                                     ligand_input=ligand_input,\n",
    "                                     ligand_index=0,\n",
    "                                     forcefield_files=['amber14/protein.ff14SB.xml', 'amber14/tip3p.xml'],\n",
    "                                     barostat=openmm.MonteCarloBarostat(1.0 * unit.atmosphere, temperature, 50),\n",
    "                                     forcefield_kwargs={'removeCMMotion': False, 'ewaldErrorTolerance': 1e-4, 'nonbondedMethod': app.PME, 'constraints' : app.HBonds, 'hydrogenMass' : 4 * unit.amus},\n",
    "                                     small_molecule_forcefields='gaff-2.11')\n",
    "        complex_htf = pm_delivery.get_complex_htf()\n",
    "        apo_htf = pm_delivery.get_apo_htf()\n",
    "        # Now we can build the hybrid repex samplers\n",
    "        from perses.annihilation.lambda_protocol import LambdaProtocol\n",
    "        from openmmtools.multistate import MultiStateReporter\n",
    "        from perses.samplers.multistate import HybridRepexSampler\n",
    "        from openmmtools import mcmc\n",
    "        suffix = 'run'; selection = 'not water'; checkpoint_interval = 10; n_states = 11; n_cycles = 5000\n",
    "        for htf in [complex_htf, apo_htf]:\n",
    "            lambda_protocol = LambdaProtocol(functions='default')\n",
    "            reporter_file = 'reporter.nc'\n",
    "            reporter = MultiStateReporter(reporter_file, analysis_particle_indices = htf.hybrid_topology.select(selection), checkpoint_interval = checkpoint_interval)\n",
    "            hss = HybridRepexSampler(mcmc_moves=mcmc.LangevinSplittingDynamicsMove(timestep= 4.0 * unit.femtoseconds,\n",
    "                                                                                  collision_rate=5.0 / unit.picosecond,\n",
    "                                                                                  n_steps=250,\n",
    "                                                                                  reassign_velocities=False,\n",
    "                                                                                  n_restart_attempts=20,\n",
    "                                                                                  splitting=\"V R R R O R R R V\",\n",
    "                                                                                  constraint_tolerance=1e-06),\n",
    "                                                                                  hybrid_factory=htf, online_analysis_interval=10)\n",
    "            hss.setup(n_states=n_states, temperature=300*unit.kelvin, storage_file=reporter, lambda_protocol=lambda_protocol, endstates=False)\n",
    "            hss.extend(n_cycles)\n",
    "    \"\"\"\n",
    "    def __init__(self,\n",
    "                 protein_filename,\n",
    "                 mutation_chain_id,\n",
    "                 mutation_residue_id,\n",
    "                 proposed_residue,\n",
    "                 phase='complex',\n",
    "                 conduct_endstate_validation=True,\n",
    "                 ligand_input=None,\n",
    "                 ligand_index=0,\n",
    "                 allow_undefined_stereo_sdf=False,\n",
    "                 water_model='tip3p',\n",
    "                 ionic_strength=0.15 * unit.molar,\n",
    "                 forcefield_files=['amber14/protein.ff14SB.xml', 'amber14/tip3p.xml'],\n",
    "                 barostat=openmm.MonteCarloBarostat(1.0 * unit.atmosphere, temperature, 50),\n",
    "                 forcefield_kwargs={'removeCMMotion': False, 'ewaldErrorTolerance': 0.00025, 'constraints' : app.HBonds, 'hydrogenMass' : 4 * unit.amus},\n",
    "                 periodic_forcefield_kwargs={'nonbondedMethod': app.PME},\n",
    "                 nonperiodic_forcefield_kwargs=None,\n",
    "                 small_molecule_forcefields='gaff-2.11',\n",
    "                 complex_box_dimensions=None,\n",
    "                 apo_box_dimensions=None,\n",
    "                 flatten_torsions=False,\n",
    "                 flatten_exceptions=False,\n",
    "                 generate_unmodified_hybrid_topology_factory=True,\n",
    "                 generate_rest_capable_hybrid_topology_factory=False,\n",
    "                 generate_rest_capable_pme_hybrid_topology_factory=False,\n",
    "                 rest_region=None,\n",
    "                 **kwargs):\n",
    "        \"\"\"\n",
    "        arguments\n",
    "            protein_filename : str\n",
    "                path to protein (to mutate); .pdb\n",
    "            mutation_chain_id : str\n",
    "                name of the chain to be mutated\n",
    "            mutation_residue_id : str\n",
    "                residue id to change\n",
    "            proposed_residue : str\n",
    "                three letter code of the residue to mutate to\n",
    "            phase : str, default complex\n",
    "                if phase == vacuum, then the complex will not be solvated with water; else, it will be solvated with tip3p\n",
    "            conduct_endstate_validation : bool, default True\n",
    "                whether to conduct an endstate validation of the HybridTopologyFactory. If using the RepartitionedHybridTopologyFactory,\n",
    "                endstate validation cannot and will not be conducted.\n",
    "            ligand_input : str, default None\n",
    "                path to ligand of interest (i.e. small molecule or protein); .sdf or .pdb\n",
    "            ligand_index : int, default 0\n",
    "                which ligand to use\n",
    "            allow_undefined_stereo_sdf : bool, default False\n",
    "                whether to allow an SDF file to contain undefined stereocenters\n",
    "            water_model : str, default 'tip3p'\n",
    "                solvent model to use for solvation\n",
    "            ionic_strength : float * unit.molar, default 0.15 * unit.molar\n",
    "                the total concentration of ions (both positive and negative) to add using Modeller.\n",
    "                This does not include ions that are added to neutralize the system.\n",
    "                Note that only monovalent ions are currently supported.\n",
    "            forcefield_files : list of str, default ['amber14/protein.ff14SB.xml', 'amber14/tip3p.xml']\n",
    "                forcefield files for proteins and solvent\n",
    "            barostat : openmm.MonteCarloBarostat, default openmm.MonteCarloBarostat(1.0 * unit.atmosphere, 300 * unit.kelvin, 50)\n",
    "                barostat to use\n",
    "            forcefield_kwargs : dict, default {'removeCMMotion': False, 'ewaldErrorTolerance': 1e-4, 'constraints' : app.HBonds, 'hydrogenMass' : 4 * unit.amus}\n",
    "                forcefield kwargs for system parametrization\n",
    "            periodic_forcefield_kwargs : dict, default {'nonbondedMethod': app.PME}\n",
    "                periodic forcefield kwargs for system parametrization\n",
    "            nonperiodic_forcefield_kwargs : dict, default None\n",
    "                non-periodic forcefield kwargs for system parametrization\n",
    "            small_molecule_forcefields : str, default 'gaff-2.11'\n",
    "                the forcefield string for small molecule parametrization\n",
    "            complex_box_dimensions : Vec3, default None\n",
    "                define box dimensions of complex phase;\n",
    "                if None, padding is 1nm\n",
    "            apo_box_dimensions :  Vec3, default None\n",
    "                define box dimensions of apo phase phase;\n",
    "                if None, padding is 1nm\n",
    "            flatten_torsions : bool, default False\n",
    "                in the htf, flatten torsions involving unique new atoms at lambda = 0 and unique old atoms are lambda = 1\n",
    "            flatten_exceptions : bool, default False\n",
    "                in the htf, flatten exceptions involving unique new atoms at lambda = 0 and unique old atoms at lambda = 1\n",
    "            generate_unmodified_hybrid_topology_factory : bool, default True\n",
    "                whether to generate a vanilla HybridTopologyFactory\n",
    "            generate_rest_capable_hybrid_topology_factory : bool, default False\n",
    "                whether to generate a RepartitionedHybridTopologyFactory\n",
    "        TODO : allow argument for spectator ligands besides the 'ligand_file'\n",
    "        \"\"\"\n",
    "        from openeye import oechem\n",
    "\n",
    "        # First thing to do is load the apo protein to mutate...\n",
    "        protein_pdbfile = open(protein_filename, 'r')\n",
    "        protein_pdb = app.PDBFile(protein_pdbfile)\n",
    "        protein_pdbfile.close()\n",
    "        protein_positions, protein_topology, protein_md_topology = protein_pdb.positions, protein_pdb.topology, md.Topology.from_openmm(protein_pdb.topology)\n",
    "        protein_topology = protein_md_topology.to_openmm()\n",
    "        protein_n_atoms = protein_md_topology.n_atoms\n",
    "\n",
    "        # Load the ligand, if present\n",
    "        molecules = []\n",
    "        if ligand_input:\n",
    "            if isinstance(ligand_input, str):\n",
    "                if ligand_input.endswith('.sdf'): # small molecule\n",
    "                        ligand_mol = createOEMolFromSDF(ligand_file, index=ligand_index, allow_undefined_stereo=allow_undefined_stereo_sdf)\n",
    "                        molecules.append(Molecule.from_openeye(ligand_mol, allow_undefined_stereo=False))\n",
    "                        ligand_positions, ligand_topology = extractPositionsFromOEMol(ligand_mol),  forcefield_generators.generateTopologyFromOEMol(ligand_mol)\n",
    "                        ligand_md_topology = md.Topology.from_openmm(ligand_topology)\n",
    "                        ligand_n_atoms = ligand_md_topology.n_atoms\n",
    "\n",
    "                if ligand_input.endswith('pdb'): # protein\n",
    "                    ligand_pdbfile = open(ligand_input, 'r')\n",
    "                    ligand_pdb = app.PDBFile(ligand_pdbfile)\n",
    "                    ligand_pdbfile.close()\n",
    "                    ligand_positions, ligand_topology, ligand_md_topology = ligand_pdb.positions, ligand_pdb.topology, md.Topology.from_openmm(\n",
    "                        ligand_pdb.topology)\n",
    "                    ligand_n_atoms = ligand_md_topology.n_atoms\n",
    "\n",
    "            elif isinstance(ligand_input, oechem.OEMol): # oemol object\n",
    "                molecules.append(Molecule.from_openeye(ligand_input, allow_undefined_stereo=False))\n",
    "                ligand_positions, ligand_topology = extractPositionsFromOEMol(ligand_input),  forcefield_generators.generateTopologyFromOEMol(ligand_input)\n",
    "                ligand_md_topology = md.Topology.from_openmm(ligand_topology)\n",
    "                ligand_n_atoms = ligand_md_topology.n_atoms\n",
    "\n",
    "            else:\n",
    "                _logger.warning(f'ligand filetype not recognised. Please provide a path to a .pdb or .sdf file')\n",
    "                return\n",
    "\n",
    "            # Now create a complex\n",
    "            complex_md_topology = protein_md_topology.join(ligand_md_topology)\n",
    "            complex_topology = complex_md_topology.to_openmm()\n",
    "            complex_positions = unit.Quantity(np.zeros([protein_n_atoms + ligand_n_atoms, 3]), unit=unit.nanometers)\n",
    "            complex_positions[:protein_n_atoms, :] = protein_positions\n",
    "            complex_positions[protein_n_atoms:, :] = ligand_positions\n",
    "\n",
    "        # Now for a system_generator\n",
    "        self.system_generator = SystemGenerator(forcefields=forcefield_files,\n",
    "                                                barostat=barostat,\n",
    "                                                forcefield_kwargs=forcefield_kwargs,\n",
    "                                                periodic_forcefield_kwargs=periodic_forcefield_kwargs,\n",
    "                                                nonperiodic_forcefield_kwargs=nonperiodic_forcefield_kwargs,\n",
    "                                                small_molecule_forcefield=small_molecule_forcefields,\n",
    "                                                molecules=molecules,\n",
    "                                                cache=None)\n",
    "\n",
    "        # Solvate apo and complex...\n",
    "        apo_input = list(self._solvate(protein_topology, protein_positions, water_model, phase, ionic_strength, apo_box_dimensions))\n",
    "        inputs = [apo_input]\n",
    "        if ligand_input:\n",
    "            inputs.append(self._solvate(complex_topology, complex_positions, water_model, phase, ionic_strength, complex_box_dimensions))\n",
    "\n",
    "        geometry_engine = FFAllAngleGeometryEngine(metadata=None,\n",
    "                                                use_sterics=False,\n",
    "                                                n_bond_divisions=100,\n",
    "                                                n_angle_divisions=180,\n",
    "                                                n_torsion_divisions=360,\n",
    "                                                verbose=True,\n",
    "                                                storage=None,\n",
    "                                                bond_softening_constant=1.0,\n",
    "                                                angle_softening_constant=1.0,\n",
    "                                                neglect_angles = False,\n",
    "                                                use_14_nonbondeds = True)\n",
    "\n",
    "\n",
    "        # Run pipeline...\n",
    "        htfs = []\n",
    "        for is_complex, (top, pos, sys) in enumerate(inputs):\n",
    "            point_mutation_engine = PointMutationEngine(wildtype_topology=top,\n",
    "                                                                 system_generator=self.system_generator,\n",
    "                                                                 chain_id=mutation_chain_id, # Denote the chain id allowed to mutate (it's always a string variable)\n",
    "                                                                 max_point_mutants=1,\n",
    "                                                                 residues_allowed_to_mutate=[mutation_residue_id], # The residue ids allowed to mutate\n",
    "                                                                 allowed_mutations=[(mutation_residue_id, proposed_residue)], # The residue ids allowed to mutate with the three-letter code allowed to change\n",
    "                                                                 aggregate=True) # Always allow aggregation\n",
    "\n",
    "            topology_proposal = point_mutation_engine.propose(sys, top)\n",
    "\n",
    "            # Only validate energy bookkeeping if the WT and proposed residues do not involve rings\n",
    "            old_res = [res for res in top.residues() if res.id == mutation_residue_id][0]\n",
    "            validate_bool = False if old_res.name in ring_amino_acids or proposed_residue in ring_amino_acids else True\n",
    "            new_positions, logp_proposal = geometry_engine.propose(topology_proposal, pos, beta,\n",
    "                                                                   validate_energy_bookkeeping=validate_bool)\n",
    "\n",
    "            #check for charge change...\n",
    "            charge_diff = point_mutation_engine._get_charge_difference(current_resname=topology_proposal.old_topology.residue_topology.name,\n",
    "                                                                       new_resname=topology_proposal.new_topology.residue_topology.name)\n",
    "            _logger.info(f\"charge diff: {charge_diff}\")\n",
    "            if charge_diff != 0:\n",
    "                new_water_indices_to_ionize = point_mutation_engine.get_water_indices(charge_diff, new_positions, topology_proposal.new_topology, radius=0.8)\n",
    "                _logger.info(f\"new water indices to ionize {new_water_indices_to_ionize}\")\n",
    "                self._get_ion_and_water_parameters(topology_proposal.old_system, topology_proposal.old_topology)\n",
    "                self._transform_waters_into_ions(new_water_indices_to_ionize, topology_proposal.new_system, charge_diff)\n",
    "                PointMutationExecutor._modify_atom_classes(new_water_indices_to_ionize, topology_proposal)\n",
    "\n",
    "\n",
    "            logp_reverse = geometry_engine.logp_reverse(topology_proposal, new_positions, pos, beta,\n",
    "                                                        validate_energy_bookkeeping=validate_bool)\n",
    "            if generate_unmodified_hybrid_topology_factory:\n",
    "                repartitioned_endstate = None\n",
    "                self.generate_htf(HybridTopologyFactory, topology_proposal, pos, new_positions, flatten_exceptions, flatten_torsions, repartitioned_endstate, is_complex, rest_region)\n",
    "            if generate_rest_capable_hybrid_topology_factory:\n",
    "                 for repartitioned_endstate in [0, 1]:\n",
    "                    self.generate_htf(RepartitionedHybridTopologyFactory, topology_proposal, pos, new_positions, flatten_exceptions, flatten_torsions, repartitioned_endstate, is_complex, rest_region)\n",
    "            if generate_rest_capable_pme_hybrid_topology_factory:\n",
    "                repartitioned_endstate = None\n",
    "                self.generate_htf(RestCapablePMEHybridTopologyFactory, topology_proposal, pos, new_positions, flatten_exceptions, flatten_torsions, repartitioned_endstate, is_complex, rest_region)\n",
    "\n",
    "            if not topology_proposal.unique_new_atoms:\n",
    "                assert geometry_engine.forward_final_context_reduced_potential == None, f\"There are no unique new atoms but the geometry_engine's final context reduced potential is not None (i.e. {self._geometry_engine.forward_final_context_reduced_potential})\"\n",
    "                assert geometry_engine.forward_atoms_with_positions_reduced_potential == None, f\"There are no unique new atoms but the geometry_engine's forward atoms-with-positions-reduced-potential in not None (i.e. { self._geometry_engine.forward_atoms_with_positions_reduced_potential})\"\n",
    "            else:\n",
    "                added_valence_energy = geometry_engine.forward_final_context_reduced_potential - geometry_engine.forward_atoms_with_positions_reduced_potential\n",
    "\n",
    "            if not topology_proposal.unique_old_atoms:\n",
    "                assert geometry_engine.reverse_final_context_reduced_potential == None, f\"There are no unique old atoms but the geometry_engine's final context reduced potential is not None (i.e. {self._geometry_engine.reverse_final_context_reduced_potential})\"\n",
    "                assert geometry_engine.reverse_atoms_with_positions_reduced_potential == None, f\"There are no unique old atoms but the geometry_engine's atoms-with-positions-reduced-potential in not None (i.e. { self._geometry_engine.reverse_atoms_with_positions_reduced_potential})\"\n",
    "                subtracted_valence_energy = 0.0\n",
    "            else:\n",
    "                subtracted_valence_energy = geometry_engine.reverse_final_context_reduced_potential - geometry_engine.reverse_atoms_with_positions_reduced_potential\n",
    "\n",
    "\n",
    "            if conduct_endstate_validation and repartitioned_endstate is None:\n",
    "                zero_state_error, one_state_error = validate_endstate_energies(forward_htf._topology_proposal, forward_htf, added_valence_energy, subtracted_valence_energy, beta=beta, ENERGY_THRESHOLD=ENERGY_THRESHOLD)\n",
    "                if zero_state_error > ENERGY_THRESHOLD:\n",
    "                    _logger.warning(f\"Reduced potential difference of the nonalchemical and alchemical Lambda = 0 state is above the threshold ({ENERGY_THRESHOLD}): {zero_state_error}\")\n",
    "                if one_state_error > ENERGY_THRESHOLD:\n",
    "                    _logger.warning(f\"Reduced potential difference of the nonalchemical and alchemical Lambda = 1 state is above the threshold ({ENERGY_THRESHOLD}): {one_state_error}\")\n",
    "            else:\n",
    "                pass\n",
    "            \n",
    "    def generate_htf(self, factory, topology_proposal, old_positions, new_positions, flatten_exceptions, flatten_torsions, repartitioned_endstate, is_complex, rest_region):\n",
    "        htf = factory(topology_proposal=topology_proposal,\n",
    "                                      current_positions=old_positions,\n",
    "                                      new_positions=new_positions,\n",
    "                                      use_dispersion_correction=False,\n",
    "                                      functions=None,\n",
    "                                      softcore_alpha=None,\n",
    "                                      bond_softening_constant=1.0,\n",
    "                                      angle_softening_constant=1.0,\n",
    "                                      soften_only_new=False,\n",
    "                                      neglected_new_angle_terms=[],\n",
    "                                      neglected_old_angle_terms=[],\n",
    "                                      softcore_LJ_v2=True,\n",
    "                                      softcore_electrostatics=True,\n",
    "                                      softcore_LJ_v2_alpha=0.85,\n",
    "                                      softcore_electrostatics_alpha=0.3,\n",
    "                                      softcore_sigma_Q=1.0,\n",
    "                                      interpolate_old_and_new_14s=flatten_exceptions,\n",
    "                                      omitted_terms=None,\n",
    "                                      endstate=repartitioned_endstate,\n",
    "                                      flatten_torsions=flatten_torsions,\n",
    "                                      rest_region=rest_region)\n",
    "        if is_complex:\n",
    "            if factory == HybridTopologyFactory or RestCapablePMEHybridTopologyFactory:\n",
    "                self.complex_htf = htf\n",
    "            elif factory == RepartitionedHybridTopologyFactory:\n",
    "                if repartitioned_endstate == 0:\n",
    "                    self.complex_rhtf_0 = htf\n",
    "                elif repartitioned_endstate == 1:\n",
    "                    self.complex_rhtf_1 = htf\n",
    "        else:\n",
    "            if factory == HybridTopologyFactory or RestCapablePMEHybridTopologyFactory:\n",
    "                self.apo_htf = htf\n",
    "            elif factory == RepartitionedHybridTopologyFactory:\n",
    "                if repartitioned_endstate == 0:\n",
    "                    self.apo_rhtf_0 = htf\n",
    "                elif repartitioned_endstate == 1:\n",
    "                    self.apo_rhtf_1 = htf\n",
    "\n",
    "    "
   ]
  },
  {
   "cell_type": "code",
   "execution_count": 23,
   "id": "00de7f72",
   "metadata": {
    "scrolled": true
   },
   "outputs": [
    {
     "name": "stderr",
     "output_type": "stream",
     "text": [
      "2021-08-19 13:39:25,036:(28.86s):setup:solvating at 0.05 M using tip3p\n",
      "2021-08-19 13:39:32,965:(7.93s):setup:solvating at 0.05 M using tip3p\n",
      "2021-08-19 13:39:49,205:(16.24s):proposal_generator:\tConducting polymer point mutation proposal...\n",
      "2021-08-19 13:39:49,857:(0.65s):atom_mapping:Molecules do not appear to share a common scaffold.\n",
      "2021-08-19 13:39:49,859:(0.00s):atom_mapping:Proceeding with direct mapping of molecules, but please check atom mapping and the geometry of the ligands.\n",
      "2021-08-19 13:39:49,868:(0.01s):proposal_generator:[Atom(name=CB, atomic number=6), Atom(name=CG2, atomic number=6), Atom(name=OG1, atomic number=8), Atom(name=HB, atomic number=1), Atom(name=HG1, atomic number=1), Atom(name=HG21, atomic number=1), Atom(name=HG22, atomic number=1), Atom(name=HG23, atomic number=1)]\n",
      "2021-08-19 13:39:49,869:(0.00s):proposal_generator:[Atom(name=CB, atomic number=6), Atom(name=HB1, atomic number=1), Atom(name=HB2, atomic number=1), Atom(name=HB3, atomic number=1)]\n",
      "2021-08-19 13:39:56,702:(6.83s):geometry:propose: performing forward proposal\n",
      "2021-08-19 13:39:56,705:(0.00s):geometry:propose: unique new atoms detected; proceeding to _logp_propose...\n",
      "2021-08-19 13:39:56,707:(0.00s):geometry:Conducting forward proposal...\n",
      "2021-08-19 13:39:56,709:(0.00s):geometry:Computing proposal order with NetworkX...\n",
      "2021-08-19 13:39:56,726:(0.02s):geometry:number of atoms to be placed: 4\n",
      "2021-08-19 13:39:56,727:(0.00s):geometry:Atom index proposal order is [673, 678, 676, 677]\n",
      "2021-08-19 13:39:56,729:(0.00s):geometry:omitted_bonds: []\n",
      "2021-08-19 13:39:56,730:(0.00s):geometry:direction of proposal is forward; creating atoms_with_positions and new positions from old system/topology...\n",
      "2021-08-19 13:39:58,716:(1.99s):geometry:creating growth system...\n",
      "2021-08-19 13:39:59,126:(0.41s):geometry:\tcreating bond force...\n",
      "2021-08-19 13:39:59,128:(0.00s):geometry:\tthere are 733 bonds in reference force.\n",
      "2021-08-19 13:39:59,135:(0.01s):geometry:\tcreating angle force...\n",
      "2021-08-19 13:39:59,137:(0.00s):geometry:\tthere are 2628 angles in reference force.\n",
      "2021-08-19 13:39:59,160:(0.02s):geometry:\tcreating torsion force...\n",
      "2021-08-19 13:39:59,162:(0.00s):geometry:\tcreating extra torsions force...\n",
      "2021-08-19 13:39:59,164:(0.00s):geometry:\tthere are 4943 torsions in reference force.\n",
      "2021-08-19 13:39:59,193:(0.03s):geometry:\tcreating nonbonded force...\n",
      "2021-08-19 13:39:59,194:(0.00s):geometry:\t\tgrabbing reference nonbonded method, cutoff, switching function, switching distance...\n",
      "2021-08-19 13:39:59,196:(0.00s):geometry:\t\tcreating nonbonded exception force (i.e. custom bond for 1,4s)...\n",
      "2021-08-19 13:39:59,198:(0.00s):geometry:\t\tlooping through exceptions calculating growth indices, and adding appropriate interactions to custom bond force.\n",
      "2021-08-19 13:39:59,200:(0.00s):geometry:\t\tthere are 22457 in the reference Nonbonded force\n",
      "2021-08-19 13:39:59,636:(0.44s):geometry:\t\t\t\t\tchiral atom <Atom 670 (CA) of chain 0 residue 42 (ALA)> with neighbors [<Atom 671 (C) of chain 0 residue 42 (ALA)>, <Atom 673 (CB) of chain 0 residue 42 (ALA)>, <Atom 675 (HA) of chain 0 residue 42 (ALA)>, <Atom 669 (N) of chain 0 residue 42 (ALA)>] is surrounded by 3 core neighbors.  omitting chirality bias torsion\n",
      "2021-08-19 13:39:59,638:(0.00s):geometry:Neglected angle terms : []\n",
      "2021-08-19 13:39:59,640:(0.00s):geometry:omitted_growth_terms: {'bonds': [], 'angles': [], 'torsions': [], '1,4s': []}\n",
      "2021-08-19 13:39:59,642:(0.00s):geometry:extra torsions: {0: (674, 669, 670, 673, [1, Quantity(value=0.9799661941737812, unit=radian), Quantity(value=1200.0, unit=kilocalorie/mole), 1]), 1: (669, 670, 673, 676, [1, Quantity(value=2.105358864604291, unit=radian), Quantity(value=1200.0, unit=kilocalorie/mole), 3]), 2: (669, 670, 673, 677, [1, Quantity(value=-2.0823006129211796, unit=radian), Quantity(value=1200.0, unit=kilocalorie/mole), 4]), 3: (669, 670, 673, 678, [1, Quantity(value=0.018582237407944735, unit=radian), Quantity(value=1200.0, unit=kilocalorie/mole), 2]), 4: (671, 670, 673, 676, [1, Quantity(value=-0.036945135932107576, unit=radian), Quantity(value=1200.0, unit=kilocalorie/mole), 3]), 5: (671, 670, 673, 677, [1, Quantity(value=2.0585806937220097, unit=radian), Quantity(value=1200.0, unit=kilocalorie/mole), 4]), 6: (671, 670, 673, 678, [1, Quantity(value=-2.1237217631284597, unit=radian), Quantity(value=1200.0, unit=kilocalorie/mole), 2]), 7: (675, 670, 673, 676, [1, Quantity(value=-2.119603470065817, unit=radian), Quantity(value=1200.0, unit=kilocalorie/mole), 3]), 8: (675, 670, 673, 677, [1, Quantity(value=-0.024077640411697132, unit=radian), Quantity(value=1200.0, unit=kilocalorie/mole), 4]), 9: (675, 670, 673, 678, [1, Quantity(value=2.0768052099174152, unit=radian), Quantity(value=1200.0, unit=kilocalorie/mole), 2])}\n",
      "2021-08-19 13:39:59,644:(0.00s):geometry:neglected angle terms include []\n",
      "2021-08-19 13:39:59,645:(0.00s):geometry:log probability choice of torsions and atom order: -5.78074351579233\n",
      "2021-08-19 13:39:59,647:(0.00s):geometry:creating platform, integrators, and contexts; setting growth parameter\n"
     ]
    },
    {
     "name": "stdout",
     "output_type": "stream",
     "text": [
      "conducting subsequent work with the following platform: CUDA\n"
     ]
    },
    {
     "name": "stderr",
     "output_type": "stream",
     "text": [
      "2021-08-19 13:40:01,907:(2.26s):geometry:setting atoms_with_positions context new positions\n"
     ]
    },
    {
     "name": "stdout",
     "output_type": "stream",
     "text": [
      "conducting subsequent work with the following platform: CUDA\n"
     ]
    },
    {
     "name": "stderr",
     "output_type": "stream",
     "text": [
      "2021-08-19 13:40:02,907:(1.00s):geometry:There are 4 new atoms\n",
      "2021-08-19 13:40:02,913:(0.01s):geometry:\treduced angle potential = 0.2280726529720325.\n",
      "2021-08-19 13:40:03,122:(0.21s):geometry:\treduced angle potential = 1.507208055442705.\n",
      "2021-08-19 13:40:03,327:(0.20s):geometry:\treduced angle potential = 0.7780027623195036.\n",
      "2021-08-19 13:40:03,533:(0.21s):geometry:\treduced angle potential = 0.06919178624831976.\n",
      "2021-08-19 13:40:04,039:(0.51s):geometry:\tbeginning construction of no_nonbonded final system...\n",
      "2021-08-19 13:40:04,043:(0.00s):geometry:\tinitial no-nonbonded final system forces ['HarmonicBondForce', 'HarmonicAngleForce', 'PeriodicTorsionForce', 'NonbondedForce', 'MonteCarloBarostat']\n",
      "2021-08-19 13:40:05,047:(1.00s):geometry:\tfinal no-nonbonded final system forces dict_keys(['HarmonicBondForce', 'HarmonicAngleForce', 'PeriodicTorsionForce', 'NonbondedForce'])\n",
      "2021-08-19 13:40:05,049:(0.00s):geometry:\tthere are 733 bond forces in the no-nonbonded final system\n",
      "2021-08-19 13:40:05,051:(0.00s):geometry:\tthere are 2628 angle forces in the no-nonbonded final system\n",
      "2021-08-19 13:40:05,053:(0.00s):geometry:\tthere are 4943 torsion forces in the no-nonbonded final system\n",
      "2021-08-19 13:40:05,055:(0.00s):geometry:forward final system defined with 0 neglected angles.\n"
     ]
    },
    {
     "name": "stdout",
     "output_type": "stream",
     "text": [
      "conducting subsequent work with the following platform: CUDA\n",
      "conducting subsequent work with the following platform: CUDA\n"
     ]
    },
    {
     "name": "stderr",
     "output_type": "stream",
     "text": [
      "2021-08-19 13:40:08,635:(3.58s):geometry:total reduced potential before atom placement: 2658.903771501648\n"
     ]
    },
    {
     "name": "stdout",
     "output_type": "stream",
     "text": [
      "conducting subsequent work with the following platform: CUDA\n",
      "conducting subsequent work with the following platform: CUDA\n",
      "conducting subsequent work with the following platform: CUDA\n"
     ]
    },
    {
     "name": "stderr",
     "output_type": "stream",
     "text": [
      "2021-08-19 13:40:11,149:(2.51s):geometry:total reduced energy added from growth system: 476.06809431682996\n",
      "2021-08-19 13:40:11,152:(0.00s):geometry:final reduced energy 3134.9718656766963\n",
      "2021-08-19 13:40:11,154:(0.00s):geometry:sum of energies: 3134.971865818478\n",
      "2021-08-19 13:40:11,156:(0.00s):geometry:magnitude of difference in the energies: 1.4178158380673267e-07\n",
      "2021-08-19 13:40:11,157:(0.00s):geometry:Final logp_proposal: 30.389926107370385\n",
      "2021-08-19 13:40:11,287:(0.13s):setup:charge diff: 0\n",
      "2021-08-19 13:40:11,289:(0.00s):geometry:logp_reverse: performing reverse proposal\n",
      "2021-08-19 13:40:11,291:(0.00s):geometry:logp_reverse: unique new atoms detected; proceeding to _logp_propose...\n",
      "2021-08-19 13:40:11,293:(0.00s):geometry:Conducting forward proposal...\n",
      "2021-08-19 13:40:11,295:(0.00s):geometry:Computing proposal order with NetworkX...\n"
     ]
    },
    {
     "name": "stdout",
     "output_type": "stream",
     "text": [
      "added energy components: [('CustomBondForce', 1.1399690274309568), ('CustomAngleForce', 158.13103718626456), ('CustomTorsionForce', 9.347576728943986), ('CustomBondForce', 307.4495113741904)]\n"
     ]
    },
    {
     "name": "stderr",
     "output_type": "stream",
     "text": [
      "2021-08-19 13:40:11,321:(0.03s):geometry:number of atoms to be placed: 8\n",
      "2021-08-19 13:40:11,322:(0.00s):geometry:Atom index proposal order is [673, 675, 674, 682, 680, 681, 678, 679]\n",
      "2021-08-19 13:40:11,324:(0.00s):geometry:omitted_bonds: []\n",
      "2021-08-19 13:40:11,325:(0.00s):geometry:direction of proposal is reverse; creating atoms_with_positions from old system/topology\n",
      "2021-08-19 13:40:13,270:(1.94s):geometry:creating growth system...\n",
      "2021-08-19 13:40:13,704:(0.43s):geometry:\tcreating bond force...\n",
      "2021-08-19 13:40:13,706:(0.00s):geometry:\tthere are 735 bonds in reference force.\n",
      "2021-08-19 13:40:13,716:(0.01s):geometry:\tcreating angle force...\n",
      "2021-08-19 13:40:13,718:(0.00s):geometry:\tthere are 2635 angles in reference force.\n",
      "2021-08-19 13:40:13,744:(0.03s):geometry:\tcreating torsion force...\n",
      "2021-08-19 13:40:13,746:(0.00s):geometry:\tcreating extra torsions force...\n",
      "2021-08-19 13:40:13,748:(0.00s):geometry:\tthere are 4973 torsions in reference force.\n",
      "2021-08-19 13:40:13,779:(0.03s):geometry:\tcreating nonbonded force...\n",
      "2021-08-19 13:40:13,781:(0.00s):geometry:\t\tgrabbing reference nonbonded method, cutoff, switching function, switching distance...\n",
      "2021-08-19 13:40:13,782:(0.00s):geometry:\t\tcreating nonbonded exception force (i.e. custom bond for 1,4s)...\n",
      "2021-08-19 13:40:13,784:(0.00s):geometry:\t\tlooping through exceptions calculating growth indices, and adding appropriate interactions to custom bond force.\n",
      "2021-08-19 13:40:13,786:(0.00s):geometry:\t\tthere are 22480 in the reference Nonbonded force\n",
      "2021-08-19 13:40:14,267:(0.48s):geometry:\t\t\t\t\tchiral atom <Atom 670 (CA) of chain 0 residue 42 (THR)> with neighbors [<Atom 671 (C) of chain 0 residue 42 (THR)>, <Atom 673 (CB) of chain 0 residue 42 (THR)>, <Atom 677 (HA) of chain 0 residue 42 (THR)>, <Atom 669 (N) of chain 0 residue 42 (THR)>] is surrounded by 3 core neighbors.  omitting chirality bias torsion\n",
      "2021-08-19 13:40:14,271:(0.00s):geometry:Neglected angle terms : []\n",
      "2021-08-19 13:40:14,273:(0.00s):geometry:omitted_growth_terms: {'bonds': [], 'angles': [], 'torsions': [], '1,4s': []}\n",
      "2021-08-19 13:40:14,274:(0.00s):geometry:extra torsions: {0: (676, 669, 670, 673, [1, Quantity(value=0.9900002084555819, unit=radian), Quantity(value=1200.0, unit=kilocalorie/mole), 1]), 1: (679, 674, 673, 670, [1, Quantity(value=-0.07858019216845058, unit=radian), Quantity(value=1200.0, unit=kilocalorie/mole), 8]), 2: (679, 674, 673, 675, [1, Quantity(value=2.118586571250296, unit=radian), Quantity(value=1200.0, unit=kilocalorie/mole), 8]), 3: (679, 674, 673, 678, [1, Quantity(value=-2.149781203448759, unit=radian), Quantity(value=1200.0, unit=kilocalorie/mole), 8]), 4: (670, 673, 675, 682, [1, Quantity(value=-2.1249532223845904, unit=radian), Quantity(value=1200.0, unit=kilocalorie/mole), 4]), 5: (670, 673, 675, 681, [1, Quantity(value=2.0543043017157916, unit=radian), Quantity(value=1200.0, unit=kilocalorie/mole), 6]), 6: (670, 673, 675, 680, [1, Quantity(value=-0.02223392579985184, unit=radian), Quantity(value=1200.0, unit=kilocalorie/mole), 5]), 7: (674, 673, 675, 682, [1, Quantity(value=2.0255587336734213, unit=radian), Quantity(value=1200.0, unit=kilocalorie/mole), 4]), 8: (674, 673, 675, 681, [1, Quantity(value=-0.07836904940578293, unit=radian), Quantity(value=1200.0, unit=kilocalorie/mole), 6]), 9: (674, 673, 675, 680, [1, Quantity(value=-2.154907276921426, unit=radian), Quantity(value=1200.0, unit=kilocalorie/mole), 5]), 10: (678, 673, 675, 682, [1, Quantity(value=0.007583009583349565, unit=radian), Quantity(value=1200.0, unit=kilocalorie/mole), 7]), 11: (678, 673, 675, 681, [1, Quantity(value=-2.096344773495849, unit=radian), Quantity(value=1200.0, unit=kilocalorie/mole), 7]), 12: (678, 673, 675, 680, [1, Quantity(value=2.1103023061680943, unit=radian), Quantity(value=1200.0, unit=kilocalorie/mole), 7]), 13: (675, 673, 670, 674, [1, Quantity(value=1.0655064807976995, unit=radian), Quantity(value=1200.0, unit=kilocalorie/mole), 3])}\n",
      "2021-08-19 13:40:14,276:(0.00s):geometry:neglected angle terms include []\n",
      "2021-08-19 13:40:14,278:(0.00s):geometry:log probability choice of torsions and atom order: -13.659277711932692\n",
      "2021-08-19 13:40:14,279:(0.00s):geometry:creating platform, integrators, and contexts; setting growth parameter\n"
     ]
    },
    {
     "name": "stdout",
     "output_type": "stream",
     "text": [
      "conducting subsequent work with the following platform: CUDA\n"
     ]
    },
    {
     "name": "stderr",
     "output_type": "stream",
     "text": [
      "2021-08-19 13:40:16,105:(1.83s):geometry:setting atoms_with_positions context old positions\n"
     ]
    },
    {
     "name": "stdout",
     "output_type": "stream",
     "text": [
      "conducting subsequent work with the following platform: CUDA\n"
     ]
    },
    {
     "name": "stderr",
     "output_type": "stream",
     "text": [
      "2021-08-19 13:40:17,036:(0.93s):geometry:There are 8 new atoms\n",
      "2021-08-19 13:40:17,041:(0.01s):geometry:\treduced angle potential = 0.06292832297015817.\n",
      "2021-08-19 13:40:17,219:(0.18s):geometry:\treduced angle potential = 0.15088552138282585.\n",
      "2021-08-19 13:40:17,395:(0.18s):geometry:\treduced angle potential = 1.171786723544314.\n",
      "2021-08-19 13:40:17,572:(0.18s):geometry:\treduced angle potential = 8.429836390053187e-06.\n",
      "2021-08-19 13:40:17,736:(0.16s):geometry:\treduced angle potential = 6.103681872621702e-06.\n",
      "2021-08-19 13:40:17,907:(0.17s):geometry:\treduced angle potential = 2.0226598106735676e-06.\n",
      "2021-08-19 13:40:18,069:(0.16s):geometry:\treduced angle potential = 0.0014485627329499679.\n",
      "2021-08-19 13:40:18,230:(0.16s):geometry:\treduced angle potential = 0.0037318575268475676.\n",
      "2021-08-19 13:40:18,691:(0.46s):geometry:\tbeginning construction of no_nonbonded final system...\n",
      "2021-08-19 13:40:18,694:(0.00s):geometry:\tinitial no-nonbonded final system forces ['HarmonicBondForce', 'HarmonicAngleForce', 'PeriodicTorsionForce', 'NonbondedForce', 'MonteCarloBarostat']\n",
      "2021-08-19 13:40:19,525:(0.83s):geometry:\tfinal no-nonbonded final system forces dict_keys(['HarmonicBondForce', 'HarmonicAngleForce', 'PeriodicTorsionForce', 'NonbondedForce'])\n",
      "2021-08-19 13:40:19,526:(0.00s):geometry:\tthere are 735 bond forces in the no-nonbonded final system\n",
      "2021-08-19 13:40:19,528:(0.00s):geometry:\tthere are 2635 angle forces in the no-nonbonded final system\n",
      "2021-08-19 13:40:19,529:(0.00s):geometry:\tthere are 4973 torsion forces in the no-nonbonded final system\n",
      "2021-08-19 13:40:19,530:(0.00s):geometry:reverse final system defined with 0 neglected angles.\n"
     ]
    },
    {
     "name": "stdout",
     "output_type": "stream",
     "text": [
      "conducting subsequent work with the following platform: CUDA\n",
      "conducting subsequent work with the following platform: CUDA\n"
     ]
    },
    {
     "name": "stderr",
     "output_type": "stream",
     "text": [
      "2021-08-19 13:40:22,918:(3.39s):geometry:total reduced potential before atom placement: 2658.9037715016484\n"
     ]
    },
    {
     "name": "stdout",
     "output_type": "stream",
     "text": [
      "conducting subsequent work with the following platform: CUDA\n",
      "conducting subsequent work with the following platform: CUDA\n",
      "conducting subsequent work with the following platform: CUDA\n"
     ]
    },
    {
     "name": "stderr",
     "output_type": "stream",
     "text": [
      "2021-08-19 13:40:25,460:(2.54s):geometry:total reduced energy added from growth system: -60.14549627276338\n",
      "2021-08-19 13:40:25,462:(0.00s):geometry:final reduced energy 2598.7582751057475\n",
      "2021-08-19 13:40:25,463:(0.00s):geometry:sum of energies: 2598.758275228885\n",
      "2021-08-19 13:40:25,465:(0.00s):geometry:magnitude of difference in the energies: 1.2313748243286682e-07\n",
      "2021-08-19 13:40:25,466:(0.00s):geometry:Final logp_proposal: -8984.355692862031\n",
      "2021-08-19 13:40:25,592:(0.13s):relative:*** Generating RestCapablePMEHybridTopologyFactory ***\n"
     ]
    },
    {
     "name": "stdout",
     "output_type": "stream",
     "text": [
      "added energy components: [('CustomBondForce', 0.6231737166566027), ('CustomAngleForce', 2.1618390579023568), ('CustomTorsionForce', 18.205977349832974), ('CustomBondForce', -81.13648639715531)]\n"
     ]
    },
    {
     "name": "stderr",
     "output_type": "stream",
     "text": [
      "2021-08-19 13:40:26,203:(0.61s):relative:Old system forces: dict_keys(['HarmonicBondForce', 'HarmonicAngleForce', 'PeriodicTorsionForce', 'NonbondedForce', 'MonteCarloBarostat'])\n",
      "2021-08-19 13:40:26,206:(0.00s):relative:New system forces: dict_keys(['HarmonicBondForce', 'HarmonicAngleForce', 'PeriodicTorsionForce', 'NonbondedForce', 'MonteCarloBarostat'])\n",
      "2021-08-19 13:40:26,208:(0.00s):relative:No unknown forces.\n",
      "2021-08-19 13:40:26,210:(0.00s):relative:Nonbonded method to be used (i.e. from old system): 4\n",
      "2021-08-19 13:40:26,211:(0.00s):relative:Adding and mapping old atoms to hybrid system...\n",
      "2021-08-19 13:40:26,316:(0.10s):relative:Adding and mapping new atoms to hybrid system...\n",
      "2021-08-19 13:40:26,318:(0.00s):relative:Added MonteCarloBarostat.\n",
      "2021-08-19 13:40:26,320:(0.00s):relative:getDefaultPeriodicBoxVectors added to hybrid: [Quantity(value=Vec3(x=5.564, y=0.0, z=0.0), unit=nanometer), Quantity(value=Vec3(x=0.0, y=5.564, z=0.0), unit=nanometer), Quantity(value=Vec3(x=0.0, y=0.0, z=5.564), unit=nanometer)]\n",
      "2021-08-19 13:40:26,329:(0.01s):relative:Determined atom classes.\n",
      "2021-08-19 13:40:27,174:(0.84s):relative:Generating old system exceptions dict...\n",
      "2021-08-19 13:40:27,305:(0.13s):relative:Generating new system exceptions dict...\n",
      "2021-08-19 13:40:27,941:(0.64s):relative:Handling constraints...\n",
      "2021-08-19 13:40:28,264:(0.32s):relative:Handling virtual sites...\n",
      "2021-08-19 13:40:28,276:(0.01s):relative:\t_handle_virtual_sites: numVirtualSites: 0\n",
      "2021-08-19 13:40:49,476:(21.20s):proposal_generator:\tConducting polymer point mutation proposal...\n",
      "2021-08-19 13:40:50,742:(1.27s):atom_mapping:Molecules do not appear to share a common scaffold.\n",
      "2021-08-19 13:40:50,744:(0.00s):atom_mapping:Proceeding with direct mapping of molecules, but please check atom mapping and the geometry of the ligands.\n",
      "2021-08-19 13:40:50,758:(0.01s):proposal_generator:[Atom(name=CB, atomic number=6), Atom(name=CG2, atomic number=6), Atom(name=OG1, atomic number=8), Atom(name=HB, atomic number=1), Atom(name=HG1, atomic number=1), Atom(name=HG21, atomic number=1), Atom(name=HG22, atomic number=1), Atom(name=HG23, atomic number=1)]\n",
      "2021-08-19 13:40:50,760:(0.00s):proposal_generator:[Atom(name=CB, atomic number=6), Atom(name=HB1, atomic number=1), Atom(name=HB2, atomic number=1), Atom(name=HB3, atomic number=1)]\n",
      "2021-08-19 13:41:14,412:(23.65s):geometry:propose: performing forward proposal\n",
      "2021-08-19 13:41:14,416:(0.00s):geometry:propose: unique new atoms detected; proceeding to _logp_propose...\n",
      "2021-08-19 13:41:14,417:(0.00s):geometry:Conducting forward proposal...\n",
      "2021-08-19 13:41:14,419:(0.00s):geometry:Computing proposal order with NetworkX...\n",
      "2021-08-19 13:41:14,449:(0.03s):geometry:number of atoms to be placed: 4\n",
      "2021-08-19 13:41:14,451:(0.00s):geometry:Atom index proposal order is [673, 678, 677, 676]\n",
      "2021-08-19 13:41:14,452:(0.00s):geometry:omitted_bonds: []\n",
      "2021-08-19 13:41:14,453:(0.00s):geometry:direction of proposal is forward; creating atoms_with_positions and new positions from old system/topology...\n",
      "2021-08-19 13:41:18,137:(3.68s):geometry:creating growth system...\n",
      "2021-08-19 13:41:18,925:(0.79s):geometry:\tcreating bond force...\n",
      "2021-08-19 13:41:18,928:(0.00s):geometry:\tthere are 1622 bonds in reference force.\n",
      "2021-08-19 13:41:18,947:(0.02s):geometry:\tcreating angle force...\n",
      "2021-08-19 13:41:18,949:(0.00s):geometry:\tthere are 5730 angles in reference force.\n",
      "2021-08-19 13:41:19,003:(0.05s):geometry:\tcreating torsion force...\n",
      "2021-08-19 13:41:19,004:(0.00s):geometry:\tcreating extra torsions force...\n",
      "2021-08-19 13:41:19,006:(0.00s):geometry:\tthere are 10796 torsions in reference force.\n",
      "2021-08-19 13:41:19,066:(0.06s):geometry:\tcreating nonbonded force...\n",
      "2021-08-19 13:41:19,068:(0.00s):geometry:\t\tgrabbing reference nonbonded method, cutoff, switching function, switching distance...\n",
      "2021-08-19 13:41:19,069:(0.00s):geometry:\t\tcreating nonbonded exception force (i.e. custom bond for 1,4s)...\n",
      "2021-08-19 13:41:19,071:(0.00s):geometry:\t\tlooping through exceptions calculating growth indices, and adding appropriate interactions to custom bond force.\n",
      "2021-08-19 13:41:19,073:(0.00s):geometry:\t\tthere are 47417 in the reference Nonbonded force\n",
      "2021-08-19 13:41:20,094:(1.02s):geometry:\t\t\t\t\tchiral atom <Atom 670 (CA) of chain 0 residue 42 (ALA)> with neighbors [<Atom 671 (C) of chain 0 residue 42 (ALA)>, <Atom 673 (CB) of chain 0 residue 42 (ALA)>, <Atom 675 (HA) of chain 0 residue 42 (ALA)>, <Atom 669 (N) of chain 0 residue 42 (ALA)>] is surrounded by 3 core neighbors.  omitting chirality bias torsion\n",
      "2021-08-19 13:41:20,096:(0.00s):geometry:Neglected angle terms : []\n",
      "2021-08-19 13:41:20,098:(0.00s):geometry:omitted_growth_terms: {'bonds': [], 'angles': [], 'torsions': [], '1,4s': []}\n",
      "2021-08-19 13:41:20,100:(0.00s):geometry:extra torsions: {0: (674, 669, 670, 673, [1, Quantity(value=0.9799661941737812, unit=radian), Quantity(value=1200.0, unit=kilocalorie/mole), 1]), 1: (669, 670, 673, 676, [1, Quantity(value=2.105358864604291, unit=radian), Quantity(value=1200.0, unit=kilocalorie/mole), 4]), 2: (669, 670, 673, 677, [1, Quantity(value=-2.0823006129211796, unit=radian), Quantity(value=1200.0, unit=kilocalorie/mole), 3]), 3: (669, 670, 673, 678, [1, Quantity(value=0.018582237407944735, unit=radian), Quantity(value=1200.0, unit=kilocalorie/mole), 2]), 4: (671, 670, 673, 676, [1, Quantity(value=-0.036945135932107576, unit=radian), Quantity(value=1200.0, unit=kilocalorie/mole), 4]), 5: (671, 670, 673, 677, [1, Quantity(value=2.0585806937220097, unit=radian), Quantity(value=1200.0, unit=kilocalorie/mole), 3]), 6: (671, 670, 673, 678, [1, Quantity(value=-2.1237217631284597, unit=radian), Quantity(value=1200.0, unit=kilocalorie/mole), 2]), 7: (675, 670, 673, 676, [1, Quantity(value=-2.119603470065817, unit=radian), Quantity(value=1200.0, unit=kilocalorie/mole), 4]), 8: (675, 670, 673, 677, [1, Quantity(value=-0.024077640411697132, unit=radian), Quantity(value=1200.0, unit=kilocalorie/mole), 3]), 9: (675, 670, 673, 678, [1, Quantity(value=2.0768052099174152, unit=radian), Quantity(value=1200.0, unit=kilocalorie/mole), 2])}\n",
      "2021-08-19 13:41:20,102:(0.00s):geometry:neglected angle terms include []\n",
      "2021-08-19 13:41:20,103:(0.00s):geometry:log probability choice of torsions and atom order: -5.78074351579233\n",
      "2021-08-19 13:41:20,105:(0.00s):geometry:creating platform, integrators, and contexts; setting growth parameter\n"
     ]
    },
    {
     "name": "stdout",
     "output_type": "stream",
     "text": [
      "conducting subsequent work with the following platform: CUDA\n"
     ]
    },
    {
     "name": "stderr",
     "output_type": "stream",
     "text": [
      "2021-08-19 13:41:22,437:(2.33s):geometry:setting atoms_with_positions context new positions\n"
     ]
    },
    {
     "name": "stdout",
     "output_type": "stream",
     "text": [
      "conducting subsequent work with the following platform: CUDA\n"
     ]
    },
    {
     "name": "stderr",
     "output_type": "stream",
     "text": [
      "2021-08-19 13:41:23,627:(1.19s):geometry:There are 4 new atoms\n",
      "2021-08-19 13:41:23,634:(0.01s):geometry:\treduced angle potential = 0.4701590493380661.\n",
      "2021-08-19 13:41:24,020:(0.39s):geometry:\treduced angle potential = 0.20779207949171474.\n",
      "2021-08-19 13:41:24,403:(0.38s):geometry:\treduced angle potential = 0.5533161586005256.\n",
      "2021-08-19 13:41:24,788:(0.38s):geometry:\treduced angle potential = 1.806781386298817.\n",
      "2021-08-19 13:41:25,694:(0.91s):geometry:\tbeginning construction of no_nonbonded final system...\n",
      "2021-08-19 13:41:25,697:(0.00s):geometry:\tinitial no-nonbonded final system forces ['HarmonicBondForce', 'HarmonicAngleForce', 'PeriodicTorsionForce', 'NonbondedForce', 'MonteCarloBarostat']\n",
      "2021-08-19 13:41:27,178:(1.48s):geometry:\tfinal no-nonbonded final system forces dict_keys(['HarmonicBondForce', 'HarmonicAngleForce', 'PeriodicTorsionForce', 'NonbondedForce'])\n",
      "2021-08-19 13:41:27,179:(0.00s):geometry:\tthere are 1622 bond forces in the no-nonbonded final system\n",
      "2021-08-19 13:41:27,181:(0.00s):geometry:\tthere are 5730 angle forces in the no-nonbonded final system\n",
      "2021-08-19 13:41:27,182:(0.00s):geometry:\tthere are 10796 torsion forces in the no-nonbonded final system\n",
      "2021-08-19 13:41:27,183:(0.00s):geometry:forward final system defined with 0 neglected angles.\n"
     ]
    },
    {
     "name": "stdout",
     "output_type": "stream",
     "text": [
      "conducting subsequent work with the following platform: CUDA\n",
      "conducting subsequent work with the following platform: CUDA\n"
     ]
    },
    {
     "name": "stderr",
     "output_type": "stream",
     "text": [
      "2021-08-19 13:41:31,300:(4.12s):geometry:total reduced potential before atom placement: 5668.103368699857\n"
     ]
    },
    {
     "name": "stdout",
     "output_type": "stream",
     "text": [
      "conducting subsequent work with the following platform: CUDA\n",
      "conducting subsequent work with the following platform: CUDA\n",
      "conducting subsequent work with the following platform: CUDA\n"
     ]
    },
    {
     "name": "stderr",
     "output_type": "stream",
     "text": [
      "2021-08-19 13:41:33,995:(2.70s):geometry:total reduced energy added from growth system: 339.60811987968253\n",
      "2021-08-19 13:41:33,998:(0.00s):geometry:final reduced energy 6007.71148869392\n",
      "2021-08-19 13:41:34,000:(0.00s):geometry:sum of energies: 6007.71148857954\n",
      "2021-08-19 13:41:34,001:(0.00s):geometry:magnitude of difference in the energies: 1.143801569014613e-07\n",
      "2021-08-19 13:41:34,002:(0.00s):geometry:Final logp_proposal: 30.9978508553777\n",
      "2021-08-19 13:41:34,131:(0.13s):setup:charge diff: 0\n",
      "2021-08-19 13:41:34,133:(0.00s):geometry:logp_reverse: performing reverse proposal\n",
      "2021-08-19 13:41:34,136:(0.00s):geometry:logp_reverse: unique new atoms detected; proceeding to _logp_propose...\n",
      "2021-08-19 13:41:34,137:(0.00s):geometry:Conducting forward proposal...\n",
      "2021-08-19 13:41:34,139:(0.00s):geometry:Computing proposal order with NetworkX...\n"
     ]
    },
    {
     "name": "stdout",
     "output_type": "stream",
     "text": [
      "added energy components: [('CustomBondForce', 0.003303331926654109), ('CustomAngleForce', 155.09007333798627), ('CustomTorsionForce', 9.922095816113021), ('CustomBondForce', 174.59264739365653)]\n"
     ]
    },
    {
     "name": "stderr",
     "output_type": "stream",
     "text": [
      "2021-08-19 13:41:34,178:(0.04s):geometry:number of atoms to be placed: 8\n",
      "2021-08-19 13:41:34,180:(0.00s):geometry:Atom index proposal order is [673, 674, 675, 682, 678, 679, 680, 681]\n",
      "2021-08-19 13:41:34,182:(0.00s):geometry:omitted_bonds: []\n",
      "2021-08-19 13:41:34,183:(0.00s):geometry:direction of proposal is reverse; creating atoms_with_positions from old system/topology\n",
      "2021-08-19 13:41:37,374:(3.19s):geometry:creating growth system...\n",
      "2021-08-19 13:41:38,338:(0.96s):geometry:\tcreating bond force...\n",
      "2021-08-19 13:41:38,341:(0.00s):geometry:\tthere are 1624 bonds in reference force.\n",
      "2021-08-19 13:41:38,361:(0.02s):geometry:\tcreating angle force...\n",
      "2021-08-19 13:41:38,363:(0.00s):geometry:\tthere are 5737 angles in reference force.\n",
      "2021-08-19 13:41:38,412:(0.05s):geometry:\tcreating torsion force...\n",
      "2021-08-19 13:41:38,414:(0.00s):geometry:\tcreating extra torsions force...\n",
      "2021-08-19 13:41:38,415:(0.00s):geometry:\tthere are 10826 torsions in reference force.\n",
      "2021-08-19 13:41:38,479:(0.06s):geometry:\tcreating nonbonded force...\n",
      "2021-08-19 13:41:38,480:(0.00s):geometry:\t\tgrabbing reference nonbonded method, cutoff, switching function, switching distance...\n",
      "2021-08-19 13:41:38,482:(0.00s):geometry:\t\tcreating nonbonded exception force (i.e. custom bond for 1,4s)...\n",
      "2021-08-19 13:41:38,484:(0.00s):geometry:\t\tlooping through exceptions calculating growth indices, and adding appropriate interactions to custom bond force.\n",
      "2021-08-19 13:41:38,485:(0.00s):geometry:\t\tthere are 47440 in the reference Nonbonded force\n",
      "2021-08-19 13:41:39,512:(1.03s):geometry:\t\t\t\t\tchiral atom <Atom 670 (CA) of chain 0 residue 42 (THR)> with neighbors [<Atom 671 (C) of chain 0 residue 42 (THR)>, <Atom 673 (CB) of chain 0 residue 42 (THR)>, <Atom 677 (HA) of chain 0 residue 42 (THR)>, <Atom 669 (N) of chain 0 residue 42 (THR)>] is surrounded by 3 core neighbors.  omitting chirality bias torsion\n",
      "2021-08-19 13:41:39,515:(0.00s):geometry:Neglected angle terms : []\n",
      "2021-08-19 13:41:39,517:(0.00s):geometry:omitted_growth_terms: {'bonds': [], 'angles': [], 'torsions': [], '1,4s': []}\n",
      "2021-08-19 13:41:39,519:(0.00s):geometry:extra torsions: {0: (676, 669, 670, 673, [1, Quantity(value=0.9900002084555819, unit=radian), Quantity(value=1200.0, unit=kilocalorie/mole), 1]), 1: (679, 674, 673, 670, [1, Quantity(value=-0.07858019216845058, unit=radian), Quantity(value=1200.0, unit=kilocalorie/mole), 6]), 2: (679, 674, 673, 675, [1, Quantity(value=2.118586571250296, unit=radian), Quantity(value=1200.0, unit=kilocalorie/mole), 6]), 3: (679, 674, 673, 678, [1, Quantity(value=-2.149781203448759, unit=radian), Quantity(value=1200.0, unit=kilocalorie/mole), 6]), 4: (670, 673, 675, 682, [1, Quantity(value=-2.1249532223845904, unit=radian), Quantity(value=1200.0, unit=kilocalorie/mole), 4]), 5: (670, 673, 675, 681, [1, Quantity(value=2.0543043017157916, unit=radian), Quantity(value=1200.0, unit=kilocalorie/mole), 8]), 6: (670, 673, 675, 680, [1, Quantity(value=-0.02223392579985184, unit=radian), Quantity(value=1200.0, unit=kilocalorie/mole), 7]), 7: (674, 673, 675, 682, [1, Quantity(value=2.0255587336734213, unit=radian), Quantity(value=1200.0, unit=kilocalorie/mole), 4]), 8: (674, 673, 675, 681, [1, Quantity(value=-0.07836904940578293, unit=radian), Quantity(value=1200.0, unit=kilocalorie/mole), 8]), 9: (674, 673, 675, 680, [1, Quantity(value=-2.154907276921426, unit=radian), Quantity(value=1200.0, unit=kilocalorie/mole), 7]), 10: (678, 673, 675, 682, [1, Quantity(value=0.007583009583349565, unit=radian), Quantity(value=1200.0, unit=kilocalorie/mole), 5]), 11: (678, 673, 675, 681, [1, Quantity(value=-2.096344773495849, unit=radian), Quantity(value=1200.0, unit=kilocalorie/mole), 8]), 12: (678, 673, 675, 680, [1, Quantity(value=2.1103023061680943, unit=radian), Quantity(value=1200.0, unit=kilocalorie/mole), 7]), 13: (674, 673, 670, 675, [1, Quantity(value=-1.0655064807976995, unit=radian), Quantity(value=1200.0, unit=kilocalorie/mole), 3])}\n",
      "2021-08-19 13:41:39,521:(0.00s):geometry:neglected angle terms include []\n",
      "2021-08-19 13:41:39,523:(0.00s):geometry:log probability choice of torsions and atom order: -13.371595639480912\n",
      "2021-08-19 13:41:39,524:(0.00s):geometry:creating platform, integrators, and contexts; setting growth parameter\n"
     ]
    },
    {
     "name": "stdout",
     "output_type": "stream",
     "text": [
      "conducting subsequent work with the following platform: CUDA\n"
     ]
    },
    {
     "name": "stderr",
     "output_type": "stream",
     "text": [
      "2021-08-19 13:41:41,693:(2.17s):geometry:setting atoms_with_positions context old positions\n"
     ]
    },
    {
     "name": "stdout",
     "output_type": "stream",
     "text": [
      "conducting subsequent work with the following platform: CUDA\n"
     ]
    },
    {
     "name": "stderr",
     "output_type": "stream",
     "text": [
      "2021-08-19 13:41:43,064:(1.37s):geometry:There are 8 new atoms\n",
      "2021-08-19 13:41:43,071:(0.01s):geometry:\treduced angle potential = 0.06292832297015817.\n",
      "2021-08-19 13:41:43,400:(0.33s):geometry:\treduced angle potential = 1.171786723544314.\n",
      "2021-08-19 13:41:43,736:(0.34s):geometry:\treduced angle potential = 0.15088552138282585.\n",
      "2021-08-19 13:41:44,070:(0.33s):geometry:\treduced angle potential = 8.429836390053187e-06.\n",
      "2021-08-19 13:41:44,407:(0.34s):geometry:\treduced angle potential = 0.0014485627329499679.\n",
      "2021-08-19 13:41:44,731:(0.32s):geometry:\treduced angle potential = 0.0037318575268475676.\n",
      "2021-08-19 13:41:45,062:(0.33s):geometry:\treduced angle potential = 6.103681872621702e-06.\n",
      "2021-08-19 13:41:45,374:(0.31s):geometry:\treduced angle potential = 2.0226598106735676e-06.\n",
      "2021-08-19 13:41:46,363:(0.99s):geometry:\tbeginning construction of no_nonbonded final system...\n",
      "2021-08-19 13:41:46,366:(0.00s):geometry:\tinitial no-nonbonded final system forces ['HarmonicBondForce', 'HarmonicAngleForce', 'PeriodicTorsionForce', 'NonbondedForce', 'MonteCarloBarostat']\n",
      "2021-08-19 13:41:48,161:(1.80s):geometry:\tfinal no-nonbonded final system forces dict_keys(['HarmonicBondForce', 'HarmonicAngleForce', 'PeriodicTorsionForce', 'NonbondedForce'])\n",
      "2021-08-19 13:41:48,164:(0.00s):geometry:\tthere are 1624 bond forces in the no-nonbonded final system\n",
      "2021-08-19 13:41:48,165:(0.00s):geometry:\tthere are 5737 angle forces in the no-nonbonded final system\n",
      "2021-08-19 13:41:48,167:(0.00s):geometry:\tthere are 10826 torsion forces in the no-nonbonded final system\n",
      "2021-08-19 13:41:48,169:(0.00s):geometry:reverse final system defined with 0 neglected angles.\n"
     ]
    },
    {
     "name": "stdout",
     "output_type": "stream",
     "text": [
      "conducting subsequent work with the following platform: CUDA\n",
      "conducting subsequent work with the following platform: CUDA\n"
     ]
    },
    {
     "name": "stderr",
     "output_type": "stream",
     "text": [
      "2021-08-19 13:41:52,338:(4.17s):geometry:total reduced potential before atom placement: 5668.103368699857\n"
     ]
    },
    {
     "name": "stdout",
     "output_type": "stream",
     "text": [
      "conducting subsequent work with the following platform: CUDA\n",
      "conducting subsequent work with the following platform: CUDA\n",
      "conducting subsequent work with the following platform: CUDA\n"
     ]
    },
    {
     "name": "stderr",
     "output_type": "stream",
     "text": [
      "2021-08-19 13:41:54,840:(2.50s):geometry:total reduced energy added from growth system: -60.14549627276338\n",
      "2021-08-19 13:41:54,843:(0.00s):geometry:final reduced energy 5607.957872303956\n",
      "2021-08-19 13:41:54,845:(0.00s):geometry:sum of energies: 5607.957872427094\n",
      "2021-08-19 13:41:54,847:(0.00s):geometry:magnitude of difference in the energies: 1.231379371802177e-07\n",
      "2021-08-19 13:41:54,848:(0.00s):geometry:Final logp_proposal: -8985.459730894416\n",
      "2021-08-19 13:41:54,977:(0.13s):relative:*** Generating RestCapablePMEHybridTopologyFactory ***\n"
     ]
    },
    {
     "name": "stdout",
     "output_type": "stream",
     "text": [
      "added energy components: [('CustomBondForce', 0.6231737166566027), ('CustomAngleForce', 2.1618390579023568), ('CustomTorsionForce', 18.205977349832974), ('CustomBondForce', -81.13648639715531)]\n"
     ]
    },
    {
     "name": "stderr",
     "output_type": "stream",
     "text": [
      "2021-08-19 13:41:56,359:(1.38s):relative:Old system forces: dict_keys(['HarmonicBondForce', 'HarmonicAngleForce', 'PeriodicTorsionForce', 'NonbondedForce', 'MonteCarloBarostat'])\n",
      "2021-08-19 13:41:56,363:(0.00s):relative:New system forces: dict_keys(['HarmonicBondForce', 'HarmonicAngleForce', 'PeriodicTorsionForce', 'NonbondedForce', 'MonteCarloBarostat'])\n",
      "2021-08-19 13:41:56,365:(0.00s):relative:No unknown forces.\n",
      "2021-08-19 13:41:56,367:(0.00s):relative:Nonbonded method to be used (i.e. from old system): 4\n",
      "2021-08-19 13:41:56,369:(0.00s):relative:Adding and mapping old atoms to hybrid system...\n",
      "2021-08-19 13:41:56,578:(0.21s):relative:Adding and mapping new atoms to hybrid system...\n",
      "2021-08-19 13:41:56,580:(0.00s):relative:Added MonteCarloBarostat.\n",
      "2021-08-19 13:41:56,581:(0.00s):relative:getDefaultPeriodicBoxVectors added to hybrid: [Quantity(value=Vec3(x=7.062600000000001, y=0.0, z=0.0), unit=nanometer), Quantity(value=Vec3(x=0.0, y=7.062600000000001, z=0.0), unit=nanometer), Quantity(value=Vec3(x=0.0, y=0.0, z=7.062600000000001), unit=nanometer)]\n",
      "2021-08-19 13:41:56,594:(0.01s):relative:Determined atom classes.\n",
      "2021-08-19 13:41:57,922:(1.33s):relative:Generating old system exceptions dict...\n",
      "2021-08-19 13:41:58,814:(0.89s):relative:Generating new system exceptions dict...\n",
      "2021-08-19 13:41:59,991:(1.18s):relative:Handling constraints...\n",
      "2021-08-19 13:42:00,810:(0.82s):relative:Handling virtual sites...\n",
      "2021-08-19 13:42:00,840:(0.03s):relative:\t_handle_virtual_sites: numVirtualSites: 0\n"
     ]
    }
   ],
   "source": [
    "solvent_delivery = PointMutationExecutor2(\"../../input/1brs_barstar_renumbered.pdb\",\n",
    "                        '1',\n",
    "                        \"42\",\n",
    "                        \"ALA\",\n",
    "                        ligand_input=\"../../input/1brs_barnase_renumbered.pdb\",\n",
    "                        ionic_strength=0.05*unit.molar,\n",
    "                        flatten_torsions=True,\n",
    "                        flatten_exceptions=True, \n",
    "                        conduct_endstate_validation=False,\n",
    "                        generate_unmodified_hybrid_topology_factory=False,\n",
    "                        generate_rest_capable_hybrid_topology_factory=False,\n",
    "                        generate_rest_capable_pme_hybrid_topology_factory=True\n",
    "                       )"
   ]
  },
  {
   "cell_type": "code",
   "execution_count": 24,
   "id": "f218becd",
   "metadata": {},
   "outputs": [],
   "source": [
    "pickle.dump(solvent_delivery.get_apo_htf(), open(\"T42A_apo.pickle\", \"wb\" ))\n",
    "pickle.dump(solvent_delivery.get_complex_htf(), open(\"T42A_complex.pickle\", \"wb\" ))\n"
   ]
  },
  {
   "cell_type": "markdown",
   "id": "dated-desire",
   "metadata": {},
   "source": [
    "#### Old system HarmonicBondForce vs hybrid system CustomBondForce"
   ]
  },
  {
   "cell_type": "code",
   "execution_count": 25,
   "id": "excellent-cosmetic",
   "metadata": {},
   "outputs": [],
   "source": [
    "# Load htf\n",
    "with open(\"T42A_complex.pickle\", \"rb\") as f:\n",
    "    htf = pickle.load(f)"
   ]
  },
  {
   "cell_type": "code",
   "execution_count": 26,
   "id": "bigger-meeting",
   "metadata": {},
   "outputs": [
    {
     "name": "stdout",
     "output_type": "stream",
     "text": [
      "Warning: Returning CPU platform instead of requested platform <openmm.openmm.Platform; proxy of <Swig Object of type 'OpenMM::Platform *' at 0x2b697acd5f30> >\n",
      "conducting subsequent work with the following platform: CPU\n",
      "conducting subsequent work with the following platform: CUDA\n",
      "[('HarmonicBondForce', 569.5926176486894), ('HarmonicAngleForce', 1323.9862513751366), ('PeriodicTorsionForce', 3795.5154898495653), ('NonbondedForce', 57388803.7320065), ('AndersenThermostat', 0.0), ('MonteCarloBarostat', 0.0)]\n",
      "conducting subsequent work with the following platform: CUDA\n",
      "[('CustomBondForce', 569.5926176486894), ('AndersenThermostat', 0.0), ('MonteCarloBarostat', 0.0)]\n",
      "Success! Custom bond force and standard bond force energies are equal!\n"
     ]
    }
   ],
   "source": [
    "test_bond_energies(htf, is_solvated=True)"
   ]
  },
  {
   "cell_type": "markdown",
   "id": "satisfactory-taxation",
   "metadata": {},
   "source": [
    "#### New system HarmonicBondForce vs hybrid system CustomBondForce"
   ]
  },
  {
   "cell_type": "code",
   "execution_count": 27,
   "id": "turkish-exclusive",
   "metadata": {},
   "outputs": [],
   "source": [
    "# Load htf\n",
    "with open(\"T42A_complex.pickle\", \"rb\") as f:\n",
    "    htf = pickle.load(f)"
   ]
  },
  {
   "cell_type": "code",
   "execution_count": 28,
   "id": "cordless-kitty",
   "metadata": {},
   "outputs": [
    {
     "name": "stdout",
     "output_type": "stream",
     "text": [
      "Warning: Returning CPU platform instead of requested platform <openmm.openmm.Platform; proxy of <Swig Object of type 'OpenMM::Platform *' at 0x2b697acd5f30> >\n",
      "conducting subsequent work with the following platform: CPU\n",
      "conducting subsequent work with the following platform: CUDA\n",
      "[('HarmonicBondForce', 568.9727472639595), ('HarmonicAngleForce', 1476.9144856552205), ('PeriodicTorsionForce', 3787.2316080556297), ('NonbondedForce', 57389057.42211673), ('AndersenThermostat', 0.0), ('MonteCarloBarostat', 0.0)]\n",
      "conducting subsequent work with the following platform: CUDA\n",
      "[('CustomBondForce', 568.9727472639595), ('AndersenThermostat', 0.0), ('MonteCarloBarostat', 0.0)]\n",
      "Success! Custom bond force and standard bond force energies are equal!\n"
     ]
    }
   ],
   "source": [
    "test_bond_energies(htf, is_old=False, is_solvated=True)"
   ]
  },
  {
   "cell_type": "code",
   "execution_count": 29,
   "id": "clean-pharmacy",
   "metadata": {},
   "outputs": [],
   "source": [
    "rest_region = list(htf._atom_classes['unique_old_atoms']) + list(htf._atom_classes['unique_new_atoms'])"
   ]
  },
  {
   "cell_type": "markdown",
   "id": "e4d0d5e0",
   "metadata": {},
   "source": [
    "### Test one alchemical region, one rest region"
   ]
  },
  {
   "cell_type": "code",
   "execution_count": 30,
   "id": "6cfd0901",
   "metadata": {
    "scrolled": true
   },
   "outputs": [
    {
     "name": "stderr",
     "output_type": "stream",
     "text": [
      "2021-08-19 13:44:44,913:(164.07s):setup:solvating at 0.05 M using tip3p\n",
      "2021-08-19 13:44:48,187:(3.27s):setup:solvating at 0.05 M using tip3p\n",
      "2021-08-19 13:44:57,223:(9.04s):proposal_generator:\tConducting polymer point mutation proposal...\n",
      "2021-08-19 13:44:57,581:(0.36s):atom_mapping:Molecules do not appear to share a common scaffold.\n",
      "2021-08-19 13:44:57,584:(0.00s):atom_mapping:Proceeding with direct mapping of molecules, but please check atom mapping and the geometry of the ligands.\n",
      "2021-08-19 13:44:57,598:(0.01s):proposal_generator:[Atom(name=CB, atomic number=6), Atom(name=CG2, atomic number=6), Atom(name=OG1, atomic number=8), Atom(name=HB, atomic number=1), Atom(name=HG1, atomic number=1), Atom(name=HG21, atomic number=1), Atom(name=HG22, atomic number=1), Atom(name=HG23, atomic number=1)]\n",
      "2021-08-19 13:44:57,599:(0.00s):proposal_generator:[Atom(name=CB, atomic number=6), Atom(name=HB1, atomic number=1), Atom(name=HB2, atomic number=1), Atom(name=HB3, atomic number=1)]\n",
      "2021-08-19 13:45:05,292:(7.69s):geometry:propose: performing forward proposal\n",
      "2021-08-19 13:45:05,296:(0.00s):geometry:propose: unique new atoms detected; proceeding to _logp_propose...\n",
      "2021-08-19 13:45:05,298:(0.00s):geometry:Conducting forward proposal...\n",
      "2021-08-19 13:45:05,300:(0.00s):geometry:Computing proposal order with NetworkX...\n",
      "2021-08-19 13:45:05,321:(0.02s):geometry:number of atoms to be placed: 4\n",
      "2021-08-19 13:45:05,322:(0.00s):geometry:Atom index proposal order is [673, 676, 678, 677]\n",
      "2021-08-19 13:45:05,324:(0.00s):geometry:omitted_bonds: []\n",
      "2021-08-19 13:45:05,326:(0.00s):geometry:direction of proposal is forward; creating atoms_with_positions and new positions from old system/topology...\n",
      "2021-08-19 13:45:06,978:(1.65s):geometry:creating growth system...\n",
      "2021-08-19 13:45:07,484:(0.51s):geometry:\tcreating bond force...\n",
      "2021-08-19 13:45:07,487:(0.00s):geometry:\tthere are 733 bonds in reference force.\n",
      "2021-08-19 13:45:07,496:(0.01s):geometry:\tcreating angle force...\n",
      "2021-08-19 13:45:07,498:(0.00s):geometry:\tthere are 2628 angles in reference force.\n",
      "2021-08-19 13:45:07,524:(0.03s):geometry:\tcreating torsion force...\n",
      "2021-08-19 13:45:07,526:(0.00s):geometry:\tcreating extra torsions force...\n",
      "2021-08-19 13:45:07,528:(0.00s):geometry:\tthere are 4943 torsions in reference force.\n",
      "2021-08-19 13:45:07,552:(0.02s):geometry:\tcreating nonbonded force...\n",
      "2021-08-19 13:45:07,554:(0.00s):geometry:\t\tgrabbing reference nonbonded method, cutoff, switching function, switching distance...\n",
      "2021-08-19 13:45:07,556:(0.00s):geometry:\t\tcreating nonbonded exception force (i.e. custom bond for 1,4s)...\n",
      "2021-08-19 13:45:07,557:(0.00s):geometry:\t\tlooping through exceptions calculating growth indices, and adding appropriate interactions to custom bond force.\n",
      "2021-08-19 13:45:07,559:(0.00s):geometry:\t\tthere are 22457 in the reference Nonbonded force\n",
      "2021-08-19 13:45:08,024:(0.47s):geometry:\t\t\t\t\tchiral atom <Atom 670 (CA) of chain 0 residue 42 (ALA)> with neighbors [<Atom 671 (C) of chain 0 residue 42 (ALA)>, <Atom 673 (CB) of chain 0 residue 42 (ALA)>, <Atom 675 (HA) of chain 0 residue 42 (ALA)>, <Atom 669 (N) of chain 0 residue 42 (ALA)>] is surrounded by 3 core neighbors.  omitting chirality bias torsion\n",
      "2021-08-19 13:45:08,026:(0.00s):geometry:Neglected angle terms : []\n",
      "2021-08-19 13:45:08,028:(0.00s):geometry:omitted_growth_terms: {'bonds': [], 'angles': [], 'torsions': [], '1,4s': []}\n",
      "2021-08-19 13:45:08,030:(0.00s):geometry:extra torsions: {0: (674, 669, 670, 673, [1, Quantity(value=0.9799661941737812, unit=radian), Quantity(value=1200.0, unit=kilocalorie/mole), 1]), 1: (669, 670, 673, 676, [1, Quantity(value=2.105358864604291, unit=radian), Quantity(value=1200.0, unit=kilocalorie/mole), 2]), 2: (669, 670, 673, 677, [1, Quantity(value=-2.0823006129211796, unit=radian), Quantity(value=1200.0, unit=kilocalorie/mole), 4]), 3: (669, 670, 673, 678, [1, Quantity(value=0.018582237407944735, unit=radian), Quantity(value=1200.0, unit=kilocalorie/mole), 3]), 4: (671, 670, 673, 676, [1, Quantity(value=-0.036945135932107576, unit=radian), Quantity(value=1200.0, unit=kilocalorie/mole), 2]), 5: (671, 670, 673, 677, [1, Quantity(value=2.0585806937220097, unit=radian), Quantity(value=1200.0, unit=kilocalorie/mole), 4]), 6: (671, 670, 673, 678, [1, Quantity(value=-2.1237217631284597, unit=radian), Quantity(value=1200.0, unit=kilocalorie/mole), 3]), 7: (675, 670, 673, 676, [1, Quantity(value=-2.119603470065817, unit=radian), Quantity(value=1200.0, unit=kilocalorie/mole), 2]), 8: (675, 670, 673, 677, [1, Quantity(value=-0.024077640411697132, unit=radian), Quantity(value=1200.0, unit=kilocalorie/mole), 4]), 9: (675, 670, 673, 678, [1, Quantity(value=2.0768052099174152, unit=radian), Quantity(value=1200.0, unit=kilocalorie/mole), 3])}\n",
      "2021-08-19 13:45:08,032:(0.00s):geometry:neglected angle terms include []\n",
      "2021-08-19 13:45:08,033:(0.00s):geometry:log probability choice of torsions and atom order: -5.78074351579233\n",
      "2021-08-19 13:45:08,035:(0.00s):geometry:creating platform, integrators, and contexts; setting growth parameter\n"
     ]
    },
    {
     "name": "stdout",
     "output_type": "stream",
     "text": [
      "conducting subsequent work with the following platform: CUDA\n"
     ]
    },
    {
     "name": "stderr",
     "output_type": "stream",
     "text": [
      "2021-08-19 13:45:08,827:(0.79s):geometry:setting atoms_with_positions context new positions\n"
     ]
    },
    {
     "name": "stdout",
     "output_type": "stream",
     "text": [
      "conducting subsequent work with the following platform: CUDA\n"
     ]
    },
    {
     "name": "stderr",
     "output_type": "stream",
     "text": [
      "2021-08-19 13:45:09,590:(0.76s):geometry:There are 4 new atoms\n",
      "2021-08-19 13:45:09,596:(0.01s):geometry:\treduced angle potential = 0.11876324593478398.\n",
      "2021-08-19 13:45:09,814:(0.22s):geometry:\treduced angle potential = 0.7510667581037692.\n",
      "2021-08-19 13:45:10,014:(0.20s):geometry:\treduced angle potential = 0.2581301719214334.\n",
      "2021-08-19 13:45:10,203:(0.19s):geometry:\treduced angle potential = 0.15070124282156389.\n",
      "2021-08-19 13:45:10,737:(0.53s):geometry:\tbeginning construction of no_nonbonded final system...\n",
      "2021-08-19 13:45:10,740:(0.00s):geometry:\tinitial no-nonbonded final system forces ['HarmonicBondForce', 'HarmonicAngleForce', 'PeriodicTorsionForce', 'NonbondedForce', 'MonteCarloBarostat']\n",
      "2021-08-19 13:45:11,821:(1.08s):geometry:\tfinal no-nonbonded final system forces dict_keys(['HarmonicBondForce', 'HarmonicAngleForce', 'PeriodicTorsionForce', 'NonbondedForce'])\n",
      "2021-08-19 13:45:11,826:(0.00s):geometry:\tthere are 733 bond forces in the no-nonbonded final system\n",
      "2021-08-19 13:45:11,829:(0.00s):geometry:\tthere are 2628 angle forces in the no-nonbonded final system\n",
      "2021-08-19 13:45:11,832:(0.00s):geometry:\tthere are 4943 torsion forces in the no-nonbonded final system\n",
      "2021-08-19 13:45:11,833:(0.00s):geometry:forward final system defined with 0 neglected angles.\n"
     ]
    },
    {
     "name": "stdout",
     "output_type": "stream",
     "text": [
      "conducting subsequent work with the following platform: CUDA\n",
      "conducting subsequent work with the following platform: CUDA\n"
     ]
    },
    {
     "name": "stderr",
     "output_type": "stream",
     "text": [
      "2021-08-19 13:45:14,835:(3.00s):geometry:total reduced potential before atom placement: 2658.903771501648\n"
     ]
    },
    {
     "name": "stdout",
     "output_type": "stream",
     "text": [
      "conducting subsequent work with the following platform: CUDA\n",
      "conducting subsequent work with the following platform: CUDA\n",
      "conducting subsequent work with the following platform: CUDA\n"
     ]
    },
    {
     "name": "stderr",
     "output_type": "stream",
     "text": [
      "2021-08-19 13:45:18,136:(3.30s):geometry:total reduced energy added from growth system: 429.0006956758784\n",
      "2021-08-19 13:45:18,140:(0.00s):geometry:final reduced energy 3087.904465973319\n",
      "2021-08-19 13:45:18,155:(0.02s):geometry:sum of energies: 3087.9044671775264\n",
      "2021-08-19 13:45:18,157:(0.00s):geometry:magnitude of difference in the energies: 1.204207308092009e-06\n",
      "2021-08-19 13:45:18,159:(0.00s):geometry:Final logp_proposal: 32.8986917053269\n"
     ]
    },
    {
     "name": "stdout",
     "output_type": "stream",
     "text": [
      "added energy components: [('CustomBondForce', 0.13955448961886247), ('CustomAngleForce', 156.9507759139512), ('CustomTorsionForce', 9.751016305123482), ('CustomBondForce', 262.1593489671849)]\n"
     ]
    },
    {
     "name": "stderr",
     "output_type": "stream",
     "text": [
      "2021-08-19 13:45:18,436:(0.28s):setup:charge diff: 0\n",
      "2021-08-19 13:45:18,452:(0.02s):geometry:logp_reverse: performing reverse proposal\n",
      "2021-08-19 13:45:18,455:(0.00s):geometry:logp_reverse: unique new atoms detected; proceeding to _logp_propose...\n",
      "2021-08-19 13:45:18,457:(0.00s):geometry:Conducting forward proposal...\n",
      "2021-08-19 13:45:18,459:(0.00s):geometry:Computing proposal order with NetworkX...\n",
      "2021-08-19 13:45:18,517:(0.06s):geometry:number of atoms to be placed: 8\n",
      "2021-08-19 13:45:18,519:(0.00s):geometry:Atom index proposal order is [673, 675, 674, 682, 678, 681, 679, 680]\n",
      "2021-08-19 13:45:18,521:(0.00s):geometry:omitted_bonds: []\n",
      "2021-08-19 13:45:18,523:(0.00s):geometry:direction of proposal is reverse; creating atoms_with_positions from old system/topology\n",
      "2021-08-19 13:45:25,146:(6.62s):geometry:creating growth system...\n",
      "2021-08-19 13:45:26,333:(1.19s):geometry:\tcreating bond force...\n",
      "2021-08-19 13:45:26,343:(0.01s):geometry:\tthere are 735 bonds in reference force.\n",
      "2021-08-19 13:45:26,349:(0.01s):geometry:\tcreating angle force...\n",
      "2021-08-19 13:45:26,359:(0.01s):geometry:\tthere are 2635 angles in reference force.\n",
      "2021-08-19 13:45:26,418:(0.06s):geometry:\tcreating torsion force...\n",
      "2021-08-19 13:45:26,437:(0.02s):geometry:\tcreating extra torsions force...\n",
      "2021-08-19 13:45:26,437:(0.00s):geometry:\tthere are 4973 torsions in reference force.\n",
      "2021-08-19 13:45:26,500:(0.06s):geometry:\tcreating nonbonded force...\n",
      "2021-08-19 13:45:26,502:(0.00s):geometry:\t\tgrabbing reference nonbonded method, cutoff, switching function, switching distance...\n",
      "2021-08-19 13:45:26,504:(0.00s):geometry:\t\tcreating nonbonded exception force (i.e. custom bond for 1,4s)...\n",
      "2021-08-19 13:45:26,518:(0.01s):geometry:\t\tlooping through exceptions calculating growth indices, and adding appropriate interactions to custom bond force.\n",
      "2021-08-19 13:45:26,519:(0.00s):geometry:\t\tthere are 22480 in the reference Nonbonded force\n",
      "2021-08-19 13:45:27,764:(1.25s):geometry:\t\t\t\t\tchiral atom <Atom 670 (CA) of chain 0 residue 42 (THR)> with neighbors [<Atom 671 (C) of chain 0 residue 42 (THR)>, <Atom 673 (CB) of chain 0 residue 42 (THR)>, <Atom 677 (HA) of chain 0 residue 42 (THR)>, <Atom 669 (N) of chain 0 residue 42 (THR)>] is surrounded by 3 core neighbors.  omitting chirality bias torsion\n",
      "2021-08-19 13:45:27,768:(0.00s):geometry:Neglected angle terms : []\n",
      "2021-08-19 13:45:27,768:(0.00s):geometry:omitted_growth_terms: {'bonds': [], 'angles': [], 'torsions': [], '1,4s': []}\n",
      "2021-08-19 13:45:27,772:(0.00s):geometry:extra torsions: {0: (676, 669, 670, 673, [1, Quantity(value=0.9900002084555819, unit=radian), Quantity(value=1200.0, unit=kilocalorie/mole), 1]), 1: (679, 674, 673, 670, [1, Quantity(value=-0.07858019216845058, unit=radian), Quantity(value=1200.0, unit=kilocalorie/mole), 7]), 2: (679, 674, 673, 675, [1, Quantity(value=2.118586571250296, unit=radian), Quantity(value=1200.0, unit=kilocalorie/mole), 7]), 3: (679, 674, 673, 678, [1, Quantity(value=-2.149781203448759, unit=radian), Quantity(value=1200.0, unit=kilocalorie/mole), 7]), 4: (670, 673, 675, 682, [1, Quantity(value=-2.1249532223845904, unit=radian), Quantity(value=1200.0, unit=kilocalorie/mole), 4]), 5: (670, 673, 675, 681, [1, Quantity(value=2.0543043017157916, unit=radian), Quantity(value=1200.0, unit=kilocalorie/mole), 6]), 6: (670, 673, 675, 680, [1, Quantity(value=-0.02223392579985184, unit=radian), Quantity(value=1200.0, unit=kilocalorie/mole), 8]), 7: (674, 673, 675, 682, [1, Quantity(value=2.0255587336734213, unit=radian), Quantity(value=1200.0, unit=kilocalorie/mole), 4]), 8: (674, 673, 675, 681, [1, Quantity(value=-0.07836904940578293, unit=radian), Quantity(value=1200.0, unit=kilocalorie/mole), 6]), 9: (674, 673, 675, 680, [1, Quantity(value=-2.154907276921426, unit=radian), Quantity(value=1200.0, unit=kilocalorie/mole), 8]), 10: (678, 673, 675, 682, [1, Quantity(value=0.007583009583349565, unit=radian), Quantity(value=1200.0, unit=kilocalorie/mole), 5]), 11: (678, 673, 675, 681, [1, Quantity(value=-2.096344773495849, unit=radian), Quantity(value=1200.0, unit=kilocalorie/mole), 6]), 12: (678, 673, 675, 680, [1, Quantity(value=2.1103023061680943, unit=radian), Quantity(value=1200.0, unit=kilocalorie/mole), 8]), 13: (675, 673, 670, 674, [1, Quantity(value=1.0655064807976995, unit=radian), Quantity(value=1200.0, unit=kilocalorie/mole), 3])}\n",
      "2021-08-19 13:45:27,773:(0.00s):geometry:neglected angle terms include []\n",
      "2021-08-19 13:45:27,777:(0.00s):geometry:log probability choice of torsions and atom order: -13.371595639480912\n",
      "2021-08-19 13:45:27,778:(0.00s):geometry:creating platform, integrators, and contexts; setting growth parameter\n"
     ]
    },
    {
     "name": "stdout",
     "output_type": "stream",
     "text": [
      "conducting subsequent work with the following platform: CUDA\n"
     ]
    },
    {
     "name": "stderr",
     "output_type": "stream",
     "text": [
      "2021-08-19 13:45:29,379:(1.60s):geometry:setting atoms_with_positions context old positions\n"
     ]
    },
    {
     "name": "stdout",
     "output_type": "stream",
     "text": [
      "conducting subsequent work with the following platform: CUDA\n"
     ]
    },
    {
     "name": "stderr",
     "output_type": "stream",
     "text": [
      "2021-08-19 13:45:30,791:(1.41s):geometry:There are 8 new atoms\n",
      "2021-08-19 13:45:30,798:(0.01s):geometry:\treduced angle potential = 0.06292832297015817.\n",
      "2021-08-19 13:45:31,144:(0.35s):geometry:\treduced angle potential = 0.15088552138282585.\n",
      "2021-08-19 13:45:31,484:(0.34s):geometry:\treduced angle potential = 1.171786723544314.\n",
      "2021-08-19 13:45:31,829:(0.34s):geometry:\treduced angle potential = 8.429836390053187e-06.\n",
      "2021-08-19 13:45:32,170:(0.34s):geometry:\treduced angle potential = 0.0014485627329499679.\n",
      "2021-08-19 13:45:32,517:(0.35s):geometry:\treduced angle potential = 2.0226598106735676e-06.\n",
      "2021-08-19 13:45:32,855:(0.34s):geometry:\treduced angle potential = 0.0037318575268475676.\n",
      "2021-08-19 13:45:33,224:(0.37s):geometry:\treduced angle potential = 6.103681872621702e-06.\n",
      "2021-08-19 13:45:34,446:(1.22s):geometry:\tbeginning construction of no_nonbonded final system...\n",
      "2021-08-19 13:45:34,450:(0.00s):geometry:\tinitial no-nonbonded final system forces ['HarmonicBondForce', 'HarmonicAngleForce', 'PeriodicTorsionForce', 'NonbondedForce', 'MonteCarloBarostat']\n",
      "2021-08-19 13:45:36,491:(2.04s):geometry:\tfinal no-nonbonded final system forces dict_keys(['HarmonicBondForce', 'HarmonicAngleForce', 'PeriodicTorsionForce', 'NonbondedForce'])\n",
      "2021-08-19 13:45:36,504:(0.01s):geometry:\tthere are 735 bond forces in the no-nonbonded final system\n",
      "2021-08-19 13:45:36,507:(0.00s):geometry:\tthere are 2635 angle forces in the no-nonbonded final system\n",
      "2021-08-19 13:45:36,509:(0.00s):geometry:\tthere are 4973 torsion forces in the no-nonbonded final system\n",
      "2021-08-19 13:45:36,510:(0.00s):geometry:reverse final system defined with 0 neglected angles.\n"
     ]
    },
    {
     "name": "stdout",
     "output_type": "stream",
     "text": [
      "conducting subsequent work with the following platform: CUDA\n",
      "conducting subsequent work with the following platform: CUDA\n"
     ]
    },
    {
     "name": "stderr",
     "output_type": "stream",
     "text": [
      "2021-08-19 13:45:40,455:(3.94s):geometry:total reduced potential before atom placement: 2658.9037715016484\n"
     ]
    },
    {
     "name": "stdout",
     "output_type": "stream",
     "text": [
      "conducting subsequent work with the following platform: CUDA\n",
      "conducting subsequent work with the following platform: CUDA\n",
      "conducting subsequent work with the following platform: CUDA\n"
     ]
    },
    {
     "name": "stderr",
     "output_type": "stream",
     "text": [
      "2021-08-19 13:45:43,895:(3.44s):geometry:total reduced energy added from growth system: -60.14549627276338\n",
      "2021-08-19 13:45:43,898:(0.00s):geometry:final reduced energy 2598.7582751057475\n",
      "2021-08-19 13:45:43,900:(0.00s):geometry:sum of energies: 2598.758275228885\n",
      "2021-08-19 13:45:43,902:(0.00s):geometry:magnitude of difference in the energies: 1.2313748243286682e-07\n",
      "2021-08-19 13:45:43,903:(0.00s):geometry:Final logp_proposal: -9028.702686357048\n"
     ]
    },
    {
     "name": "stdout",
     "output_type": "stream",
     "text": [
      "added energy components: [('CustomBondForce', 0.6231737166566027), ('CustomAngleForce', 2.1618390579023568), ('CustomTorsionForce', 18.205977349832974), ('CustomBondForce', -81.13648639715531)]\n"
     ]
    },
    {
     "name": "stderr",
     "output_type": "stream",
     "text": [
      "2021-08-19 13:45:44,172:(0.27s):relative:*** Generating RestCapablePMEHybridTopologyFactory ***\n",
      "2021-08-19 13:45:46,118:(1.95s):relative:Old system forces: dict_keys(['HarmonicBondForce', 'HarmonicAngleForce', 'PeriodicTorsionForce', 'NonbondedForce', 'MonteCarloBarostat'])\n",
      "2021-08-19 13:45:46,122:(0.00s):relative:New system forces: dict_keys(['HarmonicBondForce', 'HarmonicAngleForce', 'PeriodicTorsionForce', 'NonbondedForce', 'MonteCarloBarostat'])\n",
      "2021-08-19 13:45:46,125:(0.00s):relative:No unknown forces.\n",
      "2021-08-19 13:45:46,128:(0.00s):relative:Nonbonded method to be used (i.e. from old system): 4\n",
      "2021-08-19 13:45:46,132:(0.00s):relative:Adding and mapping old atoms to hybrid system...\n",
      "2021-08-19 13:45:46,390:(0.26s):relative:Adding and mapping new atoms to hybrid system...\n",
      "2021-08-19 13:45:46,392:(0.00s):relative:Added MonteCarloBarostat.\n",
      "2021-08-19 13:45:46,395:(0.00s):relative:getDefaultPeriodicBoxVectors added to hybrid: [Quantity(value=Vec3(x=5.564, y=0.0, z=0.0), unit=nanometer), Quantity(value=Vec3(x=0.0, y=5.564, z=0.0), unit=nanometer), Quantity(value=Vec3(x=0.0, y=0.0, z=5.564), unit=nanometer)]\n",
      "2021-08-19 13:45:46,407:(0.01s):relative:Determined atom classes.\n",
      "2021-08-19 13:45:46,987:(0.58s):relative:Generating old system exceptions dict...\n",
      "2021-08-19 13:45:47,243:(0.26s):relative:Generating new system exceptions dict...\n",
      "2021-08-19 13:45:47,663:(0.42s):relative:Handling constraints...\n",
      "2021-08-19 13:45:48,413:(0.75s):relative:Handling virtual sites...\n",
      "2021-08-19 13:45:48,438:(0.02s):relative:\t_handle_virtual_sites: numVirtualSites: 0\n",
      "2021-08-19 13:46:37,600:(49.16s):proposal_generator:\tConducting polymer point mutation proposal...\n",
      "2021-08-19 13:46:38,954:(1.35s):atom_mapping:Molecules do not appear to share a common scaffold.\n",
      "2021-08-19 13:46:38,972:(0.02s):atom_mapping:Proceeding with direct mapping of molecules, but please check atom mapping and the geometry of the ligands.\n",
      "2021-08-19 13:46:38,982:(0.01s):proposal_generator:[Atom(name=CB, atomic number=6), Atom(name=CG2, atomic number=6), Atom(name=OG1, atomic number=8), Atom(name=HB, atomic number=1), Atom(name=HG1, atomic number=1), Atom(name=HG21, atomic number=1), Atom(name=HG22, atomic number=1), Atom(name=HG23, atomic number=1)]\n",
      "2021-08-19 13:46:38,993:(0.01s):proposal_generator:[Atom(name=CB, atomic number=6), Atom(name=HB1, atomic number=1), Atom(name=HB2, atomic number=1), Atom(name=HB3, atomic number=1)]\n",
      "2021-08-19 13:47:34,250:(55.26s):geometry:propose: performing forward proposal\n",
      "2021-08-19 13:47:34,255:(0.00s):geometry:propose: unique new atoms detected; proceeding to _logp_propose...\n",
      "2021-08-19 13:47:34,257:(0.00s):geometry:Conducting forward proposal...\n",
      "2021-08-19 13:47:34,259:(0.00s):geometry:Computing proposal order with NetworkX...\n",
      "2021-08-19 13:47:34,322:(0.06s):geometry:number of atoms to be placed: 4\n",
      "2021-08-19 13:47:34,339:(0.02s):geometry:Atom index proposal order is [673, 677, 678, 676]\n",
      "2021-08-19 13:47:34,340:(0.00s):geometry:omitted_bonds: []\n",
      "2021-08-19 13:47:34,341:(0.00s):geometry:direction of proposal is forward; creating atoms_with_positions and new positions from old system/topology...\n",
      "2021-08-19 13:47:43,669:(9.33s):geometry:creating growth system...\n",
      "2021-08-19 13:47:45,735:(2.07s):geometry:\tcreating bond force...\n",
      "2021-08-19 13:47:45,743:(0.01s):geometry:\tthere are 1622 bonds in reference force.\n",
      "2021-08-19 13:47:45,781:(0.04s):geometry:\tcreating angle force...\n",
      "2021-08-19 13:47:45,784:(0.00s):geometry:\tthere are 5730 angles in reference force.\n",
      "2021-08-19 13:47:45,887:(0.10s):geometry:\tcreating torsion force...\n",
      "2021-08-19 13:47:45,895:(0.01s):geometry:\tcreating extra torsions force...\n",
      "2021-08-19 13:47:45,897:(0.00s):geometry:\tthere are 10796 torsions in reference force.\n",
      "2021-08-19 13:47:46,003:(0.11s):geometry:\tcreating nonbonded force...\n",
      "2021-08-19 13:47:46,010:(0.01s):geometry:\t\tgrabbing reference nonbonded method, cutoff, switching function, switching distance...\n",
      "2021-08-19 13:47:46,012:(0.00s):geometry:\t\tcreating nonbonded exception force (i.e. custom bond for 1,4s)...\n",
      "2021-08-19 13:47:46,014:(0.00s):geometry:\t\tlooping through exceptions calculating growth indices, and adding appropriate interactions to custom bond force.\n",
      "2021-08-19 13:47:46,015:(0.00s):geometry:\t\tthere are 47417 in the reference Nonbonded force\n",
      "2021-08-19 13:47:47,995:(1.98s):geometry:\t\t\t\t\tchiral atom <Atom 670 (CA) of chain 0 residue 42 (ALA)> with neighbors [<Atom 671 (C) of chain 0 residue 42 (ALA)>, <Atom 673 (CB) of chain 0 residue 42 (ALA)>, <Atom 675 (HA) of chain 0 residue 42 (ALA)>, <Atom 669 (N) of chain 0 residue 42 (ALA)>] is surrounded by 3 core neighbors.  omitting chirality bias torsion\n",
      "2021-08-19 13:47:48,004:(0.01s):geometry:Neglected angle terms : []\n",
      "2021-08-19 13:47:48,006:(0.00s):geometry:omitted_growth_terms: {'bonds': [], 'angles': [], 'torsions': [], '1,4s': []}\n",
      "2021-08-19 13:47:48,007:(0.00s):geometry:extra torsions: {0: (674, 669, 670, 673, [1, Quantity(value=0.9799661941737812, unit=radian), Quantity(value=1200.0, unit=kilocalorie/mole), 1]), 1: (669, 670, 673, 676, [1, Quantity(value=2.105358864604291, unit=radian), Quantity(value=1200.0, unit=kilocalorie/mole), 4]), 2: (669, 670, 673, 677, [1, Quantity(value=-2.0823006129211796, unit=radian), Quantity(value=1200.0, unit=kilocalorie/mole), 2]), 3: (669, 670, 673, 678, [1, Quantity(value=0.018582237407944735, unit=radian), Quantity(value=1200.0, unit=kilocalorie/mole), 3]), 4: (671, 670, 673, 676, [1, Quantity(value=-0.036945135932107576, unit=radian), Quantity(value=1200.0, unit=kilocalorie/mole), 4]), 5: (671, 670, 673, 677, [1, Quantity(value=2.0585806937220097, unit=radian), Quantity(value=1200.0, unit=kilocalorie/mole), 2]), 6: (671, 670, 673, 678, [1, Quantity(value=-2.1237217631284597, unit=radian), Quantity(value=1200.0, unit=kilocalorie/mole), 3]), 7: (675, 670, 673, 676, [1, Quantity(value=-2.119603470065817, unit=radian), Quantity(value=1200.0, unit=kilocalorie/mole), 4]), 8: (675, 670, 673, 677, [1, Quantity(value=-0.024077640411697132, unit=radian), Quantity(value=1200.0, unit=kilocalorie/mole), 2]), 9: (675, 670, 673, 678, [1, Quantity(value=2.0768052099174152, unit=radian), Quantity(value=1200.0, unit=kilocalorie/mole), 3])}\n",
      "2021-08-19 13:47:48,009:(0.00s):geometry:neglected angle terms include []\n",
      "2021-08-19 13:47:48,011:(0.00s):geometry:log probability choice of torsions and atom order: -5.78074351579233\n",
      "2021-08-19 13:47:48,013:(0.00s):geometry:creating platform, integrators, and contexts; setting growth parameter\n"
     ]
    },
    {
     "name": "stdout",
     "output_type": "stream",
     "text": [
      "conducting subsequent work with the following platform: CUDA\n"
     ]
    },
    {
     "name": "stderr",
     "output_type": "stream",
     "text": [
      "2021-08-19 13:47:49,672:(1.66s):geometry:setting atoms_with_positions context new positions\n"
     ]
    },
    {
     "name": "stdout",
     "output_type": "stream",
     "text": [
      "conducting subsequent work with the following platform: CUDA\n"
     ]
    },
    {
     "name": "stderr",
     "output_type": "stream",
     "text": [
      "2021-08-19 13:47:51,459:(1.79s):geometry:There are 4 new atoms\n",
      "2021-08-19 13:47:51,480:(0.02s):geometry:\treduced angle potential = 0.23282112636707922.\n",
      "2021-08-19 13:47:52,261:(0.78s):geometry:\treduced angle potential = 0.0894178666927245.\n",
      "2021-08-19 13:47:53,041:(0.78s):geometry:\treduced angle potential = 0.0003990724311128953.\n",
      "2021-08-19 13:47:53,724:(0.68s):geometry:\treduced angle potential = 0.03554396233774302.\n",
      "2021-08-19 13:47:55,265:(1.54s):geometry:\tbeginning construction of no_nonbonded final system...\n",
      "2021-08-19 13:47:55,268:(0.00s):geometry:\tinitial no-nonbonded final system forces ['HarmonicBondForce', 'HarmonicAngleForce', 'PeriodicTorsionForce', 'NonbondedForce', 'MonteCarloBarostat']\n",
      "2021-08-19 13:47:57,961:(2.69s):geometry:\tfinal no-nonbonded final system forces dict_keys(['HarmonicBondForce', 'HarmonicAngleForce', 'PeriodicTorsionForce', 'NonbondedForce'])\n",
      "2021-08-19 13:47:57,967:(0.01s):geometry:\tthere are 1622 bond forces in the no-nonbonded final system\n",
      "2021-08-19 13:47:57,971:(0.00s):geometry:\tthere are 5730 angle forces in the no-nonbonded final system\n",
      "2021-08-19 13:47:57,973:(0.00s):geometry:\tthere are 10796 torsion forces in the no-nonbonded final system\n",
      "2021-08-19 13:47:57,974:(0.00s):geometry:forward final system defined with 0 neglected angles.\n"
     ]
    },
    {
     "name": "stdout",
     "output_type": "stream",
     "text": [
      "conducting subsequent work with the following platform: CUDA\n",
      "conducting subsequent work with the following platform: CUDA\n"
     ]
    },
    {
     "name": "stderr",
     "output_type": "stream",
     "text": [
      "2021-08-19 13:48:02,078:(4.10s):geometry:total reduced potential before atom placement: 5668.103368699857\n"
     ]
    },
    {
     "name": "stdout",
     "output_type": "stream",
     "text": [
      "conducting subsequent work with the following platform: CUDA\n",
      "conducting subsequent work with the following platform: CUDA\n",
      "conducting subsequent work with the following platform: CUDA\n"
     ]
    },
    {
     "name": "stderr",
     "output_type": "stream",
     "text": [
      "2021-08-19 13:48:04,473:(2.39s):geometry:total reduced energy added from growth system: 331.5324804433831\n",
      "2021-08-19 13:48:04,476:(0.00s):geometry:final reduced energy 5999.635849270582\n",
      "2021-08-19 13:48:04,478:(0.00s):geometry:sum of energies: 5999.63584914324\n",
      "2021-08-19 13:48:04,479:(0.00s):geometry:magnitude of difference in the energies: 1.2734193433061591e-07\n",
      "2021-08-19 13:48:04,481:(0.00s):geometry:Final logp_proposal: 34.95980113073773\n"
     ]
    },
    {
     "name": "stdout",
     "output_type": "stream",
     "text": [
      "added energy components: [('CustomBondForce', 0.19092684601122983), ('CustomAngleForce', 149.5296518253244), ('CustomTorsionForce', 9.693140064395832), ('CustomBondForce', 172.11876170765163)]\n"
     ]
    },
    {
     "name": "stderr",
     "output_type": "stream",
     "text": [
      "2021-08-19 13:48:04,636:(0.15s):setup:charge diff: 0\n",
      "2021-08-19 13:48:04,637:(0.00s):geometry:logp_reverse: performing reverse proposal\n",
      "2021-08-19 13:48:04,640:(0.00s):geometry:logp_reverse: unique new atoms detected; proceeding to _logp_propose...\n",
      "2021-08-19 13:48:04,641:(0.00s):geometry:Conducting forward proposal...\n",
      "2021-08-19 13:48:04,643:(0.00s):geometry:Computing proposal order with NetworkX...\n",
      "2021-08-19 13:48:04,690:(0.05s):geometry:number of atoms to be placed: 8\n",
      "2021-08-19 13:48:04,692:(0.00s):geometry:Atom index proposal order is [673, 674, 675, 680, 681, 682, 678, 679]\n",
      "2021-08-19 13:48:04,693:(0.00s):geometry:omitted_bonds: []\n",
      "2021-08-19 13:48:04,695:(0.00s):geometry:direction of proposal is reverse; creating atoms_with_positions from old system/topology\n",
      "2021-08-19 13:48:07,596:(2.90s):geometry:creating growth system...\n",
      "2021-08-19 13:48:08,622:(1.03s):geometry:\tcreating bond force...\n",
      "2021-08-19 13:48:08,624:(0.00s):geometry:\tthere are 1624 bonds in reference force.\n",
      "2021-08-19 13:48:08,640:(0.02s):geometry:\tcreating angle force...\n",
      "2021-08-19 13:48:08,642:(0.00s):geometry:\tthere are 5737 angles in reference force.\n",
      "2021-08-19 13:48:08,698:(0.06s):geometry:\tcreating torsion force...\n",
      "2021-08-19 13:48:08,699:(0.00s):geometry:\tcreating extra torsions force...\n",
      "2021-08-19 13:48:08,701:(0.00s):geometry:\tthere are 10826 torsions in reference force.\n",
      "2021-08-19 13:48:08,766:(0.07s):geometry:\tcreating nonbonded force...\n",
      "2021-08-19 13:48:08,767:(0.00s):geometry:\t\tgrabbing reference nonbonded method, cutoff, switching function, switching distance...\n",
      "2021-08-19 13:48:08,769:(0.00s):geometry:\t\tcreating nonbonded exception force (i.e. custom bond for 1,4s)...\n",
      "2021-08-19 13:48:08,770:(0.00s):geometry:\t\tlooping through exceptions calculating growth indices, and adding appropriate interactions to custom bond force.\n",
      "2021-08-19 13:48:08,771:(0.00s):geometry:\t\tthere are 47440 in the reference Nonbonded force\n",
      "2021-08-19 13:48:09,730:(0.96s):geometry:\t\t\t\t\tchiral atom <Atom 670 (CA) of chain 0 residue 42 (THR)> with neighbors [<Atom 671 (C) of chain 0 residue 42 (THR)>, <Atom 673 (CB) of chain 0 residue 42 (THR)>, <Atom 677 (HA) of chain 0 residue 42 (THR)>, <Atom 669 (N) of chain 0 residue 42 (THR)>] is surrounded by 3 core neighbors.  omitting chirality bias torsion\n",
      "2021-08-19 13:48:09,733:(0.00s):geometry:Neglected angle terms : []\n",
      "2021-08-19 13:48:09,735:(0.00s):geometry:omitted_growth_terms: {'bonds': [], 'angles': [], 'torsions': [], '1,4s': []}\n",
      "2021-08-19 13:48:09,737:(0.00s):geometry:extra torsions: {0: (676, 669, 670, 673, [1, Quantity(value=0.9900002084555819, unit=radian), Quantity(value=1200.0, unit=kilocalorie/mole), 1]), 1: (679, 674, 673, 670, [1, Quantity(value=-0.07858019216845058, unit=radian), Quantity(value=1200.0, unit=kilocalorie/mole), 8]), 2: (679, 674, 673, 675, [1, Quantity(value=2.118586571250296, unit=radian), Quantity(value=1200.0, unit=kilocalorie/mole), 8]), 3: (679, 674, 673, 678, [1, Quantity(value=-2.149781203448759, unit=radian), Quantity(value=1200.0, unit=kilocalorie/mole), 8]), 4: (670, 673, 675, 682, [1, Quantity(value=-2.1249532223845904, unit=radian), Quantity(value=1200.0, unit=kilocalorie/mole), 6]), 5: (670, 673, 675, 681, [1, Quantity(value=2.0543043017157916, unit=radian), Quantity(value=1200.0, unit=kilocalorie/mole), 5]), 6: (670, 673, 675, 680, [1, Quantity(value=-0.02223392579985184, unit=radian), Quantity(value=1200.0, unit=kilocalorie/mole), 4]), 7: (674, 673, 675, 682, [1, Quantity(value=2.0255587336734213, unit=radian), Quantity(value=1200.0, unit=kilocalorie/mole), 6]), 8: (674, 673, 675, 681, [1, Quantity(value=-0.07836904940578293, unit=radian), Quantity(value=1200.0, unit=kilocalorie/mole), 5]), 9: (674, 673, 675, 680, [1, Quantity(value=-2.154907276921426, unit=radian), Quantity(value=1200.0, unit=kilocalorie/mole), 4]), 10: (678, 673, 675, 682, [1, Quantity(value=0.007583009583349565, unit=radian), Quantity(value=1200.0, unit=kilocalorie/mole), 7]), 11: (678, 673, 675, 681, [1, Quantity(value=-2.096344773495849, unit=radian), Quantity(value=1200.0, unit=kilocalorie/mole), 7]), 12: (678, 673, 675, 680, [1, Quantity(value=2.1103023061680943, unit=radian), Quantity(value=1200.0, unit=kilocalorie/mole), 7]), 13: (674, 673, 670, 675, [1, Quantity(value=-1.0655064807976995, unit=radian), Quantity(value=1200.0, unit=kilocalorie/mole), 3])}\n",
      "2021-08-19 13:48:09,739:(0.00s):geometry:neglected angle terms include []\n",
      "2021-08-19 13:48:09,741:(0.00s):geometry:log probability choice of torsions and atom order: -13.659277711932692\n",
      "2021-08-19 13:48:09,743:(0.00s):geometry:creating platform, integrators, and contexts; setting growth parameter\n"
     ]
    },
    {
     "name": "stdout",
     "output_type": "stream",
     "text": [
      "conducting subsequent work with the following platform: CUDA\n"
     ]
    },
    {
     "name": "stderr",
     "output_type": "stream",
     "text": [
      "2021-08-19 13:48:10,645:(0.90s):geometry:setting atoms_with_positions context old positions\n"
     ]
    },
    {
     "name": "stdout",
     "output_type": "stream",
     "text": [
      "conducting subsequent work with the following platform: CUDA\n"
     ]
    },
    {
     "name": "stderr",
     "output_type": "stream",
     "text": [
      "2021-08-19 13:48:11,529:(0.88s):geometry:There are 8 new atoms\n",
      "2021-08-19 13:48:11,535:(0.01s):geometry:\treduced angle potential = 0.29646117111457154.\n",
      "2021-08-19 13:48:11,866:(0.33s):geometry:\treduced angle potential = 1.171786723544314.\n",
      "2021-08-19 13:48:12,210:(0.34s):geometry:\treduced angle potential = 0.15088552138282585.\n",
      "2021-08-19 13:48:12,543:(0.33s):geometry:\treduced angle potential = 6.103681872621702e-06.\n",
      "2021-08-19 13:48:12,882:(0.34s):geometry:\treduced angle potential = 2.0226598106735676e-06.\n",
      "2021-08-19 13:48:13,208:(0.33s):geometry:\treduced angle potential = 8.429836390053187e-06.\n",
      "2021-08-19 13:48:13,543:(0.34s):geometry:\treduced angle potential = 0.0009835018195185007.\n",
      "2021-08-19 13:48:13,872:(0.33s):geometry:\treduced angle potential = 0.0037318575268475676.\n",
      "2021-08-19 13:48:14,984:(1.11s):geometry:\tbeginning construction of no_nonbonded final system...\n",
      "2021-08-19 13:48:14,988:(0.00s):geometry:\tinitial no-nonbonded final system forces ['HarmonicBondForce', 'HarmonicAngleForce', 'PeriodicTorsionForce', 'NonbondedForce', 'MonteCarloBarostat']\n",
      "2021-08-19 13:48:17,040:(2.05s):geometry:\tfinal no-nonbonded final system forces dict_keys(['HarmonicBondForce', 'HarmonicAngleForce', 'PeriodicTorsionForce', 'NonbondedForce'])\n",
      "2021-08-19 13:48:17,043:(0.00s):geometry:\tthere are 1624 bond forces in the no-nonbonded final system\n",
      "2021-08-19 13:48:17,046:(0.00s):geometry:\tthere are 5737 angle forces in the no-nonbonded final system\n",
      "2021-08-19 13:48:17,048:(0.00s):geometry:\tthere are 10826 torsion forces in the no-nonbonded final system\n",
      "2021-08-19 13:48:17,050:(0.00s):geometry:reverse final system defined with 0 neglected angles.\n"
     ]
    },
    {
     "name": "stdout",
     "output_type": "stream",
     "text": [
      "conducting subsequent work with the following platform: CUDA\n",
      "conducting subsequent work with the following platform: CUDA\n"
     ]
    },
    {
     "name": "stderr",
     "output_type": "stream",
     "text": [
      "2021-08-19 13:48:19,816:(2.77s):geometry:total reduced potential before atom placement: 5668.103368699857\n"
     ]
    },
    {
     "name": "stdout",
     "output_type": "stream",
     "text": [
      "conducting subsequent work with the following platform: CUDA\n",
      "conducting subsequent work with the following platform: CUDA\n",
      "conducting subsequent work with the following platform: CUDA\n"
     ]
    },
    {
     "name": "stderr",
     "output_type": "stream",
     "text": [
      "2021-08-19 13:48:21,634:(1.82s):geometry:total reduced energy added from growth system: -60.14549627276338\n",
      "2021-08-19 13:48:21,638:(0.00s):geometry:final reduced energy 5607.957872303956\n",
      "2021-08-19 13:48:21,639:(0.00s):geometry:sum of energies: 5607.957872427094\n",
      "2021-08-19 13:48:21,641:(0.00s):geometry:magnitude of difference in the energies: 1.231379371802177e-07\n",
      "2021-08-19 13:48:21,643:(0.00s):geometry:Final logp_proposal: -9001.549465314636\n"
     ]
    },
    {
     "name": "stdout",
     "output_type": "stream",
     "text": [
      "added energy components: [('CustomBondForce', 0.6231737166566027), ('CustomAngleForce', 2.1618390579023568), ('CustomTorsionForce', 18.205977349832974), ('CustomBondForce', -81.13648639715531)]\n"
     ]
    },
    {
     "name": "stderr",
     "output_type": "stream",
     "text": [
      "2021-08-19 13:48:21,798:(0.16s):relative:*** Generating RestCapablePMEHybridTopologyFactory ***\n",
      "2021-08-19 13:48:23,147:(1.35s):relative:Old system forces: dict_keys(['HarmonicBondForce', 'HarmonicAngleForce', 'PeriodicTorsionForce', 'NonbondedForce', 'MonteCarloBarostat'])\n",
      "2021-08-19 13:48:23,151:(0.00s):relative:New system forces: dict_keys(['HarmonicBondForce', 'HarmonicAngleForce', 'PeriodicTorsionForce', 'NonbondedForce', 'MonteCarloBarostat'])\n",
      "2021-08-19 13:48:23,154:(0.00s):relative:No unknown forces.\n",
      "2021-08-19 13:48:23,157:(0.00s):relative:Nonbonded method to be used (i.e. from old system): 4\n",
      "2021-08-19 13:48:23,160:(0.00s):relative:Adding and mapping old atoms to hybrid system...\n",
      "2021-08-19 13:48:23,404:(0.24s):relative:Adding and mapping new atoms to hybrid system...\n",
      "2021-08-19 13:48:23,406:(0.00s):relative:Added MonteCarloBarostat.\n",
      "2021-08-19 13:48:23,407:(0.00s):relative:getDefaultPeriodicBoxVectors added to hybrid: [Quantity(value=Vec3(x=7.062600000000001, y=0.0, z=0.0), unit=nanometer), Quantity(value=Vec3(x=0.0, y=7.062600000000001, z=0.0), unit=nanometer), Quantity(value=Vec3(x=0.0, y=0.0, z=7.062600000000001), unit=nanometer)]\n",
      "2021-08-19 13:48:23,426:(0.02s):relative:Determined atom classes.\n",
      "2021-08-19 13:48:26,360:(2.93s):relative:Generating old system exceptions dict...\n",
      "2021-08-19 13:48:26,675:(0.31s):relative:Generating new system exceptions dict...\n",
      "2021-08-19 13:48:27,111:(0.44s):relative:Handling constraints...\n",
      "2021-08-19 13:48:27,884:(0.77s):relative:Handling virtual sites...\n",
      "2021-08-19 13:48:27,910:(0.03s):relative:\t_handle_virtual_sites: numVirtualSites: 0\n"
     ]
    }
   ],
   "source": [
    "solvent_delivery = PointMutationExecutor2(\"../../input/1brs_barstar_renumbered.pdb\",\n",
    "                        '1',\n",
    "                        \"42\",\n",
    "                        \"ALA\",\n",
    "                        ligand_input=\"../../input/1brs_barnase_renumbered.pdb\",\n",
    "                        ionic_strength=0.05*unit.molar,\n",
    "                        flatten_torsions=True,\n",
    "                        flatten_exceptions=True, \n",
    "                        conduct_endstate_validation=False,\n",
    "                        generate_unmodified_hybrid_topology_factory=False,\n",
    "                        generate_rest_capable_hybrid_topology_factory=False,\n",
    "                        generate_rest_capable_pme_hybrid_topology_factory=True,\n",
    "                        rest_region=rest_region\n",
    "                       )"
   ]
  },
  {
   "cell_type": "code",
   "execution_count": 31,
   "id": "067341af",
   "metadata": {},
   "outputs": [],
   "source": [
    "pickle.dump(solvent_delivery.get_apo_htf(), open(\"T42A_apo_scale_region.pickle\", \"wb\" ))\n",
    "pickle.dump(solvent_delivery.get_complex_htf(), open(\"T42A_complex_scale_region.pickle\", \"wb\" ))\n"
   ]
  },
  {
   "cell_type": "markdown",
   "id": "67e841f9",
   "metadata": {},
   "source": [
    "#### Old system HarmonicBondForce vs hybrid system CustomBondForce"
   ]
  },
  {
   "cell_type": "code",
   "execution_count": 32,
   "id": "94ae22f8",
   "metadata": {},
   "outputs": [],
   "source": [
    "# Load htf\n",
    "with open(\"T42A_complex_scale_region.pickle\", \"rb\") as f:\n",
    "    htf = pickle.load(f)"
   ]
  },
  {
   "cell_type": "code",
   "execution_count": 33,
   "id": "ed2cba6b",
   "metadata": {},
   "outputs": [
    {
     "name": "stdout",
     "output_type": "stream",
     "text": [
      "Warning: Returning CPU platform instead of requested platform <openmm.openmm.Platform; proxy of <Swig Object of type 'OpenMM::Platform *' at 0x2b697acd5f30> >\n",
      "conducting subsequent work with the following platform: CPU\n",
      "conducting subsequent work with the following platform: CUDA\n",
      "[('HarmonicBondForce', 569.5926176486894), ('HarmonicAngleForce', 1323.9862513751366), ('PeriodicTorsionForce', 3795.5154898495653), ('NonbondedForce', 57389164.06569195), ('AndersenThermostat', 0.0), ('MonteCarloBarostat', 0.0)]\n",
      "conducting subsequent work with the following platform: CUDA\n",
      "[('CustomBondForce', 569.5926176486894), ('AndersenThermostat', 0.0), ('MonteCarloBarostat', 0.0)]\n",
      "Success! Custom bond force and standard bond force energies are equal!\n",
      "conducting subsequent work with the following platform: CUDA\n",
      "[('CustomBondForce', 569.5926176486894), ('AndersenThermostat', 0.0), ('MonteCarloBarostat', 0.0)]\n",
      "conducting subsequent work with the following platform: CUDA\n",
      "[('CustomBondForce', 569.1975119857644), ('AndersenThermostat', 0.0), ('MonteCarloBarostat', 0.0)]\n",
      "Success! Scaling the bond force changes the energy\n"
     ]
    }
   ],
   "source": [
    "test_bond_energies(htf, is_solvated=True, check_scale=True)"
   ]
  },
  {
   "cell_type": "markdown",
   "id": "07c2e2f1",
   "metadata": {},
   "source": [
    "#### New system HarmonicBondForce vs hybrid system CustomBondForce"
   ]
  },
  {
   "cell_type": "code",
   "execution_count": 34,
   "id": "5fecc64d",
   "metadata": {},
   "outputs": [],
   "source": [
    "# Load htf\n",
    "with open(\"T42A_complex_scale_region.pickle\", \"rb\") as f:\n",
    "    htf = pickle.load(f)"
   ]
  },
  {
   "cell_type": "code",
   "execution_count": 35,
   "id": "b64594f0",
   "metadata": {
    "scrolled": true
   },
   "outputs": [
    {
     "name": "stdout",
     "output_type": "stream",
     "text": [
      "Warning: Returning CPU platform instead of requested platform <openmm.openmm.Platform; proxy of <Swig Object of type 'OpenMM::Platform *' at 0x2b697acd5f30> >\n",
      "conducting subsequent work with the following platform: CPU\n",
      "conducting subsequent work with the following platform: CUDA\n",
      "[('HarmonicBondForce', 569.160370778044), ('HarmonicAngleForce', 1471.3540641425589), ('PeriodicTorsionForce', 3787.0026523129745), ('NonbondedForce', 57389418.255840376), ('AndersenThermostat', 0.0), ('MonteCarloBarostat', 0.0)]\n",
      "conducting subsequent work with the following platform: CUDA\n",
      "[('CustomBondForce', 569.160370778044), ('AndersenThermostat', 0.0), ('MonteCarloBarostat', 0.0)]\n",
      "Success! Custom bond force and standard bond force energies are equal!\n"
     ]
    }
   ],
   "source": [
    "test_bond_energies(htf, is_old=False, is_solvated=True)"
   ]
  },
  {
   "cell_type": "code",
   "execution_count": null,
   "id": "7ba99c4b",
   "metadata": {},
   "outputs": [],
   "source": [
    "# TO DO: actually test the scaling of the energies matches"
   ]
  },
  {
   "cell_type": "code",
   "execution_count": null,
   "id": "0977df4d",
   "metadata": {},
   "outputs": [],
   "source": []
  }
 ],
 "metadata": {
  "kernelspec": {
   "display_name": "Python 3 (ipykernel)",
   "language": "python",
   "name": "python3"
  },
  "language_info": {
   "codemirror_mode": {
    "name": "ipython",
    "version": 3
   },
   "file_extension": ".py",
   "mimetype": "text/x-python",
   "name": "python",
   "nbconvert_exporter": "python",
   "pygments_lexer": "ipython3",
   "version": "3.8.11"
  }
 },
 "nbformat": 4,
 "nbformat_minor": 5
}
