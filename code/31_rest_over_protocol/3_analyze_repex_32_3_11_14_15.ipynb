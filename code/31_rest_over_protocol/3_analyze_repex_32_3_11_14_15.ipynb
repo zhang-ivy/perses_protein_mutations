{
 "cells": [
  {
   "cell_type": "code",
   "execution_count": 2,
   "metadata": {},
   "outputs": [
    {
     "name": "stderr",
     "output_type": "stream",
     "text": [
      "Warning: importing 'simtk.openmm' is deprecated.  Import 'openmm' instead.\n"
     ]
    }
   ],
   "source": [
    "from perses.analysis import utils\n",
    "from openmmtools.multistate import MultiStateReporter, MultiStateSamplerAnalyzer\n",
    "from simtk import unit\n",
    "import os\n",
    "import itertools\n",
    "from tqdm import tqdm_notebook\n",
    "import pandas as pd\n",
    "import numpy as np\n",
    "import seaborn as sns\n",
    "import matplotlib.pyplot as plt\n",
    "import logging\n",
    "from perses.analysis import utils\n",
    "\n",
    "from openmmtools.constants import kB\n",
    "KT_KCALMOL = kB * 300 * unit.kelvin / unit.kilocalories_per_mole\n",
    "\n",
    "import warnings\n",
    "warnings.filterwarnings('ignore')"
   ]
  },
  {
   "cell_type": "code",
   "execution_count": 3,
   "metadata": {},
   "outputs": [],
   "source": [
    "class MultiStateReporter2(MultiStateReporter):\n",
    "    def read_energies(self, iteration=slice(None)):\n",
    "        \"\"\"Retrieve the energy matrix at the given iteration on the analysis file\n",
    "        Parameters\n",
    "        ----------\n",
    "        iteration : int or slice\n",
    "            The iteration(s) at which to read the data. The slice(None) allows fetching all iterations at once.\n",
    "        Returns\n",
    "        -------\n",
    "        energy_thermodynamic_states : n_replicas x n_states numpy.ndarray\n",
    "            ``energy_thermodynamic_states[iteration, i, j]`` is the reduced potential computed at\n",
    "            SamplerState ``sampler_states[iteration, i]`` and ThermodynamicState ``thermodynamic_states[iteration, j]``.\n",
    "        energy_neighborhoods : n_replicas x n_states numpy.ndarray\n",
    "            energy_neighborhoods[replica_index, state_index] is 1 if the energy was computed for this state,\n",
    "            0 otherwise\n",
    "        energy_unsampled_states : n_replicas x n_unsampled_states numpy.ndarray\n",
    "            ``energy_unsampled_states[iteration, i, j]`` is the reduced potential computed at SamplerState\n",
    "            ``sampler_states[iteration, i]`` and ThermodynamicState ``unsampled_thermodynamic_states[iteration, j]``.\n",
    "        \"\"\"\n",
    "        # Determine last consistent iteration\n",
    "        iteration = self._map_iteration_to_good(iteration)\n",
    "        # Retrieve energies at all thermodynamic states\n",
    "        energy_thermodynamic_states = np.array(self._storage_analysis.variables['energies'][iteration, :, :], np.float64)\n",
    "        # Retrieve neighborhoods, assuming global neighborhoods if reading a pre-neighborhoods file\n",
    "        try:\n",
    "            energy_neighborhoods = np.array(self._storage_analysis.variables['neighborhoods'][iteration, :, :], 'i1')\n",
    "        except KeyError:\n",
    "            energy_neighborhoods = np.ones(energy_thermodynamic_states.shape, 'i1')\n",
    "        # Read energies at unsampled states, if present\n",
    "#         try:\n",
    "#             energy_unsampled_states = np.array(self._storage_analysis.variables['unsampled_energies'][iteration, :, :], np.float64)\n",
    "#         except KeyError:\n",
    "#             # There are no unsampled thermodynamic states.\n",
    "        unsampled_shape = energy_thermodynamic_states.shape[:-1] + (0,)\n",
    "        energy_unsampled_states = np.zeros(unsampled_shape)\n",
    "        return energy_thermodynamic_states, energy_neighborhoods, energy_unsampled_states\n"
   ]
  },
  {
   "cell_type": "code",
   "execution_count": 4,
   "metadata": {},
   "outputs": [],
   "source": [
    "# Given a path, get dg and ddg\n",
    "def analyze(path):\n",
    "    reporter = MultiStateReporter(path)\n",
    "    analyzer = MultiStateSamplerAnalyzer(reporter)\n",
    "    f_ij, df_ij = analyzer.get_free_energy()\n",
    "    f = f_ij[0,-1] # units = kT\n",
    "#     f = f_ij[0,-1] * analyzer.kT\n",
    "#     dg = f.in_units_of(unit.kilocalories_per_mole)\n",
    "    df = df_ij[0, -1]\n",
    "#     df = df_ij[0, -1] * analyzer.kT\n",
    "#     ddg = df.in_units_of(unit.kilocalories_per_mole)\n",
    "    return f, df\n",
    "\n",
    "def analyze_dom(path):\n",
    "    reporter = MultiStateReporter2(path)\n",
    "    ncfile = utils.open_netcdf(path)\n",
    "    n_iterations = ncfile.variables['last_iteration'][0]\n",
    "    print(f\"n_iterations: {n_iterations}\")\n",
    "    dg, ddg = list(), list()\n",
    "#     iterations_to_analyze = list(range (1, n_iterations, 500)) + [int(n_iterations-1)]\n",
    "    iterations_to_analyze = range(1, n_iterations, 100)\n",
    "    print(list(iterations_to_analyze)) # check that this is giving me the last avail iteration\n",
    "    for step in iterations_to_analyze: \n",
    "        analyzer = MultiStateSamplerAnalyzer(reporter, max_n_iterations=step)\n",
    "        f_ij, df_ij = analyzer.get_free_energy()\n",
    "        dg.append(f_ij[0,-1])\n",
    "        ddg.append(df_ij[0,-1])\n",
    "    # Get final free energy\n",
    "    analyzer = MultiStateSamplerAnalyzer(reporter, max_n_iterations=n_iterations)\n",
    "    f_ij, df_ij = analyzer.get_free_energy()\n",
    "    print(\"Neff: \", analyzer.mbar.computeEffectiveSampleNumber())\n",
    "    dg.append(f_ij[0,-1])\n",
    "    ddg.append(df_ij[0,-1])\n",
    "    return np.array(dg), np.array(ddg), f_ij, df_ij"
   ]
  },
  {
   "cell_type": "markdown",
   "metadata": {},
   "source": [
    "### 1 ns ala -> thr dipeptide in solvent (repex/32/3/11)"
   ]
  },
  {
   "cell_type": "code",
   "execution_count": 5,
   "metadata": {},
   "outputs": [],
   "source": [
    "_logger = logging.getLogger()\n",
    "_logger.setLevel(logging.INFO)"
   ]
  },
  {
   "cell_type": "code",
   "execution_count": 6,
   "metadata": {},
   "outputs": [],
   "source": [
    "main_dir = 32\n",
    "sub_dir = 3\n",
    "chunk = 11\n",
    "titles = ['ALA->THR']"
   ]
  },
  {
   "cell_type": "code",
   "execution_count": 7,
   "metadata": {
    "scrolled": true
   },
   "outputs": [
    {
     "name": "stderr",
     "output_type": "stream",
     "text": [
      "Warning: The openmmtools.multistate API is experimental and may change in future releases\n",
      "Warning: The openmmtools.multistate API is experimental and may change in future releases\n"
     ]
    },
    {
     "name": "stdout",
     "output_type": "stream",
     "text": [
      "analyzing apo\n",
      "n_iterations: 1000\n",
      "[1, 101, 201, 301, 401, 501, 601, 701, 801, 901]\n"
     ]
    },
    {
     "name": "stderr",
     "output_type": "stream",
     "text": [
      "DEBUG:openmmtools.multistate.multistateanalyzer:Isolating restraint force...\n",
      "DEBUG:openmmtools.multistate.multistateanalyzer:No force of type <class 'openmmtools.forces.RadiallySymmetricRestraintForce'> could be found. The restraint will not be unbiased.\n",
      "DEBUG:openmmtools.multistate.multistateanalyzer:Reading energies...\n",
      "DEBUG:openmmtools.multistate.multistatereporter:read_replica_thermodynamic_states: iteration = [   0    1    2 ...  998  999 1000]\n",
      "DEBUG:openmmtools.multistate.multistateanalyzer:Done.\n",
      "DEBUG:openmmtools.multistate.multistateanalyzer:Assembling effective timeseries...\n",
      "DEBUG:openmmtools.multistate.multistateanalyzer:Done.\n",
      "DEBUG:openmmtools.multistate.multistateanalyzer:Could not find t0: None of the requested keys could be found on disk!\n",
      "DEBUG:openmmtools.multistate.multistateanalyzer:Equilibration data:\n",
      "DEBUG:openmmtools.multistate.multistateanalyzer: number of iterations discarded to equilibration : 1\n",
      "DEBUG:openmmtools.multistate.multistateanalyzer: statistical inefficiency of production region   : 1\n",
      "DEBUG:openmmtools.multistate.multistateanalyzer: effective number of uncorrelated samples        : 1\n",
      "DEBUG:openmmtools.multistate.multistateanalyzer:Assembling uncorrelated energies...\n",
      "DEBUG:openmmtools.multistate.multistateanalyzer:Done.\n",
      "DEBUG:openmmtools.multistate.multistateanalyzer:Computing free energy differences...\n",
      "DEBUG:openmmtools.multistate.multistateanalyzer:Done.\n",
      "DEBUG:openmmtools.multistate.multistateanalyzer:Computing covariance matrix...\n",
      "DEBUG:openmmtools.multistate.multistateanalyzer:Deltaf_ij:\n",
      "DEBUG:openmmtools.multistate.multistateanalyzer:   0.000   0.000   1.699   2.841   2.626   0.947  -2.203  -6.856 -13.068 -20.941 -30.515 -41.681\n",
      "DEBUG:openmmtools.multistate.multistateanalyzer:   0.000   0.000   1.699   2.841   2.626   0.947  -2.203  -6.856 -13.068 -20.941 -30.515 -41.681\n",
      "DEBUG:openmmtools.multistate.multistateanalyzer:  -1.699  -1.699   0.000   1.141   0.926  -0.753  -3.903  -8.555 -14.768 -22.640 -32.215 -43.380\n",
      "DEBUG:openmmtools.multistate.multistateanalyzer:  -2.841  -2.841  -1.141   0.000  -0.215  -1.894  -5.044  -9.696 -15.909 -23.781 -33.356 -44.522\n",
      "DEBUG:openmmtools.multistate.multistateanalyzer:  -2.626  -2.626  -0.926   0.215   0.000  -1.679  -4.829  -9.481 -15.694 -23.566 -33.141 -44.307\n",
      "DEBUG:openmmtools.multistate.multistateanalyzer:  -0.947  -0.947   0.753   1.894   1.679   0.000  -3.150  -7.802 -14.015 -21.887 -31.462 -42.627\n",
      "DEBUG:openmmtools.multistate.multistateanalyzer:   2.203   2.203   3.903   5.044   4.829   3.150   0.000  -4.652 -10.865 -18.737 -28.312 -39.478\n",
      "DEBUG:openmmtools.multistate.multistateanalyzer:   6.856   6.856   8.555   9.696   9.481   7.802   4.652   0.000  -6.213 -14.085 -23.660 -34.825\n",
      "DEBUG:openmmtools.multistate.multistateanalyzer:  13.068  13.068  14.768  15.909  15.694  14.015  10.865   6.213   0.000  -7.872 -17.447 -28.612\n",
      "DEBUG:openmmtools.multistate.multistateanalyzer:  20.941  20.941  22.640  23.781  23.566  21.887  18.737  14.085   7.872   0.000  -9.575 -20.740\n",
      "DEBUG:openmmtools.multistate.multistateanalyzer:  30.515  30.515  32.215  33.356  33.141  31.462  28.312  23.660  17.447   9.575   0.000 -11.166\n",
      "DEBUG:openmmtools.multistate.multistateanalyzer:  41.681  41.681  43.380  44.522  44.307  42.627  39.478  34.825  28.612  20.740  11.166   0.000\n",
      "DEBUG:openmmtools.multistate.multistateanalyzer:dDeltaf_ij:\n",
      "DEBUG:openmmtools.multistate.multistateanalyzer:   0.000   0.000   0.118   0.265   0.445   0.595   0.740   0.877   0.997   1.146   1.297   1.396\n",
      "DEBUG:openmmtools.multistate.multistateanalyzer:   0.000   0.000   0.118   0.265   0.445   0.595   0.740   0.877   0.997   1.146   1.297   1.396\n",
      "DEBUG:openmmtools.multistate.multistateanalyzer:   0.118   0.118   0.000   0.161   0.352   0.511   0.668   0.815   0.941   1.098   1.255   1.356\n",
      "DEBUG:openmmtools.multistate.multistateanalyzer:   0.265   0.265   0.161   0.000   0.196   0.369   0.549   0.713   0.851   1.020   1.188   1.295\n",
      "DEBUG:openmmtools.multistate.multistateanalyzer:   0.445   0.445   0.352   0.196   0.000   0.191   0.395   0.578   0.732   0.922   1.104   1.219\n",
      "DEBUG:openmmtools.multistate.multistateanalyzer:   0.595   0.595   0.511   0.369   0.191   0.000   0.214   0.409   0.584   0.802   1.005   1.130\n",
      "DEBUG:openmmtools.multistate.multistateanalyzer:   0.740   0.740   0.668   0.549   0.395   0.214   0.000   0.203   0.407   0.664   0.893   1.029\n",
      "DEBUG:openmmtools.multistate.multistateanalyzer:   0.877   0.877   0.815   0.713   0.578   0.409   0.203   0.000   0.227   0.515   0.763   0.911\n",
      "DEBUG:openmmtools.multistate.multistateanalyzer:   0.997   0.997   0.941   0.851   0.732   0.584   0.407   0.227   0.000   0.300   0.559   0.718\n",
      "DEBUG:openmmtools.multistate.multistateanalyzer:   1.146   1.146   1.098   1.020   0.922   0.802   0.664   0.515   0.300   0.000   0.266   0.439\n",
      "DEBUG:openmmtools.multistate.multistateanalyzer:   1.297   1.297   1.255   1.188   1.104   1.005   0.893   0.763   0.559   0.266   0.000   0.183\n",
      "DEBUG:openmmtools.multistate.multistateanalyzer:   1.396   1.396   1.356   1.295   1.219   1.130   1.029   0.911   0.718   0.439   0.183   0.000\n",
      "WARNING:openmmtools.multistate.multistateanalyzer:Warning: The openmmtools.multistate API is experimental and may change in future releases\n",
      "DEBUG:openmmtools.multistate.multistateanalyzer:Checking if we need to unbias the restraint...\n",
      "DEBUG:openmmtools.multistate.multistateanalyzer:Trying to get radially symmetric restraint data...\n",
      "DEBUG:openmmtools.multistate.multistateanalyzer:Retrieving end thermodynamic states...\n",
      "DEBUG:openmmtools.multistate.multistateanalyzer:Isolating restraint force...\n",
      "DEBUG:openmmtools.multistate.multistateanalyzer:No force of type <class 'openmmtools.forces.RadiallySymmetricRestraintForce'> could be found. The restraint will not be unbiased.\n",
      "DEBUG:openmmtools.multistate.multistateanalyzer:Reading energies...\n",
      "DEBUG:openmmtools.multistate.multistatereporter:read_replica_thermodynamic_states: iteration = [   0    1    2 ...  998  999 1000]\n",
      "DEBUG:openmmtools.multistate.multistateanalyzer:Done.\n",
      "DEBUG:openmmtools.multistate.multistateanalyzer:Assembling effective timeseries...\n",
      "DEBUG:openmmtools.multistate.multistateanalyzer:Done.\n",
      "DEBUG:openmmtools.multistate.multistateanalyzer:Could not find t0: None of the requested keys could be found on disk!\n",
      "DEBUG:openmmtools.multistate.multistateanalyzer:Equilibration data:\n",
      "DEBUG:openmmtools.multistate.multistateanalyzer: number of iterations discarded to equilibration : 4\n",
      "DEBUG:openmmtools.multistate.multistateanalyzer: statistical inefficiency of production region   : 2.8015072345733643\n",
      "DEBUG:openmmtools.multistate.multistateanalyzer: effective number of uncorrelated samples        : 35.33811950683594\n",
      "DEBUG:openmmtools.multistate.multistateanalyzer:Assembling uncorrelated energies...\n",
      "DEBUG:openmmtools.multistate.multistateanalyzer:Done.\n",
      "DEBUG:openmmtools.multistate.multistateanalyzer:Computing free energy differences...\n",
      "DEBUG:openmmtools.multistate.multistateanalyzer:Done.\n",
      "DEBUG:openmmtools.multistate.multistateanalyzer:Computing covariance matrix...\n",
      "DEBUG:openmmtools.multistate.multistateanalyzer:Deltaf_ij:\n",
      "DEBUG:openmmtools.multistate.multistateanalyzer:   0.000   0.000   1.537   2.978   3.252   2.106  -0.584  -4.902 -10.944 -18.845 -28.670 -40.384\n",
      "DEBUG:openmmtools.multistate.multistateanalyzer:   0.000   0.000   1.537   2.978   3.252   2.106  -0.584  -4.902 -10.944 -18.845 -28.670 -40.384\n",
      "DEBUG:openmmtools.multistate.multistateanalyzer:  -1.537  -1.537   0.000   1.442   1.715   0.569  -2.121  -6.439 -12.480 -20.382 -30.207 -41.920\n",
      "DEBUG:openmmtools.multistate.multistateanalyzer:  -2.978  -2.978  -1.442   0.000   0.273  -0.873  -3.563  -7.880 -13.922 -21.823 -31.649 -43.362\n",
      "DEBUG:openmmtools.multistate.multistateanalyzer:  -3.252  -3.252  -1.715  -0.273   0.000  -1.146  -3.836  -8.154 -14.195 -22.097 -31.922 -43.635\n",
      "DEBUG:openmmtools.multistate.multistateanalyzer:  -2.106  -2.106  -0.569   0.873   1.146   0.000  -2.690  -7.008 -13.049 -20.951 -30.776 -42.490\n",
      "DEBUG:openmmtools.multistate.multistateanalyzer:   0.584   0.584   2.121   3.563   3.836   2.690   0.000  -4.317 -10.359 -18.261 -28.086 -39.799\n",
      "DEBUG:openmmtools.multistate.multistateanalyzer:   4.902   4.902   6.439   7.880   8.154   7.008   4.317   0.000  -6.042 -13.943 -23.769 -35.482\n"
     ]
    },
    {
     "name": "stderr",
     "output_type": "stream",
     "text": [
      "DEBUG:openmmtools.multistate.multistateanalyzer:  10.944  10.944  12.480  13.922  14.195  13.049  10.359   6.042   0.000  -7.901 -17.727 -29.440\n",
      "DEBUG:openmmtools.multistate.multistateanalyzer:  18.845  18.845  20.382  21.823  22.097  20.951  18.261  13.943   7.901   0.000  -9.825 -21.539\n",
      "DEBUG:openmmtools.multistate.multistateanalyzer:  28.670  28.670  30.207  31.649  31.922  30.776  28.086  23.769  17.727   9.825   0.000 -11.713\n",
      "DEBUG:openmmtools.multistate.multistateanalyzer:  40.384  40.384  41.920  43.362  43.635  42.490  39.799  35.482  29.440  21.539  11.713   0.000\n",
      "DEBUG:openmmtools.multistate.multistateanalyzer:dDeltaf_ij:\n",
      "DEBUG:openmmtools.multistate.multistateanalyzer:   0.000   0.000   0.071   0.118   0.165   0.209   0.247   0.277   0.304   0.330   0.353   0.375\n",
      "DEBUG:openmmtools.multistate.multistateanalyzer:   0.000   0.000   0.071   0.118   0.165   0.209   0.247   0.277   0.304   0.330   0.353   0.375\n",
      "DEBUG:openmmtools.multistate.multistateanalyzer:   0.071   0.071   0.000   0.059   0.122   0.175   0.219   0.253   0.282   0.310   0.334   0.357\n",
      "DEBUG:openmmtools.multistate.multistateanalyzer:   0.118   0.118   0.059   0.000   0.072   0.136   0.188   0.226   0.259   0.289   0.315   0.339\n",
      "DEBUG:openmmtools.multistate.multistateanalyzer:   0.165   0.165   0.122   0.072   0.000   0.076   0.141   0.187   0.226   0.260   0.287   0.314\n",
      "DEBUG:openmmtools.multistate.multistateanalyzer:   0.209   0.209   0.175   0.136   0.076   0.000   0.075   0.133   0.182   0.222   0.254   0.284\n",
      "DEBUG:openmmtools.multistate.multistateanalyzer:   0.247   0.247   0.219   0.188   0.141   0.075   0.000   0.068   0.130   0.180   0.218   0.253\n",
      "DEBUG:openmmtools.multistate.multistateanalyzer:   0.277   0.277   0.253   0.226   0.187   0.133   0.068   0.000   0.070   0.130   0.177   0.217\n",
      "DEBUG:openmmtools.multistate.multistateanalyzer:   0.304   0.304   0.282   0.259   0.226   0.182   0.130   0.070   0.000   0.067   0.124   0.175\n",
      "DEBUG:openmmtools.multistate.multistateanalyzer:   0.330   0.330   0.310   0.289   0.260   0.222   0.180   0.130   0.067   0.000   0.065   0.126\n",
      "DEBUG:openmmtools.multistate.multistateanalyzer:   0.353   0.353   0.334   0.315   0.287   0.254   0.218   0.177   0.124   0.065   0.000   0.069\n",
      "DEBUG:openmmtools.multistate.multistateanalyzer:   0.375   0.375   0.357   0.339   0.314   0.284   0.253   0.217   0.175   0.126   0.069   0.000\n",
      "WARNING:openmmtools.multistate.multistateanalyzer:Warning: The openmmtools.multistate API is experimental and may change in future releases\n",
      "DEBUG:openmmtools.multistate.multistateanalyzer:Checking if we need to unbias the restraint...\n",
      "DEBUG:openmmtools.multistate.multistateanalyzer:Trying to get radially symmetric restraint data...\n",
      "DEBUG:openmmtools.multistate.multistateanalyzer:Retrieving end thermodynamic states...\n",
      "DEBUG:openmmtools.multistate.multistateanalyzer:Isolating restraint force...\n",
      "DEBUG:openmmtools.multistate.multistateanalyzer:No force of type <class 'openmmtools.forces.RadiallySymmetricRestraintForce'> could be found. The restraint will not be unbiased.\n",
      "DEBUG:openmmtools.multistate.multistateanalyzer:Reading energies...\n",
      "DEBUG:openmmtools.multistate.multistatereporter:read_replica_thermodynamic_states: iteration = [   0    1    2 ...  998  999 1000]\n",
      "DEBUG:openmmtools.multistate.multistateanalyzer:Done.\n",
      "DEBUG:openmmtools.multistate.multistateanalyzer:Assembling effective timeseries...\n",
      "DEBUG:openmmtools.multistate.multistateanalyzer:Done.\n",
      "DEBUG:openmmtools.multistate.multistateanalyzer:Could not find t0: None of the requested keys could be found on disk!\n",
      "DEBUG:openmmtools.multistate.multistateanalyzer:Equilibration data:\n",
      "DEBUG:openmmtools.multistate.multistateanalyzer: number of iterations discarded to equilibration : 3\n",
      "DEBUG:openmmtools.multistate.multistateanalyzer: statistical inefficiency of production region   : 3.270268440246582\n",
      "DEBUG:openmmtools.multistate.multistateanalyzer: effective number of uncorrelated samples        : 61.15705871582031\n",
      "DEBUG:openmmtools.multistate.multistateanalyzer:Assembling uncorrelated energies...\n",
      "DEBUG:openmmtools.multistate.multistateanalyzer:Done.\n",
      "DEBUG:openmmtools.multistate.multistateanalyzer:Computing free energy differences...\n",
      "DEBUG:openmmtools.multistate.multistateanalyzer:Done.\n",
      "DEBUG:openmmtools.multistate.multistateanalyzer:Computing covariance matrix...\n",
      "DEBUG:openmmtools.multistate.multistateanalyzer:Deltaf_ij:\n",
      "DEBUG:openmmtools.multistate.multistateanalyzer:   0.000   0.000   1.513   2.949   3.176   1.994  -0.660  -4.843 -10.696 -18.396 -28.057 -39.664\n",
      "DEBUG:openmmtools.multistate.multistateanalyzer:   0.000   0.000   1.513   2.949   3.176   1.994  -0.660  -4.843 -10.696 -18.396 -28.057 -39.664\n",
      "DEBUG:openmmtools.multistate.multistateanalyzer:  -1.513  -1.513   0.000   1.436   1.663   0.481  -2.173  -6.356 -12.208 -19.909 -29.570 -41.177\n",
      "DEBUG:openmmtools.multistate.multistateanalyzer:  -2.949  -2.949  -1.436   0.000   0.227  -0.955  -3.609  -7.792 -13.645 -21.345 -31.006 -42.613\n",
      "DEBUG:openmmtools.multistate.multistateanalyzer:  -3.176  -3.176  -1.663  -0.227   0.000  -1.182  -3.836  -8.020 -13.872 -21.573 -31.233 -42.840\n",
      "DEBUG:openmmtools.multistate.multistateanalyzer:  -1.994  -1.994  -0.481   0.955   1.182   0.000  -2.654  -6.837 -12.689 -20.390 -30.050 -41.658\n",
      "DEBUG:openmmtools.multistate.multistateanalyzer:   0.660   0.660   2.173   3.609   3.836   2.654   0.000  -4.183 -10.035 -17.736 -27.397 -39.004\n",
      "DEBUG:openmmtools.multistate.multistateanalyzer:   4.843   4.843   6.356   7.792   8.020   6.837   4.183   0.000  -5.852 -13.553 -23.213 -34.821\n",
      "DEBUG:openmmtools.multistate.multistateanalyzer:  10.696  10.696  12.208  13.645  13.872  12.689  10.035   5.852   0.000  -7.701 -17.361 -28.969\n",
      "DEBUG:openmmtools.multistate.multistateanalyzer:  18.396  18.396  19.909  21.345  21.573  20.390  17.736  13.553   7.701   0.000  -9.660 -21.268\n",
      "DEBUG:openmmtools.multistate.multistateanalyzer:  28.057  28.057  29.570  31.006  31.233  30.050  27.397  23.213  17.361   9.660   0.000 -11.607\n",
      "DEBUG:openmmtools.multistate.multistateanalyzer:  39.664  39.664  41.177  42.613  42.840  41.658  39.004  34.821  28.969  21.268  11.607   0.000\n",
      "DEBUG:openmmtools.multistate.multistateanalyzer:dDeltaf_ij:\n",
      "DEBUG:openmmtools.multistate.multistateanalyzer:   0.000   0.000   0.053   0.092   0.129   0.161   0.186   0.207   0.228   0.249   0.267   0.285\n",
      "DEBUG:openmmtools.multistate.multistateanalyzer:   0.000   0.000   0.053   0.092   0.129   0.161   0.186   0.207   0.228   0.249   0.267   0.285\n",
      "DEBUG:openmmtools.multistate.multistateanalyzer:   0.053   0.053   0.000   0.049   0.096   0.136   0.165   0.188   0.211   0.233   0.253   0.272\n",
      "DEBUG:openmmtools.multistate.multistateanalyzer:   0.092   0.092   0.049   0.000   0.055   0.104   0.139   0.166   0.191   0.216   0.237   0.257\n",
      "DEBUG:openmmtools.multistate.multistateanalyzer:   0.129   0.129   0.096   0.055   0.000   0.056   0.100   0.134   0.165   0.193   0.216   0.238\n",
      "DEBUG:openmmtools.multistate.multistateanalyzer:   0.161   0.161   0.136   0.104   0.056   0.000   0.052   0.095   0.134   0.167   0.193   0.217\n",
      "DEBUG:openmmtools.multistate.multistateanalyzer:   0.186   0.186   0.165   0.139   0.100   0.052   0.000   0.050   0.098   0.138   0.169   0.196\n",
      "DEBUG:openmmtools.multistate.multistateanalyzer:   0.207   0.207   0.188   0.166   0.134   0.095   0.050   0.000   0.054   0.101   0.138   0.171\n",
      "DEBUG:openmmtools.multistate.multistateanalyzer:   0.228   0.228   0.211   0.191   0.165   0.134   0.098   0.054   0.000   0.053   0.099   0.139\n",
      "DEBUG:openmmtools.multistate.multistateanalyzer:   0.249   0.249   0.233   0.216   0.193   0.167   0.138   0.101   0.053   0.000   0.052   0.101\n",
      "DEBUG:openmmtools.multistate.multistateanalyzer:   0.267   0.267   0.253   0.237   0.216   0.193   0.169   0.138   0.099   0.052   0.000   0.055\n",
      "DEBUG:openmmtools.multistate.multistateanalyzer:   0.285   0.285   0.272   0.257   0.238   0.217   0.196   0.171   0.139   0.101   0.055   0.000\n",
      "WARNING:openmmtools.multistate.multistateanalyzer:Warning: The openmmtools.multistate API is experimental and may change in future releases\n",
      "DEBUG:openmmtools.multistate.multistateanalyzer:Checking if we need to unbias the restraint...\n",
      "DEBUG:openmmtools.multistate.multistateanalyzer:Trying to get radially symmetric restraint data...\n"
     ]
    },
    {
     "name": "stderr",
     "output_type": "stream",
     "text": [
      "DEBUG:openmmtools.multistate.multistateanalyzer:Retrieving end thermodynamic states...\n",
      "DEBUG:openmmtools.multistate.multistateanalyzer:Isolating restraint force...\n",
      "DEBUG:openmmtools.multistate.multistateanalyzer:No force of type <class 'openmmtools.forces.RadiallySymmetricRestraintForce'> could be found. The restraint will not be unbiased.\n",
      "DEBUG:openmmtools.multistate.multistateanalyzer:Reading energies...\n",
      "DEBUG:openmmtools.multistate.multistatereporter:read_replica_thermodynamic_states: iteration = [   0    1    2 ...  998  999 1000]\n",
      "DEBUG:openmmtools.multistate.multistateanalyzer:Done.\n",
      "DEBUG:openmmtools.multistate.multistateanalyzer:Assembling effective timeseries...\n",
      "DEBUG:openmmtools.multistate.multistateanalyzer:Done.\n",
      "DEBUG:openmmtools.multistate.multistateanalyzer:Could not find t0: None of the requested keys could be found on disk!\n",
      "DEBUG:openmmtools.multistate.multistateanalyzer:Equilibration data:\n",
      "DEBUG:openmmtools.multistate.multistateanalyzer: number of iterations discarded to equilibration : 1\n",
      "DEBUG:openmmtools.multistate.multistateanalyzer: statistical inefficiency of production region   : 3.4847586154937744\n",
      "DEBUG:openmmtools.multistate.multistateanalyzer: effective number of uncorrelated samples        : 86.66310119628906\n",
      "DEBUG:openmmtools.multistate.multistateanalyzer:Assembling uncorrelated energies...\n",
      "DEBUG:openmmtools.multistate.multistateanalyzer:Done.\n",
      "DEBUG:openmmtools.multistate.multistateanalyzer:Computing free energy differences...\n",
      "DEBUG:openmmtools.multistate.multistateanalyzer:Done.\n",
      "DEBUG:openmmtools.multistate.multistateanalyzer:Computing covariance matrix...\n",
      "DEBUG:openmmtools.multistate.multistateanalyzer:Deltaf_ij:\n",
      "DEBUG:openmmtools.multistate.multistateanalyzer:   0.000   0.000   1.473   2.873   3.122   2.030  -0.555  -4.741 -10.603 -18.289 -27.930 -39.546\n",
      "DEBUG:openmmtools.multistate.multistateanalyzer:   0.000   0.000   1.473   2.873   3.122   2.030  -0.555  -4.741 -10.603 -18.289 -27.930 -39.546\n",
      "DEBUG:openmmtools.multistate.multistateanalyzer:  -1.473  -1.473   0.000   1.400   1.649   0.557  -2.028  -6.214 -12.076 -19.762 -29.403 -41.019\n",
      "DEBUG:openmmtools.multistate.multistateanalyzer:  -2.873  -2.873  -1.400   0.000   0.249  -0.843  -3.428  -7.614 -13.476 -21.162 -30.803 -42.419\n",
      "DEBUG:openmmtools.multistate.multistateanalyzer:  -3.122  -3.122  -1.649  -0.249   0.000  -1.092  -3.677  -7.863 -13.725 -21.411 -31.052 -42.669\n",
      "DEBUG:openmmtools.multistate.multistateanalyzer:  -2.030  -2.030  -0.557   0.843   1.092   0.000  -2.585  -6.771 -12.634 -20.320 -29.960 -41.577\n",
      "DEBUG:openmmtools.multistate.multistateanalyzer:   0.555   0.555   2.028   3.428   3.677   2.585   0.000  -4.186 -10.048 -17.734 -27.375 -38.992\n",
      "DEBUG:openmmtools.multistate.multistateanalyzer:   4.741   4.741   6.214   7.614   7.863   6.771   4.186   0.000  -5.863 -13.548 -23.189 -34.806\n",
      "DEBUG:openmmtools.multistate.multistateanalyzer:  10.603  10.603  12.076  13.476  13.725  12.634  10.048   5.863   0.000  -7.686 -17.327 -28.943\n",
      "DEBUG:openmmtools.multistate.multistateanalyzer:  18.289  18.289  19.762  21.162  21.411  20.320  17.734  13.548   7.686   0.000  -9.641 -21.257\n",
      "DEBUG:openmmtools.multistate.multistateanalyzer:  27.930  27.930  29.403  30.803  31.052  29.960  27.375  23.189  17.327   9.641   0.000 -11.617\n",
      "DEBUG:openmmtools.multistate.multistateanalyzer:  39.546  39.546  41.019  42.419  42.669  41.577  38.992  34.806  28.943  21.257  11.617   0.000\n",
      "DEBUG:openmmtools.multistate.multistateanalyzer:dDeltaf_ij:\n",
      "DEBUG:openmmtools.multistate.multistateanalyzer:   0.000   0.000   0.046   0.076   0.104   0.131   0.156   0.177   0.194   0.210   0.225   0.241\n",
      "DEBUG:openmmtools.multistate.multistateanalyzer:   0.000   0.000   0.046   0.076   0.104   0.131   0.156   0.177   0.194   0.210   0.225   0.241\n",
      "DEBUG:openmmtools.multistate.multistateanalyzer:   0.046   0.046   0.000   0.038   0.075   0.109   0.139   0.161   0.180   0.197   0.213   0.230\n",
      "DEBUG:openmmtools.multistate.multistateanalyzer:   0.076   0.076   0.038   0.000   0.043   0.084   0.120   0.145   0.165   0.184   0.201   0.219\n",
      "DEBUG:openmmtools.multistate.multistateanalyzer:   0.104   0.104   0.075   0.043   0.000   0.048   0.091   0.122   0.145   0.166   0.185   0.204\n",
      "DEBUG:openmmtools.multistate.multistateanalyzer:   0.131   0.131   0.109   0.084   0.048   0.000   0.049   0.088   0.117   0.143   0.164   0.185\n",
      "DEBUG:openmmtools.multistate.multistateanalyzer:   0.156   0.156   0.139   0.120   0.091   0.049   0.000   0.045   0.083   0.114   0.140   0.165\n",
      "DEBUG:openmmtools.multistate.multistateanalyzer:   0.177   0.177   0.161   0.145   0.122   0.088   0.045   0.000   0.043   0.082   0.114   0.143\n",
      "DEBUG:openmmtools.multistate.multistateanalyzer:   0.194   0.194   0.180   0.165   0.145   0.117   0.083   0.043   0.000   0.044   0.082   0.117\n",
      "DEBUG:openmmtools.multistate.multistateanalyzer:   0.210   0.210   0.197   0.184   0.166   0.143   0.114   0.082   0.044   0.000   0.044   0.087\n",
      "DEBUG:openmmtools.multistate.multistateanalyzer:   0.225   0.225   0.213   0.201   0.185   0.164   0.140   0.114   0.082   0.044   0.000   0.049\n",
      "DEBUG:openmmtools.multistate.multistateanalyzer:   0.241   0.241   0.230   0.219   0.204   0.185   0.165   0.143   0.117   0.087   0.049   0.000\n",
      "WARNING:openmmtools.multistate.multistateanalyzer:Warning: The openmmtools.multistate API is experimental and may change in future releases\n",
      "DEBUG:openmmtools.multistate.multistateanalyzer:Checking if we need to unbias the restraint...\n",
      "DEBUG:openmmtools.multistate.multistateanalyzer:Trying to get radially symmetric restraint data...\n",
      "DEBUG:openmmtools.multistate.multistateanalyzer:Retrieving end thermodynamic states...\n",
      "DEBUG:openmmtools.multistate.multistateanalyzer:Isolating restraint force...\n",
      "DEBUG:openmmtools.multistate.multistateanalyzer:No force of type <class 'openmmtools.forces.RadiallySymmetricRestraintForce'> could be found. The restraint will not be unbiased.\n",
      "DEBUG:openmmtools.multistate.multistateanalyzer:Reading energies...\n",
      "DEBUG:openmmtools.multistate.multistatereporter:read_replica_thermodynamic_states: iteration = [   0    1    2 ...  998  999 1000]\n",
      "DEBUG:openmmtools.multistate.multistateanalyzer:Done.\n",
      "DEBUG:openmmtools.multistate.multistateanalyzer:Assembling effective timeseries...\n",
      "DEBUG:openmmtools.multistate.multistateanalyzer:Done.\n",
      "DEBUG:openmmtools.multistate.multistateanalyzer:Could not find t0: None of the requested keys could be found on disk!\n",
      "DEBUG:openmmtools.multistate.multistateanalyzer:Equilibration data:\n",
      "DEBUG:openmmtools.multistate.multistateanalyzer: number of iterations discarded to equilibration : 1\n",
      "DEBUG:openmmtools.multistate.multistateanalyzer: statistical inefficiency of production region   : 3.516618490219116\n",
      "DEBUG:openmmtools.multistate.multistateanalyzer: effective number of uncorrelated samples        : 114.31436157226562\n",
      "DEBUG:openmmtools.multistate.multistateanalyzer:Assembling uncorrelated energies...\n",
      "DEBUG:openmmtools.multistate.multistateanalyzer:Done.\n",
      "DEBUG:openmmtools.multistate.multistateanalyzer:Computing free energy differences...\n",
      "DEBUG:openmmtools.multistate.multistateanalyzer:Done.\n",
      "DEBUG:openmmtools.multistate.multistateanalyzer:Computing covariance matrix...\n",
      "DEBUG:openmmtools.multistate.multistateanalyzer:Deltaf_ij:\n",
      "DEBUG:openmmtools.multistate.multistateanalyzer:   0.000   0.000   1.468   2.821   2.990   1.821  -0.795  -4.962 -10.843 -18.624 -28.386 -40.048\n",
      "DEBUG:openmmtools.multistate.multistateanalyzer:   0.000   0.000   1.468   2.821   2.990   1.821  -0.795  -4.962 -10.843 -18.624 -28.386 -40.048\n",
      "DEBUG:openmmtools.multistate.multistateanalyzer:  -1.468  -1.468   0.000   1.352   1.522   0.352  -2.263  -6.430 -12.311 -20.092 -29.854 -41.517\n",
      "DEBUG:openmmtools.multistate.multistateanalyzer:  -2.821  -2.821  -1.352   0.000   0.169  -1.000  -3.616  -7.782 -13.664 -21.445 -31.206 -42.869\n",
      "DEBUG:openmmtools.multistate.multistateanalyzer:  -2.990  -2.990  -1.522  -0.169   0.000  -1.169  -3.785  -7.951 -13.833 -21.614 -31.376 -43.038\n",
      "DEBUG:openmmtools.multistate.multistateanalyzer:  -1.821  -1.821  -0.352   1.000   1.169   0.000  -2.616  -6.782 -12.664 -20.445 -30.207 -41.869\n",
      "DEBUG:openmmtools.multistate.multistateanalyzer:   0.795   0.795   2.263   3.616   3.785   2.616   0.000  -4.166 -10.048 -17.829 -27.591 -39.253\n"
     ]
    },
    {
     "name": "stderr",
     "output_type": "stream",
     "text": [
      "DEBUG:openmmtools.multistate.multistateanalyzer:   4.962   4.962   6.430   7.782   7.951   6.782   4.166   0.000  -5.881 -13.663 -23.424 -35.087\n",
      "DEBUG:openmmtools.multistate.multistateanalyzer:  10.843  10.843  12.311  13.664  13.833  12.664  10.048   5.881   0.000  -7.781 -17.543 -29.205\n",
      "DEBUG:openmmtools.multistate.multistateanalyzer:  18.624  18.624  20.092  21.445  21.614  20.445  17.829  13.663   7.781   0.000  -9.762 -21.424\n",
      "DEBUG:openmmtools.multistate.multistateanalyzer:  28.386  28.386  29.854  31.206  31.376  30.207  27.591  23.424  17.543   9.762   0.000 -11.663\n",
      "DEBUG:openmmtools.multistate.multistateanalyzer:  40.048  40.048  41.517  42.869  43.038  41.869  39.253  35.087  29.205  21.424  11.663   0.000\n",
      "DEBUG:openmmtools.multistate.multistateanalyzer:dDeltaf_ij:\n",
      "DEBUG:openmmtools.multistate.multistateanalyzer:   0.000   0.000   0.041   0.069   0.093   0.114   0.133   0.151   0.168   0.184   0.197   0.209\n",
      "DEBUG:openmmtools.multistate.multistateanalyzer:   0.000   0.000   0.041   0.069   0.093   0.114   0.133   0.151   0.168   0.184   0.197   0.209\n",
      "DEBUG:openmmtools.multistate.multistateanalyzer:   0.041   0.041   0.000   0.035   0.067   0.094   0.117   0.136   0.155   0.172   0.187   0.199\n",
      "DEBUG:openmmtools.multistate.multistateanalyzer:   0.069   0.069   0.035   0.000   0.038   0.072   0.099   0.121   0.142   0.160   0.176   0.190\n",
      "DEBUG:openmmtools.multistate.multistateanalyzer:   0.093   0.093   0.067   0.038   0.000   0.040   0.074   0.101   0.125   0.146   0.163   0.177\n",
      "DEBUG:openmmtools.multistate.multistateanalyzer:   0.114   0.114   0.094   0.072   0.040   0.000   0.039   0.074   0.103   0.127   0.147   0.163\n",
      "DEBUG:openmmtools.multistate.multistateanalyzer:   0.133   0.133   0.117   0.099   0.074   0.039   0.000   0.040   0.076   0.105   0.128   0.146\n",
      "DEBUG:openmmtools.multistate.multistateanalyzer:   0.151   0.151   0.136   0.121   0.101   0.074   0.040   0.000   0.041   0.077   0.105   0.126\n",
      "DEBUG:openmmtools.multistate.multistateanalyzer:   0.168   0.168   0.155   0.142   0.125   0.103   0.076   0.041   0.000   0.041   0.074   0.101\n",
      "DEBUG:openmmtools.multistate.multistateanalyzer:   0.184   0.184   0.172   0.160   0.146   0.127   0.105   0.077   0.041   0.000   0.038   0.071\n",
      "DEBUG:openmmtools.multistate.multistateanalyzer:   0.197   0.197   0.187   0.176   0.163   0.147   0.128   0.105   0.074   0.038   0.000   0.037\n",
      "DEBUG:openmmtools.multistate.multistateanalyzer:   0.209   0.209   0.199   0.190   0.177   0.163   0.146   0.126   0.101   0.071   0.037   0.000\n",
      "WARNING:openmmtools.multistate.multistateanalyzer:Warning: The openmmtools.multistate API is experimental and may change in future releases\n",
      "DEBUG:openmmtools.multistate.multistateanalyzer:Checking if we need to unbias the restraint...\n",
      "DEBUG:openmmtools.multistate.multistateanalyzer:Trying to get radially symmetric restraint data...\n",
      "DEBUG:openmmtools.multistate.multistateanalyzer:Retrieving end thermodynamic states...\n",
      "DEBUG:openmmtools.multistate.multistateanalyzer:Isolating restraint force...\n",
      "DEBUG:openmmtools.multistate.multistateanalyzer:No force of type <class 'openmmtools.forces.RadiallySymmetricRestraintForce'> could be found. The restraint will not be unbiased.\n",
      "DEBUG:openmmtools.multistate.multistateanalyzer:Reading energies...\n",
      "DEBUG:openmmtools.multistate.multistatereporter:read_replica_thermodynamic_states: iteration = [   0    1    2 ...  998  999 1000]\n",
      "DEBUG:openmmtools.multistate.multistateanalyzer:Done.\n",
      "DEBUG:openmmtools.multistate.multistateanalyzer:Assembling effective timeseries...\n",
      "DEBUG:openmmtools.multistate.multistateanalyzer:Done.\n",
      "DEBUG:openmmtools.multistate.multistateanalyzer:Could not find t0: None of the requested keys could be found on disk!\n",
      "DEBUG:openmmtools.multistate.multistateanalyzer:Equilibration data:\n",
      "DEBUG:openmmtools.multistate.multistateanalyzer: number of iterations discarded to equilibration : 1\n",
      "DEBUG:openmmtools.multistate.multistateanalyzer: statistical inefficiency of production region   : 3.599026679992676\n",
      "DEBUG:openmmtools.multistate.multistateanalyzer: effective number of uncorrelated samples        : 139.48216247558594\n",
      "DEBUG:openmmtools.multistate.multistateanalyzer:Assembling uncorrelated energies...\n",
      "DEBUG:openmmtools.multistate.multistateanalyzer:Done.\n",
      "DEBUG:openmmtools.multistate.multistateanalyzer:Computing free energy differences...\n",
      "DEBUG:openmmtools.multistate.multistateanalyzer:Done.\n",
      "DEBUG:openmmtools.multistate.multistateanalyzer:Computing covariance matrix...\n",
      "DEBUG:openmmtools.multistate.multistateanalyzer:Deltaf_ij:\n",
      "DEBUG:openmmtools.multistate.multistateanalyzer:   0.000   0.000   1.423   2.789   3.018   1.897  -0.699  -4.894 -10.818 -18.614 -28.355 -39.965\n",
      "DEBUG:openmmtools.multistate.multistateanalyzer:   0.000   0.000   1.423   2.789   3.018   1.897  -0.699  -4.894 -10.818 -18.614 -28.355 -39.965\n",
      "DEBUG:openmmtools.multistate.multistateanalyzer:  -1.423  -1.423   0.000   1.367   1.595   0.474  -2.122  -6.317 -12.241 -20.036 -29.778 -41.388\n",
      "DEBUG:openmmtools.multistate.multistateanalyzer:  -2.789  -2.789  -1.367   0.000   0.229  -0.892  -3.488  -7.683 -13.608 -21.403 -31.145 -42.754\n",
      "DEBUG:openmmtools.multistate.multistateanalyzer:  -3.018  -3.018  -1.595  -0.229   0.000  -1.121  -3.717  -7.912 -13.836 -21.632 -31.373 -42.983\n",
      "DEBUG:openmmtools.multistate.multistateanalyzer:  -1.897  -1.897  -0.474   0.892   1.121   0.000  -2.596  -6.791 -12.715 -20.511 -30.252 -41.862\n",
      "DEBUG:openmmtools.multistate.multistateanalyzer:   0.699   0.699   2.122   3.488   3.717   2.596   0.000  -4.195 -10.120 -17.915 -27.656 -39.266\n",
      "DEBUG:openmmtools.multistate.multistateanalyzer:   4.894   4.894   6.317   7.683   7.912   6.791   4.195   0.000  -5.924 -13.720 -23.461 -35.071\n",
      "DEBUG:openmmtools.multistate.multistateanalyzer:  10.818  10.818  12.241  13.608  13.836  12.715  10.120   5.924   0.000  -7.795 -17.537 -29.146\n",
      "DEBUG:openmmtools.multistate.multistateanalyzer:  18.614  18.614  20.036  21.403  21.632  20.511  17.915  13.720   7.795   0.000  -9.742 -21.351\n",
      "DEBUG:openmmtools.multistate.multistateanalyzer:  28.355  28.355  29.778  31.145  31.373  30.252  27.656  23.461  17.537   9.742   0.000 -11.610\n",
      "DEBUG:openmmtools.multistate.multistateanalyzer:  39.965  39.965  41.388  42.754  42.983  41.862  39.266  35.071  29.146  21.351  11.610   0.000\n",
      "DEBUG:openmmtools.multistate.multistateanalyzer:dDeltaf_ij:\n",
      "DEBUG:openmmtools.multistate.multistateanalyzer:   0.000   0.000   0.035   0.057   0.080   0.102   0.121   0.137   0.152   0.166   0.178   0.188\n",
      "DEBUG:openmmtools.multistate.multistateanalyzer:   0.000   0.000   0.035   0.057   0.080   0.102   0.121   0.137   0.152   0.166   0.178   0.188\n",
      "DEBUG:openmmtools.multistate.multistateanalyzer:   0.035   0.035   0.000   0.029   0.059   0.086   0.107   0.126   0.141   0.156   0.169   0.180\n",
      "DEBUG:openmmtools.multistate.multistateanalyzer:   0.057   0.057   0.029   0.000   0.034   0.067   0.093   0.113   0.131   0.146   0.160   0.171\n",
      "DEBUG:openmmtools.multistate.multistateanalyzer:   0.080   0.080   0.059   0.034   0.000   0.037   0.069   0.095   0.115   0.132   0.147   0.160\n",
      "DEBUG:openmmtools.multistate.multistateanalyzer:   0.102   0.102   0.086   0.067   0.037   0.000   0.037   0.069   0.094   0.115   0.132   0.145\n",
      "DEBUG:openmmtools.multistate.multistateanalyzer:   0.121   0.121   0.107   0.093   0.069   0.037   0.000   0.037   0.068   0.094   0.114   0.129\n",
      "DEBUG:openmmtools.multistate.multistateanalyzer:   0.137   0.137   0.126   0.113   0.095   0.069   0.037   0.000   0.036   0.068   0.092   0.111\n",
      "DEBUG:openmmtools.multistate.multistateanalyzer:   0.152   0.152   0.141   0.131   0.115   0.094   0.068   0.036   0.000   0.036   0.066   0.089\n",
      "DEBUG:openmmtools.multistate.multistateanalyzer:   0.166   0.166   0.156   0.146   0.132   0.115   0.094   0.068   0.036   0.000   0.033   0.061\n",
      "DEBUG:openmmtools.multistate.multistateanalyzer:   0.178   0.178   0.169   0.160   0.147   0.132   0.114   0.092   0.066   0.033   0.000   0.032\n",
      "DEBUG:openmmtools.multistate.multistateanalyzer:   0.188   0.188   0.180   0.171   0.160   0.145   0.129   0.111   0.089   0.061   0.032   0.000\n",
      "WARNING:openmmtools.multistate.multistateanalyzer:Warning: The openmmtools.multistate API is experimental and may change in future releases\n"
     ]
    },
    {
     "name": "stderr",
     "output_type": "stream",
     "text": [
      "DEBUG:openmmtools.multistate.multistateanalyzer:Checking if we need to unbias the restraint...\n",
      "DEBUG:openmmtools.multistate.multistateanalyzer:Trying to get radially symmetric restraint data...\n",
      "DEBUG:openmmtools.multistate.multistateanalyzer:Retrieving end thermodynamic states...\n",
      "DEBUG:openmmtools.multistate.multistateanalyzer:Isolating restraint force...\n",
      "DEBUG:openmmtools.multistate.multistateanalyzer:No force of type <class 'openmmtools.forces.RadiallySymmetricRestraintForce'> could be found. The restraint will not be unbiased.\n",
      "DEBUG:openmmtools.multistate.multistateanalyzer:Reading energies...\n",
      "DEBUG:openmmtools.multistate.multistatereporter:read_replica_thermodynamic_states: iteration = [   0    1    2 ...  998  999 1000]\n",
      "DEBUG:openmmtools.multistate.multistateanalyzer:Done.\n",
      "DEBUG:openmmtools.multistate.multistateanalyzer:Assembling effective timeseries...\n",
      "DEBUG:openmmtools.multistate.multistateanalyzer:Done.\n",
      "DEBUG:openmmtools.multistate.multistateanalyzer:Could not find t0: None of the requested keys could be found on disk!\n",
      "DEBUG:openmmtools.multistate.multistateanalyzer:Equilibration data:\n",
      "DEBUG:openmmtools.multistate.multistateanalyzer: number of iterations discarded to equilibration : 1\n",
      "DEBUG:openmmtools.multistate.multistateanalyzer: statistical inefficiency of production region   : 3.6650137901306152\n",
      "DEBUG:openmmtools.multistate.multistateanalyzer: effective number of uncorrelated samples        : 164.255859375\n",
      "DEBUG:openmmtools.multistate.multistateanalyzer:Assembling uncorrelated energies...\n",
      "DEBUG:openmmtools.multistate.multistateanalyzer:Done.\n",
      "DEBUG:openmmtools.multistate.multistateanalyzer:Computing free energy differences...\n",
      "DEBUG:openmmtools.multistate.multistateanalyzer:Done.\n",
      "DEBUG:openmmtools.multistate.multistateanalyzer:Computing covariance matrix...\n",
      "DEBUG:openmmtools.multistate.multistateanalyzer:Deltaf_ij:\n",
      "DEBUG:openmmtools.multistate.multistateanalyzer:   0.000   0.000   1.537   2.974   3.250   2.180  -0.344  -4.478 -10.343 -18.063 -27.743 -39.339\n",
      "DEBUG:openmmtools.multistate.multistateanalyzer:   0.000   0.000   1.537   2.974   3.250   2.180  -0.344  -4.478 -10.343 -18.063 -27.743 -39.339\n",
      "DEBUG:openmmtools.multistate.multistateanalyzer:  -1.537  -1.537   0.000   1.437   1.713   0.643  -1.881  -6.015 -11.880 -19.600 -29.280 -40.875\n",
      "DEBUG:openmmtools.multistate.multistateanalyzer:  -2.974  -2.974  -1.437   0.000   0.276  -0.794  -3.318  -7.452 -13.317 -21.037 -30.717 -42.312\n",
      "DEBUG:openmmtools.multistate.multistateanalyzer:  -3.250  -3.250  -1.713  -0.276   0.000  -1.070  -3.594  -7.728 -13.593 -21.313 -30.993 -42.589\n",
      "DEBUG:openmmtools.multistate.multistateanalyzer:  -2.180  -2.180  -0.643   0.794   1.070   0.000  -2.524  -6.658 -12.523 -20.243 -29.923 -41.518\n",
      "DEBUG:openmmtools.multistate.multistateanalyzer:   0.344   0.344   1.881   3.318   3.594   2.524   0.000  -4.134  -9.999 -17.719 -27.399 -38.995\n",
      "DEBUG:openmmtools.multistate.multistateanalyzer:   4.478   4.478   6.015   7.452   7.728   6.658   4.134   0.000  -5.864 -13.585 -23.265 -34.860\n",
      "DEBUG:openmmtools.multistate.multistateanalyzer:  10.343  10.343  11.880  13.317  13.593  12.523   9.999   5.864   0.000  -7.720 -17.400 -28.996\n",
      "DEBUG:openmmtools.multistate.multistateanalyzer:  18.063  18.063  19.600  21.037  21.313  20.243  17.719  13.585   7.720   0.000  -9.680 -21.275\n",
      "DEBUG:openmmtools.multistate.multistateanalyzer:  27.743  27.743  29.280  30.717  30.993  29.923  27.399  23.265  17.400   9.680   0.000 -11.596\n",
      "DEBUG:openmmtools.multistate.multistateanalyzer:  39.339  39.339  40.875  42.312  42.589  41.518  38.995  34.860  28.996  21.275  11.596   0.000\n",
      "DEBUG:openmmtools.multistate.multistateanalyzer:dDeltaf_ij:\n",
      "DEBUG:openmmtools.multistate.multistateanalyzer:   0.000   0.000   0.035   0.058   0.079   0.098   0.116   0.131   0.145   0.157   0.168   0.178\n",
      "DEBUG:openmmtools.multistate.multistateanalyzer:   0.000   0.000   0.035   0.058   0.079   0.098   0.116   0.131   0.145   0.157   0.168   0.178\n",
      "DEBUG:openmmtools.multistate.multistateanalyzer:   0.035   0.035   0.000   0.029   0.058   0.082   0.102   0.119   0.134   0.147   0.159   0.170\n",
      "DEBUG:openmmtools.multistate.multistateanalyzer:   0.058   0.058   0.029   0.000   0.033   0.062   0.086   0.107   0.123   0.137   0.150   0.161\n",
      "DEBUG:openmmtools.multistate.multistateanalyzer:   0.079   0.079   0.058   0.033   0.000   0.034   0.064   0.089   0.108   0.124   0.138   0.150\n",
      "DEBUG:openmmtools.multistate.multistateanalyzer:   0.098   0.098   0.082   0.062   0.034   0.000   0.036   0.067   0.090   0.108   0.124   0.137\n",
      "DEBUG:openmmtools.multistate.multistateanalyzer:   0.116   0.116   0.102   0.086   0.064   0.036   0.000   0.036   0.064   0.087   0.106   0.121\n",
      "DEBUG:openmmtools.multistate.multistateanalyzer:   0.131   0.131   0.119   0.107   0.089   0.067   0.036   0.000   0.033   0.062   0.085   0.104\n",
      "DEBUG:openmmtools.multistate.multistateanalyzer:   0.145   0.145   0.134   0.123   0.108   0.090   0.064   0.033   0.000   0.033   0.061   0.084\n",
      "DEBUG:openmmtools.multistate.multistateanalyzer:   0.157   0.157   0.147   0.137   0.124   0.108   0.087   0.062   0.033   0.000   0.032   0.060\n",
      "DEBUG:openmmtools.multistate.multistateanalyzer:   0.168   0.168   0.159   0.150   0.138   0.124   0.106   0.085   0.061   0.032   0.000   0.032\n",
      "DEBUG:openmmtools.multistate.multistateanalyzer:   0.178   0.178   0.170   0.161   0.150   0.137   0.121   0.104   0.084   0.060   0.032   0.000\n",
      "WARNING:openmmtools.multistate.multistateanalyzer:Warning: The openmmtools.multistate API is experimental and may change in future releases\n",
      "DEBUG:openmmtools.multistate.multistateanalyzer:Checking if we need to unbias the restraint...\n",
      "DEBUG:openmmtools.multistate.multistateanalyzer:Trying to get radially symmetric restraint data...\n",
      "DEBUG:openmmtools.multistate.multistateanalyzer:Retrieving end thermodynamic states...\n",
      "DEBUG:openmmtools.multistate.multistateanalyzer:Isolating restraint force...\n",
      "DEBUG:openmmtools.multistate.multistateanalyzer:No force of type <class 'openmmtools.forces.RadiallySymmetricRestraintForce'> could be found. The restraint will not be unbiased.\n",
      "DEBUG:openmmtools.multistate.multistateanalyzer:Reading energies...\n",
      "DEBUG:openmmtools.multistate.multistatereporter:read_replica_thermodynamic_states: iteration = [   0    1    2 ...  998  999 1000]\n",
      "DEBUG:openmmtools.multistate.multistateanalyzer:Done.\n",
      "DEBUG:openmmtools.multistate.multistateanalyzer:Assembling effective timeseries...\n",
      "DEBUG:openmmtools.multistate.multistateanalyzer:Done.\n",
      "DEBUG:openmmtools.multistate.multistateanalyzer:Could not find t0: None of the requested keys could be found on disk!\n",
      "DEBUG:openmmtools.multistate.multistateanalyzer:Equilibration data:\n",
      "DEBUG:openmmtools.multistate.multistateanalyzer: number of iterations discarded to equilibration : 1\n",
      "DEBUG:openmmtools.multistate.multistateanalyzer: statistical inefficiency of production region   : 3.598458766937256\n",
      "DEBUG:openmmtools.multistate.multistateanalyzer: effective number of uncorrelated samples        : 195.08352661132812\n",
      "DEBUG:openmmtools.multistate.multistateanalyzer:Assembling uncorrelated energies...\n",
      "DEBUG:openmmtools.multistate.multistateanalyzer:Done.\n",
      "DEBUG:openmmtools.multistate.multistateanalyzer:Computing free energy differences...\n",
      "DEBUG:openmmtools.multistate.multistateanalyzer:Done.\n",
      "DEBUG:openmmtools.multistate.multistateanalyzer:Computing covariance matrix...\n",
      "DEBUG:openmmtools.multistate.multistateanalyzer:Deltaf_ij:\n",
      "DEBUG:openmmtools.multistate.multistateanalyzer:   0.000   0.000   1.416   2.768   2.989   1.868  -0.699  -4.824 -10.667 -18.395 -28.097 -39.692\n",
      "DEBUG:openmmtools.multistate.multistateanalyzer:   0.000   0.000   1.416   2.768   2.989   1.868  -0.699  -4.824 -10.667 -18.395 -28.097 -39.692\n",
      "DEBUG:openmmtools.multistate.multistateanalyzer:  -1.416  -1.416   0.000   1.352   1.573   0.451  -2.116  -6.241 -12.083 -19.811 -29.513 -41.108\n",
      "DEBUG:openmmtools.multistate.multistateanalyzer:  -2.768  -2.768  -1.352   0.000   0.221  -0.901  -3.468  -7.593 -13.435 -21.163 -30.865 -42.460\n",
      "DEBUG:openmmtools.multistate.multistateanalyzer:  -2.989  -2.989  -1.573  -0.221   0.000  -1.121  -3.688  -7.813 -13.655 -21.384 -31.086 -42.680\n",
      "DEBUG:openmmtools.multistate.multistateanalyzer:  -1.868  -1.868  -0.451   0.901   1.121   0.000  -2.567  -6.692 -12.534 -20.263 -29.965 -41.559\n"
     ]
    },
    {
     "name": "stderr",
     "output_type": "stream",
     "text": [
      "DEBUG:openmmtools.multistate.multistateanalyzer:   0.699   0.699   2.116   3.468   3.688   2.567   0.000  -4.125  -9.967 -17.696 -27.398 -38.992\n",
      "DEBUG:openmmtools.multistate.multistateanalyzer:   4.824   4.824   6.241   7.593   7.813   6.692   4.125   0.000  -5.842 -13.571 -23.272 -34.867\n",
      "DEBUG:openmmtools.multistate.multistateanalyzer:  10.667  10.667  12.083  13.435  13.655  12.534   9.967   5.842   0.000  -7.728 -17.430 -29.025\n",
      "DEBUG:openmmtools.multistate.multistateanalyzer:  18.395  18.395  19.811  21.163  21.384  20.263  17.696  13.571   7.728   0.000  -9.702 -21.297\n",
      "DEBUG:openmmtools.multistate.multistateanalyzer:  28.097  28.097  29.513  30.865  31.086  29.965  27.398  23.272  17.430   9.702   0.000 -11.595\n",
      "DEBUG:openmmtools.multistate.multistateanalyzer:  39.692  39.692  41.108  42.460  42.680  41.559  38.992  34.867  29.025  21.297  11.595   0.000\n",
      "DEBUG:openmmtools.multistate.multistateanalyzer:dDeltaf_ij:\n",
      "DEBUG:openmmtools.multistate.multistateanalyzer:   0.000   0.000   0.030   0.050   0.069   0.087   0.103   0.117   0.129   0.141   0.152   0.161\n",
      "DEBUG:openmmtools.multistate.multistateanalyzer:   0.000   0.000   0.030   0.050   0.069   0.087   0.103   0.117   0.129   0.141   0.152   0.161\n",
      "DEBUG:openmmtools.multistate.multistateanalyzer:   0.030   0.030   0.000   0.025   0.050   0.073   0.091   0.106   0.120   0.133   0.144   0.154\n",
      "DEBUG:openmmtools.multistate.multistateanalyzer:   0.050   0.050   0.025   0.000   0.030   0.057   0.078   0.095   0.111   0.124   0.136   0.146\n",
      "DEBUG:openmmtools.multistate.multistateanalyzer:   0.069   0.069   0.050   0.030   0.000   0.032   0.058   0.079   0.097   0.112   0.125   0.136\n",
      "DEBUG:openmmtools.multistate.multistateanalyzer:   0.087   0.087   0.073   0.057   0.032   0.000   0.031   0.058   0.080   0.098   0.113   0.124\n",
      "DEBUG:openmmtools.multistate.multistateanalyzer:   0.103   0.103   0.091   0.078   0.058   0.031   0.000   0.031   0.058   0.080   0.098   0.111\n",
      "DEBUG:openmmtools.multistate.multistateanalyzer:   0.117   0.117   0.106   0.095   0.079   0.058   0.031   0.000   0.031   0.059   0.080   0.096\n",
      "DEBUG:openmmtools.multistate.multistateanalyzer:   0.129   0.129   0.120   0.111   0.097   0.080   0.058   0.031   0.000   0.031   0.057   0.077\n",
      "DEBUG:openmmtools.multistate.multistateanalyzer:   0.141   0.141   0.133   0.124   0.112   0.098   0.080   0.059   0.031   0.000   0.029   0.053\n",
      "DEBUG:openmmtools.multistate.multistateanalyzer:   0.152   0.152   0.144   0.136   0.125   0.113   0.098   0.080   0.057   0.029   0.000   0.027\n",
      "DEBUG:openmmtools.multistate.multistateanalyzer:   0.161   0.161   0.154   0.146   0.136   0.124   0.111   0.096   0.077   0.053   0.027   0.000\n",
      "WARNING:openmmtools.multistate.multistateanalyzer:Warning: The openmmtools.multistate API is experimental and may change in future releases\n",
      "DEBUG:openmmtools.multistate.multistateanalyzer:Checking if we need to unbias the restraint...\n",
      "DEBUG:openmmtools.multistate.multistateanalyzer:Trying to get radially symmetric restraint data...\n",
      "DEBUG:openmmtools.multistate.multistateanalyzer:Retrieving end thermodynamic states...\n",
      "DEBUG:openmmtools.multistate.multistateanalyzer:Isolating restraint force...\n",
      "DEBUG:openmmtools.multistate.multistateanalyzer:No force of type <class 'openmmtools.forces.RadiallySymmetricRestraintForce'> could be found. The restraint will not be unbiased.\n",
      "DEBUG:openmmtools.multistate.multistateanalyzer:Reading energies...\n",
      "DEBUG:openmmtools.multistate.multistatereporter:read_replica_thermodynamic_states: iteration = [   0    1    2 ...  998  999 1000]\n",
      "DEBUG:openmmtools.multistate.multistateanalyzer:Done.\n",
      "DEBUG:openmmtools.multistate.multistateanalyzer:Assembling effective timeseries...\n",
      "DEBUG:openmmtools.multistate.multistateanalyzer:Done.\n",
      "DEBUG:openmmtools.multistate.multistateanalyzer:Could not find t0: None of the requested keys could be found on disk!\n",
      "DEBUG:openmmtools.multistate.multistateanalyzer:Equilibration data:\n",
      "DEBUG:openmmtools.multistate.multistateanalyzer: number of iterations discarded to equilibration : 1\n",
      "DEBUG:openmmtools.multistate.multistateanalyzer: statistical inefficiency of production region   : 3.607496500015259\n",
      "DEBUG:openmmtools.multistate.multistateanalyzer: effective number of uncorrelated samples        : 222.31483459472656\n",
      "DEBUG:openmmtools.multistate.multistateanalyzer:Assembling uncorrelated energies...\n",
      "DEBUG:openmmtools.multistate.multistateanalyzer:Done.\n",
      "DEBUG:openmmtools.multistate.multistateanalyzer:Computing free energy differences...\n",
      "DEBUG:openmmtools.multistate.multistateanalyzer:Done.\n",
      "DEBUG:openmmtools.multistate.multistateanalyzer:Computing covariance matrix...\n",
      "DEBUG:openmmtools.multistate.multistateanalyzer:Deltaf_ij:\n",
      "DEBUG:openmmtools.multistate.multistateanalyzer:   0.000   0.000   1.422   2.786   2.993   1.870  -0.698  -4.832 -10.676 -18.386 -28.062 -39.632\n",
      "DEBUG:openmmtools.multistate.multistateanalyzer:   0.000   0.000   1.422   2.786   2.993   1.870  -0.698  -4.832 -10.676 -18.386 -28.062 -39.632\n",
      "DEBUG:openmmtools.multistate.multistateanalyzer:  -1.422  -1.422   0.000   1.365   1.571   0.449  -2.120  -6.253 -12.098 -19.808 -29.484 -41.053\n",
      "DEBUG:openmmtools.multistate.multistateanalyzer:  -2.786  -2.786  -1.365   0.000   0.207  -0.916  -3.484  -7.618 -13.462 -21.173 -30.848 -42.418\n",
      "DEBUG:openmmtools.multistate.multistateanalyzer:  -2.993  -2.993  -1.571  -0.207   0.000  -1.123  -3.691  -7.825 -13.669 -21.380 -31.055 -42.625\n",
      "DEBUG:openmmtools.multistate.multistateanalyzer:  -1.870  -1.870  -0.449   0.916   1.123   0.000  -2.568  -6.702 -12.546 -20.257 -29.932 -41.502\n",
      "DEBUG:openmmtools.multistate.multistateanalyzer:   0.698   0.698   2.120   3.484   3.691   2.568   0.000  -4.134  -9.978 -17.688 -27.364 -38.933\n",
      "DEBUG:openmmtools.multistate.multistateanalyzer:   4.832   4.832   6.253   7.618   7.825   6.702   4.134   0.000  -5.844 -13.555 -23.230 -34.800\n",
      "DEBUG:openmmtools.multistate.multistateanalyzer:  10.676  10.676  12.098  13.462  13.669  12.546   9.978   5.844   0.000  -7.710 -17.386 -28.956\n",
      "DEBUG:openmmtools.multistate.multistateanalyzer:  18.386  18.386  19.808  21.173  21.380  20.257  17.688  13.555   7.710   0.000  -9.676 -21.245\n",
      "DEBUG:openmmtools.multistate.multistateanalyzer:  28.062  28.062  29.484  30.848  31.055  29.932  27.364  23.230  17.386   9.676   0.000 -11.570\n",
      "DEBUG:openmmtools.multistate.multistateanalyzer:  39.632  39.632  41.053  42.418  42.625  41.502  38.933  34.800  28.956  21.245  11.570   0.000\n",
      "DEBUG:openmmtools.multistate.multistateanalyzer:dDeltaf_ij:\n",
      "DEBUG:openmmtools.multistate.multistateanalyzer:   0.000   0.000   0.028   0.048   0.065   0.082   0.097   0.110   0.121   0.132   0.142   0.150\n",
      "DEBUG:openmmtools.multistate.multistateanalyzer:   0.000   0.000   0.028   0.048   0.065   0.082   0.097   0.110   0.121   0.132   0.142   0.150\n",
      "DEBUG:openmmtools.multistate.multistateanalyzer:   0.028   0.028   0.000   0.025   0.048   0.069   0.085   0.100   0.113   0.124   0.135   0.143\n",
      "DEBUG:openmmtools.multistate.multistateanalyzer:   0.048   0.048   0.025   0.000   0.027   0.053   0.073   0.089   0.103   0.116   0.127   0.136\n",
      "DEBUG:openmmtools.multistate.multistateanalyzer:   0.065   0.065   0.048   0.027   0.000   0.029   0.054   0.074   0.091   0.105   0.117   0.127\n",
      "DEBUG:openmmtools.multistate.multistateanalyzer:   0.082   0.082   0.069   0.053   0.029   0.000   0.029   0.054   0.074   0.091   0.105   0.116\n",
      "DEBUG:openmmtools.multistate.multistateanalyzer:   0.097   0.097   0.085   0.073   0.054   0.029   0.000   0.029   0.054   0.075   0.091   0.103\n",
      "DEBUG:openmmtools.multistate.multistateanalyzer:   0.110   0.110   0.100   0.089   0.074   0.054   0.029   0.000   0.028   0.054   0.074   0.089\n",
      "DEBUG:openmmtools.multistate.multistateanalyzer:   0.121   0.121   0.113   0.103   0.091   0.074   0.054   0.028   0.000   0.029   0.053   0.071\n",
      "DEBUG:openmmtools.multistate.multistateanalyzer:   0.132   0.132   0.124   0.116   0.105   0.091   0.075   0.054   0.029   0.000   0.027   0.050\n",
      "DEBUG:openmmtools.multistate.multistateanalyzer:   0.142   0.142   0.135   0.127   0.117   0.105   0.091   0.074   0.053   0.027   0.000   0.026\n",
      "DEBUG:openmmtools.multistate.multistateanalyzer:   0.150   0.150   0.143   0.136   0.127   0.116   0.103   0.089   0.071   0.050   0.026   0.000\n"
     ]
    },
    {
     "name": "stderr",
     "output_type": "stream",
     "text": [
      "WARNING:openmmtools.multistate.multistateanalyzer:Warning: The openmmtools.multistate API is experimental and may change in future releases\n",
      "DEBUG:openmmtools.multistate.multistateanalyzer:Checking if we need to unbias the restraint...\n",
      "DEBUG:openmmtools.multistate.multistateanalyzer:Trying to get radially symmetric restraint data...\n",
      "DEBUG:openmmtools.multistate.multistateanalyzer:Retrieving end thermodynamic states...\n",
      "DEBUG:openmmtools.multistate.multistateanalyzer:Isolating restraint force...\n",
      "DEBUG:openmmtools.multistate.multistateanalyzer:No force of type <class 'openmmtools.forces.RadiallySymmetricRestraintForce'> could be found. The restraint will not be unbiased.\n",
      "DEBUG:openmmtools.multistate.multistateanalyzer:Reading energies...\n",
      "DEBUG:openmmtools.multistate.multistatereporter:read_replica_thermodynamic_states: iteration = [   0    1    2 ...  998  999 1000]\n",
      "DEBUG:openmmtools.multistate.multistateanalyzer:Done.\n",
      "DEBUG:openmmtools.multistate.multistateanalyzer:Assembling effective timeseries...\n",
      "DEBUG:openmmtools.multistate.multistateanalyzer:Done.\n",
      "DEBUG:openmmtools.multistate.multistateanalyzer:Could not find t0: None of the requested keys could be found on disk!\n",
      "DEBUG:openmmtools.multistate.multistateanalyzer:Equilibration data:\n",
      "DEBUG:openmmtools.multistate.multistateanalyzer: number of iterations discarded to equilibration : 1\n",
      "DEBUG:openmmtools.multistate.multistateanalyzer: statistical inefficiency of production region   : 3.6475253105163574\n",
      "DEBUG:openmmtools.multistate.multistateanalyzer: effective number of uncorrelated samples        : 247.29095458984375\n",
      "DEBUG:openmmtools.multistate.multistateanalyzer:Assembling uncorrelated energies...\n",
      "DEBUG:openmmtools.multistate.multistateanalyzer:Done.\n",
      "DEBUG:openmmtools.multistate.multistateanalyzer:Computing free energy differences...\n",
      "DEBUG:openmmtools.multistate.multistateanalyzer:Done.\n",
      "DEBUG:openmmtools.multistate.multistateanalyzer:Computing covariance matrix...\n",
      "DEBUG:openmmtools.multistate.multistateanalyzer:Deltaf_ij:\n",
      "DEBUG:openmmtools.multistate.multistateanalyzer:   0.000   0.000   1.376   2.722   2.941   1.846  -0.667  -4.718 -10.483 -18.157 -27.822 -39.403\n",
      "DEBUG:openmmtools.multistate.multistateanalyzer:   0.000   0.000   1.376   2.722   2.941   1.846  -0.667  -4.718 -10.483 -18.157 -27.822 -39.403\n",
      "DEBUG:openmmtools.multistate.multistateanalyzer:  -1.376  -1.376   0.000   1.346   1.565   0.470  -2.043  -6.094 -11.859 -19.533 -29.198 -40.779\n",
      "DEBUG:openmmtools.multistate.multistateanalyzer:  -2.722  -2.722  -1.346   0.000   0.219  -0.876  -3.390  -7.440 -13.205 -20.880 -30.545 -42.125\n",
      "DEBUG:openmmtools.multistate.multistateanalyzer:  -2.941  -2.941  -1.565  -0.219   0.000  -1.094  -3.608  -7.659 -13.424 -21.098 -30.763 -42.343\n",
      "DEBUG:openmmtools.multistate.multistateanalyzer:  -1.846  -1.846  -0.470   0.876   1.094   0.000  -2.514  -6.564 -12.330 -20.004 -29.669 -41.249\n",
      "DEBUG:openmmtools.multistate.multistateanalyzer:   0.667   0.667   2.043   3.390   3.608   2.514   0.000  -4.050  -9.816 -17.490 -27.155 -38.735\n",
      "DEBUG:openmmtools.multistate.multistateanalyzer:   4.718   4.718   6.094   7.440   7.659   6.564   4.050   0.000  -5.766 -13.440 -23.105 -34.685\n",
      "DEBUG:openmmtools.multistate.multistateanalyzer:  10.483  10.483  11.859  13.205  13.424  12.330   9.816   5.766   0.000  -7.674 -17.339 -28.919\n",
      "DEBUG:openmmtools.multistate.multistateanalyzer:  18.157  18.157  19.533  20.880  21.098  20.004  17.490  13.440   7.674   0.000  -9.665 -21.245\n",
      "DEBUG:openmmtools.multistate.multistateanalyzer:  27.822  27.822  29.198  30.545  30.763  29.669  27.155  23.105  17.339   9.665   0.000 -11.580\n",
      "DEBUG:openmmtools.multistate.multistateanalyzer:  39.403  39.403  40.779  42.125  42.343  41.249  38.735  34.685  28.919  21.245  11.580   0.000\n",
      "DEBUG:openmmtools.multistate.multistateanalyzer:dDeltaf_ij:\n",
      "DEBUG:openmmtools.multistate.multistateanalyzer:   0.000   0.000   0.026   0.043   0.060   0.076   0.089   0.102   0.114   0.125   0.135   0.143\n",
      "DEBUG:openmmtools.multistate.multistateanalyzer:   0.000   0.000   0.026   0.043   0.060   0.076   0.089   0.102   0.114   0.125   0.135   0.143\n",
      "DEBUG:openmmtools.multistate.multistateanalyzer:   0.026   0.026   0.000   0.022   0.044   0.063   0.079   0.093   0.106   0.118   0.128   0.137\n",
      "DEBUG:openmmtools.multistate.multistateanalyzer:   0.043   0.043   0.022   0.000   0.026   0.049   0.068   0.084   0.098   0.111   0.122   0.131\n",
      "DEBUG:openmmtools.multistate.multistateanalyzer:   0.060   0.060   0.044   0.026   0.000   0.027   0.051   0.070   0.087   0.101   0.112   0.122\n",
      "DEBUG:openmmtools.multistate.multistateanalyzer:   0.076   0.076   0.063   0.049   0.027   0.000   0.028   0.052   0.072   0.088   0.101   0.112\n",
      "DEBUG:openmmtools.multistate.multistateanalyzer:   0.089   0.089   0.079   0.068   0.051   0.028   0.000   0.028   0.053   0.073   0.088   0.101\n",
      "DEBUG:openmmtools.multistate.multistateanalyzer:   0.102   0.102   0.093   0.084   0.070   0.052   0.028   0.000   0.028   0.053   0.072   0.087\n",
      "DEBUG:openmmtools.multistate.multistateanalyzer:   0.114   0.114   0.106   0.098   0.087   0.072   0.053   0.028   0.000   0.028   0.051   0.069\n",
      "DEBUG:openmmtools.multistate.multistateanalyzer:   0.125   0.125   0.118   0.111   0.101   0.088   0.073   0.053   0.028   0.000   0.026   0.048\n",
      "DEBUG:openmmtools.multistate.multistateanalyzer:   0.135   0.135   0.128   0.122   0.112   0.101   0.088   0.072   0.051   0.026   0.000   0.025\n",
      "DEBUG:openmmtools.multistate.multistateanalyzer:   0.143   0.143   0.137   0.131   0.122   0.112   0.101   0.087   0.069   0.048   0.025   0.000\n",
      "WARNING:openmmtools.multistate.multistateanalyzer:Warning: The openmmtools.multistate API is experimental and may change in future releases\n",
      "DEBUG:openmmtools.multistate.multistateanalyzer:Checking if we need to unbias the restraint...\n",
      "DEBUG:openmmtools.multistate.multistateanalyzer:Trying to get radially symmetric restraint data...\n",
      "DEBUG:openmmtools.multistate.multistateanalyzer:Retrieving end thermodynamic states...\n",
      "DEBUG:openmmtools.multistate.multistateanalyzer:Isolating restraint force...\n",
      "DEBUG:openmmtools.multistate.multistateanalyzer:No force of type <class 'openmmtools.forces.RadiallySymmetricRestraintForce'> could be found. The restraint will not be unbiased.\n",
      "DEBUG:openmmtools.multistate.multistateanalyzer:Reading energies...\n",
      "DEBUG:openmmtools.multistate.multistatereporter:read_replica_thermodynamic_states: iteration = [   0    1    2 ...  998  999 1000]\n",
      "DEBUG:openmmtools.multistate.multistateanalyzer:Done.\n",
      "DEBUG:openmmtools.multistate.multistateanalyzer:Assembling effective timeseries...\n",
      "DEBUG:openmmtools.multistate.multistateanalyzer:Done.\n",
      "DEBUG:openmmtools.multistate.multistateanalyzer:Could not find t0: None of the requested keys could be found on disk!\n",
      "DEBUG:openmmtools.multistate.multistateanalyzer:Equilibration data:\n",
      "DEBUG:openmmtools.multistate.multistateanalyzer: number of iterations discarded to equilibration : 1\n",
      "DEBUG:openmmtools.multistate.multistateanalyzer: statistical inefficiency of production region   : 3.6277966499328613\n",
      "DEBUG:openmmtools.multistate.multistateanalyzer: effective number of uncorrelated samples        : 275.925048828125\n",
      "DEBUG:openmmtools.multistate.multistateanalyzer:Assembling uncorrelated energies...\n",
      "DEBUG:openmmtools.multistate.multistateanalyzer:Done.\n",
      "DEBUG:openmmtools.multistate.multistateanalyzer:Computing free energy differences...\n",
      "DEBUG:openmmtools.multistate.multistateanalyzer:Done.\n",
      "DEBUG:openmmtools.multistate.multistateanalyzer:Computing covariance matrix...\n",
      "DEBUG:openmmtools.multistate.multistateanalyzer:Deltaf_ij:\n",
      "DEBUG:openmmtools.multistate.multistateanalyzer:   0.000   0.000   1.380   2.725   2.918   1.813  -0.728  -4.863 -10.718 -18.428 -28.096 -39.686\n",
      "DEBUG:openmmtools.multistate.multistateanalyzer:   0.000   0.000   1.380   2.725   2.918   1.813  -0.728  -4.863 -10.718 -18.428 -28.096 -39.686\n",
      "DEBUG:openmmtools.multistate.multistateanalyzer:  -1.380  -1.380   0.000   1.346   1.538   0.433  -2.108  -6.242 -12.098 -19.807 -29.476 -41.066\n",
      "DEBUG:openmmtools.multistate.multistateanalyzer:  -2.725  -2.725  -1.346   0.000   0.192  -0.912  -3.453  -7.588 -13.443 -21.153 -30.822 -42.412\n",
      "DEBUG:openmmtools.multistate.multistateanalyzer:  -2.918  -2.918  -1.538  -0.192   0.000  -1.105  -3.646  -7.780 -13.636 -21.345 -31.014 -42.604\n"
     ]
    },
    {
     "name": "stderr",
     "output_type": "stream",
     "text": [
      "DEBUG:openmmtools.multistate.multistateanalyzer:  -1.813  -1.813  -0.433   0.912   1.105   0.000  -2.541  -6.676 -12.531 -20.241 -29.910 -41.499\n",
      "DEBUG:openmmtools.multistate.multistateanalyzer:   0.728   0.728   2.108   3.453   3.646   2.541   0.000  -4.135  -9.990 -17.700 -27.368 -38.958\n",
      "DEBUG:openmmtools.multistate.multistateanalyzer:   4.863   4.863   6.242   7.588   7.780   6.676   4.135   0.000  -5.855 -13.565 -23.234 -34.824\n",
      "DEBUG:openmmtools.multistate.multistateanalyzer:  10.718  10.718  12.098  13.443  13.636  12.531   9.990   5.855   0.000  -7.710 -17.378 -28.968\n",
      "DEBUG:openmmtools.multistate.multistateanalyzer:  18.428  18.428  19.807  21.153  21.345  20.241  17.700  13.565   7.710   0.000  -9.669 -21.259\n",
      "DEBUG:openmmtools.multistate.multistateanalyzer:  28.096  28.096  29.476  30.822  31.014  29.910  27.368  23.234  17.378   9.669   0.000 -11.590\n",
      "DEBUG:openmmtools.multistate.multistateanalyzer:  39.686  39.686  41.066  42.412  42.604  41.499  38.958  34.824  28.968  21.259  11.590   0.000\n",
      "DEBUG:openmmtools.multistate.multistateanalyzer:dDeltaf_ij:\n",
      "DEBUG:openmmtools.multistate.multistateanalyzer:   0.000   0.000   0.024   0.042   0.059   0.073   0.087   0.099   0.110   0.119   0.128   0.136\n",
      "DEBUG:openmmtools.multistate.multistateanalyzer:   0.000   0.000   0.024   0.042   0.059   0.073   0.087   0.099   0.110   0.119   0.128   0.136\n",
      "DEBUG:openmmtools.multistate.multistateanalyzer:   0.024   0.024   0.000   0.022   0.043   0.061   0.077   0.090   0.102   0.112   0.121   0.130\n",
      "DEBUG:openmmtools.multistate.multistateanalyzer:   0.042   0.042   0.022   0.000   0.024   0.046   0.065   0.081   0.094   0.104   0.114   0.123\n",
      "DEBUG:openmmtools.multistate.multistateanalyzer:   0.059   0.059   0.043   0.024   0.000   0.026   0.049   0.068   0.083   0.095   0.106   0.115\n",
      "DEBUG:openmmtools.multistate.multistateanalyzer:   0.073   0.073   0.061   0.046   0.026   0.000   0.027   0.051   0.069   0.083   0.095   0.105\n",
      "DEBUG:openmmtools.multistate.multistateanalyzer:   0.087   0.087   0.077   0.065   0.049   0.027   0.000   0.027   0.049   0.067   0.081   0.093\n",
      "DEBUG:openmmtools.multistate.multistateanalyzer:   0.099   0.099   0.090   0.081   0.068   0.051   0.027   0.000   0.025   0.048   0.066   0.080\n",
      "DEBUG:openmmtools.multistate.multistateanalyzer:   0.110   0.110   0.102   0.094   0.083   0.069   0.049   0.025   0.000   0.025   0.047   0.065\n",
      "DEBUG:openmmtools.multistate.multistateanalyzer:   0.119   0.119   0.112   0.104   0.095   0.083   0.067   0.048   0.025   0.000   0.025   0.046\n",
      "DEBUG:openmmtools.multistate.multistateanalyzer:   0.128   0.128   0.121   0.114   0.106   0.095   0.081   0.066   0.047   0.025   0.000   0.025\n",
      "DEBUG:openmmtools.multistate.multistateanalyzer:   0.136   0.136   0.130   0.123   0.115   0.105   0.093   0.080   0.065   0.046   0.025   0.000\n"
     ]
    },
    {
     "name": "stdout",
     "output_type": "stream",
     "text": [
      "Neff:  [ 942.63434613  942.63434613 1252.68538116 1285.60702145 1232.42529912\n",
      " 1205.88809235 1198.63108508 1197.36783955 1210.11943195 1191.22879754\n",
      "  987.76618229  635.48511026]\n"
     ]
    }
   ],
   "source": [
    "output_dir = f'/data/chodera/zhangi/perses_benchmark/repex/{main_dir}/{sub_dir}/{chunk}/'\n",
    "\n",
    "print(\"analyzing apo\")\n",
    "apo_path = os.path.join(output_dir, f\"{chunk}_apo.nc\")\n",
    "apo_dg, apo_ddg, f_ij, df_ij = analyze_dom(apo_path)\n",
    "\n",
    "results = np.array([apo_dg, apo_ddg])\n",
    "with open(f'/data/chodera/zhangi/perses_benchmark/repex/{main_dir}/{sub_dir}/{chunk}/results_apo.npy', 'wb') as f:\n",
    "    np.save(f, results)\n",
    "\n",
    "with open(f'/data/chodera/zhangi/perses_benchmark/repex/{main_dir}/{sub_dir}/{chunk}/f_ij_apo.npy', 'wb') as f:\n",
    "    np.save(f, f_ij)"
   ]
  },
  {
   "cell_type": "code",
   "execution_count": 8,
   "metadata": {
    "scrolled": true
   },
   "outputs": [
    {
     "data": {
      "text/plain": [
       "array([-41.68079064, -40.38359695, -39.66423092, -39.54644273,\n",
       "       -40.04821081, -39.96491959, -39.33865009, -39.6915149 ,\n",
       "       -39.63171788, -39.40257484, -39.68640838])"
      ]
     },
     "execution_count": 8,
     "metadata": {},
     "output_type": "execute_result"
    }
   ],
   "source": [
    "apo_dg"
   ]
  },
  {
   "cell_type": "code",
   "execution_count": 9,
   "metadata": {
    "scrolled": true
   },
   "outputs": [
    {
     "name": "stdout",
     "output_type": "stream",
     "text": [
      "11 apo: -39.68640838494703 (0.13567998280885296) kT\n",
      "\n"
     ]
    }
   ],
   "source": [
    "# Read the dicts in and compute free energies (kT)\n",
    "d_results = {}\n",
    "with open(f\"/data/chodera/zhangi/perses_benchmark/repex/{main_dir}/{sub_dir}/{chunk}/results_apo.npy\", \"rb\") as f:\n",
    "    results = np.load(f, allow_pickle=True)\n",
    "    d_results[chunk] = results\n",
    "    apo_dg, apo_ddg = [result[-1] for result in results]\n",
    "    print(f\"{chunk} apo: {apo_dg} ({apo_ddg}) kT\")\n",
    "    print()\n"
   ]
  },
  {
   "cell_type": "code",
   "execution_count": 10,
   "metadata": {},
   "outputs": [
    {
     "name": "stderr",
     "output_type": "stream",
     "text": [
      "DEBUG:matplotlib.font_manager:findfont: Matching sans\\-serif:style=normal:variant=normal:weight=normal:stretch=normal:size=10.0.\n",
      "DEBUG:matplotlib.font_manager:findfont: score(<Font 'cmb10' (cmb10.ttf) normal normal 400 normal>) = 10.05\n",
      "DEBUG:matplotlib.font_manager:findfont: score(<Font 'DejaVu Sans Mono' (DejaVuSansMono-Oblique.ttf) oblique normal 400 normal>) = 11.05\n",
      "DEBUG:matplotlib.font_manager:findfont: score(<Font 'STIXGeneral' (STIXGeneral.ttf) normal normal 400 normal>) = 10.05\n",
      "DEBUG:matplotlib.font_manager:findfont: score(<Font 'cmtt10' (cmtt10.ttf) normal normal 400 normal>) = 10.05\n",
      "DEBUG:matplotlib.font_manager:findfont: score(<Font 'DejaVu Sans Display' (DejaVuSansDisplay.ttf) normal normal 400 normal>) = 10.05\n",
      "DEBUG:matplotlib.font_manager:findfont: score(<Font 'STIXSizeFourSym' (STIXSizFourSymReg.ttf) normal normal 400 normal>) = 10.05\n",
      "DEBUG:matplotlib.font_manager:findfont: score(<Font 'cmss10' (cmss10.ttf) normal normal 400 normal>) = 10.05\n",
      "DEBUG:matplotlib.font_manager:findfont: score(<Font 'cmsy10' (cmsy10.ttf) normal normal 400 normal>) = 10.05\n",
      "DEBUG:matplotlib.font_manager:findfont: score(<Font 'DejaVu Serif' (DejaVuSerif.ttf) normal normal 400 normal>) = 10.05\n",
      "DEBUG:matplotlib.font_manager:findfont: score(<Font 'STIXSizeFourSym' (STIXSizFourSymBol.ttf) normal normal 700 normal>) = 10.335\n",
      "DEBUG:matplotlib.font_manager:findfont: score(<Font 'DejaVu Serif Display' (DejaVuSerifDisplay.ttf) normal normal 400 normal>) = 10.05\n",
      "DEBUG:matplotlib.font_manager:findfont: score(<Font 'STIXSizeThreeSym' (STIXSizThreeSymReg.ttf) normal normal 400 normal>) = 10.05\n",
      "DEBUG:matplotlib.font_manager:findfont: score(<Font 'STIXGeneral' (STIXGeneralItalic.ttf) italic normal 400 normal>) = 11.05\n",
      "DEBUG:matplotlib.font_manager:findfont: score(<Font 'STIXSizeOneSym' (STIXSizOneSymReg.ttf) normal normal 400 normal>) = 10.05\n",
      "DEBUG:matplotlib.font_manager:findfont: score(<Font 'DejaVu Sans Mono' (DejaVuSansMono-BoldOblique.ttf) oblique normal 700 normal>) = 11.335\n",
      "DEBUG:matplotlib.font_manager:findfont: score(<Font 'DejaVu Sans' (DejaVuSans-Oblique.ttf) oblique normal 400 normal>) = 1.05\n",
      "DEBUG:matplotlib.font_manager:findfont: score(<Font 'DejaVu Sans' (DejaVuSans-BoldOblique.ttf) oblique normal 700 normal>) = 1.335\n",
      "DEBUG:matplotlib.font_manager:findfont: score(<Font 'DejaVu Sans Mono' (DejaVuSansMono.ttf) normal normal 400 normal>) = 10.05\n",
      "DEBUG:matplotlib.font_manager:findfont: score(<Font 'STIXSizeTwoSym' (STIXSizTwoSymReg.ttf) normal normal 400 normal>) = 10.05\n",
      "DEBUG:matplotlib.font_manager:findfont: score(<Font 'cmr10' (cmr10.ttf) normal normal 400 normal>) = 10.05\n",
      "DEBUG:matplotlib.font_manager:findfont: score(<Font 'STIXNonUnicode' (STIXNonUniIta.ttf) italic normal 400 normal>) = 11.05\n",
      "DEBUG:matplotlib.font_manager:findfont: score(<Font 'STIXGeneral' (STIXGeneralBolIta.ttf) italic normal 700 normal>) = 11.335\n",
      "DEBUG:matplotlib.font_manager:findfont: score(<Font 'DejaVu Serif' (DejaVuSerif-Bold.ttf) normal normal 700 normal>) = 10.335\n",
      "DEBUG:matplotlib.font_manager:findfont: score(<Font 'DejaVu Serif' (DejaVuSerif-Italic.ttf) italic normal 400 normal>) = 11.05\n",
      "DEBUG:matplotlib.font_manager:findfont: score(<Font 'STIXNonUnicode' (STIXNonUniBolIta.ttf) italic normal 700 normal>) = 11.335\n",
      "DEBUG:matplotlib.font_manager:findfont: score(<Font 'STIXSizeTwoSym' (STIXSizTwoSymBol.ttf) normal normal 700 normal>) = 10.335\n",
      "DEBUG:matplotlib.font_manager:findfont: score(<Font 'DejaVu Serif' (DejaVuSerif-BoldItalic.ttf) italic normal 700 normal>) = 11.335\n",
      "DEBUG:matplotlib.font_manager:findfont: score(<Font 'STIXNonUnicode' (STIXNonUni.ttf) normal normal 400 normal>) = 10.05\n",
      "DEBUG:matplotlib.font_manager:findfont: score(<Font 'DejaVu Sans' (DejaVuSans-Bold.ttf) normal normal 700 normal>) = 0.33499999999999996\n",
      "DEBUG:matplotlib.font_manager:findfont: score(<Font 'STIXSizeOneSym' (STIXSizOneSymBol.ttf) normal normal 700 normal>) = 10.335\n",
      "DEBUG:matplotlib.font_manager:findfont: score(<Font 'DejaVu Sans Mono' (DejaVuSansMono-Bold.ttf) normal normal 700 normal>) = 10.335\n",
      "DEBUG:matplotlib.font_manager:findfont: score(<Font 'STIXSizeThreeSym' (STIXSizThreeSymBol.ttf) normal normal 700 normal>) = 10.335\n",
      "DEBUG:matplotlib.font_manager:findfont: score(<Font 'cmmi10' (cmmi10.ttf) normal normal 400 normal>) = 10.05\n",
      "DEBUG:matplotlib.font_manager:findfont: score(<Font 'STIXSizeFiveSym' (STIXSizFiveSymReg.ttf) normal normal 400 normal>) = 10.05\n",
      "DEBUG:matplotlib.font_manager:findfont: score(<Font 'DejaVu Sans' (DejaVuSans.ttf) normal normal 400 normal>) = 0.05\n",
      "DEBUG:matplotlib.font_manager:findfont: score(<Font 'STIXGeneral' (STIXGeneralBol.ttf) normal normal 700 normal>) = 10.335\n",
      "DEBUG:matplotlib.font_manager:findfont: score(<Font 'cmex10' (cmex10.ttf) normal normal 400 normal>) = 10.05\n",
      "DEBUG:matplotlib.font_manager:findfont: score(<Font 'STIXNonUnicode' (STIXNonUniBol.ttf) normal normal 700 normal>) = 10.335\n",
      "DEBUG:matplotlib.font_manager:findfont: score(<Font 'DejaVu Sans Mono' (DejaVuSansMono-Oblique.ttf) oblique normal 400 normal>) = 11.05\n",
      "DEBUG:matplotlib.font_manager:findfont: score(<Font 'DejaVu Sans Mono' (DejaVuSansMono-Bold.ttf) normal normal 700 normal>) = 10.335\n",
      "DEBUG:matplotlib.font_manager:findfont: score(<Font 'DejaVu Sans' (DejaVuSans-ExtraLight.ttf) normal normal 200 normal>) = 0.24\n",
      "DEBUG:matplotlib.font_manager:findfont: score(<Font 'STIX' (STIX-BoldItalic.otf) italic normal 700 normal>) = 11.335\n",
      "DEBUG:matplotlib.font_manager:findfont: score(<Font 'DejaVu Sans Mono' (DejaVuSansMono-BoldOblique.ttf) oblique normal 700 normal>) = 11.335\n",
      "DEBUG:matplotlib.font_manager:findfont: score(<Font 'Liberation Sans' (LiberationSans-BoldItalic.ttf) italic normal 700 normal>) = 11.335\n",
      "DEBUG:matplotlib.font_manager:findfont: score(<Font 'DejaVu Sans' (DejaVuSansCondensed.ttf) normal normal 400 condensed>) = 0.25\n",
      "DEBUG:matplotlib.font_manager:findfont: score(<Font 'DejaVu Sans' (DejaVuSans-BoldOblique.ttf) oblique normal 700 normal>) = 1.335\n",
      "DEBUG:matplotlib.font_manager:findfont: score(<Font 'DejaVu Sans' (DejaVuSans.ttf) normal normal 400 normal>) = 0.05\n",
      "DEBUG:matplotlib.font_manager:findfont: score(<Font 'Liberation Sans' (LiberationSans-Regular.ttf) normal normal 400 normal>) = 10.05\n",
      "DEBUG:matplotlib.font_manager:findfont: score(<Font 'STIX' (STIX-Regular.otf) normal normal 400 normal>) = 10.05\n",
      "DEBUG:matplotlib.font_manager:findfont: score(<Font 'Liberation Sans' (LiberationSans-Bold.ttf) normal normal 700 normal>) = 10.335\n",
      "DEBUG:matplotlib.font_manager:findfont: score(<Font 'STIX' (STIX-Italic.otf) italic normal 400 normal>) = 11.05\n",
      "DEBUG:matplotlib.font_manager:findfont: score(<Font 'DejaVu Sans' (DejaVuSans-Bold.ttf) normal normal 700 normal>) = 0.33499999999999996\n",
      "DEBUG:matplotlib.font_manager:findfont: score(<Font 'DejaVu Sans' (DejaVuSansCondensed-BoldOblique.ttf) oblique normal 700 condensed>) = 1.535\n",
      "DEBUG:matplotlib.font_manager:findfont: score(<Font 'DejaVu Sans' (DejaVuSansCondensed-Bold.ttf) normal normal 700 condensed>) = 0.5349999999999999\n",
      "DEBUG:matplotlib.font_manager:findfont: score(<Font 'DejaVu Sans' (DejaVuSansCondensed-Oblique.ttf) oblique normal 400 condensed>) = 1.25\n",
      "DEBUG:matplotlib.font_manager:findfont: score(<Font 'STIX' (STIX-Bold.otf) normal normal 700 normal>) = 10.335\n",
      "DEBUG:matplotlib.font_manager:findfont: score(<Font 'DejaVu Sans Mono' (DejaVuSansMono.ttf) normal normal 400 normal>) = 10.05\n",
      "DEBUG:matplotlib.font_manager:findfont: score(<Font 'DejaVu Sans' (DejaVuSans-Oblique.ttf) oblique normal 400 normal>) = 1.05\n",
      "DEBUG:matplotlib.font_manager:findfont: score(<Font 'Liberation Sans' (LiberationSans-Italic.ttf) italic normal 400 normal>) = 11.05\n",
      "DEBUG:matplotlib.font_manager:findfont: Matching sans\\-serif:style=normal:variant=normal:weight=normal:stretch=normal:size=10.0 to DejaVu Sans ('/home/zhangi/miniconda3/envs/perses-rest-over-protocol/lib/python3.8/site-packages/matplotlib/mpl-data/fonts/ttf/DejaVuSans.ttf') with score of 0.050000.\n",
      "DEBUG:matplotlib.axes._base:top of axes not in the figure, so title not moved\n",
      "DEBUG:matplotlib.axes._base:top of axes not in the figure, so title not moved\n",
      "DEBUG:matplotlib.axes._base:top of axes not in the figure, so title not moved\n",
      "DEBUG:matplotlib.axes._base:top of axes not in the figure, so title not moved\n"
     ]
    },
    {
     "name": "stderr",
     "output_type": "stream",
     "text": [
      "DEBUG:matplotlib.axes._base:top of axes not in the figure, so title not moved\n",
      "DEBUG:matplotlib.axes._base:top of axes not in the figure, so title not moved\n",
      "DEBUG:matplotlib.axes._base:top of axes not in the figure, so title not moved\n",
      "DEBUG:matplotlib.axes._base:top of axes not in the figure, so title not moved\n",
      "DEBUG:matplotlib.axes._base:top of axes not in the figure, so title not moved\n",
      "DEBUG:matplotlib.axes._base:top of axes not in the figure, so title not moved\n",
      "DEBUG:matplotlib.axes._base:top of axes not in the figure, so title not moved\n",
      "DEBUG:matplotlib.axes._base:top of axes not in the figure, so title not moved\n",
      "DEBUG:matplotlib.axes._base:top of axes not in the figure, so title not moved\n",
      "DEBUG:matplotlib.axes._base:top of axes not in the figure, so title not moved\n",
      "DEBUG:matplotlib.axes._base:top of axes not in the figure, so title not moved\n",
      "DEBUG:matplotlib.axes._base:top of axes not in the figure, so title not moved\n",
      "DEBUG:matplotlib.axes._base:top of axes not in the figure, so title not moved\n",
      "DEBUG:matplotlib.axes._base:top of axes not in the figure, so title not moved\n",
      "DEBUG:matplotlib.axes._base:top of axes not in the figure, so title not moved\n",
      "DEBUG:matplotlib.axes._base:top of axes not in the figure, so title not moved\n",
      "DEBUG:matplotlib.axes._base:top of axes not in the figure, so title not moved\n",
      "DEBUG:matplotlib.axes._base:top of axes not in the figure, so title not moved\n",
      "DEBUG:matplotlib.axes._base:top of axes not in the figure, so title not moved\n",
      "DEBUG:matplotlib.axes._base:top of axes not in the figure, so title not moved\n",
      "DEBUG:matplotlib.axes._base:top of axes not in the figure, so title not moved\n",
      "DEBUG:matplotlib.axes._base:top of axes not in the figure, so title not moved\n",
      "DEBUG:matplotlib.axes._base:top of axes not in the figure, so title not moved\n",
      "DEBUG:matplotlib.axes._base:top of axes not in the figure, so title not moved\n",
      "DEBUG:matplotlib.axes._base:top of axes not in the figure, so title not moved\n",
      "DEBUG:matplotlib.axes._base:top of axes not in the figure, so title not moved\n",
      "DEBUG:matplotlib.axes._base:top of axes not in the figure, so title not moved\n",
      "DEBUG:matplotlib.axes._base:top of axes not in the figure, so title not moved\n",
      "DEBUG:matplotlib.axes._base:top of axes not in the figure, so title not moved\n",
      "DEBUG:matplotlib.axes._base:top of axes not in the figure, so title not moved\n",
      "DEBUG:matplotlib.axes._base:top of axes not in the figure, so title not moved\n",
      "DEBUG:matplotlib.axes._base:top of axes not in the figure, so title not moved\n",
      "DEBUG:matplotlib.axes._base:top of axes not in the figure, so title not moved\n",
      "DEBUG:matplotlib.axes._base:top of axes not in the figure, so title not moved\n",
      "DEBUG:matplotlib.axes._base:top of axes not in the figure, so title not moved\n",
      "DEBUG:matplotlib.axes._base:top of axes not in the figure, so title not moved\n",
      "DEBUG:matplotlib.axes._base:top of axes not in the figure, so title not moved\n",
      "DEBUG:matplotlib.axes._base:top of axes not in the figure, so title not moved\n",
      "DEBUG:matplotlib.axes._base:top of axes not in the figure, so title not moved\n",
      "DEBUG:matplotlib.axes._base:top of axes not in the figure, so title not moved\n",
      "DEBUG:matplotlib.font_manager:findfont: Matching sans\\-serif:style=normal:variant=normal:weight=normal:stretch=normal:size=12.0.\n",
      "DEBUG:matplotlib.font_manager:findfont: score(<Font 'cmb10' (cmb10.ttf) normal normal 400 normal>) = 10.05\n",
      "DEBUG:matplotlib.font_manager:findfont: score(<Font 'DejaVu Sans Mono' (DejaVuSansMono-Oblique.ttf) oblique normal 400 normal>) = 11.05\n",
      "DEBUG:matplotlib.font_manager:findfont: score(<Font 'STIXGeneral' (STIXGeneral.ttf) normal normal 400 normal>) = 10.05\n",
      "DEBUG:matplotlib.font_manager:findfont: score(<Font 'cmtt10' (cmtt10.ttf) normal normal 400 normal>) = 10.05\n",
      "DEBUG:matplotlib.font_manager:findfont: score(<Font 'DejaVu Sans Display' (DejaVuSansDisplay.ttf) normal normal 400 normal>) = 10.05\n",
      "DEBUG:matplotlib.font_manager:findfont: score(<Font 'STIXSizeFourSym' (STIXSizFourSymReg.ttf) normal normal 400 normal>) = 10.05\n",
      "DEBUG:matplotlib.font_manager:findfont: score(<Font 'cmss10' (cmss10.ttf) normal normal 400 normal>) = 10.05\n",
      "DEBUG:matplotlib.font_manager:findfont: score(<Font 'cmsy10' (cmsy10.ttf) normal normal 400 normal>) = 10.05\n",
      "DEBUG:matplotlib.font_manager:findfont: score(<Font 'DejaVu Serif' (DejaVuSerif.ttf) normal normal 400 normal>) = 10.05\n",
      "DEBUG:matplotlib.font_manager:findfont: score(<Font 'STIXSizeFourSym' (STIXSizFourSymBol.ttf) normal normal 700 normal>) = 10.335\n",
      "DEBUG:matplotlib.font_manager:findfont: score(<Font 'DejaVu Serif Display' (DejaVuSerifDisplay.ttf) normal normal 400 normal>) = 10.05\n",
      "DEBUG:matplotlib.font_manager:findfont: score(<Font 'STIXSizeThreeSym' (STIXSizThreeSymReg.ttf) normal normal 400 normal>) = 10.05\n",
      "DEBUG:matplotlib.font_manager:findfont: score(<Font 'STIXGeneral' (STIXGeneralItalic.ttf) italic normal 400 normal>) = 11.05\n",
      "DEBUG:matplotlib.font_manager:findfont: score(<Font 'STIXSizeOneSym' (STIXSizOneSymReg.ttf) normal normal 400 normal>) = 10.05\n",
      "DEBUG:matplotlib.font_manager:findfont: score(<Font 'DejaVu Sans Mono' (DejaVuSansMono-BoldOblique.ttf) oblique normal 700 normal>) = 11.335\n",
      "DEBUG:matplotlib.font_manager:findfont: score(<Font 'DejaVu Sans' (DejaVuSans-Oblique.ttf) oblique normal 400 normal>) = 1.05\n",
      "DEBUG:matplotlib.font_manager:findfont: score(<Font 'DejaVu Sans' (DejaVuSans-BoldOblique.ttf) oblique normal 700 normal>) = 1.335\n",
      "DEBUG:matplotlib.font_manager:findfont: score(<Font 'DejaVu Sans Mono' (DejaVuSansMono.ttf) normal normal 400 normal>) = 10.05\n",
      "DEBUG:matplotlib.font_manager:findfont: score(<Font 'STIXSizeTwoSym' (STIXSizTwoSymReg.ttf) normal normal 400 normal>) = 10.05\n",
      "DEBUG:matplotlib.font_manager:findfont: score(<Font 'cmr10' (cmr10.ttf) normal normal 400 normal>) = 10.05\n",
      "DEBUG:matplotlib.font_manager:findfont: score(<Font 'STIXNonUnicode' (STIXNonUniIta.ttf) italic normal 400 normal>) = 11.05\n",
      "DEBUG:matplotlib.font_manager:findfont: score(<Font 'STIXGeneral' (STIXGeneralBolIta.ttf) italic normal 700 normal>) = 11.335\n",
      "DEBUG:matplotlib.font_manager:findfont: score(<Font 'DejaVu Serif' (DejaVuSerif-Bold.ttf) normal normal 700 normal>) = 10.335\n",
      "DEBUG:matplotlib.font_manager:findfont: score(<Font 'DejaVu Serif' (DejaVuSerif-Italic.ttf) italic normal 400 normal>) = 11.05\n",
      "DEBUG:matplotlib.font_manager:findfont: score(<Font 'STIXNonUnicode' (STIXNonUniBolIta.ttf) italic normal 700 normal>) = 11.335\n",
      "DEBUG:matplotlib.font_manager:findfont: score(<Font 'STIXSizeTwoSym' (STIXSizTwoSymBol.ttf) normal normal 700 normal>) = 10.335\n",
      "DEBUG:matplotlib.font_manager:findfont: score(<Font 'DejaVu Serif' (DejaVuSerif-BoldItalic.ttf) italic normal 700 normal>) = 11.335\n",
      "DEBUG:matplotlib.font_manager:findfont: score(<Font 'STIXNonUnicode' (STIXNonUni.ttf) normal normal 400 normal>) = 10.05\n",
      "DEBUG:matplotlib.font_manager:findfont: score(<Font 'DejaVu Sans' (DejaVuSans-Bold.ttf) normal normal 700 normal>) = 0.33499999999999996\n",
      "DEBUG:matplotlib.font_manager:findfont: score(<Font 'STIXSizeOneSym' (STIXSizOneSymBol.ttf) normal normal 700 normal>) = 10.335\n",
      "DEBUG:matplotlib.font_manager:findfont: score(<Font 'DejaVu Sans Mono' (DejaVuSansMono-Bold.ttf) normal normal 700 normal>) = 10.335\n",
      "DEBUG:matplotlib.font_manager:findfont: score(<Font 'STIXSizeThreeSym' (STIXSizThreeSymBol.ttf) normal normal 700 normal>) = 10.335\n",
      "DEBUG:matplotlib.font_manager:findfont: score(<Font 'cmmi10' (cmmi10.ttf) normal normal 400 normal>) = 10.05\n",
      "DEBUG:matplotlib.font_manager:findfont: score(<Font 'STIXSizeFiveSym' (STIXSizFiveSymReg.ttf) normal normal 400 normal>) = 10.05\n",
      "DEBUG:matplotlib.font_manager:findfont: score(<Font 'DejaVu Sans' (DejaVuSans.ttf) normal normal 400 normal>) = 0.05\n",
      "DEBUG:matplotlib.font_manager:findfont: score(<Font 'STIXGeneral' (STIXGeneralBol.ttf) normal normal 700 normal>) = 10.335\n",
      "DEBUG:matplotlib.font_manager:findfont: score(<Font 'cmex10' (cmex10.ttf) normal normal 400 normal>) = 10.05\n",
      "DEBUG:matplotlib.font_manager:findfont: score(<Font 'STIXNonUnicode' (STIXNonUniBol.ttf) normal normal 700 normal>) = 10.335\n",
      "DEBUG:matplotlib.font_manager:findfont: score(<Font 'DejaVu Sans Mono' (DejaVuSansMono-Oblique.ttf) oblique normal 400 normal>) = 11.05\n",
      "DEBUG:matplotlib.font_manager:findfont: score(<Font 'DejaVu Sans Mono' (DejaVuSansMono-Bold.ttf) normal normal 700 normal>) = 10.335\n"
     ]
    },
    {
     "name": "stderr",
     "output_type": "stream",
     "text": [
      "DEBUG:matplotlib.font_manager:findfont: score(<Font 'DejaVu Sans' (DejaVuSans-ExtraLight.ttf) normal normal 200 normal>) = 0.24\n",
      "DEBUG:matplotlib.font_manager:findfont: score(<Font 'STIX' (STIX-BoldItalic.otf) italic normal 700 normal>) = 11.335\n",
      "DEBUG:matplotlib.font_manager:findfont: score(<Font 'DejaVu Sans Mono' (DejaVuSansMono-BoldOblique.ttf) oblique normal 700 normal>) = 11.335\n",
      "DEBUG:matplotlib.font_manager:findfont: score(<Font 'Liberation Sans' (LiberationSans-BoldItalic.ttf) italic normal 700 normal>) = 11.335\n",
      "DEBUG:matplotlib.font_manager:findfont: score(<Font 'DejaVu Sans' (DejaVuSansCondensed.ttf) normal normal 400 condensed>) = 0.25\n",
      "DEBUG:matplotlib.font_manager:findfont: score(<Font 'DejaVu Sans' (DejaVuSans-BoldOblique.ttf) oblique normal 700 normal>) = 1.335\n",
      "DEBUG:matplotlib.font_manager:findfont: score(<Font 'DejaVu Sans' (DejaVuSans.ttf) normal normal 400 normal>) = 0.05\n",
      "DEBUG:matplotlib.font_manager:findfont: score(<Font 'Liberation Sans' (LiberationSans-Regular.ttf) normal normal 400 normal>) = 10.05\n",
      "DEBUG:matplotlib.font_manager:findfont: score(<Font 'STIX' (STIX-Regular.otf) normal normal 400 normal>) = 10.05\n",
      "DEBUG:matplotlib.font_manager:findfont: score(<Font 'Liberation Sans' (LiberationSans-Bold.ttf) normal normal 700 normal>) = 10.335\n",
      "DEBUG:matplotlib.font_manager:findfont: score(<Font 'STIX' (STIX-Italic.otf) italic normal 400 normal>) = 11.05\n",
      "DEBUG:matplotlib.font_manager:findfont: score(<Font 'DejaVu Sans' (DejaVuSans-Bold.ttf) normal normal 700 normal>) = 0.33499999999999996\n",
      "DEBUG:matplotlib.font_manager:findfont: score(<Font 'DejaVu Sans' (DejaVuSansCondensed-BoldOblique.ttf) oblique normal 700 condensed>) = 1.535\n",
      "DEBUG:matplotlib.font_manager:findfont: score(<Font 'DejaVu Sans' (DejaVuSansCondensed-Bold.ttf) normal normal 700 condensed>) = 0.5349999999999999\n",
      "DEBUG:matplotlib.font_manager:findfont: score(<Font 'DejaVu Sans' (DejaVuSansCondensed-Oblique.ttf) oblique normal 400 condensed>) = 1.25\n",
      "DEBUG:matplotlib.font_manager:findfont: score(<Font 'STIX' (STIX-Bold.otf) normal normal 700 normal>) = 10.335\n",
      "DEBUG:matplotlib.font_manager:findfont: score(<Font 'DejaVu Sans Mono' (DejaVuSansMono.ttf) normal normal 400 normal>) = 10.05\n",
      "DEBUG:matplotlib.font_manager:findfont: score(<Font 'DejaVu Sans' (DejaVuSans-Oblique.ttf) oblique normal 400 normal>) = 1.05\n",
      "DEBUG:matplotlib.font_manager:findfont: score(<Font 'Liberation Sans' (LiberationSans-Italic.ttf) italic normal 400 normal>) = 11.05\n",
      "DEBUG:matplotlib.font_manager:findfont: Matching sans\\-serif:style=normal:variant=normal:weight=normal:stretch=normal:size=12.0 to DejaVu Sans ('/home/zhangi/miniconda3/envs/perses-rest-over-protocol/lib/python3.8/site-packages/matplotlib/mpl-data/fonts/ttf/DejaVuSans.ttf') with score of 0.050000.\n",
      "DEBUG:matplotlib.axes._base:top of axes not in the figure, so title not moved\n",
      "DEBUG:matplotlib.axes._base:top of axes not in the figure, so title not moved\n",
      "DEBUG:matplotlib.axes._base:top of axes not in the figure, so title not moved\n",
      "DEBUG:matplotlib.axes._base:top of axes not in the figure, so title not moved\n",
      "DEBUG:matplotlib.axes._base:top of axes not in the figure, so title not moved\n",
      "DEBUG:matplotlib.axes._base:top of axes not in the figure, so title not moved\n",
      "DEBUG:matplotlib.axes._base:top of axes not in the figure, so title not moved\n",
      "DEBUG:matplotlib.axes._base:top of axes not in the figure, so title not moved\n",
      "DEBUG:matplotlib.axes._base:top of axes not in the figure, so title not moved\n",
      "DEBUG:matplotlib.axes._base:top of axes not in the figure, so title not moved\n",
      "DEBUG:matplotlib.axes._base:top of axes not in the figure, so title not moved\n",
      "DEBUG:matplotlib.axes._base:top of axes not in the figure, so title not moved\n",
      "DEBUG:matplotlib.axes._base:top of axes not in the figure, so title not moved\n",
      "DEBUG:matplotlib.axes._base:top of axes not in the figure, so title not moved\n",
      "DEBUG:matplotlib.axes._base:top of axes not in the figure, so title not moved\n",
      "DEBUG:matplotlib.axes._base:top of axes not in the figure, so title not moved\n",
      "DEBUG:matplotlib.axes._base:top of axes not in the figure, so title not moved\n",
      "DEBUG:matplotlib.axes._base:top of axes not in the figure, so title not moved\n",
      "DEBUG:matplotlib.axes._base:top of axes not in the figure, so title not moved\n",
      "DEBUG:matplotlib.axes._base:top of axes not in the figure, so title not moved\n",
      "DEBUG:matplotlib.axes._base:top of axes not in the figure, so title not moved\n",
      "DEBUG:matplotlib.axes._base:top of axes not in the figure, so title not moved\n"
     ]
    },
    {
     "data": {
      "text/plain": [
       "<Figure size 1080x1728 with 0 Axes>"
      ]
     },
     "metadata": {},
     "output_type": "display_data"
    }
   ],
   "source": [
    "# Generate replica mixing plots\n",
    "path = f\"/data/chodera/zhangi/perses_benchmark/repex/32/{sub_dir}/{chunk}/{chunk}_apo.nc\"\n",
    "utils.plot_replica_mixing(path, title=f\"{titles[0]} apo replicate {chunk}\", filename=f\"{path[:-3]}_replicas_apo.png\")\n",
    "plt.clf()\n"
   ]
  },
  {
   "cell_type": "markdown",
   "metadata": {},
   "source": [
    "### 1 ns ala -> thr dipeptide in solvent (repex/32/3/14)"
   ]
  },
  {
   "cell_type": "code",
   "execution_count": 34,
   "metadata": {},
   "outputs": [],
   "source": [
    "_logger = logging.getLogger()\n",
    "_logger.setLevel(logging.INFO)"
   ]
  },
  {
   "cell_type": "code",
   "execution_count": 35,
   "metadata": {},
   "outputs": [],
   "source": [
    "main_dir = 32\n",
    "sub_dir = 3\n",
    "chunk = 14\n",
    "titles = ['ALA->THR']"
   ]
  },
  {
   "cell_type": "code",
   "execution_count": 36,
   "metadata": {
    "scrolled": true
   },
   "outputs": [
    {
     "name": "stderr",
     "output_type": "stream",
     "text": [
      "WARNING:openmmtools.multistate.multistatereporter:Warning: The openmmtools.multistate API is experimental and may change in future releases\n",
      "WARNING:openmmtools.multistate.multistateanalyzer:Warning: The openmmtools.multistate API is experimental and may change in future releases\n"
     ]
    },
    {
     "name": "stdout",
     "output_type": "stream",
     "text": [
      "analyzing apo\n",
      "n_iterations: 1000\n",
      "[1, 101, 201, 301, 401, 501, 601, 701, 801, 901]\n"
     ]
    },
    {
     "name": "stderr",
     "output_type": "stream",
     "text": [
      "WARNING:openmmtools.multistate.multistateanalyzer:Warning: The openmmtools.multistate API is experimental and may change in future releases\n",
      "WARNING:openmmtools.multistate.multistateanalyzer:Warning: The openmmtools.multistate API is experimental and may change in future releases\n",
      "WARNING:openmmtools.multistate.multistateanalyzer:Warning: The openmmtools.multistate API is experimental and may change in future releases\n",
      "WARNING:openmmtools.multistate.multistateanalyzer:Warning: The openmmtools.multistate API is experimental and may change in future releases\n",
      "WARNING:openmmtools.multistate.multistateanalyzer:Warning: The openmmtools.multistate API is experimental and may change in future releases\n",
      "WARNING:openmmtools.multistate.multistateanalyzer:Warning: The openmmtools.multistate API is experimental and may change in future releases\n",
      "WARNING:openmmtools.multistate.multistateanalyzer:Warning: The openmmtools.multistate API is experimental and may change in future releases\n",
      "WARNING:openmmtools.multistate.multistateanalyzer:Warning: The openmmtools.multistate API is experimental and may change in future releases\n",
      "WARNING:openmmtools.multistate.multistateanalyzer:Warning: The openmmtools.multistate API is experimental and may change in future releases\n",
      "WARNING:openmmtools.multistate.multistateanalyzer:Warning: The openmmtools.multistate API is experimental and may change in future releases\n"
     ]
    },
    {
     "name": "stdout",
     "output_type": "stream",
     "text": [
      "Neff:  [ 968.09334734  968.09334734 1247.77170262 1198.44754564 1137.41172023\n",
      " 1205.5723835  1082.74409193 1075.88363512 1205.04607182 1084.02073335\n",
      "  940.63368794  556.01519063]\n"
     ]
    }
   ],
   "source": [
    "output_dir = f'/data/chodera/zhangi/perses_benchmark/repex/{main_dir}/{sub_dir}/{chunk}/'\n",
    "\n",
    "print(\"analyzing apo\")\n",
    "apo_path = os.path.join(output_dir, f\"{chunk}_apo.nc\")\n",
    "apo_dg, apo_ddg, f_ij, df_ij = analyze_dom(apo_path)\n",
    "\n",
    "results = np.array([apo_dg, apo_ddg])\n",
    "with open(f'/data/chodera/zhangi/perses_benchmark/repex/{main_dir}/{sub_dir}/{chunk}/results_apo.npy', 'wb') as f:\n",
    "    np.save(f, results)\n",
    "\n",
    "with open(f'/data/chodera/zhangi/perses_benchmark/repex/{main_dir}/{sub_dir}/{chunk}/f_ij_apo.npy', 'wb') as f:\n",
    "    np.save(f, f_ij)"
   ]
  },
  {
   "cell_type": "code",
   "execution_count": 37,
   "metadata": {},
   "outputs": [
    {
     "data": {
      "text/plain": [
       "array([-47.3177203 , -43.37218716, -43.35641656, -43.62999496,\n",
       "       -43.51905877, -44.18810086, -44.0729309 , -44.29511314,\n",
       "       -43.9166326 , -44.20404716, -44.06659209])"
      ]
     },
     "execution_count": 37,
     "metadata": {},
     "output_type": "execute_result"
    }
   ],
   "source": [
    "apo_dg"
   ]
  },
  {
   "cell_type": "code",
   "execution_count": 38,
   "metadata": {
    "scrolled": true
   },
   "outputs": [
    {
     "name": "stdout",
     "output_type": "stream",
     "text": [
      "14 apo: -44.06659208782158 (0.15451317250114188) kT\n",
      "\n"
     ]
    }
   ],
   "source": [
    "# Read the dicts in and compute free energies (kT)\n",
    "d_results = {}\n",
    "with open(f\"/data/chodera/zhangi/perses_benchmark/repex/{main_dir}/{sub_dir}/{chunk}/results_apo.npy\", \"rb\") as f:\n",
    "    results = np.load(f, allow_pickle=True)\n",
    "    d_results[chunk] = results\n",
    "    apo_dg, apo_ddg = [result[-1] for result in results]\n",
    "    print(f\"{chunk} apo: {apo_dg} ({apo_ddg}) kT\")\n",
    "    print()\n"
   ]
  },
  {
   "cell_type": "code",
   "execution_count": 39,
   "metadata": {
    "scrolled": true
   },
   "outputs": [
    {
     "data": {
      "text/plain": [
       "<Figure size 1080x1728 with 0 Axes>"
      ]
     },
     "metadata": {},
     "output_type": "display_data"
    }
   ],
   "source": [
    "# Generate replica mixing plots\n",
    "path = f\"/data/chodera/zhangi/perses_benchmark/repex/32/{sub_dir}/{chunk}/{chunk}_apo.nc\"\n",
    "utils.plot_replica_mixing(path, title=f\"{titles[0]} apo replicate {chunk}\", filename=f\"{path[:-3]}_replicas_apo.png\")\n",
    "plt.clf()\n"
   ]
  },
  {
   "cell_type": "markdown",
   "metadata": {},
   "source": [
    "### 1 ns ala -> thr dipeptide in solvent (repex/32/3/15)"
   ]
  },
  {
   "cell_type": "code",
   "execution_count": 40,
   "metadata": {},
   "outputs": [],
   "source": [
    "_logger = logging.getLogger()\n",
    "_logger.setLevel(logging.INFO)"
   ]
  },
  {
   "cell_type": "code",
   "execution_count": 41,
   "metadata": {},
   "outputs": [],
   "source": [
    "main_dir = 32\n",
    "sub_dir = 3\n",
    "chunk = 15\n",
    "titles = ['ALA->THR']"
   ]
  },
  {
   "cell_type": "code",
   "execution_count": 42,
   "metadata": {
    "scrolled": true
   },
   "outputs": [
    {
     "name": "stderr",
     "output_type": "stream",
     "text": [
      "WARNING:openmmtools.multistate.multistatereporter:Warning: The openmmtools.multistate API is experimental and may change in future releases\n",
      "WARNING:openmmtools.multistate.multistateanalyzer:Warning: The openmmtools.multistate API is experimental and may change in future releases\n"
     ]
    },
    {
     "name": "stdout",
     "output_type": "stream",
     "text": [
      "analyzing apo\n",
      "n_iterations: 1000\n",
      "[1, 101, 201, 301, 401, 501, 601, 701, 801, 901]\n"
     ]
    },
    {
     "name": "stderr",
     "output_type": "stream",
     "text": [
      "WARNING:openmmtools.multistate.multistateanalyzer:Warning: The openmmtools.multistate API is experimental and may change in future releases\n",
      "WARNING:openmmtools.multistate.multistateanalyzer:Warning: The openmmtools.multistate API is experimental and may change in future releases\n",
      "WARNING:openmmtools.multistate.multistateanalyzer:Warning: The openmmtools.multistate API is experimental and may change in future releases\n",
      "WARNING:openmmtools.multistate.multistateanalyzer:Warning: The openmmtools.multistate API is experimental and may change in future releases\n",
      "WARNING:openmmtools.multistate.multistateanalyzer:Warning: The openmmtools.multistate API is experimental and may change in future releases\n",
      "WARNING:openmmtools.multistate.multistateanalyzer:Warning: The openmmtools.multistate API is experimental and may change in future releases\n",
      "WARNING:openmmtools.multistate.multistateanalyzer:Warning: The openmmtools.multistate API is experimental and may change in future releases\n",
      "WARNING:openmmtools.multistate.multistateanalyzer:Warning: The openmmtools.multistate API is experimental and may change in future releases\n",
      "WARNING:openmmtools.multistate.multistateanalyzer:Warning: The openmmtools.multistate API is experimental and may change in future releases\n",
      "WARNING:openmmtools.multistate.multistateanalyzer:Warning: The openmmtools.multistate API is experimental and may change in future releases\n"
     ]
    },
    {
     "name": "stdout",
     "output_type": "stream",
     "text": [
      "Neff:  [ 880.78391607  880.78391607 1005.30451338  833.43735974  780.91258745\n",
      "  900.91501262  830.0702225   835.52417838  886.35591071  773.37820237\n",
      "  731.24018282  470.02041325]\n"
     ]
    }
   ],
   "source": [
    "output_dir = f'/data/chodera/zhangi/perses_benchmark/repex/{main_dir}/{sub_dir}/{chunk}/'\n",
    "\n",
    "print(\"analyzing apo\")\n",
    "apo_path = os.path.join(output_dir, f\"{chunk}_apo.nc\")\n",
    "apo_dg, apo_ddg, f_ij, df_ij = analyze_dom(apo_path)\n",
    "\n",
    "results = np.array([apo_dg, apo_ddg])\n",
    "with open(f'/data/chodera/zhangi/perses_benchmark/repex/{main_dir}/{sub_dir}/{chunk}/results_apo.npy', 'wb') as f:\n",
    "    np.save(f, results)\n",
    "\n",
    "with open(f'/data/chodera/zhangi/perses_benchmark/repex/{main_dir}/{sub_dir}/{chunk}/f_ij_apo.npy', 'wb') as f:\n",
    "    np.save(f, f_ij)"
   ]
  },
  {
   "cell_type": "code",
   "execution_count": 43,
   "metadata": {},
   "outputs": [
    {
     "data": {
      "text/plain": [
       "array([-49.83333632, -48.15656732, -47.93998906, -47.89696911,\n",
       "       -47.64790886, -47.62094348, -47.76016091, -47.6266857 ,\n",
       "       -47.72759652, -47.71215575, -47.76295935])"
      ]
     },
     "execution_count": 43,
     "metadata": {},
     "output_type": "execute_result"
    }
   ],
   "source": [
    "apo_dg"
   ]
  },
  {
   "cell_type": "code",
   "execution_count": 44,
   "metadata": {
    "scrolled": true
   },
   "outputs": [
    {
     "name": "stdout",
     "output_type": "stream",
     "text": [
      "15 apo: -47.762959352696264 (0.19828567198889344) kT\n",
      "\n"
     ]
    }
   ],
   "source": [
    "# Read the dicts in and compute free energies (kT)\n",
    "d_results = {}\n",
    "with open(f\"/data/chodera/zhangi/perses_benchmark/repex/{main_dir}/{sub_dir}/{chunk}/results_apo.npy\", \"rb\") as f:\n",
    "    results = np.load(f, allow_pickle=True)\n",
    "    d_results[chunk] = results\n",
    "    apo_dg, apo_ddg = [result[-1] for result in results]\n",
    "    print(f\"{chunk} apo: {apo_dg} ({apo_ddg}) kT\")\n",
    "    print()\n"
   ]
  },
  {
   "cell_type": "code",
   "execution_count": 45,
   "metadata": {
    "scrolled": true
   },
   "outputs": [
    {
     "data": {
      "text/plain": [
       "<Figure size 1080x1728 with 0 Axes>"
      ]
     },
     "metadata": {},
     "output_type": "display_data"
    }
   ],
   "source": [
    "# Generate replica mixing plots\n",
    "path = f\"/data/chodera/zhangi/perses_benchmark/repex/32/{sub_dir}/{chunk}/{chunk}_apo.nc\"\n",
    "utils.plot_replica_mixing(path, title=f\"{titles[0]} apo replicate {chunk}\", filename=f\"{path[:-3]}_replicas_apo.png\")\n",
    "plt.clf()\n"
   ]
  },
  {
   "cell_type": "markdown",
   "metadata": {},
   "source": [
    "# Plot"
   ]
  },
  {
   "cell_type": "code",
   "execution_count": 46,
   "metadata": {},
   "outputs": [],
   "source": [
    "d_results = {}\n",
    "\n",
    "for chunk in [11, 14, 15]:\n",
    "    with open(f\"/data/chodera/zhangi/perses_benchmark/repex/{main_dir}/{sub_dir}/{chunk}/results_apo.npy\", \"rb\") as f:\n",
    "        results = np.load(f, allow_pickle=True)\n",
    "        d_results[chunk] = results"
   ]
  },
  {
   "cell_type": "code",
   "execution_count": 47,
   "metadata": {},
   "outputs": [],
   "source": [
    "def plot_series(d_results, phase, title):\n",
    "    fig, axes = plt.subplots(nrows=2, ncols=1, sharex='col', figsize=(10,2*3), squeeze=True)\n",
    "    labels = ['No REST', 'T_max = 600 K', 'T_max = 1200 K']\n",
    "    for i, r in enumerate(list(d_results.keys())):\n",
    "#         dg_discarded = dg[r][7:] # 7 * 200 = 1400 ps discarded\n",
    "#         ddg_discarded = ddg[r][7:]\n",
    "        dg_discarded = d_results[r][0]\n",
    "        ddg_discarded = d_results[r][1]\n",
    "\n",
    "        # dg\n",
    "        ax = axes[0]\n",
    "#         x = [(j)*.2 + 1.4 for j in range(len(dg_discarded))] # *.2 bc computing energy every 200 ps,  1.4 bc discarding first 1400 ps\n",
    "        x = np.array(range(len(dg_discarded)))/10 # *.2 bc computing energy every 200 ps,  1.4 bc discarding first 1400 ps\n",
    "        y = dg_discarded\n",
    "        ax.plot(x, y, label=f'{labels[i]}')\n",
    "        ax.fill_between(x, y - ddg_discarded, y + ddg_discarded, alpha=0.5)\n",
    "\n",
    "        # ddg\n",
    "        ax = axes[1]\n",
    "#         x = [(j)*.2 + 1.4 for j in range(len(ddg_discarded))]\n",
    "        x = np.array(range(len(ddg_discarded)))/10\n",
    "        y = ddg_discarded\n",
    "        ax.plot(x, y)\n",
    "\n",
    "#         # deviation from mean\n",
    "#         ax = axes[2]\n",
    "#         x = [(i)/20 + 1.5 for i in range(len(dg_discarded))]\n",
    "#         y = np.array(dg_discarded) - mean # Need to the average solvent dg across replicates\n",
    "#         ax.plot(x, y, color=sns.color_palette()[0])\n",
    "\n",
    "    axes[0].set_ylabel(\"dG (kT)\")\n",
    "    axes[1].set_ylabel(\"ddG (kT)\")\n",
    "#     axes[2].set_ylabel(\"ddG (kT)\")\n",
    "    axes[1].set_xlabel(\"$t_{repex}$ (ns)\")\n",
    "    \n",
    "    axes[0].set_title(f\"{title} {phase}\")\n",
    "    axes[0].legend()\n",
    "    axes[0].axhline(y=-39)\n",
    "    axes[0].axhline(y=-48)\n",
    "    plt.show()\n",
    "#     plt.savefig(f\"/data/chodera/zhangi/perses_benchmark/repex/{main_dir}/{sub_dir}/{chunk}/{chunk}_{phase}_series.png\", dpi=500)\n",
    "#     plt.clf()"
   ]
  },
  {
   "cell_type": "code",
   "execution_count": 48,
   "metadata": {},
   "outputs": [
    {
     "data": {
      "image/png": "[encoded data removed]",
      "text/plain": [
       "<Figure size 720x432 with 2 Axes>"
      ]
     },
     "metadata": {
      "needs_background": "light"
     },
     "output_type": "display_data"
    }
   ],
   "source": [
    "plot_series(d_results, 'apo', 'ALA->THR')"
   ]
  },
  {
   "cell_type": "code",
   "execution_count": null,
   "metadata": {},
   "outputs": [],
   "source": []
  },
  {
   "cell_type": "code",
   "execution_count": null,
   "metadata": {},
   "outputs": [],
   "source": []
  }
 ],
 "metadata": {
  "kernelspec": {
   "display_name": "Python 3 (ipykernel)",
   "language": "python",
   "name": "python3"
  },
  "language_info": {
   "codemirror_mode": {
    "name": "ipython",
    "version": 3
   },
   "file_extension": ".py",
   "mimetype": "text/x-python",
   "name": "python",
   "nbconvert_exporter": "python",
   "pygments_lexer": "ipython3",
   "version": "3.8.11"
  }
 },
 "nbformat": 4,
 "nbformat_minor": 4
}
