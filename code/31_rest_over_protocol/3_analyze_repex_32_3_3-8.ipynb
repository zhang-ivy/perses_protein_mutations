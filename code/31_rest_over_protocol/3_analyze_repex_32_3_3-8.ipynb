{
 "cells": [
  {
   "cell_type": "code",
   "execution_count": 1,
   "metadata": {},
   "outputs": [
    {
     "name": "stderr",
     "output_type": "stream",
     "text": [
      "Warning: importing 'simtk.openmm' is deprecated.  Import 'openmm' instead.\n"
     ]
    }
   ],
   "source": [
    "from perses.analysis import utils\n",
    "from openmmtools.multistate import MultiStateReporter, MultiStateSamplerAnalyzer\n",
    "from simtk import unit\n",
    "import os\n",
    "import itertools\n",
    "from tqdm import tqdm_notebook\n",
    "import pandas as pd\n",
    "import numpy as np\n",
    "import seaborn as sns\n",
    "import matplotlib.pyplot as plt\n",
    "import logging\n",
    "from perses.analysis import utils\n",
    "\n",
    "from openmmtools.constants import kB\n",
    "KT_KCALMOL = kB * 300 * unit.kelvin / unit.kilocalories_per_mole\n",
    "\n",
    "import warnings\n",
    "warnings.filterwarnings('ignore')"
   ]
  },
  {
   "cell_type": "code",
   "execution_count": 2,
   "metadata": {},
   "outputs": [],
   "source": [
    "class MultiStateReporter2(MultiStateReporter):\n",
    "    def read_energies(self, iteration=slice(None)):\n",
    "        \"\"\"Retrieve the energy matrix at the given iteration on the analysis file\n",
    "        Parameters\n",
    "        ----------\n",
    "        iteration : int or slice\n",
    "            The iteration(s) at which to read the data. The slice(None) allows fetching all iterations at once.\n",
    "        Returns\n",
    "        -------\n",
    "        energy_thermodynamic_states : n_replicas x n_states numpy.ndarray\n",
    "            ``energy_thermodynamic_states[iteration, i, j]`` is the reduced potential computed at\n",
    "            SamplerState ``sampler_states[iteration, i]`` and ThermodynamicState ``thermodynamic_states[iteration, j]``.\n",
    "        energy_neighborhoods : n_replicas x n_states numpy.ndarray\n",
    "            energy_neighborhoods[replica_index, state_index] is 1 if the energy was computed for this state,\n",
    "            0 otherwise\n",
    "        energy_unsampled_states : n_replicas x n_unsampled_states numpy.ndarray\n",
    "            ``energy_unsampled_states[iteration, i, j]`` is the reduced potential computed at SamplerState\n",
    "            ``sampler_states[iteration, i]`` and ThermodynamicState ``unsampled_thermodynamic_states[iteration, j]``.\n",
    "        \"\"\"\n",
    "        # Determine last consistent iteration\n",
    "        iteration = self._map_iteration_to_good(iteration)\n",
    "        # Retrieve energies at all thermodynamic states\n",
    "        energy_thermodynamic_states = np.array(self._storage_analysis.variables['energies'][iteration, :, :], np.float64)\n",
    "        # Retrieve neighborhoods, assuming global neighborhoods if reading a pre-neighborhoods file\n",
    "        try:\n",
    "            energy_neighborhoods = np.array(self._storage_analysis.variables['neighborhoods'][iteration, :, :], 'i1')\n",
    "        except KeyError:\n",
    "            energy_neighborhoods = np.ones(energy_thermodynamic_states.shape, 'i1')\n",
    "        # Read energies at unsampled states, if present\n",
    "#         try:\n",
    "#             energy_unsampled_states = np.array(self._storage_analysis.variables['unsampled_energies'][iteration, :, :], np.float64)\n",
    "#         except KeyError:\n",
    "#             # There are no unsampled thermodynamic states.\n",
    "        unsampled_shape = energy_thermodynamic_states.shape[:-1] + (0,)\n",
    "        energy_unsampled_states = np.zeros(unsampled_shape)\n",
    "        return energy_thermodynamic_states, energy_neighborhoods, energy_unsampled_states\n"
   ]
  },
  {
   "cell_type": "code",
   "execution_count": 3,
   "metadata": {},
   "outputs": [],
   "source": [
    "# Given a path, get dg and ddg\n",
    "def analyze(path):\n",
    "    reporter = MultiStateReporter(path)\n",
    "    analyzer = MultiStateSamplerAnalyzer(reporter)\n",
    "    f_ij, df_ij = analyzer.get_free_energy()\n",
    "    f = f_ij[0,-1] # units = kT\n",
    "#     f = f_ij[0,-1] * analyzer.kT\n",
    "#     dg = f.in_units_of(unit.kilocalories_per_mole)\n",
    "    df = df_ij[0, -1]\n",
    "#     df = df_ij[0, -1] * analyzer.kT\n",
    "#     ddg = df.in_units_of(unit.kilocalories_per_mole)\n",
    "    return f, df\n",
    "\n",
    "def analyze_dom(path):\n",
    "    reporter = MultiStateReporter2(path)\n",
    "    ncfile = utils.open_netcdf(path)\n",
    "    n_iterations = ncfile.variables['last_iteration'][0]\n",
    "    print(f\"n_iterations: {n_iterations}\")\n",
    "    dg, ddg = list(), list()\n",
    "#     iterations_to_analyze = list(range (1, n_iterations, 500)) + [int(n_iterations-1)]\n",
    "    iterations_to_analyze = range(1, n_iterations, 100)\n",
    "    print(list(iterations_to_analyze)) # check that this is giving me the last avail iteration\n",
    "    for step in iterations_to_analyze: \n",
    "        analyzer = MultiStateSamplerAnalyzer(reporter, max_n_iterations=step)\n",
    "        f_ij, df_ij = analyzer.get_free_energy()\n",
    "        dg.append(f_ij[0,-1])\n",
    "        ddg.append(df_ij[0,-1])\n",
    "    # Get final free energy\n",
    "    analyzer = MultiStateSamplerAnalyzer(reporter, max_n_iterations=n_iterations)\n",
    "    f_ij, df_ij = analyzer.get_free_energy()\n",
    "    print(\"Neff: \", analyzer.mbar.computeEffectiveSampleNumber())\n",
    "    dg.append(f_ij[0,-1])\n",
    "    ddg.append(df_ij[0,-1])\n",
    "    return np.array(dg), np.array(ddg), f_ij, df_ij"
   ]
  },
  {
   "cell_type": "markdown",
   "metadata": {},
   "source": [
    "### 1 ns ala -> thr dipeptide in solvent (repex/32/3/4)"
   ]
  },
  {
   "cell_type": "code",
   "execution_count": 4,
   "metadata": {},
   "outputs": [],
   "source": [
    "_logger = logging.getLogger()\n",
    "_logger.setLevel(logging.INFO)"
   ]
  },
  {
   "cell_type": "code",
   "execution_count": 9,
   "metadata": {},
   "outputs": [],
   "source": [
    "main_dir = 32\n",
    "sub_dir = 3\n",
    "chunk = 4\n",
    "titles = ['ALA->THR']"
   ]
  },
  {
   "cell_type": "code",
   "execution_count": 10,
   "metadata": {
    "scrolled": true
   },
   "outputs": [
    {
     "name": "stderr",
     "output_type": "stream",
     "text": [
      "WARNING:openmmtools.multistate.multistatereporter:Warning: The openmmtools.multistate API is experimental and may change in future releases\n",
      "DEBUG:openmmtools.multistate.multistatereporter:Initial checkpoint file automatically chosen as /data/chodera/zhangi/perses_benchmark/repex/32/3/4/4_apo_checkpoint.nc\n",
      "WARNING:openmmtools.multistate.multistateanalyzer:Warning: The openmmtools.multistate API is experimental and may change in future releases\n",
      "DEBUG:openmmtools.multistate.multistatereporter:checkpoint_interval != on-file checkpoint interval! Using on file analysis interval of 10.\n",
      "DEBUG:openmmtools.multistate.multistateanalyzer:Checking if we need to unbias the restraint...\n",
      "DEBUG:openmmtools.multistate.multistateanalyzer:Trying to get radially symmetric restraint data...\n",
      "DEBUG:openmmtools.multistate.multistateanalyzer:Retrieving end thermodynamic states...\n"
     ]
    },
    {
     "name": "stdout",
     "output_type": "stream",
     "text": [
      "analyzing apo\n",
      "n_iterations: 1000\n",
      "[1, 101, 201, 301, 401, 501, 601, 701, 801, 901]\n"
     ]
    },
    {
     "name": "stderr",
     "output_type": "stream",
     "text": [
      "DEBUG:openmmtools.multistate.multistateanalyzer:Isolating restraint force...\n",
      "DEBUG:openmmtools.multistate.multistateanalyzer:No force of type <class 'openmmtools.forces.RadiallySymmetricRestraintForce'> could be found. The restraint will not be unbiased.\n",
      "DEBUG:openmmtools.multistate.multistateanalyzer:Reading energies...\n",
      "DEBUG:openmmtools.multistate.multistatereporter:read_replica_thermodynamic_states: iteration = [   0    1    2 ...  998  999 1000]\n",
      "DEBUG:openmmtools.multistate.multistateanalyzer:Done.\n",
      "DEBUG:openmmtools.multistate.multistateanalyzer:Assembling effective timeseries...\n",
      "DEBUG:openmmtools.multistate.multistateanalyzer:Done.\n",
      "DEBUG:openmmtools.multistate.multistateanalyzer:Could not find t0: None of the requested keys could be found on disk!\n",
      "DEBUG:openmmtools.multistate.multistateanalyzer:Equilibration data:\n",
      "DEBUG:openmmtools.multistate.multistateanalyzer: number of iterations discarded to equilibration : 1\n",
      "DEBUG:openmmtools.multistate.multistateanalyzer: statistical inefficiency of production region   : 1\n",
      "DEBUG:openmmtools.multistate.multistateanalyzer: effective number of uncorrelated samples        : 1\n",
      "DEBUG:openmmtools.multistate.multistateanalyzer:Assembling uncorrelated energies...\n",
      "DEBUG:openmmtools.multistate.multistateanalyzer:Done.\n",
      "DEBUG:openmmtools.multistate.multistateanalyzer:Computing free energy differences...\n",
      "DEBUG:openmmtools.multistate.multistateanalyzer:Done.\n",
      "DEBUG:openmmtools.multistate.multistateanalyzer:Computing covariance matrix...\n",
      "DEBUG:openmmtools.multistate.multistateanalyzer:Deltaf_ij:\n",
      "DEBUG:openmmtools.multistate.multistateanalyzer:   0.000   0.000   5.695   7.065   6.698   4.701   1.149  -3.912 -10.467 -18.522 -28.101 -39.213\n",
      "DEBUG:openmmtools.multistate.multistateanalyzer:   0.000   0.000   5.695   7.065   6.698   4.701   1.149  -3.912 -10.467 -18.522 -28.101 -39.213\n",
      "DEBUG:openmmtools.multistate.multistateanalyzer:  -5.695  -5.695   0.000   1.370   1.003  -0.994  -4.546  -9.607 -16.161 -24.217 -33.796 -44.908\n",
      "DEBUG:openmmtools.multistate.multistateanalyzer:  -7.065  -7.065  -1.370   0.000  -0.367  -2.364  -5.916 -10.977 -17.531 -25.587 -35.166 -46.278\n",
      "DEBUG:openmmtools.multistate.multistateanalyzer:  -6.698  -6.698  -1.003   0.367   0.000  -1.997  -5.549 -10.610 -17.164 -25.220 -34.799 -45.911\n",
      "DEBUG:openmmtools.multistate.multistateanalyzer:  -4.701  -4.701   0.994   2.364   1.997   0.000  -3.552  -8.613 -15.168 -23.223 -32.802 -43.914\n",
      "DEBUG:openmmtools.multistate.multistateanalyzer:  -1.149  -1.149   4.546   5.916   5.549   3.552   0.000  -5.061 -11.616 -19.671 -29.250 -40.362\n",
      "DEBUG:openmmtools.multistate.multistateanalyzer:   3.912   3.912   9.607  10.977  10.610   8.613   5.061   0.000  -6.554 -14.610 -24.189 -35.301\n",
      "DEBUG:openmmtools.multistate.multistateanalyzer:  10.467  10.467  16.161  17.531  17.164  15.168  11.616   6.554   0.000  -8.056 -17.635 -28.746\n",
      "DEBUG:openmmtools.multistate.multistateanalyzer:  18.522  18.522  24.217  25.587  25.220  23.223  19.671  14.610   8.056   0.000  -9.579 -20.691\n",
      "DEBUG:openmmtools.multistate.multistateanalyzer:  28.101  28.101  33.796  35.166  34.799  32.802  29.250  24.189  17.635   9.579   0.000 -11.112\n",
      "DEBUG:openmmtools.multistate.multistateanalyzer:  39.213  39.213  44.908  46.278  45.911  43.914  40.362  35.301  28.746  20.691  11.112   0.000\n",
      "DEBUG:openmmtools.multistate.multistateanalyzer:dDeltaf_ij:\n",
      "DEBUG:openmmtools.multistate.multistateanalyzer:   0.000   0.000   2.042   2.271   2.365   2.425   2.463   2.486   2.503   2.520   2.545   2.586\n",
      "DEBUG:openmmtools.multistate.multistateanalyzer:   0.000   0.000   2.042   2.271   2.365   2.425   2.463   2.486   2.503   2.520   2.545   2.586\n",
      "DEBUG:openmmtools.multistate.multistateanalyzer:   2.042   2.042   0.000   0.402   0.662   0.830   0.930   0.989   1.031   1.072   1.130   1.219\n",
      "DEBUG:openmmtools.multistate.multistateanalyzer:   2.271   2.271   0.402   0.000   0.288   0.482   0.603   0.678   0.733   0.788   0.865   0.979\n",
      "DEBUG:openmmtools.multistate.multistateanalyzer:   2.365   2.365   0.662   0.288   0.000   0.204   0.336   0.424   0.493   0.565   0.666   0.809\n",
      "DEBUG:openmmtools.multistate.multistateanalyzer:   2.425   2.425   0.830   0.482   0.204   0.000   0.138   0.235   0.317   0.407   0.532   0.700\n",
      "DEBUG:openmmtools.multistate.multistateanalyzer:   2.463   2.463   0.930   0.603   0.336   0.138   0.000   0.102   0.193   0.299   0.444   0.630\n",
      "DEBUG:openmmtools.multistate.multistateanalyzer:   2.486   2.486   0.989   0.678   0.424   0.235   0.102   0.000   0.096   0.212   0.371   0.569\n",
      "DEBUG:openmmtools.multistate.multistateanalyzer:   2.503   2.503   1.031   0.733   0.493   0.317   0.193   0.096   0.000   0.121   0.287   0.494\n",
      "DEBUG:openmmtools.multistate.multistateanalyzer:   2.520   2.520   1.072   0.788   0.565   0.407   0.299   0.212   0.121   0.000   0.170   0.381\n",
      "DEBUG:openmmtools.multistate.multistateanalyzer:   2.545   2.545   1.130   0.865   0.666   0.532   0.444   0.371   0.287   0.170   0.000   0.213\n",
      "DEBUG:openmmtools.multistate.multistateanalyzer:   2.586   2.586   1.219   0.979   0.809   0.700   0.630   0.569   0.494   0.381   0.213   0.000\n",
      "WARNING:openmmtools.multistate.multistateanalyzer:Warning: The openmmtools.multistate API is experimental and may change in future releases\n",
      "DEBUG:openmmtools.multistate.multistateanalyzer:Checking if we need to unbias the restraint...\n",
      "DEBUG:openmmtools.multistate.multistateanalyzer:Trying to get radially symmetric restraint data...\n",
      "DEBUG:openmmtools.multistate.multistateanalyzer:Retrieving end thermodynamic states...\n",
      "DEBUG:openmmtools.multistate.multistateanalyzer:Isolating restraint force...\n",
      "DEBUG:openmmtools.multistate.multistateanalyzer:No force of type <class 'openmmtools.forces.RadiallySymmetricRestraintForce'> could be found. The restraint will not be unbiased.\n",
      "DEBUG:openmmtools.multistate.multistateanalyzer:Reading energies...\n",
      "DEBUG:openmmtools.multistate.multistatereporter:read_replica_thermodynamic_states: iteration = [   0    1    2 ...  998  999 1000]\n",
      "DEBUG:openmmtools.multistate.multistateanalyzer:Done.\n",
      "DEBUG:openmmtools.multistate.multistateanalyzer:Assembling effective timeseries...\n",
      "DEBUG:openmmtools.multistate.multistateanalyzer:Done.\n",
      "DEBUG:openmmtools.multistate.multistateanalyzer:Could not find t0: None of the requested keys could be found on disk!\n",
      "DEBUG:openmmtools.multistate.multistateanalyzer:Equilibration data:\n",
      "DEBUG:openmmtools.multistate.multistateanalyzer: number of iterations discarded to equilibration : 3\n",
      "DEBUG:openmmtools.multistate.multistateanalyzer: statistical inefficiency of production region   : 2.4632489681243896\n",
      "DEBUG:openmmtools.multistate.multistateanalyzer: effective number of uncorrelated samples        : 40.5967903137207\n",
      "DEBUG:openmmtools.multistate.multistateanalyzer:Assembling uncorrelated energies...\n",
      "DEBUG:openmmtools.multistate.multistateanalyzer:Done.\n",
      "DEBUG:openmmtools.multistate.multistateanalyzer:Computing free energy differences...\n",
      "DEBUG:openmmtools.multistate.multistateanalyzer:Done.\n",
      "DEBUG:openmmtools.multistate.multistateanalyzer:Computing covariance matrix...\n",
      "DEBUG:openmmtools.multistate.multistateanalyzer:Deltaf_ij:\n",
      "DEBUG:openmmtools.multistate.multistateanalyzer:   0.000   0.000   7.226   8.780   8.655   6.913   3.550  -1.437  -8.050 -16.296 -26.184 -37.725\n",
      "DEBUG:openmmtools.multistate.multistateanalyzer:   0.000   0.000   7.226   8.780   8.655   6.913   3.550  -1.437  -8.050 -16.296 -26.184 -37.725\n",
      "DEBUG:openmmtools.multistate.multistateanalyzer:  -7.226  -7.226   0.000   1.553   1.429  -0.314  -3.676  -8.663 -15.277 -23.522 -33.411 -44.951\n",
      "DEBUG:openmmtools.multistate.multistateanalyzer:  -8.780  -8.780  -1.553   0.000  -0.124  -1.867  -5.230 -10.217 -16.830 -25.076 -34.964 -46.505\n",
      "DEBUG:openmmtools.multistate.multistateanalyzer:  -8.655  -8.655  -1.429   0.124   0.000  -1.743  -5.105 -10.092 -16.706 -24.951 -34.840 -46.380\n",
      "DEBUG:openmmtools.multistate.multistateanalyzer:  -6.913  -6.913   0.314   1.867   1.743   0.000  -3.362  -8.349 -14.963 -23.209 -33.097 -44.637\n",
      "DEBUG:openmmtools.multistate.multistateanalyzer:  -3.550  -3.550   3.676   5.230   5.105   3.362   0.000  -4.987 -11.601 -19.846 -29.735 -41.275\n",
      "DEBUG:openmmtools.multistate.multistateanalyzer:   1.437   1.437   8.663  10.217  10.092   8.349   4.987   0.000  -6.614 -14.859 -24.748 -36.288\n"
     ]
    },
    {
     "name": "stderr",
     "output_type": "stream",
     "text": [
      "DEBUG:openmmtools.multistate.multistateanalyzer:   8.050   8.050  15.277  16.830  16.706  14.963  11.601   6.614   0.000  -8.245 -18.134 -29.674\n",
      "DEBUG:openmmtools.multistate.multistateanalyzer:  16.296  16.296  23.522  25.076  24.951  23.209  19.846  14.859   8.245   0.000  -9.889 -21.429\n",
      "DEBUG:openmmtools.multistate.multistateanalyzer:  26.184  26.184  33.411  34.964  34.840  33.097  29.735  24.748  18.134   9.889   0.000 -11.540\n",
      "DEBUG:openmmtools.multistate.multistateanalyzer:  37.725  37.725  44.951  46.505  46.380  44.637  41.275  36.288  29.674  21.429  11.540   0.000\n",
      "DEBUG:openmmtools.multistate.multistateanalyzer:dDeltaf_ij:\n",
      "DEBUG:openmmtools.multistate.multistateanalyzer:   0.000   0.000   0.501   0.531   0.539   0.545   0.550   0.554   0.559   0.564   0.569   0.577\n",
      "DEBUG:openmmtools.multistate.multistateanalyzer:   0.000   0.000   0.501   0.531   0.539   0.545   0.550   0.554   0.559   0.564   0.569   0.577\n",
      "DEBUG:openmmtools.multistate.multistateanalyzer:   0.501   0.501   0.000   0.063   0.095   0.119   0.139   0.157   0.173   0.188   0.204   0.224\n",
      "DEBUG:openmmtools.multistate.multistateanalyzer:   0.531   0.531   0.063   0.000   0.037   0.068   0.094   0.117   0.137   0.156   0.175   0.198\n",
      "DEBUG:openmmtools.multistate.multistateanalyzer:   0.539   0.539   0.095   0.037   0.000   0.032   0.062   0.089   0.112   0.133   0.155   0.180\n",
      "DEBUG:openmmtools.multistate.multistateanalyzer:   0.545   0.545   0.119   0.068   0.032   0.000   0.031   0.060   0.086   0.110   0.135   0.164\n",
      "DEBUG:openmmtools.multistate.multistateanalyzer:   0.550   0.550   0.139   0.094   0.062   0.031   0.000   0.030   0.059   0.086   0.114   0.146\n",
      "DEBUG:openmmtools.multistate.multistateanalyzer:   0.554   0.554   0.157   0.117   0.089   0.060   0.030   0.000   0.030   0.060   0.091   0.128\n",
      "DEBUG:openmmtools.multistate.multistateanalyzer:   0.559   0.559   0.173   0.137   0.112   0.086   0.059   0.030   0.000   0.031   0.066   0.107\n",
      "DEBUG:openmmtools.multistate.multistateanalyzer:   0.564   0.564   0.188   0.156   0.133   0.110   0.086   0.060   0.031   0.000   0.037   0.082\n",
      "DEBUG:openmmtools.multistate.multistateanalyzer:   0.569   0.569   0.204   0.175   0.155   0.135   0.114   0.091   0.066   0.037   0.000   0.048\n",
      "DEBUG:openmmtools.multistate.multistateanalyzer:   0.577   0.577   0.224   0.198   0.180   0.164   0.146   0.128   0.107   0.082   0.048   0.000\n",
      "WARNING:openmmtools.multistate.multistateanalyzer:Warning: The openmmtools.multistate API is experimental and may change in future releases\n",
      "DEBUG:openmmtools.multistate.multistateanalyzer:Checking if we need to unbias the restraint...\n",
      "DEBUG:openmmtools.multistate.multistateanalyzer:Trying to get radially symmetric restraint data...\n",
      "DEBUG:openmmtools.multistate.multistateanalyzer:Retrieving end thermodynamic states...\n",
      "DEBUG:openmmtools.multistate.multistateanalyzer:Isolating restraint force...\n",
      "DEBUG:openmmtools.multistate.multistateanalyzer:No force of type <class 'openmmtools.forces.RadiallySymmetricRestraintForce'> could be found. The restraint will not be unbiased.\n",
      "DEBUG:openmmtools.multistate.multistateanalyzer:Reading energies...\n",
      "DEBUG:openmmtools.multistate.multistatereporter:read_replica_thermodynamic_states: iteration = [   0    1    2 ...  998  999 1000]\n",
      "DEBUG:openmmtools.multistate.multistateanalyzer:Done.\n",
      "DEBUG:openmmtools.multistate.multistateanalyzer:Assembling effective timeseries...\n",
      "DEBUG:openmmtools.multistate.multistateanalyzer:Done.\n",
      "DEBUG:openmmtools.multistate.multistateanalyzer:Could not find t0: None of the requested keys could be found on disk!\n",
      "DEBUG:openmmtools.multistate.multistateanalyzer:Equilibration data:\n",
      "DEBUG:openmmtools.multistate.multistateanalyzer: number of iterations discarded to equilibration : 3\n",
      "DEBUG:openmmtools.multistate.multistateanalyzer: statistical inefficiency of production region   : 2.571342706680298\n",
      "DEBUG:openmmtools.multistate.multistateanalyzer: effective number of uncorrelated samples        : 77.7803726196289\n",
      "DEBUG:openmmtools.multistate.multistateanalyzer:Assembling uncorrelated energies...\n",
      "DEBUG:openmmtools.multistate.multistateanalyzer:Done.\n",
      "DEBUG:openmmtools.multistate.multistateanalyzer:Computing free energy differences...\n",
      "DEBUG:openmmtools.multistate.multistateanalyzer:Done.\n",
      "DEBUG:openmmtools.multistate.multistateanalyzer:Computing covariance matrix...\n",
      "DEBUG:openmmtools.multistate.multistateanalyzer:Deltaf_ij:\n",
      "DEBUG:openmmtools.multistate.multistateanalyzer:   0.000   0.000   6.609   8.089   7.940   6.181   2.812  -2.170  -8.781 -17.037 -26.956 -38.537\n",
      "DEBUG:openmmtools.multistate.multistateanalyzer:   0.000   0.000   6.609   8.089   7.940   6.181   2.812  -2.170  -8.781 -17.037 -26.956 -38.537\n",
      "DEBUG:openmmtools.multistate.multistateanalyzer:  -6.609  -6.609   0.000   1.480   1.331  -0.429  -3.797  -8.779 -15.390 -23.647 -33.566 -45.147\n",
      "DEBUG:openmmtools.multistate.multistateanalyzer:  -8.089  -8.089  -1.480   0.000  -0.149  -1.909  -5.277 -10.260 -16.870 -25.127 -35.046 -46.627\n",
      "DEBUG:openmmtools.multistate.multistateanalyzer:  -7.940  -7.940  -1.331   0.149   0.000  -1.760  -5.128 -10.110 -16.721 -24.978 -34.897 -46.478\n",
      "DEBUG:openmmtools.multistate.multistateanalyzer:  -6.181  -6.181   0.429   1.909   1.760   0.000  -3.368  -8.351 -14.961 -23.218 -33.137 -44.718\n",
      "DEBUG:openmmtools.multistate.multistateanalyzer:  -2.812  -2.812   3.797   5.277   5.128   3.368   0.000  -4.982 -11.593 -19.850 -29.769 -41.350\n",
      "DEBUG:openmmtools.multistate.multistateanalyzer:   2.170   2.170   8.779  10.260  10.110   8.351   4.982   0.000  -6.611 -14.867 -24.786 -36.367\n",
      "DEBUG:openmmtools.multistate.multistateanalyzer:   8.781   8.781  15.390  16.870  16.721  14.961  11.593   6.611   0.000  -8.257 -18.176 -29.757\n",
      "DEBUG:openmmtools.multistate.multistateanalyzer:  17.037  17.037  23.647  25.127  24.978  23.218  19.850  14.867   8.257   0.000  -9.919 -21.500\n",
      "DEBUG:openmmtools.multistate.multistateanalyzer:  26.956  26.956  33.566  35.046  34.897  33.137  29.769  24.786  18.176   9.919   0.000 -11.581\n",
      "DEBUG:openmmtools.multistate.multistateanalyzer:  38.537  38.537  45.147  46.627  46.478  44.718  41.350  36.367  29.757  21.500  11.581   0.000\n",
      "DEBUG:openmmtools.multistate.multistateanalyzer:dDeltaf_ij:\n",
      "DEBUG:openmmtools.multistate.multistateanalyzer:   0.000   0.000   0.380   0.395   0.400   0.404   0.407   0.411   0.414   0.418   0.422   0.427\n",
      "DEBUG:openmmtools.multistate.multistateanalyzer:   0.000   0.000   0.380   0.395   0.400   0.404   0.407   0.411   0.414   0.418   0.422   0.427\n",
      "DEBUG:openmmtools.multistate.multistateanalyzer:   0.380   0.380   0.000   0.038   0.062   0.081   0.095   0.108   0.120   0.132   0.144   0.159\n",
      "DEBUG:openmmtools.multistate.multistateanalyzer:   0.395   0.395   0.038   0.000   0.027   0.049   0.067   0.082   0.097   0.111   0.126   0.143\n",
      "DEBUG:openmmtools.multistate.multistateanalyzer:   0.400   0.400   0.062   0.027   0.000   0.023   0.043   0.061   0.079   0.095   0.112   0.131\n",
      "DEBUG:openmmtools.multistate.multistateanalyzer:   0.404   0.404   0.081   0.049   0.023   0.000   0.021   0.041   0.061   0.080   0.099   0.119\n",
      "DEBUG:openmmtools.multistate.multistateanalyzer:   0.407   0.407   0.095   0.067   0.043   0.021   0.000   0.021   0.042   0.064   0.085   0.108\n",
      "DEBUG:openmmtools.multistate.multistateanalyzer:   0.411   0.411   0.108   0.082   0.061   0.041   0.021   0.000   0.022   0.045   0.069   0.095\n",
      "DEBUG:openmmtools.multistate.multistateanalyzer:   0.414   0.414   0.120   0.097   0.079   0.061   0.042   0.022   0.000   0.024   0.050   0.079\n",
      "DEBUG:openmmtools.multistate.multistateanalyzer:   0.418   0.418   0.132   0.111   0.095   0.080   0.064   0.045   0.024   0.000   0.027   0.059\n",
      "DEBUG:openmmtools.multistate.multistateanalyzer:   0.422   0.422   0.144   0.126   0.112   0.099   0.085   0.069   0.050   0.027   0.000   0.034\n",
      "DEBUG:openmmtools.multistate.multistateanalyzer:   0.427   0.427   0.159   0.143   0.131   0.119   0.108   0.095   0.079   0.059   0.034   0.000\n",
      "WARNING:openmmtools.multistate.multistateanalyzer:Warning: The openmmtools.multistate API is experimental and may change in future releases\n",
      "DEBUG:openmmtools.multistate.multistateanalyzer:Checking if we need to unbias the restraint...\n",
      "DEBUG:openmmtools.multistate.multistateanalyzer:Trying to get radially symmetric restraint data...\n"
     ]
    },
    {
     "name": "stderr",
     "output_type": "stream",
     "text": [
      "DEBUG:openmmtools.multistate.multistateanalyzer:Retrieving end thermodynamic states...\n",
      "DEBUG:openmmtools.multistate.multistateanalyzer:Isolating restraint force...\n",
      "DEBUG:openmmtools.multistate.multistateanalyzer:No force of type <class 'openmmtools.forces.RadiallySymmetricRestraintForce'> could be found. The restraint will not be unbiased.\n",
      "DEBUG:openmmtools.multistate.multistateanalyzer:Reading energies...\n",
      "DEBUG:openmmtools.multistate.multistatereporter:read_replica_thermodynamic_states: iteration = [   0    1    2 ...  998  999 1000]\n",
      "DEBUG:openmmtools.multistate.multistateanalyzer:Done.\n",
      "DEBUG:openmmtools.multistate.multistateanalyzer:Assembling effective timeseries...\n",
      "DEBUG:openmmtools.multistate.multistateanalyzer:Done.\n",
      "DEBUG:openmmtools.multistate.multistateanalyzer:Could not find t0: None of the requested keys could be found on disk!\n",
      "DEBUG:openmmtools.multistate.multistateanalyzer:Equilibration data:\n",
      "DEBUG:openmmtools.multistate.multistateanalyzer: number of iterations discarded to equilibration : 1\n",
      "DEBUG:openmmtools.multistate.multistateanalyzer: statistical inefficiency of production region   : 3.0688729286193848\n",
      "DEBUG:openmmtools.multistate.multistateanalyzer: effective number of uncorrelated samples        : 98.40746307373047\n",
      "DEBUG:openmmtools.multistate.multistateanalyzer:Assembling uncorrelated energies...\n",
      "DEBUG:openmmtools.multistate.multistateanalyzer:Done.\n",
      "DEBUG:openmmtools.multistate.multistateanalyzer:Computing free energy differences...\n",
      "DEBUG:openmmtools.multistate.multistateanalyzer:Done.\n",
      "DEBUG:openmmtools.multistate.multistateanalyzer:Computing covariance matrix...\n",
      "DEBUG:openmmtools.multistate.multistateanalyzer:Deltaf_ij:\n",
      "DEBUG:openmmtools.multistate.multistateanalyzer:   0.000   0.000   6.787   8.267   8.099   6.327   2.956  -2.023  -8.627 -16.877 -26.798 -38.397\n",
      "DEBUG:openmmtools.multistate.multistateanalyzer:   0.000   0.000   6.787   8.267   8.099   6.327   2.956  -2.023  -8.627 -16.877 -26.798 -38.397\n",
      "DEBUG:openmmtools.multistate.multistateanalyzer:  -6.787  -6.787   0.000   1.480   1.311  -0.460  -3.832  -8.810 -15.414 -23.665 -33.585 -45.184\n",
      "DEBUG:openmmtools.multistate.multistateanalyzer:  -8.267  -8.267  -1.480   0.000  -0.169  -1.940  -5.312 -10.290 -16.894 -25.145 -35.065 -46.664\n",
      "DEBUG:openmmtools.multistate.multistateanalyzer:  -8.099  -8.099  -1.311   0.169   0.000  -1.772  -5.143 -10.122 -16.725 -24.976 -34.897 -46.496\n",
      "DEBUG:openmmtools.multistate.multistateanalyzer:  -6.327  -6.327   0.460   1.940   1.772   0.000  -3.371  -8.350 -14.953 -23.204 -33.125 -44.724\n",
      "DEBUG:openmmtools.multistate.multistateanalyzer:  -2.956  -2.956   3.832   5.312   5.143   3.371   0.000  -4.979 -11.582 -19.833 -29.754 -41.353\n",
      "DEBUG:openmmtools.multistate.multistateanalyzer:   2.023   2.023   8.810  10.290  10.122   8.350   4.979   0.000  -6.603 -14.854 -24.775 -36.374\n",
      "DEBUG:openmmtools.multistate.multistateanalyzer:   8.627   8.627  15.414  16.894  16.725  14.953  11.582   6.603   0.000  -8.251 -18.172 -29.770\n",
      "DEBUG:openmmtools.multistate.multistateanalyzer:  16.877  16.877  23.665  25.145  24.976  23.204  19.833  14.854   8.251   0.000  -9.921 -21.520\n",
      "DEBUG:openmmtools.multistate.multistateanalyzer:  26.798  26.798  33.585  35.065  34.897  33.125  29.754  24.775  18.172   9.921   0.000 -11.599\n",
      "DEBUG:openmmtools.multistate.multistateanalyzer:  38.397  38.397  45.184  46.664  46.496  44.724  41.353  36.374  29.770  21.520  11.599   0.000\n",
      "DEBUG:openmmtools.multistate.multistateanalyzer:dDeltaf_ij:\n",
      "DEBUG:openmmtools.multistate.multistateanalyzer:   0.000   0.000   0.343   0.357   0.362   0.366   0.368   0.371   0.374   0.377   0.381   0.386\n",
      "DEBUG:openmmtools.multistate.multistateanalyzer:   0.000   0.000   0.343   0.357   0.362   0.366   0.368   0.371   0.374   0.377   0.381   0.386\n",
      "DEBUG:openmmtools.multistate.multistateanalyzer:   0.343   0.343   0.000   0.038   0.059   0.074   0.086   0.097   0.107   0.117   0.129   0.143\n",
      "DEBUG:openmmtools.multistate.multistateanalyzer:   0.357   0.357   0.038   0.000   0.024   0.042   0.058   0.072   0.085   0.098   0.111   0.127\n",
      "DEBUG:openmmtools.multistate.multistateanalyzer:   0.362   0.362   0.059   0.024   0.000   0.020   0.037   0.053   0.069   0.084   0.099   0.116\n",
      "DEBUG:openmmtools.multistate.multistateanalyzer:   0.366   0.366   0.074   0.042   0.020   0.000   0.018   0.036   0.053   0.070   0.088   0.107\n",
      "DEBUG:openmmtools.multistate.multistateanalyzer:   0.368   0.368   0.086   0.058   0.037   0.018   0.000   0.018   0.037   0.056   0.076   0.097\n",
      "DEBUG:openmmtools.multistate.multistateanalyzer:   0.371   0.371   0.097   0.072   0.053   0.036   0.018   0.000   0.019   0.040   0.062   0.086\n",
      "DEBUG:openmmtools.multistate.multistateanalyzer:   0.374   0.374   0.107   0.085   0.069   0.053   0.037   0.019   0.000   0.022   0.045   0.072\n",
      "DEBUG:openmmtools.multistate.multistateanalyzer:   0.377   0.377   0.117   0.098   0.084   0.070   0.056   0.040   0.022   0.000   0.025   0.054\n",
      "DEBUG:openmmtools.multistate.multistateanalyzer:   0.381   0.381   0.129   0.111   0.099   0.088   0.076   0.062   0.045   0.025   0.000   0.032\n",
      "DEBUG:openmmtools.multistate.multistateanalyzer:   0.386   0.386   0.143   0.127   0.116   0.107   0.097   0.086   0.072   0.054   0.032   0.000\n",
      "WARNING:openmmtools.multistate.multistateanalyzer:Warning: The openmmtools.multistate API is experimental and may change in future releases\n",
      "DEBUG:openmmtools.multistate.multistateanalyzer:Checking if we need to unbias the restraint...\n",
      "DEBUG:openmmtools.multistate.multistateanalyzer:Trying to get radially symmetric restraint data...\n",
      "DEBUG:openmmtools.multistate.multistateanalyzer:Retrieving end thermodynamic states...\n",
      "DEBUG:openmmtools.multistate.multistateanalyzer:Isolating restraint force...\n",
      "DEBUG:openmmtools.multistate.multistateanalyzer:No force of type <class 'openmmtools.forces.RadiallySymmetricRestraintForce'> could be found. The restraint will not be unbiased.\n",
      "DEBUG:openmmtools.multistate.multistateanalyzer:Reading energies...\n",
      "DEBUG:openmmtools.multistate.multistatereporter:read_replica_thermodynamic_states: iteration = [   0    1    2 ...  998  999 1000]\n",
      "DEBUG:openmmtools.multistate.multistateanalyzer:Done.\n",
      "DEBUG:openmmtools.multistate.multistateanalyzer:Assembling effective timeseries...\n",
      "DEBUG:openmmtools.multistate.multistateanalyzer:Done.\n",
      "DEBUG:openmmtools.multistate.multistateanalyzer:Could not find t0: None of the requested keys could be found on disk!\n",
      "DEBUG:openmmtools.multistate.multistateanalyzer:Equilibration data:\n",
      "DEBUG:openmmtools.multistate.multistateanalyzer: number of iterations discarded to equilibration : 1\n",
      "DEBUG:openmmtools.multistate.multistateanalyzer: statistical inefficiency of production region   : 3.086212396621704\n",
      "DEBUG:openmmtools.multistate.multistateanalyzer: effective number of uncorrelated samples        : 130.25674438476562\n",
      "DEBUG:openmmtools.multistate.multistateanalyzer:Assembling uncorrelated energies...\n",
      "DEBUG:openmmtools.multistate.multistateanalyzer:Done.\n",
      "DEBUG:openmmtools.multistate.multistateanalyzer:Computing free energy differences...\n",
      "DEBUG:openmmtools.multistate.multistateanalyzer:Done.\n",
      "DEBUG:openmmtools.multistate.multistateanalyzer:Computing covariance matrix...\n",
      "DEBUG:openmmtools.multistate.multistateanalyzer:Deltaf_ij:\n",
      "DEBUG:openmmtools.multistate.multistateanalyzer:   0.000   0.000   6.623   8.168   8.039   6.297   2.948  -2.022  -8.635 -16.913 -26.869 -38.501\n",
      "DEBUG:openmmtools.multistate.multistateanalyzer:   0.000   0.000   6.623   8.168   8.039   6.297   2.948  -2.022  -8.635 -16.913 -26.869 -38.501\n",
      "DEBUG:openmmtools.multistate.multistateanalyzer:  -6.623  -6.623   0.000   1.546   1.416  -0.325  -3.675  -8.645 -15.258 -23.536 -33.492 -45.123\n",
      "DEBUG:openmmtools.multistate.multistateanalyzer:  -8.168  -8.168  -1.546   0.000  -0.130  -1.871  -5.220 -10.191 -16.804 -25.081 -35.038 -46.669\n",
      "DEBUG:openmmtools.multistate.multistateanalyzer:  -8.039  -8.039  -1.416   0.130   0.000  -1.741  -5.091 -10.061 -16.674 -24.952 -34.908 -46.539\n",
      "DEBUG:openmmtools.multistate.multistateanalyzer:  -6.297  -6.297   0.325   1.871   1.741   0.000  -3.349  -8.320 -14.933 -23.210 -33.167 -44.798\n",
      "DEBUG:openmmtools.multistate.multistateanalyzer:  -2.948  -2.948   3.675   5.220   5.091   3.349   0.000  -4.970 -11.584 -19.861 -29.817 -41.449\n"
     ]
    },
    {
     "name": "stderr",
     "output_type": "stream",
     "text": [
      "DEBUG:openmmtools.multistate.multistateanalyzer:   2.022   2.022   8.645  10.191  10.061   8.320   4.970   0.000  -6.613 -14.891 -24.847 -36.478\n",
      "DEBUG:openmmtools.multistate.multistateanalyzer:   8.635   8.635  15.258  16.804  16.674  14.933  11.584   6.613   0.000  -8.278 -18.234 -29.865\n",
      "DEBUG:openmmtools.multistate.multistateanalyzer:  16.913  16.913  23.536  25.081  24.952  23.210  19.861  14.891   8.278   0.000  -9.956 -21.588\n",
      "DEBUG:openmmtools.multistate.multistateanalyzer:  26.869  26.869  33.492  35.038  34.908  33.167  29.817  24.847  18.234   9.956   0.000 -11.631\n",
      "DEBUG:openmmtools.multistate.multistateanalyzer:  38.501  38.501  45.123  46.669  46.539  44.798  41.449  36.478  29.865  21.588  11.631   0.000\n",
      "DEBUG:openmmtools.multistate.multistateanalyzer:dDeltaf_ij:\n",
      "DEBUG:openmmtools.multistate.multistateanalyzer:   0.000   0.000   0.256   0.270   0.276   0.279   0.282   0.285   0.288   0.291   0.295   0.299\n",
      "DEBUG:openmmtools.multistate.multistateanalyzer:   0.000   0.000   0.256   0.270   0.276   0.279   0.282   0.285   0.288   0.291   0.295   0.299\n",
      "DEBUG:openmmtools.multistate.multistateanalyzer:   0.256   0.256   0.000   0.034   0.053   0.065   0.076   0.086   0.095   0.105   0.115   0.127\n",
      "DEBUG:openmmtools.multistate.multistateanalyzer:   0.270   0.270   0.034   0.000   0.021   0.037   0.051   0.063   0.075   0.087   0.099   0.112\n",
      "DEBUG:openmmtools.multistate.multistateanalyzer:   0.276   0.276   0.053   0.021   0.000   0.017   0.033   0.048   0.062   0.075   0.089   0.103\n",
      "DEBUG:openmmtools.multistate.multistateanalyzer:   0.279   0.279   0.065   0.037   0.017   0.000   0.016   0.033   0.049   0.064   0.079   0.095\n",
      "DEBUG:openmmtools.multistate.multistateanalyzer:   0.282   0.282   0.076   0.051   0.033   0.016   0.000   0.017   0.034   0.051   0.068   0.086\n",
      "DEBUG:openmmtools.multistate.multistateanalyzer:   0.285   0.285   0.086   0.063   0.048   0.033   0.017   0.000   0.018   0.037   0.055   0.076\n",
      "DEBUG:openmmtools.multistate.multistateanalyzer:   0.288   0.288   0.095   0.075   0.062   0.049   0.034   0.018   0.000   0.020   0.040   0.063\n",
      "DEBUG:openmmtools.multistate.multistateanalyzer:   0.291   0.291   0.105   0.087   0.075   0.064   0.051   0.037   0.020   0.000   0.022   0.047\n",
      "DEBUG:openmmtools.multistate.multistateanalyzer:   0.295   0.295   0.115   0.099   0.089   0.079   0.068   0.055   0.040   0.022   0.000   0.027\n",
      "DEBUG:openmmtools.multistate.multistateanalyzer:   0.299   0.299   0.127   0.112   0.103   0.095   0.086   0.076   0.063   0.047   0.027   0.000\n",
      "WARNING:openmmtools.multistate.multistateanalyzer:Warning: The openmmtools.multistate API is experimental and may change in future releases\n",
      "DEBUG:openmmtools.multistate.multistateanalyzer:Checking if we need to unbias the restraint...\n",
      "DEBUG:openmmtools.multistate.multistateanalyzer:Trying to get radially symmetric restraint data...\n",
      "DEBUG:openmmtools.multistate.multistateanalyzer:Retrieving end thermodynamic states...\n",
      "DEBUG:openmmtools.multistate.multistateanalyzer:Isolating restraint force...\n",
      "DEBUG:openmmtools.multistate.multistateanalyzer:No force of type <class 'openmmtools.forces.RadiallySymmetricRestraintForce'> could be found. The restraint will not be unbiased.\n",
      "DEBUG:openmmtools.multistate.multistateanalyzer:Reading energies...\n",
      "DEBUG:openmmtools.multistate.multistatereporter:read_replica_thermodynamic_states: iteration = [   0    1    2 ...  998  999 1000]\n",
      "DEBUG:openmmtools.multistate.multistateanalyzer:Done.\n",
      "DEBUG:openmmtools.multistate.multistateanalyzer:Assembling effective timeseries...\n",
      "DEBUG:openmmtools.multistate.multistateanalyzer:Done.\n",
      "DEBUG:openmmtools.multistate.multistateanalyzer:Could not find t0: None of the requested keys could be found on disk!\n",
      "DEBUG:openmmtools.multistate.multistateanalyzer:Equilibration data:\n",
      "DEBUG:openmmtools.multistate.multistateanalyzer: number of iterations discarded to equilibration : 1\n",
      "DEBUG:openmmtools.multistate.multistateanalyzer: statistical inefficiency of production region   : 3.1140618324279785\n",
      "DEBUG:openmmtools.multistate.multistateanalyzer: effective number of uncorrelated samples        : 161.20425415039062\n",
      "DEBUG:openmmtools.multistate.multistateanalyzer:Assembling uncorrelated energies...\n",
      "DEBUG:openmmtools.multistate.multistateanalyzer:Done.\n",
      "DEBUG:openmmtools.multistate.multistateanalyzer:Computing free energy differences...\n",
      "DEBUG:openmmtools.multistate.multistateanalyzer:Done.\n",
      "DEBUG:openmmtools.multistate.multistateanalyzer:Computing covariance matrix...\n",
      "DEBUG:openmmtools.multistate.multistateanalyzer:Deltaf_ij:\n",
      "DEBUG:openmmtools.multistate.multistateanalyzer:   0.000   0.000   6.998   8.537   8.412   6.667   3.306  -1.677  -8.297 -16.574 -26.532 -38.179\n",
      "DEBUG:openmmtools.multistate.multistateanalyzer:   0.000   0.000   6.998   8.537   8.412   6.667   3.306  -1.677  -8.297 -16.574 -26.532 -38.179\n",
      "DEBUG:openmmtools.multistate.multistateanalyzer:  -6.998  -6.998   0.000   1.540   1.414  -0.330  -3.691  -8.675 -15.295 -23.572 -33.530 -45.176\n",
      "DEBUG:openmmtools.multistate.multistateanalyzer:  -8.537  -8.537  -1.540   0.000  -0.125  -1.870  -5.231 -10.215 -16.835 -25.112 -35.070 -46.716\n",
      "DEBUG:openmmtools.multistate.multistateanalyzer:  -8.412  -8.412  -1.414   0.125   0.000  -1.745  -5.106 -10.089 -16.709 -24.986 -34.945 -46.591\n",
      "DEBUG:openmmtools.multistate.multistateanalyzer:  -6.667  -6.667   0.330   1.870   1.745   0.000  -3.361  -8.345 -14.965 -23.242 -33.200 -44.846\n",
      "DEBUG:openmmtools.multistate.multistateanalyzer:  -3.306  -3.306   3.691   5.231   5.106   3.361   0.000  -4.984 -11.603 -19.881 -29.839 -41.485\n",
      "DEBUG:openmmtools.multistate.multistateanalyzer:   1.677   1.677   8.675  10.215  10.089   8.345   4.984   0.000  -6.620 -14.897 -24.855 -36.501\n",
      "DEBUG:openmmtools.multistate.multistateanalyzer:   8.297   8.297  15.295  16.835  16.709  14.965  11.603   6.620   0.000  -8.277 -18.235 -29.882\n",
      "DEBUG:openmmtools.multistate.multistateanalyzer:  16.574  16.574  23.572  25.112  24.986  23.242  19.881  14.897   8.277   0.000  -9.958 -21.604\n",
      "DEBUG:openmmtools.multistate.multistateanalyzer:  26.532  26.532  33.530  35.070  34.945  33.200  29.839  24.855  18.235   9.958   0.000 -11.646\n",
      "DEBUG:openmmtools.multistate.multistateanalyzer:  38.179  38.179  45.176  46.716  46.591  44.846  41.485  36.501  29.882  21.604  11.646   0.000\n",
      "DEBUG:openmmtools.multistate.multistateanalyzer:dDeltaf_ij:\n",
      "DEBUG:openmmtools.multistate.multistateanalyzer:   0.000   0.000   0.275   0.286   0.290   0.293   0.295   0.297   0.300   0.302   0.305   0.309\n",
      "DEBUG:openmmtools.multistate.multistateanalyzer:   0.000   0.000   0.275   0.286   0.290   0.293   0.295   0.297   0.300   0.302   0.305   0.309\n",
      "DEBUG:openmmtools.multistate.multistateanalyzer:   0.275   0.275   0.000   0.030   0.047   0.059   0.069   0.078   0.086   0.095   0.104   0.114\n",
      "DEBUG:openmmtools.multistate.multistateanalyzer:   0.286   0.286   0.030   0.000   0.019   0.034   0.047   0.059   0.069   0.079   0.090   0.102\n",
      "DEBUG:openmmtools.multistate.multistateanalyzer:   0.290   0.290   0.047   0.019   0.000   0.016   0.031   0.044   0.056   0.068   0.080   0.094\n",
      "DEBUG:openmmtools.multistate.multistateanalyzer:   0.293   0.293   0.059   0.034   0.016   0.000   0.015   0.030   0.043   0.057   0.071   0.086\n",
      "DEBUG:openmmtools.multistate.multistateanalyzer:   0.295   0.295   0.069   0.047   0.031   0.015   0.000   0.015   0.030   0.045   0.061   0.078\n",
      "DEBUG:openmmtools.multistate.multistateanalyzer:   0.297   0.297   0.078   0.059   0.044   0.030   0.015   0.000   0.016   0.032   0.050   0.069\n",
      "DEBUG:openmmtools.multistate.multistateanalyzer:   0.300   0.300   0.086   0.069   0.056   0.043   0.030   0.016   0.000   0.017   0.036   0.057\n",
      "DEBUG:openmmtools.multistate.multistateanalyzer:   0.302   0.302   0.095   0.079   0.068   0.057   0.045   0.032   0.017   0.000   0.020   0.043\n",
      "DEBUG:openmmtools.multistate.multistateanalyzer:   0.305   0.305   0.104   0.090   0.080   0.071   0.061   0.050   0.036   0.020   0.000   0.025\n",
      "DEBUG:openmmtools.multistate.multistateanalyzer:   0.309   0.309   0.114   0.102   0.094   0.086   0.078   0.069   0.057   0.043   0.025   0.000\n",
      "WARNING:openmmtools.multistate.multistateanalyzer:Warning: The openmmtools.multistate API is experimental and may change in future releases\n"
     ]
    },
    {
     "name": "stderr",
     "output_type": "stream",
     "text": [
      "DEBUG:openmmtools.multistate.multistateanalyzer:Checking if we need to unbias the restraint...\n",
      "DEBUG:openmmtools.multistate.multistateanalyzer:Trying to get radially symmetric restraint data...\n",
      "DEBUG:openmmtools.multistate.multistateanalyzer:Retrieving end thermodynamic states...\n",
      "DEBUG:openmmtools.multistate.multistateanalyzer:Isolating restraint force...\n",
      "DEBUG:openmmtools.multistate.multistateanalyzer:No force of type <class 'openmmtools.forces.RadiallySymmetricRestraintForce'> could be found. The restraint will not be unbiased.\n",
      "DEBUG:openmmtools.multistate.multistateanalyzer:Reading energies...\n",
      "DEBUG:openmmtools.multistate.multistatereporter:read_replica_thermodynamic_states: iteration = [   0    1    2 ...  998  999 1000]\n",
      "DEBUG:openmmtools.multistate.multistateanalyzer:Done.\n",
      "DEBUG:openmmtools.multistate.multistateanalyzer:Assembling effective timeseries...\n",
      "DEBUG:openmmtools.multistate.multistateanalyzer:Done.\n",
      "DEBUG:openmmtools.multistate.multistateanalyzer:Could not find t0: None of the requested keys could be found on disk!\n",
      "DEBUG:openmmtools.multistate.multistateanalyzer:Equilibration data:\n",
      "DEBUG:openmmtools.multistate.multistateanalyzer: number of iterations discarded to equilibration : 1\n",
      "DEBUG:openmmtools.multistate.multistateanalyzer: statistical inefficiency of production region   : 3.1001415252685547\n",
      "DEBUG:openmmtools.multistate.multistateanalyzer: effective number of uncorrelated samples        : 194.18467712402344\n",
      "DEBUG:openmmtools.multistate.multistateanalyzer:Assembling uncorrelated energies...\n",
      "DEBUG:openmmtools.multistate.multistateanalyzer:Done.\n",
      "DEBUG:openmmtools.multistate.multistateanalyzer:Computing free energy differences...\n",
      "DEBUG:openmmtools.multistate.multistateanalyzer:Done.\n",
      "DEBUG:openmmtools.multistate.multistateanalyzer:Computing covariance matrix...\n",
      "DEBUG:openmmtools.multistate.multistateanalyzer:Deltaf_ij:\n",
      "DEBUG:openmmtools.multistate.multistateanalyzer:   0.000   0.000   6.843   8.331   8.175   6.421   3.070  -1.893  -8.491 -16.755 -26.707 -38.351\n",
      "DEBUG:openmmtools.multistate.multistateanalyzer:   0.000   0.000   6.843   8.331   8.175   6.421   3.070  -1.893  -8.491 -16.755 -26.707 -38.351\n",
      "DEBUG:openmmtools.multistate.multistateanalyzer:  -6.843  -6.843   0.000   1.488   1.332  -0.422  -3.773  -8.736 -15.335 -23.598 -33.550 -45.194\n",
      "DEBUG:openmmtools.multistate.multistateanalyzer:  -8.331  -8.331  -1.488   0.000  -0.156  -1.909  -5.261 -10.224 -16.822 -25.085 -35.038 -46.682\n",
      "DEBUG:openmmtools.multistate.multistateanalyzer:  -8.175  -8.175  -1.332   0.156   0.000  -1.753  -5.105 -10.068 -16.666 -24.929 -34.882 -46.526\n",
      "DEBUG:openmmtools.multistate.multistateanalyzer:  -6.421  -6.421   0.422   1.909   1.753   0.000  -3.351  -8.314 -14.913 -23.176 -33.129 -44.772\n",
      "DEBUG:openmmtools.multistate.multistateanalyzer:  -3.070  -3.070   3.773   5.261   5.105   3.351   0.000  -4.963 -11.561 -19.825 -29.777 -41.421\n",
      "DEBUG:openmmtools.multistate.multistateanalyzer:   1.893   1.893   8.736  10.224  10.068   8.314   4.963   0.000  -6.598 -14.861 -24.814 -36.458\n",
      "DEBUG:openmmtools.multistate.multistateanalyzer:   8.491   8.491  15.335  16.822  16.666  14.913  11.561   6.598   0.000  -8.263 -18.216 -29.860\n",
      "DEBUG:openmmtools.multistate.multistateanalyzer:  16.755  16.755  23.598  25.085  24.929  23.176  19.825  14.861   8.263   0.000  -9.953 -21.597\n",
      "DEBUG:openmmtools.multistate.multistateanalyzer:  26.707  26.707  33.550  35.038  34.882  33.129  29.777  24.814  18.216   9.953   0.000 -11.644\n",
      "DEBUG:openmmtools.multistate.multistateanalyzer:  38.351  38.351  45.194  46.682  46.526  44.772  41.421  36.458  29.860  21.597  11.644   0.000\n",
      "DEBUG:openmmtools.multistate.multistateanalyzer:dDeltaf_ij:\n",
      "DEBUG:openmmtools.multistate.multistateanalyzer:   0.000   0.000   0.255   0.265   0.268   0.270   0.272   0.274   0.276   0.278   0.281   0.285\n",
      "DEBUG:openmmtools.multistate.multistateanalyzer:   0.000   0.000   0.255   0.265   0.268   0.270   0.272   0.274   0.276   0.278   0.281   0.285\n",
      "DEBUG:openmmtools.multistate.multistateanalyzer:   0.255   0.255   0.000   0.027   0.041   0.052   0.060   0.068   0.076   0.084   0.093   0.103\n",
      "DEBUG:openmmtools.multistate.multistateanalyzer:   0.265   0.265   0.027   0.000   0.016   0.029   0.040   0.051   0.060   0.070   0.080   0.092\n",
      "DEBUG:openmmtools.multistate.multistateanalyzer:   0.268   0.268   0.041   0.016   0.000   0.014   0.026   0.038   0.049   0.061   0.072   0.085\n",
      "DEBUG:openmmtools.multistate.multistateanalyzer:   0.270   0.270   0.052   0.029   0.014   0.000   0.013   0.026   0.039   0.052   0.064   0.078\n",
      "DEBUG:openmmtools.multistate.multistateanalyzer:   0.272   0.272   0.060   0.040   0.026   0.013   0.000   0.013   0.027   0.042   0.056   0.071\n",
      "DEBUG:openmmtools.multistate.multistateanalyzer:   0.274   0.274   0.068   0.051   0.038   0.026   0.013   0.000   0.015   0.030   0.046   0.063\n",
      "DEBUG:openmmtools.multistate.multistateanalyzer:   0.276   0.276   0.076   0.060   0.049   0.039   0.027   0.015   0.000   0.016   0.034   0.053\n",
      "DEBUG:openmmtools.multistate.multistateanalyzer:   0.278   0.278   0.084   0.070   0.061   0.052   0.042   0.030   0.016   0.000   0.018   0.039\n",
      "DEBUG:openmmtools.multistate.multistateanalyzer:   0.281   0.281   0.093   0.080   0.072   0.064   0.056   0.046   0.034   0.018   0.000   0.023\n",
      "DEBUG:openmmtools.multistate.multistateanalyzer:   0.285   0.285   0.103   0.092   0.085   0.078   0.071   0.063   0.053   0.039   0.023   0.000\n",
      "WARNING:openmmtools.multistate.multistateanalyzer:Warning: The openmmtools.multistate API is experimental and may change in future releases\n",
      "DEBUG:openmmtools.multistate.multistateanalyzer:Checking if we need to unbias the restraint...\n",
      "DEBUG:openmmtools.multistate.multistateanalyzer:Trying to get radially symmetric restraint data...\n",
      "DEBUG:openmmtools.multistate.multistateanalyzer:Retrieving end thermodynamic states...\n",
      "DEBUG:openmmtools.multistate.multistateanalyzer:Isolating restraint force...\n",
      "DEBUG:openmmtools.multistate.multistateanalyzer:No force of type <class 'openmmtools.forces.RadiallySymmetricRestraintForce'> could be found. The restraint will not be unbiased.\n",
      "DEBUG:openmmtools.multistate.multistateanalyzer:Reading energies...\n",
      "DEBUG:openmmtools.multistate.multistatereporter:read_replica_thermodynamic_states: iteration = [   0    1    2 ...  998  999 1000]\n",
      "DEBUG:openmmtools.multistate.multistateanalyzer:Done.\n",
      "DEBUG:openmmtools.multistate.multistateanalyzer:Assembling effective timeseries...\n",
      "DEBUG:openmmtools.multistate.multistateanalyzer:Done.\n",
      "DEBUG:openmmtools.multistate.multistateanalyzer:Could not find t0: None of the requested keys could be found on disk!\n",
      "DEBUG:openmmtools.multistate.multistateanalyzer:Equilibration data:\n",
      "DEBUG:openmmtools.multistate.multistateanalyzer: number of iterations discarded to equilibration : 1\n",
      "DEBUG:openmmtools.multistate.multistateanalyzer: statistical inefficiency of production region   : 3.1039867401123047\n",
      "DEBUG:openmmtools.multistate.multistateanalyzer: effective number of uncorrelated samples        : 226.1607666015625\n",
      "DEBUG:openmmtools.multistate.multistateanalyzer:Assembling uncorrelated energies...\n",
      "DEBUG:openmmtools.multistate.multistateanalyzer:Done.\n",
      "DEBUG:openmmtools.multistate.multistateanalyzer:Computing free energy differences...\n",
      "DEBUG:openmmtools.multistate.multistateanalyzer:Done.\n",
      "DEBUG:openmmtools.multistate.multistateanalyzer:Computing covariance matrix...\n",
      "DEBUG:openmmtools.multistate.multistateanalyzer:Deltaf_ij:\n",
      "DEBUG:openmmtools.multistate.multistateanalyzer:   0.000   0.000   7.105   8.614   8.472   6.732   3.392  -1.564  -8.163 -16.440 -26.422 -38.118\n",
      "DEBUG:openmmtools.multistate.multistateanalyzer:   0.000   0.000   7.105   8.614   8.472   6.732   3.392  -1.564  -8.163 -16.440 -26.422 -38.118\n",
      "DEBUG:openmmtools.multistate.multistateanalyzer:  -7.105  -7.105   0.000   1.508   1.367  -0.374  -3.713  -8.669 -15.269 -23.545 -33.528 -45.224\n",
      "DEBUG:openmmtools.multistate.multistateanalyzer:  -8.614  -8.614  -1.508   0.000  -0.141  -1.882  -5.222 -10.178 -16.777 -25.053 -35.036 -46.732\n",
      "DEBUG:openmmtools.multistate.multistateanalyzer:  -8.472  -8.472  -1.367   0.141   0.000  -1.740  -5.080 -10.036 -16.636 -24.912 -34.895 -46.590\n",
      "DEBUG:openmmtools.multistate.multistateanalyzer:  -6.732  -6.732   0.374   1.882   1.740   0.000  -3.340  -8.296 -14.895 -23.172 -33.154 -44.850\n"
     ]
    },
    {
     "name": "stderr",
     "output_type": "stream",
     "text": [
      "DEBUG:openmmtools.multistate.multistateanalyzer:  -3.392  -3.392   3.713   5.222   5.080   3.340   0.000  -4.956 -11.555 -19.832 -29.814 -41.510\n",
      "DEBUG:openmmtools.multistate.multistateanalyzer:   1.564   1.564   8.669  10.178  10.036   8.296   4.956   0.000  -6.599 -14.876 -24.858 -36.554\n",
      "DEBUG:openmmtools.multistate.multistateanalyzer:   8.163   8.163  15.269  16.777  16.636  14.895  11.555   6.599   0.000  -8.276 -18.259 -29.955\n",
      "DEBUG:openmmtools.multistate.multistateanalyzer:  16.440  16.440  23.545  25.053  24.912  23.172  19.832  14.876   8.276   0.000  -9.983 -21.678\n",
      "DEBUG:openmmtools.multistate.multistateanalyzer:  26.422  26.422  33.528  35.036  34.895  33.154  29.814  24.858  18.259   9.983   0.000 -11.696\n",
      "DEBUG:openmmtools.multistate.multistateanalyzer:  38.118  38.118  45.224  46.732  46.590  44.850  41.510  36.554  29.955  21.678  11.696   0.000\n",
      "DEBUG:openmmtools.multistate.multistateanalyzer:dDeltaf_ij:\n",
      "DEBUG:openmmtools.multistate.multistateanalyzer:   0.000   0.000   0.253   0.262   0.265   0.267   0.269   0.271   0.272   0.275   0.277   0.280\n",
      "DEBUG:openmmtools.multistate.multistateanalyzer:   0.000   0.000   0.253   0.262   0.265   0.267   0.269   0.271   0.272   0.275   0.277   0.280\n",
      "DEBUG:openmmtools.multistate.multistateanalyzer:   0.253   0.253   0.000   0.025   0.039   0.048   0.056   0.064   0.071   0.079   0.087   0.097\n",
      "DEBUG:openmmtools.multistate.multistateanalyzer:   0.262   0.262   0.025   0.000   0.015   0.027   0.038   0.047   0.056   0.066   0.076   0.087\n",
      "DEBUG:openmmtools.multistate.multistateanalyzer:   0.265   0.265   0.039   0.015   0.000   0.013   0.024   0.035   0.046   0.057   0.068   0.080\n",
      "DEBUG:openmmtools.multistate.multistateanalyzer:   0.267   0.267   0.048   0.027   0.013   0.000   0.012   0.024   0.037   0.049   0.061   0.074\n",
      "DEBUG:openmmtools.multistate.multistateanalyzer:   0.269   0.269   0.056   0.038   0.024   0.012   0.000   0.013   0.026   0.040   0.053   0.068\n",
      "DEBUG:openmmtools.multistate.multistateanalyzer:   0.271   0.271   0.064   0.047   0.035   0.024   0.013   0.000   0.014   0.029   0.044   0.060\n",
      "DEBUG:openmmtools.multistate.multistateanalyzer:   0.272   0.272   0.071   0.056   0.046   0.037   0.026   0.014   0.000   0.016   0.032   0.051\n",
      "DEBUG:openmmtools.multistate.multistateanalyzer:   0.275   0.275   0.079   0.066   0.057   0.049   0.040   0.029   0.016   0.000   0.018   0.038\n",
      "DEBUG:openmmtools.multistate.multistateanalyzer:   0.277   0.277   0.087   0.076   0.068   0.061   0.053   0.044   0.032   0.018   0.000   0.022\n",
      "DEBUG:openmmtools.multistate.multistateanalyzer:   0.280   0.280   0.097   0.087   0.080   0.074   0.068   0.060   0.051   0.038   0.022   0.000\n",
      "WARNING:openmmtools.multistate.multistateanalyzer:Warning: The openmmtools.multistate API is experimental and may change in future releases\n",
      "DEBUG:openmmtools.multistate.multistateanalyzer:Checking if we need to unbias the restraint...\n",
      "DEBUG:openmmtools.multistate.multistateanalyzer:Trying to get radially symmetric restraint data...\n",
      "DEBUG:openmmtools.multistate.multistateanalyzer:Retrieving end thermodynamic states...\n",
      "DEBUG:openmmtools.multistate.multistateanalyzer:Isolating restraint force...\n",
      "DEBUG:openmmtools.multistate.multistateanalyzer:No force of type <class 'openmmtools.forces.RadiallySymmetricRestraintForce'> could be found. The restraint will not be unbiased.\n",
      "DEBUG:openmmtools.multistate.multistateanalyzer:Reading energies...\n",
      "DEBUG:openmmtools.multistate.multistatereporter:read_replica_thermodynamic_states: iteration = [   0    1    2 ...  998  999 1000]\n",
      "DEBUG:openmmtools.multistate.multistateanalyzer:Done.\n",
      "DEBUG:openmmtools.multistate.multistateanalyzer:Assembling effective timeseries...\n",
      "DEBUG:openmmtools.multistate.multistateanalyzer:Done.\n",
      "DEBUG:openmmtools.multistate.multistateanalyzer:Could not find t0: None of the requested keys could be found on disk!\n",
      "DEBUG:openmmtools.multistate.multistateanalyzer:Equilibration data:\n",
      "DEBUG:openmmtools.multistate.multistateanalyzer: number of iterations discarded to equilibration : 1\n",
      "DEBUG:openmmtools.multistate.multistateanalyzer: statistical inefficiency of production region   : 3.1193535327911377\n",
      "DEBUG:openmmtools.multistate.multistateanalyzer: effective number of uncorrelated samples        : 257.10455322265625\n",
      "DEBUG:openmmtools.multistate.multistateanalyzer:Assembling uncorrelated energies...\n",
      "DEBUG:openmmtools.multistate.multistateanalyzer:Done.\n",
      "DEBUG:openmmtools.multistate.multistateanalyzer:Computing free energy differences...\n",
      "DEBUG:openmmtools.multistate.multistateanalyzer:Done.\n",
      "DEBUG:openmmtools.multistate.multistateanalyzer:Computing covariance matrix...\n",
      "DEBUG:openmmtools.multistate.multistateanalyzer:Deltaf_ij:\n",
      "DEBUG:openmmtools.multistate.multistateanalyzer:   0.000   0.000   6.936   8.425   8.271   6.518   3.166  -1.800  -8.403 -16.675 -26.645 -38.318\n",
      "DEBUG:openmmtools.multistate.multistateanalyzer:   0.000   0.000   6.936   8.425   8.271   6.518   3.166  -1.800  -8.403 -16.675 -26.645 -38.318\n",
      "DEBUG:openmmtools.multistate.multistateanalyzer:  -6.936  -6.936   0.000   1.489   1.335  -0.418  -3.771  -8.736 -15.339 -23.611 -33.581 -45.254\n",
      "DEBUG:openmmtools.multistate.multistateanalyzer:  -8.425  -8.425  -1.489   0.000  -0.154  -1.906  -5.259 -10.225 -16.827 -25.099 -35.069 -46.742\n",
      "DEBUG:openmmtools.multistate.multistateanalyzer:  -8.271  -8.271  -1.335   0.154   0.000  -1.753  -5.105 -10.071 -16.674 -24.946 -34.916 -46.589\n",
      "DEBUG:openmmtools.multistate.multistateanalyzer:  -6.518  -6.518   0.418   1.906   1.753   0.000  -3.353  -8.319 -14.921 -23.193 -33.163 -44.836\n",
      "DEBUG:openmmtools.multistate.multistateanalyzer:  -3.166  -3.166   3.771   5.259   5.105   3.353   0.000  -4.966 -11.568 -19.840 -29.810 -41.483\n",
      "DEBUG:openmmtools.multistate.multistateanalyzer:   1.800   1.800   8.736  10.225  10.071   8.319   4.966   0.000  -6.603 -14.874 -24.844 -36.517\n",
      "DEBUG:openmmtools.multistate.multistateanalyzer:   8.403   8.403  15.339  16.827  16.674  14.921  11.568   6.603   0.000  -8.272 -18.242 -29.915\n",
      "DEBUG:openmmtools.multistate.multistateanalyzer:  16.675  16.675  23.611  25.099  24.946  23.193  19.840  14.874   8.272   0.000  -9.970 -21.643\n",
      "DEBUG:openmmtools.multistate.multistateanalyzer:  26.645  26.645  33.581  35.069  34.916  33.163  29.810  24.844  18.242   9.970   0.000 -11.673\n",
      "DEBUG:openmmtools.multistate.multistateanalyzer:  38.318  38.318  45.254  46.742  46.589  44.836  41.483  36.517  29.915  21.643  11.673   0.000\n",
      "DEBUG:openmmtools.multistate.multistateanalyzer:dDeltaf_ij:\n",
      "DEBUG:openmmtools.multistate.multistateanalyzer:   0.000   0.000   0.219   0.228   0.231   0.233   0.235   0.237   0.238   0.240   0.243   0.246\n",
      "DEBUG:openmmtools.multistate.multistateanalyzer:   0.000   0.000   0.219   0.228   0.231   0.233   0.235   0.237   0.238   0.240   0.243   0.246\n",
      "DEBUG:openmmtools.multistate.multistateanalyzer:   0.219   0.219   0.000   0.023   0.036   0.045   0.053   0.060   0.066   0.073   0.081   0.090\n",
      "DEBUG:openmmtools.multistate.multistateanalyzer:   0.228   0.228   0.023   0.000   0.014   0.026   0.036   0.044   0.053   0.061   0.071   0.081\n",
      "DEBUG:openmmtools.multistate.multistateanalyzer:   0.231   0.231   0.036   0.014   0.000   0.012   0.023   0.033   0.043   0.053   0.063   0.075\n",
      "DEBUG:openmmtools.multistate.multistateanalyzer:   0.233   0.233   0.045   0.026   0.012   0.000   0.012   0.023   0.034   0.045   0.057   0.069\n",
      "DEBUG:openmmtools.multistate.multistateanalyzer:   0.235   0.235   0.053   0.036   0.023   0.012   0.000   0.012   0.024   0.036   0.049   0.063\n",
      "DEBUG:openmmtools.multistate.multistateanalyzer:   0.237   0.237   0.060   0.044   0.033   0.023   0.012   0.000   0.013   0.026   0.041   0.056\n",
      "DEBUG:openmmtools.multistate.multistateanalyzer:   0.238   0.238   0.066   0.053   0.043   0.034   0.024   0.013   0.000   0.014   0.030   0.047\n",
      "DEBUG:openmmtools.multistate.multistateanalyzer:   0.240   0.240   0.073   0.061   0.053   0.045   0.036   0.026   0.014   0.000   0.016   0.035\n",
      "DEBUG:openmmtools.multistate.multistateanalyzer:   0.243   0.243   0.081   0.071   0.063   0.057   0.049   0.041   0.030   0.016   0.000   0.020\n",
      "DEBUG:openmmtools.multistate.multistateanalyzer:   0.246   0.246   0.090   0.081   0.075   0.069   0.063   0.056   0.047   0.035   0.020   0.000\n"
     ]
    },
    {
     "name": "stderr",
     "output_type": "stream",
     "text": [
      "WARNING:openmmtools.multistate.multistateanalyzer:Warning: The openmmtools.multistate API is experimental and may change in future releases\n",
      "DEBUG:openmmtools.multistate.multistateanalyzer:Checking if we need to unbias the restraint...\n",
      "DEBUG:openmmtools.multistate.multistateanalyzer:Trying to get radially symmetric restraint data...\n",
      "DEBUG:openmmtools.multistate.multistateanalyzer:Retrieving end thermodynamic states...\n",
      "DEBUG:openmmtools.multistate.multistateanalyzer:Isolating restraint force...\n",
      "DEBUG:openmmtools.multistate.multistateanalyzer:No force of type <class 'openmmtools.forces.RadiallySymmetricRestraintForce'> could be found. The restraint will not be unbiased.\n",
      "DEBUG:openmmtools.multistate.multistateanalyzer:Reading energies...\n",
      "DEBUG:openmmtools.multistate.multistatereporter:read_replica_thermodynamic_states: iteration = [   0    1    2 ...  998  999 1000]\n",
      "DEBUG:openmmtools.multistate.multistateanalyzer:Done.\n",
      "DEBUG:openmmtools.multistate.multistateanalyzer:Assembling effective timeseries...\n",
      "DEBUG:openmmtools.multistate.multistateanalyzer:Done.\n",
      "DEBUG:openmmtools.multistate.multistateanalyzer:Could not find t0: None of the requested keys could be found on disk!\n",
      "DEBUG:openmmtools.multistate.multistateanalyzer:Equilibration data:\n",
      "DEBUG:openmmtools.multistate.multistateanalyzer: number of iterations discarded to equilibration : 1\n",
      "DEBUG:openmmtools.multistate.multistateanalyzer: statistical inefficiency of production region   : 3.1203956604003906\n",
      "DEBUG:openmmtools.multistate.multistateanalyzer: effective number of uncorrelated samples        : 289.06591796875\n",
      "DEBUG:openmmtools.multistate.multistateanalyzer:Assembling uncorrelated energies...\n",
      "DEBUG:openmmtools.multistate.multistateanalyzer:Done.\n",
      "DEBUG:openmmtools.multistate.multistateanalyzer:Computing free energy differences...\n",
      "DEBUG:openmmtools.multistate.multistateanalyzer:Done.\n",
      "DEBUG:openmmtools.multistate.multistateanalyzer:Computing covariance matrix...\n",
      "DEBUG:openmmtools.multistate.multistateanalyzer:Deltaf_ij:\n",
      "DEBUG:openmmtools.multistate.multistateanalyzer:   0.000   0.000   6.908   8.400   8.247   6.496   3.144  -1.823  -8.434 -16.723 -26.717 -38.411\n",
      "DEBUG:openmmtools.multistate.multistateanalyzer:   0.000   0.000   6.908   8.400   8.247   6.496   3.144  -1.823  -8.434 -16.723 -26.717 -38.411\n",
      "DEBUG:openmmtools.multistate.multistateanalyzer:  -6.908  -6.908   0.000   1.492   1.339  -0.412  -3.764  -8.732 -15.343 -23.631 -33.625 -45.319\n",
      "DEBUG:openmmtools.multistate.multistateanalyzer:  -8.400  -8.400  -1.492   0.000  -0.153  -1.904  -5.256 -10.224 -16.834 -25.123 -35.117 -46.811\n",
      "DEBUG:openmmtools.multistate.multistateanalyzer:  -8.247  -8.247  -1.339   0.153   0.000  -1.751  -5.103 -10.071 -16.681 -24.970 -34.964 -46.658\n",
      "DEBUG:openmmtools.multistate.multistateanalyzer:  -6.496  -6.496   0.412   1.904   1.751   0.000  -3.352  -8.319 -14.930 -23.219 -33.213 -44.907\n",
      "DEBUG:openmmtools.multistate.multistateanalyzer:  -3.144  -3.144   3.764   5.256   5.103   3.352   0.000  -4.968 -11.578 -19.867 -29.861 -41.555\n",
      "DEBUG:openmmtools.multistate.multistateanalyzer:   1.823   1.823   8.732  10.224  10.071   8.319   4.968   0.000  -6.611 -14.900 -24.894 -36.588\n",
      "DEBUG:openmmtools.multistate.multistateanalyzer:   8.434   8.434  15.343  16.834  16.681  14.930  11.578   6.611   0.000  -8.289 -18.283 -29.977\n",
      "DEBUG:openmmtools.multistate.multistateanalyzer:  16.723  16.723  23.631  25.123  24.970  23.219  19.867  14.900   8.289   0.000  -9.994 -21.688\n",
      "DEBUG:openmmtools.multistate.multistateanalyzer:  26.717  26.717  33.625  35.117  34.964  33.213  29.861  24.894  18.283   9.994   0.000 -11.694\n",
      "DEBUG:openmmtools.multistate.multistateanalyzer:  38.411  38.411  45.319  46.811  46.658  44.907  41.555  36.588  29.977  21.688  11.694   0.000\n",
      "DEBUG:openmmtools.multistate.multistateanalyzer:dDeltaf_ij:\n",
      "DEBUG:openmmtools.multistate.multistateanalyzer:   0.000   0.000   0.203   0.211   0.214   0.216   0.218   0.219   0.221   0.223   0.225   0.228\n",
      "DEBUG:openmmtools.multistate.multistateanalyzer:   0.000   0.000   0.203   0.211   0.214   0.216   0.218   0.219   0.221   0.223   0.225   0.228\n",
      "DEBUG:openmmtools.multistate.multistateanalyzer:   0.203   0.203   0.000   0.022   0.034   0.042   0.050   0.056   0.063   0.070   0.077   0.085\n",
      "DEBUG:openmmtools.multistate.multistateanalyzer:   0.211   0.211   0.022   0.000   0.013   0.024   0.033   0.042   0.050   0.058   0.067   0.076\n",
      "DEBUG:openmmtools.multistate.multistateanalyzer:   0.214   0.214   0.034   0.013   0.000   0.011   0.022   0.031   0.041   0.051   0.060   0.071\n",
      "DEBUG:openmmtools.multistate.multistateanalyzer:   0.216   0.216   0.042   0.024   0.011   0.000   0.011   0.022   0.032   0.043   0.054   0.065\n",
      "DEBUG:openmmtools.multistate.multistateanalyzer:   0.218   0.218   0.050   0.033   0.022   0.011   0.000   0.011   0.023   0.035   0.047   0.060\n",
      "DEBUG:openmmtools.multistate.multistateanalyzer:   0.219   0.219   0.056   0.042   0.031   0.022   0.011   0.000   0.012   0.026   0.039   0.053\n",
      "DEBUG:openmmtools.multistate.multistateanalyzer:   0.221   0.221   0.063   0.050   0.041   0.032   0.023   0.012   0.000   0.014   0.029   0.044\n",
      "DEBUG:openmmtools.multistate.multistateanalyzer:   0.223   0.223   0.070   0.058   0.051   0.043   0.035   0.026   0.014   0.000   0.016   0.033\n",
      "DEBUG:openmmtools.multistate.multistateanalyzer:   0.225   0.225   0.077   0.067   0.060   0.054   0.047   0.039   0.029   0.016   0.000   0.018\n",
      "DEBUG:openmmtools.multistate.multistateanalyzer:   0.228   0.228   0.085   0.076   0.071   0.065   0.060   0.053   0.044   0.033   0.018   0.000\n",
      "WARNING:openmmtools.multistate.multistateanalyzer:Warning: The openmmtools.multistate API is experimental and may change in future releases\n",
      "DEBUG:openmmtools.multistate.multistateanalyzer:Checking if we need to unbias the restraint...\n",
      "DEBUG:openmmtools.multistate.multistateanalyzer:Trying to get radially symmetric restraint data...\n",
      "DEBUG:openmmtools.multistate.multistateanalyzer:Retrieving end thermodynamic states...\n",
      "DEBUG:openmmtools.multistate.multistateanalyzer:Isolating restraint force...\n",
      "DEBUG:openmmtools.multistate.multistateanalyzer:No force of type <class 'openmmtools.forces.RadiallySymmetricRestraintForce'> could be found. The restraint will not be unbiased.\n",
      "DEBUG:openmmtools.multistate.multistateanalyzer:Reading energies...\n",
      "DEBUG:openmmtools.multistate.multistatereporter:read_replica_thermodynamic_states: iteration = [   0    1    2 ...  998  999 1000]\n",
      "DEBUG:openmmtools.multistate.multistateanalyzer:Done.\n",
      "DEBUG:openmmtools.multistate.multistateanalyzer:Assembling effective timeseries...\n",
      "DEBUG:openmmtools.multistate.multistateanalyzer:Done.\n",
      "DEBUG:openmmtools.multistate.multistateanalyzer:Could not find t0: None of the requested keys could be found on disk!\n",
      "DEBUG:openmmtools.multistate.multistateanalyzer:Equilibration data:\n",
      "DEBUG:openmmtools.multistate.multistateanalyzer: number of iterations discarded to equilibration : 1\n",
      "DEBUG:openmmtools.multistate.multistateanalyzer: statistical inefficiency of production region   : 3.1108083724975586\n",
      "DEBUG:openmmtools.multistate.multistateanalyzer: effective number of uncorrelated samples        : 321.78131103515625\n",
      "DEBUG:openmmtools.multistate.multistateanalyzer:Assembling uncorrelated energies...\n",
      "DEBUG:openmmtools.multistate.multistateanalyzer:Done.\n",
      "DEBUG:openmmtools.multistate.multistateanalyzer:Computing free energy differences...\n",
      "DEBUG:openmmtools.multistate.multistateanalyzer:Done.\n",
      "DEBUG:openmmtools.multistate.multistateanalyzer:Computing covariance matrix...\n",
      "DEBUG:openmmtools.multistate.multistateanalyzer:Deltaf_ij:\n",
      "DEBUG:openmmtools.multistate.multistateanalyzer:   0.000   0.000   6.721   8.202   8.052   6.297   2.932  -2.058  -8.696 -17.003 -26.992 -38.659\n",
      "DEBUG:openmmtools.multistate.multistateanalyzer:   0.000   0.000   6.721   8.202   8.052   6.297   2.932  -2.058  -8.696 -17.003 -26.992 -38.659\n",
      "DEBUG:openmmtools.multistate.multistateanalyzer:  -6.721  -6.721   0.000   1.481   1.331  -0.424  -3.789  -8.779 -15.417 -23.724 -33.713 -45.380\n",
      "DEBUG:openmmtools.multistate.multistateanalyzer:  -8.202  -8.202  -1.481   0.000  -0.151  -1.905  -5.270 -10.260 -16.898 -25.205 -35.194 -46.861\n",
      "DEBUG:openmmtools.multistate.multistateanalyzer:  -8.052  -8.052  -1.331   0.151   0.000  -1.755  -5.119 -10.110 -16.748 -25.055 -35.044 -46.710\n"
     ]
    },
    {
     "name": "stderr",
     "output_type": "stream",
     "text": [
      "DEBUG:openmmtools.multistate.multistateanalyzer:  -6.297  -6.297   0.424   1.905   1.755   0.000  -3.365  -8.355 -14.993 -23.300 -33.289 -44.956\n",
      "DEBUG:openmmtools.multistate.multistateanalyzer:  -2.932  -2.932   3.789   5.270   5.119   3.365   0.000  -4.990 -11.628 -19.935 -29.924 -41.591\n",
      "DEBUG:openmmtools.multistate.multistateanalyzer:   2.058   2.058   8.779  10.260  10.110   8.355   4.990   0.000  -6.638 -14.945 -24.934 -36.601\n",
      "DEBUG:openmmtools.multistate.multistateanalyzer:   8.696   8.696  15.417  16.898  16.748  14.993  11.628   6.638   0.000  -8.307 -18.296 -29.963\n",
      "DEBUG:openmmtools.multistate.multistateanalyzer:  17.003  17.003  23.724  25.205  25.055  23.300  19.935  14.945   8.307   0.000  -9.989 -21.656\n",
      "DEBUG:openmmtools.multistate.multistateanalyzer:  26.992  26.992  33.713  35.194  35.044  33.289  29.924  24.934  18.296   9.989   0.000 -11.667\n",
      "DEBUG:openmmtools.multistate.multistateanalyzer:  38.659  38.659  45.380  46.861  46.710  44.956  41.591  36.601  29.963  21.656  11.667   0.000\n",
      "DEBUG:openmmtools.multistate.multistateanalyzer:dDeltaf_ij:\n",
      "DEBUG:openmmtools.multistate.multistateanalyzer:   0.000   0.000   0.194   0.201   0.204   0.206   0.207   0.209   0.211   0.213   0.215   0.217\n",
      "DEBUG:openmmtools.multistate.multistateanalyzer:   0.000   0.000   0.194   0.201   0.204   0.206   0.207   0.209   0.211   0.213   0.215   0.217\n",
      "DEBUG:openmmtools.multistate.multistateanalyzer:   0.194   0.194   0.000   0.020   0.031   0.040   0.047   0.053   0.060   0.066   0.072   0.080\n",
      "DEBUG:openmmtools.multistate.multistateanalyzer:   0.201   0.201   0.020   0.000   0.013   0.023   0.032   0.040   0.048   0.056   0.063   0.072\n",
      "DEBUG:openmmtools.multistate.multistateanalyzer:   0.204   0.204   0.031   0.013   0.000   0.011   0.021   0.031   0.040   0.048   0.057   0.066\n",
      "DEBUG:openmmtools.multistate.multistateanalyzer:   0.206   0.206   0.040   0.023   0.011   0.000   0.011   0.021   0.031   0.041   0.051   0.061\n",
      "DEBUG:openmmtools.multistate.multistateanalyzer:   0.207   0.207   0.047   0.032   0.021   0.011   0.000   0.011   0.022   0.033   0.044   0.055\n",
      "DEBUG:openmmtools.multistate.multistateanalyzer:   0.209   0.209   0.053   0.040   0.031   0.021   0.011   0.000   0.012   0.024   0.036   0.048\n",
      "DEBUG:openmmtools.multistate.multistateanalyzer:   0.211   0.211   0.060   0.048   0.040   0.031   0.022   0.012   0.000   0.013   0.026   0.040\n",
      "DEBUG:openmmtools.multistate.multistateanalyzer:   0.213   0.213   0.066   0.056   0.048   0.041   0.033   0.024   0.013   0.000   0.014   0.030\n",
      "DEBUG:openmmtools.multistate.multistateanalyzer:   0.215   0.215   0.072   0.063   0.057   0.051   0.044   0.036   0.026   0.014   0.000   0.017\n",
      "DEBUG:openmmtools.multistate.multistateanalyzer:   0.217   0.217   0.080   0.072   0.066   0.061   0.055   0.048   0.040   0.030   0.017   0.000\n"
     ]
    },
    {
     "name": "stdout",
     "output_type": "stream",
     "text": [
      "Neff:  [ 668.89038515  668.89038515  981.51300556 1520.49874899 1880.12488727\n",
      " 2101.50828034 2209.75421358 2221.54896599 2117.06995302 1854.66148483\n",
      " 1439.50094301  915.84348525]\n"
     ]
    }
   ],
   "source": [
    "output_dir = f'/data/chodera/zhangi/perses_benchmark/repex/{main_dir}/{sub_dir}/{chunk}/'\n",
    "\n",
    "print(\"analyzing apo\")\n",
    "apo_path = os.path.join(output_dir, f\"{chunk}_apo.nc\")\n",
    "apo_dg, apo_ddg, f_ij, df_ij = analyze_dom(apo_path)\n",
    "\n",
    "results = np.array([apo_dg, apo_ddg])\n",
    "with open(f'/data/chodera/zhangi/perses_benchmark/repex/{main_dir}/{sub_dir}/{chunk}/results_apo.npy', 'wb') as f:\n",
    "    np.save(f, results)\n",
    "\n",
    "with open(f'/data/chodera/zhangi/perses_benchmark/repex/{main_dir}/{sub_dir}/{chunk}/f_ij_apo.npy', 'wb') as f:\n",
    "    np.save(f, f_ij)"
   ]
  },
  {
   "cell_type": "code",
   "execution_count": 11,
   "metadata": {
    "scrolled": true
   },
   "outputs": [
    {
     "data": {
      "text/plain": [
       "array([-39.21296576, -37.72463615, -38.53716837, -38.39705895,\n",
       "       -38.50063622, -38.17862421, -38.35124147, -38.11819658,\n",
       "       -38.31774375, -38.41100898, -38.65853916])"
      ]
     },
     "execution_count": 11,
     "metadata": {},
     "output_type": "execute_result"
    }
   ],
   "source": [
    "apo_dg"
   ]
  },
  {
   "cell_type": "code",
   "execution_count": 12,
   "metadata": {
    "scrolled": true
   },
   "outputs": [
    {
     "name": "stdout",
     "output_type": "stream",
     "text": [
      "4 apo: -38.65853915648068 (0.21727557747086887) kT\n",
      "\n"
     ]
    }
   ],
   "source": [
    "# Read the dicts in and compute free energies (kT)\n",
    "d_results = {}\n",
    "with open(f\"/data/chodera/zhangi/perses_benchmark/repex/{main_dir}/{sub_dir}/{chunk}/results_apo.npy\", \"rb\") as f:\n",
    "    results = np.load(f, allow_pickle=True)\n",
    "    d_results[chunk] = results\n",
    "    apo_dg, apo_ddg = [result[-1] for result in results]\n",
    "    print(f\"{chunk} apo: {apo_dg} ({apo_ddg}) kT\")\n",
    "    print()\n"
   ]
  },
  {
   "cell_type": "code",
   "execution_count": 13,
   "metadata": {},
   "outputs": [
    {
     "name": "stderr",
     "output_type": "stream",
     "text": [
      "DEBUG:matplotlib.axes._base:top of axes not in the figure, so title not moved\n",
      "DEBUG:matplotlib.axes._base:top of axes not in the figure, so title not moved\n",
      "DEBUG:matplotlib.axes._base:top of axes not in the figure, so title not moved\n",
      "DEBUG:matplotlib.axes._base:top of axes not in the figure, so title not moved\n",
      "DEBUG:matplotlib.axes._base:top of axes not in the figure, so title not moved\n",
      "DEBUG:matplotlib.axes._base:top of axes not in the figure, so title not moved\n",
      "DEBUG:matplotlib.axes._base:top of axes not in the figure, so title not moved\n",
      "DEBUG:matplotlib.axes._base:top of axes not in the figure, so title not moved\n",
      "DEBUG:matplotlib.axes._base:top of axes not in the figure, so title not moved\n",
      "DEBUG:matplotlib.axes._base:top of axes not in the figure, so title not moved\n",
      "DEBUG:matplotlib.axes._base:top of axes not in the figure, so title not moved\n",
      "DEBUG:matplotlib.axes._base:top of axes not in the figure, so title not moved\n",
      "DEBUG:matplotlib.axes._base:top of axes not in the figure, so title not moved\n",
      "DEBUG:matplotlib.axes._base:top of axes not in the figure, so title not moved\n",
      "DEBUG:matplotlib.axes._base:top of axes not in the figure, so title not moved\n",
      "DEBUG:matplotlib.axes._base:top of axes not in the figure, so title not moved\n",
      "DEBUG:matplotlib.axes._base:top of axes not in the figure, so title not moved\n",
      "DEBUG:matplotlib.axes._base:top of axes not in the figure, so title not moved\n",
      "DEBUG:matplotlib.axes._base:top of axes not in the figure, so title not moved\n",
      "DEBUG:matplotlib.axes._base:top of axes not in the figure, so title not moved\n",
      "DEBUG:matplotlib.axes._base:top of axes not in the figure, so title not moved\n",
      "DEBUG:matplotlib.axes._base:top of axes not in the figure, so title not moved\n",
      "DEBUG:matplotlib.axes._base:top of axes not in the figure, so title not moved\n",
      "DEBUG:matplotlib.axes._base:top of axes not in the figure, so title not moved\n",
      "DEBUG:matplotlib.axes._base:top of axes not in the figure, so title not moved\n",
      "DEBUG:matplotlib.axes._base:top of axes not in the figure, so title not moved\n",
      "DEBUG:matplotlib.axes._base:top of axes not in the figure, so title not moved\n",
      "DEBUG:matplotlib.axes._base:top of axes not in the figure, so title not moved\n",
      "DEBUG:matplotlib.axes._base:top of axes not in the figure, so title not moved\n",
      "DEBUG:matplotlib.axes._base:top of axes not in the figure, so title not moved\n",
      "DEBUG:matplotlib.axes._base:top of axes not in the figure, so title not moved\n",
      "DEBUG:matplotlib.axes._base:top of axes not in the figure, so title not moved\n",
      "DEBUG:matplotlib.axes._base:top of axes not in the figure, so title not moved\n",
      "DEBUG:matplotlib.axes._base:top of axes not in the figure, so title not moved\n",
      "DEBUG:matplotlib.axes._base:top of axes not in the figure, so title not moved\n",
      "DEBUG:matplotlib.axes._base:top of axes not in the figure, so title not moved\n",
      "DEBUG:matplotlib.axes._base:top of axes not in the figure, so title not moved\n",
      "DEBUG:matplotlib.axes._base:top of axes not in the figure, so title not moved\n",
      "DEBUG:matplotlib.axes._base:top of axes not in the figure, so title not moved\n",
      "DEBUG:matplotlib.axes._base:top of axes not in the figure, so title not moved\n",
      "DEBUG:matplotlib.axes._base:top of axes not in the figure, so title not moved\n",
      "DEBUG:matplotlib.axes._base:top of axes not in the figure, so title not moved\n",
      "DEBUG:matplotlib.axes._base:top of axes not in the figure, so title not moved\n",
      "DEBUG:matplotlib.axes._base:top of axes not in the figure, so title not moved\n",
      "DEBUG:matplotlib.axes._base:top of axes not in the figure, so title not moved\n",
      "DEBUG:matplotlib.axes._base:top of axes not in the figure, so title not moved\n",
      "DEBUG:matplotlib.axes._base:top of axes not in the figure, so title not moved\n",
      "DEBUG:matplotlib.axes._base:top of axes not in the figure, so title not moved\n",
      "DEBUG:matplotlib.axes._base:top of axes not in the figure, so title not moved\n",
      "DEBUG:matplotlib.axes._base:top of axes not in the figure, so title not moved\n",
      "DEBUG:matplotlib.axes._base:top of axes not in the figure, so title not moved\n",
      "DEBUG:matplotlib.axes._base:top of axes not in the figure, so title not moved\n",
      "DEBUG:matplotlib.axes._base:top of axes not in the figure, so title not moved\n",
      "DEBUG:matplotlib.axes._base:top of axes not in the figure, so title not moved\n",
      "DEBUG:matplotlib.axes._base:top of axes not in the figure, so title not moved\n",
      "DEBUG:matplotlib.axes._base:top of axes not in the figure, so title not moved\n",
      "DEBUG:matplotlib.axes._base:top of axes not in the figure, so title not moved\n",
      "DEBUG:matplotlib.axes._base:top of axes not in the figure, so title not moved\n",
      "DEBUG:matplotlib.axes._base:top of axes not in the figure, so title not moved\n",
      "DEBUG:matplotlib.axes._base:top of axes not in the figure, so title not moved\n",
      "DEBUG:matplotlib.axes._base:top of axes not in the figure, so title not moved\n",
      "DEBUG:matplotlib.axes._base:top of axes not in the figure, so title not moved\n",
      "DEBUG:matplotlib.axes._base:top of axes not in the figure, so title not moved\n",
      "DEBUG:matplotlib.axes._base:top of axes not in the figure, so title not moved\n",
      "DEBUG:matplotlib.axes._base:top of axes not in the figure, so title not moved\n",
      "DEBUG:matplotlib.axes._base:top of axes not in the figure, so title not moved\n"
     ]
    },
    {
     "data": {
      "text/plain": [
       "<Figure size 1080x1728 with 0 Axes>"
      ]
     },
     "metadata": {},
     "output_type": "display_data"
    }
   ],
   "source": [
    "# Generate replica mixing plots\n",
    "path = f\"/data/chodera/zhangi/perses_benchmark/repex/32/{sub_dir}/{chunk}/{chunk}_apo.nc\"\n",
    "utils.plot_replica_mixing(path, title=f\"{titles[0]} apo replicate {chunk}\", filename=f\"{path[:-3]}_replicas_apo.png\")\n",
    "plt.clf()\n"
   ]
  },
  {
   "cell_type": "markdown",
   "metadata": {},
   "source": [
    "### 1 ns ala -> thr dipeptide in solvent (repex/32/3/5)"
   ]
  },
  {
   "cell_type": "code",
   "execution_count": 14,
   "metadata": {},
   "outputs": [],
   "source": [
    "_logger = logging.getLogger()\n",
    "_logger.setLevel(logging.INFO)"
   ]
  },
  {
   "cell_type": "code",
   "execution_count": 15,
   "metadata": {},
   "outputs": [],
   "source": [
    "main_dir = 32\n",
    "sub_dir = 3\n",
    "chunk = 5\n",
    "titles = ['ALA->THR']"
   ]
  },
  {
   "cell_type": "code",
   "execution_count": 16,
   "metadata": {
    "scrolled": true
   },
   "outputs": [
    {
     "name": "stderr",
     "output_type": "stream",
     "text": [
      "WARNING:openmmtools.multistate.multistatereporter:Warning: The openmmtools.multistate API is experimental and may change in future releases\n",
      "WARNING:openmmtools.multistate.multistateanalyzer:Warning: The openmmtools.multistate API is experimental and may change in future releases\n"
     ]
    },
    {
     "name": "stdout",
     "output_type": "stream",
     "text": [
      "analyzing apo\n",
      "n_iterations: 1000\n",
      "[1, 101, 201, 301, 401, 501, 601, 701, 801, 901]\n"
     ]
    },
    {
     "name": "stderr",
     "output_type": "stream",
     "text": [
      "WARNING:openmmtools.multistate.multistateanalyzer:Warning: The openmmtools.multistate API is experimental and may change in future releases\n",
      "WARNING:openmmtools.multistate.multistateanalyzer:Warning: The openmmtools.multistate API is experimental and may change in future releases\n",
      "WARNING:openmmtools.multistate.multistateanalyzer:Warning: The openmmtools.multistate API is experimental and may change in future releases\n",
      "WARNING:openmmtools.multistate.multistateanalyzer:Warning: The openmmtools.multistate API is experimental and may change in future releases\n",
      "WARNING:openmmtools.multistate.multistateanalyzer:Warning: The openmmtools.multistate API is experimental and may change in future releases\n",
      "WARNING:openmmtools.multistate.multistateanalyzer:Warning: The openmmtools.multistate API is experimental and may change in future releases\n",
      "WARNING:openmmtools.multistate.multistateanalyzer:Warning: The openmmtools.multistate API is experimental and may change in future releases\n",
      "WARNING:openmmtools.multistate.multistateanalyzer:Warning: The openmmtools.multistate API is experimental and may change in future releases\n",
      "WARNING:openmmtools.multistate.multistateanalyzer:Warning: The openmmtools.multistate API is experimental and may change in future releases\n",
      "WARNING:openmmtools.multistate.multistateanalyzer:Warning: The openmmtools.multistate API is experimental and may change in future releases\n"
     ]
    },
    {
     "name": "stdout",
     "output_type": "stream",
     "text": [
      "Neff:  [ 649.25702959  649.25702959  860.49550065 1252.30953095 1504.6118312\n",
      " 1662.37700236 1744.65428997 1763.1434045  1706.00448989 1537.02235808\n",
      " 1209.01889313  761.29496991]\n"
     ]
    }
   ],
   "source": [
    "output_dir = f'/data/chodera/zhangi/perses_benchmark/repex/{main_dir}/{sub_dir}/{chunk}/'\n",
    "\n",
    "print(\"analyzing apo\")\n",
    "apo_path = os.path.join(output_dir, f\"{chunk}_apo.nc\")\n",
    "apo_dg, apo_ddg, f_ij, df_ij = analyze_dom(apo_path)\n",
    "\n",
    "results = np.array([apo_dg, apo_ddg])\n",
    "with open(f'/data/chodera/zhangi/perses_benchmark/repex/{main_dir}/{sub_dir}/{chunk}/results_apo.npy', 'wb') as f:\n",
    "    np.save(f, results)\n",
    "\n",
    "with open(f'/data/chodera/zhangi/perses_benchmark/repex/{main_dir}/{sub_dir}/{chunk}/f_ij_apo.npy', 'wb') as f:\n",
    "    np.save(f, f_ij)"
   ]
  },
  {
   "cell_type": "code",
   "execution_count": 17,
   "metadata": {},
   "outputs": [
    {
     "data": {
      "text/plain": [
       "array([-42.50101013, -38.33307793, -39.05977027, -38.72376851,\n",
       "       -38.67653622, -38.76114739, -38.70763242, -38.95061582,\n",
       "       -38.98956051, -39.07102118, -38.94017239])"
      ]
     },
     "execution_count": 17,
     "metadata": {},
     "output_type": "execute_result"
    }
   ],
   "source": [
    "apo_dg"
   ]
  },
  {
   "cell_type": "code",
   "execution_count": 18,
   "metadata": {
    "scrolled": true
   },
   "outputs": [
    {
     "name": "stdout",
     "output_type": "stream",
     "text": [
      "5 apo: -38.94017239214564 (0.1558297862742965) kT\n",
      "\n"
     ]
    }
   ],
   "source": [
    "# Read the dicts in and compute free energies (kT)\n",
    "d_results = {}\n",
    "with open(f\"/data/chodera/zhangi/perses_benchmark/repex/{main_dir}/{sub_dir}/{chunk}/results_apo.npy\", \"rb\") as f:\n",
    "    results = np.load(f, allow_pickle=True)\n",
    "    d_results[chunk] = results\n",
    "    apo_dg, apo_ddg = [result[-1] for result in results]\n",
    "    print(f\"{chunk} apo: {apo_dg} ({apo_ddg}) kT\")\n",
    "    print()\n"
   ]
  },
  {
   "cell_type": "code",
   "execution_count": 19,
   "metadata": {
    "scrolled": true
   },
   "outputs": [
    {
     "data": {
      "text/plain": [
       "<Figure size 1080x1728 with 0 Axes>"
      ]
     },
     "metadata": {},
     "output_type": "display_data"
    }
   ],
   "source": [
    "# Generate replica mixing plots\n",
    "path = f\"/data/chodera/zhangi/perses_benchmark/repex/32/{sub_dir}/{chunk}/{chunk}_apo.nc\"\n",
    "utils.plot_replica_mixing(path, title=f\"{titles[0]} apo replicate {chunk}\", filename=f\"{path[:-3]}_replicas_apo.png\")\n",
    "plt.clf()\n"
   ]
  },
  {
   "cell_type": "markdown",
   "metadata": {},
   "source": [
    "### 1 ns ala -> thr dipeptide in solvent (repex/32/3/6)"
   ]
  },
  {
   "cell_type": "code",
   "execution_count": 16,
   "metadata": {},
   "outputs": [],
   "source": [
    "_logger = logging.getLogger()\n",
    "_logger.setLevel(logging.INFO)"
   ]
  },
  {
   "cell_type": "code",
   "execution_count": 20,
   "metadata": {},
   "outputs": [],
   "source": [
    "main_dir = 32\n",
    "sub_dir = 3\n",
    "chunk = 6\n",
    "titles = ['ALA->THR']"
   ]
  },
  {
   "cell_type": "code",
   "execution_count": 21,
   "metadata": {
    "scrolled": true
   },
   "outputs": [
    {
     "name": "stderr",
     "output_type": "stream",
     "text": [
      "WARNING:openmmtools.multistate.multistatereporter:Warning: The openmmtools.multistate API is experimental and may change in future releases\n",
      "WARNING:openmmtools.multistate.multistateanalyzer:Warning: The openmmtools.multistate API is experimental and may change in future releases\n"
     ]
    },
    {
     "name": "stdout",
     "output_type": "stream",
     "text": [
      "analyzing apo\n",
      "n_iterations: 1000\n",
      "[1, 101, 201, 301, 401, 501, 601, 701, 801, 901]\n"
     ]
    },
    {
     "name": "stderr",
     "output_type": "stream",
     "text": [
      "WARNING:openmmtools.multistate.multistateanalyzer:Warning: The openmmtools.multistate API is experimental and may change in future releases\n",
      "WARNING:openmmtools.multistate.multistateanalyzer:Warning: The openmmtools.multistate API is experimental and may change in future releases\n",
      "WARNING:openmmtools.multistate.multistateanalyzer:Warning: The openmmtools.multistate API is experimental and may change in future releases\n",
      "WARNING:openmmtools.multistate.multistateanalyzer:Warning: The openmmtools.multistate API is experimental and may change in future releases\n",
      "WARNING:openmmtools.multistate.multistateanalyzer:Warning: The openmmtools.multistate API is experimental and may change in future releases\n",
      "WARNING:openmmtools.multistate.multistateanalyzer:Warning: The openmmtools.multistate API is experimental and may change in future releases\n",
      "WARNING:openmmtools.multistate.multistateanalyzer:Warning: The openmmtools.multistate API is experimental and may change in future releases\n",
      "WARNING:openmmtools.multistate.multistateanalyzer:Warning: The openmmtools.multistate API is experimental and may change in future releases\n",
      "WARNING:openmmtools.multistate.multistateanalyzer:Warning: The openmmtools.multistate API is experimental and may change in future releases\n",
      "WARNING:openmmtools.multistate.multistateanalyzer:Warning: The openmmtools.multistate API is experimental and may change in future releases\n"
     ]
    },
    {
     "name": "stdout",
     "output_type": "stream",
     "text": [
      "Neff:  [1388.74337116 1388.74337116 1763.46684878 1750.74444205 1584.27463036\n",
      " 1389.71342063 1195.44893583 1019.82976788  976.33710354  992.94093914\n",
      "  915.48817071  593.87347456]\n"
     ]
    }
   ],
   "source": [
    "output_dir = f'/data/chodera/zhangi/perses_benchmark/repex/{main_dir}/{sub_dir}/{chunk}/'\n",
    "\n",
    "print(\"analyzing apo\")\n",
    "apo_path = os.path.join(output_dir, f\"{chunk}_apo.nc\")\n",
    "apo_dg, apo_ddg, f_ij, df_ij = analyze_dom(apo_path)\n",
    "\n",
    "results = np.array([apo_dg, apo_ddg])\n",
    "with open(f'/data/chodera/zhangi/perses_benchmark/repex/{main_dir}/{sub_dir}/{chunk}/results_apo.npy', 'wb') as f:\n",
    "    np.save(f, results)\n",
    "\n",
    "with open(f'/data/chodera/zhangi/perses_benchmark/repex/{main_dir}/{sub_dir}/{chunk}/f_ij_apo.npy', 'wb') as f:\n",
    "    np.save(f, f_ij)"
   ]
  },
  {
   "cell_type": "code",
   "execution_count": 22,
   "metadata": {},
   "outputs": [
    {
     "data": {
      "text/plain": [
       "array([-43.00738931, -38.39344042, -39.05588483, -38.88850358,\n",
       "       -38.98238814, -39.11804954, -38.99173103, -39.04861424,\n",
       "       -39.0036419 , -39.11841412, -39.01872324])"
      ]
     },
     "execution_count": 22,
     "metadata": {},
     "output_type": "execute_result"
    }
   ],
   "source": [
    "apo_dg"
   ]
  },
  {
   "cell_type": "code",
   "execution_count": 23,
   "metadata": {
    "scrolled": true
   },
   "outputs": [
    {
     "name": "stdout",
     "output_type": "stream",
     "text": [
      "6 apo: -39.0187232440423 (0.14254357949478702) kT\n",
      "\n"
     ]
    }
   ],
   "source": [
    "# Read the dicts in and compute free energies (kT)\n",
    "d_results = {}\n",
    "with open(f\"/data/chodera/zhangi/perses_benchmark/repex/{main_dir}/{sub_dir}/{chunk}/results_apo.npy\", \"rb\") as f:\n",
    "    results = np.load(f, allow_pickle=True)\n",
    "    d_results[chunk] = results\n",
    "    apo_dg, apo_ddg = [result[-1] for result in results]\n",
    "    print(f\"{chunk} apo: {apo_dg} ({apo_ddg}) kT\")\n",
    "    print()\n"
   ]
  },
  {
   "cell_type": "code",
   "execution_count": 24,
   "metadata": {
    "scrolled": true
   },
   "outputs": [
    {
     "data": {
      "text/plain": [
       "<Figure size 1080x1728 with 0 Axes>"
      ]
     },
     "metadata": {},
     "output_type": "display_data"
    }
   ],
   "source": [
    "# Generate replica mixing plots\n",
    "path = f\"/data/chodera/zhangi/perses_benchmark/repex/32/{sub_dir}/{chunk}/{chunk}_apo.nc\"\n",
    "utils.plot_replica_mixing(path, title=f\"{titles[0]} apo replicate {chunk}\", filename=f\"{path[:-3]}_replicas_apo.png\")\n",
    "plt.clf()\n"
   ]
  },
  {
   "cell_type": "markdown",
   "metadata": {},
   "source": [
    "### 1 ns ala -> thr dipeptide in solvent (repex/32/3/7)"
   ]
  },
  {
   "cell_type": "code",
   "execution_count": 16,
   "metadata": {},
   "outputs": [],
   "source": [
    "_logger = logging.getLogger()\n",
    "_logger.setLevel(logging.INFO)"
   ]
  },
  {
   "cell_type": "code",
   "execution_count": 25,
   "metadata": {},
   "outputs": [],
   "source": [
    "main_dir = 32\n",
    "sub_dir = 3\n",
    "chunk = 7\n",
    "titles = ['ALA->THR']"
   ]
  },
  {
   "cell_type": "code",
   "execution_count": 26,
   "metadata": {
    "scrolled": true
   },
   "outputs": [
    {
     "name": "stderr",
     "output_type": "stream",
     "text": [
      "WARNING:openmmtools.multistate.multistatereporter:Warning: The openmmtools.multistate API is experimental and may change in future releases\n",
      "WARNING:openmmtools.multistate.multistateanalyzer:Warning: The openmmtools.multistate API is experimental and may change in future releases\n"
     ]
    },
    {
     "name": "stdout",
     "output_type": "stream",
     "text": [
      "analyzing apo\n",
      "n_iterations: 1000\n",
      "[1, 101, 201, 301, 401, 501, 601, 701, 801, 901]\n"
     ]
    },
    {
     "name": "stderr",
     "output_type": "stream",
     "text": [
      "WARNING:openmmtools.multistate.multistateanalyzer:Warning: The openmmtools.multistate API is experimental and may change in future releases\n",
      "WARNING:openmmtools.multistate.multistateanalyzer:Warning: The openmmtools.multistate API is experimental and may change in future releases\n",
      "WARNING:openmmtools.multistate.multistateanalyzer:Warning: The openmmtools.multistate API is experimental and may change in future releases\n",
      "WARNING:openmmtools.multistate.multistateanalyzer:Warning: The openmmtools.multistate API is experimental and may change in future releases\n",
      "WARNING:openmmtools.multistate.multistateanalyzer:Warning: The openmmtools.multistate API is experimental and may change in future releases\n",
      "WARNING:openmmtools.multistate.multistateanalyzer:Warning: The openmmtools.multistate API is experimental and may change in future releases\n",
      "WARNING:openmmtools.multistate.multistateanalyzer:Warning: The openmmtools.multistate API is experimental and may change in future releases\n",
      "WARNING:openmmtools.multistate.multistateanalyzer:Warning: The openmmtools.multistate API is experimental and may change in future releases\n",
      "WARNING:openmmtools.multistate.multistateanalyzer:Warning: The openmmtools.multistate API is experimental and may change in future releases\n",
      "WARNING:openmmtools.multistate.multistateanalyzer:Warning: The openmmtools.multistate API is experimental and may change in future releases\n"
     ]
    },
    {
     "name": "stdout",
     "output_type": "stream",
     "text": [
      "Neff:  [1341.12841861 1341.12841861 1822.60798671 1979.33848931 1724.26253688\n",
      " 1295.73824898 1374.63524793 1110.86978001  819.78317067  762.1290244\n",
      "  774.58576053  515.5858859 ]\n"
     ]
    }
   ],
   "source": [
    "output_dir = f'/data/chodera/zhangi/perses_benchmark/repex/{main_dir}/{sub_dir}/{chunk}/'\n",
    "\n",
    "print(\"analyzing apo\")\n",
    "apo_path = os.path.join(output_dir, f\"{chunk}_apo.nc\")\n",
    "apo_dg, apo_ddg, f_ij, df_ij = analyze_dom(apo_path)\n",
    "\n",
    "results = np.array([apo_dg, apo_ddg])\n",
    "with open(f'/data/chodera/zhangi/perses_benchmark/repex/{main_dir}/{sub_dir}/{chunk}/results_apo.npy', 'wb') as f:\n",
    "    np.save(f, results)\n",
    "\n",
    "with open(f'/data/chodera/zhangi/perses_benchmark/repex/{main_dir}/{sub_dir}/{chunk}/f_ij_apo.npy', 'wb') as f:\n",
    "    np.save(f, f_ij)"
   ]
  },
  {
   "cell_type": "code",
   "execution_count": 27,
   "metadata": {},
   "outputs": [
    {
     "data": {
      "text/plain": [
       "array([-42.74380988, -38.6240959 , -38.22200571, -38.3638059 ,\n",
       "       -38.44028767, -38.31321952, -38.39956123, -38.42082893,\n",
       "       -38.55954902, -38.41509335, -38.5361666 ])"
      ]
     },
     "execution_count": 27,
     "metadata": {},
     "output_type": "execute_result"
    }
   ],
   "source": [
    "apo_dg"
   ]
  },
  {
   "cell_type": "code",
   "execution_count": 28,
   "metadata": {
    "scrolled": true
   },
   "outputs": [
    {
     "name": "stdout",
     "output_type": "stream",
     "text": [
      "7 apo: -38.536166602249374 (0.15751687670279255) kT\n",
      "\n"
     ]
    }
   ],
   "source": [
    "# Read the dicts in and compute free energies (kT)\n",
    "d_results = {}\n",
    "with open(f\"/data/chodera/zhangi/perses_benchmark/repex/{main_dir}/{sub_dir}/{chunk}/results_apo.npy\", \"rb\") as f:\n",
    "    results = np.load(f, allow_pickle=True)\n",
    "    d_results[chunk] = results\n",
    "    apo_dg, apo_ddg = [result[-1] for result in results]\n",
    "    print(f\"{chunk} apo: {apo_dg} ({apo_ddg}) kT\")\n",
    "    print()\n"
   ]
  },
  {
   "cell_type": "code",
   "execution_count": 29,
   "metadata": {
    "scrolled": true
   },
   "outputs": [
    {
     "data": {
      "text/plain": [
       "<Figure size 1080x1728 with 0 Axes>"
      ]
     },
     "metadata": {},
     "output_type": "display_data"
    }
   ],
   "source": [
    "# Generate replica mixing plots\n",
    "path = f\"/data/chodera/zhangi/perses_benchmark/repex/32/{sub_dir}/{chunk}/{chunk}_apo.nc\"\n",
    "utils.plot_replica_mixing(path, title=f\"{titles[0]} apo replicate {chunk}\", filename=f\"{path[:-3]}_replicas_apo.png\")\n",
    "plt.clf()\n"
   ]
  },
  {
   "cell_type": "markdown",
   "metadata": {},
   "source": [
    "### 1 ns ala -> thr dipeptide in solvent (repex/32/3/8)"
   ]
  },
  {
   "cell_type": "code",
   "execution_count": 16,
   "metadata": {},
   "outputs": [],
   "source": [
    "_logger = logging.getLogger()\n",
    "_logger.setLevel(logging.INFO)"
   ]
  },
  {
   "cell_type": "code",
   "execution_count": 30,
   "metadata": {},
   "outputs": [],
   "source": [
    "main_dir = 32\n",
    "sub_dir = 3\n",
    "chunk = 8\n",
    "titles = ['ALA->THR']"
   ]
  },
  {
   "cell_type": "code",
   "execution_count": 31,
   "metadata": {
    "scrolled": true
   },
   "outputs": [
    {
     "name": "stderr",
     "output_type": "stream",
     "text": [
      "WARNING:openmmtools.multistate.multistatereporter:Warning: The openmmtools.multistate API is experimental and may change in future releases\n",
      "WARNING:openmmtools.multistate.multistateanalyzer:Warning: The openmmtools.multistate API is experimental and may change in future releases\n"
     ]
    },
    {
     "name": "stdout",
     "output_type": "stream",
     "text": [
      "analyzing apo\n",
      "n_iterations: 1000\n",
      "[1, 101, 201, 301, 401, 501, 601, 701, 801, 901]\n"
     ]
    },
    {
     "name": "stderr",
     "output_type": "stream",
     "text": [
      "WARNING:openmmtools.multistate.multistateanalyzer:Warning: The openmmtools.multistate API is experimental and may change in future releases\n",
      "WARNING:openmmtools.multistate.multistateanalyzer:Warning: The openmmtools.multistate API is experimental and may change in future releases\n",
      "WARNING:openmmtools.multistate.multistateanalyzer:Warning: The openmmtools.multistate API is experimental and may change in future releases\n",
      "WARNING:openmmtools.multistate.multistateanalyzer:Warning: The openmmtools.multistate API is experimental and may change in future releases\n",
      "WARNING:openmmtools.multistate.multistateanalyzer:Warning: The openmmtools.multistate API is experimental and may change in future releases\n",
      "WARNING:openmmtools.multistate.multistateanalyzer:Warning: The openmmtools.multistate API is experimental and may change in future releases\n",
      "WARNING:openmmtools.multistate.multistateanalyzer:Warning: The openmmtools.multistate API is experimental and may change in future releases\n",
      "WARNING:openmmtools.multistate.multistateanalyzer:Warning: The openmmtools.multistate API is experimental and may change in future releases\n",
      "WARNING:openmmtools.multistate.multistateanalyzer:Warning: The openmmtools.multistate API is experimental and may change in future releases\n",
      "WARNING:openmmtools.multistate.multistateanalyzer:Warning: The openmmtools.multistate API is experimental and may change in future releases\n"
     ]
    },
    {
     "name": "stdout",
     "output_type": "stream",
     "text": [
      "Neff:  [1130.45405118 1130.45405118 1785.74133327 1880.67118418 2171.28597904\n",
      " 2541.43375357 2608.0465826  2306.4396646  1865.76045939 1506.37324208\n",
      "  582.53503055  357.14734918]\n"
     ]
    }
   ],
   "source": [
    "output_dir = f'/data/chodera/zhangi/perses_benchmark/repex/{main_dir}/{sub_dir}/{chunk}/'\n",
    "\n",
    "print(\"analyzing apo\")\n",
    "apo_path = os.path.join(output_dir, f\"{chunk}_apo.nc\")\n",
    "apo_dg, apo_ddg, f_ij, df_ij = analyze_dom(apo_path)\n",
    "\n",
    "results = np.array([apo_dg, apo_ddg])\n",
    "with open(f'/data/chodera/zhangi/perses_benchmark/repex/{main_dir}/{sub_dir}/{chunk}/results_apo.npy', 'wb') as f:\n",
    "    np.save(f, results)\n",
    "\n",
    "with open(f'/data/chodera/zhangi/perses_benchmark/repex/{main_dir}/{sub_dir}/{chunk}/f_ij_apo.npy', 'wb') as f:\n",
    "    np.save(f, f_ij)"
   ]
  },
  {
   "cell_type": "code",
   "execution_count": 32,
   "metadata": {},
   "outputs": [
    {
     "data": {
      "text/plain": [
       "array([-42.11390366, -40.59058058, -40.14123876, -41.10249745,\n",
       "       -40.78763021, -40.59822938, -40.69113663, -40.52326234,\n",
       "       -40.82749866, -40.20070211, -40.21330066])"
      ]
     },
     "execution_count": 32,
     "metadata": {},
     "output_type": "execute_result"
    }
   ],
   "source": [
    "apo_dg"
   ]
  },
  {
   "cell_type": "code",
   "execution_count": 33,
   "metadata": {
    "scrolled": true
   },
   "outputs": [
    {
     "name": "stdout",
     "output_type": "stream",
     "text": [
      "8 apo: -40.2133006616424 (0.27372277652746413) kT\n",
      "\n"
     ]
    }
   ],
   "source": [
    "# Read the dicts in and compute free energies (kT)\n",
    "d_results = {}\n",
    "with open(f\"/data/chodera/zhangi/perses_benchmark/repex/{main_dir}/{sub_dir}/{chunk}/results_apo.npy\", \"rb\") as f:\n",
    "    results = np.load(f, allow_pickle=True)\n",
    "    d_results[chunk] = results\n",
    "    apo_dg, apo_ddg = [result[-1] for result in results]\n",
    "    print(f\"{chunk} apo: {apo_dg} ({apo_ddg}) kT\")\n",
    "    print()\n"
   ]
  },
  {
   "cell_type": "code",
   "execution_count": 34,
   "metadata": {
    "scrolled": true
   },
   "outputs": [
    {
     "data": {
      "text/plain": [
       "<Figure size 1080x1728 with 0 Axes>"
      ]
     },
     "metadata": {},
     "output_type": "display_data"
    }
   ],
   "source": [
    "# Generate replica mixing plots\n",
    "path = f\"/data/chodera/zhangi/perses_benchmark/repex/32/{sub_dir}/{chunk}/{chunk}_apo.nc\"\n",
    "utils.plot_replica_mixing(path, title=f\"{titles[0]} apo replicate {chunk}\", filename=f\"{path[:-3]}_replicas_apo.png\")\n",
    "plt.clf()\n"
   ]
  },
  {
   "cell_type": "markdown",
   "metadata": {},
   "source": [
    "# Plot"
   ]
  },
  {
   "cell_type": "code",
   "execution_count": 22,
   "metadata": {},
   "outputs": [],
   "source": [
    "d_results = {}\n",
    "\n",
    "for chunk in [0, 1, 2]:\n",
    "    with open(f\"/data/chodera/zhangi/perses_benchmark/repex/{main_dir}/{sub_dir}/{chunk}/results_apo.npy\", \"rb\") as f:\n",
    "        results = np.load(f, allow_pickle=True)\n",
    "        d_results[chunk] = results"
   ]
  },
  {
   "cell_type": "code",
   "execution_count": 33,
   "metadata": {},
   "outputs": [
    {
     "data": {
      "text/plain": [
       "array([-38.12848388, -38.66309063, -38.94669624, -38.8946129 ,\n",
       "       -39.28618639, -39.26468308, -39.38835957, -39.08287784,\n",
       "       -39.18441832, -39.14291889, -39.12227244, -39.13084332,\n",
       "       -39.05589916, -39.20434755, -39.0941948 , -39.04045506,\n",
       "       -39.20053891, -38.99790165, -38.91555136, -39.04663307,\n",
       "       -39.27321015, -39.06506384, -39.17968253, -39.17069457,\n",
       "       -38.9937386 , -38.94321439, -38.95875644, -39.0388974 ,\n",
       "       -38.96543816, -39.03979338, -39.26707353, -39.07335723,\n",
       "       -38.81083579, -39.06776824, -38.82632   , -38.96534875,\n",
       "       -39.03490024, -39.14748068, -39.02688908, -39.0842743 ,\n",
       "       -39.20053972, -39.04572034, -39.03795415, -39.06520762,\n",
       "       -38.90841608, -38.85193741, -38.98110444, -38.92994466,\n",
       "       -39.00382515, -38.94174132, -39.05260936])"
      ]
     },
     "execution_count": 33,
     "metadata": {},
     "output_type": "execute_result"
    }
   ],
   "source": [
    "d_results[0][0]"
   ]
  },
  {
   "cell_type": "code",
   "execution_count": 47,
   "metadata": {},
   "outputs": [],
   "source": [
    "def plot_series(d_results, phase, title):\n",
    "    fig, axes = plt.subplots(nrows=2, ncols=1, sharex='col', figsize=(10,2*3), squeeze=True)\n",
    "#     labels = ['No REST', 'T_max = 600 K', 'T_max = 1200 K']\n",
    "    for r in list(d_results.keys()):\n",
    "#         dg_discarded = dg[r][7:] # 7 * 200 = 1400 ps discarded\n",
    "#         ddg_discarded = ddg[r][7:]\n",
    "        dg_discarded = d_results[r][0]\n",
    "        ddg_discarded = d_results[r][1]\n",
    "\n",
    "        # dg\n",
    "        ax = axes[0]\n",
    "#         x = [(j)*.2 + 1.4 for j in range(len(dg_discarded))] # *.2 bc computing energy every 200 ps,  1.4 bc discarding first 1400 ps\n",
    "        x = np.array(range(len(dg_discarded)))/10 # *.2 bc computing energy every 200 ps,  1.4 bc discarding first 1400 ps\n",
    "        y = dg_discarded\n",
    "#         ax.plot(x, y, color=sns.color_palette()[r], label=f'{labels[r]}')\n",
    "        ax.plot(x, y, label=f'{r}')\n",
    "        ax.fill_between(x, y - ddg_discarded, y + ddg_discarded, alpha=0.5)\n",
    "\n",
    "        # ddg\n",
    "        ax = axes[1]\n",
    "#         x = [(j)*.2 + 1.4 for j in range(len(ddg_discarded))]\n",
    "        x = np.array(range(len(ddg_discarded)))/10\n",
    "        y = ddg_discarded\n",
    "#         ax.plot(x, y, color=sns.color_palette()[r])\n",
    "        ax.plot(x, y)\n",
    "\n",
    "#         # deviation from mean\n",
    "#         ax = axes[2]\n",
    "#         x = [(i)/20 + 1.5 for i in range(len(dg_discarded))]\n",
    "#         y = np.array(dg_discarded) - mean # Need to the average solvent dg across replicates\n",
    "#         ax.plot(x, y, color=sns.color_palette()[0])\n",
    "\n",
    "    axes[0].set_ylabel(\"dG (kT)\")\n",
    "    axes[1].set_ylabel(\"ddG (kT)\")\n",
    "#     axes[2].set_ylabel(\"ddG (kT)\")\n",
    "    axes[1].set_xlabel(\"$t_{repex}$ (ns)\")\n",
    "    \n",
    "    axes[0].set_title(f\"{title} {phase}\")\n",
    "    axes[0].legend()\n",
    "    plt.show()\n",
    "#     plt.savefig(f\"/data/chodera/zhangi/perses_benchmark/repex/{main_dir}/{sub_dir}/{chunk}/{chunk}_{phase}_series.png\", dpi=500)\n",
    "#     plt.clf()"
   ]
  },
  {
   "cell_type": "code",
   "execution_count": 55,
   "metadata": {},
   "outputs": [
    {
     "data": {
      "image/png": "[encoded data removed]",
      "text/plain": [
       "<Figure size 720x432 with 2 Axes>"
      ]
     },
     "metadata": {
      "needs_background": "light"
     },
     "output_type": "display_data"
    }
   ],
   "source": [
    "plot_series(d_results, 'apo', 'ALA->THR')"
   ]
  },
  {
   "cell_type": "code",
   "execution_count": 36,
   "metadata": {},
   "outputs": [],
   "source": [
    "d_results = {}\n",
    "\n",
    "for chunk in [4, 5, 6, 7, 8]:\n",
    "    with open(f\"/data/chodera/zhangi/perses_benchmark/repex/{main_dir}/{sub_dir}/{chunk}/results_apo.npy\", \"rb\") as f:\n",
    "        results = np.load(f, allow_pickle=True)\n",
    "        d_results[chunk] = results"
   ]
  },
  {
   "cell_type": "code",
   "execution_count": 48,
   "metadata": {},
   "outputs": [
    {
     "data": {
      "image/png": "[encoded data removed]",
      "text/plain": [
       "<Figure size 720x432 with 2 Axes>"
      ]
     },
     "metadata": {
      "needs_background": "light"
     },
     "output_type": "display_data"
    }
   ],
   "source": [
    "plot_series(d_results, 'apo', 'ALA->THR')"
   ]
  },
  {
   "cell_type": "code",
   "execution_count": null,
   "metadata": {},
   "outputs": [],
   "source": []
  }
 ],
 "metadata": {
  "kernelspec": {
   "display_name": "Python 3 (ipykernel)",
   "language": "python",
   "name": "python3"
  },
  "language_info": {
   "codemirror_mode": {
    "name": "ipython",
    "version": 3
   },
   "file_extension": ".py",
   "mimetype": "text/x-python",
   "name": "python",
   "nbconvert_exporter": "python",
   "pygments_lexer": "ipython3",
   "version": "3.8.11"
  }
 },
 "nbformat": 4,
 "nbformat_minor": 4
}
