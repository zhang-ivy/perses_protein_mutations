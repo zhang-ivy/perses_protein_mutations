{
 "cells": [
  {
   "cell_type": "code",
   "execution_count": 3,
   "id": "33ed4286",
   "metadata": {},
   "outputs": [],
   "source": [
    "from simtk.openmm import XmlSerializer\n",
    "\n",
    "from simtk import unit, openmm\n",
    "# from perses.tests.utils import compute_potential_components\n",
    "from openmmtools.constants import kB\n",
    "# from perses.dispersed.utils import configure_platform\n",
    "import numpy as np\n",
    "import copy\n",
    "import pickle\n",
    "\n",
    "#############################################\n",
    "# CONSTANTS\n",
    "#############################################\n",
    "temperature = 300.0 * unit.kelvin\n",
    "kT = kB * temperature\n",
    "beta = 1.0/kT\n",
    "DEFAULT_PLATFORM = openmm.Platform.getPlatformByName(\"CUDA\")\n"
   ]
  },
  {
   "cell_type": "code",
   "execution_count": 37,
   "id": "b0be5429",
   "metadata": {},
   "outputs": [],
   "source": [
    "with open(\"hybrid_system.xml\", \"r\") as f:\n",
    "    system = XmlSerializer.deserialize(f.read())\n",
    "\n",
    "with open(\"hybrid_positions.pickle\", \"rb\") as f:\n",
    "    positions = pickle.load(f)"
   ]
  },
  {
   "cell_type": "code",
   "execution_count": 64,
   "id": "53ba00c7",
   "metadata": {},
   "outputs": [],
   "source": [
    "with open(\"old_system.xml\", \"r\") as f:\n",
    "    system = XmlSerializer.deserialize(f.read())\n",
    "\n",
    "with open(\"old_positions.pickle\", \"rb\") as f:\n",
    "    positions = pickle.load(f)"
   ]
  },
  {
   "cell_type": "code",
   "execution_count": 3,
   "id": "cc4756fb",
   "metadata": {},
   "outputs": [],
   "source": [
    "def compute_potential_components2(system, positions, beta=beta, platform=DEFAULT_PLATFORM):\n",
    "    \"\"\"\n",
    "    Compute potential energy, raising an exception if it is not finite.\n",
    "    Parameters\n",
    "    ----------\n",
    "    context : simtk.openmm.Context\n",
    "        The context from which to extract, System, parameters, and positions.\n",
    "    \"\"\"\n",
    "    # Make a deep copy of the system.\n",
    "    import copy\n",
    "\n",
    "    from perses.dispersed.utils import configure_platform\n",
    "    platform = configure_platform(platform.getName(), fallback_platform_name='Reference', precision='double')\n",
    "\n",
    "#     system = context.getSystem()\n",
    "#     system = copy.deepcopy(system)\n",
    "    # Get positions.\n",
    "#     positions = context.getState(getPositions=True).getPositions(asNumpy=True)\n",
    "    # Get Parameters\n",
    "#     parameters = context.getParameters()\n",
    "    # Segregate forces.\n",
    "    for index in range(system.getNumForces()):\n",
    "        force = system.getForce(index)\n",
    "        print(\"setting force: \", force.__class__.__name__, index)\n",
    "        force.setForceGroup(31)\n",
    "        if force.__class__.__name__ == 'NonbondedForce':\n",
    "            force.setReciprocalSpaceForceGroup(31)\n",
    "    # Create new Context.\n",
    "    integrator = openmm.VerletIntegrator(1.0 * unit.femtoseconds)\n",
    "    context = openmm.Context(system, integrator, platform)\n",
    "    context.setPositions(positions)\n",
    "    for (parameter, value) in context.getParameters().items():\n",
    "        print(parameter, value)\n",
    "#         context.setParameter(parameter, value)\n",
    "    energy_components = list()\n",
    "    for index in range(system.getNumForces()):\n",
    "        force = system.getForce(index)\n",
    "        forcename = force.__class__.__name__\n",
    "        print(index, forcename, force.getForceGroup())\n",
    "        if forcename == 'NonbondedForce':\n",
    "            print(\"reciprocal space \", force.getReciprocalSpaceForceGroup())\n",
    "#         groups = 1<<index\n",
    "        groups = set([index])\n",
    "        potential = beta * context.getState(getEnergy=True, groups=groups).getPotentialEnergy()\n",
    "        energy_components.append((forcename, potential))\n",
    "    del context, integrator\n",
    "    return energy_components"
   ]
  },
  {
   "cell_type": "code",
   "execution_count": 69,
   "id": "cd7caaa7",
   "metadata": {},
   "outputs": [],
   "source": [
    "# system.removeForce(7)"
   ]
  },
  {
   "cell_type": "code",
   "execution_count": 25,
   "id": "28f6ef6e",
   "metadata": {},
   "outputs": [],
   "source": [
    "# system.getForce(7).setIncludeDirectSpace(True)"
   ]
  },
  {
   "cell_type": "code",
   "execution_count": 72,
   "id": "3c7056c9",
   "metadata": {},
   "outputs": [
    {
     "data": {
      "text/plain": [
       "True"
      ]
     },
     "execution_count": 72,
     "metadata": {},
     "output_type": "execute_result"
    }
   ],
   "source": [
    "system.getForce(7).getUseDispersionCorrection()"
   ]
  },
  {
   "cell_type": "code",
   "execution_count": 7,
   "id": "9c73c0ac",
   "metadata": {},
   "outputs": [],
   "source": [
    "for i in range(system.getForce(7).getNumParticles()):\n",
    "    charge, sigma, epsilon = system.getForce(7).getParticleParameters(i)\n",
    "#     if i > 21:\n",
    "#         system.getForce(3).setParticleParameters(i, charge*0, sigma, epsilon*0)\n",
    "#     else:\n",
    "    system.getForce(7).setParticleParameters(i, charge*0, sigma, epsilon)\n",
    "\n"
   ]
  },
  {
   "cell_type": "code",
   "execution_count": 38,
   "id": "6f0c2c5f",
   "metadata": {},
   "outputs": [],
   "source": [
    "for i in range(system.getForce(7).getNumParticleParameterOffsets()):\n",
    "    parameter, idx, chargeScale, sigmaScale, epsilonScale = system.getForce(7).getParticleParameterOffset(i)\n",
    "    system.getForce(7).setParticleParameterOffset(i, parameter, idx, 0.0, 0.0, 0.0)"
   ]
  },
  {
   "cell_type": "code",
   "execution_count": 58,
   "id": "9d544f45",
   "metadata": {},
   "outputs": [],
   "source": [
    "for i in range(system.getForce(7).getNumExceptions()):\n",
    "    p1, p2, charge, sigma, epsilon = system.getForce(7).getExceptionParameters(i)\n",
    "#     if p1 > 21 or p2 > 21:\n",
    "#         system.getForce(3).setExceptionParameters(i, p1, p2, charge*0, sigma, epsilon*0)\n",
    "#     else:\n",
    "    system.getForce(7).setExceptionParameters(i, p1, p2, charge, sigma, epsilon)\n",
    "    "
   ]
  },
  {
   "cell_type": "code",
   "execution_count": 39,
   "id": "7c76b777",
   "metadata": {},
   "outputs": [
    {
     "name": "stdout",
     "output_type": "stream",
     "text": [
      "conducting subsequent work with the following platform: CUDA\n",
      "setting force:  MonteCarloBarostat 0\n",
      "setting force:  CustomBondForce 1\n",
      "setting force:  CustomAngleForce 2\n",
      "setting force:  CustomTorsionForce 3\n",
      "setting force:  CustomNonbondedForce 4\n",
      "setting force:  CustomNonbondedForce 5\n",
      "setting force:  CustomBondForce 6\n",
      "setting force:  NonbondedForce 7\n",
      "MonteCarloPressure 1.01325\n",
      "MonteCarloTemperature 300.0\n",
      "lambda_alchemical_angles_new 0.0\n",
      "lambda_alchemical_angles_old 1.0\n",
      "lambda_alchemical_bonds_new 0.0\n",
      "lambda_alchemical_bonds_old 1.0\n",
      "lambda_alchemical_electrostatics_exceptions_new 0.0\n",
      "lambda_alchemical_electrostatics_exceptions_old 1.0\n",
      "lambda_alchemical_electrostatics_new 0.0\n",
      "lambda_alchemical_electrostatics_old 1.0\n",
      "lambda_alchemical_electrostatics_reciprocal 0.0\n",
      "lambda_alchemical_sterics_exceptions_new 0.0\n",
      "lambda_alchemical_sterics_exceptions_old 1.0\n",
      "lambda_alchemical_sterics_new 0.0\n",
      "lambda_alchemical_sterics_old 1.0\n",
      "lambda_alchemical_torsions_new 0.0\n",
      "lambda_alchemical_torsions_old 1.0\n",
      "lambda_rest_angles 1.0\n",
      "lambda_rest_bonds 1.0\n",
      "lambda_rest_electrostatics 1.0\n",
      "lambda_rest_electrostatics_exceptions 1.0\n",
      "lambda_rest_sterics 1.0\n",
      "lambda_rest_sterics_exceptions 1.0\n",
      "lambda_rest_torsions 1.0\n",
      "0 MonteCarloBarostat 31\n",
      "1 CustomBondForce 31\n",
      "2 CustomAngleForce 31\n",
      "3 CustomTorsionForce 31\n",
      "4 CustomNonbondedForce 31\n",
      "5 CustomNonbondedForce 31\n",
      "6 CustomBondForce 31\n",
      "7 NonbondedForce 31\n",
      "reciprocal space  31\n"
     ]
    },
    {
     "data": {
      "text/plain": [
       "[('MonteCarloBarostat', -49274.68888855932),\n",
       " ('CustomBondForce', -49274.68888855932),\n",
       " ('CustomAngleForce', -49274.68888855932),\n",
       " ('CustomTorsionForce', -49274.68888855932),\n",
       " ('CustomNonbondedForce', -49274.68888855932),\n",
       " ('CustomNonbondedForce', -49274.68888855932),\n",
       " ('CustomBondForce', -49274.68888855932),\n",
       " ('NonbondedForce', -49274.68888855932)]"
      ]
     },
     "execution_count": 39,
     "metadata": {},
     "output_type": "execute_result"
    }
   ],
   "source": [
    "compute_potential_components2(system, positions)"
   ]
  },
  {
   "cell_type": "markdown",
   "id": "fb6c2ce4",
   "metadata": {},
   "source": [
    "# Play around with building the NonbondedForce"
   ]
  },
  {
   "cell_type": "code",
   "execution_count": 14,
   "id": "1f52a058",
   "metadata": {},
   "outputs": [],
   "source": [
    "# Load htf\n",
    "with open(\"/home/zhangi/choderalab/perses_benchmark/perses_protein_mutations/code/31_rest_over_protocol/atp_solvent.pickle\", \"rb\") as f:\n",
    "    htf = pickle.load(f)"
   ]
  },
  {
   "cell_type": "code",
   "execution_count": 16,
   "id": "401e66ef",
   "metadata": {},
   "outputs": [
    {
     "data": {
      "text/plain": [
       "Quantity(value=1.0, unit=nanometer)"
      ]
     },
     "execution_count": 16,
     "metadata": {},
     "output_type": "execute_result"
    }
   ],
   "source": [
    "htf._topology_proposal.old_system.getForce(3).getCutoffDistance()"
   ]
  },
  {
   "cell_type": "code",
   "execution_count": 33,
   "id": "383937d1",
   "metadata": {},
   "outputs": [],
   "source": [
    "hybrid_system = openmm.System()\n",
    "\n",
    "for particle_idx in range(htf._topology_proposal.n_atoms_old):\n",
    "    particle_mass = htf._old_system.getParticleMass(particle_idx)\n",
    "    hybrid_idx = hybrid_system.addParticle(particle_mass)\n",
    "\n",
    "# Next, add the remaining unique atoms from the new system to the hybrid system and map accordingly.\n",
    "# As before, this does not copy interactions, only particle indices and masses.\n",
    "for particle_idx in htf._topology_proposal.unique_new_atoms:\n",
    "    particle_mass = htf._new_system.getParticleMass(particle_idx)\n",
    "    hybrid_idx = hybrid_system.addParticle(particle_mass)\n"
   ]
  },
  {
   "cell_type": "code",
   "execution_count": 34,
   "id": "f3c71d75",
   "metadata": {},
   "outputs": [],
   "source": [
    "\n",
    "# Create force\n",
    "standard_nonbonded_force = openmm.NonbondedForce()\n",
    "hybrid_system.addForce(standard_nonbonded_force)\n",
    "\n",
    "# Add global parameters\n",
    "standard_nonbonded_force.addGlobalParameter(\"lambda_alchemical_electrostatics_reciprocal\", 0.0)\n",
    "\n",
    "# Set nonbonded method and related attributes\n",
    "old_system_nbf = htf._topology_proposal.old_system.getForce(3)\n",
    "standard_nonbonded_force.setNonbondedMethod(old_system_nbf.getNonbondedMethod())\n",
    "nonbonded_method = standard_nonbonded_force.getNonbondedMethod() \n",
    "if nonbonded_method in [openmm.NonbondedForce.CutoffPeriodic, openmm.NonbondedForce.CutoffNonPeriodic]:\n",
    "    standard_nonbonded_force.setReactionFieldDielectric(old_system_nbf.getReactionFieldDielectric())\n",
    "    standard_nonbonded_force.setCutoffDistance(1.0*unit.nanometer)\n",
    "elif nonbonded_method in [openmm.NonbondedForce.PME, openmm.NonbondedForce.Ewald]:\n",
    "    [alpha_ewald, nx, ny, nz] = old_system_nbf.getPMEParameters()\n",
    "    delta = old_system_nbf.getEwaldErrorTolerance()\n",
    "    standard_nonbonded_force.setPMEParameters(alpha_ewald, nx, ny, nz)\n",
    "    standard_nonbonded_force.setEwaldErrorTolerance(delta)\n",
    "    standard_nonbonded_force.setCutoffDistance(1.0*unit.nanometer)\n",
    "elif nonbonded_method in [openmm.NonbondedForce.NoCutoff]:\n",
    "    pass\n",
    "else:\n",
    "    raise Exception(\"Nonbonded method %s not supported yet.\" % str(nonbonded_method))\n",
    "\n",
    "# Set the use of dispersion correction\n",
    "if old_system_nbf.getUseDispersionCorrection():\n",
    "    standard_nonbonded_force.setUseDispersionCorrection(True)\n",
    "else:\n",
    "    standard_nonbonded_force.setUseDispersionCorrection(False)\n",
    "\n",
    "# Set the use of switching function\n",
    "if old_system_nbf.getUseSwitchingFunction():\n",
    "    standard_nonbonded_force.setUseSwitchingFunction(True)\n",
    "    standard_nonbonded_force.setSwitchingDistance(old_system_nbf.getSwitchingDistance())\n",
    "else:\n",
    "    standard_nonbonded_force.setUseSwitchingFunction(False)\n",
    "\n",
    "# Disable direct space interactions\n",
    "standard_nonbonded_force.setIncludeDirectSpace(False)"
   ]
  },
  {
   "cell_type": "code",
   "execution_count": 35,
   "id": "61a65a8f",
   "metadata": {},
   "outputs": [],
   "source": [
    "# Retrieve old and new nb forces\n",
    "old_system_nbf = htf._topology_proposal.old_system.getForce(3)\n",
    "new_system_nbf = htf._topology_proposal.new_system.getForce(3)\n",
    "\n",
    "# Retrieve atom index maps from hybrid to old/new\n",
    "hybrid_to_old_map = htf._hybrid_to_old_map\n",
    "hybrid_to_new_map = htf._hybrid_to_new_map\n",
    "\n",
    "# Retrieve atom classes\n",
    "atom_classes = htf._atom_classes\n",
    "\n",
    "# Iterate over the particles in the hybrid system, because nonbonded force does not accept index\n",
    "for particle_index in range(htf._hybrid_system.getNumParticles()):\n",
    "\n",
    "    if particle_index in atom_classes['unique_old_atoms']:\n",
    "        # Get the parameters in the old system\n",
    "        old_index = hybrid_to_old_map[particle_index]\n",
    "        charge, sigma, epsilon = old_system_nbf.getParticleParameters(old_index)\n",
    "\n",
    "        # Add particle to the standard nonbonded force\n",
    "        check_index = standard_nonbonded_force.addParticle(charge, sigma * 0.0, epsilon * 0.0)\n",
    "        assert (particle_index == check_index), \"Attempting to add incorrect particle to hybrid system\"\n",
    "\n",
    "#         # Charge and epsilon will be turned on at lambda = 0 and turned off at lambda = 1\n",
    "#         standard_nonbonded_force.addParticleParameterOffset('lambda_alchemical_electrostatics_reciprocal', particle_index, -charge, 0.0, 0.0)\n",
    "\n",
    "    elif particle_index in atom_classes['unique_new_atoms']:\n",
    "        # Get the parameters in the new system\n",
    "        new_index = hybrid_to_new_map[particle_index]\n",
    "        charge, sigma, epsilon = new_system_nbf.getParticleParameters(new_index)\n",
    "\n",
    "        # Add particle to the standard nonbonded force\n",
    "        check_index = standard_nonbonded_force.addParticle(charge * 0.0, sigma * 0.0, epsilon * 0.0) # charge and epsilon start at zero\n",
    "        assert (particle_index == check_index), \"Attempting to add incorrect particle to hybrid system\"\n",
    "\n",
    "#         # Charge and epsilon will be turned off at lambda = 0 and turned on at lambda = 1\n",
    "#         standard_nonbonded_force.addParticleParameterOffset('lambda_alchemical_electrostatics_reciprocal', particle_index, charge, 0.0, 0.0)\n",
    "\n",
    "    elif particle_index in atom_classes['core_atoms']:\n",
    "        # Get the parameters in the new and old systems:\n",
    "        old_index = hybrid_to_old_map[particle_index]\n",
    "        charge_old, sigma_old, epsilon_old = old_system_nbf.getParticleParameters(old_index)\n",
    "        new_index = hybrid_to_new_map[particle_index]\n",
    "        charge_new, sigma_new, epsilon_new = new_system_nbf.getParticleParameters(new_index)\n",
    "\n",
    "        # Add the particle to the standard nonbonded force\n",
    "        check_index = standard_nonbonded_force.addParticle(charge_old, (sigma_old + sigma_new) * 0.0, epsilon_old * 0.0)\n",
    "        assert (particle_index == check_index), \"Attempting to add incorrect particle to hybrid system\"\n",
    "\n",
    "#         # Charge is charge_old at lambda_electrostatics = 0, charge_new at lambda_electrostatics = 1\n",
    "#         # TODO: We could also interpolate the Lennard-Jones here instead of core_sterics force so that core_sterics_force could just be softcore\n",
    "#         # interpolate between old and new charge with lambda_electrostatics core; make sure to keep sterics off\n",
    "#         standard_nonbonded_force.addParticleParameterOffset('lambda_alchemical_electrostatics_reciprocal', particle_index, (charge_new - charge_old), 0.0, 0.0)\n",
    "\n",
    "    # Otherwise, the particle is in the environment\n",
    "    else:\n",
    "        # The parameters will be the same in new and old system, so just take the old parameters\n",
    "        old_index = hybrid_to_old_map[particle_index]\n",
    "        charge_old, sigma_old, epsilon_old = old_system_nbf.getParticleParameters(old_index)\n",
    "        new_index = hybrid_to_new_map[particle_index]\n",
    "        charge_new, sigma_new, epsilon_new = new_system_nbf.getParticleParameters(new_index)\n",
    "        assert charge_old == charge_new, \"charges do not match: {charge_old} (old) and {charge_new} (new)\"\n",
    "        assert sigma_old == sigma_new, f\"sigmas do not match: {sigma_old} (old) and {sigma_new} (new)\"\n",
    "        assert epsilon_old == epsilon_new, f\"epsilons do not match: {epsilon_old} (old) and {epsilon_new} (new)\"\n",
    "\n",
    "        # Add the environment atoms to the stanard nonbonded force\n",
    "        standard_nonbonded_force.addParticle(charge_old, sigma_old * 0.0, epsilon_old * 0.0)\n",
    "\n",
    "# # Add exceptions for unique/old so that they never interact\n",
    "# for old in atom_classes['unique_old_atoms']:\n",
    "#     for new in atom_classes['unique_new_atoms']:\n",
    "#         standard_nonbonded_force.addException(old,\n",
    "#                                               new,\n",
    "#                                               0.0 * unit.elementary_charge ** 2,\n",
    "#                                               1.0 * unit.nanometers,\n",
    "#                                               0.0 * unit.kilojoules_per_mole)"
   ]
  },
  {
   "cell_type": "code",
   "execution_count": 36,
   "id": "171802a8",
   "metadata": {},
   "outputs": [
    {
     "name": "stdout",
     "output_type": "stream",
     "text": [
      "conducting subsequent work with the following platform: CUDA\n",
      "setting force:  NonbondedForce 0\n",
      "lambda_alchemical_electrostatics_reciprocal 0.0\n",
      "0 NonbondedForce 31\n",
      "reciprocal space  31\n"
     ]
    },
    {
     "data": {
      "text/plain": [
       "[('NonbondedForce', 0.0)]"
      ]
     },
     "execution_count": 36,
     "metadata": {},
     "output_type": "execute_result"
    }
   ],
   "source": [
    "compute_potential_components2(hybrid_system, htf.hybrid_positions)"
   ]
  },
  {
   "cell_type": "markdown",
   "id": "af3232bb",
   "metadata": {},
   "source": [
    "# Make simpler system to show problem"
   ]
  },
  {
   "cell_type": "code",
   "execution_count": null,
   "id": "a8b388f1",
   "metadata": {},
   "outputs": [],
   "source": []
  },
  {
   "cell_type": "code",
   "execution_count": 48,
   "id": "0c1e0f14",
   "metadata": {},
   "outputs": [],
   "source": [
    "from openmmtools.testsystems import AlanineDipeptideExplicit"
   ]
  },
  {
   "cell_type": "code",
   "execution_count": 103,
   "id": "373b084e",
   "metadata": {},
   "outputs": [],
   "source": [
    "atp = AlanineDipeptideExplicit()"
   ]
  },
  {
   "cell_type": "code",
   "execution_count": 104,
   "id": "51e6ad98",
   "metadata": {},
   "outputs": [],
   "source": [
    "system = openmm.System()\n",
    "\n",
    "for particle_idx in range(atp.system.getNumParticles()):\n",
    "    particle_mass = atp.system.getParticleMass(particle_idx)\n",
    "    system.addParticle(particle_mass)\n"
   ]
  },
  {
   "cell_type": "code",
   "execution_count": 105,
   "id": "54a381d9",
   "metadata": {},
   "outputs": [],
   "source": [
    "# Create force\n",
    "standard_nonbonded_force = openmm.NonbondedForce()\n",
    "system.addForce(standard_nonbonded_force)\n",
    "\n",
    "# Add global parameters\n",
    "standard_nonbonded_force.addGlobalParameter(\"lambda_alchemical_electrostatics_reciprocal\", 0.0)\n",
    "\n",
    "# old_nbf = atp.system.getForce(3)\n",
    "standard_nonbonded_force.setNonbondedMethod(old_nbf.getNonbondedMethod())\n",
    "# [alpha_ewald, nx, ny, nz] = old_nbf.getPMEParameters()\n",
    "# delta = old_nbf.getEwaldErrorTolerance()\n",
    "# standard_nonbonded_force.setPMEParameters(alpha_ewald, nx, ny, nz)\n",
    "# standard_nonbonded_force.setEwaldErrorTolerance(delta)\n",
    "# standard_nonbonded_force.setCutoffDistance(1.0*unit.nanometer)\n",
    "\n",
    "# # Disable direct space interactions\n",
    "# standard_nonbonded_force.setIncludeDirectSpace(False)"
   ]
  },
  {
   "cell_type": "code",
   "execution_count": 107,
   "id": "a4152489",
   "metadata": {},
   "outputs": [],
   "source": [
    "# Iterate over the particles in the hybrid system, because nonbonded force does not accept index\n",
    "for particle_index in range(system.getNumParticles()):\n",
    "\n",
    "    charge, sigma, epsilon = atp.system.getForce(3).getParticleParameters(particle_index)\n",
    "\n",
    "    # Add particle to the standard nonbonded force\n",
    "    standard_nonbonded_force.addParticle(charge, sigma * 0.0, epsilon * 0.0)\n",
    "\n",
    "#     # Charge and epsilon will be turned on at lambda = 0 and turned off at lambda = 1\n",
    "#     standard_nonbonded_force.addParticleParameterOffset('lambda_alchemical_electrostatics_reciprocal', particle_index, -charge, 0.0, 0.0)\n",
    "\n"
   ]
  },
  {
   "cell_type": "code",
   "execution_count": 108,
   "id": "5ab6a905",
   "metadata": {},
   "outputs": [
    {
     "name": "stdout",
     "output_type": "stream",
     "text": [
      "conducting subsequent work with the following platform: CUDA\n",
      "setting force:  NonbondedForce 0\n",
      "lambda_alchemical_electrostatics_reciprocal 0.0\n",
      "0 NonbondedForce 31\n",
      "reciprocal space  31\n"
     ]
    },
    {
     "data": {
      "text/plain": [
       "[('NonbondedForce', 0.0)]"
      ]
     },
     "execution_count": 108,
     "metadata": {},
     "output_type": "execute_result"
    }
   ],
   "source": [
    "compute_potential_components2(system, atp.positions)"
   ]
  },
  {
   "cell_type": "code",
   "execution_count": null,
   "id": "848f47a6",
   "metadata": {},
   "outputs": [],
   "source": []
  },
  {
   "cell_type": "code",
   "execution_count": null,
   "id": "c8f1f0d7",
   "metadata": {},
   "outputs": [],
   "source": []
  },
  {
   "cell_type": "code",
   "execution_count": 1,
   "id": "72e3581a",
   "metadata": {},
   "outputs": [
    {
     "name": "stderr",
     "output_type": "stream",
     "text": [
      "Warning: importing 'simtk.openmm' is deprecated.  Import 'openmm' instead.\n"
     ]
    },
    {
     "name": "stdout",
     "output_type": "stream",
     "text": [
      "4\n",
      "True\n",
      "0.0\n",
      "0.0\n"
     ]
    }
   ],
   "source": [
    "from openmmtools.testsystems import AlanineDipeptideExplicit\n",
    "from simtk import unit, openmm\n",
    "from openmmtools.constants import kB\n",
    "\n",
    "#############################################\n",
    "# CONSTANTS\n",
    "#############################################\n",
    "temperature = 300.0 * unit.kelvin\n",
    "kT = kB * temperature\n",
    "beta = 1.0/kT\n",
    "DEFAULT_PLATFORM = openmm.Platform.getPlatformByName(\"CUDA\")\n",
    "\n",
    "# Grab reference system\n",
    "atp = AlanineDipeptideExplicit()\n",
    "\n",
    "# Create system from scratch\n",
    "system = openmm.System()\n",
    "\n",
    "# Copy particles from reference to new system\n",
    "for particle_idx in range(atp.system.getNumParticles()):\n",
    "    particle_mass = atp.system.getParticleMass(particle_idx)\n",
    "    system.addParticle(particle_mass)\n",
    "\n",
    "# Create nonbonded force\n",
    "standard_nonbonded_force = openmm.NonbondedForce()\n",
    "system.addForce(standard_nonbonded_force)\n",
    "\n",
    "# Add global parameters\n",
    "standard_nonbonded_force.addGlobalParameter(\"lambda_alchemical_electrostatics_reciprocal\", 0.0)\n",
    "\n",
    "# Set nonbonded method\n",
    "old_nbf = atp.system.getForce(3)\n",
    "standard_nonbonded_force.setNonbondedMethod(old_nbf.getNonbondedMethod())\n",
    "# standard_nonbonded_force.setNonbondedMethod(openmm.NonbondedForce.CutoffPeriodic)\n",
    "# print(openmm.NonbondedForce.CutoffPeriodic)\n",
    "# standard_nonbonded_force.setUseDispersionCorrection(False)\n",
    "print(standard_nonbonded_force.getNonbondedMethod())\n",
    "print(standard_nonbonded_force.getUseDispersionCorrection())\n",
    "# standard_nonbonded_force.setReciprocalSpaceForceGroup(1)\n",
    "\n",
    "# Copy particles from reference system to new system's nonbonded force\n",
    "for particle_index in range(system.getNumParticles()):\n",
    "\n",
    "    charge, sigma, epsilon = old_nbf.getParticleParameters(particle_index)\n",
    "\n",
    "    # Add particle to the standard nonbonded force\n",
    "    standard_nonbonded_force.addParticle(charge, sigma * 0.0, epsilon * 0.0)\n",
    "\n",
    "    # Charge and epsilon will be turned on at lambda = 0 and turned off at lambda = 1\n",
    "    standard_nonbonded_force.addParticleParameterOffset('lambda_alchemical_electrostatics_reciprocal', particle_index, -charge, 0.0, 0.0)\n",
    "\n",
    "def compute_potential_components(system, positions, beta=beta, platform=DEFAULT_PLATFORM):\n",
    "    \"\"\"\n",
    "    Compute potential energy, raising an exception if it is not finite.\n",
    "    Parameters\n",
    "    ----------\n",
    "    context : simtk.openmm.Context\n",
    "        The context from which to extract, System, parameters, and positions.\n",
    "    \"\"\"\n",
    " \n",
    "#     from perses.dispersed.utils import configure_platform\n",
    "#     platform = configure_platform(platform.getName(), fallback_platform_name='Reference', precision='double')\n",
    "    platform = openmm.Platform.getPlatformByName('CUDA')\n",
    "    platform.setPropertyDefaultValue('Precision', 'double')\n",
    "\n",
    "    # Set force group to 31\n",
    "    force = system.getForce(0)\n",
    "    force.setForceGroup(31)\n",
    "\n",
    "    # Create new Context.\n",
    "    integrator = openmm.VerletIntegrator(1.0 * unit.femtoseconds)\n",
    "    context = openmm.Context(system, integrator, platform)\n",
    "    context.setPositions(positions)\n",
    "    \n",
    "    # Retrieve energy for force group 0\n",
    "    groups = set([0])\n",
    "    potential = beta * context.getState(getEnergy=True, groups=groups).getPotentialEnergy()\n",
    "    print(potential)\n",
    "#     groups = set([1])\n",
    "#     potential = beta * context.getState(getEnergy=True, groups=groups).getPotentialEnergy()\n",
    "#     print(potential)\n",
    "#     groups = set([31])\n",
    "#     potential = beta * context.getState(getEnergy=True, groups=groups).getPotentialEnergy()\n",
    "#     print(potential)\n",
    "    potential = beta * context.getState(getEnergy=True, groups=groups).getPotentialEnergy()\n",
    "    print(potential)\n",
    "    del context, integrator\n",
    "    \n",
    "    \n",
    "\n",
    "compute_potential_components(system, atp.positions)"
   ]
  },
  {
   "cell_type": "code",
   "execution_count": null,
   "id": "3faf0d84",
   "metadata": {},
   "outputs": [],
   "source": []
  },
  {
   "cell_type": "code",
   "execution_count": 19,
   "id": "7a5f9020",
   "metadata": {},
   "outputs": [],
   "source": [
    "with open('system_with_offset.xml', 'w') as f:\n",
    "    f.write(XmlSerializer.serialize(system))"
   ]
  },
  {
   "cell_type": "code",
   "execution_count": 23,
   "id": "43e9e153",
   "metadata": {},
   "outputs": [],
   "source": [
    "with open('system_without_offset.xml', 'w') as f:\n",
    "    f.write(XmlSerializer.serialize(system))"
   ]
  },
  {
   "cell_type": "code",
   "execution_count": 25,
   "id": "0aacf564",
   "metadata": {},
   "outputs": [],
   "source": [
    "import pickle"
   ]
  },
  {
   "cell_type": "code",
   "execution_count": 26,
   "id": "ecabaef5",
   "metadata": {},
   "outputs": [],
   "source": [
    "with open(\"positions.pickle\", \"wb\") as f:\n",
    "    pickle.dump(atp.positions, f)"
   ]
  },
  {
   "cell_type": "code",
   "execution_count": null,
   "id": "2f6d45b8",
   "metadata": {},
   "outputs": [],
   "source": []
  }
 ],
 "metadata": {
  "kernelspec": {
   "display_name": "Python 3 (ipykernel)",
   "language": "python",
   "name": "python3"
  },
  "language_info": {
   "codemirror_mode": {
    "name": "ipython",
    "version": 3
   },
   "file_extension": ".py",
   "mimetype": "text/x-python",
   "name": "python",
   "nbconvert_exporter": "python",
   "pygments_lexer": "ipython3",
   "version": "3.8.12"
  }
 },
 "nbformat": 4,
 "nbformat_minor": 5
}
