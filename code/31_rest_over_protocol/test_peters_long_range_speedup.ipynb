{
 "cells": [
  {
   "cell_type": "code",
   "execution_count": 2,
   "id": "970ed216",
   "metadata": {},
   "outputs": [],
   "source": [
    "import time\n",
    "import os\n",
    "import pickle\n",
    "\n",
    "from simtk.openmm import XmlSerializer\n",
    "from simtk import openmm\n",
    "from simtk.openmm import app, unit\n",
    "import openmmtools"
   ]
  },
  {
   "cell_type": "markdown",
   "id": "269645ac",
   "metadata": {},
   "source": [
    "# Check computation time for setUseDispersionCorrection(True) for only the NonbondedForce that contains nonalchemical atoms, but not the CustomNonbondedForce that contains alchemical atoms"
   ]
  },
  {
   "cell_type": "markdown",
   "id": "378e7055",
   "metadata": {},
   "source": [
    "Use long-range env"
   ]
  },
  {
   "cell_type": "code",
   "execution_count": 2,
   "id": "09632b1e",
   "metadata": {},
   "outputs": [],
   "source": [
    "with open('rbd_ace2_example/rbd_ace2_hybrid_system.xml', 'r') as f:\n",
    "    system = XmlSerializer.deserialize(f.read())\n",
    "with open('rbd_ace2_example/rbd_ace2_state.xml', 'r') as f:\n",
    "    state = XmlSerializer.deserialize(f.read())"
   ]
  },
  {
   "cell_type": "code",
   "execution_count": 3,
   "id": "0848171e",
   "metadata": {
    "scrolled": true
   },
   "outputs": [
    {
     "data": {
      "text/plain": [
       "[<openmm.openmm.MonteCarloBarostat; proxy of <Swig Object of type 'OpenMM::MonteCarloBarostat *' at 0x2af9705bb930> >,\n",
       " <openmm.openmm.CustomBondForce; proxy of <Swig Object of type 'OpenMM::CustomBondForce *' at 0x2af9705bb960> >,\n",
       " <openmm.openmm.HarmonicBondForce; proxy of <Swig Object of type 'OpenMM::HarmonicBondForce *' at 0x2af9705bba80> >,\n",
       " <openmm.openmm.CustomAngleForce; proxy of <Swig Object of type 'OpenMM::CustomAngleForce *' at 0x2af9705bbd80> >,\n",
       " <openmm.openmm.HarmonicAngleForce; proxy of <Swig Object of type 'OpenMM::HarmonicAngleForce *' at 0x2af9705bbde0> >,\n",
       " <openmm.openmm.CustomTorsionForce; proxy of <Swig Object of type 'OpenMM::CustomTorsionForce *' at 0x2af9705bbb40> >,\n",
       " <openmm.openmm.PeriodicTorsionForce; proxy of <Swig Object of type 'OpenMM::PeriodicTorsionForce *' at 0x2af9705bbe10> >,\n",
       " <openmm.openmm.NonbondedForce; proxy of <Swig Object of type 'OpenMM::NonbondedForce *' at 0x2af9705bbf30> >,\n",
       " <openmm.openmm.CustomNonbondedForce; proxy of <Swig Object of type 'OpenMM::CustomNonbondedForce *' at 0x2af9705bbe70> >,\n",
       " <openmm.openmm.CustomBondForce; proxy of <Swig Object of type 'OpenMM::CustomBondForce *' at 0x2af9705c7030> >]"
      ]
     },
     "execution_count": 3,
     "metadata": {},
     "output_type": "execute_result"
    }
   ],
   "source": [
    "system.getForces()"
   ]
  },
  {
   "cell_type": "code",
   "execution_count": 4,
   "id": "aacc7cd7",
   "metadata": {},
   "outputs": [
    {
     "data": {
      "text/plain": [
       "True"
      ]
     },
     "execution_count": 4,
     "metadata": {},
     "output_type": "execute_result"
    }
   ],
   "source": [
    "system.getForce(7).getUseDispersionCorrection()"
   ]
  },
  {
   "cell_type": "code",
   "execution_count": 5,
   "id": "a2eda49f",
   "metadata": {},
   "outputs": [],
   "source": [
    "system.getForce(8).setUseLongRangeCorrection(False)"
   ]
  },
  {
   "cell_type": "code",
   "execution_count": 6,
   "id": "b48b609f",
   "metadata": {},
   "outputs": [],
   "source": [
    "# Set up integrator\n",
    "integrator = openmmtools.integrators.LangevinIntegrator(temperature=300 * unit.kelvin, \n",
    "                                                        collision_rate=1 / unit.picoseconds, \n",
    "                                                        timestep=4 * unit.femtoseconds)\n"
   ]
  },
  {
   "cell_type": "code",
   "execution_count": 7,
   "id": "8e72cca6",
   "metadata": {},
   "outputs": [
    {
     "ename": "KeyboardInterrupt",
     "evalue": "",
     "output_type": "error",
     "traceback": [
      "\u001b[0;31m---------------------------------------------------------------------------\u001b[0m",
      "\u001b[0;31mKeyboardInterrupt\u001b[0m                         Traceback (most recent call last)",
      "\u001b[0;32m/scratch/lsftmp/3015511.tmpdir/ipykernel_1837/2187176679.py\u001b[0m in \u001b[0;36m<module>\u001b[0;34m\u001b[0m\n\u001b[1;32m      6\u001b[0m \u001b[0;32mif\u001b[0m \u001b[0mplatform_name\u001b[0m \u001b[0;32min\u001b[0m \u001b[0;34m[\u001b[0m\u001b[0;34m'CUDA'\u001b[0m\u001b[0;34m]\u001b[0m\u001b[0;34m:\u001b[0m\u001b[0;34m\u001b[0m\u001b[0;34m\u001b[0m\u001b[0m\n\u001b[1;32m      7\u001b[0m     \u001b[0mplatform\u001b[0m\u001b[0;34m.\u001b[0m\u001b[0msetPropertyDefaultValue\u001b[0m\u001b[0;34m(\u001b[0m\u001b[0;34m'DeterministicForces'\u001b[0m\u001b[0;34m,\u001b[0m \u001b[0;34m'true'\u001b[0m\u001b[0;34m)\u001b[0m\u001b[0;34m\u001b[0m\u001b[0;34m\u001b[0m\u001b[0m\n\u001b[0;32m----> 8\u001b[0;31m \u001b[0mcontext\u001b[0m \u001b[0;34m=\u001b[0m \u001b[0mopenmm\u001b[0m\u001b[0;34m.\u001b[0m\u001b[0mContext\u001b[0m\u001b[0;34m(\u001b[0m\u001b[0msystem\u001b[0m\u001b[0;34m,\u001b[0m \u001b[0mintegrator\u001b[0m\u001b[0;34m,\u001b[0m \u001b[0mplatform\u001b[0m\u001b[0;34m)\u001b[0m\u001b[0;34m\u001b[0m\u001b[0;34m\u001b[0m\u001b[0m\n\u001b[0m\u001b[1;32m      9\u001b[0m \u001b[0mcontext\u001b[0m\u001b[0;34m.\u001b[0m\u001b[0msetPeriodicBoxVectors\u001b[0m\u001b[0;34m(\u001b[0m\u001b[0;34m*\u001b[0m\u001b[0mstate\u001b[0m\u001b[0;34m.\u001b[0m\u001b[0mgetPeriodicBoxVectors\u001b[0m\u001b[0;34m(\u001b[0m\u001b[0;34m)\u001b[0m\u001b[0;34m)\u001b[0m\u001b[0;34m\u001b[0m\u001b[0;34m\u001b[0m\u001b[0m\n\u001b[1;32m     10\u001b[0m \u001b[0mcontext\u001b[0m\u001b[0;34m.\u001b[0m\u001b[0msetPositions\u001b[0m\u001b[0;34m(\u001b[0m\u001b[0mstate\u001b[0m\u001b[0;34m.\u001b[0m\u001b[0mgetPositions\u001b[0m\u001b[0;34m(\u001b[0m\u001b[0;34m)\u001b[0m\u001b[0;34m)\u001b[0m\u001b[0;34m\u001b[0m\u001b[0;34m\u001b[0m\u001b[0m\n",
      "\u001b[0;32m~/miniconda3/envs/long-range-peter/lib/python3.8/site-packages/openmm/openmm.py\u001b[0m in \u001b[0;36m__init__\u001b[0;34m(self, *args)\u001b[0m\n\u001b[1;32m  12864\u001b[0m             \u001b[0ma\u001b[0m \u001b[0mset\u001b[0m \u001b[0mof\u001b[0m \u001b[0mvalues\u001b[0m \u001b[0;32mfor\u001b[0m \u001b[0mplatform\u001b[0m\u001b[0;34m-\u001b[0m\u001b[0mspecific\u001b[0m \u001b[0mproperties\u001b[0m\u001b[0;34m.\u001b[0m \u001b[0mKeys\u001b[0m \u001b[0mare\u001b[0m \u001b[0mthe\u001b[0m \u001b[0mproperty\u001b[0m \u001b[0mnames\u001b[0m\u001b[0;34m.\u001b[0m\u001b[0;34m\u001b[0m\u001b[0;34m\u001b[0m\u001b[0m\n\u001b[1;32m  12865\u001b[0m         \"\"\"\n\u001b[0;32m> 12866\u001b[0;31m         \u001b[0m_openmm\u001b[0m\u001b[0;34m.\u001b[0m\u001b[0mContext_swiginit\u001b[0m\u001b[0;34m(\u001b[0m\u001b[0mself\u001b[0m\u001b[0;34m,\u001b[0m \u001b[0m_openmm\u001b[0m\u001b[0;34m.\u001b[0m\u001b[0mnew_Context\u001b[0m\u001b[0;34m(\u001b[0m\u001b[0;34m*\u001b[0m\u001b[0margs\u001b[0m\u001b[0;34m)\u001b[0m\u001b[0;34m)\u001b[0m\u001b[0;34m\u001b[0m\u001b[0;34m\u001b[0m\u001b[0m\n\u001b[0m\u001b[1;32m  12867\u001b[0m \u001b[0;34m\u001b[0m\u001b[0m\n\u001b[1;32m  12868\u001b[0m         \u001b[0mself\u001b[0m\u001b[0;34m.\u001b[0m\u001b[0m_system\u001b[0m \u001b[0;34m=\u001b[0m \u001b[0margs\u001b[0m\u001b[0;34m[\u001b[0m\u001b[0;36m0\u001b[0m\u001b[0;34m]\u001b[0m\u001b[0;34m\u001b[0m\u001b[0;34m\u001b[0m\u001b[0m\n",
      "\u001b[0;31mKeyboardInterrupt\u001b[0m: "
     ]
    }
   ],
   "source": [
    "# Set up context\n",
    "platform_name = 'CUDA'\n",
    "platform = openmm.Platform.getPlatformByName(platform_name)\n",
    "if platform_name in ['CUDA', 'OpenCL']:\n",
    "    platform.setPropertyDefaultValue('Precision', 'mixed')\n",
    "if platform_name in ['CUDA']:\n",
    "    platform.setPropertyDefaultValue('DeterministicForces', 'true')\n",
    "context = openmm.Context(system, integrator, platform)\n",
    "context.setPeriodicBoxVectors(*state.getPeriodicBoxVectors())\n",
    "context.setPositions(state.getPositions())\n",
    "context.setVelocitiesToTemperature(300 * unit.kelvin)"
   ]
  },
  {
   "cell_type": "code",
   "execution_count": 16,
   "id": "8381169b",
   "metadata": {},
   "outputs": [
    {
     "ename": "OpenMMException",
     "evalue": "Error invoking kernel: CUDA_ERROR_ILLEGAL_ADDRESS (700)",
     "output_type": "error",
     "traceback": [
      "\u001b[0;31m---------------------------------------------------------------------------\u001b[0m",
      "\u001b[0;31mOpenMMException\u001b[0m                           Traceback (most recent call last)",
      "\u001b[0;32m/scratch/lsftmp/3015147.tmpdir/ipykernel_140002/2004119433.py\u001b[0m in \u001b[0;36m<module>\u001b[0;34m\u001b[0m\n\u001b[1;32m      3\u001b[0m \u001b[0;32mfor\u001b[0m \u001b[0mstep\u001b[0m \u001b[0;32min\u001b[0m \u001b[0mrange\u001b[0m\u001b[0;34m(\u001b[0m\u001b[0mnsteps\u001b[0m\u001b[0;34m)\u001b[0m\u001b[0;34m:\u001b[0m\u001b[0;34m\u001b[0m\u001b[0;34m\u001b[0m\u001b[0m\n\u001b[1;32m      4\u001b[0m \u001b[0;31m#     context.setParameter('lambda_sterics_insert', (step + 1) * 0.01)\u001b[0m\u001b[0;34m\u001b[0m\u001b[0;34m\u001b[0m\u001b[0m\n\u001b[0;32m----> 5\u001b[0;31m     \u001b[0mintegrator\u001b[0m\u001b[0;34m.\u001b[0m\u001b[0mstep\u001b[0m\u001b[0;34m(\u001b[0m\u001b[0;36m1\u001b[0m\u001b[0;34m)\u001b[0m\u001b[0;34m\u001b[0m\u001b[0;34m\u001b[0m\u001b[0m\n\u001b[0m\u001b[1;32m      6\u001b[0m \u001b[0melapsed_time\u001b[0m \u001b[0;34m=\u001b[0m \u001b[0;34m(\u001b[0m\u001b[0mtime\u001b[0m\u001b[0;34m.\u001b[0m\u001b[0mtime\u001b[0m\u001b[0;34m(\u001b[0m\u001b[0;34m)\u001b[0m \u001b[0;34m-\u001b[0m \u001b[0minitial_time\u001b[0m\u001b[0;34m)\u001b[0m \u001b[0;34m*\u001b[0m \u001b[0munit\u001b[0m\u001b[0;34m.\u001b[0m\u001b[0mseconds\u001b[0m\u001b[0;34m\u001b[0m\u001b[0;34m\u001b[0m\u001b[0m\n",
      "\u001b[0;32m~/miniconda3/envs/long-range/lib/python3.9/site-packages/openmm/openmm.py\u001b[0m in \u001b[0;36mstep\u001b[0;34m(self, steps)\u001b[0m\n\u001b[1;32m  16938\u001b[0m             \u001b[0mthe\u001b[0m \u001b[0mnumber\u001b[0m \u001b[0mof\u001b[0m \u001b[0mtime\u001b[0m \u001b[0msteps\u001b[0m \u001b[0mto\u001b[0m \u001b[0mtake\u001b[0m\u001b[0;34m\u001b[0m\u001b[0;34m\u001b[0m\u001b[0m\n\u001b[1;32m  16939\u001b[0m         \"\"\"\n\u001b[0;32m> 16940\u001b[0;31m         \u001b[0;32mreturn\u001b[0m \u001b[0m_openmm\u001b[0m\u001b[0;34m.\u001b[0m\u001b[0mCustomIntegrator_step\u001b[0m\u001b[0;34m(\u001b[0m\u001b[0mself\u001b[0m\u001b[0;34m,\u001b[0m \u001b[0msteps\u001b[0m\u001b[0;34m)\u001b[0m\u001b[0;34m\u001b[0m\u001b[0;34m\u001b[0m\u001b[0m\n\u001b[0m\u001b[1;32m  16941\u001b[0m \u001b[0;34m\u001b[0m\u001b[0m\n\u001b[1;32m  16942\u001b[0m     \u001b[0;32mdef\u001b[0m \u001b[0mgetPerDofVariable\u001b[0m\u001b[0;34m(\u001b[0m\u001b[0mself\u001b[0m\u001b[0;34m,\u001b[0m \u001b[0;34m*\u001b[0m\u001b[0margs\u001b[0m\u001b[0;34m)\u001b[0m\u001b[0;34m:\u001b[0m\u001b[0;34m\u001b[0m\u001b[0;34m\u001b[0m\u001b[0m\n",
      "\u001b[0;31mOpenMMException\u001b[0m: Error invoking kernel: CUDA_ERROR_ILLEGAL_ADDRESS (700)"
     ]
    }
   ],
   "source": [
    "nsteps = 100\n",
    "initial_time = time.time()\n",
    "for step in range(nsteps):\n",
    "#     context.setParameter('lambda_sterics_insert', (step + 1) * 0.01)\n",
    "    integrator.step(1)\n",
    "elapsed_time = (time.time() - initial_time) * unit.seconds"
   ]
  },
  {
   "cell_type": "code",
   "execution_count": null,
   "id": "6ec993d7",
   "metadata": {},
   "outputs": [],
   "source": [
    "elapsed_time"
   ]
  },
  {
   "cell_type": "markdown",
   "id": "8bbdd964",
   "metadata": {},
   "source": [
    "# Check computation time for setLongRangeCorrection(True) for both CustomNonbondedForces"
   ]
  },
  {
   "cell_type": "markdown",
   "id": "277b2307",
   "metadata": {},
   "source": [
    "Use long-range env"
   ]
  },
  {
   "cell_type": "code",
   "execution_count": 14,
   "id": "9e939bce",
   "metadata": {},
   "outputs": [],
   "source": [
    "with open('rbd_ace2_example/rbd_ace2_hybrid_system.xml', 'r') as f:\n",
    "    system = XmlSerializer.deserialize(f.read())\n",
    "with open('rbd_ace2_example/rbd_ace2_state.xml', 'r') as f:\n",
    "    state = XmlSerializer.deserialize(f.read())"
   ]
  },
  {
   "cell_type": "code",
   "execution_count": 16,
   "id": "4f66d4b3",
   "metadata": {},
   "outputs": [
    {
     "data": {
      "text/plain": [
       "True"
      ]
     },
     "execution_count": 16,
     "metadata": {},
     "output_type": "execute_result"
    }
   ],
   "source": [
    "system.getForce(7).getUseDispersionCorrection()"
   ]
  },
  {
   "cell_type": "code",
   "execution_count": 15,
   "id": "0c8fc258",
   "metadata": {},
   "outputs": [],
   "source": [
    "system.getForce(8).setUseLongRangeCorrection(True)"
   ]
  },
  {
   "cell_type": "code",
   "execution_count": 17,
   "id": "2bae6f98",
   "metadata": {},
   "outputs": [],
   "source": [
    "# Set up integrator\n",
    "integrator = openmmtools.integrators.LangevinIntegrator(temperature=300 * unit.kelvin, \n",
    "                                                        collision_rate=1 / unit.picoseconds, \n",
    "                                                        timestep=4 * unit.femtoseconds)\n"
   ]
  },
  {
   "cell_type": "code",
   "execution_count": 18,
   "id": "881624d3",
   "metadata": {},
   "outputs": [],
   "source": [
    "# Set up context\n",
    "platform_name = 'CUDA'\n",
    "platform = openmm.Platform.getPlatformByName(platform_name)\n",
    "if platform_name in ['CUDA', 'OpenCL']:\n",
    "    platform.setPropertyDefaultValue('Precision', 'mixed')\n",
    "if platform_name in ['CUDA']:\n",
    "    platform.setPropertyDefaultValue('DeterministicForces', 'true')\n",
    "context = openmm.Context(system, integrator, platform)\n",
    "context.setPeriodicBoxVectors(*state.getPeriodicBoxVectors())\n",
    "context.setPositions(state.getPositions())\n",
    "context.setVelocitiesToTemperature(300 * unit.kelvin)"
   ]
  },
  {
   "cell_type": "code",
   "execution_count": 19,
   "id": "aadbe82a",
   "metadata": {},
   "outputs": [],
   "source": [
    "nsteps = 100\n",
    "initial_time = time.time()\n",
    "for step in range(nsteps):\n",
    "    context.setParameter('lambda_sterics_insert', (step + 1) * 0.01)\n",
    "    integrator.step(1)\n",
    "elapsed_time = (time.time() - initial_time) * unit.seconds"
   ]
  },
  {
   "cell_type": "code",
   "execution_count": 20,
   "id": "57ee6d31",
   "metadata": {},
   "outputs": [
    {
     "data": {
      "text/plain": [
       "Quantity(value=36.05855202674866, unit=second)"
      ]
     },
     "execution_count": 20,
     "metadata": {},
     "output_type": "execute_result"
    }
   ],
   "source": [
    "elapsed_time"
   ]
  },
  {
   "cell_type": "code",
   "execution_count": null,
   "id": "8c22e1d5",
   "metadata": {},
   "outputs": [],
   "source": []
  },
  {
   "cell_type": "markdown",
   "id": "e26b353e",
   "metadata": {},
   "source": [
    "# Check computation time for setLongRangeCorrection(True) for both CustomNonbondedForces (and with Peter's fix)"
   ]
  },
  {
   "cell_type": "markdown",
   "id": "99e6326c",
   "metadata": {},
   "source": [
    "Use long-range-peter env"
   ]
  },
  {
   "cell_type": "code",
   "execution_count": 10,
   "id": "f3c7ac6d",
   "metadata": {},
   "outputs": [],
   "source": [
    "with open('rbd_ace2_example/rbd_ace2_hybrid_system.xml', 'r') as f:\n",
    "    system = XmlSerializer.deserialize(f.read())\n",
    "with open('rbd_ace2_example/rbd_ace2_state.xml', 'r') as f:\n",
    "    state = XmlSerializer.deserialize(f.read())"
   ]
  },
  {
   "cell_type": "code",
   "execution_count": 11,
   "id": "64722b8a",
   "metadata": {},
   "outputs": [
    {
     "data": {
      "text/plain": [
       "True"
      ]
     },
     "execution_count": 11,
     "metadata": {},
     "output_type": "execute_result"
    }
   ],
   "source": [
    "system.getForce(7).getUseDispersionCorrection()"
   ]
  },
  {
   "cell_type": "code",
   "execution_count": 12,
   "id": "408abbbe",
   "metadata": {},
   "outputs": [],
   "source": [
    "system.getForce(8).setUseLongRangeCorrection(True)"
   ]
  },
  {
   "cell_type": "code",
   "execution_count": 13,
   "id": "13c8b1ce",
   "metadata": {},
   "outputs": [],
   "source": [
    "# Set up integrator\n",
    "integrator = openmmtools.integrators.LangevinIntegrator(temperature=300 * unit.kelvin, \n",
    "                                                        collision_rate=1 / unit.picoseconds, \n",
    "                                                        timestep=4 * unit.femtoseconds)\n"
   ]
  },
  {
   "cell_type": "code",
   "execution_count": 14,
   "id": "7d428b9f",
   "metadata": {},
   "outputs": [],
   "source": [
    "# Set up context\n",
    "platform_name = 'CUDA'\n",
    "platform = openmm.Platform.getPlatformByName(platform_name)\n",
    "if platform_name in ['CUDA', 'OpenCL']:\n",
    "    platform.setPropertyDefaultValue('Precision', 'mixed')\n",
    "if platform_name in ['CUDA']:\n",
    "    platform.setPropertyDefaultValue('DeterministicForces', 'true')\n",
    "context = openmm.Context(system, integrator, platform)\n",
    "context.setPeriodicBoxVectors(*state.getPeriodicBoxVectors())\n",
    "context.setPositions(state.getPositions())\n",
    "context.setVelocitiesToTemperature(300 * unit.kelvin)"
   ]
  },
  {
   "cell_type": "code",
   "execution_count": 15,
   "id": "f542945d",
   "metadata": {},
   "outputs": [],
   "source": [
    "nsteps = 100\n",
    "initial_time = time.time()\n",
    "for step in range(nsteps):\n",
    "    context.setParameter('lambda_sterics_insert', (step + 1) * 0.01)\n",
    "    integrator.step(1)\n",
    "elapsed_time = (time.time() - initial_time) * unit.seconds"
   ]
  },
  {
   "cell_type": "code",
   "execution_count": 16,
   "id": "23a2999c",
   "metadata": {},
   "outputs": [
    {
     "data": {
      "text/plain": [
       "Quantity(value=11.170037746429443, unit=second)"
      ]
     },
     "execution_count": 16,
     "metadata": {},
     "output_type": "execute_result"
    }
   ],
   "source": [
    "elapsed_time"
   ]
  },
  {
   "cell_type": "markdown",
   "id": "a699aa81",
   "metadata": {},
   "source": [
    "# Peter's test code"
   ]
  },
  {
   "cell_type": "code",
   "execution_count": 1,
   "id": "a9b2e00f",
   "metadata": {},
   "outputs": [
    {
     "name": "stderr",
     "output_type": "stream",
     "text": [
      "Warning: importing 'simtk.openmm' is deprecated.  Import 'openmm' instead.\n"
     ]
    }
   ],
   "source": [
    "from openmm import *\n",
    "import time\n",
    "from openmmtools.integrators import LangevinIntegrator\n"
   ]
  },
  {
   "cell_type": "code",
   "execution_count": 2,
   "id": "cf0aa3c5",
   "metadata": {},
   "outputs": [],
   "source": [
    "import openmm"
   ]
  },
  {
   "cell_type": "code",
   "execution_count": 3,
   "id": "07b59d97",
   "metadata": {},
   "outputs": [
    {
     "data": {
      "text/plain": [
       "'779400a1e3fdc988e84fa7aed760ac95d81c179c'"
      ]
     },
     "execution_count": 3,
     "metadata": {},
     "output_type": "execute_result"
    }
   ],
   "source": [
    "openmm.version.git_revision"
   ]
  },
  {
   "cell_type": "code",
   "execution_count": 7,
   "id": "223ca254",
   "metadata": {},
   "outputs": [],
   "source": [
    "with open('rbd_ace2_hybrid_system.xml') as input:\n",
    "    system = XmlSerializer.deserialize(input.read())\n",
    "# with open('rbd_ace2_state.xml') as input:\n",
    "#     state = XmlSerializer.deserialize(input.read())\n",
    "with open('rbd_ace2_state_minimized2.xml') as input:\n",
    "    state = XmlSerializer.deserialize(input.read())"
   ]
  },
  {
   "cell_type": "code",
   "execution_count": 8,
   "id": "ef44c0da",
   "metadata": {},
   "outputs": [],
   "source": [
    "integrator = LangevinMiddleIntegrator(300, 1.0, 0.004)\n",
    "# integrator = LangevinIntegrator(temperature=300 * unit.kelvin, \n",
    "#                                                         collision_rate=1 / unit.picoseconds, \n",
    "#                                                         timestep=4 * unit.femtoseconds)\n",
    "platform = Platform.getPlatformByName('CUDA')\n",
    "context = Context(system, integrator, platform)\n",
    "context.setState(state)\n"
   ]
  },
  {
   "cell_type": "code",
   "execution_count": 4,
   "id": "47e1fa40",
   "metadata": {},
   "outputs": [],
   "source": [
    "# LocalEnergyMinimizer.minimize(context)\n",
    "# state = context.getState(getPositions=True, getVelocities=True)\n",
    "# with open('rbd_ace2_state_minimized2.xml', 'w') as f:\n",
    "#     f.write(XmlSerializer.serialize(state))\n"
   ]
  },
  {
   "cell_type": "code",
   "execution_count": 6,
   "id": "db2b48be",
   "metadata": {
    "scrolled": true
   },
   "outputs": [
    {
     "name": "stdout",
     "output_type": "stream",
     "text": [
      "3.365924596786499\n"
     ]
    }
   ],
   "source": [
    "integrator.step(10)\n",
    "context.getState(getPositions=True)\n",
    "start = time.time()\n",
    "for i in range(100):\n",
    "    integrator.step(1)\n",
    "    context.setParameter('lambda_sterics_insert', 0.1*(i%2))\n",
    "context.getState(getPositions=True)\n",
    "end = time.time()\n",
    "print(end-start)"
   ]
  },
  {
   "cell_type": "code",
   "execution_count": 9,
   "id": "17d02282",
   "metadata": {
    "scrolled": true
   },
   "outputs": [
    {
     "name": "stdout",
     "output_type": "stream",
     "text": [
      "0.664475679397583\n"
     ]
    }
   ],
   "source": [
    "integrator.step(10)\n",
    "context.getState(getPositions=True)\n",
    "start = time.time()\n",
    "for i in range(100):\n",
    "    integrator.step(1)\n",
    "#     context.setParameter('lambda_sterics_insert', 0.1*(i%2))\n",
    "context.getState(getPositions=True)\n",
    "end = time.time()\n",
    "print(end-start)"
   ]
  },
  {
   "cell_type": "code",
   "execution_count": 19,
   "id": "4987f025",
   "metadata": {},
   "outputs": [
    {
     "data": {
      "text/plain": [
       "[<openmm.openmm.MonteCarloBarostat; proxy of <Swig Object of type 'OpenMM::MonteCarloBarostat *' at 0x2aef466dbc30> >,\n",
       " <openmm.openmm.CustomBondForce; proxy of <Swig Object of type 'OpenMM::CustomBondForce *' at 0x2aef466db4e0> >,\n",
       " <openmm.openmm.HarmonicBondForce; proxy of <Swig Object of type 'OpenMM::HarmonicBondForce *' at 0x2aef466db660> >,\n",
       " <openmm.openmm.CustomAngleForce; proxy of <Swig Object of type 'OpenMM::CustomAngleForce *' at 0x2aef45c87150> >,\n",
       " <openmm.openmm.HarmonicAngleForce; proxy of <Swig Object of type 'OpenMM::HarmonicAngleForce *' at 0x2aef45c873c0> >,\n",
       " <openmm.openmm.CustomTorsionForce; proxy of <Swig Object of type 'OpenMM::CustomTorsionForce *' at 0x2aef45c871e0> >,\n",
       " <openmm.openmm.PeriodicTorsionForce; proxy of <Swig Object of type 'OpenMM::PeriodicTorsionForce *' at 0x2aef45cb38d0> >,\n",
       " <openmm.openmm.NonbondedForce; proxy of <Swig Object of type 'OpenMM::NonbondedForce *' at 0x2aef45cb3e40> >,\n",
       " <openmm.openmm.CustomNonbondedForce; proxy of <Swig Object of type 'OpenMM::CustomNonbondedForce *' at 0x2aef45cb3840> >,\n",
       " <openmm.openmm.CustomBondForce; proxy of <Swig Object of type 'OpenMM::CustomBondForce *' at 0x2aef45cb3ae0> >]"
      ]
     },
     "execution_count": 19,
     "metadata": {},
     "output_type": "execute_result"
    }
   ],
   "source": [
    "system.getForces()"
   ]
  },
  {
   "cell_type": "code",
   "execution_count": 20,
   "id": "74727a57",
   "metadata": {},
   "outputs": [
    {
     "data": {
      "text/plain": [
       "True"
      ]
     },
     "execution_count": 20,
     "metadata": {},
     "output_type": "execute_result"
    }
   ],
   "source": [
    "system.getForce(7).getUseDispersionCorrection()"
   ]
  },
  {
   "cell_type": "code",
   "execution_count": 23,
   "id": "4df4a7ff",
   "metadata": {
    "scrolled": true
   },
   "outputs": [
    {
     "data": {
      "text/plain": [
       "True"
      ]
     },
     "execution_count": 23,
     "metadata": {},
     "output_type": "execute_result"
    }
   ],
   "source": [
    "system.getForce(8).getUseLongRangeCorrection()"
   ]
  },
  {
   "cell_type": "markdown",
   "id": "d355cc4f",
   "metadata": {},
   "source": [
    "# Peter's test code (with long-range) -- no PR fixes"
   ]
  },
  {
   "cell_type": "code",
   "execution_count": 1,
   "id": "03043c87",
   "metadata": {},
   "outputs": [
    {
     "name": "stderr",
     "output_type": "stream",
     "text": [
      "Warning: importing 'simtk.openmm' is deprecated.  Import 'openmm' instead.\n"
     ]
    }
   ],
   "source": [
    "from openmm import *\n",
    "import time\n",
    "from openmmtools.integrators import LangevinIntegrator\n"
   ]
  },
  {
   "cell_type": "code",
   "execution_count": 2,
   "id": "09122d6c",
   "metadata": {},
   "outputs": [],
   "source": [
    "import openmm"
   ]
  },
  {
   "cell_type": "code",
   "execution_count": 3,
   "id": "2960b14e",
   "metadata": {},
   "outputs": [
    {
     "data": {
      "text/plain": [
       "'ad113a0cb37991a2de67a08026cf3b91616bafbe'"
      ]
     },
     "execution_count": 3,
     "metadata": {},
     "output_type": "execute_result"
    }
   ],
   "source": [
    "openmm.version.git_revision"
   ]
  },
  {
   "cell_type": "code",
   "execution_count": 7,
   "id": "4edc4adf",
   "metadata": {},
   "outputs": [],
   "source": [
    "with open('rbd_ace2_hybrid_system.xml') as input:\n",
    "    system = XmlSerializer.deserialize(input.read())\n",
    "# with open('rbd_ace2_state.xml') as input:\n",
    "#     state = XmlSerializer.deserialize(input.read())\n",
    "with open('rbd_ace2_state_minimized2.xml') as input:\n",
    "    state = XmlSerializer.deserialize(input.read())"
   ]
  },
  {
   "cell_type": "code",
   "execution_count": 8,
   "id": "d9f2505a",
   "metadata": {},
   "outputs": [],
   "source": [
    "integrator = LangevinMiddleIntegrator(300, 1.0, 0.004)\n",
    "# integrator = LangevinIntegrator(temperature=300 * unit.kelvin, \n",
    "#                                                         collision_rate=1 / unit.picoseconds, \n",
    "#                                                         timestep=4 * unit.femtoseconds)\n",
    "platform = Platform.getPlatformByName('CUDA')\n",
    "context = Context(system, integrator, platform)\n",
    "context.setState(state)\n"
   ]
  },
  {
   "cell_type": "code",
   "execution_count": 6,
   "id": "b712999d",
   "metadata": {
    "scrolled": true
   },
   "outputs": [
    {
     "name": "stdout",
     "output_type": "stream",
     "text": [
      "21.13302493095398\n"
     ]
    }
   ],
   "source": [
    "integrator.step(10)\n",
    "context.getState(getPositions=True)\n",
    "start = time.time()\n",
    "for i in range(100):\n",
    "    integrator.step(1)\n",
    "    context.setParameter('lambda_sterics_insert', 0.1*(i%2))\n",
    "context.getState(getPositions=True)\n",
    "end = time.time()\n",
    "print(end-start)"
   ]
  },
  {
   "cell_type": "code",
   "execution_count": 9,
   "id": "76c7c427",
   "metadata": {
    "scrolled": true
   },
   "outputs": [
    {
     "name": "stdout",
     "output_type": "stream",
     "text": [
      "0.6460976600646973\n"
     ]
    }
   ],
   "source": [
    "integrator.step(10)\n",
    "context.getState(getPositions=True)\n",
    "start = time.time()\n",
    "for i in range(100):\n",
    "    integrator.step(1)\n",
    "#     context.setParameter('lambda_sterics_insert', 0.1*(i%2))\n",
    "context.getState(getPositions=True)\n",
    "end = time.time()\n",
    "print(end-start)"
   ]
  },
  {
   "cell_type": "markdown",
   "id": "fe633c99",
   "metadata": {},
   "source": [
    "# Peter's test code (with long-range) -- PR # 3275 fixes"
   ]
  },
  {
   "cell_type": "code",
   "execution_count": 1,
   "id": "5d032f4f",
   "metadata": {},
   "outputs": [
    {
     "name": "stderr",
     "output_type": "stream",
     "text": [
      "Warning: importing 'simtk.openmm' is deprecated.  Import 'openmm' instead.\n"
     ]
    }
   ],
   "source": [
    "from openmm import *\n",
    "import time\n",
    "from openmmtools.integrators import LangevinIntegrator\n"
   ]
  },
  {
   "cell_type": "code",
   "execution_count": 2,
   "id": "144a8dae",
   "metadata": {},
   "outputs": [],
   "source": [
    "import openmm"
   ]
  },
  {
   "cell_type": "code",
   "execution_count": 3,
   "id": "06613ae7",
   "metadata": {},
   "outputs": [
    {
     "data": {
      "text/plain": [
       "'54c9ceb902a202d919cb19005813218f3f4e9bf1'"
      ]
     },
     "execution_count": 3,
     "metadata": {},
     "output_type": "execute_result"
    }
   ],
   "source": [
    "openmm.version.git_revision"
   ]
  },
  {
   "cell_type": "code",
   "execution_count": 4,
   "id": "30c3fd74",
   "metadata": {},
   "outputs": [],
   "source": [
    "with open('rbd_ace2_hybrid_system.xml') as input:\n",
    "    system = XmlSerializer.deserialize(input.read())\n",
    "# with open('rbd_ace2_state.xml') as input:\n",
    "#     state = XmlSerializer.deserialize(input.read())\n",
    "with open('rbd_ace2_state_minimized2.xml') as input:\n",
    "    state = XmlSerializer.deserialize(input.read())"
   ]
  },
  {
   "cell_type": "code",
   "execution_count": 5,
   "id": "ed31fadf",
   "metadata": {},
   "outputs": [],
   "source": [
    "integrator = LangevinMiddleIntegrator(300, 1.0, 0.004)\n",
    "# integrator = LangevinIntegrator(temperature=300 * unit.kelvin, \n",
    "#                                                         collision_rate=1 / unit.picoseconds, \n",
    "#                                                         timestep=4 * unit.femtoseconds)\n",
    "platform = Platform.getPlatformByName('CUDA')\n",
    "context = Context(system, integrator, platform)\n",
    "context.setState(state)\n"
   ]
  },
  {
   "cell_type": "code",
   "execution_count": 6,
   "id": "07b25be6",
   "metadata": {
    "scrolled": true
   },
   "outputs": [
    {
     "name": "stdout",
     "output_type": "stream",
     "text": [
      "0.8623063564300537\n"
     ]
    }
   ],
   "source": [
    "integrator.step(10)\n",
    "context.getState(getPositions=True)\n",
    "start = time.time()\n",
    "for i in range(100):\n",
    "    integrator.step(1)\n",
    "    context.setParameter('lambda_sterics_insert', 0.1*(i%2))\n",
    "context.getState(getPositions=True)\n",
    "end = time.time()\n",
    "print(end-start)"
   ]
  },
  {
   "cell_type": "code",
   "execution_count": 6,
   "id": "383b4c8f",
   "metadata": {
    "scrolled": true
   },
   "outputs": [
    {
     "name": "stdout",
     "output_type": "stream",
     "text": [
      "0.7842466831207275\n"
     ]
    }
   ],
   "source": [
    "integrator.step(10)\n",
    "context.getState(getPositions=True)\n",
    "start = time.time()\n",
    "for i in range(100):\n",
    "    integrator.step(1)\n",
    "#     context.setParameter('lambda_sterics_insert', 0.1*(i%2))\n",
    "context.getState(getPositions=True)\n",
    "end = time.time()\n",
    "print(end-start)"
   ]
  },
  {
   "cell_type": "markdown",
   "id": "21dd621f",
   "metadata": {},
   "source": [
    "# Test with PeriodicNonequilibriumIntegrator (without long range PRs)"
   ]
  },
  {
   "cell_type": "code",
   "execution_count": 11,
   "id": "ef7fe1ee",
   "metadata": {},
   "outputs": [],
   "source": [
    "from openmm import *\n",
    "import time\n",
    "from openmmtools.integrators import PeriodicNonequilibriumIntegrator, LangevinIntegrator"
   ]
  },
  {
   "cell_type": "code",
   "execution_count": 3,
   "id": "6a797247",
   "metadata": {},
   "outputs": [],
   "source": [
    "import openmm"
   ]
  },
  {
   "cell_type": "code",
   "execution_count": 4,
   "id": "ccd7ea52",
   "metadata": {},
   "outputs": [
    {
     "data": {
      "text/plain": [
       "'ad113a0cb37991a2de67a08026cf3b91616bafbe'"
      ]
     },
     "execution_count": 4,
     "metadata": {},
     "output_type": "execute_result"
    }
   ],
   "source": [
    "openmm.version.git_revision"
   ]
  },
  {
   "cell_type": "code",
   "execution_count": 5,
   "id": "2c4cb4a8",
   "metadata": {},
   "outputs": [],
   "source": [
    "with open('rbd_ace2_hybrid_system.xml') as input:\n",
    "    system = XmlSerializer.deserialize(input.read())\n",
    "# with open('rbd_ace2_state.xml') as input:\n",
    "#     state = XmlSerializer.deserialize(input.read())\n",
    "with open('rbd_ace2_state_minimized2.xml') as input:\n",
    "    state = XmlSerializer.deserialize(input.read())"
   ]
  },
  {
   "cell_type": "code",
   "execution_count": 8,
   "id": "e7b9de61",
   "metadata": {},
   "outputs": [],
   "source": [
    "# Define lambda functions\n",
    "x = 'lambda'\n",
    "DEFAULT_ALCHEMICAL_FUNCTIONS = {\n",
    "                              'lambda_sterics_core': x,\n",
    "                              'lambda_electrostatics_core': x,\n",
    "                              'lambda_sterics_insert': f\"select(step({x} - 0.5), 1.0, 2.0 * {x})\",\n",
    "                              'lambda_sterics_delete': f\"select(step({x} - 0.5), 2.0 * ({x} - 0.5), 0.0)\",\n",
    "                              'lambda_electrostatics_insert': f\"select(step({x} - 0.5), 2.0 * ({x} - 0.5), 0.0)\",\n",
    "                              'lambda_electrostatics_delete': f\"select(step({x} - 0.5), 1.0, 2.0 * {x})\",\n",
    "                              'lambda_bonds': x,\n",
    "                              'lambda_angles': x,\n",
    "                              'lambda_torsions': x}\n",
    "\n",
    "# Define simulation parameters\n",
    "nsteps_eq = 10\n",
    "nsteps_neq = 100\n",
    "neq_splitting='V R H O R V'\n",
    "timestep = 4.0 * unit.femtosecond\n",
    "platform_name = 'CUDA'\n",
    "temperature = 300.0 * unit.kelvin\n",
    "\n",
    "integrator = PeriodicNonequilibriumIntegrator(DEFAULT_ALCHEMICAL_FUNCTIONS, nsteps_eq, nsteps_neq, neq_splitting, timestep=timestep, temperature=temperature)\n",
    "\n",
    "platform = Platform.getPlatformByName('CUDA')\n",
    "context = Context(system, integrator, platform)\n",
    "context.setState(state)\n"
   ]
  },
  {
   "cell_type": "code",
   "execution_count": 7,
   "id": "f8ac439a",
   "metadata": {},
   "outputs": [
    {
     "name": "stdout",
     "output_type": "stream",
     "text": [
      "38.07520151138306\n"
     ]
    }
   ],
   "source": [
    "integrator.step(10) # eq\n",
    "\n",
    "start = time.time()\n",
    "for _ in range(10):\n",
    "    integrator.step(10)\n",
    "    work = integrator.get_protocol_work(dimensionless=True)\n",
    "end = time.time()\n",
    "print(end-start)"
   ]
  },
  {
   "cell_type": "code",
   "execution_count": 9,
   "id": "b27d9b71",
   "metadata": {},
   "outputs": [
    {
     "name": "stdout",
     "output_type": "stream",
     "text": [
      "38.06625843048096\n"
     ]
    }
   ],
   "source": [
    "integrator.step(10) # eq\n",
    "\n",
    "start = time.time()\n",
    "for _ in range(10):\n",
    "    integrator.step(10)\n",
    "#     work = integrator.get_protocol_work(dimensionless=True)\n",
    "end = time.time()\n",
    "print(end-start)"
   ]
  },
  {
   "cell_type": "code",
   "execution_count": 12,
   "id": "02d865a3",
   "metadata": {},
   "outputs": [],
   "source": [
    "# Set up integrator\n",
    "integrator = LangevinIntegrator(temperature=300 * unit.kelvin, \n",
    "                                                        collision_rate=1 / unit.picoseconds, \n",
    "                                                        timestep=4 * unit.femtoseconds)\n",
    "\n",
    "platform = Platform.getPlatformByName('CUDA')\n",
    "context = Context(system, integrator, platform)\n",
    "context.setState(state)\n"
   ]
  },
  {
   "cell_type": "code",
   "execution_count": 13,
   "id": "a5c4ca2a",
   "metadata": {},
   "outputs": [
    {
     "name": "stdout",
     "output_type": "stream",
     "text": [
      "0.7495777606964111\n"
     ]
    }
   ],
   "source": [
    "integrator.step(10) # eq\n",
    "\n",
    "start = time.time()\n",
    "for _ in range(10):\n",
    "    integrator.step(10)\n",
    "end = time.time()\n",
    "print(end-start)"
   ]
  },
  {
   "cell_type": "markdown",
   "id": "15646828",
   "metadata": {},
   "source": [
    "# Test with PeriodicNonequilibriumIntegrator (with PR #3275)"
   ]
  },
  {
   "cell_type": "code",
   "execution_count": 1,
   "id": "eb3fe7af",
   "metadata": {},
   "outputs": [
    {
     "name": "stderr",
     "output_type": "stream",
     "text": [
      "ERROR:root:Internal Python error in the inspect module.\n",
      "Below is the traceback from this internal error.\n",
      "\n"
     ]
    },
    {
     "name": "stdout",
     "output_type": "stream",
     "text": [
      "Traceback (most recent call last):\n",
      "  File \"/home/zhangi/miniconda3/envs/long-range/lib/python3.9/site-packages/IPython/core/interactiveshell.py\", line 3441, in run_code\n",
      "    exec(code_obj, self.user_global_ns, self.user_ns)\n",
      "  File \"/scratch/lsftmp/3123035.tmpdir/ipykernel_37212/3980925175.py\", line 3, in <module>\n",
      "    from openmmtools.integrators import PeriodicNonequilibriumIntegrator\n",
      "  File \"/home/zhangi/miniconda3/envs/long-range/lib/python3.9/site-packages/openmmtools/__init__.py\", line 8, in <module>\n",
      "    from openmmtools import testsystems, integrators, alchemy, mcmc, states, cache, utils, constants, forces, forcefactories, storage, multistate\n",
      "  File \"/home/zhangi/miniconda3/envs/long-range/lib/python3.9/site-packages/openmmtools/testsystems.py\", line 54, in <module>\n",
      "    import scipy.integrate\n",
      "  File \"/home/zhangi/miniconda3/envs/long-range/lib/python3.9/site-packages/scipy/integrate/__init__.py\", line 94, in <module>\n",
      "    from ._bvp import solve_bvp\n",
      "  File \"/home/zhangi/miniconda3/envs/long-range/lib/python3.9/site-packages/scipy/integrate/_bvp.py\", line 9, in <module>\n",
      "    from scipy.optimize import OptimizeResult\n",
      "  File \"/home/zhangi/miniconda3/envs/long-range/lib/python3.9/site-packages/scipy/optimize/__init__.py\", line 401, in <module>\n",
      "    from ._minimize import *\n",
      "  File \"/home/zhangi/miniconda3/envs/long-range/lib/python3.9/site-packages/scipy/optimize/_minimize.py\", line 26, in <module>\n",
      "    from ._trustregion_exact import _minimize_trustregion_exact\n",
      "  File \"<frozen importlib._bootstrap>\", line 1007, in _find_and_load\n",
      "  File \"<frozen importlib._bootstrap>\", line 986, in _find_and_load_unlocked\n",
      "  File \"<frozen importlib._bootstrap>\", line 680, in _load_unlocked\n",
      "  File \"<frozen importlib._bootstrap_external>\", line 846, in exec_module\n",
      "  File \"<frozen importlib._bootstrap_external>\", line 941, in get_code\n",
      "  File \"<frozen importlib._bootstrap_external>\", line 1040, in get_data\n",
      "KeyboardInterrupt\n",
      "\n",
      "During handling of the above exception, another exception occurred:\n",
      "\n",
      "Traceback (most recent call last):\n",
      "  File \"/home/zhangi/miniconda3/envs/long-range/lib/python3.9/site-packages/IPython/core/interactiveshell.py\", line 2061, in showtraceback\n",
      "    stb = value._render_traceback_()\n",
      "AttributeError: 'KeyboardInterrupt' object has no attribute '_render_traceback_'\n",
      "\n",
      "During handling of the above exception, another exception occurred:\n",
      "\n",
      "Traceback (most recent call last):\n",
      "  File \"/home/zhangi/miniconda3/envs/long-range/lib/python3.9/site-packages/IPython/core/ultratb.py\", line 1101, in get_records\n",
      "    return _fixed_getinnerframes(etb, number_of_lines_of_context, tb_offset)\n",
      "  File \"/home/zhangi/miniconda3/envs/long-range/lib/python3.9/site-packages/IPython/core/ultratb.py\", line 248, in wrapped\n",
      "    return f(*args, **kwargs)\n",
      "  File \"/home/zhangi/miniconda3/envs/long-range/lib/python3.9/site-packages/IPython/core/ultratb.py\", line 281, in _fixed_getinnerframes\n",
      "    records = fix_frame_records_filenames(inspect.getinnerframes(etb, context))\n",
      "  File \"/home/zhangi/miniconda3/envs/long-range/lib/python3.9/inspect.py\", line 1541, in getinnerframes\n",
      "    frameinfo = (tb.tb_frame,) + getframeinfo(tb, context)\n",
      "  File \"/home/zhangi/miniconda3/envs/long-range/lib/python3.9/inspect.py\", line 1499, in getframeinfo\n",
      "    filename = getsourcefile(frame) or getfile(frame)\n",
      "  File \"/home/zhangi/miniconda3/envs/long-range/lib/python3.9/inspect.py\", line 709, in getsourcefile\n",
      "    if getattr(getmodule(object, filename), '__loader__', None) is not None:\n",
      "  File \"/home/zhangi/miniconda3/envs/long-range/lib/python3.9/inspect.py\", line 752, in getmodule\n",
      "    f = getabsfile(module)\n",
      "  File \"/home/zhangi/miniconda3/envs/long-range/lib/python3.9/inspect.py\", line 721, in getabsfile\n",
      "    _filename = getsourcefile(object) or getfile(object)\n",
      "  File \"/home/zhangi/miniconda3/envs/long-range/lib/python3.9/inspect.py\", line 706, in getsourcefile\n",
      "    if os.path.exists(filename):\n",
      "  File \"/home/zhangi/miniconda3/envs/long-range/lib/python3.9/genericpath.py\", line 19, in exists\n",
      "    os.stat(path)\n",
      "KeyboardInterrupt\n"
     ]
    },
    {
     "ename": "TypeError",
     "evalue": "object of type 'NoneType' has no len()",
     "output_type": "error",
     "traceback": [
      "\u001b[0;31m---------------------------------------------------------------------------\u001b[0m",
      "\u001b[0;31mKeyboardInterrupt\u001b[0m                         Traceback (most recent call last)",
      "    \u001b[0;31m[... skipping hidden 1 frame]\u001b[0m\n",
      "\u001b[0;32m/scratch/lsftmp/3123035.tmpdir/ipykernel_37212/3980925175.py\u001b[0m in \u001b[0;36m<module>\u001b[0;34m\u001b[0m\n\u001b[1;32m      2\u001b[0m \u001b[0;32mimport\u001b[0m \u001b[0mtime\u001b[0m\u001b[0;34m\u001b[0m\u001b[0;34m\u001b[0m\u001b[0m\n\u001b[0;32m----> 3\u001b[0;31m \u001b[0;32mfrom\u001b[0m \u001b[0mopenmmtools\u001b[0m\u001b[0;34m.\u001b[0m\u001b[0mintegrators\u001b[0m \u001b[0;32mimport\u001b[0m \u001b[0mPeriodicNonequilibriumIntegrator\u001b[0m\u001b[0;34m\u001b[0m\u001b[0;34m\u001b[0m\u001b[0m\n\u001b[0m",
      "\u001b[0;32m~/miniconda3/envs/long-range/lib/python3.9/site-packages/openmmtools/__init__.py\u001b[0m in \u001b[0;36m<module>\u001b[0;34m\u001b[0m\n\u001b[1;32m      7\u001b[0m \u001b[0;34m\u001b[0m\u001b[0m\n\u001b[0;32m----> 8\u001b[0;31m \u001b[0;32mfrom\u001b[0m \u001b[0mopenmmtools\u001b[0m \u001b[0;32mimport\u001b[0m \u001b[0mtestsystems\u001b[0m\u001b[0;34m,\u001b[0m \u001b[0mintegrators\u001b[0m\u001b[0;34m,\u001b[0m \u001b[0malchemy\u001b[0m\u001b[0;34m,\u001b[0m \u001b[0mmcmc\u001b[0m\u001b[0;34m,\u001b[0m \u001b[0mstates\u001b[0m\u001b[0;34m,\u001b[0m \u001b[0mcache\u001b[0m\u001b[0;34m,\u001b[0m \u001b[0mutils\u001b[0m\u001b[0;34m,\u001b[0m \u001b[0mconstants\u001b[0m\u001b[0;34m,\u001b[0m \u001b[0mforces\u001b[0m\u001b[0;34m,\u001b[0m \u001b[0mforcefactories\u001b[0m\u001b[0;34m,\u001b[0m \u001b[0mstorage\u001b[0m\u001b[0;34m,\u001b[0m \u001b[0mmultistate\u001b[0m\u001b[0;34m\u001b[0m\u001b[0;34m\u001b[0m\u001b[0m\n\u001b[0m\u001b[1;32m      9\u001b[0m \u001b[0;34m\u001b[0m\u001b[0m\n",
      "\u001b[0;32m~/miniconda3/envs/long-range/lib/python3.9/site-packages/openmmtools/testsystems.py\u001b[0m in \u001b[0;36m<module>\u001b[0;34m\u001b[0m\n\u001b[1;32m     53\u001b[0m \u001b[0;32mimport\u001b[0m \u001b[0mscipy\u001b[0m\u001b[0;34m.\u001b[0m\u001b[0mspecial\u001b[0m\u001b[0;34m\u001b[0m\u001b[0;34m\u001b[0m\u001b[0m\n\u001b[0;32m---> 54\u001b[0;31m \u001b[0;32mimport\u001b[0m \u001b[0mscipy\u001b[0m\u001b[0;34m.\u001b[0m\u001b[0mintegrate\u001b[0m\u001b[0;34m\u001b[0m\u001b[0;34m\u001b[0m\u001b[0m\n\u001b[0m\u001b[1;32m     55\u001b[0m \u001b[0;34m\u001b[0m\u001b[0m\n",
      "\u001b[0;32m~/miniconda3/envs/long-range/lib/python3.9/site-packages/scipy/integrate/__init__.py\u001b[0m in \u001b[0;36m<module>\u001b[0;34m\u001b[0m\n\u001b[1;32m     93\u001b[0m \u001b[0;32mfrom\u001b[0m \u001b[0;34m.\u001b[0m\u001b[0m_ode\u001b[0m \u001b[0;32mimport\u001b[0m \u001b[0;34m*\u001b[0m\u001b[0;34m\u001b[0m\u001b[0;34m\u001b[0m\u001b[0m\n\u001b[0;32m---> 94\u001b[0;31m \u001b[0;32mfrom\u001b[0m \u001b[0;34m.\u001b[0m\u001b[0m_bvp\u001b[0m \u001b[0;32mimport\u001b[0m \u001b[0msolve_bvp\u001b[0m\u001b[0;34m\u001b[0m\u001b[0;34m\u001b[0m\u001b[0m\n\u001b[0m\u001b[1;32m     95\u001b[0m from ._ivp import (solve_ivp, OdeSolution, DenseOutput,\n",
      "\u001b[0;32m~/miniconda3/envs/long-range/lib/python3.9/site-packages/scipy/integrate/_bvp.py\u001b[0m in \u001b[0;36m<module>\u001b[0;34m\u001b[0m\n\u001b[1;32m      8\u001b[0m \u001b[0;32mfrom\u001b[0m \u001b[0mscipy\u001b[0m\u001b[0;34m.\u001b[0m\u001b[0msparse\u001b[0m\u001b[0;34m.\u001b[0m\u001b[0mlinalg\u001b[0m \u001b[0;32mimport\u001b[0m \u001b[0msplu\u001b[0m\u001b[0;34m\u001b[0m\u001b[0;34m\u001b[0m\u001b[0m\n\u001b[0;32m----> 9\u001b[0;31m \u001b[0;32mfrom\u001b[0m \u001b[0mscipy\u001b[0m\u001b[0;34m.\u001b[0m\u001b[0moptimize\u001b[0m \u001b[0;32mimport\u001b[0m \u001b[0mOptimizeResult\u001b[0m\u001b[0;34m\u001b[0m\u001b[0;34m\u001b[0m\u001b[0m\n\u001b[0m\u001b[1;32m     10\u001b[0m \u001b[0;34m\u001b[0m\u001b[0m\n",
      "\u001b[0;32m~/miniconda3/envs/long-range/lib/python3.9/site-packages/scipy/optimize/__init__.py\u001b[0m in \u001b[0;36m<module>\u001b[0;34m\u001b[0m\n\u001b[1;32m    400\u001b[0m \u001b[0;32mfrom\u001b[0m \u001b[0;34m.\u001b[0m\u001b[0moptimize\u001b[0m \u001b[0;32mimport\u001b[0m \u001b[0;34m*\u001b[0m\u001b[0;34m\u001b[0m\u001b[0;34m\u001b[0m\u001b[0m\n\u001b[0;32m--> 401\u001b[0;31m \u001b[0;32mfrom\u001b[0m \u001b[0;34m.\u001b[0m\u001b[0m_minimize\u001b[0m \u001b[0;32mimport\u001b[0m \u001b[0;34m*\u001b[0m\u001b[0;34m\u001b[0m\u001b[0;34m\u001b[0m\u001b[0m\n\u001b[0m\u001b[1;32m    402\u001b[0m \u001b[0;32mfrom\u001b[0m \u001b[0;34m.\u001b[0m\u001b[0m_root\u001b[0m \u001b[0;32mimport\u001b[0m \u001b[0;34m*\u001b[0m\u001b[0;34m\u001b[0m\u001b[0;34m\u001b[0m\u001b[0m\n",
      "\u001b[0;32m~/miniconda3/envs/long-range/lib/python3.9/site-packages/scipy/optimize/_minimize.py\u001b[0m in \u001b[0;36m<module>\u001b[0;34m\u001b[0m\n\u001b[1;32m     25\u001b[0m \u001b[0;32mfrom\u001b[0m \u001b[0;34m.\u001b[0m\u001b[0m_trustregion_krylov\u001b[0m \u001b[0;32mimport\u001b[0m \u001b[0m_minimize_trust_krylov\u001b[0m\u001b[0;34m\u001b[0m\u001b[0;34m\u001b[0m\u001b[0m\n\u001b[0;32m---> 26\u001b[0;31m \u001b[0;32mfrom\u001b[0m \u001b[0;34m.\u001b[0m\u001b[0m_trustregion_exact\u001b[0m \u001b[0;32mimport\u001b[0m \u001b[0m_minimize_trustregion_exact\u001b[0m\u001b[0;34m\u001b[0m\u001b[0;34m\u001b[0m\u001b[0m\n\u001b[0m\u001b[1;32m     27\u001b[0m \u001b[0;32mfrom\u001b[0m \u001b[0;34m.\u001b[0m\u001b[0m_trustregion_constr\u001b[0m \u001b[0;32mimport\u001b[0m \u001b[0m_minimize_trustregion_constr\u001b[0m\u001b[0;34m\u001b[0m\u001b[0;34m\u001b[0m\u001b[0m\n",
      "\u001b[0;32m~/miniconda3/envs/long-range/lib/python3.9/importlib/_bootstrap.py\u001b[0m in \u001b[0;36m_find_and_load\u001b[0;34m(name, import_)\u001b[0m\n",
      "\u001b[0;32m~/miniconda3/envs/long-range/lib/python3.9/importlib/_bootstrap.py\u001b[0m in \u001b[0;36m_find_and_load_unlocked\u001b[0;34m(name, import_)\u001b[0m\n",
      "\u001b[0;32m~/miniconda3/envs/long-range/lib/python3.9/importlib/_bootstrap.py\u001b[0m in \u001b[0;36m_load_unlocked\u001b[0;34m(spec)\u001b[0m\n",
      "\u001b[0;32m~/miniconda3/envs/long-range/lib/python3.9/importlib/_bootstrap_external.py\u001b[0m in \u001b[0;36mexec_module\u001b[0;34m(self, module)\u001b[0m\n",
      "\u001b[0;32m~/miniconda3/envs/long-range/lib/python3.9/importlib/_bootstrap_external.py\u001b[0m in \u001b[0;36mget_code\u001b[0;34m(self, fullname)\u001b[0m\n",
      "\u001b[0;32m~/miniconda3/envs/long-range/lib/python3.9/importlib/_bootstrap_external.py\u001b[0m in \u001b[0;36mget_data\u001b[0;34m(self, path)\u001b[0m\n",
      "\u001b[0;31mKeyboardInterrupt\u001b[0m: ",
      "\nDuring handling of the above exception, another exception occurred:\n",
      "\u001b[0;31mAttributeError\u001b[0m                            Traceback (most recent call last)",
      "\u001b[0;32m~/miniconda3/envs/long-range/lib/python3.9/site-packages/IPython/core/interactiveshell.py\u001b[0m in \u001b[0;36mshowtraceback\u001b[0;34m(self, exc_tuple, filename, tb_offset, exception_only, running_compiled_code)\u001b[0m\n\u001b[1;32m   2060\u001b[0m                         \u001b[0;31m# in the engines. This should return a list of strings.\u001b[0m\u001b[0;34m\u001b[0m\u001b[0;34m\u001b[0m\u001b[0m\n\u001b[0;32m-> 2061\u001b[0;31m                         \u001b[0mstb\u001b[0m \u001b[0;34m=\u001b[0m \u001b[0mvalue\u001b[0m\u001b[0;34m.\u001b[0m\u001b[0m_render_traceback_\u001b[0m\u001b[0;34m(\u001b[0m\u001b[0;34m)\u001b[0m\u001b[0;34m\u001b[0m\u001b[0;34m\u001b[0m\u001b[0m\n\u001b[0m\u001b[1;32m   2062\u001b[0m                     \u001b[0;32mexcept\u001b[0m \u001b[0mException\u001b[0m\u001b[0;34m:\u001b[0m\u001b[0;34m\u001b[0m\u001b[0;34m\u001b[0m\u001b[0m\n",
      "\u001b[0;31mAttributeError\u001b[0m: 'KeyboardInterrupt' object has no attribute '_render_traceback_'",
      "\nDuring handling of the above exception, another exception occurred:\n",
      "\u001b[0;31mTypeError\u001b[0m                                 Traceback (most recent call last)",
      "    \u001b[0;31m[... skipping hidden 1 frame]\u001b[0m\n",
      "\u001b[0;32m~/miniconda3/envs/long-range/lib/python3.9/site-packages/IPython/core/interactiveshell.py\u001b[0m in \u001b[0;36mshowtraceback\u001b[0;34m(self, exc_tuple, filename, tb_offset, exception_only, running_compiled_code)\u001b[0m\n\u001b[1;32m   2061\u001b[0m                         \u001b[0mstb\u001b[0m \u001b[0;34m=\u001b[0m \u001b[0mvalue\u001b[0m\u001b[0;34m.\u001b[0m\u001b[0m_render_traceback_\u001b[0m\u001b[0;34m(\u001b[0m\u001b[0;34m)\u001b[0m\u001b[0;34m\u001b[0m\u001b[0;34m\u001b[0m\u001b[0m\n\u001b[1;32m   2062\u001b[0m                     \u001b[0;32mexcept\u001b[0m \u001b[0mException\u001b[0m\u001b[0;34m:\u001b[0m\u001b[0;34m\u001b[0m\u001b[0;34m\u001b[0m\u001b[0m\n\u001b[0;32m-> 2063\u001b[0;31m                         stb = self.InteractiveTB.structured_traceback(etype,\n\u001b[0m\u001b[1;32m   2064\u001b[0m                                             value, tb, tb_offset=tb_offset)\n\u001b[1;32m   2065\u001b[0m \u001b[0;34m\u001b[0m\u001b[0m\n",
      "\u001b[0;32m~/miniconda3/envs/long-range/lib/python3.9/site-packages/IPython/core/ultratb.py\u001b[0m in \u001b[0;36mstructured_traceback\u001b[0;34m(self, etype, value, tb, tb_offset, number_of_lines_of_context)\u001b[0m\n\u001b[1;32m   1365\u001b[0m         \u001b[0;32melse\u001b[0m\u001b[0;34m:\u001b[0m\u001b[0;34m\u001b[0m\u001b[0;34m\u001b[0m\u001b[0m\n\u001b[1;32m   1366\u001b[0m             \u001b[0mself\u001b[0m\u001b[0;34m.\u001b[0m\u001b[0mtb\u001b[0m \u001b[0;34m=\u001b[0m \u001b[0mtb\u001b[0m\u001b[0;34m\u001b[0m\u001b[0;34m\u001b[0m\u001b[0m\n\u001b[0;32m-> 1367\u001b[0;31m         return FormattedTB.structured_traceback(\n\u001b[0m\u001b[1;32m   1368\u001b[0m             self, etype, value, tb, tb_offset, number_of_lines_of_context)\n\u001b[1;32m   1369\u001b[0m \u001b[0;34m\u001b[0m\u001b[0m\n",
      "\u001b[0;32m~/miniconda3/envs/long-range/lib/python3.9/site-packages/IPython/core/ultratb.py\u001b[0m in \u001b[0;36mstructured_traceback\u001b[0;34m(self, etype, value, tb, tb_offset, number_of_lines_of_context)\u001b[0m\n\u001b[1;32m   1265\u001b[0m         \u001b[0;32mif\u001b[0m \u001b[0mmode\u001b[0m \u001b[0;32min\u001b[0m \u001b[0mself\u001b[0m\u001b[0;34m.\u001b[0m\u001b[0mverbose_modes\u001b[0m\u001b[0;34m:\u001b[0m\u001b[0;34m\u001b[0m\u001b[0;34m\u001b[0m\u001b[0m\n\u001b[1;32m   1266\u001b[0m             \u001b[0;31m# Verbose modes need a full traceback\u001b[0m\u001b[0;34m\u001b[0m\u001b[0;34m\u001b[0m\u001b[0m\n\u001b[0;32m-> 1267\u001b[0;31m             return VerboseTB.structured_traceback(\n\u001b[0m\u001b[1;32m   1268\u001b[0m                 \u001b[0mself\u001b[0m\u001b[0;34m,\u001b[0m \u001b[0metype\u001b[0m\u001b[0;34m,\u001b[0m \u001b[0mvalue\u001b[0m\u001b[0;34m,\u001b[0m \u001b[0mtb\u001b[0m\u001b[0;34m,\u001b[0m \u001b[0mtb_offset\u001b[0m\u001b[0;34m,\u001b[0m \u001b[0mnumber_of_lines_of_context\u001b[0m\u001b[0;34m\u001b[0m\u001b[0;34m\u001b[0m\u001b[0m\n\u001b[1;32m   1269\u001b[0m             )\n",
      "\u001b[0;32m~/miniconda3/envs/long-range/lib/python3.9/site-packages/IPython/core/ultratb.py\u001b[0m in \u001b[0;36mstructured_traceback\u001b[0;34m(self, etype, evalue, etb, tb_offset, number_of_lines_of_context)\u001b[0m\n\u001b[1;32m   1122\u001b[0m         \u001b[0;34m\"\"\"Return a nice text document describing the traceback.\"\"\"\u001b[0m\u001b[0;34m\u001b[0m\u001b[0;34m\u001b[0m\u001b[0m\n\u001b[1;32m   1123\u001b[0m \u001b[0;34m\u001b[0m\u001b[0m\n\u001b[0;32m-> 1124\u001b[0;31m         formatted_exception = self.format_exception_as_a_whole(etype, evalue, etb, number_of_lines_of_context,\n\u001b[0m\u001b[1;32m   1125\u001b[0m                                                                tb_offset)\n\u001b[1;32m   1126\u001b[0m \u001b[0;34m\u001b[0m\u001b[0m\n",
      "\u001b[0;32m~/miniconda3/envs/long-range/lib/python3.9/site-packages/IPython/core/ultratb.py\u001b[0m in \u001b[0;36mformat_exception_as_a_whole\u001b[0;34m(self, etype, evalue, etb, number_of_lines_of_context, tb_offset)\u001b[0m\n\u001b[1;32m   1080\u001b[0m \u001b[0;34m\u001b[0m\u001b[0m\n\u001b[1;32m   1081\u001b[0m \u001b[0;34m\u001b[0m\u001b[0m\n\u001b[0;32m-> 1082\u001b[0;31m         \u001b[0mlast_unique\u001b[0m\u001b[0;34m,\u001b[0m \u001b[0mrecursion_repeat\u001b[0m \u001b[0;34m=\u001b[0m \u001b[0mfind_recursion\u001b[0m\u001b[0;34m(\u001b[0m\u001b[0morig_etype\u001b[0m\u001b[0;34m,\u001b[0m \u001b[0mevalue\u001b[0m\u001b[0;34m,\u001b[0m \u001b[0mrecords\u001b[0m\u001b[0;34m)\u001b[0m\u001b[0;34m\u001b[0m\u001b[0;34m\u001b[0m\u001b[0m\n\u001b[0m\u001b[1;32m   1083\u001b[0m \u001b[0;34m\u001b[0m\u001b[0m\n\u001b[1;32m   1084\u001b[0m         \u001b[0mframes\u001b[0m \u001b[0;34m=\u001b[0m \u001b[0mself\u001b[0m\u001b[0;34m.\u001b[0m\u001b[0mformat_records\u001b[0m\u001b[0;34m(\u001b[0m\u001b[0mrecords\u001b[0m\u001b[0;34m,\u001b[0m \u001b[0mlast_unique\u001b[0m\u001b[0;34m,\u001b[0m \u001b[0mrecursion_repeat\u001b[0m\u001b[0;34m)\u001b[0m\u001b[0;34m\u001b[0m\u001b[0;34m\u001b[0m\u001b[0m\n",
      "\u001b[0;32m~/miniconda3/envs/long-range/lib/python3.9/site-packages/IPython/core/ultratb.py\u001b[0m in \u001b[0;36mfind_recursion\u001b[0;34m(etype, value, records)\u001b[0m\n\u001b[1;32m    380\u001b[0m     \u001b[0;31m# first frame (from in to out) that looks different.\u001b[0m\u001b[0;34m\u001b[0m\u001b[0;34m\u001b[0m\u001b[0m\n\u001b[1;32m    381\u001b[0m     \u001b[0;32mif\u001b[0m \u001b[0;32mnot\u001b[0m \u001b[0mis_recursion_error\u001b[0m\u001b[0;34m(\u001b[0m\u001b[0metype\u001b[0m\u001b[0;34m,\u001b[0m \u001b[0mvalue\u001b[0m\u001b[0;34m,\u001b[0m \u001b[0mrecords\u001b[0m\u001b[0;34m)\u001b[0m\u001b[0;34m:\u001b[0m\u001b[0;34m\u001b[0m\u001b[0;34m\u001b[0m\u001b[0m\n\u001b[0;32m--> 382\u001b[0;31m         \u001b[0;32mreturn\u001b[0m \u001b[0mlen\u001b[0m\u001b[0;34m(\u001b[0m\u001b[0mrecords\u001b[0m\u001b[0;34m)\u001b[0m\u001b[0;34m,\u001b[0m \u001b[0;36m0\u001b[0m\u001b[0;34m\u001b[0m\u001b[0;34m\u001b[0m\u001b[0m\n\u001b[0m\u001b[1;32m    383\u001b[0m \u001b[0;34m\u001b[0m\u001b[0m\n\u001b[1;32m    384\u001b[0m     \u001b[0;31m# Select filename, lineno, func_name to track frames with\u001b[0m\u001b[0;34m\u001b[0m\u001b[0;34m\u001b[0m\u001b[0m\n",
      "\u001b[0;31mTypeError\u001b[0m: object of type 'NoneType' has no len()"
     ]
    }
   ],
   "source": [
    "from openmm import *\n",
    "import time\n",
    "from openmmtools.integrators import PeriodicNonequilibriumIntegrator"
   ]
  },
  {
   "cell_type": "code",
   "execution_count": null,
   "id": "10f6ea4b",
   "metadata": {},
   "outputs": [],
   "source": [
    "import openmm"
   ]
  },
  {
   "cell_type": "code",
   "execution_count": null,
   "id": "fc5aa106",
   "metadata": {},
   "outputs": [],
   "source": [
    "openmm.version.git_revision"
   ]
  },
  {
   "cell_type": "code",
   "execution_count": 4,
   "id": "26146997",
   "metadata": {},
   "outputs": [],
   "source": [
    "with open('rbd_ace2_hybrid_system.xml') as input:\n",
    "    system = XmlSerializer.deserialize(input.read())\n",
    "# with open('rbd_ace2_state.xml') as input:\n",
    "#     state = XmlSerializer.deserialize(input.read())\n",
    "with open('rbd_ace2_state_minimized2.xml') as input:\n",
    "    state = XmlSerializer.deserialize(input.read())"
   ]
  },
  {
   "cell_type": "code",
   "execution_count": 5,
   "id": "eb2e28d3",
   "metadata": {},
   "outputs": [],
   "source": [
    "# Define lambda functions\n",
    "x = 'lambda'\n",
    "DEFAULT_ALCHEMICAL_FUNCTIONS = {\n",
    "                              'lambda_sterics_core': x,\n",
    "                              'lambda_electrostatics_core': x,\n",
    "                              'lambda_sterics_insert': f\"select(step({x} - 0.5), 1.0, 2.0 * {x})\",\n",
    "                              'lambda_sterics_delete': f\"select(step({x} - 0.5), 2.0 * ({x} - 0.5), 0.0)\",\n",
    "                              'lambda_electrostatics_insert': f\"select(step({x} - 0.5), 2.0 * ({x} - 0.5), 0.0)\",\n",
    "                              'lambda_electrostatics_delete': f\"select(step({x} - 0.5), 1.0, 2.0 * {x})\",\n",
    "                              'lambda_bonds': x,\n",
    "                              'lambda_angles': x,\n",
    "                              'lambda_torsions': x}\n",
    "\n",
    "# Define simulation parameters\n",
    "nsteps_eq = 10\n",
    "nsteps_neq = 100\n",
    "neq_splitting='V R H O R V'\n",
    "timestep = 4.0 * unit.femtosecond\n",
    "platform_name = 'CUDA'\n",
    "temperature = 300.0 * unit.kelvin\n",
    "\n",
    "integrator = PeriodicNonequilibriumIntegrator(DEFAULT_ALCHEMICAL_FUNCTIONS, nsteps_eq, nsteps_neq, neq_splitting, timestep=timestep, temperature=temperature)\n",
    "\n",
    "platform = Platform.getPlatformByName('CUDA')\n",
    "context = Context(system, integrator, platform)\n",
    "context.setState(state)\n"
   ]
  },
  {
   "cell_type": "code",
   "execution_count": 6,
   "id": "5d20a78a",
   "metadata": {},
   "outputs": [
    {
     "name": "stdout",
     "output_type": "stream",
     "text": [
      "8.593541860580444\n"
     ]
    }
   ],
   "source": [
    "integrator.step(10) # eq\n",
    "\n",
    "start = time.time()\n",
    "for _ in range(10):\n",
    "    integrator.step(10)\n",
    "    work = integrator.get_protocol_work(dimensionless=True)\n",
    "end = time.time()\n",
    "print(end-start)"
   ]
  },
  {
   "cell_type": "markdown",
   "id": "1a2e266b",
   "metadata": {},
   "source": [
    "# Test ala dipeptide in solvent"
   ]
  },
  {
   "cell_type": "code",
   "execution_count": 4,
   "id": "36b01116",
   "metadata": {},
   "outputs": [],
   "source": [
    "from perses.tests.test_topology_proposal import generate_atp, generate_dipeptide_top_pos_sys\n",
    "from openmm import *\n",
    "import time\n",
    "\n"
   ]
  },
  {
   "cell_type": "code",
   "execution_count": 2,
   "id": "6af85f03",
   "metadata": {
    "scrolled": true
   },
   "outputs": [
    {
     "name": "stderr",
     "output_type": "stream",
     "text": [
      "DEBUG:openmmforcefields.system_generators:Trying GAFFTemplateGenerator to load gaff-2.11\n",
      "INFO:proposal_generator:\tConducting polymer point mutation proposal...\n",
      "WARNING:atom_mapping:Molecules do not appear to share a common scaffold.\n",
      "WARNING:atom_mapping:Proceeding with direct mapping of molecules, but please check atom mapping and the geometry of the ligands.\n",
      "INFO:proposal_generator:[Atom(name=CB, atomic number=6), Atom(name=HB1, atomic number=1), Atom(name=HB2, atomic number=1), Atom(name=HB3, atomic number=1)]\n",
      "INFO:proposal_generator:[Atom(name=CB, atomic number=6), Atom(name=CG2, atomic number=6), Atom(name=OG1, atomic number=8), Atom(name=HB, atomic number=1), Atom(name=HG1, atomic number=1), Atom(name=HG21, atomic number=1), Atom(name=HG22, atomic number=1), Atom(name=HG23, atomic number=1)]\n"
     ]
    },
    {
     "name": "stdout",
     "output_type": "stream",
     "text": [
      "making topology proposal\n"
     ]
    },
    {
     "name": "stderr",
     "output_type": "stream",
     "text": [
      "INFO:geometry:propose: performing forward proposal\n",
      "INFO:geometry:propose: unique new atoms detected; proceeding to _logp_propose...\n",
      "INFO:geometry:Conducting forward proposal...\n",
      "INFO:geometry:Computing proposal order with NetworkX...\n",
      "INFO:geometry:number of atoms to be placed: 8\n",
      "INFO:geometry:Atom index proposal order is [10, 18, 14, 13, 15, 17, 16, 19]\n",
      "INFO:geometry:omitted_bonds: []\n",
      "INFO:geometry:direction of proposal is forward; creating atoms_with_positions and new positions from old system/topology...\n"
     ]
    },
    {
     "name": "stdout",
     "output_type": "stream",
     "text": [
      "generating geometry engine\n",
      "making geometry proposal from ALA to THR\n"
     ]
    },
    {
     "name": "stderr",
     "output_type": "stream",
     "text": [
      "INFO:geometry:creating growth system...\n",
      "INFO:geometry:\tcreating bond force...\n",
      "INFO:geometry:\tthere are 11 bonds in reference force.\n",
      "INFO:geometry:\tcreating angle force...\n",
      "INFO:geometry:\tthere are 43 angles in reference force.\n",
      "INFO:geometry:\tcreating torsion force...\n",
      "INFO:geometry:\tcreating extra torsions force...\n",
      "INFO:geometry:\tthere are 72 torsions in reference force.\n",
      "INFO:geometry:\tcreating nonbonded force...\n",
      "INFO:geometry:\t\tgrabbing reference nonbonded method, cutoff, switching function, switching distance...\n",
      "INFO:geometry:\t\tcreating nonbonded exception force (i.e. custom bond for 1,4s)...\n",
      "INFO:geometry:\t\tlooping through exceptions calculating growth indices, and adding appropriate interactions to custom bond force.\n",
      "INFO:geometry:\t\tthere are 1645 in the reference Nonbonded force\n",
      "WARNING:geometry:\t\t\t\t\tchiral atom <Atom 8 (CA) of chain 0 residue 1 (THR)> with neighbors [<Atom 9 (HA) of chain 0 residue 1 (THR)>, <Atom 10 (CB) of chain 0 residue 1 (THR)>, <Atom 11 (C) of chain 0 residue 1 (THR)>, <Atom 6 (N) of chain 0 residue 1 (THR)>] is surrounded by 3 core neighbors.  omitting chirality bias torsion\n",
      "INFO:geometry:Neglected angle terms : []\n",
      "INFO:geometry:omitted_growth_terms: {'bonds': [], 'angles': [], 'torsions': [], '1,4s': []}\n",
      "INFO:geometry:extra torsions: {0: (7, 6, 8, 10, [1, Quantity(value=0.9900002084555819, unit=radian), Quantity(value=1200.0, unit=kilocalorie/mole), 1]), 1: (19, 18, 10, 8, [1, Quantity(value=-0.07858019216845058, unit=radian), Quantity(value=1200.0, unit=kilocalorie/mole), 8]), 2: (19, 18, 10, 14, [1, Quantity(value=2.118586571250296, unit=radian), Quantity(value=1200.0, unit=kilocalorie/mole), 8]), 3: (19, 18, 10, 13, [1, Quantity(value=-2.149781203448759, unit=radian), Quantity(value=1200.0, unit=kilocalorie/mole), 8]), 4: (8, 10, 14, 17, [1, Quantity(value=-2.1249532223845904, unit=radian), Quantity(value=1200.0, unit=kilocalorie/mole), 6]), 5: (8, 10, 14, 16, [1, Quantity(value=2.0543043017157916, unit=radian), Quantity(value=1200.0, unit=kilocalorie/mole), 7]), 6: (8, 10, 14, 15, [1, Quantity(value=-0.02223392579985184, unit=radian), Quantity(value=1200.0, unit=kilocalorie/mole), 5]), 7: (18, 10, 14, 17, [1, Quantity(value=2.0255587336734213, unit=radian), Quantity(value=1200.0, unit=kilocalorie/mole), 6]), 8: (18, 10, 14, 16, [1, Quantity(value=-0.07836904940578293, unit=radian), Quantity(value=1200.0, unit=kilocalorie/mole), 7]), 9: (18, 10, 14, 15, [1, Quantity(value=-2.154907276921426, unit=radian), Quantity(value=1200.0, unit=kilocalorie/mole), 5]), 10: (13, 10, 14, 17, [1, Quantity(value=0.007583009583349565, unit=radian), Quantity(value=1200.0, unit=kilocalorie/mole), 6]), 11: (13, 10, 14, 16, [1, Quantity(value=-2.096344773495849, unit=radian), Quantity(value=1200.0, unit=kilocalorie/mole), 7]), 12: (13, 10, 14, 15, [1, Quantity(value=2.1103023061680943, unit=radian), Quantity(value=1200.0, unit=kilocalorie/mole), 5]), 13: (18, 10, 8, 14, [1, Quantity(value=-1.0655064807976995, unit=radian), Quantity(value=1200.0, unit=kilocalorie/mole), 3])}\n",
      "INFO:geometry:neglected angle terms include []\n",
      "INFO:geometry:log probability choice of torsions and atom order: -13.553917196274867\n",
      "INFO:geometry:creating platform, integrators, and contexts; setting growth parameter\n"
     ]
    },
    {
     "name": "stdout",
     "output_type": "stream",
     "text": [
      "conducting subsequent work with the following platform: CUDA\n",
      "conducting subsequent work with the following platform: CUDA\n"
     ]
    },
    {
     "name": "stderr",
     "output_type": "stream",
     "text": [
      "INFO:geometry:setting atoms_with_positions context new positions\n"
     ]
    },
    {
     "name": "stdout",
     "output_type": "stream",
     "text": [
      "conducting subsequent work with the following platform: CUDA\n"
     ]
    },
    {
     "name": "stderr",
     "output_type": "stream",
     "text": [
      "INFO:geometry:There are 8 new atoms\n",
      "INFO:geometry:\treduced angle potential = 0.0012344214764567223.\n",
      "INFO:geometry:\treduced angle potential = 0.01678356151754018.\n",
      "INFO:geometry:\treduced angle potential = 0.1436395830562064.\n",
      "INFO:geometry:\treduced angle potential = 0.7110364605025435.\n",
      "INFO:geometry:\treduced angle potential = 0.00011076566312425744.\n",
      "INFO:geometry:\treduced angle potential = 0.024008446037883255.\n",
      "INFO:geometry:\treduced angle potential = 0.004947157634749948.\n",
      "INFO:geometry:\treduced angle potential = 3.2817589340046767.\n",
      "INFO:geometry:\tbeginning construction of no_nonbonded final system...\n",
      "INFO:geometry:\tinitial no-nonbonded final system forces ['HarmonicBondForce', 'HarmonicAngleForce', 'PeriodicTorsionForce', 'NonbondedForce', 'MonteCarloBarostat']\n",
      "INFO:geometry:\tfinal no-nonbonded final system forces dict_keys(['HarmonicBondForce', 'HarmonicAngleForce', 'PeriodicTorsionForce', 'NonbondedForce'])\n",
      "INFO:geometry:\tthere are 11 bond forces in the no-nonbonded final system\n",
      "INFO:geometry:\tthere are 43 angle forces in the no-nonbonded final system\n",
      "INFO:geometry:\tthere are 72 torsion forces in the no-nonbonded final system\n",
      "INFO:geometry:forward final system defined with 0 neglected angles.\n"
     ]
    },
    {
     "name": "stdout",
     "output_type": "stream",
     "text": [
      "conducting subsequent work with the following platform: CUDA\n",
      "conducting subsequent work with the following platform: CUDA\n"
     ]
    },
    {
     "name": "stderr",
     "output_type": "stream",
     "text": [
      "INFO:geometry:total reduced potential before atom placement: 9.116481141712038\n"
     ]
    },
    {
     "name": "stdout",
     "output_type": "stream",
     "text": [
      "conducting subsequent work with the following platform: CUDA\n",
      "conducting subsequent work with the following platform: CUDA\n",
      "conducting subsequent work with the following platform: CUDA\n"
     ]
    },
    {
     "name": "stderr",
     "output_type": "stream",
     "text": [
      "INFO:geometry:total reduced energy added from growth system: -55.783476727155886\n",
      "INFO:geometry:final reduced energy -46.6669980537477\n",
      "INFO:geometry:sum of energies: -46.66699558544385\n",
      "INFO:geometry:magnitude of difference in the energies: 2.4683038475359353e-06\n",
      "INFO:geometry:Final logp_proposal: 62.80137112827338\n"
     ]
    },
    {
     "name": "stdout",
     "output_type": "stream",
     "text": [
      "added energy components: [('CustomBondForce', 0.2645053021380285), ('CustomAngleForce', 6.239694000535444), ('CustomTorsionForce', 18.735894348028996), ('CustomBondForce', -81.02357037785838)]\n"
     ]
    },
    {
     "name": "stderr",
     "output_type": "stream",
     "text": [
      "INFO:geometry:logp_reverse: performing reverse proposal\n",
      "INFO:geometry:logp_reverse: unique new atoms detected; proceeding to _logp_propose...\n",
      "INFO:geometry:Conducting forward proposal...\n",
      "INFO:geometry:Computing proposal order with NetworkX...\n",
      "INFO:geometry:number of atoms to be placed: 4\n",
      "INFO:geometry:Atom index proposal order is [10, 12, 13, 11]\n",
      "INFO:geometry:omitted_bonds: []\n",
      "INFO:geometry:direction of proposal is reverse; creating atoms_with_positions from old system/topology\n",
      "INFO:geometry:creating growth system...\n",
      "INFO:geometry:\tcreating bond force...\n",
      "INFO:geometry:\tthere are 9 bonds in reference force.\n",
      "INFO:geometry:\tcreating angle force...\n",
      "INFO:geometry:\tthere are 36 angles in reference force.\n",
      "INFO:geometry:\tcreating torsion force...\n",
      "INFO:geometry:\tcreating extra torsions force...\n",
      "INFO:geometry:\tthere are 42 torsions in reference force.\n",
      "INFO:geometry:\tcreating nonbonded force...\n",
      "INFO:geometry:\t\tgrabbing reference nonbonded method, cutoff, switching function, switching distance...\n",
      "INFO:geometry:\t\tcreating nonbonded exception force (i.e. custom bond for 1,4s)...\n",
      "INFO:geometry:\t\tlooping through exceptions calculating growth indices, and adding appropriate interactions to custom bond force.\n",
      "INFO:geometry:\t\tthere are 1622 in the reference Nonbonded force\n",
      "WARNING:geometry:\t\t\t\t\tchiral atom <Atom 8 (CA) of chain 0 residue 1 (ALA)> with neighbors [<Atom 9 (HA) of chain 0 residue 1 (ALA)>, <Atom 10 (CB) of chain 0 residue 1 (ALA)>, <Atom 14 (C) of chain 0 residue 1 (ALA)>, <Atom 6 (N) of chain 0 residue 1 (ALA)>] is surrounded by 3 core neighbors.  omitting chirality bias torsion\n",
      "INFO:geometry:Neglected angle terms : []\n",
      "INFO:geometry:omitted_growth_terms: {'bonds': [], 'angles': [], 'torsions': [], '1,4s': []}\n",
      "INFO:geometry:extra torsions: {0: (7, 6, 8, 10, [1, Quantity(value=0.9799661941737812, unit=radian), Quantity(value=1200.0, unit=kilocalorie/mole), 1]), 1: (6, 8, 10, 11, [1, Quantity(value=2.105358864604291, unit=radian), Quantity(value=1200.0, unit=kilocalorie/mole), 4]), 2: (6, 8, 10, 12, [1, Quantity(value=-2.0823006129211796, unit=radian), Quantity(value=1200.0, unit=kilocalorie/mole), 2]), 3: (6, 8, 10, 13, [1, Quantity(value=0.018582237407944735, unit=radian), Quantity(value=1200.0, unit=kilocalorie/mole), 3]), 4: (14, 8, 10, 11, [1, Quantity(value=-0.036945135932107576, unit=radian), Quantity(value=1200.0, unit=kilocalorie/mole), 4]), 5: (14, 8, 10, 12, [1, Quantity(value=2.0585806937220097, unit=radian), Quantity(value=1200.0, unit=kilocalorie/mole), 2]), 6: (14, 8, 10, 13, [1, Quantity(value=-2.1237217631284597, unit=radian), Quantity(value=1200.0, unit=kilocalorie/mole), 3]), 7: (9, 8, 10, 11, [1, Quantity(value=-2.119603470065817, unit=radian), Quantity(value=1200.0, unit=kilocalorie/mole), 4]), 8: (9, 8, 10, 12, [1, Quantity(value=-0.024077640411697132, unit=radian), Quantity(value=1200.0, unit=kilocalorie/mole), 2]), 9: (9, 8, 10, 13, [1, Quantity(value=2.0768052099174152, unit=radian), Quantity(value=1200.0, unit=kilocalorie/mole), 3])}\n",
      "INFO:geometry:neglected angle terms include []\n",
      "INFO:geometry:log probability choice of torsions and atom order: -5.78074351579233\n",
      "INFO:geometry:creating platform, integrators, and contexts; setting growth parameter\n"
     ]
    },
    {
     "name": "stdout",
     "output_type": "stream",
     "text": [
      "conducting subsequent work with the following platform: CUDA\n"
     ]
    },
    {
     "name": "stderr",
     "output_type": "stream",
     "text": [
      "INFO:geometry:setting atoms_with_positions context old positions\n"
     ]
    },
    {
     "name": "stdout",
     "output_type": "stream",
     "text": [
      "conducting subsequent work with the following platform: CUDA\n"
     ]
    },
    {
     "name": "stderr",
     "output_type": "stream",
     "text": [
      "INFO:geometry:There are 4 new atoms\n",
      "INFO:geometry:\treduced angle potential = 0.08012165173241892.\n",
      "INFO:geometry:\treduced angle potential = 3.205832446488702e-13.\n",
      "INFO:geometry:\treduced angle potential = 7.39096069988752e-11.\n",
      "INFO:geometry:\treduced angle potential = 1.2915588460963948e-10.\n",
      "INFO:geometry:\tbeginning construction of no_nonbonded final system...\n",
      "INFO:geometry:\tinitial no-nonbonded final system forces ['HarmonicBondForce', 'HarmonicAngleForce', 'PeriodicTorsionForce', 'NonbondedForce', 'MonteCarloBarostat']\n",
      "INFO:geometry:\tfinal no-nonbonded final system forces dict_keys(['HarmonicBondForce', 'HarmonicAngleForce', 'PeriodicTorsionForce', 'NonbondedForce'])\n",
      "INFO:geometry:\tthere are 9 bond forces in the no-nonbonded final system\n",
      "INFO:geometry:\tthere are 36 angle forces in the no-nonbonded final system\n",
      "INFO:geometry:\tthere are 42 torsion forces in the no-nonbonded final system\n",
      "INFO:geometry:reverse final system defined with 0 neglected angles.\n"
     ]
    },
    {
     "name": "stdout",
     "output_type": "stream",
     "text": [
      "conducting subsequent work with the following platform: CUDA\n",
      "conducting subsequent work with the following platform: CUDA\n"
     ]
    },
    {
     "name": "stderr",
     "output_type": "stream",
     "text": [
      "INFO:geometry:total reduced potential before atom placement: 9.116481141712038\n"
     ]
    },
    {
     "name": "stdout",
     "output_type": "stream",
     "text": [
      "conducting subsequent work with the following platform: CUDA\n",
      "conducting subsequent work with the following platform: CUDA\n",
      "conducting subsequent work with the following platform: CUDA\n"
     ]
    },
    {
     "name": "stderr",
     "output_type": "stream",
     "text": [
      "INFO:geometry:total reduced energy added from growth system: 20.67298668767817\n",
      "INFO:geometry:final reduced energy 29.78946596595155\n",
      "INFO:geometry:sum of energies: 29.789467829390205\n",
      "INFO:geometry:magnitude of difference in the energies: 1.8634386549365445e-06\n",
      "INFO:geometry:Final logp_proposal: -26804.085411836873\n"
     ]
    },
    {
     "name": "stdout",
     "output_type": "stream",
     "text": [
      "added energy components: [('CustomBondForce', 0.0005202039273265048), ('CustomAngleForce', 0.45111977562481365), ('CustomTorsionForce', 7.2504633440858095), ('CustomBondForce', 12.970883364040219)]\n"
     ]
    },
    {
     "name": "stderr",
     "output_type": "stream",
     "text": [
      "INFO:relative:*** Generating vanilla HybridTopologyFactory ***\n",
      "INFO:relative:Beginning nonbonded method, total particle, barostat, and exceptions retrieval...\n",
      "INFO:relative:Old system forces: dict_keys(['HarmonicBondForce', 'HarmonicAngleForce', 'PeriodicTorsionForce', 'NonbondedForce', 'MonteCarloBarostat'])\n",
      "INFO:relative:New system forces: dict_keys(['HarmonicBondForce', 'HarmonicAngleForce', 'PeriodicTorsionForce', 'NonbondedForce', 'MonteCarloBarostat'])\n",
      "INFO:relative:No unknown forces.\n",
      "INFO:relative:Nonbonded method to be used (i.e. from old system): 4\n",
      "INFO:relative:Adding and mapping old atoms to hybrid system...\n",
      "INFO:relative:Adding and mapping new atoms to hybrid system...\n",
      "INFO:relative:Added MonteCarloBarostat.\n",
      "INFO:relative:getDefaultPeriodicBoxVectors added to hybrid: [Quantity(value=Vec3(x=2.56477354, y=0.0, z=0.0), unit=nanometer), Quantity(value=Vec3(x=0.0, y=2.56477354, z=0.0), unit=nanometer), Quantity(value=Vec3(x=0.0, y=0.0, z=2.56477354), unit=nanometer)]\n",
      "INFO:relative:Determined atom classes.\n",
      "INFO:relative:Generating old system exceptions dict...\n",
      "INFO:relative:Generating new system exceptions dict...\n",
      "INFO:relative:Handling constraints...\n",
      "INFO:relative:Handling virtual sites...\n",
      "INFO:relative:\t_handle_virtual_sites: numVirtualSites: 0\n",
      "INFO:relative:Adding bond force terms...\n",
      "INFO:relative:Adding angle force terms...\n",
      "INFO:relative:Adding torsion force terms...\n",
      "INFO:relative:Adding nonbonded force terms...\n",
      "INFO:relative:\t_add_nonbonded_force_terms: <openmm.openmm.NonbondedForce; proxy of <Swig Object of type 'OpenMM::NonbondedForce *' at 0x2b2d79292c30> > added to hybrid system\n",
      "INFO:relative:\t_add_nonbonded_force_terms: nonbonded_method is PME or Ewald\n",
      "INFO:relative:\t_add_nonbonded_force_terms: 4 added to standard nonbonded force\n",
      "INFO:relative:\t_add_nonbonded_force_terms: 2 added to sterics_custom_nonbonded force\n",
      "INFO:relative:\t_add_nonbonded_force_terms: <openmm.openmm.CustomNonbondedForce; proxy of <Swig Object of type 'OpenMM::CustomNonbondedForce *' at 0x2b2d79295e70> > added to hybrid system\n",
      "INFO:relative:Handling harmonic bonds...\n",
      "INFO:relative:\thandle_harmonic_bonds: looping through old_system to add relevant terms...\n",
      "INFO:relative:\thandle_harmonic_bonds: looping through new_system to add relevant terms...\n",
      "INFO:relative:Handling harmonic angles...\n",
      "INFO:relative:\thandle_harmonic_angles: looping through old_system to add relevant terms...\n",
      "INFO:relative:\thandle_harmonic_angles: looping through new_system to add relevant terms...\n",
      "INFO:relative:Handling torsion forces...\n",
      "INFO:relative:\thandle_periodic_torsion_forces: looping through old_system to add relevant terms...\n",
      "INFO:relative:\thandle_periodic_torsion_forces: looping through new_system to add relevant terms...\n",
      "INFO:relative:Handling nonbonded forces...\n",
      "INFO:relative:\thandle_nonbonded: looping through all particles in hybrid...\n",
      "INFO:relative:\thandle_nonbonded: Handling Interaction Groups...\n",
      "INFO:relative:\thandle_nonbonded: Handling Hybrid Exceptions...\n",
      "INFO:relative:\thandle_nonbonded: Handling Original Exceptions...\n",
      "INFO:relative:Handling unique_new/old interaction exceptions...\n",
      "INFO:relative:There are old or new system exceptions...proceeding.\n"
     ]
    }
   ],
   "source": [
    "atp, system_generator = generate_atp(phase='solvent')\n",
    "htf = generate_dipeptide_top_pos_sys(atp.topology,\n",
    "                                     new_res='THR',\n",
    "                                     system=atp.system,\n",
    "                                     positions=atp.positions,\n",
    "                                     system_generator=system_generator,\n",
    "                                     conduct_htf_prop=True,\n",
    "                                     validate_endstate_energy=False)\n",
    "system = htf.hybrid_system"
   ]
  },
  {
   "cell_type": "code",
   "execution_count": 17,
   "id": "1f5aa5e7",
   "metadata": {},
   "outputs": [],
   "source": [
    "integrator = LangevinMiddleIntegrator(300, 1.0, 0.004)\n",
    "platform = Platform.getPlatformByName('CUDA')\n",
    "context = Context(system, integrator, platform)\n",
    "context.setPositions(htf.hybrid_positions)\n",
    "context.setPeriodicBoxVectors(*system.getDefaultPeriodicBoxVectors())\n"
   ]
  },
  {
   "cell_type": "code",
   "execution_count": 18,
   "id": "e4552c1a",
   "metadata": {},
   "outputs": [],
   "source": [
    "LocalEnergyMinimizer.minimize(context)\n"
   ]
  },
  {
   "cell_type": "code",
   "execution_count": 7,
   "id": "69202639",
   "metadata": {},
   "outputs": [
    {
     "name": "stdout",
     "output_type": "stream",
     "text": [
      "MonteCarloPressure 1.01325\n",
      "MonteCarloTemperature 300.0\n",
      "lambda_angles 0.0\n",
      "lambda_bonds 0.0\n",
      "lambda_electrostatics_core 0.0\n",
      "lambda_electrostatics_delete 0.0\n",
      "lambda_electrostatics_insert 0.0\n",
      "lambda_sterics_core 0.0\n",
      "lambda_sterics_delete 0.0\n",
      "lambda_sterics_insert 0.0\n",
      "lambda_torsions 0.0\n",
      "softcore_alpha 0.85\n"
     ]
    }
   ],
   "source": [
    "for k, v in context.getParameters().items():\n",
    "    print(k, v)"
   ]
  },
  {
   "cell_type": "code",
   "execution_count": 8,
   "id": "d4cc0b62",
   "metadata": {},
   "outputs": [],
   "source": [
    "state = context.getState(getPositions=True, getVelocities=True)\n",
    "with open('ala_dipeptide_solvent_state_minimized.xml', 'w') as f:\n",
    "    f.write(XmlSerializer.serialize(state))\n",
    "\n",
    "with open('ala_dipeptide_solvent_system.xml', 'w') as f:\n",
    "    f.write(XmlSerializer.serialize(system))\n"
   ]
  },
  {
   "cell_type": "code",
   "execution_count": 13,
   "id": "8bd2e4e3",
   "metadata": {
    "scrolled": true
   },
   "outputs": [
    {
     "name": "stdout",
     "output_type": "stream",
     "text": [
      "0.25411224365234375\n"
     ]
    }
   ],
   "source": [
    "integrator.step(10)\n",
    "context.getState(getPositions=True)\n",
    "start = time.time()\n",
    "for i in range(100):\n",
    "#     print(i)\n",
    "    integrator.step(1)\n",
    "    context.setParameter('lambda_sterics_insert', 0.1*(i%2))\n",
    "context.getState(getPositions=True)\n",
    "end = time.time()\n",
    "print(end-start)"
   ]
  },
  {
   "cell_type": "code",
   "execution_count": 19,
   "id": "97c2df28",
   "metadata": {
    "scrolled": true
   },
   "outputs": [
    {
     "name": "stdout",
     "output_type": "stream",
     "text": [
      "0.18193483352661133\n"
     ]
    }
   ],
   "source": [
    "integrator.step(10)\n",
    "context.getState(getPositions=True)\n",
    "start = time.time()\n",
    "for i in range(100):\n",
    "#     print(i)\n",
    "    integrator.step(1)\n",
    "#     context.setParameter('lambda_sterics_insert', 0.1*(i%2))\n",
    "context.getState(getPositions=True)\n",
    "end = time.time()\n",
    "print(end-start)"
   ]
  },
  {
   "cell_type": "code",
   "execution_count": null,
   "id": "34dfde6e",
   "metadata": {},
   "outputs": [],
   "source": []
  }
 ],
 "metadata": {
  "kernelspec": {
   "display_name": "Python 3 (ipykernel)",
   "language": "python",
   "name": "python3"
  },
  "language_info": {
   "codemirror_mode": {
    "name": "ipython",
    "version": 3
   },
   "file_extension": ".py",
   "mimetype": "text/x-python",
   "name": "python",
   "nbconvert_exporter": "python",
   "pygments_lexer": "ipython3",
   "version": "3.9.7"
  }
 },
 "nbformat": 4,
 "nbformat_minor": 5
}
