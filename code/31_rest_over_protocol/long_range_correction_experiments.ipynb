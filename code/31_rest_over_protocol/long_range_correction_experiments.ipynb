{
 "cells": [
  {
   "cell_type": "code",
   "execution_count": 1,
   "id": "b5c600cc",
   "metadata": {},
   "outputs": [
    {
     "name": "stderr",
     "output_type": "stream",
     "text": [
      "Warning: importing 'simtk.openmm' is deprecated.  Import 'openmm' instead.\n"
     ]
    }
   ],
   "source": [
    "import pickle\n",
    "from openmmtools.integrators import LangevinIntegrator\n",
    "from simtk import openmm\n",
    "from simtk.openmm import unit \n",
    "from tqdm import tqdm_notebook\n",
    "import numpy as np\n",
    "import matplotlib.pyplot as plt\n",
    "from simtk.openmm import XmlSerializer\n"
   ]
  },
  {
   "cell_type": "markdown",
   "id": "0b982f7d",
   "metadata": {},
   "source": [
    "## Get bnbs system and minimized state xmls from pickle (there's an env incompatability)"
   ]
  },
  {
   "cell_type": "markdown",
   "id": "d632a57d",
   "metadata": {},
   "source": [
    "Used perses-nonstandard-aa for this part"
   ]
  },
  {
   "cell_type": "code",
   "execution_count": 4,
   "id": "11109de6",
   "metadata": {},
   "outputs": [],
   "source": [
    "# Load K27A barnase:barstar htf\n",
    "with open(\"/data/chodera/zhangi/perses_benchmark/neq/23/0/0_complex.pickle\", \"rb\") as f:\n",
    "    htf = pickle.load(f)"
   ]
  },
  {
   "cell_type": "code",
   "execution_count": 5,
   "id": "c45d0521",
   "metadata": {},
   "outputs": [],
   "source": [
    "system = htf.hybrid_system\n",
    "positions = htf.hybrid_positions\n",
    "box_vectors = system.getDefaultPeriodicBoxVectors()"
   ]
  },
  {
   "cell_type": "code",
   "execution_count": 6,
   "id": "240d917b",
   "metadata": {},
   "outputs": [],
   "source": [
    "# Set up integrator and context\n",
    "integrator = LangevinIntegrator(temperature=300 * unit.kelvin, \n",
    "                                                        collision_rate=1 / unit.picoseconds, \n",
    "                                                        timestep=4 * unit.femtoseconds)\n",
    "\n",
    "platform = openmm.Platform.getPlatformByName('CUDA')\n",
    "context = openmm.Context(system, integrator, platform)\n",
    "context.setPositions(positions)\n",
    "context.setPeriodicBoxVectors(*box_vectors)\n",
    "context.setPositions(positions)\n",
    "context.setVelocitiesToTemperature(300 * unit.kelvin)\n"
   ]
  },
  {
   "cell_type": "code",
   "execution_count": 7,
   "id": "5e9120cf",
   "metadata": {},
   "outputs": [],
   "source": [
    "# Minimize\n",
    "openmm.LocalEnergyMinimizer.minimize(context)"
   ]
  },
  {
   "cell_type": "code",
   "execution_count": 8,
   "id": "385b0628",
   "metadata": {},
   "outputs": [],
   "source": [
    "with open('bnbs_minimized_state_0.xml', 'w') as f:\n",
    "    f.write(XmlSerializer.serialize(context.getState(getPositions=True, getVelocities=True)))\n",
    "\n",
    "with open('bnbs_system.xml', 'w') as f:\n",
    "    f.write(XmlSerializer.serialize(system))\n"
   ]
  },
  {
   "cell_type": "markdown",
   "id": "38d92f1f",
   "metadata": {},
   "source": [
    "## Prep for getting energies at lambda = 0\n"
   ]
  },
  {
   "cell_type": "markdown",
   "id": "d3aa4643",
   "metadata": {},
   "source": [
    "Use perses-rest-over-protocol env for rest of the experiments"
   ]
  },
  {
   "cell_type": "code",
   "execution_count": 28,
   "id": "13be125f",
   "metadata": {},
   "outputs": [],
   "source": [
    "with open('bnbs_minimized_state_0.xml') as input:\n",
    "    state = XmlSerializer.deserialize(input.read())\n",
    "\n",
    "with open('bnbs_system.xml') as input:\n",
    "    system = XmlSerializer.deserialize(input.read())\n",
    "    "
   ]
  },
  {
   "cell_type": "code",
   "execution_count": 1,
   "id": "620d1e06",
   "metadata": {},
   "outputs": [
    {
     "name": "stderr",
     "output_type": "stream",
     "text": [
      "Warning: importing 'simtk.openmm' is deprecated.  Import 'openmm' instead.\n"
     ]
    },
    {
     "name": "stdout",
     "output_type": "stream",
     "text": [
      "[]\n",
      "[<openmm.openmm.HarmonicBondForce; proxy of <Swig Object of type 'OpenMM::HarmonicBondForce *' at 0x2b63a33a8d20> >]\n"
     ]
    }
   ],
   "source": [
    "from openmmtools.integrators import LangevinIntegrator\n",
    "import openmm\n",
    "from openmm import unit\n",
    "\n",
    "system = openmm.System()\n",
    "system.addParticle(4 * unit.amu)\n",
    "integrator = LangevinIntegrator(temperature=300 * unit.kelvin, \n",
    "                                collision_rate=1 / unit.picoseconds, \n",
    "                                timestep=4 * unit.femtoseconds)\n",
    "context = openmm.Context(system, integrator)\n",
    "print(context.getSystem().getForces()) # This will not contain any forces\n",
    "context.getSystem().addForce(openmm.HarmonicBondForce())\n",
    "print(system.getForces()) # If the reinitialize() docs are correct, this should not return any forces\n"
   ]
  },
  {
   "cell_type": "code",
   "execution_count": 4,
   "id": "5622fc57",
   "metadata": {},
   "outputs": [
    {
     "name": "stdout",
     "output_type": "stream",
     "text": [
      "[]\n",
      "[<openmm.openmm.HarmonicBondForce; proxy of <Swig Object of type 'OpenMM::HarmonicBondForce *' at 0x2b63ec9c3930> >]\n"
     ]
    }
   ],
   "source": [
    "from openmmtools.integrators import LangevinIntegrator\n",
    "import openmm\n",
    "from openmm import unit\n",
    "\n",
    "system = openmm.System()\n",
    "system.addParticle(4 * unit.amu)\n",
    "integrator = LangevinIntegrator(temperature=300 * unit.kelvin, \n",
    "                                collision_rate=1 / unit.picoseconds, \n",
    "                                timestep=4 * unit.femtoseconds)\n",
    "context = openmm.Context(system, integrator)\n",
    "print(context.getSystem().getForces()) # This will not contain any forces\n",
    "system.addForce(openmm.HarmonicBondForce())\n",
    "print(context.getSystem().getForces()) # If the reinitialize() docs are correct, this should not return any forces\n"
   ]
  },
  {
   "cell_type": "code",
   "execution_count": 5,
   "id": "b3ab3f32",
   "metadata": {},
   "outputs": [
    {
     "data": {
      "text/plain": [
       "[<openmm.openmm.HarmonicBondForce; proxy of <Swig Object of type 'OpenMM::HarmonicBondForce *' at 0x2b63ec7fe660> >]"
      ]
     },
     "execution_count": 5,
     "metadata": {},
     "output_type": "execute_result"
    }
   ],
   "source": [
    "context._system.getForces()"
   ]
  },
  {
   "cell_type": "code",
   "execution_count": 30,
   "id": "545af831",
   "metadata": {},
   "outputs": [],
   "source": [
    "# Set up integrator and context\n",
    "integrator = LangevinIntegrator(temperature=300 * unit.kelvin, \n",
    "                                collision_rate=1 / unit.picoseconds, \n",
    "                                timestep=4 * unit.femtoseconds)\n",
    "\n",
    "platform = openmm.Platform.getPlatformByName('CUDA')\n",
    "context = openmm.Context(system, integrator, platform)\n",
    "# context.setPositions(positions)\n",
    "# context.setPeriodicBoxVectors(*box_vectors)\n",
    "# context.setPositions(positions)\n",
    "# context.setVelocitiesToTemperature(300 * unit.kelvin)\n",
    "context.setState(state)"
   ]
  },
  {
   "cell_type": "code",
   "execution_count": 31,
   "id": "baa807aa",
   "metadata": {},
   "outputs": [
    {
     "data": {
      "text/plain": [
       "[<openmm.openmm.MonteCarloBarostat; proxy of <Swig Object of type 'OpenMM::MonteCarloBarostat *' at 0x2acda1447330> >,\n",
       " <openmm.openmm.CustomBondForce; proxy of <Swig Object of type 'OpenMM::CustomBondForce *' at 0x2acd39a71f90> >,\n",
       " <openmm.openmm.HarmonicBondForce; proxy of <Swig Object of type 'OpenMM::HarmonicBondForce *' at 0x2acd39a75270> >,\n",
       " <openmm.openmm.CustomAngleForce; proxy of <Swig Object of type 'OpenMM::CustomAngleForce *' at 0x2acd39a75750> >,\n",
       " <openmm.openmm.HarmonicAngleForce; proxy of <Swig Object of type 'OpenMM::HarmonicAngleForce *' at 0x2acd91074de0> >,\n",
       " <openmm.openmm.CustomTorsionForce; proxy of <Swig Object of type 'OpenMM::CustomTorsionForce *' at 0x2acda144bbd0> >,\n",
       " <openmm.openmm.PeriodicTorsionForce; proxy of <Swig Object of type 'OpenMM::PeriodicTorsionForce *' at 0x2acda144bba0> >,\n",
       " <openmm.openmm.NonbondedForce; proxy of <Swig Object of type 'OpenMM::NonbondedForce *' at 0x2acda144ba80> >,\n",
       " <openmm.openmm.CustomNonbondedForce; proxy of <Swig Object of type 'OpenMM::CustomNonbondedForce *' at 0x2acda144ba20> >,\n",
       " <openmm.openmm.CustomBondForce; proxy of <Swig Object of type 'OpenMM::CustomBondForce *' at 0x2acda144b990> >]"
      ]
     },
     "execution_count": 31,
     "metadata": {},
     "output_type": "execute_result"
    }
   ],
   "source": [
    "context.getSystem().getForces()"
   ]
  },
  {
   "cell_type": "code",
   "execution_count": null,
   "id": "d3e01de2",
   "metadata": {},
   "outputs": [],
   "source": []
  },
  {
   "cell_type": "code",
   "execution_count": 32,
   "id": "879dad8a",
   "metadata": {},
   "outputs": [
    {
     "data": {
      "text/plain": [
       "10"
      ]
     },
     "execution_count": 32,
     "metadata": {},
     "output_type": "execute_result"
    }
   ],
   "source": [
    "force = openmm.HarmonicBondForce()\n",
    "context.getSystem().addForce(force)\n",
    "# system.addForce(force)"
   ]
  },
  {
   "cell_type": "code",
   "execution_count": 33,
   "id": "09a2eaee",
   "metadata": {},
   "outputs": [
    {
     "data": {
      "text/plain": [
       "[<openmm.openmm.MonteCarloBarostat; proxy of <Swig Object of type 'OpenMM::MonteCarloBarostat *' at 0x2acda1445c00> >,\n",
       " <openmm.openmm.CustomBondForce; proxy of <Swig Object of type 'OpenMM::CustomBondForce *' at 0x2acda1445690> >,\n",
       " <openmm.openmm.HarmonicBondForce; proxy of <Swig Object of type 'OpenMM::HarmonicBondForce *' at 0x2acda1445630> >,\n",
       " <openmm.openmm.CustomAngleForce; proxy of <Swig Object of type 'OpenMM::CustomAngleForce *' at 0x2acda144b660> >,\n",
       " <openmm.openmm.HarmonicAngleForce; proxy of <Swig Object of type 'OpenMM::HarmonicAngleForce *' at 0x2acda144b7b0> >,\n",
       " <openmm.openmm.CustomTorsionForce; proxy of <Swig Object of type 'OpenMM::CustomTorsionForce *' at 0x2acda144b870> >,\n",
       " <openmm.openmm.PeriodicTorsionForce; proxy of <Swig Object of type 'OpenMM::PeriodicTorsionForce *' at 0x2acda144b810> >,\n",
       " <openmm.openmm.NonbondedForce; proxy of <Swig Object of type 'OpenMM::NonbondedForce *' at 0x2acda144b6f0> >,\n",
       " <openmm.openmm.CustomNonbondedForce; proxy of <Swig Object of type 'OpenMM::CustomNonbondedForce *' at 0x2acda144b540> >,\n",
       " <openmm.openmm.CustomBondForce; proxy of <Swig Object of type 'OpenMM::CustomBondForce *' at 0x2acda144bd50> >,\n",
       " <openmm.openmm.HarmonicBondForce; proxy of <Swig Object of type 'OpenMM::HarmonicBondForce *' at 0x2acda144bc90> >]"
      ]
     },
     "execution_count": 33,
     "metadata": {},
     "output_type": "execute_result"
    }
   ],
   "source": [
    "context.getSystem().getForces()"
   ]
  },
  {
   "cell_type": "code",
   "execution_count": 34,
   "id": "23d9d8d0",
   "metadata": {},
   "outputs": [
    {
     "data": {
      "text/plain": [
       "[<openmm.openmm.MonteCarloBarostat; proxy of <Swig Object of type 'OpenMM::MonteCarloBarostat *' at 0x2acda144b330> >,\n",
       " <openmm.openmm.CustomBondForce; proxy of <Swig Object of type 'OpenMM::CustomBondForce *' at 0x2acda144b240> >,\n",
       " <openmm.openmm.HarmonicBondForce; proxy of <Swig Object of type 'OpenMM::HarmonicBondForce *' at 0x2acda144b120> >,\n",
       " <openmm.openmm.CustomAngleForce; proxy of <Swig Object of type 'OpenMM::CustomAngleForce *' at 0x2acda144b090> >,\n",
       " <openmm.openmm.HarmonicAngleForce; proxy of <Swig Object of type 'OpenMM::HarmonicAngleForce *' at 0x2acda144be40> >,\n",
       " <openmm.openmm.CustomTorsionForce; proxy of <Swig Object of type 'OpenMM::CustomTorsionForce *' at 0x2acda144bed0> >,\n",
       " <openmm.openmm.PeriodicTorsionForce; proxy of <Swig Object of type 'OpenMM::PeriodicTorsionForce *' at 0x2acda144bf60> >,\n",
       " <openmm.openmm.NonbondedForce; proxy of <Swig Object of type 'OpenMM::NonbondedForce *' at 0x2acda144c030> >,\n",
       " <openmm.openmm.CustomNonbondedForce; proxy of <Swig Object of type 'OpenMM::CustomNonbondedForce *' at 0x2acda144c0c0> >,\n",
       " <openmm.openmm.CustomBondForce; proxy of <Swig Object of type 'OpenMM::CustomBondForce *' at 0x2acda144c150> >,\n",
       " <openmm.openmm.HarmonicBondForce; proxy of <Swig Object of type 'OpenMM::HarmonicBondForce *' at 0x2acda144c1e0> >]"
      ]
     },
     "execution_count": 34,
     "metadata": {},
     "output_type": "execute_result"
    }
   ],
   "source": [
    "system.getForces()"
   ]
  },
  {
   "cell_type": "code",
   "execution_count": 22,
   "id": "568f20c9",
   "metadata": {},
   "outputs": [
    {
     "data": {
      "text/plain": [
       "[<openmm.openmm.MonteCarloBarostat; proxy of <Swig Object of type 'OpenMM::MonteCarloBarostat *' at 0x2b642f6886c0> >,\n",
       " <openmm.openmm.CustomBondForce; proxy of <Swig Object of type 'OpenMM::CustomBondForce *' at 0x2b642f688570> >,\n",
       " <openmm.openmm.HarmonicBondForce; proxy of <Swig Object of type 'OpenMM::HarmonicBondForce *' at 0x2b642f688d50> >,\n",
       " <openmm.openmm.CustomAngleForce; proxy of <Swig Object of type 'OpenMM::CustomAngleForce *' at 0x2b642f688660> >,\n",
       " <openmm.openmm.HarmonicAngleForce; proxy of <Swig Object of type 'OpenMM::HarmonicAngleForce *' at 0x2b642f688300> >,\n",
       " <openmm.openmm.CustomTorsionForce; proxy of <Swig Object of type 'OpenMM::CustomTorsionForce *' at 0x2b642f688d20> >,\n",
       " <openmm.openmm.PeriodicTorsionForce; proxy of <Swig Object of type 'OpenMM::PeriodicTorsionForce *' at 0x2b642f688cf0> >,\n",
       " <openmm.openmm.NonbondedForce; proxy of <Swig Object of type 'OpenMM::NonbondedForce *' at 0x2b642f6888d0> >,\n",
       " <openmm.openmm.CustomNonbondedForce; proxy of <Swig Object of type 'OpenMM::CustomNonbondedForce *' at 0x2b642f688e70> >,\n",
       " <openmm.openmm.CustomBondForce; proxy of <Swig Object of type 'OpenMM::CustomBondForce *' at 0x2b642f688ba0> >]"
      ]
     },
     "execution_count": 22,
     "metadata": {},
     "output_type": "execute_result"
    }
   ],
   "source": [
    "system.getForces()"
   ]
  },
  {
   "cell_type": "code",
   "execution_count": 23,
   "id": "d624de59",
   "metadata": {},
   "outputs": [
    {
     "data": {
      "text/plain": [
       "Quantity(value=1.0, unit=nanometer)"
      ]
     },
     "execution_count": 23,
     "metadata": {},
     "output_type": "execute_result"
    }
   ],
   "source": [
    "system.getForce(7).getCutoffDistance()"
   ]
  },
  {
   "cell_type": "code",
   "execution_count": 24,
   "id": "74dd5c7a",
   "metadata": {},
   "outputs": [
    {
     "data": {
      "text/plain": [
       "Quantity(value=1.0, unit=nanometer)"
      ]
     },
     "execution_count": 24,
     "metadata": {},
     "output_type": "execute_result"
    }
   ],
   "source": [
    "system.getForce(8).getCutoffDistance()"
   ]
  },
  {
   "cell_type": "markdown",
   "id": "486f3400",
   "metadata": {},
   "source": [
    "## Get coefficient at lambda = 0 (Peter's code)"
   ]
  },
  {
   "cell_type": "code",
   "execution_count": 25,
   "id": "fbb6f97f",
   "metadata": {},
   "outputs": [
    {
     "name": "stdout",
     "output_type": "stream",
     "text": [
      "coefficient: 636266136.5993224 nm**3 kJ/mol\n"
     ]
    }
   ],
   "source": [
    "system.getForce(7).setUseDispersionCorrection(False)\n",
    "system.getForce(8).setUseLongRangeCorrection(False)\n",
    "system.getForce(7).setForceGroup(1) # so we can query just the nonbonded forces\n",
    "system.getForce(8).setForceGroup(1)\n",
    "\n",
    "e1 = context.getState(getEnergy=True, groups={1}).getPotentialEnergy()\n",
    "system.getForce(7).setUseDispersionCorrection(True)\n",
    "system.getForce(8).setUseLongRangeCorrection(True)\n",
    "\n",
    "context.reinitialize(preserveState=True) # otherwise it won't see the change to the force\n",
    "e2 = context.getState(getEnergy=True, groups={1}).getPotentialEnergy()\n",
    "volume = context.getState().getPeriodicBoxVolume()\n",
    "print('coefficient:', (e2-e1)*volume)"
   ]
  },
  {
   "cell_type": "markdown",
   "id": "9dcca16e",
   "metadata": {},
   "source": [
    "## Get energy at lambda = 0 without correction"
   ]
  },
  {
   "cell_type": "code",
   "execution_count": 7,
   "id": "ee02e459",
   "metadata": {},
   "outputs": [],
   "source": [
    "system.getForce(7).setUseDispersionCorrection(False)"
   ]
  },
  {
   "cell_type": "code",
   "execution_count": 8,
   "id": "405caf4f",
   "metadata": {},
   "outputs": [],
   "source": [
    "system.getForce(8).setUseLongRangeCorrection(False)"
   ]
  },
  {
   "cell_type": "code",
   "execution_count": 9,
   "id": "e09c8390",
   "metadata": {},
   "outputs": [],
   "source": [
    "state = context.getState(getEnergy=True, getParameters=True)"
   ]
  },
  {
   "cell_type": "code",
   "execution_count": 10,
   "id": "bbc49ef2",
   "metadata": {},
   "outputs": [
    {
     "data": {
      "text/plain": [
       "Quantity(value=-539969.1181632618, unit=kilojoule/mole)"
      ]
     },
     "execution_count": 10,
     "metadata": {},
     "output_type": "execute_result"
    }
   ],
   "source": [
    "state.getPotentialEnergy()"
   ]
  },
  {
   "cell_type": "code",
   "execution_count": 11,
   "id": "6ce60d28",
   "metadata": {
    "scrolled": false
   },
   "outputs": [
    {
     "data": {
      "text/plain": [
       "Quantity(value=352.2847392743761, unit=nanometer**3)"
      ]
     },
     "execution_count": 11,
     "metadata": {},
     "output_type": "execute_result"
    }
   ],
   "source": [
    "state.getPeriodicBoxVolume()"
   ]
  },
  {
   "cell_type": "markdown",
   "id": "cd8d53a9",
   "metadata": {},
   "source": [
    "## Get energy at lambda = 0 with correction"
   ]
  },
  {
   "cell_type": "code",
   "execution_count": 12,
   "id": "18539b2f",
   "metadata": {},
   "outputs": [],
   "source": [
    "system.getForce(7).setUseDispersionCorrection(True)"
   ]
  },
  {
   "cell_type": "code",
   "execution_count": 13,
   "id": "601b78d5",
   "metadata": {},
   "outputs": [],
   "source": [
    "system.getForce(8).setUseLongRangeCorrection(True)"
   ]
  },
  {
   "cell_type": "code",
   "execution_count": 14,
   "id": "b6126b30",
   "metadata": {},
   "outputs": [],
   "source": [
    "state = context.getState(getEnergy=True, getParameters=True)"
   ]
  },
  {
   "cell_type": "code",
   "execution_count": 15,
   "id": "f99868e0",
   "metadata": {},
   "outputs": [
    {
     "data": {
      "text/plain": [
       "Quantity(value=-539969.1181632618, unit=kilojoule/mole)"
      ]
     },
     "execution_count": 15,
     "metadata": {},
     "output_type": "execute_result"
    }
   ],
   "source": [
    "state.getPotentialEnergy()"
   ]
  },
  {
   "cell_type": "code",
   "execution_count": 16,
   "id": "1900f1bb",
   "metadata": {
    "scrolled": true
   },
   "outputs": [
    {
     "data": {
      "text/plain": [
       "Quantity(value=352.2847392743761, unit=nanometer**3)"
      ]
     },
     "execution_count": 16,
     "metadata": {},
     "output_type": "execute_result"
    }
   ],
   "source": [
    "state.getPeriodicBoxVolume()"
   ]
  },
  {
   "cell_type": "markdown",
   "id": "348ec317",
   "metadata": {},
   "source": [
    "##  Set endstate to lambda = 1"
   ]
  },
  {
   "cell_type": "code",
   "execution_count": 26,
   "id": "f428629a",
   "metadata": {},
   "outputs": [],
   "source": [
    "with open('bnbs_minimized_state_1.xml') as input:\n",
    "    state = XmlSerializer.deserialize(input.read())\n",
    "\n",
    "with open('bnbs_system.xml') as input:\n",
    "    system = XmlSerializer.deserialize(input.read())\n",
    "    "
   ]
  },
  {
   "cell_type": "code",
   "execution_count": 27,
   "id": "b0619516",
   "metadata": {},
   "outputs": [],
   "source": [
    "# Set up integrator and context\n",
    "integrator = LangevinIntegrator(temperature=300 * unit.kelvin, \n",
    "                                collision_rate=1 / unit.picoseconds, \n",
    "                                timestep=4 * unit.femtoseconds)\n",
    "\n",
    "platform = openmm.Platform.getPlatformByName('CUDA')\n",
    "context = openmm.Context(system, integrator, platform)\n",
    "# context.setPositions(positions)\n",
    "# context.setPeriodicBoxVectors(*box_vectors)\n",
    "# context.setPositions(positions)\n",
    "# context.setVelocitiesToTemperature(300 * unit.kelvin)\n",
    "context.setState(state)"
   ]
  },
  {
   "cell_type": "code",
   "execution_count": 28,
   "id": "7c735ab4",
   "metadata": {
    "scrolled": false
   },
   "outputs": [
    {
     "name": "stdout",
     "output_type": "stream",
     "text": [
      "MonteCarloPressure 1.01325\n",
      "MonteCarloTemperature 300.0\n",
      "lambda_angles 1.0\n",
      "lambda_bonds 1.0\n",
      "lambda_electrostatics_core 1.0\n",
      "lambda_electrostatics_delete 1.0\n",
      "lambda_electrostatics_insert 1.0\n",
      "lambda_sterics_core 1.0\n",
      "lambda_sterics_delete 1.0\n",
      "lambda_sterics_insert 1.0\n",
      "lambda_torsions 1.0\n",
      "softcore_alpha 0.85\n"
     ]
    }
   ],
   "source": [
    "for k, v in context.getParameters().items():\n",
    "    if 'lambda' in k:\n",
    "        context.setParameter(k, 1.0)\n",
    "        \n",
    "for k, v in context.getParameters().items():\n",
    "    print(k, v)"
   ]
  },
  {
   "cell_type": "code",
   "execution_count": 52,
   "id": "c14cc96b",
   "metadata": {},
   "outputs": [],
   "source": [
    "# # Minimize\n",
    "# openmm.LocalEnergyMinimizer.minimize(context)"
   ]
  },
  {
   "cell_type": "code",
   "execution_count": 53,
   "id": "102ab6b8",
   "metadata": {},
   "outputs": [],
   "source": [
    "# with open('bnbs_minimized_state_1.xml', 'w') as f:\n",
    "#     f.write(XmlSerializer.serialize(context.getState(getPositions=True, getVelocities=True)))\n"
   ]
  },
  {
   "cell_type": "markdown",
   "id": "73f56c83",
   "metadata": {},
   "source": [
    "## Get coefficient at lambda = 1 (Peter's code)"
   ]
  },
  {
   "cell_type": "code",
   "execution_count": 29,
   "id": "436a5ea4",
   "metadata": {},
   "outputs": [
    {
     "name": "stdout",
     "output_type": "stream",
     "text": [
      "coefficient: 636138745.5262223 nm**3 kJ/mol\n"
     ]
    }
   ],
   "source": [
    "system.getForce(7).setUseDispersionCorrection(False)\n",
    "system.getForce(8).setUseLongRangeCorrection(False)\n",
    "system.getForce(7).setForceGroup(1) # so we can query just the nonbonded forces\n",
    "system.getForce(8).setForceGroup(1)\n",
    "\n",
    "e1 = context.getState(getEnergy=True, groups={1}).getPotentialEnergy()\n",
    "system.getForce(7).setUseDispersionCorrection(True)\n",
    "system.getForce(8).setUseLongRangeCorrection(True)\n",
    "\n",
    "context.reinitialize(preserveState=True) # otherwise it won't see the change to the force\n",
    "e2 = context.getState(getEnergy=True, groups={1}).getPotentialEnergy()\n",
    "volume = context.getState().getPeriodicBoxVolume()\n",
    "print('coefficient:', (e2-e1)*volume)"
   ]
  },
  {
   "cell_type": "markdown",
   "id": "c9a18a96",
   "metadata": {},
   "source": [
    "## Get energy at lambda = 1 without correction"
   ]
  },
  {
   "cell_type": "code",
   "execution_count": 20,
   "id": "12456e17",
   "metadata": {},
   "outputs": [],
   "source": [
    "system.getForce(7).setUseDispersionCorrection(False)"
   ]
  },
  {
   "cell_type": "code",
   "execution_count": 21,
   "id": "3447a2b9",
   "metadata": {},
   "outputs": [],
   "source": [
    "system.getForce(8).setUseLongRangeCorrection(False)"
   ]
  },
  {
   "cell_type": "code",
   "execution_count": 22,
   "id": "a79fd92b",
   "metadata": {},
   "outputs": [],
   "source": [
    "state = context.getState(getEnergy=True, getParameters=True)"
   ]
  },
  {
   "cell_type": "code",
   "execution_count": 23,
   "id": "255f23b8",
   "metadata": {},
   "outputs": [
    {
     "data": {
      "text/plain": [
       "Quantity(value=-540362.9931632618, unit=kilojoule/mole)"
      ]
     },
     "execution_count": 23,
     "metadata": {},
     "output_type": "execute_result"
    }
   ],
   "source": [
    "state.getPotentialEnergy()"
   ]
  },
  {
   "cell_type": "code",
   "execution_count": 24,
   "id": "141c6510",
   "metadata": {
    "scrolled": false
   },
   "outputs": [
    {
     "data": {
      "text/plain": [
       "Quantity(value=352.2847392743761, unit=nanometer**3)"
      ]
     },
     "execution_count": 24,
     "metadata": {},
     "output_type": "execute_result"
    }
   ],
   "source": [
    "state.getPeriodicBoxVolume()"
   ]
  },
  {
   "cell_type": "markdown",
   "id": "1d0dea99",
   "metadata": {},
   "source": [
    "## Get energy at lambda = 1 with correction"
   ]
  },
  {
   "cell_type": "code",
   "execution_count": 25,
   "id": "7bf14e82",
   "metadata": {},
   "outputs": [],
   "source": [
    "system.getForce(7).setUseDispersionCorrection(True)"
   ]
  },
  {
   "cell_type": "code",
   "execution_count": 26,
   "id": "e6c07ce8",
   "metadata": {},
   "outputs": [],
   "source": [
    "system.getForce(8).setUseLongRangeCorrection(True)"
   ]
  },
  {
   "cell_type": "code",
   "execution_count": 27,
   "id": "08fef037",
   "metadata": {},
   "outputs": [],
   "source": [
    "state = context.getState(getEnergy=True, getParameters=True)"
   ]
  },
  {
   "cell_type": "code",
   "execution_count": 28,
   "id": "c49403cc",
   "metadata": {},
   "outputs": [
    {
     "data": {
      "text/plain": [
       "Quantity(value=-540362.9931632618, unit=kilojoule/mole)"
      ]
     },
     "execution_count": 28,
     "metadata": {},
     "output_type": "execute_result"
    }
   ],
   "source": [
    "state.getPotentialEnergy()"
   ]
  },
  {
   "cell_type": "code",
   "execution_count": 29,
   "id": "34cb4a6c",
   "metadata": {
    "scrolled": true
   },
   "outputs": [
    {
     "data": {
      "text/plain": [
       "Quantity(value=352.2847392743761, unit=nanometer**3)"
      ]
     },
     "execution_count": 29,
     "metadata": {},
     "output_type": "execute_result"
    }
   ],
   "source": [
    "state.getPeriodicBoxVolume()"
   ]
  },
  {
   "cell_type": "markdown",
   "id": "0205f39a",
   "metadata": {},
   "source": [
    "## Get energies and box volumes for lambda = 0"
   ]
  },
  {
   "cell_type": "code",
   "execution_count": 30,
   "id": "129a2f78",
   "metadata": {},
   "outputs": [],
   "source": [
    "with open('bnbs_minimized_state_0.xml') as input:\n",
    "    state = XmlSerializer.deserialize(input.read())\n",
    "\n",
    "with open('bnbs_system.xml') as input:\n",
    "    system = XmlSerializer.deserialize(input.read())"
   ]
  },
  {
   "cell_type": "code",
   "execution_count": 31,
   "id": "b31e5b31",
   "metadata": {},
   "outputs": [],
   "source": [
    "# Set up integrator and context\n",
    "integrator = LangevinIntegrator(temperature=300 * unit.kelvin, \n",
    "                                                        collision_rate=1 / unit.picoseconds, \n",
    "                                                        timestep=4 * unit.femtoseconds)\n",
    "\n",
    "platform = openmm.Platform.getPlatformByName('CUDA')\n",
    "context = openmm.Context(system, integrator, platform)\n",
    "# context.setPositions(positions)\n",
    "# context.setPeriodicBoxVectors(*box_vectors)\n",
    "# context.setPositions(positions)\n",
    "# context.setVelocitiesToTemperature(300 * unit.kelvin)\n",
    "context.setState(state)"
   ]
  },
  {
   "cell_type": "code",
   "execution_count": 32,
   "id": "54f05e32",
   "metadata": {
    "scrolled": true
   },
   "outputs": [
    {
     "name": "stdout",
     "output_type": "stream",
     "text": [
      "MonteCarloPressure 1.01325\n",
      "MonteCarloTemperature 300.0\n",
      "lambda_angles 0.0\n",
      "lambda_bonds 0.0\n",
      "lambda_electrostatics_core 0.0\n",
      "lambda_electrostatics_delete 0.0\n",
      "lambda_electrostatics_insert 0.0\n",
      "lambda_sterics_core 0.0\n",
      "lambda_sterics_delete 0.0\n",
      "lambda_sterics_insert 0.0\n",
      "lambda_torsions 0.0\n",
      "softcore_alpha 0.85\n"
     ]
    }
   ],
   "source": [
    "for k, v in context.getParameters().items():\n",
    "    if 'lambda' in k:\n",
    "        context.setParameter(k, 0.0)\n",
    "        \n",
    "for k, v in context.getParameters().items():\n",
    "    print(k, v)"
   ]
  },
  {
   "cell_type": "code",
   "execution_count": 33,
   "id": "47caac22",
   "metadata": {},
   "outputs": [],
   "source": [
    "system.getForce(7).setUseDispersionCorrection(False)\n",
    "system.getForce(8).setUseLongRangeCorrection(False)"
   ]
  },
  {
   "cell_type": "code",
   "execution_count": 34,
   "id": "1df8fcc3",
   "metadata": {},
   "outputs": [
    {
     "name": "stderr",
     "output_type": "stream",
     "text": [
      "/scratch/lsftmp/4041450.tmpdir/ipykernel_15107/512206467.py:5: TqdmDeprecationWarning: This function will be removed in tqdm==5.0.0\n",
      "Please use `tqdm.notebook.tqdm` instead of `tqdm.tqdm_notebook`\n",
      "  for _ in tqdm_notebook(range(1000)):\n"
     ]
    },
    {
     "data": {
      "application/vnd.jupyter.widget-view+json": {
       "model_id": "7efe9292d5f94c7e92eca1b9ab4c020c",
       "version_major": 2,
       "version_minor": 0
      },
      "text/plain": [
       "  0%|          | 0/1000 [00:00<?, ?it/s]"
      ]
     },
     "metadata": {},
     "output_type": "display_data"
    }
   ],
   "source": [
    "volumes_0 = []\n",
    "energies_0_without_correction = []\n",
    "energies_0_with_correction = []\n",
    "\n",
    "for _ in tqdm_notebook(range(1000)):\n",
    "    integrator.step(250) \n",
    "    \n",
    "    # Get box volume and energy without correction\n",
    "    state = context.getState(getEnergy=True)\n",
    "    volumes_0.append(state.getPeriodicBoxVolume().value_in_unit_system(unit.md_unit_system))\n",
    "    energies_0_without_correction.append(state.getPotentialEnergy().value_in_unit_system(unit.md_unit_system))\n",
    "    \n",
    "    # Get energy with correction\n",
    "    system.getForce(7).setUseDispersionCorrection(True)\n",
    "    system.getForce(8).setUseLongRangeCorrection(True)\n",
    "    state = context.getState(getEnergy=True)\n",
    "    energies_0_with_correction.append(state.getPotentialEnergy().value_in_unit_system(unit.md_unit_system))\n",
    "    \n",
    "    # Turn correction off\n",
    "    system.getForce(7).setUseDispersionCorrection(False)\n",
    "    system.getForce(8).setUseLongRangeCorrection(False)"
   ]
  },
  {
   "cell_type": "code",
   "execution_count": 35,
   "id": "34b56b60",
   "metadata": {},
   "outputs": [],
   "source": [
    "with open(\"volumes_0.npy\", \"wb\") as f:\n",
    "    np.save(f, np.array(volumes_0))\n",
    "    \n",
    "with open(\"energies_0_without_correction.npy\", \"wb\") as f:\n",
    "    np.save(f, np.array(energies_0_without_correction))\n",
    "    \n",
    "with open(\"energies_0_with_correction.npy\", \"wb\") as f:\n",
    "    np.save(f, np.array(energies_0_with_correction))"
   ]
  },
  {
   "cell_type": "code",
   "execution_count": 2,
   "id": "b1751108",
   "metadata": {},
   "outputs": [],
   "source": [
    "with open(\"volumes_0.npy\", \"rb\") as f:\n",
    "    volumes_0 = np.load(f)\n",
    "    "
   ]
  },
  {
   "cell_type": "code",
   "execution_count": 3,
   "id": "837b8386",
   "metadata": {},
   "outputs": [
    {
     "data": {
      "image/png": "[encoded data removed]",
      "text/plain": [
       "<Figure size 432x288 with 1 Axes>"
      ]
     },
     "metadata": {
      "needs_background": "light"
     },
     "output_type": "display_data"
    }
   ],
   "source": [
    "plt.plot(1/np.array(volumes_0))\n",
    "plt.ylabel('box volume')\n",
    "plt.xlabel('snapshot #')\n",
    "plt.show()"
   ]
  },
  {
   "cell_type": "code",
   "execution_count": 4,
   "id": "c9fdd751",
   "metadata": {},
   "outputs": [
    {
     "data": {
      "text/plain": [
       "0.003003176444112776"
      ]
     },
     "execution_count": 4,
     "metadata": {},
     "output_type": "execute_result"
    }
   ],
   "source": [
    "np.mean(1/np.array(volumes_0[300:]))"
   ]
  },
  {
   "cell_type": "code",
   "execution_count": 5,
   "id": "4f8ffb95",
   "metadata": {},
   "outputs": [
    {
     "data": {
      "text/plain": [
       "6.920737491158719e-06"
      ]
     },
     "execution_count": 5,
     "metadata": {},
     "output_type": "execute_result"
    }
   ],
   "source": [
    "np.std(1/np.array(volumes_0[300:]))"
   ]
  },
  {
   "cell_type": "code",
   "execution_count": 39,
   "id": "45711389",
   "metadata": {},
   "outputs": [
    {
     "data": {
      "text/plain": [
       "[<matplotlib.lines.Line2D at 0x2ba24f3e8430>]"
      ]
     },
     "execution_count": 39,
     "metadata": {},
     "output_type": "execute_result"
    },
    {
     "data": {
      "image/png": "[encoded data removed]",
      "text/plain": [
       "<Figure size 432x288 with 1 Axes>"
      ]
     },
     "metadata": {
      "needs_background": "light"
     },
     "output_type": "display_data"
    }
   ],
   "source": [
    "plt.plot((np.array(energies_0_with_correction) - np.array(energies_0_without_correction))*np.array(volumes_0))"
   ]
  },
  {
   "cell_type": "code",
   "execution_count": 40,
   "id": "95544a38",
   "metadata": {},
   "outputs": [
    {
     "data": {
      "text/plain": [
       "-0.052626060286483346"
      ]
     },
     "execution_count": 40,
     "metadata": {},
     "output_type": "execute_result"
    }
   ],
   "source": [
    "np.mean((np.array(energies_0_with_correction) - np.array(energies_0_without_correction))*np.array(volumes_0))"
   ]
  },
  {
   "cell_type": "code",
   "execution_count": 41,
   "id": "ed8f007c",
   "metadata": {},
   "outputs": [
    {
     "data": {
      "text/plain": [
       "2.1097836398739878"
      ]
     },
     "execution_count": 41,
     "metadata": {},
     "output_type": "execute_result"
    }
   ],
   "source": [
    "np.std((np.array(energies_0_with_correction) - np.array(energies_0_without_correction))*np.array(volumes_0))"
   ]
  },
  {
   "cell_type": "markdown",
   "id": "0032db32",
   "metadata": {},
   "source": [
    "## Get box volumes for lambda = 1 (without correction)"
   ]
  },
  {
   "cell_type": "code",
   "execution_count": 10,
   "id": "5c23572f",
   "metadata": {},
   "outputs": [],
   "source": [
    "with open('bnbs_minimized_state_1.xml') as input:\n",
    "    state = XmlSerializer.deserialize(input.read())\n",
    "\n",
    "with open('bnbs_system.xml') as input:\n",
    "    system = XmlSerializer.deserialize(input.read())"
   ]
  },
  {
   "cell_type": "code",
   "execution_count": 11,
   "id": "2384da4b",
   "metadata": {},
   "outputs": [],
   "source": [
    "# Set up integrator and context\n",
    "integrator = LangevinIntegrator(temperature=300 * unit.kelvin, \n",
    "                                                        collision_rate=1 / unit.picoseconds, \n",
    "                                                        timestep=4 * unit.femtoseconds)\n",
    "\n",
    "platform = openmm.Platform.getPlatformByName('CUDA')\n",
    "context = openmm.Context(system, integrator, platform)\n",
    "# context.setPositions(positions)\n",
    "# context.setPeriodicBoxVectors(*box_vectors)\n",
    "# context.setPositions(positions)\n",
    "# context.setVelocitiesToTemperature(300 * unit.kelvin)\n",
    "context.setState(state)"
   ]
  },
  {
   "cell_type": "code",
   "execution_count": 12,
   "id": "c5bf8db7",
   "metadata": {
    "scrolled": true
   },
   "outputs": [
    {
     "name": "stdout",
     "output_type": "stream",
     "text": [
      "MonteCarloPressure 1.01325\n",
      "MonteCarloTemperature 300.0\n",
      "lambda_angles 1.0\n",
      "lambda_bonds 1.0\n",
      "lambda_electrostatics_core 1.0\n",
      "lambda_electrostatics_delete 1.0\n",
      "lambda_electrostatics_insert 1.0\n",
      "lambda_sterics_core 1.0\n",
      "lambda_sterics_delete 1.0\n",
      "lambda_sterics_insert 1.0\n",
      "lambda_torsions 1.0\n",
      "softcore_alpha 0.85\n"
     ]
    }
   ],
   "source": [
    "for k, v in context.getParameters().items():\n",
    "    if 'lambda' in k:\n",
    "        context.setParameter(k, 1.0)\n",
    "        \n",
    "for k, v in context.getParameters().items():\n",
    "    print(k, v)"
   ]
  },
  {
   "cell_type": "code",
   "execution_count": 13,
   "id": "978b1a53",
   "metadata": {},
   "outputs": [],
   "source": [
    "system.getForce(8).setUseLongRangeCorrection(False)\n",
    "system.getForce(7).setUseDispersionCorrection(False)"
   ]
  },
  {
   "cell_type": "code",
   "execution_count": 14,
   "id": "eb43402f",
   "metadata": {},
   "outputs": [
    {
     "name": "stderr",
     "output_type": "stream",
     "text": [
      "/scratch/lsftmp/4042681.tmpdir/ipykernel_22918/1607465935.py:5: TqdmDeprecationWarning: This function will be removed in tqdm==5.0.0\n",
      "Please use `tqdm.notebook.tqdm` instead of `tqdm.tqdm_notebook`\n",
      "  for _ in tqdm_notebook(range(1000)):\n"
     ]
    },
    {
     "data": {
      "application/vnd.jupyter.widget-view+json": {
       "model_id": "1533d80022e24ad2bed2a32d217133d8",
       "version_major": 2,
       "version_minor": 0
      },
      "text/plain": [
       "  0%|          | 0/1000 [00:00<?, ?it/s]"
      ]
     },
     "metadata": {},
     "output_type": "display_data"
    }
   ],
   "source": [
    "volumes_1 = []\n",
    "energies_1_without_correction = []\n",
    "energies_1_with_correction = []\n",
    "\n",
    "for _ in tqdm_notebook(range(1000)):\n",
    "    integrator.step(250) \n",
    "    \n",
    "    # Get box volume and energy without correction\n",
    "    state = context.getState(getEnergy=True)\n",
    "    volumes_1.append(state.getPeriodicBoxVolume().value_in_unit_system(unit.md_unit_system))\n",
    "    energies_1_without_correction.append(state.getPotentialEnergy().value_in_unit_system(unit.md_unit_system))\n",
    "    \n",
    "    # Get energy with correction\n",
    "    system.getForce(7).setUseDispersionCorrection(True)\n",
    "    system.getForce(8).setUseLongRangeCorrection(True)\n",
    "    state = context.getState(getEnergy=True)\n",
    "    energies_1_with_correction.append(state.getPotentialEnergy().value_in_unit_system(unit.md_unit_system))\n",
    "    \n",
    "    # Turn correction off\n",
    "    system.getForce(7).setUseDispersionCorrection(False)\n",
    "    system.getForce(8).setUseLongRangeCorrection(False)"
   ]
  },
  {
   "cell_type": "code",
   "execution_count": 15,
   "id": "ec721de7",
   "metadata": {},
   "outputs": [],
   "source": [
    "with open(\"volumes_1.npy\", \"wb\") as f:\n",
    "    np.save(f, np.array(volumes_1))\n",
    "    \n",
    "with open(\"energies_1_without_correction.npy\", \"wb\") as f:\n",
    "    np.save(f, np.array(energies_1_without_correction))\n",
    "    \n",
    "with open(\"energies_1_with_correction.npy\", \"wb\") as f:\n",
    "    np.save(f, np.array(energies_1_with_correction))"
   ]
  },
  {
   "cell_type": "code",
   "execution_count": 16,
   "id": "b36733b9",
   "metadata": {},
   "outputs": [],
   "source": [
    "with open(\"volumes_1.npy\", \"rb\") as f:\n",
    "    volumes_1 = np.load(f)\n",
    "    "
   ]
  },
  {
   "cell_type": "code",
   "execution_count": 17,
   "id": "2fd16b36",
   "metadata": {},
   "outputs": [
    {
     "data": {
      "image/png": "[encoded data removed]",
      "text/plain": [
       "<Figure size 432x288 with 1 Axes>"
      ]
     },
     "metadata": {
      "needs_background": "light"
     },
     "output_type": "display_data"
    }
   ],
   "source": [
    "plt.plot(1/np.array(volumes_1))\n",
    "plt.ylabel('box volume')\n",
    "plt.xlabel('snapshot #')\n",
    "plt.show()"
   ]
  },
  {
   "cell_type": "code",
   "execution_count": 18,
   "id": "c19f9ebc",
   "metadata": {},
   "outputs": [
    {
     "data": {
      "text/plain": [
       "0.003004076862678824"
      ]
     },
     "execution_count": 18,
     "metadata": {},
     "output_type": "execute_result"
    }
   ],
   "source": [
    "np.mean(1/np.array(volumes_1[300:]))"
   ]
  },
  {
   "cell_type": "code",
   "execution_count": 19,
   "id": "b479577f",
   "metadata": {},
   "outputs": [
    {
     "data": {
      "text/plain": [
       "7.172201668744358e-06"
      ]
     },
     "execution_count": 19,
     "metadata": {},
     "output_type": "execute_result"
    }
   ],
   "source": [
    "np.std(1/np.array(volumes_1[300:]))"
   ]
  },
  {
   "cell_type": "code",
   "execution_count": 63,
   "id": "0546f3f4",
   "metadata": {},
   "outputs": [
    {
     "data": {
      "text/plain": [
       "[<matplotlib.lines.Line2D at 0x2ba2806b1730>]"
      ]
     },
     "execution_count": 63,
     "metadata": {},
     "output_type": "execute_result"
    },
    {
     "data": {
      "image/png": "[encoded data removed]",
      "text/plain": [
       "<Figure size 432x288 with 1 Axes>"
      ]
     },
     "metadata": {
      "needs_background": "light"
     },
     "output_type": "display_data"
    }
   ],
   "source": [
    "plt.plot((np.array(energies_1_with_correction) - np.array(energies_1_without_correction))*np.array(volumes_1))"
   ]
  },
  {
   "cell_type": "code",
   "execution_count": 64,
   "id": "2b10cced",
   "metadata": {},
   "outputs": [
    {
     "data": {
      "text/plain": [
       "0.01059640580255585"
      ]
     },
     "execution_count": 64,
     "metadata": {},
     "output_type": "execute_result"
    }
   ],
   "source": [
    "np.mean((np.array(energies_1_with_correction) - np.array(energies_1_without_correction))*np.array(volumes_1))"
   ]
  },
  {
   "cell_type": "code",
   "execution_count": 65,
   "id": "d85c1dad",
   "metadata": {},
   "outputs": [
    {
     "data": {
      "text/plain": [
       "1.7721596099536656"
      ]
     },
     "execution_count": 65,
     "metadata": {},
     "output_type": "execute_result"
    }
   ],
   "source": [
    "np.std((np.array(energies_1_with_correction) - np.array(energies_1_without_correction))*np.array(volumes_1))"
   ]
  },
  {
   "cell_type": "code",
   "execution_count": null,
   "id": "73ddf424",
   "metadata": {},
   "outputs": [],
   "source": []
  }
 ],
 "metadata": {
  "kernelspec": {
   "display_name": "Python 3 (ipykernel)",
   "language": "python",
   "name": "python3"
  },
  "language_info": {
   "codemirror_mode": {
    "name": "ipython",
    "version": 3
   },
   "file_extension": ".py",
   "mimetype": "text/x-python",
   "name": "python",
   "nbconvert_exporter": "python",
   "pygments_lexer": "ipython3",
   "version": "3.9.7"
  }
 },
 "nbformat": 4,
 "nbformat_minor": 5
}
