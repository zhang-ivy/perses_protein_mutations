{
 "cells": [
  {
   "cell_type": "code",
   "execution_count": 2,
   "id": "adcc1134",
   "metadata": {},
   "outputs": [
    {
     "name": "stderr",
     "output_type": "stream",
     "text": [
      "Warning: importing 'simtk.openmm' is deprecated.  Import 'openmm' instead.\n",
      "INFO:rdkit:Enabling RDKit 2021.03.4 jupyter extensions\n"
     ]
    },
    {
     "name": "stdout",
     "output_type": "stream",
     "text": [
      "conducting subsequent work with the following platform: CUDA\n"
     ]
    }
   ],
   "source": [
    "###########################################\n",
    "# IMPORTS\n",
    "###########################################\n",
    "from openmmtools.states import SamplerState, ThermodynamicState, CompoundThermodynamicState\n",
    "from simtk import unit, openmm\n",
    "from perses.tests.utils import compute_potential_components\n",
    "from openmmtools.constants import kB\n",
    "from perses.dispersed.utils import configure_platform\n",
    "from perses.annihilation.rest import RESTTopologyFactory\n",
    "from perses.annihilation.lambda_protocol import RESTState, RESTCapableRelativeAlchemicalState, RESTCapableLambdaProtocol\n",
    "import numpy as np\n",
    "from perses.tests.test_topology_proposal import generate_atp, generate_dipeptide_top_pos_sys\n",
    "from openmmtools.testsystems import AlanineDipeptideVacuum, AlanineDipeptideExplicit\n",
    "import itertools\n",
    "import copy\n",
    "\n",
    "import pickle\n",
    "\n",
    "#############################################\n",
    "# CONSTANTS\n",
    "#############################################\n",
    "temperature = 300.0 * unit.kelvin\n",
    "kT = kB * temperature\n",
    "beta = 1.0/kT\n",
    "REFERENCE_PLATFORM = openmm.Platform.getPlatformByName(\"CUDA\")"
   ]
  },
  {
   "cell_type": "markdown",
   "id": "c238807c",
   "metadata": {},
   "source": [
    "# Run scaling test v2 (allows testing PME)"
   ]
  },
  {
   "cell_type": "code",
   "execution_count": 14,
   "id": "a8ddf76a",
   "metadata": {},
   "outputs": [],
   "source": [
    "def test_energy_scaling():\n",
    "    \"\"\"\n",
    "        Test whether the energy of a REST-ified system is equal to the energy of the system with terms manually scaled by\n",
    "        the same factor as is used in REST.  T_min is 300 K and the thermodynamic state has temperature 600 K.\n",
    "    \"\"\"\n",
    "\n",
    "    # Set temperatures\n",
    "    T_min = 300.0 * unit.kelvin\n",
    "    T = 600 * unit.kelvin\n",
    "\n",
    "    ## CASE 1: alanine dipeptide in vacuum\n",
    "    # Create vanilla system\n",
    "    ala = AlanineDipeptideVacuum()\n",
    "    system = ala.system\n",
    "    system.removeForce(4)\n",
    "    positions = ala.positions\n",
    "    topology = ala.topology\n",
    "\n",
    "    # Create REST system\n",
    "    res1 = list(ala.topology.residues())[1]\n",
    "    rest_atoms = [atom.index for atom in res1.atoms()]\n",
    "    factory = RESTTopologyFactory(system, solute_region=rest_atoms)\n",
    "    REST_system = factory.REST_system\n",
    "\n",
    "    # Check energy scaling\n",
    "    compare_energies(REST_system, system, positions, rest_atoms, T_min, T)\n",
    "\n",
    "    ## CASE 2: alanine dipeptide in solvent\n",
    "    # Create vanilla system\n",
    "    ala = AlanineDipeptideExplicit()\n",
    "    system = ala.system\n",
    "    system.removeForce(4)\n",
    "    positions = ala.positions\n",
    "    topology = ala.topology\n",
    "\n",
    "    # Create REST system\n",
    "    \n",
    "    res1 = list(ala.topology.residues())[1]\n",
    "    rest_atoms = [atom.index for atom in res1.atoms()]\n",
    "    factory = RESTTopologyFactory(system, solute_region=rest_atoms, use_dispersion_correction=True)\n",
    "    REST_system = factory.REST_system\n",
    "\n",
    "    # Check energy scaling\n",
    "    compare_energies(REST_system, system, positions, rest_atoms, T_min, T)\n",
    "\n",
    "    ## CASE 3: alanine dipeptide in solvent with repartitioned hybrid system\n",
    "    # Create repartitioned hybrid system for lambda 0 endstate\n",
    "    atp, system_generator = generate_atp(phase='solvent')\n",
    "    htf = generate_dipeptide_top_pos_sys(atp.topology,\n",
    "                                         new_res='THR',\n",
    "                                         system=atp.system,\n",
    "                                         positions=atp.positions,\n",
    "                                         system_generator=system_generator,\n",
    "                                         conduct_htf_prop=True,\n",
    "                                         repartitioned=True,\n",
    "                                         endstate=0,\n",
    "                                         validate_endstate_energy=False)\n",
    "    system = htf.hybrid_system\n",
    "    system.removeForce(0) # Remove barostat\n",
    "\n",
    "    # Create REST-ified hybrid system\n",
    "    res1 = list(htf.hybrid_topology.residues)[1]\n",
    "    rest_atoms = [atom.index for atom in list(res1.atoms)]\n",
    "    factory = RESTTopologyFactory(system, solute_region=rest_atoms, use_dispersion_correction=True)\n",
    "    REST_system = factory.REST_system\n",
    "\n",
    "    # Check energy scaling\n",
    "    compare_energies(REST_system, system, htf.hybrid_positions, rest_atoms, T_min, T)"
   ]
  },
  {
   "cell_type": "code",
   "execution_count": 15,
   "id": "847d15b1",
   "metadata": {},
   "outputs": [],
   "source": [
    "def compare_energies(REST_system, other_system, positions, rest_atoms, T_min, T):\n",
    "\n",
    "#     # Zero nb forces\n",
    "#     nb_force = REST_system.getForce(3)\n",
    "#     for i in range(nb_force.getNumParticles()):\n",
    "#         charge, sigma, epsilon = nb_force.getParticleParameters(i)\n",
    "#         nb_force.setParticleParameters(i, charge*0, sigma, epsilon*0)\n",
    "    \n",
    "#     # Zero exceptions force\n",
    "#     for i in range(nb_force.getNumExceptions()):\n",
    "#         p1, p2, chargeProd, sigma, epsilon = nb_force.getExceptionParameters(i)\n",
    "#         nb_force.setExceptionParameters(i, p1, p2, chargeProd*0, sigma, epsilon*0)\n",
    "    \n",
    "#     for i in range(nb_force.getNumParticleParameterOffsets()):\n",
    "#         param, particle_idx, chargeScale, sigmaScale, epsilonScale = nb_force.getParticleParameterOffset(i)\n",
    "#         nb_force.setParticleParameterOffset(i, 'electrostatic_scale', particle_idx, 0.0, 0.0, 0.0)\n",
    "#         nb_force.setParticleParameterOffset(i, 'steric_scale', particle_idx, 0.0, 0.0, 0.0)\n",
    "\n",
    "#     for i in range(nb_force.getNumExceptionParameterOffsets()):\n",
    "#         param, exception_idx, chargeScale, sigmaScale, epsilonScale = nb_force.getExceptionParameterOffset(i)\n",
    "#         nb_force.setExceptionParameterOffset(i, 'electrostatic_scale', exception_idx, 0.0, 0.0, 0.0)\n",
    "#         nb_force.setExceptionParameterOffset(i, 'steric_scale', exception_idx, 0.0, 0.0, 0.0)\n",
    "\n",
    "#     nb_force = other_system.getForce(3)\n",
    "#     for i in range(nb_force.getNumExceptions()):\n",
    "#         p1, p2, chargeProd, sigma, epsilon = nb_force.getExceptionParameters(i)\n",
    "#         nb_force.setExceptionParameters(i, p1, p2, chargeProd*0, sigma, epsilon*0)\n",
    "\n",
    "#     for i in range(nb_force.getNumParticles()):\n",
    "#         charge, sigma, epsilon = nb_force.getParticleParameters(i)\n",
    "#         nb_force.setParticleParameters(i, charge*0, sigma, epsilon*0)\n",
    "    \n",
    "    # Create thermodynamic state\n",
    "    lambda_zero_alchemical_state = RESTState.from_system(REST_system)\n",
    "    thermostate = ThermodynamicState(REST_system, temperature=T_min)\n",
    "    compound_thermodynamic_state = CompoundThermodynamicState(thermostate,\n",
    "                                                              composable_states=[lambda_zero_alchemical_state])\n",
    "\n",
    "    # Set alchemical parameters\n",
    "    beta_0 = 1 / (kB * T_min)\n",
    "    beta_m = 1 / (kB * T)\n",
    "    compound_thermodynamic_state.set_alchemical_parameters(beta_0, beta_m)\n",
    "\n",
    "    # Get energy\n",
    "    integrator = openmm.VerletIntegrator(1.0 * unit.femtosecond)\n",
    "    context = compound_thermodynamic_state.create_context(integrator)\n",
    "    context.setPositions(positions)\n",
    "#     sampler_state = SamplerState.from_context(context)\n",
    "#     REST_energy = compound_thermodynamic_state.reduced_potential(sampler_state)\n",
    "    REST_energy = context.getState(getEnergy=True).getPotentialEnergy().value_in_unit_system(unit.md_unit_system)\n",
    "\n",
    "    # Compute energy for non-RESTified system\n",
    "    # Determine regions and scaling factors\n",
    "    nonrest_atoms = [i for i in range(other_system.getNumParticles()) if i not in rest_atoms]\n",
    "    rest_scaling = beta_m / beta_0\n",
    "    inter_scaling = np.sqrt(beta_m / beta_0)\n",
    "    \n",
    "    # Compute 3 energies: \n",
    "    ## Test case 1: rest-rest energy\n",
    "    ## Test case 2: nonrest-nonrest energy\n",
    "    ## Test case 3: total energy\n",
    "    unmodified_energies = []\n",
    "    for test_case in range(3):\n",
    "        system_copy = copy.deepcopy(other_system)\n",
    "        \n",
    "        if test_case != 2:\n",
    "            bond_force = system_copy.getForce(0)\n",
    "            for bond_index in range(bond_force.getNumBonds()):\n",
    "                p1, p2, length, k = bond_force.getBondParameters(bond_index)\n",
    "                particles = [p1, p2]\n",
    "                if all(x in rest_atoms for x in particles):\n",
    "                    if test_case == 1:\n",
    "                        bond_force.setBondParameters(bond_index, p1, p2, length, k*0)\n",
    "                    else:\n",
    "                        continue\n",
    "                elif all(x in nonrest_atoms for x in particles):\n",
    "                    if test_case == 0:\n",
    "                        bond_force.setBondParameters(bond_index, p1, p2, length, k*0)\n",
    "                    else:\n",
    "                        continue\n",
    "                else:\n",
    "                    bond_force.setBondParameters(bond_index, p1, p2, length, k*0)\n",
    "\n",
    "            angle_force = system_copy.getForce(1)\n",
    "            for angle_index in range(angle_force.getNumAngles()):\n",
    "                p1, p2, p3, angle, k = angle_force.getAngleParameters(angle_index)\n",
    "                particles = [p1, p2, p3]\n",
    "                if all(x in rest_atoms for x in particles):\n",
    "                    if test_case == 1:\n",
    "                        angle_force.setAngleParameters(angle_index, p1, p2, p3, angle, k*0) \n",
    "                    else:\n",
    "                        continue\n",
    "                elif all(x in nonrest_atoms for x in particles):\n",
    "                    if test_case == 0:\n",
    "                        angle_force.setAngleParameters(angle_index, p1, p2, p3, angle, k*0) \n",
    "                    else:\n",
    "                        continue\n",
    "                else:\n",
    "                    angle_force.setAngleParameters(angle_index, p1, p2, p3, angle, k*0) \n",
    "\n",
    "            torsion_force = system_copy.getForce(2)\n",
    "            for torsion_index in range(torsion_force.getNumTorsions()):\n",
    "                p1, p2, p3, p4, periodicity, phase, k = torsion_force.getTorsionParameters(torsion_index)\n",
    "                particles = [p1, p2, p3, p4]\n",
    "                if all(x in rest_atoms for x in particles):\n",
    "                    if test_case == 1:\n",
    "                        torsion_force.setTorsionParameters(torsion_index, p1, p2, p3, p4, periodicity, phase, k*0)\n",
    "                    else:\n",
    "                        continue\n",
    "                elif all(x in nonrest_atoms for x in particles):\n",
    "                    if test_case == 0:\n",
    "                        torsion_force.setTorsionParameters(torsion_index, p1, p2, p3, p4, periodicity, phase, k*0)\n",
    "                    else:\n",
    "                        continue\n",
    "                else:\n",
    "                    torsion_force.setTorsionParameters(torsion_index, p1, p2, p3, p4, periodicity, phase, k*0)\n",
    "\n",
    "            nb_force = system_copy.getForce(3)\n",
    "            for i in range(nb_force.getNumExceptions()):\n",
    "                p1, p2, chargeProd, sigma, epsilon = nb_force.getExceptionParameters(i)\n",
    "                particles = [p1, p2]\n",
    "                if all(x in rest_atoms for x in particles):\n",
    "                    if test_case == 1:\n",
    "                        nb_force.setExceptionParameters(i, p1, p2, chargeProd*0, sigma, epsilon*0)\n",
    "                    else:\n",
    "                        continue\n",
    "                elif all(x in nonrest_atoms for x in particles):\n",
    "                    if test_case == 0:\n",
    "                        nb_force.setExceptionParameters(i, p1, p2, chargeProd*0, sigma, epsilon*0)\n",
    "                    else:\n",
    "                        continue\n",
    "                else:\n",
    "                    nb_force.setExceptionParameters(i, p1, p2, chargeProd*0, sigma, epsilon*0)\n",
    "\n",
    "            nb_force = system_copy.getForce(3)\n",
    "            for i in range(nb_force.getNumParticles()):\n",
    "                charge, sigma, epsilon = nb_force.getParticleParameters(i)\n",
    "                if i in rest_atoms:\n",
    "                    if test_case == 1:\n",
    "                        nb_force.setParticleParameters(i, charge*0, sigma, epsilon*0)\n",
    "                    else:\n",
    "                        continue\n",
    "                else:\n",
    "                    if test_case == 0:\n",
    "                        nb_force.setParticleParameters(i, charge*0, sigma, epsilon*0)\n",
    "                    else:\n",
    "                        continue     \n",
    "            \n",
    "        # Get energy\n",
    "        thermostate = ThermodynamicState(system_copy, temperature=T_min)\n",
    "        integrator = openmm.VerletIntegrator(1.0 * unit.femtosecond)\n",
    "        context = thermostate.create_context(integrator)\n",
    "        context.setPositions(positions)\n",
    "#         sampler_state = SamplerState.from_context(context)\n",
    "#         system_copy_energy = thermostate.reduced_potential(sampler_state)\n",
    "        system_copy_energy = context.getState(getEnergy=True).getPotentialEnergy().value_in_unit_system(unit.md_unit_system)\n",
    "        unmodified_energies.append(system_copy_energy)\n",
    "    \n",
    "    print(unmodified_energies)\n",
    "    unmodified_energy = unmodified_energies[0] * rest_scaling + unmodified_energies[1] + (unmodified_energies[2] - unmodified_energies[0] - unmodified_energies[1]) * inter_scaling\n",
    "    print(REST_energy)\n",
    "    print(unmodified_energy)\n",
    "    assert np.isclose(REST_energy, unmodified_energy), f\"REST energy was {REST_energy} and unmodified_energy was {unmodified_energy}\"\n",
    "                            "
   ]
  },
  {
   "cell_type": "code",
   "execution_count": 18,
   "id": "11d67ffe",
   "metadata": {
    "scrolled": true
   },
   "outputs": [
    {
     "name": "stderr",
     "output_type": "stream",
     "text": [
      "INFO:REST:No MonteCarloBarostat added.\n",
      "INFO:REST:getDefaultPeriodicBoxVectors added to hybrid: [Quantity(value=Vec3(x=2.0, y=0.0, z=0.0), unit=nanometer), Quantity(value=Vec3(x=0.0, y=2.0, z=0.0), unit=nanometer), Quantity(value=Vec3(x=0.0, y=0.0, z=2.0), unit=nanometer)]\n",
      "INFO:REST:No unknown forces.\n",
      "INFO:REST:No MonteCarloBarostat added.\n",
      "INFO:REST:getDefaultPeriodicBoxVectors added to hybrid: [Quantity(value=Vec3(x=3.2852863, y=0.0, z=0.0), unit=nanometer), Quantity(value=Vec3(x=0.0, y=3.2861648000000003, z=0.0), unit=nanometer), Quantity(value=Vec3(x=0.0, y=0.0, z=3.1855098), unit=nanometer)]\n",
      "INFO:REST:No unknown forces.\n"
     ]
    },
    {
     "name": "stdout",
     "output_type": "stream",
     "text": [
      "[99.16267167200934, -43.86889880970683, -88.08855116600438]\n",
      "-95.67415484266755\n",
      "-95.67417659640483\n",
      "[99.11655729667459, -24568.413671886898, -24659.27016879196]\n",
      "-24653.19382010929\n",
      "-24653.18662810733\n"
     ]
    },
    {
     "name": "stderr",
     "output_type": "stream",
     "text": [
      "DEBUG:openmmforcefields.system_generators:Trying GAFFTemplateGenerator to load gaff-2.11\n",
      "INFO:proposal_generator:\tConducting polymer point mutation proposal...\n",
      "WARNING:atom_mapping:Molecules do not appear to share a common scaffold.\n",
      "WARNING:atom_mapping:Proceeding with direct mapping of molecules, but please check atom mapping and the geometry of the ligands.\n",
      "INFO:proposal_generator:[Atom(name=CB, atomic number=6), Atom(name=HB1, atomic number=1), Atom(name=HB2, atomic number=1), Atom(name=HB3, atomic number=1)]\n",
      "INFO:proposal_generator:[Atom(name=CB, atomic number=6), Atom(name=CG2, atomic number=6), Atom(name=OG1, atomic number=8), Atom(name=HB, atomic number=1), Atom(name=HG1, atomic number=1), Atom(name=HG21, atomic number=1), Atom(name=HG22, atomic number=1), Atom(name=HG23, atomic number=1)]\n"
     ]
    },
    {
     "name": "stdout",
     "output_type": "stream",
     "text": [
      "making topology proposal\n"
     ]
    },
    {
     "name": "stderr",
     "output_type": "stream",
     "text": [
      "INFO:geometry:propose: performing forward proposal\n",
      "INFO:geometry:propose: unique new atoms detected; proceeding to _logp_propose...\n",
      "INFO:geometry:Conducting forward proposal...\n",
      "INFO:geometry:Computing proposal order with NetworkX...\n",
      "INFO:geometry:number of atoms to be placed: 6\n",
      "INFO:geometry:Atom index proposal order is [14, 18, 17, 15, 19, 16]\n",
      "INFO:geometry:omitted_bonds: []\n",
      "INFO:geometry:direction of proposal is forward; creating atoms_with_positions and new positions from old system/topology...\n"
     ]
    },
    {
     "name": "stdout",
     "output_type": "stream",
     "text": [
      "generating geometry engine\n",
      "making geometry proposal from ALA to THR\n"
     ]
    },
    {
     "name": "stderr",
     "output_type": "stream",
     "text": [
      "INFO:geometry:creating growth system...\n",
      "INFO:geometry:\tcreating bond force...\n",
      "INFO:geometry:\tthere are 11 bonds in reference force.\n",
      "INFO:geometry:\tcreating angle force...\n",
      "INFO:geometry:\tthere are 43 angles in reference force.\n",
      "INFO:geometry:\tcreating torsion force...\n",
      "INFO:geometry:\tcreating extra torsions force...\n",
      "INFO:geometry:\tthere are 72 torsions in reference force.\n",
      "INFO:geometry:\tcreating nonbonded force...\n",
      "INFO:geometry:\t\tgrabbing reference nonbonded method, cutoff, switching function, switching distance...\n",
      "INFO:geometry:\t\tcreating nonbonded exception force (i.e. custom bond for 1,4s)...\n",
      "INFO:geometry:\t\tlooping through exceptions calculating growth indices, and adding appropriate interactions to custom bond force.\n",
      "INFO:geometry:\t\tthere are 1654 in the reference Nonbonded force\n",
      "INFO:geometry:Neglected angle terms : []\n",
      "INFO:geometry:omitted_growth_terms: {'bonds': [], 'angles': [], 'torsions': [], '1,4s': []}\n",
      "INFO:geometry:extra torsions: {0: (19, 18, 10, 8, [1, Quantity(value=-0.07858019216845058, unit=radian), Quantity(value=1200.0, unit=kilocalorie/mole), 5]), 1: (19, 18, 10, 14, [1, Quantity(value=2.118586571250296, unit=radian), Quantity(value=1200.0, unit=kilocalorie/mole), 5]), 2: (19, 18, 10, 13, [1, Quantity(value=-2.149781203448759, unit=radian), Quantity(value=1200.0, unit=kilocalorie/mole), 5]), 3: (8, 10, 14, 17, [1, Quantity(value=-2.1249532223845904, unit=radian), Quantity(value=1200.0, unit=kilocalorie/mole), 3]), 4: (8, 10, 14, 16, [1, Quantity(value=2.0543043017157916, unit=radian), Quantity(value=1200.0, unit=kilocalorie/mole), 6]), 5: (8, 10, 14, 15, [1, Quantity(value=-0.02223392579985184, unit=radian), Quantity(value=1200.0, unit=kilocalorie/mole), 4]), 6: (18, 10, 14, 17, [1, Quantity(value=2.0255587336734213, unit=radian), Quantity(value=1200.0, unit=kilocalorie/mole), 3]), 7: (18, 10, 14, 16, [1, Quantity(value=-0.07836904940578293, unit=radian), Quantity(value=1200.0, unit=kilocalorie/mole), 6]), 8: (18, 10, 14, 15, [1, Quantity(value=-2.154907276921426, unit=radian), Quantity(value=1200.0, unit=kilocalorie/mole), 4]), 9: (13, 10, 14, 17, [1, Quantity(value=0.007583009583349565, unit=radian), Quantity(value=1200.0, unit=kilocalorie/mole), 3]), 10: (13, 10, 14, 16, [1, Quantity(value=-2.096344773495849, unit=radian), Quantity(value=1200.0, unit=kilocalorie/mole), 6]), 11: (13, 10, 14, 15, [1, Quantity(value=2.1103023061680943, unit=radian), Quantity(value=1200.0, unit=kilocalorie/mole), 4]), 12: (14, 10, 8, 18, [1, Quantity(value=1.0655064807976995, unit=radian), Quantity(value=1200.0, unit=kilocalorie/mole), 2])}\n",
      "INFO:geometry:neglected angle terms include []\n",
      "INFO:geometry:log probability choice of torsions and atom order: -10.462874742916549\n",
      "INFO:geometry:creating platform, integrators, and contexts; setting growth parameter\n"
     ]
    },
    {
     "name": "stdout",
     "output_type": "stream",
     "text": [
      "conducting subsequent work with the following platform: CUDA\n"
     ]
    },
    {
     "name": "stderr",
     "output_type": "stream",
     "text": [
      "INFO:geometry:setting atoms_with_positions context new positions\n"
     ]
    },
    {
     "name": "stdout",
     "output_type": "stream",
     "text": [
      "conducting subsequent work with the following platform: CUDA\n"
     ]
    },
    {
     "name": "stderr",
     "output_type": "stream",
     "text": [
      "INFO:geometry:There are 6 new atoms\n",
      "INFO:geometry:\treduced angle potential = 0.016981347129623535.\n",
      "INFO:geometry:\treduced angle potential = 0.005093936715684544.\n",
      "INFO:geometry:\treduced angle potential = 1.248656142948018.\n",
      "INFO:geometry:\treduced angle potential = 1.7287424922210293.\n",
      "INFO:geometry:\treduced angle potential = 0.3123291381457235.\n",
      "INFO:geometry:\treduced angle potential = 0.15940799278644846.\n",
      "INFO:geometry:\tbeginning construction of no_nonbonded final system...\n",
      "INFO:geometry:\tinitial no-nonbonded final system forces ['HarmonicBondForce', 'HarmonicAngleForce', 'PeriodicTorsionForce', 'NonbondedForce', 'MonteCarloBarostat']\n",
      "INFO:geometry:\tfinal no-nonbonded final system forces dict_keys(['HarmonicBondForce', 'HarmonicAngleForce', 'PeriodicTorsionForce', 'NonbondedForce'])\n",
      "INFO:geometry:\tthere are 11 bond forces in the no-nonbonded final system\n",
      "INFO:geometry:\tthere are 43 angle forces in the no-nonbonded final system\n",
      "INFO:geometry:\tthere are 72 torsion forces in the no-nonbonded final system\n",
      "INFO:geometry:forward final system defined with 0 neglected angles.\n"
     ]
    },
    {
     "name": "stdout",
     "output_type": "stream",
     "text": [
      "conducting subsequent work with the following platform: CUDA\n"
     ]
    },
    {
     "name": "stderr",
     "output_type": "stream",
     "text": [
      "INFO:geometry:total reduced potential before atom placement: 16.815513847873078\n"
     ]
    },
    {
     "name": "stdout",
     "output_type": "stream",
     "text": [
      "conducting subsequent work with the following platform: CUDA\n",
      "conducting subsequent work with the following platform: CUDA\n",
      "conducting subsequent work with the following platform: CUDA\n",
      "conducting subsequent work with the following platform: CUDA\n"
     ]
    },
    {
     "name": "stderr",
     "output_type": "stream",
     "text": [
      "INFO:geometry:total reduced energy added from growth system: -54.33331783373363\n",
      "INFO:geometry:final reduced energy -37.51780442070653\n",
      "INFO:geometry:sum of energies: -37.51780398586055\n",
      "INFO:geometry:magnitude of difference in the energies: 4.3484597966880756e-07\n",
      "INFO:geometry:Final logp_proposal: 45.56341936342642\n",
      "INFO:geometry:logp_reverse: performing reverse proposal\n",
      "INFO:geometry:logp_reverse: unique new atoms detected; proceeding to _logp_propose...\n",
      "INFO:geometry:Conducting forward proposal...\n",
      "INFO:geometry:Computing proposal order with NetworkX...\n",
      "INFO:geometry:number of atoms to be placed: 2\n",
      "INFO:geometry:Atom index proposal order is [13, 12]\n",
      "INFO:geometry:omitted_bonds: []\n",
      "INFO:geometry:direction of proposal is reverse; creating atoms_with_positions from old system/topology\n"
     ]
    },
    {
     "name": "stdout",
     "output_type": "stream",
     "text": [
      "added energy components: [('CustomBondForce', 0.8144506729290285), ('CustomAngleForce', 4.590479418047062), ('CustomTorsionForce', 10.506513235499154), ('CustomBondForce', -70.2447611602089)]\n"
     ]
    },
    {
     "name": "stderr",
     "output_type": "stream",
     "text": [
      "INFO:geometry:creating growth system...\n",
      "INFO:geometry:\tcreating bond force...\n",
      "INFO:geometry:\tthere are 9 bonds in reference force.\n",
      "INFO:geometry:\tcreating angle force...\n",
      "INFO:geometry:\tthere are 36 angles in reference force.\n",
      "INFO:geometry:\tcreating torsion force...\n",
      "INFO:geometry:\tcreating extra torsions force...\n",
      "INFO:geometry:\tthere are 42 torsions in reference force.\n",
      "INFO:geometry:\tcreating nonbonded force...\n",
      "INFO:geometry:\t\tgrabbing reference nonbonded method, cutoff, switching function, switching distance...\n",
      "INFO:geometry:\t\tcreating nonbonded exception force (i.e. custom bond for 1,4s)...\n",
      "INFO:geometry:\t\tlooping through exceptions calculating growth indices, and adding appropriate interactions to custom bond force.\n",
      "INFO:geometry:\t\tthere are 1631 in the reference Nonbonded force\n",
      "INFO:geometry:Neglected angle terms : []\n",
      "INFO:geometry:omitted_growth_terms: {'bonds': [], 'angles': [], 'torsions': [], '1,4s': []}\n",
      "INFO:geometry:extra torsions: {0: (6, 8, 10, 12, [1, Quantity(value=-2.0823006129211796, unit=radian), Quantity(value=1200.0, unit=kilocalorie/mole), 2]), 1: (6, 8, 10, 13, [1, Quantity(value=0.018582237407944735, unit=radian), Quantity(value=1200.0, unit=kilocalorie/mole), 1]), 2: (14, 8, 10, 12, [1, Quantity(value=2.0585806937220097, unit=radian), Quantity(value=1200.0, unit=kilocalorie/mole), 2]), 3: (14, 8, 10, 13, [1, Quantity(value=-2.1237217631284597, unit=radian), Quantity(value=1200.0, unit=kilocalorie/mole), 1]), 4: (9, 8, 10, 12, [1, Quantity(value=-0.024077640411697132, unit=radian), Quantity(value=1200.0, unit=kilocalorie/mole), 2]), 5: (9, 8, 10, 13, [1, Quantity(value=2.0768052099174152, unit=radian), Quantity(value=1200.0, unit=kilocalorie/mole), 1])}\n",
      "INFO:geometry:neglected angle terms include []\n",
      "INFO:geometry:log probability choice of torsions and atom order: -2.8903717578961645\n",
      "INFO:geometry:creating platform, integrators, and contexts; setting growth parameter\n"
     ]
    },
    {
     "name": "stdout",
     "output_type": "stream",
     "text": [
      "conducting subsequent work with the following platform: CUDA\n"
     ]
    },
    {
     "name": "stderr",
     "output_type": "stream",
     "text": [
      "INFO:geometry:setting atoms_with_positions context old positions\n"
     ]
    },
    {
     "name": "stdout",
     "output_type": "stream",
     "text": [
      "conducting subsequent work with the following platform: CUDA\n"
     ]
    },
    {
     "name": "stderr",
     "output_type": "stream",
     "text": [
      "INFO:geometry:There are 2 new atoms\n",
      "INFO:geometry:\treduced angle potential = 7.39096069988752e-11.\n",
      "INFO:geometry:\treduced angle potential = 3.205832446488702e-13.\n",
      "INFO:geometry:\tbeginning construction of no_nonbonded final system...\n",
      "INFO:geometry:\tinitial no-nonbonded final system forces ['HarmonicBondForce', 'HarmonicAngleForce', 'PeriodicTorsionForce', 'NonbondedForce', 'MonteCarloBarostat']\n",
      "INFO:geometry:\tfinal no-nonbonded final system forces dict_keys(['HarmonicBondForce', 'HarmonicAngleForce', 'PeriodicTorsionForce', 'NonbondedForce'])\n",
      "INFO:geometry:\tthere are 9 bond forces in the no-nonbonded final system\n",
      "INFO:geometry:\tthere are 36 angle forces in the no-nonbonded final system\n",
      "INFO:geometry:\tthere are 42 torsion forces in the no-nonbonded final system\n",
      "INFO:geometry:reverse final system defined with 0 neglected angles.\n"
     ]
    },
    {
     "name": "stdout",
     "output_type": "stream",
     "text": [
      "conducting subsequent work with the following platform: CUDA\n"
     ]
    },
    {
     "name": "stderr",
     "output_type": "stream",
     "text": [
      "INFO:geometry:total reduced potential before atom placement: 16.815513847873078\n"
     ]
    },
    {
     "name": "stdout",
     "output_type": "stream",
     "text": [
      "conducting subsequent work with the following platform: CUDA\n",
      "conducting subsequent work with the following platform: CUDA\n",
      "conducting subsequent work with the following platform: CUDA\n",
      "conducting subsequent work with the following platform: CUDA\n"
     ]
    },
    {
     "name": "stderr",
     "output_type": "stream",
     "text": [
      "INFO:geometry:total reduced energy added from growth system: 5.747545230963934\n",
      "INFO:geometry:final reduced energy 22.563058899034125\n",
      "INFO:geometry:sum of energies: 22.56305907883701\n",
      "INFO:geometry:magnitude of difference in the energies: 1.798028863575496e-07\n",
      "INFO:geometry:Final logp_proposal: -17921.269846110896\n",
      "INFO:relative:*** Generating RepartitionedHybridTopologyFactory ***\n",
      "INFO:relative:Old system forces: dict_keys(['HarmonicBondForce', 'HarmonicAngleForce', 'PeriodicTorsionForce', 'NonbondedForce', 'MonteCarloBarostat'])\n",
      "INFO:relative:New system forces: dict_keys(['HarmonicBondForce', 'HarmonicAngleForce', 'PeriodicTorsionForce', 'NonbondedForce', 'MonteCarloBarostat'])\n",
      "INFO:relative:No unknown forces.\n",
      "INFO:relative:Nonbonded method to be used (i.e. from old system): 4\n",
      "INFO:relative:Adding and mapping old atoms to hybrid system...\n",
      "INFO:relative:Adding and mapping new atoms to hybrid system...\n",
      "INFO:relative:Added MonteCarloBarostat.\n",
      "INFO:relative:getDefaultPeriodicBoxVectors added to hybrid: [Quantity(value=Vec3(x=2.56477354, y=0.0, z=0.0), unit=nanometer), Quantity(value=Vec3(x=0.0, y=2.56477354, z=0.0), unit=nanometer), Quantity(value=Vec3(x=0.0, y=0.0, z=2.56477354), unit=nanometer)]\n",
      "INFO:relative:Determined atom classes.\n"
     ]
    },
    {
     "name": "stdout",
     "output_type": "stream",
     "text": [
      "added energy components: [('CustomBondForce', 0.0), ('CustomAngleForce', 0.00017810068841776427), ('CustomTorsionForce', 0.0028912052701551938), ('CustomBondForce', 5.744475925005359)]\n"
     ]
    },
    {
     "name": "stderr",
     "output_type": "stream",
     "text": [
      "INFO:relative:Generating old system exceptions dict...\n",
      "INFO:relative:Generating new system exceptions dict...\n",
      "INFO:relative:Handling constraints...\n",
      "INFO:relative:Handling virtual sites...\n",
      "INFO:relative:\t_handle_virtual_sites: numVirtualSites: 0\n",
      "INFO:relative:\t_add_nonbonded_force_terms: <openmm.openmm.NonbondedForce; proxy of <Swig Object of type 'OpenMM::NonbondedForce *' at 0x2ac57c020cc0> > added to hybrid system\n",
      "INFO:relative:\t_add_nonbonded_force_terms: nonbonded_method is PME or Ewald\n",
      "INFO:relative:\t_add_nonbonded_force_terms: 4 added to standard nonbonded force\n",
      "INFO:relative:\t_add_nonbonded_force_terms: 2 added to sterics_custom_nonbonded force\n",
      "INFO:REST:No MonteCarloBarostat added.\n",
      "INFO:REST:getDefaultPeriodicBoxVectors added to hybrid: [Quantity(value=Vec3(x=2.56477354, y=0.0, z=0.0), unit=nanometer), Quantity(value=Vec3(x=0.0, y=2.56477354, z=0.0), unit=nanometer), Quantity(value=Vec3(x=0.0, y=0.0, z=2.56477354), unit=nanometer)]\n",
      "INFO:REST:No unknown forces.\n"
     ]
    },
    {
     "name": "stdout",
     "output_type": "stream",
     "text": [
      "[-34.800948356611826, -2288.8878282656515, -2465.9308346738835]\n",
      "-2406.8687197496624\n",
      "-2406.8686262621886\n"
     ]
    }
   ],
   "source": [
    "test_energy_scaling()\n"
   ]
  },
  {
   "cell_type": "code",
   "execution_count": null,
   "id": "3d93ae0d",
   "metadata": {},
   "outputs": [],
   "source": []
  },
  {
   "cell_type": "code",
   "execution_count": 3,
   "id": "3ba8efd3",
   "metadata": {},
   "outputs": [],
   "source": [
    "def compare_energies_hybrid(htf, rest_atoms, T_min, T, is_old=True, is_solvated=False):\n",
    "    hybrid_system = htf.hybrid_system\n",
    "    hybrid_positions = htf.hybrid_positions\n",
    "    other_system = htf._topology_proposal.old_system if is_old else htf._topology_proposal.new_system\n",
    "    other_positions = htf.old_positions(htf.hybrid_positions) if is_old else htf.new_positions(htf.hybrid_positions)\n",
    "    \n",
    "    # Omit reciprocal space (because this cannot be scaled by rest)\n",
    "    reciprocal_space_force_index = 7 if is_solvated else 6\n",
    "    reciprocal_space_force = hybrid_system.getForce(reciprocal_space_force_index)\n",
    "    for i in range(reciprocal_space_force.getNumParticles()):\n",
    "        charge, sigma, epsilon = reciprocal_space_force.getParticleParameters(i)\n",
    "        reciprocal_space_force.setParticleParameters(i, charge*0, sigma*0, epsilon*0)\n",
    "    for i in range(reciprocal_space_force.getNumExceptions()):\n",
    "        p1, p2, chargeProd, sigma, epsilon = reciprocal_space_force.getExceptionParameters(i)\n",
    "        reciprocal_space_force.setExceptionParameters(i, p1, p2, chargeProd*0, sigma*0, epsilon*0)\n",
    "    \n",
    "    # Zero the unique old/new bonds in the hybrid system\n",
    "    bond_force_index = 1 if is_solvated else 0\n",
    "    angle_force_index = 2 if is_solvated else 1\n",
    "    torsion_force_index = 3 if is_solvated else 2\n",
    "    custom_bond_force = hybrid_system.getForce(bond_force_index)\n",
    "    custom_angle_force = hybrid_system.getForce(angle_force_index)\n",
    "    custom_torsion_force = hybrid_system.getForce(torsion_force_index)\n",
    "    hybrid_to_bond_indices = htf._hybrid_to_new_bond_indices if is_old else htf._hybrid_to_old_bond_indices\n",
    "    hybrid_to_angle_indices = htf._hybrid_to_new_angle_indices if is_old else htf._hybrid_to_old_angle_indices\n",
    "    hybrid_to_torsion_indices = htf._hybrid_to_new_torsion_indices if is_old else htf._hybrid_to_old_torsion_indices\n",
    "    for hybrid_idx, idx in hybrid_to_bond_indices.items():\n",
    "        p1, p2, hybrid_params = custom_bond_force.getBondParameters(hybrid_idx)\n",
    "        hybrid_params = list(hybrid_params)\n",
    "        hybrid_params[-2] *= 0 # zero K_old\n",
    "        hybrid_params[-1] *= 0 # zero K_new\n",
    "        custom_bond_force.setBondParameters(hybrid_idx, p1, p2, hybrid_params)\n",
    "    for hybrid_idx, idx in hybrid_to_angle_indices.items():\n",
    "        p1, p2, p3, hybrid_params = custom_angle_force.getAngleParameters(hybrid_idx)\n",
    "        hybrid_params = list(hybrid_params)\n",
    "        hybrid_params[-1] *= 0\n",
    "        hybrid_params[-2] *= 0\n",
    "        custom_angle_force.setAngleParameters(hybrid_idx, p1, p2, p3, hybrid_params)\n",
    "    for hybrid_idx, idx in hybrid_to_torsion_indices.items():\n",
    "        p1, p2, p3, p4, hybrid_params = custom_torsion_force.getTorsionParameters(hybrid_idx)\n",
    "        hybrid_params = list(hybrid_params)\n",
    "        hybrid_params[-1] *= 0\n",
    "        hybrid_params[-2] *= 0\n",
    "        custom_torsion_force.setTorsionParameters(hybrid_idx, p1, p2, p3, p4, hybrid_params)\n",
    "           \n",
    "    # Create thermodynamic state\n",
    "    lambda_protocol = RESTCapableLambdaProtocol(functions='no-alchemy')\n",
    "    lambda_zero_alchemical_state = RESTCapableRelativeAlchemicalState.from_system(hybrid_system)\n",
    "    thermostate = ThermodynamicState(hybrid_system, temperature=T_min)\n",
    "    compound_thermodynamic_state = CompoundThermodynamicState(thermostate,\n",
    "                                                              composable_states=[lambda_zero_alchemical_state])\n",
    "\n",
    "    # Set alchemical parameters\n",
    "    beta_0 = 1 / (kB * T_min)\n",
    "    beta_m = 1 / (kB * T)\n",
    "    global_lambda = 1\n",
    "    endstate = 0 if is_old else 1\n",
    "    compound_thermodynamic_state.set_alchemical_parameters(global_lambda, beta_0, beta_m, lambda_protocol=lambda_protocol, endstate=endstate)\n",
    "    \n",
    "    # Get energy\n",
    "    integrator = openmm.VerletIntegrator(1.0 * unit.femtosecond)\n",
    "    context = compound_thermodynamic_state.create_context(integrator)\n",
    "    context.setPositions(hybrid_positions)\n",
    "    context.setParameter('lambda_alchemical_electrostatics_reciprocal', 0) # Zero offsets for reciprocal space\n",
    "    REST_energy = context.getState(getEnergy=True).getPotentialEnergy().value_in_unit_system(unit.md_unit_system)\n",
    "\n",
    "    # Compute energy for non-RESTified system\n",
    "    # Determine regions and scaling factors\n",
    "    nonrest_atoms = [i for i in range(other_system.getNumParticles()) if i not in rest_atoms]\n",
    "    rest_scaling = beta_m / beta_0\n",
    "    inter_scaling = np.sqrt(beta_m / beta_0)\n",
    "    \n",
    "    # Compute 3 energies: \n",
    "    ## Test case 1: rest-rest energy\n",
    "    ## Test case 2: nonrest-nonrest energy\n",
    "    ## Test case 3: total energy\n",
    "    unmodified_energies = []\n",
    "    for test_case in range(3):\n",
    "        system_copy = copy.deepcopy(other_system)\n",
    "        \n",
    "        if test_case != 2:\n",
    "            bond_force = system_copy.getForce(0)\n",
    "            for bond_index in range(bond_force.getNumBonds()):\n",
    "                p1, p2, length, k = bond_force.getBondParameters(bond_index)\n",
    "                particles = [p1, p2]\n",
    "                if all(x in rest_atoms for x in particles):\n",
    "                    if test_case == 1:\n",
    "                        bond_force.setBondParameters(bond_index, p1, p2, length, k*0)\n",
    "                    else:\n",
    "                        continue\n",
    "                elif all(x in nonrest_atoms for x in particles):\n",
    "                    if test_case == 0:\n",
    "                        bond_force.setBondParameters(bond_index, p1, p2, length, k*0)\n",
    "                    else:\n",
    "                        continue\n",
    "                else:\n",
    "                    bond_force.setBondParameters(bond_index, p1, p2, length, k*0)\n",
    "\n",
    "            angle_force = system_copy.getForce(1)\n",
    "            for angle_index in range(angle_force.getNumAngles()):\n",
    "                p1, p2, p3, angle, k = angle_force.getAngleParameters(angle_index)\n",
    "                particles = [p1, p2, p3]\n",
    "                if all(x in rest_atoms for x in particles):\n",
    "                    if test_case == 1:\n",
    "                        angle_force.setAngleParameters(angle_index, p1, p2, p3, angle, k*0) \n",
    "                    else:\n",
    "                        continue\n",
    "                elif all(x in nonrest_atoms for x in particles):\n",
    "                    if test_case == 0:\n",
    "                        angle_force.setAngleParameters(angle_index, p1, p2, p3, angle, k*0) \n",
    "                    else:\n",
    "                        continue\n",
    "                else:\n",
    "                    angle_force.setAngleParameters(angle_index, p1, p2, p3, angle, k*0) \n",
    "\n",
    "            torsion_force = system_copy.getForce(2)\n",
    "            for torsion_index in range(torsion_force.getNumTorsions()):\n",
    "                p1, p2, p3, p4, periodicity, phase, k = torsion_force.getTorsionParameters(torsion_index)\n",
    "                particles = [p1, p2, p3, p4]\n",
    "                if all(x in rest_atoms for x in particles):\n",
    "                    if test_case == 1:\n",
    "                        torsion_force.setTorsionParameters(torsion_index, p1, p2, p3, p4, periodicity, phase, k*0)\n",
    "                    else:\n",
    "                        continue\n",
    "                elif all(x in nonrest_atoms for x in particles):\n",
    "                    if test_case == 0:\n",
    "                        torsion_force.setTorsionParameters(torsion_index, p1, p2, p3, p4, periodicity, phase, k*0)\n",
    "                    else:\n",
    "                        continue\n",
    "                else:\n",
    "                    torsion_force.setTorsionParameters(torsion_index, p1, p2, p3, p4, periodicity, phase, k*0)\n",
    "\n",
    "            nb_force = system_copy.getForce(3)\n",
    "            for i in range(nb_force.getNumExceptions()):\n",
    "                p1, p2, chargeProd, sigma, epsilon = nb_force.getExceptionParameters(i)\n",
    "                particles = [p1, p2]\n",
    "                if all(x in rest_atoms for x in particles):\n",
    "                    if test_case == 1:\n",
    "                        nb_force.setExceptionParameters(i, p1, p2, chargeProd*0, sigma, epsilon*0)\n",
    "                    else:\n",
    "                        continue\n",
    "                elif all(x in nonrest_atoms for x in particles):\n",
    "                    if test_case == 0:\n",
    "                        nb_force.setExceptionParameters(i, p1, p2, chargeProd*0, sigma, epsilon*0)\n",
    "                    else:\n",
    "                        continue\n",
    "                else:\n",
    "                    nb_force.setExceptionParameters(i, p1, p2, chargeProd*0, sigma, epsilon*0)\n",
    "\n",
    "            nb_force = system_copy.getForce(3)\n",
    "            for i in range(nb_force.getNumParticles()):\n",
    "                charge, sigma, epsilon = nb_force.getParticleParameters(i)\n",
    "                if i in rest_atoms:\n",
    "                    if test_case == 1:\n",
    "                        nb_force.setParticleParameters(i, charge*0, sigma, epsilon*0)\n",
    "                    else:\n",
    "                        continue\n",
    "                else:\n",
    "                    if test_case == 0:\n",
    "                        nb_force.setParticleParameters(i, charge*0, sigma, epsilon*0)\n",
    "                    else:\n",
    "                        continue     \n",
    "            \n",
    "        # Omit reciprocal space\n",
    "        system_copy.getForce(3).setReciprocalSpaceForceGroup(31)\n",
    "#         print(\"other system nb force direct space group: \", system_copy.getForce(3).getForceGroup())\n",
    "#         print(\"other system torsion force group: \", system_copy.getForce(2).getForceGroup())\n",
    "        \n",
    "        # Get energy\n",
    "        thermostate = ThermodynamicState(system_copy, temperature=T_min)\n",
    "        integrator = openmm.VerletIntegrator(1.0 * unit.femtosecond)\n",
    "        context = thermostate.create_context(integrator)\n",
    "        context.setPositions(other_positions)\n",
    "#         sampler_state = SamplerState.from_context(context)\n",
    "#         system_copy_energy = thermostate.reduced_potential(sampler_state)\n",
    "        system_copy_energy = context.getState(getEnergy=True, groups={0}).getPotentialEnergy().value_in_unit_system(unit.md_unit_system)\n",
    "        unmodified_energies.append(system_copy_energy)\n",
    "    \n",
    "    print(unmodified_energies)\n",
    "    unmodified_energy = unmodified_energies[0] * rest_scaling + unmodified_energies[1] + (unmodified_energies[2] - unmodified_energies[0] - unmodified_energies[1]) * inter_scaling\n",
    "    print(REST_energy)\n",
    "    print(unmodified_energy)\n",
    "    assert np.isclose(REST_energy, unmodified_energy), f\"REST energy was {REST_energy} and unmodified_energy was {unmodified_energy}\"\n",
    "                            "
   ]
  },
  {
   "cell_type": "code",
   "execution_count": 5,
   "id": "49677974",
   "metadata": {},
   "outputs": [],
   "source": [
    "with open(\"atp_solvent_scale_region.pickle\", \"rb\") as f:\n",
    "    htf = pickle.load(f)\n"
   ]
  },
  {
   "cell_type": "code",
   "execution_count": 11,
   "id": "dd0e1c35",
   "metadata": {},
   "outputs": [
    {
     "data": {
      "text/plain": [
       "[<openmm.openmm.CustomBondForce; proxy of <Swig Object of type 'OpenMM::CustomBondForce *' at 0x2b2a57647090> >,\n",
       " <openmm.openmm.CustomAngleForce; proxy of <Swig Object of type 'OpenMM::CustomAngleForce *' at 0x2b2a53fd1ae0> >,\n",
       " <openmm.openmm.CustomTorsionForce; proxy of <Swig Object of type 'OpenMM::CustomTorsionForce *' at 0x2b2a53fd1db0> >,\n",
       " <openmm.openmm.CustomNonbondedForce; proxy of <Swig Object of type 'OpenMM::CustomNonbondedForce *' at 0x2b2a53fd1d50> >,\n",
       " <openmm.openmm.CustomNonbondedForce; proxy of <Swig Object of type 'OpenMM::CustomNonbondedForce *' at 0x2b2a546586f0> >,\n",
       " <openmm.openmm.CustomBondForce; proxy of <Swig Object of type 'OpenMM::CustomBondForce *' at 0x2b2a54658660> >,\n",
       " <openmm.openmm.NonbondedForce; proxy of <Swig Object of type 'OpenMM::NonbondedForce *' at 0x2b2a54658600> >]"
      ]
     },
     "execution_count": 11,
     "metadata": {},
     "output_type": "execute_result"
    }
   ],
   "source": [
    "htf.hybrid_system.getForces()"
   ]
  },
  {
   "cell_type": "code",
   "execution_count": 6,
   "id": "206b5a44",
   "metadata": {},
   "outputs": [
    {
     "data": {
      "text/plain": [
       "{0, 1, 2, 3, 4, 5, 6, 7, 8, 9, 10, 11, 14, 15, 16, 17, 18, 19, 20, 21}"
      ]
     },
     "execution_count": 6,
     "metadata": {},
     "output_type": "execute_result"
    }
   ],
   "source": [
    "htf._atom_classes['core_atoms']"
   ]
  },
  {
   "cell_type": "code",
   "execution_count": 7,
   "id": "7b42a919",
   "metadata": {},
   "outputs": [
    {
     "data": {
      "text/plain": [
       "{12, 13}"
      ]
     },
     "execution_count": 7,
     "metadata": {},
     "output_type": "execute_result"
    }
   ],
   "source": [
    "htf._atom_classes['unique_old_atoms']"
   ]
  },
  {
   "cell_type": "code",
   "execution_count": 8,
   "id": "c2660e7e",
   "metadata": {},
   "outputs": [
    {
     "data": {
      "text/plain": [
       "{1557, 1558, 1559, 1560, 1561, 1562}"
      ]
     },
     "execution_count": 8,
     "metadata": {},
     "output_type": "execute_result"
    }
   ],
   "source": [
    "htf._atom_classes['unique_new_atoms']"
   ]
  },
  {
   "cell_type": "code",
   "execution_count": 9,
   "id": "cf9eb185",
   "metadata": {},
   "outputs": [
    {
     "name": "stdout",
     "output_type": "stream",
     "text": [
      "ala dipeptide in solvent at lambda = 0\n",
      "[10.033547687424486, 119656.2595678248, 119720.8221766204]\n",
      "119699.82968678446\n",
      "119699.83421054983\n",
      "ala dipeptide in solvent at lambda = 1\n",
      "[3329.783119775322, 119658.25804912952, 123043.05544347492]\n",
      "121362.0462282735\n",
      "121362.05057562774\n"
     ]
    }
   ],
   "source": [
    "#### Set temperatures\n",
    "T_min = 300.0 * unit.kelvin\n",
    "T = 600 * unit.kelvin\n",
    "\n",
    "# ## CASE 1: alanine dipeptide in vacuum\n",
    "# print(\"ala dipeptide in vacuum at lambda = 0\")\n",
    "# with open(\"atp_vacuum_scale_region.pickle\", \"rb\") as f:\n",
    "#     htf = pickle.load(f)\n",
    "\n",
    "# # Check energy scaling\n",
    "# rest_atoms = [htf._hybrid_to_old_map[index] for index in [10, 12, 13]]\n",
    "# compare_energies_hybrid(htf, rest_atoms, T_min, T)\n",
    "\n",
    "# print(\"ala dipeptide in vacuum at lambda = 1\")\n",
    "# with open(\"atp_vacuum_scale_region.pickle\", \"rb\") as f:\n",
    "#     htf = pickle.load(f)\n",
    "\n",
    "# # Check energy scaling\n",
    "# rest_atoms = [htf._hybrid_to_new_map[index] for index in [10, 12, 22, 23, 24, 25, 26, 27]]\n",
    "# compare_energies_hybrid(htf, rest_atoms, T_min, T, is_old=False)\n",
    "\n",
    "\n",
    "## CASE 2: alanine dipeptide in solvent\n",
    "print(\"ala dipeptide in solvent at lambda = 0\")\n",
    "with open(\"atp_solvent_scale_region.pickle\", \"rb\") as f:\n",
    "    htf = pickle.load(f)\n",
    "\n",
    "# Check energy scaling\n",
    "rest_atoms = [htf._hybrid_to_old_map[index] for index in [10, 11, 12, 13]]\n",
    "compare_energies_hybrid(htf, rest_atoms, T_min, T, is_solvated=True)\n",
    "\n",
    "print(\"ala dipeptide in solvent at lambda = 1\")\n",
    "with open(\"atp_solvent_scale_region.pickle\", \"rb\") as f:\n",
    "    htf = pickle.load(f)\n",
    "\n",
    "# Check energy scaling\n",
    "rest_atoms = [htf._hybrid_to_new_map[index] for index in [10, 11, 1557, 1558, 1559, 1560, 1561, 1562]]\n",
    "compare_energies_hybrid(htf, rest_atoms, T_min, T, is_old=False, is_solvated=True)\n",
    "\n"
   ]
  },
  {
   "cell_type": "code",
   "execution_count": null,
   "id": "53906eaf",
   "metadata": {},
   "outputs": [],
   "source": [
    "# Note: in order to get ala dipeptide in solvent tests passing, i need to use an htf that\n",
    "# was generated with rest scaling applied to all exceptions in custom exceptions expression\n",
    "# (including the subtracted out reciprocal space)"
   ]
  },
  {
   "cell_type": "code",
   "execution_count": null,
   "id": "80a2566c",
   "metadata": {},
   "outputs": [],
   "source": []
  }
 ],
 "metadata": {
  "kernelspec": {
   "display_name": "Python 3 (ipykernel)",
   "language": "python",
   "name": "python3"
  },
  "language_info": {
   "codemirror_mode": {
    "name": "ipython",
    "version": 3
   },
   "file_extension": ".py",
   "mimetype": "text/x-python",
   "name": "python",
   "nbconvert_exporter": "python",
   "pygments_lexer": "ipython3",
   "version": "3.8.11"
  }
 },
 "nbformat": 4,
 "nbformat_minor": 5
}
