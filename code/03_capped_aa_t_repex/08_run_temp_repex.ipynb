{
 "cells": [
  {
   "cell_type": "code",
   "execution_count": 1,
   "metadata": {},
   "outputs": [
    {
     "name": "stderr",
     "output_type": "stream",
     "text": [
      "DEBUG:matplotlib:$HOME=/home/zhangi\n",
      "DEBUG:matplotlib:CONFIGDIR=/home/zhangi/.config/matplotlib\n",
      "DEBUG:matplotlib:matplotlib data path: /home/zhangi/miniconda3/envs/perses-sims/lib/python3.7/site-packages/matplotlib/mpl-data\n",
      "DEBUG:matplotlib:loaded rc file /home/zhangi/miniconda3/envs/perses-sims/lib/python3.7/site-packages/matplotlib/mpl-data/matplotlibrc\n",
      "DEBUG:matplotlib:matplotlib version 3.1.1\n",
      "DEBUG:matplotlib:interactive is False\n",
      "DEBUG:matplotlib:platform is linux\n",
      "DEBUG:matplotlib:loaded modules: ['sys', 'builtins', '_frozen_importlib', '_imp', '_thread', '_warnings', '_weakref', 'zipimport', '_frozen_importlib_external', '_io', 'marshal', 'posix', 'encodings', 'codecs', '_codecs', 'encodings.aliases', 'encodings.utf_8', '_signal', '__main__', 'encodings.latin_1', 'io', 'abc', '_abc', '_bootlocale', '_locale', 'site', 'os', 'stat', '_stat', 'posixpath', 'genericpath', 'os.path', '_collections_abc', '_sitebuiltins', 'types', 'importlib', 'importlib._bootstrap', 'importlib._bootstrap_external', 'warnings', 'importlib.util', 'importlib.abc', 'importlib.machinery', 'contextlib', 'collections', 'operator', '_operator', 'keyword', 'heapq', '_heapq', 'itertools', 'reprlib', '_collections', 'functools', '_functools', 'mpl_toolkits', 'sphinxcontrib', 'encodings.cp437', 'runpy', 'pkgutil', 'weakref', '_weakrefset', 'ipykernel', 'ipykernel._version', 'ipykernel.connect', '__future__', 'json', 'json.decoder', 're', 'enum', 'sre_compile', '_sre', 'sre_parse', 'sre_constants', 'copyreg', 'json.scanner', '_json', 'json.encoder', 'subprocess', 'time', 'signal', 'errno', '_posixsubprocess', 'select', 'selectors', 'collections.abc', 'math', 'threading', 'traceback', 'linecache', 'tokenize', 'token', 'IPython', 'IPython.core', 'IPython.core.getipython', 'IPython.core.release', 'IPython.core.application', 'atexit', 'copy', 'glob', 'fnmatch', 'logging', 'string', '_string', 'shutil', 'zlib', 'bz2', '_compression', '_bz2', 'lzma', '_lzma', 'pwd', 'grp', 'traitlets', 'traitlets.traitlets', 'inspect', 'dis', 'opcode', '_opcode', 'six', 'struct', '_struct', 'traitlets.utils', 'traitlets.utils.getargspec', 'traitlets.utils.importstring', 'ipython_genutils', 'ipython_genutils._version', 'ipython_genutils.py3compat', 'ipython_genutils.encoding', 'locale', 'platform', 'traitlets.utils.sentinel', 'traitlets.utils.bunch', 'traitlets._version', 'traitlets.config', 'traitlets.config.application', 'decorator', 'traitlets.config.configurable', 'traitlets.config.loader', 'argparse', 'gettext', 'ast', '_ast', 'ipython_genutils.path', 'random', 'hashlib', '_hashlib', '_blake2', '_sha3', 'bisect', '_bisect', '_random', 'ipython_genutils.text', 'textwrap', 'ipython_genutils.importstring', 'IPython.core.crashhandler', 'pprint', 'IPython.core.ultratb', 'pydoc', 'urllib', 'urllib.parse', 'IPython.core.debugger', 'bdb', 'IPython.utils', 'IPython.utils.PyColorize', 'IPython.utils.coloransi', 'IPython.utils.ipstruct', 'IPython.utils.colorable', 'pygments', 'pygments.util', 'IPython.utils.py3compat', 'IPython.utils.encoding', 'IPython.core.excolors', 'IPython.testing', 'IPython.testing.skipdoctest', 'pdb', 'cmd', 'code', 'codeop', 'IPython.core.display_trap', 'IPython.utils.path', 'IPython.utils.process', 'IPython.utils._process_posix', 'pexpect', 'pexpect.exceptions', 'pexpect.utils', 'pexpect.expect', 'pexpect.pty_spawn', 'pty', 'tty', 'termios', 'ptyprocess', 'ptyprocess.ptyprocess', 'fcntl', 'resource', 'ptyprocess.util', 'pexpect.spawnbase', 'pexpect.run', 'IPython.utils._process_common', 'shlex', 'IPython.utils.decorators', 'IPython.utils.data', 'IPython.utils.terminal', 'IPython.utils.sysinfo', 'IPython.utils._sysinfo', 'IPython.core.profiledir', 'IPython.paths', 'tempfile', 'IPython.utils.importstring', 'IPython.terminal', 'IPython.terminal.embed', 'IPython.core.compilerop', 'IPython.core.magic_arguments', 'IPython.core.error', 'IPython.utils.text', 'pathlib', 'ntpath', 'IPython.core.magic', 'getopt', 'IPython.core.oinspect', 'typing', 'typing.io', 'typing.re', 'IPython.core.page', 'IPython.core.display', 'binascii', 'mimetypes', 'IPython.lib', 'IPython.lib.security', 'getpass', 'IPython.lib.pretty', 'datetime', '_datetime', 'IPython.utils.openpy', 'IPython.utils.dir2', 'IPython.utils.wildcard', 'pygments.lexers', 'pygments.lexers._mapping', 'pygments.modeline', 'pygments.plugin', 'pygments.lexers.python', 'pygments.lexer', 'pygments.filter', 'pygments.filters', 'pygments.token', 'pygments.regexopt', 'pygments.unistring', 'pygments.formatters', 'pygments.formatters._mapping', 'pygments.formatters.html', 'pygments.formatter', 'pygments.styles', 'IPython.core.inputtransformer2', 'IPython.core.interactiveshell', 'pickleshare', 'pickle', '_compat_pickle', '_pickle', 'IPython.core.prefilter', 'IPython.core.autocall', 'IPython.core.macro', 'IPython.core.splitinput', 'IPython.core.alias', 'IPython.core.builtin_trap', 'IPython.core.events', 'backcall', 'backcall.backcall', 'IPython.core.displayhook', 'IPython.core.displaypub', 'IPython.core.extensions', 'IPython.core.formatters', 'IPython.utils.sentinel', 'IPython.core.history', 'sqlite3', 'sqlite3.dbapi2', '_sqlite3', 'IPython.core.logger', 'IPython.core.payload', 'IPython.core.usage', 'IPython.display', 'IPython.lib.display', 'html', 'html.entities', 'IPython.utils.io', 'IPython.utils.capture', 'IPython.utils.strdispatch', 'IPython.core.hooks', 'IPython.utils.syspathcontext', 'IPython.utils.tempdir', 'IPython.utils.contexts', 'IPython.core.async_helpers', 'IPython.terminal.interactiveshell', 'asyncio', 'asyncio.base_events', 'concurrent', 'concurrent.futures', 'concurrent.futures._base', 'socket', '_socket', 'ssl', '_ssl', 'base64', 'asyncio.constants', 'asyncio.coroutines', 'asyncio.base_futures', 'asyncio.format_helpers', 'asyncio.log', 'asyncio.events', 'contextvars', '_contextvars', 'asyncio.base_tasks', '_asyncio', 'asyncio.futures', 'asyncio.protocols', 'asyncio.sslproto', 'asyncio.transports', 'asyncio.tasks', 'asyncio.locks', 'asyncio.runners', 'asyncio.queues', 'asyncio.streams', 'asyncio.subprocess', 'asyncio.unix_events', 'asyncio.base_subprocess', 'asyncio.selector_events', 'prompt_toolkit', 'prompt_toolkit.application', 'prompt_toolkit.application.application', 'prompt_toolkit.buffer', 'prompt_toolkit.application.current', 'prompt_toolkit.application.run_in_terminal', 'prompt_toolkit.eventloop', 'prompt_toolkit.eventloop.async_generator', 'prompt_toolkit.eventloop.utils', 'prompt_toolkit.eventloop.inputhook', 'prompt_toolkit.utils', 'wcwidth', 'wcwidth.wcwidth', 'wcwidth.table_wide', 'wcwidth.table_zero', 'prompt_toolkit.auto_suggest', 'prompt_toolkit.document', 'prompt_toolkit.clipboard', 'prompt_toolkit.clipboard.base', 'prompt_toolkit.selection', 'prompt_toolkit.clipboard.in_memory', 'prompt_toolkit.filters', 'prompt_toolkit.filters.app', 'prompt_toolkit.cache', 'prompt_toolkit.enums', 'prompt_toolkit.filters.base', 'prompt_toolkit.filters.cli', 'prompt_toolkit.filters.utils', 'prompt_toolkit.completion', 'prompt_toolkit.completion.base', 'prompt_toolkit.formatted_text', 'prompt_toolkit.formatted_text.ansi', 'prompt_toolkit.output', 'prompt_toolkit.output.base', 'prompt_toolkit.data_structures', 'prompt_toolkit.styles', 'prompt_toolkit.styles.base', 'prompt_toolkit.styles.defaults', 'prompt_toolkit.styles.named_colors', 'prompt_toolkit.styles.style', 'prompt_toolkit.styles.pygments', 'prompt_toolkit.styles.style_transformation', 'colorsys', 'prompt_toolkit.output.color_depth', 'prompt_toolkit.output.defaults', 'prompt_toolkit.patch_stdout', 'prompt_toolkit.output.vt100', 'array', 'prompt_toolkit.formatted_text.base', 'prompt_toolkit.mouse_events', 'prompt_toolkit.formatted_text.html', 'xml', 'xml.dom', 'xml.dom.domreg', 'xml.dom.minidom', 'xml.dom.minicompat', 'xml.dom.xmlbuilder', 'xml.dom.NodeFilter', 'prompt_toolkit.formatted_text.pygments', 'prompt_toolkit.formatted_text.utils', 'prompt_toolkit.completion.filesystem', 'prompt_toolkit.completion.fuzzy_completer', 'prompt_toolkit.completion.word_completer', 'prompt_toolkit.completion.nested', 'prompt_toolkit.history', 'prompt_toolkit.search', 'prompt_toolkit.key_binding', 'prompt_toolkit.key_binding.key_bindings', 'prompt_toolkit.keys', 'prompt_toolkit.key_binding.key_processor', 'prompt_toolkit.key_binding.vi_state', 'prompt_toolkit.validation', 'prompt_toolkit.input', 'prompt_toolkit.input.base', 'prompt_toolkit.input.defaults', 'prompt_toolkit.input.typeahead', 'prompt_toolkit.key_binding.bindings', 'prompt_toolkit.key_binding.bindings.page_navigation', 'prompt_toolkit.key_binding.bindings.scroll', 'prompt_toolkit.key_binding.defaults', 'prompt_toolkit.key_binding.bindings.basic', 'prompt_toolkit.key_binding.bindings.named_commands', 'prompt_toolkit.layout', 'prompt_toolkit.layout.containers', 'prompt_toolkit.layout.controls', 'prompt_toolkit.lexers', 'prompt_toolkit.lexers.base', 'prompt_toolkit.lexers.pygments', 'prompt_toolkit.layout.processors', 'prompt_toolkit.layout.utils', 'prompt_toolkit.layout.dimension', 'prompt_toolkit.layout.margins', 'prompt_toolkit.layout.mouse_handlers', 'prompt_toolkit.layout.screen', 'prompt_toolkit.layout.layout', 'prompt_toolkit.layout.menus', 'prompt_toolkit.key_binding.bindings.completion', 'prompt_toolkit.key_binding.bindings.cpr', 'prompt_toolkit.key_binding.bindings.emacs', 'prompt_toolkit.key_binding.bindings.mouse', 'prompt_toolkit.key_binding.bindings.vi', 'prompt_toolkit.input.vt100_parser', 'prompt_toolkit.input.ansi_escape_sequences', 'prompt_toolkit.key_binding.digraphs', 'prompt_toolkit.key_binding.emacs_state', 'prompt_toolkit.layout.dummy', 'prompt_toolkit.renderer', 'prompt_toolkit.application.dummy', 'prompt_toolkit.shortcuts', 'prompt_toolkit.shortcuts.dialogs', 'prompt_toolkit.key_binding.bindings.focus', 'prompt_toolkit.widgets', 'prompt_toolkit.widgets.base', 'prompt_toolkit.widgets.toolbars', 'prompt_toolkit.widgets.dialogs', 'prompt_toolkit.widgets.menus', 'prompt_toolkit.shortcuts.progress_bar', 'prompt_toolkit.shortcuts.progress_bar.base', 'prompt_toolkit.shortcuts.progress_bar.formatters', 'prompt_toolkit.shortcuts.prompt', 'prompt_toolkit.key_binding.bindings.auto_suggest', 'prompt_toolkit.key_binding.bindings.open_in_editor', 'prompt_toolkit.shortcuts.utils', 'pygments.style', 'IPython.terminal.debugger', 'IPython.core.completer', 'unicodedata', 'IPython.core.latex_symbols', 'IPython.utils.generics', 'jedi', 'jedi.api', 'parso', 'parso.parser', 'parso.tree', 'parso._compatibility', 'parso.utils', 'parso.pgen2', 'parso.pgen2.generator', 'parso.pgen2.grammar_parser', 'parso.python', 'parso.python.tokenize', 'parso.python.token', 'parso.grammar', 'parso.python.diff', 'difflib', 'parso.python.parser', 'parso.python.tree', 'parso.python.prefix', 'parso.cache', 'gc', 'parso.python.errors', 'parso.normalizer', 'parso.python.pep8', 'parso.file_io', 'jedi._compatibility', 'jedi.file_io', 'queue', '_queue', 'jedi.parser_utils', 'jedi.debug', 'jedi.settings', 'jedi.cache', 'jedi.api.classes', 'jedi.inference', 'jedi.inference.imports', 'jedi.inference.sys_path', 'jedi.inference.cache', 'jedi.inference.base_value', 'jedi.common', 'jedi.common.value', 'jedi.inference.helpers', 'jedi.inference.utils', 'jedi.common.utils', 'jedi.inference.compiled', 'jedi.inference.compiled.value', 'jedi.inference.filters', 'jedi.inference.flow_analysis', 'jedi.inference.recursion', 'jedi.inference.names', 'jedi.inference.docstrings', 'jedi.inference.lazy_value', 'jedi.inference.compiled.access', 'jedi.inference.compiled.getattr_static', 'jedi.inference.signature', 'jedi.inference.context', 'jedi.inference.analysis', 'jedi.inference.gradual', 'jedi.inference.gradual.typeshed', 'jedi.inference.gradual.stub_value', 'jedi.inference.value', 'jedi.inference.value.module', 'jedi.inference.value.klass', 'jedi.inference.arguments', 'jedi.inference.value.iterable', 'jedi.inference.value.dynamic_arrays', 'jedi.inference.value.function', 'jedi.inference.parser_cache', 'jedi.inference.gradual.generics', 'jedi.plugins', 'jedi.inference.value.instance', 'jedi.inference.gradual.typing', 'jedi.inference.gradual.base', 'jedi.inference.gradual.type_var', 'jedi.inference.syntax_tree', 'jedi.inference.gradual.annotation', 'jedi.inference.param', 'jedi.inference.value.decorator', 'jedi.inference.gradual.conversion', 'jedi.api.keywords', 'pydoc_data', 'pydoc_data.topics', 'jedi.api.interpreter', 'jedi.inference.compiled.mixed', 'jedi.api.helpers', 'jedi.api.completion', 'jedi.api.file_name', 'jedi.api.environment', 'filecmp', 'jedi.inference.compiled.subprocess', 'jedi.inference.compiled.subprocess.functions', 'jedi.api.exceptions', 'jedi.api.project', 'jedi.inference.usages', 'jedi.inference.gradual.utils', 'jedi.plugins.registry', 'jedi.plugins.stdlib', 'jedi.plugins.flask', 'IPython.terminal.ptutils', 'IPython.terminal.shortcuts', 'IPython.terminal.magics', 'IPython.lib.clipboard', 'IPython.terminal.pt_inputhooks', 'IPython.terminal.prompts', 'IPython.terminal.ipapp', 'IPython.core.magics', 'IPython.core.magics.auto', 'IPython.core.magics.basic', 'IPython.core.magics.code', 'urllib.request', 'email', 'http', 'http.client', 'email.parser', 'email.feedparser', 'email.errors', 'email._policybase', 'email.header', 'email.quoprimime', 'email.base64mime', 'email.charset', 'email.encoders', 'quopri', 'email.utils', 'email._parseaddr', 'calendar', 'email.message', 'uu', 'email._encoded_words', 'email.iterators', 'urllib.error', 'urllib.response', 'IPython.core.magics.config', 'IPython.core.magics.display', 'IPython.core.magics.execution', 'timeit', 'cProfile', '_lsprof', 'profile', 'pstats', 'IPython.utils.module_paths', 'IPython.utils.timing', 'IPython.core.magics.extension', 'IPython.core.magics.history', 'IPython.core.magics.logging', 'IPython.core.magics.namespace', 'IPython.core.magics.osm', 'IPython.core.magics.packaging', 'IPython.core.magics.pylab', 'IPython.core.pylabtools', 'IPython.core.magics.script', 'IPython.lib.backgroundjobs', 'IPython.core.shellapp', 'IPython.extensions', 'IPython.extensions.storemagic', 'IPython.utils.frame', 'jupyter_client', 'jupyter_client._version', 'jupyter_client.connect', 'zmq', 'ctypes', '_ctypes', 'ctypes._endian', 'zmq.backend', 'zmq.backend.select', 'zmq.backend.cython', 'zmq.backend.cython.constants', 'cython_runtime', 'zmq.backend.cython.error', '_cython_0_29_14', 'zmq.backend.cython.message', 'zmq.error', 'zmq.backend.cython.context', 'zmq.backend.cython.socket', 'zmq.backend.cython.utils', 'zmq.backend.cython._poll', 'zmq.backend.cython._version', 'zmq.backend.cython._device', 'zmq.backend.cython._proxy_steerable', 'zmq.sugar', 'zmq.sugar.constants', 'zmq.utils', 'zmq.utils.constant_names', 'zmq.sugar.context', 'zmq.sugar.attrsettr', 'zmq.sugar.socket', 'zmq.sugar.poll', 'zmq.utils.jsonapi', 'zmq.utils.strtypes', 'zmq.sugar.frame', 'zmq.sugar.tracker', 'zmq.sugar.version', 'zmq.sugar.stopwatch', 'jupyter_client.localinterfaces', 'jupyter_core', 'jupyter_core.version', 'jupyter_core.paths', 'jupyter_client.launcher', 'traitlets.log', 'jupyter_client.client', 'jupyter_client.channels', 'jupyter_client.channelsabc', 'jupyter_client.clientabc', 'jupyter_client.manager', 'jupyter_client.kernelspec', 'jupyter_client.managerabc', 'jupyter_client.blocking', 'jupyter_client.blocking.client', 'jupyter_client.blocking.channels', 'jupyter_client.multikernelmanager', 'uuid', 'ipykernel.kernelapp', 'tornado', 'tornado.ioloop', 'numbers', 'tornado.concurrent', 'tornado.log', 'logging.handlers', 'tornado.escape', 'tornado.util', 'tornado.speedups', 'curses', '_curses', 'zmq.eventloop', 'zmq.eventloop.ioloop', 'tornado.platform', 'tornado.platform.asyncio', 'tornado.gen', 'zmq.eventloop.zmqstream', 'ipykernel.iostream', 'imp', 'jupyter_client.session', 'hmac', 'jupyter_client.jsonutil', 'dateutil', 'dateutil._version', 'dateutil.parser', 'dateutil.parser._parser', 'decimal', '_decimal', 'dateutil.relativedelta', 'dateutil._common', 'dateutil.tz', 'dateutil.tz.tz', 'six.moves', 'dateutil.tz._common', 'dateutil.tz._factories', 'dateutil.parser.isoparser', '_strptime', 'jupyter_client.adapter', 'ipykernel.heartbeat', 'ipykernel.ipkernel', 'IPython.utils.tokenutil', 'ipykernel.comm', 'ipykernel.comm.manager', 'ipykernel.comm.comm', 'ipykernel.kernelbase', 'tornado.queues', 'tornado.locks', 'ipykernel.jsonutil', 'ipykernel.zmqshell', 'IPython.core.payloadpage', 'ipykernel.displayhook', 'ipykernel.eventloops', 'distutils', 'distutils.version', 'ipykernel.parentpoller', 'faulthandler', 'ipykernel.datapub', 'ipykernel.serialize', 'ipykernel.pickleutil', 'ipykernel.codeutil', 'IPython.core.completerlib', 'storemagic', 'ipywidgets', 'ipywidgets._version', 'ipywidgets.widgets', 'ipywidgets.widgets.widget', 'ipywidgets.widgets.domwidget', 'ipywidgets.widgets.trait_types', 'ipywidgets.widgets.util', 'ipywidgets.widgets.widget_layout', 'ipywidgets.widgets.widget_style', 'ipywidgets.widgets.valuewidget', 'ipywidgets.widgets.widget_core', 'ipywidgets.widgets.widget_bool', 'ipywidgets.widgets.widget_description', 'ipywidgets.widgets.widget_button', 'ipywidgets.widgets.widget_box', 'ipywidgets.widgets.docutils', 'ipywidgets.widgets.widget_float', 'ipywidgets.widgets.widget_int', 'ipywidgets.widgets.widget_color', 'ipywidgets.widgets.widget_date', 'ipywidgets.widgets.widget_output', 'ipywidgets.widgets.widget_selection', 'ipywidgets.widgets.widget_selectioncontainer', 'ipywidgets.widgets.widget_string', 'ipywidgets.widgets.widget_controller', 'ipywidgets.widgets.interaction', 'ipywidgets.widgets.widget_link', 'ipywidgets.widgets.widget_media', 'ipywidgets.widgets.widget_templates', 'ipywidgets.widgets.widget_upload', 'simtk', 'simtk.unit', 'simtk.unit.unit', 'simtk.unit.mymatrix', 'simtk.unit.basedimension', 'simtk.unit.baseunit', 'simtk.unit.standard_dimensions', 'simtk.unit.quantity', 'simtk.unit.unit_math', 'simtk.unit.unit_definitions', 'simtk.unit.unit_operators', 'simtk.unit.prefix', 'simtk.unit.constants', 'openmmtools', 'openmmtools.testsystems', 'numpy', 'numpy._globals', 'numpy.__config__', 'numpy.version', 'numpy._distributor_init', 'numpy.core', 'numpy.core.info', 'numpy.core.multiarray', 'numpy.core.overrides', 'numpy.core._multiarray_umath', 'numpy.compat', 'numpy.compat._inspect', 'numpy.compat.py3k', 'numpy.core.umath', 'numpy.core.numerictypes', 'numpy.core._string_helpers', 'numpy.core._type_aliases', 'numpy.core._dtype', 'numpy.core.numeric', 'numpy.core._exceptions', 'numpy.core._asarray', 'numpy.core._ufunc_config', 'numpy.core.fromnumeric', 'numpy.core._methods', 'numpy.core.arrayprint', 'numpy.core.defchararray', 'numpy.core.records', 'numpy.core.memmap', 'numpy.core.function_base', 'numpy.core.machar', 'numpy.core.getlimits', 'numpy.core.shape_base', 'numpy.core.einsumfunc', 'numpy.core._add_newdocs', 'numpy.core._multiarray_tests', 'numpy.core._dtype_ctypes', 'numpy.core._internal', 'numpy._pytesttester', 'numpy.lib', 'numpy.lib.info', 'numpy.lib.type_check', 'numpy.lib.ufunclike', 'numpy.lib.index_tricks', 'numpy.matrixlib', 'numpy.matrixlib.defmatrix', 'numpy.linalg', 'numpy.linalg.info', 'numpy.linalg.linalg', 'numpy.lib.twodim_base', 'numpy.linalg.lapack_lite', 'numpy.linalg._umath_linalg', 'numpy.lib.function_base', 'numpy.lib.histograms', 'numpy.lib.stride_tricks', 'numpy.lib.mixins', 'numpy.lib.nanfunctions', 'numpy.lib.shape_base', 'numpy.lib.scimath', 'numpy.lib.polynomial', 'numpy.lib.utils', 'numpy.lib.arraysetops', 'numpy.lib.npyio', 'numpy.lib.format', 'numpy.lib._datasource', 'numpy.lib._iotools', 'numpy.lib.financial', 'numpy.lib.arrayterator', 'numpy.lib.arraypad', 'numpy.lib._version', 'numpy.fft', 'numpy.fft.info', 'numpy.fft.pocketfft', 'numpy.fft.pocketfft_internal', 'numpy.fft.helper', 'numpy.polynomial', 'numpy.polynomial.polynomial', 'numpy.polynomial.polyutils', 'numpy.polynomial._polybase', 'numpy.polynomial.chebyshev', 'numpy.polynomial.legendre', 'numpy.polynomial.hermite', 'numpy.polynomial.hermite_e', 'numpy.polynomial.laguerre', 'numpy.random', 'numpy.random._pickle', 'numpy.random.mtrand', 'numpy.random.common', 'numpy.random.bounded_integers', 'numpy.random.mt19937', 'numpy.random.bit_generator', '_cython_0_29_13', 'secrets', 'numpy.random.entropy', 'numpy.random.philox', 'numpy.random.pcg64', 'numpy.random.sfc64', 'numpy.random.generator', 'numpy.ctypeslib', 'numpy.ma', 'numpy.ma.core', 'numpy.ma.extras', 'numpy.testing', 'unittest', 'unittest.result', 'unittest.util', 'unittest.case', 'unittest.suite', 'unittest.loader', 'unittest.main', 'unittest.runner', 'unittest.signals', 'numpy.testing._private', 'numpy.testing._private.utils', 'numpy.testing._private.decorators', 'numpy.testing._private.nosetester', 'scipy', 'scipy._distributor_init', 'scipy.__config__', 'scipy.version', 'scipy._lib', 'scipy._lib._testutils', 'scipy._lib._version', 'scipy._lib.six', 'scipy._lib._ccallback', 'scipy._lib._ccallback_c', 'scipy.special', 'scipy.special.sf_error', 'scipy.special._ufuncs', 'scipy.special._ufuncs_cxx', 'scipy.special.basic', 'scipy.special.specfun', 'scipy.special.orthogonal', 'scipy.linalg', 'scipy.linalg.linalg_version', 'scipy.linalg.misc', 'scipy.linalg.blas', 'scipy.linalg._fblas', 'scipy.linalg.lapack', 'scipy.linalg._flapack', 'scipy._lib._util', 'multiprocessing', 'multiprocessing.context', 'multiprocessing.process', 'multiprocessing.reduction', '__mp_main__', 'scipy.linalg.basic', 'scipy.linalg.flinalg', 'scipy.linalg._flinalg', 'scipy.linalg.decomp', 'scipy.linalg.decomp_svd', 'scipy.linalg._solve_toeplitz', 'scipy.linalg.decomp_lu', 'scipy.linalg._decomp_ldl', 'scipy.linalg.decomp_cholesky', 'scipy.linalg.decomp_qr', 'scipy.linalg._decomp_qz', 'scipy.linalg.decomp_schur', 'scipy.linalg._decomp_polar', 'scipy.linalg.matfuncs', 'scipy.linalg.special_matrices', 'scipy.linalg._expm_frechet', 'scipy.linalg._matfuncs_sqrtm', 'scipy.linalg._solvers', 'scipy.linalg._procrustes', 'scipy.linalg._decomp_update', 'scipy.linalg.cython_blas', 'scipy.linalg.cython_lapack', 'scipy.linalg._sketches', 'scipy.sparse', 'scipy.sparse.base', 'scipy._lib._numpy_compat', 'scipy.sparse.sputils', 'scipy.sparse.csr', 'scipy.sparse._sparsetools', 'scipy.sparse.compressed', 'scipy.sparse.data', 'scipy.sparse.dia', 'scipy.sparse._index', 'scipy.sparse.csc', 'scipy.sparse.lil', 'scipy.sparse._csparsetools', 'scipy.sparse.dok', 'scipy.sparse.coo', 'scipy.sparse.bsr', 'scipy.sparse.construct', 'scipy.sparse.extract', 'scipy.sparse._matrix_io', 'scipy.sparse.csgraph', 'scipy.sparse.csgraph._laplacian', 'scipy.sparse.csgraph._shortest_path', 'scipy.sparse.csgraph._validation', 'scipy.sparse.csgraph._tools', 'scipy.sparse.csgraph._traversal', 'scipy.sparse.csgraph._min_spanning_tree', 'scipy.sparse.csgraph._reordering', 'numpy.dual', 'scipy.special._comb', 'scipy.special._logsumexp', 'scipy.special.spfun_stats', 'scipy.special._ellip_harm', 'scipy.special._ellip_harm_2', 'scipy.special.lambertw', 'scipy.special._spherical_bessel', 'scipy.integrate', 'scipy.integrate.quadrature', 'scipy.integrate.odepack', 'scipy.integrate._odepack', 'scipy.integrate.quadpack', 'scipy.integrate._quadpack', 'scipy.integrate._ode', 'scipy.integrate.vode', 'scipy.integrate._dop', 'scipy.integrate.lsoda', 'scipy.integrate._bvp', 'scipy.sparse.linalg', 'scipy.sparse.linalg.isolve', 'scipy.sparse.linalg.isolve.iterative', 'scipy.sparse.linalg.isolve._iterative', 'scipy.sparse.linalg.interface', 'scipy.sparse.linalg.isolve.utils', 'scipy._lib._threadsafety', 'scipy._lib.decorator', 'scipy.sparse.linalg.isolve.minres', 'scipy.sparse.linalg.isolve.lgmres', 'scipy.sparse.linalg.isolve._gcrotmk', 'scipy.sparse.linalg.isolve.lsqr', 'scipy.sparse.linalg.isolve.lsmr', 'scipy.sparse.linalg.dsolve', 'scipy.sparse.linalg.dsolve.linsolve', 'scipy.sparse.linalg.dsolve._superlu', 'scipy.sparse.linalg.dsolve._add_newdocs', 'scipy.sparse.linalg.eigen', 'scipy.sparse.linalg.eigen.arpack', 'scipy.sparse.linalg.eigen.arpack.arpack', 'scipy.sparse.linalg.eigen.arpack._arpack', 'scipy.sparse.linalg.eigen.lobpcg', 'scipy.sparse.linalg.eigen.lobpcg.lobpcg', 'scipy.sparse.linalg.matfuncs', 'scipy.sparse.linalg._onenormest', 'scipy.sparse.linalg._norm', 'scipy.sparse.linalg._expm_multiply', 'scipy.optimize', 'scipy.optimize.optimize', 'scipy.optimize.linesearch', 'scipy.optimize.minpack2', 'scipy.optimize._minimize', 'scipy.optimize._trustregion_dogleg', 'scipy.optimize._trustregion', 'scipy.optimize._trustregion_ncg', 'scipy.optimize._trustregion_krylov', 'scipy.optimize._trlib', 'scipy.optimize._trlib._trlib', 'scipy._lib.messagestream', 'scipy.optimize._trustregion_exact', 'scipy.optimize._trustregion_constr', 'scipy.optimize._trustregion_constr.minimize_trustregion_constr', 'scipy.optimize._differentiable_functions', 'scipy.optimize._numdiff', 'scipy.optimize._group_columns', 'scipy.optimize._hessian_update_strategy', 'scipy.optimize._constraints', 'scipy.optimize._trustregion_constr.equality_constrained_sqp', 'scipy.optimize._trustregion_constr.projections', 'scipy.optimize._trustregion_constr.qp_subproblem', 'scipy.optimize._trustregion_constr.canonical_constraint', 'scipy.optimize._trustregion_constr.tr_interior_point', 'scipy.optimize._trustregion_constr.report', 'scipy.optimize.lbfgsb', 'scipy.optimize._lbfgsb', 'scipy.optimize.tnc', 'scipy.optimize.moduleTNC', 'scipy.optimize.cobyla', 'scipy.optimize._cobyla', 'scipy.optimize.slsqp', 'scipy.optimize._slsqp', 'scipy.optimize._root', 'scipy.optimize.minpack', 'scipy.optimize._minpack', 'scipy.optimize._lsq', 'scipy.optimize._lsq.least_squares', 'scipy.optimize._lsq.trf', 'scipy.optimize._lsq.common', 'scipy.optimize._lsq.dogbox', 'scipy.optimize._lsq.lsq_linear', 'scipy.optimize._lsq.trf_linear', 'scipy.optimize._lsq.givens_elimination', 'scipy.optimize._lsq.bvls', 'scipy.optimize._spectral', 'scipy.optimize.nonlin', 'scipy.optimize._root_scalar', 'scipy.optimize.zeros', 'scipy.optimize._zeros', 'scipy.optimize.nnls', 'scipy.optimize._nnls', 'scipy.optimize._basinhopping', 'scipy.optimize._linprog', 'scipy.optimize._linprog_ip', 'scipy.optimize._linprog_util', 'scipy.optimize._remove_redundancy', 'scipy.optimize._linprog_simplex', 'scipy.optimize._linprog_rs', 'scipy.optimize._bglu_dense', 'scipy.optimize._hungarian', 'scipy.optimize._differentialevolution', 'scipy.optimize._shgo', 'scipy.spatial', 'scipy.spatial.kdtree', 'scipy.spatial.ckdtree', 'scipy.spatial.qhull', 'scipy.spatial._spherical_voronoi', 'scipy.spatial._voronoi', 'scipy.spatial.distance', 'scipy.spatial._distance_wrap', 'scipy.spatial._hausdorff', 'scipy.spatial._plotutils', 'scipy.spatial._procrustes', 'scipy.spatial.transform', 'scipy.spatial.transform.rotation', 'scipy.spatial.transform._rotation_spline', 'scipy.optimize._shgo_lib', 'scipy.optimize._shgo_lib.sobol_seq', 'scipy.optimize._shgo_lib.triangulation', 'scipy.optimize._dual_annealing', 'scipy.integrate._ivp', 'scipy.integrate._ivp.ivp', 'scipy.integrate._ivp.bdf', 'scipy.integrate._ivp.common', 'scipy.integrate._ivp.base', 'scipy.integrate._ivp.radau', 'scipy.integrate._ivp.rk', 'scipy.integrate._ivp.lsoda', 'simtk.openmm', 'simtk.openmm.version', 'simtk.openmm.openmm', 'swig_runtime_data4', '_openmm', 'simtk.openmm.vec3', 'simtk.openmm.mtsintegrator', 'simtk.openmm.amd', 'simtk.openmm.app', 'simtk.openmm.app.topology', 'xml.etree', 'xml.etree.ElementTree', 'xml.etree.ElementPath', 'pyexpat.errors', 'pyexpat.model', 'pyexpat', '_elementtree', 'simtk.openmm.app.internal', 'simtk.openmm.app.internal.singleton', 'simtk.openmm.app.pdbfile', 'simtk.openmm.app.internal.pdbstructure', 'simtk.openmm.app.element', 'simtk.openmm.app.internal.unitcell', 'simtk.openmm.app.pdbxfile', 'simtk.openmm.app.internal.pdbx', 'simtk.openmm.app.internal.pdbx.reader', 'simtk.openmm.app.internal.pdbx.reader.PdbxReader', 'simtk.openmm.app.internal.pdbx.reader.PdbxContainers', 'simtk.openmm.app.forcefield', 'simtk.openmm.app.internal.compiled', '_cython_0_29_17', 'simtk.openmm.app.simulation', 'simtk.openmm.app.pdbreporter', 'simtk.openmm.app.amberprmtopfile', 'simtk.openmm.app.internal.amber_file_parser', 'simtk.openmm.app.internal.customgbforces', 'simtk.openmm.app.amberinpcrdfile', 'simtk.openmm.app.dcdfile', 'simtk.openmm.app.gromacsgrofile', 'simtk.openmm.app.gromacstopfile', 'distutils.spawn', 'distutils.errors', 'distutils.debug', 'distutils.log', 'simtk.openmm.app.dcdreporter', 'simtk.openmm.app.modeller', 'simtk.openmm.app.statedatareporter', 'gzip', 'simtk.openmm.app.desmonddmsfile', 'simtk.openmm.app.checkpointreporter', 'simtk.openmm.app.charmmcrdfiles', 'simtk.openmm.app.internal.charmm', 'simtk.openmm.app.internal.charmm.exceptions', 'simtk.openmm.app.charmmparameterset', 'simtk.openmm.app.internal.charmm._charmmfile', 'simtk.openmm.app.internal.charmm.topologyobjects', 'simtk.openmm.app.charmmpsffile', 'simtk.openmm.app.simulatedtempering', 'simtk.openmm.app.metadynamics', 'openmmtools.constants', 'openmmtools.integrators', 'openmmtools.respa', 'openmmtools.utils', 'openmmtools.alchemy', 'openmmtools.states', 'openmmtools.forces', 'openmmtools.forcefactories', 'mdtraj', 'mdtraj.formats', 'mdtraj.formats.arc', 'mdtraj.utils', 'mdtraj.utils.delay_import', 'mdtraj.utils.validation', 'mdtraj.utils.six', 'mdtraj.utils.six.moves', 'mdtraj.utils.six.moves.urllib_parse', 'mdtraj.utils.six.moves.urllib.parse', 'mdtraj.utils.six.moves.urllib_error', 'mdtraj.utils.six.moves.urllib.error', 'mdtraj.utils.six.moves.urllib_request', 'mdtraj.utils.six.moves.urllib.request', 'mdtraj.utils.six.moves.urllib_response', 'mdtraj.utils.six.moves.urllib.response', 'mdtraj.utils.six.moves.urllib_robotparser', 'mdtraj.utils.six.moves.urllib.robotparser', 'mdtraj.utils.six.moves.urllib', 'mdtraj.utils.unit', 'mdtraj.utils.unit.quantity', 'mdtraj.utils.unit.standard_dimensions', 'mdtraj.utils.unit.basedimension', 'mdtraj.utils.unit.unit', 'mdtraj.utils.unit.mymatrix', 'mdtraj.utils.unit.baseunit', 'mdtraj.utils.unit.unit_definitions', 'mdtraj.utils.unit.unit_operators', 'mdtraj.utils.unit.prefix', 'mdtraj.utils.rotation', 'mdtraj.utils.unitcell', 'mdtraj.utils.contextmanagers', 'mdtraj.utils.zipped', 'mdtraj.formats.registry', 'mdtraj.formats.dcd', 'mdtraj.formats.binpos', 'mdtraj.formats.xtc', '_cython_0_29_7', 'xdrlib', 'mdtraj.formats.trr', 'mdtraj.formats.hdf5', 'mdtraj.version', 'mdtraj.core', 'mdtraj.core.element', 'mdtraj.core.topology', 'mdtraj.core.residue_names', 'mdtraj.core.selection', 'mdtraj.utils.external', 'mdtraj.utils.external.pyparsing', 'mdtraj.utils.external.astor', 'mdtraj.utils.external.astor.codegen', 'mdtraj.utils.external.astor.misc', 'mdtraj.utils.external.astor.treewalk', 'mdtraj.utils.singleton', 'mdtraj.formats.netcdf', 'mdtraj.formats.pdb', 'mdtraj.formats.pdb.pdbfile', 'mdtraj.formats.pdb.pdbstructure', 'mdtraj.formats.lh5', 'mdtraj.formats.mdcrd', 'mdtraj.formats.amberrst', 'mdtraj.formats.lammpstrj', 'mdtraj.formats.dtr', 'mdtraj.formats.gro', 'mdtraj.formats.xyzfile', 'mdtraj.formats.tng', 'mdtraj.formats.openmmxml', 'mdtraj.formats.prmtop', 'mdtraj.formats.psf', 'mdtraj.formats.mol2', 'mdtraj.formats.hoomdxml', 'xml.etree.cElementTree', 'mdtraj._rmsd', 'mdtraj._lprmsd', 'mdtraj.geometry', 'mdtraj.geometry.rg', 'mdtraj.geometry.angle', 'mdtraj.geometry._geometry', 'mdtraj.geometry.distance', 'mdtraj.geometry.dihedral', 'mdtraj.geometry.hbond', 'mdtraj.geometry.sasa', 'mdtraj.geometry.contact', 'mdtraj.geometry.drid', 'mdtraj.geometry.dssp', 'mdtraj.geometry.neighbors', 'mdtraj.geometry.neighborlist', 'mdtraj.geometry.thermodynamic_properties', 'mdtraj.geometry.rdf', 'mdtraj.geometry.order', 'pkg_resources', 'zipfile', 'plistlib', 'xml.parsers', 'xml.parsers.expat', 'xml.parsers.expat.model', 'xml.parsers.expat.errors', 'pkg_resources.extern', 'pkg_resources._vendor', 'pkg_resources.extern.six', 'pkg_resources._vendor.six', 'pkg_resources.extern.six.moves', 'pkg_resources._vendor.six.moves', 'pkg_resources.py31compat', 'pkg_resources.extern.appdirs', 'pkg_resources._vendor.packaging.__about__', 'pkg_resources.extern.packaging', 'pkg_resources.extern.packaging.version', 'pkg_resources.extern.packaging._structures', 'pkg_resources.extern.packaging.specifiers', 'pkg_resources.extern.packaging._compat', 'pkg_resources.extern.packaging.requirements', 'pkg_resources.extern.pyparsing', 'pkg_resources.extern.six.moves.urllib', 'pkg_resources.extern.packaging.markers', 'sysconfig', 'mdtraj.core.trajectory', 'mdtraj.nmr', 'mdtraj.nmr.shift_wrappers', 'mdtraj.nmr.scalar_couplings', 'mdtraj.reporters', 'mdtraj.reporters.hdf5reporter', 'mdtraj.reporters.basereporter', 'mdtraj.reporters.netcdfreporter', 'mdtraj.reporters.dcdreporter', 'mdtraj.reporters.xtcreporter', 'openmmtools.mcmc', 'openmmtools.cache', 'openmmtools.storage', 'openmmtools.storage.iodrivers', 'yaml', 'yaml.error', 'yaml.tokens', 'yaml.events', 'yaml.nodes', 'yaml.loader', 'yaml.reader', 'yaml.scanner', 'yaml.parser', 'yaml.composer', 'yaml.constructor', 'yaml.resolver', 'yaml.dumper', 'yaml.emitter', 'yaml.serializer', 'yaml.representer', 'yaml.cyaml', '_yaml', 'netCDF4', 'netCDF4._netCDF4', '_cython_0_29_10', 'netCDF4.utils', 'cftime', 'cftime._cftime', 'openmmtools.storage.storageinterface', 'openmmtools.multistate', 'openmmtools.multistate.multistatesampler', 'mpiplus', 'mpiplus.mpiplus', 'mpiplus._version', 'openmmtools.multistate.utils', 'pymbar', 'pymbar.timeseries', 'pymbar.utils', 'numexpr', 'numexpr.__config__', 'numexpr.expressions', 'numexpr.interpreter', 'numexpr.necompiler', 'numexpr.utils', 'numexpr.version', 'pymbar.testsystems', 'pymbar.testsystems.harmonic_oscillators', 'pymbar.testsystems.exponential_distributions', 'pymbar.testsystems.timeseries', 'pymbar.testsystems.gaussian_work', 'pymbar.confidenceintervals', 'scipy.stats', 'scipy.stats.stats', 'scipy.stats.distributions', 'scipy.stats._distn_infrastructure', 'scipy._lib.doccer', 'scipy.stats._distr_params', 'scipy.misc', 'scipy.misc.doccer', 'scipy.misc.common', 'scipy.stats._constants', 'scipy.stats._continuous_distns', 'scipy.interpolate', 'scipy.interpolate.interpolate', 'scipy.interpolate.fitpack', 'scipy.interpolate._fitpack_impl', 'scipy.interpolate._fitpack', 'scipy.interpolate.dfitpack', 'scipy.interpolate._bsplines', 'scipy.interpolate._bspl', 'scipy.interpolate.polyint', 'scipy.interpolate._ppoly', 'scipy.interpolate.fitpack2', 'scipy.interpolate.interpnd', 'scipy.interpolate.rbf', 'scipy.interpolate._cubic', 'scipy.interpolate.ndgriddata', 'scipy.interpolate._pade', 'scipy.stats._stats', 'scipy.stats._tukeylambda_stats', 'scipy.stats._discrete_distns', 'scipy.stats.mstats_basic', 'scipy.stats._stats_mstats_common', 'scipy.stats._rvs_sampling', 'scipy.stats._hypotests', 'scipy.stats.morestats', 'scipy.stats.statlib', 'scipy.stats.contingency', 'scipy.stats._binned_statistic', 'scipy.stats.kde', 'scipy.stats.mvn', 'scipy.stats.mstats', 'scipy.stats.mstats_extras', 'scipy.stats._multivariate', 'pymbar.version', 'pymbar.mbar', 'pymbar.mbar_solvers', 'pymbar.bar', 'pymbar.exp', 'pymbar.old_mbar', 'openmmtools.multistate.multistatereporter', 'openmmtools.multistate.replicaexchange', 'openmmtools.multistate.multistateanalyzer', 'openmmtools.multistate.paralleltempering', 'openmmtools.multistate.sams', 'openmmtools._version', 'perses', 'perses.annihilation', 'perses.annihilation.lambda_protocol', 'matplotlib', 'matplotlib.cbook', 'matplotlib.cbook.deprecation', 'matplotlib.rcsetup', 'matplotlib.fontconfig_pattern', 'pyparsing', 'matplotlib.colors', 'matplotlib._color_data', 'cycler', 'matplotlib._version', 'matplotlib.ft2font', 'kiwisolver']\n"
     ]
    },
    {
     "name": "stderr",
     "output_type": "stream",
     "text": [
      "DEBUG:matplotlib:CACHEDIR=/home/zhangi/.cache/matplotlib\n",
      "DEBUG:matplotlib.font_manager:Using fontManager instance from /home/zhangi/.cache/matplotlib/fontlist-v310.json\n",
      "DEBUG:matplotlib.pyplot:Loaded backend module://ipykernel.pylab.backend_inline version unknown.\n",
      "DEBUG:matplotlib.pyplot:Loaded backend module://ipykernel.pylab.backend_inline version unknown.\n",
      "RDKit WARNING: [11:41:13] Enabling RDKit 2019.09.3 jupyter extensions\n"
     ]
    }
   ],
   "source": [
    "import math\n",
    "from simtk import unit\n",
    "from openmmtools import testsystems, states, mcmc, multistate\n",
    "import os\n",
    "import tempfile\n",
    "import pickle\n",
    "from perses.annihilation.lambda_protocol import RelativeAlchemicalState\n",
    "import mdtraj as md\n",
    "import numpy as np\n",
    "from simtk.unit.quantity import Quantity\n",
    "from matplotlib import pyplot as plt\n",
    "from perses.app.relative_point_mutation_setup import PointMutationExecutor\n",
    "import simtk.openmm.app as app\n",
    "import logging\n",
    "import datetime\n"
   ]
  },
  {
   "cell_type": "code",
   "execution_count": 3,
   "metadata": {
    "scrolled": true
   },
   "outputs": [
    {
     "name": "stderr",
     "output_type": "stream",
     "text": [
      "INFO:proposal_generator:\tConducting polymer point mutation proposal...\n",
      "INFO:proposal_generator:Using matching_criterion to chose best atom map\n",
      "INFO:proposal_generator:Scaffold has symmetry of 0\n",
      "WARNING:proposal_generator:Two molecules are not similar to have a common scaffold\n",
      "WARNING:proposal_generator:Proceeding with direct mapping of molecules, but please check atom mapping and the geometry of the ligands.\n",
      "INFO:proposal_generator:len [{4: 4, 9: 9}]\n",
      "INFO:proposal_generator:{4: 4, 9: 9}\n",
      "INFO:proposal_generator:Only one map so returning that one\n",
      "INFO:proposal_generator:{4: 4, 9: 9}\n",
      "INFO:geometry:propose: performing forward proposal\n",
      "INFO:geometry:propose: unique new atoms detected; proceeding to _logp_propose...\n",
      "INFO:geometry:Conducting forward proposal...\n",
      "INFO:geometry:Computing proposal order with NetworkX...\n",
      "INFO:geometry:number of atoms to be placed: 7\n",
      "INFO:geometry:Atom index proposal order is [14, 18, 16, 13, 15, 19, 17]\n",
      "INFO:geometry:omitted_bonds: []\n",
      "INFO:geometry:direction of proposal is forward; creating atoms_with_positions and new positions from old system/topology...\n",
      "INFO:geometry:creating growth system...\n",
      "INFO:geometry:\tcreating bond force...\n",
      "INFO:geometry:\tthere are 25 bonds in reference force.\n",
      "INFO:geometry:\tcreating angle force...\n",
      "INFO:geometry:\tthere are 43 angles in reference force.\n",
      "INFO:geometry:\tcreating torsion force...\n",
      "INFO:geometry:\tcreating extra torsions force...\n",
      "INFO:geometry:\tthere are 72 torsions in reference force.\n",
      "INFO:geometry:\tcreating nonbonded force...\n",
      "INFO:geometry:\t\tgrabbing reference nonbonded method, cutoff, switching function, switching distance...\n",
      "INFO:geometry:\t\tcreating nonbonded exception force (i.e. custom bond for 1,4s)...\n",
      "INFO:geometry:\t\tlooping through exceptions calculating growth indices, and adding appropriate interactions to custom bond force.\n",
      "INFO:geometry:\t\tthere are 121 in the reference Nonbonded force\n",
      "INFO:geometry:Neglected angle terms : []\n",
      "INFO:geometry:omitted_growth_terms: {'bonds': [], 'angles': [], 'torsions': [], '1,4s': []}\n",
      "INFO:geometry:extra torsions: {0: (14, 10, 8, 18, [1, Quantity(value=1.0655064807976995, unit=radian), Quantity(value=120.0, unit=kilocalorie/mole), 2])}\n",
      "INFO:geometry:neglected angle terms include []\n",
      "INFO:geometry:log probability choice of torsions and atom order: -12.678448458920965\n",
      "INFO:geometry:creating platform, integrators, and contexts; setting growth parameter\n"
     ]
    },
    {
     "name": "stdout",
     "output_type": "stream",
     "text": [
      "conducting subsequent work with the following platform: CUDA\n",
      "conducting subsequent work with the following platform: CUDA\n"
     ]
    },
    {
     "name": "stderr",
     "output_type": "stream",
     "text": [
      "INFO:geometry:setting atoms_with_positions context new positions\n"
     ]
    },
    {
     "name": "stdout",
     "output_type": "stream",
     "text": [
      "conducting subsequent work with the following platform: CUDA\n"
     ]
    },
    {
     "name": "stderr",
     "output_type": "stream",
     "text": [
      "INFO:geometry:There are 7 new atoms\n",
      "INFO:geometry:\treduced angle potential = 0.1766487914310479.\n",
      "INFO:geometry:\treduced angle potential = 0.002540858193772264.\n",
      "INFO:geometry:\treduced angle potential = 0.007028640120836258.\n",
      "INFO:geometry:\treduced angle potential = 0.5429277670752234.\n",
      "INFO:geometry:\treduced angle potential = 0.20453565061383097.\n",
      "INFO:geometry:\treduced angle potential = 0.44878830044879103.\n",
      "INFO:geometry:\treduced angle potential = 1.647784040585461.\n",
      "INFO:geometry:\tbeginning construction of no_nonbonded final system...\n",
      "INFO:geometry:\tinitial no-nonbonded final system forces ['HarmonicBondForce', 'HarmonicAngleForce', 'PeriodicTorsionForce', 'NonbondedForce']\n",
      "INFO:geometry:\tfinal no-nonbonded final system forces dict_keys(['HarmonicBondForce', 'HarmonicAngleForce', 'PeriodicTorsionForce', 'NonbondedForce'])\n",
      "INFO:geometry:\tthere are 25 bond forces in the no-nonbonded final system\n",
      "INFO:geometry:\tthere are 43 angle forces in the no-nonbonded final system\n",
      "INFO:geometry:\tthere are 72 torsion forces in the no-nonbonded final system\n",
      "INFO:geometry:forward final system defined with 0 neglected angles.\n"
     ]
    },
    {
     "name": "stdout",
     "output_type": "stream",
     "text": [
      "conducting subsequent work with the following platform: CUDA\n",
      "conducting subsequent work with the following platform: CUDA\n"
     ]
    },
    {
     "name": "stderr",
     "output_type": "stream",
     "text": [
      "INFO:geometry:total reduced potential before atom placement: 16.82000092279191\n"
     ]
    },
    {
     "name": "stdout",
     "output_type": "stream",
     "text": [
      "conducting subsequent work with the following platform: CUDA\n",
      "conducting subsequent work with the following platform: CUDA\n",
      "conducting subsequent work with the following platform: CUDA\n"
     ]
    },
    {
     "name": "stderr",
     "output_type": "stream",
     "text": [
      "INFO:geometry:total reduced energy added from growth system: -57.50232898434274\n",
      "INFO:geometry:final reduced energy -40.682329157172994\n",
      "INFO:geometry:sum of energies: -40.682328061550834\n",
      "INFO:geometry:magnitude of difference in the energies: 1.0956221672131505e-06\n",
      "INFO:geometry:Final logp_proposal: 61.1915099599099\n"
     ]
    },
    {
     "name": "stdout",
     "output_type": "stream",
     "text": [
      "added energy components: [('CustomBondForce', 1.1343534429877318), ('CustomAngleForce', 5.9040471198448286), ('CustomTorsionForce', 11.435548498163902), ('CustomBondForce', -75.97627804533923)]\n"
     ]
    },
    {
     "name": "stderr",
     "output_type": "stream",
     "text": [
      "INFO:geometry:logp_reverse: performing reverse proposal\n",
      "INFO:geometry:logp_reverse: unique new atoms detected; proceeding to _logp_propose...\n",
      "INFO:geometry:Conducting forward proposal...\n",
      "INFO:geometry:Computing proposal order with NetworkX...\n",
      "INFO:geometry:number of atoms to be placed: 3\n",
      "INFO:geometry:Atom index proposal order is [11, 12, 15]\n",
      "INFO:geometry:omitted_bonds: []\n",
      "INFO:geometry:direction of proposal is reverse; creating atoms_with_positions from old system/topology\n",
      "INFO:geometry:creating growth system...\n",
      "INFO:geometry:\tcreating bond force...\n",
      "INFO:geometry:\tthere are 21 bonds in reference force.\n",
      "INFO:geometry:\tcreating angle force...\n",
      "INFO:geometry:\tthere are 36 angles in reference force.\n",
      "INFO:geometry:\tcreating torsion force...\n",
      "INFO:geometry:\tcreating extra torsions force...\n",
      "INFO:geometry:\tthere are 42 torsions in reference force.\n",
      "INFO:geometry:\tcreating nonbonded force...\n",
      "INFO:geometry:\t\tgrabbing reference nonbonded method, cutoff, switching function, switching distance...\n",
      "INFO:geometry:\t\tcreating nonbonded exception force (i.e. custom bond for 1,4s)...\n",
      "INFO:geometry:\t\tlooping through exceptions calculating growth indices, and adding appropriate interactions to custom bond force.\n",
      "INFO:geometry:\t\tthere are 98 in the reference Nonbonded force\n",
      "INFO:geometry:Neglected angle terms : []\n",
      "INFO:geometry:omitted_growth_terms: {'bonds': [], 'angles': [], 'torsions': [], '1,4s': []}\n",
      "INFO:geometry:extra torsions: {}\n",
      "INFO:geometry:neglected angle terms include []\n",
      "INFO:geometry:log probability choice of torsions and atom order: -5.0875963352323845\n",
      "INFO:geometry:creating platform, integrators, and contexts; setting growth parameter\n"
     ]
    },
    {
     "name": "stdout",
     "output_type": "stream",
     "text": [
      "conducting subsequent work with the following platform: CUDA\n"
     ]
    },
    {
     "name": "stderr",
     "output_type": "stream",
     "text": [
      "INFO:geometry:setting atoms_with_positions context old positions\n"
     ]
    },
    {
     "name": "stdout",
     "output_type": "stream",
     "text": [
      "conducting subsequent work with the following platform: CUDA\n"
     ]
    },
    {
     "name": "stderr",
     "output_type": "stream",
     "text": [
      "INFO:geometry:There are 3 new atoms\n",
      "INFO:geometry:\treduced angle potential = 8.578546222633222e-06.\n",
      "INFO:geometry:\treduced angle potential = 1.858184262206258e-06.\n",
      "INFO:geometry:\treduced angle potential = 1.1491328110690509.\n",
      "INFO:geometry:\tbeginning construction of no_nonbonded final system...\n",
      "INFO:geometry:\tinitial no-nonbonded final system forces ['HarmonicBondForce', 'HarmonicAngleForce', 'PeriodicTorsionForce', 'NonbondedForce']\n",
      "INFO:geometry:\tfinal no-nonbonded final system forces dict_keys(['HarmonicBondForce', 'HarmonicAngleForce', 'PeriodicTorsionForce', 'NonbondedForce'])\n",
      "INFO:geometry:\tthere are 21 bond forces in the no-nonbonded final system\n",
      "INFO:geometry:\tthere are 36 angle forces in the no-nonbonded final system\n",
      "INFO:geometry:\tthere are 42 torsion forces in the no-nonbonded final system\n",
      "INFO:geometry:reverse final system defined with 0 neglected angles.\n"
     ]
    },
    {
     "name": "stdout",
     "output_type": "stream",
     "text": [
      "conducting subsequent work with the following platform: CUDA\n",
      "conducting subsequent work with the following platform: CUDA\n"
     ]
    },
    {
     "name": "stderr",
     "output_type": "stream",
     "text": [
      "INFO:geometry:total reduced potential before atom placement: 16.82000092279191\n"
     ]
    },
    {
     "name": "stdout",
     "output_type": "stream",
     "text": [
      "conducting subsequent work with the following platform: CUDA\n",
      "conducting subsequent work with the following platform: CUDA\n",
      "conducting subsequent work with the following platform: CUDA\n"
     ]
    },
    {
     "name": "stderr",
     "output_type": "stream",
     "text": [
      "INFO:geometry:total reduced energy added from growth system: 10.845356658370308\n",
      "INFO:geometry:final reduced energy 27.66535807795398\n",
      "INFO:geometry:sum of energies: 27.66535758116222\n",
      "INFO:geometry:magnitude of difference in the energies: 4.967917615061879e-07\n",
      "INFO:geometry:Final logp_proposal: 26.93396257007598\n"
     ]
    },
    {
     "name": "stdout",
     "output_type": "stream",
     "text": [
      "added energy components: [('CustomBondForce', 5.337593030122811e-05), ('CustomAngleForce', 1.5196358350712886), ('CustomTorsionForce', 0.005213740573906639), ('CustomBondForce', 9.320453706794812)]\n"
     ]
    },
    {
     "name": "stderr",
     "output_type": "stream",
     "text": [
      "INFO:relative:Beginning nonbonded method, total particle, barostat, and exceptions retrieval...\n",
      "INFO:relative:Old system forces: dict_keys(['HarmonicBondForce', 'HarmonicAngleForce', 'PeriodicTorsionForce', 'NonbondedForce'])\n",
      "INFO:relative:New system forces: dict_keys(['HarmonicBondForce', 'HarmonicAngleForce', 'PeriodicTorsionForce', 'NonbondedForce'])\n",
      "INFO:relative:No unknown forces.\n",
      "INFO:relative:Nonbonded method to be used (i.e. from old system): 0\n",
      "INFO:relative:Adding and mapping old atoms to hybrid system...\n",
      "INFO:relative:Adding and mapping new atoms to hybrid system...\n",
      "INFO:relative:No MonteCarloBarostat added.\n",
      "INFO:relative:getDefaultPeriodicBoxVectors added to hybrid: [Quantity(value=Vec3(x=2.0, y=0.0, z=0.0), unit=nanometer), Quantity(value=Vec3(x=0.0, y=2.0, z=0.0), unit=nanometer), Quantity(value=Vec3(x=0.0, y=0.0, z=2.0), unit=nanometer)]\n",
      "INFO:relative:Determined atom classes.\n",
      "INFO:relative:Generating old system exceptions dict...\n",
      "INFO:relative:Generating new system exceptions dict...\n",
      "INFO:relative:Handling constraints...\n",
      "INFO:relative:Handling virtual sites...\n",
      "INFO:relative:\t_handle_virtual_sites: numVirtualSites: 0\n",
      "INFO:relative:Adding bond force terms...\n",
      "INFO:relative:Adding angle force terms...\n",
      "INFO:relative:Adding torsion force terms...\n",
      "INFO:relative:Adding nonbonded force terms...\n",
      "INFO:relative:\t_add_nonbonded_force_terms: <simtk.openmm.openmm.NonbondedForce; proxy of <Swig Object of type 'OpenMM::NonbondedForce *' at 0x2b0c1b266b70> > added to hybrid system\n",
      "INFO:relative:\t_add_nonbonded_force_terms: nonbonded_method is NoCutoff\n",
      "INFO:relative:\t_add_nonbonded_force_terms: 0 added to standard nonbonded force\n",
      "INFO:relative:\t_add_nonbonded_force_terms: 0 added to sterics_custom_nonbonded force\n",
      "INFO:relative:\t_add_nonbonded_force_terms: <simtk.openmm.openmm.CustomNonbondedForce; proxy of <Swig Object of type 'OpenMM::CustomNonbondedForce *' at 0x2b0c1b266870> > added to hybrid system\n",
      "INFO:relative:Handling harmonic bonds...\n",
      "INFO:relative:\thandle_harmonic_bonds: looping through old_system to add relevant terms...\n",
      "INFO:relative:\thandle_harmonic_bonds: looping through new_system to add relevant terms...\n",
      "INFO:relative:Handling harmonic angles...\n",
      "INFO:relative:\thandle_harmonic_angles: looping through old_system to add relevant terms...\n",
      "INFO:relative:\thandle_harmonic_angles: looping through new_system to add relevant terms...\n",
      "INFO:relative:Handling torsion forces...\n",
      "INFO:relative:\thandle_periodic_torsion_forces: looping through old_system to add relevant terms...\n",
      "INFO:relative:\thandle_periodic_torsion_forces: looping through new_system to add relevant terms...\n",
      "INFO:relative:Handling nonbonded forces...\n",
      "INFO:relative:\thandle_nonbonded: looping through all particles in hybrid...\n",
      "INFO:relative:\thandle_nonbonded: Handling Interaction Groups...\n",
      "INFO:relative:\thandle_nonbonded: Handling Hybrid Exceptions...\n",
      "INFO:relative:\thandle_nonbonded: Handling Original Exceptions...\n",
      "INFO:relative:Handling unique_new/old interaction exceptions...\n",
      "INFO:relative:There are old or new system exceptions...proceeding.\n"
     ]
    },
    {
     "name": "stdout",
     "output_type": "stream",
     "text": [
      "conducting subsequent work with the following platform: CUDA\n",
      "conducting subsequent work with the following platform: CUDA\n",
      "\t\t\tHarmonicBondForce: 0.0340329243809594\n",
      "\t\t\tHarmonicAngleForce: 2.134739442948204\n",
      "\t\t\tPeriodicTorsionForce: 16.17613147765423\n",
      "\t\t\tNonbondedForce: -38.74516998365842\n",
      "\t\t\tAndersenThermostat: 0.0\n",
      "conducting subsequent work with the following platform: CUDA\n",
      "\t\t\tCustomBondForce: 0.03397954845065818\n",
      "\t\t\tHarmonicBondForce: 1.134406818918033\n",
      "\t\t\tCustomAngleForce: 0.6151036078769154\n",
      "\t\t\tHarmonicAngleForce: 7.423682954916116\n",
      "\t\t\tCustomTorsionForce: 0.0\n",
      "\t\t\tPeriodicTorsionForce: 27.61168000693709\n",
      "\t\t\tNonbondedForce: -119.42603122865349\n",
      "\t\t\tCustomNonbondedForce: 4.704582417313629\n",
      "\t\t\tCustomBondForce: 0.0\n",
      "\t\t\tAndersenThermostat: 0.0\n",
      "conducting subsequent work with the following platform: CUDA\n",
      "\t\t\tCustomBondForce: 0.03397954845065818\n",
      "\t\t\tHarmonicBondForce: 1.134406818918033\n",
      "\t\t\tCustomAngleForce: 0.6151036078769154\n",
      "\t\t\tHarmonicAngleForce: 7.423682954916116\n",
      "\t\t\tCustomTorsionForce: 0.0\n",
      "\t\t\tPeriodicTorsionForce: 27.61168000693709\n",
      "\t\t\tNonbondedForce: -66.0364811522098\n",
      "\t\t\tCustomNonbondedForce: 208.20690663910057\n",
      "\t\t\tCustomBondForce: 0.0\n",
      "\t\t\tAndersenThermostat: 0.0\n",
      "conducting subsequent work with the following platform: CUDA\n",
      "\t\t\tHarmonicBondForce: 1.1683329914383902\n",
      "\t\t\tHarmonicAngleForce: 6.519150727721743\n",
      "\t\t\tPeriodicTorsionForce: 27.606466295747197\n",
      "\t\t\tNonbondedForce: 132.84994735783897\n",
      "\t\t\tAndersenThermostat: 0.0\n"
     ]
    }
   ],
   "source": [
    "# Generate ala->thr vacuum htf\n",
    "wt = 'ALA'\n",
    "proposed = 'THR'\n",
    "outdir = \"/data/chodera/zhangi/perses_benchmark/neq/7/\"\n",
    "i = 5\n",
    "apo_delivery = PointMutationExecutor(f\"../input/{wt.lower()}_vacuum.pdb\", \n",
    "                          '1', \n",
    "                          '2', \n",
    "                          proposed,\n",
    "                          phase='vacuum',\n",
    "                          barostat=None,\n",
    "                          forcefield_kwargs={'removeCMMotion': False, 'ewaldErrorTolerance': 0.00025, 'hydrogenMass' : 4 * unit.amus},\n",
    "                          periodic_forcefield_kwargs=None, \n",
    "                          nonperiodic_forcefield_kwargs={'nonbondedMethod': app.NoCutoff}\n",
    "                         )\n",
    "pickle.dump(apo_delivery.get_apo_htf(), open(os.path.join(outdir, f\"{i}/{i}_vacuum.pickle\"), \"wb\" ))\n",
    "\n"
   ]
  },
  {
   "cell_type": "markdown",
   "metadata": {},
   "source": [
    "### Generate equilibrium cache"
   ]
  },
  {
   "cell_type": "code",
   "execution_count": 2,
   "metadata": {},
   "outputs": [
    {
     "data": {
      "text/plain": [
       "[None]"
      ]
     },
     "execution_count": 2,
     "metadata": {},
     "output_type": "execute_result"
    }
   ],
   "source": [
    "# Set up logger\n",
    "class TimeFilter(logging.Filter):\n",
    "    def filter(self, record):\n",
    "        try:\n",
    "            last = self.last\n",
    "        except AttributeError:\n",
    "            last = record.relativeCreated\n",
    "        delta = datetime.datetime.fromtimestamp(record.relativeCreated/1000.0) - datetime.datetime.fromtimestamp(last/1000.0)\n",
    "        record.relative = '{0:.2f}'.format(delta.seconds + delta.microseconds/1000000.0)\n",
    "        self.last = record.relativeCreated\n",
    "        return True\n",
    "fmt = logging.Formatter(fmt=\"%(asctime)s:(%(relative)ss):%(name)s:%(message)s\")\n",
    "logging.basicConfig(\n",
    "    format='%(asctime)s %(levelname)-8s %(message)s',\n",
    "    level=logging.DEBUG,\n",
    "    datefmt='%Y-%m-%d %H:%M:%S')\n",
    "_logger = logging.getLogger()\n",
    "_logger.setLevel(logging.DEBUG)\n",
    "[hndl.addFilter(TimeFilter()) for hndl in _logger.handlers]\n",
    "[hndl.setFormatter(fmt) for hndl in _logger.handlers]\n"
   ]
  },
  {
   "cell_type": "code",
   "execution_count": 3,
   "metadata": {},
   "outputs": [],
   "source": [
    "htf = pickle.load(open(\"/data/chodera/zhangi/perses_benchmark/neq/7/20/20_vacuum.pickle\", \"rb\" ))"
   ]
  },
  {
   "cell_type": "code",
   "execution_count": 4,
   "metadata": {},
   "outputs": [
    {
     "data": {
      "text/plain": [
       "False"
      ]
     },
     "execution_count": 4,
     "metadata": {},
     "output_type": "execute_result"
    }
   ],
   "source": [
    "htf.hybrid_system.usesPeriodicBoundaryConditions()"
   ]
  },
  {
   "cell_type": "code",
   "execution_count": 5,
   "metadata": {},
   "outputs": [
    {
     "name": "stdout",
     "output_type": "stream",
     "text": [
      "<Atom 0 (H1) of chain 0 residue 0 (ACE)> 0\n",
      "<Atom 1 (CH3) of chain 0 residue 0 (ACE)> 1\n",
      "<Atom 2 (H2) of chain 0 residue 0 (ACE)> 2\n",
      "<Atom 3 (H3) of chain 0 residue 0 (ACE)> 3\n",
      "<Atom 4 (C) of chain 0 residue 0 (ACE)> 4\n",
      "<Atom 5 (O) of chain 0 residue 0 (ACE)> 5\n",
      "<Atom 6 (N) of chain 0 residue 1 (ALA)> 6\n",
      "<Atom 7 (H) of chain 0 residue 1 (ALA)> 7\n",
      "<Atom 8 (CA) of chain 0 residue 1 (ALA)> 8\n",
      "<Atom 9 (HA) of chain 0 residue 1 (ALA)> 9\n",
      "<Atom 10 (CB) of chain 0 residue 1 (ALA)> 10\n",
      "<Atom 11 (C) of chain 0 residue 1 (ALA)> 11\n",
      "<Atom 12 (O) of chain 0 residue 1 (ALA)> 12\n",
      "<Atom 13 (HB1) of chain 0 residue 1 (ALA)> 13\n",
      "<Atom 14 (HB2) of chain 0 residue 1 (ALA)> 14\n",
      "<Atom 15 (HB3) of chain 0 residue 1 (ALA)> 15\n",
      "<Atom 16 (N) of chain 0 residue 2 (NME)> 16\n",
      "<Atom 17 (H) of chain 0 residue 2 (NME)> 17\n",
      "<Atom 18 (C) of chain 0 residue 2 (NME)> 18\n",
      "<Atom 19 (H1) of chain 0 residue 2 (NME)> 19\n",
      "<Atom 20 (H2) of chain 0 residue 2 (NME)> 20\n",
      "<Atom 21 (H3) of chain 0 residue 2 (NME)> 21\n"
     ]
    }
   ],
   "source": [
    "for atom in htf._topology_proposal.new_topology.atoms():\n",
    "    print(atom, atom.index)"
   ]
  },
  {
   "cell_type": "code",
   "execution_count": 6,
   "metadata": {},
   "outputs": [
    {
     "name": "stdout",
     "output_type": "stream",
     "text": [
      "ACE1-H1 0\n",
      "ACE1-CH3 1\n",
      "ACE1-H2 2\n",
      "ACE1-H3 3\n",
      "ACE1-C 4\n",
      "ACE1-O 5\n",
      "THR2-N 6\n",
      "THR2-H 7\n",
      "THR2-CA 8\n",
      "THR2-HA 9\n",
      "THR2-CB 10\n",
      "THR2-C 11\n",
      "THR2-O 12\n",
      "THR2-HB 13\n",
      "THR2-CG2 14\n",
      "THR2-HG21 15\n",
      "THR2-HG22 16\n",
      "THR2-HG23 17\n",
      "THR2-OG1 18\n",
      "THR2-HG1 19\n",
      "THR2-HB2 26\n",
      "THR2-HB3 27\n",
      "NME3-N 20\n",
      "NME3-H 21\n",
      "NME3-C 22\n",
      "NME3-H1 23\n",
      "NME3-H2 24\n",
      "NME3-H3 25\n"
     ]
    }
   ],
   "source": [
    "for atom in htf.hybrid_topology.atoms:\n",
    "    print(atom, atom.index)"
   ]
  },
  {
   "cell_type": "code",
   "execution_count": 7,
   "metadata": {},
   "outputs": [
    {
     "data": {
      "text/plain": [
       "28"
      ]
     },
     "execution_count": 7,
     "metadata": {},
     "output_type": "execute_result"
    }
   ],
   "source": [
    "len(htf.hybrid_positions)"
   ]
  },
  {
   "cell_type": "code",
   "execution_count": 8,
   "metadata": {},
   "outputs": [
    {
     "data": {
      "text/plain": [
       "28"
      ]
     },
     "execution_count": 8,
     "metadata": {},
     "output_type": "execute_result"
    }
   ],
   "source": [
    "len(list(htf.hybrid_topology.atoms))"
   ]
  },
  {
   "cell_type": "code",
   "execution_count": 20,
   "metadata": {},
   "outputs": [
    {
     "data": {
      "text/plain": [
       "9"
      ]
     },
     "execution_count": 20,
     "metadata": {},
     "output_type": "execute_result"
    }
   ],
   "source": [
    "# # Add RMSD force\n",
    "# from simtk.openmm import RMSDForce\n",
    "# rmsd_force = RMSDForce(htf.hybrid_positions, [0, 1, 2, 3, 4, 5, 6, 7, 13, 14, 16, 17, 18, 19, 20, 21])\n",
    "# htf.hybrid_system.addForce(rmsd_force)"
   ]
  },
  {
   "cell_type": "code",
   "execution_count": 31,
   "metadata": {},
   "outputs": [
    {
     "data": {
      "text/plain": [
       "(0, 1, 2, 3, 4, 5, 6, 7, 13, 14, 16, 17, 18, 19, 20, 21)"
      ]
     },
     "execution_count": 31,
     "metadata": {},
     "output_type": "execute_result"
    }
   ],
   "source": [
    "# rmsd_force.getParticles()"
   ]
  },
  {
   "cell_type": "code",
   "execution_count": 9,
   "metadata": {},
   "outputs": [],
   "source": [
    "# Get forces\n",
    "# for i in range(htf.hybrid_system.getNumForces()):\n",
    "#     print(i, htf.hybrid_system.getForce(i))"
   ]
  },
  {
   "cell_type": "code",
   "execution_count": 10,
   "metadata": {},
   "outputs": [],
   "source": [
    "# # Get non-sidechain heavy atoms\n",
    "# for atom in htf.hybrid_topology.atoms:\n",
    "#     print(atom, atom.index, atom.name, atom.element)"
   ]
  },
  {
   "cell_type": "code",
   "execution_count": 13,
   "metadata": {},
   "outputs": [],
   "source": [
    "# atom_indices = htf.hybrid_topology.select(\"not name hydrogen and not sidechain\")"
   ]
  },
  {
   "cell_type": "code",
   "execution_count": 14,
   "metadata": {},
   "outputs": [
    {
     "data": {
      "text/plain": [
       "array([ 4,  5,  6,  8, 11, 12, 20, 22])"
      ]
     },
     "execution_count": 14,
     "metadata": {},
     "output_type": "execute_result"
    }
   ],
   "source": [
    "# atom_indices"
   ]
  },
  {
   "cell_type": "code",
   "execution_count": 20,
   "metadata": {},
   "outputs": [
    {
     "name": "stdout",
     "output_type": "stream",
     "text": [
      "47 [4, 6, 8, 11, 3, Quantity(value=0.0, unit=radian), Quantity(value=1.75728, unit=kilojoule/mole)]\n",
      "48 [4, 6, 8, 11, 2, Quantity(value=0.0, unit=radian), Quantity(value=1.12968, unit=kilojoule/mole)]\n",
      "51 [5, 4, 6, 8, 2, Quantity(value=3.141592653589793, unit=radian), Quantity(value=10.46, unit=kilojoule/mole)]\n",
      "55 [6, 8, 11, 20, 3, Quantity(value=3.141592653589793, unit=radian), Quantity(value=2.3012, unit=kilojoule/mole)]\n",
      "56 [6, 8, 11, 20, 2, Quantity(value=3.141592653589793, unit=radian), Quantity(value=6.610720000000001, unit=kilojoule/mole)]\n",
      "57 [6, 8, 11, 20, 1, Quantity(value=3.141592653589793, unit=radian), Quantity(value=1.8828, unit=kilojoule/mole)]\n",
      "59 [8, 11, 20, 22, 2, Quantity(value=3.141592653589793, unit=radian), Quantity(value=10.46, unit=kilojoule/mole)]\n",
      "73 [12, 11, 20, 22, 2, Quantity(value=3.141592653589793, unit=radian), Quantity(value=10.46, unit=kilojoule/mole)]\n",
      "76 [8, 20, 11, 12, 2, Quantity(value=3.141592653589793, unit=radian), Quantity(value=43.932, unit=kilojoule/mole)]\n"
     ]
    }
   ],
   "source": [
    "# # Multiply force constant in PeriodicTorsionForce by 100 for heavy atom non-sidechain dihedrals\n",
    "# force = htf.hybrid_system.getForce(5)\n",
    "# for i in range(force.getNumTorsions()):\n",
    "#     torsion = force.getTorsionParameters(i)\n",
    "#     atoms = torsion[:4]\n",
    "#     result = all(atom in atom_indices for atom in atoms) # Check that all atom indices are in non-sidechain heavy atom list\n",
    "#     if result:\n",
    "#         print(i, torsion)\n",
    "#         force.setTorsionParameters(i, torsion[0], torsion[1], torsion[2], torsion[3], torsion[4], torsion[5], torsion[6]*100)\n",
    "\n"
   ]
  },
  {
   "cell_type": "code",
   "execution_count": 22,
   "metadata": {},
   "outputs": [
    {
     "data": {
      "text/plain": [
       "[4,\n",
       " 6,\n",
       " 8,\n",
       " 11,\n",
       " 3,\n",
       " Quantity(value=0.0, unit=radian),\n",
       " Quantity(value=175.728, unit=kilojoule/mole)]"
      ]
     },
     "execution_count": 22,
     "metadata": {},
     "output_type": "execute_result"
    }
   ],
   "source": [
    "# htf.hybrid_system.getForce(5).getTorsionParameters(47)"
   ]
  },
  {
   "cell_type": "code",
   "execution_count": 11,
   "metadata": {},
   "outputs": [],
   "source": [
    "atom_indices = htf.hybrid_topology.select(\"not name hydrogen and not sidechain\")"
   ]
  },
  {
   "cell_type": "code",
   "execution_count": 12,
   "metadata": {},
   "outputs": [
    {
     "data": {
      "text/plain": [
       "array([ 4,  5,  6,  8, 11, 12, 20, 22])"
      ]
     },
     "execution_count": 12,
     "metadata": {},
     "output_type": "execute_result"
    }
   ],
   "source": [
    "atom_indices"
   ]
  },
  {
   "cell_type": "code",
   "execution_count": null,
   "metadata": {},
   "outputs": [],
   "source": []
  },
  {
   "cell_type": "code",
   "execution_count": 18,
   "metadata": {},
   "outputs": [],
   "source": [
    "htf.hybrid_system.setParticleMass(3, 0.0)"
   ]
  },
  {
   "cell_type": "code",
   "execution_count": 26,
   "metadata": {},
   "outputs": [
    {
     "ename": "TypeError",
     "evalue": "in method 'System_setParticleMass', argument 2 of type 'int'",
     "output_type": "error",
     "traceback": [
      "\u001b[0;31m---------------------------------------------------------------------------\u001b[0m",
      "\u001b[0;31mTypeError\u001b[0m                                 Traceback (most recent call last)",
      "\u001b[0;32m<ipython-input-26-0c089d0e7f68>\u001b[0m in \u001b[0;36m<module>\u001b[0;34m\u001b[0m\n\u001b[1;32m      3\u001b[0m \u001b[0;31m# atom_indices = top.select(\"not name hydrogen and not sidechain\")\u001b[0m\u001b[0;34m\u001b[0m\u001b[0;34m\u001b[0m\u001b[0;34m\u001b[0m\u001b[0m\n\u001b[1;32m      4\u001b[0m \u001b[0;32mfor\u001b[0m \u001b[0mindex\u001b[0m \u001b[0;32min\u001b[0m \u001b[0matom_indices\u001b[0m\u001b[0;34m:\u001b[0m\u001b[0;34m\u001b[0m\u001b[0;34m\u001b[0m\u001b[0m\n\u001b[0;32m----> 5\u001b[0;31m     \u001b[0mhtf\u001b[0m\u001b[0;34m.\u001b[0m\u001b[0mhybrid_system\u001b[0m\u001b[0;34m.\u001b[0m\u001b[0msetParticleMass\u001b[0m\u001b[0;34m(\u001b[0m\u001b[0mindex\u001b[0m\u001b[0;34m,\u001b[0m \u001b[0;36m0.0\u001b[0m\u001b[0;34m)\u001b[0m\u001b[0;34m\u001b[0m\u001b[0;34m\u001b[0m\u001b[0m\n\u001b[0m",
      "\u001b[0;32m~/miniconda3/envs/perses-sims/lib/python3.7/site-packages/simtk/openmm/openmm.py\u001b[0m in \u001b[0;36msetParticleMass\u001b[0;34m(self, index, mass)\u001b[0m\n\u001b[1;32m  15857\u001b[0m             \u001b[0mthe\u001b[0m \u001b[0mmass\u001b[0m \u001b[0mof\u001b[0m \u001b[0mthe\u001b[0m \u001b[0mparticle\u001b[0m\u001b[0;34m\u001b[0m\u001b[0;34m\u001b[0m\u001b[0m\n\u001b[1;32m  15858\u001b[0m         \"\"\"\n\u001b[0;32m> 15859\u001b[0;31m         \u001b[0;32mreturn\u001b[0m \u001b[0m_openmm\u001b[0m\u001b[0;34m.\u001b[0m\u001b[0mSystem_setParticleMass\u001b[0m\u001b[0;34m(\u001b[0m\u001b[0mself\u001b[0m\u001b[0;34m,\u001b[0m \u001b[0mindex\u001b[0m\u001b[0;34m,\u001b[0m \u001b[0mmass\u001b[0m\u001b[0;34m)\u001b[0m\u001b[0;34m\u001b[0m\u001b[0;34m\u001b[0m\u001b[0m\n\u001b[0m\u001b[1;32m  15860\u001b[0m \u001b[0;34m\u001b[0m\u001b[0m\n\u001b[1;32m  15861\u001b[0m \u001b[0;34m\u001b[0m\u001b[0m\n",
      "\u001b[0;31mTypeError\u001b[0m: in method 'System_setParticleMass', argument 2 of type 'int'"
     ]
    }
   ],
   "source": [
    "# First compute the system mass\n",
    "# top = md.Topology.from_openmm(structure.topology)\n",
    "# atom_indices = top.select(\"not name hydrogen and not sidechain\")\n",
    "for index in atom_indices:\n",
    "    htf.hybrid_system.setParticleMass(index, 0.0)"
   ]
  },
  {
   "cell_type": "code",
   "execution_count": 23,
   "metadata": {},
   "outputs": [
    {
     "name": "stdout",
     "output_type": "stream",
     "text": [
      "<class 'int'>\n"
     ]
    }
   ],
   "source": [
    "print(type(4))"
   ]
  },
  {
   "cell_type": "code",
   "execution_count": 23,
   "metadata": {},
   "outputs": [],
   "source": [
    "n_replicas = 12  # Number of temperature replicas.\n",
    "T_min = 298.0 * unit.kelvin  # Minimum temperature.\n",
    "T_max = 600.0 * unit.kelvin  # Maximum temperature.\n",
    "temperatures = [T_min + (T_max - T_min) * (math.exp(float(i) / float(n_replicas-1)) - 1.0) / (math.e - 1.0)\n",
    "                for i in range(n_replicas)]\n"
   ]
  },
  {
   "cell_type": "code",
   "execution_count": 24,
   "metadata": {},
   "outputs": [
    {
     "data": {
      "text/plain": [
       "[Quantity(value=298.0, unit=kelvin),\n",
       " Quantity(value=314.72669195828234, unit=kelvin),\n",
       " Quantity(value=333.0452538211905, unit=kelvin),\n",
       " Quantity(value=353.107182955901, unit=kelvin),\n",
       " Quantity(value=375.0783946491671, unit=kelvin),\n",
       " Quantity(value=399.14059425264895, unit=kelvin),\n",
       " Quantity(value=425.49277991454665, unit=kelvin),\n",
       " Quantity(value=454.35288832536025, unit=kelvin),\n",
       " Quantity(value=485.9595970883531, unit=kelvin),\n",
       " Quantity(value=520.5742986206017, unit=kelvin),\n",
       " Quantity(value=558.4832619091029, unit=kelvin),\n",
       " Quantity(value=600.0, unit=kelvin)]"
      ]
     },
     "execution_count": 24,
     "metadata": {},
     "output_type": "execute_result"
    }
   ],
   "source": [
    "temperatures"
   ]
  },
  {
   "cell_type": "code",
   "execution_count": 25,
   "metadata": {},
   "outputs": [],
   "source": [
    "alchemical_state = RelativeAlchemicalState.from_system(htf.hybrid_system)\n",
    "alchemical_state.set_alchemical_parameters(1)"
   ]
  },
  {
   "cell_type": "code",
   "execution_count": 24,
   "metadata": {},
   "outputs": [],
   "source": [
    "thermodynamic_states = [states.ThermodynamicState(system=htf.hybrid_system, temperature=T)\n",
    "                        for T in temperatures]\n",
    "compound_states = [states.CompoundThermodynamicState(thermodynamic_state=thermodynamic_state, composable_states=[alchemical_state])\n",
    "                        for thermodynamic_state in thermodynamic_states]"
   ]
  },
  {
   "cell_type": "code",
   "execution_count": 25,
   "metadata": {},
   "outputs": [
    {
     "data": {
      "text/plain": [
       "29"
      ]
     },
     "execution_count": 25,
     "metadata": {},
     "output_type": "execute_result"
    }
   ],
   "source": [
    "compound_states[0].n_particles"
   ]
  },
  {
   "cell_type": "code",
   "execution_count": 26,
   "metadata": {},
   "outputs": [
    {
     "data": {
      "text/plain": [
       "False"
      ]
     },
     "execution_count": 26,
     "metadata": {},
     "output_type": "execute_result"
    }
   ],
   "source": [
    "thermodynamic_states[0].is_periodic"
   ]
  },
  {
   "cell_type": "code",
   "execution_count": 27,
   "metadata": {
    "scrolled": true
   },
   "outputs": [
    {
     "name": "stderr",
     "output_type": "stream",
     "text": [
      "WARNING:openmmtools.multistate.multistatesampler:Warning: The openmmtools.multistate API is experimental and may change in future releases\n"
     ]
    }
   ],
   "source": [
    "move = mcmc.GHMCMove(timestep=2.0*unit.femtoseconds, n_steps=500)\n",
    "simulation = multistate.ReplicaExchangeSampler(mcmc_moves=move, number_of_iterations=5000)\n"
   ]
  },
  {
   "cell_type": "code",
   "execution_count": 30,
   "metadata": {
    "scrolled": true
   },
   "outputs": [
    {
     "name": "stderr",
     "output_type": "stream",
     "text": [
      "2020-08-18 14:33:30,997:(0.00s):openmmtools.multistate.multistatereporter:Warning: The openmmtools.multistate API is experimental and may change in future releases\n",
      "2020-08-18 14:33:31,001:(0.00s):openmmtools.multistate.multistatereporter:Initial checkpoint file automatically chosen as /data/chodera/zhangi/perses_benchmark/neq/7/16/16_vacuum_thr_5ns_checkpoint.nc\n",
      "2020-08-18 14:33:31,251:(0.25s):mpiplus.mpiplus:Single node: executing <bound method MultiStateReporter.storage_exists of <openmmtools.multistate.multistatereporter.MultiStateReporter object at 0x2af6e8881f28>>\n",
      "2020-08-18 14:33:31,387:(0.14s):mpiplus.mpiplus:Single node: executing <function ReplicaExchangeSampler._display_citations at 0x2af6be4ee158>\n",
      "2020-08-18 14:33:31,389:(0.00s):mpiplus.mpiplus:Single node: executing <function MultiStateSampler._display_citations at 0x2af6be4a8598>\n",
      "2020-08-18 14:33:31,391:(0.00s):mpiplus.mpiplus:Single node: executing <function MultiStateSampler._initialize_reporter at 0x2af6be4a8840>\n",
      "2020-08-18 14:33:31,436:(0.04s):openmmtools.multistate.multistatereporter:Serialized state thermodynamic_states/0 is  7310B | 7.139KB | 0.007MB\n",
      "2020-08-18 14:33:31,458:(0.02s):openmmtools.utils:Storing thermodynamic states took    0.033s\n",
      "2020-08-18 14:33:31,460:(0.00s):openmmtools.multistate.multistatesampler:Storing general ReplicaExchange options...\n",
      "2020-08-18 14:33:31,466:(0.01s):mpiplus.mpiplus:Single node: executing <function MultiStateSampler._report_iteration at 0x2af6be4a8950>\n",
      "2020-08-18 14:33:31,468:(0.00s):mpiplus.mpiplus:Single node: executing <function MultiStateSampler._report_iteration_items at 0x2af6be4a8bf8>\n",
      "2020-08-18 14:33:31,475:(0.01s):openmmtools.utils:Storing sampler states took    0.005s\n",
      "2020-08-18 14:33:31,501:(0.03s):openmmtools.utils:Writing iteration information to storage took    0.033s\n",
      "2020-08-18 14:33:31,503:(0.00s):mpiplus.mpiplus:Running _compute_replica_energies serially.\n",
      "2020-08-18 14:33:31,582:(0.08s):openmmtools.utils:Computing energy matrix took    0.078s\n",
      "2020-08-18 14:33:31,584:(0.00s):mpiplus.mpiplus:Single node: executing <bound method MultiStateReporter.write_energies of <openmmtools.multistate.multistatereporter.MultiStateReporter object at 0x2af6e8881f28>>\n",
      "2020-08-18 14:33:31,587:(0.00s):openmmtools.multistate.multistatesampler:********************************************************************************\n",
      "2020-08-18 14:33:31,589:(0.00s):openmmtools.multistate.multistatesampler:Iteration 1/5000\n",
      "2020-08-18 14:33:31,591:(0.00s):openmmtools.multistate.multistatesampler:********************************************************************************\n",
      "2020-08-18 14:33:31,593:(0.00s):mpiplus.mpiplus:Single node: executing <function ReplicaExchangeSampler._mix_replicas at 0x2af6be4efd90>\n",
      "2020-08-18 14:33:31,595:(0.00s):openmmtools.multistate.replicaexchange:Mixing replicas...\n",
      "2020-08-18 14:33:31,598:(0.00s):openmmtools.utils:Mixing of replicas took    0.001s\n",
      "2020-08-18 14:33:31,600:(0.00s):openmmtools.multistate.replicaexchange:Accepted 41472/41472 attempted swaps (100.0%)\n",
      "2020-08-18 14:33:31,602:(0.00s):openmmtools.multistate.multistatesampler:Propagating all replicas...\n",
      "2020-08-18 14:33:31,604:(0.00s):mpiplus.mpiplus:Running _propagate_replica serially.\n",
      "2020-08-18 14:33:39,713:(8.11s):mpiplus.mpiplus:Running _get_replica_move_statistics serially.\n",
      "2020-08-18 14:33:39,715:(0.00s):openmmtools.utils:Propagating all replicas took    8.113s\n",
      "2020-08-18 14:33:39,717:(0.00s):mpiplus.mpiplus:Running _compute_replica_energies serially.\n",
      "2020-08-18 14:33:39,784:(0.07s):openmmtools.utils:Computing energy matrix took    0.067s\n",
      "2020-08-18 14:33:39,785:(0.00s):mpiplus.mpiplus:Single node: executing <function MultiStateSampler._report_iteration at 0x2af6be4a8950>\n",
      "2020-08-18 14:33:39,787:(0.00s):mpiplus.mpiplus:Single node: executing <function MultiStateSampler._report_iteration_items at 0x2af6be4a8bf8>\n",
      "2020-08-18 14:33:39,791:(0.00s):openmmtools.utils:Storing sampler states took    0.003s\n",
      "2020-08-18 14:33:39,802:(0.01s):openmmtools.utils:Writing iteration information to storage took    0.015s\n",
      "2020-08-18 14:33:39,804:(0.00s):openmmtools.multistate.multistatesampler:Not enough iterations for online analysis (self.online_analysis_minimum_iterations = 200)\n",
      "2020-08-18 14:33:39,805:(0.00s):mpiplus.mpiplus:Single node: executing <function MultiStateSampler._online_analysis at 0x2af6be4aa730>\n",
      "2020-08-18 14:33:39,808:(0.00s):openmmtools.multistate.multistatereporter:Creating new NetCDF variable f_k with parameters: {'dtype': dtype('float64'), 'dims': ('dim_size12',), 'chunksizes': (12,)}\n",
      "2020-08-18 14:33:39,811:(0.00s):openmmtools.multistate.multistatereporter:Creating new NetCDF variable free_energy with parameters: {'dtype': <class 'numpy.float64'>, 'dims': ('dim_size2',), 'chunksizes': (2,)}\n",
      "2020-08-18 14:33:39,813:(0.00s):openmmtools.multistate.multistatereporter:Creating new NetCDF variable f_k_history with parameters: {'dtype': dtype('float64'), 'dims': ('iteration', 'dim_size12'), 'chunksizes': (1, 12)}\n",
      "2020-08-18 14:33:39,815:(0.00s):openmmtools.multistate.multistatereporter:Creating new NetCDF variable free_energy_history with parameters: {'dtype': <class 'numpy.float64'>, 'dims': ('iteration', 'dim_size2'), 'chunksizes': (1, 2)}\n",
      "2020-08-18 14:33:39,818:(0.00s):openmmtools.multistate.multistatesampler:*** ONLINE analysis free energies:\n",
      "2020-08-18 14:33:39,819:(0.00s):openmmtools.multistate.multistatesampler:        -0.0     8.3    10.8    11.7    12.1    12.2    12.2    12.2    12.0    11.7    11.3    10.5\n",
      "2020-08-18 14:33:39,821:(0.00s):openmmtools.utils:Computing online free energy estimate took    0.014s\n",
      "2020-08-18 14:33:39,823:(0.00s):openmmtools.multistate.multistatesampler:Iteration took 8.230s.\n",
      "2020-08-18 14:33:39,824:(0.00s):openmmtools.multistate.multistatesampler:Estimated completion in 11:26:10.497364, at Wed Aug 19 01:59:50 2020 (consuming total wall clock time 11:26:18.733110).\n",
      "2020-08-18 14:33:39,826:(0.00s):openmmtools.multistate.multistatesampler:********************************************************************************\n",
      "2020-08-18 14:33:39,828:(0.00s):openmmtools.multistate.multistatesampler:Iteration 2/5000\n",
      "2020-08-18 14:33:39,830:(0.00s):openmmtools.multistate.multistatesampler:********************************************************************************\n",
      "2020-08-18 14:33:39,831:(0.00s):mpiplus.mpiplus:Single node: executing <function ReplicaExchangeSampler._mix_replicas at 0x2af6be4efd90>\n",
      "2020-08-18 14:33:39,833:(0.00s):openmmtools.multistate.replicaexchange:Mixing replicas...\n",
      "2020-08-18 14:33:39,835:(0.00s):openmmtools.utils:Mixing of replicas took    0.001s\n",
      "2020-08-18 14:33:39,837:(0.00s):openmmtools.multistate.replicaexchange:Accepted 16450/41472 attempted swaps (39.7%)\n",
      "2020-08-18 14:33:39,839:(0.00s):openmmtools.multistate.multistatesampler:Propagating all replicas...\n",
      "2020-08-18 14:33:39,840:(0.00s):mpiplus.mpiplus:Running _propagate_replica serially.\n",
      "2020-08-18 14:33:49,805:(9.96s):mpiplus.mpiplus:Running _get_replica_move_statistics serially.\n",
      "2020-08-18 14:33:49,808:(0.00s):openmmtools.utils:Propagating all replicas took    9.969s\n",
      "2020-08-18 14:33:49,809:(0.00s):mpiplus.mpiplus:Running _compute_replica_energies serially.\n",
      "2020-08-18 14:33:49,878:(0.07s):openmmtools.utils:Computing energy matrix took    0.069s\n",
      "2020-08-18 14:33:49,880:(0.00s):mpiplus.mpiplus:Single node: executing <function MultiStateSampler._report_iteration at 0x2af6be4a8950>\n",
      "2020-08-18 14:33:49,882:(0.00s):mpiplus.mpiplus:Single node: executing <function MultiStateSampler._report_iteration_items at 0x2af6be4a8bf8>\n",
      "2020-08-18 14:33:49,886:(0.00s):openmmtools.utils:Storing sampler states took    0.002s\n",
      "2020-08-18 14:33:49,896:(0.01s):openmmtools.utils:Writing iteration information to storage took    0.015s\n",
      "2020-08-18 14:33:49,898:(0.00s):openmmtools.multistate.multistatesampler:Not enough iterations for online analysis (self.online_analysis_minimum_iterations = 200)\n",
      "2020-08-18 14:33:49,900:(0.00s):mpiplus.mpiplus:Single node: executing <function MultiStateSampler._online_analysis at 0x2af6be4aa730>\n",
      "2020-08-18 14:33:49,904:(0.00s):openmmtools.multistate.multistatesampler:*** ONLINE analysis free energies:\n",
      "2020-08-18 14:33:49,905:(0.00s):openmmtools.multistate.multistatesampler:        -0.0     9.8    12.6    13.6    14.0    14.2    14.2    14.1    14.0    13.7    13.1    12.2\n"
     ]
    },
    {
     "name": "stderr",
     "output_type": "stream",
     "text": [
      "2020-08-18 14:33:49,907:(0.00s):openmmtools.utils:Computing online free energy estimate took    0.006s\n",
      "2020-08-18 14:33:49,909:(0.00s):openmmtools.multistate.multistatesampler:Iteration took 10.078s.\n",
      "2020-08-18 14:33:49,910:(0.00s):openmmtools.multistate.multistatesampler:Estimated completion in 12:43:06.428423, at Wed Aug 19 03:16:56 2020 (consuming total wall clock time 12:43:24.750323).\n",
      "2020-08-18 14:33:49,912:(0.00s):openmmtools.multistate.multistatesampler:********************************************************************************\n",
      "2020-08-18 14:33:49,914:(0.00s):openmmtools.multistate.multistatesampler:Iteration 3/5000\n",
      "2020-08-18 14:33:49,915:(0.00s):openmmtools.multistate.multistatesampler:********************************************************************************\n",
      "2020-08-18 14:33:49,917:(0.00s):mpiplus.mpiplus:Single node: executing <function ReplicaExchangeSampler._mix_replicas at 0x2af6be4efd90>\n",
      "2020-08-18 14:33:49,919:(0.00s):openmmtools.multistate.replicaexchange:Mixing replicas...\n",
      "2020-08-18 14:33:49,921:(0.00s):openmmtools.utils:Mixing of replicas took    0.001s\n",
      "2020-08-18 14:33:49,923:(0.00s):openmmtools.multistate.replicaexchange:Accepted 14242/41472 attempted swaps (34.3%)\n",
      "2020-08-18 14:33:49,925:(0.00s):openmmtools.multistate.multistatesampler:Propagating all replicas...\n",
      "2020-08-18 14:33:49,926:(0.00s):mpiplus.mpiplus:Running _propagate_replica serially.\n",
      "2020-08-18 14:34:00,252:(10.33s):mpiplus.mpiplus:Running _get_replica_move_statistics serially.\n",
      "2020-08-18 14:34:00,254:(0.00s):openmmtools.utils:Propagating all replicas took   10.329s\n",
      "2020-08-18 14:34:00,256:(0.00s):mpiplus.mpiplus:Running _compute_replica_energies serially.\n",
      "2020-08-18 14:34:00,322:(0.07s):openmmtools.utils:Computing energy matrix took    0.067s\n",
      "2020-08-18 14:34:00,325:(0.00s):mpiplus.mpiplus:Single node: executing <function MultiStateSampler._report_iteration at 0x2af6be4a8950>\n",
      "2020-08-18 14:34:00,327:(0.00s):mpiplus.mpiplus:Single node: executing <function MultiStateSampler._report_iteration_items at 0x2af6be4a8bf8>\n",
      "2020-08-18 14:34:00,331:(0.00s):openmmtools.utils:Storing sampler states took    0.002s\n",
      "2020-08-18 14:34:00,345:(0.01s):openmmtools.utils:Writing iteration information to storage took    0.018s\n",
      "2020-08-18 14:34:00,347:(0.00s):openmmtools.multistate.multistatesampler:Not enough iterations for online analysis (self.online_analysis_minimum_iterations = 200)\n",
      "2020-08-18 14:34:00,349:(0.00s):mpiplus.mpiplus:Single node: executing <function MultiStateSampler._online_analysis at 0x2af6be4aa730>\n",
      "2020-08-18 14:34:00,353:(0.00s):openmmtools.multistate.multistatesampler:*** ONLINE analysis free energies:\n",
      "2020-08-18 14:34:00,355:(0.00s):openmmtools.multistate.multistatesampler:        -0.0    11.0    14.2    15.3    15.7    15.9    15.9    15.9    15.7    15.4    14.8    13.8\n",
      "2020-08-18 14:34:00,356:(0.00s):openmmtools.utils:Computing online free energy estimate took    0.005s\n",
      "2020-08-18 14:34:00,358:(0.00s):openmmtools.multistate.multistatesampler:Iteration took 10.441s.\n",
      "2020-08-18 14:34:00,359:(0.00s):openmmtools.multistate.multistatesampler:Estimated completion in 13:18:43.036891, at Wed Aug 19 03:52:43 2020 (consuming total wall clock time 13:19:11.807976).\n",
      "2020-08-18 14:34:00,361:(0.00s):openmmtools.multistate.multistatesampler:********************************************************************************\n",
      "2020-08-18 14:34:00,363:(0.00s):openmmtools.multistate.multistatesampler:Iteration 4/5000\n",
      "2020-08-18 14:34:00,365:(0.00s):openmmtools.multistate.multistatesampler:********************************************************************************\n",
      "2020-08-18 14:34:00,366:(0.00s):mpiplus.mpiplus:Single node: executing <function ReplicaExchangeSampler._mix_replicas at 0x2af6be4efd90>\n",
      "2020-08-18 14:34:00,368:(0.00s):openmmtools.multistate.replicaexchange:Mixing replicas...\n",
      "2020-08-18 14:34:00,370:(0.00s):openmmtools.utils:Mixing of replicas took    0.001s\n",
      "2020-08-18 14:34:00,372:(0.00s):openmmtools.multistate.replicaexchange:Accepted 17420/41472 attempted swaps (42.0%)\n",
      "2020-08-18 14:34:00,373:(0.00s):openmmtools.multistate.multistatesampler:Propagating all replicas...\n",
      "2020-08-18 14:34:00,375:(0.00s):mpiplus.mpiplus:Running _propagate_replica serially.\n",
      "2020-08-18 14:34:10,548:(10.17s):mpiplus.mpiplus:Running _get_replica_move_statistics serially.\n",
      "2020-08-18 14:34:10,550:(0.00s):openmmtools.utils:Propagating all replicas took   10.176s\n",
      "2020-08-18 14:34:10,551:(0.00s):mpiplus.mpiplus:Running _compute_replica_energies serially.\n",
      "2020-08-18 14:34:10,621:(0.07s):openmmtools.utils:Computing energy matrix took    0.069s\n",
      "2020-08-18 14:34:10,622:(0.00s):mpiplus.mpiplus:Single node: executing <function MultiStateSampler._report_iteration at 0x2af6be4a8950>\n",
      "2020-08-18 14:34:10,624:(0.00s):mpiplus.mpiplus:Single node: executing <function MultiStateSampler._report_iteration_items at 0x2af6be4a8bf8>\n",
      "2020-08-18 14:34:10,628:(0.00s):openmmtools.utils:Storing sampler states took    0.002s\n",
      "2020-08-18 14:34:10,639:(0.01s):openmmtools.utils:Writing iteration information to storage took    0.015s\n",
      "2020-08-18 14:34:10,641:(0.00s):openmmtools.multistate.multistatesampler:Not enough iterations for online analysis (self.online_analysis_minimum_iterations = 200)\n",
      "2020-08-18 14:34:10,642:(0.00s):mpiplus.mpiplus:Single node: executing <function MultiStateSampler._online_analysis at 0x2af6be4aa730>\n",
      "2020-08-18 14:34:10,647:(0.00s):openmmtools.multistate.multistatesampler:*** ONLINE analysis free energies:\n",
      "2020-08-18 14:34:10,649:(0.00s):openmmtools.multistate.multistatesampler:        -0.0    11.6    15.0    16.2    16.6    16.8    16.9    16.8    16.7    16.3    15.8    14.7\n",
      "2020-08-18 14:34:10,651:(0.00s):openmmtools.utils:Computing online free energy estimate took    0.006s\n",
      "2020-08-18 14:34:10,652:(0.00s):openmmtools.multistate.multistatesampler:Iteration took 10.286s.\n",
      "2020-08-18 14:34:10,654:(0.00s):openmmtools.multistate.multistatesampler:Estimated completion in 13:33:12.952761, at Wed Aug 19 04:07:23 2020 (consuming total wall clock time 13:33:52.018375).\n",
      "2020-08-18 14:34:10,656:(0.00s):openmmtools.multistate.multistatesampler:********************************************************************************\n",
      "2020-08-18 14:34:10,658:(0.00s):openmmtools.multistate.multistatesampler:Iteration 5/5000\n",
      "2020-08-18 14:34:10,660:(0.00s):openmmtools.multistate.multistatesampler:********************************************************************************\n",
      "2020-08-18 14:34:10,661:(0.00s):mpiplus.mpiplus:Single node: executing <function ReplicaExchangeSampler._mix_replicas at 0x2af6be4efd90>\n",
      "2020-08-18 14:34:10,663:(0.00s):openmmtools.multistate.replicaexchange:Mixing replicas...\n",
      "2020-08-18 14:34:10,666:(0.00s):openmmtools.utils:Mixing of replicas took    0.001s\n",
      "2020-08-18 14:34:10,668:(0.00s):openmmtools.multistate.replicaexchange:Accepted 17458/41472 attempted swaps (42.1%)\n",
      "2020-08-18 14:34:10,669:(0.00s):openmmtools.multistate.multistatesampler:Propagating all replicas...\n",
      "2020-08-18 14:34:10,671:(0.00s):mpiplus.mpiplus:Running _propagate_replica serially.\n",
      "2020-08-18 14:34:20,648:(9.98s):mpiplus.mpiplus:Running _get_replica_move_statistics serially.\n",
      "2020-08-18 14:34:20,650:(0.00s):openmmtools.utils:Propagating all replicas took    9.981s\n",
      "2020-08-18 14:34:20,652:(0.00s):mpiplus.mpiplus:Running _compute_replica_energies serially.\n",
      "2020-08-18 14:34:20,728:(0.08s):openmmtools.utils:Computing energy matrix took    0.076s\n",
      "2020-08-18 14:34:20,730:(0.00s):mpiplus.mpiplus:Single node: executing <function MultiStateSampler._report_iteration at 0x2af6be4a8950>\n",
      "2020-08-18 14:34:20,731:(0.00s):mpiplus.mpiplus:Single node: executing <function MultiStateSampler._report_iteration_items at 0x2af6be4a8bf8>\n",
      "2020-08-18 14:34:20,735:(0.00s):openmmtools.utils:Storing sampler states took    0.002s\n",
      "2020-08-18 14:34:20,745:(0.01s):openmmtools.utils:Writing iteration information to storage took    0.014s\n",
      "2020-08-18 14:34:20,747:(0.00s):openmmtools.multistate.multistatesampler:Not enough iterations for online analysis (self.online_analysis_minimum_iterations = 200)\n",
      "2020-08-18 14:34:20,748:(0.00s):mpiplus.mpiplus:Single node: executing <function MultiStateSampler._online_analysis at 0x2af6be4aa730>\n",
      "2020-08-18 14:34:20,752:(0.00s):openmmtools.multistate.multistatesampler:*** ONLINE analysis free energies:\n"
     ]
    },
    {
     "name": "stderr",
     "output_type": "stream",
     "text": [
      "2020-08-18 14:34:20,754:(0.00s):openmmtools.multistate.multistatesampler:        -0.0    12.2    15.8    17.0    17.5    17.7    17.8    17.7    17.5    17.2    16.6    15.5\n",
      "2020-08-18 14:34:20,756:(0.00s):openmmtools.utils:Computing online free energy estimate took    0.005s\n",
      "2020-08-18 14:34:20,757:(0.00s):openmmtools.multistate.multistatesampler:Iteration took 10.096s.\n",
      "2020-08-18 14:34:20,759:(0.00s):openmmtools.multistate.multistatesampler:Estimated completion in 13:38:41.174008, at Wed Aug 19 04:13:01 2020 (consuming total wall clock time 13:39:30.344353).\n",
      "2020-08-18 14:34:20,761:(0.00s):openmmtools.multistate.multistatesampler:********************************************************************************\n",
      "2020-08-18 14:34:20,762:(0.00s):openmmtools.multistate.multistatesampler:Iteration 6/5000\n",
      "2020-08-18 14:34:20,764:(0.00s):openmmtools.multistate.multistatesampler:********************************************************************************\n",
      "2020-08-18 14:34:20,765:(0.00s):mpiplus.mpiplus:Single node: executing <function ReplicaExchangeSampler._mix_replicas at 0x2af6be4efd90>\n",
      "2020-08-18 14:34:20,767:(0.00s):openmmtools.multistate.replicaexchange:Mixing replicas...\n",
      "2020-08-18 14:34:20,769:(0.00s):openmmtools.utils:Mixing of replicas took    0.001s\n",
      "2020-08-18 14:34:20,771:(0.00s):openmmtools.multistate.replicaexchange:Accepted 14836/41472 attempted swaps (35.8%)\n",
      "2020-08-18 14:34:20,772:(0.00s):openmmtools.multistate.multistatesampler:Propagating all replicas...\n",
      "2020-08-18 14:34:20,774:(0.00s):mpiplus.mpiplus:Running _propagate_replica serially.\n",
      "2020-08-18 14:34:30,895:(10.12s):mpiplus.mpiplus:Running _get_replica_move_statistics serially.\n",
      "2020-08-18 14:34:30,897:(0.00s):openmmtools.utils:Propagating all replicas took   10.125s\n",
      "2020-08-18 14:34:30,899:(0.00s):mpiplus.mpiplus:Running _compute_replica_energies serially.\n",
      "2020-08-18 14:34:30,975:(0.08s):openmmtools.utils:Computing energy matrix took    0.076s\n",
      "2020-08-18 14:34:30,977:(0.00s):mpiplus.mpiplus:Single node: executing <function MultiStateSampler._report_iteration at 0x2af6be4a8950>\n",
      "2020-08-18 14:34:30,979:(0.00s):mpiplus.mpiplus:Single node: executing <function MultiStateSampler._report_iteration_items at 0x2af6be4a8bf8>\n",
      "2020-08-18 14:34:30,983:(0.00s):openmmtools.utils:Storing sampler states took    0.002s\n",
      "2020-08-18 14:34:30,993:(0.01s):openmmtools.utils:Writing iteration information to storage took    0.014s\n",
      "2020-08-18 14:34:30,995:(0.00s):openmmtools.multistate.multistatesampler:Not enough iterations for online analysis (self.online_analysis_minimum_iterations = 200)\n",
      "2020-08-18 14:34:30,997:(0.00s):mpiplus.mpiplus:Single node: executing <function MultiStateSampler._online_analysis at 0x2af6be4aa730>\n",
      "2020-08-18 14:34:31,001:(0.00s):openmmtools.multistate.multistatesampler:*** ONLINE analysis free energies:\n",
      "2020-08-18 14:34:31,002:(0.00s):openmmtools.multistate.multistatesampler:        -0.0    12.8    16.5    17.8    18.3    18.6    18.6    18.6    18.4    18.1    17.5    16.4\n",
      "2020-08-18 14:34:31,004:(0.00s):openmmtools.utils:Computing online free energy estimate took    0.006s\n",
      "2020-08-18 14:34:31,006:(0.00s):openmmtools.multistate.multistatesampler:Iteration took 10.240s.\n",
      "2020-08-18 14:34:31,007:(0.00s):openmmtools.multistate.multistatesampler:Estimated completion in 13:44:16.244192, at Wed Aug 19 04:18:47 2020 (consuming total wall clock time 13:45:15.662988).\n",
      "2020-08-18 14:34:31,009:(0.00s):openmmtools.multistate.multistatesampler:********************************************************************************\n",
      "2020-08-18 14:34:31,011:(0.00s):openmmtools.multistate.multistatesampler:Iteration 7/5000\n",
      "2020-08-18 14:34:31,012:(0.00s):openmmtools.multistate.multistatesampler:********************************************************************************\n",
      "2020-08-18 14:34:31,014:(0.00s):mpiplus.mpiplus:Single node: executing <function ReplicaExchangeSampler._mix_replicas at 0x2af6be4efd90>\n",
      "2020-08-18 14:34:31,015:(0.00s):openmmtools.multistate.replicaexchange:Mixing replicas...\n",
      "2020-08-18 14:34:31,018:(0.00s):openmmtools.utils:Mixing of replicas took    0.001s\n",
      "2020-08-18 14:34:31,020:(0.00s):openmmtools.multistate.replicaexchange:Accepted 17480/41472 attempted swaps (42.1%)\n",
      "2020-08-18 14:34:31,022:(0.00s):openmmtools.multistate.multistatesampler:Propagating all replicas...\n",
      "2020-08-18 14:34:31,023:(0.00s):mpiplus.mpiplus:Running _propagate_replica serially.\n",
      "2020-08-18 14:34:41,098:(10.08s):mpiplus.mpiplus:Running _get_replica_move_statistics serially.\n",
      "2020-08-18 14:34:41,100:(0.00s):openmmtools.utils:Propagating all replicas took   10.079s\n",
      "2020-08-18 14:34:41,102:(0.00s):mpiplus.mpiplus:Running _compute_replica_energies serially.\n",
      "2020-08-18 14:34:41,178:(0.08s):openmmtools.utils:Computing energy matrix took    0.076s\n",
      "2020-08-18 14:34:41,180:(0.00s):mpiplus.mpiplus:Single node: executing <function MultiStateSampler._report_iteration at 0x2af6be4a8950>\n",
      "2020-08-18 14:34:41,182:(0.00s):mpiplus.mpiplus:Single node: executing <function MultiStateSampler._report_iteration_items at 0x2af6be4a8bf8>\n",
      "2020-08-18 14:34:41,186:(0.00s):openmmtools.utils:Storing sampler states took    0.002s\n",
      "2020-08-18 14:34:41,197:(0.01s):openmmtools.utils:Writing iteration information to storage took    0.015s\n",
      "2020-08-18 14:34:41,199:(0.00s):openmmtools.multistate.multistatesampler:Not enough iterations for online analysis (self.online_analysis_minimum_iterations = 200)\n",
      "2020-08-18 14:34:41,200:(0.00s):mpiplus.mpiplus:Single node: executing <function MultiStateSampler._online_analysis at 0x2af6be4aa730>\n",
      "2020-08-18 14:34:41,204:(0.00s):openmmtools.multistate.multistatesampler:*** ONLINE analysis free energies:\n",
      "2020-08-18 14:34:41,206:(0.00s):openmmtools.multistate.multistatesampler:        -0.0    13.3    17.2    18.5    19.1    19.3    19.3    19.3    19.1    18.8    18.1    17.0\n",
      "2020-08-18 14:34:41,207:(0.00s):openmmtools.utils:Computing online free energy estimate took    0.006s\n",
      "2020-08-18 14:34:41,209:(0.00s):openmmtools.multistate.multistatesampler:Iteration took 10.195s.\n",
      "2020-08-18 14:34:41,211:(0.00s):openmmtools.multistate.multistatesampler:Estimated completion in 13:47:40.575936, at Wed Aug 19 04:22:21 2020 (consuming total wall clock time 13:48:50.198213).\n",
      "2020-08-18 14:34:41,213:(0.00s):openmmtools.multistate.multistatesampler:********************************************************************************\n",
      "2020-08-18 14:34:41,214:(0.00s):openmmtools.multistate.multistatesampler:Iteration 8/5000\n",
      "2020-08-18 14:34:41,216:(0.00s):openmmtools.multistate.multistatesampler:********************************************************************************\n",
      "2020-08-18 14:34:41,217:(0.00s):mpiplus.mpiplus:Single node: executing <function ReplicaExchangeSampler._mix_replicas at 0x2af6be4efd90>\n",
      "2020-08-18 14:34:41,219:(0.00s):openmmtools.multistate.replicaexchange:Mixing replicas...\n",
      "2020-08-18 14:34:41,221:(0.00s):openmmtools.utils:Mixing of replicas took    0.001s\n",
      "2020-08-18 14:34:41,223:(0.00s):openmmtools.multistate.replicaexchange:Accepted 14656/41472 attempted swaps (35.3%)\n",
      "2020-08-18 14:34:41,225:(0.00s):openmmtools.multistate.multistatesampler:Propagating all replicas...\n",
      "2020-08-18 14:34:41,226:(0.00s):mpiplus.mpiplus:Running _propagate_replica serially.\n",
      "2020-08-18 14:34:51,653:(10.43s):mpiplus.mpiplus:Running _get_replica_move_statistics serially.\n",
      "2020-08-18 14:34:51,655:(0.00s):openmmtools.utils:Propagating all replicas took   10.430s\n",
      "2020-08-18 14:34:51,657:(0.00s):mpiplus.mpiplus:Running _compute_replica_energies serially.\n",
      "2020-08-18 14:34:51,729:(0.07s):openmmtools.utils:Computing energy matrix took    0.073s\n",
      "2020-08-18 14:34:51,731:(0.00s):mpiplus.mpiplus:Single node: executing <function MultiStateSampler._report_iteration at 0x2af6be4a8950>\n",
      "2020-08-18 14:34:51,733:(0.00s):mpiplus.mpiplus:Single node: executing <function MultiStateSampler._report_iteration_items at 0x2af6be4a8bf8>\n",
      "2020-08-18 14:34:51,736:(0.00s):openmmtools.utils:Storing sampler states took    0.002s\n",
      "2020-08-18 14:34:51,748:(0.01s):openmmtools.utils:Writing iteration information to storage took    0.015s\n",
      "2020-08-18 14:34:51,750:(0.00s):openmmtools.multistate.multistatesampler:Not enough iterations for online analysis (self.online_analysis_minimum_iterations = 200)\n"
     ]
    },
    {
     "name": "stderr",
     "output_type": "stream",
     "text": [
      "2020-08-18 14:34:51,752:(0.00s):mpiplus.mpiplus:Single node: executing <function MultiStateSampler._online_analysis at 0x2af6be4aa730>\n",
      "2020-08-18 14:34:51,756:(0.00s):openmmtools.multistate.multistatesampler:*** ONLINE analysis free energies:\n",
      "2020-08-18 14:34:51,757:(0.00s):openmmtools.multistate.multistatesampler:        -0.0    13.8    17.8    19.2    19.7    20.0    20.0    20.0    19.8    19.4    18.8    17.6\n",
      "2020-08-18 14:34:51,759:(0.00s):openmmtools.utils:Computing online free energy estimate took    0.006s\n",
      "2020-08-18 14:34:51,761:(0.00s):openmmtools.multistate.multistatesampler:Iteration took 10.544s.\n",
      "2020-08-18 14:34:51,762:(0.00s):openmmtools.multistate.multistatesampler:Estimated completion in 13:53:48.607853, at Wed Aug 19 04:28:40 2020 (consuming total wall clock time 13:55:08.781904).\n",
      "2020-08-18 14:34:51,765:(0.00s):openmmtools.multistate.multistatesampler:********************************************************************************\n",
      "2020-08-18 14:34:51,767:(0.00s):openmmtools.multistate.multistatesampler:Iteration 9/5000\n",
      "2020-08-18 14:34:51,768:(0.00s):openmmtools.multistate.multistatesampler:********************************************************************************\n",
      "2020-08-18 14:34:51,770:(0.00s):mpiplus.mpiplus:Single node: executing <function ReplicaExchangeSampler._mix_replicas at 0x2af6be4efd90>\n",
      "2020-08-18 14:34:51,771:(0.00s):openmmtools.multistate.replicaexchange:Mixing replicas...\n",
      "2020-08-18 14:34:51,774:(0.00s):openmmtools.utils:Mixing of replicas took    0.001s\n",
      "2020-08-18 14:34:51,776:(0.00s):openmmtools.multistate.replicaexchange:Accepted 15802/41472 attempted swaps (38.1%)\n",
      "2020-08-18 14:34:51,777:(0.00s):openmmtools.multistate.multistatesampler:Propagating all replicas...\n",
      "2020-08-18 14:34:51,779:(0.00s):mpiplus.mpiplus:Running _propagate_replica serially.\n",
      "2020-08-18 14:35:02,201:(10.42s):mpiplus.mpiplus:Running _get_replica_move_statistics serially.\n",
      "2020-08-18 14:35:02,204:(0.00s):openmmtools.utils:Propagating all replicas took   10.427s\n",
      "2020-08-18 14:35:02,206:(0.00s):mpiplus.mpiplus:Running _compute_replica_energies serially.\n",
      "2020-08-18 14:35:02,280:(0.07s):openmmtools.utils:Computing energy matrix took    0.074s\n",
      "2020-08-18 14:35:02,282:(0.00s):mpiplus.mpiplus:Single node: executing <function MultiStateSampler._report_iteration at 0x2af6be4a8950>\n",
      "2020-08-18 14:35:02,283:(0.00s):mpiplus.mpiplus:Single node: executing <function MultiStateSampler._report_iteration_items at 0x2af6be4a8bf8>\n",
      "2020-08-18 14:35:02,288:(0.00s):openmmtools.utils:Storing sampler states took    0.003s\n",
      "2020-08-18 14:35:02,306:(0.02s):openmmtools.utils:Writing iteration information to storage took    0.023s\n",
      "2020-08-18 14:35:02,309:(0.00s):openmmtools.multistate.multistatesampler:Not enough iterations for online analysis (self.online_analysis_minimum_iterations = 200)\n",
      "2020-08-18 14:35:02,312:(0.00s):mpiplus.mpiplus:Single node: executing <function MultiStateSampler._online_analysis at 0x2af6be4aa730>\n",
      "2020-08-18 14:35:02,318:(0.01s):openmmtools.multistate.multistatesampler:*** ONLINE analysis free energies:\n",
      "2020-08-18 14:35:02,320:(0.00s):openmmtools.multistate.multistatesampler:        -0.0    14.2    18.3    19.7    20.3    20.6    20.6    20.6    20.4    20.0    19.4    18.2\n",
      "2020-08-18 14:35:02,323:(0.00s):openmmtools.utils:Computing online free energy estimate took    0.009s\n",
      "2020-08-18 14:35:02,326:(0.00s):openmmtools.multistate.multistatesampler:Iteration took 10.556s.\n",
      "2020-08-18 14:35:02,329:(0.00s):openmmtools.multistate.multistatesampler:Estimated completion in 13:58:39.816204, at Wed Aug 19 04:33:42 2020 (consuming total wall clock time 14:00:10.555204).\n",
      "2020-08-18 14:35:02,332:(0.00s):openmmtools.multistate.multistatesampler:********************************************************************************\n",
      "2020-08-18 14:35:02,334:(0.00s):openmmtools.multistate.multistatesampler:Iteration 10/5000\n",
      "2020-08-18 14:35:02,337:(0.00s):openmmtools.multistate.multistatesampler:********************************************************************************\n",
      "2020-08-18 14:35:02,340:(0.00s):mpiplus.mpiplus:Single node: executing <function ReplicaExchangeSampler._mix_replicas at 0x2af6be4efd90>\n",
      "2020-08-18 14:35:02,342:(0.00s):openmmtools.multistate.replicaexchange:Mixing replicas...\n",
      "2020-08-18 14:35:02,347:(0.00s):openmmtools.utils:Mixing of replicas took    0.002s\n",
      "2020-08-18 14:35:02,350:(0.00s):openmmtools.multistate.replicaexchange:Accepted 20114/41472 attempted swaps (48.5%)\n",
      "2020-08-18 14:35:02,351:(0.00s):openmmtools.multistate.multistatesampler:Propagating all replicas...\n",
      "2020-08-18 14:35:02,352:(0.00s):mpiplus.mpiplus:Running _propagate_replica serially.\n",
      "2020-08-18 14:35:12,370:(10.02s):mpiplus.mpiplus:Running _get_replica_move_statistics serially.\n",
      "2020-08-18 14:35:12,372:(0.00s):openmmtools.utils:Propagating all replicas took   10.021s\n",
      "2020-08-18 14:35:12,373:(0.00s):mpiplus.mpiplus:Running _compute_replica_energies serially.\n",
      "2020-08-18 14:35:12,446:(0.07s):openmmtools.utils:Computing energy matrix took    0.072s\n",
      "2020-08-18 14:35:12,447:(0.00s):mpiplus.mpiplus:Single node: executing <function MultiStateSampler._report_iteration at 0x2af6be4a8950>\n",
      "2020-08-18 14:35:12,449:(0.00s):mpiplus.mpiplus:Single node: executing <function MultiStateSampler._report_iteration_items at 0x2af6be4a8bf8>\n",
      "2020-08-18 14:35:12,453:(0.00s):openmmtools.utils:Storing sampler states took    0.002s\n",
      "2020-08-18 14:35:12,465:(0.01s):openmmtools.utils:Writing iteration information to storage took    0.016s\n",
      "2020-08-18 14:35:12,467:(0.00s):openmmtools.multistate.multistatesampler:Not enough iterations for online analysis (self.online_analysis_minimum_iterations = 200)\n",
      "2020-08-18 14:35:12,468:(0.00s):mpiplus.mpiplus:Single node: executing <function MultiStateSampler._online_analysis at 0x2af6be4aa730>\n",
      "2020-08-18 14:35:12,472:(0.00s):openmmtools.multistate.multistatesampler:*** ONLINE analysis free energies:\n",
      "2020-08-18 14:35:12,474:(0.00s):openmmtools.multistate.multistatesampler:        -0.0    14.6    18.8    20.3    20.9    21.1    21.2    21.1    20.9    20.6    20.0    18.8\n",
      "2020-08-18 14:35:12,476:(0.00s):openmmtools.utils:Computing online free energy estimate took    0.006s\n",
      "2020-08-18 14:35:12,477:(0.00s):openmmtools.multistate.multistatesampler:Iteration took 10.137s.\n",
      "2020-08-18 14:35:12,479:(0.00s):openmmtools.multistate.multistatesampler:Estimated completion in 13:59:04.301476, at Wed Aug 19 04:34:16 2020 (consuming total wall clock time 14:00:45.191860).\n",
      "2020-08-18 14:35:12,481:(0.00s):openmmtools.multistate.multistatesampler:********************************************************************************\n",
      "2020-08-18 14:35:12,483:(0.00s):openmmtools.multistate.multistatesampler:Iteration 11/5000\n",
      "2020-08-18 14:35:12,484:(0.00s):openmmtools.multistate.multistatesampler:********************************************************************************\n",
      "2020-08-18 14:35:12,486:(0.00s):mpiplus.mpiplus:Single node: executing <function ReplicaExchangeSampler._mix_replicas at 0x2af6be4efd90>\n",
      "2020-08-18 14:35:12,487:(0.00s):openmmtools.multistate.replicaexchange:Mixing replicas...\n",
      "2020-08-18 14:35:12,490:(0.00s):openmmtools.utils:Mixing of replicas took    0.001s\n",
      "2020-08-18 14:35:12,492:(0.00s):openmmtools.multistate.replicaexchange:Accepted 17950/41472 attempted swaps (43.3%)\n",
      "2020-08-18 14:35:12,493:(0.00s):openmmtools.multistate.multistatesampler:Propagating all replicas...\n",
      "2020-08-18 14:35:12,495:(0.00s):mpiplus.mpiplus:Running _propagate_replica serially.\n",
      "2020-08-18 14:35:22,247:(9.75s):mpiplus.mpiplus:Running _get_replica_move_statistics serially.\n",
      "2020-08-18 14:35:22,249:(0.00s):openmmtools.utils:Propagating all replicas took    9.756s\n",
      "2020-08-18 14:35:22,251:(0.00s):mpiplus.mpiplus:Running _compute_replica_energies serially.\n",
      "2020-08-18 14:35:22,321:(0.07s):openmmtools.utils:Computing energy matrix took    0.070s\n",
      "2020-08-18 14:35:22,322:(0.00s):mpiplus.mpiplus:Single node: executing <function MultiStateSampler._report_iteration at 0x2af6be4a8950>\n",
      "2020-08-18 14:35:22,324:(0.00s):mpiplus.mpiplus:Single node: executing <function MultiStateSampler._report_iteration_items at 0x2af6be4a8bf8>\n",
      "2020-08-18 14:35:22,328:(0.00s):openmmtools.utils:Storing sampler states took    0.002s\n"
     ]
    },
    {
     "name": "stderr",
     "output_type": "stream",
     "text": [
      "2020-08-18 14:35:22,338:(0.01s):openmmtools.utils:Writing iteration information to storage took    0.014s\n",
      "2020-08-18 14:35:22,340:(0.00s):openmmtools.multistate.multistatesampler:Not enough iterations for online analysis (self.online_analysis_minimum_iterations = 200)\n",
      "2020-08-18 14:35:22,342:(0.00s):mpiplus.mpiplus:Single node: executing <function MultiStateSampler._online_analysis at 0x2af6be4aa730>\n",
      "2020-08-18 14:35:22,346:(0.00s):openmmtools.multistate.multistatesampler:*** ONLINE analysis free energies:\n",
      "2020-08-18 14:35:22,347:(0.00s):openmmtools.multistate.multistatesampler:        -0.0    14.9    19.2    20.7    21.3    21.5    21.6    21.5    21.4    21.0    20.3    19.1\n",
      "2020-08-18 14:35:22,349:(0.00s):openmmtools.utils:Computing online free energy estimate took    0.006s\n",
      "2020-08-18 14:35:22,350:(0.00s):openmmtools.multistate.multistatesampler:Iteration took 9.864s.\n",
      "2020-08-18 14:35:22,352:(0.00s):openmmtools.multistate.multistatesampler:Estimated completion in 13:57:16.297406, at Wed Aug 19 04:32:38 2020 (consuming total wall clock time 13:59:07.060940).\n",
      "2020-08-18 14:35:22,354:(0.00s):openmmtools.multistate.multistatesampler:********************************************************************************\n",
      "2020-08-18 14:35:22,356:(0.00s):openmmtools.multistate.multistatesampler:Iteration 12/5000\n",
      "2020-08-18 14:35:22,358:(0.00s):openmmtools.multistate.multistatesampler:********************************************************************************\n",
      "2020-08-18 14:35:22,359:(0.00s):mpiplus.mpiplus:Single node: executing <function ReplicaExchangeSampler._mix_replicas at 0x2af6be4efd90>\n",
      "2020-08-18 14:35:22,361:(0.00s):openmmtools.multistate.replicaexchange:Mixing replicas...\n",
      "2020-08-18 14:35:22,363:(0.00s):openmmtools.utils:Mixing of replicas took    0.001s\n",
      "2020-08-18 14:35:22,365:(0.00s):openmmtools.multistate.replicaexchange:Accepted 15344/41472 attempted swaps (37.0%)\n",
      "2020-08-18 14:35:22,367:(0.00s):openmmtools.multistate.multistatesampler:Propagating all replicas...\n",
      "2020-08-18 14:35:22,368:(0.00s):mpiplus.mpiplus:Running _propagate_replica serially.\n",
      "2020-08-18 14:35:32,562:(10.19s):mpiplus.mpiplus:Running _get_replica_move_statistics serially.\n",
      "2020-08-18 14:35:32,565:(0.00s):openmmtools.utils:Propagating all replicas took   10.199s\n",
      "2020-08-18 14:35:32,567:(0.00s):mpiplus.mpiplus:Running _compute_replica_energies serially.\n",
      "2020-08-18 14:35:32,646:(0.08s):openmmtools.utils:Computing energy matrix took    0.079s\n",
      "2020-08-18 14:35:32,648:(0.00s):mpiplus.mpiplus:Single node: executing <function MultiStateSampler._report_iteration at 0x2af6be4a8950>\n",
      "2020-08-18 14:35:32,650:(0.00s):mpiplus.mpiplus:Single node: executing <function MultiStateSampler._report_iteration_items at 0x2af6be4a8bf8>\n",
      "2020-08-18 14:35:32,655:(0.01s):openmmtools.utils:Storing sampler states took    0.003s\n",
      "2020-08-18 14:35:32,668:(0.01s):openmmtools.utils:Writing iteration information to storage took    0.019s\n",
      "2020-08-18 14:35:32,671:(0.00s):openmmtools.multistate.multistatesampler:Not enough iterations for online analysis (self.online_analysis_minimum_iterations = 200)\n",
      "2020-08-18 14:35:32,673:(0.00s):mpiplus.mpiplus:Single node: executing <function MultiStateSampler._online_analysis at 0x2af6be4aa730>\n",
      "2020-08-18 14:35:32,677:(0.00s):openmmtools.multistate.multistatesampler:*** ONLINE analysis free energies:\n",
      "2020-08-18 14:35:32,679:(0.00s):openmmtools.multistate.multistatesampler:        -0.0    15.2    19.5    21.0    21.7    21.9    22.0    21.9    21.8    21.4    20.7    19.5\n",
      "2020-08-18 14:35:32,680:(0.00s):openmmtools.utils:Computing online free energy estimate took    0.006s\n",
      "2020-08-18 14:35:32,682:(0.00s):openmmtools.multistate.multistatesampler:Iteration took 10.323s.\n",
      "2020-08-18 14:35:32,684:(0.00s):openmmtools.multistate.multistatesampler:Estimated completion in 13:58:55.332108, at Wed Aug 19 04:34:28 2020 (consuming total wall clock time 14:00:56.427534).\n",
      "2020-08-18 14:35:32,686:(0.00s):openmmtools.multistate.multistatesampler:********************************************************************************\n",
      "2020-08-18 14:35:32,688:(0.00s):openmmtools.multistate.multistatesampler:Iteration 13/5000\n",
      "2020-08-18 14:35:32,690:(0.00s):openmmtools.multistate.multistatesampler:********************************************************************************\n",
      "2020-08-18 14:35:32,692:(0.00s):mpiplus.mpiplus:Single node: executing <function ReplicaExchangeSampler._mix_replicas at 0x2af6be4efd90>\n",
      "2020-08-18 14:35:32,693:(0.00s):openmmtools.multistate.replicaexchange:Mixing replicas...\n",
      "2020-08-18 14:35:32,697:(0.00s):openmmtools.utils:Mixing of replicas took    0.002s\n",
      "2020-08-18 14:35:32,699:(0.00s):openmmtools.multistate.replicaexchange:Accepted 16038/41472 attempted swaps (38.7%)\n",
      "2020-08-18 14:35:32,701:(0.00s):openmmtools.multistate.multistatesampler:Propagating all replicas...\n",
      "2020-08-18 14:35:32,703:(0.00s):mpiplus.mpiplus:Running _propagate_replica serially.\n",
      "2020-08-18 14:35:43,035:(10.33s):mpiplus.mpiplus:Running _get_replica_move_statistics serially.\n",
      "2020-08-18 14:35:43,037:(0.00s):openmmtools.utils:Propagating all replicas took   10.336s\n",
      "2020-08-18 14:35:43,039:(0.00s):mpiplus.mpiplus:Running _compute_replica_energies serially.\n",
      "2020-08-18 14:35:43,111:(0.07s):openmmtools.utils:Computing energy matrix took    0.072s\n",
      "2020-08-18 14:35:43,113:(0.00s):mpiplus.mpiplus:Single node: executing <function MultiStateSampler._report_iteration at 0x2af6be4a8950>\n",
      "2020-08-18 14:35:43,114:(0.00s):mpiplus.mpiplus:Single node: executing <function MultiStateSampler._report_iteration_items at 0x2af6be4a8bf8>\n",
      "2020-08-18 14:35:43,118:(0.00s):openmmtools.utils:Storing sampler states took    0.002s\n",
      "2020-08-18 14:35:43,129:(0.01s):openmmtools.utils:Writing iteration information to storage took    0.015s\n",
      "2020-08-18 14:35:43,130:(0.00s):openmmtools.multistate.multistatesampler:Not enough iterations for online analysis (self.online_analysis_minimum_iterations = 200)\n",
      "2020-08-18 14:35:43,132:(0.00s):mpiplus.mpiplus:Single node: executing <function MultiStateSampler._online_analysis at 0x2af6be4aa730>\n",
      "2020-08-18 14:35:43,136:(0.00s):openmmtools.multistate.multistatesampler:*** ONLINE analysis free energies:\n",
      "2020-08-18 14:35:43,137:(0.00s):openmmtools.multistate.multistatesampler:        -0.0    15.4    19.8    21.3    22.0    22.2    22.3    22.2    22.0    21.7    21.0    19.7\n",
      "2020-08-18 14:35:43,139:(0.00s):openmmtools.utils:Computing online free energy estimate took    0.005s\n",
      "2020-08-18 14:35:43,140:(0.00s):openmmtools.multistate.multistatesampler:Iteration took 10.449s.\n",
      "2020-08-18 14:35:43,142:(0.00s):openmmtools.multistate.multistatesampler:Estimated completion in 14:01:05.975195, at Wed Aug 19 04:36:49 2020 (consuming total wall clock time 14:03:17.528769).\n",
      "2020-08-18 14:35:43,144:(0.00s):openmmtools.multistate.multistatesampler:********************************************************************************\n",
      "2020-08-18 14:35:43,145:(0.00s):openmmtools.multistate.multistatesampler:Iteration 14/5000\n",
      "2020-08-18 14:35:43,147:(0.00s):openmmtools.multistate.multistatesampler:********************************************************************************\n",
      "2020-08-18 14:35:43,148:(0.00s):mpiplus.mpiplus:Single node: executing <function ReplicaExchangeSampler._mix_replicas at 0x2af6be4efd90>\n",
      "2020-08-18 14:35:43,150:(0.00s):openmmtools.multistate.replicaexchange:Mixing replicas...\n",
      "2020-08-18 14:35:43,152:(0.00s):openmmtools.utils:Mixing of replicas took    0.001s\n",
      "2020-08-18 14:35:43,154:(0.00s):openmmtools.multistate.replicaexchange:Accepted 13960/41472 attempted swaps (33.7%)\n",
      "2020-08-18 14:35:43,155:(0.00s):openmmtools.multistate.multistatesampler:Propagating all replicas...\n",
      "2020-08-18 14:35:43,157:(0.00s):mpiplus.mpiplus:Running _propagate_replica serially.\n",
      "2020-08-18 14:35:53,446:(10.29s):mpiplus.mpiplus:Running _get_replica_move_statistics serially.\n",
      "2020-08-18 14:35:53,449:(0.00s):openmmtools.utils:Propagating all replicas took   10.293s\n",
      "2020-08-18 14:35:53,450:(0.00s):mpiplus.mpiplus:Running _compute_replica_energies serially.\n",
      "2020-08-18 14:35:53,518:(0.07s):openmmtools.utils:Computing energy matrix took    0.068s\n",
      "2020-08-18 14:35:53,520:(0.00s):mpiplus.mpiplus:Single node: executing <function MultiStateSampler._report_iteration at 0x2af6be4a8950>\n"
     ]
    },
    {
     "name": "stderr",
     "output_type": "stream",
     "text": [
      "2020-08-18 14:35:53,522:(0.00s):mpiplus.mpiplus:Single node: executing <function MultiStateSampler._report_iteration_items at 0x2af6be4a8bf8>\n",
      "2020-08-18 14:35:53,526:(0.00s):openmmtools.utils:Storing sampler states took    0.002s\n",
      "2020-08-18 14:35:53,538:(0.01s):openmmtools.utils:Writing iteration information to storage took    0.017s\n",
      "2020-08-18 14:35:53,540:(0.00s):openmmtools.multistate.multistatesampler:Not enough iterations for online analysis (self.online_analysis_minimum_iterations = 200)\n",
      "2020-08-18 14:35:53,542:(0.00s):mpiplus.mpiplus:Single node: executing <function MultiStateSampler._online_analysis at 0x2af6be4aa730>\n",
      "2020-08-18 14:35:53,547:(0.00s):openmmtools.multistate.multistatesampler:*** ONLINE analysis free energies:\n",
      "2020-08-18 14:35:53,548:(0.00s):openmmtools.multistate.multistatesampler:        -0.0    15.7    20.1    21.7    22.3    22.6    22.7    22.6    22.4    22.0    21.3    20.0\n",
      "2020-08-18 14:35:53,550:(0.00s):openmmtools.utils:Computing online free energy estimate took    0.006s\n",
      "2020-08-18 14:35:53,552:(0.00s):openmmtools.multistate.multistatesampler:Iteration took 10.404s.\n",
      "2020-08-18 14:35:53,554:(0.00s):openmmtools.multistate.multistatesampler:Estimated completion in 14:02:39.967920, at Wed Aug 19 04:38:33 2020 (consuming total wall clock time 14:05:01.933333).\n",
      "2020-08-18 14:35:53,556:(0.00s):openmmtools.multistate.multistatesampler:********************************************************************************\n",
      "2020-08-18 14:35:53,558:(0.00s):openmmtools.multistate.multistatesampler:Iteration 15/5000\n",
      "2020-08-18 14:35:53,560:(0.00s):openmmtools.multistate.multistatesampler:********************************************************************************\n",
      "2020-08-18 14:35:53,562:(0.00s):mpiplus.mpiplus:Single node: executing <function ReplicaExchangeSampler._mix_replicas at 0x2af6be4efd90>\n",
      "2020-08-18 14:35:53,563:(0.00s):openmmtools.multistate.replicaexchange:Mixing replicas...\n",
      "2020-08-18 14:35:53,566:(0.00s):openmmtools.utils:Mixing of replicas took    0.001s\n",
      "2020-08-18 14:35:53,568:(0.00s):openmmtools.multistate.replicaexchange:Accepted 15400/41472 attempted swaps (37.1%)\n",
      "2020-08-18 14:35:53,570:(0.00s):openmmtools.multistate.multistatesampler:Propagating all replicas...\n",
      "2020-08-18 14:35:53,571:(0.00s):mpiplus.mpiplus:Running _propagate_replica serially.\n",
      "2020-08-18 14:36:04,395:(10.82s):mpiplus.mpiplus:Running _get_replica_move_statistics serially.\n",
      "2020-08-18 14:36:04,397:(0.00s):openmmtools.utils:Propagating all replicas took   10.828s\n",
      "2020-08-18 14:36:04,399:(0.00s):mpiplus.mpiplus:Running _compute_replica_energies serially.\n",
      "2020-08-18 14:36:04,479:(0.08s):openmmtools.utils:Computing energy matrix took    0.080s\n",
      "2020-08-18 14:36:04,481:(0.00s):mpiplus.mpiplus:Single node: executing <function MultiStateSampler._report_iteration at 0x2af6be4a8950>\n",
      "2020-08-18 14:36:04,483:(0.00s):mpiplus.mpiplus:Single node: executing <function MultiStateSampler._report_iteration_items at 0x2af6be4a8bf8>\n",
      "2020-08-18 14:36:04,488:(0.01s):openmmtools.utils:Storing sampler states took    0.003s\n",
      "2020-08-18 14:36:04,502:(0.01s):openmmtools.utils:Writing iteration information to storage took    0.019s\n",
      "2020-08-18 14:36:04,504:(0.00s):openmmtools.multistate.multistatesampler:Not enough iterations for online analysis (self.online_analysis_minimum_iterations = 200)\n",
      "2020-08-18 14:36:04,505:(0.00s):mpiplus.mpiplus:Single node: executing <function MultiStateSampler._online_analysis at 0x2af6be4aa730>\n",
      "2020-08-18 14:36:04,509:(0.00s):openmmtools.multistate.multistatesampler:*** ONLINE analysis free energies:\n",
      "2020-08-18 14:36:04,511:(0.00s):openmmtools.multistate.multistatesampler:        -0.0    15.9    20.4    22.0    22.7    22.9    23.0    22.9    22.8    22.4    21.7    20.4\n",
      "2020-08-18 14:36:04,512:(0.00s):openmmtools.utils:Computing online free energy estimate took    0.005s\n",
      "2020-08-18 14:36:04,514:(0.00s):openmmtools.multistate.multistatesampler:Iteration took 10.952s.\n",
      "2020-08-18 14:36:04,516:(0.00s):openmmtools.multistate.multistatesampler:Estimated completion in 14:07:02.789441, at Wed Aug 19 04:43:07 2020 (consuming total wall clock time 14:09:35.716591).\n",
      "2020-08-18 14:36:04,518:(0.00s):openmmtools.multistate.multistatesampler:********************************************************************************\n",
      "2020-08-18 14:36:04,519:(0.00s):openmmtools.multistate.multistatesampler:Iteration 16/5000\n",
      "2020-08-18 14:36:04,521:(0.00s):openmmtools.multistate.multistatesampler:********************************************************************************\n",
      "2020-08-18 14:36:04,523:(0.00s):mpiplus.mpiplus:Single node: executing <function ReplicaExchangeSampler._mix_replicas at 0x2af6be4efd90>\n",
      "2020-08-18 14:36:04,524:(0.00s):openmmtools.multistate.replicaexchange:Mixing replicas...\n",
      "2020-08-18 14:36:04,528:(0.00s):openmmtools.utils:Mixing of replicas took    0.001s\n",
      "2020-08-18 14:36:04,531:(0.00s):openmmtools.multistate.replicaexchange:Accepted 16294/41472 attempted swaps (39.3%)\n",
      "2020-08-18 14:36:04,533:(0.00s):openmmtools.multistate.multistatesampler:Propagating all replicas...\n",
      "2020-08-18 14:36:04,534:(0.00s):mpiplus.mpiplus:Running _propagate_replica serially.\n",
      "2020-08-18 14:36:15,186:(10.65s):mpiplus.mpiplus:Running _get_replica_move_statistics serially.\n",
      "2020-08-18 14:36:15,188:(0.00s):openmmtools.utils:Propagating all replicas took   10.655s\n",
      "2020-08-18 14:36:15,190:(0.00s):mpiplus.mpiplus:Running _compute_replica_energies serially.\n",
      "2020-08-18 14:36:15,278:(0.09s):openmmtools.utils:Computing energy matrix took    0.088s\n",
      "2020-08-18 14:36:15,280:(0.00s):mpiplus.mpiplus:Single node: executing <function MultiStateSampler._report_iteration at 0x2af6be4a8950>\n",
      "2020-08-18 14:36:15,282:(0.00s):mpiplus.mpiplus:Single node: executing <function MultiStateSampler._report_iteration_items at 0x2af6be4a8bf8>\n",
      "2020-08-18 14:36:15,286:(0.00s):openmmtools.utils:Storing sampler states took    0.002s\n",
      "2020-08-18 14:36:15,298:(0.01s):openmmtools.utils:Writing iteration information to storage took    0.016s\n",
      "2020-08-18 14:36:15,299:(0.00s):openmmtools.multistate.multistatesampler:Not enough iterations for online analysis (self.online_analysis_minimum_iterations = 200)\n",
      "2020-08-18 14:36:15,301:(0.00s):mpiplus.mpiplus:Single node: executing <function MultiStateSampler._online_analysis at 0x2af6be4aa730>\n",
      "2020-08-18 14:36:15,305:(0.00s):openmmtools.multistate.multistatesampler:*** ONLINE analysis free energies:\n",
      "2020-08-18 14:36:15,307:(0.00s):openmmtools.multistate.multistatesampler:        -0.0    16.1    20.8    22.4    23.0    23.3    23.3    23.3    23.1    22.7    22.0    20.6\n",
      "2020-08-18 14:36:15,309:(0.00s):openmmtools.utils:Computing online free energy estimate took    0.006s\n",
      "2020-08-18 14:36:15,311:(0.00s):openmmtools.multistate.multistatesampler:Iteration took 10.788s.\n",
      "2020-08-18 14:36:15,313:(0.00s):openmmtools.multistate.multistatesampler:Estimated completion in 14:10:00.093650, at Wed Aug 19 04:46:15 2020 (consuming total wall clock time 14:12:43.817868).\n",
      "2020-08-18 14:36:15,315:(0.00s):openmmtools.multistate.multistatesampler:********************************************************************************\n",
      "2020-08-18 14:36:15,316:(0.00s):openmmtools.multistate.multistatesampler:Iteration 17/5000\n",
      "2020-08-18 14:36:15,318:(0.00s):openmmtools.multistate.multistatesampler:********************************************************************************\n",
      "2020-08-18 14:36:15,320:(0.00s):mpiplus.mpiplus:Single node: executing <function ReplicaExchangeSampler._mix_replicas at 0x2af6be4efd90>\n",
      "2020-08-18 14:36:15,321:(0.00s):openmmtools.multistate.replicaexchange:Mixing replicas...\n",
      "2020-08-18 14:36:15,324:(0.00s):openmmtools.utils:Mixing of replicas took    0.001s\n",
      "2020-08-18 14:36:15,326:(0.00s):openmmtools.multistate.replicaexchange:Accepted 13876/41472 attempted swaps (33.5%)\n",
      "2020-08-18 14:36:15,327:(0.00s):openmmtools.multistate.multistatesampler:Propagating all replicas...\n",
      "2020-08-18 14:36:15,329:(0.00s):mpiplus.mpiplus:Running _propagate_replica serially.\n",
      "2020-08-18 14:36:25,791:(10.46s):mpiplus.mpiplus:Running _get_replica_move_statistics serially.\n",
      "2020-08-18 14:36:25,794:(0.00s):openmmtools.utils:Propagating all replicas took   10.466s\n",
      "2020-08-18 14:36:25,796:(0.00s):mpiplus.mpiplus:Running _compute_replica_energies serially.\n"
     ]
    },
    {
     "name": "stderr",
     "output_type": "stream",
     "text": [
      "2020-08-18 14:36:25,869:(0.07s):openmmtools.utils:Computing energy matrix took    0.074s\n",
      "2020-08-18 14:36:25,871:(0.00s):mpiplus.mpiplus:Single node: executing <function MultiStateSampler._report_iteration at 0x2af6be4a8950>\n",
      "2020-08-18 14:36:25,873:(0.00s):mpiplus.mpiplus:Single node: executing <function MultiStateSampler._report_iteration_items at 0x2af6be4a8bf8>\n",
      "2020-08-18 14:36:25,876:(0.00s):openmmtools.utils:Storing sampler states took    0.002s\n",
      "2020-08-18 14:36:25,887:(0.01s):openmmtools.utils:Writing iteration information to storage took    0.015s\n",
      "2020-08-18 14:36:25,889:(0.00s):openmmtools.multistate.multistatesampler:Not enough iterations for online analysis (self.online_analysis_minimum_iterations = 200)\n",
      "2020-08-18 14:36:25,891:(0.00s):mpiplus.mpiplus:Single node: executing <function MultiStateSampler._online_analysis at 0x2af6be4aa730>\n",
      "2020-08-18 14:36:25,895:(0.00s):openmmtools.multistate.multistatesampler:*** ONLINE analysis free energies:\n",
      "2020-08-18 14:36:25,896:(0.00s):openmmtools.multistate.multistatesampler:        -0.0    16.4    21.1    22.7    23.4    23.6    23.7    23.7    23.5    23.1    22.4    21.0\n",
      "2020-08-18 14:36:25,898:(0.00s):openmmtools.utils:Computing online free energy estimate took    0.005s\n",
      "2020-08-18 14:36:25,899:(0.00s):openmmtools.multistate.multistatesampler:Iteration took 10.579s.\n",
      "2020-08-18 14:36:25,901:(0.00s):openmmtools.multistate.multistatesampler:Estimated completion in 14:11:34.032814, at Wed Aug 19 04:47:59 2020 (consuming total wall clock time 14:14:28.345188).\n",
      "2020-08-18 14:36:25,903:(0.00s):openmmtools.multistate.multistatesampler:********************************************************************************\n",
      "2020-08-18 14:36:25,904:(0.00s):openmmtools.multistate.multistatesampler:Iteration 18/5000\n",
      "2020-08-18 14:36:25,906:(0.00s):openmmtools.multistate.multistatesampler:********************************************************************************\n",
      "2020-08-18 14:36:25,907:(0.00s):mpiplus.mpiplus:Single node: executing <function ReplicaExchangeSampler._mix_replicas at 0x2af6be4efd90>\n",
      "2020-08-18 14:36:25,909:(0.00s):openmmtools.multistate.replicaexchange:Mixing replicas...\n",
      "2020-08-18 14:36:25,912:(0.00s):openmmtools.utils:Mixing of replicas took    0.001s\n",
      "2020-08-18 14:36:25,913:(0.00s):openmmtools.multistate.replicaexchange:Accepted 17192/41472 attempted swaps (41.5%)\n",
      "2020-08-18 14:36:25,915:(0.00s):openmmtools.multistate.multistatesampler:Propagating all replicas...\n",
      "2020-08-18 14:36:25,917:(0.00s):mpiplus.mpiplus:Running _propagate_replica serially.\n",
      "2020-08-18 14:36:36,244:(10.33s):mpiplus.mpiplus:Running _get_replica_move_statistics serially.\n",
      "2020-08-18 14:36:36,246:(0.00s):openmmtools.utils:Propagating all replicas took   10.331s\n",
      "2020-08-18 14:36:36,248:(0.00s):mpiplus.mpiplus:Running _compute_replica_energies serially.\n",
      "2020-08-18 14:36:36,320:(0.07s):openmmtools.utils:Computing energy matrix took    0.072s\n",
      "2020-08-18 14:36:36,321:(0.00s):mpiplus.mpiplus:Single node: executing <function MultiStateSampler._report_iteration at 0x2af6be4a8950>\n",
      "2020-08-18 14:36:36,323:(0.00s):mpiplus.mpiplus:Single node: executing <function MultiStateSampler._report_iteration_items at 0x2af6be4a8bf8>\n",
      "2020-08-18 14:36:36,326:(0.00s):openmmtools.utils:Storing sampler states took    0.002s\n",
      "2020-08-18 14:36:36,337:(0.01s):openmmtools.utils:Writing iteration information to storage took    0.014s\n",
      "2020-08-18 14:36:36,338:(0.00s):openmmtools.multistate.multistatesampler:Not enough iterations for online analysis (self.online_analysis_minimum_iterations = 200)\n",
      "2020-08-18 14:36:36,340:(0.00s):mpiplus.mpiplus:Single node: executing <function MultiStateSampler._online_analysis at 0x2af6be4aa730>\n",
      "2020-08-18 14:36:36,344:(0.00s):openmmtools.multistate.multistatesampler:*** ONLINE analysis free energies:\n",
      "2020-08-18 14:36:36,345:(0.00s):openmmtools.multistate.multistatesampler:        -0.0    16.7    21.4    23.0    23.7    24.0    24.0    24.0    23.8    23.4    22.7    21.3\n",
      "2020-08-18 14:36:36,347:(0.00s):openmmtools.utils:Computing online free energy estimate took    0.005s\n",
      "2020-08-18 14:36:36,349:(0.00s):openmmtools.multistate.multistatesampler:Iteration took 10.441s.\n",
      "2020-08-18 14:36:36,350:(0.00s):openmmtools.multistate.multistatesampler:Estimated completion in 14:12:17.938330, at Wed Aug 19 04:48:54 2020 (consuming total wall clock time 14:15:22.700050).\n",
      "2020-08-18 14:36:36,352:(0.00s):openmmtools.multistate.multistatesampler:********************************************************************************\n",
      "2020-08-18 14:36:36,354:(0.00s):openmmtools.multistate.multistatesampler:Iteration 19/5000\n",
      "2020-08-18 14:36:36,355:(0.00s):openmmtools.multistate.multistatesampler:********************************************************************************\n",
      "2020-08-18 14:36:36,357:(0.00s):mpiplus.mpiplus:Single node: executing <function ReplicaExchangeSampler._mix_replicas at 0x2af6be4efd90>\n",
      "2020-08-18 14:36:36,358:(0.00s):openmmtools.multistate.replicaexchange:Mixing replicas...\n",
      "2020-08-18 14:36:36,361:(0.00s):openmmtools.utils:Mixing of replicas took    0.001s\n",
      "2020-08-18 14:36:36,362:(0.00s):openmmtools.multistate.replicaexchange:Accepted 15302/41472 attempted swaps (36.9%)\n",
      "2020-08-18 14:36:36,364:(0.00s):openmmtools.multistate.multistatesampler:Propagating all replicas...\n",
      "2020-08-18 14:36:36,366:(0.00s):mpiplus.mpiplus:Running _propagate_replica serially.\n",
      "2020-08-18 14:36:46,511:(10.15s):mpiplus.mpiplus:Running _get_replica_move_statistics serially.\n",
      "2020-08-18 14:36:46,513:(0.00s):openmmtools.utils:Propagating all replicas took   10.149s\n",
      "2020-08-18 14:36:46,515:(0.00s):mpiplus.mpiplus:Running _compute_replica_energies serially.\n",
      "2020-08-18 14:36:46,589:(0.07s):openmmtools.utils:Computing energy matrix took    0.074s\n",
      "2020-08-18 14:36:46,591:(0.00s):mpiplus.mpiplus:Single node: executing <function MultiStateSampler._report_iteration at 0x2af6be4a8950>\n",
      "2020-08-18 14:36:46,593:(0.00s):mpiplus.mpiplus:Single node: executing <function MultiStateSampler._report_iteration_items at 0x2af6be4a8bf8>\n",
      "2020-08-18 14:36:46,596:(0.00s):openmmtools.utils:Storing sampler states took    0.002s\n",
      "2020-08-18 14:36:46,608:(0.01s):openmmtools.utils:Writing iteration information to storage took    0.015s\n",
      "2020-08-18 14:36:46,609:(0.00s):openmmtools.multistate.multistatesampler:Not enough iterations for online analysis (self.online_analysis_minimum_iterations = 200)\n",
      "2020-08-18 14:36:46,611:(0.00s):mpiplus.mpiplus:Single node: executing <function MultiStateSampler._online_analysis at 0x2af6be4aa730>\n",
      "2020-08-18 14:36:46,615:(0.00s):openmmtools.multistate.multistatesampler:*** ONLINE analysis free energies:\n",
      "2020-08-18 14:36:46,617:(0.00s):openmmtools.multistate.multistatesampler:        -0.0    16.9    21.7    23.4    24.0    24.3    24.4    24.3    24.1    23.7    23.0    21.6\n",
      "2020-08-18 14:36:46,619:(0.00s):openmmtools.utils:Computing online free energy estimate took    0.006s\n",
      "2020-08-18 14:36:46,620:(0.00s):openmmtools.multistate.multistatesampler:Iteration took 10.264s.\n",
      "2020-08-18 14:36:46,622:(0.00s):openmmtools.multistate.multistatesampler:Estimated completion in 14:12:09.574939, at Wed Aug 19 04:48:56 2020 (consuming total wall clock time 14:15:24.608451).\n",
      "2020-08-18 14:36:46,624:(0.00s):openmmtools.multistate.multistatesampler:********************************************************************************\n",
      "2020-08-18 14:36:46,626:(0.00s):openmmtools.multistate.multistatesampler:Iteration 20/5000\n",
      "2020-08-18 14:36:46,627:(0.00s):openmmtools.multistate.multistatesampler:********************************************************************************\n",
      "2020-08-18 14:36:46,629:(0.00s):mpiplus.mpiplus:Single node: executing <function ReplicaExchangeSampler._mix_replicas at 0x2af6be4efd90>\n",
      "2020-08-18 14:36:46,631:(0.00s):openmmtools.multistate.replicaexchange:Mixing replicas...\n",
      "2020-08-18 14:36:46,633:(0.00s):openmmtools.utils:Mixing of replicas took    0.001s\n",
      "2020-08-18 14:36:46,635:(0.00s):openmmtools.multistate.replicaexchange:Accepted 17038/41472 attempted swaps (41.1%)\n",
      "2020-08-18 14:36:46,637:(0.00s):openmmtools.multistate.multistatesampler:Propagating all replicas...\n",
      "2020-08-18 14:36:46,638:(0.00s):mpiplus.mpiplus:Running _propagate_replica serially.\n"
     ]
    },
    {
     "name": "stderr",
     "output_type": "stream",
     "text": [
      "2020-08-18 14:36:56,505:(9.87s):mpiplus.mpiplus:Running _get_replica_move_statistics serially.\n",
      "2020-08-18 14:36:56,508:(0.00s):openmmtools.utils:Propagating all replicas took    9.871s\n",
      "2020-08-18 14:36:56,510:(0.00s):mpiplus.mpiplus:Running _compute_replica_energies serially.\n",
      "2020-08-18 14:36:56,582:(0.07s):openmmtools.utils:Computing energy matrix took    0.072s\n",
      "2020-08-18 14:36:56,584:(0.00s):mpiplus.mpiplus:Single node: executing <function MultiStateSampler._report_iteration at 0x2af6be4a8950>\n",
      "2020-08-18 14:36:56,585:(0.00s):mpiplus.mpiplus:Single node: executing <function MultiStateSampler._report_iteration_items at 0x2af6be4a8bf8>\n",
      "2020-08-18 14:36:56,589:(0.00s):openmmtools.utils:Storing sampler states took    0.002s\n",
      "2020-08-18 14:36:56,600:(0.01s):openmmtools.utils:Writing iteration information to storage took    0.014s\n",
      "2020-08-18 14:36:56,601:(0.00s):openmmtools.multistate.multistatesampler:Not enough iterations for online analysis (self.online_analysis_minimum_iterations = 200)\n",
      "2020-08-18 14:36:56,603:(0.00s):mpiplus.mpiplus:Single node: executing <function MultiStateSampler._online_analysis at 0x2af6be4aa730>\n",
      "2020-08-18 14:36:56,607:(0.00s):openmmtools.multistate.multistatesampler:*** ONLINE analysis free energies:\n",
      "2020-08-18 14:36:56,608:(0.00s):openmmtools.multistate.multistatesampler:        -0.0    17.1    22.0    23.6    24.3    24.6    24.7    24.6    24.4    24.0    23.2    21.9\n",
      "2020-08-18 14:36:56,610:(0.00s):openmmtools.utils:Computing online free energy estimate took    0.005s\n",
      "2020-08-18 14:36:56,611:(0.00s):openmmtools.multistate.multistatesampler:Iteration took 9.982s.\n",
      "2020-08-18 14:36:56,613:(0.00s):openmmtools.multistate.multistatesampler:Estimated completion in 14:10:51.095130, at Wed Aug 19 04:47:47 2020 (consuming total wall clock time 14:14:16.119609).\n",
      "2020-08-18 14:36:56,615:(0.00s):openmmtools.multistate.multistatesampler:********************************************************************************\n",
      "2020-08-18 14:36:56,616:(0.00s):openmmtools.multistate.multistatesampler:Iteration 21/5000\n",
      "2020-08-18 14:36:56,618:(0.00s):openmmtools.multistate.multistatesampler:********************************************************************************\n",
      "2020-08-18 14:36:56,619:(0.00s):mpiplus.mpiplus:Single node: executing <function ReplicaExchangeSampler._mix_replicas at 0x2af6be4efd90>\n",
      "2020-08-18 14:36:56,621:(0.00s):openmmtools.multistate.replicaexchange:Mixing replicas...\n",
      "2020-08-18 14:36:56,624:(0.00s):openmmtools.utils:Mixing of replicas took    0.001s\n",
      "2020-08-18 14:36:56,625:(0.00s):openmmtools.multistate.replicaexchange:Accepted 16364/41472 attempted swaps (39.5%)\n",
      "2020-08-18 14:36:56,627:(0.00s):openmmtools.multistate.multistatesampler:Propagating all replicas...\n",
      "2020-08-18 14:36:56,628:(0.00s):mpiplus.mpiplus:Running _propagate_replica serially.\n",
      "2020-08-18 14:37:07,052:(10.42s):mpiplus.mpiplus:Running _get_replica_move_statistics serially.\n",
      "2020-08-18 14:37:07,054:(0.00s):openmmtools.utils:Propagating all replicas took   10.427s\n",
      "2020-08-18 14:37:07,056:(0.00s):mpiplus.mpiplus:Running _compute_replica_energies serially.\n",
      "2020-08-18 14:37:07,127:(0.07s):openmmtools.utils:Computing energy matrix took    0.071s\n",
      "2020-08-18 14:37:07,128:(0.00s):mpiplus.mpiplus:Single node: executing <function MultiStateSampler._report_iteration at 0x2af6be4a8950>\n",
      "2020-08-18 14:37:07,130:(0.00s):mpiplus.mpiplus:Single node: executing <function MultiStateSampler._report_iteration_items at 0x2af6be4a8bf8>\n",
      "2020-08-18 14:37:07,133:(0.00s):openmmtools.utils:Storing sampler states took    0.002s\n",
      "2020-08-18 14:37:07,144:(0.01s):openmmtools.utils:Writing iteration information to storage took    0.014s\n",
      "2020-08-18 14:37:07,145:(0.00s):openmmtools.multistate.multistatesampler:Not enough iterations for online analysis (self.online_analysis_minimum_iterations = 200)\n",
      "2020-08-18 14:37:07,147:(0.00s):mpiplus.mpiplus:Single node: executing <function MultiStateSampler._online_analysis at 0x2af6be4aa730>\n",
      "2020-08-18 14:37:07,150:(0.00s):openmmtools.multistate.multistatesampler:*** ONLINE analysis free energies:\n",
      "2020-08-18 14:37:07,152:(0.00s):openmmtools.multistate.multistatesampler:        -0.0    17.3    22.2    23.9    24.5    24.8    24.9    24.8    24.6    24.2    23.5    22.1\n",
      "2020-08-18 14:37:07,154:(0.00s):openmmtools.utils:Computing online free energy estimate took    0.005s\n",
      "2020-08-18 14:37:07,155:(0.00s):openmmtools.multistate.multistatesampler:Iteration took 10.536s.\n",
      "2020-08-18 14:37:07,157:(0.00s):openmmtools.multistate.multistatesampler:Estimated completion in 14:11:50.208937, at Wed Aug 19 04:48:57 2020 (consuming total wall clock time 14:15:25.777201).\n",
      "2020-08-18 14:37:07,158:(0.00s):openmmtools.multistate.multistatesampler:********************************************************************************\n",
      "2020-08-18 14:37:07,160:(0.00s):openmmtools.multistate.multistatesampler:Iteration 22/5000\n",
      "2020-08-18 14:37:07,161:(0.00s):openmmtools.multistate.multistatesampler:********************************************************************************\n",
      "2020-08-18 14:37:07,163:(0.00s):mpiplus.mpiplus:Single node: executing <function ReplicaExchangeSampler._mix_replicas at 0x2af6be4efd90>\n",
      "2020-08-18 14:37:07,164:(0.00s):openmmtools.multistate.replicaexchange:Mixing replicas...\n",
      "2020-08-18 14:37:07,167:(0.00s):openmmtools.utils:Mixing of replicas took    0.001s\n",
      "2020-08-18 14:37:07,168:(0.00s):openmmtools.multistate.replicaexchange:Accepted 15722/41472 attempted swaps (37.9%)\n",
      "2020-08-18 14:37:07,170:(0.00s):openmmtools.multistate.multistatesampler:Propagating all replicas...\n",
      "2020-08-18 14:37:07,171:(0.00s):mpiplus.mpiplus:Running _propagate_replica serially.\n",
      "2020-08-18 14:37:17,385:(10.21s):mpiplus.mpiplus:Running _get_replica_move_statistics serially.\n",
      "2020-08-18 14:37:17,387:(0.00s):openmmtools.utils:Propagating all replicas took   10.217s\n",
      "2020-08-18 14:37:17,389:(0.00s):mpiplus.mpiplus:Running _compute_replica_energies serially.\n",
      "2020-08-18 14:37:17,452:(0.06s):openmmtools.utils:Computing energy matrix took    0.064s\n",
      "2020-08-18 14:37:17,454:(0.00s):mpiplus.mpiplus:Single node: executing <function MultiStateSampler._report_iteration at 0x2af6be4a8950>\n",
      "2020-08-18 14:37:17,455:(0.00s):mpiplus.mpiplus:Single node: executing <function MultiStateSampler._report_iteration_items at 0x2af6be4a8bf8>\n",
      "2020-08-18 14:37:17,459:(0.00s):openmmtools.utils:Storing sampler states took    0.002s\n",
      "2020-08-18 14:37:17,470:(0.01s):openmmtools.utils:Writing iteration information to storage took    0.015s\n",
      "2020-08-18 14:37:17,471:(0.00s):openmmtools.multistate.multistatesampler:Not enough iterations for online analysis (self.online_analysis_minimum_iterations = 200)\n",
      "2020-08-18 14:37:17,473:(0.00s):mpiplus.mpiplus:Single node: executing <function MultiStateSampler._online_analysis at 0x2af6be4aa730>\n",
      "2020-08-18 14:37:17,477:(0.00s):openmmtools.multistate.multistatesampler:*** ONLINE analysis free energies:\n",
      "2020-08-18 14:37:17,478:(0.00s):openmmtools.multistate.multistatesampler:        -0.0    17.5    22.5    24.2    24.9    25.1    25.2    25.1    24.9    24.5    23.8    22.4\n",
      "2020-08-18 14:37:17,480:(0.00s):openmmtools.utils:Computing online free energy estimate took    0.005s\n",
      "2020-08-18 14:37:17,481:(0.00s):openmmtools.multistate.multistatesampler:Iteration took 10.318s.\n",
      "2020-08-18 14:37:17,483:(0.00s):openmmtools.multistate.multistatesampler:Estimated completion in 14:11:53.771122, at Wed Aug 19 04:49:11 2020 (consuming total wall clock time 14:15:39.665651).\n",
      "2020-08-18 14:37:17,485:(0.00s):openmmtools.multistate.multistatesampler:********************************************************************************\n",
      "2020-08-18 14:37:17,486:(0.00s):openmmtools.multistate.multistatesampler:Iteration 23/5000\n",
      "2020-08-18 14:37:17,488:(0.00s):openmmtools.multistate.multistatesampler:********************************************************************************\n",
      "2020-08-18 14:37:17,489:(0.00s):mpiplus.mpiplus:Single node: executing <function ReplicaExchangeSampler._mix_replicas at 0x2af6be4efd90>\n",
      "2020-08-18 14:37:17,491:(0.00s):openmmtools.multistate.replicaexchange:Mixing replicas...\n",
      "2020-08-18 14:37:17,494:(0.00s):openmmtools.utils:Mixing of replicas took    0.001s\n",
      "2020-08-18 14:37:17,495:(0.00s):openmmtools.multistate.replicaexchange:Accepted 17116/41472 attempted swaps (41.3%)\n"
     ]
    },
    {
     "name": "stderr",
     "output_type": "stream",
     "text": [
      "2020-08-18 14:37:17,497:(0.00s):openmmtools.multistate.multistatesampler:Propagating all replicas...\n",
      "2020-08-18 14:37:17,498:(0.00s):mpiplus.mpiplus:Running _propagate_replica serially.\n",
      "2020-08-18 14:37:27,437:(9.94s):mpiplus.mpiplus:Running _get_replica_move_statistics serially.\n",
      "2020-08-18 14:37:27,439:(0.00s):openmmtools.utils:Propagating all replicas took    9.942s\n",
      "2020-08-18 14:37:27,441:(0.00s):mpiplus.mpiplus:Running _compute_replica_energies serially.\n",
      "2020-08-18 14:37:27,506:(0.06s):openmmtools.utils:Computing energy matrix took    0.065s\n",
      "2020-08-18 14:37:27,507:(0.00s):mpiplus.mpiplus:Single node: executing <function MultiStateSampler._report_iteration at 0x2af6be4a8950>\n",
      "2020-08-18 14:37:27,509:(0.00s):mpiplus.mpiplus:Single node: executing <function MultiStateSampler._report_iteration_items at 0x2af6be4a8bf8>\n",
      "2020-08-18 14:37:27,512:(0.00s):openmmtools.utils:Storing sampler states took    0.002s\n",
      "2020-08-18 14:37:27,523:(0.01s):openmmtools.utils:Writing iteration information to storage took    0.015s\n",
      "2020-08-18 14:37:27,525:(0.00s):openmmtools.multistate.multistatesampler:Not enough iterations for online analysis (self.online_analysis_minimum_iterations = 200)\n",
      "2020-08-18 14:37:27,526:(0.00s):mpiplus.mpiplus:Single node: executing <function MultiStateSampler._online_analysis at 0x2af6be4aa730>\n",
      "2020-08-18 14:37:27,530:(0.00s):openmmtools.multistate.multistatesampler:*** ONLINE analysis free energies:\n",
      "2020-08-18 14:37:27,532:(0.00s):openmmtools.multistate.multistatesampler:        -0.0    17.7    22.7    24.4    25.1    25.3    25.4    25.4    25.1    24.7    23.9    22.5\n",
      "2020-08-18 14:37:27,533:(0.00s):openmmtools.utils:Computing online free energy estimate took    0.005s\n",
      "2020-08-18 14:37:27,535:(0.00s):openmmtools.multistate.multistatesampler:Iteration took 10.046s.\n",
      "2020-08-18 14:37:27,537:(0.00s):openmmtools.multistate.multistatesampler:Estimated completion in 14:10:57.141695, at Wed Aug 19 04:48:24 2020 (consuming total wall clock time 14:14:53.089908).\n",
      "2020-08-18 14:37:27,538:(0.00s):openmmtools.multistate.multistatesampler:********************************************************************************\n",
      "2020-08-18 14:37:27,540:(0.00s):openmmtools.multistate.multistatesampler:Iteration 24/5000\n",
      "2020-08-18 14:37:27,542:(0.00s):openmmtools.multistate.multistatesampler:********************************************************************************\n",
      "2020-08-18 14:37:27,543:(0.00s):mpiplus.mpiplus:Single node: executing <function ReplicaExchangeSampler._mix_replicas at 0x2af6be4efd90>\n",
      "2020-08-18 14:37:27,545:(0.00s):openmmtools.multistate.replicaexchange:Mixing replicas...\n",
      "2020-08-18 14:37:27,547:(0.00s):openmmtools.utils:Mixing of replicas took    0.001s\n",
      "2020-08-18 14:37:27,549:(0.00s):openmmtools.multistate.replicaexchange:Accepted 13568/41472 attempted swaps (32.7%)\n",
      "2020-08-18 14:37:27,550:(0.00s):openmmtools.multistate.multistatesampler:Propagating all replicas...\n",
      "2020-08-18 14:37:27,552:(0.00s):mpiplus.mpiplus:Running _propagate_replica serially.\n",
      "2020-08-18 14:37:37,867:(10.32s):mpiplus.mpiplus:Running _get_replica_move_statistics serially.\n",
      "2020-08-18 14:37:37,869:(0.00s):openmmtools.utils:Propagating all replicas took   10.319s\n",
      "2020-08-18 14:37:37,871:(0.00s):mpiplus.mpiplus:Running _compute_replica_energies serially.\n",
      "2020-08-18 14:37:37,938:(0.07s):openmmtools.utils:Computing energy matrix took    0.067s\n",
      "2020-08-18 14:37:37,940:(0.00s):mpiplus.mpiplus:Single node: executing <function MultiStateSampler._report_iteration at 0x2af6be4a8950>\n",
      "2020-08-18 14:37:37,942:(0.00s):mpiplus.mpiplus:Single node: executing <function MultiStateSampler._report_iteration_items at 0x2af6be4a8bf8>\n",
      "2020-08-18 14:37:37,945:(0.00s):openmmtools.utils:Storing sampler states took    0.002s\n",
      "2020-08-18 14:37:37,956:(0.01s):openmmtools.utils:Writing iteration information to storage took    0.015s\n",
      "2020-08-18 14:37:37,958:(0.00s):openmmtools.multistate.multistatesampler:Not enough iterations for online analysis (self.online_analysis_minimum_iterations = 200)\n",
      "2020-08-18 14:37:37,959:(0.00s):mpiplus.mpiplus:Single node: executing <function MultiStateSampler._online_analysis at 0x2af6be4aa730>\n",
      "2020-08-18 14:37:37,963:(0.00s):openmmtools.multistate.multistatesampler:*** ONLINE analysis free energies:\n",
      "2020-08-18 14:37:37,965:(0.00s):openmmtools.multistate.multistatesampler:        -0.0    17.8    22.9    24.6    25.3    25.6    25.6    25.6    25.4    24.9    24.2    22.7\n",
      "2020-08-18 14:37:37,967:(0.00s):openmmtools.utils:Computing online free energy estimate took    0.005s\n",
      "2020-08-18 14:37:37,968:(0.00s):openmmtools.multistate.multistatesampler:Iteration took 10.425s.\n",
      "2020-08-18 14:37:37,970:(0.00s):openmmtools.multistate.multistatesampler:Estimated completion in 14:11:23.100238, at Wed Aug 19 04:49:01 2020 (consuming total wall clock time 14:15:29.481751).\n",
      "2020-08-18 14:37:37,972:(0.00s):openmmtools.multistate.multistatesampler:********************************************************************************\n",
      "2020-08-18 14:37:37,973:(0.00s):openmmtools.multistate.multistatesampler:Iteration 25/5000\n",
      "2020-08-18 14:37:37,975:(0.00s):openmmtools.multistate.multistatesampler:********************************************************************************\n",
      "2020-08-18 14:37:37,977:(0.00s):mpiplus.mpiplus:Single node: executing <function ReplicaExchangeSampler._mix_replicas at 0x2af6be4efd90>\n",
      "2020-08-18 14:37:37,978:(0.00s):openmmtools.multistate.replicaexchange:Mixing replicas...\n",
      "2020-08-18 14:37:37,981:(0.00s):openmmtools.utils:Mixing of replicas took    0.001s\n",
      "2020-08-18 14:37:37,983:(0.00s):openmmtools.multistate.replicaexchange:Accepted 15352/41472 attempted swaps (37.0%)\n",
      "2020-08-18 14:37:37,985:(0.00s):openmmtools.multistate.multistatesampler:Propagating all replicas...\n",
      "2020-08-18 14:37:37,986:(0.00s):mpiplus.mpiplus:Running _propagate_replica serially.\n",
      "2020-08-18 14:37:47,883:(9.90s):mpiplus.mpiplus:Running _get_replica_move_statistics serially.\n",
      "2020-08-18 14:37:47,885:(0.00s):openmmtools.utils:Propagating all replicas took    9.901s\n",
      "2020-08-18 14:37:47,887:(0.00s):mpiplus.mpiplus:Running _compute_replica_energies serially.\n",
      "2020-08-18 14:37:47,960:(0.07s):openmmtools.utils:Computing energy matrix took    0.073s\n",
      "2020-08-18 14:37:47,961:(0.00s):mpiplus.mpiplus:Single node: executing <function MultiStateSampler._report_iteration at 0x2af6be4a8950>\n",
      "2020-08-18 14:37:47,963:(0.00s):mpiplus.mpiplus:Single node: executing <function MultiStateSampler._report_iteration_items at 0x2af6be4a8bf8>\n",
      "2020-08-18 14:37:47,967:(0.00s):openmmtools.utils:Storing sampler states took    0.002s\n",
      "2020-08-18 14:37:47,978:(0.01s):openmmtools.utils:Writing iteration information to storage took    0.015s\n",
      "2020-08-18 14:37:47,979:(0.00s):openmmtools.multistate.multistatesampler:Not enough iterations for online analysis (self.online_analysis_minimum_iterations = 200)\n",
      "2020-08-18 14:37:47,981:(0.00s):mpiplus.mpiplus:Single node: executing <function MultiStateSampler._online_analysis at 0x2af6be4aa730>\n",
      "2020-08-18 14:37:47,985:(0.00s):openmmtools.multistate.multistatesampler:*** ONLINE analysis free energies:\n",
      "2020-08-18 14:37:47,986:(0.00s):openmmtools.multistate.multistatesampler:        -0.0    17.9    23.0    24.8    25.5    25.8    25.8    25.8    25.6    25.1    24.3    22.9\n",
      "2020-08-18 14:37:47,988:(0.00s):openmmtools.utils:Computing online free energy estimate took    0.005s\n",
      "2020-08-18 14:37:47,989:(0.00s):openmmtools.multistate.multistatesampler:Iteration took 10.013s.\n",
      "2020-08-18 14:37:47,991:(0.00s):openmmtools.multistate.multistatesampler:Estimated completion in 14:10:24.132640, at Wed Aug 19 04:48:12 2020 (consuming total wall clock time 14:14:40.535316).\n",
      "2020-08-18 14:37:47,993:(0.00s):openmmtools.multistate.multistatesampler:********************************************************************************\n",
      "2020-08-18 14:37:47,994:(0.00s):openmmtools.multistate.multistatesampler:Iteration 26/5000\n",
      "2020-08-18 14:37:47,996:(0.00s):openmmtools.multistate.multistatesampler:********************************************************************************\n",
      "2020-08-18 14:37:47,998:(0.00s):mpiplus.mpiplus:Single node: executing <function ReplicaExchangeSampler._mix_replicas at 0x2af6be4efd90>\n",
      "2020-08-18 14:37:47,999:(0.00s):openmmtools.multistate.replicaexchange:Mixing replicas...\n"
     ]
    },
    {
     "name": "stderr",
     "output_type": "stream",
     "text": [
      "2020-08-18 14:37:48,002:(0.00s):openmmtools.utils:Mixing of replicas took    0.001s\n",
      "2020-08-18 14:37:48,003:(0.00s):openmmtools.multistate.replicaexchange:Accepted 15268/41472 attempted swaps (36.8%)\n",
      "2020-08-18 14:37:48,005:(0.00s):openmmtools.multistate.multistatesampler:Propagating all replicas...\n",
      "2020-08-18 14:37:48,006:(0.00s):mpiplus.mpiplus:Running _propagate_replica serially.\n",
      "2020-08-18 14:37:58,041:(10.03s):mpiplus.mpiplus:Running _get_replica_move_statistics serially.\n",
      "2020-08-18 14:37:58,043:(0.00s):openmmtools.utils:Propagating all replicas took   10.038s\n",
      "2020-08-18 14:37:58,045:(0.00s):mpiplus.mpiplus:Running _compute_replica_energies serially.\n",
      "2020-08-18 14:37:58,114:(0.07s):openmmtools.utils:Computing energy matrix took    0.069s\n",
      "2020-08-18 14:37:58,115:(0.00s):mpiplus.mpiplus:Single node: executing <function MultiStateSampler._report_iteration at 0x2af6be4a8950>\n",
      "2020-08-18 14:37:58,117:(0.00s):mpiplus.mpiplus:Single node: executing <function MultiStateSampler._report_iteration_items at 0x2af6be4a8bf8>\n",
      "2020-08-18 14:37:58,120:(0.00s):openmmtools.utils:Storing sampler states took    0.002s\n",
      "2020-08-18 14:37:58,131:(0.01s):openmmtools.utils:Writing iteration information to storage took    0.014s\n",
      "2020-08-18 14:37:58,133:(0.00s):openmmtools.multistate.multistatesampler:Not enough iterations for online analysis (self.online_analysis_minimum_iterations = 200)\n",
      "2020-08-18 14:37:58,134:(0.00s):mpiplus.mpiplus:Single node: executing <function MultiStateSampler._online_analysis at 0x2af6be4aa730>\n",
      "2020-08-18 14:37:58,138:(0.00s):openmmtools.multistate.multistatesampler:*** ONLINE analysis free energies:\n",
      "2020-08-18 14:37:58,140:(0.00s):openmmtools.multistate.multistatesampler:        -0.0    18.1    23.2    24.9    25.6    25.9    26.0    25.9    25.7    25.3    24.5    23.0\n",
      "2020-08-18 14:37:58,142:(0.00s):openmmtools.utils:Computing online free energy estimate took    0.005s\n",
      "2020-08-18 14:37:58,143:(0.00s):openmmtools.multistate.multistatesampler:Iteration took 10.146s.\n",
      "2020-08-18 14:37:58,145:(0.00s):openmmtools.multistate.multistatesampler:Estimated completion in 14:09:54.314350, at Wed Aug 19 04:47:52 2020 (consuming total wall clock time 14:14:20.870879).\n",
      "2020-08-18 14:37:58,147:(0.00s):openmmtools.multistate.multistatesampler:********************************************************************************\n",
      "2020-08-18 14:37:58,148:(0.00s):openmmtools.multistate.multistatesampler:Iteration 27/5000\n",
      "2020-08-18 14:37:58,150:(0.00s):openmmtools.multistate.multistatesampler:********************************************************************************\n",
      "2020-08-18 14:37:58,152:(0.00s):mpiplus.mpiplus:Single node: executing <function ReplicaExchangeSampler._mix_replicas at 0x2af6be4efd90>\n",
      "2020-08-18 14:37:58,153:(0.00s):openmmtools.multistate.replicaexchange:Mixing replicas...\n",
      "2020-08-18 14:37:58,156:(0.00s):openmmtools.utils:Mixing of replicas took    0.001s\n",
      "2020-08-18 14:37:58,158:(0.00s):openmmtools.multistate.replicaexchange:Accepted 14148/41472 attempted swaps (34.1%)\n",
      "2020-08-18 14:37:58,159:(0.00s):openmmtools.multistate.multistatesampler:Propagating all replicas...\n",
      "2020-08-18 14:37:58,161:(0.00s):mpiplus.mpiplus:Running _propagate_replica serially.\n",
      "2020-08-18 14:38:08,196:(10.04s):mpiplus.mpiplus:Running _get_replica_move_statistics serially.\n",
      "2020-08-18 14:38:08,198:(0.00s):openmmtools.utils:Propagating all replicas took   10.039s\n",
      "2020-08-18 14:38:08,200:(0.00s):mpiplus.mpiplus:Running _compute_replica_energies serially.\n",
      "2020-08-18 14:38:08,272:(0.07s):openmmtools.utils:Computing energy matrix took    0.072s\n",
      "2020-08-18 14:38:08,273:(0.00s):mpiplus.mpiplus:Single node: executing <function MultiStateSampler._report_iteration at 0x2af6be4a8950>\n",
      "2020-08-18 14:38:08,275:(0.00s):mpiplus.mpiplus:Single node: executing <function MultiStateSampler._report_iteration_items at 0x2af6be4a8bf8>\n",
      "2020-08-18 14:38:08,279:(0.00s):openmmtools.utils:Storing sampler states took    0.002s\n",
      "2020-08-18 14:38:08,289:(0.01s):openmmtools.utils:Writing iteration information to storage took    0.014s\n",
      "2020-08-18 14:38:08,291:(0.00s):openmmtools.multistate.multistatesampler:Not enough iterations for online analysis (self.online_analysis_minimum_iterations = 200)\n",
      "2020-08-18 14:38:08,293:(0.00s):mpiplus.mpiplus:Single node: executing <function MultiStateSampler._online_analysis at 0x2af6be4aa730>\n",
      "2020-08-18 14:38:08,296:(0.00s):openmmtools.multistate.multistatesampler:*** ONLINE analysis free energies:\n",
      "2020-08-18 14:38:08,298:(0.00s):openmmtools.multistate.multistatesampler:        -0.0    18.2    23.4    25.1    25.8    26.1    26.2    26.1    25.9    25.5    24.7    23.1\n",
      "2020-08-18 14:38:08,300:(0.00s):openmmtools.utils:Computing online free energy estimate took    0.005s\n",
      "2020-08-18 14:38:08,301:(0.00s):openmmtools.multistate.multistatesampler:Iteration took 10.150s.\n",
      "2020-08-18 14:38:08,303:(0.00s):openmmtools.multistate.multistatesampler:Estimated completion in 14:09:26.706674, at Wed Aug 19 04:47:35 2020 (consuming total wall clock time 14:14:03.421148).\n",
      "2020-08-18 14:38:08,305:(0.00s):openmmtools.multistate.multistatesampler:********************************************************************************\n",
      "2020-08-18 14:38:08,306:(0.00s):openmmtools.multistate.multistatesampler:Iteration 28/5000\n",
      "2020-08-18 14:38:08,308:(0.00s):openmmtools.multistate.multistatesampler:********************************************************************************\n",
      "2020-08-18 14:38:08,310:(0.00s):mpiplus.mpiplus:Single node: executing <function ReplicaExchangeSampler._mix_replicas at 0x2af6be4efd90>\n",
      "2020-08-18 14:38:08,311:(0.00s):openmmtools.multistate.replicaexchange:Mixing replicas...\n",
      "2020-08-18 14:38:08,314:(0.00s):openmmtools.utils:Mixing of replicas took    0.001s\n",
      "2020-08-18 14:38:08,316:(0.00s):openmmtools.multistate.replicaexchange:Accepted 14048/41472 attempted swaps (33.9%)\n",
      "2020-08-18 14:38:08,317:(0.00s):openmmtools.multistate.multistatesampler:Propagating all replicas...\n",
      "2020-08-18 14:38:08,319:(0.00s):mpiplus.mpiplus:Running _propagate_replica serially.\n",
      "2020-08-18 14:38:18,398:(10.08s):mpiplus.mpiplus:Running _get_replica_move_statistics serially.\n",
      "2020-08-18 14:38:18,400:(0.00s):openmmtools.utils:Propagating all replicas took   10.083s\n",
      "2020-08-18 14:38:18,402:(0.00s):mpiplus.mpiplus:Running _compute_replica_energies serially.\n",
      "2020-08-18 14:38:18,474:(0.07s):openmmtools.utils:Computing energy matrix took    0.073s\n",
      "2020-08-18 14:38:18,476:(0.00s):mpiplus.mpiplus:Single node: executing <function MultiStateSampler._report_iteration at 0x2af6be4a8950>\n",
      "2020-08-18 14:38:18,477:(0.00s):mpiplus.mpiplus:Single node: executing <function MultiStateSampler._report_iteration_items at 0x2af6be4a8bf8>\n",
      "2020-08-18 14:38:18,481:(0.00s):openmmtools.utils:Storing sampler states took    0.002s\n",
      "2020-08-18 14:38:18,492:(0.01s):openmmtools.utils:Writing iteration information to storage took    0.015s\n",
      "2020-08-18 14:38:18,494:(0.00s):openmmtools.multistate.multistatesampler:Not enough iterations for online analysis (self.online_analysis_minimum_iterations = 200)\n",
      "2020-08-18 14:38:18,496:(0.00s):mpiplus.mpiplus:Single node: executing <function MultiStateSampler._online_analysis at 0x2af6be4aa730>\n",
      "2020-08-18 14:38:18,500:(0.00s):openmmtools.multistate.multistatesampler:*** ONLINE analysis free energies:\n",
      "2020-08-18 14:38:18,501:(0.00s):openmmtools.multistate.multistatesampler:        -0.0    18.4    23.6    25.4    26.1    26.4    26.4    26.4    26.2    25.7    24.9    23.3\n",
      "2020-08-18 14:38:18,503:(0.00s):openmmtools.utils:Computing online free energy estimate took    0.006s\n",
      "2020-08-18 14:38:18,505:(0.00s):openmmtools.multistate.multistatesampler:Iteration took 10.195s.\n",
      "2020-08-18 14:38:18,506:(0.00s):openmmtools.multistate.multistatesampler:Estimated completion in 14:09:08.410647, at Wed Aug 19 04:47:26 2020 (consuming total wall clock time 14:13:55.328487).\n",
      "2020-08-18 14:38:18,508:(0.00s):openmmtools.multistate.multistatesampler:********************************************************************************\n",
      "2020-08-18 14:38:18,510:(0.00s):openmmtools.multistate.multistatesampler:Iteration 29/5000\n",
      "2020-08-18 14:38:18,512:(0.00s):openmmtools.multistate.multistatesampler:********************************************************************************\n"
     ]
    },
    {
     "name": "stderr",
     "output_type": "stream",
     "text": [
      "2020-08-18 14:38:18,513:(0.00s):mpiplus.mpiplus:Single node: executing <function ReplicaExchangeSampler._mix_replicas at 0x2af6be4efd90>\n",
      "2020-08-18 14:38:18,515:(0.00s):openmmtools.multistate.replicaexchange:Mixing replicas...\n",
      "2020-08-18 14:38:18,518:(0.00s):openmmtools.utils:Mixing of replicas took    0.001s\n",
      "2020-08-18 14:38:18,520:(0.00s):openmmtools.multistate.replicaexchange:Accepted 17550/41472 attempted swaps (42.3%)\n",
      "2020-08-18 14:38:18,521:(0.00s):openmmtools.multistate.multistatesampler:Propagating all replicas...\n",
      "2020-08-18 14:38:18,523:(0.00s):mpiplus.mpiplus:Running _propagate_replica serially.\n"
     ]
    },
    {
     "ename": "KeyboardInterrupt",
     "evalue": "",
     "output_type": "error",
     "traceback": [
      "\u001b[0;31m-----------------------------------------\u001b[0m",
      "\u001b[0;31mKeyboardInterrupt\u001b[0mTraceback (most recent call last)",
      "\u001b[0;32m<ipython-input-30-29019c2fda58>\u001b[0m in \u001b[0;36m<module>\u001b[0;34m\u001b[0m\n\u001b[1;32m      4\u001b[0m                   \u001b[0msampler_states\u001b[0m\u001b[0;34m=\u001b[0m\u001b[0mstates\u001b[0m\u001b[0;34m.\u001b[0m\u001b[0mSamplerState\u001b[0m\u001b[0;34m(\u001b[0m\u001b[0mhtf\u001b[0m\u001b[0;34m.\u001b[0m\u001b[0mhybrid_positions\u001b[0m\u001b[0;34m)\u001b[0m\u001b[0;34m,\u001b[0m\u001b[0;34m\u001b[0m\u001b[0;34m\u001b[0m\u001b[0m\n\u001b[1;32m      5\u001b[0m                   storage=reporter)\n\u001b[0;32m----> 6\u001b[0;31m \u001b[0msimulation\u001b[0m\u001b[0;34m.\u001b[0m\u001b[0mrun\u001b[0m\u001b[0;34m(\u001b[0m\u001b[0;34m)\u001b[0m\u001b[0;34m\u001b[0m\u001b[0;34m\u001b[0m\u001b[0m\n\u001b[0m",
      "\u001b[0;32m~/miniconda3/envs/perses-sims/lib/python3.7/site-packages/openmmtools/multistate/multistatesampler.py\u001b[0m in \u001b[0;36mrun\u001b[0;34m(self, n_iterations)\u001b[0m\n\u001b[1;32m    679\u001b[0m \u001b[0;34m\u001b[0m\u001b[0m\n\u001b[1;32m    680\u001b[0m             \u001b[0;31m# Propagate replicas.\u001b[0m\u001b[0;34m\u001b[0m\u001b[0;34m\u001b[0m\u001b[0;34m\u001b[0m\u001b[0m\n\u001b[0;32m--> 681\u001b[0;31m             \u001b[0mself\u001b[0m\u001b[0;34m.\u001b[0m\u001b[0m_propagate_replicas\u001b[0m\u001b[0;34m(\u001b[0m\u001b[0;34m)\u001b[0m\u001b[0;34m\u001b[0m\u001b[0;34m\u001b[0m\u001b[0m\n\u001b[0m\u001b[1;32m    682\u001b[0m \u001b[0;34m\u001b[0m\u001b[0m\n\u001b[1;32m    683\u001b[0m             \u001b[0;31m# Compute energies of all replicas at all states\u001b[0m\u001b[0;34m\u001b[0m\u001b[0;34m\u001b[0m\u001b[0;34m\u001b[0m\u001b[0m\n",
      "\u001b[0;32m~/miniconda3/envs/perses-sims/lib/python3.7/site-packages/openmmtools/utils.py\u001b[0m in \u001b[0;36m_wrapper\u001b[0;34m(*args, **kwargs)\u001b[0m\n\u001b[1;32m     85\u001b[0m         \u001b[0;32mdef\u001b[0m \u001b[0m_wrapper\u001b[0m\u001b[0;34m(\u001b[0m\u001b[0;34m*\u001b[0m\u001b[0margs\u001b[0m\u001b[0;34m,\u001b[0m \u001b[0;34m**\u001b[0m\u001b[0mkwargs\u001b[0m\u001b[0;34m)\u001b[0m\u001b[0;34m:\u001b[0m\u001b[0;34m\u001b[0m\u001b[0;34m\u001b[0m\u001b[0m\n\u001b[1;32m     86\u001b[0m             \u001b[0;32mwith\u001b[0m \u001b[0mtime_it\u001b[0m\u001b[0;34m(\u001b[0m\u001b[0mtask_name\u001b[0m\u001b[0;34m)\u001b[0m\u001b[0;34m:\u001b[0m\u001b[0;34m\u001b[0m\u001b[0;34m\u001b[0m\u001b[0m\n\u001b[0;32m---> 87\u001b[0;31m                 \u001b[0;32mreturn\u001b[0m \u001b[0mfunc\u001b[0m\u001b[0;34m(\u001b[0m\u001b[0;34m*\u001b[0m\u001b[0margs\u001b[0m\u001b[0;34m,\u001b[0m \u001b[0;34m**\u001b[0m\u001b[0mkwargs\u001b[0m\u001b[0;34m)\u001b[0m\u001b[0;34m\u001b[0m\u001b[0;34m\u001b[0m\u001b[0m\n\u001b[0m\u001b[1;32m     88\u001b[0m         \u001b[0;32mreturn\u001b[0m \u001b[0m_wrapper\u001b[0m\u001b[0;34m\u001b[0m\u001b[0;34m\u001b[0m\u001b[0m\n\u001b[1;32m     89\u001b[0m     \u001b[0;32mreturn\u001b[0m \u001b[0m_with_timer\u001b[0m\u001b[0;34m\u001b[0m\u001b[0;34m\u001b[0m\u001b[0m\n",
      "\u001b[0;32m~/miniconda3/envs/perses-sims/lib/python3.7/site-packages/openmmtools/multistate/multistatesampler.py\u001b[0m in \u001b[0;36m_propagate_replicas\u001b[0;34m(self)\u001b[0m\n\u001b[1;32m   1195\u001b[0m         \u001b[0;31m# for propagation and computation of the energy matrix entries.\u001b[0m\u001b[0;34m\u001b[0m\u001b[0;34m\u001b[0m\u001b[0;34m\u001b[0m\u001b[0m\n\u001b[1;32m   1196\u001b[0m         propagated_states, replica_ids = mpiplus.distribute(self._propagate_replica, range(self.n_replicas),\n\u001b[0;32m-> 1197\u001b[0;31m                                                         send_results_to=0)\n\u001b[0m\u001b[1;32m   1198\u001b[0m \u001b[0;34m\u001b[0m\u001b[0m\n\u001b[1;32m   1199\u001b[0m         \u001b[0;31m# Update all sampler states. For non-0 nodes, this will update only the\u001b[0m\u001b[0;34m\u001b[0m\u001b[0;34m\u001b[0m\u001b[0;34m\u001b[0m\u001b[0m\n",
      "\u001b[0;32m~/miniconda3/envs/perses-sims/lib/python3.7/site-packages/mpiplus/mpiplus.py\u001b[0m in \u001b[0;36mdistribute\u001b[0;34m(task, distributed_args, send_results_to, propagate_exceptions_to, sync_nodes, group_size, *other_args, **kwargs)\u001b[0m\n\u001b[1;32m    510\u001b[0m     \u001b[0;32mif\u001b[0m \u001b[0mget_mpicomm\u001b[0m\u001b[0;34m(\u001b[0m\u001b[0;34m)\u001b[0m \u001b[0;32mis\u001b[0m \u001b[0;32mNone\u001b[0m\u001b[0;34m:\u001b[0m\u001b[0;34m\u001b[0m\u001b[0;34m\u001b[0m\u001b[0m\n\u001b[1;32m    511\u001b[0m         \u001b[0mlogger\u001b[0m\u001b[0;34m.\u001b[0m\u001b[0mdebug\u001b[0m\u001b[0;34m(\u001b[0m\u001b[0;34m'Running {} serially.'\u001b[0m\u001b[0;34m.\u001b[0m\u001b[0mformat\u001b[0m\u001b[0;34m(\u001b[0m\u001b[0mtask\u001b[0m\u001b[0;34m.\u001b[0m\u001b[0m__name__\u001b[0m\u001b[0;34m)\u001b[0m\u001b[0;34m)\u001b[0m\u001b[0;34m\u001b[0m\u001b[0;34m\u001b[0m\u001b[0m\n\u001b[0;32m--> 512\u001b[0;31m         \u001b[0mall_results\u001b[0m \u001b[0;34m=\u001b[0m \u001b[0;34m[\u001b[0m\u001b[0mtask\u001b[0m\u001b[0;34m(\u001b[0m\u001b[0mjob_args\u001b[0m\u001b[0;34m,\u001b[0m \u001b[0;34m*\u001b[0m\u001b[0mother_args\u001b[0m\u001b[0;34m,\u001b[0m \u001b[0;34m**\u001b[0m\u001b[0mkwargs\u001b[0m\u001b[0;34m)\u001b[0m \u001b[0;32mfor\u001b[0m \u001b[0mjob_args\u001b[0m \u001b[0;32min\u001b[0m \u001b[0mdistributed_args\u001b[0m\u001b[0;34m]\u001b[0m\u001b[0;34m\u001b[0m\u001b[0;34m\u001b[0m\u001b[0m\n\u001b[0m\u001b[1;32m    513\u001b[0m         \u001b[0;32mif\u001b[0m \u001b[0msend_results_to\u001b[0m \u001b[0;34m==\u001b[0m \u001b[0;34m'all'\u001b[0m\u001b[0;34m:\u001b[0m\u001b[0;34m\u001b[0m\u001b[0;34m\u001b[0m\u001b[0m\n\u001b[1;32m    514\u001b[0m             \u001b[0;32mreturn\u001b[0m \u001b[0mall_results\u001b[0m\u001b[0;34m\u001b[0m\u001b[0;34m\u001b[0m\u001b[0m\n",
      "\u001b[0;32m~/miniconda3/envs/perses-sims/lib/python3.7/site-packages/mpiplus/mpiplus.py\u001b[0m in \u001b[0;36m<listcomp>\u001b[0;34m(.0)\u001b[0m\n\u001b[1;32m    510\u001b[0m     \u001b[0;32mif\u001b[0m \u001b[0mget_mpicomm\u001b[0m\u001b[0;34m(\u001b[0m\u001b[0;34m)\u001b[0m \u001b[0;32mis\u001b[0m \u001b[0;32mNone\u001b[0m\u001b[0;34m:\u001b[0m\u001b[0;34m\u001b[0m\u001b[0;34m\u001b[0m\u001b[0m\n\u001b[1;32m    511\u001b[0m         \u001b[0mlogger\u001b[0m\u001b[0;34m.\u001b[0m\u001b[0mdebug\u001b[0m\u001b[0;34m(\u001b[0m\u001b[0;34m'Running {} serially.'\u001b[0m\u001b[0;34m.\u001b[0m\u001b[0mformat\u001b[0m\u001b[0;34m(\u001b[0m\u001b[0mtask\u001b[0m\u001b[0;34m.\u001b[0m\u001b[0m__name__\u001b[0m\u001b[0;34m)\u001b[0m\u001b[0;34m)\u001b[0m\u001b[0;34m\u001b[0m\u001b[0;34m\u001b[0m\u001b[0m\n\u001b[0;32m--> 512\u001b[0;31m         \u001b[0mall_results\u001b[0m \u001b[0;34m=\u001b[0m \u001b[0;34m[\u001b[0m\u001b[0mtask\u001b[0m\u001b[0;34m(\u001b[0m\u001b[0mjob_args\u001b[0m\u001b[0;34m,\u001b[0m \u001b[0;34m*\u001b[0m\u001b[0mother_args\u001b[0m\u001b[0;34m,\u001b[0m \u001b[0;34m**\u001b[0m\u001b[0mkwargs\u001b[0m\u001b[0;34m)\u001b[0m \u001b[0;32mfor\u001b[0m \u001b[0mjob_args\u001b[0m \u001b[0;32min\u001b[0m \u001b[0mdistributed_args\u001b[0m\u001b[0;34m]\u001b[0m\u001b[0;34m\u001b[0m\u001b[0;34m\u001b[0m\u001b[0m\n\u001b[0m\u001b[1;32m    513\u001b[0m         \u001b[0;32mif\u001b[0m \u001b[0msend_results_to\u001b[0m \u001b[0;34m==\u001b[0m \u001b[0;34m'all'\u001b[0m\u001b[0;34m:\u001b[0m\u001b[0;34m\u001b[0m\u001b[0;34m\u001b[0m\u001b[0m\n\u001b[1;32m    514\u001b[0m             \u001b[0;32mreturn\u001b[0m \u001b[0mall_results\u001b[0m\u001b[0;34m\u001b[0m\u001b[0;34m\u001b[0m\u001b[0m\n",
      "\u001b[0;32m~/miniconda3/envs/perses-sims/lib/python3.7/site-packages/openmmtools/multistate/multistatesampler.py\u001b[0m in \u001b[0;36m_propagate_replica\u001b[0;34m(self, replica_id)\u001b[0m\n\u001b[1;32m   1221\u001b[0m         \u001b[0;31m# Apply MCMC move.\u001b[0m\u001b[0;34m\u001b[0m\u001b[0;34m\u001b[0m\u001b[0;34m\u001b[0m\u001b[0m\n\u001b[1;32m   1222\u001b[0m         \u001b[0;32mtry\u001b[0m\u001b[0;34m:\u001b[0m\u001b[0;34m\u001b[0m\u001b[0;34m\u001b[0m\u001b[0m\n\u001b[0;32m-> 1223\u001b[0;31m             \u001b[0mmcmc_move\u001b[0m\u001b[0;34m.\u001b[0m\u001b[0mapply\u001b[0m\u001b[0;34m(\u001b[0m\u001b[0mthermodynamic_state\u001b[0m\u001b[0;34m,\u001b[0m \u001b[0msampler_state\u001b[0m\u001b[0;34m)\u001b[0m\u001b[0;34m\u001b[0m\u001b[0;34m\u001b[0m\u001b[0m\n\u001b[0m\u001b[1;32m   1224\u001b[0m         \u001b[0;32mexcept\u001b[0m \u001b[0mmcmc\u001b[0m\u001b[0;34m.\u001b[0m\u001b[0mIntegratorMoveError\u001b[0m \u001b[0;32mas\u001b[0m \u001b[0me\u001b[0m\u001b[0;34m:\u001b[0m\u001b[0;34m\u001b[0m\u001b[0;34m\u001b[0m\u001b[0m\n\u001b[1;32m   1225\u001b[0m             \u001b[0;31m# Save NaNnig context and MCMove before aborting.\u001b[0m\u001b[0;34m\u001b[0m\u001b[0;34m\u001b[0m\u001b[0;34m\u001b[0m\u001b[0m\n",
      "\u001b[0;32m~/miniconda3/envs/perses-sims/lib/python3.7/site-packages/openmmtools/mcmc.py\u001b[0m in \u001b[0;36mapply\u001b[0;34m(self, thermodynamic_state, sampler_state)\u001b[0m\n\u001b[1;32m   1420\u001b[0m         \"\"\"\n\u001b[1;32m   1421\u001b[0m         \u001b[0;31m# Explicitly implemented just to have more specific docstring.\u001b[0m\u001b[0;34m\u001b[0m\u001b[0;34m\u001b[0m\u001b[0;34m\u001b[0m\u001b[0m\n\u001b[0;32m-> 1422\u001b[0;31m         \u001b[0msuper\u001b[0m\u001b[0;34m(\u001b[0m\u001b[0mGHMCMove\u001b[0m\u001b[0;34m,\u001b[0m \u001b[0mself\u001b[0m\u001b[0;34m)\u001b[0m\u001b[0;34m.\u001b[0m\u001b[0mapply\u001b[0m\u001b[0;34m(\u001b[0m\u001b[0mthermodynamic_state\u001b[0m\u001b[0;34m,\u001b[0m \u001b[0msampler_state\u001b[0m\u001b[0;34m)\u001b[0m\u001b[0;34m\u001b[0m\u001b[0;34m\u001b[0m\u001b[0m\n\u001b[0m\u001b[1;32m   1423\u001b[0m \u001b[0;34m\u001b[0m\u001b[0m\n\u001b[1;32m   1424\u001b[0m     \u001b[0;32mdef\u001b[0m \u001b[0m__getstate__\u001b[0m\u001b[0;34m(\u001b[0m\u001b[0mself\u001b[0m\u001b[0;34m)\u001b[0m\u001b[0;34m:\u001b[0m\u001b[0;34m\u001b[0m\u001b[0;34m\u001b[0m\u001b[0m\n",
      "\u001b[0;32m~/miniconda3/envs/perses-sims/lib/python3.7/site-packages/openmmtools/mcmc.py\u001b[0m in \u001b[0;36mapply\u001b[0;34m(self, thermodynamic_state, sampler_state)\u001b[0m\n\u001b[1;32m    672\u001b[0m                 \u001b[0;31m# Run dynamics.\u001b[0m\u001b[0;34m\u001b[0m\u001b[0;34m\u001b[0m\u001b[0;34m\u001b[0m\u001b[0m\n\u001b[1;32m    673\u001b[0m                 \u001b[0mtimer\u001b[0m\u001b[0;34m.\u001b[0m\u001b[0mstart\u001b[0m\u001b[0;34m(\u001b[0m\u001b[0;34m\"{}: step({})\"\u001b[0m\u001b[0;34m.\u001b[0m\u001b[0mformat\u001b[0m\u001b[0;34m(\u001b[0m\u001b[0mmove_name\u001b[0m\u001b[0;34m,\u001b[0m \u001b[0mself\u001b[0m\u001b[0;34m.\u001b[0m\u001b[0mn_steps\u001b[0m\u001b[0;34m)\u001b[0m\u001b[0;34m)\u001b[0m\u001b[0;34m\u001b[0m\u001b[0;34m\u001b[0m\u001b[0m\n\u001b[0;32m--> 674\u001b[0;31m                 \u001b[0mintegrator\u001b[0m\u001b[0;34m.\u001b[0m\u001b[0mstep\u001b[0m\u001b[0;34m(\u001b[0m\u001b[0mself\u001b[0m\u001b[0;34m.\u001b[0m\u001b[0mn_steps\u001b[0m\u001b[0;34m)\u001b[0m\u001b[0;34m\u001b[0m\u001b[0;34m\u001b[0m\u001b[0m\n\u001b[0m\u001b[1;32m    675\u001b[0m             \u001b[0;32mexcept\u001b[0m \u001b[0mException\u001b[0m\u001b[0;34m:\u001b[0m\u001b[0;34m\u001b[0m\u001b[0;34m\u001b[0m\u001b[0m\n\u001b[1;32m    676\u001b[0m                 \u001b[0;31m# Catches particle positions becoming nan during integration.\u001b[0m\u001b[0;34m\u001b[0m\u001b[0;34m\u001b[0m\u001b[0;34m\u001b[0m\u001b[0m\n",
      "\u001b[0;32m~/miniconda3/envs/perses-sims/lib/python3.7/site-packages/simtk/openmm/openmm.py\u001b[0m in \u001b[0;36mstep\u001b[0;34m(self, steps)\u001b[0m\n\u001b[1;32m   2723\u001b[0m             \u001b[0mthe\u001b[0m \u001b[0mnumber\u001b[0m \u001b[0mof\u001b[0m \u001b[0mtime\u001b[0m \u001b[0msteps\u001b[0m \u001b[0mto\u001b[0m \u001b[0mtake\u001b[0m\u001b[0;34m\u001b[0m\u001b[0;34m\u001b[0m\u001b[0m\n\u001b[1;32m   2724\u001b[0m         \"\"\"\n\u001b[0;32m-> 2725\u001b[0;31m         \u001b[0;32mreturn\u001b[0m \u001b[0m_openmm\u001b[0m\u001b[0;34m.\u001b[0m\u001b[0mCustomIntegrator_step\u001b[0m\u001b[0;34m(\u001b[0m\u001b[0mself\u001b[0m\u001b[0;34m,\u001b[0m \u001b[0msteps\u001b[0m\u001b[0;34m)\u001b[0m\u001b[0;34m\u001b[0m\u001b[0;34m\u001b[0m\u001b[0m\n\u001b[0m\u001b[1;32m   2726\u001b[0m \u001b[0;34m\u001b[0m\u001b[0m\n\u001b[1;32m   2727\u001b[0m \u001b[0;34m\u001b[0m\u001b[0m\n",
      "\u001b[0;31mKeyboardInterrupt\u001b[0m: "
     ]
    }
   ],
   "source": [
    "reporter_file = \"/data/chodera/zhangi/perses_benchmark/neq/7/16/16_vacuum_thr_5ns.nc\"\n",
    "reporter = multistate.MultiStateReporter(reporter_file, checkpoint_interval=1)\n",
    "simulation.create(thermodynamic_states=compound_states,\n",
    "                  sampler_states=states.SamplerState(htf.hybrid_positions),\n",
    "                  storage=reporter)\n",
    "simulation.run()"
   ]
  },
  {
   "cell_type": "code",
   "execution_count": null,
   "metadata": {},
   "outputs": [],
   "source": []
  },
  {
   "cell_type": "code",
   "execution_count": 1,
   "metadata": {},
   "outputs": [],
   "source": [
    "import mdtraj as md"
   ]
  },
  {
   "cell_type": "code",
   "execution_count": 3,
   "metadata": {},
   "outputs": [],
   "source": [
    "htf = pickle.load(open(\"/data/chodera/zhangi/perses_benchmark/neq/7/16/16_vacuum.pickle\", \"rb\" ))"
   ]
  },
  {
   "cell_type": "code",
   "execution_count": 6,
   "metadata": {},
   "outputs": [],
   "source": [
    "with open(\"/data/chodera/zhangi/perses_benchmark/neq/7/16/16_vacuum_0_forward_neq_old.npy\", \"rb\") as f:\n",
    "    pos = np.load(f)"
   ]
  },
  {
   "cell_type": "code",
   "execution_count": 11,
   "metadata": {},
   "outputs": [],
   "source": [
    "top = md.Topology.from_openmm(htf._topology_proposal.old_topology)\n",
    "traj = md.Trajectory(np.array(pos), top)\n",
    "traj.save(\"/data/chodera/zhangi/perses_benchmark/neq/7/16/16_vacuum_0_forward_neq_old_traj.dcd\")"
   ]
  },
  {
   "cell_type": "code",
   "execution_count": 12,
   "metadata": {},
   "outputs": [],
   "source": [
    "traj = md.Trajectory(np.array(htf.old_positions(htf.hybrid_positions)), top)"
   ]
  },
  {
   "cell_type": "code",
   "execution_count": 13,
   "metadata": {},
   "outputs": [],
   "source": [
    "traj.save(\"/data/chodera/zhangi/perses_benchmark/neq/7/16/16_vacuum_0_forward_neq_old.pdb\")"
   ]
  },
  {
   "cell_type": "code",
   "execution_count": null,
   "metadata": {},
   "outputs": [],
   "source": []
  }
 ],
 "metadata": {
  "kernelspec": {
   "display_name": "Python 3",
   "language": "python",
   "name": "python3"
  },
  "language_info": {
   "codemirror_mode": {
    "name": "ipython",
    "version": 3
   },
   "file_extension": ".py",
   "mimetype": "text/x-python",
   "name": "python",
   "nbconvert_exporter": "python",
   "pygments_lexer": "ipython3",
   "version": "3.7.3"
  }
 },
 "nbformat": 4,
 "nbformat_minor": 4
}
