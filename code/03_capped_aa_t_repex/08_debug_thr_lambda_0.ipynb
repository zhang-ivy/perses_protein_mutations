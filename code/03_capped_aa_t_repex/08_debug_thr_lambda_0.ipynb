{
 "cells": [
  {
   "cell_type": "markdown",
   "metadata": {},
   "source": [
    "## I want to figure out why there is still a high energetic barrier for THR at lambda = 0 even after flattening torsions and 1,4s"
   ]
  },
  {
   "cell_type": "markdown",
   "metadata": {},
   "source": [
    "### Let me first generate the htf with flattened torsions and 1,4s"
   ]
  },
  {
   "cell_type": "code",
   "execution_count": 1,
   "metadata": {},
   "outputs": [],
   "source": [
    "import pickle"
   ]
  },
  {
   "cell_type": "code",
   "execution_count": 2,
   "metadata": {},
   "outputs": [],
   "source": [
    "with open(\"/data/chodera/zhangi/perses_benchmark/neq/7/31/31_vacuum.pickle\", \"rb\") as f:\n",
    "    htf = pickle.load(f)"
   ]
  },
  {
   "cell_type": "code",
   "execution_count": 5,
   "metadata": {},
   "outputs": [],
   "source": [
    "old_system = htf._topology_proposal.old_system\n",
    "new_system = htf._topology_proposal.new_system"
   ]
  },
  {
   "cell_type": "code",
   "execution_count": 6,
   "metadata": {},
   "outputs": [],
   "source": [
    "nb_force = old_system.getForce(3)\n",
    "for i in range(nb_force.getNumExceptions()):\n",
    "    p1, p2, chargeProd, sigma, epsilon = nb_force.getExceptionParameters(i)\n",
    "    if p1 in [10, 11, 12, 13] or p2 in [10, 11, 12, 13]:\n",
    "        if abs(p1-p2) == 3:\n",
    "            nb_force.setExceptionParameters(i, p1, p2, 0, sigma, 0)"
   ]
  },
  {
   "cell_type": "code",
   "execution_count": 7,
   "metadata": {},
   "outputs": [],
   "source": [
    "nb_force = new_system.getForce(3)\n",
    "for i in range(nb_force.getNumExceptions()):\n",
    "    p1, p2, chargeProd, sigma, epsilon = nb_force.getExceptionParameters(i)\n",
    "    if p1 in [10, 13, 14, 15, 16, 17, 18, 19] or p2 in [10, 13, 14, 15, 16, 17, 18, 19]:\n",
    "        if abs(p1-p2) == 3: \n",
    "            nb_force.setExceptionParameters(i, p1, p2, 0, sigma, 0)"
   ]
  },
  {
   "cell_type": "code",
   "execution_count": 9,
   "metadata": {},
   "outputs": [
    {
     "name": "stderr",
     "output_type": "stream",
     "text": [
      "INFO:relative:Beginning nonbonded method, total particle, barostat, and exceptions retrieval...\n",
      "INFO:relative:Old system forces: dict_keys(['HarmonicBondForce', 'HarmonicAngleForce', 'PeriodicTorsionForce', 'NonbondedForce'])\n",
      "INFO:relative:New system forces: dict_keys(['HarmonicBondForce', 'HarmonicAngleForce', 'PeriodicTorsionForce', 'NonbondedForce'])\n",
      "INFO:relative:No unknown forces.\n",
      "INFO:relative:Nonbonded method to be used (i.e. from old system): 0\n",
      "INFO:relative:Adding and mapping old atoms to hybrid system...\n",
      "INFO:relative:Adding and mapping new atoms to hybrid system...\n",
      "INFO:relative:No MonteCarloBarostat added.\n",
      "INFO:relative:getDefaultPeriodicBoxVectors added to hybrid: [Quantity(value=Vec3(x=2.0, y=0.0, z=0.0), unit=nanometer), Quantity(value=Vec3(x=0.0, y=2.0, z=0.0), unit=nanometer), Quantity(value=Vec3(x=0.0, y=0.0, z=2.0), unit=nanometer)]\n",
      "INFO:relative:Determined atom classes.\n",
      "INFO:relative:Generating old system exceptions dict...\n",
      "INFO:relative:Generating new system exceptions dict...\n",
      "INFO:relative:Handling constraints...\n",
      "INFO:relative:Handling virtual sites...\n",
      "INFO:relative:\t_handle_virtual_sites: numVirtualSites: 0\n",
      "INFO:relative:Adding bond force terms...\n",
      "INFO:relative:Adding angle force terms...\n",
      "INFO:relative:Adding torsion force terms...\n",
      "INFO:relative:Adding nonbonded force terms...\n",
      "INFO:relative:\t_add_nonbonded_force_terms: <simtk.openmm.openmm.NonbondedForce; proxy of <Swig Object of type 'OpenMM::NonbondedForce *' at 0x2b1db84f8450> > added to hybrid system\n",
      "INFO:relative:\t_add_nonbonded_force_terms: nonbonded_method is NoCutoff\n",
      "INFO:relative:\t_add_nonbonded_force_terms: 0 added to standard nonbonded force\n",
      "INFO:relative:\t_add_nonbonded_force_terms: 0 added to sterics_custom_nonbonded force\n",
      "INFO:relative:\t_add_nonbonded_force_terms: <simtk.openmm.openmm.CustomNonbondedForce; proxy of <Swig Object of type 'OpenMM::CustomNonbondedForce *' at 0x2b1db84f82d0> > added to hybrid system\n",
      "INFO:relative:Handling harmonic bonds...\n",
      "INFO:relative:\thandle_harmonic_bonds: looping through old_system to add relevant terms...\n",
      "INFO:relative:\thandle_harmonic_bonds: looping through new_system to add relevant terms...\n",
      "INFO:relative:Handling harmonic angles...\n",
      "INFO:relative:\thandle_harmonic_angles: looping through old_system to add relevant terms...\n",
      "INFO:relative:\thandle_harmonic_angles: looping through new_system to add relevant terms...\n",
      "INFO:relative:Handling torsion forces...\n",
      "INFO:relative:\thandle_periodic_torsion_forces: looping through old_system to add relevant terms...\n",
      "INFO:relative:\thandle_periodic_torsion_forces: looping through new_system to add relevant terms...\n",
      "INFO:relative:Handling nonbonded forces...\n",
      "INFO:relative:\thandle_nonbonded: looping through all particles in hybrid...\n",
      "INFO:relative:\thandle_nonbonded: Handling Interaction Groups...\n",
      "INFO:relative:\thandle_nonbonded: Handling Hybrid Exceptions...\n",
      "INFO:relative:\thandle_nonbonded: Handling Original Exceptions...\n",
      "INFO:relative:Handling unique_new/old interaction exceptions...\n",
      "INFO:relative:There are old or new system exceptions...proceeding.\n"
     ]
    }
   ],
   "source": [
    "# Build new htf\n",
    "from perses.tests.test_topology_proposal import generate_atp\n",
    "htf._topology_proposal._old_system = old_system\n",
    "htf._topology_proposal._new_system = new_system\n",
    "\n",
    "from perses.annihilation.relative import HybridTopologyFactory\n",
    "htf = HybridTopologyFactory(topology_proposal=htf._topology_proposal,\n",
    "                     current_positions=htf.old_positions(htf.hybrid_positions),\n",
    "                     new_positions=htf.new_positions(htf.hybrid_positions),\n",
    "                     use_dispersion_correction=False,\n",
    "                     functions=None,\n",
    "                     softcore_alpha=None,\n",
    "                     bond_softening_constant=1.0,\n",
    "                     angle_softening_constant=1.0,\n",
    "                     soften_only_new=False,\n",
    "                     neglected_new_angle_terms=[],\n",
    "                     neglected_old_angle_terms=[],\n",
    "                     softcore_LJ_v2=True,\n",
    "                     softcore_electrostatics=True,\n",
    "                     softcore_LJ_v2_alpha=0.85,\n",
    "                     softcore_electrostatics_alpha=0.3,\n",
    "                     softcore_sigma_Q=1.0,\n",
    "                     interpolate_old_and_new_14s=False,\n",
    "                     omitted_terms=None,\n",
    "                     flatten_torsions=False)"
   ]
  },
  {
   "cell_type": "markdown",
   "metadata": {},
   "source": [
    "### First, let me try turning all torsion terms in the THR to see if a torsion scan suggests that the barrier is gone"
   ]
  },
  {
   "cell_type": "code",
   "execution_count": null,
   "metadata": {},
   "outputs": [],
   "source": [
    "# See 08_debug_with_torsion_scan.ipynb"
   ]
  },
  {
   "cell_type": "markdown",
   "metadata": {},
   "source": [
    "### Now, I will check that all non-valence terms for THR at lambda = 0 are zeroed"
   ]
  },
  {
   "cell_type": "markdown",
   "metadata": {},
   "source": [
    "If charges and sigmas are not zeroed, there needs to be an exception"
   ]
  },
  {
   "cell_type": "code",
   "execution_count": 11,
   "metadata": {},
   "outputs": [
    {
     "data": {
      "text/plain": [
       "{22, 23, 24, 25, 26, 27, 28, 29}"
      ]
     },
     "execution_count": 11,
     "metadata": {},
     "output_type": "execute_result"
    }
   ],
   "source": [
    "htf._atom_classes['unique_new_atoms']"
   ]
  },
  {
   "cell_type": "code",
   "execution_count": 12,
   "metadata": {},
   "outputs": [
    {
     "name": "stdout",
     "output_type": "stream",
     "text": [
      "0 <simtk.openmm.openmm.CustomBondForce; proxy of <Swig Object of type 'OpenMM::CustomBondForce *' at 0x2b1db351a570> >\n",
      "1 <simtk.openmm.openmm.HarmonicBondForce; proxy of <Swig Object of type 'OpenMM::HarmonicBondForce *' at 0x2b1db351a570> >\n",
      "2 <simtk.openmm.openmm.CustomAngleForce; proxy of <Swig Object of type 'OpenMM::CustomAngleForce *' at 0x2b1db351a570> >\n",
      "3 <simtk.openmm.openmm.HarmonicAngleForce; proxy of <Swig Object of type 'OpenMM::HarmonicAngleForce *' at 0x2b1db351a570> >\n",
      "4 <simtk.openmm.openmm.CustomTorsionForce; proxy of <Swig Object of type 'OpenMM::CustomTorsionForce *' at 0x2b1db351a570> >\n",
      "5 <simtk.openmm.openmm.PeriodicTorsionForce; proxy of <Swig Object of type 'OpenMM::PeriodicTorsionForce *' at 0x2b1db351a570> >\n",
      "6 <simtk.openmm.openmm.NonbondedForce; proxy of <Swig Object of type 'OpenMM::NonbondedForce *' at 0x2b1db351a570> >\n",
      "7 <simtk.openmm.openmm.CustomNonbondedForce; proxy of <Swig Object of type 'OpenMM::CustomNonbondedForce *' at 0x2b1db351a570> >\n",
      "8 <simtk.openmm.openmm.CustomBondForce; proxy of <Swig Object of type 'OpenMM::CustomBondForce *' at 0x2b1db351a570> >\n"
     ]
    }
   ],
   "source": [
    "for i in range(htf.hybrid_system.getNumForces()):\n",
    "    print(i, htf.hybrid_system.getForce(i))"
   ]
  },
  {
   "cell_type": "markdown",
   "metadata": {},
   "source": [
    "First let's check the NonbondedForce"
   ]
  },
  {
   "cell_type": "code",
   "execution_count": 14,
   "metadata": {},
   "outputs": [
    {
     "name": "stdout",
     "output_type": "stream",
     "text": [
      "0 [Quantity(value=0.1123, unit=elementary charge), Quantity(value=0.2649532787749369, unit=nanometer), Quantity(value=0.0, unit=kilojoule/mole)]\n",
      "1 [Quantity(value=-0.3662, unit=elementary charge), Quantity(value=0.3399669508423535, unit=nanometer), Quantity(value=0.0, unit=kilojoule/mole)]\n",
      "2 [Quantity(value=0.1123, unit=elementary charge), Quantity(value=0.2649532787749369, unit=nanometer), Quantity(value=0.0, unit=kilojoule/mole)]\n",
      "3 [Quantity(value=0.1123, unit=elementary charge), Quantity(value=0.2649532787749369, unit=nanometer), Quantity(value=0.0, unit=kilojoule/mole)]\n",
      "4 [Quantity(value=0.5972, unit=elementary charge), Quantity(value=0.3399669508423535, unit=nanometer), Quantity(value=0.0, unit=kilojoule/mole)]\n",
      "5 [Quantity(value=-0.5679, unit=elementary charge), Quantity(value=0.2959921901149463, unit=nanometer), Quantity(value=0.0, unit=kilojoule/mole)]\n",
      "6 [Quantity(value=-0.4157, unit=elementary charge), Quantity(value=0.3249998523775958, unit=nanometer), Quantity(value=0.0, unit=kilojoule/mole)]\n",
      "7 [Quantity(value=0.2719, unit=elementary charge), Quantity(value=0.10690784617684071, unit=nanometer), Quantity(value=0.0, unit=kilojoule/mole)]\n",
      "8 [Quantity(value=0.0337, unit=elementary charge), Quantity(value=0.3399669508423535, unit=nanometer), Quantity(value=0.0, unit=kilojoule/mole)]\n",
      "9 [Quantity(value=0.0823, unit=elementary charge), Quantity(value=0.2471353044121301, unit=nanometer), Quantity(value=0.0, unit=kilojoule/mole)]\n",
      "10 [Quantity(value=-0.1825, unit=elementary charge), Quantity(value=0.3399669508423535, unit=nanometer), Quantity(value=0.0, unit=kilojoule/mole)]\n",
      "11 [Quantity(value=0.0603, unit=elementary charge), Quantity(value=0.2649532787749369, unit=nanometer), Quantity(value=0.0, unit=kilojoule/mole)]\n",
      "12 [Quantity(value=0.0603, unit=elementary charge), Quantity(value=0.2649532787749369, unit=nanometer), Quantity(value=0.0, unit=kilojoule/mole)]\n",
      "13 [Quantity(value=0.0603, unit=elementary charge), Quantity(value=0.2649532787749369, unit=nanometer), Quantity(value=0.0, unit=kilojoule/mole)]\n",
      "14 [Quantity(value=0.5973, unit=elementary charge), Quantity(value=0.3399669508423535, unit=nanometer), Quantity(value=0.0, unit=kilojoule/mole)]\n",
      "15 [Quantity(value=-0.5679, unit=elementary charge), Quantity(value=0.2959921901149463, unit=nanometer), Quantity(value=0.0, unit=kilojoule/mole)]\n",
      "16 [Quantity(value=-0.4157, unit=elementary charge), Quantity(value=0.3249998523775958, unit=nanometer), Quantity(value=0.0, unit=kilojoule/mole)]\n",
      "17 [Quantity(value=0.2719, unit=elementary charge), Quantity(value=0.10690784617684071, unit=nanometer), Quantity(value=0.0, unit=kilojoule/mole)]\n",
      "18 [Quantity(value=-0.149, unit=elementary charge), Quantity(value=0.3399669508423535, unit=nanometer), Quantity(value=0.0, unit=kilojoule/mole)]\n",
      "19 [Quantity(value=0.0976, unit=elementary charge), Quantity(value=0.2471353044121301, unit=nanometer), Quantity(value=0.0, unit=kilojoule/mole)]\n",
      "20 [Quantity(value=0.0976, unit=elementary charge), Quantity(value=0.2471353044121301, unit=nanometer), Quantity(value=0.0, unit=kilojoule/mole)]\n",
      "21 [Quantity(value=0.0976, unit=elementary charge), Quantity(value=0.2471353044121301, unit=nanometer), Quantity(value=0.0, unit=kilojoule/mole)]\n",
      "22 [Quantity(value=0.0, unit=elementary charge), Quantity(value=0.3399669508423535, unit=nanometer), Quantity(value=0.0, unit=kilojoule/mole)]\n",
      "23 [Quantity(value=0.0, unit=elementary charge), Quantity(value=0.2471353044121301, unit=nanometer), Quantity(value=0.0, unit=kilojoule/mole)]\n",
      "24 [Quantity(value=0.0, unit=elementary charge), Quantity(value=0.3399669508423535, unit=nanometer), Quantity(value=0.0, unit=kilojoule/mole)]\n",
      "25 [Quantity(value=0.0, unit=elementary charge), Quantity(value=0.2649532787749369, unit=nanometer), Quantity(value=0.0, unit=kilojoule/mole)]\n",
      "26 [Quantity(value=0.0, unit=elementary charge), Quantity(value=0.2649532787749369, unit=nanometer), Quantity(value=0.0, unit=kilojoule/mole)]\n",
      "27 [Quantity(value=0.0, unit=elementary charge), Quantity(value=0.2649532787749369, unit=nanometer), Quantity(value=0.0, unit=kilojoule/mole)]\n",
      "28 [Quantity(value=0.0, unit=elementary charge), Quantity(value=0.3066473387839048, unit=nanometer), Quantity(value=0.0, unit=kilojoule/mole)]\n",
      "29 [Quantity(value=0.0, unit=elementary charge), Quantity(value=1.0, unit=nanometer), Quantity(value=0.0, unit=kilojoule/mole)]\n"
     ]
    }
   ],
   "source": [
    "nb_force = htf.hybrid_system.getForce(6)\n",
    "for i in range(nb_force.getNumParticles()):\n",
    "    print(i, nb_force.getParticleParameters(i))"
   ]
  },
  {
   "cell_type": "markdown",
   "metadata": {},
   "source": [
    "All the unique new atoms (22-29) have 0 charge and 0 epsilon "
   ]
  },
  {
   "cell_type": "markdown",
   "metadata": {},
   "source": [
    "Now let's check the CustomNonbondedForce"
   ]
  },
  {
   "cell_type": "code",
   "execution_count": 15,
   "metadata": {},
   "outputs": [
    {
     "name": "stdout",
     "output_type": "stream",
     "text": [
      "0 (0.2649532787749369, 0.06568879999999999, 0.2649532787749369, 0.06568879999999999, 0.0, 0.0)\n",
      "1 (0.3399669508423535, 0.4577296, 0.3399669508423535, 0.4577296, 0.0, 0.0)\n",
      "2 (0.2649532787749369, 0.06568879999999999, 0.2649532787749369, 0.06568879999999999, 0.0, 0.0)\n",
      "3 (0.2649532787749369, 0.06568879999999999, 0.2649532787749369, 0.06568879999999999, 0.0, 0.0)\n",
      "4 (0.3399669508423535, 0.359824, 0.3399669508423535, 0.359824, 0.0, 0.0)\n",
      "5 (0.2959921901149463, 0.87864, 0.2959921901149463, 0.87864, 0.0, 0.0)\n",
      "6 (0.3249998523775958, 0.7112800000000001, 0.3249998523775958, 0.7112800000000001, 0.0, 0.0)\n",
      "7 (0.10690784617684071, 0.06568879999999999, 0.10690784617684071, 0.06568879999999999, 0.0, 0.0)\n",
      "8 (0.3399669508423535, 0.4577296, 0.3399669508423535, 0.4577296, 0.0, 0.0)\n",
      "9 (0.2471353044121301, 0.06568879999999999, 0.2471353044121301, 0.06568879999999999, 0.0, 0.0)\n",
      "10 (0.3399669508423535, 0.4577296, 0.3399669508423535, 0.0, 1.0, 0.0)\n",
      "11 (0.2649532787749369, 0.06568879999999999, 0.2649532787749369, 0.0, 1.0, 0.0)\n",
      "12 (0.2649532787749369, 0.06568879999999999, 0.2649532787749369, 0.0, 1.0, 0.0)\n",
      "13 (0.2649532787749369, 0.06568879999999999, 0.2649532787749369, 0.0, 1.0, 0.0)\n",
      "14 (0.3399669508423535, 0.359824, 0.3399669508423535, 0.359824, 0.0, 0.0)\n",
      "15 (0.2959921901149463, 0.87864, 0.2959921901149463, 0.87864, 0.0, 0.0)\n",
      "16 (0.3249998523775958, 0.7112800000000001, 0.3249998523775958, 0.7112800000000001, 0.0, 0.0)\n",
      "17 (0.10690784617684071, 0.06568879999999999, 0.10690784617684071, 0.06568879999999999, 0.0, 0.0)\n",
      "18 (0.3399669508423535, 0.4577296, 0.3399669508423535, 0.4577296, 0.0, 0.0)\n",
      "19 (0.2471353044121301, 0.06568879999999999, 0.2471353044121301, 0.06568879999999999, 0.0, 0.0)\n",
      "20 (0.2471353044121301, 0.06568879999999999, 0.2471353044121301, 0.06568879999999999, 0.0, 0.0)\n",
      "21 (0.2471353044121301, 0.06568879999999999, 0.2471353044121301, 0.06568879999999999, 0.0, 0.0)\n",
      "22 (0.3399669508423535, 0.0, 0.3399669508423535, 0.4577296, 0.0, 1.0)\n",
      "23 (0.2471353044121301, 0.0, 0.2471353044121301, 0.06568879999999999, 0.0, 1.0)\n",
      "24 (0.3399669508423535, 0.0, 0.3399669508423535, 0.4577296, 0.0, 1.0)\n",
      "25 (0.2649532787749369, 0.0, 0.2649532787749369, 0.06568879999999999, 0.0, 1.0)\n",
      "26 (0.2649532787749369, 0.0, 0.2649532787749369, 0.06568879999999999, 0.0, 1.0)\n",
      "27 (0.2649532787749369, 0.0, 0.2649532787749369, 0.06568879999999999, 0.0, 1.0)\n",
      "28 (0.3066473387839048, 0.0, 0.3066473387839048, 0.8803136, 0.0, 1.0)\n",
      "29 (1.0, 0.0, 1.0, 0.0, 0.0, 1.0)\n"
     ]
    }
   ],
   "source": [
    "custom_nb_force = htf.hybrid_system.getForce(7)\n",
    "for i in range(custom_nb_force.getNumParticles()):\n",
    "    print(i, custom_nb_force.getParticleParameters(i))"
   ]
  },
  {
   "cell_type": "markdown",
   "metadata": {},
   "source": [
    "Unique new atoms are not zeroed -- let's check to see if there are exceptions for these"
   ]
  },
  {
   "cell_type": "code",
   "execution_count": null,
   "metadata": {},
   "outputs": [],
   "source": [
    "# custom_nb_force = htf.hybrid_system.getForce(7)\n",
    "# for i in range(custom_nb_force.getNumParticles()):\n",
    "#     print(i, custom_nb_force.getParticleParameters(i))"
   ]
  },
  {
   "cell_type": "markdown",
   "metadata": {},
   "source": [
    "There are no exceptions in the CustomNonbondedForce..."
   ]
  },
  {
   "cell_type": "code",
   "execution_count": null,
   "metadata": {},
   "outputs": [],
   "source": []
  }
 ],
 "metadata": {
  "kernelspec": {
   "display_name": "Python 3",
   "language": "python",
   "name": "python3"
  },
  "language_info": {
   "codemirror_mode": {
    "name": "ipython",
    "version": 3
   },
   "file_extension": ".py",
   "mimetype": "text/x-python",
   "name": "python",
   "nbconvert_exporter": "python",
   "pygments_lexer": "ipython3",
   "version": "3.7.8"
  }
 },
 "nbformat": 4,
 "nbformat_minor": 4
}
