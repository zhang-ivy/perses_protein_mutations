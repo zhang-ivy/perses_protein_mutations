{
 "cells": [
  {
   "cell_type": "code",
   "execution_count": 3,
   "metadata": {},
   "outputs": [
    {
     "name": "stderr",
     "output_type": "stream",
     "text": [
      "RDKit WARNING: [15:24:58] Enabling RDKit 2019.09.3 jupyter extensions\n"
     ]
    }
   ],
   "source": [
    "from simtk import unit\n",
    "import os\n",
    "import pickle\n",
    "import mdtraj as md\n",
    "import numpy as np\n",
    "from perses.app.relative_point_mutation_setup import PointMutationExecutor\n",
    "import simtk.openmm.app as app\n",
    "\n"
   ]
  },
  {
   "cell_type": "code",
   "execution_count": 2,
   "metadata": {
    "scrolled": true
   },
   "outputs": [
    {
     "name": "stderr",
     "output_type": "stream",
     "text": [
      "INFO:proposal_generator:\tConducting polymer point mutation proposal...\n",
      "INFO:proposal_generator:Using matching_criterion to chose best atom map\n",
      "INFO:proposal_generator:Scaffold has symmetry of 0\n",
      "WARNING:proposal_generator:Two molecules are not similar to have a common scaffold\n",
      "WARNING:proposal_generator:Proceeding with direct mapping of molecules, but please check atom mapping and the geometry of the ligands.\n",
      "INFO:proposal_generator:len [{4: 4, 7: 9}, {4: 4, 8: 9}, {4: 4, 9: 9}]\n",
      "INFO:proposal_generator:{4: 4, 7: 9}\n",
      "INFO:proposal_generator:{4: 4, 8: 9}\n",
      "INFO:proposal_generator:{4: 4, 9: 9}\n",
      "INFO:proposal_generator:Returning map that best satisfies matching_criterion\n",
      "INFO:proposal_generator:Finding best map using matching_criterion name\n",
      "INFO:proposal_generator:{4: 4, 7: 9}\n",
      "INFO:geometry:propose: performing forward proposal\n",
      "INFO:geometry:propose: unique new atoms detected; proceeding to _logp_propose...\n",
      "INFO:geometry:Conducting forward proposal...\n",
      "INFO:geometry:Computing proposal order with NetworkX...\n",
      "INFO:geometry:number of atoms to be placed: 2\n",
      "INFO:geometry:Atom index proposal order is [14, 15]\n",
      "INFO:geometry:omitted_bonds: []\n",
      "INFO:geometry:direction of proposal is forward; creating atoms_with_positions and new positions from old system/topology...\n",
      "INFO:geometry:creating growth system...\n",
      "INFO:geometry:\tcreating bond force...\n",
      "INFO:geometry:\tthere are 21 bonds in reference force.\n",
      "INFO:geometry:\tcreating angle force...\n",
      "INFO:geometry:\tthere are 36 angles in reference force.\n",
      "INFO:geometry:\tcreating torsion force...\n",
      "INFO:geometry:\tcreating extra torsions force...\n",
      "INFO:geometry:\tthere are 42 torsions in reference force.\n",
      "INFO:geometry:\tcreating nonbonded force...\n",
      "INFO:geometry:\t\tgrabbing reference nonbonded method, cutoff, switching function, switching distance...\n",
      "INFO:geometry:\t\tcreating nonbonded exception force (i.e. custom bond for 1,4s)...\n",
      "INFO:geometry:\t\tlooping through exceptions calculating growth indices, and adding appropriate interactions to custom bond force.\n",
      "INFO:geometry:\t\tthere are 98 in the reference Nonbonded force\n",
      "INFO:geometry:Neglected angle terms : []\n",
      "INFO:geometry:omitted_growth_terms: {'bonds': [], 'angles': [], 'torsions': [], '1,4s': []}\n",
      "INFO:geometry:extra torsions: {}\n",
      "INFO:geometry:neglected angle terms include []\n",
      "INFO:geometry:log probability choice of torsions and atom order: -2.8903717578961645\n",
      "INFO:geometry:creating platform, integrators, and contexts; setting growth parameter\n"
     ]
    },
    {
     "name": "stdout",
     "output_type": "stream",
     "text": [
      "conducting subsequent work with the following platform: CUDA\n",
      "conducting subsequent work with the following platform: CUDA\n"
     ]
    },
    {
     "name": "stderr",
     "output_type": "stream",
     "text": [
      "INFO:geometry:setting atoms_with_positions context new positions\n"
     ]
    },
    {
     "name": "stdout",
     "output_type": "stream",
     "text": [
      "conducting subsequent work with the following platform: CUDA\n"
     ]
    },
    {
     "name": "stderr",
     "output_type": "stream",
     "text": [
      "INFO:geometry:There are 2 new atoms\n",
      "INFO:geometry:\treduced angle potential = 0.06325776098778203.\n",
      "INFO:geometry:\treduced angle potential = 0.07539378969852559.\n",
      "INFO:geometry:\tbeginning construction of no_nonbonded final system...\n",
      "INFO:geometry:\tinitial no-nonbonded final system forces ['HarmonicBondForce', 'HarmonicAngleForce', 'PeriodicTorsionForce', 'NonbondedForce']\n",
      "INFO:geometry:\tfinal no-nonbonded final system forces dict_keys(['HarmonicBondForce', 'HarmonicAngleForce', 'PeriodicTorsionForce', 'NonbondedForce'])\n",
      "INFO:geometry:\tthere are 21 bond forces in the no-nonbonded final system\n",
      "INFO:geometry:\tthere are 36 angle forces in the no-nonbonded final system\n",
      "INFO:geometry:\tthere are 42 torsion forces in the no-nonbonded final system\n",
      "INFO:geometry:forward final system defined with 0 neglected angles.\n"
     ]
    },
    {
     "name": "stdout",
     "output_type": "stream",
     "text": [
      "conducting subsequent work with the following platform: CUDA\n",
      "conducting subsequent work with the following platform: CUDA\n"
     ]
    },
    {
     "name": "stderr",
     "output_type": "stream",
     "text": [
      "INFO:geometry:total reduced potential before atom placement: 17.76678054248911\n"
     ]
    },
    {
     "name": "stdout",
     "output_type": "stream",
     "text": [
      "conducting subsequent work with the following platform: CUDA\n",
      "conducting subsequent work with the following platform: CUDA\n",
      "conducting subsequent work with the following platform: CUDA\n"
     ]
    },
    {
     "name": "stderr",
     "output_type": "stream",
     "text": [
      "INFO:geometry:total reduced energy added from growth system: 8.586829282243084\n",
      "INFO:geometry:final reduced energy 26.353609953205925\n",
      "INFO:geometry:sum of energies: 26.353609824732192\n",
      "INFO:geometry:magnitude of difference in the energies: 1.2847373298541243e-07\n",
      "INFO:geometry:Final logp_proposal: 20.408568824909896\n"
     ]
    },
    {
     "name": "stdout",
     "output_type": "stream",
     "text": [
      "added energy components: [('CustomBondForce', 0.7233537542451867), ('CustomAngleForce', 0.47331319417740675), ('CustomTorsionForce', 0.4068561245872987), ('CustomBondForce', 6.9833062092331915)]\n"
     ]
    },
    {
     "name": "stderr",
     "output_type": "stream",
     "text": [
      "INFO:geometry:logp_reverse: performing reverse proposal\n",
      "INFO:geometry:logp_reverse: unique new atoms detected; proceeding to _logp_propose...\n",
      "INFO:geometry:Conducting forward proposal...\n",
      "INFO:geometry:Computing proposal order with NetworkX...\n",
      "INFO:geometry:number of atoms to be placed: 6\n",
      "INFO:geometry:Atom index proposal order is [18, 14, 19, 17, 16, 15]\n",
      "INFO:geometry:omitted_bonds: []\n",
      "INFO:geometry:direction of proposal is reverse; creating atoms_with_positions from old system/topology\n",
      "INFO:geometry:creating growth system...\n",
      "INFO:geometry:\tcreating bond force...\n",
      "INFO:geometry:\tthere are 25 bonds in reference force.\n",
      "INFO:geometry:\tcreating angle force...\n",
      "INFO:geometry:\tthere are 43 angles in reference force.\n",
      "INFO:geometry:\tcreating torsion force...\n",
      "INFO:geometry:\tcreating extra torsions force...\n",
      "INFO:geometry:\tthere are 72 torsions in reference force.\n",
      "INFO:geometry:\tcreating nonbonded force...\n",
      "INFO:geometry:\t\tgrabbing reference nonbonded method, cutoff, switching function, switching distance...\n",
      "INFO:geometry:\t\tcreating nonbonded exception force (i.e. custom bond for 1,4s)...\n",
      "INFO:geometry:\t\tlooping through exceptions calculating growth indices, and adding appropriate interactions to custom bond force.\n",
      "INFO:geometry:\t\tthere are 121 in the reference Nonbonded force\n",
      "INFO:geometry:Neglected angle terms : []\n",
      "INFO:geometry:omitted_growth_terms: {'bonds': [], 'angles': [], 'torsions': [], '1,4s': []}\n",
      "INFO:geometry:extra torsions: {0: (18, 10, 8, 14, [1, Quantity(value=-1.0655064807976995, unit=radian), Quantity(value=120.0, unit=kilocalorie/mole), 2])}\n",
      "INFO:geometry:neglected angle terms include []\n",
      "INFO:geometry:log probability choice of torsions and atom order: -10.462874742916549\n",
      "INFO:geometry:creating platform, integrators, and contexts; setting growth parameter\n"
     ]
    },
    {
     "name": "stdout",
     "output_type": "stream",
     "text": [
      "conducting subsequent work with the following platform: CUDA\n"
     ]
    },
    {
     "name": "stderr",
     "output_type": "stream",
     "text": [
      "INFO:geometry:setting atoms_with_positions context old positions\n"
     ]
    },
    {
     "name": "stdout",
     "output_type": "stream",
     "text": [
      "conducting subsequent work with the following platform: CUDA\n"
     ]
    },
    {
     "name": "stderr",
     "output_type": "stream",
     "text": [
      "INFO:geometry:There are 6 new atoms\n",
      "INFO:geometry:\treduced angle potential = 0.005165150791445113.\n",
      "INFO:geometry:\treduced angle potential = 0.4788702500646966.\n",
      "INFO:geometry:\treduced angle potential = 0.70608244841363.\n",
      "INFO:geometry:\treduced angle potential = 0.2596979326900967.\n",
      "INFO:geometry:\treduced angle potential = 0.8672997245591195.\n",
      "INFO:geometry:\treduced angle potential = 0.2124939602020238.\n",
      "INFO:geometry:\tbeginning construction of no_nonbonded final system...\n",
      "INFO:geometry:\tinitial no-nonbonded final system forces ['HarmonicBondForce', 'HarmonicAngleForce', 'PeriodicTorsionForce', 'NonbondedForce']\n",
      "INFO:geometry:\tfinal no-nonbonded final system forces dict_keys(['HarmonicBondForce', 'HarmonicAngleForce', 'PeriodicTorsionForce', 'NonbondedForce'])\n",
      "INFO:geometry:\tthere are 25 bond forces in the no-nonbonded final system\n",
      "INFO:geometry:\tthere are 43 angle forces in the no-nonbonded final system\n",
      "INFO:geometry:\tthere are 72 torsion forces in the no-nonbonded final system\n",
      "INFO:geometry:reverse final system defined with 0 neglected angles.\n"
     ]
    },
    {
     "name": "stdout",
     "output_type": "stream",
     "text": [
      "conducting subsequent work with the following platform: CUDA\n",
      "conducting subsequent work with the following platform: CUDA\n"
     ]
    },
    {
     "name": "stderr",
     "output_type": "stream",
     "text": [
      "INFO:geometry:total reduced potential before atom placement: 17.766780542489112\n"
     ]
    },
    {
     "name": "stdout",
     "output_type": "stream",
     "text": [
      "conducting subsequent work with the following platform: CUDA\n",
      "conducting subsequent work with the following platform: CUDA\n",
      "conducting subsequent work with the following platform: CUDA\n"
     ]
    },
    {
     "name": "stderr",
     "output_type": "stream",
     "text": [
      "INFO:geometry:total reduced energy added from growth system: -69.2435579028309\n",
      "INFO:geometry:final reduced energy -51.47677862006178\n",
      "INFO:geometry:sum of energies: -51.476777360341785\n",
      "INFO:geometry:magnitude of difference in the energies: 1.2597199940955761e-06\n",
      "INFO:geometry:Final logp_proposal: 45.916393721736846\n"
     ]
    },
    {
     "name": "stdout",
     "output_type": "stream",
     "text": [
      "added energy components: [('CustomBondForce', 0.19506088252825962), ('CustomAngleForce', 8.862438359558412), ('CustomTorsionForce', 11.511976429491854), ('CustomBondForce', -89.81303357440942)]\n"
     ]
    },
    {
     "name": "stderr",
     "output_type": "stream",
     "text": [
      "INFO:relative:Beginning nonbonded method, total particle, barostat, and exceptions retrieval...\n",
      "INFO:relative:Old system forces: dict_keys(['HarmonicBondForce', 'HarmonicAngleForce', 'PeriodicTorsionForce', 'NonbondedForce'])\n",
      "INFO:relative:New system forces: dict_keys(['HarmonicBondForce', 'HarmonicAngleForce', 'PeriodicTorsionForce', 'NonbondedForce'])\n",
      "INFO:relative:No unknown forces.\n",
      "INFO:relative:Nonbonded method to be used (i.e. from old system): 0\n",
      "INFO:relative:Adding and mapping old atoms to hybrid system...\n",
      "INFO:relative:Adding and mapping new atoms to hybrid system...\n",
      "INFO:relative:No MonteCarloBarostat added.\n",
      "INFO:relative:getDefaultPeriodicBoxVectors added to hybrid: [Quantity(value=Vec3(x=2.0, y=0.0, z=0.0), unit=nanometer), Quantity(value=Vec3(x=0.0, y=2.0, z=0.0), unit=nanometer), Quantity(value=Vec3(x=0.0, y=0.0, z=2.0), unit=nanometer)]\n",
      "INFO:relative:Determined atom classes.\n",
      "INFO:relative:Generating old system exceptions dict...\n",
      "INFO:relative:Generating new system exceptions dict...\n",
      "INFO:relative:Handling constraints...\n",
      "INFO:relative:Handling virtual sites...\n",
      "INFO:relative:\t_handle_virtual_sites: numVirtualSites: 0\n",
      "INFO:relative:Adding bond force terms...\n",
      "INFO:relative:Adding angle force terms...\n",
      "INFO:relative:Adding torsion force terms...\n",
      "INFO:relative:Adding nonbonded force terms...\n",
      "INFO:relative:\t_add_nonbonded_force_terms: <simtk.openmm.openmm.NonbondedForce; proxy of <Swig Object of type 'OpenMM::NonbondedForce *' at 0x2b95268b0ba0> > added to hybrid system\n",
      "INFO:relative:\t_add_nonbonded_force_terms: nonbonded_method is NoCutoff\n",
      "INFO:relative:\t_add_nonbonded_force_terms: 0 added to standard nonbonded force\n",
      "INFO:relative:\t_add_nonbonded_force_terms: 0 added to sterics_custom_nonbonded force\n",
      "INFO:relative:\t_add_nonbonded_force_terms: <simtk.openmm.openmm.CustomNonbondedForce; proxy of <Swig Object of type 'OpenMM::CustomNonbondedForce *' at 0x2b95268b0660> > added to hybrid system\n",
      "INFO:relative:Handling harmonic bonds...\n",
      "INFO:relative:\thandle_harmonic_bonds: looping through old_system to add relevant terms...\n",
      "INFO:relative:\thandle_harmonic_bonds: looping through new_system to add relevant terms...\n",
      "INFO:relative:Handling harmonic angles...\n",
      "INFO:relative:\thandle_harmonic_angles: looping through old_system to add relevant terms...\n",
      "INFO:relative:\thandle_harmonic_angles: looping through new_system to add relevant terms...\n",
      "INFO:relative:Handling torsion forces...\n",
      "INFO:relative:\thandle_periodic_torsion_forces: looping through old_system to add relevant terms...\n",
      "INFO:relative:\thandle_periodic_torsion_forces: looping through new_system to add relevant terms...\n",
      "INFO:relative:Handling nonbonded forces...\n",
      "INFO:relative:\thandle_nonbonded: looping through all particles in hybrid...\n",
      "INFO:relative:\thandle_nonbonded: Handling Interaction Groups...\n",
      "INFO:relative:\thandle_nonbonded: Handling Hybrid Exceptions...\n",
      "INFO:relative:\thandle_nonbonded: Handling Original Exceptions...\n",
      "INFO:relative:Handling unique_new/old interaction exceptions...\n",
      "INFO:relative:There are old or new system exceptions...proceeding.\n"
     ]
    },
    {
     "name": "stdout",
     "output_type": "stream",
     "text": [
      "conducting subsequent work with the following platform: CUDA\n",
      "conducting subsequent work with the following platform: CUDA\n",
      "\t\t\tHarmonicBondForce: 1.1450341754843545\n",
      "\t\t\tHarmonicAngleForce: 9.609430902542483\n",
      "\t\t\tPeriodicTorsionForce: 27.5817910696808\n",
      "\t\t\tNonbondedForce: -85.01390701922855\n",
      "\t\t\tAndersenThermostat: 0.0\n",
      "conducting subsequent work with the following platform: CUDA\n",
      "\t\t\tCustomBondForce: 0.9499732929560946\n",
      "\t\t\tHarmonicBondForce: 0.9184146367734464\n",
      "\t\t\tCustomAngleForce: 0.7469925429840699\n",
      "\t\t\tHarmonicAngleForce: 9.335751553735818\n",
      "\t\t\tCustomTorsionForce: 0.0\n",
      "\t\t\tPeriodicTorsionForce: 27.98864696878469\n",
      "\t\t\tNonbondedForce: -89.34156364920662\n",
      "\t\t\tCustomNonbondedForce: 11.310963285085835\n",
      "\t\t\tCustomBondForce: 0.0\n",
      "\t\t\tAndersenThermostat: 0.0\n",
      "conducting subsequent work with the following platform: CUDA\n",
      "\t\t\tCustomBondForce: 0.9499732929560946\n",
      "\t\t\tHarmonicBondForce: 0.9184146367734464\n",
      "\t\t\tCustomAngleForce: 0.7469925429840699\n",
      "\t\t\tHarmonicAngleForce: 9.335751553735818\n",
      "\t\t\tCustomTorsionForce: 0.0\n",
      "\t\t\tPeriodicTorsionForce: 27.98864696878469\n",
      "\t\t\tNonbondedForce: -133.9878429710738\n",
      "\t\t\tCustomNonbondedForce: 2.5264929064121793\n",
      "\t\t\tCustomBondForce: 0.0\n",
      "\t\t\tAndersenThermostat: 0.0\n",
      "conducting subsequent work with the following platform: CUDA\n",
      "\t\t\tHarmonicBondForce: 1.6733270472012813\n",
      "\t\t\tHarmonicAngleForce: 1.2203057371614767\n",
      "\t\t\tPeriodicTorsionForce: 16.47667060565283\n",
      "\t\t\tNonbondedForce: -41.64831096454665\n",
      "\t\t\tAndersenThermostat: 0.0\n"
     ]
    }
   ],
   "source": [
    "# Generate thr->ala vacuum htf\n",
    "wt = 'THR'\n",
    "proposed = 'ALA'\n",
    "outdir = \"/data/chodera/zhangi/perses_benchmark/neq/7/\"\n",
    "i = 6\n",
    "apo_delivery = PointMutationExecutor(f\"../input/{wt.lower()}_vacuum.pdb\", \n",
    "                          '1', \n",
    "                          '2', \n",
    "                          proposed,\n",
    "                          phase='vacuum',\n",
    "                          barostat=None,\n",
    "                          forcefield_kwargs={'removeCMMotion': False, 'ewaldErrorTolerance': 0.00025, 'hydrogenMass' : 4 * unit.amus},\n",
    "                          periodic_forcefield_kwargs=None, \n",
    "                          nonperiodic_forcefield_kwargs={'nonbondedMethod': app.NoCutoff}\n",
    "                         )\n",
    "pickle.dump(apo_delivery.get_apo_htf(), open(os.path.join(outdir, f\"{i}/{i}_vacuum.pickle\"), \"wb\" ))\n",
    "\n"
   ]
  },
  {
   "cell_type": "code",
   "execution_count": 4,
   "metadata": {
    "scrolled": true
   },
   "outputs": [
    {
     "name": "stderr",
     "output_type": "stream",
     "text": [
      "INFO:proposal_generator:\tConducting polymer point mutation proposal...\n",
      "INFO:proposal_generator:Using matching_criterion to chose best atom map\n",
      "INFO:proposal_generator:Scaffold has symmetry of 0\n",
      "WARNING:proposal_generator:Two molecules are not similar to have a common scaffold\n",
      "WARNING:proposal_generator:Proceeding with direct mapping of molecules, but please check atom mapping and the geometry of the ligands.\n",
      "INFO:proposal_generator:len [{4: 4, 5: 5, 7: 6, 6: 7, 8: 9, 9: 10, 10: 12, 13: 16, 14: 17, 16: 18, 18: 19, 17: 20, 19: 22}, {4: 4, 5: 5, 6: 6, 7: 7, 9: 9, 8: 10, 10: 12, 13: 16, 14: 17, 15: 18, 17: 19, 18: 20, 19: 22}, {4: 4, 5: 5, 7: 6, 6: 7, 8: 9, 10: 12, 9: 13, 14: 16, 13: 17, 16: 18, 17: 20, 19: 22, 18: 23}, {4: 4, 5: 5, 6: 6, 7: 7, 9: 9, 10: 12, 8: 13, 14: 16, 13: 17, 15: 18, 18: 20, 19: 22, 17: 23}, {4: 4, 5: 5, 6: 6, 10: 8, 8: 10, 9: 11, 7: 13, 14: 16, 13: 17, 15: 18, 17: 19, 18: 21, 16: 23}, {4: 4, 5: 5, 7: 6, 10: 8, 9: 10, 8: 11, 6: 13, 14: 16, 13: 17, 16: 18, 18: 19, 17: 21, 15: 23}, {4: 4, 5: 5, 6: 7, 8: 9, 7: 11, 10: 12, 9: 13, 14: 16, 13: 17, 17: 20, 16: 21, 19: 22, 18: 23}, {4: 4, 5: 5, 7: 7, 9: 9, 6: 11, 10: 12, 8: 13, 14: 16, 13: 17, 18: 20, 15: 21, 19: 22, 17: 23}]\n",
      "INFO:proposal_generator:{4: 4, 5: 5, 7: 6, 6: 7, 8: 9, 9: 10, 10: 12, 13: 16, 14: 17, 16: 18, 18: 19, 17: 20, 19: 22}\n",
      "INFO:proposal_generator:{4: 4, 5: 5, 6: 6, 7: 7, 9: 9, 8: 10, 10: 12, 13: 16, 14: 17, 15: 18, 17: 19, 18: 20, 19: 22}\n",
      "INFO:proposal_generator:{4: 4, 5: 5, 7: 6, 6: 7, 8: 9, 10: 12, 9: 13, 14: 16, 13: 17, 16: 18, 17: 20, 19: 22, 18: 23}\n",
      "INFO:proposal_generator:{4: 4, 5: 5, 6: 6, 7: 7, 9: 9, 10: 12, 8: 13, 14: 16, 13: 17, 15: 18, 18: 20, 19: 22, 17: 23}\n",
      "INFO:proposal_generator:{4: 4, 5: 5, 6: 6, 10: 8, 8: 10, 9: 11, 7: 13, 14: 16, 13: 17, 15: 18, 17: 19, 18: 21, 16: 23}\n",
      "INFO:proposal_generator:{4: 4, 5: 5, 7: 6, 10: 8, 9: 10, 8: 11, 6: 13, 14: 16, 13: 17, 16: 18, 18: 19, 17: 21, 15: 23}\n",
      "INFO:proposal_generator:{4: 4, 5: 5, 6: 7, 8: 9, 7: 11, 10: 12, 9: 13, 14: 16, 13: 17, 17: 20, 16: 21, 19: 22, 18: 23}\n",
      "INFO:proposal_generator:{4: 4, 5: 5, 7: 7, 9: 9, 6: 11, 10: 12, 8: 13, 14: 16, 13: 17, 18: 20, 15: 21, 19: 22, 17: 23}\n",
      "INFO:proposal_generator:6\n",
      "INFO:proposal_generator:4\n",
      "INFO:proposal_generator:6\n",
      "INFO:proposal_generator:4\n",
      "INFO:proposal_generator:6\n",
      "INFO:proposal_generator:3\n",
      "INFO:proposal_generator:6\n",
      "INFO:proposal_generator:3\n",
      "INFO:proposal_generator:6\n",
      "INFO:proposal_generator:4\n",
      "INFO:proposal_generator:6\n",
      "INFO:proposal_generator:4\n",
      "INFO:proposal_generator:6\n",
      "INFO:proposal_generator:2\n",
      "INFO:proposal_generator:6\n",
      "INFO:proposal_generator:2\n",
      "INFO:proposal_generator:Checking maps to see if they break rings\n",
      "WARNING:proposal_generator:No maps found. Try relaxing match criteria or setting allow_ring_breaking to True\n",
      "INFO:geometry:propose: performing forward proposal\n",
      "INFO:geometry:propose: unique new atoms detected; proceeding to _logp_propose...\n",
      "INFO:geometry:Conducting forward proposal...\n",
      "INFO:geometry:Computing proposal order with NetworkX...\n",
      "INFO:geometry:number of atoms to be placed: 14\n",
      "INFO:geometry:Atom index proposal order is [10, 15, 20, 19, 16, 21, 22, 17, 25, 11, 24, 23, 12, 18]\n",
      "INFO:geometry:omitted_bonds: [(19, 22)]\n",
      "INFO:geometry:direction of proposal is forward; creating atoms_with_positions and new positions from old system/topology...\n",
      "INFO:geometry:creating growth system...\n",
      "INFO:geometry:\tcreating bond force...\n",
      "INFO:geometry:\tthere are 32 bonds in reference force.\n",
      "INFO:geometry:\tcreating angle force...\n",
      "INFO:geometry:\tthere are 54 angles in reference force.\n",
      "INFO:geometry:\tcreating torsion force...\n",
      "INFO:geometry:\tcreating extra torsions force...\n",
      "INFO:geometry:\tthere are 82 torsions in reference force.\n",
      "INFO:geometry:\tcreating nonbonded force...\n",
      "INFO:geometry:\t\tgrabbing reference nonbonded method, cutoff, switching function, switching distance...\n",
      "INFO:geometry:\t\tcreating nonbonded exception force (i.e. custom bond for 1,4s)...\n",
      "INFO:geometry:\t\tlooping through exceptions calculating growth indices, and adding appropriate interactions to custom bond force.\n",
      "INFO:geometry:\t\tthere are 154 in the reference Nonbonded force\n",
      "WARNING:geometry:\t\t\t\t\tchiral atom <Atom 8 (CA) of chain 0 residue 1 (PHE)> with neighbors [<Atom 13 (C) of chain 0 residue 1 (PHE)>, <Atom 10 (CB) of chain 0 residue 1 (PHE)>, <Atom 9 (HA) of chain 0 residue 1 (PHE)>, <Atom 6 (N) of chain 0 residue 1 (PHE)>] is surrounded by 3 core neighbors.  omitting chirality bias torsion\n",
      "INFO:geometry:Neglected angle terms : []\n",
      "INFO:geometry:omitted_growth_terms: {'bonds': [(22, 19)], 'angles': [(19, 22, 21), (19, 22, 23), (20, 19, 22), (22, 19, 24)], 'torsions': [(15, 20, 19, 22), (16, 21, 22, 19), (18, 21, 22, 19), (20, 19, 22, 21), (20, 19, 22, 23), (21, 22, 19, 24), (22, 19, 20, 25), (23, 22, 19, 24), (21, 19, 22, 23)], '1,4s': [(16, 19), (18, 19), (20, 21), (15, 22), (20, 23), (21, 24), (23, 24), (22, 25)]}\n",
      "INFO:geometry:extra torsions: {0: (19, 20, 15, 10, [1, Quantity(value=-0.05926690747810337, unit=radian), Quantity(value=120.0, unit=kilocalorie/mole), 4]), 1: (19, 20, 15, 16, [1, Quantity(value=3.1352639058829186, unit=radian), Quantity(value=120.0, unit=kilocalorie/mole), 5]), 2: (20, 15, 16, 21, [1, Quantity(value=-3.12607014738776, unit=radian), Quantity(value=120.0, unit=kilocalorie/mole), 6]), 3: (10, 15, 16, 21, [1, Quantity(value=0.06780092444542918, unit=radian), Quantity(value=120.0, unit=kilocalorie/mole), 6]), 4: (15, 16, 21, 22, [1, Quantity(value=3.127339152139995, unit=radian), Quantity(value=120.0, unit=kilocalorie/mole), 7])}\n",
      "INFO:geometry:neglected angle terms include []\n",
      "INFO:geometry:log probability choice of torsions and atom order: -22.087858244992326\n",
      "INFO:geometry:creating platform, integrators, and contexts; setting growth parameter\n"
     ]
    },
    {
     "name": "stdout",
     "output_type": "stream",
     "text": [
      "conducting subsequent work with the following platform: CUDA\n"
     ]
    },
    {
     "name": "stderr",
     "output_type": "stream",
     "text": [
      "INFO:geometry:setting atoms_with_positions context new positions\n"
     ]
    },
    {
     "name": "stdout",
     "output_type": "stream",
     "text": [
      "conducting subsequent work with the following platform: CUDA\n"
     ]
    },
    {
     "name": "stderr",
     "output_type": "stream",
     "text": [
      "INFO:geometry:There are 14 new atoms\n",
      "INFO:geometry:\treduced angle potential = 0.5149960874772012.\n",
      "INFO:geometry:\treduced angle potential = 0.7789108734895938.\n",
      "INFO:geometry:\treduced angle potential = 0.5640220898871887.\n",
      "INFO:geometry:\treduced angle potential = 1.1915421213298374.\n",
      "INFO:geometry:\treduced angle potential = 3.2465186385934617.\n",
      "INFO:geometry:\treduced angle potential = 0.01790383741306708.\n",
      "INFO:geometry:\treduced angle potential = 0.33582256944400724.\n",
      "INFO:geometry:\treduced angle potential = 0.04165624184677997.\n",
      "INFO:geometry:\treduced angle potential = 0.17950958426295505.\n",
      "INFO:geometry:\treduced angle potential = 0.4298262411017031.\n",
      "INFO:geometry:\treduced angle potential = 0.07549684589356442.\n",
      "INFO:geometry:\treduced angle potential = 0.7451866826442717.\n",
      "INFO:geometry:\treduced angle potential = 0.6441972167695599.\n",
      "INFO:geometry:\treduced angle potential = 0.31826442439768277.\n",
      "INFO:geometry:\tbeginning construction of no_nonbonded final system...\n",
      "INFO:geometry:\tinitial no-nonbonded final system forces ['HarmonicBondForce', 'HarmonicAngleForce', 'PeriodicTorsionForce', 'NonbondedForce']\n",
      "INFO:geometry:\tfinal no-nonbonded final system forces dict_keys(['HarmonicBondForce', 'HarmonicAngleForce', 'PeriodicTorsionForce', 'NonbondedForce'])\n",
      "INFO:geometry:\tthere are 32 bond forces in the no-nonbonded final system\n",
      "INFO:geometry:\tthere are 54 angle forces in the no-nonbonded final system\n",
      "INFO:geometry:\tthere are 82 torsion forces in the no-nonbonded final system\n",
      "INFO:geometry:forward final system defined with 0 neglected angles.\n"
     ]
    },
    {
     "name": "stdout",
     "output_type": "stream",
     "text": [
      "conducting subsequent work with the following platform: CUDA\n",
      "conducting subsequent work with the following platform: CUDA\n"
     ]
    },
    {
     "name": "stderr",
     "output_type": "stream",
     "text": [
      "INFO:geometry:total reduced potential before atom placement: 9.118540402582537\n"
     ]
    },
    {
     "name": "stdout",
     "output_type": "stream",
     "text": [
      "conducting subsequent work with the following platform: CUDA\n",
      "conducting subsequent work with the following platform: CUDA\n",
      "conducting subsequent work with the following platform: CUDA\n"
     ]
    },
    {
     "name": "stderr",
     "output_type": "stream",
     "text": [
      "INFO:geometry:total reduced energy added from growth system: 55.02783249522862\n",
      "INFO:geometry:final reduced energy 104.06607284276332\n",
      "INFO:geometry:sum of energies: 64.14637289781116\n",
      "INFO:geometry:magnitude of difference in the energies: 39.91969994495216\n",
      "INFO:geometry:Final logp_proposal: 122.77370252356991\n"
     ]
    },
    {
     "name": "stdout",
     "output_type": "stream",
     "text": [
      "added energy components: [('CustomBondForce', 6.5308354405097475), ('CustomAngleForce', 14.325331291756054), ('CustomTorsionForce', 16.26148539652655), ('CustomBondForce', 17.910180366436276)]\n"
     ]
    },
    {
     "name": "stderr",
     "output_type": "stream",
     "text": [
      "INFO:geometry:logp_reverse: performing reverse proposal\n",
      "INFO:geometry:logp_reverse: unique new atoms detected; proceeding to _logp_propose...\n",
      "INFO:geometry:Conducting forward proposal...\n",
      "INFO:geometry:Computing proposal order with NetworkX...\n",
      "INFO:geometry:number of atoms to be placed: 18\n",
      "INFO:geometry:Atom index proposal order is [10, 15, 16, 18, 29, 27, 25, 20, 21, 23, 28, 24, 26, 12, 11, 19, 22, 17]\n",
      "INFO:geometry:omitted_bonds: [(18, 20), (23, 25)]\n",
      "INFO:geometry:direction of proposal is reverse; creating atoms_with_positions from old system/topology\n",
      "INFO:geometry:creating growth system...\n",
      "INFO:geometry:\tcreating bond force...\n",
      "INFO:geometry:\tthere are 37 bonds in reference force.\n",
      "INFO:geometry:\tcreating angle force...\n",
      "INFO:geometry:\tthere are 63 angles in reference force.\n",
      "INFO:geometry:\tcreating torsion force...\n",
      "INFO:geometry:\tcreating extra torsions force...\n",
      "INFO:geometry:\tthere are 99 torsions in reference force.\n",
      "INFO:geometry:\tcreating nonbonded force...\n",
      "INFO:geometry:\t\tgrabbing reference nonbonded method, cutoff, switching function, switching distance...\n",
      "INFO:geometry:\t\tcreating nonbonded exception force (i.e. custom bond for 1,4s)...\n",
      "INFO:geometry:\t\tlooping through exceptions calculating growth indices, and adding appropriate interactions to custom bond force.\n",
      "INFO:geometry:\t\tthere are 179 in the reference Nonbonded force\n",
      "WARNING:geometry:\t\t\t\t\tchiral atom <Atom 8 (CA) of chain 0 residue 1 (TRP)> with neighbors [<Atom 13 (C) of chain 0 residue 1 (TRP)>, <Atom 10 (CB) of chain 0 residue 1 (TRP)>, <Atom 9 (HA) of chain 0 residue 1 (TRP)>, <Atom 6 (N) of chain 0 residue 1 (TRP)>] is surrounded by 3 core neighbors.  omitting chirality bias torsion\n",
      "INFO:geometry:Neglected angle terms : []\n",
      "INFO:geometry:omitted_growth_terms: {'bonds': [(18, 20), (23, 25)], 'angles': [(16, 18, 20), (18, 20, 21), (18, 20, 29), (19, 18, 20), (21, 23, 25), (23, 25, 26), (23, 25, 27), (24, 23, 25)], 'torsions': [(15, 16, 18, 20), (15, 29, 20, 18), (16, 18, 20, 21), (16, 18, 20, 29), (17, 16, 18, 20), (18, 20, 21, 22), (18, 20, 21, 23), (18, 20, 29, 27), (19, 18, 20, 21), (19, 18, 20, 29), (20, 21, 23, 25), (21, 23, 25, 26), (21, 23, 25, 27), (22, 21, 23, 25), (23, 25, 27, 28), (23, 25, 27, 29), (24, 23, 25, 26), (24, 23, 25, 27), (16, 20, 18, 19), (21, 25, 23, 24)], '1,4s': [(17, 20), (16, 21), (19, 21), (18, 22), (18, 23), (20, 25), (22, 25), (21, 26), (24, 26), (18, 27), (21, 27), (24, 27), (23, 28), (19, 29), (23, 29)]}\n",
      "INFO:geometry:extra torsions: {0: (25, 27, 29, 20, [1, Quantity(value=-3.1265909424201266, unit=radian), Quantity(value=120.0, unit=kilocalorie/mole), 8]), 1: (25, 27, 29, 15, [1, Quantity(value=-0.012838658132400482, unit=radian), Quantity(value=120.0, unit=kilocalorie/mole), 7]), 2: (23, 21, 20, 29, [1, Quantity(value=3.1385049563053675, unit=radian), Quantity(value=120.0, unit=kilocalorie/mole), 10]), 3: (27, 29, 20, 21, [1, Quantity(value=3.1321649810181924, unit=radian), Quantity(value=120.0, unit=kilocalorie/mole), 9]), 4: (15, 29, 20, 21, [1, Quantity(value=0.012459359827764693, unit=radian), Quantity(value=120.0, unit=kilocalorie/mole), 9]), 5: (27, 29, 15, 10, [1, Quantity(value=3.098801337800155, unit=radian), Quantity(value=120.0, unit=kilocalorie/mole), 6]), 6: (27, 29, 15, 16, [1, Quantity(value=0.028527523890103268, unit=radian), Quantity(value=120.0, unit=kilocalorie/mole), 6]), 7: (20, 29, 15, 10, [1, Quantity(value=-0.06796819092235573, unit=radian), Quantity(value=120.0, unit=kilocalorie/mole), 8]), 8: (20, 29, 15, 16, [1, Quantity(value=-3.1382420048323967, unit=radian), Quantity(value=120.0, unit=kilocalorie/mole), 8]), 9: (29, 15, 16, 18, [1, Quantity(value=3.136889123867691, unit=radian), Quantity(value=120.0, unit=kilocalorie/mole), 5]), 10: (10, 15, 16, 18, [1, Quantity(value=0.0641983009537439, unit=radian), Quantity(value=120.0, unit=kilocalorie/mole), 4])}\n",
      "INFO:geometry:neglected angle terms include []\n",
      "INFO:geometry:log probability choice of torsions and atom order: -28.54102761853135\n",
      "INFO:geometry:creating platform, integrators, and contexts; setting growth parameter\n"
     ]
    },
    {
     "name": "stdout",
     "output_type": "stream",
     "text": [
      "conducting subsequent work with the following platform: CUDA\n"
     ]
    },
    {
     "name": "stderr",
     "output_type": "stream",
     "text": [
      "INFO:geometry:setting atoms_with_positions context old positions\n"
     ]
    },
    {
     "name": "stdout",
     "output_type": "stream",
     "text": [
      "conducting subsequent work with the following platform: CUDA\n"
     ]
    },
    {
     "name": "stderr",
     "output_type": "stream",
     "text": [
      "INFO:geometry:There are 18 new atoms\n",
      "INFO:geometry:\treduced angle potential = 1.4456752255245824.\n",
      "INFO:geometry:\treduced angle potential = 2.1516297201689767.\n",
      "INFO:geometry:\treduced angle potential = 0.5742973270971532.\n",
      "INFO:geometry:\treduced angle potential = 1.3421026605149606.\n",
      "INFO:geometry:\treduced angle potential = 0.12128895323097787.\n",
      "INFO:geometry:\treduced angle potential = 0.04191998453781226.\n",
      "INFO:geometry:\treduced angle potential = 0.3916428730150187.\n",
      "INFO:geometry:\treduced angle potential = 0.1513400149682928.\n",
      "INFO:geometry:\treduced angle potential = 0.053286129435361936.\n",
      "INFO:geometry:\treduced angle potential = 1.488783635908445.\n",
      "INFO:geometry:\treduced angle potential = 0.013609583426422999.\n",
      "INFO:geometry:\treduced angle potential = 2.093251730809584.\n",
      "INFO:geometry:\treduced angle potential = 8.175480737075747.\n",
      "INFO:geometry:\treduced angle potential = 0.045904894749906264.\n",
      "INFO:geometry:\treduced angle potential = 0.20446176422621232.\n",
      "INFO:geometry:\treduced angle potential = 0.01619053197052158.\n",
      "INFO:geometry:\treduced angle potential = 0.3882982217313037.\n",
      "INFO:geometry:\treduced angle potential = 0.7211849572980599.\n",
      "INFO:geometry:\tbeginning construction of no_nonbonded final system...\n",
      "INFO:geometry:\tinitial no-nonbonded final system forces ['HarmonicBondForce', 'HarmonicAngleForce', 'PeriodicTorsionForce', 'NonbondedForce']\n",
      "INFO:geometry:\tfinal no-nonbonded final system forces dict_keys(['HarmonicBondForce', 'HarmonicAngleForce', 'PeriodicTorsionForce', 'NonbondedForce'])\n",
      "INFO:geometry:\tthere are 37 bond forces in the no-nonbonded final system\n",
      "INFO:geometry:\tthere are 63 angle forces in the no-nonbonded final system\n",
      "INFO:geometry:\tthere are 99 torsion forces in the no-nonbonded final system\n",
      "INFO:geometry:reverse final system defined with 0 neglected angles.\n"
     ]
    },
    {
     "name": "stdout",
     "output_type": "stream",
     "text": [
      "conducting subsequent work with the following platform: CUDA\n",
      "conducting subsequent work with the following platform: CUDA\n"
     ]
    },
    {
     "name": "stderr",
     "output_type": "stream",
     "text": [
      "INFO:geometry:total reduced potential before atom placement: 9.118540402582536\n"
     ]
    },
    {
     "name": "stdout",
     "output_type": "stream",
     "text": [
      "conducting subsequent work with the following platform: CUDA\n",
      "conducting subsequent work with the following platform: CUDA\n",
      "conducting subsequent work with the following platform: CUDA\n"
     ]
    },
    {
     "name": "stderr",
     "output_type": "stream",
     "text": [
      "INFO:geometry:total reduced energy added from growth system: 112.78316740736727\n",
      "INFO:geometry:final reduced energy 184.03742439987843\n",
      "INFO:geometry:sum of energies: 121.90170780994981\n",
      "INFO:geometry:magnitude of difference in the energies: 62.13571658992862\n",
      "INFO:geometry:Final logp_proposal: 142.67983113134227\n"
     ]
    },
    {
     "name": "stdout",
     "output_type": "stream",
     "text": [
      "added energy components: [('CustomBondForce', 12.911514790729573), ('CustomAngleForce', 37.178524414235156), ('CustomTorsionForce', 24.103278576465716), ('CustomBondForce', 38.58984962593683)]\n"
     ]
    },
    {
     "name": "stderr",
     "output_type": "stream",
     "text": [
      "INFO:relative:Beginning nonbonded method, total particle, barostat, and exceptions retrieval...\n",
      "INFO:relative:Old system forces: dict_keys(['HarmonicBondForce', 'HarmonicAngleForce', 'PeriodicTorsionForce', 'NonbondedForce'])\n",
      "INFO:relative:New system forces: dict_keys(['HarmonicBondForce', 'HarmonicAngleForce', 'PeriodicTorsionForce', 'NonbondedForce'])\n",
      "INFO:relative:No unknown forces.\n",
      "INFO:relative:Nonbonded method to be used (i.e. from old system): 0\n",
      "INFO:relative:Adding and mapping old atoms to hybrid system...\n",
      "INFO:relative:Adding and mapping new atoms to hybrid system...\n",
      "INFO:relative:No MonteCarloBarostat added.\n",
      "INFO:relative:getDefaultPeriodicBoxVectors added to hybrid: [Quantity(value=Vec3(x=2.0, y=0.0, z=0.0), unit=nanometer), Quantity(value=Vec3(x=0.0, y=2.0, z=0.0), unit=nanometer), Quantity(value=Vec3(x=0.0, y=0.0, z=2.0), unit=nanometer)]\n",
      "INFO:relative:Determined atom classes.\n",
      "INFO:relative:Generating old system exceptions dict...\n",
      "INFO:relative:Generating new system exceptions dict...\n",
      "INFO:relative:Handling constraints...\n",
      "INFO:relative:Handling virtual sites...\n",
      "INFO:relative:\t_handle_virtual_sites: numVirtualSites: 0\n",
      "INFO:relative:Adding bond force terms...\n",
      "INFO:relative:Adding angle force terms...\n",
      "INFO:relative:Adding torsion force terms...\n",
      "INFO:relative:Adding nonbonded force terms...\n",
      "INFO:relative:\t_add_nonbonded_force_terms: <simtk.openmm.openmm.NonbondedForce; proxy of <Swig Object of type 'OpenMM::NonbondedForce *' at 0x2ab2ed68bb70> > added to hybrid system\n",
      "INFO:relative:\t_add_nonbonded_force_terms: nonbonded_method is NoCutoff\n",
      "INFO:relative:\t_add_nonbonded_force_terms: 0 added to standard nonbonded force\n",
      "INFO:relative:\t_add_nonbonded_force_terms: 0 added to sterics_custom_nonbonded force\n",
      "INFO:relative:\t_add_nonbonded_force_terms: <simtk.openmm.openmm.CustomNonbondedForce; proxy of <Swig Object of type 'OpenMM::CustomNonbondedForce *' at 0x2ab2ed68bae0> > added to hybrid system\n",
      "INFO:relative:Handling harmonic bonds...\n",
      "INFO:relative:\thandle_harmonic_bonds: looping through old_system to add relevant terms...\n",
      "INFO:relative:\thandle_harmonic_bonds: looping through new_system to add relevant terms...\n",
      "INFO:relative:Handling harmonic angles...\n",
      "INFO:relative:\thandle_harmonic_angles: looping through old_system to add relevant terms...\n",
      "INFO:relative:\thandle_harmonic_angles: looping through new_system to add relevant terms...\n",
      "INFO:relative:Handling torsion forces...\n",
      "INFO:relative:\thandle_periodic_torsion_forces: looping through old_system to add relevant terms...\n",
      "INFO:relative:\thandle_periodic_torsion_forces: looping through new_system to add relevant terms...\n",
      "INFO:relative:Handling nonbonded forces...\n",
      "INFO:relative:\thandle_nonbonded: looping through all particles in hybrid...\n",
      "INFO:relative:\thandle_nonbonded: Handling Interaction Groups...\n",
      "INFO:relative:\thandle_nonbonded: Handling Hybrid Exceptions...\n",
      "INFO:relative:\thandle_nonbonded: Handling Original Exceptions...\n",
      "INFO:relative:Handling unique_new/old interaction exceptions...\n",
      "INFO:relative:There are old or new system exceptions...proceeding.\n"
     ]
    },
    {
     "name": "stdout",
     "output_type": "stream",
     "text": [
      "conducting subsequent work with the following platform: CUDA\n",
      "conducting subsequent work with the following platform: CUDA\n",
      "\t\t\tHarmonicBondForce: 42.376007221035444\n",
      "\t\t\tHarmonicAngleForce: 52.586940608228296\n",
      "\t\t\tPeriodicTorsionForce: 43.9698139202561\n",
      "\t\t\tNonbondedForce: -22.317476022529075\n",
      "\t\t\tAndersenThermostat: 0.0\n",
      "conducting subsequent work with the following platform: CUDA\n",
      "\t\t\tCustomBondForce: 0.03327977230841692\n",
      "\t\t\tHarmonicBondForce: 71.20328909658733\n",
      "\t\t\tCustomAngleForce: 0.15998449156336095\n",
      "\t\t\tHarmonicAngleForce: 75.53037277697733\n",
      "\t\t\tCustomTorsionForce: 0.0\n",
      "\t\t\tPeriodicTorsionForce: 61.28438829005166\n",
      "\t\t\tNonbondedForce: -2.8085093302955757\n",
      "\t\t\tCustomNonbondedForce: 6.160013063602065\n",
      "\t\t\tCustomBondForce: 0.0\n",
      "\t\t\tAndersenThermostat: 0.0\n",
      "conducting subsequent work with the following platform: CUDA\n",
      "\t\t\tCustomBondForce: 0.03327977230841692\n",
      "\t\t\tHarmonicBondForce: 71.20328909658733\n",
      "\t\t\tCustomAngleForce: 0.15998449156336095\n",
      "\t\t\tHarmonicAngleForce: 75.53037277697733\n",
      "\t\t\tCustomTorsionForce: 0.0\n",
      "\t\t\tPeriodicTorsionForce: 61.28438829005166\n",
      "\t\t\tNonbondedForce: 21.61976367685582\n",
      "\t\t\tCustomNonbondedForce: 20.20243568865012\n",
      "\t\t\tCustomBondForce: 0.0\n",
      "\t\t\tAndersenThermostat: 0.0\n",
      "conducting subsequent work with the following platform: CUDA\n",
      "\t\t\tHarmonicBondForce: 28.89384142016872\n",
      "\t\t\tHarmonicAngleForce: 23.263401151875755\n",
      "\t\t\tPeriodicTorsionForce: 26.239850508506308\n",
      "\t\t\tNonbondedForce: -3.2824646523819943\n",
      "\t\t\tAndersenThermostat: 0.0\n"
     ]
    }
   ],
   "source": [
    "# Generate trp->phe vacuum htf\n",
    "wt = 'TRP'\n",
    "proposed = 'PHE'\n",
    "outdir = \"/data/chodera/zhangi/perses_benchmark/neq/7/\"\n",
    "i = 7\n",
    "apo_delivery = PointMutationExecutor(f\"../input/{wt.lower()}_vacuum.pdb\", \n",
    "                          '1', \n",
    "                          '2', \n",
    "                          proposed,\n",
    "                          phase='vacuum',\n",
    "                          barostat=None,\n",
    "                          periodic_forcefield_kwargs=None, \n",
    "                          nonperiodic_forcefield_kwargs={'nonbondedMethod': app.NoCutoff}\n",
    "                         )\n",
    "pickle.dump(apo_delivery.get_apo_htf(), open(os.path.join(outdir, f\"{i}/{i}_vacuum.pickle\"), \"wb\" ))\n",
    "\n",
    "# Note the pickle in this directory does not contain HBond constraints"
   ]
  },
  {
   "cell_type": "code",
   "execution_count": 5,
   "metadata": {
    "scrolled": true
   },
   "outputs": [
    {
     "name": "stderr",
     "output_type": "stream",
     "text": [
      "INFO:proposal_generator:\tConducting polymer point mutation proposal...\n",
      "INFO:proposal_generator:Using matching_criterion to chose best atom map\n",
      "INFO:proposal_generator:Scaffold has symmetry of 0\n",
      "WARNING:proposal_generator:Two molecules are not similar to have a common scaffold\n",
      "WARNING:proposal_generator:Proceeding with direct mapping of molecules, but please check atom mapping and the geometry of the ligands.\n",
      "INFO:proposal_generator:len [{4: 4, 5: 5, 6: 6, 7: 7, 10: 8, 9: 9, 12: 10, 16: 13, 17: 14, 18: 15, 19: 17, 20: 18, 22: 19}, {4: 4, 5: 5, 7: 6, 6: 7, 9: 8, 10: 9, 12: 10, 16: 13, 17: 14, 18: 16, 20: 17, 19: 18, 22: 19}, {4: 4, 5: 5, 6: 6, 7: 7, 13: 8, 9: 9, 12: 10, 16: 13, 17: 14, 18: 15, 23: 17, 20: 18, 22: 19}, {4: 4, 5: 5, 7: 6, 11: 7, 9: 8, 13: 9, 12: 10, 16: 13, 17: 14, 21: 16, 20: 17, 23: 18, 22: 19}, {4: 4, 5: 5, 6: 6, 13: 7, 10: 8, 11: 9, 8: 10, 16: 13, 17: 14, 18: 15, 23: 16, 19: 17, 21: 18}, {4: 4, 5: 5, 11: 6, 7: 7, 13: 8, 9: 9, 12: 10, 16: 13, 17: 14, 21: 15, 23: 17, 20: 18, 22: 19}, {4: 4, 5: 5, 13: 6, 6: 7, 11: 8, 10: 9, 8: 10, 16: 13, 17: 14, 23: 15, 18: 16, 21: 17, 19: 18}, {4: 4, 5: 5, 7: 6, 6: 7, 9: 8, 13: 9, 12: 10, 17: 13, 16: 14, 18: 16, 20: 17, 23: 18, 22: 19}, {7: 5, 8: 6, 9: 7, 11: 8, 12: 9, 13: 10, 20: 16, 21: 17, 22: 18, 23: 19}, {7: 5, 9: 6, 8: 7, 12: 8, 11: 9, 13: 10, 20: 15, 22: 17, 21: 18, 23: 19}]\n",
      "INFO:proposal_generator:{4: 4, 5: 5, 6: 6, 7: 7, 10: 8, 9: 9, 12: 10, 16: 13, 17: 14, 18: 15, 19: 17, 20: 18, 22: 19}\n",
      "INFO:proposal_generator:{4: 4, 5: 5, 7: 6, 6: 7, 9: 8, 10: 9, 12: 10, 16: 13, 17: 14, 18: 16, 20: 17, 19: 18, 22: 19}\n",
      "INFO:proposal_generator:{4: 4, 5: 5, 6: 6, 7: 7, 13: 8, 9: 9, 12: 10, 16: 13, 17: 14, 18: 15, 23: 17, 20: 18, 22: 19}\n",
      "INFO:proposal_generator:{4: 4, 5: 5, 7: 6, 11: 7, 9: 8, 13: 9, 12: 10, 16: 13, 17: 14, 21: 16, 20: 17, 23: 18, 22: 19}\n",
      "INFO:proposal_generator:{4: 4, 5: 5, 6: 6, 13: 7, 10: 8, 11: 9, 8: 10, 16: 13, 17: 14, 18: 15, 23: 16, 19: 17, 21: 18}\n",
      "INFO:proposal_generator:{4: 4, 5: 5, 11: 6, 7: 7, 13: 8, 9: 9, 12: 10, 16: 13, 17: 14, 21: 15, 23: 17, 20: 18, 22: 19}\n",
      "INFO:proposal_generator:{4: 4, 5: 5, 13: 6, 6: 7, 11: 8, 10: 9, 8: 10, 16: 13, 17: 14, 23: 15, 18: 16, 21: 17, 19: 18}\n",
      "INFO:proposal_generator:{4: 4, 5: 5, 7: 6, 6: 7, 9: 8, 13: 9, 12: 10, 17: 13, 16: 14, 18: 16, 20: 17, 23: 18, 22: 19}\n",
      "INFO:proposal_generator:{7: 5, 8: 6, 9: 7, 11: 8, 12: 9, 13: 10, 20: 16, 21: 17, 22: 18, 23: 19}\n",
      "INFO:proposal_generator:{7: 5, 9: 6, 8: 7, 12: 8, 11: 9, 13: 10, 20: 15, 22: 17, 21: 18, 23: 19}\n",
      "INFO:proposal_generator:4\n",
      "INFO:proposal_generator:4\n",
      "INFO:proposal_generator:3\n",
      "INFO:proposal_generator:2\n",
      "INFO:proposal_generator:4\n",
      "INFO:proposal_generator:2\n",
      "INFO:proposal_generator:4\n",
      "INFO:proposal_generator:3\n",
      "INFO:proposal_generator:2\n",
      "INFO:proposal_generator:2\n",
      "INFO:proposal_generator:Checking maps to see if they break rings\n",
      "WARNING:proposal_generator:No maps found. Try relaxing match criteria or setting allow_ring_breaking to True\n",
      "INFO:geometry:propose: performing forward proposal\n",
      "INFO:geometry:propose: unique new atoms detected; proceeding to _logp_propose...\n",
      "INFO:geometry:Conducting forward proposal...\n",
      "INFO:geometry:Computing proposal order with NetworkX...\n",
      "INFO:geometry:number of atoms to be placed: 18\n",
      "INFO:geometry:Atom index proposal order is [10, 15, 16, 20, 21, 28, 26, 19, 22, 24, 23, 18, 17, 27, 25, 11, 12, 29]\n",
      "INFO:geometry:omitted_bonds: [(19, 21), (24, 26)]\n",
      "INFO:geometry:direction of proposal is forward; creating atoms_with_positions and new positions from old system/topology...\n",
      "INFO:geometry:creating growth system...\n",
      "INFO:geometry:\tcreating bond force...\n",
      "INFO:geometry:\tthere are 20 bonds in reference force.\n",
      "INFO:geometry:\tcreating angle force...\n",
      "INFO:geometry:\tthere are 63 angles in reference force.\n",
      "INFO:geometry:\tcreating torsion force...\n",
      "INFO:geometry:\tcreating extra torsions force...\n",
      "INFO:geometry:\tthere are 99 torsions in reference force.\n",
      "INFO:geometry:\tcreating nonbonded force...\n",
      "INFO:geometry:\t\tgrabbing reference nonbonded method, cutoff, switching function, switching distance...\n",
      "INFO:geometry:\t\tcreating nonbonded exception force (i.e. custom bond for 1,4s)...\n",
      "INFO:geometry:\t\tlooping through exceptions calculating growth indices, and adding appropriate interactions to custom bond force.\n",
      "INFO:geometry:\t\tthere are 179 in the reference Nonbonded force\n",
      "WARNING:geometry:\t\t\t\t\tchiral atom <Atom 8 (CA) of chain 0 residue 1 (TRP)> with neighbors [<Atom 13 (C) of chain 0 residue 1 (TRP)>, <Atom 10 (CB) of chain 0 residue 1 (TRP)>, <Atom 9 (HA) of chain 0 residue 1 (TRP)>, <Atom 6 (N) of chain 0 residue 1 (TRP)>] is surrounded by 3 core neighbors.  omitting chirality bias torsion\n",
      "INFO:geometry:Neglected angle terms : []\n",
      "INFO:geometry:omitted_growth_terms: {'bonds': [(21, 19), (24, 26)], 'angles': [(16, 21, 19), (18, 21, 19), (20, 19, 21), (21, 19, 22), (22, 24, 26), (24, 26, 27), (24, 26, 28), (25, 24, 26)], 'torsions': [(15, 16, 21, 19), (15, 20, 19, 21), (16, 21, 19, 20), (16, 21, 19, 22), (17, 16, 21, 19), (18, 21, 19, 20), (18, 21, 19, 22), (19, 22, 24, 26), (20, 28, 26, 24), (21, 19, 20, 28), (21, 19, 22, 23), (21, 19, 22, 24), (22, 24, 26, 27), (22, 24, 26, 28), (23, 22, 24, 26), (24, 26, 28, 29), (25, 24, 26, 27), (25, 24, 26, 28), (16, 19, 21, 18), (22, 26, 24, 25)], '1,4s': [(17, 19), (18, 20), (16, 22), (18, 22), (21, 23), (20, 24), (21, 24), (19, 26), (23, 26), (22, 27), (25, 27), (21, 28), (22, 28), (25, 28), (24, 29)]}\n",
      "INFO:geometry:extra torsions: {0: (26, 28, 20, 19, [1, Quantity(value=-3.1265909424201266, unit=radian), Quantity(value=120.0, unit=kilocalorie/mole), 8]), 1: (26, 28, 20, 15, [1, Quantity(value=-0.012838658132400482, unit=radian), Quantity(value=120.0, unit=kilocalorie/mole), 7]), 2: (24, 22, 19, 20, [1, Quantity(value=3.1385049563053675, unit=radian), Quantity(value=120.0, unit=kilocalorie/mole), 10]), 3: (28, 20, 19, 22, [1, Quantity(value=3.1321649810181924, unit=radian), Quantity(value=120.0, unit=kilocalorie/mole), 9]), 4: (15, 20, 19, 22, [1, Quantity(value=0.012459359827764693, unit=radian), Quantity(value=120.0, unit=kilocalorie/mole), 9]), 5: (28, 20, 15, 10, [1, Quantity(value=3.098801337800155, unit=radian), Quantity(value=120.0, unit=kilocalorie/mole), 6]), 6: (28, 20, 15, 16, [1, Quantity(value=0.028527523890103268, unit=radian), Quantity(value=120.0, unit=kilocalorie/mole), 6]), 7: (19, 20, 15, 10, [1, Quantity(value=-0.06796819092235573, unit=radian), Quantity(value=120.0, unit=kilocalorie/mole), 8]), 8: (19, 20, 15, 16, [1, Quantity(value=-3.1382420048323967, unit=radian), Quantity(value=120.0, unit=kilocalorie/mole), 8]), 9: (20, 15, 16, 21, [1, Quantity(value=3.136889123867691, unit=radian), Quantity(value=120.0, unit=kilocalorie/mole), 5]), 10: (10, 15, 16, 21, [1, Quantity(value=0.0641983009537439, unit=radian), Quantity(value=120.0, unit=kilocalorie/mole), 5])}\n",
      "INFO:geometry:neglected angle terms include []\n",
      "INFO:geometry:log probability choice of torsions and atom order: -30.371526916075332\n",
      "INFO:geometry:creating platform, integrators, and contexts; setting growth parameter\n"
     ]
    },
    {
     "name": "stdout",
     "output_type": "stream",
     "text": [
      "conducting subsequent work with the following platform: CUDA\n"
     ]
    },
    {
     "name": "stderr",
     "output_type": "stream",
     "text": [
      "INFO:geometry:setting atoms_with_positions context new positions\n"
     ]
    },
    {
     "name": "stdout",
     "output_type": "stream",
     "text": [
      "conducting subsequent work with the following platform: CUDA\n"
     ]
    },
    {
     "name": "stderr",
     "output_type": "stream",
     "text": [
      "INFO:geometry:There are 18 new atoms\n",
      "INFO:geometry:\treduced angle potential = 0.18807696515809902.\n",
      "INFO:geometry:\treduced angle potential = 0.5670552264666838.\n",
      "INFO:geometry:\treduced angle potential = 2.16990722528736.\n",
      "INFO:geometry:\treduced angle potential = 0.010378641920250078.\n",
      "INFO:geometry:\treduced angle potential = 0.02118123016453503.\n",
      "INFO:geometry:\treduced angle potential = 0.8097157711752763.\n",
      "INFO:geometry:\treduced angle potential = 2.3087505589550505.\n",
      "INFO:geometry:\treduced angle potential = 0.3992529377725167.\n",
      "INFO:geometry:\treduced angle potential = 1.5246022641619335.\n",
      "INFO:geometry:\treduced angle potential = 0.5049569716949134.\n",
      "INFO:geometry:\treduced angle potential = 0.5989019830977976.\n",
      "INFO:geometry:\treduced angle potential = 0.4767315463242268.\n",
      "INFO:geometry:\treduced angle potential = 0.000505868387720451.\n",
      "INFO:geometry:\treduced angle potential = 0.012108294551507926.\n",
      "INFO:geometry:\treduced angle potential = 1.1411290604630704.\n",
      "INFO:geometry:\treduced angle potential = 0.01799120496119255.\n",
      "INFO:geometry:\treduced angle potential = 0.7561133849090123.\n",
      "INFO:geometry:\treduced angle potential = 0.40565436711079783.\n",
      "INFO:geometry:\tbeginning construction of no_nonbonded final system...\n",
      "INFO:geometry:\tinitial no-nonbonded final system forces ['HarmonicBondForce', 'HarmonicAngleForce', 'PeriodicTorsionForce', 'NonbondedForce']\n",
      "INFO:geometry:\tfinal no-nonbonded final system forces dict_keys(['HarmonicBondForce', 'HarmonicAngleForce', 'PeriodicTorsionForce', 'NonbondedForce'])\n",
      "INFO:geometry:\tthere are 20 bond forces in the no-nonbonded final system\n",
      "INFO:geometry:\tthere are 63 angle forces in the no-nonbonded final system\n",
      "INFO:geometry:\tthere are 99 torsion forces in the no-nonbonded final system\n",
      "INFO:geometry:forward final system defined with 0 neglected angles.\n"
     ]
    },
    {
     "name": "stdout",
     "output_type": "stream",
     "text": [
      "conducting subsequent work with the following platform: CUDA\n",
      "conducting subsequent work with the following platform: CUDA\n"
     ]
    },
    {
     "name": "stderr",
     "output_type": "stream",
     "text": [
      "INFO:geometry:total reduced potential before atom placement: 9.117927746118994\n"
     ]
    },
    {
     "name": "stdout",
     "output_type": "stream",
     "text": [
      "conducting subsequent work with the following platform: CUDA\n",
      "conducting subsequent work with the following platform: CUDA\n",
      "conducting subsequent work with the following platform: CUDA\n"
     ]
    },
    {
     "name": "stderr",
     "output_type": "stream",
     "text": [
      "INFO:geometry:total reduced energy added from growth system: 83.77459034380914\n",
      "INFO:geometry:final reduced energy 186.29417241684362\n",
      "INFO:geometry:sum of energies: 92.89251808992813\n",
      "INFO:geometry:magnitude of difference in the energies: 93.40165432691549\n",
      "INFO:geometry:Final logp_proposal: 125.04872406631218\n"
     ]
    },
    {
     "name": "stdout",
     "output_type": "stream",
     "text": [
      "added energy components: [('CustomBondForce', 6.550733688798708), ('CustomAngleForce', 28.025756687576347), ('CustomTorsionForce', 13.780546967646515), ('CustomBondForce', 35.41755299978756)]\n"
     ]
    },
    {
     "name": "stderr",
     "output_type": "stream",
     "text": [
      "INFO:geometry:logp_reverse: performing reverse proposal\n",
      "INFO:geometry:logp_reverse: unique new atoms detected; proceeding to _logp_propose...\n",
      "INFO:geometry:Conducting forward proposal...\n",
      "INFO:geometry:Computing proposal order with NetworkX...\n",
      "INFO:geometry:number of atoms to be placed: 14\n",
      "INFO:geometry:Atom index proposal order is [10, 15, 16, 21, 20, 22, 19, 25, 24, 11, 17, 18, 12, 23]\n",
      "INFO:geometry:omitted_bonds: [(19, 22)]\n",
      "INFO:geometry:direction of proposal is reverse; creating atoms_with_positions from old system/topology\n",
      "INFO:geometry:creating growth system...\n",
      "INFO:geometry:\tcreating bond force...\n",
      "INFO:geometry:\tthere are 16 bonds in reference force.\n",
      "INFO:geometry:\tcreating angle force...\n",
      "INFO:geometry:\tthere are 54 angles in reference force.\n",
      "INFO:geometry:\tcreating torsion force...\n",
      "INFO:geometry:\tcreating extra torsions force...\n",
      "INFO:geometry:\tthere are 82 torsions in reference force.\n",
      "INFO:geometry:\tcreating nonbonded force...\n",
      "INFO:geometry:\t\tgrabbing reference nonbonded method, cutoff, switching function, switching distance...\n",
      "INFO:geometry:\t\tcreating nonbonded exception force (i.e. custom bond for 1,4s)...\n",
      "INFO:geometry:\t\tlooping through exceptions calculating growth indices, and adding appropriate interactions to custom bond force.\n",
      "INFO:geometry:\t\tthere are 154 in the reference Nonbonded force\n",
      "WARNING:geometry:\t\t\t\t\tchiral atom <Atom 8 (CA) of chain 0 residue 1 (PHE)> with neighbors [<Atom 13 (C) of chain 0 residue 1 (PHE)>, <Atom 10 (CB) of chain 0 residue 1 (PHE)>, <Atom 9 (HA) of chain 0 residue 1 (PHE)>, <Atom 6 (N) of chain 0 residue 1 (PHE)>] is surrounded by 3 core neighbors.  omitting chirality bias torsion\n",
      "INFO:geometry:Neglected angle terms : []\n",
      "INFO:geometry:omitted_growth_terms: {'bonds': [(19, 22)], 'angles': [(19, 22, 21), (19, 22, 23), (20, 19, 22), (22, 19, 24)], 'torsions': [(15, 20, 19, 22), (16, 21, 22, 19), (18, 21, 22, 19), (20, 19, 22, 21), (20, 19, 22, 23), (21, 22, 19, 24), (22, 19, 20, 25), (23, 22, 19, 24), (21, 19, 22, 23)], '1,4s': [(16, 19), (18, 19), (20, 21), (15, 22), (20, 23), (21, 24), (23, 24), (22, 25)]}\n",
      "INFO:geometry:extra torsions: {0: (19, 20, 15, 10, [1, Quantity(value=-0.05926690747810337, unit=radian), Quantity(value=120.0, unit=kilocalorie/mole), 7]), 1: (19, 20, 15, 16, [1, Quantity(value=3.1352639058829186, unit=radian), Quantity(value=120.0, unit=kilocalorie/mole), 7]), 2: (20, 15, 16, 21, [1, Quantity(value=-3.12607014738776, unit=radian), Quantity(value=120.0, unit=kilocalorie/mole), 5]), 3: (10, 15, 16, 21, [1, Quantity(value=0.06780092444542918, unit=radian), Quantity(value=120.0, unit=kilocalorie/mole), 4]), 4: (15, 16, 21, 22, [1, Quantity(value=3.127339152139995, unit=radian), Quantity(value=120.0, unit=kilocalorie/mole), 6])}\n",
      "INFO:geometry:neglected angle terms include []\n",
      "INFO:geometry:log probability choice of torsions and atom order: -23.186470533660433\n",
      "INFO:geometry:creating platform, integrators, and contexts; setting growth parameter\n"
     ]
    },
    {
     "name": "stdout",
     "output_type": "stream",
     "text": [
      "conducting subsequent work with the following platform: CUDA\n"
     ]
    },
    {
     "name": "stderr",
     "output_type": "stream",
     "text": [
      "INFO:geometry:setting atoms_with_positions context old positions\n"
     ]
    },
    {
     "name": "stdout",
     "output_type": "stream",
     "text": [
      "conducting subsequent work with the following platform: CUDA\n"
     ]
    },
    {
     "name": "stderr",
     "output_type": "stream",
     "text": [
      "INFO:geometry:There are 14 new atoms\n",
      "INFO:geometry:\treduced angle potential = 2.5717830606743677.\n",
      "INFO:geometry:\treduced angle potential = 0.780982081586702.\n",
      "INFO:geometry:\treduced angle potential = 3.255014654155605.\n",
      "INFO:geometry:\treduced angle potential = 0.017461732770040355.\n",
      "INFO:geometry:\treduced angle potential = 0.5693523117203431.\n",
      "INFO:geometry:\treduced angle potential = 0.34019917599259797.\n",
      "INFO:geometry:\treduced angle potential = 1.178821361353268.\n",
      "INFO:geometry:\treduced angle potential = 0.17750458120215046.\n",
      "INFO:geometry:\treduced angle potential = 0.07797685070563411.\n",
      "INFO:geometry:\treduced angle potential = 0.04998619592784875.\n",
      "INFO:geometry:\treduced angle potential = 0.04319082679482863.\n",
      "INFO:geometry:\treduced angle potential = 0.005526919388444234.\n",
      "INFO:geometry:\treduced angle potential = 0.6570579396240711.\n",
      "INFO:geometry:\treduced angle potential = 0.7427108112054663.\n",
      "INFO:geometry:\tbeginning construction of no_nonbonded final system...\n",
      "INFO:geometry:\tinitial no-nonbonded final system forces ['HarmonicBondForce', 'HarmonicAngleForce', 'PeriodicTorsionForce', 'NonbondedForce']\n",
      "INFO:geometry:\tfinal no-nonbonded final system forces dict_keys(['HarmonicBondForce', 'HarmonicAngleForce', 'PeriodicTorsionForce', 'NonbondedForce'])\n",
      "INFO:geometry:\tthere are 16 bond forces in the no-nonbonded final system\n",
      "INFO:geometry:\tthere are 54 angle forces in the no-nonbonded final system\n",
      "INFO:geometry:\tthere are 82 torsion forces in the no-nonbonded final system\n",
      "INFO:geometry:reverse final system defined with 0 neglected angles.\n"
     ]
    },
    {
     "name": "stdout",
     "output_type": "stream",
     "text": [
      "conducting subsequent work with the following platform: CUDA\n",
      "conducting subsequent work with the following platform: CUDA\n"
     ]
    },
    {
     "name": "stderr",
     "output_type": "stream",
     "text": [
      "INFO:geometry:total reduced potential before atom placement: 9.117927746118994\n"
     ]
    },
    {
     "name": "stdout",
     "output_type": "stream",
     "text": [
      "conducting subsequent work with the following platform: CUDA\n",
      "conducting subsequent work with the following platform: CUDA\n",
      "conducting subsequent work with the following platform: CUDA\n"
     ]
    },
    {
     "name": "stderr",
     "output_type": "stream",
     "text": [
      "INFO:geometry:total reduced energy added from growth system: 51.36184447508143\n",
      "INFO:geometry:final reduced energy 100.52482615464295\n",
      "INFO:geometry:sum of energies: 60.47977222120043\n",
      "INFO:geometry:magnitude of difference in the energies: 40.045053933442524\n",
      "INFO:geometry:Final logp_proposal: 91.33745623772924\n"
     ]
    },
    {
     "name": "stdout",
     "output_type": "stream",
     "text": [
      "added energy components: [('CustomBondForce', 2.835895793403111), ('CustomAngleForce', 14.35513123683787), ('CustomTorsionForce', 16.25849596215747), ('CustomBondForce', 17.912321482682984)]\n"
     ]
    },
    {
     "name": "stderr",
     "output_type": "stream",
     "text": [
      "INFO:relative:Beginning nonbonded method, total particle, barostat, and exceptions retrieval...\n",
      "INFO:relative:Old system forces: dict_keys(['HarmonicBondForce', 'HarmonicAngleForce', 'PeriodicTorsionForce', 'NonbondedForce'])\n",
      "INFO:relative:New system forces: dict_keys(['HarmonicBondForce', 'HarmonicAngleForce', 'PeriodicTorsionForce', 'NonbondedForce'])\n",
      "INFO:relative:No unknown forces.\n",
      "INFO:relative:Nonbonded method to be used (i.e. from old system): 0\n",
      "INFO:relative:Adding and mapping old atoms to hybrid system...\n",
      "INFO:relative:Adding and mapping new atoms to hybrid system...\n",
      "INFO:relative:No MonteCarloBarostat added.\n",
      "INFO:relative:getDefaultPeriodicBoxVectors added to hybrid: [Quantity(value=Vec3(x=2.0, y=0.0, z=0.0), unit=nanometer), Quantity(value=Vec3(x=0.0, y=2.0, z=0.0), unit=nanometer), Quantity(value=Vec3(x=0.0, y=0.0, z=2.0), unit=nanometer)]\n",
      "INFO:relative:Determined atom classes.\n",
      "INFO:relative:Generating old system exceptions dict...\n",
      "INFO:relative:Generating new system exceptions dict...\n",
      "INFO:relative:Handling constraints...\n",
      "INFO:relative:Handling virtual sites...\n",
      "INFO:relative:\t_handle_virtual_sites: numVirtualSites: 0\n",
      "INFO:relative:Adding bond force terms...\n",
      "INFO:relative:Adding angle force terms...\n",
      "INFO:relative:Adding torsion force terms...\n",
      "INFO:relative:Adding nonbonded force terms...\n",
      "INFO:relative:\t_add_nonbonded_force_terms: <simtk.openmm.openmm.NonbondedForce; proxy of <Swig Object of type 'OpenMM::NonbondedForce *' at 0x2b8992fd9c90> > added to hybrid system\n",
      "INFO:relative:\t_add_nonbonded_force_terms: nonbonded_method is NoCutoff\n",
      "INFO:relative:\t_add_nonbonded_force_terms: 0 added to standard nonbonded force\n",
      "INFO:relative:\t_add_nonbonded_force_terms: 0 added to sterics_custom_nonbonded force\n",
      "INFO:relative:\t_add_nonbonded_force_terms: <simtk.openmm.openmm.CustomNonbondedForce; proxy of <Swig Object of type 'OpenMM::CustomNonbondedForce *' at 0x2b8992fd98a0> > added to hybrid system\n",
      "INFO:relative:Handling harmonic bonds...\n",
      "INFO:relative:\thandle_harmonic_bonds: looping through old_system to add relevant terms...\n",
      "INFO:relative:\thandle_harmonic_bonds: looping through new_system to add relevant terms...\n",
      "INFO:relative:Handling harmonic angles...\n",
      "INFO:relative:\thandle_harmonic_angles: looping through old_system to add relevant terms...\n",
      "INFO:relative:\thandle_harmonic_angles: looping through new_system to add relevant terms...\n",
      "INFO:relative:Handling torsion forces...\n",
      "INFO:relative:\thandle_periodic_torsion_forces: looping through old_system to add relevant terms...\n",
      "INFO:relative:\thandle_periodic_torsion_forces: looping through new_system to add relevant terms...\n",
      "INFO:relative:Handling nonbonded forces...\n",
      "INFO:relative:\thandle_nonbonded: looping through all particles in hybrid...\n",
      "INFO:relative:\thandle_nonbonded: Handling Interaction Groups...\n",
      "INFO:relative:\thandle_nonbonded: Handling Hybrid Exceptions...\n",
      "INFO:relative:\thandle_nonbonded: Handling Original Exceptions...\n",
      "INFO:relative:Handling unique_new/old interaction exceptions...\n",
      "INFO:relative:There are old or new system exceptions...proceeding.\n"
     ]
    },
    {
     "name": "stdout",
     "output_type": "stream",
     "text": [
      "conducting subsequent work with the following platform: CUDA\n",
      "conducting subsequent work with the following platform: CUDA\n",
      "\t\t\tHarmonicBondForce: 25.33380021565877\n",
      "\t\t\tHarmonicAngleForce: 23.28724010352662\n",
      "\t\t\tPeriodicTorsionForce: 26.242785635405802\n",
      "\t\t\tNonbondedForce: -3.2957627364931033\n",
      "\t\t\tAndersenThermostat: 0.0\n",
      "conducting subsequent work with the following platform: CUDA\n",
      "\t\t\tCustomBondForce: 0.032667115844874646\n",
      "\t\t\tHarmonicBondForce: 58.85095693212436\n",
      "\t\t\tCustomAngleForce: 0.15998449156336095\n",
      "\t\t\tHarmonicAngleForce: 94.73856140383901\n",
      "\t\t\tCustomTorsionForce: 0.0\n",
      "\t\t\tPeriodicTorsionForce: 51.04805355855631\n",
      "\t\t\tNonbondedForce: 23.71615930215736\n",
      "\t\t\tCustomNonbondedForce: 20.19792640504699\n",
      "\t\t\tCustomBondForce: 0.0\n",
      "\t\t\tAndersenThermostat: 0.0\n",
      "conducting subsequent work with the following platform: CUDA\n",
      "\t\t\tCustomBondForce: 0.032667115844874646\n",
      "\t\t\tHarmonicBondForce: 58.85095693212436\n",
      "\t\t\tCustomAngleForce: 0.15998449156336095\n",
      "\t\t\tHarmonicAngleForce: 94.73856140383901\n",
      "\t\t\tCustomTorsionForce: 0.0\n",
      "\t\t\tPeriodicTorsionForce: 51.04805355855631\n",
      "\t\t\tNonbondedForce: -0.9858004295633709\n",
      "\t\t\tCustomNonbondedForce: 63.68134923531852\n",
      "\t\t\tCustomBondForce: 0.0\n",
      "\t\t\tAndersenThermostat: 0.0\n",
      "conducting subsequent work with the following platform: CUDA\n"
     ]
    },
    {
     "name": "stderr",
     "output_type": "stream",
     "text": [
      "INFO:proposal_generator:\tConducting polymer point mutation proposal...\n",
      "INFO:proposal_generator:Using matching_criterion to chose best atom map\n",
      "INFO:proposal_generator:Scaffold has symmetry of 0\n",
      "WARNING:proposal_generator:Two molecules are not similar to have a common scaffold\n",
      "WARNING:proposal_generator:Proceeding with direct mapping of molecules, but please check atom mapping and the geometry of the ligands.\n",
      "INFO:proposal_generator:len [{4: 4, 5: 5, 6: 6, 7: 7, 10: 8, 9: 9, 12: 10, 16: 13, 17: 14, 18: 15, 19: 17, 20: 18, 22: 19}, {4: 4, 5: 5, 7: 6, 6: 7, 9: 8, 10: 9, 12: 10, 16: 13, 17: 14, 18: 16, 20: 17, 19: 18, 22: 19}, {4: 4, 5: 5, 6: 6, 7: 7, 13: 8, 9: 9, 12: 10, 16: 13, 17: 14, 18: 15, 23: 17, 20: 18, 22: 19}, {4: 4, 5: 5, 7: 6, 11: 7, 9: 8, 13: 9, 12: 10, 16: 13, 17: 14, 21: 16, 20: 17, 23: 18, 22: 19}, {4: 4, 5: 5, 6: 6, 13: 7, 10: 8, 11: 9, 8: 10, 16: 13, 17: 14, 18: 15, 23: 16, 19: 17, 21: 18}, {4: 4, 5: 5, 11: 6, 7: 7, 13: 8, 9: 9, 12: 10, 16: 13, 17: 14, 21: 15, 23: 17, 20: 18, 22: 19}, {4: 4, 5: 5, 13: 6, 6: 7, 11: 8, 10: 9, 8: 10, 16: 13, 17: 14, 23: 15, 18: 16, 21: 17, 19: 18}, {4: 4, 5: 5, 7: 6, 6: 7, 9: 8, 13: 9, 12: 10, 17: 13, 16: 14, 18: 16, 20: 17, 23: 18, 22: 19}, {7: 5, 8: 6, 9: 7, 11: 8, 12: 9, 13: 10, 20: 16, 21: 17, 22: 18, 23: 19}, {7: 5, 9: 6, 8: 7, 12: 8, 11: 9, 13: 10, 20: 15, 22: 17, 21: 18, 23: 19}]\n",
      "INFO:proposal_generator:{4: 4, 5: 5, 6: 6, 7: 7, 10: 8, 9: 9, 12: 10, 16: 13, 17: 14, 18: 15, 19: 17, 20: 18, 22: 19}\n",
      "INFO:proposal_generator:{4: 4, 5: 5, 7: 6, 6: 7, 9: 8, 10: 9, 12: 10, 16: 13, 17: 14, 18: 16, 20: 17, 19: 18, 22: 19}\n",
      "INFO:proposal_generator:{4: 4, 5: 5, 6: 6, 7: 7, 13: 8, 9: 9, 12: 10, 16: 13, 17: 14, 18: 15, 23: 17, 20: 18, 22: 19}\n",
      "INFO:proposal_generator:{4: 4, 5: 5, 7: 6, 11: 7, 9: 8, 13: 9, 12: 10, 16: 13, 17: 14, 21: 16, 20: 17, 23: 18, 22: 19}\n",
      "INFO:proposal_generator:{4: 4, 5: 5, 6: 6, 13: 7, 10: 8, 11: 9, 8: 10, 16: 13, 17: 14, 18: 15, 23: 16, 19: 17, 21: 18}\n",
      "INFO:proposal_generator:{4: 4, 5: 5, 11: 6, 7: 7, 13: 8, 9: 9, 12: 10, 16: 13, 17: 14, 21: 15, 23: 17, 20: 18, 22: 19}\n",
      "INFO:proposal_generator:{4: 4, 5: 5, 13: 6, 6: 7, 11: 8, 10: 9, 8: 10, 16: 13, 17: 14, 23: 15, 18: 16, 21: 17, 19: 18}\n",
      "INFO:proposal_generator:{4: 4, 5: 5, 7: 6, 6: 7, 9: 8, 13: 9, 12: 10, 17: 13, 16: 14, 18: 16, 20: 17, 23: 18, 22: 19}\n",
      "INFO:proposal_generator:{7: 5, 8: 6, 9: 7, 11: 8, 12: 9, 13: 10, 20: 16, 21: 17, 22: 18, 23: 19}\n",
      "INFO:proposal_generator:{7: 5, 9: 6, 8: 7, 12: 8, 11: 9, 13: 10, 20: 15, 22: 17, 21: 18, 23: 19}\n",
      "INFO:proposal_generator:4\n",
      "INFO:proposal_generator:4\n",
      "INFO:proposal_generator:3\n",
      "INFO:proposal_generator:2\n",
      "INFO:proposal_generator:4\n",
      "INFO:proposal_generator:2\n",
      "INFO:proposal_generator:4\n",
      "INFO:proposal_generator:3\n",
      "INFO:proposal_generator:2\n",
      "INFO:proposal_generator:2\n",
      "INFO:proposal_generator:Checking maps to see if they break rings\n",
      "WARNING:proposal_generator:No maps found. Try relaxing match criteria or setting allow_ring_breaking to True\n"
     ]
    },
    {
     "name": "stdout",
     "output_type": "stream",
     "text": [
      "\t\t\tHarmonicBondForce: 33.58249094815535\n",
      "\t\t\tHarmonicAngleForce: 71.77129028343913\n",
      "\t\t\tPeriodicTorsionForce: 33.73054406186126\n",
      "\t\t\tNonbondedForce: 37.034540674252426\n",
      "\t\t\tAndersenThermostat: 0.0\n"
     ]
    },
    {
     "name": "stderr",
     "output_type": "stream",
     "text": [
      "INFO:geometry:propose: performing forward proposal\n",
      "INFO:geometry:propose: unique new atoms detected; proceeding to _logp_propose...\n",
      "INFO:geometry:Conducting forward proposal...\n",
      "INFO:geometry:Computing proposal order with NetworkX...\n",
      "INFO:geometry:number of atoms to be placed: 18\n",
      "INFO:geometry:Atom index proposal order is [10, 15, 16, 21, 20, 28, 26, 19, 22, 24, 12, 11, 29, 17, 18, 27, 23, 25]\n",
      "INFO:geometry:omitted_bonds: [(19, 21), (24, 26)]\n",
      "INFO:geometry:direction of proposal is forward; creating atoms_with_positions and new positions from old system/topology...\n",
      "INFO:geometry:creating growth system...\n",
      "INFO:geometry:\tcreating bond force...\n",
      "INFO:geometry:\tthere are 20 bonds in reference force.\n",
      "INFO:geometry:\tcreating angle force...\n",
      "INFO:geometry:\tthere are 63 angles in reference force.\n",
      "INFO:geometry:\tcreating torsion force...\n",
      "INFO:geometry:\tcreating extra torsions force...\n",
      "INFO:geometry:\tthere are 99 torsions in reference force.\n",
      "INFO:geometry:\tcreating nonbonded force...\n",
      "INFO:geometry:\t\tgrabbing reference nonbonded method, cutoff, switching function, switching distance...\n",
      "INFO:geometry:\t\tcreating nonbonded exception force (i.e. custom bond for 1,4s)...\n",
      "INFO:geometry:\t\tlooping through exceptions calculating growth indices, and adding appropriate interactions to custom bond force.\n",
      "INFO:geometry:\t\tthere are 179 in the reference Nonbonded force\n",
      "WARNING:geometry:\t\t\t\t\tchiral atom <Atom 8 (CA) of chain 0 residue 1 (TRP)> with neighbors [<Atom 13 (C) of chain 0 residue 1 (TRP)>, <Atom 10 (CB) of chain 0 residue 1 (TRP)>, <Atom 9 (HA) of chain 0 residue 1 (TRP)>, <Atom 6 (N) of chain 0 residue 1 (TRP)>] is surrounded by 3 core neighbors.  omitting chirality bias torsion\n",
      "INFO:geometry:Neglected angle terms : []\n",
      "INFO:geometry:omitted_growth_terms: {'bonds': [(21, 19), (24, 26)], 'angles': [(16, 21, 19), (18, 21, 19), (20, 19, 21), (21, 19, 22), (22, 24, 26), (24, 26, 27), (24, 26, 28), (25, 24, 26)], 'torsions': [(15, 16, 21, 19), (15, 20, 19, 21), (16, 21, 19, 20), (16, 21, 19, 22), (17, 16, 21, 19), (18, 21, 19, 20), (18, 21, 19, 22), (19, 22, 24, 26), (20, 28, 26, 24), (21, 19, 20, 28), (21, 19, 22, 23), (21, 19, 22, 24), (22, 24, 26, 27), (22, 24, 26, 28), (23, 22, 24, 26), (24, 26, 28, 29), (25, 24, 26, 27), (25, 24, 26, 28), (16, 19, 21, 18), (22, 26, 24, 25)], '1,4s': [(17, 19), (18, 20), (16, 22), (18, 22), (21, 23), (20, 24), (21, 24), (19, 26), (23, 26), (22, 27), (25, 27), (21, 28), (22, 28), (25, 28), (24, 29)]}\n",
      "INFO:geometry:extra torsions: {0: (26, 28, 20, 19, [1, Quantity(value=-3.1265909424201266, unit=radian), Quantity(value=120.0, unit=kilocalorie/mole), 8]), 1: (26, 28, 20, 15, [1, Quantity(value=-0.012838658132400482, unit=radian), Quantity(value=120.0, unit=kilocalorie/mole), 7]), 2: (24, 22, 19, 20, [1, Quantity(value=3.1385049563053675, unit=radian), Quantity(value=120.0, unit=kilocalorie/mole), 10]), 3: (28, 20, 19, 22, [1, Quantity(value=3.1321649810181924, unit=radian), Quantity(value=120.0, unit=kilocalorie/mole), 9]), 4: (15, 20, 19, 22, [1, Quantity(value=0.012459359827764693, unit=radian), Quantity(value=120.0, unit=kilocalorie/mole), 9]), 5: (28, 20, 15, 10, [1, Quantity(value=3.098801337800155, unit=radian), Quantity(value=120.0, unit=kilocalorie/mole), 6]), 6: (28, 20, 15, 16, [1, Quantity(value=0.028527523890103268, unit=radian), Quantity(value=120.0, unit=kilocalorie/mole), 6]), 7: (19, 20, 15, 10, [1, Quantity(value=-0.06796819092235573, unit=radian), Quantity(value=120.0, unit=kilocalorie/mole), 8]), 8: (19, 20, 15, 16, [1, Quantity(value=-3.1382420048323967, unit=radian), Quantity(value=120.0, unit=kilocalorie/mole), 8]), 9: (20, 15, 16, 21, [1, Quantity(value=3.136889123867691, unit=radian), Quantity(value=120.0, unit=kilocalorie/mole), 5]), 10: (10, 15, 16, 21, [1, Quantity(value=0.0641983009537439, unit=radian), Quantity(value=120.0, unit=kilocalorie/mole), 4])}\n",
      "INFO:geometry:neglected angle terms include []\n",
      "INFO:geometry:log probability choice of torsions and atom order: -26.91138699877973\n",
      "INFO:geometry:creating platform, integrators, and contexts; setting growth parameter\n"
     ]
    },
    {
     "name": "stdout",
     "output_type": "stream",
     "text": [
      "conducting subsequent work with the following platform: CUDA\n"
     ]
    },
    {
     "name": "stderr",
     "output_type": "stream",
     "text": [
      "INFO:geometry:setting atoms_with_positions context new positions\n"
     ]
    },
    {
     "name": "stdout",
     "output_type": "stream",
     "text": [
      "conducting subsequent work with the following platform: CUDA\n"
     ]
    },
    {
     "name": "stderr",
     "output_type": "stream",
     "text": [
      "INFO:geometry:There are 18 new atoms\n",
      "INFO:geometry:\treduced angle potential = 0.0041436548888220915.\n",
      "INFO:geometry:\treduced angle potential = 0.1045132437548506.\n",
      "INFO:geometry:\treduced angle potential = 0.7326712143852361.\n",
      "INFO:geometry:\treduced angle potential = 0.03938876799629065.\n",
      "INFO:geometry:\treduced angle potential = 1.1519790931107723.\n",
      "INFO:geometry:\treduced angle potential = 0.3758610823271988.\n",
      "INFO:geometry:\treduced angle potential = 0.29614143208659444.\n",
      "INFO:geometry:\treduced angle potential = 0.13909358491922055.\n",
      "INFO:geometry:\treduced angle potential = 0.2122819233993931.\n",
      "INFO:geometry:\treduced angle potential = 0.03845775861510679.\n",
      "INFO:geometry:\treduced angle potential = 0.4605976566522167.\n",
      "INFO:geometry:\treduced angle potential = 0.7480072830417829.\n",
      "INFO:geometry:\treduced angle potential = 0.007313481106070974.\n",
      "INFO:geometry:\treduced angle potential = 0.8949746742356465.\n",
      "INFO:geometry:\treduced angle potential = 0.020035377164314236.\n",
      "INFO:geometry:\treduced angle potential = 1.1851003401752058.\n",
      "INFO:geometry:\treduced angle potential = 0.16307853058252367.\n",
      "INFO:geometry:\treduced angle potential = 0.10818691321477021.\n",
      "INFO:geometry:\tbeginning construction of no_nonbonded final system...\n",
      "INFO:geometry:\tinitial no-nonbonded final system forces ['HarmonicBondForce', 'HarmonicAngleForce', 'PeriodicTorsionForce', 'NonbondedForce']\n",
      "INFO:geometry:\tfinal no-nonbonded final system forces dict_keys(['HarmonicBondForce', 'HarmonicAngleForce', 'PeriodicTorsionForce', 'NonbondedForce'])\n",
      "INFO:geometry:\tthere are 20 bond forces in the no-nonbonded final system\n",
      "INFO:geometry:\tthere are 63 angle forces in the no-nonbonded final system\n",
      "INFO:geometry:\tthere are 99 torsion forces in the no-nonbonded final system\n",
      "INFO:geometry:forward final system defined with 0 neglected angles.\n"
     ]
    },
    {
     "name": "stdout",
     "output_type": "stream",
     "text": [
      "conducting subsequent work with the following platform: CUDA\n",
      "conducting subsequent work with the following platform: CUDA\n"
     ]
    },
    {
     "name": "stderr",
     "output_type": "stream",
     "text": [
      "INFO:geometry:total reduced potential before atom placement: 9.117927746118994\n"
     ]
    },
    {
     "name": "stdout",
     "output_type": "stream",
     "text": [
      "conducting subsequent work with the following platform: CUDA\n",
      "conducting subsequent work with the following platform: CUDA\n",
      "conducting subsequent work with the following platform: CUDA\n"
     ]
    },
    {
     "name": "stderr",
     "output_type": "stream",
     "text": [
      "INFO:geometry:total reduced energy added from growth system: 85.89870654486232\n",
      "INFO:geometry:final reduced energy 651.6619247736088\n",
      "INFO:geometry:sum of energies: 95.01663429098132\n",
      "INFO:geometry:magnitude of difference in the energies: 556.6452904826275\n",
      "INFO:geometry:Final logp_proposal: 120.10086743425342\n"
     ]
    },
    {
     "name": "stdout",
     "output_type": "stream",
     "text": [
      "added energy components: [('CustomBondForce', 13.642459999141963), ('CustomAngleForce', 16.201317264292104), ('CustomTorsionForce', 21.940456001901627), ('CustomBondForce', 34.114473279526635)]\n"
     ]
    },
    {
     "name": "stderr",
     "output_type": "stream",
     "text": [
      "INFO:geometry:logp_reverse: performing reverse proposal\n",
      "INFO:geometry:logp_reverse: unique new atoms detected; proceeding to _logp_propose...\n",
      "INFO:geometry:Conducting forward proposal...\n",
      "INFO:geometry:Computing proposal order with NetworkX...\n",
      "INFO:geometry:number of atoms to be placed: 14\n",
      "INFO:geometry:Atom index proposal order is [10, 15, 16, 20, 21, 19, 22, 25, 11, 23, 12, 18, 24, 17]\n",
      "INFO:geometry:omitted_bonds: [(19, 22)]\n",
      "INFO:geometry:direction of proposal is reverse; creating atoms_with_positions from old system/topology\n",
      "INFO:geometry:creating growth system...\n",
      "INFO:geometry:\tcreating bond force...\n",
      "INFO:geometry:\tthere are 16 bonds in reference force.\n",
      "INFO:geometry:\tcreating angle force...\n",
      "INFO:geometry:\tthere are 54 angles in reference force.\n",
      "INFO:geometry:\tcreating torsion force...\n",
      "INFO:geometry:\tcreating extra torsions force...\n",
      "INFO:geometry:\tthere are 82 torsions in reference force.\n",
      "INFO:geometry:\tcreating nonbonded force...\n",
      "INFO:geometry:\t\tgrabbing reference nonbonded method, cutoff, switching function, switching distance...\n",
      "INFO:geometry:\t\tcreating nonbonded exception force (i.e. custom bond for 1,4s)...\n",
      "INFO:geometry:\t\tlooping through exceptions calculating growth indices, and adding appropriate interactions to custom bond force.\n",
      "INFO:geometry:\t\tthere are 154 in the reference Nonbonded force\n",
      "WARNING:geometry:\t\t\t\t\tchiral atom <Atom 8 (CA) of chain 0 residue 1 (PHE)> with neighbors [<Atom 13 (C) of chain 0 residue 1 (PHE)>, <Atom 10 (CB) of chain 0 residue 1 (PHE)>, <Atom 9 (HA) of chain 0 residue 1 (PHE)>, <Atom 6 (N) of chain 0 residue 1 (PHE)>] is surrounded by 3 core neighbors.  omitting chirality bias torsion\n",
      "INFO:geometry:Neglected angle terms : []\n",
      "INFO:geometry:omitted_growth_terms: {'bonds': [(19, 22)], 'angles': [(19, 22, 21), (19, 22, 23), (20, 19, 22), (22, 19, 24)], 'torsions': [(15, 20, 19, 22), (16, 21, 22, 19), (18, 21, 22, 19), (20, 19, 22, 21), (20, 19, 22, 23), (21, 22, 19, 24), (22, 19, 20, 25), (23, 22, 19, 24), (21, 19, 22, 23)], '1,4s': [(16, 19), (18, 19), (20, 21), (15, 22), (20, 23), (21, 24), (23, 24), (22, 25)]}\n",
      "INFO:geometry:extra torsions: {0: (19, 20, 15, 10, [1, Quantity(value=-0.05926690747810337, unit=radian), Quantity(value=120.0, unit=kilocalorie/mole), 6]), 1: (19, 20, 15, 16, [1, Quantity(value=3.1352639058829186, unit=radian), Quantity(value=120.0, unit=kilocalorie/mole), 6]), 2: (20, 15, 16, 21, [1, Quantity(value=-3.12607014738776, unit=radian), Quantity(value=120.0, unit=kilocalorie/mole), 5]), 3: (10, 15, 16, 21, [1, Quantity(value=0.06780092444542918, unit=radian), Quantity(value=120.0, unit=kilocalorie/mole), 5]), 4: (15, 16, 21, 22, [1, Quantity(value=3.127339152139995, unit=radian), Quantity(value=120.0, unit=kilocalorie/mole), 7])}\n",
      "INFO:geometry:neglected angle terms include []\n",
      "INFO:geometry:log probability choice of torsions and atom order: -22.934156605046443\n",
      "INFO:geometry:creating platform, integrators, and contexts; setting growth parameter\n"
     ]
    },
    {
     "name": "stdout",
     "output_type": "stream",
     "text": [
      "conducting subsequent work with the following platform: CUDA\n"
     ]
    },
    {
     "name": "stderr",
     "output_type": "stream",
     "text": [
      "INFO:geometry:setting atoms_with_positions context old positions\n"
     ]
    },
    {
     "name": "stdout",
     "output_type": "stream",
     "text": [
      "conducting subsequent work with the following platform: CUDA\n"
     ]
    },
    {
     "name": "stderr",
     "output_type": "stream",
     "text": [
      "INFO:geometry:There are 14 new atoms\n",
      "INFO:geometry:\treduced angle potential = 0.5143232206796989.\n",
      "INFO:geometry:\treduced angle potential = 0.780982081586702.\n",
      "INFO:geometry:\treduced angle potential = 3.255014654155605.\n",
      "INFO:geometry:\treduced angle potential = 0.5693523117203431.\n",
      "INFO:geometry:\treduced angle potential = 0.017461732770040355.\n",
      "INFO:geometry:\treduced angle potential = 1.178821361353268.\n",
      "INFO:geometry:\treduced angle potential = 0.34019917599259797.\n",
      "INFO:geometry:\treduced angle potential = 0.3023975257756509.\n",
      "INFO:geometry:\treduced angle potential = 0.04998619592784875.\n",
      "INFO:geometry:\treduced angle potential = 0.7427108112054663.\n",
      "INFO:geometry:\treduced angle potential = 0.5400985478860547.\n",
      "INFO:geometry:\treduced angle potential = 0.005526919388444234.\n",
      "INFO:geometry:\treduced angle potential = 0.07797685070563411.\n",
      "INFO:geometry:\treduced angle potential = 0.10133787526347242.\n",
      "INFO:geometry:\tbeginning construction of no_nonbonded final system...\n",
      "INFO:geometry:\tinitial no-nonbonded final system forces ['HarmonicBondForce', 'HarmonicAngleForce', 'PeriodicTorsionForce', 'NonbondedForce']\n",
      "INFO:geometry:\tfinal no-nonbonded final system forces dict_keys(['HarmonicBondForce', 'HarmonicAngleForce', 'PeriodicTorsionForce', 'NonbondedForce'])\n",
      "INFO:geometry:\tthere are 16 bond forces in the no-nonbonded final system\n",
      "INFO:geometry:\tthere are 54 angle forces in the no-nonbonded final system\n",
      "INFO:geometry:\tthere are 82 torsion forces in the no-nonbonded final system\n",
      "INFO:geometry:reverse final system defined with 0 neglected angles.\n"
     ]
    },
    {
     "name": "stdout",
     "output_type": "stream",
     "text": [
      "conducting subsequent work with the following platform: CUDA\n",
      "conducting subsequent work with the following platform: CUDA\n"
     ]
    },
    {
     "name": "stderr",
     "output_type": "stream",
     "text": [
      "INFO:geometry:total reduced potential before atom placement: 9.117927746118994\n"
     ]
    },
    {
     "name": "stdout",
     "output_type": "stream",
     "text": [
      "conducting subsequent work with the following platform: CUDA\n",
      "conducting subsequent work with the following platform: CUDA\n",
      "conducting subsequent work with the following platform: CUDA\n"
     ]
    },
    {
     "name": "stderr",
     "output_type": "stream",
     "text": [
      "INFO:geometry:total reduced energy added from growth system: 51.36184447508143\n",
      "INFO:geometry:final reduced energy 100.52482615464295\n",
      "INFO:geometry:sum of energies: 60.47977222120043\n",
      "INFO:geometry:magnitude of difference in the energies: 40.045053933442524\n",
      "INFO:geometry:Final logp_proposal: 85.27937371534549\n"
     ]
    },
    {
     "name": "stdout",
     "output_type": "stream",
     "text": [
      "added energy components: [('CustomBondForce', 2.835895793403111), ('CustomAngleForce', 14.35513123683787), ('CustomTorsionForce', 16.25849596215747), ('CustomBondForce', 17.912321482682984)]\n"
     ]
    },
    {
     "name": "stderr",
     "output_type": "stream",
     "text": [
      "INFO:relative:Beginning nonbonded method, total particle, barostat, and exceptions retrieval...\n",
      "INFO:relative:Old system forces: dict_keys(['HarmonicBondForce', 'HarmonicAngleForce', 'PeriodicTorsionForce', 'NonbondedForce'])\n",
      "INFO:relative:New system forces: dict_keys(['HarmonicBondForce', 'HarmonicAngleForce', 'PeriodicTorsionForce', 'NonbondedForce'])\n",
      "INFO:relative:No unknown forces.\n",
      "INFO:relative:Nonbonded method to be used (i.e. from old system): 0\n",
      "INFO:relative:Adding and mapping old atoms to hybrid system...\n",
      "INFO:relative:Adding and mapping new atoms to hybrid system...\n",
      "INFO:relative:No MonteCarloBarostat added.\n",
      "INFO:relative:getDefaultPeriodicBoxVectors added to hybrid: [Quantity(value=Vec3(x=2.0, y=0.0, z=0.0), unit=nanometer), Quantity(value=Vec3(x=0.0, y=2.0, z=0.0), unit=nanometer), Quantity(value=Vec3(x=0.0, y=0.0, z=2.0), unit=nanometer)]\n",
      "INFO:relative:Determined atom classes.\n",
      "INFO:relative:Generating old system exceptions dict...\n",
      "INFO:relative:Generating new system exceptions dict...\n",
      "INFO:relative:Handling constraints...\n",
      "INFO:relative:Handling virtual sites...\n",
      "INFO:relative:\t_handle_virtual_sites: numVirtualSites: 0\n",
      "INFO:relative:Adding bond force terms...\n",
      "INFO:relative:Adding angle force terms...\n",
      "INFO:relative:Adding torsion force terms...\n",
      "INFO:relative:Adding nonbonded force terms...\n",
      "INFO:relative:\t_add_nonbonded_force_terms: <simtk.openmm.openmm.NonbondedForce; proxy of <Swig Object of type 'OpenMM::NonbondedForce *' at 0x2b8992fd9ea0> > added to hybrid system\n",
      "INFO:relative:\t_add_nonbonded_force_terms: nonbonded_method is NoCutoff\n",
      "INFO:relative:\t_add_nonbonded_force_terms: 0 added to standard nonbonded force\n",
      "INFO:relative:\t_add_nonbonded_force_terms: 0 added to sterics_custom_nonbonded force\n",
      "INFO:relative:\t_add_nonbonded_force_terms: <simtk.openmm.openmm.CustomNonbondedForce; proxy of <Swig Object of type 'OpenMM::CustomNonbondedForce *' at 0x2b8992fd9900> > added to hybrid system\n",
      "INFO:relative:Handling harmonic bonds...\n",
      "INFO:relative:\thandle_harmonic_bonds: looping through old_system to add relevant terms...\n",
      "INFO:relative:\thandle_harmonic_bonds: looping through new_system to add relevant terms...\n",
      "INFO:relative:Handling harmonic angles...\n",
      "INFO:relative:\thandle_harmonic_angles: looping through old_system to add relevant terms...\n",
      "INFO:relative:\thandle_harmonic_angles: looping through new_system to add relevant terms...\n",
      "INFO:relative:Handling torsion forces...\n",
      "INFO:relative:\thandle_periodic_torsion_forces: looping through old_system to add relevant terms...\n",
      "INFO:relative:\thandle_periodic_torsion_forces: looping through new_system to add relevant terms...\n",
      "INFO:relative:Handling nonbonded forces...\n",
      "INFO:relative:\thandle_nonbonded: looping through all particles in hybrid...\n",
      "INFO:relative:\thandle_nonbonded: Handling Interaction Groups...\n",
      "INFO:relative:\thandle_nonbonded: Handling Hybrid Exceptions...\n",
      "INFO:relative:\thandle_nonbonded: Handling Original Exceptions...\n",
      "INFO:relative:Handling unique_new/old interaction exceptions...\n",
      "INFO:relative:There are old or new system exceptions...proceeding.\n"
     ]
    },
    {
     "name": "stdout",
     "output_type": "stream",
     "text": [
      "conducting subsequent work with the following platform: CUDA\n",
      "conducting subsequent work with the following platform: CUDA\n",
      "\t\t\tHarmonicBondForce: 25.33380021565877\n",
      "\t\t\tHarmonicAngleForce: 23.28724010352662\n",
      "\t\t\tPeriodicTorsionForce: 26.242785635405802\n",
      "\t\t\tNonbondedForce: -3.2957627364931033\n",
      "\t\t\tAndersenThermostat: 0.0\n",
      "conducting subsequent work with the following platform: CUDA\n",
      "\t\t\tCustomBondForce: 0.032667115844874646\n",
      "\t\t\tHarmonicBondForce: 126.58910525344962\n",
      "\t\t\tCustomAngleForce: 0.15998449156336095\n",
      "\t\t\tHarmonicAngleForce: 242.86586632958216\n",
      "\t\t\tCustomTorsionForce: 0.0\n",
      "\t\t\tPeriodicTorsionForce: 88.7933811917297\n",
      "\t\t\tNonbondedForce: 235.47313077868063\n",
      "\t\t\tCustomNonbondedForce: 20.19792640504699\n",
      "\t\t\tCustomBondForce: 0.0\n",
      "\t\t\tAndersenThermostat: 0.0\n",
      "conducting subsequent work with the following platform: CUDA\n",
      "\t\t\tCustomBondForce: 0.032667115844874646\n",
      "\t\t\tHarmonicBondForce: 126.58910525344962\n",
      "\t\t\tCustomAngleForce: 0.15998449156336095\n",
      "\t\t\tHarmonicAngleForce: 242.86586632958216\n",
      "\t\t\tCustomTorsionForce: 0.0\n",
      "\t\t\tPeriodicTorsionForce: 88.7933811917297\n",
      "\t\t\tNonbondedForce: 212.70347779571148\n",
      "\t\t\tCustomNonbondedForce: 9.462014632408604\n",
      "\t\t\tCustomBondForce: 0.0\n",
      "\t\t\tAndersenThermostat: 0.0\n",
      "conducting subsequent work with the following platform: CUDA\n",
      "\t\t\tHarmonicBondForce: 101.32063926948061\n",
      "\t\t\tHarmonicAngleForce: 219.8985952091823\n",
      "\t\t\tPeriodicTorsionForce: 71.47587169503464\n",
      "\t\t\tNonbondedForce: 196.50449100818804\n",
      "\t\t\tAndersenThermostat: 0.0\n"
     ]
    },
    {
     "name": "stderr",
     "output_type": "stream",
     "text": [
      "INFO:proposal_generator:\tConducting polymer point mutation proposal...\n",
      "INFO:proposal_generator:Using matching_criterion to chose best atom map\n",
      "INFO:proposal_generator:Scaffold has symmetry of 0\n",
      "WARNING:proposal_generator:Two molecules are not similar to have a common scaffold\n",
      "WARNING:proposal_generator:Proceeding with direct mapping of molecules, but please check atom mapping and the geometry of the ligands.\n",
      "INFO:proposal_generator:len [{4: 4, 5: 5, 6: 6, 7: 7, 10: 8, 9: 9, 12: 10, 16: 13, 17: 14, 18: 15, 19: 17, 20: 18, 22: 19}, {4: 4, 5: 5, 7: 6, 6: 7, 9: 8, 10: 9, 12: 10, 16: 13, 17: 14, 18: 16, 20: 17, 19: 18, 22: 19}, {4: 4, 5: 5, 6: 6, 7: 7, 13: 8, 9: 9, 12: 10, 16: 13, 17: 14, 18: 15, 23: 17, 20: 18, 22: 19}, {4: 4, 5: 5, 7: 6, 11: 7, 9: 8, 13: 9, 12: 10, 16: 13, 17: 14, 21: 16, 20: 17, 23: 18, 22: 19}, {4: 4, 5: 5, 6: 6, 13: 7, 10: 8, 11: 9, 8: 10, 16: 13, 17: 14, 18: 15, 23: 16, 19: 17, 21: 18}, {4: 4, 5: 5, 11: 6, 7: 7, 13: 8, 9: 9, 12: 10, 16: 13, 17: 14, 21: 15, 23: 17, 20: 18, 22: 19}, {4: 4, 5: 5, 13: 6, 6: 7, 11: 8, 10: 9, 8: 10, 16: 13, 17: 14, 23: 15, 18: 16, 21: 17, 19: 18}, {4: 4, 5: 5, 7: 6, 6: 7, 9: 8, 13: 9, 12: 10, 17: 13, 16: 14, 18: 16, 20: 17, 23: 18, 22: 19}, {7: 5, 8: 6, 9: 7, 11: 8, 12: 9, 13: 10, 20: 16, 21: 17, 22: 18, 23: 19}, {7: 5, 9: 6, 8: 7, 12: 8, 11: 9, 13: 10, 20: 15, 22: 17, 21: 18, 23: 19}]\n",
      "INFO:proposal_generator:{4: 4, 5: 5, 6: 6, 7: 7, 10: 8, 9: 9, 12: 10, 16: 13, 17: 14, 18: 15, 19: 17, 20: 18, 22: 19}\n",
      "INFO:proposal_generator:{4: 4, 5: 5, 7: 6, 6: 7, 9: 8, 10: 9, 12: 10, 16: 13, 17: 14, 18: 16, 20: 17, 19: 18, 22: 19}\n",
      "INFO:proposal_generator:{4: 4, 5: 5, 6: 6, 7: 7, 13: 8, 9: 9, 12: 10, 16: 13, 17: 14, 18: 15, 23: 17, 20: 18, 22: 19}\n",
      "INFO:proposal_generator:{4: 4, 5: 5, 7: 6, 11: 7, 9: 8, 13: 9, 12: 10, 16: 13, 17: 14, 21: 16, 20: 17, 23: 18, 22: 19}\n",
      "INFO:proposal_generator:{4: 4, 5: 5, 6: 6, 13: 7, 10: 8, 11: 9, 8: 10, 16: 13, 17: 14, 18: 15, 23: 16, 19: 17, 21: 18}\n",
      "INFO:proposal_generator:{4: 4, 5: 5, 11: 6, 7: 7, 13: 8, 9: 9, 12: 10, 16: 13, 17: 14, 21: 15, 23: 17, 20: 18, 22: 19}\n",
      "INFO:proposal_generator:{4: 4, 5: 5, 13: 6, 6: 7, 11: 8, 10: 9, 8: 10, 16: 13, 17: 14, 23: 15, 18: 16, 21: 17, 19: 18}\n",
      "INFO:proposal_generator:{4: 4, 5: 5, 7: 6, 6: 7, 9: 8, 13: 9, 12: 10, 17: 13, 16: 14, 18: 16, 20: 17, 23: 18, 22: 19}\n",
      "INFO:proposal_generator:{7: 5, 8: 6, 9: 7, 11: 8, 12: 9, 13: 10, 20: 16, 21: 17, 22: 18, 23: 19}\n",
      "INFO:proposal_generator:{7: 5, 9: 6, 8: 7, 12: 8, 11: 9, 13: 10, 20: 15, 22: 17, 21: 18, 23: 19}\n",
      "INFO:proposal_generator:4\n",
      "INFO:proposal_generator:4\n",
      "INFO:proposal_generator:3\n",
      "INFO:proposal_generator:2\n",
      "INFO:proposal_generator:4\n",
      "INFO:proposal_generator:2\n",
      "INFO:proposal_generator:4\n",
      "INFO:proposal_generator:3\n",
      "INFO:proposal_generator:2\n",
      "INFO:proposal_generator:2\n",
      "INFO:proposal_generator:Checking maps to see if they break rings\n",
      "WARNING:proposal_generator:No maps found. Try relaxing match criteria or setting allow_ring_breaking to True\n",
      "INFO:geometry:propose: performing forward proposal\n",
      "INFO:geometry:propose: unique new atoms detected; proceeding to _logp_propose...\n",
      "INFO:geometry:Conducting forward proposal...\n",
      "INFO:geometry:Computing proposal order with NetworkX...\n",
      "INFO:geometry:number of atoms to be placed: 18\n",
      "INFO:geometry:Atom index proposal order is [10, 15, 16, 21, 20, 28, 19, 22, 24, 26, 25, 12, 17, 18, 11, 23, 29, 27]\n",
      "INFO:geometry:omitted_bonds: [(19, 21), (26, 28)]\n",
      "INFO:geometry:direction of proposal is forward; creating atoms_with_positions and new positions from old system/topology...\n",
      "INFO:geometry:creating growth system...\n",
      "INFO:geometry:\tcreating bond force...\n",
      "INFO:geometry:\tthere are 20 bonds in reference force.\n",
      "INFO:geometry:\tcreating angle force...\n",
      "INFO:geometry:\tthere are 63 angles in reference force.\n",
      "INFO:geometry:\tcreating torsion force...\n",
      "INFO:geometry:\tcreating extra torsions force...\n",
      "INFO:geometry:\tthere are 99 torsions in reference force.\n",
      "INFO:geometry:\tcreating nonbonded force...\n",
      "INFO:geometry:\t\tgrabbing reference nonbonded method, cutoff, switching function, switching distance...\n",
      "INFO:geometry:\t\tcreating nonbonded exception force (i.e. custom bond for 1,4s)...\n",
      "INFO:geometry:\t\tlooping through exceptions calculating growth indices, and adding appropriate interactions to custom bond force.\n",
      "INFO:geometry:\t\tthere are 179 in the reference Nonbonded force\n",
      "WARNING:geometry:\t\t\t\t\tchiral atom <Atom 8 (CA) of chain 0 residue 1 (TRP)> with neighbors [<Atom 13 (C) of chain 0 residue 1 (TRP)>, <Atom 10 (CB) of chain 0 residue 1 (TRP)>, <Atom 9 (HA) of chain 0 residue 1 (TRP)>, <Atom 6 (N) of chain 0 residue 1 (TRP)>] is surrounded by 3 core neighbors.  omitting chirality bias torsion\n",
      "INFO:geometry:Neglected angle terms : []\n",
      "INFO:geometry:omitted_growth_terms: {'bonds': [(21, 19), (26, 28)], 'angles': [(16, 21, 19), (18, 21, 19), (20, 19, 21), (20, 28, 26), (21, 19, 22), (24, 26, 28), (26, 28, 29), (27, 26, 28)], 'torsions': [(15, 16, 21, 19), (15, 20, 19, 21), (15, 20, 28, 26), (16, 21, 19, 20), (16, 21, 19, 22), (17, 16, 21, 19), (18, 21, 19, 20), (18, 21, 19, 22), (19, 20, 28, 26), (20, 28, 26, 24), (20, 28, 26, 27), (21, 19, 20, 28), (21, 19, 22, 23), (21, 19, 22, 24), (22, 24, 26, 28), (24, 26, 28, 29), (25, 24, 26, 28), (27, 26, 28, 29), (16, 19, 21, 18), (24, 28, 26, 27)], '1,4s': [(17, 19), (18, 20), (16, 22), (18, 22), (21, 23), (20, 24), (21, 24), (15, 26), (19, 26), (20, 27), (21, 28), (22, 28), (25, 28), (24, 29), (27, 29)]}\n",
      "INFO:geometry:extra torsions: {0: (26, 24, 22, 19, [1, Quantity(value=-3.1316942592831216, unit=radian), Quantity(value=120.0, unit=kilocalorie/mole), 10]), 1: (24, 22, 19, 20, [1, Quantity(value=3.1385049563053675, unit=radian), Quantity(value=120.0, unit=kilocalorie/mole), 9]), 2: (28, 20, 19, 22, [1, Quantity(value=3.1321649810181924, unit=radian), Quantity(value=120.0, unit=kilocalorie/mole), 8]), 3: (15, 20, 19, 22, [1, Quantity(value=0.012459359827764693, unit=radian), Quantity(value=120.0, unit=kilocalorie/mole), 8]), 4: (28, 20, 15, 10, [1, Quantity(value=3.098801337800155, unit=radian), Quantity(value=120.0, unit=kilocalorie/mole), 6]), 5: (28, 20, 15, 16, [1, Quantity(value=0.028527523890103268, unit=radian), Quantity(value=120.0, unit=kilocalorie/mole), 6]), 6: (19, 20, 15, 10, [1, Quantity(value=-0.06796819092235573, unit=radian), Quantity(value=120.0, unit=kilocalorie/mole), 7]), 7: (19, 20, 15, 16, [1, Quantity(value=-3.1382420048323967, unit=radian), Quantity(value=120.0, unit=kilocalorie/mole), 7]), 8: (20, 15, 16, 21, [1, Quantity(value=3.136889123867691, unit=radian), Quantity(value=120.0, unit=kilocalorie/mole), 5]), 9: (10, 15, 16, 21, [1, Quantity(value=0.0641983009537439, unit=radian), Quantity(value=120.0, unit=kilocalorie/mole), 4])}\n",
      "INFO:geometry:neglected angle terms include []\n",
      "INFO:geometry:log probability choice of torsions and atom order: -28.841710747300976\n",
      "INFO:geometry:creating platform, integrators, and contexts; setting growth parameter\n"
     ]
    },
    {
     "name": "stdout",
     "output_type": "stream",
     "text": [
      "conducting subsequent work with the following platform: CUDA\n"
     ]
    },
    {
     "name": "stderr",
     "output_type": "stream",
     "text": [
      "INFO:geometry:setting atoms_with_positions context new positions\n"
     ]
    },
    {
     "name": "stdout",
     "output_type": "stream",
     "text": [
      "conducting subsequent work with the following platform: CUDA\n"
     ]
    },
    {
     "name": "stderr",
     "output_type": "stream",
     "text": [
      "INFO:geometry:There are 18 new atoms\n",
      "INFO:geometry:\treduced angle potential = 0.5033609190373718.\n",
      "INFO:geometry:\treduced angle potential = 0.39762321385290245.\n",
      "INFO:geometry:\treduced angle potential = 0.011889195175307087.\n",
      "INFO:geometry:\treduced angle potential = 0.22617602318838184.\n",
      "INFO:geometry:\treduced angle potential = 0.06138329872570627.\n",
      "INFO:geometry:\treduced angle potential = 0.0086562567638374.\n",
      "INFO:geometry:\treduced angle potential = 0.01529366087699633.\n",
      "INFO:geometry:\treduced angle potential = 0.23208429140147427.\n",
      "INFO:geometry:\treduced angle potential = 0.6885022474539193.\n",
      "INFO:geometry:\treduced angle potential = 0.11017601484786446.\n",
      "INFO:geometry:\treduced angle potential = 0.00046248931475382203.\n",
      "INFO:geometry:\treduced angle potential = 0.05299550944073943.\n",
      "INFO:geometry:\treduced angle potential = 1.5857025270378367.\n",
      "INFO:geometry:\treduced angle potential = 0.8090722589089301.\n",
      "INFO:geometry:\treduced angle potential = 0.5815159438323497.\n",
      "INFO:geometry:\treduced angle potential = 0.323896917498525.\n",
      "INFO:geometry:\treduced angle potential = 0.0012817872932938616.\n",
      "INFO:geometry:\treduced angle potential = 0.28044946197818926.\n",
      "INFO:geometry:\tbeginning construction of no_nonbonded final system...\n",
      "INFO:geometry:\tinitial no-nonbonded final system forces ['HarmonicBondForce', 'HarmonicAngleForce', 'PeriodicTorsionForce', 'NonbondedForce']\n",
      "INFO:geometry:\tfinal no-nonbonded final system forces dict_keys(['HarmonicBondForce', 'HarmonicAngleForce', 'PeriodicTorsionForce', 'NonbondedForce'])\n",
      "INFO:geometry:\tthere are 20 bond forces in the no-nonbonded final system\n",
      "INFO:geometry:\tthere are 63 angle forces in the no-nonbonded final system\n",
      "INFO:geometry:\tthere are 99 torsion forces in the no-nonbonded final system\n",
      "INFO:geometry:forward final system defined with 0 neglected angles.\n"
     ]
    },
    {
     "name": "stdout",
     "output_type": "stream",
     "text": [
      "conducting subsequent work with the following platform: CUDA\n",
      "conducting subsequent work with the following platform: CUDA\n"
     ]
    },
    {
     "name": "stderr",
     "output_type": "stream",
     "text": [
      "INFO:geometry:total reduced potential before atom placement: 9.117927746118994\n"
     ]
    },
    {
     "name": "stdout",
     "output_type": "stream",
     "text": [
      "conducting subsequent work with the following platform: CUDA\n",
      "conducting subsequent work with the following platform: CUDA\n",
      "conducting subsequent work with the following platform: CUDA\n"
     ]
    },
    {
     "name": "stderr",
     "output_type": "stream",
     "text": [
      "INFO:geometry:total reduced energy added from growth system: 65.19054318590196\n",
      "INFO:geometry:final reduced energy 427.82599877996205\n",
      "INFO:geometry:sum of energies: 74.30847093202095\n",
      "INFO:geometry:magnitude of difference in the energies: 353.5175278479411\n",
      "INFO:geometry:Final logp_proposal: 124.61007976603871\n"
     ]
    },
    {
     "name": "stdout",
     "output_type": "stream",
     "text": [
      "added energy components: [('CustomBondForce', 8.483702520289038), ('CustomAngleForce', 14.843316836221288), ('CustomTorsionForce', 24.920505581059924), ('CustomBondForce', 16.9430182483317)]\n"
     ]
    },
    {
     "name": "stderr",
     "output_type": "stream",
     "text": [
      "INFO:geometry:logp_reverse: performing reverse proposal\n",
      "INFO:geometry:logp_reverse: unique new atoms detected; proceeding to _logp_propose...\n",
      "INFO:geometry:Conducting forward proposal...\n",
      "INFO:geometry:Computing proposal order with NetworkX...\n",
      "INFO:geometry:number of atoms to be placed: 14\n",
      "INFO:geometry:Atom index proposal order is [10, 15, 20, 16, 21, 19, 22, 24, 12, 11, 18, 23, 17, 25]\n",
      "INFO:geometry:omitted_bonds: [(19, 22)]\n",
      "INFO:geometry:direction of proposal is reverse; creating atoms_with_positions from old system/topology\n",
      "INFO:geometry:creating growth system...\n",
      "INFO:geometry:\tcreating bond force...\n",
      "INFO:geometry:\tthere are 16 bonds in reference force.\n",
      "INFO:geometry:\tcreating angle force...\n",
      "INFO:geometry:\tthere are 54 angles in reference force.\n",
      "INFO:geometry:\tcreating torsion force...\n",
      "INFO:geometry:\tcreating extra torsions force...\n",
      "INFO:geometry:\tthere are 82 torsions in reference force.\n",
      "INFO:geometry:\tcreating nonbonded force...\n",
      "INFO:geometry:\t\tgrabbing reference nonbonded method, cutoff, switching function, switching distance...\n",
      "INFO:geometry:\t\tcreating nonbonded exception force (i.e. custom bond for 1,4s)...\n",
      "INFO:geometry:\t\tlooping through exceptions calculating growth indices, and adding appropriate interactions to custom bond force.\n",
      "INFO:geometry:\t\tthere are 154 in the reference Nonbonded force\n",
      "WARNING:geometry:\t\t\t\t\tchiral atom <Atom 8 (CA) of chain 0 residue 1 (PHE)> with neighbors [<Atom 13 (C) of chain 0 residue 1 (PHE)>, <Atom 10 (CB) of chain 0 residue 1 (PHE)>, <Atom 9 (HA) of chain 0 residue 1 (PHE)>, <Atom 6 (N) of chain 0 residue 1 (PHE)>] is surrounded by 3 core neighbors.  omitting chirality bias torsion\n",
      "INFO:geometry:Neglected angle terms : []\n",
      "INFO:geometry:omitted_growth_terms: {'bonds': [(19, 22)], 'angles': [(19, 22, 21), (19, 22, 23), (20, 19, 22), (22, 19, 24)], 'torsions': [(15, 20, 19, 22), (16, 21, 22, 19), (18, 21, 22, 19), (20, 19, 22, 21), (20, 19, 22, 23), (21, 22, 19, 24), (22, 19, 20, 25), (23, 22, 19, 24), (21, 19, 22, 23)], '1,4s': [(16, 19), (18, 19), (20, 21), (15, 22), (20, 23), (21, 24), (23, 24), (22, 25)]}\n",
      "INFO:geometry:extra torsions: {0: (19, 20, 15, 10, [1, Quantity(value=-0.05926690747810337, unit=radian), Quantity(value=120.0, unit=kilocalorie/mole), 6]), 1: (19, 20, 15, 16, [1, Quantity(value=3.1352639058829186, unit=radian), Quantity(value=120.0, unit=kilocalorie/mole), 6]), 2: (20, 15, 16, 21, [1, Quantity(value=-3.12607014738776, unit=radian), Quantity(value=120.0, unit=kilocalorie/mole), 5]), 3: (10, 15, 16, 21, [1, Quantity(value=0.06780092444542918, unit=radian), Quantity(value=120.0, unit=kilocalorie/mole), 5]), 4: (15, 16, 21, 22, [1, Quantity(value=3.127339152139995, unit=radian), Quantity(value=120.0, unit=kilocalorie/mole), 7])}\n",
      "INFO:geometry:neglected angle terms include []\n",
      "INFO:geometry:log probability choice of torsions and atom order: -23.113807933284523\n",
      "INFO:geometry:creating platform, integrators, and contexts; setting growth parameter\n"
     ]
    },
    {
     "name": "stdout",
     "output_type": "stream",
     "text": [
      "conducting subsequent work with the following platform: CUDA\n"
     ]
    },
    {
     "name": "stderr",
     "output_type": "stream",
     "text": [
      "INFO:geometry:setting atoms_with_positions context old positions\n"
     ]
    },
    {
     "name": "stdout",
     "output_type": "stream",
     "text": [
      "conducting subsequent work with the following platform: CUDA\n"
     ]
    },
    {
     "name": "stderr",
     "output_type": "stream",
     "text": [
      "INFO:geometry:There are 14 new atoms\n",
      "INFO:geometry:\treduced angle potential = 0.5143232206796989.\n",
      "INFO:geometry:\treduced angle potential = 0.780982081586702.\n",
      "INFO:geometry:\treduced angle potential = 0.5693523117203431.\n",
      "INFO:geometry:\treduced angle potential = 3.255014654155605.\n",
      "INFO:geometry:\treduced angle potential = 0.017461732770040355.\n",
      "INFO:geometry:\treduced angle potential = 1.178821361353268.\n",
      "INFO:geometry:\treduced angle potential = 0.34019917599259797.\n",
      "INFO:geometry:\treduced angle potential = 2.2271814382407302.\n",
      "INFO:geometry:\treduced angle potential = 0.5400985478860547.\n",
      "INFO:geometry:\treduced angle potential = 0.04998619592784875.\n",
      "INFO:geometry:\treduced angle potential = 0.3160975909852325.\n",
      "INFO:geometry:\treduced angle potential = 0.7427108112054663.\n",
      "INFO:geometry:\treduced angle potential = 0.04319082679482863.\n",
      "INFO:geometry:\treduced angle potential = 0.17750458120215046.\n",
      "INFO:geometry:\tbeginning construction of no_nonbonded final system...\n",
      "INFO:geometry:\tinitial no-nonbonded final system forces ['HarmonicBondForce', 'HarmonicAngleForce', 'PeriodicTorsionForce', 'NonbondedForce']\n",
      "INFO:geometry:\tfinal no-nonbonded final system forces dict_keys(['HarmonicBondForce', 'HarmonicAngleForce', 'PeriodicTorsionForce', 'NonbondedForce'])\n",
      "INFO:geometry:\tthere are 16 bond forces in the no-nonbonded final system\n",
      "INFO:geometry:\tthere are 54 angle forces in the no-nonbonded final system\n",
      "INFO:geometry:\tthere are 82 torsion forces in the no-nonbonded final system\n",
      "INFO:geometry:reverse final system defined with 0 neglected angles.\n"
     ]
    },
    {
     "name": "stdout",
     "output_type": "stream",
     "text": [
      "conducting subsequent work with the following platform: CUDA\n",
      "conducting subsequent work with the following platform: CUDA\n"
     ]
    },
    {
     "name": "stderr",
     "output_type": "stream",
     "text": [
      "INFO:geometry:total reduced potential before atom placement: 9.117927746118994\n"
     ]
    },
    {
     "name": "stdout",
     "output_type": "stream",
     "text": [
      "conducting subsequent work with the following platform: CUDA\n",
      "conducting subsequent work with the following platform: CUDA\n",
      "conducting subsequent work with the following platform: CUDA\n"
     ]
    },
    {
     "name": "stderr",
     "output_type": "stream",
     "text": [
      "INFO:geometry:total reduced energy added from growth system: 51.36184447508143\n",
      "INFO:geometry:final reduced energy 100.52482615464295\n",
      "INFO:geometry:sum of energies: 60.47977222120043\n",
      "INFO:geometry:magnitude of difference in the energies: 40.045053933442524\n",
      "INFO:geometry:Final logp_proposal: 81.48492375207944\n"
     ]
    },
    {
     "name": "stdout",
     "output_type": "stream",
     "text": [
      "added energy components: [('CustomBondForce', 2.835895793403111), ('CustomAngleForce', 14.35513123683787), ('CustomTorsionForce', 16.25849596215747), ('CustomBondForce', 17.912321482682984)]\n"
     ]
    },
    {
     "name": "stderr",
     "output_type": "stream",
     "text": [
      "INFO:relative:Beginning nonbonded method, total particle, barostat, and exceptions retrieval...\n",
      "INFO:relative:Old system forces: dict_keys(['HarmonicBondForce', 'HarmonicAngleForce', 'PeriodicTorsionForce', 'NonbondedForce'])\n",
      "INFO:relative:New system forces: dict_keys(['HarmonicBondForce', 'HarmonicAngleForce', 'PeriodicTorsionForce', 'NonbondedForce'])\n",
      "INFO:relative:No unknown forces.\n",
      "INFO:relative:Nonbonded method to be used (i.e. from old system): 0\n",
      "INFO:relative:Adding and mapping old atoms to hybrid system...\n",
      "INFO:relative:Adding and mapping new atoms to hybrid system...\n",
      "INFO:relative:No MonteCarloBarostat added.\n",
      "INFO:relative:getDefaultPeriodicBoxVectors added to hybrid: [Quantity(value=Vec3(x=2.0, y=0.0, z=0.0), unit=nanometer), Quantity(value=Vec3(x=0.0, y=2.0, z=0.0), unit=nanometer), Quantity(value=Vec3(x=0.0, y=0.0, z=2.0), unit=nanometer)]\n",
      "INFO:relative:Determined atom classes.\n",
      "INFO:relative:Generating old system exceptions dict...\n",
      "INFO:relative:Generating new system exceptions dict...\n",
      "INFO:relative:Handling constraints...\n",
      "INFO:relative:Handling virtual sites...\n",
      "INFO:relative:\t_handle_virtual_sites: numVirtualSites: 0\n",
      "INFO:relative:Adding bond force terms...\n",
      "INFO:relative:Adding angle force terms...\n",
      "INFO:relative:Adding torsion force terms...\n",
      "INFO:relative:Adding nonbonded force terms...\n",
      "INFO:relative:\t_add_nonbonded_force_terms: <simtk.openmm.openmm.NonbondedForce; proxy of <Swig Object of type 'OpenMM::NonbondedForce *' at 0x2b8992fd9840> > added to hybrid system\n",
      "INFO:relative:\t_add_nonbonded_force_terms: nonbonded_method is NoCutoff\n",
      "INFO:relative:\t_add_nonbonded_force_terms: 0 added to standard nonbonded force\n",
      "INFO:relative:\t_add_nonbonded_force_terms: 0 added to sterics_custom_nonbonded force\n",
      "INFO:relative:\t_add_nonbonded_force_terms: <simtk.openmm.openmm.CustomNonbondedForce; proxy of <Swig Object of type 'OpenMM::CustomNonbondedForce *' at 0x2b8992fd9db0> > added to hybrid system\n",
      "INFO:relative:Handling harmonic bonds...\n",
      "INFO:relative:\thandle_harmonic_bonds: looping through old_system to add relevant terms...\n",
      "INFO:relative:\thandle_harmonic_bonds: looping through new_system to add relevant terms...\n",
      "INFO:relative:Handling harmonic angles...\n",
      "INFO:relative:\thandle_harmonic_angles: looping through old_system to add relevant terms...\n",
      "INFO:relative:\thandle_harmonic_angles: looping through new_system to add relevant terms...\n",
      "INFO:relative:Handling torsion forces...\n",
      "INFO:relative:\thandle_periodic_torsion_forces: looping through old_system to add relevant terms...\n",
      "INFO:relative:\thandle_periodic_torsion_forces: looping through new_system to add relevant terms...\n",
      "INFO:relative:Handling nonbonded forces...\n",
      "INFO:relative:\thandle_nonbonded: looping through all particles in hybrid...\n",
      "INFO:relative:\thandle_nonbonded: Handling Interaction Groups...\n",
      "INFO:relative:\thandle_nonbonded: Handling Hybrid Exceptions...\n",
      "INFO:relative:\thandle_nonbonded: Handling Original Exceptions...\n",
      "INFO:relative:Handling unique_new/old interaction exceptions...\n",
      "INFO:relative:There are old or new system exceptions...proceeding.\n"
     ]
    },
    {
     "name": "stdout",
     "output_type": "stream",
     "text": [
      "conducting subsequent work with the following platform: CUDA\n",
      "conducting subsequent work with the following platform: CUDA\n",
      "\t\t\tHarmonicBondForce: 25.33380021565877\n",
      "\t\t\tHarmonicAngleForce: 23.28724010352662\n",
      "\t\t\tPeriodicTorsionForce: 26.242785635405802\n",
      "\t\t\tNonbondedForce: -3.2957627364931033\n",
      "\t\t\tAndersenThermostat: 0.0\n",
      "conducting subsequent work with the following platform: CUDA\n",
      "\t\t\tCustomBondForce: 0.032667115844874646\n",
      "\t\t\tHarmonicBondForce: 120.41440724817608\n",
      "\t\t\tCustomAngleForce: 0.15998449156336095\n",
      "\t\t\tHarmonicAngleForce: 259.7433993559712\n",
      "\t\t\tCustomTorsionForce: 0.0\n",
      "\t\t\tPeriodicTorsionForce: 71.2613844676731\n",
      "\t\t\tNonbondedForce: 18.46636648797516\n",
      "\t\t\tCustomNonbondedForce: 20.19792640504699\n",
      "\t\t\tCustomBondForce: 0.0\n",
      "\t\t\tAndersenThermostat: 0.0\n",
      "conducting subsequent work with the following platform: CUDA\n",
      "\t\t\tCustomBondForce: 0.032667115844874646\n",
      "\t\t\tHarmonicBondForce: 120.41440724817608\n",
      "\t\t\tCustomAngleForce: 0.15998449156336095\n",
      "\t\t\tHarmonicAngleForce: 259.7433993559712\n",
      "\t\t\tCustomTorsionForce: 0.0\n",
      "\t\t\tPeriodicTorsionForce: 71.2613844676731\n",
      "\t\t\tNonbondedForce: 44.894659500447375\n",
      "\t\t\tCustomNonbondedForce: 17724196.200941697\n",
      "\t\t\tCustomBondForce: 0.0\n",
      "\t\t\tAndersenThermostat: 0.0\n",
      "conducting subsequent work with the following platform: CUDA\n"
     ]
    },
    {
     "name": "stderr",
     "output_type": "stream",
     "text": [
      "WARNING:root:Reduced potential difference of the nonalchemical and alchemical Lambda = 1 state is above the threshold (0.01): 2.056439217784245\n",
      "INFO:proposal_generator:\tConducting polymer point mutation proposal...\n",
      "INFO:proposal_generator:Using matching_criterion to chose best atom map\n",
      "INFO:proposal_generator:Scaffold has symmetry of 0\n",
      "WARNING:proposal_generator:Two molecules are not similar to have a common scaffold\n",
      "WARNING:proposal_generator:Proceeding with direct mapping of molecules, but please check atom mapping and the geometry of the ligands.\n",
      "INFO:proposal_generator:len [{4: 4, 5: 5, 6: 6, 7: 7, 10: 8, 9: 9, 12: 10, 16: 13, 17: 14, 18: 15, 19: 17, 20: 18, 22: 19}, {4: 4, 5: 5, 7: 6, 6: 7, 9: 8, 10: 9, 12: 10, 16: 13, 17: 14, 18: 16, 20: 17, 19: 18, 22: 19}, {4: 4, 5: 5, 6: 6, 7: 7, 13: 8, 9: 9, 12: 10, 16: 13, 17: 14, 18: 15, 23: 17, 20: 18, 22: 19}, {4: 4, 5: 5, 7: 6, 11: 7, 9: 8, 13: 9, 12: 10, 16: 13, 17: 14, 21: 16, 20: 17, 23: 18, 22: 19}, {4: 4, 5: 5, 6: 6, 13: 7, 10: 8, 11: 9, 8: 10, 16: 13, 17: 14, 18: 15, 23: 16, 19: 17, 21: 18}, {4: 4, 5: 5, 11: 6, 7: 7, 13: 8, 9: 9, 12: 10, 16: 13, 17: 14, 21: 15, 23: 17, 20: 18, 22: 19}, {4: 4, 5: 5, 13: 6, 6: 7, 11: 8, 10: 9, 8: 10, 16: 13, 17: 14, 23: 15, 18: 16, 21: 17, 19: 18}, {4: 4, 5: 5, 7: 6, 6: 7, 9: 8, 13: 9, 12: 10, 17: 13, 16: 14, 18: 16, 20: 17, 23: 18, 22: 19}, {7: 5, 8: 6, 9: 7, 11: 8, 12: 9, 13: 10, 20: 16, 21: 17, 22: 18, 23: 19}, {7: 5, 9: 6, 8: 7, 12: 8, 11: 9, 13: 10, 20: 15, 22: 17, 21: 18, 23: 19}]\n",
      "INFO:proposal_generator:{4: 4, 5: 5, 6: 6, 7: 7, 10: 8, 9: 9, 12: 10, 16: 13, 17: 14, 18: 15, 19: 17, 20: 18, 22: 19}\n",
      "INFO:proposal_generator:{4: 4, 5: 5, 7: 6, 6: 7, 9: 8, 10: 9, 12: 10, 16: 13, 17: 14, 18: 16, 20: 17, 19: 18, 22: 19}\n",
      "INFO:proposal_generator:{4: 4, 5: 5, 6: 6, 7: 7, 13: 8, 9: 9, 12: 10, 16: 13, 17: 14, 18: 15, 23: 17, 20: 18, 22: 19}\n",
      "INFO:proposal_generator:{4: 4, 5: 5, 7: 6, 11: 7, 9: 8, 13: 9, 12: 10, 16: 13, 17: 14, 21: 16, 20: 17, 23: 18, 22: 19}\n",
      "INFO:proposal_generator:{4: 4, 5: 5, 6: 6, 13: 7, 10: 8, 11: 9, 8: 10, 16: 13, 17: 14, 18: 15, 23: 16, 19: 17, 21: 18}\n",
      "INFO:proposal_generator:{4: 4, 5: 5, 11: 6, 7: 7, 13: 8, 9: 9, 12: 10, 16: 13, 17: 14, 21: 15, 23: 17, 20: 18, 22: 19}\n",
      "INFO:proposal_generator:{4: 4, 5: 5, 13: 6, 6: 7, 11: 8, 10: 9, 8: 10, 16: 13, 17: 14, 23: 15, 18: 16, 21: 17, 19: 18}\n",
      "INFO:proposal_generator:{4: 4, 5: 5, 7: 6, 6: 7, 9: 8, 13: 9, 12: 10, 17: 13, 16: 14, 18: 16, 20: 17, 23: 18, 22: 19}\n",
      "INFO:proposal_generator:{7: 5, 8: 6, 9: 7, 11: 8, 12: 9, 13: 10, 20: 16, 21: 17, 22: 18, 23: 19}\n",
      "INFO:proposal_generator:{7: 5, 9: 6, 8: 7, 12: 8, 11: 9, 13: 10, 20: 15, 22: 17, 21: 18, 23: 19}\n",
      "INFO:proposal_generator:4\n",
      "INFO:proposal_generator:4\n",
      "INFO:proposal_generator:3\n",
      "INFO:proposal_generator:2\n",
      "INFO:proposal_generator:4\n",
      "INFO:proposal_generator:2\n",
      "INFO:proposal_generator:4\n",
      "INFO:proposal_generator:3\n",
      "INFO:proposal_generator:2\n",
      "INFO:proposal_generator:2\n",
      "INFO:proposal_generator:Checking maps to see if they break rings\n",
      "WARNING:proposal_generator:No maps found. Try relaxing match criteria or setting allow_ring_breaking to True\n"
     ]
    },
    {
     "name": "stdout",
     "output_type": "stream",
     "text": [
      "\t\t\tHarmonicBondForce: 95.14594126420708\n",
      "\t\t\tHarmonicAngleForce: 236.7761282355713\n",
      "\t\t\tPeriodicTorsionForce: 53.943874970978044\n",
      "\t\t\tNonbondedForce: 17724213.378161773\n",
      "\t\t\tAndersenThermostat: 0.0\n"
     ]
    },
    {
     "name": "stderr",
     "output_type": "stream",
     "text": [
      "INFO:geometry:propose: performing forward proposal\n",
      "INFO:geometry:propose: unique new atoms detected; proceeding to _logp_propose...\n",
      "INFO:geometry:Conducting forward proposal...\n",
      "INFO:geometry:Computing proposal order with NetworkX...\n",
      "INFO:geometry:number of atoms to be placed: 18\n",
      "INFO:geometry:Atom index proposal order is [10, 15, 16, 21, 20, 19, 28, 22, 26, 24, 11, 27, 25, 29, 18, 23, 17, 12]\n",
      "INFO:geometry:omitted_bonds: [(19, 21), (24, 26)]\n",
      "INFO:geometry:direction of proposal is forward; creating atoms_with_positions and new positions from old system/topology...\n",
      "INFO:geometry:creating growth system...\n",
      "INFO:geometry:\tcreating bond force...\n",
      "INFO:geometry:\tthere are 20 bonds in reference force.\n",
      "INFO:geometry:\tcreating angle force...\n",
      "INFO:geometry:\tthere are 63 angles in reference force.\n",
      "INFO:geometry:\tcreating torsion force...\n",
      "INFO:geometry:\tcreating extra torsions force...\n",
      "INFO:geometry:\tthere are 99 torsions in reference force.\n",
      "INFO:geometry:\tcreating nonbonded force...\n",
      "INFO:geometry:\t\tgrabbing reference nonbonded method, cutoff, switching function, switching distance...\n",
      "INFO:geometry:\t\tcreating nonbonded exception force (i.e. custom bond for 1,4s)...\n",
      "INFO:geometry:\t\tlooping through exceptions calculating growth indices, and adding appropriate interactions to custom bond force.\n",
      "INFO:geometry:\t\tthere are 179 in the reference Nonbonded force\n",
      "WARNING:geometry:\t\t\t\t\tchiral atom <Atom 8 (CA) of chain 0 residue 1 (TRP)> with neighbors [<Atom 13 (C) of chain 0 residue 1 (TRP)>, <Atom 10 (CB) of chain 0 residue 1 (TRP)>, <Atom 9 (HA) of chain 0 residue 1 (TRP)>, <Atom 6 (N) of chain 0 residue 1 (TRP)>] is surrounded by 3 core neighbors.  omitting chirality bias torsion\n",
      "INFO:geometry:Neglected angle terms : []\n",
      "INFO:geometry:omitted_growth_terms: {'bonds': [(21, 19), (24, 26)], 'angles': [(16, 21, 19), (18, 21, 19), (20, 19, 21), (21, 19, 22), (22, 24, 26), (24, 26, 27), (24, 26, 28), (25, 24, 26)], 'torsions': [(15, 16, 21, 19), (15, 20, 19, 21), (16, 21, 19, 20), (16, 21, 19, 22), (17, 16, 21, 19), (18, 21, 19, 20), (18, 21, 19, 22), (19, 22, 24, 26), (20, 28, 26, 24), (21, 19, 20, 28), (21, 19, 22, 23), (21, 19, 22, 24), (22, 24, 26, 27), (22, 24, 26, 28), (23, 22, 24, 26), (24, 26, 28, 29), (25, 24, 26, 27), (25, 24, 26, 28), (16, 19, 21, 18), (22, 26, 24, 25)], '1,4s': [(17, 19), (18, 20), (16, 22), (18, 22), (21, 23), (20, 24), (21, 24), (19, 26), (23, 26), (22, 27), (25, 27), (21, 28), (22, 28), (25, 28), (24, 29)]}\n",
      "INFO:geometry:extra torsions: {0: (26, 28, 20, 19, [1, Quantity(value=-3.1265909424201266, unit=radian), Quantity(value=120.0, unit=kilocalorie/mole), 9]), 1: (26, 28, 20, 15, [1, Quantity(value=-0.012838658132400482, unit=radian), Quantity(value=120.0, unit=kilocalorie/mole), 9]), 2: (24, 22, 19, 20, [1, Quantity(value=3.1385049563053675, unit=radian), Quantity(value=120.0, unit=kilocalorie/mole), 10]), 3: (28, 20, 19, 22, [1, Quantity(value=3.1321649810181924, unit=radian), Quantity(value=120.0, unit=kilocalorie/mole), 8]), 4: (15, 20, 19, 22, [1, Quantity(value=0.012459359827764693, unit=radian), Quantity(value=120.0, unit=kilocalorie/mole), 8]), 5: (28, 20, 15, 10, [1, Quantity(value=3.098801337800155, unit=radian), Quantity(value=120.0, unit=kilocalorie/mole), 7]), 6: (28, 20, 15, 16, [1, Quantity(value=0.028527523890103268, unit=radian), Quantity(value=120.0, unit=kilocalorie/mole), 7]), 7: (19, 20, 15, 10, [1, Quantity(value=-0.06796819092235573, unit=radian), Quantity(value=120.0, unit=kilocalorie/mole), 6]), 8: (19, 20, 15, 16, [1, Quantity(value=-3.1382420048323967, unit=radian), Quantity(value=120.0, unit=kilocalorie/mole), 6]), 9: (20, 15, 16, 21, [1, Quantity(value=3.136889123867691, unit=radian), Quantity(value=120.0, unit=kilocalorie/mole), 5]), 10: (10, 15, 16, 21, [1, Quantity(value=0.0641983009537439, unit=radian), Quantity(value=120.0, unit=kilocalorie/mole), 4])}\n",
      "INFO:geometry:neglected angle terms include []\n",
      "INFO:geometry:log probability choice of torsions and atom order: -30.435400302766936\n",
      "INFO:geometry:creating platform, integrators, and contexts; setting growth parameter\n"
     ]
    },
    {
     "name": "stdout",
     "output_type": "stream",
     "text": [
      "conducting subsequent work with the following platform: CUDA\n"
     ]
    },
    {
     "name": "stderr",
     "output_type": "stream",
     "text": [
      "INFO:geometry:setting atoms_with_positions context new positions\n"
     ]
    },
    {
     "name": "stdout",
     "output_type": "stream",
     "text": [
      "conducting subsequent work with the following platform: CUDA\n"
     ]
    },
    {
     "name": "stderr",
     "output_type": "stream",
     "text": [
      "INFO:geometry:There are 18 new atoms\n",
      "INFO:geometry:\treduced angle potential = 0.1561981183444993.\n",
      "INFO:geometry:\treduced angle potential = 0.07307131933963786.\n",
      "INFO:geometry:\treduced angle potential = 0.9249660041903359.\n",
      "INFO:geometry:\treduced angle potential = 0.07542705511981354.\n",
      "INFO:geometry:\treduced angle potential = 0.9933294831988828.\n",
      "INFO:geometry:\treduced angle potential = 0.0009104911936534846.\n",
      "INFO:geometry:\treduced angle potential = 2.4839493352607613.\n",
      "INFO:geometry:\treduced angle potential = 0.007340016218155925.\n",
      "INFO:geometry:\treduced angle potential = 0.39758342483616843.\n",
      "INFO:geometry:\treduced angle potential = 0.11039755454227683.\n",
      "INFO:geometry:\treduced angle potential = 0.09944168137477913.\n",
      "INFO:geometry:\treduced angle potential = 0.00010094651798713481.\n",
      "INFO:geometry:\treduced angle potential = 1.3499681064450475.\n",
      "INFO:geometry:\treduced angle potential = 0.5098052086276261.\n",
      "INFO:geometry:\treduced angle potential = 0.9857918358890191.\n",
      "INFO:geometry:\treduced angle potential = 0.05181442788279304.\n",
      "INFO:geometry:\treduced angle potential = 0.0023607357232437974.\n",
      "INFO:geometry:\treduced angle potential = 0.026974917855607704.\n",
      "INFO:geometry:\tbeginning construction of no_nonbonded final system...\n",
      "INFO:geometry:\tinitial no-nonbonded final system forces ['HarmonicBondForce', 'HarmonicAngleForce', 'PeriodicTorsionForce', 'NonbondedForce']\n",
      "INFO:geometry:\tfinal no-nonbonded final system forces dict_keys(['HarmonicBondForce', 'HarmonicAngleForce', 'PeriodicTorsionForce', 'NonbondedForce'])\n",
      "INFO:geometry:\tthere are 20 bond forces in the no-nonbonded final system\n",
      "INFO:geometry:\tthere are 63 angle forces in the no-nonbonded final system\n",
      "INFO:geometry:\tthere are 99 torsion forces in the no-nonbonded final system\n",
      "INFO:geometry:forward final system defined with 0 neglected angles.\n"
     ]
    },
    {
     "name": "stdout",
     "output_type": "stream",
     "text": [
      "conducting subsequent work with the following platform: CUDA\n",
      "conducting subsequent work with the following platform: CUDA\n"
     ]
    },
    {
     "name": "stderr",
     "output_type": "stream",
     "text": [
      "INFO:geometry:total reduced potential before atom placement: 9.117927746118994\n"
     ]
    },
    {
     "name": "stdout",
     "output_type": "stream",
     "text": [
      "conducting subsequent work with the following platform: CUDA\n",
      "conducting subsequent work with the following platform: CUDA\n",
      "conducting subsequent work with the following platform: CUDA\n"
     ]
    },
    {
     "name": "stderr",
     "output_type": "stream",
     "text": [
      "INFO:geometry:total reduced energy added from growth system: 77.24063835044967\n",
      "INFO:geometry:final reduced energy 177.136945660771\n",
      "INFO:geometry:sum of energies: 86.35856609656867\n",
      "INFO:geometry:magnitude of difference in the energies: 90.77837956420234\n",
      "INFO:geometry:Final logp_proposal: 126.74689152823396\n"
     ]
    },
    {
     "name": "stdout",
     "output_type": "stream",
     "text": [
      "added energy components: [('CustomBondForce', 4.01271141779803), ('CustomAngleForce', 16.620585694248174), ('CustomTorsionForce', 21.694599822241216), ('CustomBondForce', 34.91274141616225)]\n"
     ]
    },
    {
     "name": "stderr",
     "output_type": "stream",
     "text": [
      "INFO:geometry:logp_reverse: performing reverse proposal\n",
      "INFO:geometry:logp_reverse: unique new atoms detected; proceeding to _logp_propose...\n",
      "INFO:geometry:Conducting forward proposal...\n",
      "INFO:geometry:Computing proposal order with NetworkX...\n",
      "INFO:geometry:number of atoms to be placed: 14\n",
      "INFO:geometry:Atom index proposal order is [10, 15, 20, 19, 16, 21, 22, 23, 18, 17, 24, 25, 11, 12]\n",
      "INFO:geometry:omitted_bonds: [(19, 22)]\n",
      "INFO:geometry:direction of proposal is reverse; creating atoms_with_positions from old system/topology\n",
      "INFO:geometry:creating growth system...\n",
      "INFO:geometry:\tcreating bond force...\n",
      "INFO:geometry:\tthere are 16 bonds in reference force.\n",
      "INFO:geometry:\tcreating angle force...\n",
      "INFO:geometry:\tthere are 54 angles in reference force.\n",
      "INFO:geometry:\tcreating torsion force...\n",
      "INFO:geometry:\tcreating extra torsions force...\n",
      "INFO:geometry:\tthere are 82 torsions in reference force.\n",
      "INFO:geometry:\tcreating nonbonded force...\n",
      "INFO:geometry:\t\tgrabbing reference nonbonded method, cutoff, switching function, switching distance...\n",
      "INFO:geometry:\t\tcreating nonbonded exception force (i.e. custom bond for 1,4s)...\n",
      "INFO:geometry:\t\tlooping through exceptions calculating growth indices, and adding appropriate interactions to custom bond force.\n",
      "INFO:geometry:\t\tthere are 154 in the reference Nonbonded force\n",
      "WARNING:geometry:\t\t\t\t\tchiral atom <Atom 8 (CA) of chain 0 residue 1 (PHE)> with neighbors [<Atom 13 (C) of chain 0 residue 1 (PHE)>, <Atom 10 (CB) of chain 0 residue 1 (PHE)>, <Atom 9 (HA) of chain 0 residue 1 (PHE)>, <Atom 6 (N) of chain 0 residue 1 (PHE)>] is surrounded by 3 core neighbors.  omitting chirality bias torsion\n",
      "INFO:geometry:Neglected angle terms : []\n",
      "INFO:geometry:omitted_growth_terms: {'bonds': [(19, 22)], 'angles': [(19, 22, 21), (19, 22, 23), (20, 19, 22), (22, 19, 24)], 'torsions': [(15, 20, 19, 22), (16, 21, 22, 19), (18, 21, 22, 19), (20, 19, 22, 21), (20, 19, 22, 23), (21, 22, 19, 24), (22, 19, 20, 25), (23, 22, 19, 24), (21, 19, 22, 23)], '1,4s': [(16, 19), (18, 19), (20, 21), (15, 22), (20, 23), (21, 24), (23, 24), (22, 25)]}\n",
      "INFO:geometry:extra torsions: {0: (19, 20, 15, 10, [1, Quantity(value=-0.05926690747810337, unit=radian), Quantity(value=120.0, unit=kilocalorie/mole), 4]), 1: (19, 20, 15, 16, [1, Quantity(value=3.1352639058829186, unit=radian), Quantity(value=120.0, unit=kilocalorie/mole), 5]), 2: (20, 15, 16, 21, [1, Quantity(value=-3.12607014738776, unit=radian), Quantity(value=120.0, unit=kilocalorie/mole), 6]), 3: (10, 15, 16, 21, [1, Quantity(value=0.06780092444542918, unit=radian), Quantity(value=120.0, unit=kilocalorie/mole), 6]), 4: (15, 16, 21, 22, [1, Quantity(value=3.127339152139995, unit=radian), Quantity(value=120.0, unit=kilocalorie/mole), 7])}\n",
      "INFO:geometry:neglected angle terms include []\n",
      "INFO:geometry:log probability choice of torsions and atom order: -22.372687248461702\n",
      "INFO:geometry:creating platform, integrators, and contexts; setting growth parameter\n"
     ]
    },
    {
     "name": "stdout",
     "output_type": "stream",
     "text": [
      "conducting subsequent work with the following platform: CUDA\n"
     ]
    },
    {
     "name": "stderr",
     "output_type": "stream",
     "text": [
      "INFO:geometry:setting atoms_with_positions context old positions\n"
     ]
    },
    {
     "name": "stdout",
     "output_type": "stream",
     "text": [
      "conducting subsequent work with the following platform: CUDA\n"
     ]
    },
    {
     "name": "stderr",
     "output_type": "stream",
     "text": [
      "INFO:geometry:There are 14 new atoms\n",
      "INFO:geometry:\treduced angle potential = 2.5717830606743677.\n",
      "INFO:geometry:\treduced angle potential = 0.780982081586702.\n",
      "INFO:geometry:\treduced angle potential = 0.5693523117203431.\n",
      "INFO:geometry:\treduced angle potential = 1.178821361353268.\n",
      "INFO:geometry:\treduced angle potential = 3.255014654155605.\n",
      "INFO:geometry:\treduced angle potential = 0.017461732770040355.\n",
      "INFO:geometry:\treduced angle potential = 0.34019917599259797.\n",
      "INFO:geometry:\treduced angle potential = 0.7427108112054663.\n",
      "INFO:geometry:\treduced angle potential = 0.005526919388444234.\n",
      "INFO:geometry:\treduced angle potential = 0.10133787526347242.\n",
      "INFO:geometry:\treduced angle potential = 0.07797685070563411.\n",
      "INFO:geometry:\treduced angle potential = 0.3023975257756509.\n",
      "INFO:geometry:\treduced angle potential = 0.04998619592784875.\n",
      "INFO:geometry:\treduced angle potential = 0.6570579396240711.\n",
      "INFO:geometry:\tbeginning construction of no_nonbonded final system...\n",
      "INFO:geometry:\tinitial no-nonbonded final system forces ['HarmonicBondForce', 'HarmonicAngleForce', 'PeriodicTorsionForce', 'NonbondedForce']\n",
      "INFO:geometry:\tfinal no-nonbonded final system forces dict_keys(['HarmonicBondForce', 'HarmonicAngleForce', 'PeriodicTorsionForce', 'NonbondedForce'])\n",
      "INFO:geometry:\tthere are 16 bond forces in the no-nonbonded final system\n",
      "INFO:geometry:\tthere are 54 angle forces in the no-nonbonded final system\n",
      "INFO:geometry:\tthere are 82 torsion forces in the no-nonbonded final system\n",
      "INFO:geometry:reverse final system defined with 0 neglected angles.\n"
     ]
    },
    {
     "name": "stdout",
     "output_type": "stream",
     "text": [
      "conducting subsequent work with the following platform: CUDA\n",
      "conducting subsequent work with the following platform: CUDA\n"
     ]
    },
    {
     "name": "stderr",
     "output_type": "stream",
     "text": [
      "INFO:geometry:total reduced potential before atom placement: 9.117927746118994\n"
     ]
    },
    {
     "name": "stdout",
     "output_type": "stream",
     "text": [
      "conducting subsequent work with the following platform: CUDA\n",
      "conducting subsequent work with the following platform: CUDA\n",
      "conducting subsequent work with the following platform: CUDA\n"
     ]
    },
    {
     "name": "stderr",
     "output_type": "stream",
     "text": [
      "INFO:geometry:total reduced energy added from growth system: 51.36184447508143\n",
      "INFO:geometry:final reduced energy 100.52482615464295\n",
      "INFO:geometry:sum of energies: 60.47977222120043\n",
      "INFO:geometry:magnitude of difference in the energies: 40.045053933442524\n",
      "INFO:geometry:Final logp_proposal: 91.48454232018062\n"
     ]
    },
    {
     "name": "stdout",
     "output_type": "stream",
     "text": [
      "added energy components: [('CustomBondForce', 2.835895793403111), ('CustomAngleForce', 14.35513123683787), ('CustomTorsionForce', 16.25849596215747), ('CustomBondForce', 17.912321482682984)]\n"
     ]
    },
    {
     "name": "stderr",
     "output_type": "stream",
     "text": [
      "INFO:relative:Beginning nonbonded method, total particle, barostat, and exceptions retrieval...\n",
      "INFO:relative:Old system forces: dict_keys(['HarmonicBondForce', 'HarmonicAngleForce', 'PeriodicTorsionForce', 'NonbondedForce'])\n",
      "INFO:relative:New system forces: dict_keys(['HarmonicBondForce', 'HarmonicAngleForce', 'PeriodicTorsionForce', 'NonbondedForce'])\n",
      "INFO:relative:No unknown forces.\n",
      "INFO:relative:Nonbonded method to be used (i.e. from old system): 0\n",
      "INFO:relative:Adding and mapping old atoms to hybrid system...\n",
      "INFO:relative:Adding and mapping new atoms to hybrid system...\n",
      "INFO:relative:No MonteCarloBarostat added.\n",
      "INFO:relative:getDefaultPeriodicBoxVectors added to hybrid: [Quantity(value=Vec3(x=2.0, y=0.0, z=0.0), unit=nanometer), Quantity(value=Vec3(x=0.0, y=2.0, z=0.0), unit=nanometer), Quantity(value=Vec3(x=0.0, y=0.0, z=2.0), unit=nanometer)]\n",
      "INFO:relative:Determined atom classes.\n",
      "INFO:relative:Generating old system exceptions dict...\n",
      "INFO:relative:Generating new system exceptions dict...\n",
      "INFO:relative:Handling constraints...\n",
      "INFO:relative:Handling virtual sites...\n",
      "INFO:relative:\t_handle_virtual_sites: numVirtualSites: 0\n",
      "INFO:relative:Adding bond force terms...\n",
      "INFO:relative:Adding angle force terms...\n",
      "INFO:relative:Adding torsion force terms...\n",
      "INFO:relative:Adding nonbonded force terms...\n",
      "INFO:relative:\t_add_nonbonded_force_terms: <simtk.openmm.openmm.NonbondedForce; proxy of <Swig Object of type 'OpenMM::NonbondedForce *' at 0x2b8992fd9f30> > added to hybrid system\n",
      "INFO:relative:\t_add_nonbonded_force_terms: nonbonded_method is NoCutoff\n",
      "INFO:relative:\t_add_nonbonded_force_terms: 0 added to standard nonbonded force\n",
      "INFO:relative:\t_add_nonbonded_force_terms: 0 added to sterics_custom_nonbonded force\n",
      "INFO:relative:\t_add_nonbonded_force_terms: <simtk.openmm.openmm.CustomNonbondedForce; proxy of <Swig Object of type 'OpenMM::CustomNonbondedForce *' at 0x2b8992fd98d0> > added to hybrid system\n",
      "INFO:relative:Handling harmonic bonds...\n",
      "INFO:relative:\thandle_harmonic_bonds: looping through old_system to add relevant terms...\n",
      "INFO:relative:\thandle_harmonic_bonds: looping through new_system to add relevant terms...\n",
      "INFO:relative:Handling harmonic angles...\n",
      "INFO:relative:\thandle_harmonic_angles: looping through old_system to add relevant terms...\n",
      "INFO:relative:\thandle_harmonic_angles: looping through new_system to add relevant terms...\n",
      "INFO:relative:Handling torsion forces...\n",
      "INFO:relative:\thandle_periodic_torsion_forces: looping through old_system to add relevant terms...\n",
      "INFO:relative:\thandle_periodic_torsion_forces: looping through new_system to add relevant terms...\n",
      "INFO:relative:Handling nonbonded forces...\n",
      "INFO:relative:\thandle_nonbonded: looping through all particles in hybrid...\n",
      "INFO:relative:\thandle_nonbonded: Handling Interaction Groups...\n",
      "INFO:relative:\thandle_nonbonded: Handling Hybrid Exceptions...\n",
      "INFO:relative:\thandle_nonbonded: Handling Original Exceptions...\n",
      "INFO:relative:Handling unique_new/old interaction exceptions...\n",
      "INFO:relative:There are old or new system exceptions...proceeding.\n"
     ]
    },
    {
     "name": "stdout",
     "output_type": "stream",
     "text": [
      "conducting subsequent work with the following platform: CUDA\n",
      "conducting subsequent work with the following platform: CUDA\n",
      "\t\t\tHarmonicBondForce: 25.33380021565877\n",
      "\t\t\tHarmonicAngleForce: 23.28724010352662\n",
      "\t\t\tPeriodicTorsionForce: 26.242785635405802\n",
      "\t\t\tNonbondedForce: -3.2957627364931033\n",
      "\t\t\tAndersenThermostat: 0.0\n",
      "conducting subsequent work with the following platform: CUDA\n",
      "\t\t\tCustomBondForce: 0.032667115844874646\n",
      "\t\t\tHarmonicBondForce: 107.10482118767874\n",
      "\t\t\tCustomAngleForce: 0.15998449156336095\n",
      "\t\t\tHarmonicAngleForce: 43.66913500017027\n",
      "\t\t\tCustomTorsionForce: 0.0\n",
      "\t\t\tPeriodicTorsionForce: 55.570402126537225\n",
      "\t\t\tNonbondedForce: 12.852146126218214\n",
      "\t\t\tCustomNonbondedForce: 20.19792640504699\n",
      "\t\t\tCustomBondForce: 0.0\n",
      "\t\t\tAndersenThermostat: 0.0\n",
      "conducting subsequent work with the following platform: CUDA\n",
      "\t\t\tCustomBondForce: 0.032667115844874646\n",
      "\t\t\tHarmonicBondForce: 107.10482118767874\n",
      "\t\t\tCustomAngleForce: 0.15998449156336095\n",
      "\t\t\tHarmonicAngleForce: 43.66913500017027\n",
      "\t\t\tCustomTorsionForce: 0.0\n",
      "\t\t\tPeriodicTorsionForce: 55.570402126537225\n",
      "\t\t\tNonbondedForce: -11.13575402425678\n",
      "\t\t\tCustomNonbondedForce: 43.691319526493466\n",
      "\t\t\tCustomBondForce: 0.0\n",
      "\t\t\tAndersenThermostat: 0.0\n",
      "conducting subsequent work with the following platform: CUDA\n"
     ]
    },
    {
     "name": "stderr",
     "output_type": "stream",
     "text": [
      "INFO:proposal_generator:\tConducting polymer point mutation proposal...\n",
      "INFO:proposal_generator:Using matching_criterion to chose best atom map\n",
      "INFO:proposal_generator:Scaffold has symmetry of 0\n",
      "WARNING:proposal_generator:Two molecules are not similar to have a common scaffold\n",
      "WARNING:proposal_generator:Proceeding with direct mapping of molecules, but please check atom mapping and the geometry of the ligands.\n",
      "INFO:proposal_generator:len [{4: 4, 5: 5, 6: 6, 7: 7, 10: 8, 9: 9, 12: 10, 16: 13, 17: 14, 18: 15, 19: 17, 20: 18, 22: 19}, {4: 4, 5: 5, 7: 6, 6: 7, 9: 8, 10: 9, 12: 10, 16: 13, 17: 14, 18: 16, 20: 17, 19: 18, 22: 19}, {4: 4, 5: 5, 6: 6, 7: 7, 13: 8, 9: 9, 12: 10, 16: 13, 17: 14, 18: 15, 23: 17, 20: 18, 22: 19}, {4: 4, 5: 5, 7: 6, 11: 7, 9: 8, 13: 9, 12: 10, 16: 13, 17: 14, 21: 16, 20: 17, 23: 18, 22: 19}, {4: 4, 5: 5, 6: 6, 13: 7, 10: 8, 11: 9, 8: 10, 16: 13, 17: 14, 18: 15, 23: 16, 19: 17, 21: 18}, {4: 4, 5: 5, 11: 6, 7: 7, 13: 8, 9: 9, 12: 10, 16: 13, 17: 14, 21: 15, 23: 17, 20: 18, 22: 19}, {4: 4, 5: 5, 13: 6, 6: 7, 11: 8, 10: 9, 8: 10, 16: 13, 17: 14, 23: 15, 18: 16, 21: 17, 19: 18}, {4: 4, 5: 5, 7: 6, 6: 7, 9: 8, 13: 9, 12: 10, 17: 13, 16: 14, 18: 16, 20: 17, 23: 18, 22: 19}, {7: 5, 8: 6, 9: 7, 11: 8, 12: 9, 13: 10, 20: 16, 21: 17, 22: 18, 23: 19}, {7: 5, 9: 6, 8: 7, 12: 8, 11: 9, 13: 10, 20: 15, 22: 17, 21: 18, 23: 19}]\n",
      "INFO:proposal_generator:{4: 4, 5: 5, 6: 6, 7: 7, 10: 8, 9: 9, 12: 10, 16: 13, 17: 14, 18: 15, 19: 17, 20: 18, 22: 19}\n",
      "INFO:proposal_generator:{4: 4, 5: 5, 7: 6, 6: 7, 9: 8, 10: 9, 12: 10, 16: 13, 17: 14, 18: 16, 20: 17, 19: 18, 22: 19}\n",
      "INFO:proposal_generator:{4: 4, 5: 5, 6: 6, 7: 7, 13: 8, 9: 9, 12: 10, 16: 13, 17: 14, 18: 15, 23: 17, 20: 18, 22: 19}\n",
      "INFO:proposal_generator:{4: 4, 5: 5, 7: 6, 11: 7, 9: 8, 13: 9, 12: 10, 16: 13, 17: 14, 21: 16, 20: 17, 23: 18, 22: 19}\n",
      "INFO:proposal_generator:{4: 4, 5: 5, 6: 6, 13: 7, 10: 8, 11: 9, 8: 10, 16: 13, 17: 14, 18: 15, 23: 16, 19: 17, 21: 18}\n",
      "INFO:proposal_generator:{4: 4, 5: 5, 11: 6, 7: 7, 13: 8, 9: 9, 12: 10, 16: 13, 17: 14, 21: 15, 23: 17, 20: 18, 22: 19}\n",
      "INFO:proposal_generator:{4: 4, 5: 5, 13: 6, 6: 7, 11: 8, 10: 9, 8: 10, 16: 13, 17: 14, 23: 15, 18: 16, 21: 17, 19: 18}\n",
      "INFO:proposal_generator:{4: 4, 5: 5, 7: 6, 6: 7, 9: 8, 13: 9, 12: 10, 17: 13, 16: 14, 18: 16, 20: 17, 23: 18, 22: 19}\n",
      "INFO:proposal_generator:{7: 5, 8: 6, 9: 7, 11: 8, 12: 9, 13: 10, 20: 16, 21: 17, 22: 18, 23: 19}\n",
      "INFO:proposal_generator:{7: 5, 9: 6, 8: 7, 12: 8, 11: 9, 13: 10, 20: 15, 22: 17, 21: 18, 23: 19}\n",
      "INFO:proposal_generator:4\n",
      "INFO:proposal_generator:4\n",
      "INFO:proposal_generator:3\n",
      "INFO:proposal_generator:2\n",
      "INFO:proposal_generator:4\n",
      "INFO:proposal_generator:2\n",
      "INFO:proposal_generator:4\n",
      "INFO:proposal_generator:3\n",
      "INFO:proposal_generator:2\n",
      "INFO:proposal_generator:2\n",
      "INFO:proposal_generator:Checking maps to see if they break rings\n",
      "WARNING:proposal_generator:No maps found. Try relaxing match criteria or setting allow_ring_breaking to True\n"
     ]
    },
    {
     "name": "stdout",
     "output_type": "stream",
     "text": [
      "\t\t\tHarmonicBondForce: 81.83635520370972\n",
      "\t\t\tHarmonicAngleForce: 20.701863879770382\n",
      "\t\t\tPeriodicTorsionForce: 38.25289262984217\n",
      "\t\t\tNonbondedForce: 6.894559792037765\n",
      "\t\t\tAndersenThermostat: 0.0\n"
     ]
    },
    {
     "name": "stderr",
     "output_type": "stream",
     "text": [
      "INFO:geometry:propose: performing forward proposal\n",
      "INFO:geometry:propose: unique new atoms detected; proceeding to _logp_propose...\n",
      "INFO:geometry:Conducting forward proposal...\n",
      "INFO:geometry:Computing proposal order with NetworkX...\n",
      "INFO:geometry:number of atoms to be placed: 18\n",
      "INFO:geometry:Atom index proposal order is [10, 15, 20, 28, 19, 21, 22, 16, 24, 26, 29, 23, 18, 27, 11, 12, 17, 25]\n",
      "INFO:geometry:omitted_bonds: [(16, 21), (26, 28)]\n",
      "INFO:geometry:direction of proposal is forward; creating atoms_with_positions and new positions from old system/topology...\n",
      "INFO:geometry:creating growth system...\n",
      "INFO:geometry:\tcreating bond force...\n",
      "INFO:geometry:\tthere are 20 bonds in reference force.\n",
      "INFO:geometry:\tcreating angle force...\n",
      "INFO:geometry:\tthere are 63 angles in reference force.\n",
      "INFO:geometry:\tcreating torsion force...\n",
      "INFO:geometry:\tcreating extra torsions force...\n",
      "INFO:geometry:\tthere are 99 torsions in reference force.\n",
      "INFO:geometry:\tcreating nonbonded force...\n",
      "INFO:geometry:\t\tgrabbing reference nonbonded method, cutoff, switching function, switching distance...\n",
      "INFO:geometry:\t\tcreating nonbonded exception force (i.e. custom bond for 1,4s)...\n",
      "INFO:geometry:\t\tlooping through exceptions calculating growth indices, and adding appropriate interactions to custom bond force.\n",
      "INFO:geometry:\t\tthere are 179 in the reference Nonbonded force\n",
      "WARNING:geometry:\t\t\t\t\tchiral atom <Atom 8 (CA) of chain 0 residue 1 (TRP)> with neighbors [<Atom 13 (C) of chain 0 residue 1 (TRP)>, <Atom 10 (CB) of chain 0 residue 1 (TRP)>, <Atom 9 (HA) of chain 0 residue 1 (TRP)>, <Atom 6 (N) of chain 0 residue 1 (TRP)>] is surrounded by 3 core neighbors.  omitting chirality bias torsion\n",
      "INFO:geometry:Neglected angle terms : []\n",
      "INFO:geometry:omitted_growth_terms: {'bonds': [(16, 21), (26, 28)], 'angles': [(15, 16, 21), (16, 21, 18), (16, 21, 19), (17, 16, 21), (20, 28, 26), (24, 26, 28), (26, 28, 29), (27, 26, 28)], 'torsions': [(10, 15, 16, 21), (15, 16, 21, 18), (15, 16, 21, 19), (15, 20, 28, 26), (16, 21, 19, 20), (16, 21, 19, 22), (17, 16, 21, 18), (17, 16, 21, 19), (19, 20, 28, 26), (20, 15, 16, 21), (20, 28, 26, 24), (20, 28, 26, 27), (22, 24, 26, 28), (24, 26, 28, 29), (25, 24, 26, 28), (27, 26, 28, 29), (15, 21, 16, 17), (24, 28, 26, 27)], '1,4s': [(15, 18), (17, 18), (17, 19), (10, 21), (16, 22), (20, 24), (15, 26), (19, 26), (20, 27), (22, 28), (25, 28), (24, 29), (27, 29)]}\n",
      "INFO:geometry:extra torsions: {0: (26, 24, 22, 19, [1, Quantity(value=-3.1316942592831216, unit=radian), Quantity(value=120.0, unit=kilocalorie/mole), 10]), 1: (24, 22, 19, 20, [1, Quantity(value=3.1385049563053675, unit=radian), Quantity(value=120.0, unit=kilocalorie/mole), 9]), 2: (24, 22, 19, 21, [1, Quantity(value=0.013131544678057328, unit=radian), Quantity(value=120.0, unit=kilocalorie/mole), 9]), 3: (28, 20, 19, 22, [1, Quantity(value=3.1321649810181924, unit=radian), Quantity(value=120.0, unit=kilocalorie/mole), 7]), 4: (28, 20, 19, 21, [1, Quantity(value=-0.022861084068669157, unit=radian), Quantity(value=120.0, unit=kilocalorie/mole), 6]), 5: (15, 20, 19, 22, [1, Quantity(value=0.012459359827764693, unit=radian), Quantity(value=120.0, unit=kilocalorie/mole), 7]), 6: (15, 20, 19, 21, [1, Quantity(value=3.140618601920456, unit=radian), Quantity(value=120.0, unit=kilocalorie/mole), 6]), 7: (28, 20, 15, 10, [1, Quantity(value=3.098801337800155, unit=radian), Quantity(value=120.0, unit=kilocalorie/mole), 4]), 8: (28, 20, 15, 16, [1, Quantity(value=0.028527523890103268, unit=radian), Quantity(value=120.0, unit=kilocalorie/mole), 8]), 9: (19, 20, 15, 10, [1, Quantity(value=-0.06796819092235573, unit=radian), Quantity(value=120.0, unit=kilocalorie/mole), 5]), 10: (19, 20, 15, 16, [1, Quantity(value=-3.1382420048323967, unit=radian), Quantity(value=120.0, unit=kilocalorie/mole), 8])}\n",
      "INFO:geometry:neglected angle terms include []\n",
      "INFO:geometry:log probability choice of torsions and atom order: -33.398511733133425\n",
      "INFO:geometry:creating platform, integrators, and contexts; setting growth parameter\n"
     ]
    },
    {
     "name": "stdout",
     "output_type": "stream",
     "text": [
      "conducting subsequent work with the following platform: CUDA\n"
     ]
    },
    {
     "name": "stderr",
     "output_type": "stream",
     "text": [
      "INFO:geometry:setting atoms_with_positions context new positions\n"
     ]
    },
    {
     "name": "stdout",
     "output_type": "stream",
     "text": [
      "conducting subsequent work with the following platform: CUDA\n"
     ]
    },
    {
     "name": "stderr",
     "output_type": "stream",
     "text": [
      "INFO:geometry:There are 18 new atoms\n",
      "INFO:geometry:\treduced angle potential = 0.12227937079805137.\n",
      "INFO:geometry:\treduced angle potential = 1.091355500086041.\n",
      "INFO:geometry:\treduced angle potential = 0.5708420128056795.\n",
      "INFO:geometry:\treduced angle potential = 2.0967524418836287.\n",
      "INFO:geometry:\treduced angle potential = 0.8540530162681192.\n",
      "INFO:geometry:\treduced angle potential = 0.16015801231245103.\n",
      "INFO:geometry:\treduced angle potential = 0.3264982520893731.\n",
      "INFO:geometry:\treduced angle potential = 1.2530277713542304.\n",
      "INFO:geometry:\treduced angle potential = 0.0986911721009133.\n",
      "INFO:geometry:\treduced angle potential = 0.18466949338056082.\n",
      "INFO:geometry:\treduced angle potential = 0.0012299798077669566.\n",
      "INFO:geometry:\treduced angle potential = 0.004053283945175546.\n",
      "INFO:geometry:\treduced angle potential = 0.008511265076551701.\n",
      "INFO:geometry:\treduced angle potential = 0.2992873674647404.\n",
      "INFO:geometry:\treduced angle potential = 0.05266586270253819.\n",
      "INFO:geometry:\treduced angle potential = 0.13064176978103484.\n",
      "INFO:geometry:\treduced angle potential = 0.21574432488406275.\n",
      "INFO:geometry:\treduced angle potential = 0.9452212342964225.\n",
      "INFO:geometry:\tbeginning construction of no_nonbonded final system...\n",
      "INFO:geometry:\tinitial no-nonbonded final system forces ['HarmonicBondForce', 'HarmonicAngleForce', 'PeriodicTorsionForce', 'NonbondedForce']\n",
      "INFO:geometry:\tfinal no-nonbonded final system forces dict_keys(['HarmonicBondForce', 'HarmonicAngleForce', 'PeriodicTorsionForce', 'NonbondedForce'])\n",
      "INFO:geometry:\tthere are 20 bond forces in the no-nonbonded final system\n",
      "INFO:geometry:\tthere are 63 angle forces in the no-nonbonded final system\n",
      "INFO:geometry:\tthere are 99 torsion forces in the no-nonbonded final system\n",
      "INFO:geometry:forward final system defined with 0 neglected angles.\n"
     ]
    },
    {
     "name": "stdout",
     "output_type": "stream",
     "text": [
      "conducting subsequent work with the following platform: CUDA\n",
      "conducting subsequent work with the following platform: CUDA\n"
     ]
    },
    {
     "name": "stderr",
     "output_type": "stream",
     "text": [
      "INFO:geometry:total reduced potential before atom placement: 9.117927746118994\n"
     ]
    },
    {
     "name": "stdout",
     "output_type": "stream",
     "text": [
      "conducting subsequent work with the following platform: CUDA\n",
      "conducting subsequent work with the following platform: CUDA\n",
      "conducting subsequent work with the following platform: CUDA\n"
     ]
    },
    {
     "name": "stderr",
     "output_type": "stream",
     "text": [
      "INFO:geometry:total reduced energy added from growth system: 51.27527984411089\n",
      "INFO:geometry:final reduced energy 666.2639741455712\n",
      "INFO:geometry:sum of energies: 60.393207590229885\n",
      "INFO:geometry:magnitude of difference in the energies: 605.8707665553413\n",
      "INFO:geometry:Final logp_proposal: 123.11223330157736\n"
     ]
    },
    {
     "name": "stdout",
     "output_type": "stream",
     "text": [
      "added energy components: [('CustomBondForce', 6.352310480895478), ('CustomAngleForce', 20.938833815569), ('CustomTorsionForce', 14.414226116333683), ('CustomBondForce', 9.569909431312727)]\n"
     ]
    },
    {
     "name": "stderr",
     "output_type": "stream",
     "text": [
      "INFO:geometry:logp_reverse: performing reverse proposal\n",
      "INFO:geometry:logp_reverse: unique new atoms detected; proceeding to _logp_propose...\n",
      "INFO:geometry:Conducting forward proposal...\n",
      "INFO:geometry:Computing proposal order with NetworkX...\n",
      "INFO:geometry:number of atoms to be placed: 14\n",
      "INFO:geometry:Atom index proposal order is [10, 15, 20, 16, 21, 19, 22, 12, 17, 23, 18, 25, 11, 24]\n",
      "INFO:geometry:omitted_bonds: [(19, 22)]\n",
      "INFO:geometry:direction of proposal is reverse; creating atoms_with_positions from old system/topology\n",
      "INFO:geometry:creating growth system...\n",
      "INFO:geometry:\tcreating bond force...\n",
      "INFO:geometry:\tthere are 16 bonds in reference force.\n",
      "INFO:geometry:\tcreating angle force...\n",
      "INFO:geometry:\tthere are 54 angles in reference force.\n",
      "INFO:geometry:\tcreating torsion force...\n",
      "INFO:geometry:\tcreating extra torsions force...\n",
      "INFO:geometry:\tthere are 82 torsions in reference force.\n",
      "INFO:geometry:\tcreating nonbonded force...\n",
      "INFO:geometry:\t\tgrabbing reference nonbonded method, cutoff, switching function, switching distance...\n",
      "INFO:geometry:\t\tcreating nonbonded exception force (i.e. custom bond for 1,4s)...\n",
      "INFO:geometry:\t\tlooping through exceptions calculating growth indices, and adding appropriate interactions to custom bond force.\n",
      "INFO:geometry:\t\tthere are 154 in the reference Nonbonded force\n",
      "WARNING:geometry:\t\t\t\t\tchiral atom <Atom 8 (CA) of chain 0 residue 1 (PHE)> with neighbors [<Atom 13 (C) of chain 0 residue 1 (PHE)>, <Atom 10 (CB) of chain 0 residue 1 (PHE)>, <Atom 9 (HA) of chain 0 residue 1 (PHE)>, <Atom 6 (N) of chain 0 residue 1 (PHE)>] is surrounded by 3 core neighbors.  omitting chirality bias torsion\n",
      "INFO:geometry:Neglected angle terms : []\n",
      "INFO:geometry:omitted_growth_terms: {'bonds': [(19, 22)], 'angles': [(19, 22, 21), (19, 22, 23), (20, 19, 22), (22, 19, 24)], 'torsions': [(15, 20, 19, 22), (16, 21, 22, 19), (18, 21, 22, 19), (20, 19, 22, 21), (20, 19, 22, 23), (21, 22, 19, 24), (22, 19, 20, 25), (23, 22, 19, 24), (21, 19, 22, 23)], '1,4s': [(16, 19), (18, 19), (20, 21), (15, 22), (20, 23), (21, 24), (23, 24), (22, 25)]}\n",
      "INFO:geometry:extra torsions: {0: (19, 20, 15, 10, [1, Quantity(value=-0.05926690747810337, unit=radian), Quantity(value=120.0, unit=kilocalorie/mole), 6]), 1: (19, 20, 15, 16, [1, Quantity(value=3.1352639058829186, unit=radian), Quantity(value=120.0, unit=kilocalorie/mole), 6]), 2: (20, 15, 16, 21, [1, Quantity(value=-3.12607014738776, unit=radian), Quantity(value=120.0, unit=kilocalorie/mole), 5]), 3: (10, 15, 16, 21, [1, Quantity(value=0.06780092444542918, unit=radian), Quantity(value=120.0, unit=kilocalorie/mole), 5]), 4: (15, 16, 21, 22, [1, Quantity(value=3.127339152139995, unit=radian), Quantity(value=120.0, unit=kilocalorie/mole), 7])}\n",
      "INFO:geometry:neglected angle terms include []\n",
      "INFO:geometry:log probability choice of torsions and atom order: -22.984730891009377\n",
      "INFO:geometry:creating platform, integrators, and contexts; setting growth parameter\n"
     ]
    },
    {
     "name": "stdout",
     "output_type": "stream",
     "text": [
      "conducting subsequent work with the following platform: CUDA\n"
     ]
    },
    {
     "name": "stderr",
     "output_type": "stream",
     "text": [
      "INFO:geometry:setting atoms_with_positions context old positions\n"
     ]
    },
    {
     "name": "stdout",
     "output_type": "stream",
     "text": [
      "conducting subsequent work with the following platform: CUDA\n"
     ]
    },
    {
     "name": "stderr",
     "output_type": "stream",
     "text": [
      "INFO:geometry:There are 14 new atoms\n",
      "INFO:geometry:\treduced angle potential = 0.5143232206796989.\n",
      "INFO:geometry:\treduced angle potential = 0.780982081586702.\n",
      "INFO:geometry:\treduced angle potential = 0.5693523117203431.\n",
      "INFO:geometry:\treduced angle potential = 3.255014654155605.\n",
      "INFO:geometry:\treduced angle potential = 0.017461732770040355.\n",
      "INFO:geometry:\treduced angle potential = 1.178821361353268.\n",
      "INFO:geometry:\treduced angle potential = 0.34019917599259797.\n",
      "INFO:geometry:\treduced angle potential = 0.6570579396240711.\n",
      "INFO:geometry:\treduced angle potential = 0.04319082679482863.\n",
      "INFO:geometry:\treduced angle potential = 0.805361929353473.\n",
      "INFO:geometry:\treduced angle potential = 0.3160975909852325.\n",
      "INFO:geometry:\treduced angle potential = 0.3023975257756509.\n",
      "INFO:geometry:\treduced angle potential = 0.43543341743436026.\n",
      "INFO:geometry:\treduced angle potential = 2.2271814382407302.\n",
      "INFO:geometry:\tbeginning construction of no_nonbonded final system...\n",
      "INFO:geometry:\tinitial no-nonbonded final system forces ['HarmonicBondForce', 'HarmonicAngleForce', 'PeriodicTorsionForce', 'NonbondedForce']\n",
      "INFO:geometry:\tfinal no-nonbonded final system forces dict_keys(['HarmonicBondForce', 'HarmonicAngleForce', 'PeriodicTorsionForce', 'NonbondedForce'])\n",
      "INFO:geometry:\tthere are 16 bond forces in the no-nonbonded final system\n",
      "INFO:geometry:\tthere are 54 angle forces in the no-nonbonded final system\n",
      "INFO:geometry:\tthere are 82 torsion forces in the no-nonbonded final system\n",
      "INFO:geometry:reverse final system defined with 0 neglected angles.\n"
     ]
    },
    {
     "name": "stdout",
     "output_type": "stream",
     "text": [
      "conducting subsequent work with the following platform: CUDA\n",
      "conducting subsequent work with the following platform: CUDA\n"
     ]
    },
    {
     "name": "stderr",
     "output_type": "stream",
     "text": [
      "INFO:geometry:total reduced potential before atom placement: 9.117927746118994\n"
     ]
    },
    {
     "name": "stdout",
     "output_type": "stream",
     "text": [
      "conducting subsequent work with the following platform: CUDA\n",
      "conducting subsequent work with the following platform: CUDA\n",
      "conducting subsequent work with the following platform: CUDA\n"
     ]
    },
    {
     "name": "stderr",
     "output_type": "stream",
     "text": [
      "INFO:geometry:total reduced energy added from growth system: 51.36184447508143\n",
      "INFO:geometry:final reduced energy 100.52482615464295\n",
      "INFO:geometry:sum of energies: 60.47977222120043\n",
      "INFO:geometry:magnitude of difference in the energies: 40.045053933442524\n",
      "INFO:geometry:Final logp_proposal: 81.63527301766052\n"
     ]
    },
    {
     "name": "stdout",
     "output_type": "stream",
     "text": [
      "added energy components: [('CustomBondForce', 2.835895793403111), ('CustomAngleForce', 14.35513123683787), ('CustomTorsionForce', 16.25849596215747), ('CustomBondForce', 17.912321482682984)]\n"
     ]
    },
    {
     "name": "stderr",
     "output_type": "stream",
     "text": [
      "INFO:relative:Beginning nonbonded method, total particle, barostat, and exceptions retrieval...\n",
      "INFO:relative:Old system forces: dict_keys(['HarmonicBondForce', 'HarmonicAngleForce', 'PeriodicTorsionForce', 'NonbondedForce'])\n",
      "INFO:relative:New system forces: dict_keys(['HarmonicBondForce', 'HarmonicAngleForce', 'PeriodicTorsionForce', 'NonbondedForce'])\n",
      "INFO:relative:No unknown forces.\n",
      "INFO:relative:Nonbonded method to be used (i.e. from old system): 0\n",
      "INFO:relative:Adding and mapping old atoms to hybrid system...\n",
      "INFO:relative:Adding and mapping new atoms to hybrid system...\n",
      "INFO:relative:No MonteCarloBarostat added.\n",
      "INFO:relative:getDefaultPeriodicBoxVectors added to hybrid: [Quantity(value=Vec3(x=2.0, y=0.0, z=0.0), unit=nanometer), Quantity(value=Vec3(x=0.0, y=2.0, z=0.0), unit=nanometer), Quantity(value=Vec3(x=0.0, y=0.0, z=2.0), unit=nanometer)]\n",
      "INFO:relative:Determined atom classes.\n",
      "INFO:relative:Generating old system exceptions dict...\n",
      "INFO:relative:Generating new system exceptions dict...\n",
      "INFO:relative:Handling constraints...\n",
      "INFO:relative:Handling virtual sites...\n",
      "INFO:relative:\t_handle_virtual_sites: numVirtualSites: 0\n",
      "INFO:relative:Adding bond force terms...\n",
      "INFO:relative:Adding angle force terms...\n",
      "INFO:relative:Adding torsion force terms...\n",
      "INFO:relative:Adding nonbonded force terms...\n",
      "INFO:relative:\t_add_nonbonded_force_terms: <simtk.openmm.openmm.NonbondedForce; proxy of <Swig Object of type 'OpenMM::NonbondedForce *' at 0x2b8992fd9a20> > added to hybrid system\n",
      "INFO:relative:\t_add_nonbonded_force_terms: nonbonded_method is NoCutoff\n",
      "INFO:relative:\t_add_nonbonded_force_terms: 0 added to standard nonbonded force\n",
      "INFO:relative:\t_add_nonbonded_force_terms: 0 added to sterics_custom_nonbonded force\n",
      "INFO:relative:\t_add_nonbonded_force_terms: <simtk.openmm.openmm.CustomNonbondedForce; proxy of <Swig Object of type 'OpenMM::CustomNonbondedForce *' at 0x2b8992fd9c30> > added to hybrid system\n",
      "INFO:relative:Handling harmonic bonds...\n",
      "INFO:relative:\thandle_harmonic_bonds: looping through old_system to add relevant terms...\n",
      "INFO:relative:\thandle_harmonic_bonds: looping through new_system to add relevant terms...\n",
      "INFO:relative:Handling harmonic angles...\n",
      "INFO:relative:\thandle_harmonic_angles: looping through old_system to add relevant terms...\n",
      "INFO:relative:\thandle_harmonic_angles: looping through new_system to add relevant terms...\n",
      "INFO:relative:Handling torsion forces...\n",
      "INFO:relative:\thandle_periodic_torsion_forces: looping through old_system to add relevant terms...\n",
      "INFO:relative:\thandle_periodic_torsion_forces: looping through new_system to add relevant terms...\n",
      "INFO:relative:Handling nonbonded forces...\n",
      "INFO:relative:\thandle_nonbonded: looping through all particles in hybrid...\n",
      "INFO:relative:\thandle_nonbonded: Handling Interaction Groups...\n",
      "INFO:relative:\thandle_nonbonded: Handling Hybrid Exceptions...\n",
      "INFO:relative:\thandle_nonbonded: Handling Original Exceptions...\n",
      "INFO:relative:Handling unique_new/old interaction exceptions...\n",
      "INFO:relative:There are old or new system exceptions...proceeding.\n"
     ]
    },
    {
     "name": "stdout",
     "output_type": "stream",
     "text": [
      "conducting subsequent work with the following platform: CUDA\n",
      "conducting subsequent work with the following platform: CUDA\n",
      "\t\t\tHarmonicBondForce: 25.33380021565877\n",
      "\t\t\tHarmonicAngleForce: 23.28724010352662\n",
      "\t\t\tPeriodicTorsionForce: 26.242785635405802\n",
      "\t\t\tNonbondedForce: -3.2957627364931033\n",
      "\t\t\tAndersenThermostat: 0.0\n",
      "conducting subsequent work with the following platform: CUDA\n",
      "\t\t\tCustomBondForce: 0.032667115844874646\n",
      "\t\t\tHarmonicBondForce: 203.9590776769299\n",
      "\t\t\tCustomAngleForce: 0.15998449156336095\n",
      "\t\t\tHarmonicAngleForce: 329.5160964583469\n",
      "\t\t\tCustomTorsionForce: 0.0\n",
      "\t\t\tPeriodicTorsionForce: 72.19043683901731\n",
      "\t\t\tNonbondedForce: 102.65792195111055\n",
      "\t\t\tCustomNonbondedForce: 20.19792640504699\n",
      "\t\t\tCustomBondForce: 0.0\n",
      "\t\t\tAndersenThermostat: 0.0\n",
      "conducting subsequent work with the following platform: CUDA\n",
      "\t\t\tCustomBondForce: 0.032667115844874646\n",
      "\t\t\tHarmonicBondForce: 203.9590776769299\n",
      "\t\t\tCustomAngleForce: 0.15998449156336095\n",
      "\t\t\tHarmonicAngleForce: 329.5160964583469\n",
      "\t\t\tCustomTorsionForce: 0.0\n",
      "\t\t\tPeriodicTorsionForce: 72.19043683901731\n",
      "\t\t\tNonbondedForce: 78.46443342072057\n",
      "\t\t\tCustomNonbondedForce: 694.674418570187\n",
      "\t\t\tCustomBondForce: 0.0\n",
      "\t\t\tAndersenThermostat: 0.0\n",
      "conducting subsequent work with the following platform: CUDA\n",
      "\t\t\tHarmonicBondForce: 178.69061169296086\n",
      "\t\t\tHarmonicAngleForce: 306.548825337947\n",
      "\t\t\tPeriodicTorsionForce: 54.872927342322264\n",
      "\t\t\tNonbondedForce: 747.4777778786438\n",
      "\t\t\tAndersenThermostat: 0.0\n"
     ]
    }
   ],
   "source": [
    "# Generate phe->trp vacuum htf\n",
    "import mdtraj as md\n",
    "wt = 'PHE'\n",
    "proposed = 'TRP'\n",
    "outdir = \"/data/chodera/zhangi/perses_benchmark/neq/7/\"\n",
    "i = 8\n",
    "for j in range(5):\n",
    "    apo_delivery = PointMutationExecutor(f\"../input/{wt.lower()}_vacuum.pdb\", \n",
    "                              '1', \n",
    "                              '2', \n",
    "                              proposed,\n",
    "                              phase='vacuum',\n",
    "                              barostat=None,\n",
    "                              periodic_forcefield_kwargs=None, \n",
    "                              nonperiodic_forcefield_kwargs={'nonbondedMethod': app.NoCutoff}\n",
    "                             )\n",
    "\n",
    "    htf = apo_delivery.get_apo_htf()\n",
    "    traj = md.Trajectory(np.array(htf.new_positions(htf.hybrid_positions)), md.Topology.from_openmm(htf._topology_proposal.new_topology))\n",
    "    traj.save(f\"trp_{j}.pdb\")\n",
    "\n",
    "# Note the pickle in this directory does not contain HBond constraints"
   ]
  },
  {
   "cell_type": "code",
   "execution_count": null,
   "metadata": {},
   "outputs": [],
   "source": []
  },
  {
   "cell_type": "code",
   "execution_count": null,
   "metadata": {},
   "outputs": [],
   "source": [
    "pickle.dump(apo_delivery.get_apo_htf(), open(os.path.join(outdir, f\"{i}/{i}_vacuum.pickle\"), \"wb\" ))\n"
   ]
  },
  {
   "cell_type": "code",
   "execution_count": 21,
   "metadata": {},
   "outputs": [],
   "source": [
    "import mdtraj as md\n",
    "htf = apo_delivery.get_apo_htf()\n",
    "traj = md.Trajectory(np.array(htf.new_positions(htf.hybrid_positions)), md.Topology.from_openmm(htf._topology_proposal.new_topology))\n",
    "traj.save(\"trp.pdb\")"
   ]
  },
  {
   "cell_type": "code",
   "execution_count": 6,
   "metadata": {},
   "outputs": [
    {
     "name": "stderr",
     "output_type": "stream",
     "text": [
      "INFO:proposal_generator:\tConducting polymer point mutation proposal...\n",
      "INFO:proposal_generator:Using matching_criterion to chose best atom map\n",
      "INFO:proposal_generator:Scaffold has symmetry of 0\n",
      "WARNING:proposal_generator:Two molecules are not similar to have a common scaffold\n",
      "WARNING:proposal_generator:Proceeding with direct mapping of molecules, but please check atom mapping and the geometry of the ligands.\n",
      "INFO:proposal_generator:len [{4: 4, 7: 14, 8: 15}, {4: 4, 7: 14, 9: 15}, {4: 4, 8: 14, 9: 15}]\n",
      "INFO:proposal_generator:{4: 4, 7: 14, 8: 15}\n",
      "INFO:proposal_generator:{4: 4, 7: 14, 9: 15}\n",
      "INFO:proposal_generator:{4: 4, 8: 14, 9: 15}\n",
      "INFO:proposal_generator:Returning map that best satisfies matching_criterion\n",
      "INFO:proposal_generator:Finding best map using matching_criterion name\n",
      "INFO:proposal_generator:{4: 4, 7: 14, 8: 15}\n",
      "INFO:geometry:propose: performing forward proposal\n",
      "INFO:geometry:propose: unique new atoms detected; proceeding to _logp_propose...\n",
      "INFO:geometry:Conducting forward proposal...\n",
      "INFO:geometry:Computing proposal order with NetworkX...\n",
      "INFO:geometry:number of atoms to be placed: 1\n",
      "INFO:geometry:Atom index proposal order is [12]\n",
      "INFO:geometry:omitted_bonds: []\n",
      "INFO:geometry:direction of proposal is forward; creating atoms_with_positions and new positions from old system/topology...\n",
      "INFO:geometry:creating growth system...\n",
      "INFO:geometry:\tcreating bond force...\n",
      "INFO:geometry:\tthere are 9 bonds in reference force.\n",
      "INFO:geometry:\tcreating angle force...\n",
      "INFO:geometry:\tthere are 36 angles in reference force.\n",
      "INFO:geometry:\tcreating torsion force...\n",
      "INFO:geometry:\tcreating extra torsions force...\n",
      "INFO:geometry:\tthere are 42 torsions in reference force.\n",
      "INFO:geometry:\tcreating nonbonded force...\n",
      "INFO:geometry:\t\tgrabbing reference nonbonded method, cutoff, switching function, switching distance...\n",
      "INFO:geometry:\t\tcreating nonbonded exception force (i.e. custom bond for 1,4s)...\n",
      "INFO:geometry:\t\tlooping through exceptions calculating growth indices, and adding appropriate interactions to custom bond force.\n",
      "INFO:geometry:\t\tthere are 98 in the reference Nonbonded force\n",
      "INFO:geometry:Neglected angle terms : []\n",
      "INFO:geometry:omitted_growth_terms: {'bonds': [], 'angles': [], 'torsions': [], '1,4s': []}\n",
      "INFO:geometry:extra torsions: {}\n",
      "INFO:geometry:neglected angle terms include []\n",
      "INFO:geometry:log probability choice of torsions and atom order: -1.0986122886681098\n",
      "INFO:geometry:creating platform, integrators, and contexts; setting growth parameter\n"
     ]
    },
    {
     "name": "stdout",
     "output_type": "stream",
     "text": [
      "conducting subsequent work with the following platform: CUDA\n"
     ]
    },
    {
     "name": "stderr",
     "output_type": "stream",
     "text": [
      "INFO:geometry:setting atoms_with_positions context new positions\n"
     ]
    },
    {
     "name": "stdout",
     "output_type": "stream",
     "text": [
      "conducting subsequent work with the following platform: CUDA\n"
     ]
    },
    {
     "name": "stderr",
     "output_type": "stream",
     "text": [
      "INFO:geometry:There are 1 new atoms\n",
      "INFO:geometry:\treduced angle potential = 0.3486281271252961.\n",
      "INFO:geometry:\tbeginning construction of no_nonbonded final system...\n",
      "INFO:geometry:\tinitial no-nonbonded final system forces ['HarmonicBondForce', 'HarmonicAngleForce', 'PeriodicTorsionForce', 'NonbondedForce']\n",
      "INFO:geometry:\tfinal no-nonbonded final system forces dict_keys(['HarmonicBondForce', 'HarmonicAngleForce', 'PeriodicTorsionForce', 'NonbondedForce'])\n",
      "INFO:geometry:\tthere are 9 bond forces in the no-nonbonded final system\n",
      "INFO:geometry:\tthere are 36 angle forces in the no-nonbonded final system\n",
      "INFO:geometry:\tthere are 42 torsion forces in the no-nonbonded final system\n",
      "INFO:geometry:forward final system defined with 0 neglected angles.\n"
     ]
    },
    {
     "name": "stdout",
     "output_type": "stream",
     "text": [
      "conducting subsequent work with the following platform: CUDA\n",
      "conducting subsequent work with the following platform: CUDA\n"
     ]
    },
    {
     "name": "stderr",
     "output_type": "stream",
     "text": [
      "INFO:geometry:total reduced potential before atom placement: 16.822593959606856\n"
     ]
    },
    {
     "name": "stdout",
     "output_type": "stream",
     "text": [
      "conducting subsequent work with the following platform: CUDA\n",
      "conducting subsequent work with the following platform: CUDA\n",
      "conducting subsequent work with the following platform: CUDA\n"
     ]
    },
    {
     "name": "stderr",
     "output_type": "stream",
     "text": [
      "INFO:geometry:total reduced energy added from growth system: 4.094389478107515\n",
      "INFO:geometry:final reduced energy 20.91698356045329\n",
      "INFO:geometry:sum of energies: 20.91698343771437\n",
      "INFO:geometry:magnitude of difference in the energies: 1.2273891858427532e-07\n",
      "INFO:geometry:Final logp_proposal: 6.101883704856413\n"
     ]
    },
    {
     "name": "stdout",
     "output_type": "stream",
     "text": [
      "added energy components: [('CustomBondForce', 0.0), ('CustomAngleForce', 0.658468696209909), ('CustomTorsionForce', 0.006923633603602366), ('CustomBondForce', 3.428997148294004)]\n"
     ]
    },
    {
     "name": "stderr",
     "output_type": "stream",
     "text": [
      "INFO:geometry:logp_reverse: performing reverse proposal\n",
      "INFO:geometry:logp_reverse: unique new atoms detected; proceeding to _logp_propose...\n",
      "INFO:geometry:Conducting forward proposal...\n",
      "INFO:geometry:Computing proposal order with NetworkX...\n",
      "INFO:geometry:number of atoms to be placed: 12\n",
      "INFO:geometry:Atom index proposal order is [15, 16, 18, 25, 23, 20, 21, 22, 26, 24, 19, 17]\n",
      "INFO:geometry:omitted_bonds: [(20, 23)]\n",
      "INFO:geometry:direction of proposal is reverse; creating atoms_with_positions from old system/topology\n",
      "INFO:geometry:creating growth system...\n",
      "INFO:geometry:\tcreating bond force...\n",
      "INFO:geometry:\tthere are 17 bonds in reference force.\n",
      "INFO:geometry:\tcreating angle force...\n",
      "INFO:geometry:\tthere are 55 angles in reference force.\n",
      "INFO:geometry:\tcreating torsion force...\n",
      "INFO:geometry:\tcreating extra torsions force...\n",
      "INFO:geometry:\tthere are 86 torsions in reference force.\n",
      "INFO:geometry:\tcreating nonbonded force...\n",
      "INFO:geometry:\t\tgrabbing reference nonbonded method, cutoff, switching function, switching distance...\n",
      "INFO:geometry:\t\tcreating nonbonded exception force (i.e. custom bond for 1,4s)...\n",
      "INFO:geometry:\t\tlooping through exceptions calculating growth indices, and adding appropriate interactions to custom bond force.\n",
      "INFO:geometry:\t\tthere are 158 in the reference Nonbonded force\n",
      "INFO:geometry:Neglected angle terms : []\n",
      "INFO:geometry:omitted_growth_terms: {'bonds': [(20, 23)], 'angles': [(18, 20, 23), (20, 23, 24), (20, 23, 25), (21, 20, 23)], 'torsions': [(15, 25, 23, 20), (16, 18, 20, 23), (18, 20, 23, 24), (18, 20, 23, 25), (19, 18, 20, 23), (20, 23, 25, 26), (21, 20, 23, 24), (21, 20, 23, 25), (22, 21, 20, 23), (22, 21, 20, 23), (18, 23, 20, 21)], '1,4s': [(15, 20), (16, 23), (19, 23), (22, 23), (18, 24), (21, 24), (18, 25), (21, 25), (20, 26)]}\n",
      "INFO:geometry:extra torsions: {0: (16, 18, 20, 21, [1, Quantity(value=0.0022213748613295614, unit=radian), Quantity(value=120.0, unit=kilocalorie/mole), 7]), 1: (20, 18, 16, 15, [1, Quantity(value=-3.1391340540962216, unit=radian), Quantity(value=120.0, unit=kilocalorie/mole), 6]), 2: (18, 16, 15, 25, [1, Quantity(value=3.1373539745559547, unit=radian), Quantity(value=120.0, unit=kilocalorie/mole), 4]), 3: (18, 16, 15, 10, [1, Quantity(value=-0.012555513663626172, unit=radian), Quantity(value=120.0, unit=kilocalorie/mole), 3]), 4: (16, 15, 25, 23, [1, Quantity(value=-3.137699428633435, unit=radian), Quantity(value=120.0, unit=kilocalorie/mole), 5]), 5: (10, 15, 25, 23, [1, Quantity(value=0.012140215312939961, unit=radian), Quantity(value=120.0, unit=kilocalorie/mole), 5])}\n",
      "INFO:geometry:neglected angle terms include []\n",
      "INFO:geometry:log probability choice of torsions and atom order: -18.05932285210925\n",
      "INFO:geometry:creating platform, integrators, and contexts; setting growth parameter\n"
     ]
    },
    {
     "name": "stdout",
     "output_type": "stream",
     "text": [
      "conducting subsequent work with the following platform: CUDA\n"
     ]
    },
    {
     "name": "stderr",
     "output_type": "stream",
     "text": [
      "INFO:geometry:setting atoms_with_positions context old positions\n"
     ]
    },
    {
     "name": "stdout",
     "output_type": "stream",
     "text": [
      "conducting subsequent work with the following platform: CUDA\n"
     ]
    },
    {
     "name": "stderr",
     "output_type": "stream",
     "text": [
      "INFO:geometry:There are 12 new atoms\n",
      "INFO:geometry:\treduced angle potential = 0.005704434599061028.\n",
      "INFO:geometry:\treduced angle potential = 0.8446378077841604.\n",
      "INFO:geometry:\treduced angle potential = 0.11468165814659652.\n",
      "INFO:geometry:\treduced angle potential = 0.25399497608106975.\n",
      "INFO:geometry:\treduced angle potential = 0.001468511194816849.\n",
      "INFO:geometry:\treduced angle potential = 0.12086629484305726.\n",
      "INFO:geometry:\treduced angle potential = 0.5027270192732262.\n",
      "INFO:geometry:\treduced angle potential = 0.05747555378817861.\n",
      "INFO:geometry:\treduced angle potential = 1.450894232010937.\n",
      "INFO:geometry:\treduced angle potential = 0.017567808548343573.\n",
      "INFO:geometry:\treduced angle potential = 0.6647305131536067.\n",
      "INFO:geometry:\treduced angle potential = 1.5751735331213574.\n",
      "INFO:geometry:\tbeginning construction of no_nonbonded final system...\n",
      "INFO:geometry:\tinitial no-nonbonded final system forces ['HarmonicBondForce', 'HarmonicAngleForce', 'PeriodicTorsionForce', 'NonbondedForce']\n",
      "INFO:geometry:\tfinal no-nonbonded final system forces dict_keys(['HarmonicBondForce', 'HarmonicAngleForce', 'PeriodicTorsionForce', 'NonbondedForce'])\n",
      "INFO:geometry:\tthere are 17 bond forces in the no-nonbonded final system\n",
      "INFO:geometry:\tthere are 55 angle forces in the no-nonbonded final system\n",
      "INFO:geometry:\tthere are 86 torsion forces in the no-nonbonded final system\n",
      "INFO:geometry:reverse final system defined with 0 neglected angles.\n"
     ]
    },
    {
     "name": "stdout",
     "output_type": "stream",
     "text": [
      "conducting subsequent work with the following platform: CUDA\n",
      "conducting subsequent work with the following platform: CUDA\n"
     ]
    },
    {
     "name": "stderr",
     "output_type": "stream",
     "text": [
      "INFO:geometry:total reduced potential before atom placement: 16.822593959606852\n"
     ]
    },
    {
     "name": "stdout",
     "output_type": "stream",
     "text": [
      "conducting subsequent work with the following platform: CUDA\n",
      "conducting subsequent work with the following platform: CUDA\n",
      "conducting subsequent work with the following platform: CUDA\n"
     ]
    },
    {
     "name": "stderr",
     "output_type": "stream",
     "text": [
      "INFO:geometry:total reduced energy added from growth system: 7.7938190801002145\n",
      "INFO:geometry:final reduced energy 148.35227740516945\n",
      "INFO:geometry:sum of energies: 24.616413039707066\n",
      "INFO:geometry:magnitude of difference in the energies: 123.73586436546238\n",
      "INFO:geometry:Final logp_proposal: 91.54956163677494\n"
     ]
    },
    {
     "name": "stdout",
     "output_type": "stream",
     "text": [
      "added energy components: [('CustomBondForce', 2.866623897394183), ('CustomAngleForce', 12.568087649033972), ('CustomTorsionForce', 4.618508276547777), ('CustomBondForce', -12.259400742875712)]\n"
     ]
    },
    {
     "name": "stderr",
     "output_type": "stream",
     "text": [
      "INFO:relative:Beginning nonbonded method, total particle, barostat, and exceptions retrieval...\n",
      "INFO:relative:Old system forces: dict_keys(['HarmonicBondForce', 'HarmonicAngleForce', 'PeriodicTorsionForce', 'NonbondedForce'])\n",
      "INFO:relative:New system forces: dict_keys(['HarmonicBondForce', 'HarmonicAngleForce', 'PeriodicTorsionForce', 'NonbondedForce'])\n",
      "INFO:relative:No unknown forces.\n",
      "INFO:relative:Nonbonded method to be used (i.e. from old system): 0\n",
      "INFO:relative:Adding and mapping old atoms to hybrid system...\n",
      "INFO:relative:Adding and mapping new atoms to hybrid system...\n",
      "INFO:relative:No MonteCarloBarostat added.\n",
      "INFO:relative:getDefaultPeriodicBoxVectors added to hybrid: [Quantity(value=Vec3(x=2.0, y=0.0, z=0.0), unit=nanometer), Quantity(value=Vec3(x=0.0, y=2.0, z=0.0), unit=nanometer), Quantity(value=Vec3(x=0.0, y=0.0, z=2.0), unit=nanometer)]\n",
      "INFO:relative:Determined atom classes.\n",
      "INFO:relative:Generating old system exceptions dict...\n",
      "INFO:relative:Generating new system exceptions dict...\n",
      "INFO:relative:Handling constraints...\n",
      "INFO:relative:Handling virtual sites...\n",
      "INFO:relative:\t_handle_virtual_sites: numVirtualSites: 0\n",
      "INFO:relative:Adding bond force terms...\n",
      "INFO:relative:Adding angle force terms...\n",
      "INFO:relative:Adding torsion force terms...\n",
      "INFO:relative:Adding nonbonded force terms...\n",
      "INFO:relative:\t_add_nonbonded_force_terms: <simtk.openmm.openmm.NonbondedForce; proxy of <Swig Object of type 'OpenMM::NonbondedForce *' at 0x2b6585bcec30> > added to hybrid system\n",
      "INFO:relative:\t_add_nonbonded_force_terms: nonbonded_method is NoCutoff\n",
      "INFO:relative:\t_add_nonbonded_force_terms: 0 added to standard nonbonded force\n",
      "INFO:relative:\t_add_nonbonded_force_terms: 0 added to sterics_custom_nonbonded force\n",
      "INFO:relative:\t_add_nonbonded_force_terms: <simtk.openmm.openmm.CustomNonbondedForce; proxy of <Swig Object of type 'OpenMM::CustomNonbondedForce *' at 0x2b6585bce8d0> > added to hybrid system\n",
      "INFO:relative:Handling harmonic bonds...\n",
      "INFO:relative:\thandle_harmonic_bonds: looping through old_system to add relevant terms...\n",
      "INFO:relative:\thandle_harmonic_bonds: looping through new_system to add relevant terms...\n",
      "INFO:relative:Handling harmonic angles...\n",
      "INFO:relative:\thandle_harmonic_angles: looping through old_system to add relevant terms...\n",
      "INFO:relative:\thandle_harmonic_angles: looping through new_system to add relevant terms...\n",
      "INFO:relative:Handling torsion forces...\n",
      "INFO:relative:\thandle_periodic_torsion_forces: looping through old_system to add relevant terms...\n",
      "INFO:relative:\thandle_periodic_torsion_forces: looping through new_system to add relevant terms...\n",
      "INFO:relative:Handling nonbonded forces...\n",
      "INFO:relative:\thandle_nonbonded: looping through all particles in hybrid...\n",
      "INFO:relative:\thandle_nonbonded: Handling Interaction Groups...\n",
      "INFO:relative:\thandle_nonbonded: Handling Hybrid Exceptions...\n",
      "INFO:relative:\thandle_nonbonded: Handling Original Exceptions...\n",
      "INFO:relative:Handling unique_new/old interaction exceptions...\n",
      "INFO:relative:There are old or new system exceptions...proceeding.\n"
     ]
    },
    {
     "name": "stdout",
     "output_type": "stream",
     "text": [
      "conducting subsequent work with the following platform: CUDA\n",
      "conducting subsequent work with the following platform: CUDA\n",
      "\t\t\tHarmonicBondForce: 115.81018764974154\n",
      "\t\t\tHarmonicAngleForce: 15.986320940890279\n",
      "\t\t\tPeriodicTorsionForce: 22.63917277936658\n",
      "\t\t\tNonbondedForce: -52.10945714654621\n",
      "\t\t\tAndersenThermostat: 0.0\n",
      "conducting subsequent work with the following platform: CUDA\n",
      "\t\t\tCustomBondForce: 0.033366891987115906\n",
      "\t\t\tHarmonicBondForce: 115.77682075775445\n",
      "\t\t\tCustomAngleForce: 0.6152838082371309\n",
      "\t\t\tHarmonicAngleForce: 16.029505828863055\n",
      "\t\t\tCustomTorsionForce: 0.0013912525669795377\n",
      "\t\t\tPeriodicTorsionForce: 22.644705087332056\n",
      "\t\t\tNonbondedForce: -63.029188248543804\n",
      "\t\t\tCustomNonbondedForce: 14.3487295552868\n",
      "\t\t\tCustomBondForce: 0.0\n",
      "\t\t\tAndersenThermostat: 0.0\n",
      "conducting subsequent work with the following platform: CUDA\n",
      "\t\t\tCustomBondForce: 0.033366891987115906\n",
      "\t\t\tHarmonicBondForce: 115.77682075775445\n",
      "\t\t\tCustomAngleForce: 0.6152838082371309\n",
      "\t\t\tHarmonicAngleForce: 16.029505828863055\n",
      "\t\t\tCustomTorsionForce: 0.0013912525669795377\n",
      "\t\t\tPeriodicTorsionForce: 22.644705087332056\n",
      "\t\t\tNonbondedForce: -49.717265824590896\n",
      "\t\t\tCustomNonbondedForce: 4.710927363905992\n",
      "\t\t\tCustomBondForce: 0.0\n",
      "\t\t\tAndersenThermostat: 0.0\n",
      "conducting subsequent work with the following platform: CUDA\n",
      "\t\t\tHarmonicBondForce: 0.0333668919871159\n",
      "\t\t\tHarmonicAngleForce: 1.27375250444704\n",
      "\t\t\tPeriodicTorsionForce: 16.18086681737224\n",
      "\t\t\tNonbondedForce: -38.922931420104604\n",
      "\t\t\tAndersenThermostat: 0.0\n"
     ]
    }
   ],
   "source": [
    "# Generate tyr>ala vacuum htf\n",
    "wt = 'TYR'\n",
    "proposed = 'ALA'\n",
    "outdir = \"/data/chodera/zhangi/perses_benchmark/neq/7/\"\n",
    "i = 9\n",
    "apo_delivery = PointMutationExecutor(f\"../input/{wt.lower()}_vacuum.pdb\", \n",
    "                          '1', \n",
    "                          '2', \n",
    "                          proposed,\n",
    "                          phase='vacuum',\n",
    "                          barostat=None,\n",
    "                          periodic_forcefield_kwargs=None, \n",
    "                          nonperiodic_forcefield_kwargs={'nonbondedMethod': app.NoCutoff}\n",
    "                         )\n",
    "pickle.dump(apo_delivery.get_apo_htf(), open(os.path.join(outdir, f\"{i}/{i}_vacuum.pickle\"), \"wb\" ))\n",
    "\n"
   ]
  },
  {
   "cell_type": "code",
   "execution_count": 7,
   "metadata": {},
   "outputs": [
    {
     "name": "stderr",
     "output_type": "stream",
     "text": [
      "INFO:proposal_generator:\tConducting polymer point mutation proposal...\n",
      "INFO:proposal_generator:Using matching_criterion to chose best atom map\n",
      "INFO:proposal_generator:Scaffold has symmetry of 0\n",
      "WARNING:proposal_generator:Two molecules are not similar to have a common scaffold\n",
      "WARNING:proposal_generator:Proceeding with direct mapping of molecules, but please check atom mapping and the geometry of the ligands.\n",
      "INFO:proposal_generator:len [{4: 4, 14: 8, 15: 9}]\n",
      "INFO:proposal_generator:{4: 4, 14: 8, 15: 9}\n",
      "INFO:proposal_generator:Only one map so returning that one\n",
      "INFO:proposal_generator:{4: 4, 14: 8, 15: 9}\n",
      "INFO:geometry:propose: performing forward proposal\n",
      "INFO:geometry:propose: unique new atoms detected; proceeding to _logp_propose...\n",
      "INFO:geometry:Conducting forward proposal...\n",
      "INFO:geometry:Computing proposal order with NetworkX...\n",
      "INFO:geometry:number of atoms to be placed: 12\n",
      "INFO:geometry:Atom index proposal order is [15, 16, 18, 20, 23, 21, 25, 24, 26, 17, 19, 22]\n",
      "INFO:geometry:omitted_bonds: [(23, 25)]\n",
      "INFO:geometry:direction of proposal is forward; creating atoms_with_positions and new positions from old system/topology...\n",
      "INFO:geometry:creating growth system...\n",
      "INFO:geometry:\tcreating bond force...\n",
      "INFO:geometry:\tthere are 17 bonds in reference force.\n",
      "INFO:geometry:\tcreating angle force...\n",
      "INFO:geometry:\tthere are 55 angles in reference force.\n",
      "INFO:geometry:\tcreating torsion force...\n",
      "INFO:geometry:\tcreating extra torsions force...\n",
      "INFO:geometry:\tthere are 86 torsions in reference force.\n",
      "INFO:geometry:\tcreating nonbonded force...\n",
      "INFO:geometry:\t\tgrabbing reference nonbonded method, cutoff, switching function, switching distance...\n",
      "INFO:geometry:\t\tcreating nonbonded exception force (i.e. custom bond for 1,4s)...\n",
      "INFO:geometry:\t\tlooping through exceptions calculating growth indices, and adding appropriate interactions to custom bond force.\n",
      "INFO:geometry:\t\tthere are 158 in the reference Nonbonded force\n",
      "INFO:geometry:Neglected angle terms : []\n",
      "INFO:geometry:omitted_growth_terms: {'bonds': [(23, 25)], 'angles': [(15, 25, 23), (20, 23, 25), (23, 25, 26), (24, 23, 25)], 'torsions': [(10, 15, 25, 23), (15, 25, 23, 20), (15, 25, 23, 24), (16, 15, 25, 23), (18, 20, 23, 25), (20, 23, 25, 26), (21, 20, 23, 25), (24, 23, 25, 26), (20, 25, 23, 24), (15, 23, 25, 26)], '1,4s': [(15, 20), (10, 23), (16, 23), (15, 24), (18, 25), (21, 25), (20, 26), (24, 26)]}\n",
      "INFO:geometry:extra torsions: {0: (16, 18, 20, 21, [1, Quantity(value=0.0022213748613295614, unit=radian), Quantity(value=120.0, unit=kilocalorie/mole), 6]), 1: (16, 18, 20, 23, [1, Quantity(value=3.1412909688070316, unit=radian), Quantity(value=120.0, unit=kilocalorie/mole), 5]), 2: (20, 18, 16, 15, [1, Quantity(value=-3.1391340540962216, unit=radian), Quantity(value=120.0, unit=kilocalorie/mole), 4]), 3: (18, 16, 15, 25, [1, Quantity(value=3.1373539745559547, unit=radian), Quantity(value=120.0, unit=kilocalorie/mole), 7]), 4: (18, 16, 15, 10, [1, Quantity(value=-0.012555513663626172, unit=radian), Quantity(value=120.0, unit=kilocalorie/mole), 3])}\n",
      "INFO:geometry:neglected angle terms include []\n",
      "INFO:geometry:log probability choice of torsions and atom order: -20.585051496417503\n",
      "INFO:geometry:creating platform, integrators, and contexts; setting growth parameter\n"
     ]
    },
    {
     "name": "stdout",
     "output_type": "stream",
     "text": [
      "conducting subsequent work with the following platform: CUDA\n"
     ]
    },
    {
     "name": "stderr",
     "output_type": "stream",
     "text": [
      "INFO:geometry:setting atoms_with_positions context new positions\n"
     ]
    },
    {
     "name": "stdout",
     "output_type": "stream",
     "text": [
      "conducting subsequent work with the following platform: CUDA\n"
     ]
    },
    {
     "name": "stderr",
     "output_type": "stream",
     "text": [
      "INFO:geometry:There are 12 new atoms\n",
      "INFO:geometry:\treduced angle potential = 0.25874562236045595.\n",
      "INFO:geometry:\treduced angle potential = 0.0385211428168699.\n",
      "INFO:geometry:\treduced angle potential = 0.01690471609330904.\n",
      "INFO:geometry:\treduced angle potential = 1.4391462501755132e-06.\n",
      "INFO:geometry:\treduced angle potential = 0.23775047948978986.\n",
      "INFO:geometry:\treduced angle potential = 0.905271068231181.\n",
      "INFO:geometry:\treduced angle potential = 0.7574326443313165.\n",
      "INFO:geometry:\treduced angle potential = 0.04925444145617768.\n",
      "INFO:geometry:\treduced angle potential = 0.20705684649255626.\n",
      "INFO:geometry:\treduced angle potential = 0.016831374739172268.\n",
      "INFO:geometry:\treduced angle potential = 0.43851946111440826.\n",
      "INFO:geometry:\treduced angle potential = 0.1498315276358119.\n",
      "INFO:geometry:\tbeginning construction of no_nonbonded final system...\n",
      "INFO:geometry:\tinitial no-nonbonded final system forces ['HarmonicBondForce', 'HarmonicAngleForce', 'PeriodicTorsionForce', 'NonbondedForce']\n",
      "INFO:geometry:\tfinal no-nonbonded final system forces dict_keys(['HarmonicBondForce', 'HarmonicAngleForce', 'PeriodicTorsionForce', 'NonbondedForce'])\n",
      "INFO:geometry:\tthere are 17 bond forces in the no-nonbonded final system\n",
      "INFO:geometry:\tthere are 55 angle forces in the no-nonbonded final system\n",
      "INFO:geometry:\tthere are 86 torsion forces in the no-nonbonded final system\n",
      "INFO:geometry:forward final system defined with 0 neglected angles.\n"
     ]
    },
    {
     "name": "stdout",
     "output_type": "stream",
     "text": [
      "conducting subsequent work with the following platform: CUDA\n",
      "conducting subsequent work with the following platform: CUDA\n"
     ]
    },
    {
     "name": "stderr",
     "output_type": "stream",
     "text": [
      "INFO:geometry:total reduced potential before atom placement: 16.822593959606856\n"
     ]
    },
    {
     "name": "stdout",
     "output_type": "stream",
     "text": [
      "conducting subsequent work with the following platform: CUDA\n",
      "conducting subsequent work with the following platform: CUDA\n",
      "conducting subsequent work with the following platform: CUDA\n"
     ]
    },
    {
     "name": "stderr",
     "output_type": "stream",
     "text": [
      "INFO:geometry:total reduced energy added from growth system: -37.68057965554711\n",
      "INFO:geometry:final reduced energy 45.78114552442534\n",
      "INFO:geometry:sum of energies: -20.857985695940258\n",
      "INFO:geometry:magnitude of difference in the energies: 66.6391312203656\n",
      "INFO:geometry:Final logp_proposal: 81.42195427536186\n"
     ]
    },
    {
     "name": "stdout",
     "output_type": "stream",
     "text": [
      "added energy components: [('CustomBondForce', 4.200402353459274), ('CustomAngleForce', 4.713263703513669), ('CustomTorsionForce', 9.65267300001292), ('CustomBondForce', -56.246918712532974)]\n"
     ]
    },
    {
     "name": "stderr",
     "output_type": "stream",
     "text": [
      "INFO:geometry:logp_reverse: performing reverse proposal\n",
      "INFO:geometry:logp_reverse: unique new atoms detected; proceeding to _logp_propose...\n",
      "INFO:geometry:Conducting forward proposal...\n",
      "INFO:geometry:Computing proposal order with NetworkX...\n",
      "INFO:geometry:number of atoms to be placed: 1\n",
      "INFO:geometry:Atom index proposal order is [15]\n",
      "INFO:geometry:omitted_bonds: []\n",
      "INFO:geometry:direction of proposal is reverse; creating atoms_with_positions from old system/topology\n",
      "INFO:geometry:creating growth system...\n",
      "INFO:geometry:\tcreating bond force...\n",
      "INFO:geometry:\tthere are 9 bonds in reference force.\n",
      "INFO:geometry:\tcreating angle force...\n",
      "INFO:geometry:\tthere are 36 angles in reference force.\n",
      "INFO:geometry:\tcreating torsion force...\n",
      "INFO:geometry:\tcreating extra torsions force...\n",
      "INFO:geometry:\tthere are 42 torsions in reference force.\n",
      "INFO:geometry:\tcreating nonbonded force...\n",
      "INFO:geometry:\t\tgrabbing reference nonbonded method, cutoff, switching function, switching distance...\n",
      "INFO:geometry:\t\tcreating nonbonded exception force (i.e. custom bond for 1,4s)...\n",
      "INFO:geometry:\t\tlooping through exceptions calculating growth indices, and adding appropriate interactions to custom bond force.\n",
      "INFO:geometry:\t\tthere are 98 in the reference Nonbonded force\n",
      "INFO:geometry:Neglected angle terms : []\n",
      "INFO:geometry:omitted_growth_terms: {'bonds': [], 'angles': [], 'torsions': [], '1,4s': []}\n",
      "INFO:geometry:extra torsions: {}\n",
      "INFO:geometry:neglected angle terms include []\n",
      "INFO:geometry:log probability choice of torsions and atom order: -1.0986122886681098\n",
      "INFO:geometry:creating platform, integrators, and contexts; setting growth parameter\n"
     ]
    },
    {
     "name": "stdout",
     "output_type": "stream",
     "text": [
      "conducting subsequent work with the following platform: CUDA\n"
     ]
    },
    {
     "name": "stderr",
     "output_type": "stream",
     "text": [
      "INFO:geometry:setting atoms_with_positions context old positions\n"
     ]
    },
    {
     "name": "stdout",
     "output_type": "stream",
     "text": [
      "conducting subsequent work with the following platform: CUDA\n"
     ]
    },
    {
     "name": "stderr",
     "output_type": "stream",
     "text": [
      "INFO:geometry:There are 1 new atoms\n",
      "INFO:geometry:\treduced angle potential = 1.1491328110690509.\n",
      "INFO:geometry:\tbeginning construction of no_nonbonded final system...\n",
      "INFO:geometry:\tinitial no-nonbonded final system forces ['HarmonicBondForce', 'HarmonicAngleForce', 'PeriodicTorsionForce', 'NonbondedForce']\n",
      "INFO:geometry:\tfinal no-nonbonded final system forces dict_keys(['HarmonicBondForce', 'HarmonicAngleForce', 'PeriodicTorsionForce', 'NonbondedForce'])\n",
      "INFO:geometry:\tthere are 9 bond forces in the no-nonbonded final system\n",
      "INFO:geometry:\tthere are 36 angle forces in the no-nonbonded final system\n",
      "INFO:geometry:\tthere are 42 torsion forces in the no-nonbonded final system\n",
      "INFO:geometry:reverse final system defined with 0 neglected angles.\n"
     ]
    },
    {
     "name": "stdout",
     "output_type": "stream",
     "text": [
      "conducting subsequent work with the following platform: CUDA\n",
      "conducting subsequent work with the following platform: CUDA\n"
     ]
    },
    {
     "name": "stderr",
     "output_type": "stream",
     "text": [
      "INFO:geometry:total reduced potential before atom placement: 16.822593959606852\n"
     ]
    },
    {
     "name": "stdout",
     "output_type": "stream",
     "text": [
      "conducting subsequent work with the following platform: CUDA\n",
      "conducting subsequent work with the following platform: CUDA\n",
      "conducting subsequent work with the following platform: CUDA\n"
     ]
    },
    {
     "name": "stderr",
     "output_type": "stream",
     "text": [
      "INFO:geometry:total reduced energy added from growth system: 5.093599762270188\n",
      "INFO:geometry:final reduced energy 21.9161939166645\n",
      "INFO:geometry:sum of energies: 21.91619372187704\n",
      "INFO:geometry:magnitude of difference in the energies: 1.947874608276834e-07\n",
      "INFO:geometry:Final logp_proposal: 5.46656463918695\n"
     ]
    },
    {
     "name": "stdout",
     "output_type": "stream",
     "text": [
      "added energy components: [('CustomBondForce', 0.0), ('CustomAngleForce', 1.519455634711073), ('CustomTorsionForce', 0.002188226984757185), ('CustomBondForce', 3.571955900574358)]\n"
     ]
    },
    {
     "name": "stderr",
     "output_type": "stream",
     "text": [
      "INFO:relative:Beginning nonbonded method, total particle, barostat, and exceptions retrieval...\n",
      "INFO:relative:Old system forces: dict_keys(['HarmonicBondForce', 'HarmonicAngleForce', 'PeriodicTorsionForce', 'NonbondedForce'])\n",
      "INFO:relative:New system forces: dict_keys(['HarmonicBondForce', 'HarmonicAngleForce', 'PeriodicTorsionForce', 'NonbondedForce'])\n",
      "INFO:relative:No unknown forces.\n",
      "INFO:relative:Nonbonded method to be used (i.e. from old system): 0\n",
      "INFO:relative:Adding and mapping old atoms to hybrid system...\n",
      "INFO:relative:Adding and mapping new atoms to hybrid system...\n",
      "INFO:relative:No MonteCarloBarostat added.\n",
      "INFO:relative:getDefaultPeriodicBoxVectors added to hybrid: [Quantity(value=Vec3(x=2.0, y=0.0, z=0.0), unit=nanometer), Quantity(value=Vec3(x=0.0, y=2.0, z=0.0), unit=nanometer), Quantity(value=Vec3(x=0.0, y=0.0, z=2.0), unit=nanometer)]\n",
      "INFO:relative:Determined atom classes.\n",
      "INFO:relative:Generating old system exceptions dict...\n",
      "INFO:relative:Generating new system exceptions dict...\n",
      "INFO:relative:Handling constraints...\n",
      "INFO:relative:Handling virtual sites...\n",
      "INFO:relative:\t_handle_virtual_sites: numVirtualSites: 0\n",
      "INFO:relative:Adding bond force terms...\n",
      "INFO:relative:Adding angle force terms...\n",
      "INFO:relative:Adding torsion force terms...\n",
      "INFO:relative:Adding nonbonded force terms...\n",
      "INFO:relative:\t_add_nonbonded_force_terms: <simtk.openmm.openmm.NonbondedForce; proxy of <Swig Object of type 'OpenMM::NonbondedForce *' at 0x2b6585bceea0> > added to hybrid system\n",
      "INFO:relative:\t_add_nonbonded_force_terms: nonbonded_method is NoCutoff\n",
      "INFO:relative:\t_add_nonbonded_force_terms: 0 added to standard nonbonded force\n",
      "INFO:relative:\t_add_nonbonded_force_terms: 0 added to sterics_custom_nonbonded force\n",
      "INFO:relative:\t_add_nonbonded_force_terms: <simtk.openmm.openmm.CustomNonbondedForce; proxy of <Swig Object of type 'OpenMM::CustomNonbondedForce *' at 0x2b6585bcede0> > added to hybrid system\n",
      "INFO:relative:Handling harmonic bonds...\n",
      "INFO:relative:\thandle_harmonic_bonds: looping through old_system to add relevant terms...\n",
      "INFO:relative:\thandle_harmonic_bonds: looping through new_system to add relevant terms...\n",
      "INFO:relative:Handling harmonic angles...\n",
      "INFO:relative:\thandle_harmonic_angles: looping through old_system to add relevant terms...\n",
      "INFO:relative:\thandle_harmonic_angles: looping through new_system to add relevant terms...\n",
      "INFO:relative:Handling torsion forces...\n",
      "INFO:relative:\thandle_periodic_torsion_forces: looping through old_system to add relevant terms...\n",
      "INFO:relative:\thandle_periodic_torsion_forces: looping through new_system to add relevant terms...\n",
      "INFO:relative:Handling nonbonded forces...\n",
      "INFO:relative:\thandle_nonbonded: looping through all particles in hybrid...\n",
      "INFO:relative:\thandle_nonbonded: Handling Interaction Groups...\n",
      "INFO:relative:\thandle_nonbonded: Handling Hybrid Exceptions...\n",
      "INFO:relative:\thandle_nonbonded: Handling Original Exceptions...\n",
      "INFO:relative:Handling unique_new/old interaction exceptions...\n",
      "INFO:relative:There are old or new system exceptions...proceeding.\n"
     ]
    },
    {
     "name": "stdout",
     "output_type": "stream",
     "text": [
      "conducting subsequent work with the following platform: CUDA\n",
      "conducting subsequent work with the following platform: CUDA\n",
      "\t\t\tHarmonicBondForce: 0.0333668919871159\n",
      "\t\t\tHarmonicAngleForce: 2.134739442948204\n",
      "\t\t\tPeriodicTorsionForce: 16.17613147765423\n",
      "\t\t\tNonbondedForce: -38.74516998365842\n",
      "\t\t\tAndersenThermostat: 0.0\n",
      "conducting subsequent work with the following platform: CUDA\n",
      "\t\t\tCustomBondForce: 0.033366891987115906\n",
      "\t\t\tHarmonicBondForce: 4.4245743233318136\n",
      "\t\t\tCustomAngleForce: 0.6152838082371309\n",
      "\t\t\tHarmonicAngleForce: 16.29609876196292\n",
      "\t\t\tCustomTorsionForce: 0.0\n",
      "\t\t\tPeriodicTorsionForce: 31.361017273954285\n",
      "\t\t\tNonbondedForce: -48.87730373863839\n",
      "\t\t\tCustomNonbondedForce: 4.704582417313628\n",
      "\t\t\tCustomBondForce: 0.0\n",
      "\t\t\tAndersenThermostat: 0.0\n",
      "conducting subsequent work with the following platform: CUDA\n",
      "\t\t\tCustomBondForce: 0.033366891987115906\n",
      "\t\t\tHarmonicBondForce: 4.4245743233318136\n",
      "\t\t\tCustomAngleForce: 0.6152838082371309\n",
      "\t\t\tHarmonicAngleForce: 16.29609876196292\n",
      "\t\t\tCustomTorsionForce: 0.0\n",
      "\t\t\tPeriodicTorsionForce: 31.361017273954285\n",
      "\t\t\tNonbondedForce: -63.12541380530637\n",
      "\t\t\tCustomNonbondedForce: 43.81566860994602\n",
      "\t\t\tCustomBondForce: 0.0\n",
      "\t\t\tAndersenThermostat: 0.0\n",
      "conducting subsequent work with the following platform: CUDA\n",
      "\t\t\tHarmonicBondForce: 4.45794121531893\n",
      "\t\t\tHarmonicAngleForce: 15.39192693548898\n",
      "\t\t\tPeriodicTorsionForce: 31.358829055682655\n",
      "\t\t\tNonbondedForce: -22.881706019807545\n",
      "\t\t\tAndersenThermostat: 0.0\n"
     ]
    }
   ],
   "source": [
    "# Generate ala>tyr vacuum htf\n",
    "wt = 'ALA'\n",
    "proposed = 'TYR'\n",
    "outdir = \"/data/chodera/zhangi/perses_benchmark/neq/7/\"\n",
    "i = 10\n",
    "apo_delivery = PointMutationExecutor(f\"../input/{wt.lower()}_vacuum.pdb\", \n",
    "                          '1', \n",
    "                          '2', \n",
    "                          proposed,\n",
    "                          phase='vacuum',\n",
    "                          barostat=None,\n",
    "                          periodic_forcefield_kwargs=None, \n",
    "                          nonperiodic_forcefield_kwargs={'nonbondedMethod': app.NoCutoff}\n",
    "                         )\n",
    "pickle.dump(apo_delivery.get_apo_htf(), open(os.path.join(outdir, f\"{i}/{i}_vacuum.pickle\"), \"wb\" ))\n",
    "\n"
   ]
  },
  {
   "cell_type": "code",
   "execution_count": 8,
   "metadata": {},
   "outputs": [
    {
     "name": "stderr",
     "output_type": "stream",
     "text": [
      "INFO:proposal_generator:\tConducting polymer point mutation proposal...\n",
      "INFO:proposal_generator:Using matching_criterion to chose best atom map\n",
      "INFO:proposal_generator:Scaffold has symmetry of 12\n",
      "INFO:proposal_generator:There are 12 before filtering\n",
      "INFO:proposal_generator:There are 12 after filtering to remove maps with fewer matches than 6 atoms\n",
      "INFO:proposal_generator:1 scaffold maps for A\n",
      "INFO:proposal_generator:Scaffold to molA: {0: 5, 1: 6, 2: 7, 3: 8, 4: 9, 5: 10}\n",
      "INFO:proposal_generator:1 scaffold maps for B\n",
      "INFO:proposal_generator:Scaffold to molB: {3: 5, 1: 6, 5: 7, 0: 8, 4: 9, 2: 10}\n",
      "INFO:proposal_generator:Returning map that best satisfies matching_criterion\n",
      "INFO:proposal_generator:Finding best map using matching_criterion name\n",
      "INFO:proposal_generator:{4: 4, 5: 5, 6: 6, 7: 7, 8: 8, 9: 9, 10: 10, 13: 14, 14: 15, 15: 16, 16: 17, 17: 18, 18: 19}\n",
      "INFO:geometry:propose: performing forward proposal\n",
      "INFO:geometry:propose: unique new atoms detected; proceeding to _logp_propose...\n",
      "INFO:geometry:Conducting forward proposal...\n",
      "INFO:geometry:Computing proposal order with NetworkX...\n",
      "INFO:geometry:number of atoms to be placed: 1\n",
      "INFO:geometry:Atom index proposal order is [25]\n",
      "INFO:geometry:omitted_bonds: []\n",
      "INFO:geometry:direction of proposal is forward; creating atoms_with_positions and new positions from old system/topology...\n",
      "INFO:geometry:creating growth system...\n",
      "INFO:geometry:\tcreating bond force...\n",
      "INFO:geometry:\tthere are 16 bonds in reference force.\n",
      "INFO:geometry:\tcreating angle force...\n",
      "INFO:geometry:\tthere are 54 angles in reference force.\n",
      "INFO:geometry:\tcreating torsion force...\n",
      "INFO:geometry:\tcreating extra torsions force...\n",
      "INFO:geometry:\tthere are 82 torsions in reference force.\n",
      "INFO:geometry:\tcreating nonbonded force...\n",
      "INFO:geometry:\t\tgrabbing reference nonbonded method, cutoff, switching function, switching distance...\n",
      "INFO:geometry:\t\tcreating nonbonded exception force (i.e. custom bond for 1,4s)...\n",
      "INFO:geometry:\t\tlooping through exceptions calculating growth indices, and adding appropriate interactions to custom bond force.\n",
      "INFO:geometry:\t\tthere are 154 in the reference Nonbonded force\n",
      "INFO:geometry:Neglected angle terms : []\n",
      "INFO:geometry:omitted_growth_terms: {'bonds': [], 'angles': [], 'torsions': [], '1,4s': []}\n",
      "INFO:geometry:extra torsions: {}\n",
      "INFO:geometry:neglected angle terms include []\n",
      "INFO:geometry:log probability choice of torsions and atom order: -1.3862943611198906\n",
      "INFO:geometry:creating platform, integrators, and contexts; setting growth parameter\n"
     ]
    },
    {
     "name": "stdout",
     "output_type": "stream",
     "text": [
      "conducting subsequent work with the following platform: CUDA\n"
     ]
    },
    {
     "name": "stderr",
     "output_type": "stream",
     "text": [
      "INFO:geometry:setting atoms_with_positions context new positions\n"
     ]
    },
    {
     "name": "stdout",
     "output_type": "stream",
     "text": [
      "conducting subsequent work with the following platform: CUDA\n"
     ]
    },
    {
     "name": "stderr",
     "output_type": "stream",
     "text": [
      "INFO:geometry:There are 1 new atoms\n",
      "INFO:geometry:\treduced angle potential = 2.4943836403714092.\n",
      "INFO:geometry:\tbeginning construction of no_nonbonded final system...\n",
      "INFO:geometry:\tinitial no-nonbonded final system forces ['HarmonicBondForce', 'HarmonicAngleForce', 'PeriodicTorsionForce', 'NonbondedForce']\n",
      "INFO:geometry:\tfinal no-nonbonded final system forces dict_keys(['HarmonicBondForce', 'HarmonicAngleForce', 'PeriodicTorsionForce', 'NonbondedForce'])\n",
      "INFO:geometry:\tthere are 16 bond forces in the no-nonbonded final system\n",
      "INFO:geometry:\tthere are 54 angle forces in the no-nonbonded final system\n",
      "INFO:geometry:\tthere are 82 torsion forces in the no-nonbonded final system\n",
      "INFO:geometry:forward final system defined with 0 neglected angles.\n"
     ]
    },
    {
     "name": "stdout",
     "output_type": "stream",
     "text": [
      "conducting subsequent work with the following platform: CUDA\n",
      "conducting subsequent work with the following platform: CUDA\n"
     ]
    },
    {
     "name": "stderr",
     "output_type": "stream",
     "text": [
      "INFO:geometry:total reduced potential before atom placement: 146.05073470386745\n"
     ]
    },
    {
     "name": "stdout",
     "output_type": "stream",
     "text": [
      "conducting subsequent work with the following platform: CUDA\n",
      "conducting subsequent work with the following platform: CUDA\n",
      "conducting subsequent work with the following platform: CUDA\n"
     ]
    },
    {
     "name": "stderr",
     "output_type": "stream",
     "text": [
      "INFO:geometry:total reduced energy added from growth system: 9.662971433536564\n",
      "INFO:geometry:final reduced energy 155.71370438552518\n",
      "INFO:geometry:sum of energies: 155.71370613740402\n",
      "INFO:geometry:magnitude of difference in the energies: 1.7518788357762105e-06\n",
      "INFO:geometry:Final logp_proposal: 3.8366163458266467\n"
     ]
    },
    {
     "name": "stdout",
     "output_type": "stream",
     "text": [
      "added energy components: [('CustomBondForce', 0.0), ('CustomAngleForce', 5.7732430090150055), ('CustomTorsionForce', 0.5806441646995947), ('CustomBondForce', 3.309084259821963)]\n"
     ]
    },
    {
     "name": "stderr",
     "output_type": "stream",
     "text": [
      "INFO:geometry:logp_reverse: performing reverse proposal\n",
      "INFO:geometry:logp_reverse: unique new atoms detected; proceeding to _logp_propose...\n",
      "INFO:geometry:Conducting forward proposal...\n",
      "INFO:geometry:Computing proposal order with NetworkX...\n",
      "INFO:geometry:number of atoms to be placed: 2\n",
      "INFO:geometry:Atom index proposal order is [21, 22]\n",
      "INFO:geometry:omitted_bonds: []\n",
      "INFO:geometry:direction of proposal is reverse; creating atoms_with_positions from old system/topology\n",
      "INFO:geometry:creating growth system...\n",
      "INFO:geometry:\tcreating bond force...\n",
      "INFO:geometry:\tthere are 17 bonds in reference force.\n",
      "INFO:geometry:\tcreating angle force...\n",
      "INFO:geometry:\tthere are 55 angles in reference force.\n",
      "INFO:geometry:\tcreating torsion force...\n",
      "INFO:geometry:\tcreating extra torsions force...\n",
      "INFO:geometry:\tthere are 86 torsions in reference force.\n",
      "INFO:geometry:\tcreating nonbonded force...\n",
      "INFO:geometry:\t\tgrabbing reference nonbonded method, cutoff, switching function, switching distance...\n",
      "INFO:geometry:\t\tcreating nonbonded exception force (i.e. custom bond for 1,4s)...\n",
      "INFO:geometry:\t\tlooping through exceptions calculating growth indices, and adding appropriate interactions to custom bond force.\n",
      "INFO:geometry:\t\tthere are 158 in the reference Nonbonded force\n",
      "INFO:geometry:Neglected angle terms : []\n",
      "INFO:geometry:omitted_growth_terms: {'bonds': [], 'angles': [], 'torsions': [], '1,4s': []}\n",
      "INFO:geometry:extra torsions: {0: (16, 18, 20, 21, [1, Quantity(value=0.0022213748613295614, unit=radian), Quantity(value=120.0, unit=kilocalorie/mole), 1]), 1: (21, 20, 23, 25, [1, Quantity(value=-0.0025785925399510745, unit=radian), Quantity(value=120.0, unit=kilocalorie/mole), 1])}\n",
      "INFO:geometry:neglected angle terms include []\n",
      "INFO:geometry:log probability choice of torsions and atom order: -2.0794415416798357\n",
      "INFO:geometry:creating platform, integrators, and contexts; setting growth parameter\n"
     ]
    },
    {
     "name": "stdout",
     "output_type": "stream",
     "text": [
      "conducting subsequent work with the following platform: CUDA\n"
     ]
    },
    {
     "name": "stderr",
     "output_type": "stream",
     "text": [
      "INFO:geometry:setting atoms_with_positions context old positions\n"
     ]
    },
    {
     "name": "stdout",
     "output_type": "stream",
     "text": [
      "conducting subsequent work with the following platform: CUDA\n"
     ]
    },
    {
     "name": "stderr",
     "output_type": "stream",
     "text": [
      "INFO:geometry:There are 2 new atoms\n",
      "INFO:geometry:\treduced angle potential = 0.22298966245203516.\n",
      "INFO:geometry:\treduced angle potential = 0.05747555378817861.\n",
      "INFO:geometry:\tbeginning construction of no_nonbonded final system...\n",
      "INFO:geometry:\tinitial no-nonbonded final system forces ['HarmonicBondForce', 'HarmonicAngleForce', 'PeriodicTorsionForce', 'NonbondedForce']\n",
      "INFO:geometry:\tfinal no-nonbonded final system forces dict_keys(['HarmonicBondForce', 'HarmonicAngleForce', 'PeriodicTorsionForce', 'NonbondedForce'])\n",
      "INFO:geometry:\tthere are 17 bond forces in the no-nonbonded final system\n",
      "INFO:geometry:\tthere are 55 angle forces in the no-nonbonded final system\n",
      "INFO:geometry:\tthere are 86 torsion forces in the no-nonbonded final system\n",
      "INFO:geometry:reverse final system defined with 0 neglected angles.\n"
     ]
    },
    {
     "name": "stdout",
     "output_type": "stream",
     "text": [
      "conducting subsequent work with the following platform: CUDA\n",
      "conducting subsequent work with the following platform: CUDA\n"
     ]
    },
    {
     "name": "stderr",
     "output_type": "stream",
     "text": [
      "INFO:geometry:total reduced potential before atom placement: 151.50439681240772\n"
     ]
    },
    {
     "name": "stdout",
     "output_type": "stream",
     "text": [
      "conducting subsequent work with the following platform: CUDA\n",
      "conducting subsequent work with the following platform: CUDA\n",
      "conducting subsequent work with the following platform: CUDA\n"
     ]
    },
    {
     "name": "stderr",
     "output_type": "stream",
     "text": [
      "INFO:geometry:total reduced energy added from growth system: -35.26859947797691\n",
      "INFO:geometry:final reduced energy 116.23579634227814\n",
      "INFO:geometry:sum of energies: 116.2357973344308\n",
      "INFO:geometry:magnitude of difference in the energies: 9.921526711309525e-07\n",
      "INFO:geometry:Final logp_proposal: 15.217104548433566\n"
     ]
    },
    {
     "name": "stdout",
     "output_type": "stream",
     "text": [
      "added energy components: [('CustomBondForce', 0.6281057719889585), ('CustomAngleForce', 0.7831921014091964), ('CustomTorsionForce', 1.5199877097143355), ('CustomBondForce', -38.19988506108939)]\n"
     ]
    },
    {
     "name": "stderr",
     "output_type": "stream",
     "text": [
      "INFO:relative:Beginning nonbonded method, total particle, barostat, and exceptions retrieval...\n",
      "INFO:relative:Old system forces: dict_keys(['HarmonicBondForce', 'HarmonicAngleForce', 'PeriodicTorsionForce', 'NonbondedForce'])\n",
      "INFO:relative:New system forces: dict_keys(['HarmonicBondForce', 'HarmonicAngleForce', 'PeriodicTorsionForce', 'NonbondedForce'])\n",
      "INFO:relative:No unknown forces.\n",
      "INFO:relative:Nonbonded method to be used (i.e. from old system): 0\n",
      "INFO:relative:Adding and mapping old atoms to hybrid system...\n",
      "INFO:relative:Adding and mapping new atoms to hybrid system...\n",
      "INFO:relative:No MonteCarloBarostat added.\n",
      "INFO:relative:getDefaultPeriodicBoxVectors added to hybrid: [Quantity(value=Vec3(x=2.0, y=0.0, z=0.0), unit=nanometer), Quantity(value=Vec3(x=0.0, y=2.0, z=0.0), unit=nanometer), Quantity(value=Vec3(x=0.0, y=0.0, z=2.0), unit=nanometer)]\n",
      "INFO:relative:Determined atom classes.\n",
      "INFO:relative:Generating old system exceptions dict...\n",
      "INFO:relative:Generating new system exceptions dict...\n",
      "INFO:relative:Handling constraints...\n",
      "INFO:relative:Handling virtual sites...\n",
      "INFO:relative:\t_handle_virtual_sites: numVirtualSites: 0\n",
      "INFO:relative:Adding bond force terms...\n",
      "INFO:relative:Adding angle force terms...\n",
      "INFO:relative:Adding torsion force terms...\n",
      "INFO:relative:Adding nonbonded force terms...\n",
      "INFO:relative:\t_add_nonbonded_force_terms: <simtk.openmm.openmm.NonbondedForce; proxy of <Swig Object of type 'OpenMM::NonbondedForce *' at 0x2b6585bce750> > added to hybrid system\n",
      "INFO:relative:\t_add_nonbonded_force_terms: nonbonded_method is NoCutoff\n",
      "INFO:relative:\t_add_nonbonded_force_terms: 0 added to standard nonbonded force\n",
      "INFO:relative:\t_add_nonbonded_force_terms: 0 added to sterics_custom_nonbonded force\n",
      "INFO:relative:\t_add_nonbonded_force_terms: <simtk.openmm.openmm.CustomNonbondedForce; proxy of <Swig Object of type 'OpenMM::CustomNonbondedForce *' at 0x2b6585bcec90> > added to hybrid system\n",
      "INFO:relative:Handling harmonic bonds...\n",
      "INFO:relative:\thandle_harmonic_bonds: looping through old_system to add relevant terms...\n",
      "INFO:relative:\thandle_harmonic_bonds: looping through new_system to add relevant terms...\n",
      "INFO:relative:Handling harmonic angles...\n",
      "INFO:relative:\thandle_harmonic_angles: looping through old_system to add relevant terms...\n",
      "INFO:relative:\thandle_harmonic_angles: looping through new_system to add relevant terms...\n",
      "INFO:relative:Handling torsion forces...\n",
      "INFO:relative:\thandle_periodic_torsion_forces: looping through old_system to add relevant terms...\n",
      "INFO:relative:\thandle_periodic_torsion_forces: looping through new_system to add relevant terms...\n",
      "INFO:relative:Handling nonbonded forces...\n",
      "INFO:relative:\thandle_nonbonded: looping through all particles in hybrid...\n",
      "INFO:relative:\thandle_nonbonded: Handling Interaction Groups...\n",
      "INFO:relative:\thandle_nonbonded: Handling Hybrid Exceptions...\n",
      "INFO:relative:\thandle_nonbonded: Handling Original Exceptions...\n",
      "INFO:relative:Handling unique_new/old interaction exceptions...\n",
      "INFO:relative:There are old or new system exceptions...proceeding.\n"
     ]
    },
    {
     "name": "stdout",
     "output_type": "stream",
     "text": [
      "conducting subsequent work with the following platform: CUDA\n",
      "conducting subsequent work with the following platform: CUDA\n",
      "\t\t\tHarmonicBondForce: 115.81018764974154\n",
      "\t\t\tHarmonicAngleForce: 15.986320940890279\n",
      "\t\t\tPeriodicTorsionForce: 22.63917277936658\n",
      "\t\t\tNonbondedForce: -52.10945714654621\n",
      "\t\t\tAndersenThermostat: 0.0\n",
      "conducting subsequent work with the following platform: CUDA\n",
      "\t\t\tCustomBondForce: 115.18208187775258\n",
      "\t\t\tHarmonicBondForce: 0.6281057719889586\n",
      "\t\t\tCustomAngleForce: 15.203128839481083\n",
      "\t\t\tHarmonicAngleForce: 6.556435110424203\n",
      "\t\t\tCustomTorsionForce: 0.007207122714882955\n",
      "\t\t\tPeriodicTorsionForce: 23.212607764246137\n",
      "\t\t\tNonbondedForce: -63.149101008134444\n",
      "\t\t\tCustomNonbondedForce: 14.3487295552868\n",
      "\t\t\tCustomBondForce: 0.0\n",
      "\t\t\tAndersenThermostat: 0.0\n",
      "conducting subsequent work with the following platform: CUDA\n",
      "\t\t\tCustomBondForce: 109.72579735394436\n",
      "\t\t\tHarmonicBondForce: 0.6281057719889586\n",
      "\t\t\tCustomAngleForce: 15.203128839481083\n",
      "\t\t\tHarmonicAngleForce: 6.556435110424203\n",
      "\t\t\tCustomTorsionForce: 0.009829674266172385\n",
      "\t\t\tPeriodicTorsionForce: 23.212607764246137\n",
      "\t\t\tNonbondedForce: -73.73317150911029\n",
      "\t\t\tCustomNonbondedForce: 14.62453572764591\n",
      "\t\t\tCustomBondForce: 0.0\n",
      "\t\t\tAndersenThermostat: 0.0\n",
      "conducting subsequent work with the following platform: CUDA\n",
      "\t\t\tHarmonicBondForce: 109.72579735394436\n",
      "\t\t\tHarmonicAngleForce: 20.97637184849609\n",
      "\t\t\tPeriodicTorsionForce: 21.702450596028452\n",
      "\t\t\tNonbondedForce: -20.908753015273163\n",
      "\t\t\tAndersenThermostat: 0.0\n"
     ]
    }
   ],
   "source": [
    "# Generate tyr>phe vacuum htf\n",
    "wt = 'TYR'\n",
    "proposed = 'PHE'\n",
    "outdir = \"/data/chodera/zhangi/perses_benchmark/neq/7/\"\n",
    "i = 11\n",
    "apo_delivery = PointMutationExecutor(f\"../input/{wt.lower()}_vacuum.pdb\", \n",
    "                          '1', \n",
    "                          '2', \n",
    "                          proposed,\n",
    "                          phase='vacuum',\n",
    "                          barostat=None,\n",
    "                          periodic_forcefield_kwargs=None, \n",
    "                          nonperiodic_forcefield_kwargs={'nonbondedMethod': app.NoCutoff}\n",
    "                         )\n",
    "pickle.dump(apo_delivery.get_apo_htf(), open(os.path.join(outdir, f\"{i}/{i}_vacuum.pickle\"), \"wb\" ))\n",
    "\n"
   ]
  },
  {
   "cell_type": "code",
   "execution_count": 9,
   "metadata": {},
   "outputs": [
    {
     "name": "stderr",
     "output_type": "stream",
     "text": [
      "INFO:proposal_generator:\tConducting polymer point mutation proposal...\n",
      "INFO:proposal_generator:Using matching_criterion to chose best atom map\n",
      "INFO:proposal_generator:Scaffold has symmetry of 12\n",
      "INFO:proposal_generator:There are 12 before filtering\n",
      "INFO:proposal_generator:There are 12 after filtering to remove maps with fewer matches than 6 atoms\n",
      "INFO:proposal_generator:1 scaffold maps for A\n",
      "INFO:proposal_generator:Scaffold to molA: {3: 5, 1: 6, 5: 7, 0: 8, 4: 9, 2: 10}\n",
      "INFO:proposal_generator:1 scaffold maps for B\n",
      "INFO:proposal_generator:Scaffold to molB: {0: 5, 1: 6, 2: 7, 3: 8, 4: 9, 5: 10}\n",
      "INFO:proposal_generator:Returning map that best satisfies matching_criterion\n",
      "INFO:proposal_generator:Finding best map using matching_criterion name\n",
      "INFO:proposal_generator:{4: 4, 5: 5, 7: 6, 6: 7, 9: 8, 8: 9, 10: 10, 14: 13, 15: 14, 17: 15, 16: 16, 19: 17, 18: 18}\n",
      "INFO:geometry:propose: performing forward proposal\n",
      "INFO:geometry:propose: unique new atoms detected; proceeding to _logp_propose...\n",
      "INFO:geometry:Conducting forward proposal...\n",
      "INFO:geometry:Computing proposal order with NetworkX...\n",
      "INFO:geometry:number of atoms to be placed: 2\n",
      "INFO:geometry:Atom index proposal order is [25, 26]\n",
      "INFO:geometry:omitted_bonds: []\n",
      "INFO:geometry:direction of proposal is forward; creating atoms_with_positions and new positions from old system/topology...\n",
      "INFO:geometry:creating growth system...\n",
      "INFO:geometry:\tcreating bond force...\n",
      "INFO:geometry:\tthere are 17 bonds in reference force.\n",
      "INFO:geometry:\tcreating angle force...\n",
      "INFO:geometry:\tthere are 55 angles in reference force.\n",
      "INFO:geometry:\tcreating torsion force...\n",
      "INFO:geometry:\tcreating extra torsions force...\n",
      "INFO:geometry:\tthere are 86 torsions in reference force.\n",
      "INFO:geometry:\tcreating nonbonded force...\n",
      "INFO:geometry:\t\tgrabbing reference nonbonded method, cutoff, switching function, switching distance...\n",
      "INFO:geometry:\t\tcreating nonbonded exception force (i.e. custom bond for 1,4s)...\n",
      "INFO:geometry:\t\tlooping through exceptions calculating growth indices, and adding appropriate interactions to custom bond force.\n",
      "INFO:geometry:\t\tthere are 158 in the reference Nonbonded force\n",
      "INFO:geometry:Neglected angle terms : []\n",
      "INFO:geometry:omitted_growth_terms: {'bonds': [], 'angles': [], 'torsions': [], '1,4s': []}\n",
      "INFO:geometry:extra torsions: {0: (16, 21, 22, 25, [1, Quantity(value=0.0022213748613295614, unit=radian), Quantity(value=120.0, unit=kilocalorie/mole), 1]), 1: (25, 22, 19, 20, [1, Quantity(value=-0.0025785925399510745, unit=radian), Quantity(value=120.0, unit=kilocalorie/mole), 1])}\n",
      "INFO:geometry:neglected angle terms include []\n",
      "INFO:geometry:log probability choice of torsions and atom order: -2.0794415416798357\n",
      "INFO:geometry:creating platform, integrators, and contexts; setting growth parameter\n"
     ]
    },
    {
     "name": "stdout",
     "output_type": "stream",
     "text": [
      "conducting subsequent work with the following platform: CUDA\n"
     ]
    },
    {
     "name": "stderr",
     "output_type": "stream",
     "text": [
      "INFO:geometry:setting atoms_with_positions context new positions\n"
     ]
    },
    {
     "name": "stdout",
     "output_type": "stream",
     "text": [
      "conducting subsequent work with the following platform: CUDA\n"
     ]
    },
    {
     "name": "stderr",
     "output_type": "stream",
     "text": [
      "INFO:geometry:There are 2 new atoms\n",
      "INFO:geometry:\treduced angle potential = 0.36635856096612385.\n",
      "INFO:geometry:\treduced angle potential = 0.1771372451752726.\n",
      "INFO:geometry:\tbeginning construction of no_nonbonded final system...\n",
      "INFO:geometry:\tinitial no-nonbonded final system forces ['HarmonicBondForce', 'HarmonicAngleForce', 'PeriodicTorsionForce', 'NonbondedForce']\n",
      "INFO:geometry:\tfinal no-nonbonded final system forces dict_keys(['HarmonicBondForce', 'HarmonicAngleForce', 'PeriodicTorsionForce', 'NonbondedForce'])\n",
      "INFO:geometry:\tthere are 17 bond forces in the no-nonbonded final system\n",
      "INFO:geometry:\tthere are 55 angle forces in the no-nonbonded final system\n",
      "INFO:geometry:\tthere are 86 torsion forces in the no-nonbonded final system\n",
      "INFO:geometry:forward final system defined with 0 neglected angles.\n"
     ]
    },
    {
     "name": "stdout",
     "output_type": "stream",
     "text": [
      "conducting subsequent work with the following platform: CUDA\n",
      "conducting subsequent work with the following platform: CUDA\n"
     ]
    },
    {
     "name": "stderr",
     "output_type": "stream",
     "text": [
      "INFO:geometry:total reduced potential before atom placement: 75.61486714406546\n"
     ]
    },
    {
     "name": "stdout",
     "output_type": "stream",
     "text": [
      "conducting subsequent work with the following platform: CUDA\n",
      "conducting subsequent work with the following platform: CUDA\n",
      "conducting subsequent work with the following platform: CUDA\n"
     ]
    },
    {
     "name": "stderr",
     "output_type": "stream",
     "text": [
      "INFO:geometry:total reduced energy added from growth system: -29.898989090024088\n",
      "INFO:geometry:final reduced energy 45.715877723558506\n",
      "INFO:geometry:sum of energies: 45.71587805404137\n",
      "INFO:geometry:magnitude of difference in the energies: 3.304828624095535e-07\n",
      "INFO:geometry:Final logp_proposal: 15.26926868344105\n"
     ]
    },
    {
     "name": "stdout",
     "output_type": "stream",
     "text": [
      "added energy components: [('CustomBondForce', 0.23621727576815696), ('CustomAngleForce', 7.768996294851988), ('CustomTorsionForce', 1.4199845855545468), ('CustomBondForce', -39.32418724619879)]\n"
     ]
    },
    {
     "name": "stderr",
     "output_type": "stream",
     "text": [
      "INFO:geometry:logp_reverse: performing reverse proposal\n",
      "INFO:geometry:logp_reverse: unique new atoms detected; proceeding to _logp_propose...\n",
      "INFO:geometry:Conducting forward proposal...\n",
      "INFO:geometry:Computing proposal order with NetworkX...\n",
      "INFO:geometry:number of atoms to be placed: 1\n",
      "INFO:geometry:Atom index proposal order is [23]\n",
      "INFO:geometry:omitted_bonds: []\n",
      "INFO:geometry:direction of proposal is reverse; creating atoms_with_positions from old system/topology\n",
      "INFO:geometry:creating growth system...\n",
      "INFO:geometry:\tcreating bond force...\n",
      "INFO:geometry:\tthere are 16 bonds in reference force.\n",
      "INFO:geometry:\tcreating angle force...\n",
      "INFO:geometry:\tthere are 54 angles in reference force.\n",
      "INFO:geometry:\tcreating torsion force...\n",
      "INFO:geometry:\tcreating extra torsions force...\n",
      "INFO:geometry:\tthere are 82 torsions in reference force.\n",
      "INFO:geometry:\tcreating nonbonded force...\n",
      "INFO:geometry:\t\tgrabbing reference nonbonded method, cutoff, switching function, switching distance...\n",
      "INFO:geometry:\t\tcreating nonbonded exception force (i.e. custom bond for 1,4s)...\n",
      "INFO:geometry:\t\tlooping through exceptions calculating growth indices, and adding appropriate interactions to custom bond force.\n",
      "INFO:geometry:\t\tthere are 154 in the reference Nonbonded force\n",
      "INFO:geometry:Neglected angle terms : []\n",
      "INFO:geometry:omitted_growth_terms: {'bonds': [], 'angles': [], 'torsions': [], '1,4s': []}\n",
      "INFO:geometry:extra torsions: {}\n",
      "INFO:geometry:neglected angle terms include []\n",
      "INFO:geometry:log probability choice of torsions and atom order: -1.3862943611198906\n",
      "INFO:geometry:creating platform, integrators, and contexts; setting growth parameter\n"
     ]
    },
    {
     "name": "stdout",
     "output_type": "stream",
     "text": [
      "conducting subsequent work with the following platform: CUDA\n"
     ]
    },
    {
     "name": "stderr",
     "output_type": "stream",
     "text": [
      "INFO:geometry:setting atoms_with_positions context old positions\n"
     ]
    },
    {
     "name": "stdout",
     "output_type": "stream",
     "text": [
      "conducting subsequent work with the following platform: CUDA\n"
     ]
    },
    {
     "name": "stderr",
     "output_type": "stream",
     "text": [
      "INFO:geometry:There are 1 new atoms\n",
      "INFO:geometry:\treduced angle potential = 0.7427108112054663.\n",
      "INFO:geometry:\tbeginning construction of no_nonbonded final system...\n",
      "INFO:geometry:\tinitial no-nonbonded final system forces ['HarmonicBondForce', 'HarmonicAngleForce', 'PeriodicTorsionForce', 'NonbondedForce']\n",
      "INFO:geometry:\tfinal no-nonbonded final system forces dict_keys(['HarmonicBondForce', 'HarmonicAngleForce', 'PeriodicTorsionForce', 'NonbondedForce'])\n",
      "INFO:geometry:\tthere are 16 bond forces in the no-nonbonded final system\n",
      "INFO:geometry:\tthere are 54 angle forces in the no-nonbonded final system\n",
      "INFO:geometry:\tthere are 82 torsion forces in the no-nonbonded final system\n",
      "INFO:geometry:reverse final system defined with 0 neglected angles.\n"
     ]
    },
    {
     "name": "stdout",
     "output_type": "stream",
     "text": [
      "conducting subsequent work with the following platform: CUDA\n",
      "conducting subsequent work with the following platform: CUDA\n"
     ]
    },
    {
     "name": "stderr",
     "output_type": "stream",
     "text": [
      "INFO:geometry:total reduced potential before atom placement: 72.73701884290784\n"
     ]
    },
    {
     "name": "stdout",
     "output_type": "stream",
     "text": [
      "conducting subsequent work with the following platform: CUDA\n",
      "conducting subsequent work with the following platform: CUDA\n",
      "conducting subsequent work with the following platform: CUDA\n"
     ]
    },
    {
     "name": "stderr",
     "output_type": "stream",
     "text": [
      "INFO:geometry:total reduced energy added from growth system: 4.90949228581241\n",
      "INFO:geometry:final reduced energy 77.64651100888172\n",
      "INFO:geometry:sum of energies: 77.64651112872025\n",
      "INFO:geometry:magnitude of difference in the energies: 1.198385373157862e-07\n",
      "INFO:geometry:Final logp_proposal: 5.307900835879106\n"
     ]
    },
    {
     "name": "stdout",
     "output_type": "stream",
     "text": [
      "added energy components: [('CustomBondForce', 0.0), ('CustomAngleForce', 1.5480745959434432), ('CustomTorsionForce', 0.5787329576819707), ('CustomBondForce', 2.7826847321869965)]\n"
     ]
    },
    {
     "name": "stderr",
     "output_type": "stream",
     "text": [
      "INFO:relative:Beginning nonbonded method, total particle, barostat, and exceptions retrieval...\n",
      "INFO:relative:Old system forces: dict_keys(['HarmonicBondForce', 'HarmonicAngleForce', 'PeriodicTorsionForce', 'NonbondedForce'])\n",
      "INFO:relative:New system forces: dict_keys(['HarmonicBondForce', 'HarmonicAngleForce', 'PeriodicTorsionForce', 'NonbondedForce'])\n",
      "INFO:relative:No unknown forces.\n",
      "INFO:relative:Nonbonded method to be used (i.e. from old system): 0\n",
      "INFO:relative:Adding and mapping old atoms to hybrid system...\n",
      "INFO:relative:Adding and mapping new atoms to hybrid system...\n",
      "INFO:relative:No MonteCarloBarostat added.\n",
      "INFO:relative:getDefaultPeriodicBoxVectors added to hybrid: [Quantity(value=Vec3(x=2.0, y=0.0, z=0.0), unit=nanometer), Quantity(value=Vec3(x=0.0, y=2.0, z=0.0), unit=nanometer), Quantity(value=Vec3(x=0.0, y=0.0, z=2.0), unit=nanometer)]\n",
      "INFO:relative:Determined atom classes.\n",
      "INFO:relative:Generating old system exceptions dict...\n",
      "INFO:relative:Generating new system exceptions dict...\n",
      "INFO:relative:Handling constraints...\n",
      "INFO:relative:Handling virtual sites...\n",
      "INFO:relative:\t_handle_virtual_sites: numVirtualSites: 0\n",
      "INFO:relative:Adding bond force terms...\n",
      "INFO:relative:Adding angle force terms...\n",
      "INFO:relative:Adding torsion force terms...\n",
      "INFO:relative:Adding nonbonded force terms...\n",
      "INFO:relative:\t_add_nonbonded_force_terms: <simtk.openmm.openmm.NonbondedForce; proxy of <Swig Object of type 'OpenMM::NonbondedForce *' at 0x2b6585bce960> > added to hybrid system\n",
      "INFO:relative:\t_add_nonbonded_force_terms: nonbonded_method is NoCutoff\n",
      "INFO:relative:\t_add_nonbonded_force_terms: 0 added to standard nonbonded force\n",
      "INFO:relative:\t_add_nonbonded_force_terms: 0 added to sterics_custom_nonbonded force\n",
      "INFO:relative:\t_add_nonbonded_force_terms: <simtk.openmm.openmm.CustomNonbondedForce; proxy of <Swig Object of type 'OpenMM::CustomNonbondedForce *' at 0x2b6585bceea0> > added to hybrid system\n",
      "INFO:relative:Handling harmonic bonds...\n",
      "INFO:relative:\thandle_harmonic_bonds: looping through old_system to add relevant terms...\n",
      "INFO:relative:\thandle_harmonic_bonds: looping through new_system to add relevant terms...\n",
      "INFO:relative:Handling harmonic angles...\n",
      "INFO:relative:\thandle_harmonic_angles: looping through old_system to add relevant terms...\n",
      "INFO:relative:\thandle_harmonic_angles: looping through new_system to add relevant terms...\n",
      "INFO:relative:Handling torsion forces...\n",
      "INFO:relative:\thandle_periodic_torsion_forces: looping through old_system to add relevant terms...\n",
      "INFO:relative:\thandle_periodic_torsion_forces: looping through new_system to add relevant terms...\n",
      "INFO:relative:Handling nonbonded forces...\n",
      "INFO:relative:\thandle_nonbonded: looping through all particles in hybrid...\n",
      "INFO:relative:\thandle_nonbonded: Handling Interaction Groups...\n",
      "INFO:relative:\thandle_nonbonded: Handling Hybrid Exceptions...\n",
      "INFO:relative:\thandle_nonbonded: Handling Original Exceptions...\n",
      "INFO:relative:Handling unique_new/old interaction exceptions...\n",
      "INFO:relative:There are old or new system exceptions...proceeding.\n"
     ]
    },
    {
     "name": "stdout",
     "output_type": "stream",
     "text": [
      "conducting subsequent work with the following platform: CUDA\n",
      "conducting subsequent work with the following platform: CUDA\n",
      "\t\t\tHarmonicBondForce: 25.33380021565877\n",
      "\t\t\tHarmonicAngleForce: 23.28724010352662\n",
      "\t\t\tPeriodicTorsionForce: 26.242785635405802\n",
      "\t\t\tNonbondedForce: -3.2957627364931033\n",
      "\t\t\tAndersenThermostat: 0.0\n",
      "conducting subsequent work with the following platform: CUDA\n",
      "\t\t\tCustomBondForce: 25.33380021565877\n",
      "\t\t\tHarmonicBondForce: 0.23621727576815696\n",
      "\t\t\tCustomAngleForce: 21.739165507583174\n",
      "\t\t\tHarmonicAngleForce: 9.317070890795431\n",
      "\t\t\tCustomTorsionForce: 0.9407763120114987\n",
      "\t\t\tPeriodicTorsionForce: 26.72199721485092\n",
      "\t\t\tNonbondedForce: -62.81787507439544\n",
      "\t\t\tCustomNonbondedForce: 20.19792640504699\n",
      "\t\t\tCustomBondForce: 0.0\n",
      "\t\t\tAndersenThermostat: 0.0\n",
      "conducting subsequent work with the following platform: CUDA\n",
      "\t\t\tCustomBondForce: 28.203961207772764\n",
      "\t\t\tHarmonicBondForce: 0.23621727576815696\n",
      "\t\t\tCustomAngleForce: 21.739165507583174\n",
      "\t\t\tHarmonicAngleForce: 9.317070890795431\n",
      "\t\t\tCustomTorsionForce: 0.9484642615058095\n",
      "\t\t\tPeriodicTorsionForce: 26.72199721485092\n",
      "\t\t\tNonbondedForce: -49.64544026318722\n",
      "\t\t\tCustomNonbondedForce: 19.924485667286696\n",
      "\t\t\tCustomBondForce: 0.0\n",
      "\t\t\tAndersenThermostat: 0.0\n",
      "conducting subsequent work with the following platform: CUDA\n",
      "\t\t\tHarmonicBondForce: 28.440178483540926\n",
      "\t\t\tHarmonicAngleForce: 29.50816180243516\n",
      "\t\t\tPeriodicTorsionForce: 27.09172469074736\n",
      "\t\t\tNonbondedForce: -32.50364171397091\n",
      "\t\t\tAndersenThermostat: 0.0\n"
     ]
    }
   ],
   "source": [
    "# Generate phe>tyr vacuum htf\n",
    "wt = 'PHE'\n",
    "proposed = 'TYR'\n",
    "outdir = \"/data/chodera/zhangi/perses_benchmark/neq/7/\"\n",
    "i = 12\n",
    "apo_delivery = PointMutationExecutor(f\"../input/{wt.lower()}_vacuum.pdb\", \n",
    "                          '1', \n",
    "                          '2', \n",
    "                          proposed,\n",
    "                          phase='vacuum',\n",
    "                          barostat=None,\n",
    "                          periodic_forcefield_kwargs=None, \n",
    "                          nonperiodic_forcefield_kwargs={'nonbondedMethod': app.NoCutoff}\n",
    "                         )\n",
    "pickle.dump(apo_delivery.get_apo_htf(), open(os.path.join(outdir, f\"{i}/{i}_vacuum.pickle\"), \"wb\" ))\n",
    "\n"
   ]
  },
  {
   "cell_type": "code",
   "execution_count": null,
   "metadata": {},
   "outputs": [],
   "source": []
  }
 ],
 "metadata": {
  "kernelspec": {
   "display_name": "Python 3",
   "language": "python",
   "name": "python3"
  },
  "language_info": {
   "codemirror_mode": {
    "name": "ipython",
    "version": 3
   },
   "file_extension": ".py",
   "mimetype": "text/x-python",
   "name": "python",
   "nbconvert_exporter": "python",
   "pygments_lexer": "ipython3",
   "version": "3.7.8"
  }
 },
 "nbformat": 4,
 "nbformat_minor": 4
}
