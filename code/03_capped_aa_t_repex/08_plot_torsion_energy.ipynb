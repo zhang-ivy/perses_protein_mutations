{
 "cells": [
  {
   "cell_type": "code",
   "execution_count": 19,
   "metadata": {},
   "outputs": [],
   "source": [
    "import math\n",
    "from simtk import unit\n",
    "import os\n",
    "import pickle\n",
    "import mdtraj as md\n",
    "import numpy as np\n",
    "from simtk.unit.quantity import Quantity\n",
    "from simtk.openmm import app\n",
    "from openmmforcefields.generators import SystemGenerator\n",
    "from perses.tests.test_topology_proposal import generate_atp, generate_dipeptide_top_pos_sys\n",
    "import logging \n",
    "\n",
    "# Set up logger\n",
    "_logger = logging.getLogger()\n",
    "_logger.setLevel(logging.INFO)\n",
    "\n",
    "from matplotlib import pyplot as plt\n"
   ]
  },
  {
   "cell_type": "code",
   "execution_count": 29,
   "metadata": {},
   "outputs": [],
   "source": [
    "def plot_torsion_energy(torsion_force, hybrid_indices, atom_indices, topology, positions):\n",
    "    # hybrid indices : for use in querying periodic torsion force for torsion parameters (of hybrid system)\n",
    "    # atom_indices : for use in computing dihedrals given the old or new topology\n",
    "\n",
    "    periodicities = []\n",
    "    phase_offsets = []\n",
    "    ks = []\n",
    "    for i in range(torsion_force.getNumTorsions()):\n",
    "        particle1, particle2, particle3, particle4, periodicity, phase, k = torsion_force.getTorsionParameters(i)\n",
    "        if sorted([particle1, particle2, particle3, particle4]) == sorted(hybrid_indices):\n",
    "            periodicities.append(periodicity)\n",
    "            phase_offsets.append(phase)\n",
    "            ks.append(k)\n",
    "    print(f\"periodicities: {periodicities}\")\n",
    "    print(f\"phase offsets: {phase_offsets}\")\n",
    "    print(f\"ks: {ks}\")\n",
    "    \n",
    "    # Get angles\n",
    "    angles = np.linspace(-np.pi, np.pi, endpoint=True, num=10)\n",
    "    print(f\"angles: {angles}\")\n",
    "    \n",
    "    # Compute energies\n",
    "    # (http://docs.openmm.org/latest/userguide/theory.html#periodictorsionforce)\n",
    "    def f(periodicity, angle, phase_offset, k):\n",
    "        return k*(1 + np.cos(periodicity*angle - phase_offset))\n",
    "    \n",
    "    energies = []\n",
    "    for angle in angles:\n",
    "        terms = []\n",
    "        for periodicity, phase, k in zip(periodicities, phase_offsets, ks):\n",
    "            terms.append(f(periodicity, angle, phase.value_in_unit_system(unit.md_unit_system), k.value_in_unit_system(unit.md_unit_system)))\n",
    "        energies.append(np.sum(terms))\n",
    "    print(f\"energies: {energies}\")\n",
    "    \n",
    "    # Plot the torsion energies in the order in which they appear in the torsion force\n",
    "    plt.plot(angles, energies)\n",
    "    plt.xlabel('radians')\n",
    "    plt.ylabel('Torsion energy')\n",
    "    plt.ylim(0, 10)\n",
    "    plt.show()"
   ]
  },
  {
   "cell_type": "markdown",
   "metadata": {},
   "source": [
    "# THR-ALA"
   ]
  },
  {
   "cell_type": "code",
   "execution_count": 21,
   "metadata": {},
   "outputs": [],
   "source": [
    "htf = pickle.load(open(\"/data/chodera/zhangi/perses_benchmark/neq/7/23/23_vacuum.pickle\", \"rb\" ))"
   ]
  },
  {
   "cell_type": "markdown",
   "metadata": {},
   "source": [
    "### THR"
   ]
  },
  {
   "cell_type": "code",
   "execution_count": 22,
   "metadata": {},
   "outputs": [
    {
     "data": {
      "text/plain": [
       "{0: 0,\n",
       " 1: 1,\n",
       " 2: 2,\n",
       " 3: 3,\n",
       " 4: 4,\n",
       " 5: 5,\n",
       " 6: 6,\n",
       " 7: 7,\n",
       " 8: 8,\n",
       " 9: 9,\n",
       " 10: 10,\n",
       " 11: 11,\n",
       " 12: 12,\n",
       " 13: 13,\n",
       " 14: 14,\n",
       " 15: 15,\n",
       " 16: 16,\n",
       " 17: 17,\n",
       " 18: 18,\n",
       " 19: 19,\n",
       " 20: 20,\n",
       " 21: 21,\n",
       " 22: 22,\n",
       " 23: 23,\n",
       " 24: 24,\n",
       " 25: 25}"
      ]
     },
     "execution_count": 22,
     "metadata": {},
     "output_type": "execute_result"
    }
   ],
   "source": [
    "htf.old_to_hybrid_atom_map"
   ]
  },
  {
   "cell_type": "code",
   "execution_count": 23,
   "metadata": {},
   "outputs": [
    {
     "name": "stdout",
     "output_type": "stream",
     "text": [
      "<Atom 0 (H1) of chain 0 residue 0 (ACE)>\n",
      "<Atom 1 (CH3) of chain 0 residue 0 (ACE)>\n",
      "<Atom 2 (H2) of chain 0 residue 0 (ACE)>\n",
      "<Atom 3 (H3) of chain 0 residue 0 (ACE)>\n",
      "<Atom 4 (C) of chain 0 residue 0 (ACE)>\n",
      "<Atom 5 (O) of chain 0 residue 0 (ACE)>\n",
      "<Atom 6 (N) of chain 0 residue 1 (THR)>\n",
      "<Atom 7 (H) of chain 0 residue 1 (THR)>\n",
      "<Atom 8 (CA) of chain 0 residue 1 (THR)>\n",
      "<Atom 9 (HA) of chain 0 residue 1 (THR)>\n",
      "<Atom 10 (CB) of chain 0 residue 1 (THR)>\n",
      "<Atom 11 (C) of chain 0 residue 1 (THR)>\n",
      "<Atom 12 (O) of chain 0 residue 1 (THR)>\n",
      "<Atom 13 (HB) of chain 0 residue 1 (THR)>\n",
      "<Atom 14 (CG2) of chain 0 residue 1 (THR)>\n",
      "<Atom 15 (HG21) of chain 0 residue 1 (THR)>\n",
      "<Atom 16 (HG22) of chain 0 residue 1 (THR)>\n",
      "<Atom 17 (HG23) of chain 0 residue 1 (THR)>\n",
      "<Atom 18 (OG1) of chain 0 residue 1 (THR)>\n",
      "<Atom 19 (HG1) of chain 0 residue 1 (THR)>\n",
      "<Atom 20 (N) of chain 0 residue 2 (NME)>\n",
      "<Atom 21 (H) of chain 0 residue 2 (NME)>\n",
      "<Atom 22 (C) of chain 0 residue 2 (NME)>\n",
      "<Atom 23 (H1) of chain 0 residue 2 (NME)>\n",
      "<Atom 24 (H2) of chain 0 residue 2 (NME)>\n",
      "<Atom 25 (H3) of chain 0 residue 2 (NME)>\n"
     ]
    }
   ],
   "source": [
    "for atom in htf._topology_proposal.old_topology.atoms():\n",
    "    print(atom)"
   ]
  },
  {
   "cell_type": "code",
   "execution_count": 24,
   "metadata": {},
   "outputs": [
    {
     "name": "stdout",
     "output_type": "stream",
     "text": [
      "0 <simtk.openmm.openmm.CustomBondForce; proxy of <Swig Object of type 'OpenMM::CustomBondForce *' at 0x2b16d8730900> >\n",
      "1 <simtk.openmm.openmm.HarmonicBondForce; proxy of <Swig Object of type 'OpenMM::HarmonicBondForce *' at 0x2b16d8730900> >\n",
      "2 <simtk.openmm.openmm.CustomAngleForce; proxy of <Swig Object of type 'OpenMM::CustomAngleForce *' at 0x2b16d8730900> >\n",
      "3 <simtk.openmm.openmm.HarmonicAngleForce; proxy of <Swig Object of type 'OpenMM::HarmonicAngleForce *' at 0x2b16d8730900> >\n",
      "4 <simtk.openmm.openmm.CustomTorsionForce; proxy of <Swig Object of type 'OpenMM::CustomTorsionForce *' at 0x2b16d8730900> >\n",
      "5 <simtk.openmm.openmm.PeriodicTorsionForce; proxy of <Swig Object of type 'OpenMM::PeriodicTorsionForce *' at 0x2b16d8730900> >\n",
      "6 <simtk.openmm.openmm.NonbondedForce; proxy of <Swig Object of type 'OpenMM::NonbondedForce *' at 0x2b16d8730900> >\n",
      "7 <simtk.openmm.openmm.CustomNonbondedForce; proxy of <Swig Object of type 'OpenMM::CustomNonbondedForce *' at 0x2b16d8730900> >\n",
      "8 <simtk.openmm.openmm.CustomBondForce; proxy of <Swig Object of type 'OpenMM::CustomBondForce *' at 0x2b16d8730900> >\n"
     ]
    }
   ],
   "source": [
    "for i in range(htf.hybrid_system.getNumForces()):\n",
    "    print(i, htf.hybrid_system.getForce(i))"
   ]
  },
  {
   "cell_type": "code",
   "execution_count": 25,
   "metadata": {
    "scrolled": true
   },
   "outputs": [
    {
     "name": "stdout",
     "output_type": "stream",
     "text": [
      "[6, 8, 10, 14, 4, Quantity(value=3.141592653589793, unit=radian), Quantity(value=0.004184, unit=kilojoule/mole)]\n",
      "[6, 8, 10, 14, 3, Quantity(value=0.0, unit=radian), Quantity(value=0.619232, unit=kilojoule/mole)]\n",
      "[6, 8, 10, 14, 2, Quantity(value=3.141592653589793, unit=radian), Quantity(value=0.903744, unit=kilojoule/mole)]\n",
      "[6, 8, 10, 14, 1, Quantity(value=0.0, unit=radian), Quantity(value=1.4100080000000002, unit=kilojoule/mole)]\n",
      "[6, 8, 10, 18, 4, Quantity(value=0.0, unit=radian), Quantity(value=0.39748, unit=kilojoule/mole)]\n",
      "[6, 8, 10, 18, 3, Quantity(value=0.0, unit=radian), Quantity(value=1.31796, unit=kilojoule/mole)]\n",
      "[6, 8, 10, 18, 2, Quantity(value=0.0, unit=radian), Quantity(value=0.025104, unit=kilojoule/mole)]\n",
      "[6, 8, 10, 18, 1, Quantity(value=0.0, unit=radian), Quantity(value=2.8200160000000003, unit=kilojoule/mole)]\n",
      "[8, 10, 14, 15, 3, Quantity(value=0.0, unit=radian), Quantity(value=0.66944, unit=kilojoule/mole)]\n",
      "[8, 10, 14, 16, 3, Quantity(value=0.0, unit=radian), Quantity(value=0.66944, unit=kilojoule/mole)]\n",
      "[8, 10, 14, 17, 3, Quantity(value=0.0, unit=radian), Quantity(value=0.66944, unit=kilojoule/mole)]\n",
      "[8, 10, 18, 19, 4, Quantity(value=0.0, unit=radian), Quantity(value=0.054392, unit=kilojoule/mole)]\n",
      "[8, 10, 18, 19, 3, Quantity(value=0.0, unit=radian), Quantity(value=0.987424, unit=kilojoule/mole)]\n",
      "[8, 10, 18, 19, 2, Quantity(value=0.0, unit=radian), Quantity(value=1.050184, unit=kilojoule/mole)]\n",
      "[8, 10, 18, 19, 1, Quantity(value=3.141592653589793, unit=radian), Quantity(value=0.025104, unit=kilojoule/mole)]\n",
      "[9, 8, 10, 14, 3, Quantity(value=0.0, unit=radian), Quantity(value=0.6508444444444444, unit=kilojoule/mole)]\n",
      "[9, 8, 10, 18, 1, Quantity(value=0.0, unit=radian), Quantity(value=1.046, unit=kilojoule/mole)]\n",
      "[11, 8, 10, 14, 4, Quantity(value=0.0, unit=radian), Quantity(value=0.468608, unit=kilojoule/mole)]\n",
      "[11, 8, 10, 14, 3, Quantity(value=0.0, unit=radian), Quantity(value=0.619232, unit=kilojoule/mole)]\n",
      "[11, 8, 10, 14, 2, Quantity(value=3.141592653589793, unit=radian), Quantity(value=1.209176, unit=kilojoule/mole)]\n",
      "[11, 8, 10, 14, 1, Quantity(value=3.141592653589793, unit=radian), Quantity(value=1.6987040000000002, unit=kilojoule/mole)]\n",
      "[11, 8, 10, 18, 4, Quantity(value=0.0, unit=radian), Quantity(value=0.6527040000000001, unit=kilojoule/mole)]\n",
      "[11, 8, 10, 18, 3, Quantity(value=0.0, unit=radian), Quantity(value=1.31796, unit=kilojoule/mole)]\n",
      "[11, 8, 10, 18, 2, Quantity(value=3.141592653589793, unit=radian), Quantity(value=0.497896, unit=kilojoule/mole)]\n",
      "[11, 8, 10, 18, 1, Quantity(value=3.141592653589793, unit=radian), Quantity(value=2.916248, unit=kilojoule/mole)]\n",
      "[13, 10, 14, 15, 3, Quantity(value=0.0, unit=radian), Quantity(value=0.6508444444444444, unit=kilojoule/mole)]\n",
      "[13, 10, 14, 16, 3, Quantity(value=0.0, unit=radian), Quantity(value=0.6508444444444444, unit=kilojoule/mole)]\n",
      "[13, 10, 14, 17, 3, Quantity(value=0.0, unit=radian), Quantity(value=0.6508444444444444, unit=kilojoule/mole)]\n",
      "[13, 10, 18, 19, 3, Quantity(value=0.0, unit=radian), Quantity(value=0.6973333333333334, unit=kilojoule/mole)]\n",
      "[14, 10, 18, 19, 4, Quantity(value=0.0, unit=radian), Quantity(value=0.200832, unit=kilojoule/mole)]\n",
      "[14, 10, 18, 19, 3, Quantity(value=0.0, unit=radian), Quantity(value=0.987424, unit=kilojoule/mole)]\n",
      "[14, 10, 18, 19, 2, Quantity(value=3.141592653589793, unit=radian), Quantity(value=0.330536, unit=kilojoule/mole)]\n",
      "[14, 10, 18, 19, 1, Quantity(value=0.0, unit=radian), Quantity(value=2.690312, unit=kilojoule/mole)]\n",
      "[15, 14, 10, 18, 1, Quantity(value=0.0, unit=radian), Quantity(value=1.046, unit=kilojoule/mole)]\n",
      "[16, 14, 10, 18, 1, Quantity(value=0.0, unit=radian), Quantity(value=1.046, unit=kilojoule/mole)]\n",
      "[17, 14, 10, 18, 1, Quantity(value=0.0, unit=radian), Quantity(value=1.046, unit=kilojoule/mole)]\n",
      "[0, 1, 4, 5, 1, Quantity(value=0.0, unit=radian), Quantity(value=3.3472000000000004, unit=kilojoule/mole)]\n",
      "[0, 1, 4, 5, 3, Quantity(value=3.141592653589793, unit=radian), Quantity(value=0.33472, unit=kilojoule/mole)]\n",
      "[1, 4, 6, 7, 2, Quantity(value=3.141592653589793, unit=radian), Quantity(value=10.46, unit=kilojoule/mole)]\n",
      "[1, 4, 6, 8, 2, Quantity(value=3.141592653589793, unit=radian), Quantity(value=10.46, unit=kilojoule/mole)]\n",
      "[2, 1, 4, 5, 1, Quantity(value=0.0, unit=radian), Quantity(value=3.3472000000000004, unit=kilojoule/mole)]\n",
      "[2, 1, 4, 5, 3, Quantity(value=3.141592653589793, unit=radian), Quantity(value=0.33472, unit=kilojoule/mole)]\n",
      "[3, 1, 4, 5, 1, Quantity(value=0.0, unit=radian), Quantity(value=3.3472000000000004, unit=kilojoule/mole)]\n",
      "[3, 1, 4, 5, 3, Quantity(value=3.141592653589793, unit=radian), Quantity(value=0.33472, unit=kilojoule/mole)]\n",
      "[4, 6, 8, 10, 3, Quantity(value=0.0, unit=radian), Quantity(value=3.3472000000000004, unit=kilojoule/mole)]\n",
      "[4, 6, 8, 10, 2, Quantity(value=0.0, unit=radian), Quantity(value=7.5312, unit=kilojoule/mole)]\n",
      "[4, 6, 8, 10, 1, Quantity(value=0.0, unit=radian), Quantity(value=8.368, unit=kilojoule/mole)]\n",
      "[4, 6, 8, 11, 3, Quantity(value=0.0, unit=radian), Quantity(value=1.75728, unit=kilojoule/mole)]\n",
      "[4, 6, 8, 11, 2, Quantity(value=0.0, unit=radian), Quantity(value=1.12968, unit=kilojoule/mole)]\n",
      "[5, 4, 6, 7, 2, Quantity(value=3.141592653589793, unit=radian), Quantity(value=10.46, unit=kilojoule/mole)]\n",
      "[5, 4, 6, 7, 1, Quantity(value=0.0, unit=radian), Quantity(value=8.368, unit=kilojoule/mole)]\n",
      "[5, 4, 6, 8, 2, Quantity(value=3.141592653589793, unit=radian), Quantity(value=10.46, unit=kilojoule/mole)]\n",
      "[6, 8, 10, 13, 3, Quantity(value=0.0, unit=radian), Quantity(value=0.6508444444444444, unit=kilojoule/mole)]\n",
      "[6, 8, 10, 26, 3, Quantity(value=0.0, unit=radian), Quantity(value=0.6508444444444444, unit=kilojoule/mole)]\n",
      "[6, 8, 10, 27, 3, Quantity(value=0.0, unit=radian), Quantity(value=0.6508444444444444, unit=kilojoule/mole)]\n",
      "[6, 8, 11, 20, 3, Quantity(value=3.141592653589793, unit=radian), Quantity(value=2.3012, unit=kilojoule/mole)]\n",
      "[6, 8, 11, 20, 2, Quantity(value=3.141592653589793, unit=radian), Quantity(value=6.610720000000001, unit=kilojoule/mole)]\n",
      "[6, 8, 11, 20, 1, Quantity(value=3.141592653589793, unit=radian), Quantity(value=1.8828, unit=kilojoule/mole)]\n",
      "[8, 11, 20, 21, 2, Quantity(value=3.141592653589793, unit=radian), Quantity(value=10.46, unit=kilojoule/mole)]\n",
      "[8, 11, 20, 22, 2, Quantity(value=3.141592653589793, unit=radian), Quantity(value=10.46, unit=kilojoule/mole)]\n",
      "[9, 8, 10, 13, 3, Quantity(value=0.0, unit=radian), Quantity(value=0.6508444444444444, unit=kilojoule/mole)]\n",
      "[9, 8, 10, 26, 3, Quantity(value=0.0, unit=radian), Quantity(value=0.6508444444444444, unit=kilojoule/mole)]\n",
      "[9, 8, 10, 27, 3, Quantity(value=0.0, unit=radian), Quantity(value=0.6508444444444444, unit=kilojoule/mole)]\n",
      "[9, 8, 11, 12, 1, Quantity(value=0.0, unit=radian), Quantity(value=3.3472000000000004, unit=kilojoule/mole)]\n",
      "[9, 8, 11, 12, 3, Quantity(value=3.141592653589793, unit=radian), Quantity(value=0.33472, unit=kilojoule/mole)]\n",
      "[10, 8, 11, 20, 3, Quantity(value=0.0, unit=radian), Quantity(value=1.6736000000000002, unit=kilojoule/mole)]\n",
      "[10, 8, 11, 20, 2, Quantity(value=0.0, unit=radian), Quantity(value=0.8368000000000001, unit=kilojoule/mole)]\n",
      "[10, 8, 11, 20, 1, Quantity(value=0.0, unit=radian), Quantity(value=0.8368000000000001, unit=kilojoule/mole)]\n",
      "[11, 8, 10, 13, 3, Quantity(value=0.0, unit=radian), Quantity(value=0.6508444444444444, unit=kilojoule/mole)]\n",
      "[11, 8, 10, 26, 3, Quantity(value=0.0, unit=radian), Quantity(value=0.6508444444444444, unit=kilojoule/mole)]\n",
      "[11, 8, 10, 27, 3, Quantity(value=0.0, unit=radian), Quantity(value=0.6508444444444444, unit=kilojoule/mole)]\n",
      "[12, 11, 20, 21, 2, Quantity(value=3.141592653589793, unit=radian), Quantity(value=10.46, unit=kilojoule/mole)]\n",
      "[12, 11, 20, 21, 1, Quantity(value=0.0, unit=radian), Quantity(value=8.368, unit=kilojoule/mole)]\n",
      "[12, 11, 20, 22, 2, Quantity(value=3.141592653589793, unit=radian), Quantity(value=10.46, unit=kilojoule/mole)]\n",
      "[1, 6, 4, 5, 2, Quantity(value=3.141592653589793, unit=radian), Quantity(value=43.932, unit=kilojoule/mole)]\n",
      "[4, 8, 6, 7, 2, Quantity(value=3.141592653589793, unit=radian), Quantity(value=4.6024, unit=kilojoule/mole)]\n",
      "[8, 20, 11, 12, 2, Quantity(value=3.141592653589793, unit=radian), Quantity(value=43.932, unit=kilojoule/mole)]\n",
      "[11, 22, 20, 21, 2, Quantity(value=3.141592653589793, unit=radian), Quantity(value=4.6024, unit=kilojoule/mole)]\n"
     ]
    }
   ],
   "source": [
    "torsion_force = htf.hybrid_system.getForce(5)\n",
    "for i in range(torsion_force.getNumTorsions()):\n",
    "    print(torsion_force.getTorsionParameters(i))"
   ]
  },
  {
   "cell_type": "code",
   "execution_count": 30,
   "metadata": {},
   "outputs": [
    {
     "name": "stdout",
     "output_type": "stream",
     "text": [
      "periodicities: [4, 3, 2, 1]\n",
      "phase offsets: [Quantity(value=0.0, unit=radian), Quantity(value=0.0, unit=radian), Quantity(value=0.0, unit=radian), Quantity(value=0.0, unit=radian)]\n",
      "ks: [Quantity(value=0.39748, unit=kilojoule/mole), Quantity(value=1.31796, unit=kilojoule/mole), Quantity(value=0.025104, unit=kilojoule/mole), Quantity(value=2.8200160000000003, unit=kilojoule/mole)]\n",
      "angles: [-3.14159265 -2.44346095 -1.74532925 -1.04719755 -0.34906585  0.34906585\n",
      "  1.04719755  1.74532925  2.44346095  3.14159265]\n",
      "energies: [0.845168, 2.6901326546355606, 5.010746662307136, 4.4413160000000005, 7.957740683057306, 7.957740683057306, 4.441316000000001, 5.010746662307136, 2.6901326546355606, 0.845168]\n"
     ]
    },
    {
     "data": {
      "image/png": "[encoded data removed]",
      "text/plain": [
       "<Figure size 432x288 with 1 Axes>"
      ]
     },
     "metadata": {
      "needs_background": "light"
     },
     "output_type": "display_data"
    }
   ],
   "source": [
    "torsion_force = htf.hybrid_system.getForce(5)\n",
    "plot_torsion_energy(torsion_force, [18, 10, 8, 6], [18, 10, 8, 6], htf._topology_proposal.old_topology, np.array(htf.old_positions(htf.hybrid_positions)))"
   ]
  },
  {
   "cell_type": "code",
   "execution_count": null,
   "metadata": {},
   "outputs": [],
   "source": [
    "# Check terms in CustomTorsionForce\n",
    "torsion_force = htf.hybrid_system.getForce(4)\n",
    "plot_torsion_energy(torsion_force, [18, 10, 8, 6], [18, 10, 8, 6], htf._topology_proposal.old_topology, np.array(htf.old_positions(htf.hybrid_positions)))"
   ]
  },
  {
   "cell_type": "code",
   "execution_count": null,
   "metadata": {},
   "outputs": [],
   "source": [
    "# Check terms in CustomTorsionForce\n",
    "for i in range(torsion_force.getNumTorsions()):\n",
    "    print(torsion_force.getTorsionParameters(i))"
   ]
  },
  {
   "cell_type": "markdown",
   "metadata": {},
   "source": [
    "### ALA"
   ]
  },
  {
   "cell_type": "code",
   "execution_count": 11,
   "metadata": {},
   "outputs": [
    {
     "data": {
      "text/plain": [
       "{0: 0,\n",
       " 1: 1,\n",
       " 2: 2,\n",
       " 3: 3,\n",
       " 4: 4,\n",
       " 5: 5,\n",
       " 6: 6,\n",
       " 7: 7,\n",
       " 8: 8,\n",
       " 9: 9,\n",
       " 10: 10,\n",
       " 11: 11,\n",
       " 12: 12,\n",
       " 13: 13,\n",
       " 16: 20,\n",
       " 17: 21,\n",
       " 18: 22,\n",
       " 19: 23,\n",
       " 20: 24,\n",
       " 21: 25,\n",
       " 14: 26,\n",
       " 15: 27}"
      ]
     },
     "execution_count": 11,
     "metadata": {},
     "output_type": "execute_result"
    }
   ],
   "source": [
    "htf.new_to_hybrid_atom_map"
   ]
  },
  {
   "cell_type": "code",
   "execution_count": 12,
   "metadata": {},
   "outputs": [
    {
     "name": "stdout",
     "output_type": "stream",
     "text": [
      "<Atom 0 (H1) of chain 0 residue 0 (ACE)>\n",
      "<Atom 1 (CH3) of chain 0 residue 0 (ACE)>\n",
      "<Atom 2 (H2) of chain 0 residue 0 (ACE)>\n",
      "<Atom 3 (H3) of chain 0 residue 0 (ACE)>\n",
      "<Atom 4 (C) of chain 0 residue 0 (ACE)>\n",
      "<Atom 5 (O) of chain 0 residue 0 (ACE)>\n",
      "<Atom 6 (N) of chain 0 residue 1 (ALA)>\n",
      "<Atom 7 (H) of chain 0 residue 1 (ALA)>\n",
      "<Atom 8 (CA) of chain 0 residue 1 (ALA)>\n",
      "<Atom 9 (HA) of chain 0 residue 1 (ALA)>\n",
      "<Atom 10 (CB) of chain 0 residue 1 (ALA)>\n",
      "<Atom 11 (C) of chain 0 residue 1 (ALA)>\n",
      "<Atom 12 (O) of chain 0 residue 1 (ALA)>\n",
      "<Atom 13 (HB1) of chain 0 residue 1 (ALA)>\n",
      "<Atom 14 (HB2) of chain 0 residue 1 (ALA)>\n",
      "<Atom 15 (HB3) of chain 0 residue 1 (ALA)>\n",
      "<Atom 16 (N) of chain 0 residue 2 (NME)>\n",
      "<Atom 17 (H) of chain 0 residue 2 (NME)>\n",
      "<Atom 18 (C) of chain 0 residue 2 (NME)>\n",
      "<Atom 19 (H1) of chain 0 residue 2 (NME)>\n",
      "<Atom 20 (H2) of chain 0 residue 2 (NME)>\n",
      "<Atom 21 (H3) of chain 0 residue 2 (NME)>\n"
     ]
    }
   ],
   "source": [
    "for atom in htf._topology_proposal.new_topology.atoms():\n",
    "    print(atom)"
   ]
  },
  {
   "cell_type": "code",
   "execution_count": 31,
   "metadata": {},
   "outputs": [
    {
     "name": "stdout",
     "output_type": "stream",
     "text": [
      "periodicities: [3]\n",
      "phase offsets: [Quantity(value=0.0, unit=radian)]\n",
      "ks: [Quantity(value=0.6508444444444444, unit=kilojoule/mole)]\n",
      "angles: [-3.14159265 -2.44346095 -1.74532925 -1.04719755 -0.34906585  0.34906585\n",
      "  1.04719755  1.74532925  2.44346095  3.14159265]\n",
      "energies: [0.0, 0.976266666666667, 0.9762666666666666, 0.0, 0.9762666666666666, 0.9762666666666666, 0.0, 0.9762666666666663, 0.976266666666667, 0.0]\n"
     ]
    },
    {
     "data": {
      "image/png": "[encoded data removed]",
      "text/plain": [
       "<Figure size 432x288 with 1 Axes>"
      ]
     },
     "metadata": {
      "needs_background": "light"
     },
     "output_type": "display_data"
    }
   ],
   "source": [
    "torsion_force = htf.hybrid_system.getForce(5)\n",
    "plot_torsion_energy(torsion_force, [13, 10, 8, 6], [13, 10, 8, 6], htf._topology_proposal.new_topology, np.array(htf.new_positions(htf.hybrid_positions)))"
   ]
  },
  {
   "cell_type": "markdown",
   "metadata": {},
   "source": [
    "# ALA->THR lambda=0"
   ]
  },
  {
   "cell_type": "code",
   "execution_count": 32,
   "metadata": {},
   "outputs": [],
   "source": [
    "htf = pickle.load(open(\"/data/chodera/zhangi/perses_benchmark/neq/7/22/22_vacuum.pickle\", \"rb\" ))"
   ]
  },
  {
   "cell_type": "markdown",
   "metadata": {},
   "source": [
    "### THR"
   ]
  },
  {
   "cell_type": "code",
   "execution_count": 33,
   "metadata": {},
   "outputs": [
    {
     "data": {
      "text/plain": [
       "{0: 0,\n",
       " 1: 1,\n",
       " 2: 2,\n",
       " 3: 3,\n",
       " 4: 4,\n",
       " 5: 5,\n",
       " 6: 6,\n",
       " 7: 7,\n",
       " 8: 8,\n",
       " 9: 9,\n",
       " 10: 10,\n",
       " 11: 13,\n",
       " 12: 14,\n",
       " 20: 16,\n",
       " 21: 17,\n",
       " 22: 18,\n",
       " 23: 19,\n",
       " 24: 20,\n",
       " 25: 21,\n",
       " 13: 22,\n",
       " 14: 23,\n",
       " 15: 24,\n",
       " 16: 25,\n",
       " 17: 26,\n",
       " 18: 27,\n",
       " 19: 28}"
      ]
     },
     "execution_count": 33,
     "metadata": {},
     "output_type": "execute_result"
    }
   ],
   "source": [
    "htf.new_to_hybrid_atom_map"
   ]
  },
  {
   "cell_type": "code",
   "execution_count": 34,
   "metadata": {},
   "outputs": [
    {
     "name": "stdout",
     "output_type": "stream",
     "text": [
      "<Atom 0 (H1) of chain 0 residue 0 (ACE)>\n",
      "<Atom 1 (CH3) of chain 0 residue 0 (ACE)>\n",
      "<Atom 2 (H2) of chain 0 residue 0 (ACE)>\n",
      "<Atom 3 (H3) of chain 0 residue 0 (ACE)>\n",
      "<Atom 4 (C) of chain 0 residue 0 (ACE)>\n",
      "<Atom 5 (O) of chain 0 residue 0 (ACE)>\n",
      "<Atom 6 (N) of chain 0 residue 1 (THR)>\n",
      "<Atom 7 (H) of chain 0 residue 1 (THR)>\n",
      "<Atom 8 (CA) of chain 0 residue 1 (THR)>\n",
      "<Atom 9 (HA) of chain 0 residue 1 (THR)>\n",
      "<Atom 10 (CB) of chain 0 residue 1 (THR)>\n",
      "<Atom 11 (C) of chain 0 residue 1 (THR)>\n",
      "<Atom 12 (O) of chain 0 residue 1 (THR)>\n",
      "<Atom 13 (HB) of chain 0 residue 1 (THR)>\n",
      "<Atom 14 (CG2) of chain 0 residue 1 (THR)>\n",
      "<Atom 15 (HG21) of chain 0 residue 1 (THR)>\n",
      "<Atom 16 (HG22) of chain 0 residue 1 (THR)>\n",
      "<Atom 17 (HG23) of chain 0 residue 1 (THR)>\n",
      "<Atom 18 (OG1) of chain 0 residue 1 (THR)>\n",
      "<Atom 19 (HG1) of chain 0 residue 1 (THR)>\n",
      "<Atom 20 (N) of chain 0 residue 2 (NME)>\n",
      "<Atom 21 (H) of chain 0 residue 2 (NME)>\n",
      "<Atom 22 (C) of chain 0 residue 2 (NME)>\n",
      "<Atom 23 (H1) of chain 0 residue 2 (NME)>\n",
      "<Atom 24 (H2) of chain 0 residue 2 (NME)>\n",
      "<Atom 25 (H3) of chain 0 residue 2 (NME)>\n"
     ]
    }
   ],
   "source": [
    "for atom in htf._topology_proposal.new_topology.atoms():\n",
    "    print(atom)"
   ]
  },
  {
   "cell_type": "code",
   "execution_count": 35,
   "metadata": {},
   "outputs": [
    {
     "name": "stdout",
     "output_type": "stream",
     "text": [
      "periodicities: [4, 3, 2, 1]\n",
      "phase offsets: [Quantity(value=0.0, unit=radian), Quantity(value=0.0, unit=radian), Quantity(value=0.0, unit=radian), Quantity(value=0.0, unit=radian)]\n",
      "ks: [Quantity(value=0.39748, unit=kilojoule/mole), Quantity(value=1.31796, unit=kilojoule/mole), Quantity(value=0.025104, unit=kilojoule/mole), Quantity(value=2.8200160000000003, unit=kilojoule/mole)]\n",
      "angles: [-3.14159265 -2.44346095 -1.74532925 -1.04719755 -0.34906585  0.34906585\n",
      "  1.04719755  1.74532925  2.44346095  3.14159265]\n",
      "energies: [0.845168, 2.6901326546355606, 5.010746662307136, 4.4413160000000005, 7.957740683057306, 7.957740683057306, 4.441316000000001, 5.010746662307136, 2.6901326546355606, 0.845168]\n"
     ]
    },
    {
     "data": {
      "image/png": "[encoded data removed]",
      "text/plain": [
       "<Figure size 432x288 with 1 Axes>"
      ]
     },
     "metadata": {
      "needs_background": "light"
     },
     "output_type": "display_data"
    }
   ],
   "source": [
    "torsion_force = htf.hybrid_system.getForce(5)\n",
    "plot_torsion_energy(torsion_force, [27, 10, 8, 6], [18, 10, 8, 6], htf._topology_proposal.new_topology, np.array(htf.new_positions(htf.hybrid_positions)))"
   ]
  },
  {
   "cell_type": "markdown",
   "metadata": {},
   "source": [
    "### ALA"
   ]
  },
  {
   "cell_type": "code",
   "execution_count": 36,
   "metadata": {},
   "outputs": [
    {
     "name": "stdout",
     "output_type": "stream",
     "text": [
      "<Atom 0 (H1) of chain 0 residue 0 (ACE)>\n",
      "<Atom 1 (CH3) of chain 0 residue 0 (ACE)>\n",
      "<Atom 2 (H2) of chain 0 residue 0 (ACE)>\n",
      "<Atom 3 (H3) of chain 0 residue 0 (ACE)>\n",
      "<Atom 4 (C) of chain 0 residue 0 (ACE)>\n",
      "<Atom 5 (O) of chain 0 residue 0 (ACE)>\n",
      "<Atom 6 (N) of chain 0 residue 1 (ALA)>\n",
      "<Atom 7 (H) of chain 0 residue 1 (ALA)>\n",
      "<Atom 8 (CA) of chain 0 residue 1 (ALA)>\n",
      "<Atom 9 (HA) of chain 0 residue 1 (ALA)>\n",
      "<Atom 10 (CB) of chain 0 residue 1 (ALA)>\n",
      "<Atom 11 (HB2) of chain 0 residue 1 (ALA)>\n",
      "<Atom 12 (HB3) of chain 0 residue 1 (ALA)>\n",
      "<Atom 13 (C) of chain 0 residue 1 (ALA)>\n",
      "<Atom 14 (O) of chain 0 residue 1 (ALA)>\n",
      "<Atom 15 (HB1) of chain 0 residue 1 (ALA)>\n",
      "<Atom 16 (N) of chain 0 residue 2 (NME)>\n",
      "<Atom 17 (H) of chain 0 residue 2 (NME)>\n",
      "<Atom 18 (C) of chain 0 residue 2 (NME)>\n",
      "<Atom 19 (H1) of chain 0 residue 2 (NME)>\n",
      "<Atom 20 (H2) of chain 0 residue 2 (NME)>\n",
      "<Atom 21 (H3) of chain 0 residue 2 (NME)>\n"
     ]
    }
   ],
   "source": [
    "for atom in htf._topology_proposal.old_topology.atoms():\n",
    "    print(atom)"
   ]
  },
  {
   "cell_type": "code",
   "execution_count": 37,
   "metadata": {},
   "outputs": [
    {
     "data": {
      "text/plain": [
       "{0: 0,\n",
       " 1: 1,\n",
       " 2: 2,\n",
       " 3: 3,\n",
       " 4: 4,\n",
       " 5: 5,\n",
       " 6: 6,\n",
       " 7: 7,\n",
       " 8: 8,\n",
       " 9: 9,\n",
       " 10: 10,\n",
       " 11: 11,\n",
       " 12: 12,\n",
       " 13: 13,\n",
       " 14: 14,\n",
       " 15: 15,\n",
       " 16: 16,\n",
       " 17: 17,\n",
       " 18: 18,\n",
       " 19: 19,\n",
       " 20: 20,\n",
       " 21: 21}"
      ]
     },
     "execution_count": 37,
     "metadata": {},
     "output_type": "execute_result"
    }
   ],
   "source": [
    "htf.old_to_hybrid_atom_map"
   ]
  },
  {
   "cell_type": "code",
   "execution_count": 38,
   "metadata": {},
   "outputs": [
    {
     "name": "stdout",
     "output_type": "stream",
     "text": [
      "periodicities: [3]\n",
      "phase offsets: [Quantity(value=0.0, unit=radian)]\n",
      "ks: [Quantity(value=0.6508444444444444, unit=kilojoule/mole)]\n",
      "angles: [-3.14159265 -2.44346095 -1.74532925 -1.04719755 -0.34906585  0.34906585\n",
      "  1.04719755  1.74532925  2.44346095  3.14159265]\n",
      "energies: [0.0, 0.976266666666667, 0.9762666666666666, 0.0, 0.9762666666666666, 0.9762666666666666, 0.0, 0.9762666666666663, 0.976266666666667, 0.0]\n"
     ]
    },
    {
     "data": {
      "image/png": "[encoded data removed]",
      "text/plain": [
       "<Figure size 432x288 with 1 Axes>"
      ]
     },
     "metadata": {
      "needs_background": "light"
     },
     "output_type": "display_data"
    }
   ],
   "source": [
    "torsion_force = htf.hybrid_system.getForce(5)\n",
    "plot_torsion_energy(torsion_force, [15, 10, 8, 6], [15, 10, 8, 6], htf._topology_proposal.old_topology, np.array(htf.old_positions(htf.hybrid_positions)))"
   ]
  },
  {
   "cell_type": "code",
   "execution_count": null,
   "metadata": {},
   "outputs": [],
   "source": []
  },
  {
   "cell_type": "code",
   "execution_count": null,
   "metadata": {},
   "outputs": [],
   "source": []
  }
 ],
 "metadata": {
  "kernelspec": {
   "display_name": "Python 3",
   "language": "python",
   "name": "python3"
  },
  "language_info": {
   "codemirror_mode": {
    "name": "ipython",
    "version": 3
   },
   "file_extension": ".py",
   "mimetype": "text/x-python",
   "name": "python",
   "nbconvert_exporter": "python",
   "pygments_lexer": "ipython3",
   "version": "3.7.3"
  }
 },
 "nbformat": 4,
 "nbformat_minor": 4
}
