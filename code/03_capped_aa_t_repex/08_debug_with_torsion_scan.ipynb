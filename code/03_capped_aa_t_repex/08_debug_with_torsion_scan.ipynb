{
 "cells": [
  {
   "cell_type": "markdown",
   "metadata": {},
   "source": [
    "# Run torsion scans"
   ]
  },
  {
   "cell_type": "code",
   "execution_count": 9,
   "metadata": {},
   "outputs": [],
   "source": [
    "import os\n",
    "import pickle\n",
    "import numpy as np\n",
    "from openmmtools.integrators import LangevinIntegrator\n",
    "from openmmtools.states import ThermodynamicState, CompoundThermodynamicState, SamplerState\n",
    "from perses.annihilation.lambda_protocol import RelativeAlchemicalState, LambdaProtocol\n",
    "from simtk import openmm, unit\n",
    "from tqdm import tqdm\n",
    "import mdtraj as md\n",
    "from openmmtools.mcmc import MCDihedralRotationMove, LangevinSplittingDynamicsMove\n",
    "import math\n",
    "from matplotlib import pyplot as plt\n",
    "import logging\n",
    "import copy\n",
    "from openmmtools import cache\n",
    "import scipy\n",
    "\n",
    "logger = logging.getLogger()\n",
    "logger.setLevel(logging.INFO)\n"
   ]
  },
  {
   "cell_type": "markdown",
   "metadata": {},
   "source": [
    "### Define helper function for running short MD"
   ]
  },
  {
   "cell_type": "code",
   "execution_count": 2,
   "metadata": {},
   "outputs": [],
   "source": [
    "# outdir = \"/data/chodera/zhangi/perses_benchmark/neq/7/5/\"\n",
    "# with open(os.path.join(outdir, \"5_vacuum.pickle\" ), \"rb\") as f:\n",
    "#     htf = pickle.load(f)\n",
    "\n",
    "# # Define simulation parameters\n",
    "# temperature = 300 * unit.kelvin\n",
    "# nsteps = 10000\n",
    "# timestep = 2.0 * unit.femtosecond\n",
    "# platform_name = 'CUDA'\n",
    "# collision_rate = 1.0 / unit.picoseconds\n",
    "\n",
    "# system = htf.hybrid_system\n",
    "# positions = htf.hybrid_positions\n",
    "\n",
    "# # Create CompoundThermodynamicState at the appropriate endstate\n",
    "# lambda_alchemical_state = RelativeAlchemicalState.from_system(system)\n",
    "# lambda_protocol = LambdaProtocol(functions = 'default')\n",
    "# lambda_alchemical_state.set_alchemical_parameters(0, lambda_protocol)\n",
    "# thermodynamic_state = CompoundThermodynamicState(ThermodynamicState(system, temperature=temperature), composable_states=[lambda_alchemical_state])\n",
    "\n",
    "# # Set up integrator\n",
    "# integrator = LangevinIntegrator(temperature, collision_rate, timestep)\n",
    "\n",
    "# # Set up context\n",
    "# platform = openmm.Platform.getPlatformByName(platform_name)\n",
    "# if platform_name in ['CUDA', 'OpenCL']:\n",
    "#     platform.setPropertyDefaultValue('Precision', 'mixed')\n",
    "# if platform_name in ['CUDA']:\n",
    "#     platform.setPropertyDefaultValue('DeterministicForces', 'true')\n",
    "\n",
    "# context = thermodynamic_state.create_context(integrator, platform=platform)"
   ]
  },
  {
   "cell_type": "code",
   "execution_count": 3,
   "metadata": {},
   "outputs": [],
   "source": [
    "# swigs = context.getParameters()\n",
    "# context_parameters = {q: swigs[q] for q in swigs}\n",
    "# print(context_parameters)\n"
   ]
  },
  {
   "cell_type": "code",
   "execution_count": 10,
   "metadata": {},
   "outputs": [],
   "source": [
    "def run_md(htf, endstate):\n",
    "\n",
    "    # Define simulation parameters\n",
    "    temperature = 300 * unit.kelvin\n",
    "    nsteps = 10000\n",
    "    timestep = 2.0 * unit.femtosecond\n",
    "    platform_name = 'CUDA'\n",
    "    collision_rate = 1.0 / unit.picoseconds\n",
    "\n",
    "    system = htf.hybrid_system\n",
    "    positions = htf.hybrid_positions\n",
    "\n",
    "    # Create CompoundThermodynamicState at the appropriate endstate\n",
    "    lambda_alchemical_state = RelativeAlchemicalState.from_system(system)\n",
    "    lambda_protocol = LambdaProtocol(functions = 'default')\n",
    "    lambda_alchemical_state.set_alchemical_parameters(endstate, lambda_protocol)\n",
    "    thermodynamic_state = CompoundThermodynamicState(ThermodynamicState(system, temperature=temperature), composable_states=[lambda_alchemical_state])\n",
    "\n",
    "    # Set up integrator\n",
    "    integrator = LangevinIntegrator(temperature, collision_rate, timestep)\n",
    "\n",
    "    # Set up context\n",
    "    platform = openmm.Platform.getPlatformByName(platform_name)\n",
    "    if platform_name in ['CUDA', 'OpenCL']:\n",
    "        platform.setPropertyDefaultValue('Precision', 'mixed')\n",
    "    if platform_name in ['CUDA']:\n",
    "        platform.setPropertyDefaultValue('DeterministicForces', 'true')\n",
    "        \n",
    "    context = thermodynamic_state.create_context(integrator, platform=platform)    \n",
    "#     context, integrator = cache.global_context_cache.get_context(thermodynamic_state, integrator)\n",
    "#     print(context.getParameter('lambda_angles'))\n",
    "        \n",
    "    context.setPeriodicBoxVectors(*system.getDefaultPeriodicBoxVectors())\n",
    "    context.setPositions(positions)\n",
    "    context.setVelocitiesToTemperature(temperature)\n",
    "    print(thermodynamic_state.reduced_potential(context))\n",
    "    \n",
    "    md.Trajectory(np.array(htf.old_positions(positions)), md.Topology.from_openmm(htf._topology_proposal.old_topology)).save(\"nan_before_minimize.pdb\")\n",
    "\n",
    "\n",
    "    # Minimize\n",
    "    openmm.LocalEnergyMinimizer.minimize(context)\n",
    "\n",
    "    # Run equilibration\n",
    "    for step in tqdm(range(nsteps)):\n",
    "        integrator.step(1)\n",
    "    \n",
    "    return context, thermodynamic_state"
   ]
  },
  {
   "cell_type": "markdown",
   "metadata": {},
   "source": [
    "### Sub-class MCDihedralRotationMove"
   ]
  },
  {
   "cell_type": "code",
   "execution_count": 11,
   "metadata": {},
   "outputs": [],
   "source": [
    "# 1) Remove metropolize part in apply()\n",
    "# 2) Pass -theta to compute_dihedral()\n",
    "\n",
    "class MCDihedralRotationMove2(MCDihedralRotationMove):\n",
    "    def rotate_positions(self, initial_positions):\n",
    "        \"\"\"Apply rotation to atom_subset positions.\n",
    "        Parameters\n",
    "        ----------\n",
    "        initial_positions : numpy.ndarray simtk.unit.Quantity\n",
    "            The positions of all atoms in atom_subset.\n",
    "        Returns\n",
    "        -------\n",
    "        rotated_positions : numpy.ndarray simtk.unit.Quantity\n",
    "            The rotated positions.\n",
    "        \"\"\"\n",
    "        import math\n",
    "        import copy\n",
    "        import numpy as np \n",
    "        import logging\n",
    "        logger = logging.getLogger()\n",
    "        \n",
    "        old_angle = self.compute_dihedral(initial_positions[:4])\n",
    "\n",
    "        if self.desired_angle == -np.inf:\n",
    "            # Choose a random rotation angle\n",
    "            theta = random.uniform(-math.pi, math.pi)\n",
    "        else:\n",
    "            # If desired_angle is specified, determine rotation angle\n",
    "            if not (self.desired_angle <= math.pi and self.desired_angle >= -math.pi):\n",
    "                raise Exception(\"Desired angle must be less than pi and greater than -pi\")\n",
    "            theta = self.desired_angle - old_angle\n",
    "        logger.info(f\"Rotating by {theta} radians\")\n",
    "\n",
    "        # Make a copy of the initial positions\n",
    "        new_positions = copy.deepcopy(initial_positions)\n",
    "\n",
    "        # Find the rotation axis using the initial positions\n",
    "        axis1 = 1\n",
    "        axis2 = 2\n",
    "        rotation_axis = (initial_positions[axis1] - initial_positions[axis2]) / initial_positions.unit\n",
    "\n",
    "        # Calculate the rotation matrix\n",
    "        rotation_matrix = self.generate_rotation_matrix(rotation_axis, -theta) ## CHANGED theta to negative\n",
    "\n",
    "        # Apply the rotation matrix to the target atoms\n",
    "        for atom_index in range(3, len(self.atom_subset)):\n",
    "            # Find the reduced position (substract out axis)\n",
    "            reduced_position = (initial_positions[atom_index] - initial_positions[axis2])._value\n",
    "\n",
    "            # Find the new positions by multiplying by rot matrix\n",
    "            new_position = np.dot(rotation_matrix, reduced_position) * initial_positions.unit + initial_positions[axis2]\n",
    "\n",
    "            # Update the new positions\n",
    "            new_positions[atom_index][0] = new_position[0]\n",
    "            new_positions[atom_index][1] = new_position[1]\n",
    "            new_positions[atom_index][2] = new_position[2]\n",
    "        \n",
    "        return new_positions\n",
    "    def apply(self, thermodynamic_state, sampler_state):\n",
    "        \"\"\"Apply a metropolized move to the sampler state.\n",
    "        Total number of acceptances and proposed move are updated.\n",
    "        Parameters\n",
    "        ----------\n",
    "        thermodynamic_state : openmmtools.states.ThermodynamicState\n",
    "           The thermodynamic state to use to apply the move.\n",
    "        sampler_state : openmmtools.states.SamplerState\n",
    "           The initial sampler state to apply the move to. This is modified.\n",
    "        \"\"\"\n",
    "#         from openmmtools import cache\n",
    "        import copy\n",
    "#         timer = Timer()\n",
    "#         benchmark_id = 'Applying {}'.format(self.__class__.__name__ )\n",
    "#         timer.start(benchmark_id)\n",
    "\n",
    "        # Check if we have to use the global cache.\n",
    "        if self.context_cache is None:\n",
    "            context_cache = cache.global_context_cache\n",
    "        else:\n",
    "            context_cache = self.context_cache\n",
    "\n",
    "        # Create context, any integrator works.\n",
    "        context, unused_integrator = context_cache.get_context(thermodynamic_state)\n",
    "        \n",
    "        # Compute initial energy. We don't need to set velocities to compute the potential.\n",
    "        # TODO assume sampler_state.potential_energy is the correct potential if not None?\n",
    "        sampler_state.apply_to_context(context, ignore_velocities=True)\n",
    "        initial_energy = thermodynamic_state.reduced_potential(context)\n",
    "\n",
    "        # Handle default and weird cases for atom_subset.\n",
    "        if self.atom_subset is None:\n",
    "            atom_subset = slice(None)\n",
    "        elif not isinstance(self.atom_subset, slice) and len(self.atom_subset) == 1:\n",
    "            # Slice so that initial_positions (below) will have a 2D shape.\n",
    "            atom_subset = slice(self.atom_subset[0], self.atom_subset[0]+1)\n",
    "        else:\n",
    "            atom_subset = self.atom_subset\n",
    "\n",
    "        # Store initial positions of the atoms that are moved.\n",
    "        # We'll use this also to recover in case the move is rejected.\n",
    "        if isinstance(atom_subset, slice):\n",
    "            # Numpy array when sliced return a view, they are not copied.\n",
    "            initial_positions = copy.deepcopy(sampler_state.positions[atom_subset])\n",
    "        else:\n",
    "            # This automatically creates a copy.\n",
    "            initial_positions = sampler_state.positions[atom_subset]\n",
    "\n",
    "        # Propose perturbed positions. Modifying the reference changes the sampler state.\n",
    "        proposed_positions = self._propose_positions(initial_positions)\n",
    "\n",
    "        # Compute the energy of the proposed positions.\n",
    "        sampler_state.positions[atom_subset] = proposed_positions\n",
    "        sampler_state.apply_to_context(context, ignore_velocities=True)\n",
    "        proposed_energy = thermodynamic_state.reduced_potential(context)\n",
    "\n",
    "#         # Accept or reject with Metropolis criteria.\n",
    "#         delta_energy = proposed_energy - initial_energy\n",
    "#         if (not np.isnan(proposed_energy) and\n",
    "#                 (delta_energy <= 0.0 or np.random.rand() < np.exp(-delta_energy))):\n",
    "#             self.n_accepted += 1\n",
    "#         else:\n",
    "#             # Restore original positions.\n",
    "#             sampler_state.positions[atom_subset] = initial_positions\n",
    "#         self.n_proposed += 1\n",
    "\n",
    "#         # Print timing information.\n",
    "#         timer.stop(benchmark_id)\n",
    "#         #timer.report_timing()\n",
    "        \n",
    "        return proposed_energy, sampler_state.positions"
   ]
  },
  {
   "cell_type": "markdown",
   "metadata": {},
   "source": [
    "### Define run torsion scan function"
   ]
  },
  {
   "cell_type": "code",
   "execution_count": 12,
   "metadata": {},
   "outputs": [],
   "source": [
    "def run_torsion_scan(htf, endstate, is_old, hybrid_indices, vanilla_indices, other_indices):\n",
    "    \"\"\"\n",
    "    hybrid_indices : list of int\n",
    "        indices of the dihedral atoms from the hybrid system\n",
    "    vanilla_indices : list of int\n",
    "        indices of the dihedral atoms from the vanilla (old or new) system\n",
    "    other_indices : list of int\n",
    "        indices of the non-dihedral sidechain atoms to be rotated, from the hybrid system\n",
    "    \"\"\"\n",
    "    \n",
    "    d_masses = {}\n",
    "    # Set particle masses to 0\n",
    "    for index in hybrid_indices:\n",
    "        d_masses[index] = htf.hybrid_system.getParticleMass(index)\n",
    "        htf.hybrid_system.setParticleMass(index, 0.0)\n",
    "    \n",
    "    # Turn off constraints involving massless particles\n",
    "    for i in reversed(range(htf.hybrid_system.getNumConstraints())):\n",
    "        p1, p2, d = htf.hybrid_system.getConstraintParameters(i)\n",
    "        if p1 in hybrid_indices or p2 in hybrid_indices:\n",
    "            if htf.hybrid_system.getParticleMass(p1) == 0*unit.amu or htf.hybrid_system.getParticleMass(p2) == 0*unit.amu:\n",
    "                htf.hybrid_system.removeConstraint(i)\n",
    "    \n",
    "    # Run MD\n",
    "    context, thermodynamic_state = run_md(htf, endstate)\n",
    "    \n",
    "    # Create sampler state\n",
    "    sampler_state = SamplerState.from_context(context)\n",
    "    \n",
    "    # Compute current dihedral\n",
    "    if is_old:\n",
    "        dihedral = md.compute_dihedrals(md.Trajectory(np.array(htf.old_positions(htf.hybrid_positions)), \n",
    "                                                      md.Topology.from_openmm(htf._topology_proposal.old_topology)), \n",
    "                                        np.array([vanilla_indices]))[0][0]\n",
    "    else:\n",
    "        dihedral = md.compute_dihedrals(md.Trajectory(np.array(htf.new_positions(htf.hybrid_positions)), \n",
    "                                                      md.Topology.from_openmm(htf._topology_proposal.new_topology)), \n",
    "                                        np.array([vanilla_indices]))[0][0]\n",
    "    print(dihedral)\n",
    "    \n",
    "    # Run scan\n",
    "    d = {} # key : angle, value : energy\n",
    "    new_dihedral = dihedral + 0.262\n",
    "    positions_all = []\n",
    "    for i in range(25):\n",
    "        # Add correction if the angle is no longer in the domain of [-pi, pi]\n",
    "        if new_dihedral > math.pi: \n",
    "            new_dihedral = -math.pi + (new_dihedral - math.pi)\n",
    "        elif new_dihedral < -math.pi:\n",
    "            new_dihedral = math.pi + (new_dihedral + math.pi)\n",
    "        \n",
    "        print(thermodynamic_state.reduced_potential(context))\n",
    "        \n",
    "        # Apply rotation move\n",
    "        move = MCDihedralRotationMove2(hybrid_indices + other_indices, desired_angle=new_dihedral) # Rotate the sidechain by 15 degrees\n",
    "        move.apply(thermodynamic_state, sampler_state)\n",
    "        \n",
    "        sampler_state.apply_to_context(context)\n",
    "#         openmm.LocalEnergyMinimizer.minimize(context)\n",
    "        energy = thermodynamic_state.reduced_potential(context)\n",
    "        energies = [energy]\n",
    "#         sampler_state.update_from_context(context)\n",
    "        \n",
    "#         # Apply relaxation move 3x\n",
    "#         energies = []\n",
    "#         for i in range(3):\n",
    "#             relax_move = LangevinSplittingDynamicsMove(timestep=2.0*unit.femtoseconds, collision_rate=1.0/unit.picoseconds, n_steps=10000)\n",
    "#             relax_move.apply(thermodynamic_state, sampler_state)\n",
    "#             sampler_state.apply_to_context(context)\n",
    "#             energy = thermodynamic_state.reduced_potential(context)\n",
    "#             energies.append(energy)\n",
    "#             positions = sampler_state.positions\n",
    "\n",
    "    \n",
    "        d[new_dihedral] = (np.mean(energies), scipy.stats.sem(energies))\n",
    "        \n",
    "#         if is_old:\n",
    "#             positions_all.append(htf.old_positions(positions)/unit.nanometer) # get last positions from last relaxtion\n",
    "#         else:\n",
    "#             positions_all.append(htf.new_positions(positions)/unit.nanometer) # get last positions from last relaxtion\n",
    "        \n",
    "        # Increment dihedral angle by 15 degrees\n",
    "        new_dihedral += 0.262\n",
    "    \n",
    "    print(f\"raw d: {d}\")\n",
    "        \n",
    "#     # Write out pdb of positions\n",
    "#     if is_old:\n",
    "#         md.Trajectory(np.array(positions_all), md.Topology.from_openmm(htf._topology_proposal.old_topology)).save(\"traj.pdb\")\n",
    "#     else:\n",
    "#         md.Trajectory(np.array(positions_all), md.Topology.from_openmm(htf._topology_proposal.new_topology)).save(\"traj.pdb\")\n",
    "        \n",
    "    # Plot scan data\n",
    "    minimum = min([val[0] for val in list(d.values())])\n",
    "    print(f\"min: {minimum}\")\n",
    "    d_corrected = {}\n",
    "    for k, v in d.items():\n",
    "        d_corrected[k] = (v[0] - minimum, v[1])\n",
    "    print(f\"d corrected: {d_corrected}\")\n",
    "    plt.errorbar(list(d_corrected.keys()), [mean for mean, stderr in list(d_corrected.values())], yerr=[stderr for mean, stderr in list(d_corrected.values())], fmt='o')\n",
    "    plt.show()\n",
    "    \n",
    "    # Set masses back to normal\n",
    "    for index in hybrid_indices:\n",
    "        thermodynamic_state.system.setParticleMass(index, d_masses[index])\n",
    "    thermodynamic_state.apply_to_context(context)\n",
    "    \n",
    "    return d_corrected\n",
    "    \n",
    "    "
   ]
  },
  {
   "cell_type": "code",
   "execution_count": 13,
   "metadata": {},
   "outputs": [],
   "source": [
    "torsion_scans = []"
   ]
  },
  {
   "cell_type": "markdown",
   "metadata": {},
   "source": [
    "### Generate torsion scans for the vanilla htf: ALA->THR"
   ]
  },
  {
   "cell_type": "code",
   "execution_count": 14,
   "metadata": {
    "scrolled": false
   },
   "outputs": [],
   "source": [
    "outdir = \"/data/chodera/zhangi/perses_benchmark/neq/7/5/\"\n",
    "with open(os.path.join(outdir, \"5_vacuum.pickle\" ), \"rb\") as f:\n",
    "    htf_at = pickle.load(f)"
   ]
  },
  {
   "cell_type": "markdown",
   "metadata": {},
   "source": [
    "#### Look at hybrid and vanilla topologies to determine indices"
   ]
  },
  {
   "cell_type": "code",
   "execution_count": 6,
   "metadata": {},
   "outputs": [
    {
     "name": "stdout",
     "output_type": "stream",
     "text": [
      "ACE1-H1 0\n",
      "ACE1-CH3 1\n",
      "ACE1-H2 2\n",
      "ACE1-H3 3\n",
      "ACE1-C 4\n",
      "ACE1-O 5\n",
      "ALA2-N 6\n",
      "ALA2-H 7\n",
      "ALA2-CA 8\n",
      "ALA2-HA 9\n",
      "ALA2-CB 10\n",
      "ALA2-HB2 11\n",
      "ALA2-HB3 12\n",
      "ALA2-C 13\n",
      "ALA2-O 14\n",
      "ALA2-HB1 15\n",
      "ALA2-HB 22\n",
      "ALA2-CG2 23\n",
      "ALA2-HG21 24\n",
      "ALA2-HG22 25\n",
      "ALA2-HG23 26\n",
      "ALA2-OG1 27\n",
      "ALA2-HG1 28\n",
      "NME3-N 16\n",
      "NME3-H 17\n",
      "NME3-C 18\n",
      "NME3-H1 19\n",
      "NME3-H2 20\n",
      "NME3-H3 21\n"
     ]
    }
   ],
   "source": [
    "for atom in htf_at.hybrid_topology.atoms:\n",
    "    print(atom, atom.index)"
   ]
  },
  {
   "cell_type": "code",
   "execution_count": 7,
   "metadata": {
    "scrolled": true
   },
   "outputs": [
    {
     "name": "stdout",
     "output_type": "stream",
     "text": [
      "<Atom 0 (H1) of chain 0 residue 0 (ACE)> 0\n",
      "<Atom 1 (CH3) of chain 0 residue 0 (ACE)> 1\n",
      "<Atom 2 (H2) of chain 0 residue 0 (ACE)> 2\n",
      "<Atom 3 (H3) of chain 0 residue 0 (ACE)> 3\n",
      "<Atom 4 (C) of chain 0 residue 0 (ACE)> 4\n",
      "<Atom 5 (O) of chain 0 residue 0 (ACE)> 5\n",
      "<Atom 6 (N) of chain 0 residue 1 (ALA)> 6\n",
      "<Atom 7 (H) of chain 0 residue 1 (ALA)> 7\n",
      "<Atom 8 (CA) of chain 0 residue 1 (ALA)> 8\n",
      "<Atom 9 (HA) of chain 0 residue 1 (ALA)> 9\n",
      "<Atom 10 (CB) of chain 0 residue 1 (ALA)> 10\n",
      "<Atom 11 (HB2) of chain 0 residue 1 (ALA)> 11\n",
      "<Atom 12 (HB3) of chain 0 residue 1 (ALA)> 12\n",
      "<Atom 13 (C) of chain 0 residue 1 (ALA)> 13\n",
      "<Atom 14 (O) of chain 0 residue 1 (ALA)> 14\n",
      "<Atom 15 (HB1) of chain 0 residue 1 (ALA)> 15\n",
      "<Atom 16 (N) of chain 0 residue 2 (NME)> 16\n",
      "<Atom 17 (H) of chain 0 residue 2 (NME)> 17\n",
      "<Atom 18 (C) of chain 0 residue 2 (NME)> 18\n",
      "<Atom 19 (H1) of chain 0 residue 2 (NME)> 19\n",
      "<Atom 20 (H2) of chain 0 residue 2 (NME)> 20\n",
      "<Atom 21 (H3) of chain 0 residue 2 (NME)> 21\n"
     ]
    }
   ],
   "source": [
    "for atom in htf_at._topology_proposal.old_topology.atoms():\n",
    "    print(atom, atom.index)"
   ]
  },
  {
   "cell_type": "code",
   "execution_count": 8,
   "metadata": {},
   "outputs": [
    {
     "name": "stdout",
     "output_type": "stream",
     "text": [
      "<Atom 0 (H1) of chain 0 residue 0 (ACE)> 0\n",
      "<Atom 1 (CH3) of chain 0 residue 0 (ACE)> 1\n",
      "<Atom 2 (H2) of chain 0 residue 0 (ACE)> 2\n",
      "<Atom 3 (H3) of chain 0 residue 0 (ACE)> 3\n",
      "<Atom 4 (C) of chain 0 residue 0 (ACE)> 4\n",
      "<Atom 5 (O) of chain 0 residue 0 (ACE)> 5\n",
      "<Atom 6 (N) of chain 0 residue 1 (THR)> 6\n",
      "<Atom 7 (H) of chain 0 residue 1 (THR)> 7\n",
      "<Atom 8 (CA) of chain 0 residue 1 (THR)> 8\n",
      "<Atom 9 (HA) of chain 0 residue 1 (THR)> 9\n",
      "<Atom 10 (CB) of chain 0 residue 1 (THR)> 10\n",
      "<Atom 11 (C) of chain 0 residue 1 (THR)> 11\n",
      "<Atom 12 (O) of chain 0 residue 1 (THR)> 12\n",
      "<Atom 13 (HB) of chain 0 residue 1 (THR)> 13\n",
      "<Atom 14 (CG2) of chain 0 residue 1 (THR)> 14\n",
      "<Atom 15 (HG21) of chain 0 residue 1 (THR)> 15\n",
      "<Atom 16 (HG22) of chain 0 residue 1 (THR)> 16\n",
      "<Atom 17 (HG23) of chain 0 residue 1 (THR)> 17\n",
      "<Atom 18 (OG1) of chain 0 residue 1 (THR)> 18\n",
      "<Atom 19 (HG1) of chain 0 residue 1 (THR)> 19\n",
      "<Atom 20 (N) of chain 0 residue 2 (NME)> 20\n",
      "<Atom 21 (H) of chain 0 residue 2 (NME)> 21\n",
      "<Atom 22 (C) of chain 0 residue 2 (NME)> 22\n",
      "<Atom 23 (H1) of chain 0 residue 2 (NME)> 23\n",
      "<Atom 24 (H2) of chain 0 residue 2 (NME)> 24\n",
      "<Atom 25 (H3) of chain 0 residue 2 (NME)> 25\n"
     ]
    }
   ],
   "source": [
    "for atom in htf_at._topology_proposal.new_topology.atoms():\n",
    "    print(atom, atom.index)"
   ]
  },
  {
   "cell_type": "code",
   "execution_count": 15,
   "metadata": {
    "scrolled": true
   },
   "outputs": [
    {
     "name": "stderr",
     "output_type": "stream",
     "text": [
      "\r",
      "  0%|          | 0/10000 [00:00<?, ?it/s]"
     ]
    },
    {
     "name": "stdout",
     "output_type": "stream",
     "text": [
      "-77.90257563681348\n"
     ]
    },
    {
     "name": "stderr",
     "output_type": "stream",
     "text": [
      "100%|██████████| 10000/10000 [00:01<00:00, 9235.13it/s]\n",
      "INFO:root:Rotating by 0.2620000367825073 radians\n",
      "INFO:root:Rotating by 0.262 radians\n",
      "INFO:root:Rotating by 0.26199999999999957 radians\n",
      "INFO:root:Rotating by 0.26200000000000023 radians\n",
      "INFO:root:Rotating by 0.26200000000000045 radians\n"
     ]
    },
    {
     "name": "stdout",
     "output_type": "stream",
     "text": [
      "1.038905\n",
      "-87.08475586356525\n",
      "-118.62206182012166\n",
      "-116.49056055734124\n",
      "-113.85737865169544\n",
      "-112.1688587280089\n"
     ]
    },
    {
     "name": "stderr",
     "output_type": "stream",
     "text": [
      "INFO:root:Rotating by 0.26199999999999957 radians\n",
      "INFO:root:Rotating by 0.262 radians\n"
     ]
    },
    {
     "name": "stdout",
     "output_type": "stream",
     "text": [
      "-112.67727037977545\n",
      "-115.05720757774449\n"
     ]
    },
    {
     "name": "stderr",
     "output_type": "stream",
     "text": [
      "INFO:root:Rotating by 0.262 radians\n",
      "INFO:root:Rotating by -6.021185307179591 radians\n",
      "INFO:root:Rotating by 0.2620000000000049 radians\n",
      "INFO:root:Rotating by 0.26199999999999957 radians\n",
      "INFO:root:Rotating by 0.262 radians\n"
     ]
    },
    {
     "name": "stdout",
     "output_type": "stream",
     "text": [
      "-117.58932253552918\n",
      "-118.95202020586349\n",
      "-118.78987561431492\n",
      "-117.05055045428809\n",
      "-114.71711771929061\n"
     ]
    },
    {
     "name": "stderr",
     "output_type": "stream",
     "text": [
      "INFO:root:Rotating by 0.26200000000000045 radians\n",
      "INFO:root:Rotating by 0.26199999999999934 radians\n",
      "INFO:root:Rotating by 0.2619999999999998 radians\n",
      "INFO:root:Rotating by 0.2619999999999998 radians\n",
      "INFO:root:Rotating by 0.26200000000000045 radians\n"
     ]
    },
    {
     "name": "stdout",
     "output_type": "stream",
     "text": [
      "-113.43063766535161\n",
      "-114.16203709132478\n",
      "-116.28565902306082\n",
      "-118.46812619935491\n",
      "-119.49261196131647\n"
     ]
    },
    {
     "name": "stderr",
     "output_type": "stream",
     "text": [
      "INFO:root:Rotating by 0.2619999999999997 radians\n",
      "INFO:root:Rotating by 0.2620000000000001 radians\n",
      "INFO:root:Rotating by 0.2619999999999995 radians\n",
      "INFO:root:Rotating by 0.26199999999998624 radians\n",
      "INFO:root:Rotating by 0.2620000000000139 radians\n"
     ]
    },
    {
     "name": "stdout",
     "output_type": "stream",
     "text": [
      "-118.6706599209371\n",
      "-116.3741007420032\n",
      "-113.62024299610837\n",
      "-112.27464495870551\n",
      "-113.18362945775536\n"
     ]
    },
    {
     "name": "stderr",
     "output_type": "stream",
     "text": [
      "INFO:root:Rotating by 0.26200000000000045 radians\n",
      "INFO:root:Rotating by 0.2619999999999997 radians\n",
      "INFO:root:Rotating by 0.26199999999999957 radians\n"
     ]
    },
    {
     "name": "stdout",
     "output_type": "stream",
     "text": [
      "-115.61672372493078\n",
      "-118.14760903769657\n",
      "-119.32024064355231\n",
      "raw d: {1.3009050245285034: (-118.62206182012166, nan), 1.5629050245285034: (-116.49056055734124, nan), 1.8249050245285034: (-113.85737865169544, nan), 2.0869050245285035: (-112.1688587280089, nan), 2.3489050245285035: (-112.67727037977545, nan), 2.6109050245285035: (-115.05720757774449, nan), 2.8729050245285035: (-117.58932253552918, nan), 3.1349050245285035: (-118.95202020586349, nan), -2.8862802826510827: (-118.78987561431492, nan), -2.6242802826510827: (-117.05055045428809, nan), -2.3622802826510827: (-114.71711771929061, nan), -2.1002802826510827: (-113.43063766535161, nan), -1.8382802826510827: (-114.16203709132478, nan), -1.5762802826510827: (-116.28565902306082, nan), -1.3142802826510827: (-118.46812619935491, nan), -1.0522802826510826: (-119.49261196131647, nan), -0.7902802826510826: (-118.6706599209371, nan), -0.5282802826510826: (-116.3741007420032, nan), -0.2662802826510826: (-113.62024299610837, nan), -0.004280282651082601: (-112.27464495870551, nan), 0.2577197173489174: (-113.18362945775536, nan), 0.5197197173489174: (-115.61672372493078, nan), 0.7817197173489174: (-118.14760903769657, nan), 1.0437197173489174: (-119.32024064355231, nan), 1.3057197173489175: (-118.67531079424144, nan)}\n",
      "min: -119.49261196131647\n",
      "d corrected: {1.3009050245285034: (0.870550141194812, nan), 1.5629050245285034: (3.00205140397523, nan), 1.8249050245285034: (5.635233309621029, nan), 2.0869050245285035: (7.3237532333075706, nan), 2.3489050245285035: (6.81534158154102, nan), 2.6109050245285035: (4.435404383571978, nan), 2.8729050245285035: (1.9032894257872925, nan), 3.1349050245285035: (0.5405917554529793, nan), -2.8862802826510827: (0.7027363470015473, nan), -2.6242802826510827: (2.4420615070283844, nan), -2.3622802826510827: (4.775494242025857, nan), -2.1002802826510827: (6.061974295964859, nan), -1.8382802826510827: (5.330574869991693, nan), -1.5762802826510827: (3.206952938255654, nan), -1.3142802826510827: (1.0244857619615573, nan), -1.0522802826510826: (0.0, nan), -0.7902802826510826: (0.8219520403793723, nan), -0.5282802826510826: (3.1185112193132767, nan), -0.2662802826510826: (5.872368965208096, nan), -0.004280282651082601: (7.217967002610962, nan), 0.2577197173489174: (6.308982503561111, nan), 0.5197197173489174: (3.8758882363856912, nan), 0.7817197173489174: (1.3450029236199015, nan), 1.0437197173489174: (0.17237131776415993, nan), 1.3057197173489175: (0.8173011670750299, nan)}\n"
     ]
    },
    {
     "data": {
      "image/png": "[encoded data removed]",
      "text/plain": [
       "<Figure size 432x288 with 1 Axes>"
      ]
     },
     "metadata": {
      "needs_background": "light"
     },
     "output_type": "display_data"
    }
   ],
   "source": [
    "# ALA->THR -- ALA at lambda = 0\n",
    "run_torsion_scan(htf_at, 0, True, [6, 8, 10, 15], [6, 8, 10, 15], [11, 12])"
   ]
  },
  {
   "cell_type": "code",
   "execution_count": 15,
   "metadata": {
    "scrolled": true
   },
   "outputs": [
    {
     "name": "stderr",
     "output_type": "stream",
     "text": [
      " 10%|▉         | 992/10000 [00:00<00:00, 9918.14it/s]"
     ]
    },
    {
     "name": "stdout",
     "output_type": "stream",
     "text": [
      "-77.90257563681348\n"
     ]
    },
    {
     "name": "stderr",
     "output_type": "stream",
     "text": [
      "100%|██████████| 10000/10000 [00:00<00:00, 12599.92it/s]\n",
      "INFO:root:Rotating by 0.2620000870596926 radians\n",
      "INFO:root:Rotating by 0.2619999999999998 radians\n",
      "INFO:root:Rotating by 0.2619999999999999 radians\n",
      "INFO:root:Rotating by 0.26199999999999984 radians\n",
      "INFO:root:Rotating by 0.2620000000000011 radians\n",
      "INFO:root:Rotating by 0.2619999999999981 radians\n",
      "INFO:root:Rotating by 0.2620000000000007 radians\n",
      "INFO:root:Rotating by 0.26200000000000034 radians\n",
      "INFO:root:Rotating by 0.262 radians\n",
      "INFO:root:Rotating by 0.2619999999999998 radians\n",
      "INFO:root:Rotating by 0.26200000000000023 radians\n",
      "INFO:root:Rotating by 0.2619999999999998 radians\n",
      "INFO:root:Rotating by 0.262 radians\n",
      "INFO:root:Rotating by 0.26200000000000045 radians\n",
      "INFO:root:Rotating by 0.262 radians\n",
      "INFO:root:Rotating by 0.26199999999999957 radians\n",
      "INFO:root:Rotating by -6.021185307179586 radians\n",
      "INFO:root:Rotating by 0.26199999999999957 radians\n",
      "INFO:root:Rotating by 0.262 radians\n",
      "INFO:root:Rotating by 0.26199999999999957 radians\n",
      "INFO:root:Rotating by 0.26200000000000045 radians\n",
      "INFO:root:Rotating by 0.262 radians\n",
      "INFO:root:Rotating by 0.26200000000000023 radians\n",
      "INFO:root:Rotating by 0.26200000000000023 radians\n"
     ]
    },
    {
     "name": "stdout",
     "output_type": "stream",
     "text": [
      "-1.1785822\n",
      "-55.22245288273347\n",
      "-50.242571783687794\n",
      "-43.425865632515084\n",
      "-36.443490330866645\n",
      "-32.010083882861025\n",
      "-32.459600812688166\n",
      "-37.75346732588688\n",
      "-45.4833563522977\n",
      "-52.84951416862261\n",
      "-58.07566384335237\n",
      "-60.69731527491249\n",
      "-61.53053726425656\n",
      "-62.35733913791588\n",
      "-64.79749254975322\n",
      "-68.87166911598216\n",
      "-72.94870952641526\n",
      "-75.15106298417643\n",
      "-74.5313084871597\n",
      "-71.35725449868326\n",
      "-66.89679213703405\n",
      "-62.84837051103356\n",
      "-60.356858540595084\n",
      "-59.180836021554995\n",
      "-57.93467475395412\n",
      "-55.1517072870494\n"
     ]
    },
    {
     "name": "stderr",
     "output_type": "stream",
     "text": [
      "INFO:root:Rotating by 0.26200000000000045 radians\n"
     ]
    },
    {
     "name": "stdout",
     "output_type": "stream",
     "text": [
      "raw d: {-0.9165821914672851: (-50.242571783687794, nan), -0.6545821914672851: (-43.425865632515084, nan), -0.3925821914672851: (-36.443490330866645, nan), -0.1305821914672851: (-32.010083882861025, nan), 0.1314178085327149: (-32.459600812688166, nan), 0.3934178085327149: (-37.75346732588688, nan), 0.6554178085327149: (-45.4833563522977, nan), 0.9174178085327149: (-52.84951416862261, nan), 1.179417808532715: (-58.07566384335237, nan), 1.441417808532715: (-60.69731527491249, nan), 1.703417808532715: (-61.53053726425656, nan), 1.965417808532715: (-62.35733913791588, nan), 2.227417808532715: (-64.79749254975322, nan), 2.489417808532715: (-68.87166911598216, nan), 2.751417808532715: (-72.94870952641526, nan), 3.013417808532715: (-75.15106298417643, nan), -3.007767498646871: (-74.5313084871597, nan), -2.745767498646871: (-71.35725449868326, nan), -2.483767498646871: (-66.89679213703405, nan), -2.221767498646871: (-62.84837051103356, nan), -1.9597674986468712: (-60.356858540595084, nan), -1.6977674986468712: (-59.180836021554995, nan), -1.4357674986468711: (-57.93467475395412, nan), -1.1737674986468711: (-55.1517072870494, nan), -0.9117674986468711: (-50.130741591784464, nan)}\n",
      "min: -75.15106298417643\n",
      "d corrected: {-0.9165821914672851: (24.90849120048864, nan), -0.6545821914672851: (31.72519735166135, nan), -0.3925821914672851: (38.70757265330979, nan), -0.1305821914672851: (43.14097910131541, nan), 0.1314178085327149: (42.69146217148827, nan), 0.3934178085327149: (37.39759565828955, nan), 0.6554178085327149: (29.667706631878737, nan), 0.9174178085327149: (22.301548815553822, nan), 1.179417808532715: (17.07539914082406, nan), 1.441417808532715: (14.453747709263943, nan), 1.703417808532715: (13.620525719919875, nan), 1.965417808532715: (12.793723846260555, nan), 2.227417808532715: (10.353570434423219, nan), 2.489417808532715: (6.279393868194276, nan), 2.751417808532715: (2.202353457761177, nan), 3.013417808532715: (0.0, nan), -3.007767498646871: (0.6197544970167286, nan), -2.745767498646871: (3.793808485493173, nan), -2.483767498646871: (8.25427084714238, nan), -2.221767498646871: (12.302692473142876, nan), -1.9597674986468712: (14.79420444358135, nan), -1.6977674986468712: (15.970226962621439, nan), -1.4357674986468711: (17.216388230222314, nan), -1.1737674986468711: (19.999355697127037, nan), -0.9117674986468711: (25.02032139239197, nan)}\n"
     ]
    },
    {
     "data": {
      "image/png": "[encoded data removed]",
      "text/plain": [
       "<Figure size 432x288 with 1 Axes>"
      ]
     },
     "metadata": {
      "needs_background": "light"
     },
     "output_type": "display_data"
    }
   ],
   "source": [
    "# ALA->THR -- THR at lambda = 0\n",
    "# run_torsion_scan(htf_at, 0, False, [6, 8, 10, 27], [6, 8, 10, 18], [22, 23, 24, 25, 26, 28])\n",
    "torsion_scans.append(run_torsion_scan(htf_at, 0, False, [6, 8, 10, 27], [6, 8, 10, 18], [22, 23, 24, 25, 26, 28]))"
   ]
  },
  {
   "cell_type": "code",
   "execution_count": 17,
   "metadata": {
    "scrolled": true
   },
   "outputs": [
    {
     "name": "stderr",
     "output_type": "stream",
     "text": [
      " 10%|▉         | 998/10000 [00:00<00:00, 9978.75it/s]"
     ]
    },
    {
     "name": "stdout",
     "output_type": "stream",
     "text": [
      "178.98917879703816\n"
     ]
    },
    {
     "name": "stderr",
     "output_type": "stream",
     "text": [
      "100%|██████████| 10000/10000 [00:01<00:00, 9293.02it/s]\n",
      "INFO:root:Rotating by 0.2620000870596926 radians\n",
      "INFO:root:Rotating by 0.2619999999999998 radians\n",
      "INFO:root:Rotating by 0.2619999999999999 radians\n",
      "INFO:root:Rotating by 0.26199999999999984 radians\n"
     ]
    },
    {
     "name": "stdout",
     "output_type": "stream",
     "text": [
      "-1.1785822\n",
      "-32.59405292181928\n",
      "-65.05190247710576\n",
      "-64.7642799395197\n",
      "-61.77223254259721\n"
     ]
    },
    {
     "name": "stderr",
     "output_type": "stream",
     "text": [
      "INFO:root:Rotating by 0.2620000000000011 radians\n",
      "INFO:root:Rotating by 0.2619999999999981 radians\n",
      "INFO:root:Rotating by 0.2620000000000007 radians\n",
      "INFO:root:Rotating by 0.26200000000000034 radians\n"
     ]
    },
    {
     "name": "stdout",
     "output_type": "stream",
     "text": [
      "-57.64560397335647\n",
      "-59.440090759976336\n",
      "-63.69911955112693\n",
      "-69.51078739165963\n"
     ]
    },
    {
     "name": "stderr",
     "output_type": "stream",
     "text": [
      "INFO:root:Rotating by 0.262 radians\n",
      "INFO:root:Rotating by 0.2619999999999998 radians\n",
      "INFO:root:Rotating by 0.26200000000000023 radians\n"
     ]
    },
    {
     "name": "stdout",
     "output_type": "stream",
     "text": [
      "-72.83370364517796\n",
      "-72.7919110654393\n",
      "-69.5503472224921\n"
     ]
    },
    {
     "name": "stderr",
     "output_type": "stream",
     "text": [
      "INFO:root:Rotating by 0.2619999999999998 radians\n",
      "INFO:root:Rotating by 0.262 radians\n",
      "INFO:root:Rotating by 0.26200000000000045 radians\n"
     ]
    },
    {
     "name": "stdout",
     "output_type": "stream",
     "text": [
      "-64.26682110769926\n",
      "-58.270768424854836\n",
      "-52.50655510793644\n"
     ]
    },
    {
     "name": "stderr",
     "output_type": "stream",
     "text": [
      "INFO:root:Rotating by 0.262 radians\n",
      "INFO:root:Rotating by 0.26199999999999957 radians\n",
      "INFO:root:Rotating by -6.021185307179586 radians\n"
     ]
    },
    {
     "name": "stdout",
     "output_type": "stream",
     "text": [
      "-56.52085182710601\n",
      "-61.83646469248955\n",
      "-65.36662834508459\n"
     ]
    },
    {
     "name": "stderr",
     "output_type": "stream",
     "text": [
      "INFO:root:Rotating by 0.26199999999999957 radians\n",
      "INFO:root:Rotating by 0.262 radians\n",
      "INFO:root:Rotating by 0.26199999999999957 radians\n",
      "INFO:root:Rotating by 0.26200000000000045 radians\n"
     ]
    },
    {
     "name": "stdout",
     "output_type": "stream",
     "text": [
      "-65.9866613541206\n",
      "-63.48293862008125\n",
      "-58.68316636924304\n",
      "-49.41240980614115\n"
     ]
    },
    {
     "name": "stderr",
     "output_type": "stream",
     "text": [
      "INFO:root:Rotating by 0.262 radians\n",
      "INFO:root:Rotating by 0.26200000000000023 radians\n",
      "INFO:root:Rotating by 0.26200000000000023 radians\n",
      "INFO:root:Rotating by 0.26200000000000045 radians\n"
     ]
    },
    {
     "name": "stdout",
     "output_type": "stream",
     "text": [
      "-51.04555360472352\n",
      "-53.80009394022006\n",
      "-58.11521507712738\n",
      "-62.5864013042123\n",
      "raw d: {-0.9165821914672851: (-65.05190247710576, nan), -0.6545821914672851: (-64.7642799395197, nan), -0.3925821914672851: (-61.77223254259721, nan), -0.1305821914672851: (-57.64560397335647, nan), 0.1314178085327149: (-59.440090759976336, nan), 0.3934178085327149: (-63.69911955112693, nan), 0.6554178085327149: (-69.51078739165963, nan), 0.9174178085327149: (-72.83370364517796, nan), 1.179417808532715: (-72.7919110654393, nan), 1.441417808532715: (-69.5503472224921, nan), 1.703417808532715: (-64.26682110769926, nan), 1.965417808532715: (-58.270768424854836, nan), 2.227417808532715: (-52.50655510793644, nan), 2.489417808532715: (-56.52085182710601, nan), 2.751417808532715: (-61.83646469248955, nan), 3.013417808532715: (-65.36662834508459, nan), -3.007767498646871: (-65.9866613541206, nan), -2.745767498646871: (-63.48293862008125, nan), -2.483767498646871: (-58.68316636924304, nan), -2.221767498646871: (-49.41240980614115, nan), -1.9597674986468712: (-51.04555360472352, nan), -1.6977674986468712: (-53.80009394022006, nan), -1.4357674986468711: (-58.11521507712738, nan), -1.1737674986468711: (-62.5864013042123, nan), -0.9117674986468711: (-65.070365109571, nan)}\n",
      "min: -72.83370364517796\n",
      "d corrected: {-0.9165821914672851: (7.781801168072207, nan), -0.6545821914672851: (8.069423705658266, nan), -0.3925821914672851: (11.061471102580754, nan), -0.1305821914672851: (15.18809967182149, nan), 0.1314178085327149: (13.393612885201627, nan), 0.3934178085327149: (9.134584094051036, nan), 0.6554178085327149: (3.322916253518329, nan), 0.9174178085327149: (0.0, nan), 1.179417808532715: (0.04179257973866868, nan), 1.441417808532715: (3.2833564226858556, nan), 1.703417808532715: (8.566882537478705, nan), 1.965417808532715: (14.562935220323126, nan), 2.227417808532715: (20.32714853724152, nan), 2.489417808532715: (16.312851818071955, nan), 2.751417808532715: (10.997238952688413, nan), 3.013417808532715: (7.46707530009337, nan), -3.007767498646871: (6.847042291057363, nan), -2.745767498646871: (9.350765025096713, nan), -2.483767498646871: (14.150537275934923, nan), -2.221767498646871: (23.421293839036814, nan), -1.9597674986468712: (21.78815004045444, nan), -1.6977674986468712: (19.033609704957904, nan), -1.4357674986468711: (14.718488568050581, nan), -1.1737674986468711: (10.24730234096566, nan), -0.9117674986468711: (7.763338535606962, nan)}\n"
     ]
    },
    {
     "data": {
      "image/png": "[encoded data removed]",
      "text/plain": [
       "<Figure size 432x288 with 1 Axes>"
      ]
     },
     "metadata": {
      "needs_background": "light"
     },
     "output_type": "display_data"
    }
   ],
   "source": [
    "# ALA->THR -- THR at lambda = 1\n",
    "run_torsion_scan(htf_at, 1, False, [6, 8, 10, 27], [6, 8, 10, 18], [22, 23, 24, 25, 26, 28])"
   ]
  },
  {
   "cell_type": "code",
   "execution_count": 18,
   "metadata": {
    "scrolled": true
   },
   "outputs": [
    {
     "name": "stderr",
     "output_type": "stream",
     "text": [
      "  9%|▊         | 856/10000 [00:00<00:01, 8558.99it/s]"
     ]
    },
    {
     "name": "stdout",
     "output_type": "stream",
     "text": [
      "178.98917879703816\n"
     ]
    },
    {
     "name": "stderr",
     "output_type": "stream",
     "text": [
      "100%|██████████| 10000/10000 [00:01<00:00, 9253.23it/s]\n",
      "INFO:root:Rotating by 0.2620000367825073 radians\n"
     ]
    },
    {
     "name": "stdout",
     "output_type": "stream",
     "text": [
      "1.038905\n",
      "-34.49951765083483\n"
     ]
    },
    {
     "name": "stderr",
     "output_type": "stream",
     "text": [
      "INFO:root:Rotating by 0.262 radians\n"
     ]
    },
    {
     "name": "stdout",
     "output_type": "stream",
     "text": [
      "-67.74487147325814\n"
     ]
    },
    {
     "name": "stderr",
     "output_type": "stream",
     "text": [
      "INFO:root:Rotating by 0.26199999999999957 radians\n"
     ]
    },
    {
     "name": "stdout",
     "output_type": "stream",
     "text": [
      "-65.6749305202419\n"
     ]
    },
    {
     "name": "stderr",
     "output_type": "stream",
     "text": [
      "INFO:root:Rotating by 0.26200000000000023 radians\n",
      "INFO:root:Rotating by 0.26200000000000045 radians\n"
     ]
    },
    {
     "name": "stdout",
     "output_type": "stream",
     "text": [
      "-63.242858596591255\n",
      "-61.76551827882093\n"
     ]
    },
    {
     "name": "stderr",
     "output_type": "stream",
     "text": [
      "INFO:root:Rotating by 0.26199999999999957 radians\n"
     ]
    },
    {
     "name": "stdout",
     "output_type": "stream",
     "text": [
      "-62.62995148519686\n"
     ]
    },
    {
     "name": "stderr",
     "output_type": "stream",
     "text": [
      "INFO:root:Rotating by 0.262 radians\n"
     ]
    },
    {
     "name": "stdout",
     "output_type": "stream",
     "text": [
      "-64.79321205530808\n"
     ]
    },
    {
     "name": "stderr",
     "output_type": "stream",
     "text": [
      "INFO:root:Rotating by 0.262 radians\n"
     ]
    },
    {
     "name": "stdout",
     "output_type": "stream",
     "text": [
      "-67.18931797002907\n"
     ]
    },
    {
     "name": "stderr",
     "output_type": "stream",
     "text": [
      "INFO:root:Rotating by -6.021185307179591 radians\n"
     ]
    },
    {
     "name": "stdout",
     "output_type": "stream",
     "text": [
      "-68.29550931801855\n"
     ]
    },
    {
     "name": "stderr",
     "output_type": "stream",
     "text": [
      "INFO:root:Rotating by 0.2620000000000049 radians\n"
     ]
    },
    {
     "name": "stdout",
     "output_type": "stream",
     "text": [
      "-67.92795079482381\n"
     ]
    },
    {
     "name": "stderr",
     "output_type": "stream",
     "text": [
      "INFO:root:Rotating by 0.26199999999999957 radians\n"
     ]
    },
    {
     "name": "stdout",
     "output_type": "stream",
     "text": [
      "-66.16218949345281\n"
     ]
    },
    {
     "name": "stderr",
     "output_type": "stream",
     "text": [
      "INFO:root:Rotating by 0.262 radians\n"
     ]
    },
    {
     "name": "stdout",
     "output_type": "stream",
     "text": [
      "-63.986034337817486\n"
     ]
    },
    {
     "name": "stderr",
     "output_type": "stream",
     "text": [
      "INFO:root:Rotating by 0.26200000000000045 radians\n"
     ]
    },
    {
     "name": "stdout",
     "output_type": "stream",
     "text": [
      "-62.696973089513975\n"
     ]
    },
    {
     "name": "stderr",
     "output_type": "stream",
     "text": [
      "INFO:root:Rotating by 0.26199999999999934 radians\n"
     ]
    },
    {
     "name": "stdout",
     "output_type": "stream",
     "text": [
      "-63.59740505532478\n"
     ]
    },
    {
     "name": "stderr",
     "output_type": "stream",
     "text": [
      "INFO:root:Rotating by 0.2619999999999998 radians\n"
     ]
    },
    {
     "name": "stdout",
     "output_type": "stream",
     "text": [
      "-65.68534542083096\n"
     ]
    },
    {
     "name": "stderr",
     "output_type": "stream",
     "text": [
      "INFO:root:Rotating by 0.2619999999999998 radians\n"
     ]
    },
    {
     "name": "stdout",
     "output_type": "stream",
     "text": [
      "-67.79383555500448\n"
     ]
    },
    {
     "name": "stderr",
     "output_type": "stream",
     "text": [
      "INFO:root:Rotating by 0.26200000000000045 radians\n"
     ]
    },
    {
     "name": "stdout",
     "output_type": "stream",
     "text": [
      "-68.68815066931423\n"
     ]
    },
    {
     "name": "stderr",
     "output_type": "stream",
     "text": [
      "INFO:root:Rotating by 0.2619999999999997 radians\n"
     ]
    },
    {
     "name": "stdout",
     "output_type": "stream",
     "text": [
      "-67.95308057499648\n"
     ]
    },
    {
     "name": "stderr",
     "output_type": "stream",
     "text": [
      "INFO:root:Rotating by 0.2620000000000001 radians\n"
     ]
    },
    {
     "name": "stdout",
     "output_type": "stream",
     "text": [
      "-65.73421276056486\n"
     ]
    },
    {
     "name": "stderr",
     "output_type": "stream",
     "text": [
      "INFO:root:Rotating by 0.2619999999999995 radians\n"
     ]
    },
    {
     "name": "stdout",
     "output_type": "stream",
     "text": [
      "-63.05604934428089\n"
     ]
    },
    {
     "name": "stderr",
     "output_type": "stream",
     "text": [
      "INFO:root:Rotating by 0.26199999999998624 radians\n"
     ]
    },
    {
     "name": "stdout",
     "output_type": "stream",
     "text": [
      "-61.718492209682296\n"
     ]
    },
    {
     "name": "stderr",
     "output_type": "stream",
     "text": [
      "INFO:root:Rotating by 0.2620000000000139 radians\n"
     ]
    },
    {
     "name": "stdout",
     "output_type": "stream",
     "text": [
      "-62.64735219995144\n"
     ]
    },
    {
     "name": "stderr",
     "output_type": "stream",
     "text": [
      "INFO:root:Rotating by 0.26200000000000045 radians\n"
     ]
    },
    {
     "name": "stdout",
     "output_type": "stream",
     "text": [
      "-65.09266405155186\n"
     ]
    },
    {
     "name": "stderr",
     "output_type": "stream",
     "text": [
      "INFO:root:Rotating by 0.2619999999999997 radians\n"
     ]
    },
    {
     "name": "stdout",
     "output_type": "stream",
     "text": [
      "-67.395225301271\n"
     ]
    },
    {
     "name": "stderr",
     "output_type": "stream",
     "text": [
      "INFO:root:Rotating by 0.26199999999999957 radians\n"
     ]
    },
    {
     "name": "stdout",
     "output_type": "stream",
     "text": [
      "-68.3574041903258\n",
      "raw d: {1.3009050245285034: (-67.74487147325814, nan), 1.5629050245285034: (-65.6749305202419, nan), 1.8249050245285034: (-63.242858596591255, nan), 2.0869050245285035: (-61.76551827882093, nan), 2.3489050245285035: (-62.62995148519686, nan), 2.6109050245285035: (-64.79321205530808, nan), 2.8729050245285035: (-67.18931797002907, nan), 3.1349050245285035: (-68.29550931801855, nan), -2.8862802826510827: (-67.92795079482381, nan), -2.6242802826510827: (-66.16218949345281, nan), -2.3622802826510827: (-63.986034337817486, nan), -2.1002802826510827: (-62.696973089513975, nan), -1.8382802826510827: (-63.59740505532478, nan), -1.5762802826510827: (-65.68534542083096, nan), -1.3142802826510827: (-67.79383555500448, nan), -1.0522802826510826: (-68.68815066931423, nan), -0.7902802826510826: (-67.95308057499648, nan), -0.5282802826510826: (-65.73421276056486, nan), -0.2662802826510826: (-63.05604934428089, nan), -0.004280282651082601: (-61.718492209682296, nan), 0.2577197173489174: (-62.64735219995144, nan), 0.5197197173489174: (-65.09266405155186, nan), 0.7817197173489174: (-67.395225301271, nan), 1.0437197173489174: (-68.3574041903258, nan), 1.3057197173489175: (-67.71674509977043, nan)}\n",
      "min: -68.68815066931423\n",
      "d corrected: {1.3009050245285034: (0.943279196056082, nan), 1.5629050245285034: (3.0132201490723247, nan), 1.8249050245285034: (5.445292072722971, nan), 2.0869050245285035: (6.922632390493298, nan), 2.3489050245285035: (6.058199184117363, nan), 2.6109050245285035: (3.8949386140061506, nan), 2.8729050245285035: (1.4988326992851597, nan), 3.1349050245285035: (0.3926413512956799, nan), -2.8862802826510827: (0.7601998744904108, nan), -2.6242802826510827: (2.5259611758614113, nan), -2.3622802826510827: (4.70211633149674, nan), -2.1002802826510827: (5.991177579800251, nan), -1.8382802826510827: (5.090745613989448, nan), -1.5762802826510827: (3.00280524848327, nan), -1.3142802826510827: (0.8943151143097481, nan), -1.0522802826510826: (0.0, nan), -0.7902802826510826: (0.7350700943177486, nan), -0.5282802826510826: (2.953937908749367, nan), -0.2662802826510826: (5.632101325033332, nan), -0.004280282651082601: (6.96965845963193, nan), 0.2577197173489174: (6.040798469362784, nan), 0.5197197173489174: (3.5954866177623614, nan), 0.7817197173489174: (1.2929253680432282, nan), 1.0437197173489174: (0.3307464789884307, nan), 1.3057197173489175: (0.9714055695437906, nan)}\n"
     ]
    },
    {
     "data": {
      "image/png": "[encoded data removed]",
      "text/plain": [
       "<Figure size 432x288 with 1 Axes>"
      ]
     },
     "metadata": {
      "needs_background": "light"
     },
     "output_type": "display_data"
    }
   ],
   "source": [
    "# ALA->THR -- ALA at lambda = 1\n",
    "run_torsion_scan(htf_at, 1, True, [6, 8, 10, 15], [6, 8, 10, 15], [11, 12])"
   ]
  },
  {
   "cell_type": "markdown",
   "metadata": {},
   "source": [
    "### Generate torsion scans for the vanilla htf: THR->ALA (with sidechains mapped)"
   ]
  },
  {
   "cell_type": "code",
   "execution_count": 69,
   "metadata": {},
   "outputs": [],
   "source": [
    "outdir = \"/data/chodera/zhangi/perses_benchmark/neq/7/6/\"\n",
    "with open(os.path.join(outdir, \"6_vacuum.pickle\" ), \"rb\") as f:\n",
    "    htf_ta = pickle.load(f)\n",
    "htf_ta_0t = copy.copy(htf_ta)\n",
    "htf_ta_0a = copy.copy(htf_ta)\n",
    "htf_ta_1a = copy.copy(htf_ta)\n",
    "htf_ta_1t = copy.copy(htf_ta)"
   ]
  },
  {
   "cell_type": "markdown",
   "metadata": {},
   "source": [
    "#### Look at hybrid topology to determine indices"
   ]
  },
  {
   "cell_type": "code",
   "execution_count": 6,
   "metadata": {},
   "outputs": [
    {
     "name": "stdout",
     "output_type": "stream",
     "text": [
      "ACE1-H1 0\n",
      "ACE1-CH3 1\n",
      "ACE1-H2 2\n",
      "ACE1-H3 3\n",
      "ACE1-C 4\n",
      "ACE1-O 5\n",
      "THR2-N 6\n",
      "THR2-H 7\n",
      "THR2-CA 8\n",
      "THR2-HA 9\n",
      "THR2-CB 10\n",
      "THR2-C 11\n",
      "THR2-O 12\n",
      "THR2-HB 13\n",
      "THR2-CG2 14\n",
      "THR2-HG21 15\n",
      "THR2-HG22 16\n",
      "THR2-HG23 17\n",
      "THR2-OG1 18\n",
      "THR2-HG1 19\n",
      "THR2-HB2 26\n",
      "THR2-HB3 27\n",
      "NME3-N 20\n",
      "NME3-H 21\n",
      "NME3-C 22\n",
      "NME3-H1 23\n",
      "NME3-H2 24\n",
      "NME3-H3 25\n"
     ]
    }
   ],
   "source": [
    "for atom in htf_ta.hybrid_topology.atoms:\n",
    "    print(atom, atom.index)"
   ]
  },
  {
   "cell_type": "code",
   "execution_count": 30,
   "metadata": {},
   "outputs": [
    {
     "name": "stdout",
     "output_type": "stream",
     "text": [
      "<Atom 0 (H1) of chain 0 residue 0 (ACE)> 0\n",
      "<Atom 1 (CH3) of chain 0 residue 0 (ACE)> 1\n",
      "<Atom 2 (H2) of chain 0 residue 0 (ACE)> 2\n",
      "<Atom 3 (H3) of chain 0 residue 0 (ACE)> 3\n",
      "<Atom 4 (C) of chain 0 residue 0 (ACE)> 4\n",
      "<Atom 5 (O) of chain 0 residue 0 (ACE)> 5\n",
      "<Atom 6 (N) of chain 0 residue 1 (THR)> 6\n",
      "<Atom 7 (H) of chain 0 residue 1 (THR)> 7\n",
      "<Atom 8 (CA) of chain 0 residue 1 (THR)> 8\n",
      "<Atom 9 (HA) of chain 0 residue 1 (THR)> 9\n",
      "<Atom 10 (CB) of chain 0 residue 1 (THR)> 10\n",
      "<Atom 11 (C) of chain 0 residue 1 (THR)> 11\n",
      "<Atom 12 (O) of chain 0 residue 1 (THR)> 12\n",
      "<Atom 13 (HB) of chain 0 residue 1 (THR)> 13\n",
      "<Atom 14 (CG2) of chain 0 residue 1 (THR)> 14\n",
      "<Atom 15 (HG21) of chain 0 residue 1 (THR)> 15\n",
      "<Atom 16 (HG22) of chain 0 residue 1 (THR)> 16\n",
      "<Atom 17 (HG23) of chain 0 residue 1 (THR)> 17\n",
      "<Atom 18 (OG1) of chain 0 residue 1 (THR)> 18\n",
      "<Atom 19 (HG1) of chain 0 residue 1 (THR)> 19\n",
      "<Atom 20 (N) of chain 0 residue 2 (NME)> 20\n",
      "<Atom 21 (H) of chain 0 residue 2 (NME)> 21\n",
      "<Atom 22 (C) of chain 0 residue 2 (NME)> 22\n",
      "<Atom 23 (H1) of chain 0 residue 2 (NME)> 23\n",
      "<Atom 24 (H2) of chain 0 residue 2 (NME)> 24\n",
      "<Atom 25 (H3) of chain 0 residue 2 (NME)> 25\n"
     ]
    }
   ],
   "source": [
    "for atom in htf_ta._topology_proposal.old_topology.atoms():\n",
    "    print(atom, atom.index)"
   ]
  },
  {
   "cell_type": "code",
   "execution_count": 25,
   "metadata": {
    "scrolled": true
   },
   "outputs": [
    {
     "name": "stdout",
     "output_type": "stream",
     "text": [
      "<Atom 0 (H1) of chain 0 residue 0 (ACE)> 0\n",
      "<Atom 1 (CH3) of chain 0 residue 0 (ACE)> 1\n",
      "<Atom 2 (H2) of chain 0 residue 0 (ACE)> 2\n",
      "<Atom 3 (H3) of chain 0 residue 0 (ACE)> 3\n",
      "<Atom 4 (C) of chain 0 residue 0 (ACE)> 4\n",
      "<Atom 5 (O) of chain 0 residue 0 (ACE)> 5\n",
      "<Atom 6 (N) of chain 0 residue 1 (ALA)> 6\n",
      "<Atom 7 (H) of chain 0 residue 1 (ALA)> 7\n",
      "<Atom 8 (CA) of chain 0 residue 1 (ALA)> 8\n",
      "<Atom 9 (HA) of chain 0 residue 1 (ALA)> 9\n",
      "<Atom 10 (CB) of chain 0 residue 1 (ALA)> 10\n",
      "<Atom 11 (C) of chain 0 residue 1 (ALA)> 11\n",
      "<Atom 12 (O) of chain 0 residue 1 (ALA)> 12\n",
      "<Atom 13 (HB1) of chain 0 residue 1 (ALA)> 13\n",
      "<Atom 14 (HB2) of chain 0 residue 1 (ALA)> 14\n",
      "<Atom 15 (HB3) of chain 0 residue 1 (ALA)> 15\n",
      "<Atom 16 (N) of chain 0 residue 2 (NME)> 16\n",
      "<Atom 17 (H) of chain 0 residue 2 (NME)> 17\n",
      "<Atom 18 (C) of chain 0 residue 2 (NME)> 18\n",
      "<Atom 19 (H1) of chain 0 residue 2 (NME)> 19\n",
      "<Atom 20 (H2) of chain 0 residue 2 (NME)> 20\n",
      "<Atom 21 (H3) of chain 0 residue 2 (NME)> 21\n"
     ]
    }
   ],
   "source": [
    "for atom in htf_ta._topology_proposal.new_topology.atoms():\n",
    "    print(atom, atom.index)"
   ]
  },
  {
   "cell_type": "code",
   "execution_count": 47,
   "metadata": {
    "scrolled": true
   },
   "outputs": [
    {
     "name": "stderr",
     "output_type": "stream",
     "text": [
      "100%|██████████| 10000/10000 [00:00<00:00, 11125.14it/s]\n",
      "INFO:root:Rotating by -6.021185302286687 radians\n"
     ]
    },
    {
     "name": "stdout",
     "output_type": "stream",
     "text": [
      "3.0743732\n",
      "-35.756116376793685\n"
     ]
    },
    {
     "name": "stderr",
     "output_type": "stream",
     "text": [
      "INFO:root:Rotating by 0.26200000000000356 radians\n"
     ]
    },
    {
     "name": "stdout",
     "output_type": "stream",
     "text": [
      "-39.08929778531802\n"
     ]
    },
    {
     "name": "stderr",
     "output_type": "stream",
     "text": [
      "INFO:root:Rotating by 0.2619999999999969 radians\n"
     ]
    },
    {
     "name": "stdout",
     "output_type": "stream",
     "text": [
      "-31.804325408215924\n"
     ]
    },
    {
     "name": "stderr",
     "output_type": "stream",
     "text": [
      "INFO:root:Rotating by 0.26199999999999735 radians\n"
     ]
    },
    {
     "name": "stdout",
     "output_type": "stream",
     "text": [
      "-27.31039689827153\n"
     ]
    },
    {
     "name": "stderr",
     "output_type": "stream",
     "text": [
      "INFO:root:Rotating by 0.26199999999999735 radians\n"
     ]
    },
    {
     "name": "stdout",
     "output_type": "stream",
     "text": [
      "-29.737210998945617\n"
     ]
    },
    {
     "name": "stderr",
     "output_type": "stream",
     "text": [
      "INFO:root:Rotating by 0.2620000000000009 radians\n"
     ]
    },
    {
     "name": "stdout",
     "output_type": "stream",
     "text": [
      "-28.46920437180947\n"
     ]
    },
    {
     "name": "stderr",
     "output_type": "stream",
     "text": [
      "INFO:root:Rotating by 0.26200000000000156 radians\n"
     ]
    },
    {
     "name": "stdout",
     "output_type": "stream",
     "text": [
      "-24.30949640169366\n"
     ]
    },
    {
     "name": "stderr",
     "output_type": "stream",
     "text": [
      "INFO:root:Rotating by 0.2620000000000047 radians\n"
     ]
    },
    {
     "name": "stdout",
     "output_type": "stream",
     "text": [
      "-40.40934351322722\n"
     ]
    },
    {
     "name": "stderr",
     "output_type": "stream",
     "text": [
      "INFO:root:Rotating by 0.26199999999999846 radians\n"
     ]
    },
    {
     "name": "stdout",
     "output_type": "stream",
     "text": [
      "-39.28131002910503\n"
     ]
    },
    {
     "name": "stderr",
     "output_type": "stream",
     "text": [
      "INFO:root:Rotating by 0.2620000000000027 radians\n"
     ]
    },
    {
     "name": "stdout",
     "output_type": "stream",
     "text": [
      "-28.06943389580796\n"
     ]
    },
    {
     "name": "stderr",
     "output_type": "stream",
     "text": [
      "INFO:root:Rotating by 0.26200000000000234 radians\n"
     ]
    },
    {
     "name": "stdout",
     "output_type": "stream",
     "text": [
      "-31.90497155548382\n"
     ]
    },
    {
     "name": "stderr",
     "output_type": "stream",
     "text": [
      "INFO:root:Rotating by 0.2620000000000036 radians\n"
     ]
    },
    {
     "name": "stdout",
     "output_type": "stream",
     "text": [
      "-42.27235331838381\n"
     ]
    },
    {
     "name": "stderr",
     "output_type": "stream",
     "text": [
      "INFO:root:Rotating by 0.2620000000000002 radians\n"
     ]
    },
    {
     "name": "stdout",
     "output_type": "stream",
     "text": [
      "-26.613713836435558\n"
     ]
    },
    {
     "name": "stderr",
     "output_type": "stream",
     "text": [
      "INFO:root:Rotating by 0.262 radians\n"
     ]
    },
    {
     "name": "stdout",
     "output_type": "stream",
     "text": [
      "-22.40864595399778\n"
     ]
    },
    {
     "name": "stderr",
     "output_type": "stream",
     "text": [
      "INFO:root:Rotating by 0.26200000000000245 radians\n"
     ]
    },
    {
     "name": "stdout",
     "output_type": "stream",
     "text": [
      "-24.894221139143692\n"
     ]
    },
    {
     "name": "stderr",
     "output_type": "stream",
     "text": [
      "INFO:root:Rotating by 0.2619999999999981 radians\n"
     ]
    },
    {
     "name": "stdout",
     "output_type": "stream",
     "text": [
      "-35.18663387951964\n"
     ]
    },
    {
     "name": "stderr",
     "output_type": "stream",
     "text": [
      "INFO:root:Rotating by 0.26200000000000323 radians\n"
     ]
    },
    {
     "name": "stdout",
     "output_type": "stream",
     "text": [
      "-44.17067546105189\n"
     ]
    },
    {
     "name": "stderr",
     "output_type": "stream",
     "text": [
      "INFO:root:Rotating by 0.26199999999999957 radians\n"
     ]
    },
    {
     "name": "stdout",
     "output_type": "stream",
     "text": [
      "-37.775680329472394\n"
     ]
    },
    {
     "name": "stderr",
     "output_type": "stream",
     "text": [
      "INFO:root:Rotating by 0.2620000000000007 radians\n"
     ]
    },
    {
     "name": "stdout",
     "output_type": "stream",
     "text": [
      "-43.67837113260111\n"
     ]
    },
    {
     "name": "stderr",
     "output_type": "stream",
     "text": [
      "INFO:root:Rotating by 0.26199999999999646 radians\n"
     ]
    },
    {
     "name": "stdout",
     "output_type": "stream",
     "text": [
      "-21.92005668577586\n"
     ]
    },
    {
     "name": "stderr",
     "output_type": "stream",
     "text": [
      "INFO:root:Rotating by 0.26200000000000045 radians\n"
     ]
    },
    {
     "name": "stdout",
     "output_type": "stream",
     "text": [
      "-25.484548674441697\n"
     ]
    },
    {
     "name": "stderr",
     "output_type": "stream",
     "text": [
      "INFO:root:Rotating by 0.2620000000000027 radians\n"
     ]
    },
    {
     "name": "stdout",
     "output_type": "stream",
     "text": [
      "-13.14561270430761\n"
     ]
    },
    {
     "name": "stderr",
     "output_type": "stream",
     "text": [
      "INFO:root:Rotating by 0.2619999999999969 radians\n"
     ]
    },
    {
     "name": "stdout",
     "output_type": "stream",
     "text": [
      "-30.972895991005657\n"
     ]
    },
    {
     "name": "stderr",
     "output_type": "stream",
     "text": [
      "INFO:root:Rotating by 0.2619999999999987 radians\n"
     ]
    },
    {
     "name": "stdout",
     "output_type": "stream",
     "text": [
      "-23.922519248182866\n"
     ]
    },
    {
     "name": "stderr",
     "output_type": "stream",
     "text": [
      "INFO:root:Rotating by -6.0211853071795876 radians\n"
     ]
    },
    {
     "name": "stdout",
     "output_type": "stream",
     "text": [
      "-32.127424994776696\n",
      "raw d: {-2.9468120619403284: (-33.05131048373905, 5.952063067602909), -2.6848120619403284: (-30.036429726495882, 3.238562069959711), -2.4228120619403284: (-31.298420944177206, 3.3309664950585995), -2.1608120619403284: (-29.288790363793506, 0.9139881881138215), -1.8988120619403284: (-24.86436453515581, 1.9489907890613642), -1.6368120619403284: (-28.48501703681586, 2.612604524732355), -1.3748120619403283: (-37.890814209283015, 2.5554913167207336), -1.1128120619403283: (-38.0376031973399, 0.8944895180154032), -0.8508120619403283: (-27.69357458259125, 1.6235645029432602), -0.5888120619403283: (-37.036219003035875, 4.696350477462528), -0.3268120619403283: (-34.576105038750946, 3.872177156608601), -0.06481206194032829: (-23.229802528427683, 2.8143645380269646), 0.19718793805967172: (-25.072876663913636, 1.5997791821875174), 0.45918793805967173: (-25.85287548120881, 4.015101153213349), 0.7211879380596717: (-33.323358695158674, 2.251279165565071), 0.9831879380596718: (-43.45881158140995, 1.108825643587307), 1.2451879380596718: (-38.99996960555739, 1.4445936131148718), 1.5071879380596718: (-40.48029913019369, 2.9191471199388594), 1.7691879380596718: (-30.31025273777452, 4.53566557648234), 2.031187938059672: (-22.55695116300222, 1.8512758737017507), 2.293187938059672: (-15.045973666498824, 2.8210497333963107), 2.555187938059672: (-25.606737825191484, 3.8416127663008517), 2.817187938059672: (-27.606610694775906, 3.146289611954762), 3.079187938059672: (-34.26136695115536, 1.3680901922444444), -2.9419973691199144: (-37.30209266753654, 2.8472241079212863)}\n",
      "min: -43.45881158140995\n",
      "d corrected: {-2.9468120619403284: (10.407501097670895, 5.952063067602909), -2.6848120619403284: (13.422381854914065, 3.238562069959711), -2.4228120619403284: (12.16039063723274, 3.3309664950585995), -2.1608120619403284: (14.17002121761644, 0.9139881881138215), -1.8988120619403284: (18.594447046254135, 1.9489907890613642), -1.6368120619403284: (14.973794544594085, 2.612604524732355), -1.3748120619403283: (5.567997372126932, 2.5554913167207336), -1.1128120619403283: (5.421208384070049, 0.8944895180154032), -0.8508120619403283: (15.765236998818697, 1.6235645029432602), -0.5888120619403283: (6.422592578374072, 4.696350477462528), -0.3268120619403283: (8.882706542659001, 3.872177156608601), -0.06481206194032829: (20.229009052982263, 2.8143645380269646), 0.19718793805967172: (18.38593491749631, 1.5997791821875174), 0.45918793805967173: (17.605936100201138, 4.015101153213349), 0.7211879380596717: (10.135452886251272, 2.251279165565071), 0.9831879380596718: (0.0, 1.108825643587307), 1.2451879380596718: (4.4588419758525575, 1.4445936131148718), 1.5071879380596718: (2.978512451216254, 2.9191471199388594), 1.7691879380596718: (13.148558843635428, 4.53566557648234), 2.031187938059672: (20.901860418407725, 1.8512758737017507), 2.293187938059672: (28.412837914911123, 2.8210497333963107), 2.555187938059672: (17.852073756218463, 3.8416127663008517), 2.817187938059672: (15.85220088663404, 3.146289611954762), 3.079187938059672: (9.197444630254587, 1.3680901922444444), -2.9419973691199144: (6.156718913873405, 2.8472241079212863)}\n"
     ]
    },
    {
     "data": {
      "image/png": "[encoded data removed]",
      "text/plain": [
       "<Figure size 432x288 with 1 Axes>"
      ]
     },
     "metadata": {
      "needs_background": "light"
     },
     "output_type": "display_data"
    }
   ],
   "source": [
    "# THR->ALA -- THR at lambda = 0\n",
    "run_torsion_scan(htf_ta_0t, 0, True, [6, 8, 10, 18], [6, 8, 10, 18], [13, 14, 15, 16, 17, 19])"
   ]
  },
  {
   "cell_type": "code",
   "execution_count": 50,
   "metadata": {
    "scrolled": true
   },
   "outputs": [
    {
     "name": "stderr",
     "output_type": "stream",
     "text": [
      "100%|██████████| 10000/10000 [00:00<00:00, 12929.97it/s]\n"
     ]
    },
    {
     "name": "stdout",
     "output_type": "stream",
     "text": [
      "-1.2834105\n",
      "-32.7543590257392\n"
     ]
    },
    {
     "name": "stderr",
     "output_type": "stream",
     "text": [
      "INFO:root:Rotating by 0.2620004455520788 radians\n",
      "INFO:root:Rotating by 0.2620000000000009 radians\n"
     ]
    },
    {
     "name": "stdout",
     "output_type": "stream",
     "text": [
      "-44.318559617809754\n"
     ]
    },
    {
     "name": "stderr",
     "output_type": "stream",
     "text": [
      "INFO:root:Rotating by 0.26199999999999957 radians\n"
     ]
    },
    {
     "name": "stdout",
     "output_type": "stream",
     "text": [
      "-44.99400516408182\n"
     ]
    },
    {
     "name": "stderr",
     "output_type": "stream",
     "text": [
      "INFO:root:Rotating by 0.2619999999999987 radians\n"
     ]
    },
    {
     "name": "stdout",
     "output_type": "stream",
     "text": [
      "-35.91066865090166\n"
     ]
    },
    {
     "name": "stderr",
     "output_type": "stream",
     "text": [
      "INFO:root:Rotating by 0.26200000000000084 radians\n"
     ]
    },
    {
     "name": "stdout",
     "output_type": "stream",
     "text": [
      "-28.12939151881853\n"
     ]
    },
    {
     "name": "stderr",
     "output_type": "stream",
     "text": [
      "INFO:root:Rotating by 0.26200000000000234 radians\n"
     ]
    },
    {
     "name": "stdout",
     "output_type": "stream",
     "text": [
      "-31.19819753815188\n"
     ]
    },
    {
     "name": "stderr",
     "output_type": "stream",
     "text": [
      "INFO:root:Rotating by 0.262 radians\n"
     ]
    },
    {
     "name": "stdout",
     "output_type": "stream",
     "text": [
      "-32.5541629566863\n"
     ]
    },
    {
     "name": "stderr",
     "output_type": "stream",
     "text": [
      "INFO:root:Rotating by 0.26199999999999946 radians\n"
     ]
    },
    {
     "name": "stdout",
     "output_type": "stream",
     "text": [
      "-23.315085939516027\n"
     ]
    },
    {
     "name": "stderr",
     "output_type": "stream",
     "text": [
      "INFO:root:Rotating by 0.2620000000000007 radians\n"
     ]
    },
    {
     "name": "stdout",
     "output_type": "stream",
     "text": [
      "-35.7124960815244\n"
     ]
    },
    {
     "name": "stderr",
     "output_type": "stream",
     "text": [
      "INFO:root:Rotating by 0.26200000000000623 radians\n"
     ]
    },
    {
     "name": "stdout",
     "output_type": "stream",
     "text": [
      "-40.181614264062006\n"
     ]
    },
    {
     "name": "stderr",
     "output_type": "stream",
     "text": [
      "INFO:root:Rotating by 0.2619999999999998 radians\n"
     ]
    },
    {
     "name": "stdout",
     "output_type": "stream",
     "text": [
      "-38.20798615370681\n"
     ]
    },
    {
     "name": "stderr",
     "output_type": "stream",
     "text": [
      "INFO:root:Rotating by 0.2619999999999991 radians\n"
     ]
    },
    {
     "name": "stdout",
     "output_type": "stream",
     "text": [
      "-29.47537472919283\n"
     ]
    },
    {
     "name": "stderr",
     "output_type": "stream",
     "text": [
      "INFO:root:Rotating by 0.26200000000000667 radians\n"
     ]
    },
    {
     "name": "stdout",
     "output_type": "stream",
     "text": [
      "-27.97939302426207\n"
     ]
    },
    {
     "name": "stderr",
     "output_type": "stream",
     "text": [
      "INFO:root:Rotating by 0.26200000000000623 radians\n"
     ]
    },
    {
     "name": "stdout",
     "output_type": "stream",
     "text": [
      "-21.03154346122075\n"
     ]
    },
    {
     "name": "stderr",
     "output_type": "stream",
     "text": [
      "INFO:root:Rotating by 0.26199999999999823 radians\n"
     ]
    },
    {
     "name": "stdout",
     "output_type": "stream",
     "text": [
      "-30.10862931728065\n"
     ]
    },
    {
     "name": "stderr",
     "output_type": "stream",
     "text": [
      "INFO:root:Rotating by 0.2619999999999978 radians\n"
     ]
    },
    {
     "name": "stdout",
     "output_type": "stream",
     "text": [
      "-33.728452780073596\n"
     ]
    },
    {
     "name": "stderr",
     "output_type": "stream",
     "text": [
      "INFO:root:Rotating by -6.02118530717959 radians\n"
     ]
    },
    {
     "name": "stdout",
     "output_type": "stream",
     "text": [
      "-48.85336829597171\n"
     ]
    },
    {
     "name": "stderr",
     "output_type": "stream",
     "text": [
      "INFO:root:Rotating by 0.2619999999999987 radians\n"
     ]
    },
    {
     "name": "stdout",
     "output_type": "stream",
     "text": [
      "-41.93408149939506\n"
     ]
    },
    {
     "name": "stderr",
     "output_type": "stream",
     "text": [
      "INFO:root:Rotating by 0.262000000000004 radians\n"
     ]
    },
    {
     "name": "stdout",
     "output_type": "stream",
     "text": [
      "-39.36445404780385\n"
     ]
    },
    {
     "name": "stderr",
     "output_type": "stream",
     "text": [
      "INFO:root:Rotating by 0.2620000000000018 radians\n"
     ]
    },
    {
     "name": "stdout",
     "output_type": "stream",
     "text": [
      "-31.261913653494084\n"
     ]
    },
    {
     "name": "stderr",
     "output_type": "stream",
     "text": [
      "INFO:root:Rotating by 0.26199999999999957 radians\n"
     ]
    },
    {
     "name": "stdout",
     "output_type": "stream",
     "text": [
      "-27.871990666225546\n"
     ]
    },
    {
     "name": "stderr",
     "output_type": "stream",
     "text": [
      "INFO:root:Rotating by 0.2620000000000027 radians\n"
     ]
    },
    {
     "name": "stdout",
     "output_type": "stream",
     "text": [
      "-24.78778682776295\n"
     ]
    },
    {
     "name": "stderr",
     "output_type": "stream",
     "text": [
      "INFO:root:Rotating by 0.26200000000000223 radians\n"
     ]
    },
    {
     "name": "stdout",
     "output_type": "stream",
     "text": [
      "-26.0077611439492\n"
     ]
    },
    {
     "name": "stderr",
     "output_type": "stream",
     "text": [
      "INFO:root:Rotating by 0.26200000000000023 radians\n"
     ]
    },
    {
     "name": "stdout",
     "output_type": "stream",
     "text": [
      "-25.375842064774744\n"
     ]
    },
    {
     "name": "stderr",
     "output_type": "stream",
     "text": [
      "INFO:root:Rotating by 0.26199999999999357 radians\n"
     ]
    },
    {
     "name": "stdout",
     "output_type": "stream",
     "text": [
      "-40.295227157975845\n",
      "raw d: {-1.0214105491638183: (-45.81316703680619, 0.8086845641960869), -0.7594105491638183: (-38.813058755595584, 3.8995604458141373), -0.4974105491638183: (-36.326350674794035, 1.441508219009039), -0.23541054916381832: (-27.049341396122873, 2.043278343738713), 0.026589450836181694: (-28.642387553251535, 2.1679549587544553), 0.2885894508361817: (-36.4694205989361, 2.2449666111499273), 0.5505894508361817: (-28.240088501915665, 2.910080779425687), 0.8125894508361817: (-33.93239949041949, 1.2730095989851749), 1.0745894508361817: (-35.38943684945435, 2.736708440528919), 1.3365894508361817: (-33.69332898023953, 2.3443459942271865), 1.5985894508361818: (-33.874432371381516, 2.8913842045378857), 1.8605894508361818: (-28.08758696280874, 1.2905906160345024), 2.122589450836182: (-24.065498084356104, 3.5976828027615135), 2.384589450836182: (-30.559813825696068, 0.9295144091502314), 2.646589450836182: (-35.1248350055643, 1.6511840782884797), 2.908589450836182: (-46.885621281428634, 4.23841949417285), -3.1125958563434044: (-44.9524912195584, 2.9430371373822317), -2.8505958563434044: (-39.552855942048815, 2.4488530219476448), -2.5885958563434044: (-31.415302000539157, 2.6497193682225944), -2.3265958563434044: (-25.459628685489694, 3.084258470061086), -2.0645958563434044: (-22.219374716188934, 3.0833822632615506), -1.8025958563434044: (-26.398424369293128, 1.2486933661267017), -1.5405958563434043: (-25.705820870780304, 2.2776444841846213), -1.2785958563434043: (-30.643596337361686, 4.845896898754991), -1.0165958563434043: (-32.615987543732615, 5.020766156538215)}\n",
      "min: -46.885621281428634\n",
      "d corrected: {-1.0214105491638183: (1.0724542446224419, 0.8086845641960869), -0.7594105491638183: (8.07256252583305, 3.8995604458141373), -0.4974105491638183: (10.559270606634598, 1.441508219009039), -0.23541054916381832: (19.83627988530576, 2.043278343738713), 0.026589450836181694: (18.2432337281771, 2.1679549587544553), 0.2885894508361817: (10.416200682492537, 2.2449666111499273), 0.5505894508361817: (18.64553277951297, 2.910080779425687), 0.8125894508361817: (12.953221791009142, 1.2730095989851749), 1.0745894508361817: (11.496184431974285, 2.736708440528919), 1.3365894508361817: (13.192292301189106, 2.3443459942271865), 1.5985894508361818: (13.011188910047117, 2.8913842045378857), 1.8605894508361818: (18.798034318619894, 1.2905906160345024), 2.122589450836182: (22.82012319707253, 3.5976828027615135), 2.384589450836182: (16.325807455732566, 0.9295144091502314), 2.646589450836182: (11.760786275864334, 1.6511840782884797), 2.908589450836182: (0.0, 4.23841949417285), -3.1125958563434044: (1.9331300618702372, 2.9430371373822317), -2.8505958563434044: (7.332765339379819, 2.4488530219476448), -2.5885958563434044: (15.470319280889477, 2.6497193682225944), -2.3265958563434044: (21.42599259593894, 3.084258470061086), -2.0645958563434044: (24.6662465652397, 3.0833822632615506), -1.8025958563434044: (20.487196912135506, 1.2486933661267017), -1.5405958563434043: (21.17980041064833, 2.2776444841846213), -1.2785958563434043: (16.242024944066948, 4.845896898754991), -1.0165958563434043: (14.269633737696019, 5.020766156538215)}\n"
     ]
    },
    {
     "data": {
      "image/png": "[encoded data removed]",
      "text/plain": [
       "<Figure size 432x288 with 1 Axes>"
      ]
     },
     "metadata": {
      "needs_background": "light"
     },
     "output_type": "display_data"
    }
   ],
   "source": [
    "# THR->ALA -- ALA at lambda = 0\n",
    "run_torsion_scan(htf_ta_0a, 0, False, [6, 8, 10, 13], [6, 8, 10, 13], [26, 27])"
   ]
  },
  {
   "cell_type": "code",
   "execution_count": 54,
   "metadata": {
    "scrolled": true
   },
   "outputs": [
    {
     "name": "stderr",
     "output_type": "stream",
     "text": [
      "100%|██████████| 10000/10000 [00:00<00:00, 11551.51it/s]\n",
      "INFO:root:Rotating by 0.2620004455520788 radians\n"
     ]
    },
    {
     "name": "stdout",
     "output_type": "stream",
     "text": [
      "-1.2834105\n",
      "-68.29725119134353\n"
     ]
    },
    {
     "name": "stderr",
     "output_type": "stream",
     "text": [
      "INFO:root:Rotating by 0.2620000000000009 radians\n"
     ]
    },
    {
     "name": "stdout",
     "output_type": "stream",
     "text": [
      "-80.83755327733064\n"
     ]
    },
    {
     "name": "stderr",
     "output_type": "stream",
     "text": [
      "INFO:root:Rotating by 0.26199999999999957 radians\n"
     ]
    },
    {
     "name": "stdout",
     "output_type": "stream",
     "text": [
      "-80.22582994312683\n"
     ]
    },
    {
     "name": "stderr",
     "output_type": "stream",
     "text": [
      "INFO:root:Rotating by 0.2619999999999987 radians\n"
     ]
    },
    {
     "name": "stdout",
     "output_type": "stream",
     "text": [
      "-74.35798646784595\n"
     ]
    },
    {
     "name": "stderr",
     "output_type": "stream",
     "text": [
      "INFO:root:Rotating by 0.26200000000000084 radians\n"
     ]
    },
    {
     "name": "stdout",
     "output_type": "stream",
     "text": [
      "-75.00815257182798\n"
     ]
    },
    {
     "name": "stderr",
     "output_type": "stream",
     "text": [
      "INFO:root:Rotating by 0.26200000000000234 radians\n"
     ]
    },
    {
     "name": "stdout",
     "output_type": "stream",
     "text": [
      "-67.15261153984586\n"
     ]
    },
    {
     "name": "stderr",
     "output_type": "stream",
     "text": [
      "INFO:root:Rotating by 0.262 radians\n"
     ]
    },
    {
     "name": "stdout",
     "output_type": "stream",
     "text": [
      "-62.31583934232596\n"
     ]
    },
    {
     "name": "stderr",
     "output_type": "stream",
     "text": [
      "INFO:root:Rotating by 0.26199999999999946 radians\n"
     ]
    },
    {
     "name": "stdout",
     "output_type": "stream",
     "text": [
      "-62.243704911764915\n"
     ]
    },
    {
     "name": "stderr",
     "output_type": "stream",
     "text": [
      "INFO:root:Rotating by 0.2620000000000007 radians\n"
     ]
    },
    {
     "name": "stdout",
     "output_type": "stream",
     "text": [
      "-66.63596742038372\n"
     ]
    },
    {
     "name": "stderr",
     "output_type": "stream",
     "text": [
      "INFO:root:Rotating by 0.26200000000000623 radians\n"
     ]
    },
    {
     "name": "stdout",
     "output_type": "stream",
     "text": [
      "-48.64007606123569\n"
     ]
    },
    {
     "name": "stderr",
     "output_type": "stream",
     "text": [
      "INFO:root:Rotating by 0.2619999999999998 radians\n"
     ]
    },
    {
     "name": "stdout",
     "output_type": "stream",
     "text": [
      "-70.35929913731154\n"
     ]
    },
    {
     "name": "stderr",
     "output_type": "stream",
     "text": [
      "INFO:root:Rotating by 0.2619999999999991 radians\n"
     ]
    },
    {
     "name": "stdout",
     "output_type": "stream",
     "text": [
      "-29.50925757341764\n"
     ]
    },
    {
     "name": "stderr",
     "output_type": "stream",
     "text": [
      "INFO:root:Rotating by 0.26200000000000667 radians\n"
     ]
    },
    {
     "name": "stdout",
     "output_type": "stream",
     "text": [
      "-37.55186621150963\n"
     ]
    },
    {
     "name": "stderr",
     "output_type": "stream",
     "text": [
      "INFO:root:Rotating by 0.26200000000000623 radians\n"
     ]
    },
    {
     "name": "stdout",
     "output_type": "stream",
     "text": [
      "-50.87081880559397\n"
     ]
    },
    {
     "name": "stderr",
     "output_type": "stream",
     "text": [
      "INFO:root:Rotating by 0.26199999999999823 radians\n"
     ]
    },
    {
     "name": "stdout",
     "output_type": "stream",
     "text": [
      "-31.201233425579673\n"
     ]
    },
    {
     "name": "stderr",
     "output_type": "stream",
     "text": [
      "INFO:root:Rotating by 0.2619999999999978 radians\n"
     ]
    },
    {
     "name": "stdout",
     "output_type": "stream",
     "text": [
      "-52.23667598768488\n"
     ]
    },
    {
     "name": "stderr",
     "output_type": "stream",
     "text": [
      "INFO:root:Rotating by -6.02118530717959 radians\n"
     ]
    },
    {
     "name": "stdout",
     "output_type": "stream",
     "text": [
      "-59.47440298632474\n"
     ]
    },
    {
     "name": "stderr",
     "output_type": "stream",
     "text": [
      "INFO:root:Rotating by 0.2619999999999987 radians\n"
     ]
    },
    {
     "name": "stdout",
     "output_type": "stream",
     "text": [
      "-62.06345210617634\n"
     ]
    },
    {
     "name": "stderr",
     "output_type": "stream",
     "text": [
      "INFO:root:Rotating by 0.262000000000004 radians\n"
     ]
    },
    {
     "name": "stdout",
     "output_type": "stream",
     "text": [
      "-66.95338982837187\n"
     ]
    },
    {
     "name": "stderr",
     "output_type": "stream",
     "text": [
      "INFO:root:Rotating by 0.2620000000000018 radians\n"
     ]
    },
    {
     "name": "stdout",
     "output_type": "stream",
     "text": [
      "-62.723448394183706\n"
     ]
    },
    {
     "name": "stderr",
     "output_type": "stream",
     "text": [
      "INFO:root:Rotating by 0.26199999999999957 radians\n"
     ]
    },
    {
     "name": "stdout",
     "output_type": "stream",
     "text": [
      "-66.58114244960223\n"
     ]
    },
    {
     "name": "stderr",
     "output_type": "stream",
     "text": [
      "INFO:root:Rotating by 0.2620000000000027 radians\n"
     ]
    },
    {
     "name": "stdout",
     "output_type": "stream",
     "text": [
      "-62.81297732451018\n"
     ]
    },
    {
     "name": "stderr",
     "output_type": "stream",
     "text": [
      "INFO:root:Rotating by 0.26200000000000223 radians\n"
     ]
    },
    {
     "name": "stdout",
     "output_type": "stream",
     "text": [
      "-59.21143675868611\n"
     ]
    },
    {
     "name": "stderr",
     "output_type": "stream",
     "text": [
      "INFO:root:Rotating by 0.26200000000000023 radians\n"
     ]
    },
    {
     "name": "stdout",
     "output_type": "stream",
     "text": [
      "-74.86528609216501\n"
     ]
    },
    {
     "name": "stderr",
     "output_type": "stream",
     "text": [
      "INFO:root:Rotating by 0.26199999999999357 radians\n"
     ]
    },
    {
     "name": "stdout",
     "output_type": "stream",
     "text": [
      "-86.62646955571387\n",
      "raw d: {-1.0214105491638183: (-84.81861591537772, 5.86061158511796), -0.7594105491638183: (-82.4191235784356, 1.8367426460520093), -0.4974105491638183: (-79.94174968561771, 2.8970498886953346), -0.23541054916381832: (-69.41601638937448, 6.475471751354084), 0.026589450836181694: (-67.33622361451097, 4.000050474610061), 0.2885894508361817: (-60.99912983109423, 1.1482075598627226), 0.5505894508361817: (-59.18611094376393, 2.3056832396826685), 0.8125894508361817: (-64.92694640516906, 1.0660192358644636), 1.0745894508361817: (-56.89715872641526, 4.734318545439626), 1.3365894508361817: (-59.637137795827606, 5.4302782098881766), 1.5985894508361818: (-45.03724409206681, 8.09928102122475), 1.8605894508361818: (-37.356231485293705, 2.776900276766356), 2.122589450836182: (-43.345202885057724, 7.02039844999774), 2.384589450836182: (-36.36580187940125, 3.2722563361987937), 2.646589450836182: (-53.85666051423369, 2.260308488782393), 2.908589450836182: (-57.281037967283886, 2.50688180358674), -3.1125958563434044: (-63.73180635002429, 4.744369564470241), -2.8505958563434044: (-67.70142510680887, 0.5855049849225051), -2.5885958563434044: (-64.34859159599067, 4.20769283260207), -2.3265958563434044: (-68.75919052910528, 1.8147417566842583), -2.0645958563434044: (-62.90832754980997, 0.667129067521798), -1.8025958563434044: (-66.80361852095795, 4.969897382716011), -1.5405958563434043: (-78.21795776862318, 1.7119231184396517), -1.2785958563434043: (-87.02864737719243, 0.40533655958286485), -1.0165958563434043: (-84.7951229617337, 3.8908183405750596)}\n",
      "min: -87.02864737719243\n",
      "d corrected: {-1.0214105491638183: (2.210031461814708, 5.86061158511796), -0.7594105491638183: (4.609523798756825, 1.8367426460520093), -0.4974105491638183: (7.08689769157472, 2.8970498886953346), -0.23541054916381832: (17.61263098781795, 6.475471751354084), 0.026589450836181694: (19.692423762681457, 4.000050474610061), 0.2885894508361817: (26.029517546098198, 1.1482075598627226), 0.5505894508361817: (27.8425364334285, 2.3056832396826685), 0.8125894508361817: (22.101700972023366, 1.0660192358644636), 1.0745894508361817: (30.131488650777165, 4.734318545439626), 1.3365894508361817: (27.391509581364822, 5.4302782098881766), 1.5985894508361818: (41.99140328512562, 8.09928102122475), 1.8605894508361818: (49.67241589189872, 2.776900276766356), 2.122589450836182: (43.683444492134704, 7.02039844999774), 2.384589450836182: (50.662845497791174, 3.2722563361987937), 2.646589450836182: (33.17198686295874, 2.260308488782393), 2.908589450836182: (29.74760940990854, 2.50688180358674), -3.1125958563434044: (23.296841027168135, 4.744369564470241), -2.8505958563434044: (19.327222270383558, 0.5855049849225051), -2.5885958563434044: (22.68005578120176, 4.20769283260207), -2.3265958563434044: (18.269456848087145, 1.8147417566842583), -2.0645958563434044: (24.12031982738246, 0.667129067521798), -1.8025958563434044: (20.225028856234474, 4.969897382716011), -1.5405958563434043: (8.810689608569248, 1.7119231184396517), -1.2785958563434043: (0.0, 0.40533655958286485), -1.0165958563434043: (2.2335244154587315, 3.8908183405750596)}\n"
     ]
    },
    {
     "data": {
      "image/png": "[encoded data removed]",
      "text/plain": [
       "<Figure size 432x288 with 1 Axes>"
      ]
     },
     "metadata": {
      "needs_background": "light"
     },
     "output_type": "display_data"
    }
   ],
   "source": [
    "# THR->ALA -- ALA at lambda = 1\n",
    "run_torsion_scan(htf_ta_0a, 1, False,  [6, 8, 10, 13], [6, 8, 10, 13], [26, 27])"
   ]
  },
  {
   "cell_type": "code",
   "execution_count": 55,
   "metadata": {
    "scrolled": true
   },
   "outputs": [
    {
     "name": "stderr",
     "output_type": "stream",
     "text": [
      "100%|██████████| 10000/10000 [00:00<00:00, 13473.43it/s]\n",
      "INFO:root:Rotating by -6.021185302286687 radians\n"
     ]
    },
    {
     "name": "stdout",
     "output_type": "stream",
     "text": [
      "3.0743732\n",
      "-83.75519411369169\n"
     ]
    },
    {
     "name": "stderr",
     "output_type": "stream",
     "text": [
      "INFO:root:Rotating by 0.26200000000000356 radians\n"
     ]
    },
    {
     "name": "stdout",
     "output_type": "stream",
     "text": [
      "-83.29955821036533\n"
     ]
    },
    {
     "name": "stderr",
     "output_type": "stream",
     "text": [
      "INFO:root:Rotating by 0.2619999999999969 radians\n"
     ]
    },
    {
     "name": "stdout",
     "output_type": "stream",
     "text": [
      "-82.37588196678409\n"
     ]
    },
    {
     "name": "stderr",
     "output_type": "stream",
     "text": [
      "INFO:root:Rotating by 0.26199999999999735 radians\n"
     ]
    },
    {
     "name": "stdout",
     "output_type": "stream",
     "text": [
      "-74.59358873022593\n"
     ]
    },
    {
     "name": "stderr",
     "output_type": "stream",
     "text": [
      "INFO:root:Rotating by 0.26199999999999735 radians\n"
     ]
    },
    {
     "name": "stdout",
     "output_type": "stream",
     "text": [
      "-57.24260653438681\n"
     ]
    },
    {
     "name": "stderr",
     "output_type": "stream",
     "text": [
      "INFO:root:Rotating by 0.2620000000000009 radians\n"
     ]
    },
    {
     "name": "stdout",
     "output_type": "stream",
     "text": [
      "-58.746096259363235\n"
     ]
    },
    {
     "name": "stderr",
     "output_type": "stream",
     "text": [
      "INFO:root:Rotating by 0.26200000000000156 radians\n"
     ]
    },
    {
     "name": "stdout",
     "output_type": "stream",
     "text": [
      "-58.15669189267001\n"
     ]
    },
    {
     "name": "stderr",
     "output_type": "stream",
     "text": [
      "INFO:root:Rotating by 0.2620000000000047 radians\n"
     ]
    },
    {
     "name": "stdout",
     "output_type": "stream",
     "text": [
      "-67.44612145635335\n"
     ]
    },
    {
     "name": "stderr",
     "output_type": "stream",
     "text": [
      "INFO:root:Rotating by 0.26199999999999846 radians\n"
     ]
    },
    {
     "name": "stdout",
     "output_type": "stream",
     "text": [
      "-57.77846990313089\n"
     ]
    },
    {
     "name": "stderr",
     "output_type": "stream",
     "text": [
      "INFO:root:Rotating by 0.2620000000000027 radians\n"
     ]
    },
    {
     "name": "stdout",
     "output_type": "stream",
     "text": [
      "-58.28270000892311\n"
     ]
    },
    {
     "name": "stderr",
     "output_type": "stream",
     "text": [
      "INFO:root:Rotating by 0.26200000000000234 radians\n"
     ]
    },
    {
     "name": "stdout",
     "output_type": "stream",
     "text": [
      "-53.0134530717732\n"
     ]
    },
    {
     "name": "stderr",
     "output_type": "stream",
     "text": [
      "INFO:root:Rotating by 0.2620000000000036 radians\n"
     ]
    },
    {
     "name": "stdout",
     "output_type": "stream",
     "text": [
      "-35.52576136519777\n"
     ]
    },
    {
     "name": "stderr",
     "output_type": "stream",
     "text": [
      "INFO:root:Rotating by 0.2620000000000002 radians\n"
     ]
    },
    {
     "name": "stdout",
     "output_type": "stream",
     "text": [
      "-39.88874682477465\n"
     ]
    },
    {
     "name": "stderr",
     "output_type": "stream",
     "text": [
      "INFO:root:Rotating by 0.262 radians\n"
     ]
    },
    {
     "name": "stdout",
     "output_type": "stream",
     "text": [
      "-33.83519914218746\n"
     ]
    },
    {
     "name": "stderr",
     "output_type": "stream",
     "text": [
      "INFO:root:Rotating by 0.26200000000000245 radians\n"
     ]
    },
    {
     "name": "stdout",
     "output_type": "stream",
     "text": [
      "-35.736457018307036\n"
     ]
    },
    {
     "name": "stderr",
     "output_type": "stream",
     "text": [
      "INFO:root:Rotating by 0.2619999999999981 radians\n"
     ]
    },
    {
     "name": "stdout",
     "output_type": "stream",
     "text": [
      "-57.68143794223418\n"
     ]
    },
    {
     "name": "stderr",
     "output_type": "stream",
     "text": [
      "INFO:root:Rotating by 0.26200000000000323 radians\n"
     ]
    },
    {
     "name": "stdout",
     "output_type": "stream",
     "text": [
      "-70.61693968602562\n"
     ]
    },
    {
     "name": "stderr",
     "output_type": "stream",
     "text": [
      "INFO:root:Rotating by 0.26199999999999957 radians\n"
     ]
    },
    {
     "name": "stdout",
     "output_type": "stream",
     "text": [
      "-63.770208022924386\n"
     ]
    },
    {
     "name": "stderr",
     "output_type": "stream",
     "text": [
      "INFO:root:Rotating by 0.2620000000000007 radians\n"
     ]
    },
    {
     "name": "stdout",
     "output_type": "stream",
     "text": [
      "-62.97799759576755\n"
     ]
    },
    {
     "name": "stderr",
     "output_type": "stream",
     "text": [
      "INFO:root:Rotating by 0.26199999999999646 radians\n"
     ]
    },
    {
     "name": "stdout",
     "output_type": "stream",
     "text": [
      "-61.26974556785078\n"
     ]
    },
    {
     "name": "stderr",
     "output_type": "stream",
     "text": [
      "INFO:root:Rotating by 0.26200000000000045 radians\n"
     ]
    },
    {
     "name": "stdout",
     "output_type": "stream",
     "text": [
      "-53.69973955042587\n"
     ]
    },
    {
     "name": "stderr",
     "output_type": "stream",
     "text": [
      "INFO:root:Rotating by 0.2620000000000027 radians\n"
     ]
    },
    {
     "name": "stdout",
     "output_type": "stream",
     "text": [
      "-66.16192403101161\n"
     ]
    },
    {
     "name": "stderr",
     "output_type": "stream",
     "text": [
      "INFO:root:Rotating by 0.2619999999999969 radians\n"
     ]
    },
    {
     "name": "stdout",
     "output_type": "stream",
     "text": [
      "-79.6520653158641\n"
     ]
    },
    {
     "name": "stderr",
     "output_type": "stream",
     "text": [
      "INFO:root:Rotating by 0.2619999999999987 radians\n"
     ]
    },
    {
     "name": "stdout",
     "output_type": "stream",
     "text": [
      "-70.91715367054272\n"
     ]
    },
    {
     "name": "stderr",
     "output_type": "stream",
     "text": [
      "INFO:root:Rotating by -6.0211853071795876 radians\n"
     ]
    },
    {
     "name": "stdout",
     "output_type": "stream",
     "text": [
      "-85.91800053653348\n",
      "raw d: {-2.9468120619403284: (-78.0237645511412, 2.655083993881097), -2.6848120619403284: (-84.11516747703304, 0.9615499893632607), -2.4228120619403284: (-73.6644682220841, 2.0570858247066655), -2.1608120619403284: (-60.31009936975905, 2.4854292880979107), -1.8988120619403284: (-63.52101825401106, 2.4579406809184525), -1.6368120619403284: (-54.83453379570668, 1.9033077851393607), -1.3748120619403283: (-63.513431273546665, 4.23651273155393), -1.1128120619403283: (-56.71845916610378, 0.8734282265376853), -0.8508120619403283: (-54.29929743428397, 3.347698835818648), -0.5888120619403283: (-53.55126635018076, 1.6517595934562839), -0.3268120619403283: (-30.49227093022091, 3.16812924272601), -0.06481206194032829: (-36.69534580648598, 2.3290778161643746), 0.19718793805967172: (-29.36013106354342, 4.1677645511509605), 0.45918793805967173: (-37.945547109010974, 5.877467557311895), 0.7211879380596717: (-51.4372228095447, 3.148772420419375), 0.9831879380596718: (-65.47665587051227, 2.6026403157673754), 1.2451879380596718: (-64.10708349906126, 3.470074718953553), 1.5071879380596718: (-68.93540031495327, 6.113592330895088), 1.7691879380596718: (-64.83870332356854, 1.7865821168622575), 2.031187938059672: (-62.45615657419796, 4.395882853389294), 2.293187938059672: (-67.06633455243627, 1.5646835913438475), 2.555187938059672: (-73.92285237886244, 4.010464408867023), 2.817187938059672: (-75.55712908144737, 3.2082558965383625), 3.079187938059672: (-82.45085337589107, 2.1446743749827815), -2.9419973691199144: (-81.83519525611756, 0.8636353036187969)}\n",
      "min: -84.11516747703304\n",
      "d corrected: {-2.9468120619403284: (6.091402925891842, 2.655083993881097), -2.6848120619403284: (0.0, 0.9615499893632607), -2.4228120619403284: (10.450699254948944, 2.0570858247066655), -2.1608120619403284: (23.80506810727399, 2.4854292880979107), -1.8988120619403284: (20.59414922302198, 2.4579406809184525), -1.6368120619403284: (29.280633681326357, 1.9033077851393607), -1.3748120619403283: (20.601736203486375, 4.23651273155393), -1.1128120619403283: (27.396708310929263, 0.8734282265376853), -0.8508120619403283: (29.81587004274907, 3.347698835818648), -0.5888120619403283: (30.56390112685228, 1.6517595934562839), -0.3268120619403283: (53.62289654681213, 3.16812924272601), -0.06481206194032829: (47.41982167054706, 2.3290778161643746), 0.19718793805967172: (54.75503641348962, 4.1677645511509605), 0.45918793805967173: (46.169620368022066, 5.877467557311895), 0.7211879380596717: (32.67794466748834, 3.148772420419375), 0.9831879380596718: (18.638511606520765, 2.6026403157673754), 1.2451879380596718: (20.00808397797178, 3.470074718953553), 1.5071879380596718: (15.17976716207977, 6.113592330895088), 1.7691879380596718: (19.276464153464502, 1.7865821168622575), 2.031187938059672: (21.659010902835078, 4.395882853389294), 2.293187938059672: (17.048832924596766, 1.5646835913438475), 2.555187938059672: (10.192315098170596, 4.010464408867023), 2.817187938059672: (8.558038395585669, 3.2082558965383625), 3.079187938059672: (1.6643141011419686, 2.1446743749827815), -2.9419973691199144: (2.2799722209154822, 0.8636353036187969)}\n"
     ]
    },
    {
     "data": {
      "image/png": "[encoded data removed]",
      "text/plain": [
       "<Figure size 432x288 with 1 Axes>"
      ]
     },
     "metadata": {
      "needs_background": "light"
     },
     "output_type": "display_data"
    }
   ],
   "source": [
    "# THR->ALA -- THR at lambda = 1\n",
    "run_torsion_scan(htf_ta_0t, 1, True, [6, 8, 10, 18], [6, 8, 10, 18], [13, 14, 15, 16, 17, 19])"
   ]
  },
  {
   "cell_type": "markdown",
   "metadata": {},
   "source": [
    "### Generate torsions scans for htfs with flattened torsions (and sidechains not mapped): ALA->THR"
   ]
  },
  {
   "cell_type": "code",
   "execution_count": 16,
   "metadata": {
    "scrolled": false
   },
   "outputs": [],
   "source": [
    "outdir = \"/data/chodera/zhangi/perses_benchmark/neq/7/31/\"\n",
    "with open(os.path.join(outdir, \"31_vacuum.pickle\" ), \"rb\") as f:\n",
    "    htf_at = pickle.load(f)\n",
    "htf_at_0a = copy.copy(htf_at)\n",
    "htf_at_0t = copy.copy(htf_at)\n",
    "htf_at_1t = copy.copy(htf_at)\n",
    "htf_at_1a = copy.copy(htf_at)"
   ]
  },
  {
   "cell_type": "markdown",
   "metadata": {},
   "source": [
    "#### Look at hybrid and vanilla topologies to determine indices"
   ]
  },
  {
   "cell_type": "code",
   "execution_count": 20,
   "metadata": {},
   "outputs": [
    {
     "name": "stdout",
     "output_type": "stream",
     "text": [
      "ACE1-H1 0\n",
      "ACE1-CH3 1\n",
      "ACE1-H2 2\n",
      "ACE1-H3 3\n",
      "ACE1-C 4\n",
      "ACE1-O 5\n",
      "ALA2-N 6\n",
      "ALA2-H 7\n",
      "ALA2-CA 8\n",
      "ALA2-HA 9\n",
      "ALA2-CB 10\n",
      "ALA2-HB1 11\n",
      "ALA2-HB2 12\n",
      "ALA2-HB3 13\n",
      "ALA2-C 14\n",
      "ALA2-O 15\n",
      "ALA2-CB 22\n",
      "ALA2-HB 23\n",
      "ALA2-CG2 24\n",
      "ALA2-HG21 25\n",
      "ALA2-HG22 26\n",
      "ALA2-HG23 27\n",
      "ALA2-OG1 28\n",
      "ALA2-HG1 29\n",
      "NME3-N 16\n",
      "NME3-H 17\n",
      "NME3-C 18\n",
      "NME3-H1 19\n",
      "NME3-H2 20\n",
      "NME3-H3 21\n"
     ]
    }
   ],
   "source": [
    "for atom in htf_at.hybrid_topology.atoms:\n",
    "    print(atom, atom.index)"
   ]
  },
  {
   "cell_type": "code",
   "execution_count": 21,
   "metadata": {
    "scrolled": true
   },
   "outputs": [
    {
     "name": "stdout",
     "output_type": "stream",
     "text": [
      "<Atom 0 (H1) of chain 0 residue 0 (ACE)> 0\n",
      "<Atom 1 (CH3) of chain 0 residue 0 (ACE)> 1\n",
      "<Atom 2 (H2) of chain 0 residue 0 (ACE)> 2\n",
      "<Atom 3 (H3) of chain 0 residue 0 (ACE)> 3\n",
      "<Atom 4 (C) of chain 0 residue 0 (ACE)> 4\n",
      "<Atom 5 (O) of chain 0 residue 0 (ACE)> 5\n",
      "<Atom 6 (N) of chain 0 residue 1 (ALA)> 6\n",
      "<Atom 7 (H) of chain 0 residue 1 (ALA)> 7\n",
      "<Atom 8 (CA) of chain 0 residue 1 (ALA)> 8\n",
      "<Atom 9 (HA) of chain 0 residue 1 (ALA)> 9\n",
      "<Atom 10 (CB) of chain 0 residue 1 (ALA)> 10\n",
      "<Atom 11 (HB1) of chain 0 residue 1 (ALA)> 11\n",
      "<Atom 12 (HB2) of chain 0 residue 1 (ALA)> 12\n",
      "<Atom 13 (HB3) of chain 0 residue 1 (ALA)> 13\n",
      "<Atom 14 (C) of chain 0 residue 1 (ALA)> 14\n",
      "<Atom 15 (O) of chain 0 residue 1 (ALA)> 15\n",
      "<Atom 16 (N) of chain 0 residue 2 (NME)> 16\n",
      "<Atom 17 (H) of chain 0 residue 2 (NME)> 17\n",
      "<Atom 18 (C) of chain 0 residue 2 (NME)> 18\n",
      "<Atom 19 (H1) of chain 0 residue 2 (NME)> 19\n",
      "<Atom 20 (H2) of chain 0 residue 2 (NME)> 20\n",
      "<Atom 21 (H3) of chain 0 residue 2 (NME)> 21\n"
     ]
    }
   ],
   "source": [
    "for atom in htf_at._topology_proposal.old_topology.atoms():\n",
    "    print(atom, atom.index)"
   ]
  },
  {
   "cell_type": "code",
   "execution_count": 22,
   "metadata": {},
   "outputs": [
    {
     "name": "stdout",
     "output_type": "stream",
     "text": [
      "<Atom 0 (H1) of chain 0 residue 0 (ACE)> 0\n",
      "<Atom 1 (CH3) of chain 0 residue 0 (ACE)> 1\n",
      "<Atom 2 (H2) of chain 0 residue 0 (ACE)> 2\n",
      "<Atom 3 (H3) of chain 0 residue 0 (ACE)> 3\n",
      "<Atom 4 (C) of chain 0 residue 0 (ACE)> 4\n",
      "<Atom 5 (O) of chain 0 residue 0 (ACE)> 5\n",
      "<Atom 6 (N) of chain 0 residue 1 (THR)> 6\n",
      "<Atom 7 (H) of chain 0 residue 1 (THR)> 7\n",
      "<Atom 8 (CA) of chain 0 residue 1 (THR)> 8\n",
      "<Atom 9 (HA) of chain 0 residue 1 (THR)> 9\n",
      "<Atom 10 (CB) of chain 0 residue 1 (THR)> 10\n",
      "<Atom 11 (C) of chain 0 residue 1 (THR)> 11\n",
      "<Atom 12 (O) of chain 0 residue 1 (THR)> 12\n",
      "<Atom 13 (HB) of chain 0 residue 1 (THR)> 13\n",
      "<Atom 14 (CG2) of chain 0 residue 1 (THR)> 14\n",
      "<Atom 15 (HG21) of chain 0 residue 1 (THR)> 15\n",
      "<Atom 16 (HG22) of chain 0 residue 1 (THR)> 16\n",
      "<Atom 17 (HG23) of chain 0 residue 1 (THR)> 17\n",
      "<Atom 18 (OG1) of chain 0 residue 1 (THR)> 18\n",
      "<Atom 19 (HG1) of chain 0 residue 1 (THR)> 19\n",
      "<Atom 20 (N) of chain 0 residue 2 (NME)> 20\n",
      "<Atom 21 (H) of chain 0 residue 2 (NME)> 21\n",
      "<Atom 22 (C) of chain 0 residue 2 (NME)> 22\n",
      "<Atom 23 (H1) of chain 0 residue 2 (NME)> 23\n",
      "<Atom 24 (H2) of chain 0 residue 2 (NME)> 24\n",
      "<Atom 25 (H3) of chain 0 residue 2 (NME)> 25\n"
     ]
    }
   ],
   "source": [
    "for atom in htf_at._topology_proposal.new_topology.atoms():\n",
    "    print(atom, atom.index)"
   ]
  },
  {
   "cell_type": "code",
   "execution_count": 23,
   "metadata": {
    "scrolled": true
   },
   "outputs": [
    {
     "name": "stderr",
     "output_type": "stream",
     "text": [
      "\r",
      "  0%|          | 0/10000 [00:00<?, ?it/s]"
     ]
    },
    {
     "name": "stdout",
     "output_type": "stream",
     "text": [
      "-110.73761849033873\n"
     ]
    },
    {
     "name": "stderr",
     "output_type": "stream",
     "text": [
      "100%|██████████| 10000/10000 [00:02<00:00, 4644.61it/s]\n"
     ]
    },
    {
     "name": "stdout",
     "output_type": "stream",
     "text": [
      "1.0471988\n",
      "-84.00163083508382\n"
     ]
    },
    {
     "name": "stderr",
     "output_type": "stream",
     "text": [
      "INFO:root:Rotating by 0.26199995022480693 radians\n",
      "INFO:root:Rotating by 0.2619999999999998 radians\n"
     ]
    },
    {
     "name": "stdout",
     "output_type": "stream",
     "text": [
      "-108.87600892368982\n"
     ]
    },
    {
     "name": "stderr",
     "output_type": "stream",
     "text": [
      "INFO:root:Rotating by 0.2619999999999998 radians\n"
     ]
    },
    {
     "name": "stdout",
     "output_type": "stream",
     "text": [
      "-107.3170762822728\n"
     ]
    },
    {
     "name": "stderr",
     "output_type": "stream",
     "text": [
      "INFO:root:Rotating by 0.26199999999999957 radians\n"
     ]
    },
    {
     "name": "stdout",
     "output_type": "stream",
     "text": [
      "-105.03834556548752\n"
     ]
    },
    {
     "name": "stderr",
     "output_type": "stream",
     "text": [
      "INFO:root:Rotating by 0.26200000000000045 radians\n"
     ]
    },
    {
     "name": "stdout",
     "output_type": "stream",
     "text": [
      "-103.0782358895191\n"
     ]
    },
    {
     "name": "stderr",
     "output_type": "stream",
     "text": [
      "INFO:root:Rotating by 0.262 radians\n"
     ]
    },
    {
     "name": "stdout",
     "output_type": "stream",
     "text": [
      "-102.00778188793258\n"
     ]
    },
    {
     "name": "stderr",
     "output_type": "stream",
     "text": [
      "INFO:root:Rotating by 0.26200000000000045 radians\n"
     ]
    },
    {
     "name": "stdout",
     "output_type": "stream",
     "text": [
      "-104.05615146986361\n"
     ]
    },
    {
     "name": "stderr",
     "output_type": "stream",
     "text": [
      "INFO:root:Rotating by -6.021185307179586 radians\n"
     ]
    },
    {
     "name": "stdout",
     "output_type": "stream",
     "text": [
      "-106.7457207995591\n"
     ]
    },
    {
     "name": "stderr",
     "output_type": "stream",
     "text": [
      "INFO:root:Rotating by 0.2620000000000111 radians\n"
     ]
    },
    {
     "name": "stdout",
     "output_type": "stream",
     "text": [
      "-108.48518099746299\n"
     ]
    },
    {
     "name": "stderr",
     "output_type": "stream",
     "text": [
      "INFO:root:Rotating by 0.2619999999999889 radians\n"
     ]
    },
    {
     "name": "stdout",
     "output_type": "stream",
     "text": [
      "-108.71149373174276\n"
     ]
    },
    {
     "name": "stderr",
     "output_type": "stream",
     "text": [
      "INFO:root:Rotating by 0.26199999999999957 radians\n"
     ]
    },
    {
     "name": "stdout",
     "output_type": "stream",
     "text": [
      "-107.55477169638446\n"
     ]
    },
    {
     "name": "stderr",
     "output_type": "stream",
     "text": [
      "INFO:root:Rotating by 0.262 radians\n"
     ]
    },
    {
     "name": "stdout",
     "output_type": "stream",
     "text": [
      "-105.54252643092909\n"
     ]
    },
    {
     "name": "stderr",
     "output_type": "stream",
     "text": [
      "INFO:root:Rotating by 0.262 radians\n"
     ]
    },
    {
     "name": "stdout",
     "output_type": "stream",
     "text": [
      "-104.34781760239724\n"
     ]
    },
    {
     "name": "stderr",
     "output_type": "stream",
     "text": [
      "INFO:root:Rotating by 0.262 radians\n"
     ]
    },
    {
     "name": "stdout",
     "output_type": "stream",
     "text": [
      "-104.1645653046974\n"
     ]
    },
    {
     "name": "stderr",
     "output_type": "stream",
     "text": [
      "INFO:root:Rotating by 0.2619999999999998 radians\n"
     ]
    },
    {
     "name": "stdout",
     "output_type": "stream",
     "text": [
      "-105.40810523296773\n"
     ]
    },
    {
     "name": "stderr",
     "output_type": "stream",
     "text": [
      "INFO:root:Rotating by 0.262 radians\n"
     ]
    },
    {
     "name": "stdout",
     "output_type": "stream",
     "text": [
      "-107.12802944683898\n"
     ]
    },
    {
     "name": "stderr",
     "output_type": "stream",
     "text": [
      "INFO:root:Rotating by 0.26200000000000023 radians\n"
     ]
    },
    {
     "name": "stdout",
     "output_type": "stream",
     "text": [
      "-108.24482333731207\n"
     ]
    },
    {
     "name": "stderr",
     "output_type": "stream",
     "text": [
      "INFO:root:Rotating by 0.26200000000000023 radians\n"
     ]
    },
    {
     "name": "stdout",
     "output_type": "stream",
     "text": [
      "-108.01394816244606\n"
     ]
    },
    {
     "name": "stderr",
     "output_type": "stream",
     "text": [
      "INFO:root:Rotating by 0.2619999999999999 radians\n"
     ]
    },
    {
     "name": "stdout",
     "output_type": "stream",
     "text": [
      "-106.55054530471737\n"
     ]
    },
    {
     "name": "stderr",
     "output_type": "stream",
     "text": [
      "INFO:root:Rotating by 0.26200000000000023 radians\n"
     ]
    },
    {
     "name": "stdout",
     "output_type": "stream",
     "text": [
      "-104.59270774186469\n"
     ]
    },
    {
     "name": "stderr",
     "output_type": "stream",
     "text": [
      "INFO:root:Rotating by 0.26200000000000323 radians\n"
     ]
    },
    {
     "name": "stdout",
     "output_type": "stream",
     "text": [
      "-103.33430609547335\n"
     ]
    },
    {
     "name": "stderr",
     "output_type": "stream",
     "text": [
      "INFO:root:Rotating by 0.2619999999999972 radians\n"
     ]
    },
    {
     "name": "stdout",
     "output_type": "stream",
     "text": [
      "-103.65546220456979\n"
     ]
    },
    {
     "name": "stderr",
     "output_type": "stream",
     "text": [
      "INFO:root:Rotating by 0.26199999999999946 radians\n"
     ]
    },
    {
     "name": "stdout",
     "output_type": "stream",
     "text": [
      "-105.34191164795395\n"
     ]
    },
    {
     "name": "stderr",
     "output_type": "stream",
     "text": [
      "INFO:root:Rotating by 0.2619999999999999 radians\n"
     ]
    },
    {
     "name": "stdout",
     "output_type": "stream",
     "text": [
      "-107.430096553907\n"
     ]
    },
    {
     "name": "stderr",
     "output_type": "stream",
     "text": [
      "INFO:root:Rotating by 0.26200000000000045 radians\n"
     ]
    },
    {
     "name": "stdout",
     "output_type": "stream",
     "text": [
      "-108.81072733205585\n",
      "raw d: {1.30919877243042: (-108.87600892368982, nan), 1.57119877243042: (-107.3170762822728, nan), 1.83319877243042: (-105.03834556548752, nan), 2.09519877243042: (-103.0782358895191, nan), 2.35719877243042: (-102.00778188793258, nan), 2.61919877243042: (-104.05615146986361, nan), 2.88119877243042: (-106.7457207995591, nan), -3.1399865347491662: (-108.48518099746299, nan), -2.877986534749166: (-108.71149373174276, nan), -2.615986534749166: (-107.55477169638446, nan), -2.353986534749166: (-105.54252643092909, nan), -2.091986534749166: (-104.34781760239724, nan), -1.8299865347491662: (-104.1645653046974, nan), -1.5679865347491662: (-105.40810523296773, nan), -1.3059865347491662: (-107.12802944683898, nan), -1.0439865347491661: (-108.24482333731207, nan), -0.7819865347491661: (-108.01394816244606, nan), -0.5199865347491661: (-106.55054530471737, nan), -0.2579865347491661: (-104.59270774186469, nan), 0.004013465250833903: (-103.33430609547335, nan), 0.2660134652508339: (-103.65546220456979, nan), 0.5280134652508339: (-105.34191164795395, nan), 0.7900134652508339: (-107.430096553907, nan), 1.052013465250834: (-108.81072733205585, nan), 1.314013465250834: (-108.82726842173025, nan)}\n",
      "min: -108.87600892368982\n",
      "d corrected: {1.30919877243042: (0.0, nan), 1.57119877243042: (1.5589326414170301, nan), 1.83319877243042: (3.837663358202306, nan), 2.09519877243042: (5.797773034170717, nan), 2.35719877243042: (6.8682270357572435, nan), 2.61919877243042: (4.819857453826216, nan), 2.88119877243042: (2.130288124130729, nan), -3.1399865347491662: (0.3908279262268337, nan), -2.877986534749166: (0.16451519194706066, nan), -2.615986534749166: (1.3212372273053603, nan), -2.353986534749166: (3.333482492760737, nan), -2.091986534749166: (4.5281913212925815, nan), -1.8299865347491662: (4.711443618992419, nan), -1.5679865347491662: (3.467903690722096, nan), -1.3059865347491662: (1.747979476850844, nan), -1.0439865347491661: (0.6311855863777538, nan), -0.7819865347491661: (0.8620607612437681, nan), -0.5199865347491661: (2.3254636189724494, nan), -0.2579865347491661: (4.283301181825138, nan), 0.004013465250833903: (5.541702828216472, nan), 0.2660134652508339: (5.220546719120037, nan), 0.5280134652508339: (3.534097275735874, nan), 0.7900134652508339: (1.4459123697828176, nan), 1.052013465250834: (0.06528159163397618, nan), 1.314013465250834: (0.04874050195957125, nan)}\n"
     ]
    },
    {
     "data": {
      "image/png": "[encoded data removed]",
      "text/plain": [
       "<Figure size 432x288 with 1 Axes>"
      ]
     },
     "metadata": {
      "needs_background": "light"
     },
     "output_type": "display_data"
    }
   ],
   "source": [
    "# ALA->THR -- ALA at lambda = 0\n",
    "run_torsion_scan(htf_at_0a, 0, True, [6, 8, 10, 11], [6, 8, 10, 11], [12, 13])"
   ]
  },
  {
   "cell_type": "code",
   "execution_count": 17,
   "metadata": {
    "scrolled": true
   },
   "outputs": [
    {
     "name": "stderr",
     "output_type": "stream",
     "text": [
      "\r",
      "  0%|          | 0/10000 [00:00<?, ?it/s]"
     ]
    },
    {
     "name": "stdout",
     "output_type": "stream",
     "text": [
      "-110.73761849033873\n"
     ]
    },
    {
     "name": "stderr",
     "output_type": "stream",
     "text": [
      "100%|██████████| 10000/10000 [00:02<00:00, 4725.76it/s]\n"
     ]
    },
    {
     "name": "stdout",
     "output_type": "stream",
     "text": [
      "2.7912235\n",
      "-86.64674122772\n"
     ]
    },
    {
     "name": "stderr",
     "output_type": "stream",
     "text": [
      "INFO:root:Rotating by 0.2620000119779138 radians\n",
      "INFO:root:Rotating by -6.021185307179586 radians\n",
      "INFO:root:Rotating by 0.26200000000000045 radians\n",
      "INFO:root:Rotating by 0.262 radians\n",
      "INFO:root:Rotating by 0.262 radians\n",
      "INFO:root:Rotating by 0.26199999999999957 radians\n",
      "INFO:root:Rotating by 0.262 radians\n",
      "INFO:root:Rotating by 0.2619999999999998 radians\n",
      "INFO:root:Rotating by 0.2619999999999998 radians\n",
      "INFO:root:Rotating by 0.26200000000000023 radians\n",
      "INFO:root:Rotating by 0.26200000000000023 radians\n",
      "INFO:root:Rotating by 0.26200000000000057 radians\n",
      "INFO:root:Rotating by 0.2619999999999998 radians\n",
      "INFO:root:Rotating by 0.26200000000000045 radians\n",
      "INFO:root:Rotating by 0.2620000000000008 radians\n",
      "INFO:root:Rotating by 0.26199999999999934 radians\n",
      "INFO:root:Rotating by 0.26200000000000057 radians\n",
      "INFO:root:Rotating by 0.2619999999999998 radians\n",
      "INFO:root:Rotating by 0.262 radians\n",
      "INFO:root:Rotating by 0.2619999999999998 radians\n",
      "INFO:root:Rotating by 0.26200000000000023 radians\n",
      "INFO:root:Rotating by 0.26199999999999957 radians\n",
      "INFO:root:Rotating by 0.262 radians\n",
      "INFO:root:Rotating by 0.2620000000000009 radians\n",
      "INFO:root:Rotating by 0.26199999999999957 radians\n"
     ]
    },
    {
     "name": "stdout",
     "output_type": "stream",
     "text": [
      "-88.52396930723033\n",
      "-87.84294421551584\n",
      "-85.26269631320984\n",
      "-81.53783021041897\n",
      "-77.6168803726178\n",
      "-74.38075745811935\n",
      "-71.83396755715484\n",
      "-69.17299358692013\n",
      "-65.72164554394759\n",
      "-61.313254664270126\n",
      "-56.20315131962319\n",
      "-51.37096717496549\n",
      "-48.81181891754586\n",
      "-50.28648031787073\n",
      "-55.35771069093634\n",
      "-61.88500036210418\n",
      "-68.02840782039769\n",
      "-72.7556982921967\n",
      "-75.37821019150321\n",
      "-75.8635527755499\n",
      "-75.87027382672031\n",
      "-77.99886705978214\n",
      "-82.48989251115394\n",
      "-86.70580769820569\n",
      "raw d: {3.0532235260009766: (-88.52396930723033, nan), -2.9679617811786096: (-87.84294421551584, nan), -2.7059617811786096: (-85.26269631320984, nan), -2.4439617811786096: (-81.53783021041897, nan), -2.1819617811786096: (-77.6168803726178, nan), -1.9199617811786096: (-74.38075745811935, nan), -1.6579617811786096: (-71.83396755715484, nan), -1.3959617811786096: (-69.17299358692013, nan), -1.1339617811786096: (-65.72164554394759, nan), -0.8719617811786096: (-61.313254664270126, nan), -0.6099617811786096: (-56.20315131962319, nan), -0.34796178117860954: (-51.37096717496549, nan), -0.08596178117860953: (-48.81181891754586, nan), 0.17603821882139048: (-50.28648031787073, nan), 0.4380382188213905: (-55.35771069093634, nan), 0.7000382188213905: (-61.88500036210418, nan), 0.9620382188213905: (-68.02840782039769, nan), 1.2240382188213905: (-72.7556982921967, nan), 1.4860382188213905: (-75.37821019150321, nan), 1.7480382188213905: (-75.8635527755499, nan), 2.0100382188213906: (-75.87027382672031, nan), 2.2720382188213906: (-77.99886705978214, nan), 2.5340382188213906: (-82.48989251115394, nan), 2.7960382188213906: (-86.70580769820569, nan), 3.0580382188213906: (-88.53294348528999, nan)}\n",
      "min: -88.53294348528999\n",
      "d corrected: {3.0532235260009766: (0.008974178059659721, nan), -2.9679617811786096: (0.6899992697741482, nan), -2.7059617811786096: (3.270247172080147, nan), -2.4439617811786096: (6.9951132748710165, nan), -2.1819617811786096: (10.916063112672191, nan), -1.9199617811786096: (14.152186027170643, nan), -1.6579617811786096: (16.698975928135155, nan), -1.3959617811786096: (19.359949898369862, nan), -1.1339617811786096: (22.811297941342403, nan), -0.8719617811786096: (27.219688821019865, nan), -0.6099617811786096: (32.3297921656668, nan), -0.34796178117860954: (37.1619763103245, nan), -0.08596178117860953: (39.721124567744134, nan), 0.17603821882139048: (38.24646316741926, nan), 0.4380382188213905: (33.175232794353654, nan), 0.7000382188213905: (26.64794312318581, nan), 0.9620382188213905: (20.504535664892302, nan), 1.2240382188213905: (15.777245193093293, nan), 1.4860382188213905: (13.154733293786776, nan), 1.7480382188213905: (12.669390709740085, nan), 2.0100382188213906: (12.662669658569683, nan), 2.2720382188213906: (10.534076425507848, nan), 2.5340382188213906: (6.043050974136051, nan), 2.7960382188213906: (1.827135787084302, nan), 3.0580382188213906: (0.0, nan)}\n"
     ]
    },
    {
     "data": {
      "image/png": "[encoded data removed]",
      "text/plain": [
       "<Figure size 432x288 with 1 Axes>"
      ]
     },
     "metadata": {
      "needs_background": "light"
     },
     "output_type": "display_data"
    }
   ],
   "source": [
    "# ALA->THR -- THR at lambda = 0\n",
    "torsion_scans.append(run_torsion_scan(htf_at_0t, 0, False, [6, 8, 22, 28], [6, 8, 10, 18], [23, 24, 25, 26, 27, 29]))"
   ]
  },
  {
   "cell_type": "code",
   "execution_count": 36,
   "metadata": {
    "scrolled": true
   },
   "outputs": [
    {
     "name": "stdout",
     "output_type": "stream",
     "text": [
      "26.18438522599787\n"
     ]
    },
    {
     "name": "stderr",
     "output_type": "stream",
     "text": [
      "100%|██████████| 10000/10000 [00:01<00:00, 5600.82it/s]\n",
      "INFO:root:Rotating by 0.2620000119779138 radians\n",
      "INFO:root:Rotating by -6.021185307179586 radians\n"
     ]
    },
    {
     "name": "stdout",
     "output_type": "stream",
     "text": [
      "2.7912235\n",
      "39.22850403369243\n",
      "-2.1766170715949484\n"
     ]
    },
    {
     "name": "stderr",
     "output_type": "stream",
     "text": [
      "INFO:root:Rotating by 0.26200000000000045 radians\n",
      "INFO:root:Rotating by 0.262 radians\n"
     ]
    },
    {
     "name": "stdout",
     "output_type": "stream",
     "text": [
      "-5.404586659231063\n",
      "-4.799388737439432\n"
     ]
    },
    {
     "name": "stderr",
     "output_type": "stream",
     "text": [
      "INFO:root:Rotating by 0.262 radians\n"
     ]
    },
    {
     "name": "stdout",
     "output_type": "stream",
     "text": [
      "-1.3506668721669342\n"
     ]
    },
    {
     "name": "stderr",
     "output_type": "stream",
     "text": [
      "INFO:root:Rotating by 0.26199999999999957 radians\n"
     ]
    },
    {
     "name": "stdout",
     "output_type": "stream",
     "text": [
      "2.0262392177501156\n"
     ]
    },
    {
     "name": "stderr",
     "output_type": "stream",
     "text": [
      "INFO:root:Rotating by 0.262 radians\n"
     ]
    },
    {
     "name": "stdout",
     "output_type": "stream",
     "text": [
      "4.065333168619341\n"
     ]
    },
    {
     "name": "stderr",
     "output_type": "stream",
     "text": [
      "INFO:root:Rotating by 0.2619999999999998 radians\n"
     ]
    },
    {
     "name": "stdout",
     "output_type": "stream",
     "text": [
      "3.958829244976378\n"
     ]
    },
    {
     "name": "stderr",
     "output_type": "stream",
     "text": [
      "INFO:root:Rotating by 0.2619999999999998 radians\n"
     ]
    },
    {
     "name": "stdout",
     "output_type": "stream",
     "text": [
      "43.79646965714233\n"
     ]
    },
    {
     "name": "stderr",
     "output_type": "stream",
     "text": [
      "INFO:root:Rotating by 0.26200000000000023 radians\n",
      "INFO:root:Rotating by 0.26200000000000023 radians\n"
     ]
    },
    {
     "name": "stdout",
     "output_type": "stream",
     "text": [
      "4.313561137309439\n",
      "7.648970845523436\n"
     ]
    },
    {
     "name": "stderr",
     "output_type": "stream",
     "text": [
      "INFO:root:Rotating by 0.26200000000000057 radians\n"
     ]
    },
    {
     "name": "stdout",
     "output_type": "stream",
     "text": [
      "13.966647906890588\n"
     ]
    },
    {
     "name": "stderr",
     "output_type": "stream",
     "text": [
      "INFO:root:Rotating by 0.2619999999999998 radians\n"
     ]
    },
    {
     "name": "stdout",
     "output_type": "stream",
     "text": [
      "21.71147735078571\n"
     ]
    },
    {
     "name": "stderr",
     "output_type": "stream",
     "text": [
      "INFO:root:Rotating by 0.26200000000000045 radians\n"
     ]
    },
    {
     "name": "stdout",
     "output_type": "stream",
     "text": [
      "27.421711785805808\n"
     ]
    },
    {
     "name": "stderr",
     "output_type": "stream",
     "text": [
      "INFO:root:Rotating by 0.2620000000000008 radians\n"
     ]
    },
    {
     "name": "stdout",
     "output_type": "stream",
     "text": [
      "27.911820563861685\n"
     ]
    },
    {
     "name": "stderr",
     "output_type": "stream",
     "text": [
      "INFO:root:Rotating by 0.26199999999999934 radians\n"
     ]
    },
    {
     "name": "stdout",
     "output_type": "stream",
     "text": [
      "26.057077186214308\n"
     ]
    },
    {
     "name": "stderr",
     "output_type": "stream",
     "text": [
      "INFO:root:Rotating by 0.26200000000000057 radians\n"
     ]
    },
    {
     "name": "stdout",
     "output_type": "stream",
     "text": [
      "22.737236972951823\n"
     ]
    },
    {
     "name": "stderr",
     "output_type": "stream",
     "text": [
      "INFO:root:Rotating by 0.2619999999999998 radians\n"
     ]
    },
    {
     "name": "stdout",
     "output_type": "stream",
     "text": [
      "19.509681105085406\n"
     ]
    },
    {
     "name": "stderr",
     "output_type": "stream",
     "text": [
      "INFO:root:Rotating by 0.262 radians\n"
     ]
    },
    {
     "name": "stdout",
     "output_type": "stream",
     "text": [
      "18.165880781384452\n"
     ]
    },
    {
     "name": "stderr",
     "output_type": "stream",
     "text": [
      "INFO:root:Rotating by 0.2619999999999998 radians\n"
     ]
    },
    {
     "name": "stdout",
     "output_type": "stream",
     "text": [
      "18.779039097678506\n"
     ]
    },
    {
     "name": "stderr",
     "output_type": "stream",
     "text": [
      "INFO:root:Rotating by 0.26200000000000023 radians\n"
     ]
    },
    {
     "name": "stdout",
     "output_type": "stream",
     "text": [
      "19.912352046150247\n"
     ]
    },
    {
     "name": "stderr",
     "output_type": "stream",
     "text": [
      "INFO:root:Rotating by 0.26199999999999957 radians\n"
     ]
    },
    {
     "name": "stdout",
     "output_type": "stream",
     "text": [
      "20.239116657335217\n"
     ]
    },
    {
     "name": "stderr",
     "output_type": "stream",
     "text": [
      "INFO:root:Rotating by 0.262 radians\n"
     ]
    },
    {
     "name": "stdout",
     "output_type": "stream",
     "text": [
      "17.29549276355504\n"
     ]
    },
    {
     "name": "stderr",
     "output_type": "stream",
     "text": [
      "INFO:root:Rotating by 0.2620000000000009 radians\n",
      "INFO:root:Rotating by 0.26199999999999957 radians\n"
     ]
    },
    {
     "name": "stdout",
     "output_type": "stream",
     "text": [
      "11.134412835812288\n",
      "3.693695316707123\n",
      "raw d: {3.0532235260009766: (-2.1766170715949484, nan), -2.9679617811786096: (-5.404586659231063, nan), -2.7059617811786096: (-4.799388737439432, nan), -2.4439617811786096: (-1.3506668721669342, nan), -2.1819617811786096: (2.0262392177501156, nan), -1.9199617811786096: (4.065333168619341, nan), -1.6579617811786096: (3.958829244976378, nan), -1.3959617811786096: (43.79646965714233, nan), -1.1339617811786096: (4.313561137309439, nan), -0.8719617811786096: (7.648970845523436, nan), -0.6099617811786096: (13.966647906890588, nan), -0.34796178117860954: (21.71147735078571, nan), -0.08596178117860953: (27.421711785805808, nan), 0.17603821882139048: (27.911820563861685, nan), 0.4380382188213905: (26.057077186214308, nan), 0.7000382188213905: (22.737236972951823, nan), 0.9620382188213905: (19.509681105085406, nan), 1.2240382188213905: (18.165880781384452, nan), 1.4860382188213905: (18.779039097678506, nan), 1.7480382188213905: (19.912352046150247, nan), 2.0100382188213906: (20.239116657335217, nan), 2.2720382188213906: (17.29549276355504, nan), 2.5340382188213906: (11.134412835812288, nan), 2.7960382188213906: (3.693695316707123, nan), 3.0580382188213906: (-2.6226439860456936, nan)}\n",
      "min: -5.404586659231063\n",
      "d corrected: {3.0532235260009766: (3.2279695876361143, nan), -2.9679617811786096: (0.0, nan), -2.7059617811786096: (0.605197921791631, nan), -2.4439617811786096: (4.053919787064128, nan), -2.1819617811786096: (7.430825876981178, nan), -1.9199617811786096: (9.469919827850404, nan), -1.6579617811786096: (9.363415904207441, nan), -1.3959617811786096: (49.201056316373396, nan), -1.1339617811786096: (9.718147796540503, nan), -0.8719617811786096: (13.0535575047545, nan), -0.6099617811786096: (19.37123456612165, nan), -0.34796178117860954: (27.11606401001677, nan), -0.08596178117860953: (32.82629844503687, nan), 0.17603821882139048: (33.316407223092746, nan), 0.4380382188213905: (31.461663845445372, nan), 0.7000382188213905: (28.141823632182884, nan), 0.9620382188213905: (24.91426776431647, nan), 1.2240382188213905: (23.570467440615516, nan), 1.4860382188213905: (24.18362575690957, nan), 1.7480382188213905: (25.31693870538131, nan), 2.0100382188213906: (25.64370331656628, nan), 2.2720382188213906: (22.700079422786104, nan), 2.5340382188213906: (16.53899949504335, nan), 2.7960382188213906: (9.098281975938185, nan), 3.0580382188213906: (2.781942673185369, nan)}\n"
     ]
    },
    {
     "data": {
      "image/png": "[encoded data removed]",
      "text/plain": [
       "<Figure size 432x288 with 1 Axes>"
      ]
     },
     "metadata": {
      "needs_background": "light"
     },
     "output_type": "display_data"
    }
   ],
   "source": [
    "# ALA->THR -- THR at lambda = 1\n",
    "run_torsion_scan(htf_at_1t, 1, False, [6, 8, 22, 28], [6, 8, 10, 18], [23, 24, 25, 26, 27, 29])"
   ]
  },
  {
   "cell_type": "code",
   "execution_count": 38,
   "metadata": {
    "scrolled": true
   },
   "outputs": [
    {
     "name": "stdout",
     "output_type": "stream",
     "text": [
      "26.18438522599787\n"
     ]
    },
    {
     "name": "stderr",
     "output_type": "stream",
     "text": [
      "100%|██████████| 10000/10000 [00:01<00:00, 5376.47it/s]\n",
      "INFO:root:Rotating by 0.26199995022480693 radians\n"
     ]
    },
    {
     "name": "stdout",
     "output_type": "stream",
     "text": [
      "1.0471988\n",
      "-11.36393803816873\n"
     ]
    },
    {
     "name": "stderr",
     "output_type": "stream",
     "text": [
      "INFO:root:Rotating by 0.2619999999999998 radians\n"
     ]
    },
    {
     "name": "stdout",
     "output_type": "stream",
     "text": [
      "-41.52693728266666\n"
     ]
    },
    {
     "name": "stderr",
     "output_type": "stream",
     "text": [
      "INFO:root:Rotating by 0.2619999999999998 radians\n"
     ]
    },
    {
     "name": "stdout",
     "output_type": "stream",
     "text": [
      "-40.71123442664667\n"
     ]
    },
    {
     "name": "stderr",
     "output_type": "stream",
     "text": [
      "INFO:root:Rotating by 0.26199999999999957 radians\n"
     ]
    },
    {
     "name": "stdout",
     "output_type": "stream",
     "text": [
      "-40.374733852688664\n"
     ]
    },
    {
     "name": "stderr",
     "output_type": "stream",
     "text": [
      "INFO:root:Rotating by 0.26200000000000045 radians\n"
     ]
    },
    {
     "name": "stdout",
     "output_type": "stream",
     "text": [
      "-40.00295162284753\n"
     ]
    },
    {
     "name": "stderr",
     "output_type": "stream",
     "text": [
      "INFO:root:Rotating by 0.262 radians\n"
     ]
    },
    {
     "name": "stdout",
     "output_type": "stream",
     "text": [
      "-39.991481422821394\n"
     ]
    },
    {
     "name": "stderr",
     "output_type": "stream",
     "text": [
      "INFO:root:Rotating by 0.26200000000000045 radians\n"
     ]
    },
    {
     "name": "stdout",
     "output_type": "stream",
     "text": [
      "-39.96253834617024\n"
     ]
    },
    {
     "name": "stderr",
     "output_type": "stream",
     "text": [
      "INFO:root:Rotating by -6.021185307179586 radians\n"
     ]
    },
    {
     "name": "stdout",
     "output_type": "stream",
     "text": [
      "-40.418764897604866\n"
     ]
    },
    {
     "name": "stderr",
     "output_type": "stream",
     "text": [
      "INFO:root:Rotating by 0.2620000000000111 radians\n"
     ]
    },
    {
     "name": "stdout",
     "output_type": "stream",
     "text": [
      "-40.687981010314864\n"
     ]
    },
    {
     "name": "stderr",
     "output_type": "stream",
     "text": [
      "INFO:root:Rotating by 0.2619999999999889 radians\n"
     ]
    },
    {
     "name": "stdout",
     "output_type": "stream",
     "text": [
      "-41.22750383422204\n"
     ]
    },
    {
     "name": "stderr",
     "output_type": "stream",
     "text": [
      "INFO:root:Rotating by 0.26199999999999957 radians\n"
     ]
    },
    {
     "name": "stdout",
     "output_type": "stream",
     "text": [
      "-41.4453078168049\n"
     ]
    },
    {
     "name": "stderr",
     "output_type": "stream",
     "text": [
      "INFO:root:Rotating by 0.262 radians\n"
     ]
    },
    {
     "name": "stdout",
     "output_type": "stream",
     "text": [
      "-41.834044108916515\n"
     ]
    },
    {
     "name": "stderr",
     "output_type": "stream",
     "text": [
      "INFO:root:Rotating by 0.262 radians\n"
     ]
    },
    {
     "name": "stdout",
     "output_type": "stream",
     "text": [
      "-42.86382230284378\n"
     ]
    },
    {
     "name": "stderr",
     "output_type": "stream",
     "text": [
      "INFO:root:Rotating by 0.262 radians\n"
     ]
    },
    {
     "name": "stdout",
     "output_type": "stream",
     "text": [
      "-42.37149357398409\n"
     ]
    },
    {
     "name": "stderr",
     "output_type": "stream",
     "text": [
      "INFO:root:Rotating by 0.2619999999999998 radians\n"
     ]
    },
    {
     "name": "stdout",
     "output_type": "stream",
     "text": [
      "-42.608990141069754\n"
     ]
    },
    {
     "name": "stderr",
     "output_type": "stream",
     "text": [
      "INFO:root:Rotating by 0.262 radians\n",
      "INFO:root:Rotating by 0.26200000000000023 radians\n"
     ]
    },
    {
     "name": "stdout",
     "output_type": "stream",
     "text": [
      "-42.94586622265525\n",
      "-42.818071696845884\n"
     ]
    },
    {
     "name": "stderr",
     "output_type": "stream",
     "text": [
      "INFO:root:Rotating by 0.26200000000000023 radians\n"
     ]
    },
    {
     "name": "stdout",
     "output_type": "stream",
     "text": [
      "-42.70555330190488\n"
     ]
    },
    {
     "name": "stderr",
     "output_type": "stream",
     "text": [
      "INFO:root:Rotating by 0.2619999999999999 radians\n"
     ]
    },
    {
     "name": "stdout",
     "output_type": "stream",
     "text": [
      "-42.32172653917236\n"
     ]
    },
    {
     "name": "stderr",
     "output_type": "stream",
     "text": [
      "INFO:root:Rotating by 0.26200000000000023 radians\n"
     ]
    },
    {
     "name": "stdout",
     "output_type": "stream",
     "text": [
      "-41.972502037014465\n"
     ]
    },
    {
     "name": "stderr",
     "output_type": "stream",
     "text": [
      "INFO:root:Rotating by 0.26200000000000323 radians\n"
     ]
    },
    {
     "name": "stdout",
     "output_type": "stream",
     "text": [
      "-42.40892761679727\n"
     ]
    },
    {
     "name": "stderr",
     "output_type": "stream",
     "text": [
      "INFO:root:Rotating by 0.2619999999999972 radians\n"
     ]
    },
    {
     "name": "stdout",
     "output_type": "stream",
     "text": [
      "-42.0243237725755\n"
     ]
    },
    {
     "name": "stderr",
     "output_type": "stream",
     "text": [
      "INFO:root:Rotating by 0.26199999999999946 radians\n"
     ]
    },
    {
     "name": "stdout",
     "output_type": "stream",
     "text": [
      "-42.21379688622531\n"
     ]
    },
    {
     "name": "stderr",
     "output_type": "stream",
     "text": [
      "INFO:root:Rotating by 0.2619999999999999 radians\n"
     ]
    },
    {
     "name": "stdout",
     "output_type": "stream",
     "text": [
      "-42.193804925296895\n"
     ]
    },
    {
     "name": "stderr",
     "output_type": "stream",
     "text": [
      "INFO:root:Rotating by 0.26200000000000045 radians\n"
     ]
    },
    {
     "name": "stdout",
     "output_type": "stream",
     "text": [
      "-41.88187354277126\n",
      "raw d: {1.30919877243042: (-41.52693728266666, nan), 1.57119877243042: (-40.71123442664667, nan), 1.83319877243042: (-40.374733852688664, nan), 2.09519877243042: (-40.00295162284753, nan), 2.35719877243042: (-39.991481422821394, nan), 2.61919877243042: (-39.96253834617024, nan), 2.88119877243042: (-40.418764897604866, nan), -3.1399865347491662: (-40.687981010314864, nan), -2.877986534749166: (-41.22750383422204, nan), -2.615986534749166: (-41.4453078168049, nan), -2.353986534749166: (-41.834044108916515, nan), -2.091986534749166: (-42.86382230284378, nan), -1.8299865347491662: (-42.37149357398409, nan), -1.5679865347491662: (-42.608990141069754, nan), -1.3059865347491662: (-42.94586622265525, nan), -1.0439865347491661: (-42.818071696845884, nan), -0.7819865347491661: (-42.70555330190488, nan), -0.5199865347491661: (-42.32172653917236, nan), -0.2579865347491661: (-41.972502037014465, nan), 0.004013465250833903: (-42.40892761679727, nan), 0.2660134652508339: (-42.0243237725755, nan), 0.5280134652508339: (-42.21379688622531, nan), 0.7900134652508339: (-42.193804925296895, nan), 1.052013465250834: (-41.88187354277126, nan), 1.314013465250834: (-41.46534156521939, nan)}\n",
      "min: -42.94586622265525\n",
      "d corrected: {1.30919877243042: (1.4189289399885894, nan), 1.57119877243042: (2.2346317960085784, nan), 1.83319877243042: (2.571132369966584, nan), 2.09519877243042: (2.9429145998077146, nan), 2.35719877243042: (2.9543847998338535, nan), 2.61919877243042: (2.9833278764850064, nan), 2.88119877243042: (2.5271013250503813, nan), -3.1399865347491662: (2.2578852123403834, nan), -2.877986534749166: (1.7183623884332064, nan), -2.615986534749166: (1.5005584058503487, nan), -2.353986534749166: (1.1118221137387323, nan), -2.091986534749166: (0.08204391981146841, nan), -1.8299865347491662: (0.574372648671158, nan), -1.5679865347491662: (0.3368760815854941, nan), -1.3059865347491662: (0.0, nan), -1.0439865347491661: (0.1277945258093638, nan), -0.7819865347491661: (0.24031292075036959, nan), -0.5199865347491661: (0.6241396834828876, nan), -0.2579865347491661: (0.9733641856407829, nan), 0.004013465250833903: (0.5369386058579764, nan), 0.2660134652508339: (0.9215424500797482, nan), 0.5280134652508339: (0.7320693364299373, nan), 0.7900134652508339: (0.7520612973583525, nan), 1.052013465250834: (1.063992679883988, nan), 1.314013465250834: (1.4805246574358577, nan)}\n"
     ]
    },
    {
     "data": {
      "image/png": "[encoded data removed]",
      "text/plain": [
       "<Figure size 432x288 with 1 Axes>"
      ]
     },
     "metadata": {
      "needs_background": "light"
     },
     "output_type": "display_data"
    }
   ],
   "source": [
    "# ALA->THR -- ALA at lambda = 1\n",
    "run_torsion_scan(htf_at_1a, 1, True, [6, 8, 10, 11], [6, 8, 10, 11], [12, 13])"
   ]
  },
  {
   "cell_type": "markdown",
   "metadata": {},
   "source": [
    "### Generate torsion scans for the vanilla htf with flattened torsions (and sidechains not mapped): THR->ALA"
   ]
  },
  {
   "cell_type": "code",
   "execution_count": 8,
   "metadata": {},
   "outputs": [],
   "source": [
    "outdir = \"/data/chodera/zhangi/perses_benchmark/neq/7/32/\"\n",
    "with open(os.path.join(outdir, \"32_vacuum.pickle\" ), \"rb\") as f:\n",
    "    htf_ta = pickle.load(f)\n",
    "htf_ta_0t = copy.copy(htf_ta)\n",
    "htf_ta_0a = copy.copy(htf_ta)\n",
    "htf_ta_1a = copy.copy(htf_ta)\n",
    "htf_ta_1t = copy.copy(htf_ta)"
   ]
  },
  {
   "cell_type": "markdown",
   "metadata": {},
   "source": [
    "#### Look at hybrid topology to determine indices"
   ]
  },
  {
   "cell_type": "code",
   "execution_count": 9,
   "metadata": {},
   "outputs": [
    {
     "name": "stdout",
     "output_type": "stream",
     "text": [
      "ACE1-H1 0\n",
      "ACE1-CH3 1\n",
      "ACE1-H2 2\n",
      "ACE1-H3 3\n",
      "ACE1-C 4\n",
      "ACE1-O 5\n",
      "THR2-N 6\n",
      "THR2-H 7\n",
      "THR2-CA 8\n",
      "THR2-HA 9\n",
      "THR2-CB 10\n",
      "THR2-C 11\n",
      "THR2-O 12\n",
      "THR2-HB 13\n",
      "THR2-CG2 14\n",
      "THR2-HG21 15\n",
      "THR2-HG22 16\n",
      "THR2-HG23 17\n",
      "THR2-OG1 18\n",
      "THR2-HG1 19\n",
      "THR2-CB 26\n",
      "THR2-HB1 27\n",
      "THR2-HB2 28\n",
      "THR2-HB3 29\n",
      "NME3-N 20\n",
      "NME3-H 21\n",
      "NME3-C 22\n",
      "NME3-H1 23\n",
      "NME3-H2 24\n",
      "NME3-H3 25\n"
     ]
    }
   ],
   "source": [
    "for atom in htf_ta.hybrid_topology.atoms:\n",
    "    print(atom, atom.index)"
   ]
  },
  {
   "cell_type": "code",
   "execution_count": 10,
   "metadata": {},
   "outputs": [
    {
     "name": "stdout",
     "output_type": "stream",
     "text": [
      "<Atom 0 (H1) of chain 0 residue 0 (ACE)> 0\n",
      "<Atom 1 (CH3) of chain 0 residue 0 (ACE)> 1\n",
      "<Atom 2 (H2) of chain 0 residue 0 (ACE)> 2\n",
      "<Atom 3 (H3) of chain 0 residue 0 (ACE)> 3\n",
      "<Atom 4 (C) of chain 0 residue 0 (ACE)> 4\n",
      "<Atom 5 (O) of chain 0 residue 0 (ACE)> 5\n",
      "<Atom 6 (N) of chain 0 residue 1 (THR)> 6\n",
      "<Atom 7 (H) of chain 0 residue 1 (THR)> 7\n",
      "<Atom 8 (CA) of chain 0 residue 1 (THR)> 8\n",
      "<Atom 9 (HA) of chain 0 residue 1 (THR)> 9\n",
      "<Atom 10 (CB) of chain 0 residue 1 (THR)> 10\n",
      "<Atom 11 (C) of chain 0 residue 1 (THR)> 11\n",
      "<Atom 12 (O) of chain 0 residue 1 (THR)> 12\n",
      "<Atom 13 (HB) of chain 0 residue 1 (THR)> 13\n",
      "<Atom 14 (CG2) of chain 0 residue 1 (THR)> 14\n",
      "<Atom 15 (HG21) of chain 0 residue 1 (THR)> 15\n",
      "<Atom 16 (HG22) of chain 0 residue 1 (THR)> 16\n",
      "<Atom 17 (HG23) of chain 0 residue 1 (THR)> 17\n",
      "<Atom 18 (OG1) of chain 0 residue 1 (THR)> 18\n",
      "<Atom 19 (HG1) of chain 0 residue 1 (THR)> 19\n",
      "<Atom 20 (N) of chain 0 residue 2 (NME)> 20\n",
      "<Atom 21 (H) of chain 0 residue 2 (NME)> 21\n",
      "<Atom 22 (C) of chain 0 residue 2 (NME)> 22\n",
      "<Atom 23 (H1) of chain 0 residue 2 (NME)> 23\n",
      "<Atom 24 (H2) of chain 0 residue 2 (NME)> 24\n",
      "<Atom 25 (H3) of chain 0 residue 2 (NME)> 25\n"
     ]
    }
   ],
   "source": [
    "for atom in htf_ta._topology_proposal.old_topology.atoms():\n",
    "    print(atom, atom.index)"
   ]
  },
  {
   "cell_type": "code",
   "execution_count": 11,
   "metadata": {},
   "outputs": [
    {
     "name": "stdout",
     "output_type": "stream",
     "text": [
      "<Atom 0 (H1) of chain 0 residue 0 (ACE)> 0\n",
      "<Atom 1 (CH3) of chain 0 residue 0 (ACE)> 1\n",
      "<Atom 2 (H2) of chain 0 residue 0 (ACE)> 2\n",
      "<Atom 3 (H3) of chain 0 residue 0 (ACE)> 3\n",
      "<Atom 4 (C) of chain 0 residue 0 (ACE)> 4\n",
      "<Atom 5 (O) of chain 0 residue 0 (ACE)> 5\n",
      "<Atom 6 (N) of chain 0 residue 1 (ALA)> 6\n",
      "<Atom 7 (H) of chain 0 residue 1 (ALA)> 7\n",
      "<Atom 8 (CA) of chain 0 residue 1 (ALA)> 8\n",
      "<Atom 9 (HA) of chain 0 residue 1 (ALA)> 9\n",
      "<Atom 10 (CB) of chain 0 residue 1 (ALA)> 10\n",
      "<Atom 11 (C) of chain 0 residue 1 (ALA)> 11\n",
      "<Atom 12 (O) of chain 0 residue 1 (ALA)> 12\n",
      "<Atom 13 (HB1) of chain 0 residue 1 (ALA)> 13\n",
      "<Atom 14 (HB2) of chain 0 residue 1 (ALA)> 14\n",
      "<Atom 15 (HB3) of chain 0 residue 1 (ALA)> 15\n",
      "<Atom 16 (N) of chain 0 residue 2 (NME)> 16\n",
      "<Atom 17 (H) of chain 0 residue 2 (NME)> 17\n",
      "<Atom 18 (C) of chain 0 residue 2 (NME)> 18\n",
      "<Atom 19 (H1) of chain 0 residue 2 (NME)> 19\n",
      "<Atom 20 (H2) of chain 0 residue 2 (NME)> 20\n",
      "<Atom 21 (H3) of chain 0 residue 2 (NME)> 21\n"
     ]
    }
   ],
   "source": [
    "for atom in htf_ta._topology_proposal.new_topology.atoms():\n",
    "    print(atom, atom.index)"
   ]
  },
  {
   "cell_type": "code",
   "execution_count": 12,
   "metadata": {
    "scrolled": true
   },
   "outputs": [
    {
     "name": "stderr",
     "output_type": "stream",
     "text": [
      "100%|██████████| 10000/10000 [00:01<00:00, 5924.98it/s]\n"
     ]
    },
    {
     "name": "stdout",
     "output_type": "stream",
     "text": [
      "3.0743732\n",
      "228.5232312861079\n"
     ]
    },
    {
     "name": "stderr",
     "output_type": "stream",
     "text": [
      "INFO:root:Rotating by -6.021185302286687 radians\n",
      "INFO:root:Rotating by 0.26200000000000356 radians\n"
     ]
    },
    {
     "name": "stdout",
     "output_type": "stream",
     "text": [
      "143.6509004980719\n"
     ]
    },
    {
     "name": "stderr",
     "output_type": "stream",
     "text": [
      "INFO:root:Rotating by 0.2619999999999969 radians\n"
     ]
    },
    {
     "name": "stdout",
     "output_type": "stream",
     "text": [
      "112.2236426387638\n"
     ]
    },
    {
     "name": "stderr",
     "output_type": "stream",
     "text": [
      "INFO:root:Rotating by 0.26199999999999735 radians\n"
     ]
    },
    {
     "name": "stdout",
     "output_type": "stream",
     "text": [
      "74.4535349499387\n"
     ]
    },
    {
     "name": "stderr",
     "output_type": "stream",
     "text": [
      "INFO:root:Rotating by 0.26199999999999735 radians\n"
     ]
    },
    {
     "name": "stdout",
     "output_type": "stream",
     "text": [
      "52.25268991807952\n"
     ]
    },
    {
     "name": "stderr",
     "output_type": "stream",
     "text": [
      "INFO:root:Rotating by 0.2620000000000009 radians\n"
     ]
    },
    {
     "name": "stdout",
     "output_type": "stream",
     "text": [
      "37.24448751805868\n"
     ]
    },
    {
     "name": "stderr",
     "output_type": "stream",
     "text": [
      "INFO:root:Rotating by 0.26200000000000156 radians\n"
     ]
    },
    {
     "name": "stdout",
     "output_type": "stream",
     "text": [
      "22.332008497190344\n"
     ]
    },
    {
     "name": "stderr",
     "output_type": "stream",
     "text": [
      "INFO:root:Rotating by 0.2620000000000047 radians\n"
     ]
    },
    {
     "name": "stdout",
     "output_type": "stream",
     "text": [
      "20.388936464752476\n"
     ]
    },
    {
     "name": "stderr",
     "output_type": "stream",
     "text": [
      "INFO:root:Rotating by 0.26199999999999846 radians\n"
     ]
    },
    {
     "name": "stdout",
     "output_type": "stream",
     "text": [
      "21.453207951605748\n"
     ]
    },
    {
     "name": "stderr",
     "output_type": "stream",
     "text": [
      "INFO:root:Rotating by 0.2620000000000027 radians\n"
     ]
    },
    {
     "name": "stdout",
     "output_type": "stream",
     "text": [
      "43.51108078330837\n"
     ]
    },
    {
     "name": "stderr",
     "output_type": "stream",
     "text": [
      "INFO:root:Rotating by 0.26200000000000234 radians\n"
     ]
    },
    {
     "name": "stdout",
     "output_type": "stream",
     "text": [
      "44.54869700582102\n"
     ]
    },
    {
     "name": "stderr",
     "output_type": "stream",
     "text": [
      "INFO:root:Rotating by 0.2620000000000036 radians\n"
     ]
    },
    {
     "name": "stdout",
     "output_type": "stream",
     "text": [
      "50.06603202938214\n"
     ]
    },
    {
     "name": "stderr",
     "output_type": "stream",
     "text": [
      "INFO:root:Rotating by 0.2620000000000002 radians\n"
     ]
    },
    {
     "name": "stdout",
     "output_type": "stream",
     "text": [
      "54.718285423986394\n"
     ]
    },
    {
     "name": "stderr",
     "output_type": "stream",
     "text": [
      "INFO:root:Rotating by 0.262 radians\n"
     ]
    },
    {
     "name": "stdout",
     "output_type": "stream",
     "text": [
      "42.962579211058475\n"
     ]
    },
    {
     "name": "stderr",
     "output_type": "stream",
     "text": [
      "INFO:root:Rotating by 0.26200000000000245 radians\n"
     ]
    },
    {
     "name": "stdout",
     "output_type": "stream",
     "text": [
      "45.169427278130584\n"
     ]
    },
    {
     "name": "stderr",
     "output_type": "stream",
     "text": [
      "INFO:root:Rotating by 0.2619999999999981 radians\n"
     ]
    },
    {
     "name": "stdout",
     "output_type": "stream",
     "text": [
      "36.0628675116086\n"
     ]
    },
    {
     "name": "stderr",
     "output_type": "stream",
     "text": [
      "INFO:root:Rotating by 0.26200000000000323 radians\n"
     ]
    },
    {
     "name": "stdout",
     "output_type": "stream",
     "text": [
      "27.749744429635903\n"
     ]
    },
    {
     "name": "stderr",
     "output_type": "stream",
     "text": [
      "INFO:root:Rotating by 0.26199999999999957 radians\n"
     ]
    },
    {
     "name": "stdout",
     "output_type": "stream",
     "text": [
      "33.272111606365705\n"
     ]
    },
    {
     "name": "stderr",
     "output_type": "stream",
     "text": [
      "INFO:root:Rotating by 0.2620000000000007 radians\n"
     ]
    },
    {
     "name": "stdout",
     "output_type": "stream",
     "text": [
      "32.18979344150808\n"
     ]
    },
    {
     "name": "stderr",
     "output_type": "stream",
     "text": [
      "INFO:root:Rotating by 0.26199999999999646 radians\n"
     ]
    },
    {
     "name": "stdout",
     "output_type": "stream",
     "text": [
      "37.409170467181255\n"
     ]
    },
    {
     "name": "stderr",
     "output_type": "stream",
     "text": [
      "INFO:root:Rotating by 0.26200000000000045 radians\n"
     ]
    },
    {
     "name": "stdout",
     "output_type": "stream",
     "text": [
      "43.58633796461304\n"
     ]
    },
    {
     "name": "stderr",
     "output_type": "stream",
     "text": [
      "INFO:root:Rotating by 0.2620000000000027 radians\n"
     ]
    },
    {
     "name": "stdout",
     "output_type": "stream",
     "text": [
      "43.203517049448436\n"
     ]
    },
    {
     "name": "stderr",
     "output_type": "stream",
     "text": [
      "INFO:root:Rotating by 0.2619999999999969 radians\n"
     ]
    },
    {
     "name": "stdout",
     "output_type": "stream",
     "text": [
      "45.8218335675798\n"
     ]
    },
    {
     "name": "stderr",
     "output_type": "stream",
     "text": [
      "INFO:root:Rotating by 0.2619999999999987 radians\n"
     ]
    },
    {
     "name": "stdout",
     "output_type": "stream",
     "text": [
      "35.5890782068752\n"
     ]
    },
    {
     "name": "stderr",
     "output_type": "stream",
     "text": [
      "INFO:root:Rotating by -6.0211853071795876 radians\n"
     ]
    },
    {
     "name": "stdout",
     "output_type": "stream",
     "text": [
      "41.03597137648734\n",
      "raw d: {-2.9468120619403284: (172.97210720380687, 16.627685551373908), -2.6848120619403284: (119.95306486404372, 4.938815988514874), -2.4228120619403284: (88.6896481504911, 8.86199625895688), -2.1608120619403284: (59.472823384040105, 3.6138851918492114), -1.8988120619403284: (40.24752277770179, 2.3944520529776545), -1.6368120619403284: (23.734266059473992, 3.902744534753011), -1.3748120619403283: (23.858676405432437, 1.84562555322365), -1.1128120619403283: (22.266493067964053, 1.6236466710860251), -0.8508120619403283: (37.81338215502385, 6.363504524956488), -0.5888120619403283: (46.74449295723294, 1.2964977739885617), -0.3268120619403283: (49.629429559043736, 4.546499972737642), -0.06481206194032829: (47.85864271563238, 3.7132769994846266), 0.19718793805967172: (41.94687218488635, 0.5079754844357861), 0.45918793805967173: (38.00602415241982, 4.314023593132835), 0.7211879380596717: (32.842256026540326, 4.393179401861617), 0.9831879380596718: (34.44371395279001, 3.8222458126271963), 1.2451879380596718: (30.76357233476186, 1.5154807986991115), 1.5071879380596718: (33.463855133028936, 0.735968748071326), 1.7691879380596718: (41.9070961042978, 3.7080845380505196), 2.031187938059672: (40.77307794168002, 2.2095895898032403), 2.293187938059672: (43.396000717837865, 0.40158021765582685), 2.555187938059672: (45.769161289167435, 0.09598185533945384), 2.817187938059672: (32.30357547704791, 3.8406027594214565), 3.079187938059672: (34.55815326941064, 4.467230691866111), -2.9419973691199144: (26.89722829448166, 1.185632283489177)}\n",
      "min: 22.266493067964053\n",
      "d corrected: {-2.9468120619403284: (150.7056141358428, 16.627685551373908), -2.6848120619403284: (97.68657179607968, 4.938815988514874), -2.4228120619403284: (66.42315508252705, 8.86199625895688), -2.1608120619403284: (37.20633031607605, 3.6138851918492114), -1.8988120619403284: (17.981029709737737, 2.3944520529776545), -1.6368120619403284: (1.4677729915099391, 3.902744534753011), -1.3748120619403283: (1.5921833374683843, 1.84562555322365), -1.1128120619403283: (0.0, 1.6236466710860251), -0.8508120619403283: (15.5468890870598, 6.363504524956488), -0.5888120619403283: (24.47799988926889, 1.2964977739885617), -0.3268120619403283: (27.362936491079683, 4.546499972737642), -0.06481206194032829: (25.592149647668325, 3.7132769994846266), 0.19718793805967172: (19.6803791169223, 0.5079754844357861), 0.45918793805967173: (15.739531084455766, 4.314023593132835), 0.7211879380596717: (10.575762958576274, 4.393179401861617), 0.9831879380596718: (12.17722088482596, 3.8222458126271963), 1.2451879380596718: (8.497079266797808, 1.5154807986991115), 1.5071879380596718: (11.197362065064883, 0.735968748071326), 1.7691879380596718: (19.640603036333747, 3.7080845380505196), 2.031187938059672: (18.50658487371597, 2.2095895898032403), 2.293187938059672: (21.129507649873812, 0.40158021765582685), 2.555187938059672: (23.502668221203383, 0.09598185533945384), 2.817187938059672: (10.037082409083855, 3.8406027594214565), 3.079187938059672: (12.291660201446586, 4.467230691866111), -2.9419973691199144: (4.630735226517608, 1.185632283489177)}\n"
     ]
    },
    {
     "data": {
      "image/png": "[encoded data removed]",
      "text/plain": [
       "<Figure size 432x288 with 1 Axes>"
      ]
     },
     "metadata": {
      "needs_background": "light"
     },
     "output_type": "display_data"
    }
   ],
   "source": [
    "# THR->ALA -- THR at lambda = 0\n",
    "run_torsion_scan(htf_ta_0t, 0, True, [6, 8, 10, 18], [6, 8, 10, 18], [13, 14, 15, 16, 17, 19])"
   ]
  },
  {
   "cell_type": "code",
   "execution_count": 13,
   "metadata": {
    "scrolled": true
   },
   "outputs": [
    {
     "name": "stderr",
     "output_type": "stream",
     "text": [
      "100%|██████████| 10000/10000 [00:01<00:00, 6114.71it/s]\n"
     ]
    },
    {
     "name": "stdout",
     "output_type": "stream",
     "text": [
      "0.4997126\n",
      "29.201919528040897\n"
     ]
    },
    {
     "name": "stderr",
     "output_type": "stream",
     "text": [
      "INFO:root:Rotating by 0.2620000790851189 radians\n",
      "INFO:root:Rotating by 0.2619999999999961 radians\n"
     ]
    },
    {
     "name": "stdout",
     "output_type": "stream",
     "text": [
      "30.160492890580787\n"
     ]
    },
    {
     "name": "stderr",
     "output_type": "stream",
     "text": [
      "INFO:root:Rotating by 0.2619999999999951 radians\n"
     ]
    },
    {
     "name": "stdout",
     "output_type": "stream",
     "text": [
      "6.677119748931806\n"
     ]
    },
    {
     "name": "stderr",
     "output_type": "stream",
     "text": [
      "INFO:root:Rotating by 0.2620000000000031 radians\n"
     ]
    },
    {
     "name": "stdout",
     "output_type": "stream",
     "text": [
      "27.869149601594007\n"
     ]
    },
    {
     "name": "stderr",
     "output_type": "stream",
     "text": [
      "INFO:root:Rotating by 0.26200000000000023 radians\n"
     ]
    },
    {
     "name": "stdout",
     "output_type": "stream",
     "text": [
      "25.457963901743955\n"
     ]
    },
    {
     "name": "stderr",
     "output_type": "stream",
     "text": [
      "INFO:root:Rotating by 0.26199999999999424 radians\n"
     ]
    },
    {
     "name": "stdout",
     "output_type": "stream",
     "text": [
      "29.66592640396482\n"
     ]
    },
    {
     "name": "stderr",
     "output_type": "stream",
     "text": [
      "INFO:root:Rotating by 0.26200000000000623 radians\n"
     ]
    },
    {
     "name": "stdout",
     "output_type": "stream",
     "text": [
      "30.079244267579632\n"
     ]
    },
    {
     "name": "stderr",
     "output_type": "stream",
     "text": [
      "INFO:root:Rotating by 0.2620000000000031 radians\n"
     ]
    },
    {
     "name": "stdout",
     "output_type": "stream",
     "text": [
      "13.507919710643261\n"
     ]
    },
    {
     "name": "stderr",
     "output_type": "stream",
     "text": [
      "INFO:root:Rotating by 0.26200000000000223 radians\n"
     ]
    },
    {
     "name": "stdout",
     "output_type": "stream",
     "text": [
      "33.33691565028987\n"
     ]
    },
    {
     "name": "stderr",
     "output_type": "stream",
     "text": [
      "INFO:root:Rotating by 0.26200000000000045 radians\n"
     ]
    },
    {
     "name": "stdout",
     "output_type": "stream",
     "text": [
      "22.468735523979834\n"
     ]
    },
    {
     "name": "stderr",
     "output_type": "stream",
     "text": [
      "INFO:root:Rotating by -6.021185307179591 radians\n"
     ]
    },
    {
     "name": "stdout",
     "output_type": "stream",
     "text": [
      "28.00191127739869\n"
     ]
    },
    {
     "name": "stderr",
     "output_type": "stream",
     "text": [
      "INFO:root:Rotating by 0.2620000000000018 radians\n"
     ]
    },
    {
     "name": "stdout",
     "output_type": "stream",
     "text": [
      "36.34835564310963\n"
     ]
    },
    {
     "name": "stderr",
     "output_type": "stream",
     "text": [
      "INFO:root:Rotating by 0.262 radians\n"
     ]
    },
    {
     "name": "stdout",
     "output_type": "stream",
     "text": [
      "24.065928212595185\n"
     ]
    },
    {
     "name": "stderr",
     "output_type": "stream",
     "text": [
      "INFO:root:Rotating by 0.26199999999999957 radians\n"
     ]
    },
    {
     "name": "stdout",
     "output_type": "stream",
     "text": [
      "36.348299946528414\n"
     ]
    },
    {
     "name": "stderr",
     "output_type": "stream",
     "text": [
      "INFO:root:Rotating by 0.262 radians\n"
     ]
    },
    {
     "name": "stdout",
     "output_type": "stream",
     "text": [
      "18.548544238369928\n"
     ]
    },
    {
     "name": "stderr",
     "output_type": "stream",
     "text": [
      "INFO:root:Rotating by 0.26200000000000734 radians\n"
     ]
    },
    {
     "name": "stdout",
     "output_type": "stream",
     "text": [
      "35.66358210324139\n"
     ]
    },
    {
     "name": "stderr",
     "output_type": "stream",
     "text": [
      "INFO:root:Rotating by 0.26200000000000223 radians\n"
     ]
    },
    {
     "name": "stdout",
     "output_type": "stream",
     "text": [
      "18.437015815210273\n"
     ]
    },
    {
     "name": "stderr",
     "output_type": "stream",
     "text": [
      "INFO:root:Rotating by 0.26200000000000045 radians\n"
     ]
    },
    {
     "name": "stdout",
     "output_type": "stream",
     "text": [
      "19.4931734686267\n"
     ]
    },
    {
     "name": "stderr",
     "output_type": "stream",
     "text": [
      "INFO:root:Rotating by 0.26200000000000134 radians\n"
     ]
    },
    {
     "name": "stdout",
     "output_type": "stream",
     "text": [
      "17.130035435129013\n"
     ]
    },
    {
     "name": "stderr",
     "output_type": "stream",
     "text": [
      "INFO:root:Rotating by 0.26199999999999857 radians\n"
     ]
    },
    {
     "name": "stdout",
     "output_type": "stream",
     "text": [
      "29.281124466610112\n"
     ]
    },
    {
     "name": "stderr",
     "output_type": "stream",
     "text": [
      "INFO:root:Rotating by 0.2619999999999951 radians\n"
     ]
    },
    {
     "name": "stdout",
     "output_type": "stream",
     "text": [
      "20.82730716728917\n"
     ]
    },
    {
     "name": "stderr",
     "output_type": "stream",
     "text": [
      "INFO:root:Rotating by 0.26200000000000045 radians\n"
     ]
    },
    {
     "name": "stdout",
     "output_type": "stream",
     "text": [
      "23.94684167901327\n"
     ]
    },
    {
     "name": "stderr",
     "output_type": "stream",
     "text": [
      "INFO:root:Rotating by 0.2619999999999957 radians\n"
     ]
    },
    {
     "name": "stdout",
     "output_type": "stream",
     "text": [
      "22.66683088527173\n"
     ]
    },
    {
     "name": "stderr",
     "output_type": "stream",
     "text": [
      "INFO:root:Rotating by 0.2620000000000027 radians\n"
     ]
    },
    {
     "name": "stdout",
     "output_type": "stream",
     "text": [
      "28.09464423284087\n"
     ]
    },
    {
     "name": "stderr",
     "output_type": "stream",
     "text": [
      "INFO:root:Rotating by 0.261999999999997 radians\n"
     ]
    },
    {
     "name": "stdout",
     "output_type": "stream",
     "text": [
      "29.167797357392313\n",
      "raw d: {0.7617125864028931: (28.06467530073935, 1.6578628550626182), 1.023712586402893: (1.4293074133949268, 2.6275243699835706), 1.285712586402893: (25.64709689808622, 1.2893402763720252), 1.547712586402893: (26.095455897341935, 1.7834378778094677), 1.8097125864028931: (30.231141963684006, 4.06466388803499), 2.071712586402893: (32.82351024314565, 2.924447744008024), 2.333712586402893: (13.517853663851715, 5.136851297270581), 2.595712586402893: (30.364841826314336, 2.350223967547781), 2.857712586402893: (25.434828217063696, 3.070670631630963), 3.119712586402893: (28.337217885443966, 0.41227198736104015), -2.901472720776693: (27.571469217281685, 4.815314778022712), -2.639472720776693: (27.372390031921068, 1.8234948504652257), -2.377472720776693: (26.36073811107725, 4.994990137917917), -2.115472720776693: (26.812218909333776, 4.259456493315013), -1.853472720776693: (25.812502778816064, 5.064610329781332), -1.591472720776693: (24.080810801217183, 2.8242300706294245), -1.329472720776693: (23.854225820108734, 2.438201420057387), -1.067472720776693: (20.026518893832648, 1.5229279046000206), -0.805472720776693: (26.618970339827996, 1.3546777350837336), -0.543472720776693: (24.137820685824412, 4.233803544353326), -0.28147272077669294: (23.773570173533667, 0.5155654775956903), -0.01947272077669293: (31.19214570941305, 8.192871639012612), 0.24252727922330708: (26.11385926437931, 1.0316859796144617), 0.5045272792233071: (24.43557639780954, 2.5275423250418503), 0.7665272792233071: (27.549787977466224, 4.2185692677867435)}\n",
      "min: 1.4293074133949268\n",
      "d corrected: {0.7617125864028931: (26.635367887344422, 1.6578628550626182), 1.023712586402893: (0.0, 2.6275243699835706), 1.285712586402893: (24.217789484691295, 1.2893402763720252), 1.547712586402893: (24.66614848394701, 1.7834378778094677), 1.8097125864028931: (28.80183455028908, 4.06466388803499), 2.071712586402893: (31.39420282975072, 2.924447744008024), 2.333712586402893: (12.088546250456789, 5.136851297270581), 2.595712586402893: (28.93553441291941, 2.350223967547781), 2.857712586402893: (24.00552080366877, 3.070670631630963), 3.119712586402893: (26.90791047204904, 0.41227198736104015), -2.901472720776693: (26.142161803886758, 4.815314778022712), -2.639472720776693: (25.94308261852614, 1.8234948504652257), -2.377472720776693: (24.931430697682323, 4.994990137917917), -2.115472720776693: (25.38291149593885, 4.259456493315013), -1.853472720776693: (24.383195365421138, 5.064610329781332), -1.591472720776693: (22.651503387822256, 2.8242300706294245), -1.329472720776693: (22.424918406713807, 2.438201420057387), -1.067472720776693: (18.59721148043772, 1.5229279046000206), -0.805472720776693: (25.18966292643307, 1.3546777350837336), -0.543472720776693: (22.708513272429485, 4.233803544353326), -0.28147272077669294: (22.34426276013874, 0.5155654775956903), -0.01947272077669293: (29.762838296018124, 8.192871639012612), 0.24252727922330708: (24.684551850984384, 1.0316859796144617), 0.5045272792233071: (23.006268984414614, 2.5275423250418503), 0.7665272792233071: (26.120480564071297, 4.2185692677867435)}\n"
     ]
    },
    {
     "data": {
      "image/png": "[encoded data removed]",
      "text/plain": [
       "<Figure size 432x288 with 1 Axes>"
      ]
     },
     "metadata": {
      "needs_background": "light"
     },
     "output_type": "display_data"
    }
   ],
   "source": [
    "# THR->ALA -- ALA at lambda = 0\n",
    "run_torsion_scan(htf_ta_0a, 0, False, [6, 8, 26, 27], [6, 8, 10, 13], [28, 29])"
   ]
  },
  {
   "cell_type": "code",
   "execution_count": 14,
   "metadata": {
    "scrolled": true
   },
   "outputs": [
    {
     "name": "stderr",
     "output_type": "stream",
     "text": [
      "100%|██████████| 10000/10000 [00:01<00:00, 5905.03it/s]\n",
      "INFO:root:Rotating by 0.2620000790851189 radians\n"
     ]
    },
    {
     "name": "stdout",
     "output_type": "stream",
     "text": [
      "0.4997126\n",
      "-61.61593857003877\n"
     ]
    },
    {
     "name": "stderr",
     "output_type": "stream",
     "text": [
      "INFO:root:Rotating by 0.2619999999999961 radians\n"
     ]
    },
    {
     "name": "stdout",
     "output_type": "stream",
     "text": [
      "-50.09505282326955\n"
     ]
    },
    {
     "name": "stderr",
     "output_type": "stream",
     "text": [
      "INFO:root:Rotating by 0.2619999999999951 radians\n"
     ]
    },
    {
     "name": "stdout",
     "output_type": "stream",
     "text": [
      "-62.70278495346218\n"
     ]
    },
    {
     "name": "stderr",
     "output_type": "stream",
     "text": [
      "INFO:root:Rotating by 0.2620000000000031 radians\n"
     ]
    },
    {
     "name": "stdout",
     "output_type": "stream",
     "text": [
      "-55.82734340128105\n"
     ]
    },
    {
     "name": "stderr",
     "output_type": "stream",
     "text": [
      "INFO:root:Rotating by 0.26200000000000023 radians\n"
     ]
    },
    {
     "name": "stdout",
     "output_type": "stream",
     "text": [
      "-58.840838343277824\n"
     ]
    },
    {
     "name": "stderr",
     "output_type": "stream",
     "text": [
      "INFO:root:Rotating by 0.26199999999999424 radians\n"
     ]
    },
    {
     "name": "stdout",
     "output_type": "stream",
     "text": [
      "-75.46705598357795\n"
     ]
    },
    {
     "name": "stderr",
     "output_type": "stream",
     "text": [
      "INFO:root:Rotating by 0.26200000000000623 radians\n"
     ]
    },
    {
     "name": "stdout",
     "output_type": "stream",
     "text": [
      "-49.90003731668313\n"
     ]
    },
    {
     "name": "stderr",
     "output_type": "stream",
     "text": [
      "INFO:root:Rotating by 0.2620000000000031 radians\n"
     ]
    },
    {
     "name": "stdout",
     "output_type": "stream",
     "text": [
      "-50.32892286348034\n"
     ]
    },
    {
     "name": "stderr",
     "output_type": "stream",
     "text": [
      "INFO:root:Rotating by 0.26200000000000223 radians\n"
     ]
    },
    {
     "name": "stdout",
     "output_type": "stream",
     "text": [
      "-44.50565427490771\n"
     ]
    },
    {
     "name": "stderr",
     "output_type": "stream",
     "text": [
      "INFO:root:Rotating by 0.26200000000000045 radians\n"
     ]
    },
    {
     "name": "stdout",
     "output_type": "stream",
     "text": [
      "-47.06653365606498\n"
     ]
    },
    {
     "name": "stderr",
     "output_type": "stream",
     "text": [
      "INFO:root:Rotating by -6.021185307179591 radians\n"
     ]
    },
    {
     "name": "stdout",
     "output_type": "stream",
     "text": [
      "-50.39504443936105\n"
     ]
    },
    {
     "name": "stderr",
     "output_type": "stream",
     "text": [
      "INFO:root:Rotating by 0.2620000000000018 radians\n"
     ]
    },
    {
     "name": "stdout",
     "output_type": "stream",
     "text": [
      "-49.8369774585201\n"
     ]
    },
    {
     "name": "stderr",
     "output_type": "stream",
     "text": [
      "INFO:root:Rotating by 0.262 radians\n"
     ]
    },
    {
     "name": "stdout",
     "output_type": "stream",
     "text": [
      "-52.35360007001132\n"
     ]
    },
    {
     "name": "stderr",
     "output_type": "stream",
     "text": [
      "INFO:root:Rotating by 0.26199999999999957 radians\n"
     ]
    },
    {
     "name": "stdout",
     "output_type": "stream",
     "text": [
      "-51.34362497983793\n"
     ]
    },
    {
     "name": "stderr",
     "output_type": "stream",
     "text": [
      "INFO:root:Rotating by 0.262 radians\n"
     ]
    },
    {
     "name": "stdout",
     "output_type": "stream",
     "text": [
      "-50.777050842996914\n"
     ]
    },
    {
     "name": "stderr",
     "output_type": "stream",
     "text": [
      "INFO:root:Rotating by 0.26200000000000734 radians\n"
     ]
    },
    {
     "name": "stdout",
     "output_type": "stream",
     "text": [
      "-57.99036691254626\n"
     ]
    },
    {
     "name": "stderr",
     "output_type": "stream",
     "text": [
      "INFO:root:Rotating by 0.26200000000000223 radians\n"
     ]
    },
    {
     "name": "stdout",
     "output_type": "stream",
     "text": [
      "-51.78148038802474\n"
     ]
    },
    {
     "name": "stderr",
     "output_type": "stream",
     "text": [
      "INFO:root:Rotating by 0.26200000000000045 radians\n"
     ]
    },
    {
     "name": "stdout",
     "output_type": "stream",
     "text": [
      "-43.61238762520589\n"
     ]
    },
    {
     "name": "stderr",
     "output_type": "stream",
     "text": [
      "INFO:root:Rotating by 0.26200000000000134 radians\n"
     ]
    },
    {
     "name": "stdout",
     "output_type": "stream",
     "text": [
      "-47.78549194789263\n"
     ]
    },
    {
     "name": "stderr",
     "output_type": "stream",
     "text": [
      "INFO:root:Rotating by 0.26199999999999857 radians\n"
     ]
    },
    {
     "name": "stdout",
     "output_type": "stream",
     "text": [
      "-64.50689927800859\n"
     ]
    },
    {
     "name": "stderr",
     "output_type": "stream",
     "text": [
      "INFO:root:Rotating by 0.2619999999999951 radians\n"
     ]
    },
    {
     "name": "stdout",
     "output_type": "stream",
     "text": [
      "-49.804589376329446\n"
     ]
    },
    {
     "name": "stderr",
     "output_type": "stream",
     "text": [
      "INFO:root:Rotating by 0.26200000000000045 radians\n"
     ]
    },
    {
     "name": "stdout",
     "output_type": "stream",
     "text": [
      "-65.12237365524315\n"
     ]
    },
    {
     "name": "stderr",
     "output_type": "stream",
     "text": [
      "INFO:root:Rotating by 0.2619999999999957 radians\n"
     ]
    },
    {
     "name": "stdout",
     "output_type": "stream",
     "text": [
      "-49.93979313834749\n"
     ]
    },
    {
     "name": "stderr",
     "output_type": "stream",
     "text": [
      "INFO:root:Rotating by 0.2620000000000027 radians\n"
     ]
    },
    {
     "name": "stdout",
     "output_type": "stream",
     "text": [
      "-55.62963513256059\n"
     ]
    },
    {
     "name": "stderr",
     "output_type": "stream",
     "text": [
      "INFO:root:Rotating by 0.261999999999997 radians\n"
     ]
    },
    {
     "name": "stdout",
     "output_type": "stream",
     "text": [
      "-43.66434906932548\n",
      "raw d: {0.7617125864028931: (-55.461934997942514, 2.7333146393633574), 1.023712586402893: (-56.81738412795669, 4.142133515122015), 1.285712586402893: (-55.204357504180706, 2.849223822149979), 1.547712586402893: (-57.26748991241586, 1.6270892533194605), 1.8097125864028931: (-63.48255418110805, 5.999463626030146), 2.071712586402893: (-49.59414786367878, 4.509195548528732), 2.333712586402893: (-49.36756509632625, 3.6602349208095353), 2.595712586402893: (-47.03101806695582, 1.6259737310503797), 2.857712586402893: (-52.070746895858896, 3.2439417669663015), 3.119712586402893: (-54.37971032667477, 3.224336728966488), -2.901472720776693: (-53.04139465928093, 1.740067262473874), -2.639472720776693: (-50.064022580806245, 1.729725703643662), -2.377472720776693: (-49.611439042489955, 0.8663905226038294), -2.115472720776693: (-49.600514909383776, 0.6315876073484178), -1.853472720776693: (-54.106933238086405, 2.666205535148488), -1.591472720776693: (-49.53105171209899, 2.9736051095571434), -1.329472720776693: (-53.75181321489444, 5.4026655360936005), -1.067472720776693: (-50.50545580160095, 1.3862313233225507), -0.805472720776693: (-59.56730593700335, 4.251151801417166), -0.543472720776693: (-49.34244134806334, 1.6539424144522703), -0.28147272077669294: (-73.87230052128454, 4.4412275954760725), -0.01947272077669293: (-69.69420958046759, 9.923044108098555), 0.24252727922330708: (-52.31330295995971, 2.166305783679131), 0.5045272792233071: (-48.700827519967454, 3.974861898642658), 0.7665272792233071: (-50.80617912541299, 1.9640945018728437)}\n",
      "min: -73.87230052128454\n",
      "d corrected: {0.7617125864028931: (18.41036552334203, 2.7333146393633574), 1.023712586402893: (17.05491639332785, 4.142133515122015), 1.285712586402893: (18.667943017103838, 2.849223822149979), 1.547712586402893: (16.604810608868682, 1.6270892533194605), 1.8097125864028931: (10.389746340176494, 5.999463626030146), 2.071712586402893: (24.278152657605766, 4.509195548528732), 2.333712586402893: (24.50473542495829, 3.6602349208095353), 2.595712586402893: (26.84128245432872, 1.6259737310503797), 2.857712586402893: (21.801553625425647, 3.2439417669663015), 3.119712586402893: (19.492590194609775, 3.224336728966488), -2.901472720776693: (20.83090586200361, 1.740067262473874), -2.639472720776693: (23.8082779404783, 1.729725703643662), -2.377472720776693: (24.260861478794588, 0.8663905226038294), -2.115472720776693: (24.271785611900768, 0.6315876073484178), -1.853472720776693: (19.765367283198138, 2.666205535148488), -1.591472720776693: (24.34124880918555, 2.9736051095571434), -1.329472720776693: (20.120487306390103, 5.4026655360936005), -1.067472720776693: (23.36684471968359, 1.3862313233225507), -0.805472720776693: (14.304994584281197, 4.251151801417166), -0.543472720776693: (24.529859173221205, 1.6539424144522703), -0.28147272077669294: (0.0, 4.4412275954760725), -0.01947272077669293: (4.178090940816958, 9.923044108098555), 0.24252727922330708: (21.558997561324837, 2.166305783679131), 0.5045272792233071: (25.17147300131709, 3.974861898642658), 0.7665272792233071: (23.066121395871555, 1.9640945018728437)}\n"
     ]
    },
    {
     "data": {
      "image/png": "[encoded data removed]",
      "text/plain": [
       "<Figure size 432x288 with 1 Axes>"
      ]
     },
     "metadata": {
      "needs_background": "light"
     },
     "output_type": "display_data"
    }
   ],
   "source": [
    "# THR->ALA -- ALA at lambda = 1\n",
    "run_torsion_scan(htf_ta_1a, 1, False,  [6, 8, 26, 27], [6, 8, 10, 13], [28, 29])"
   ]
  },
  {
   "cell_type": "code",
   "execution_count": 15,
   "metadata": {
    "scrolled": true
   },
   "outputs": [
    {
     "name": "stderr",
     "output_type": "stream",
     "text": [
      "100%|██████████| 10000/10000 [00:01<00:00, 5350.11it/s]\n",
      "INFO:root:Rotating by -6.021185302286687 radians\n"
     ]
    },
    {
     "name": "stdout",
     "output_type": "stream",
     "text": [
      "3.0743732\n",
      "-72.65724561555747\n"
     ]
    },
    {
     "name": "stderr",
     "output_type": "stream",
     "text": [
      "INFO:root:Rotating by 0.26200000000000356 radians\n"
     ]
    },
    {
     "name": "stdout",
     "output_type": "stream",
     "text": [
      "-79.53389831577587\n"
     ]
    },
    {
     "name": "stderr",
     "output_type": "stream",
     "text": [
      "INFO:root:Rotating by 0.2619999999999969 radians\n"
     ]
    },
    {
     "name": "stdout",
     "output_type": "stream",
     "text": [
      "-52.68915634302127\n"
     ]
    },
    {
     "name": "stderr",
     "output_type": "stream",
     "text": [
      "INFO:root:Rotating by 0.26199999999999735 radians\n"
     ]
    },
    {
     "name": "stdout",
     "output_type": "stream",
     "text": [
      "-44.390040816707014\n"
     ]
    },
    {
     "name": "stderr",
     "output_type": "stream",
     "text": [
      "INFO:root:Rotating by 0.26199999999999735 radians\n"
     ]
    },
    {
     "name": "stdout",
     "output_type": "stream",
     "text": [
      "-50.012057826617806\n"
     ]
    },
    {
     "name": "stderr",
     "output_type": "stream",
     "text": [
      "INFO:root:Rotating by 0.2620000000000009 radians\n"
     ]
    },
    {
     "name": "stdout",
     "output_type": "stream",
     "text": [
      "-48.36537174778857\n"
     ]
    },
    {
     "name": "stderr",
     "output_type": "stream",
     "text": [
      "INFO:root:Rotating by 0.26200000000000156 radians\n"
     ]
    },
    {
     "name": "stdout",
     "output_type": "stream",
     "text": [
      "-38.793046047482974\n"
     ]
    },
    {
     "name": "stderr",
     "output_type": "stream",
     "text": [
      "INFO:root:Rotating by 0.2620000000000047 radians\n"
     ]
    },
    {
     "name": "stdout",
     "output_type": "stream",
     "text": [
      "-30.18444274651265\n"
     ]
    },
    {
     "name": "stderr",
     "output_type": "stream",
     "text": [
      "INFO:root:Rotating by 0.26199999999999846 radians\n"
     ]
    },
    {
     "name": "stdout",
     "output_type": "stream",
     "text": [
      "-33.35103847822321\n"
     ]
    },
    {
     "name": "stderr",
     "output_type": "stream",
     "text": [
      "INFO:root:Rotating by 0.2620000000000027 radians\n"
     ]
    },
    {
     "name": "stdout",
     "output_type": "stream",
     "text": [
      "-15.80732970446597\n"
     ]
    },
    {
     "name": "stderr",
     "output_type": "stream",
     "text": [
      "INFO:root:Rotating by 0.26200000000000234 radians\n"
     ]
    },
    {
     "name": "stdout",
     "output_type": "stream",
     "text": [
      "-19.170990230149553\n"
     ]
    },
    {
     "name": "stderr",
     "output_type": "stream",
     "text": [
      "INFO:root:Rotating by 0.2620000000000036 radians\n"
     ]
    },
    {
     "name": "stdout",
     "output_type": "stream",
     "text": [
      "-23.99753526215475\n"
     ]
    },
    {
     "name": "stderr",
     "output_type": "stream",
     "text": [
      "INFO:root:Rotating by 0.2620000000000002 radians\n"
     ]
    },
    {
     "name": "stdout",
     "output_type": "stream",
     "text": [
      "-18.08683220720054\n"
     ]
    },
    {
     "name": "stderr",
     "output_type": "stream",
     "text": [
      "INFO:root:Rotating by 0.262 radians\n"
     ]
    },
    {
     "name": "stdout",
     "output_type": "stream",
     "text": [
      "-18.890387955958825\n"
     ]
    },
    {
     "name": "stderr",
     "output_type": "stream",
     "text": [
      "INFO:root:Rotating by 0.26200000000000245 radians\n"
     ]
    },
    {
     "name": "stdout",
     "output_type": "stream",
     "text": [
      "-29.567450818159475\n"
     ]
    },
    {
     "name": "stderr",
     "output_type": "stream",
     "text": [
      "INFO:root:Rotating by 0.2619999999999981 radians\n"
     ]
    },
    {
     "name": "stdout",
     "output_type": "stream",
     "text": [
      "-33.39810949157068\n"
     ]
    },
    {
     "name": "stderr",
     "output_type": "stream",
     "text": [
      "INFO:root:Rotating by 0.26200000000000323 radians\n"
     ]
    },
    {
     "name": "stdout",
     "output_type": "stream",
     "text": [
      "-35.56839612185565\n"
     ]
    },
    {
     "name": "stderr",
     "output_type": "stream",
     "text": [
      "INFO:root:Rotating by 0.26199999999999957 radians\n"
     ]
    },
    {
     "name": "stdout",
     "output_type": "stream",
     "text": [
      "-37.16328602176375\n"
     ]
    },
    {
     "name": "stderr",
     "output_type": "stream",
     "text": [
      "INFO:root:Rotating by 0.2620000000000007 radians\n"
     ]
    },
    {
     "name": "stdout",
     "output_type": "stream",
     "text": [
      "-50.1165674341595\n"
     ]
    },
    {
     "name": "stderr",
     "output_type": "stream",
     "text": [
      "INFO:root:Rotating by 0.26199999999999646 radians\n"
     ]
    },
    {
     "name": "stdout",
     "output_type": "stream",
     "text": [
      "-43.8596027277465\n"
     ]
    },
    {
     "name": "stderr",
     "output_type": "stream",
     "text": [
      "INFO:root:Rotating by 0.26200000000000045 radians\n"
     ]
    },
    {
     "name": "stdout",
     "output_type": "stream",
     "text": [
      "-44.441685489875304\n"
     ]
    },
    {
     "name": "stderr",
     "output_type": "stream",
     "text": [
      "INFO:root:Rotating by 0.2620000000000027 radians\n"
     ]
    },
    {
     "name": "stdout",
     "output_type": "stream",
     "text": [
      "-53.16406357324827\n"
     ]
    },
    {
     "name": "stderr",
     "output_type": "stream",
     "text": [
      "INFO:root:Rotating by 0.2619999999999969 radians\n"
     ]
    },
    {
     "name": "stdout",
     "output_type": "stream",
     "text": [
      "-39.901312408007755\n"
     ]
    },
    {
     "name": "stderr",
     "output_type": "stream",
     "text": [
      "INFO:root:Rotating by 0.2619999999999987 radians\n"
     ]
    },
    {
     "name": "stdout",
     "output_type": "stream",
     "text": [
      "-36.910159669611055\n"
     ]
    },
    {
     "name": "stderr",
     "output_type": "stream",
     "text": [
      "INFO:root:Rotating by -6.0211853071795876 radians\n"
     ]
    },
    {
     "name": "stdout",
     "output_type": "stream",
     "text": [
      "-45.17016176429174\n",
      "raw d: {-2.9468120619403284: (-78.78069493529544, 0.8164371393500804), -2.6848120619403284: (-68.34669119856025, 7.84595226041584), -2.4228120619403284: (-42.448870313895206, 1.9895091515403482), -2.1608120619403284: (-45.716344211464445, 3.3477829780778023), -1.8988120619403284: (-40.773715571710134, 4.060861104540845), -1.6368120619403284: (-40.43408292154252, 2.3531896586489394), -1.3748120619403283: (-37.479078016578065, 3.935113842479397), -1.1128120619403283: (-33.08896445850914, 0.6240566793309319), -0.8508120619403283: (-21.872424980670317, 3.058072337204705), -0.5888120619403283: (-20.403084077465426, 2.1979570838304805), -0.3268120619403283: (-23.94530091243266, 0.6809074083473762), -0.06481206194032829: (-20.41152761904044, 1.2219674164586152), 0.19718793805967172: (-18.03609464560884, 0.4278255682808084), 0.45918793805967173: (-27.360709295218467, 1.6971956677633029), 0.7211879380596717: (-27.199498361276184, 4.0725752093851995), 0.9831879380596718: (-36.71239982282403, 0.9138305699908158), 1.2451879380596718: (-35.348167846822236, 1.1658122079544115), 1.5071879380596718: (-45.18357000379663, 3.20878478125505), 1.7691879380596718: (-42.538934448126184, 3.2680538536012116), 2.031187938059672: (-45.84129138106075, 3.5292217290510637), 2.293187938059672: (-50.15830955600725, 2.768162823452209), 2.555187938059672: (-44.42137975451511, 2.2946299423223473), 2.817187938059672: (-45.98607303321652, 4.636550754754817), 3.079187938059672: (-46.98575528671193, 2.6803252774576043), -2.9419973691199144: (-53.03954870573583, 3.0466869116888655)}\n",
      "min: -78.78069493529544\n",
      "d corrected: {-2.9468120619403284: (0.0, 0.8164371393500804), -2.6848120619403284: (10.434003736735193, 7.84595226041584), -2.4228120619403284: (36.33182462140024, 1.9895091515403482), -2.1608120619403284: (33.064350723831, 3.3477829780778023), -1.8988120619403284: (38.00697936358531, 4.060861104540845), -1.6368120619403284: (38.346612013752924, 2.3531896586489394), -1.3748120619403283: (41.30161691871738, 3.935113842479397), -1.1128120619403283: (45.691730476786304, 0.6240566793309319), -0.8508120619403283: (56.908269954625126, 3.058072337204705), -0.5888120619403283: (58.37761085783002, 2.1979570838304805), -0.3268120619403283: (54.835394022862786, 0.6809074083473762), -0.06481206194032829: (58.369167316255, 1.2219674164586152), 0.19718793805967172: (60.7446002896866, 0.4278255682808084), 0.45918793805967173: (51.41998564007697, 1.6971956677633029), 0.7211879380596717: (51.58119657401926, 4.0725752093851995), 0.9831879380596718: (42.06829511247141, 0.9138305699908158), 1.2451879380596718: (43.43252708847321, 1.1658122079544115), 1.5071879380596718: (33.59712493149881, 3.20878478125505), 1.7691879380596718: (36.24176048716926, 3.2680538536012116), 2.031187938059672: (32.939403554234694, 3.5292217290510637), 2.293187938059672: (28.622385379288197, 2.768162823452209), 2.555187938059672: (34.359315180780335, 2.2946299423223473), 2.817187938059672: (32.79462190207892, 4.636550754754817), 3.079187938059672: (31.794939648583515, 2.6803252774576043), -2.9419973691199144: (25.74114622955961, 3.0466869116888655)}\n"
     ]
    },
    {
     "data": {
      "image/png": "[encoded data removed]",
      "text/plain": [
       "<Figure size 432x288 with 1 Axes>"
      ]
     },
     "metadata": {
      "needs_background": "light"
     },
     "output_type": "display_data"
    }
   ],
   "source": [
    "# THR->ALA -- THR at lambda = 1\n",
    "run_torsion_scan(htf_ta_1t, 1, True, [6, 8, 10, 18], [6, 8, 10, 18], [13, 14, 15, 16, 17, 19])"
   ]
  },
  {
   "cell_type": "markdown",
   "metadata": {},
   "source": [
    "### Generate torsion scans for vanilla htfs with flattened torsions and 1,4s (and sidechains not mapped): ALA->THR "
   ]
  },
  {
   "cell_type": "code",
   "execution_count": 12,
   "metadata": {},
   "outputs": [],
   "source": [
    "outdir = \"/data/chodera/zhangi/perses_benchmark/neq/7/31/\"\n",
    "with open(os.path.join(outdir, \"31_vacuum.pickle\" ), \"rb\") as f:\n",
    "    htf_at = pickle.load(f)"
   ]
  },
  {
   "cell_type": "code",
   "execution_count": 13,
   "metadata": {},
   "outputs": [],
   "source": [
    "old_system = htf_at._topology_proposal.old_system\n",
    "new_system = htf_at._topology_proposal.new_system"
   ]
  },
  {
   "cell_type": "code",
   "execution_count": 14,
   "metadata": {},
   "outputs": [
    {
     "data": {
      "text/plain": [
       "{22, 23, 24, 25, 26, 27, 28, 29}"
      ]
     },
     "execution_count": 14,
     "metadata": {},
     "output_type": "execute_result"
    }
   ],
   "source": [
    "htf_at._atom_classes['unique_new_atoms']"
   ]
  },
  {
   "cell_type": "code",
   "execution_count": 15,
   "metadata": {},
   "outputs": [
    {
     "data": {
      "text/plain": [
       "{10, 11, 12, 13}"
      ]
     },
     "execution_count": 15,
     "metadata": {},
     "output_type": "execute_result"
    }
   ],
   "source": [
    "htf_at._atom_classes['unique_old_atoms']"
   ]
  },
  {
   "cell_type": "code",
   "execution_count": 16,
   "metadata": {},
   "outputs": [
    {
     "name": "stdout",
     "output_type": "stream",
     "text": [
      "0 <simtk.openmm.openmm.HarmonicBondForce; proxy of <Swig Object of type 'OpenMM::HarmonicBondForce *' at 0x2ae5be0bde10> >\n",
      "1 <simtk.openmm.openmm.HarmonicAngleForce; proxy of <Swig Object of type 'OpenMM::HarmonicAngleForce *' at 0x2ae5be0bde10> >\n",
      "2 <simtk.openmm.openmm.PeriodicTorsionForce; proxy of <Swig Object of type 'OpenMM::PeriodicTorsionForce *' at 0x2ae5be0bde10> >\n",
      "3 <simtk.openmm.openmm.NonbondedForce; proxy of <Swig Object of type 'OpenMM::NonbondedForce *' at 0x2ae5be0bde10> >\n"
     ]
    }
   ],
   "source": [
    "for i in range(old_system.getNumForces()):\n",
    "    print(i, old_system.getForce(i))"
   ]
  },
  {
   "cell_type": "code",
   "execution_count": 17,
   "metadata": {},
   "outputs": [
    {
     "name": "stdout",
     "output_type": "stream",
     "text": [
      "0 <simtk.openmm.openmm.HarmonicBondForce; proxy of <Swig Object of type 'OpenMM::HarmonicBondForce *' at 0x2ae5650903c0> >\n",
      "1 <simtk.openmm.openmm.HarmonicAngleForce; proxy of <Swig Object of type 'OpenMM::HarmonicAngleForce *' at 0x2ae5650903c0> >\n",
      "2 <simtk.openmm.openmm.PeriodicTorsionForce; proxy of <Swig Object of type 'OpenMM::PeriodicTorsionForce *' at 0x2ae5650903c0> >\n",
      "3 <simtk.openmm.openmm.NonbondedForce; proxy of <Swig Object of type 'OpenMM::NonbondedForce *' at 0x2ae5650903c0> >\n"
     ]
    }
   ],
   "source": [
    "for i in range(new_system.getNumForces()):\n",
    "    print(i, new_system.getForce(i))"
   ]
  },
  {
   "cell_type": "code",
   "execution_count": 18,
   "metadata": {},
   "outputs": [],
   "source": [
    "nb_force = old_system.getForce(3)\n",
    "for i in range(nb_force.getNumExceptions()):\n",
    "    p1, p2, chargeProd, sigma, epsilon = nb_force.getExceptionParameters(i)\n",
    "    if p1 in [10, 11, 12, 13] or p2 in [10, 11, 12, 13]:\n",
    "        if abs(p1-p2) == 3:\n",
    "            nb_force.setExceptionParameters(i, p1, p2, 0, sigma, 0)"
   ]
  },
  {
   "cell_type": "code",
   "execution_count": 19,
   "metadata": {},
   "outputs": [],
   "source": [
    "nb_force = new_system.getForce(3)\n",
    "for i in range(nb_force.getNumExceptions()):\n",
    "    p1, p2, chargeProd, sigma, epsilon = nb_force.getExceptionParameters(i)\n",
    "    if p1 in [10, 13, 14, 15, 16, 17, 18, 19] or p2 in [10, 13, 14, 15, 16, 17, 18, 19]:\n",
    "        if abs(p1-p2) == 3: \n",
    "            nb_force.setExceptionParameters(i, p1, p2, 0, sigma, 0)"
   ]
  },
  {
   "cell_type": "code",
   "execution_count": 20,
   "metadata": {
    "scrolled": true
   },
   "outputs": [
    {
     "name": "stdout",
     "output_type": "stream",
     "text": [
      "[0, 1, Quantity(value=0.0, unit=elementary charge**2), Quantity(value=1.0, unit=nanometer), Quantity(value=0.0, unit=kilojoule/mole)]\n",
      "[0, 2, Quantity(value=0.0, unit=elementary charge**2), Quantity(value=1.0, unit=nanometer), Quantity(value=0.0, unit=kilojoule/mole)]\n",
      "[1, 2, Quantity(value=0.0, unit=elementary charge**2), Quantity(value=1.0, unit=nanometer), Quantity(value=0.0, unit=kilojoule/mole)]\n",
      "[0, 3, Quantity(value=0.0, unit=elementary charge**2), Quantity(value=1.0, unit=nanometer), Quantity(value=0.0, unit=kilojoule/mole)]\n",
      "[1, 3, Quantity(value=0.0, unit=elementary charge**2), Quantity(value=1.0, unit=nanometer), Quantity(value=0.0, unit=kilojoule/mole)]\n",
      "[2, 3, Quantity(value=0.0, unit=elementary charge**2), Quantity(value=1.0, unit=nanometer), Quantity(value=0.0, unit=kilojoule/mole)]\n",
      "[0, 4, Quantity(value=0.0, unit=elementary charge**2), Quantity(value=1.0, unit=nanometer), Quantity(value=0.0, unit=kilojoule/mole)]\n",
      "[1, 4, Quantity(value=0.0, unit=elementary charge**2), Quantity(value=1.0, unit=nanometer), Quantity(value=0.0, unit=kilojoule/mole)]\n",
      "[2, 4, Quantity(value=0.0, unit=elementary charge**2), Quantity(value=1.0, unit=nanometer), Quantity(value=0.0, unit=kilojoule/mole)]\n",
      "[3, 4, Quantity(value=0.0, unit=elementary charge**2), Quantity(value=1.0, unit=nanometer), Quantity(value=0.0, unit=kilojoule/mole)]\n",
      "[0, 5, Quantity(value=-0.053145975, unit=elementary charge**2), Quantity(value=0.2804727344449416, unit=nanometer), Quantity(value=0.12012161257658839, unit=kilojoule/mole)]\n",
      "[1, 5, Quantity(value=0.0, unit=elementary charge**2), Quantity(value=1.0, unit=nanometer), Quantity(value=0.0, unit=kilojoule/mole)]\n",
      "[2, 5, Quantity(value=-0.053145975, unit=elementary charge**2), Quantity(value=0.2804727344449416, unit=nanometer), Quantity(value=0.12012161257658839, unit=kilojoule/mole)]\n",
      "[3, 5, Quantity(value=-0.053145975, unit=elementary charge**2), Quantity(value=0.2804727344449416, unit=nanometer), Quantity(value=0.12012161257658839, unit=kilojoule/mole)]\n",
      "[4, 5, Quantity(value=0.0, unit=elementary charge**2), Quantity(value=1.0, unit=nanometer), Quantity(value=0.0, unit=kilojoule/mole)]\n",
      "[0, 6, Quantity(value=-0.03890259166666667, unit=elementary charge**2), Quantity(value=0.2949765655762664, unit=nanometer), Quantity(value=0.10807766844265286, unit=kilojoule/mole)]\n",
      "[1, 6, Quantity(value=0.0, unit=elementary charge**2), Quantity(value=1.0, unit=nanometer), Quantity(value=0.0, unit=kilojoule/mole)]\n",
      "[2, 6, Quantity(value=-0.03890259166666667, unit=elementary charge**2), Quantity(value=0.2949765655762664, unit=nanometer), Quantity(value=0.10807766844265286, unit=kilojoule/mole)]\n",
      "[3, 6, Quantity(value=-0.03890259166666667, unit=elementary charge**2), Quantity(value=0.2949765655762664, unit=nanometer), Quantity(value=0.10807766844265286, unit=kilojoule/mole)]\n",
      "[4, 6, Quantity(value=0.0, unit=elementary charge**2), Quantity(value=1.0, unit=nanometer), Quantity(value=0.0, unit=kilojoule/mole)]\n",
      "[5, 6, Quantity(value=0.0, unit=elementary charge**2), Quantity(value=1.0, unit=nanometer), Quantity(value=0.0, unit=kilojoule/mole)]\n",
      "[1, 7, Quantity(value=-0.08297481666666667, unit=elementary charge**2), Quantity(value=0.2234373985095971, unit=nanometer), Quantity(value=0.08670021359327784, unit=kilojoule/mole)]\n",
      "[4, 7, Quantity(value=0.0, unit=elementary charge**2), Quantity(value=1.0, unit=nanometer), Quantity(value=0.0, unit=kilojoule/mole)]\n",
      "[5, 7, Quantity(value=-0.128676675, unit=elementary charge**2), Quantity(value=0.20145001814589353, unit=nanometer), Quantity(value=0.12012161257658839, unit=kilojoule/mole)]\n",
      "[6, 7, Quantity(value=0.0, unit=elementary charge**2), Quantity(value=1.0, unit=nanometer), Quantity(value=0.0, unit=kilojoule/mole)]\n",
      "[1, 8, Quantity(value=-0.010284116666666667, unit=elementary charge**2), Quantity(value=0.3399669508423535, unit=nanometer), Quantity(value=0.2288648, unit=kilojoule/mole)]\n",
      "[4, 8, Quantity(value=0.0, unit=elementary charge**2), Quantity(value=1.0, unit=nanometer), Quantity(value=0.0, unit=kilojoule/mole)]\n",
      "[5, 8, Quantity(value=-0.015948525, unit=elementary charge**2), Quantity(value=0.3179795704786499, unit=nanometer), Quantity(value=0.3170881327580709, unit=kilojoule/mole)]\n",
      "[6, 8, Quantity(value=0.0, unit=elementary charge**2), Quantity(value=1.0, unit=nanometer), Quantity(value=0.0, unit=kilojoule/mole)]\n",
      "[7, 8, Quantity(value=0.0, unit=elementary charge**2), Quantity(value=1.0, unit=nanometer), Quantity(value=0.0, unit=kilojoule/mole)]\n",
      "[4, 9, Quantity(value=0.040957966666666665, unit=elementary charge**2), Quantity(value=0.2935511276272418, unit=nanometer), Quantity(value=0.07687068162049819, unit=kilojoule/mole)]\n",
      "[6, 9, Quantity(value=0.0, unit=elementary charge**2), Quantity(value=1.0, unit=nanometer), Quantity(value=0.0, unit=kilojoule/mole)]\n",
      "[7, 9, Quantity(value=0.01864780833333333, unit=elementary charge**2), Quantity(value=0.17702157529448542, unit=nanometer), Quantity(value=0.032844399999999996, unit=kilojoule/mole)]\n",
      "[8, 9, Quantity(value=0.0, unit=elementary charge**2), Quantity(value=1.0, unit=nanometer), Quantity(value=0.0, unit=kilojoule/mole)]\n",
      "[4, 10, Quantity(value=-0.09082416666666666, unit=elementary charge**2), Quantity(value=0.3399669508423535, unit=nanometer), Quantity(value=0.20291752979375635, unit=kilojoule/mole)]\n",
      "[6, 10, Quantity(value=0.0, unit=elementary charge**2), Quantity(value=1.0, unit=nanometer), Quantity(value=0.0, unit=kilojoule/mole)]\n",
      "[7, 10, Quantity(value=0.0, unit=elementary charge**2), Quantity(value=0.2234373985095971, unit=nanometer), Quantity(value=0.0, unit=kilojoule/mole)]\n",
      "[8, 10, Quantity(value=0.0, unit=elementary charge**2), Quantity(value=1.0, unit=nanometer), Quantity(value=0.0, unit=kilojoule/mole)]\n",
      "[9, 10, Quantity(value=0.0, unit=elementary charge**2), Quantity(value=1.0, unit=nanometer), Quantity(value=0.0, unit=kilojoule/mole)]\n",
      "[6, 11, Quantity(value=-0.020888925000000003, unit=elementary charge**2), Quantity(value=0.2949765655762664, unit=nanometer), Quantity(value=0.10807766844265286, unit=kilojoule/mole)]\n",
      "[8, 11, Quantity(value=0.0, unit=elementary charge**2), Quantity(value=1.0, unit=nanometer), Quantity(value=0.0, unit=kilojoule/mole)]\n",
      "[9, 11, Quantity(value=0.004135575, unit=elementary charge**2), Quantity(value=0.2560442915935335, unit=nanometer), Quantity(value=0.032844399999999996, unit=kilojoule/mole)]\n",
      "[10, 11, Quantity(value=0.0, unit=elementary charge**2), Quantity(value=1.0, unit=nanometer), Quantity(value=0.0, unit=kilojoule/mole)]\n",
      "[6, 12, Quantity(value=-0.020888925000000003, unit=elementary charge**2), Quantity(value=0.2949765655762664, unit=nanometer), Quantity(value=0.10807766844265286, unit=kilojoule/mole)]\n",
      "[8, 12, Quantity(value=0.0, unit=elementary charge**2), Quantity(value=1.0, unit=nanometer), Quantity(value=0.0, unit=kilojoule/mole)]\n",
      "[9, 12, Quantity(value=0.0, unit=elementary charge**2), Quantity(value=0.2560442915935335, unit=nanometer), Quantity(value=0.0, unit=kilojoule/mole)]\n",
      "[10, 12, Quantity(value=0.0, unit=elementary charge**2), Quantity(value=1.0, unit=nanometer), Quantity(value=0.0, unit=kilojoule/mole)]\n",
      "[11, 12, Quantity(value=0.0, unit=elementary charge**2), Quantity(value=1.0, unit=nanometer), Quantity(value=0.0, unit=kilojoule/mole)]\n",
      "[6, 13, Quantity(value=-0.020888925000000003, unit=elementary charge**2), Quantity(value=0.2949765655762664, unit=nanometer), Quantity(value=0.10807766844265286, unit=kilojoule/mole)]\n",
      "[8, 13, Quantity(value=0.0, unit=elementary charge**2), Quantity(value=1.0, unit=nanometer), Quantity(value=0.0, unit=kilojoule/mole)]\n",
      "[9, 13, Quantity(value=0.004135575, unit=elementary charge**2), Quantity(value=0.2560442915935335, unit=nanometer), Quantity(value=0.032844399999999996, unit=kilojoule/mole)]\n",
      "[10, 13, Quantity(value=0.0, unit=elementary charge**2), Quantity(value=1.0, unit=nanometer), Quantity(value=0.0, unit=kilojoule/mole)]\n",
      "[11, 13, Quantity(value=0.0, unit=elementary charge**2), Quantity(value=1.0, unit=nanometer), Quantity(value=0.0, unit=kilojoule/mole)]\n",
      "[12, 13, Quantity(value=0.0, unit=elementary charge**2), Quantity(value=1.0, unit=nanometer), Quantity(value=0.0, unit=kilojoule/mole)]\n",
      "[4, 14, Quantity(value=0.29725630000000003, unit=elementary charge**2), Quantity(value=0.3399669508423535, unit=nanometer), Quantity(value=0.179912, unit=kilojoule/mole)]\n",
      "[6, 14, Quantity(value=0.0, unit=elementary charge**2), Quantity(value=1.0, unit=nanometer), Quantity(value=0.0, unit=kilojoule/mole)]\n",
      "[7, 14, Quantity(value=0.135338225, unit=elementary charge**2), Quantity(value=0.2234373985095971, unit=nanometer), Quantity(value=0.07687068162049819, unit=kilojoule/mole)]\n",
      "[8, 14, Quantity(value=0.0, unit=elementary charge**2), Quantity(value=1.0, unit=nanometer), Quantity(value=0.0, unit=kilojoule/mole)]\n",
      "[9, 14, Quantity(value=0.0, unit=elementary charge**2), Quantity(value=1.0, unit=nanometer), Quantity(value=0.0, unit=kilojoule/mole)]\n",
      "[10, 14, Quantity(value=0.0, unit=elementary charge**2), Quantity(value=1.0, unit=nanometer), Quantity(value=0.0, unit=kilojoule/mole)]\n",
      "[11, 14, Quantity(value=0.0, unit=elementary charge**2), Quantity(value=0.3024601148086452, unit=nanometer), Quantity(value=0.0, unit=kilojoule/mole)]\n",
      "[12, 14, Quantity(value=0.030014325000000005, unit=elementary charge**2), Quantity(value=0.3024601148086452, unit=nanometer), Quantity(value=0.07687068162049819, unit=kilojoule/mole)]\n",
      "[13, 14, Quantity(value=0.030014325000000005, unit=elementary charge**2), Quantity(value=0.3024601148086452, unit=nanometer), Quantity(value=0.07687068162049819, unit=kilojoule/mole)]\n",
      "[6, 15, Quantity(value=0.196730025, unit=elementary charge**2), Quantity(value=0.31049602124627107, unit=nanometer), Quantity(value=0.3952717606912996, unit=kilojoule/mole)]\n",
      "[8, 15, Quantity(value=0.0, unit=elementary charge**2), Quantity(value=1.0, unit=nanometer), Quantity(value=0.0, unit=kilojoule/mole)]\n",
      "[9, 15, Quantity(value=-0.038948474999999996, unit=elementary charge**2), Quantity(value=0.2715637472635382, unit=nanometer), Quantity(value=0.12012161257658839, unit=kilojoule/mole)]\n",
      "[10, 15, Quantity(value=0.086368125, unit=elementary charge**2), Quantity(value=0.3179795704786499, unit=nanometer), Quantity(value=0.3170881327580709, unit=kilojoule/mole)]\n",
      "[14, 15, Quantity(value=0.0, unit=elementary charge**2), Quantity(value=1.0, unit=nanometer), Quantity(value=0.0, unit=kilojoule/mole)]\n",
      "[6, 16, Quantity(value=0.14400540833333336, unit=elementary charge**2), Quantity(value=0.3249998523775958, unit=nanometer), Quantity(value=0.35564000000000007, unit=kilojoule/mole)]\n",
      "[8, 16, Quantity(value=0.0, unit=elementary charge**2), Quantity(value=1.0, unit=nanometer), Quantity(value=0.0, unit=kilojoule/mole)]\n",
      "[9, 16, Quantity(value=-0.028510091666666668, unit=elementary charge**2), Quantity(value=0.28606757839486296, unit=nanometer), Quantity(value=0.10807766844265286, unit=kilojoule/mole)]\n",
      "[10, 16, Quantity(value=0.06322104166666667, unit=elementary charge**2), Quantity(value=0.3324834016099747, unit=nanometer), Quantity(value=0.28529542140034425, unit=kilojoule/mole)]\n",
      "[14, 16, Quantity(value=0.0, unit=elementary charge**2), Quantity(value=1.0, unit=nanometer), Quantity(value=0.0, unit=kilojoule/mole)]\n",
      "[15, 16, Quantity(value=0.0, unit=elementary charge**2), Quantity(value=1.0, unit=nanometer), Quantity(value=0.0, unit=kilojoule/mole)]\n",
      "[8, 17, Quantity(value=0.007635858333333333, unit=elementary charge**2), Quantity(value=0.2234373985095971, unit=nanometer), Quantity(value=0.08670021359327784, unit=kilojoule/mole)]\n",
      "[14, 17, Quantity(value=0.0, unit=elementary charge**2), Quantity(value=1.0, unit=nanometer), Quantity(value=0.0, unit=kilojoule/mole)]\n",
      "[15, 17, Quantity(value=-0.128676675, unit=elementary charge**2), Quantity(value=0.20145001814589353, unit=nanometer), Quantity(value=0.12012161257658839, unit=kilojoule/mole)]\n",
      "[16, 17, Quantity(value=0.0, unit=elementary charge**2), Quantity(value=1.0, unit=nanometer), Quantity(value=0.0, unit=kilojoule/mole)]\n",
      "[8, 18, Quantity(value=-0.004184416666666667, unit=elementary charge**2), Quantity(value=0.3399669508423535, unit=nanometer), Quantity(value=0.2288648, unit=kilojoule/mole)]\n",
      "[14, 18, Quantity(value=0.0, unit=elementary charge**2), Quantity(value=1.0, unit=nanometer), Quantity(value=0.0, unit=kilojoule/mole)]\n",
      "[15, 18, Quantity(value=0.07051425, unit=elementary charge**2), Quantity(value=0.3179795704786499, unit=nanometer), Quantity(value=0.3170881327580709, unit=kilojoule/mole)]\n",
      "[16, 18, Quantity(value=0.0, unit=elementary charge**2), Quantity(value=1.0, unit=nanometer), Quantity(value=0.0, unit=kilojoule/mole)]\n",
      "[17, 18, Quantity(value=0.0, unit=elementary charge**2), Quantity(value=1.0, unit=nanometer), Quantity(value=0.0, unit=kilojoule/mole)]\n",
      "[14, 19, Quantity(value=0.04858040000000001, unit=elementary charge**2), Quantity(value=0.2935511276272418, unit=nanometer), Quantity(value=0.07687068162049819, unit=kilojoule/mole)]\n",
      "[16, 19, Quantity(value=0.0, unit=elementary charge**2), Quantity(value=1.0, unit=nanometer), Quantity(value=0.0, unit=kilojoule/mole)]\n",
      "[17, 19, Quantity(value=0.022114533333333335, unit=elementary charge**2), Quantity(value=0.17702157529448542, unit=nanometer), Quantity(value=0.032844399999999996, unit=kilojoule/mole)]\n",
      "[18, 19, Quantity(value=0.0, unit=elementary charge**2), Quantity(value=1.0, unit=nanometer), Quantity(value=0.0, unit=kilojoule/mole)]\n",
      "[14, 20, Quantity(value=0.04858040000000001, unit=elementary charge**2), Quantity(value=0.2935511276272418, unit=nanometer), Quantity(value=0.07687068162049819, unit=kilojoule/mole)]\n",
      "[16, 20, Quantity(value=0.0, unit=elementary charge**2), Quantity(value=1.0, unit=nanometer), Quantity(value=0.0, unit=kilojoule/mole)]\n",
      "[17, 20, Quantity(value=0.022114533333333335, unit=elementary charge**2), Quantity(value=0.17702157529448542, unit=nanometer), Quantity(value=0.032844399999999996, unit=kilojoule/mole)]\n",
      "[18, 20, Quantity(value=0.0, unit=elementary charge**2), Quantity(value=1.0, unit=nanometer), Quantity(value=0.0, unit=kilojoule/mole)]\n",
      "[19, 20, Quantity(value=0.0, unit=elementary charge**2), Quantity(value=1.0, unit=nanometer), Quantity(value=0.0, unit=kilojoule/mole)]\n",
      "[14, 21, Quantity(value=0.04858040000000001, unit=elementary charge**2), Quantity(value=0.2935511276272418, unit=nanometer), Quantity(value=0.07687068162049819, unit=kilojoule/mole)]\n",
      "[16, 21, Quantity(value=0.0, unit=elementary charge**2), Quantity(value=1.0, unit=nanometer), Quantity(value=0.0, unit=kilojoule/mole)]\n",
      "[17, 21, Quantity(value=0.022114533333333335, unit=elementary charge**2), Quantity(value=0.17702157529448542, unit=nanometer), Quantity(value=0.032844399999999996, unit=kilojoule/mole)]\n",
      "[18, 21, Quantity(value=0.0, unit=elementary charge**2), Quantity(value=1.0, unit=nanometer), Quantity(value=0.0, unit=kilojoule/mole)]\n",
      "[19, 21, Quantity(value=0.0, unit=elementary charge**2), Quantity(value=1.0, unit=nanometer), Quantity(value=0.0, unit=kilojoule/mole)]\n",
      "[20, 21, Quantity(value=0.0, unit=elementary charge**2), Quantity(value=1.0, unit=nanometer), Quantity(value=0.0, unit=kilojoule/mole)]\n"
     ]
    }
   ],
   "source": [
    "# Check that the 1,4s involving unique old are off\n",
    "for i in range(old_system.getForce(3).getNumExceptions()):\n",
    "    print(old_system.getForce(3).getExceptionParameters(i))"
   ]
  },
  {
   "cell_type": "code",
   "execution_count": 21,
   "metadata": {},
   "outputs": [
    {
     "name": "stdout",
     "output_type": "stream",
     "text": [
      "[0, 1, Quantity(value=0.0, unit=elementary charge**2), Quantity(value=1.0, unit=nanometer), Quantity(value=0.0, unit=kilojoule/mole)]\n",
      "[0, 2, Quantity(value=0.0, unit=elementary charge**2), Quantity(value=1.0, unit=nanometer), Quantity(value=0.0, unit=kilojoule/mole)]\n",
      "[1, 2, Quantity(value=0.0, unit=elementary charge**2), Quantity(value=1.0, unit=nanometer), Quantity(value=0.0, unit=kilojoule/mole)]\n",
      "[0, 3, Quantity(value=0.0, unit=elementary charge**2), Quantity(value=1.0, unit=nanometer), Quantity(value=0.0, unit=kilojoule/mole)]\n",
      "[1, 3, Quantity(value=0.0, unit=elementary charge**2), Quantity(value=1.0, unit=nanometer), Quantity(value=0.0, unit=kilojoule/mole)]\n",
      "[2, 3, Quantity(value=0.0, unit=elementary charge**2), Quantity(value=1.0, unit=nanometer), Quantity(value=0.0, unit=kilojoule/mole)]\n",
      "[0, 4, Quantity(value=0.0, unit=elementary charge**2), Quantity(value=1.0, unit=nanometer), Quantity(value=0.0, unit=kilojoule/mole)]\n",
      "[1, 4, Quantity(value=0.0, unit=elementary charge**2), Quantity(value=1.0, unit=nanometer), Quantity(value=0.0, unit=kilojoule/mole)]\n",
      "[2, 4, Quantity(value=0.0, unit=elementary charge**2), Quantity(value=1.0, unit=nanometer), Quantity(value=0.0, unit=kilojoule/mole)]\n",
      "[3, 4, Quantity(value=0.0, unit=elementary charge**2), Quantity(value=1.0, unit=nanometer), Quantity(value=0.0, unit=kilojoule/mole)]\n",
      "[0, 5, Quantity(value=-0.053145975, unit=elementary charge**2), Quantity(value=0.2804727344449416, unit=nanometer), Quantity(value=0.12012161257658839, unit=kilojoule/mole)]\n",
      "[1, 5, Quantity(value=0.0, unit=elementary charge**2), Quantity(value=1.0, unit=nanometer), Quantity(value=0.0, unit=kilojoule/mole)]\n",
      "[2, 5, Quantity(value=-0.053145975, unit=elementary charge**2), Quantity(value=0.2804727344449416, unit=nanometer), Quantity(value=0.12012161257658839, unit=kilojoule/mole)]\n",
      "[3, 5, Quantity(value=-0.053145975, unit=elementary charge**2), Quantity(value=0.2804727344449416, unit=nanometer), Quantity(value=0.12012161257658839, unit=kilojoule/mole)]\n",
      "[4, 5, Quantity(value=0.0, unit=elementary charge**2), Quantity(value=1.0, unit=nanometer), Quantity(value=0.0, unit=kilojoule/mole)]\n",
      "[0, 6, Quantity(value=-0.03890259166666667, unit=elementary charge**2), Quantity(value=0.2949765655762664, unit=nanometer), Quantity(value=0.10807766844265286, unit=kilojoule/mole)]\n",
      "[1, 6, Quantity(value=0.0, unit=elementary charge**2), Quantity(value=1.0, unit=nanometer), Quantity(value=0.0, unit=kilojoule/mole)]\n",
      "[2, 6, Quantity(value=-0.03890259166666667, unit=elementary charge**2), Quantity(value=0.2949765655762664, unit=nanometer), Quantity(value=0.10807766844265286, unit=kilojoule/mole)]\n",
      "[3, 6, Quantity(value=-0.03890259166666667, unit=elementary charge**2), Quantity(value=0.2949765655762664, unit=nanometer), Quantity(value=0.10807766844265286, unit=kilojoule/mole)]\n",
      "[4, 6, Quantity(value=0.0, unit=elementary charge**2), Quantity(value=1.0, unit=nanometer), Quantity(value=0.0, unit=kilojoule/mole)]\n",
      "[5, 6, Quantity(value=0.0, unit=elementary charge**2), Quantity(value=1.0, unit=nanometer), Quantity(value=0.0, unit=kilojoule/mole)]\n",
      "[1, 7, Quantity(value=-0.08297481666666667, unit=elementary charge**2), Quantity(value=0.2234373985095971, unit=nanometer), Quantity(value=0.08670021359327784, unit=kilojoule/mole)]\n",
      "[4, 7, Quantity(value=0.0, unit=elementary charge**2), Quantity(value=1.0, unit=nanometer), Quantity(value=0.0, unit=kilojoule/mole)]\n",
      "[5, 7, Quantity(value=-0.128676675, unit=elementary charge**2), Quantity(value=0.20145001814589353, unit=nanometer), Quantity(value=0.12012161257658839, unit=kilojoule/mole)]\n",
      "[6, 7, Quantity(value=0.0, unit=elementary charge**2), Quantity(value=1.0, unit=nanometer), Quantity(value=0.0, unit=kilojoule/mole)]\n",
      "[1, 8, Quantity(value=0.011870983333333333, unit=elementary charge**2), Quantity(value=0.3399669508423535, unit=nanometer), Quantity(value=0.2288648, unit=kilojoule/mole)]\n",
      "[4, 8, Quantity(value=0.0, unit=elementary charge**2), Quantity(value=1.0, unit=nanometer), Quantity(value=0.0, unit=kilojoule/mole)]\n",
      "[5, 8, Quantity(value=0.018409425, unit=elementary charge**2), Quantity(value=0.3179795704786499, unit=nanometer), Quantity(value=0.3170881327580709, unit=kilojoule/mole)]\n",
      "[6, 8, Quantity(value=0.0, unit=elementary charge**2), Quantity(value=1.0, unit=nanometer), Quantity(value=0.0, unit=kilojoule/mole)]\n",
      "[7, 8, Quantity(value=0.0, unit=elementary charge**2), Quantity(value=1.0, unit=nanometer), Quantity(value=0.0, unit=kilojoule/mole)]\n",
      "[4, 9, Quantity(value=0.05011503333333333, unit=elementary charge**2), Quantity(value=0.2935511276272418, unit=nanometer), Quantity(value=0.07687068162049819, unit=kilojoule/mole)]\n",
      "[6, 9, Quantity(value=0.0, unit=elementary charge**2), Quantity(value=1.0, unit=nanometer), Quantity(value=0.0, unit=kilojoule/mole)]\n",
      "[7, 9, Quantity(value=0.022816941666666667, unit=elementary charge**2), Quantity(value=0.17702157529448542, unit=nanometer), Quantity(value=0.032844399999999996, unit=kilojoule/mole)]\n",
      "[8, 9, Quantity(value=0.0, unit=elementary charge**2), Quantity(value=1.0, unit=nanometer), Quantity(value=0.0, unit=kilojoule/mole)]\n",
      "[4, 10, Quantity(value=0.1818474, unit=elementary charge**2), Quantity(value=0.3399669508423535, unit=nanometer), Quantity(value=0.20291752979375635, unit=kilojoule/mole)]\n",
      "[6, 10, Quantity(value=0.0, unit=elementary charge**2), Quantity(value=1.0, unit=nanometer), Quantity(value=0.0, unit=kilojoule/mole)]\n",
      "[7, 10, Quantity(value=0.0, unit=elementary charge**2), Quantity(value=0.2234373985095971, unit=nanometer), Quantity(value=0.0, unit=kilojoule/mole)]\n",
      "[8, 10, Quantity(value=0.0, unit=elementary charge**2), Quantity(value=1.0, unit=nanometer), Quantity(value=0.0, unit=kilojoule/mole)]\n",
      "[9, 10, Quantity(value=0.0, unit=elementary charge**2), Quantity(value=1.0, unit=nanometer), Quantity(value=0.0, unit=kilojoule/mole)]\n",
      "[4, 11, Quantity(value=0.29725630000000003, unit=elementary charge**2), Quantity(value=0.3399669508423535, unit=nanometer), Quantity(value=0.179912, unit=kilojoule/mole)]\n",
      "[6, 11, Quantity(value=0.0, unit=elementary charge**2), Quantity(value=1.0, unit=nanometer), Quantity(value=0.0, unit=kilojoule/mole)]\n",
      "[7, 11, Quantity(value=0.135338225, unit=elementary charge**2), Quantity(value=0.2234373985095971, unit=nanometer), Quantity(value=0.07687068162049819, unit=kilojoule/mole)]\n",
      "[8, 11, Quantity(value=0.0, unit=elementary charge**2), Quantity(value=1.0, unit=nanometer), Quantity(value=0.0, unit=kilojoule/mole)]\n",
      "[9, 11, Quantity(value=0.0, unit=elementary charge**2), Quantity(value=1.0, unit=nanometer), Quantity(value=0.0, unit=kilojoule/mole)]\n",
      "[10, 11, Quantity(value=0.0, unit=elementary charge**2), Quantity(value=1.0, unit=nanometer), Quantity(value=0.0, unit=kilojoule/mole)]\n",
      "[6, 12, Quantity(value=0.196730025, unit=elementary charge**2), Quantity(value=0.31049602124627107, unit=nanometer), Quantity(value=0.3952717606912996, unit=kilojoule/mole)]\n",
      "[8, 12, Quantity(value=0.0, unit=elementary charge**2), Quantity(value=1.0, unit=nanometer), Quantity(value=0.0, unit=kilojoule/mole)]\n",
      "[9, 12, Quantity(value=-0.047656275, unit=elementary charge**2), Quantity(value=0.2715637472635382, unit=nanometer), Quantity(value=0.12012161257658839, unit=kilojoule/mole)]\n",
      "[10, 12, Quantity(value=-0.17292554999999998, unit=elementary charge**2), Quantity(value=0.3179795704786499, unit=nanometer), Quantity(value=0.3170881327580709, unit=kilojoule/mole)]\n",
      "[11, 12, Quantity(value=0.0, unit=elementary charge**2), Quantity(value=1.0, unit=nanometer), Quantity(value=0.0, unit=kilojoule/mole)]\n",
      "[6, 13, Quantity(value=-0.001489591666666667, unit=elementary charge**2), Quantity(value=0.28606757839486296, unit=nanometer), Quantity(value=0.10807766844265286, unit=kilojoule/mole)]\n",
      "[8, 13, Quantity(value=0.0, unit=elementary charge**2), Quantity(value=1.0, unit=nanometer), Quantity(value=0.0, unit=kilojoule/mole)]\n",
      "[9, 13, Quantity(value=0.0003608416666666667, unit=elementary charge**2), Quantity(value=0.2471353044121301, unit=nanometer), Quantity(value=0.032844399999999996, unit=kilojoule/mole)]\n",
      "[10, 13, Quantity(value=0.0, unit=elementary charge**2), Quantity(value=1.0, unit=nanometer), Quantity(value=0.0, unit=kilojoule/mole)]\n",
      "[11, 13, Quantity(value=0.002140325, unit=elementary charge**2), Quantity(value=0.2935511276272418, unit=nanometer), Quantity(value=0.07687068162049819, unit=kilojoule/mole)]\n",
      "[6, 14, Quantity(value=0.08445638333333334, unit=elementary charge**2), Quantity(value=0.3324834016099747, unit=nanometer), Quantity(value=0.28529542140034425, unit=kilojoule/mole)]\n",
      "[8, 14, Quantity(value=0.0, unit=elementary charge**2), Quantity(value=1.0, unit=nanometer), Quantity(value=0.0, unit=kilojoule/mole)]\n",
      "[9, 14, Quantity(value=-0.020458883333333334, unit=elementary charge**2), Quantity(value=0.2935511276272418, unit=nanometer), Quantity(value=0.08670021359327784, unit=kilojoule/mole)]\n",
      "[10, 14, Quantity(value=0.0, unit=elementary charge**2), Quantity(value=1.0, unit=nanometer), Quantity(value=0.0, unit=kilojoule/mole)]\n",
      "[11, 14, Quantity(value=0.0, unit=elementary charge**2), Quantity(value=0.3399669508423535, unit=nanometer), Quantity(value=0.0, unit=kilojoule/mole)]\n",
      "[13, 14, Quantity(value=0.0, unit=elementary charge**2), Quantity(value=1.0, unit=nanometer), Quantity(value=0.0, unit=kilojoule/mole)]\n",
      "[8, 15, Quantity(value=-0.0020811499999999995, unit=elementary charge**2), Quantity(value=0.3024601148086452, unit=nanometer), Quantity(value=0.08670021359327784, unit=kilojoule/mole)]\n",
      "[10, 15, Quantity(value=0.0, unit=elementary charge**2), Quantity(value=1.0, unit=nanometer), Quantity(value=0.0, unit=kilojoule/mole)]\n",
      "[13, 15, Quantity(value=0.00023004999999999998, unit=elementary charge**2), Quantity(value=0.2560442915935335, unit=nanometer), Quantity(value=0.032844399999999996, unit=kilojoule/mole)]\n",
      "[14, 15, Quantity(value=0.0, unit=elementary charge**2), Quantity(value=1.0, unit=nanometer), Quantity(value=0.0, unit=kilojoule/mole)]\n",
      "[8, 16, Quantity(value=-0.0020811499999999995, unit=elementary charge**2), Quantity(value=0.3024601148086452, unit=nanometer), Quantity(value=0.08670021359327784, unit=kilojoule/mole)]\n",
      "[10, 16, Quantity(value=0.0, unit=elementary charge**2), Quantity(value=1.0, unit=nanometer), Quantity(value=0.0, unit=kilojoule/mole)]\n",
      "[13, 16, Quantity(value=0.0, unit=elementary charge**2), Quantity(value=0.2560442915935335, unit=nanometer), Quantity(value=0.0, unit=kilojoule/mole)]\n",
      "[14, 16, Quantity(value=0.0, unit=elementary charge**2), Quantity(value=1.0, unit=nanometer), Quantity(value=0.0, unit=kilojoule/mole)]\n",
      "[15, 16, Quantity(value=0.0, unit=elementary charge**2), Quantity(value=1.0, unit=nanometer), Quantity(value=0.0, unit=kilojoule/mole)]\n",
      "[8, 17, Quantity(value=-0.0020811499999999995, unit=elementary charge**2), Quantity(value=0.3024601148086452, unit=nanometer), Quantity(value=0.08670021359327784, unit=kilojoule/mole)]\n",
      "[10, 17, Quantity(value=0.0, unit=elementary charge**2), Quantity(value=1.0, unit=nanometer), Quantity(value=0.0, unit=kilojoule/mole)]\n",
      "[13, 17, Quantity(value=0.00023004999999999998, unit=elementary charge**2), Quantity(value=0.2560442915935335, unit=nanometer), Quantity(value=0.032844399999999996, unit=kilojoule/mole)]\n",
      "[14, 17, Quantity(value=0.0, unit=elementary charge**2), Quantity(value=1.0, unit=nanometer), Quantity(value=0.0, unit=kilojoule/mole)]\n",
      "[15, 17, Quantity(value=0.0, unit=elementary charge**2), Quantity(value=1.0, unit=nanometer), Quantity(value=0.0, unit=kilojoule/mole)]\n",
      "[16, 17, Quantity(value=0.0, unit=elementary charge**2), Quantity(value=1.0, unit=nanometer), Quantity(value=0.0, unit=kilojoule/mole)]\n",
      "[6, 18, Quantity(value=0.23421230833333337, unit=elementary charge**2), Quantity(value=0.31582359558075035, unit=nanometer), Quantity(value=0.3956480308961489, unit=kilojoule/mole)]\n",
      "[8, 18, Quantity(value=0.0, unit=elementary charge**2), Quantity(value=1.0, unit=nanometer), Quantity(value=0.0, unit=kilojoule/mole)]\n",
      "[9, 18, Quantity(value=-0.05673605833333334, unit=elementary charge**2), Quantity(value=0.27689132159801744, unit=nanometer), Quantity(value=0.12023595968727492, unit=kilojoule/mole)]\n",
      "[10, 18, Quantity(value=0.0, unit=elementary charge**2), Quantity(value=1.0, unit=nanometer), Quantity(value=0.0, unit=kilojoule/mole)]\n",
      "[11, 18, Quantity(value=-0.33652877500000006, unit=elementary charge**2), Quantity(value=0.32330714481312917, unit=nanometer), Quantity(value=0.2814062724986776, unit=kilojoule/mole)]\n",
      "[13, 18, Quantity(value=0.0, unit=elementary charge**2), Quantity(value=1.0, unit=nanometer), Quantity(value=0.0, unit=kilojoule/mole)]\n",
      "[14, 18, Quantity(value=0.0, unit=elementary charge**2), Quantity(value=1.0, unit=nanometer), Quantity(value=0.0, unit=kilojoule/mole)]\n",
      "[15, 18, Quantity(value=0.0, unit=elementary charge**2), Quantity(value=0.28580030877942086, unit=nanometer), Quantity(value=0.0, unit=kilojoule/mole)]\n",
      "[16, 18, Quantity(value=-0.03617135, unit=elementary charge**2), Quantity(value=0.28580030877942086, unit=nanometer), Quantity(value=0.12023595968727492, unit=kilojoule/mole)]\n",
      "[17, 18, Quantity(value=-0.03617135, unit=elementary charge**2), Quantity(value=0.28580030877942086, unit=nanometer), Quantity(value=0.12023595968727492, unit=kilojoule/mole)]\n",
      "[8, 19, Quantity(value=-0.013297316666666666, unit=elementary charge**2), Quantity(value=0.6699834754211768, unit=nanometer), Quantity(value=0.0, unit=kilojoule/mole)]\n",
      "[10, 19, Quantity(value=0.0, unit=elementary charge**2), Quantity(value=1.0, unit=nanometer), Quantity(value=0.0, unit=kilojoule/mole)]\n",
      "[13, 19, Quantity(value=0.0014698833333333333, unit=elementary charge**2), Quantity(value=0.623567652206065, unit=nanometer), Quantity(value=0.0, unit=kilojoule/mole)]\n",
      "[14, 19, Quantity(value=-0.08333896666666667, unit=elementary charge**2), Quantity(value=0.6699834754211768, unit=nanometer), Quantity(value=0.0, unit=kilojoule/mole)]\n",
      "[18, 19, Quantity(value=0.0, unit=elementary charge**2), Quantity(value=1.0, unit=nanometer), Quantity(value=0.0, unit=kilojoule/mole)]\n",
      "[6, 20, Quantity(value=0.14400540833333336, unit=elementary charge**2), Quantity(value=0.3249998523775958, unit=nanometer), Quantity(value=0.35564000000000007, unit=kilojoule/mole)]\n",
      "[8, 20, Quantity(value=0.0, unit=elementary charge**2), Quantity(value=1.0, unit=nanometer), Quantity(value=0.0, unit=kilojoule/mole)]\n",
      "[9, 20, Quantity(value=-0.03488415833333333, unit=elementary charge**2), Quantity(value=0.28606757839486296, unit=nanometer), Quantity(value=0.10807766844265286, unit=kilojoule/mole)]\n",
      "[10, 20, Quantity(value=-0.12658065, unit=elementary charge**2), Quantity(value=0.3324834016099747, unit=nanometer), Quantity(value=0.28529542140034425, unit=kilojoule/mole)]\n",
      "[11, 20, Quantity(value=0.0, unit=elementary charge**2), Quantity(value=1.0, unit=nanometer), Quantity(value=0.0, unit=kilojoule/mole)]\n",
      "[12, 20, Quantity(value=0.0, unit=elementary charge**2), Quantity(value=1.0, unit=nanometer), Quantity(value=0.0, unit=kilojoule/mole)]\n",
      "[8, 21, Quantity(value=-0.008814091666666664, unit=elementary charge**2), Quantity(value=0.2234373985095971, unit=nanometer), Quantity(value=0.08670021359327784, unit=kilojoule/mole)]\n",
      "[11, 21, Quantity(value=0.0, unit=elementary charge**2), Quantity(value=1.0, unit=nanometer), Quantity(value=0.0, unit=kilojoule/mole)]\n",
      "[12, 21, Quantity(value=-0.128676675, unit=elementary charge**2), Quantity(value=0.20145001814589353, unit=nanometer), Quantity(value=0.12012161257658839, unit=kilojoule/mole)]\n",
      "[20, 21, Quantity(value=0.0, unit=elementary charge**2), Quantity(value=1.0, unit=nanometer), Quantity(value=0.0, unit=kilojoule/mole)]\n",
      "[8, 22, Quantity(value=0.004830083333333333, unit=elementary charge**2), Quantity(value=0.3399669508423535, unit=nanometer), Quantity(value=0.2288648, unit=kilojoule/mole)]\n",
      "[11, 22, Quantity(value=0.0, unit=elementary charge**2), Quantity(value=1.0, unit=nanometer), Quantity(value=0.0, unit=kilojoule/mole)]\n",
      "[12, 22, Quantity(value=0.07051425, unit=elementary charge**2), Quantity(value=0.3179795704786499, unit=nanometer), Quantity(value=0.3170881327580709, unit=kilojoule/mole)]\n",
      "[20, 22, Quantity(value=0.0, unit=elementary charge**2), Quantity(value=1.0, unit=nanometer), Quantity(value=0.0, unit=kilojoule/mole)]\n",
      "[21, 22, Quantity(value=0.0, unit=elementary charge**2), Quantity(value=1.0, unit=nanometer), Quantity(value=0.0, unit=kilojoule/mole)]\n",
      "[11, 23, Quantity(value=0.04858040000000001, unit=elementary charge**2), Quantity(value=0.2935511276272418, unit=nanometer), Quantity(value=0.07687068162049819, unit=kilojoule/mole)]\n",
      "[20, 23, Quantity(value=0.0, unit=elementary charge**2), Quantity(value=1.0, unit=nanometer), Quantity(value=0.0, unit=kilojoule/mole)]\n",
      "[21, 23, Quantity(value=0.022114533333333335, unit=elementary charge**2), Quantity(value=0.17702157529448542, unit=nanometer), Quantity(value=0.032844399999999996, unit=kilojoule/mole)]\n",
      "[22, 23, Quantity(value=0.0, unit=elementary charge**2), Quantity(value=1.0, unit=nanometer), Quantity(value=0.0, unit=kilojoule/mole)]\n",
      "[11, 24, Quantity(value=0.04858040000000001, unit=elementary charge**2), Quantity(value=0.2935511276272418, unit=nanometer), Quantity(value=0.07687068162049819, unit=kilojoule/mole)]\n",
      "[20, 24, Quantity(value=0.0, unit=elementary charge**2), Quantity(value=1.0, unit=nanometer), Quantity(value=0.0, unit=kilojoule/mole)]\n",
      "[21, 24, Quantity(value=0.022114533333333335, unit=elementary charge**2), Quantity(value=0.17702157529448542, unit=nanometer), Quantity(value=0.032844399999999996, unit=kilojoule/mole)]\n",
      "[22, 24, Quantity(value=0.0, unit=elementary charge**2), Quantity(value=1.0, unit=nanometer), Quantity(value=0.0, unit=kilojoule/mole)]\n",
      "[23, 24, Quantity(value=0.0, unit=elementary charge**2), Quantity(value=1.0, unit=nanometer), Quantity(value=0.0, unit=kilojoule/mole)]\n",
      "[11, 25, Quantity(value=0.04858040000000001, unit=elementary charge**2), Quantity(value=0.2935511276272418, unit=nanometer), Quantity(value=0.07687068162049819, unit=kilojoule/mole)]\n",
      "[20, 25, Quantity(value=0.0, unit=elementary charge**2), Quantity(value=1.0, unit=nanometer), Quantity(value=0.0, unit=kilojoule/mole)]\n",
      "[21, 25, Quantity(value=0.022114533333333335, unit=elementary charge**2), Quantity(value=0.17702157529448542, unit=nanometer), Quantity(value=0.032844399999999996, unit=kilojoule/mole)]\n",
      "[22, 25, Quantity(value=0.0, unit=elementary charge**2), Quantity(value=1.0, unit=nanometer), Quantity(value=0.0, unit=kilojoule/mole)]\n",
      "[23, 25, Quantity(value=0.0, unit=elementary charge**2), Quantity(value=1.0, unit=nanometer), Quantity(value=0.0, unit=kilojoule/mole)]\n",
      "[24, 25, Quantity(value=0.0, unit=elementary charge**2), Quantity(value=1.0, unit=nanometer), Quantity(value=0.0, unit=kilojoule/mole)]\n"
     ]
    }
   ],
   "source": [
    "# Check that the 1,4s involving unique new are off\n",
    "for i in range(new_system.getForce(3).getNumExceptions()):\n",
    "    print(new_system.getForce(3).getExceptionParameters(i))"
   ]
  },
  {
   "cell_type": "code",
   "execution_count": 22,
   "metadata": {},
   "outputs": [
    {
     "name": "stdout",
     "output_type": "stream",
     "text": [
      "ACE1-H1 0\n",
      "ACE1-CH3 1\n",
      "ACE1-H2 2\n",
      "ACE1-H3 3\n",
      "ACE1-C 4\n",
      "ACE1-O 5\n",
      "ALA2-N 6\n",
      "ALA2-H 7\n",
      "ALA2-CA 8\n",
      "ALA2-HA 9\n",
      "ALA2-CB 10\n",
      "ALA2-HB1 11\n",
      "ALA2-HB2 12\n",
      "ALA2-HB3 13\n",
      "ALA2-C 14\n",
      "ALA2-O 15\n",
      "ALA2-CB 22\n",
      "ALA2-HB 23\n",
      "ALA2-CG2 24\n",
      "ALA2-HG21 25\n",
      "ALA2-HG22 26\n",
      "ALA2-HG23 27\n",
      "ALA2-OG1 28\n",
      "ALA2-HG1 29\n",
      "NME3-N 16\n",
      "NME3-H 17\n",
      "NME3-C 18\n",
      "NME3-H1 19\n",
      "NME3-H2 20\n",
      "NME3-H3 21\n"
     ]
    }
   ],
   "source": [
    "for atom in htf_at.hybrid_topology.atoms:\n",
    "    print(atom, atom.index)"
   ]
  },
  {
   "cell_type": "code",
   "execution_count": 23,
   "metadata": {
    "scrolled": true
   },
   "outputs": [
    {
     "name": "stdout",
     "output_type": "stream",
     "text": [
      "<Atom 0 (H1) of chain 0 residue 0 (ACE)> 0\n",
      "<Atom 1 (CH3) of chain 0 residue 0 (ACE)> 1\n",
      "<Atom 2 (H2) of chain 0 residue 0 (ACE)> 2\n",
      "<Atom 3 (H3) of chain 0 residue 0 (ACE)> 3\n",
      "<Atom 4 (C) of chain 0 residue 0 (ACE)> 4\n",
      "<Atom 5 (O) of chain 0 residue 0 (ACE)> 5\n",
      "<Atom 6 (N) of chain 0 residue 1 (ALA)> 6\n",
      "<Atom 7 (H) of chain 0 residue 1 (ALA)> 7\n",
      "<Atom 8 (CA) of chain 0 residue 1 (ALA)> 8\n",
      "<Atom 9 (HA) of chain 0 residue 1 (ALA)> 9\n",
      "<Atom 10 (CB) of chain 0 residue 1 (ALA)> 10\n",
      "<Atom 11 (HB1) of chain 0 residue 1 (ALA)> 11\n",
      "<Atom 12 (HB2) of chain 0 residue 1 (ALA)> 12\n",
      "<Atom 13 (HB3) of chain 0 residue 1 (ALA)> 13\n",
      "<Atom 14 (C) of chain 0 residue 1 (ALA)> 14\n",
      "<Atom 15 (O) of chain 0 residue 1 (ALA)> 15\n",
      "<Atom 16 (N) of chain 0 residue 2 (NME)> 16\n",
      "<Atom 17 (H) of chain 0 residue 2 (NME)> 17\n",
      "<Atom 18 (C) of chain 0 residue 2 (NME)> 18\n",
      "<Atom 19 (H1) of chain 0 residue 2 (NME)> 19\n",
      "<Atom 20 (H2) of chain 0 residue 2 (NME)> 20\n",
      "<Atom 21 (H3) of chain 0 residue 2 (NME)> 21\n"
     ]
    }
   ],
   "source": [
    "for atom in htf_at._topology_proposal.old_topology.atoms():\n",
    "    print(atom, atom.index)"
   ]
  },
  {
   "cell_type": "code",
   "execution_count": 24,
   "metadata": {},
   "outputs": [
    {
     "name": "stdout",
     "output_type": "stream",
     "text": [
      "<Atom 0 (H1) of chain 0 residue 0 (ACE)> 0\n",
      "<Atom 1 (CH3) of chain 0 residue 0 (ACE)> 1\n",
      "<Atom 2 (H2) of chain 0 residue 0 (ACE)> 2\n",
      "<Atom 3 (H3) of chain 0 residue 0 (ACE)> 3\n",
      "<Atom 4 (C) of chain 0 residue 0 (ACE)> 4\n",
      "<Atom 5 (O) of chain 0 residue 0 (ACE)> 5\n",
      "<Atom 6 (N) of chain 0 residue 1 (THR)> 6\n",
      "<Atom 7 (H) of chain 0 residue 1 (THR)> 7\n",
      "<Atom 8 (CA) of chain 0 residue 1 (THR)> 8\n",
      "<Atom 9 (HA) of chain 0 residue 1 (THR)> 9\n",
      "<Atom 10 (CB) of chain 0 residue 1 (THR)> 10\n",
      "<Atom 11 (C) of chain 0 residue 1 (THR)> 11\n",
      "<Atom 12 (O) of chain 0 residue 1 (THR)> 12\n",
      "<Atom 13 (HB) of chain 0 residue 1 (THR)> 13\n",
      "<Atom 14 (CG2) of chain 0 residue 1 (THR)> 14\n",
      "<Atom 15 (HG21) of chain 0 residue 1 (THR)> 15\n",
      "<Atom 16 (HG22) of chain 0 residue 1 (THR)> 16\n",
      "<Atom 17 (HG23) of chain 0 residue 1 (THR)> 17\n",
      "<Atom 18 (OG1) of chain 0 residue 1 (THR)> 18\n",
      "<Atom 19 (HG1) of chain 0 residue 1 (THR)> 19\n",
      "<Atom 20 (N) of chain 0 residue 2 (NME)> 20\n",
      "<Atom 21 (H) of chain 0 residue 2 (NME)> 21\n",
      "<Atom 22 (C) of chain 0 residue 2 (NME)> 22\n",
      "<Atom 23 (H1) of chain 0 residue 2 (NME)> 23\n",
      "<Atom 24 (H2) of chain 0 residue 2 (NME)> 24\n",
      "<Atom 25 (H3) of chain 0 residue 2 (NME)> 25\n"
     ]
    }
   ],
   "source": [
    "for atom in htf_at._topology_proposal.new_topology.atoms():\n",
    "    print(atom, atom.index)"
   ]
  },
  {
   "cell_type": "code",
   "execution_count": 25,
   "metadata": {},
   "outputs": [
    {
     "name": "stderr",
     "output_type": "stream",
     "text": [
      "RDKit WARNING: [20:26:04] Enabling RDKit 2019.09.3 jupyter extensions\n",
      "INFO:relative:Beginning nonbonded method, total particle, barostat, and exceptions retrieval...\n",
      "INFO:relative:Old system forces: dict_keys(['HarmonicBondForce', 'HarmonicAngleForce', 'PeriodicTorsionForce', 'NonbondedForce'])\n",
      "INFO:relative:New system forces: dict_keys(['HarmonicBondForce', 'HarmonicAngleForce', 'PeriodicTorsionForce', 'NonbondedForce'])\n",
      "INFO:relative:No unknown forces.\n",
      "INFO:relative:Nonbonded method to be used (i.e. from old system): 0\n",
      "INFO:relative:Adding and mapping old atoms to hybrid system...\n",
      "INFO:relative:Adding and mapping new atoms to hybrid system...\n",
      "INFO:relative:No MonteCarloBarostat added.\n",
      "INFO:relative:getDefaultPeriodicBoxVectors added to hybrid: [Quantity(value=Vec3(x=2.0, y=0.0, z=0.0), unit=nanometer), Quantity(value=Vec3(x=0.0, y=2.0, z=0.0), unit=nanometer), Quantity(value=Vec3(x=0.0, y=0.0, z=2.0), unit=nanometer)]\n",
      "INFO:relative:Determined atom classes.\n",
      "INFO:relative:Generating old system exceptions dict...\n",
      "INFO:relative:Generating new system exceptions dict...\n",
      "INFO:relative:Handling constraints...\n",
      "INFO:relative:Handling virtual sites...\n",
      "INFO:relative:\t_handle_virtual_sites: numVirtualSites: 0\n",
      "INFO:relative:Adding bond force terms...\n",
      "INFO:relative:Adding angle force terms...\n",
      "INFO:relative:Adding torsion force terms...\n",
      "INFO:relative:Adding nonbonded force terms...\n",
      "INFO:relative:\t_add_nonbonded_force_terms: <simtk.openmm.openmm.NonbondedForce; proxy of <Swig Object of type 'OpenMM::NonbondedForce *' at 0x2ae5c357f060> > added to hybrid system\n",
      "INFO:relative:\t_add_nonbonded_force_terms: nonbonded_method is NoCutoff\n",
      "INFO:relative:\t_add_nonbonded_force_terms: 0 added to standard nonbonded force\n",
      "INFO:relative:\t_add_nonbonded_force_terms: 0 added to sterics_custom_nonbonded force\n",
      "INFO:relative:\t_add_nonbonded_force_terms: <simtk.openmm.openmm.CustomNonbondedForce; proxy of <Swig Object of type 'OpenMM::CustomNonbondedForce *' at 0x2ae5c357f0f0> > added to hybrid system\n",
      "INFO:relative:Handling harmonic bonds...\n",
      "INFO:relative:\thandle_harmonic_bonds: looping through old_system to add relevant terms...\n",
      "INFO:relative:\thandle_harmonic_bonds: looping through new_system to add relevant terms...\n",
      "INFO:relative:Handling harmonic angles...\n",
      "INFO:relative:\thandle_harmonic_angles: looping through old_system to add relevant terms...\n",
      "INFO:relative:\thandle_harmonic_angles: looping through new_system to add relevant terms...\n",
      "INFO:relative:Handling torsion forces...\n",
      "INFO:relative:\thandle_periodic_torsion_forces: looping through old_system to add relevant terms...\n",
      "INFO:relative:\thandle_periodic_torsion_forces: looping through new_system to add relevant terms...\n",
      "INFO:relative:Handling nonbonded forces...\n",
      "INFO:relative:\thandle_nonbonded: looping through all particles in hybrid...\n",
      "INFO:relative:\thandle_nonbonded: Handling Interaction Groups...\n",
      "INFO:relative:\thandle_nonbonded: Handling Hybrid Exceptions...\n",
      "INFO:relative:\thandle_nonbonded: Handling Original Exceptions...\n",
      "INFO:relative:Handling unique_new/old interaction exceptions...\n",
      "INFO:relative:There are old or new system exceptions...proceeding.\n"
     ]
    }
   ],
   "source": [
    "# Build new htf\n",
    "from perses.tests.test_topology_proposal import generate_atp\n",
    "htf_at._topology_proposal._old_system = old_system\n",
    "htf_at._topology_proposal._new_system = new_system\n",
    "\n",
    "from perses.annihilation.relative import HybridTopologyFactory\n",
    "htf = HybridTopologyFactory(topology_proposal=htf_at._topology_proposal,\n",
    "                     current_positions=htf_at.old_positions(htf_at.hybrid_positions),\n",
    "                     new_positions=htf_at.new_positions(htf_at.hybrid_positions),\n",
    "                     use_dispersion_correction=False,\n",
    "                     functions=None,\n",
    "                     softcore_alpha=None,\n",
    "                     bond_softening_constant=1.0,\n",
    "                     angle_softening_constant=1.0,\n",
    "                     soften_only_new=False,\n",
    "                     neglected_new_angle_terms=[],\n",
    "                     neglected_old_angle_terms=[],\n",
    "                     softcore_LJ_v2=True,\n",
    "                     softcore_electrostatics=True,\n",
    "                     softcore_LJ_v2_alpha=0.85,\n",
    "                     softcore_electrostatics_alpha=0.3,\n",
    "                     softcore_sigma_Q=1.0,\n",
    "                     interpolate_old_and_new_14s=False,\n",
    "                     omitted_terms=None,\n",
    "                     flatten_torsions=True)"
   ]
  },
  {
   "cell_type": "code",
   "execution_count": 26,
   "metadata": {},
   "outputs": [
    {
     "name": "stdout",
     "output_type": "stream",
     "text": [
      "0 <simtk.openmm.openmm.CustomBondForce; proxy of <Swig Object of type 'OpenMM::CustomBondForce *' at 0x2ae5c357f090> >\n",
      "1 <simtk.openmm.openmm.HarmonicBondForce; proxy of <Swig Object of type 'OpenMM::HarmonicBondForce *' at 0x2ae5c357f090> >\n",
      "2 <simtk.openmm.openmm.CustomAngleForce; proxy of <Swig Object of type 'OpenMM::CustomAngleForce *' at 0x2ae5c357f090> >\n",
      "3 <simtk.openmm.openmm.HarmonicAngleForce; proxy of <Swig Object of type 'OpenMM::HarmonicAngleForce *' at 0x2ae5c357f090> >\n",
      "4 <simtk.openmm.openmm.CustomTorsionForce; proxy of <Swig Object of type 'OpenMM::CustomTorsionForce *' at 0x2ae5c357f090> >\n",
      "5 <simtk.openmm.openmm.PeriodicTorsionForce; proxy of <Swig Object of type 'OpenMM::PeriodicTorsionForce *' at 0x2ae5c357f090> >\n",
      "6 <simtk.openmm.openmm.NonbondedForce; proxy of <Swig Object of type 'OpenMM::NonbondedForce *' at 0x2ae5c357f090> >\n",
      "7 <simtk.openmm.openmm.CustomNonbondedForce; proxy of <Swig Object of type 'OpenMM::CustomNonbondedForce *' at 0x2ae5c357f090> >\n",
      "8 <simtk.openmm.openmm.CustomBondForce; proxy of <Swig Object of type 'OpenMM::CustomBondForce *' at 0x2ae5c357f090> >\n"
     ]
    }
   ],
   "source": [
    "for i in range(htf.hybrid_system.getNumForces()):\n",
    "    print(i, htf.hybrid_system.getForce(i))"
   ]
  },
  {
   "cell_type": "code",
   "execution_count": 27,
   "metadata": {},
   "outputs": [
    {
     "name": "stdout",
     "output_type": "stream",
     "text": [
      "[10, 22, Quantity(value=0.0, unit=elementary charge**2), Quantity(value=1.0, unit=nanometer), Quantity(value=0.0, unit=kilojoule/mole)]\n",
      "[10, 23, Quantity(value=0.0, unit=elementary charge**2), Quantity(value=1.0, unit=nanometer), Quantity(value=0.0, unit=kilojoule/mole)]\n",
      "[10, 24, Quantity(value=0.0, unit=elementary charge**2), Quantity(value=1.0, unit=nanometer), Quantity(value=0.0, unit=kilojoule/mole)]\n",
      "[10, 25, Quantity(value=0.0, unit=elementary charge**2), Quantity(value=1.0, unit=nanometer), Quantity(value=0.0, unit=kilojoule/mole)]\n",
      "[10, 26, Quantity(value=0.0, unit=elementary charge**2), Quantity(value=1.0, unit=nanometer), Quantity(value=0.0, unit=kilojoule/mole)]\n",
      "[10, 27, Quantity(value=0.0, unit=elementary charge**2), Quantity(value=1.0, unit=nanometer), Quantity(value=0.0, unit=kilojoule/mole)]\n",
      "[10, 28, Quantity(value=0.0, unit=elementary charge**2), Quantity(value=1.0, unit=nanometer), Quantity(value=0.0, unit=kilojoule/mole)]\n",
      "[10, 29, Quantity(value=0.0, unit=elementary charge**2), Quantity(value=1.0, unit=nanometer), Quantity(value=0.0, unit=kilojoule/mole)]\n",
      "[11, 22, Quantity(value=0.0, unit=elementary charge**2), Quantity(value=1.0, unit=nanometer), Quantity(value=0.0, unit=kilojoule/mole)]\n",
      "[11, 23, Quantity(value=0.0, unit=elementary charge**2), Quantity(value=1.0, unit=nanometer), Quantity(value=0.0, unit=kilojoule/mole)]\n",
      "[11, 24, Quantity(value=0.0, unit=elementary charge**2), Quantity(value=1.0, unit=nanometer), Quantity(value=0.0, unit=kilojoule/mole)]\n",
      "[11, 25, Quantity(value=0.0, unit=elementary charge**2), Quantity(value=1.0, unit=nanometer), Quantity(value=0.0, unit=kilojoule/mole)]\n",
      "[11, 26, Quantity(value=0.0, unit=elementary charge**2), Quantity(value=1.0, unit=nanometer), Quantity(value=0.0, unit=kilojoule/mole)]\n",
      "[11, 27, Quantity(value=0.0, unit=elementary charge**2), Quantity(value=1.0, unit=nanometer), Quantity(value=0.0, unit=kilojoule/mole)]\n",
      "[11, 28, Quantity(value=0.0, unit=elementary charge**2), Quantity(value=1.0, unit=nanometer), Quantity(value=0.0, unit=kilojoule/mole)]\n",
      "[11, 29, Quantity(value=0.0, unit=elementary charge**2), Quantity(value=1.0, unit=nanometer), Quantity(value=0.0, unit=kilojoule/mole)]\n",
      "[12, 22, Quantity(value=0.0, unit=elementary charge**2), Quantity(value=1.0, unit=nanometer), Quantity(value=0.0, unit=kilojoule/mole)]\n",
      "[12, 23, Quantity(value=0.0, unit=elementary charge**2), Quantity(value=1.0, unit=nanometer), Quantity(value=0.0, unit=kilojoule/mole)]\n",
      "[12, 24, Quantity(value=0.0, unit=elementary charge**2), Quantity(value=1.0, unit=nanometer), Quantity(value=0.0, unit=kilojoule/mole)]\n",
      "[12, 25, Quantity(value=0.0, unit=elementary charge**2), Quantity(value=1.0, unit=nanometer), Quantity(value=0.0, unit=kilojoule/mole)]\n",
      "[12, 26, Quantity(value=0.0, unit=elementary charge**2), Quantity(value=1.0, unit=nanometer), Quantity(value=0.0, unit=kilojoule/mole)]\n",
      "[12, 27, Quantity(value=0.0, unit=elementary charge**2), Quantity(value=1.0, unit=nanometer), Quantity(value=0.0, unit=kilojoule/mole)]\n",
      "[12, 28, Quantity(value=0.0, unit=elementary charge**2), Quantity(value=1.0, unit=nanometer), Quantity(value=0.0, unit=kilojoule/mole)]\n",
      "[12, 29, Quantity(value=0.0, unit=elementary charge**2), Quantity(value=1.0, unit=nanometer), Quantity(value=0.0, unit=kilojoule/mole)]\n",
      "[13, 22, Quantity(value=0.0, unit=elementary charge**2), Quantity(value=1.0, unit=nanometer), Quantity(value=0.0, unit=kilojoule/mole)]\n",
      "[13, 23, Quantity(value=0.0, unit=elementary charge**2), Quantity(value=1.0, unit=nanometer), Quantity(value=0.0, unit=kilojoule/mole)]\n",
      "[13, 24, Quantity(value=0.0, unit=elementary charge**2), Quantity(value=1.0, unit=nanometer), Quantity(value=0.0, unit=kilojoule/mole)]\n",
      "[13, 25, Quantity(value=0.0, unit=elementary charge**2), Quantity(value=1.0, unit=nanometer), Quantity(value=0.0, unit=kilojoule/mole)]\n",
      "[13, 26, Quantity(value=0.0, unit=elementary charge**2), Quantity(value=1.0, unit=nanometer), Quantity(value=0.0, unit=kilojoule/mole)]\n",
      "[13, 27, Quantity(value=0.0, unit=elementary charge**2), Quantity(value=1.0, unit=nanometer), Quantity(value=0.0, unit=kilojoule/mole)]\n",
      "[13, 28, Quantity(value=0.0, unit=elementary charge**2), Quantity(value=1.0, unit=nanometer), Quantity(value=0.0, unit=kilojoule/mole)]\n",
      "[13, 29, Quantity(value=0.0, unit=elementary charge**2), Quantity(value=1.0, unit=nanometer), Quantity(value=0.0, unit=kilojoule/mole)]\n",
      "[10, 11, Quantity(value=0.0, unit=elementary charge**2), Quantity(value=1.0, unit=nanometer), Quantity(value=0.0, unit=kilojoule/mole)]\n",
      "[10, 12, Quantity(value=0.0, unit=elementary charge**2), Quantity(value=1.0, unit=nanometer), Quantity(value=0.0, unit=kilojoule/mole)]\n",
      "[10, 13, Quantity(value=0.0, unit=elementary charge**2), Quantity(value=1.0, unit=nanometer), Quantity(value=0.0, unit=kilojoule/mole)]\n",
      "[11, 12, Quantity(value=0.0, unit=elementary charge**2), Quantity(value=1.0, unit=nanometer), Quantity(value=0.0, unit=kilojoule/mole)]\n",
      "[11, 13, Quantity(value=0.0, unit=elementary charge**2), Quantity(value=1.0, unit=nanometer), Quantity(value=0.0, unit=kilojoule/mole)]\n",
      "[12, 13, Quantity(value=0.0, unit=elementary charge**2), Quantity(value=1.0, unit=nanometer), Quantity(value=0.0, unit=kilojoule/mole)]\n",
      "[22, 23, Quantity(value=0.0, unit=elementary charge**2), Quantity(value=1.0, unit=nanometer), Quantity(value=0.0, unit=kilojoule/mole)]\n",
      "[22, 24, Quantity(value=0.0, unit=elementary charge**2), Quantity(value=1.0, unit=nanometer), Quantity(value=0.0, unit=kilojoule/mole)]\n",
      "[22, 25, Quantity(value=0.0, unit=elementary charge**2), Quantity(value=1.0, unit=nanometer), Quantity(value=0.0, unit=kilojoule/mole)]\n",
      "[22, 26, Quantity(value=0.0, unit=elementary charge**2), Quantity(value=1.0, unit=nanometer), Quantity(value=0.0, unit=kilojoule/mole)]\n",
      "[22, 27, Quantity(value=0.0, unit=elementary charge**2), Quantity(value=1.0, unit=nanometer), Quantity(value=0.0, unit=kilojoule/mole)]\n",
      "[22, 28, Quantity(value=0.0, unit=elementary charge**2), Quantity(value=1.0, unit=nanometer), Quantity(value=0.0, unit=kilojoule/mole)]\n",
      "[22, 29, Quantity(value=0.0, unit=elementary charge**2), Quantity(value=1.0, unit=nanometer), Quantity(value=0.0, unit=kilojoule/mole)]\n",
      "[23, 24, Quantity(value=0.0, unit=elementary charge**2), Quantity(value=1.0, unit=nanometer), Quantity(value=0.0, unit=kilojoule/mole)]\n",
      "[23, 25, Quantity(value=0.00023004999999999998, unit=elementary charge**2), Quantity(value=0.2560442915935335, unit=nanometer), Quantity(value=0.032844399999999996, unit=kilojoule/mole)]\n",
      "[23, 26, Quantity(value=0.0, unit=elementary charge**2), Quantity(value=0.2560442915935335, unit=nanometer), Quantity(value=0.0, unit=kilojoule/mole)]\n",
      "[23, 27, Quantity(value=0.00023004999999999998, unit=elementary charge**2), Quantity(value=0.2560442915935335, unit=nanometer), Quantity(value=0.032844399999999996, unit=kilojoule/mole)]\n",
      "[23, 28, Quantity(value=0.0, unit=elementary charge**2), Quantity(value=1.0, unit=nanometer), Quantity(value=0.0, unit=kilojoule/mole)]\n",
      "[23, 29, Quantity(value=0.0014698833333333333, unit=elementary charge**2), Quantity(value=0.623567652206065, unit=nanometer), Quantity(value=0.0, unit=kilojoule/mole)]\n",
      "[24, 25, Quantity(value=0.0, unit=elementary charge**2), Quantity(value=1.0, unit=nanometer), Quantity(value=0.0, unit=kilojoule/mole)]\n",
      "[24, 26, Quantity(value=0.0, unit=elementary charge**2), Quantity(value=1.0, unit=nanometer), Quantity(value=0.0, unit=kilojoule/mole)]\n",
      "[24, 27, Quantity(value=0.0, unit=elementary charge**2), Quantity(value=1.0, unit=nanometer), Quantity(value=0.0, unit=kilojoule/mole)]\n",
      "[24, 28, Quantity(value=0.0, unit=elementary charge**2), Quantity(value=1.0, unit=nanometer), Quantity(value=0.0, unit=kilojoule/mole)]\n",
      "[24, 29, Quantity(value=-0.08333896666666667, unit=elementary charge**2), Quantity(value=0.6699834754211768, unit=nanometer), Quantity(value=0.0, unit=kilojoule/mole)]\n",
      "[25, 26, Quantity(value=0.0, unit=elementary charge**2), Quantity(value=1.0, unit=nanometer), Quantity(value=0.0, unit=kilojoule/mole)]\n",
      "[25, 27, Quantity(value=0.0, unit=elementary charge**2), Quantity(value=1.0, unit=nanometer), Quantity(value=0.0, unit=kilojoule/mole)]\n",
      "[25, 28, Quantity(value=0.0, unit=elementary charge**2), Quantity(value=0.28580030877942086, unit=nanometer), Quantity(value=0.0, unit=kilojoule/mole)]\n",
      "[26, 27, Quantity(value=0.0, unit=elementary charge**2), Quantity(value=1.0, unit=nanometer), Quantity(value=0.0, unit=kilojoule/mole)]\n",
      "[26, 28, Quantity(value=-0.03617135, unit=elementary charge**2), Quantity(value=0.28580030877942086, unit=nanometer), Quantity(value=0.12023595968727492, unit=kilojoule/mole)]\n",
      "[27, 28, Quantity(value=-0.03617135, unit=elementary charge**2), Quantity(value=0.28580030877942086, unit=nanometer), Quantity(value=0.12023595968727492, unit=kilojoule/mole)]\n",
      "[28, 29, Quantity(value=0.0, unit=elementary charge**2), Quantity(value=1.0, unit=nanometer), Quantity(value=0.0, unit=kilojoule/mole)]\n",
      "[0, 1, Quantity(value=0.0, unit=elementary charge**2), Quantity(value=1.0, unit=nanometer), Quantity(value=0.0, unit=kilojoule/mole)]\n",
      "[0, 2, Quantity(value=0.0, unit=elementary charge**2), Quantity(value=1.0, unit=nanometer), Quantity(value=0.0, unit=kilojoule/mole)]\n",
      "[1, 2, Quantity(value=0.0, unit=elementary charge**2), Quantity(value=1.0, unit=nanometer), Quantity(value=0.0, unit=kilojoule/mole)]\n",
      "[0, 3, Quantity(value=0.0, unit=elementary charge**2), Quantity(value=1.0, unit=nanometer), Quantity(value=0.0, unit=kilojoule/mole)]\n",
      "[1, 3, Quantity(value=0.0, unit=elementary charge**2), Quantity(value=1.0, unit=nanometer), Quantity(value=0.0, unit=kilojoule/mole)]\n",
      "[2, 3, Quantity(value=0.0, unit=elementary charge**2), Quantity(value=1.0, unit=nanometer), Quantity(value=0.0, unit=kilojoule/mole)]\n",
      "[0, 4, Quantity(value=0.0, unit=elementary charge**2), Quantity(value=1.0, unit=nanometer), Quantity(value=0.0, unit=kilojoule/mole)]\n",
      "[1, 4, Quantity(value=0.0, unit=elementary charge**2), Quantity(value=1.0, unit=nanometer), Quantity(value=0.0, unit=kilojoule/mole)]\n",
      "[2, 4, Quantity(value=0.0, unit=elementary charge**2), Quantity(value=1.0, unit=nanometer), Quantity(value=0.0, unit=kilojoule/mole)]\n",
      "[3, 4, Quantity(value=0.0, unit=elementary charge**2), Quantity(value=1.0, unit=nanometer), Quantity(value=0.0, unit=kilojoule/mole)]\n",
      "[0, 5, Quantity(value=-0.053145975, unit=elementary charge**2), Quantity(value=0.2804727344449416, unit=nanometer), Quantity(value=0.12012161257658839, unit=kilojoule/mole)]\n",
      "[1, 5, Quantity(value=0.0, unit=elementary charge**2), Quantity(value=1.0, unit=nanometer), Quantity(value=0.0, unit=kilojoule/mole)]\n",
      "[2, 5, Quantity(value=-0.053145975, unit=elementary charge**2), Quantity(value=0.2804727344449416, unit=nanometer), Quantity(value=0.12012161257658839, unit=kilojoule/mole)]\n",
      "[3, 5, Quantity(value=-0.053145975, unit=elementary charge**2), Quantity(value=0.2804727344449416, unit=nanometer), Quantity(value=0.12012161257658839, unit=kilojoule/mole)]\n",
      "[4, 5, Quantity(value=0.0, unit=elementary charge**2), Quantity(value=1.0, unit=nanometer), Quantity(value=0.0, unit=kilojoule/mole)]\n",
      "[0, 6, Quantity(value=-0.03890259166666667, unit=elementary charge**2), Quantity(value=0.2949765655762664, unit=nanometer), Quantity(value=0.10807766844265286, unit=kilojoule/mole)]\n",
      "[1, 6, Quantity(value=0.0, unit=elementary charge**2), Quantity(value=1.0, unit=nanometer), Quantity(value=0.0, unit=kilojoule/mole)]\n",
      "[2, 6, Quantity(value=-0.03890259166666667, unit=elementary charge**2), Quantity(value=0.2949765655762664, unit=nanometer), Quantity(value=0.10807766844265286, unit=kilojoule/mole)]\n",
      "[3, 6, Quantity(value=-0.03890259166666667, unit=elementary charge**2), Quantity(value=0.2949765655762664, unit=nanometer), Quantity(value=0.10807766844265286, unit=kilojoule/mole)]\n",
      "[4, 6, Quantity(value=0.0, unit=elementary charge**2), Quantity(value=1.0, unit=nanometer), Quantity(value=0.0, unit=kilojoule/mole)]\n",
      "[5, 6, Quantity(value=0.0, unit=elementary charge**2), Quantity(value=1.0, unit=nanometer), Quantity(value=0.0, unit=kilojoule/mole)]\n",
      "[1, 7, Quantity(value=-0.08297481666666667, unit=elementary charge**2), Quantity(value=0.2234373985095971, unit=nanometer), Quantity(value=0.08670021359327784, unit=kilojoule/mole)]\n",
      "[4, 7, Quantity(value=0.0, unit=elementary charge**2), Quantity(value=1.0, unit=nanometer), Quantity(value=0.0, unit=kilojoule/mole)]\n",
      "[5, 7, Quantity(value=-0.128676675, unit=elementary charge**2), Quantity(value=0.20145001814589353, unit=nanometer), Quantity(value=0.12012161257658839, unit=kilojoule/mole)]\n",
      "[6, 7, Quantity(value=0.0, unit=elementary charge**2), Quantity(value=1.0, unit=nanometer), Quantity(value=0.0, unit=kilojoule/mole)]\n",
      "[1, 8, Quantity(value=-0.010284116666666667, unit=elementary charge**2), Quantity(value=0.3399669508423535, unit=nanometer), Quantity(value=0.2288648, unit=kilojoule/mole)]\n",
      "[4, 8, Quantity(value=0.0, unit=elementary charge**2), Quantity(value=1.0, unit=nanometer), Quantity(value=0.0, unit=kilojoule/mole)]\n",
      "[5, 8, Quantity(value=-0.015948525, unit=elementary charge**2), Quantity(value=0.3179795704786499, unit=nanometer), Quantity(value=0.3170881327580709, unit=kilojoule/mole)]\n",
      "[6, 8, Quantity(value=0.0, unit=elementary charge**2), Quantity(value=1.0, unit=nanometer), Quantity(value=0.0, unit=kilojoule/mole)]\n",
      "[7, 8, Quantity(value=0.0, unit=elementary charge**2), Quantity(value=1.0, unit=nanometer), Quantity(value=0.0, unit=kilojoule/mole)]\n",
      "[4, 9, Quantity(value=0.040957966666666665, unit=elementary charge**2), Quantity(value=0.2935511276272418, unit=nanometer), Quantity(value=0.07687068162049819, unit=kilojoule/mole)]\n",
      "[6, 9, Quantity(value=0.0, unit=elementary charge**2), Quantity(value=1.0, unit=nanometer), Quantity(value=0.0, unit=kilojoule/mole)]\n",
      "[7, 9, Quantity(value=0.01864780833333333, unit=elementary charge**2), Quantity(value=0.17702157529448542, unit=nanometer), Quantity(value=0.032844399999999996, unit=kilojoule/mole)]\n",
      "[8, 9, Quantity(value=0.0, unit=elementary charge**2), Quantity(value=1.0, unit=nanometer), Quantity(value=0.0, unit=kilojoule/mole)]\n",
      "[4, 10, Quantity(value=-0.09082416666666666, unit=elementary charge**2), Quantity(value=0.3399669508423535, unit=nanometer), Quantity(value=0.20291752979375635, unit=kilojoule/mole)]\n",
      "[6, 10, Quantity(value=0.0, unit=elementary charge**2), Quantity(value=1.0, unit=nanometer), Quantity(value=0.0, unit=kilojoule/mole)]\n",
      "[7, 10, Quantity(value=0.0, unit=elementary charge**2), Quantity(value=0.2234373985095971, unit=nanometer), Quantity(value=0.0, unit=kilojoule/mole)]\n",
      "[8, 10, Quantity(value=0.0, unit=elementary charge**2), Quantity(value=1.0, unit=nanometer), Quantity(value=0.0, unit=kilojoule/mole)]\n",
      "[9, 10, Quantity(value=0.0, unit=elementary charge**2), Quantity(value=1.0, unit=nanometer), Quantity(value=0.0, unit=kilojoule/mole)]\n",
      "[6, 11, Quantity(value=-0.020888925000000003, unit=elementary charge**2), Quantity(value=0.2949765655762664, unit=nanometer), Quantity(value=0.10807766844265286, unit=kilojoule/mole)]\n",
      "[8, 11, Quantity(value=0.0, unit=elementary charge**2), Quantity(value=1.0, unit=nanometer), Quantity(value=0.0, unit=kilojoule/mole)]\n",
      "[9, 11, Quantity(value=0.004135575, unit=elementary charge**2), Quantity(value=0.2560442915935335, unit=nanometer), Quantity(value=0.032844399999999996, unit=kilojoule/mole)]\n",
      "[6, 12, Quantity(value=-0.020888925000000003, unit=elementary charge**2), Quantity(value=0.2949765655762664, unit=nanometer), Quantity(value=0.10807766844265286, unit=kilojoule/mole)]\n",
      "[8, 12, Quantity(value=0.0, unit=elementary charge**2), Quantity(value=1.0, unit=nanometer), Quantity(value=0.0, unit=kilojoule/mole)]\n",
      "[9, 12, Quantity(value=0.0, unit=elementary charge**2), Quantity(value=0.2560442915935335, unit=nanometer), Quantity(value=0.0, unit=kilojoule/mole)]\n",
      "[6, 13, Quantity(value=-0.020888925000000003, unit=elementary charge**2), Quantity(value=0.2949765655762664, unit=nanometer), Quantity(value=0.10807766844265286, unit=kilojoule/mole)]\n",
      "[8, 13, Quantity(value=0.0, unit=elementary charge**2), Quantity(value=1.0, unit=nanometer), Quantity(value=0.0, unit=kilojoule/mole)]\n",
      "[9, 13, Quantity(value=0.004135575, unit=elementary charge**2), Quantity(value=0.2560442915935335, unit=nanometer), Quantity(value=0.032844399999999996, unit=kilojoule/mole)]\n",
      "[4, 14, Quantity(value=0.29725630000000003, unit=elementary charge**2), Quantity(value=0.3399669508423535, unit=nanometer), Quantity(value=0.179912, unit=kilojoule/mole)]\n",
      "[6, 14, Quantity(value=0.0, unit=elementary charge**2), Quantity(value=1.0, unit=nanometer), Quantity(value=0.0, unit=kilojoule/mole)]\n",
      "[7, 14, Quantity(value=0.135338225, unit=elementary charge**2), Quantity(value=0.2234373985095971, unit=nanometer), Quantity(value=0.07687068162049819, unit=kilojoule/mole)]\n",
      "[8, 14, Quantity(value=0.0, unit=elementary charge**2), Quantity(value=1.0, unit=nanometer), Quantity(value=0.0, unit=kilojoule/mole)]\n",
      "[9, 14, Quantity(value=0.0, unit=elementary charge**2), Quantity(value=1.0, unit=nanometer), Quantity(value=0.0, unit=kilojoule/mole)]\n",
      "[10, 14, Quantity(value=0.0, unit=elementary charge**2), Quantity(value=1.0, unit=nanometer), Quantity(value=0.0, unit=kilojoule/mole)]\n",
      "[11, 14, Quantity(value=0.0, unit=elementary charge**2), Quantity(value=0.3024601148086452, unit=nanometer), Quantity(value=0.0, unit=kilojoule/mole)]\n",
      "[12, 14, Quantity(value=0.030014325000000005, unit=elementary charge**2), Quantity(value=0.3024601148086452, unit=nanometer), Quantity(value=0.07687068162049819, unit=kilojoule/mole)]\n",
      "[13, 14, Quantity(value=0.030014325000000005, unit=elementary charge**2), Quantity(value=0.3024601148086452, unit=nanometer), Quantity(value=0.07687068162049819, unit=kilojoule/mole)]\n",
      "[6, 15, Quantity(value=0.196730025, unit=elementary charge**2), Quantity(value=0.31049602124627107, unit=nanometer), Quantity(value=0.3952717606912996, unit=kilojoule/mole)]\n",
      "[8, 15, Quantity(value=0.0, unit=elementary charge**2), Quantity(value=1.0, unit=nanometer), Quantity(value=0.0, unit=kilojoule/mole)]\n",
      "[9, 15, Quantity(value=-0.038948474999999996, unit=elementary charge**2), Quantity(value=0.2715637472635382, unit=nanometer), Quantity(value=0.12012161257658839, unit=kilojoule/mole)]\n",
      "[10, 15, Quantity(value=0.086368125, unit=elementary charge**2), Quantity(value=0.3179795704786499, unit=nanometer), Quantity(value=0.3170881327580709, unit=kilojoule/mole)]\n",
      "[14, 15, Quantity(value=0.0, unit=elementary charge**2), Quantity(value=1.0, unit=nanometer), Quantity(value=0.0, unit=kilojoule/mole)]\n",
      "[6, 16, Quantity(value=0.14400540833333336, unit=elementary charge**2), Quantity(value=0.3249998523775958, unit=nanometer), Quantity(value=0.35564000000000007, unit=kilojoule/mole)]\n",
      "[8, 16, Quantity(value=0.0, unit=elementary charge**2), Quantity(value=1.0, unit=nanometer), Quantity(value=0.0, unit=kilojoule/mole)]\n",
      "[9, 16, Quantity(value=-0.028510091666666668, unit=elementary charge**2), Quantity(value=0.28606757839486296, unit=nanometer), Quantity(value=0.10807766844265286, unit=kilojoule/mole)]\n",
      "[10, 16, Quantity(value=0.06322104166666667, unit=elementary charge**2), Quantity(value=0.3324834016099747, unit=nanometer), Quantity(value=0.28529542140034425, unit=kilojoule/mole)]\n",
      "[14, 16, Quantity(value=0.0, unit=elementary charge**2), Quantity(value=1.0, unit=nanometer), Quantity(value=0.0, unit=kilojoule/mole)]\n",
      "[15, 16, Quantity(value=0.0, unit=elementary charge**2), Quantity(value=1.0, unit=nanometer), Quantity(value=0.0, unit=kilojoule/mole)]\n",
      "[8, 17, Quantity(value=0.007635858333333333, unit=elementary charge**2), Quantity(value=0.2234373985095971, unit=nanometer), Quantity(value=0.08670021359327784, unit=kilojoule/mole)]\n",
      "[14, 17, Quantity(value=0.0, unit=elementary charge**2), Quantity(value=1.0, unit=nanometer), Quantity(value=0.0, unit=kilojoule/mole)]\n",
      "[15, 17, Quantity(value=-0.128676675, unit=elementary charge**2), Quantity(value=0.20145001814589353, unit=nanometer), Quantity(value=0.12012161257658839, unit=kilojoule/mole)]\n",
      "[16, 17, Quantity(value=0.0, unit=elementary charge**2), Quantity(value=1.0, unit=nanometer), Quantity(value=0.0, unit=kilojoule/mole)]\n",
      "[8, 18, Quantity(value=-0.004184416666666667, unit=elementary charge**2), Quantity(value=0.3399669508423535, unit=nanometer), Quantity(value=0.2288648, unit=kilojoule/mole)]\n",
      "[14, 18, Quantity(value=0.0, unit=elementary charge**2), Quantity(value=1.0, unit=nanometer), Quantity(value=0.0, unit=kilojoule/mole)]\n",
      "[15, 18, Quantity(value=0.07051425, unit=elementary charge**2), Quantity(value=0.3179795704786499, unit=nanometer), Quantity(value=0.3170881327580709, unit=kilojoule/mole)]\n",
      "[16, 18, Quantity(value=0.0, unit=elementary charge**2), Quantity(value=1.0, unit=nanometer), Quantity(value=0.0, unit=kilojoule/mole)]\n",
      "[17, 18, Quantity(value=0.0, unit=elementary charge**2), Quantity(value=1.0, unit=nanometer), Quantity(value=0.0, unit=kilojoule/mole)]\n",
      "[14, 19, Quantity(value=0.04858040000000001, unit=elementary charge**2), Quantity(value=0.2935511276272418, unit=nanometer), Quantity(value=0.07687068162049819, unit=kilojoule/mole)]\n",
      "[16, 19, Quantity(value=0.0, unit=elementary charge**2), Quantity(value=1.0, unit=nanometer), Quantity(value=0.0, unit=kilojoule/mole)]\n",
      "[17, 19, Quantity(value=0.022114533333333335, unit=elementary charge**2), Quantity(value=0.17702157529448542, unit=nanometer), Quantity(value=0.032844399999999996, unit=kilojoule/mole)]\n",
      "[18, 19, Quantity(value=0.0, unit=elementary charge**2), Quantity(value=1.0, unit=nanometer), Quantity(value=0.0, unit=kilojoule/mole)]\n",
      "[14, 20, Quantity(value=0.04858040000000001, unit=elementary charge**2), Quantity(value=0.2935511276272418, unit=nanometer), Quantity(value=0.07687068162049819, unit=kilojoule/mole)]\n",
      "[16, 20, Quantity(value=0.0, unit=elementary charge**2), Quantity(value=1.0, unit=nanometer), Quantity(value=0.0, unit=kilojoule/mole)]\n",
      "[17, 20, Quantity(value=0.022114533333333335, unit=elementary charge**2), Quantity(value=0.17702157529448542, unit=nanometer), Quantity(value=0.032844399999999996, unit=kilojoule/mole)]\n",
      "[18, 20, Quantity(value=0.0, unit=elementary charge**2), Quantity(value=1.0, unit=nanometer), Quantity(value=0.0, unit=kilojoule/mole)]\n",
      "[19, 20, Quantity(value=0.0, unit=elementary charge**2), Quantity(value=1.0, unit=nanometer), Quantity(value=0.0, unit=kilojoule/mole)]\n",
      "[14, 21, Quantity(value=0.04858040000000001, unit=elementary charge**2), Quantity(value=0.2935511276272418, unit=nanometer), Quantity(value=0.07687068162049819, unit=kilojoule/mole)]\n",
      "[16, 21, Quantity(value=0.0, unit=elementary charge**2), Quantity(value=1.0, unit=nanometer), Quantity(value=0.0, unit=kilojoule/mole)]\n",
      "[17, 21, Quantity(value=0.022114533333333335, unit=elementary charge**2), Quantity(value=0.17702157529448542, unit=nanometer), Quantity(value=0.032844399999999996, unit=kilojoule/mole)]\n",
      "[18, 21, Quantity(value=0.0, unit=elementary charge**2), Quantity(value=1.0, unit=nanometer), Quantity(value=0.0, unit=kilojoule/mole)]\n",
      "[19, 21, Quantity(value=0.0, unit=elementary charge**2), Quantity(value=1.0, unit=nanometer), Quantity(value=0.0, unit=kilojoule/mole)]\n",
      "[20, 21, Quantity(value=0.0, unit=elementary charge**2), Quantity(value=1.0, unit=nanometer), Quantity(value=0.0, unit=kilojoule/mole)]\n",
      "[4, 22, Quantity(value=0.1818474, unit=elementary charge**2), Quantity(value=0.3399669508423535, unit=nanometer), Quantity(value=0.20291752979375635, unit=kilojoule/mole)]\n",
      "[6, 22, Quantity(value=0.0, unit=elementary charge**2), Quantity(value=1.0, unit=nanometer), Quantity(value=0.0, unit=kilojoule/mole)]\n",
      "[7, 22, Quantity(value=0.0, unit=elementary charge**2), Quantity(value=0.2234373985095971, unit=nanometer), Quantity(value=0.0, unit=kilojoule/mole)]\n",
      "[8, 22, Quantity(value=0.0, unit=elementary charge**2), Quantity(value=1.0, unit=nanometer), Quantity(value=0.0, unit=kilojoule/mole)]\n",
      "[9, 22, Quantity(value=0.0, unit=elementary charge**2), Quantity(value=1.0, unit=nanometer), Quantity(value=0.0, unit=kilojoule/mole)]\n",
      "[22, 14, Quantity(value=0.0, unit=elementary charge**2), Quantity(value=1.0, unit=nanometer), Quantity(value=0.0, unit=kilojoule/mole)]\n",
      "[22, 15, Quantity(value=-0.17292554999999998, unit=elementary charge**2), Quantity(value=0.3179795704786499, unit=nanometer), Quantity(value=0.3170881327580709, unit=kilojoule/mole)]\n",
      "[6, 23, Quantity(value=-0.001489591666666667, unit=elementary charge**2), Quantity(value=0.28606757839486296, unit=nanometer), Quantity(value=0.10807766844265286, unit=kilojoule/mole)]\n",
      "[8, 23, Quantity(value=0.0, unit=elementary charge**2), Quantity(value=1.0, unit=nanometer), Quantity(value=0.0, unit=kilojoule/mole)]\n",
      "[9, 23, Quantity(value=0.0003608416666666667, unit=elementary charge**2), Quantity(value=0.2471353044121301, unit=nanometer), Quantity(value=0.032844399999999996, unit=kilojoule/mole)]\n",
      "[14, 23, Quantity(value=0.002140325, unit=elementary charge**2), Quantity(value=0.2935511276272418, unit=nanometer), Quantity(value=0.07687068162049819, unit=kilojoule/mole)]\n",
      "[6, 24, Quantity(value=0.08445638333333334, unit=elementary charge**2), Quantity(value=0.3324834016099747, unit=nanometer), Quantity(value=0.28529542140034425, unit=kilojoule/mole)]\n",
      "[8, 24, Quantity(value=0.0, unit=elementary charge**2), Quantity(value=1.0, unit=nanometer), Quantity(value=0.0, unit=kilojoule/mole)]\n",
      "[9, 24, Quantity(value=-0.020458883333333334, unit=elementary charge**2), Quantity(value=0.2935511276272418, unit=nanometer), Quantity(value=0.08670021359327784, unit=kilojoule/mole)]\n",
      "[14, 24, Quantity(value=0.0, unit=elementary charge**2), Quantity(value=0.3399669508423535, unit=nanometer), Quantity(value=0.0, unit=kilojoule/mole)]\n",
      "[8, 25, Quantity(value=-0.0020811499999999995, unit=elementary charge**2), Quantity(value=0.3024601148086452, unit=nanometer), Quantity(value=0.08670021359327784, unit=kilojoule/mole)]\n",
      "[8, 26, Quantity(value=-0.0020811499999999995, unit=elementary charge**2), Quantity(value=0.3024601148086452, unit=nanometer), Quantity(value=0.08670021359327784, unit=kilojoule/mole)]\n",
      "[8, 27, Quantity(value=-0.0020811499999999995, unit=elementary charge**2), Quantity(value=0.3024601148086452, unit=nanometer), Quantity(value=0.08670021359327784, unit=kilojoule/mole)]\n",
      "[6, 28, Quantity(value=0.23421230833333337, unit=elementary charge**2), Quantity(value=0.31582359558075035, unit=nanometer), Quantity(value=0.3956480308961489, unit=kilojoule/mole)]\n",
      "[8, 28, Quantity(value=0.0, unit=elementary charge**2), Quantity(value=1.0, unit=nanometer), Quantity(value=0.0, unit=kilojoule/mole)]\n",
      "[9, 28, Quantity(value=-0.05673605833333334, unit=elementary charge**2), Quantity(value=0.27689132159801744, unit=nanometer), Quantity(value=0.12023595968727492, unit=kilojoule/mole)]\n",
      "[14, 28, Quantity(value=-0.33652877500000006, unit=elementary charge**2), Quantity(value=0.32330714481312917, unit=nanometer), Quantity(value=0.2814062724986776, unit=kilojoule/mole)]\n",
      "[8, 29, Quantity(value=-0.013297316666666666, unit=elementary charge**2), Quantity(value=0.6699834754211768, unit=nanometer), Quantity(value=0.0, unit=kilojoule/mole)]\n",
      "[22, 16, Quantity(value=-0.12658065, unit=elementary charge**2), Quantity(value=0.3324834016099747, unit=nanometer), Quantity(value=0.28529542140034425, unit=kilojoule/mole)]\n"
     ]
    }
   ],
   "source": [
    "# Check that the 1,4s involving unique new are off\n",
    "for i in range(htf.hybrid_system.getForce(6).getNumExceptions()):\n",
    "    print(htf.hybrid_system.getForce(6).getExceptionParameters(i))"
   ]
  },
  {
   "cell_type": "code",
   "execution_count": 28,
   "metadata": {},
   "outputs": [
    {
     "name": "stdout",
     "output_type": "stream",
     "text": [
      "<Atom 0 (H1) of chain 0 residue 0 (ACE)>\n",
      "<Atom 1 (CH3) of chain 0 residue 0 (ACE)>\n",
      "<Atom 2 (H2) of chain 0 residue 0 (ACE)>\n",
      "<Atom 3 (H3) of chain 0 residue 0 (ACE)>\n",
      "<Atom 4 (C) of chain 0 residue 0 (ACE)>\n",
      "<Atom 5 (O) of chain 0 residue 0 (ACE)>\n",
      "<Atom 6 (N) of chain 0 residue 1 (ALA)>\n",
      "<Atom 7 (H) of chain 0 residue 1 (ALA)>\n",
      "<Atom 8 (CA) of chain 0 residue 1 (ALA)>\n",
      "<Atom 9 (HA) of chain 0 residue 1 (ALA)>\n",
      "<Atom 10 (CB) of chain 0 residue 1 (ALA)>\n",
      "<Atom 11 (HB1) of chain 0 residue 1 (ALA)>\n",
      "<Atom 12 (HB2) of chain 0 residue 1 (ALA)>\n",
      "<Atom 13 (HB3) of chain 0 residue 1 (ALA)>\n",
      "<Atom 14 (C) of chain 0 residue 1 (ALA)>\n",
      "<Atom 15 (O) of chain 0 residue 1 (ALA)>\n",
      "<Atom 16 (N) of chain 0 residue 2 (NME)>\n",
      "<Atom 17 (H) of chain 0 residue 2 (NME)>\n",
      "<Atom 18 (C) of chain 0 residue 2 (NME)>\n",
      "<Atom 19 (H1) of chain 0 residue 2 (NME)>\n",
      "<Atom 20 (H2) of chain 0 residue 2 (NME)>\n",
      "<Atom 21 (H3) of chain 0 residue 2 (NME)>\n"
     ]
    }
   ],
   "source": [
    "for atom in htf._topology_proposal.old_topology.atoms():\n",
    "    print(atom)"
   ]
  },
  {
   "cell_type": "code",
   "execution_count": 24,
   "metadata": {},
   "outputs": [
    {
     "name": "stdout",
     "output_type": "stream",
     "text": [
      "ACE1-H1 0\n",
      "ACE1-CH3 1\n",
      "ACE1-H2 2\n",
      "ACE1-H3 3\n",
      "ACE1-C 4\n",
      "ACE1-O 5\n",
      "ALA2-N 6\n",
      "ALA2-H 7\n",
      "ALA2-CA 8\n",
      "ALA2-HA 9\n",
      "ALA2-CB 10\n",
      "ALA2-HB1 11\n",
      "ALA2-HB2 12\n",
      "ALA2-HB3 13\n",
      "ALA2-C 14\n",
      "ALA2-O 15\n",
      "ALA2-CB 22\n",
      "ALA2-HB 23\n",
      "ALA2-CG2 24\n",
      "ALA2-HG21 25\n",
      "ALA2-HG22 26\n",
      "ALA2-HG23 27\n",
      "ALA2-OG1 28\n",
      "ALA2-HG1 29\n",
      "NME3-N 16\n",
      "NME3-H 17\n",
      "NME3-C 18\n",
      "NME3-H1 19\n",
      "NME3-H2 20\n",
      "NME3-H3 21\n"
     ]
    }
   ],
   "source": [
    "for atom in htf.hybrid_topology.atoms:\n",
    "    print(atom, atom.index)"
   ]
  },
  {
   "cell_type": "code",
   "execution_count": 33,
   "metadata": {
    "scrolled": true
   },
   "outputs": [
    {
     "name": "stderr",
     "output_type": "stream",
     "text": [
      "100%|██████████| 10000/10000 [00:01<00:00, 5982.34it/s]\n"
     ]
    },
    {
     "name": "stdout",
     "output_type": "stream",
     "text": [
      "1.0471988\n",
      "10.066165007672403\n"
     ]
    },
    {
     "name": "stderr",
     "output_type": "stream",
     "text": [
      "INFO:root:Rotating by 0.26199995022480693 radians\n",
      "INFO:root:Rotating by 0.2619999999999929 radians\n"
     ]
    },
    {
     "name": "stdout",
     "output_type": "stream",
     "text": [
      "13.615615490399003\n"
     ]
    },
    {
     "name": "stderr",
     "output_type": "stream",
     "text": [
      "INFO:root:Rotating by 0.26200000000000334 radians\n"
     ]
    },
    {
     "name": "stdout",
     "output_type": "stream",
     "text": [
      "7.912438805931591\n"
     ]
    },
    {
     "name": "stderr",
     "output_type": "stream",
     "text": [
      "INFO:root:Rotating by 0.26199999999999823 radians\n"
     ]
    },
    {
     "name": "stdout",
     "output_type": "stream",
     "text": [
      "13.771066609354532\n"
     ]
    },
    {
     "name": "stderr",
     "output_type": "stream",
     "text": [
      "INFO:root:Rotating by 0.2620000000000058 radians\n"
     ]
    },
    {
     "name": "stdout",
     "output_type": "stream",
     "text": [
      "23.385624146295818\n"
     ]
    },
    {
     "name": "stderr",
     "output_type": "stream",
     "text": [
      "INFO:root:Rotating by 0.2620000000000031 radians\n"
     ]
    },
    {
     "name": "stdout",
     "output_type": "stream",
     "text": [
      "9.7377366727603\n"
     ]
    },
    {
     "name": "stderr",
     "output_type": "stream",
     "text": [
      "INFO:root:Rotating by 0.26199999999999957 radians\n"
     ]
    },
    {
     "name": "stdout",
     "output_type": "stream",
     "text": [
      "17.71244577215738\n"
     ]
    },
    {
     "name": "stderr",
     "output_type": "stream",
     "text": [
      "INFO:root:Rotating by -6.0211853071795876 radians\n"
     ]
    },
    {
     "name": "stdout",
     "output_type": "stream",
     "text": [
      "11.51981378881569\n"
     ]
    },
    {
     "name": "stderr",
     "output_type": "stream",
     "text": [
      "INFO:root:Rotating by 0.26199999999994183 radians\n"
     ]
    },
    {
     "name": "stdout",
     "output_type": "stream",
     "text": [
      "6.985381218318895\n"
     ]
    },
    {
     "name": "stderr",
     "output_type": "stream",
     "text": [
      "INFO:root:Rotating by 0.26200000000005597 radians\n"
     ]
    },
    {
     "name": "stdout",
     "output_type": "stream",
     "text": [
      "4.727666862502012\n"
     ]
    },
    {
     "name": "stderr",
     "output_type": "stream",
     "text": [
      "INFO:root:Rotating by 0.2619999999999991 radians\n"
     ]
    },
    {
     "name": "stdout",
     "output_type": "stream",
     "text": [
      "16.075414790953733\n"
     ]
    },
    {
     "name": "stderr",
     "output_type": "stream",
     "text": [
      "INFO:root:Rotating by 0.2620000000000009 radians\n"
     ]
    },
    {
     "name": "stdout",
     "output_type": "stream",
     "text": [
      "7.7922891112820585\n"
     ]
    },
    {
     "name": "stderr",
     "output_type": "stream",
     "text": [
      "INFO:root:Rotating by 0.26200000000000356 radians\n"
     ]
    },
    {
     "name": "stdout",
     "output_type": "stream",
     "text": [
      "16.057350170593814\n"
     ]
    },
    {
     "name": "stderr",
     "output_type": "stream",
     "text": [
      "INFO:root:Rotating by 0.2620000000000027 radians\n"
     ]
    },
    {
     "name": "stdout",
     "output_type": "stream",
     "text": [
      "18.953073298788485\n"
     ]
    },
    {
     "name": "stderr",
     "output_type": "stream",
     "text": [
      "INFO:root:Rotating by 0.26199999999999823 radians\n"
     ]
    },
    {
     "name": "stdout",
     "output_type": "stream",
     "text": [
      "14.952645004152611\n"
     ]
    },
    {
     "name": "stderr",
     "output_type": "stream",
     "text": [
      "INFO:root:Rotating by 0.2620000000000011 radians\n"
     ]
    },
    {
     "name": "stdout",
     "output_type": "stream",
     "text": [
      "16.671624274393736\n"
     ]
    },
    {
     "name": "stderr",
     "output_type": "stream",
     "text": [
      "INFO:root:Rotating by 0.2620000000000009 radians\n"
     ]
    },
    {
     "name": "stdout",
     "output_type": "stream",
     "text": [
      "8.721521017455158\n"
     ]
    },
    {
     "name": "stderr",
     "output_type": "stream",
     "text": [
      "INFO:root:Rotating by 0.26200000000000034 radians\n"
     ]
    },
    {
     "name": "stdout",
     "output_type": "stream",
     "text": [
      "8.643374679701608\n"
     ]
    },
    {
     "name": "stderr",
     "output_type": "stream",
     "text": [
      "INFO:root:Rotating by 0.262000000000004 radians\n"
     ]
    },
    {
     "name": "stdout",
     "output_type": "stream",
     "text": [
      "5.952131621081102\n"
     ]
    },
    {
     "name": "stderr",
     "output_type": "stream",
     "text": [
      "INFO:root:Rotating by 0.26199999999999807 radians\n"
     ]
    },
    {
     "name": "stdout",
     "output_type": "stream",
     "text": [
      "24.21514251216303\n"
     ]
    },
    {
     "name": "stderr",
     "output_type": "stream",
     "text": [
      "INFO:root:Rotating by 0.26200000000000323 radians\n"
     ]
    },
    {
     "name": "stdout",
     "output_type": "stream",
     "text": [
      "9.111589066973574\n"
     ]
    },
    {
     "name": "stderr",
     "output_type": "stream",
     "text": [
      "INFO:root:Rotating by 0.2620000000000027 radians\n"
     ]
    },
    {
     "name": "stdout",
     "output_type": "stream",
     "text": [
      "12.884894885627126\n"
     ]
    },
    {
     "name": "stderr",
     "output_type": "stream",
     "text": [
      "INFO:root:Rotating by 0.2620000000000027 radians\n"
     ]
    },
    {
     "name": "stdout",
     "output_type": "stream",
     "text": [
      "17.00210337044465\n"
     ]
    },
    {
     "name": "stderr",
     "output_type": "stream",
     "text": [
      "INFO:root:Rotating by 0.26199999999999946 radians\n"
     ]
    },
    {
     "name": "stdout",
     "output_type": "stream",
     "text": [
      "7.8151156331287615\n"
     ]
    },
    {
     "name": "stderr",
     "output_type": "stream",
     "text": [
      "INFO:root:Rotating by 0.2619999999999978 radians\n"
     ]
    },
    {
     "name": "stdout",
     "output_type": "stream",
     "text": [
      "16.983341655484328\n",
      "raw d: {1.30919877243042: (8.945153289213927, 3.4286630653944385), 1.57119877243042: (6.036913976198833, 3.9625691413284745), 1.83319877243042: (19.99040143307181, 3.2454273576183956), 2.09519877243042: (15.662147816334816, 3.9306269116043695), 2.35719877243042: (15.312930405714559, 3.1920129215295248), 2.61919877243042: (18.11039042278172, 0.32198239417342167), 2.88119877243042: (10.830060317445081, 4.6826523669809035), -3.1399865347491662: (8.490703569927124, 3.2582354392341712), -2.877986534749166: (4.606003479314729, 2.818949247881345), -2.615986534749166: (11.794918908254099, 4.6839588971917046), -2.353986534749166: (8.981285334402111, 2.0025502515363236), -2.091986534749166: (11.71980189711161, 2.1746961603678274), -1.8299865347491662: (12.498141503272732, 3.505279060266715), -1.5679865347491662: (12.737707916903787, 2.47580131172227), -1.3059865347491662: (18.881212118717333, 2.3361747871163527), -1.0439865347491661: (11.309146077695553, 2.423612395162832), -0.7819865347491661: (8.597099682528254, 0.06243847482779947), -0.5199865347491661: (14.050957272742172, 4.825827159673538), -0.2579865347491661: (20.87415988829926, 2.5107452713755256), 0.004013465250833903: (12.75763497208959, 3.102240170411364), 0.2660134652508339: (13.368815289585783, 0.2422326988728123), 0.5280134652508339: (12.74362442305083, 2.2883333386881293), 0.7900134652508339: (5.1582370864163805, 1.9779113439597664), 1.052013465250834: (14.291717584706868, 1.3881231552067737), 1.314013465250834: (12.095550828647474, 1.2640781482696941)}\n",
      "min: 4.606003479314729\n",
      "d corrected: {1.30919877243042: (4.339149809899198, 3.4286630653944385), 1.57119877243042: (1.4309104968841044, 3.9625691413284745), 1.83319877243042: (15.38439795375708, 3.2454273576183956), 2.09519877243042: (11.056144337020086, 3.9306269116043695), 2.35719877243042: (10.70692692639983, 3.1920129215295248), 2.61919877243042: (13.50438694346699, 0.32198239417342167), 2.88119877243042: (6.224056838130353, 4.6826523669809035), -3.1399865347491662: (3.8847000906123954, 3.2582354392341712), -2.877986534749166: (0.0, 2.818949247881345), -2.615986534749166: (7.18891542893937, 4.6839588971917046), -2.353986534749166: (4.375281855087382, 2.0025502515363236), -2.091986534749166: (7.113798417796882, 2.1746961603678274), -1.8299865347491662: (7.892138023958004, 3.505279060266715), -1.5679865347491662: (8.131704437589057, 2.47580131172227), -1.3059865347491662: (14.275208639402603, 2.3361747871163527), -1.0439865347491661: (6.703142598380825, 2.423612395162832), -0.7819865347491661: (3.9910962032135258, 0.06243847482779947), -0.5199865347491661: (9.444953793427445, 4.825827159673538), -0.2579865347491661: (16.26815640898453, 2.5107452713755256), 0.004013465250833903: (8.151631492774861, 3.102240170411364), 0.2660134652508339: (8.762811810271053, 0.2422326988728123), 0.5280134652508339: (8.137620943736103, 2.2883333386881293), 0.7900134652508339: (0.5522336071016518, 1.9779113439597664), 1.052013465250834: (9.68571410539214, 1.3881231552067737), 1.314013465250834: (7.489547349332745, 1.2640781482696941)}\n"
     ]
    },
    {
     "data": {
      "image/png": "[encoded data removed]",
      "text/plain": [
       "<Figure size 432x288 with 1 Axes>"
      ]
     },
     "metadata": {
      "needs_background": "light"
     },
     "output_type": "display_data"
    }
   ],
   "source": [
    "# # ALA->THR -- ALA at lambda = 0\n",
    "# run_torsion_scan(htf, 0, True, [6, 8, 10, 11], [6, 8, 10, 11], [12, 13])"
   ]
  },
  {
   "cell_type": "code",
   "execution_count": 29,
   "metadata": {
    "scrolled": true
   },
   "outputs": [
    {
     "name": "stderr",
     "output_type": "stream",
     "text": [
      "  6%|▌         | 593/10000 [00:00<00:01, 5919.74it/s]"
     ]
    },
    {
     "name": "stdout",
     "output_type": "stream",
     "text": [
      "-97.64257922839127\n"
     ]
    },
    {
     "name": "stderr",
     "output_type": "stream",
     "text": [
      "100%|██████████| 10000/10000 [00:01<00:00, 6327.89it/s]\n"
     ]
    },
    {
     "name": "stdout",
     "output_type": "stream",
     "text": [
      "2.7912235\n",
      "-32.98107196661712\n"
     ]
    },
    {
     "name": "stderr",
     "output_type": "stream",
     "text": [
      "INFO:root:Rotating by 0.2620000119779138 radians\n",
      "/home/zhangi/miniconda3/envs/perses-sims/lib/python3.7/site-packages/numpy/core/_methods.py:217: RuntimeWarning: Degrees of freedom <= 0 for slice\n",
      "  keepdims=keepdims)\n",
      "/home/zhangi/miniconda3/envs/perses-sims/lib/python3.7/site-packages/numpy/core/_methods.py:209: RuntimeWarning: invalid value encountered in double_scalars\n",
      "  ret = ret.dtype.type(ret / rcount)\n",
      "INFO:root:Rotating by -6.021185307179586 radians\n",
      "INFO:root:Rotating by 0.26200000000000045 radians\n",
      "INFO:root:Rotating by 0.262 radians\n",
      "INFO:root:Rotating by 0.262 radians\n",
      "INFO:root:Rotating by 0.26199999999999957 radians\n",
      "INFO:root:Rotating by 0.262 radians\n",
      "INFO:root:Rotating by 0.2619999999999998 radians\n",
      "INFO:root:Rotating by 0.2619999999999998 radians\n",
      "INFO:root:Rotating by 0.26200000000000023 radians\n",
      "INFO:root:Rotating by 0.26200000000000023 radians\n",
      "INFO:root:Rotating by 0.26200000000000057 radians\n",
      "INFO:root:Rotating by 0.2619999999999998 radians\n",
      "INFO:root:Rotating by 0.26200000000000045 radians\n",
      "INFO:root:Rotating by 0.2620000000000008 radians\n",
      "INFO:root:Rotating by 0.26199999999999934 radians\n",
      "INFO:root:Rotating by 0.26200000000000057 radians\n",
      "INFO:root:Rotating by 0.2619999999999998 radians\n",
      "INFO:root:Rotating by 0.262 radians\n",
      "INFO:root:Rotating by 0.2619999999999998 radians\n",
      "INFO:root:Rotating by 0.26200000000000023 radians\n",
      "INFO:root:Rotating by 0.26199999999999957 radians\n",
      "INFO:root:Rotating by 0.262 radians\n",
      "INFO:root:Rotating by 0.2620000000000009 radians\n",
      "INFO:root:Rotating by 0.26199999999999957 radians\n"
     ]
    },
    {
     "name": "stdout",
     "output_type": "stream",
     "text": [
      "-34.47780810476256\n",
      "-33.698745365228724\n",
      "-31.386089242143612\n",
      "-28.34082084309793\n",
      "-25.035129516696863\n",
      "-21.667254755494834\n",
      "-18.277033742610605\n",
      "-14.810563374316732\n",
      "-11.136039686753993\n",
      "-7.073486839723678\n",
      "-2.6144588351356672\n",
      "1.496085755958595\n",
      "3.398778742242107\n",
      "1.3918192642387979\n",
      "-4.0783422004472305\n",
      "-10.903364953979294\n",
      "-17.3253319964848\n",
      "-22.439639645126146\n",
      "-25.624035649584492\n",
      "-26.564126770227574\n",
      "-26.20328862852245\n",
      "-26.875988297005893\n",
      "-29.74525599326277\n",
      "-33.02937167354986\n",
      "raw d: {3.0532235260009766: (-34.47780810476256, nan), -2.9679617811786096: (-33.698745365228724, nan), -2.7059617811786096: (-31.386089242143612, nan), -2.4439617811786096: (-28.34082084309793, nan), -2.1819617811786096: (-25.035129516696863, nan), -1.9199617811786096: (-21.667254755494834, nan), -1.6579617811786096: (-18.277033742610605, nan), -1.3959617811786096: (-14.810563374316732, nan), -1.1339617811786096: (-11.136039686753993, nan), -0.8719617811786096: (-7.073486839723678, nan), -0.6099617811786096: (-2.6144588351356672, nan), -0.34796178117860954: (1.496085755958595, nan), -0.08596178117860953: (3.398778742242107, nan), 0.17603821882139048: (1.3918192642387979, nan), 0.4380382188213905: (-4.0783422004472305, nan), 0.7000382188213905: (-10.903364953979294, nan), 0.9620382188213905: (-17.3253319964848, nan), 1.2240382188213905: (-22.439639645126146, nan), 1.4860382188213905: (-25.624035649584492, nan), 1.7480382188213905: (-26.564126770227574, nan), 2.0100382188213906: (-26.20328862852245, nan), 2.2720382188213906: (-26.875988297005893, nan), 2.5340382188213906: (-29.74525599326277, nan), 2.7960382188213906: (-33.02937167354986, nan), 3.0580382188213906: (-34.482656288989254, nan)}\n",
      "min: -34.482656288989254\n",
      "d corrected: {3.0532235260009766: (0.004848184226695196, nan), -2.9679617811786096: (0.78391092376053, nan), -2.7059617811786096: (3.0965670468456423, nan), -2.4439617811786096: (6.141835445891324, nan), -2.1819617811786096: (9.447526772292392, nan), -1.9199617811786096: (12.81540153349442, nan), -1.6579617811786096: (16.20562254637865, nan), -1.3959617811786096: (19.672092914672522, nan), -1.1339617811786096: (23.34661660223526, nan), -0.8719617811786096: (27.409169449265576, nan), -0.6099617811786096: (31.868197453853586, nan), -0.34796178117860954: (35.97874204494785, nan), -0.08596178117860953: (37.88143503123136, nan), 0.17603821882139048: (35.87447555322805, nan), 0.4380382188213905: (30.404314088542023, nan), 0.7000382188213905: (23.579291335009962, nan), 0.9620382188213905: (17.157324292504455, nan), 1.2240382188213905: (12.043016643863108, nan), 1.4860382188213905: (8.858620639404762, nan), 1.7480382188213905: (7.91852951876168, nan), 2.0100382188213906: (8.279367660466804, nan), 2.2720382188213906: (7.606667991983361, nan), 2.5340382188213906: (4.737400295726484, nan), 2.7960382188213906: (1.4532846154393937, nan), 3.0580382188213906: (0.0, nan)}\n"
     ]
    },
    {
     "data": {
      "image/png": "[encoded data removed]",
      "text/plain": [
       "<Figure size 432x288 with 1 Axes>"
      ]
     },
     "metadata": {
      "needs_background": "light"
     },
     "output_type": "display_data"
    }
   ],
   "source": [
    "# ALA->THR -- THR at lambda = 0\n",
    "torsion_scans.append(run_torsion_scan(htf, 0, False, [6, 8, 22, 28], [6, 8, 10, 18], [23, 24, 25, 26, 27, 29]))"
   ]
  },
  {
   "cell_type": "code",
   "execution_count": 35,
   "metadata": {
    "scrolled": true
   },
   "outputs": [
    {
     "name": "stderr",
     "output_type": "stream",
     "text": [
      "100%|██████████| 10000/10000 [00:01<00:00, 6086.91it/s]\n",
      "INFO:root:Rotating by 0.2620000119779138 radians\n"
     ]
    },
    {
     "name": "stdout",
     "output_type": "stream",
     "text": [
      "2.7912235\n",
      "85.64782146149645\n"
     ]
    },
    {
     "name": "stderr",
     "output_type": "stream",
     "text": [
      "INFO:root:Rotating by -6.021185307179585 radians\n"
     ]
    },
    {
     "name": "stdout",
     "output_type": "stream",
     "text": [
      "83.16144775186059\n"
     ]
    },
    {
     "name": "stderr",
     "output_type": "stream",
     "text": [
      "INFO:root:Rotating by 0.262 radians\n"
     ]
    },
    {
     "name": "stdout",
     "output_type": "stream",
     "text": [
      "89.20390938552033\n"
     ]
    },
    {
     "name": "stderr",
     "output_type": "stream",
     "text": [
      "INFO:root:Rotating by 0.26200000000000134 radians\n"
     ]
    },
    {
     "name": "stdout",
     "output_type": "stream",
     "text": [
      "84.90758747603832\n"
     ]
    },
    {
     "name": "stderr",
     "output_type": "stream",
     "text": [
      "INFO:root:Rotating by 0.2620000000000027 radians\n"
     ]
    },
    {
     "name": "stdout",
     "output_type": "stream",
     "text": [
      "84.08865424861192\n"
     ]
    },
    {
     "name": "stderr",
     "output_type": "stream",
     "text": [
      "INFO:root:Rotating by 0.26199999999999557 radians\n"
     ]
    },
    {
     "name": "stdout",
     "output_type": "stream",
     "text": [
      "87.78186177317455\n"
     ]
    },
    {
     "name": "stderr",
     "output_type": "stream",
     "text": [
      "INFO:root:Rotating by 0.26199999999999934 radians\n"
     ]
    },
    {
     "name": "stdout",
     "output_type": "stream",
     "text": [
      "98.93534843795136\n"
     ]
    },
    {
     "name": "stderr",
     "output_type": "stream",
     "text": [
      "INFO:root:Rotating by 0.262 radians\n"
     ]
    },
    {
     "name": "stdout",
     "output_type": "stream",
     "text": [
      "100.90162965739411\n"
     ]
    },
    {
     "name": "stderr",
     "output_type": "stream",
     "text": [
      "INFO:root:Rotating by 0.2619999999999987 radians\n"
     ]
    },
    {
     "name": "stdout",
     "output_type": "stream",
     "text": [
      "107.97530021459214\n"
     ]
    },
    {
     "name": "stderr",
     "output_type": "stream",
     "text": [
      "INFO:root:Rotating by 0.26200000000000045 radians\n"
     ]
    },
    {
     "name": "stdout",
     "output_type": "stream",
     "text": [
      "90.78179042612776\n"
     ]
    },
    {
     "name": "stderr",
     "output_type": "stream",
     "text": [
      "INFO:root:Rotating by 0.26199999999999724 radians\n"
     ]
    },
    {
     "name": "stdout",
     "output_type": "stream",
     "text": [
      "83.1088363209761\n"
     ]
    },
    {
     "name": "stderr",
     "output_type": "stream",
     "text": [
      "INFO:root:Rotating by 0.2619999999999971 radians\n"
     ]
    },
    {
     "name": "stdout",
     "output_type": "stream",
     "text": [
      "74.22247310028112\n"
     ]
    },
    {
     "name": "stderr",
     "output_type": "stream",
     "text": [
      "INFO:root:Rotating by 0.26200000000000045 radians\n"
     ]
    },
    {
     "name": "stdout",
     "output_type": "stream",
     "text": [
      "78.83367281250355\n"
     ]
    },
    {
     "name": "stderr",
     "output_type": "stream",
     "text": [
      "INFO:root:Rotating by 0.26200000000000045 radians\n"
     ]
    },
    {
     "name": "stdout",
     "output_type": "stream",
     "text": [
      "72.01355019329107\n"
     ]
    },
    {
     "name": "stderr",
     "output_type": "stream",
     "text": [
      "INFO:root:Rotating by 0.2619999999999995 radians\n"
     ]
    },
    {
     "name": "stdout",
     "output_type": "stream",
     "text": [
      "71.61872717881447\n"
     ]
    },
    {
     "name": "stderr",
     "output_type": "stream",
     "text": [
      "INFO:root:Rotating by 0.2619999999999996 radians\n"
     ]
    },
    {
     "name": "stdout",
     "output_type": "stream",
     "text": [
      "87.43315877513015\n"
     ]
    },
    {
     "name": "stderr",
     "output_type": "stream",
     "text": [
      "INFO:root:Rotating by 0.26200000000000145 radians\n"
     ]
    },
    {
     "name": "stdout",
     "output_type": "stream",
     "text": [
      "65.1332185168607\n"
     ]
    },
    {
     "name": "stderr",
     "output_type": "stream",
     "text": [
      "INFO:root:Rotating by 0.2619999999999987 radians\n"
     ]
    },
    {
     "name": "stdout",
     "output_type": "stream",
     "text": [
      "74.93809371284809\n"
     ]
    },
    {
     "name": "stderr",
     "output_type": "stream",
     "text": [
      "INFO:root:Rotating by 0.2620000000000011 radians\n"
     ]
    },
    {
     "name": "stdout",
     "output_type": "stream",
     "text": [
      "82.1474276159332\n"
     ]
    },
    {
     "name": "stderr",
     "output_type": "stream",
     "text": [
      "INFO:root:Rotating by 0.26200000000000045 radians\n"
     ]
    },
    {
     "name": "stdout",
     "output_type": "stream",
     "text": [
      "84.0111524129918\n"
     ]
    },
    {
     "name": "stderr",
     "output_type": "stream",
     "text": [
      "INFO:root:Rotating by 0.2619999999999978 radians\n"
     ]
    },
    {
     "name": "stdout",
     "output_type": "stream",
     "text": [
      "85.42583776117176\n"
     ]
    },
    {
     "name": "stderr",
     "output_type": "stream",
     "text": [
      "INFO:root:Rotating by 0.26199999999999735 radians\n"
     ]
    },
    {
     "name": "stdout",
     "output_type": "stream",
     "text": [
      "93.30668847416489\n"
     ]
    },
    {
     "name": "stderr",
     "output_type": "stream",
     "text": [
      "INFO:root:Rotating by 0.2619999999999951 radians\n"
     ]
    },
    {
     "name": "stdout",
     "output_type": "stream",
     "text": [
      "78.24733179298659\n"
     ]
    },
    {
     "name": "stderr",
     "output_type": "stream",
     "text": [
      "INFO:root:Rotating by 0.26199999999999823 radians\n"
     ]
    },
    {
     "name": "stdout",
     "output_type": "stream",
     "text": [
      "227.97209517660295\n"
     ]
    },
    {
     "name": "stderr",
     "output_type": "stream",
     "text": [
      "INFO:root:Rotating by 0.2619999999999987 radians\n"
     ]
    },
    {
     "name": "stdout",
     "output_type": "stream",
     "text": [
      "193.93601076763312\n",
      "raw d: {3.0532235260009766: (89.35478587833971, 3.1071308550792667), -2.9679617811786096: (83.52887818614113, 3.3383567588442586), -2.7059617811786096: (84.82532620974683, 1.5984356421672359), -2.4439617811786096: (93.3708169598846, 6.322036746586779), -2.1819617811786096: (90.91854462212488, 2.6482088238690795), -1.9199617811786096: (96.18316813683367, 5.843626988298512), -1.6579617811786096: (99.1270514817961, 2.421568313117374), -1.3959617811786096: (101.75053006896464, 5.442235622151454), -1.1339617811786096: (94.38912233902579, 2.8595290679469336), -0.8719617811786096: (85.89945172829658, 1.935412374650737), -0.6099617811786096: (77.52342711154253, 1.888692551114203), -0.34796178117860954: (71.771639119684, 3.587393080493482), -0.08596178117860953: (74.16570532687547, 1.2732451417497188), 0.17603821882139048: (72.46081633591581, 2.3971921639728158), 0.4380382188213905: (76.4657155754965, 5.672628313911505), 0.7000382188213905: (72.07998675555493, 3.477671675028416), 0.9620382188213905: (75.74850755046229, 0.6912962125377481), 1.2240382188213905: (84.32320055665338, 1.549779905351525), 1.4860382188213905: (82.05714508439577, 2.2445732360954045), 1.7480382188213905: (87.18815820696982, 2.0454584363164647), 2.0100382188213906: (96.62261969827466, 1.6946849485179114), 2.2720382188213906: (94.07797763175601, 8.029163776346337), 2.5340382188213906: (232.4216065057424, 2.927640554542174), 2.7960382188213906: (206.33184585952367, 6.242407603866769), 3.0580382188213906: (179.91434173080373, 3.3705375691684223)}\n",
      "min: 71.771639119684\n",
      "d corrected: {3.0532235260009766: (17.583146758655715, 3.1071308550792667), -2.9679617811786096: (11.757239066457132, 3.3383567588442586), -2.7059617811786096: (13.053687090062837, 1.5984356421672359), -2.4439617811786096: (21.59917784020061, 6.322036746586779), -2.1819617811786096: (19.146905502440887, 2.6482088238690795), -1.9199617811786096: (24.411529017149675, 5.843626988298512), -1.6579617811786096: (27.355412362112105, 2.421568313117374), -1.3959617811786096: (29.97889094928064, 5.442235622151454), -1.1339617811786096: (22.617483219341793, 2.8595290679469336), -0.8719617811786096: (14.127812608612587, 1.935412374650737), -0.6099617811786096: (5.751787991858535, 1.888692551114203), -0.34796178117860954: (0.0, 3.587393080493482), -0.08596178117860953: (2.3940662071914716, 1.2732451417497188), 0.17603821882139048: (0.6891772162318119, 2.3971921639728158), 0.4380382188213905: (4.694076455812507, 5.672628313911505), 0.7000382188213905: (0.3083476358709305, 3.477671675028416), 0.9620382188213905: (3.976868430778296, 0.6912962125377481), 1.2240382188213905: (12.55156143696938, 1.549779905351525), 1.4860382188213905: (10.285505964711774, 2.2445732360954045), 1.7480382188213905: (15.41651908728582, 2.0454584363164647), 2.0100382188213906: (24.850980578590665, 1.6946849485179114), 2.2720382188213906: (22.306338512072017, 8.029163776346337), 2.5340382188213906: (160.6499673860584, 2.927640554542174), 2.7960382188213906: (134.56020673983966, 6.242407603866769), 3.0580382188213906: (108.14270261111973, 3.3705375691684223)}\n"
     ]
    },
    {
     "data": {
      "image/png": "[encoded data removed]",
      "text/plain": [
       "<Figure size 432x288 with 1 Axes>"
      ]
     },
     "metadata": {
      "needs_background": "light"
     },
     "output_type": "display_data"
    }
   ],
   "source": [
    "# # ALA->THR -- THR at lambda = 1\n",
    "# run_torsion_scan(htf_at_1t, 1, False, [6, 8, 22, 28], [6, 8, 10, 18], [23, 24, 25, 26, 27, 29])"
   ]
  },
  {
   "cell_type": "code",
   "execution_count": 32,
   "metadata": {
    "scrolled": true
   },
   "outputs": [
    {
     "name": "stdout",
     "output_type": "stream",
     "text": [
      "39.27942448794531\n"
     ]
    },
    {
     "name": "stderr",
     "output_type": "stream",
     "text": [
      "100%|██████████| 10000/10000 [00:01<00:00, 6271.43it/s]\n",
      "INFO:root:Rotating by 0.26199995022480693 radians\n",
      "INFO:root:Rotating by 0.2619999999999998 radians\n"
     ]
    },
    {
     "name": "stdout",
     "output_type": "stream",
     "text": [
      "1.0471988\n",
      "18.745951789111526\n",
      "-21.57776433641308\n"
     ]
    },
    {
     "name": "stderr",
     "output_type": "stream",
     "text": [
      "INFO:root:Rotating by 0.2619999999999998 radians\n",
      "INFO:root:Rotating by 0.26199999999999957 radians\n"
     ]
    },
    {
     "name": "stdout",
     "output_type": "stream",
     "text": [
      "-21.511072241198775\n",
      "-21.103967565188015\n"
     ]
    },
    {
     "name": "stderr",
     "output_type": "stream",
     "text": [
      "INFO:root:Rotating by 0.26200000000000045 radians\n",
      "INFO:root:Rotating by 0.262 radians\n"
     ]
    },
    {
     "name": "stdout",
     "output_type": "stream",
     "text": [
      "-21.174028134215632\n",
      "-20.08423346019533\n"
     ]
    },
    {
     "name": "stderr",
     "output_type": "stream",
     "text": [
      "INFO:root:Rotating by 0.26200000000000045 radians\n",
      "INFO:root:Rotating by -6.021185307179586 radians\n"
     ]
    },
    {
     "name": "stdout",
     "output_type": "stream",
     "text": [
      "-20.429600939088708\n",
      "-20.762408730736524\n"
     ]
    },
    {
     "name": "stderr",
     "output_type": "stream",
     "text": [
      "INFO:root:Rotating by 0.2620000000000111 radians\n",
      "INFO:root:Rotating by 0.2619999999999889 radians\n"
     ]
    },
    {
     "name": "stdout",
     "output_type": "stream",
     "text": [
      "-20.298728882208056\n",
      "-19.507384297364155\n"
     ]
    },
    {
     "name": "stderr",
     "output_type": "stream",
     "text": [
      "INFO:root:Rotating by 0.26199999999999957 radians\n",
      "INFO:root:Rotating by 0.262 radians\n"
     ]
    },
    {
     "name": "stdout",
     "output_type": "stream",
     "text": [
      "-20.74332261928962\n",
      "-19.954091756554636\n"
     ]
    },
    {
     "name": "stderr",
     "output_type": "stream",
     "text": [
      "INFO:root:Rotating by 0.262 radians\n"
     ]
    },
    {
     "name": "stdout",
     "output_type": "stream",
     "text": [
      "-20.409815611130682\n"
     ]
    },
    {
     "name": "stderr",
     "output_type": "stream",
     "text": [
      "INFO:root:Rotating by 0.262 radians\n",
      "INFO:root:Rotating by 0.2619999999999998 radians\n"
     ]
    },
    {
     "name": "stdout",
     "output_type": "stream",
     "text": [
      "-20.65742779968003\n",
      "-20.49699552017952\n"
     ]
    },
    {
     "name": "stderr",
     "output_type": "stream",
     "text": [
      "INFO:root:Rotating by 0.262 radians\n",
      "INFO:root:Rotating by 0.26200000000000023 radians\n"
     ]
    },
    {
     "name": "stdout",
     "output_type": "stream",
     "text": [
      "-21.302489069682288\n",
      "-21.414307603535267\n"
     ]
    },
    {
     "name": "stderr",
     "output_type": "stream",
     "text": [
      "INFO:root:Rotating by 0.26200000000000023 radians\n",
      "INFO:root:Rotating by 0.2619999999999999 radians\n"
     ]
    },
    {
     "name": "stdout",
     "output_type": "stream",
     "text": [
      "-21.11403761123688\n",
      "-20.633940478754926\n"
     ]
    },
    {
     "name": "stderr",
     "output_type": "stream",
     "text": [
      "INFO:root:Rotating by 0.26200000000000023 radians\n",
      "INFO:root:Rotating by 0.26200000000000323 radians\n"
     ]
    },
    {
     "name": "stdout",
     "output_type": "stream",
     "text": [
      "-20.92714057808625\n",
      "-20.347164097309054\n"
     ]
    },
    {
     "name": "stderr",
     "output_type": "stream",
     "text": [
      "INFO:root:Rotating by 0.2619999999999972 radians\n",
      "INFO:root:Rotating by 0.26199999999999946 radians\n"
     ]
    },
    {
     "name": "stdout",
     "output_type": "stream",
     "text": [
      "-20.928568174884617\n",
      "-21.259533155753807\n"
     ]
    },
    {
     "name": "stderr",
     "output_type": "stream",
     "text": [
      "INFO:root:Rotating by 0.2619999999999999 radians\n",
      "INFO:root:Rotating by 0.26200000000000045 radians\n"
     ]
    },
    {
     "name": "stdout",
     "output_type": "stream",
     "text": [
      "-21.318834822909594\n",
      "-21.83468764979398\n",
      "raw d: {1.30919877243042: (-21.57776433641308, nan), 1.57119877243042: (-21.511072241198775, nan), 1.83319877243042: (-21.103967565188015, nan), 2.09519877243042: (-21.174028134215632, nan), 2.35719877243042: (-20.08423346019533, nan), 2.61919877243042: (-20.429600939088708, nan), 2.88119877243042: (-20.762408730736524, nan), -3.1399865347491662: (-20.298728882208056, nan), -2.877986534749166: (-19.507384297364155, nan), -2.615986534749166: (-20.74332261928962, nan), -2.353986534749166: (-19.954091756554636, nan), -2.091986534749166: (-20.409815611130682, nan), -1.8299865347491662: (-20.65742779968003, nan), -1.5679865347491662: (-20.49699552017952, nan), -1.3059865347491662: (-21.302489069682288, nan), -1.0439865347491661: (-21.414307603535267, nan), -0.7819865347491661: (-21.11403761123688, nan), -0.5199865347491661: (-20.633940478754926, nan), -0.2579865347491661: (-20.92714057808625, nan), 0.004013465250833903: (-20.347164097309054, nan), 0.2660134652508339: (-20.928568174884617, nan), 0.5280134652508339: (-21.259533155753807, nan), 0.7900134652508339: (-21.318834822909594, nan), 1.052013465250834: (-21.83468764979398, nan), 1.314013465250834: (-21.09786761336549, nan)}\n",
      "min: -21.83468764979398\n",
      "d corrected: {1.30919877243042: (0.25692331338090213, nan), 1.57119877243042: (0.3236154085952059, nan), 1.83319877243042: (0.7307200846059665, nan), 2.09519877243042: (0.6606595155783488, nan), 2.35719877243042: (1.7504541895986527, nan), 2.61919877243042: (1.4050867107052731, nan), 2.88119877243042: (1.0722789190574566, nan), -3.1399865347491662: (1.5359587675859245, nan), -2.877986534749166: (2.3273033524298263, nan), -2.615986534749166: (1.0913650305043596, nan), -2.353986534749166: (1.8805958932393452, nan), -2.091986534749166: (1.424872038663299, nan), -1.8299865347491662: (1.177259850113952, nan), -1.5679865347491662: (1.3376921296144602, nan), -1.3059865347491662: (0.5321985801116931, nan), -1.0439865347491661: (0.42038004625871395, nan), -0.7819865347491661: (0.7206500385570997, nan), -0.5199865347491661: (1.2007471710390547, nan), -0.2579865347491661: (0.9075470717077323, nan), 0.004013465250833903: (1.4875235524849266, nan), 0.2660134652508339: (0.9061194749093637, nan), 0.5280134652508339: (0.5751544940401736, nan), 0.7900134652508339: (0.5158528268843874, nan), 1.052013465250834: (0.0, nan), 1.314013465250834: (0.7368200364284903, nan)}\n"
     ]
    },
    {
     "data": {
      "image/png": "[encoded data removed]",
      "text/plain": [
       "<Figure size 432x288 with 1 Axes>"
      ]
     },
     "metadata": {
      "needs_background": "light"
     },
     "output_type": "display_data"
    }
   ],
   "source": [
    "# ALA->THR -- ALA at lambda = 1\n",
    "run_torsion_scan(htf, 1, True, [6, 8, 10, 11], [6, 8, 10, 11], [12, 13])"
   ]
  },
  {
   "cell_type": "code",
   "execution_count": null,
   "metadata": {},
   "outputs": [],
   "source": []
  },
  {
   "cell_type": "markdown",
   "metadata": {},
   "source": [
    "### Generate torsion scans for vanilla htfs with flattened 1,4s only (and sidechains not mapped): ALA->THR "
   ]
  },
  {
   "cell_type": "code",
   "execution_count": 63,
   "metadata": {},
   "outputs": [],
   "source": [
    "outdir = \"/data/chodera/zhangi/perses_benchmark/neq/7/5/\"\n",
    "with open(os.path.join(outdir, \"5_vacuum.pickle\" ), \"rb\") as f:\n",
    "    htf_at = pickle.load(f)"
   ]
  },
  {
   "cell_type": "code",
   "execution_count": 64,
   "metadata": {},
   "outputs": [],
   "source": [
    "old_system = htf_at._topology_proposal.old_system\n",
    "new_system = htf_at._topology_proposal.new_system"
   ]
  },
  {
   "cell_type": "code",
   "execution_count": 65,
   "metadata": {},
   "outputs": [
    {
     "data": {
      "text/plain": [
       "{22, 23, 24, 25, 26, 27, 28}"
      ]
     },
     "execution_count": 65,
     "metadata": {},
     "output_type": "execute_result"
    }
   ],
   "source": [
    "htf_at._atom_classes['unique_new_atoms'] # These are not right"
   ]
  },
  {
   "cell_type": "code",
   "execution_count": 66,
   "metadata": {},
   "outputs": [
    {
     "data": {
      "text/plain": [
       "{11, 12, 15}"
      ]
     },
     "execution_count": 66,
     "metadata": {},
     "output_type": "execute_result"
    }
   ],
   "source": [
    "htf_at._atom_classes['unique_old_atoms']"
   ]
  },
  {
   "cell_type": "code",
   "execution_count": 49,
   "metadata": {},
   "outputs": [
    {
     "name": "stdout",
     "output_type": "stream",
     "text": [
      "0 <simtk.openmm.openmm.HarmonicBondForce; proxy of <Swig Object of type 'OpenMM::HarmonicBondForce *' at 0x2b22ee2aa180> >\n",
      "1 <simtk.openmm.openmm.HarmonicAngleForce; proxy of <Swig Object of type 'OpenMM::HarmonicAngleForce *' at 0x2b22ee2aa180> >\n",
      "2 <simtk.openmm.openmm.PeriodicTorsionForce; proxy of <Swig Object of type 'OpenMM::PeriodicTorsionForce *' at 0x2b22ee2aa180> >\n",
      "3 <simtk.openmm.openmm.NonbondedForce; proxy of <Swig Object of type 'OpenMM::NonbondedForce *' at 0x2b22ee2aa180> >\n"
     ]
    }
   ],
   "source": [
    "for i in range(old_system.getNumForces()):\n",
    "    print(i, old_system.getForce(i))"
   ]
  },
  {
   "cell_type": "code",
   "execution_count": 68,
   "metadata": {},
   "outputs": [],
   "source": [
    "nb_force = old_system.getForce(3)\n",
    "for i in range(nb_force.getNumExceptions()):\n",
    "    p1, p2, chargeProd, sigma, epsilon = nb_force.getExceptionParameters(i)\n",
    "    if p1 in [11, 12, 15] or p2 in [11, 12, 15]:\n",
    "        nb_force.setExceptionParameters(i, p1, p2, 0, sigma, 0)"
   ]
  },
  {
   "cell_type": "code",
   "execution_count": 69,
   "metadata": {},
   "outputs": [],
   "source": [
    "nb_force = new_system.getForce(3)\n",
    "for i in range(nb_force.getNumExceptions()):\n",
    "    p1, p2, chargeProd, sigma, epsilon = nb_force.getExceptionParameters(i)\n",
    "    if p1 in [13, 14, 15, 16, 17, 18, 19] or p2 in [13, 14, 15, 16, 17, 18, 19]:\n",
    "        nb_force.setExceptionParameters(i, p1, p2, 0, sigma, 0)"
   ]
  },
  {
   "cell_type": "code",
   "execution_count": 33,
   "metadata": {
    "scrolled": true
   },
   "outputs": [
    {
     "name": "stdout",
     "output_type": "stream",
     "text": [
      "[0, 1, Quantity(value=0.0, unit=elementary charge**2), Quantity(value=1.0, unit=nanometer), Quantity(value=0.0, unit=kilojoule/mole)]\n",
      "[0, 2, Quantity(value=0.0, unit=elementary charge**2), Quantity(value=1.0, unit=nanometer), Quantity(value=0.0, unit=kilojoule/mole)]\n",
      "[1, 2, Quantity(value=0.0, unit=elementary charge**2), Quantity(value=1.0, unit=nanometer), Quantity(value=0.0, unit=kilojoule/mole)]\n",
      "[0, 3, Quantity(value=0.0, unit=elementary charge**2), Quantity(value=1.0, unit=nanometer), Quantity(value=0.0, unit=kilojoule/mole)]\n",
      "[1, 3, Quantity(value=0.0, unit=elementary charge**2), Quantity(value=1.0, unit=nanometer), Quantity(value=0.0, unit=kilojoule/mole)]\n",
      "[2, 3, Quantity(value=0.0, unit=elementary charge**2), Quantity(value=1.0, unit=nanometer), Quantity(value=0.0, unit=kilojoule/mole)]\n",
      "[0, 4, Quantity(value=0.0, unit=elementary charge**2), Quantity(value=1.0, unit=nanometer), Quantity(value=0.0, unit=kilojoule/mole)]\n",
      "[1, 4, Quantity(value=0.0, unit=elementary charge**2), Quantity(value=1.0, unit=nanometer), Quantity(value=0.0, unit=kilojoule/mole)]\n",
      "[2, 4, Quantity(value=0.0, unit=elementary charge**2), Quantity(value=1.0, unit=nanometer), Quantity(value=0.0, unit=kilojoule/mole)]\n",
      "[3, 4, Quantity(value=0.0, unit=elementary charge**2), Quantity(value=1.0, unit=nanometer), Quantity(value=0.0, unit=kilojoule/mole)]\n",
      "[0, 5, Quantity(value=-0.053145975, unit=elementary charge**2), Quantity(value=0.2804727344449416, unit=nanometer), Quantity(value=0.12012161257658839, unit=kilojoule/mole)]\n",
      "[1, 5, Quantity(value=0.0, unit=elementary charge**2), Quantity(value=1.0, unit=nanometer), Quantity(value=0.0, unit=kilojoule/mole)]\n",
      "[2, 5, Quantity(value=-0.053145975, unit=elementary charge**2), Quantity(value=0.2804727344449416, unit=nanometer), Quantity(value=0.12012161257658839, unit=kilojoule/mole)]\n",
      "[3, 5, Quantity(value=-0.053145975, unit=elementary charge**2), Quantity(value=0.2804727344449416, unit=nanometer), Quantity(value=0.12012161257658839, unit=kilojoule/mole)]\n",
      "[4, 5, Quantity(value=0.0, unit=elementary charge**2), Quantity(value=1.0, unit=nanometer), Quantity(value=0.0, unit=kilojoule/mole)]\n",
      "[0, 6, Quantity(value=-0.03890259166666667, unit=elementary charge**2), Quantity(value=0.2949765655762664, unit=nanometer), Quantity(value=0.10807766844265286, unit=kilojoule/mole)]\n",
      "[1, 6, Quantity(value=0.0, unit=elementary charge**2), Quantity(value=1.0, unit=nanometer), Quantity(value=0.0, unit=kilojoule/mole)]\n",
      "[2, 6, Quantity(value=-0.03890259166666667, unit=elementary charge**2), Quantity(value=0.2949765655762664, unit=nanometer), Quantity(value=0.10807766844265286, unit=kilojoule/mole)]\n",
      "[3, 6, Quantity(value=-0.03890259166666667, unit=elementary charge**2), Quantity(value=0.2949765655762664, unit=nanometer), Quantity(value=0.10807766844265286, unit=kilojoule/mole)]\n",
      "[4, 6, Quantity(value=0.0, unit=elementary charge**2), Quantity(value=1.0, unit=nanometer), Quantity(value=0.0, unit=kilojoule/mole)]\n",
      "[5, 6, Quantity(value=0.0, unit=elementary charge**2), Quantity(value=1.0, unit=nanometer), Quantity(value=0.0, unit=kilojoule/mole)]\n",
      "[1, 7, Quantity(value=-0.08297481666666667, unit=elementary charge**2), Quantity(value=0.2234373985095971, unit=nanometer), Quantity(value=0.08670021359327784, unit=kilojoule/mole)]\n",
      "[4, 7, Quantity(value=0.0, unit=elementary charge**2), Quantity(value=1.0, unit=nanometer), Quantity(value=0.0, unit=kilojoule/mole)]\n",
      "[5, 7, Quantity(value=-0.128676675, unit=elementary charge**2), Quantity(value=0.20145001814589353, unit=nanometer), Quantity(value=0.12012161257658839, unit=kilojoule/mole)]\n",
      "[6, 7, Quantity(value=0.0, unit=elementary charge**2), Quantity(value=1.0, unit=nanometer), Quantity(value=0.0, unit=kilojoule/mole)]\n",
      "[1, 8, Quantity(value=-0.010284116666666667, unit=elementary charge**2), Quantity(value=0.3399669508423535, unit=nanometer), Quantity(value=0.2288648, unit=kilojoule/mole)]\n",
      "[4, 8, Quantity(value=0.0, unit=elementary charge**2), Quantity(value=1.0, unit=nanometer), Quantity(value=0.0, unit=kilojoule/mole)]\n",
      "[5, 8, Quantity(value=-0.015948525, unit=elementary charge**2), Quantity(value=0.3179795704786499, unit=nanometer), Quantity(value=0.3170881327580709, unit=kilojoule/mole)]\n",
      "[6, 8, Quantity(value=0.0, unit=elementary charge**2), Quantity(value=1.0, unit=nanometer), Quantity(value=0.0, unit=kilojoule/mole)]\n",
      "[7, 8, Quantity(value=0.0, unit=elementary charge**2), Quantity(value=1.0, unit=nanometer), Quantity(value=0.0, unit=kilojoule/mole)]\n",
      "[4, 9, Quantity(value=0.040957966666666665, unit=elementary charge**2), Quantity(value=0.2935511276272418, unit=nanometer), Quantity(value=0.07687068162049819, unit=kilojoule/mole)]\n",
      "[6, 9, Quantity(value=0.0, unit=elementary charge**2), Quantity(value=1.0, unit=nanometer), Quantity(value=0.0, unit=kilojoule/mole)]\n",
      "[7, 9, Quantity(value=0.01864780833333333, unit=elementary charge**2), Quantity(value=0.17702157529448542, unit=nanometer), Quantity(value=0.032844399999999996, unit=kilojoule/mole)]\n",
      "[8, 9, Quantity(value=0.0, unit=elementary charge**2), Quantity(value=1.0, unit=nanometer), Quantity(value=0.0, unit=kilojoule/mole)]\n",
      "[4, 10, Quantity(value=0.0, unit=elementary charge**2), Quantity(value=0.3399669508423535, unit=nanometer), Quantity(value=0.0, unit=kilojoule/mole)]\n",
      "[6, 10, Quantity(value=0.0, unit=elementary charge**2), Quantity(value=1.0, unit=nanometer), Quantity(value=0.0, unit=kilojoule/mole)]\n",
      "[7, 10, Quantity(value=0.0, unit=elementary charge**2), Quantity(value=0.2234373985095971, unit=nanometer), Quantity(value=0.0, unit=kilojoule/mole)]\n",
      "[8, 10, Quantity(value=0.0, unit=elementary charge**2), Quantity(value=1.0, unit=nanometer), Quantity(value=0.0, unit=kilojoule/mole)]\n",
      "[9, 10, Quantity(value=0.0, unit=elementary charge**2), Quantity(value=1.0, unit=nanometer), Quantity(value=0.0, unit=kilojoule/mole)]\n",
      "[6, 11, Quantity(value=0.0, unit=elementary charge**2), Quantity(value=0.2949765655762664, unit=nanometer), Quantity(value=0.0, unit=kilojoule/mole)]\n",
      "[8, 11, Quantity(value=0.0, unit=elementary charge**2), Quantity(value=1.0, unit=nanometer), Quantity(value=0.0, unit=kilojoule/mole)]\n",
      "[9, 11, Quantity(value=0.0, unit=elementary charge**2), Quantity(value=0.2560442915935335, unit=nanometer), Quantity(value=0.0, unit=kilojoule/mole)]\n",
      "[10, 11, Quantity(value=0.0, unit=elementary charge**2), Quantity(value=1.0, unit=nanometer), Quantity(value=0.0, unit=kilojoule/mole)]\n",
      "[6, 12, Quantity(value=0.0, unit=elementary charge**2), Quantity(value=0.2949765655762664, unit=nanometer), Quantity(value=0.0, unit=kilojoule/mole)]\n",
      "[8, 12, Quantity(value=0.0, unit=elementary charge**2), Quantity(value=1.0, unit=nanometer), Quantity(value=0.0, unit=kilojoule/mole)]\n",
      "[9, 12, Quantity(value=0.0, unit=elementary charge**2), Quantity(value=0.2560442915935335, unit=nanometer), Quantity(value=0.0, unit=kilojoule/mole)]\n",
      "[10, 12, Quantity(value=0.0, unit=elementary charge**2), Quantity(value=1.0, unit=nanometer), Quantity(value=0.0, unit=kilojoule/mole)]\n",
      "[11, 12, Quantity(value=0.0, unit=elementary charge**2), Quantity(value=1.0, unit=nanometer), Quantity(value=0.0, unit=kilojoule/mole)]\n",
      "[6, 13, Quantity(value=0.0, unit=elementary charge**2), Quantity(value=0.2949765655762664, unit=nanometer), Quantity(value=0.0, unit=kilojoule/mole)]\n",
      "[8, 13, Quantity(value=0.0, unit=elementary charge**2), Quantity(value=1.0, unit=nanometer), Quantity(value=0.0, unit=kilojoule/mole)]\n",
      "[9, 13, Quantity(value=0.0, unit=elementary charge**2), Quantity(value=0.2560442915935335, unit=nanometer), Quantity(value=0.0, unit=kilojoule/mole)]\n",
      "[10, 13, Quantity(value=0.0, unit=elementary charge**2), Quantity(value=1.0, unit=nanometer), Quantity(value=0.0, unit=kilojoule/mole)]\n",
      "[11, 13, Quantity(value=0.0, unit=elementary charge**2), Quantity(value=1.0, unit=nanometer), Quantity(value=0.0, unit=kilojoule/mole)]\n",
      "[12, 13, Quantity(value=0.0, unit=elementary charge**2), Quantity(value=1.0, unit=nanometer), Quantity(value=0.0, unit=kilojoule/mole)]\n",
      "[4, 14, Quantity(value=0.29725630000000003, unit=elementary charge**2), Quantity(value=0.3399669508423535, unit=nanometer), Quantity(value=0.179912, unit=kilojoule/mole)]\n",
      "[6, 14, Quantity(value=0.0, unit=elementary charge**2), Quantity(value=1.0, unit=nanometer), Quantity(value=0.0, unit=kilojoule/mole)]\n",
      "[7, 14, Quantity(value=0.135338225, unit=elementary charge**2), Quantity(value=0.2234373985095971, unit=nanometer), Quantity(value=0.07687068162049819, unit=kilojoule/mole)]\n",
      "[8, 14, Quantity(value=0.0, unit=elementary charge**2), Quantity(value=1.0, unit=nanometer), Quantity(value=0.0, unit=kilojoule/mole)]\n",
      "[9, 14, Quantity(value=0.0, unit=elementary charge**2), Quantity(value=1.0, unit=nanometer), Quantity(value=0.0, unit=kilojoule/mole)]\n",
      "[10, 14, Quantity(value=0.0, unit=elementary charge**2), Quantity(value=1.0, unit=nanometer), Quantity(value=0.0, unit=kilojoule/mole)]\n",
      "[11, 14, Quantity(value=0.0, unit=elementary charge**2), Quantity(value=0.3024601148086452, unit=nanometer), Quantity(value=0.0, unit=kilojoule/mole)]\n",
      "[12, 14, Quantity(value=0.0, unit=elementary charge**2), Quantity(value=0.3024601148086452, unit=nanometer), Quantity(value=0.0, unit=kilojoule/mole)]\n",
      "[13, 14, Quantity(value=0.0, unit=elementary charge**2), Quantity(value=0.3024601148086452, unit=nanometer), Quantity(value=0.0, unit=kilojoule/mole)]\n",
      "[6, 15, Quantity(value=0.196730025, unit=elementary charge**2), Quantity(value=0.31049602124627107, unit=nanometer), Quantity(value=0.3952717606912996, unit=kilojoule/mole)]\n",
      "[8, 15, Quantity(value=0.0, unit=elementary charge**2), Quantity(value=1.0, unit=nanometer), Quantity(value=0.0, unit=kilojoule/mole)]\n",
      "[9, 15, Quantity(value=-0.038948474999999996, unit=elementary charge**2), Quantity(value=0.2715637472635382, unit=nanometer), Quantity(value=0.12012161257658839, unit=kilojoule/mole)]\n",
      "[10, 15, Quantity(value=0.0, unit=elementary charge**2), Quantity(value=0.3179795704786499, unit=nanometer), Quantity(value=0.0, unit=kilojoule/mole)]\n",
      "[14, 15, Quantity(value=0.0, unit=elementary charge**2), Quantity(value=1.0, unit=nanometer), Quantity(value=0.0, unit=kilojoule/mole)]\n",
      "[6, 16, Quantity(value=0.14400540833333336, unit=elementary charge**2), Quantity(value=0.3249998523775958, unit=nanometer), Quantity(value=0.35564000000000007, unit=kilojoule/mole)]\n",
      "[8, 16, Quantity(value=0.0, unit=elementary charge**2), Quantity(value=1.0, unit=nanometer), Quantity(value=0.0, unit=kilojoule/mole)]\n",
      "[9, 16, Quantity(value=-0.028510091666666668, unit=elementary charge**2), Quantity(value=0.28606757839486296, unit=nanometer), Quantity(value=0.10807766844265286, unit=kilojoule/mole)]\n",
      "[10, 16, Quantity(value=0.0, unit=elementary charge**2), Quantity(value=0.3324834016099747, unit=nanometer), Quantity(value=0.0, unit=kilojoule/mole)]\n",
      "[14, 16, Quantity(value=0.0, unit=elementary charge**2), Quantity(value=1.0, unit=nanometer), Quantity(value=0.0, unit=kilojoule/mole)]\n",
      "[15, 16, Quantity(value=0.0, unit=elementary charge**2), Quantity(value=1.0, unit=nanometer), Quantity(value=0.0, unit=kilojoule/mole)]\n",
      "[8, 17, Quantity(value=0.007635858333333333, unit=elementary charge**2), Quantity(value=0.2234373985095971, unit=nanometer), Quantity(value=0.08670021359327784, unit=kilojoule/mole)]\n",
      "[14, 17, Quantity(value=0.0, unit=elementary charge**2), Quantity(value=1.0, unit=nanometer), Quantity(value=0.0, unit=kilojoule/mole)]\n",
      "[15, 17, Quantity(value=-0.128676675, unit=elementary charge**2), Quantity(value=0.20145001814589353, unit=nanometer), Quantity(value=0.12012161257658839, unit=kilojoule/mole)]\n",
      "[16, 17, Quantity(value=0.0, unit=elementary charge**2), Quantity(value=1.0, unit=nanometer), Quantity(value=0.0, unit=kilojoule/mole)]\n",
      "[8, 18, Quantity(value=-0.004184416666666667, unit=elementary charge**2), Quantity(value=0.3399669508423535, unit=nanometer), Quantity(value=0.2288648, unit=kilojoule/mole)]\n",
      "[14, 18, Quantity(value=0.0, unit=elementary charge**2), Quantity(value=1.0, unit=nanometer), Quantity(value=0.0, unit=kilojoule/mole)]\n",
      "[15, 18, Quantity(value=0.07051425, unit=elementary charge**2), Quantity(value=0.3179795704786499, unit=nanometer), Quantity(value=0.3170881327580709, unit=kilojoule/mole)]\n",
      "[16, 18, Quantity(value=0.0, unit=elementary charge**2), Quantity(value=1.0, unit=nanometer), Quantity(value=0.0, unit=kilojoule/mole)]\n",
      "[17, 18, Quantity(value=0.0, unit=elementary charge**2), Quantity(value=1.0, unit=nanometer), Quantity(value=0.0, unit=kilojoule/mole)]\n",
      "[14, 19, Quantity(value=0.04858040000000001, unit=elementary charge**2), Quantity(value=0.2935511276272418, unit=nanometer), Quantity(value=0.07687068162049819, unit=kilojoule/mole)]\n",
      "[16, 19, Quantity(value=0.0, unit=elementary charge**2), Quantity(value=1.0, unit=nanometer), Quantity(value=0.0, unit=kilojoule/mole)]\n",
      "[17, 19, Quantity(value=0.022114533333333335, unit=elementary charge**2), Quantity(value=0.17702157529448542, unit=nanometer), Quantity(value=0.032844399999999996, unit=kilojoule/mole)]\n",
      "[18, 19, Quantity(value=0.0, unit=elementary charge**2), Quantity(value=1.0, unit=nanometer), Quantity(value=0.0, unit=kilojoule/mole)]\n",
      "[14, 20, Quantity(value=0.04858040000000001, unit=elementary charge**2), Quantity(value=0.2935511276272418, unit=nanometer), Quantity(value=0.07687068162049819, unit=kilojoule/mole)]\n",
      "[16, 20, Quantity(value=0.0, unit=elementary charge**2), Quantity(value=1.0, unit=nanometer), Quantity(value=0.0, unit=kilojoule/mole)]\n",
      "[17, 20, Quantity(value=0.022114533333333335, unit=elementary charge**2), Quantity(value=0.17702157529448542, unit=nanometer), Quantity(value=0.032844399999999996, unit=kilojoule/mole)]\n",
      "[18, 20, Quantity(value=0.0, unit=elementary charge**2), Quantity(value=1.0, unit=nanometer), Quantity(value=0.0, unit=kilojoule/mole)]\n",
      "[19, 20, Quantity(value=0.0, unit=elementary charge**2), Quantity(value=1.0, unit=nanometer), Quantity(value=0.0, unit=kilojoule/mole)]\n",
      "[14, 21, Quantity(value=0.04858040000000001, unit=elementary charge**2), Quantity(value=0.2935511276272418, unit=nanometer), Quantity(value=0.07687068162049819, unit=kilojoule/mole)]\n",
      "[16, 21, Quantity(value=0.0, unit=elementary charge**2), Quantity(value=1.0, unit=nanometer), Quantity(value=0.0, unit=kilojoule/mole)]\n",
      "[17, 21, Quantity(value=0.022114533333333335, unit=elementary charge**2), Quantity(value=0.17702157529448542, unit=nanometer), Quantity(value=0.032844399999999996, unit=kilojoule/mole)]\n",
      "[18, 21, Quantity(value=0.0, unit=elementary charge**2), Quantity(value=1.0, unit=nanometer), Quantity(value=0.0, unit=kilojoule/mole)]\n",
      "[19, 21, Quantity(value=0.0, unit=elementary charge**2), Quantity(value=1.0, unit=nanometer), Quantity(value=0.0, unit=kilojoule/mole)]\n",
      "[20, 21, Quantity(value=0.0, unit=elementary charge**2), Quantity(value=1.0, unit=nanometer), Quantity(value=0.0, unit=kilojoule/mole)]\n"
     ]
    }
   ],
   "source": [
    "# Check that the 1,4s involving unique old are off\n",
    "for i in range(old_system.getForce(3).getNumExceptions()):\n",
    "    print(old_system.getForce(3).getExceptionParameters(i))"
   ]
  },
  {
   "cell_type": "code",
   "execution_count": 34,
   "metadata": {},
   "outputs": [
    {
     "name": "stdout",
     "output_type": "stream",
     "text": [
      "[0, 1, Quantity(value=0.0, unit=elementary charge**2), Quantity(value=1.0, unit=nanometer), Quantity(value=0.0, unit=kilojoule/mole)]\n",
      "[0, 2, Quantity(value=0.0, unit=elementary charge**2), Quantity(value=1.0, unit=nanometer), Quantity(value=0.0, unit=kilojoule/mole)]\n",
      "[1, 2, Quantity(value=0.0, unit=elementary charge**2), Quantity(value=1.0, unit=nanometer), Quantity(value=0.0, unit=kilojoule/mole)]\n",
      "[0, 3, Quantity(value=0.0, unit=elementary charge**2), Quantity(value=1.0, unit=nanometer), Quantity(value=0.0, unit=kilojoule/mole)]\n",
      "[1, 3, Quantity(value=0.0, unit=elementary charge**2), Quantity(value=1.0, unit=nanometer), Quantity(value=0.0, unit=kilojoule/mole)]\n",
      "[2, 3, Quantity(value=0.0, unit=elementary charge**2), Quantity(value=1.0, unit=nanometer), Quantity(value=0.0, unit=kilojoule/mole)]\n",
      "[0, 4, Quantity(value=0.0, unit=elementary charge**2), Quantity(value=1.0, unit=nanometer), Quantity(value=0.0, unit=kilojoule/mole)]\n",
      "[1, 4, Quantity(value=0.0, unit=elementary charge**2), Quantity(value=1.0, unit=nanometer), Quantity(value=0.0, unit=kilojoule/mole)]\n",
      "[2, 4, Quantity(value=0.0, unit=elementary charge**2), Quantity(value=1.0, unit=nanometer), Quantity(value=0.0, unit=kilojoule/mole)]\n",
      "[3, 4, Quantity(value=0.0, unit=elementary charge**2), Quantity(value=1.0, unit=nanometer), Quantity(value=0.0, unit=kilojoule/mole)]\n",
      "[0, 5, Quantity(value=-0.053145975, unit=elementary charge**2), Quantity(value=0.2804727344449416, unit=nanometer), Quantity(value=0.12012161257658839, unit=kilojoule/mole)]\n",
      "[1, 5, Quantity(value=0.0, unit=elementary charge**2), Quantity(value=1.0, unit=nanometer), Quantity(value=0.0, unit=kilojoule/mole)]\n",
      "[2, 5, Quantity(value=-0.053145975, unit=elementary charge**2), Quantity(value=0.2804727344449416, unit=nanometer), Quantity(value=0.12012161257658839, unit=kilojoule/mole)]\n",
      "[3, 5, Quantity(value=-0.053145975, unit=elementary charge**2), Quantity(value=0.2804727344449416, unit=nanometer), Quantity(value=0.12012161257658839, unit=kilojoule/mole)]\n",
      "[4, 5, Quantity(value=0.0, unit=elementary charge**2), Quantity(value=1.0, unit=nanometer), Quantity(value=0.0, unit=kilojoule/mole)]\n",
      "[0, 6, Quantity(value=-0.03890259166666667, unit=elementary charge**2), Quantity(value=0.2949765655762664, unit=nanometer), Quantity(value=0.10807766844265286, unit=kilojoule/mole)]\n",
      "[1, 6, Quantity(value=0.0, unit=elementary charge**2), Quantity(value=1.0, unit=nanometer), Quantity(value=0.0, unit=kilojoule/mole)]\n",
      "[2, 6, Quantity(value=-0.03890259166666667, unit=elementary charge**2), Quantity(value=0.2949765655762664, unit=nanometer), Quantity(value=0.10807766844265286, unit=kilojoule/mole)]\n",
      "[3, 6, Quantity(value=-0.03890259166666667, unit=elementary charge**2), Quantity(value=0.2949765655762664, unit=nanometer), Quantity(value=0.10807766844265286, unit=kilojoule/mole)]\n",
      "[4, 6, Quantity(value=0.0, unit=elementary charge**2), Quantity(value=1.0, unit=nanometer), Quantity(value=0.0, unit=kilojoule/mole)]\n",
      "[5, 6, Quantity(value=0.0, unit=elementary charge**2), Quantity(value=1.0, unit=nanometer), Quantity(value=0.0, unit=kilojoule/mole)]\n",
      "[1, 7, Quantity(value=-0.08297481666666667, unit=elementary charge**2), Quantity(value=0.2234373985095971, unit=nanometer), Quantity(value=0.08670021359327784, unit=kilojoule/mole)]\n",
      "[4, 7, Quantity(value=0.0, unit=elementary charge**2), Quantity(value=1.0, unit=nanometer), Quantity(value=0.0, unit=kilojoule/mole)]\n",
      "[5, 7, Quantity(value=-0.128676675, unit=elementary charge**2), Quantity(value=0.20145001814589353, unit=nanometer), Quantity(value=0.12012161257658839, unit=kilojoule/mole)]\n",
      "[6, 7, Quantity(value=0.0, unit=elementary charge**2), Quantity(value=1.0, unit=nanometer), Quantity(value=0.0, unit=kilojoule/mole)]\n",
      "[1, 8, Quantity(value=0.011870983333333333, unit=elementary charge**2), Quantity(value=0.3399669508423535, unit=nanometer), Quantity(value=0.2288648, unit=kilojoule/mole)]\n",
      "[4, 8, Quantity(value=0.0, unit=elementary charge**2), Quantity(value=1.0, unit=nanometer), Quantity(value=0.0, unit=kilojoule/mole)]\n",
      "[5, 8, Quantity(value=0.018409425, unit=elementary charge**2), Quantity(value=0.3179795704786499, unit=nanometer), Quantity(value=0.3170881327580709, unit=kilojoule/mole)]\n",
      "[6, 8, Quantity(value=0.0, unit=elementary charge**2), Quantity(value=1.0, unit=nanometer), Quantity(value=0.0, unit=kilojoule/mole)]\n",
      "[7, 8, Quantity(value=0.0, unit=elementary charge**2), Quantity(value=1.0, unit=nanometer), Quantity(value=0.0, unit=kilojoule/mole)]\n",
      "[4, 9, Quantity(value=0.05011503333333333, unit=elementary charge**2), Quantity(value=0.2935511276272418, unit=nanometer), Quantity(value=0.07687068162049819, unit=kilojoule/mole)]\n",
      "[6, 9, Quantity(value=0.0, unit=elementary charge**2), Quantity(value=1.0, unit=nanometer), Quantity(value=0.0, unit=kilojoule/mole)]\n",
      "[7, 9, Quantity(value=0.022816941666666667, unit=elementary charge**2), Quantity(value=0.17702157529448542, unit=nanometer), Quantity(value=0.032844399999999996, unit=kilojoule/mole)]\n",
      "[8, 9, Quantity(value=0.0, unit=elementary charge**2), Quantity(value=1.0, unit=nanometer), Quantity(value=0.0, unit=kilojoule/mole)]\n",
      "[4, 10, Quantity(value=0.0, unit=elementary charge**2), Quantity(value=0.3399669508423535, unit=nanometer), Quantity(value=0.0, unit=kilojoule/mole)]\n",
      "[6, 10, Quantity(value=0.0, unit=elementary charge**2), Quantity(value=1.0, unit=nanometer), Quantity(value=0.0, unit=kilojoule/mole)]\n",
      "[7, 10, Quantity(value=0.0, unit=elementary charge**2), Quantity(value=0.2234373985095971, unit=nanometer), Quantity(value=0.0, unit=kilojoule/mole)]\n",
      "[8, 10, Quantity(value=0.0, unit=elementary charge**2), Quantity(value=1.0, unit=nanometer), Quantity(value=0.0, unit=kilojoule/mole)]\n",
      "[9, 10, Quantity(value=0.0, unit=elementary charge**2), Quantity(value=1.0, unit=nanometer), Quantity(value=0.0, unit=kilojoule/mole)]\n",
      "[4, 11, Quantity(value=0.29725630000000003, unit=elementary charge**2), Quantity(value=0.3399669508423535, unit=nanometer), Quantity(value=0.179912, unit=kilojoule/mole)]\n",
      "[6, 11, Quantity(value=0.0, unit=elementary charge**2), Quantity(value=1.0, unit=nanometer), Quantity(value=0.0, unit=kilojoule/mole)]\n",
      "[7, 11, Quantity(value=0.135338225, unit=elementary charge**2), Quantity(value=0.2234373985095971, unit=nanometer), Quantity(value=0.07687068162049819, unit=kilojoule/mole)]\n",
      "[8, 11, Quantity(value=0.0, unit=elementary charge**2), Quantity(value=1.0, unit=nanometer), Quantity(value=0.0, unit=kilojoule/mole)]\n",
      "[9, 11, Quantity(value=0.0, unit=elementary charge**2), Quantity(value=1.0, unit=nanometer), Quantity(value=0.0, unit=kilojoule/mole)]\n",
      "[10, 11, Quantity(value=0.0, unit=elementary charge**2), Quantity(value=1.0, unit=nanometer), Quantity(value=0.0, unit=kilojoule/mole)]\n",
      "[6, 12, Quantity(value=0.196730025, unit=elementary charge**2), Quantity(value=0.31049602124627107, unit=nanometer), Quantity(value=0.3952717606912996, unit=kilojoule/mole)]\n",
      "[8, 12, Quantity(value=0.0, unit=elementary charge**2), Quantity(value=1.0, unit=nanometer), Quantity(value=0.0, unit=kilojoule/mole)]\n",
      "[9, 12, Quantity(value=-0.047656275, unit=elementary charge**2), Quantity(value=0.2715637472635382, unit=nanometer), Quantity(value=0.12012161257658839, unit=kilojoule/mole)]\n",
      "[10, 12, Quantity(value=0.0, unit=elementary charge**2), Quantity(value=0.3179795704786499, unit=nanometer), Quantity(value=0.0, unit=kilojoule/mole)]\n",
      "[11, 12, Quantity(value=0.0, unit=elementary charge**2), Quantity(value=1.0, unit=nanometer), Quantity(value=0.0, unit=kilojoule/mole)]\n",
      "[6, 13, Quantity(value=0.0, unit=elementary charge**2), Quantity(value=0.28606757839486296, unit=nanometer), Quantity(value=0.0, unit=kilojoule/mole)]\n",
      "[8, 13, Quantity(value=0.0, unit=elementary charge**2), Quantity(value=1.0, unit=nanometer), Quantity(value=0.0, unit=kilojoule/mole)]\n",
      "[9, 13, Quantity(value=0.0, unit=elementary charge**2), Quantity(value=0.2471353044121301, unit=nanometer), Quantity(value=0.0, unit=kilojoule/mole)]\n",
      "[10, 13, Quantity(value=0.0, unit=elementary charge**2), Quantity(value=1.0, unit=nanometer), Quantity(value=0.0, unit=kilojoule/mole)]\n",
      "[11, 13, Quantity(value=0.0, unit=elementary charge**2), Quantity(value=0.2935511276272418, unit=nanometer), Quantity(value=0.0, unit=kilojoule/mole)]\n",
      "[6, 14, Quantity(value=0.0, unit=elementary charge**2), Quantity(value=0.3324834016099747, unit=nanometer), Quantity(value=0.0, unit=kilojoule/mole)]\n",
      "[8, 14, Quantity(value=0.0, unit=elementary charge**2), Quantity(value=1.0, unit=nanometer), Quantity(value=0.0, unit=kilojoule/mole)]\n",
      "[9, 14, Quantity(value=0.0, unit=elementary charge**2), Quantity(value=0.2935511276272418, unit=nanometer), Quantity(value=0.0, unit=kilojoule/mole)]\n",
      "[10, 14, Quantity(value=0.0, unit=elementary charge**2), Quantity(value=1.0, unit=nanometer), Quantity(value=0.0, unit=kilojoule/mole)]\n",
      "[11, 14, Quantity(value=0.0, unit=elementary charge**2), Quantity(value=0.3399669508423535, unit=nanometer), Quantity(value=0.0, unit=kilojoule/mole)]\n",
      "[13, 14, Quantity(value=0.0, unit=elementary charge**2), Quantity(value=1.0, unit=nanometer), Quantity(value=0.0, unit=kilojoule/mole)]\n",
      "[8, 15, Quantity(value=0.0, unit=elementary charge**2), Quantity(value=0.3024601148086452, unit=nanometer), Quantity(value=0.0, unit=kilojoule/mole)]\n",
      "[10, 15, Quantity(value=0.0, unit=elementary charge**2), Quantity(value=1.0, unit=nanometer), Quantity(value=0.0, unit=kilojoule/mole)]\n",
      "[13, 15, Quantity(value=0.0, unit=elementary charge**2), Quantity(value=0.2560442915935335, unit=nanometer), Quantity(value=0.0, unit=kilojoule/mole)]\n",
      "[14, 15, Quantity(value=0.0, unit=elementary charge**2), Quantity(value=1.0, unit=nanometer), Quantity(value=0.0, unit=kilojoule/mole)]\n",
      "[8, 16, Quantity(value=0.0, unit=elementary charge**2), Quantity(value=0.3024601148086452, unit=nanometer), Quantity(value=0.0, unit=kilojoule/mole)]\n",
      "[10, 16, Quantity(value=0.0, unit=elementary charge**2), Quantity(value=1.0, unit=nanometer), Quantity(value=0.0, unit=kilojoule/mole)]\n",
      "[13, 16, Quantity(value=0.0, unit=elementary charge**2), Quantity(value=0.2560442915935335, unit=nanometer), Quantity(value=0.0, unit=kilojoule/mole)]\n",
      "[14, 16, Quantity(value=0.0, unit=elementary charge**2), Quantity(value=1.0, unit=nanometer), Quantity(value=0.0, unit=kilojoule/mole)]\n",
      "[15, 16, Quantity(value=0.0, unit=elementary charge**2), Quantity(value=1.0, unit=nanometer), Quantity(value=0.0, unit=kilojoule/mole)]\n",
      "[8, 17, Quantity(value=0.0, unit=elementary charge**2), Quantity(value=0.3024601148086452, unit=nanometer), Quantity(value=0.0, unit=kilojoule/mole)]\n",
      "[10, 17, Quantity(value=0.0, unit=elementary charge**2), Quantity(value=1.0, unit=nanometer), Quantity(value=0.0, unit=kilojoule/mole)]\n",
      "[13, 17, Quantity(value=0.0, unit=elementary charge**2), Quantity(value=0.2560442915935335, unit=nanometer), Quantity(value=0.0, unit=kilojoule/mole)]\n",
      "[14, 17, Quantity(value=0.0, unit=elementary charge**2), Quantity(value=1.0, unit=nanometer), Quantity(value=0.0, unit=kilojoule/mole)]\n",
      "[15, 17, Quantity(value=0.0, unit=elementary charge**2), Quantity(value=1.0, unit=nanometer), Quantity(value=0.0, unit=kilojoule/mole)]\n",
      "[16, 17, Quantity(value=0.0, unit=elementary charge**2), Quantity(value=1.0, unit=nanometer), Quantity(value=0.0, unit=kilojoule/mole)]\n",
      "[6, 18, Quantity(value=0.0, unit=elementary charge**2), Quantity(value=0.31582359558075035, unit=nanometer), Quantity(value=0.0, unit=kilojoule/mole)]\n",
      "[8, 18, Quantity(value=0.0, unit=elementary charge**2), Quantity(value=1.0, unit=nanometer), Quantity(value=0.0, unit=kilojoule/mole)]\n",
      "[9, 18, Quantity(value=0.0, unit=elementary charge**2), Quantity(value=0.27689132159801744, unit=nanometer), Quantity(value=0.0, unit=kilojoule/mole)]\n",
      "[10, 18, Quantity(value=0.0, unit=elementary charge**2), Quantity(value=1.0, unit=nanometer), Quantity(value=0.0, unit=kilojoule/mole)]\n",
      "[11, 18, Quantity(value=0.0, unit=elementary charge**2), Quantity(value=0.32330714481312917, unit=nanometer), Quantity(value=0.0, unit=kilojoule/mole)]\n",
      "[13, 18, Quantity(value=0.0, unit=elementary charge**2), Quantity(value=1.0, unit=nanometer), Quantity(value=0.0, unit=kilojoule/mole)]\n",
      "[14, 18, Quantity(value=0.0, unit=elementary charge**2), Quantity(value=1.0, unit=nanometer), Quantity(value=0.0, unit=kilojoule/mole)]\n",
      "[15, 18, Quantity(value=0.0, unit=elementary charge**2), Quantity(value=0.28580030877942086, unit=nanometer), Quantity(value=0.0, unit=kilojoule/mole)]\n",
      "[16, 18, Quantity(value=0.0, unit=elementary charge**2), Quantity(value=0.28580030877942086, unit=nanometer), Quantity(value=0.0, unit=kilojoule/mole)]\n",
      "[17, 18, Quantity(value=0.0, unit=elementary charge**2), Quantity(value=0.28580030877942086, unit=nanometer), Quantity(value=0.0, unit=kilojoule/mole)]\n",
      "[8, 19, Quantity(value=0.0, unit=elementary charge**2), Quantity(value=0.6699834754211768, unit=nanometer), Quantity(value=0.0, unit=kilojoule/mole)]\n",
      "[10, 19, Quantity(value=0.0, unit=elementary charge**2), Quantity(value=1.0, unit=nanometer), Quantity(value=0.0, unit=kilojoule/mole)]\n",
      "[13, 19, Quantity(value=0.0, unit=elementary charge**2), Quantity(value=0.623567652206065, unit=nanometer), Quantity(value=0.0, unit=kilojoule/mole)]\n",
      "[14, 19, Quantity(value=0.0, unit=elementary charge**2), Quantity(value=0.6699834754211768, unit=nanometer), Quantity(value=0.0, unit=kilojoule/mole)]\n",
      "[18, 19, Quantity(value=0.0, unit=elementary charge**2), Quantity(value=1.0, unit=nanometer), Quantity(value=0.0, unit=kilojoule/mole)]\n",
      "[6, 20, Quantity(value=0.14400540833333336, unit=elementary charge**2), Quantity(value=0.3249998523775958, unit=nanometer), Quantity(value=0.35564000000000007, unit=kilojoule/mole)]\n",
      "[8, 20, Quantity(value=0.0, unit=elementary charge**2), Quantity(value=1.0, unit=nanometer), Quantity(value=0.0, unit=kilojoule/mole)]\n",
      "[9, 20, Quantity(value=-0.03488415833333333, unit=elementary charge**2), Quantity(value=0.28606757839486296, unit=nanometer), Quantity(value=0.10807766844265286, unit=kilojoule/mole)]\n",
      "[10, 20, Quantity(value=0.0, unit=elementary charge**2), Quantity(value=0.3324834016099747, unit=nanometer), Quantity(value=0.0, unit=kilojoule/mole)]\n",
      "[11, 20, Quantity(value=0.0, unit=elementary charge**2), Quantity(value=1.0, unit=nanometer), Quantity(value=0.0, unit=kilojoule/mole)]\n",
      "[12, 20, Quantity(value=0.0, unit=elementary charge**2), Quantity(value=1.0, unit=nanometer), Quantity(value=0.0, unit=kilojoule/mole)]\n",
      "[8, 21, Quantity(value=-0.008814091666666664, unit=elementary charge**2), Quantity(value=0.2234373985095971, unit=nanometer), Quantity(value=0.08670021359327784, unit=kilojoule/mole)]\n",
      "[11, 21, Quantity(value=0.0, unit=elementary charge**2), Quantity(value=1.0, unit=nanometer), Quantity(value=0.0, unit=kilojoule/mole)]\n",
      "[12, 21, Quantity(value=-0.128676675, unit=elementary charge**2), Quantity(value=0.20145001814589353, unit=nanometer), Quantity(value=0.12012161257658839, unit=kilojoule/mole)]\n",
      "[20, 21, Quantity(value=0.0, unit=elementary charge**2), Quantity(value=1.0, unit=nanometer), Quantity(value=0.0, unit=kilojoule/mole)]\n",
      "[8, 22, Quantity(value=0.004830083333333333, unit=elementary charge**2), Quantity(value=0.3399669508423535, unit=nanometer), Quantity(value=0.2288648, unit=kilojoule/mole)]\n",
      "[11, 22, Quantity(value=0.0, unit=elementary charge**2), Quantity(value=1.0, unit=nanometer), Quantity(value=0.0, unit=kilojoule/mole)]\n",
      "[12, 22, Quantity(value=0.07051425, unit=elementary charge**2), Quantity(value=0.3179795704786499, unit=nanometer), Quantity(value=0.3170881327580709, unit=kilojoule/mole)]\n",
      "[20, 22, Quantity(value=0.0, unit=elementary charge**2), Quantity(value=1.0, unit=nanometer), Quantity(value=0.0, unit=kilojoule/mole)]\n",
      "[21, 22, Quantity(value=0.0, unit=elementary charge**2), Quantity(value=1.0, unit=nanometer), Quantity(value=0.0, unit=kilojoule/mole)]\n",
      "[11, 23, Quantity(value=0.04858040000000001, unit=elementary charge**2), Quantity(value=0.2935511276272418, unit=nanometer), Quantity(value=0.07687068162049819, unit=kilojoule/mole)]\n",
      "[20, 23, Quantity(value=0.0, unit=elementary charge**2), Quantity(value=1.0, unit=nanometer), Quantity(value=0.0, unit=kilojoule/mole)]\n",
      "[21, 23, Quantity(value=0.022114533333333335, unit=elementary charge**2), Quantity(value=0.17702157529448542, unit=nanometer), Quantity(value=0.032844399999999996, unit=kilojoule/mole)]\n",
      "[22, 23, Quantity(value=0.0, unit=elementary charge**2), Quantity(value=1.0, unit=nanometer), Quantity(value=0.0, unit=kilojoule/mole)]\n",
      "[11, 24, Quantity(value=0.04858040000000001, unit=elementary charge**2), Quantity(value=0.2935511276272418, unit=nanometer), Quantity(value=0.07687068162049819, unit=kilojoule/mole)]\n",
      "[20, 24, Quantity(value=0.0, unit=elementary charge**2), Quantity(value=1.0, unit=nanometer), Quantity(value=0.0, unit=kilojoule/mole)]\n",
      "[21, 24, Quantity(value=0.022114533333333335, unit=elementary charge**2), Quantity(value=0.17702157529448542, unit=nanometer), Quantity(value=0.032844399999999996, unit=kilojoule/mole)]\n",
      "[22, 24, Quantity(value=0.0, unit=elementary charge**2), Quantity(value=1.0, unit=nanometer), Quantity(value=0.0, unit=kilojoule/mole)]\n",
      "[23, 24, Quantity(value=0.0, unit=elementary charge**2), Quantity(value=1.0, unit=nanometer), Quantity(value=0.0, unit=kilojoule/mole)]\n",
      "[11, 25, Quantity(value=0.04858040000000001, unit=elementary charge**2), Quantity(value=0.2935511276272418, unit=nanometer), Quantity(value=0.07687068162049819, unit=kilojoule/mole)]\n",
      "[20, 25, Quantity(value=0.0, unit=elementary charge**2), Quantity(value=1.0, unit=nanometer), Quantity(value=0.0, unit=kilojoule/mole)]\n",
      "[21, 25, Quantity(value=0.022114533333333335, unit=elementary charge**2), Quantity(value=0.17702157529448542, unit=nanometer), Quantity(value=0.032844399999999996, unit=kilojoule/mole)]\n",
      "[22, 25, Quantity(value=0.0, unit=elementary charge**2), Quantity(value=1.0, unit=nanometer), Quantity(value=0.0, unit=kilojoule/mole)]\n",
      "[23, 25, Quantity(value=0.0, unit=elementary charge**2), Quantity(value=1.0, unit=nanometer), Quantity(value=0.0, unit=kilojoule/mole)]\n",
      "[24, 25, Quantity(value=0.0, unit=elementary charge**2), Quantity(value=1.0, unit=nanometer), Quantity(value=0.0, unit=kilojoule/mole)]\n"
     ]
    }
   ],
   "source": [
    "# Check that the 1,4s involving unique new are off\n",
    "for i in range(new_system.getForce(3).getNumExceptions()):\n",
    "    print(new_system.getForce(3).getExceptionParameters(i))"
   ]
  },
  {
   "cell_type": "code",
   "execution_count": 54,
   "metadata": {},
   "outputs": [
    {
     "name": "stdout",
     "output_type": "stream",
     "text": [
      "ACE1-H1 0\n",
      "ACE1-CH3 1\n",
      "ACE1-H2 2\n",
      "ACE1-H3 3\n",
      "ACE1-C 4\n",
      "ACE1-O 5\n",
      "ALA2-N 6\n",
      "ALA2-H 7\n",
      "ALA2-CA 8\n",
      "ALA2-HA 9\n",
      "ALA2-CB 10\n",
      "ALA2-HB2 11\n",
      "ALA2-HB3 12\n",
      "ALA2-C 13\n",
      "ALA2-O 14\n",
      "ALA2-HB1 15\n",
      "ALA2-HB 22\n",
      "ALA2-CG2 23\n",
      "ALA2-HG21 24\n",
      "ALA2-HG22 25\n",
      "ALA2-HG23 26\n",
      "ALA2-OG1 27\n",
      "ALA2-HG1 28\n",
      "NME3-N 16\n",
      "NME3-H 17\n",
      "NME3-C 18\n",
      "NME3-H1 19\n",
      "NME3-H2 20\n",
      "NME3-H3 21\n"
     ]
    }
   ],
   "source": [
    "for atom in htf_at.hybrid_topology.atoms:\n",
    "    print(atom, atom.index)"
   ]
  },
  {
   "cell_type": "code",
   "execution_count": 55,
   "metadata": {
    "scrolled": true
   },
   "outputs": [
    {
     "name": "stdout",
     "output_type": "stream",
     "text": [
      "<Atom 0 (H1) of chain 0 residue 0 (ACE)> 0\n",
      "<Atom 1 (CH3) of chain 0 residue 0 (ACE)> 1\n",
      "<Atom 2 (H2) of chain 0 residue 0 (ACE)> 2\n",
      "<Atom 3 (H3) of chain 0 residue 0 (ACE)> 3\n",
      "<Atom 4 (C) of chain 0 residue 0 (ACE)> 4\n",
      "<Atom 5 (O) of chain 0 residue 0 (ACE)> 5\n",
      "<Atom 6 (N) of chain 0 residue 1 (ALA)> 6\n",
      "<Atom 7 (H) of chain 0 residue 1 (ALA)> 7\n",
      "<Atom 8 (CA) of chain 0 residue 1 (ALA)> 8\n",
      "<Atom 9 (HA) of chain 0 residue 1 (ALA)> 9\n",
      "<Atom 10 (CB) of chain 0 residue 1 (ALA)> 10\n",
      "<Atom 11 (HB2) of chain 0 residue 1 (ALA)> 11\n",
      "<Atom 12 (HB3) of chain 0 residue 1 (ALA)> 12\n",
      "<Atom 13 (C) of chain 0 residue 1 (ALA)> 13\n",
      "<Atom 14 (O) of chain 0 residue 1 (ALA)> 14\n",
      "<Atom 15 (HB1) of chain 0 residue 1 (ALA)> 15\n",
      "<Atom 16 (N) of chain 0 residue 2 (NME)> 16\n",
      "<Atom 17 (H) of chain 0 residue 2 (NME)> 17\n",
      "<Atom 18 (C) of chain 0 residue 2 (NME)> 18\n",
      "<Atom 19 (H1) of chain 0 residue 2 (NME)> 19\n",
      "<Atom 20 (H2) of chain 0 residue 2 (NME)> 20\n",
      "<Atom 21 (H3) of chain 0 residue 2 (NME)> 21\n"
     ]
    }
   ],
   "source": [
    "for atom in htf_at._topology_proposal.old_topology.atoms():\n",
    "    print(atom, atom.index)"
   ]
  },
  {
   "cell_type": "code",
   "execution_count": 56,
   "metadata": {},
   "outputs": [
    {
     "name": "stdout",
     "output_type": "stream",
     "text": [
      "<Atom 0 (H1) of chain 0 residue 0 (ACE)> 0\n",
      "<Atom 1 (CH3) of chain 0 residue 0 (ACE)> 1\n",
      "<Atom 2 (H2) of chain 0 residue 0 (ACE)> 2\n",
      "<Atom 3 (H3) of chain 0 residue 0 (ACE)> 3\n",
      "<Atom 4 (C) of chain 0 residue 0 (ACE)> 4\n",
      "<Atom 5 (O) of chain 0 residue 0 (ACE)> 5\n",
      "<Atom 6 (N) of chain 0 residue 1 (THR)> 6\n",
      "<Atom 7 (H) of chain 0 residue 1 (THR)> 7\n",
      "<Atom 8 (CA) of chain 0 residue 1 (THR)> 8\n",
      "<Atom 9 (HA) of chain 0 residue 1 (THR)> 9\n",
      "<Atom 10 (CB) of chain 0 residue 1 (THR)> 10\n",
      "<Atom 11 (C) of chain 0 residue 1 (THR)> 11\n",
      "<Atom 12 (O) of chain 0 residue 1 (THR)> 12\n",
      "<Atom 13 (HB) of chain 0 residue 1 (THR)> 13\n",
      "<Atom 14 (CG2) of chain 0 residue 1 (THR)> 14\n",
      "<Atom 15 (HG21) of chain 0 residue 1 (THR)> 15\n",
      "<Atom 16 (HG22) of chain 0 residue 1 (THR)> 16\n",
      "<Atom 17 (HG23) of chain 0 residue 1 (THR)> 17\n",
      "<Atom 18 (OG1) of chain 0 residue 1 (THR)> 18\n",
      "<Atom 19 (HG1) of chain 0 residue 1 (THR)> 19\n",
      "<Atom 20 (N) of chain 0 residue 2 (NME)> 20\n",
      "<Atom 21 (H) of chain 0 residue 2 (NME)> 21\n",
      "<Atom 22 (C) of chain 0 residue 2 (NME)> 22\n",
      "<Atom 23 (H1) of chain 0 residue 2 (NME)> 23\n",
      "<Atom 24 (H2) of chain 0 residue 2 (NME)> 24\n",
      "<Atom 25 (H3) of chain 0 residue 2 (NME)> 25\n"
     ]
    }
   ],
   "source": [
    "for atom in htf_at._topology_proposal.new_topology.atoms():\n",
    "    print(atom, atom.index)"
   ]
  },
  {
   "cell_type": "code",
   "execution_count": 27,
   "metadata": {},
   "outputs": [
    {
     "name": "stderr",
     "output_type": "stream",
     "text": [
      "INFO:relative:Beginning nonbonded method, total particle, barostat, and exceptions retrieval...\n",
      "INFO:relative:Old system forces: dict_keys(['HarmonicBondForce', 'HarmonicAngleForce', 'PeriodicTorsionForce', 'NonbondedForce'])\n",
      "INFO:relative:New system forces: dict_keys(['HarmonicBondForce', 'HarmonicAngleForce', 'PeriodicTorsionForce', 'NonbondedForce'])\n",
      "INFO:relative:No unknown forces.\n",
      "INFO:relative:Nonbonded method to be used (i.e. from old system): 0\n",
      "INFO:relative:Adding and mapping old atoms to hybrid system...\n",
      "INFO:relative:Adding and mapping new atoms to hybrid system...\n",
      "INFO:relative:No MonteCarloBarostat added.\n",
      "INFO:relative:getDefaultPeriodicBoxVectors added to hybrid: [Quantity(value=Vec3(x=2.0, y=0.0, z=0.0), unit=nanometer), Quantity(value=Vec3(x=0.0, y=2.0, z=0.0), unit=nanometer), Quantity(value=Vec3(x=0.0, y=0.0, z=2.0), unit=nanometer)]\n",
      "INFO:relative:Determined atom classes.\n",
      "INFO:relative:Generating old system exceptions dict...\n",
      "INFO:relative:Generating new system exceptions dict...\n",
      "INFO:relative:Handling constraints...\n",
      "INFO:relative:Handling virtual sites...\n",
      "INFO:relative:\t_handle_virtual_sites: numVirtualSites: 0\n",
      "INFO:relative:Adding bond force terms...\n",
      "INFO:relative:Adding angle force terms...\n",
      "INFO:relative:Adding torsion force terms...\n",
      "INFO:relative:Adding nonbonded force terms...\n",
      "INFO:relative:\t_add_nonbonded_force_terms: <simtk.openmm.openmm.NonbondedForce; proxy of <Swig Object of type 'OpenMM::NonbondedForce *' at 0x2ba024a34f90> > added to hybrid system\n",
      "INFO:relative:\t_add_nonbonded_force_terms: nonbonded_method is NoCutoff\n",
      "INFO:relative:\t_add_nonbonded_force_terms: 0 added to standard nonbonded force\n",
      "INFO:relative:\t_add_nonbonded_force_terms: 0 added to sterics_custom_nonbonded force\n",
      "INFO:relative:\t_add_nonbonded_force_terms: <simtk.openmm.openmm.CustomNonbondedForce; proxy of <Swig Object of type 'OpenMM::CustomNonbondedForce *' at 0x2ba024a34f30> > added to hybrid system\n",
      "INFO:relative:Handling harmonic bonds...\n",
      "INFO:relative:\thandle_harmonic_bonds: looping through old_system to add relevant terms...\n",
      "INFO:relative:\thandle_harmonic_bonds: looping through new_system to add relevant terms...\n",
      "INFO:relative:Handling harmonic angles...\n",
      "INFO:relative:\thandle_harmonic_angles: looping through old_system to add relevant terms...\n",
      "INFO:relative:\thandle_harmonic_angles: looping through new_system to add relevant terms...\n",
      "INFO:relative:Handling torsion forces...\n",
      "INFO:relative:\thandle_periodic_torsion_forces: looping through old_system to add relevant terms...\n",
      "INFO:relative:\thandle_periodic_torsion_forces: looping through new_system to add relevant terms...\n",
      "INFO:relative:Handling nonbonded forces...\n",
      "INFO:relative:\thandle_nonbonded: looping through all particles in hybrid...\n",
      "INFO:relative:\thandle_nonbonded: Handling Interaction Groups...\n",
      "INFO:relative:\thandle_nonbonded: Handling Hybrid Exceptions...\n",
      "INFO:relative:\thandle_nonbonded: Handling Original Exceptions...\n",
      "INFO:relative:Handling unique_new/old interaction exceptions...\n",
      "INFO:relative:There are old or new system exceptions...proceeding.\n"
     ]
    }
   ],
   "source": [
    "# Build new htf\n",
    "from perses.tests.test_topology_proposal import generate_atp\n",
    "htf_at._topology_proposal._old_system = old_system\n",
    "htf_at._topology_proposal._new_system = new_system\n",
    "\n",
    "from perses.annihilation.relative import HybridTopologyFactory\n",
    "htf = HybridTopologyFactory(topology_proposal=htf_at._topology_proposal,\n",
    "                     current_positions=htf_at.old_positions(htf_at.hybrid_positions),\n",
    "                     new_positions=htf_at.new_positions(htf_at.hybrid_positions),\n",
    "                     use_dispersion_correction=False,\n",
    "                     functions=None,\n",
    "                     softcore_alpha=None,\n",
    "                     bond_softening_constant=1.0,\n",
    "                     angle_softening_constant=1.0,\n",
    "                     soften_only_new=False,\n",
    "                     neglected_new_angle_terms=[],\n",
    "                     neglected_old_angle_terms=[],\n",
    "                     softcore_LJ_v2=True,\n",
    "                     softcore_electrostatics=True,\n",
    "                     softcore_LJ_v2_alpha=0.85,\n",
    "                     softcore_electrostatics_alpha=0.3,\n",
    "                     softcore_sigma_Q=1.0,\n",
    "                     interpolate_old_and_new_14s=False,\n",
    "                     omitted_terms=None,\n",
    "                     flatten_torsions=False)"
   ]
  },
  {
   "cell_type": "code",
   "execution_count": 39,
   "metadata": {},
   "outputs": [
    {
     "name": "stdout",
     "output_type": "stream",
     "text": [
      "0 <simtk.openmm.openmm.CustomBondForce; proxy of <Swig Object of type 'OpenMM::CustomBondForce *' at 0x2b6ac5ce3660> >\n",
      "1 <simtk.openmm.openmm.HarmonicBondForce; proxy of <Swig Object of type 'OpenMM::HarmonicBondForce *' at 0x2b6ac2069420> >\n",
      "2 <simtk.openmm.openmm.CustomAngleForce; proxy of <Swig Object of type 'OpenMM::CustomAngleForce *' at 0x2b6ac2069420> >\n",
      "3 <simtk.openmm.openmm.HarmonicAngleForce; proxy of <Swig Object of type 'OpenMM::HarmonicAngleForce *' at 0x2b6ac2069420> >\n",
      "4 <simtk.openmm.openmm.CustomTorsionForce; proxy of <Swig Object of type 'OpenMM::CustomTorsionForce *' at 0x2b6ac2069420> >\n",
      "5 <simtk.openmm.openmm.PeriodicTorsionForce; proxy of <Swig Object of type 'OpenMM::PeriodicTorsionForce *' at 0x2b6ac2069420> >\n",
      "6 <simtk.openmm.openmm.NonbondedForce; proxy of <Swig Object of type 'OpenMM::NonbondedForce *' at 0x2b6ac2069420> >\n",
      "7 <simtk.openmm.openmm.CustomNonbondedForce; proxy of <Swig Object of type 'OpenMM::CustomNonbondedForce *' at 0x2b6ac2069420> >\n",
      "8 <simtk.openmm.openmm.CustomBondForce; proxy of <Swig Object of type 'OpenMM::CustomBondForce *' at 0x2b6ac2069420> >\n"
     ]
    }
   ],
   "source": [
    "for i in range(htf.hybrid_system.getNumForces()):\n",
    "    print(i, htf.hybrid_system.getForce(i))"
   ]
  },
  {
   "cell_type": "code",
   "execution_count": 40,
   "metadata": {},
   "outputs": [
    {
     "name": "stdout",
     "output_type": "stream",
     "text": [
      "[10, 22, Quantity(value=0.0, unit=elementary charge**2), Quantity(value=1.0, unit=nanometer), Quantity(value=0.0, unit=kilojoule/mole)]\n",
      "[10, 23, Quantity(value=0.0, unit=elementary charge**2), Quantity(value=1.0, unit=nanometer), Quantity(value=0.0, unit=kilojoule/mole)]\n",
      "[10, 24, Quantity(value=0.0, unit=elementary charge**2), Quantity(value=1.0, unit=nanometer), Quantity(value=0.0, unit=kilojoule/mole)]\n",
      "[10, 25, Quantity(value=0.0, unit=elementary charge**2), Quantity(value=1.0, unit=nanometer), Quantity(value=0.0, unit=kilojoule/mole)]\n",
      "[10, 26, Quantity(value=0.0, unit=elementary charge**2), Quantity(value=1.0, unit=nanometer), Quantity(value=0.0, unit=kilojoule/mole)]\n",
      "[10, 27, Quantity(value=0.0, unit=elementary charge**2), Quantity(value=1.0, unit=nanometer), Quantity(value=0.0, unit=kilojoule/mole)]\n",
      "[10, 28, Quantity(value=0.0, unit=elementary charge**2), Quantity(value=1.0, unit=nanometer), Quantity(value=0.0, unit=kilojoule/mole)]\n",
      "[10, 29, Quantity(value=0.0, unit=elementary charge**2), Quantity(value=1.0, unit=nanometer), Quantity(value=0.0, unit=kilojoule/mole)]\n",
      "[11, 22, Quantity(value=0.0, unit=elementary charge**2), Quantity(value=1.0, unit=nanometer), Quantity(value=0.0, unit=kilojoule/mole)]\n",
      "[11, 23, Quantity(value=0.0, unit=elementary charge**2), Quantity(value=1.0, unit=nanometer), Quantity(value=0.0, unit=kilojoule/mole)]\n",
      "[11, 24, Quantity(value=0.0, unit=elementary charge**2), Quantity(value=1.0, unit=nanometer), Quantity(value=0.0, unit=kilojoule/mole)]\n",
      "[11, 25, Quantity(value=0.0, unit=elementary charge**2), Quantity(value=1.0, unit=nanometer), Quantity(value=0.0, unit=kilojoule/mole)]\n",
      "[11, 26, Quantity(value=0.0, unit=elementary charge**2), Quantity(value=1.0, unit=nanometer), Quantity(value=0.0, unit=kilojoule/mole)]\n",
      "[11, 27, Quantity(value=0.0, unit=elementary charge**2), Quantity(value=1.0, unit=nanometer), Quantity(value=0.0, unit=kilojoule/mole)]\n",
      "[11, 28, Quantity(value=0.0, unit=elementary charge**2), Quantity(value=1.0, unit=nanometer), Quantity(value=0.0, unit=kilojoule/mole)]\n",
      "[11, 29, Quantity(value=0.0, unit=elementary charge**2), Quantity(value=1.0, unit=nanometer), Quantity(value=0.0, unit=kilojoule/mole)]\n",
      "[12, 22, Quantity(value=0.0, unit=elementary charge**2), Quantity(value=1.0, unit=nanometer), Quantity(value=0.0, unit=kilojoule/mole)]\n",
      "[12, 23, Quantity(value=0.0, unit=elementary charge**2), Quantity(value=1.0, unit=nanometer), Quantity(value=0.0, unit=kilojoule/mole)]\n",
      "[12, 24, Quantity(value=0.0, unit=elementary charge**2), Quantity(value=1.0, unit=nanometer), Quantity(value=0.0, unit=kilojoule/mole)]\n",
      "[12, 25, Quantity(value=0.0, unit=elementary charge**2), Quantity(value=1.0, unit=nanometer), Quantity(value=0.0, unit=kilojoule/mole)]\n",
      "[12, 26, Quantity(value=0.0, unit=elementary charge**2), Quantity(value=1.0, unit=nanometer), Quantity(value=0.0, unit=kilojoule/mole)]\n",
      "[12, 27, Quantity(value=0.0, unit=elementary charge**2), Quantity(value=1.0, unit=nanometer), Quantity(value=0.0, unit=kilojoule/mole)]\n",
      "[12, 28, Quantity(value=0.0, unit=elementary charge**2), Quantity(value=1.0, unit=nanometer), Quantity(value=0.0, unit=kilojoule/mole)]\n",
      "[12, 29, Quantity(value=0.0, unit=elementary charge**2), Quantity(value=1.0, unit=nanometer), Quantity(value=0.0, unit=kilojoule/mole)]\n",
      "[13, 22, Quantity(value=0.0, unit=elementary charge**2), Quantity(value=1.0, unit=nanometer), Quantity(value=0.0, unit=kilojoule/mole)]\n",
      "[13, 23, Quantity(value=0.0, unit=elementary charge**2), Quantity(value=1.0, unit=nanometer), Quantity(value=0.0, unit=kilojoule/mole)]\n",
      "[13, 24, Quantity(value=0.0, unit=elementary charge**2), Quantity(value=1.0, unit=nanometer), Quantity(value=0.0, unit=kilojoule/mole)]\n",
      "[13, 25, Quantity(value=0.0, unit=elementary charge**2), Quantity(value=1.0, unit=nanometer), Quantity(value=0.0, unit=kilojoule/mole)]\n",
      "[13, 26, Quantity(value=0.0, unit=elementary charge**2), Quantity(value=1.0, unit=nanometer), Quantity(value=0.0, unit=kilojoule/mole)]\n",
      "[13, 27, Quantity(value=0.0, unit=elementary charge**2), Quantity(value=1.0, unit=nanometer), Quantity(value=0.0, unit=kilojoule/mole)]\n",
      "[13, 28, Quantity(value=0.0, unit=elementary charge**2), Quantity(value=1.0, unit=nanometer), Quantity(value=0.0, unit=kilojoule/mole)]\n",
      "[13, 29, Quantity(value=0.0, unit=elementary charge**2), Quantity(value=1.0, unit=nanometer), Quantity(value=0.0, unit=kilojoule/mole)]\n",
      "[10, 11, Quantity(value=0.0, unit=elementary charge**2), Quantity(value=1.0, unit=nanometer), Quantity(value=0.0, unit=kilojoule/mole)]\n",
      "[10, 12, Quantity(value=0.0, unit=elementary charge**2), Quantity(value=1.0, unit=nanometer), Quantity(value=0.0, unit=kilojoule/mole)]\n",
      "[10, 13, Quantity(value=0.0, unit=elementary charge**2), Quantity(value=1.0, unit=nanometer), Quantity(value=0.0, unit=kilojoule/mole)]\n",
      "[11, 12, Quantity(value=0.0, unit=elementary charge**2), Quantity(value=1.0, unit=nanometer), Quantity(value=0.0, unit=kilojoule/mole)]\n",
      "[11, 13, Quantity(value=0.0, unit=elementary charge**2), Quantity(value=1.0, unit=nanometer), Quantity(value=0.0, unit=kilojoule/mole)]\n",
      "[12, 13, Quantity(value=0.0, unit=elementary charge**2), Quantity(value=1.0, unit=nanometer), Quantity(value=0.0, unit=kilojoule/mole)]\n",
      "[22, 23, Quantity(value=0.0, unit=elementary charge**2), Quantity(value=1.0, unit=nanometer), Quantity(value=0.0, unit=kilojoule/mole)]\n",
      "[22, 24, Quantity(value=0.0, unit=elementary charge**2), Quantity(value=1.0, unit=nanometer), Quantity(value=0.0, unit=kilojoule/mole)]\n",
      "[22, 25, Quantity(value=0.0, unit=elementary charge**2), Quantity(value=1.0, unit=nanometer), Quantity(value=0.0, unit=kilojoule/mole)]\n",
      "[22, 26, Quantity(value=0.0, unit=elementary charge**2), Quantity(value=1.0, unit=nanometer), Quantity(value=0.0, unit=kilojoule/mole)]\n",
      "[22, 27, Quantity(value=0.0, unit=elementary charge**2), Quantity(value=1.0, unit=nanometer), Quantity(value=0.0, unit=kilojoule/mole)]\n",
      "[22, 28, Quantity(value=0.0, unit=elementary charge**2), Quantity(value=1.0, unit=nanometer), Quantity(value=0.0, unit=kilojoule/mole)]\n",
      "[22, 29, Quantity(value=0.0, unit=elementary charge**2), Quantity(value=1.0, unit=nanometer), Quantity(value=0.0, unit=kilojoule/mole)]\n",
      "[23, 24, Quantity(value=0.0, unit=elementary charge**2), Quantity(value=1.0, unit=nanometer), Quantity(value=0.0, unit=kilojoule/mole)]\n",
      "[23, 25, Quantity(value=0.0, unit=elementary charge**2), Quantity(value=0.2560442915935335, unit=nanometer), Quantity(value=0.0, unit=kilojoule/mole)]\n",
      "[23, 26, Quantity(value=0.0, unit=elementary charge**2), Quantity(value=0.2560442915935335, unit=nanometer), Quantity(value=0.0, unit=kilojoule/mole)]\n",
      "[23, 27, Quantity(value=0.0, unit=elementary charge**2), Quantity(value=0.2560442915935335, unit=nanometer), Quantity(value=0.0, unit=kilojoule/mole)]\n",
      "[23, 28, Quantity(value=0.0, unit=elementary charge**2), Quantity(value=1.0, unit=nanometer), Quantity(value=0.0, unit=kilojoule/mole)]\n",
      "[23, 29, Quantity(value=0.0, unit=elementary charge**2), Quantity(value=0.623567652206065, unit=nanometer), Quantity(value=0.0, unit=kilojoule/mole)]\n",
      "[24, 25, Quantity(value=0.0, unit=elementary charge**2), Quantity(value=1.0, unit=nanometer), Quantity(value=0.0, unit=kilojoule/mole)]\n",
      "[24, 26, Quantity(value=0.0, unit=elementary charge**2), Quantity(value=1.0, unit=nanometer), Quantity(value=0.0, unit=kilojoule/mole)]\n",
      "[24, 27, Quantity(value=0.0, unit=elementary charge**2), Quantity(value=1.0, unit=nanometer), Quantity(value=0.0, unit=kilojoule/mole)]\n",
      "[24, 28, Quantity(value=0.0, unit=elementary charge**2), Quantity(value=1.0, unit=nanometer), Quantity(value=0.0, unit=kilojoule/mole)]\n",
      "[24, 29, Quantity(value=0.0, unit=elementary charge**2), Quantity(value=0.6699834754211768, unit=nanometer), Quantity(value=0.0, unit=kilojoule/mole)]\n",
      "[25, 26, Quantity(value=0.0, unit=elementary charge**2), Quantity(value=1.0, unit=nanometer), Quantity(value=0.0, unit=kilojoule/mole)]\n",
      "[25, 27, Quantity(value=0.0, unit=elementary charge**2), Quantity(value=1.0, unit=nanometer), Quantity(value=0.0, unit=kilojoule/mole)]\n",
      "[25, 28, Quantity(value=0.0, unit=elementary charge**2), Quantity(value=0.28580030877942086, unit=nanometer), Quantity(value=0.0, unit=kilojoule/mole)]\n",
      "[26, 27, Quantity(value=0.0, unit=elementary charge**2), Quantity(value=1.0, unit=nanometer), Quantity(value=0.0, unit=kilojoule/mole)]\n",
      "[26, 28, Quantity(value=0.0, unit=elementary charge**2), Quantity(value=0.28580030877942086, unit=nanometer), Quantity(value=0.0, unit=kilojoule/mole)]\n",
      "[27, 28, Quantity(value=0.0, unit=elementary charge**2), Quantity(value=0.28580030877942086, unit=nanometer), Quantity(value=0.0, unit=kilojoule/mole)]\n",
      "[28, 29, Quantity(value=0.0, unit=elementary charge**2), Quantity(value=1.0, unit=nanometer), Quantity(value=0.0, unit=kilojoule/mole)]\n",
      "[0, 1, Quantity(value=0.0, unit=elementary charge**2), Quantity(value=1.0, unit=nanometer), Quantity(value=0.0, unit=kilojoule/mole)]\n",
      "[0, 2, Quantity(value=0.0, unit=elementary charge**2), Quantity(value=1.0, unit=nanometer), Quantity(value=0.0, unit=kilojoule/mole)]\n",
      "[1, 2, Quantity(value=0.0, unit=elementary charge**2), Quantity(value=1.0, unit=nanometer), Quantity(value=0.0, unit=kilojoule/mole)]\n",
      "[0, 3, Quantity(value=0.0, unit=elementary charge**2), Quantity(value=1.0, unit=nanometer), Quantity(value=0.0, unit=kilojoule/mole)]\n",
      "[1, 3, Quantity(value=0.0, unit=elementary charge**2), Quantity(value=1.0, unit=nanometer), Quantity(value=0.0, unit=kilojoule/mole)]\n",
      "[2, 3, Quantity(value=0.0, unit=elementary charge**2), Quantity(value=1.0, unit=nanometer), Quantity(value=0.0, unit=kilojoule/mole)]\n",
      "[0, 4, Quantity(value=0.0, unit=elementary charge**2), Quantity(value=1.0, unit=nanometer), Quantity(value=0.0, unit=kilojoule/mole)]\n",
      "[1, 4, Quantity(value=0.0, unit=elementary charge**2), Quantity(value=1.0, unit=nanometer), Quantity(value=0.0, unit=kilojoule/mole)]\n",
      "[2, 4, Quantity(value=0.0, unit=elementary charge**2), Quantity(value=1.0, unit=nanometer), Quantity(value=0.0, unit=kilojoule/mole)]\n",
      "[3, 4, Quantity(value=0.0, unit=elementary charge**2), Quantity(value=1.0, unit=nanometer), Quantity(value=0.0, unit=kilojoule/mole)]\n",
      "[0, 5, Quantity(value=-0.053145975, unit=elementary charge**2), Quantity(value=0.2804727344449416, unit=nanometer), Quantity(value=0.12012161257658839, unit=kilojoule/mole)]\n",
      "[1, 5, Quantity(value=0.0, unit=elementary charge**2), Quantity(value=1.0, unit=nanometer), Quantity(value=0.0, unit=kilojoule/mole)]\n",
      "[2, 5, Quantity(value=-0.053145975, unit=elementary charge**2), Quantity(value=0.2804727344449416, unit=nanometer), Quantity(value=0.12012161257658839, unit=kilojoule/mole)]\n",
      "[3, 5, Quantity(value=-0.053145975, unit=elementary charge**2), Quantity(value=0.2804727344449416, unit=nanometer), Quantity(value=0.12012161257658839, unit=kilojoule/mole)]\n",
      "[4, 5, Quantity(value=0.0, unit=elementary charge**2), Quantity(value=1.0, unit=nanometer), Quantity(value=0.0, unit=kilojoule/mole)]\n",
      "[0, 6, Quantity(value=-0.03890259166666667, unit=elementary charge**2), Quantity(value=0.2949765655762664, unit=nanometer), Quantity(value=0.10807766844265286, unit=kilojoule/mole)]\n",
      "[1, 6, Quantity(value=0.0, unit=elementary charge**2), Quantity(value=1.0, unit=nanometer), Quantity(value=0.0, unit=kilojoule/mole)]\n",
      "[2, 6, Quantity(value=-0.03890259166666667, unit=elementary charge**2), Quantity(value=0.2949765655762664, unit=nanometer), Quantity(value=0.10807766844265286, unit=kilojoule/mole)]\n",
      "[3, 6, Quantity(value=-0.03890259166666667, unit=elementary charge**2), Quantity(value=0.2949765655762664, unit=nanometer), Quantity(value=0.10807766844265286, unit=kilojoule/mole)]\n",
      "[4, 6, Quantity(value=0.0, unit=elementary charge**2), Quantity(value=1.0, unit=nanometer), Quantity(value=0.0, unit=kilojoule/mole)]\n",
      "[5, 6, Quantity(value=0.0, unit=elementary charge**2), Quantity(value=1.0, unit=nanometer), Quantity(value=0.0, unit=kilojoule/mole)]\n",
      "[1, 7, Quantity(value=-0.08297481666666667, unit=elementary charge**2), Quantity(value=0.2234373985095971, unit=nanometer), Quantity(value=0.08670021359327784, unit=kilojoule/mole)]\n",
      "[4, 7, Quantity(value=0.0, unit=elementary charge**2), Quantity(value=1.0, unit=nanometer), Quantity(value=0.0, unit=kilojoule/mole)]\n",
      "[5, 7, Quantity(value=-0.128676675, unit=elementary charge**2), Quantity(value=0.20145001814589353, unit=nanometer), Quantity(value=0.12012161257658839, unit=kilojoule/mole)]\n",
      "[6, 7, Quantity(value=0.0, unit=elementary charge**2), Quantity(value=1.0, unit=nanometer), Quantity(value=0.0, unit=kilojoule/mole)]\n",
      "[1, 8, Quantity(value=-0.010284116666666667, unit=elementary charge**2), Quantity(value=0.3399669508423535, unit=nanometer), Quantity(value=0.2288648, unit=kilojoule/mole)]\n",
      "[4, 8, Quantity(value=0.0, unit=elementary charge**2), Quantity(value=1.0, unit=nanometer), Quantity(value=0.0, unit=kilojoule/mole)]\n",
      "[5, 8, Quantity(value=-0.015948525, unit=elementary charge**2), Quantity(value=0.3179795704786499, unit=nanometer), Quantity(value=0.3170881327580709, unit=kilojoule/mole)]\n",
      "[6, 8, Quantity(value=0.0, unit=elementary charge**2), Quantity(value=1.0, unit=nanometer), Quantity(value=0.0, unit=kilojoule/mole)]\n",
      "[7, 8, Quantity(value=0.0, unit=elementary charge**2), Quantity(value=1.0, unit=nanometer), Quantity(value=0.0, unit=kilojoule/mole)]\n",
      "[4, 9, Quantity(value=0.040957966666666665, unit=elementary charge**2), Quantity(value=0.2935511276272418, unit=nanometer), Quantity(value=0.07687068162049819, unit=kilojoule/mole)]\n",
      "[6, 9, Quantity(value=0.0, unit=elementary charge**2), Quantity(value=1.0, unit=nanometer), Quantity(value=0.0, unit=kilojoule/mole)]\n",
      "[7, 9, Quantity(value=0.01864780833333333, unit=elementary charge**2), Quantity(value=0.17702157529448542, unit=nanometer), Quantity(value=0.032844399999999996, unit=kilojoule/mole)]\n",
      "[8, 9, Quantity(value=0.0, unit=elementary charge**2), Quantity(value=1.0, unit=nanometer), Quantity(value=0.0, unit=kilojoule/mole)]\n",
      "[4, 10, Quantity(value=0.0, unit=elementary charge**2), Quantity(value=0.3399669508423535, unit=nanometer), Quantity(value=0.0, unit=kilojoule/mole)]\n",
      "[6, 10, Quantity(value=0.0, unit=elementary charge**2), Quantity(value=1.0, unit=nanometer), Quantity(value=0.0, unit=kilojoule/mole)]\n",
      "[7, 10, Quantity(value=0.0, unit=elementary charge**2), Quantity(value=0.2234373985095971, unit=nanometer), Quantity(value=0.0, unit=kilojoule/mole)]\n",
      "[8, 10, Quantity(value=0.0, unit=elementary charge**2), Quantity(value=1.0, unit=nanometer), Quantity(value=0.0, unit=kilojoule/mole)]\n",
      "[9, 10, Quantity(value=0.0, unit=elementary charge**2), Quantity(value=1.0, unit=nanometer), Quantity(value=0.0, unit=kilojoule/mole)]\n",
      "[6, 11, Quantity(value=0.0, unit=elementary charge**2), Quantity(value=0.2949765655762664, unit=nanometer), Quantity(value=0.0, unit=kilojoule/mole)]\n",
      "[8, 11, Quantity(value=0.0, unit=elementary charge**2), Quantity(value=1.0, unit=nanometer), Quantity(value=0.0, unit=kilojoule/mole)]\n",
      "[9, 11, Quantity(value=0.0, unit=elementary charge**2), Quantity(value=0.2560442915935335, unit=nanometer), Quantity(value=0.0, unit=kilojoule/mole)]\n",
      "[6, 12, Quantity(value=0.0, unit=elementary charge**2), Quantity(value=0.2949765655762664, unit=nanometer), Quantity(value=0.0, unit=kilojoule/mole)]\n",
      "[8, 12, Quantity(value=0.0, unit=elementary charge**2), Quantity(value=1.0, unit=nanometer), Quantity(value=0.0, unit=kilojoule/mole)]\n",
      "[9, 12, Quantity(value=0.0, unit=elementary charge**2), Quantity(value=0.2560442915935335, unit=nanometer), Quantity(value=0.0, unit=kilojoule/mole)]\n",
      "[6, 13, Quantity(value=0.0, unit=elementary charge**2), Quantity(value=0.2949765655762664, unit=nanometer), Quantity(value=0.0, unit=kilojoule/mole)]\n",
      "[8, 13, Quantity(value=0.0, unit=elementary charge**2), Quantity(value=1.0, unit=nanometer), Quantity(value=0.0, unit=kilojoule/mole)]\n",
      "[9, 13, Quantity(value=0.0, unit=elementary charge**2), Quantity(value=0.2560442915935335, unit=nanometer), Quantity(value=0.0, unit=kilojoule/mole)]\n",
      "[4, 14, Quantity(value=0.29725630000000003, unit=elementary charge**2), Quantity(value=0.3399669508423535, unit=nanometer), Quantity(value=0.179912, unit=kilojoule/mole)]\n",
      "[6, 14, Quantity(value=0.0, unit=elementary charge**2), Quantity(value=1.0, unit=nanometer), Quantity(value=0.0, unit=kilojoule/mole)]\n",
      "[7, 14, Quantity(value=0.135338225, unit=elementary charge**2), Quantity(value=0.2234373985095971, unit=nanometer), Quantity(value=0.07687068162049819, unit=kilojoule/mole)]\n",
      "[8, 14, Quantity(value=0.0, unit=elementary charge**2), Quantity(value=1.0, unit=nanometer), Quantity(value=0.0, unit=kilojoule/mole)]\n",
      "[9, 14, Quantity(value=0.0, unit=elementary charge**2), Quantity(value=1.0, unit=nanometer), Quantity(value=0.0, unit=kilojoule/mole)]\n",
      "[10, 14, Quantity(value=0.0, unit=elementary charge**2), Quantity(value=1.0, unit=nanometer), Quantity(value=0.0, unit=kilojoule/mole)]\n",
      "[11, 14, Quantity(value=0.0, unit=elementary charge**2), Quantity(value=0.3024601148086452, unit=nanometer), Quantity(value=0.0, unit=kilojoule/mole)]\n",
      "[12, 14, Quantity(value=0.0, unit=elementary charge**2), Quantity(value=0.3024601148086452, unit=nanometer), Quantity(value=0.0, unit=kilojoule/mole)]\n",
      "[13, 14, Quantity(value=0.0, unit=elementary charge**2), Quantity(value=0.3024601148086452, unit=nanometer), Quantity(value=0.0, unit=kilojoule/mole)]\n",
      "[6, 15, Quantity(value=0.196730025, unit=elementary charge**2), Quantity(value=0.31049602124627107, unit=nanometer), Quantity(value=0.3952717606912996, unit=kilojoule/mole)]\n",
      "[8, 15, Quantity(value=0.0, unit=elementary charge**2), Quantity(value=1.0, unit=nanometer), Quantity(value=0.0, unit=kilojoule/mole)]\n",
      "[9, 15, Quantity(value=-0.038948474999999996, unit=elementary charge**2), Quantity(value=0.2715637472635382, unit=nanometer), Quantity(value=0.12012161257658839, unit=kilojoule/mole)]\n",
      "[10, 15, Quantity(value=0.0, unit=elementary charge**2), Quantity(value=0.3179795704786499, unit=nanometer), Quantity(value=0.0, unit=kilojoule/mole)]\n",
      "[14, 15, Quantity(value=0.0, unit=elementary charge**2), Quantity(value=1.0, unit=nanometer), Quantity(value=0.0, unit=kilojoule/mole)]\n",
      "[6, 16, Quantity(value=0.14400540833333336, unit=elementary charge**2), Quantity(value=0.3249998523775958, unit=nanometer), Quantity(value=0.35564000000000007, unit=kilojoule/mole)]\n",
      "[8, 16, Quantity(value=0.0, unit=elementary charge**2), Quantity(value=1.0, unit=nanometer), Quantity(value=0.0, unit=kilojoule/mole)]\n",
      "[9, 16, Quantity(value=-0.028510091666666668, unit=elementary charge**2), Quantity(value=0.28606757839486296, unit=nanometer), Quantity(value=0.10807766844265286, unit=kilojoule/mole)]\n",
      "[10, 16, Quantity(value=0.0, unit=elementary charge**2), Quantity(value=0.3324834016099747, unit=nanometer), Quantity(value=0.0, unit=kilojoule/mole)]\n",
      "[14, 16, Quantity(value=0.0, unit=elementary charge**2), Quantity(value=1.0, unit=nanometer), Quantity(value=0.0, unit=kilojoule/mole)]\n",
      "[15, 16, Quantity(value=0.0, unit=elementary charge**2), Quantity(value=1.0, unit=nanometer), Quantity(value=0.0, unit=kilojoule/mole)]\n",
      "[8, 17, Quantity(value=0.007635858333333333, unit=elementary charge**2), Quantity(value=0.2234373985095971, unit=nanometer), Quantity(value=0.08670021359327784, unit=kilojoule/mole)]\n",
      "[14, 17, Quantity(value=0.0, unit=elementary charge**2), Quantity(value=1.0, unit=nanometer), Quantity(value=0.0, unit=kilojoule/mole)]\n",
      "[15, 17, Quantity(value=-0.128676675, unit=elementary charge**2), Quantity(value=0.20145001814589353, unit=nanometer), Quantity(value=0.12012161257658839, unit=kilojoule/mole)]\n",
      "[16, 17, Quantity(value=0.0, unit=elementary charge**2), Quantity(value=1.0, unit=nanometer), Quantity(value=0.0, unit=kilojoule/mole)]\n",
      "[8, 18, Quantity(value=-0.004184416666666667, unit=elementary charge**2), Quantity(value=0.3399669508423535, unit=nanometer), Quantity(value=0.2288648, unit=kilojoule/mole)]\n",
      "[14, 18, Quantity(value=0.0, unit=elementary charge**2), Quantity(value=1.0, unit=nanometer), Quantity(value=0.0, unit=kilojoule/mole)]\n",
      "[15, 18, Quantity(value=0.07051425, unit=elementary charge**2), Quantity(value=0.3179795704786499, unit=nanometer), Quantity(value=0.3170881327580709, unit=kilojoule/mole)]\n",
      "[16, 18, Quantity(value=0.0, unit=elementary charge**2), Quantity(value=1.0, unit=nanometer), Quantity(value=0.0, unit=kilojoule/mole)]\n",
      "[17, 18, Quantity(value=0.0, unit=elementary charge**2), Quantity(value=1.0, unit=nanometer), Quantity(value=0.0, unit=kilojoule/mole)]\n",
      "[14, 19, Quantity(value=0.04858040000000001, unit=elementary charge**2), Quantity(value=0.2935511276272418, unit=nanometer), Quantity(value=0.07687068162049819, unit=kilojoule/mole)]\n",
      "[16, 19, Quantity(value=0.0, unit=elementary charge**2), Quantity(value=1.0, unit=nanometer), Quantity(value=0.0, unit=kilojoule/mole)]\n",
      "[17, 19, Quantity(value=0.022114533333333335, unit=elementary charge**2), Quantity(value=0.17702157529448542, unit=nanometer), Quantity(value=0.032844399999999996, unit=kilojoule/mole)]\n",
      "[18, 19, Quantity(value=0.0, unit=elementary charge**2), Quantity(value=1.0, unit=nanometer), Quantity(value=0.0, unit=kilojoule/mole)]\n",
      "[14, 20, Quantity(value=0.04858040000000001, unit=elementary charge**2), Quantity(value=0.2935511276272418, unit=nanometer), Quantity(value=0.07687068162049819, unit=kilojoule/mole)]\n",
      "[16, 20, Quantity(value=0.0, unit=elementary charge**2), Quantity(value=1.0, unit=nanometer), Quantity(value=0.0, unit=kilojoule/mole)]\n",
      "[17, 20, Quantity(value=0.022114533333333335, unit=elementary charge**2), Quantity(value=0.17702157529448542, unit=nanometer), Quantity(value=0.032844399999999996, unit=kilojoule/mole)]\n",
      "[18, 20, Quantity(value=0.0, unit=elementary charge**2), Quantity(value=1.0, unit=nanometer), Quantity(value=0.0, unit=kilojoule/mole)]\n",
      "[19, 20, Quantity(value=0.0, unit=elementary charge**2), Quantity(value=1.0, unit=nanometer), Quantity(value=0.0, unit=kilojoule/mole)]\n",
      "[14, 21, Quantity(value=0.04858040000000001, unit=elementary charge**2), Quantity(value=0.2935511276272418, unit=nanometer), Quantity(value=0.07687068162049819, unit=kilojoule/mole)]\n",
      "[16, 21, Quantity(value=0.0, unit=elementary charge**2), Quantity(value=1.0, unit=nanometer), Quantity(value=0.0, unit=kilojoule/mole)]\n",
      "[17, 21, Quantity(value=0.022114533333333335, unit=elementary charge**2), Quantity(value=0.17702157529448542, unit=nanometer), Quantity(value=0.032844399999999996, unit=kilojoule/mole)]\n",
      "[18, 21, Quantity(value=0.0, unit=elementary charge**2), Quantity(value=1.0, unit=nanometer), Quantity(value=0.0, unit=kilojoule/mole)]\n",
      "[19, 21, Quantity(value=0.0, unit=elementary charge**2), Quantity(value=1.0, unit=nanometer), Quantity(value=0.0, unit=kilojoule/mole)]\n",
      "[20, 21, Quantity(value=0.0, unit=elementary charge**2), Quantity(value=1.0, unit=nanometer), Quantity(value=0.0, unit=kilojoule/mole)]\n",
      "[4, 22, Quantity(value=0.0, unit=elementary charge**2), Quantity(value=0.3399669508423535, unit=nanometer), Quantity(value=0.0, unit=kilojoule/mole)]\n",
      "[6, 22, Quantity(value=0.0, unit=elementary charge**2), Quantity(value=1.0, unit=nanometer), Quantity(value=0.0, unit=kilojoule/mole)]\n",
      "[7, 22, Quantity(value=0.0, unit=elementary charge**2), Quantity(value=0.2234373985095971, unit=nanometer), Quantity(value=0.0, unit=kilojoule/mole)]\n",
      "[8, 22, Quantity(value=0.0, unit=elementary charge**2), Quantity(value=1.0, unit=nanometer), Quantity(value=0.0, unit=kilojoule/mole)]\n",
      "[9, 22, Quantity(value=0.0, unit=elementary charge**2), Quantity(value=1.0, unit=nanometer), Quantity(value=0.0, unit=kilojoule/mole)]\n",
      "[22, 14, Quantity(value=0.0, unit=elementary charge**2), Quantity(value=1.0, unit=nanometer), Quantity(value=0.0, unit=kilojoule/mole)]\n",
      "[22, 15, Quantity(value=0.0, unit=elementary charge**2), Quantity(value=0.3179795704786499, unit=nanometer), Quantity(value=0.0, unit=kilojoule/mole)]\n",
      "[6, 23, Quantity(value=0.0, unit=elementary charge**2), Quantity(value=0.28606757839486296, unit=nanometer), Quantity(value=0.0, unit=kilojoule/mole)]\n",
      "[8, 23, Quantity(value=0.0, unit=elementary charge**2), Quantity(value=1.0, unit=nanometer), Quantity(value=0.0, unit=kilojoule/mole)]\n",
      "[9, 23, Quantity(value=0.0, unit=elementary charge**2), Quantity(value=0.2471353044121301, unit=nanometer), Quantity(value=0.0, unit=kilojoule/mole)]\n",
      "[14, 23, Quantity(value=0.0, unit=elementary charge**2), Quantity(value=0.2935511276272418, unit=nanometer), Quantity(value=0.0, unit=kilojoule/mole)]\n",
      "[6, 24, Quantity(value=0.0, unit=elementary charge**2), Quantity(value=0.3324834016099747, unit=nanometer), Quantity(value=0.0, unit=kilojoule/mole)]\n",
      "[8, 24, Quantity(value=0.0, unit=elementary charge**2), Quantity(value=1.0, unit=nanometer), Quantity(value=0.0, unit=kilojoule/mole)]\n",
      "[9, 24, Quantity(value=0.0, unit=elementary charge**2), Quantity(value=0.2935511276272418, unit=nanometer), Quantity(value=0.0, unit=kilojoule/mole)]\n",
      "[14, 24, Quantity(value=0.0, unit=elementary charge**2), Quantity(value=0.3399669508423535, unit=nanometer), Quantity(value=0.0, unit=kilojoule/mole)]\n",
      "[8, 25, Quantity(value=0.0, unit=elementary charge**2), Quantity(value=0.3024601148086452, unit=nanometer), Quantity(value=0.0, unit=kilojoule/mole)]\n",
      "[8, 26, Quantity(value=0.0, unit=elementary charge**2), Quantity(value=0.3024601148086452, unit=nanometer), Quantity(value=0.0, unit=kilojoule/mole)]\n",
      "[8, 27, Quantity(value=0.0, unit=elementary charge**2), Quantity(value=0.3024601148086452, unit=nanometer), Quantity(value=0.0, unit=kilojoule/mole)]\n",
      "[6, 28, Quantity(value=0.0, unit=elementary charge**2), Quantity(value=0.31582359558075035, unit=nanometer), Quantity(value=0.0, unit=kilojoule/mole)]\n",
      "[8, 28, Quantity(value=0.0, unit=elementary charge**2), Quantity(value=1.0, unit=nanometer), Quantity(value=0.0, unit=kilojoule/mole)]\n",
      "[9, 28, Quantity(value=0.0, unit=elementary charge**2), Quantity(value=0.27689132159801744, unit=nanometer), Quantity(value=0.0, unit=kilojoule/mole)]\n",
      "[14, 28, Quantity(value=0.0, unit=elementary charge**2), Quantity(value=0.32330714481312917, unit=nanometer), Quantity(value=0.0, unit=kilojoule/mole)]\n",
      "[8, 29, Quantity(value=0.0, unit=elementary charge**2), Quantity(value=0.6699834754211768, unit=nanometer), Quantity(value=0.0, unit=kilojoule/mole)]\n",
      "[22, 16, Quantity(value=0.0, unit=elementary charge**2), Quantity(value=0.3324834016099747, unit=nanometer), Quantity(value=0.0, unit=kilojoule/mole)]\n"
     ]
    }
   ],
   "source": [
    "# Check that the 1,4s involving unique new are off\n",
    "for i in range(htf.hybrid_system.getForce(6).getNumExceptions()):\n",
    "    print(htf.hybrid_system.getForce(6).getExceptionParameters(i))"
   ]
  },
  {
   "cell_type": "code",
   "execution_count": 71,
   "metadata": {},
   "outputs": [
    {
     "name": "stdout",
     "output_type": "stream",
     "text": [
      "<Atom 0 (H1) of chain 0 residue 0 (ACE)>\n",
      "<Atom 1 (CH3) of chain 0 residue 0 (ACE)>\n",
      "<Atom 2 (H2) of chain 0 residue 0 (ACE)>\n",
      "<Atom 3 (H3) of chain 0 residue 0 (ACE)>\n",
      "<Atom 4 (C) of chain 0 residue 0 (ACE)>\n",
      "<Atom 5 (O) of chain 0 residue 0 (ACE)>\n",
      "<Atom 6 (N) of chain 0 residue 1 (ALA)>\n",
      "<Atom 7 (H) of chain 0 residue 1 (ALA)>\n",
      "<Atom 8 (CA) of chain 0 residue 1 (ALA)>\n",
      "<Atom 9 (HA) of chain 0 residue 1 (ALA)>\n",
      "<Atom 10 (CB) of chain 0 residue 1 (ALA)>\n",
      "<Atom 11 (HB2) of chain 0 residue 1 (ALA)>\n",
      "<Atom 12 (HB3) of chain 0 residue 1 (ALA)>\n",
      "<Atom 13 (C) of chain 0 residue 1 (ALA)>\n",
      "<Atom 14 (O) of chain 0 residue 1 (ALA)>\n",
      "<Atom 15 (HB1) of chain 0 residue 1 (ALA)>\n",
      "<Atom 16 (N) of chain 0 residue 2 (NME)>\n",
      "<Atom 17 (H) of chain 0 residue 2 (NME)>\n",
      "<Atom 18 (C) of chain 0 residue 2 (NME)>\n",
      "<Atom 19 (H1) of chain 0 residue 2 (NME)>\n",
      "<Atom 20 (H2) of chain 0 residue 2 (NME)>\n",
      "<Atom 21 (H3) of chain 0 residue 2 (NME)>\n"
     ]
    }
   ],
   "source": [
    "for atom in htf._topology_proposal.old_topology.atoms():\n",
    "    print(atom)"
   ]
  },
  {
   "cell_type": "code",
   "execution_count": 72,
   "metadata": {},
   "outputs": [
    {
     "name": "stdout",
     "output_type": "stream",
     "text": [
      "<Atom 0 (H1) of chain 0 residue 0 (ACE)>\n",
      "<Atom 1 (CH3) of chain 0 residue 0 (ACE)>\n",
      "<Atom 2 (H2) of chain 0 residue 0 (ACE)>\n",
      "<Atom 3 (H3) of chain 0 residue 0 (ACE)>\n",
      "<Atom 4 (C) of chain 0 residue 0 (ACE)>\n",
      "<Atom 5 (O) of chain 0 residue 0 (ACE)>\n",
      "<Atom 6 (N) of chain 0 residue 1 (THR)>\n",
      "<Atom 7 (H) of chain 0 residue 1 (THR)>\n",
      "<Atom 8 (CA) of chain 0 residue 1 (THR)>\n",
      "<Atom 9 (HA) of chain 0 residue 1 (THR)>\n",
      "<Atom 10 (CB) of chain 0 residue 1 (THR)>\n",
      "<Atom 11 (C) of chain 0 residue 1 (THR)>\n",
      "<Atom 12 (O) of chain 0 residue 1 (THR)>\n",
      "<Atom 13 (HB) of chain 0 residue 1 (THR)>\n",
      "<Atom 14 (CG2) of chain 0 residue 1 (THR)>\n",
      "<Atom 15 (HG21) of chain 0 residue 1 (THR)>\n",
      "<Atom 16 (HG22) of chain 0 residue 1 (THR)>\n",
      "<Atom 17 (HG23) of chain 0 residue 1 (THR)>\n",
      "<Atom 18 (OG1) of chain 0 residue 1 (THR)>\n",
      "<Atom 19 (HG1) of chain 0 residue 1 (THR)>\n",
      "<Atom 20 (N) of chain 0 residue 2 (NME)>\n",
      "<Atom 21 (H) of chain 0 residue 2 (NME)>\n",
      "<Atom 22 (C) of chain 0 residue 2 (NME)>\n",
      "<Atom 23 (H1) of chain 0 residue 2 (NME)>\n",
      "<Atom 24 (H2) of chain 0 residue 2 (NME)>\n",
      "<Atom 25 (H3) of chain 0 residue 2 (NME)>\n"
     ]
    }
   ],
   "source": [
    "for atom in htf._topology_proposal.new_topology.atoms():\n",
    "    print(atom)"
   ]
  },
  {
   "cell_type": "code",
   "execution_count": 73,
   "metadata": {},
   "outputs": [
    {
     "name": "stdout",
     "output_type": "stream",
     "text": [
      "ACE1-H1 0\n",
      "ACE1-CH3 1\n",
      "ACE1-H2 2\n",
      "ACE1-H3 3\n",
      "ACE1-C 4\n",
      "ACE1-O 5\n",
      "ALA2-N 6\n",
      "ALA2-H 7\n",
      "ALA2-CA 8\n",
      "ALA2-HA 9\n",
      "ALA2-CB 10\n",
      "ALA2-HB2 11\n",
      "ALA2-HB3 12\n",
      "ALA2-C 13\n",
      "ALA2-O 14\n",
      "ALA2-HB1 15\n",
      "ALA2-HB 22\n",
      "ALA2-CG2 23\n",
      "ALA2-HG21 24\n",
      "ALA2-HG22 25\n",
      "ALA2-HG23 26\n",
      "ALA2-OG1 27\n",
      "ALA2-HG1 28\n",
      "NME3-N 16\n",
      "NME3-H 17\n",
      "NME3-C 18\n",
      "NME3-H1 19\n",
      "NME3-H2 20\n",
      "NME3-H3 21\n"
     ]
    }
   ],
   "source": [
    "for atom in htf.hybrid_topology.atoms:\n",
    "    print(atom, atom.index)"
   ]
  },
  {
   "cell_type": "code",
   "execution_count": 33,
   "metadata": {
    "scrolled": true
   },
   "outputs": [
    {
     "name": "stderr",
     "output_type": "stream",
     "text": [
      "100%|██████████| 10000/10000 [00:01<00:00, 5982.34it/s]\n"
     ]
    },
    {
     "name": "stdout",
     "output_type": "stream",
     "text": [
      "1.0471988\n",
      "10.066165007672403\n"
     ]
    },
    {
     "name": "stderr",
     "output_type": "stream",
     "text": [
      "INFO:root:Rotating by 0.26199995022480693 radians\n",
      "INFO:root:Rotating by 0.2619999999999929 radians\n"
     ]
    },
    {
     "name": "stdout",
     "output_type": "stream",
     "text": [
      "13.615615490399003\n"
     ]
    },
    {
     "name": "stderr",
     "output_type": "stream",
     "text": [
      "INFO:root:Rotating by 0.26200000000000334 radians\n"
     ]
    },
    {
     "name": "stdout",
     "output_type": "stream",
     "text": [
      "7.912438805931591\n"
     ]
    },
    {
     "name": "stderr",
     "output_type": "stream",
     "text": [
      "INFO:root:Rotating by 0.26199999999999823 radians\n"
     ]
    },
    {
     "name": "stdout",
     "output_type": "stream",
     "text": [
      "13.771066609354532\n"
     ]
    },
    {
     "name": "stderr",
     "output_type": "stream",
     "text": [
      "INFO:root:Rotating by 0.2620000000000058 radians\n"
     ]
    },
    {
     "name": "stdout",
     "output_type": "stream",
     "text": [
      "23.385624146295818\n"
     ]
    },
    {
     "name": "stderr",
     "output_type": "stream",
     "text": [
      "INFO:root:Rotating by 0.2620000000000031 radians\n"
     ]
    },
    {
     "name": "stdout",
     "output_type": "stream",
     "text": [
      "9.7377366727603\n"
     ]
    },
    {
     "name": "stderr",
     "output_type": "stream",
     "text": [
      "INFO:root:Rotating by 0.26199999999999957 radians\n"
     ]
    },
    {
     "name": "stdout",
     "output_type": "stream",
     "text": [
      "17.71244577215738\n"
     ]
    },
    {
     "name": "stderr",
     "output_type": "stream",
     "text": [
      "INFO:root:Rotating by -6.0211853071795876 radians\n"
     ]
    },
    {
     "name": "stdout",
     "output_type": "stream",
     "text": [
      "11.51981378881569\n"
     ]
    },
    {
     "name": "stderr",
     "output_type": "stream",
     "text": [
      "INFO:root:Rotating by 0.26199999999994183 radians\n"
     ]
    },
    {
     "name": "stdout",
     "output_type": "stream",
     "text": [
      "6.985381218318895\n"
     ]
    },
    {
     "name": "stderr",
     "output_type": "stream",
     "text": [
      "INFO:root:Rotating by 0.26200000000005597 radians\n"
     ]
    },
    {
     "name": "stdout",
     "output_type": "stream",
     "text": [
      "4.727666862502012\n"
     ]
    },
    {
     "name": "stderr",
     "output_type": "stream",
     "text": [
      "INFO:root:Rotating by 0.2619999999999991 radians\n"
     ]
    },
    {
     "name": "stdout",
     "output_type": "stream",
     "text": [
      "16.075414790953733\n"
     ]
    },
    {
     "name": "stderr",
     "output_type": "stream",
     "text": [
      "INFO:root:Rotating by 0.2620000000000009 radians\n"
     ]
    },
    {
     "name": "stdout",
     "output_type": "stream",
     "text": [
      "7.7922891112820585\n"
     ]
    },
    {
     "name": "stderr",
     "output_type": "stream",
     "text": [
      "INFO:root:Rotating by 0.26200000000000356 radians\n"
     ]
    },
    {
     "name": "stdout",
     "output_type": "stream",
     "text": [
      "16.057350170593814\n"
     ]
    },
    {
     "name": "stderr",
     "output_type": "stream",
     "text": [
      "INFO:root:Rotating by 0.2620000000000027 radians\n"
     ]
    },
    {
     "name": "stdout",
     "output_type": "stream",
     "text": [
      "18.953073298788485\n"
     ]
    },
    {
     "name": "stderr",
     "output_type": "stream",
     "text": [
      "INFO:root:Rotating by 0.26199999999999823 radians\n"
     ]
    },
    {
     "name": "stdout",
     "output_type": "stream",
     "text": [
      "14.952645004152611\n"
     ]
    },
    {
     "name": "stderr",
     "output_type": "stream",
     "text": [
      "INFO:root:Rotating by 0.2620000000000011 radians\n"
     ]
    },
    {
     "name": "stdout",
     "output_type": "stream",
     "text": [
      "16.671624274393736\n"
     ]
    },
    {
     "name": "stderr",
     "output_type": "stream",
     "text": [
      "INFO:root:Rotating by 0.2620000000000009 radians\n"
     ]
    },
    {
     "name": "stdout",
     "output_type": "stream",
     "text": [
      "8.721521017455158\n"
     ]
    },
    {
     "name": "stderr",
     "output_type": "stream",
     "text": [
      "INFO:root:Rotating by 0.26200000000000034 radians\n"
     ]
    },
    {
     "name": "stdout",
     "output_type": "stream",
     "text": [
      "8.643374679701608\n"
     ]
    },
    {
     "name": "stderr",
     "output_type": "stream",
     "text": [
      "INFO:root:Rotating by 0.262000000000004 radians\n"
     ]
    },
    {
     "name": "stdout",
     "output_type": "stream",
     "text": [
      "5.952131621081102\n"
     ]
    },
    {
     "name": "stderr",
     "output_type": "stream",
     "text": [
      "INFO:root:Rotating by 0.26199999999999807 radians\n"
     ]
    },
    {
     "name": "stdout",
     "output_type": "stream",
     "text": [
      "24.21514251216303\n"
     ]
    },
    {
     "name": "stderr",
     "output_type": "stream",
     "text": [
      "INFO:root:Rotating by 0.26200000000000323 radians\n"
     ]
    },
    {
     "name": "stdout",
     "output_type": "stream",
     "text": [
      "9.111589066973574\n"
     ]
    },
    {
     "name": "stderr",
     "output_type": "stream",
     "text": [
      "INFO:root:Rotating by 0.2620000000000027 radians\n"
     ]
    },
    {
     "name": "stdout",
     "output_type": "stream",
     "text": [
      "12.884894885627126\n"
     ]
    },
    {
     "name": "stderr",
     "output_type": "stream",
     "text": [
      "INFO:root:Rotating by 0.2620000000000027 radians\n"
     ]
    },
    {
     "name": "stdout",
     "output_type": "stream",
     "text": [
      "17.00210337044465\n"
     ]
    },
    {
     "name": "stderr",
     "output_type": "stream",
     "text": [
      "INFO:root:Rotating by 0.26199999999999946 radians\n"
     ]
    },
    {
     "name": "stdout",
     "output_type": "stream",
     "text": [
      "7.8151156331287615\n"
     ]
    },
    {
     "name": "stderr",
     "output_type": "stream",
     "text": [
      "INFO:root:Rotating by 0.2619999999999978 radians\n"
     ]
    },
    {
     "name": "stdout",
     "output_type": "stream",
     "text": [
      "16.983341655484328\n",
      "raw d: {1.30919877243042: (8.945153289213927, 3.4286630653944385), 1.57119877243042: (6.036913976198833, 3.9625691413284745), 1.83319877243042: (19.99040143307181, 3.2454273576183956), 2.09519877243042: (15.662147816334816, 3.9306269116043695), 2.35719877243042: (15.312930405714559, 3.1920129215295248), 2.61919877243042: (18.11039042278172, 0.32198239417342167), 2.88119877243042: (10.830060317445081, 4.6826523669809035), -3.1399865347491662: (8.490703569927124, 3.2582354392341712), -2.877986534749166: (4.606003479314729, 2.818949247881345), -2.615986534749166: (11.794918908254099, 4.6839588971917046), -2.353986534749166: (8.981285334402111, 2.0025502515363236), -2.091986534749166: (11.71980189711161, 2.1746961603678274), -1.8299865347491662: (12.498141503272732, 3.505279060266715), -1.5679865347491662: (12.737707916903787, 2.47580131172227), -1.3059865347491662: (18.881212118717333, 2.3361747871163527), -1.0439865347491661: (11.309146077695553, 2.423612395162832), -0.7819865347491661: (8.597099682528254, 0.06243847482779947), -0.5199865347491661: (14.050957272742172, 4.825827159673538), -0.2579865347491661: (20.87415988829926, 2.5107452713755256), 0.004013465250833903: (12.75763497208959, 3.102240170411364), 0.2660134652508339: (13.368815289585783, 0.2422326988728123), 0.5280134652508339: (12.74362442305083, 2.2883333386881293), 0.7900134652508339: (5.1582370864163805, 1.9779113439597664), 1.052013465250834: (14.291717584706868, 1.3881231552067737), 1.314013465250834: (12.095550828647474, 1.2640781482696941)}\n",
      "min: 4.606003479314729\n",
      "d corrected: {1.30919877243042: (4.339149809899198, 3.4286630653944385), 1.57119877243042: (1.4309104968841044, 3.9625691413284745), 1.83319877243042: (15.38439795375708, 3.2454273576183956), 2.09519877243042: (11.056144337020086, 3.9306269116043695), 2.35719877243042: (10.70692692639983, 3.1920129215295248), 2.61919877243042: (13.50438694346699, 0.32198239417342167), 2.88119877243042: (6.224056838130353, 4.6826523669809035), -3.1399865347491662: (3.8847000906123954, 3.2582354392341712), -2.877986534749166: (0.0, 2.818949247881345), -2.615986534749166: (7.18891542893937, 4.6839588971917046), -2.353986534749166: (4.375281855087382, 2.0025502515363236), -2.091986534749166: (7.113798417796882, 2.1746961603678274), -1.8299865347491662: (7.892138023958004, 3.505279060266715), -1.5679865347491662: (8.131704437589057, 2.47580131172227), -1.3059865347491662: (14.275208639402603, 2.3361747871163527), -1.0439865347491661: (6.703142598380825, 2.423612395162832), -0.7819865347491661: (3.9910962032135258, 0.06243847482779947), -0.5199865347491661: (9.444953793427445, 4.825827159673538), -0.2579865347491661: (16.26815640898453, 2.5107452713755256), 0.004013465250833903: (8.151631492774861, 3.102240170411364), 0.2660134652508339: (8.762811810271053, 0.2422326988728123), 0.5280134652508339: (8.137620943736103, 2.2883333386881293), 0.7900134652508339: (0.5522336071016518, 1.9779113439597664), 1.052013465250834: (9.68571410539214, 1.3881231552067737), 1.314013465250834: (7.489547349332745, 1.2640781482696941)}\n"
     ]
    },
    {
     "data": {
      "image/png": "[encoded data removed]",
      "text/plain": [
       "<Figure size 432x288 with 1 Axes>"
      ]
     },
     "metadata": {
      "needs_background": "light"
     },
     "output_type": "display_data"
    }
   ],
   "source": [
    "# # ALA->THR -- ALA at lambda = 0\n",
    "# run_torsion_scan(htf, 0, True, [6, 8, 10, 11], [6, 8, 10, 11], [12, 13])"
   ]
  },
  {
   "cell_type": "code",
   "execution_count": 76,
   "metadata": {
    "scrolled": true
   },
   "outputs": [
    {
     "name": "stderr",
     "output_type": "stream",
     "text": [
      " 19%|█▉        | 1879/10000 [00:00<00:00, 18789.61it/s]"
     ]
    },
    {
     "name": "stdout",
     "output_type": "stream",
     "text": [
      "-11.246748659500383\n"
     ]
    },
    {
     "name": "stderr",
     "output_type": "stream",
     "text": [
      "100%|██████████| 10000/10000 [00:00<00:00, 20264.76it/s]\n",
      "INFO:root:Rotating by 0.8038853223102362 radians\n",
      "/home/zhangi/miniconda3/envs/perses-sims/lib/python3.7/site-packages/numpy/core/_methods.py:217: RuntimeWarning: Degrees of freedom <= 0 for slice\n",
      "  keepdims=keepdims)\n",
      "/home/zhangi/miniconda3/envs/perses-sims/lib/python3.7/site-packages/numpy/core/_methods.py:209: RuntimeWarning: invalid value encountered in double_scalars\n",
      "  ret = ret.dtype.type(ret / rcount)\n",
      "INFO:root:Rotating by 0.2619999999999998 radians\n",
      "INFO:root:Rotating by 0.2619999999999999 radians\n",
      "INFO:root:Rotating by 0.2620000000000002 radians\n",
      "INFO:root:Rotating by 0.2619999999999994 radians\n",
      "INFO:root:Rotating by 0.2620000000000006 radians\n",
      "INFO:root:Rotating by 0.26200000000000034 radians\n",
      "INFO:root:Rotating by 0.2619999999999998 radians\n",
      "INFO:root:Rotating by 0.2619999999999999 radians\n",
      "INFO:root:Rotating by 0.2619999999999998 radians\n",
      "INFO:root:Rotating by 0.262 radians\n",
      "INFO:root:Rotating by 0.2619999999999998 radians\n",
      "INFO:root:Rotating by 0.262 radians\n",
      "INFO:root:Rotating by 0.262 radians\n",
      "INFO:root:Rotating by 0.262 radians\n",
      "INFO:root:Rotating by 0.26199999999999957 radians\n",
      "INFO:root:Rotating by -6.0211853071795876 radians\n",
      "INFO:root:Rotating by 0.26200000000000134 radians\n",
      "INFO:root:Rotating by 0.262 radians\n",
      "INFO:root:Rotating by 0.262 radians\n",
      "INFO:root:Rotating by 0.262 radians\n",
      "INFO:root:Rotating by 0.2619999999999998 radians\n",
      "INFO:root:Rotating by 0.262 radians\n",
      "INFO:root:Rotating by 0.26200000000000023 radians\n",
      "INFO:root:Rotating by 0.2619999999999998 radians\n"
     ]
    },
    {
     "name": "stdout",
     "output_type": "stream",
     "text": [
      "-1.1785822\n",
      "2.0419697292486116\n",
      "6.5622770651416635\n",
      "8.267793139769138\n",
      "8.505248574822293\n",
      "7.15601242317006\n",
      "4.869982927958081\n",
      "2.7227587019948087\n",
      "1.6650564160260701\n",
      "2.03042963376225\n",
      "3.355425638635543\n",
      "4.633433281433738\n",
      "4.900004176077893\n",
      "3.8291581573178877\n",
      "1.9693412075538574\n",
      "0.43296619179491286\n",
      "0.2009874287124472\n",
      "1.481616712563966\n",
      "3.554393200249302\n",
      "5.219921296899349\n",
      "5.564828954048804\n",
      "4.537181794574931\n",
      "2.9623796840289636\n",
      "2.0089487641802086\n",
      "2.4653583489444566\n",
      "4.278357673991351\n",
      "raw d: {-0.9165821914672851: (6.5622770651416635, nan), -0.6545821914672851: (8.267793139769138, nan), -0.3925821914672851: (8.505248574822293, nan), -0.1305821914672851: (7.15601242317006, nan), 0.1314178085327149: (4.869982927958081, nan), 0.3934178085327149: (2.7227587019948087, nan), 0.6554178085327149: (1.6650564160260701, nan), 0.9174178085327149: (2.03042963376225, nan), 1.179417808532715: (3.355425638635543, nan), 1.441417808532715: (4.633433281433738, nan), 1.703417808532715: (4.900004176077893, nan), 1.965417808532715: (3.8291581573178877, nan), 2.227417808532715: (1.9693412075538574, nan), 2.489417808532715: (0.43296619179491286, nan), 2.751417808532715: (0.2009874287124472, nan), 3.013417808532715: (1.481616712563966, nan), -3.007767498646871: (3.554393200249302, nan), -2.745767498646871: (5.219921296899349, nan), -2.483767498646871: (5.564828954048804, nan), -2.221767498646871: (4.537181794574931, nan), -1.9597674986468712: (2.9623796840289636, nan), -1.6977674986468712: (2.0089487641802086, nan), -1.4357674986468711: (2.4653583489444566, nan), -1.1737674986468711: (4.278357673991351, nan), -0.9117674986468711: (6.602650162697578, nan)}\n",
      "min: 0.2009874287124472\n",
      "d corrected: {-0.9165821914672851: (6.361289636429216, nan), -0.6545821914672851: (8.066805711056691, nan), -0.3925821914672851: (8.304261146109846, nan), -0.1305821914672851: (6.955024994457613, nan), 0.1314178085327149: (4.668995499245634, nan), 0.3934178085327149: (2.5217712732823614, nan), 0.6554178085327149: (1.464068987313623, nan), 0.9174178085327149: (1.829442205049803, nan), 1.179417808532715: (3.1544382099230956, nan), 1.441417808532715: (4.43244585272129, nan), 1.703417808532715: (4.699016747365445, nan), 1.965417808532715: (3.6281707286054403, nan), 2.227417808532715: (1.7683537788414103, nan), 2.489417808532715: (0.23197876308246565, nan), 2.751417808532715: (0.0, nan), 3.013417808532715: (1.280629283851519, nan), -3.007767498646871: (3.353405771536855, nan), -2.745767498646871: (5.018933868186902, nan), -2.483767498646871: (5.3638415253363565, nan), -2.221767498646871: (4.336194365862483, nan), -1.9597674986468712: (2.761392255316516, nan), -1.6977674986468712: (1.8079613354677615, nan), -1.4357674986468711: (2.2643709202320093, nan), -1.1737674986468711: (4.077370245278904, nan), -0.9117674986468711: (6.40166273398513, nan)}\n"
     ]
    },
    {
     "data": {
      "image/png": "[encoded data removed]",
      "text/plain": [
       "<Figure size 432x288 with 1 Axes>"
      ]
     },
     "metadata": {
      "needs_background": "light"
     },
     "output_type": "display_data"
    }
   ],
   "source": [
    "# ALA->THR -- THR at lambda = 0\n",
    "run_torsion_scan(htf, 0, False, [6, 8, 10, 28], [6, 8, 10, 18], [22, 23, 24, 25, 26, 27, 28])"
   ]
  },
  {
   "cell_type": "code",
   "execution_count": 35,
   "metadata": {
    "scrolled": true
   },
   "outputs": [
    {
     "name": "stderr",
     "output_type": "stream",
     "text": [
      "100%|██████████| 10000/10000 [00:01<00:00, 6086.91it/s]\n",
      "INFO:root:Rotating by 0.2620000119779138 radians\n"
     ]
    },
    {
     "name": "stdout",
     "output_type": "stream",
     "text": [
      "2.7912235\n",
      "85.64782146149645\n"
     ]
    },
    {
     "name": "stderr",
     "output_type": "stream",
     "text": [
      "INFO:root:Rotating by -6.021185307179585 radians\n"
     ]
    },
    {
     "name": "stdout",
     "output_type": "stream",
     "text": [
      "83.16144775186059\n"
     ]
    },
    {
     "name": "stderr",
     "output_type": "stream",
     "text": [
      "INFO:root:Rotating by 0.262 radians\n"
     ]
    },
    {
     "name": "stdout",
     "output_type": "stream",
     "text": [
      "89.20390938552033\n"
     ]
    },
    {
     "name": "stderr",
     "output_type": "stream",
     "text": [
      "INFO:root:Rotating by 0.26200000000000134 radians\n"
     ]
    },
    {
     "name": "stdout",
     "output_type": "stream",
     "text": [
      "84.90758747603832\n"
     ]
    },
    {
     "name": "stderr",
     "output_type": "stream",
     "text": [
      "INFO:root:Rotating by 0.2620000000000027 radians\n"
     ]
    },
    {
     "name": "stdout",
     "output_type": "stream",
     "text": [
      "84.08865424861192\n"
     ]
    },
    {
     "name": "stderr",
     "output_type": "stream",
     "text": [
      "INFO:root:Rotating by 0.26199999999999557 radians\n"
     ]
    },
    {
     "name": "stdout",
     "output_type": "stream",
     "text": [
      "87.78186177317455\n"
     ]
    },
    {
     "name": "stderr",
     "output_type": "stream",
     "text": [
      "INFO:root:Rotating by 0.26199999999999934 radians\n"
     ]
    },
    {
     "name": "stdout",
     "output_type": "stream",
     "text": [
      "98.93534843795136\n"
     ]
    },
    {
     "name": "stderr",
     "output_type": "stream",
     "text": [
      "INFO:root:Rotating by 0.262 radians\n"
     ]
    },
    {
     "name": "stdout",
     "output_type": "stream",
     "text": [
      "100.90162965739411\n"
     ]
    },
    {
     "name": "stderr",
     "output_type": "stream",
     "text": [
      "INFO:root:Rotating by 0.2619999999999987 radians\n"
     ]
    },
    {
     "name": "stdout",
     "output_type": "stream",
     "text": [
      "107.97530021459214\n"
     ]
    },
    {
     "name": "stderr",
     "output_type": "stream",
     "text": [
      "INFO:root:Rotating by 0.26200000000000045 radians\n"
     ]
    },
    {
     "name": "stdout",
     "output_type": "stream",
     "text": [
      "90.78179042612776\n"
     ]
    },
    {
     "name": "stderr",
     "output_type": "stream",
     "text": [
      "INFO:root:Rotating by 0.26199999999999724 radians\n"
     ]
    },
    {
     "name": "stdout",
     "output_type": "stream",
     "text": [
      "83.1088363209761\n"
     ]
    },
    {
     "name": "stderr",
     "output_type": "stream",
     "text": [
      "INFO:root:Rotating by 0.2619999999999971 radians\n"
     ]
    },
    {
     "name": "stdout",
     "output_type": "stream",
     "text": [
      "74.22247310028112\n"
     ]
    },
    {
     "name": "stderr",
     "output_type": "stream",
     "text": [
      "INFO:root:Rotating by 0.26200000000000045 radians\n"
     ]
    },
    {
     "name": "stdout",
     "output_type": "stream",
     "text": [
      "78.83367281250355\n"
     ]
    },
    {
     "name": "stderr",
     "output_type": "stream",
     "text": [
      "INFO:root:Rotating by 0.26200000000000045 radians\n"
     ]
    },
    {
     "name": "stdout",
     "output_type": "stream",
     "text": [
      "72.01355019329107\n"
     ]
    },
    {
     "name": "stderr",
     "output_type": "stream",
     "text": [
      "INFO:root:Rotating by 0.2619999999999995 radians\n"
     ]
    },
    {
     "name": "stdout",
     "output_type": "stream",
     "text": [
      "71.61872717881447\n"
     ]
    },
    {
     "name": "stderr",
     "output_type": "stream",
     "text": [
      "INFO:root:Rotating by 0.2619999999999996 radians\n"
     ]
    },
    {
     "name": "stdout",
     "output_type": "stream",
     "text": [
      "87.43315877513015\n"
     ]
    },
    {
     "name": "stderr",
     "output_type": "stream",
     "text": [
      "INFO:root:Rotating by 0.26200000000000145 radians\n"
     ]
    },
    {
     "name": "stdout",
     "output_type": "stream",
     "text": [
      "65.1332185168607\n"
     ]
    },
    {
     "name": "stderr",
     "output_type": "stream",
     "text": [
      "INFO:root:Rotating by 0.2619999999999987 radians\n"
     ]
    },
    {
     "name": "stdout",
     "output_type": "stream",
     "text": [
      "74.93809371284809\n"
     ]
    },
    {
     "name": "stderr",
     "output_type": "stream",
     "text": [
      "INFO:root:Rotating by 0.2620000000000011 radians\n"
     ]
    },
    {
     "name": "stdout",
     "output_type": "stream",
     "text": [
      "82.1474276159332\n"
     ]
    },
    {
     "name": "stderr",
     "output_type": "stream",
     "text": [
      "INFO:root:Rotating by 0.26200000000000045 radians\n"
     ]
    },
    {
     "name": "stdout",
     "output_type": "stream",
     "text": [
      "84.0111524129918\n"
     ]
    },
    {
     "name": "stderr",
     "output_type": "stream",
     "text": [
      "INFO:root:Rotating by 0.2619999999999978 radians\n"
     ]
    },
    {
     "name": "stdout",
     "output_type": "stream",
     "text": [
      "85.42583776117176\n"
     ]
    },
    {
     "name": "stderr",
     "output_type": "stream",
     "text": [
      "INFO:root:Rotating by 0.26199999999999735 radians\n"
     ]
    },
    {
     "name": "stdout",
     "output_type": "stream",
     "text": [
      "93.30668847416489\n"
     ]
    },
    {
     "name": "stderr",
     "output_type": "stream",
     "text": [
      "INFO:root:Rotating by 0.2619999999999951 radians\n"
     ]
    },
    {
     "name": "stdout",
     "output_type": "stream",
     "text": [
      "78.24733179298659\n"
     ]
    },
    {
     "name": "stderr",
     "output_type": "stream",
     "text": [
      "INFO:root:Rotating by 0.26199999999999823 radians\n"
     ]
    },
    {
     "name": "stdout",
     "output_type": "stream",
     "text": [
      "227.97209517660295\n"
     ]
    },
    {
     "name": "stderr",
     "output_type": "stream",
     "text": [
      "INFO:root:Rotating by 0.2619999999999987 radians\n"
     ]
    },
    {
     "name": "stdout",
     "output_type": "stream",
     "text": [
      "193.93601076763312\n",
      "raw d: {3.0532235260009766: (89.35478587833971, 3.1071308550792667), -2.9679617811786096: (83.52887818614113, 3.3383567588442586), -2.7059617811786096: (84.82532620974683, 1.5984356421672359), -2.4439617811786096: (93.3708169598846, 6.322036746586779), -2.1819617811786096: (90.91854462212488, 2.6482088238690795), -1.9199617811786096: (96.18316813683367, 5.843626988298512), -1.6579617811786096: (99.1270514817961, 2.421568313117374), -1.3959617811786096: (101.75053006896464, 5.442235622151454), -1.1339617811786096: (94.38912233902579, 2.8595290679469336), -0.8719617811786096: (85.89945172829658, 1.935412374650737), -0.6099617811786096: (77.52342711154253, 1.888692551114203), -0.34796178117860954: (71.771639119684, 3.587393080493482), -0.08596178117860953: (74.16570532687547, 1.2732451417497188), 0.17603821882139048: (72.46081633591581, 2.3971921639728158), 0.4380382188213905: (76.4657155754965, 5.672628313911505), 0.7000382188213905: (72.07998675555493, 3.477671675028416), 0.9620382188213905: (75.74850755046229, 0.6912962125377481), 1.2240382188213905: (84.32320055665338, 1.549779905351525), 1.4860382188213905: (82.05714508439577, 2.2445732360954045), 1.7480382188213905: (87.18815820696982, 2.0454584363164647), 2.0100382188213906: (96.62261969827466, 1.6946849485179114), 2.2720382188213906: (94.07797763175601, 8.029163776346337), 2.5340382188213906: (232.4216065057424, 2.927640554542174), 2.7960382188213906: (206.33184585952367, 6.242407603866769), 3.0580382188213906: (179.91434173080373, 3.3705375691684223)}\n",
      "min: 71.771639119684\n",
      "d corrected: {3.0532235260009766: (17.583146758655715, 3.1071308550792667), -2.9679617811786096: (11.757239066457132, 3.3383567588442586), -2.7059617811786096: (13.053687090062837, 1.5984356421672359), -2.4439617811786096: (21.59917784020061, 6.322036746586779), -2.1819617811786096: (19.146905502440887, 2.6482088238690795), -1.9199617811786096: (24.411529017149675, 5.843626988298512), -1.6579617811786096: (27.355412362112105, 2.421568313117374), -1.3959617811786096: (29.97889094928064, 5.442235622151454), -1.1339617811786096: (22.617483219341793, 2.8595290679469336), -0.8719617811786096: (14.127812608612587, 1.935412374650737), -0.6099617811786096: (5.751787991858535, 1.888692551114203), -0.34796178117860954: (0.0, 3.587393080493482), -0.08596178117860953: (2.3940662071914716, 1.2732451417497188), 0.17603821882139048: (0.6891772162318119, 2.3971921639728158), 0.4380382188213905: (4.694076455812507, 5.672628313911505), 0.7000382188213905: (0.3083476358709305, 3.477671675028416), 0.9620382188213905: (3.976868430778296, 0.6912962125377481), 1.2240382188213905: (12.55156143696938, 1.549779905351525), 1.4860382188213905: (10.285505964711774, 2.2445732360954045), 1.7480382188213905: (15.41651908728582, 2.0454584363164647), 2.0100382188213906: (24.850980578590665, 1.6946849485179114), 2.2720382188213906: (22.306338512072017, 8.029163776346337), 2.5340382188213906: (160.6499673860584, 2.927640554542174), 2.7960382188213906: (134.56020673983966, 6.242407603866769), 3.0580382188213906: (108.14270261111973, 3.3705375691684223)}\n"
     ]
    },
    {
     "data": {
      "image/png": "[encoded data removed]",
      "text/plain": [
       "<Figure size 432x288 with 1 Axes>"
      ]
     },
     "metadata": {
      "needs_background": "light"
     },
     "output_type": "display_data"
    }
   ],
   "source": [
    "# # ALA->THR -- THR at lambda = 1\n",
    "# run_torsion_scan(htf_at_1t, 1, False, [6, 8, 22, 28], [6, 8, 10, 18], [23, 24, 25, 26, 27, 29])"
   ]
  },
  {
   "cell_type": "code",
   "execution_count": 77,
   "metadata": {
    "scrolled": true
   },
   "outputs": [
    {
     "name": "stderr",
     "output_type": "stream",
     "text": [
      " 21%|██        | 2055/10000 [00:00<00:00, 20547.47it/s]"
     ]
    },
    {
     "name": "stdout",
     "output_type": "stream",
     "text": [
      "245.64500577435126\n"
     ]
    },
    {
     "name": "stderr",
     "output_type": "stream",
     "text": [
      "100%|██████████| 10000/10000 [00:00<00:00, 21840.79it/s]\n"
     ]
    },
    {
     "name": "stdout",
     "output_type": "stream",
     "text": [
      "3.1412313\n",
      "39.273009778113824\n"
     ]
    },
    {
     "name": "stderr",
     "output_type": "stream",
     "text": [
      "INFO:root:Rotating by -6.021185213713272 radians\n",
      "INFO:root:Rotating by 0.26199999999967094 radians\n",
      "INFO:root:Rotating by 0.262 radians\n",
      "INFO:root:Rotating by 0.26199999999999957 radians\n",
      "INFO:root:Rotating by 0.26200000000000045 radians\n",
      "INFO:root:Rotating by 0.26200000000000045 radians\n",
      "INFO:root:Rotating by 0.262 radians\n",
      "INFO:root:Rotating by 0.26200000000000045 radians\n",
      "INFO:root:Rotating by 0.26200000000000023 radians\n",
      "INFO:root:Rotating by 0.26200000000000034 radians\n",
      "INFO:root:Rotating by 0.2619999999999999 radians\n",
      "INFO:root:Rotating by 0.2619999999999999 radians\n",
      "INFO:root:Rotating by 0.2619999999999876 radians\n",
      "INFO:root:Rotating by 0.2620000000000118 radians\n",
      "INFO:root:Rotating by 0.2620000000000001 radians\n",
      "INFO:root:Rotating by 0.2619999999999998 radians\n",
      "INFO:root:Rotating by 0.26200000000000023 radians\n",
      "INFO:root:Rotating by 0.262 radians\n",
      "INFO:root:Rotating by 0.2619999999999998 radians\n",
      "INFO:root:Rotating by 0.26200000000000023 radians\n",
      "INFO:root:Rotating by 0.262 radians\n",
      "INFO:root:Rotating by 0.262 radians\n",
      "INFO:root:Rotating by 0.26200000000000045 radians\n",
      "INFO:root:Rotating by -6.021185307179587 radians\n",
      "INFO:root:Rotating by 0.261999999999996 radians\n"
     ]
    },
    {
     "name": "stdout",
     "output_type": "stream",
     "text": [
      "242.70982116584003\n",
      "763.1656765826866\n",
      "1561.4301753732311\n",
      "2660.3647156966067\n",
      "4028.3108888064507\n",
      "5598.907134735638\n",
      "7271.445999343406\n",
      "8805.776343684078\n",
      "10034.075887276236\n",
      "10974.816320313488\n",
      "11554.493740195769\n",
      "11914.673656659168\n",
      "13434.793336111492\n",
      "24409.991463071026\n",
      "59904.923666146904\n",
      "65761.75970526818\n",
      "25278.76604167414\n",
      "7557.247555910727\n",
      "3475.7664536456114\n",
      "1906.0131918209029\n",
      "1000.9517504299105\n",
      "477.0718843632678\n",
      "161.6732893976444\n",
      "39.76367584702231\n",
      "raw d: {-2.879954008732931: (242.70982116584003, nan), -2.617954008732931: (763.1656765826866, nan), -2.355954008732931: (1561.4301753732311, nan), -2.093954008732931: (2660.3647156966067, nan), -1.831954008732931: (4028.3108888064507, nan), -1.569954008732931: (5598.907134735638, nan), -1.3079540087329309: (7271.445999343406, nan), -1.0459540087329309: (8805.776343684078, nan), -0.7839540087329309: (10034.075887276236, nan), -0.5219540087329309: (10974.816320313488, nan), -0.25995400873293084: (11554.493740195769, nan), 0.0020459912670691693: (11914.673656659168, nan), 0.2640459912670692: (13434.793336111492, nan), 0.5260459912670692: (24409.991463071026, nan), 0.7880459912670692: (59904.923666146904, nan), 1.0500459912670692: (65761.75970526818, nan), 1.3120459912670692: (25278.76604167414, nan), 1.5740459912670692: (7557.247555910727, nan), 1.8360459912670692: (3475.7664536456114, nan), 2.0980459912670693: (1906.0131918209029, nan), 2.3600459912670693: (1000.9517504299105, nan), 2.6220459912670693: (477.0718843632678, nan), 2.8840459912670693: (161.6732893976444, nan), -3.137139315912517: (39.76367584702231, nan), -2.875139315912517: (249.7245174391768, nan)}\n",
      "min: 39.76367584702231\n",
      "d corrected: {-2.879954008732931: (202.9461453188177, nan), -2.617954008732931: (723.4020007356643, nan), -2.355954008732931: (1521.6664995262088, nan), -2.093954008732931: (2620.6010398495846, nan), -1.831954008732931: (3988.5472129594286, nan), -1.569954008732931: (5559.143458888615, nan), -1.3079540087329309: (7231.682323496383, nan), -1.0459540087329309: (8766.012667837056, nan), -0.7839540087329309: (9994.312211429215, nan), -0.5219540087329309: (10935.052644466467, nan), -0.25995400873293084: (11514.730064348747, nan), 0.0020459912670691693: (11874.909980812146, nan), 0.2640459912670692: (13395.02966026447, nan), 0.5260459912670692: (24370.227787224005, nan), 0.7880459912670692: (59865.15999029988, nan), 1.0500459912670692: (65721.99602942116, nan), 1.3120459912670692: (25239.002365827117, nan), 1.5740459912670692: (7517.483880063704, nan), 1.8360459912670692: (3436.0027777985892, nan), 2.0980459912670693: (1866.2495159738805, nan), 2.3600459912670693: (961.1880745828881, nan), 2.6220459912670693: (437.3082085162455, nan), 2.8840459912670693: (121.90961355062208, nan), -3.137139315912517: (0.0, nan), -2.875139315912517: (209.96084159215448, nan)}\n"
     ]
    },
    {
     "data": {
      "image/png": "[encoded data removed]",
      "text/plain": [
       "<Figure size 432x288 with 1 Axes>"
      ]
     },
     "metadata": {
      "needs_background": "light"
     },
     "output_type": "display_data"
    }
   ],
   "source": [
    "# ALA->THR -- ALA at lambda = 1\n",
    "run_torsion_scan(htf, 1, True, [6, 8, 10, 11], [6, 8, 10, 11], [12, 13])"
   ]
  },
  {
   "cell_type": "markdown",
   "metadata": {},
   "source": [
    "### Generate torsion scans for the vanilla htf with flattened torsions, 1,4s (and sidechains not mapped): THR->ALA"
   ]
  },
  {
   "cell_type": "code",
   "execution_count": 768,
   "metadata": {},
   "outputs": [],
   "source": [
    "outdir = \"/data/chodera/zhangi/perses_benchmark/neq/7/32/\"\n",
    "with open(os.path.join(outdir, \"32_vacuum.pickle\" ), \"rb\") as f:\n",
    "    htf_ta = pickle.load(f)"
   ]
  },
  {
   "cell_type": "code",
   "execution_count": 769,
   "metadata": {
    "scrolled": false
   },
   "outputs": [],
   "source": [
    "htf_ta_0t = copy.copy(htf_ta)\n",
    "htf_ta_0a = copy.copy(htf_ta)\n",
    "htf_ta_1a = copy.copy(htf_ta)\n",
    "htf_ta_1t = copy.copy(htf_ta)"
   ]
  },
  {
   "cell_type": "code",
   "execution_count": 770,
   "metadata": {},
   "outputs": [
    {
     "data": {
      "text/plain": [
       "{26, 27, 28, 29}"
      ]
     },
     "execution_count": 770,
     "metadata": {},
     "output_type": "execute_result"
    }
   ],
   "source": [
    "htf_ta._atom_classes['unique_new_atoms']"
   ]
  },
  {
   "cell_type": "code",
   "execution_count": 771,
   "metadata": {},
   "outputs": [],
   "source": [
    "unique_new = [26, 27, 28, 29]"
   ]
  },
  {
   "cell_type": "code",
   "execution_count": 772,
   "metadata": {},
   "outputs": [
    {
     "data": {
      "text/plain": [
       "{10, 13, 14, 15, 16, 17, 18, 19}"
      ]
     },
     "execution_count": 772,
     "metadata": {},
     "output_type": "execute_result"
    }
   ],
   "source": [
    "htf_ta._atom_classes['unique_old_atoms']"
   ]
  },
  {
   "cell_type": "code",
   "execution_count": 773,
   "metadata": {},
   "outputs": [],
   "source": [
    "unique_old = [10, 13, 14, 15, 16, 17] "
   ]
  },
  {
   "cell_type": "code",
   "execution_count": 774,
   "metadata": {},
   "outputs": [
    {
     "name": "stdout",
     "output_type": "stream",
     "text": [
      "0 <simtk.openmm.openmm.CustomBondForce; proxy of <Swig Object of type 'OpenMM::CustomBondForce *' at 0x2b140584ad80> >\n",
      "1 <simtk.openmm.openmm.HarmonicBondForce; proxy of <Swig Object of type 'OpenMM::HarmonicBondForce *' at 0x2b140584ad80> >\n",
      "2 <simtk.openmm.openmm.CustomAngleForce; proxy of <Swig Object of type 'OpenMM::CustomAngleForce *' at 0x2b140584ad80> >\n",
      "3 <simtk.openmm.openmm.HarmonicAngleForce; proxy of <Swig Object of type 'OpenMM::HarmonicAngleForce *' at 0x2b140584ad80> >\n",
      "4 <simtk.openmm.openmm.CustomTorsionForce; proxy of <Swig Object of type 'OpenMM::CustomTorsionForce *' at 0x2b140584ad80> >\n",
      "5 <simtk.openmm.openmm.PeriodicTorsionForce; proxy of <Swig Object of type 'OpenMM::PeriodicTorsionForce *' at 0x2b140584ad80> >\n",
      "6 <simtk.openmm.openmm.NonbondedForce; proxy of <Swig Object of type 'OpenMM::NonbondedForce *' at 0x2b140584ad80> >\n",
      "7 <simtk.openmm.openmm.CustomNonbondedForce; proxy of <Swig Object of type 'OpenMM::CustomNonbondedForce *' at 0x2b140584ad80> >\n",
      "8 <simtk.openmm.openmm.CustomBondForce; proxy of <Swig Object of type 'OpenMM::CustomBondForce *' at 0x2b140584ad80> >\n"
     ]
    }
   ],
   "source": [
    "for i in range(htf_ta.hybrid_system.getNumForces()):\n",
    "    print(i, htf_ta.hybrid_system.getForce(i))"
   ]
  },
  {
   "cell_type": "code",
   "execution_count": 775,
   "metadata": {},
   "outputs": [],
   "source": [
    "nb_force = htf_ta_0t.hybrid_system.getForce(6)\n",
    "for i in range(nb_force.getNumExceptions()):\n",
    "    p1, p2, chargeProd, sigma, epsilon = nb_force.getExceptionParameters(i)\n",
    "    if p1 in htf_ta._atom_classes['unique_new_atoms'] or p2 in htf_ta._atom_classes['unique_new_atoms']:\n",
    "        nb_force.setExceptionParameters(i, p1, p2, 0, sigma, 0)"
   ]
  },
  {
   "cell_type": "code",
   "execution_count": 776,
   "metadata": {},
   "outputs": [],
   "source": [
    "nb_force = htf_ta_0a.hybrid_system.getForce(6)\n",
    "for i in range(nb_force.getNumExceptions()):\n",
    "    p1, p2, chargeProd, sigma, epsilon = nb_force.getExceptionParameters(i)\n",
    "    if p1 in htf_ta._atom_classes['unique_new_atoms'] or p2 in htf_ta._atom_classes['unique_new_atoms']:\n",
    "        nb_force.setExceptionParameters(i, p1, p2, 0, sigma, 0)"
   ]
  },
  {
   "cell_type": "code",
   "execution_count": 777,
   "metadata": {
    "scrolled": true
   },
   "outputs": [
    {
     "ename": "NameError",
     "evalue": "name 'htf_ta_0' is not defined",
     "output_type": "error",
     "traceback": [
      "\u001b[0;31m-----------------------------------------------------\u001b[0m",
      "\u001b[0;31mNameError\u001b[0m           Traceback (most recent call last)",
      "\u001b[0;32m<ipython-input-777-9ede9ca7ebf5>\u001b[0m in \u001b[0;36m<module>\u001b[0;34m\u001b[0m\n\u001b[1;32m      1\u001b[0m \u001b[0;31m# Check that the 1,4s involving unique new are off\u001b[0m\u001b[0;34m\u001b[0m\u001b[0;34m\u001b[0m\u001b[0;34m\u001b[0m\u001b[0m\n\u001b[0;32m----> 2\u001b[0;31m \u001b[0;32mfor\u001b[0m \u001b[0mi\u001b[0m \u001b[0;32min\u001b[0m \u001b[0mrange\u001b[0m\u001b[0;34m(\u001b[0m\u001b[0mhtf_ta_0\u001b[0m\u001b[0;34m.\u001b[0m\u001b[0mhybrid_system\u001b[0m\u001b[0;34m.\u001b[0m\u001b[0mgetForce\u001b[0m\u001b[0;34m(\u001b[0m\u001b[0;36m6\u001b[0m\u001b[0;34m)\u001b[0m\u001b[0;34m.\u001b[0m\u001b[0mgetNumExceptions\u001b[0m\u001b[0;34m(\u001b[0m\u001b[0;34m)\u001b[0m\u001b[0;34m)\u001b[0m\u001b[0;34m:\u001b[0m\u001b[0;34m\u001b[0m\u001b[0;34m\u001b[0m\u001b[0m\n\u001b[0m\u001b[1;32m      3\u001b[0m     \u001b[0mprint\u001b[0m\u001b[0;34m(\u001b[0m\u001b[0mhtf_ta_0\u001b[0m\u001b[0;34m.\u001b[0m\u001b[0mhybrid_system\u001b[0m\u001b[0;34m.\u001b[0m\u001b[0mgetForce\u001b[0m\u001b[0;34m(\u001b[0m\u001b[0;36m6\u001b[0m\u001b[0;34m)\u001b[0m\u001b[0;34m.\u001b[0m\u001b[0mgetExceptionParameters\u001b[0m\u001b[0;34m(\u001b[0m\u001b[0mi\u001b[0m\u001b[0;34m)\u001b[0m\u001b[0;34m)\u001b[0m\u001b[0;34m\u001b[0m\u001b[0;34m\u001b[0m\u001b[0m\n",
      "\u001b[0;31mNameError\u001b[0m: name 'htf_ta_0' is not defined"
     ]
    }
   ],
   "source": [
    "# Check that the 1,4s involving unique new are off\n",
    "for i in range(htf_ta_0.hybrid_system.getForce(6).getNumExceptions()):\n",
    "    print(htf_ta_0.hybrid_system.getForce(6).getExceptionParameters(i))"
   ]
  },
  {
   "cell_type": "code",
   "execution_count": 778,
   "metadata": {},
   "outputs": [],
   "source": [
    "nb_force = htf_ta_1a.hybrid_system.getForce(6)\n",
    "for i in range(nb_force.getNumExceptions()):\n",
    "    p1, p2, chargeProd, sigma, epsilon = nb_force.getExceptionParameters(i)\n",
    "    if p1 in htf_ta._atom_classes['unique_old_atoms'] or p2 in htf_ta._atom_classes['unique_old_atoms']:\n",
    "        nb_force.setExceptionParameters(i, p1, p2, 0, sigma, 0)"
   ]
  },
  {
   "cell_type": "code",
   "execution_count": 779,
   "metadata": {},
   "outputs": [],
   "source": [
    "nb_force = htf_ta_1t.hybrid_system.getForce(6)\n",
    "for i in range(nb_force.getNumExceptions()):\n",
    "    p1, p2, chargeProd, sigma, epsilon = nb_force.getExceptionParameters(i)\n",
    "    if p1 in htf_ta._atom_classes['unique_old_atoms'] or p2 in htf_ta._atom_classes['unique_old_atoms']:\n",
    "        nb_force.setExceptionParameters(i, p1, p2, 0, sigma, 0)"
   ]
  },
  {
   "cell_type": "markdown",
   "metadata": {},
   "source": [
    "#### Look at hybrid topology to determine indices"
   ]
  },
  {
   "cell_type": "code",
   "execution_count": null,
   "metadata": {},
   "outputs": [],
   "source": [
    "for atom in htf_ta.hybrid_topology.atoms:\n",
    "    print(atom, atom.index)"
   ]
  },
  {
   "cell_type": "code",
   "execution_count": null,
   "metadata": {},
   "outputs": [],
   "source": [
    "for atom in htf_ta._topology_proposal.old_topology.atoms():\n",
    "    print(atom, atom.index)"
   ]
  },
  {
   "cell_type": "code",
   "execution_count": null,
   "metadata": {},
   "outputs": [],
   "source": [
    "for atom in htf_ta._topology_proposal.new_topology.atoms():\n",
    "    print(atom, atom.index)"
   ]
  },
  {
   "cell_type": "code",
   "execution_count": null,
   "metadata": {
    "scrolled": true
   },
   "outputs": [],
   "source": [
    "# THR->ALA -- THR at lambda = 0\n",
    "run_torsion_scan(htf_ta_0, 0, True, [6, 8, 10, 18], [6, 8, 10, 18], [13, 14, 15, 16, 17, 19])"
   ]
  },
  {
   "cell_type": "code",
   "execution_count": null,
   "metadata": {
    "scrolled": true
   },
   "outputs": [],
   "source": [
    "# THR->ALA -- ALA at lambda = 0\n",
    "run_torsion_scan(htf_ta_0, 0, False, [6, 8, 26, 27], [6, 8, 10, 11], [28, 29])"
   ]
  },
  {
   "cell_type": "code",
   "execution_count": null,
   "metadata": {
    "scrolled": true
   },
   "outputs": [],
   "source": [
    "# THR->ALA -- ALA at lambda = 1\n",
    "run_torsion_scan(htf_ta_1, 1, False,  [6, 8, 26, 27], [6, 8, 10, 11], [28, 29])"
   ]
  },
  {
   "cell_type": "code",
   "execution_count": null,
   "metadata": {
    "scrolled": true
   },
   "outputs": [],
   "source": [
    "# THR->ALA -- THR at lambda = 1\n",
    "run_torsion_scan(htf_ta_1, 1, True, [6, 8, 10, 18], [6, 8, 10, 18], [13, 14, 15, 16, 17, 19])"
   ]
  },
  {
   "cell_type": "markdown",
   "metadata": {},
   "source": [
    "###  Generate torsion scans for vanilla htf with 4 flattened exceptions and all torsions (sidechains not mapped): ALA->THR"
   ]
  },
  {
   "cell_type": "code",
   "execution_count": 18,
   "metadata": {},
   "outputs": [],
   "source": [
    "outdir = \"/data/chodera/zhangi/perses_benchmark/neq/7/31/\"\n",
    "with open(os.path.join(outdir, \"31_vacuum.pickle\" ), \"rb\") as f:\n",
    "    htf_at = pickle.load(f)"
   ]
  },
  {
   "cell_type": "code",
   "execution_count": 19,
   "metadata": {},
   "outputs": [],
   "source": [
    "old_system = htf_at._topology_proposal.old_system\n",
    "new_system = htf_at._topology_proposal.new_system"
   ]
  },
  {
   "cell_type": "code",
   "execution_count": 20,
   "metadata": {},
   "outputs": [
    {
     "name": "stdout",
     "output_type": "stream",
     "text": [
      "0 <simtk.openmm.openmm.HarmonicBondForce; proxy of <Swig Object of type 'OpenMM::HarmonicBondForce *' at 0x2b317e08a3f0> >\n",
      "1 <simtk.openmm.openmm.HarmonicAngleForce; proxy of <Swig Object of type 'OpenMM::HarmonicAngleForce *' at 0x2b317e08a3f0> >\n",
      "2 <simtk.openmm.openmm.PeriodicTorsionForce; proxy of <Swig Object of type 'OpenMM::PeriodicTorsionForce *' at 0x2b31f3f6ddb0> >\n",
      "3 <simtk.openmm.openmm.NonbondedForce; proxy of <Swig Object of type 'OpenMM::NonbondedForce *' at 0x2b317e08a3f0> >\n"
     ]
    }
   ],
   "source": [
    "for i in range(htf_at._topology_proposal.new_system.getNumForces()):\n",
    "    print(i, htf_at._topology_proposal.new_system.getForce(i))"
   ]
  },
  {
   "cell_type": "code",
   "execution_count": 21,
   "metadata": {},
   "outputs": [
    {
     "name": "stdout",
     "output_type": "stream",
     "text": [
      "ACE1-H1 0\n",
      "ACE1-CH3 1\n",
      "ACE1-H2 2\n",
      "ACE1-H3 3\n",
      "ACE1-C 4\n",
      "ACE1-O 5\n",
      "ALA2-N 6\n",
      "ALA2-H 7\n",
      "ALA2-CA 8\n",
      "ALA2-HA 9\n",
      "ALA2-CB 10\n",
      "ALA2-HB1 11\n",
      "ALA2-HB2 12\n",
      "ALA2-HB3 13\n",
      "ALA2-C 14\n",
      "ALA2-O 15\n",
      "ALA2-CB 22\n",
      "ALA2-HB 23\n",
      "ALA2-CG2 24\n",
      "ALA2-HG21 25\n",
      "ALA2-HG22 26\n",
      "ALA2-HG23 27\n",
      "ALA2-OG1 28\n",
      "ALA2-HG1 29\n",
      "NME3-N 16\n",
      "NME3-H 17\n",
      "NME3-C 18\n",
      "NME3-H1 19\n",
      "NME3-H2 20\n",
      "NME3-H3 21\n"
     ]
    }
   ],
   "source": [
    "for atom in htf_at.hybrid_topology.atoms:\n",
    "    print(atom, atom.index)"
   ]
  },
  {
   "cell_type": "code",
   "execution_count": 56,
   "metadata": {},
   "outputs": [],
   "source": [
    "# # Flatten all 1,4s\n",
    "# nb_force = old_system.getForce(3)\n",
    "# for i in range(nb_force.getNumExceptions()):\n",
    "#     p1, p2, chargeProd, sigma, epsilon = nb_force.getExceptionParameters(i)\n",
    "#     if abs(p1-p2) == 3:\n",
    "#         nb_force.setExceptionParameters(i, p1, p2, 0, sigma, 0)"
   ]
  },
  {
   "cell_type": "code",
   "execution_count": 57,
   "metadata": {},
   "outputs": [],
   "source": [
    "# Flatten all 1,4s\n",
    "# nb_force = new_system.getForce(3)\n",
    "# for i in range(nb_force.getNumExceptions()):\n",
    "#     p1, p2, chargeProd, sigma, epsilon = nb_force.getExceptionParameters(i)\n",
    "#     if abs(p1-p2) == 3:\n",
    "#         if p1 == 11 or p2 == 11:\n",
    "#             print(nb_force.getExceptionParameters(i))\n",
    "#             nb_force.setExceptionParameters(i, p1, p2, 0, sigma, 0)\n",
    "\n",
    "# nb_force = new_system.getForce(3)\n",
    "# for i in range(nb_force.getNumExceptions()):\n",
    "#     p1, p2, chargeProd, sigma, epsilon = nb_force.getExceptionParameters(i)\n",
    "#     if abs(p1-p2) == 3:\n",
    "#         if p1 == 11 and p2 == 14:\n",
    "#             print(nb_force.getExceptionParameters(i))\n",
    "#             nb_force.setExceptionParameters(i, p1, p2, 0, sigma, 0)"
   ]
  },
  {
   "cell_type": "code",
   "execution_count": 58,
   "metadata": {},
   "outputs": [],
   "source": [
    "# # Flatten more torsions (for all atoms)\n",
    "# periodic_torsion = old_system.getForce(2)\n",
    "# for i in range(periodic_torsion.getNumTorsions()):\n",
    "#     p1, p2, p3, p4, periodicity, phase, k = periodic_torsion.getTorsionParameters(i)\n",
    "#     periodic_torsion.setTorsionParameters(i, p1, p2, p3, p4, periodicity, phase, 0.*k)"
   ]
  },
  {
   "cell_type": "code",
   "execution_count": 59,
   "metadata": {},
   "outputs": [],
   "source": [
    "# # Flatten more torsions (for all atoms)\n",
    "# periodic_torsion = new_system.getForce(2)\n",
    "# for i in range(periodic_torsion.getNumTorsions()):\n",
    "#     p1, p2, p3, p4, periodicity, phase, k = periodic_torsion.getTorsionParameters(i)\n",
    "#     periodic_torsion.setTorsionParameters(i, p1, p2, p3, p4, periodicity, phase, 0.*k)"
   ]
  },
  {
   "cell_type": "code",
   "execution_count": 60,
   "metadata": {},
   "outputs": [],
   "source": [
    "# # Flatten sterics, electrostatics\n",
    "# nb_force = old_system.getForce(3)\n",
    "# for i in range(nb_force.getNumParticles()):\n",
    "#     chargeProd, sigma, epsilon = nb_force.getParticleParameters(i)\n",
    "#     nb_force.setParticleParameters(i, 0, sigma, 0)\n",
    "\n",
    "# # Flatten all exceptions\n",
    "# for i in range(nb_force.getNumExceptions()):\n",
    "#     p1, p2, chargeProd, sigma, epsilon = nb_force.getExceptionParameters(i)\n",
    "#     nb_force.setExceptionParameters(i, p1, p2, 0, sigma, 0)"
   ]
  },
  {
   "cell_type": "code",
   "execution_count": 22,
   "metadata": {
    "scrolled": true
   },
   "outputs": [],
   "source": [
    "# off = list(range(0, 8)) + list(range(16, 23)) # no energy barrier\n",
    "# off = list(range(0, 8)) # Still has somewhat high energy barrier, multiple minima\n",
    "# off = list(range(16, 23)) # Still has somewhat high energy barrier\n",
    "# off = [1, 6, 16, 18] # no energy barrier\n",
    "# off = [1, 6, 18] # no energy barrier\n",
    "# off = [1, 18] # energy barrier\n",
    "# off = [6, 18] # no energy barrier\n",
    "# off = [6] # no energy barrier\n",
    "\n",
    "\n",
    "# # Flatten sterics, electrostatics\n",
    "# nb_force = new_system.getForce(3)\n",
    "# for i in range(nb_force.getNumParticles()):\n",
    "# #     print(i, nb_force.getParticleParameters(i))\n",
    "#     if i in off:\n",
    "#         print(i, nb_force.getParticleParameters(i))\n",
    "#         chargeProd, sigma, epsilon = nb_force.getParticleParameters(i)\n",
    "#         nb_force.setParticleParameters(i, 0, sigma, 0)\n",
    "\n",
    "\n",
    "\n",
    "# nb_force = new_system.getForce(3)\n",
    "# for i in range(nb_force.getNumExceptions()):\n",
    "#     p1, p2, chargeProd, sigma, epsilon = nb_force.getExceptionParameters(i)\n",
    "#     if abs(p1-p2) == 3:\n",
    "#         if p1 == 11 and p2 == 14:\n",
    "#             print(nb_force.getExceptionParameters(i))\n",
    "#             nb_force.setExceptionParameters(i, p1, p2, 0, sigma, 0)\n",
    "    \n",
    "# print()\n",
    "# print()\n",
    "\n",
    "# off_pairs = [(6, 14), (6, 18), (11, 18), (11,14)]\n",
    "\n",
    "# # Flatten all exceptions\n",
    "# nb_force = new_system.getForce(3)\n",
    "# for i in range(nb_force.getNumExceptions()):\n",
    "# #     print(i, nb_force.getExceptionParameters(i))\n",
    "#     p1, p2, chargeProd, sigma, epsilon = nb_force.getExceptionParameters(i)\n",
    "#     if (p1, p2) in off_pairs:\n",
    "# #         if chargeProd.value_in_unit_system(unit.md_unit_system) != 0 or epsilon.value_in_unit_system(unit.md_unit_system) != 0:\n",
    "#         print(i, nb_force.getExceptionParameters(i))\n",
    "#         nb_force.setExceptionParameters(i, p1, p2, 0, sigma, 0)\n",
    "\n",
    "        \n",
    "# Flatten all exceptions\n",
    "nb_force = new_system.getForce(3)\n",
    "for i in range(nb_force.getNumExceptions()):\n",
    "#     print(i, nb_force.getExceptionParameters(i))\n",
    "    p1, p2, chargeProd, sigma, epsilon = nb_force.getExceptionParameters(i)\n",
    "#         print(i, nb_force.getExceptionParameters(i))\n",
    "    nb_force.setExceptionParameters(i, p1, p2, 0, sigma, 0)\n"
   ]
  },
  {
   "cell_type": "code",
   "execution_count": 23,
   "metadata": {},
   "outputs": [
    {
     "name": "stderr",
     "output_type": "stream",
     "text": [
      "INFO:rdkit:Enabling RDKit 2020.09.1 jupyter extensions\n"
     ]
    },
    {
     "data": {
      "application/vnd.jupyter.widget-view+json": {
       "model_id": "77576e9ce22943778d23870ec3f00dac",
       "version_major": 2,
       "version_minor": 0
      },
      "text/plain": []
     },
     "metadata": {},
     "output_type": "display_data"
    },
    {
     "name": "stderr",
     "output_type": "stream",
     "text": [
      "INFO:relative:Beginning nonbonded method, total particle, barostat, and exceptions retrieval...\n",
      "INFO:relative:Flattening torsions of unique new/old at lambda = 0/1\n",
      "INFO:relative:Flattening exceptions of unique new/old at lambda = 0/1\n",
      "INFO:relative:Old system forces: dict_keys(['HarmonicBondForce', 'HarmonicAngleForce', 'PeriodicTorsionForce', 'NonbondedForce'])\n",
      "INFO:relative:New system forces: dict_keys(['HarmonicBondForce', 'HarmonicAngleForce', 'PeriodicTorsionForce', 'NonbondedForce'])\n",
      "INFO:relative:No unknown forces.\n",
      "INFO:relative:Nonbonded method to be used (i.e. from old system): 0\n",
      "INFO:relative:Adding and mapping old atoms to hybrid system...\n",
      "INFO:relative:Adding and mapping new atoms to hybrid system...\n",
      "INFO:relative:No MonteCarloBarostat added.\n",
      "INFO:relative:getDefaultPeriodicBoxVectors added to hybrid: [Quantity(value=Vec3(x=2.0, y=0.0, z=0.0), unit=nanometer), Quantity(value=Vec3(x=0.0, y=2.0, z=0.0), unit=nanometer), Quantity(value=Vec3(x=0.0, y=0.0, z=2.0), unit=nanometer)]\n",
      "INFO:relative:Determined atom classes.\n",
      "INFO:relative:Generating old system exceptions dict...\n",
      "INFO:relative:Generating new system exceptions dict...\n",
      "INFO:relative:Handling constraints...\n",
      "INFO:relative:Handling virtual sites...\n",
      "INFO:relative:\t_handle_virtual_sites: numVirtualSites: 0\n",
      "INFO:relative:Adding bond force terms...\n",
      "INFO:relative:Adding angle force terms...\n",
      "INFO:relative:Adding torsion force terms...\n",
      "INFO:relative:Adding nonbonded force terms...\n",
      "INFO:relative:\t_add_nonbonded_force_terms: <simtk.openmm.openmm.NonbondedForce; proxy of <Swig Object of type 'OpenMM::NonbondedForce *' at 0x2b31febcb660> > added to hybrid system\n",
      "INFO:relative:\t_add_nonbonded_force_terms: nonbonded_method is NoCutoff\n",
      "INFO:relative:\t_add_nonbonded_force_terms: 0 added to standard nonbonded force\n",
      "INFO:relative:\t_add_nonbonded_force_terms: 0 added to sterics_custom_nonbonded force\n",
      "INFO:relative:\t_add_nonbonded_force_terms: <simtk.openmm.openmm.CustomNonbondedForce; proxy of <Swig Object of type 'OpenMM::CustomNonbondedForce *' at 0x2b31febcb600> > added to hybrid system\n",
      "INFO:relative:Handling harmonic bonds...\n",
      "INFO:relative:\thandle_harmonic_bonds: looping through old_system to add relevant terms...\n",
      "INFO:relative:\thandle_harmonic_bonds: looping through new_system to add relevant terms...\n",
      "INFO:relative:Handling harmonic angles...\n",
      "INFO:relative:\thandle_harmonic_angles: looping through old_system to add relevant terms...\n",
      "INFO:relative:\thandle_harmonic_angles: looping through new_system to add relevant terms...\n",
      "INFO:relative:Handling torsion forces...\n",
      "INFO:relative:\thandle_periodic_torsion_forces: looping through old_system to add relevant terms...\n",
      "INFO:relative:\thandle_periodic_torsion_forces: looping through new_system to add relevant terms...\n",
      "INFO:relative:Handling nonbonded forces...\n",
      "INFO:relative:\thandle_nonbonded: looping through all particles in hybrid...\n",
      "INFO:relative:\thandle_nonbonded: Handling Interaction Groups...\n",
      "INFO:relative:\thandle_nonbonded: Handling Hybrid Exceptions...\n",
      "INFO:relative:\thandle_nonbonded: Handling Original Exceptions...\n",
      "INFO:relative:Handling unique_new/old interaction exceptions...\n",
      "INFO:relative:There are old or new system exceptions...proceeding.\n"
     ]
    }
   ],
   "source": [
    "# Build new htf\n",
    "from perses.tests.test_topology_proposal import generate_atp\n",
    "htf_at._topology_proposal._old_system = old_system\n",
    "htf_at._topology_proposal._new_system = new_system\n",
    "\n",
    "from perses.annihilation.relative import HybridTopologyFactory\n",
    "htf = HybridTopologyFactory(topology_proposal=htf_at._topology_proposal,\n",
    "                     current_positions=htf_at.old_positions(htf_at.hybrid_positions),\n",
    "                     new_positions=htf_at.new_positions(htf_at.hybrid_positions),\n",
    "                     use_dispersion_correction=False,\n",
    "                     functions=None,\n",
    "                     softcore_alpha=None,\n",
    "                     bond_softening_constant=1.0,\n",
    "                     angle_softening_constant=1.0,\n",
    "                     soften_only_new=False,\n",
    "                     neglected_new_angle_terms=[],\n",
    "                     neglected_old_angle_terms=[],\n",
    "                     softcore_LJ_v2=True,\n",
    "                     softcore_electrostatics=True,\n",
    "                     softcore_LJ_v2_alpha=0.85,\n",
    "                     softcore_electrostatics_alpha=0.3,\n",
    "                     softcore_sigma_Q=1.0,\n",
    "                     interpolate_old_and_new_14s=True, ## NOTE: when this is True, don't need to modify old and new systems\n",
    "                     omitted_terms=None,\n",
    "                     flatten_torsions=True)"
   ]
  },
  {
   "cell_type": "code",
   "execution_count": 63,
   "metadata": {
    "scrolled": true
   },
   "outputs": [
    {
     "name": "stdout",
     "output_type": "stream",
     "text": [
      "<Atom 0 (H1) of chain 0 residue 0 (ACE)> 0\n",
      "<Atom 1 (CH3) of chain 0 residue 0 (ACE)> 1\n",
      "<Atom 2 (H2) of chain 0 residue 0 (ACE)> 2\n",
      "<Atom 3 (H3) of chain 0 residue 0 (ACE)> 3\n",
      "<Atom 4 (C) of chain 0 residue 0 (ACE)> 4\n",
      "<Atom 5 (O) of chain 0 residue 0 (ACE)> 5\n",
      "<Atom 6 (N) of chain 0 residue 1 (ALA)> 6\n",
      "<Atom 7 (H) of chain 0 residue 1 (ALA)> 7\n",
      "<Atom 8 (CA) of chain 0 residue 1 (ALA)> 8\n",
      "<Atom 9 (HA) of chain 0 residue 1 (ALA)> 9\n",
      "<Atom 10 (CB) of chain 0 residue 1 (ALA)> 10\n",
      "<Atom 11 (HB1) of chain 0 residue 1 (ALA)> 11\n",
      "<Atom 12 (HB2) of chain 0 residue 1 (ALA)> 12\n",
      "<Atom 13 (HB3) of chain 0 residue 1 (ALA)> 13\n",
      "<Atom 14 (C) of chain 0 residue 1 (ALA)> 14\n",
      "<Atom 15 (O) of chain 0 residue 1 (ALA)> 15\n",
      "<Atom 16 (N) of chain 0 residue 2 (NME)> 16\n",
      "<Atom 17 (H) of chain 0 residue 2 (NME)> 17\n",
      "<Atom 18 (C) of chain 0 residue 2 (NME)> 18\n",
      "<Atom 19 (H1) of chain 0 residue 2 (NME)> 19\n",
      "<Atom 20 (H2) of chain 0 residue 2 (NME)> 20\n",
      "<Atom 21 (H3) of chain 0 residue 2 (NME)> 21\n"
     ]
    }
   ],
   "source": [
    "for atom in htf._topology_proposal.old_topology.atoms():\n",
    "    print(atom, atom.index)"
   ]
  },
  {
   "cell_type": "code",
   "execution_count": 64,
   "metadata": {},
   "outputs": [
    {
     "name": "stdout",
     "output_type": "stream",
     "text": [
      "<Atom 0 (H1) of chain 0 residue 0 (ACE)> 0\n",
      "<Atom 1 (CH3) of chain 0 residue 0 (ACE)> 1\n",
      "<Atom 2 (H2) of chain 0 residue 0 (ACE)> 2\n",
      "<Atom 3 (H3) of chain 0 residue 0 (ACE)> 3\n",
      "<Atom 4 (C) of chain 0 residue 0 (ACE)> 4\n",
      "<Atom 5 (O) of chain 0 residue 0 (ACE)> 5\n",
      "<Atom 6 (N) of chain 0 residue 1 (THR)> 6\n",
      "<Atom 7 (H) of chain 0 residue 1 (THR)> 7\n",
      "<Atom 8 (CA) of chain 0 residue 1 (THR)> 8\n",
      "<Atom 9 (HA) of chain 0 residue 1 (THR)> 9\n",
      "<Atom 10 (CB) of chain 0 residue 1 (THR)> 10\n",
      "<Atom 11 (C) of chain 0 residue 1 (THR)> 11\n",
      "<Atom 12 (O) of chain 0 residue 1 (THR)> 12\n",
      "<Atom 13 (HB) of chain 0 residue 1 (THR)> 13\n",
      "<Atom 14 (CG2) of chain 0 residue 1 (THR)> 14\n",
      "<Atom 15 (HG21) of chain 0 residue 1 (THR)> 15\n",
      "<Atom 16 (HG22) of chain 0 residue 1 (THR)> 16\n",
      "<Atom 17 (HG23) of chain 0 residue 1 (THR)> 17\n",
      "<Atom 18 (OG1) of chain 0 residue 1 (THR)> 18\n",
      "<Atom 19 (HG1) of chain 0 residue 1 (THR)> 19\n",
      "<Atom 20 (N) of chain 0 residue 2 (NME)> 20\n",
      "<Atom 21 (H) of chain 0 residue 2 (NME)> 21\n",
      "<Atom 22 (C) of chain 0 residue 2 (NME)> 22\n",
      "<Atom 23 (H1) of chain 0 residue 2 (NME)> 23\n",
      "<Atom 24 (H2) of chain 0 residue 2 (NME)> 24\n",
      "<Atom 25 (H3) of chain 0 residue 2 (NME)> 25\n"
     ]
    }
   ],
   "source": [
    "for atom in htf._topology_proposal.new_topology.atoms():\n",
    "    print(atom, atom.index)"
   ]
  },
  {
   "cell_type": "code",
   "execution_count": 24,
   "metadata": {
    "scrolled": true
   },
   "outputs": [
    {
     "name": "stderr",
     "output_type": "stream",
     "text": [
      "\r",
      "  0%|          | 0/10000 [00:00<?, ?it/s]"
     ]
    },
    {
     "name": "stdout",
     "output_type": "stream",
     "text": [
      "-15.520783206626676\n"
     ]
    },
    {
     "name": "stderr",
     "output_type": "stream",
     "text": [
      "100%|██████████| 10000/10000 [00:01<00:00, 6012.07it/s]\n"
     ]
    },
    {
     "name": "stdout",
     "output_type": "stream",
     "text": [
      "2.7912235\n",
      "16.26843135708939\n"
     ]
    },
    {
     "name": "stderr",
     "output_type": "stream",
     "text": [
      "INFO:root:Rotating by 0.2620000119779138 radians\n",
      "/home/zhangi/miniconda3/envs/perses-sims-oct2020/lib/python3.7/site-packages/numpy/core/_methods.py:217: RuntimeWarning: Degrees of freedom <= 0 for slice\n",
      "  keepdims=keepdims)\n",
      "/home/zhangi/miniconda3/envs/perses-sims-oct2020/lib/python3.7/site-packages/numpy/core/_methods.py:209: RuntimeWarning: invalid value encountered in double_scalars\n",
      "  ret = ret.dtype.type(ret / rcount)\n",
      "INFO:root:Rotating by -6.021185307179586 radians\n",
      "INFO:root:Rotating by 0.26200000000000045 radians\n",
      "INFO:root:Rotating by 0.262 radians\n",
      "INFO:root:Rotating by 0.262 radians\n",
      "INFO:root:Rotating by 0.26199999999999957 radians\n",
      "INFO:root:Rotating by 0.262 radians\n",
      "INFO:root:Rotating by 0.2619999999999998 radians\n",
      "INFO:root:Rotating by 0.2619999999999998 radians\n",
      "INFO:root:Rotating by 0.26200000000000023 radians\n",
      "INFO:root:Rotating by 0.26200000000000023 radians\n",
      "INFO:root:Rotating by 0.26200000000000057 radians\n",
      "INFO:root:Rotating by 0.2619999999999998 radians\n",
      "INFO:root:Rotating by 0.26200000000000045 radians\n",
      "INFO:root:Rotating by 0.2620000000000008 radians\n",
      "INFO:root:Rotating by 0.26199999999999934 radians\n",
      "INFO:root:Rotating by 0.26200000000000057 radians\n",
      "INFO:root:Rotating by 0.2619999999999998 radians\n",
      "INFO:root:Rotating by 0.262 radians\n",
      "INFO:root:Rotating by 0.2619999999999998 radians\n",
      "INFO:root:Rotating by 0.26200000000000023 radians\n",
      "INFO:root:Rotating by 0.26199999999999957 radians\n",
      "INFO:root:Rotating by 0.262 radians\n",
      "INFO:root:Rotating by 0.2620000000000009 radians\n",
      "INFO:root:Rotating by 0.26199999999999957 radians\n"
     ]
    },
    {
     "name": "stdout",
     "output_type": "stream",
     "text": [
      "16.268442200666346\n",
      "16.26845719938352\n",
      "16.268451718998648\n",
      "16.26845113163453\n",
      "16.268444085692106\n",
      "16.268450598129633\n",
      "16.268453915091694\n",
      "16.268453391807906\n",
      "16.268441740856158\n",
      "16.268455587994296\n",
      "16.268450979624607\n",
      "16.2684558256469\n",
      "16.26845503782758\n",
      "16.26844603237126\n",
      "16.268456968638333\n",
      "16.268461297350832\n",
      "16.268454569756486\n",
      "16.268448229211053\n",
      "16.268443794506986\n",
      "16.2684441769354\n",
      "16.268456732105847\n",
      "16.268456175078377\n",
      "16.268445851518187\n",
      "16.268447431637327\n"
     ]
    },
    {
     "name": "stderr",
     "output_type": "stream",
     "text": [
      "/home/zhangi/miniconda3/envs/perses-sims-oct2020/lib/python3.7/site-packages/numpy/core/_asarray.py:85: UserWarning: Warning: converting a masked element to nan.\n",
      "  return array(a, dtype, copy=False, order=order)\n"
     ]
    },
    {
     "name": "stdout",
     "output_type": "stream",
     "text": [
      "raw d: {3.0532235260009766: (16.268442200666346, nan), -2.9679617811786096: (16.26845719938352, nan), -2.7059617811786096: (16.268451718998648, nan), -2.4439617811786096: (16.26845113163453, nan), -2.1819617811786096: (16.268444085692106, nan), -1.9199617811786096: (16.268450598129633, nan), -1.6579617811786096: (16.268453915091694, nan), -1.3959617811786096: (16.268453391807906, nan), -1.1339617811786096: (16.268441740856158, nan), -0.8719617811786096: (16.268455587994296, nan), -0.6099617811786096: (16.268450979624607, nan), -0.34796178117860954: (16.2684558256469, nan), -0.08596178117860953: (16.26845503782758, nan), 0.17603821882139048: (16.26844603237126, nan), 0.4380382188213905: (16.268456968638333, nan), 0.7000382188213905: (16.268461297350832, nan), 0.9620382188213905: (16.268454569756486, nan), 1.2240382188213905: (16.268448229211053, nan), 1.4860382188213905: (16.268443794506986, nan), 1.7480382188213905: (16.2684441769354, nan), 2.0100382188213906: (16.268456732105847, nan), 2.2720382188213906: (16.268456175078377, nan), 2.5340382188213906: (16.268445851518187, nan), 2.7960382188213906: (16.268447431637327, nan), 3.0580382188213906: (16.26846092154981, nan)}\n",
      "min: 16.268441740856158\n",
      "d corrected: {3.0532235260009766: (4.598101881470029e-07, nan), -2.9679617811786096: (1.5458527361289498e-05, nan), -2.7059617811786096: (9.978142490041364e-06, nan), -2.4439617811786096: (9.390778373585817e-06, nan), -2.1819617811786096: (2.3448359485200854e-06, nan), -1.9199617811786096: (8.857273474660587e-06, nan), -1.6579617811786096: (1.2174235536122069e-05, nan), -1.3959617811786096: (1.165095174826547e-05, nan), -1.1339617811786096: (0.0, nan), -0.8719617811786096: (1.3847138138345372e-05, nan), -0.6099617811786096: (9.238768448938117e-06, nan), -0.34796178117860954: (1.4084790741719644e-05, nan), -0.08596178117860953: (1.329697142082864e-05, nan), 0.17603821882139048: (4.291515100618426e-06, nan), 0.4380382188213905: (1.5227782174775939e-05, nan), 0.7000382188213905: (1.955649467433318e-05, nan), 0.9620382188213905: (1.282890032783257e-05, nan), 1.2240382188213905: (6.488354895139992e-06, nan), 1.4860382188213905: (2.053650828059972e-06, nan), 1.7480382188213905: (2.4360792423294697e-06, nan), 2.0100382188213906: (1.4991249688733888e-05, nan), 2.2720382188213906: (1.4434222219250614e-05, nan), 2.5340382188213906: (4.110662029432888e-06, nan), 2.7960382188213906: (5.690781168965486e-06, nan), 3.0580382188213906: (1.9180693652032232e-05, nan)}\n"
     ]
    },
    {
     "data": {
      "image/png": "[encoded data removed]",
      "text/plain": [
       "<Figure size 432x288 with 1 Axes>"
      ]
     },
     "metadata": {
      "needs_background": "light"
     },
     "output_type": "display_data"
    }
   ],
   "source": [
    "# ALA->THR -- THR at lambda = 0\n",
    "torsion_scans.append(run_torsion_scan(htf, 0, False, [6, 8, 22, 28], [6, 8, 10, 18], [23, 24, 25, 26, 27, 29])) # for 7/31\n",
    "# run_torsion_scan(htf, 0, False, [6, 8, 10, 27], [6, 8, 10, 18], [22, 23, 24, 25, 26, 28]) # for 7/5"
   ]
  },
  {
   "cell_type": "code",
   "execution_count": 51,
   "metadata": {
    "scrolled": true
   },
   "outputs": [
    {
     "name": "stdout",
     "output_type": "stream",
     "text": [
      "60.501450299496824\n"
     ]
    },
    {
     "name": "stderr",
     "output_type": "stream",
     "text": [
      "100%|██████████| 10000/10000 [00:01<00:00, 9406.65it/s]\n"
     ]
    },
    {
     "name": "stdout",
     "output_type": "stream",
     "text": [
      "1.0471988\n",
      "nan\n"
     ]
    },
    {
     "name": "stderr",
     "output_type": "stream",
     "text": [
      "INFO:root:Rotating by 0.26199995022480693 radians\n",
      "INFO:root:Rotating by 0.2619999999999998 radians\n",
      "INFO:root:Rotating by 0.2619999999999998 radians\n",
      "INFO:root:Rotating by 0.26199999999999957 radians\n",
      "INFO:root:Rotating by 0.26200000000000045 radians\n",
      "INFO:root:Rotating by 0.262 radians\n",
      "INFO:root:Rotating by 0.26200000000000045 radians\n",
      "INFO:root:Rotating by -6.021185307179586 radians\n",
      "INFO:root:Rotating by 0.2620000000000111 radians\n",
      "INFO:root:Rotating by 0.2619999999999889 radians\n",
      "INFO:root:Rotating by 0.26199999999999957 radians\n",
      "INFO:root:Rotating by 0.262 radians\n",
      "INFO:root:Rotating by 0.262 radians\n",
      "INFO:root:Rotating by 0.262 radians\n",
      "INFO:root:Rotating by 0.2619999999999998 radians\n",
      "INFO:root:Rotating by 0.262 radians\n",
      "INFO:root:Rotating by 0.26200000000000023 radians\n",
      "INFO:root:Rotating by 0.26200000000000023 radians\n",
      "INFO:root:Rotating by 0.2619999999999999 radians\n",
      "INFO:root:Rotating by 0.26200000000000023 radians\n",
      "INFO:root:Rotating by 0.26200000000000323 radians\n",
      "INFO:root:Rotating by 0.2619999999999972 radians\n",
      "INFO:root:Rotating by 0.26199999999999946 radians\n",
      "INFO:root:Rotating by 0.2619999999999999 radians\n",
      "INFO:root:Rotating by 0.26200000000000045 radians\n"
     ]
    },
    {
     "name": "stdout",
     "output_type": "stream",
     "text": [
      "nan\n",
      "nan\n",
      "nan\n",
      "nan\n",
      "nan\n",
      "nan\n",
      "nan\n",
      "nan\n",
      "nan\n",
      "nan\n",
      "nan\n",
      "nan\n",
      "nan\n",
      "nan\n",
      "nan\n",
      "nan\n",
      "nan\n",
      "nan\n",
      "nan\n",
      "nan\n",
      "nan\n",
      "nan\n",
      "nan\n",
      "nan\n",
      "raw d: {1.30919877243042: (nan, nan), 1.57119877243042: (nan, nan), 1.83319877243042: (nan, nan), 2.09519877243042: (nan, nan), 2.35719877243042: (nan, nan), 2.61919877243042: (nan, nan), 2.88119877243042: (nan, nan), -3.1399865347491662: (nan, nan), -2.877986534749166: (nan, nan), -2.615986534749166: (nan, nan), -2.353986534749166: (nan, nan), -2.091986534749166: (nan, nan), -1.8299865347491662: (nan, nan), -1.5679865347491662: (nan, nan), -1.3059865347491662: (nan, nan), -1.0439865347491661: (nan, nan), -0.7819865347491661: (nan, nan), -0.5199865347491661: (nan, nan), -0.2579865347491661: (nan, nan), 0.004013465250833903: (nan, nan), 0.2660134652508339: (nan, nan), 0.5280134652508339: (nan, nan), 0.7900134652508339: (nan, nan), 1.052013465250834: (nan, nan), 1.314013465250834: (nan, nan)}\n",
      "min: nan\n",
      "d corrected: {1.30919877243042: (nan, nan), 1.57119877243042: (nan, nan), 1.83319877243042: (nan, nan), 2.09519877243042: (nan, nan), 2.35719877243042: (nan, nan), 2.61919877243042: (nan, nan), 2.88119877243042: (nan, nan), -3.1399865347491662: (nan, nan), -2.877986534749166: (nan, nan), -2.615986534749166: (nan, nan), -2.353986534749166: (nan, nan), -2.091986534749166: (nan, nan), -1.8299865347491662: (nan, nan), -1.5679865347491662: (nan, nan), -1.3059865347491662: (nan, nan), -1.0439865347491661: (nan, nan), -0.7819865347491661: (nan, nan), -0.5199865347491661: (nan, nan), -0.2579865347491661: (nan, nan), 0.004013465250833903: (nan, nan), 0.2660134652508339: (nan, nan), 0.5280134652508339: (nan, nan), 0.7900134652508339: (nan, nan), 1.052013465250834: (nan, nan), 1.314013465250834: (nan, nan)}\n"
     ]
    },
    {
     "data": {
      "image/png": "[encoded data removed]",
      "text/plain": [
       "<Figure size 432x288 with 1 Axes>"
      ]
     },
     "metadata": {
      "needs_background": "light"
     },
     "output_type": "display_data"
    },
    {
     "data": {
      "text/plain": [
       "{1.30919877243042: (nan, nan),\n",
       " 1.57119877243042: (nan, nan),\n",
       " 1.83319877243042: (nan, nan),\n",
       " 2.09519877243042: (nan, nan),\n",
       " 2.35719877243042: (nan, nan),\n",
       " 2.61919877243042: (nan, nan),\n",
       " 2.88119877243042: (nan, nan),\n",
       " -3.1399865347491662: (nan, nan),\n",
       " -2.877986534749166: (nan, nan),\n",
       " -2.615986534749166: (nan, nan),\n",
       " -2.353986534749166: (nan, nan),\n",
       " -2.091986534749166: (nan, nan),\n",
       " -1.8299865347491662: (nan, nan),\n",
       " -1.5679865347491662: (nan, nan),\n",
       " -1.3059865347491662: (nan, nan),\n",
       " -1.0439865347491661: (nan, nan),\n",
       " -0.7819865347491661: (nan, nan),\n",
       " -0.5199865347491661: (nan, nan),\n",
       " -0.2579865347491661: (nan, nan),\n",
       " 0.004013465250833903: (nan, nan),\n",
       " 0.2660134652508339: (nan, nan),\n",
       " 0.5280134652508339: (nan, nan),\n",
       " 0.7900134652508339: (nan, nan),\n",
       " 1.052013465250834: (nan, nan),\n",
       " 1.314013465250834: (nan, nan)}"
      ]
     },
     "execution_count": 51,
     "metadata": {},
     "output_type": "execute_result"
    }
   ],
   "source": [
    "# ALA->THR -- ALA at lambda = 1\n",
    "run_torsion_scan(htf, 1, True, [6, 8, 10, 11], [6, 8, 10, 11], [12, 13]) # for 7/31\n",
    "# run_torsion_scan(htf, 1, True, [6, 8, 10, 15], [6, 8, 10, 11], [11, 12]) # for 7/5"
   ]
  },
  {
   "cell_type": "code",
   "execution_count": null,
   "metadata": {},
   "outputs": [],
   "source": []
  },
  {
   "cell_type": "markdown",
   "metadata": {},
   "source": [
    "###  Generate torsion scans for vanilla htf with 4 flattened exceptions and all torsions (sidechains not mapped): THR->ALA"
   ]
  },
  {
   "cell_type": "code",
   "execution_count": 40,
   "metadata": {},
   "outputs": [],
   "source": [
    "outdir = \"/data/chodera/zhangi/perses_benchmark/neq/7/6/\"\n",
    "with open(os.path.join(outdir, \"6_vacuum.pickle\" ), \"rb\") as f:\n",
    "    htf_at = pickle.load(f)"
   ]
  },
  {
   "cell_type": "code",
   "execution_count": 8,
   "metadata": {},
   "outputs": [],
   "source": [
    "old_system = htf_at._topology_proposal.old_system\n",
    "new_system = htf_at._topology_proposal.new_system"
   ]
  },
  {
   "cell_type": "code",
   "execution_count": 9,
   "metadata": {},
   "outputs": [
    {
     "name": "stdout",
     "output_type": "stream",
     "text": [
      "0 <simtk.openmm.openmm.HarmonicBondForce; proxy of <Swig Object of type 'OpenMM::HarmonicBondForce *' at 0x2b24e9ba6480> >\n",
      "1 <simtk.openmm.openmm.HarmonicAngleForce; proxy of <Swig Object of type 'OpenMM::HarmonicAngleForce *' at 0x2b24e9ba6480> >\n",
      "2 <simtk.openmm.openmm.PeriodicTorsionForce; proxy of <Swig Object of type 'OpenMM::PeriodicTorsionForce *' at 0x2b24e9ba6480> >\n",
      "3 <simtk.openmm.openmm.NonbondedForce; proxy of <Swig Object of type 'OpenMM::NonbondedForce *' at 0x2b24e9ba6480> >\n"
     ]
    }
   ],
   "source": [
    "for i in range(htf_at._topology_proposal.new_system.getNumForces()):\n",
    "    print(i, htf_at._topology_proposal.new_system.getForce(i))"
   ]
  },
  {
   "cell_type": "code",
   "execution_count": 10,
   "metadata": {},
   "outputs": [
    {
     "name": "stdout",
     "output_type": "stream",
     "text": [
      "ACE1-H1 0\n",
      "ACE1-CH3 1\n",
      "ACE1-H2 2\n",
      "ACE1-H3 3\n",
      "ACE1-C 4\n",
      "ACE1-O 5\n",
      "ALA2-N 6\n",
      "ALA2-H 7\n",
      "ALA2-CA 8\n",
      "ALA2-HA 9\n",
      "ALA2-CB 10\n",
      "ALA2-HB2 11\n",
      "ALA2-HB3 12\n",
      "ALA2-C 13\n",
      "ALA2-O 14\n",
      "ALA2-HB1 15\n",
      "ALA2-HB 22\n",
      "ALA2-CG2 23\n",
      "ALA2-HG21 24\n",
      "ALA2-HG22 25\n",
      "ALA2-HG23 26\n",
      "ALA2-OG1 27\n",
      "ALA2-HG1 28\n",
      "NME3-N 16\n",
      "NME3-H 17\n",
      "NME3-C 18\n",
      "NME3-H1 19\n",
      "NME3-H2 20\n",
      "NME3-H3 21\n"
     ]
    }
   ],
   "source": [
    "for atom in htf_at.hybrid_topology.atoms:\n",
    "    print(atom, atom.index)"
   ]
  },
  {
   "cell_type": "code",
   "execution_count": 11,
   "metadata": {},
   "outputs": [],
   "source": [
    "# # Flatten all 1,4s\n",
    "# nb_force = old_system.getForce(3)\n",
    "# for i in range(nb_force.getNumExceptions()):\n",
    "#     p1, p2, chargeProd, sigma, epsilon = nb_force.getExceptionParameters(i)\n",
    "#     if abs(p1-p2) == 3:\n",
    "#         nb_force.setExceptionParameters(i, p1, p2, 0, sigma, 0)"
   ]
  },
  {
   "cell_type": "code",
   "execution_count": 12,
   "metadata": {},
   "outputs": [],
   "source": [
    "# Flatten all 1,4s\n",
    "# nb_force = new_system.getForce(3)\n",
    "# for i in range(nb_force.getNumExceptions()):\n",
    "#     p1, p2, chargeProd, sigma, epsilon = nb_force.getExceptionParameters(i)\n",
    "#     if abs(p1-p2) == 3:\n",
    "#         if p1 == 11 or p2 == 11:\n",
    "#             print(nb_force.getExceptionParameters(i))\n",
    "#             nb_force.setExceptionParameters(i, p1, p2, 0, sigma, 0)\n",
    "\n",
    "# nb_force = new_system.getForce(3)\n",
    "# for i in range(nb_force.getNumExceptions()):\n",
    "#     p1, p2, chargeProd, sigma, epsilon = nb_force.getExceptionParameters(i)\n",
    "#     if abs(p1-p2) == 3:\n",
    "#         if p1 == 11 and p2 == 14:\n",
    "#             print(nb_force.getExceptionParameters(i))\n",
    "#             nb_force.setExceptionParameters(i, p1, p2, 0, sigma, 0)"
   ]
  },
  {
   "cell_type": "code",
   "execution_count": 13,
   "metadata": {},
   "outputs": [],
   "source": [
    "# # Flatten more torsions (for all atoms)\n",
    "# periodic_torsion = old_system.getForce(2)\n",
    "# for i in range(periodic_torsion.getNumTorsions()):\n",
    "#     p1, p2, p3, p4, periodicity, phase, k = periodic_torsion.getTorsionParameters(i)\n",
    "#     periodic_torsion.setTorsionParameters(i, p1, p2, p3, p4, periodicity, phase, 0.*k)"
   ]
  },
  {
   "cell_type": "code",
   "execution_count": 14,
   "metadata": {},
   "outputs": [],
   "source": [
    "# # Flatten more torsions (for all atoms)\n",
    "# periodic_torsion = new_system.getForce(2)\n",
    "# for i in range(periodic_torsion.getNumTorsions()):\n",
    "#     p1, p2, p3, p4, periodicity, phase, k = periodic_torsion.getTorsionParameters(i)\n",
    "#     periodic_torsion.setTorsionParameters(i, p1, p2, p3, p4, periodicity, phase, 0.*k)"
   ]
  },
  {
   "cell_type": "code",
   "execution_count": 15,
   "metadata": {},
   "outputs": [],
   "source": [
    "# # Flatten sterics, electrostatics\n",
    "# nb_force = old_system.getForce(3)\n",
    "# for i in range(nb_force.getNumParticles()):\n",
    "#     chargeProd, sigma, epsilon = nb_force.getParticleParameters(i)\n",
    "#     nb_force.setParticleParameters(i, 0, sigma, 0)\n",
    "\n",
    "# # Flatten all exceptions\n",
    "# for i in range(nb_force.getNumExceptions()):\n",
    "#     p1, p2, chargeProd, sigma, epsilon = nb_force.getExceptionParameters(i)\n",
    "#     nb_force.setExceptionParameters(i, p1, p2, 0, sigma, 0)"
   ]
  },
  {
   "cell_type": "code",
   "execution_count": 17,
   "metadata": {
    "scrolled": true
   },
   "outputs": [
    {
     "name": "stdout",
     "output_type": "stream",
     "text": [
      "\n",
      "\n",
      "55 [6, 14, Quantity(value=0.08445638333333334, unit=elementary charge**2), Quantity(value=0.3324834016099747, unit=nanometer), Quantity(value=0.28529542140034425, unit=kilojoule/mole)]\n",
      "76 [6, 18, Quantity(value=0.23421230833333337, unit=elementary charge**2), Quantity(value=0.31582359558075035, unit=nanometer), Quantity(value=0.3956480308961489, unit=kilojoule/mole)]\n",
      "80 [11, 18, Quantity(value=-0.33652877500000006, unit=elementary charge**2), Quantity(value=0.32330714481312917, unit=nanometer), Quantity(value=0.2814062724986776, unit=kilojoule/mole)]\n"
     ]
    }
   ],
   "source": [
    "# off = list(range(0, 8)) + list(range(16, 23)) # no energy barrier\n",
    "# off = list(range(0, 8)) # Still has somewhat high energy barrier, multiple minima\n",
    "# off = list(range(16, 23)) # Still has somewhat high energy barrier\n",
    "# off = [1, 6, 16, 18] # no energy barrier\n",
    "# off = [1, 6, 18] # no energy barrier\n",
    "# off = [1, 18] # energy barrier\n",
    "# off = [6, 18] # no energy barrier\n",
    "off = [6] # no energy barrier\n",
    "\n",
    "\n",
    "# # Flatten sterics, electrostatics\n",
    "nb_force = new_system.getForce(3)\n",
    "# for i in range(nb_force.getNumParticles()):\n",
    "# #     print(i, nb_force.getParticleParameters(i))\n",
    "#     if i in off:\n",
    "#         print(i, nb_force.getParticleParameters(i))\n",
    "#         chargeProd, sigma, epsilon = nb_force.getParticleParameters(i)\n",
    "#         nb_force.setParticleParameters(i, 0, sigma, 0)\n",
    "        \n",
    "\n",
    "\n",
    "print()\n",
    "print()\n",
    "\n",
    "off_pairs = [(6, 14), (6, 18), (11,18)]\n",
    "\n",
    "# Flatten all exceptions\n",
    "for i in range(nb_force.getNumExceptions()):\n",
    "#     print(i, nb_force.getExceptionParameters(i))\n",
    "    p1, p2, chargeProd, sigma, epsilon = nb_force.getExceptionParameters(i)\n",
    "#     if p1 in off or p2 in off:\n",
    "    if (p1, p2) in off_pairs:\n",
    "        if chargeProd.value_in_unit_system(unit.md_unit_system) != 0 or epsilon.value_in_unit_system(unit.md_unit_system) != 0:\n",
    "            print(i, nb_force.getExceptionParameters(i))\n",
    "            nb_force.setExceptionParameters(i, p1, p2, 0, sigma, 0)\n",
    "        "
   ]
  },
  {
   "cell_type": "code",
   "execution_count": 19,
   "metadata": {},
   "outputs": [
    {
     "name": "stderr",
     "output_type": "stream",
     "text": [
      "RDKit WARNING: [20:27:30] Enabling RDKit 2019.09.3 jupyter extensions\n",
      "INFO:relative:Beginning nonbonded method, total particle, barostat, and exceptions retrieval...\n",
      "INFO:relative:Old system forces: dict_keys(['HarmonicBondForce', 'HarmonicAngleForce', 'PeriodicTorsionForce', 'NonbondedForce'])\n",
      "INFO:relative:New system forces: dict_keys(['HarmonicBondForce', 'HarmonicAngleForce', 'PeriodicTorsionForce', 'NonbondedForce'])\n",
      "INFO:relative:No unknown forces.\n",
      "INFO:relative:Nonbonded method to be used (i.e. from old system): 0\n",
      "INFO:relative:Adding and mapping old atoms to hybrid system...\n",
      "INFO:relative:Adding and mapping new atoms to hybrid system...\n",
      "INFO:relative:No MonteCarloBarostat added.\n",
      "INFO:relative:getDefaultPeriodicBoxVectors added to hybrid: [Quantity(value=Vec3(x=2.0, y=0.0, z=0.0), unit=nanometer), Quantity(value=Vec3(x=0.0, y=2.0, z=0.0), unit=nanometer), Quantity(value=Vec3(x=0.0, y=0.0, z=2.0), unit=nanometer)]\n",
      "INFO:relative:Determined atom classes.\n",
      "INFO:relative:Generating old system exceptions dict...\n",
      "INFO:relative:Generating new system exceptions dict...\n",
      "INFO:relative:Handling constraints...\n",
      "INFO:relative:Handling virtual sites...\n",
      "INFO:relative:\t_handle_virtual_sites: numVirtualSites: 0\n",
      "INFO:relative:Adding bond force terms...\n",
      "INFO:relative:Adding angle force terms...\n",
      "INFO:relative:Adding torsion force terms...\n",
      "INFO:relative:Adding nonbonded force terms...\n",
      "INFO:relative:\t_add_nonbonded_force_terms: <simtk.openmm.openmm.NonbondedForce; proxy of <Swig Object of type 'OpenMM::NonbondedForce *' at 0x2b24eccb3570> > added to hybrid system\n",
      "INFO:relative:\t_add_nonbonded_force_terms: nonbonded_method is NoCutoff\n",
      "INFO:relative:\t_add_nonbonded_force_terms: 0 added to standard nonbonded force\n",
      "INFO:relative:\t_add_nonbonded_force_terms: 0 added to sterics_custom_nonbonded force\n",
      "INFO:relative:\t_add_nonbonded_force_terms: <simtk.openmm.openmm.CustomNonbondedForce; proxy of <Swig Object of type 'OpenMM::CustomNonbondedForce *' at 0x2b24eccb3450> > added to hybrid system\n",
      "INFO:relative:Handling harmonic bonds...\n",
      "INFO:relative:\thandle_harmonic_bonds: looping through old_system to add relevant terms...\n",
      "INFO:relative:\thandle_harmonic_bonds: looping through new_system to add relevant terms...\n",
      "INFO:relative:Handling harmonic angles...\n",
      "INFO:relative:\thandle_harmonic_angles: looping through old_system to add relevant terms...\n",
      "INFO:relative:\thandle_harmonic_angles: looping through new_system to add relevant terms...\n",
      "INFO:relative:Handling torsion forces...\n",
      "INFO:relative:\thandle_periodic_torsion_forces: looping through old_system to add relevant terms...\n",
      "INFO:relative:\thandle_periodic_torsion_forces: looping through new_system to add relevant terms...\n",
      "INFO:relative:Handling nonbonded forces...\n",
      "INFO:relative:\thandle_nonbonded: looping through all particles in hybrid...\n",
      "INFO:relative:\thandle_nonbonded: Handling Interaction Groups...\n",
      "INFO:relative:\thandle_nonbonded: Handling Hybrid Exceptions...\n",
      "INFO:relative:\thandle_nonbonded: Handling Original Exceptions...\n",
      "INFO:relative:Handling unique_new/old interaction exceptions...\n",
      "INFO:relative:There are old or new system exceptions...proceeding.\n"
     ]
    }
   ],
   "source": [
    "# Build new htf\n",
    "from perses.tests.test_topology_proposal import generate_atp\n",
    "htf_at._topology_proposal._old_system = old_system\n",
    "htf_at._topology_proposal._new_system = new_system\n",
    "\n",
    "from perses.annihilation.relative import HybridTopologyFactory\n",
    "htf = HybridTopologyFactory(topology_proposal=htf_at._topology_proposal,\n",
    "                     current_positions=htf_at.old_positions(htf_at.hybrid_positions),\n",
    "                     new_positions=htf_at.new_positions(htf_at.hybrid_positions),\n",
    "                     use_dispersion_correction=False,\n",
    "                     functions=None,\n",
    "                     softcore_alpha=None,\n",
    "                     bond_softening_constant=1.0,\n",
    "                     angle_softening_constant=1.0,\n",
    "                     soften_only_new=False,\n",
    "                     neglected_new_angle_terms=[],\n",
    "                     neglected_old_angle_terms=[],\n",
    "                     softcore_LJ_v2=True,\n",
    "                     softcore_electrostatics=True,\n",
    "                     softcore_LJ_v2_alpha=0.85,\n",
    "                     softcore_electrostatics_alpha=0.3,\n",
    "                     softcore_sigma_Q=1.0,\n",
    "                     interpolate_old_and_new_14s=False,\n",
    "                     omitted_terms=None,\n",
    "                     flatten_torsions=True)"
   ]
  },
  {
   "cell_type": "code",
   "execution_count": 61,
   "metadata": {
    "scrolled": true
   },
   "outputs": [
    {
     "name": "stdout",
     "output_type": "stream",
     "text": [
      "<Atom 0 (H1) of chain 0 residue 0 (ACE)> 0\n",
      "<Atom 1 (CH3) of chain 0 residue 0 (ACE)> 1\n",
      "<Atom 2 (H2) of chain 0 residue 0 (ACE)> 2\n",
      "<Atom 3 (H3) of chain 0 residue 0 (ACE)> 3\n",
      "<Atom 4 (C) of chain 0 residue 0 (ACE)> 4\n",
      "<Atom 5 (O) of chain 0 residue 0 (ACE)> 5\n",
      "<Atom 6 (N) of chain 0 residue 1 (ALA)> 6\n",
      "<Atom 7 (H) of chain 0 residue 1 (ALA)> 7\n",
      "<Atom 8 (CA) of chain 0 residue 1 (ALA)> 8\n",
      "<Atom 9 (HA) of chain 0 residue 1 (ALA)> 9\n",
      "<Atom 10 (CB) of chain 0 residue 1 (ALA)> 10\n",
      "<Atom 11 (HB2) of chain 0 residue 1 (ALA)> 11\n",
      "<Atom 12 (HB3) of chain 0 residue 1 (ALA)> 12\n",
      "<Atom 13 (C) of chain 0 residue 1 (ALA)> 13\n",
      "<Atom 14 (O) of chain 0 residue 1 (ALA)> 14\n",
      "<Atom 15 (HB1) of chain 0 residue 1 (ALA)> 15\n",
      "<Atom 16 (N) of chain 0 residue 2 (NME)> 16\n",
      "<Atom 17 (H) of chain 0 residue 2 (NME)> 17\n",
      "<Atom 18 (C) of chain 0 residue 2 (NME)> 18\n",
      "<Atom 19 (H1) of chain 0 residue 2 (NME)> 19\n",
      "<Atom 20 (H2) of chain 0 residue 2 (NME)> 20\n",
      "<Atom 21 (H3) of chain 0 residue 2 (NME)> 21\n"
     ]
    }
   ],
   "source": [
    "for atom in htf._topology_proposal.old_topology.atoms():\n",
    "    print(atom, atom.index)"
   ]
  },
  {
   "cell_type": "code",
   "execution_count": 62,
   "metadata": {},
   "outputs": [
    {
     "name": "stdout",
     "output_type": "stream",
     "text": [
      "<Atom 0 (H1) of chain 0 residue 0 (ACE)> 0\n",
      "<Atom 1 (CH3) of chain 0 residue 0 (ACE)> 1\n",
      "<Atom 2 (H2) of chain 0 residue 0 (ACE)> 2\n",
      "<Atom 3 (H3) of chain 0 residue 0 (ACE)> 3\n",
      "<Atom 4 (C) of chain 0 residue 0 (ACE)> 4\n",
      "<Atom 5 (O) of chain 0 residue 0 (ACE)> 5\n",
      "<Atom 6 (N) of chain 0 residue 1 (THR)> 6\n",
      "<Atom 7 (H) of chain 0 residue 1 (THR)> 7\n",
      "<Atom 8 (CA) of chain 0 residue 1 (THR)> 8\n",
      "<Atom 9 (HA) of chain 0 residue 1 (THR)> 9\n",
      "<Atom 10 (CB) of chain 0 residue 1 (THR)> 10\n",
      "<Atom 11 (C) of chain 0 residue 1 (THR)> 11\n",
      "<Atom 12 (O) of chain 0 residue 1 (THR)> 12\n",
      "<Atom 13 (HB) of chain 0 residue 1 (THR)> 13\n",
      "<Atom 14 (CG2) of chain 0 residue 1 (THR)> 14\n",
      "<Atom 15 (HG21) of chain 0 residue 1 (THR)> 15\n",
      "<Atom 16 (HG22) of chain 0 residue 1 (THR)> 16\n",
      "<Atom 17 (HG23) of chain 0 residue 1 (THR)> 17\n",
      "<Atom 18 (OG1) of chain 0 residue 1 (THR)> 18\n",
      "<Atom 19 (HG1) of chain 0 residue 1 (THR)> 19\n",
      "<Atom 20 (N) of chain 0 residue 2 (NME)> 20\n",
      "<Atom 21 (H) of chain 0 residue 2 (NME)> 21\n",
      "<Atom 22 (C) of chain 0 residue 2 (NME)> 22\n",
      "<Atom 23 (H1) of chain 0 residue 2 (NME)> 23\n",
      "<Atom 24 (H2) of chain 0 residue 2 (NME)> 24\n",
      "<Atom 25 (H3) of chain 0 residue 2 (NME)> 25\n"
     ]
    }
   ],
   "source": [
    "for atom in htf._topology_proposal.new_topology.atoms():\n",
    "    print(atom, atom.index)"
   ]
  },
  {
   "cell_type": "code",
   "execution_count": 20,
   "metadata": {
    "scrolled": true
   },
   "outputs": [
    {
     "name": "stderr",
     "output_type": "stream",
     "text": [
      " 18%|█▊        | 1805/10000 [00:00<00:00, 18046.40it/s]"
     ]
    },
    {
     "name": "stdout",
     "output_type": "stream",
     "text": [
      "-96.29144459922797\n"
     ]
    },
    {
     "name": "stderr",
     "output_type": "stream",
     "text": [
      "100%|██████████| 10000/10000 [00:00<00:00, 19371.54it/s]\n"
     ]
    },
    {
     "name": "stdout",
     "output_type": "stream",
     "text": [
      "-1.1785822\n",
      "-69.12299715501726\n"
     ]
    },
    {
     "name": "stderr",
     "output_type": "stream",
     "text": [
      "INFO:root:Rotating by 0.2620000870596926 radians\n",
      "/home/zhangi/miniconda3/envs/perses-sims/lib/python3.7/site-packages/numpy/core/_methods.py:217: RuntimeWarning: Degrees of freedom <= 0 for slice\n",
      "  keepdims=keepdims)\n",
      "/home/zhangi/miniconda3/envs/perses-sims/lib/python3.7/site-packages/numpy/core/_methods.py:209: RuntimeWarning: invalid value encountered in double_scalars\n",
      "  ret = ret.dtype.type(ret / rcount)\n",
      "INFO:root:Rotating by 0.2619999999999998 radians\n",
      "INFO:root:Rotating by 0.2619999999999999 radians\n",
      "INFO:root:Rotating by 0.26199999999999984 radians\n",
      "INFO:root:Rotating by 0.2620000000000011 radians\n",
      "INFO:root:Rotating by 0.2619999999999981 radians\n",
      "INFO:root:Rotating by 0.2620000000000007 radians\n",
      "INFO:root:Rotating by 0.26200000000000034 radians\n",
      "INFO:root:Rotating by 0.262 radians\n",
      "INFO:root:Rotating by 0.2619999999999998 radians\n",
      "INFO:root:Rotating by 0.26200000000000023 radians\n",
      "INFO:root:Rotating by 0.2619999999999998 radians\n",
      "INFO:root:Rotating by 0.262 radians\n",
      "INFO:root:Rotating by 0.26200000000000045 radians\n",
      "INFO:root:Rotating by 0.262 radians\n",
      "INFO:root:Rotating by 0.26199999999999957 radians\n",
      "INFO:root:Rotating by -6.021185307179586 radians\n",
      "INFO:root:Rotating by 0.26199999999999957 radians\n",
      "INFO:root:Rotating by 0.262 radians\n",
      "INFO:root:Rotating by 0.26199999999999957 radians\n",
      "INFO:root:Rotating by 0.26200000000000045 radians\n",
      "INFO:root:Rotating by 0.262 radians\n",
      "INFO:root:Rotating by 0.26200000000000023 radians\n",
      "INFO:root:Rotating by 0.26200000000000023 radians\n",
      "INFO:root:Rotating by 0.26200000000000045 radians\n"
     ]
    },
    {
     "name": "stdout",
     "output_type": "stream",
     "text": [
      "-68.5189681618048\n",
      "-67.22974612157658\n",
      "-65.62764081198915\n",
      "-64.08108079274083\n",
      "-62.92684027641609\n",
      "-62.29797739855901\n",
      "-62.05393959170955\n",
      "-61.983991385910656\n",
      "-61.99817517661201\n",
      "-62.12183136690693\n",
      "-62.41636525189911\n",
      "-62.93652324951398\n",
      "-63.71545735602698\n",
      "-64.74452306523328\n",
      "-65.94045532292309\n",
      "-67.11046225424606\n",
      "-67.92790756082778\n",
      "-68.01025525739742\n",
      "-67.27107442331067\n",
      "-66.3817170976381\n",
      "-66.41728598588091\n",
      "-67.54438698920517\n",
      "-68.75438057164199\n",
      "-69.12024860002741\n",
      "raw d: {-0.9165821914672851: (-68.5189681618048, nan), -0.6545821914672851: (-67.22974612157658, nan), -0.3925821914672851: (-65.62764081198915, nan), -0.1305821914672851: (-64.08108079274083, nan), 0.1314178085327149: (-62.92684027641609, nan), 0.3934178085327149: (-62.29797739855901, nan), 0.6554178085327149: (-62.05393959170955, nan), 0.9174178085327149: (-61.983991385910656, nan), 1.179417808532715: (-61.99817517661201, nan), 1.441417808532715: (-62.12183136690693, nan), 1.703417808532715: (-62.41636525189911, nan), 1.965417808532715: (-62.93652324951398, nan), 2.227417808532715: (-63.71545735602698, nan), 2.489417808532715: (-64.74452306523328, nan), 2.751417808532715: (-65.94045532292309, nan), 3.013417808532715: (-67.11046225424606, nan), -3.007767498646871: (-67.92790756082778, nan), -2.745767498646871: (-68.01025525739742, nan), -2.483767498646871: (-67.27107442331067, nan), -2.221767498646871: (-66.3817170976381, nan), -1.9597674986468712: (-66.41728598588091, nan), -1.6977674986468712: (-67.54438698920517, nan), -1.4357674986468711: (-68.75438057164199, nan), -1.1737674986468711: (-69.12024860002741, nan), -0.9117674986468711: (-68.50031394923113, nan)}\n",
      "min: -69.12024860002741\n",
      "d corrected: {-0.9165821914672851: (0.6012804382226022, nan), -0.6545821914672851: (1.890502478450827, nan), -0.3925821914672851: (3.4926077880382564, nan), -0.1305821914672851: (5.039167807286574, nan), 0.1314178085327149: (6.193408323611322, nan), 0.3934178085327149: (6.822271201468396, nan), 0.6554178085327149: (7.066309008317859, nan), 0.9174178085327149: (7.136257214116753, nan), 1.179417808532715: (7.122073423415401, nan), 1.441417808532715: (6.9984172331204775, nan), 1.703417808532715: (6.703883348128301, nan), 1.965417808532715: (6.183725350513427, nan), 2.227417808532715: (5.404791244000428, nan), 2.489417808532715: (4.375725534794128, nan), 2.751417808532715: (3.1797932771043236, nan), 3.013417808532715: (2.0097863457813503, nan), -3.007767498646871: (1.1923410391996327, nan), -2.745767498646871: (1.1099933426299913, nan), -2.483767498646871: (1.849174176716744, nan), -2.221767498646871: (2.738531502389307, nan), -1.9597674986468712: (2.7029626141465, nan), -1.6977674986468712: (1.575861610822244, nan), -1.4357674986468711: (0.365868028385421, nan), -1.1737674986468711: (0.0, nan), -0.9117674986468711: (0.6199346507962815, nan)}\n"
     ]
    },
    {
     "data": {
      "image/png": "[encoded data removed]",
      "text/plain": [
       "<Figure size 432x288 with 1 Axes>"
      ]
     },
     "metadata": {
      "needs_background": "light"
     },
     "output_type": "display_data"
    }
   ],
   "source": [
    "# ALA->THR -- THR at lambda = 0\n",
    "# run_torsion_scan(htf, 0, False, [6, 8, 22, 28], [6, 8, 10, 18], [23, 24, 25, 26, 27, 29]) # for 7/31\n",
    "run_torsion_scan(htf, 0, False, [6, 8, 10, 27], [6, 8, 10, 18], [22, 23, 24, 25, 26, 28]) # for 7/5"
   ]
  },
  {
   "cell_type": "code",
   "execution_count": 22,
   "metadata": {
    "scrolled": true
   },
   "outputs": [
    {
     "name": "stderr",
     "output_type": "stream",
     "text": [
      " 18%|█▊        | 1809/10000 [00:00<00:00, 18088.68it/s]"
     ]
    },
    {
     "name": "stdout",
     "output_type": "stream",
     "text": [
      "172.03064520168553\n"
     ]
    },
    {
     "name": "stderr",
     "output_type": "stream",
     "text": [
      "100%|██████████| 10000/10000 [00:00<00:00, 19582.60it/s]\n"
     ]
    },
    {
     "name": "stdout",
     "output_type": "stream",
     "text": [
      "3.1412313\n",
      "-34.984676240852096\n"
     ]
    },
    {
     "name": "stderr",
     "output_type": "stream",
     "text": [
      "INFO:root:Rotating by -3.918858996478927 radians\n",
      "INFO:root:Rotating by 0.26199999999999957 radians\n",
      "INFO:root:Rotating by 0.26200000000000045 radians\n",
      "INFO:root:Rotating by 0.26199999999999957 radians\n",
      "INFO:root:Rotating by 0.26200000000000045 radians\n",
      "INFO:root:Rotating by 0.26200000000000023 radians\n",
      "INFO:root:Rotating by 0.2619999999999998 radians\n",
      "INFO:root:Rotating by 0.26200000000000045 radians\n",
      "INFO:root:Rotating by 0.26199999999999957 radians\n",
      "INFO:root:Rotating by 0.262 radians\n",
      "INFO:root:Rotating by 0.2619999999999997 radians\n",
      "INFO:root:Rotating by 0.26199999999999946 radians\n",
      "INFO:root:Rotating by 0.2619999999999876 radians\n",
      "INFO:root:Rotating by 0.26200000000001217 radians\n",
      "INFO:root:Rotating by 0.2619999999999999 radians\n",
      "INFO:root:Rotating by 0.26200000000000023 radians\n",
      "INFO:root:Rotating by 0.262 radians\n",
      "INFO:root:Rotating by 0.26200000000000045 radians\n",
      "INFO:root:Rotating by 0.26200000000000045 radians\n",
      "INFO:root:Rotating by 0.262 radians\n",
      "INFO:root:Rotating by 0.262 radians\n",
      "INFO:root:Rotating by 0.2619999999999991 radians\n",
      "INFO:root:Rotating by 0.262 radians\n",
      "INFO:root:Rotating by -6.021185307179587 radians\n",
      "INFO:root:Rotating by 0.2620000000000209 radians\n"
     ]
    },
    {
     "name": "stdout",
     "output_type": "stream",
     "text": [
      "-34.74895639051981\n",
      "-34.30487418963406\n",
      "-33.74975779300054\n",
      "-33.50776206777781\n",
      "-33.813031330114896\n",
      "-34.47168725562806\n",
      "-35.06222332357131\n",
      "-35.259815348688754\n",
      "-34.923042682259556\n",
      "-34.09959815865339\n",
      "-33.13512936582603\n",
      "-32.633151100090735\n",
      "-32.962748160269776\n",
      "-33.841997965427446\n",
      "-34.656788555775535\n",
      "-34.98637077243559\n",
      "-34.707019486923826\n",
      "-33.90846115789017\n",
      "-32.93560646670919\n",
      "-32.367633425793834\n",
      "-32.60670979918413\n",
      "-33.4486340532134\n",
      "-34.31556870635752\n",
      "-34.7857425608775\n",
      "raw d: {-2.879954008732931: (-34.74895639051981, nan), -2.617954008732931: (-34.30487418963406, nan), -2.355954008732931: (-33.74975779300054, nan), -2.093954008732931: (-33.50776206777781, nan), -1.831954008732931: (-33.813031330114896, nan), -1.569954008732931: (-34.47168725562806, nan), -1.3079540087329309: (-35.06222332357131, nan), -1.0459540087329309: (-35.259815348688754, nan), -0.7839540087329309: (-34.923042682259556, nan), -0.5219540087329309: (-34.09959815865339, nan), -0.25995400873293084: (-33.13512936582603, nan), 0.0020459912670691693: (-32.633151100090735, nan), 0.2640459912670692: (-32.962748160269776, nan), 0.5260459912670692: (-33.841997965427446, nan), 0.7880459912670692: (-34.656788555775535, nan), 1.0500459912670692: (-34.98637077243559, nan), 1.3120459912670692: (-34.707019486923826, nan), 1.5740459912670692: (-33.90846115789017, nan), 1.8360459912670692: (-32.93560646670919, nan), 2.0980459912670693: (-32.367633425793834, nan), 2.3600459912670693: (-32.60670979918413, nan), 2.6220459912670693: (-33.4486340532134, nan), 2.8840459912670693: (-34.31556870635752, nan), -3.137139315912517: (-34.7857425608775, nan), -2.875139315912517: (-34.74389690203075, nan)}\n",
      "min: -35.259815348688754\n",
      "d corrected: {-2.879954008732931: (0.5108589581689458, nan), -2.617954008732931: (0.954941159054691, nan), -2.355954008732931: (1.5100575556882134, nan), -2.093954008732931: (1.7520532809109426, nan), -1.831954008732931: (1.446784018573858, nan), -1.569954008732931: (0.788128093060692, nan), -1.3079540087329309: (0.19759202511744434, nan), -1.0459540087329309: (0.0, nan), -0.7839540087329309: (0.3367726664291979, nan), -0.5219540087329309: (1.160217190035361, nan), -0.25995400873293084: (2.1246859828627223, nan), 0.0020459912670691693: (2.6266642485980185, nan), 0.2640459912670692: (2.2970671884189784, nan), 0.5260459912670692: (1.4178173832613084, nan), 0.7880459912670692: (0.6030267929132194, nan), 1.0500459912670692: (0.2734445762531621, nan), 1.3120459912670692: (0.5527958617649276, nan), 1.5740459912670692: (1.351354190798581, nan), 1.8360459912670692: (2.3242088819795654, nan), 2.0980459912670693: (2.8921819228949204, nan), 2.3600459912670693: (2.653105549504623, nan), 2.6220459912670693: (1.8111812954753574, nan), 2.8840459912670693: (0.9442466423312368, nan), -3.137139315912517: (0.4740727878112523, nan), -2.875139315912517: (0.5159184466580058, nan)}\n"
     ]
    },
    {
     "data": {
      "image/png": "[encoded data removed]",
      "text/plain": [
       "<Figure size 432x288 with 1 Axes>"
      ]
     },
     "metadata": {
      "needs_background": "light"
     },
     "output_type": "display_data"
    }
   ],
   "source": [
    "# ALA->THR -- ALA at lambda = 1\n",
    "run_torsion_scan(htf, 1, True, [6, 8, 10, 15], [6, 8, 10, 11], [11, 12]) # for 7/5"
   ]
  },
  {
   "cell_type": "code",
   "execution_count": null,
   "metadata": {},
   "outputs": [],
   "source": []
  },
  {
   "cell_type": "markdown",
   "metadata": {},
   "source": [
    "# Plot diff torsion scans all on one plot"
   ]
  },
  {
   "cell_type": "code",
   "execution_count": 25,
   "metadata": {},
   "outputs": [],
   "source": [
    "import collections"
   ]
  },
  {
   "cell_type": "code",
   "execution_count": 26,
   "metadata": {},
   "outputs": [
    {
     "data": {
      "text/plain": [
       "3"
      ]
     },
     "execution_count": 26,
     "metadata": {},
     "output_type": "execute_result"
    }
   ],
   "source": [
    "len(torsion_scans)"
   ]
  },
  {
   "cell_type": "code",
   "execution_count": 54,
   "metadata": {},
   "outputs": [
    {
     "ename": "IndexError",
     "evalue": "list index out of range",
     "output_type": "error",
     "traceback": [
      "\u001b[0;31m-----------------------------------------------------------\u001b[0m",
      "\u001b[0;31mIndexError\u001b[0m                Traceback (most recent call last)",
      "\u001b[0;32m<ipython-input-54-fa0b2f238b24>\u001b[0m in \u001b[0;36m<module>\u001b[0;34m\u001b[0m\n\u001b[0;32m----> 1\u001b[0;31m \u001b[0mtorsion_scans\u001b[0m \u001b[0;34m=\u001b[0m \u001b[0mtorsion_scans\u001b[0m\u001b[0;34m[\u001b[0m\u001b[0;36m0\u001b[0m\u001b[0;34m:\u001b[0m\u001b[0;36m3\u001b[0m\u001b[0;34m]\u001b[0m \u001b[0;34m+\u001b[0m \u001b[0;34m[\u001b[0m\u001b[0mtorsion_scans\u001b[0m\u001b[0;34m[\u001b[0m\u001b[0;36m4\u001b[0m\u001b[0;34m]\u001b[0m\u001b[0;34m]\u001b[0m\u001b[0;34m\u001b[0m\u001b[0;34m\u001b[0m\u001b[0m\n\u001b[0m",
      "\u001b[0;31mIndexError\u001b[0m: list index out of range"
     ]
    }
   ],
   "source": [
    "# torsion_scans = torsion_scans[0:3] + [torsion_scans[4]]"
   ]
  },
  {
   "cell_type": "code",
   "execution_count": 27,
   "metadata": {},
   "outputs": [
    {
     "data": {
      "text/plain": [
       "{-0.9165821914672851: (24.90849120048864, nan),\n",
       " -0.6545821914672851: (31.72519735166135, nan),\n",
       " -0.3925821914672851: (38.70757265330979, nan),\n",
       " -0.1305821914672851: (43.14097910131541, nan),\n",
       " 0.1314178085327149: (42.69146217148827, nan),\n",
       " 0.3934178085327149: (37.39759565828955, nan),\n",
       " 0.6554178085327149: (29.667706631878737, nan),\n",
       " 0.9174178085327149: (22.301548815553822, nan),\n",
       " 1.179417808532715: (17.07539914082406, nan),\n",
       " 1.441417808532715: (14.453747709263943, nan),\n",
       " 1.703417808532715: (13.620525719919875, nan),\n",
       " 1.965417808532715: (12.793723846260555, nan),\n",
       " 2.227417808532715: (10.353570434423219, nan),\n",
       " 2.489417808532715: (6.279393868194276, nan),\n",
       " 2.751417808532715: (2.202353457761177, nan),\n",
       " 3.013417808532715: (0.0, nan),\n",
       " -3.007767498646871: (0.6197544970167286, nan),\n",
       " -2.745767498646871: (3.793808485493173, nan),\n",
       " -2.483767498646871: (8.25427084714238, nan),\n",
       " -2.221767498646871: (12.302692473142876, nan),\n",
       " -1.9597674986468712: (14.79420444358135, nan),\n",
       " -1.6977674986468712: (15.970226962621439, nan),\n",
       " -1.4357674986468711: (17.216388230222314, nan),\n",
       " -1.1737674986468711: (19.999355697127037, nan),\n",
       " -0.9117674986468711: (25.02032139239197, nan)}"
      ]
     },
     "execution_count": 27,
     "metadata": {},
     "output_type": "execute_result"
    }
   ],
   "source": [
    "torsion_scans[0]"
   ]
  },
  {
   "cell_type": "code",
   "execution_count": 28,
   "metadata": {},
   "outputs": [],
   "source": [
    "torsion_scans_sorted = []\n",
    "for scan in torsion_scans:\n",
    "    torsion_scans_sorted.append(collections.OrderedDict(sorted(scan.items())))"
   ]
  },
  {
   "cell_type": "code",
   "execution_count": 36,
   "metadata": {},
   "outputs": [
    {
     "data": {
      "image/png": "[encoded data removed]",
      "text/plain": [
       "<Figure size 720x432 with 1 Axes>"
      ]
     },
     "metadata": {
      "needs_background": "light"
     },
     "output_type": "display_data"
    }
   ],
   "source": [
    "labels = ['nonbonded off', 'torsions off', 'torsions + exceptions off']\n",
    "\n",
    "fig, ax = plt.subplots(figsize=(10, 6))\n",
    "\n",
    "# ax.plot(list(torsion_scans_sorted[0].keys()), [mean for mean, stderr in list(torsion_scans_sorted[0].values())], label=labels[0])\n",
    "# ax.plot(list(torsion_scans_sorted[1].keys()), [mean for mean, stderr in list(torsion_scans_sorted[1].values())], label=labels[1])\n",
    "# ax.plot(list(torsion_scans_sorted[2].keys()), [mean for mean, stderr in list(torsion_scans_sorted[2].values())], label=labels[2])\n",
    "\n",
    "for i in range(len(torsion_scans)):\n",
    "    ax.plot(list(torsion_scans_sorted[i].keys()), [mean for mean, stderr in list(torsion_scans_sorted[i].values())], label=labels[i])\n",
    "\n",
    "ax.set(xlabel='dihedral angle (radians)', ylabel='energy (kcal/mol)')\n",
    "ax.legend(loc='upper right')\n",
    "ax.set_ylim([0, 50])\n",
    "plt.show()"
   ]
  },
  {
   "cell_type": "code",
   "execution_count": null,
   "metadata": {},
   "outputs": [],
   "source": []
  }
 ],
 "metadata": {
  "kernelspec": {
   "display_name": "Python 3",
   "language": "python",
   "name": "python3"
  },
  "language_info": {
   "codemirror_mode": {
    "name": "ipython",
    "version": 3
   },
   "file_extension": ".py",
   "mimetype": "text/x-python",
   "name": "python",
   "nbconvert_exporter": "python",
   "pygments_lexer": "ipython3",
   "version": "3.7.8"
  }
 },
 "nbformat": 4,
 "nbformat_minor": 4
}
