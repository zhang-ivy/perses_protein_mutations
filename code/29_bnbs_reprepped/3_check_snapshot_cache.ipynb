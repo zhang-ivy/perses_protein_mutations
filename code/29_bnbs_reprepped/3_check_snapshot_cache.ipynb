{
 "cells": [
  {
   "cell_type": "code",
   "execution_count": 1,
   "id": "crazy-wagner",
   "metadata": {},
   "outputs": [],
   "source": [
    "import os\n",
    "import numpy as np\n",
    "import mdtraj as md\n",
    "import pickle\n",
    "from simtk.openmm import unit\n",
    "from tqdm import tqdm_notebook\n",
    "from simtk.openmm import app\n",
    "import matplotlib.pyplot as plt\n",
    "from openeye import oechem"
   ]
  },
  {
   "cell_type": "code",
   "execution_count": 2,
   "id": "eligible-apache",
   "metadata": {},
   "outputs": [],
   "source": [
    "def new_positions(hybrid_positions):\n",
    "    n_atoms_new = htf._topology_proposal.n_atoms_new\n",
    "    hybrid_indices = [htf._new_to_hybrid_map[idx] for idx in range(n_atoms_new)]\n",
    "    return hybrid_positions[hybrid_indices, :]\n",
    "    \n",
    "def old_positions(hybrid_positions):\n",
    "    n_atoms_old = htf._topology_proposal.n_atoms_old\n",
    "    hybrid_indices = [htf._old_to_hybrid_map[idx] for idx in range(n_atoms_old)]\n",
    "    return hybrid_positions[hybrid_indices, :]"
   ]
  },
  {
   "cell_type": "code",
   "execution_count": 13,
   "id": "derived-probe",
   "metadata": {},
   "outputs": [],
   "source": [
    "def make_traj(outdir, htf, i, phase, name, endstate, is_old=True, solvent_only=False):\n",
    "    with open(os.path.join(outdir, f\"{i}_{phase}_{name}_2ns_snapshots.npy\"), \"rb\") as f:\n",
    "        cache = np.load(f)\n",
    "    if is_old:\n",
    "        old_pos = np.zeros(shape=(200, htf._topology_proposal.old_topology.getNumAtoms(), 3))\n",
    "        for j, pos in tqdm_notebook(enumerate(cache)):\n",
    "            old_pos[j] = old_positions(unit.Quantity(pos, unit=unit.nanometers)).value_in_unit_system(unit.md_unit_system)\n",
    "        \n",
    "        traj = md.Trajectory(old_pos, md.Topology.from_openmm(htf._topology_proposal.old_topology))\n",
    "    else:\n",
    "        new_pos = np.zeros(shape=(200, htf._topology_proposal.new_topology.getNumAtoms(), 3))\n",
    "        for j, pos in tqdm_notebook(enumerate(cache)):\n",
    "            new_pos[j] = new_positions(unit.Quantity(pos, unit=unit.nanometers)).value_in_unit_system(unit.md_unit_system)\n",
    "        \n",
    "        traj = md.Trajectory(new_pos, md.Topology.from_openmm(htf._topology_proposal.new_topology))\n",
    "        \n",
    "    box_vectors = np.array([val.value_in_unit_system(unit.md_unit_system) for val in htf.hybrid_system.getDefaultPeriodicBoxVectors()])\n",
    "    vectors = np.array([box_vectors]) \n",
    "        \n",
    "    if solvent_only:\n",
    "        traj.atom_slice(traj.topology.select(\"water or resname 'na\\+' or resn 'cl\\-'\"), inplace=True)\n",
    "        \n",
    "    # Set unit cell vectors in traj \n",
    "#     traj.unitcell_vectors = np.repeat(vectors, 200, axis=0)\n",
    "#     traj = traj.image_molecules()\n",
    "    \n",
    "    if solvent_only:\n",
    "        traj.save(os.path.join(outdir, f\"{i}_{phase}_{endstate}_solvent.dcd\"))\n",
    "        traj[0].save(os.path.join(outdir, f\"{i}_{phase}_{endstate}_solvent.pdb\"))\n",
    "    else:\n",
    "        traj.save(os.path.join(outdir, f\"{i}_{phase}_{endstate}.dcd\"))\n",
    "        traj[0].save(os.path.join(outdir, f\"{i}_{phase}_{endstate}.pdb\"))\n",
    "    return traj\n",
    "       "
   ]
  },
  {
   "cell_type": "markdown",
   "id": "adjusted-analyst",
   "metadata": {},
   "source": [
    "## 21/10 R83Q"
   ]
  },
  {
   "cell_type": "code",
   "execution_count": 5,
   "id": "dangerous-adult",
   "metadata": {
    "scrolled": true
   },
   "outputs": [
    {
     "name": "stderr",
     "output_type": "stream",
     "text": [
      "/scratch/lsftmp/2116857.tmpdir/ipykernel_49960/3781358887.py:6: TqdmDeprecationWarning: This function will be removed in tqdm==5.0.0\n",
      "Please use `tqdm.notebook.tqdm` instead of `tqdm.tqdm_notebook`\n",
      "  for j, pos in tqdm_notebook(enumerate(cache)):\n"
     ]
    },
    {
     "data": {
      "application/vnd.jupyter.widget-view+json": {
       "model_id": "290fdef2253d4ee4b4ae6fd142054173",
       "version_major": 2,
       "version_minor": 0
      },
      "text/plain": [
       "0it [00:00, ?it/s]"
      ]
     },
     "metadata": {},
     "output_type": "display_data"
    },
    {
     "data": {
      "text/plain": [
       "<mdtraj.Trajectory with 100 frames, 33415 atoms, 10304 residues, and unitcells at 0x2aad62b036d0>"
      ]
     },
     "execution_count": 5,
     "metadata": {},
     "output_type": "execute_result"
    }
   ],
   "source": [
    "outdir = \"/data/chodera/zhangi/perses_benchmark/neq/20/10/\"\n",
    "i = 10\n",
    "phase = 'complex'\n",
    "endstate = 0\n",
    "name = 'arg'\n",
    "is_old = True\n",
    "\n",
    "with open(os.path.join(outdir, f\"{i}_{phase}_{endstate}.pickle\"), \"rb\") as f:\n",
    "    htf = pickle.load(f)\n",
    "    \n",
    "make_traj(outdir, htf, i, phase, name, endstate, is_old)"
   ]
  },
  {
   "cell_type": "code",
   "execution_count": 6,
   "id": "driven-parcel",
   "metadata": {},
   "outputs": [
    {
     "name": "stderr",
     "output_type": "stream",
     "text": [
      "/scratch/lsftmp/2116857.tmpdir/ipykernel_49960/3781358887.py:6: TqdmDeprecationWarning: This function will be removed in tqdm==5.0.0\n",
      "Please use `tqdm.notebook.tqdm` instead of `tqdm.tqdm_notebook`\n",
      "  for j, pos in tqdm_notebook(enumerate(cache)):\n"
     ]
    },
    {
     "data": {
      "application/vnd.jupyter.widget-view+json": {
       "model_id": "ba032735e44f44cbb55f8304f84980cd",
       "version_major": 2,
       "version_minor": 0
      },
      "text/plain": [
       "0it [00:00, ?it/s]"
      ]
     },
     "metadata": {},
     "output_type": "display_data"
    },
    {
     "data": {
      "text/plain": [
       "<mdtraj.Trajectory with 100 frames, 22669 atoms, 7106 residues, and unitcells at 0x2aad559e2f40>"
      ]
     },
     "execution_count": 6,
     "metadata": {},
     "output_type": "execute_result"
    }
   ],
   "source": [
    "outdir = \"/data/chodera/zhangi/perses_benchmark/neq/20/10/\"\n",
    "i = 10\n",
    "phase = 'apo'\n",
    "endstate = 0\n",
    "name = 'arg'\n",
    "is_old = True\n",
    "\n",
    "with open(os.path.join(outdir, f\"{i}_{phase}_{endstate}.pickle\"), \"rb\") as f:\n",
    "    htf = pickle.load(f)\n",
    "    \n",
    "make_traj(outdir, htf, i, phase, name, endstate, is_old)"
   ]
  },
  {
   "cell_type": "code",
   "execution_count": null,
   "id": "enhanced-monte",
   "metadata": {},
   "outputs": [],
   "source": []
  },
  {
   "cell_type": "markdown",
   "id": "db1675a0",
   "metadata": {},
   "source": [
    "## 21/20 R83A"
   ]
  },
  {
   "cell_type": "code",
   "execution_count": 9,
   "id": "3700da34",
   "metadata": {},
   "outputs": [
    {
     "name": "stderr",
     "output_type": "stream",
     "text": [
      "/scratch/lsftmp/2300067.tmpdir/ipykernel_17048/3781358887.py:6: TqdmDeprecationWarning: This function will be removed in tqdm==5.0.0\n",
      "Please use `tqdm.notebook.tqdm` instead of `tqdm.tqdm_notebook`\n",
      "  for j, pos in tqdm_notebook(enumerate(cache)):\n"
     ]
    },
    {
     "data": {
      "application/vnd.jupyter.widget-view+json": {
       "model_id": "6905b3b677ee43fba2b5c89763382b6c",
       "version_major": 2,
       "version_minor": 0
      },
      "text/plain": [
       "0it [00:00, ?it/s]"
      ]
     },
     "metadata": {},
     "output_type": "display_data"
    },
    {
     "data": {
      "text/plain": [
       "<mdtraj.Trajectory with 100 frames, 22669 atoms, 7106 residues, and unitcells at 0x2b4e8ec98dc0>"
      ]
     },
     "execution_count": 9,
     "metadata": {},
     "output_type": "execute_result"
    }
   ],
   "source": [
    "outdir = \"/data/chodera/zhangi/perses_benchmark/neq/20/20/\"\n",
    "i = 20\n",
    "phase = 'apo'\n",
    "endstate = 0\n",
    "name = 'arg'\n",
    "is_old = True\n",
    "\n",
    "with open(os.path.join(outdir, f\"{i}_{phase}_{endstate}.pickle\"), \"rb\") as f:\n",
    "    htf = pickle.load(f)\n",
    "    \n",
    "make_traj(outdir, htf, i, phase, name, endstate, is_old)"
   ]
  },
  {
   "cell_type": "markdown",
   "id": "fac9fbd9",
   "metadata": {},
   "source": [
    "## 21/30 R83A"
   ]
  },
  {
   "cell_type": "code",
   "execution_count": 8,
   "id": "71a18cd4",
   "metadata": {},
   "outputs": [
    {
     "name": "stderr",
     "output_type": "stream",
     "text": [
      "/scratch/lsftmp/2300067.tmpdir/ipykernel_17048/3781358887.py:6: TqdmDeprecationWarning: This function will be removed in tqdm==5.0.0\n",
      "Please use `tqdm.notebook.tqdm` instead of `tqdm.tqdm_notebook`\n",
      "  for j, pos in tqdm_notebook(enumerate(cache)):\n"
     ]
    },
    {
     "data": {
      "application/vnd.jupyter.widget-view+json": {
       "model_id": "fd22ef8a75b24f04b6e17f0487a5ac0b",
       "version_major": 2,
       "version_minor": 0
      },
      "text/plain": [
       "0it [00:00, ?it/s]"
      ]
     },
     "metadata": {},
     "output_type": "display_data"
    },
    {
     "data": {
      "text/plain": [
       "<mdtraj.Trajectory with 100 frames, 22669 atoms, 7106 residues, and unitcells at 0x2b4e7e574970>"
      ]
     },
     "execution_count": 8,
     "metadata": {},
     "output_type": "execute_result"
    }
   ],
   "source": [
    "outdir = \"/data/chodera/zhangi/perses_benchmark/neq/20/30/\"\n",
    "i = 30\n",
    "phase = 'apo'\n",
    "endstate = 0\n",
    "name = 'arg'\n",
    "is_old = True\n",
    "\n",
    "with open(os.path.join(outdir, f\"{i}_{phase}_{endstate}.pickle\"), \"rb\") as f:\n",
    "    htf = pickle.load(f)\n",
    "    \n",
    "make_traj(outdir, htf, i, phase, name, endstate, is_old)"
   ]
  },
  {
   "cell_type": "markdown",
   "id": "df5e66f0",
   "metadata": {},
   "source": [
    "## 21/34 R83A"
   ]
  },
  {
   "cell_type": "code",
   "execution_count": 14,
   "id": "6138605f",
   "metadata": {
    "scrolled": true
   },
   "outputs": [
    {
     "name": "stderr",
     "output_type": "stream",
     "text": [
      "/scratch/lsftmp/2300067.tmpdir/ipykernel_17048/2469022118.py:6: TqdmDeprecationWarning: This function will be removed in tqdm==5.0.0\n",
      "Please use `tqdm.notebook.tqdm` instead of `tqdm.tqdm_notebook`\n",
      "  for j, pos in tqdm_notebook(enumerate(cache)):\n"
     ]
    },
    {
     "data": {
      "application/vnd.jupyter.widget-view+json": {
       "model_id": "ea70789acf6c4f33b41dc21a588113e8",
       "version_major": 2,
       "version_minor": 0
      },
      "text/plain": [
       "0it [00:00, ?it/s]"
      ]
     },
     "metadata": {},
     "output_type": "display_data"
    },
    {
     "data": {
      "text/plain": [
       "<mdtraj.Trajectory with 200 frames, 22669 atoms, 7106 residues, without unitcells at 0x2b4e540a74c0>"
      ]
     },
     "execution_count": 14,
     "metadata": {},
     "output_type": "execute_result"
    }
   ],
   "source": [
    "outdir = \"/data/chodera/zhangi/perses_benchmark/neq/20/34/\"\n",
    "i = 34\n",
    "phase = 'apo'\n",
    "endstate = 0\n",
    "name = 'arg'\n",
    "is_old = True\n",
    "\n",
    "with open(os.path.join(outdir, f\"{i}_{phase}_{endstate}.pickle\"), \"rb\") as f:\n",
    "    htf = pickle.load(f)\n",
    "    \n",
    "make_traj(outdir, htf, i, phase, name, endstate, is_old)"
   ]
  },
  {
   "cell_type": "code",
   "execution_count": 12,
   "id": "b9d62442",
   "metadata": {},
   "outputs": [
    {
     "name": "stderr",
     "output_type": "stream",
     "text": [
      "/scratch/lsftmp/2300067.tmpdir/ipykernel_17048/91487916.py:6: TqdmDeprecationWarning: This function will be removed in tqdm==5.0.0\n",
      "Please use `tqdm.notebook.tqdm` instead of `tqdm.tqdm_notebook`\n",
      "  for j, pos in tqdm_notebook(enumerate(cache)):\n"
     ]
    },
    {
     "data": {
      "application/vnd.jupyter.widget-view+json": {
       "model_id": "d04a3c4e801c4a8db079b7007d45c380",
       "version_major": 2,
       "version_minor": 0
      },
      "text/plain": [
       "0it [00:00, ?it/s]"
      ]
     },
     "metadata": {},
     "output_type": "display_data"
    },
    {
     "data": {
      "text/plain": [
       "<mdtraj.Trajectory with 200 frames, 33415 atoms, 10304 residues, and unitcells at 0x2b4ea7210d30>"
      ]
     },
     "execution_count": 12,
     "metadata": {},
     "output_type": "execute_result"
    }
   ],
   "source": [
    "outdir = \"/data/chodera/zhangi/perses_benchmark/neq/20/34/\"\n",
    "i = 34\n",
    "phase = 'complex'\n",
    "endstate = 0\n",
    "name = 'arg'\n",
    "is_old = True\n",
    "\n",
    "with open(os.path.join(outdir, f\"{i}_{phase}_{endstate}.pickle\"), \"rb\") as f:\n",
    "    htf = pickle.load(f)\n",
    "    \n",
    "make_traj(outdir, htf, i, phase, name, endstate, is_old)"
   ]
  },
  {
   "cell_type": "code",
   "execution_count": null,
   "id": "aa47602e",
   "metadata": {},
   "outputs": [],
   "source": []
  },
  {
   "cell_type": "markdown",
   "id": "454338df",
   "metadata": {},
   "source": [
    "## 21/35 R87A"
   ]
  },
  {
   "cell_type": "code",
   "execution_count": 5,
   "id": "cc886636",
   "metadata": {},
   "outputs": [
    {
     "name": "stderr",
     "output_type": "stream",
     "text": [
      "/scratch/lsftmp/2300067.tmpdir/ipykernel_17048/91487916.py:6: TqdmDeprecationWarning: This function will be removed in tqdm==5.0.0\n",
      "Please use `tqdm.notebook.tqdm` instead of `tqdm.tqdm_notebook`\n",
      "  for j, pos in tqdm_notebook(enumerate(cache)):\n"
     ]
    },
    {
     "data": {
      "application/vnd.jupyter.widget-view+json": {
       "model_id": "27cebf6912a546848becf9112b318d83",
       "version_major": 2,
       "version_minor": 0
      },
      "text/plain": [
       "0it [00:00, ?it/s]"
      ]
     },
     "metadata": {},
     "output_type": "display_data"
    },
    {
     "data": {
      "text/plain": [
       "<mdtraj.Trajectory with 200 frames, 22669 atoms, 7106 residues, and unitcells at 0x2b4e53fffee0>"
      ]
     },
     "execution_count": 5,
     "metadata": {},
     "output_type": "execute_result"
    }
   ],
   "source": [
    "outdir = \"/data/chodera/zhangi/perses_benchmark/neq/20/35/\"\n",
    "i = 35\n",
    "phase = 'apo'\n",
    "endstate = 0\n",
    "name = 'arg'\n",
    "is_old = True\n",
    "\n",
    "with open(os.path.join(outdir, f\"{i}_{phase}_{endstate}.pickle\"), \"rb\") as f:\n",
    "    htf = pickle.load(f)\n",
    "    \n",
    "make_traj(outdir, htf, i, phase, name, endstate, is_old)"
   ]
  },
  {
   "cell_type": "code",
   "execution_count": null,
   "id": "45e55930",
   "metadata": {},
   "outputs": [],
   "source": []
  }
 ],
 "metadata": {
  "kernelspec": {
   "display_name": "Python 3 (ipykernel)",
   "language": "python",
   "name": "python3"
  },
  "language_info": {
   "codemirror_mode": {
    "name": "ipython",
    "version": 3
   },
   "file_extension": ".py",
   "mimetype": "text/x-python",
   "name": "python",
   "nbconvert_exporter": "python",
   "pygments_lexer": "ipython3",
   "version": "3.9.6"
  }
 },
 "nbformat": 4,
 "nbformat_minor": 5
}
