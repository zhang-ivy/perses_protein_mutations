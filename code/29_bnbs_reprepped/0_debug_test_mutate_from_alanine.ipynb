{
 "cells": [
  {
   "cell_type": "code",
   "execution_count": 1,
   "id": "cddc4270",
   "metadata": {},
   "outputs": [
    {
     "name": "stderr",
     "output_type": "stream",
     "text": [
      "INFO:rdkit:Enabling RDKit 2021.03.4 jupyter extensions\n"
     ]
    }
   ],
   "source": [
    "from perses.tests.test_topology_proposal import generate_dipeptide_top_pos_sys, generate_atp\n",
    "from pkg_resources import resource_filename\n",
    "import os\n",
    "from perses.rjmc.topology_proposal import PolymerProposalEngine, PointMutationEngine"
   ]
  },
  {
   "cell_type": "code",
   "execution_count": 2,
   "id": "f4744a96",
   "metadata": {},
   "outputs": [],
   "source": [
    "import logging\n",
    "_logger = logging.getLogger()\n",
    "from simtk.openmm import app\n",
    "from perses.rjmc.topology_proposal import append_topology"
   ]
  },
  {
   "cell_type": "code",
   "execution_count": 5,
   "id": "02c95c4b",
   "metadata": {},
   "outputs": [],
   "source": [
    "class PointMutationEngine2(PointMutationEngine):\n",
    "    def propose(self,\n",
    "                current_system,\n",
    "                current_topology,\n",
    "                current_metadata=None):\n",
    "        \"\"\"\n",
    "        Generate a TopologyProposal\n",
    "        Parameters\n",
    "        ----------\n",
    "        current_system : simtk.openmm.System object\n",
    "            The current system object\n",
    "        current_topology : simtk.openmm.app.Topology object\n",
    "            The current topology\n",
    "        current_metadata : dict -- OPTIONAL\n",
    "        Returns\n",
    "        -------\n",
    "        topology_proposal : TopologyProposal\n",
    "            NamedTuple of type TopologyProposal containing forward and reverse\n",
    "            probabilities, as well as old and new topologies and atom\n",
    "            mapping\n",
    "        local_atom_map_stereo_sidechain : dict\n",
    "            chirality-corrected map of new_oemol_res to old_oemol_res\n",
    "        old_oemol_res : openeye.oechem.oemol object\n",
    "            oemol of the old residue sidechain\n",
    "        new_oemol_res : openeye.oechem.oemol object\n",
    "            oemol of the new residue sidechain\n",
    "        \"\"\"\n",
    "        _logger.info(f\"\\tConducting polymer point mutation proposal...\")\n",
    "        old_topology = app.Topology()\n",
    "        append_topology(old_topology, current_topology)\n",
    "\n",
    "        # new_topology : simtk.openmm.app.Topology\n",
    "        new_topology = app.Topology()\n",
    "        append_topology(new_topology, current_topology)\n",
    "\n",
    "        # Check that old_topology and old_system have same number of atoms.\n",
    "        old_system = current_system\n",
    "        old_topology_natoms = old_topology.getNumAtoms()  # number of topology atoms\n",
    "        old_system_natoms = old_system.getNumParticles()\n",
    "        if old_topology_natoms != old_system_natoms:\n",
    "            msg = 'PolymerProposalEngine: old_topology has %d atoms, while old_system has %d atoms' % (old_topology_natoms, old_system_natoms)\n",
    "            raise Exception(msg)\n",
    "\n",
    "        # metadata : dict, key = 'chain_id' , value : str\n",
    "        metadata = current_metadata\n",
    "        if metadata is None:\n",
    "            metadata = dict()\n",
    "\n",
    "        # old_chemical_state_key : str\n",
    "        _logger.debug(f\"\\tcomputing state key of old topology...\")\n",
    "        old_chemical_state_key = self.compute_state_key(old_topology)\n",
    "        _logger.debug(f\"\\told chemical state key for chain {self._chain_id}: {old_chemical_state_key}\")\n",
    "\n",
    "        # index_to_new_residues : dict, key : int (index) , value : str (three letter name of proposed residue)\n",
    "        _logger.debug(f\"\\tchoosing mutant...\")\n",
    "        index_to_new_residues, metadata = self._choose_mutant(old_topology, metadata)\n",
    "        _logger.debug(f\"\\t\\tindex to new residues: {index_to_new_residues}\")\n",
    "\n",
    "        # residue_map : list(tuples : simtk.openmm.app.topology.Residue (existing residue), str (three letter name of proposed residue))\n",
    "        _logger.debug(f\"\\tgenerating residue map...\")\n",
    "        residue_map = self._generate_residue_map(old_topology, index_to_new_residues)\n",
    "        _logger.debug(f\"\\t\\tresidue map: {residue_map}\")\n",
    "\n",
    "        for (res, new_name) in residue_map:\n",
    "            if res.name == new_name:\n",
    "                #remove the index_to_new_residues entries where the topology is already mutated\n",
    "                del(index_to_new_residues[res.index])\n",
    "        if len(index_to_new_residues) == 0:\n",
    "            _logger.debug(f\"\\t\\tno mutation detected in this proposal; generating old proposal\")\n",
    "            atom_map = dict()\n",
    "            for atom in old_topology.atoms():\n",
    "                atom_map[atom.index] = atom.index\n",
    "            _logger.debug('PolymerProposalEngine: No changes to topology proposed, returning old system and topology')\n",
    "            topology_proposal = TopologyProposal(new_topology=old_topology, new_system=old_system, old_topology=old_topology, old_system=old_system, old_chemical_state_key=old_chemical_state_key, new_chemical_state_key=old_chemical_state_key, logp_proposal=0.0, new_to_old_atom_map=atom_map)\n",
    "            return topology_proposal\n",
    "\n",
    "        elif len(index_to_new_residues) > 1:\n",
    "            raise Exception(\"Attempting to mutate more than one residue at once: \", index_to_new_residues, \" The geometry engine cannot handle this.\")\n",
    "\n",
    "        chosen_res_index = list(index_to_new_residues.keys())[0]\n",
    "        # Add modified_aa property to residues in old topology\n",
    "        for res in old_topology.residues():\n",
    "            res.modified_aa = True if res.index in index_to_new_residues.keys() else False\n",
    "\n",
    "        _logger.debug(f\"\\tfinal index_to_new_residues: {index_to_new_residues}\")\n",
    "        _logger.debug(f\"\\tfinding excess and missing atoms/bonds...\")\n",
    "        # Identify differences between old topology and proposed changes\n",
    "        # excess_atoms : list(simtk.openmm.app.topology.Atom) atoms from existing residue not in new residue\n",
    "        # excess_bonds : list(tuple (simtk.openmm.app.topology.Atom, simtk.openmm.app.topology.Atom)) bonds from existing residue not in new residue\n",
    "        # missing_bonds : list(tuple (simtk.openmm.app.topology._TemplateAtomData, simtk.openmm.app.topology._TemplateAtomData)) bonds from new residue not in existing residue\n",
    "        excess_atoms, excess_bonds, missing_atoms, missing_bonds = self._identify_differences(old_topology, residue_map)\n",
    "\n",
    "        # Delete excess atoms and bonds from old topology\n",
    "        excess_atoms_bonds = excess_atoms + excess_bonds\n",
    "        _logger.debug(f\"\\t excess atoms bonds: {excess_atoms_bonds}\")\n",
    "        new_topology = self._delete_atoms(old_topology, excess_atoms_bonds)\n",
    "\n",
    "        # Add missing atoms and bonds to new topology\n",
    "        new_topology = self._add_new_atoms(new_topology, missing_atoms, missing_bonds, residue_map)\n",
    "        \n",
    "        return new_topology\n",
    "#         # index_to_new_residues : dict, key : int (index) , value : str (three letter name of proposed residue)\n",
    "#         _logger.debug(f\"\\tconstructing atom map for TopologyProposal...\")\n",
    "#         atom_map, old_res_to_oemol_map, new_res_to_oemol_map, local_atom_map_stereo_sidechain, current_oemol_sidechain, proposed_oemol_sidechain, old_oemol_res_copy, new_oemol_res_copy  = self._construct_atom_map(residue_map, old_topology, index_to_new_residues, new_topology)\n",
    "\n",
    "#         _logger.debug(f\"\\tadding indices of the 'C' backbone atom in the next residue and the 'N' atom in the previous\")\n",
    "#         _logger.debug(f\"\\t{list(index_to_new_residues.keys())[0]}\")\n",
    "#         extra_atom_map = self._find_adjacent_residue_atoms(old_topology, new_topology, list(index_to_new_residues.keys())[0])\n",
    "#         _logger.debug(f\"\\tfound extra atom map: {extra_atom_map}\")\n",
    "\n",
    "#         #now to add all of the other residue atoms to the atom map...\n",
    "#         all_other_residues_new = [res for res in new_topology.residues() if res.index != list(index_to_new_residues.keys())[0]]\n",
    "#         all_other_residues_old = [res for res in old_topology.residues() if res.index != list(index_to_new_residues.keys())[0]]\n",
    "\n",
    "#         all_other_atoms_map = {}\n",
    "#         for res_new, res_old in zip(all_other_residues_new, all_other_residues_old):\n",
    "#             assert res_new.name == res_old.name, f\"all other residue names do not match\"\n",
    "#             all_other_atoms_map.update({atom_new.index: atom_old.index for atom_new, atom_old in zip(res_new.atoms(), res_old.atoms())})\n",
    "\n",
    "#         # new_chemical_state_key : str\n",
    "#         new_chemical_state_key = self.compute_state_key(new_topology)\n",
    "#         # new_system : simtk.openmm.System\n",
    "\n",
    "#         # Copy periodic box vectors from current topology\n",
    "#         new_topology.setPeriodicBoxVectors(current_topology.getPeriodicBoxVectors())\n",
    "\n",
    "#         # Build system\n",
    "#         # TODO: Remove build_system() branch once we convert entirely to new openmm-forcefields SystemBuilder\n",
    "#         if hasattr(self._system_generator, 'create_system'):\n",
    "#             new_system = self._system_generator.create_system(new_topology)\n",
    "#         else:\n",
    "#             new_system = self._system_generator.build_system(new_topology)\n",
    "\n",
    "#         # Explicitly de-map any atoms involved in constraints that change length\n",
    "#         atom_map = SmallMoleculeSetProposalEngine._constraint_repairs(atom_map, old_system, new_system, old_topology, new_topology)\n",
    "#         _logger.debug(f\"\\tafter constraint repairs, the atom map is as such: {atom_map}\")\n",
    "\n",
    "#         _logger.debug(f\"\\tadding all env atoms to the atom map...\")\n",
    "#         atom_map.update(all_other_atoms_map)\n",
    "\n",
    "#         old_res_names = [res.name for res in old_topology.residues() if res.index == list(index_to_new_residues.keys())[0]]\n",
    "#         assert len(old_res_names) == 1, f\"no old res name match found\"\n",
    "#         old_res_name = old_res_names[0]\n",
    "#         _logger.debug(f\"\\told res name: {old_res_name}\")\n",
    "#         new_res_name = list(index_to_new_residues.values())[0]\n",
    "\n",
    "#         # Create TopologyProposal.\n",
    "#         current_res = [res for res in current_topology.residues() if res.index == chosen_res_index][0]\n",
    "#         proposed_res = [res for res in new_topology.residues() if res.index == chosen_res_index][0]\n",
    "#         augment_openmm_topology(topology = old_topology, residue_oemol = old_oemol_res_copy, residue_topology = current_res, residue_to_oemol_map = old_res_to_oemol_map)\n",
    "#         augment_openmm_topology(topology = new_topology, residue_oemol = new_oemol_res_copy, residue_topology = proposed_res, residue_to_oemol_map = new_res_to_oemol_map)\n",
    "\n",
    "#         topology_proposal = TopologyProposal(logp_proposal = 0.,\n",
    "#                                              new_to_old_atom_map = atom_map,\n",
    "#                                              old_topology = old_topology,\n",
    "#                                              new_topology  = new_topology,\n",
    "#                                              old_system = old_system,\n",
    "#                                              new_system = new_system,\n",
    "#                                              old_alchemical_atoms = [atom.index for atom in current_res.atoms()] + list(extra_atom_map.values()),\n",
    "#                                              old_chemical_state_key = old_chemical_state_key,\n",
    "#                                              new_chemical_state_key = new_chemical_state_key,\n",
    "#                                              old_residue_name = old_res_name,\n",
    "#                                              new_residue_name = new_res_name)\n",
    "\n",
    "#         # Check that old_topology and old_system have same number of atoms.\n",
    "#         old_topology_natoms = old_topology.getNumAtoms()  # number of topology atoms\n",
    "#         old_system_natoms = old_system.getNumParticles()\n",
    "#         if old_topology_natoms != old_system_natoms:\n",
    "#             msg = 'PolymerProposalEngine: old_topology has %d atoms, while old_system has %d atoms' % (old_topology_natoms, old_system_natoms)\n",
    "#             raise Exception(msg)\n",
    "\n",
    "#         # Check that new_topology and new_system have same number of atoms.\n",
    "#         new_topology_natoms = new_topology.getNumAtoms()  # number of topology atoms\n",
    "#         new_system_natoms = new_system.getNumParticles()\n",
    "#         if new_topology_natoms != new_system_natoms:\n",
    "#             msg = 'PolymerProposalEngine: new_topology has %d atoms, while new_system has %d atoms' % (new_topology_natoms, new_system_natoms)\n",
    "#             raise Exception(msg)\n",
    "\n",
    "#         # Check to make sure no out-of-bounds atoms are present in new_to_old_atom_map\n",
    "#         natoms_old = topology_proposal.old_system.getNumParticles()\n",
    "#         natoms_new = topology_proposal.new_system.getNumParticles()\n",
    "#         if not set(topology_proposal.new_to_old_atom_map.values()).issubset(range(natoms_old)):\n",
    "#             msg = \"Some new atoms in TopologyProposal.new_to_old_atom_map are not in span of new atoms (1..%d):\\n\" % natoms_new\n",
    "#             msg += str(topology_proposal.new_to_old_atom_map)\n",
    "#             raise Exception(msg)\n",
    "#         if not set(topology_proposal.new_to_old_atom_map.keys()).issubset(range(natoms_new)):\n",
    "#             msg = \"Some new atoms in TopologyProposal.new_to_old_atom_map are not in span of old atoms (1..%d):\\n\" % natoms_new\n",
    "#             msg += str(topology_proposal.new_to_old_atom_map)\n",
    "#             raise Exception(msg)\n",
    "\n",
    "#         #validate the old/new system matches\n",
    "#         # TODO: create more rigorous checks for this validation either in TopologyProposal or in the HybridTopologyFactory\n",
    "#         #assert PolymerProposalEngine.validate_core_atoms_with_system(topology_proposal)\n",
    "\n",
    "\n",
    "#         return topology_proposal"
   ]
  },
  {
   "cell_type": "code",
   "execution_count": 3,
   "id": "f23f415f",
   "metadata": {},
   "outputs": [
    {
     "name": "stderr",
     "output_type": "stream",
     "text": [
      "DEBUG:openmmforcefields.system_generators:Trying GAFFTemplateGenerator to load gaff-2.11\n"
     ]
    }
   ],
   "source": [
    "ala, system_generator = generate_atp()"
   ]
  },
  {
   "cell_type": "code",
   "execution_count": 6,
   "id": "963d3d31",
   "metadata": {},
   "outputs": [],
   "source": [
    "point_mutation_engine = PointMutationEngine2(wildtype_topology=ala.topology,\n",
    "                                            system_generator=system_generator,\n",
    "                                            chain_id='1', # Denote the chain id allowed to mutate (it's always a string variable)\n",
    "                                            max_point_mutants=1,\n",
    "                                            residues_allowed_to_mutate=['2'], # The residue ids allowed to mutate\n",
    "                                            allowed_mutations=[('2', 'LYN')], # The residue ids allowed to mutate with the three-letter code allowed to change\n",
    "                                            aggregate=True) # Always allow aggregation\n",
    "\n",
    "# # Create a top proposal\n",
    "# new_topology = point_mutation_engine.propose(current_system=ala.system, current_topology=ala.topology)\n"
   ]
  },
  {
   "cell_type": "code",
   "execution_count": 16,
   "id": "c299751c",
   "metadata": {},
   "outputs": [
    {
     "data": {
      "text/plain": [
       "{'N': 0,\n",
       " 'H': 1,\n",
       " 'CA': 2,\n",
       " 'HA': 3,\n",
       " 'CB': 4,\n",
       " 'HB2': 5,\n",
       " 'HB3': 6,\n",
       " 'CG': 7,\n",
       " 'HG2': 8,\n",
       " 'HG3': 9,\n",
       " 'CD': 10,\n",
       " 'HD2': 11,\n",
       " 'HD3': 12,\n",
       " 'CE': 13,\n",
       " 'HE2': 14,\n",
       " 'HE3': 15,\n",
       " 'NZ': 16,\n",
       " 'HZ2': 17,\n",
       " 'HZ3': 18,\n",
       " 'C': 19,\n",
       " 'O': 20}"
      ]
     },
     "execution_count": 16,
     "metadata": {},
     "output_type": "execute_result"
    }
   ],
   "source": [
    "point_mutation_engine._templates['LYN'].atomIndices"
   ]
  },
  {
   "cell_type": "code",
   "execution_count": 14,
   "id": "3131c522",
   "metadata": {},
   "outputs": [
    {
     "name": "stdout",
     "output_type": "stream",
     "text": [
      "0 N\n",
      "1 H\n",
      "2 CA\n",
      "3 HA\n",
      "4 CB\n",
      "5 HB2\n",
      "6 HB3\n",
      "7 CG\n",
      "8 HG2\n",
      "9 HG3\n",
      "10 CD\n",
      "11 HD2\n",
      "12 HD3\n",
      "13 CE\n",
      "14 HE2\n",
      "15 HE3\n",
      "16 NZ\n",
      "17 HZ2\n",
      "18 HZ1\n",
      "19 C\n",
      "20 O\n"
     ]
    }
   ],
   "source": [
    "for i, atom in enumerate(point_mutation_engine._templates['LYN'].atoms):\n",
    "    if atom.name == 'HZ3':\n",
    "        atom.name = 'HZ1'\n",
    "    print(i, atom.name)"
   ]
  },
  {
   "cell_type": "code",
   "execution_count": 12,
   "id": "d690dc3c",
   "metadata": {},
   "outputs": [
    {
     "name": "stdout",
     "output_type": "stream",
     "text": [
      "(0, 1)\n",
      "(0, 2)\n",
      "(2, 3)\n",
      "(2, 4)\n",
      "(2, 19)\n",
      "(4, 5)\n",
      "(4, 6)\n",
      "(4, 7)\n",
      "(7, 8)\n",
      "(7, 9)\n",
      "(7, 10)\n",
      "(10, 11)\n",
      "(10, 12)\n",
      "(10, 13)\n",
      "(13, 14)\n",
      "(13, 15)\n",
      "(13, 16)\n",
      "(16, 17)\n",
      "(16, 18)\n",
      "(19, 20)\n"
     ]
    }
   ],
   "source": [
    "for bond in point_mutation_engine._templates['LYN'].bonds:\n",
    "    print(bond)"
   ]
  },
  {
   "cell_type": "code",
   "execution_count": 5,
   "id": "1f66c8de",
   "metadata": {},
   "outputs": [
    {
     "name": "stderr",
     "output_type": "stream",
     "text": [
      "INFO:proposal_generator:\tConducting polymer point mutation proposal...\n"
     ]
    },
    {
     "name": "stdout",
     "output_type": "stream",
     "text": [
      "making topology proposal\n"
     ]
    },
    {
     "ename": "AttributeError",
     "evalue": "'NoneType' object has no attribute 'GetIdx'",
     "output_type": "error",
     "traceback": [
      "\u001b[0;31m---------------------------------------------------------------------------\u001b[0m",
      "\u001b[0;31mAttributeError\u001b[0m                            Traceback (most recent call last)",
      "\u001b[0;32m/scratch/lsftmp/2116857.tmpdir/ipykernel_41778/3726424860.py\u001b[0m in \u001b[0;36m<module>\u001b[0;34m\u001b[0m\n\u001b[0;32m----> 1\u001b[0;31m \u001b[0mgenerate_dipeptide_top_pos_sys\u001b[0m\u001b[0;34m(\u001b[0m\u001b[0mala\u001b[0m\u001b[0;34m.\u001b[0m\u001b[0mtopology\u001b[0m\u001b[0;34m,\u001b[0m \u001b[0;34m\"LYN\"\u001b[0m\u001b[0;34m,\u001b[0m \u001b[0mala\u001b[0m\u001b[0;34m.\u001b[0m\u001b[0msystem\u001b[0m\u001b[0;34m,\u001b[0m \u001b[0mala\u001b[0m\u001b[0;34m.\u001b[0m\u001b[0mpositions\u001b[0m\u001b[0;34m,\u001b[0m \u001b[0msystem_generator\u001b[0m\u001b[0;34m,\u001b[0m \u001b[0mconduct_htf_prop\u001b[0m\u001b[0;34m=\u001b[0m\u001b[0;32mTrue\u001b[0m\u001b[0;34m)\u001b[0m\u001b[0;34m\u001b[0m\u001b[0;34m\u001b[0m\u001b[0m\n\u001b[0m",
      "\u001b[0;32m~/miniconda3/envs/perses-nonstandard-aa/lib/python3.9/site-packages/perses-0.9.0+62.gd3cebaf.dirty-py3.9.egg/perses/tests/test_topology_proposal.py\u001b[0m in \u001b[0;36mgenerate_dipeptide_top_pos_sys\u001b[0;34m(topology, new_res, system, positions, system_generator, conduct_geometry_prop, conduct_htf_prop, validate_energy_bookkeeping, repartitioned, endstate, flatten_torsions, flatten_exceptions, validate_endstate_energy)\u001b[0m\n\u001b[1;32m    227\u001b[0m     \u001b[0;31m# Create a top proposal\u001b[0m\u001b[0;34m\u001b[0m\u001b[0;34m\u001b[0m\u001b[0;34m\u001b[0m\u001b[0m\n\u001b[1;32m    228\u001b[0m     \u001b[0mprint\u001b[0m\u001b[0;34m(\u001b[0m\u001b[0;34mf\"making topology proposal\"\u001b[0m\u001b[0;34m)\u001b[0m\u001b[0;34m\u001b[0m\u001b[0;34m\u001b[0m\u001b[0m\n\u001b[0;32m--> 229\u001b[0;31m     \u001b[0mtopology_proposal\u001b[0m \u001b[0;34m=\u001b[0m \u001b[0mpoint_mutation_engine\u001b[0m\u001b[0;34m.\u001b[0m\u001b[0mpropose\u001b[0m\u001b[0;34m(\u001b[0m\u001b[0mcurrent_system\u001b[0m\u001b[0;34m=\u001b[0m\u001b[0msystem\u001b[0m\u001b[0;34m,\u001b[0m \u001b[0mcurrent_topology\u001b[0m\u001b[0;34m=\u001b[0m\u001b[0mtopology\u001b[0m\u001b[0;34m)\u001b[0m\u001b[0;34m\u001b[0m\u001b[0;34m\u001b[0m\u001b[0m\n\u001b[0m\u001b[1;32m    230\u001b[0m \u001b[0;34m\u001b[0m\u001b[0m\n\u001b[1;32m    231\u001b[0m     \u001b[0;32mif\u001b[0m \u001b[0;32mnot\u001b[0m \u001b[0mconduct_geometry_prop\u001b[0m\u001b[0;34m:\u001b[0m\u001b[0;34m\u001b[0m\u001b[0;34m\u001b[0m\u001b[0m\n",
      "\u001b[0;32m~/miniconda3/envs/perses-nonstandard-aa/lib/python3.9/site-packages/perses-0.9.0+62.gd3cebaf.dirty-py3.9.egg/perses/rjmc/topology_proposal.py\u001b[0m in \u001b[0;36mpropose\u001b[0;34m(self, current_system, current_topology, current_metadata)\u001b[0m\n\u001b[1;32m    679\u001b[0m         \u001b[0;31m# index_to_new_residues : dict, key : int (index) , value : str (three letter name of proposed residue)\u001b[0m\u001b[0;34m\u001b[0m\u001b[0;34m\u001b[0m\u001b[0;34m\u001b[0m\u001b[0m\n\u001b[1;32m    680\u001b[0m         \u001b[0m_logger\u001b[0m\u001b[0;34m.\u001b[0m\u001b[0mdebug\u001b[0m\u001b[0;34m(\u001b[0m\u001b[0;34mf\"\\tconstructing atom map for TopologyProposal...\"\u001b[0m\u001b[0;34m)\u001b[0m\u001b[0;34m\u001b[0m\u001b[0;34m\u001b[0m\u001b[0m\n\u001b[0;32m--> 681\u001b[0;31m         \u001b[0matom_map\u001b[0m\u001b[0;34m,\u001b[0m \u001b[0mold_res_to_oemol_map\u001b[0m\u001b[0;34m,\u001b[0m \u001b[0mnew_res_to_oemol_map\u001b[0m\u001b[0;34m,\u001b[0m \u001b[0mlocal_atom_map_stereo_sidechain\u001b[0m\u001b[0;34m,\u001b[0m \u001b[0mcurrent_oemol_sidechain\u001b[0m\u001b[0;34m,\u001b[0m \u001b[0mproposed_oemol_sidechain\u001b[0m\u001b[0;34m,\u001b[0m \u001b[0mold_oemol_res_copy\u001b[0m\u001b[0;34m,\u001b[0m \u001b[0mnew_oemol_res_copy\u001b[0m  \u001b[0;34m=\u001b[0m \u001b[0mself\u001b[0m\u001b[0;34m.\u001b[0m\u001b[0m_construct_atom_map\u001b[0m\u001b[0;34m(\u001b[0m\u001b[0mresidue_map\u001b[0m\u001b[0;34m,\u001b[0m \u001b[0mold_topology\u001b[0m\u001b[0;34m,\u001b[0m \u001b[0mindex_to_new_residues\u001b[0m\u001b[0;34m,\u001b[0m \u001b[0mnew_topology\u001b[0m\u001b[0;34m)\u001b[0m\u001b[0;34m\u001b[0m\u001b[0;34m\u001b[0m\u001b[0m\n\u001b[0m\u001b[1;32m    682\u001b[0m \u001b[0;34m\u001b[0m\u001b[0m\n\u001b[1;32m    683\u001b[0m         \u001b[0m_logger\u001b[0m\u001b[0;34m.\u001b[0m\u001b[0mdebug\u001b[0m\u001b[0;34m(\u001b[0m\u001b[0;34mf\"\\tadding indices of the 'C' backbone atom in the next residue and the 'N' atom in the previous\"\u001b[0m\u001b[0;34m)\u001b[0m\u001b[0;34m\u001b[0m\u001b[0;34m\u001b[0m\u001b[0m\n",
      "\u001b[0;32m~/miniconda3/envs/perses-nonstandard-aa/lib/python3.9/site-packages/perses-0.9.0+62.gd3cebaf.dirty-py3.9.egg/perses/rjmc/topology_proposal.py\u001b[0m in \u001b[0;36m_construct_atom_map\u001b[0;34m(self, residue_map, old_topology, index_to_new_residues, new_topology)\u001b[0m\n\u001b[1;32m   1212\u001b[0m         \u001b[0;31m#create bookkeeping dictionaries\u001b[0m\u001b[0;34m\u001b[0m\u001b[0;34m\u001b[0m\u001b[0;34m\u001b[0m\u001b[0m\n\u001b[1;32m   1213\u001b[0m         \u001b[0mold_res_to_oemol_map\u001b[0m \u001b[0;34m=\u001b[0m \u001b[0;34m{\u001b[0m\u001b[0matom\u001b[0m\u001b[0;34m.\u001b[0m\u001b[0mindex\u001b[0m\u001b[0;34m:\u001b[0m \u001b[0mcurrent_oemol\u001b[0m\u001b[0;34m.\u001b[0m\u001b[0mGetAtom\u001b[0m\u001b[0;34m(\u001b[0m\u001b[0moechem\u001b[0m\u001b[0;34m.\u001b[0m\u001b[0mOEHasAtomName\u001b[0m\u001b[0;34m(\u001b[0m\u001b[0matom\u001b[0m\u001b[0;34m.\u001b[0m\u001b[0mname\u001b[0m\u001b[0;34m)\u001b[0m\u001b[0;34m)\u001b[0m\u001b[0;34m.\u001b[0m\u001b[0mGetIdx\u001b[0m\u001b[0;34m(\u001b[0m\u001b[0;34m)\u001b[0m \u001b[0;32mfor\u001b[0m \u001b[0matom\u001b[0m \u001b[0;32min\u001b[0m \u001b[0mold_res\u001b[0m\u001b[0;34m.\u001b[0m\u001b[0matoms\u001b[0m\u001b[0;34m(\u001b[0m\u001b[0;34m)\u001b[0m\u001b[0;34m}\u001b[0m\u001b[0;34m\u001b[0m\u001b[0;34m\u001b[0m\u001b[0m\n\u001b[0;32m-> 1214\u001b[0;31m         \u001b[0mnew_res_to_oemol_map\u001b[0m \u001b[0;34m=\u001b[0m \u001b[0;34m{\u001b[0m\u001b[0matom\u001b[0m\u001b[0;34m.\u001b[0m\u001b[0mindex\u001b[0m\u001b[0;34m:\u001b[0m \u001b[0mproposed_oemol\u001b[0m\u001b[0;34m.\u001b[0m\u001b[0mGetAtom\u001b[0m\u001b[0;34m(\u001b[0m\u001b[0moechem\u001b[0m\u001b[0;34m.\u001b[0m\u001b[0mOEHasAtomName\u001b[0m\u001b[0;34m(\u001b[0m\u001b[0matom\u001b[0m\u001b[0;34m.\u001b[0m\u001b[0mname\u001b[0m\u001b[0;34m)\u001b[0m\u001b[0;34m)\u001b[0m\u001b[0;34m.\u001b[0m\u001b[0mGetIdx\u001b[0m\u001b[0;34m(\u001b[0m\u001b[0;34m)\u001b[0m \u001b[0;32mfor\u001b[0m \u001b[0matom\u001b[0m \u001b[0;32min\u001b[0m \u001b[0mnew_res\u001b[0m\u001b[0;34m.\u001b[0m\u001b[0matoms\u001b[0m\u001b[0;34m(\u001b[0m\u001b[0;34m)\u001b[0m\u001b[0;34m}\u001b[0m\u001b[0;34m\u001b[0m\u001b[0;34m\u001b[0m\u001b[0m\n\u001b[0m\u001b[1;32m   1215\u001b[0m \u001b[0;34m\u001b[0m\u001b[0m\n\u001b[1;32m   1216\u001b[0m         \u001b[0mold_oemol_name_idx\u001b[0m \u001b[0;34m=\u001b[0m \u001b[0;34m{\u001b[0m\u001b[0matom\u001b[0m\u001b[0;34m.\u001b[0m\u001b[0mGetName\u001b[0m\u001b[0;34m(\u001b[0m\u001b[0;34m)\u001b[0m\u001b[0;34m:\u001b[0m \u001b[0matom\u001b[0m\u001b[0;34m.\u001b[0m\u001b[0mGetIdx\u001b[0m\u001b[0;34m(\u001b[0m\u001b[0;34m)\u001b[0m \u001b[0;32mfor\u001b[0m \u001b[0matom\u001b[0m \u001b[0;32min\u001b[0m \u001b[0mcurrent_oemol\u001b[0m\u001b[0;34m.\u001b[0m\u001b[0mGetAtoms\u001b[0m\u001b[0;34m(\u001b[0m\u001b[0;34m)\u001b[0m\u001b[0;34m}\u001b[0m\u001b[0;34m\u001b[0m\u001b[0;34m\u001b[0m\u001b[0m\n",
      "\u001b[0;32m~/miniconda3/envs/perses-nonstandard-aa/lib/python3.9/site-packages/perses-0.9.0+62.gd3cebaf.dirty-py3.9.egg/perses/rjmc/topology_proposal.py\u001b[0m in \u001b[0;36m<dictcomp>\u001b[0;34m(.0)\u001b[0m\n\u001b[1;32m   1212\u001b[0m         \u001b[0;31m#create bookkeeping dictionaries\u001b[0m\u001b[0;34m\u001b[0m\u001b[0;34m\u001b[0m\u001b[0;34m\u001b[0m\u001b[0m\n\u001b[1;32m   1213\u001b[0m         \u001b[0mold_res_to_oemol_map\u001b[0m \u001b[0;34m=\u001b[0m \u001b[0;34m{\u001b[0m\u001b[0matom\u001b[0m\u001b[0;34m.\u001b[0m\u001b[0mindex\u001b[0m\u001b[0;34m:\u001b[0m \u001b[0mcurrent_oemol\u001b[0m\u001b[0;34m.\u001b[0m\u001b[0mGetAtom\u001b[0m\u001b[0;34m(\u001b[0m\u001b[0moechem\u001b[0m\u001b[0;34m.\u001b[0m\u001b[0mOEHasAtomName\u001b[0m\u001b[0;34m(\u001b[0m\u001b[0matom\u001b[0m\u001b[0;34m.\u001b[0m\u001b[0mname\u001b[0m\u001b[0;34m)\u001b[0m\u001b[0;34m)\u001b[0m\u001b[0;34m.\u001b[0m\u001b[0mGetIdx\u001b[0m\u001b[0;34m(\u001b[0m\u001b[0;34m)\u001b[0m \u001b[0;32mfor\u001b[0m \u001b[0matom\u001b[0m \u001b[0;32min\u001b[0m \u001b[0mold_res\u001b[0m\u001b[0;34m.\u001b[0m\u001b[0matoms\u001b[0m\u001b[0;34m(\u001b[0m\u001b[0;34m)\u001b[0m\u001b[0;34m}\u001b[0m\u001b[0;34m\u001b[0m\u001b[0;34m\u001b[0m\u001b[0m\n\u001b[0;32m-> 1214\u001b[0;31m         \u001b[0mnew_res_to_oemol_map\u001b[0m \u001b[0;34m=\u001b[0m \u001b[0;34m{\u001b[0m\u001b[0matom\u001b[0m\u001b[0;34m.\u001b[0m\u001b[0mindex\u001b[0m\u001b[0;34m:\u001b[0m \u001b[0mproposed_oemol\u001b[0m\u001b[0;34m.\u001b[0m\u001b[0mGetAtom\u001b[0m\u001b[0;34m(\u001b[0m\u001b[0moechem\u001b[0m\u001b[0;34m.\u001b[0m\u001b[0mOEHasAtomName\u001b[0m\u001b[0;34m(\u001b[0m\u001b[0matom\u001b[0m\u001b[0;34m.\u001b[0m\u001b[0mname\u001b[0m\u001b[0;34m)\u001b[0m\u001b[0;34m)\u001b[0m\u001b[0;34m.\u001b[0m\u001b[0mGetIdx\u001b[0m\u001b[0;34m(\u001b[0m\u001b[0;34m)\u001b[0m \u001b[0;32mfor\u001b[0m \u001b[0matom\u001b[0m \u001b[0;32min\u001b[0m \u001b[0mnew_res\u001b[0m\u001b[0;34m.\u001b[0m\u001b[0matoms\u001b[0m\u001b[0;34m(\u001b[0m\u001b[0;34m)\u001b[0m\u001b[0;34m}\u001b[0m\u001b[0;34m\u001b[0m\u001b[0;34m\u001b[0m\u001b[0m\n\u001b[0m\u001b[1;32m   1215\u001b[0m \u001b[0;34m\u001b[0m\u001b[0m\n\u001b[1;32m   1216\u001b[0m         \u001b[0mold_oemol_name_idx\u001b[0m \u001b[0;34m=\u001b[0m \u001b[0;34m{\u001b[0m\u001b[0matom\u001b[0m\u001b[0;34m.\u001b[0m\u001b[0mGetName\u001b[0m\u001b[0;34m(\u001b[0m\u001b[0;34m)\u001b[0m\u001b[0;34m:\u001b[0m \u001b[0matom\u001b[0m\u001b[0;34m.\u001b[0m\u001b[0mGetIdx\u001b[0m\u001b[0;34m(\u001b[0m\u001b[0;34m)\u001b[0m \u001b[0;32mfor\u001b[0m \u001b[0matom\u001b[0m \u001b[0;32min\u001b[0m \u001b[0mcurrent_oemol\u001b[0m\u001b[0;34m.\u001b[0m\u001b[0mGetAtoms\u001b[0m\u001b[0;34m(\u001b[0m\u001b[0;34m)\u001b[0m\u001b[0;34m}\u001b[0m\u001b[0;34m\u001b[0m\u001b[0;34m\u001b[0m\u001b[0m\n",
      "\u001b[0;31mAttributeError\u001b[0m: 'NoneType' object has no attribute 'GetIdx'"
     ]
    }
   ],
   "source": [
    "generate_dipeptide_top_pos_sys(ala.topology, \"LYN\", ala.system, ala.positions, system_generator, conduct_htf_prop=True)"
   ]
  },
  {
   "cell_type": "code",
   "execution_count": 32,
   "id": "d662db5d",
   "metadata": {},
   "outputs": [],
   "source": [
    "old_res_name = 'ALA'\n",
    "new_res_name = 'LYN'\n",
    "\n",
    "current_residue_pdb_filename = resource_filename('perses', os.path.join('data', 'amino_acid_templates', f\"{old_res_name}.pdb\"))\n",
    "proposed_residue_pdb_filename = resource_filename('perses', os.path.join('data', 'amino_acid_templates', f\"{new_res_name}.pdb\"))\n",
    "\n",
    "current_oemol = PolymerProposalEngine.generate_oemol_from_pdb_template(current_residue_pdb_filename)\n",
    "proposed_oemol = PolymerProposalEngine.generate_oemol_from_pdb_template(proposed_residue_pdb_filename)\n",
    "\n"
   ]
  },
  {
   "cell_type": "code",
   "execution_count": 34,
   "id": "bc5b6a32",
   "metadata": {},
   "outputs": [
    {
     "name": "stdout",
     "output_type": "stream",
     "text": [
      "<Atom 6 (N) of chain 0 residue 1 (LYN)>\n",
      "<Atom 7 (H) of chain 0 residue 1 (LYN)>\n",
      "<Atom 8 (CA) of chain 0 residue 1 (LYN)>\n",
      "<Atom 9 (HA) of chain 0 residue 1 (LYN)>\n",
      "<Atom 10 (CB) of chain 0 residue 1 (LYN)>\n",
      "<Atom 11 (HB2) of chain 0 residue 1 (LYN)>\n",
      "<Atom 12 (HB3) of chain 0 residue 1 (LYN)>\n",
      "<Atom 13 (C) of chain 0 residue 1 (LYN)>\n",
      "<Atom 14 (O) of chain 0 residue 1 (LYN)>\n",
      "<Atom 15 (CG) of chain 0 residue 1 (LYN)>\n",
      "<Atom 16 (HG2) of chain 0 residue 1 (LYN)>\n",
      "<Atom 17 (HG3) of chain 0 residue 1 (LYN)>\n",
      "<Atom 18 (CD) of chain 0 residue 1 (LYN)>\n",
      "<Atom 19 (HD2) of chain 0 residue 1 (LYN)>\n",
      "<Atom 20 (HD3) of chain 0 residue 1 (LYN)>\n",
      "<Atom 21 (CE) of chain 0 residue 1 (LYN)>\n",
      "<Atom 22 (HE2) of chain 0 residue 1 (LYN)>\n",
      "<Atom 23 (HE3) of chain 0 residue 1 (LYN)>\n",
      "<Atom 24 (NZ) of chain 0 residue 1 (LYN)>\n",
      "<Atom 25 (HZ2) of chain 0 residue 1 (LYN)>\n",
      "<Atom 26 (HZ3) of chain 0 residue 1 (LYN)>\n"
     ]
    }
   ],
   "source": [
    "for res in new_topology.residues():\n",
    "    if res.name == 'LYN':\n",
    "        for atom in res.atoms():\n",
    "            print(atom)"
   ]
  },
  {
   "cell_type": "code",
   "execution_count": 36,
   "id": "30a0eaaf",
   "metadata": {},
   "outputs": [
    {
     "name": "stderr",
     "output_type": "stream",
     "text": [
      "DEBUG:root:\t\t\told_oemol_res names: [(0, 'N'), (1, 'CA'), (2, 'C'), (3, 'O'), (4, 'CB'), (5, 'H'), (6, 'HA'), (7, 'HB1'), (8, 'HB2'), (9, 'HB3'), (10, \"H'\")]\n",
      "DEBUG:root:\t\t\tnew_oemol_res names: [(0, 'N'), (1, 'CA'), (2, 'C'), (3, 'O'), (4, 'CB'), (5, 'CG'), (6, 'CD'), (7, 'CE'), (8, 'NZ'), (9, 'H'), (10, 'HA'), (11, 'HB2'), (12, 'HB3'), (13, 'HG2'), (14, 'HG3'), (15, 'HD2'), (16, 'HD3'), (17, 'HE2'), (18, 'HE3'), (19, 'HZ1'), (20, 'HZ2'), (21, \"H'\")]\n"
     ]
    }
   ],
   "source": [
    "_logger.debug(f\"\\t\\t\\told_oemol_res names: {[(atom.GetIdx(), atom.GetName()) for atom in current_oemol.GetAtoms()]}\")\n",
    "_logger.debug(f\"\\t\\t\\tnew_oemol_res names: {[(atom.GetIdx(), atom.GetName()) for atom in proposed_oemol.GetAtoms()]}\")\n"
   ]
  },
  {
   "cell_type": "code",
   "execution_count": 41,
   "id": "84caa09e",
   "metadata": {},
   "outputs": [
    {
     "name": "stdout",
     "output_type": "stream",
     "text": [
      "N\n",
      "H\n",
      "CA\n",
      "HA\n",
      "CB\n",
      "HB2\n",
      "HB3\n",
      "CG\n",
      "HG2\n",
      "HG3\n",
      "CD\n",
      "HD2\n",
      "HD3\n",
      "CE\n",
      "HE2\n",
      "HE3\n",
      "NZ\n",
      "HZ2\n",
      "HZ3\n",
      "C\n",
      "O\n"
     ]
    }
   ],
   "source": [
    "for atom in point_mutation_engine._templates['LYN'].atoms:\n",
    "    print(atom.name)"
   ]
  },
  {
   "cell_type": "code",
   "execution_count": null,
   "id": "949f0ae1",
   "metadata": {},
   "outputs": [],
   "source": [
    "\n",
    "#create bookkeeping dictionaries\n",
    "new_res_to_oemol_map = {atom.index: proposed_oemol.GetAtom(oechem.OEHasAtomName(atom.name)).GetIdx() for atom in new_res.atoms()}\n"
   ]
  }
 ],
 "metadata": {
  "kernelspec": {
   "display_name": "Python 3 (ipykernel)",
   "language": "python",
   "name": "python3"
  },
  "language_info": {
   "codemirror_mode": {
    "name": "ipython",
    "version": 3
   },
   "file_extension": ".py",
   "mimetype": "text/x-python",
   "name": "python",
   "nbconvert_exporter": "python",
   "pygments_lexer": "ipython3",
   "version": "3.9.6"
  }
 },
 "nbformat": 4,
 "nbformat_minor": 5
}
