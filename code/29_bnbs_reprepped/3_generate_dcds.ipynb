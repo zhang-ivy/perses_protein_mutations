{
 "cells": [
  {
   "cell_type": "code",
   "execution_count": 1,
   "id": "technical-positive",
   "metadata": {},
   "outputs": [],
   "source": [
    "import mdtraj as md\n",
    "import numpy as np\n",
    "import pickle\n",
    "import os\n",
    "from tqdm import tqdm_notebook\n",
    "from simtk.openmm import app\n",
    "from simtk.openmm import unit\n",
    "from openeye import oechem"
   ]
  },
  {
   "cell_type": "code",
   "execution_count": 67,
   "id": "finnish-hamburg",
   "metadata": {},
   "outputs": [],
   "source": [
    "outdir = \"/data/chodera/zhangi/perses_benchmark/neq/21/48\"\n",
    "i = 48\n",
    "phase = 'complex'\n",
    "cycle = 0"
   ]
  },
  {
   "cell_type": "code",
   "execution_count": 68,
   "id": "anonymous-replication",
   "metadata": {},
   "outputs": [],
   "source": [
    "htf = pickle.load(open(os.path.join(outdir, f\"{i}_{phase}.pickle\"), \"rb\"))"
   ]
  },
  {
   "cell_type": "code",
   "execution_count": 69,
   "id": "floral-estimate",
   "metadata": {},
   "outputs": [],
   "source": [
    "with open(os.path.join(outdir, f\"{i}_{phase}_{cycle}_forward_neq_old.npy\"), 'rb') as f:\n",
    "    neq_old = np.load(f)"
   ]
  },
  {
   "cell_type": "code",
   "execution_count": 58,
   "id": "adjusted-surgeon",
   "metadata": {},
   "outputs": [],
   "source": [
    "with open(os.path.join(outdir, f\"{i}_{phase}_{cycle}_reverse_neq_old_water.npy\"), 'rb') as f:\n",
    "    neq_reverse_old = np.load(f)"
   ]
  },
  {
   "cell_type": "code",
   "execution_count": 59,
   "id": "2f8cef6e",
   "metadata": {},
   "outputs": [
    {
     "data": {
      "text/plain": [
       "(1, 33415, 3)"
      ]
     },
     "execution_count": 59,
     "metadata": {},
     "output_type": "execute_result"
    }
   ],
   "source": [
    "neq_old.shape"
   ]
  },
  {
   "cell_type": "code",
   "execution_count": 70,
   "id": "democratic-engineering",
   "metadata": {},
   "outputs": [],
   "source": [
    "modeller = app.Modeller(htf._topology_proposal.old_topology, htf.old_positions(htf.hybrid_positions))\n",
    "modeller.deleteWater()"
   ]
  },
  {
   "cell_type": "code",
   "execution_count": 71,
   "id": "polish-disposition",
   "metadata": {},
   "outputs": [],
   "source": [
    "old_top = md.Topology.from_openmm(modeller.topology)"
   ]
  },
  {
   "cell_type": "code",
   "execution_count": 72,
   "id": "ideal-patio",
   "metadata": {},
   "outputs": [
    {
     "ename": "TypeError",
     "evalue": "unitcell_vectors must be the same length as the trajectory. you provided [[[7.0626 0.     0.    ]\n  [0.     7.0626 0.    ]\n  [0.     0.     7.0626]]\n\n [[7.0626 0.     0.    ]\n  [0.     7.0626 0.    ]\n  [0.     0.     7.0626]]\n\n [[7.0626 0.     0.    ]\n  [0.     7.0626 0.    ]\n  [0.     0.     7.0626]]\n\n [[7.0626 0.     0.    ]\n  [0.     7.0626 0.    ]\n  [0.     0.     7.0626]]\n\n [[7.0626 0.     0.    ]\n  [0.     7.0626 0.    ]\n  [0.     0.     7.0626]]\n\n [[7.0626 0.     0.    ]\n  [0.     7.0626 0.    ]\n  [0.     0.     7.0626]]\n\n [[7.0626 0.     0.    ]\n  [0.     7.0626 0.    ]\n  [0.     0.     7.0626]]\n\n [[7.0626 0.     0.    ]\n  [0.     7.0626 0.    ]\n  [0.     0.     7.0626]]\n\n [[7.0626 0.     0.    ]\n  [0.     7.0626 0.    ]\n  [0.     0.     7.0626]]\n\n [[7.0626 0.     0.    ]\n  [0.     7.0626 0.    ]\n  [0.     0.     7.0626]]\n\n [[7.0626 0.     0.    ]\n  [0.     7.0626 0.    ]\n  [0.     0.     7.0626]]\n\n [[7.0626 0.     0.    ]\n  [0.     7.0626 0.    ]\n  [0.     0.     7.0626]]\n\n [[7.0626 0.     0.    ]\n  [0.     7.0626 0.    ]\n  [0.     0.     7.0626]]\n\n [[7.0626 0.     0.    ]\n  [0.     7.0626 0.    ]\n  [0.     0.     7.0626]]\n\n [[7.0626 0.     0.    ]\n  [0.     7.0626 0.    ]\n  [0.     0.     7.0626]]\n\n [[7.0626 0.     0.    ]\n  [0.     7.0626 0.    ]\n  [0.     0.     7.0626]]\n\n [[7.0626 0.     0.    ]\n  [0.     7.0626 0.    ]\n  [0.     0.     7.0626]]\n\n [[7.0626 0.     0.    ]\n  [0.     7.0626 0.    ]\n  [0.     0.     7.0626]]\n\n [[7.0626 0.     0.    ]\n  [0.     7.0626 0.    ]\n  [0.     0.     7.0626]]\n\n [[7.0626 0.     0.    ]\n  [0.     7.0626 0.    ]\n  [0.     0.     7.0626]]\n\n [[7.0626 0.     0.    ]\n  [0.     7.0626 0.    ]\n  [0.     0.     7.0626]]\n\n [[7.0626 0.     0.    ]\n  [0.     7.0626 0.    ]\n  [0.     0.     7.0626]]\n\n [[7.0626 0.     0.    ]\n  [0.     7.0626 0.    ]\n  [0.     0.     7.0626]]\n\n [[7.0626 0.     0.    ]\n  [0.     7.0626 0.    ]\n  [0.     0.     7.0626]]\n\n [[7.0626 0.     0.    ]\n  [0.     7.0626 0.    ]\n  [0.     0.     7.0626]]\n\n [[7.0626 0.     0.    ]\n  [0.     7.0626 0.    ]\n  [0.     0.     7.0626]]\n\n [[7.0626 0.     0.    ]\n  [0.     7.0626 0.    ]\n  [0.     0.     7.0626]]\n\n [[7.0626 0.     0.    ]\n  [0.     7.0626 0.    ]\n  [0.     0.     7.0626]]\n\n [[7.0626 0.     0.    ]\n  [0.     7.0626 0.    ]\n  [0.     0.     7.0626]]\n\n [[7.0626 0.     0.    ]\n  [0.     7.0626 0.    ]\n  [0.     0.     7.0626]]\n\n [[7.0626 0.     0.    ]\n  [0.     7.0626 0.    ]\n  [0.     0.     7.0626]]\n\n [[7.0626 0.     0.    ]\n  [0.     7.0626 0.    ]\n  [0.     0.     7.0626]]\n\n [[7.0626 0.     0.    ]\n  [0.     7.0626 0.    ]\n  [0.     0.     7.0626]]\n\n [[7.0626 0.     0.    ]\n  [0.     7.0626 0.    ]\n  [0.     0.     7.0626]]\n\n [[7.0626 0.     0.    ]\n  [0.     7.0626 0.    ]\n  [0.     0.     7.0626]]\n\n [[7.0626 0.     0.    ]\n  [0.     7.0626 0.    ]\n  [0.     0.     7.0626]]\n\n [[7.0626 0.     0.    ]\n  [0.     7.0626 0.    ]\n  [0.     0.     7.0626]]\n\n [[7.0626 0.     0.    ]\n  [0.     7.0626 0.    ]\n  [0.     0.     7.0626]]\n\n [[7.0626 0.     0.    ]\n  [0.     7.0626 0.    ]\n  [0.     0.     7.0626]]\n\n [[7.0626 0.     0.    ]\n  [0.     7.0626 0.    ]\n  [0.     0.     7.0626]]\n\n [[7.0626 0.     0.    ]\n  [0.     7.0626 0.    ]\n  [0.     0.     7.0626]]\n\n [[7.0626 0.     0.    ]\n  [0.     7.0626 0.    ]\n  [0.     0.     7.0626]]\n\n [[7.0626 0.     0.    ]\n  [0.     7.0626 0.    ]\n  [0.     0.     7.0626]]\n\n [[7.0626 0.     0.    ]\n  [0.     7.0626 0.    ]\n  [0.     0.     7.0626]]\n\n [[7.0626 0.     0.    ]\n  [0.     7.0626 0.    ]\n  [0.     0.     7.0626]]\n\n [[7.0626 0.     0.    ]\n  [0.     7.0626 0.    ]\n  [0.     0.     7.0626]]\n\n [[7.0626 0.     0.    ]\n  [0.     7.0626 0.    ]\n  [0.     0.     7.0626]]\n\n [[7.0626 0.     0.    ]\n  [0.     7.0626 0.    ]\n  [0.     0.     7.0626]]\n\n [[7.0626 0.     0.    ]\n  [0.     7.0626 0.    ]\n  [0.     0.     7.0626]]\n\n [[7.0626 0.     0.    ]\n  [0.     7.0626 0.    ]\n  [0.     0.     7.0626]]\n\n [[7.0626 0.     0.    ]\n  [0.     7.0626 0.    ]\n  [0.     0.     7.0626]]\n\n [[7.0626 0.     0.    ]\n  [0.     7.0626 0.    ]\n  [0.     0.     7.0626]]\n\n [[7.0626 0.     0.    ]\n  [0.     7.0626 0.    ]\n  [0.     0.     7.0626]]\n\n [[7.0626 0.     0.    ]\n  [0.     7.0626 0.    ]\n  [0.     0.     7.0626]]\n\n [[7.0626 0.     0.    ]\n  [0.     7.0626 0.    ]\n  [0.     0.     7.0626]]\n\n [[7.0626 0.     0.    ]\n  [0.     7.0626 0.    ]\n  [0.     0.     7.0626]]\n\n [[7.0626 0.     0.    ]\n  [0.     7.0626 0.    ]\n  [0.     0.     7.0626]]\n\n [[7.0626 0.     0.    ]\n  [0.     7.0626 0.    ]\n  [0.     0.     7.0626]]\n\n [[7.0626 0.     0.    ]\n  [0.     7.0626 0.    ]\n  [0.     0.     7.0626]]\n\n [[7.0626 0.     0.    ]\n  [0.     7.0626 0.    ]\n  [0.     0.     7.0626]]\n\n [[7.0626 0.     0.    ]\n  [0.     7.0626 0.    ]\n  [0.     0.     7.0626]]\n\n [[7.0626 0.     0.    ]\n  [0.     7.0626 0.    ]\n  [0.     0.     7.0626]]\n\n [[7.0626 0.     0.    ]\n  [0.     7.0626 0.    ]\n  [0.     0.     7.0626]]\n\n [[7.0626 0.     0.    ]\n  [0.     7.0626 0.    ]\n  [0.     0.     7.0626]]\n\n [[7.0626 0.     0.    ]\n  [0.     7.0626 0.    ]\n  [0.     0.     7.0626]]\n\n [[7.0626 0.     0.    ]\n  [0.     7.0626 0.    ]\n  [0.     0.     7.0626]]\n\n [[7.0626 0.     0.    ]\n  [0.     7.0626 0.    ]\n  [0.     0.     7.0626]]\n\n [[7.0626 0.     0.    ]\n  [0.     7.0626 0.    ]\n  [0.     0.     7.0626]]\n\n [[7.0626 0.     0.    ]\n  [0.     7.0626 0.    ]\n  [0.     0.     7.0626]]\n\n [[7.0626 0.     0.    ]\n  [0.     7.0626 0.    ]\n  [0.     0.     7.0626]]\n\n [[7.0626 0.     0.    ]\n  [0.     7.0626 0.    ]\n  [0.     0.     7.0626]]\n\n [[7.0626 0.     0.    ]\n  [0.     7.0626 0.    ]\n  [0.     0.     7.0626]]\n\n [[7.0626 0.     0.    ]\n  [0.     7.0626 0.    ]\n  [0.     0.     7.0626]]\n\n [[7.0626 0.     0.    ]\n  [0.     7.0626 0.    ]\n  [0.     0.     7.0626]]\n\n [[7.0626 0.     0.    ]\n  [0.     7.0626 0.    ]\n  [0.     0.     7.0626]]\n\n [[7.0626 0.     0.    ]\n  [0.     7.0626 0.    ]\n  [0.     0.     7.0626]]\n\n [[7.0626 0.     0.    ]\n  [0.     7.0626 0.    ]\n  [0.     0.     7.0626]]\n\n [[7.0626 0.     0.    ]\n  [0.     7.0626 0.    ]\n  [0.     0.     7.0626]]\n\n [[7.0626 0.     0.    ]\n  [0.     7.0626 0.    ]\n  [0.     0.     7.0626]]\n\n [[7.0626 0.     0.    ]\n  [0.     7.0626 0.    ]\n  [0.     0.     7.0626]]\n\n [[7.0626 0.     0.    ]\n  [0.     7.0626 0.    ]\n  [0.     0.     7.0626]]\n\n [[7.0626 0.     0.    ]\n  [0.     7.0626 0.    ]\n  [0.     0.     7.0626]]\n\n [[7.0626 0.     0.    ]\n  [0.     7.0626 0.    ]\n  [0.     0.     7.0626]]\n\n [[7.0626 0.     0.    ]\n  [0.     7.0626 0.    ]\n  [0.     0.     7.0626]]\n\n [[7.0626 0.     0.    ]\n  [0.     7.0626 0.    ]\n  [0.     0.     7.0626]]\n\n [[7.0626 0.     0.    ]\n  [0.     7.0626 0.    ]\n  [0.     0.     7.0626]]\n\n [[7.0626 0.     0.    ]\n  [0.     7.0626 0.    ]\n  [0.     0.     7.0626]]\n\n [[7.0626 0.     0.    ]\n  [0.     7.0626 0.    ]\n  [0.     0.     7.0626]]\n\n [[7.0626 0.     0.    ]\n  [0.     7.0626 0.    ]\n  [0.     0.     7.0626]]\n\n [[7.0626 0.     0.    ]\n  [0.     7.0626 0.    ]\n  [0.     0.     7.0626]]\n\n [[7.0626 0.     0.    ]\n  [0.     7.0626 0.    ]\n  [0.     0.     7.0626]]\n\n [[7.0626 0.     0.    ]\n  [0.     7.0626 0.    ]\n  [0.     0.     7.0626]]\n\n [[7.0626 0.     0.    ]\n  [0.     7.0626 0.    ]\n  [0.     0.     7.0626]]\n\n [[7.0626 0.     0.    ]\n  [0.     7.0626 0.    ]\n  [0.     0.     7.0626]]\n\n [[7.0626 0.     0.    ]\n  [0.     7.0626 0.    ]\n  [0.     0.     7.0626]]\n\n [[7.0626 0.     0.    ]\n  [0.     7.0626 0.    ]\n  [0.     0.     7.0626]]\n\n [[7.0626 0.     0.    ]\n  [0.     7.0626 0.    ]\n  [0.     0.     7.0626]]\n\n [[7.0626 0.     0.    ]\n  [0.     7.0626 0.    ]\n  [0.     0.     7.0626]]\n\n [[7.0626 0.     0.    ]\n  [0.     7.0626 0.    ]\n  [0.     0.     7.0626]]\n\n [[7.0626 0.     0.    ]\n  [0.     7.0626 0.    ]\n  [0.     0.     7.0626]]]",
     "output_type": "error",
     "traceback": [
      "\u001b[0;31m---------------------------------------------------------------------------\u001b[0m",
      "\u001b[0;31mTypeError\u001b[0m                                 Traceback (most recent call last)",
      "\u001b[0;32m/scratch/lsftmp/2604527.tmpdir/ipykernel_352330/713771331.py\u001b[0m in \u001b[0;36m<module>\u001b[0;34m\u001b[0m\n\u001b[1;32m      2\u001b[0m \u001b[0mbox_vectors\u001b[0m \u001b[0;34m=\u001b[0m \u001b[0mnp\u001b[0m\u001b[0;34m.\u001b[0m\u001b[0marray\u001b[0m\u001b[0;34m(\u001b[0m\u001b[0;34m[\u001b[0m\u001b[0mval\u001b[0m\u001b[0;34m.\u001b[0m\u001b[0mvalue_in_unit_system\u001b[0m\u001b[0;34m(\u001b[0m\u001b[0munit\u001b[0m\u001b[0;34m.\u001b[0m\u001b[0mmd_unit_system\u001b[0m\u001b[0;34m)\u001b[0m \u001b[0;32mfor\u001b[0m \u001b[0mval\u001b[0m \u001b[0;32min\u001b[0m \u001b[0mhtf\u001b[0m\u001b[0;34m.\u001b[0m\u001b[0mhybrid_system\u001b[0m\u001b[0;34m.\u001b[0m\u001b[0mgetDefaultPeriodicBoxVectors\u001b[0m\u001b[0;34m(\u001b[0m\u001b[0;34m)\u001b[0m\u001b[0;34m]\u001b[0m\u001b[0;34m)\u001b[0m\u001b[0;34m\u001b[0m\u001b[0;34m\u001b[0m\u001b[0m\n\u001b[1;32m      3\u001b[0m \u001b[0mvectors\u001b[0m \u001b[0;34m=\u001b[0m \u001b[0mnp\u001b[0m\u001b[0;34m.\u001b[0m\u001b[0marray\u001b[0m\u001b[0;34m(\u001b[0m\u001b[0;34m[\u001b[0m\u001b[0mbox_vectors\u001b[0m\u001b[0;34m]\u001b[0m\u001b[0;34m)\u001b[0m\u001b[0;34m\u001b[0m\u001b[0;34m\u001b[0m\u001b[0m\n\u001b[0;32m----> 4\u001b[0;31m \u001b[0mtraj\u001b[0m\u001b[0;34m.\u001b[0m\u001b[0munitcell_vectors\u001b[0m \u001b[0;34m=\u001b[0m \u001b[0mnp\u001b[0m\u001b[0;34m.\u001b[0m\u001b[0mrepeat\u001b[0m\u001b[0;34m(\u001b[0m\u001b[0mvectors\u001b[0m\u001b[0;34m,\u001b[0m \u001b[0;36m100\u001b[0m\u001b[0;34m,\u001b[0m \u001b[0maxis\u001b[0m\u001b[0;34m=\u001b[0m\u001b[0;36m0\u001b[0m\u001b[0;34m)\u001b[0m\u001b[0;34m\u001b[0m\u001b[0;34m\u001b[0m\u001b[0m\n\u001b[0m\u001b[1;32m      5\u001b[0m \u001b[0mtraj\u001b[0m \u001b[0;34m=\u001b[0m \u001b[0mtraj\u001b[0m\u001b[0;34m.\u001b[0m\u001b[0mimage_molecules\u001b[0m\u001b[0;34m(\u001b[0m\u001b[0;34m)\u001b[0m\u001b[0;34m\u001b[0m\u001b[0;34m\u001b[0m\u001b[0m\n\u001b[1;32m      6\u001b[0m \u001b[0mtraj\u001b[0m\u001b[0;34m.\u001b[0m\u001b[0msave\u001b[0m\u001b[0;34m(\u001b[0m\u001b[0mos\u001b[0m\u001b[0;34m.\u001b[0m\u001b[0mpath\u001b[0m\u001b[0;34m.\u001b[0m\u001b[0mjoin\u001b[0m\u001b[0;34m(\u001b[0m\u001b[0moutdir\u001b[0m\u001b[0;34m,\u001b[0m \u001b[0;34mf\"{i}_{phase}_{cycle}_forward_neq_old.dcd\"\u001b[0m\u001b[0;34m)\u001b[0m\u001b[0;34m)\u001b[0m\u001b[0;34m\u001b[0m\u001b[0;34m\u001b[0m\u001b[0m\n",
      "\u001b[0;32m~/miniconda3/envs/perses-nonstandard-aa/lib/python3.9/site-packages/mdtraj/core/trajectory.py\u001b[0m in \u001b[0;36munitcell_vectors\u001b[0;34m(self, vectors)\u001b[0m\n\u001b[1;32m    776\u001b[0m \u001b[0;34m\u001b[0m\u001b[0m\n\u001b[1;32m    777\u001b[0m         \u001b[0;32mif\u001b[0m \u001b[0;32mnot\u001b[0m \u001b[0mlen\u001b[0m\u001b[0;34m(\u001b[0m\u001b[0mvectors\u001b[0m\u001b[0;34m)\u001b[0m \u001b[0;34m==\u001b[0m \u001b[0mlen\u001b[0m\u001b[0;34m(\u001b[0m\u001b[0mself\u001b[0m\u001b[0;34m)\u001b[0m\u001b[0;34m:\u001b[0m\u001b[0;34m\u001b[0m\u001b[0;34m\u001b[0m\u001b[0m\n\u001b[0;32m--> 778\u001b[0;31m             raise TypeError('unitcell_vectors must be the same length as '\n\u001b[0m\u001b[1;32m    779\u001b[0m                             'the trajectory. you provided %s' % str(vectors))\n\u001b[1;32m    780\u001b[0m \u001b[0;34m\u001b[0m\u001b[0m\n",
      "\u001b[0;31mTypeError\u001b[0m: unitcell_vectors must be the same length as the trajectory. you provided [[[7.0626 0.     0.    ]\n  [0.     7.0626 0.    ]\n  [0.     0.     7.0626]]\n\n [[7.0626 0.     0.    ]\n  [0.     7.0626 0.    ]\n  [0.     0.     7.0626]]\n\n [[7.0626 0.     0.    ]\n  [0.     7.0626 0.    ]\n  [0.     0.     7.0626]]\n\n [[7.0626 0.     0.    ]\n  [0.     7.0626 0.    ]\n  [0.     0.     7.0626]]\n\n [[7.0626 0.     0.    ]\n  [0.     7.0626 0.    ]\n  [0.     0.     7.0626]]\n\n [[7.0626 0.     0.    ]\n  [0.     7.0626 0.    ]\n  [0.     0.     7.0626]]\n\n [[7.0626 0.     0.    ]\n  [0.     7.0626 0.    ]\n  [0.     0.     7.0626]]\n\n [[7.0626 0.     0.    ]\n  [0.     7.0626 0.    ]\n  [0.     0.     7.0626]]\n\n [[7.0626 0.     0.    ]\n  [0.     7.0626 0.    ]\n  [0.     0.     7.0626]]\n\n [[7.0626 0.     0.    ]\n  [0.     7.0626 0.    ]\n  [0.     0.     7.0626]]\n\n [[7.0626 0.     0.    ]\n  [0.     7.0626 0.    ]\n  [0.     0.     7.0626]]\n\n [[7.0626 0.     0.    ]\n  [0.     7.0626 0.    ]\n  [0.     0.     7.0626]]\n\n [[7.0626 0.     0.    ]\n  [0.     7.0626 0.    ]\n  [0.     0.     7.0626]]\n\n [[7.0626 0.     0.    ]\n  [0.     7.0626 0.    ]\n  [0.     0.     7.0626]]\n\n [[7.0626 0.     0.    ]\n  [0.     7.0626 0.    ]\n  [0.     0.     7.0626]]\n\n [[7.0626 0.     0.    ]\n  [0.     7.0626 0.    ]\n  [0.     0.     7.0626]]\n\n [[7.0626 0.     0.    ]\n  [0.     7.0626 0.    ]\n  [0.     0.     7.0626]]\n\n [[7.0626 0.     0.    ]\n  [0.     7.0626 0.    ]\n  [0.     0.     7.0626]]\n\n [[7.0626 0.     0.    ]\n  [0.     7.0626 0.    ]\n  [0.     0.     7.0626]]\n\n [[7.0626 0.     0.    ]\n  [0.     7.0626 0.    ]\n  [0.     0.     7.0626]]\n\n [[7.0626 0.     0.    ]\n  [0.     7.0626 0.    ]\n  [0.     0.     7.0626]]\n\n [[7.0626 0.     0.    ]\n  [0.     7.0626 0.    ]\n  [0.     0.     7.0626]]\n\n [[7.0626 0.     0.    ]\n  [0.     7.0626 0.    ]\n  [0.     0.     7.0626]]\n\n [[7.0626 0.     0.    ]\n  [0.     7.0626 0.    ]\n  [0.     0.     7.0626]]\n\n [[7.0626 0.     0.    ]\n  [0.     7.0626 0.    ]\n  [0.     0.     7.0626]]\n\n [[7.0626 0.     0.    ]\n  [0.     7.0626 0.    ]\n  [0.     0.     7.0626]]\n\n [[7.0626 0.     0.    ]\n  [0.     7.0626 0.    ]\n  [0.     0.     7.0626]]\n\n [[7.0626 0.     0.    ]\n  [0.     7.0626 0.    ]\n  [0.     0.     7.0626]]\n\n [[7.0626 0.     0.    ]\n  [0.     7.0626 0.    ]\n  [0.     0.     7.0626]]\n\n [[7.0626 0.     0.    ]\n  [0.     7.0626 0.    ]\n  [0.     0.     7.0626]]\n\n [[7.0626 0.     0.    ]\n  [0.     7.0626 0.    ]\n  [0.     0.     7.0626]]\n\n [[7.0626 0.     0.    ]\n  [0.     7.0626 0.    ]\n  [0.     0.     7.0626]]\n\n [[7.0626 0.     0.    ]\n  [0.     7.0626 0.    ]\n  [0.     0.     7.0626]]\n\n [[7.0626 0.     0.    ]\n  [0.     7.0626 0.    ]\n  [0.     0.     7.0626]]\n\n [[7.0626 0.     0.    ]\n  [0.     7.0626 0.    ]\n  [0.     0.     7.0626]]\n\n [[7.0626 0.     0.    ]\n  [0.     7.0626 0.    ]\n  [0.     0.     7.0626]]\n\n [[7.0626 0.     0.    ]\n  [0.     7.0626 0.    ]\n  [0.     0.     7.0626]]\n\n [[7.0626 0.     0.    ]\n  [0.     7.0626 0.    ]\n  [0.     0.     7.0626]]\n\n [[7.0626 0.     0.    ]\n  [0.     7.0626 0.    ]\n  [0.     0.     7.0626]]\n\n [[7.0626 0.     0.    ]\n  [0.     7.0626 0.    ]\n  [0.     0.     7.0626]]\n\n [[7.0626 0.     0.    ]\n  [0.     7.0626 0.    ]\n  [0.     0.     7.0626]]\n\n [[7.0626 0.     0.    ]\n  [0.     7.0626 0.    ]\n  [0.     0.     7.0626]]\n\n [[7.0626 0.     0.    ]\n  [0.     7.0626 0.    ]\n  [0.     0.     7.0626]]\n\n [[7.0626 0.     0.    ]\n  [0.     7.0626 0.    ]\n  [0.     0.     7.0626]]\n\n [[7.0626 0.     0.    ]\n  [0.     7.0626 0.    ]\n  [0.     0.     7.0626]]\n\n [[7.0626 0.     0.    ]\n  [0.     7.0626 0.    ]\n  [0.     0.     7.0626]]\n\n [[7.0626 0.     0.    ]\n  [0.     7.0626 0.    ]\n  [0.     0.     7.0626]]\n\n [[7.0626 0.     0.    ]\n  [0.     7.0626 0.    ]\n  [0.     0.     7.0626]]\n\n [[7.0626 0.     0.    ]\n  [0.     7.0626 0.    ]\n  [0.     0.     7.0626]]\n\n [[7.0626 0.     0.    ]\n  [0.     7.0626 0.    ]\n  [0.     0.     7.0626]]\n\n [[7.0626 0.     0.    ]\n  [0.     7.0626 0.    ]\n  [0.     0.     7.0626]]\n\n [[7.0626 0.     0.    ]\n  [0.     7.0626 0.    ]\n  [0.     0.     7.0626]]\n\n [[7.0626 0.     0.    ]\n  [0.     7.0626 0.    ]\n  [0.     0.     7.0626]]\n\n [[7.0626 0.     0.    ]\n  [0.     7.0626 0.    ]\n  [0.     0.     7.0626]]\n\n [[7.0626 0.     0.    ]\n  [0.     7.0626 0.    ]\n  [0.     0.     7.0626]]\n\n [[7.0626 0.     0.    ]\n  [0.     7.0626 0.    ]\n  [0.     0.     7.0626]]\n\n [[7.0626 0.     0.    ]\n  [0.     7.0626 0.    ]\n  [0.     0.     7.0626]]\n\n [[7.0626 0.     0.    ]\n  [0.     7.0626 0.    ]\n  [0.     0.     7.0626]]\n\n [[7.0626 0.     0.    ]\n  [0.     7.0626 0.    ]\n  [0.     0.     7.0626]]\n\n [[7.0626 0.     0.    ]\n  [0.     7.0626 0.    ]\n  [0.     0.     7.0626]]\n\n [[7.0626 0.     0.    ]\n  [0.     7.0626 0.    ]\n  [0.     0.     7.0626]]\n\n [[7.0626 0.     0.    ]\n  [0.     7.0626 0.    ]\n  [0.     0.     7.0626]]\n\n [[7.0626 0.     0.    ]\n  [0.     7.0626 0.    ]\n  [0.     0.     7.0626]]\n\n [[7.0626 0.     0.    ]\n  [0.     7.0626 0.    ]\n  [0.     0.     7.0626]]\n\n [[7.0626 0.     0.    ]\n  [0.     7.0626 0.    ]\n  [0.     0.     7.0626]]\n\n [[7.0626 0.     0.    ]\n  [0.     7.0626 0.    ]\n  [0.     0.     7.0626]]\n\n [[7.0626 0.     0.    ]\n  [0.     7.0626 0.    ]\n  [0.     0.     7.0626]]\n\n [[7.0626 0.     0.    ]\n  [0.     7.0626 0.    ]\n  [0.     0.     7.0626]]\n\n [[7.0626 0.     0.    ]\n  [0.     7.0626 0.    ]\n  [0.     0.     7.0626]]\n\n [[7.0626 0.     0.    ]\n  [0.     7.0626 0.    ]\n  [0.     0.     7.0626]]\n\n [[7.0626 0.     0.    ]\n  [0.     7.0626 0.    ]\n  [0.     0.     7.0626]]\n\n [[7.0626 0.     0.    ]\n  [0.     7.0626 0.    ]\n  [0.     0.     7.0626]]\n\n [[7.0626 0.     0.    ]\n  [0.     7.0626 0.    ]\n  [0.     0.     7.0626]]\n\n [[7.0626 0.     0.    ]\n  [0.     7.0626 0.    ]\n  [0.     0.     7.0626]]\n\n [[7.0626 0.     0.    ]\n  [0.     7.0626 0.    ]\n  [0.     0.     7.0626]]\n\n [[7.0626 0.     0.    ]\n  [0.     7.0626 0.    ]\n  [0.     0.     7.0626]]\n\n [[7.0626 0.     0.    ]\n  [0.     7.0626 0.    ]\n  [0.     0.     7.0626]]\n\n [[7.0626 0.     0.    ]\n  [0.     7.0626 0.    ]\n  [0.     0.     7.0626]]\n\n [[7.0626 0.     0.    ]\n  [0.     7.0626 0.    ]\n  [0.     0.     7.0626]]\n\n [[7.0626 0.     0.    ]\n  [0.     7.0626 0.    ]\n  [0.     0.     7.0626]]\n\n [[7.0626 0.     0.    ]\n  [0.     7.0626 0.    ]\n  [0.     0.     7.0626]]\n\n [[7.0626 0.     0.    ]\n  [0.     7.0626 0.    ]\n  [0.     0.     7.0626]]\n\n [[7.0626 0.     0.    ]\n  [0.     7.0626 0.    ]\n  [0.     0.     7.0626]]\n\n [[7.0626 0.     0.    ]\n  [0.     7.0626 0.    ]\n  [0.     0.     7.0626]]\n\n [[7.0626 0.     0.    ]\n  [0.     7.0626 0.    ]\n  [0.     0.     7.0626]]\n\n [[7.0626 0.     0.    ]\n  [0.     7.0626 0.    ]\n  [0.     0.     7.0626]]\n\n [[7.0626 0.     0.    ]\n  [0.     7.0626 0.    ]\n  [0.     0.     7.0626]]\n\n [[7.0626 0.     0.    ]\n  [0.     7.0626 0.    ]\n  [0.     0.     7.0626]]\n\n [[7.0626 0.     0.    ]\n  [0.     7.0626 0.    ]\n  [0.     0.     7.0626]]\n\n [[7.0626 0.     0.    ]\n  [0.     7.0626 0.    ]\n  [0.     0.     7.0626]]\n\n [[7.0626 0.     0.    ]\n  [0.     7.0626 0.    ]\n  [0.     0.     7.0626]]\n\n [[7.0626 0.     0.    ]\n  [0.     7.0626 0.    ]\n  [0.     0.     7.0626]]\n\n [[7.0626 0.     0.    ]\n  [0.     7.0626 0.    ]\n  [0.     0.     7.0626]]\n\n [[7.0626 0.     0.    ]\n  [0.     7.0626 0.    ]\n  [0.     0.     7.0626]]\n\n [[7.0626 0.     0.    ]\n  [0.     7.0626 0.    ]\n  [0.     0.     7.0626]]\n\n [[7.0626 0.     0.    ]\n  [0.     7.0626 0.    ]\n  [0.     0.     7.0626]]\n\n [[7.0626 0.     0.    ]\n  [0.     7.0626 0.    ]\n  [0.     0.     7.0626]]\n\n [[7.0626 0.     0.    ]\n  [0.     7.0626 0.    ]\n  [0.     0.     7.0626]]\n\n [[7.0626 0.     0.    ]\n  [0.     7.0626 0.    ]\n  [0.     0.     7.0626]]\n\n [[7.0626 0.     0.    ]\n  [0.     7.0626 0.    ]\n  [0.     0.     7.0626]]]"
     ]
    }
   ],
   "source": [
    "traj = md.Trajectory(np.array(neq_old), old_top)\n",
    "box_vectors = np.array([val.value_in_unit_system(unit.md_unit_system) for val in htf.hybrid_system.getDefaultPeriodicBoxVectors()])\n",
    "vectors = np.array([box_vectors]) \n",
    "traj.unitcell_vectors = np.repeat(vectors, 100, axis=0)\n",
    "traj = traj.image_molecules()\n",
    "traj.save(os.path.join(outdir, f\"{i}_{phase}_{cycle}_forward_neq_old.dcd\"))"
   ]
  },
  {
   "cell_type": "code",
   "execution_count": 73,
   "id": "thrown-address",
   "metadata": {},
   "outputs": [],
   "source": [
    "traj[0].save(os.path.join(outdir, f\"{i}_{phase}_{cycle}_forward_old.pdb\"))"
   ]
  },
  {
   "cell_type": "code",
   "execution_count": 64,
   "id": "sticky-memphis",
   "metadata": {},
   "outputs": [],
   "source": [
    "traj = md.Trajectory(np.array(neq_reverse_old), old_top)\n",
    "box_vectors = np.array([val.value_in_unit_system(unit.md_unit_system) for val in htf.hybrid_system.getDefaultPeriodicBoxVectors()])\n",
    "vectors = np.array([box_vectors]) \n",
    "traj.unitcell_vectors = np.repeat(vectors, 1, axis=0)\n",
    "traj = traj.image_molecules()\n",
    "traj.save(os.path.join(outdir, f\"{i}_{phase}_{cycle}_reverse_neq_old.dcd\"))"
   ]
  },
  {
   "cell_type": "code",
   "execution_count": 65,
   "id": "final-winter",
   "metadata": {},
   "outputs": [],
   "source": [
    "traj[-1].save(os.path.join(outdir, f\"{i}_{phase}_{cycle}_old.pdb\"))"
   ]
  },
  {
   "cell_type": "code",
   "execution_count": 66,
   "id": "auburn-recognition",
   "metadata": {},
   "outputs": [],
   "source": [
    "traj.xyz = traj.xyz[::-1]\n",
    "traj.save(os.path.join(outdir, f\"{i}_{phase}_{cycle}_reverse_neq_old_reversed.dcd\"))"
   ]
  },
  {
   "cell_type": "code",
   "execution_count": null,
   "id": "0f5fd02f",
   "metadata": {},
   "outputs": [],
   "source": []
  },
  {
   "cell_type": "code",
   "execution_count": null,
   "id": "6f4c1d10",
   "metadata": {},
   "outputs": [],
   "source": []
  },
  {
   "cell_type": "code",
   "execution_count": 46,
   "id": "sealed-shuttle",
   "metadata": {},
   "outputs": [],
   "source": [
    "with open(os.path.join(outdir, f\"{i}_{phase}_{cycle}_forward_neq_new_water.npy\"), 'rb') as f:\n",
    "    neq_new = np.load(f)"
   ]
  },
  {
   "cell_type": "code",
   "execution_count": 47,
   "id": "ongoing-outdoors",
   "metadata": {},
   "outputs": [],
   "source": [
    "with open(os.path.join(outdir, f\"{i}_{phase}_{cycle}_reverse_neq_new_water.npy\"), 'rb') as f:\n",
    "    neq_reverse_new = np.load(f)"
   ]
  },
  {
   "cell_type": "code",
   "execution_count": 48,
   "id": "marine-transsexual",
   "metadata": {},
   "outputs": [],
   "source": [
    "modeller = app.Modeller(htf._topology_proposal.new_topology, htf.new_positions(htf.hybrid_positions))\n",
    "# modeller.deleteWater()"
   ]
  },
  {
   "cell_type": "code",
   "execution_count": 49,
   "id": "accepting-owner",
   "metadata": {},
   "outputs": [],
   "source": [
    "top = md.Topology.from_openmm(modeller.topology)"
   ]
  },
  {
   "cell_type": "code",
   "execution_count": 50,
   "id": "according-bridges",
   "metadata": {},
   "outputs": [],
   "source": [
    "traj = md.Trajectory(np.array(neq_new), top)\n",
    "traj.save(os.path.join(outdir, f\"{i}_{phase}_{cycle}_forward_neq_new.dcd\"))"
   ]
  },
  {
   "cell_type": "code",
   "execution_count": 51,
   "id": "multiple-czech",
   "metadata": {},
   "outputs": [],
   "source": [
    "traj[-1].save(os.path.join(outdir, f\"{i}_{phase}_{cycle}_forward_new.pdb\"))"
   ]
  },
  {
   "cell_type": "code",
   "execution_count": 52,
   "id": "religious-kansas",
   "metadata": {},
   "outputs": [],
   "source": [
    "traj = md.Trajectory(np.array(neq_reverse_new), top)\n",
    "traj.save(os.path.join(outdir, f\"{i}_{phase}_{cycle}_reverse_neq_new.dcd\"))"
   ]
  },
  {
   "cell_type": "code",
   "execution_count": 53,
   "id": "informed-parent",
   "metadata": {},
   "outputs": [],
   "source": [
    "traj[0].save(os.path.join(outdir, f\"{i}_{phase}_{cycle}_new.pdb\"))"
   ]
  },
  {
   "cell_type": "code",
   "execution_count": 54,
   "id": "czech-amino",
   "metadata": {},
   "outputs": [],
   "source": [
    "traj = md.Trajectory(np.array(neq_reverse_new), top)\n",
    "traj.xyz = traj.xyz[::-1]\n",
    "traj.save(os.path.join(outdir, f\"{i}_{phase}_{cycle}_reverse_neq_new_reversed.dcd\"))"
   ]
  },
  {
   "cell_type": "code",
   "execution_count": null,
   "id": "other-copyright",
   "metadata": {},
   "outputs": [],
   "source": []
  }
 ],
 "metadata": {
  "kernelspec": {
   "display_name": "Python 3 (ipykernel)",
   "language": "python",
   "name": "python3"
  },
  "language_info": {
   "codemirror_mode": {
    "name": "ipython",
    "version": 3
   },
   "file_extension": ".py",
   "mimetype": "text/x-python",
   "name": "python",
   "nbconvert_exporter": "python",
   "pygments_lexer": "ipython3",
   "version": "3.9.6"
  }
 },
 "nbformat": 4,
 "nbformat_minor": 5
}
