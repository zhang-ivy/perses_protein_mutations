{
 "cells": [
  {
   "cell_type": "markdown",
   "id": "c89fe63e",
   "metadata": {},
   "source": [
    "# Check rotamer angles for vanilla eq "
   ]
  },
  {
   "cell_type": "markdown",
   "id": "cdebf394",
   "metadata": {},
   "source": [
    "## T42A"
   ]
  },
  {
   "cell_type": "code",
   "execution_count": 1,
   "id": "37827294",
   "metadata": {},
   "outputs": [],
   "source": [
    "import mdtraj as md\n",
    "import numpy as np\n",
    "import pickle\n",
    "import os\n",
    "from tqdm import tqdm_notebook\n",
    "from simtk.openmm import app\n",
    "from simtk.openmm import unit\n",
    "import matplotlib.pyplot as plt\n",
    "from pymbar import timeseries"
   ]
  },
  {
   "cell_type": "code",
   "execution_count": 2,
   "id": "0fa445bb",
   "metadata": {},
   "outputs": [],
   "source": [
    "def new_positions(htf, hybrid_positions):\n",
    "    n_atoms_new = htf._topology_proposal.n_atoms_new\n",
    "    hybrid_indices = [htf._new_to_hybrid_map[idx] for idx in range(n_atoms_new)]\n",
    "    return hybrid_positions[hybrid_indices, :]\n",
    "\n",
    "def old_positions(htf, hybrid_positions):\n",
    "    n_atoms_old = htf._topology_proposal.n_atoms_old\n",
    "    hybrid_indices = [htf._old_to_hybrid_map[idx] for idx in range(n_atoms_old)]\n",
    "    return hybrid_positions[hybrid_indices, :]\n",
    "\n",
    "def get_dihedrals(i, name, length, out_dir, htf, dihedral_indices_new_all, dihedral_indices_old_all):\n",
    "    new_top = md.Topology.from_openmm(htf._topology_proposal.new_topology)\n",
    "    old_top = md.Topology.from_openmm(htf._topology_proposal.old_topology)\n",
    "\n",
    "    # From Hannah: https://github.com/hannahbrucemacdonald/endstate_pdbs/blob/master/scripts/input_for_pol_calc.py\n",
    "    from perses.analysis.utils import open_netcdf\n",
    "    nc = open_netcdf(os.path.join(out_dir, f\"{i}_{phase}_{name.lower()}_{length}ns.nc\"))\n",
    "    nc_checkpoint = open_netcdf(os.path.join(out_dir, f\"{i}_{phase}_{name.lower()}_{length}ns_checkpoint.nc\"))\n",
    "    checkpoint_interval = nc_checkpoint.CheckpointInterval\n",
    "    all_positions = nc_checkpoint.variables['positions']\n",
    "    n_iter, n_replicas, n_atoms, _ = np.shape(all_positions)\n",
    "    box_vectors = np.array(nc_checkpoint['box_vectors'])\n",
    "\n",
    "    from tqdm import tqdm\n",
    "    all_pos_new = np.zeros(shape=(n_iter, new_top.n_atoms, 3))\n",
    "    all_pos_old = np.zeros(shape=(n_iter, old_top.n_atoms, 3))\n",
    "    all_pos_hybrid = np.zeros(shape=(n_iter, n_atoms, 3))\n",
    "    for iteration in tqdm(range(n_iter)):\n",
    "        # replica_id = np.where(nc.variables['states'][iteration*checkpoint_interval] == 0)[0]\n",
    "        replica_id = 0\n",
    "        pos = all_positions[iteration,replica_id,:,:] *unit.nanometers\n",
    "        all_pos_new[iteration] = new_positions(htf, pos).value_in_unit_system(unit.md_unit_system) # Get new positions only\n",
    "        all_pos_hybrid[iteration] = pos # Get hybrid positions\n",
    "        all_pos_old[iteration] = old_positions(htf, pos).value_in_unit_system(unit.md_unit_system)\n",
    "    \n",
    "    dihedrals_all = []\n",
    "    for pos, top, dihedral_indices_list in zip([all_pos_new, all_pos_old], [new_top, old_top], [dihedral_indices_new_all, dihedral_indices_old_all]):\n",
    "        traj = md.Trajectory(np.array(pos), top)\n",
    "        dihedrals_sublist = []\n",
    "        for dihedral_indices in dihedral_indices_list:\n",
    "            dihedral_angles = md.compute_dihedrals(traj, np.array([dihedral_indices]))\n",
    "            dihedrals_sublist.append(dihedral_angles)\n",
    "        dihedrals_all.append(dihedrals_sublist)\n",
    "\n",
    "    return dihedrals_all, n_iter, all_pos_hybrid, box_vectors\n",
    "\n",
    "def plot_time_series(dihedrals, n_iter, outfile):\n",
    "    plt.scatter(range(n_iter), dihedrals)\n",
    "    plt.ylabel(\"dihedral\")\n",
    "    plt.xlabel(\"iteration number\")\n",
    "    plt.ylim(-np.pi, np.pi)\n",
    "    plt.show()\n",
    "#     plt.savefig(outfile, dpi=300)\n",
    "#     plt.close()\n",
    "\n",
    "def make_traj(outdir, htf, i, phase, name, endstate, is_old=True, keep_solvent=False):\n",
    "    with open(os.path.join(outdir, f\"{i}_{phase}_{name}_1ns_snapshots.npy\"), \"rb\") as f:\n",
    "        cache = np.load(f)\n",
    "    if is_old:\n",
    "        old_pos = np.zeros(shape=(100, htf._topology_proposal.old_topology.getNumAtoms(), 3))\n",
    "        for j, pos in tqdm_notebook(enumerate(cache)):\n",
    "            old_pos[j] = old_positions(unit.Quantity(pos, unit=unit.nanometers)).value_in_unit_system(unit.md_unit_system)\n",
    "        \n",
    "        traj = md.Trajectory(old_pos, md.Topology.from_openmm(htf._topology_proposal.old_topology))\n",
    "    else:\n",
    "        new_pos = np.zeros(shape=(100, htf._topology_proposal.new_topology.getNumAtoms(), 3))\n",
    "        for j, pos in tqdm_notebook(enumerate(cache)):\n",
    "            new_pos[j] = new_positions(unit.Quantity(pos, unit=unit.nanometers)).value_in_unit_system(unit.md_unit_system)\n",
    "        \n",
    "        traj = md.Trajectory(new_pos, md.Topology.from_openmm(htf._topology_proposal.new_topology))\n",
    "        \n",
    "    box_vectors = np.array([val.value_in_unit_system(unit.md_unit_system) for val in htf.hybrid_system.getDefaultPeriodicBoxVectors()])\n",
    "    vectors = np.array([box_vectors]) \n",
    "           \n",
    "    # Set unit cell vectors in traj \n",
    "    traj.unitcell_vectors = np.repeat(vectors, 100, axis=0)\n",
    "    traj.image_molecules(inplace=True)\n",
    "    \n",
    "    if not keep_solvent:\n",
    "        traj = traj.remove_solvent(exclude=['Na+', 'Cl-'])\n",
    "    \n",
    "    return traj\n",
    "       "
   ]
  },
  {
   "cell_type": "markdown",
   "id": "0f9cef52",
   "metadata": {},
   "source": [
    "## T42A complex -- rest cache"
   ]
  },
  {
   "cell_type": "code",
   "execution_count": 3,
   "id": "b8cbc7dc",
   "metadata": {},
   "outputs": [],
   "source": [
    "outdir = \"/data/chodera/zhangi/perses_benchmark/neq/22/24/\"\n",
    "i = 24\n",
    "phase = 'complex'\n",
    "htf = pickle.load(open(os.path.join(outdir, f\"{i}_{phase}.pickle\"), \"rb\"))"
   ]
  },
  {
   "cell_type": "code",
   "execution_count": 36,
   "id": "27ebb731",
   "metadata": {},
   "outputs": [],
   "source": [
    "resid = '42'\n",
    "name = 'THR'\n",
    "length = 2"
   ]
  },
  {
   "cell_type": "code",
   "execution_count": 39,
   "id": "3cdb76af",
   "metadata": {},
   "outputs": [
    {
     "name": "stderr",
     "output_type": "stream",
     "text": [
      "100%|█| 2001/2001 [00:40<00:00, \n"
     ]
    }
   ],
   "source": [
    "# Get old and new res objects\n",
    "for res in htf._topology_proposal.old_topology.residues():\n",
    "    if res.id == resid and res.chain.index == 0:\n",
    "        residue_old = res\n",
    "for res in htf._topology_proposal.new_topology.residues():\n",
    "    if res.id == resid and res.chain.index == 0:\n",
    "        residue_new = res\n",
    "\n",
    "# Get atom names in old and new residues\n",
    "names_old = [atom.name for atom in residue_old.atoms()]\n",
    "names_new = [atom.name for atom in residue_new.atoms()]\n",
    "\n",
    "# Get mapping from atom name to index in old and new residues\n",
    "d_old = {atom.name : atom.index for atom in residue_old.atoms()}\n",
    "d_new = {atom.name : atom.index for atom in residue_new.atoms()}\n",
    "\n",
    "# Get lists of dihedral angles \n",
    "indices_old_all, indices_new_all = list(), list()\n",
    "for angle_type in [md.geometry.dihedral.CHI1_ATOMS, \n",
    "                   md.geometry.dihedral.CHI2_ATOMS,\n",
    "                   md.geometry.dihedral.CHI3_ATOMS,\n",
    "                   md.geometry.dihedral.CHI4_ATOMS,\n",
    "                   md.geometry.dihedral.CHI5_ATOMS]:\n",
    "    for dihedral_list in angle_type:\n",
    "        if all(atom_name in names_old for atom_name in dihedral_list):\n",
    "            indices_old_all.append([d_old[atom_name] for atom_name in dihedral_list])\n",
    "        if all(atom_name in names_new for atom_name in dihedral_list):\n",
    "            indices_new_all.append([d_new[atom_name] for atom_name in dihedral_list])\n",
    "\n",
    "dihedrals, n_iter, all_pos_hybrid, box_vectors = get_dihedrals(i, name, length, outdir, htf, indices_new_all, indices_old_all)\n",
    "\n"
   ]
  },
  {
   "cell_type": "code",
   "execution_count": 45,
   "id": "4abc561f",
   "metadata": {
    "scrolled": true
   },
   "outputs": [
    {
     "data": {
      "image/png": "[encoded data removed]",
      "text/plain": [
       "<Figure size 432x288 with 1 Axes>"
      ]
     },
     "metadata": {
      "needs_background": "light"
     },
     "output_type": "display_data"
    },
    {
     "name": "stdout",
     "output_type": "stream",
     "text": [
      "2.2475594254344453\n"
     ]
    }
   ],
   "source": [
    "# Plot old dihedrals\n",
    "for angles in dihedrals[1]:\n",
    "    plot_time_series(angles, n_iter, os.path.join(outdir, f\"{i}_{phase}_{name.lower()}_{length}ns__timeseries.png\"))\n",
    "    print(timeseries.statisticalInefficiency(angles))\n"
   ]
  },
  {
   "cell_type": "markdown",
   "id": "4fba0921",
   "metadata": {},
   "source": [
    "## T42A complex -- eq"
   ]
  },
  {
   "cell_type": "code",
   "execution_count": 68,
   "id": "605a7459",
   "metadata": {},
   "outputs": [],
   "source": [
    "def make_neq_traj(outdir, htf, i, cycle, phase, is_old=True, keep_solvent=True):\n",
    "    name = 'old' if is_old else 'new'\n",
    "    topology = htf._topology_proposal.old_topology if is_old else htf._topology_proposal.new_topology\n",
    "    positions = htf.old_positions(htf.hybrid_positions) if is_old else htf.new_positions(htf.hybrid_positions)\n",
    "    modeller = app.Modeller(topology, positions)\n",
    "    modeller.deleteWater()\n",
    "    n_atoms = modeller.topology.getNumAtoms()\n",
    "    \n",
    "    snapshots = np.zeros((2000, n_atoms, 3))\n",
    "    with open(os.path.join(outdir, f\"{i}_{phase}_{cycle}_forward_eq_{name}.npy\"), \"rb\") as f:\n",
    "        snapshots = np.load(f)\n",
    "            \n",
    "    traj = md.Trajectory(snapshots, md.Topology.from_openmm(modeller.topology))\n",
    "    \n",
    "    return traj\n",
    "       "
   ]
  },
  {
   "cell_type": "code",
   "execution_count": 56,
   "id": "a7e36a0c",
   "metadata": {},
   "outputs": [],
   "source": [
    "outdir = \"/data/chodera/zhangi/perses_benchmark/neq/23/10/\"\n",
    "i = 10\n",
    "phase = 'complex'\n",
    "is_old = True\n",
    "cycle = 0\n",
    "htf = pickle.load(open(os.path.join(outdir, f\"{i}_{phase}.pickle\"), \"rb\"))"
   ]
  },
  {
   "cell_type": "code",
   "execution_count": 69,
   "id": "15ba37c4",
   "metadata": {},
   "outputs": [],
   "source": [
    "traj = make_neq_traj(outdir, htf, i, cycle, phase, is_old=is_old)"
   ]
  },
  {
   "cell_type": "code",
   "execution_count": 77,
   "id": "f460fbe5",
   "metadata": {},
   "outputs": [],
   "source": [
    "def get_dihedrals(traj, dihedral_indices_new_all, dihedral_indices_old_all):\n",
    "    n_iter = traj.xyz.shape[0]\n",
    "    \n",
    "    dihedrals_all = []\n",
    "    for dihedral_indices_list in [dihedral_indices_new_all, dihedral_indices_old_all]:\n",
    "        dihedrals_sublist = []\n",
    "        for dihedral_indices in dihedral_indices_list:\n",
    "            dihedral_angles = md.compute_dihedrals(traj, np.array([dihedral_indices]))\n",
    "            dihedrals_sublist.append(dihedral_angles)\n",
    "        dihedrals_all.append(dihedrals_sublist)\n",
    "\n",
    "    return dihedrals_all, n_iter"
   ]
  },
  {
   "cell_type": "code",
   "execution_count": 78,
   "id": "d7a19e39",
   "metadata": {},
   "outputs": [],
   "source": [
    "dihedrals, n_iter = get_dihedrals(traj, indices_new_all, indices_old_all)\n",
    "\n"
   ]
  },
  {
   "cell_type": "code",
   "execution_count": 79,
   "id": "88bbb0f0",
   "metadata": {
    "scrolled": true
   },
   "outputs": [
    {
     "data": {
      "image/png": "[encoded data removed]",
      "text/plain": [
       "<Figure size 432x288 with 1 Axes>"
      ]
     },
     "metadata": {
      "needs_background": "light"
     },
     "output_type": "display_data"
    },
    {
     "name": "stdout",
     "output_type": "stream",
     "text": [
      "2.044916825198289\n"
     ]
    }
   ],
   "source": [
    "# Plot old dihedrals\n",
    "for angles in dihedrals[1]:\n",
    "    plot_time_series(angles, n_iter, os.path.join(outdir, f\"{i}_{phase}_{name.lower()}_{length}ns__timeseries.png\"))\n",
    "    print(timeseries.statisticalInefficiency(angles))\n"
   ]
  },
  {
   "cell_type": "code",
   "execution_count": null,
   "id": "1b8fbf60",
   "metadata": {},
   "outputs": [],
   "source": []
  },
  {
   "cell_type": "markdown",
   "id": "0ffd49fd",
   "metadata": {},
   "source": [
    "## T42A apo -- eq"
   ]
  },
  {
   "cell_type": "code",
   "execution_count": 80,
   "id": "35329677",
   "metadata": {},
   "outputs": [],
   "source": [
    "outdir = \"/data/chodera/zhangi/perses_benchmark/neq/23/10/\"\n",
    "i = 10\n",
    "phase = 'apo'\n",
    "is_old = True\n",
    "cycle = 0\n",
    "htf = pickle.load(open(os.path.join(outdir, f\"{i}_{phase}.pickle\"), \"rb\"))"
   ]
  },
  {
   "cell_type": "code",
   "execution_count": 81,
   "id": "667279dd",
   "metadata": {},
   "outputs": [],
   "source": [
    "traj = make_neq_traj(outdir, htf, i, cycle, phase, is_old=is_old)"
   ]
  },
  {
   "cell_type": "code",
   "execution_count": 82,
   "id": "c1e80de8",
   "metadata": {},
   "outputs": [],
   "source": [
    "# Get old and new res objects\n",
    "for res in htf._topology_proposal.old_topology.residues():\n",
    "    if res.id == resid and res.chain.index == 0:\n",
    "        residue_old = res\n",
    "for res in htf._topology_proposal.new_topology.residues():\n",
    "    if res.id == resid and res.chain.index == 0:\n",
    "        residue_new = res\n",
    "\n",
    "# Get atom names in old and new residues\n",
    "names_old = [atom.name for atom in residue_old.atoms()]\n",
    "names_new = [atom.name for atom in residue_new.atoms()]\n",
    "\n",
    "# Get mapping from atom name to index in old and new residues\n",
    "d_old = {atom.name : atom.index for atom in residue_old.atoms()}\n",
    "d_new = {atom.name : atom.index for atom in residue_new.atoms()}\n",
    "\n",
    "# Get lists of dihedral angles \n",
    "indices_old_all, indices_new_all = list(), list()\n",
    "for angle_type in [md.geometry.dihedral.CHI1_ATOMS, \n",
    "                   md.geometry.dihedral.CHI2_ATOMS,\n",
    "                   md.geometry.dihedral.CHI3_ATOMS,\n",
    "                   md.geometry.dihedral.CHI4_ATOMS,\n",
    "                   md.geometry.dihedral.CHI5_ATOMS]:\n",
    "    for dihedral_list in angle_type:\n",
    "        if all(atom_name in names_old for atom_name in dihedral_list):\n",
    "            indices_old_all.append([d_old[atom_name] for atom_name in dihedral_list])\n",
    "        if all(atom_name in names_new for atom_name in dihedral_list):\n",
    "            indices_new_all.append([d_new[atom_name] for atom_name in dihedral_list])\n",
    "\n",
    "\n",
    "dihedrals, n_iter = get_dihedrals(traj, indices_new_all, indices_old_all)\n",
    "\n"
   ]
  },
  {
   "cell_type": "code",
   "execution_count": 83,
   "id": "c0a68817",
   "metadata": {
    "scrolled": false
   },
   "outputs": [
    {
     "data": {
      "image/png": "[encoded data removed]",
      "text/plain": [
       "<Figure size 432x288 with 1 Axes>"
      ]
     },
     "metadata": {
      "needs_background": "light"
     },
     "output_type": "display_data"
    },
    {
     "name": "stdout",
     "output_type": "stream",
     "text": [
      "8.548507018875995\n"
     ]
    }
   ],
   "source": [
    "# Plot old dihedrals\n",
    "for angles in dihedrals[1]:\n",
    "    plot_time_series(angles, n_iter, os.path.join(outdir, f\"{i}_{phase}_{name.lower()}_{length}ns__timeseries.png\"))\n",
    "    print(timeseries.statisticalInefficiency(angles))\n"
   ]
  },
  {
   "cell_type": "markdown",
   "id": "6648bd10",
   "metadata": {},
   "source": [
    "## T42A apo -- rest cache"
   ]
  },
  {
   "cell_type": "code",
   "execution_count": 5,
   "id": "dafe3b75",
   "metadata": {},
   "outputs": [],
   "source": [
    "outdir = \"/data/chodera/zhangi/perses_benchmark/neq/22/24/\"\n",
    "i = 24\n",
    "phase = 'apo'\n",
    "htf = pickle.load(open(os.path.join(outdir, f\"{i}_{phase}.pickle\"), \"rb\"))"
   ]
  },
  {
   "cell_type": "code",
   "execution_count": 6,
   "id": "2b01728e",
   "metadata": {},
   "outputs": [],
   "source": [
    "resid = '42'\n",
    "name = 'THR'\n",
    "length = 2"
   ]
  },
  {
   "cell_type": "code",
   "execution_count": 7,
   "id": "c1d18229",
   "metadata": {},
   "outputs": [
    {
     "name": "stderr",
     "output_type": "stream",
     "text": [
      "100%|█| 2001/2001 [00:15<00:00, 130.29it\n"
     ]
    }
   ],
   "source": [
    "# Get old and new res objects\n",
    "for res in htf._topology_proposal.old_topology.residues():\n",
    "    if res.id == resid and res.chain.index == 0:\n",
    "        residue_old = res\n",
    "for res in htf._topology_proposal.new_topology.residues():\n",
    "    if res.id == resid and res.chain.index == 0:\n",
    "        residue_new = res\n",
    "\n",
    "# Get atom names in old and new residues\n",
    "names_old = [atom.name for atom in residue_old.atoms()]\n",
    "names_new = [atom.name for atom in residue_new.atoms()]\n",
    "\n",
    "# Get mapping from atom name to index in old and new residues\n",
    "d_old = {atom.name : atom.index for atom in residue_old.atoms()}\n",
    "d_new = {atom.name : atom.index for atom in residue_new.atoms()}\n",
    "\n",
    "# Get lists of dihedral angles \n",
    "indices_old_all, indices_new_all = list(), list()\n",
    "for angle_type in [md.geometry.dihedral.CHI1_ATOMS, \n",
    "                   md.geometry.dihedral.CHI2_ATOMS,\n",
    "                   md.geometry.dihedral.CHI3_ATOMS,\n",
    "                   md.geometry.dihedral.CHI4_ATOMS,\n",
    "                   md.geometry.dihedral.CHI5_ATOMS]:\n",
    "    for dihedral_list in angle_type:\n",
    "        if all(atom_name in names_old for atom_name in dihedral_list):\n",
    "            indices_old_all.append([d_old[atom_name] for atom_name in dihedral_list])\n",
    "        if all(atom_name in names_new for atom_name in dihedral_list):\n",
    "            indices_new_all.append([d_new[atom_name] for atom_name in dihedral_list])\n",
    "\n",
    "dihedrals, n_iter, all_pos_hybrid, box_vectors = get_dihedrals(i, name, length, outdir, htf, indices_new_all, indices_old_all)\n",
    "\n"
   ]
  },
  {
   "cell_type": "code",
   "execution_count": 8,
   "id": "1ab3ab1c",
   "metadata": {
    "scrolled": true
   },
   "outputs": [
    {
     "name": "stderr",
     "output_type": "stream",
     "text": [
      "DEBUG:matplotlib.font_manager:findfont: Matching sans\\-serif:style=normal:variant=normal:weight=normal:stretch=normal:size=10.0.\n",
      "DEBUG:matplotlib.font_manager:findfont: score(<Font 'cmb10' (cmb10.ttf) normal normal 400 normal>) = 10.05\n",
      "DEBUG:matplotlib.font_manager:findfont: score(<Font 'DejaVu Sans Mono' (DejaVuSansMono-Oblique.ttf) oblique normal 400 normal>) = 11.05\n",
      "DEBUG:matplotlib.font_manager:findfont: score(<Font 'STIXGeneral' (STIXGeneral.ttf) normal normal 400 normal>) = 10.05\n",
      "DEBUG:matplotlib.font_manager:findfont: score(<Font 'cmtt10' (cmtt10.ttf) normal normal 400 normal>) = 10.05\n",
      "DEBUG:matplotlib.font_manager:findfont: score(<Font 'DejaVu Sans Display' (DejaVuSansDisplay.ttf) normal normal 400 normal>) = 10.05\n",
      "DEBUG:matplotlib.font_manager:findfont: score(<Font 'STIXSizeFourSym' (STIXSizFourSymReg.ttf) normal normal 400 normal>) = 10.05\n",
      "DEBUG:matplotlib.font_manager:findfont: score(<Font 'cmss10' (cmss10.ttf) normal normal 400 normal>) = 10.05\n",
      "DEBUG:matplotlib.font_manager:findfont: score(<Font 'cmsy10' (cmsy10.ttf) normal normal 400 normal>) = 10.05\n",
      "DEBUG:matplotlib.font_manager:findfont: score(<Font 'DejaVu Serif' (DejaVuSerif.ttf) normal normal 400 normal>) = 10.05\n",
      "DEBUG:matplotlib.font_manager:findfont: score(<Font 'STIXSizeFourSym' (STIXSizFourSymBol.ttf) normal normal 700 normal>) = 10.335\n",
      "DEBUG:matplotlib.font_manager:findfont: score(<Font 'DejaVu Serif Display' (DejaVuSerifDisplay.ttf) normal normal 400 normal>) = 10.05\n",
      "DEBUG:matplotlib.font_manager:findfont: score(<Font 'STIXSizeThreeSym' (STIXSizThreeSymReg.ttf) normal normal 400 normal>) = 10.05\n",
      "DEBUG:matplotlib.font_manager:findfont: score(<Font 'STIXGeneral' (STIXGeneralItalic.ttf) italic normal 400 normal>) = 11.05\n",
      "DEBUG:matplotlib.font_manager:findfont: score(<Font 'STIXSizeOneSym' (STIXSizOneSymReg.ttf) normal normal 400 normal>) = 10.05\n",
      "DEBUG:matplotlib.font_manager:findfont: score(<Font 'DejaVu Sans Mono' (DejaVuSansMono-BoldOblique.ttf) oblique normal 700 normal>) = 11.335\n",
      "DEBUG:matplotlib.font_manager:findfont: score(<Font 'DejaVu Sans' (DejaVuSans-Oblique.ttf) oblique normal 400 normal>) = 1.05\n",
      "DEBUG:matplotlib.font_manager:findfont: score(<Font 'DejaVu Sans' (DejaVuSans-BoldOblique.ttf) oblique normal 700 normal>) = 1.335\n",
      "DEBUG:matplotlib.font_manager:findfont: score(<Font 'DejaVu Sans Mono' (DejaVuSansMono.ttf) normal normal 400 normal>) = 10.05\n",
      "DEBUG:matplotlib.font_manager:findfont: score(<Font 'STIXSizeTwoSym' (STIXSizTwoSymReg.ttf) normal normal 400 normal>) = 10.05\n",
      "DEBUG:matplotlib.font_manager:findfont: score(<Font 'cmr10' (cmr10.ttf) normal normal 400 normal>) = 10.05\n",
      "DEBUG:matplotlib.font_manager:findfont: score(<Font 'STIXNonUnicode' (STIXNonUniIta.ttf) italic normal 400 normal>) = 11.05\n",
      "DEBUG:matplotlib.font_manager:findfont: score(<Font 'STIXGeneral' (STIXGeneralBolIta.ttf) italic normal 700 normal>) = 11.335\n",
      "DEBUG:matplotlib.font_manager:findfont: score(<Font 'DejaVu Serif' (DejaVuSerif-Bold.ttf) normal normal 700 normal>) = 10.335\n",
      "DEBUG:matplotlib.font_manager:findfont: score(<Font 'DejaVu Serif' (DejaVuSerif-Italic.ttf) italic normal 400 normal>) = 11.05\n",
      "DEBUG:matplotlib.font_manager:findfont: score(<Font 'STIXNonUnicode' (STIXNonUniBolIta.ttf) italic normal 700 normal>) = 11.335\n",
      "DEBUG:matplotlib.font_manager:findfont: score(<Font 'STIXSizeTwoSym' (STIXSizTwoSymBol.ttf) normal normal 700 normal>) = 10.335\n",
      "DEBUG:matplotlib.font_manager:findfont: score(<Font 'DejaVu Serif' (DejaVuSerif-BoldItalic.ttf) italic normal 700 normal>) = 11.335\n",
      "DEBUG:matplotlib.font_manager:findfont: score(<Font 'STIXNonUnicode' (STIXNonUni.ttf) normal normal 400 normal>) = 10.05\n",
      "DEBUG:matplotlib.font_manager:findfont: score(<Font 'DejaVu Sans' (DejaVuSans-Bold.ttf) normal normal 700 normal>) = 0.33499999999999996\n",
      "DEBUG:matplotlib.font_manager:findfont: score(<Font 'STIXSizeOneSym' (STIXSizOneSymBol.ttf) normal normal 700 normal>) = 10.335\n",
      "DEBUG:matplotlib.font_manager:findfont: score(<Font 'DejaVu Sans Mono' (DejaVuSansMono-Bold.ttf) normal normal 700 normal>) = 10.335\n",
      "DEBUG:matplotlib.font_manager:findfont: score(<Font 'STIXSizeThreeSym' (STIXSizThreeSymBol.ttf) normal normal 700 normal>) = 10.335\n",
      "DEBUG:matplotlib.font_manager:findfont: score(<Font 'cmmi10' (cmmi10.ttf) normal normal 400 normal>) = 10.05\n",
      "DEBUG:matplotlib.font_manager:findfont: score(<Font 'STIXSizeFiveSym' (STIXSizFiveSymReg.ttf) normal normal 400 normal>) = 10.05\n",
      "DEBUG:matplotlib.font_manager:findfont: score(<Font 'DejaVu Sans' (DejaVuSans.ttf) normal normal 400 normal>) = 0.05\n",
      "DEBUG:matplotlib.font_manager:findfont: score(<Font 'STIXGeneral' (STIXGeneralBol.ttf) normal normal 700 normal>) = 10.335\n",
      "DEBUG:matplotlib.font_manager:findfont: score(<Font 'cmex10' (cmex10.ttf) normal normal 400 normal>) = 10.05\n",
      "DEBUG:matplotlib.font_manager:findfont: score(<Font 'STIXNonUnicode' (STIXNonUniBol.ttf) normal normal 700 normal>) = 10.335\n",
      "DEBUG:matplotlib.font_manager:findfont: score(<Font 'DejaVu Sans Mono' (DejaVuSansMono-Oblique.ttf) oblique normal 400 normal>) = 11.05\n",
      "DEBUG:matplotlib.font_manager:findfont: score(<Font 'DejaVu Sans Mono' (DejaVuSansMono-Bold.ttf) normal normal 700 normal>) = 10.335\n",
      "DEBUG:matplotlib.font_manager:findfont: score(<Font 'DejaVu Sans' (DejaVuSans-ExtraLight.ttf) normal normal 200 normal>) = 0.24\n",
      "DEBUG:matplotlib.font_manager:findfont: score(<Font 'STIX' (STIX-BoldItalic.otf) italic normal 700 normal>) = 11.335\n",
      "DEBUG:matplotlib.font_manager:findfont: score(<Font 'DejaVu Sans Mono' (DejaVuSansMono-BoldOblique.ttf) oblique normal 700 normal>) = 11.335\n",
      "DEBUG:matplotlib.font_manager:findfont: score(<Font 'Liberation Sans' (LiberationSans-BoldItalic.ttf) italic normal 700 normal>) = 11.335\n",
      "DEBUG:matplotlib.font_manager:findfont: score(<Font 'DejaVu Sans' (DejaVuSansCondensed.ttf) normal normal 400 condensed>) = 0.25\n",
      "DEBUG:matplotlib.font_manager:findfont: score(<Font 'DejaVu Sans' (DejaVuSans-BoldOblique.ttf) oblique normal 700 normal>) = 1.335\n",
      "DEBUG:matplotlib.font_manager:findfont: score(<Font 'DejaVu Sans' (DejaVuSans.ttf) normal normal 400 normal>) = 0.05\n",
      "DEBUG:matplotlib.font_manager:findfont: score(<Font 'Liberation Sans' (LiberationSans-Regular.ttf) normal normal 400 normal>) = 10.05\n",
      "DEBUG:matplotlib.font_manager:findfont: score(<Font 'STIX' (STIX-Regular.otf) normal normal 400 normal>) = 10.05\n",
      "DEBUG:matplotlib.font_manager:findfont: score(<Font 'Liberation Sans' (LiberationSans-Bold.ttf) normal normal 700 normal>) = 10.335\n",
      "DEBUG:matplotlib.font_manager:findfont: score(<Font 'STIX' (STIX-Italic.otf) italic normal 400 normal>) = 11.05\n",
      "DEBUG:matplotlib.font_manager:findfont: score(<Font 'DejaVu Sans' (DejaVuSans-Bold.ttf) normal normal 700 normal>) = 0.33499999999999996\n",
      "DEBUG:matplotlib.font_manager:findfont: score(<Font 'DejaVu Sans' (DejaVuSansCondensed-BoldOblique.ttf) oblique normal 700 condensed>) = 1.535\n",
      "DEBUG:matplotlib.font_manager:findfont: score(<Font 'DejaVu Sans' (DejaVuSansCondensed-Bold.ttf) normal normal 700 condensed>) = 0.5349999999999999\n",
      "DEBUG:matplotlib.font_manager:findfont: score(<Font 'DejaVu Sans' (DejaVuSansCondensed-Oblique.ttf) oblique normal 400 condensed>) = 1.25\n",
      "DEBUG:matplotlib.font_manager:findfont: score(<Font 'STIX' (STIX-Bold.otf) normal normal 700 normal>) = 10.335\n",
      "DEBUG:matplotlib.font_manager:findfont: score(<Font 'DejaVu Sans Mono' (DejaVuSansMono.ttf) normal normal 400 normal>) = 10.05\n",
      "DEBUG:matplotlib.font_manager:findfont: score(<Font 'DejaVu Sans' (DejaVuSans-Oblique.ttf) oblique normal 400 normal>) = 1.05\n",
      "DEBUG:matplotlib.font_manager:findfont: score(<Font 'Liberation Sans' (LiberationSans-Italic.ttf) italic normal 400 normal>) = 11.05\n",
      "DEBUG:matplotlib.font_manager:findfont: Matching sans\\-serif:style=normal:variant=normal:weight=normal:stretch=normal:size=10.0 to DejaVu Sans ('/home/zhangi/miniconda3/envs/perses-nonstandard-aa/lib/python3.9/site-packages/matplotlib/mpl-data/fonts/ttf/DejaVuSans.ttf') with score of 0.050000.\n"
     ]
    },
    {
     "data": {
      "image/png": "[encoded data removed]",
      "text/plain": [
       "<Figure size 432x288 with 1 Axes>"
      ]
     },
     "metadata": {
      "needs_background": "light"
     },
     "output_type": "display_data"
    },
    {
     "name": "stdout",
     "output_type": "stream",
     "text": [
      "24.910125776384202\n"
     ]
    }
   ],
   "source": [
    "# Plot old dihedrals\n",
    "for angles in dihedrals[1]:\n",
    "    plot_time_series(angles, n_iter, os.path.join(outdir, f\"{i}_{phase}_{name.lower()}_{length}ns__timeseries.png\"))\n",
    "    print(timeseries.statisticalInefficiency(angles))\n"
   ]
  },
  {
   "cell_type": "code",
   "execution_count": null,
   "id": "31a4ab80",
   "metadata": {},
   "outputs": [],
   "source": []
  }
 ],
 "metadata": {
  "kernelspec": {
   "display_name": "Python 3 (ipykernel)",
   "language": "python",
   "name": "python3"
  },
  "language_info": {
   "codemirror_mode": {
    "name": "ipython",
    "version": 3
   },
   "file_extension": ".py",
   "mimetype": "text/x-python",
   "name": "python",
   "nbconvert_exporter": "python",
   "pygments_lexer": "ipython3",
   "version": "3.9.6"
  }
 },
 "nbformat": 4,
 "nbformat_minor": 5
}
