{
 "cells": [
  {
   "cell_type": "code",
   "execution_count": 1,
   "id": "conservative-worthy",
   "metadata": {},
   "outputs": [],
   "source": [
    "import logging\n",
    "import pickle\n",
    "import numpy as np\n",
    "from openmmtools.integrators import PeriodicNonequilibriumIntegrator\n",
    "from simtk import unit, openmm\n",
    "import argparse\n",
    "import os\n",
    "import time\n",
    "import mdtraj as md\n",
    "from tqdm import tqdm_notebook\n",
    "from openmmtools.constants import kB\n",
    "\n",
    "# Set up logger\n",
    "_logger = logging.getLogger()\n",
    "_logger.setLevel(logging.INFO)\n",
    "\n"
   ]
  },
  {
   "cell_type": "code",
   "execution_count": 2,
   "id": "simplified-muscle",
   "metadata": {},
   "outputs": [],
   "source": [
    "outdir = \"/data/chodera/zhangi/perses_benchmark/neq/15/92/\"\n",
    "phase = 'apo'\n",
    "sim_number = 0\n",
    "old_aa_name = 'ala'\n",
    "new_aa_name = 'tyr'\n",
    "length = 1\n",
    "cache = 1\n",
    "cache_length = 1"
   ]
  },
  {
   "cell_type": "markdown",
   "id": "monetary-marathon",
   "metadata": {},
   "source": [
    "## Run neq integrator"
   ]
  },
  {
   "cell_type": "code",
   "execution_count": 3,
   "id": "north-medicaid",
   "metadata": {},
   "outputs": [],
   "source": [
    "# Define lambda functions\n",
    "x = 'lambda'\n",
    "inflection1, inflection2, inflection3, inflection4 = 0.2, 0.4, 0.6, 0.8\n",
    "DEFAULT_ALCHEMICAL_FUNCTIONS = {\n",
    "                             'lambda_sterics_core': x,\n",
    "                             'lambda_electrostatics_core': x,\n",
    "                             'lambda_sterics_insert': f\"select(step({x} - {inflection3}), select(step({x}-{inflection4}), 1, (1/{inflection1})*({x}-{inflection3})), 0.0)\",\n",
    "                             'lambda_sterics_delete': f\"select(step({x} - {inflection1}), select(step({x} - {inflection2}), 1, (1/{inflection1})*({x}-{inflection1})), 0.0)\",\n",
    "                             'lambda_electrostatics_insert': f\"select(step({x} - {inflection4}), (1/{inflection1}) * ({x} - {inflection4}), 0.0)\",\n",
    "                             'lambda_electrostatics_delete': f\"select(step({x} - {inflection1}), 1.0, (1/{inflection1})*{x})\",\n",
    "                             'lambda_bonds': x,\n",
    "                             'lambda_angles': x,\n",
    "                             'lambda_torsions': x}\n",
    "# Define simulation parameters\n",
    "nsteps_eq = 250000  \n",
    "nsteps_neq = 25000 # 100 ps\n",
    "neq_splitting='V R H O R V'\n",
    "timestep = 4.0 * unit.femtosecond\n",
    "platform_name = 'CUDA'\n",
    "cache_length = 1\n",
    "temperature = 298.0 * unit.kelvin\n",
    "kT = kB * temperature\n"
   ]
  },
  {
   "cell_type": "code",
   "execution_count": 4,
   "id": "amateur-profile",
   "metadata": {},
   "outputs": [],
   "source": [
    "# Read in vanilla htf\n",
    "i = os.path.basename(os.path.dirname(outdir))\n",
    "with open(os.path.join(outdir, f\"{i}_{phase}.pickle\"), 'rb') as f:\n",
    "    htf = pickle.load(f)\n",
    "\n",
    "\n"
   ]
  },
  {
   "cell_type": "code",
   "execution_count": 5,
   "id": "authentic-tablet",
   "metadata": {},
   "outputs": [],
   "source": [
    "# Read in lambda = 0 cache\n",
    "with open(os.path.join(outdir, f\"{i}_{phase}_{old_aa_name}_{cache_length}ns_snapshots.npy\"), 'rb') as f:\n",
    "    subset_pos = np.load(f)\n",
    "positions = subset_pos[sim_number]\n",
    "system = htf.hybrid_system\n",
    "\n",
    "# Read in lambda = 0 cache box vectors\n",
    "with open(os.path.join(outdir, f\"{i}_{phase}_{old_aa_name}_{cache_length}ns_box_vectors.npy\"), 'rb') as f:\n",
    "    subset_box_vectors = np.load(f)\n",
    "box_vectors = subset_box_vectors[sim_number][0]\n"
   ]
  },
  {
   "cell_type": "code",
   "execution_count": 6,
   "id": "separated-steam",
   "metadata": {},
   "outputs": [],
   "source": [
    "# Set up integrator\n",
    "integrator = PeriodicNonequilibriumIntegrator(DEFAULT_ALCHEMICAL_FUNCTIONS, nsteps_eq, nsteps_neq, neq_splitting, timestep=timestep, temperature=temperature)\n",
    "\n",
    "# Set up context\n",
    "platform = openmm.Platform.getPlatformByName(platform_name)\n",
    "if platform_name in ['CUDA', 'OpenCL']:\n",
    "    platform.setPropertyDefaultValue('Precision', 'mixed')\n",
    "if platform_name in ['CUDA']:\n",
    "    platform.setPropertyDefaultValue('DeterministicForces', 'true')\n",
    "context = openmm.Context(system, integrator, platform)\n",
    "context.setPeriodicBoxVectors(*box_vectors)\n",
    "context.setPositions(positions)\n",
    "context.setVelocitiesToTemperature(temperature)\n",
    "\n"
   ]
  },
  {
   "cell_type": "code",
   "execution_count": 7,
   "id": "overhead-bolivia",
   "metadata": {
    "scrolled": true
   },
   "outputs": [
    {
     "name": "stderr",
     "output_type": "stream",
     "text": [
      "<ipython-input-7-e3738206728a>:2: TqdmDeprecationWarning: This function will be removed in tqdm==5.0.0\n",
      "Please use `tqdm.notebook.tqdm` instead of `tqdm.tqdm_notebook`\n",
      "  for _ in tqdm_notebook(range(int(nsteps_eq / 250))):\n"
     ]
    },
    {
     "data": {
      "application/vnd.jupyter.widget-view+json": {
       "model_id": "ef54e488d41145d0bfcbd8c80c68e8cf",
       "version_major": 2,
       "version_minor": 0
      },
      "text/plain": [
       "  0%|          | 0/1000 [00:00<?, ?it/s]"
      ]
     },
     "metadata": {},
     "output_type": "display_data"
    }
   ],
   "source": [
    "# Run eq forward (0 -> 1)\n",
    "for _ in tqdm_notebook(range(int(nsteps_eq / 250))):\n",
    "    integrator.step(250)\n",
    "pos = context.getState(getPositions=True, enforcePeriodicBox=False).getPositions(asNumpy=True)\n",
    "\n"
   ]
  },
  {
   "cell_type": "code",
   "execution_count": 8,
   "id": "abstract-orchestra",
   "metadata": {},
   "outputs": [
    {
     "data": {
      "text/plain": [
       "False"
      ]
     },
     "execution_count": 8,
     "metadata": {},
     "output_type": "execute_result"
    }
   ],
   "source": [
    "array_sum = np.sum(pos)\n",
    "array_has_nan = np.isnan(array_sum)\n",
    "array_has_nan"
   ]
  },
  {
   "cell_type": "code",
   "execution_count": 9,
   "id": "nearby-shore",
   "metadata": {},
   "outputs": [
    {
     "name": "stderr",
     "output_type": "stream",
     "text": [
      "<ipython-input-9-41b56668e3ed>:6: TqdmDeprecationWarning: This function will be removed in tqdm==5.0.0\n",
      "Please use `tqdm.notebook.tqdm` instead of `tqdm.tqdm_notebook`\n",
      "  for _ in tqdm_notebook(range(int(nsteps_neq / 250))):\n"
     ]
    },
    {
     "data": {
      "application/vnd.jupyter.widget-view+json": {
       "model_id": "3f8a8cfaf4bb43f7a7f9fe8a58d193a7",
       "version_major": 2,
       "version_minor": 0
      },
      "text/plain": [
       "  0%|          | 0/100 [00:00<?, ?it/s]"
      ]
     },
     "metadata": {},
     "output_type": "display_data"
    }
   ],
   "source": [
    "# Run neq forward (0 -> 1)\n",
    "forward_works_master = list()\n",
    "forward_neq_old, forward_neq_new = list(), list()\n",
    "forward_works = [integrator.get_protocol_work(dimensionless=True)]\n",
    "all_pos = []\n",
    "for _ in tqdm_notebook(range(int(nsteps_neq / 250))):\n",
    "    integrator.step(250)\n",
    "    pos = context.getState(getPositions=True, enforcePeriodicBox=False).getPositions(asNumpy=True)\n",
    "    all_pos.append(pos)"
   ]
  },
  {
   "cell_type": "code",
   "execution_count": 10,
   "id": "written-component",
   "metadata": {},
   "outputs": [
    {
     "data": {
      "text/plain": [
       "False"
      ]
     },
     "execution_count": 10,
     "metadata": {},
     "output_type": "execute_result"
    }
   ],
   "source": [
    "array_sum = np.sum(all_pos)\n",
    "array_has_nan = np.isnan(array_sum)\n",
    "array_has_nan"
   ]
  },
  {
   "cell_type": "code",
   "execution_count": 11,
   "id": "assisted-section",
   "metadata": {},
   "outputs": [
    {
     "data": {
      "text/plain": [
       "False"
      ]
     },
     "execution_count": 11,
     "metadata": {},
     "output_type": "execute_result"
    }
   ],
   "source": [
    "pos = context.getState(getPositions=True, enforcePeriodicBox=False).getPositions(asNumpy=True)\n",
    "\n",
    "array_sum = np.sum(pos)\n",
    "array_has_nan = np.isnan(array_sum)\n",
    "array_has_nan\n"
   ]
  },
  {
   "cell_type": "code",
   "execution_count": 12,
   "id": "infrared-pathology",
   "metadata": {},
   "outputs": [],
   "source": [
    "# new_pos = []\n",
    "# for pos in all_pos:\n",
    "#     new_pos.append(htf.new_positions(pos))\n",
    "# new_pos = np.asarray(new_pos)\n",
    "# new_traj = md.Trajectory(new_pos, md.Topology.from_openmm(htf._topology_proposal.new_topology))\n",
    "# new_traj[0].save(\"debug_A501_cache_after_forward.pdb\")\n",
    "# new_traj.save(\"debug_A501_cache_after_forward.dcd\")"
   ]
  },
  {
   "cell_type": "code",
   "execution_count": 13,
   "id": "obvious-virtue",
   "metadata": {},
   "outputs": [],
   "source": [
    "context.setPeriodicBoxVectors(*box_vectors)\n",
    "context.setPositions(positions)\n",
    "context.setVelocitiesToTemperature(temperature)\n"
   ]
  },
  {
   "cell_type": "code",
   "execution_count": 43,
   "id": "dying-painting",
   "metadata": {},
   "outputs": [
    {
     "data": {
      "text/plain": [
       "array([4.25202131, 3.04196572, 2.05178237])"
      ]
     },
     "execution_count": 43,
     "metadata": {},
     "output_type": "execute_result"
    }
   ],
   "source": [
    "positions_unit[0]"
   ]
  },
  {
   "cell_type": "code",
   "execution_count": 45,
   "id": "wireless-banner",
   "metadata": {},
   "outputs": [],
   "source": [
    "positions_unit = np.zeros((44739, 3), )\n",
    "for i, pos in enumerate(positions):\n",
    "    positions_unit[i] = pos*unit.nanometer\n",
    "new_pos = np.asarray(htf.new_positions(positions_unit * unit.nanometer))\n",
    "new_traj = md.Trajectory(new_pos, md.Topology.from_openmm(htf._topology_proposal.new_topology))\n",
    "new_traj[0].save(\"debug_A501_cache_after_forward_after_setting_positions.pdb\")"
   ]
  },
  {
   "cell_type": "code",
   "execution_count": 14,
   "id": "wireless-constraint",
   "metadata": {},
   "outputs": [
    {
     "name": "stderr",
     "output_type": "stream",
     "text": [
      "<ipython-input-14-ba784ee5d7b8>:3: TqdmDeprecationWarning: This function will be removed in tqdm==5.0.0\n",
      "Please use `tqdm.notebook.tqdm` instead of `tqdm.tqdm_notebook`\n",
      "  for _ in tqdm_notebook(range(int(nsteps_eq / 250))):\n"
     ]
    },
    {
     "data": {
      "application/vnd.jupyter.widget-view+json": {
       "model_id": "0ca12a9be9754bc5aa80b1466e616c0a",
       "version_major": 2,
       "version_minor": 0
      },
      "text/plain": [
       "  0%|          | 0/1000 [00:00<?, ?it/s]"
      ]
     },
     "metadata": {},
     "output_type": "display_data"
    },
    {
     "ename": "OpenMMException",
     "evalue": "Particle coordinate is nan",
     "output_type": "error",
     "traceback": [
      "\u001b[0;31m----------------\u001b[0m",
      "\u001b[0;31mOpenMMException\u001b[0mTraceback (most recent call last)",
      "\u001b[0;32m<ipython-input-14-ba784ee5d7b8>\u001b[0m in \u001b[0;36m<module>\u001b[0;34m\u001b[0m\n\u001b[1;32m      2\u001b[0m \u001b[0mnew_pos_reverse_eq\u001b[0m \u001b[0;34m=\u001b[0m \u001b[0;34m[\u001b[0m\u001b[0;34m]\u001b[0m\u001b[0;34m\u001b[0m\u001b[0;34m\u001b[0m\u001b[0m\n\u001b[1;32m      3\u001b[0m \u001b[0;32mfor\u001b[0m \u001b[0m_\u001b[0m \u001b[0;32min\u001b[0m \u001b[0mtqdm_notebook\u001b[0m\u001b[0;34m(\u001b[0m\u001b[0mrange\u001b[0m\u001b[0;34m(\u001b[0m\u001b[0mint\u001b[0m\u001b[0;34m(\u001b[0m\u001b[0mnsteps_eq\u001b[0m \u001b[0;34m/\u001b[0m \u001b[0;36m250\u001b[0m\u001b[0;34m)\u001b[0m\u001b[0;34m)\u001b[0m\u001b[0;34m)\u001b[0m\u001b[0;34m:\u001b[0m\u001b[0;34m\u001b[0m\u001b[0;34m\u001b[0m\u001b[0m\n\u001b[0;32m----> 4\u001b[0;31m     \u001b[0mintegrator\u001b[0m\u001b[0;34m.\u001b[0m\u001b[0mstep\u001b[0m\u001b[0;34m(\u001b[0m\u001b[0;36m250\u001b[0m\u001b[0;34m)\u001b[0m\u001b[0;34m\u001b[0m\u001b[0;34m\u001b[0m\u001b[0m\n\u001b[0m\u001b[1;32m      5\u001b[0m     \u001b[0mpos\u001b[0m \u001b[0;34m=\u001b[0m \u001b[0mcontext\u001b[0m\u001b[0;34m.\u001b[0m\u001b[0mgetState\u001b[0m\u001b[0;34m(\u001b[0m\u001b[0mgetPositions\u001b[0m\u001b[0;34m=\u001b[0m\u001b[0;32mTrue\u001b[0m\u001b[0;34m,\u001b[0m \u001b[0menforcePeriodicBox\u001b[0m\u001b[0;34m=\u001b[0m\u001b[0;32mFalse\u001b[0m\u001b[0;34m)\u001b[0m\u001b[0;34m.\u001b[0m\u001b[0mgetPositions\u001b[0m\u001b[0;34m(\u001b[0m\u001b[0masNumpy\u001b[0m\u001b[0;34m=\u001b[0m\u001b[0;32mTrue\u001b[0m\u001b[0;34m)\u001b[0m\u001b[0;34m\u001b[0m\u001b[0;34m\u001b[0m\u001b[0m\n\u001b[1;32m      6\u001b[0m     \u001b[0mnew_pos_reverse_eq\u001b[0m\u001b[0;34m.\u001b[0m\u001b[0mappend\u001b[0m\u001b[0;34m(\u001b[0m\u001b[0mpos\u001b[0m\u001b[0;34m)\u001b[0m\u001b[0;34m\u001b[0m\u001b[0;34m\u001b[0m\u001b[0m\n",
      "\u001b[0;32m~/miniconda3/envs/perses-rbd-ace2/lib/python3.8/site-packages/simtk/openmm/openmm.py\u001b[0m in \u001b[0;36mstep\u001b[0;34m(self, steps)\u001b[0m\n\u001b[1;32m   4595\u001b[0m             \u001b[0mthe\u001b[0m \u001b[0mnumber\u001b[0m \u001b[0mof\u001b[0m \u001b[0mtime\u001b[0m \u001b[0msteps\u001b[0m \u001b[0mto\u001b[0m \u001b[0mtake\u001b[0m\u001b[0;34m\u001b[0m\u001b[0;34m\u001b[0m\u001b[0m\n\u001b[1;32m   4596\u001b[0m         \"\"\"\n\u001b[0;32m-> 4597\u001b[0;31m         \u001b[0;32mreturn\u001b[0m \u001b[0m_openmm\u001b[0m\u001b[0;34m.\u001b[0m\u001b[0mCustomIntegrator_step\u001b[0m\u001b[0;34m(\u001b[0m\u001b[0mself\u001b[0m\u001b[0;34m,\u001b[0m \u001b[0msteps\u001b[0m\u001b[0;34m)\u001b[0m\u001b[0;34m\u001b[0m\u001b[0;34m\u001b[0m\u001b[0m\n\u001b[0m\u001b[1;32m   4598\u001b[0m \u001b[0;34m\u001b[0m\u001b[0m\n\u001b[1;32m   4599\u001b[0m     \u001b[0;32mdef\u001b[0m \u001b[0mgetPerDofVariable\u001b[0m\u001b[0;34m(\u001b[0m\u001b[0mself\u001b[0m\u001b[0;34m,\u001b[0m \u001b[0;34m*\u001b[0m\u001b[0margs\u001b[0m\u001b[0;34m)\u001b[0m\u001b[0;34m:\u001b[0m\u001b[0;34m\u001b[0m\u001b[0;34m\u001b[0m\u001b[0m\n",
      "\u001b[0;31mOpenMMException\u001b[0m: Particle coordinate is nan"
     ]
    }
   ],
   "source": [
    "# Run eq reverse (1 -> 0)\n",
    "new_pos_reverse_eq = []\n",
    "for _ in tqdm_notebook(range(int(nsteps_eq / 250))):\n",
    "    integrator.step(250)\n",
    "    pos = context.getState(getPositions=True, enforcePeriodicBox=False).getPositions(asNumpy=True)\n",
    "    new_pos_reverse_eq.append(pos)\n",
    "\n"
   ]
  },
  {
   "cell_type": "code",
   "execution_count": null,
   "id": "regular-street",
   "metadata": {},
   "outputs": [],
   "source": [
    "array_sum = np.sum(new_pos_reverse_eq)\n",
    "array_has_nan = np.isnan(array_sum)\n",
    "array_has_nan\n"
   ]
  },
  {
   "cell_type": "code",
   "execution_count": null,
   "id": "norwegian-norwegian",
   "metadata": {},
   "outputs": [],
   "source": []
  }
 ],
 "metadata": {
  "kernelspec": {
   "display_name": "Python 3",
   "language": "python",
   "name": "python3"
  },
  "language_info": {
   "codemirror_mode": {
    "name": "ipython",
    "version": 3
   },
   "file_extension": ".py",
   "mimetype": "text/x-python",
   "name": "python",
   "nbconvert_exporter": "python",
   "pygments_lexer": "ipython3",
   "version": "3.8.6"
  }
 },
 "nbformat": 4,
 "nbformat_minor": 5
}
