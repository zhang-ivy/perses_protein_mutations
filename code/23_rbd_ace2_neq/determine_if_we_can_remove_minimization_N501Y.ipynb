{
 "cells": [
  {
   "cell_type": "code",
   "execution_count": 1,
   "id": "conservative-worthy",
   "metadata": {},
   "outputs": [],
   "source": [
    "import logging\n",
    "import pickle\n",
    "import numpy as np\n",
    "from openmmtools.integrators import PeriodicNonequilibriumIntegrator\n",
    "from simtk import unit, openmm\n",
    "import argparse\n",
    "import os\n",
    "import time\n",
    "import mdtraj as md\n",
    "from tqdm import tqdm\n",
    "from openmmtools.constants import kB\n",
    "\n",
    "# Set up logger\n",
    "_logger = logging.getLogger()\n",
    "_logger.setLevel(logging.INFO)\n",
    "\n"
   ]
  },
  {
   "cell_type": "code",
   "execution_count": 27,
   "id": "simplified-muscle",
   "metadata": {},
   "outputs": [],
   "source": [
    "outdir = \"/data/chodera/zhangi/perses_benchmark/neq/14/64/\"\n",
    "phase = 'complex'\n",
    "sim_number = 2\n",
    "old_aa_name = 'asn'\n",
    "new_aa_name = 'lys'\n",
    "length = 1\n",
    "cache = 1\n",
    "cache_length = 1"
   ]
  },
  {
   "cell_type": "markdown",
   "id": "sound-transparency",
   "metadata": {},
   "source": [
    "## Run vanilla MD"
   ]
  },
  {
   "cell_type": "code",
   "execution_count": 13,
   "id": "sunrise-eugene",
   "metadata": {},
   "outputs": [],
   "source": [
    "# from perses.annihilation.rest import RESTTopologyFactory"
   ]
  },
  {
   "cell_type": "code",
   "execution_count": 11,
   "id": "whole-married",
   "metadata": {},
   "outputs": [],
   "source": [
    "# with open(\"/data/chodera/zhangi/perses_benchmark/neq/14/64/64_complex_0.pickle\", \"rb\") as f:\n",
    "#     rhtf = pickle.load(f)"
   ]
  },
  {
   "cell_type": "code",
   "execution_count": 14,
   "id": "matched-saturday",
   "metadata": {},
   "outputs": [
    {
     "name": "stderr",
     "output_type": "stream",
     "text": [
      "<ipython-input-14-a96e2261c163>:8: DeprecationWarning: `np.int` is a deprecated alias for the builtin `int`. To silence this warning, use `int` by itself. Doing this will not modify any behavior and is safe. When replacing `np.int`, you may wish to use e.g. `np.int64` or `np.int32` to specify the precision. If you wish to review your current use, check the release note link for additional information.\n",
      "Deprecated in NumPy 1.20; for more details and guidance: https://numpy.org/devdocs/release/1.20.0-notes.html#deprecations\n",
      "  rest_atoms = list(md.compute_neighbors(traj, 0.5, query_indices, haystack_indices=solute_atoms)[0])\n",
      "INFO:REST:Added MonteCarloBarostat.\n",
      "INFO:REST:getDefaultPeriodicBoxVectors added to hybrid: [Quantity(value=Vec3(x=13.804333500000002, y=0.0, z=0.0), unit=nanometer), Quantity(value=Vec3(x=-4.601444128722184, y=13.014850568080696, z=0.0), unit=nanometer), Quantity(value=Vec3(x=-4.601444128722184, y=-6.507424496441187, z=11.271191673136768), unit=nanometer)]\n",
      "INFO:REST:No unknown forces.\n"
     ]
    }
   ],
   "source": [
    "# # Build REST factory\n",
    "# for res in rhtf.hybrid_topology.residues:\n",
    "#     if res.resSeq == 501 and res.chain.index == 0:\n",
    "#         mutated_res = res\n",
    "# query_indices = [atom.index for atom in mutated_res.atoms]\n",
    "# traj = md.Trajectory(np.array(rhtf.hybrid_positions), rhtf.hybrid_topology)\n",
    "# solute_atoms = list(traj.topology.select(\"is_protein\"))\n",
    "# rest_atoms = list(md.compute_neighbors(traj, 0.5, query_indices, haystack_indices=solute_atoms)[0])\n",
    "# factory = RESTTopologyFactory(rhtf.hybrid_system, solute_region=rest_atoms, use_dispersion_correction=True)\n",
    "\n",
    "# # Get REST system\n",
    "# REST_system = factory.REST_system"
   ]
  },
  {
   "cell_type": "code",
   "execution_count": 3,
   "id": "hazardous-routine",
   "metadata": {},
   "outputs": [],
   "source": [
    "i = os.path.basename(os.path.dirname(outdir))\n",
    "with open(os.path.join(\"/data/chodera/zhangi/perses_benchmark/neq/15/64/\", f\"{i}_{phase}.pickle\"), 'rb') as f:\n",
    "    htf = pickle.load(f)"
   ]
  },
  {
   "cell_type": "code",
   "execution_count": 3,
   "id": "outdoor-procedure",
   "metadata": {},
   "outputs": [],
   "source": [
    "# with open(\"rest_system.pickle\", \"rb\") as f:\n",
    "#     REST_system = pickle.load(f)"
   ]
  },
  {
   "cell_type": "code",
   "execution_count": 28,
   "id": "gothic-quick",
   "metadata": {},
   "outputs": [],
   "source": [
    "# Read in lambda = 0 cache\n",
    "i = os.path.basename(os.path.dirname(outdir))\n",
    "with open(os.path.join(outdir, f\"{i}_{phase}_{old_aa_name}_{cache_length}ns_snapshots.npy\"), 'rb') as f:\n",
    "    subset_pos = np.load(f)\n",
    "positions = subset_pos[sim_number]\n",
    "system = htf.hybrid_system\n",
    "# system = REST_system\n"
   ]
  },
  {
   "cell_type": "code",
   "execution_count": 53,
   "id": "bulgarian-segment",
   "metadata": {},
   "outputs": [],
   "source": [
    "# with open(\"rest_system.pickle\", \"wb\") as f:\n",
    "#     pickle.dump(REST_system, f)"
   ]
  },
  {
   "cell_type": "code",
   "execution_count": 29,
   "id": "announced-variable",
   "metadata": {},
   "outputs": [],
   "source": [
    "from openmmtools.integrators import LangevinIntegrator\n",
    "from perses.tests.utils import compute_potential_components\n",
    "\n",
    "# Define simulation parameters\n",
    "temperature = 298 * unit.kelvin\n",
    "collision_rate = 1.0 / unit.picoseconds\n",
    "nsteps = 10000\n",
    "timestep = 1.0 * unit.femtosecond\n",
    "platform_name = 'CUDA'\n",
    "integrator = LangevinIntegrator(temperature, collision_rate, timestep)\n",
    "\n",
    "kT = kB * temperature\n",
    "beta = 1.0/kT\n",
    "\n",
    "# Set up context\n",
    "platform = openmm.Platform.getPlatformByName(platform_name)\n",
    "if platform_name in ['CUDA', 'OpenCL']:\n",
    "    platform.setPropertyDefaultValue('Precision', 'mixed')\n",
    "if platform_name in ['CUDA']:\n",
    "    platform.setPropertyDefaultValue('DeterministicForces', 'true')\n",
    "context = openmm.Context(system, integrator, platform)\n",
    "context.setPeriodicBoxVectors(*system.getDefaultPeriodicBoxVectors())\n",
    "context.setPositions(positions)\n",
    "context.setVelocitiesToTemperature(temperature)\n",
    "\n",
    "# Minimize\n",
    "openmm.LocalEnergyMinimizer.minimize(context)\n"
   ]
  },
  {
   "cell_type": "code",
   "execution_count": 30,
   "id": "satisfied-richmond",
   "metadata": {},
   "outputs": [],
   "source": [
    "all_old = []\n",
    "pos = context.getState(getPositions=True, enforcePeriodicBox=False).getPositions(asNumpy=True)\n",
    "old_pos = np.asarray(htf.old_positions(pos))\n",
    "all_old.append(old_pos)"
   ]
  },
  {
   "cell_type": "code",
   "execution_count": 31,
   "id": "vanilla-banking",
   "metadata": {},
   "outputs": [
    {
     "name": "stderr",
     "output_type": "stream",
     "text": [
      "INFO:root:forward NEQ step: 0, potential energy: -3010600.997488915 kJ/mol\n",
      "INFO:root:forward NEQ step: 1, potential energy: -3003755.7059053485 kJ/mol\n",
      "INFO:root:forward NEQ step: 2, potential energy: -2993593.2367925267 kJ/mol\n",
      "INFO:root:forward NEQ step: 3, potential energy: -2981503.035334979 kJ/mol\n",
      "INFO:root:forward NEQ step: 4, potential energy: -2968707.204942686 kJ/mol\n",
      "INFO:root:forward NEQ step: 5, potential energy: -2955884.8905473133 kJ/mol\n",
      "INFO:root:forward NEQ step: 6, potential energy: -2943094.948810193 kJ/mol\n",
      "INFO:root:forward NEQ step: 7, potential energy: -2929960.1110249846 kJ/mol\n",
      "INFO:root:forward NEQ step: 8, potential energy: -2916019.4176000566 kJ/mol\n",
      "INFO:root:forward NEQ step: 9, potential energy: -2901078.965843988 kJ/mol\n"
     ]
    }
   ],
   "source": [
    "# Run equilibration\n",
    "for step in range(10):\n",
    "    integrator.step(1)\n",
    "    pos = context.getState(getPositions=True, enforcePeriodicBox=False).getPositions(asNumpy=True)\n",
    "    old_pos = np.asarray(htf.old_positions(pos))\n",
    "    all_old.append(old_pos)\n",
    "#     _logger.info(f'forward NEQ step: {step}, potential energy: {compute_potential_components(context, beta=beta)}')\n",
    "    _logger.info(f'forward NEQ step: {step}, potential energy: {context.getState(getEnergy=True).getPotentialEnergy()}')\n",
    "\n",
    "    "
   ]
  },
  {
   "cell_type": "code",
   "execution_count": 37,
   "id": "frequent-directory",
   "metadata": {},
   "outputs": [],
   "source": [
    "old_traj = md.Trajectory(all_old, md.Topology.from_openmm(htf._topology_proposal.old_topology))"
   ]
  },
  {
   "cell_type": "code",
   "execution_count": 38,
   "id": "sitting-scope",
   "metadata": {},
   "outputs": [],
   "source": [
    "old_traj[0].save(f\"check_{sim_number}_min.pdb\")"
   ]
  },
  {
   "cell_type": "code",
   "execution_count": 39,
   "id": "wicked-index",
   "metadata": {},
   "outputs": [],
   "source": [
    "old_traj.save(f\"check_{sim_number}_min.dcd\")"
   ]
  },
  {
   "cell_type": "code",
   "execution_count": 57,
   "id": "worth-jewel",
   "metadata": {},
   "outputs": [],
   "source": [
    "from openmmtools.integrators import LangevinIntegrator\n",
    "from perses.tests.utils import compute_potential_components\n",
    "\n",
    "# Define simulation parameters\n",
    "temperature = 298 * unit.kelvin\n",
    "collision_rate = 1.0 / unit.picoseconds\n",
    "nsteps = 10000\n",
    "timestep = 4.0 * unit.femtosecond\n",
    "platform_name = 'CUDA'\n",
    "integrator = LangevinIntegrator(temperature, collision_rate, timestep)\n",
    "\n",
    "kT = kB * temperature\n",
    "beta = 1.0/kT\n",
    "\n",
    "# Set up context\n",
    "platform = openmm.Platform.getPlatformByName(platform_name)\n",
    "if platform_name in ['CUDA', 'OpenCL']:\n",
    "    platform.setPropertyDefaultValue('Precision', 'mixed')\n",
    "if platform_name in ['CUDA']:\n",
    "    platform.setPropertyDefaultValue('DeterministicForces', 'true')\n",
    "context = openmm.Context(system, integrator, platform)\n",
    "context.setPeriodicBoxVectors(*system.getDefaultPeriodicBoxVectors())\n",
    "context.setPositions(pos)\n",
    "context.setVelocitiesToTemperature(temperature)\n"
   ]
  },
  {
   "cell_type": "code",
   "execution_count": 58,
   "id": "satisfied-underwear",
   "metadata": {},
   "outputs": [
    {
     "name": "stderr",
     "output_type": "stream",
     "text": [
      "INFO:root:forward NEQ step: 0, potential energy: -1183701.2345888861 kJ/mol\n",
      "INFO:root:forward NEQ step: 1, potential energy: 18923334727.93588 kJ/mol\n"
     ]
    },
    {
     "ename": "OpenMMException",
     "evalue": "Error invoking kernel: CUDA_ERROR_ILLEGAL_ADDRESS (700)",
     "output_type": "error",
     "traceback": [
      "\u001b[0;31m--------------\u001b[0m",
      "\u001b[0;31mOpenMMException\u001b[0mTraceback (most recent call last)",
      "\u001b[0;32m<ipython-input-58-c8ff519698ca>\u001b[0m in \u001b[0;36m<module>\u001b[0;34m\u001b[0m\n\u001b[1;32m      1\u001b[0m \u001b[0;31m# Run equilibration\u001b[0m\u001b[0;34m\u001b[0m\u001b[0;34m\u001b[0m\u001b[0;34m\u001b[0m\u001b[0m\n\u001b[1;32m      2\u001b[0m \u001b[0;32mfor\u001b[0m \u001b[0mstep\u001b[0m \u001b[0;32min\u001b[0m \u001b[0mrange\u001b[0m\u001b[0;34m(\u001b[0m\u001b[0mnsteps\u001b[0m\u001b[0;34m)\u001b[0m\u001b[0;34m:\u001b[0m\u001b[0;34m\u001b[0m\u001b[0;34m\u001b[0m\u001b[0m\n\u001b[0;32m----> 3\u001b[0;31m     \u001b[0mintegrator\u001b[0m\u001b[0;34m.\u001b[0m\u001b[0mstep\u001b[0m\u001b[0;34m(\u001b[0m\u001b[0;36m1\u001b[0m\u001b[0;34m)\u001b[0m\u001b[0;34m\u001b[0m\u001b[0;34m\u001b[0m\u001b[0m\n\u001b[0m\u001b[1;32m      4\u001b[0m \u001b[0;31m#     pos = context.getState(getPositions=True, enforcePeriodicBox=False).getPositions(asNumpy=True)\u001b[0m\u001b[0;34m\u001b[0m\u001b[0;34m\u001b[0m\u001b[0;34m\u001b[0m\u001b[0m\n\u001b[1;32m      5\u001b[0m \u001b[0;31m#     old_pos = np.asarray(htf.old_positions(pos))\u001b[0m\u001b[0;34m\u001b[0m\u001b[0;34m\u001b[0m\u001b[0;34m\u001b[0m\u001b[0m\n",
      "\u001b[0;32m~/miniconda3/envs/perses-rbd-ace2/lib/python3.8/site-packages/simtk/openmm/openmm.py\u001b[0m in \u001b[0;36mstep\u001b[0;34m(self, steps)\u001b[0m\n\u001b[1;32m   4595\u001b[0m             \u001b[0mthe\u001b[0m \u001b[0mnumber\u001b[0m \u001b[0mof\u001b[0m \u001b[0mtime\u001b[0m \u001b[0msteps\u001b[0m \u001b[0mto\u001b[0m \u001b[0mtake\u001b[0m\u001b[0;34m\u001b[0m\u001b[0;34m\u001b[0m\u001b[0m\n\u001b[1;32m   4596\u001b[0m         \"\"\"\n\u001b[0;32m-> 4597\u001b[0;31m         \u001b[0;32mreturn\u001b[0m \u001b[0m_openmm\u001b[0m\u001b[0;34m.\u001b[0m\u001b[0mCustomIntegrator_step\u001b[0m\u001b[0;34m(\u001b[0m\u001b[0mself\u001b[0m\u001b[0;34m,\u001b[0m \u001b[0msteps\u001b[0m\u001b[0;34m)\u001b[0m\u001b[0;34m\u001b[0m\u001b[0;34m\u001b[0m\u001b[0m\n\u001b[0m\u001b[1;32m   4598\u001b[0m \u001b[0;34m\u001b[0m\u001b[0m\n\u001b[1;32m   4599\u001b[0m     \u001b[0;32mdef\u001b[0m \u001b[0mgetPerDofVariable\u001b[0m\u001b[0;34m(\u001b[0m\u001b[0mself\u001b[0m\u001b[0;34m,\u001b[0m \u001b[0;34m*\u001b[0m\u001b[0margs\u001b[0m\u001b[0;34m)\u001b[0m\u001b[0;34m:\u001b[0m\u001b[0;34m\u001b[0m\u001b[0;34m\u001b[0m\u001b[0m\n",
      "\u001b[0;31mOpenMMException\u001b[0m: Error invoking kernel: CUDA_ERROR_ILLEGAL_ADDRESS (700)"
     ]
    }
   ],
   "source": [
    "# Run equilibration\n",
    "for step in range(nsteps):\n",
    "    integrator.step(1)\n",
    "#     pos = context.getState(getPositions=True, enforcePeriodicBox=False).getPositions(asNumpy=True)\n",
    "#     old_pos = np.asarray(htf.old_positions(pos))\n",
    "#     all_old.append(old_pos)\n",
    "#     _logger.info(f'forward NEQ step: {step}, potential energy: {compute_potential_components(context, beta=beta)}')\n",
    "    _logger.info(f'forward NEQ step: {step}, potential energy: {context.getState(getEnergy=True).getPotentialEnergy()}')\n",
    "\n",
    "    "
   ]
  },
  {
   "cell_type": "markdown",
   "id": "monetary-marathon",
   "metadata": {},
   "source": [
    "## Run neq integrator"
   ]
  },
  {
   "cell_type": "code",
   "execution_count": 3,
   "id": "north-medicaid",
   "metadata": {},
   "outputs": [],
   "source": [
    "# Define lambda functions\n",
    "x = 'lambda'\n",
    "DEFAULT_ALCHEMICAL_FUNCTIONS = {\n",
    "                             'lambda_sterics_core': x,\n",
    "                             'lambda_electrostatics_core': x,\n",
    "                             'lambda_sterics_insert': f\"select(step({x} - 0.5), 1.0, 2.0 * {x})\",\n",
    "                             'lambda_sterics_delete': f\"select(step({x} - 0.5), 2.0 * ({x} - 0.5), 0.0)\",\n",
    "                             'lambda_electrostatics_insert': f\"select(step({x} - 0.5), 2.0 * ({x} - 0.5), 0.0)\",\n",
    "                             'lambda_electrostatics_delete': f\"select(step({x} - 0.5), 1.0, 2.0 * {x})\",\n",
    "                             'lambda_bonds': x,\n",
    "                             'lambda_angles': x,\n",
    "                             'lambda_torsions': x}\n",
    "\n",
    "# Define simulation parameters\n",
    "# nsteps_eq = 25000 # 100 ps \n",
    "nsteps_eq = 1\n",
    "nsteps_neq = 250000\n",
    "neq_splitting='V R H O R V'\n",
    "timestep = 4.0 * unit.femtosecond\n",
    "platform_name = 'CUDA'\n",
    "cache_length = 1\n",
    "temperature = 298.0 * unit.kelvin\n",
    "kT = kB * temperature\n"
   ]
  },
  {
   "cell_type": "code",
   "execution_count": 4,
   "id": "amateur-profile",
   "metadata": {},
   "outputs": [],
   "source": [
    "# Read in vanilla htf\n",
    "i = os.path.basename(os.path.dirname(outdir))\n",
    "with open(os.path.join(\"/data/chodera/zhangi/perses_benchmark/neq/15/64/\", f\"{i}_{phase}.pickle\"), 'rb') as f:\n",
    "    htf = pickle.load(f)\n",
    "\n",
    "\n"
   ]
  },
  {
   "cell_type": "code",
   "execution_count": 8,
   "id": "authentic-tablet",
   "metadata": {},
   "outputs": [],
   "source": [
    "# Read in lambda = 0 cache\n",
    "with open(os.path.join(outdir, f\"{i}_{phase}_{old_aa_name}_{cache_length}ns_snapshots.npy\"), 'rb') as f:\n",
    "    subset_pos = np.load(f)\n",
    "positions = subset_pos[sim_number]\n",
    "system = htf.hybrid_system\n"
   ]
  },
  {
   "cell_type": "code",
   "execution_count": 34,
   "id": "separated-steam",
   "metadata": {},
   "outputs": [],
   "source": [
    "# Set up integrator\n",
    "integrator = PeriodicNonequilibriumIntegrator(DEFAULT_ALCHEMICAL_FUNCTIONS, nsteps_eq, nsteps_neq, neq_splitting, timestep=timestep, temperature=temperature)\n",
    "\n",
    "# Set up context\n",
    "platform = openmm.Platform.getPlatformByName(platform_name)\n",
    "if platform_name in ['CUDA', 'OpenCL']:\n",
    "    platform.setPropertyDefaultValue('Precision', 'mixed')\n",
    "if platform_name in ['CUDA']:\n",
    "    platform.setPropertyDefaultValue('DeterministicForces', 'true')\n",
    "context = openmm.Context(system, integrator, platform)\n",
    "context.setPeriodicBoxVectors(*system.getDefaultPeriodicBoxVectors())\n",
    "context.setPositions(positions)\n",
    "context.setVelocitiesToTemperature(temperature)\n",
    "\n",
    "# # Minimize\n",
    "# openmm.LocalEnergyMinimizer.minimize(context)\n",
    "\n"
   ]
  },
  {
   "cell_type": "code",
   "execution_count": 35,
   "id": "overhead-bolivia",
   "metadata": {
    "scrolled": true
   },
   "outputs": [
    {
     "name": "stderr",
     "output_type": "stream",
     "text": [
      "INFO:root:before eq step: 0, potential energy: 1290800.5439200278 kJ/mol\n",
      "INFO:root:after step: 0, potential energy: 44302716230.46653 kJ/mol\n",
      "INFO:root:forward NEQ step: 0, potential energy: 44302716230.46653 kJ/mol\n",
      "INFO:root:forward NEQ step: 0, took: 0.019382476806640625 seconds\n",
      "INFO:root:forward NEQ step: 1, potential energy: 1.2209063427732381e+22 kJ/mol\n",
      "INFO:root:forward NEQ step: 2, potential energy: nan kJ/mol\n",
      "INFO:root:forward NEQ step: 3, potential energy: nan kJ/mol\n",
      "INFO:root:forward NEQ step: 4, potential energy: nan kJ/mol\n",
      "INFO:root:forward NEQ step: 5, potential energy: nan kJ/mol\n",
      "INFO:root:forward NEQ step: 6, potential energy: nan kJ/mol\n",
      "INFO:root:forward NEQ step: 7, potential energy: nan kJ/mol\n",
      "INFO:root:forward NEQ step: 8, potential energy: nan kJ/mol\n",
      "INFO:root:forward NEQ step: 9, potential energy: nan kJ/mol\n",
      "INFO:root:forward NEQ step: 10, potential energy: nan kJ/mol\n",
      "INFO:root:forward NEQ step: 11, potential energy: nan kJ/mol\n",
      "INFO:root:forward NEQ step: 12, potential energy: nan kJ/mol\n",
      "INFO:root:forward NEQ step: 13, potential energy: nan kJ/mol\n",
      "INFO:root:forward NEQ step: 14, potential energy: nan kJ/mol\n",
      "INFO:root:forward NEQ step: 15, potential energy: nan kJ/mol\n",
      "INFO:root:forward NEQ step: 16, potential energy: nan kJ/mol\n",
      "INFO:root:forward NEQ step: 17, potential energy: nan kJ/mol\n",
      "INFO:root:forward NEQ step: 18, potential energy: nan kJ/mol\n",
      "INFO:root:forward NEQ step: 19, potential energy: nan kJ/mol\n",
      "INFO:root:forward NEQ step: 20, potential energy: nan kJ/mol\n",
      "INFO:root:forward NEQ step: 21, potential energy: nan kJ/mol\n",
      "INFO:root:forward NEQ step: 22, potential energy: nan kJ/mol\n"
     ]
    },
    {
     "ename": "KeyboardInterrupt",
     "evalue": "",
     "output_type": "error",
     "traceback": [
      "\u001b[0;31m--------------\u001b[0m",
      "\u001b[0;31mKeyboardInterrupt\u001b[0mTraceback (most recent call last)",
      "\u001b[0;32m<ipython-input-35-fa3c64fef9bf>\u001b[0m in \u001b[0;36m<module>\u001b[0;34m\u001b[0m\n\u001b[1;32m     22\u001b[0m     \u001b[0minitial_time\u001b[0m \u001b[0;34m=\u001b[0m \u001b[0mtime\u001b[0m\u001b[0;34m.\u001b[0m\u001b[0mtime\u001b[0m\u001b[0;34m(\u001b[0m\u001b[0;34m)\u001b[0m\u001b[0;34m\u001b[0m\u001b[0;34m\u001b[0m\u001b[0m\n\u001b[1;32m     23\u001b[0m     \u001b[0m_logger\u001b[0m\u001b[0;34m.\u001b[0m\u001b[0minfo\u001b[0m\u001b[0;34m(\u001b[0m\u001b[0;34mf'forward NEQ step: {fwd_step}, potential energy: {context.getState(getEnergy=True).getPotentialEnergy()}'\u001b[0m\u001b[0;34m)\u001b[0m\u001b[0;34m\u001b[0m\u001b[0;34m\u001b[0m\u001b[0m\n\u001b[0;32m---> 24\u001b[0;31m     \u001b[0mintegrator\u001b[0m\u001b[0;34m.\u001b[0m\u001b[0mstep\u001b[0m\u001b[0;34m(\u001b[0m\u001b[0;36m1\u001b[0m\u001b[0;34m)\u001b[0m\u001b[0;34m\u001b[0m\u001b[0;34m\u001b[0m\u001b[0m\n\u001b[0m\u001b[1;32m     25\u001b[0m     \u001b[0melapsed_time\u001b[0m \u001b[0;34m=\u001b[0m \u001b[0;34m(\u001b[0m\u001b[0mtime\u001b[0m\u001b[0;34m.\u001b[0m\u001b[0mtime\u001b[0m\u001b[0;34m(\u001b[0m\u001b[0;34m)\u001b[0m \u001b[0;34m-\u001b[0m \u001b[0minitial_time\u001b[0m\u001b[0;34m)\u001b[0m \u001b[0;34m*\u001b[0m \u001b[0munit\u001b[0m\u001b[0;34m.\u001b[0m\u001b[0mseconds\u001b[0m\u001b[0;34m\u001b[0m\u001b[0;34m\u001b[0m\u001b[0m\n\u001b[1;32m     26\u001b[0m     \u001b[0mforward_works\u001b[0m\u001b[0;34m.\u001b[0m\u001b[0mappend\u001b[0m\u001b[0;34m(\u001b[0m\u001b[0mintegrator\u001b[0m\u001b[0;34m.\u001b[0m\u001b[0mget_protocol_work\u001b[0m\u001b[0;34m(\u001b[0m\u001b[0mdimensionless\u001b[0m\u001b[0;34m=\u001b[0m\u001b[0;32mTrue\u001b[0m\u001b[0;34m)\u001b[0m\u001b[0;34m)\u001b[0m\u001b[0;34m\u001b[0m\u001b[0;34m\u001b[0m\u001b[0m\n",
      "\u001b[0;32m~/miniconda3/envs/perses-rbd-ace2/lib/python3.8/site-packages/simtk/openmm/openmm.py\u001b[0m in \u001b[0;36mstep\u001b[0;34m(self, steps)\u001b[0m\n\u001b[1;32m   4595\u001b[0m             \u001b[0mthe\u001b[0m \u001b[0mnumber\u001b[0m \u001b[0mof\u001b[0m \u001b[0mtime\u001b[0m \u001b[0msteps\u001b[0m \u001b[0mto\u001b[0m \u001b[0mtake\u001b[0m\u001b[0;34m\u001b[0m\u001b[0;34m\u001b[0m\u001b[0m\n\u001b[1;32m   4596\u001b[0m         \"\"\"\n\u001b[0;32m-> 4597\u001b[0;31m         \u001b[0;32mreturn\u001b[0m \u001b[0m_openmm\u001b[0m\u001b[0;34m.\u001b[0m\u001b[0mCustomIntegrator_step\u001b[0m\u001b[0;34m(\u001b[0m\u001b[0mself\u001b[0m\u001b[0;34m,\u001b[0m \u001b[0msteps\u001b[0m\u001b[0;34m)\u001b[0m\u001b[0;34m\u001b[0m\u001b[0;34m\u001b[0m\u001b[0m\n\u001b[0m\u001b[1;32m   4598\u001b[0m \u001b[0;34m\u001b[0m\u001b[0m\n\u001b[1;32m   4599\u001b[0m     \u001b[0;32mdef\u001b[0m \u001b[0mgetPerDofVariable\u001b[0m\u001b[0;34m(\u001b[0m\u001b[0mself\u001b[0m\u001b[0;34m,\u001b[0m \u001b[0;34m*\u001b[0m\u001b[0margs\u001b[0m\u001b[0;34m)\u001b[0m\u001b[0;34m:\u001b[0m\u001b[0;34m\u001b[0m\u001b[0;34m\u001b[0m\u001b[0m\n",
      "\u001b[0;31mKeyboardInterrupt\u001b[0m: "
     ]
    }
   ],
   "source": [
    "# Run eq forward (0 -> 1)\n",
    "forward_eq_old, forward_eq_new = list(), list()\n",
    "for fwd_step in range(nsteps_eq):\n",
    "    initial_time = time.time()\n",
    "    _logger.info(f'before eq step: {fwd_step}, potential energy: {context.getState(getEnergy=True).getPotentialEnergy()}')\n",
    "    integrator.step(1)\n",
    "    _logger.info(f'after step: {fwd_step}, potential energy: {context.getState(getEnergy=True).getPotentialEnergy()}')\n",
    "    elapsed_time = (time.time() - initial_time) * unit.seconds\n",
    "    # if fwd_step % 2500 == 0:\n",
    "    #     _logger.info(f'forward EQ step: {fwd_step}, took: {elapsed_time / unit.seconds} seconds')\n",
    "    #     pos = context.getState(getPositions=True, enforcePeriodicBox=False).getPositions(asNumpy=True)\n",
    "    #     old_pos = np.asarray(htf.old_positions(pos))\n",
    "    #     new_pos = np.asarray(htf.new_positions(pos))\n",
    "    #     forward_eq_old.append(old_pos)\n",
    "    #     forward_eq_new.append(new_pos)\n",
    "\n",
    "# Run neq forward (0 -> 1)\n",
    "forward_works_master = list()\n",
    "forward_neq_old, forward_neq_new = list(), list()\n",
    "forward_works = [integrator.get_protocol_work(dimensionless=True)]\n",
    "for fwd_step in range(nsteps_neq):\n",
    "    initial_time = time.time()\n",
    "    _logger.info(f'forward NEQ step: {fwd_step}, potential energy: {context.getState(getEnergy=True).getPotentialEnergy()}')\n",
    "    integrator.step(1)\n",
    "    elapsed_time = (time.time() - initial_time) * unit.seconds\n",
    "    forward_works.append(integrator.get_protocol_work(dimensionless=True))\n",
    "    if fwd_step % 2500 == 0:\n",
    "        _logger.info(f'forward NEQ step: {fwd_step}, took: {elapsed_time / unit.seconds} seconds')\n",
    "#         pos = context.getState(getPositions=True, enforcePeriodicBox=False).getPositions(asNumpy=True)\n",
    "#         old_pos = np.asarray(htf.old_positions(pos))\n",
    "#         old_traj = md.Trajectory(old_pos, md.Topology.from_openmm(htf._topology_proposal.old_topology))\n",
    "#         old_pos_solute = old_traj.atom_slice(old_traj.top.select(\"not water\")).xyz[0]\n",
    "        \n",
    "#         new_pos = np.asarray(htf.new_positions(pos))\n",
    "#         new_traj = md.Trajectory(new_pos, md.Topology.from_openmm(htf._topology_proposal.new_topology))\n",
    "#         new_pos_solute = new_traj.atom_slice(new_traj.top.select(\"not water\")).xyz[0]\n",
    "        \n",
    "#         forward_neq_old.append(old_pos_solute)\n",
    "#         forward_neq_new.append(new_pos_solute)\n",
    "forward_works_master.append(forward_works)\n",
    "\n"
   ]
  },
  {
   "cell_type": "code",
   "execution_count": null,
   "id": "proprietary-timber",
   "metadata": {},
   "outputs": [],
   "source": []
  },
  {
   "cell_type": "code",
   "execution_count": null,
   "id": "familiar-combination",
   "metadata": {},
   "outputs": [],
   "source": [
    "# Read in lambda = 1 cache, if necessary\n",
    "with open(os.path.join(args.dir, f\"{i}_{args.phase}_{args.new_aa_name}_{cache_length}ns_snapshots.npy\"), 'rb') as f:\n",
    "    subset_pos = np.load(f)\n",
    "positions = subset_pos[args.sim_number]\n",
    "context.setPositions(positions)\n",
    "\n",
    "# Run eq reverse (1 -> 0)\n",
    "reverse_eq_old, reverse_eq_new = list(), list()\n",
    "for rev_step in range(nsteps_eq):\n",
    "    initial_time = time.time()\n",
    "    integrator.step(1)\n",
    "    elapsed_time = (time.time() - initial_time) * unit.seconds\n",
    "    # if rev_step % 2500 == 0:\n",
    "    #     _logger.info(f'reverse EQ step: {rev_step}, took: {elapsed_time / unit.seconds} seconds')\n",
    "    #     pos = context.getState(getPositions=True, enforcePeriodicBox=False).getPositions(asNumpy=True)\n",
    "    #     old_pos = np.asarray(htf.old_positions(pos))\n",
    "    #     new_pos = np.asarray(htf.new_positions(pos))\n",
    "    #     reverse_eq_old.append(old_pos)\n",
    "    #     reverse_eq_new.append(new_pos)\n",
    "\n",
    "# Run neq reverse (1 -> 0)\n",
    "reverse_works_master = list()\n",
    "reverse_neq_old, reverse_neq_new = list(), list()\n",
    "reverse_works = [integrator.get_protocol_work(dimensionless=True)]\n",
    "for rev_step in range(nsteps_neq):\n",
    "    initial_time = time.time()\n",
    "    integrator.step(1)\n",
    "    elapsed_time = (time.time() - initial_time) * unit.seconds\n",
    "    reverse_works.append(integrator.get_protocol_work(dimensionless=True))\n",
    "    if rev_step % 2500 == 0:\n",
    "        _logger.info(f'reverse NEQ step: {rev_step}, took: {elapsed_time / unit.seconds} seconds')\n",
    "        pos = context.getState(getPositions=True, enforcePeriodicBox=False).getPositions(asNumpy=True)\n",
    "        old_pos = np.asarray(htf.old_positions(pos))\n",
    "        old_traj = md.Trajectory(old_pos, md.Topology.from_openmm(htf._topology_proposal.old_topology))\n",
    "        old_pos_solute = old_traj.atom_slice(old_traj.top.select(\"not water\")).xyz[0]\n",
    "        \n",
    "        new_pos = np.asarray(htf.new_positions(pos))\n",
    "        new_traj = md.Trajectory(new_pos, md.Topology.from_openmm(htf._topology_proposal.new_topology))\n",
    "        new_pos_solute = new_traj.atom_slice(new_traj.top.select(\"not water\")).xyz[0]\n",
    "\n",
    "        reverse_neq_old.append(old_pos_solute)\n",
    "        reverse_neq_new.append(new_pos_solute)\n",
    "reverse_works_master.append(reverse_works)\n",
    "\n",
    "# Save works\n",
    "with open(os.path.join(args.dir, f\"{i}_{args.phase}_{args.sim_number}_forward.npy\"), 'wb') as f:\n",
    "    np.save(f, forward_works_master)\n",
    "with open(os.path.join(args.dir, f\"{i}_{args.phase}_{args.sim_number}_reverse.npy\"), 'wb') as f:\n",
    "    np.save(f, reverse_works_master)\n",
    "\n",
    "# Save trajs\n",
    "# with open(os.path.join(args.dir, f\"{i}_{args.phase}_{args.sim_number}_forward_eq_old.npy\"), 'wb') as f:\n",
    "#     np.save(f, forward_eq_old)\n",
    "# with open(os.path.join(args.dir, f\"{i}_{args.phase}_{args.sim_number}_forward_eq_new.npy\"), 'wb') as f:\n",
    "#     np.save(f, forward_eq_new)\n",
    "# with open(os.path.join(args.dir, f\"{i}_{args.phase}_{args.sim_number}_reverse_eq_old.npy\"), 'wb') as f:\n",
    "#     np.save(f, reverse_eq_old)\n",
    "# with open(os.path.join(args.dir, f\"{i}_{args.phase}_{args.sim_number}_reverse_eq_new.npy\"), 'wb') as f:\n",
    "#     np.save(f, reverse_eq_new)\n",
    "\n",
    "with open(os.path.join(args.dir, f\"{i}_{args.phase}_{args.sim_number}_forward_neq_old.npy\"), 'wb') as f:\n",
    "    np.save(f, forward_neq_old)\n",
    "with open(os.path.join(args.dir, f\"{i}_{args.phase}_{args.sim_number}_forward_neq_new.npy\"), 'wb') as f:\n",
    "    np.save(f, forward_neq_new)\n",
    "with open(os.path.join(args.dir, f\"{i}_{args.phase}_{args.sim_number}_reverse_neq_old.npy\"), 'wb') as f:\n",
    "    np.save(f, reverse_neq_old)\n",
    "with open(os.path.join(args.dir, f\"{i}_{args.phase}_{args.sim_number}_reverse_neq_new.npy\"), 'wb') as f:\n",
    "    np.save(f, reverse_neq_new)\n",
    "\n"
   ]
  },
  {
   "cell_type": "markdown",
   "id": "liquid-wonder",
   "metadata": {},
   "source": [
    "# Check to see if far away positions of snapshot 0 vs 2 reveal anything"
   ]
  },
  {
   "cell_type": "code",
   "execution_count": 22,
   "id": "successful-spencer",
   "metadata": {},
   "outputs": [],
   "source": [
    "with open(os.path.join(\"/data/chodera/zhangi/perses_benchmark/neq/15/64/\", f\"64_{phase}.pickle\"), 'rb') as f:\n",
    "    htf = pickle.load(f)"
   ]
  },
  {
   "cell_type": "code",
   "execution_count": 11,
   "id": "individual-stack",
   "metadata": {},
   "outputs": [],
   "source": [
    "# Read in lambda = 0 cache\n",
    "i = os.path.basename(os.path.dirname(outdir))\n",
    "with open(os.path.join(outdir, f\"{i}_{phase}_{old_aa_name}_{cache_length}ns_snapshots.npy\"), 'rb') as f:\n",
    "    subset_pos = np.load(f)\n",
    "cache_0 = subset_pos[0]\n",
    "cache_2 = subset_pos[2]"
   ]
  },
  {
   "cell_type": "code",
   "execution_count": 14,
   "id": "exclusive-reason",
   "metadata": {},
   "outputs": [],
   "source": [
    "import math"
   ]
  },
  {
   "cell_type": "code",
   "execution_count": 44,
   "id": "annual-antibody",
   "metadata": {},
   "outputs": [],
   "source": [
    "distances = {}\n",
    "for i, (atom_0, atom_2) in enumerate(zip(cache_0, cache_2)):\n",
    "    if i not in solvent_indices:\n",
    "        distance = math.sqrt((atom_0[0] - atom_2[0]) ** 2 + (atom_0[1] - atom_2[1]) ** 2 + (atom_0[2] - atom_2[2]) ** 2)\n",
    "        distances[i] = distance"
   ]
  },
  {
   "cell_type": "code",
   "execution_count": 42,
   "id": "foreign-mouse",
   "metadata": {},
   "outputs": [],
   "source": [
    "import matplotlib.pyplot as plt"
   ]
  },
  {
   "cell_type": "code",
   "execution_count": 46,
   "id": "minute-shore",
   "metadata": {},
   "outputs": [
    {
     "data": {
      "text/plain": [
       "(array([9.000e+01, 1.162e+03, 4.633e+03, 6.845e+03, 2.543e+03, 5.270e+02,\n",
       "        1.360e+02, 3.400e+01, 1.500e+01, 2.000e+00]),\n",
       " array([0.03769362, 0.12566228, 0.21363094, 0.30159961, 0.38956827,\n",
       "        0.47753693, 0.56550559, 0.65347426, 0.74144292, 0.82941158,\n",
       "        0.91738025]),\n",
       " <BarContainer object of 10 artists>)"
      ]
     },
     "execution_count": 46,
     "metadata": {},
     "output_type": "execute_result"
    },
    {
     "data": {
      "image/png": "[encoded data removed]",
      "text/plain": [
       "<Figure size 432x288 with 1 Axes>"
      ]
     },
     "metadata": {
      "needs_background": "light"
     },
     "output_type": "display_data"
    }
   ],
   "source": [
    "plt.hist(distances.values())"
   ]
  },
  {
   "cell_type": "code",
   "execution_count": 52,
   "id": "conservative-bahrain",
   "metadata": {},
   "outputs": [
    {
     "name": "stdout",
     "output_type": "stream",
     "text": [
      "10113\n",
      "12921\n",
      "12922\n",
      "15123\n",
      "15125\n",
      "15126\n",
      "15949\n"
     ]
    }
   ],
   "source": [
    "x = []\n",
    "for i, distance in distances.items():\n",
    "    if distance > 0.8:\n",
    "        print(i)\n",
    "        x.append(i)"
   ]
  },
  {
   "cell_type": "code",
   "execution_count": 53,
   "id": "arctic-melbourne",
   "metadata": {},
   "outputs": [
    {
     "name": "stdout",
     "output_type": "stream",
     "text": [
      "MET455-HE1\n",
      "LYS625-HE2\n",
      "LYS625-HE3\n",
      "2MA749-H62\n",
      "2MA749-O6\n",
      "2MA749-H6O\n",
      "0YB783-H2M\n"
     ]
    }
   ],
   "source": [
    "for atom in htf.hybrid_topology.atoms:\n",
    "    if atom.index in x:\n",
    "        print(atom)"
   ]
  },
  {
   "cell_type": "code",
   "execution_count": 39,
   "id": "fifteen-environment",
   "metadata": {},
   "outputs": [],
   "source": [
    "solvent_indices = htf.hybrid_topology.select(\"resn HOH or resn 'Na+' or resn 'Cl-' or resn ZN or resn CL\")"
   ]
  },
  {
   "cell_type": "code",
   "execution_count": null,
   "id": "regular-street",
   "metadata": {},
   "outputs": [],
   "source": []
  }
 ],
 "metadata": {
  "kernelspec": {
   "display_name": "Python 3",
   "language": "python",
   "name": "python3"
  },
  "language_info": {
   "codemirror_mode": {
    "name": "ipython",
    "version": 3
   },
   "file_extension": ".py",
   "mimetype": "text/x-python",
   "name": "python",
   "nbconvert_exporter": "python",
   "pygments_lexer": "ipython3",
   "version": "3.8.6"
  }
 },
 "nbformat": 4,
 "nbformat_minor": 5
}
