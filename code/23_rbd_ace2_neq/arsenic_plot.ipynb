{
 "cells": [
  {
   "cell_type": "markdown",
   "metadata": {},
   "source": [
    "# RBD:ACE2 mutations with outliers"
   ]
  },
  {
   "cell_type": "markdown",
   "metadata": {},
   "source": [
    "## Format the data appropriately for arsenic"
   ]
  },
  {
   "cell_type": "code",
   "execution_count": 1,
   "metadata": {},
   "outputs": [],
   "source": [
    "import numpy as np\n",
    "import pickle\n",
    "from simtk.openmm import unit\n",
    "from openmmtools.constants import kB\n",
    "import pandas as pd\n",
    "KT_KCALMOL = kB * 300 * unit.kelvin / unit.kilocalories_per_mole"
   ]
  },
  {
   "cell_type": "code",
   "execution_count": 2,
   "metadata": {},
   "outputs": [],
   "source": [
    "def compute_binding_ddgs(apo_ddg, complex_ddg):\n",
    "    return (apo_ddg**2 + complex_ddg**2)**0.5"
   ]
  },
  {
   "cell_type": "code",
   "execution_count": 3,
   "metadata": {},
   "outputs": [],
   "source": [
    "title_pairs = [[\"N439K\"], [\"N501Y\"], [\"Y453F\"], [\"Q493A\"], [\"T500I\"], [\"V350F\"], [\"V433Q\"], [\"G431A\"], [\"I410S\"], [\"N487R\"], [\"N501D\"], [\"Y489Q\"], [\"E484K\"], [\"K417N\"]]\n",
    "dir_num = 15\n",
    "subdirs = [30, 16, 13, 14, 15, 17, 18, 19, 20, 33, 34, 26, 31, 32]\n",
    "# to_plot = ['# Calculated block', '# Mutant1, Mutant2, calc_DDG, calc_dDDG(BAR), calc_dDDG(additional)']\n",
    "to_plot = []\n",
    "for i, subdir in enumerate(subdirs):\n",
    "    with open(f\"/data/chodera/zhangi/perses_benchmark/neq/{dir_num}/{subdir}/ddgs.pickle\", \"rb\") as f:\n",
    "        ddgs = pickle.load(f)\n",
    "    with open(f\"/data/chodera/zhangi/perses_benchmark/neq/{dir_num}/{subdir}/dgs_phase.pickle\", \"rb\") as f:\n",
    "        dgs_phase = pickle.load(f)\n",
    "        \n",
    "        # Compute binding ddgs from BAR\n",
    "        binding_ddgs_forward = []\n",
    "#         binding_ddgs_backward = []\n",
    "        for j in range(len(dgs_phase)):\n",
    "            binding_ddgs_forward.append(compute_binding_ddgs(dgs_phase[subdir][j]['apo'][1], dgs_phase[subdir][j]['complex'][1]))\n",
    "#             binding_ddgs_backward.append(compute_binding_ddgs(dgs_phase[subdir+1][j]['apo'][1], dgs_phase[subdir+1][j]['complex'][1]))\n",
    "\n",
    "    to_plot.append([title_pairs[i][0][:-1], title_pairs[i][0][-1] + title_pairs[i][0][1:4], np.mean(ddgs[subdir])*KT_KCALMOL, np.mean(binding_ddgs_forward)*KT_KCALMOL, abs(np.mean(ddgs[subdir])*KT_KCALMOL - np.percentile(ddgs[subdir], 2.5)*KT_KCALMOL)])\n",
    "#     to_plot.append([title_pairs[i][1][:-1], title_pairs[i][1][-1] + title_pairs[i][1][1:3], np.mean(ddgs[subdir+1])*KT_KCALMOL, np.mean(binding_ddgs_backward)*KT_KCALMOL, abs(np.mean(ddgs[subdir+1])*KT_KCALMOL - np.percentile(ddgs[subdir+1], 2.5)*KT_KCALMOL)]) # take the negative of these so they match the forward transform values\n",
    "        \n",
    "        \n",
    "        "
   ]
  },
  {
   "cell_type": "code",
   "execution_count": 4,
   "metadata": {},
   "outputs": [
    {
     "data": {
      "text/plain": [
       "[['N439',\n",
       "  'K439',\n",
       "  -0.08246009269737735,\n",
       "  0.3039936928161879,\n",
       "  0.5296867591413762],\n",
       " ['N501', 'Y501', 4.278652939518673, 0.5623303998000092, 0.8197108988902952],\n",
       " ['Y453',\n",
       "  'F453',\n",
       "  0.016221214336817405,\n",
       "  0.07095216681268039,\n",
       "  0.16726706550421838],\n",
       " ['Q493',\n",
       "  'A493',\n",
       "  0.6016017865436382,\n",
       "  0.14855227343476793,\n",
       "  0.41078091967301505],\n",
       " ['T500', 'I500', 3.394569899074289, 0.1462170981341006, 0.2836054132071184],\n",
       " ['V350', 'F350', 2.382543723445278, 0.4510763390791423, 1.4523229246026774],\n",
       " ['V433',\n",
       "  'Q433',\n",
       "  0.12464471715671985,\n",
       "  0.13113206962895615,\n",
       "  0.3074141578379441],\n",
       " ['G431',\n",
       "  'A431',\n",
       "  -0.39921460099784467,\n",
       "  0.09286187509366947,\n",
       "  0.25739228187882124],\n",
       " ['I410',\n",
       "  'S410',\n",
       "  -0.6146524885879511,\n",
       "  0.14065111631344415,\n",
       "  0.27239062966110084],\n",
       " ['N487', 'R487', 2.782722120574718, 0.27586859815474446, 0.7122965836896915],\n",
       " ['N501', 'D501', 7.79304894759099, 0.4530959172885375, 1.3399323056742718],\n",
       " ['Y489', 'Q489', 3.174023122750573, 0.18662803018836197, 0.36937065121980694],\n",
       " ['E484',\n",
       "  'K484',\n",
       "  -0.5047785640875477,\n",
       "  0.16617753884506678,\n",
       "  0.30307010074253316],\n",
       " ['K417', 'N417', 0.4846476966897347, 0.24848803608530268, 0.6131470936392587]]"
      ]
     },
     "execution_count": 4,
     "metadata": {},
     "output_type": "execute_result"
    }
   ],
   "source": [
    "to_plot"
   ]
  },
  {
   "cell_type": "code",
   "execution_count": 5,
   "metadata": {},
   "outputs": [],
   "source": [
    "d = {'WT': 0, 'K439': -0.06, 'Y501': -0.33, 'F453': -0.35, \n",
    "     'A493': -0.18, 'I500': 3.18, 'F350': 6.69, \"Q433\": 6.63,\n",
    "      \"A431\": 6.63, \"S410\": 6.63, \"R487\": 3.18, \"D501\": 3.34, \n",
    "     \"Q489\": 3.04, \"K484\": -0.08, \"N417\": 0.62}"
   ]
  },
  {
   "cell_type": "code",
   "execution_count": 11,
   "metadata": {},
   "outputs": [],
   "source": [
    "# experiment = ['# Experiment block', '# Mutant, expt_DDG, expt_dDDG']\n",
    "experiment = []\n",
    "for k in d.keys():\n",
    "    if k == 'WT':\n",
    "        experiment.append(['N439', d['WT'], 0])\n",
    "        experiment.append(['N501', d['WT'], 0])\n",
    "        experiment.append(['Y453', d['WT'], 0])\n",
    "        experiment.append(['Q493', d['WT'], 0])\n",
    "        experiment.append(['T500', d['WT'], 0])\n",
    "        experiment.append(['V350', d['WT'], 0]) \n",
    "        experiment.append(['V433', d['WT'], 0])\n",
    "        experiment.append(['G431', d['WT'], 0])\n",
    "        experiment.append(['I410', d['WT'], 0])\n",
    "        experiment.append(['N487', d['WT'], 0])\n",
    "        experiment.append(['N501', d['WT'], 0])\n",
    "        experiment.append(['Y489', d['WT'], 0])\n",
    "        experiment.append(['E484', d['WT'], 0])\n",
    "        experiment.append(['K417', d['WT'], 0])\n",
    "    else:\n",
    "        experiment.append([k, d[k], 0])"
   ]
  },
  {
   "cell_type": "code",
   "execution_count": 12,
   "metadata": {},
   "outputs": [
    {
     "data": {
      "text/plain": [
       "[['N439', 0, 0],\n",
       " ['N501', 0, 0],\n",
       " ['Y453', 0, 0],\n",
       " ['Q493', 0, 0],\n",
       " ['T500', 0, 0],\n",
       " ['V350', 0, 0],\n",
       " ['V433', 0, 0],\n",
       " ['G431', 0, 0],\n",
       " ['I410', 0, 0],\n",
       " ['N487', 0, 0],\n",
       " ['N501', 0, 0],\n",
       " ['Y489', 0, 0],\n",
       " ['E484', 0, 0],\n",
       " ['K417', 0, 0],\n",
       " ['K439', -0.06, 0],\n",
       " ['Y501', -0.33, 0],\n",
       " ['F453', -0.35, 0],\n",
       " ['A493', -0.18, 0],\n",
       " ['I500', 3.18, 0],\n",
       " ['F350', 6.69, 0],\n",
       " ['Q433', 6.63, 0],\n",
       " ['A431', 6.63, 0],\n",
       " ['S410', 6.63, 0],\n",
       " ['R487', 3.18, 0],\n",
       " ['D501', 3.34, 0],\n",
       " ['Q489', 3.04, 0],\n",
       " ['K484', -0.08, 0],\n",
       " ['N417', 0.62, 0]]"
      ]
     },
     "execution_count": 12,
     "metadata": {},
     "output_type": "execute_result"
    }
   ],
   "source": [
    "experiment"
   ]
  },
  {
   "cell_type": "code",
   "execution_count": 13,
   "metadata": {},
   "outputs": [],
   "source": [
    "pd.DataFrame(experiment + to_plot).to_csv(f\"/data/chodera/zhangi/perses_benchmark/neq/{dir_num}/arsenic_input_20210402.csv\", index=False, header=False)\n",
    "# Had to manually add headings, otherwise the lists wouldn't print out as comma separated\n",
    "# Had to remove extra commas in experimental block\n"
   ]
  },
  {
   "cell_type": "markdown",
   "metadata": {},
   "source": [
    "## Make arsenic plot"
   ]
  },
  {
   "cell_type": "code",
   "execution_count": 9,
   "metadata": {
    "scrolled": true
   },
   "outputs": [],
   "source": [
    "import numpy as np\n",
    "\n",
    "%matplotlib inline\n",
    "import matplotlib.pylab as plt\n",
    "\n",
    "from arsenic import plotting, stats, wrangle"
   ]
  },
  {
   "cell_type": "code",
   "execution_count": 14,
   "metadata": {},
   "outputs": [
    {
     "name": "stdout",
     "output_type": "stream",
     "text": [
      "Graph is not connected enough to compute absolute values\n"
     ]
    }
   ],
   "source": [
    "fe = wrangle.FEMap('/data/chodera/zhangi/perses_benchmark/neq/15/arsenic_input_20210402.csv')"
   ]
  },
  {
   "cell_type": "code",
   "execution_count": 16,
   "metadata": {
    "scrolled": true
   },
   "outputs": [
    {
     "data": {
      "image/png": "[encoded data removed]",
      "text/plain": [
       "<Figure size 234x234 with 1 Axes>"
      ]
     },
     "metadata": {
      "needs_background": "light"
     },
     "output_type": "display_data"
    }
   ],
   "source": [
    "plotting.plot_DDGs(fe.graph,target_name='barnase', title='Mutations in RBD', units=r'$\\mathrm{kcal\\,/mol}$', filename='/data/chodera/zhangi/perses_benchmark/neq/15/arsenic_input_20210402.png')\n",
    "# added dpi to savefig() in local version\n",
    "# removed \"/\" in labels in local version"
   ]
  },
  {
   "cell_type": "code",
   "execution_count": null,
   "metadata": {},
   "outputs": [],
   "source": []
  },
  {
   "cell_type": "markdown",
   "metadata": {},
   "source": [
    "# RBD:ACE2 mutations without outliers"
   ]
  },
  {
   "cell_type": "markdown",
   "metadata": {},
   "source": [
    "## Format the data appropriately for arsenic"
   ]
  },
  {
   "cell_type": "code",
   "execution_count": 17,
   "metadata": {},
   "outputs": [],
   "source": [
    "import numpy as np\n",
    "import pickle\n",
    "from simtk.openmm import unit\n",
    "from openmmtools.constants import kB\n",
    "import pandas as pd\n",
    "KT_KCALMOL = kB * 300 * unit.kelvin / unit.kilocalories_per_mole"
   ]
  },
  {
   "cell_type": "code",
   "execution_count": 18,
   "metadata": {},
   "outputs": [],
   "source": [
    "def compute_binding_ddgs(apo_ddg, complex_ddg):\n",
    "    return (apo_ddg**2 + complex_ddg**2)**0.5"
   ]
  },
  {
   "cell_type": "code",
   "execution_count": 31,
   "metadata": {},
   "outputs": [],
   "source": [
    "title_pairs = [[\"N439K\"], [\"Y453F\"], [\"Q493A\"], [\"T500I\"], [\"N487R\"], [\"Y489Q\"], [\"E484K\"], [\"K417N\"]]\n",
    "dir_num = 15\n",
    "subdirs = [30, 13, 14, 15, 33, 26, 31, 32]\n",
    "# to_plot = ['# Calculated block', '# Mutant1, Mutant2, calc_DDG, calc_dDDG(BAR), calc_dDDG(additional)']\n",
    "to_plot = []\n",
    "for i, subdir in enumerate(subdirs):\n",
    "    with open(f\"/data/chodera/zhangi/perses_benchmark/neq/{dir_num}/{subdir}/ddgs.pickle\", \"rb\") as f:\n",
    "        ddgs = pickle.load(f)\n",
    "    with open(f\"/data/chodera/zhangi/perses_benchmark/neq/{dir_num}/{subdir}/dgs_phase.pickle\", \"rb\") as f:\n",
    "        dgs_phase = pickle.load(f)\n",
    "        \n",
    "        # Compute binding ddgs from BAR\n",
    "        binding_ddgs_forward = []\n",
    "#         binding_ddgs_backward = []\n",
    "        for j in range(len(dgs_phase)):\n",
    "            binding_ddgs_forward.append(compute_binding_ddgs(dgs_phase[subdir][j]['apo'][1], dgs_phase[subdir][j]['complex'][1]))\n",
    "#             binding_ddgs_backward.append(compute_binding_ddgs(dgs_phase[subdir+1][j]['apo'][1], dgs_phase[subdir+1][j]['complex'][1]))\n",
    "\n",
    "    to_plot.append([title_pairs[i][0][:-1], title_pairs[i][0][-1] + title_pairs[i][0][1:4], np.mean(ddgs[subdir])*KT_KCALMOL, np.mean(binding_ddgs_forward)*KT_KCALMOL, abs(np.mean(ddgs[subdir])*KT_KCALMOL - np.percentile(ddgs[subdir], 2.5)*KT_KCALMOL)])\n",
    "#     to_plot.append([title_pairs[i][1][:-1], title_pairs[i][1][-1] + title_pairs[i][1][1:3], np.mean(ddgs[subdir+1])*KT_KCALMOL, np.mean(binding_ddgs_backward)*KT_KCALMOL, abs(np.mean(ddgs[subdir+1])*KT_KCALMOL - np.percentile(ddgs[subdir+1], 2.5)*KT_KCALMOL)]) # take the negative of these so they match the forward transform values\n",
    "        \n",
    "        \n",
    "        "
   ]
  },
  {
   "cell_type": "code",
   "execution_count": 32,
   "metadata": {},
   "outputs": [
    {
     "data": {
      "text/plain": [
       "[['N439',\n",
       "  'K439',\n",
       "  -0.08246009269737735,\n",
       "  0.3039936928161879,\n",
       "  0.5296867591413762],\n",
       " ['Y453',\n",
       "  'F453',\n",
       "  0.016221214336817405,\n",
       "  0.07095216681268039,\n",
       "  0.16726706550421838],\n",
       " ['Q493',\n",
       "  'A493',\n",
       "  0.6016017865436382,\n",
       "  0.14855227343476793,\n",
       "  0.41078091967301505],\n",
       " ['T500', 'I500', 3.394569899074289, 0.1462170981341006, 0.2836054132071184],\n",
       " ['N487', 'R487', 2.782722120574718, 0.27586859815474446, 0.7122965836896915],\n",
       " ['Y489', 'Q489', 3.174023122750573, 0.18662803018836197, 0.36937065121980694],\n",
       " ['E484',\n",
       "  'K484',\n",
       "  -0.5047785640875477,\n",
       "  0.16617753884506678,\n",
       "  0.30307010074253316],\n",
       " ['K417', 'N417', 0.4846476966897347, 0.24848803608530268, 0.6131470936392587]]"
      ]
     },
     "execution_count": 32,
     "metadata": {},
     "output_type": "execute_result"
    }
   ],
   "source": [
    "to_plot"
   ]
  },
  {
   "cell_type": "code",
   "execution_count": 34,
   "metadata": {},
   "outputs": [],
   "source": [
    "d = {'WT': 0, 'K439': -0.06, 'F453': -0.35, \n",
    "     'A493': -0.18, 'I500': 3.18, \"R487\": 3.18, \n",
    "     \"Q489\": 3.04, \"K484\": -0.08, \"N417\": 0.62}"
   ]
  },
  {
   "cell_type": "code",
   "execution_count": 35,
   "metadata": {},
   "outputs": [],
   "source": [
    "# experiment = ['# Experiment block', '# Mutant, expt_DDG, expt_dDDG']\n",
    "experiment = []\n",
    "for k in d.keys():\n",
    "    if k == 'WT':\n",
    "        experiment.append(['N439', d['WT'], 0])\n",
    "        experiment.append(['Y453', d['WT'], 0])\n",
    "        experiment.append(['Q493', d['WT'], 0])\n",
    "        experiment.append(['T500', d['WT'], 0])\n",
    "        experiment.append(['N487', d['WT'], 0])\n",
    "        experiment.append(['Y489', d['WT'], 0])\n",
    "        experiment.append(['E484', d['WT'], 0])\n",
    "        experiment.append(['K417', d['WT'], 0])\n",
    "    else:\n",
    "        experiment.append([k, d[k], 0])"
   ]
  },
  {
   "cell_type": "code",
   "execution_count": 36,
   "metadata": {},
   "outputs": [
    {
     "data": {
      "text/plain": [
       "[['N439', 0, 0],\n",
       " ['Y453', 0, 0],\n",
       " ['Q493', 0, 0],\n",
       " ['T500', 0, 0],\n",
       " ['N487', 0, 0],\n",
       " ['Y489', 0, 0],\n",
       " ['E484', 0, 0],\n",
       " ['K417', 0, 0],\n",
       " ['K439', -0.06, 0],\n",
       " ['F453', -0.35, 0],\n",
       " ['A493', -0.18, 0],\n",
       " ['I500', 3.18, 0],\n",
       " ['R487', 3.18, 0],\n",
       " ['Q489', 3.04, 0],\n",
       " ['K484', -0.08, 0],\n",
       " ['N417', 0.62, 0]]"
      ]
     },
     "execution_count": 36,
     "metadata": {},
     "output_type": "execute_result"
    }
   ],
   "source": [
    "experiment"
   ]
  },
  {
   "cell_type": "code",
   "execution_count": 37,
   "metadata": {},
   "outputs": [],
   "source": [
    "pd.DataFrame(experiment + to_plot).to_csv(f\"/data/chodera/zhangi/perses_benchmark/neq/{dir_num}/arsenic_input_20210402_nooutliers.csv\", index=False, header=False)\n",
    "# Had to manually add headings, otherwise the lists wouldn't print out as comma separated\n",
    "# Had to remove extra commas in experimental block\n"
   ]
  },
  {
   "cell_type": "markdown",
   "metadata": {},
   "source": [
    "## Make arsenic plot"
   ]
  },
  {
   "cell_type": "code",
   "execution_count": 26,
   "metadata": {
    "scrolled": true
   },
   "outputs": [],
   "source": [
    "import numpy as np\n",
    "\n",
    "%matplotlib inline\n",
    "import matplotlib.pylab as plt\n",
    "\n",
    "from arsenic import plotting, stats, wrangle"
   ]
  },
  {
   "cell_type": "code",
   "execution_count": 38,
   "metadata": {},
   "outputs": [
    {
     "name": "stdout",
     "output_type": "stream",
     "text": [
      "Graph is not connected enough to compute absolute values\n"
     ]
    }
   ],
   "source": [
    "fe = wrangle.FEMap('/data/chodera/zhangi/perses_benchmark/neq/15/arsenic_input_20210402_nooutliers.csv')"
   ]
  },
  {
   "cell_type": "code",
   "execution_count": 39,
   "metadata": {},
   "outputs": [
    {
     "data": {
      "image/png": "[encoded data removed]",
      "text/plain": [
       "<Figure size 234x234 with 1 Axes>"
      ]
     },
     "metadata": {
      "needs_background": "light"
     },
     "output_type": "display_data"
    }
   ],
   "source": [
    "plotting.plot_DDGs(fe.graph,target_name='barnase', title='Mutations in RBD', units=r'$\\mathrm{kcal\\,/mol}$', filename='/data/chodera/zhangi/perses_benchmark/neq/15/arsenic_input_20210402_nooutliers.png')\n",
    "# added dpi to savefig() in local version\n",
    "# removed \"/\" in labels in local version"
   ]
  },
  {
   "cell_type": "code",
   "execution_count": null,
   "metadata": {},
   "outputs": [],
   "source": []
  },
  {
   "cell_type": "markdown",
   "metadata": {},
   "source": [
    "# RBD:ACE2 mutations without stabiliity outliers, including N501 outliers"
   ]
  },
  {
   "cell_type": "markdown",
   "metadata": {},
   "source": [
    "## Format the data appropriately for arsenic"
   ]
  },
  {
   "cell_type": "code",
   "execution_count": 1,
   "metadata": {},
   "outputs": [],
   "source": [
    "import numpy as np\n",
    "import pickle\n",
    "from simtk.openmm import unit\n",
    "from openmmtools.constants import kB\n",
    "import pandas as pd\n",
    "KT_KCALMOL = kB * 300 * unit.kelvin / unit.kilocalories_per_mole"
   ]
  },
  {
   "cell_type": "code",
   "execution_count": 2,
   "metadata": {},
   "outputs": [],
   "source": [
    "def compute_binding_ddgs(apo_ddg, complex_ddg):\n",
    "    return (apo_ddg**2 + complex_ddg**2)**0.5"
   ]
  },
  {
   "cell_type": "code",
   "execution_count": 3,
   "metadata": {},
   "outputs": [],
   "source": [
    "title_pairs = [[\"N439K\"], [\"Y453F\"], [\"Q493A\"], [\"T500I\"], [\"N487R\"], [\"Y489Q\"], [\"E484K\"], [\"K417N\"], [\"N501Y\"], [\"N501D\"]]\n",
    "dir_num = 15\n",
    "subdirs = [30, 13, 14, 15, 33, 26, 31, 32, 36, 34]\n",
    "# to_plot = ['# Calculated block', '# Mutant1, Mutant2, calc_DDG, calc_dDDG(BAR), calc_dDDG(additional)']\n",
    "to_plot = []\n",
    "for i, subdir in enumerate(subdirs):\n",
    "    with open(f\"/data/chodera/zhangi/perses_benchmark/neq/{dir_num}/{subdir}/ddgs.pickle\", \"rb\") as f:\n",
    "        ddgs = pickle.load(f)\n",
    "    with open(f\"/data/chodera/zhangi/perses_benchmark/neq/{dir_num}/{subdir}/dgs_phase.pickle\", \"rb\") as f:\n",
    "        dgs_phase = pickle.load(f)\n",
    "        \n",
    "        # Compute binding ddgs from BAR\n",
    "        binding_ddgs_forward = []\n",
    "#         binding_ddgs_backward = []\n",
    "        for j in range(len(dgs_phase)):\n",
    "            binding_ddgs_forward.append(compute_binding_ddgs(dgs_phase[subdir][j]['apo'][1], dgs_phase[subdir][j]['complex'][1]))\n",
    "#             binding_ddgs_backward.append(compute_binding_ddgs(dgs_phase[subdir+1][j]['apo'][1], dgs_phase[subdir+1][j]['complex'][1]))\n",
    "\n",
    "    to_plot.append([title_pairs[i][0][:-1], title_pairs[i][0][-1] + title_pairs[i][0][1:4], np.mean(ddgs[subdir])*KT_KCALMOL, np.mean(binding_ddgs_forward)*KT_KCALMOL, abs(np.mean(ddgs[subdir])*KT_KCALMOL - np.percentile(ddgs[subdir], 2.5)*KT_KCALMOL)])\n",
    "#     to_plot.append([title_pairs[i][1][:-1], title_pairs[i][1][-1] + title_pairs[i][1][1:3], np.mean(ddgs[subdir+1])*KT_KCALMOL, np.mean(binding_ddgs_backward)*KT_KCALMOL, abs(np.mean(ddgs[subdir+1])*KT_KCALMOL - np.percentile(ddgs[subdir+1], 2.5)*KT_KCALMOL)]) # take the negative of these so they match the forward transform values\n",
    "        \n",
    "        \n",
    "        "
   ]
  },
  {
   "cell_type": "code",
   "execution_count": 4,
   "metadata": {},
   "outputs": [
    {
     "data": {
      "text/plain": [
       "[['N439',\n",
       "  'K439',\n",
       "  -0.08246009269737735,\n",
       "  0.3039936928161879,\n",
       "  0.5296867591413762],\n",
       " ['Y453',\n",
       "  'F453',\n",
       "  0.016221214336817405,\n",
       "  0.07095216681268039,\n",
       "  0.16726706550421838],\n",
       " ['Q493',\n",
       "  'A493',\n",
       "  0.6016017865436382,\n",
       "  0.14855227343476793,\n",
       "  0.41078091967301505],\n",
       " ['T500', 'I500', 3.394569899074289, 0.1462170981341006, 0.2836054132071184],\n",
       " ['N487', 'R487', 2.782722120574718, 0.27586859815474446, 0.7122965836896915],\n",
       " ['Y489', 'Q489', 3.174023122750573, 0.18662803018836197, 0.36937065121980694],\n",
       " ['E484',\n",
       "  'K484',\n",
       "  -0.5047785640875477,\n",
       "  0.16617753884506678,\n",
       "  0.30307010074253316],\n",
       " ['K417', 'N417', 0.4846476966897347, 0.24848803608530268, 0.6131470936392587],\n",
       " ['N501', 'Y501', 6.393871030617074, 0.5323957330332186, 1.58162204319264],\n",
       " ['N501', 'D501', 7.79304894759099, 0.4530959172885375, 1.3399323056742718]]"
      ]
     },
     "execution_count": 4,
     "metadata": {},
     "output_type": "execute_result"
    }
   ],
   "source": [
    "to_plot"
   ]
  },
  {
   "cell_type": "code",
   "execution_count": 5,
   "metadata": {},
   "outputs": [],
   "source": [
    "d = {'WT': 0, 'K439': -0.06, 'F453': -0.35, \n",
    "     'A493': -0.18, 'I500': 3.18, \"R487\": 3.18, \n",
    "     \"Q489\": 3.04, \"K484\": -0.08, \"N417\": 0.62, 'Y501': -0.33, \"D501\": 3.34}"
   ]
  },
  {
   "cell_type": "code",
   "execution_count": 6,
   "metadata": {},
   "outputs": [],
   "source": [
    "# experiment = ['# Experiment block', '# Mutant, expt_DDG, expt_dDDG']\n",
    "experiment = []\n",
    "for k in d.keys():\n",
    "    if k == 'WT':\n",
    "        experiment.append(['N439', d['WT'], 0])\n",
    "        experiment.append(['Y453', d['WT'], 0])\n",
    "        experiment.append(['Q493', d['WT'], 0])\n",
    "        experiment.append(['T500', d['WT'], 0])\n",
    "        experiment.append(['N487', d['WT'], 0])\n",
    "        experiment.append(['Y489', d['WT'], 0])\n",
    "        experiment.append(['E484', d['WT'], 0])\n",
    "        experiment.append(['K417', d['WT'], 0])\n",
    "        experiment.append(['N501', d['WT'], 0])\n",
    "    else:\n",
    "        experiment.append([k, d[k], 0])"
   ]
  },
  {
   "cell_type": "code",
   "execution_count": 7,
   "metadata": {},
   "outputs": [
    {
     "data": {
      "text/plain": [
       "[['N439', 0, 0],\n",
       " ['Y453', 0, 0],\n",
       " ['Q493', 0, 0],\n",
       " ['T500', 0, 0],\n",
       " ['N487', 0, 0],\n",
       " ['Y489', 0, 0],\n",
       " ['E484', 0, 0],\n",
       " ['K417', 0, 0],\n",
       " ['N501', 0, 0],\n",
       " ['K439', -0.06, 0],\n",
       " ['F453', -0.35, 0],\n",
       " ['A493', -0.18, 0],\n",
       " ['I500', 3.18, 0],\n",
       " ['R487', 3.18, 0],\n",
       " ['Q489', 3.04, 0],\n",
       " ['K484', -0.08, 0],\n",
       " ['N417', 0.62, 0],\n",
       " ['Y501', -0.33, 0],\n",
       " ['D501', 3.34, 0]]"
      ]
     },
     "execution_count": 7,
     "metadata": {},
     "output_type": "execute_result"
    }
   ],
   "source": [
    "experiment"
   ]
  },
  {
   "cell_type": "code",
   "execution_count": 9,
   "metadata": {},
   "outputs": [],
   "source": [
    "pd.DataFrame(experiment + to_plot).to_csv(f\"/data/chodera/zhangi/perses_benchmark/neq/{dir_num}/arsenic_input_20210429_N501_outliers_only.csv\", index=False, header=False)\n",
    "# Had to manually add headings, otherwise the lists wouldn't print out as comma separated\n",
    "# Had to remove extra commas in experimental block\n"
   ]
  },
  {
   "cell_type": "markdown",
   "metadata": {},
   "source": [
    "## Make arsenic plot"
   ]
  },
  {
   "cell_type": "code",
   "execution_count": 4,
   "metadata": {
    "scrolled": true
   },
   "outputs": [],
   "source": [
    "import numpy as np\n",
    "\n",
    "%matplotlib inline\n",
    "import matplotlib.pylab as plt\n",
    "\n",
    "from arsenic import plotting, stats, wrangle"
   ]
  },
  {
   "cell_type": "code",
   "execution_count": 5,
   "metadata": {},
   "outputs": [
    {
     "name": "stdout",
     "output_type": "stream",
     "text": [
      "Graph is not connected enough to compute absolute values\n"
     ]
    }
   ],
   "source": [
    "fe = wrangle.FEMap('/data/chodera/zhangi/perses_benchmark/neq/15/arsenic_input_20210429_N501_outliers_only.csv')"
   ]
  },
  {
   "cell_type": "code",
   "execution_count": 7,
   "metadata": {},
   "outputs": [
    {
     "data": {
      "image/png": "[encoded data removed]",
      "text/plain": [
       "<Figure size 234x234 with 1 Axes>"
      ]
     },
     "metadata": {
      "needs_background": "light"
     },
     "output_type": "display_data"
    }
   ],
   "source": [
    "plotting.plot_DDGs(fe.graph,target_name='barnase', title='Mutations in RBD', units=r'$\\mathrm{kcal\\,/mol}$', filename='/data/chodera/zhangi/perses_benchmark/neq/15/arsenic_input_20210429_N501_outliers_only.png')\n",
    "# added dpi to savefig() in local version\n",
    "# removed \"/\" in labels in local version"
   ]
  },
  {
   "cell_type": "code",
   "execution_count": null,
   "metadata": {},
   "outputs": [],
   "source": []
  }
 ],
 "metadata": {
  "kernelspec": {
   "display_name": "Python 3",
   "language": "python",
   "name": "python3"
  },
  "language_info": {
   "codemirror_mode": {
    "name": "ipython",
    "version": 3
   },
   "file_extension": ".py",
   "mimetype": "text/x-python",
   "name": "python",
   "nbconvert_exporter": "python",
   "pygments_lexer": "ipython3",
   "version": "3.8.6"
  }
 },
 "nbformat": 4,
 "nbformat_minor": 4
}
