{
 "cells": [
  {
   "cell_type": "code",
   "execution_count": 1,
   "id": "needed-spirituality",
   "metadata": {},
   "outputs": [],
   "source": [
    "import os\n",
    "import numpy as np"
   ]
  },
  {
   "cell_type": "code",
   "execution_count": 2,
   "id": "expensive-flower",
   "metadata": {},
   "outputs": [
    {
     "name": "stdout",
     "output_type": "stream",
     "text": [
      "shape: (100, 200492, 3)\n",
      "array.shape: (60147600,)\n"
     ]
    }
   ],
   "source": [
    "with open(\"/data/chodera/zhangi/perses_benchmark/neq/14/24/24_complex_arg_1ns_snapshots.npy\", \"rb\") as f:\n",
    "    cache = np.load(f)"
   ]
  },
  {
   "cell_type": "code",
   "execution_count": 4,
   "id": "unavailable-avenue",
   "metadata": {},
   "outputs": [],
   "source": [
    "for i, snapshot in enumerate(cache):\n",
    "    with open(f\"/data/chodera/zhangi/perses_benchmark/neq/14/24/24_complex_arg_1ns_snapshot_{i}.npy\", \"wb\") as f:\n",
    "        np.save(f, snapshot)"
   ]
  },
  {
   "cell_type": "code",
   "execution_count": null,
   "id": "sharp-secret",
   "metadata": {},
   "outputs": [],
   "source": []
  }
 ],
 "metadata": {
  "kernelspec": {
   "display_name": "Python 3",
   "language": "python",
   "name": "python3"
  },
  "language_info": {
   "codemirror_mode": {
    "name": "ipython",
    "version": 3
   },
   "file_extension": ".py",
   "mimetype": "text/x-python",
   "name": "python",
   "nbconvert_exporter": "python",
   "pygments_lexer": "ipython3",
   "version": "3.8.6"
  }
 },
 "nbformat": 4,
 "nbformat_minor": 5
}
