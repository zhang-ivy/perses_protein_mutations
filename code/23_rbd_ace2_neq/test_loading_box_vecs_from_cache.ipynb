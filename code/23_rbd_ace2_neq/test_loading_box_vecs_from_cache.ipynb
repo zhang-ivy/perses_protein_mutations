{
 "cells": [
  {
   "cell_type": "code",
   "execution_count": 1,
   "id": "conservative-worthy",
   "metadata": {},
   "outputs": [],
   "source": [
    "import logging\n",
    "import pickle\n",
    "import numpy as np\n",
    "from openmmtools.integrators import PeriodicNonequilibriumIntegrator\n",
    "from simtk import unit, openmm\n",
    "import argparse\n",
    "import os\n",
    "import time\n",
    "import mdtraj as md\n",
    "from tqdm import tqdm\n",
    "from openmmtools.constants import kB\n",
    "\n",
    "# Set up logger\n",
    "_logger = logging.getLogger()\n",
    "_logger.setLevel(logging.INFO)\n",
    "\n"
   ]
  },
  {
   "cell_type": "code",
   "execution_count": 7,
   "id": "simplified-muscle",
   "metadata": {},
   "outputs": [],
   "source": [
    "outdir = \"/data/chodera/zhangi/perses_benchmark/neq/14/76/\"\n",
    "phase = 'complex'\n",
    "sim_number = 2\n",
    "old_aa_name = 'asn'\n",
    "new_aa_name = 'lys'\n",
    "length = 1\n",
    "cache = 1\n",
    "cache_length = 1"
   ]
  },
  {
   "cell_type": "markdown",
   "id": "monetary-marathon",
   "metadata": {},
   "source": [
    "## Run neq integrator"
   ]
  },
  {
   "cell_type": "code",
   "execution_count": 3,
   "id": "north-medicaid",
   "metadata": {},
   "outputs": [],
   "source": [
    "# Define lambda functions\n",
    "x = 'lambda'\n",
    "DEFAULT_ALCHEMICAL_FUNCTIONS = {\n",
    "                             'lambda_sterics_core': x,\n",
    "                             'lambda_electrostatics_core': x,\n",
    "                             'lambda_sterics_insert': f\"select(step({x} - 0.5), 1.0, 2.0 * {x})\",\n",
    "                             'lambda_sterics_delete': f\"select(step({x} - 0.5), 2.0 * ({x} - 0.5), 0.0)\",\n",
    "                             'lambda_electrostatics_insert': f\"select(step({x} - 0.5), 2.0 * ({x} - 0.5), 0.0)\",\n",
    "                             'lambda_electrostatics_delete': f\"select(step({x} - 0.5), 1.0, 2.0 * {x})\",\n",
    "                             'lambda_bonds': x,\n",
    "                             'lambda_angles': x,\n",
    "                             'lambda_torsions': x}\n",
    "\n",
    "# Define simulation parameters\n",
    "# nsteps_eq = 25000 # 100 ps \n",
    "nsteps_eq = 1\n",
    "nsteps_neq = 250000\n",
    "neq_splitting='V R H O R V'\n",
    "timestep = 4.0 * unit.femtosecond\n",
    "platform_name = 'CUDA'\n",
    "cache_length = 1\n",
    "temperature = 298.0 * unit.kelvin\n",
    "kT = kB * temperature\n"
   ]
  },
  {
   "cell_type": "code",
   "execution_count": 8,
   "id": "amateur-profile",
   "metadata": {},
   "outputs": [],
   "source": [
    "# Read in vanilla htf\n",
    "i = os.path.basename(os.path.dirname(outdir))\n",
    "with open(os.path.join(\"/data/chodera/zhangi/perses_benchmark/neq/15/76/\", f\"{i}_{phase}.pickle\"), 'rb') as f:\n",
    "    htf = pickle.load(f)\n",
    "\n",
    "\n"
   ]
  },
  {
   "cell_type": "code",
   "execution_count": 9,
   "id": "authentic-tablet",
   "metadata": {},
   "outputs": [],
   "source": [
    "# Read in lambda = 0 cache\n",
    "with open(os.path.join(outdir, f\"{i}_{phase}_{old_aa_name}_{cache_length}ns_snapshots.npy\"), 'rb') as f:\n",
    "    subset_pos = np.load(f)\n",
    "positions = subset_pos[sim_number]\n",
    "system = htf.hybrid_system\n"
   ]
  },
  {
   "cell_type": "code",
   "execution_count": 11,
   "id": "durable-robert",
   "metadata": {},
   "outputs": [],
   "source": [
    "# Read in lambda = 0 cache box vectors\n",
    "with open(os.path.join(outdir, f\"box_vectors.npy\"), 'rb') as f:\n",
    "    subset_box_vectors = np.load(f)\n",
    "box_vectors = subset_box_vectors[sim_number][0]\n"
   ]
  },
  {
   "cell_type": "code",
   "execution_count": 13,
   "id": "separated-steam",
   "metadata": {},
   "outputs": [],
   "source": [
    "# Set up integrator\n",
    "integrator = PeriodicNonequilibriumIntegrator(DEFAULT_ALCHEMICAL_FUNCTIONS, nsteps_eq, nsteps_neq, neq_splitting, timestep=timestep, temperature=temperature)\n",
    "\n",
    "# Set up context\n",
    "platform = openmm.Platform.getPlatformByName(platform_name)\n",
    "if platform_name in ['CUDA', 'OpenCL']:\n",
    "    platform.setPropertyDefaultValue('Precision', 'mixed')\n",
    "if platform_name in ['CUDA']:\n",
    "    platform.setPropertyDefaultValue('DeterministicForces', 'true')\n",
    "context = openmm.Context(system, integrator, platform)\n"
   ]
  },
  {
   "cell_type": "code",
   "execution_count": 20,
   "id": "regular-street",
   "metadata": {},
   "outputs": [],
   "source": [
    "context.setPeriodicBoxVectors(*box_vectors[0])\n",
    "context.setPositions(positions)\n",
    "context.setVelocitiesToTemperature(temperature)\n",
    "\n",
    "# # Minimize\n",
    "# openmm.LocalEnergyMinimizer.minimize(context)\n",
    "\n"
   ]
  },
  {
   "cell_type": "code",
   "execution_count": 21,
   "id": "seventh-westminster",
   "metadata": {},
   "outputs": [
    {
     "data": {
      "text/plain": [
       "<simtk.openmm.openmm.System; proxy of <Swig Object of type 'OpenMM::System *' at 0x2b15371a17b0> >"
      ]
     },
     "execution_count": 21,
     "metadata": {},
     "output_type": "execute_result"
    }
   ],
   "source": [
    "context.getSystem().getSystem"
   ]
  },
  {
   "cell_type": "code",
   "execution_count": 22,
   "id": "reflected-chemistry",
   "metadata": {},
   "outputs": [
    {
     "data": {
      "text/plain": [
       "array([[13.491772 ,  0.       ,  0.       ],\n",
       "       [-4.4972568, 12.720165 ,  0.       ],\n",
       "       [-4.4972568, -6.3600817, 11.015986 ]], dtype=float32)"
      ]
     },
     "execution_count": 22,
     "metadata": {},
     "output_type": "execute_result"
    }
   ],
   "source": [
    "box_vectors[0]"
   ]
  },
  {
   "cell_type": "code",
   "execution_count": null,
   "id": "informed-spanking",
   "metadata": {},
   "outputs": [],
   "source": []
  }
 ],
 "metadata": {
  "kernelspec": {
   "display_name": "Python 3",
   "language": "python",
   "name": "python3"
  },
  "language_info": {
   "codemirror_mode": {
    "name": "ipython",
    "version": 3
   },
   "file_extension": ".py",
   "mimetype": "text/x-python",
   "name": "python",
   "nbconvert_exporter": "python",
   "pygments_lexer": "ipython3",
   "version": "3.8.6"
  }
 },
 "nbformat": 4,
 "nbformat_minor": 5
}
