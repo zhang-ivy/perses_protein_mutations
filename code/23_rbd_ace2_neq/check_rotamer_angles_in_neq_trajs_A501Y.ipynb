{
 "cells": [
  {
   "cell_type": "code",
   "execution_count": 1,
   "id": "broken-enemy",
   "metadata": {},
   "outputs": [],
   "source": [
    "import mdtraj as md\n",
    "import numpy as np\n",
    "import pickle\n",
    "import os\n",
    "from tqdm import tqdm_notebook\n",
    "from simtk.openmm import app"
   ]
  },
  {
   "cell_type": "markdown",
   "id": "palestinian-implementation",
   "metadata": {},
   "source": [
    "## Load htf and trajs for analysis"
   ]
  },
  {
   "cell_type": "code",
   "execution_count": 3,
   "id": "finnish-hamburg",
   "metadata": {},
   "outputs": [],
   "source": [
    "outdir = \"/data/chodera/zhangi/perses_benchmark/neq/15/83\"\n",
    "i = 83\n",
    "phase = 'complex'\n",
    "cycle = 0"
   ]
  },
  {
   "cell_type": "code",
   "execution_count": 3,
   "id": "anonymous-replication",
   "metadata": {},
   "outputs": [],
   "source": [
    "htf = pickle.load(open(os.path.join(outdir, f\"{i}_{phase}.pickle\"), \"rb\"))"
   ]
  },
  {
   "cell_type": "code",
   "execution_count": 7,
   "id": "sealed-shuttle",
   "metadata": {},
   "outputs": [],
   "source": [
    "with open(os.path.join(outdir, f\"{i}_{phase}_{cycle}_forward_neq_new.npy\"), 'rb') as f:\n",
    "    neq_new = np.load(f)"
   ]
  },
  {
   "cell_type": "code",
   "execution_count": 8,
   "id": "ongoing-outdoors",
   "metadata": {},
   "outputs": [],
   "source": [
    "with open(os.path.join(outdir, f\"{i}_{phase}_{cycle}_reverse_neq_new.npy\"), 'rb') as f:\n",
    "    neq_reverse_new = np.load(f)"
   ]
  },
  {
   "cell_type": "code",
   "execution_count": 9,
   "id": "marine-transsexual",
   "metadata": {},
   "outputs": [],
   "source": [
    "modeller = app.Modeller(htf._topology_proposal.new_topology, htf.new_positions(htf.hybrid_positions))\n",
    "modeller.deleteWater()"
   ]
  },
  {
   "cell_type": "code",
   "execution_count": 10,
   "id": "accepting-owner",
   "metadata": {},
   "outputs": [],
   "source": [
    "top = md.Topology.from_openmm(modeller.topology)"
   ]
  },
  {
   "cell_type": "code",
   "execution_count": 11,
   "id": "according-bridges",
   "metadata": {},
   "outputs": [],
   "source": [
    "traj = md.Trajectory(np.array(neq_new), top)\n"
   ]
  },
  {
   "cell_type": "code",
   "execution_count": null,
   "id": "copyrighted-thanks",
   "metadata": {},
   "outputs": [],
   "source": [
    "def new_positions(hybrid_positions):\n",
    "    n_atoms_new = htf._topology_proposal.n_atoms_new\n",
    "    hybrid_indices = [htf._new_to_hybrid_map[idx] for idx in range(n_atoms_new)]\n",
    "    return hybrid_positions[hybrid_indices, :]\n",
    "    \n",
    "def old_positions(hybrid_positions):\n",
    "    n_atoms_old = htf._topology_proposal.n_atoms_old\n",
    "    hybrid_indices = [htf._old_to_hybrid_map[idx] for idx in range(n_atoms_old)]\n",
    "    return hybrid_positions[hybrid_indices, :]\n",
    "\n",
    "def make_traj(outdir, htf, i, phase, name, endstate, is_old=True, solvent_only=False):\n",
    "    with open(os.path.join(outdir, f\"{i}_{phase}_{name}_1ns_snapshots.npy\"), \"rb\") as f:\n",
    "        cache = np.load(f)\n",
    "    if is_old:\n",
    "        old_pos = np.zeros(shape=(100, htf._topology_proposal.old_topology.getNumAtoms(), 3))\n",
    "        for j, pos in tqdm_notebook(enumerate(cache)):\n",
    "            old_pos[j] = old_positions(unit.Quantity(pos, unit=unit.nanometers)).value_in_unit_system(unit.md_unit_system)\n",
    "        \n",
    "        traj = md.Trajectory(old_pos, md.Topology.from_openmm(htf._topology_proposal.old_topology))\n",
    "    else:\n",
    "        new_pos = np.zeros(shape=(100, htf._topology_proposal.new_topology.getNumAtoms(), 3))\n",
    "        for j, pos in tqdm_notebook(enumerate(cache)):\n",
    "            new_pos[j] = new_positions(unit.Quantity(pos, unit=unit.nanometers)).value_in_unit_system(unit.md_unit_system)\n",
    "        \n",
    "        traj = md.Trajectory(new_pos, md.Topology.from_openmm(htf._topology_proposal.new_topology))\n",
    "        \n",
    "    box_vectors = np.array([val.value_in_unit_system(unit.md_unit_system) for val in htf.hybrid_system.getDefaultPeriodicBoxVectors()])\n",
    "    vectors = np.array([box_vectors]) \n",
    "        \n",
    "    if solvent_only:\n",
    "        traj.atom_slice(traj.topology.select(\"water or resname 'na\\+' or resn 'cl\\-'\"), inplace=True)\n",
    "        \n",
    "    # Set unit cell vectors in traj \n",
    "    traj.unitcell_vectors = np.repeat(vectors, 100, axis=0)\n",
    "    traj.image_molecules(inplace=True)\n",
    "    \n",
    "    if solvent_only:\n",
    "        traj.save(os.path.join(outdir, f\"{i}_{phase}_{endstate}_solvent.dcd\"))\n",
    "        traj[0].save(os.path.join(outdir, f\"{i}_{phase}_{endstate}_solvent.pdb\"))\n",
    "    else:\n",
    "        traj.save(os.path.join(outdir, f\"{i}_{phase}_{endstate}.dcd\"))\n",
    "        traj[0].save(os.path.join(outdir, f\"{i}_{phase}_{endstate}.pdb\"))\n",
    "    return traj\n",
    "       "
   ]
  },
  {
   "cell_type": "code",
   "execution_count": 12,
   "id": "religious-kansas",
   "metadata": {},
   "outputs": [],
   "source": [
    "traj_reverse = md.Trajectory(np.array(neq_reverse_new), top)\n"
   ]
  },
  {
   "cell_type": "markdown",
   "id": "stable-dublin",
   "metadata": {},
   "source": [
    "## Compute chi1 and chi2 angles for Y501 in the last snapshot of fwd switching and the first snapshot of reverse switching"
   ]
  },
  {
   "cell_type": "code",
   "execution_count": 13,
   "id": "handmade-rover",
   "metadata": {},
   "outputs": [
    {
     "name": "stdout",
     "output_type": "stream",
     "text": [
      "TYR501-N 501 2605\n",
      "TYR501-H 501 2606\n",
      "TYR501-CA 501 2607\n",
      "TYR501-HA 501 2608\n",
      "TYR501-CB 501 2609\n",
      "TYR501-HB2 501 2610\n",
      "TYR501-HB3 501 2611\n",
      "TYR501-CG 501 2612\n",
      "TYR501-CD1 501 2613\n",
      "TYR501-HD1 501 2614\n",
      "TYR501-CE1 501 2615\n",
      "TYR501-HE1 501 2616\n",
      "TYR501-CZ 501 2617\n",
      "TYR501-OH 501 2618\n",
      "TYR501-HH 501 2619\n",
      "TYR501-CE2 501 2620\n",
      "TYR501-HE2 501 2621\n",
      "TYR501-CD2 501 2622\n",
      "TYR501-HD2 501 2623\n",
      "TYR501-C 501 2624\n",
      "TYR501-O 501 2625\n"
     ]
    }
   ],
   "source": [
    "tyr_atoms = []\n",
    "for atom in top.atoms:\n",
    "    if atom.residue.resSeq == 501 and atom.residue.name == 'TYR':\n",
    "        print(atom, atom.residue.resSeq, atom.index)\n",
    "        tyr_atoms.append(atom.index)"
   ]
  },
  {
   "cell_type": "code",
   "execution_count": 14,
   "id": "fifty-pharmacology",
   "metadata": {},
   "outputs": [],
   "source": [
    "indices, angles = md.compute_chi1(traj[-1])"
   ]
  },
  {
   "cell_type": "code",
   "execution_count": 15,
   "id": "extreme-brass",
   "metadata": {},
   "outputs": [
    {
     "name": "stdout",
     "output_type": "stream",
     "text": [
      "146 [2605 2607 2609 2612]\n"
     ]
    }
   ],
   "source": [
    "for i, index_set in enumerate(indices):\n",
    "    if set(index_set).intersection(set(tyr_atoms)):\n",
    "        print(i, index_set)"
   ]
  },
  {
   "cell_type": "code",
   "execution_count": 16,
   "id": "instructional-drink",
   "metadata": {},
   "outputs": [],
   "source": [
    "indices, angles = md.compute_chi2(traj[-1])"
   ]
  },
  {
   "cell_type": "code",
   "execution_count": 17,
   "id": "judicial-cycle",
   "metadata": {},
   "outputs": [
    {
     "name": "stdout",
     "output_type": "stream",
     "text": [
      "104 [2607 2609 2612 2613]\n"
     ]
    }
   ],
   "source": [
    "for i, index_set in enumerate(indices):\n",
    "    if set(index_set).intersection(set(tyr_atoms)):\n",
    "        print(i, index_set)"
   ]
  },
  {
   "cell_type": "code",
   "execution_count": 18,
   "id": "modified-portrait",
   "metadata": {},
   "outputs": [],
   "source": [
    "indices, angles = md.compute_chi1(traj_reverse[0])"
   ]
  },
  {
   "cell_type": "code",
   "execution_count": 19,
   "id": "alike-allergy",
   "metadata": {},
   "outputs": [
    {
     "name": "stdout",
     "output_type": "stream",
     "text": [
      "146 [2605 2607 2609 2612]\n"
     ]
    }
   ],
   "source": [
    "for i, index_set in enumerate(indices):\n",
    "    if set(index_set).intersection(set(tyr_atoms)):\n",
    "        print(i, index_set)"
   ]
  },
  {
   "cell_type": "code",
   "execution_count": 20,
   "id": "naval-witch",
   "metadata": {},
   "outputs": [],
   "source": [
    "indices, angles = md.compute_chi2(traj_reverse[0])"
   ]
  },
  {
   "cell_type": "code",
   "execution_count": 21,
   "id": "aquatic-highland",
   "metadata": {},
   "outputs": [
    {
     "name": "stdout",
     "output_type": "stream",
     "text": [
      "104 [2607 2609 2612 2613]\n"
     ]
    }
   ],
   "source": [
    "for i, index_set in enumerate(indices):\n",
    "    if set(index_set).intersection(set(tyr_atoms)):\n",
    "        print(i, index_set)"
   ]
  },
  {
   "cell_type": "code",
   "execution_count": 22,
   "id": "isolated-surgeon",
   "metadata": {},
   "outputs": [
    {
     "name": "stderr",
     "output_type": "stream",
     "text": [
      "<ipython-input-22-acf3466c0dd0>:2: TqdmDeprecationWarning: This function will be removed in tqdm==5.0.0\n",
      "Please use `tqdm.notebook.tqdm` instead of `tqdm.tqdm_notebook`\n",
      "  for cycle in tqdm_notebook(range(100)):\n"
     ]
    },
    {
     "data": {
      "application/vnd.jupyter.widget-view+json": {
       "model_id": "cddcd3feee0a4cd5b47e75d833be2f04",
       "version_major": 2,
       "version_minor": 0
      },
      "text/plain": [
       "  0%|          | 0/100 [00:00<?, ?it/s]"
      ]
     },
     "metadata": {},
     "output_type": "display_data"
    }
   ],
   "source": [
    "forward_chi1, forward_chi2, reverse_chi1, reverse_chi2 = list(), list(), list(), list()\n",
    "for cycle in tqdm_notebook(range(100)):\n",
    "    with open(os.path.join(outdir, f\"83_{phase}_{cycle}_forward_neq_new.npy\"), 'rb') as f:\n",
    "        neq_new = np.load(f)\n",
    "    with open(os.path.join(outdir, f\"83_{phase}_{cycle}_reverse_neq_new.npy\"), 'rb') as f:\n",
    "        neq_reverse_new = np.load(f)\n",
    "        \n",
    "    modeller = app.Modeller(htf._topology_proposal.new_topology, htf.new_positions(htf.hybrid_positions))\n",
    "    modeller.deleteWater()\n",
    "    top = md.Topology.from_openmm(modeller.topology)\n",
    "    \n",
    "    traj = md.Trajectory(np.array(neq_new), top)\n",
    "    traj_reverse = md.Trajectory(np.array(neq_reverse_new), top)\n",
    "\n",
    "    chi1_indices, chi1_angles = md.compute_chi1(traj[-1])\n",
    "    chi2_indices, chi2_angles = md.compute_chi2(traj[-1])\n",
    "    forward_chi1.append(chi1_angles[:, 146])\n",
    "    forward_chi2.append(chi2_angles[:, 104])\n",
    "    \n",
    "    chi1_indices, chi1_angles = md.compute_chi1(traj_reverse[0])\n",
    "    chi2_indices, chi2_angles = md.compute_chi2(traj_reverse[0])\n",
    "    reverse_chi1.append(chi1_angles[:, 146])\n",
    "    reverse_chi2.append(chi2_angles[:, 104])"
   ]
  },
  {
   "cell_type": "code",
   "execution_count": 23,
   "id": "white-internship",
   "metadata": {},
   "outputs": [],
   "source": [
    "with open(os.path.join(outdir, \"Y501_forward_chi1_angles.pickle\"), \"wb\") as f:\n",
    "    pickle.dump(forward_chi1, f)\n",
    "with open(os.path.join(outdir, \"Y501_forward_chi2_angles.pickle\"), \"wb\") as f:\n",
    "    pickle.dump(forward_chi2, f)\n",
    "with open(os.path.join(outdir, \"Y501_reverse_chi1_angles.pickle\"), \"wb\") as f:\n",
    "    pickle.dump(reverse_chi1, f)\n",
    "with open(os.path.join(outdir, \"Y501_reverse_chi2_angles.pickle\"), \"wb\") as f:\n",
    "    pickle.dump(reverse_chi2, f)"
   ]
  },
  {
   "cell_type": "code",
   "execution_count": 4,
   "id": "twelve-immigration",
   "metadata": {},
   "outputs": [],
   "source": [
    "with open(os.path.join(outdir, \"Y501_forward_chi1_angles.pickle\"), \"rb\") as f:\n",
    "    forward_chi1 = pickle.load(f)\n",
    "with open(os.path.join(outdir, \"Y501_forward_chi2_angles.pickle\"), \"rb\") as f:\n",
    "    forward_chi2 = pickle.load(f)\n",
    "with open(os.path.join(outdir, \"Y501_reverse_chi1_angles.pickle\"), \"rb\") as f:\n",
    "    reverse_chi1 = pickle.load(f)\n",
    "with open(os.path.join(outdir, \"Y501_reverse_chi2_angles.pickle\"), \"rb\") as f:\n",
    "    reverse_chi2 = pickle.load(f)"
   ]
  },
  {
   "cell_type": "markdown",
   "id": "national-snapshot",
   "metadata": {},
   "source": [
    "## Plot chi1 and chi2 angles"
   ]
  },
  {
   "cell_type": "code",
   "execution_count": 5,
   "id": "promising-character",
   "metadata": {},
   "outputs": [],
   "source": [
    "import matplotlib.pyplot as plt\n"
   ]
  },
  {
   "cell_type": "code",
   "execution_count": 6,
   "id": "warming-travel",
   "metadata": {},
   "outputs": [
    {
     "data": {
      "image/png": "[encoded data removed]",
      "text/plain": [
       "<Figure size 432x288 with 1 Axes>"
      ]
     },
     "metadata": {
      "needs_background": "light"
     },
     "output_type": "display_data"
    }
   ],
   "source": [
    "plt.hist([arr[0] for arr in forward_chi1])\n",
    "plt.hist([arr[0] for arr in reverse_chi1])\n",
    "plt.xlabel('dihedral angle (radians)')\n",
    "plt.show()"
   ]
  },
  {
   "cell_type": "code",
   "execution_count": 7,
   "id": "great-stocks",
   "metadata": {},
   "outputs": [
    {
     "data": {
      "image/png": "[encoded data removed]",
      "text/plain": [
       "<Figure size 432x288 with 1 Axes>"
      ]
     },
     "metadata": {
      "needs_background": "light"
     },
     "output_type": "display_data"
    }
   ],
   "source": [
    "plt.hist([arr[0] for arr in forward_chi2])\n",
    "plt.hist([arr[0] for arr in reverse_chi2])\n",
    "plt.xlabel('dihedral angle (radians)')\n",
    "plt.show()"
   ]
  },
  {
   "cell_type": "code",
   "execution_count": 50,
   "id": "dense-pledge",
   "metadata": {},
   "outputs": [
    {
     "data": {
      "text/plain": [
       "array([-1.0462533], dtype=float32)"
      ]
     },
     "execution_count": 50,
     "metadata": {},
     "output_type": "execute_result"
    }
   ],
   "source": [
    "forward_chi1[0]"
   ]
  },
  {
   "cell_type": "code",
   "execution_count": 51,
   "id": "respected-dallas",
   "metadata": {},
   "outputs": [
    {
     "data": {
      "text/plain": [
       "array([1.1758909], dtype=float32)"
      ]
     },
     "execution_count": 51,
     "metadata": {},
     "output_type": "execute_result"
    }
   ],
   "source": [
    "forward_chi1[1]"
   ]
  },
  {
   "cell_type": "code",
   "execution_count": 52,
   "id": "aboriginal-ratio",
   "metadata": {},
   "outputs": [
    {
     "data": {
      "text/plain": [
       "array([1.1641691], dtype=float32)"
      ]
     },
     "execution_count": 52,
     "metadata": {},
     "output_type": "execute_result"
    }
   ],
   "source": [
    "forward_chi1[2]"
   ]
  },
  {
   "cell_type": "code",
   "execution_count": 53,
   "id": "helpful-smart",
   "metadata": {},
   "outputs": [
    {
     "data": {
      "text/plain": [
       "array([-1.0679047], dtype=float32)"
      ]
     },
     "execution_count": 53,
     "metadata": {},
     "output_type": "execute_result"
    }
   ],
   "source": [
    "reverse_chi1[0]"
   ]
  },
  {
   "cell_type": "code",
   "execution_count": 54,
   "id": "flying-brisbane",
   "metadata": {},
   "outputs": [
    {
     "data": {
      "text/plain": [
       "array([-1.1164703], dtype=float32)"
      ]
     },
     "execution_count": 54,
     "metadata": {},
     "output_type": "execute_result"
    }
   ],
   "source": [
    "reverse_chi1[1]"
   ]
  },
  {
   "cell_type": "code",
   "execution_count": 55,
   "id": "helpful-emerald",
   "metadata": {},
   "outputs": [
    {
     "data": {
      "text/plain": [
       "array([-1.1484852], dtype=float32)"
      ]
     },
     "execution_count": 55,
     "metadata": {},
     "output_type": "execute_result"
    }
   ],
   "source": [
    "reverse_chi1[2]"
   ]
  },
  {
   "cell_type": "code",
   "execution_count": null,
   "id": "significant-carpet",
   "metadata": {},
   "outputs": [],
   "source": []
  },
  {
   "cell_type": "code",
   "execution_count": 56,
   "id": "opposed-bicycle",
   "metadata": {},
   "outputs": [
    {
     "data": {
      "text/plain": [
       "array([-0.0900849], dtype=float32)"
      ]
     },
     "execution_count": 56,
     "metadata": {},
     "output_type": "execute_result"
    }
   ],
   "source": [
    "forward_chi2[0]"
   ]
  },
  {
   "cell_type": "code",
   "execution_count": 57,
   "id": "still-venice",
   "metadata": {},
   "outputs": [
    {
     "data": {
      "text/plain": [
       "array([1.0189208], dtype=float32)"
      ]
     },
     "execution_count": 57,
     "metadata": {},
     "output_type": "execute_result"
    }
   ],
   "source": [
    "forward_chi2[1]"
   ]
  },
  {
   "cell_type": "code",
   "execution_count": 58,
   "id": "assured-samoa",
   "metadata": {},
   "outputs": [
    {
     "data": {
      "text/plain": [
       "array([-2.0170689], dtype=float32)"
      ]
     },
     "execution_count": 58,
     "metadata": {},
     "output_type": "execute_result"
    }
   ],
   "source": [
    "forward_chi2[2]"
   ]
  },
  {
   "cell_type": "code",
   "execution_count": 59,
   "id": "surface-firmware",
   "metadata": {},
   "outputs": [
    {
     "data": {
      "text/plain": [
       "array([2.0403852], dtype=float32)"
      ]
     },
     "execution_count": 59,
     "metadata": {},
     "output_type": "execute_result"
    }
   ],
   "source": [
    "reverse_chi2[0]"
   ]
  },
  {
   "cell_type": "code",
   "execution_count": 60,
   "id": "disturbed-edition",
   "metadata": {},
   "outputs": [
    {
     "data": {
      "text/plain": [
       "array([2.0971842], dtype=float32)"
      ]
     },
     "execution_count": 60,
     "metadata": {},
     "output_type": "execute_result"
    }
   ],
   "source": [
    "reverse_chi2[1]"
   ]
  },
  {
   "cell_type": "code",
   "execution_count": 61,
   "id": "documentary-basketball",
   "metadata": {},
   "outputs": [
    {
     "data": {
      "text/plain": [
       "array([2.2351425], dtype=float32)"
      ]
     },
     "execution_count": 61,
     "metadata": {},
     "output_type": "execute_result"
    }
   ],
   "source": [
    "reverse_chi2[2]"
   ]
  },
  {
   "cell_type": "markdown",
   "id": "invalid-thumb",
   "metadata": {},
   "source": [
    "## Cluster the traj indices based on the angles"
   ]
  },
  {
   "cell_type": "code",
   "execution_count": 12,
   "id": "acquired-mainland",
   "metadata": {},
   "outputs": [],
   "source": [
    "d_clusters_forward = {-3: [], -1: [], 1: []}\n",
    "for i, angle in enumerate(forward_chi1):\n",
    "    if angle <= -2:\n",
    "        d_clusters_forward[-3].append(i)\n",
    "    elif angle > -2 and angle < -0.5:\n",
    "        d_clusters_forward[-1].append(i)\n",
    "    else:\n",
    "        d_clusters_forward[1].append(i)\n",
    "\n",
    "d_clusters_reverse = {-3: [], -1: [], 1: []}\n",
    "for i, angle in enumerate(reverse_chi1):\n",
    "    if angle <= -2:\n",
    "        d_clusters_reverse[-3].append(i)\n",
    "    elif angle > -2 and angle < -0.5:\n",
    "        d_clusters_reverse[-1].append(i)\n",
    "    else:\n",
    "        d_clusters_reverse[1].append(i)"
   ]
  },
  {
   "cell_type": "code",
   "execution_count": 29,
   "id": "foreign-assist",
   "metadata": {},
   "outputs": [],
   "source": [
    "d_clusters_forward_chi2 = {-3: [], 0: [], 3: []}\n",
    "for i, angle in enumerate(forward_chi2):\n",
    "    if angle <= -1:\n",
    "        d_clusters_forward_chi2[-3].append(i)\n",
    "    elif angle > -1 and angle < 1:\n",
    "        d_clusters_forward_chi2[0].append(i)\n",
    "    else:\n",
    "        d_clusters_forward_chi2[3].append(i)\n",
    "\n",
    "d_clusters_reverse_chi2 = {-3: [], 0: [], 3: []}\n",
    "for i, angle in enumerate(reverse_chi2):\n",
    "    if angle <= -1:\n",
    "        d_clusters_reverse_chi2[-3].append(i)\n",
    "    elif angle > -1 and angle < 1:\n",
    "        d_clusters_reverse_chi2[0].append(i)\n",
    "    else:\n",
    "        d_clusters_reverse_chi2[3].append(i)"
   ]
  },
  {
   "cell_type": "markdown",
   "id": "extensive-upset",
   "metadata": {},
   "source": [
    "## Plot the work values for each cluster"
   ]
  },
  {
   "cell_type": "code",
   "execution_count": 8,
   "id": "following-chance",
   "metadata": {},
   "outputs": [],
   "source": [
    "from perses.analysis.analysis import Analysis\n",
    "import numpy as np\n",
    "import seaborn as sns\n",
    "import matplotlib.pyplot as plt\n",
    "import pymbar\n",
    "%matplotlib inline\n",
    "import os\n",
    "import itertools\n",
    "from tqdm import tqdm_notebook\n",
    "import pandas as pd\n",
    "import tqdm\n",
    "import warnings\n",
    "warnings.filterwarnings('ignore')\n",
    "from simtk.openmm import unit\n",
    "from openmmtools.constants import kB\n",
    "KT_KCALMOL = kB * 300 * unit.kelvin / unit.kilocalories_per_mole\n",
    "import pandas as pd\n",
    "import pickle"
   ]
  },
  {
   "cell_type": "code",
   "execution_count": 9,
   "id": "sublime-grant",
   "metadata": {},
   "outputs": [],
   "source": [
    "def analyze(forward_accumulated, reverse_accumulated): \n",
    "    # Compute dg, ddg\n",
    "    dg, ddg = pymbar.bar.BAR(forward_accumulated, reverse_accumulated)\n",
    "    return dg, ddg\n",
    "\n",
    "def analyze_bootstrap(d_works):\n",
    "    d_dgs_phase = {}\n",
    "    complex_dg, complex_ddg = analyze(d_works['complex']['forward'], d_works['complex']['reverse'])\n",
    "    apo_dg, apo_ddg = analyze(d_works['apo']['forward'], d_works['apo']['reverse'])\n",
    "    d_dgs_phase['complex'] = (complex_dg, complex_ddg)\n",
    "    d_dgs_phase['apo'] = (apo_dg, apo_ddg)\n",
    "    \n",
    "    binding_dg = complex_dg - apo_dg\n",
    "#     binding_ddg = (apo_ddg**2 + complex_ddg**2)**0.5\n",
    "    return d_dgs_phase, binding_dg\n",
    "    \n",
    "def plot(forward_work, reverse_work, dg, ddg, dir_num, phase, output_dir, title):\n",
    "    # Substract offset\n",
    "    print(\"subtracting offset\")\n",
    "    forward_work_offset = []\n",
    "    for cycle in forward_work:\n",
    "        forward_work_offset.append(np.array([val - cycle[0] for val in cycle[1:]]))\n",
    "    forward_work_offset = np.array(forward_work_offset)\n",
    "\n",
    "    reverse_work_offset = []\n",
    "    for cycle in reverse_work:\n",
    "        reverse_work_offset.append(np.array([val - cycle[0] for val in cycle[1:]]))\n",
    "    reverse_work_offset = np.array(reverse_work_offset)\n",
    "\n",
    "    # Plot work trajectories\n",
    "    print(\"plotting work trajs\")\n",
    "    for cycle in forward_work_offset:\n",
    "        x = [(i+1)*4e-4 for i in range(len(list(cycle)))]\n",
    "        y = cycle\n",
    "        plt.plot(x, y, color=sns.color_palette()[0])\n",
    "    for cycle in reverse_work_offset:\n",
    "        x = [(i+1)*4e-4 for i in range(len(list(cycle)))]\n",
    "        y = -cycle\n",
    "        plt.plot(x, y, color=sns.color_palette()[1])\n",
    "    plt.xlabel(\"$t_{neq}$ (ns)\")\n",
    "    plt.ylabel(\"work (kT)\")\n",
    "    plt.title(f\"{title} {phase}\")\n",
    "    plt.savefig(os.path.join(output_dir, f\"{dir_num}_{phase}_work_traj.png\"), dpi=500)\n",
    "    print(f\"saved to: {os.path.join(output_dir, f'{dir_num}_{phase}_work_traj.png')}\")\n",
    "    plt.clf()\n",
    "    \n",
    "    # Plot work distributions\n",
    "    print(\"plotting work distrib\")\n",
    "    accumulated_forward = [cycle[-1] for cycle in forward_work_offset]\n",
    "    accumulated_reverse = [-cycle[-1] for cycle in reverse_work_offset]\n",
    "    sns.distplot(accumulated_forward)\n",
    "    sns.distplot(accumulated_reverse)\n",
    "    plt.axvline(dg)\n",
    "    plt.axvline(dg + ddg, linestyle='dashed')\n",
    "    plt.axvline(dg - ddg, linestyle='dashed')\n",
    "    plt.xlabel(\"work (kT)\")\n",
    "    plt.ylabel(\"p(w)\")\n",
    "    plt.title(f\"{title} {phase}\")\n",
    "    plt.savefig(os.path.join(output_dir, f\"{dir_num}_{phase}_work_dist.png\"), dpi=500)\n",
    "    print(f\"saved to: {os.path.join(output_dir, f'{dir_num}_{phase}_work_dist.png')}\")\n",
    "    plt.clf()\n",
    "    "
   ]
  },
  {
   "cell_type": "code",
   "execution_count": 10,
   "id": "ahead-washer",
   "metadata": {},
   "outputs": [
    {
     "data": {
      "application/vnd.jupyter.widget-view+json": {
       "model_id": "989e065f51e641ad944d56ce73c3a8b4",
       "version_major": 2,
       "version_minor": 0
      },
      "text/plain": [
       "  0%|          | 0/1 [00:00<?, ?it/s]"
      ]
     },
     "metadata": {},
     "output_type": "display_data"
    },
    {
     "name": "stdout",
     "output_type": "stream",
     "text": [
      "dir: 83\n",
      "job: 0\n",
      "job: 1\n",
      "job: 2\n",
      "job: 3\n",
      "job: 4\n",
      "job: 5\n",
      "job: 6\n",
      "job: 7\n",
      "job: 8\n",
      "job: 9\n",
      "job: 10\n",
      "job: 11\n",
      "job: 12\n",
      "job: 13\n",
      "job: 14\n",
      "job: 15\n",
      "job: 16\n",
      "job: 17\n",
      "job: 18\n",
      "job: 19\n",
      "job: 20\n",
      "job: 21\n",
      "job: 22\n",
      "job: 23\n",
      "job: 24\n",
      "job: 25\n",
      "job: 26\n",
      "job: 27\n",
      "job: 28\n",
      "job: 29\n",
      "job: 30\n",
      "job: 31\n",
      "job: 32\n",
      "job: 33\n",
      "job: 34\n",
      "job: 35\n",
      "job: 36\n",
      "job: 37\n",
      "job: 38\n",
      "job: 39\n",
      "job: 40\n",
      "job: 41\n",
      "job: 42\n",
      "job: 43\n",
      "job: 44\n",
      "job: 45\n",
      "job: 46\n",
      "job: 47\n",
      "job: 48\n",
      "job: 49\n",
      "job: 50\n",
      "job: 51\n",
      "job: 52\n",
      "job: 53\n",
      "job: 54\n",
      "job: 55\n",
      "job: 56\n",
      "job: 57\n",
      "job: 58\n",
      "job: 59\n",
      "job: 60\n",
      "job: 61\n",
      "job: 62\n",
      "job: 63\n",
      "job: 64\n",
      "job: 65\n",
      "job: 66\n",
      "job: 67\n",
      "job: 68\n",
      "job: 69\n",
      "job: 70\n",
      "job: 71\n",
      "job: 72\n",
      "job: 73\n",
      "job: 74\n",
      "job: 75\n",
      "job: 76\n",
      "job: 77\n",
      "job: 78\n",
      "job: 79\n",
      "job: 80\n",
      "job: 81\n",
      "job: 82\n",
      "job: 83\n",
      "job: 84\n",
      "job: 85\n",
      "job: 86\n",
      "job: 87\n",
      "job: 88\n",
      "job: 89\n",
      "job: 90\n",
      "job: 91\n",
      "job: 92\n",
      "job: 93\n",
      "job: 94\n",
      "job: 95\n",
      "job: 96\n",
      "job: 97\n",
      "job: 98\n",
      "job: 99\n",
      "100\n",
      "job: 0\n",
      "job: 1\n",
      "job: 2\n",
      "job: 3\n",
      "job: 4\n",
      "job: 5\n",
      "job: 6\n",
      "job: 7\n",
      "job: 8\n",
      "job: 9\n",
      "job: 10\n",
      "job: 11\n",
      "job: 12\n",
      "job: 13\n",
      "job: 14\n",
      "job: 15\n",
      "job: 16\n",
      "job: 17\n",
      "job: 18\n",
      "job: 19\n",
      "job: 20\n",
      "job: 21\n",
      "job: 22\n",
      "job: 23\n",
      "job: 24\n",
      "job: 25\n",
      "job: 26\n",
      "job: 27\n",
      "job: 28\n",
      "job: 29\n",
      "job: 30\n",
      "job: 31\n",
      "job: 32\n",
      "job: 33\n",
      "job: 34\n",
      "job: 35\n",
      "job: 36\n",
      "job: 37\n",
      "job: 38\n",
      "job: 39\n",
      "job: 40\n",
      "job: 41\n",
      "job: 42\n",
      "job: 43\n",
      "job: 44\n",
      "job: 45\n",
      "job: 46\n",
      "job: 47\n",
      "job: 48\n",
      "job: 49\n",
      "job: 50\n",
      "job: 51\n",
      "job: 52\n",
      "job: 53\n",
      "job: 54\n",
      "job: 55\n",
      "job: 56\n",
      "job: 57\n",
      "job: 58\n",
      "job: 59\n",
      "job: 60\n",
      "job: 61\n",
      "job: 62\n",
      "job: 63\n",
      "job: 64\n",
      "job: 65\n",
      "job: 66\n",
      "job: 67\n",
      "job: 68\n",
      "job: 69\n",
      "job: 70\n",
      "job: 71\n",
      "job: 72\n",
      "job: 73\n",
      "job: 74\n",
      "job: 75\n",
      "job: 76\n",
      "job: 77\n",
      "job: 78\n",
      "job: 79\n",
      "job: 80\n",
      "job: 81\n",
      "job: 82\n",
      "job: 83\n",
      "job: 84\n",
      "job: 85\n",
      "job: 86\n",
      "job: 87\n",
      "job: 88\n",
      "job: 89\n",
      "job: 90\n",
      "job: 91\n",
      "job: 92\n",
      "job: 93\n",
      "job: 94\n",
      "job: 95\n",
      "job: 96\n",
      "job: 97\n",
      "job: 98\n",
      "job: 99\n",
      "100\n",
      "job: 0\n",
      "job: 1\n",
      "job: 2\n",
      "job: 3\n",
      "job: 4\n",
      "job: 5\n",
      "job: 6\n",
      "job: 7\n",
      "job: 8\n",
      "job: 9\n",
      "job: 10\n",
      "job: 11\n",
      "job: 12\n",
      "job: 13\n",
      "job: 14\n",
      "job: 15\n",
      "job: 16\n",
      "job: 17\n",
      "job: 18\n",
      "job: 19\n",
      "job: 20\n",
      "job: 21\n",
      "job: 22\n",
      "job: 23\n",
      "job: 24\n",
      "job: 25\n",
      "job: 26\n",
      "job: 27\n",
      "job: 28\n",
      "job: 29\n",
      "job: 30\n",
      "job: 31\n",
      "job: 32\n",
      "job: 33\n",
      "job: 34\n",
      "job: 35\n",
      "job: 36\n",
      "job: 37\n",
      "job: 38\n",
      "job: 39\n",
      "job: 40\n",
      "job: 41\n",
      "job: 42\n",
      "job: 43\n",
      "job: 44\n",
      "job: 45\n",
      "job: 46\n",
      "job: 47\n",
      "job: 48\n",
      "job: 49\n",
      "job: 50\n",
      "job: 51\n",
      "job: 52\n",
      "job: 53\n",
      "job: 54\n",
      "job: 55\n",
      "job: 56\n",
      "job: 57\n",
      "job: 58\n",
      "job: 59\n",
      "job: 60\n",
      "job: 61\n",
      "job: 62\n",
      "job: 63\n",
      "job: 64\n",
      "job: 65\n",
      "job: 66\n",
      "job: 67\n",
      "job: 68\n",
      "job: 69\n",
      "job: 70\n",
      "job: 71\n",
      "job: 72\n",
      "job: 73\n",
      "job: 74\n",
      "job: 75\n",
      "job: 76\n",
      "job: 77\n",
      "job: 78\n",
      "job: 79\n",
      "job: 80\n",
      "job: 81\n",
      "job: 82\n",
      "job: 83\n",
      "job: 84\n",
      "job: 85\n",
      "job: 86\n",
      "job: 87\n",
      "job: 88\n",
      "job: 89\n",
      "job: 90\n",
      "job: 91\n",
      "job: 92\n",
      "job: 93\n",
      "job: 94\n",
      "job: 95\n",
      "job: 96\n",
      "job: 97\n",
      "job: 98\n",
      "job: 99\n",
      "99\n",
      "job: 0\n",
      "job: 1\n",
      "job: 2\n",
      "job: 3\n",
      "job: 4\n",
      "job: 5\n",
      "job: 6\n",
      "job: 7\n",
      "job: 8\n",
      "job: 9\n",
      "job: 10\n",
      "job: 11\n",
      "job: 12\n",
      "job: 13\n",
      "job: 14\n",
      "job: 15\n",
      "job: 16\n",
      "job: 17\n",
      "job: 18\n",
      "job: 19\n",
      "job: 20\n",
      "job: 21\n",
      "job: 22\n",
      "job: 23\n",
      "job: 24\n",
      "job: 25\n",
      "job: 26\n",
      "job: 27\n",
      "job: 28\n",
      "job: 29\n",
      "job: 30\n",
      "job: 31\n",
      "job: 32\n",
      "job: 33\n",
      "job: 34\n",
      "job: 35\n",
      "job: 36\n",
      "job: 37\n",
      "job: 38\n",
      "job: 39\n",
      "job: 40\n",
      "job: 41\n",
      "job: 42\n",
      "job: 43\n",
      "job: 44\n",
      "job: 45\n",
      "job: 46\n",
      "job: 47\n",
      "job: 48\n",
      "job: 49\n",
      "job: 50\n",
      "job: 51\n",
      "job: 52\n",
      "job: 53\n",
      "job: 54\n",
      "job: 55\n",
      "job: 56\n",
      "job: 57\n",
      "job: 58\n",
      "job: 59\n",
      "job: 60\n",
      "job: 61\n",
      "job: 62\n",
      "job: 63\n",
      "job: 64\n",
      "job: 65\n",
      "job: 66\n",
      "job: 67\n",
      "job: 68\n",
      "job: 69\n",
      "job: 70\n",
      "job: 71\n",
      "job: 72\n",
      "job: 73\n",
      "job: 74\n",
      "job: 75\n",
      "job: 76\n",
      "job: 77\n",
      "job: 78\n",
      "job: 79\n",
      "job: 80\n",
      "job: 81\n",
      "job: 82\n",
      "job: 83\n",
      "job: 84\n",
      "job: 85\n",
      "job: 86\n",
      "job: 87\n",
      "job: 88\n",
      "job: 89\n",
      "job: 90\n",
      "job: 91\n",
      "job: 92\n",
      "job: 93\n",
      "job: 94\n",
      "job: 95\n",
      "job: 96\n",
      "job: 97\n",
      "job: 98\n",
      "job: 99\n",
      "99\n"
     ]
    }
   ],
   "source": [
    "# Load data into dicts and plot \n",
    "titles = [\"A501Y\"]\n",
    "phases = ['complex', 'apo']\n",
    "directions = ['forward', 'reverse']\n",
    "d_input = {}\n",
    "dir_num = 15\n",
    "forward = 83\n",
    "for i in tqdm_notebook([forward]):\n",
    "    print(f\"dir: {i}\")\n",
    "    d_works = {\"complex\": {}, \"apo\":{}}\n",
    "    d_combined_works = {\"complex\": {}, \"apo\":{}}\n",
    "    for phase in phases:\n",
    "        for direction in directions:\n",
    "            all_arrays = []\n",
    "            for j in range(100):\n",
    "                print(f\"job: {j}\")\n",
    "                path = f\"/data/chodera/zhangi/perses_benchmark/neq/{dir_num}/{i}/{i}_{phase}_{j}_{direction}.npy\"\n",
    "                try:\n",
    "                    if os.path.exists(path):\n",
    "                        with open(path, 'rb') as f:\n",
    "                            array = np.load(f)\n",
    "                            if not np.isnan(np.sum(array)):\n",
    "                                all_arrays.append(array)\n",
    "                except:\n",
    "                    continue\n",
    "            print(len(all_arrays))\n",
    "            if all_arrays:\n",
    "                combined = np.concatenate(all_arrays)\n",
    "                accumulated = np.array([cycle[-1] - cycle[0] for cycle in combined])\n",
    "#                 combined = np.array([cycle[0::100] for cycle in combined])\n",
    "                d_combined_works[phase][direction] = combined\n",
    "                d_works[phase][direction] = accumulated\n",
    "    \n",
    "    d_input[i] = d_works\n",
    "    \n",
    "    # Plot\n",
    "    complex_dg, complex_ddg = analyze(d_works['complex']['forward'], d_works['complex']['reverse'])\n",
    "    apo_dg, apo_ddg = analyze(d_works['apo']['forward'], d_works['apo']['reverse'])\n",
    "#     plot(d_combined_works['complex']['forward'], d_combined_works['complex']['reverse'], complex_dg, complex_ddg, i, 'complex', os.path.dirname(path), titles[i-forward])\n",
    "#     plot(d_combined_works['apo']['forward'], d_combined_works['apo']['reverse'], apo_dg, apo_ddg, i, 'apo', os.path.dirname(path), titles[i-forward])\n",
    "        "
   ]
  },
  {
   "cell_type": "markdown",
   "id": "expanded-candy",
   "metadata": {},
   "source": [
    "#### Chi1 angles"
   ]
  },
  {
   "cell_type": "code",
   "execution_count": 17,
   "id": "configured-procedure",
   "metadata": {},
   "outputs": [
    {
     "data": {
      "image/png": "[encoded data removed]",
      "text/plain": [
       "<Figure size 432x288 with 1 Axes>"
      ]
     },
     "metadata": {
      "needs_background": "light"
     },
     "output_type": "display_data"
    }
   ],
   "source": [
    "plt.hist(d_works['complex']['forward'][d_clusters_forward[-3]], alpha=0.5, label='-3')\n",
    "plt.hist(d_works['complex']['forward'][d_clusters_forward[-1]], alpha=0.5, label='-1')\n",
    "plt.hist(d_works['complex']['forward'][d_clusters_forward[1]], alpha=0.5, label='+1')\n",
    "plt.xlabel(\"work (kT)\")\n",
    "plt.legend()\n",
    "plt.show()"
   ]
  },
  {
   "cell_type": "code",
   "execution_count": 19,
   "id": "final-isolation",
   "metadata": {},
   "outputs": [
    {
     "data": {
      "image/png": "[encoded data removed]",
      "text/plain": [
       "<Figure size 432x288 with 1 Axes>"
      ]
     },
     "metadata": {
      "needs_background": "light"
     },
     "output_type": "display_data"
    }
   ],
   "source": [
    "plt.hist(d_works['complex']['reverse'][d_clusters_reverse[-3]], alpha=0.5, label='-3')\n",
    "plt.hist(d_works['complex']['reverse'][d_clusters_reverse[-1]], alpha=0.5, label='-1')\n",
    "plt.hist(d_works['complex']['reverse'][d_clusters_reverse[1]], alpha=0.5, label='+1')\n",
    "plt.xlabel(\"work (kT)\")\n",
    "plt.legend()\n",
    "plt.show()"
   ]
  },
  {
   "cell_type": "markdown",
   "id": "coordinate-thickness",
   "metadata": {},
   "source": [
    "#### Chi2 angles"
   ]
  },
  {
   "cell_type": "code",
   "execution_count": 31,
   "id": "close-appreciation",
   "metadata": {},
   "outputs": [
    {
     "data": {
      "image/png": "[encoded data removed]",
      "text/plain": [
       "<Figure size 432x288 with 1 Axes>"
      ]
     },
     "metadata": {
      "needs_background": "light"
     },
     "output_type": "display_data"
    }
   ],
   "source": [
    "plt.hist(d_works['complex']['forward'][d_clusters_forward_chi2[-3]], alpha=0.5)\n",
    "plt.hist(d_works['complex']['forward'][d_clusters_forward_chi2[0]], alpha=0.5)\n",
    "plt.hist(d_works['complex']['forward'][d_clusters_forward_chi2[3]], alpha=0.5)\n",
    "plt.show()"
   ]
  },
  {
   "cell_type": "code",
   "execution_count": 32,
   "id": "possible-extra",
   "metadata": {},
   "outputs": [
    {
     "data": {
      "image/png": "[encoded data removed]",
      "text/plain": [
       "<Figure size 432x288 with 1 Axes>"
      ]
     },
     "metadata": {
      "needs_background": "light"
     },
     "output_type": "display_data"
    }
   ],
   "source": [
    "plt.hist(d_works['complex']['reverse'][d_clusters_reverse_chi2[-3]], alpha=0.5)\n",
    "plt.hist(d_works['complex']['reverse'][d_clusters_reverse_chi2[0]], alpha=0.5)\n",
    "plt.hist(d_works['complex']['reverse'][d_clusters_reverse_chi2[3]], alpha=0.5)\n",
    "plt.show()"
   ]
  },
  {
   "cell_type": "code",
   "execution_count": 27,
   "id": "opposite-accounting",
   "metadata": {},
   "outputs": [
    {
     "data": {
      "text/plain": [
       "array([ 1.25188393e-01,  1.99830523e-01,  1.28386148e+00,  2.88008830e+00,\n",
       "        1.47379796e+00, -3.86308952e+00, -2.50999366e+00,  4.75070119e+01,\n",
       "        2.27681101e+00, -2.87547939e+00, -5.47289745e+00,  1.60363480e+01,\n",
       "        5.14247720e+00,  3.24053210e-01, -3.88092305e+00,  5.71869358e+00,\n",
       "       -1.77832641e+00,  1.07395967e+01,  1.10173945e+00, -3.46091638e+00,\n",
       "        2.17585011e+01,  1.04975187e+01,  5.05537364e+00, -4.37607678e+00,\n",
       "       -7.87836778e+00,  6.68613881e+00,  6.53509143e+00,  6.77646261e+00,\n",
       "        8.99663228e+00,  3.83233639e+00,  4.42865088e+01,  3.76714195e+01,\n",
       "        1.57410313e+01,  1.09627510e+01,  1.00378801e+01,  2.10501681e+00,\n",
       "       -1.15716738e+00, -1.05611635e+01,  1.44933276e+01,  1.07924040e+00,\n",
       "       -8.12792405e-01,  3.87264411e+00,  2.21598174e+00,  3.63317241e-02,\n",
       "       -7.92103031e+00,  1.44787951e+00,  1.25932892e+01,  2.54023636e+01,\n",
       "        6.00014181e+01,  4.61455664e+00, -8.54829633e+00,  4.55898555e+00,\n",
       "        4.72127556e+00,  1.51485828e+01,  4.36115515e+01,  8.30849776e+00,\n",
       "        1.10337569e+01, -7.09089619e+00,  1.11577141e+01,  6.50443991e+00,\n",
       "        6.10964564e-01,  5.82591994e+00, -7.38107734e+00,  6.92198974e+00,\n",
       "       -1.14037983e+01,  6.40687014e+00,  5.23685883e+01, -5.50066271e+00,\n",
       "        2.53970863e+01, -5.69753146e+00,  5.90252497e+00,  2.71569749e+00,\n",
       "        2.85283661e+01, -2.35565443e+00,  1.58936338e+01,  8.32891622e+00,\n",
       "        8.54654786e-01,  9.60213749e+00,  7.43608992e+00, -7.17857045e+00,\n",
       "       -3.01972746e+00, -1.41760825e+00, -5.96370577e-01, -7.56312071e+00,\n",
       "       -1.60878767e+01,  3.18704277e+00,  8.82365319e-01, -8.91759167e+00,\n",
       "        4.10046819e+00,  9.41098169e+00, -6.26522730e+00, -2.13985958e-01,\n",
       "        9.53451955e+00,  1.38569711e+00,  5.88266057e-01,  3.72169395e+01,\n",
       "        1.91432018e+01,  1.33838517e+00, -6.61090460e+00,  2.39174008e+01])"
      ]
     },
     "execution_count": 27,
     "metadata": {},
     "output_type": "execute_result"
    }
   ],
   "source": [
    "d_works['complex']['forward']"
   ]
  }
 ],
 "metadata": {
  "kernelspec": {
   "display_name": "Python 3",
   "language": "python",
   "name": "python3"
  },
  "language_info": {
   "codemirror_mode": {
    "name": "ipython",
    "version": 3
   },
   "file_extension": ".py",
   "mimetype": "text/x-python",
   "name": "python",
   "nbconvert_exporter": "python",
   "pygments_lexer": "ipython3",
   "version": "3.8.10"
  }
 },
 "nbformat": 4,
 "nbformat_minor": 5
}
