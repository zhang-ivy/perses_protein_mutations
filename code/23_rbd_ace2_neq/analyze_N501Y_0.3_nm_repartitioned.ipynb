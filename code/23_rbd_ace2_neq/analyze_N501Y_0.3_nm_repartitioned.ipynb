{
 "cells": [
  {
   "cell_type": "markdown",
   "metadata": {},
   "source": [
    "Note: this analysis is for 15/28"
   ]
  },
  {
   "cell_type": "markdown",
   "metadata": {},
   "source": [
    "## Get states for each work trajectory for N501Y"
   ]
  },
  {
   "cell_type": "code",
   "execution_count": 1,
   "metadata": {},
   "outputs": [],
   "source": [
    "import math\n",
    "from simtk import unit\n",
    "import os\n",
    "import tempfile\n",
    "import pickle\n",
    "import mdtraj as md\n",
    "import numpy as np\n",
    "from simtk.unit.quantity import Quantity\n",
    "import logging\n",
    "\n",
    "# Set up logger\n",
    "_logger = logging.getLogger()\n",
    "_logger.setLevel(logging.INFO)\n",
    "\n",
    "from matplotlib import pyplot as plt\n",
    "from simtk.openmm import app\n",
    "from tqdm import tqdm\n",
    "import argparse\n",
    "import random\n",
    "from simtk.openmm.app import Modeller\n",
    "import seaborn as sns\n"
   ]
  },
  {
   "cell_type": "code",
   "execution_count": 2,
   "metadata": {},
   "outputs": [],
   "source": [
    "# Get dihedrals\n",
    "def get_dihedrals(i, phase, outdir, htf, dihedral_indices_new):\n",
    "    # Get topology with solute only\n",
    "    modeller = Modeller(htf._topology_proposal.new_topology, htf.new_positions(htf.hybrid_positions))\n",
    "    modeller.deleteWater()\n",
    "    new_top = md.Topology.from_openmm(modeller.topology)\n",
    "    \n",
    "    # Get last positions from eq positions of each cycle (positions are solute only)\n",
    "    from tqdm import tqdm\n",
    "    all_pos_forward = []\n",
    "    all_pos_reverse = []\n",
    "    for j in tqdm(range(100)):\n",
    "        try:\n",
    "            with open(os.path.join(outdir, f\"{i}_{phase}_{j}_forward_neq_new.npy\"), \"rb\") as f:\n",
    "                all_pos_forward.append(np.load(f)[-1])\n",
    "        except FileNotFoundError:\n",
    "            pass\n",
    "        try:\n",
    "            with open(os.path.join(outdir, f\"{i}_{phase}_{j}_reverse_neq_new.npy\"), \"rb\") as f:\n",
    "                all_pos_reverse.append(np.load(f)[0])\n",
    "        except FileNotFoundError:\n",
    "            pass\n",
    "    print(f\"new files found: {len(all_pos_forward)}\")\n",
    "    \n",
    "    # Compute dihedrals\n",
    "    traj = md.Trajectory(np.array(all_pos_forward), new_top)\n",
    "    dihedrals_forward = md.compute_dihedrals(traj, np.array([dihedral_indices_new]))\n",
    "    traj = md.Trajectory(np.array(all_pos_reverse), new_top)\n",
    "    dihedrals_reverse = md.compute_dihedrals(traj, np.array([dihedral_indices_new]))\n",
    "    \n",
    "    return dihedrals_forward, dihedrals_reverse"
   ]
  },
  {
   "cell_type": "markdown",
   "metadata": {},
   "source": [
    "#### Get dihedrals for apo"
   ]
  },
  {
   "cell_type": "code",
   "execution_count": 3,
   "metadata": {},
   "outputs": [],
   "source": [
    "outdir = \"/data/chodera/zhangi/perses_benchmark/neq/15/28/\"\n",
    "phase = \"apo\"\n",
    "i = os.path.basename(os.path.dirname(outdir))\n"
   ]
  },
  {
   "cell_type": "code",
   "execution_count": 4,
   "metadata": {},
   "outputs": [
    {
     "ename": "FileNotFoundError",
     "evalue": "[Errno 2] No such file or directory: '/data/chodera/zhangi/perses_benchmark/neq/15/28/28_apo.pickle'",
     "output_type": "error",
     "traceback": [
      "\u001b[0;31m---------------------------\u001b[0m",
      "\u001b[0;31mFileNotFoundError\u001b[0mTraceback (most recent call last)",
      "\u001b[0;32m<ipython-input-4-fe47713953a4>\u001b[0m in \u001b[0;36m<module>\u001b[0;34m\u001b[0m\n\u001b[0;32m----> 1\u001b[0;31m \u001b[0;32mwith\u001b[0m \u001b[0mopen\u001b[0m\u001b[0;34m(\u001b[0m\u001b[0mos\u001b[0m\u001b[0;34m.\u001b[0m\u001b[0mpath\u001b[0m\u001b[0;34m.\u001b[0m\u001b[0mjoin\u001b[0m\u001b[0;34m(\u001b[0m\u001b[0moutdir\u001b[0m\u001b[0;34m,\u001b[0m \u001b[0;34mf\"{i}_{phase}.pickle\"\u001b[0m\u001b[0;34m)\u001b[0m\u001b[0;34m,\u001b[0m \u001b[0;34m'rb'\u001b[0m\u001b[0;34m)\u001b[0m \u001b[0;32mas\u001b[0m \u001b[0mf\u001b[0m\u001b[0;34m:\u001b[0m\u001b[0;34m\u001b[0m\u001b[0;34m\u001b[0m\u001b[0m\n\u001b[0m\u001b[1;32m      2\u001b[0m     \u001b[0mhtf\u001b[0m \u001b[0;34m=\u001b[0m \u001b[0mpickle\u001b[0m\u001b[0;34m.\u001b[0m\u001b[0mload\u001b[0m\u001b[0;34m(\u001b[0m\u001b[0mf\u001b[0m\u001b[0;34m)\u001b[0m\u001b[0;34m\u001b[0m\u001b[0;34m\u001b[0m\u001b[0m\n",
      "\u001b[0;31mFileNotFoundError\u001b[0m: [Errno 2] No such file or directory: '/data/chodera/zhangi/perses_benchmark/neq/15/28/28_apo.pickle'"
     ]
    }
   ],
   "source": [
    "with open(os.path.join(outdir, f\"{i}_{phase}.pickle\"), 'rb') as f:\n",
    "    htf = pickle.load(f)"
   ]
  },
  {
   "cell_type": "code",
   "execution_count": null,
   "metadata": {},
   "outputs": [],
   "source": [
    "for atom in htf._topology_proposal.new_topology.atoms():\n",
    "    if atom.residue.id == '501':\n",
    "        print(atom)"
   ]
  },
  {
   "cell_type": "code",
   "execution_count": null,
   "metadata": {},
   "outputs": [],
   "source": [
    "indices_new = [2605, 2607, 2609, 2612]\n",
    "dihedrals_forward_apo, dihedrals_reverse_apo = get_dihedrals(i, phase, outdir, htf, indices_new)                                       \n"
   ]
  },
  {
   "cell_type": "markdown",
   "metadata": {},
   "source": [
    "#### Get dihedrals for complex"
   ]
  },
  {
   "cell_type": "code",
   "execution_count": 8,
   "metadata": {},
   "outputs": [],
   "source": [
    "outdir = \"/data/chodera/zhangi/perses_benchmark/neq/15/28/\"\n",
    "phase = \"complex\"\n",
    "i = os.path.basename(os.path.dirname(outdir))\n"
   ]
  },
  {
   "cell_type": "code",
   "execution_count": 9,
   "metadata": {},
   "outputs": [],
   "source": [
    "with open(os.path.join(outdir, f\"{i}_{phase}.pickle\"), 'rb') as f:\n",
    "    htf = pickle.load(f)"
   ]
  },
  {
   "cell_type": "code",
   "execution_count": 10,
   "metadata": {},
   "outputs": [
    {
     "name": "stdout",
     "output_type": "stream",
     "text": [
      "<Atom 2605 (N) of chain 0 residue 169 (TYR)>\n",
      "<Atom 2606 (H) of chain 0 residue 169 (TYR)>\n",
      "<Atom 2607 (CA) of chain 0 residue 169 (TYR)>\n",
      "<Atom 2608 (HA) of chain 0 residue 169 (TYR)>\n",
      "<Atom 2609 (CB) of chain 0 residue 169 (TYR)>\n",
      "<Atom 2610 (HB2) of chain 0 residue 169 (TYR)>\n",
      "<Atom 2611 (HB3) of chain 0 residue 169 (TYR)>\n",
      "<Atom 2612 (CG) of chain 0 residue 169 (TYR)>\n",
      "<Atom 2613 (CD1) of chain 0 residue 169 (TYR)>\n",
      "<Atom 2614 (HD1) of chain 0 residue 169 (TYR)>\n",
      "<Atom 2615 (CE1) of chain 0 residue 169 (TYR)>\n",
      "<Atom 2616 (HE1) of chain 0 residue 169 (TYR)>\n",
      "<Atom 2617 (CZ) of chain 0 residue 169 (TYR)>\n",
      "<Atom 2618 (OH) of chain 0 residue 169 (TYR)>\n",
      "<Atom 2619 (HH) of chain 0 residue 169 (TYR)>\n",
      "<Atom 2620 (CE2) of chain 0 residue 169 (TYR)>\n",
      "<Atom 2621 (HE2) of chain 0 residue 169 (TYR)>\n",
      "<Atom 2622 (CD2) of chain 0 residue 169 (TYR)>\n",
      "<Atom 2623 (HD2) of chain 0 residue 169 (TYR)>\n",
      "<Atom 2624 (C) of chain 0 residue 169 (TYR)>\n",
      "<Atom 2625 (O) of chain 0 residue 169 (TYR)>\n",
      "<Atom 10909 (N) of chain 2 residue 689 (ALA)>\n",
      "<Atom 10910 (H) of chain 2 residue 689 (ALA)>\n",
      "<Atom 10911 (CA) of chain 2 residue 689 (ALA)>\n",
      "<Atom 10912 (HA) of chain 2 residue 689 (ALA)>\n",
      "<Atom 10913 (CB) of chain 2 residue 689 (ALA)>\n",
      "<Atom 10914 (HB1) of chain 2 residue 689 (ALA)>\n",
      "<Atom 10915 (HB2) of chain 2 residue 689 (ALA)>\n",
      "<Atom 10916 (HB3) of chain 2 residue 689 (ALA)>\n",
      "<Atom 10917 (C) of chain 2 residue 689 (ALA)>\n",
      "<Atom 10918 (O) of chain 2 residue 689 (ALA)>\n"
     ]
    }
   ],
   "source": [
    "for atom in htf._topology_proposal.new_topology.atoms():\n",
    "    if atom.residue.id == '501':\n",
    "        print(atom)"
   ]
  },
  {
   "cell_type": "code",
   "execution_count": 11,
   "metadata": {},
   "outputs": [
    {
     "name": "stderr",
     "output_type": "stream",
     "text": [
      "100%|██████████| 100/100 [00:11<00:00,  8.52it/s]\n"
     ]
    },
    {
     "name": "stdout",
     "output_type": "stream",
     "text": [
      "new files found: 87\n"
     ]
    }
   ],
   "source": [
    "indices_new = [2605, 2607, 2609, 2612]\n",
    "dihedrals_forward_complex, dihedrals_reverse_complex = get_dihedrals(i, phase, outdir, htf, indices_new)                                       \n"
   ]
  },
  {
   "cell_type": "code",
   "execution_count": 12,
   "metadata": {},
   "outputs": [],
   "source": [
    "# Define indicator function\n",
    "def get_state(dihedral_angle):\n",
    "    if dihedral_angle > 2 or dihedral_angle < -2: # angle is -3 or +3\n",
    "        return 0\n",
    "    elif dihedral_angle < 0 and dihedral_angle > -2: # angle is -1\n",
    "        return 1\n",
    "    elif dihedral_angle > 0 and dihedral_angle < 2: # angle is 1\n",
    "        return 2"
   ]
  },
  {
   "cell_type": "code",
   "execution_count": 14,
   "metadata": {},
   "outputs": [],
   "source": [
    "# Create list of states for each work traj\n",
    "# states_forward_apo = [get_state(angle) for angle in dihedrals_forward_apo]\n",
    "# states_reverse_apo = [get_state(angle) for angle in dihedrals_reverse_apo]\n",
    "\n",
    "states_forward_complex = [get_state(angle) for angle in dihedrals_forward_complex]\n",
    "states_reverse_complex = [get_state(angle) for angle in dihedrals_reverse_complex]"
   ]
  },
  {
   "cell_type": "code",
   "execution_count": 15,
   "metadata": {},
   "outputs": [],
   "source": [
    "# with open(os.path.join(outdir, \"state_forward_apo.npy\"), \"wb\") as f:\n",
    "#     np.save(f, states_forward_apo)\n",
    "\n",
    "# with open(os.path.join(outdir, \"state_reverse_apo.npy\"), \"wb\") as f:\n",
    "#     np.save(f, states_reverse_apo)\n",
    "\n",
    "with open(os.path.join(outdir, \"state_forward_complex.npy\"), \"wb\") as f:\n",
    "    np.save(f, states_forward_complex)\n",
    "\n",
    "with open(os.path.join(outdir, \"state_reverse_complex.npy\"), \"wb\") as f:\n",
    "    np.save(f, states_reverse_complex)"
   ]
  },
  {
   "cell_type": "code",
   "execution_count": 16,
   "metadata": {},
   "outputs": [
    {
     "name": "stderr",
     "output_type": "stream",
     "text": [
      "/home/zhangi/miniconda3/envs/perses-rbd-ace2/lib/python3.8/site-packages/seaborn/distributions.py:2557: FutureWarning: `distplot` is a deprecated function and will be removed in a future version. Please adapt your code to use either `displot` (a figure-level function with similar flexibility) or `histplot` (an axes-level function for histograms).\n",
      "  warnings.warn(msg, FutureWarning)\n",
      "/home/zhangi/miniconda3/envs/perses-rbd-ace2/lib/python3.8/site-packages/seaborn/distributions.py:2056: FutureWarning: The `axis` variable is no longer used and will be removed. Instead, assign variables directly to `x` or `y`.\n",
      "  warnings.warn(msg, FutureWarning)\n",
      "/home/zhangi/miniconda3/envs/perses-rbd-ace2/lib/python3.8/site-packages/seaborn/distributions.py:2557: FutureWarning: `distplot` is a deprecated function and will be removed in a future version. Please adapt your code to use either `displot` (a figure-level function with similar flexibility) or `histplot` (an axes-level function for histograms).\n",
      "  warnings.warn(msg, FutureWarning)\n",
      "/home/zhangi/miniconda3/envs/perses-rbd-ace2/lib/python3.8/site-packages/seaborn/distributions.py:2056: FutureWarning: The `axis` variable is no longer used and will be removed. Instead, assign variables directly to `x` or `y`.\n",
      "  warnings.warn(msg, FutureWarning)\n"
     ]
    },
    {
     "data": {
      "text/plain": [
       "<matplotlib.legend.Legend at 0x2b0189eefc70>"
      ]
     },
     "execution_count": 16,
     "metadata": {},
     "output_type": "execute_result"
    },
    {
     "data": {
      "image/png": "[encoded data removed]",
      "text/plain": [
       "<Figure size 432x288 with 1 Axes>"
      ]
     },
     "metadata": {
      "needs_background": "light"
     },
     "output_type": "display_data"
    }
   ],
   "source": [
    "sns.distplot(states_forward_complex, label=\"forward complex\", rug=True, kde=False)\n",
    "sns.distplot(states_reverse_complex, label=\"reverse complex\", rug=True, kde=False)\n",
    "plt.legend()"
   ]
  },
  {
   "cell_type": "markdown",
   "metadata": {},
   "source": [
    "## Run estimator on N501Y"
   ]
  },
  {
   "cell_type": "code",
   "execution_count": 17,
   "metadata": {},
   "outputs": [
    {
     "name": "stderr",
     "output_type": "stream",
     "text": [
      "INFO:numexpr.utils:Note: detected 80 virtual cores but NumExpr set to maximum of 64, check \"NUMEXPR_MAX_THREADS\" environment variable.\n",
      "INFO:numexpr.utils:Note: NumExpr detected 80 cores but \"NUMEXPR_MAX_THREADS\" not set, so enforcing safe limit of 8.\n",
      "INFO:numexpr.utils:NumExpr defaulting to 8 threads.\n"
     ]
    }
   ],
   "source": [
    "from perses.analysis.analysis import Analysis\n",
    "import numpy as np\n",
    "import seaborn as sns\n",
    "import matplotlib.pyplot as plt\n",
    "import pymbar\n",
    "%matplotlib inline\n",
    "import os\n",
    "import itertools\n",
    "from tqdm import tqdm_notebook\n",
    "import pandas as pd"
   ]
  },
  {
   "cell_type": "code",
   "execution_count": 18,
   "metadata": {},
   "outputs": [],
   "source": [
    "from simtk.openmm import unit\n",
    "from openmmtools.constants import kB\n",
    "KT_KCALMOL = kB * 300 * unit.kelvin / unit.kilocalories_per_mole"
   ]
  },
  {
   "cell_type": "code",
   "execution_count": 23,
   "metadata": {
    "scrolled": true
   },
   "outputs": [
    {
     "name": "stderr",
     "output_type": "stream",
     "text": [
      "<ipython-input-23-dd950136b808>:5: TqdmDeprecationWarning: This function will be removed in tqdm==5.0.0\n",
      "Please use `tqdm.notebook.tqdm` instead of `tqdm.tqdm_notebook`\n",
      "  for i in tqdm_notebook([28]):\n"
     ]
    },
    {
     "data": {
      "application/vnd.jupyter.widget-view+json": {
       "model_id": "f0505c068e294a738b9fcc0c25cf98c4",
       "version_major": 2,
       "version_minor": 0
      },
      "text/plain": [
       "  0%|          | 0/1 [00:00<?, ?it/s]"
      ]
     },
     "metadata": {},
     "output_type": "display_data"
    },
    {
     "name": "stdout",
     "output_type": "stream",
     "text": [
      "dir: 28\n",
      "job: 0\n",
      "(1, 250001)\n",
      "(1, 250001)\n",
      "job: 1\n",
      "job: 2\n",
      "job: 3\n",
      "job: 4\n",
      "job: 5\n",
      "job: 6\n",
      "job: 7\n",
      "job: 8\n",
      "job: 9\n",
      "job: 10\n",
      "job: 11\n",
      "(1, 250001)\n",
      "(1, 250001)\n",
      "job: 12\n",
      "(1, 250001)\n",
      "(1, 250001)\n",
      "job: 13\n",
      "(1, 250001)\n",
      "(1, 250001)\n",
      "job: 14\n",
      "(1, 250001)\n",
      "(1, 250001)\n",
      "job: 15\n",
      "(1, 250001)\n",
      "(1, 250001)\n",
      "job: 16\n",
      "(1, 250001)\n",
      "(1, 250001)\n",
      "job: 17\n",
      "(1, 250001)\n",
      "(1, 250001)\n",
      "job: 18\n",
      "(1, 250001)\n",
      "(1, 250001)\n",
      "job: 19\n",
      "(1, 250001)\n",
      "(1, 250001)\n",
      "job: 20\n",
      "(1, 250001)\n",
      "(1, 250001)\n",
      "job: 21\n",
      "(1, 250001)\n",
      "(1, 250001)\n",
      "job: 22\n",
      "(1, 250001)\n",
      "(1, 250001)\n",
      "job: 23\n",
      "job: 24\n",
      "(1, 250001)\n",
      "(1, 250001)\n",
      "job: 25\n",
      "(1, 250001)\n",
      "(1, 250001)\n",
      "job: 26\n",
      "(1, 250001)\n",
      "(1, 250001)\n",
      "job: 27\n",
      "(1, 250001)\n",
      "(1, 250001)\n",
      "job: 28\n",
      "(1, 250001)\n",
      "(1, 250001)\n",
      "job: 29\n",
      "(1, 250001)\n",
      "(1, 250001)\n",
      "job: 30\n",
      "(1, 250001)\n",
      "(1, 250001)\n",
      "job: 31\n",
      "(1, 250001)\n",
      "(1, 250001)\n",
      "job: 32\n",
      "(1, 250001)\n",
      "(1, 250001)\n",
      "job: 33\n",
      "(1, 250001)\n",
      "(1, 250001)\n",
      "job: 34\n",
      "(1, 250001)\n",
      "(1, 250001)\n",
      "job: 35\n",
      "(1, 250001)\n",
      "(1, 250001)\n",
      "job: 36\n",
      "(1, 250001)\n",
      "(1, 250001)\n",
      "job: 37\n",
      "(1, 250001)\n",
      "(1, 250001)\n",
      "job: 38\n",
      "(1, 250001)\n",
      "(1, 250001)\n",
      "job: 39\n",
      "(1, 250001)\n",
      "(1, 250001)\n",
      "job: 40\n",
      "(1, 250001)\n",
      "(1, 250001)\n",
      "job: 41\n",
      "(1, 250001)\n",
      "(1, 250001)\n",
      "job: 42\n",
      "(1, 250001)\n",
      "(1, 250001)\n",
      "job: 43\n",
      "job: 44\n",
      "(1, 250001)\n",
      "(1, 250001)\n",
      "job: 45\n",
      "(1, 250001)\n",
      "(1, 250001)\n",
      "job: 46\n",
      "(1, 250001)\n",
      "(1, 250001)\n",
      "job: 47\n",
      "(1, 250001)\n",
      "(1, 250001)\n",
      "job: 48\n",
      "(1, 250001)\n",
      "(1, 250001)\n",
      "job: 49\n",
      "(1, 250001)\n",
      "(1, 250001)\n",
      "job: 50\n",
      "(1, 250001)\n",
      "(1, 250001)\n",
      "job: 51\n",
      "(1, 250001)\n",
      "(1, 250001)\n",
      "job: 52\n",
      "(1, 250001)\n",
      "(1, 250001)\n",
      "job: 53\n",
      "(1, 250001)\n",
      "(1, 250001)\n",
      "job: 54\n",
      "(1, 250001)\n",
      "(1, 250001)\n",
      "job: 55\n",
      "(1, 250001)\n",
      "(1, 250001)\n",
      "job: 56\n",
      "(1, 250001)\n",
      "(1, 250001)\n",
      "job: 57\n",
      "(1, 250001)\n",
      "(1, 250001)\n",
      "job: 58\n",
      "(1, 250001)\n",
      "(1, 250001)\n",
      "job: 59\n",
      "(1, 250001)\n",
      "(1, 250001)\n",
      "job: 60\n",
      "(1, 250001)\n",
      "(1, 250001)\n",
      "job: 61\n",
      "(1, 250001)\n",
      "(1, 250001)\n",
      "job: 62\n",
      "(1, 250001)\n",
      "(1, 250001)\n",
      "job: 63\n",
      "(1, 250001)\n",
      "(1, 250001)\n",
      "job: 64\n",
      "(1, 250001)\n",
      "(1, 250001)\n",
      "job: 65\n",
      "(1, 250001)\n",
      "(1, 250001)\n",
      "job: 66\n",
      "(1, 250001)\n",
      "(1, 250001)\n",
      "job: 67\n",
      "(1, 250001)\n",
      "(1, 250001)\n",
      "job: 68\n",
      "(1, 250001)\n",
      "(1, 250001)\n",
      "job: 69\n",
      "(1, 250001)\n",
      "(1, 250001)\n",
      "job: 70\n",
      "(1, 250001)\n",
      "(1, 250001)\n",
      "job: 71\n",
      "(1, 250001)\n",
      "(1, 250001)\n",
      "job: 72\n",
      "(1, 250001)\n",
      "(1, 250001)\n",
      "job: 73\n",
      "(1, 250001)\n",
      "(1, 250001)\n",
      "job: 74\n",
      "(1, 250001)\n",
      "(1, 250001)\n",
      "job: 75\n",
      "(1, 250001)\n",
      "(1, 250001)\n",
      "job: 76\n",
      "(1, 250001)\n",
      "(1, 250001)\n",
      "job: 77\n",
      "(1, 250001)\n",
      "(1, 250001)\n",
      "job: 78\n",
      "(1, 250001)\n",
      "(1, 250001)\n",
      "job: 79\n",
      "(1, 250001)\n",
      "(1, 250001)\n",
      "job: 80\n",
      "(1, 250001)\n",
      "(1, 250001)\n",
      "job: 81\n",
      "(1, 250001)\n",
      "(1, 250001)\n",
      "job: 82\n",
      "(1, 250001)\n",
      "(1, 250001)\n",
      "job: 83\n",
      "(1, 250001)\n",
      "(1, 250001)\n",
      "job: 84\n",
      "(1, 250001)\n",
      "(1, 250001)\n",
      "job: 85\n",
      "(1, 250001)\n",
      "(1, 250001)\n",
      "job: 86\n",
      "(1, 250001)\n",
      "(1, 250001)\n",
      "job: 87\n",
      "(1, 250001)\n",
      "(1, 250001)\n",
      "job: 88\n",
      "(1, 250001)\n",
      "(1, 250001)\n",
      "job: 89\n",
      "(1, 250001)\n",
      "(1, 250001)\n",
      "job: 90\n",
      "(1, 250001)\n",
      "(1, 250001)\n",
      "job: 91\n",
      "(1, 250001)\n",
      "(1, 250001)\n",
      "job: 92\n",
      "(1, 250001)\n",
      "(1, 250001)\n",
      "job: 93\n",
      "(1, 250001)\n",
      "(1, 250001)\n",
      "job: 94\n",
      "(1, 250001)\n",
      "(1, 250001)\n",
      "job: 95\n",
      "(1, 250001)\n",
      "(1, 250001)\n",
      "job: 96\n",
      "(1, 250001)\n",
      "(1, 250001)\n",
      "job: 97\n",
      "(1, 250001)\n",
      "(1, 250001)\n",
      "job: 98\n",
      "(1, 250001)\n",
      "(1, 250001)\n",
      "job: 99\n"
     ]
    }
   ],
   "source": [
    "# Prep work arrays (from distributed jobs) and call analyze()\n",
    "d_results = {}\n",
    "d_phases = {}\n",
    "first = 28\n",
    "for i in tqdm_notebook([28]):\n",
    "    print(f\"dir: {i}\")\n",
    "    # Load and combine arrays\n",
    "    forward_complex_arrays = []\n",
    "    reverse_complex_arrays = []\n",
    "    forward_apo_arrays = []\n",
    "    reverse_apo_arrays = []\n",
    "    for j in range(100):\n",
    "        print(f\"job: {j}\")\n",
    "        forward_complex_path = f'/data/chodera/zhangi/perses_benchmark/neq/15/{i}/{i}_complex_{j}_forward.npy'\n",
    "        reverse_complex_path = f'/data/chodera/zhangi/perses_benchmark/neq/15/{i}/{i}_complex_{j}_reverse.npy'\n",
    "#         forward_apo_path = f'/data/chodera/zhangi/perses_benchmark/neq/15/{i}/{i}_apo_{j}_forward.npy'\n",
    "#         reverse_apo_path = f'/data/chodera/zhangi/perses_benchmark/neq/15/{i}/{i}_apo_{j}_reverse.npy'\n",
    "        if os.path.exists(forward_complex_path):\n",
    "            with open(forward_complex_path, 'rb') as f:\n",
    "                array = np.load(f)\n",
    "                forward_complex_arrays.append(array)\n",
    "                print(array.shape)\n",
    "        if os.path.exists(reverse_complex_path):\n",
    "            with open(reverse_complex_path, 'rb') as f:\n",
    "                array = np.load(f)\n",
    "                reverse_complex_arrays.append(array)\n",
    "                print(array.shape)\n",
    "#         if os.path.exists(forward_apo_path):\n",
    "#             with open(forward_apo_path, 'rb') as f:\n",
    "#                 array = np.load(f)\n",
    "#                 forward_apo_arrays.append(array)\n",
    "#                 print(array.shape)\n",
    "#         if os.path.exists(reverse_apo_path):\n",
    "#             with open(reverse_apo_path, 'rb') as f:\n",
    "#                 array = np.load(f)\n",
    "#                 print(array.shape)\n",
    "#                 reverse_apo_arrays.append(array)\n"
   ]
  },
  {
   "cell_type": "code",
   "execution_count": 24,
   "metadata": {
    "scrolled": false
   },
   "outputs": [],
   "source": [
    "if forward_complex_arrays and reverse_complex_arrays:\n",
    "    \n",
    "    # Get forward and reverse accumulated works\n",
    "    forward_complex_combined = np.concatenate(forward_complex_arrays)\n",
    "    forward_complex_accumulated = np.array([cycle[-1] - cycle[0] for cycle in forward_complex_combined]) # compute this separately bc the last value of the subsampled array is diff than the actual last sample\n",
    "    \n",
    "    reverse_complex_combined = np.concatenate(reverse_complex_arrays)\n",
    "    reverse_complex_accumulated = np.array([cycle[-1] - cycle[0] for cycle in reverse_complex_combined])\n",
    "        \n",
    "#     forward_apo_combined = np.concatenate(forward_apo_arrays)\n",
    "#     forward_apo_accumulated = np.array([cycle[-1] - cycle[0] for cycle in forward_apo_combined])\n",
    "# #     forward_apo_accumulated = [val for val in forward_apo_accumulated if not math.isnan(val)]\n",
    "    \n",
    "#     reverse_apo_combined = np.concatenate(reverse_apo_arrays)\n",
    "#     reverse_apo_accumulated = np.array([cycle[-1] - cycle[0] for cycle in reverse_apo_combined])\n",
    "# #     reverse_apo_accumulated = [val for val in reverse_apo_accumulated if not math.isnan(val)]\n",
    "    \n",
    "    # Prep input for estimator\n",
    "    d_input_works = {}\n",
    "    d_input_works['apo'] = {}\n",
    "    d_input_works['complex'] = {}\n",
    "    d_input_works['apo']['forward'], d_input_works['apo']['reverse'] = dict(), dict()\n",
    "    d_input_works['complex']['forward'], d_input_works['complex']['reverse'] = dict(), dict()\n",
    "    \n",
    "    # Create lists for each state\n",
    "    n_states = 3\n",
    "    for i in range(n_states):\n",
    "        d_input_works['apo']['forward'][i] = list()\n",
    "        d_input_works['apo']['reverse'][i] = list()\n",
    "        d_input_works['complex']['forward'][i] = list()\n",
    "        d_input_works['complex']['reverse'][i] = list()\n",
    "    \n",
    "#     n_cycles_apo = len(forward_apo_arrays)\n",
    "#     for i in range(n_cycles_apo):\n",
    "#         state_forward = states_forward_apo[i]\n",
    "#         state_reverse = states_reverse_apo[i]\n",
    "#         d_input_works['apo']['forward'][state_forward].append(forward_apo_accumulated[i])\n",
    "#         d_input_works['apo']['reverse'][state_reverse].append(reverse_apo_accumulated[i])\n",
    "        \n",
    "    n_cycles_complex = len(forward_complex_arrays)\n",
    "    for i in range(n_cycles_complex):\n",
    "        state_forward = states_forward_complex[i]\n",
    "        state_reverse = states_reverse_complex[i]\n",
    "        d_input_works['complex']['forward'][state_forward].append(forward_complex_accumulated[i])\n",
    "        d_input_works['complex']['reverse'][state_reverse].append(reverse_complex_accumulated[i])\n",
    "\n",
    "#     # Plot work distributions\n",
    "#     for i in [1]:\n",
    "#         sns.distplot(np.array(d_input_works['apo']['forward'][i]), label=f\"state{i}f\")\n",
    "#         sns.distplot(np.array(d_input_works['apo']['reverse'][i])*-1, label=f\"state{i}r\")\n",
    "#     plt.xlabel(\"work (kT)\")\n",
    "#     plt.ylabel(\"p(w)\")\n",
    "#     plt.legend()\n",
    "#     plt.show()\n",
    "# #     plt.title(f\"{title} {phase}\")\n",
    "# #     plt.savefig(os.path.join(output_dir, f\"{dir_num}_{phase}_work_dist.png\"), dpi=500)\n",
    "# #     print(f\"saved to: {os.path.join(output_dir, f'{dir_num}_{phase}_work_dist.png')}\")\n",
    "# #     plt.clf()    \n",
    "else:\n",
    "    print(f\"dir {i} has at least one phase without data\" )"
   ]
  },
  {
   "cell_type": "code",
   "execution_count": 25,
   "metadata": {},
   "outputs": [
    {
     "name": "stderr",
     "output_type": "stream",
     "text": [
      "/home/zhangi/miniconda3/envs/perses-rbd-ace2/lib/python3.8/site-packages/seaborn/distributions.py:2557: FutureWarning: `distplot` is a deprecated function and will be removed in a future version. Please adapt your code to use either `displot` (a figure-level function with similar flexibility) or `histplot` (an axes-level function for histograms).\n",
      "  warnings.warn(msg, FutureWarning)\n",
      "/home/zhangi/miniconda3/envs/perses-rbd-ace2/lib/python3.8/site-packages/seaborn/distributions.py:2557: FutureWarning: `distplot` is a deprecated function and will be removed in a future version. Please adapt your code to use either `displot` (a figure-level function with similar flexibility) or `histplot` (an axes-level function for histograms).\n",
      "  warnings.warn(msg, FutureWarning)\n",
      "/home/zhangi/miniconda3/envs/perses-rbd-ace2/lib/python3.8/site-packages/seaborn/distributions.py:2557: FutureWarning: `distplot` is a deprecated function and will be removed in a future version. Please adapt your code to use either `displot` (a figure-level function with similar flexibility) or `histplot` (an axes-level function for histograms).\n",
      "  warnings.warn(msg, FutureWarning)\n",
      "/home/zhangi/miniconda3/envs/perses-rbd-ace2/lib/python3.8/site-packages/seaborn/distributions.py:2557: FutureWarning: `distplot` is a deprecated function and will be removed in a future version. Please adapt your code to use either `displot` (a figure-level function with similar flexibility) or `histplot` (an axes-level function for histograms).\n",
      "  warnings.warn(msg, FutureWarning)\n"
     ]
    },
    {
     "data": {
      "image/png": "[encoded data removed]",
      "text/plain": [
       "<Figure size 432x288 with 1 Axes>"
      ]
     },
     "metadata": {
      "needs_background": "light"
     },
     "output_type": "display_data"
    }
   ],
   "source": [
    "# Plot work distributions\n",
    "plt.clf()\n",
    "for i in [1, 2]:\n",
    "    sns.distplot(np.array(d_input_works['complex']['forward'][i]), label=f\"state{i}f\")\n",
    "    sns.distplot(np.array(d_input_works['complex']['reverse'][i])*-1, label=f\"state{i}r\")\n",
    "plt.xlabel(\"work (kT)\")\n",
    "plt.ylabel(\"p(w)\")\n",
    "plt.legend()\n",
    "plt.show()"
   ]
  },
  {
   "cell_type": "code",
   "execution_count": null,
   "metadata": {},
   "outputs": [],
   "source": []
  },
  {
   "cell_type": "code",
   "execution_count": null,
   "metadata": {},
   "outputs": [],
   "source": []
  }
 ],
 "metadata": {
  "kernelspec": {
   "display_name": "Python 3",
   "language": "python",
   "name": "python3"
  },
  "language_info": {
   "codemirror_mode": {
    "name": "ipython",
    "version": 3
   },
   "file_extension": ".py",
   "mimetype": "text/x-python",
   "name": "python",
   "nbconvert_exporter": "python",
   "pygments_lexer": "ipython3",
   "version": "3.8.6"
  }
 },
 "nbformat": 4,
 "nbformat_minor": 4
}
