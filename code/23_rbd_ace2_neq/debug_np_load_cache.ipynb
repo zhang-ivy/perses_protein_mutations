{
 "cells": [
  {
   "cell_type": "code",
   "execution_count": 1,
   "id": "solved-alcohol",
   "metadata": {},
   "outputs": [],
   "source": [
    "import logging\n",
    "import pickle\n",
    "import numpy as np\n",
    "from openmmtools.integrators import PeriodicNonequilibriumIntegrator\n",
    "from simtk import unit, openmm\n",
    "import argparse\n",
    "import os\n",
    "import time\n",
    "import mdtraj as md\n",
    "from tqdm import tqdm\n",
    "\n",
    "# Set up logger\n",
    "_logger = logging.getLogger()\n",
    "_logger.setLevel(logging.INFO)\n",
    "\n"
   ]
  },
  {
   "cell_type": "code",
   "execution_count": 2,
   "id": "burning-banana",
   "metadata": {},
   "outputs": [],
   "source": [
    "outdir = \"/data/chodera/zhangi/perses_benchmark/neq/14/24/\"\n",
    "phase = 'complex'\n",
    "sim_number = 1\n",
    "old_aa_name = 'asn'\n",
    "new_aa_name = 'arg'\n"
   ]
  },
  {
   "cell_type": "code",
   "execution_count": 3,
   "id": "divine-manor",
   "metadata": {},
   "outputs": [],
   "source": [
    "# Define lambda functions\n",
    "x = 'lambda'\n",
    "DEFAULT_ALCHEMICAL_FUNCTIONS = {\n",
    "                             'lambda_sterics_core': x,\n",
    "                             'lambda_electrostatics_core': x,\n",
    "                             'lambda_sterics_insert': f\"select(step({x} - 0.5), 1.0, 2.0 * {x})\",\n",
    "                             'lambda_sterics_delete': f\"select(step({x} - 0.5), 2.0 * ({x} - 0.5), 0.0)\",\n",
    "                             'lambda_electrostatics_insert': f\"select(step({x} - 0.5), 2.0 * ({x} - 0.5), 0.0)\",\n",
    "                             'lambda_electrostatics_delete': f\"select(step({x} - 0.5), 1.0, 2.0 * {x})\",\n",
    "                             'lambda_bonds': x,\n",
    "                             'lambda_angles': x,\n",
    "                             'lambda_torsions': x}\n",
    "\n",
    "# Define simulation parameters\n",
    "# nsteps_eq = 25000 # 100 ps \n",
    "nsteps_eq = 1\n",
    "nsteps_neq = 10 \n",
    "neq_splitting='V R H O R V'\n",
    "timestep = 4.0 * unit.femtosecond\n",
    "platform_name = 'CUDA'\n",
    "cache_length = 1 \n",
    "\n"
   ]
  },
  {
   "cell_type": "code",
   "execution_count": 4,
   "id": "stuffed-binary",
   "metadata": {},
   "outputs": [],
   "source": [
    "# Read in vanilla htf\n",
    "i = os.path.basename(os.path.dirname(outdir))\n",
    "with open(os.path.join(outdir, f\"{i}_{phase}.pickle\"), 'rb') as f:\n",
    "    htf = pickle.load(f)\n",
    "\n",
    "\n"
   ]
  },
  {
   "cell_type": "code",
   "execution_count": 5,
   "id": "sorted-bracelet",
   "metadata": {},
   "outputs": [
    {
     "name": "stdout",
     "output_type": "stream",
     "text": [
      "shape: (100, 200492, 3)\n",
      "array.shape: (60147600,)\n"
     ]
    }
   ],
   "source": [
    "# Read in lambda = 0 cache\n",
    "with open(os.path.join(outdir, f\"{i}_{phase}_{old_aa_name}_{cache_length}ns_snapshots.npy\"), 'rb') as f:\n",
    "    subset_pos = np.load(f)\n",
    "positions = subset_pos[sim_number - 1]\n",
    "system = htf.hybrid_system\n",
    "\n",
    "# Set up integrator\n",
    "integrator = PeriodicNonequilibriumIntegrator(DEFAULT_ALCHEMICAL_FUNCTIONS, nsteps_eq, nsteps_neq, neq_splitting, timestep=timestep)\n"
   ]
  },
  {
   "cell_type": "code",
   "execution_count": 6,
   "id": "gentle-pressing",
   "metadata": {},
   "outputs": [],
   "source": [
    "# Set up context\n",
    "platform = openmm.Platform.getPlatformByName(platform_name)\n",
    "if platform_name in ['CUDA', 'OpenCL']:\n",
    "    platform.setPropertyDefaultValue('Precision', 'mixed')\n",
    "if platform_name in ['CUDA']:\n",
    "    platform.setPropertyDefaultValue('DeterministicForces', 'true')\n",
    "context = openmm.Context(system, integrator, platform)\n",
    "context.setPeriodicBoxVectors(*system.getDefaultPeriodicBoxVectors())\n",
    "context.setPositions(positions)\n",
    "\n"
   ]
  },
  {
   "cell_type": "code",
   "execution_count": 7,
   "id": "incorrect-humor",
   "metadata": {},
   "outputs": [],
   "source": [
    "# Minimize\n",
    "openmm.LocalEnergyMinimizer.minimize(context)\n"
   ]
  },
  {
   "cell_type": "code",
   "execution_count": 8,
   "id": "formal-stadium",
   "metadata": {},
   "outputs": [],
   "source": [
    "state = context.getState(getPositions=True, getVelocities=True)\n",
    "with open(os.path.join(outdir, f\"state.xml\"), 'w') as outfile:\n",
    "    state_xml = openmm.XmlSerializer.serialize(state)\n",
    "    outfile.write(state_xml)"
   ]
  },
  {
   "cell_type": "code",
   "execution_count": 9,
   "id": "moved-attitude",
   "metadata": {},
   "outputs": [
    {
     "name": "stdout",
     "output_type": "stream",
     "text": [
      "fwd_step: 0\n",
      "fwd_step: 1\n",
      "fwd_step: 2\n",
      "fwd_step: 3\n",
      "fwd_step: 4\n",
      "fwd_step: 5\n",
      "fwd_step: 6\n",
      "fwd_step: 7\n",
      "fwd_step: 8\n",
      "fwd_step: 9\n"
     ]
    }
   ],
   "source": [
    "# Run eq forward (0 -> 1)\n",
    "forward_eq_old, forward_eq_new = list(), list()\n",
    "for fwd_step in range(nsteps_eq):\n",
    "    initial_time = time.time()\n",
    "    integrator.step(1)\n",
    "    elapsed_time = (time.time() - initial_time) * unit.seconds\n",
    "\n",
    "# Run neq forward (0 -> 1)\n",
    "forward_works_master = list()\n",
    "forward_neq_old, forward_neq_new = list(), list()\n",
    "forward_works = [integrator.get_protocol_work(dimensionless=True)]\n",
    "for fwd_step in range(nsteps_neq):\n",
    "    initial_time = time.time()\n",
    "    integrator.step(1)\n",
    "    elapsed_time = (time.time() - initial_time) * unit.seconds\n",
    "    print(f\"fwd_step: {fwd_step}\")\n",
    "    forward_works.append(integrator.get_protocol_work(dimensionless=True))\n",
    "forward_works_master.append(forward_works)\n",
    "\n"
   ]
  },
  {
   "cell_type": "code",
   "execution_count": 10,
   "id": "editorial-probe",
   "metadata": {},
   "outputs": [
    {
     "name": "stdout",
     "output_type": "stream",
     "text": [
      "shape: (100, 200492, 3)\n",
      "array.shape: (60147600,)\n"
     ]
    }
   ],
   "source": [
    "# Read in lambda = 1 cache, if necessary\n",
    "with open(os.path.join(outdir, f\"{i}_{phase}_{new_aa_name}_{cache_length}ns_snapshots.npy\"), 'rb') as f:\n",
    "    subset_pos = np.load(f)\n",
    "positions = subset_pos[sim_number - 1]\n",
    "context.setPositions(positions)\n",
    "\n"
   ]
  },
  {
   "cell_type": "code",
   "execution_count": null,
   "id": "former-vegetarian",
   "metadata": {},
   "outputs": [],
   "source": [
    "# Run eq reverse (1 -> 0)\n",
    "reverse_eq_old, reverse_eq_new = list(), list()\n",
    "for rev_step in range(nsteps_eq):\n",
    "    initial_time = time.time()\n",
    "    integrator.step(1)\n",
    "    elapsed_time = (time.time() - initial_time) * unit.seconds\n",
    "    \n",
    "# Run neq reverse (1 -> 0)\n",
    "reverse_works_master = list()\n",
    "reverse_neq_old, reverse_neq_new = list(), list()\n",
    "reverse_works = [integrator.get_protocol_work(dimensionless=True)]\n",
    "for rev_step in range(nsteps_neq):\n",
    "    initial_time = time.time()\n",
    "    integrator.step(1)\n",
    "    elapsed_time = (time.time() - initial_time) * unit.seconds\n",
    "    reverse_works.append(integrator.get_protocol_work(dimensionless=True))\n",
    "reverse_works_master.append(reverse_works)\n",
    "\n"
   ]
  },
  {
   "cell_type": "code",
   "execution_count": null,
   "id": "mounted-removal",
   "metadata": {},
   "outputs": [],
   "source": [
    "# Save works\n",
    "with open(os.path.join(args.dir, f\"{i}_{args.phase}_{args.sim_number}_forward.npy\"), 'wb') as f:\n",
    "    np.save(f, forward_works_master)\n",
    "with open(os.path.join(args.dir, f\"{i}_{args.phase}_{args.sim_number}_reverse.npy\"), 'wb') as f:\n",
    "    np.save(f, reverse_works_master)\n"
   ]
  }
 ],
 "metadata": {
  "kernelspec": {
   "display_name": "Python 3",
   "language": "python",
   "name": "python3"
  },
  "language_info": {
   "codemirror_mode": {
    "name": "ipython",
    "version": 3
   },
   "file_extension": ".py",
   "mimetype": "text/x-python",
   "name": "python",
   "nbconvert_exporter": "python",
   "pygments_lexer": "ipython3",
   "version": "3.8.6"
  }
 },
 "nbformat": 4,
 "nbformat_minor": 5
}
