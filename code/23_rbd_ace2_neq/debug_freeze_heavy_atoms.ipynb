{
 "cells": [
  {
   "cell_type": "code",
   "execution_count": 1,
   "id": "ca583f47",
   "metadata": {},
   "outputs": [],
   "source": [
    "import logging\n",
    "import pickle\n",
    "import numpy as np\n",
    "from openmmtools.integrators import PeriodicNonequilibriumIntegrator\n",
    "from simtk import unit, openmm\n",
    "import argparse\n",
    "import os\n",
    "import time\n",
    "import mdtraj as md\n",
    "from tqdm import tqdm\n",
    "from openeye import oechem"
   ]
  },
  {
   "cell_type": "code",
   "execution_count": 3,
   "id": "b6b673e7",
   "metadata": {},
   "outputs": [],
   "source": [
    "# Set up logger\n",
    "_logger = logging.getLogger()\n",
    "_logger.setLevel(logging.INFO)\n",
    "\n",
    "\n",
    "outdir = \"/data/chodera/zhangi/perses_benchmark/neq/15/112/\"\n",
    "phase = 'apo'\n",
    "sim_number = 1\n",
    "old_aa_name = 'asn'\n",
    "new_aa_name = 'tyr'\n",
    "\n",
    "# # Read args\n",
    "# parser = argparse.ArgumentParser(description='run perses protein mutation on capped amino acid')\n",
    "# parser.add_argument('dir', type=str, help='path to input/output dir')\n",
    "# parser.add_argument('phase', type=str, help='solvent or vacuum')\n",
    "# parser.add_argument('sim_number', type=int, help='number in job name - 1')\n",
    "# parser.add_argument('old_aa_name', type=str, help='amino acid three letter code, e.g. ALA')\n",
    "# parser.add_argument('new_aa_name', type=str, help='amino acid three letter code, e.g. ALA')\n",
    "# parser.add_argument('length', type=float, help='neq switching time in ns')\n",
    "# parser.add_argument('--cache', type=int, default=1, help='length of rest cache in ns')\n",
    "# args = parser.parse_args()"
   ]
  },
  {
   "cell_type": "code",
   "execution_count": 4,
   "id": "6564b151",
   "metadata": {},
   "outputs": [],
   "source": [
    "# Define lambda functions\n",
    "x = 'lambda'\n",
    "# DEFAULT_ALCHEMICAL_FUNCTIONS = {\n",
    "#                              'lambda_sterics_core': x,\n",
    "#                              'lambda_electrostatics_core': x,\n",
    "#                              'lambda_sterics_insert': f\"select(step({x} - 0.5), 1.0, 2.0 * {x})\",\n",
    "#                              'lambda_sterics_delete': f\"select(step({x} - 0.5), 2.0 * ({x} - 0.5), 0.0)\",\n",
    "#                              'lambda_electrostatics_insert': f\"select(step({x} - 0.5), 2.0 * ({x} - 0.5), 0.0)\",\n",
    "#                              'lambda_electrostatics_delete': f\"select(step({x} - 0.5), 1.0, 2.0 * {x})\",\n",
    "#                              'lambda_bonds': x,\n",
    "#                              'lambda_angles': x,\n",
    "#                              'lambda_torsions': x}\n",
    "\n",
    "inflection1, inflection2, inflection3, inflection4 = 0.2, 0.4, 0.6, 0.8\n",
    "DEFAULT_ALCHEMICAL_FUNCTIONS = {\n",
    "                             'lambda_sterics_core': x,\n",
    "                             'lambda_electrostatics_core': x,\n",
    "                             'lambda_sterics_insert': f\"select(step({x} - {inflection3}), select(step({x}-{inflection4}), 1, (1/{inflection1})*({x}-{inflection3})), 0.0)\",\n",
    "                             'lambda_sterics_delete': f\"select(step({x} - {inflection1}), select(step({x} - {inflection2}), 1, (1/{inflection1})*({x}-{inflection1})), 0.0)\",\n",
    "                             'lambda_electrostatics_insert': f\"select(step({x} - {inflection4}), (1/{inflection1}) * ({x} - {inflection4}), 0.0)\",\n",
    "                             'lambda_electrostatics_delete': f\"select(step({x} - {inflection1}), 1.0, (1/{inflection1})*{x})\",\n",
    "                             'lambda_bonds': x,\n",
    "                             'lambda_angles': x,\n",
    "                             'lambda_torsions': x}\n",
    "\n",
    "# Define simulation parameters\n",
    "nsteps_eq = 10\n",
    "nsteps_neq = int(1*250000) # 1 ns\n",
    "neq_splitting='V R H O R V'\n",
    "timestep = 4.0 * unit.femtosecond\n",
    "platform_name = 'CUDA'\n",
    "cache_length = 1 \n",
    "temperature = 298.0 * unit.kelvin\n",
    "\n",
    "# Read in vanilla htf\n",
    "_logger.info(f\"Reading htf\")\n",
    "i = os.path.basename(os.path.dirname(outdir))\n",
    "with open(os.path.join(outdir, f\"{i}_{phase}.pickle\"), 'rb') as f:\n",
    "    htf = pickle.load(f)\n",
    "system = htf.hybrid_system\n",
    "positions = htf.hybrid_positions\n",
    "box_vectors = system.getDefaultPeriodicBoxVectors()\n",
    "\n"
   ]
  },
  {
   "cell_type": "code",
   "execution_count": 5,
   "id": "f62f37e7",
   "metadata": {},
   "outputs": [
    {
     "name": "stderr",
     "output_type": "stream",
     "text": [
      "INFO:root:Freezing heavy atoms\n"
     ]
    }
   ],
   "source": [
    "# Set all heavy atom masses to be 0\n",
    "heavy_atoms = []\n",
    "_logger.info(f\"Freezing heavy atoms\")\n",
    "for atom in htf.hybrid_topology.atoms:\n",
    "    if atom.element.name != 'hydrogen' and atom.residue.name not in ['HOH', 'Na+', 'Cl-']:\n",
    "        system.setParticleMass(atom.index, 0.0)\n",
    "        heavy_atoms.append(atom.index)\n",
    "\n",
    "for i in range(system.getNumConstraints() - 1, -1, -1):\n",
    "    p1, p2, distance = system.getConstraintParameters(i)\n",
    "    if p1 in heavy_atoms or p2 in heavy_atoms:\n",
    "        system.removeConstraint(i)\n"
   ]
  },
  {
   "cell_type": "code",
   "execution_count": 6,
   "id": "3cbd1d8a",
   "metadata": {},
   "outputs": [
    {
     "name": "stderr",
     "output_type": "stream",
     "text": [
      "INFO:root:Creating integrator\n",
      "INFO:root:Setting up context\n"
     ]
    }
   ],
   "source": [
    "# Set up integrator\n",
    "_logger.info(f\"Creating integrator\")\n",
    "integrator = PeriodicNonequilibriumIntegrator(DEFAULT_ALCHEMICAL_FUNCTIONS, nsteps_eq, nsteps_neq, neq_splitting, timestep=timestep, temperature=temperature)\n",
    "\n",
    "# Set up context\n",
    "_logger.info(f\"Setting up context\")\n",
    "platform = openmm.Platform.getPlatformByName(platform_name)\n",
    "if platform_name in ['CUDA', 'OpenCL']:\n",
    "    platform.setPropertyDefaultValue('Precision', 'mixed')\n",
    "if platform_name in ['CUDA']:\n",
    "    platform.setPropertyDefaultValue('DeterministicForces', 'true')\n",
    "context = openmm.Context(system, integrator, platform)\n",
    "context.setPeriodicBoxVectors(*box_vectors)\n",
    "context.setPositions(positions)\n",
    "context.setVelocitiesToTemperature(temperature)\n",
    "\n"
   ]
  },
  {
   "cell_type": "code",
   "execution_count": 7,
   "id": "925cd5bf",
   "metadata": {},
   "outputs": [],
   "source": [
    "# Minimize\n",
    "openmm.LocalEnergyMinimizer.minimize(context)\n",
    "\n"
   ]
  },
  {
   "cell_type": "code",
   "execution_count": 8,
   "id": "d95a919d",
   "metadata": {},
   "outputs": [
    {
     "name": "stderr",
     "output_type": "stream",
     "text": [
      "INFO:root:Running equil\n"
     ]
    },
    {
     "ename": "OpenMMException",
     "evalue": "Particle coordinate is nan",
     "output_type": "error",
     "traceback": [
      "\u001b[0;31m---------------------------------------------------------------------------\u001b[0m",
      "\u001b[0;31mOpenMMException\u001b[0m                           Traceback (most recent call last)",
      "\u001b[0;32m<ipython-input-8-68ef6a263df1>\u001b[0m in \u001b[0;36m<module>\u001b[0;34m\u001b[0m\n\u001b[1;32m      1\u001b[0m \u001b[0;31m# Run eq forward (0 -> 1)\u001b[0m\u001b[0;34m\u001b[0m\u001b[0;34m\u001b[0m\u001b[0;34m\u001b[0m\u001b[0m\n\u001b[1;32m      2\u001b[0m \u001b[0m_logger\u001b[0m\u001b[0;34m.\u001b[0m\u001b[0minfo\u001b[0m\u001b[0;34m(\u001b[0m\u001b[0;34mf\"Running equil\"\u001b[0m\u001b[0;34m)\u001b[0m\u001b[0;34m\u001b[0m\u001b[0;34m\u001b[0m\u001b[0m\n\u001b[0;32m----> 3\u001b[0;31m \u001b[0mintegrator\u001b[0m\u001b[0;34m.\u001b[0m\u001b[0mstep\u001b[0m\u001b[0;34m(\u001b[0m\u001b[0mnsteps_eq\u001b[0m\u001b[0;34m)\u001b[0m\u001b[0;34m\u001b[0m\u001b[0;34m\u001b[0m\u001b[0m\n\u001b[0m\u001b[1;32m      4\u001b[0m \u001b[0;34m\u001b[0m\u001b[0m\n",
      "\u001b[0;32m~/miniconda3/envs/perses-rxn-field/lib/python3.8/site-packages/simtk/openmm/openmm.py\u001b[0m in \u001b[0;36mstep\u001b[0;34m(self, steps)\u001b[0m\n\u001b[1;32m   4595\u001b[0m             \u001b[0mthe\u001b[0m \u001b[0mnumber\u001b[0m \u001b[0mof\u001b[0m \u001b[0mtime\u001b[0m \u001b[0msteps\u001b[0m \u001b[0mto\u001b[0m \u001b[0mtake\u001b[0m\u001b[0;34m\u001b[0m\u001b[0;34m\u001b[0m\u001b[0m\n\u001b[1;32m   4596\u001b[0m         \"\"\"\n\u001b[0;32m-> 4597\u001b[0;31m         \u001b[0;32mreturn\u001b[0m \u001b[0m_openmm\u001b[0m\u001b[0;34m.\u001b[0m\u001b[0mCustomIntegrator_step\u001b[0m\u001b[0;34m(\u001b[0m\u001b[0mself\u001b[0m\u001b[0;34m,\u001b[0m \u001b[0msteps\u001b[0m\u001b[0;34m)\u001b[0m\u001b[0;34m\u001b[0m\u001b[0;34m\u001b[0m\u001b[0m\n\u001b[0m\u001b[1;32m   4598\u001b[0m \u001b[0;34m\u001b[0m\u001b[0m\n\u001b[1;32m   4599\u001b[0m     \u001b[0;32mdef\u001b[0m \u001b[0mgetPerDofVariable\u001b[0m\u001b[0;34m(\u001b[0m\u001b[0mself\u001b[0m\u001b[0;34m,\u001b[0m \u001b[0;34m*\u001b[0m\u001b[0margs\u001b[0m\u001b[0;34m)\u001b[0m\u001b[0;34m:\u001b[0m\u001b[0;34m\u001b[0m\u001b[0;34m\u001b[0m\u001b[0m\n",
      "\u001b[0;31mOpenMMException\u001b[0m: Particle coordinate is nan"
     ]
    }
   ],
   "source": [
    "# Run eq forward (0 -> 1)\n",
    "_logger.info(f\"Running equil\")\n",
    "integrator.step(nsteps_eq)\n",
    "\n"
   ]
  },
  {
   "cell_type": "code",
   "execution_count": null,
   "id": "ad032480",
   "metadata": {},
   "outputs": [],
   "source": [
    "# Run neq forward (0 -> 1)\n",
    "_logger.info(f\"Starting forward switching\")\n",
    "forward_works_master = list()\n",
    "forward_neq_old, forward_neq_new = list(), list()\n",
    "forward_works = [integrator.get_protocol_work(dimensionless=True)]\n",
    "for fwd_step in range(int(nsteps_neq / 2500)):\n",
    "    integrator.step(2500)\n",
    "    _logger.info(f\"Forward neq: {fwd_step*2500} completed\")\n",
    "\n",
    "    forward_works.append(integrator.get_protocol_work(dimensionless=True))\n",
    "    \n",
    "    pos = context.getState(getPositions=True, enforcePeriodicBox=False).getPositions(asNumpy=True)\n",
    "    old_pos = np.asarray(htf.old_positions(pos))\n",
    "    old_traj = md.Trajectory(old_pos, md.Topology.from_openmm(htf._topology_proposal.old_topology))\n",
    "    old_pos_solute = old_traj.atom_slice(old_traj.top.select(\"not water\")).xyz[0]\n",
    "    \n",
    "    new_pos = np.asarray(htf.new_positions(pos))\n",
    "    new_traj = md.Trajectory(new_pos, md.Topology.from_openmm(htf._topology_proposal.new_topology))\n",
    "    new_pos_solute = new_traj.atom_slice(new_traj.top.select(\"not water\")).xyz[0]\n",
    "    \n",
    "    forward_neq_old.append(old_pos_solute)\n",
    "    forward_neq_new.append(new_pos_solute)\n",
    "forward_works_master.append(forward_works)\n",
    "\n"
   ]
  },
  {
   "cell_type": "code",
   "execution_count": null,
   "id": "9e661cf7",
   "metadata": {},
   "outputs": [],
   "source": [
    "# # Read in lambda = 1 cache, if necessary\n",
    "# with open(os.path.join(args.dir, f\"{i}_{args.phase}_{args.new_aa_name}_{cache_length}ns_snapshots.npy\"), 'rb') as f:\n",
    "#     subset_pos = np.load(f)\n",
    "# positions = subset_pos[0]\n",
    "\n",
    "# # Read in lambda = 1 cache box vectors\n",
    "# with open(os.path.join(args.dir, f\"{i}_{args.phase}_{args.new_aa_name}_{cache_length}ns_box_vectors.npy\"), 'rb') as f:\n",
    "#     subset_box_vectors = np.load(f)\n",
    "# box_vectors = subset_box_vectors[0][0]\n",
    "\n",
    "# context.setPeriodicBoxVectors(*box_vectors)\n",
    "# context.setPositions(positions)\n",
    "# context.setVelocitiesToTemperature(temperature)\n",
    "\n",
    "# Run eq reverse (1 -> 0)\n",
    "integrator.step(nsteps_eq)\n",
    "\n"
   ]
  },
  {
   "cell_type": "code",
   "execution_count": null,
   "id": "5b369f40",
   "metadata": {},
   "outputs": [],
   "source": [
    "# Run neq reverse (1 -> 0)\n",
    "reverse_works_master = list()\n",
    "reverse_neq_old, reverse_neq_new = list(), list()\n",
    "reverse_works = [integrator.get_protocol_work(dimensionless=True)]\n",
    "for rev_step in range(int(nsteps_neq / 2500)):\n",
    "    integrator.step(2500)\n",
    "    _logger.info(f\"Reverse neq: {rev_step*2500} completed\")\n",
    "    \n",
    "    reverse_works.append(integrator.get_protocol_work(dimensionless=True))\n",
    "    \n",
    "    pos = context.getState(getPositions=True, enforcePeriodicBox=False).getPositions(asNumpy=True)\n",
    "    old_pos = np.asarray(htf.old_positions(pos))\n",
    "    old_traj = md.Trajectory(old_pos, md.Topology.from_openmm(htf._topology_proposal.old_topology))\n",
    "    old_pos_solute = old_traj.atom_slice(old_traj.top.select(\"not water\")).xyz[0]\n",
    "    \n",
    "    new_pos = np.asarray(htf.new_positions(pos))\n",
    "    new_traj = md.Trajectory(new_pos, md.Topology.from_openmm(htf._topology_proposal.new_topology))\n",
    "    new_pos_solute = new_traj.atom_slice(new_traj.top.select(\"not water\")).xyz[0]\n",
    "\n",
    "    reverse_neq_old.append(old_pos_solute)\n",
    "    reverse_neq_new.append(new_pos_solute)\n",
    "reverse_works_master.append(reverse_works)\n",
    "\n"
   ]
  },
  {
   "cell_type": "code",
   "execution_count": null,
   "id": "eedb663c",
   "metadata": {},
   "outputs": [],
   "source": [
    "# Save works\n",
    "with open(os.path.join(args.dir, f\"{i}_{args.phase}_{args.sim_number}_forward.npy\"), 'wb') as f:\n",
    "    np.save(f, forward_works_master)\n",
    "with open(os.path.join(args.dir, f\"{i}_{args.phase}_{args.sim_number}_reverse.npy\"), 'wb') as f:\n",
    "    np.save(f, reverse_works_master)\n",
    "\n",
    "with open(os.path.join(args.dir, f\"{i}_{args.phase}_{args.sim_number}_forward_neq_old.npy\"), 'wb') as f:\n",
    "    np.save(f, forward_neq_old)\n",
    "with open(os.path.join(args.dir, f\"{i}_{args.phase}_{args.sim_number}_forward_neq_new.npy\"), 'wb') as f:\n",
    "    np.save(f, forward_neq_new)\n",
    "with open(os.path.join(args.dir, f\"{i}_{args.phase}_{args.sim_number}_reverse_neq_old.npy\"), 'wb') as f:\n",
    "    np.save(f, reverse_neq_old)\n",
    "with open(os.path.join(args.dir, f\"{i}_{args.phase}_{args.sim_number}_reverse_neq_new.npy\"), 'wb') as f:\n",
    "    np.save(f, reverse_neq_new)\n",
    "\n"
   ]
  }
 ],
 "metadata": {
  "kernelspec": {
   "display_name": "Python 3",
   "language": "python",
   "name": "python3"
  },
  "language_info": {
   "codemirror_mode": {
    "name": "ipython",
    "version": 3
   },
   "file_extension": ".py",
   "mimetype": "text/x-python",
   "name": "python",
   "nbconvert_exporter": "python",
   "pygments_lexer": "ipython3",
   "version": "3.8.8"
  }
 },
 "nbformat": 4,
 "nbformat_minor": 5
}
