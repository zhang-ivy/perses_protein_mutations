{
 "cells": [
  {
   "cell_type": "code",
   "execution_count": 21,
   "id": "conservative-worthy",
   "metadata": {},
   "outputs": [],
   "source": [
    "import logging\n",
    "import pickle\n",
    "import numpy as np\n",
    "from openmmtools.integrators import PeriodicNonequilibriumIntegrator\n",
    "from simtk import unit, openmm\n",
    "import argparse\n",
    "import os\n",
    "import time\n",
    "import mdtraj as md\n",
    "from tqdm import tqdm\n",
    "from openmmtools.constants import kB\n",
    "\n",
    "# Set up logger\n",
    "_logger = logging.getLogger()\n",
    "_logger.setLevel(logging.INFO)\n",
    "\n"
   ]
  },
  {
   "cell_type": "code",
   "execution_count": null,
   "id": "attended-permit",
   "metadata": {},
   "outputs": [],
   "source": []
  },
  {
   "cell_type": "code",
   "execution_count": 3,
   "id": "simplified-muscle",
   "metadata": {},
   "outputs": [],
   "source": [
    "outdir = \"/data/chodera/zhangi/perses_benchmark/neq/14/30/\"\n",
    "phase = 'apo'\n",
    "sim_number = 1\n",
    "old_aa_name = 'asn'\n",
    "new_aa_name = 'lys'\n",
    "length = 1\n",
    "cache = 1"
   ]
  },
  {
   "cell_type": "code",
   "execution_count": 22,
   "id": "exterior-fetish",
   "metadata": {},
   "outputs": [],
   "source": [
    "# Define lambda functions\n",
    "x = 'lambda'\n",
    "DEFAULT_ALCHEMICAL_FUNCTIONS = {\n",
    "                             'lambda_sterics_core': x,\n",
    "                             'lambda_electrostatics_core': x,\n",
    "                             'lambda_sterics_insert': f\"select(step({x} - 0.5), 1.0, 2.0 * {x})\",\n",
    "                             'lambda_sterics_delete': f\"select(step({x} - 0.5), 2.0 * ({x} - 0.5), 0.0)\",\n",
    "                             'lambda_electrostatics_insert': f\"select(step({x} - 0.5), 2.0 * ({x} - 0.5), 0.0)\",\n",
    "                             'lambda_electrostatics_delete': f\"select(step({x} - 0.5), 1.0, 2.0 * {x})\",\n",
    "                             'lambda_bonds': x,\n",
    "                             'lambda_angles': x,\n",
    "                             'lambda_torsions': x}\n",
    "\n",
    "# Define simulation parameters\n",
    "# nsteps_eq = 25000 # 100 ps \n",
    "nsteps_eq = 1\n",
    "nsteps_neq = 10\n",
    "neq_splitting='V R H O R V'\n",
    "timestep = 4.0 * unit.femtosecond\n",
    "platform_name = 'CUDA'\n",
    "cache_length = 1\n",
    "temperature = 298.0 * unit.kelvin\n",
    "kT = kB * temperature\n"
   ]
  },
  {
   "cell_type": "code",
   "execution_count": 5,
   "id": "general-blocking",
   "metadata": {},
   "outputs": [
    {
     "name": "stdout",
     "output_type": "stream",
     "text": [
      "shape: (100, 44759, 3)\n",
      "array.shape: (13427700,)\n"
     ]
    }
   ],
   "source": [
    "# Read in vanilla htf\n",
    "i = os.path.basename(os.path.dirname(outdir))\n",
    "with open(os.path.join(outdir, f\"{i}_{phase}.pickle\"), 'rb') as f:\n",
    "    htf = pickle.load(f)\n",
    "\n",
    "# Read in lambda = 0 cache\n",
    "with open(os.path.join(outdir, f\"{i}_{phase}_{old_aa_name}_{cache_length}ns_snapshots.npy\"), 'rb') as f:\n",
    "    subset_pos = np.load(f)\n",
    "positions = subset_pos[sim_number]\n",
    "system = htf.hybrid_system\n",
    "\n"
   ]
  },
  {
   "cell_type": "code",
   "execution_count": 17,
   "id": "boxed-insert",
   "metadata": {},
   "outputs": [],
   "source": [
    "# Set up integrator\n",
    "integrator = PeriodicNonequilibriumIntegrator(DEFAULT_ALCHEMICAL_FUNCTIONS, nsteps_eq, nsteps_neq, neq_splitting, timestep=timestep, temperature=temperature)\n",
    "\n",
    "# Set up context\n",
    "platform = openmm.Platform.getPlatformByName(platform_name)\n",
    "if platform_name in ['CUDA', 'OpenCL']:\n",
    "    platform.setPropertyDefaultValue('Precision', 'mixed')\n",
    "if platform_name in ['CUDA']:\n",
    "    platform.setPropertyDefaultValue('DeterministicForces', 'true')\n",
    "context = openmm.Context(system, integrator, platform)\n",
    "context.setPeriodicBoxVectors(*system.getDefaultPeriodicBoxVectors())\n",
    "context.setPositions(positions)\n",
    "context.setVelocitiesToTemperature(temperature)\n",
    "\n",
    "# Minimize\n",
    "openmm.LocalEnergyMinimizer.minimize(context)\n",
    "\n"
   ]
  },
  {
   "cell_type": "code",
   "execution_count": 18,
   "id": "impressive-runner",
   "metadata": {},
   "outputs": [],
   "source": [
    "force_dict = {i.__class__.__name__: i for i in system.getForces()}\n",
    "if 'CustomNonbondedForce' in [i for i in force_dict.keys()]:\n",
    "    cnbf = force_dict['CustomNonbondedForce']"
   ]
  },
  {
   "cell_type": "code",
   "execution_count": 19,
   "id": "unique-tuesday",
   "metadata": {},
   "outputs": [
    {
     "data": {
      "text/plain": [
       "False"
      ]
     },
     "execution_count": 19,
     "metadata": {},
     "output_type": "execute_result"
    }
   ],
   "source": [
    "# Get energy of system with dispersion correction\n",
    "cnbf.getUseLongRangeCorrection()\n",
    "\n",
    "# Get energy of system without dispersion correction"
   ]
  },
  {
   "cell_type": "code",
   "execution_count": 29,
   "id": "former-surrey",
   "metadata": {
    "scrolled": true
   },
   "outputs": [
    {
     "data": {
      "text/plain": [
       "-300636.6153062768"
      ]
     },
     "execution_count": 29,
     "metadata": {},
     "output_type": "execute_result"
    }
   ],
   "source": [
    "context.getState(getEnergy=True).getPotentialEnergy() / kT"
   ]
  },
  {
   "cell_type": "code",
   "execution_count": null,
   "id": "killing-proxy",
   "metadata": {},
   "outputs": [],
   "source": [
    "cnbf.setUseLongRangeCorrection(True)\n",
    "# Make temp context\n",
    "# Get the energy in kT"
   ]
  },
  {
   "cell_type": "code",
   "execution_count": null,
   "id": "conventional-costa",
   "metadata": {},
   "outputs": [],
   "source": [
    "first work = without_correction - correction"
   ]
  },
  {
   "cell_type": "code",
   "execution_count": 16,
   "id": "overhead-bolivia",
   "metadata": {},
   "outputs": [
    {
     "name": "stderr",
     "output_type": "stream",
     "text": [
      "INFO:root:forward NEQ step: 0, took: 0.0029315948486328125 seconds\n"
     ]
    }
   ],
   "source": [
    "# Run eq forward (0 -> 1)\n",
    "forward_eq_old, forward_eq_new = list(), list()\n",
    "for fwd_step in range(nsteps_eq):\n",
    "    initial_time = time.time()\n",
    "    integrator.step(1)\n",
    "    elapsed_time = (time.time() - initial_time) * unit.seconds\n",
    "    # if fwd_step % 2500 == 0:\n",
    "    #     _logger.info(f'forward EQ step: {fwd_step}, took: {elapsed_time / unit.seconds} seconds')\n",
    "    #     pos = context.getState(getPositions=True, enforcePeriodicBox=False).getPositions(asNumpy=True)\n",
    "    #     old_pos = np.asarray(htf.old_positions(pos))\n",
    "    #     new_pos = np.asarray(htf.new_positions(pos))\n",
    "    #     forward_eq_old.append(old_pos)\n",
    "    #     forward_eq_new.append(new_pos)\n",
    "\n",
    "# Run neq forward (0 -> 1)\n",
    "forward_works_master = list()\n",
    "forward_neq_old, forward_neq_new = list(), list()\n",
    "forward_works = [integrator.get_protocol_work(dimensionless=True)]\n",
    "for fwd_step in range(nsteps_neq):\n",
    "    initial_time = time.time()\n",
    "    integrator.step(1)\n",
    "    elapsed_time = (time.time() - initial_time) * unit.seconds\n",
    "    forward_works.append(integrator.get_protocol_work(dimensionless=True))\n",
    "    if fwd_step % 2500 == 0:\n",
    "        _logger.info(f'forward NEQ step: {fwd_step}, took: {elapsed_time / unit.seconds} seconds')\n",
    "        pos = context.getState(getPositions=True, enforcePeriodicBox=False).getPositions(asNumpy=True)\n",
    "        old_pos = np.asarray(htf.old_positions(pos))\n",
    "        old_traj = md.Trajectory(old_pos, md.Topology.from_openmm(htf._topology_proposal.old_topology))\n",
    "        old_pos_solute = old_traj.atom_slice(old_traj.top.select(\"not water\")).xyz[0]\n",
    "        \n",
    "        new_pos = np.asarray(htf.new_positions(pos))\n",
    "        new_traj = md.Trajectory(new_pos, md.Topology.from_openmm(htf._topology_proposal.new_topology))\n",
    "        new_pos_solute = new_traj.atom_slice(new_traj.top.select(\"not water\")).xyz[0]\n",
    "        \n",
    "        forward_neq_old.append(old_pos_solute)\n",
    "        forward_neq_new.append(new_pos_solute)\n",
    "forward_works_master.append(forward_works)\n",
    "\n"
   ]
  },
  {
   "cell_type": "code",
   "execution_count": null,
   "id": "proprietary-timber",
   "metadata": {},
   "outputs": [],
   "source": []
  },
  {
   "cell_type": "code",
   "execution_count": null,
   "id": "familiar-combination",
   "metadata": {},
   "outputs": [],
   "source": [
    "# Read in lambda = 1 cache, if necessary\n",
    "with open(os.path.join(args.dir, f\"{i}_{args.phase}_{args.new_aa_name}_{cache_length}ns_snapshots.npy\"), 'rb') as f:\n",
    "    subset_pos = np.load(f)\n",
    "positions = subset_pos[args.sim_number]\n",
    "context.setPositions(positions)\n",
    "\n",
    "# Run eq reverse (1 -> 0)\n",
    "reverse_eq_old, reverse_eq_new = list(), list()\n",
    "for rev_step in range(nsteps_eq):\n",
    "    initial_time = time.time()\n",
    "    integrator.step(1)\n",
    "    elapsed_time = (time.time() - initial_time) * unit.seconds\n",
    "    # if rev_step % 2500 == 0:\n",
    "    #     _logger.info(f'reverse EQ step: {rev_step}, took: {elapsed_time / unit.seconds} seconds')\n",
    "    #     pos = context.getState(getPositions=True, enforcePeriodicBox=False).getPositions(asNumpy=True)\n",
    "    #     old_pos = np.asarray(htf.old_positions(pos))\n",
    "    #     new_pos = np.asarray(htf.new_positions(pos))\n",
    "    #     reverse_eq_old.append(old_pos)\n",
    "    #     reverse_eq_new.append(new_pos)\n",
    "\n",
    "# Run neq reverse (1 -> 0)\n",
    "reverse_works_master = list()\n",
    "reverse_neq_old, reverse_neq_new = list(), list()\n",
    "reverse_works = [integrator.get_protocol_work(dimensionless=True)]\n",
    "for rev_step in range(nsteps_neq):\n",
    "    initial_time = time.time()\n",
    "    integrator.step(1)\n",
    "    elapsed_time = (time.time() - initial_time) * unit.seconds\n",
    "    reverse_works.append(integrator.get_protocol_work(dimensionless=True))\n",
    "    if rev_step % 2500 == 0:\n",
    "        _logger.info(f'reverse NEQ step: {rev_step}, took: {elapsed_time / unit.seconds} seconds')\n",
    "        pos = context.getState(getPositions=True, enforcePeriodicBox=False).getPositions(asNumpy=True)\n",
    "        old_pos = np.asarray(htf.old_positions(pos))\n",
    "        old_traj = md.Trajectory(old_pos, md.Topology.from_openmm(htf._topology_proposal.old_topology))\n",
    "        old_pos_solute = old_traj.atom_slice(old_traj.top.select(\"not water\")).xyz[0]\n",
    "        \n",
    "        new_pos = np.asarray(htf.new_positions(pos))\n",
    "        new_traj = md.Trajectory(new_pos, md.Topology.from_openmm(htf._topology_proposal.new_topology))\n",
    "        new_pos_solute = new_traj.atom_slice(new_traj.top.select(\"not water\")).xyz[0]\n",
    "\n",
    "        reverse_neq_old.append(old_pos_solute)\n",
    "        reverse_neq_new.append(new_pos_solute)\n",
    "reverse_works_master.append(reverse_works)\n",
    "\n",
    "# Save works\n",
    "with open(os.path.join(args.dir, f\"{i}_{args.phase}_{args.sim_number}_forward.npy\"), 'wb') as f:\n",
    "    np.save(f, forward_works_master)\n",
    "with open(os.path.join(args.dir, f\"{i}_{args.phase}_{args.sim_number}_reverse.npy\"), 'wb') as f:\n",
    "    np.save(f, reverse_works_master)\n",
    "\n",
    "# Save trajs\n",
    "# with open(os.path.join(args.dir, f\"{i}_{args.phase}_{args.sim_number}_forward_eq_old.npy\"), 'wb') as f:\n",
    "#     np.save(f, forward_eq_old)\n",
    "# with open(os.path.join(args.dir, f\"{i}_{args.phase}_{args.sim_number}_forward_eq_new.npy\"), 'wb') as f:\n",
    "#     np.save(f, forward_eq_new)\n",
    "# with open(os.path.join(args.dir, f\"{i}_{args.phase}_{args.sim_number}_reverse_eq_old.npy\"), 'wb') as f:\n",
    "#     np.save(f, reverse_eq_old)\n",
    "# with open(os.path.join(args.dir, f\"{i}_{args.phase}_{args.sim_number}_reverse_eq_new.npy\"), 'wb') as f:\n",
    "#     np.save(f, reverse_eq_new)\n",
    "\n",
    "with open(os.path.join(args.dir, f\"{i}_{args.phase}_{args.sim_number}_forward_neq_old.npy\"), 'wb') as f:\n",
    "    np.save(f, forward_neq_old)\n",
    "with open(os.path.join(args.dir, f\"{i}_{args.phase}_{args.sim_number}_forward_neq_new.npy\"), 'wb') as f:\n",
    "    np.save(f, forward_neq_new)\n",
    "with open(os.path.join(args.dir, f\"{i}_{args.phase}_{args.sim_number}_reverse_neq_old.npy\"), 'wb') as f:\n",
    "    np.save(f, reverse_neq_old)\n",
    "with open(os.path.join(args.dir, f\"{i}_{args.phase}_{args.sim_number}_reverse_neq_new.npy\"), 'wb') as f:\n",
    "    np.save(f, reverse_neq_new)\n",
    "\n"
   ]
  }
 ],
 "metadata": {
  "kernelspec": {
   "display_name": "Python 3",
   "language": "python",
   "name": "python3"
  },
  "language_info": {
   "codemirror_mode": {
    "name": "ipython",
    "version": 3
   },
   "file_extension": ".py",
   "mimetype": "text/x-python",
   "name": "python",
   "nbconvert_exporter": "python",
   "pygments_lexer": "ipython3",
   "version": "3.8.6"
  }
 },
 "nbformat": 4,
 "nbformat_minor": 5
}
