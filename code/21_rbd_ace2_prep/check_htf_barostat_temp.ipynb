{
 "cells": [
  {
   "cell_type": "code",
   "execution_count": 1,
   "id": "smart-settle",
   "metadata": {},
   "outputs": [],
   "source": [
    "import pickle"
   ]
  },
  {
   "cell_type": "markdown",
   "id": "seven-cargo",
   "metadata": {},
   "source": [
    "## Get barostat temp for the new htfs (at 298 K)"
   ]
  },
  {
   "cell_type": "code",
   "execution_count": 3,
   "id": "conservative-poker",
   "metadata": {},
   "outputs": [],
   "source": [
    "with open(\"/data/chodera/zhangi/perses_benchmark/neq/14/36/36_apo_0.pickle\", \"rb\") as f:\n",
    "    htf = pickle.load(f)"
   ]
  },
  {
   "cell_type": "code",
   "execution_count": 4,
   "id": "silent-spain",
   "metadata": {},
   "outputs": [
    {
     "data": {
      "text/plain": [
       "[<simtk.openmm.openmm.MonteCarloBarostat; proxy of <Swig Object of type 'OpenMM::MonteCarloBarostat *' at 0x2b4e13fa22d0> >,\n",
       " <simtk.openmm.openmm.HarmonicBondForce; proxy of <Swig Object of type 'OpenMM::HarmonicBondForce *' at 0x2b4e13fa2210> >,\n",
       " <simtk.openmm.openmm.HarmonicAngleForce; proxy of <Swig Object of type 'OpenMM::HarmonicAngleForce *' at 0x2b4e91e5df00> >,\n",
       " <simtk.openmm.openmm.PeriodicTorsionForce; proxy of <Swig Object of type 'OpenMM::PeriodicTorsionForce *' at 0x2b4e91e5dfc0> >,\n",
       " <simtk.openmm.openmm.NonbondedForce; proxy of <Swig Object of type 'OpenMM::NonbondedForce *' at 0x2b4e78c9a090> >]"
      ]
     },
     "execution_count": 4,
     "metadata": {},
     "output_type": "execute_result"
    }
   ],
   "source": [
    "htf.hybrid_system.getForces()"
   ]
  },
  {
   "cell_type": "code",
   "execution_count": 5,
   "id": "raised-asbestos",
   "metadata": {},
   "outputs": [],
   "source": [
    "barostat = htf.hybrid_system.getForce(0)"
   ]
  },
  {
   "cell_type": "code",
   "execution_count": 10,
   "id": "incomplete-bacon",
   "metadata": {},
   "outputs": [
    {
     "data": {
      "text/plain": [
       "Quantity(value=298.0, unit=kelvin)"
      ]
     },
     "execution_count": 10,
     "metadata": {},
     "output_type": "execute_result"
    }
   ],
   "source": [
    "barostat.getDefaultTemperature()"
   ]
  },
  {
   "cell_type": "markdown",
   "id": "every-dinner",
   "metadata": {},
   "source": [
    "## Get barostat temp for the new htfs (at 298 K)"
   ]
  },
  {
   "cell_type": "code",
   "execution_count": 11,
   "id": "closed-sound",
   "metadata": {},
   "outputs": [],
   "source": [
    "with open(\"/data/chodera/zhangi/perses_benchmark/neq/14/30/30_apo_0.pickle\", \"rb\") as f:\n",
    "    htf = pickle.load(f)"
   ]
  },
  {
   "cell_type": "code",
   "execution_count": 12,
   "id": "corrected-salon",
   "metadata": {},
   "outputs": [],
   "source": [
    "barostat = htf.hybrid_system.getForce(0)"
   ]
  },
  {
   "cell_type": "code",
   "execution_count": 13,
   "id": "composite-services",
   "metadata": {},
   "outputs": [
    {
     "data": {
      "text/plain": [
       "Quantity(value=300.0, unit=kelvin)"
      ]
     },
     "execution_count": 13,
     "metadata": {},
     "output_type": "execute_result"
    }
   ],
   "source": [
    "barostat.getDefaultTemperature()"
   ]
  },
  {
   "cell_type": "code",
   "execution_count": null,
   "id": "oriental-reservation",
   "metadata": {},
   "outputs": [],
   "source": []
  }
 ],
 "metadata": {
  "kernelspec": {
   "display_name": "Python 3",
   "language": "python",
   "name": "python3"
  },
  "language_info": {
   "codemirror_mode": {
    "name": "ipython",
    "version": 3
   },
   "file_extension": ".py",
   "mimetype": "text/x-python",
   "name": "python",
   "nbconvert_exporter": "python",
   "pygments_lexer": "ipython3",
   "version": "3.8.6"
  }
 },
 "nbformat": 4,
 "nbformat_minor": 5
}
