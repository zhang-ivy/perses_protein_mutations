{
 "cells": [
  {
   "cell_type": "code",
   "execution_count": 3,
   "id": "dramatic-dynamics",
   "metadata": {},
   "outputs": [],
   "source": [
    "import pickle\n",
    "import os\n",
    "from simtk.openmm import app"
   ]
  },
  {
   "cell_type": "code",
   "execution_count": 2,
   "id": "million-subdivision",
   "metadata": {},
   "outputs": [],
   "source": [
    "with open(\"/data/chodera/zhangi/perses_benchmark/neq/15/16/16_apo.pickle\", \"rb\") as f:\n",
    "    htf = pickle.load(f)"
   ]
  },
  {
   "cell_type": "code",
   "execution_count": 6,
   "id": "hollow-argentina",
   "metadata": {},
   "outputs": [],
   "source": [
    "with open(\"N501Y_apo.pdb\", \"w\") as f:\n",
    "    modeller = app.Modeller(htf._topology_proposal.new_topology, htf.new_positions(htf.hybrid_positions))\n",
    "    to_delete = [chain for chain in modeller.topology.chains() if chain.id == 'Y']\n",
    "    modeller.delete(to_delete)\n",
    "    app.PDBFile.writeFile(modeller.topology, modeller.positions, f, keepIds=True)"
   ]
  },
  {
   "cell_type": "code",
   "execution_count": null,
   "id": "outside-description",
   "metadata": {},
   "outputs": [],
   "source": [
    "## Note: didn't end up pulling mutant PDBs from htfs. Pulled them from debug/4_rbd_mutant_rbd_tleap_final.pdb"
   ]
  }
 ],
 "metadata": {
  "kernelspec": {
   "display_name": "Python 3",
   "language": "python",
   "name": "python3"
  },
  "language_info": {
   "codemirror_mode": {
    "name": "ipython",
    "version": 3
   },
   "file_extension": ".py",
   "mimetype": "text/x-python",
   "name": "python",
   "nbconvert_exporter": "python",
   "pygments_lexer": "ipython3",
   "version": "3.8.6"
  }
 },
 "nbformat": 4,
 "nbformat_minor": 5
}
