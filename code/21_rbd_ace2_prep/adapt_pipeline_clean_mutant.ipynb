{
 "cells": [
  {
   "cell_type": "code",
   "execution_count": 3,
   "metadata": {},
   "outputs": [],
   "source": [
    "import pickle\n",
    "import os\n",
    "from perses.app.relative_point_mutation_setup import PointMutationExecutorRBD\n",
    "from perses.utils.smallmolecules import  render_protein_residue_atom_mapping\n",
    "from pkg_resources import resource_filename\n",
    "from simtk import unit\n",
    "import argparse\n",
    "\n"
   ]
  },
  {
   "cell_type": "code",
   "execution_count": null,
   "metadata": {},
   "outputs": [],
   "source": [
    "# Read args\n",
    "parser = argparse.ArgumentParser(description='generate htf')\n",
    "parser.add_argument('dir', type=str, help='path to input/output dir')\n",
    "parser.add_argument('residue', type=str, help='residue position')\n",
    "parser.add_argument('mutant', type=str, help='three letter code for amino acid to mutate to')\n",
    "parser.add_argument('--rbd_file', type=str, help='rbd file')\n",
    "args = parser.parse_args()\n",
    "\n",
    "rbd_file = resource_filename('perses', 'data/rbd-ace2/0_rbd.pdb') if not args.rbd_file else args.rbd_file\n",
    "ace2_file = resource_filename('perses', 'data/rbd-ace2/0_ace2.pdb')\n",
    "\n"
   ]
  },
  {
   "cell_type": "code",
   "execution_count": null,
   "metadata": {},
   "outputs": [],
   "source": [
    "rbd_file = \"/data/chodera/\""
   ]
  },
  {
   "cell_type": "code",
   "execution_count": null,
   "metadata": {},
   "outputs": [],
   "source": [
    "solvent_delivery = PointMutationExecutorRBD(rbd_file,\n",
    "                        'R',\n",
    "                        args.residue,\n",
    "                        args.mutant,\n",
    "                        ligand_input=ace2_file,\n",
    "                        ionic_strength=0.05*unit.molar,\n",
    "                        flatten_torsions=True,\n",
    "                        flatten_exceptions=True, \n",
    "                        debug_dir=os.path.join(args.dir, \"debug/\")\n",
    "                       )\n"
   ]
  },
  {
   "cell_type": "code",
   "execution_count": null,
   "metadata": {},
   "outputs": [],
   "source": []
  }
 ],
 "metadata": {
  "kernelspec": {
   "display_name": "Python 3",
   "language": "python",
   "name": "python3"
  },
  "language_info": {
   "codemirror_mode": {
    "name": "ipython",
    "version": 3
   },
   "file_extension": ".py",
   "mimetype": "text/x-python",
   "name": "python",
   "nbconvert_exporter": "python",
   "pygments_lexer": "ipython3",
   "version": "3.8.6"
  }
 },
 "nbformat": 4,
 "nbformat_minor": 4
}
