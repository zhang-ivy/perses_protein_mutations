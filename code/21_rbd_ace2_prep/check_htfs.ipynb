{
 "cells": [
  {
   "cell_type": "code",
   "execution_count": 1,
   "id": "ordered-relationship",
   "metadata": {},
   "outputs": [],
   "source": [
    "import pickle\n",
    "import os\n",
    "from perses.utils.smallmolecules import  render_protein_residue_atom_mapping\n",
    "from simtk.openmm import app\n",
    "from openeye import oechem\n"
   ]
  },
  {
   "cell_type": "code",
   "execution_count": 2,
   "id": "mediterranean-delta",
   "metadata": {},
   "outputs": [],
   "source": [
    "def write(outdir, phase='complex'):\n",
    "\n",
    "    i = os.path.basename(os.path.dirname(outdir))\n",
    "    with open(os.path.join(outdir, f\"{i}_{phase}.pickle\"), \"rb\") as f:\n",
    "        htf = pickle.load(f)\n",
    "    \n",
    "#     # Render atom map\n",
    "#     atom_map_filename = f'{outdir}/atom_map.png'\n",
    "#     render_protein_residue_atom_mapping(htf._topology_proposal, atom_map_filename)\n",
    "\n",
    "    # Save old topology\n",
    "    app.PDBFile.writeFile(htf._topology_proposal.old_topology, htf.old_positions(htf.hybrid_positions), open(os.path.join(outdir, f\"{phase}_old.pdb\"), \"w\"), keepIds=True)\n",
    "    \n",
    "    # Save new topology\n",
    "    app.PDBFile.writeFile(htf._topology_proposal.new_topology, htf.new_positions(htf.hybrid_positions), open(os.path.join(outdir, f\"{phase}_new.pdb\"), \"w\"), keepIds=True)"
   ]
  },
  {
   "cell_type": "code",
   "execution_count": 27,
   "id": "dirty-allen",
   "metadata": {},
   "outputs": [],
   "source": [
    "outdir = \"/data/chodera/zhangi/perses_benchmark/neq/14/5/\"\n",
    "write(outdir)"
   ]
  },
  {
   "cell_type": "code",
   "execution_count": 28,
   "id": "thirty-military",
   "metadata": {},
   "outputs": [],
   "source": [
    "outdir = \"/data/chodera/zhangi/perses_benchmark/neq/14/4/\"\n",
    "write(outdir)"
   ]
  },
  {
   "cell_type": "code",
   "execution_count": 29,
   "id": "focused-information",
   "metadata": {},
   "outputs": [],
   "source": [
    "outdir = \"/data/chodera/zhangi/perses_benchmark/neq/14/3/\"\n",
    "write(outdir)"
   ]
  },
  {
   "cell_type": "code",
   "execution_count": 30,
   "id": "laughing-antenna",
   "metadata": {},
   "outputs": [],
   "source": [
    "outdir = \"/data/chodera/zhangi/perses_benchmark/neq/14/2/\"\n",
    "write(outdir)"
   ]
  },
  {
   "cell_type": "code",
   "execution_count": 31,
   "id": "stupid-champion",
   "metadata": {},
   "outputs": [],
   "source": [
    "outdir = \"/data/chodera/zhangi/perses_benchmark/neq/14/1/\"\n",
    "write(outdir)"
   ]
  },
  {
   "cell_type": "code",
   "execution_count": null,
   "id": "funny-employee",
   "metadata": {},
   "outputs": [],
   "source": []
  },
  {
   "cell_type": "code",
   "execution_count": 5,
   "id": "defined-nigeria",
   "metadata": {},
   "outputs": [],
   "source": [
    "outdir = \"/data/chodera/zhangi/perses_benchmark/neq/14/12/\"\n",
    "write(outdir)"
   ]
  },
  {
   "cell_type": "code",
   "execution_count": 3,
   "id": "casual-connecticut",
   "metadata": {},
   "outputs": [],
   "source": [
    "outdir = \"/data/chodera/zhangi/perses_benchmark/neq/14/30/\"\n",
    "write(outdir)"
   ]
  },
  {
   "cell_type": "code",
   "execution_count": 4,
   "id": "ambient-deadline",
   "metadata": {},
   "outputs": [],
   "source": [
    "outdir = \"/data/chodera/zhangi/perses_benchmark/neq/8/31/\"\n",
    "write(outdir)"
   ]
  },
  {
   "cell_type": "code",
   "execution_count": 4,
   "id": "animated-halifax",
   "metadata": {},
   "outputs": [],
   "source": [
    "outdir = \"/data/chodera/zhangi/perses_benchmark/repex/31/4/0/\"\n",
    "write(outdir)"
   ]
  },
  {
   "cell_type": "code",
   "execution_count": 5,
   "id": "manufactured-rings",
   "metadata": {},
   "outputs": [],
   "source": [
    "outdir = \"/data/chodera/zhangi/perses_benchmark/repex/31/19/0/\"\n",
    "write(outdir)"
   ]
  },
  {
   "cell_type": "code",
   "execution_count": 7,
   "id": "humanitarian-container",
   "metadata": {},
   "outputs": [],
   "source": [
    "outdir = \"/data/chodera/zhangi/perses_benchmark/repex/31/19/0/\"\n",
    "write(outdir, phase='apo')"
   ]
  },
  {
   "cell_type": "code",
   "execution_count": 5,
   "id": "focal-diameter",
   "metadata": {},
   "outputs": [],
   "source": [
    "outdir = \"/data/chodera/zhangi/perses_benchmark/neq/14/100/\"\n",
    "write(outdir)"
   ]
  },
  {
   "cell_type": "code",
   "execution_count": 6,
   "id": "enhanced-retailer",
   "metadata": {},
   "outputs": [],
   "source": [
    "outdir = \"/data/chodera/zhangi/perses_benchmark/neq/14/101/\"\n",
    "write(outdir)"
   ]
  },
  {
   "cell_type": "code",
   "execution_count": 3,
   "id": "1414cb42",
   "metadata": {},
   "outputs": [],
   "source": [
    "outdir = \"/data/chodera/zhangi/perses_benchmark/neq/14/100/\"\n",
    "write(outdir, phase='apo')"
   ]
  },
  {
   "cell_type": "code",
   "execution_count": null,
   "id": "63e4bd17",
   "metadata": {},
   "outputs": [],
   "source": []
  },
  {
   "cell_type": "code",
   "execution_count": 18,
   "id": "green-enhancement",
   "metadata": {},
   "outputs": [
    {
     "name": "stdout",
     "output_type": "stream",
     "text": [
      "done with 14/16/\n",
      "done with 14/17/\n",
      "done with 14/18/\n",
      "done with 14/19/\n",
      "done with 14/20/\n"
     ]
    }
   ],
   "source": [
    "for i in range(16, 21):\n",
    "    outdir = f\"/data/chodera/zhangi/perses_benchmark/neq/14/{i}/\"\n",
    "    write(outdir)\n",
    "    print(f\"done with 14/{i}/\")"
   ]
  },
  {
   "cell_type": "code",
   "execution_count": null,
   "id": "formed-toddler",
   "metadata": {},
   "outputs": [],
   "source": []
  },
  {
   "cell_type": "code",
   "execution_count": 2,
   "id": "sweet-strand",
   "metadata": {},
   "outputs": [],
   "source": [
    "outdir = \"/data/chodera/zhangi/perses_benchmark/neq/14/60/\"\n",
    "i = 60\n",
    "with open(os.path.join(outdir, f\"{i}_complex.pickle\"), \"rb\") as f:\n",
    "        htf = pickle.load(f)"
   ]
  },
  {
   "cell_type": "code",
   "execution_count": 3,
   "id": "metallic-litigation",
   "metadata": {},
   "outputs": [
    {
     "name": "stdout",
     "output_type": "stream",
     "text": [
      "<Atom 2605 (N) of chain 0 residue 169 (ASN)>\n",
      "<Atom 2606 (H) of chain 0 residue 169 (ASN)>\n",
      "<Atom 2607 (CA) of chain 0 residue 169 (ASN)>\n",
      "<Atom 2608 (HA) of chain 0 residue 169 (ASN)>\n",
      "<Atom 2609 (CB) of chain 0 residue 169 (ASN)>\n",
      "<Atom 2610 (HB2) of chain 0 residue 169 (ASN)>\n",
      "<Atom 2611 (HB3) of chain 0 residue 169 (ASN)>\n",
      "<Atom 2612 (CG) of chain 0 residue 169 (ASN)>\n",
      "<Atom 2613 (OD1) of chain 0 residue 169 (ASN)>\n",
      "<Atom 2614 (ND2) of chain 0 residue 169 (ASN)>\n",
      "<Atom 2615 (HD21) of chain 0 residue 169 (ASN)>\n",
      "<Atom 2616 (HD22) of chain 0 residue 169 (ASN)>\n",
      "<Atom 2617 (C) of chain 0 residue 169 (ASN)>\n",
      "<Atom 2618 (O) of chain 0 residue 169 (ASN)>\n",
      "<Atom 10902 (N) of chain 2 residue 689 (ALA)>\n",
      "<Atom 10903 (H) of chain 2 residue 689 (ALA)>\n",
      "<Atom 10904 (CA) of chain 2 residue 689 (ALA)>\n",
      "<Atom 10905 (HA) of chain 2 residue 689 (ALA)>\n",
      "<Atom 10906 (CB) of chain 2 residue 689 (ALA)>\n",
      "<Atom 10907 (HB1) of chain 2 residue 689 (ALA)>\n",
      "<Atom 10908 (HB2) of chain 2 residue 689 (ALA)>\n",
      "<Atom 10909 (HB3) of chain 2 residue 689 (ALA)>\n",
      "<Atom 10910 (C) of chain 2 residue 689 (ALA)>\n",
      "<Atom 10911 (O) of chain 2 residue 689 (ALA)>\n"
     ]
    }
   ],
   "source": [
    "for atom in htf._topology_proposal.old_topology.atoms():\n",
    "    if atom.residue.id == '501':\n",
    "        print(atom)"
   ]
  },
  {
   "cell_type": "code",
   "execution_count": 4,
   "id": "compressed-hobby",
   "metadata": {},
   "outputs": [],
   "source": [
    "outdir = \"/data/chodera/zhangi/perses_benchmark/neq/14/62/\"\n",
    "i = 62\n",
    "with open(os.path.join(outdir, f\"{i}_complex.pickle\"), \"rb\") as f:\n",
    "        htf = pickle.load(f)"
   ]
  },
  {
   "cell_type": "code",
   "execution_count": 5,
   "id": "enormous-festival",
   "metadata": {},
   "outputs": [
    {
     "name": "stdout",
     "output_type": "stream",
     "text": [
      "<Atom 2605 (N) of chain 0 residue 169 (TYR)>\n",
      "<Atom 2606 (H) of chain 0 residue 169 (TYR)>\n",
      "<Atom 2607 (CA) of chain 0 residue 169 (TYR)>\n",
      "<Atom 2608 (HA) of chain 0 residue 169 (TYR)>\n",
      "<Atom 2609 (CB) of chain 0 residue 169 (TYR)>\n",
      "<Atom 2610 (HB2) of chain 0 residue 169 (TYR)>\n",
      "<Atom 2611 (HB3) of chain 0 residue 169 (TYR)>\n",
      "<Atom 2612 (CG) of chain 0 residue 169 (TYR)>\n",
      "<Atom 2613 (CD1) of chain 0 residue 169 (TYR)>\n",
      "<Atom 2614 (HD1) of chain 0 residue 169 (TYR)>\n",
      "<Atom 2615 (CE1) of chain 0 residue 169 (TYR)>\n",
      "<Atom 2616 (HE1) of chain 0 residue 169 (TYR)>\n",
      "<Atom 2617 (CZ) of chain 0 residue 169 (TYR)>\n",
      "<Atom 2618 (OH) of chain 0 residue 169 (TYR)>\n",
      "<Atom 2619 (HH) of chain 0 residue 169 (TYR)>\n",
      "<Atom 2620 (CE2) of chain 0 residue 169 (TYR)>\n",
      "<Atom 2621 (HE2) of chain 0 residue 169 (TYR)>\n",
      "<Atom 2622 (CD2) of chain 0 residue 169 (TYR)>\n",
      "<Atom 2623 (HD2) of chain 0 residue 169 (TYR)>\n",
      "<Atom 2624 (C) of chain 0 residue 169 (TYR)>\n",
      "<Atom 2625 (O) of chain 0 residue 169 (TYR)>\n",
      "<Atom 10909 (N) of chain 2 residue 689 (ALA)>\n",
      "<Atom 10910 (H) of chain 2 residue 689 (ALA)>\n",
      "<Atom 10911 (CA) of chain 2 residue 689 (ALA)>\n",
      "<Atom 10912 (HA) of chain 2 residue 689 (ALA)>\n",
      "<Atom 10913 (CB) of chain 2 residue 689 (ALA)>\n",
      "<Atom 10914 (HB1) of chain 2 residue 689 (ALA)>\n",
      "<Atom 10915 (HB2) of chain 2 residue 689 (ALA)>\n",
      "<Atom 10916 (HB3) of chain 2 residue 689 (ALA)>\n",
      "<Atom 10917 (C) of chain 2 residue 689 (ALA)>\n",
      "<Atom 10918 (O) of chain 2 residue 689 (ALA)>\n"
     ]
    }
   ],
   "source": [
    "for atom in htf._topology_proposal.old_topology.atoms():\n",
    "    if atom.residue.id == '501':\n",
    "        print(atom)"
   ]
  },
  {
   "cell_type": "code",
   "execution_count": 6,
   "id": "bacterial-article",
   "metadata": {},
   "outputs": [
    {
     "name": "stdout",
     "output_type": "stream",
     "text": [
      "<Atom 2605 (N) of chain 0 residue 169 (ASN)>\n",
      "<Atom 2606 (H) of chain 0 residue 169 (ASN)>\n",
      "<Atom 2607 (CA) of chain 0 residue 169 (ASN)>\n",
      "<Atom 2608 (HA) of chain 0 residue 169 (ASN)>\n",
      "<Atom 2609 (CB) of chain 0 residue 169 (ASN)>\n",
      "<Atom 2610 (HB2) of chain 0 residue 169 (ASN)>\n",
      "<Atom 2611 (HB3) of chain 0 residue 169 (ASN)>\n",
      "<Atom 2612 (CG) of chain 0 residue 169 (ASN)>\n",
      "<Atom 2613 (OD1) of chain 0 residue 169 (ASN)>\n",
      "<Atom 2614 (ND2) of chain 0 residue 169 (ASN)>\n",
      "<Atom 2615 (HD21) of chain 0 residue 169 (ASN)>\n",
      "<Atom 2616 (HD22) of chain 0 residue 169 (ASN)>\n",
      "<Atom 2617 (C) of chain 0 residue 169 (ASN)>\n",
      "<Atom 2618 (O) of chain 0 residue 169 (ASN)>\n",
      "<Atom 10902 (N) of chain 2 residue 689 (ALA)>\n",
      "<Atom 10903 (H) of chain 2 residue 689 (ALA)>\n",
      "<Atom 10904 (CA) of chain 2 residue 689 (ALA)>\n",
      "<Atom 10905 (HA) of chain 2 residue 689 (ALA)>\n",
      "<Atom 10906 (CB) of chain 2 residue 689 (ALA)>\n",
      "<Atom 10907 (HB1) of chain 2 residue 689 (ALA)>\n",
      "<Atom 10908 (HB2) of chain 2 residue 689 (ALA)>\n",
      "<Atom 10909 (HB3) of chain 2 residue 689 (ALA)>\n",
      "<Atom 10910 (C) of chain 2 residue 689 (ALA)>\n",
      "<Atom 10911 (O) of chain 2 residue 689 (ALA)>\n"
     ]
    }
   ],
   "source": [
    "for atom in htf._topology_proposal.new_topology.atoms():\n",
    "    if atom.residue.id == '501':\n",
    "        print(atom)"
   ]
  },
  {
   "cell_type": "code",
   "execution_count": 12,
   "id": "matched-fiction",
   "metadata": {},
   "outputs": [
    {
     "name": "stdout",
     "output_type": "stream",
     "text": [
      "old indices: [257, 259, 261, 267]\n",
      "new indices: [257, 259, 261, 264]\n"
     ]
    }
   ],
   "source": [
    "old_aa_name = 'VAL'\n",
    "new_aa_name = 'PHE'\n",
    "resid = '350'\n",
    "\n",
    "thr_dihedral = ['N', 'CA', 'CB', 'OG1']\n",
    "other_dihedral = ['N', 'CA', 'CB', 'CG']\n",
    "ala_dihedral = ['N', 'CA', 'CB', 'HB1']\n",
    "asp_dihedral = ['CA', 'CB', 'CG', 'OD2']\n",
    "ile_dihedral = ['N', 'CA', 'CB', 'CG2']\n",
    "\n",
    "dihedral_atoms = []\n",
    "for aa_name in [old_aa_name, new_aa_name]:\n",
    "    if aa_name in [\"PHE\", \"TYR\", \"TRP\", \"GLU\", \"LYS\", \"ARG\", \"GLN\", \"ASN\"]:\n",
    "        dihedral_atoms.append(other_dihedral)\n",
    "    elif aa_name == \"THR\":\n",
    "        dihedral_atoms.append(thr_dihedral)\n",
    "    elif aa_name == \"ALA\":\n",
    "        dihedral_atoms.append(ala_dihedral)\n",
    "    elif aa_name == 'ASP':\n",
    "        dihedral_atoms.append(asp_dihedral)\n",
    "    elif aa_name == 'ILE' or aa_name == 'VAL':\n",
    "        dihedral_atoms.append(ile_dihedral)\n",
    "        \n",
    "\n",
    "for res in htf._topology_proposal.old_topology.residues():\n",
    "    if res.id == resid and res.chain.index == 0:\n",
    "        residue_old = res\n",
    "for res in htf._topology_proposal.new_topology.residues():\n",
    "    if res.id == resid and res.chain.index == 0:\n",
    "        residue_new = res\n",
    "# indices_old = [atom.index for atom in list(htf._topology_proposal.old_topology.residues())[int(args.resid)].atoms() if atom.name in dihedral_atoms[0]]\n",
    "# indices_new = [atom.index for atom in list(htf._topology_proposal.new_topology.residues())[int(args.resid)].atoms() if atom.name in dihedral_atoms[1]]\n",
    "indices_old = [atom.index for atom in residue_old.atoms() if atom.name in dihedral_atoms[0]]\n",
    "indices_new = [atom.index for atom in residue_new.atoms() if atom.name in dihedral_atoms[1]]\n",
    "print(f\"old indices: {indices_old}\")\n",
    "print(f\"new indices: {indices_new}\")\n",
    "\n"
   ]
  },
  {
   "cell_type": "code",
   "execution_count": 8,
   "id": "royal-thousand",
   "metadata": {},
   "outputs": [],
   "source": [
    "outdir = \"/data/chodera/zhangi/perses_benchmark/neq/14/17/\"\n",
    "i = 17\n",
    "with open(os.path.join(outdir, f\"{i}_apo.pickle\"), \"rb\") as f:\n",
    "        apoo_htf = pickle.load(f)"
   ]
  },
  {
   "cell_type": "code",
   "execution_count": 10,
   "id": "national-edward",
   "metadata": {},
   "outputs": [
    {
     "name": "stdout",
     "output_type": "stream",
     "text": [
      "<Atom 257 (N) of chain 0 residue 18 (VAL)>\n",
      "<Atom 258 (H) of chain 0 residue 18 (VAL)>\n",
      "<Atom 259 (CA) of chain 0 residue 18 (VAL)>\n",
      "<Atom 260 (HA) of chain 0 residue 18 (VAL)>\n",
      "<Atom 261 (CB) of chain 0 residue 18 (VAL)>\n",
      "<Atom 262 (HB) of chain 0 residue 18 (VAL)>\n",
      "<Atom 263 (CG1) of chain 0 residue 18 (VAL)>\n",
      "<Atom 264 (HG11) of chain 0 residue 18 (VAL)>\n",
      "<Atom 265 (HG12) of chain 0 residue 18 (VAL)>\n",
      "<Atom 266 (HG13) of chain 0 residue 18 (VAL)>\n",
      "<Atom 267 (CG2) of chain 0 residue 18 (VAL)>\n",
      "<Atom 268 (HG21) of chain 0 residue 18 (VAL)>\n",
      "<Atom 269 (HG22) of chain 0 residue 18 (VAL)>\n",
      "<Atom 270 (HG23) of chain 0 residue 18 (VAL)>\n",
      "<Atom 271 (C) of chain 0 residue 18 (VAL)>\n",
      "<Atom 272 (O) of chain 0 residue 18 (VAL)>\n",
      "<Atom 3460 (O) of chain 2 residue 349 (HOH)>\n",
      "<Atom 3461 (H1) of chain 2 residue 349 (HOH)>\n",
      "<Atom 3462 (H2) of chain 2 residue 349 (HOH)>\n"
     ]
    }
   ],
   "source": [
    "for atom in apoo_htf._topology_proposal.old_topology.atoms():\n",
    "    if atom.residue.id == '350':\n",
    "        print(atom)"
   ]
  },
  {
   "cell_type": "code",
   "execution_count": null,
   "id": "sacred-sight",
   "metadata": {},
   "outputs": [],
   "source": []
  },
  {
   "cell_type": "code",
   "execution_count": null,
   "id": "hairy-country",
   "metadata": {},
   "outputs": [],
   "source": []
  },
  {
   "cell_type": "code",
   "execution_count": null,
   "id": "connected-angola",
   "metadata": {},
   "outputs": [],
   "source": []
  },
  {
   "cell_type": "code",
   "execution_count": 3,
   "id": "skilled-sterling",
   "metadata": {},
   "outputs": [
    {
     "name": "stderr",
     "output_type": "stream",
     "text": [
      "INFO:numexpr.utils:Note: detected 72 virtual cores but NumExpr set to maximum of 64, check \"NUMEXPR_MAX_THREADS\" environment variable.\n",
      "INFO:numexpr.utils:Note: NumExpr detected 72 cores but \"NUMEXPR_MAX_THREADS\" not set, so enforcing safe limit of 8.\n",
      "INFO:numexpr.utils:NumExpr defaulting to 8 threads.\n",
      "INFO:rdkit:Enabling RDKit 2020.09.4 jupyter extensions\n"
     ]
    }
   ],
   "source": [
    "import logging\n",
    "import pickle\n",
    "import numpy as np\n",
    "from openmmtools.integrators import LangevinIntegrator\n",
    "from openmmtools.states import ThermodynamicState, CompoundThermodynamicState\n",
    "from perses.annihilation.lambda_protocol import RelativeAlchemicalState, LambdaProtocol\n",
    "from openmmtools.alchemy import AbsoluteAlchemicalFactory, AlchemicalRegion, AlchemicalState\n",
    "from simtk import openmm, unit\n",
    "import argparse\n",
    "import os\n",
    "import time\n",
    "import mdtraj as md\n",
    "from tqdm import tqdm\n",
    "from perses.tests.test_topology_proposal import generate_atp, generate_dipeptide_top_pos_sys\n",
    "\n",
    "# Set up logger\n",
    "_logger = logging.getLogger()\n",
    "_logger.setLevel(logging.INFO)\n",
    "\n"
   ]
  },
  {
   "cell_type": "code",
   "execution_count": 8,
   "id": "extended-tracy",
   "metadata": {},
   "outputs": [
    {
     "name": "stderr",
     "output_type": "stream",
     "text": [
      "INFO:root:Making integrator\n",
      "INFO:root:Making context\n",
      "INFO:root:Minimizing\n",
      "INFO:root:Minimization took 24.559859037399292 s seconds\n"
     ]
    }
   ],
   "source": [
    "# Define simulation parameters\n",
    "temperature = 300 * unit.kelvin\n",
    "collision_rate = 1.0 / unit.picoseconds\n",
    "nsteps = 100\n",
    "timestep = 4.0 * unit.femtosecond\n",
    "platform_name = 'CUDA'\n",
    "\n",
    "system = htf.hybrid_system\n",
    "positions = htf.hybrid_positions\n",
    "topology = htf.hybrid_topology\n",
    "\n",
    "# Set up integrator\n",
    "_logger.info(\"Making integrator\")\n",
    "integrator = LangevinIntegrator(temperature, collision_rate, timestep)\n",
    "\n",
    "# Set up context\n",
    "_logger.info(\"Making context\")\n",
    "platform = openmm.Platform.getPlatformByName(platform_name)\n",
    "if platform_name in ['CUDA', 'OpenCL']:\n",
    "    platform.setPropertyDefaultValue('Precision', 'mixed')\n",
    "if platform_name in ['CUDA']:\n",
    "    platform.setPropertyDefaultValue('DeterministicForces', 'true')\n",
    "\n",
    "context = openmm.Context(system, integrator, platform)\n",
    "context.setPeriodicBoxVectors(*system.getDefaultPeriodicBoxVectors())\n",
    "context.setPositions(positions)\n",
    "context.setVelocitiesToTemperature(temperature)\n",
    "\n",
    "# Minimize\n",
    "_logger.info(\"Minimizing\")\n",
    "initial_time = time.time()\n",
    "openmm.LocalEnergyMinimizer.minimize(context)\n",
    "elapsed_time = (time.time() - initial_time) * unit.seconds\n",
    "_logger.info(f'Minimization took {elapsed_time} seconds')\n",
    "\n"
   ]
  },
  {
   "cell_type": "code",
   "execution_count": 21,
   "id": "infectious-victoria",
   "metadata": {},
   "outputs": [],
   "source": [
    "pos = context.getState(getPositions=True).getPositions()\n",
    "positions = unit.quantity.Quantity(value = np.array([list(atom_pos) for atom_pos in pos.value_in_unit_system(unit.md_unit_system)]), unit = unit.nanometers)\n",
    "app.PDBFile.writeFile(htf._topology_proposal.old_topology, htf.old_positions(positions), open(os.path.join(outdir, \"apo_old_minimized.pdb\"), \"w\"), keepIds=True)\n"
   ]
  },
  {
   "cell_type": "code",
   "execution_count": 15,
   "id": "thick-organizer",
   "metadata": {},
   "outputs": [
    {
     "ename": "TypeError",
     "evalue": "'type' is an invalid keyword argument for array()",
     "output_type": "error",
     "traceback": [
      "\u001b[0;31m-----------------------\u001b[0m",
      "\u001b[0;31mTypeError\u001b[0mTraceback (most recent call last)",
      "\u001b[0;32m<ipython-input-15-0f12d6984efd>\u001b[0m in \u001b[0;36m<module>\u001b[0;34m\u001b[0m\n\u001b[0;32m----> 1\u001b[0;31m \u001b[0mhtf\u001b[0m\u001b[0;34m.\u001b[0m\u001b[0mold_positions\u001b[0m\u001b[0;34m(\u001b[0m\u001b[0mnp\u001b[0m\u001b[0;34m.\u001b[0m\u001b[0marray\u001b[0m\u001b[0;34m(\u001b[0m\u001b[0mcontext\u001b[0m\u001b[0;34m.\u001b[0m\u001b[0mgetState\u001b[0m\u001b[0;34m(\u001b[0m\u001b[0mgetPositions\u001b[0m\u001b[0;34m=\u001b[0m\u001b[0;32mTrue\u001b[0m\u001b[0;34m)\u001b[0m\u001b[0;34m.\u001b[0m\u001b[0mgetPositions\u001b[0m\u001b[0;34m(\u001b[0m\u001b[0;34m)\u001b[0m\u001b[0;34m,\u001b[0m \u001b[0mtype\u001b[0m\u001b[0;34m=\u001b[0m\u001b[0munit\u001b[0m\u001b[0;34m.\u001b[0m\u001b[0mnanometer\u001b[0m\u001b[0;34m)\u001b[0m\u001b[0;34m)\u001b[0m\u001b[0;34m\u001b[0m\u001b[0;34m\u001b[0m\u001b[0m\n\u001b[0m",
      "\u001b[0;31mTypeError\u001b[0m: 'type' is an invalid keyword argument for array()"
     ]
    }
   ],
   "source": [
    "htf.old_positions(positions))"
   ]
  },
  {
   "cell_type": "code",
   "execution_count": 13,
   "id": "fluid-cancellation",
   "metadata": {},
   "outputs": [
    {
     "data": {
      "text/plain": [
       "Quantity(value=array([[3.7615, 4.3813, 7.3656],\n",
       "       [3.6776, 4.3562, 7.3007],\n",
       "       [3.6922, 4.4023, 7.203 ],\n",
       "       ...,\n",
       "       [3.8919, 3.7481, 3.1128],\n",
       "       [3.9794, 3.8865, 3.1236],\n",
       "       [4.012 , 3.7613, 3.2302]]), unit=nanometer)"
      ]
     },
     "execution_count": 13,
     "metadata": {},
     "output_type": "execute_result"
    }
   ],
   "source": [
    "htf.hybrid_positions"
   ]
  },
  {
   "cell_type": "code",
   "execution_count": 18,
   "id": "rural-liverpool",
   "metadata": {},
   "outputs": [],
   "source": [
    "pos = context.getState(getPositions=True).getPositions()"
   ]
  },
  {
   "cell_type": "code",
   "execution_count": 19,
   "id": "stylish-gender",
   "metadata": {},
   "outputs": [],
   "source": [
    "positions = unit.quantity.Quantity(value = np.array([list(atom_pos) for atom_pos in pos.value_in_unit_system(unit.md_unit_system)]), unit = unit.nanometers)"
   ]
  },
  {
   "cell_type": "code",
   "execution_count": 20,
   "id": "applied-bristol",
   "metadata": {},
   "outputs": [
    {
     "data": {
      "text/plain": [
       "Quantity(value=array([[3.93431456, 4.07523664, 7.20237595],\n",
       "       [3.84635246, 4.0551681 , 7.26353874],\n",
       "       [3.78471651, 4.14481953, 7.27021381],\n",
       "       ...,\n",
       "       [3.80146068, 3.70709467, 3.11142069],\n",
       "       [3.87961684, 3.84883089, 3.14218999],\n",
       "       [3.88118924, 3.72797293, 3.25420594]]), unit=nanometer)"
      ]
     },
     "execution_count": 20,
     "metadata": {},
     "output_type": "execute_result"
    }
   ],
   "source": [
    "positions"
   ]
  },
  {
   "cell_type": "code",
   "execution_count": null,
   "id": "southern-month",
   "metadata": {},
   "outputs": [],
   "source": []
  }
 ],
 "metadata": {
  "kernelspec": {
   "display_name": "Python 3",
   "language": "python",
   "name": "python3"
  },
  "language_info": {
   "codemirror_mode": {
    "name": "ipython",
    "version": 3
   },
   "file_extension": ".py",
   "mimetype": "text/x-python",
   "name": "python",
   "nbconvert_exporter": "python",
   "pygments_lexer": "ipython3",
   "version": "3.8.10"
  }
 },
 "nbformat": 4,
 "nbformat_minor": 5
}
