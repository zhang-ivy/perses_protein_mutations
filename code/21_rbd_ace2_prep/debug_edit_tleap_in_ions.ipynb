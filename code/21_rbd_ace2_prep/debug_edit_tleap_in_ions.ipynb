{
 "cells": [
  {
   "cell_type": "code",
   "execution_count": 4,
   "id": "expensive-european",
   "metadata": {},
   "outputs": [],
   "source": [
    "import os\n",
    "import tempfile\n",
    "import re\n",
    "from math import floor\n",
    "from simtk.openmm import app\n",
    "from simtk import unit, openmm\n",
    "from perses.utils.rbd import edit_tleap_in_inputs\n",
    "\n",
    "import logging \n",
    "\n",
    "# Set up logger\n",
    "_logger = logging.getLogger()\n",
    "_logger.setLevel(logging.INFO)\n"
   ]
  },
  {
   "cell_type": "code",
   "execution_count": 6,
   "id": "cathedral-provider",
   "metadata": {},
   "outputs": [
    {
     "data": {
      "text/plain": [
       "7936"
      ]
     },
     "execution_count": 6,
     "metadata": {},
     "output_type": "execute_result"
    }
   ],
   "source": [
    "tleap_prefix = \"/data/chodera/zhangi/perses_benchmark/repex/31/10/0/debug/1_rbd_tleap\"\n",
    "tleap_in_temp = \"temp\"\n",
    "tleap_out_temp = \"temp.out\"\n",
    "edit_tleap_in_inputs(f\"{tleap_prefix}.in\", tleap_in_temp)\n",
    "os.system(f\"tleap -s -f {tleap_in_temp}.in > {tleap_out_temp}\")\n",
    "\n"
   ]
  },
  {
   "cell_type": "markdown",
   "id": "successful-assembly",
   "metadata": {},
   "source": [
    "Note: realized that this issue was because I was not properly copying the mutant PDB to the current dir"
   ]
  },
  {
   "cell_type": "code",
   "execution_count": null,
   "id": "appreciated-region",
   "metadata": {},
   "outputs": [],
   "source": [
    "# Retrieve charge and num of waters\n",
    "with open(tleap_out_temp, \"r\") as f:\n",
    "    lines_out = f.readlines()\n",
    "\n",
    "for line in lines_out:\n",
    "    if \"Total unperturbed charge\" in line:\n",
    "        charge = float(line.split(\":\")[1].strip('\\n'))\n",
    "    if \"residues\" in line:\n",
    "        result = re.findall(r\"\\d*\", line)\n",
    "        result_filtered = [r for r in result if r]\n",
    "        num_waters = int(result_filtered[0])\n",
    "\n"
   ]
  },
  {
   "cell_type": "code",
   "execution_count": null,
   "id": "rental-baptist",
   "metadata": {},
   "outputs": [],
   "source": [
    " # Compute number of ions (copied from OpenMM)\n",
    "    numWaters = num_waters\n",
    "    numPositive = 0\n",
    "    numNegative = 0 \n",
    "    totalCharge = charge\n",
    "    ionicStrength = 0.15\n",
    "\n",
    "    if totalCharge > 0:\n",
    "        numNegative += totalCharge\n",
    "    else:\n",
    "        numPositive -= totalCharge\n",
    "\n",
    "    numIons = (numWaters - numPositive - numNegative) * ionicStrength / (55.4)  # Pure water is about 55.4 molar (depending on temperature)\n",
    "    numPairs = int(floor(numIons + 0.5))\n",
    "    numPositive += numPairs\n",
    "    numNegative += numPairs\n",
    "    print(f\"num positive: {numPositive}\")\n",
    "    print(f\"num negative: {numNegative}\")\n",
    "\n",
    "    # Edit tleap file\n",
    "    with open(f\"{tleap_prefix}.in\", \"r\") as f:\n",
    "        lines_in = f.readlines()\n",
    "\n",
    "    new_lines = []\n",
    "    for line in lines_in:\n",
    "        if \"addionsrand complex\" in line:\n",
    "            line = f\"addionsrand complex Na+ {int(numPositive)} Cl- {int(numNegative)}\\n\"\n",
    "        new_lines.append(line)\n",
    "\n",
    "    with open(f\"{tleap_prefix}.in\", 'w') as f:\n",
    "        f.writelines(new_lines)\n",
    "        "
   ]
  },
  {
   "cell_type": "code",
   "execution_count": null,
   "id": "initial-architecture",
   "metadata": {},
   "outputs": [],
   "source": []
  }
 ],
 "metadata": {
  "kernelspec": {
   "display_name": "Python 3",
   "language": "python",
   "name": "python3"
  },
  "language_info": {
   "codemirror_mode": {
    "name": "ipython",
    "version": 3
   },
   "file_extension": ".py",
   "mimetype": "text/x-python",
   "name": "python",
   "nbconvert_exporter": "python",
   "pygments_lexer": "ipython3",
   "version": "3.8.6"
  }
 },
 "nbformat": 4,
 "nbformat_minor": 5
}
