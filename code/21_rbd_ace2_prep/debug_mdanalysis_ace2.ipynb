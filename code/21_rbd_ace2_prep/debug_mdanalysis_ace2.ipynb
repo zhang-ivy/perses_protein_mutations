{
 "cells": [
  {
   "cell_type": "code",
   "execution_count": 31,
   "id": "protected-insured",
   "metadata": {},
   "outputs": [],
   "source": [
    "import MDAnalysis as mda\n",
    "import copy"
   ]
  },
  {
   "cell_type": "code",
   "execution_count": 5,
   "id": "vital-basket",
   "metadata": {},
   "outputs": [],
   "source": [
    "tleap_prefix = \"/data/chodera/zhangi/perses_benchmark/repex/31/4/0/debug/1_rbd_ace2_tleap\"\n",
    "prmtop_file = f\"{tleap_prefix}.prmtop\"\n",
    "inpcrd_file = f\"{tleap_prefix}.inpcrd\"\n",
    "ref_file = f\"{tleap_prefix}.pdb\"\n"
   ]
  },
  {
   "cell_type": "code",
   "execution_count": 44,
   "id": "faced-humanitarian",
   "metadata": {},
   "outputs": [
    {
     "name": "stderr",
     "output_type": "stream",
     "text": [
      "/home/zhangi/miniconda3/envs/perses-rbd-ace2/lib/python3.8/site-packages/MDAnalysis/topology/PDBParser.py:330: UserWarning: Element information is absent or missing for a few atoms. Elements attributes will not be populated.\n",
      "  warnings.warn(\"Element information is absent or missing for a few \"\n",
      "/home/zhangi/miniconda3/envs/perses-rbd-ace2/lib/python3.8/site-packages/MDAnalysis/topology/base.py:203: DeprecationWarning: `np.int` is a deprecated alias for the builtin `int`. To silence this warning, use `int` by itself. Doing this will not modify any behavior and is safe. When replacing `np.int`, you may wish to use e.g. `np.int64` or `np.int32` to specify the precision. If you wish to review your current use, check the release note link for additional information.\n",
      "Deprecated in NumPy 1.20; for more details and guidance: https://numpy.org/devdocs/release/1.20.0-notes.html#deprecations\n",
      "  residx = np.zeros_like(criteria[0], dtype=np.int)\n"
     ]
    }
   ],
   "source": [
    "# Load in the topology from tleap output files\n",
    "u = mda.Universe(prmtop_file, inpcrd_file)\n",
    "\n",
    "u_dim = mda.Universe(ref_file)\n",
    "dimensions = u_dim.dimensions\n",
    "\n"
   ]
  },
  {
   "cell_type": "code",
   "execution_count": 45,
   "id": "military-chorus",
   "metadata": {},
   "outputs": [
    {
     "name": "stderr",
     "output_type": "stream",
     "text": [
      "/home/zhangi/miniconda3/envs/perses-rbd-ace2/lib/python3.8/site-packages/MDAnalysis/core/selection.py:640: DeprecationWarning: `np.bool` is a deprecated alias for the builtin `bool`. To silence this warning, use `bool` by itself. Doing this will not modify any behavior and is safe. If you specifically wanted the numpy scalar type, use `np.bool_` here.\n",
      "Deprecated in NumPy 1.20; for more details and guidance: https://numpy.org/devdocs/release/1.20.0-notes.html#deprecations\n",
      "  mask = np.zeros(len(vals), dtype=np.bool)\n"
     ]
    }
   ],
   "source": [
    "# RBD\n",
    "rbd = u.select_atoms(\"resid 1-196\")\n",
    "new_rbd_resids = [i for i in range(332, 528)]\n",
    "rbd.residues.resids = new_rbd_resids\n",
    "\n",
    "rbd_glycans = u.select_atoms(\"resid 197-206\")\n",
    "new_rbd_glycan_resids = [527 + i for i in range(1, len(rbd_glycans.residues.resids) + 1)]\n",
    "rbd_glycans.residues.resids = new_rbd_glycan_resids\n",
    "\n"
   ]
  },
  {
   "cell_type": "code",
   "execution_count": 47,
   "id": "settled-richmond",
   "metadata": {},
   "outputs": [],
   "source": [
    "# ACE2\n",
    "u_ace2 = mda.Universe(prmtop_file, inpcrd_file)\n",
    "\n",
    "ace2 = u_ace2.select_atoms(\"resid 207-915\")\n",
    "new_ace2_resids = [i for i in range(18, 727)]\n",
    "ace2.residues.resids = new_ace2_resids\n",
    "\n",
    "ace2_glycans = u_ace2.select_atoms(\"resid 916-973\")\n",
    "new_ace2_glycan_resids = [726 + i for i in range(1, len(ace2_glycans.residues.resids) + 1)]\n",
    "ace2_glycans.residues.resids = new_ace2_glycan_resids\n",
    "\n",
    "ace2_ions = u_ace2.select_atoms(\"resid 974-975\")\n",
    "new_ace2_ion_resids = [i for i in range(1, len(ace2_ions.residues.resids) + 1)]\n",
    "ace2_ions.residues.resids = new_ace2_ion_resids\n",
    "\n",
    "\n"
   ]
  },
  {
   "cell_type": "code",
   "execution_count": null,
   "id": "lined-sense",
   "metadata": {},
   "outputs": [],
   "source": []
  },
  {
   "cell_type": "code",
   "execution_count": 54,
   "id": "severe-microwave",
   "metadata": {},
   "outputs": [
    {
     "name": "stderr",
     "output_type": "stream",
     "text": [
      "/home/zhangi/miniconda3/envs/perses-rbd-ace2/lib/python3.8/site-packages/MDAnalysis/core/topologyattrs.py:2011: VisibleDeprecationWarning: Creating an ndarray from ragged nested sequences (which is a list-or-tuple of lists-or-tuples-or ndarrays with different lengths or shapes) is deprecated. If you meant to do this, you must specify 'dtype=object' when creating the ndarray.\n",
      "  np.array(sorted(unique_bonds)), 4)\n",
      "/home/zhangi/miniconda3/envs/perses-rbd-ace2/lib/python3.8/site-packages/MDAnalysis/core/topologyobjects.py:600: DeprecationWarning: `np.bool` is a deprecated alias for the builtin `bool`. To silence this warning, use `bool` by itself. Doing this will not modify any behavior and is safe. If you specifically wanted the numpy scalar type, use `np.bool_` here.\n",
      "Deprecated in NumPy 1.20; for more details and guidance: https://numpy.org/devdocs/release/1.20.0-notes.html#deprecations\n",
      "  guessed = np.asarray(guessed, dtype=np.bool)\n"
     ]
    }
   ],
   "source": [
    "# Create the new system by merging each universe\n",
    "new_system = mda.Merge(rbd, rbd_glycans, ace2, ace2_glycans, ace2_ions)\n",
    "\n",
    "# Name each chain\n",
    "new_system.segments.segids = ['R', 'X', 'C', 'D', 'E']\n",
    "\n",
    "name = \"rbd_ace2\"\n",
    "\n"
   ]
  },
  {
   "cell_type": "code",
   "execution_count": null,
   "id": "valuable-moldova",
   "metadata": {},
   "outputs": [],
   "source": []
  },
  {
   "cell_type": "code",
   "execution_count": 55,
   "id": "false-nigeria",
   "metadata": {},
   "outputs": [
    {
     "name": "stderr",
     "output_type": "stream",
     "text": [
      "/home/zhangi/miniconda3/envs/perses-rbd-ace2/lib/python3.8/site-packages/MDAnalysis/coordinates/PDB.py:1026: UserWarning: Found no information for attr: 'altLocs' Using default value of ' '\n",
      "  warnings.warn(\"Found no information for attr: '{}'\"\n",
      "/home/zhangi/miniconda3/envs/perses-rbd-ace2/lib/python3.8/site-packages/MDAnalysis/coordinates/PDB.py:1026: UserWarning: Found no information for attr: 'icodes' Using default value of ' '\n",
      "  warnings.warn(\"Found no information for attr: '{}'\"\n",
      "/home/zhangi/miniconda3/envs/perses-rbd-ace2/lib/python3.8/site-packages/MDAnalysis/coordinates/PDB.py:1026: UserWarning: Found no information for attr: 'occupancies' Using default value of '1.0'\n",
      "  warnings.warn(\"Found no information for attr: '{}'\"\n",
      "/home/zhangi/miniconda3/envs/perses-rbd-ace2/lib/python3.8/site-packages/MDAnalysis/coordinates/PDB.py:1026: UserWarning: Found no information for attr: 'tempfactors' Using default value of '0.0'\n",
      "  warnings.warn(\"Found no information for attr: '{}'\"\n"
     ]
    }
   ],
   "source": [
    "new_system.dimensions = dimensions\n",
    "\n",
    "# Write out the new system\n",
    "new_system.atoms.write(\"test.pdb\")"
   ]
  },
  {
   "cell_type": "code",
   "execution_count": null,
   "id": "prepared-perception",
   "metadata": {},
   "outputs": [],
   "source": []
  },
  {
   "cell_type": "code",
   "execution_count": null,
   "id": "hybrid-title",
   "metadata": {},
   "outputs": [],
   "source": []
  }
 ],
 "metadata": {
  "kernelspec": {
   "display_name": "Python 3",
   "language": "python",
   "name": "python3"
  },
  "language_info": {
   "codemirror_mode": {
    "name": "ipython",
    "version": 3
   },
   "file_extension": ".py",
   "mimetype": "text/x-python",
   "name": "python",
   "nbconvert_exporter": "python",
   "pygments_lexer": "ipython3",
   "version": "3.8.6"
  }
 },
 "nbformat": 4,
 "nbformat_minor": 5
}
