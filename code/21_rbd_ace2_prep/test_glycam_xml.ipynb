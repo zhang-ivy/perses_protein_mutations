{
 "cells": [
  {
   "cell_type": "code",
   "execution_count": 1,
   "id": "recorded-current",
   "metadata": {},
   "outputs": [],
   "source": [
    "from simtk.openmm import app\n"
   ]
  },
  {
   "cell_type": "code",
   "execution_count": 2,
   "id": "prospective-magnitude",
   "metadata": {},
   "outputs": [],
   "source": [
    "ffxml = ['amber/ff14SB.xml', '/home/zhangi/choderalab/glycan-ff/ffxml/GLYCAM_06j-1.xml']\n",
    "# ffxml = ['amber/protein.ff14SB.xml', 'GLYCAM_06j-1.xml']\n"
   ]
  },
  {
   "cell_type": "code",
   "execution_count": 3,
   "id": "cardiac-charter",
   "metadata": {},
   "outputs": [],
   "source": [
    "ff = app.ForceField(*ffxml)\n"
   ]
  },
  {
   "cell_type": "code",
   "execution_count": null,
   "id": "narrative-raleigh",
   "metadata": {},
   "outputs": [],
   "source": [
    "\n",
    "\n"
   ]
  }
 ],
 "metadata": {
  "kernelspec": {
   "display_name": "Python 3",
   "language": "python",
   "name": "python3"
  },
  "language_info": {
   "codemirror_mode": {
    "name": "ipython",
    "version": 3
   },
   "file_extension": ".py",
   "mimetype": "text/x-python",
   "name": "python",
   "nbconvert_exporter": "python",
   "pygments_lexer": "ipython3",
   "version": "3.9.2"
  }
 },
 "nbformat": 4,
 "nbformat_minor": 5
}
