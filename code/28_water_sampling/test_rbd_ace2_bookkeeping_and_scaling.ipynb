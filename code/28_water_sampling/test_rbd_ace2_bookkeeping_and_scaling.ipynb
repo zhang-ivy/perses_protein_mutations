{
 "cells": [
  {
   "cell_type": "code",
   "execution_count": 2,
   "id": "5fc113a6",
   "metadata": {},
   "outputs": [
    {
     "name": "stdout",
     "output_type": "stream",
     "text": [
      "conducting subsequent work with the following platform: CUDA\n"
     ]
    },
    {
     "name": "stderr",
     "output_type": "stream",
     "text": [
      "INFO:rdkit:Enabling RDKit 2021.03.3 jupyter extensions\n"
     ]
    }
   ],
   "source": [
    "import pickle\n",
    "import os\n",
    "from openeye import oechem\n",
    "###########################################\n",
    "# IMPORTS\n",
    "###########################################\n",
    "from openmmtools.states import SamplerState, ThermodynamicState, CompoundThermodynamicState\n",
    "from simtk import unit, openmm\n",
    "from perses.tests.utils import compute_potential_components\n",
    "from openmmtools.constants import kB\n",
    "from perses.dispersed.utils import configure_platform\n",
    "from perses.annihilation.rest import RESTTopologyFactory, RESTTopologyFactoryV2\n",
    "from perses.annihilation.lambda_protocol import RESTState, RESTStateV2\n",
    "import numpy as np\n",
    "from perses.tests.test_topology_proposal import generate_atp, generate_dipeptide_top_pos_sys\n",
    "from openmmtools.testsystems import AlanineDipeptideVacuum, AlanineDipeptideExplicit\n",
    "import itertools\n",
    "\n",
    "\n",
    "#############################################\n",
    "# CONSTANTS\n",
    "#############################################\n",
    "temperature = 300.0 * unit.kelvin\n",
    "kT = kB * temperature\n",
    "beta = 1.0/kT\n",
    "REFERENCE_PLATFORM = openmm.Platform.getPlatformByName(\"CUDA\")"
   ]
  },
  {
   "cell_type": "code",
   "execution_count": 3,
   "id": "ac4edd84",
   "metadata": {},
   "outputs": [],
   "source": [
    "def compare_energy_components(rest_system, other_system, positions, platform=REFERENCE_PLATFORM):\n",
    "    \"\"\"\n",
    "    Get energy components of a given system\n",
    "    \"\"\"\n",
    "    platform = configure_platform(platform)\n",
    "\n",
    "    # Create thermodynamic state and sampler state for non-rest system\n",
    "    thermostate_other = ThermodynamicState(system=other_system, temperature=temperature)\n",
    "\n",
    "    # Create context for non-rest system\n",
    "    integrator_other = openmm.VerletIntegrator(1.0*unit.femtosecond)\n",
    "    context_other = thermostate_other.create_context(integrator_other)\n",
    "    context_other.setPositions(positions)\n",
    "\n",
    "    # Get energy components for non-rest system\n",
    "    components_other = [component for component in compute_potential_components(context_other, beta=beta)]\n",
    "    \n",
    "    # Create thermodynamic state for rest_system\n",
    "    thermostate_rest = ThermodynamicState(system=rest_system, temperature=temperature)\n",
    "\n",
    "    # Create context for rest system\n",
    "    integrator_rest = openmm.VerletIntegrator(1.0 * unit.femtosecond)\n",
    "    context_rest = thermostate_rest.create_context(integrator_rest)\n",
    "    context_rest.setPositions(positions)\n",
    "\n",
    "    # Get energy components for rest system\n",
    "    components_rest = [component for component in compute_potential_components(context_rest, beta=beta)]\n",
    "\n",
    "    print(components_other)\n",
    "    print(components_rest)\n",
    "    \n",
    "    # Check that bond, angle, and torsion energies match\n",
    "    for other, rest in zip(components_other[:3], components_rest[:3]):\n",
    "        assert np.isclose([other[1]], [rest[1]]), f\"The energies do not match for the {other[0]}: {other[1]} (other system) vs. {rest[1]} (REST system)\"\n",
    "\n",
    "    # Check that nonbonded energies match\n",
    "    nonbonded_other = np.array([component[1] for component in components_other[3:]]).sum()\n",
    "    nonbonded_rest = np.array([component[1] for component in components_rest[3:]]).sum()\n",
    "    assert np.isclose([nonbonded_other], [nonbonded_rest]), f\"The energies do not match for the NonbondedForce: {nonbonded_other} (other system) vs. {nonbonded_rest} (REST system)\"\n",
    "\n",
    "    print(\"Energy bookkeeping was a success!\")\n"
   ]
  },
  {
   "cell_type": "code",
   "execution_count": 4,
   "id": "ab36cc37",
   "metadata": {},
   "outputs": [],
   "source": [
    "def compare_energies(topology, REST_system, other_system, positions, rest_atoms, T_min, T):\n",
    "\n",
    "    # Get solvent atoms\n",
    "    positive_ion_name = \"NA\"\n",
    "    negative_ion_name = \"CL\"\n",
    "    water_name = \"HOH\"\n",
    "    solvent_atoms = []\n",
    "    if 'openmm' in topology.__module__:\n",
    "        atoms = topology.atoms()\n",
    "    elif 'mdtraj' in topology.__module__:\n",
    "        atoms = topology.atoms\n",
    "    for atom in atoms:\n",
    "        if atom.residue.name == positive_ion_name or atom.residue.name == negative_ion_name or atom.residue.name == water_name:\n",
    "            solvent_atoms.append(atom.index)\n",
    "    \n",
    "    # Create thermodynamic state\n",
    "    lambda_zero_alchemical_state = RESTStateV2.from_system(REST_system)\n",
    "    thermostate = ThermodynamicState(REST_system, temperature=T_min)\n",
    "    compound_thermodynamic_state = CompoundThermodynamicState(thermostate,\n",
    "                                                              composable_states=[lambda_zero_alchemical_state])\n",
    "    \n",
    "    # Set alchemical parameters\n",
    "    beta_0 = 1 / (kB * T_min)\n",
    "    beta_m = 1 / (kB * T)\n",
    "    compound_thermodynamic_state.set_alchemical_parameters(beta_0, beta_m)\n",
    "    print(\"beta_0: \", beta_0)\n",
    "    print(\"beta_m: \", beta_m)\n",
    "    \n",
    "    # Minimize and save energy\n",
    "    integrator = openmm.VerletIntegrator(1.0 * unit.femtosecond)\n",
    "    context = compound_thermodynamic_state.create_context(integrator)\n",
    "    context.setPositions(positions)\n",
    "    sampler_state = SamplerState.from_context(context)\n",
    "    REST_energy = compound_thermodynamic_state.reduced_potential(sampler_state)\n",
    "    \n",
    "    # Get energy components for rest system\n",
    "    components_rest = [component for component in compute_potential_components(context, beta=beta)]\n",
    "    print(components_rest)\n",
    "    \n",
    "    # Compute energy for non-RESTified system\n",
    "    # Determine regions and scaling factors\n",
    "    nonrest_atoms = [i for i in range(other_system.getNumParticles()) if i not in rest_atoms and i not in solvent_atoms]\n",
    "    rest_scaling = beta_m / beta_0\n",
    "    inter_scaling = np.sqrt(beta_m / beta_0)\n",
    "\n",
    "    # Scale the terms in the bond force appropriately\n",
    "    bond_force = other_system.getForce(0)\n",
    "    for bond in range(bond_force.getNumBonds()):\n",
    "        p1, p2, length, k = bond_force.getBondParameters(bond)\n",
    "        if p1 in rest_atoms and p2 in rest_atoms:\n",
    "            bond_force.setBondParameters(bond, p1, p2, length, k * rest_scaling)\n",
    "        elif (p1 in rest_atoms and p2 in nonrest_atoms) or (p1 in nonrest_atoms and p2 in rest_atoms):\n",
    "            bond_force.setBondParameters(bond, p1, p2, length, k * inter_scaling)\n",
    "\n",
    "    # Scale the terms in the angle force appropriately\n",
    "    angle_force = other_system.getForce(1)\n",
    "    for angle_index in range(angle_force.getNumAngles()):\n",
    "        p1, p2, p3, angle, k = angle_force.getAngleParameters(angle_index)\n",
    "        if p1 in rest_atoms and p2 in rest_atoms and p3 in rest_atoms:\n",
    "            angle_force.setAngleParameters(angle_index, p1, p2, p3, angle, k * rest_scaling)\n",
    "        elif set([p1, p2, p3]).intersection(set(rest_atoms)) != set() and set([p1, p2, p3]).intersection(set(nonrest_atoms)) != set():\n",
    "            angle_force.setAngleParameters(angle_index, p1, p2, p3, angle, k * inter_scaling)\n",
    "\n",
    "    # Scale the terms in the torsion force appropriately\n",
    "    torsion_force = other_system.getForce(2)\n",
    "    for torsion_index in range(torsion_force.getNumTorsions()):\n",
    "        p1, p2, p3, p4, periodicity, phase, k = torsion_force.getTorsionParameters(torsion_index)\n",
    "        if p1 in rest_atoms and p2 in rest_atoms and p3 in rest_atoms and p4 in rest_atoms:\n",
    "            torsion_force.setTorsionParameters(torsion_index, p1, p2, p3, p4, periodicity, phase, k * rest_scaling)\n",
    "        elif set([p1, p2, p3, p4]).intersection(set(rest_atoms)) != set() and set([p1, p2, p3, p4]).intersection(set(nonrest_atoms)) != set():\n",
    "            torsion_force.setTorsionParameters(torsion_index, p1, p2, p3, p4, periodicity, phase, k * inter_scaling)\n",
    "\n",
    "    # Scale the exceptions in the nonbonded force appropriately\n",
    "    nb_force = other_system.getForce(3)\n",
    "    for nb_index in range(nb_force.getNumExceptions()):\n",
    "        p1, p2, chargeProd, sigma, epsilon = nb_force.getExceptionParameters(nb_index)\n",
    "        if (p1 in rest_atoms and p2 in rest_atoms):\n",
    "            nb_force.setExceptionParameters(nb_index, p1, p2, rest_scaling * chargeProd, sigma, rest_scaling * epsilon)\n",
    "        elif (p1 in rest_atoms and p2 in nonrest_atoms) or (p1 in nonrest_atoms and p2 in rest_atoms):\n",
    "            nb_force.setExceptionParameters(nb_index, p1, p2, inter_scaling * chargeProd, sigma, inter_scaling * epsilon)\n",
    "\n",
    "    # Scale nonbonded interactions for rest-rest region by adding exceptions for all pairs of atoms\n",
    "    exception_pairs = [tuple(sorted([nb_force.getExceptionParameters(nb_index)[0], nb_force.getExceptionParameters(nb_index)[1]])) for nb_index in range(nb_force.getNumExceptions())]\n",
    "    rest_pairs = set([tuple(sorted(pair)) for pair in list(itertools.product(rest_atoms, rest_atoms))])\n",
    "    for pair in list(rest_pairs):\n",
    "        p1 = pair[0]\n",
    "        p2 = pair[1]\n",
    "        p1_charge, p1_sigma, p1_epsilon = nb_force.getParticleParameters(p1)\n",
    "        p2_charge, p2_sigma, p2_epsilon = nb_force.getParticleParameters(p2)\n",
    "        if p1 != p2:\n",
    "            if pair not in exception_pairs:\n",
    "                nb_force.addException(p1, p2, p1_charge * p2_charge * rest_scaling, 0.5 * (p1_sigma + p2_sigma),\n",
    "                                      np.sqrt(p1_epsilon * p2_epsilon) * rest_scaling)\n",
    "\n",
    "    # Scale nonbonded interactions for inter region by adding exceptions for all pairs of atoms\n",
    "    for pair in list(itertools.product(rest_atoms, nonrest_atoms)):\n",
    "        p1 = pair[0]\n",
    "        p2 = int(pair[1])  # otherwise, will be a numpy int\n",
    "        p1_charge, p1_sigma, p1_epsilon = nb_force.getParticleParameters(p1)\n",
    "        p2_charge, p2_sigma, p2_epsilon = nb_force.getParticleParameters(p2)\n",
    "        if tuple(sorted(pair)) not in exception_pairs:\n",
    "            nb_force.addException(p1, p2, p1_charge * p2_charge * inter_scaling, 0.5 * (p1_sigma + p2_sigma), np.sqrt(p1_epsilon * p2_epsilon) * inter_scaling)\n",
    "\n",
    "    # Scale nonbonded interactions for rest-water region by adding exceptions for all pairs of atoms\n",
    "    for pair in list(itertools.product(rest_atoms, solvent_atoms)):\n",
    "        p1 = pair[0]\n",
    "        p2 = pair[1]\n",
    "        p1_charge, p1_sigma, p1_epsilon = nb_force.getParticleParameters(p1)\n",
    "        p2_charge, p2_sigma, p2_epsilon = nb_force.getParticleParameters(p2)\n",
    "        nb_force.addException(p1, p2, p1_charge * p2_charge * rest_scaling, 0.5 * (p1_sigma + p2_sigma), np.sqrt(p1_epsilon * p2_epsilon) * rest_scaling)\n",
    "            \n",
    "    # Get energy\n",
    "    thermostate = ThermodynamicState(other_system, temperature=T_min)\n",
    "    integrator = openmm.VerletIntegrator(1.0 * unit.femtosecond)\n",
    "    context = thermostate.create_context(integrator)\n",
    "    context.setPositions(positions)\n",
    "    sampler_state = SamplerState.from_context(context)\n",
    "    nonREST_energy = thermostate.reduced_potential(sampler_state)\n",
    "    \n",
    "    print(f\"Energies: {REST_energy} (rest), {nonREST_energy} (nonrest)\")\n",
    "    print(f\"Discrepancy: {abs(REST_energy - nonREST_energy)}\")\n",
    "    assert abs(REST_energy - nonREST_energy) < 1, f\"The energy of the REST system ({REST_energy}) does not match \" \\\n",
    "                                                        f\"that of the non-REST system with terms manually scaled according to REST2({nonREST_energy}).\"\n",
    "    \n",
    "    print(\"Success!\")\n"
   ]
  },
  {
   "cell_type": "markdown",
   "id": "18e1d763",
   "metadata": {},
   "source": [
    "# Test endstate validation (energy bookkeeping) for production systems"
   ]
  },
  {
   "cell_type": "code",
   "execution_count": 2,
   "id": "a09b3ed9",
   "metadata": {},
   "outputs": [],
   "source": [
    "# Load r-htf for N501Y\n",
    "with open(\"/data/chodera/zhangi/perses_benchmark/neq/14/98/98_complex_0.pickle\", \"rb\") as f:\n",
    "    htf = pickle.load(f)\n",
    "    "
   ]
  },
  {
   "cell_type": "code",
   "execution_count": 3,
   "id": "89bbb838",
   "metadata": {},
   "outputs": [
    {
     "data": {
      "text/plain": [
       "[<simtk.openmm.openmm.MonteCarloBarostat; proxy of <Swig Object of type 'OpenMM::MonteCarloBarostat *' at 0x2b0bd9f79780> >,\n",
       " <simtk.openmm.openmm.HarmonicBondForce; proxy of <Swig Object of type 'OpenMM::HarmonicBondForce *' at 0x2b0bd9f88660> >,\n",
       " <simtk.openmm.openmm.HarmonicAngleForce; proxy of <Swig Object of type 'OpenMM::HarmonicAngleForce *' at 0x2b0cee891e70> >,\n",
       " <simtk.openmm.openmm.PeriodicTorsionForce; proxy of <Swig Object of type 'OpenMM::PeriodicTorsionForce *' at 0x2b0cee891ed0> >,\n",
       " <simtk.openmm.openmm.NonbondedForce; proxy of <Swig Object of type 'OpenMM::NonbondedForce *' at 0x2b0cee891fc0> >]"
      ]
     },
     "execution_count": 3,
     "metadata": {},
     "output_type": "execute_result"
    }
   ],
   "source": [
    "htf.hybrid_system.getForces()\n"
   ]
  },
  {
   "cell_type": "code",
   "execution_count": 4,
   "id": "770c1d71",
   "metadata": {},
   "outputs": [],
   "source": [
    "# Get unmodified hybrid system\n",
    "positions = htf.hybrid_positions\n",
    "system = htf.hybrid_system\n",
    "system.removeForce(0)\n",
    "# system.getForce(3).setNonbondedMethod(openmm.NonbondedForce.NoCutoff)\n",
    "\n"
   ]
  },
  {
   "cell_type": "code",
   "execution_count": 5,
   "id": "ccdae1b5",
   "metadata": {},
   "outputs": [
    {
     "data": {
      "text/plain": [
       "4"
      ]
     },
     "execution_count": 5,
     "metadata": {},
     "output_type": "execute_result"
    }
   ],
   "source": [
    "system.getForce(3).getNonbondedMethod()"
   ]
  },
  {
   "cell_type": "code",
   "execution_count": 6,
   "id": "bc592554",
   "metadata": {},
   "outputs": [
    {
     "data": {
      "text/plain": [
       "4"
      ]
     },
     "execution_count": 6,
     "metadata": {},
     "output_type": "execute_result"
    }
   ],
   "source": [
    "openmm.NonbondedForce.PME"
   ]
  },
  {
   "cell_type": "code",
   "execution_count": 7,
   "id": "5af18e30",
   "metadata": {},
   "outputs": [
    {
     "data": {
      "text/plain": [
       "True"
      ]
     },
     "execution_count": 7,
     "metadata": {},
     "output_type": "execute_result"
    }
   ],
   "source": [
    "system.getForce(3).getUseDispersionCorrection()"
   ]
  },
  {
   "cell_type": "code",
   "execution_count": 17,
   "id": "5dcca9d3",
   "metadata": {
    "scrolled": true
   },
   "outputs": [
    {
     "name": "stderr",
     "output_type": "stream",
     "text": [
      "INFO:REST:No MonteCarloBarostat added.\n",
      "INFO:REST:getDefaultPeriodicBoxVectors added to hybrid: [Quantity(value=Vec3(x=13.804333500000002, y=0.0, z=0.0), unit=nanometer), Quantity(value=Vec3(x=-4.601444128722184, y=13.014850568080696, z=0.0), unit=nanometer), Quantity(value=Vec3(x=-4.601444128722184, y=-6.507424496441187, z=11.271191673136768), unit=nanometer)]\n",
      "INFO:REST:No unknown forces.\n",
      "INFO:REST:Handling constraints\n",
      "INFO:REST:Handling bonds\n",
      "INFO:REST:Handling angles\n",
      "INFO:REST:Handling torsions\n",
      "INFO:REST:Handling nonbondeds\n",
      "INFO:REST:Handling nonbonded scaling (custom nb)\n",
      "INFO:REST:Handling nonbonded exception scaling (custom bond)\n"
     ]
    }
   ],
   "source": [
    "# Create REST-ified hybrid system\n",
    "for res in htf.hybrid_topology.residues:\n",
    "    if res.resSeq == 501 and res.chain.index == 0:\n",
    "        mutated_res = res\n",
    "query_indices = [atom.index for atom in mutated_res.atoms]\n",
    "factory = RESTTopologyFactoryV2(system, htf.hybrid_topology, rest_region=query_indices, use_dispersion_correction=True)\n",
    "REST_system = factory.REST_system\n",
    "# REST_system.getForce(3).setNonbondedMethod(openmm.NonbondedForce.NoCutoff)\n",
    "# REST_system.getForce(4).setNonbondedMethod(openmm.NonbondedForce.NoCutoff)\n"
   ]
  },
  {
   "cell_type": "code",
   "execution_count": 18,
   "id": "39c37258",
   "metadata": {},
   "outputs": [
    {
     "data": {
      "text/plain": [
       "4"
      ]
     },
     "execution_count": 18,
     "metadata": {},
     "output_type": "execute_result"
    }
   ],
   "source": [
    "REST_system.getForce(3).getNonbondedMethod()"
   ]
  },
  {
   "cell_type": "code",
   "execution_count": 19,
   "id": "5aa229d7",
   "metadata": {},
   "outputs": [
    {
     "data": {
      "text/plain": [
       "2"
      ]
     },
     "execution_count": 19,
     "metadata": {},
     "output_type": "execute_result"
    }
   ],
   "source": [
    "openmm.NonbondedForce.CutoffPeriodic"
   ]
  },
  {
   "cell_type": "code",
   "execution_count": 20,
   "id": "aea328c7",
   "metadata": {},
   "outputs": [
    {
     "data": {
      "text/plain": [
       "2"
      ]
     },
     "execution_count": 20,
     "metadata": {},
     "output_type": "execute_result"
    }
   ],
   "source": [
    "REST_system.getForce(4).getNonbondedMethod()"
   ]
  },
  {
   "cell_type": "code",
   "execution_count": 21,
   "id": "268c17b4",
   "metadata": {},
   "outputs": [
    {
     "data": {
      "text/plain": [
       "True"
      ]
     },
     "execution_count": 21,
     "metadata": {},
     "output_type": "execute_result"
    }
   ],
   "source": [
    "REST_system.getForce(3).getUseDispersionCorrection()"
   ]
  },
  {
   "cell_type": "code",
   "execution_count": 22,
   "id": "68ccf466",
   "metadata": {},
   "outputs": [
    {
     "data": {
      "text/plain": [
       "False"
      ]
     },
     "execution_count": 22,
     "metadata": {},
     "output_type": "execute_result"
    }
   ],
   "source": [
    "REST_system.getForce(4).getUseLongRangeCorrection()"
   ]
  },
  {
   "cell_type": "code",
   "execution_count": 25,
   "id": "94b039d9",
   "metadata": {
    "scrolled": true
   },
   "outputs": [
    {
     "name": "stdout",
     "output_type": "stream",
     "text": [
      "Warning: Returning CPU platform instead of requested platform <simtk.openmm.openmm.Platform; proxy of <Swig Object of type 'OpenMM::Platform *' at 0x2b0c2cc49330> >\n",
      "conducting subsequent work with the following platform: CPU\n",
      "conducting subsequent work with the following platform: CUDA\n",
      "conducting subsequent work with the following platform: CUDA\n",
      "[('HarmonicBondForce', 1661.2602820430661), ('HarmonicAngleForce', 4324.100327914152), ('PeriodicTorsionForce', 17558.905814415008), ('NonbondedForce', -841612.1463387645), ('AndersenThermostat', 0.0)]\n",
      "[('CustomBondForce', 1661.2602820430661), ('CustomAngleForce', 4324.100327914152), ('CustomTorsionForce', 17558.906930616802), ('NonbondedForce', -841612.1463387645), ('CustomNonbondedForce', 0.0), ('CustomBondForce', 0.0), ('AndersenThermostat', 0.0)]\n",
      "Energy bookkeeping was a success!\n"
     ]
    }
   ],
   "source": [
    "compare_energy_components(REST_system, system, positions)\n"
   ]
  },
  {
   "cell_type": "markdown",
   "id": "218fcaca",
   "metadata": {},
   "source": [
    "# Test energy scaling with NoCutoff"
   ]
  },
  {
   "cell_type": "code",
   "execution_count": 14,
   "id": "ecbbdb0c",
   "metadata": {},
   "outputs": [],
   "source": [
    "# Get unmodified hybrid system\n",
    "positions = htf.hybrid_positions\n",
    "system = htf.hybrid_system\n",
    "system.removeForce(0)\n",
    "system.getForce(3).setNonbondedMethod(openmm.NonbondedForce.NoCutoff)\n",
    "\n"
   ]
  },
  {
   "cell_type": "code",
   "execution_count": 15,
   "id": "877e5093",
   "metadata": {},
   "outputs": [
    {
     "name": "stderr",
     "output_type": "stream",
     "text": [
      "INFO:REST:No MonteCarloBarostat added.\n",
      "INFO:REST:getDefaultPeriodicBoxVectors added to hybrid: [Quantity(value=Vec3(x=13.804333500000002, y=0.0, z=0.0), unit=nanometer), Quantity(value=Vec3(x=-4.601444128722184, y=13.014850568080696, z=0.0), unit=nanometer), Quantity(value=Vec3(x=-4.601444128722184, y=-6.507424496441187, z=11.271191673136768), unit=nanometer)]\n",
      "INFO:REST:No unknown forces.\n",
      "INFO:REST:Handling constraints\n",
      "INFO:REST:Handling bonds\n",
      "INFO:REST:Handling angles\n",
      "INFO:REST:Handling torsions\n",
      "INFO:REST:Handling nonbondeds\n",
      "INFO:REST:Handling nonbonded scaling (custom nb)\n",
      "INFO:REST:Handling nonbonded exception scaling (custom bond)\n"
     ]
    }
   ],
   "source": [
    "# Create REST-ified hybrid system\n",
    "for res in htf.hybrid_topology.residues:\n",
    "    if res.resSeq == 501 and res.chain.index == 0:\n",
    "        mutated_res = res\n",
    "query_indices = [atom.index for atom in mutated_res.atoms]\n",
    "factory = RESTTopologyFactoryV2(system, htf.hybrid_topology, rest_region=query_indices)\n",
    "REST_system = factory.REST_system\n",
    "REST_system.getForce(3).setNonbondedMethod(openmm.NonbondedForce.NoCutoff)\n",
    "REST_system.getForce(4).setNonbondedMethod(openmm.NonbondedForce.NoCutoff)\n"
   ]
  },
  {
   "cell_type": "code",
   "execution_count": 23,
   "id": "e9ce92fa",
   "metadata": {
    "scrolled": true
   },
   "outputs": [
    {
     "name": "stdout",
     "output_type": "stream",
     "text": [
      "beta_0:  0.00040359850685478543 mol/J\n",
      "beta_m:  0.00020045392507121008 mol/J\n",
      "conducting subsequent work with the following platform: CUDA\n",
      "[('CustomBondForce', 1659.071135086621), ('CustomAngleForce', 4321.036042287911), ('CustomTorsionForce', 17547.90256723848), ('NonbondedForce', -858858.1690164063), ('CustomNonbondedForce', 82.17060246149275), ('CustomBondForce', -0.36445388564614173), ('AndersenThermostat', 0.0)]\n",
      "Energies: -840854.0467683397 (rest), -840854.049021062 (nonrest)\n",
      "Discrepancy: 0.002252722275443375\n",
      "Success!\n"
     ]
    }
   ],
   "source": [
    "# Set temperatures\n",
    "# This takes a really long time\n",
    "T_min = 298.0 * unit.kelvin\n",
    "T = 600 * unit.kelvin\n",
    "compare_energies(htf.hybrid_topology, REST_system, system, htf.hybrid_positions, query_indices, T_min, T)"
   ]
  },
  {
   "cell_type": "markdown",
   "id": "c5a8a14d",
   "metadata": {},
   "source": [
    "# Test energy scaling with production run systems"
   ]
  },
  {
   "cell_type": "code",
   "execution_count": 20,
   "id": "b1152ace",
   "metadata": {},
   "outputs": [],
   "source": [
    "# Load r-htf for N501Y\n",
    "with open(\"/data/chodera/zhangi/perses_benchmark/neq/14/98/98_complex_0.pickle\", \"rb\") as f:\n",
    "    htf = pickle.load(f)\n",
    "    "
   ]
  },
  {
   "cell_type": "code",
   "execution_count": 6,
   "id": "c85bffc9",
   "metadata": {},
   "outputs": [
    {
     "data": {
      "text/plain": [
       "[<simtk.openmm.openmm.MonteCarloBarostat; proxy of <Swig Object of type 'OpenMM::MonteCarloBarostat *' at 0x2b06f5fa6960> >,\n",
       " <simtk.openmm.openmm.HarmonicBondForce; proxy of <Swig Object of type 'OpenMM::HarmonicBondForce *' at 0x2b06f5fa6a20> >,\n",
       " <simtk.openmm.openmm.HarmonicAngleForce; proxy of <Swig Object of type 'OpenMM::HarmonicAngleForce *' at 0x2b06f5fa6a80> >,\n",
       " <simtk.openmm.openmm.PeriodicTorsionForce; proxy of <Swig Object of type 'OpenMM::PeriodicTorsionForce *' at 0x2b06f5fa6b40> >,\n",
       " <simtk.openmm.openmm.NonbondedForce; proxy of <Swig Object of type 'OpenMM::NonbondedForce *' at 0x2b06f5fa6bd0> >]"
      ]
     },
     "execution_count": 6,
     "metadata": {},
     "output_type": "execute_result"
    }
   ],
   "source": [
    "htf.hybrid_system.getForces()\n"
   ]
  },
  {
   "cell_type": "code",
   "execution_count": 21,
   "id": "fbeab15d",
   "metadata": {},
   "outputs": [],
   "source": [
    "# Get unmodified hybrid system\n",
    "positions = htf.hybrid_positions\n",
    "system = htf.hybrid_system\n",
    "system.removeForce(0)\n",
    "# system.getForce(3).setNonbondedMethod(openmm.NonbondedForce.NoCutoff)\n",
    "\n"
   ]
  },
  {
   "cell_type": "code",
   "execution_count": 8,
   "id": "75d3afc0",
   "metadata": {},
   "outputs": [
    {
     "data": {
      "text/plain": [
       "4"
      ]
     },
     "execution_count": 8,
     "metadata": {},
     "output_type": "execute_result"
    }
   ],
   "source": [
    "system.getForce(3).getNonbondedMethod()"
   ]
  },
  {
   "cell_type": "code",
   "execution_count": 9,
   "id": "2167bb5d",
   "metadata": {},
   "outputs": [
    {
     "data": {
      "text/plain": [
       "4"
      ]
     },
     "execution_count": 9,
     "metadata": {},
     "output_type": "execute_result"
    }
   ],
   "source": [
    "openmm.NonbondedForce.PME"
   ]
  },
  {
   "cell_type": "code",
   "execution_count": 10,
   "id": "88f68175",
   "metadata": {},
   "outputs": [
    {
     "data": {
      "text/plain": [
       "True"
      ]
     },
     "execution_count": 10,
     "metadata": {},
     "output_type": "execute_result"
    }
   ],
   "source": [
    "system.getForce(3).getUseDispersionCorrection()"
   ]
  },
  {
   "cell_type": "code",
   "execution_count": 22,
   "id": "195374d3",
   "metadata": {},
   "outputs": [],
   "source": [
    "thermostate = ThermodynamicState(system, temperature=T_min)\n",
    "integrator = openmm.VerletIntegrator(1.0 * unit.femtosecond)\n",
    "context = thermostate.create_context(integrator)\n",
    "context.setPositions(positions)\n",
    "sampler_state = SamplerState.from_context(context)\n",
    "nonREST_energy = thermostate.reduced_potential(sampler_state)"
   ]
  },
  {
   "cell_type": "code",
   "execution_count": 23,
   "id": "1d75e93d",
   "metadata": {},
   "outputs": [
    {
     "data": {
      "text/plain": [
       "-823558.2683701934"
      ]
     },
     "execution_count": 23,
     "metadata": {},
     "output_type": "execute_result"
    }
   ],
   "source": [
    "nonREST_energy"
   ]
  },
  {
   "cell_type": "code",
   "execution_count": 11,
   "id": "cd7e3501",
   "metadata": {
    "scrolled": true
   },
   "outputs": [
    {
     "name": "stderr",
     "output_type": "stream",
     "text": [
      "INFO:REST:No MonteCarloBarostat added.\n",
      "INFO:REST:getDefaultPeriodicBoxVectors added to hybrid: [Quantity(value=Vec3(x=13.804333500000002, y=0.0, z=0.0), unit=nanometer), Quantity(value=Vec3(x=-4.601444128722184, y=13.014850568080696, z=0.0), unit=nanometer), Quantity(value=Vec3(x=-4.601444128722184, y=-6.507424496441187, z=11.271191673136768), unit=nanometer)]\n",
      "INFO:REST:No unknown forces.\n",
      "INFO:REST:Handling constraints\n",
      "INFO:REST:Handling bonds\n",
      "INFO:REST:Handling angles\n",
      "INFO:REST:Handling torsions\n",
      "INFO:REST:Handling nonbondeds\n",
      "INFO:REST:Handling nonbonded scaling (custom nb)\n",
      "INFO:REST:Handling nonbonded exception scaling (custom bond)\n"
     ]
    }
   ],
   "source": [
    "# Create REST-ified hybrid system\n",
    "for res in htf.hybrid_topology.residues:\n",
    "    if res.resSeq == 501 and res.chain.index == 0:\n",
    "        mutated_res = res\n",
    "query_indices = [atom.index for atom in mutated_res.atoms]\n",
    "factory = RESTTopologyFactoryV2(system, htf.hybrid_topology, rest_region=query_indices, use_dispersion_correction=True)\n",
    "REST_system = factory.REST_system\n",
    "# REST_system.getForce(3).setNonbondedMethod(openmm.NonbondedForce.NoCutoff)\n",
    "# REST_system.getForce(4).setNonbondedMethod(openmm.NonbondedForce.NoCutoff)\n"
   ]
  },
  {
   "cell_type": "code",
   "execution_count": 12,
   "id": "a1de0c9d",
   "metadata": {},
   "outputs": [
    {
     "data": {
      "text/plain": [
       "4"
      ]
     },
     "execution_count": 12,
     "metadata": {},
     "output_type": "execute_result"
    }
   ],
   "source": [
    "REST_system.getForce(3).getNonbondedMethod()"
   ]
  },
  {
   "cell_type": "code",
   "execution_count": 13,
   "id": "b2f122e0",
   "metadata": {},
   "outputs": [
    {
     "data": {
      "text/plain": [
       "2"
      ]
     },
     "execution_count": 13,
     "metadata": {},
     "output_type": "execute_result"
    }
   ],
   "source": [
    "openmm.NonbondedForce.CutoffPeriodic"
   ]
  },
  {
   "cell_type": "code",
   "execution_count": 14,
   "id": "7e5e888b",
   "metadata": {},
   "outputs": [
    {
     "data": {
      "text/plain": [
       "2"
      ]
     },
     "execution_count": 14,
     "metadata": {},
     "output_type": "execute_result"
    }
   ],
   "source": [
    "REST_system.getForce(4).getNonbondedMethod()"
   ]
  },
  {
   "cell_type": "code",
   "execution_count": 15,
   "id": "b0e20f7a",
   "metadata": {},
   "outputs": [
    {
     "data": {
      "text/plain": [
       "True"
      ]
     },
     "execution_count": 15,
     "metadata": {},
     "output_type": "execute_result"
    }
   ],
   "source": [
    "REST_system.getForce(3).getUseDispersionCorrection()"
   ]
  },
  {
   "cell_type": "code",
   "execution_count": 16,
   "id": "24ff7e6c",
   "metadata": {},
   "outputs": [
    {
     "data": {
      "text/plain": [
       "False"
      ]
     },
     "execution_count": 16,
     "metadata": {},
     "output_type": "execute_result"
    }
   ],
   "source": [
    "REST_system.getForce(4).getUseLongRangeCorrection()"
   ]
  },
  {
   "cell_type": "code",
   "execution_count": 17,
   "id": "478f9ce3",
   "metadata": {
    "scrolled": false
   },
   "outputs": [
    {
     "name": "stdout",
     "output_type": "stream",
     "text": [
      "beta_0:  0.00040359850685478543 mol/J\n",
      "beta_m:  0.00020045392507121008 mol/J\n",
      "conducting subsequent work with the following platform: CUDA\n",
      "[('CustomBondForce', 1659.0711350866632), ('CustomAngleForce', 4321.03604228801), ('CustomTorsionForce', 17547.902807037044), ('NonbondedForce', -841612.1058550582), ('CustomNonbondedForce', 84.28177980505599), ('CustomBondForce', -0.364453885647623), ('AndersenThermostat', 0.0)]\n"
     ]
    },
    {
     "ename": "SystemError",
     "evalue": "<built-in function Context_getState> returned NULL without setting an error",
     "output_type": "error",
     "traceback": [
      "\u001b[0;31m----------------------------------------------------------\u001b[0m",
      "\u001b[0;31mSystemError\u001b[0m              Traceback (most recent call last)",
      "\u001b[0;32m<ipython-input-17-3b9edde4a312>\u001b[0m in \u001b[0;36m<module>\u001b[0;34m\u001b[0m\n\u001b[1;32m      3\u001b[0m \u001b[0mT_min\u001b[0m \u001b[0;34m=\u001b[0m \u001b[0;36m298.0\u001b[0m \u001b[0;34m*\u001b[0m \u001b[0munit\u001b[0m\u001b[0;34m.\u001b[0m\u001b[0mkelvin\u001b[0m\u001b[0;34m\u001b[0m\u001b[0;34m\u001b[0m\u001b[0m\n\u001b[1;32m      4\u001b[0m \u001b[0mT\u001b[0m \u001b[0;34m=\u001b[0m \u001b[0;36m600\u001b[0m \u001b[0;34m*\u001b[0m \u001b[0munit\u001b[0m\u001b[0;34m.\u001b[0m\u001b[0mkelvin\u001b[0m\u001b[0;34m\u001b[0m\u001b[0;34m\u001b[0m\u001b[0m\n\u001b[0;32m----> 5\u001b[0;31m \u001b[0mcompare_energies\u001b[0m\u001b[0;34m(\u001b[0m\u001b[0mhtf\u001b[0m\u001b[0;34m.\u001b[0m\u001b[0mhybrid_topology\u001b[0m\u001b[0;34m,\u001b[0m \u001b[0mREST_system\u001b[0m\u001b[0;34m,\u001b[0m \u001b[0msystem\u001b[0m\u001b[0;34m,\u001b[0m \u001b[0mhtf\u001b[0m\u001b[0;34m.\u001b[0m\u001b[0mhybrid_positions\u001b[0m\u001b[0;34m,\u001b[0m \u001b[0mquery_indices\u001b[0m\u001b[0;34m,\u001b[0m \u001b[0mT_min\u001b[0m\u001b[0;34m,\u001b[0m \u001b[0mT\u001b[0m\u001b[0;34m)\u001b[0m\u001b[0;34m\u001b[0m\u001b[0;34m\u001b[0m\u001b[0m\n\u001b[0m",
      "\u001b[0;32m<ipython-input-4-fdd79f431f83>\u001b[0m in \u001b[0;36mcompare_energies\u001b[0;34m(topology, REST_system, other_system, positions, rest_atoms, T_min, T)\u001b[0m\n\u001b[1;32m    115\u001b[0m     \u001b[0mcontext\u001b[0m \u001b[0;34m=\u001b[0m \u001b[0mthermostate\u001b[0m\u001b[0;34m.\u001b[0m\u001b[0mcreate_context\u001b[0m\u001b[0;34m(\u001b[0m\u001b[0mintegrator\u001b[0m\u001b[0;34m)\u001b[0m\u001b[0;34m\u001b[0m\u001b[0;34m\u001b[0m\u001b[0m\n\u001b[1;32m    116\u001b[0m     \u001b[0mcontext\u001b[0m\u001b[0;34m.\u001b[0m\u001b[0msetPositions\u001b[0m\u001b[0;34m(\u001b[0m\u001b[0mpositions\u001b[0m\u001b[0;34m)\u001b[0m\u001b[0;34m\u001b[0m\u001b[0;34m\u001b[0m\u001b[0m\n\u001b[0;32m--> 117\u001b[0;31m     \u001b[0msampler_state\u001b[0m \u001b[0;34m=\u001b[0m \u001b[0mSamplerState\u001b[0m\u001b[0;34m.\u001b[0m\u001b[0mfrom_context\u001b[0m\u001b[0;34m(\u001b[0m\u001b[0mcontext\u001b[0m\u001b[0;34m)\u001b[0m\u001b[0;34m\u001b[0m\u001b[0;34m\u001b[0m\u001b[0m\n\u001b[0m\u001b[1;32m    118\u001b[0m     \u001b[0mnonREST_energy\u001b[0m \u001b[0;34m=\u001b[0m \u001b[0mthermostate\u001b[0m\u001b[0;34m.\u001b[0m\u001b[0mreduced_potential\u001b[0m\u001b[0;34m(\u001b[0m\u001b[0msampler_state\u001b[0m\u001b[0;34m)\u001b[0m\u001b[0;34m\u001b[0m\u001b[0;34m\u001b[0m\u001b[0m\n\u001b[1;32m    119\u001b[0m \u001b[0;34m\u001b[0m\u001b[0m\n",
      "\u001b[0;32m~/miniconda3/envs/perses-rest2v2/lib/python3.8/site-packages/openmmtools/states.py\u001b[0m in \u001b[0;36mfrom_context\u001b[0;34m(cls, context_state, ignore_collective_variables)\u001b[0m\n\u001b[1;32m   2058\u001b[0m         \"\"\"\n\u001b[1;32m   2059\u001b[0m         \u001b[0msampler_state\u001b[0m \u001b[0;34m=\u001b[0m \u001b[0mcls\u001b[0m\u001b[0;34m(\u001b[0m\u001b[0;34m[\u001b[0m\u001b[0;34m]\u001b[0m\u001b[0;34m)\u001b[0m\u001b[0;34m\u001b[0m\u001b[0;34m\u001b[0m\u001b[0m\n\u001b[0;32m-> 2060\u001b[0;31m         sampler_state._read_context_state(context_state, check_consistency=False,\n\u001b[0m\u001b[1;32m   2061\u001b[0m                                           \u001b[0mignore_positions\u001b[0m\u001b[0;34m=\u001b[0m\u001b[0;32mFalse\u001b[0m\u001b[0;34m,\u001b[0m\u001b[0;34m\u001b[0m\u001b[0;34m\u001b[0m\u001b[0m\n\u001b[1;32m   2062\u001b[0m                                           \u001b[0mignore_velocities\u001b[0m\u001b[0;34m=\u001b[0m\u001b[0;32mFalse\u001b[0m\u001b[0;34m,\u001b[0m\u001b[0;34m\u001b[0m\u001b[0;34m\u001b[0m\u001b[0m\n",
      "\u001b[0;32m~/miniconda3/envs/perses-rest2v2/lib/python3.8/site-packages/openmmtools/states.py\u001b[0m in \u001b[0;36m_read_context_state\u001b[0;34m(self, context_state, check_consistency, ignore_positions, ignore_velocities, ignore_collective_variables)\u001b[0m\n\u001b[1;32m   2458\u001b[0m         \u001b[0;32mif\u001b[0m \u001b[0misinstance\u001b[0m\u001b[0;34m(\u001b[0m\u001b[0mcontext_state\u001b[0m\u001b[0;34m,\u001b[0m \u001b[0mopenmm\u001b[0m\u001b[0;34m.\u001b[0m\u001b[0mContext\u001b[0m\u001b[0;34m)\u001b[0m\u001b[0;34m:\u001b[0m\u001b[0;34m\u001b[0m\u001b[0;34m\u001b[0m\u001b[0m\n\u001b[1;32m   2459\u001b[0m             \u001b[0msystem\u001b[0m \u001b[0;34m=\u001b[0m \u001b[0mcontext_state\u001b[0m\u001b[0;34m.\u001b[0m\u001b[0mgetSystem\u001b[0m\u001b[0;34m(\u001b[0m\u001b[0;34m)\u001b[0m\u001b[0;34m\u001b[0m\u001b[0;34m\u001b[0m\u001b[0m\n\u001b[0;32m-> 2460\u001b[0;31m             openmm_state = context_state.getState(getPositions=not ignore_positions,\n\u001b[0m\u001b[1;32m   2461\u001b[0m                                                   \u001b[0mgetVelocities\u001b[0m\u001b[0;34m=\u001b[0m\u001b[0;32mnot\u001b[0m \u001b[0mignore_velocities\u001b[0m\u001b[0;34m,\u001b[0m\u001b[0;34m\u001b[0m\u001b[0;34m\u001b[0m\u001b[0m\n\u001b[1;32m   2462\u001b[0m                                                   \u001b[0mgetEnergy\u001b[0m\u001b[0;34m=\u001b[0m\u001b[0;32mnot\u001b[0m \u001b[0;34m(\u001b[0m\u001b[0mignore_velocities\u001b[0m \u001b[0;32mand\u001b[0m \u001b[0mignore_positions\u001b[0m\u001b[0;34m)\u001b[0m\u001b[0;34m,\u001b[0m\u001b[0;34m\u001b[0m\u001b[0;34m\u001b[0m\u001b[0m\n",
      "\u001b[0;32m~/miniconda3/envs/perses-rest2v2/lib/python3.8/site-packages/simtk/openmm/openmm.py\u001b[0m in \u001b[0;36mgetState\u001b[0;34m(self, getPositions, getVelocities, getForces, getEnergy, getParameters, getParameterDerivatives, getIntegratorParameters, enforcePeriodicBox, groups)\u001b[0m\n\u001b[1;32m  13170\u001b[0m         \u001b[0;32mif\u001b[0m \u001b[0mgetIntegratorParameters\u001b[0m\u001b[0;34m:\u001b[0m\u001b[0;34m\u001b[0m\u001b[0;34m\u001b[0m\u001b[0m\n\u001b[1;32m  13171\u001b[0m             \u001b[0mtypes\u001b[0m \u001b[0;34m+=\u001b[0m \u001b[0mState\u001b[0m\u001b[0;34m.\u001b[0m\u001b[0mIntegratorParameters\u001b[0m\u001b[0;34m\u001b[0m\u001b[0;34m\u001b[0m\u001b[0m\n\u001b[0;32m> 13172\u001b[0;31m         \u001b[0mstate\u001b[0m \u001b[0;34m=\u001b[0m \u001b[0m_openmm\u001b[0m\u001b[0;34m.\u001b[0m\u001b[0mContext_getState\u001b[0m\u001b[0;34m(\u001b[0m\u001b[0mself\u001b[0m\u001b[0;34m,\u001b[0m \u001b[0mtypes\u001b[0m\u001b[0;34m,\u001b[0m \u001b[0menforcePeriodicBox\u001b[0m\u001b[0;34m,\u001b[0m \u001b[0mgroups_mask\u001b[0m\u001b[0;34m)\u001b[0m\u001b[0;34m\u001b[0m\u001b[0;34m\u001b[0m\u001b[0m\n\u001b[0m\u001b[1;32m  13173\u001b[0m         \u001b[0;32mreturn\u001b[0m \u001b[0mstate\u001b[0m\u001b[0;34m\u001b[0m\u001b[0;34m\u001b[0m\u001b[0m\n\u001b[1;32m  13174\u001b[0m \u001b[0;34m\u001b[0m\u001b[0m\n",
      "\u001b[0;31mSystemError\u001b[0m: <built-in function Context_getState> returned NULL without setting an error"
     ]
    }
   ],
   "source": [
    "# Set temperatures\n",
    "# This takes a really long time\n",
    "T_min = 298.0 * unit.kelvin\n",
    "T = 600 * unit.kelvin\n",
    "compare_energies(htf.hybrid_topology, REST_system, system, htf.hybrid_positions, query_indices, T_min, T)"
   ]
  },
  {
   "cell_type": "markdown",
   "id": "48daefed",
   "metadata": {},
   "source": [
    "# Test energy validation for rest vs alchemical system"
   ]
  },
  {
   "cell_type": "code",
   "execution_count": null,
   "id": "908abb63",
   "metadata": {},
   "outputs": [],
   "source": [
    "# Load r-htf for N501Y\n",
    "with open(\"/data/chodera/zhangi/perses_benchmark/neq/14/98/98_complex.pickle\", \"rb\") as f:\n",
    "    htf = pickle.load(f)\n",
    "    other_system = htf.hybrid_system\n",
    "    "
   ]
  },
  {
   "cell_type": "code",
   "execution_count": null,
   "id": "c39cea26",
   "metadata": {},
   "outputs": [],
   "source": [
    "# Load r-htf for N501Y\n",
    "with open(\"/data/chodera/zhangi/perses_benchmark/neq/14/98/98_complex_0.pickle\", \"rb\") as f:\n",
    "    rhtf = pickle.load(f)\n",
    "    "
   ]
  },
  {
   "cell_type": "code",
   "execution_count": null,
   "id": "de9886a5",
   "metadata": {},
   "outputs": [],
   "source": [
    "# Read in REST snapshot\n",
    "with open(\"/data/chodera/zhangi/perses_benchmark/neq/14/98/98_complex_asn_1ns_snapshots.npy\", \"rb\") as f:\n",
    "    cache = np.load(f)\n",
    "    positions = cache[0]"
   ]
  },
  {
   "cell_type": "code",
   "execution_count": null,
   "id": "9c6ff26b",
   "metadata": {},
   "outputs": [],
   "source": [
    "htf.hybrid_system.getForces()\n"
   ]
  },
  {
   "cell_type": "code",
   "execution_count": null,
   "id": "b7f0bf8c",
   "metadata": {
    "scrolled": true
   },
   "outputs": [],
   "source": [
    "htf.hybrid_system.getForce(7).getUseDispersionCorrection()"
   ]
  },
  {
   "cell_type": "code",
   "execution_count": null,
   "id": "b3532dcd",
   "metadata": {},
   "outputs": [],
   "source": [
    "htf.hybrid_system.getForce(8).getUseLongRangeCorrection()"
   ]
  },
  {
   "cell_type": "code",
   "execution_count": null,
   "id": "83d1e6e9",
   "metadata": {},
   "outputs": [],
   "source": [
    "platform = configure_platform(REFERENCE_PLATFORM)\n",
    "\n",
    "# Create thermodynamic state and sampler state for non-rest system\n",
    "thermostate_other = ThermodynamicState(system=other_system, temperature=temperature)\n",
    "\n",
    "# Create context for non-rest system\n",
    "integrator_other = openmm.VerletIntegrator(1.0*unit.femtosecond)\n",
    "context_other = thermostate_other.create_context(integrator_other)\n",
    "context_other.setPositions(positions)\n",
    "\n",
    "# Get energy components for non-rest system\n",
    "components_other = [component[1] for component in compute_potential_components(context_other, beta=beta)]\n",
    "print(compute_potential_components(context_other, beta=beta))\n"
   ]
  },
  {
   "cell_type": "code",
   "execution_count": null,
   "id": "8f1861b4",
   "metadata": {
    "scrolled": true
   },
   "outputs": [],
   "source": [
    "# Create REST-ified hybrid system\n",
    "for res in htf.hybrid_topology.residues:\n",
    "    if res.resSeq == 501 and res.chain.index == 0:\n",
    "        mutated_res = res\n",
    "query_indices = [atom.index for atom in mutated_res.atoms]\n",
    "factory = RESTTopologyFactoryV2(rhtf.hybrid_system, rhtf.hybrid_topology, rest_region=query_indices, use_dispersion_correction=True)\n",
    "REST_system = factory.REST_system\n",
    "# REST_system.getForce(3).setNonbondedMethod(openmm.NonbondedForce.NoCutoff)\n",
    "# REST_system.getForce(4).setNonbondedMethod(openmm.NonbondedForce.NoCutoff)\n"
   ]
  },
  {
   "cell_type": "code",
   "execution_count": null,
   "id": "843692db",
   "metadata": {},
   "outputs": [],
   "source": [
    "# Create thermodynamic state for rest_system\n",
    "thermostate_rest = ThermodynamicState(system=REST_system, temperature=temperature)\n",
    "\n",
    "# Create context for rest system\n",
    "integrator_rest = openmm.VerletIntegrator(1.0 * unit.femtosecond)\n",
    "context_rest = thermostate_rest.create_context(integrator_rest)\n",
    "context_rest.setPositions(positions)\n",
    "\n",
    "# Get energy components for rest system\n",
    "components_rest = [component[1] for component in compute_potential_components(context_rest, beta=beta)]\n",
    "print(compute_potential_components(context_rest, beta=beta))"
   ]
  },
  {
   "cell_type": "code",
   "execution_count": null,
   "id": "hungry-baker",
   "metadata": {},
   "outputs": [],
   "source": [
    "assert np.isclose([components_other[0] + components_other[1]], [components_rest[0]])"
   ]
  },
  {
   "cell_type": "code",
   "execution_count": null,
   "id": "apparent-outline",
   "metadata": {},
   "outputs": [],
   "source": [
    "assert np.isclose([components_other[2] + components_other[3]], [components_rest[1]])"
   ]
  },
  {
   "cell_type": "code",
   "execution_count": null,
   "id": "seventh-cameroon",
   "metadata": {},
   "outputs": [],
   "source": [
    "assert np.isclose([components_other[4] + components_other[5]], [components_rest[2]])"
   ]
  },
  {
   "cell_type": "code",
   "execution_count": null,
   "id": "figured-teach",
   "metadata": {},
   "outputs": [],
   "source": [
    "assert np.isclose(components_other[6] + components_other[7] + components_other[8], components_rest[3] + components_rest[4] + components_rest[5]), f\"The energies do not match for the {components_other[6] + components_other[7] + components_other[8]} (other system) vs. {components_rest[3]} (REST system)\"\n",
    "\n"
   ]
  },
  {
   "cell_type": "code",
   "execution_count": null,
   "id": "29663ed0",
   "metadata": {},
   "outputs": [],
   "source": [
    "components_rest"
   ]
  },
  {
   "cell_type": "code",
   "execution_count": null,
   "id": "e93dcd29",
   "metadata": {},
   "outputs": [],
   "source": [
    "components_other"
   ]
  },
  {
   "cell_type": "code",
   "execution_count": null,
   "id": "74fa5b76",
   "metadata": {},
   "outputs": [],
   "source": [
    "components_other[6] + components_other[7] + components_other[8]"
   ]
  },
  {
   "cell_type": "code",
   "execution_count": null,
   "id": "4bbdf5c7",
   "metadata": {},
   "outputs": [],
   "source": [
    "components_rest[3] + components_rest[4] + components_rest[5]"
   ]
  },
  {
   "cell_type": "code",
   "execution_count": null,
   "id": "6172f73f",
   "metadata": {},
   "outputs": [],
   "source": [
    "np.isclose(-1002461.6455134379, -1002464.5984964548)"
   ]
  },
  {
   "cell_type": "code",
   "execution_count": null,
   "id": "a2961bbc",
   "metadata": {},
   "outputs": [],
   "source": []
  },
  {
   "cell_type": "markdown",
   "id": "326ea6fd",
   "metadata": {},
   "source": [
    "# Test energy validation for rest vs alchemical system (John's recommended way)"
   ]
  },
  {
   "cell_type": "code",
   "execution_count": null,
   "id": "737f4b42",
   "metadata": {},
   "outputs": [],
   "source": [
    "# Load r-htf for N501Y\n",
    "with open(\"/data/chodera/zhangi/perses_benchmark/neq/14/98/98_complex.pickle\", \"rb\") as f:\n",
    "    htf = pickle.load(f)\n",
    "    other_system = htf.hybrid_system\n",
    "    "
   ]
  },
  {
   "cell_type": "code",
   "execution_count": null,
   "id": "f6a7decc",
   "metadata": {},
   "outputs": [],
   "source": [
    "# Load r-htf for N501Y\n",
    "with open(\"/data/chodera/zhangi/perses_benchmark/neq/14/98/98_complex_0.pickle\", \"rb\") as f:\n",
    "    rhtf = pickle.load(f)\n",
    "    "
   ]
  },
  {
   "cell_type": "code",
   "execution_count": null,
   "id": "28499b0d",
   "metadata": {},
   "outputs": [],
   "source": [
    "# Read in REST snapshot\n",
    "with open(\"/data/chodera/zhangi/perses_benchmark/neq/14/98/98_complex_asn_1ns_snapshots.npy\", \"rb\") as f:\n",
    "    cache = np.load(f)\n",
    "    positions = cache[0]"
   ]
  },
  {
   "cell_type": "code",
   "execution_count": null,
   "id": "aab0d238",
   "metadata": {},
   "outputs": [],
   "source": [
    "htf.hybrid_system.getForces()\n"
   ]
  },
  {
   "cell_type": "code",
   "execution_count": null,
   "id": "4454967a",
   "metadata": {
    "scrolled": true
   },
   "outputs": [],
   "source": [
    "htf.hybrid_system.getForce(7).getUseDispersionCorrection()"
   ]
  },
  {
   "cell_type": "code",
   "execution_count": null,
   "id": "39481e13",
   "metadata": {},
   "outputs": [],
   "source": [
    "htf.hybrid_system.getForce(8).getUseLongRangeCorrection()"
   ]
  },
  {
   "cell_type": "code",
   "execution_count": null,
   "id": "3294d430",
   "metadata": {},
   "outputs": [],
   "source": [
    "platform = configure_platform(REFERENCE_PLATFORM)\n",
    "\n",
    "# Create thermodynamic state and sampler state for non-rest system\n",
    "thermostate_other = ThermodynamicState(system=other_system, temperature=temperature)\n",
    "\n",
    "# Create context for non-rest system\n",
    "integrator_other = openmm.VerletIntegrator(1.0*unit.femtosecond)\n",
    "context_other = thermostate_other.create_context(integrator_other)\n",
    "context_other.setPositions(positions)\n",
    "\n",
    "# Get energy components for non-rest system\n",
    "components_other = [component[1] for component in compute_potential_components(context_other, beta=beta)]\n",
    "print(compute_potential_components(context_other, beta=beta))\n"
   ]
  },
  {
   "cell_type": "code",
   "execution_count": null,
   "id": "6768281f",
   "metadata": {
    "scrolled": true
   },
   "outputs": [],
   "source": [
    "# Create REST-ified hybrid system\n",
    "for res in htf.hybrid_topology.residues:\n",
    "    if res.resSeq == 501 and res.chain.index == 0:\n",
    "        mutated_res = res\n",
    "query_indices = [atom.index for atom in mutated_res.atoms]\n",
    "factory = RESTTopologyFactoryV2(rhtf.hybrid_system, rhtf.hybrid_topology, rest_region=query_indices, use_dispersion_correction=True)\n",
    "REST_system = factory.REST_system\n",
    "# REST_system.getForce(3).setNonbondedMethod(openmm.NonbondedForce.NoCutoff)\n",
    "# REST_system.getForce(4).setNonbondedMethod(openmm.NonbondedForce.NoCutoff)\n"
   ]
  },
  {
   "cell_type": "code",
   "execution_count": null,
   "id": "821a3a73",
   "metadata": {},
   "outputs": [],
   "source": [
    "# Create thermodynamic state for rest_system\n",
    "thermostate_rest = ThermodynamicState(system=REST_system, temperature=temperature)\n",
    "\n",
    "# Create context for rest system\n",
    "integrator_rest = openmm.VerletIntegrator(1.0 * unit.femtosecond)\n",
    "context_rest = thermostate_rest.create_context(integrator_rest)\n",
    "context_rest.setPositions(positions)\n",
    "\n",
    "# Get energy components for rest system\n",
    "components_rest = [component[1] for component in compute_potential_components(context_rest, beta=beta)]\n",
    "print(compute_potential_components(context_rest, beta=beta))"
   ]
  },
  {
   "cell_type": "code",
   "execution_count": null,
   "id": "26080b6e",
   "metadata": {},
   "outputs": [],
   "source": [
    "assert np.isclose([components_other[0] + components_other[1]], [components_rest[0]])"
   ]
  },
  {
   "cell_type": "code",
   "execution_count": null,
   "id": "dd827f82",
   "metadata": {},
   "outputs": [],
   "source": [
    "assert np.isclose([components_other[2] + components_other[3]], [components_rest[1]])"
   ]
  },
  {
   "cell_type": "code",
   "execution_count": null,
   "id": "7054f64c",
   "metadata": {},
   "outputs": [],
   "source": [
    "assert np.isclose([components_other[4] + components_other[5]], [components_rest[2]])"
   ]
  },
  {
   "cell_type": "code",
   "execution_count": null,
   "id": "0342f8e7",
   "metadata": {},
   "outputs": [],
   "source": [
    "assert np.isclose(components_other[6] + components_other[7] + components_other[8], components_rest[3] + components_rest[4] + components_rest[5]), f\"The energies do not match for the {components_other[6] + components_other[7] + components_other[8]} (other system) vs. {components_rest[3]} (REST system)\"\n",
    "\n"
   ]
  },
  {
   "cell_type": "code",
   "execution_count": null,
   "id": "d28621cc",
   "metadata": {},
   "outputs": [],
   "source": [
    "components_rest"
   ]
  },
  {
   "cell_type": "code",
   "execution_count": null,
   "id": "83fae7ae",
   "metadata": {},
   "outputs": [],
   "source": [
    "components_other"
   ]
  },
  {
   "cell_type": "code",
   "execution_count": null,
   "id": "6e51eb55",
   "metadata": {},
   "outputs": [],
   "source": [
    "components_other[6] + components_other[7] + components_other[8]"
   ]
  },
  {
   "cell_type": "code",
   "execution_count": null,
   "id": "23bc1d3c",
   "metadata": {},
   "outputs": [],
   "source": [
    "components_rest[3] + components_rest[4] + components_rest[5]"
   ]
  },
  {
   "cell_type": "code",
   "execution_count": null,
   "id": "2afa41ea",
   "metadata": {},
   "outputs": [],
   "source": [
    "np.isclose(-1002461.6455134379, -1002464.5984964548)"
   ]
  }
 ],
 "metadata": {
  "kernelspec": {
   "display_name": "Python 3",
   "language": "python",
   "name": "python3"
  },
  "language_info": {
   "codemirror_mode": {
    "name": "ipython",
    "version": 3
   },
   "file_extension": ".py",
   "mimetype": "text/x-python",
   "name": "python",
   "nbconvert_exporter": "python",
   "pygments_lexer": "ipython3",
   "version": "3.8.10"
  }
 },
 "nbformat": 4,
 "nbformat_minor": 5
}
