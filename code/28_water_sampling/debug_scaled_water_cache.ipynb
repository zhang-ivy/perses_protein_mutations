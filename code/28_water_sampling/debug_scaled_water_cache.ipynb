{
 "cells": [
  {
   "cell_type": "markdown",
   "id": "b04d2778",
   "metadata": {},
   "source": [
    "# Check to see if scaled water rest has andersen thermostat"
   ]
  },
  {
   "cell_type": "code",
   "execution_count": 1,
   "id": "88ef4aeb",
   "metadata": {},
   "outputs": [
    {
     "name": "stderr",
     "output_type": "stream",
     "text": [
      "INFO:numexpr.utils:Note: NumExpr detected 48 cores but \"NUMEXPR_MAX_THREADS\" not set, so enforcing safe limit of 8.\n",
      "INFO:numexpr.utils:NumExpr defaulting to 8 threads.\n"
     ]
    },
    {
     "name": "stdout",
     "output_type": "stream",
     "text": [
      "conducting subsequent work with the following platform: CUDA\n",
      "conducting subsequent work with the following platform: CUDA\n"
     ]
    },
    {
     "name": "stderr",
     "output_type": "stream",
     "text": [
      "INFO:rdkit:Enabling RDKit 2021.03.3 jupyter extensions\n"
     ]
    }
   ],
   "source": [
    "import pickle\n",
    "import os\n",
    "from openeye import oechem\n",
    "from perses.annihilation.rest import RESTTopologyFactoryV2\n",
    "from perses.annihilation.lambda_protocol import RESTStateV2\n",
    "from openmmtools.states import SamplerState, ThermodynamicState, CompoundThermodynamicState\n",
    "from openmmtools import cache, utils\n",
    "from perses.dispersed.utils import configure_platform\n",
    "cache.global_context_cache.platform = configure_platform(utils.get_fastest_platform().getName())\n",
    "from simtk import openmm, unit\n",
    "import math\n",
    "from openmmtools.constants import kB\n",
    "from openmmtools import mcmc, multistate\n",
    "import argparse\n",
    "import copy\n",
    "from perses.dispersed import feptasks\n",
    "import mdtraj as md\n",
    "import numpy as np\n",
    "from perses.app.relative_point_mutation_setup import PointMutationExecutor\n"
   ]
  },
  {
   "cell_type": "code",
   "execution_count": 5,
   "id": "c8ca1338",
   "metadata": {},
   "outputs": [],
   "source": [
    "phase = 'apo'\n",
    "name = \"arg\"\n",
    "state = 0\n",
    "\n",
    "length = 1\n",
    "move_length = 1\n",
    "timestep = 4\n",
    "radius = 0.4\n",
    "\n",
    "outdir = \"/data/chodera/zhangi/perses_benchmark/neq/20/30/\""
   ]
  },
  {
   "cell_type": "code",
   "execution_count": 7,
   "id": "9023f553",
   "metadata": {},
   "outputs": [],
   "source": [
    "# Load rhtf\n",
    "i = os.path.basename(os.path.dirname(outdir))\n",
    "path = os.path.join(outdir, f\"{i}_{phase}_{state}.pickle\")\n",
    "htf = pickle.load(open(path, \"rb\" ))\n",
    "\n"
   ]
  },
  {
   "cell_type": "code",
   "execution_count": 11,
   "id": "1b964671",
   "metadata": {},
   "outputs": [
    {
     "name": "stderr",
     "output_type": "stream",
     "text": [
      "INFO:REST:Added MonteCarloBarostat.\n",
      "INFO:REST:getDefaultPeriodicBoxVectors added to hybrid: [Quantity(value=Vec3(x=6.2004, y=0.0, z=0.0), unit=nanometer), Quantity(value=Vec3(x=0.0, y=6.2004, z=0.0), unit=nanometer), Quantity(value=Vec3(x=0.0, y=0.0, z=6.2004), unit=nanometer)]\n",
      "INFO:REST:No unknown forces.\n",
      "INFO:REST:Handling constraints\n",
      "INFO:REST:Handling bonds\n",
      "INFO:REST:Handling angles\n",
      "INFO:REST:Handling torsions\n",
      "INFO:REST:Handling nonbondeds\n",
      "INFO:REST:Handling nonbonded scaling (custom nb)\n",
      "INFO:REST:Handling nonbonded exception scaling (custom bond)\n"
     ]
    }
   ],
   "source": [
    "# Build REST factory\n",
    "for res in htf.hybrid_topology.residues:\n",
    "    if res.resSeq == 83 and res.chain.index == 0:\n",
    "        mutated_res = res\n",
    "query_indices = [atom.index for atom in mutated_res.atoms]\n",
    "traj = md.Trajectory(np.array(htf.hybrid_positions), htf.hybrid_topology)\n",
    "solute_atoms = list(traj.topology.select(\"is_protein\"))\n",
    "rest_atoms = list(md.compute_neighbors(traj, radius, query_indices, haystack_indices=solute_atoms)[0])\n",
    "factory = RESTTopologyFactoryV2(htf.hybrid_system, htf.hybrid_topology, rest_region=rest_atoms, use_dispersion_correction=True)"
   ]
  },
  {
   "cell_type": "code",
   "execution_count": 13,
   "id": "1fdd69ce",
   "metadata": {},
   "outputs": [],
   "source": [
    "# Get REST system\n",
    "REST_system = factory.REST_system\n",
    "\n",
    "# Create states for each replica\n",
    "n_replicas = 12  # Number of temperature replicas.\n",
    "T_min = 300.0 * unit.kelvin  # Minimum temperature.\n",
    "T_max = 1200 * unit.kelvin  # Maximum temperature.\n",
    "temperatures = [T_min + (T_max - T_min) * (math.exp(float(i) / float(n_replicas-1)) - 1.0) / (math.e - 1.0)\n",
    "                for i in range(n_replicas)]\n",
    "\n",
    "# Create reference thermodynamic state\n",
    "lambda_zero_alchemical_state = RESTStateV2.from_system(REST_system)\n",
    "thermostate = ThermodynamicState(REST_system, temperature=T_min)\n",
    "compound_thermodynamic_state = CompoundThermodynamicState(thermostate, composable_states=[lambda_zero_alchemical_state])"
   ]
  },
  {
   "cell_type": "code",
   "execution_count": 21,
   "id": "87ddf23b",
   "metadata": {},
   "outputs": [
    {
     "data": {
      "text/plain": [
       "[<simtk.openmm.openmm.MonteCarloBarostat; proxy of <Swig Object of type 'OpenMM::MonteCarloBarostat *' at 0x2b238f059b40> >,\n",
       " <simtk.openmm.openmm.CustomBondForce; proxy of <Swig Object of type 'OpenMM::CustomBondForce *' at 0x2b2395561de0> >,\n",
       " <simtk.openmm.openmm.CustomAngleForce; proxy of <Swig Object of type 'OpenMM::CustomAngleForce *' at 0x2b23955618d0> >,\n",
       " <simtk.openmm.openmm.CustomTorsionForce; proxy of <Swig Object of type 'OpenMM::CustomTorsionForce *' at 0x2b2395561930> >,\n",
       " <simtk.openmm.openmm.NonbondedForce; proxy of <Swig Object of type 'OpenMM::NonbondedForce *' at 0x2b23955619c0> >,\n",
       " <simtk.openmm.openmm.CustomNonbondedForce; proxy of <Swig Object of type 'OpenMM::CustomNonbondedForce *' at 0x2b2395561a50> >,\n",
       " <simtk.openmm.openmm.CustomBondForce; proxy of <Swig Object of type 'OpenMM::CustomBondForce *' at 0x2b2395561ae0> >]"
      ]
     },
     "execution_count": 21,
     "metadata": {},
     "output_type": "execute_result"
    }
   ],
   "source": [
    "REST_system.getForces()"
   ]
  },
  {
   "cell_type": "code",
   "execution_count": 14,
   "id": "dcc114bf",
   "metadata": {},
   "outputs": [],
   "source": [
    "# Create thermodynamics states\n",
    "sampler_state =  SamplerState(htf.hybrid_positions, box_vectors=htf.hybrid_system.\n",
    "getDefaultPeriodicBoxVectors())\n",
    "beta_0 = 1/(kB*T_min)\n",
    "thermodynamic_state_list = []\n",
    "sampler_state_list = []\n",
    "for temperature in temperatures:\n",
    "    beta_m = 1/(kB*temperature)\n",
    "    compound_thermodynamic_state_copy = copy.deepcopy(compound_thermodynamic_state)\n",
    "    compound_thermodynamic_state_copy.set_alchemical_parameters(beta_0, beta_m)\n",
    "    thermodynamic_state_list.append(compound_thermodynamic_state_copy)\n",
    "\n",
    "    # now generating a sampler_state for each thermodynamic state, with relaxed positions\n",
    "    # context, context_integrator = context_cache.get_context(compound_thermodynamic_state_copy)\n",
    "    feptasks.minimize(compound_thermodynamic_state_copy, sampler_state, max_iterations=0)\n",
    "    sampler_state_list.append(copy.deepcopy(sampler_state))\n"
   ]
  },
  {
   "cell_type": "code",
   "execution_count": 20,
   "id": "48dabcd4",
   "metadata": {
    "scrolled": true
   },
   "outputs": [
    {
     "data": {
      "text/plain": [
       "[<simtk.openmm.openmm.CustomBondForce; proxy of <Swig Object of type 'OpenMM::CustomBondForce *' at 0x2b238f059f90> >,\n",
       " <simtk.openmm.openmm.CustomAngleForce; proxy of <Swig Object of type 'OpenMM::CustomAngleForce *' at 0x2b238f059c60> >,\n",
       " <simtk.openmm.openmm.CustomTorsionForce; proxy of <Swig Object of type 'OpenMM::CustomTorsionForce *' at 0x2b238f059cf0> >,\n",
       " <simtk.openmm.openmm.NonbondedForce; proxy of <Swig Object of type 'OpenMM::NonbondedForce *' at 0x2b23955617e0> >,\n",
       " <simtk.openmm.openmm.CustomNonbondedForce; proxy of <Swig Object of type 'OpenMM::CustomNonbondedForce *' at 0x2b2395561d80> >,\n",
       " <simtk.openmm.openmm.CustomBondForce; proxy of <Swig Object of type 'OpenMM::CustomBondForce *' at 0x2b2395561f30> >,\n",
       " <simtk.openmm.openmm.AndersenThermostat; proxy of <Swig Object of type 'OpenMM::AndersenThermostat *' at 0x2b2395561e40> >,\n",
       " <simtk.openmm.openmm.MonteCarloBarostat; proxy of <Swig Object of type 'OpenMM::MonteCarloBarostat *' at 0x2b2395561d50> >]"
      ]
     },
     "execution_count": 20,
     "metadata": {},
     "output_type": "execute_result"
    }
   ],
   "source": [
    "thermodynamic_state_list[0].get_system().getForces()"
   ]
  },
  {
   "cell_type": "code",
   "execution_count": null,
   "id": "d4be5ff4",
   "metadata": {},
   "outputs": [],
   "source": []
  },
  {
   "cell_type": "markdown",
   "id": "77afdff1",
   "metadata": {},
   "source": [
    "# Check to see if normal rest has andersen thermostat"
   ]
  },
  {
   "cell_type": "code",
   "execution_count": 14,
   "id": "b56acc87",
   "metadata": {},
   "outputs": [
    {
     "name": "stdout",
     "output_type": "stream",
     "text": [
      "conducting subsequent work with the following platform: CUDA\n"
     ]
    }
   ],
   "source": [
    "import pickle\n",
    "import os\n",
    "from openeye import oechem\n",
    "from perses.annihilation.rest import RESTTopologyFactory\n",
    "from perses.annihilation.lambda_protocol import RESTState\n",
    "from openmmtools.states import SamplerState, ThermodynamicState, CompoundThermodynamicState\n",
    "from openmmtools import cache, utils\n",
    "from perses.dispersed.utils import configure_platform\n",
    "cache.global_context_cache.platform = configure_platform(utils.get_fastest_platform().getName())\n",
    "from simtk import openmm, unit\n",
    "import math\n",
    "from openmmtools.constants import kB\n",
    "from openmmtools import mcmc, multistate\n",
    "import argparse\n",
    "import copy\n",
    "from perses.dispersed import feptasks\n",
    "import mdtraj as md\n",
    "import numpy as np\n",
    "from perses.app.relative_point_mutation_setup import PointMutationExecutor\n"
   ]
  },
  {
   "cell_type": "code",
   "execution_count": 15,
   "id": "2e23065c",
   "metadata": {},
   "outputs": [],
   "source": [
    "phase = 'apo'\n",
    "name = \"arg\"\n",
    "state = 0\n",
    "\n",
    "length = 1\n",
    "move_length = 1\n",
    "timestep = 4\n",
    "radius = 0.4\n",
    "\n",
    "outdir = \"/data/chodera/zhangi/perses_benchmark/neq/20/30/\""
   ]
  },
  {
   "cell_type": "code",
   "execution_count": 16,
   "id": "3a7bc22d",
   "metadata": {},
   "outputs": [],
   "source": [
    "# Load rhtf\n",
    "i = os.path.basename(os.path.dirname(outdir))\n",
    "path = os.path.join(outdir, f\"{i}_{phase}_{state}.pickle\")\n",
    "htf = pickle.load(open(path, \"rb\" ))\n",
    "\n"
   ]
  },
  {
   "cell_type": "code",
   "execution_count": 17,
   "id": "b36e916e",
   "metadata": {},
   "outputs": [
    {
     "name": "stderr",
     "output_type": "stream",
     "text": [
      "INFO:REST:Added MonteCarloBarostat.\n",
      "INFO:REST:getDefaultPeriodicBoxVectors added to hybrid: [Quantity(value=Vec3(x=6.2004, y=0.0, z=0.0), unit=nanometer), Quantity(value=Vec3(x=0.0, y=6.2004, z=0.0), unit=nanometer), Quantity(value=Vec3(x=0.0, y=0.0, z=6.2004), unit=nanometer)]\n",
      "INFO:REST:No unknown forces.\n"
     ]
    }
   ],
   "source": [
    "# Build REST factory\n",
    "for res in htf.hybrid_topology.residues:\n",
    "    if res.resSeq == 83 and res.chain.index == 0:\n",
    "        mutated_res = res\n",
    "query_indices = [atom.index for atom in mutated_res.atoms]\n",
    "traj = md.Trajectory(np.array(htf.hybrid_positions), htf.hybrid_topology)\n",
    "solute_atoms = list(traj.topology.select(\"is_protein\"))\n",
    "rest_atoms = list(md.compute_neighbors(traj, radius, query_indices, haystack_indices=solute_atoms)[0])\n",
    "factory = RESTTopologyFactory(htf.hybrid_system, solute_region=rest_atoms, use_dispersion_correction=True)"
   ]
  },
  {
   "cell_type": "code",
   "execution_count": 18,
   "id": "035fe1dc",
   "metadata": {},
   "outputs": [],
   "source": [
    "# Get REST system\n",
    "REST_system = factory.REST_system\n",
    "\n",
    "# Create states for each replica\n",
    "n_replicas = 12  # Number of temperature replicas.\n",
    "T_min = 300.0 * unit.kelvin  # Minimum temperature.\n",
    "T_max = 1200 * unit.kelvin  # Maximum temperature.\n",
    "temperatures = [T_min + (T_max - T_min) * (math.exp(float(i) / float(n_replicas-1)) - 1.0) / (math.e - 1.0)\n",
    "                for i in range(n_replicas)]\n",
    "\n",
    "# Create reference thermodynamic state\n",
    "lambda_zero_alchemical_state = RESTState.from_system(REST_system)\n",
    "thermostate = ThermodynamicState(REST_system, temperature=T_min)\n",
    "compound_thermodynamic_state = CompoundThermodynamicState(thermostate, composable_states=[lambda_zero_alchemical_state])"
   ]
  },
  {
   "cell_type": "code",
   "execution_count": 6,
   "id": "6b46c9e6",
   "metadata": {},
   "outputs": [
    {
     "ename": "ThermodynamicsError",
     "evalue": "System does not have a thermostat specifying the temperature.",
     "output_type": "error",
     "traceback": [
      "\u001b[0;31m--------------------------------------------------------\u001b[0m",
      "\u001b[0;31mThermodynamicsError\u001b[0m    Traceback (most recent call last)",
      "\u001b[0;32m<ipython-input-6-55785ff1338c>\u001b[0m in \u001b[0;36m<module>\u001b[0;34m\u001b[0m\n\u001b[0;32m----> 1\u001b[0;31m \u001b[0mthermostate\u001b[0m\u001b[0;34m.\u001b[0m\u001b[0mset_system\u001b[0m\u001b[0;34m(\u001b[0m\u001b[0mREST_system\u001b[0m\u001b[0;34m)\u001b[0m\u001b[0;34m\u001b[0m\u001b[0;34m\u001b[0m\u001b[0m\n\u001b[0m",
      "\u001b[0;32m~/miniconda3/envs/perses-rest2v2/lib/python3.8/site-packages/openmmtools/states.py\u001b[0m in \u001b[0;36mset_system\u001b[0;34m(self, system, fix_state)\u001b[0m\n\u001b[1;32m    586\u001b[0m         \u001b[0;31m# Copy the system to avoid modifications during standardization.\u001b[0m\u001b[0;34m\u001b[0m\u001b[0;34m\u001b[0m\u001b[0;34m\u001b[0m\u001b[0m\n\u001b[1;32m    587\u001b[0m         \u001b[0msystem\u001b[0m \u001b[0;34m=\u001b[0m \u001b[0mcopy\u001b[0m\u001b[0;34m.\u001b[0m\u001b[0mdeepcopy\u001b[0m\u001b[0;34m(\u001b[0m\u001b[0msystem\u001b[0m\u001b[0;34m)\u001b[0m\u001b[0;34m\u001b[0m\u001b[0;34m\u001b[0m\u001b[0m\n\u001b[0;32m--> 588\u001b[0;31m         \u001b[0mself\u001b[0m\u001b[0;34m.\u001b[0m\u001b[0m_unsafe_set_system\u001b[0m\u001b[0;34m(\u001b[0m\u001b[0msystem\u001b[0m\u001b[0;34m,\u001b[0m \u001b[0mfix_state\u001b[0m\u001b[0;34m)\u001b[0m\u001b[0;34m\u001b[0m\u001b[0;34m\u001b[0m\u001b[0m\n\u001b[0m\u001b[1;32m    589\u001b[0m \u001b[0;34m\u001b[0m\u001b[0m\n\u001b[1;32m    590\u001b[0m     \u001b[0;32mdef\u001b[0m \u001b[0mget_system\u001b[0m\u001b[0;34m(\u001b[0m\u001b[0mself\u001b[0m\u001b[0;34m,\u001b[0m \u001b[0mremove_thermostat\u001b[0m\u001b[0;34m=\u001b[0m\u001b[0;32mFalse\u001b[0m\u001b[0;34m,\u001b[0m \u001b[0mremove_barostat\u001b[0m\u001b[0;34m=\u001b[0m\u001b[0;32mFalse\u001b[0m\u001b[0;34m)\u001b[0m\u001b[0;34m:\u001b[0m\u001b[0;34m\u001b[0m\u001b[0;34m\u001b[0m\u001b[0m\n",
      "\u001b[0;32m~/miniconda3/envs/perses-rest2v2/lib/python3.8/site-packages/openmmtools/states.py\u001b[0m in \u001b[0;36m_unsafe_set_system\u001b[0;34m(self, system, fix_state)\u001b[0m\n\u001b[1;32m   1382\u001b[0m             \u001b[0;31m# If the flag is deactivated, we check that temperature\u001b[0m\u001b[0;34m\u001b[0m\u001b[0;34m\u001b[0m\u001b[0;34m\u001b[0m\u001b[0m\n\u001b[1;32m   1383\u001b[0m             \u001b[0;31m# pressure, and surface tension of the system are correct.\u001b[0m\u001b[0;34m\u001b[0m\u001b[0;34m\u001b[0m\u001b[0;34m\u001b[0m\u001b[0m\n\u001b[0;32m-> 1384\u001b[0;31m             \u001b[0mself\u001b[0m\u001b[0;34m.\u001b[0m\u001b[0m_check_system_consistency\u001b[0m\u001b[0;34m(\u001b[0m\u001b[0msystem\u001b[0m\u001b[0;34m)\u001b[0m\u001b[0;34m\u001b[0m\u001b[0;34m\u001b[0m\u001b[0m\n\u001b[0m\u001b[1;32m   1385\u001b[0m \u001b[0;34m\u001b[0m\u001b[0m\n\u001b[1;32m   1386\u001b[0m         \u001b[0;31m# Update standard system.\u001b[0m\u001b[0;34m\u001b[0m\u001b[0;34m\u001b[0m\u001b[0;34m\u001b[0m\u001b[0m\n",
      "\u001b[0;32m~/miniconda3/envs/perses-rest2v2/lib/python3.8/site-packages/openmmtools/states.py\u001b[0m in \u001b[0;36m_check_system_consistency\u001b[0;34m(self, system)\u001b[0m\n\u001b[1;32m   1416\u001b[0m         \u001b[0;31m# checking the barostat temperature.\u001b[0m\u001b[0;34m\u001b[0m\u001b[0;34m\u001b[0m\u001b[0;34m\u001b[0m\u001b[0m\n\u001b[1;32m   1417\u001b[0m         \u001b[0;32mif\u001b[0m \u001b[0mthermostat\u001b[0m \u001b[0;32mis\u001b[0m \u001b[0;32mNone\u001b[0m\u001b[0;34m:\u001b[0m\u001b[0;34m\u001b[0m\u001b[0;34m\u001b[0m\u001b[0m\n\u001b[0;32m-> 1418\u001b[0;31m             \u001b[0;32mraise\u001b[0m \u001b[0mTE\u001b[0m\u001b[0;34m(\u001b[0m\u001b[0mTE\u001b[0m\u001b[0;34m.\u001b[0m\u001b[0mNO_THERMOSTAT\u001b[0m\u001b[0;34m)\u001b[0m\u001b[0;34m\u001b[0m\u001b[0;34m\u001b[0m\u001b[0m\n\u001b[0m\u001b[1;32m   1419\u001b[0m         elif not utils.is_quantity_close(thermostat.getDefaultTemperature(),\n\u001b[1;32m   1420\u001b[0m                                          self.temperature):\n",
      "\u001b[0;31mThermodynamicsError\u001b[0m: System does not have a thermostat specifying the temperature."
     ]
    }
   ],
   "source": [
    "thermostate.set_system(REST_system)\n"
   ]
  },
  {
   "cell_type": "code",
   "execution_count": 49,
   "id": "7c9f0580",
   "metadata": {},
   "outputs": [
    {
     "data": {
      "text/plain": [
       "[<simtk.openmm.openmm.CustomBondForce; proxy of <Swig Object of type 'OpenMM::CustomBondForce *' at 0x2b23b79e8d20> >,\n",
       " <simtk.openmm.openmm.CustomAngleForce; proxy of <Swig Object of type 'OpenMM::CustomAngleForce *' at 0x2b23b79e8de0> >,\n",
       " <simtk.openmm.openmm.CustomTorsionForce; proxy of <Swig Object of type 'OpenMM::CustomTorsionForce *' at 0x2b23b79e8270> >,\n",
       " <simtk.openmm.openmm.NonbondedForce; proxy of <Swig Object of type 'OpenMM::NonbondedForce *' at 0x2b23b79e8630> >,\n",
       " <simtk.openmm.openmm.MonteCarloBarostat; proxy of <Swig Object of type 'OpenMM::MonteCarloBarostat *' at 0x2b23b79f8240> >,\n",
       " <simtk.openmm.openmm.AndersenThermostat; proxy of <Swig Object of type 'OpenMM::AndersenThermostat *' at 0x2b23b79f8360> >]"
      ]
     },
     "execution_count": 49,
     "metadata": {},
     "output_type": "execute_result"
    }
   ],
   "source": [
    "thermostate.system.getForces()\n"
   ]
  },
  {
   "cell_type": "code",
   "execution_count": 43,
   "id": "0e398f8e",
   "metadata": {},
   "outputs": [],
   "source": [
    "thermostate._remove_thermostat(thermostate._standard_system)\n"
   ]
  },
  {
   "cell_type": "code",
   "execution_count": 33,
   "id": "2ab7a9df",
   "metadata": {},
   "outputs": [
    {
     "data": {
      "text/plain": [
       "[<simtk.openmm.openmm.MonteCarloBarostat; proxy of <Swig Object of type 'OpenMM::MonteCarloBarostat *' at 0x2b2393ca8330> >,\n",
       " <simtk.openmm.openmm.CustomBondForce; proxy of <Swig Object of type 'OpenMM::CustomBondForce *' at 0x2b2393ca8630> >,\n",
       " <simtk.openmm.openmm.CustomAngleForce; proxy of <Swig Object of type 'OpenMM::CustomAngleForce *' at 0x2b2393ca8210> >,\n",
       " <simtk.openmm.openmm.CustomTorsionForce; proxy of <Swig Object of type 'OpenMM::CustomTorsionForce *' at 0x2b238ecadae0> >,\n",
       " <simtk.openmm.openmm.NonbondedForce; proxy of <Swig Object of type 'OpenMM::NonbondedForce *' at 0x2b23846b0210> >]"
      ]
     },
     "execution_count": 33,
     "metadata": {},
     "output_type": "execute_result"
    }
   ],
   "source": [
    "REST_system.getForces()\n"
   ]
  },
  {
   "cell_type": "code",
   "execution_count": 42,
   "id": "eabc0d26",
   "metadata": {},
   "outputs": [],
   "source": [
    "# Create thermodynamics states\n",
    "sampler_state =  SamplerState(htf.hybrid_positions, box_vectors=htf.hybrid_system.\n",
    "getDefaultPeriodicBoxVectors())\n",
    "beta_0 = 1/(kB*T_min)\n",
    "thermodynamic_state_list = []\n",
    "sampler_state_list = []\n",
    "for temperature in temperatures:\n",
    "    beta_m = 1/(kB*temperature)\n",
    "    compound_thermodynamic_state_copy = copy.deepcopy(compound_thermodynamic_state)\n",
    "    compound_thermodynamic_state_copy.set_alchemical_parameters(beta_0, beta_m)\n",
    "    thermodynamic_state_list.append(compound_thermodynamic_state_copy)\n",
    "\n",
    "    # now generating a sampler_state for each thermodynamic state, with relaxed positions\n",
    "    # context, context_integrator = context_cache.get_context(compound_thermodynamic_state_copy)\n",
    "    feptasks.minimize(compound_thermodynamic_state_copy, sampler_state, max_iterations=0)\n",
    "    sampler_state_list.append(copy.deepcopy(sampler_state))\n"
   ]
  },
  {
   "cell_type": "code",
   "execution_count": 23,
   "id": "7b0aab7a",
   "metadata": {
    "scrolled": true
   },
   "outputs": [
    {
     "data": {
      "text/plain": [
       "[<simtk.openmm.openmm.CustomBondForce; proxy of <Swig Object of type 'OpenMM::CustomBondForce *' at 0x2b5569e0c210> >,\n",
       " <simtk.openmm.openmm.CustomAngleForce; proxy of <Swig Object of type 'OpenMM::CustomAngleForce *' at 0x2b5569e0c060> >,\n",
       " <simtk.openmm.openmm.CustomTorsionForce; proxy of <Swig Object of type 'OpenMM::CustomTorsionForce *' at 0x2b54de8d7960> >,\n",
       " <simtk.openmm.openmm.NonbondedForce; proxy of <Swig Object of type 'OpenMM::NonbondedForce *' at 0x2b5569e01de0> >,\n",
       " <simtk.openmm.openmm.AndersenThermostat; proxy of <Swig Object of type 'OpenMM::AndersenThermostat *' at 0x2b5569e01cf0> >,\n",
       " <simtk.openmm.openmm.MonteCarloBarostat; proxy of <Swig Object of type 'OpenMM::MonteCarloBarostat *' at 0x2b5569e01f00> >]"
      ]
     },
     "execution_count": 23,
     "metadata": {},
     "output_type": "execute_result"
    }
   ],
   "source": [
    "thermodynamic_state_list[0].get_system().getForces()\n"
   ]
  },
  {
   "cell_type": "code",
   "execution_count": 9,
   "id": "6277e1c4",
   "metadata": {},
   "outputs": [],
   "source": [
    "import openmmtools"
   ]
  },
  {
   "cell_type": "code",
   "execution_count": 12,
   "id": "cdd382cd",
   "metadata": {},
   "outputs": [],
   "source": [
    "context_cache = cache.global_context_cache"
   ]
  },
  {
   "cell_type": "code",
   "execution_count": 29,
   "id": "4a7fffe9",
   "metadata": {},
   "outputs": [],
   "source": [
    "integrator = openmmtools.integrators.LangevinIntegrator(temperature=300 * unit.kelvin,\n",
    "                                              collision_rate=1 / unit.picoseconds,\n",
    "                                              timestep= 4 * unit.femtoseconds)"
   ]
  },
  {
   "cell_type": "code",
   "execution_count": 20,
   "id": "b039db90",
   "metadata": {},
   "outputs": [],
   "source": [
    "context, integrator = context_cache.get_context(thermodynamic_state_list[0], integrator)\n"
   ]
  },
  {
   "cell_type": "code",
   "execution_count": 22,
   "id": "58d56251",
   "metadata": {},
   "outputs": [
    {
     "data": {
      "text/plain": [
       "[<simtk.openmm.openmm.CustomBondForce; proxy of <Swig Object of type 'OpenMM::CustomBondForce *' at 0x2b5569e0cae0> >,\n",
       " <simtk.openmm.openmm.CustomAngleForce; proxy of <Swig Object of type 'OpenMM::CustomAngleForce *' at 0x2b5569e0c420> >,\n",
       " <simtk.openmm.openmm.CustomTorsionForce; proxy of <Swig Object of type 'OpenMM::CustomTorsionForce *' at 0x2b5569e0ca80> >,\n",
       " <simtk.openmm.openmm.NonbondedForce; proxy of <Swig Object of type 'OpenMM::NonbondedForce *' at 0x2b5569e0cb40> >,\n",
       " <simtk.openmm.openmm.MonteCarloBarostat; proxy of <Swig Object of type 'OpenMM::MonteCarloBarostat *' at 0x2b5569e0ccc0> >]"
      ]
     },
     "execution_count": 22,
     "metadata": {},
     "output_type": "execute_result"
    }
   ],
   "source": [
    "context.getSystem().getForces()"
   ]
  },
  {
   "cell_type": "code",
   "execution_count": 30,
   "id": "89396f8f",
   "metadata": {},
   "outputs": [],
   "source": [
    "context = thermodynamic_state_list[0].create_context(integrator)"
   ]
  },
  {
   "cell_type": "code",
   "execution_count": 31,
   "id": "3d0a8337",
   "metadata": {},
   "outputs": [
    {
     "data": {
      "text/plain": [
       "[<simtk.openmm.openmm.CustomBondForce; proxy of <Swig Object of type 'OpenMM::CustomBondForce *' at 0x2b556a12d660> >,\n",
       " <simtk.openmm.openmm.CustomAngleForce; proxy of <Swig Object of type 'OpenMM::CustomAngleForce *' at 0x2b556a12d600> >,\n",
       " <simtk.openmm.openmm.CustomTorsionForce; proxy of <Swig Object of type 'OpenMM::CustomTorsionForce *' at 0x2b556a12d780> >,\n",
       " <simtk.openmm.openmm.NonbondedForce; proxy of <Swig Object of type 'OpenMM::NonbondedForce *' at 0x2b5569deced0> >,\n",
       " <simtk.openmm.openmm.MonteCarloBarostat; proxy of <Swig Object of type 'OpenMM::MonteCarloBarostat *' at 0x2b5569dec720> >]"
      ]
     },
     "execution_count": 31,
     "metadata": {},
     "output_type": "execute_result"
    }
   ],
   "source": [
    "context.getSystem().getForces()"
   ]
  },
  {
   "cell_type": "markdown",
   "id": "b4392b56",
   "metadata": {},
   "source": [
    "## Try running vanilla MD on the first thermostate and see if the problem happens"
   ]
  },
  {
   "cell_type": "code",
   "execution_count": 13,
   "id": "7119fbbe",
   "metadata": {},
   "outputs": [],
   "source": [
    "from tqdm import tqdm_notebook\n",
    "import openmmtools"
   ]
  },
  {
   "cell_type": "code",
   "execution_count": 2,
   "id": "a3e6abbc",
   "metadata": {},
   "outputs": [
    {
     "name": "stderr",
     "output_type": "stream",
     "text": [
      "INFO:numexpr.utils:Note: NumExpr detected 48 cores but \"NUMEXPR_MAX_THREADS\" not set, so enforcing safe limit of 8.\n",
      "INFO:numexpr.utils:NumExpr defaulting to 8 threads.\n"
     ]
    },
    {
     "name": "stdout",
     "output_type": "stream",
     "text": [
      "conducting subsequent work with the following platform: CUDA\n"
     ]
    },
    {
     "name": "stderr",
     "output_type": "stream",
     "text": [
      "INFO:rdkit:Enabling RDKit 2021.03.3 jupyter extensions\n"
     ]
    }
   ],
   "source": [
    "import pickle\n",
    "import os\n",
    "from openeye import oechem\n",
    "from perses.annihilation.rest import RESTTopologyFactoryV2\n",
    "from perses.annihilation.lambda_protocol import RESTStateV2\n",
    "from openmmtools.states import SamplerState, ThermodynamicState, CompoundThermodynamicState\n",
    "from openmmtools import cache, utils\n",
    "from perses.dispersed.utils import configure_platform\n",
    "# cache.global_context_cache.platform = configure_platform(utils.get_fastest_platform().getName())\n",
    "from simtk import openmm, unit\n",
    "import math\n",
    "from openmmtools.constants import kB\n",
    "from openmmtools import mcmc, multistate\n",
    "import argparse\n",
    "import copy\n",
    "from perses.dispersed import feptasks\n",
    "import mdtraj as md\n",
    "import numpy as np\n",
    "from perses.app.relative_point_mutation_setup import PointMutationExecutor\n"
   ]
  },
  {
   "cell_type": "code",
   "execution_count": 3,
   "id": "7d84cd54",
   "metadata": {},
   "outputs": [],
   "source": [
    "phase = 'apo'\n",
    "name = \"arg\"\n",
    "state = 0\n",
    "\n",
    "length = 1\n",
    "move_length = 1\n",
    "timestep = 4\n",
    "radius = 0.4\n",
    "\n",
    "outdir = \"/data/chodera/zhangi/perses_benchmark/neq/20/30/\""
   ]
  },
  {
   "cell_type": "code",
   "execution_count": 4,
   "id": "26bdf0d4",
   "metadata": {},
   "outputs": [],
   "source": [
    "# Load rhtf\n",
    "i = os.path.basename(os.path.dirname(outdir))\n",
    "path = os.path.join(outdir, f\"{i}_{phase}_{state}.pickle\")\n",
    "htf = pickle.load(open(path, \"rb\" ))\n",
    "\n"
   ]
  },
  {
   "cell_type": "code",
   "execution_count": 5,
   "id": "dc48030d",
   "metadata": {},
   "outputs": [
    {
     "name": "stderr",
     "output_type": "stream",
     "text": [
      "INFO:REST:Added MonteCarloBarostat.\n",
      "INFO:REST:getDefaultPeriodicBoxVectors added to hybrid: [Quantity(value=Vec3(x=6.2004, y=0.0, z=0.0), unit=nanometer), Quantity(value=Vec3(x=0.0, y=6.2004, z=0.0), unit=nanometer), Quantity(value=Vec3(x=0.0, y=0.0, z=6.2004), unit=nanometer)]\n",
      "INFO:REST:No unknown forces.\n",
      "INFO:REST:Handling constraints\n",
      "INFO:REST:Handling bonds\n",
      "INFO:REST:Handling angles\n",
      "INFO:REST:Handling torsions\n",
      "INFO:REST:Handling nonbondeds\n",
      "INFO:REST:Handling nonbonded scaling (custom nb)\n",
      "INFO:REST:Handling nonbonded exception scaling (custom bond)\n"
     ]
    }
   ],
   "source": [
    "# Build REST factory\n",
    "for res in htf.hybrid_topology.residues:\n",
    "    if res.resSeq == 83 and res.chain.index == 0:\n",
    "        mutated_res = res\n",
    "query_indices = [atom.index for atom in mutated_res.atoms]\n",
    "traj = md.Trajectory(np.array(htf.hybrid_positions), htf.hybrid_topology)\n",
    "solute_atoms = list(traj.topology.select(\"is_protein\"))\n",
    "rest_atoms = list(md.compute_neighbors(traj, radius, query_indices, haystack_indices=solute_atoms)[0])\n",
    "factory = RESTTopologyFactoryV2(htf.hybrid_system, htf.hybrid_topology, rest_region=rest_atoms, use_dispersion_correction=True)"
   ]
  },
  {
   "cell_type": "code",
   "execution_count": 6,
   "id": "95824802",
   "metadata": {},
   "outputs": [],
   "source": [
    "# Get REST system\n",
    "REST_system = factory.REST_system\n",
    "\n",
    "# Create states for each replica\n",
    "n_replicas = 12  # Number of temperature replicas.\n",
    "T_min = 300.0 * unit.kelvin  # Minimum temperature.\n",
    "T_max = 1200 * unit.kelvin  # Maximum temperature.\n",
    "temperatures = [T_min + (T_max - T_min) * (math.exp(float(i) / float(n_replicas-1)) - 1.0) / (math.e - 1.0)\n",
    "                for i in range(n_replicas)]\n",
    "\n",
    "# Create reference thermodynamic state\n",
    "lambda_zero_alchemical_state = RESTStateV2.from_system(REST_system)\n",
    "thermostate = ThermodynamicState(REST_system, temperature=T_min)\n",
    "compound_thermodynamic_state = CompoundThermodynamicState(thermostate, composable_states=[lambda_zero_alchemical_state])"
   ]
  },
  {
   "cell_type": "code",
   "execution_count": 7,
   "id": "f5ef21ce",
   "metadata": {},
   "outputs": [
    {
     "data": {
      "text/plain": [
       "[<simtk.openmm.openmm.MonteCarloBarostat; proxy of <Swig Object of type 'OpenMM::MonteCarloBarostat *' at 0x2b15f70d9c00> >,\n",
       " <simtk.openmm.openmm.CustomBondForce; proxy of <Swig Object of type 'OpenMM::CustomBondForce *' at 0x2b15f70d9f90> >,\n",
       " <simtk.openmm.openmm.CustomAngleForce; proxy of <Swig Object of type 'OpenMM::CustomAngleForce *' at 0x2b1680108f30> >,\n",
       " <simtk.openmm.openmm.CustomTorsionForce; proxy of <Swig Object of type 'OpenMM::CustomTorsionForce *' at 0x2b16801089c0> >,\n",
       " <simtk.openmm.openmm.NonbondedForce; proxy of <Swig Object of type 'OpenMM::NonbondedForce *' at 0x2b15f6e7b690> >,\n",
       " <simtk.openmm.openmm.CustomNonbondedForce; proxy of <Swig Object of type 'OpenMM::CustomNonbondedForce *' at 0x2b15f6e7b630> >,\n",
       " <simtk.openmm.openmm.CustomBondForce; proxy of <Swig Object of type 'OpenMM::CustomBondForce *' at 0x2b15f6e7b0c0> >]"
      ]
     },
     "execution_count": 7,
     "metadata": {},
     "output_type": "execute_result"
    }
   ],
   "source": [
    "REST_system.getForces()"
   ]
  },
  {
   "cell_type": "code",
   "execution_count": 8,
   "id": "cb8a6107",
   "metadata": {},
   "outputs": [],
   "source": [
    "# Create thermodynamics states\n",
    "sampler_state =  SamplerState(htf.hybrid_positions, box_vectors=htf.hybrid_system.\n",
    "getDefaultPeriodicBoxVectors())\n",
    "beta_0 = 1/(kB*T_min)\n",
    "thermodynamic_state_list = []\n",
    "sampler_state_list = []\n",
    "for temperature in temperatures:\n",
    "    beta_m = 1/(kB*temperature)\n",
    "    compound_thermodynamic_state_copy = copy.deepcopy(compound_thermodynamic_state)\n",
    "    compound_thermodynamic_state_copy.set_alchemical_parameters(beta_0, beta_m)\n",
    "    thermodynamic_state_list.append(compound_thermodynamic_state_copy)\n",
    "\n",
    "    # now generating a sampler_state for each thermodynamic state, with relaxed positions\n",
    "    # context, context_integrator = context_cache.get_context(compound_thermodynamic_state_copy)\n",
    "    feptasks.minimize(compound_thermodynamic_state_copy, sampler_state, max_iterations=0)\n",
    "    sampler_state_list.append(copy.deepcopy(sampler_state))\n"
   ]
  },
  {
   "cell_type": "code",
   "execution_count": 9,
   "id": "7489b211",
   "metadata": {
    "scrolled": true
   },
   "outputs": [
    {
     "data": {
      "text/plain": [
       "[<simtk.openmm.openmm.CustomBondForce; proxy of <Swig Object of type 'OpenMM::CustomBondForce *' at 0x2b167100a570> >,\n",
       " <simtk.openmm.openmm.CustomAngleForce; proxy of <Swig Object of type 'OpenMM::CustomAngleForce *' at 0x2b167100a4b0> >,\n",
       " <simtk.openmm.openmm.CustomTorsionForce; proxy of <Swig Object of type 'OpenMM::CustomTorsionForce *' at 0x2b15f6e704e0> >,\n",
       " <simtk.openmm.openmm.NonbondedForce; proxy of <Swig Object of type 'OpenMM::NonbondedForce *' at 0x2b167dcf8540> >,\n",
       " <simtk.openmm.openmm.CustomNonbondedForce; proxy of <Swig Object of type 'OpenMM::CustomNonbondedForce *' at 0x2b167dcf84e0> >,\n",
       " <simtk.openmm.openmm.CustomBondForce; proxy of <Swig Object of type 'OpenMM::CustomBondForce *' at 0x2b167dcf8360> >,\n",
       " <simtk.openmm.openmm.AndersenThermostat; proxy of <Swig Object of type 'OpenMM::AndersenThermostat *' at 0x2b167dcf8390> >,\n",
       " <simtk.openmm.openmm.MonteCarloBarostat; proxy of <Swig Object of type 'OpenMM::MonteCarloBarostat *' at 0x2b167dcf83c0> >]"
      ]
     },
     "execution_count": 9,
     "metadata": {},
     "output_type": "execute_result"
    }
   ],
   "source": [
    "thermodynamic_state_list[0].get_system().getForces()"
   ]
  },
  {
   "cell_type": "code",
   "execution_count": 10,
   "id": "c5494601",
   "metadata": {},
   "outputs": [],
   "source": [
    "context_cache = cache.global_context_cache"
   ]
  },
  {
   "cell_type": "code",
   "execution_count": 14,
   "id": "bee9682b",
   "metadata": {},
   "outputs": [],
   "source": [
    "integrator = openmmtools.integrators.LangevinIntegrator(temperature=300 * unit.kelvin,\n",
    "                                              collision_rate=1 / unit.picoseconds,\n",
    "                                              timestep= 4 * unit.femtoseconds)"
   ]
  },
  {
   "cell_type": "code",
   "execution_count": 15,
   "id": "346c38b1",
   "metadata": {},
   "outputs": [],
   "source": [
    "context, integrator = context_cache.get_context(thermodynamic_state_list[0], integrator)\n"
   ]
  },
  {
   "cell_type": "code",
   "execution_count": 16,
   "id": "5c9ea7ec",
   "metadata": {},
   "outputs": [
    {
     "data": {
      "text/plain": [
       "'CUDA'"
      ]
     },
     "execution_count": 16,
     "metadata": {},
     "output_type": "execute_result"
    }
   ],
   "source": [
    "context.getPlatform().getName()"
   ]
  },
  {
   "cell_type": "code",
   "execution_count": 17,
   "id": "1847ac9d",
   "metadata": {},
   "outputs": [],
   "source": [
    "sampler_state_list[0].apply_to_context(context)"
   ]
  },
  {
   "cell_type": "code",
   "execution_count": null,
   "id": "643537ca",
   "metadata": {},
   "outputs": [
    {
     "name": "stderr",
     "output_type": "stream",
     "text": [
      "<ipython-input-18-10919d5420ff>:3: TqdmDeprecationWarning: This function will be removed in tqdm==5.0.0\n",
      "Please use `tqdm.notebook.tqdm` instead of `tqdm.tqdm_notebook`\n",
      "  for _ in tqdm_notebook(range(int(125000/250))):\n"
     ]
    },
    {
     "data": {
      "application/vnd.jupyter.widget-view+json": {
       "model_id": "9b8609b7566649b7838d2c833e1572ed",
       "version_major": 2,
       "version_minor": 0
      },
      "text/plain": [
       "  0%|          | 0/500 [00:00<?, ?it/s]"
      ]
     },
     "metadata": {},
     "output_type": "display_data"
    }
   ],
   "source": [
    "old, new = list(), list()\n",
    "energies = list()\n",
    "for _ in tqdm_notebook(range(int(125000/250))):\n",
    "    integrator.step(250)\n",
    "    \n",
    "    energy = context.getState(getEnergy=True).getPotentialEnergy()\n",
    "    energies.append(energy)\n",
    "    pos = context.getState(getPositions=True, enforcePeriodicBox=False).getPositions(asNumpy=True)\n",
    "    old_pos = np.asarray(htf.old_positions(pos))\n",
    "    new_pos = np.asarray(htf.new_positions(pos))\n",
    "    old.append(old_pos)\n",
    "    new.append(new_pos)"
   ]
  },
  {
   "cell_type": "code",
   "execution_count": null,
   "id": "fb21eeef",
   "metadata": {},
   "outputs": [],
   "source": [
    "with open(\"old.npy\", 'wb') as f:\n",
    "    np.save(f, old)\n",
    "with open(\"new.npy\", 'wb') as f:\n",
    "    np.save(f, new)"
   ]
  },
  {
   "cell_type": "code",
   "execution_count": null,
   "id": "c0689ef2",
   "metadata": {},
   "outputs": [],
   "source": [
    "import mdtraj as md"
   ]
  },
  {
   "cell_type": "code",
   "execution_count": null,
   "id": "d4308533",
   "metadata": {},
   "outputs": [],
   "source": [
    "traj = md.Trajectory(np.array(old), md.Topology.from_openmm(htf._topology_proposal.old_topology))\n",
    "traj.save(\"old.dcd\")\n",
    "traj[0].save(\"old.pdb\")"
   ]
  },
  {
   "cell_type": "code",
   "execution_count": null,
   "id": "4c0f4b1a",
   "metadata": {},
   "outputs": [],
   "source": [
    "import matplotlib.pyplot as plt"
   ]
  },
  {
   "cell_type": "code",
   "execution_count": null,
   "id": "2e2cf881",
   "metadata": {},
   "outputs": [],
   "source": [
    "plt.plot(energies)"
   ]
  },
  {
   "cell_type": "markdown",
   "id": "ff3c59f0",
   "metadata": {},
   "source": [
    "### Try running at 1200 K thermostate"
   ]
  },
  {
   "cell_type": "code",
   "execution_count": 75,
   "id": "7d597afa",
   "metadata": {},
   "outputs": [],
   "source": [
    "integrator = openmmtools.integrators.LangevinIntegrator(temperature=300 * unit.kelvin,\n",
    "                                              collision_rate=1 / unit.picoseconds,\n",
    "                                              timestep= 4 * unit.femtoseconds)"
   ]
  },
  {
   "cell_type": "code",
   "execution_count": 76,
   "id": "e4724cac",
   "metadata": {},
   "outputs": [],
   "source": [
    "context, integrator = context_cache.get_context(thermodynamic_state_list[-1], integrator)\n"
   ]
  },
  {
   "cell_type": "code",
   "execution_count": 77,
   "id": "952d1195",
   "metadata": {},
   "outputs": [
    {
     "data": {
      "text/plain": [
       "'CUDA'"
      ]
     },
     "execution_count": 77,
     "metadata": {},
     "output_type": "execute_result"
    }
   ],
   "source": [
    "context.getPlatform().getName()"
   ]
  },
  {
   "cell_type": "code",
   "execution_count": 78,
   "id": "a4bfdc0e",
   "metadata": {},
   "outputs": [],
   "source": [
    "sampler_state_list[-1].apply_to_context(context)"
   ]
  },
  {
   "cell_type": "code",
   "execution_count": 79,
   "id": "e862b920",
   "metadata": {},
   "outputs": [
    {
     "name": "stderr",
     "output_type": "stream",
     "text": [
      "<ipython-input-79-47909b2499b6>:2: TqdmDeprecationWarning: This function will be removed in tqdm==5.0.0\n",
      "Please use `tqdm.notebook.tqdm` instead of `tqdm.tqdm_notebook`\n",
      "  for _ in tqdm_notebook(range(int(125000/250))):\n"
     ]
    },
    {
     "data": {
      "application/vnd.jupyter.widget-view+json": {
       "model_id": "831580008f544030b0df8c6f3de31f41",
       "version_major": 2,
       "version_minor": 0
      },
      "text/plain": [
       "  0%|          | 0/500 [00:00<?, ?it/s]"
      ]
     },
     "metadata": {},
     "output_type": "display_data"
    }
   ],
   "source": [
    "old, new = list(), list()\n",
    "for _ in tqdm_notebook(range(int(125000/250))):\n",
    "    integrator.step(250)\n",
    "    \n",
    "    pos = context.getState(getPositions=True, enforcePeriodicBox=False).getPositions(asNumpy=True)\n",
    "    old_pos = np.asarray(htf.old_positions(pos))\n",
    "    new_pos = np.asarray(htf.new_positions(pos))\n",
    "    old.append(old_pos)\n",
    "    new.append(new_pos)"
   ]
  },
  {
   "cell_type": "code",
   "execution_count": 80,
   "id": "e998fd1d",
   "metadata": {},
   "outputs": [],
   "source": [
    "with open(\"old_1200K.npy\", 'wb') as f:\n",
    "    np.save(f, old)\n",
    "with open(\"new_1200K.npy\", 'wb') as f:\n",
    "    np.save(f, new)"
   ]
  },
  {
   "cell_type": "code",
   "execution_count": 73,
   "id": "2a845426",
   "metadata": {},
   "outputs": [],
   "source": [
    "import mdtraj as md"
   ]
  },
  {
   "cell_type": "code",
   "execution_count": 81,
   "id": "6977d23c",
   "metadata": {},
   "outputs": [],
   "source": [
    "traj = md.Trajectory(np.array(old), md.Topology.from_openmm(htf._topology_proposal.old_topology))\n",
    "traj.save(\"old_1200K.dcd\")\n",
    "traj[0].save(\"old_1200K.pdb\")"
   ]
  },
  {
   "cell_type": "code",
   "execution_count": null,
   "id": "71985457",
   "metadata": {},
   "outputs": [],
   "source": []
  }
 ],
 "metadata": {
  "kernelspec": {
   "display_name": "Python 3 (ipykernel)",
   "language": "python",
   "name": "python3"
  },
  "language_info": {
   "codemirror_mode": {
    "name": "ipython",
    "version": 3
   },
   "file_extension": ".py",
   "mimetype": "text/x-python",
   "name": "python",
   "nbconvert_exporter": "python",
   "pygments_lexer": "ipython3",
   "version": "3.9.7"
  }
 },
 "nbformat": 4,
 "nbformat_minor": 5
}
