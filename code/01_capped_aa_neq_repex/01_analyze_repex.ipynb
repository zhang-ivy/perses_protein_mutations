{
 "cells": [
  {
   "cell_type": "code",
   "execution_count": 1,
   "metadata": {},
   "outputs": [],
   "source": [
    "from perses.analysis import utils\n",
    "from openmmtools.multistate import MultiStateReporter, MultiStateSamplerAnalyzer\n",
    "from simtk import unit\n",
    "import os\n",
    "import itertools\n",
    "from tqdm import tqdm_notebook\n",
    "import pandas as pd\n",
    "import numpy as np\n",
    "import seaborn as sns\n",
    "import matplotlib.pyplot as plt\n"
   ]
  },
  {
   "cell_type": "code",
   "execution_count": 2,
   "metadata": {},
   "outputs": [],
   "source": [
    "import logging\n",
    "logger = logging.getLogger('my-logger')\n",
    "logger.setLevel(logging.WARNING)\n",
    "# logger.propagate = False"
   ]
  },
  {
   "cell_type": "code",
   "execution_count": 14,
   "metadata": {},
   "outputs": [],
   "source": [
    "# Given a path, get dg and ddg\n",
    "def analyze(path):\n",
    "    reporter = MultiStateReporter(path)\n",
    "    analyzer = MultiStateSamplerAnalyzer(reporter)\n",
    "    f_ij, df_ij = analyzer.get_free_energy()\n",
    "    f = f_ij[0,-1] # units = kT\n",
    "#     f = f_ij[0,-1] * analyzer.kT\n",
    "#     dg = f.in_units_of(unit.kilocalories_per_mole)\n",
    "    df = df_ij[0, -1]\n",
    "#     df = df_ij[0, -1] * analyzer.kT\n",
    "#     ddg = df.in_units_of(unit.kilocalories_per_mole)\n",
    "    return f, df\n",
    "\n",
    "def analyze_dom(path):\n",
    "    reporter = MultiStateReporter(path)\n",
    "    ncfile = utils.open_netcdf(path)\n",
    "    n_iterations = ncfile.variables['last_iteration'][0]\n",
    "    dg, ddg = list(), list()\n",
    "    for step in range (1, n_iterations + 1, 50): # add 1 because not 0-indexed\n",
    "        analyzer = MultiStateSamplerAnalyzer(reporter, max_n_iterations=step)\n",
    "        f_ij, df_ij = analyzer.get_free_energy()\n",
    "        dg.append(f_ij[0,-1])\n",
    "        ddg.append(df_ij[0,-1])\n",
    "    # Get final free energy\n",
    "    analyzer = MultiStateSamplerAnalyzer(reporter, max_n_iterations=n_iterations)\n",
    "    f_ij, df_ij = analyzer.get_free_energy()\n",
    "    dg.append(f_ij[0,-1])\n",
    "    ddg.append(df_ij[0,-1])\n",
    "    return dg, ddg"
   ]
  },
  {
   "cell_type": "code",
   "execution_count": 6,
   "metadata": {},
   "outputs": [],
   "source": [
    "# Global variables\n",
    "amino_acids = ['ALA', 'CYS', 'SER', 'THR']\n",
    "\n",
    "# Create list of tuples for every pair of amino acids\n",
    "pairs = list(itertools.permutations(amino_acids, r=2))"
   ]
  },
  {
   "cell_type": "markdown",
   "metadata": {},
   "source": [
    "### New sim data (after dir structure reorg and regenerating htfs) -- non default electrostatics"
   ]
  },
  {
   "cell_type": "code",
   "execution_count": null,
   "metadata": {},
   "outputs": [],
   "source": [
    "import pickle\n",
    "for r in [6,7,8]:\n",
    "    d_results = {}\n",
    "    for i in tqdm_notebook(range(12)):\n",
    "        print (f\"dir {i} replicate {r}\")\n",
    "        output_dir = f'/data/chodera/zhangi/perses_benchmark/repex/{r}/{i}/'\n",
    "        solvent_path = os.path.join(output_dir, f\"{i}_solvent.nc\")\n",
    "        vacuum_path = os.path.join(output_dir, f\"{i}_vacuum.nc\")\n",
    "        solvent_dg, solvent_ddg = analyze_dom(solvent_path)\n",
    "        vacuum_dg, vacuum_ddg = analyze_dom(vacuum_path)\n",
    "#         solvation_dg = vacuum_dg[-1] - solvent_dg[-1]\n",
    "#         solvation_ddg = (vacuum_ddg[-1]**2 + solvent_ddg[-1]**2)**0.5\n",
    "        d_results[pairs[i]] = (solvent_dg, solvent_ddg, vacuum_dg, vacuum_ddg)\n",
    "    with open(f'/data/chodera/zhangi/perses_benchmark/repex/{r}/d_results.pickle', 'wb') as f:\n",
    "        pickle.dump(d_results, f)"
   ]
  },
  {
   "cell_type": "code",
   "execution_count": 4,
   "metadata": {},
   "outputs": [],
   "source": [
    "import pickle\n",
    "with open(\"/data/chodera/zhangi/perses_benchmark/repex/6/d_results.pickle\", \"rb\") as f:\n",
    "    d_results_6 = pickle.load(f)"
   ]
  },
  {
   "cell_type": "code",
   "execution_count": 5,
   "metadata": {},
   "outputs": [],
   "source": [
    "import pickle\n",
    "with open(\"/data/chodera/zhangi/perses_benchmark/repex/7/d_results.pickle\", \"rb\") as f:\n",
    "    d_results_7 = pickle.load(f)"
   ]
  },
  {
   "cell_type": "code",
   "execution_count": 6,
   "metadata": {},
   "outputs": [],
   "source": [
    "import pickle\n",
    "with open(\"/data/chodera/zhangi/perses_benchmark/repex/8/d_results.pickle\", \"rb\") as f:\n",
    "    d_results_8 = pickle.load(f)"
   ]
  },
  {
   "cell_type": "code",
   "execution_count": 7,
   "metadata": {
    "scrolled": true
   },
   "outputs": [
    {
     "name": "stdout",
     "output_type": "stream",
     "text": [
      "dir 0 rep 6 solvent\n",
      "dir 0 rep 6 vacuum\n",
      "dir 1 rep 6 solvent\n",
      "dir 1 rep 6 vacuum\n",
      "dir 2 rep 6 solvent\n",
      "dir 2 rep 6 vacuum\n",
      "dir 3 rep 6 solvent\n",
      "dir 3 rep 6 vacuum\n",
      "dir 4 rep 6 solvent\n",
      "dir 4 rep 6 vacuum\n",
      "dir 5 rep 6 solvent\n",
      "dir 5 rep 6 vacuum\n",
      "dir 6 rep 6 solvent\n",
      "dir 6 rep 6 vacuum\n",
      "dir 7 rep 6 solvent\n",
      "dir 7 rep 6 vacuum\n",
      "dir 8 rep 6 solvent\n",
      "dir 8 rep 6 vacuum\n",
      "dir 9 rep 6 solvent\n",
      "dir 9 rep 6 vacuum\n",
      "dir 10 rep 6 solvent\n"
     ]
    },
    {
     "name": "stderr",
     "output_type": "stream",
     "text": [
      "/home/zhangi/miniconda3/envs/perses-sims/lib/python3.7/site-packages/perses-0.6.0.dev0-py3.7.egg/perses/analysis/utils.py:66: RuntimeWarning: More than 20 figures have been opened. Figures created through the pyplot interface (`matplotlib.pyplot.figure`) are retained until explicitly closed and may consume too much memory. (To control this warning, see the rcParam `figure.max_open_warning`).\n",
      "  fig, axes = plt.subplots(nrows=n_states, ncols=2, sharex='col',sharey=True,figsize=(15,2*n_states), squeeze=True, gridspec_kw={'width_ratios': [5, 1]})\n"
     ]
    },
    {
     "name": "stdout",
     "output_type": "stream",
     "text": [
      "dir 10 rep 6 vacuum\n",
      "dir 11 rep 6 solvent\n",
      "dir 11 rep 6 vacuum\n",
      "dir 0 rep 7 solvent\n",
      "dir 0 rep 7 vacuum\n",
      "dir 1 rep 7 solvent\n",
      "dir 1 rep 7 vacuum\n",
      "dir 2 rep 7 solvent\n",
      "dir 2 rep 7 vacuum\n",
      "dir 3 rep 7 solvent\n",
      "dir 3 rep 7 vacuum\n",
      "dir 4 rep 7 solvent\n",
      "dir 4 rep 7 vacuum\n",
      "dir 5 rep 7 solvent\n",
      "dir 5 rep 7 vacuum\n",
      "dir 6 rep 7 solvent\n",
      "dir 6 rep 7 vacuum\n",
      "dir 7 rep 7 solvent\n",
      "dir 7 rep 7 vacuum\n",
      "dir 8 rep 7 solvent\n",
      "dir 8 rep 7 vacuum\n",
      "dir 9 rep 7 solvent\n",
      "dir 9 rep 7 vacuum\n",
      "dir 10 rep 7 solvent\n",
      "dir 10 rep 7 vacuum\n",
      "dir 11 rep 7 solvent\n",
      "dir 11 rep 7 vacuum\n",
      "dir 0 rep 8 solvent\n",
      "dir 0 rep 8 vacuum\n",
      "dir 1 rep 8 solvent\n",
      "dir 1 rep 8 vacuum\n",
      "dir 2 rep 8 solvent\n",
      "dir 2 rep 8 vacuum\n",
      "dir 3 rep 8 solvent\n",
      "dir 3 rep 8 vacuum\n",
      "dir 4 rep 8 solvent\n",
      "dir 4 rep 8 vacuum\n",
      "dir 5 rep 8 solvent\n",
      "dir 5 rep 8 vacuum\n",
      "dir 6 rep 8 solvent\n",
      "dir 6 rep 8 vacuum\n",
      "dir 7 rep 8 solvent\n",
      "dir 7 rep 8 vacuum\n",
      "dir 8 rep 8 solvent\n",
      "dir 8 rep 8 vacuum\n",
      "dir 9 rep 8 solvent\n",
      "dir 9 rep 8 vacuum\n",
      "dir 10 rep 8 solvent\n",
      "dir 10 rep 8 vacuum\n",
      "dir 11 rep 8 solvent\n",
      "dir 11 rep 8 vacuum\n"
     ]
    },
    {
     "data": {
      "text/plain": [
       "<Figure size 1080x1584 with 0 Axes>"
      ]
     },
     "metadata": {},
     "output_type": "display_data"
    },
    {
     "data": {
      "text/plain": [
       "<Figure size 1080x1584 with 0 Axes>"
      ]
     },
     "metadata": {},
     "output_type": "display_data"
    },
    {
     "data": {
      "text/plain": [
       "<Figure size 1080x1584 with 0 Axes>"
      ]
     },
     "metadata": {},
     "output_type": "display_data"
    },
    {
     "data": {
      "text/plain": [
       "<Figure size 1080x1584 with 0 Axes>"
      ]
     },
     "metadata": {},
     "output_type": "display_data"
    },
    {
     "data": {
      "text/plain": [
       "<Figure size 1080x1584 with 0 Axes>"
      ]
     },
     "metadata": {},
     "output_type": "display_data"
    },
    {
     "data": {
      "text/plain": [
       "<Figure size 1080x1584 with 0 Axes>"
      ]
     },
     "metadata": {},
     "output_type": "display_data"
    },
    {
     "data": {
      "text/plain": [
       "<Figure size 1080x1584 with 0 Axes>"
      ]
     },
     "metadata": {},
     "output_type": "display_data"
    },
    {
     "data": {
      "text/plain": [
       "<Figure size 1080x1584 with 0 Axes>"
      ]
     },
     "metadata": {},
     "output_type": "display_data"
    },
    {
     "data": {
      "text/plain": [
       "<Figure size 1080x1584 with 0 Axes>"
      ]
     },
     "metadata": {},
     "output_type": "display_data"
    },
    {
     "data": {
      "text/plain": [
       "<Figure size 1080x1584 with 0 Axes>"
      ]
     },
     "metadata": {},
     "output_type": "display_data"
    },
    {
     "data": {
      "text/plain": [
       "<Figure size 1080x1584 with 0 Axes>"
      ]
     },
     "metadata": {},
     "output_type": "display_data"
    },
    {
     "data": {
      "text/plain": [
       "<Figure size 1080x1584 with 0 Axes>"
      ]
     },
     "metadata": {},
     "output_type": "display_data"
    },
    {
     "data": {
      "text/plain": [
       "<Figure size 1080x1584 with 0 Axes>"
      ]
     },
     "metadata": {},
     "output_type": "display_data"
    },
    {
     "data": {
      "text/plain": [
       "<Figure size 1080x1584 with 0 Axes>"
      ]
     },
     "metadata": {},
     "output_type": "display_data"
    },
    {
     "data": {
      "text/plain": [
       "<Figure size 1080x1584 with 0 Axes>"
      ]
     },
     "metadata": {},
     "output_type": "display_data"
    },
    {
     "data": {
      "text/plain": [
       "<Figure size 1080x1584 with 0 Axes>"
      ]
     },
     "metadata": {},
     "output_type": "display_data"
    },
    {
     "data": {
      "text/plain": [
       "<Figure size 1080x1584 with 0 Axes>"
      ]
     },
     "metadata": {},
     "output_type": "display_data"
    },
    {
     "data": {
      "text/plain": [
       "<Figure size 1080x1584 with 0 Axes>"
      ]
     },
     "metadata": {},
     "output_type": "display_data"
    },
    {
     "data": {
      "text/plain": [
       "<Figure size 1080x1584 with 0 Axes>"
      ]
     },
     "metadata": {},
     "output_type": "display_data"
    },
    {
     "data": {
      "text/plain": [
       "<Figure size 1080x1584 with 0 Axes>"
      ]
     },
     "metadata": {},
     "output_type": "display_data"
    },
    {
     "data": {
      "text/plain": [
       "<Figure size 1080x1584 with 0 Axes>"
      ]
     },
     "metadata": {},
     "output_type": "display_data"
    },
    {
     "data": {
      "text/plain": [
       "<Figure size 1080x1584 with 0 Axes>"
      ]
     },
     "metadata": {},
     "output_type": "display_data"
    },
    {
     "data": {
      "text/plain": [
       "<Figure size 1080x1584 with 0 Axes>"
      ]
     },
     "metadata": {},
     "output_type": "display_data"
    },
    {
     "data": {
      "text/plain": [
       "<Figure size 1080x1584 with 0 Axes>"
      ]
     },
     "metadata": {},
     "output_type": "display_data"
    },
    {
     "data": {
      "text/plain": [
       "<Figure size 1080x1584 with 0 Axes>"
      ]
     },
     "metadata": {},
     "output_type": "display_data"
    },
    {
     "data": {
      "text/plain": [
       "<Figure size 1080x1584 with 0 Axes>"
      ]
     },
     "metadata": {},
     "output_type": "display_data"
    },
    {
     "data": {
      "text/plain": [
       "<Figure size 1080x1584 with 0 Axes>"
      ]
     },
     "metadata": {},
     "output_type": "display_data"
    },
    {
     "data": {
      "text/plain": [
       "<Figure size 1080x1584 with 0 Axes>"
      ]
     },
     "metadata": {},
     "output_type": "display_data"
    },
    {
     "data": {
      "text/plain": [
       "<Figure size 1080x1584 with 0 Axes>"
      ]
     },
     "metadata": {},
     "output_type": "display_data"
    },
    {
     "data": {
      "text/plain": [
       "<Figure size 1080x1584 with 0 Axes>"
      ]
     },
     "metadata": {},
     "output_type": "display_data"
    },
    {
     "data": {
      "text/plain": [
       "<Figure size 1080x1584 with 0 Axes>"
      ]
     },
     "metadata": {},
     "output_type": "display_data"
    },
    {
     "data": {
      "text/plain": [
       "<Figure size 1080x1584 with 0 Axes>"
      ]
     },
     "metadata": {},
     "output_type": "display_data"
    },
    {
     "data": {
      "text/plain": [
       "<Figure size 1080x1584 with 0 Axes>"
      ]
     },
     "metadata": {},
     "output_type": "display_data"
    },
    {
     "data": {
      "text/plain": [
       "<Figure size 1080x1584 with 0 Axes>"
      ]
     },
     "metadata": {},
     "output_type": "display_data"
    },
    {
     "data": {
      "text/plain": [
       "<Figure size 1080x1584 with 0 Axes>"
      ]
     },
     "metadata": {},
     "output_type": "display_data"
    },
    {
     "data": {
      "text/plain": [
       "<Figure size 1080x1584 with 0 Axes>"
      ]
     },
     "metadata": {},
     "output_type": "display_data"
    },
    {
     "data": {
      "text/plain": [
       "<Figure size 1080x1584 with 0 Axes>"
      ]
     },
     "metadata": {},
     "output_type": "display_data"
    },
    {
     "data": {
      "text/plain": [
       "<Figure size 1080x1584 with 0 Axes>"
      ]
     },
     "metadata": {},
     "output_type": "display_data"
    },
    {
     "data": {
      "text/plain": [
       "<Figure size 1080x1584 with 0 Axes>"
      ]
     },
     "metadata": {},
     "output_type": "display_data"
    },
    {
     "data": {
      "text/plain": [
       "<Figure size 1080x1584 with 0 Axes>"
      ]
     },
     "metadata": {},
     "output_type": "display_data"
    },
    {
     "data": {
      "text/plain": [
       "<Figure size 1080x1584 with 0 Axes>"
      ]
     },
     "metadata": {},
     "output_type": "display_data"
    },
    {
     "data": {
      "text/plain": [
       "<Figure size 1080x1584 with 0 Axes>"
      ]
     },
     "metadata": {},
     "output_type": "display_data"
    },
    {
     "data": {
      "text/plain": [
       "<Figure size 1080x1584 with 0 Axes>"
      ]
     },
     "metadata": {},
     "output_type": "display_data"
    },
    {
     "data": {
      "text/plain": [
       "<Figure size 1080x1584 with 0 Axes>"
      ]
     },
     "metadata": {},
     "output_type": "display_data"
    },
    {
     "data": {
      "text/plain": [
       "<Figure size 1080x1584 with 0 Axes>"
      ]
     },
     "metadata": {},
     "output_type": "display_data"
    },
    {
     "data": {
      "text/plain": [
       "<Figure size 1080x1584 with 0 Axes>"
      ]
     },
     "metadata": {},
     "output_type": "display_data"
    },
    {
     "data": {
      "text/plain": [
       "<Figure size 1080x1584 with 0 Axes>"
      ]
     },
     "metadata": {},
     "output_type": "display_data"
    },
    {
     "data": {
      "text/plain": [
       "<Figure size 1080x1584 with 0 Axes>"
      ]
     },
     "metadata": {},
     "output_type": "display_data"
    },
    {
     "data": {
      "text/plain": [
       "<Figure size 1080x1584 with 0 Axes>"
      ]
     },
     "metadata": {},
     "output_type": "display_data"
    },
    {
     "data": {
      "text/plain": [
       "<Figure size 1080x1584 with 0 Axes>"
      ]
     },
     "metadata": {},
     "output_type": "display_data"
    },
    {
     "data": {
      "text/plain": [
       "<Figure size 1080x1584 with 0 Axes>"
      ]
     },
     "metadata": {},
     "output_type": "display_data"
    },
    {
     "data": {
      "text/plain": [
       "<Figure size 1080x1584 with 0 Axes>"
      ]
     },
     "metadata": {},
     "output_type": "display_data"
    },
    {
     "data": {
      "text/plain": [
       "<Figure size 1080x1584 with 0 Axes>"
      ]
     },
     "metadata": {},
     "output_type": "display_data"
    },
    {
     "data": {
      "text/plain": [
       "<Figure size 1080x1584 with 0 Axes>"
      ]
     },
     "metadata": {},
     "output_type": "display_data"
    },
    {
     "data": {
      "text/plain": [
       "<Figure size 1080x1584 with 0 Axes>"
      ]
     },
     "metadata": {},
     "output_type": "display_data"
    },
    {
     "data": {
      "text/plain": [
       "<Figure size 1080x1584 with 0 Axes>"
      ]
     },
     "metadata": {},
     "output_type": "display_data"
    },
    {
     "data": {
      "text/plain": [
       "<Figure size 1080x1584 with 0 Axes>"
      ]
     },
     "metadata": {},
     "output_type": "display_data"
    },
    {
     "data": {
      "text/plain": [
       "<Figure size 1080x1584 with 0 Axes>"
      ]
     },
     "metadata": {},
     "output_type": "display_data"
    },
    {
     "data": {
      "text/plain": [
       "<Figure size 1080x1584 with 0 Axes>"
      ]
     },
     "metadata": {},
     "output_type": "display_data"
    },
    {
     "data": {
      "text/plain": [
       "<Figure size 1080x1584 with 0 Axes>"
      ]
     },
     "metadata": {},
     "output_type": "display_data"
    },
    {
     "data": {
      "text/plain": [
       "<Figure size 1080x1584 with 0 Axes>"
      ]
     },
     "metadata": {},
     "output_type": "display_data"
    },
    {
     "data": {
      "text/plain": [
       "<Figure size 1080x1584 with 0 Axes>"
      ]
     },
     "metadata": {},
     "output_type": "display_data"
    },
    {
     "data": {
      "text/plain": [
       "<Figure size 1080x1584 with 0 Axes>"
      ]
     },
     "metadata": {},
     "output_type": "display_data"
    },
    {
     "data": {
      "text/plain": [
       "<Figure size 1080x1584 with 0 Axes>"
      ]
     },
     "metadata": {},
     "output_type": "display_data"
    },
    {
     "data": {
      "text/plain": [
       "<Figure size 1080x1584 with 0 Axes>"
      ]
     },
     "metadata": {},
     "output_type": "display_data"
    },
    {
     "data": {
      "text/plain": [
       "<Figure size 1080x1584 with 0 Axes>"
      ]
     },
     "metadata": {},
     "output_type": "display_data"
    },
    {
     "data": {
      "text/plain": [
       "<Figure size 1080x1584 with 0 Axes>"
      ]
     },
     "metadata": {},
     "output_type": "display_data"
    },
    {
     "data": {
      "text/plain": [
       "<Figure size 1080x1584 with 0 Axes>"
      ]
     },
     "metadata": {},
     "output_type": "display_data"
    },
    {
     "data": {
      "text/plain": [
       "<Figure size 1080x1584 with 0 Axes>"
      ]
     },
     "metadata": {},
     "output_type": "display_data"
    },
    {
     "data": {
      "text/plain": [
       "<Figure size 1080x1584 with 0 Axes>"
      ]
     },
     "metadata": {},
     "output_type": "display_data"
    },
    {
     "data": {
      "text/plain": [
       "<Figure size 1080x1584 with 0 Axes>"
      ]
     },
     "metadata": {},
     "output_type": "display_data"
    },
    {
     "data": {
      "text/plain": [
       "<Figure size 1080x1584 with 0 Axes>"
      ]
     },
     "metadata": {},
     "output_type": "display_data"
    }
   ],
   "source": [
    "# Generate replica mixing plots\n",
    "from perses.analysis import utils\n",
    "for r in [6,7,8]:\n",
    "    for i in range(12):\n",
    "        print(f\"dir {i} rep {r} solvent\")\n",
    "        path = f\"/data/chodera/zhangi/perses_benchmark/repex/{r}/{i}/{i}_solvent.nc\"\n",
    "        utils.plot_replica_mixing(path, title=f\"{pairs[i][0]} -> {pairs[i][1]} solvent\", filename=f\"{path[:-3]}_replicas.png\")\n",
    "        plt.clf()\n",
    "        print(f\"dir {i} rep {r} vacuum\")\n",
    "        path = f\"/data/chodera/zhangi/perses_benchmark/repex/{r}/{i}/{i}_vacuum.nc\"\n",
    "        utils.plot_replica_mixing(path, title=f\"{pairs[i][0]} -> {pairs[i][1]} vacuum\", filename=f\"{path[:-3]}_replicas.png\")\n",
    "        plt.clf()"
   ]
  },
  {
   "cell_type": "code",
   "execution_count": 10,
   "metadata": {},
   "outputs": [],
   "source": [
    "def plot_series(dg, ddg, mean, i, phase):\n",
    "    fig, axes = plt.subplots(nrows=3, ncols=1, sharex='col', figsize=(10,2*3), squeeze=True)\n",
    "    for r in range(len(dg)):\n",
    "        dg_discarded = dg[r][30:]\n",
    "        ddg_discarded = ddg[r][30:]\n",
    "\n",
    "        # dg\n",
    "        ax = axes[0]\n",
    "        x = [(i)/20 + 1.5 for i in range(len(dg_discarded))]\n",
    "        y = dg_discarded\n",
    "        ax.plot(x, y, color=sns.color_palette()[r])\n",
    "        ax.fill_between(x, y - ddg_discarded, y + ddg_discarded, alpha=0.5)\n",
    "\n",
    "        # ddg\n",
    "        ax = axes[1]\n",
    "        x = [(i)/20 + 1.5 for i in range(len(ddg_discarded))]\n",
    "        y = ddg_discarded\n",
    "        ax.plot(x, y, color=sns.color_palette()[0])\n",
    "\n",
    "        # deviation from mean\n",
    "        ax = axes[2]\n",
    "        x = [(i)/20 + 1.5 for i in range(len(dg_discarded))]\n",
    "        y = np.array(dg_discarded) - mean # Need to the average solvent dg across replicates\n",
    "        ax.plot(x, y, color=sns.color_palette()[0])\n",
    "\n",
    "    axes[0].set_ylabel(\"dG (kT)\")\n",
    "    axes[1].set_ylabel(\"ddG (kT)\")\n",
    "    axes[2].set_ylabel(\"ddG (kT)\")\n",
    "    axes[2].set_xlabel(\"$t_{repex}$ (ns)\")\n",
    "    \n",
    "    axes[0].set_title(f\"{pairs[i][0]} -> {pairs[i][1]} {phase}\")\n",
    "    plt.savefig(f\"/data/chodera/zhangi/perses_benchmark/repex/analysis_10-11/{i}_{phase}_series.png\", dpi=500)\n",
    "    plt.clf()"
   ]
  },
  {
   "cell_type": "code",
   "execution_count": 12,
   "metadata": {},
   "outputs": [
    {
     "name": "stdout",
     "output_type": "stream",
     "text": [
      "0\n",
      "1\n",
      "2\n",
      "3\n",
      "4\n",
      "5\n",
      "6\n",
      "7\n",
      "8\n",
      "9\n",
      "10\n"
     ]
    },
    {
     "name": "stderr",
     "output_type": "stream",
     "text": [
      "/home/zhangi/miniconda3/envs/perses-sims/lib/python3.7/site-packages/ipykernel_launcher.py:2: RuntimeWarning: More than 20 figures have been opened. Figures created through the pyplot interface (`matplotlib.pyplot.figure`) are retained until explicitly closed and may consume too much memory. (To control this warning, see the rcParam `figure.max_open_warning`).\n",
      "  \n"
     ]
    },
    {
     "name": "stdout",
     "output_type": "stream",
     "text": [
      "11\n"
     ]
    },
    {
     "data": {
      "text/plain": [
       "<Figure size 720x432 with 0 Axes>"
      ]
     },
     "metadata": {},
     "output_type": "display_data"
    },
    {
     "data": {
      "text/plain": [
       "<Figure size 720x432 with 0 Axes>"
      ]
     },
     "metadata": {},
     "output_type": "display_data"
    },
    {
     "data": {
      "text/plain": [
       "<Figure size 720x432 with 0 Axes>"
      ]
     },
     "metadata": {},
     "output_type": "display_data"
    },
    {
     "data": {
      "text/plain": [
       "<Figure size 720x432 with 0 Axes>"
      ]
     },
     "metadata": {},
     "output_type": "display_data"
    },
    {
     "data": {
      "text/plain": [
       "<Figure size 720x432 with 0 Axes>"
      ]
     },
     "metadata": {},
     "output_type": "display_data"
    },
    {
     "data": {
      "text/plain": [
       "<Figure size 720x432 with 0 Axes>"
      ]
     },
     "metadata": {},
     "output_type": "display_data"
    },
    {
     "data": {
      "text/plain": [
       "<Figure size 720x432 with 0 Axes>"
      ]
     },
     "metadata": {},
     "output_type": "display_data"
    },
    {
     "data": {
      "text/plain": [
       "<Figure size 720x432 with 0 Axes>"
      ]
     },
     "metadata": {},
     "output_type": "display_data"
    },
    {
     "data": {
      "text/plain": [
       "<Figure size 720x432 with 0 Axes>"
      ]
     },
     "metadata": {},
     "output_type": "display_data"
    },
    {
     "data": {
      "text/plain": [
       "<Figure size 720x432 with 0 Axes>"
      ]
     },
     "metadata": {},
     "output_type": "display_data"
    },
    {
     "data": {
      "text/plain": [
       "<Figure size 720x432 with 0 Axes>"
      ]
     },
     "metadata": {},
     "output_type": "display_data"
    },
    {
     "data": {
      "text/plain": [
       "<Figure size 720x432 with 0 Axes>"
      ]
     },
     "metadata": {},
     "output_type": "display_data"
    },
    {
     "data": {
      "text/plain": [
       "<Figure size 720x432 with 0 Axes>"
      ]
     },
     "metadata": {},
     "output_type": "display_data"
    },
    {
     "data": {
      "text/plain": [
       "<Figure size 720x432 with 0 Axes>"
      ]
     },
     "metadata": {},
     "output_type": "display_data"
    },
    {
     "data": {
      "text/plain": [
       "<Figure size 720x432 with 0 Axes>"
      ]
     },
     "metadata": {},
     "output_type": "display_data"
    },
    {
     "data": {
      "text/plain": [
       "<Figure size 720x432 with 0 Axes>"
      ]
     },
     "metadata": {},
     "output_type": "display_data"
    },
    {
     "data": {
      "text/plain": [
       "<Figure size 720x432 with 0 Axes>"
      ]
     },
     "metadata": {},
     "output_type": "display_data"
    },
    {
     "data": {
      "text/plain": [
       "<Figure size 720x432 with 0 Axes>"
      ]
     },
     "metadata": {},
     "output_type": "display_data"
    },
    {
     "data": {
      "text/plain": [
       "<Figure size 720x432 with 0 Axes>"
      ]
     },
     "metadata": {},
     "output_type": "display_data"
    },
    {
     "data": {
      "text/plain": [
       "<Figure size 720x432 with 0 Axes>"
      ]
     },
     "metadata": {},
     "output_type": "display_data"
    },
    {
     "data": {
      "text/plain": [
       "<Figure size 720x432 with 0 Axes>"
      ]
     },
     "metadata": {},
     "output_type": "display_data"
    },
    {
     "data": {
      "text/plain": [
       "<Figure size 720x432 with 0 Axes>"
      ]
     },
     "metadata": {},
     "output_type": "display_data"
    },
    {
     "data": {
      "text/plain": [
       "<Figure size 720x432 with 0 Axes>"
      ]
     },
     "metadata": {},
     "output_type": "display_data"
    },
    {
     "data": {
      "text/plain": [
       "<Figure size 720x432 with 0 Axes>"
      ]
     },
     "metadata": {},
     "output_type": "display_data"
    }
   ],
   "source": [
    "# Generate dg, ddg, and discrepancy vs. time plots\n",
    "for i, pair in enumerate(pairs):\n",
    "    print(i)\n",
    "    solvent_dg = [np.array(d_results_6[pair][0]), np.array(d_results_7[pair][0]), np.array(d_results_8[pair][0])]\n",
    "    solvent_ddg = [np.array(d_results_6[pair][1]), np.array(d_results_7[pair][1]), np.array(d_results_8[pair][1])]\n",
    "    vacuum_dg = [np.array(d_results_6[pair][2]), np.array(d_results_7[pair][2]), np.array(d_results_8[pair][2])]\n",
    "    vacuum_ddg = [np.array(d_results_6[pair][3]), np.array(d_results_7[pair][3]), np.array(d_results_8[pair][3])]\n",
    "    \n",
    "    solvent_mean = np.mean([solvent_dg[0][-1], solvent_dg[1][-1], solvent_dg[2][-1]])\n",
    "    vacuum_mean = np.mean([vacuum_dg[0][-1], vacuum_dg[1][-1], vacuum_dg[2][-1]]) \n",
    "    \n",
    "    plot_series(solvent_dg, solvent_ddg, solvent_mean, i,'solvent')\n",
    "    plot_series(vacuum_dg, vacuum_ddg, vacuum_mean, i, 'vacuum')\n"
   ]
  },
  {
   "cell_type": "code",
   "execution_count": 8,
   "metadata": {},
   "outputs": [],
   "source": [
    "# Generate table\n",
    "d_combined = {}\n",
    "rows = [('ALA', 'SER'), ('ALA', 'CYS'), ('ALA', 'THR'), ('SER', 'CYS'), ('SER', 'THR'), ('CYS', 'THR')]\n",
    "\n",
    "for i, pair in enumerate(pairs):\n",
    "    solvent_dg = [np.array(d_results_6[pair][0][-1]), np.array(d_results_7[pair][0][-1]), np.array(d_results_8[pair][0][-1])]\n",
    "    solvent_ddg = [np.array(d_results_6[pair][1][-1]), np.array(d_results_7[pair][1][-1]), np.array(d_results_8[pair][1][-1])]\n",
    "    vacuum_dg = [np.array(d_results_6[pair][2][-1]), np.array(d_results_7[pair][2][-1]), np.array(d_results_8[pair][2][-1])]\n",
    "    vacuum_ddg = [np.array(d_results_6[pair][3][-1]), np.array(d_results_7[pair][3][-1]), np.array(d_results_8[pair][3][-1])]\n",
    "    \n",
    "    solvation_dg = [vac - sol for sol, vac in zip(solvent_dg, vacuum_dg)]\n",
    "    solvation_ddg = [(vac**2 + sol**2)**0.5 for sol, vac in zip(solvent_ddg, vacuum_ddg)]\n",
    "    \n",
    "    if pair in rows:\n",
    "        d_combined[pair] = [np.mean(solvation_dg), np.mean(solvation_ddg)]\n",
    "\n",
    "for pair in pairs:\n",
    "    if pair not in d_combined:\n",
    "        reversed_pair = pair[::-1]\n",
    "        forward_solvation_dg = d_combined[reversed_pair][0]\n",
    "        forward_solvation_ddg = d_combined[reversed_pair][1]\n",
    "        \n",
    "        solvent_dg = [np.array(d_results_6[pair][0][-1]), np.array(d_results_7[pair][0][-1]), np.array(d_results_8[pair][0][-1])]\n",
    "        solvent_ddg = [np.array(d_results_6[pair][1][-1]), np.array(d_results_7[pair][1][-1]), np.array(d_results_8[pair][1][-1])]\n",
    "        vacuum_dg = [np.array(d_results_6[pair][2][-1]), np.array(d_results_7[pair][2][-1]), np.array(d_results_8[pair][2][-1])]\n",
    "        vacuum_ddg = [np.array(d_results_6[pair][3][-1]), np.array(d_results_7[pair][3][-1]), np.array(d_results_8[pair][3][-1])]\n",
    "    \n",
    "        solvation_dg = [vac - sol for sol, vac in zip(solvent_dg, vacuum_dg)]\n",
    "        solvation_ddg = [(vac**2 + sol**2)**0.5 for sol, vac in zip(solvent_ddg, vacuum_ddg)]\n",
    "        \n",
    "        dg = np.mean(solvation_dg)\n",
    "        ddg = np.mean(solvation_ddg)\n",
    "        d_combined[reversed_pair] += [dg, ddg, abs(forward_solvation_dg) - abs(dg), abs(forward_solvation_ddg) - abs(ddg)]\n",
    "\n"
   ]
  },
  {
   "cell_type": "code",
   "execution_count": 9,
   "metadata": {},
   "outputs": [],
   "source": [
    "df = pd.DataFrame.from_dict(d_combined, orient='index', columns=['forward solvation dG', \n",
    "                                                            'forward solvation ddG', \n",
    "                                                            'reverse solvation dG',\n",
    "                                                            'reverse solvation ddG',\n",
    "                                                            'discrepancy dG',\n",
    "                                                            'discrepancy ddG'\n",
    "                                                           ]\n",
    "                      \n",
    "                      )"
   ]
  },
  {
   "cell_type": "code",
   "execution_count": 10,
   "metadata": {
    "scrolled": true
   },
   "outputs": [
    {
     "data": {
      "text/html": [
       "<div>\n",
       "<style scoped>\n",
       "    .dataframe tbody tr th:only-of-type {\n",
       "        vertical-align: middle;\n",
       "    }\n",
       "\n",
       "    .dataframe tbody tr th {\n",
       "        vertical-align: top;\n",
       "    }\n",
       "\n",
       "    .dataframe thead th {\n",
       "        text-align: right;\n",
       "    }\n",
       "</style>\n",
       "<table border=\"1\" class=\"dataframe\">\n",
       "  <thead>\n",
       "    <tr style=\"text-align: right;\">\n",
       "      <th></th>\n",
       "      <th>forward solvation dG</th>\n",
       "      <th>forward solvation ddG</th>\n",
       "      <th>reverse solvation dG</th>\n",
       "      <th>reverse solvation ddG</th>\n",
       "      <th>discrepancy dG</th>\n",
       "      <th>discrepancy ddG</th>\n",
       "    </tr>\n",
       "  </thead>\n",
       "  <tbody>\n",
       "    <tr>\n",
       "      <td>(ALA, SER)</td>\n",
       "      <td>2.666296</td>\n",
       "      <td>0.067755</td>\n",
       "      <td>-4.843187</td>\n",
       "      <td>0.147884</td>\n",
       "      <td>-2.176890</td>\n",
       "      <td>-0.080129</td>\n",
       "    </tr>\n",
       "    <tr>\n",
       "      <td>(ALA, CYS)</td>\n",
       "      <td>-0.604621</td>\n",
       "      <td>0.058589</td>\n",
       "      <td>0.758005</td>\n",
       "      <td>0.075938</td>\n",
       "      <td>-0.153384</td>\n",
       "      <td>-0.017350</td>\n",
       "    </tr>\n",
       "    <tr>\n",
       "      <td>(ALA, THR)</td>\n",
       "      <td>2.903371</td>\n",
       "      <td>0.087121</td>\n",
       "      <td>-3.996512</td>\n",
       "      <td>0.124729</td>\n",
       "      <td>-1.093142</td>\n",
       "      <td>-0.037608</td>\n",
       "    </tr>\n",
       "    <tr>\n",
       "      <td>(SER, CYS)</td>\n",
       "      <td>-4.521507</td>\n",
       "      <td>0.169658</td>\n",
       "      <td>4.553164</td>\n",
       "      <td>0.153822</td>\n",
       "      <td>-0.031657</td>\n",
       "      <td>0.015836</td>\n",
       "    </tr>\n",
       "    <tr>\n",
       "      <td>(SER, THR)</td>\n",
       "      <td>0.175012</td>\n",
       "      <td>0.053950</td>\n",
       "      <td>-1.652593</td>\n",
       "      <td>0.065572</td>\n",
       "      <td>-1.477581</td>\n",
       "      <td>-0.011622</td>\n",
       "    </tr>\n",
       "    <tr>\n",
       "      <td>(CYS, THR)</td>\n",
       "      <td>4.512768</td>\n",
       "      <td>0.170807</td>\n",
       "      <td>-4.917338</td>\n",
       "      <td>0.187249</td>\n",
       "      <td>-0.404569</td>\n",
       "      <td>-0.016442</td>\n",
       "    </tr>\n",
       "  </tbody>\n",
       "</table>\n",
       "</div>"
      ],
      "text/plain": [
       "            forward solvation dG  forward solvation ddG  reverse solvation dG  \\\n",
       "(ALA, SER)              2.666296               0.067755             -4.843187   \n",
       "(ALA, CYS)             -0.604621               0.058589              0.758005   \n",
       "(ALA, THR)              2.903371               0.087121             -3.996512   \n",
       "(SER, CYS)             -4.521507               0.169658              4.553164   \n",
       "(SER, THR)              0.175012               0.053950             -1.652593   \n",
       "(CYS, THR)              4.512768               0.170807             -4.917338   \n",
       "\n",
       "            reverse solvation ddG  discrepancy dG  discrepancy ddG  \n",
       "(ALA, SER)               0.147884       -2.176890        -0.080129  \n",
       "(ALA, CYS)               0.075938       -0.153384        -0.017350  \n",
       "(ALA, THR)               0.124729       -1.093142        -0.037608  \n",
       "(SER, CYS)               0.153822       -0.031657         0.015836  \n",
       "(SER, THR)               0.065572       -1.477581        -0.011622  \n",
       "(CYS, THR)               0.187249       -0.404569        -0.016442  "
      ]
     },
     "execution_count": 10,
     "metadata": {},
     "output_type": "execute_result"
    }
   ],
   "source": [
    "df.reindex(index=rows)"
   ]
  },
  {
   "cell_type": "code",
   "execution_count": null,
   "metadata": {},
   "outputs": [],
   "source": []
  },
  {
   "cell_type": "markdown",
   "metadata": {},
   "source": [
    "### New sim data (after dir structure reorg and regenerating htfs) - default"
   ]
  },
  {
   "cell_type": "code",
   "execution_count": null,
   "metadata": {},
   "outputs": [],
   "source": [
    "import pickle\n",
    "for r in [10,11]:\n",
    "    d_results = {}\n",
    "    for i in tqdm_notebook(range(12)):\n",
    "        print (f\"dir {i} replicate {r}\")\n",
    "        output_dir = f'/data/chodera/zhangi/perses_benchmark/repex/{r}/{i}/'\n",
    "        solvent_path = os.path.join(output_dir, f\"{i}_solvent.nc\")\n",
    "        vacuum_path = os.path.join(output_dir, f\"{i}_vacuum.nc\")\n",
    "        solvent_dg, solvent_ddg = analyze_dom(solvent_path)\n",
    "        vacuum_dg, vacuum_ddg = analyze_dom(vacuum_path)\n",
    "#         solvation_dg = vacuum_dg[-1] - solvent_dg[-1]\n",
    "#         solvation_ddg = (vacuum_ddg[-1]**2 + solvent_ddg[-1]**2)**0.5\n",
    "        d_results[pairs[i]] = (solvent_dg, solvent_ddg, vacuum_dg, vacuum_ddg)\n",
    "    with open(f'/data/chodera/zhangi/perses_benchmark/repex/{r}/d_results.pickle', 'wb') as f:\n",
    "        pickle.dump(d_results, f)"
   ]
  },
  {
   "cell_type": "code",
   "execution_count": 8,
   "metadata": {},
   "outputs": [],
   "source": [
    "# import pickle\n",
    "# with open(\"/data/chodera/zhangi/perses_benchmark/repex/9/d_results.pickle\", \"rb\") as f:\n",
    "#     d_results_9 = pickle.load(f)"
   ]
  },
  {
   "cell_type": "code",
   "execution_count": 3,
   "metadata": {},
   "outputs": [],
   "source": [
    "import pickle\n",
    "with open(\"/data/chodera/zhangi/perses_benchmark/repex/10/d_results.pickle\", \"rb\") as f:\n",
    "    d_results_10 = pickle.load(f)"
   ]
  },
  {
   "cell_type": "code",
   "execution_count": 4,
   "metadata": {},
   "outputs": [],
   "source": [
    "import pickle\n",
    "with open(\"/data/chodera/zhangi/perses_benchmark/repex/11/d_results.pickle\", \"rb\") as f:\n",
    "    d_results_11 = pickle.load(f)"
   ]
  },
  {
   "cell_type": "code",
   "execution_count": 11,
   "metadata": {},
   "outputs": [
    {
     "name": "stdout",
     "output_type": "stream",
     "text": [
      "dir 0 rep 10 solvent\n",
      "dir 0 rep 10 vacuum\n",
      "dir 1 rep 10 solvent\n",
      "dir 1 rep 10 vacuum\n",
      "dir 2 rep 10 solvent\n",
      "dir 2 rep 10 vacuum\n",
      "dir 3 rep 10 solvent\n",
      "dir 3 rep 10 vacuum\n",
      "dir 4 rep 10 solvent\n",
      "dir 4 rep 10 vacuum\n",
      "dir 5 rep 10 solvent\n",
      "dir 5 rep 10 vacuum\n",
      "dir 6 rep 10 solvent\n",
      "dir 6 rep 10 vacuum\n",
      "dir 7 rep 10 solvent\n",
      "dir 7 rep 10 vacuum\n",
      "dir 8 rep 10 solvent\n",
      "dir 8 rep 10 vacuum\n",
      "dir 9 rep 10 solvent\n",
      "dir 9 rep 10 vacuum\n",
      "dir 10 rep 10 solvent\n"
     ]
    },
    {
     "name": "stderr",
     "output_type": "stream",
     "text": [
      "/home/zhangi/miniconda3/envs/perses-sims/lib/python3.7/site-packages/perses-0.6.0.dev0-py3.7.egg/perses/analysis/utils.py:66: RuntimeWarning: More than 20 figures have been opened. Figures created through the pyplot interface (`matplotlib.pyplot.figure`) are retained until explicitly closed and may consume too much memory. (To control this warning, see the rcParam `figure.max_open_warning`).\n",
      "  fig, axes = plt.subplots(nrows=n_states, ncols=2, sharex='col',sharey=True,figsize=(15,2*n_states), squeeze=True, gridspec_kw={'width_ratios': [5, 1]})\n"
     ]
    },
    {
     "name": "stdout",
     "output_type": "stream",
     "text": [
      "dir 10 rep 10 vacuum\n",
      "dir 11 rep 10 solvent\n",
      "dir 11 rep 10 vacuum\n",
      "dir 0 rep 11 solvent\n",
      "dir 0 rep 11 vacuum\n",
      "dir 1 rep 11 solvent\n",
      "dir 1 rep 11 vacuum\n",
      "dir 2 rep 11 solvent\n",
      "dir 2 rep 11 vacuum\n",
      "dir 3 rep 11 solvent\n",
      "dir 3 rep 11 vacuum\n",
      "dir 4 rep 11 solvent\n",
      "dir 4 rep 11 vacuum\n",
      "dir 5 rep 11 solvent\n",
      "dir 5 rep 11 vacuum\n",
      "dir 6 rep 11 solvent\n",
      "dir 6 rep 11 vacuum\n",
      "dir 7 rep 11 solvent\n",
      "dir 7 rep 11 vacuum\n",
      "dir 8 rep 11 solvent\n",
      "dir 8 rep 11 vacuum\n",
      "dir 9 rep 11 solvent\n",
      "dir 9 rep 11 vacuum\n",
      "dir 10 rep 11 solvent\n",
      "dir 10 rep 11 vacuum\n",
      "dir 11 rep 11 solvent\n",
      "dir 11 rep 11 vacuum\n"
     ]
    },
    {
     "data": {
      "text/plain": [
       "<Figure size 1080x1584 with 0 Axes>"
      ]
     },
     "metadata": {},
     "output_type": "display_data"
    },
    {
     "data": {
      "text/plain": [
       "<Figure size 1080x1584 with 0 Axes>"
      ]
     },
     "metadata": {},
     "output_type": "display_data"
    },
    {
     "data": {
      "text/plain": [
       "<Figure size 1080x1584 with 0 Axes>"
      ]
     },
     "metadata": {},
     "output_type": "display_data"
    },
    {
     "data": {
      "text/plain": [
       "<Figure size 1080x1584 with 0 Axes>"
      ]
     },
     "metadata": {},
     "output_type": "display_data"
    },
    {
     "data": {
      "text/plain": [
       "<Figure size 1080x1584 with 0 Axes>"
      ]
     },
     "metadata": {},
     "output_type": "display_data"
    },
    {
     "data": {
      "text/plain": [
       "<Figure size 1080x1584 with 0 Axes>"
      ]
     },
     "metadata": {},
     "output_type": "display_data"
    },
    {
     "data": {
      "text/plain": [
       "<Figure size 1080x1584 with 0 Axes>"
      ]
     },
     "metadata": {},
     "output_type": "display_data"
    },
    {
     "data": {
      "text/plain": [
       "<Figure size 1080x1584 with 0 Axes>"
      ]
     },
     "metadata": {},
     "output_type": "display_data"
    },
    {
     "data": {
      "text/plain": [
       "<Figure size 1080x1584 with 0 Axes>"
      ]
     },
     "metadata": {},
     "output_type": "display_data"
    },
    {
     "data": {
      "text/plain": [
       "<Figure size 1080x1584 with 0 Axes>"
      ]
     },
     "metadata": {},
     "output_type": "display_data"
    },
    {
     "data": {
      "text/plain": [
       "<Figure size 1080x1584 with 0 Axes>"
      ]
     },
     "metadata": {},
     "output_type": "display_data"
    },
    {
     "data": {
      "text/plain": [
       "<Figure size 1080x1584 with 0 Axes>"
      ]
     },
     "metadata": {},
     "output_type": "display_data"
    },
    {
     "data": {
      "text/plain": [
       "<Figure size 1080x1584 with 0 Axes>"
      ]
     },
     "metadata": {},
     "output_type": "display_data"
    },
    {
     "data": {
      "text/plain": [
       "<Figure size 1080x1584 with 0 Axes>"
      ]
     },
     "metadata": {},
     "output_type": "display_data"
    },
    {
     "data": {
      "text/plain": [
       "<Figure size 1080x1584 with 0 Axes>"
      ]
     },
     "metadata": {},
     "output_type": "display_data"
    },
    {
     "data": {
      "text/plain": [
       "<Figure size 1080x1584 with 0 Axes>"
      ]
     },
     "metadata": {},
     "output_type": "display_data"
    },
    {
     "data": {
      "text/plain": [
       "<Figure size 1080x1584 with 0 Axes>"
      ]
     },
     "metadata": {},
     "output_type": "display_data"
    },
    {
     "data": {
      "text/plain": [
       "<Figure size 1080x1584 with 0 Axes>"
      ]
     },
     "metadata": {},
     "output_type": "display_data"
    },
    {
     "data": {
      "text/plain": [
       "<Figure size 1080x1584 with 0 Axes>"
      ]
     },
     "metadata": {},
     "output_type": "display_data"
    },
    {
     "data": {
      "text/plain": [
       "<Figure size 1080x1584 with 0 Axes>"
      ]
     },
     "metadata": {},
     "output_type": "display_data"
    },
    {
     "data": {
      "text/plain": [
       "<Figure size 1080x1584 with 0 Axes>"
      ]
     },
     "metadata": {},
     "output_type": "display_data"
    },
    {
     "data": {
      "text/plain": [
       "<Figure size 1080x1584 with 0 Axes>"
      ]
     },
     "metadata": {},
     "output_type": "display_data"
    },
    {
     "data": {
      "text/plain": [
       "<Figure size 1080x1584 with 0 Axes>"
      ]
     },
     "metadata": {},
     "output_type": "display_data"
    },
    {
     "data": {
      "text/plain": [
       "<Figure size 1080x1584 with 0 Axes>"
      ]
     },
     "metadata": {},
     "output_type": "display_data"
    },
    {
     "data": {
      "text/plain": [
       "<Figure size 1080x1584 with 0 Axes>"
      ]
     },
     "metadata": {},
     "output_type": "display_data"
    },
    {
     "data": {
      "text/plain": [
       "<Figure size 1080x1584 with 0 Axes>"
      ]
     },
     "metadata": {},
     "output_type": "display_data"
    },
    {
     "data": {
      "text/plain": [
       "<Figure size 1080x1584 with 0 Axes>"
      ]
     },
     "metadata": {},
     "output_type": "display_data"
    },
    {
     "data": {
      "text/plain": [
       "<Figure size 1080x1584 with 0 Axes>"
      ]
     },
     "metadata": {},
     "output_type": "display_data"
    },
    {
     "data": {
      "text/plain": [
       "<Figure size 1080x1584 with 0 Axes>"
      ]
     },
     "metadata": {},
     "output_type": "display_data"
    },
    {
     "data": {
      "text/plain": [
       "<Figure size 1080x1584 with 0 Axes>"
      ]
     },
     "metadata": {},
     "output_type": "display_data"
    },
    {
     "data": {
      "text/plain": [
       "<Figure size 1080x1584 with 0 Axes>"
      ]
     },
     "metadata": {},
     "output_type": "display_data"
    },
    {
     "data": {
      "text/plain": [
       "<Figure size 1080x1584 with 0 Axes>"
      ]
     },
     "metadata": {},
     "output_type": "display_data"
    },
    {
     "data": {
      "text/plain": [
       "<Figure size 1080x1584 with 0 Axes>"
      ]
     },
     "metadata": {},
     "output_type": "display_data"
    },
    {
     "data": {
      "text/plain": [
       "<Figure size 1080x1584 with 0 Axes>"
      ]
     },
     "metadata": {},
     "output_type": "display_data"
    },
    {
     "data": {
      "text/plain": [
       "<Figure size 1080x1584 with 0 Axes>"
      ]
     },
     "metadata": {},
     "output_type": "display_data"
    },
    {
     "data": {
      "text/plain": [
       "<Figure size 1080x1584 with 0 Axes>"
      ]
     },
     "metadata": {},
     "output_type": "display_data"
    },
    {
     "data": {
      "text/plain": [
       "<Figure size 1080x1584 with 0 Axes>"
      ]
     },
     "metadata": {},
     "output_type": "display_data"
    },
    {
     "data": {
      "text/plain": [
       "<Figure size 1080x1584 with 0 Axes>"
      ]
     },
     "metadata": {},
     "output_type": "display_data"
    },
    {
     "data": {
      "text/plain": [
       "<Figure size 1080x1584 with 0 Axes>"
      ]
     },
     "metadata": {},
     "output_type": "display_data"
    },
    {
     "data": {
      "text/plain": [
       "<Figure size 1080x1584 with 0 Axes>"
      ]
     },
     "metadata": {},
     "output_type": "display_data"
    },
    {
     "data": {
      "text/plain": [
       "<Figure size 1080x1584 with 0 Axes>"
      ]
     },
     "metadata": {},
     "output_type": "display_data"
    },
    {
     "data": {
      "text/plain": [
       "<Figure size 1080x1584 with 0 Axes>"
      ]
     },
     "metadata": {},
     "output_type": "display_data"
    },
    {
     "data": {
      "text/plain": [
       "<Figure size 1080x1584 with 0 Axes>"
      ]
     },
     "metadata": {},
     "output_type": "display_data"
    },
    {
     "data": {
      "text/plain": [
       "<Figure size 1080x1584 with 0 Axes>"
      ]
     },
     "metadata": {},
     "output_type": "display_data"
    },
    {
     "data": {
      "text/plain": [
       "<Figure size 1080x1584 with 0 Axes>"
      ]
     },
     "metadata": {},
     "output_type": "display_data"
    },
    {
     "data": {
      "text/plain": [
       "<Figure size 1080x1584 with 0 Axes>"
      ]
     },
     "metadata": {},
     "output_type": "display_data"
    },
    {
     "data": {
      "text/plain": [
       "<Figure size 1080x1584 with 0 Axes>"
      ]
     },
     "metadata": {},
     "output_type": "display_data"
    },
    {
     "data": {
      "text/plain": [
       "<Figure size 1080x1584 with 0 Axes>"
      ]
     },
     "metadata": {},
     "output_type": "display_data"
    }
   ],
   "source": [
    "# Generate replica mixing plots\n",
    "from perses.analysis import utils\n",
    "for r in [10,11]:\n",
    "    for i in range(12):\n",
    "        print(f\"dir {i} rep {r} solvent\")\n",
    "        path = f\"/data/chodera/zhangi/perses_benchmark/repex/{r}/{i}/{i}_solvent.nc\"\n",
    "        utils.plot_replica_mixing(path, title=f\"{pairs[i][0]} -> {pairs[i][1]} solvent\", filename=f\"{path[:-3]}_replicas.png\")\n",
    "        plt.clf()\n",
    "        print(f\"dir {i} rep {r} vacuum\")\n",
    "        path = f\"/data/chodera/zhangi/perses_benchmark/repex/{r}/{i}/{i}_vacuum.nc\"\n",
    "        utils.plot_replica_mixing(path, title=f\"{pairs[i][0]} -> {pairs[i][1]} vacuum\", filename=f\"{path[:-3]}_replicas.png\")\n",
    "        plt.clf()"
   ]
  },
  {
   "cell_type": "code",
   "execution_count": 13,
   "metadata": {},
   "outputs": [
    {
     "name": "stderr",
     "output_type": "stream",
     "text": [
      "/home/zhangi/miniconda3/envs/perses-sims/lib/python3.7/site-packages/ipykernel_launcher.py:2: RuntimeWarning: More than 20 figures have been opened. Figures created through the pyplot interface (`matplotlib.pyplot.figure`) are retained until explicitly closed and may consume too much memory. (To control this warning, see the rcParam `figure.max_open_warning`).\n",
      "  \n"
     ]
    },
    {
     "data": {
      "text/plain": [
       "<Figure size 720x432 with 0 Axes>"
      ]
     },
     "metadata": {},
     "output_type": "display_data"
    },
    {
     "data": {
      "text/plain": [
       "<Figure size 720x432 with 0 Axes>"
      ]
     },
     "metadata": {},
     "output_type": "display_data"
    },
    {
     "data": {
      "text/plain": [
       "<Figure size 720x432 with 0 Axes>"
      ]
     },
     "metadata": {},
     "output_type": "display_data"
    },
    {
     "data": {
      "text/plain": [
       "<Figure size 720x432 with 0 Axes>"
      ]
     },
     "metadata": {},
     "output_type": "display_data"
    },
    {
     "data": {
      "text/plain": [
       "<Figure size 720x432 with 0 Axes>"
      ]
     },
     "metadata": {},
     "output_type": "display_data"
    },
    {
     "data": {
      "text/plain": [
       "<Figure size 720x432 with 0 Axes>"
      ]
     },
     "metadata": {},
     "output_type": "display_data"
    },
    {
     "data": {
      "text/plain": [
       "<Figure size 720x432 with 0 Axes>"
      ]
     },
     "metadata": {},
     "output_type": "display_data"
    },
    {
     "data": {
      "text/plain": [
       "<Figure size 720x432 with 0 Axes>"
      ]
     },
     "metadata": {},
     "output_type": "display_data"
    },
    {
     "data": {
      "text/plain": [
       "<Figure size 720x432 with 0 Axes>"
      ]
     },
     "metadata": {},
     "output_type": "display_data"
    },
    {
     "data": {
      "text/plain": [
       "<Figure size 720x432 with 0 Axes>"
      ]
     },
     "metadata": {},
     "output_type": "display_data"
    },
    {
     "data": {
      "text/plain": [
       "<Figure size 720x432 with 0 Axes>"
      ]
     },
     "metadata": {},
     "output_type": "display_data"
    },
    {
     "data": {
      "text/plain": [
       "<Figure size 720x432 with 0 Axes>"
      ]
     },
     "metadata": {},
     "output_type": "display_data"
    },
    {
     "data": {
      "text/plain": [
       "<Figure size 720x432 with 0 Axes>"
      ]
     },
     "metadata": {},
     "output_type": "display_data"
    },
    {
     "data": {
      "text/plain": [
       "<Figure size 720x432 with 0 Axes>"
      ]
     },
     "metadata": {},
     "output_type": "display_data"
    },
    {
     "data": {
      "text/plain": [
       "<Figure size 720x432 with 0 Axes>"
      ]
     },
     "metadata": {},
     "output_type": "display_data"
    },
    {
     "data": {
      "text/plain": [
       "<Figure size 720x432 with 0 Axes>"
      ]
     },
     "metadata": {},
     "output_type": "display_data"
    },
    {
     "data": {
      "text/plain": [
       "<Figure size 720x432 with 0 Axes>"
      ]
     },
     "metadata": {},
     "output_type": "display_data"
    },
    {
     "data": {
      "text/plain": [
       "<Figure size 720x432 with 0 Axes>"
      ]
     },
     "metadata": {},
     "output_type": "display_data"
    },
    {
     "data": {
      "text/plain": [
       "<Figure size 720x432 with 0 Axes>"
      ]
     },
     "metadata": {},
     "output_type": "display_data"
    },
    {
     "data": {
      "text/plain": [
       "<Figure size 720x432 with 0 Axes>"
      ]
     },
     "metadata": {},
     "output_type": "display_data"
    },
    {
     "data": {
      "text/plain": [
       "<Figure size 720x432 with 0 Axes>"
      ]
     },
     "metadata": {},
     "output_type": "display_data"
    },
    {
     "data": {
      "text/plain": [
       "<Figure size 720x432 with 0 Axes>"
      ]
     },
     "metadata": {},
     "output_type": "display_data"
    },
    {
     "data": {
      "text/plain": [
       "<Figure size 720x432 with 0 Axes>"
      ]
     },
     "metadata": {},
     "output_type": "display_data"
    },
    {
     "data": {
      "text/plain": [
       "<Figure size 720x432 with 0 Axes>"
      ]
     },
     "metadata": {},
     "output_type": "display_data"
    }
   ],
   "source": [
    "#### MAKE SURE TO CHANGE PATH IN PLOT_SERIES() ####\n",
    "\n",
    "# Generate dg, ddg, and discrepancy vs. time plots\n",
    "for i, pair in enumerate(pairs):\n",
    "#     solvent_dg = [np.array(d_results_9[pair][0]), np.array(d_results_10[pair][0]), np.array(d_results_11[pair][0])]\n",
    "#     solvent_ddg = [np.array(d_results_9[pair][1]), np.array(d_results_10[pair][1]), np.array(d_results_11[pair][1])]\n",
    "#     vacuum_dg = [np.array(d_results_9[pair][2]), np.array(d_results_10[pair][2]), np.array(d_results_11[pair][2])]\n",
    "#     vacuum_ddg = [np.array(d_results_9[pair][3]), np.array(d_results_10[pair][3]), np.array(d_results_11[pair][3])]\n",
    "\n",
    "    solvent_dg = [np.array(d_results_10[pair][0]), np.array(d_results_11[pair][0])]\n",
    "    solvent_ddg = [np.array(d_results_10[pair][1]), np.array(d_results_11[pair][1])]\n",
    "    vacuum_dg = [np.array(d_results_10[pair][2]), np.array(d_results_11[pair][2])]\n",
    "    vacuum_ddg = [np.array(d_results_10[pair][3]), np.array(d_results_11[pair][3])]\n",
    "\n",
    "    solvent_mean = np.mean([solvent_dg[0][-1], solvent_dg[1][-1]])\n",
    "    vacuum_mean = np.mean([vacuum_dg[0][-1], vacuum_dg[1][-1]]) \n",
    "    \n",
    "    plot_series(solvent_dg, solvent_ddg, solvent_mean, i,'solvent')\n",
    "    plot_series(vacuum_dg, vacuum_ddg, vacuum_mean, i, 'vacuum')\n",
    "    \n",
    "\n",
    "    \n"
   ]
  },
  {
   "cell_type": "code",
   "execution_count": 7,
   "metadata": {},
   "outputs": [],
   "source": [
    "# Generate table\n",
    "d_combined = {}\n",
    "rows = [('ALA', 'SER'), ('ALA', 'CYS'), ('ALA', 'THR'), ('SER', 'CYS'), ('SER', 'THR'), ('CYS', 'THR')]\n",
    "\n",
    "for i, pair in enumerate(pairs):\n",
    "#     solvent_dg = [np.array(d_results_9[pair][0][-1]), np.array(d_results_10[pair][0][-1]), np.array(d_results_11[pair][0][-1])]\n",
    "#     solvent_ddg = [np.array(d_results_9[pair][1][-1]), np.array(d_results_10[pair][1][-1]), np.array(d_results_11[pair][1][-1])]\n",
    "#     vacuum_dg = [np.array(d_results_9[pair][2][-1]), np.array(d_results_10[pair][2][-1]), np.array(d_results_11[pair][2][-1])]\n",
    "#     vacuum_ddg = [np.array(d_results_9[pair][3][-1]), np.array(d_results_10[pair][3][-1]), np.array(d_results_11[pair][3][-1])]\n",
    "    \n",
    "    solvent_dg = [np.array(d_results_10[pair][0][-1]), np.array(d_results_11[pair][0][-1])]\n",
    "    solvent_ddg = [np.array(d_results_10[pair][1][-1]), np.array(d_results_11[pair][1][-1])]\n",
    "    vacuum_dg = [np.array(d_results_10[pair][2][-1]), np.array(d_results_11[pair][2][-1])]\n",
    "    vacuum_ddg = [ np.array(d_results_10[pair][3][-1]), np.array(d_results_11[pair][3][-1])]\n",
    "    \n",
    "    solvation_dg = [vac - sol for sol, vac in zip(solvent_dg, vacuum_dg)]\n",
    "    solvation_ddg = [(vac**2 + sol**2)**0.5 for sol, vac in zip(solvent_ddg, vacuum_ddg)]\n",
    "    \n",
    "    if pair in rows:\n",
    "        d_combined[pair] = [np.mean(solvation_dg), np.mean(solvation_ddg)]\n",
    "\n",
    "for pair in pairs:\n",
    "    if pair not in d_combined:\n",
    "        reversed_pair = pair[::-1]\n",
    "        forward_solvation_dg = d_combined[reversed_pair][0]\n",
    "        forward_solvation_ddg = d_combined[reversed_pair][1]\n",
    "        \n",
    "#         solvent_dg = [np.array(d_results_9[pair][0][-1]), np.array(d_results_10[pair][0][-1]), np.array(d_results_11[pair][0][-1])]\n",
    "#         solvent_ddg = [np.array(d_results_9[pair][1][-1]), np.array(d_results_10[pair][1][-1]), np.array(d_results_11[pair][1][-1])]\n",
    "#         vacuum_dg = [np.array(d_results_9[pair][2][-1]), np.array(d_results_10[pair][2][-1]), np.array(d_results_11[pair][2][-1])]\n",
    "#         vacuum_ddg = [np.array(d_results_9[pair][3][-1]), np.array(d_results_10[pair][3][-1]), np.array(d_results_11[pair][3][-1])]\n",
    "    \n",
    "        solvent_dg = [np.array(d_results_10[pair][0][-1]), np.array(d_results_11[pair][0][-1])]\n",
    "        solvent_ddg = [np.array(d_results_10[pair][1][-1]), np.array(d_results_11[pair][1][-1])]\n",
    "        vacuum_dg = [np.array(d_results_10[pair][2][-1]), np.array(d_results_11[pair][2][-1])]\n",
    "        vacuum_ddg = [ np.array(d_results_10[pair][3][-1]), np.array(d_results_11[pair][3][-1])]\n",
    "    \n",
    "    \n",
    "        solvation_dg = [vac - sol for sol, vac in zip(solvent_dg, vacuum_dg)]\n",
    "        solvation_ddg = [(vac**2 + sol**2)**0.5 for sol, vac in zip(solvent_ddg, vacuum_ddg)]\n",
    "        \n",
    "        dg = np.mean(solvation_dg)\n",
    "        ddg = np.mean(solvation_ddg)\n",
    "        d_combined[reversed_pair] += [dg, ddg, abs(forward_solvation_dg) - abs(dg), abs(forward_solvation_ddg) - abs(ddg)]\n",
    "\n"
   ]
  },
  {
   "cell_type": "code",
   "execution_count": 8,
   "metadata": {},
   "outputs": [],
   "source": [
    "df = pd.DataFrame.from_dict(d_combined, orient='index', columns=['forward solvation dG', \n",
    "                                                            'forward solvation ddG', \n",
    "                                                            'reverse solvation dG',\n",
    "                                                            'reverse solvation ddG',\n",
    "                                                            'discrepancy dG',\n",
    "                                                            'discrepancy ddG'\n",
    "                                                           ]\n",
    "                      \n",
    "                      )"
   ]
  },
  {
   "cell_type": "code",
   "execution_count": 9,
   "metadata": {
    "scrolled": false
   },
   "outputs": [
    {
     "data": {
      "text/html": [
       "<div>\n",
       "<style scoped>\n",
       "    .dataframe tbody tr th:only-of-type {\n",
       "        vertical-align: middle;\n",
       "    }\n",
       "\n",
       "    .dataframe tbody tr th {\n",
       "        vertical-align: top;\n",
       "    }\n",
       "\n",
       "    .dataframe thead th {\n",
       "        text-align: right;\n",
       "    }\n",
       "</style>\n",
       "<table border=\"1\" class=\"dataframe\">\n",
       "  <thead>\n",
       "    <tr style=\"text-align: right;\">\n",
       "      <th></th>\n",
       "      <th>forward solvation dG</th>\n",
       "      <th>forward solvation ddG</th>\n",
       "      <th>reverse solvation dG</th>\n",
       "      <th>reverse solvation ddG</th>\n",
       "      <th>discrepancy dG</th>\n",
       "      <th>discrepancy ddG</th>\n",
       "    </tr>\n",
       "  </thead>\n",
       "  <tbody>\n",
       "    <tr>\n",
       "      <td>(ALA, SER)</td>\n",
       "      <td>2.607066</td>\n",
       "      <td>0.072901</td>\n",
       "      <td>-3.709959</td>\n",
       "      <td>0.082940</td>\n",
       "      <td>-1.102894</td>\n",
       "      <td>-0.010039</td>\n",
       "    </tr>\n",
       "    <tr>\n",
       "      <td>(ALA, CYS)</td>\n",
       "      <td>-1.090442</td>\n",
       "      <td>0.058047</td>\n",
       "      <td>1.174407</td>\n",
       "      <td>0.065540</td>\n",
       "      <td>-0.083966</td>\n",
       "      <td>-0.007493</td>\n",
       "    </tr>\n",
       "    <tr>\n",
       "      <td>(ALA, THR)</td>\n",
       "      <td>2.622257</td>\n",
       "      <td>0.102561</td>\n",
       "      <td>-3.327068</td>\n",
       "      <td>0.085662</td>\n",
       "      <td>-0.704811</td>\n",
       "      <td>0.016900</td>\n",
       "    </tr>\n",
       "    <tr>\n",
       "      <td>(SER, CYS)</td>\n",
       "      <td>-4.334352</td>\n",
       "      <td>0.141823</td>\n",
       "      <td>4.410473</td>\n",
       "      <td>0.145030</td>\n",
       "      <td>-0.076121</td>\n",
       "      <td>-0.003207</td>\n",
       "    </tr>\n",
       "    <tr>\n",
       "      <td>(SER, THR)</td>\n",
       "      <td>0.200489</td>\n",
       "      <td>0.065026</td>\n",
       "      <td>-1.446603</td>\n",
       "      <td>0.060476</td>\n",
       "      <td>-1.246114</td>\n",
       "      <td>0.004550</td>\n",
       "    </tr>\n",
       "    <tr>\n",
       "      <td>(CYS, THR)</td>\n",
       "      <td>5.019067</td>\n",
       "      <td>0.150243</td>\n",
       "      <td>-4.926782</td>\n",
       "      <td>0.160603</td>\n",
       "      <td>0.092285</td>\n",
       "      <td>-0.010360</td>\n",
       "    </tr>\n",
       "  </tbody>\n",
       "</table>\n",
       "</div>"
      ],
      "text/plain": [
       "            forward solvation dG  forward solvation ddG  reverse solvation dG  \\\n",
       "(ALA, SER)              2.607066               0.072901             -3.709959   \n",
       "(ALA, CYS)             -1.090442               0.058047              1.174407   \n",
       "(ALA, THR)              2.622257               0.102561             -3.327068   \n",
       "(SER, CYS)             -4.334352               0.141823              4.410473   \n",
       "(SER, THR)              0.200489               0.065026             -1.446603   \n",
       "(CYS, THR)              5.019067               0.150243             -4.926782   \n",
       "\n",
       "            reverse solvation ddG  discrepancy dG  discrepancy ddG  \n",
       "(ALA, SER)               0.082940       -1.102894        -0.010039  \n",
       "(ALA, CYS)               0.065540       -0.083966        -0.007493  \n",
       "(ALA, THR)               0.085662       -0.704811         0.016900  \n",
       "(SER, CYS)               0.145030       -0.076121        -0.003207  \n",
       "(SER, THR)               0.060476       -1.246114         0.004550  \n",
       "(CYS, THR)               0.160603        0.092285        -0.010360  "
      ]
     },
     "execution_count": 9,
     "metadata": {},
     "output_type": "execute_result"
    }
   ],
   "source": [
    "df.reindex(index=rows)"
   ]
  },
  {
   "cell_type": "markdown",
   "metadata": {},
   "source": [
    "## Generate mixing plots using Perses code"
   ]
  },
  {
   "cell_type": "code",
   "execution_count": 34,
   "metadata": {},
   "outputs": [
    {
     "name": "stderr",
     "output_type": "stream",
     "text": [
      "DEBUG:matplotlib.font_manager:findfont: Matching :family=sans-serif:style=normal:variant=normal:weight=normal:stretch=normal:size=10.0.\n",
      "DEBUG:matplotlib.font_manager:findfont: score(<Font 'cmmi10' (cmmi10.ttf) normal normal 400 normal>) = 10.05\n",
      "DEBUG:matplotlib.font_manager:findfont: score(<Font 'STIXGeneral' (STIXGeneralBol.ttf) normal normal bold normal>) = 10.335\n",
      "DEBUG:matplotlib.font_manager:findfont: score(<Font 'STIXNonUnicode' (STIXNonUni.ttf) normal normal regular normal>) = 10.05\n",
      "DEBUG:matplotlib.font_manager:findfont: score(<Font 'DejaVu Sans' (DejaVuSans-Oblique.ttf) oblique normal 400 normal>) = 1.05\n",
      "DEBUG:matplotlib.font_manager:findfont: score(<Font 'DejaVu Sans Mono' (DejaVuSansMono-Bold.ttf) normal normal bold normal>) = 10.335\n",
      "DEBUG:matplotlib.font_manager:findfont: score(<Font 'DejaVu Serif' (DejaVuSerif-Bold.ttf) normal normal bold normal>) = 10.335\n",
      "DEBUG:matplotlib.font_manager:findfont: score(<Font 'cmr10' (cmr10.ttf) normal normal 400 normal>) = 10.05\n",
      "DEBUG:matplotlib.font_manager:findfont: score(<Font 'DejaVu Sans' (DejaVuSans.ttf) normal normal 400 normal>) = 0.05\n",
      "DEBUG:matplotlib.font_manager:findfont: score(<Font 'DejaVu Sans Display' (DejaVuSansDisplay.ttf) normal normal 400 normal>) = 10.05\n",
      "DEBUG:matplotlib.font_manager:findfont: score(<Font 'DejaVu Serif' (DejaVuSerif-Italic.ttf) italic normal 400 normal>) = 11.05\n",
      "DEBUG:matplotlib.font_manager:findfont: score(<Font 'DejaVu Sans Mono' (DejaVuSansMono-Oblique.ttf) oblique normal 400 normal>) = 11.05\n",
      "DEBUG:matplotlib.font_manager:findfont: score(<Font 'cmex10' (cmex10.ttf) normal normal 400 normal>) = 10.05\n",
      "DEBUG:matplotlib.font_manager:findfont: score(<Font 'DejaVu Serif Display' (DejaVuSerifDisplay.ttf) normal normal 400 normal>) = 10.05\n",
      "DEBUG:matplotlib.font_manager:findfont: score(<Font 'STIXSizeTwoSym' (STIXSizTwoSymReg.ttf) normal normal regular normal>) = 10.05\n",
      "DEBUG:matplotlib.font_manager:findfont: score(<Font 'DejaVu Serif' (DejaVuSerif.ttf) normal normal 400 normal>) = 10.05\n",
      "DEBUG:matplotlib.font_manager:findfont: score(<Font 'DejaVu Serif' (DejaVuSerif-BoldItalic.ttf) italic normal bold normal>) = 11.335\n",
      "DEBUG:matplotlib.font_manager:findfont: score(<Font 'cmss10' (cmss10.ttf) normal normal 400 normal>) = 10.05\n",
      "DEBUG:matplotlib.font_manager:findfont: score(<Font 'STIXGeneral' (STIXGeneralBolIta.ttf) italic normal bold normal>) = 11.335\n",
      "DEBUG:matplotlib.font_manager:findfont: score(<Font 'DejaVu Sans Mono' (DejaVuSansMono.ttf) normal normal 400 normal>) = 10.05\n",
      "DEBUG:matplotlib.font_manager:findfont: score(<Font 'STIXSizeOneSym' (STIXSizOneSymReg.ttf) normal normal regular normal>) = 10.05\n",
      "DEBUG:matplotlib.font_manager:findfont: score(<Font 'cmsy10' (cmsy10.ttf) normal normal 400 normal>) = 10.05\n",
      "DEBUG:matplotlib.font_manager:findfont: score(<Font 'DejaVu Sans' (DejaVuSans-BoldOblique.ttf) oblique normal bold normal>) = 1.335\n",
      "DEBUG:matplotlib.font_manager:findfont: score(<Font 'STIXSizeOneSym' (STIXSizOneSymBol.ttf) normal normal bold normal>) = 10.335\n",
      "DEBUG:matplotlib.font_manager:findfont: score(<Font 'STIXGeneral' (STIXGeneral.ttf) normal normal regular normal>) = 10.05\n",
      "DEBUG:matplotlib.font_manager:findfont: score(<Font 'STIXSizeFourSym' (STIXSizFourSymBol.ttf) normal normal bold normal>) = 10.335\n",
      "DEBUG:matplotlib.font_manager:findfont: score(<Font 'cmb10' (cmb10.ttf) normal normal 400 normal>) = 10.05\n",
      "DEBUG:matplotlib.font_manager:findfont: score(<Font 'STIXSizeTwoSym' (STIXSizTwoSymBol.ttf) normal normal bold normal>) = 10.335\n",
      "DEBUG:matplotlib.font_manager:findfont: score(<Font 'STIXNonUnicode' (STIXNonUniIta.ttf) italic normal 400 normal>) = 11.05\n",
      "DEBUG:matplotlib.font_manager:findfont: score(<Font 'cmtt10' (cmtt10.ttf) normal normal 400 normal>) = 10.05\n",
      "DEBUG:matplotlib.font_manager:findfont: score(<Font 'STIXNonUnicode' (STIXNonUniBolIta.ttf) italic normal bold normal>) = 11.335\n",
      "DEBUG:matplotlib.font_manager:findfont: score(<Font 'STIXSizeFourSym' (STIXSizFourSymReg.ttf) normal normal regular normal>) = 10.05\n",
      "DEBUG:matplotlib.font_manager:findfont: score(<Font 'STIXGeneral' (STIXGeneralItalic.ttf) italic normal 400 normal>) = 11.05\n",
      "DEBUG:matplotlib.font_manager:findfont: score(<Font 'DejaVu Sans' (DejaVuSans-Bold.ttf) normal normal bold normal>) = 0.33499999999999996\n",
      "DEBUG:matplotlib.font_manager:findfont: score(<Font 'STIXNonUnicode' (STIXNonUniBol.ttf) normal normal bold normal>) = 10.335\n",
      "DEBUG:matplotlib.font_manager:findfont: score(<Font 'STIXSizeThreeSym' (STIXSizThreeSymReg.ttf) normal normal regular normal>) = 10.05\n",
      "DEBUG:matplotlib.font_manager:findfont: score(<Font 'DejaVu Sans Mono' (DejaVuSansMono-BoldOblique.ttf) oblique normal bold normal>) = 11.335\n",
      "DEBUG:matplotlib.font_manager:findfont: score(<Font 'STIXSizeFiveSym' (STIXSizFiveSymReg.ttf) normal normal regular normal>) = 10.05\n",
      "DEBUG:matplotlib.font_manager:findfont: score(<Font 'STIXSizeThreeSym' (STIXSizThreeSymBol.ttf) normal normal bold normal>) = 10.335\n",
      "DEBUG:matplotlib.font_manager:findfont: score(<Font 'Liberation Sans' (LiberationSans-Italic.ttf) italic normal 400 normal>) = 11.05\n",
      "DEBUG:matplotlib.font_manager:findfont: score(<Font 'Liberation Sans' (LiberationSans-Regular.ttf) normal normal 400 normal>) = 10.05\n",
      "DEBUG:matplotlib.font_manager:findfont: score(<Font 'DejaVu Sans' (DejaVuSansCondensed-Oblique.ttf) oblique normal 400 condensed>) = 1.25\n",
      "DEBUG:matplotlib.font_manager:findfont: score(<Font 'STIX' (STIX-Italic.otf) italic normal 400 normal>) = 11.05\n",
      "DEBUG:matplotlib.font_manager:findfont: score(<Font 'DejaVu Sans' (DejaVuSans-ExtraLight.ttf) normal normal light normal>) = 0.24\n",
      "DEBUG:matplotlib.font_manager:findfont: score(<Font 'DejaVu Sans' (DejaVuSansCondensed-BoldOblique.ttf) oblique normal bold condensed>) = 1.535\n",
      "DEBUG:matplotlib.font_manager:findfont: score(<Font 'STIX' (STIX-Bold.otf) normal normal bold normal>) = 10.335\n",
      "DEBUG:matplotlib.font_manager:findfont: score(<Font 'DejaVu Sans' (DejaVuSansCondensed.ttf) normal normal 400 condensed>) = 0.25\n",
      "DEBUG:matplotlib.font_manager:findfont: score(<Font 'DejaVu Sans' (DejaVuSansCondensed-Bold.ttf) normal normal bold condensed>) = 0.5349999999999999\n",
      "DEBUG:matplotlib.font_manager:findfont: score(<Font 'STIX' (STIX-Regular.otf) normal normal regular normal>) = 10.05\n",
      "DEBUG:matplotlib.font_manager:findfont: score(<Font 'Liberation Sans' (LiberationSans-BoldItalic.ttf) italic normal bold normal>) = 11.335\n",
      "DEBUG:matplotlib.font_manager:findfont: score(<Font 'STIX' (STIX-BoldItalic.otf) italic normal bold normal>) = 11.335\n",
      "DEBUG:matplotlib.font_manager:findfont: score(<Font 'Liberation Sans' (LiberationSans-Bold.ttf) normal normal bold normal>) = 10.335\n",
      "DEBUG:matplotlib.font_manager:findfont: Matching :family=sans-serif:style=normal:variant=normal:weight=normal:stretch=normal:size=10.0 to DejaVu Sans ('/home/zhangi/miniconda3/envs/perses-sims/lib/python3.7/site-packages/matplotlib/mpl-data/fonts/ttf/DejaVuSans.ttf') with score of 0.050000.\n"
     ]
    },
    {
     "data": {
      "image/png": "[encoded data removed]",
      "text/plain": [
       "<Figure size 1080x1584 with 22 Axes>"
      ]
     },
     "metadata": {
      "needs_background": "light"
     },
     "output_type": "display_data"
    }
   ],
   "source": [
    "from perses.analysis import utils\n",
    "\n",
    "utils.plot_replica_mixing(\"/data/chodera/zhangi/perses_benchmark/repex/0/0/0_solvent.nc\", filename=\"\")"
   ]
  },
  {
   "cell_type": "code",
   "execution_count": null,
   "metadata": {},
   "outputs": [],
   "source": []
  }
 ],
 "metadata": {
  "kernelspec": {
   "display_name": "Python 3",
   "language": "python",
   "name": "python3"
  },
  "language_info": {
   "codemirror_mode": {
    "name": "ipython",
    "version": 3
   },
   "file_extension": ".py",
   "mimetype": "text/x-python",
   "name": "python",
   "nbconvert_exporter": "python",
   "pygments_lexer": "ipython3",
   "version": "3.7.3"
  }
 },
 "nbformat": 4,
 "nbformat_minor": 4
}
