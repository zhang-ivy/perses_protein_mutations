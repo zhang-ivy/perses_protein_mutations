{
 "cells": [
  {
   "cell_type": "markdown",
   "metadata": {},
   "source": [
    "# Try to generate ALA->THR with generate_dipeptide_top_pos_sys"
   ]
  },
  {
   "cell_type": "code",
   "execution_count": 1,
   "metadata": {},
   "outputs": [
    {
     "name": "stderr",
     "output_type": "stream",
     "text": [
      "RDKit WARNING: [14:15:05] Enabling RDKit 2019.09.3 jupyter extensions\n"
     ]
    }
   ],
   "source": [
    "from perses.tests.test_topology_proposal import generate_dipeptide_top_pos_sys"
   ]
  },
  {
   "cell_type": "code",
   "execution_count": 2,
   "metadata": {},
   "outputs": [],
   "source": [
    "from simtk.openmm import app, unit\n",
    "from openmmforcefields.generators import SystemGenerator\n",
    "import mdtraj as md"
   ]
  },
  {
   "cell_type": "code",
   "execution_count": 3,
   "metadata": {},
   "outputs": [],
   "source": [
    "pdb = app.PDBFile(\"../input/ala_vacuum.pdb\")"
   ]
  },
  {
   "cell_type": "code",
   "execution_count": 4,
   "metadata": {},
   "outputs": [
    {
     "name": "stderr",
     "output_type": "stream",
     "text": [
      "DEBUG:perses.forcefields.system_generators:Trying GAFFTemplateGenerator to load openff-1.0.0\n",
      "DEBUG:perses.forcefields.system_generators:  GAFFTemplateGenerator cannot load openff-1.0.0\n",
      "DEBUG:perses.forcefields.system_generators:Specified 'forcefield' (openff-1.0.0) must be one of ['gaff-1.4', 'gaff-1.8', 'gaff-1.81', 'gaff-2.1', 'gaff-2.11']\n",
      "DEBUG:perses.forcefields.system_generators:Trying SMIRNOFFTemplateGenerator to load openff-1.0.0\n"
     ]
    }
   ],
   "source": [
    "forcefield_files = ['amber14/protein.ff14SB.xml', 'amber14/tip3p.xml']\n",
    "barostat = None\n",
    "forcefield_kwargs = {'removeCMMotion': False, 'ewaldErrorTolerance': 1e-4, 'hydrogenMass' : 4 * unit.amus}\n",
    "periodic_forcefield_kwargs = None\n",
    "nonperiodic_forcefield_kwargs = {'nonbondedMethod': app.NoCutoff}\n",
    "molecules = []\n",
    "system_generator = SystemGenerator(forcefields = forcefield_files,\n",
    "                                                barostat=barostat,\n",
    "                                                forcefield_kwargs=forcefield_kwargs,\n",
    "                                                periodic_forcefield_kwargs=periodic_forcefield_kwargs,\n",
    "                                   nonperiodic_forcefield_kwargs=nonperiodic_forcefield_kwargs,\n",
    "                                                molecules=molecules,\n",
    "                                                cache=None)"
   ]
  },
  {
   "cell_type": "code",
   "execution_count": 34,
   "metadata": {},
   "outputs": [],
   "source": [
    "system = system_generator.create_system(pdb.topology)"
   ]
  },
  {
   "cell_type": "code",
   "execution_count": 6,
   "metadata": {
    "scrolled": true
   },
   "outputs": [
    {
     "name": "stderr",
     "output_type": "stream",
     "text": [
      "INFO:proposal_generator:\tConducting polymer point mutation proposal...\n",
      "INFO:proposal_generator:Using matching_criterion to chose best atom map\n",
      "INFO:proposal_generator:Scaffold has symmetry of 0\n",
      "WARNING:proposal_generator:Two molecules are not similar to have a common scaffold\n",
      "WARNING:proposal_generator:Proceeding with direct mapping of molecules, but please check atom mapping and the geometry of the ligands.\n",
      "INFO:proposal_generator:len [{4: 4, 9: 9}]\n",
      "INFO:proposal_generator:{4: 4, 9: 9}\n",
      "INFO:proposal_generator:Only one map so returning that one\n",
      "INFO:proposal_generator:{4: 4, 9: 9}\n",
      "INFO:geometry:propose: performing forward proposal\n",
      "INFO:geometry:propose: unique new atoms detected; proceeding to _logp_propose...\n",
      "INFO:geometry:Conducting forward proposal...\n",
      "INFO:geometry:Computing proposal order with NetworkX...\n",
      "INFO:geometry:number of atoms to be placed: 7\n",
      "INFO:geometry:Atom index proposal order is [14, 18, 19, 13, 17, 16, 15]\n",
      "INFO:geometry:omitted_bonds: []\n",
      "INFO:geometry:direction of proposal is forward; creating atoms_with_positions and new positions from old system/topology...\n",
      "INFO:geometry:creating growth system...\n",
      "INFO:geometry:\tcreating bond force...\n",
      "INFO:geometry:\tthere are 25 bonds in reference force.\n",
      "INFO:geometry:\tcreating angle force...\n",
      "INFO:geometry:\tthere are 43 angles in reference force.\n",
      "INFO:geometry:\tcreating torsion force...\n",
      "INFO:geometry:\tcreating extra torsions force...\n",
      "INFO:geometry:\tthere are 72 torsions in reference force.\n",
      "INFO:geometry:\tcreating nonbonded force...\n",
      "INFO:geometry:\t\tgrabbing reference nonbonded method, cutoff, switching function, switching distance...\n",
      "INFO:geometry:\t\tcreating nonbonded exception force (i.e. custom bond for 1,4s)...\n",
      "INFO:geometry:\t\tlooping through exceptions calculating growth indices, and adding appropriate interactions to custom bond force.\n",
      "INFO:geometry:\t\tthere are 121 in the reference Nonbonded force\n",
      "INFO:geometry:Neglected angle terms : []\n",
      "INFO:geometry:omitted_growth_terms: {'bonds': [], 'angles': [], 'torsions': [], '1,4s': []}\n",
      "INFO:geometry:extra torsions: {0: (14, 10, 8, 18, [1, Quantity(value=1.0655064807976995, unit=radian), Quantity(value=120.0, unit=kilocalorie/mole), 2])}\n",
      "INFO:geometry:neglected angle terms include []\n",
      "INFO:geometry:log probability choice of torsions and atom order: -12.678448458920965\n"
     ]
    },
    {
     "name": "stdout",
     "output_type": "stream",
     "text": [
      "making topology proposal\n",
      "generating geometry engine\n",
      "making geometry proposal from ALA to THR\n"
     ]
    },
    {
     "name": "stderr",
     "output_type": "stream",
     "text": [
      "INFO:geometry:creating platform, integrators, and contexts; setting growth parameter\n"
     ]
    },
    {
     "name": "stdout",
     "output_type": "stream",
     "text": [
      "conducting subsequent work with the following platform: CUDA\n",
      "conducting subsequent work with the following platform: CUDA\n"
     ]
    },
    {
     "name": "stderr",
     "output_type": "stream",
     "text": [
      "INFO:geometry:setting atoms_with_positions context new positions\n"
     ]
    },
    {
     "name": "stdout",
     "output_type": "stream",
     "text": [
      "conducting subsequent work with the following platform: CUDA\n"
     ]
    },
    {
     "name": "stderr",
     "output_type": "stream",
     "text": [
      "INFO:geometry:There are 7 new atoms\n",
      "INFO:geometry:\treduced angle potential = 0.7017404701614914.\n",
      "INFO:geometry:\treduced angle potential = 0.01137796878295787.\n",
      "INFO:geometry:\treduced angle potential = 0.30348368388224856.\n",
      "INFO:geometry:\treduced angle potential = 0.2670952374026162.\n",
      "INFO:geometry:\treduced angle potential = 0.12057570388946709.\n",
      "INFO:geometry:\treduced angle potential = 0.19581907781993782.\n",
      "INFO:geometry:\treduced angle potential = 0.05731898159853914.\n",
      "INFO:geometry:\tbeginning construction of no_nonbonded final system...\n",
      "INFO:geometry:\tinitial no-nonbonded final system forces ['HarmonicBondForce', 'HarmonicAngleForce', 'PeriodicTorsionForce', 'NonbondedForce']\n",
      "INFO:geometry:\tfinal no-nonbonded final system forces dict_keys(['HarmonicBondForce', 'HarmonicAngleForce', 'PeriodicTorsionForce', 'NonbondedForce'])\n",
      "INFO:geometry:\tthere are 25 bond forces in the no-nonbonded final system\n",
      "INFO:geometry:\tthere are 43 angle forces in the no-nonbonded final system\n",
      "INFO:geometry:\tthere are 72 torsion forces in the no-nonbonded final system\n",
      "INFO:geometry:forward final system defined with 0 neglected angles.\n"
     ]
    },
    {
     "name": "stdout",
     "output_type": "stream",
     "text": [
      "conducting subsequent work with the following platform: CUDA\n",
      "conducting subsequent work with the following platform: CUDA\n"
     ]
    },
    {
     "name": "stderr",
     "output_type": "stream",
     "text": [
      "INFO:geometry:total reduced potential before atom placement: 16.82000092279191\n"
     ]
    },
    {
     "name": "stdout",
     "output_type": "stream",
     "text": [
      "conducting subsequent work with the following platform: CUDA\n",
      "conducting subsequent work with the following platform: CUDA\n",
      "conducting subsequent work with the following platform: CUDA\n",
      "added energy components: [('CustomBondForce', 4.916432067963741), ('CustomAngleForce', 5.301066152281806), ('CustomTorsionForce', 14.138837938973358), ('CustomBondForce', -65.21850355021851)]\n"
     ]
    },
    {
     "name": "stderr",
     "output_type": "stream",
     "text": [
      "INFO:geometry:total reduced energy added from growth system: -40.862167390999616\n",
      "INFO:geometry:final reduced energy -24.042168238118208\n",
      "INFO:geometry:sum of energies: -24.042166468207707\n",
      "INFO:geometry:magnitude of difference in the energies: 1.7699104972734858e-06\n",
      "INFO:geometry:Final logp_proposal: 56.35502660192011\n",
      "INFO:geometry:logp_reverse: performing reverse proposal\n",
      "INFO:geometry:logp_reverse: unique new atoms detected; proceeding to _logp_propose...\n",
      "INFO:geometry:Conducting forward proposal...\n",
      "INFO:geometry:Computing proposal order with NetworkX...\n",
      "INFO:geometry:number of atoms to be placed: 3\n",
      "INFO:geometry:Atom index proposal order is [15, 11, 12]\n",
      "INFO:geometry:omitted_bonds: []\n",
      "INFO:geometry:direction of proposal is reverse; creating atoms_with_positions from old system/topology\n",
      "INFO:geometry:creating growth system...\n",
      "INFO:geometry:\tcreating bond force...\n",
      "INFO:geometry:\tthere are 21 bonds in reference force.\n",
      "INFO:geometry:\tcreating angle force...\n",
      "INFO:geometry:\tthere are 36 angles in reference force.\n",
      "INFO:geometry:\tcreating torsion force...\n",
      "INFO:geometry:\tcreating extra torsions force...\n",
      "INFO:geometry:\tthere are 42 torsions in reference force.\n",
      "INFO:geometry:\tcreating nonbonded force...\n",
      "INFO:geometry:\t\tgrabbing reference nonbonded method, cutoff, switching function, switching distance...\n",
      "INFO:geometry:\t\tcreating nonbonded exception force (i.e. custom bond for 1,4s)...\n",
      "INFO:geometry:\t\tlooping through exceptions calculating growth indices, and adding appropriate interactions to custom bond force.\n",
      "INFO:geometry:\t\tthere are 98 in the reference Nonbonded force\n",
      "INFO:geometry:Neglected angle terms : []\n",
      "INFO:geometry:omitted_growth_terms: {'bonds': [], 'angles': [], 'torsions': [], '1,4s': []}\n",
      "INFO:geometry:extra torsions: {}\n",
      "INFO:geometry:neglected angle terms include []\n",
      "INFO:geometry:log probability choice of torsions and atom order: -5.0875963352323845\n",
      "INFO:geometry:creating platform, integrators, and contexts; setting growth parameter\n"
     ]
    },
    {
     "name": "stdout",
     "output_type": "stream",
     "text": [
      "conducting subsequent work with the following platform: CUDA\n"
     ]
    },
    {
     "name": "stderr",
     "output_type": "stream",
     "text": [
      "INFO:geometry:setting atoms_with_positions context old positions\n"
     ]
    },
    {
     "name": "stdout",
     "output_type": "stream",
     "text": [
      "conducting subsequent work with the following platform: CUDA\n"
     ]
    },
    {
     "name": "stderr",
     "output_type": "stream",
     "text": [
      "INFO:geometry:There are 3 new atoms\n"
     ]
    },
    {
     "ename": "AttributeError",
     "evalue": "'Vec3' object has no attribute 'astype'",
     "output_type": "error",
     "traceback": [
      "\u001b[0;31m---------------------------------------------\u001b[0m",
      "\u001b[0;31mAttributeError\u001b[0mTraceback (most recent call last)",
      "\u001b[0;32m<ipython-input-6-d3f1686751c0>\u001b[0m in \u001b[0;36m<module>\u001b[0;34m\u001b[0m\n\u001b[0;32m----> 1\u001b[0;31m \u001b[0mtopology_proposal\u001b[0m\u001b[0;34m,\u001b[0m \u001b[0mnew_pos\u001b[0m\u001b[0;34m,\u001b[0m \u001b[0mlogp_proposal\u001b[0m\u001b[0;34m,\u001b[0m \u001b[0mlogp_reverse\u001b[0m \u001b[0;34m=\u001b[0m \u001b[0mgenerate_dipeptide_top_pos_sys\u001b[0m\u001b[0;34m(\u001b[0m\u001b[0mpdb\u001b[0m\u001b[0;34m.\u001b[0m\u001b[0mtopology\u001b[0m\u001b[0;34m,\u001b[0m \u001b[0;34m\"THR\"\u001b[0m\u001b[0;34m,\u001b[0m \u001b[0msystem\u001b[0m\u001b[0;34m,\u001b[0m \u001b[0mpdb\u001b[0m\u001b[0;34m.\u001b[0m\u001b[0mpositions\u001b[0m\u001b[0;34m,\u001b[0m \u001b[0msystem_generator\u001b[0m\u001b[0;34m)\u001b[0m\u001b[0;34m\u001b[0m\u001b[0;34m\u001b[0m\u001b[0m\n\u001b[0m",
      "\u001b[0;32m~/miniconda3/envs/perses-sims/lib/python3.7/site-packages/perses-0.8.1.dev0-py3.7.egg/perses/tests/test_topology_proposal.py\u001b[0m in \u001b[0;36mgenerate_dipeptide_top_pos_sys\u001b[0;34m(topology, new_res, system, positions, system_generator, conduct_geometry_prop, conduct_htf_prop, validate_energy_bookkeeping)\u001b[0m\n\u001b[1;32m    274\u001b[0m         \u001b[0mprint\u001b[0m\u001b[0;34m(\u001b[0m\u001b[0;34mf\"making geometry proposal from {list(topology.residues())[1].name} to {new_res}\"\u001b[0m\u001b[0;34m)\u001b[0m\u001b[0;34m\u001b[0m\u001b[0;34m\u001b[0m\u001b[0m\n\u001b[1;32m    275\u001b[0m         \u001b[0mforward_new_positions\u001b[0m\u001b[0;34m,\u001b[0m \u001b[0mlogp_proposal\u001b[0m \u001b[0;34m=\u001b[0m \u001b[0mgeometry_engine\u001b[0m\u001b[0;34m.\u001b[0m\u001b[0mpropose\u001b[0m\u001b[0;34m(\u001b[0m\u001b[0mtopology_proposal\u001b[0m\u001b[0;34m,\u001b[0m \u001b[0mpositions\u001b[0m\u001b[0;34m,\u001b[0m \u001b[0mbeta\u001b[0m\u001b[0;34m,\u001b[0m \u001b[0mvalidate_energy_bookkeeping\u001b[0m\u001b[0;34m=\u001b[0m\u001b[0mvalidate_energy_bookkeeping\u001b[0m\u001b[0;34m)\u001b[0m\u001b[0;34m\u001b[0m\u001b[0;34m\u001b[0m\u001b[0m\n\u001b[0;32m--> 276\u001b[0;31m         \u001b[0mlogp_reverse\u001b[0m \u001b[0;34m=\u001b[0m \u001b[0mgeometry_engine\u001b[0m\u001b[0;34m.\u001b[0m\u001b[0mlogp_reverse\u001b[0m\u001b[0;34m(\u001b[0m\u001b[0mtopology_proposal\u001b[0m\u001b[0;34m,\u001b[0m \u001b[0mforward_new_positions\u001b[0m\u001b[0;34m,\u001b[0m \u001b[0mpositions\u001b[0m\u001b[0;34m,\u001b[0m \u001b[0mbeta\u001b[0m\u001b[0;34m,\u001b[0m \u001b[0mvalidate_energy_bookkeeping\u001b[0m\u001b[0;34m=\u001b[0m\u001b[0mvalidate_energy_bookkeeping\u001b[0m\u001b[0;34m)\u001b[0m\u001b[0;34m\u001b[0m\u001b[0;34m\u001b[0m\u001b[0m\n\u001b[0m\u001b[1;32m    277\u001b[0m \u001b[0;34m\u001b[0m\u001b[0m\n\u001b[1;32m    278\u001b[0m     \u001b[0;32mif\u001b[0m \u001b[0;32mnot\u001b[0m \u001b[0mconduct_htf_prop\u001b[0m\u001b[0;34m:\u001b[0m\u001b[0;34m\u001b[0m\u001b[0;34m\u001b[0m\u001b[0m\n",
      "\u001b[0;32m~/miniconda3/envs/perses-sims/lib/python3.7/site-packages/perses-0.8.1.dev0-py3.7.egg/perses/rjmc/geometry.py\u001b[0m in \u001b[0;36mlogp_reverse\u001b[0;34m(self, top_proposal, new_coordinates, old_coordinates, beta, validate_energy_bookkeeping)\u001b[0m\n\u001b[1;32m    289\u001b[0m         \u001b[0;31m# Compute log proposal probability for reverse direction\u001b[0m\u001b[0;34m\u001b[0m\u001b[0;34m\u001b[0m\u001b[0;34m\u001b[0m\u001b[0m\n\u001b[1;32m    290\u001b[0m         \u001b[0m_logger\u001b[0m\u001b[0;34m.\u001b[0m\u001b[0minfo\u001b[0m\u001b[0;34m(\u001b[0m\u001b[0;34m\"logp_reverse: unique new atoms detected; proceeding to _logp_propose...\"\u001b[0m\u001b[0;34m)\u001b[0m\u001b[0;34m\u001b[0m\u001b[0;34m\u001b[0m\u001b[0m\n\u001b[0;32m--> 291\u001b[0;31m         \u001b[0mlogp_proposal\u001b[0m\u001b[0;34m,\u001b[0m \u001b[0mnew_positions\u001b[0m\u001b[0;34m,\u001b[0m \u001b[0mrjmc_info\u001b[0m\u001b[0;34m,\u001b[0m \u001b[0matoms_with_positions_reduced_potential\u001b[0m\u001b[0;34m,\u001b[0m \u001b[0mfinal_context_reduced_potential\u001b[0m\u001b[0;34m,\u001b[0m \u001b[0mneglected_angle_terms\u001b[0m\u001b[0;34m,\u001b[0m \u001b[0momitted_terms\u001b[0m \u001b[0;34m=\u001b[0m \u001b[0mself\u001b[0m\u001b[0;34m.\u001b[0m\u001b[0m_logp_propose\u001b[0m\u001b[0;34m(\u001b[0m\u001b[0mtop_proposal\u001b[0m\u001b[0;34m,\u001b[0m \u001b[0mold_coordinates\u001b[0m\u001b[0;34m,\u001b[0m \u001b[0mbeta\u001b[0m\u001b[0;34m,\u001b[0m \u001b[0mnew_positions\u001b[0m\u001b[0;34m=\u001b[0m\u001b[0mnew_coordinates\u001b[0m\u001b[0;34m,\u001b[0m \u001b[0mdirection\u001b[0m\u001b[0;34m=\u001b[0m\u001b[0;34m'reverse'\u001b[0m\u001b[0;34m,\u001b[0m \u001b[0mvalidate_energy_bookkeeping\u001b[0m \u001b[0;34m=\u001b[0m \u001b[0mvalidate_energy_bookkeeping\u001b[0m\u001b[0;34m)\u001b[0m\u001b[0;34m\u001b[0m\u001b[0;34m\u001b[0m\u001b[0m\n\u001b[0m\u001b[1;32m    292\u001b[0m         \u001b[0mself\u001b[0m\u001b[0;34m.\u001b[0m\u001b[0mreverse_new_positions\u001b[0m\u001b[0;34m,\u001b[0m \u001b[0mself\u001b[0m\u001b[0;34m.\u001b[0m\u001b[0mreverse_rjmc_info\u001b[0m \u001b[0;34m=\u001b[0m \u001b[0mnew_positions\u001b[0m\u001b[0;34m,\u001b[0m \u001b[0mrjmc_info\u001b[0m\u001b[0;34m\u001b[0m\u001b[0;34m\u001b[0m\u001b[0m\n\u001b[1;32m    293\u001b[0m         \u001b[0mself\u001b[0m\u001b[0;34m.\u001b[0m\u001b[0mreverse_atoms_with_positions_reduced_potential\u001b[0m\u001b[0;34m,\u001b[0m \u001b[0mself\u001b[0m\u001b[0;34m.\u001b[0m\u001b[0mreverse_final_context_reduced_potential\u001b[0m \u001b[0;34m=\u001b[0m \u001b[0matoms_with_positions_reduced_potential\u001b[0m\u001b[0;34m,\u001b[0m \u001b[0mfinal_context_reduced_potential\u001b[0m\u001b[0;34m\u001b[0m\u001b[0;34m\u001b[0m\u001b[0m\n",
      "\u001b[0;32m~/miniconda3/envs/perses-sims/lib/python3.7/site-packages/perses-0.8.1.dev0-py3.7.egg/perses/rjmc/geometry.py\u001b[0m in \u001b[0;36m_logp_propose\u001b[0;34m(self, top_proposal, old_positions, beta, new_positions, direction, validate_energy_bookkeeping)\u001b[0m\n\u001b[1;32m    514\u001b[0m             \u001b[0;32mif\u001b[0m \u001b[0mdirection\u001b[0m \u001b[0;34m==\u001b[0m \u001b[0;34m'reverse'\u001b[0m\u001b[0;34m:\u001b[0m\u001b[0;34m\u001b[0m\u001b[0;34m\u001b[0m\u001b[0m\n\u001b[1;32m    515\u001b[0m                 \u001b[0matom_coords\u001b[0m\u001b[0;34m,\u001b[0m \u001b[0mbond_coords\u001b[0m\u001b[0;34m,\u001b[0m \u001b[0mangle_coords\u001b[0m\u001b[0;34m,\u001b[0m \u001b[0mtorsion_coords\u001b[0m \u001b[0;34m=\u001b[0m \u001b[0;34m[\u001b[0m \u001b[0mold_positions\u001b[0m\u001b[0;34m[\u001b[0m\u001b[0mindex\u001b[0m\u001b[0;34m]\u001b[0m \u001b[0;32mfor\u001b[0m \u001b[0mindex\u001b[0m \u001b[0;32min\u001b[0m \u001b[0mtorsion_atom_indices\u001b[0m \u001b[0;34m]\u001b[0m\u001b[0;34m\u001b[0m\u001b[0;34m\u001b[0m\u001b[0m\n\u001b[0;32m--> 516\u001b[0;31m                 \u001b[0minternal_coordinates\u001b[0m\u001b[0;34m,\u001b[0m \u001b[0mdetJ\u001b[0m \u001b[0;34m=\u001b[0m \u001b[0mself\u001b[0m\u001b[0;34m.\u001b[0m\u001b[0m_cartesian_to_internal\u001b[0m\u001b[0;34m(\u001b[0m\u001b[0matom_coords\u001b[0m\u001b[0;34m,\u001b[0m \u001b[0mbond_coords\u001b[0m\u001b[0;34m,\u001b[0m \u001b[0mangle_coords\u001b[0m\u001b[0;34m,\u001b[0m \u001b[0mtorsion_coords\u001b[0m\u001b[0;34m)\u001b[0m\u001b[0;34m\u001b[0m\u001b[0;34m\u001b[0m\u001b[0m\n\u001b[0m\u001b[1;32m    517\u001b[0m                 \u001b[0;31m# Extract dimensionless internal coordinates\u001b[0m\u001b[0;34m\u001b[0m\u001b[0;34m\u001b[0m\u001b[0;34m\u001b[0m\u001b[0m\n\u001b[1;32m    518\u001b[0m                 \u001b[0mr\u001b[0m\u001b[0;34m,\u001b[0m \u001b[0mtheta\u001b[0m\u001b[0;34m,\u001b[0m \u001b[0mphi\u001b[0m \u001b[0;34m=\u001b[0m \u001b[0minternal_coordinates\u001b[0m\u001b[0;34m[\u001b[0m\u001b[0;36m0\u001b[0m\u001b[0;34m]\u001b[0m\u001b[0;34m,\u001b[0m \u001b[0minternal_coordinates\u001b[0m\u001b[0;34m[\u001b[0m\u001b[0;36m1\u001b[0m\u001b[0;34m]\u001b[0m\u001b[0;34m,\u001b[0m \u001b[0minternal_coordinates\u001b[0m\u001b[0;34m[\u001b[0m\u001b[0;36m2\u001b[0m\u001b[0;34m]\u001b[0m \u001b[0;31m# dimensionless\u001b[0m\u001b[0;34m\u001b[0m\u001b[0;34m\u001b[0m\u001b[0m\n",
      "\u001b[0;32m~/miniconda3/envs/perses-sims/lib/python3.7/site-packages/perses-0.8.1.dev0-py3.7.egg/perses/rjmc/geometry.py\u001b[0m in \u001b[0;36m_cartesian_to_internal\u001b[0;34m(self, atom_position, bond_position, angle_position, torsion_position)\u001b[0m\n\u001b[1;32m   1107\u001b[0m         \u001b[0;32mfrom\u001b[0m \u001b[0mperses\u001b[0m\u001b[0;34m.\u001b[0m\u001b[0mrjmc\u001b[0m \u001b[0;32mimport\u001b[0m \u001b[0mcoordinate_numba\u001b[0m\u001b[0;34m\u001b[0m\u001b[0;34m\u001b[0m\u001b[0m\n\u001b[1;32m   1108\u001b[0m         internal_coords = coordinate_numba.cartesian_to_internal(\n\u001b[0;32m-> 1109\u001b[0;31m             \u001b[0matom_position\u001b[0m\u001b[0;34m.\u001b[0m\u001b[0mvalue_in_unit\u001b[0m\u001b[0;34m(\u001b[0m\u001b[0munit\u001b[0m\u001b[0;34m.\u001b[0m\u001b[0mnanometers\u001b[0m\u001b[0;34m)\u001b[0m\u001b[0;34m.\u001b[0m\u001b[0mastype\u001b[0m\u001b[0;34m(\u001b[0m\u001b[0mnp\u001b[0m\u001b[0;34m.\u001b[0m\u001b[0mfloat64\u001b[0m\u001b[0;34m)\u001b[0m\u001b[0;34m,\u001b[0m\u001b[0;34m\u001b[0m\u001b[0;34m\u001b[0m\u001b[0m\n\u001b[0m\u001b[1;32m   1110\u001b[0m             \u001b[0mbond_position\u001b[0m\u001b[0;34m.\u001b[0m\u001b[0mvalue_in_unit\u001b[0m\u001b[0;34m(\u001b[0m\u001b[0munit\u001b[0m\u001b[0;34m.\u001b[0m\u001b[0mnanometers\u001b[0m\u001b[0;34m)\u001b[0m\u001b[0;34m.\u001b[0m\u001b[0mastype\u001b[0m\u001b[0;34m(\u001b[0m\u001b[0mnp\u001b[0m\u001b[0;34m.\u001b[0m\u001b[0mfloat64\u001b[0m\u001b[0;34m)\u001b[0m\u001b[0;34m,\u001b[0m\u001b[0;34m\u001b[0m\u001b[0;34m\u001b[0m\u001b[0m\n\u001b[1;32m   1111\u001b[0m             \u001b[0mangle_position\u001b[0m\u001b[0;34m.\u001b[0m\u001b[0mvalue_in_unit\u001b[0m\u001b[0;34m(\u001b[0m\u001b[0munit\u001b[0m\u001b[0;34m.\u001b[0m\u001b[0mnanometers\u001b[0m\u001b[0;34m)\u001b[0m\u001b[0;34m.\u001b[0m\u001b[0mastype\u001b[0m\u001b[0;34m(\u001b[0m\u001b[0mnp\u001b[0m\u001b[0;34m.\u001b[0m\u001b[0mfloat64\u001b[0m\u001b[0;34m)\u001b[0m\u001b[0;34m,\u001b[0m\u001b[0;34m\u001b[0m\u001b[0;34m\u001b[0m\u001b[0m\n",
      "\u001b[0;31mAttributeError\u001b[0m: 'Vec3' object has no attribute 'astype'"
     ]
    }
   ],
   "source": [
    "topology_proposal, new_pos, logp_proposal, logp_reverse = generate_dipeptide_top_pos_sys(pdb.topology, \"THR\", system, pdb.positions, system_generator)"
   ]
  },
  {
   "cell_type": "code",
   "execution_count": null,
   "metadata": {},
   "outputs": [],
   "source": [
    "traj = md.Trajectory(np.array(new_pos), topology_proposal._new_topology)"
   ]
  },
  {
   "cell_type": "code",
   "execution_count": null,
   "metadata": {},
   "outputs": [],
   "source": [
    "traj.save(\"thr.pdb\")"
   ]
  },
  {
   "cell_type": "markdown",
   "metadata": {},
   "source": [
    "# Try to generate ALA->THR with PointMutationExecutor"
   ]
  },
  {
   "cell_type": "code",
   "execution_count": 15,
   "metadata": {},
   "outputs": [],
   "source": [
    "from perses.app.relative_point_mutation_setup import PointMutationExecutor\n",
    "import os\n",
    "import pickle\n",
    "import numpy as np"
   ]
  },
  {
   "cell_type": "code",
   "execution_count": 10,
   "metadata": {
    "scrolled": true
   },
   "outputs": [
    {
     "name": "stderr",
     "output_type": "stream",
     "text": [
      "INFO:proposal_generator:\tConducting polymer point mutation proposal...\n",
      "INFO:proposal_generator:Using matching_criterion to chose best atom map\n",
      "INFO:proposal_generator:Scaffold has symmetry of 0\n",
      "WARNING:proposal_generator:Two molecules are not similar to have a common scaffold\n",
      "WARNING:proposal_generator:Proceeding with direct mapping of molecules, but please check atom mapping and the geometry of the ligands.\n",
      "INFO:proposal_generator:len [{4: 4, 9: 9}]\n",
      "INFO:proposal_generator:{4: 4, 9: 9}\n",
      "INFO:proposal_generator:Only one map so returning that one\n",
      "INFO:proposal_generator:{4: 4, 9: 9}\n",
      "INFO:geometry:propose: performing forward proposal\n",
      "INFO:geometry:propose: unique new atoms detected; proceeding to _logp_propose...\n",
      "INFO:geometry:Conducting forward proposal...\n",
      "INFO:geometry:Computing proposal order with NetworkX...\n",
      "INFO:geometry:number of atoms to be placed: 7\n",
      "INFO:geometry:Atom index proposal order is [14, 18, 15, 17, 13, 19, 16]\n",
      "INFO:geometry:omitted_bonds: []\n",
      "INFO:geometry:direction of proposal is forward; creating atoms_with_positions and new positions from old system/topology...\n",
      "INFO:geometry:creating growth system...\n",
      "INFO:geometry:\tcreating bond force...\n",
      "INFO:geometry:\tthere are 11 bonds in reference force.\n",
      "INFO:geometry:\tcreating angle force...\n",
      "INFO:geometry:\tthere are 43 angles in reference force.\n",
      "INFO:geometry:\tcreating torsion force...\n",
      "INFO:geometry:\tcreating extra torsions force...\n",
      "INFO:geometry:\tthere are 72 torsions in reference force.\n",
      "INFO:geometry:\tcreating nonbonded force...\n",
      "INFO:geometry:\t\tgrabbing reference nonbonded method, cutoff, switching function, switching distance...\n",
      "INFO:geometry:\t\tcreating nonbonded exception force (i.e. custom bond for 1,4s)...\n",
      "INFO:geometry:\t\tlooping through exceptions calculating growth indices, and adding appropriate interactions to custom bond force.\n",
      "INFO:geometry:\t\tthere are 121 in the reference Nonbonded force\n",
      "INFO:geometry:Neglected angle terms : []\n",
      "INFO:geometry:omitted_growth_terms: {'bonds': [], 'angles': [], 'torsions': [], '1,4s': []}\n",
      "INFO:geometry:extra torsions: {0: (14, 10, 8, 18, [1, Quantity(value=1.0655064807976995, unit=radian), Quantity(value=120.0, unit=kilocalorie/mole), 2])}\n",
      "INFO:geometry:neglected angle terms include []\n",
      "INFO:geometry:log probability choice of torsions and atom order: -12.678448458920965\n",
      "INFO:geometry:creating platform, integrators, and contexts; setting growth parameter\n"
     ]
    },
    {
     "name": "stdout",
     "output_type": "stream",
     "text": [
      "conducting subsequent work with the following platform: CUDA\n"
     ]
    },
    {
     "name": "stderr",
     "output_type": "stream",
     "text": [
      "INFO:geometry:setting atoms_with_positions context new positions\n"
     ]
    },
    {
     "name": "stdout",
     "output_type": "stream",
     "text": [
      "conducting subsequent work with the following platform: CUDA\n"
     ]
    },
    {
     "name": "stderr",
     "output_type": "stream",
     "text": [
      "INFO:geometry:There are 7 new atoms\n",
      "INFO:geometry:\treduced angle potential = 0.1743732254730122.\n",
      "INFO:geometry:\treduced angle potential = 0.36478204456617697.\n",
      "INFO:geometry:\treduced angle potential = 1.367580898492192.\n",
      "INFO:geometry:\treduced angle potential = 0.6651866273491234.\n",
      "INFO:geometry:\treduced angle potential = 0.030950936160344264.\n",
      "INFO:geometry:\treduced angle potential = 0.45458836324540325.\n",
      "INFO:geometry:\treduced angle potential = 0.4358030034887624.\n",
      "INFO:geometry:\tbeginning construction of no_nonbonded final system...\n",
      "INFO:geometry:\tinitial no-nonbonded final system forces ['HarmonicBondForce', 'HarmonicAngleForce', 'PeriodicTorsionForce', 'NonbondedForce']\n",
      "INFO:geometry:\tfinal no-nonbonded final system forces dict_keys(['HarmonicBondForce', 'HarmonicAngleForce', 'PeriodicTorsionForce', 'NonbondedForce'])\n",
      "INFO:geometry:\tthere are 11 bond forces in the no-nonbonded final system\n",
      "INFO:geometry:\tthere are 43 angle forces in the no-nonbonded final system\n",
      "INFO:geometry:\tthere are 72 torsion forces in the no-nonbonded final system\n",
      "INFO:geometry:forward final system defined with 0 neglected angles.\n"
     ]
    },
    {
     "name": "stdout",
     "output_type": "stream",
     "text": [
      "conducting subsequent work with the following platform: CUDA\n",
      "conducting subsequent work with the following platform: CUDA\n"
     ]
    },
    {
     "name": "stderr",
     "output_type": "stream",
     "text": [
      "INFO:geometry:total reduced potential before atom placement: 16.819388266328367\n"
     ]
    },
    {
     "name": "stdout",
     "output_type": "stream",
     "text": [
      "conducting subsequent work with the following platform: CUDA\n",
      "conducting subsequent work with the following platform: CUDA\n",
      "conducting subsequent work with the following platform: CUDA\n",
      "added energy components: [('CustomBondForce', 2.33192258994232), ('CustomAngleForce', 4.913290409407071), ('CustomTorsionForce', 10.647276261805589), ('CustomBondForce', -73.13830496692346)]\n"
     ]
    },
    {
     "name": "stderr",
     "output_type": "stream",
     "text": [
      "INFO:geometry:total reduced energy added from growth system: -55.24581570576848\n",
      "INFO:geometry:final reduced energy -38.426429173619695\n",
      "INFO:geometry:sum of energies: -38.42642743944011\n",
      "INFO:geometry:magnitude of difference in the energies: 1.7341795839342922e-06\n",
      "INFO:geometry:Final logp_proposal: 38.099641498940635\n",
      "INFO:geometry:logp_reverse: performing reverse proposal\n",
      "INFO:geometry:logp_reverse: unique new atoms detected; proceeding to _logp_propose...\n",
      "INFO:geometry:Conducting forward proposal...\n",
      "INFO:geometry:Computing proposal order with NetworkX...\n",
      "INFO:geometry:number of atoms to be placed: 3\n",
      "INFO:geometry:Atom index proposal order is [12, 11, 15]\n",
      "INFO:geometry:omitted_bonds: []\n",
      "INFO:geometry:direction of proposal is reverse; creating atoms_with_positions from old system/topology\n",
      "INFO:geometry:creating growth system...\n",
      "INFO:geometry:\tcreating bond force...\n",
      "INFO:geometry:\tthere are 9 bonds in reference force.\n",
      "INFO:geometry:\tcreating angle force...\n",
      "INFO:geometry:\tthere are 36 angles in reference force.\n",
      "INFO:geometry:\tcreating torsion force...\n",
      "INFO:geometry:\tcreating extra torsions force...\n",
      "INFO:geometry:\tthere are 42 torsions in reference force.\n",
      "INFO:geometry:\tcreating nonbonded force...\n",
      "INFO:geometry:\t\tgrabbing reference nonbonded method, cutoff, switching function, switching distance...\n",
      "INFO:geometry:\t\tcreating nonbonded exception force (i.e. custom bond for 1,4s)...\n",
      "INFO:geometry:\t\tlooping through exceptions calculating growth indices, and adding appropriate interactions to custom bond force.\n",
      "INFO:geometry:\t\tthere are 98 in the reference Nonbonded force\n",
      "INFO:geometry:Neglected angle terms : []\n",
      "INFO:geometry:omitted_growth_terms: {'bonds': [], 'angles': [], 'torsions': [], '1,4s': []}\n",
      "INFO:geometry:extra torsions: {}\n",
      "INFO:geometry:neglected angle terms include []\n",
      "INFO:geometry:log probability choice of torsions and atom order: -5.0875963352323845\n",
      "INFO:geometry:creating platform, integrators, and contexts; setting growth parameter\n"
     ]
    },
    {
     "name": "stdout",
     "output_type": "stream",
     "text": [
      "conducting subsequent work with the following platform: CUDA\n"
     ]
    },
    {
     "name": "stderr",
     "output_type": "stream",
     "text": [
      "INFO:geometry:setting atoms_with_positions context old positions\n"
     ]
    },
    {
     "name": "stdout",
     "output_type": "stream",
     "text": [
      "conducting subsequent work with the following platform: CUDA\n"
     ]
    },
    {
     "name": "stderr",
     "output_type": "stream",
     "text": [
      "INFO:geometry:There are 3 new atoms\n",
      "INFO:geometry:\treduced angle potential = 1.858184262206258e-06.\n",
      "INFO:geometry:\treduced angle potential = 8.578546222633222e-06.\n",
      "INFO:geometry:\treduced angle potential = 1.1491328110690509.\n",
      "INFO:geometry:\tbeginning construction of no_nonbonded final system...\n",
      "INFO:geometry:\tinitial no-nonbonded final system forces ['HarmonicBondForce', 'HarmonicAngleForce', 'PeriodicTorsionForce', 'NonbondedForce']\n",
      "INFO:geometry:\tfinal no-nonbonded final system forces dict_keys(['HarmonicBondForce', 'HarmonicAngleForce', 'PeriodicTorsionForce', 'NonbondedForce'])\n",
      "INFO:geometry:\tthere are 9 bond forces in the no-nonbonded final system\n",
      "INFO:geometry:\tthere are 36 angle forces in the no-nonbonded final system\n",
      "INFO:geometry:\tthere are 42 torsion forces in the no-nonbonded final system\n",
      "INFO:geometry:reverse final system defined with 0 neglected angles.\n"
     ]
    },
    {
     "name": "stdout",
     "output_type": "stream",
     "text": [
      "conducting subsequent work with the following platform: CUDA\n",
      "conducting subsequent work with the following platform: CUDA\n"
     ]
    },
    {
     "name": "stderr",
     "output_type": "stream",
     "text": [
      "INFO:geometry:total reduced potential before atom placement: 16.819388266328364\n"
     ]
    },
    {
     "name": "stdout",
     "output_type": "stream",
     "text": [
      "conducting subsequent work with the following platform: CUDA\n",
      "conducting subsequent work with the following platform: CUDA\n",
      "conducting subsequent work with the following platform: CUDA\n",
      "added energy components: [('CustomBondForce', 0.0), ('CustomAngleForce', 1.5196358350712886), ('CustomTorsionForce', 0.005213740573906639), ('CustomBondForce', 9.320453706794812)]\n"
     ]
    },
    {
     "name": "stderr",
     "output_type": "stream",
     "text": [
      "INFO:geometry:total reduced energy added from growth system: 10.845303282440007\n",
      "INFO:geometry:final reduced energy 27.664692045560134\n",
      "INFO:geometry:sum of energies: 27.66469154876837\n",
      "INFO:geometry:magnitude of difference in the energies: 4.967917632825447e-07\n",
      "INFO:geometry:Final logp_proposal: 13.431482207105638\n",
      "INFO:relative:Beginning nonbonded method, total particle, barostat, and exceptions retrieval...\n",
      "INFO:relative:Old system forces: dict_keys(['HarmonicBondForce', 'HarmonicAngleForce', 'PeriodicTorsionForce', 'NonbondedForce'])\n",
      "INFO:relative:New system forces: dict_keys(['HarmonicBondForce', 'HarmonicAngleForce', 'PeriodicTorsionForce', 'NonbondedForce'])\n",
      "INFO:relative:No unknown forces.\n",
      "INFO:relative:Nonbonded method to be used (i.e. from old system): 0\n",
      "INFO:relative:Adding and mapping old atoms to hybrid system...\n",
      "INFO:relative:Adding and mapping new atoms to hybrid system...\n",
      "INFO:relative:No MonteCarloBarostat added.\n",
      "INFO:relative:getDefaultPeriodicBoxVectors added to hybrid: [Quantity(value=Vec3(x=2.0, y=0.0, z=0.0), unit=nanometer), Quantity(value=Vec3(x=0.0, y=2.0, z=0.0), unit=nanometer), Quantity(value=Vec3(x=0.0, y=0.0, z=2.0), unit=nanometer)]\n",
      "INFO:relative:Determined atom classes.\n",
      "INFO:relative:Generating old system exceptions dict...\n",
      "INFO:relative:Generating new system exceptions dict...\n",
      "INFO:relative:Handling constraints...\n",
      "INFO:relative:Handling virtual sites...\n",
      "INFO:relative:\t_handle_virtual_sites: numVirtualSites: 0\n",
      "INFO:relative:Adding bond force terms...\n",
      "INFO:relative:Adding angle force terms...\n",
      "INFO:relative:Adding torsion force terms...\n",
      "INFO:relative:Adding nonbonded force terms...\n",
      "INFO:relative:\t_add_nonbonded_force_terms: <simtk.openmm.openmm.NonbondedForce; proxy of <Swig Object of type 'OpenMM::NonbondedForce *' at 0x2ab1bde47e10> > added to hybrid system\n",
      "INFO:relative:\t_add_nonbonded_force_terms: nonbonded_method is NoCutoff\n",
      "INFO:relative:\t_add_nonbonded_force_terms: 0 added to standard nonbonded force\n",
      "INFO:relative:\t_add_nonbonded_force_terms: 0 added to sterics_custom_nonbonded force\n",
      "INFO:relative:\t_add_nonbonded_force_terms: <simtk.openmm.openmm.CustomNonbondedForce; proxy of <Swig Object of type 'OpenMM::CustomNonbondedForce *' at 0x2ab1bde47900> > added to hybrid system\n",
      "INFO:relative:Handling harmonic bonds...\n",
      "INFO:relative:\thandle_harmonic_bonds: looping through old_system to add relevant terms...\n",
      "INFO:relative:\thandle_harmonic_bonds: looping through new_system to add relevant terms...\n",
      "INFO:relative:Handling harmonic angles...\n",
      "INFO:relative:\thandle_harmonic_angles: looping through old_system to add relevant terms...\n",
      "INFO:relative:\thandle_harmonic_angles: looping through new_system to add relevant terms...\n",
      "INFO:relative:Handling torsion forces...\n",
      "INFO:relative:\thandle_periodic_torsion_forces: looping through old_system to add relevant terms...\n",
      "INFO:relative:\thandle_periodic_torsion_forces: looping through new_system to add relevant terms...\n",
      "INFO:relative:Handling nonbonded forces...\n",
      "INFO:relative:\thandle_nonbonded: looping through all particles in hybrid...\n",
      "INFO:relative:\thandle_nonbonded: Handling Interaction Groups...\n",
      "INFO:relative:\thandle_nonbonded: Handling Hybrid Exceptions...\n",
      "INFO:relative:\thandle_nonbonded: Handling Original Exceptions...\n",
      "INFO:relative:Handling unique_new/old interaction exceptions...\n",
      "INFO:relative:There are old or new system exceptions...proceeding.\n"
     ]
    },
    {
     "name": "stdout",
     "output_type": "stream",
     "text": [
      "conducting subsequent work with the following platform: CUDA\n",
      "conducting subsequent work with the following platform: CUDA\n",
      "\t\t\tHarmonicBondForce: 0.0333668919871159\n",
      "\t\t\tHarmonicAngleForce: 2.134739442948204\n",
      "\t\t\tPeriodicTorsionForce: 16.17613147765423\n",
      "\t\t\tNonbondedForce: -38.74516998365842\n",
      "\t\t\tAndersenThermostat: 0.0\n",
      "conducting subsequent work with the following platform: CUDA\n",
      "\t\t\tCustomBondForce: 0.033366891987115906\n",
      "\t\t\tHarmonicBondForce: 2.33192258994232\n",
      "\t\t\tCustomAngleForce: 0.6151036078769154\n",
      "\t\t\tHarmonicAngleForce: 6.432926244478359\n",
      "\t\t\tCustomTorsionForce: 0.0\n",
      "\t\t\tPeriodicTorsionForce: 26.82340716633415\n",
      "\t\t\tNonbondedForce: -116.5880581845505\n",
      "\t\t\tCustomNonbondedForce: 4.704582417313629\n",
      "\t\t\tCustomBondForce: 0.0\n",
      "\t\t\tAndersenThermostat: 0.0\n",
      "conducting subsequent work with the following platform: CUDA\n",
      "\t\t\tCustomBondForce: 0.033366891987115906\n",
      "\t\t\tHarmonicBondForce: 2.33192258994232\n",
      "\t\t\tCustomAngleForce: 0.6151036078769154\n",
      "\t\t\tHarmonicAngleForce: 6.432926244478359\n",
      "\t\t\tCustomTorsionForce: 0.0\n",
      "\t\t\tPeriodicTorsionForce: 26.82340716633415\n",
      "\t\t\tNonbondedForce: -72.37497950222497\n",
      "\t\t\tCustomNonbondedForce: 218.58679987124745\n",
      "\t\t\tCustomBondForce: 0.0\n",
      "\t\t\tAndersenThermostat: 0.0\n",
      "conducting subsequent work with the following platform: CUDA\n",
      "\t\t\tHarmonicBondForce: 2.3652894819294357\n",
      "\t\t\tHarmonicAngleForce: 5.528394017283986\n",
      "\t\t\tPeriodicTorsionForce: 26.818193455144254\n",
      "\t\t\tNonbondedForce: 136.89133941135174\n",
      "\t\t\tAndersenThermostat: 0.0\n"
     ]
    }
   ],
   "source": [
    "# Generate htf\n",
    "wt = \"ALA\"\n",
    "proposed = \"THR\"\n",
    "apo_delivery = PointMutationExecutor(os.path.join(\"../input/\", f\"{wt.lower()}_vacuum.pdb\"), \n",
    "                                                  '1', \n",
    "                                                  '2', \n",
    "                                                  proposed,\n",
    "                                                  phase='vacuum',\n",
    "                                              barostat=None,\n",
    "                                              periodic_forcefield_kwargs=None, \n",
    "                                              nonperiodic_forcefield_kwargs={'nonbondedMethod': app.NoCutoff}\n",
    "                                                 )"
   ]
  },
  {
   "cell_type": "code",
   "execution_count": 12,
   "metadata": {},
   "outputs": [],
   "source": [
    "\n",
    "pickle.dump(apo_delivery.get_apo_htf(), open(os.path.join(f\"{wt.lower()}_{proposed.lower()}_vacuum.pickle\"), \"wb\" ))"
   ]
  },
  {
   "cell_type": "code",
   "execution_count": 13,
   "metadata": {},
   "outputs": [],
   "source": [
    "htf = apo_delivery.get_apo_htf()"
   ]
  },
  {
   "cell_type": "code",
   "execution_count": 18,
   "metadata": {},
   "outputs": [],
   "source": [
    "traj = md.Trajectory(np.array(htf.new_positions(htf.hybrid_positions)), md.Topology.from_openmm(htf._topology_proposal._new_topology))"
   ]
  },
  {
   "cell_type": "code",
   "execution_count": 19,
   "metadata": {},
   "outputs": [],
   "source": [
    "traj.save(\"thr.pdb\")"
   ]
  },
  {
   "cell_type": "code",
   "execution_count": 40,
   "metadata": {},
   "outputs": [],
   "source": [
    "traj = md.Trajectory(np.array(htf.old_positions(htf.hybrid_positions)), md.Topology.from_openmm(htf._topology_proposal._old_topology))"
   ]
  },
  {
   "cell_type": "code",
   "execution_count": 41,
   "metadata": {},
   "outputs": [],
   "source": [
    "traj.save(\"ala.pdb\")"
   ]
  },
  {
   "cell_type": "markdown",
   "metadata": {},
   "source": [
    "Check that the spring constants for ACE in ala and thr carbonyl are equal "
   ]
  },
  {
   "cell_type": "code",
   "execution_count": 36,
   "metadata": {},
   "outputs": [
    {
     "name": "stdout",
     "output_type": "stream",
     "text": [
      "0 <simtk.openmm.openmm.HarmonicBondForce; proxy of <Swig Object of type 'OpenMM::HarmonicBondForce *' at 0x2ab1bde47600> >\n",
      "1 <simtk.openmm.openmm.HarmonicAngleForce; proxy of <Swig Object of type 'OpenMM::HarmonicAngleForce *' at 0x2ab1bde47600> >\n",
      "2 <simtk.openmm.openmm.PeriodicTorsionForce; proxy of <Swig Object of type 'OpenMM::PeriodicTorsionForce *' at 0x2ab1bde47600> >\n",
      "3 <simtk.openmm.openmm.NonbondedForce; proxy of <Swig Object of type 'OpenMM::NonbondedForce *' at 0x2ab1bde47600> >\n"
     ]
    }
   ],
   "source": [
    "for i in range(htf._old_system.getNumForces()):\n",
    "    print(i, htf._old_system.getForce(i))"
   ]
  },
  {
   "cell_type": "code",
   "execution_count": 37,
   "metadata": {},
   "outputs": [
    {
     "name": "stdout",
     "output_type": "stream",
     "text": [
      "<Atom 0 (H1) of chain 0 residue 0 (ACE)>\n",
      "<Atom 1 (CH3) of chain 0 residue 0 (ACE)>\n",
      "<Atom 2 (H2) of chain 0 residue 0 (ACE)>\n",
      "<Atom 3 (H3) of chain 0 residue 0 (ACE)>\n",
      "<Atom 4 (C) of chain 0 residue 0 (ACE)>\n",
      "<Atom 5 (O) of chain 0 residue 0 (ACE)>\n",
      "<Atom 6 (N) of chain 0 residue 1 (ALA)>\n",
      "<Atom 7 (H) of chain 0 residue 1 (ALA)>\n",
      "<Atom 8 (CA) of chain 0 residue 1 (ALA)>\n",
      "<Atom 9 (HA) of chain 0 residue 1 (ALA)>\n",
      "<Atom 10 (CB) of chain 0 residue 1 (ALA)>\n",
      "<Atom 11 (HB2) of chain 0 residue 1 (ALA)>\n",
      "<Atom 12 (HB3) of chain 0 residue 1 (ALA)>\n",
      "<Atom 13 (C) of chain 0 residue 1 (ALA)>\n",
      "<Atom 14 (O) of chain 0 residue 1 (ALA)>\n",
      "<Atom 15 (HB1) of chain 0 residue 1 (ALA)>\n",
      "<Atom 16 (N) of chain 0 residue 2 (NME)>\n",
      "<Atom 17 (H) of chain 0 residue 2 (NME)>\n",
      "<Atom 18 (C) of chain 0 residue 2 (NME)>\n",
      "<Atom 19 (H1) of chain 0 residue 2 (NME)>\n",
      "<Atom 20 (H2) of chain 0 residue 2 (NME)>\n",
      "<Atom 21 (H3) of chain 0 residue 2 (NME)>\n"
     ]
    }
   ],
   "source": [
    "for atom in htf._topology_proposal.old_topology.atoms():\n",
    "    print(atom)"
   ]
  },
  {
   "cell_type": "code",
   "execution_count": 38,
   "metadata": {},
   "outputs": [
    {
     "name": "stdout",
     "output_type": "stream",
     "text": [
      "[1, 4, Quantity(value=0.1522, unit=nanometer), Quantity(value=265265.6, unit=kilojoule/(nanometer**2*mole))]\n",
      "[4, 5, Quantity(value=0.12290000000000001, unit=nanometer), Quantity(value=476975.9999999999, unit=kilojoule/(nanometer**2*mole))]\n",
      "[4, 6, Quantity(value=0.1335, unit=nanometer), Quantity(value=410031.99999999994, unit=kilojoule/(nanometer**2*mole))]\n",
      "[8, 13, Quantity(value=0.1522, unit=nanometer), Quantity(value=265265.6, unit=kilojoule/(nanometer**2*mole))]\n",
      "[13, 14, Quantity(value=0.12290000000000001, unit=nanometer), Quantity(value=476975.9999999999, unit=kilojoule/(nanometer**2*mole))]\n",
      "[8, 10, Quantity(value=0.1526, unit=nanometer), Quantity(value=259407.99999999994, unit=kilojoule/(nanometer**2*mole))]\n",
      "[6, 8, Quantity(value=0.1449, unit=nanometer), Quantity(value=282001.5999999999, unit=kilojoule/(nanometer**2*mole))]\n",
      "[13, 16, Quantity(value=0.1335, unit=nanometer), Quantity(value=410031.99999999994, unit=kilojoule/(nanometer**2*mole))]\n",
      "[16, 18, Quantity(value=0.1449, unit=nanometer), Quantity(value=282001.5999999999, unit=kilojoule/(nanometer**2*mole))]\n"
     ]
    }
   ],
   "source": [
    "force = htf._old_system.getForce(0)\n",
    "for i in range(force.getNumBonds()):\n",
    "    print(force.getBondParameters(i))"
   ]
  },
  {
   "cell_type": "code",
   "execution_count": 39,
   "metadata": {},
   "outputs": [
    {
     "name": "stdout",
     "output_type": "stream",
     "text": [
      "[1, 4, Quantity(value=0.1522, unit=nanometer), Quantity(value=265265.6, unit=kilojoule/(nanometer**2*mole))]\n",
      "[4, 5, Quantity(value=0.12290000000000001, unit=nanometer), Quantity(value=476975.9999999999, unit=kilojoule/(nanometer**2*mole))]\n",
      "[4, 6, Quantity(value=0.1335, unit=nanometer), Quantity(value=410031.99999999994, unit=kilojoule/(nanometer**2*mole))]\n",
      "[8, 11, Quantity(value=0.1522, unit=nanometer), Quantity(value=265265.6, unit=kilojoule/(nanometer**2*mole))]\n",
      "[11, 12, Quantity(value=0.12290000000000001, unit=nanometer), Quantity(value=476975.9999999999, unit=kilojoule/(nanometer**2*mole))]\n",
      "[8, 10, Quantity(value=0.1526, unit=nanometer), Quantity(value=259407.99999999994, unit=kilojoule/(nanometer**2*mole))]\n",
      "[6, 8, Quantity(value=0.1449, unit=nanometer), Quantity(value=282001.5999999999, unit=kilojoule/(nanometer**2*mole))]\n",
      "[11, 20, Quantity(value=0.1335, unit=nanometer), Quantity(value=410031.99999999994, unit=kilojoule/(nanometer**2*mole))]\n",
      "[20, 22, Quantity(value=0.1449, unit=nanometer), Quantity(value=282001.5999999999, unit=kilojoule/(nanometer**2*mole))]\n",
      "[10, 14, Quantity(value=0.1526, unit=nanometer), Quantity(value=259407.99999999994, unit=kilojoule/(nanometer**2*mole))]\n",
      "[10, 18, Quantity(value=0.141, unit=nanometer), Quantity(value=267775.99999999994, unit=kilojoule/(nanometer**2*mole))]\n"
     ]
    }
   ],
   "source": [
    "force = htf._new_system.getForce(0)\n",
    "for i in range(force.getNumBonds()):\n",
    "    print(force.getBondParameters(i))"
   ]
  },
  {
   "cell_type": "code",
   "execution_count": 35,
   "metadata": {},
   "outputs": [
    {
     "name": "stdout",
     "output_type": "stream",
     "text": [
      "<Atom 0 (H1) of chain 0 residue 0 (ACE)>\n",
      "<Atom 1 (CH3) of chain 0 residue 0 (ACE)>\n",
      "<Atom 2 (H2) of chain 0 residue 0 (ACE)>\n",
      "<Atom 3 (H3) of chain 0 residue 0 (ACE)>\n",
      "<Atom 4 (C) of chain 0 residue 0 (ACE)>\n",
      "<Atom 5 (O) of chain 0 residue 0 (ACE)>\n",
      "<Atom 6 (N) of chain 0 residue 1 (ALA)>\n",
      "<Atom 7 (H) of chain 0 residue 1 (ALA)>\n",
      "<Atom 8 (CA) of chain 0 residue 1 (ALA)>\n",
      "<Atom 9 (HA) of chain 0 residue 1 (ALA)>\n",
      "<Atom 10 (CB) of chain 0 residue 1 (ALA)>\n",
      "<Atom 11 (HB2) of chain 0 residue 1 (ALA)>\n",
      "<Atom 12 (HB3) of chain 0 residue 1 (ALA)>\n",
      "<Atom 13 (C) of chain 0 residue 1 (ALA)>\n",
      "<Atom 14 (O) of chain 0 residue 1 (ALA)>\n",
      "<Atom 15 (HB1) of chain 0 residue 1 (ALA)>\n",
      "<Atom 16 (N) of chain 0 residue 2 (NME)>\n",
      "<Atom 17 (H) of chain 0 residue 2 (NME)>\n",
      "<Atom 18 (C) of chain 0 residue 2 (NME)>\n",
      "<Atom 19 (H1) of chain 0 residue 2 (NME)>\n",
      "<Atom 20 (H2) of chain 0 residue 2 (NME)>\n",
      "<Atom 21 (H3) of chain 0 residue 2 (NME)>\n"
     ]
    }
   ],
   "source": [
    "for atom in pdb.topology.atoms():\n",
    "    print(atom)"
   ]
  },
  {
   "cell_type": "code",
   "execution_count": 32,
   "metadata": {},
   "outputs": [
    {
     "name": "stdout",
     "output_type": "stream",
     "text": [
      "[4, 1, Quantity(value=0.1522, unit=nanometer), Quantity(value=265265.6, unit=kilojoule/(nanometer**2*mole))]\n",
      "[4, 5, Quantity(value=0.12290000000000001, unit=nanometer), Quantity(value=476975.9999999999, unit=kilojoule/(nanometer**2*mole))]\n",
      "[1, 0, Quantity(value=0.10900000000000001, unit=nanometer), Quantity(value=284511.99999999994, unit=kilojoule/(nanometer**2*mole))]\n",
      "[1, 2, Quantity(value=0.10900000000000001, unit=nanometer), Quantity(value=284511.99999999994, unit=kilojoule/(nanometer**2*mole))]\n",
      "[1, 3, Quantity(value=0.10900000000000001, unit=nanometer), Quantity(value=284511.99999999994, unit=kilojoule/(nanometer**2*mole))]\n",
      "[4, 6, Quantity(value=0.1335, unit=nanometer), Quantity(value=410031.99999999994, unit=kilojoule/(nanometer**2*mole))]\n",
      "[13, 8, Quantity(value=0.1522, unit=nanometer), Quantity(value=265265.6, unit=kilojoule/(nanometer**2*mole))]\n",
      "[13, 14, Quantity(value=0.12290000000000001, unit=nanometer), Quantity(value=476975.9999999999, unit=kilojoule/(nanometer**2*mole))]\n",
      "[8, 10, Quantity(value=0.1526, unit=nanometer), Quantity(value=259407.99999999994, unit=kilojoule/(nanometer**2*mole))]\n",
      "[8, 9, Quantity(value=0.10900000000000001, unit=nanometer), Quantity(value=284511.99999999994, unit=kilojoule/(nanometer**2*mole))]\n",
      "[8, 6, Quantity(value=0.1449, unit=nanometer), Quantity(value=282001.5999999999, unit=kilojoule/(nanometer**2*mole))]\n",
      "[10, 15, Quantity(value=0.10900000000000001, unit=nanometer), Quantity(value=284511.99999999994, unit=kilojoule/(nanometer**2*mole))]\n",
      "[10, 11, Quantity(value=0.10900000000000001, unit=nanometer), Quantity(value=284511.99999999994, unit=kilojoule/(nanometer**2*mole))]\n",
      "[10, 12, Quantity(value=0.10900000000000001, unit=nanometer), Quantity(value=284511.99999999994, unit=kilojoule/(nanometer**2*mole))]\n",
      "[7, 6, Quantity(value=0.101, unit=nanometer), Quantity(value=363171.19999999995, unit=kilojoule/(nanometer**2*mole))]\n",
      "[13, 16, Quantity(value=0.1335, unit=nanometer), Quantity(value=410031.99999999994, unit=kilojoule/(nanometer**2*mole))]\n",
      "[18, 19, Quantity(value=0.10900000000000001, unit=nanometer), Quantity(value=284511.99999999994, unit=kilojoule/(nanometer**2*mole))]\n",
      "[18, 20, Quantity(value=0.10900000000000001, unit=nanometer), Quantity(value=284511.99999999994, unit=kilojoule/(nanometer**2*mole))]\n",
      "[18, 21, Quantity(value=0.10900000000000001, unit=nanometer), Quantity(value=284511.99999999994, unit=kilojoule/(nanometer**2*mole))]\n",
      "[18, 16, Quantity(value=0.1449, unit=nanometer), Quantity(value=282001.5999999999, unit=kilojoule/(nanometer**2*mole))]\n",
      "[17, 16, Quantity(value=0.101, unit=nanometer), Quantity(value=363171.19999999995, unit=kilojoule/(nanometer**2*mole))]\n"
     ]
    }
   ],
   "source": [
    "force = system.getForce(0)\n",
    "for i in range(force.getNumBonds()):\n",
    "    print(force.getBondParameters(i))"
   ]
  },
  {
   "cell_type": "code",
   "execution_count": null,
   "metadata": {},
   "outputs": [],
   "source": []
  }
 ],
 "metadata": {
  "kernelspec": {
   "display_name": "Python 3",
   "language": "python",
   "name": "python3"
  },
  "language_info": {
   "codemirror_mode": {
    "name": "ipython",
    "version": 3
   },
   "file_extension": ".py",
   "mimetype": "text/x-python",
   "name": "python",
   "nbconvert_exporter": "python",
   "pygments_lexer": "ipython3",
   "version": "3.7.3"
  }
 },
 "nbformat": 4,
 "nbformat_minor": 4
}
