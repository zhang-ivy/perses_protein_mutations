{
 "cells": [
  {
   "cell_type": "markdown",
   "metadata": {},
   "source": [
    "For transformations that start with a ring amino acid"
   ]
  },
  {
   "cell_type": "code",
   "execution_count": 1,
   "metadata": {},
   "outputs": [
    {
     "name": "stderr",
     "output_type": "stream",
     "text": [
      "INFO:numexpr.utils:Note: detected 72 virtual cores but NumExpr set to maximum of 64, check \"NUMEXPR_MAX_THREADS\" environment variable.\n",
      "INFO:numexpr.utils:Note: NumExpr detected 72 cores but \"NUMEXPR_MAX_THREADS\" not set, so enforcing safe limit of 8.\n",
      "INFO:numexpr.utils:NumExpr defaulting to 8 threads.\n",
      "RDKit WARNING: [11:47:09] Enabling RDKit 2019.09.3 jupyter extensions\n"
     ]
    }
   ],
   "source": [
    "import argparse\n",
    "import itertools\n",
    "import pickle\n",
    "from perses.app.relative_point_mutation_setup import PointMutationExecutor\n",
    "import simtk.openmm.app as app\n",
    "import os"
   ]
  },
  {
   "cell_type": "code",
   "execution_count": 3,
   "metadata": {},
   "outputs": [],
   "source": [
    "amino_acids = ['ALA', 'ARG', 'ASN', 'ASP', 'CYS', 'GLN', 'GLU', 'GLY', 'HIS', 'ILE', 'LEU', 'LYS', 'MET', 'PHE',\n",
    "                        'SER', 'THR', 'TRP', 'TYR', 'VAL']\n",
    "outdir = \"/data/chodera/zhangi/perses_benchmark/test_maps/fixed\"\n"
   ]
  },
  {
   "cell_type": "code",
   "execution_count": 3,
   "metadata": {},
   "outputs": [],
   "source": [
    "# skip = [('ASN', 'ASP'), ('ASP', 'ASN'), ('HIS', 'ALA'), ('HIS', 'ARG'), ('HIS', 'ASN'), ('HIS', 'ASP'), ('HIS', 'CYS'),\n",
    "#        ('HIS', 'GLN'), ('ILE', 'ALA'), ('ILE', 'ARG'), ('ILE', 'ASN'), ('ILE', 'ASP'), ('ILE', 'CYS'), ('ILE', 'GLN'), \n",
    "#         ('ILE', 'GLU'), ('ILE', 'GLY'), ('ILE', 'HIS'), ('ILE', 'LEU'), ('ILE', 'LYS'), ('ILE', 'MET'), ('PHE', 'ALA'), ('PHE', 'ARG')]\n",
    "\n",
    "\n"
   ]
  },
  {
   "cell_type": "code",
   "execution_count": 9,
   "metadata": {
    "scrolled": true
   },
   "outputs": [
    {
     "name": "stderr",
     "output_type": "stream",
     "text": [
      "INFO:proposal_generator:\tConducting polymer point mutation proposal...\n",
      "INFO:proposal_generator:Using core to chose best atom map\n",
      "INFO:proposal_generator:Scaffold has symmetry of 0\n",
      "WARNING:proposal_generator:Two molecules are not similar to have a common scaffold\n",
      "WARNING:proposal_generator:Proceeding with direct mapping of molecules, but please check atom mapping and the geometry of the ligands.\n",
      "INFO:proposal_generator:len [{0: 0, 1: 2, 4: 4, 6: 7, 7: 9}, {0: 0, 1: 2, 5: 4, 6: 7, 7: 9}, {0: 0, 1: 1, 4: 4, 7: 5, 6: 6}, {0: 0, 1: 1, 5: 4, 7: 5, 6: 6}, {0: 0, 1: 2, 4: 4, 6: 7, 7: 8}, {0: 0, 1: 2, 5: 4, 6: 7, 7: 8}, {0: 0, 1: 2, 4: 4, 6: 8, 7: 9}, {0: 0, 1: 2, 5: 4, 6: 8, 7: 9}]\n",
      "INFO:proposal_generator:{0: 0, 1: 2, 4: 4, 6: 7, 7: 9}\n",
      "INFO:proposal_generator:{0: 0, 1: 2, 5: 4, 6: 7, 7: 9}\n",
      "INFO:proposal_generator:{0: 0, 1: 1, 4: 4, 7: 5, 6: 6}\n",
      "INFO:proposal_generator:{0: 0, 1: 1, 5: 4, 7: 5, 6: 6}\n",
      "INFO:proposal_generator:{0: 0, 1: 2, 4: 4, 6: 7, 7: 8}\n",
      "INFO:proposal_generator:{0: 0, 1: 2, 5: 4, 6: 7, 7: 8}\n",
      "INFO:proposal_generator:{0: 0, 1: 2, 4: 4, 6: 8, 7: 9}\n",
      "INFO:proposal_generator:{0: 0, 1: 2, 5: 4, 6: 8, 7: 9}\n",
      "INFO:proposal_generator:Checking maps to see if they break rings\n",
      "INFO:proposal_generator:Finding best map using matching_criterion index\n",
      "INFO:proposal_generator:8 have 5 core atoms. Using matching_criterion index to return the best of those\n",
      "INFO:proposal_generator:{0: 0, 1: 1, 4: 4, 7: 5, 6: 6}\n",
      "INFO:root:validate bool: True\n",
      "INFO:geometry:propose: performing forward proposal\n",
      "INFO:geometry:propose: unique new atoms detected; proceeding to _logp_propose...\n",
      "INFO:geometry:Conducting forward proposal...\n",
      "INFO:geometry:Computing proposal order with NetworkX...\n",
      "INFO:geometry:number of atoms to be placed: 8\n",
      "INFO:geometry:Atom index proposal order is [15, 13, 14, 17, 16, 20, 22, 21]\n",
      "INFO:geometry:omitted_bonds: [(15, 18)]\n",
      "INFO:geometry:direction of proposal is forward; creating atoms_with_positions and new positions from old system/topology...\n"
     ]
    },
    {
     "name": "stdout",
     "output_type": "stream",
     "text": [
      "vacuum: ILE, MET\n"
     ]
    },
    {
     "name": "stderr",
     "output_type": "stream",
     "text": [
      "INFO:geometry:creating growth system...\n",
      "INFO:geometry:\tcreating bond force...\n",
      "INFO:geometry:\tthere are 12 bonds in reference force.\n",
      "INFO:geometry:\tcreating angle force...\n",
      "INFO:geometry:\tthere are 49 angles in reference force.\n",
      "INFO:geometry:\tcreating torsion force...\n",
      "INFO:geometry:\tcreating extra torsions force...\n",
      "INFO:geometry:\tthere are 69 torsions in reference force.\n",
      "INFO:geometry:\tcreating nonbonded force...\n",
      "INFO:geometry:\t\tgrabbing reference nonbonded method, cutoff, switching function, switching distance...\n",
      "INFO:geometry:\t\tcreating nonbonded exception force (i.e. custom bond for 1,4s)...\n",
      "INFO:geometry:\t\tlooping through exceptions calculating growth indices, and adding appropriate interactions to custom bond force.\n",
      "INFO:geometry:\t\tthere are 133 in the reference Nonbonded force\n",
      "INFO:geometry:Neglected angle terms : []\n",
      "INFO:geometry:omitted_growth_terms: {'bonds': [(15, 18)], 'angles': [(10, 15, 18), (15, 18, 19), (16, 15, 18), (17, 15, 18)], 'torsions': [(8, 10, 15, 18), (8, 10, 15, 18), (8, 10, 15, 18), (8, 10, 15, 18), (10, 15, 18, 19), (10, 15, 18, 19), (10, 15, 18, 19), (10, 15, 18, 19), (13, 10, 15, 18), (14, 10, 15, 18), (15, 18, 19, 20), (15, 18, 19, 21), (15, 18, 19, 22), (16, 15, 18, 19), (17, 15, 18, 19)], '1,4s': [(13, 18), (14, 18), (16, 19), (17, 19), (15, 20), (15, 21), (15, 22)]}\n",
      "INFO:geometry:extra torsions: {}\n",
      "INFO:geometry:neglected angle terms include []\n",
      "INFO:geometry:log probability choice of torsions and atom order: -12.507176738313596\n",
      "INFO:geometry:creating platform, integrators, and contexts; setting growth parameter\n"
     ]
    },
    {
     "name": "stdout",
     "output_type": "stream",
     "text": [
      "conducting subsequent work with the following platform: CUDA\n"
     ]
    },
    {
     "name": "stderr",
     "output_type": "stream",
     "text": [
      "INFO:geometry:setting atoms_with_positions context new positions\n"
     ]
    },
    {
     "name": "stdout",
     "output_type": "stream",
     "text": [
      "conducting subsequent work with the following platform: CUDA\n"
     ]
    },
    {
     "name": "stderr",
     "output_type": "stream",
     "text": [
      "INFO:geometry:There are 8 new atoms\n",
      "INFO:geometry:\treduced angle potential = 1.2537523772566956.\n",
      "INFO:geometry:\treduced angle potential = 0.05448254424130609.\n",
      "INFO:geometry:\treduced angle potential = 0.0022540384899840836.\n",
      "INFO:geometry:\treduced angle potential = 0.294267128139978.\n",
      "INFO:geometry:\treduced angle potential = 1.2192990520282803.\n",
      "INFO:geometry:\treduced angle potential = 0.019421799481320567.\n",
      "INFO:geometry:\treduced angle potential = 2.0735663765218.\n",
      "INFO:geometry:\treduced angle potential = 0.20957428235752096.\n",
      "INFO:geometry:\tbeginning construction of no_nonbonded final system...\n",
      "INFO:geometry:\tinitial no-nonbonded final system forces ['HarmonicBondForce', 'HarmonicAngleForce', 'PeriodicTorsionForce', 'NonbondedForce']\n",
      "INFO:geometry:\tfinal no-nonbonded final system forces dict_keys(['HarmonicBondForce', 'HarmonicAngleForce', 'PeriodicTorsionForce', 'NonbondedForce'])\n",
      "INFO:geometry:\tthere are 12 bond forces in the no-nonbonded final system\n",
      "INFO:geometry:\tthere are 49 angle forces in the no-nonbonded final system\n",
      "INFO:geometry:\tthere are 69 torsion forces in the no-nonbonded final system\n",
      "INFO:geometry:forward final system defined with 0 neglected angles.\n"
     ]
    },
    {
     "name": "stdout",
     "output_type": "stream",
     "text": [
      "conducting subsequent work with the following platform: CUDA\n",
      "conducting subsequent work with the following platform: CUDA\n"
     ]
    },
    {
     "name": "stderr",
     "output_type": "stream",
     "text": [
      "INFO:geometry:total reduced potential before atom placement: 241.9103390900267\n"
     ]
    },
    {
     "name": "stdout",
     "output_type": "stream",
     "text": [
      "conducting subsequent work with the following platform: CUDA\n",
      "conducting subsequent work with the following platform: CUDA\n",
      "conducting subsequent work with the following platform: CUDA\n"
     ]
    },
    {
     "name": "stderr",
     "output_type": "stream",
     "text": [
      "INFO:geometry:total reduced energy added from growth system: 20.069034195208694\n",
      "INFO:geometry:final reduced energy 1118.5812664755401\n",
      "INFO:geometry:sum of energies: 261.9793732852354\n",
      "INFO:geometry:magnitude of difference in the energies: 856.6018931903047\n"
     ]
    },
    {
     "name": "stdout",
     "output_type": "stream",
     "text": [
      "added energy components: [('CustomBondForce', 1.574190424352831), ('CustomAngleForce', 9.082996168001177), ('CustomTorsionForce', 4.874407409238674), ('CustomBondForce', 4.537440193616013)]\n",
      "The ratio of the calculated final energy to the true final energy is 0.2342068306853448\n"
     ]
    }
   ],
   "source": [
    "# Vacuum\n",
    "for wt in amino_acids[1:]:\n",
    "    if wt in ['ILE']:\n",
    "        for proposed in amino_acids:\n",
    "            if wt != proposed:\n",
    "                if proposed in ['MET']:\n",
    "                    print(f\"vacuum: {wt}, {proposed}\")\n",
    "                    # Create hybrid topology factory\n",
    "                    try:\n",
    "                        apo_delivery = PointMutationExecutor(os.path.join(\"../input/\", f\"{wt.lower()}_vacuum.pdb\"), \n",
    "                                                  '1', \n",
    "                                                  '2', \n",
    "                                                  proposed,\n",
    "                                                  phase='vacuum',\n",
    "                                              barostat=None,\n",
    "                                              periodic_forcefield_kwargs=None, \n",
    "                                              nonperiodic_forcefield_kwargs={'nonbondedMethod': app.NoCutoff}\n",
    "                                                 )\n",
    "                        \n",
    "                    except Exception as e:\n",
    "                        print(e)\n",
    "    #                 except AssertionError:\n",
    "    #                     print(\"assertion error\")\n",
    "                    pickle.dump(apo_delivery.get_apo_htf(), open(os.path.join(outdir, f\"{wt.lower()}_{proposed.lower()}_vacuum.pickle\"), \"wb\" ))\n"
   ]
  },
  {
   "cell_type": "code",
   "execution_count": null,
   "metadata": {},
   "outputs": [],
   "source": [
    "with open(os.path.join(args.dir, f\".pickle\"), 'rb') as f:\n",
    "    htf = pickle.load(f)"
   ]
  },
  {
   "cell_type": "code",
   "execution_count": null,
   "metadata": {},
   "outputs": [],
   "source": []
  }
 ],
 "metadata": {
  "kernelspec": {
   "display_name": "Python 3",
   "language": "python",
   "name": "python3"
  },
  "language_info": {
   "codemirror_mode": {
    "name": "ipython",
    "version": 3
   },
   "file_extension": ".py",
   "mimetype": "text/x-python",
   "name": "python",
   "nbconvert_exporter": "python",
   "pygments_lexer": "ipython3",
   "version": "3.7.3"
  }
 },
 "nbformat": 4,
 "nbformat_minor": 4
}
