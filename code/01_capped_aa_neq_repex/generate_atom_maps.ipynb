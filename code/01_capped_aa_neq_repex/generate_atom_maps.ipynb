{
 "cells": [
  {
   "cell_type": "code",
   "execution_count": 1,
   "metadata": {},
   "outputs": [],
   "source": [
    "import pickle\n",
    "import os\n",
    "from perses.utils.smallmolecules import render_atom_mapping\n",
    "import mdtraj as md\n",
    "import numpy as np\n",
    "import itertools"
   ]
  },
  {
   "cell_type": "code",
   "execution_count": 2,
   "metadata": {},
   "outputs": [
    {
     "name": "stderr",
     "output_type": "stream",
     "text": [
      "INFO:numexpr.utils:Note: detected 72 virtual cores but NumExpr set to maximum of 64, check \"NUMEXPR_MAX_THREADS\" environment variable.\n",
      "INFO:numexpr.utils:Note: NumExpr detected 72 cores but \"NUMEXPR_MAX_THREADS\" not set, so enforcing safe limit of 8.\n",
      "INFO:numexpr.utils:NumExpr defaulting to 8 threads.\n"
     ]
    }
   ],
   "source": [
    "# Read in htfs\n",
    "\n",
    "# ALA -> CYS\n",
    "with open(f\"/data/chodera/zhangi/perses_benchmark/neq/3/0/0_vacuum.pickle\", 'rb') as f:\n",
    "    htf_0 = pickle.load(f)\n",
    "\n",
    "# THR -> SER\n",
    "with open(f\"/data/chodera/zhangi/perses_benchmark/neq/3/11/11_vacuum.pickle\", 'rb') as f:\n",
    "    htf_11 = pickle.load(f)"
   ]
  },
  {
   "cell_type": "code",
   "execution_count": 3,
   "metadata": {},
   "outputs": [],
   "source": [
    "# Generate pdbs\n",
    "traj = md.Trajectory(np.asarray(htf_0.old_positions(htf_0.hybrid_positions)), md.Topology.from_openmm(htf_0._topology_proposal.old_topology))\n",
    "traj.save(\"ala.pdb\")\n",
    "traj = md.Trajectory(np.asarray(htf_0.new_positions(htf_0.hybrid_positions)), md.Topology.from_openmm(htf_0._topology_proposal.new_topology))\n",
    "traj.save(\"cys.pdb\")\n",
    "traj = md.Trajectory(np.asarray(htf_11.new_positions(htf_11.hybrid_positions)), md.Topology.from_openmm(htf_11._topology_proposal.new_topology))\n",
    "traj.save(\"thr.pdb\")\n",
    "traj = md.Trajectory(np.asarray(htf_11.new_positions(htf_11.hybrid_positions)), md.Topology.from_openmm(htf_11._topology_proposal.new_topology))\n",
    "traj.save(\"ser.pdb\")"
   ]
  },
  {
   "cell_type": "code",
   "execution_count": 2,
   "metadata": {},
   "outputs": [],
   "source": [
    "# Copied from here: https://github.com/choderalab/perses/blob/ac9f4472c34ff2c6cd378fb33a9851968ec11bc6/perses/rjmc/topology_proposal.py#L1171\n",
    "def generate_oemol_from_pdb_template(pdbfile):\n",
    "    from perses.utils.openeye import createOEMolFromSDF\n",
    "    current_oemol = createOEMolFromSDF(pdbfile, add_hydrogens = True)\n",
    "    if not len(set([atom.GetName() for atom in current_oemol.GetAtoms()])) == len([atom.GetName() for atom in current_oemol.GetAtoms()]):\n",
    "        raise Exception(f\"the atoms in the oemol are not uniquely named.\")\n",
    "\n",
    "    #formatting all canonical atom names from pdb\n",
    "    for atom in current_oemol.GetAtoms():\n",
    "        name_with_spaces = atom.GetName()\n",
    "        name_without_spaces = name_with_spaces.replace(\" \", \"\")\n",
    "        if name_without_spaces[0].isdigit():\n",
    "            name_without_spaces = name_without_spaces[1:] + name_without_spaces[0]\n",
    "        atom.SetName(name_without_spaces)\n",
    "    return current_oemol\n"
   ]
  },
  {
   "cell_type": "code",
   "execution_count": 5,
   "metadata": {},
   "outputs": [
    {
     "name": "stderr",
     "output_type": "stream",
     "text": [
      "INFO:utils.openeye:molecule                       does not have unique atom names. Generating now...\n",
      "INFO:utils.openeye:molecule                       does not have unique atom names. Generating now...\n",
      "INFO:utils.openeye:molecule                       does not have unique atom names. Generating now...\n",
      "INFO:utils.openeye:molecule                       does not have unique atom names. Generating now...\n"
     ]
    }
   ],
   "source": [
    "# Generate oemols\n",
    "d_oemols = {}\n",
    "for aa in ['ALA', 'CYS', 'THR', 'SER']:\n",
    "    d_oemols[aa] = generate_oemol_from_pdb_template(f\"{aa.lower()}.pdb\")"
   ]
  },
  {
   "cell_type": "code",
   "execution_count": 6,
   "metadata": {},
   "outputs": [
    {
     "data": {
      "text/plain": [
       "{'ALA': <oechem.OEMol; proxy of <Swig Object of type 'OEMolWrapper *' at 0x2b9fc2590450> >,\n",
       " 'CYS': <oechem.OEMol; proxy of <Swig Object of type 'OEMolWrapper *' at 0x2b9fc25903c0> >,\n",
       " 'THR': <oechem.OEMol; proxy of <Swig Object of type 'OEMolWrapper *' at 0x2b9fc25907b0> >,\n",
       " 'SER': <oechem.OEMol; proxy of <Swig Object of type 'OEMolWrapper *' at 0x2b9fc2590810> >}"
      ]
     },
     "execution_count": 6,
     "metadata": {},
     "output_type": "execute_result"
    }
   ],
   "source": [
    "d_oemols"
   ]
  },
  {
   "cell_type": "code",
   "execution_count": 7,
   "metadata": {},
   "outputs": [],
   "source": [
    "# Create list of tuples for every pair of amino acids\n",
    "amino_acids = ['ALA', 'CYS', 'SER', 'THR']\n",
    "pairs = list(itertools.permutations(amino_acids, r=2))\n"
   ]
  },
  {
   "cell_type": "code",
   "execution_count": 18,
   "metadata": {},
   "outputs": [
    {
     "name": "stderr",
     "output_type": "stream",
     "text": [
      "INFO:utils.openeye:molecule                       does not have unique atom names. Generating now...\n",
      "INFO:utils.openeye:molecule                       does not have unique atom names. Generating now...\n",
      "INFO:utils.openeye:molecule                       does not have unique atom names. Generating now...\n",
      "INFO:utils.openeye:molecule                       does not have unique atom names. Generating now...\n",
      "INFO:utils.openeye:molecule                       does not have unique atom names. Generating now...\n",
      "INFO:utils.openeye:molecule                       does not have unique atom names. Generating now...\n"
     ]
    },
    {
     "name": "stdout",
     "output_type": "stream",
     "text": [
      "('ALA', 'CYS')\n",
      "/data/chodera/zhangi/perses_benchmark/neq/3/maps/ALA_CYS.pdf\n",
      "('ALA', 'SER')\n",
      "/data/chodera/zhangi/perses_benchmark/neq/3/maps/ALA_SER.pdf\n",
      "('ALA', 'THR')\n",
      "/data/chodera/zhangi/perses_benchmark/neq/3/maps/ALA_THR.pdf\n",
      "('CYS', 'ALA')\n"
     ]
    },
    {
     "name": "stderr",
     "output_type": "stream",
     "text": [
      "INFO:utils.openeye:molecule                       does not have unique atom names. Generating now...\n",
      "INFO:utils.openeye:molecule                       does not have unique atom names. Generating now...\n",
      "INFO:utils.openeye:molecule                       does not have unique atom names. Generating now...\n",
      "INFO:utils.openeye:molecule                       does not have unique atom names. Generating now...\n",
      "INFO:utils.openeye:molecule                       does not have unique atom names. Generating now...\n",
      "INFO:utils.openeye:molecule                       does not have unique atom names. Generating now...\n",
      "INFO:utils.openeye:molecule                       does not have unique atom names. Generating now...\n",
      "INFO:utils.openeye:molecule                       does not have unique atom names. Generating now...\n"
     ]
    },
    {
     "name": "stdout",
     "output_type": "stream",
     "text": [
      "/data/chodera/zhangi/perses_benchmark/neq/3/maps/CYS_ALA.pdf\n",
      "('CYS', 'SER')\n",
      "/data/chodera/zhangi/perses_benchmark/neq/3/maps/CYS_SER.pdf\n",
      "('CYS', 'THR')\n",
      "/data/chodera/zhangi/perses_benchmark/neq/3/maps/CYS_THR.pdf\n",
      "('SER', 'ALA')\n",
      "/data/chodera/zhangi/perses_benchmark/neq/3/maps/SER_ALA.pdf\n",
      "('SER', 'CYS')\n"
     ]
    },
    {
     "name": "stderr",
     "output_type": "stream",
     "text": [
      "INFO:utils.openeye:molecule                       does not have unique atom names. Generating now...\n",
      "INFO:utils.openeye:molecule                       does not have unique atom names. Generating now...\n"
     ]
    },
    {
     "name": "stdout",
     "output_type": "stream",
     "text": [
      "/data/chodera/zhangi/perses_benchmark/neq/3/maps/SER_CYS.pdf\n",
      "('SER', 'THR')\n"
     ]
    },
    {
     "name": "stderr",
     "output_type": "stream",
     "text": [
      "INFO:utils.openeye:molecule                       does not have unique atom names. Generating now...\n",
      "INFO:utils.openeye:molecule                       does not have unique atom names. Generating now...\n",
      "INFO:utils.openeye:molecule                       does not have unique atom names. Generating now...\n",
      "INFO:utils.openeye:molecule                       does not have unique atom names. Generating now...\n",
      "INFO:utils.openeye:molecule                       does not have unique atom names. Generating now...\n",
      "INFO:utils.openeye:molecule                       does not have unique atom names. Generating now...\n",
      "INFO:utils.openeye:molecule                       does not have unique atom names. Generating now...\n",
      "INFO:utils.openeye:molecule                       does not have unique atom names. Generating now...\n"
     ]
    },
    {
     "name": "stdout",
     "output_type": "stream",
     "text": [
      "/data/chodera/zhangi/perses_benchmark/neq/3/maps/SER_THR.pdf\n",
      "('THR', 'ALA')\n",
      "/data/chodera/zhangi/perses_benchmark/neq/3/maps/THR_ALA.pdf\n",
      "('THR', 'CYS')\n",
      "/data/chodera/zhangi/perses_benchmark/neq/3/maps/THR_CYS.pdf\n",
      "('THR', 'SER')\n",
      "/data/chodera/zhangi/perses_benchmark/neq/3/maps/THR_SER.pdf\n"
     ]
    }
   ],
   "source": [
    "# Generate maps\n",
    "directory = \"/data/chodera/zhangi/perses_benchmark/neq/3/\"\n",
    "\n",
    "for i, pair in enumerate(pairs):\n",
    "    print(pair)\n",
    "    with open(os.path.join(directory, f\"{i}/{i}_vacuum.pickle\"), 'rb') as f:\n",
    "        htf = pickle.load(f)\n",
    "    traj = md.Trajectory(np.asarray(htf.old_positions(htf.hybrid_positions)), md.Topology.from_openmm(htf._topology_proposal.old_topology))\n",
    "    traj.save(\"old.pdb\")\n",
    "    traj = md.Trajectory(np.asarray(htf.new_positions(htf.hybrid_positions)), md.Topology.from_openmm(htf._topology_proposal.new_topology))\n",
    "    traj.save(\"new.pdb\")\n",
    "    \n",
    "    old_oemol = generate_oemol_from_pdb_template(\"old.pdb\")\n",
    "    new_oemol = generate_oemol_from_pdb_template(\"new.pdb\")\n",
    "    print(os.path.join(directory, f\"maps/{pair[0]}_{pair[1]}.pdf\"))\n",
    "#     render_atom_mapping(os.path.join(directory, f\"maps/{pair[0]}_{pair[1]}.pdf\"), old_oemol, new_oemol, htf._topology_proposal.new_to_old_atom_map)\n",
    "\n",
    "#     render_atom_mapping(os.path.join(directory, f\"maps/{pair[0]}_{pair[1]}.pdf\"), d_oemols[pair[0]], d_oemols[pair[1]], htf._topology_proposal.new_to_old_atom_map)\n"
   ]
  },
  {
   "cell_type": "markdown",
   "metadata": {},
   "source": [
    "## Get map for barnase:barstar"
   ]
  },
  {
   "cell_type": "code",
   "execution_count": 4,
   "metadata": {},
   "outputs": [],
   "source": [
    "# Copied from here: https://github.com/choderalab/perses/blob/ac9f4472c34ff2c6cd378fb33a9851968ec11bc6/perses/rjmc/topology_proposal.py#L1171\n",
    "def generate_oemol_from_pdb_template(pdbfile):\n",
    "    from perses.utils.openeye import createOEMolFromSDF\n",
    "    current_oemol = createOEMolFromSDF(pdbfile, add_hydrogens = True)\n",
    "    if not len(set([atom.GetName() for atom in current_oemol.GetAtoms()])) == len([atom.GetName() for atom in current_oemol.GetAtoms()]):\n",
    "        raise Exception(f\"the atoms in the oemol are not uniquely named.\")\n",
    "\n",
    "    #formatting all canonical atom names from pdb\n",
    "    for atom in current_oemol.GetAtoms():\n",
    "        name_with_spaces = atom.GetName()\n",
    "        name_without_spaces = name_with_spaces.replace(\" \", \"\")\n",
    "        if name_without_spaces[0].isdigit():\n",
    "            name_without_spaces = name_without_spaces[1:] + name_without_spaces[0]\n",
    "        atom.SetName(name_without_spaces)\n",
    "    return current_oemol\n"
   ]
  },
  {
   "cell_type": "code",
   "execution_count": 6,
   "metadata": {},
   "outputs": [
    {
     "name": "stderr",
     "output_type": "stream",
     "text": [
      "INFO:utils.openeye:molecule                       does not have unique atom names. Generating now...\n"
     ]
    }
   ],
   "source": [
    "barnase_oemol = generate_oemol_from_pdb_template(\"../input/mmc2_barnase.pdb\")"
   ]
  },
  {
   "cell_type": "code",
   "execution_count": 7,
   "metadata": {},
   "outputs": [
    {
     "name": "stderr",
     "output_type": "stream",
     "text": [
      "INFO:utils.openeye:molecule                       does not have unique atom names. Generating now...\n"
     ]
    },
    {
     "ename": "AssertionError",
     "evalue": "the stereochemistry perception from 3D coordinates failed",
     "output_type": "error",
     "traceback": [
      "\u001b[0;31m---------------------------------------------------------------------------\u001b[0m",
      "\u001b[0;31mAssertionError\u001b[0m                            Traceback (most recent call last)",
      "\u001b[0;32m<ipython-input-7-b803cbe966a0>\u001b[0m in \u001b[0;36m<module>\u001b[0;34m\u001b[0m\n\u001b[0;32m----> 1\u001b[0;31m \u001b[0mbarstar_oemol\u001b[0m \u001b[0;34m=\u001b[0m \u001b[0mgenerate_oemol_from_pdb_template\u001b[0m\u001b[0;34m(\u001b[0m\u001b[0;34m\"../input/mmc2_barstar.pdb\"\u001b[0m\u001b[0;34m)\u001b[0m\u001b[0;34m\u001b[0m\u001b[0;34m\u001b[0m\u001b[0m\n\u001b[0m",
      "\u001b[0;32m<ipython-input-4-9dc17205b1ea>\u001b[0m in \u001b[0;36mgenerate_oemol_from_pdb_template\u001b[0;34m(pdbfile)\u001b[0m\n\u001b[1;32m      2\u001b[0m \u001b[0;32mdef\u001b[0m \u001b[0mgenerate_oemol_from_pdb_template\u001b[0m\u001b[0;34m(\u001b[0m\u001b[0mpdbfile\u001b[0m\u001b[0;34m)\u001b[0m\u001b[0;34m:\u001b[0m\u001b[0;34m\u001b[0m\u001b[0;34m\u001b[0m\u001b[0m\n\u001b[1;32m      3\u001b[0m     \u001b[0;32mfrom\u001b[0m \u001b[0mperses\u001b[0m\u001b[0;34m.\u001b[0m\u001b[0mutils\u001b[0m\u001b[0;34m.\u001b[0m\u001b[0mopeneye\u001b[0m \u001b[0;32mimport\u001b[0m \u001b[0mcreateOEMolFromSDF\u001b[0m\u001b[0;34m\u001b[0m\u001b[0;34m\u001b[0m\u001b[0m\n\u001b[0;32m----> 4\u001b[0;31m     \u001b[0mcurrent_oemol\u001b[0m \u001b[0;34m=\u001b[0m \u001b[0mcreateOEMolFromSDF\u001b[0m\u001b[0;34m(\u001b[0m\u001b[0mpdbfile\u001b[0m\u001b[0;34m,\u001b[0m \u001b[0madd_hydrogens\u001b[0m \u001b[0;34m=\u001b[0m \u001b[0;32mTrue\u001b[0m\u001b[0;34m)\u001b[0m\u001b[0;34m\u001b[0m\u001b[0;34m\u001b[0m\u001b[0m\n\u001b[0m\u001b[1;32m      5\u001b[0m     \u001b[0;32mif\u001b[0m \u001b[0;32mnot\u001b[0m \u001b[0mlen\u001b[0m\u001b[0;34m(\u001b[0m\u001b[0mset\u001b[0m\u001b[0;34m(\u001b[0m\u001b[0;34m[\u001b[0m\u001b[0matom\u001b[0m\u001b[0;34m.\u001b[0m\u001b[0mGetName\u001b[0m\u001b[0;34m(\u001b[0m\u001b[0;34m)\u001b[0m \u001b[0;32mfor\u001b[0m \u001b[0matom\u001b[0m \u001b[0;32min\u001b[0m \u001b[0mcurrent_oemol\u001b[0m\u001b[0;34m.\u001b[0m\u001b[0mGetAtoms\u001b[0m\u001b[0;34m(\u001b[0m\u001b[0;34m)\u001b[0m\u001b[0;34m]\u001b[0m\u001b[0;34m)\u001b[0m\u001b[0;34m)\u001b[0m \u001b[0;34m==\u001b[0m \u001b[0mlen\u001b[0m\u001b[0;34m(\u001b[0m\u001b[0;34m[\u001b[0m\u001b[0matom\u001b[0m\u001b[0;34m.\u001b[0m\u001b[0mGetName\u001b[0m\u001b[0;34m(\u001b[0m\u001b[0;34m)\u001b[0m \u001b[0;32mfor\u001b[0m \u001b[0matom\u001b[0m \u001b[0;32min\u001b[0m \u001b[0mcurrent_oemol\u001b[0m\u001b[0;34m.\u001b[0m\u001b[0mGetAtoms\u001b[0m\u001b[0;34m(\u001b[0m\u001b[0;34m)\u001b[0m\u001b[0;34m]\u001b[0m\u001b[0;34m)\u001b[0m\u001b[0;34m:\u001b[0m\u001b[0;34m\u001b[0m\u001b[0;34m\u001b[0m\u001b[0m\n\u001b[1;32m      6\u001b[0m         \u001b[0;32mraise\u001b[0m \u001b[0mException\u001b[0m\u001b[0;34m(\u001b[0m\u001b[0;34mf\"the atoms in the oemol are not uniquely named.\"\u001b[0m\u001b[0;34m)\u001b[0m\u001b[0;34m\u001b[0m\u001b[0;34m\u001b[0m\u001b[0m\n",
      "\u001b[0;32m~/miniconda3/envs/perses-sims/lib/python3.7/site-packages/perses-0.7.1-py3.7.egg/perses/utils/openeye.py\u001b[0m in \u001b[0;36mcreateOEMolFromSDF\u001b[0;34m(sdf_filename, index, add_hydrogens)\u001b[0m\n\u001b[1;32m    361\u001b[0m \u001b[0;34m\u001b[0m\u001b[0m\n\u001b[1;32m    362\u001b[0m     \u001b[0;31m# perceive chirality\u001b[0m\u001b[0;34m\u001b[0m\u001b[0;34m\u001b[0m\u001b[0;34m\u001b[0m\u001b[0m\n\u001b[0;32m--> 363\u001b[0;31m     \u001b[0;32massert\u001b[0m \u001b[0moechem\u001b[0m\u001b[0;34m.\u001b[0m\u001b[0mOE3DToInternalStereo\u001b[0m\u001b[0;34m(\u001b[0m\u001b[0mmolecule\u001b[0m\u001b[0;34m)\u001b[0m\u001b[0;34m,\u001b[0m \u001b[0;34mf\"the stereochemistry perception from 3D coordinates failed\"\u001b[0m\u001b[0;34m\u001b[0m\u001b[0;34m\u001b[0m\u001b[0m\n\u001b[0m\u001b[1;32m    364\u001b[0m     \u001b[0;32massert\u001b[0m \u001b[0;32mnot\u001b[0m \u001b[0mhas_undefined_stereocenters\u001b[0m\u001b[0;34m(\u001b[0m\u001b[0mmolecule\u001b[0m\u001b[0;34m)\u001b[0m\u001b[0;34m,\u001b[0m \u001b[0;34mf\"there is an atom with an undefined stereochemistry\"\u001b[0m\u001b[0;34m\u001b[0m\u001b[0;34m\u001b[0m\u001b[0m\n\u001b[1;32m    365\u001b[0m \u001b[0;34m\u001b[0m\u001b[0m\n",
      "\u001b[0;31mAssertionError\u001b[0m: the stereochemistry perception from 3D coordinates failed"
     ]
    }
   ],
   "source": [
    "barstar_oemol = generate_oemol_from_pdb_template(\"../input/mmc2_barstar.pdb\")"
   ]
  },
  {
   "cell_type": "code",
   "execution_count": 8,
   "metadata": {},
   "outputs": [
    {
     "name": "stderr",
     "output_type": "stream",
     "text": [
      "INFO:numexpr.utils:Note: NumExpr detected 48 cores but \"NUMEXPR_MAX_THREADS\" not set, so enforcing safe limit of 8.\n",
      "INFO:numexpr.utils:NumExpr defaulting to 8 threads.\n",
      "INFO:utils.openeye:molecule                       does not have unique atom names. Generating now...\n"
     ]
    },
    {
     "ename": "AssertionError",
     "evalue": "the stereochemistry perception from 3D coordinates failed",
     "output_type": "error",
     "traceback": [
      "\u001b[0;31m---------------------------------------------------------------------------\u001b[0m",
      "\u001b[0;31mAssertionError\u001b[0m                            Traceback (most recent call last)",
      "\u001b[0;32m<ipython-input-8-bec872b0a6df>\u001b[0m in \u001b[0;36m<module>\u001b[0;34m\u001b[0m\n\u001b[1;32m     10\u001b[0m \u001b[0mtraj\u001b[0m\u001b[0;34m.\u001b[0m\u001b[0msave\u001b[0m\u001b[0;34m(\u001b[0m\u001b[0;34m\"new.pdb\"\u001b[0m\u001b[0;34m)\u001b[0m\u001b[0;34m\u001b[0m\u001b[0;34m\u001b[0m\u001b[0m\n\u001b[1;32m     11\u001b[0m \u001b[0;34m\u001b[0m\u001b[0m\n\u001b[0;32m---> 12\u001b[0;31m \u001b[0mold_oemol\u001b[0m \u001b[0;34m=\u001b[0m \u001b[0mgenerate_oemol_from_pdb_template\u001b[0m\u001b[0;34m(\u001b[0m\u001b[0;34m\"old.pdb\"\u001b[0m\u001b[0;34m)\u001b[0m\u001b[0;34m\u001b[0m\u001b[0;34m\u001b[0m\u001b[0m\n\u001b[0m\u001b[1;32m     13\u001b[0m \u001b[0mnew_oemol\u001b[0m \u001b[0;34m=\u001b[0m \u001b[0mgenerate_oemol_from_pdb_template\u001b[0m\u001b[0;34m(\u001b[0m\u001b[0;34m\"new.pdb\"\u001b[0m\u001b[0;34m)\u001b[0m\u001b[0;34m\u001b[0m\u001b[0;34m\u001b[0m\u001b[0m\n\u001b[1;32m     14\u001b[0m \u001b[0mprint\u001b[0m\u001b[0;34m(\u001b[0m\u001b[0mos\u001b[0m\u001b[0;34m.\u001b[0m\u001b[0mpath\u001b[0m\u001b[0;34m.\u001b[0m\u001b[0mjoin\u001b[0m\u001b[0;34m(\u001b[0m\u001b[0mdirectory\u001b[0m\u001b[0;34m,\u001b[0m \u001b[0;34m\"maps/Y29F.pdf\"\u001b[0m\u001b[0;34m)\u001b[0m\u001b[0;34m)\u001b[0m\u001b[0;34m\u001b[0m\u001b[0;34m\u001b[0m\u001b[0m\n",
      "\u001b[0;32m<ipython-input-4-9dc17205b1ea>\u001b[0m in \u001b[0;36mgenerate_oemol_from_pdb_template\u001b[0;34m(pdbfile)\u001b[0m\n\u001b[1;32m      2\u001b[0m \u001b[0;32mdef\u001b[0m \u001b[0mgenerate_oemol_from_pdb_template\u001b[0m\u001b[0;34m(\u001b[0m\u001b[0mpdbfile\u001b[0m\u001b[0;34m)\u001b[0m\u001b[0;34m:\u001b[0m\u001b[0;34m\u001b[0m\u001b[0;34m\u001b[0m\u001b[0m\n\u001b[1;32m      3\u001b[0m     \u001b[0;32mfrom\u001b[0m \u001b[0mperses\u001b[0m\u001b[0;34m.\u001b[0m\u001b[0mutils\u001b[0m\u001b[0;34m.\u001b[0m\u001b[0mopeneye\u001b[0m \u001b[0;32mimport\u001b[0m \u001b[0mcreateOEMolFromSDF\u001b[0m\u001b[0;34m\u001b[0m\u001b[0;34m\u001b[0m\u001b[0m\n\u001b[0;32m----> 4\u001b[0;31m     \u001b[0mcurrent_oemol\u001b[0m \u001b[0;34m=\u001b[0m \u001b[0mcreateOEMolFromSDF\u001b[0m\u001b[0;34m(\u001b[0m\u001b[0mpdbfile\u001b[0m\u001b[0;34m,\u001b[0m \u001b[0madd_hydrogens\u001b[0m \u001b[0;34m=\u001b[0m \u001b[0;32mTrue\u001b[0m\u001b[0;34m)\u001b[0m\u001b[0;34m\u001b[0m\u001b[0;34m\u001b[0m\u001b[0m\n\u001b[0m\u001b[1;32m      5\u001b[0m     \u001b[0;32mif\u001b[0m \u001b[0;32mnot\u001b[0m \u001b[0mlen\u001b[0m\u001b[0;34m(\u001b[0m\u001b[0mset\u001b[0m\u001b[0;34m(\u001b[0m\u001b[0;34m[\u001b[0m\u001b[0matom\u001b[0m\u001b[0;34m.\u001b[0m\u001b[0mGetName\u001b[0m\u001b[0;34m(\u001b[0m\u001b[0;34m)\u001b[0m \u001b[0;32mfor\u001b[0m \u001b[0matom\u001b[0m \u001b[0;32min\u001b[0m \u001b[0mcurrent_oemol\u001b[0m\u001b[0;34m.\u001b[0m\u001b[0mGetAtoms\u001b[0m\u001b[0;34m(\u001b[0m\u001b[0;34m)\u001b[0m\u001b[0;34m]\u001b[0m\u001b[0;34m)\u001b[0m\u001b[0;34m)\u001b[0m \u001b[0;34m==\u001b[0m \u001b[0mlen\u001b[0m\u001b[0;34m(\u001b[0m\u001b[0;34m[\u001b[0m\u001b[0matom\u001b[0m\u001b[0;34m.\u001b[0m\u001b[0mGetName\u001b[0m\u001b[0;34m(\u001b[0m\u001b[0;34m)\u001b[0m \u001b[0;32mfor\u001b[0m \u001b[0matom\u001b[0m \u001b[0;32min\u001b[0m \u001b[0mcurrent_oemol\u001b[0m\u001b[0;34m.\u001b[0m\u001b[0mGetAtoms\u001b[0m\u001b[0;34m(\u001b[0m\u001b[0;34m)\u001b[0m\u001b[0;34m]\u001b[0m\u001b[0;34m)\u001b[0m\u001b[0;34m:\u001b[0m\u001b[0;34m\u001b[0m\u001b[0;34m\u001b[0m\u001b[0m\n\u001b[1;32m      6\u001b[0m         \u001b[0;32mraise\u001b[0m \u001b[0mException\u001b[0m\u001b[0;34m(\u001b[0m\u001b[0;34mf\"the atoms in the oemol are not uniquely named.\"\u001b[0m\u001b[0;34m)\u001b[0m\u001b[0;34m\u001b[0m\u001b[0;34m\u001b[0m\u001b[0m\n",
      "\u001b[0;32m~/miniconda3/envs/perses-sims/lib/python3.7/site-packages/perses-0.7.1-py3.7.egg/perses/utils/openeye.py\u001b[0m in \u001b[0;36mcreateOEMolFromSDF\u001b[0;34m(sdf_filename, index, add_hydrogens)\u001b[0m\n\u001b[1;32m    361\u001b[0m \u001b[0;34m\u001b[0m\u001b[0m\n\u001b[1;32m    362\u001b[0m     \u001b[0;31m# perceive chirality\u001b[0m\u001b[0;34m\u001b[0m\u001b[0;34m\u001b[0m\u001b[0;34m\u001b[0m\u001b[0m\n\u001b[0;32m--> 363\u001b[0;31m     \u001b[0;32massert\u001b[0m \u001b[0moechem\u001b[0m\u001b[0;34m.\u001b[0m\u001b[0mOE3DToInternalStereo\u001b[0m\u001b[0;34m(\u001b[0m\u001b[0mmolecule\u001b[0m\u001b[0;34m)\u001b[0m\u001b[0;34m,\u001b[0m \u001b[0;34mf\"the stereochemistry perception from 3D coordinates failed\"\u001b[0m\u001b[0;34m\u001b[0m\u001b[0;34m\u001b[0m\u001b[0m\n\u001b[0m\u001b[1;32m    364\u001b[0m     \u001b[0;32massert\u001b[0m \u001b[0;32mnot\u001b[0m \u001b[0mhas_undefined_stereocenters\u001b[0m\u001b[0;34m(\u001b[0m\u001b[0mmolecule\u001b[0m\u001b[0;34m)\u001b[0m\u001b[0;34m,\u001b[0m \u001b[0;34mf\"there is an atom with an undefined stereochemistry\"\u001b[0m\u001b[0;34m\u001b[0m\u001b[0;34m\u001b[0m\u001b[0m\n\u001b[1;32m    365\u001b[0m \u001b[0;34m\u001b[0m\u001b[0m\n",
      "\u001b[0;31mAssertionError\u001b[0m: the stereochemistry perception from 3D coordinates failed"
     ]
    }
   ],
   "source": [
    "# Generate maps\n",
    "directory = \"/data/chodera/zhangi/perses_benchmark/neq/6/\"\n",
    "\n",
    "\n",
    "with open(os.path.join(directory, f\"{4}/{4}_apo.pickle\"), 'rb') as f:\n",
    "    htf = pickle.load(f)\n",
    "traj = md.Trajectory(np.asarray(htf.old_positions(htf.hybrid_positions)), md.Topology.from_openmm(htf._topology_proposal.old_topology))\n",
    "traj.save(\"old.pdb\")\n",
    "traj = md.Trajectory(np.asarray(htf.new_positions(htf.hybrid_positions)), md.Topology.from_openmm(htf._topology_proposal.new_topology))\n",
    "traj.save(\"new.pdb\")\n",
    "    \n",
    "old_oemol = generate_oemol_from_pdb_template(\"old.pdb\")\n",
    "new_oemol = generate_oemol_from_pdb_template(\"new.pdb\")\n",
    "print(os.path.join(directory, \"maps/Y29F.pdf\"))\n",
    "#     render_atom_mapping(os.path.join(directory, f\"maps/{pair[0]}_{pair[1]}.pdf\"), old_oemol, new_oemol, htf._topology_proposal.new_to_old_atom_map)\n",
    "\n",
    "#     render_atom_mapping(os.path.join(directory, f\"maps/{pair[0]}_{pair[1]}.pdf\"), d_oemols[pair[0]], d_oemols[pair[1]], htf._topology_proposal.new_to_old_atom_map)\n"
   ]
  },
  {
   "cell_type": "code",
   "execution_count": 13,
   "metadata": {},
   "outputs": [],
   "source": [
    "unique_new = htf._topology_proposal.unique_new_atoms"
   ]
  },
  {
   "cell_type": "code",
   "execution_count": 12,
   "metadata": {},
   "outputs": [],
   "source": [
    "unique_old = htf._topology_proposal.unique_old_atoms"
   ]
  },
  {
   "cell_type": "code",
   "execution_count": 14,
   "metadata": {},
   "outputs": [
    {
     "name": "stdout",
     "output_type": "stream",
     "text": [
      "<Atom 479 (HB2) of chain 0 residue 29 (PHE)>\n",
      "<Atom 480 (HB3) of chain 0 residue 29 (PHE)>\n",
      "<Atom 481 (HD1) of chain 0 residue 29 (PHE)>\n",
      "<Atom 482 (HD2) of chain 0 residue 29 (PHE)>\n",
      "<Atom 483 (HE1) of chain 0 residue 29 (PHE)>\n",
      "<Atom 484 (HE2) of chain 0 residue 29 (PHE)>\n",
      "<Atom 485 (HZ) of chain 0 residue 29 (PHE)>\n"
     ]
    }
   ],
   "source": [
    "for atom in htf._topology_proposal.new_topology.atoms():\n",
    "    if atom.index in unique_new:\n",
    "        print(atom)"
   ]
  },
  {
   "cell_type": "code",
   "execution_count": 15,
   "metadata": {},
   "outputs": [
    {
     "name": "stdout",
     "output_type": "stream",
     "text": [
      "<Atom 473 (CD2) of chain 0 residue 29 (TYR)>\n",
      "<Atom 480 (HB2) of chain 0 residue 29 (TYR)>\n",
      "<Atom 481 (HB3) of chain 0 residue 29 (TYR)>\n",
      "<Atom 482 (HD1) of chain 0 residue 29 (TYR)>\n",
      "<Atom 483 (HD2) of chain 0 residue 29 (TYR)>\n",
      "<Atom 484 (HE1) of chain 0 residue 29 (TYR)>\n",
      "<Atom 485 (HE2) of chain 0 residue 29 (TYR)>\n",
      "<Atom 486 (HH) of chain 0 residue 29 (TYR)>\n"
     ]
    }
   ],
   "source": [
    "for atom in htf._topology_proposal.old_topology.atoms():\n",
    "    if atom.index in unique_old:\n",
    "        print(atom)"
   ]
  },
  {
   "cell_type": "code",
   "execution_count": 18,
   "metadata": {},
   "outputs": [],
   "source": [
    "core_map = htf._topology_proposal.core_new_to_old_atom_map"
   ]
  },
  {
   "cell_type": "code",
   "execution_count": 21,
   "metadata": {},
   "outputs": [
    {
     "name": "stdout",
     "output_type": "stream",
     "text": [
      "<Atom 466 (N) of chain 0 residue 29 (PHE)> <Atom 466 (N) of chain 0 residue 29 (TYR)>\n",
      "<Atom 467 (CA) of chain 0 residue 29 (PHE)> <Atom 467 (CA) of chain 0 residue 29 (TYR)>\n",
      "<Atom 468 (C) of chain 0 residue 29 (PHE)> <Atom 468 (C) of chain 0 residue 29 (TYR)>\n",
      "<Atom 469 (O) of chain 0 residue 29 (PHE)> <Atom 469 (O) of chain 0 residue 29 (TYR)>\n",
      "<Atom 477 (H) of chain 0 residue 29 (PHE)> <Atom 478 (H) of chain 0 residue 29 (TYR)>\n",
      "<Atom 478 (HA) of chain 0 residue 29 (PHE)> <Atom 479 (HA) of chain 0 residue 29 (TYR)>\n",
      "<Atom 470 (CB) of chain 0 residue 29 (PHE)> <Atom 470 (CB) of chain 0 residue 29 (TYR)>\n",
      "<Atom 471 (CG) of chain 0 residue 29 (PHE)> <Atom 471 (CG) of chain 0 residue 29 (TYR)>\n",
      "<Atom 472 (CD1) of chain 0 residue 29 (PHE)> <Atom 472 (CD1) of chain 0 residue 29 (TYR)>\n",
      "<Atom 473 (CD2) of chain 0 residue 29 (PHE)> <Atom 474 (CE1) of chain 0 residue 29 (TYR)>\n",
      "<Atom 474 (CE1) of chain 0 residue 29 (PHE)> <Atom 475 (CE2) of chain 0 residue 29 (TYR)>\n",
      "<Atom 475 (CE2) of chain 0 residue 29 (PHE)> <Atom 476 (CZ) of chain 0 residue 29 (TYR)>\n",
      "<Atom 476 (CZ) of chain 0 residue 29 (PHE)> <Atom 477 (OH) of chain 0 residue 29 (TYR)>\n",
      "<Atom 451 (N) of chain 0 residue 28 (GLU)> <Atom 451 (N) of chain 0 residue 28 (GLU)>\n",
      "<Atom 452 (CA) of chain 0 residue 28 (GLU)> <Atom 452 (CA) of chain 0 residue 28 (GLU)>\n",
      "<Atom 453 (C) of chain 0 residue 28 (GLU)> <Atom 453 (C) of chain 0 residue 28 (GLU)>\n",
      "<Atom 454 (O) of chain 0 residue 28 (GLU)> <Atom 454 (O) of chain 0 residue 28 (GLU)>\n",
      "<Atom 455 (CB) of chain 0 residue 28 (GLU)> <Atom 455 (CB) of chain 0 residue 28 (GLU)>\n",
      "<Atom 456 (CG) of chain 0 residue 28 (GLU)> <Atom 456 (CG) of chain 0 residue 28 (GLU)>\n",
      "<Atom 457 (CD) of chain 0 residue 28 (GLU)> <Atom 457 (CD) of chain 0 residue 28 (GLU)>\n",
      "<Atom 458 (OE1) of chain 0 residue 28 (GLU)> <Atom 458 (OE1) of chain 0 residue 28 (GLU)>\n",
      "<Atom 459 (OE2) of chain 0 residue 28 (GLU)> <Atom 459 (OE2) of chain 0 residue 28 (GLU)>\n",
      "<Atom 460 (H) of chain 0 residue 28 (GLU)> <Atom 460 (H) of chain 0 residue 28 (GLU)>\n",
      "<Atom 461 (HA) of chain 0 residue 28 (GLU)> <Atom 461 (HA) of chain 0 residue 28 (GLU)>\n",
      "<Atom 462 (HB3) of chain 0 residue 28 (GLU)> <Atom 462 (HB3) of chain 0 residue 28 (GLU)>\n",
      "<Atom 463 (HB2) of chain 0 residue 28 (GLU)> <Atom 463 (HB2) of chain 0 residue 28 (GLU)>\n",
      "<Atom 464 (HG2) of chain 0 residue 28 (GLU)> <Atom 464 (HG2) of chain 0 residue 28 (GLU)>\n",
      "<Atom 465 (HG3) of chain 0 residue 28 (GLU)> <Atom 465 (HG3) of chain 0 residue 28 (GLU)>\n",
      "<Atom 486 (N) of chain 0 residue 30 (TYR)> <Atom 487 (N) of chain 0 residue 30 (TYR)>\n",
      "<Atom 487 (CA) of chain 0 residue 30 (TYR)> <Atom 488 (CA) of chain 0 residue 30 (TYR)>\n",
      "<Atom 488 (C) of chain 0 residue 30 (TYR)> <Atom 489 (C) of chain 0 residue 30 (TYR)>\n",
      "<Atom 489 (O) of chain 0 residue 30 (TYR)> <Atom 490 (O) of chain 0 residue 30 (TYR)>\n",
      "<Atom 490 (CB) of chain 0 residue 30 (TYR)> <Atom 491 (CB) of chain 0 residue 30 (TYR)>\n",
      "<Atom 491 (CG) of chain 0 residue 30 (TYR)> <Atom 492 (CG) of chain 0 residue 30 (TYR)>\n",
      "<Atom 492 (CD1) of chain 0 residue 30 (TYR)> <Atom 493 (CD1) of chain 0 residue 30 (TYR)>\n",
      "<Atom 493 (CD2) of chain 0 residue 30 (TYR)> <Atom 494 (CD2) of chain 0 residue 30 (TYR)>\n",
      "<Atom 494 (CE1) of chain 0 residue 30 (TYR)> <Atom 495 (CE1) of chain 0 residue 30 (TYR)>\n",
      "<Atom 495 (CE2) of chain 0 residue 30 (TYR)> <Atom 496 (CE2) of chain 0 residue 30 (TYR)>\n",
      "<Atom 496 (CZ) of chain 0 residue 30 (TYR)> <Atom 497 (CZ) of chain 0 residue 30 (TYR)>\n",
      "<Atom 497 (OH) of chain 0 residue 30 (TYR)> <Atom 498 (OH) of chain 0 residue 30 (TYR)>\n",
      "<Atom 498 (H) of chain 0 residue 30 (TYR)> <Atom 499 (H) of chain 0 residue 30 (TYR)>\n",
      "<Atom 499 (HA) of chain 0 residue 30 (TYR)> <Atom 500 (HA) of chain 0 residue 30 (TYR)>\n",
      "<Atom 500 (HB3) of chain 0 residue 30 (TYR)> <Atom 501 (HB3) of chain 0 residue 30 (TYR)>\n",
      "<Atom 501 (HB2) of chain 0 residue 30 (TYR)> <Atom 502 (HB2) of chain 0 residue 30 (TYR)>\n",
      "<Atom 502 (HD1) of chain 0 residue 30 (TYR)> <Atom 503 (HD1) of chain 0 residue 30 (TYR)>\n",
      "<Atom 503 (HD2) of chain 0 residue 30 (TYR)> <Atom 504 (HD2) of chain 0 residue 30 (TYR)>\n",
      "<Atom 504 (HE1) of chain 0 residue 30 (TYR)> <Atom 505 (HE1) of chain 0 residue 30 (TYR)>\n",
      "<Atom 505 (HE2) of chain 0 residue 30 (TYR)> <Atom 506 (HE2) of chain 0 residue 30 (TYR)>\n",
      "<Atom 506 (HH) of chain 0 residue 30 (TYR)> <Atom 507 (HH) of chain 0 residue 30 (TYR)>\n"
     ]
    }
   ],
   "source": [
    "new_atoms = list(htf._topology_proposal.new_topology.atoms())\n",
    "old_atoms = list(htf._topology_proposal.old_topology.atoms())\n",
    "for new, old in core_map.items():\n",
    "    print(new_atoms[new], old_atoms[old])"
   ]
  },
  {
   "cell_type": "code",
   "execution_count": null,
   "metadata": {},
   "outputs": [],
   "source": []
  }
 ],
 "metadata": {
  "kernelspec": {
   "display_name": "Python 3",
   "language": "python",
   "name": "python3"
  },
  "language_info": {
   "codemirror_mode": {
    "name": "ipython",
    "version": 3
   },
   "file_extension": ".py",
   "mimetype": "text/x-python",
   "name": "python",
   "nbconvert_exporter": "python",
   "pygments_lexer": "ipython3",
   "version": "3.7.8"
  }
 },
 "nbformat": 4,
 "nbformat_minor": 4
}
