{
 "cells": [
  {
   "cell_type": "markdown",
   "id": "df756886",
   "metadata": {},
   "source": [
    "# Test neq code"
   ]
  },
  {
   "cell_type": "code",
   "execution_count": 1,
   "id": "30af41c6",
   "metadata": {
    "scrolled": true
   },
   "outputs": [
    {
     "name": "stdout",
     "output_type": "stream",
     "text": [
      "conducting subsequent work with the following platform: CUDA\n"
     ]
    }
   ],
   "source": [
    "from simtk import openmm, unit\n",
    "from openmmtools.integrators import PeriodicNonequilibriumIntegrator, LangevinIntegrator, NonequilibriumLangevinIntegrator, AlchemicalNonequilibriumLangevinIntegrator\n",
    "from perses.dispersed.utils import configure_platform\n",
    "from openmmtools import utils, cache, states\n",
    "import os\n",
    "import pickle\n",
    "from openmmtools.constants import kB\n",
    "from perses.tests.utils import compute_potential_components\n",
    "import numpy as np"
   ]
  },
  {
   "cell_type": "code",
   "execution_count": 2,
   "id": "2b29e055",
   "metadata": {},
   "outputs": [],
   "source": [
    "dir_num = 5\n",
    "outdir = \"/data/chodera/zhangi/perses_benchmark/neq/19/\"\n",
    "path = os.path.join(outdir, str(dir_num) + '/')\n",
    "with open(os.path.join(path, f\"{dir_num}_solvent.pickle\"), \"rb\") as f:\n",
    "    apo_htf = pickle.load(f)\n",
    "    system = apo_htf.hybrid_system\n",
    "    positions = apo_htf.hybrid_positions\n",
    "    box_vectors = apo_htf.hybrid_system.getDefaultPeriodicBoxVectors()\n"
   ]
  },
  {
   "cell_type": "code",
   "execution_count": 3,
   "id": "bc02aa8d",
   "metadata": {},
   "outputs": [
    {
     "data": {
      "text/plain": [
       "8"
      ]
     },
     "execution_count": 3,
     "metadata": {},
     "output_type": "execute_result"
    }
   ],
   "source": [
    "# # Restrain system\n",
    "# force = openmm.CustomExternalForce(\"k*((x-x0)^2+(y-y0)^2+(z-z0)^2)\")\n",
    "# force.addGlobalParameter(\"k\", 5.0*unit.kilocalories_per_mole/unit.angstroms**2)\n",
    "# force.addPerParticleParameter(\"x0\")\n",
    "# force.addPerParticleParameter(\"y0\")\n",
    "# force.addPerParticleParameter(\"z0\")\n",
    "# for atom in apo_htf.hybrid_topology.atoms:\n",
    "#     if atom.element.name != 'hydrogen':\n",
    "#         force.addParticle(atom.index, positions[atom.index].value_in_unit(unit.nanometers))\n",
    "# system.addForce(force)"
   ]
  },
  {
   "cell_type": "code",
   "execution_count": 3,
   "id": "6971a963",
   "metadata": {},
   "outputs": [
    {
     "data": {
      "text/plain": [
       "'U_electrostatics; U_electrostatics = switch * c_RF * u_RF; switch = step(-t) + step(t) * step(1-t) * (1 + (t^3) * (-10 + t * (15 - (6 * t)))); t = (r_eff - r_switch) / (r_cutoff - r_switch); c_RF = 138.935456 * chargeProd; chargeProd = charge1 * charge2; charge1 = ((charge_old1 * ( 1 * environment_region1+lambda_0_electrostatics_old * alchemical_region_01 )) + (charge_new1 * ( 1 * environment_region1+lambda_0_electrostatics_new * alchemical_region_01 ))) * ( nonscale_lambda_electrostatics * nonscale_region1 ); charge2 = ((charge_old2 * ( 1 * environment_region2+lambda_0_electrostatics_old * alchemical_region_02 )) + (charge_new2 * ( 1 * environment_region2+lambda_0_electrostatics_new * alchemical_region_02 ))) * ( nonscale_lambda_electrostatics * nonscale_region2 ); u_RF = (1 / r_eff) + ((eps_RF - 1) * (r_eff^2)) / ((r_cutoff^3) * (1 + (2 * eps_RF))); r_eff = sqrt(r^2 + w^2); w = is_unique_old * r_cutoff * w_scale * (1 - lambda_0_electrostatics_old) + is_unique_new * w_scale * (1 - lambda_0_electrostatics_new); is_unique_old = step(unique_old1 + unique_old2 - 0.1); is_unique_new = step(unique_new1 + unique_new2 - 0.1); r_switch = r_cutoff * 0.25; eps_RF = 78.8; r_cutoff = 1.4; w_scale = 1.0;'"
      ]
     },
     "execution_count": 3,
     "metadata": {},
     "output_type": "execute_result"
    }
   ],
   "source": [
    "system.getForce(4).getEnergyFunction()"
   ]
  },
  {
   "cell_type": "code",
   "execution_count": 3,
   "id": "f26d1c3b",
   "metadata": {},
   "outputs": [],
   "source": [
    "nsteps_eq = 25000\n",
    "nsteps_neq = int(1*25000) # 100 ps\n",
    "neq_splitting='V R H O R V'\n",
    "timestep = 4.0 * unit.femtosecond\n",
    "platform_name = 'CUDA'\n",
    "temperature = 300.0 * unit.kelvin\n",
    "\n",
    "kT = kB * temperature\n",
    "beta = 1.0/kT\n",
    "\n",
    "x = 'lambda'\n",
    "ALCHEMICAL_FUNCTIONS = {'lambda_0_bonds_old': f'abs(1 - {x})',\n",
    "                         'lambda_0_bonds_new': f'abs({x})',\n",
    "                         'lambda_0_angles_old': f'abs(1 - {x})',\n",
    "                         'lambda_0_angles_new': f'abs({x})',\n",
    "                         'lambda_0_torsions_old': f'abs(1 - {x})',\n",
    "                         'lambda_0_torsions_new': f'abs({x})',\n",
    "                         'lambda_0_electrostatics_old':f'abs(1 - {x})',\n",
    "                         'lambda_0_electrostatics_new': f'abs({x})',\n",
    "                         'lambda_0_electrostatics_exceptions_old': f'abs(1 - {x})',\n",
    "                         'lambda_0_electrostatics_exceptions_new': f'abs({x})',\n",
    "                         'lambda_0_sterics_old': f'abs(1 - {x})',\n",
    "                         'lambda_0_sterics_new': f'abs({x})',\n",
    "                         'lambda_0_sterics_exceptions_old': f'abs(1 - {x})',\n",
    "                         'lambda_0_sterics_exceptions_new': f'abs({x})'}\n",
    "\n",
    "# Set up integrator\n",
    "# integrator = PeriodicNonequilibriumIntegrator(ALCHEMICAL_FUNCTIONS, nsteps_eq, nsteps_neq, neq_splitting, timestep=timestep, temperature=temperature)\n",
    "integrator = LangevinIntegrator(temperature=temperature)\n",
    "\n",
    "\n",
    "# Set up context\n",
    "platform = openmm.Platform.getPlatformByName(platform_name)\n",
    "if platform_name in ['CUDA', 'OpenCL']:\n",
    "    platform.setPropertyDefaultValue('Precision', 'mixed')\n",
    "if platform_name in ['CUDA']:\n",
    "    platform.setPropertyDefaultValue('DeterministicForces', 'true')\n",
    "context = openmm.Context(system, integrator, platform)\n",
    "context.setPeriodicBoxVectors(*box_vectors)\n",
    "context.setPositions(positions)\n",
    "context.setVelocitiesToTemperature(temperature)\n"
   ]
  },
  {
   "cell_type": "code",
   "execution_count": 4,
   "id": "aa927719",
   "metadata": {},
   "outputs": [],
   "source": [
    "# Minimize\n",
    "openmm.LocalEnergyMinimizer.minimize(context)\n",
    "\n"
   ]
  },
  {
   "cell_type": "code",
   "execution_count": 7,
   "id": "981cfeed",
   "metadata": {},
   "outputs": [],
   "source": [
    "# # Set all heavy atom masses to be 0\n",
    "# heavy_atoms = []\n",
    "# for atom in apo_htf.hybrid_topology.atoms:\n",
    "#     if atom.element.name != 'hydrogen' and atom.residue.name not in ['HOH', 'Na+', 'Cl-']:\n",
    "#         system.setParticleMass(atom.index, 0.0)\n",
    "#         heavy_atoms.append(atom.index)\n",
    "\n",
    "# for i in range(system.getNumConstraints() - 1, -1, -1):\n",
    "#     p1, p2, distance = system.getConstraintParameters(i)\n",
    "#     if p1 in heavy_atoms or p2 in heavy_atoms:\n",
    "#         system.removeConstraint(i)\n"
   ]
  },
  {
   "cell_type": "code",
   "execution_count": 5,
   "id": "2c5e42e0",
   "metadata": {},
   "outputs": [
    {
     "data": {
      "text/plain": [
       "8"
      ]
     },
     "execution_count": 5,
     "metadata": {},
     "output_type": "execute_result"
    }
   ],
   "source": [
    "# # Restrain system\n",
    "# force = openmm.CustomExternalForce(\"k*((x-x0)^2+(y-y0)^2+(z-z0)^2)\")\n",
    "# force.addGlobalParameter(\"k\", 5.0*unit.kilocalories_per_mole/unit.angstroms**2)\n",
    "# force.addPerParticleParameter(\"x0\")\n",
    "# force.addPerParticleParameter(\"y0\")\n",
    "# force.addPerParticleParameter(\"z0\")\n",
    "# for atom in apo_htf.hybrid_topology.atoms:\n",
    "#     if atom.element.name != 'hydrogen':\n",
    "#         force.addParticle(atom.index, positions[atom.index].value_in_unit(unit.nanometers))\n",
    "# system.addForce(force)"
   ]
  },
  {
   "cell_type": "code",
   "execution_count": 5,
   "id": "2243e236",
   "metadata": {},
   "outputs": [],
   "source": [
    "# Set positions to be minimized positions\n",
    "positions = context.getState(getPositions=True).getPositions()\n"
   ]
  },
  {
   "cell_type": "code",
   "execution_count": 11,
   "id": "2286d3cd",
   "metadata": {},
   "outputs": [],
   "source": [
    "heavy_atoms = []\n",
    "for atom in apo_htf.hybrid_topology.atoms:\n",
    "    if atom.element.name != 'hydrogen':\n",
    "        heavy_atoms.append(atom.index)"
   ]
  },
  {
   "cell_type": "code",
   "execution_count": 13,
   "id": "2bc5e552",
   "metadata": {},
   "outputs": [
    {
     "data": {
      "text/plain": [
       "8"
      ]
     },
     "execution_count": 13,
     "metadata": {},
     "output_type": "execute_result"
    }
   ],
   "source": [
    "# Add RMSD force\n",
    "from simtk.openmm import RMSDForce\n",
    "rmsd_force = RMSDForce(positions, heavy_atoms)\n",
    "apo_htf.hybrid_system.addForce(rmsd_force)"
   ]
  },
  {
   "cell_type": "code",
   "execution_count": 14,
   "id": "90e279cf",
   "metadata": {},
   "outputs": [],
   "source": [
    "\n",
    "# Set up new integrator\n",
    "integrator = PeriodicNonequilibriumIntegrator(ALCHEMICAL_FUNCTIONS, nsteps_eq, nsteps_neq, neq_splitting, timestep=timestep, temperature=temperature)\n",
    "\n",
    "# Set up new context\n",
    "platform = openmm.Platform.getPlatformByName(platform_name)\n",
    "if platform_name in ['CUDA', 'OpenCL']:\n",
    "    platform.setPropertyDefaultValue('Precision', 'mixed')\n",
    "if platform_name in ['CUDA']:\n",
    "    platform.setPropertyDefaultValue('DeterministicForces', 'true')\n",
    "context = openmm.Context(system, integrator, platform)\n",
    "context.setPeriodicBoxVectors(*box_vectors)\n",
    "context.setPositions(positions)\n",
    "context.setVelocitiesToTemperature(temperature)"
   ]
  },
  {
   "cell_type": "code",
   "execution_count": 15,
   "id": "b148f4ed",
   "metadata": {
    "scrolled": true
   },
   "outputs": [],
   "source": [
    "# Run eq forward (0 -> 1)\n",
    "positions = []\n",
    "energies = []\n",
    "for step in range(int(nsteps_eq/10)):\n",
    "#     print(step)\n",
    "    integrator.step(10)\n"
   ]
  },
  {
   "cell_type": "code",
   "execution_count": 15,
   "id": "f57a7b75",
   "metadata": {
    "scrolled": true
   },
   "outputs": [],
   "source": [
    "# Run neq forward (0 -> 1)\n",
    "positions = []\n",
    "for fwd_step in range(nsteps_neq):\n",
    "#     if fwd_step <= 24990 and fwd_step % 1000 == 0: \n",
    "#         print(f\"Forward neq: {fwd_step} completed\")\n",
    "#     if fwd_step > 24990:\n",
    "#         pos = context.getState(getPositions=True).getPositions()\n",
    "#         positions.append(list(pos.value_in_unit_system(unit.md_unit_system)))\n",
    "#         components = compute_potential_components(context, beta=beta)\n",
    "#         print(components)\n",
    "# #         old = context.getParameter('lambda_0_sterics_old')\n",
    "# #         new = context.getParameter('lambda_0_sterics_new')\n",
    "# #         context.setParameter('lambda_0_sterics_old', abs(old))\n",
    "# #         context.setParameter('lambda_0_sterics_new', abs(new))\n",
    "#         print(context.getParameter('lambda_0_sterics_old'))\n",
    "#         print(context.getParameter('lambda_0_sterics_new'))\n",
    "    integrator.step(1)\n",
    "    "
   ]
  },
  {
   "cell_type": "code",
   "execution_count": 16,
   "id": "6c780e9a",
   "metadata": {
    "scrolled": true
   },
   "outputs": [],
   "source": [
    "# Run eq reverse (1 -> 0)\n",
    "for step in range(nsteps_eq):\n",
    "    integrator.step(1)\n",
    "\n"
   ]
  },
  {
   "cell_type": "code",
   "execution_count": 17,
   "id": "0873e9a8",
   "metadata": {},
   "outputs": [
    {
     "name": "stdout",
     "output_type": "stream",
     "text": [
      "conducting subsequent work with the following platform: CUDA\n",
      "[('MonteCarloBarostat', 0.0), ('CustomBondForce', 8.250559497189425), ('CustomAngleForce', 27.199583981810612), ('CustomTorsionForce', 22.470171094783556), ('CustomNonbondedForce', -15497.062482301315), ('CustomNonbondedForce', 1725.2468565236525), ('CustomBondForce', 70.8517274813265), ('CustomBondForce', 2.439606886753542)]\n"
     ]
    }
   ],
   "source": [
    "components = compute_potential_components(context, beta=beta)\n",
    "print(components)\n"
   ]
  },
  {
   "cell_type": "code",
   "execution_count": 18,
   "id": "7641b8c5",
   "metadata": {},
   "outputs": [
    {
     "ename": "KeyboardInterrupt",
     "evalue": "",
     "output_type": "error",
     "traceback": [
      "\u001b[0;31m---------------------------------------------------------------------------\u001b[0m",
      "\u001b[0;31mKeyboardInterrupt\u001b[0m                         Traceback (most recent call last)",
      "\u001b[0;32m<ipython-input-18-908a518efae9>\u001b[0m in \u001b[0;36m<module>\u001b[0;34m\u001b[0m\n\u001b[1;32m      1\u001b[0m \u001b[0;31m# Run neq reverse (1 -> 0)\u001b[0m\u001b[0;34m\u001b[0m\u001b[0;34m\u001b[0m\u001b[0;34m\u001b[0m\u001b[0m\n\u001b[1;32m      2\u001b[0m \u001b[0;32mfor\u001b[0m \u001b[0mstep\u001b[0m \u001b[0;32min\u001b[0m \u001b[0mrange\u001b[0m\u001b[0;34m(\u001b[0m\u001b[0mnsteps_neq\u001b[0m\u001b[0;34m)\u001b[0m\u001b[0;34m:\u001b[0m\u001b[0;34m\u001b[0m\u001b[0;34m\u001b[0m\u001b[0m\n\u001b[0;32m----> 3\u001b[0;31m     \u001b[0mintegrator\u001b[0m\u001b[0;34m.\u001b[0m\u001b[0mstep\u001b[0m\u001b[0;34m(\u001b[0m\u001b[0;36m1\u001b[0m\u001b[0;34m)\u001b[0m\u001b[0;34m\u001b[0m\u001b[0;34m\u001b[0m\u001b[0m\n\u001b[0m\u001b[1;32m      4\u001b[0m \u001b[0;34m\u001b[0m\u001b[0m\n",
      "\u001b[0;32m~/miniconda3/envs/perses-rxn-field/lib/python3.8/site-packages/simtk/openmm/openmm.py\u001b[0m in \u001b[0;36mstep\u001b[0;34m(self, steps)\u001b[0m\n\u001b[1;32m   4595\u001b[0m             \u001b[0mthe\u001b[0m \u001b[0mnumber\u001b[0m \u001b[0mof\u001b[0m \u001b[0mtime\u001b[0m \u001b[0msteps\u001b[0m \u001b[0mto\u001b[0m \u001b[0mtake\u001b[0m\u001b[0;34m\u001b[0m\u001b[0;34m\u001b[0m\u001b[0m\n\u001b[1;32m   4596\u001b[0m         \"\"\"\n\u001b[0;32m-> 4597\u001b[0;31m         \u001b[0;32mreturn\u001b[0m \u001b[0m_openmm\u001b[0m\u001b[0;34m.\u001b[0m\u001b[0mCustomIntegrator_step\u001b[0m\u001b[0;34m(\u001b[0m\u001b[0mself\u001b[0m\u001b[0;34m,\u001b[0m \u001b[0msteps\u001b[0m\u001b[0;34m)\u001b[0m\u001b[0;34m\u001b[0m\u001b[0;34m\u001b[0m\u001b[0m\n\u001b[0m\u001b[1;32m   4598\u001b[0m \u001b[0;34m\u001b[0m\u001b[0m\n\u001b[1;32m   4599\u001b[0m     \u001b[0;32mdef\u001b[0m \u001b[0mgetPerDofVariable\u001b[0m\u001b[0;34m(\u001b[0m\u001b[0mself\u001b[0m\u001b[0;34m,\u001b[0m \u001b[0;34m*\u001b[0m\u001b[0margs\u001b[0m\u001b[0;34m)\u001b[0m\u001b[0;34m:\u001b[0m\u001b[0;34m\u001b[0m\u001b[0;34m\u001b[0m\u001b[0m\n",
      "\u001b[0;31mKeyboardInterrupt\u001b[0m: "
     ]
    }
   ],
   "source": [
    "# Run neq reverse (1 -> 0)\n",
    "for step in range(nsteps_neq):\n",
    "    integrator.step(1)\n",
    "\n"
   ]
  },
  {
   "cell_type": "code",
   "execution_count": 13,
   "id": "a94f19c0",
   "metadata": {},
   "outputs": [
    {
     "name": "stdout",
     "output_type": "stream",
     "text": [
      "conducting subsequent work with the following platform: CUDA\n",
      "[('MonteCarloBarostat', 0.0), ('CustomBondForce', 6.324543764574446), ('CustomAngleForce', 17.698552560004057), ('CustomTorsionForce', 16.68422532262658), ('CustomNonbondedForce', -15314.23872453846), ('CustomNonbondedForce', 1633.0162376459205), ('CustomBondForce', 82.30175829893093), ('CustomBondForce', 6.513541773900864)]\n"
     ]
    }
   ],
   "source": [
    "components = compute_potential_components(context, beta=beta)\n",
    "print(components)"
   ]
  },
  {
   "cell_type": "code",
   "execution_count": null,
   "id": "576fe910",
   "metadata": {},
   "outputs": [],
   "source": []
  },
  {
   "cell_type": "code",
   "execution_count": null,
   "id": "6561ca61",
   "metadata": {},
   "outputs": [],
   "source": []
  }
 ],
 "metadata": {
  "kernelspec": {
   "display_name": "Python 3",
   "language": "python",
   "name": "python3"
  },
  "language_info": {
   "codemirror_mode": {
    "name": "ipython",
    "version": 3
   },
   "file_extension": ".py",
   "mimetype": "text/x-python",
   "name": "python",
   "nbconvert_exporter": "python",
   "pygments_lexer": "ipython3",
   "version": "3.8.8"
  }
 },
 "nbformat": 4,
 "nbformat_minor": 5
}
