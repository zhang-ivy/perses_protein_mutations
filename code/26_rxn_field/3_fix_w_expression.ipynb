{
 "cells": [
  {
   "cell_type": "markdown",
   "id": "70324990",
   "metadata": {},
   "source": [
    "We want to avoid singularities when lambda != 0 or 1, so we need to add a small term to the r in the denominator\n",
    "This isn't a problem at lambda 0 or 1 because we have no naked charges\n",
    "we need this 4th dimension because we're not softcoring anything and we need to avoid singularities"
   ]
  },
  {
   "cell_type": "markdown",
   "id": "62e219ed",
   "metadata": {},
   "source": [
    "Here is the w expression:\n",
    "\n",
    "w = step(unique_new1 + unique_new2 + unique_old1 + unique_old2 - 0.1) \n",
    "    * r_cutoff \n",
    "    * (1. - ( 1 * environment_region1+lambda_0_electrostatics_old * alchemical_region_01 ) \n",
    "          - ( 1 * environment_region1+lambda_0_electrostatics_new * alchemical_region_01 )) \n",
    "    * {w_scale}\n",
    "    \n",
    "if unique_old1 or unique_old2:\n",
    "    w = r_cutoff * w_scale * (1 - lambda_0_electrostatics_old)\n",
    "elif unique_new1 or unique_new2:\n",
    "    w = r_cutoff * w_scale * (1 - lambda_0_electrostatics_new)\n",
    "else:\n",
    "    w = 0\n",
    "    \n",
    "    \n",
    "    \n",
    "is_unique_old = step(unique_old1 + unique_old2 - 0.1)\n",
    "is_unique_new = step(unique_new1 + unique_new2 - 0.1)\n",
    "w = is_unique_old * r_cutoff * w_scale * (1 - lambda_0_electrostatics_old) + is_unique_new * w_scale * (1 -lambda_0_electrostatics_new)\n",
    "    \n",
    "is_unique_old = step(unique_old1 + unique_old2 - 0.1)\n",
    "is_unique_new = step(unique_new1 + unique_new2 - 0.1)\n",
    "w = is_unique_old * r_cutoff * w_scale * (1 - lambda_0_sterics_old) + is_unique_new * w_scale * (1 - lambda_0_sterics_new)"
   ]
  },
  {
   "cell_type": "markdown",
   "id": "99f211ac",
   "metadata": {},
   "source": [
    "Let's walk through the different cases and evaluate w:\n",
    "\n",
    "CASE 1: unique_old1, unique_old2\n",
    "\n",
    "step(0 + 0 + 1 + 1 - 0.1) = step(1.9) = 1\n",
    "r_cutoff = 1.4\n",
    "1 - (1 * 0 + 1 * 1) - (1 * 0 - 0 * 1) = 0\n",
    "w_scale = 1\n",
    "w = 0"
   ]
  },
  {
   "cell_type": "markdown",
   "id": "dd2806e4",
   "metadata": {},
   "source": [
    "CASE 2: unique_old1, env\n",
    "\n",
    "step(0 + 0 + 1 + 0 - 0.1) = step(0.9) = 1\n",
    "r_cutoff = 1.4\n",
    "1 - (1 * 0 + 1 * 1) - (1 * 0 - 0 * 1) = 0\n",
    "w_scale = 1\n",
    "w = 0"
   ]
  },
  {
   "cell_type": "markdown",
   "id": "f886679f",
   "metadata": {},
   "source": [
    "CASE 3: env, unique_old2\n",
    "\n",
    "step(0 + 0 + 0 + 1 - 0.1) = step(0.9) = 1\n",
    "r_cutoff = 1.4\n",
    "1 - (1 * 1 + 1 * 0) - (1 * 1 - 0 * 0) = -1\n",
    "w_scale = 1\n",
    "w = -1.4"
   ]
  },
  {
   "cell_type": "markdown",
   "id": "7b9bc1a4",
   "metadata": {},
   "source": [
    "CASE 4: env, env\n",
    "\n",
    "step(0 + 0 + 0 + 0 - 0.1) = step(-0.1) = 0\n",
    "r_cutoff = 1.4\n",
    "1 - (1 * 1 + 1 * 0) - (1 * 1 - 0 * 0) = -1\n",
    "w_scale = 1\n",
    "w = 0"
   ]
  },
  {
   "cell_type": "markdown",
   "id": "398b1545",
   "metadata": {},
   "source": [
    "CASE 4: core, unique_old2\n",
    "\n",
    "step(0 + 0 + 0 + 1 - 0.1) = step(0.9) = 1\n",
    "r_cutoff = 1.4\n",
    "1 - (1 * 0 + 1 * 1) - (1 * 0 - 0 * 1) = 0\n",
    "w_scale = 1\n",
    "w = 0"
   ]
  },
  {
   "cell_type": "markdown",
   "id": "68c21c4b",
   "metadata": {},
   "source": [
    "CASE 4: core, core\n",
    "\n",
    "step(0 + 0 + 0 + 0 - 0.1) = step(-0.1) = 0\n",
    "r_cutoff = 1.4\n",
    "1 - (1 * 0 + 1 * 1) - (1 * 0 - 0 * 1) = 0\n",
    "w_scale = 1\n",
    "w = 0"
   ]
  }
 ],
 "metadata": {
  "kernelspec": {
   "display_name": "Python 3",
   "language": "python",
   "name": "python3"
  },
  "language_info": {
   "codemirror_mode": {
    "name": "ipython",
    "version": 3
   },
   "file_extension": ".py",
   "mimetype": "text/x-python",
   "name": "python",
   "nbconvert_exporter": "python",
   "pygments_lexer": "ipython3",
   "version": "3.8.8"
  }
 },
 "nbformat": 4,
 "nbformat_minor": 5
}
