{
 "cells": [
  {
   "cell_type": "code",
   "execution_count": null,
   "id": "88a42809",
   "metadata": {},
   "outputs": [],
   "source": [
    "U_electrostatics;\n",
    "U_electrostatics = switch * c_RF * u_RF;\n",
    "switch = step(-t) + step(t) * step(1-t) * (1 + (t^3) * (-10 + t * (15 - (6 * t))));\n",
    "t = (r_eff - r_switch) / (r_cutoff - r_switch);\n",
    "c_RF = 138.935456 * chargeProd;\n",
    "chargeProd = charge1 * charge2;\n",
    "charge1 = charge_old1 * ( 1 * environment_region1+lambda_0_electrostatics_old * alchemical_region_01 ) + charge_new1 * ( 1 * environment_region1+lambda_0_electrostatics_new * alchemical_region_01 ) * ( nonscale_lambda_electrostatics * nonscale_region1 );\n",
    "charge2 = charge_old2 * ( 1 * environment_region2+lambda_0_electrostatics_old * alchemical_region_02 ) + charge_new2 * ( 1 * environment_region2+lambda_0_electrostatics_new * alchemical_region_02 ) * ( nonscale_lambda_electrostatics * nonscale_region2 );\n",
    "# charge1 = select(1 - both_environment, charge_old1 * ( 1 * environment_region1+lambda_0_electrostatics_old * alchemical_region_01 ) + charge_new1 * ( 1 * environment_region1+lambda_0_electrostatics_new * alchemical_region_01 ), charge_old1) * ( nonscale_lambda_electrostatics * nonscale_region1 );\n",
    "# charge2 = select(1 - both_environment, charge_old2 * ( 1 * environment_region2+lambda_0_electrostatics_old * alchemical_region_02 ) + charge_new2 * ( 1 * environment_region2+lambda_0_electrostatics_new * alchemical_region_02 ), charge_old2) * ( nonscale_lambda_electrostatics * nonscale_region2 );\n",
    "# both_environment = environment_region1 * environment_region2;\n",
    "u_RF = 1 / r_eff;\n",
    "r_eff = sqrt(r^2 + w^2);\n",
    "w = step(unique_new1 + unique_new2 + unique_old1 + unique_old2 - 0.1) * r_cutoff * (1. - ( 1 * environment_region1+lambda_0_electrostatics_old * alchemical_region_01 ) - ( 1 * environment_region1+lambda_0_electrostatics_new * alchemical_region_01 )) * 1.0;\n",
    "r_switch = r_cutoff * 0.99;\n",
    "eps_RF = 78.8;\n",
    "r_cutoff = 1.4;\n",
    "w_scale = 1.0\n",
    "\n",
    "# core1, core2 is never used\n",
    "# in t, r_cutoff - r_switch is 0 -- made the switching ratio for testing 0.99\n",
    "# w -- offset term that prevents singularities (lifts it into the 4th dimension), similar to softcore\n",
    "# w -- is this correct, should we be using environment_region2 and alchemical_region02 anywhere?"
   ]
  },
  {
   "cell_type": "code",
   "execution_count": 11,
   "id": "57a5fbfd",
   "metadata": {},
   "outputs": [
    {
     "data": {
      "text/plain": [
       "'U_sterics; U_sterics = 4 * epsilon * x * (x - 1.0); x = (sigma / r_eff)^6; sigma = (sigma1 + sigma2) / 2; sigma1 = select(1 - both_environment, sigma_old1 * ( 1 * environment_region1+lambda_0_sterics_old * alchemical_region_01 ) + sigma_new1 * ( 1 * environment_region1+lambda_0_sterics_new * alchemical_region_01 ), sigma_old1); sigma2 = select(1 - both_environment, sigma_old2 * ( 1 * environment_region2+lambda_0_sterics_old * alchemical_region_02 ) + sigma_new2 * ( 1 * environment_region2+lambda_0_sterics_new * alchemical_region_02 ), sigma_old2); epsilon = sqrt(epsilon1 * epsilon2); epsilon1 = select(1 - both_environment, epsilon_old1 * ( 1 * environment_region1+lambda_0_sterics_old * alchemical_region_01 ) + epsilon_new1 * ( 1 * environment_region1+lambda_0_sterics_new * alchemical_region_01 ), epsilon_old1) * ( nonscale_lambda_sterics * nonscale_region1 ); epsilon2 = select(1 - both_environment, epsilon_old2 * ( 1 * environment_region2+lambda_0_sterics_old * alchemical_region_02 ) + epsilon_new2 * ( 1 * environment_region2+lambda_0_sterics_new * alchemical_region_02 ), epsilon_old2) * ( nonscale_lambda_sterics * nonscale_region2 ); both_environment = environment_region1 * environment_region2; r_eff = sqrt(r^2 + w^2); w = step(unique_new1 + unique_new2 + unique_old1 + unique_old2 - 0.1) * r_cutoff * (1. - ( 1 * environment_region1+lambda_0_sterics_old * alchemical_region_01 ) - ( 1 * environment_region1+lambda_0_sterics_new * alchemical_region_01 )) * 1.0; r_cutoff = 1.4; w_scale = 1.0;'"
      ]
     },
     "execution_count": 11,
     "metadata": {},
     "output_type": "execute_result"
    }
   ],
   "source": [
    "U_sterics; \n",
    "U_sterics = 4 * epsilon * x * (x - 1.0);\n",
    "x = (sigma / r_eff)^6;\n",
    "sigma = (sigma1 + sigma2) / 2;\n",
    "sigma1 = select(1 - both_environment, sigma_old1 * ( 1 * environment_region1+lambda_0_sterics_old * alchemical_region_01 ) + sigma_new1 * ( 1 * environment_region1+lambda_0_sterics_new * alchemical_region_01 ), sigma_old1);\n",
    "sigma2 = select(1 - both_environment, sigma_old2 * ( 1 * environment_region2+lambda_0_sterics_old * alchemical_region_02 ) + sigma_new2 * ( 1 * environment_region2+lambda_0_sterics_new * alchemical_region_02 ), sigma_old2);\n",
    "epsilon = sqrt(epsilon1 * epsilon2);\n",
    "epsilon1 = select(1 - both_environment, epsilon_old1 * ( 1 * environment_region1+lambda_0_sterics_old * alchemical_region_01 ) + epsilon_new1 * ( 1 * environment_region1+lambda_0_sterics_new * alchemical_region_01 ), epsilon_old1) * ( nonscale_lambda_sterics * nonscale_region1 );\n",
    "epsilon2 = select(1 - both_environment, epsilon_old2 * ( 1 * environment_region2+lambda_0_sterics_old * alchemical_region_02 ) + epsilon_new2 * ( 1 * environment_region2+lambda_0_sterics_new * alchemical_region_02 ), epsilon_old2) * ( nonscale_lambda_sterics * nonscale_region2 );\n",
    "both_environment = environment_region1 * environment_region2;\n",
    "r_eff = sqrt(r^2 + w^2);\n",
    "w = step(unique_new1 + unique_new2 + unique_old1 + unique_old2 - 0.1) * r_cutoff * (1. - ( 1 * environment_region1+lambda_0_sterics_old * alchemical_region_01 ) - ( 1 * environment_region1+lambda_0_sterics_new * alchemical_region_01 )) * 1.0;\n",
    "r_cutoff = 1.4;\n",
    "w_scale = 1.0;\n",
    "\n",
    "# steric switching ratio is not used here"
   ]
  },
  {
   "cell_type": "markdown",
   "id": "deeef215",
   "metadata": {},
   "source": [
    "Note: I left the code to generate the htfs for each test system in the notebook, but if you don't want to re-generate, you can use the pickled htf that I saved (I left the full path in for you). I generated these htfs based after you added support for `lambda_{i}_bonds_old/new` and `scale_lambda_0_bonds`"
   ]
  },
  {
   "cell_type": "code",
   "execution_count": 1,
   "id": "ac051fbf",
   "metadata": {},
   "outputs": [
    {
     "name": "stdout",
     "output_type": "stream",
     "text": [
      "conducting subsequent work with the following platform: CUDA\n"
     ]
    },
    {
     "name": "stderr",
     "output_type": "stream",
     "text": [
      "INFO:rdkit:Enabling RDKit 2021.03.1 jupyter extensions\n"
     ]
    }
   ],
   "source": [
    "from openmmtools.states import SamplerState, ThermodynamicState, CompoundThermodynamicState\n",
    "from simtk import unit, openmm\n",
    "from perses.tests.utils import compute_potential_components\n",
    "from openmmtools.constants import kB\n",
    "from perses.dispersed.utils import configure_platform\n",
    "from perses.annihilation.rest import RESTTopologyFactory\n",
    "from perses.annihilation.lambda_protocol import RESTState\n",
    "import numpy as np\n",
    "from perses.tests.test_topology_proposal import generate_atp, generate_dipeptide_top_pos_sys\n",
    "from openmmtools.testsystems import AlanineDipeptideVacuum, AlanineDipeptideExplicit\n",
    "import itertools\n",
    "from perses.tests.test_topology_proposal import generate_dipeptide_top_pos_sys, generate_atp\n",
    "import pickle\n",
    "import copy\n",
    "\n",
    "#############################################\n",
    "# CONSTANTS\n",
    "#############################################\n",
    "temperature = 300.0 * unit.kelvin\n",
    "kT = kB * temperature\n",
    "beta = 1.0/kT\n",
    "REFERENCE_PLATFORM = openmm.Platform.getPlatformByName(\"CUDA\")\n"
   ]
  },
  {
   "cell_type": "code",
   "execution_count": 2,
   "id": "69ee892f",
   "metadata": {},
   "outputs": [],
   "source": [
    "def test_nb_energies(htf, is_electrostatics=True, is_old=True, is_solvated=False, check_scale=False):\n",
    "    htf_copy = copy.deepcopy(htf)\n",
    "\n",
    "    # Get system and old/new positions. Remove barostat\n",
    "    system = htf._topology_proposal.old_system if is_old else htf._topology_proposal.new_system\n",
    "    positions = htf.old_positions(htf.hybrid_positions) if is_old else htf.new_positions(htf.hybrid_positions)\n",
    "\n",
    "    # Get nb force\n",
    "    nb_force_index = 3\n",
    "    nb_force = system.getForce(nb_force_index) \n",
    "\n",
    "    # Zero the sterics if we're checking electrostatics energies (and vis versa)\n",
    "    if is_electrostatics:\n",
    "        for i in range(nb_force.getNumParticles()):\n",
    "            charge, sigma, epsilon = nb_force.getParticleParameters(i)\n",
    "            nb_force.setParticleParameters(i, charge, sigma, epsilon*0)\n",
    "\n",
    "        for i in range(nb_force.getNumExceptions()):\n",
    "            p1, p2, chargeProd, sigma, epsilon = nb_force.getExceptionParameters(i)\n",
    "            nb_force.setExceptionParameters(i, p1, p2, chargeProd, sigma, epsilon*0)\n",
    "        \n",
    "#         print(\"zeroing elec too\")\n",
    "#         for i in range(nb_force.getNumParticles()):\n",
    "#             charge, sigma, epsilon = nb_force.getParticleParameters(i)\n",
    "# #             if i in list(htf._atom_classes['environment_atoms']) +  list(htf._alchemical_regions_by_type['core_atoms']):\n",
    "#             nb_force.setParticleParameters(i, charge*0, sigma, epsilon)\n",
    "        \n",
    "#         print(\"zeroing the elec exceptions too\")\n",
    "#         for i in range(nb_force.getNumExceptions()):\n",
    "#             p1, p2, chargeProd, sigma, epsilon = nb_force.getExceptionParameters(i)\n",
    "#             if p1 in htf._atom_classes['environment_atoms'] or p2 in htf._atom_classes['environment_atoms'] or p1 in htf._atom_classes['core_atoms'] or  p2 in htf._atom_classes['core_atoms']:\n",
    "#                 print(f\"zeroing {p1} {p2}\")\n",
    "#                 nb_force.setExceptionParameters(i, p1, p2, chargeProd*0, sigma, epsilon)\n",
    "    else:\n",
    "        for i in range(nb_force.getNumParticles()):\n",
    "            charge, sigma, epsilon = nb_force.getParticleParameters(i)\n",
    "            nb_force.setParticleParameters(i, charge*0, sigma, epsilon)\n",
    "\n",
    "        for i in range(nb_force.getNumExceptions()):\n",
    "            p1, p2, chargeProd, sigma, epsilon = nb_force.getExceptionParameters(i)\n",
    "            nb_force.setExceptionParameters(i, p1, p2, chargeProd*0, sigma, epsilon)\n",
    "        \n",
    "#         print(\"zeroing steric exceptions too\")\n",
    "#         for i in range(nb_force.getNumExceptions()):\n",
    "#             p1, p2, chargeProd, sigma, epsilon = nb_force.getExceptionParameters(i)\n",
    "#             nb_force.setExceptionParameters(i, p1, p2, chargeProd, sigma, epsilon*0)\n",
    "        \n",
    "#         print(\"zeroing sterics too\")\n",
    "#         for i in range(nb_force.getNumParticles()):\n",
    "#             charge, sigma, epsilon = nb_force.getParticleParameters(i)\n",
    "#             nb_force.setParticleParameters(i, charge, sigma, epsilon*0)\n",
    "        \n",
    "    # Get system and positions. Remove barostat\n",
    "    hybrid_system = htf.hybrid_system\n",
    "    hybrid_positions = htf.hybrid_positions\n",
    "\n",
    "    # Get custom nb force \n",
    "    if is_electrostatics:\n",
    "        custom_nb_force_index = 3 \n",
    "        custom_nb_exceptions_force_index = 5 \n",
    "    else:\n",
    "        custom_nb_force_index = 4\n",
    "        custom_nb_exceptions_force_index = 6\n",
    "    custom_nb_force = hybrid_system.getForce(custom_nb_force_index)\n",
    "    custom_nb_exceptions_force = hybrid_system.getForce(custom_nb_exceptions_force_index)\n",
    "\n",
    "\n",
    "#     for i in range(custom_nb_force.getNumParticles()):\n",
    "#         params = custom_nb_force.getParticleParameters(i)\n",
    "#         if i in list(htf._atom_classes['environment_atoms'])  +  list(htf._alchemical_regions_by_type['core_atoms']):\n",
    "#             params = list(params)\n",
    "#             params[6] = params[6]*0\n",
    "#             params[7] = params[7]*0\n",
    "#             custom_nb_force.setParticleParameters(i, params)\n",
    "            \n",
    "#     for i in range(custom_nb_exceptions_force.getNumBonds()):\n",
    "#         p1, p2, params = custom_nb_exceptions_force.getBondParameters(i)\n",
    "# #         print(p1, p2, params)\n",
    "#         if p1 in htf._atom_classes['environment_atoms'] or p2 in htf._atom_classes['environment_atoms'] or p1 in htf._atom_classes['core_atoms'] or p2 in htf._atom_classes['core_atoms']:\n",
    "#             print(f\"zeroing in custom {p1} {p2}\")\n",
    "#             params = list(params)\n",
    "#             params[6] = params[6]*0\n",
    "#             params[7] = params[7]*0\n",
    "#             custom_nb_exceptions_force.setBondParameters(i, p1, p2, params)\n",
    "        \n",
    "    # Set global parameters\n",
    "    lambda_old = 1 if is_old else 0\n",
    "    lambda_new = 0 if is_old else 1\n",
    "    if is_electrostatics:\n",
    "        lambda_old_str = 'lambda_0_electrostatics_old'\n",
    "        lambda_new_str = 'lambda_0_electrostatics_new'\n",
    "        lambda_old_exceptions_str = 'lambda_0_electrostatics_exceptions_old'\n",
    "        lambda_new_exceptions_str = 'lambda_0_electrostatics_exceptions_new'\n",
    "    else:\n",
    "        lambda_old_str = 'lambda_0_sterics_old'\n",
    "        lambda_new_str = 'lambda_0_sterics_new'\n",
    "        lambda_old_exceptions_str = 'lambda_0_sterics_exceptions_old'\n",
    "        lambda_new_exceptions_str = 'lambda_0_sterics_exceptions_new'\n",
    "    \n",
    "    for i in range(custom_nb_force.getNumGlobalParameters()):\n",
    "        if custom_nb_force.getGlobalParameterName(i) == lambda_old_str:\n",
    "            custom_nb_force.setGlobalParameterDefaultValue(i, lambda_old)\n",
    "        elif custom_nb_force.getGlobalParameterName(i) == lambda_new_str:\n",
    "            custom_nb_force.setGlobalParameterDefaultValue(i, lambda_new)\n",
    "\n",
    "    for i in range(custom_nb_exceptions_force.getNumGlobalParameters()):\n",
    "        if custom_nb_exceptions_force.getGlobalParameterName(i) == lambda_old_exceptions_str:\n",
    "            custom_nb_exceptions_force.setGlobalParameterDefaultValue(i, lambda_old)\n",
    "        elif custom_nb_exceptions_force.getGlobalParameterName(i) == lambda_new_exceptions_str:\n",
    "            custom_nb_exceptions_force.setGlobalParameterDefaultValue(i, lambda_new)\n",
    "\n",
    "    # Get energy components of standard nb force\n",
    "    platform = configure_platform(REFERENCE_PLATFORM)\n",
    "    thermostate_other = ThermodynamicState(system=system, temperature=temperature)\n",
    "    integrator_other = openmm.VerletIntegrator(1.0*unit.femtosecond)\n",
    "    context_other = thermostate_other.create_context(integrator_other)\n",
    "    context_other.setPositions(positions)\n",
    "    components_other = compute_potential_components(context_other, beta=beta)\n",
    "    print(components_other)\n",
    "    \n",
    "    # Get energy components of custom nb force\n",
    "    thermostate_hybrid = ThermodynamicState(system=hybrid_system, temperature=temperature)\n",
    "    integrator_hybrid = openmm.VerletIntegrator(1.0 * unit.femtosecond)\n",
    "    context_hybrid = thermostate_hybrid.create_context(integrator_hybrid)\n",
    "    context_hybrid.setPositions(hybrid_positions)\n",
    "    components_hybrid = compute_potential_components(context_hybrid, beta=beta)\n",
    "    print(components_hybrid)\n",
    "\n",
    "    assert np.isclose([components_other[nb_force_index][1]], np.sum([energy[1] for i, energy in enumerate(components_hybrid) if i in [custom_nb_force_index, custom_nb_exceptions_force_index] ])), f\"standard nonbonded: {components_other[nb_force_index][1]}, custom nonbonded/bond: {np.sum([energy[1] for i, energy in enumerate(components_hybrid) if i in [custom_nb_force_index, custom_nb_exceptions_force_index] ])}\"\n",
    "\n",
    "    type_str = 'electrostatics' if is_electrostatics else 'sterics'\n",
    "    print(f\"Success! Custom nb force and standard nb force {type_str} energies are equal!\")\n",
    "\n",
    "    if check_scale:\n",
    "        \n",
    "        ## Get custom nb force and hybrid positions\n",
    "        hybrid_system = htf_copy.hybrid_system\n",
    "        custom_force = hybrid_system.getForce(custom_nb_force_index)\n",
    "        hybrid_positions = htf_copy.hybrid_positions\n",
    "        \n",
    "        ## Get energy components of custom torsion force\n",
    "        thermostate_hybrid = ThermodynamicState(system=hybrid_system, temperature=temperature)\n",
    "        integrator_hybrid = openmm.VerletIntegrator(1.0 * unit.femtosecond)\n",
    "        context_hybrid = thermostate_hybrid.create_context(integrator_hybrid)\n",
    "        context_hybrid.setPositions(hybrid_positions)\n",
    "        components_hybrid = compute_potential_components(context_hybrid, beta=beta)\n",
    "        print(components_hybrid)\n",
    "        \n",
    "        # Set `scale_lambda_{i}` to 0.5\n",
    "        for i in range(custom_force.getNumGlobalParameters()):\n",
    "            if custom_force.getGlobalParameterName(i) == 'scale_lambda_0_electrostatics_exceptions':\n",
    "                custom_force.setGlobalParameterDefaultValue(i, 0.5)\n",
    "            elif custom_force.getGlobalParameterName(i) == 'interscale_lambda_0_electrostatics_exceptions':\n",
    "                custom_force.setGlobalParameterDefaultValue(i, 0.5)\n",
    "            elif custom_force.getGlobalParameterName(i) == 'scale_lambda_0_sterics_exceptions':\n",
    "                custom_force.setGlobalParameterDefaultValue(i, 0.5)\n",
    "            elif custom_force.getGlobalParameterName(i) == 'interscale_lambda_0_sterics_exceptions':\n",
    "                custom_force.setGlobalParameterDefaultValue(i, 0.5)\n",
    "            elif custom_force.getGlobalParameterName(i) == 'scale_lambda_0_electrostatics':\n",
    "                custom_force.setGlobalParameterDefaultValue(i, 0.5)\n",
    "            elif custom_force.getGlobalParameterName(i) == 'scale_lambda_0_sterics':\n",
    "                custom_force.setGlobalParameterDefaultValue(i, 0.5)\n",
    "            \n",
    "        ## Get energy components of custom torsion force iwth scaling\n",
    "        thermostate_hybrid = ThermodynamicState(system=hybrid_system, temperature=temperature)\n",
    "        integrator_hybrid = openmm.VerletIntegrator(1.0 * unit.femtosecond)\n",
    "        context_hybrid = thermostate_hybrid.create_context(integrator_hybrid)\n",
    "        context_hybrid.setPositions(hybrid_positions)\n",
    "        components_hybrid_scaled = compute_potential_components(context_hybrid, beta=beta)\n",
    "        print(components_hybrid_scaled)\n",
    "        \n",
    "        assert not np.isclose([components_hybrid[custom_nb_force_index][1]], [components_hybrid_scaled[custom_nb_force_index][1]])\n",
    "        \n",
    "        print(f\"Success! Scaling the custom nb {type_str} force changes the energy\")\n",
    "        \n",
    "    return context_hybrid"
   ]
  },
  {
   "cell_type": "markdown",
   "id": "434a0b31",
   "metadata": {},
   "source": [
    "# Alanine dipeptide in vacuum"
   ]
  },
  {
   "cell_type": "code",
   "execution_count": 29,
   "id": "723a6506",
   "metadata": {
    "scrolled": true
   },
   "outputs": [
    {
     "name": "stderr",
     "output_type": "stream",
     "text": [
      "DEBUG:openmmforcefields.system_generators:Trying GAFFTemplateGenerator to load gaff-2.11\n",
      "INFO:proposal_generator:\tConducting polymer point mutation proposal...\n",
      "INFO:proposal_generator:Using matching_criterion to chose best atom map\n",
      "INFO:proposal_generator:Scaffold has symmetry of 0\n",
      "WARNING:proposal_generator:Two molecules are not similar to have a common scaffold\n",
      "WARNING:proposal_generator:Proceeding with direct mapping of molecules, but please check atom mapping and the geometry of the ligands.\n",
      "INFO:proposal_generator:len [{9: 7}, {10: 7}, {11: 7}, {12: 7}, {13: 7}, {9: 8}, {10: 8}, {11: 8}, {12: 8}, {13: 8}, {9: 9}, {10: 9}, {11: 9}, {12: 9}, {13: 9}]\n",
      "INFO:proposal_generator:{9: 7}\n",
      "INFO:proposal_generator:{10: 7}\n",
      "INFO:proposal_generator:{11: 7}\n",
      "INFO:proposal_generator:{12: 7}\n",
      "INFO:proposal_generator:{13: 7}\n",
      "INFO:proposal_generator:{9: 8}\n",
      "INFO:proposal_generator:{10: 8}\n",
      "INFO:proposal_generator:{11: 8}\n",
      "INFO:proposal_generator:{12: 8}\n",
      "INFO:proposal_generator:{13: 8}\n",
      "INFO:proposal_generator:{9: 9}\n",
      "INFO:proposal_generator:{10: 9}\n",
      "INFO:proposal_generator:{11: 9}\n",
      "INFO:proposal_generator:{12: 9}\n",
      "INFO:proposal_generator:{13: 9}\n",
      "INFO:proposal_generator:Returning map that best satisfies matching_criterion\n",
      "INFO:proposal_generator:Finding best map using matching_criterion name\n",
      "INFO:proposal_generator:{9: 7}\n",
      "INFO:geometry:propose: performing forward proposal\n",
      "INFO:geometry:propose: unique new atoms detected; proceeding to _logp_propose...\n",
      "INFO:geometry:Conducting forward proposal...\n",
      "INFO:geometry:Computing proposal order with NetworkX...\n",
      "INFO:geometry:number of atoms to be placed: 8\n",
      "INFO:geometry:Atom index proposal order is [10, 18, 14, 19, 16, 13, 15, 17]\n",
      "INFO:geometry:omitted_bonds: []\n",
      "INFO:geometry:direction of proposal is forward; creating atoms_with_positions and new positions from old system/topology...\n",
      "INFO:geometry:creating growth system...\n",
      "INFO:geometry:\tcreating bond force...\n",
      "INFO:geometry:\tthere are 11 bonds in reference force.\n",
      "INFO:geometry:\tcreating angle force...\n",
      "INFO:geometry:\tthere are 43 angles in reference force.\n",
      "INFO:geometry:\tcreating torsion force...\n",
      "INFO:geometry:\tcreating extra torsions force...\n",
      "INFO:geometry:\tthere are 72 torsions in reference force.\n",
      "INFO:geometry:\tcreating nonbonded force...\n",
      "INFO:geometry:\t\tgrabbing reference nonbonded method, cutoff, switching function, switching distance...\n",
      "INFO:geometry:\t\tcreating nonbonded exception force (i.e. custom bond for 1,4s)...\n",
      "INFO:geometry:\t\tlooping through exceptions calculating growth indices, and adding appropriate interactions to custom bond force.\n",
      "INFO:geometry:\t\tthere are 121 in the reference Nonbonded force\n",
      "WARNING:geometry:\t\t\t\t\tchiral atom <Atom 8 (CA) of chain 0 residue 1 (THR)> with neighbors [<Atom 9 (HA) of chain 0 residue 1 (THR)>, <Atom 10 (CB) of chain 0 residue 1 (THR)>, <Atom 11 (C) of chain 0 residue 1 (THR)>, <Atom 6 (N) of chain 0 residue 1 (THR)>] is surrounded by 3 core neighbors.  omitting chirality bias torsion\n",
      "INFO:geometry:Neglected angle terms : []\n",
      "INFO:geometry:omitted_growth_terms: {'bonds': [], 'angles': [], 'torsions': [], '1,4s': []}\n",
      "INFO:geometry:extra torsions: {0: (7, 6, 8, 10, [1, Quantity(value=0.9900002084555819, unit=radian), Quantity(value=1200.0, unit=kilocalorie/mole), 1]), 1: (19, 18, 10, 8, [1, Quantity(value=-0.07858019216845058, unit=radian), Quantity(value=1200.0, unit=kilocalorie/mole), 4]), 2: (19, 18, 10, 14, [1, Quantity(value=2.118586571250296, unit=radian), Quantity(value=1200.0, unit=kilocalorie/mole), 4]), 3: (19, 18, 10, 13, [1, Quantity(value=-2.149781203448759, unit=radian), Quantity(value=1200.0, unit=kilocalorie/mole), 6]), 4: (8, 10, 14, 17, [1, Quantity(value=-2.1249532223845904, unit=radian), Quantity(value=1200.0, unit=kilocalorie/mole), 8]), 5: (8, 10, 14, 16, [1, Quantity(value=2.0543043017157916, unit=radian), Quantity(value=1200.0, unit=kilocalorie/mole), 5]), 6: (8, 10, 14, 15, [1, Quantity(value=-0.02223392579985184, unit=radian), Quantity(value=1200.0, unit=kilocalorie/mole), 7]), 7: (18, 10, 14, 17, [1, Quantity(value=2.0255587336734213, unit=radian), Quantity(value=1200.0, unit=kilocalorie/mole), 8]), 8: (18, 10, 14, 16, [1, Quantity(value=-0.07836904940578293, unit=radian), Quantity(value=1200.0, unit=kilocalorie/mole), 5]), 9: (18, 10, 14, 15, [1, Quantity(value=-2.154907276921426, unit=radian), Quantity(value=1200.0, unit=kilocalorie/mole), 7]), 10: (13, 10, 14, 17, [1, Quantity(value=0.007583009583349565, unit=radian), Quantity(value=1200.0, unit=kilocalorie/mole), 8]), 11: (13, 10, 14, 16, [1, Quantity(value=-2.096344773495849, unit=radian), Quantity(value=1200.0, unit=kilocalorie/mole), 6]), 12: (13, 10, 14, 15, [1, Quantity(value=2.1103023061680943, unit=radian), Quantity(value=1200.0, unit=kilocalorie/mole), 7]), 13: (18, 10, 8, 14, [1, Quantity(value=-1.0655064807976995, unit=radian), Quantity(value=1200.0, unit=kilocalorie/mole), 3])}\n",
      "INFO:geometry:neglected angle terms include []\n",
      "INFO:geometry:log probability choice of torsions and atom order: -13.371595639480912\n",
      "INFO:geometry:creating platform, integrators, and contexts; setting growth parameter\n"
     ]
    },
    {
     "name": "stdout",
     "output_type": "stream",
     "text": [
      "making topology proposal\n",
      "generating geometry engine\n",
      "making geometry proposal from ALA to THR\n",
      "conducting subsequent work with the following platform: CUDA\n"
     ]
    },
    {
     "name": "stderr",
     "output_type": "stream",
     "text": [
      "INFO:geometry:setting atoms_with_positions context new positions\n"
     ]
    },
    {
     "name": "stdout",
     "output_type": "stream",
     "text": [
      "conducting subsequent work with the following platform: CUDA\n"
     ]
    },
    {
     "name": "stderr",
     "output_type": "stream",
     "text": [
      "INFO:geometry:There are 8 new atoms\n",
      "INFO:geometry:\treduced angle potential = 0.7099781933273569.\n",
      "INFO:geometry:\treduced angle potential = 0.009251960418866147.\n",
      "INFO:geometry:\treduced angle potential = 0.0015548695789022475.\n",
      "INFO:geometry:\treduced angle potential = 0.09331614762646692.\n",
      "INFO:geometry:\treduced angle potential = 0.002544618530922158.\n",
      "INFO:geometry:\treduced angle potential = 0.009128386984563263.\n",
      "INFO:geometry:\treduced angle potential = 0.12900683791035714.\n",
      "INFO:geometry:\treduced angle potential = 0.6031006409388495.\n",
      "INFO:geometry:\tbeginning construction of no_nonbonded final system...\n",
      "INFO:geometry:\tinitial no-nonbonded final system forces ['HarmonicBondForce', 'HarmonicAngleForce', 'PeriodicTorsionForce', 'NonbondedForce']\n",
      "INFO:geometry:\tfinal no-nonbonded final system forces dict_keys(['HarmonicBondForce', 'HarmonicAngleForce', 'PeriodicTorsionForce', 'NonbondedForce'])\n",
      "INFO:geometry:\tthere are 11 bond forces in the no-nonbonded final system\n",
      "INFO:geometry:\tthere are 43 angle forces in the no-nonbonded final system\n",
      "INFO:geometry:\tthere are 72 torsion forces in the no-nonbonded final system\n",
      "INFO:geometry:forward final system defined with 0 neglected angles.\n"
     ]
    },
    {
     "name": "stdout",
     "output_type": "stream",
     "text": [
      "conducting subsequent work with the following platform: CUDA\n",
      "conducting subsequent work with the following platform: CUDA\n"
     ]
    },
    {
     "name": "stderr",
     "output_type": "stream",
     "text": [
      "INFO:geometry:total reduced potential before atom placement: 9.11648114171204\n"
     ]
    },
    {
     "name": "stdout",
     "output_type": "stream",
     "text": [
      "conducting subsequent work with the following platform: CUDA\n",
      "conducting subsequent work with the following platform: CUDA\n",
      "conducting subsequent work with the following platform: CUDA\n"
     ]
    },
    {
     "name": "stderr",
     "output_type": "stream",
     "text": [
      "INFO:geometry:total reduced energy added from growth system: -73.36742713549957\n",
      "INFO:geometry:final reduced energy -64.25094800953899\n",
      "INFO:geometry:sum of energies: -64.25094599378752\n",
      "INFO:geometry:magnitude of difference in the energies: 2.015751462636217e-06\n",
      "INFO:geometry:Final logp_proposal: 65.25542550333799\n"
     ]
    },
    {
     "name": "stdout",
     "output_type": "stream",
     "text": [
      "added energy components: [('CustomBondForce', 1.1385685249568356), ('CustomAngleForce', 6.137615098964772), ('CustomTorsionForce', 16.93843745815093), ('CustomBondForce', -97.58204821757208)]\n"
     ]
    },
    {
     "name": "stderr",
     "output_type": "stream",
     "text": [
      "INFO:geometry:logp_reverse: performing reverse proposal\n",
      "INFO:geometry:logp_reverse: unique new atoms detected; proceeding to _logp_propose...\n",
      "INFO:geometry:Conducting forward proposal...\n",
      "INFO:geometry:Computing proposal order with NetworkX...\n",
      "INFO:geometry:number of atoms to be placed: 4\n",
      "INFO:geometry:Atom index proposal order is [10, 11, 13, 12]\n",
      "INFO:geometry:omitted_bonds: []\n",
      "INFO:geometry:direction of proposal is reverse; creating atoms_with_positions from old system/topology\n",
      "INFO:geometry:creating growth system...\n",
      "INFO:geometry:\tcreating bond force...\n",
      "INFO:geometry:\tthere are 9 bonds in reference force.\n",
      "INFO:geometry:\tcreating angle force...\n",
      "INFO:geometry:\tthere are 36 angles in reference force.\n",
      "INFO:geometry:\tcreating torsion force...\n",
      "INFO:geometry:\tcreating extra torsions force...\n",
      "INFO:geometry:\tthere are 42 torsions in reference force.\n",
      "INFO:geometry:\tcreating nonbonded force...\n",
      "INFO:geometry:\t\tgrabbing reference nonbonded method, cutoff, switching function, switching distance...\n",
      "INFO:geometry:\t\tcreating nonbonded exception force (i.e. custom bond for 1,4s)...\n",
      "INFO:geometry:\t\tlooping through exceptions calculating growth indices, and adding appropriate interactions to custom bond force.\n",
      "INFO:geometry:\t\tthere are 98 in the reference Nonbonded force\n",
      "WARNING:geometry:\t\t\t\t\tchiral atom <Atom 8 (CA) of chain 0 residue 1 (ALA)> with neighbors [<Atom 9 (HA) of chain 0 residue 1 (ALA)>, <Atom 10 (CB) of chain 0 residue 1 (ALA)>, <Atom 14 (C) of chain 0 residue 1 (ALA)>, <Atom 6 (N) of chain 0 residue 1 (ALA)>] is surrounded by 3 core neighbors.  omitting chirality bias torsion\n",
      "INFO:geometry:Neglected angle terms : []\n",
      "INFO:geometry:omitted_growth_terms: {'bonds': [], 'angles': [], 'torsions': [], '1,4s': []}\n",
      "INFO:geometry:extra torsions: {0: (7, 6, 8, 10, [1, Quantity(value=0.9799661941737812, unit=radian), Quantity(value=1200.0, unit=kilocalorie/mole), 1]), 1: (6, 8, 10, 11, [1, Quantity(value=2.105358864604291, unit=radian), Quantity(value=1200.0, unit=kilocalorie/mole), 2]), 2: (6, 8, 10, 12, [1, Quantity(value=-2.0823006129211796, unit=radian), Quantity(value=1200.0, unit=kilocalorie/mole), 4]), 3: (6, 8, 10, 13, [1, Quantity(value=0.018582237407944735, unit=radian), Quantity(value=1200.0, unit=kilocalorie/mole), 3]), 4: (14, 8, 10, 11, [1, Quantity(value=-0.036945135932107576, unit=radian), Quantity(value=1200.0, unit=kilocalorie/mole), 2]), 5: (14, 8, 10, 12, [1, Quantity(value=2.0585806937220097, unit=radian), Quantity(value=1200.0, unit=kilocalorie/mole), 4]), 6: (14, 8, 10, 13, [1, Quantity(value=-2.1237217631284597, unit=radian), Quantity(value=1200.0, unit=kilocalorie/mole), 3]), 7: (9, 8, 10, 11, [1, Quantity(value=-2.119603470065817, unit=radian), Quantity(value=1200.0, unit=kilocalorie/mole), 2]), 8: (9, 8, 10, 12, [1, Quantity(value=-0.024077640411697132, unit=radian), Quantity(value=1200.0, unit=kilocalorie/mole), 4]), 9: (9, 8, 10, 13, [1, Quantity(value=2.0768052099174152, unit=radian), Quantity(value=1200.0, unit=kilocalorie/mole), 3])}\n",
      "INFO:geometry:neglected angle terms include []\n",
      "INFO:geometry:log probability choice of torsions and atom order: -5.78074351579233\n",
      "INFO:geometry:creating platform, integrators, and contexts; setting growth parameter\n"
     ]
    },
    {
     "name": "stdout",
     "output_type": "stream",
     "text": [
      "conducting subsequent work with the following platform: CUDA\n"
     ]
    },
    {
     "name": "stderr",
     "output_type": "stream",
     "text": [
      "INFO:geometry:setting atoms_with_positions context old positions\n"
     ]
    },
    {
     "name": "stdout",
     "output_type": "stream",
     "text": [
      "conducting subsequent work with the following platform: CUDA\n"
     ]
    },
    {
     "name": "stderr",
     "output_type": "stream",
     "text": [
      "INFO:geometry:There are 4 new atoms\n",
      "INFO:geometry:\treduced angle potential = 0.3517324280898812.\n",
      "INFO:geometry:\treduced angle potential = 1.2915588460963948e-10.\n",
      "INFO:geometry:\treduced angle potential = 7.39096069988752e-11.\n",
      "INFO:geometry:\treduced angle potential = 3.205832446488702e-13.\n",
      "INFO:geometry:\tbeginning construction of no_nonbonded final system...\n",
      "INFO:geometry:\tinitial no-nonbonded final system forces ['HarmonicBondForce', 'HarmonicAngleForce', 'PeriodicTorsionForce', 'NonbondedForce']\n",
      "INFO:geometry:\tfinal no-nonbonded final system forces dict_keys(['HarmonicBondForce', 'HarmonicAngleForce', 'PeriodicTorsionForce', 'NonbondedForce'])\n",
      "INFO:geometry:\tthere are 9 bond forces in the no-nonbonded final system\n",
      "INFO:geometry:\tthere are 36 angle forces in the no-nonbonded final system\n",
      "INFO:geometry:\tthere are 42 torsion forces in the no-nonbonded final system\n",
      "INFO:geometry:reverse final system defined with 0 neglected angles.\n"
     ]
    },
    {
     "name": "stdout",
     "output_type": "stream",
     "text": [
      "conducting subsequent work with the following platform: CUDA\n",
      "conducting subsequent work with the following platform: CUDA\n"
     ]
    },
    {
     "name": "stderr",
     "output_type": "stream",
     "text": [
      "INFO:geometry:total reduced potential before atom placement: 9.11648114171204\n"
     ]
    },
    {
     "name": "stdout",
     "output_type": "stream",
     "text": [
      "conducting subsequent work with the following platform: CUDA\n",
      "conducting subsequent work with the following platform: CUDA\n",
      "conducting subsequent work with the following platform: CUDA\n"
     ]
    },
    {
     "name": "stderr",
     "output_type": "stream",
     "text": [
      "INFO:geometry:total reduced energy added from growth system: 20.672986672125617\n",
      "INFO:geometry:final reduced energy 29.78946596595154\n",
      "INFO:geometry:sum of energies: 29.789467813837657\n",
      "INFO:geometry:magnitude of difference in the energies: 1.8478861179005435e-06\n",
      "INFO:geometry:Final logp_proposal: -27051.04994557314\n"
     ]
    },
    {
     "name": "stdout",
     "output_type": "stream",
     "text": [
      "added energy components: [('CustomBondForce', 0.000520203927326505), ('CustomAngleForce', 0.4511197756248138), ('CustomTorsionForce', 7.250463328533253), ('CustomBondForce', 12.970883364040223)]\n"
     ]
    },
    {
     "name": "stderr",
     "output_type": "stream",
     "text": [
      "INFO:relative:*** Generating RxnHybridTopologyFactory ***\n",
      "INFO:relative:Beginning nonbonded method, total particle, barostat, and exceptions retrieval...\n",
      "INFO:relative:Old system forces: dict_keys(['HarmonicBondForce', 'HarmonicAngleForce', 'PeriodicTorsionForce', 'NonbondedForce'])\n",
      "INFO:relative:New system forces: dict_keys(['HarmonicBondForce', 'HarmonicAngleForce', 'PeriodicTorsionForce', 'NonbondedForce'])\n",
      "INFO:relative:No unknown forces.\n",
      "INFO:relative:Nonbonded method to be used (i.e. from old system): 0\n",
      "INFO:relative:Adding and mapping old atoms to hybrid system...\n",
      "INFO:relative:Adding and mapping new atoms to hybrid system...\n",
      "INFO:relative:scale_templates: [['nonscale_lambda'], ['nonscale_region']]\n",
      "INFO:relative:particle (nonbonded) scale_templates: [['nonscale_lambda'], ['nonscale_region1'], ['nonscale_region2']]\n",
      "INFO:relative:No MonteCarloBarostat added.\n",
      "INFO:relative:getDefaultPeriodicBoxVectors added to hybrid: [Quantity(value=Vec3(x=2.0, y=0.0, z=0.0), unit=nanometer), Quantity(value=Vec3(x=0.0, y=2.0, z=0.0), unit=nanometer), Quantity(value=Vec3(x=0.0, y=0.0, z=2.0), unit=nanometer)]\n",
      "INFO:relative:Determined atom classes.\n",
      "INFO:relative:Generating old system exceptions dict...\n",
      "INFO:relative:Generating new system exceptions dict...\n",
      "INFO:relative:Handling constraints...\n",
      "INFO:relative:Handling virtual sites...\n",
      "INFO:relative:\t_handle_virtual_sites: numVirtualSites: 0\n"
     ]
    }
   ],
   "source": [
    "# Create a htf\n",
    "atp, system_generator = generate_atp(phase = 'vacuum')\n",
    "atp.system.getForce(3).setUseDispersionCorrection(False)\n",
    "htf = generate_dipeptide_top_pos_sys(atp.topology, \n",
    "                               'THR', \n",
    "                               atp.system, \n",
    "                               atp.positions, \n",
    "                               system_generator,\n",
    "                                rxn_field=True,\n",
    "                               flatten_torsions=True,\n",
    "                               flatten_exceptions=True,\n",
    "                               validate_endstate_energy=False,\n",
    "                                conduct_htf_prop=True)"
   ]
  },
  {
   "cell_type": "code",
   "execution_count": 30,
   "id": "d3b7384a",
   "metadata": {},
   "outputs": [],
   "source": [
    "# Save htf\n",
    "with open(\"atp_vacuum.pickle\", \"wb\") as f:\n",
    "    pickle.dump(htf, f)\n",
    "    "
   ]
  },
  {
   "cell_type": "markdown",
   "id": "503b6f4b",
   "metadata": {},
   "source": [
    "### Test one alchemical region, no scale regions"
   ]
  },
  {
   "cell_type": "markdown",
   "id": "11e9c95a",
   "metadata": {},
   "source": [
    "#### Old system HarmonicBondForce vs hybrid system CustomBondForce"
   ]
  },
  {
   "cell_type": "code",
   "execution_count": 31,
   "id": "19b06c88",
   "metadata": {},
   "outputs": [],
   "source": [
    "# Load htf\n",
    "with open(\"/home/zhangi/choderalab/perses_benchmark/perses_protein_mutations/code/26_rxn_field/atp_vacuum.pickle\", \"rb\") as f:\n",
    "    htf = pickle.load(f)"
   ]
  },
  {
   "cell_type": "code",
   "execution_count": 32,
   "id": "66046bec",
   "metadata": {},
   "outputs": [
    {
     "data": {
      "text/plain": [
       "False"
      ]
     },
     "execution_count": 32,
     "metadata": {},
     "output_type": "execute_result"
    }
   ],
   "source": [
    "htf._topology_proposal.old_system.getForce(3).getUseDispersionCorrection()"
   ]
  },
  {
   "cell_type": "code",
   "execution_count": 33,
   "id": "bc37294f",
   "metadata": {},
   "outputs": [
    {
     "data": {
      "text/plain": [
       "False"
      ]
     },
     "execution_count": 33,
     "metadata": {},
     "output_type": "execute_result"
    }
   ],
   "source": [
    "htf.hybrid_system.getForce(3).getUseLongRangeCorrection()"
   ]
  },
  {
   "cell_type": "code",
   "execution_count": 34,
   "id": "18deeb39",
   "metadata": {
    "scrolled": true
   },
   "outputs": [
    {
     "name": "stdout",
     "output_type": "stream",
     "text": [
      "Warning: Returning CPU platform instead of requested platform <simtk.openmm.openmm.Platform; proxy of <Swig Object of type 'OpenMM::Platform *' at 0x2b12a14a9fc0> >\n",
      "conducting subsequent work with the following platform: CPU\n",
      "conducting subsequent work with the following platform: CUDA\n",
      "[('HarmonicBondForce', 0.03478365356521381), ('HarmonicAngleForce', 0.6112775462128995), ('PeriodicTorsionForce', 16.285398289983064), ('NonbondedForce', -52.66819022395389), ('AndersenThermostat', 0.0)]\n",
      "conducting subsequent work with the following platform: CUDA\n",
      "[('CustomBondForce', 1.1809935780184042), ('CustomAngleForce', 6.79008469282173), ('CustomTorsionForce', 16.285403285921724), ('CustomNonbondedForce', -135.30622121947044), ('CustomNonbondedForce', 4.748478007480066), ('CustomBondForce', 82.63803814501956), ('CustomBondForce', 8.46978053705605), ('AndersenThermostat', 0.0)]\n",
      "Success! Custom nb force and standard nb force electrostatics energies are equal!\n"
     ]
    }
   ],
   "source": [
    "test_nb_energies(htf)\n"
   ]
  },
  {
   "cell_type": "code",
   "execution_count": 35,
   "id": "e59b345d",
   "metadata": {},
   "outputs": [],
   "source": [
    "# Load htf\n",
    "with open(\"/home/zhangi/choderalab/perses_benchmark/perses_protein_mutations/code/26_rxn_field/atp_vacuum.pickle\", \"rb\") as f:\n",
    "    htf = pickle.load(f)"
   ]
  },
  {
   "cell_type": "code",
   "execution_count": 36,
   "id": "57a4f133",
   "metadata": {},
   "outputs": [
    {
     "name": "stdout",
     "output_type": "stream",
     "text": [
      "Warning: Returning CPU platform instead of requested platform <simtk.openmm.openmm.Platform; proxy of <Swig Object of type 'OpenMM::Platform *' at 0x2b12a14a9fc0> >\n",
      "conducting subsequent work with the following platform: CPU\n",
      "conducting subsequent work with the following platform: CUDA\n",
      "[('HarmonicBondForce', 0.03478365356521381), ('HarmonicAngleForce', 0.6112775462128995), ('PeriodicTorsionForce', 16.285398289983064), ('NonbondedForce', 13.218262478353564), ('AndersenThermostat', 0.0)]\n",
      "conducting subsequent work with the following platform: CUDA\n",
      "[('CustomBondForce', 1.1809935780184042), ('CustomAngleForce', 6.79008469282173), ('CustomTorsionForce', 16.285403285921724), ('CustomNonbondedForce', -135.30622121947044), ('CustomNonbondedForce', 4.748478007480066), ('CustomBondForce', 82.63803814501956), ('CustomBondForce', 8.46978053705605), ('AndersenThermostat', 0.0)]\n",
      "Success! Custom nb force and standard nb force sterics energies are equal!\n"
     ]
    }
   ],
   "source": [
    "test_nb_energies(htf, is_electrostatics=False)"
   ]
  },
  {
   "cell_type": "markdown",
   "id": "e336aed9",
   "metadata": {},
   "source": [
    "#### New system HarmonicBondForce vs hybrid system CustomBondForce"
   ]
  },
  {
   "cell_type": "code",
   "execution_count": 37,
   "id": "49875cd6",
   "metadata": {},
   "outputs": [],
   "source": [
    "# Load htf\n",
    "with open(\"/home/zhangi/choderalab/perses_benchmark/perses_protein_mutations/code/26_rxn_field/atp_vacuum.pickle\", \"rb\") as f:\n",
    "    htf = pickle.load(f)"
   ]
  },
  {
   "cell_type": "code",
   "execution_count": 38,
   "id": "039fb22d",
   "metadata": {},
   "outputs": [
    {
     "name": "stdout",
     "output_type": "stream",
     "text": [
      "Warning: Returning CPU platform instead of requested platform <simtk.openmm.openmm.Platform; proxy of <Swig Object of type 'OpenMM::Platform *' at 0x2b12a14a9fc0> >\n",
      "conducting subsequent work with the following platform: CPU\n",
      "conducting subsequent work with the following platform: CUDA\n",
      "[('HarmonicBondForce', 1.180469882789552), ('HarmonicAngleForce', 6.335937267696079), ('PeriodicTorsionForce', 26.03839300176716), ('NonbondedForce', -117.63771851625125), ('AndersenThermostat', 0.0)]\n",
      "conducting subsequent work with the following platform: CUDA\n",
      "[('CustomBondForce', 1.1809935780184042), ('CustomAngleForce', 6.79008469282173), ('CustomTorsionForce', 16.285403285921724), ('CustomNonbondedForce', -89.483737175813), ('CustomNonbondedForce', 4.748478007480066), ('CustomBondForce', -28.153986933079743), ('CustomBondForce', 8.46978053705605), ('AndersenThermostat', 0.0)]\n",
      "Success! Custom nb force and standard nb force electrostatics energies are equal!\n"
     ]
    }
   ],
   "source": [
    "test_nb_energies(htf, is_old=False)"
   ]
  },
  {
   "cell_type": "code",
   "execution_count": 39,
   "id": "1b3109da",
   "metadata": {},
   "outputs": [],
   "source": [
    "# Load htf\n",
    "with open(\"/home/zhangi/choderalab/perses_benchmark/perses_protein_mutations/code/26_rxn_field/atp_vacuum.pickle\", \"rb\") as f:\n",
    "    htf = pickle.load(f)"
   ]
  },
  {
   "cell_type": "code",
   "execution_count": 40,
   "id": "7cddb184",
   "metadata": {},
   "outputs": [
    {
     "name": "stdout",
     "output_type": "stream",
     "text": [
      "Warning: Returning CPU platform instead of requested platform <simtk.openmm.openmm.Platform; proxy of <Swig Object of type 'OpenMM::Platform *' at 0x2b12a14a9fc0> >\n",
      "conducting subsequent work with the following platform: CPU\n",
      "conducting subsequent work with the following platform: CUDA\n",
      "[('HarmonicBondForce', 1.180469882789552), ('HarmonicAngleForce', 6.335937267696079), ('PeriodicTorsionForce', 26.03839300176716), ('NonbondedForce', 86.18239438638857), ('AndersenThermostat', 0.0)]\n",
      "conducting subsequent work with the following platform: CUDA\n",
      "[('CustomBondForce', 1.1809935780184042), ('CustomAngleForce', 6.79008469282173), ('CustomTorsionForce', 16.285403285921724), ('CustomNonbondedForce', -135.30622121947044), ('CustomNonbondedForce', 70.47845182209416), ('CustomBondForce', 82.63803814501956), ('CustomBondForce', 15.70392700440809), ('AndersenThermostat', 0.0)]\n",
      "Success! Custom nb force and standard nb force sterics energies are equal!\n"
     ]
    }
   ],
   "source": [
    "test_nb_energies(htf, is_electrostatics=False, is_old=False)"
   ]
  },
  {
   "cell_type": "markdown",
   "id": "16251d48",
   "metadata": {},
   "source": [
    "### Test one alchemical region, one scale region"
   ]
  },
  {
   "cell_type": "code",
   "execution_count": 14,
   "id": "12fe9b6c",
   "metadata": {
    "scrolled": true
   },
   "outputs": [
    {
     "name": "stderr",
     "output_type": "stream",
     "text": [
      "DEBUG:openmmforcefields.system_generators:Trying GAFFTemplateGenerator to load gaff-2.11\n",
      "INFO:proposal_generator:\tConducting polymer point mutation proposal...\n",
      "INFO:proposal_generator:Using matching_criterion to chose best atom map\n",
      "INFO:proposal_generator:Scaffold has symmetry of 0\n",
      "WARNING:proposal_generator:Two molecules are not similar to have a common scaffold\n",
      "WARNING:proposal_generator:Proceeding with direct mapping of molecules, but please check atom mapping and the geometry of the ligands.\n",
      "INFO:proposal_generator:len [{9: 7}, {10: 7}, {11: 7}, {12: 7}, {13: 7}, {9: 8}, {10: 8}, {11: 8}, {12: 8}, {13: 8}, {9: 9}, {10: 9}, {11: 9}, {12: 9}, {13: 9}]\n",
      "INFO:proposal_generator:{9: 7}\n",
      "INFO:proposal_generator:{10: 7}\n",
      "INFO:proposal_generator:{11: 7}\n",
      "INFO:proposal_generator:{12: 7}\n",
      "INFO:proposal_generator:{13: 7}\n",
      "INFO:proposal_generator:{9: 8}\n",
      "INFO:proposal_generator:{10: 8}\n",
      "INFO:proposal_generator:{11: 8}\n",
      "INFO:proposal_generator:{12: 8}\n",
      "INFO:proposal_generator:{13: 8}\n",
      "INFO:proposal_generator:{9: 9}\n",
      "INFO:proposal_generator:{10: 9}\n",
      "INFO:proposal_generator:{11: 9}\n",
      "INFO:proposal_generator:{12: 9}\n",
      "INFO:proposal_generator:{13: 9}\n",
      "INFO:proposal_generator:Returning map that best satisfies matching_criterion\n",
      "INFO:proposal_generator:Finding best map using matching_criterion name\n",
      "INFO:proposal_generator:{9: 7}\n",
      "INFO:geometry:propose: performing forward proposal\n",
      "INFO:geometry:propose: unique new atoms detected; proceeding to _logp_propose...\n",
      "INFO:geometry:Conducting forward proposal...\n",
      "INFO:geometry:Computing proposal order with NetworkX...\n",
      "INFO:geometry:number of atoms to be placed: 8\n",
      "INFO:geometry:Atom index proposal order is [10, 14, 18, 15, 16, 13, 17, 19]\n",
      "INFO:geometry:omitted_bonds: []\n",
      "INFO:geometry:direction of proposal is forward; creating atoms_with_positions and new positions from old system/topology...\n",
      "INFO:geometry:creating growth system...\n",
      "INFO:geometry:\tcreating bond force...\n",
      "INFO:geometry:\tthere are 11 bonds in reference force.\n",
      "INFO:geometry:\tcreating angle force...\n",
      "INFO:geometry:\tthere are 43 angles in reference force.\n",
      "INFO:geometry:\tcreating torsion force...\n",
      "INFO:geometry:\tcreating extra torsions force...\n",
      "INFO:geometry:\tthere are 72 torsions in reference force.\n",
      "INFO:geometry:\tcreating nonbonded force...\n",
      "INFO:geometry:\t\tgrabbing reference nonbonded method, cutoff, switching function, switching distance...\n",
      "INFO:geometry:\t\tcreating nonbonded exception force (i.e. custom bond for 1,4s)...\n",
      "INFO:geometry:\t\tlooping through exceptions calculating growth indices, and adding appropriate interactions to custom bond force.\n",
      "INFO:geometry:\t\tthere are 121 in the reference Nonbonded force\n",
      "WARNING:geometry:\t\t\t\t\tchiral atom <Atom 8 (CA) of chain 0 residue 1 (THR)> with neighbors [<Atom 9 (HA) of chain 0 residue 1 (THR)>, <Atom 10 (CB) of chain 0 residue 1 (THR)>, <Atom 11 (C) of chain 0 residue 1 (THR)>, <Atom 6 (N) of chain 0 residue 1 (THR)>] is surrounded by 3 core neighbors.  omitting chirality bias torsion\n",
      "INFO:geometry:Neglected angle terms : []\n",
      "INFO:geometry:omitted_growth_terms: {'bonds': [], 'angles': [], 'torsions': [], '1,4s': []}\n",
      "INFO:geometry:extra torsions: {0: (7, 6, 8, 10, [1, Quantity(value=0.9900002084555819, unit=radian), Quantity(value=1200.0, unit=kilocalorie/mole), 1]), 1: (19, 18, 10, 8, [1, Quantity(value=-0.07858019216845058, unit=radian), Quantity(value=1200.0, unit=kilocalorie/mole), 8]), 2: (19, 18, 10, 14, [1, Quantity(value=2.118586571250296, unit=radian), Quantity(value=1200.0, unit=kilocalorie/mole), 8]), 3: (19, 18, 10, 13, [1, Quantity(value=-2.149781203448759, unit=radian), Quantity(value=1200.0, unit=kilocalorie/mole), 8]), 4: (8, 10, 14, 17, [1, Quantity(value=-2.1249532223845904, unit=radian), Quantity(value=1200.0, unit=kilocalorie/mole), 7]), 5: (8, 10, 14, 16, [1, Quantity(value=2.0543043017157916, unit=radian), Quantity(value=1200.0, unit=kilocalorie/mole), 5]), 6: (8, 10, 14, 15, [1, Quantity(value=-0.02223392579985184, unit=radian), Quantity(value=1200.0, unit=kilocalorie/mole), 4]), 7: (18, 10, 14, 17, [1, Quantity(value=2.0255587336734213, unit=radian), Quantity(value=1200.0, unit=kilocalorie/mole), 7]), 8: (18, 10, 14, 16, [1, Quantity(value=-0.07836904940578293, unit=radian), Quantity(value=1200.0, unit=kilocalorie/mole), 5]), 9: (18, 10, 14, 15, [1, Quantity(value=-2.154907276921426, unit=radian), Quantity(value=1200.0, unit=kilocalorie/mole), 4]), 10: (13, 10, 14, 17, [1, Quantity(value=0.007583009583349565, unit=radian), Quantity(value=1200.0, unit=kilocalorie/mole), 7]), 11: (13, 10, 14, 16, [1, Quantity(value=-2.096344773495849, unit=radian), Quantity(value=1200.0, unit=kilocalorie/mole), 6]), 12: (13, 10, 14, 15, [1, Quantity(value=2.1103023061680943, unit=radian), Quantity(value=1200.0, unit=kilocalorie/mole), 6]), 13: (14, 10, 8, 18, [1, Quantity(value=1.0655064807976995, unit=radian), Quantity(value=1200.0, unit=kilocalorie/mole), 3])}\n",
      "INFO:geometry:neglected angle terms include []\n",
      "INFO:geometry:log probability choice of torsions and atom order: -13.371595639480912\n",
      "INFO:geometry:creating platform, integrators, and contexts; setting growth parameter\n"
     ]
    },
    {
     "name": "stdout",
     "output_type": "stream",
     "text": [
      "making topology proposal\n",
      "generating geometry engine\n",
      "making geometry proposal from ALA to THR\n",
      "conducting subsequent work with the following platform: CUDA\n"
     ]
    },
    {
     "name": "stderr",
     "output_type": "stream",
     "text": [
      "INFO:geometry:setting atoms_with_positions context new positions\n"
     ]
    },
    {
     "name": "stdout",
     "output_type": "stream",
     "text": [
      "conducting subsequent work with the following platform: CUDA\n"
     ]
    },
    {
     "name": "stderr",
     "output_type": "stream",
     "text": [
      "INFO:geometry:There are 8 new atoms\n",
      "INFO:geometry:\treduced angle potential = 1.1782244583437067.\n",
      "INFO:geometry:\treduced angle potential = 0.34552700837882344.\n",
      "INFO:geometry:\treduced angle potential = 0.2832082868608191.\n",
      "INFO:geometry:\treduced angle potential = 0.4196004176498398.\n",
      "INFO:geometry:\treduced angle potential = 1.1278924582914134.\n",
      "INFO:geometry:\treduced angle potential = 0.32070858271014435.\n",
      "INFO:geometry:\treduced angle potential = 0.5288541638669997.\n",
      "INFO:geometry:\treduced angle potential = 0.09520287230670622.\n",
      "INFO:geometry:\tbeginning construction of no_nonbonded final system...\n",
      "INFO:geometry:\tinitial no-nonbonded final system forces ['HarmonicBondForce', 'HarmonicAngleForce', 'PeriodicTorsionForce', 'NonbondedForce']\n",
      "INFO:geometry:\tfinal no-nonbonded final system forces dict_keys(['HarmonicBondForce', 'HarmonicAngleForce', 'PeriodicTorsionForce', 'NonbondedForce'])\n",
      "INFO:geometry:\tthere are 11 bond forces in the no-nonbonded final system\n",
      "INFO:geometry:\tthere are 43 angle forces in the no-nonbonded final system\n",
      "INFO:geometry:\tthere are 72 torsion forces in the no-nonbonded final system\n",
      "INFO:geometry:forward final system defined with 0 neglected angles.\n"
     ]
    },
    {
     "name": "stdout",
     "output_type": "stream",
     "text": [
      "conducting subsequent work with the following platform: CUDA\n",
      "conducting subsequent work with the following platform: CUDA\n"
     ]
    },
    {
     "name": "stderr",
     "output_type": "stream",
     "text": [
      "INFO:geometry:total reduced potential before atom placement: 9.11648114171204\n"
     ]
    },
    {
     "name": "stdout",
     "output_type": "stream",
     "text": [
      "conducting subsequent work with the following platform: CUDA\n",
      "conducting subsequent work with the following platform: CUDA\n",
      "conducting subsequent work with the following platform: CUDA\n"
     ]
    },
    {
     "name": "stderr",
     "output_type": "stream",
     "text": [
      "INFO:geometry:total reduced energy added from growth system: -47.72340607056445\n",
      "INFO:geometry:final reduced energy -38.60692681335344\n",
      "INFO:geometry:sum of energies: -38.60692492885241\n",
      "INFO:geometry:magnitude of difference in the energies: 1.884501031668151e-06\n",
      "INFO:geometry:Final logp_proposal: 60.66750653931384\n"
     ]
    },
    {
     "name": "stdout",
     "output_type": "stream",
     "text": [
      "added energy components: [('CustomBondForce', 2.618564793801842), ('CustomAngleForce', 8.57490143793697), ('CustomTorsionForce', 18.365138485393235), ('CustomBondForce', -77.2820107876965)]\n"
     ]
    },
    {
     "name": "stderr",
     "output_type": "stream",
     "text": [
      "INFO:geometry:logp_reverse: performing reverse proposal\n",
      "INFO:geometry:logp_reverse: unique new atoms detected; proceeding to _logp_propose...\n",
      "INFO:geometry:Conducting forward proposal...\n",
      "INFO:geometry:Computing proposal order with NetworkX...\n",
      "INFO:geometry:number of atoms to be placed: 4\n",
      "INFO:geometry:Atom index proposal order is [10, 12, 13, 11]\n",
      "INFO:geometry:omitted_bonds: []\n",
      "INFO:geometry:direction of proposal is reverse; creating atoms_with_positions from old system/topology\n",
      "INFO:geometry:creating growth system...\n",
      "INFO:geometry:\tcreating bond force...\n",
      "INFO:geometry:\tthere are 9 bonds in reference force.\n",
      "INFO:geometry:\tcreating angle force...\n",
      "INFO:geometry:\tthere are 36 angles in reference force.\n",
      "INFO:geometry:\tcreating torsion force...\n",
      "INFO:geometry:\tcreating extra torsions force...\n",
      "INFO:geometry:\tthere are 42 torsions in reference force.\n",
      "INFO:geometry:\tcreating nonbonded force...\n",
      "INFO:geometry:\t\tgrabbing reference nonbonded method, cutoff, switching function, switching distance...\n",
      "INFO:geometry:\t\tcreating nonbonded exception force (i.e. custom bond for 1,4s)...\n",
      "INFO:geometry:\t\tlooping through exceptions calculating growth indices, and adding appropriate interactions to custom bond force.\n",
      "INFO:geometry:\t\tthere are 98 in the reference Nonbonded force\n",
      "WARNING:geometry:\t\t\t\t\tchiral atom <Atom 8 (CA) of chain 0 residue 1 (ALA)> with neighbors [<Atom 9 (HA) of chain 0 residue 1 (ALA)>, <Atom 10 (CB) of chain 0 residue 1 (ALA)>, <Atom 14 (C) of chain 0 residue 1 (ALA)>, <Atom 6 (N) of chain 0 residue 1 (ALA)>] is surrounded by 3 core neighbors.  omitting chirality bias torsion\n",
      "INFO:geometry:Neglected angle terms : []\n",
      "INFO:geometry:omitted_growth_terms: {'bonds': [], 'angles': [], 'torsions': [], '1,4s': []}\n",
      "INFO:geometry:extra torsions: {0: (7, 6, 8, 10, [1, Quantity(value=0.9799661941737812, unit=radian), Quantity(value=1200.0, unit=kilocalorie/mole), 1]), 1: (6, 8, 10, 11, [1, Quantity(value=2.105358864604291, unit=radian), Quantity(value=1200.0, unit=kilocalorie/mole), 4]), 2: (6, 8, 10, 12, [1, Quantity(value=-2.0823006129211796, unit=radian), Quantity(value=1200.0, unit=kilocalorie/mole), 2]), 3: (6, 8, 10, 13, [1, Quantity(value=0.018582237407944735, unit=radian), Quantity(value=1200.0, unit=kilocalorie/mole), 3]), 4: (14, 8, 10, 11, [1, Quantity(value=-0.036945135932107576, unit=radian), Quantity(value=1200.0, unit=kilocalorie/mole), 4]), 5: (14, 8, 10, 12, [1, Quantity(value=2.0585806937220097, unit=radian), Quantity(value=1200.0, unit=kilocalorie/mole), 2]), 6: (14, 8, 10, 13, [1, Quantity(value=-2.1237217631284597, unit=radian), Quantity(value=1200.0, unit=kilocalorie/mole), 3]), 7: (9, 8, 10, 11, [1, Quantity(value=-2.119603470065817, unit=radian), Quantity(value=1200.0, unit=kilocalorie/mole), 4]), 8: (9, 8, 10, 12, [1, Quantity(value=-0.024077640411697132, unit=radian), Quantity(value=1200.0, unit=kilocalorie/mole), 2]), 9: (9, 8, 10, 13, [1, Quantity(value=2.0768052099174152, unit=radian), Quantity(value=1200.0, unit=kilocalorie/mole), 3])}\n",
      "INFO:geometry:neglected angle terms include []\n",
      "INFO:geometry:log probability choice of torsions and atom order: -5.78074351579233\n",
      "INFO:geometry:creating platform, integrators, and contexts; setting growth parameter\n"
     ]
    },
    {
     "name": "stdout",
     "output_type": "stream",
     "text": [
      "conducting subsequent work with the following platform: CUDA\n"
     ]
    },
    {
     "name": "stderr",
     "output_type": "stream",
     "text": [
      "INFO:geometry:setting atoms_with_positions context old positions\n"
     ]
    },
    {
     "name": "stdout",
     "output_type": "stream",
     "text": [
      "conducting subsequent work with the following platform: CUDA\n"
     ]
    },
    {
     "name": "stderr",
     "output_type": "stream",
     "text": [
      "INFO:geometry:There are 4 new atoms\n",
      "INFO:geometry:\treduced angle potential = 0.08012165173241896.\n",
      "INFO:geometry:\treduced angle potential = 3.205832446488702e-13.\n",
      "INFO:geometry:\treduced angle potential = 7.39096069988752e-11.\n",
      "INFO:geometry:\treduced angle potential = 1.2915588460963948e-10.\n",
      "INFO:geometry:\tbeginning construction of no_nonbonded final system...\n",
      "INFO:geometry:\tinitial no-nonbonded final system forces ['HarmonicBondForce', 'HarmonicAngleForce', 'PeriodicTorsionForce', 'NonbondedForce']\n",
      "INFO:geometry:\tfinal no-nonbonded final system forces dict_keys(['HarmonicBondForce', 'HarmonicAngleForce', 'PeriodicTorsionForce', 'NonbondedForce'])\n",
      "INFO:geometry:\tthere are 9 bond forces in the no-nonbonded final system\n",
      "INFO:geometry:\tthere are 36 angle forces in the no-nonbonded final system\n",
      "INFO:geometry:\tthere are 42 torsion forces in the no-nonbonded final system\n",
      "INFO:geometry:reverse final system defined with 0 neglected angles.\n"
     ]
    },
    {
     "name": "stdout",
     "output_type": "stream",
     "text": [
      "conducting subsequent work with the following platform: CUDA\n",
      "conducting subsequent work with the following platform: CUDA\n"
     ]
    },
    {
     "name": "stderr",
     "output_type": "stream",
     "text": [
      "INFO:geometry:total reduced potential before atom placement: 9.11648114171204\n"
     ]
    },
    {
     "name": "stdout",
     "output_type": "stream",
     "text": [
      "conducting subsequent work with the following platform: CUDA\n",
      "conducting subsequent work with the following platform: CUDA\n",
      "conducting subsequent work with the following platform: CUDA\n"
     ]
    },
    {
     "name": "stderr",
     "output_type": "stream",
     "text": [
      "INFO:geometry:total reduced energy added from growth system: 20.672986672125617\n",
      "INFO:geometry:final reduced energy 29.78946596595154\n",
      "INFO:geometry:sum of energies: 29.789467813837657\n",
      "INFO:geometry:magnitude of difference in the energies: 1.8478861179005435e-06\n",
      "INFO:geometry:Final logp_proposal: -26941.89920790118\n"
     ]
    },
    {
     "name": "stdout",
     "output_type": "stream",
     "text": [
      "added energy components: [('CustomBondForce', 0.000520203927326505), ('CustomAngleForce', 0.4511197756248138), ('CustomTorsionForce', 7.250463328533253), ('CustomBondForce', 12.970883364040223)]\n"
     ]
    },
    {
     "name": "stderr",
     "output_type": "stream",
     "text": [
      "INFO:relative:*** Generating RxnHybridTopologyFactory ***\n",
      "INFO:relative:Beginning nonbonded method, total particle, barostat, and exceptions retrieval...\n",
      "INFO:relative:Old system forces: dict_keys(['HarmonicBondForce', 'HarmonicAngleForce', 'PeriodicTorsionForce', 'NonbondedForce'])\n",
      "INFO:relative:New system forces: dict_keys(['HarmonicBondForce', 'HarmonicAngleForce', 'PeriodicTorsionForce', 'NonbondedForce'])\n",
      "INFO:relative:No unknown forces.\n",
      "INFO:relative:Nonbonded method to be used (i.e. from old system): 0\n",
      "INFO:relative:Adding and mapping old atoms to hybrid system...\n",
      "INFO:relative:Adding and mapping new atoms to hybrid system...\n",
      "INFO:relative:scale_templates: [['nonscale_lambda', 'scale_lambda_0', 'interscale_lambda_0'], ['nonscale_region', 'scale_region_0', 'interscale_region_0']]\n",
      "INFO:relative:particle (nonbonded) scale_templates: [['nonscale_lambda', 'scale_lambda_0'], ['nonscale_region1', 'scale_region_01'], ['nonscale_region2', 'scale_region_02']]\n",
      "INFO:relative:No MonteCarloBarostat added.\n",
      "INFO:relative:getDefaultPeriodicBoxVectors added to hybrid: [Quantity(value=Vec3(x=2.0, y=0.0, z=0.0), unit=nanometer), Quantity(value=Vec3(x=0.0, y=2.0, z=0.0), unit=nanometer), Quantity(value=Vec3(x=0.0, y=0.0, z=2.0), unit=nanometer)]\n",
      "INFO:relative:Determined atom classes.\n",
      "INFO:relative:Generating old system exceptions dict...\n",
      "INFO:relative:Generating new system exceptions dict...\n",
      "INFO:relative:Handling constraints...\n",
      "INFO:relative:Handling virtual sites...\n",
      "INFO:relative:\t_handle_virtual_sites: numVirtualSites: 0\n"
     ]
    },
    {
     "name": "stdout",
     "output_type": "stream",
     "text": [
      "( nonscale_lambda_bonds * nonscale_region+scale_lambda_0_bonds * scale_region_0+interscale_lambda_0_bonds * interscale_region_0 ) * (K/2)*(r-length)^2;K = ( 1 * environment_region+lambda_0_bonds_old * alchemical_region_0 ) * K1 + ( 1 * environment_region+lambda_0_bonds_new * alchemical_region_0 ) * K2;length = ( 1 * environment_region+lambda_0_bonds_old * alchemical_region_0 ) * length1 + ( 1 * environment_region+lambda_0_bonds_new * alchemical_region_0 ) * length2;\n",
      "0\n",
      "0\n",
      "0\n",
      "0\n"
     ]
    }
   ],
   "source": [
    "# Create a htf\n",
    "atp, system_generator = generate_atp(phase = 'vacuum')\n",
    "htf = generate_dipeptide_top_pos_sys(atp.topology, \n",
    "                               'THR', \n",
    "                               atp.system, \n",
    "                               atp.positions, \n",
    "                               system_generator,\n",
    "                                rxn_field=True,\n",
    "                               flatten_torsions=True,\n",
    "                               flatten_exceptions=True,\n",
    "                               validate_endstate_energy=False,\n",
    "                                conduct_htf_prop=True, \n",
    "                                scale_regions=[[10, 11, 12, 13, 22, 23, 24, 25, 26, 27, 28, 29]])"
   ]
  },
  {
   "cell_type": "code",
   "execution_count": 15,
   "id": "7973bd78",
   "metadata": {},
   "outputs": [],
   "source": [
    "# Save htf\n",
    "with open(\"atp_vacuum_scale_region.pickle\", \"wb\") as f:\n",
    "    pickle.dump(htf, f)\n",
    "    "
   ]
  },
  {
   "cell_type": "markdown",
   "id": "5e9bd435",
   "metadata": {},
   "source": [
    "#### Old system HarmonicBondForce vs hybrid system CustomBondForce"
   ]
  },
  {
   "cell_type": "code",
   "execution_count": 16,
   "id": "288c11e1",
   "metadata": {},
   "outputs": [],
   "source": [
    "# Load htf\n",
    "with open(\"/home/zhangi/choderalab/perses_benchmark/perses_protein_mutations/code/26_rxn_field/atp_vacuum_scale_region.pickle\", \"rb\") as f:\n",
    "    htf = pickle.load(f)"
   ]
  },
  {
   "cell_type": "code",
   "execution_count": 17,
   "id": "5c37ddb9",
   "metadata": {
    "scrolled": true
   },
   "outputs": [
    {
     "data": {
      "text/plain": [
       "[10, 11, 12, 13, 22, 23, 24, 25, 26, 27, 28, 29]"
      ]
     },
     "execution_count": 17,
     "metadata": {},
     "output_type": "execute_result"
    }
   ],
   "source": [
    "# This is the scale region\n",
    "list(htf._atom_classes['unique_old_atoms'][0]) + list(htf._atom_classes['unique_new_atoms'][0])"
   ]
  },
  {
   "cell_type": "code",
   "execution_count": 18,
   "id": "9c194d51",
   "metadata": {
    "scrolled": false
   },
   "outputs": [
    {
     "name": "stdout",
     "output_type": "stream",
     "text": [
      "Warning: Returning CPU platform instead of requested platform <simtk.openmm.openmm.Platform; proxy of <Swig Object of type 'OpenMM::Platform *' at 0x2b4ee69c5060> >\n",
      "conducting subsequent work with the following platform: CPU\n",
      "conducting subsequent work with the following platform: CUDA\n",
      "[('HarmonicBondForce', 0.03478365356521381), ('HarmonicAngleForce', 0.6112775462128995), ('PeriodicTorsionForce', 16.285398289983064), ('NonbondedForce', -52.66819022395389), ('AndersenThermostat', 0.0)]\n",
      "conducting subsequent work with the following platform: CUDA\n",
      "[('CustomBondForce', 2.670922707728143), ('CustomAngleForce', 9.243728658229985), ('CustomTorsionForce', 16.285403285921724), ('CustomNonbondedForce', -135.30622121947044), ('CustomNonbondedForce', 4.748478007480066), ('CustomBondForce', 82.63803814501956), ('CustomBondForce', 8.46978053705605), ('AndersenThermostat', 0.0)]\n",
      "Success! Custom nb force and standard nb force electrostatics energies are equal!\n",
      "conducting subsequent work with the following platform: CUDA\n",
      "[('CustomBondForce', 2.670922707728143), ('CustomAngleForce', 9.243728658229985), ('CustomTorsionForce', 16.285403285921724), ('CustomNonbondedForce', -135.30622121947044), ('CustomNonbondedForce', 4.748478007480066), ('CustomBondForce', 82.63803814501956), ('CustomBondForce', 8.46978053705605), ('AndersenThermostat', 0.0)]\n",
      "conducting subsequent work with the following platform: CUDA\n",
      "[('CustomBondForce', 2.670922707728143), ('CustomAngleForce', 9.243728658229985), ('CustomTorsionForce', 16.285403285921724), ('CustomNonbondedForce', -134.28340274881324), ('CustomNonbondedForce', 4.748478007480066), ('CustomBondForce', 82.63803814501956), ('CustomBondForce', 8.46978053705605), ('AndersenThermostat', 0.0)]\n",
      "Success! Scaling the custom nb electrostatics force changes the energy\n"
     ]
    }
   ],
   "source": [
    "test_nb_energies(htf, check_scale=True)\n"
   ]
  },
  {
   "cell_type": "code",
   "execution_count": 19,
   "id": "21704229",
   "metadata": {},
   "outputs": [],
   "source": [
    "# Load htf\n",
    "with open(\"/home/zhangi/choderalab/perses_benchmark/perses_protein_mutations/code/26_rxn_field/atp_vacuum_scale_region.pickle\", \"rb\") as f:\n",
    "    htf = pickle.load(f)"
   ]
  },
  {
   "cell_type": "code",
   "execution_count": 20,
   "id": "f7c50530",
   "metadata": {},
   "outputs": [
    {
     "name": "stdout",
     "output_type": "stream",
     "text": [
      "Warning: Returning CPU platform instead of requested platform <simtk.openmm.openmm.Platform; proxy of <Swig Object of type 'OpenMM::Platform *' at 0x2b4ee69c5060> >\n",
      "conducting subsequent work with the following platform: CPU\n",
      "conducting subsequent work with the following platform: CUDA\n",
      "[('HarmonicBondForce', 0.03478365356521381), ('HarmonicAngleForce', 0.6112775462128995), ('PeriodicTorsionForce', 16.285398289983064), ('NonbondedForce', 13.218262478353564), ('AndersenThermostat', 0.0)]\n",
      "conducting subsequent work with the following platform: CUDA\n",
      "[('CustomBondForce', 2.670922707728143), ('CustomAngleForce', 9.243728658229985), ('CustomTorsionForce', 16.285403285921724), ('CustomNonbondedForce', -135.30622121947044), ('CustomNonbondedForce', 4.748478007480066), ('CustomBondForce', 82.63803814501956), ('CustomBondForce', 8.46978053705605), ('AndersenThermostat', 0.0)]\n",
      "Success! Custom nb force and standard nb force sterics energies are equal!\n",
      "conducting subsequent work with the following platform: CUDA\n",
      "[('CustomBondForce', 2.670922707728143), ('CustomAngleForce', 9.243728658229985), ('CustomTorsionForce', 16.285403285921724), ('CustomNonbondedForce', -135.30622121947044), ('CustomNonbondedForce', 4.748478007480066), ('CustomBondForce', 82.63803814501956), ('CustomBondForce', 8.46978053705605), ('AndersenThermostat', 0.0)]\n",
      "conducting subsequent work with the following platform: CUDA\n",
      "[('CustomBondForce', 2.670922707728143), ('CustomAngleForce', 9.243728658229985), ('CustomTorsionForce', 16.285403285921724), ('CustomNonbondedForce', -135.30622121947044), ('CustomNonbondedForce', 3.3252573195582973), ('CustomBondForce', 82.63803814501956), ('CustomBondForce', 8.46978053705605), ('AndersenThermostat', 0.0)]\n",
      "Success! Scaling the custom nb sterics force changes the energy\n"
     ]
    }
   ],
   "source": [
    "test_nb_energies(htf, is_electrostatics=False, check_scale=True)\n"
   ]
  },
  {
   "cell_type": "markdown",
   "id": "0057ce49",
   "metadata": {},
   "source": [
    "#### New system HarmonicBondForce vs hybrid system CustomBondForce"
   ]
  },
  {
   "cell_type": "code",
   "execution_count": 21,
   "id": "1e6a7202",
   "metadata": {},
   "outputs": [],
   "source": [
    "# Load htf\n",
    "with open(\"/home/zhangi/choderalab/perses_benchmark/perses_protein_mutations/code/26_rxn_field/atp_vacuum_scale_region.pickle\", \"rb\") as f:\n",
    "    htf = pickle.load(f)"
   ]
  },
  {
   "cell_type": "code",
   "execution_count": 22,
   "id": "8ccc8c53",
   "metadata": {},
   "outputs": [
    {
     "name": "stdout",
     "output_type": "stream",
     "text": [
      "Warning: Returning CPU platform instead of requested platform <simtk.openmm.openmm.Platform; proxy of <Swig Object of type 'OpenMM::Platform *' at 0x2b4ee69c5060> >\n",
      "conducting subsequent work with the following platform: CPU\n",
      "conducting subsequent work with the following platform: CUDA\n",
      "[('HarmonicBondForce', 2.6703990124992907), ('HarmonicAngleForce', 8.789581233104334), ('PeriodicTorsionForce', 27.474669555944015), ('NonbondedForce', -88.46034768939744), ('AndersenThermostat', 0.0)]\n",
      "conducting subsequent work with the following platform: CUDA\n",
      "[('CustomBondForce', 2.670922707728143), ('CustomAngleForce', 9.243728658229985), ('CustomTorsionForce', 16.285403285921724), ('CustomNonbondedForce', -86.7395212465623), ('CustomNonbondedForce', 4.748478007480066), ('CustomBondForce', -1.7208238267418343), ('CustomBondForce', 8.46978053705605), ('AndersenThermostat', 0.0)]\n",
      "Success! Custom nb force and standard nb force electrostatics energies are equal!\n",
      "conducting subsequent work with the following platform: CUDA\n",
      "[('CustomBondForce', 2.670922707728143), ('CustomAngleForce', 9.243728658229985), ('CustomTorsionForce', 16.285403285921724), ('CustomNonbondedForce', -135.30622121947044), ('CustomNonbondedForce', 4.748478007480066), ('CustomBondForce', 82.63803814501956), ('CustomBondForce', 8.46978053705605), ('AndersenThermostat', 0.0)]\n",
      "conducting subsequent work with the following platform: CUDA\n",
      "[('CustomBondForce', 2.670922707728143), ('CustomAngleForce', 9.243728658229985), ('CustomTorsionForce', 16.285403285921724), ('CustomNonbondedForce', -134.28340274881324), ('CustomNonbondedForce', 4.748478007480066), ('CustomBondForce', 82.63803814501956), ('CustomBondForce', 8.46978053705605), ('AndersenThermostat', 0.0)]\n",
      "Success! Scaling the custom nb electrostatics force changes the energy\n"
     ]
    }
   ],
   "source": [
    "test_nb_energies(htf, is_old=False, check_scale=True)\n"
   ]
  },
  {
   "cell_type": "code",
   "execution_count": 29,
   "id": "d9fe6852",
   "metadata": {},
   "outputs": [],
   "source": [
    "# Load htf\n",
    "with open(\"/home/zhangi/choderalab/perses_benchmark/perses_protein_mutations/code/26_rxn_field/atp_vacuum_scale_region.pickle\", \"rb\") as f:\n",
    "    htf = pickle.load(f)"
   ]
  },
  {
   "cell_type": "code",
   "execution_count": 24,
   "id": "0ef27f0e",
   "metadata": {},
   "outputs": [
    {
     "name": "stdout",
     "output_type": "stream",
     "text": [
      "Warning: Returning CPU platform instead of requested platform <simtk.openmm.openmm.Platform; proxy of <Swig Object of type 'OpenMM::Platform *' at 0x2b4ee69c5060> >\n",
      "conducting subsequent work with the following platform: CPU\n",
      "conducting subsequent work with the following platform: CUDA\n",
      "[('HarmonicBondForce', 2.6703990124992907), ('HarmonicAngleForce', 8.789581233104334), ('PeriodicTorsionForce', 27.474669555944015), ('NonbondedForce', 125.47430912062403), ('AndersenThermostat', 0.0)]\n",
      "conducting subsequent work with the following platform: CUDA\n",
      "[('CustomBondForce', 2.670922707728143), ('CustomAngleForce', 9.243728658229985), ('CustomTorsionForce', 16.285403285921724), ('CustomNonbondedForce', -135.30622121947044), ('CustomNonbondedForce', 115.76727967402559), ('CustomBondForce', 82.63803814501956), ('CustomBondForce', 9.707044201890385), ('AndersenThermostat', 0.0)]\n",
      "Success! Custom nb force and standard nb force sterics energies are equal!\n",
      "conducting subsequent work with the following platform: CUDA\n",
      "[('CustomBondForce', 2.670922707728143), ('CustomAngleForce', 9.243728658229985), ('CustomTorsionForce', 16.285403285921724), ('CustomNonbondedForce', -135.30622121947044), ('CustomNonbondedForce', 4.748478007480066), ('CustomBondForce', 82.63803814501956), ('CustomBondForce', 8.46978053705605), ('AndersenThermostat', 0.0)]\n",
      "conducting subsequent work with the following platform: CUDA\n",
      "[('CustomBondForce', 2.670922707728143), ('CustomAngleForce', 9.243728658229985), ('CustomTorsionForce', 16.285403285921724), ('CustomNonbondedForce', -135.30622121947044), ('CustomNonbondedForce', 3.3252573195582973), ('CustomBondForce', 82.63803814501956), ('CustomBondForce', 8.46978053705605), ('AndersenThermostat', 0.0)]\n",
      "Success! Scaling the custom nb sterics force changes the energy\n"
     ]
    }
   ],
   "source": [
    "test_nb_energies(htf, is_electrostatics=False, is_old=False, check_scale=True)\n"
   ]
  },
  {
   "cell_type": "markdown",
   "id": "a30a9095",
   "metadata": {},
   "source": [
    "# Alanine dipeptide in solvent"
   ]
  },
  {
   "cell_type": "code",
   "execution_count": 3,
   "id": "2e120f58",
   "metadata": {
    "scrolled": true
   },
   "outputs": [
    {
     "name": "stderr",
     "output_type": "stream",
     "text": [
      "DEBUG:openmmforcefields.system_generators:Trying GAFFTemplateGenerator to load gaff-2.11\n",
      "INFO:proposal_generator:\tConducting polymer point mutation proposal...\n",
      "INFO:proposal_generator:Using matching_criterion to chose best atom map\n",
      "INFO:proposal_generator:Scaffold has symmetry of 0\n",
      "WARNING:proposal_generator:Two molecules are not similar to have a common scaffold\n",
      "WARNING:proposal_generator:Proceeding with direct mapping of molecules, but please check atom mapping and the geometry of the ligands.\n",
      "INFO:proposal_generator:len [{9: 7}, {10: 7}, {11: 7}, {12: 7}, {13: 7}, {9: 8}, {10: 8}, {11: 8}, {12: 8}, {13: 8}, {9: 9}, {10: 9}, {11: 9}, {12: 9}, {13: 9}]\n",
      "INFO:proposal_generator:{9: 7}\n",
      "INFO:proposal_generator:{10: 7}\n",
      "INFO:proposal_generator:{11: 7}\n",
      "INFO:proposal_generator:{12: 7}\n",
      "INFO:proposal_generator:{13: 7}\n",
      "INFO:proposal_generator:{9: 8}\n",
      "INFO:proposal_generator:{10: 8}\n",
      "INFO:proposal_generator:{11: 8}\n",
      "INFO:proposal_generator:{12: 8}\n",
      "INFO:proposal_generator:{13: 8}\n",
      "INFO:proposal_generator:{9: 9}\n",
      "INFO:proposal_generator:{10: 9}\n",
      "INFO:proposal_generator:{11: 9}\n",
      "INFO:proposal_generator:{12: 9}\n",
      "INFO:proposal_generator:{13: 9}\n",
      "INFO:proposal_generator:Returning map that best satisfies matching_criterion\n",
      "INFO:proposal_generator:Finding best map using matching_criterion name\n",
      "INFO:proposal_generator:{9: 7}\n"
     ]
    },
    {
     "name": "stdout",
     "output_type": "stream",
     "text": [
      "making topology proposal\n"
     ]
    },
    {
     "name": "stderr",
     "output_type": "stream",
     "text": [
      "INFO:geometry:propose: performing forward proposal\n",
      "INFO:geometry:propose: unique new atoms detected; proceeding to _logp_propose...\n",
      "INFO:geometry:Conducting forward proposal...\n",
      "INFO:geometry:Computing proposal order with NetworkX...\n",
      "INFO:geometry:number of atoms to be placed: 8\n",
      "INFO:geometry:Atom index proposal order is [10, 14, 18, 13, 16, 19, 17, 15]\n",
      "INFO:geometry:omitted_bonds: []\n",
      "INFO:geometry:direction of proposal is forward; creating atoms_with_positions and new positions from old system/topology...\n"
     ]
    },
    {
     "name": "stdout",
     "output_type": "stream",
     "text": [
      "generating geometry engine\n",
      "making geometry proposal from ALA to THR\n"
     ]
    },
    {
     "name": "stderr",
     "output_type": "stream",
     "text": [
      "INFO:geometry:creating growth system...\n",
      "INFO:geometry:\tcreating bond force...\n",
      "INFO:geometry:\tthere are 11 bonds in reference force.\n",
      "INFO:geometry:\tcreating angle force...\n",
      "INFO:geometry:\tthere are 43 angles in reference force.\n",
      "INFO:geometry:\tcreating torsion force...\n",
      "INFO:geometry:\tcreating extra torsions force...\n",
      "INFO:geometry:\tthere are 72 torsions in reference force.\n",
      "INFO:geometry:\tcreating nonbonded force...\n",
      "INFO:geometry:\t\tgrabbing reference nonbonded method, cutoff, switching function, switching distance...\n",
      "INFO:geometry:\t\tcreating nonbonded exception force (i.e. custom bond for 1,4s)...\n",
      "INFO:geometry:\t\tlooping through exceptions calculating growth indices, and adding appropriate interactions to custom bond force.\n",
      "INFO:geometry:\t\tthere are 1654 in the reference Nonbonded force\n",
      "WARNING:geometry:\t\t\t\t\tchiral atom <Atom 8 (CA) of chain 0 residue 1 (THR)> with neighbors [<Atom 9 (HA) of chain 0 residue 1 (THR)>, <Atom 10 (CB) of chain 0 residue 1 (THR)>, <Atom 11 (C) of chain 0 residue 1 (THR)>, <Atom 6 (N) of chain 0 residue 1 (THR)>] is surrounded by 3 core neighbors.  omitting chirality bias torsion\n",
      "INFO:geometry:Neglected angle terms : []\n",
      "INFO:geometry:omitted_growth_terms: {'bonds': [], 'angles': [], 'torsions': [], '1,4s': []}\n",
      "INFO:geometry:extra torsions: {0: (7, 6, 8, 10, [1, Quantity(value=0.9900002084555819, unit=radian), Quantity(value=1200.0, unit=kilocalorie/mole), 1]), 1: (19, 18, 10, 8, [1, Quantity(value=-0.07858019216845058, unit=radian), Quantity(value=1200.0, unit=kilocalorie/mole), 6]), 2: (19, 18, 10, 14, [1, Quantity(value=2.118586571250296, unit=radian), Quantity(value=1200.0, unit=kilocalorie/mole), 6]), 3: (19, 18, 10, 13, [1, Quantity(value=-2.149781203448759, unit=radian), Quantity(value=1200.0, unit=kilocalorie/mole), 6]), 4: (8, 10, 14, 17, [1, Quantity(value=-2.1249532223845904, unit=radian), Quantity(value=1200.0, unit=kilocalorie/mole), 7]), 5: (8, 10, 14, 16, [1, Quantity(value=2.0543043017157916, unit=radian), Quantity(value=1200.0, unit=kilocalorie/mole), 5]), 6: (8, 10, 14, 15, [1, Quantity(value=-0.02223392579985184, unit=radian), Quantity(value=1200.0, unit=kilocalorie/mole), 8]), 7: (18, 10, 14, 17, [1, Quantity(value=2.0255587336734213, unit=radian), Quantity(value=1200.0, unit=kilocalorie/mole), 7]), 8: (18, 10, 14, 16, [1, Quantity(value=-0.07836904940578293, unit=radian), Quantity(value=1200.0, unit=kilocalorie/mole), 5]), 9: (18, 10, 14, 15, [1, Quantity(value=-2.154907276921426, unit=radian), Quantity(value=1200.0, unit=kilocalorie/mole), 8]), 10: (13, 10, 14, 17, [1, Quantity(value=0.007583009583349565, unit=radian), Quantity(value=1200.0, unit=kilocalorie/mole), 7]), 11: (13, 10, 14, 16, [1, Quantity(value=-2.096344773495849, unit=radian), Quantity(value=1200.0, unit=kilocalorie/mole), 5]), 12: (13, 10, 14, 15, [1, Quantity(value=2.1103023061680943, unit=radian), Quantity(value=1200.0, unit=kilocalorie/mole), 8]), 13: (14, 10, 8, 18, [1, Quantity(value=1.0655064807976995, unit=radian), Quantity(value=1200.0, unit=kilocalorie/mole), 3])}\n",
      "INFO:geometry:neglected angle terms include []\n",
      "INFO:geometry:log probability choice of torsions and atom order: -13.553917196274867\n",
      "INFO:geometry:creating platform, integrators, and contexts; setting growth parameter\n"
     ]
    },
    {
     "name": "stdout",
     "output_type": "stream",
     "text": [
      "conducting subsequent work with the following platform: CUDA\n"
     ]
    },
    {
     "name": "stderr",
     "output_type": "stream",
     "text": [
      "INFO:geometry:setting atoms_with_positions context new positions\n"
     ]
    },
    {
     "name": "stdout",
     "output_type": "stream",
     "text": [
      "conducting subsequent work with the following platform: CUDA\n"
     ]
    },
    {
     "name": "stderr",
     "output_type": "stream",
     "text": [
      "INFO:geometry:There are 8 new atoms\n",
      "INFO:geometry:\treduced angle potential = 0.24587722609266627.\n",
      "INFO:geometry:\treduced angle potential = 0.049948391913847826.\n",
      "INFO:geometry:\treduced angle potential = 0.04309718480095324.\n",
      "INFO:geometry:\treduced angle potential = 0.9593679023873056.\n",
      "INFO:geometry:\treduced angle potential = 0.35656356300415765.\n",
      "INFO:geometry:\treduced angle potential = 0.04330825347388502.\n",
      "INFO:geometry:\treduced angle potential = 0.06231689198880439.\n",
      "INFO:geometry:\treduced angle potential = 0.13013766098857105.\n",
      "INFO:geometry:\tbeginning construction of no_nonbonded final system...\n",
      "INFO:geometry:\tinitial no-nonbonded final system forces ['HarmonicBondForce', 'HarmonicAngleForce', 'PeriodicTorsionForce', 'NonbondedForce', 'MonteCarloBarostat']\n",
      "INFO:geometry:\tfinal no-nonbonded final system forces dict_keys(['HarmonicBondForce', 'HarmonicAngleForce', 'PeriodicTorsionForce', 'NonbondedForce'])\n",
      "INFO:geometry:\tthere are 11 bond forces in the no-nonbonded final system\n",
      "INFO:geometry:\tthere are 43 angle forces in the no-nonbonded final system\n",
      "INFO:geometry:\tthere are 72 torsion forces in the no-nonbonded final system\n",
      "INFO:geometry:forward final system defined with 0 neglected angles.\n"
     ]
    },
    {
     "name": "stdout",
     "output_type": "stream",
     "text": [
      "conducting subsequent work with the following platform: CUDA\n",
      "conducting subsequent work with the following platform: CUDA\n"
     ]
    },
    {
     "name": "stderr",
     "output_type": "stream",
     "text": [
      "INFO:geometry:total reduced potential before atom placement: 9.11648114171204\n"
     ]
    },
    {
     "name": "stdout",
     "output_type": "stream",
     "text": [
      "conducting subsequent work with the following platform: CUDA\n",
      "conducting subsequent work with the following platform: CUDA\n",
      "conducting subsequent work with the following platform: CUDA\n"
     ]
    },
    {
     "name": "stderr",
     "output_type": "stream",
     "text": [
      "INFO:geometry:total reduced energy added from growth system: -52.53922595886839\n",
      "INFO:geometry:final reduced energy -43.42274626530258\n",
      "INFO:geometry:sum of energies: -43.42274481715636\n",
      "INFO:geometry:magnitude of difference in the energies: 1.4481462287108116e-06\n",
      "INFO:geometry:Final logp_proposal: 65.75892108753021\n"
     ]
    },
    {
     "name": "stdout",
     "output_type": "stream",
     "text": [
      "added energy components: [('CustomBondForce', 0.046131815492710775), ('CustomAngleForce', 3.5407548976269045), ('CustomTorsionForce', 17.653186632880892), ('CustomBondForce', -73.77929930486889)]\n"
     ]
    },
    {
     "name": "stderr",
     "output_type": "stream",
     "text": [
      "INFO:geometry:logp_reverse: performing reverse proposal\n",
      "INFO:geometry:logp_reverse: unique new atoms detected; proceeding to _logp_propose...\n",
      "INFO:geometry:Conducting forward proposal...\n",
      "INFO:geometry:Computing proposal order with NetworkX...\n",
      "INFO:geometry:number of atoms to be placed: 4\n",
      "INFO:geometry:Atom index proposal order is [10, 12, 13, 11]\n",
      "INFO:geometry:omitted_bonds: []\n",
      "INFO:geometry:direction of proposal is reverse; creating atoms_with_positions from old system/topology\n",
      "INFO:geometry:creating growth system...\n",
      "INFO:geometry:\tcreating bond force...\n",
      "INFO:geometry:\tthere are 9 bonds in reference force.\n",
      "INFO:geometry:\tcreating angle force...\n",
      "INFO:geometry:\tthere are 36 angles in reference force.\n",
      "INFO:geometry:\tcreating torsion force...\n",
      "INFO:geometry:\tcreating extra torsions force...\n",
      "INFO:geometry:\tthere are 42 torsions in reference force.\n",
      "INFO:geometry:\tcreating nonbonded force...\n",
      "INFO:geometry:\t\tgrabbing reference nonbonded method, cutoff, switching function, switching distance...\n",
      "INFO:geometry:\t\tcreating nonbonded exception force (i.e. custom bond for 1,4s)...\n",
      "INFO:geometry:\t\tlooping through exceptions calculating growth indices, and adding appropriate interactions to custom bond force.\n",
      "INFO:geometry:\t\tthere are 1631 in the reference Nonbonded force\n",
      "WARNING:geometry:\t\t\t\t\tchiral atom <Atom 8 (CA) of chain 0 residue 1 (ALA)> with neighbors [<Atom 9 (HA) of chain 0 residue 1 (ALA)>, <Atom 10 (CB) of chain 0 residue 1 (ALA)>, <Atom 14 (C) of chain 0 residue 1 (ALA)>, <Atom 6 (N) of chain 0 residue 1 (ALA)>] is surrounded by 3 core neighbors.  omitting chirality bias torsion\n",
      "INFO:geometry:Neglected angle terms : []\n",
      "INFO:geometry:omitted_growth_terms: {'bonds': [], 'angles': [], 'torsions': [], '1,4s': []}\n",
      "INFO:geometry:extra torsions: {0: (7, 6, 8, 10, [1, Quantity(value=0.9799661941737812, unit=radian), Quantity(value=1200.0, unit=kilocalorie/mole), 1]), 1: (6, 8, 10, 11, [1, Quantity(value=2.105358864604291, unit=radian), Quantity(value=1200.0, unit=kilocalorie/mole), 4]), 2: (6, 8, 10, 12, [1, Quantity(value=-2.0823006129211796, unit=radian), Quantity(value=1200.0, unit=kilocalorie/mole), 2]), 3: (6, 8, 10, 13, [1, Quantity(value=0.018582237407944735, unit=radian), Quantity(value=1200.0, unit=kilocalorie/mole), 3]), 4: (14, 8, 10, 11, [1, Quantity(value=-0.036945135932107576, unit=radian), Quantity(value=1200.0, unit=kilocalorie/mole), 4]), 5: (14, 8, 10, 12, [1, Quantity(value=2.0585806937220097, unit=radian), Quantity(value=1200.0, unit=kilocalorie/mole), 2]), 6: (14, 8, 10, 13, [1, Quantity(value=-2.1237217631284597, unit=radian), Quantity(value=1200.0, unit=kilocalorie/mole), 3]), 7: (9, 8, 10, 11, [1, Quantity(value=-2.119603470065817, unit=radian), Quantity(value=1200.0, unit=kilocalorie/mole), 4]), 8: (9, 8, 10, 12, [1, Quantity(value=-0.024077640411697132, unit=radian), Quantity(value=1200.0, unit=kilocalorie/mole), 2]), 9: (9, 8, 10, 13, [1, Quantity(value=2.0768052099174152, unit=radian), Quantity(value=1200.0, unit=kilocalorie/mole), 3])}\n",
      "INFO:geometry:neglected angle terms include []\n",
      "INFO:geometry:log probability choice of torsions and atom order: -5.78074351579233\n",
      "INFO:geometry:creating platform, integrators, and contexts; setting growth parameter\n"
     ]
    },
    {
     "name": "stdout",
     "output_type": "stream",
     "text": [
      "conducting subsequent work with the following platform: CUDA\n"
     ]
    },
    {
     "name": "stderr",
     "output_type": "stream",
     "text": [
      "INFO:geometry:setting atoms_with_positions context old positions\n"
     ]
    },
    {
     "name": "stdout",
     "output_type": "stream",
     "text": [
      "conducting subsequent work with the following platform: CUDA\n"
     ]
    },
    {
     "name": "stderr",
     "output_type": "stream",
     "text": [
      "INFO:geometry:There are 4 new atoms\n",
      "INFO:geometry:\treduced angle potential = 0.3517324280898812.\n",
      "INFO:geometry:\treduced angle potential = 3.2058324695160406e-13.\n",
      "INFO:geometry:\treduced angle potential = 7.39096069988752e-11.\n",
      "INFO:geometry:\treduced angle potential = 1.2915588460963948e-10.\n",
      "INFO:geometry:\tbeginning construction of no_nonbonded final system...\n",
      "INFO:geometry:\tinitial no-nonbonded final system forces ['HarmonicBondForce', 'HarmonicAngleForce', 'PeriodicTorsionForce', 'NonbondedForce']\n",
      "INFO:geometry:\tfinal no-nonbonded final system forces dict_keys(['HarmonicBondForce', 'HarmonicAngleForce', 'PeriodicTorsionForce', 'NonbondedForce'])\n",
      "INFO:geometry:\tthere are 9 bond forces in the no-nonbonded final system\n",
      "INFO:geometry:\tthere are 36 angle forces in the no-nonbonded final system\n",
      "INFO:geometry:\tthere are 42 torsion forces in the no-nonbonded final system\n",
      "INFO:geometry:reverse final system defined with 0 neglected angles.\n"
     ]
    },
    {
     "name": "stdout",
     "output_type": "stream",
     "text": [
      "conducting subsequent work with the following platform: CUDA\n",
      "conducting subsequent work with the following platform: CUDA\n"
     ]
    },
    {
     "name": "stderr",
     "output_type": "stream",
     "text": [
      "INFO:geometry:total reduced potential before atom placement: 9.11648114171204\n"
     ]
    },
    {
     "name": "stdout",
     "output_type": "stream",
     "text": [
      "conducting subsequent work with the following platform: CUDA\n",
      "conducting subsequent work with the following platform: CUDA\n",
      "conducting subsequent work with the following platform: CUDA\n"
     ]
    },
    {
     "name": "stderr",
     "output_type": "stream",
     "text": [
      "INFO:geometry:total reduced energy added from growth system: 20.672986687678176\n",
      "INFO:geometry:final reduced energy 29.78946596595154\n",
      "INFO:geometry:sum of energies: 29.789467829390215\n",
      "INFO:geometry:magnitude of difference in the energies: 1.8634386762528266e-06\n",
      "INFO:geometry:Final logp_proposal: -26895.326844682648\n"
     ]
    },
    {
     "name": "stdout",
     "output_type": "stream",
     "text": [
      "added energy components: [('CustomBondForce', 0.000520203927326505), ('CustomAngleForce', 0.4511197756248138), ('CustomTorsionForce', 7.250463344085812), ('CustomBondForce', 12.970883364040223)]\n"
     ]
    },
    {
     "name": "stderr",
     "output_type": "stream",
     "text": [
      "INFO:relative:*** Generating RxnHybridTopologyFactory ***\n",
      "INFO:relative:Beginning nonbonded method, total particle, barostat, and exceptions retrieval...\n",
      "INFO:relative:Old system forces: dict_keys(['HarmonicBondForce', 'HarmonicAngleForce', 'PeriodicTorsionForce', 'NonbondedForce'])\n",
      "INFO:relative:New system forces: dict_keys(['HarmonicBondForce', 'HarmonicAngleForce', 'PeriodicTorsionForce', 'NonbondedForce', 'MonteCarloBarostat'])\n",
      "INFO:relative:No unknown forces.\n",
      "INFO:relative:Nonbonded method to be used (i.e. from old system): 0\n",
      "INFO:relative:Adding and mapping old atoms to hybrid system...\n",
      "INFO:relative:Adding and mapping new atoms to hybrid system...\n",
      "INFO:relative:scale_templates: [['nonscale_lambda'], ['nonscale_region']]\n",
      "INFO:relative:particle (nonbonded) scale_templates: [['nonscale_lambda'], ['nonscale_region1'], ['nonscale_region2']]\n",
      "INFO:relative:No MonteCarloBarostat added.\n",
      "INFO:relative:getDefaultPeriodicBoxVectors added to hybrid: [Quantity(value=Vec3(x=2.56477354, y=0.0, z=0.0), unit=nanometer), Quantity(value=Vec3(x=0.0, y=2.56477354, z=0.0), unit=nanometer), Quantity(value=Vec3(x=0.0, y=0.0, z=2.56477354), unit=nanometer)]\n",
      "INFO:relative:Determined atom classes.\n",
      "INFO:relative:Generating old system exceptions dict...\n",
      "INFO:relative:Generating new system exceptions dict...\n",
      "INFO:relative:Handling constraints...\n",
      "INFO:relative:Handling virtual sites...\n",
      "INFO:relative:\t_handle_virtual_sites: numVirtualSites: 0\n"
     ]
    }
   ],
   "source": [
    "# Create a htf\n",
    "atp, system_generator = generate_atp(phase = 'solvent')\n",
    "atp.system.getForce(3).setNonbondedMethod(openmm.NonbondedForce.NoCutoff)\n",
    "# atp.system.getForce(3).setNonbondedMethod(openmm.NonbondedForce.CutoffPeriodic)\n",
    "atp.system.getForce(3).setUseDispersionCorrection(False)\n",
    "for i in range(atp.system.getNumForces()):\n",
    "    if i == 3:\n",
    "        atp.system.getForce(i).setExceptionsUsePeriodicBoundaryConditions(False)\n",
    "    elif i < 3: # do not set PBCs for barostat\n",
    "        atp.system.getForce(i).setUsesPeriodicBoundaryConditions(False)\n",
    "atp.system.removeForce(4) # Remove barostat\n",
    "htf = generate_dipeptide_top_pos_sys(atp.topology, \n",
    "                               'THR', \n",
    "                               atp.system, \n",
    "                               atp.positions, \n",
    "                               system_generator,\n",
    "                                rxn_field=True,\n",
    "                               flatten_torsions=True,\n",
    "                               flatten_exceptions=True,\n",
    "                               validate_endstate_energy=False,\n",
    "                                conduct_htf_prop=True)\n",
    "htf._topology_proposal.new_system.getForce(3).setNonbondedMethod(openmm.NonbondedForce.NoCutoff)\n",
    "htf._topology_proposal.new_system.getForce(3).setUseDispersionCorrection(False)\n",
    "htf._topology_proposal.new_system.removeForce(4) # Remove barostat\n"
   ]
  },
  {
   "cell_type": "code",
   "execution_count": 4,
   "id": "ba6eef7e",
   "metadata": {},
   "outputs": [],
   "source": [
    "# Save htf\n",
    "with open(\"atp_solvent.pickle\", \"wb\") as f:\n",
    "    pickle.dump(htf, f)"
   ]
  },
  {
   "cell_type": "code",
   "execution_count": 23,
   "id": "329e4127",
   "metadata": {},
   "outputs": [
    {
     "data": {
      "text/plain": [
       "{1557, 1558, 1559, 1560, 1561, 1562, 1563, 1564}"
      ]
     },
     "execution_count": 23,
     "metadata": {},
     "output_type": "execute_result"
    }
   ],
   "source": [
    "htf._alchemical_regions_by_type['unique_new_atoms']"
   ]
  },
  {
   "cell_type": "code",
   "execution_count": 24,
   "id": "0a89a56e",
   "metadata": {
    "scrolled": true
   },
   "outputs": [
    {
     "data": {
      "text/plain": [
       "{10, 11, 12, 13}"
      ]
     },
     "execution_count": 24,
     "metadata": {},
     "output_type": "execute_result"
    }
   ],
   "source": [
    "htf._alchemical_regions_by_type['unique_old_atoms']"
   ]
  },
  {
   "cell_type": "markdown",
   "id": "d6ef38ac",
   "metadata": {},
   "source": [
    "### Test one alchemical region, no scale regions"
   ]
  },
  {
   "cell_type": "markdown",
   "id": "5c908dfd",
   "metadata": {},
   "source": [
    "#### Old system nb force vs hybrid system custom nb force and custom bond force (electrostatics)"
   ]
  },
  {
   "cell_type": "code",
   "execution_count": 9,
   "id": "0033103c",
   "metadata": {
    "scrolled": true
   },
   "outputs": [],
   "source": [
    "# Load htf\n",
    "with open(\"/home/zhangi/choderalab/perses_benchmark/perses_protein_mutations/code/26_rxn_field/atp_solvent.pickle\", \"rb\") as f:\n",
    "    htf = pickle.load(f)"
   ]
  },
  {
   "cell_type": "code",
   "execution_count": 118,
   "id": "4b3ecfc2",
   "metadata": {},
   "outputs": [
    {
     "data": {
      "text/plain": [
       "False"
      ]
     },
     "execution_count": 118,
     "metadata": {},
     "output_type": "execute_result"
    }
   ],
   "source": [
    "htf._topology_proposal.old_system.getForce(3).getUseSwitchingFunction()"
   ]
  },
  {
   "cell_type": "code",
   "execution_count": 119,
   "id": "80c0f439",
   "metadata": {},
   "outputs": [
    {
     "data": {
      "text/plain": [
       "0"
      ]
     },
     "execution_count": 119,
     "metadata": {},
     "output_type": "execute_result"
    }
   ],
   "source": [
    "htf._topology_proposal.old_system.getForce(3).getNonbondedMethod()"
   ]
  },
  {
   "cell_type": "code",
   "execution_count": 120,
   "id": "b4619255",
   "metadata": {},
   "outputs": [
    {
     "data": {
      "text/plain": [
       "False"
      ]
     },
     "execution_count": 120,
     "metadata": {},
     "output_type": "execute_result"
    }
   ],
   "source": [
    "htf._topology_proposal.old_system.getForce(3).getUseDispersionCorrection()"
   ]
  },
  {
   "cell_type": "code",
   "execution_count": 121,
   "id": "21ba9990",
   "metadata": {},
   "outputs": [
    {
     "data": {
      "text/plain": [
       "Quantity(value=1.0, unit=nanometer)"
      ]
     },
     "execution_count": 121,
     "metadata": {},
     "output_type": "execute_result"
    }
   ],
   "source": [
    "htf._topology_proposal.old_system.getForce(3).getCutoffDistance()"
   ]
  },
  {
   "cell_type": "code",
   "execution_count": 34,
   "id": "927cf34a",
   "metadata": {},
   "outputs": [
    {
     "data": {
      "text/plain": [
       "False"
      ]
     },
     "execution_count": 34,
     "metadata": {},
     "output_type": "execute_result"
    }
   ],
   "source": [
    "htf._topology_proposal.new_system.getForce(3).getUseSwitchingFunction()"
   ]
  },
  {
   "cell_type": "code",
   "execution_count": 35,
   "id": "378e855f",
   "metadata": {},
   "outputs": [
    {
     "data": {
      "text/plain": [
       "4"
      ]
     },
     "execution_count": 35,
     "metadata": {},
     "output_type": "execute_result"
    }
   ],
   "source": [
    "htf._topology_proposal.new_system.getForce(3).getNonbondedMethod()"
   ]
  },
  {
   "cell_type": "code",
   "execution_count": 36,
   "id": "9cd0f9b2",
   "metadata": {},
   "outputs": [
    {
     "data": {
      "text/plain": [
       "True"
      ]
     },
     "execution_count": 36,
     "metadata": {},
     "output_type": "execute_result"
    }
   ],
   "source": [
    "htf._topology_proposal.new_system.getForce(3).getUseDispersionCorrection()"
   ]
  },
  {
   "cell_type": "code",
   "execution_count": 37,
   "id": "af834462",
   "metadata": {},
   "outputs": [
    {
     "data": {
      "text/plain": [
       "Quantity(value=1.0, unit=nanometer)"
      ]
     },
     "execution_count": 37,
     "metadata": {},
     "output_type": "execute_result"
    }
   ],
   "source": [
    "htf._topology_proposal.new_system.getForce(3).getCutoffDistance()"
   ]
  },
  {
   "cell_type": "code",
   "execution_count": 40,
   "id": "5bc61d60",
   "metadata": {},
   "outputs": [
    {
     "data": {
      "text/plain": [
       "False"
      ]
     },
     "execution_count": 40,
     "metadata": {},
     "output_type": "execute_result"
    }
   ],
   "source": [
    "htf._topology_proposal.new_system.getForce(3).getExceptionsUsePeriodicBoundaryConditions()"
   ]
  },
  {
   "cell_type": "code",
   "execution_count": 122,
   "id": "4a2f34cf",
   "metadata": {},
   "outputs": [
    {
     "data": {
      "text/plain": [
       "0"
      ]
     },
     "execution_count": 122,
     "metadata": {},
     "output_type": "execute_result"
    }
   ],
   "source": [
    "openmm.NonbondedForce.NoCutoff"
   ]
  },
  {
   "cell_type": "code",
   "execution_count": 123,
   "id": "634637d8",
   "metadata": {},
   "outputs": [
    {
     "data": {
      "text/plain": [
       "0"
      ]
     },
     "execution_count": 123,
     "metadata": {},
     "output_type": "execute_result"
    }
   ],
   "source": [
    "htf.hybrid_system.getForce(3).getNonbondedMethod()"
   ]
  },
  {
   "cell_type": "code",
   "execution_count": 124,
   "id": "c1528433",
   "metadata": {},
   "outputs": [
    {
     "data": {
      "text/plain": [
       "False"
      ]
     },
     "execution_count": 124,
     "metadata": {},
     "output_type": "execute_result"
    }
   ],
   "source": [
    "htf.hybrid_system.getForce(3).getUseSwitchingFunction()"
   ]
  },
  {
   "cell_type": "code",
   "execution_count": 125,
   "id": "0320fc41",
   "metadata": {},
   "outputs": [
    {
     "data": {
      "text/plain": [
       "False"
      ]
     },
     "execution_count": 125,
     "metadata": {},
     "output_type": "execute_result"
    }
   ],
   "source": [
    "htf.hybrid_system.getForce(3).getUseLongRangeCorrection()"
   ]
  },
  {
   "cell_type": "code",
   "execution_count": 126,
   "id": "6997a0c7",
   "metadata": {},
   "outputs": [
    {
     "data": {
      "text/plain": [
       "Quantity(value=1.0, unit=nanometer)"
      ]
     },
     "execution_count": 126,
     "metadata": {},
     "output_type": "execute_result"
    }
   ],
   "source": [
    "htf.hybrid_system.getForce(3).getCutoffDistance()"
   ]
  },
  {
   "cell_type": "code",
   "execution_count": 64,
   "id": "187410b6",
   "metadata": {},
   "outputs": [],
   "source": [
    "# htf.hybrid_system.getForce(3).setCutoffDistance(1.0*unit.nanometer)"
   ]
  },
  {
   "cell_type": "code",
   "execution_count": 127,
   "id": "3e447d8f",
   "metadata": {},
   "outputs": [
    {
     "data": {
      "text/plain": [
       "0"
      ]
     },
     "execution_count": 127,
     "metadata": {},
     "output_type": "execute_result"
    }
   ],
   "source": [
    "htf.hybrid_system.getForce(4).getNonbondedMethod()"
   ]
  },
  {
   "cell_type": "code",
   "execution_count": 128,
   "id": "bdbf4988",
   "metadata": {},
   "outputs": [
    {
     "data": {
      "text/plain": [
       "False"
      ]
     },
     "execution_count": 128,
     "metadata": {},
     "output_type": "execute_result"
    }
   ],
   "source": [
    "htf.hybrid_system.getForce(4).getUseSwitchingFunction()"
   ]
  },
  {
   "cell_type": "code",
   "execution_count": 80,
   "id": "c414c927",
   "metadata": {},
   "outputs": [],
   "source": [
    "# htf.hybrid_system.getForce(4).setUseSwitchingFunction(False)"
   ]
  },
  {
   "cell_type": "code",
   "execution_count": 129,
   "id": "b070286f",
   "metadata": {},
   "outputs": [
    {
     "data": {
      "text/plain": [
       "False"
      ]
     },
     "execution_count": 129,
     "metadata": {},
     "output_type": "execute_result"
    }
   ],
   "source": [
    "htf.hybrid_system.getForce(4).getUseSwitchingFunction()"
   ]
  },
  {
   "cell_type": "code",
   "execution_count": 130,
   "id": "bd49a6fd",
   "metadata": {},
   "outputs": [
    {
     "data": {
      "text/plain": [
       "False"
      ]
     },
     "execution_count": 130,
     "metadata": {},
     "output_type": "execute_result"
    }
   ],
   "source": [
    "htf.hybrid_system.getForce(4).getUseLongRangeCorrection()"
   ]
  },
  {
   "cell_type": "code",
   "execution_count": 131,
   "id": "e2c31c06",
   "metadata": {},
   "outputs": [
    {
     "data": {
      "text/plain": [
       "Quantity(value=1.0, unit=nanometer)"
      ]
     },
     "execution_count": 131,
     "metadata": {},
     "output_type": "execute_result"
    }
   ],
   "source": [
    "htf.hybrid_system.getForce(4).getCutoffDistance()"
   ]
  },
  {
   "cell_type": "code",
   "execution_count": 48,
   "id": "b712c97d",
   "metadata": {},
   "outputs": [],
   "source": [
    "# htf.hybrid_system.getForce(4).setCutoffDistance(1.0*unit.nanometer)"
   ]
  },
  {
   "cell_type": "code",
   "execution_count": 116,
   "id": "7e151497",
   "metadata": {},
   "outputs": [
    {
     "name": "stdout",
     "output_type": "stream",
     "text": [
      "0 (1.0, 0.0, 1.0, 0.0, 0.0, 1.0, 0.1123, 0.1123)\n",
      "1 (1.0, 0.0, 1.0, 0.0, 0.0, 1.0, -0.3662, -0.3662)\n",
      "2 (1.0, 0.0, 1.0, 0.0, 0.0, 1.0, 0.1123, 0.1123)\n",
      "3 (1.0, 0.0, 1.0, 0.0, 0.0, 1.0, 0.1123, 0.1123)\n",
      "4 (1.0, 0.0, 1.0, 0.0, 0.0, 1.0, 0.5972, 0.5972)\n",
      "5 (1.0, 0.0, 1.0, 0.0, 0.0, 1.0, -0.5679, -0.5679)\n",
      "6 (1.0, 0.0, 1.0, 0.0, 0.0, 1.0, -0.4157, -0.4157)\n",
      "7 (1.0, 0.0, 1.0, 0.0, 0.0, 1.0, 0.2719, 0.2719)\n",
      "8 (1.0, 0.0, 1.0, 0.0, 0.0, 1.0, 0.0337, -0.0389)\n",
      "9 (1.0, 0.0, 1.0, 0.0, 0.0, 1.0, 0.0823, 0.1007)\n",
      "10 (1.0, 0.0, 1.0, 1.0, 0.0, 0.0, -0.1825, -0.0)\n",
      "11 (1.0, 0.0, 1.0, 1.0, 0.0, 0.0, 0.0603, 0.0)\n",
      "12 (1.0, 0.0, 1.0, 1.0, 0.0, 0.0, 0.0603, 0.0)\n",
      "13 (1.0, 0.0, 1.0, 1.0, 0.0, 0.0, 0.0603, 0.0)\n",
      "14 (1.0, 0.0, 1.0, 0.0, 0.0, 1.0, 0.5973, 0.5973)\n",
      "15 (1.0, 0.0, 1.0, 0.0, 0.0, 1.0, -0.5679, -0.5679)\n",
      "16 (1.0, 0.0, 1.0, 0.0, 0.0, 1.0, -0.4157, -0.4157)\n",
      "17 (1.0, 0.0, 1.0, 0.0, 0.0, 1.0, 0.2719, 0.2719)\n",
      "18 (1.0, 0.0, 1.0, 0.0, 0.0, 1.0, -0.149, -0.149)\n",
      "19 (1.0, 0.0, 1.0, 0.0, 0.0, 1.0, 0.0976, 0.0976)\n",
      "20 (1.0, 0.0, 1.0, 0.0, 0.0, 1.0, 0.0976, 0.0976)\n",
      "21 (1.0, 0.0, 1.0, 0.0, 0.0, 1.0, 0.0976, 0.0976)\n",
      "22 (1.0, 1.0, 0.0, 0.0, 0.0, 0.0, -0.0, -0.0)\n",
      "23 (1.0, 1.0, 0.0, 0.0, 0.0, 0.0, 0.0, 0.0)\n",
      "24 (1.0, 1.0, 0.0, 0.0, 0.0, 0.0, 0.0, 0.0)\n",
      "25 (1.0, 1.0, 0.0, 0.0, 0.0, 0.0, -0.0, -0.0)\n",
      "26 (1.0, 1.0, 0.0, 0.0, 0.0, 0.0, 0.0, 0.0)\n",
      "27 (1.0, 1.0, 0.0, 0.0, 0.0, 0.0, 0.0, 0.0)\n",
      "28 (1.0, 1.0, 0.0, 0.0, 0.0, 0.0, -0.0, -0.0)\n",
      "29 (1.0, 1.0, 0.0, 0.0, 0.0, 0.0, 0.0, 0.0)\n",
      "30 (1.0, 1.0, 0.0, 0.0, 0.0, 0.0, 0.0, 0.0)\n",
      "31 (1.0, 1.0, 0.0, 0.0, 0.0, 0.0, -0.0, -0.0)\n",
      "32 (1.0, 1.0, 0.0, 0.0, 0.0, 0.0, 0.0, 0.0)\n",
      "33 (1.0, 1.0, 0.0, 0.0, 0.0, 0.0, 0.0, 0.0)\n",
      "34 (1.0, 1.0, 0.0, 0.0, 0.0, 0.0, -0.0, -0.0)\n",
      "35 (1.0, 1.0, 0.0, 0.0, 0.0, 0.0, 0.0, 0.0)\n",
      "36 (1.0, 1.0, 0.0, 0.0, 0.0, 0.0, 0.0, 0.0)\n",
      "37 (1.0, 1.0, 0.0, 0.0, 0.0, 0.0, -0.0, -0.0)\n",
      "38 (1.0, 1.0, 0.0, 0.0, 0.0, 0.0, 0.0, 0.0)\n",
      "39 (1.0, 1.0, 0.0, 0.0, 0.0, 0.0, 0.0, 0.0)\n",
      "40 (1.0, 1.0, 0.0, 0.0, 0.0, 0.0, -0.0, -0.0)\n",
      "41 (1.0, 1.0, 0.0, 0.0, 0.0, 0.0, 0.0, 0.0)\n",
      "42 (1.0, 1.0, 0.0, 0.0, 0.0, 0.0, 0.0, 0.0)\n",
      "43 (1.0, 1.0, 0.0, 0.0, 0.0, 0.0, -0.0, -0.0)\n",
      "44 (1.0, 1.0, 0.0, 0.0, 0.0, 0.0, 0.0, 0.0)\n",
      "45 (1.0, 1.0, 0.0, 0.0, 0.0, 0.0, 0.0, 0.0)\n",
      "46 (1.0, 1.0, 0.0, 0.0, 0.0, 0.0, -0.0, -0.0)\n",
      "47 (1.0, 1.0, 0.0, 0.0, 0.0, 0.0, 0.0, 0.0)\n",
      "48 (1.0, 1.0, 0.0, 0.0, 0.0, 0.0, 0.0, 0.0)\n",
      "49 (1.0, 1.0, 0.0, 0.0, 0.0, 0.0, -0.0, -0.0)\n",
      "50 (1.0, 1.0, 0.0, 0.0, 0.0, 0.0, 0.0, 0.0)\n",
      "51 (1.0, 1.0, 0.0, 0.0, 0.0, 0.0, 0.0, 0.0)\n",
      "52 (1.0, 1.0, 0.0, 0.0, 0.0, 0.0, -0.0, -0.0)\n",
      "53 (1.0, 1.0, 0.0, 0.0, 0.0, 0.0, 0.0, 0.0)\n",
      "54 (1.0, 1.0, 0.0, 0.0, 0.0, 0.0, 0.0, 0.0)\n",
      "55 (1.0, 1.0, 0.0, 0.0, 0.0, 0.0, -0.0, -0.0)\n",
      "56 (1.0, 1.0, 0.0, 0.0, 0.0, 0.0, 0.0, 0.0)\n",
      "57 (1.0, 1.0, 0.0, 0.0, 0.0, 0.0, 0.0, 0.0)\n",
      "58 (1.0, 1.0, 0.0, 0.0, 0.0, 0.0, -0.0, -0.0)\n",
      "59 (1.0, 1.0, 0.0, 0.0, 0.0, 0.0, 0.0, 0.0)\n",
      "60 (1.0, 1.0, 0.0, 0.0, 0.0, 0.0, 0.0, 0.0)\n",
      "61 (1.0, 1.0, 0.0, 0.0, 0.0, 0.0, -0.0, -0.0)\n",
      "62 (1.0, 1.0, 0.0, 0.0, 0.0, 0.0, 0.0, 0.0)\n",
      "63 (1.0, 1.0, 0.0, 0.0, 0.0, 0.0, 0.0, 0.0)\n",
      "64 (1.0, 1.0, 0.0, 0.0, 0.0, 0.0, -0.0, -0.0)\n",
      "65 (1.0, 1.0, 0.0, 0.0, 0.0, 0.0, 0.0, 0.0)\n",
      "66 (1.0, 1.0, 0.0, 0.0, 0.0, 0.0, 0.0, 0.0)\n",
      "67 (1.0, 1.0, 0.0, 0.0, 0.0, 0.0, -0.0, -0.0)\n",
      "68 (1.0, 1.0, 0.0, 0.0, 0.0, 0.0, 0.0, 0.0)\n",
      "69 (1.0, 1.0, 0.0, 0.0, 0.0, 0.0, 0.0, 0.0)\n",
      "70 (1.0, 1.0, 0.0, 0.0, 0.0, 0.0, -0.0, -0.0)\n",
      "71 (1.0, 1.0, 0.0, 0.0, 0.0, 0.0, 0.0, 0.0)\n",
      "72 (1.0, 1.0, 0.0, 0.0, 0.0, 0.0, 0.0, 0.0)\n",
      "73 (1.0, 1.0, 0.0, 0.0, 0.0, 0.0, -0.0, -0.0)\n",
      "74 (1.0, 1.0, 0.0, 0.0, 0.0, 0.0, 0.0, 0.0)\n",
      "75 (1.0, 1.0, 0.0, 0.0, 0.0, 0.0, 0.0, 0.0)\n",
      "76 (1.0, 1.0, 0.0, 0.0, 0.0, 0.0, -0.0, -0.0)\n",
      "77 (1.0, 1.0, 0.0, 0.0, 0.0, 0.0, 0.0, 0.0)\n",
      "78 (1.0, 1.0, 0.0, 0.0, 0.0, 0.0, 0.0, 0.0)\n",
      "79 (1.0, 1.0, 0.0, 0.0, 0.0, 0.0, -0.0, -0.0)\n",
      "80 (1.0, 1.0, 0.0, 0.0, 0.0, 0.0, 0.0, 0.0)\n",
      "81 (1.0, 1.0, 0.0, 0.0, 0.0, 0.0, 0.0, 0.0)\n",
      "82 (1.0, 1.0, 0.0, 0.0, 0.0, 0.0, -0.0, -0.0)\n",
      "83 (1.0, 1.0, 0.0, 0.0, 0.0, 0.0, 0.0, 0.0)\n",
      "84 (1.0, 1.0, 0.0, 0.0, 0.0, 0.0, 0.0, 0.0)\n",
      "85 (1.0, 1.0, 0.0, 0.0, 0.0, 0.0, -0.0, -0.0)\n",
      "86 (1.0, 1.0, 0.0, 0.0, 0.0, 0.0, 0.0, 0.0)\n",
      "87 (1.0, 1.0, 0.0, 0.0, 0.0, 0.0, 0.0, 0.0)\n",
      "88 (1.0, 1.0, 0.0, 0.0, 0.0, 0.0, -0.0, -0.0)\n",
      "89 (1.0, 1.0, 0.0, 0.0, 0.0, 0.0, 0.0, 0.0)\n",
      "90 (1.0, 1.0, 0.0, 0.0, 0.0, 0.0, 0.0, 0.0)\n",
      "91 (1.0, 1.0, 0.0, 0.0, 0.0, 0.0, -0.0, -0.0)\n",
      "92 (1.0, 1.0, 0.0, 0.0, 0.0, 0.0, 0.0, 0.0)\n",
      "93 (1.0, 1.0, 0.0, 0.0, 0.0, 0.0, 0.0, 0.0)\n",
      "94 (1.0, 1.0, 0.0, 0.0, 0.0, 0.0, -0.0, -0.0)\n",
      "95 (1.0, 1.0, 0.0, 0.0, 0.0, 0.0, 0.0, 0.0)\n",
      "96 (1.0, 1.0, 0.0, 0.0, 0.0, 0.0, 0.0, 0.0)\n",
      "97 (1.0, 1.0, 0.0, 0.0, 0.0, 0.0, -0.0, -0.0)\n",
      "98 (1.0, 1.0, 0.0, 0.0, 0.0, 0.0, 0.0, 0.0)\n",
      "99 (1.0, 1.0, 0.0, 0.0, 0.0, 0.0, 0.0, 0.0)\n",
      "100 (1.0, 1.0, 0.0, 0.0, 0.0, 0.0, -0.0, -0.0)\n",
      "101 (1.0, 1.0, 0.0, 0.0, 0.0, 0.0, 0.0, 0.0)\n",
      "102 (1.0, 1.0, 0.0, 0.0, 0.0, 0.0, 0.0, 0.0)\n",
      "103 (1.0, 1.0, 0.0, 0.0, 0.0, 0.0, -0.0, -0.0)\n",
      "104 (1.0, 1.0, 0.0, 0.0, 0.0, 0.0, 0.0, 0.0)\n",
      "105 (1.0, 1.0, 0.0, 0.0, 0.0, 0.0, 0.0, 0.0)\n",
      "106 (1.0, 1.0, 0.0, 0.0, 0.0, 0.0, -0.0, -0.0)\n",
      "107 (1.0, 1.0, 0.0, 0.0, 0.0, 0.0, 0.0, 0.0)\n",
      "108 (1.0, 1.0, 0.0, 0.0, 0.0, 0.0, 0.0, 0.0)\n",
      "109 (1.0, 1.0, 0.0, 0.0, 0.0, 0.0, -0.0, -0.0)\n",
      "110 (1.0, 1.0, 0.0, 0.0, 0.0, 0.0, 0.0, 0.0)\n",
      "111 (1.0, 1.0, 0.0, 0.0, 0.0, 0.0, 0.0, 0.0)\n",
      "112 (1.0, 1.0, 0.0, 0.0, 0.0, 0.0, -0.0, -0.0)\n",
      "113 (1.0, 1.0, 0.0, 0.0, 0.0, 0.0, 0.0, 0.0)\n",
      "114 (1.0, 1.0, 0.0, 0.0, 0.0, 0.0, 0.0, 0.0)\n",
      "115 (1.0, 1.0, 0.0, 0.0, 0.0, 0.0, -0.0, -0.0)\n",
      "116 (1.0, 1.0, 0.0, 0.0, 0.0, 0.0, 0.0, 0.0)\n",
      "117 (1.0, 1.0, 0.0, 0.0, 0.0, 0.0, 0.0, 0.0)\n",
      "118 (1.0, 1.0, 0.0, 0.0, 0.0, 0.0, -0.0, -0.0)\n",
      "119 (1.0, 1.0, 0.0, 0.0, 0.0, 0.0, 0.0, 0.0)\n",
      "120 (1.0, 1.0, 0.0, 0.0, 0.0, 0.0, 0.0, 0.0)\n",
      "121 (1.0, 1.0, 0.0, 0.0, 0.0, 0.0, -0.0, -0.0)\n",
      "122 (1.0, 1.0, 0.0, 0.0, 0.0, 0.0, 0.0, 0.0)\n",
      "123 (1.0, 1.0, 0.0, 0.0, 0.0, 0.0, 0.0, 0.0)\n",
      "124 (1.0, 1.0, 0.0, 0.0, 0.0, 0.0, -0.0, -0.0)\n",
      "125 (1.0, 1.0, 0.0, 0.0, 0.0, 0.0, 0.0, 0.0)\n",
      "126 (1.0, 1.0, 0.0, 0.0, 0.0, 0.0, 0.0, 0.0)\n",
      "127 (1.0, 1.0, 0.0, 0.0, 0.0, 0.0, -0.0, -0.0)\n",
      "128 (1.0, 1.0, 0.0, 0.0, 0.0, 0.0, 0.0, 0.0)\n",
      "129 (1.0, 1.0, 0.0, 0.0, 0.0, 0.0, 0.0, 0.0)\n",
      "130 (1.0, 1.0, 0.0, 0.0, 0.0, 0.0, -0.0, -0.0)\n",
      "131 (1.0, 1.0, 0.0, 0.0, 0.0, 0.0, 0.0, 0.0)\n",
      "132 (1.0, 1.0, 0.0, 0.0, 0.0, 0.0, 0.0, 0.0)\n",
      "133 (1.0, 1.0, 0.0, 0.0, 0.0, 0.0, -0.0, -0.0)\n",
      "134 (1.0, 1.0, 0.0, 0.0, 0.0, 0.0, 0.0, 0.0)\n",
      "135 (1.0, 1.0, 0.0, 0.0, 0.0, 0.0, 0.0, 0.0)\n",
      "136 (1.0, 1.0, 0.0, 0.0, 0.0, 0.0, -0.0, -0.0)\n",
      "137 (1.0, 1.0, 0.0, 0.0, 0.0, 0.0, 0.0, 0.0)\n",
      "138 (1.0, 1.0, 0.0, 0.0, 0.0, 0.0, 0.0, 0.0)\n",
      "139 (1.0, 1.0, 0.0, 0.0, 0.0, 0.0, -0.0, -0.0)\n",
      "140 (1.0, 1.0, 0.0, 0.0, 0.0, 0.0, 0.0, 0.0)\n",
      "141 (1.0, 1.0, 0.0, 0.0, 0.0, 0.0, 0.0, 0.0)\n",
      "142 (1.0, 1.0, 0.0, 0.0, 0.0, 0.0, -0.0, -0.0)\n",
      "143 (1.0, 1.0, 0.0, 0.0, 0.0, 0.0, 0.0, 0.0)\n",
      "144 (1.0, 1.0, 0.0, 0.0, 0.0, 0.0, 0.0, 0.0)\n",
      "145 (1.0, 1.0, 0.0, 0.0, 0.0, 0.0, -0.0, -0.0)\n",
      "146 (1.0, 1.0, 0.0, 0.0, 0.0, 0.0, 0.0, 0.0)\n",
      "147 (1.0, 1.0, 0.0, 0.0, 0.0, 0.0, 0.0, 0.0)\n",
      "148 (1.0, 1.0, 0.0, 0.0, 0.0, 0.0, -0.0, -0.0)\n",
      "149 (1.0, 1.0, 0.0, 0.0, 0.0, 0.0, 0.0, 0.0)\n",
      "150 (1.0, 1.0, 0.0, 0.0, 0.0, 0.0, 0.0, 0.0)\n",
      "151 (1.0, 1.0, 0.0, 0.0, 0.0, 0.0, -0.0, -0.0)\n",
      "152 (1.0, 1.0, 0.0, 0.0, 0.0, 0.0, 0.0, 0.0)\n",
      "153 (1.0, 1.0, 0.0, 0.0, 0.0, 0.0, 0.0, 0.0)\n",
      "154 (1.0, 1.0, 0.0, 0.0, 0.0, 0.0, -0.0, -0.0)\n",
      "155 (1.0, 1.0, 0.0, 0.0, 0.0, 0.0, 0.0, 0.0)\n",
      "156 (1.0, 1.0, 0.0, 0.0, 0.0, 0.0, 0.0, 0.0)\n",
      "157 (1.0, 1.0, 0.0, 0.0, 0.0, 0.0, -0.0, -0.0)\n",
      "158 (1.0, 1.0, 0.0, 0.0, 0.0, 0.0, 0.0, 0.0)\n",
      "159 (1.0, 1.0, 0.0, 0.0, 0.0, 0.0, 0.0, 0.0)\n",
      "160 (1.0, 1.0, 0.0, 0.0, 0.0, 0.0, -0.0, -0.0)\n",
      "161 (1.0, 1.0, 0.0, 0.0, 0.0, 0.0, 0.0, 0.0)\n",
      "162 (1.0, 1.0, 0.0, 0.0, 0.0, 0.0, 0.0, 0.0)\n",
      "163 (1.0, 1.0, 0.0, 0.0, 0.0, 0.0, -0.0, -0.0)\n",
      "164 (1.0, 1.0, 0.0, 0.0, 0.0, 0.0, 0.0, 0.0)\n",
      "165 (1.0, 1.0, 0.0, 0.0, 0.0, 0.0, 0.0, 0.0)\n",
      "166 (1.0, 1.0, 0.0, 0.0, 0.0, 0.0, -0.0, -0.0)\n",
      "167 (1.0, 1.0, 0.0, 0.0, 0.0, 0.0, 0.0, 0.0)\n",
      "168 (1.0, 1.0, 0.0, 0.0, 0.0, 0.0, 0.0, 0.0)\n",
      "169 (1.0, 1.0, 0.0, 0.0, 0.0, 0.0, -0.0, -0.0)\n",
      "170 (1.0, 1.0, 0.0, 0.0, 0.0, 0.0, 0.0, 0.0)\n",
      "171 (1.0, 1.0, 0.0, 0.0, 0.0, 0.0, 0.0, 0.0)\n",
      "172 (1.0, 1.0, 0.0, 0.0, 0.0, 0.0, -0.0, -0.0)\n",
      "173 (1.0, 1.0, 0.0, 0.0, 0.0, 0.0, 0.0, 0.0)\n",
      "174 (1.0, 1.0, 0.0, 0.0, 0.0, 0.0, 0.0, 0.0)\n",
      "175 (1.0, 1.0, 0.0, 0.0, 0.0, 0.0, -0.0, -0.0)\n",
      "176 (1.0, 1.0, 0.0, 0.0, 0.0, 0.0, 0.0, 0.0)\n",
      "177 (1.0, 1.0, 0.0, 0.0, 0.0, 0.0, 0.0, 0.0)\n",
      "178 (1.0, 1.0, 0.0, 0.0, 0.0, 0.0, -0.0, -0.0)\n",
      "179 (1.0, 1.0, 0.0, 0.0, 0.0, 0.0, 0.0, 0.0)\n",
      "180 (1.0, 1.0, 0.0, 0.0, 0.0, 0.0, 0.0, 0.0)\n",
      "181 (1.0, 1.0, 0.0, 0.0, 0.0, 0.0, -0.0, -0.0)\n",
      "182 (1.0, 1.0, 0.0, 0.0, 0.0, 0.0, 0.0, 0.0)\n",
      "183 (1.0, 1.0, 0.0, 0.0, 0.0, 0.0, 0.0, 0.0)\n",
      "184 (1.0, 1.0, 0.0, 0.0, 0.0, 0.0, -0.0, -0.0)\n",
      "185 (1.0, 1.0, 0.0, 0.0, 0.0, 0.0, 0.0, 0.0)\n",
      "186 (1.0, 1.0, 0.0, 0.0, 0.0, 0.0, 0.0, 0.0)\n",
      "187 (1.0, 1.0, 0.0, 0.0, 0.0, 0.0, -0.0, -0.0)\n",
      "188 (1.0, 1.0, 0.0, 0.0, 0.0, 0.0, 0.0, 0.0)\n",
      "189 (1.0, 1.0, 0.0, 0.0, 0.0, 0.0, 0.0, 0.0)\n",
      "190 (1.0, 1.0, 0.0, 0.0, 0.0, 0.0, -0.0, -0.0)\n",
      "191 (1.0, 1.0, 0.0, 0.0, 0.0, 0.0, 0.0, 0.0)\n",
      "192 (1.0, 1.0, 0.0, 0.0, 0.0, 0.0, 0.0, 0.0)\n",
      "193 (1.0, 1.0, 0.0, 0.0, 0.0, 0.0, -0.0, -0.0)\n",
      "194 (1.0, 1.0, 0.0, 0.0, 0.0, 0.0, 0.0, 0.0)\n",
      "195 (1.0, 1.0, 0.0, 0.0, 0.0, 0.0, 0.0, 0.0)\n",
      "196 (1.0, 1.0, 0.0, 0.0, 0.0, 0.0, -0.0, -0.0)\n",
      "197 (1.0, 1.0, 0.0, 0.0, 0.0, 0.0, 0.0, 0.0)\n",
      "198 (1.0, 1.0, 0.0, 0.0, 0.0, 0.0, 0.0, 0.0)\n",
      "199 (1.0, 1.0, 0.0, 0.0, 0.0, 0.0, -0.0, -0.0)\n",
      "200 (1.0, 1.0, 0.0, 0.0, 0.0, 0.0, 0.0, 0.0)\n",
      "201 (1.0, 1.0, 0.0, 0.0, 0.0, 0.0, 0.0, 0.0)\n",
      "202 (1.0, 1.0, 0.0, 0.0, 0.0, 0.0, -0.0, -0.0)\n",
      "203 (1.0, 1.0, 0.0, 0.0, 0.0, 0.0, 0.0, 0.0)\n",
      "204 (1.0, 1.0, 0.0, 0.0, 0.0, 0.0, 0.0, 0.0)\n",
      "205 (1.0, 1.0, 0.0, 0.0, 0.0, 0.0, -0.0, -0.0)\n",
      "206 (1.0, 1.0, 0.0, 0.0, 0.0, 0.0, 0.0, 0.0)\n",
      "207 (1.0, 1.0, 0.0, 0.0, 0.0, 0.0, 0.0, 0.0)\n",
      "208 (1.0, 1.0, 0.0, 0.0, 0.0, 0.0, -0.0, -0.0)\n",
      "209 (1.0, 1.0, 0.0, 0.0, 0.0, 0.0, 0.0, 0.0)\n",
      "210 (1.0, 1.0, 0.0, 0.0, 0.0, 0.0, 0.0, 0.0)\n",
      "211 (1.0, 1.0, 0.0, 0.0, 0.0, 0.0, -0.0, -0.0)\n",
      "212 (1.0, 1.0, 0.0, 0.0, 0.0, 0.0, 0.0, 0.0)\n",
      "213 (1.0, 1.0, 0.0, 0.0, 0.0, 0.0, 0.0, 0.0)\n",
      "214 (1.0, 1.0, 0.0, 0.0, 0.0, 0.0, -0.0, -0.0)\n",
      "215 (1.0, 1.0, 0.0, 0.0, 0.0, 0.0, 0.0, 0.0)\n",
      "216 (1.0, 1.0, 0.0, 0.0, 0.0, 0.0, 0.0, 0.0)\n",
      "217 (1.0, 1.0, 0.0, 0.0, 0.0, 0.0, -0.0, -0.0)\n",
      "218 (1.0, 1.0, 0.0, 0.0, 0.0, 0.0, 0.0, 0.0)\n",
      "219 (1.0, 1.0, 0.0, 0.0, 0.0, 0.0, 0.0, 0.0)\n",
      "220 (1.0, 1.0, 0.0, 0.0, 0.0, 0.0, -0.0, -0.0)\n",
      "221 (1.0, 1.0, 0.0, 0.0, 0.0, 0.0, 0.0, 0.0)\n",
      "222 (1.0, 1.0, 0.0, 0.0, 0.0, 0.0, 0.0, 0.0)\n",
      "223 (1.0, 1.0, 0.0, 0.0, 0.0, 0.0, -0.0, -0.0)\n",
      "224 (1.0, 1.0, 0.0, 0.0, 0.0, 0.0, 0.0, 0.0)\n",
      "225 (1.0, 1.0, 0.0, 0.0, 0.0, 0.0, 0.0, 0.0)\n",
      "226 (1.0, 1.0, 0.0, 0.0, 0.0, 0.0, -0.0, -0.0)\n",
      "227 (1.0, 1.0, 0.0, 0.0, 0.0, 0.0, 0.0, 0.0)\n",
      "228 (1.0, 1.0, 0.0, 0.0, 0.0, 0.0, 0.0, 0.0)\n",
      "229 (1.0, 1.0, 0.0, 0.0, 0.0, 0.0, -0.0, -0.0)\n",
      "230 (1.0, 1.0, 0.0, 0.0, 0.0, 0.0, 0.0, 0.0)\n",
      "231 (1.0, 1.0, 0.0, 0.0, 0.0, 0.0, 0.0, 0.0)\n",
      "232 (1.0, 1.0, 0.0, 0.0, 0.0, 0.0, -0.0, -0.0)\n",
      "233 (1.0, 1.0, 0.0, 0.0, 0.0, 0.0, 0.0, 0.0)\n",
      "234 (1.0, 1.0, 0.0, 0.0, 0.0, 0.0, 0.0, 0.0)\n",
      "235 (1.0, 1.0, 0.0, 0.0, 0.0, 0.0, -0.0, -0.0)\n",
      "236 (1.0, 1.0, 0.0, 0.0, 0.0, 0.0, 0.0, 0.0)\n",
      "237 (1.0, 1.0, 0.0, 0.0, 0.0, 0.0, 0.0, 0.0)\n",
      "238 (1.0, 1.0, 0.0, 0.0, 0.0, 0.0, -0.0, -0.0)\n",
      "239 (1.0, 1.0, 0.0, 0.0, 0.0, 0.0, 0.0, 0.0)\n",
      "240 (1.0, 1.0, 0.0, 0.0, 0.0, 0.0, 0.0, 0.0)\n",
      "241 (1.0, 1.0, 0.0, 0.0, 0.0, 0.0, -0.0, -0.0)\n",
      "242 (1.0, 1.0, 0.0, 0.0, 0.0, 0.0, 0.0, 0.0)\n",
      "243 (1.0, 1.0, 0.0, 0.0, 0.0, 0.0, 0.0, 0.0)\n",
      "244 (1.0, 1.0, 0.0, 0.0, 0.0, 0.0, -0.0, -0.0)\n",
      "245 (1.0, 1.0, 0.0, 0.0, 0.0, 0.0, 0.0, 0.0)\n",
      "246 (1.0, 1.0, 0.0, 0.0, 0.0, 0.0, 0.0, 0.0)\n",
      "247 (1.0, 1.0, 0.0, 0.0, 0.0, 0.0, -0.0, -0.0)\n",
      "248 (1.0, 1.0, 0.0, 0.0, 0.0, 0.0, 0.0, 0.0)\n",
      "249 (1.0, 1.0, 0.0, 0.0, 0.0, 0.0, 0.0, 0.0)\n",
      "250 (1.0, 1.0, 0.0, 0.0, 0.0, 0.0, -0.0, -0.0)\n",
      "251 (1.0, 1.0, 0.0, 0.0, 0.0, 0.0, 0.0, 0.0)\n",
      "252 (1.0, 1.0, 0.0, 0.0, 0.0, 0.0, 0.0, 0.0)\n",
      "253 (1.0, 1.0, 0.0, 0.0, 0.0, 0.0, -0.0, -0.0)\n",
      "254 (1.0, 1.0, 0.0, 0.0, 0.0, 0.0, 0.0, 0.0)\n",
      "255 (1.0, 1.0, 0.0, 0.0, 0.0, 0.0, 0.0, 0.0)\n",
      "256 (1.0, 1.0, 0.0, 0.0, 0.0, 0.0, -0.0, -0.0)\n",
      "257 (1.0, 1.0, 0.0, 0.0, 0.0, 0.0, 0.0, 0.0)\n",
      "258 (1.0, 1.0, 0.0, 0.0, 0.0, 0.0, 0.0, 0.0)\n",
      "259 (1.0, 1.0, 0.0, 0.0, 0.0, 0.0, -0.0, -0.0)\n",
      "260 (1.0, 1.0, 0.0, 0.0, 0.0, 0.0, 0.0, 0.0)\n",
      "261 (1.0, 1.0, 0.0, 0.0, 0.0, 0.0, 0.0, 0.0)\n",
      "262 (1.0, 1.0, 0.0, 0.0, 0.0, 0.0, -0.0, -0.0)\n",
      "263 (1.0, 1.0, 0.0, 0.0, 0.0, 0.0, 0.0, 0.0)\n",
      "264 (1.0, 1.0, 0.0, 0.0, 0.0, 0.0, 0.0, 0.0)\n",
      "265 (1.0, 1.0, 0.0, 0.0, 0.0, 0.0, -0.0, -0.0)\n",
      "266 (1.0, 1.0, 0.0, 0.0, 0.0, 0.0, 0.0, 0.0)\n",
      "267 (1.0, 1.0, 0.0, 0.0, 0.0, 0.0, 0.0, 0.0)\n",
      "268 (1.0, 1.0, 0.0, 0.0, 0.0, 0.0, -0.0, -0.0)\n",
      "269 (1.0, 1.0, 0.0, 0.0, 0.0, 0.0, 0.0, 0.0)\n",
      "270 (1.0, 1.0, 0.0, 0.0, 0.0, 0.0, 0.0, 0.0)\n",
      "271 (1.0, 1.0, 0.0, 0.0, 0.0, 0.0, -0.0, -0.0)\n",
      "272 (1.0, 1.0, 0.0, 0.0, 0.0, 0.0, 0.0, 0.0)\n",
      "273 (1.0, 1.0, 0.0, 0.0, 0.0, 0.0, 0.0, 0.0)\n",
      "274 (1.0, 1.0, 0.0, 0.0, 0.0, 0.0, -0.0, -0.0)\n",
      "275 (1.0, 1.0, 0.0, 0.0, 0.0, 0.0, 0.0, 0.0)\n",
      "276 (1.0, 1.0, 0.0, 0.0, 0.0, 0.0, 0.0, 0.0)\n",
      "277 (1.0, 1.0, 0.0, 0.0, 0.0, 0.0, -0.0, -0.0)\n",
      "278 (1.0, 1.0, 0.0, 0.0, 0.0, 0.0, 0.0, 0.0)\n",
      "279 (1.0, 1.0, 0.0, 0.0, 0.0, 0.0, 0.0, 0.0)\n",
      "280 (1.0, 1.0, 0.0, 0.0, 0.0, 0.0, -0.0, -0.0)\n",
      "281 (1.0, 1.0, 0.0, 0.0, 0.0, 0.0, 0.0, 0.0)\n",
      "282 (1.0, 1.0, 0.0, 0.0, 0.0, 0.0, 0.0, 0.0)\n",
      "283 (1.0, 1.0, 0.0, 0.0, 0.0, 0.0, -0.0, -0.0)\n",
      "284 (1.0, 1.0, 0.0, 0.0, 0.0, 0.0, 0.0, 0.0)\n",
      "285 (1.0, 1.0, 0.0, 0.0, 0.0, 0.0, 0.0, 0.0)\n",
      "286 (1.0, 1.0, 0.0, 0.0, 0.0, 0.0, -0.0, -0.0)\n",
      "287 (1.0, 1.0, 0.0, 0.0, 0.0, 0.0, 0.0, 0.0)\n",
      "288 (1.0, 1.0, 0.0, 0.0, 0.0, 0.0, 0.0, 0.0)\n",
      "289 (1.0, 1.0, 0.0, 0.0, 0.0, 0.0, -0.0, -0.0)\n",
      "290 (1.0, 1.0, 0.0, 0.0, 0.0, 0.0, 0.0, 0.0)\n",
      "291 (1.0, 1.0, 0.0, 0.0, 0.0, 0.0, 0.0, 0.0)\n",
      "292 (1.0, 1.0, 0.0, 0.0, 0.0, 0.0, -0.0, -0.0)\n",
      "293 (1.0, 1.0, 0.0, 0.0, 0.0, 0.0, 0.0, 0.0)\n",
      "294 (1.0, 1.0, 0.0, 0.0, 0.0, 0.0, 0.0, 0.0)\n",
      "295 (1.0, 1.0, 0.0, 0.0, 0.0, 0.0, -0.0, -0.0)\n",
      "296 (1.0, 1.0, 0.0, 0.0, 0.0, 0.0, 0.0, 0.0)\n",
      "297 (1.0, 1.0, 0.0, 0.0, 0.0, 0.0, 0.0, 0.0)\n",
      "298 (1.0, 1.0, 0.0, 0.0, 0.0, 0.0, -0.0, -0.0)\n",
      "299 (1.0, 1.0, 0.0, 0.0, 0.0, 0.0, 0.0, 0.0)\n",
      "300 (1.0, 1.0, 0.0, 0.0, 0.0, 0.0, 0.0, 0.0)\n",
      "301 (1.0, 1.0, 0.0, 0.0, 0.0, 0.0, -0.0, -0.0)\n",
      "302 (1.0, 1.0, 0.0, 0.0, 0.0, 0.0, 0.0, 0.0)\n",
      "303 (1.0, 1.0, 0.0, 0.0, 0.0, 0.0, 0.0, 0.0)\n",
      "304 (1.0, 1.0, 0.0, 0.0, 0.0, 0.0, -0.0, -0.0)\n",
      "305 (1.0, 1.0, 0.0, 0.0, 0.0, 0.0, 0.0, 0.0)\n",
      "306 (1.0, 1.0, 0.0, 0.0, 0.0, 0.0, 0.0, 0.0)\n",
      "307 (1.0, 1.0, 0.0, 0.0, 0.0, 0.0, -0.0, -0.0)\n",
      "308 (1.0, 1.0, 0.0, 0.0, 0.0, 0.0, 0.0, 0.0)\n",
      "309 (1.0, 1.0, 0.0, 0.0, 0.0, 0.0, 0.0, 0.0)\n",
      "310 (1.0, 1.0, 0.0, 0.0, 0.0, 0.0, -0.0, -0.0)\n",
      "311 (1.0, 1.0, 0.0, 0.0, 0.0, 0.0, 0.0, 0.0)\n",
      "312 (1.0, 1.0, 0.0, 0.0, 0.0, 0.0, 0.0, 0.0)\n",
      "313 (1.0, 1.0, 0.0, 0.0, 0.0, 0.0, -0.0, -0.0)\n",
      "314 (1.0, 1.0, 0.0, 0.0, 0.0, 0.0, 0.0, 0.0)\n",
      "315 (1.0, 1.0, 0.0, 0.0, 0.0, 0.0, 0.0, 0.0)\n",
      "316 (1.0, 1.0, 0.0, 0.0, 0.0, 0.0, -0.0, -0.0)\n",
      "317 (1.0, 1.0, 0.0, 0.0, 0.0, 0.0, 0.0, 0.0)\n",
      "318 (1.0, 1.0, 0.0, 0.0, 0.0, 0.0, 0.0, 0.0)\n",
      "319 (1.0, 1.0, 0.0, 0.0, 0.0, 0.0, -0.0, -0.0)\n",
      "320 (1.0, 1.0, 0.0, 0.0, 0.0, 0.0, 0.0, 0.0)\n",
      "321 (1.0, 1.0, 0.0, 0.0, 0.0, 0.0, 0.0, 0.0)\n",
      "322 (1.0, 1.0, 0.0, 0.0, 0.0, 0.0, -0.0, -0.0)\n",
      "323 (1.0, 1.0, 0.0, 0.0, 0.0, 0.0, 0.0, 0.0)\n",
      "324 (1.0, 1.0, 0.0, 0.0, 0.0, 0.0, 0.0, 0.0)\n",
      "325 (1.0, 1.0, 0.0, 0.0, 0.0, 0.0, -0.0, -0.0)\n",
      "326 (1.0, 1.0, 0.0, 0.0, 0.0, 0.0, 0.0, 0.0)\n",
      "327 (1.0, 1.0, 0.0, 0.0, 0.0, 0.0, 0.0, 0.0)\n",
      "328 (1.0, 1.0, 0.0, 0.0, 0.0, 0.0, -0.0, -0.0)\n",
      "329 (1.0, 1.0, 0.0, 0.0, 0.0, 0.0, 0.0, 0.0)\n",
      "330 (1.0, 1.0, 0.0, 0.0, 0.0, 0.0, 0.0, 0.0)\n",
      "331 (1.0, 1.0, 0.0, 0.0, 0.0, 0.0, -0.0, -0.0)\n",
      "332 (1.0, 1.0, 0.0, 0.0, 0.0, 0.0, 0.0, 0.0)\n",
      "333 (1.0, 1.0, 0.0, 0.0, 0.0, 0.0, 0.0, 0.0)\n",
      "334 (1.0, 1.0, 0.0, 0.0, 0.0, 0.0, -0.0, -0.0)\n",
      "335 (1.0, 1.0, 0.0, 0.0, 0.0, 0.0, 0.0, 0.0)\n",
      "336 (1.0, 1.0, 0.0, 0.0, 0.0, 0.0, 0.0, 0.0)\n",
      "337 (1.0, 1.0, 0.0, 0.0, 0.0, 0.0, -0.0, -0.0)\n",
      "338 (1.0, 1.0, 0.0, 0.0, 0.0, 0.0, 0.0, 0.0)\n",
      "339 (1.0, 1.0, 0.0, 0.0, 0.0, 0.0, 0.0, 0.0)\n",
      "340 (1.0, 1.0, 0.0, 0.0, 0.0, 0.0, -0.0, -0.0)\n",
      "341 (1.0, 1.0, 0.0, 0.0, 0.0, 0.0, 0.0, 0.0)\n",
      "342 (1.0, 1.0, 0.0, 0.0, 0.0, 0.0, 0.0, 0.0)\n",
      "343 (1.0, 1.0, 0.0, 0.0, 0.0, 0.0, -0.0, -0.0)\n",
      "344 (1.0, 1.0, 0.0, 0.0, 0.0, 0.0, 0.0, 0.0)\n",
      "345 (1.0, 1.0, 0.0, 0.0, 0.0, 0.0, 0.0, 0.0)\n",
      "346 (1.0, 1.0, 0.0, 0.0, 0.0, 0.0, -0.0, -0.0)\n",
      "347 (1.0, 1.0, 0.0, 0.0, 0.0, 0.0, 0.0, 0.0)\n",
      "348 (1.0, 1.0, 0.0, 0.0, 0.0, 0.0, 0.0, 0.0)\n",
      "349 (1.0, 1.0, 0.0, 0.0, 0.0, 0.0, -0.0, -0.0)\n",
      "350 (1.0, 1.0, 0.0, 0.0, 0.0, 0.0, 0.0, 0.0)\n",
      "351 (1.0, 1.0, 0.0, 0.0, 0.0, 0.0, 0.0, 0.0)\n",
      "352 (1.0, 1.0, 0.0, 0.0, 0.0, 0.0, -0.0, -0.0)\n",
      "353 (1.0, 1.0, 0.0, 0.0, 0.0, 0.0, 0.0, 0.0)\n",
      "354 (1.0, 1.0, 0.0, 0.0, 0.0, 0.0, 0.0, 0.0)\n",
      "355 (1.0, 1.0, 0.0, 0.0, 0.0, 0.0, -0.0, -0.0)\n",
      "356 (1.0, 1.0, 0.0, 0.0, 0.0, 0.0, 0.0, 0.0)\n",
      "357 (1.0, 1.0, 0.0, 0.0, 0.0, 0.0, 0.0, 0.0)\n",
      "358 (1.0, 1.0, 0.0, 0.0, 0.0, 0.0, -0.0, -0.0)\n",
      "359 (1.0, 1.0, 0.0, 0.0, 0.0, 0.0, 0.0, 0.0)\n",
      "360 (1.0, 1.0, 0.0, 0.0, 0.0, 0.0, 0.0, 0.0)\n",
      "361 (1.0, 1.0, 0.0, 0.0, 0.0, 0.0, -0.0, -0.0)\n",
      "362 (1.0, 1.0, 0.0, 0.0, 0.0, 0.0, 0.0, 0.0)\n",
      "363 (1.0, 1.0, 0.0, 0.0, 0.0, 0.0, 0.0, 0.0)\n",
      "364 (1.0, 1.0, 0.0, 0.0, 0.0, 0.0, -0.0, -0.0)\n",
      "365 (1.0, 1.0, 0.0, 0.0, 0.0, 0.0, 0.0, 0.0)\n",
      "366 (1.0, 1.0, 0.0, 0.0, 0.0, 0.0, 0.0, 0.0)\n",
      "367 (1.0, 1.0, 0.0, 0.0, 0.0, 0.0, -0.0, -0.0)\n",
      "368 (1.0, 1.0, 0.0, 0.0, 0.0, 0.0, 0.0, 0.0)\n",
      "369 (1.0, 1.0, 0.0, 0.0, 0.0, 0.0, 0.0, 0.0)\n",
      "370 (1.0, 1.0, 0.0, 0.0, 0.0, 0.0, -0.0, -0.0)\n",
      "371 (1.0, 1.0, 0.0, 0.0, 0.0, 0.0, 0.0, 0.0)\n",
      "372 (1.0, 1.0, 0.0, 0.0, 0.0, 0.0, 0.0, 0.0)\n",
      "373 (1.0, 1.0, 0.0, 0.0, 0.0, 0.0, -0.0, -0.0)\n",
      "374 (1.0, 1.0, 0.0, 0.0, 0.0, 0.0, 0.0, 0.0)\n",
      "375 (1.0, 1.0, 0.0, 0.0, 0.0, 0.0, 0.0, 0.0)\n",
      "376 (1.0, 1.0, 0.0, 0.0, 0.0, 0.0, -0.0, -0.0)\n",
      "377 (1.0, 1.0, 0.0, 0.0, 0.0, 0.0, 0.0, 0.0)\n",
      "378 (1.0, 1.0, 0.0, 0.0, 0.0, 0.0, 0.0, 0.0)\n",
      "379 (1.0, 1.0, 0.0, 0.0, 0.0, 0.0, -0.0, -0.0)\n",
      "380 (1.0, 1.0, 0.0, 0.0, 0.0, 0.0, 0.0, 0.0)\n",
      "381 (1.0, 1.0, 0.0, 0.0, 0.0, 0.0, 0.0, 0.0)\n",
      "382 (1.0, 1.0, 0.0, 0.0, 0.0, 0.0, -0.0, -0.0)\n",
      "383 (1.0, 1.0, 0.0, 0.0, 0.0, 0.0, 0.0, 0.0)\n",
      "384 (1.0, 1.0, 0.0, 0.0, 0.0, 0.0, 0.0, 0.0)\n",
      "385 (1.0, 1.0, 0.0, 0.0, 0.0, 0.0, -0.0, -0.0)\n",
      "386 (1.0, 1.0, 0.0, 0.0, 0.0, 0.0, 0.0, 0.0)\n",
      "387 (1.0, 1.0, 0.0, 0.0, 0.0, 0.0, 0.0, 0.0)\n",
      "388 (1.0, 1.0, 0.0, 0.0, 0.0, 0.0, -0.0, -0.0)\n",
      "389 (1.0, 1.0, 0.0, 0.0, 0.0, 0.0, 0.0, 0.0)\n",
      "390 (1.0, 1.0, 0.0, 0.0, 0.0, 0.0, 0.0, 0.0)\n",
      "391 (1.0, 1.0, 0.0, 0.0, 0.0, 0.0, -0.0, -0.0)\n",
      "392 (1.0, 1.0, 0.0, 0.0, 0.0, 0.0, 0.0, 0.0)\n",
      "393 (1.0, 1.0, 0.0, 0.0, 0.0, 0.0, 0.0, 0.0)\n",
      "394 (1.0, 1.0, 0.0, 0.0, 0.0, 0.0, -0.0, -0.0)\n",
      "395 (1.0, 1.0, 0.0, 0.0, 0.0, 0.0, 0.0, 0.0)\n",
      "396 (1.0, 1.0, 0.0, 0.0, 0.0, 0.0, 0.0, 0.0)\n",
      "397 (1.0, 1.0, 0.0, 0.0, 0.0, 0.0, -0.0, -0.0)\n",
      "398 (1.0, 1.0, 0.0, 0.0, 0.0, 0.0, 0.0, 0.0)\n",
      "399 (1.0, 1.0, 0.0, 0.0, 0.0, 0.0, 0.0, 0.0)\n",
      "400 (1.0, 1.0, 0.0, 0.0, 0.0, 0.0, -0.0, -0.0)\n",
      "401 (1.0, 1.0, 0.0, 0.0, 0.0, 0.0, 0.0, 0.0)\n",
      "402 (1.0, 1.0, 0.0, 0.0, 0.0, 0.0, 0.0, 0.0)\n",
      "403 (1.0, 1.0, 0.0, 0.0, 0.0, 0.0, -0.0, -0.0)\n",
      "404 (1.0, 1.0, 0.0, 0.0, 0.0, 0.0, 0.0, 0.0)\n",
      "405 (1.0, 1.0, 0.0, 0.0, 0.0, 0.0, 0.0, 0.0)\n",
      "406 (1.0, 1.0, 0.0, 0.0, 0.0, 0.0, -0.0, -0.0)\n",
      "407 (1.0, 1.0, 0.0, 0.0, 0.0, 0.0, 0.0, 0.0)\n",
      "408 (1.0, 1.0, 0.0, 0.0, 0.0, 0.0, 0.0, 0.0)\n",
      "409 (1.0, 1.0, 0.0, 0.0, 0.0, 0.0, -0.0, -0.0)\n",
      "410 (1.0, 1.0, 0.0, 0.0, 0.0, 0.0, 0.0, 0.0)\n",
      "411 (1.0, 1.0, 0.0, 0.0, 0.0, 0.0, 0.0, 0.0)\n",
      "412 (1.0, 1.0, 0.0, 0.0, 0.0, 0.0, -0.0, -0.0)\n",
      "413 (1.0, 1.0, 0.0, 0.0, 0.0, 0.0, 0.0, 0.0)\n",
      "414 (1.0, 1.0, 0.0, 0.0, 0.0, 0.0, 0.0, 0.0)\n",
      "415 (1.0, 1.0, 0.0, 0.0, 0.0, 0.0, -0.0, -0.0)\n",
      "416 (1.0, 1.0, 0.0, 0.0, 0.0, 0.0, 0.0, 0.0)\n",
      "417 (1.0, 1.0, 0.0, 0.0, 0.0, 0.0, 0.0, 0.0)\n",
      "418 (1.0, 1.0, 0.0, 0.0, 0.0, 0.0, -0.0, -0.0)\n",
      "419 (1.0, 1.0, 0.0, 0.0, 0.0, 0.0, 0.0, 0.0)\n",
      "420 (1.0, 1.0, 0.0, 0.0, 0.0, 0.0, 0.0, 0.0)\n",
      "421 (1.0, 1.0, 0.0, 0.0, 0.0, 0.0, -0.0, -0.0)\n",
      "422 (1.0, 1.0, 0.0, 0.0, 0.0, 0.0, 0.0, 0.0)\n",
      "423 (1.0, 1.0, 0.0, 0.0, 0.0, 0.0, 0.0, 0.0)\n",
      "424 (1.0, 1.0, 0.0, 0.0, 0.0, 0.0, -0.0, -0.0)\n",
      "425 (1.0, 1.0, 0.0, 0.0, 0.0, 0.0, 0.0, 0.0)\n",
      "426 (1.0, 1.0, 0.0, 0.0, 0.0, 0.0, 0.0, 0.0)\n",
      "427 (1.0, 1.0, 0.0, 0.0, 0.0, 0.0, -0.0, -0.0)\n",
      "428 (1.0, 1.0, 0.0, 0.0, 0.0, 0.0, 0.0, 0.0)\n",
      "429 (1.0, 1.0, 0.0, 0.0, 0.0, 0.0, 0.0, 0.0)\n",
      "430 (1.0, 1.0, 0.0, 0.0, 0.0, 0.0, -0.0, -0.0)\n",
      "431 (1.0, 1.0, 0.0, 0.0, 0.0, 0.0, 0.0, 0.0)\n",
      "432 (1.0, 1.0, 0.0, 0.0, 0.0, 0.0, 0.0, 0.0)\n",
      "433 (1.0, 1.0, 0.0, 0.0, 0.0, 0.0, -0.0, -0.0)\n",
      "434 (1.0, 1.0, 0.0, 0.0, 0.0, 0.0, 0.0, 0.0)\n",
      "435 (1.0, 1.0, 0.0, 0.0, 0.0, 0.0, 0.0, 0.0)\n",
      "436 (1.0, 1.0, 0.0, 0.0, 0.0, 0.0, -0.0, -0.0)\n",
      "437 (1.0, 1.0, 0.0, 0.0, 0.0, 0.0, 0.0, 0.0)\n",
      "438 (1.0, 1.0, 0.0, 0.0, 0.0, 0.0, 0.0, 0.0)\n",
      "439 (1.0, 1.0, 0.0, 0.0, 0.0, 0.0, -0.0, -0.0)\n",
      "440 (1.0, 1.0, 0.0, 0.0, 0.0, 0.0, 0.0, 0.0)\n",
      "441 (1.0, 1.0, 0.0, 0.0, 0.0, 0.0, 0.0, 0.0)\n",
      "442 (1.0, 1.0, 0.0, 0.0, 0.0, 0.0, -0.0, -0.0)\n",
      "443 (1.0, 1.0, 0.0, 0.0, 0.0, 0.0, 0.0, 0.0)\n",
      "444 (1.0, 1.0, 0.0, 0.0, 0.0, 0.0, 0.0, 0.0)\n",
      "445 (1.0, 1.0, 0.0, 0.0, 0.0, 0.0, -0.0, -0.0)\n",
      "446 (1.0, 1.0, 0.0, 0.0, 0.0, 0.0, 0.0, 0.0)\n",
      "447 (1.0, 1.0, 0.0, 0.0, 0.0, 0.0, 0.0, 0.0)\n",
      "448 (1.0, 1.0, 0.0, 0.0, 0.0, 0.0, -0.0, -0.0)\n",
      "449 (1.0, 1.0, 0.0, 0.0, 0.0, 0.0, 0.0, 0.0)\n",
      "450 (1.0, 1.0, 0.0, 0.0, 0.0, 0.0, 0.0, 0.0)\n",
      "451 (1.0, 1.0, 0.0, 0.0, 0.0, 0.0, -0.0, -0.0)\n",
      "452 (1.0, 1.0, 0.0, 0.0, 0.0, 0.0, 0.0, 0.0)\n",
      "453 (1.0, 1.0, 0.0, 0.0, 0.0, 0.0, 0.0, 0.0)\n",
      "454 (1.0, 1.0, 0.0, 0.0, 0.0, 0.0, -0.0, -0.0)\n",
      "455 (1.0, 1.0, 0.0, 0.0, 0.0, 0.0, 0.0, 0.0)\n",
      "456 (1.0, 1.0, 0.0, 0.0, 0.0, 0.0, 0.0, 0.0)\n",
      "457 (1.0, 1.0, 0.0, 0.0, 0.0, 0.0, -0.0, -0.0)\n",
      "458 (1.0, 1.0, 0.0, 0.0, 0.0, 0.0, 0.0, 0.0)\n",
      "459 (1.0, 1.0, 0.0, 0.0, 0.0, 0.0, 0.0, 0.0)\n",
      "460 (1.0, 1.0, 0.0, 0.0, 0.0, 0.0, -0.0, -0.0)\n",
      "461 (1.0, 1.0, 0.0, 0.0, 0.0, 0.0, 0.0, 0.0)\n",
      "462 (1.0, 1.0, 0.0, 0.0, 0.0, 0.0, 0.0, 0.0)\n",
      "463 (1.0, 1.0, 0.0, 0.0, 0.0, 0.0, -0.0, -0.0)\n",
      "464 (1.0, 1.0, 0.0, 0.0, 0.0, 0.0, 0.0, 0.0)\n",
      "465 (1.0, 1.0, 0.0, 0.0, 0.0, 0.0, 0.0, 0.0)\n",
      "466 (1.0, 1.0, 0.0, 0.0, 0.0, 0.0, -0.0, -0.0)\n",
      "467 (1.0, 1.0, 0.0, 0.0, 0.0, 0.0, 0.0, 0.0)\n",
      "468 (1.0, 1.0, 0.0, 0.0, 0.0, 0.0, 0.0, 0.0)\n",
      "469 (1.0, 1.0, 0.0, 0.0, 0.0, 0.0, -0.0, -0.0)\n",
      "470 (1.0, 1.0, 0.0, 0.0, 0.0, 0.0, 0.0, 0.0)\n",
      "471 (1.0, 1.0, 0.0, 0.0, 0.0, 0.0, 0.0, 0.0)\n",
      "472 (1.0, 1.0, 0.0, 0.0, 0.0, 0.0, -0.0, -0.0)\n",
      "473 (1.0, 1.0, 0.0, 0.0, 0.0, 0.0, 0.0, 0.0)\n",
      "474 (1.0, 1.0, 0.0, 0.0, 0.0, 0.0, 0.0, 0.0)\n",
      "475 (1.0, 1.0, 0.0, 0.0, 0.0, 0.0, -0.0, -0.0)\n",
      "476 (1.0, 1.0, 0.0, 0.0, 0.0, 0.0, 0.0, 0.0)\n",
      "477 (1.0, 1.0, 0.0, 0.0, 0.0, 0.0, 0.0, 0.0)\n",
      "478 (1.0, 1.0, 0.0, 0.0, 0.0, 0.0, -0.0, -0.0)\n",
      "479 (1.0, 1.0, 0.0, 0.0, 0.0, 0.0, 0.0, 0.0)\n",
      "480 (1.0, 1.0, 0.0, 0.0, 0.0, 0.0, 0.0, 0.0)\n",
      "481 (1.0, 1.0, 0.0, 0.0, 0.0, 0.0, -0.0, -0.0)\n",
      "482 (1.0, 1.0, 0.0, 0.0, 0.0, 0.0, 0.0, 0.0)\n",
      "483 (1.0, 1.0, 0.0, 0.0, 0.0, 0.0, 0.0, 0.0)\n",
      "484 (1.0, 1.0, 0.0, 0.0, 0.0, 0.0, -0.0, -0.0)\n",
      "485 (1.0, 1.0, 0.0, 0.0, 0.0, 0.0, 0.0, 0.0)\n",
      "486 (1.0, 1.0, 0.0, 0.0, 0.0, 0.0, 0.0, 0.0)\n",
      "487 (1.0, 1.0, 0.0, 0.0, 0.0, 0.0, -0.0, -0.0)\n",
      "488 (1.0, 1.0, 0.0, 0.0, 0.0, 0.0, 0.0, 0.0)\n",
      "489 (1.0, 1.0, 0.0, 0.0, 0.0, 0.0, 0.0, 0.0)\n",
      "490 (1.0, 1.0, 0.0, 0.0, 0.0, 0.0, -0.0, -0.0)\n",
      "491 (1.0, 1.0, 0.0, 0.0, 0.0, 0.0, 0.0, 0.0)\n",
      "492 (1.0, 1.0, 0.0, 0.0, 0.0, 0.0, 0.0, 0.0)\n",
      "493 (1.0, 1.0, 0.0, 0.0, 0.0, 0.0, -0.0, -0.0)\n",
      "494 (1.0, 1.0, 0.0, 0.0, 0.0, 0.0, 0.0, 0.0)\n",
      "495 (1.0, 1.0, 0.0, 0.0, 0.0, 0.0, 0.0, 0.0)\n",
      "496 (1.0, 1.0, 0.0, 0.0, 0.0, 0.0, -0.0, -0.0)\n",
      "497 (1.0, 1.0, 0.0, 0.0, 0.0, 0.0, 0.0, 0.0)\n",
      "498 (1.0, 1.0, 0.0, 0.0, 0.0, 0.0, 0.0, 0.0)\n",
      "499 (1.0, 1.0, 0.0, 0.0, 0.0, 0.0, -0.0, -0.0)\n",
      "500 (1.0, 1.0, 0.0, 0.0, 0.0, 0.0, 0.0, 0.0)\n",
      "501 (1.0, 1.0, 0.0, 0.0, 0.0, 0.0, 0.0, 0.0)\n",
      "502 (1.0, 1.0, 0.0, 0.0, 0.0, 0.0, -0.0, -0.0)\n",
      "503 (1.0, 1.0, 0.0, 0.0, 0.0, 0.0, 0.0, 0.0)\n",
      "504 (1.0, 1.0, 0.0, 0.0, 0.0, 0.0, 0.0, 0.0)\n",
      "505 (1.0, 1.0, 0.0, 0.0, 0.0, 0.0, -0.0, -0.0)\n",
      "506 (1.0, 1.0, 0.0, 0.0, 0.0, 0.0, 0.0, 0.0)\n",
      "507 (1.0, 1.0, 0.0, 0.0, 0.0, 0.0, 0.0, 0.0)\n",
      "508 (1.0, 1.0, 0.0, 0.0, 0.0, 0.0, -0.0, -0.0)\n",
      "509 (1.0, 1.0, 0.0, 0.0, 0.0, 0.0, 0.0, 0.0)\n",
      "510 (1.0, 1.0, 0.0, 0.0, 0.0, 0.0, 0.0, 0.0)\n",
      "511 (1.0, 1.0, 0.0, 0.0, 0.0, 0.0, -0.0, -0.0)\n",
      "512 (1.0, 1.0, 0.0, 0.0, 0.0, 0.0, 0.0, 0.0)\n",
      "513 (1.0, 1.0, 0.0, 0.0, 0.0, 0.0, 0.0, 0.0)\n",
      "514 (1.0, 1.0, 0.0, 0.0, 0.0, 0.0, -0.0, -0.0)\n",
      "515 (1.0, 1.0, 0.0, 0.0, 0.0, 0.0, 0.0, 0.0)\n",
      "516 (1.0, 1.0, 0.0, 0.0, 0.0, 0.0, 0.0, 0.0)\n",
      "517 (1.0, 1.0, 0.0, 0.0, 0.0, 0.0, -0.0, -0.0)\n",
      "518 (1.0, 1.0, 0.0, 0.0, 0.0, 0.0, 0.0, 0.0)\n",
      "519 (1.0, 1.0, 0.0, 0.0, 0.0, 0.0, 0.0, 0.0)\n",
      "520 (1.0, 1.0, 0.0, 0.0, 0.0, 0.0, -0.0, -0.0)\n",
      "521 (1.0, 1.0, 0.0, 0.0, 0.0, 0.0, 0.0, 0.0)\n",
      "522 (1.0, 1.0, 0.0, 0.0, 0.0, 0.0, 0.0, 0.0)\n",
      "523 (1.0, 1.0, 0.0, 0.0, 0.0, 0.0, -0.0, -0.0)\n",
      "524 (1.0, 1.0, 0.0, 0.0, 0.0, 0.0, 0.0, 0.0)\n",
      "525 (1.0, 1.0, 0.0, 0.0, 0.0, 0.0, 0.0, 0.0)\n",
      "526 (1.0, 1.0, 0.0, 0.0, 0.0, 0.0, -0.0, -0.0)\n",
      "527 (1.0, 1.0, 0.0, 0.0, 0.0, 0.0, 0.0, 0.0)\n",
      "528 (1.0, 1.0, 0.0, 0.0, 0.0, 0.0, 0.0, 0.0)\n",
      "529 (1.0, 1.0, 0.0, 0.0, 0.0, 0.0, -0.0, -0.0)\n",
      "530 (1.0, 1.0, 0.0, 0.0, 0.0, 0.0, 0.0, 0.0)\n",
      "531 (1.0, 1.0, 0.0, 0.0, 0.0, 0.0, 0.0, 0.0)\n",
      "532 (1.0, 1.0, 0.0, 0.0, 0.0, 0.0, -0.0, -0.0)\n",
      "533 (1.0, 1.0, 0.0, 0.0, 0.0, 0.0, 0.0, 0.0)\n",
      "534 (1.0, 1.0, 0.0, 0.0, 0.0, 0.0, 0.0, 0.0)\n",
      "535 (1.0, 1.0, 0.0, 0.0, 0.0, 0.0, -0.0, -0.0)\n",
      "536 (1.0, 1.0, 0.0, 0.0, 0.0, 0.0, 0.0, 0.0)\n",
      "537 (1.0, 1.0, 0.0, 0.0, 0.0, 0.0, 0.0, 0.0)\n",
      "538 (1.0, 1.0, 0.0, 0.0, 0.0, 0.0, -0.0, -0.0)\n",
      "539 (1.0, 1.0, 0.0, 0.0, 0.0, 0.0, 0.0, 0.0)\n",
      "540 (1.0, 1.0, 0.0, 0.0, 0.0, 0.0, 0.0, 0.0)\n",
      "541 (1.0, 1.0, 0.0, 0.0, 0.0, 0.0, -0.0, -0.0)\n",
      "542 (1.0, 1.0, 0.0, 0.0, 0.0, 0.0, 0.0, 0.0)\n",
      "543 (1.0, 1.0, 0.0, 0.0, 0.0, 0.0, 0.0, 0.0)\n",
      "544 (1.0, 1.0, 0.0, 0.0, 0.0, 0.0, -0.0, -0.0)\n",
      "545 (1.0, 1.0, 0.0, 0.0, 0.0, 0.0, 0.0, 0.0)\n",
      "546 (1.0, 1.0, 0.0, 0.0, 0.0, 0.0, 0.0, 0.0)\n",
      "547 (1.0, 1.0, 0.0, 0.0, 0.0, 0.0, -0.0, -0.0)\n",
      "548 (1.0, 1.0, 0.0, 0.0, 0.0, 0.0, 0.0, 0.0)\n",
      "549 (1.0, 1.0, 0.0, 0.0, 0.0, 0.0, 0.0, 0.0)\n",
      "550 (1.0, 1.0, 0.0, 0.0, 0.0, 0.0, -0.0, -0.0)\n",
      "551 (1.0, 1.0, 0.0, 0.0, 0.0, 0.0, 0.0, 0.0)\n",
      "552 (1.0, 1.0, 0.0, 0.0, 0.0, 0.0, 0.0, 0.0)\n",
      "553 (1.0, 1.0, 0.0, 0.0, 0.0, 0.0, -0.0, -0.0)\n",
      "554 (1.0, 1.0, 0.0, 0.0, 0.0, 0.0, 0.0, 0.0)\n",
      "555 (1.0, 1.0, 0.0, 0.0, 0.0, 0.0, 0.0, 0.0)\n",
      "556 (1.0, 1.0, 0.0, 0.0, 0.0, 0.0, -0.0, -0.0)\n",
      "557 (1.0, 1.0, 0.0, 0.0, 0.0, 0.0, 0.0, 0.0)\n",
      "558 (1.0, 1.0, 0.0, 0.0, 0.0, 0.0, 0.0, 0.0)\n",
      "559 (1.0, 1.0, 0.0, 0.0, 0.0, 0.0, -0.0, -0.0)\n",
      "560 (1.0, 1.0, 0.0, 0.0, 0.0, 0.0, 0.0, 0.0)\n",
      "561 (1.0, 1.0, 0.0, 0.0, 0.0, 0.0, 0.0, 0.0)\n",
      "562 (1.0, 1.0, 0.0, 0.0, 0.0, 0.0, -0.0, -0.0)\n",
      "563 (1.0, 1.0, 0.0, 0.0, 0.0, 0.0, 0.0, 0.0)\n",
      "564 (1.0, 1.0, 0.0, 0.0, 0.0, 0.0, 0.0, 0.0)\n",
      "565 (1.0, 1.0, 0.0, 0.0, 0.0, 0.0, -0.0, -0.0)\n",
      "566 (1.0, 1.0, 0.0, 0.0, 0.0, 0.0, 0.0, 0.0)\n",
      "567 (1.0, 1.0, 0.0, 0.0, 0.0, 0.0, 0.0, 0.0)\n",
      "568 (1.0, 1.0, 0.0, 0.0, 0.0, 0.0, -0.0, -0.0)\n",
      "569 (1.0, 1.0, 0.0, 0.0, 0.0, 0.0, 0.0, 0.0)\n",
      "570 (1.0, 1.0, 0.0, 0.0, 0.0, 0.0, 0.0, 0.0)\n",
      "571 (1.0, 1.0, 0.0, 0.0, 0.0, 0.0, -0.0, -0.0)\n",
      "572 (1.0, 1.0, 0.0, 0.0, 0.0, 0.0, 0.0, 0.0)\n",
      "573 (1.0, 1.0, 0.0, 0.0, 0.0, 0.0, 0.0, 0.0)\n",
      "574 (1.0, 1.0, 0.0, 0.0, 0.0, 0.0, -0.0, -0.0)\n",
      "575 (1.0, 1.0, 0.0, 0.0, 0.0, 0.0, 0.0, 0.0)\n",
      "576 (1.0, 1.0, 0.0, 0.0, 0.0, 0.0, 0.0, 0.0)\n",
      "577 (1.0, 1.0, 0.0, 0.0, 0.0, 0.0, -0.0, -0.0)\n",
      "578 (1.0, 1.0, 0.0, 0.0, 0.0, 0.0, 0.0, 0.0)\n",
      "579 (1.0, 1.0, 0.0, 0.0, 0.0, 0.0, 0.0, 0.0)\n",
      "580 (1.0, 1.0, 0.0, 0.0, 0.0, 0.0, -0.0, -0.0)\n",
      "581 (1.0, 1.0, 0.0, 0.0, 0.0, 0.0, 0.0, 0.0)\n",
      "582 (1.0, 1.0, 0.0, 0.0, 0.0, 0.0, 0.0, 0.0)\n",
      "583 (1.0, 1.0, 0.0, 0.0, 0.0, 0.0, -0.0, -0.0)\n",
      "584 (1.0, 1.0, 0.0, 0.0, 0.0, 0.0, 0.0, 0.0)\n",
      "585 (1.0, 1.0, 0.0, 0.0, 0.0, 0.0, 0.0, 0.0)\n",
      "586 (1.0, 1.0, 0.0, 0.0, 0.0, 0.0, -0.0, -0.0)\n",
      "587 (1.0, 1.0, 0.0, 0.0, 0.0, 0.0, 0.0, 0.0)\n",
      "588 (1.0, 1.0, 0.0, 0.0, 0.0, 0.0, 0.0, 0.0)\n",
      "589 (1.0, 1.0, 0.0, 0.0, 0.0, 0.0, -0.0, -0.0)\n",
      "590 (1.0, 1.0, 0.0, 0.0, 0.0, 0.0, 0.0, 0.0)\n",
      "591 (1.0, 1.0, 0.0, 0.0, 0.0, 0.0, 0.0, 0.0)\n",
      "592 (1.0, 1.0, 0.0, 0.0, 0.0, 0.0, -0.0, -0.0)\n",
      "593 (1.0, 1.0, 0.0, 0.0, 0.0, 0.0, 0.0, 0.0)\n",
      "594 (1.0, 1.0, 0.0, 0.0, 0.0, 0.0, 0.0, 0.0)\n",
      "595 (1.0, 1.0, 0.0, 0.0, 0.0, 0.0, -0.0, -0.0)\n",
      "596 (1.0, 1.0, 0.0, 0.0, 0.0, 0.0, 0.0, 0.0)\n",
      "597 (1.0, 1.0, 0.0, 0.0, 0.0, 0.0, 0.0, 0.0)\n",
      "598 (1.0, 1.0, 0.0, 0.0, 0.0, 0.0, -0.0, -0.0)\n",
      "599 (1.0, 1.0, 0.0, 0.0, 0.0, 0.0, 0.0, 0.0)\n",
      "600 (1.0, 1.0, 0.0, 0.0, 0.0, 0.0, 0.0, 0.0)\n",
      "601 (1.0, 1.0, 0.0, 0.0, 0.0, 0.0, -0.0, -0.0)\n",
      "602 (1.0, 1.0, 0.0, 0.0, 0.0, 0.0, 0.0, 0.0)\n",
      "603 (1.0, 1.0, 0.0, 0.0, 0.0, 0.0, 0.0, 0.0)\n",
      "604 (1.0, 1.0, 0.0, 0.0, 0.0, 0.0, -0.0, -0.0)\n",
      "605 (1.0, 1.0, 0.0, 0.0, 0.0, 0.0, 0.0, 0.0)\n",
      "606 (1.0, 1.0, 0.0, 0.0, 0.0, 0.0, 0.0, 0.0)\n",
      "607 (1.0, 1.0, 0.0, 0.0, 0.0, 0.0, -0.0, -0.0)\n",
      "608 (1.0, 1.0, 0.0, 0.0, 0.0, 0.0, 0.0, 0.0)\n",
      "609 (1.0, 1.0, 0.0, 0.0, 0.0, 0.0, 0.0, 0.0)\n",
      "610 (1.0, 1.0, 0.0, 0.0, 0.0, 0.0, -0.0, -0.0)\n",
      "611 (1.0, 1.0, 0.0, 0.0, 0.0, 0.0, 0.0, 0.0)\n",
      "612 (1.0, 1.0, 0.0, 0.0, 0.0, 0.0, 0.0, 0.0)\n",
      "613 (1.0, 1.0, 0.0, 0.0, 0.0, 0.0, -0.0, -0.0)\n",
      "614 (1.0, 1.0, 0.0, 0.0, 0.0, 0.0, 0.0, 0.0)\n",
      "615 (1.0, 1.0, 0.0, 0.0, 0.0, 0.0, 0.0, 0.0)\n",
      "616 (1.0, 1.0, 0.0, 0.0, 0.0, 0.0, -0.0, -0.0)\n",
      "617 (1.0, 1.0, 0.0, 0.0, 0.0, 0.0, 0.0, 0.0)\n",
      "618 (1.0, 1.0, 0.0, 0.0, 0.0, 0.0, 0.0, 0.0)\n",
      "619 (1.0, 1.0, 0.0, 0.0, 0.0, 0.0, -0.0, -0.0)\n",
      "620 (1.0, 1.0, 0.0, 0.0, 0.0, 0.0, 0.0, 0.0)\n",
      "621 (1.0, 1.0, 0.0, 0.0, 0.0, 0.0, 0.0, 0.0)\n",
      "622 (1.0, 1.0, 0.0, 0.0, 0.0, 0.0, -0.0, -0.0)\n",
      "623 (1.0, 1.0, 0.0, 0.0, 0.0, 0.0, 0.0, 0.0)\n",
      "624 (1.0, 1.0, 0.0, 0.0, 0.0, 0.0, 0.0, 0.0)\n",
      "625 (1.0, 1.0, 0.0, 0.0, 0.0, 0.0, -0.0, -0.0)\n",
      "626 (1.0, 1.0, 0.0, 0.0, 0.0, 0.0, 0.0, 0.0)\n",
      "627 (1.0, 1.0, 0.0, 0.0, 0.0, 0.0, 0.0, 0.0)\n",
      "628 (1.0, 1.0, 0.0, 0.0, 0.0, 0.0, -0.0, -0.0)\n",
      "629 (1.0, 1.0, 0.0, 0.0, 0.0, 0.0, 0.0, 0.0)\n",
      "630 (1.0, 1.0, 0.0, 0.0, 0.0, 0.0, 0.0, 0.0)\n",
      "631 (1.0, 1.0, 0.0, 0.0, 0.0, 0.0, -0.0, -0.0)\n",
      "632 (1.0, 1.0, 0.0, 0.0, 0.0, 0.0, 0.0, 0.0)\n",
      "633 (1.0, 1.0, 0.0, 0.0, 0.0, 0.0, 0.0, 0.0)\n",
      "634 (1.0, 1.0, 0.0, 0.0, 0.0, 0.0, -0.0, -0.0)\n",
      "635 (1.0, 1.0, 0.0, 0.0, 0.0, 0.0, 0.0, 0.0)\n",
      "636 (1.0, 1.0, 0.0, 0.0, 0.0, 0.0, 0.0, 0.0)\n",
      "637 (1.0, 1.0, 0.0, 0.0, 0.0, 0.0, -0.0, -0.0)\n",
      "638 (1.0, 1.0, 0.0, 0.0, 0.0, 0.0, 0.0, 0.0)\n",
      "639 (1.0, 1.0, 0.0, 0.0, 0.0, 0.0, 0.0, 0.0)\n",
      "640 (1.0, 1.0, 0.0, 0.0, 0.0, 0.0, -0.0, -0.0)\n",
      "641 (1.0, 1.0, 0.0, 0.0, 0.0, 0.0, 0.0, 0.0)\n",
      "642 (1.0, 1.0, 0.0, 0.0, 0.0, 0.0, 0.0, 0.0)\n",
      "643 (1.0, 1.0, 0.0, 0.0, 0.0, 0.0, -0.0, -0.0)\n",
      "644 (1.0, 1.0, 0.0, 0.0, 0.0, 0.0, 0.0, 0.0)\n",
      "645 (1.0, 1.0, 0.0, 0.0, 0.0, 0.0, 0.0, 0.0)\n",
      "646 (1.0, 1.0, 0.0, 0.0, 0.0, 0.0, -0.0, -0.0)\n",
      "647 (1.0, 1.0, 0.0, 0.0, 0.0, 0.0, 0.0, 0.0)\n",
      "648 (1.0, 1.0, 0.0, 0.0, 0.0, 0.0, 0.0, 0.0)\n",
      "649 (1.0, 1.0, 0.0, 0.0, 0.0, 0.0, -0.0, -0.0)\n",
      "650 (1.0, 1.0, 0.0, 0.0, 0.0, 0.0, 0.0, 0.0)\n",
      "651 (1.0, 1.0, 0.0, 0.0, 0.0, 0.0, 0.0, 0.0)\n",
      "652 (1.0, 1.0, 0.0, 0.0, 0.0, 0.0, -0.0, -0.0)\n",
      "653 (1.0, 1.0, 0.0, 0.0, 0.0, 0.0, 0.0, 0.0)\n",
      "654 (1.0, 1.0, 0.0, 0.0, 0.0, 0.0, 0.0, 0.0)\n",
      "655 (1.0, 1.0, 0.0, 0.0, 0.0, 0.0, -0.0, -0.0)\n",
      "656 (1.0, 1.0, 0.0, 0.0, 0.0, 0.0, 0.0, 0.0)\n",
      "657 (1.0, 1.0, 0.0, 0.0, 0.0, 0.0, 0.0, 0.0)\n",
      "658 (1.0, 1.0, 0.0, 0.0, 0.0, 0.0, -0.0, -0.0)\n",
      "659 (1.0, 1.0, 0.0, 0.0, 0.0, 0.0, 0.0, 0.0)\n",
      "660 (1.0, 1.0, 0.0, 0.0, 0.0, 0.0, 0.0, 0.0)\n",
      "661 (1.0, 1.0, 0.0, 0.0, 0.0, 0.0, -0.0, -0.0)\n",
      "662 (1.0, 1.0, 0.0, 0.0, 0.0, 0.0, 0.0, 0.0)\n",
      "663 (1.0, 1.0, 0.0, 0.0, 0.0, 0.0, 0.0, 0.0)\n",
      "664 (1.0, 1.0, 0.0, 0.0, 0.0, 0.0, -0.0, -0.0)\n",
      "665 (1.0, 1.0, 0.0, 0.0, 0.0, 0.0, 0.0, 0.0)\n",
      "666 (1.0, 1.0, 0.0, 0.0, 0.0, 0.0, 0.0, 0.0)\n",
      "667 (1.0, 1.0, 0.0, 0.0, 0.0, 0.0, -0.0, -0.0)\n",
      "668 (1.0, 1.0, 0.0, 0.0, 0.0, 0.0, 0.0, 0.0)\n",
      "669 (1.0, 1.0, 0.0, 0.0, 0.0, 0.0, 0.0, 0.0)\n",
      "670 (1.0, 1.0, 0.0, 0.0, 0.0, 0.0, -0.0, -0.0)\n",
      "671 (1.0, 1.0, 0.0, 0.0, 0.0, 0.0, 0.0, 0.0)\n",
      "672 (1.0, 1.0, 0.0, 0.0, 0.0, 0.0, 0.0, 0.0)\n",
      "673 (1.0, 1.0, 0.0, 0.0, 0.0, 0.0, -0.0, -0.0)\n",
      "674 (1.0, 1.0, 0.0, 0.0, 0.0, 0.0, 0.0, 0.0)\n",
      "675 (1.0, 1.0, 0.0, 0.0, 0.0, 0.0, 0.0, 0.0)\n",
      "676 (1.0, 1.0, 0.0, 0.0, 0.0, 0.0, -0.0, -0.0)\n",
      "677 (1.0, 1.0, 0.0, 0.0, 0.0, 0.0, 0.0, 0.0)\n",
      "678 (1.0, 1.0, 0.0, 0.0, 0.0, 0.0, 0.0, 0.0)\n",
      "679 (1.0, 1.0, 0.0, 0.0, 0.0, 0.0, -0.0, -0.0)\n",
      "680 (1.0, 1.0, 0.0, 0.0, 0.0, 0.0, 0.0, 0.0)\n",
      "681 (1.0, 1.0, 0.0, 0.0, 0.0, 0.0, 0.0, 0.0)\n",
      "682 (1.0, 1.0, 0.0, 0.0, 0.0, 0.0, -0.0, -0.0)\n",
      "683 (1.0, 1.0, 0.0, 0.0, 0.0, 0.0, 0.0, 0.0)\n",
      "684 (1.0, 1.0, 0.0, 0.0, 0.0, 0.0, 0.0, 0.0)\n",
      "685 (1.0, 1.0, 0.0, 0.0, 0.0, 0.0, -0.0, -0.0)\n",
      "686 (1.0, 1.0, 0.0, 0.0, 0.0, 0.0, 0.0, 0.0)\n",
      "687 (1.0, 1.0, 0.0, 0.0, 0.0, 0.0, 0.0, 0.0)\n",
      "688 (1.0, 1.0, 0.0, 0.0, 0.0, 0.0, -0.0, -0.0)\n",
      "689 (1.0, 1.0, 0.0, 0.0, 0.0, 0.0, 0.0, 0.0)\n",
      "690 (1.0, 1.0, 0.0, 0.0, 0.0, 0.0, 0.0, 0.0)\n",
      "691 (1.0, 1.0, 0.0, 0.0, 0.0, 0.0, -0.0, -0.0)\n",
      "692 (1.0, 1.0, 0.0, 0.0, 0.0, 0.0, 0.0, 0.0)\n",
      "693 (1.0, 1.0, 0.0, 0.0, 0.0, 0.0, 0.0, 0.0)\n",
      "694 (1.0, 1.0, 0.0, 0.0, 0.0, 0.0, -0.0, -0.0)\n",
      "695 (1.0, 1.0, 0.0, 0.0, 0.0, 0.0, 0.0, 0.0)\n",
      "696 (1.0, 1.0, 0.0, 0.0, 0.0, 0.0, 0.0, 0.0)\n",
      "697 (1.0, 1.0, 0.0, 0.0, 0.0, 0.0, -0.0, -0.0)\n",
      "698 (1.0, 1.0, 0.0, 0.0, 0.0, 0.0, 0.0, 0.0)\n",
      "699 (1.0, 1.0, 0.0, 0.0, 0.0, 0.0, 0.0, 0.0)\n",
      "700 (1.0, 1.0, 0.0, 0.0, 0.0, 0.0, -0.0, -0.0)\n",
      "701 (1.0, 1.0, 0.0, 0.0, 0.0, 0.0, 0.0, 0.0)\n",
      "702 (1.0, 1.0, 0.0, 0.0, 0.0, 0.0, 0.0, 0.0)\n",
      "703 (1.0, 1.0, 0.0, 0.0, 0.0, 0.0, -0.0, -0.0)\n",
      "704 (1.0, 1.0, 0.0, 0.0, 0.0, 0.0, 0.0, 0.0)\n",
      "705 (1.0, 1.0, 0.0, 0.0, 0.0, 0.0, 0.0, 0.0)\n",
      "706 (1.0, 1.0, 0.0, 0.0, 0.0, 0.0, -0.0, -0.0)\n",
      "707 (1.0, 1.0, 0.0, 0.0, 0.0, 0.0, 0.0, 0.0)\n",
      "708 (1.0, 1.0, 0.0, 0.0, 0.0, 0.0, 0.0, 0.0)\n",
      "709 (1.0, 1.0, 0.0, 0.0, 0.0, 0.0, -0.0, -0.0)\n",
      "710 (1.0, 1.0, 0.0, 0.0, 0.0, 0.0, 0.0, 0.0)\n",
      "711 (1.0, 1.0, 0.0, 0.0, 0.0, 0.0, 0.0, 0.0)\n",
      "712 (1.0, 1.0, 0.0, 0.0, 0.0, 0.0, -0.0, -0.0)\n",
      "713 (1.0, 1.0, 0.0, 0.0, 0.0, 0.0, 0.0, 0.0)\n",
      "714 (1.0, 1.0, 0.0, 0.0, 0.0, 0.0, 0.0, 0.0)\n",
      "715 (1.0, 1.0, 0.0, 0.0, 0.0, 0.0, -0.0, -0.0)\n",
      "716 (1.0, 1.0, 0.0, 0.0, 0.0, 0.0, 0.0, 0.0)\n",
      "717 (1.0, 1.0, 0.0, 0.0, 0.0, 0.0, 0.0, 0.0)\n",
      "718 (1.0, 1.0, 0.0, 0.0, 0.0, 0.0, -0.0, -0.0)\n",
      "719 (1.0, 1.0, 0.0, 0.0, 0.0, 0.0, 0.0, 0.0)\n",
      "720 (1.0, 1.0, 0.0, 0.0, 0.0, 0.0, 0.0, 0.0)\n",
      "721 (1.0, 1.0, 0.0, 0.0, 0.0, 0.0, -0.0, -0.0)\n",
      "722 (1.0, 1.0, 0.0, 0.0, 0.0, 0.0, 0.0, 0.0)\n",
      "723 (1.0, 1.0, 0.0, 0.0, 0.0, 0.0, 0.0, 0.0)\n",
      "724 (1.0, 1.0, 0.0, 0.0, 0.0, 0.0, -0.0, -0.0)\n",
      "725 (1.0, 1.0, 0.0, 0.0, 0.0, 0.0, 0.0, 0.0)\n",
      "726 (1.0, 1.0, 0.0, 0.0, 0.0, 0.0, 0.0, 0.0)\n",
      "727 (1.0, 1.0, 0.0, 0.0, 0.0, 0.0, -0.0, -0.0)\n",
      "728 (1.0, 1.0, 0.0, 0.0, 0.0, 0.0, 0.0, 0.0)\n",
      "729 (1.0, 1.0, 0.0, 0.0, 0.0, 0.0, 0.0, 0.0)\n",
      "730 (1.0, 1.0, 0.0, 0.0, 0.0, 0.0, -0.0, -0.0)\n",
      "731 (1.0, 1.0, 0.0, 0.0, 0.0, 0.0, 0.0, 0.0)\n",
      "732 (1.0, 1.0, 0.0, 0.0, 0.0, 0.0, 0.0, 0.0)\n",
      "733 (1.0, 1.0, 0.0, 0.0, 0.0, 0.0, -0.0, -0.0)\n",
      "734 (1.0, 1.0, 0.0, 0.0, 0.0, 0.0, 0.0, 0.0)\n",
      "735 (1.0, 1.0, 0.0, 0.0, 0.0, 0.0, 0.0, 0.0)\n",
      "736 (1.0, 1.0, 0.0, 0.0, 0.0, 0.0, -0.0, -0.0)\n",
      "737 (1.0, 1.0, 0.0, 0.0, 0.0, 0.0, 0.0, 0.0)\n",
      "738 (1.0, 1.0, 0.0, 0.0, 0.0, 0.0, 0.0, 0.0)\n",
      "739 (1.0, 1.0, 0.0, 0.0, 0.0, 0.0, -0.0, -0.0)\n",
      "740 (1.0, 1.0, 0.0, 0.0, 0.0, 0.0, 0.0, 0.0)\n",
      "741 (1.0, 1.0, 0.0, 0.0, 0.0, 0.0, 0.0, 0.0)\n",
      "742 (1.0, 1.0, 0.0, 0.0, 0.0, 0.0, -0.0, -0.0)\n",
      "743 (1.0, 1.0, 0.0, 0.0, 0.0, 0.0, 0.0, 0.0)\n",
      "744 (1.0, 1.0, 0.0, 0.0, 0.0, 0.0, 0.0, 0.0)\n",
      "745 (1.0, 1.0, 0.0, 0.0, 0.0, 0.0, -0.0, -0.0)\n",
      "746 (1.0, 1.0, 0.0, 0.0, 0.0, 0.0, 0.0, 0.0)\n",
      "747 (1.0, 1.0, 0.0, 0.0, 0.0, 0.0, 0.0, 0.0)\n",
      "748 (1.0, 1.0, 0.0, 0.0, 0.0, 0.0, -0.0, -0.0)\n",
      "749 (1.0, 1.0, 0.0, 0.0, 0.0, 0.0, 0.0, 0.0)\n",
      "750 (1.0, 1.0, 0.0, 0.0, 0.0, 0.0, 0.417, 0.0)\n",
      "751 (1.0, 1.0, 0.0, 0.0, 0.0, 0.0, -0.834, -0.0)\n",
      "752 (1.0, 1.0, 0.0, 0.0, 0.0, 0.0, 0.417, 0.0)\n",
      "753 (1.0, 1.0, 0.0, 0.0, 0.0, 0.0, 0.417, 0.0)\n",
      "754 (1.0, 1.0, 0.0, 0.0, 0.0, 0.0, -0.834, -0.0)\n",
      "755 (1.0, 1.0, 0.0, 0.0, 0.0, 0.0, 0.417, 0.0)\n",
      "756 (1.0, 1.0, 0.0, 0.0, 0.0, 0.0, 0.417, 0.0)\n",
      "757 (1.0, 1.0, 0.0, 0.0, 0.0, 0.0, -0.834, -0.0)\n",
      "758 (1.0, 1.0, 0.0, 0.0, 0.0, 0.0, 0.417, 0.0)\n",
      "759 (1.0, 1.0, 0.0, 0.0, 0.0, 0.0, 0.417, 0.0)\n",
      "760 (1.0, 1.0, 0.0, 0.0, 0.0, 0.0, -0.834, -0.0)\n",
      "761 (1.0, 1.0, 0.0, 0.0, 0.0, 0.0, 0.417, 0.0)\n",
      "762 (1.0, 1.0, 0.0, 0.0, 0.0, 0.0, 0.417, 0.0)\n",
      "763 (1.0, 1.0, 0.0, 0.0, 0.0, 0.0, -0.834, -0.0)\n",
      "764 (1.0, 1.0, 0.0, 0.0, 0.0, 0.0, 0.417, 0.0)\n",
      "765 (1.0, 1.0, 0.0, 0.0, 0.0, 0.0, 0.417, 0.0)\n",
      "766 (1.0, 1.0, 0.0, 0.0, 0.0, 0.0, -0.834, -0.0)\n",
      "767 (1.0, 1.0, 0.0, 0.0, 0.0, 0.0, 0.417, 0.0)\n",
      "768 (1.0, 1.0, 0.0, 0.0, 0.0, 0.0, 0.417, 0.0)\n",
      "769 (1.0, 1.0, 0.0, 0.0, 0.0, 0.0, -0.834, -0.0)\n",
      "770 (1.0, 1.0, 0.0, 0.0, 0.0, 0.0, 0.417, 0.0)\n",
      "771 (1.0, 1.0, 0.0, 0.0, 0.0, 0.0, 0.417, 0.0)\n",
      "772 (1.0, 1.0, 0.0, 0.0, 0.0, 0.0, -0.834, -0.0)\n",
      "773 (1.0, 1.0, 0.0, 0.0, 0.0, 0.0, 0.417, 0.0)\n",
      "774 (1.0, 1.0, 0.0, 0.0, 0.0, 0.0, 0.417, 0.0)\n",
      "775 (1.0, 1.0, 0.0, 0.0, 0.0, 0.0, -0.834, -0.0)\n",
      "776 (1.0, 1.0, 0.0, 0.0, 0.0, 0.0, 0.417, 0.0)\n",
      "777 (1.0, 1.0, 0.0, 0.0, 0.0, 0.0, 0.417, 0.0)\n",
      "778 (1.0, 1.0, 0.0, 0.0, 0.0, 0.0, -0.834, -0.0)\n",
      "779 (1.0, 1.0, 0.0, 0.0, 0.0, 0.0, 0.417, 0.0)\n",
      "780 (1.0, 1.0, 0.0, 0.0, 0.0, 0.0, 0.417, 0.0)\n",
      "781 (1.0, 1.0, 0.0, 0.0, 0.0, 0.0, -0.834, -0.0)\n",
      "782 (1.0, 1.0, 0.0, 0.0, 0.0, 0.0, 0.417, 0.0)\n",
      "783 (1.0, 1.0, 0.0, 0.0, 0.0, 0.0, 0.417, 0.0)\n",
      "784 (1.0, 1.0, 0.0, 0.0, 0.0, 0.0, -0.834, -0.0)\n",
      "785 (1.0, 1.0, 0.0, 0.0, 0.0, 0.0, 0.417, 0.0)\n",
      "786 (1.0, 1.0, 0.0, 0.0, 0.0, 0.0, 0.417, 0.0)\n",
      "787 (1.0, 1.0, 0.0, 0.0, 0.0, 0.0, -0.834, -0.0)\n",
      "788 (1.0, 1.0, 0.0, 0.0, 0.0, 0.0, 0.417, 0.0)\n",
      "789 (1.0, 1.0, 0.0, 0.0, 0.0, 0.0, 0.417, 0.0)\n",
      "790 (1.0, 1.0, 0.0, 0.0, 0.0, 0.0, -0.834, -0.0)\n",
      "791 (1.0, 1.0, 0.0, 0.0, 0.0, 0.0, 0.417, 0.0)\n",
      "792 (1.0, 1.0, 0.0, 0.0, 0.0, 0.0, 0.417, 0.0)\n",
      "793 (1.0, 1.0, 0.0, 0.0, 0.0, 0.0, -0.834, -0.0)\n",
      "794 (1.0, 1.0, 0.0, 0.0, 0.0, 0.0, 0.417, 0.0)\n",
      "795 (1.0, 1.0, 0.0, 0.0, 0.0, 0.0, 0.417, 0.0)\n",
      "796 (1.0, 1.0, 0.0, 0.0, 0.0, 0.0, -0.834, -0.0)\n",
      "797 (1.0, 1.0, 0.0, 0.0, 0.0, 0.0, 0.417, 0.0)\n",
      "798 (1.0, 1.0, 0.0, 0.0, 0.0, 0.0, 0.417, 0.0)\n",
      "799 (1.0, 1.0, 0.0, 0.0, 0.0, 0.0, -0.834, -0.0)\n",
      "800 (1.0, 1.0, 0.0, 0.0, 0.0, 0.0, 0.417, 0.0)\n",
      "801 (1.0, 1.0, 0.0, 0.0, 0.0, 0.0, 0.417, 0.0)\n",
      "802 (1.0, 1.0, 0.0, 0.0, 0.0, 0.0, -0.834, -0.0)\n",
      "803 (1.0, 1.0, 0.0, 0.0, 0.0, 0.0, 0.417, 0.0)\n",
      "804 (1.0, 1.0, 0.0, 0.0, 0.0, 0.0, 0.417, 0.0)\n",
      "805 (1.0, 1.0, 0.0, 0.0, 0.0, 0.0, -0.834, -0.0)\n",
      "806 (1.0, 1.0, 0.0, 0.0, 0.0, 0.0, 0.417, 0.0)\n",
      "807 (1.0, 1.0, 0.0, 0.0, 0.0, 0.0, 0.417, 0.0)\n",
      "808 (1.0, 1.0, 0.0, 0.0, 0.0, 0.0, -0.834, -0.0)\n",
      "809 (1.0, 1.0, 0.0, 0.0, 0.0, 0.0, 0.417, 0.0)\n",
      "810 (1.0, 1.0, 0.0, 0.0, 0.0, 0.0, 0.417, 0.0)\n",
      "811 (1.0, 1.0, 0.0, 0.0, 0.0, 0.0, -0.834, -0.0)\n",
      "812 (1.0, 1.0, 0.0, 0.0, 0.0, 0.0, 0.417, 0.0)\n",
      "813 (1.0, 1.0, 0.0, 0.0, 0.0, 0.0, 0.417, 0.0)\n",
      "814 (1.0, 1.0, 0.0, 0.0, 0.0, 0.0, -0.834, -0.0)\n",
      "815 (1.0, 1.0, 0.0, 0.0, 0.0, 0.0, 0.417, 0.0)\n",
      "816 (1.0, 1.0, 0.0, 0.0, 0.0, 0.0, 0.417, 0.0)\n",
      "817 (1.0, 1.0, 0.0, 0.0, 0.0, 0.0, -0.834, -0.0)\n",
      "818 (1.0, 1.0, 0.0, 0.0, 0.0, 0.0, 0.417, 0.0)\n",
      "819 (1.0, 1.0, 0.0, 0.0, 0.0, 0.0, 0.417, 0.0)\n",
      "820 (1.0, 1.0, 0.0, 0.0, 0.0, 0.0, -0.834, -0.0)\n",
      "821 (1.0, 1.0, 0.0, 0.0, 0.0, 0.0, 0.417, 0.0)\n",
      "822 (1.0, 1.0, 0.0, 0.0, 0.0, 0.0, 0.417, 0.0)\n",
      "823 (1.0, 1.0, 0.0, 0.0, 0.0, 0.0, -0.834, -0.0)\n",
      "824 (1.0, 1.0, 0.0, 0.0, 0.0, 0.0, 0.417, 0.0)\n",
      "825 (1.0, 1.0, 0.0, 0.0, 0.0, 0.0, 0.417, 0.0)\n",
      "826 (1.0, 1.0, 0.0, 0.0, 0.0, 0.0, -0.834, -0.0)\n",
      "827 (1.0, 1.0, 0.0, 0.0, 0.0, 0.0, 0.417, 0.0)\n",
      "828 (1.0, 1.0, 0.0, 0.0, 0.0, 0.0, 0.417, 0.0)\n",
      "829 (1.0, 1.0, 0.0, 0.0, 0.0, 0.0, -0.834, -0.0)\n",
      "830 (1.0, 1.0, 0.0, 0.0, 0.0, 0.0, 0.417, 0.0)\n",
      "831 (1.0, 1.0, 0.0, 0.0, 0.0, 0.0, 0.417, 0.0)\n",
      "832 (1.0, 1.0, 0.0, 0.0, 0.0, 0.0, -0.834, -0.0)\n",
      "833 (1.0, 1.0, 0.0, 0.0, 0.0, 0.0, 0.417, 0.0)\n",
      "834 (1.0, 1.0, 0.0, 0.0, 0.0, 0.0, 0.417, 0.0)\n",
      "835 (1.0, 1.0, 0.0, 0.0, 0.0, 0.0, -0.834, -0.0)\n",
      "836 (1.0, 1.0, 0.0, 0.0, 0.0, 0.0, 0.417, 0.0)\n",
      "837 (1.0, 1.0, 0.0, 0.0, 0.0, 0.0, 0.417, 0.0)\n",
      "838 (1.0, 1.0, 0.0, 0.0, 0.0, 0.0, -0.834, -0.0)\n",
      "839 (1.0, 1.0, 0.0, 0.0, 0.0, 0.0, 0.417, 0.0)\n",
      "840 (1.0, 1.0, 0.0, 0.0, 0.0, 0.0, 0.417, 0.0)\n",
      "841 (1.0, 1.0, 0.0, 0.0, 0.0, 0.0, -0.834, -0.0)\n",
      "842 (1.0, 1.0, 0.0, 0.0, 0.0, 0.0, 0.417, 0.0)\n",
      "843 (1.0, 1.0, 0.0, 0.0, 0.0, 0.0, 0.417, 0.0)\n",
      "844 (1.0, 1.0, 0.0, 0.0, 0.0, 0.0, -0.834, -0.0)\n",
      "845 (1.0, 1.0, 0.0, 0.0, 0.0, 0.0, 0.417, 0.0)\n",
      "846 (1.0, 1.0, 0.0, 0.0, 0.0, 0.0, 0.417, 0.0)\n",
      "847 (1.0, 1.0, 0.0, 0.0, 0.0, 0.0, -0.834, -0.0)\n",
      "848 (1.0, 1.0, 0.0, 0.0, 0.0, 0.0, 0.417, 0.0)\n",
      "849 (1.0, 1.0, 0.0, 0.0, 0.0, 0.0, 0.417, 0.0)\n",
      "850 (1.0, 1.0, 0.0, 0.0, 0.0, 0.0, -0.834, -0.0)\n",
      "851 (1.0, 1.0, 0.0, 0.0, 0.0, 0.0, 0.417, 0.0)\n",
      "852 (1.0, 1.0, 0.0, 0.0, 0.0, 0.0, 0.417, 0.0)\n",
      "853 (1.0, 1.0, 0.0, 0.0, 0.0, 0.0, -0.834, -0.0)\n",
      "854 (1.0, 1.0, 0.0, 0.0, 0.0, 0.0, 0.417, 0.0)\n",
      "855 (1.0, 1.0, 0.0, 0.0, 0.0, 0.0, 0.417, 0.0)\n",
      "856 (1.0, 1.0, 0.0, 0.0, 0.0, 0.0, -0.834, -0.0)\n",
      "857 (1.0, 1.0, 0.0, 0.0, 0.0, 0.0, 0.417, 0.0)\n",
      "858 (1.0, 1.0, 0.0, 0.0, 0.0, 0.0, 0.417, 0.0)\n",
      "859 (1.0, 1.0, 0.0, 0.0, 0.0, 0.0, -0.834, -0.0)\n",
      "860 (1.0, 1.0, 0.0, 0.0, 0.0, 0.0, 0.417, 0.0)\n",
      "861 (1.0, 1.0, 0.0, 0.0, 0.0, 0.0, 0.417, 0.0)\n",
      "862 (1.0, 1.0, 0.0, 0.0, 0.0, 0.0, -0.834, -0.0)\n",
      "863 (1.0, 1.0, 0.0, 0.0, 0.0, 0.0, 0.417, 0.0)\n",
      "864 (1.0, 1.0, 0.0, 0.0, 0.0, 0.0, 0.417, 0.0)\n",
      "865 (1.0, 1.0, 0.0, 0.0, 0.0, 0.0, -0.834, -0.0)\n",
      "866 (1.0, 1.0, 0.0, 0.0, 0.0, 0.0, 0.417, 0.0)\n",
      "867 (1.0, 1.0, 0.0, 0.0, 0.0, 0.0, 0.417, 0.0)\n",
      "868 (1.0, 1.0, 0.0, 0.0, 0.0, 0.0, -0.834, -0.0)\n",
      "869 (1.0, 1.0, 0.0, 0.0, 0.0, 0.0, 0.417, 0.0)\n",
      "870 (1.0, 1.0, 0.0, 0.0, 0.0, 0.0, 0.417, 0.0)\n",
      "871 (1.0, 1.0, 0.0, 0.0, 0.0, 0.0, -0.834, -0.0)\n",
      "872 (1.0, 1.0, 0.0, 0.0, 0.0, 0.0, 0.417, 0.0)\n",
      "873 (1.0, 1.0, 0.0, 0.0, 0.0, 0.0, 0.417, 0.0)\n",
      "874 (1.0, 1.0, 0.0, 0.0, 0.0, 0.0, -0.834, -0.0)\n",
      "875 (1.0, 1.0, 0.0, 0.0, 0.0, 0.0, 0.417, 0.0)\n",
      "876 (1.0, 1.0, 0.0, 0.0, 0.0, 0.0, 0.417, 0.0)\n",
      "877 (1.0, 1.0, 0.0, 0.0, 0.0, 0.0, -0.834, -0.0)\n",
      "878 (1.0, 1.0, 0.0, 0.0, 0.0, 0.0, 0.417, 0.0)\n",
      "879 (1.0, 1.0, 0.0, 0.0, 0.0, 0.0, 0.417, 0.0)\n",
      "880 (1.0, 1.0, 0.0, 0.0, 0.0, 0.0, -0.834, -0.0)\n",
      "881 (1.0, 1.0, 0.0, 0.0, 0.0, 0.0, 0.417, 0.0)\n",
      "882 (1.0, 1.0, 0.0, 0.0, 0.0, 0.0, 0.417, 0.0)\n",
      "883 (1.0, 1.0, 0.0, 0.0, 0.0, 0.0, -0.834, -0.0)\n",
      "884 (1.0, 1.0, 0.0, 0.0, 0.0, 0.0, 0.417, 0.0)\n",
      "885 (1.0, 1.0, 0.0, 0.0, 0.0, 0.0, 0.417, 0.0)\n",
      "886 (1.0, 1.0, 0.0, 0.0, 0.0, 0.0, -0.834, -0.0)\n",
      "887 (1.0, 1.0, 0.0, 0.0, 0.0, 0.0, 0.417, 0.0)\n",
      "888 (1.0, 1.0, 0.0, 0.0, 0.0, 0.0, 0.417, 0.0)\n",
      "889 (1.0, 1.0, 0.0, 0.0, 0.0, 0.0, -0.834, -0.0)\n",
      "890 (1.0, 1.0, 0.0, 0.0, 0.0, 0.0, 0.417, 0.0)\n",
      "891 (1.0, 1.0, 0.0, 0.0, 0.0, 0.0, 0.417, 0.0)\n",
      "892 (1.0, 1.0, 0.0, 0.0, 0.0, 0.0, -0.834, -0.0)\n",
      "893 (1.0, 1.0, 0.0, 0.0, 0.0, 0.0, 0.417, 0.0)\n",
      "894 (1.0, 1.0, 0.0, 0.0, 0.0, 0.0, 0.417, 0.0)\n",
      "895 (1.0, 1.0, 0.0, 0.0, 0.0, 0.0, -0.834, -0.0)\n",
      "896 (1.0, 1.0, 0.0, 0.0, 0.0, 0.0, 0.417, 0.0)\n",
      "897 (1.0, 1.0, 0.0, 0.0, 0.0, 0.0, 0.417, 0.0)\n",
      "898 (1.0, 1.0, 0.0, 0.0, 0.0, 0.0, -0.834, -0.0)\n",
      "899 (1.0, 1.0, 0.0, 0.0, 0.0, 0.0, 0.417, 0.0)\n",
      "900 (1.0, 1.0, 0.0, 0.0, 0.0, 0.0, 0.417, 0.0)\n",
      "901 (1.0, 1.0, 0.0, 0.0, 0.0, 0.0, -0.834, -0.0)\n",
      "902 (1.0, 1.0, 0.0, 0.0, 0.0, 0.0, 0.417, 0.0)\n",
      "903 (1.0, 1.0, 0.0, 0.0, 0.0, 0.0, 0.417, 0.0)\n",
      "904 (1.0, 1.0, 0.0, 0.0, 0.0, 0.0, -0.834, -0.0)\n",
      "905 (1.0, 1.0, 0.0, 0.0, 0.0, 0.0, 0.417, 0.0)\n",
      "906 (1.0, 1.0, 0.0, 0.0, 0.0, 0.0, 0.417, 0.0)\n",
      "907 (1.0, 1.0, 0.0, 0.0, 0.0, 0.0, -0.834, -0.0)\n",
      "908 (1.0, 1.0, 0.0, 0.0, 0.0, 0.0, 0.417, 0.0)\n",
      "909 (1.0, 1.0, 0.0, 0.0, 0.0, 0.0, 0.417, 0.0)\n",
      "910 (1.0, 1.0, 0.0, 0.0, 0.0, 0.0, -0.834, -0.0)\n",
      "911 (1.0, 1.0, 0.0, 0.0, 0.0, 0.0, 0.417, 0.0)\n",
      "912 (1.0, 1.0, 0.0, 0.0, 0.0, 0.0, 0.417, 0.0)\n",
      "913 (1.0, 1.0, 0.0, 0.0, 0.0, 0.0, -0.834, -0.0)\n",
      "914 (1.0, 1.0, 0.0, 0.0, 0.0, 0.0, 0.417, 0.0)\n",
      "915 (1.0, 1.0, 0.0, 0.0, 0.0, 0.0, 0.417, 0.0)\n",
      "916 (1.0, 1.0, 0.0, 0.0, 0.0, 0.0, -0.834, -0.0)\n",
      "917 (1.0, 1.0, 0.0, 0.0, 0.0, 0.0, 0.417, 0.0)\n",
      "918 (1.0, 1.0, 0.0, 0.0, 0.0, 0.0, 0.417, 0.0)\n",
      "919 (1.0, 1.0, 0.0, 0.0, 0.0, 0.0, -0.834, -0.0)\n",
      "920 (1.0, 1.0, 0.0, 0.0, 0.0, 0.0, 0.417, 0.0)\n",
      "921 (1.0, 1.0, 0.0, 0.0, 0.0, 0.0, 0.417, 0.0)\n",
      "922 (1.0, 1.0, 0.0, 0.0, 0.0, 0.0, -0.834, -0.0)\n",
      "923 (1.0, 1.0, 0.0, 0.0, 0.0, 0.0, 0.417, 0.0)\n",
      "924 (1.0, 1.0, 0.0, 0.0, 0.0, 0.0, 0.417, 0.0)\n",
      "925 (1.0, 1.0, 0.0, 0.0, 0.0, 0.0, -0.834, -0.0)\n",
      "926 (1.0, 1.0, 0.0, 0.0, 0.0, 0.0, 0.417, 0.0)\n",
      "927 (1.0, 1.0, 0.0, 0.0, 0.0, 0.0, 0.417, 0.0)\n",
      "928 (1.0, 1.0, 0.0, 0.0, 0.0, 0.0, -0.834, -0.0)\n",
      "929 (1.0, 1.0, 0.0, 0.0, 0.0, 0.0, 0.417, 0.0)\n",
      "930 (1.0, 1.0, 0.0, 0.0, 0.0, 0.0, 0.417, 0.0)\n",
      "931 (1.0, 1.0, 0.0, 0.0, 0.0, 0.0, -0.834, -0.0)\n",
      "932 (1.0, 1.0, 0.0, 0.0, 0.0, 0.0, 0.417, 0.0)\n",
      "933 (1.0, 1.0, 0.0, 0.0, 0.0, 0.0, 0.417, 0.0)\n",
      "934 (1.0, 1.0, 0.0, 0.0, 0.0, 0.0, -0.834, -0.0)\n",
      "935 (1.0, 1.0, 0.0, 0.0, 0.0, 0.0, 0.417, 0.0)\n",
      "936 (1.0, 1.0, 0.0, 0.0, 0.0, 0.0, 0.417, 0.0)\n",
      "937 (1.0, 1.0, 0.0, 0.0, 0.0, 0.0, -0.834, -0.0)\n",
      "938 (1.0, 1.0, 0.0, 0.0, 0.0, 0.0, 0.417, 0.0)\n",
      "939 (1.0, 1.0, 0.0, 0.0, 0.0, 0.0, 0.417, 0.0)\n",
      "940 (1.0, 1.0, 0.0, 0.0, 0.0, 0.0, -0.834, -0.0)\n",
      "941 (1.0, 1.0, 0.0, 0.0, 0.0, 0.0, 0.417, 0.0)\n",
      "942 (1.0, 1.0, 0.0, 0.0, 0.0, 0.0, 0.417, 0.0)\n",
      "943 (1.0, 1.0, 0.0, 0.0, 0.0, 0.0, -0.834, -0.0)\n",
      "944 (1.0, 1.0, 0.0, 0.0, 0.0, 0.0, 0.417, 0.0)\n",
      "945 (1.0, 1.0, 0.0, 0.0, 0.0, 0.0, 0.417, 0.0)\n",
      "946 (1.0, 1.0, 0.0, 0.0, 0.0, 0.0, -0.834, -0.0)\n",
      "947 (1.0, 1.0, 0.0, 0.0, 0.0, 0.0, 0.417, 0.0)\n",
      "948 (1.0, 1.0, 0.0, 0.0, 0.0, 0.0, 0.417, 0.0)\n",
      "949 (1.0, 1.0, 0.0, 0.0, 0.0, 0.0, -0.834, -0.0)\n",
      "950 (1.0, 1.0, 0.0, 0.0, 0.0, 0.0, 0.417, 0.0)\n",
      "951 (1.0, 1.0, 0.0, 0.0, 0.0, 0.0, 0.417, 0.0)\n",
      "952 (1.0, 1.0, 0.0, 0.0, 0.0, 0.0, -0.834, -0.0)\n",
      "953 (1.0, 1.0, 0.0, 0.0, 0.0, 0.0, 0.417, 0.0)\n",
      "954 (1.0, 1.0, 0.0, 0.0, 0.0, 0.0, 0.417, 0.0)\n",
      "955 (1.0, 1.0, 0.0, 0.0, 0.0, 0.0, -0.834, -0.0)\n",
      "956 (1.0, 1.0, 0.0, 0.0, 0.0, 0.0, 0.417, 0.0)\n",
      "957 (1.0, 1.0, 0.0, 0.0, 0.0, 0.0, 0.417, 0.0)\n",
      "958 (1.0, 1.0, 0.0, 0.0, 0.0, 0.0, -0.834, -0.0)\n",
      "959 (1.0, 1.0, 0.0, 0.0, 0.0, 0.0, 0.417, 0.0)\n",
      "960 (1.0, 1.0, 0.0, 0.0, 0.0, 0.0, 0.417, 0.0)\n",
      "961 (1.0, 1.0, 0.0, 0.0, 0.0, 0.0, -0.834, -0.0)\n",
      "962 (1.0, 1.0, 0.0, 0.0, 0.0, 0.0, 0.417, 0.0)\n",
      "963 (1.0, 1.0, 0.0, 0.0, 0.0, 0.0, 0.417, 0.0)\n",
      "964 (1.0, 1.0, 0.0, 0.0, 0.0, 0.0, -0.834, -0.0)\n",
      "965 (1.0, 1.0, 0.0, 0.0, 0.0, 0.0, 0.417, 0.0)\n",
      "966 (1.0, 1.0, 0.0, 0.0, 0.0, 0.0, 0.417, 0.0)\n",
      "967 (1.0, 1.0, 0.0, 0.0, 0.0, 0.0, -0.834, -0.0)\n",
      "968 (1.0, 1.0, 0.0, 0.0, 0.0, 0.0, 0.417, 0.0)\n",
      "969 (1.0, 1.0, 0.0, 0.0, 0.0, 0.0, 0.417, 0.0)\n",
      "970 (1.0, 1.0, 0.0, 0.0, 0.0, 0.0, -0.834, -0.0)\n",
      "971 (1.0, 1.0, 0.0, 0.0, 0.0, 0.0, 0.417, 0.0)\n",
      "972 (1.0, 1.0, 0.0, 0.0, 0.0, 0.0, 0.417, 0.0)\n",
      "973 (1.0, 1.0, 0.0, 0.0, 0.0, 0.0, -0.834, -0.0)\n",
      "974 (1.0, 1.0, 0.0, 0.0, 0.0, 0.0, 0.417, 0.0)\n",
      "975 (1.0, 1.0, 0.0, 0.0, 0.0, 0.0, 0.417, 0.0)\n",
      "976 (1.0, 1.0, 0.0, 0.0, 0.0, 0.0, -0.834, -0.0)\n",
      "977 (1.0, 1.0, 0.0, 0.0, 0.0, 0.0, 0.417, 0.0)\n",
      "978 (1.0, 1.0, 0.0, 0.0, 0.0, 0.0, 0.417, 0.0)\n",
      "979 (1.0, 1.0, 0.0, 0.0, 0.0, 0.0, -0.834, -0.0)\n",
      "980 (1.0, 1.0, 0.0, 0.0, 0.0, 0.0, 0.417, 0.0)\n",
      "981 (1.0, 1.0, 0.0, 0.0, 0.0, 0.0, 0.417, 0.0)\n",
      "982 (1.0, 1.0, 0.0, 0.0, 0.0, 0.0, -0.834, -0.0)\n",
      "983 (1.0, 1.0, 0.0, 0.0, 0.0, 0.0, 0.417, 0.0)\n",
      "984 (1.0, 1.0, 0.0, 0.0, 0.0, 0.0, 0.417, 0.0)\n",
      "985 (1.0, 1.0, 0.0, 0.0, 0.0, 0.0, -0.834, -0.0)\n",
      "986 (1.0, 1.0, 0.0, 0.0, 0.0, 0.0, 0.417, 0.0)\n",
      "987 (1.0, 1.0, 0.0, 0.0, 0.0, 0.0, 0.417, 0.0)\n",
      "988 (1.0, 1.0, 0.0, 0.0, 0.0, 0.0, -0.834, -0.0)\n",
      "989 (1.0, 1.0, 0.0, 0.0, 0.0, 0.0, 0.417, 0.0)\n",
      "990 (1.0, 1.0, 0.0, 0.0, 0.0, 0.0, 0.417, 0.0)\n",
      "991 (1.0, 1.0, 0.0, 0.0, 0.0, 0.0, -0.834, -0.0)\n",
      "992 (1.0, 1.0, 0.0, 0.0, 0.0, 0.0, 0.417, 0.0)\n",
      "993 (1.0, 1.0, 0.0, 0.0, 0.0, 0.0, 0.417, 0.0)\n",
      "994 (1.0, 1.0, 0.0, 0.0, 0.0, 0.0, -0.834, -0.0)\n",
      "995 (1.0, 1.0, 0.0, 0.0, 0.0, 0.0, 0.417, 0.0)\n",
      "996 (1.0, 1.0, 0.0, 0.0, 0.0, 0.0, 0.417, 0.0)\n",
      "997 (1.0, 1.0, 0.0, 0.0, 0.0, 0.0, -0.834, -0.0)\n",
      "998 (1.0, 1.0, 0.0, 0.0, 0.0, 0.0, 0.417, 0.0)\n",
      "999 (1.0, 1.0, 0.0, 0.0, 0.0, 0.0, 0.417, 0.0)\n",
      "1000 (1.0, 1.0, 0.0, 0.0, 0.0, 0.0, -0.834, -0.0)\n",
      "1001 (1.0, 1.0, 0.0, 0.0, 0.0, 0.0, 0.417, 0.0)\n",
      "1002 (1.0, 1.0, 0.0, 0.0, 0.0, 0.0, 0.417, 0.0)\n",
      "1003 (1.0, 1.0, 0.0, 0.0, 0.0, 0.0, -0.834, -0.0)\n",
      "1004 (1.0, 1.0, 0.0, 0.0, 0.0, 0.0, 0.417, 0.0)\n",
      "1005 (1.0, 1.0, 0.0, 0.0, 0.0, 0.0, 0.417, 0.0)\n",
      "1006 (1.0, 1.0, 0.0, 0.0, 0.0, 0.0, -0.834, -0.0)\n",
      "1007 (1.0, 1.0, 0.0, 0.0, 0.0, 0.0, 0.417, 0.0)\n",
      "1008 (1.0, 1.0, 0.0, 0.0, 0.0, 0.0, 0.417, 0.0)\n",
      "1009 (1.0, 1.0, 0.0, 0.0, 0.0, 0.0, -0.834, -0.0)\n",
      "1010 (1.0, 1.0, 0.0, 0.0, 0.0, 0.0, 0.417, 0.0)\n",
      "1011 (1.0, 1.0, 0.0, 0.0, 0.0, 0.0, 0.417, 0.0)\n",
      "1012 (1.0, 1.0, 0.0, 0.0, 0.0, 0.0, -0.834, -0.0)\n",
      "1013 (1.0, 1.0, 0.0, 0.0, 0.0, 0.0, 0.417, 0.0)\n",
      "1014 (1.0, 1.0, 0.0, 0.0, 0.0, 0.0, 0.417, 0.0)\n",
      "1015 (1.0, 1.0, 0.0, 0.0, 0.0, 0.0, -0.834, -0.0)\n",
      "1016 (1.0, 1.0, 0.0, 0.0, 0.0, 0.0, 0.417, 0.0)\n",
      "1017 (1.0, 1.0, 0.0, 0.0, 0.0, 0.0, 0.417, 0.0)\n",
      "1018 (1.0, 1.0, 0.0, 0.0, 0.0, 0.0, -0.834, -0.0)\n",
      "1019 (1.0, 1.0, 0.0, 0.0, 0.0, 0.0, 0.417, 0.0)\n",
      "1020 (1.0, 1.0, 0.0, 0.0, 0.0, 0.0, 0.417, 0.0)\n",
      "1021 (1.0, 1.0, 0.0, 0.0, 0.0, 0.0, -0.834, -0.0)\n",
      "1022 (1.0, 1.0, 0.0, 0.0, 0.0, 0.0, 0.417, 0.0)\n",
      "1023 (1.0, 1.0, 0.0, 0.0, 0.0, 0.0, 0.417, 0.0)\n",
      "1024 (1.0, 1.0, 0.0, 0.0, 0.0, 0.0, -0.834, -0.0)\n",
      "1025 (1.0, 1.0, 0.0, 0.0, 0.0, 0.0, 0.417, 0.0)\n",
      "1026 (1.0, 1.0, 0.0, 0.0, 0.0, 0.0, 0.417, 0.0)\n",
      "1027 (1.0, 1.0, 0.0, 0.0, 0.0, 0.0, -0.834, -0.0)\n",
      "1028 (1.0, 1.0, 0.0, 0.0, 0.0, 0.0, 0.417, 0.0)\n",
      "1029 (1.0, 1.0, 0.0, 0.0, 0.0, 0.0, 0.417, 0.0)\n",
      "1030 (1.0, 1.0, 0.0, 0.0, 0.0, 0.0, -0.834, -0.0)\n",
      "1031 (1.0, 1.0, 0.0, 0.0, 0.0, 0.0, 0.417, 0.0)\n",
      "1032 (1.0, 1.0, 0.0, 0.0, 0.0, 0.0, 0.417, 0.0)\n",
      "1033 (1.0, 1.0, 0.0, 0.0, 0.0, 0.0, -0.834, -0.0)\n",
      "1034 (1.0, 1.0, 0.0, 0.0, 0.0, 0.0, 0.417, 0.0)\n",
      "1035 (1.0, 1.0, 0.0, 0.0, 0.0, 0.0, 0.417, 0.0)\n",
      "1036 (1.0, 1.0, 0.0, 0.0, 0.0, 0.0, -0.834, -0.0)\n",
      "1037 (1.0, 1.0, 0.0, 0.0, 0.0, 0.0, 0.417, 0.0)\n",
      "1038 (1.0, 1.0, 0.0, 0.0, 0.0, 0.0, 0.417, 0.0)\n",
      "1039 (1.0, 1.0, 0.0, 0.0, 0.0, 0.0, -0.834, -0.0)\n",
      "1040 (1.0, 1.0, 0.0, 0.0, 0.0, 0.0, 0.417, 0.0)\n",
      "1041 (1.0, 1.0, 0.0, 0.0, 0.0, 0.0, 0.417, 0.0)\n",
      "1042 (1.0, 1.0, 0.0, 0.0, 0.0, 0.0, -0.834, -0.0)\n",
      "1043 (1.0, 1.0, 0.0, 0.0, 0.0, 0.0, 0.417, 0.0)\n",
      "1044 (1.0, 1.0, 0.0, 0.0, 0.0, 0.0, 0.417, 0.0)\n",
      "1045 (1.0, 1.0, 0.0, 0.0, 0.0, 0.0, -0.834, -0.0)\n",
      "1046 (1.0, 1.0, 0.0, 0.0, 0.0, 0.0, 0.417, 0.0)\n",
      "1047 (1.0, 1.0, 0.0, 0.0, 0.0, 0.0, 0.417, 0.0)\n",
      "1048 (1.0, 1.0, 0.0, 0.0, 0.0, 0.0, -0.834, -0.0)\n",
      "1049 (1.0, 1.0, 0.0, 0.0, 0.0, 0.0, 0.417, 0.0)\n",
      "1050 (1.0, 1.0, 0.0, 0.0, 0.0, 0.0, 0.417, 0.0)\n",
      "1051 (1.0, 1.0, 0.0, 0.0, 0.0, 0.0, -0.834, -0.0)\n",
      "1052 (1.0, 1.0, 0.0, 0.0, 0.0, 0.0, 0.417, 0.0)\n",
      "1053 (1.0, 1.0, 0.0, 0.0, 0.0, 0.0, 0.417, 0.0)\n",
      "1054 (1.0, 1.0, 0.0, 0.0, 0.0, 0.0, -0.834, -0.0)\n",
      "1055 (1.0, 1.0, 0.0, 0.0, 0.0, 0.0, 0.417, 0.0)\n",
      "1056 (1.0, 1.0, 0.0, 0.0, 0.0, 0.0, 0.417, 0.0)\n",
      "1057 (1.0, 1.0, 0.0, 0.0, 0.0, 0.0, -0.834, -0.0)\n",
      "1058 (1.0, 1.0, 0.0, 0.0, 0.0, 0.0, 0.417, 0.0)\n",
      "1059 (1.0, 1.0, 0.0, 0.0, 0.0, 0.0, 0.417, 0.0)\n",
      "1060 (1.0, 1.0, 0.0, 0.0, 0.0, 0.0, -0.834, -0.0)\n",
      "1061 (1.0, 1.0, 0.0, 0.0, 0.0, 0.0, 0.417, 0.0)\n",
      "1062 (1.0, 1.0, 0.0, 0.0, 0.0, 0.0, 0.417, 0.0)\n",
      "1063 (1.0, 1.0, 0.0, 0.0, 0.0, 0.0, -0.834, -0.0)\n",
      "1064 (1.0, 1.0, 0.0, 0.0, 0.0, 0.0, 0.417, 0.0)\n",
      "1065 (1.0, 1.0, 0.0, 0.0, 0.0, 0.0, 0.417, 0.0)\n",
      "1066 (1.0, 1.0, 0.0, 0.0, 0.0, 0.0, -0.834, -0.0)\n",
      "1067 (1.0, 1.0, 0.0, 0.0, 0.0, 0.0, 0.417, 0.0)\n",
      "1068 (1.0, 1.0, 0.0, 0.0, 0.0, 0.0, 0.417, 0.0)\n",
      "1069 (1.0, 1.0, 0.0, 0.0, 0.0, 0.0, -0.834, -0.0)\n",
      "1070 (1.0, 1.0, 0.0, 0.0, 0.0, 0.0, 0.417, 0.0)\n",
      "1071 (1.0, 1.0, 0.0, 0.0, 0.0, 0.0, 0.417, 0.0)\n",
      "1072 (1.0, 1.0, 0.0, 0.0, 0.0, 0.0, -0.834, -0.0)\n",
      "1073 (1.0, 1.0, 0.0, 0.0, 0.0, 0.0, 0.417, 0.0)\n",
      "1074 (1.0, 1.0, 0.0, 0.0, 0.0, 0.0, 0.417, 0.0)\n",
      "1075 (1.0, 1.0, 0.0, 0.0, 0.0, 0.0, -0.834, -0.0)\n",
      "1076 (1.0, 1.0, 0.0, 0.0, 0.0, 0.0, 0.417, 0.0)\n",
      "1077 (1.0, 1.0, 0.0, 0.0, 0.0, 0.0, 0.417, 0.0)\n",
      "1078 (1.0, 1.0, 0.0, 0.0, 0.0, 0.0, -0.834, -0.0)\n",
      "1079 (1.0, 1.0, 0.0, 0.0, 0.0, 0.0, 0.417, 0.0)\n",
      "1080 (1.0, 1.0, 0.0, 0.0, 0.0, 0.0, 0.417, 0.0)\n",
      "1081 (1.0, 1.0, 0.0, 0.0, 0.0, 0.0, -0.834, -0.0)\n",
      "1082 (1.0, 1.0, 0.0, 0.0, 0.0, 0.0, 0.417, 0.0)\n",
      "1083 (1.0, 1.0, 0.0, 0.0, 0.0, 0.0, 0.417, 0.0)\n",
      "1084 (1.0, 1.0, 0.0, 0.0, 0.0, 0.0, -0.834, -0.0)\n",
      "1085 (1.0, 1.0, 0.0, 0.0, 0.0, 0.0, 0.417, 0.0)\n",
      "1086 (1.0, 1.0, 0.0, 0.0, 0.0, 0.0, 0.417, 0.0)\n",
      "1087 (1.0, 1.0, 0.0, 0.0, 0.0, 0.0, -0.834, -0.0)\n",
      "1088 (1.0, 1.0, 0.0, 0.0, 0.0, 0.0, 0.417, 0.0)\n",
      "1089 (1.0, 1.0, 0.0, 0.0, 0.0, 0.0, 0.417, 0.0)\n",
      "1090 (1.0, 1.0, 0.0, 0.0, 0.0, 0.0, -0.834, -0.0)\n",
      "1091 (1.0, 1.0, 0.0, 0.0, 0.0, 0.0, 0.417, 0.0)\n",
      "1092 (1.0, 1.0, 0.0, 0.0, 0.0, 0.0, 0.417, 0.0)\n",
      "1093 (1.0, 1.0, 0.0, 0.0, 0.0, 0.0, -0.834, -0.0)\n",
      "1094 (1.0, 1.0, 0.0, 0.0, 0.0, 0.0, 0.417, 0.0)\n",
      "1095 (1.0, 1.0, 0.0, 0.0, 0.0, 0.0, 0.417, 0.0)\n",
      "1096 (1.0, 1.0, 0.0, 0.0, 0.0, 0.0, -0.834, -0.0)\n",
      "1097 (1.0, 1.0, 0.0, 0.0, 0.0, 0.0, 0.417, 0.0)\n",
      "1098 (1.0, 1.0, 0.0, 0.0, 0.0, 0.0, 0.417, 0.0)\n",
      "1099 (1.0, 1.0, 0.0, 0.0, 0.0, 0.0, -0.834, -0.0)\n",
      "1100 (1.0, 1.0, 0.0, 0.0, 0.0, 0.0, 0.417, 0.0)\n",
      "1101 (1.0, 1.0, 0.0, 0.0, 0.0, 0.0, 0.417, 0.0)\n",
      "1102 (1.0, 1.0, 0.0, 0.0, 0.0, 0.0, -0.834, -0.0)\n",
      "1103 (1.0, 1.0, 0.0, 0.0, 0.0, 0.0, 0.417, 0.0)\n",
      "1104 (1.0, 1.0, 0.0, 0.0, 0.0, 0.0, 0.417, 0.0)\n",
      "1105 (1.0, 1.0, 0.0, 0.0, 0.0, 0.0, -0.834, -0.0)\n",
      "1106 (1.0, 1.0, 0.0, 0.0, 0.0, 0.0, 0.417, 0.0)\n",
      "1107 (1.0, 1.0, 0.0, 0.0, 0.0, 0.0, 0.417, 0.0)\n",
      "1108 (1.0, 1.0, 0.0, 0.0, 0.0, 0.0, -0.834, -0.0)\n",
      "1109 (1.0, 1.0, 0.0, 0.0, 0.0, 0.0, 0.417, 0.0)\n",
      "1110 (1.0, 1.0, 0.0, 0.0, 0.0, 0.0, 0.417, 0.0)\n",
      "1111 (1.0, 1.0, 0.0, 0.0, 0.0, 0.0, -0.834, -0.0)\n",
      "1112 (1.0, 1.0, 0.0, 0.0, 0.0, 0.0, 0.417, 0.0)\n",
      "1113 (1.0, 1.0, 0.0, 0.0, 0.0, 0.0, 0.417, 0.0)\n",
      "1114 (1.0, 1.0, 0.0, 0.0, 0.0, 0.0, -0.834, -0.0)\n",
      "1115 (1.0, 1.0, 0.0, 0.0, 0.0, 0.0, 0.417, 0.0)\n",
      "1116 (1.0, 1.0, 0.0, 0.0, 0.0, 0.0, 0.417, 0.0)\n",
      "1117 (1.0, 1.0, 0.0, 0.0, 0.0, 0.0, -0.834, -0.0)\n",
      "1118 (1.0, 1.0, 0.0, 0.0, 0.0, 0.0, 0.417, 0.0)\n",
      "1119 (1.0, 1.0, 0.0, 0.0, 0.0, 0.0, 0.417, 0.0)\n",
      "1120 (1.0, 1.0, 0.0, 0.0, 0.0, 0.0, -0.834, -0.0)\n",
      "1121 (1.0, 1.0, 0.0, 0.0, 0.0, 0.0, 0.417, 0.0)\n",
      "1122 (1.0, 1.0, 0.0, 0.0, 0.0, 0.0, 0.417, 0.0)\n",
      "1123 (1.0, 1.0, 0.0, 0.0, 0.0, 0.0, -0.834, -0.0)\n",
      "1124 (1.0, 1.0, 0.0, 0.0, 0.0, 0.0, 0.417, 0.0)\n",
      "1125 (1.0, 1.0, 0.0, 0.0, 0.0, 0.0, 0.417, 0.0)\n",
      "1126 (1.0, 1.0, 0.0, 0.0, 0.0, 0.0, -0.834, -0.0)\n",
      "1127 (1.0, 1.0, 0.0, 0.0, 0.0, 0.0, 0.417, 0.0)\n",
      "1128 (1.0, 1.0, 0.0, 0.0, 0.0, 0.0, 0.417, 0.0)\n",
      "1129 (1.0, 1.0, 0.0, 0.0, 0.0, 0.0, -0.834, -0.0)\n",
      "1130 (1.0, 1.0, 0.0, 0.0, 0.0, 0.0, 0.417, 0.0)\n",
      "1131 (1.0, 1.0, 0.0, 0.0, 0.0, 0.0, 0.417, 0.0)\n",
      "1132 (1.0, 1.0, 0.0, 0.0, 0.0, 0.0, -0.834, -0.0)\n",
      "1133 (1.0, 1.0, 0.0, 0.0, 0.0, 0.0, 0.417, 0.0)\n",
      "1134 (1.0, 1.0, 0.0, 0.0, 0.0, 0.0, 0.417, 0.0)\n",
      "1135 (1.0, 1.0, 0.0, 0.0, 0.0, 0.0, -0.834, -0.0)\n",
      "1136 (1.0, 1.0, 0.0, 0.0, 0.0, 0.0, 0.417, 0.0)\n",
      "1137 (1.0, 1.0, 0.0, 0.0, 0.0, 0.0, 0.417, 0.0)\n",
      "1138 (1.0, 1.0, 0.0, 0.0, 0.0, 0.0, -0.834, -0.0)\n",
      "1139 (1.0, 1.0, 0.0, 0.0, 0.0, 0.0, 0.417, 0.0)\n",
      "1140 (1.0, 1.0, 0.0, 0.0, 0.0, 0.0, 0.417, 0.0)\n",
      "1141 (1.0, 1.0, 0.0, 0.0, 0.0, 0.0, -0.834, -0.0)\n",
      "1142 (1.0, 1.0, 0.0, 0.0, 0.0, 0.0, 0.417, 0.0)\n",
      "1143 (1.0, 1.0, 0.0, 0.0, 0.0, 0.0, 0.417, 0.0)\n",
      "1144 (1.0, 1.0, 0.0, 0.0, 0.0, 0.0, -0.834, -0.0)\n",
      "1145 (1.0, 1.0, 0.0, 0.0, 0.0, 0.0, 0.417, 0.0)\n",
      "1146 (1.0, 1.0, 0.0, 0.0, 0.0, 0.0, 0.417, 0.0)\n",
      "1147 (1.0, 1.0, 0.0, 0.0, 0.0, 0.0, -0.834, -0.0)\n",
      "1148 (1.0, 1.0, 0.0, 0.0, 0.0, 0.0, 0.417, 0.0)\n",
      "1149 (1.0, 1.0, 0.0, 0.0, 0.0, 0.0, 0.417, 0.0)\n",
      "1150 (1.0, 1.0, 0.0, 0.0, 0.0, 0.0, -0.834, -0.0)\n",
      "1151 (1.0, 1.0, 0.0, 0.0, 0.0, 0.0, 0.417, 0.0)\n",
      "1152 (1.0, 1.0, 0.0, 0.0, 0.0, 0.0, 0.417, 0.0)\n",
      "1153 (1.0, 1.0, 0.0, 0.0, 0.0, 0.0, -0.834, -0.0)\n",
      "1154 (1.0, 1.0, 0.0, 0.0, 0.0, 0.0, 0.417, 0.0)\n",
      "1155 (1.0, 1.0, 0.0, 0.0, 0.0, 0.0, 0.417, 0.0)\n",
      "1156 (1.0, 1.0, 0.0, 0.0, 0.0, 0.0, -0.834, -0.0)\n",
      "1157 (1.0, 1.0, 0.0, 0.0, 0.0, 0.0, 0.417, 0.0)\n",
      "1158 (1.0, 1.0, 0.0, 0.0, 0.0, 0.0, 0.417, 0.0)\n",
      "1159 (1.0, 1.0, 0.0, 0.0, 0.0, 0.0, -0.834, -0.0)\n",
      "1160 (1.0, 1.0, 0.0, 0.0, 0.0, 0.0, 0.417, 0.0)\n",
      "1161 (1.0, 1.0, 0.0, 0.0, 0.0, 0.0, 0.417, 0.0)\n",
      "1162 (1.0, 1.0, 0.0, 0.0, 0.0, 0.0, -0.834, -0.0)\n",
      "1163 (1.0, 1.0, 0.0, 0.0, 0.0, 0.0, 0.417, 0.0)\n",
      "1164 (1.0, 1.0, 0.0, 0.0, 0.0, 0.0, 0.417, 0.0)\n",
      "1165 (1.0, 1.0, 0.0, 0.0, 0.0, 0.0, -0.834, -0.0)\n",
      "1166 (1.0, 1.0, 0.0, 0.0, 0.0, 0.0, 0.417, 0.0)\n",
      "1167 (1.0, 1.0, 0.0, 0.0, 0.0, 0.0, 0.417, 0.0)\n",
      "1168 (1.0, 1.0, 0.0, 0.0, 0.0, 0.0, -0.834, -0.0)\n",
      "1169 (1.0, 1.0, 0.0, 0.0, 0.0, 0.0, 0.417, 0.0)\n",
      "1170 (1.0, 1.0, 0.0, 0.0, 0.0, 0.0, 0.417, 0.0)\n",
      "1171 (1.0, 1.0, 0.0, 0.0, 0.0, 0.0, -0.834, -0.0)\n",
      "1172 (1.0, 1.0, 0.0, 0.0, 0.0, 0.0, 0.417, 0.0)\n",
      "1173 (1.0, 1.0, 0.0, 0.0, 0.0, 0.0, 0.417, 0.0)\n",
      "1174 (1.0, 1.0, 0.0, 0.0, 0.0, 0.0, -0.834, -0.0)\n",
      "1175 (1.0, 1.0, 0.0, 0.0, 0.0, 0.0, 0.417, 0.0)\n",
      "1176 (1.0, 1.0, 0.0, 0.0, 0.0, 0.0, 0.417, 0.0)\n",
      "1177 (1.0, 1.0, 0.0, 0.0, 0.0, 0.0, -0.834, -0.0)\n",
      "1178 (1.0, 1.0, 0.0, 0.0, 0.0, 0.0, 0.417, 0.0)\n",
      "1179 (1.0, 1.0, 0.0, 0.0, 0.0, 0.0, 0.417, 0.0)\n",
      "1180 (1.0, 1.0, 0.0, 0.0, 0.0, 0.0, -0.834, -0.0)\n",
      "1181 (1.0, 1.0, 0.0, 0.0, 0.0, 0.0, 0.417, 0.0)\n",
      "1182 (1.0, 1.0, 0.0, 0.0, 0.0, 0.0, 0.417, 0.0)\n",
      "1183 (1.0, 1.0, 0.0, 0.0, 0.0, 0.0, -0.834, -0.0)\n",
      "1184 (1.0, 1.0, 0.0, 0.0, 0.0, 0.0, 0.417, 0.0)\n",
      "1185 (1.0, 1.0, 0.0, 0.0, 0.0, 0.0, 0.417, 0.0)\n",
      "1186 (1.0, 1.0, 0.0, 0.0, 0.0, 0.0, -0.834, -0.0)\n",
      "1187 (1.0, 1.0, 0.0, 0.0, 0.0, 0.0, 0.417, 0.0)\n",
      "1188 (1.0, 1.0, 0.0, 0.0, 0.0, 0.0, 0.417, 0.0)\n",
      "1189 (1.0, 1.0, 0.0, 0.0, 0.0, 0.0, -0.834, -0.0)\n",
      "1190 (1.0, 1.0, 0.0, 0.0, 0.0, 0.0, 0.417, 0.0)\n",
      "1191 (1.0, 1.0, 0.0, 0.0, 0.0, 0.0, 0.417, 0.0)\n",
      "1192 (1.0, 1.0, 0.0, 0.0, 0.0, 0.0, -0.834, -0.0)\n",
      "1193 (1.0, 1.0, 0.0, 0.0, 0.0, 0.0, 0.417, 0.0)\n",
      "1194 (1.0, 1.0, 0.0, 0.0, 0.0, 0.0, 0.417, 0.0)\n",
      "1195 (1.0, 1.0, 0.0, 0.0, 0.0, 0.0, -0.834, -0.0)\n",
      "1196 (1.0, 1.0, 0.0, 0.0, 0.0, 0.0, 0.417, 0.0)\n",
      "1197 (1.0, 1.0, 0.0, 0.0, 0.0, 0.0, 0.417, 0.0)\n",
      "1198 (1.0, 1.0, 0.0, 0.0, 0.0, 0.0, -0.834, -0.0)\n",
      "1199 (1.0, 1.0, 0.0, 0.0, 0.0, 0.0, 0.417, 0.0)\n",
      "1200 (1.0, 1.0, 0.0, 0.0, 0.0, 0.0, 0.417, 0.0)\n",
      "1201 (1.0, 1.0, 0.0, 0.0, 0.0, 0.0, -0.834, -0.0)\n",
      "1202 (1.0, 1.0, 0.0, 0.0, 0.0, 0.0, 0.417, 0.0)\n",
      "1203 (1.0, 1.0, 0.0, 0.0, 0.0, 0.0, 0.417, 0.0)\n",
      "1204 (1.0, 1.0, 0.0, 0.0, 0.0, 0.0, -0.834, -0.0)\n",
      "1205 (1.0, 1.0, 0.0, 0.0, 0.0, 0.0, 0.417, 0.0)\n",
      "1206 (1.0, 1.0, 0.0, 0.0, 0.0, 0.0, 0.417, 0.0)\n",
      "1207 (1.0, 1.0, 0.0, 0.0, 0.0, 0.0, -0.834, -0.0)\n",
      "1208 (1.0, 1.0, 0.0, 0.0, 0.0, 0.0, 0.417, 0.0)\n",
      "1209 (1.0, 1.0, 0.0, 0.0, 0.0, 0.0, 0.417, 0.0)\n",
      "1210 (1.0, 1.0, 0.0, 0.0, 0.0, 0.0, -0.834, -0.0)\n",
      "1211 (1.0, 1.0, 0.0, 0.0, 0.0, 0.0, 0.417, 0.0)\n",
      "1212 (1.0, 1.0, 0.0, 0.0, 0.0, 0.0, 0.417, 0.0)\n",
      "1213 (1.0, 1.0, 0.0, 0.0, 0.0, 0.0, -0.834, -0.0)\n",
      "1214 (1.0, 1.0, 0.0, 0.0, 0.0, 0.0, 0.417, 0.0)\n",
      "1215 (1.0, 1.0, 0.0, 0.0, 0.0, 0.0, 0.417, 0.0)\n",
      "1216 (1.0, 1.0, 0.0, 0.0, 0.0, 0.0, -0.834, -0.0)\n",
      "1217 (1.0, 1.0, 0.0, 0.0, 0.0, 0.0, 0.417, 0.0)\n",
      "1218 (1.0, 1.0, 0.0, 0.0, 0.0, 0.0, 0.417, 0.0)\n",
      "1219 (1.0, 1.0, 0.0, 0.0, 0.0, 0.0, -0.834, -0.0)\n",
      "1220 (1.0, 1.0, 0.0, 0.0, 0.0, 0.0, 0.417, 0.0)\n",
      "1221 (1.0, 1.0, 0.0, 0.0, 0.0, 0.0, 0.417, 0.0)\n",
      "1222 (1.0, 1.0, 0.0, 0.0, 0.0, 0.0, -0.834, -0.0)\n",
      "1223 (1.0, 1.0, 0.0, 0.0, 0.0, 0.0, 0.417, 0.0)\n",
      "1224 (1.0, 1.0, 0.0, 0.0, 0.0, 0.0, 0.417, 0.0)\n",
      "1225 (1.0, 1.0, 0.0, 0.0, 0.0, 0.0, -0.834, -0.0)\n",
      "1226 (1.0, 1.0, 0.0, 0.0, 0.0, 0.0, 0.417, 0.0)\n",
      "1227 (1.0, 1.0, 0.0, 0.0, 0.0, 0.0, 0.417, 0.0)\n",
      "1228 (1.0, 1.0, 0.0, 0.0, 0.0, 0.0, -0.834, -0.0)\n",
      "1229 (1.0, 1.0, 0.0, 0.0, 0.0, 0.0, 0.417, 0.0)\n",
      "1230 (1.0, 1.0, 0.0, 0.0, 0.0, 0.0, 0.417, 0.0)\n",
      "1231 (1.0, 1.0, 0.0, 0.0, 0.0, 0.0, -0.834, -0.0)\n",
      "1232 (1.0, 1.0, 0.0, 0.0, 0.0, 0.0, 0.417, 0.0)\n",
      "1233 (1.0, 1.0, 0.0, 0.0, 0.0, 0.0, 0.417, 0.0)\n",
      "1234 (1.0, 1.0, 0.0, 0.0, 0.0, 0.0, -0.834, -0.0)\n",
      "1235 (1.0, 1.0, 0.0, 0.0, 0.0, 0.0, 0.417, 0.0)\n",
      "1236 (1.0, 1.0, 0.0, 0.0, 0.0, 0.0, 0.417, 0.0)\n",
      "1237 (1.0, 1.0, 0.0, 0.0, 0.0, 0.0, -0.834, -0.0)\n",
      "1238 (1.0, 1.0, 0.0, 0.0, 0.0, 0.0, 0.417, 0.0)\n",
      "1239 (1.0, 1.0, 0.0, 0.0, 0.0, 0.0, 0.417, 0.0)\n",
      "1240 (1.0, 1.0, 0.0, 0.0, 0.0, 0.0, -0.834, -0.0)\n",
      "1241 (1.0, 1.0, 0.0, 0.0, 0.0, 0.0, 0.417, 0.0)\n",
      "1242 (1.0, 1.0, 0.0, 0.0, 0.0, 0.0, 0.417, 0.0)\n",
      "1243 (1.0, 1.0, 0.0, 0.0, 0.0, 0.0, -0.834, -0.0)\n",
      "1244 (1.0, 1.0, 0.0, 0.0, 0.0, 0.0, 0.417, 0.0)\n",
      "1245 (1.0, 1.0, 0.0, 0.0, 0.0, 0.0, 0.417, 0.0)\n",
      "1246 (1.0, 1.0, 0.0, 0.0, 0.0, 0.0, -0.834, -0.0)\n",
      "1247 (1.0, 1.0, 0.0, 0.0, 0.0, 0.0, 0.417, 0.0)\n",
      "1248 (1.0, 1.0, 0.0, 0.0, 0.0, 0.0, 0.417, 0.0)\n",
      "1249 (1.0, 1.0, 0.0, 0.0, 0.0, 0.0, -0.834, -0.0)\n",
      "1250 (1.0, 1.0, 0.0, 0.0, 0.0, 0.0, 0.417, 0.0)\n",
      "1251 (1.0, 1.0, 0.0, 0.0, 0.0, 0.0, 0.417, 0.0)\n",
      "1252 (1.0, 1.0, 0.0, 0.0, 0.0, 0.0, -0.834, -0.0)\n",
      "1253 (1.0, 1.0, 0.0, 0.0, 0.0, 0.0, 0.417, 0.0)\n",
      "1254 (1.0, 1.0, 0.0, 0.0, 0.0, 0.0, 0.417, 0.0)\n",
      "1255 (1.0, 1.0, 0.0, 0.0, 0.0, 0.0, -0.834, -0.0)\n",
      "1256 (1.0, 1.0, 0.0, 0.0, 0.0, 0.0, 0.417, 0.0)\n",
      "1257 (1.0, 1.0, 0.0, 0.0, 0.0, 0.0, 0.417, 0.0)\n",
      "1258 (1.0, 1.0, 0.0, 0.0, 0.0, 0.0, -0.834, -0.0)\n",
      "1259 (1.0, 1.0, 0.0, 0.0, 0.0, 0.0, 0.417, 0.0)\n",
      "1260 (1.0, 1.0, 0.0, 0.0, 0.0, 0.0, 0.417, 0.0)\n",
      "1261 (1.0, 1.0, 0.0, 0.0, 0.0, 0.0, -0.834, -0.0)\n",
      "1262 (1.0, 1.0, 0.0, 0.0, 0.0, 0.0, 0.417, 0.0)\n",
      "1263 (1.0, 1.0, 0.0, 0.0, 0.0, 0.0, 0.417, 0.0)\n",
      "1264 (1.0, 1.0, 0.0, 0.0, 0.0, 0.0, -0.834, -0.0)\n",
      "1265 (1.0, 1.0, 0.0, 0.0, 0.0, 0.0, 0.417, 0.0)\n",
      "1266 (1.0, 1.0, 0.0, 0.0, 0.0, 0.0, 0.417, 0.0)\n",
      "1267 (1.0, 1.0, 0.0, 0.0, 0.0, 0.0, -0.834, -0.0)\n",
      "1268 (1.0, 1.0, 0.0, 0.0, 0.0, 0.0, 0.417, 0.0)\n",
      "1269 (1.0, 1.0, 0.0, 0.0, 0.0, 0.0, 0.417, 0.0)\n",
      "1270 (1.0, 1.0, 0.0, 0.0, 0.0, 0.0, -0.834, -0.0)\n",
      "1271 (1.0, 1.0, 0.0, 0.0, 0.0, 0.0, 0.417, 0.0)\n",
      "1272 (1.0, 1.0, 0.0, 0.0, 0.0, 0.0, 0.417, 0.0)\n",
      "1273 (1.0, 1.0, 0.0, 0.0, 0.0, 0.0, -0.834, -0.0)\n",
      "1274 (1.0, 1.0, 0.0, 0.0, 0.0, 0.0, 0.417, 0.0)\n",
      "1275 (1.0, 1.0, 0.0, 0.0, 0.0, 0.0, 0.417, 0.0)\n",
      "1276 (1.0, 1.0, 0.0, 0.0, 0.0, 0.0, -0.834, -0.0)\n",
      "1277 (1.0, 1.0, 0.0, 0.0, 0.0, 0.0, 0.417, 0.0)\n",
      "1278 (1.0, 1.0, 0.0, 0.0, 0.0, 0.0, 0.417, 0.0)\n",
      "1279 (1.0, 1.0, 0.0, 0.0, 0.0, 0.0, -0.834, -0.0)\n",
      "1280 (1.0, 1.0, 0.0, 0.0, 0.0, 0.0, 0.417, 0.0)\n",
      "1281 (1.0, 1.0, 0.0, 0.0, 0.0, 0.0, 0.417, 0.0)\n",
      "1282 (1.0, 1.0, 0.0, 0.0, 0.0, 0.0, -0.834, -0.0)\n",
      "1283 (1.0, 1.0, 0.0, 0.0, 0.0, 0.0, 0.417, 0.0)\n",
      "1284 (1.0, 1.0, 0.0, 0.0, 0.0, 0.0, 0.417, 0.0)\n",
      "1285 (1.0, 1.0, 0.0, 0.0, 0.0, 0.0, -0.834, -0.0)\n",
      "1286 (1.0, 1.0, 0.0, 0.0, 0.0, 0.0, 0.417, 0.0)\n",
      "1287 (1.0, 1.0, 0.0, 0.0, 0.0, 0.0, 0.417, 0.0)\n",
      "1288 (1.0, 1.0, 0.0, 0.0, 0.0, 0.0, -0.834, -0.0)\n",
      "1289 (1.0, 1.0, 0.0, 0.0, 0.0, 0.0, 0.417, 0.0)\n",
      "1290 (1.0, 1.0, 0.0, 0.0, 0.0, 0.0, 0.417, 0.0)\n",
      "1291 (1.0, 1.0, 0.0, 0.0, 0.0, 0.0, -0.834, -0.0)\n",
      "1292 (1.0, 1.0, 0.0, 0.0, 0.0, 0.0, 0.417, 0.0)\n",
      "1293 (1.0, 1.0, 0.0, 0.0, 0.0, 0.0, 0.417, 0.0)\n",
      "1294 (1.0, 1.0, 0.0, 0.0, 0.0, 0.0, -0.834, -0.0)\n",
      "1295 (1.0, 1.0, 0.0, 0.0, 0.0, 0.0, 0.417, 0.0)\n",
      "1296 (1.0, 1.0, 0.0, 0.0, 0.0, 0.0, 0.417, 0.0)\n",
      "1297 (1.0, 1.0, 0.0, 0.0, 0.0, 0.0, -0.834, -0.0)\n",
      "1298 (1.0, 1.0, 0.0, 0.0, 0.0, 0.0, 0.417, 0.0)\n",
      "1299 (1.0, 1.0, 0.0, 0.0, 0.0, 0.0, 0.417, 0.0)\n",
      "1300 (1.0, 1.0, 0.0, 0.0, 0.0, 0.0, -0.834, -0.0)\n",
      "1301 (1.0, 1.0, 0.0, 0.0, 0.0, 0.0, 0.417, 0.0)\n",
      "1302 (1.0, 1.0, 0.0, 0.0, 0.0, 0.0, 0.417, 0.0)\n",
      "1303 (1.0, 1.0, 0.0, 0.0, 0.0, 0.0, -0.834, -0.0)\n",
      "1304 (1.0, 1.0, 0.0, 0.0, 0.0, 0.0, 0.417, 0.0)\n",
      "1305 (1.0, 1.0, 0.0, 0.0, 0.0, 0.0, 0.417, 0.0)\n",
      "1306 (1.0, 1.0, 0.0, 0.0, 0.0, 0.0, -0.834, -0.0)\n",
      "1307 (1.0, 1.0, 0.0, 0.0, 0.0, 0.0, 0.417, 0.0)\n",
      "1308 (1.0, 1.0, 0.0, 0.0, 0.0, 0.0, 0.417, 0.0)\n",
      "1309 (1.0, 1.0, 0.0, 0.0, 0.0, 0.0, -0.834, -0.0)\n",
      "1310 (1.0, 1.0, 0.0, 0.0, 0.0, 0.0, 0.417, 0.0)\n",
      "1311 (1.0, 1.0, 0.0, 0.0, 0.0, 0.0, 0.417, 0.0)\n",
      "1312 (1.0, 1.0, 0.0, 0.0, 0.0, 0.0, -0.834, -0.0)\n",
      "1313 (1.0, 1.0, 0.0, 0.0, 0.0, 0.0, 0.417, 0.0)\n",
      "1314 (1.0, 1.0, 0.0, 0.0, 0.0, 0.0, 0.417, 0.0)\n",
      "1315 (1.0, 1.0, 0.0, 0.0, 0.0, 0.0, -0.834, -0.0)\n",
      "1316 (1.0, 1.0, 0.0, 0.0, 0.0, 0.0, 0.417, 0.0)\n",
      "1317 (1.0, 1.0, 0.0, 0.0, 0.0, 0.0, 0.417, 0.0)\n",
      "1318 (1.0, 1.0, 0.0, 0.0, 0.0, 0.0, -0.834, -0.0)\n",
      "1319 (1.0, 1.0, 0.0, 0.0, 0.0, 0.0, 0.417, 0.0)\n",
      "1320 (1.0, 1.0, 0.0, 0.0, 0.0, 0.0, 0.417, 0.0)\n",
      "1321 (1.0, 1.0, 0.0, 0.0, 0.0, 0.0, -0.834, -0.0)\n",
      "1322 (1.0, 1.0, 0.0, 0.0, 0.0, 0.0, 0.417, 0.0)\n",
      "1323 (1.0, 1.0, 0.0, 0.0, 0.0, 0.0, 0.417, 0.0)\n",
      "1324 (1.0, 1.0, 0.0, 0.0, 0.0, 0.0, -0.834, -0.0)\n",
      "1325 (1.0, 1.0, 0.0, 0.0, 0.0, 0.0, 0.417, 0.0)\n",
      "1326 (1.0, 1.0, 0.0, 0.0, 0.0, 0.0, 0.417, 0.0)\n",
      "1327 (1.0, 1.0, 0.0, 0.0, 0.0, 0.0, -0.834, -0.0)\n",
      "1328 (1.0, 1.0, 0.0, 0.0, 0.0, 0.0, 0.417, 0.0)\n",
      "1329 (1.0, 1.0, 0.0, 0.0, 0.0, 0.0, 0.417, 0.0)\n",
      "1330 (1.0, 1.0, 0.0, 0.0, 0.0, 0.0, -0.834, -0.0)\n",
      "1331 (1.0, 1.0, 0.0, 0.0, 0.0, 0.0, 0.417, 0.0)\n",
      "1332 (1.0, 1.0, 0.0, 0.0, 0.0, 0.0, 0.417, 0.0)\n",
      "1333 (1.0, 1.0, 0.0, 0.0, 0.0, 0.0, -0.834, -0.0)\n",
      "1334 (1.0, 1.0, 0.0, 0.0, 0.0, 0.0, 0.417, 0.0)\n",
      "1335 (1.0, 1.0, 0.0, 0.0, 0.0, 0.0, 0.417, 0.0)\n",
      "1336 (1.0, 1.0, 0.0, 0.0, 0.0, 0.0, -0.834, -0.0)\n",
      "1337 (1.0, 1.0, 0.0, 0.0, 0.0, 0.0, 0.417, 0.0)\n",
      "1338 (1.0, 1.0, 0.0, 0.0, 0.0, 0.0, 0.417, 0.0)\n",
      "1339 (1.0, 1.0, 0.0, 0.0, 0.0, 0.0, -0.834, -0.0)\n",
      "1340 (1.0, 1.0, 0.0, 0.0, 0.0, 0.0, 0.417, 0.0)\n",
      "1341 (1.0, 1.0, 0.0, 0.0, 0.0, 0.0, 0.417, 0.0)\n",
      "1342 (1.0, 1.0, 0.0, 0.0, 0.0, 0.0, -0.834, -0.0)\n",
      "1343 (1.0, 1.0, 0.0, 0.0, 0.0, 0.0, 0.417, 0.0)\n",
      "1344 (1.0, 1.0, 0.0, 0.0, 0.0, 0.0, 0.417, 0.0)\n",
      "1345 (1.0, 1.0, 0.0, 0.0, 0.0, 0.0, -0.834, -0.0)\n",
      "1346 (1.0, 1.0, 0.0, 0.0, 0.0, 0.0, 0.417, 0.0)\n",
      "1347 (1.0, 1.0, 0.0, 0.0, 0.0, 0.0, 0.417, 0.0)\n",
      "1348 (1.0, 1.0, 0.0, 0.0, 0.0, 0.0, -0.834, -0.0)\n",
      "1349 (1.0, 1.0, 0.0, 0.0, 0.0, 0.0, 0.417, 0.0)\n",
      "1350 (1.0, 1.0, 0.0, 0.0, 0.0, 0.0, 0.417, 0.0)\n",
      "1351 (1.0, 1.0, 0.0, 0.0, 0.0, 0.0, -0.834, -0.0)\n",
      "1352 (1.0, 1.0, 0.0, 0.0, 0.0, 0.0, 0.417, 0.0)\n",
      "1353 (1.0, 1.0, 0.0, 0.0, 0.0, 0.0, 0.417, 0.0)\n",
      "1354 (1.0, 1.0, 0.0, 0.0, 0.0, 0.0, -0.834, -0.0)\n",
      "1355 (1.0, 1.0, 0.0, 0.0, 0.0, 0.0, 0.417, 0.0)\n",
      "1356 (1.0, 1.0, 0.0, 0.0, 0.0, 0.0, 0.417, 0.0)\n",
      "1357 (1.0, 1.0, 0.0, 0.0, 0.0, 0.0, -0.834, -0.0)\n",
      "1358 (1.0, 1.0, 0.0, 0.0, 0.0, 0.0, 0.417, 0.0)\n",
      "1359 (1.0, 1.0, 0.0, 0.0, 0.0, 0.0, 0.417, 0.0)\n",
      "1360 (1.0, 1.0, 0.0, 0.0, 0.0, 0.0, -0.834, -0.0)\n",
      "1361 (1.0, 1.0, 0.0, 0.0, 0.0, 0.0, 0.417, 0.0)\n",
      "1362 (1.0, 1.0, 0.0, 0.0, 0.0, 0.0, 0.417, 0.0)\n",
      "1363 (1.0, 1.0, 0.0, 0.0, 0.0, 0.0, -0.834, -0.0)\n",
      "1364 (1.0, 1.0, 0.0, 0.0, 0.0, 0.0, 0.417, 0.0)\n",
      "1365 (1.0, 1.0, 0.0, 0.0, 0.0, 0.0, 0.417, 0.0)\n",
      "1366 (1.0, 1.0, 0.0, 0.0, 0.0, 0.0, -0.834, -0.0)\n",
      "1367 (1.0, 1.0, 0.0, 0.0, 0.0, 0.0, 0.417, 0.0)\n",
      "1368 (1.0, 1.0, 0.0, 0.0, 0.0, 0.0, 0.417, 0.0)\n",
      "1369 (1.0, 1.0, 0.0, 0.0, 0.0, 0.0, -0.834, -0.0)\n",
      "1370 (1.0, 1.0, 0.0, 0.0, 0.0, 0.0, 0.417, 0.0)\n",
      "1371 (1.0, 1.0, 0.0, 0.0, 0.0, 0.0, 0.417, 0.0)\n",
      "1372 (1.0, 1.0, 0.0, 0.0, 0.0, 0.0, -0.834, -0.0)\n",
      "1373 (1.0, 1.0, 0.0, 0.0, 0.0, 0.0, 0.417, 0.0)\n",
      "1374 (1.0, 1.0, 0.0, 0.0, 0.0, 0.0, 0.417, 0.0)\n",
      "1375 (1.0, 1.0, 0.0, 0.0, 0.0, 0.0, -0.834, -0.0)\n",
      "1376 (1.0, 1.0, 0.0, 0.0, 0.0, 0.0, 0.417, 0.0)\n",
      "1377 (1.0, 1.0, 0.0, 0.0, 0.0, 0.0, 0.417, 0.0)\n",
      "1378 (1.0, 1.0, 0.0, 0.0, 0.0, 0.0, -0.834, -0.0)\n",
      "1379 (1.0, 1.0, 0.0, 0.0, 0.0, 0.0, 0.417, 0.0)\n",
      "1380 (1.0, 1.0, 0.0, 0.0, 0.0, 0.0, 0.417, 0.0)\n",
      "1381 (1.0, 1.0, 0.0, 0.0, 0.0, 0.0, -0.834, -0.0)\n",
      "1382 (1.0, 1.0, 0.0, 0.0, 0.0, 0.0, 0.417, 0.0)\n",
      "1383 (1.0, 1.0, 0.0, 0.0, 0.0, 0.0, 0.417, 0.0)\n",
      "1384 (1.0, 1.0, 0.0, 0.0, 0.0, 0.0, -0.834, -0.0)\n",
      "1385 (1.0, 1.0, 0.0, 0.0, 0.0, 0.0, 0.417, 0.0)\n",
      "1386 (1.0, 1.0, 0.0, 0.0, 0.0, 0.0, 0.417, 0.0)\n",
      "1387 (1.0, 1.0, 0.0, 0.0, 0.0, 0.0, -0.834, -0.0)\n",
      "1388 (1.0, 1.0, 0.0, 0.0, 0.0, 0.0, 0.417, 0.0)\n",
      "1389 (1.0, 1.0, 0.0, 0.0, 0.0, 0.0, 0.417, 0.0)\n",
      "1390 (1.0, 1.0, 0.0, 0.0, 0.0, 0.0, -0.834, -0.0)\n",
      "1391 (1.0, 1.0, 0.0, 0.0, 0.0, 0.0, 0.417, 0.0)\n",
      "1392 (1.0, 1.0, 0.0, 0.0, 0.0, 0.0, 0.417, 0.0)\n",
      "1393 (1.0, 1.0, 0.0, 0.0, 0.0, 0.0, -0.834, -0.0)\n",
      "1394 (1.0, 1.0, 0.0, 0.0, 0.0, 0.0, 0.417, 0.0)\n",
      "1395 (1.0, 1.0, 0.0, 0.0, 0.0, 0.0, 0.417, 0.0)\n",
      "1396 (1.0, 1.0, 0.0, 0.0, 0.0, 0.0, -0.834, -0.0)\n",
      "1397 (1.0, 1.0, 0.0, 0.0, 0.0, 0.0, 0.417, 0.0)\n",
      "1398 (1.0, 1.0, 0.0, 0.0, 0.0, 0.0, 0.417, 0.0)\n",
      "1399 (1.0, 1.0, 0.0, 0.0, 0.0, 0.0, -0.834, -0.0)\n",
      "1400 (1.0, 1.0, 0.0, 0.0, 0.0, 0.0, 0.417, 0.0)\n",
      "1401 (1.0, 1.0, 0.0, 0.0, 0.0, 0.0, 0.417, 0.0)\n",
      "1402 (1.0, 1.0, 0.0, 0.0, 0.0, 0.0, -0.834, -0.0)\n",
      "1403 (1.0, 1.0, 0.0, 0.0, 0.0, 0.0, 0.417, 0.0)\n",
      "1404 (1.0, 1.0, 0.0, 0.0, 0.0, 0.0, 0.417, 0.0)\n",
      "1405 (1.0, 1.0, 0.0, 0.0, 0.0, 0.0, -0.834, -0.0)\n",
      "1406 (1.0, 1.0, 0.0, 0.0, 0.0, 0.0, 0.417, 0.0)\n",
      "1407 (1.0, 1.0, 0.0, 0.0, 0.0, 0.0, 0.417, 0.0)\n",
      "1408 (1.0, 1.0, 0.0, 0.0, 0.0, 0.0, -0.834, -0.0)\n",
      "1409 (1.0, 1.0, 0.0, 0.0, 0.0, 0.0, 0.417, 0.0)\n",
      "1410 (1.0, 1.0, 0.0, 0.0, 0.0, 0.0, 0.417, 0.0)\n",
      "1411 (1.0, 1.0, 0.0, 0.0, 0.0, 0.0, -0.834, -0.0)\n",
      "1412 (1.0, 1.0, 0.0, 0.0, 0.0, 0.0, 0.417, 0.0)\n",
      "1413 (1.0, 1.0, 0.0, 0.0, 0.0, 0.0, 0.417, 0.0)\n",
      "1414 (1.0, 1.0, 0.0, 0.0, 0.0, 0.0, -0.834, -0.0)\n",
      "1415 (1.0, 1.0, 0.0, 0.0, 0.0, 0.0, 0.417, 0.0)\n",
      "1416 (1.0, 1.0, 0.0, 0.0, 0.0, 0.0, 0.417, 0.0)\n",
      "1417 (1.0, 1.0, 0.0, 0.0, 0.0, 0.0, -0.834, -0.0)\n",
      "1418 (1.0, 1.0, 0.0, 0.0, 0.0, 0.0, 0.417, 0.0)\n",
      "1419 (1.0, 1.0, 0.0, 0.0, 0.0, 0.0, 0.417, 0.0)\n",
      "1420 (1.0, 1.0, 0.0, 0.0, 0.0, 0.0, -0.834, -0.0)\n",
      "1421 (1.0, 1.0, 0.0, 0.0, 0.0, 0.0, 0.417, 0.0)\n",
      "1422 (1.0, 1.0, 0.0, 0.0, 0.0, 0.0, 0.417, 0.0)\n",
      "1423 (1.0, 1.0, 0.0, 0.0, 0.0, 0.0, -0.834, -0.0)\n",
      "1424 (1.0, 1.0, 0.0, 0.0, 0.0, 0.0, 0.417, 0.0)\n",
      "1425 (1.0, 1.0, 0.0, 0.0, 0.0, 0.0, 0.417, 0.0)\n",
      "1426 (1.0, 1.0, 0.0, 0.0, 0.0, 0.0, -0.834, -0.0)\n",
      "1427 (1.0, 1.0, 0.0, 0.0, 0.0, 0.0, 0.417, 0.0)\n",
      "1428 (1.0, 1.0, 0.0, 0.0, 0.0, 0.0, 0.417, 0.0)\n",
      "1429 (1.0, 1.0, 0.0, 0.0, 0.0, 0.0, -0.834, -0.0)\n",
      "1430 (1.0, 1.0, 0.0, 0.0, 0.0, 0.0, 0.417, 0.0)\n",
      "1431 (1.0, 1.0, 0.0, 0.0, 0.0, 0.0, 0.417, 0.0)\n",
      "1432 (1.0, 1.0, 0.0, 0.0, 0.0, 0.0, -0.834, -0.0)\n",
      "1433 (1.0, 1.0, 0.0, 0.0, 0.0, 0.0, 0.417, 0.0)\n",
      "1434 (1.0, 1.0, 0.0, 0.0, 0.0, 0.0, 0.417, 0.0)\n",
      "1435 (1.0, 1.0, 0.0, 0.0, 0.0, 0.0, -0.834, -0.0)\n",
      "1436 (1.0, 1.0, 0.0, 0.0, 0.0, 0.0, 0.417, 0.0)\n",
      "1437 (1.0, 1.0, 0.0, 0.0, 0.0, 0.0, 0.417, 0.0)\n",
      "1438 (1.0, 1.0, 0.0, 0.0, 0.0, 0.0, -0.834, -0.0)\n",
      "1439 (1.0, 1.0, 0.0, 0.0, 0.0, 0.0, 0.417, 0.0)\n",
      "1440 (1.0, 1.0, 0.0, 0.0, 0.0, 0.0, 0.417, 0.0)\n",
      "1441 (1.0, 1.0, 0.0, 0.0, 0.0, 0.0, -0.834, -0.0)\n",
      "1442 (1.0, 1.0, 0.0, 0.0, 0.0, 0.0, 0.417, 0.0)\n",
      "1443 (1.0, 1.0, 0.0, 0.0, 0.0, 0.0, 0.417, 0.0)\n",
      "1444 (1.0, 1.0, 0.0, 0.0, 0.0, 0.0, -0.834, -0.0)\n",
      "1445 (1.0, 1.0, 0.0, 0.0, 0.0, 0.0, 0.417, 0.0)\n",
      "1446 (1.0, 1.0, 0.0, 0.0, 0.0, 0.0, 0.417, 0.0)\n",
      "1447 (1.0, 1.0, 0.0, 0.0, 0.0, 0.0, -0.834, -0.0)\n",
      "1448 (1.0, 1.0, 0.0, 0.0, 0.0, 0.0, 0.417, 0.0)\n",
      "1449 (1.0, 1.0, 0.0, 0.0, 0.0, 0.0, 0.417, 0.0)\n",
      "1450 (1.0, 1.0, 0.0, 0.0, 0.0, 0.0, -0.834, -0.0)\n",
      "1451 (1.0, 1.0, 0.0, 0.0, 0.0, 0.0, 0.417, 0.0)\n",
      "1452 (1.0, 1.0, 0.0, 0.0, 0.0, 0.0, 0.417, 0.0)\n",
      "1453 (1.0, 1.0, 0.0, 0.0, 0.0, 0.0, -0.834, -0.0)\n",
      "1454 (1.0, 1.0, 0.0, 0.0, 0.0, 0.0, 0.417, 0.0)\n",
      "1455 (1.0, 1.0, 0.0, 0.0, 0.0, 0.0, 0.417, 0.0)\n",
      "1456 (1.0, 1.0, 0.0, 0.0, 0.0, 0.0, -0.834, -0.0)\n",
      "1457 (1.0, 1.0, 0.0, 0.0, 0.0, 0.0, 0.417, 0.0)\n",
      "1458 (1.0, 1.0, 0.0, 0.0, 0.0, 0.0, 0.417, 0.0)\n",
      "1459 (1.0, 1.0, 0.0, 0.0, 0.0, 0.0, -0.834, -0.0)\n",
      "1460 (1.0, 1.0, 0.0, 0.0, 0.0, 0.0, 0.417, 0.0)\n",
      "1461 (1.0, 1.0, 0.0, 0.0, 0.0, 0.0, 0.417, 0.0)\n",
      "1462 (1.0, 1.0, 0.0, 0.0, 0.0, 0.0, -0.834, -0.0)\n",
      "1463 (1.0, 1.0, 0.0, 0.0, 0.0, 0.0, 0.417, 0.0)\n",
      "1464 (1.0, 1.0, 0.0, 0.0, 0.0, 0.0, 0.417, 0.0)\n",
      "1465 (1.0, 1.0, 0.0, 0.0, 0.0, 0.0, -0.834, -0.0)\n",
      "1466 (1.0, 1.0, 0.0, 0.0, 0.0, 0.0, 0.417, 0.0)\n",
      "1467 (1.0, 1.0, 0.0, 0.0, 0.0, 0.0, 0.417, 0.0)\n",
      "1468 (1.0, 1.0, 0.0, 0.0, 0.0, 0.0, -0.834, -0.0)\n",
      "1469 (1.0, 1.0, 0.0, 0.0, 0.0, 0.0, 0.417, 0.0)\n",
      "1470 (1.0, 1.0, 0.0, 0.0, 0.0, 0.0, 0.417, 0.0)\n",
      "1471 (1.0, 1.0, 0.0, 0.0, 0.0, 0.0, -0.834, -0.0)\n",
      "1472 (1.0, 1.0, 0.0, 0.0, 0.0, 0.0, 0.417, 0.0)\n",
      "1473 (1.0, 1.0, 0.0, 0.0, 0.0, 0.0, 0.417, 0.0)\n",
      "1474 (1.0, 1.0, 0.0, 0.0, 0.0, 0.0, -0.834, -0.0)\n",
      "1475 (1.0, 1.0, 0.0, 0.0, 0.0, 0.0, 0.417, 0.0)\n",
      "1476 (1.0, 1.0, 0.0, 0.0, 0.0, 0.0, 0.417, 0.0)\n",
      "1477 (1.0, 1.0, 0.0, 0.0, 0.0, 0.0, -0.834, -0.0)\n",
      "1478 (1.0, 1.0, 0.0, 0.0, 0.0, 0.0, 0.417, 0.0)\n",
      "1479 (1.0, 1.0, 0.0, 0.0, 0.0, 0.0, 0.417, 0.0)\n",
      "1480 (1.0, 1.0, 0.0, 0.0, 0.0, 0.0, -0.834, -0.0)\n",
      "1481 (1.0, 1.0, 0.0, 0.0, 0.0, 0.0, 0.417, 0.0)\n",
      "1482 (1.0, 1.0, 0.0, 0.0, 0.0, 0.0, 0.417, 0.0)\n",
      "1483 (1.0, 1.0, 0.0, 0.0, 0.0, 0.0, -0.834, -0.0)\n",
      "1484 (1.0, 1.0, 0.0, 0.0, 0.0, 0.0, 0.417, 0.0)\n",
      "1485 (1.0, 1.0, 0.0, 0.0, 0.0, 0.0, 0.417, 0.0)\n",
      "1486 (1.0, 1.0, 0.0, 0.0, 0.0, 0.0, -0.834, -0.0)\n",
      "1487 (1.0, 1.0, 0.0, 0.0, 0.0, 0.0, 0.417, 0.0)\n",
      "1488 (1.0, 1.0, 0.0, 0.0, 0.0, 0.0, 0.417, 0.0)\n",
      "1489 (1.0, 1.0, 0.0, 0.0, 0.0, 0.0, -0.834, -0.0)\n",
      "1490 (1.0, 1.0, 0.0, 0.0, 0.0, 0.0, 0.417, 0.0)\n",
      "1491 (1.0, 1.0, 0.0, 0.0, 0.0, 0.0, 0.417, 0.0)\n",
      "1492 (1.0, 1.0, 0.0, 0.0, 0.0, 0.0, -0.834, -0.0)\n",
      "1493 (1.0, 1.0, 0.0, 0.0, 0.0, 0.0, 0.417, 0.0)\n",
      "1494 (1.0, 1.0, 0.0, 0.0, 0.0, 0.0, 0.417, 0.0)\n",
      "1495 (1.0, 1.0, 0.0, 0.0, 0.0, 0.0, -0.834, -0.0)\n",
      "1496 (1.0, 1.0, 0.0, 0.0, 0.0, 0.0, 0.417, 0.0)\n",
      "1497 (1.0, 1.0, 0.0, 0.0, 0.0, 0.0, 0.417, 0.0)\n",
      "1498 (1.0, 1.0, 0.0, 0.0, 0.0, 0.0, -0.834, -0.0)\n",
      "1499 (1.0, 1.0, 0.0, 0.0, 0.0, 0.0, 0.417, 0.0)\n",
      "1500 (1.0, 1.0, 0.0, 0.0, 0.0, 0.0, 0.417, 0.0)\n",
      "1501 (1.0, 1.0, 0.0, 0.0, 0.0, 0.0, -0.834, -0.0)\n",
      "1502 (1.0, 1.0, 0.0, 0.0, 0.0, 0.0, 0.417, 0.0)\n",
      "1503 (1.0, 1.0, 0.0, 0.0, 0.0, 0.0, 0.417, 0.0)\n",
      "1504 (1.0, 1.0, 0.0, 0.0, 0.0, 0.0, -0.834, -0.0)\n",
      "1505 (1.0, 1.0, 0.0, 0.0, 0.0, 0.0, 0.417, 0.0)\n",
      "1506 (1.0, 1.0, 0.0, 0.0, 0.0, 0.0, 0.417, 0.0)\n",
      "1507 (1.0, 1.0, 0.0, 0.0, 0.0, 0.0, -0.834, -0.0)\n",
      "1508 (1.0, 1.0, 0.0, 0.0, 0.0, 0.0, 0.417, 0.0)\n",
      "1509 (1.0, 1.0, 0.0, 0.0, 0.0, 0.0, 0.417, 0.0)\n",
      "1510 (1.0, 1.0, 0.0, 0.0, 0.0, 0.0, -0.834, -0.0)\n",
      "1511 (1.0, 1.0, 0.0, 0.0, 0.0, 0.0, 0.417, 0.0)\n",
      "1512 (1.0, 1.0, 0.0, 0.0, 0.0, 0.0, 0.417, 0.0)\n",
      "1513 (1.0, 1.0, 0.0, 0.0, 0.0, 0.0, -0.834, -0.0)\n",
      "1514 (1.0, 1.0, 0.0, 0.0, 0.0, 0.0, 0.417, 0.0)\n",
      "1515 (1.0, 1.0, 0.0, 0.0, 0.0, 0.0, 0.417, 0.0)\n",
      "1516 (1.0, 1.0, 0.0, 0.0, 0.0, 0.0, -0.834, -0.0)\n",
      "1517 (1.0, 1.0, 0.0, 0.0, 0.0, 0.0, 0.417, 0.0)\n",
      "1518 (1.0, 1.0, 0.0, 0.0, 0.0, 0.0, 0.417, 0.0)\n",
      "1519 (1.0, 1.0, 0.0, 0.0, 0.0, 0.0, -0.834, -0.0)\n",
      "1520 (1.0, 1.0, 0.0, 0.0, 0.0, 0.0, 0.417, 0.0)\n",
      "1521 (1.0, 1.0, 0.0, 0.0, 0.0, 0.0, 0.417, 0.0)\n",
      "1522 (1.0, 1.0, 0.0, 0.0, 0.0, 0.0, -0.834, -0.0)\n",
      "1523 (1.0, 1.0, 0.0, 0.0, 0.0, 0.0, 0.417, 0.0)\n",
      "1524 (1.0, 1.0, 0.0, 0.0, 0.0, 0.0, 0.417, 0.0)\n",
      "1525 (1.0, 1.0, 0.0, 0.0, 0.0, 0.0, -0.834, -0.0)\n",
      "1526 (1.0, 1.0, 0.0, 0.0, 0.0, 0.0, 0.417, 0.0)\n",
      "1527 (1.0, 1.0, 0.0, 0.0, 0.0, 0.0, 0.417, 0.0)\n",
      "1528 (1.0, 1.0, 0.0, 0.0, 0.0, 0.0, -0.834, -0.0)\n",
      "1529 (1.0, 1.0, 0.0, 0.0, 0.0, 0.0, 0.417, 0.0)\n",
      "1530 (1.0, 1.0, 0.0, 0.0, 0.0, 0.0, 0.417, 0.0)\n",
      "1531 (1.0, 1.0, 0.0, 0.0, 0.0, 0.0, -0.834, -0.0)\n",
      "1532 (1.0, 1.0, 0.0, 0.0, 0.0, 0.0, 0.417, 0.0)\n",
      "1533 (1.0, 1.0, 0.0, 0.0, 0.0, 0.0, 0.417, 0.0)\n",
      "1534 (1.0, 1.0, 0.0, 0.0, 0.0, 0.0, -0.834, -0.0)\n",
      "1535 (1.0, 1.0, 0.0, 0.0, 0.0, 0.0, 0.417, 0.0)\n",
      "1536 (1.0, 1.0, 0.0, 0.0, 0.0, 0.0, 0.417, 0.0)\n",
      "1537 (1.0, 1.0, 0.0, 0.0, 0.0, 0.0, -0.834, -0.0)\n",
      "1538 (1.0, 1.0, 0.0, 0.0, 0.0, 0.0, 0.417, 0.0)\n",
      "1539 (1.0, 1.0, 0.0, 0.0, 0.0, 0.0, 0.417, 0.0)\n",
      "1540 (1.0, 1.0, 0.0, 0.0, 0.0, 0.0, -0.834, -0.0)\n",
      "1541 (1.0, 1.0, 0.0, 0.0, 0.0, 0.0, 0.417, 0.0)\n",
      "1542 (1.0, 1.0, 0.0, 0.0, 0.0, 0.0, 0.417, 0.0)\n",
      "1543 (1.0, 1.0, 0.0, 0.0, 0.0, 0.0, -0.834, -0.0)\n",
      "1544 (1.0, 1.0, 0.0, 0.0, 0.0, 0.0, 0.417, 0.0)\n",
      "1545 (1.0, 1.0, 0.0, 0.0, 0.0, 0.0, 0.417, 0.0)\n",
      "1546 (1.0, 1.0, 0.0, 0.0, 0.0, 0.0, -0.834, -0.0)\n",
      "1547 (1.0, 1.0, 0.0, 0.0, 0.0, 0.0, 0.417, 0.0)\n",
      "1548 (1.0, 1.0, 0.0, 0.0, 0.0, 0.0, 0.417, 0.0)\n",
      "1549 (1.0, 1.0, 0.0, 0.0, 0.0, 0.0, -0.834, -0.0)\n",
      "1550 (1.0, 1.0, 0.0, 0.0, 0.0, 0.0, 0.417, 0.0)\n",
      "1551 (1.0, 1.0, 0.0, 0.0, 0.0, 0.0, 0.417, 0.0)\n",
      "1552 (1.0, 1.0, 0.0, 0.0, 0.0, 0.0, -0.834, -0.0)\n",
      "1553 (1.0, 1.0, 0.0, 0.0, 0.0, 0.0, 0.417, 0.0)\n",
      "1554 (1.0, 1.0, 0.0, 0.0, 0.0, 0.0, 0.417, 0.0)\n",
      "1555 (1.0, 1.0, 0.0, 0.0, 0.0, 0.0, 1.0, 0.0)\n",
      "1556 (1.0, 1.0, 0.0, 0.0, 0.0, 0.0, -1.0, -0.0)\n",
      "1557 (1.0, 0.0, 1.0, 0.0, 1.0, 0.0, 0.0, 0.3654)\n",
      "1558 (1.0, 0.0, 1.0, 0.0, 1.0, 0.0, 0.0, 0.0043)\n",
      "1559 (1.0, 0.0, 1.0, 0.0, 1.0, 0.0, -0.0, -0.2438)\n",
      "1560 (1.0, 0.0, 1.0, 0.0, 1.0, 0.0, 0.0, 0.0642)\n",
      "1561 (1.0, 0.0, 1.0, 0.0, 1.0, 0.0, 0.0, 0.0642)\n",
      "1562 (1.0, 0.0, 1.0, 0.0, 1.0, 0.0, 0.0, 0.0642)\n",
      "1563 (1.0, 0.0, 1.0, 0.0, 1.0, 0.0, -0.0, -0.6761)\n",
      "1564 (1.0, 0.0, 1.0, 0.0, 1.0, 0.0, 0.0, 0.4102)\n"
     ]
    }
   ],
   "source": [
    "nb_force = htf.hybrid_system.getForce(3)\n",
    "for i in range(nb_force.getNumParticles()):\n",
    "    print(i, nb_force.getParticleParameters(i))"
   ]
  },
  {
   "cell_type": "code",
   "execution_count": 6,
   "id": "fea5843b",
   "metadata": {
    "scrolled": true
   },
   "outputs": [
    {
     "name": "stdout",
     "output_type": "stream",
     "text": [
      "Warning: Returning CPU platform instead of requested platform <simtk.openmm.openmm.Platform; proxy of <Swig Object of type 'OpenMM::Platform *' at 0x2ba46cf10c00> >\n",
      "conducting subsequent work with the following platform: CPU\n",
      "conducting subsequent work with the following platform: CUDA\n",
      "[('HarmonicBondForce', 0.03478365356521381), ('HarmonicAngleForce', 0.6112775462128995), ('PeriodicTorsionForce', 16.285398289983064), ('NonbondedForce', -7797.861418389372), ('AndersenThermostat', 0.0)]\n",
      "conducting subsequent work with the following platform: CUDA\n",
      "[('CustomBondForce', 0.08122507855787567), ('CustomAngleForce', 4.175795899528577), ('CustomTorsionForce', 16.28540329352652), ('CustomNonbondedForce', -7880.499360164609), ('CustomNonbondedForce', 1320.6470281163988), ('CustomBondForce', 82.63803400070168), ('CustomBondForce', 8.469780004620791), ('AndersenThermostat', 0.0)]\n",
      "Success! Custom nb force and standard nb force electrostatics energies are equal!\n"
     ]
    }
   ],
   "source": [
    "test_nb_energies(htf, is_solvated=True)\n"
   ]
  },
  {
   "cell_type": "code",
   "execution_count": 7,
   "id": "122cda5b",
   "metadata": {
    "scrolled": true
   },
   "outputs": [],
   "source": [
    "# Load htf\n",
    "with open(\"/home/zhangi/choderalab/perses_benchmark/perses_protein_mutations/code/26_rxn_field/atp_solvent.pickle\", \"rb\") as f:\n",
    "    htf = pickle.load(f)"
   ]
  },
  {
   "cell_type": "code",
   "execution_count": 8,
   "id": "6afed5d1",
   "metadata": {
    "scrolled": true
   },
   "outputs": [
    {
     "name": "stdout",
     "output_type": "stream",
     "text": [
      "Warning: Returning CPU platform instead of requested platform <simtk.openmm.openmm.Platform; proxy of <Swig Object of type 'OpenMM::Platform *' at 0x2ba46cf10c00> >\n",
      "conducting subsequent work with the following platform: CPU\n",
      "conducting subsequent work with the following platform: CUDA\n",
      "[('HarmonicBondForce', 0.03478365356521381), ('HarmonicAngleForce', 0.6112775462128995), ('PeriodicTorsionForce', 16.285398289983064), ('NonbondedForce', 1329.1168506768688), ('AndersenThermostat', 0.0)]\n",
      "conducting subsequent work with the following platform: CUDA\n",
      "[('CustomBondForce', 0.08122507855787567), ('CustomAngleForce', 4.175795899528577), ('CustomTorsionForce', 16.28540329352652), ('CustomNonbondedForce', -7880.499360164609), ('CustomNonbondedForce', 1320.6470281163988), ('CustomBondForce', 82.63803400070168), ('CustomBondForce', 8.469780004620791), ('AndersenThermostat', 0.0)]\n",
      "Success! Custom nb force and standard nb force sterics energies are equal!\n"
     ]
    }
   ],
   "source": [
    "test_nb_energies(htf, is_electrostatics=False, is_solvated=True)"
   ]
  },
  {
   "cell_type": "markdown",
   "id": "dc4b7b1d",
   "metadata": {},
   "source": [
    "#### New system HarmonicBondForce vs hybrid system CustomBondForce"
   ]
  },
  {
   "cell_type": "code",
   "execution_count": 9,
   "id": "9f9cbe99",
   "metadata": {},
   "outputs": [],
   "source": [
    "# Load htf\n",
    "with open(\"/home/zhangi/choderalab/perses_benchmark/perses_protein_mutations/code/26_rxn_field/atp_solvent.pickle\", \"rb\") as f:\n",
    "    htf = pickle.load(f)"
   ]
  },
  {
   "cell_type": "code",
   "execution_count": 10,
   "id": "95887c44",
   "metadata": {},
   "outputs": [
    {
     "name": "stdout",
     "output_type": "stream",
     "text": [
      "Warning: Returning CPU platform instead of requested platform <simtk.openmm.openmm.Platform; proxy of <Swig Object of type 'OpenMM::Platform *' at 0x2ba46cf10c00> >\n",
      "conducting subsequent work with the following platform: CPU\n",
      "conducting subsequent work with the following platform: CUDA\n",
      "[('HarmonicBondForce', 0.08070138332902348), ('HarmonicAngleForce', 3.7216484744029246), ('PeriodicTorsionForce', 26.757939947410566), ('NonbondedForce', -7827.125277791792), ('AndersenThermostat', 0.0)]\n",
      "conducting subsequent work with the following platform: CUDA\n",
      "[('CustomBondForce', 0.08122507855787567), ('CustomAngleForce', 4.175795899528577), ('CustomTorsionForce', 16.28540329352652), ('CustomNonbondedForce', -7827.521717278912), ('CustomNonbondedForce', 1320.6470281163988), ('CustomBondForce', 0.3965313230069307), ('CustomBondForce', 8.469780004620791), ('AndersenThermostat', 0.0)]\n",
      "Success! Custom nb force and standard nb force electrostatics energies are equal!\n"
     ]
    }
   ],
   "source": [
    "test_nb_energies(htf, is_old=False, is_solvated=True)"
   ]
  },
  {
   "cell_type": "code",
   "execution_count": 11,
   "id": "ac299773",
   "metadata": {},
   "outputs": [],
   "source": [
    "# Load htf\n",
    "with open(\"/home/zhangi/choderalab/perses_benchmark/perses_protein_mutations/code/26_rxn_field/atp_solvent.pickle\", \"rb\") as f:\n",
    "    htf = pickle.load(f)"
   ]
  },
  {
   "cell_type": "code",
   "execution_count": 12,
   "id": "9f58f83b",
   "metadata": {},
   "outputs": [
    {
     "name": "stdout",
     "output_type": "stream",
     "text": [
      "Warning: Returning CPU platform instead of requested platform <simtk.openmm.openmm.Platform; proxy of <Swig Object of type 'OpenMM::Platform *' at 0x2ba46cf10c00> >\n",
      "conducting subsequent work with the following platform: CPU\n",
      "conducting subsequent work with the following platform: CUDA\n",
      "[('HarmonicBondForce', 0.08070138332902348), ('HarmonicAngleForce', 3.7216484744029246), ('PeriodicTorsionForce', 26.757939947410566), ('NonbondedForce', 1516.6253808370082), ('AndersenThermostat', 0.0)]\n",
      "conducting subsequent work with the following platform: CUDA\n",
      "[('CustomBondForce', 0.08122507855787567), ('CustomAngleForce', 4.175795899528577), ('CustomTorsionForce', 16.28540329352652), ('CustomNonbondedForce', -7880.499360164609), ('CustomNonbondedForce', 1505.509387683281), ('CustomBondForce', 82.63803400070168), ('CustomBondForce', 11.115906995754173), ('AndersenThermostat', 0.0)]\n",
      "Success! Custom nb force and standard nb force sterics energies are equal!\n"
     ]
    }
   ],
   "source": [
    "test_nb_energies(htf, is_electrostatics=False, is_old=False, is_solvated=True)"
   ]
  },
  {
   "cell_type": "code",
   "execution_count": null,
   "id": "c92bca98",
   "metadata": {},
   "outputs": [],
   "source": []
  },
  {
   "cell_type": "markdown",
   "id": "d907a68d",
   "metadata": {},
   "source": [
    "### Test one alchemical region, one scale region"
   ]
  },
  {
   "cell_type": "code",
   "execution_count": 5,
   "id": "52f50c72",
   "metadata": {
    "scrolled": true
   },
   "outputs": [
    {
     "name": "stderr",
     "output_type": "stream",
     "text": [
      "DEBUG:openmmforcefields.system_generators:Trying GAFFTemplateGenerator to load gaff-2.11\n",
      "INFO:proposal_generator:\tConducting polymer point mutation proposal...\n",
      "INFO:proposal_generator:Using matching_criterion to chose best atom map\n",
      "INFO:proposal_generator:Scaffold has symmetry of 0\n",
      "WARNING:proposal_generator:Two molecules are not similar to have a common scaffold\n",
      "WARNING:proposal_generator:Proceeding with direct mapping of molecules, but please check atom mapping and the geometry of the ligands.\n",
      "INFO:proposal_generator:len [{9: 7}, {10: 7}, {11: 7}, {12: 7}, {13: 7}, {9: 8}, {10: 8}, {11: 8}, {12: 8}, {13: 8}, {9: 9}, {10: 9}, {11: 9}, {12: 9}, {13: 9}]\n",
      "INFO:proposal_generator:{9: 7}\n",
      "INFO:proposal_generator:{10: 7}\n",
      "INFO:proposal_generator:{11: 7}\n",
      "INFO:proposal_generator:{12: 7}\n",
      "INFO:proposal_generator:{13: 7}\n",
      "INFO:proposal_generator:{9: 8}\n",
      "INFO:proposal_generator:{10: 8}\n",
      "INFO:proposal_generator:{11: 8}\n",
      "INFO:proposal_generator:{12: 8}\n",
      "INFO:proposal_generator:{13: 8}\n",
      "INFO:proposal_generator:{9: 9}\n",
      "INFO:proposal_generator:{10: 9}\n",
      "INFO:proposal_generator:{11: 9}\n",
      "INFO:proposal_generator:{12: 9}\n",
      "INFO:proposal_generator:{13: 9}\n",
      "INFO:proposal_generator:Returning map that best satisfies matching_criterion\n",
      "INFO:proposal_generator:Finding best map using matching_criterion name\n",
      "INFO:proposal_generator:{9: 7}\n"
     ]
    },
    {
     "name": "stdout",
     "output_type": "stream",
     "text": [
      "making topology proposal\n"
     ]
    },
    {
     "name": "stderr",
     "output_type": "stream",
     "text": [
      "INFO:geometry:propose: performing forward proposal\n",
      "INFO:geometry:propose: unique new atoms detected; proceeding to _logp_propose...\n",
      "INFO:geometry:Conducting forward proposal...\n",
      "INFO:geometry:Computing proposal order with NetworkX...\n",
      "INFO:geometry:number of atoms to be placed: 8\n",
      "INFO:geometry:Atom index proposal order is [10, 18, 14, 17, 13, 19, 15, 16]\n",
      "INFO:geometry:omitted_bonds: []\n",
      "INFO:geometry:direction of proposal is forward; creating atoms_with_positions and new positions from old system/topology...\n"
     ]
    },
    {
     "name": "stdout",
     "output_type": "stream",
     "text": [
      "generating geometry engine\n",
      "making geometry proposal from ALA to THR\n"
     ]
    },
    {
     "name": "stderr",
     "output_type": "stream",
     "text": [
      "INFO:geometry:creating growth system...\n",
      "INFO:geometry:\tcreating bond force...\n",
      "INFO:geometry:\tthere are 11 bonds in reference force.\n",
      "INFO:geometry:\tcreating angle force...\n",
      "INFO:geometry:\tthere are 43 angles in reference force.\n",
      "INFO:geometry:\tcreating torsion force...\n",
      "INFO:geometry:\tcreating extra torsions force...\n",
      "INFO:geometry:\tthere are 72 torsions in reference force.\n",
      "INFO:geometry:\tcreating nonbonded force...\n",
      "INFO:geometry:\t\tgrabbing reference nonbonded method, cutoff, switching function, switching distance...\n",
      "INFO:geometry:\t\tcreating nonbonded exception force (i.e. custom bond for 1,4s)...\n",
      "INFO:geometry:\t\tlooping through exceptions calculating growth indices, and adding appropriate interactions to custom bond force.\n",
      "INFO:geometry:\t\tthere are 1654 in the reference Nonbonded force\n",
      "WARNING:geometry:\t\t\t\t\tchiral atom <Atom 8 (CA) of chain 0 residue 1 (THR)> with neighbors [<Atom 9 (HA) of chain 0 residue 1 (THR)>, <Atom 10 (CB) of chain 0 residue 1 (THR)>, <Atom 11 (C) of chain 0 residue 1 (THR)>, <Atom 6 (N) of chain 0 residue 1 (THR)>] is surrounded by 3 core neighbors.  omitting chirality bias torsion\n",
      "INFO:geometry:Neglected angle terms : []\n",
      "INFO:geometry:omitted_growth_terms: {'bonds': [], 'angles': [], 'torsions': [], '1,4s': []}\n",
      "INFO:geometry:extra torsions: {0: (7, 6, 8, 10, [1, Quantity(value=0.9900002084555819, unit=radian), Quantity(value=1200.0, unit=kilocalorie/mole), 1]), 1: (19, 18, 10, 8, [1, Quantity(value=-0.07858019216845058, unit=radian), Quantity(value=1200.0, unit=kilocalorie/mole), 6]), 2: (19, 18, 10, 14, [1, Quantity(value=2.118586571250296, unit=radian), Quantity(value=1200.0, unit=kilocalorie/mole), 6]), 3: (19, 18, 10, 13, [1, Quantity(value=-2.149781203448759, unit=radian), Quantity(value=1200.0, unit=kilocalorie/mole), 6]), 4: (8, 10, 14, 17, [1, Quantity(value=-2.1249532223845904, unit=radian), Quantity(value=1200.0, unit=kilocalorie/mole), 4]), 5: (8, 10, 14, 16, [1, Quantity(value=2.0543043017157916, unit=radian), Quantity(value=1200.0, unit=kilocalorie/mole), 8]), 6: (8, 10, 14, 15, [1, Quantity(value=-0.02223392579985184, unit=radian), Quantity(value=1200.0, unit=kilocalorie/mole), 7]), 7: (18, 10, 14, 17, [1, Quantity(value=2.0255587336734213, unit=radian), Quantity(value=1200.0, unit=kilocalorie/mole), 4]), 8: (18, 10, 14, 16, [1, Quantity(value=-0.07836904940578293, unit=radian), Quantity(value=1200.0, unit=kilocalorie/mole), 8]), 9: (18, 10, 14, 15, [1, Quantity(value=-2.154907276921426, unit=radian), Quantity(value=1200.0, unit=kilocalorie/mole), 7]), 10: (13, 10, 14, 17, [1, Quantity(value=0.007583009583349565, unit=radian), Quantity(value=1200.0, unit=kilocalorie/mole), 5]), 11: (13, 10, 14, 16, [1, Quantity(value=-2.096344773495849, unit=radian), Quantity(value=1200.0, unit=kilocalorie/mole), 8]), 12: (13, 10, 14, 15, [1, Quantity(value=2.1103023061680943, unit=radian), Quantity(value=1200.0, unit=kilocalorie/mole), 7]), 13: (18, 10, 8, 14, [1, Quantity(value=-1.0655064807976995, unit=radian), Quantity(value=1200.0, unit=kilocalorie/mole), 3])}\n",
      "INFO:geometry:neglected angle terms include []\n",
      "INFO:geometry:log probability choice of torsions and atom order: -13.371595639480912\n",
      "INFO:geometry:creating platform, integrators, and contexts; setting growth parameter\n"
     ]
    },
    {
     "name": "stdout",
     "output_type": "stream",
     "text": [
      "conducting subsequent work with the following platform: CUDA\n"
     ]
    },
    {
     "name": "stderr",
     "output_type": "stream",
     "text": [
      "INFO:geometry:setting atoms_with_positions context new positions\n"
     ]
    },
    {
     "name": "stdout",
     "output_type": "stream",
     "text": [
      "conducting subsequent work with the following platform: CUDA\n"
     ]
    },
    {
     "name": "stderr",
     "output_type": "stream",
     "text": [
      "INFO:geometry:There are 8 new atoms\n",
      "INFO:geometry:\treduced angle potential = 0.08558498998842731.\n",
      "INFO:geometry:\treduced angle potential = 0.26079935961046863.\n",
      "INFO:geometry:\treduced angle potential = 0.3503765350795127.\n",
      "INFO:geometry:\treduced angle potential = 0.8106459189325333.\n",
      "INFO:geometry:\treduced angle potential = 0.15381766334492653.\n",
      "INFO:geometry:\treduced angle potential = 1.107414476505936.\n",
      "INFO:geometry:\treduced angle potential = 0.1752904975404699.\n",
      "INFO:geometry:\treduced angle potential = 0.32424832071060766.\n",
      "INFO:geometry:\tbeginning construction of no_nonbonded final system...\n",
      "INFO:geometry:\tinitial no-nonbonded final system forces ['HarmonicBondForce', 'HarmonicAngleForce', 'PeriodicTorsionForce', 'NonbondedForce', 'MonteCarloBarostat']\n",
      "INFO:geometry:\tfinal no-nonbonded final system forces dict_keys(['HarmonicBondForce', 'HarmonicAngleForce', 'PeriodicTorsionForce', 'NonbondedForce'])\n",
      "INFO:geometry:\tthere are 11 bond forces in the no-nonbonded final system\n",
      "INFO:geometry:\tthere are 43 angle forces in the no-nonbonded final system\n",
      "INFO:geometry:\tthere are 72 torsion forces in the no-nonbonded final system\n",
      "INFO:geometry:forward final system defined with 0 neglected angles.\n"
     ]
    },
    {
     "name": "stdout",
     "output_type": "stream",
     "text": [
      "conducting subsequent work with the following platform: CUDA\n"
     ]
    },
    {
     "name": "stderr",
     "output_type": "stream",
     "text": [
      "INFO:geometry:total reduced potential before atom placement: 9.11648114171204\n"
     ]
    },
    {
     "name": "stdout",
     "output_type": "stream",
     "text": [
      "conducting subsequent work with the following platform: CUDA\n",
      "conducting subsequent work with the following platform: CUDA\n",
      "conducting subsequent work with the following platform: CUDA\n",
      "conducting subsequent work with the following platform: CUDA\n"
     ]
    },
    {
     "name": "stderr",
     "output_type": "stream",
     "text": [
      "INFO:geometry:total reduced energy added from growth system: -53.241618122901436\n",
      "INFO:geometry:final reduced energy -44.12513795129563\n",
      "INFO:geometry:sum of energies: -44.1251369811894\n",
      "INFO:geometry:magnitude of difference in the energies: 9.701062353428824e-07\n",
      "INFO:geometry:Final logp_proposal: 56.380396856568936\n",
      "INFO:geometry:logp_reverse: performing reverse proposal\n",
      "INFO:geometry:logp_reverse: unique new atoms detected; proceeding to _logp_propose...\n",
      "INFO:geometry:Conducting forward proposal...\n",
      "INFO:geometry:Computing proposal order with NetworkX...\n",
      "INFO:geometry:number of atoms to be placed: 4\n",
      "INFO:geometry:Atom index proposal order is [10, 13, 12, 11]\n",
      "INFO:geometry:omitted_bonds: []\n",
      "INFO:geometry:direction of proposal is reverse; creating atoms_with_positions from old system/topology\n"
     ]
    },
    {
     "name": "stdout",
     "output_type": "stream",
     "text": [
      "added energy components: [('CustomBondForce', 3.0777423062612073), ('CustomAngleForce', 14.069966762848052), ('CustomTorsionForce', 17.441886461495876), ('CustomBondForce', -87.83121365350658)]\n"
     ]
    },
    {
     "name": "stderr",
     "output_type": "stream",
     "text": [
      "INFO:geometry:creating growth system...\n",
      "INFO:geometry:\tcreating bond force...\n",
      "INFO:geometry:\tthere are 9 bonds in reference force.\n",
      "INFO:geometry:\tcreating angle force...\n",
      "INFO:geometry:\tthere are 36 angles in reference force.\n",
      "INFO:geometry:\tcreating torsion force...\n",
      "INFO:geometry:\tcreating extra torsions force...\n",
      "INFO:geometry:\tthere are 42 torsions in reference force.\n",
      "INFO:geometry:\tcreating nonbonded force...\n",
      "INFO:geometry:\t\tgrabbing reference nonbonded method, cutoff, switching function, switching distance...\n",
      "INFO:geometry:\t\tcreating nonbonded exception force (i.e. custom bond for 1,4s)...\n",
      "INFO:geometry:\t\tlooping through exceptions calculating growth indices, and adding appropriate interactions to custom bond force.\n",
      "INFO:geometry:\t\tthere are 1631 in the reference Nonbonded force\n",
      "WARNING:geometry:\t\t\t\t\tchiral atom <Atom 8 (CA) of chain 0 residue 1 (ALA)> with neighbors [<Atom 9 (HA) of chain 0 residue 1 (ALA)>, <Atom 10 (CB) of chain 0 residue 1 (ALA)>, <Atom 14 (C) of chain 0 residue 1 (ALA)>, <Atom 6 (N) of chain 0 residue 1 (ALA)>] is surrounded by 3 core neighbors.  omitting chirality bias torsion\n",
      "INFO:geometry:Neglected angle terms : []\n",
      "INFO:geometry:omitted_growth_terms: {'bonds': [], 'angles': [], 'torsions': [], '1,4s': []}\n",
      "INFO:geometry:extra torsions: {0: (7, 6, 8, 10, [1, Quantity(value=0.9799661941737812, unit=radian), Quantity(value=1200.0, unit=kilocalorie/mole), 1]), 1: (6, 8, 10, 11, [1, Quantity(value=2.105358864604291, unit=radian), Quantity(value=1200.0, unit=kilocalorie/mole), 4]), 2: (6, 8, 10, 12, [1, Quantity(value=-2.0823006129211796, unit=radian), Quantity(value=1200.0, unit=kilocalorie/mole), 3]), 3: (6, 8, 10, 13, [1, Quantity(value=0.018582237407944735, unit=radian), Quantity(value=1200.0, unit=kilocalorie/mole), 2]), 4: (14, 8, 10, 11, [1, Quantity(value=-0.036945135932107576, unit=radian), Quantity(value=1200.0, unit=kilocalorie/mole), 4]), 5: (14, 8, 10, 12, [1, Quantity(value=2.0585806937220097, unit=radian), Quantity(value=1200.0, unit=kilocalorie/mole), 3]), 6: (14, 8, 10, 13, [1, Quantity(value=-2.1237217631284597, unit=radian), Quantity(value=1200.0, unit=kilocalorie/mole), 2]), 7: (9, 8, 10, 11, [1, Quantity(value=-2.119603470065817, unit=radian), Quantity(value=1200.0, unit=kilocalorie/mole), 4]), 8: (9, 8, 10, 12, [1, Quantity(value=-0.024077640411697132, unit=radian), Quantity(value=1200.0, unit=kilocalorie/mole), 3]), 9: (9, 8, 10, 13, [1, Quantity(value=2.0768052099174152, unit=radian), Quantity(value=1200.0, unit=kilocalorie/mole), 2])}\n",
      "INFO:geometry:neglected angle terms include []\n",
      "INFO:geometry:log probability choice of torsions and atom order: -5.78074351579233\n",
      "INFO:geometry:creating platform, integrators, and contexts; setting growth parameter\n"
     ]
    },
    {
     "name": "stdout",
     "output_type": "stream",
     "text": [
      "conducting subsequent work with the following platform: CUDA\n"
     ]
    },
    {
     "name": "stderr",
     "output_type": "stream",
     "text": [
      "INFO:geometry:setting atoms_with_positions context old positions\n"
     ]
    },
    {
     "name": "stdout",
     "output_type": "stream",
     "text": [
      "conducting subsequent work with the following platform: CUDA\n"
     ]
    },
    {
     "name": "stderr",
     "output_type": "stream",
     "text": [
      "INFO:geometry:There are 4 new atoms\n",
      "INFO:geometry:\treduced angle potential = 0.3517324280898812.\n",
      "INFO:geometry:\treduced angle potential = 7.39096069988752e-11.\n",
      "INFO:geometry:\treduced angle potential = 3.2058324695160406e-13.\n",
      "INFO:geometry:\treduced angle potential = 1.2915588460963948e-10.\n",
      "INFO:geometry:\tbeginning construction of no_nonbonded final system...\n",
      "INFO:geometry:\tinitial no-nonbonded final system forces ['HarmonicBondForce', 'HarmonicAngleForce', 'PeriodicTorsionForce', 'NonbondedForce']\n",
      "INFO:geometry:\tfinal no-nonbonded final system forces dict_keys(['HarmonicBondForce', 'HarmonicAngleForce', 'PeriodicTorsionForce', 'NonbondedForce'])\n",
      "INFO:geometry:\tthere are 9 bond forces in the no-nonbonded final system\n",
      "INFO:geometry:\tthere are 36 angle forces in the no-nonbonded final system\n",
      "INFO:geometry:\tthere are 42 torsion forces in the no-nonbonded final system\n",
      "INFO:geometry:reverse final system defined with 0 neglected angles.\n"
     ]
    },
    {
     "name": "stdout",
     "output_type": "stream",
     "text": [
      "conducting subsequent work with the following platform: CUDA\n"
     ]
    },
    {
     "name": "stderr",
     "output_type": "stream",
     "text": [
      "INFO:geometry:total reduced potential before atom placement: 9.11648114171204\n"
     ]
    },
    {
     "name": "stdout",
     "output_type": "stream",
     "text": [
      "conducting subsequent work with the following platform: CUDA\n",
      "conducting subsequent work with the following platform: CUDA\n",
      "conducting subsequent work with the following platform: CUDA\n",
      "conducting subsequent work with the following platform: CUDA\n"
     ]
    },
    {
     "name": "stderr",
     "output_type": "stream",
     "text": [
      "INFO:geometry:total reduced energy added from growth system: 20.672986687678176\n",
      "INFO:geometry:final reduced energy 29.78946596595154\n",
      "INFO:geometry:sum of energies: 29.789467829390215\n",
      "INFO:geometry:magnitude of difference in the energies: 1.8634386762528266e-06\n",
      "INFO:geometry:Final logp_proposal: -27100.597456215375\n",
      "INFO:relative:*** Generating RxnHybridTopologyFactory ***\n",
      "INFO:relative:Beginning nonbonded method, total particle, barostat, and exceptions retrieval...\n",
      "INFO:relative:Old system forces: dict_keys(['HarmonicBondForce', 'HarmonicAngleForce', 'PeriodicTorsionForce', 'NonbondedForce'])\n",
      "INFO:relative:New system forces: dict_keys(['HarmonicBondForce', 'HarmonicAngleForce', 'PeriodicTorsionForce', 'NonbondedForce', 'MonteCarloBarostat'])\n",
      "INFO:relative:No unknown forces.\n",
      "INFO:relative:Nonbonded method to be used (i.e. from old system): 0\n",
      "INFO:relative:Adding and mapping old atoms to hybrid system...\n",
      "INFO:relative:Adding and mapping new atoms to hybrid system...\n",
      "INFO:relative:scale_templates: [['nonscale_lambda', 'scale_lambda_0', 'interscale_lambda_0'], ['nonscale_region', 'scale_region_0', 'interscale_region_0']]\n",
      "INFO:relative:particle (nonbonded) scale_templates: [['nonscale_lambda', 'scale_lambda_0'], ['nonscale_region1', 'scale_region_01'], ['nonscale_region2', 'scale_region_02']]\n",
      "INFO:relative:No MonteCarloBarostat added.\n",
      "INFO:relative:getDefaultPeriodicBoxVectors added to hybrid: [Quantity(value=Vec3(x=2.56477354, y=0.0, z=0.0), unit=nanometer), Quantity(value=Vec3(x=0.0, y=2.56477354, z=0.0), unit=nanometer), Quantity(value=Vec3(x=0.0, y=0.0, z=2.56477354), unit=nanometer)]\n",
      "INFO:relative:Determined atom classes.\n",
      "INFO:relative:Generating old system exceptions dict...\n",
      "INFO:relative:Generating new system exceptions dict...\n"
     ]
    },
    {
     "name": "stdout",
     "output_type": "stream",
     "text": [
      "added energy components: [('CustomBondForce', 0.000520203927326505), ('CustomAngleForce', 0.4511197756248138), ('CustomTorsionForce', 7.250463344085812), ('CustomBondForce', 12.970883364040223)]\n"
     ]
    },
    {
     "name": "stderr",
     "output_type": "stream",
     "text": [
      "INFO:relative:Handling constraints...\n",
      "INFO:relative:Handling virtual sites...\n",
      "INFO:relative:\t_handle_virtual_sites: numVirtualSites: 0\n"
     ]
    }
   ],
   "source": [
    "# Create a htf\n",
    "atp, system_generator = generate_atp(phase = 'solvent')\n",
    "atp.system.getForce(3).setNonbondedMethod(openmm.NonbondedForce.NoCutoff)\n",
    "atp.system.getForce(3).setUseDispersionCorrection(False)\n",
    "for i in range(atp.system.getNumForces()):\n",
    "    if i == 3:\n",
    "        atp.system.getForce(i).setExceptionsUsePeriodicBoundaryConditions(False)\n",
    "    elif i < 3: # do not set PBCs for barostat\n",
    "        atp.system.getForce(i).setUsesPeriodicBoundaryConditions(False)\n",
    "atp.system.removeForce(4) # Remove barostat\n",
    "htf = generate_dipeptide_top_pos_sys(atp.topology, \n",
    "                               'THR', \n",
    "                               atp.system, \n",
    "                               atp.positions, \n",
    "                               system_generator,\n",
    "                                rxn_field=True,\n",
    "                               flatten_torsions=True,\n",
    "                               flatten_exceptions=True,\n",
    "                               validate_endstate_energy=False,\n",
    "                                conduct_htf_prop=True, \n",
    "                                scale_regions=[[10, 11, 12, 13, 1557, 1558, 1559, 1560, 1561, 1562, 1563, 1564]])\n",
    "\n",
    "\n",
    "htf._topology_proposal.new_system.getForce(3).setNonbondedMethod(openmm.NonbondedForce.NoCutoff)\n",
    "htf._topology_proposal.new_system.getForce(3).setUseDispersionCorrection(False)\n",
    "htf._topology_proposal.new_system.removeForce(4) # Remove barostat"
   ]
  },
  {
   "cell_type": "code",
   "execution_count": 6,
   "id": "e4f8824e",
   "metadata": {},
   "outputs": [],
   "source": [
    "# Save htf\n",
    "with open(\"atp_solvent_scale_region.pickle\", \"wb\") as f:\n",
    "    pickle.dump(htf, f)"
   ]
  },
  {
   "cell_type": "markdown",
   "id": "3576b206",
   "metadata": {},
   "source": [
    "#### Old system HarmonicBondForce vs hybrid system CustomBondForce"
   ]
  },
  {
   "cell_type": "code",
   "execution_count": 7,
   "id": "f714b6e7",
   "metadata": {},
   "outputs": [],
   "source": [
    "# Load htf\n",
    "with open(\"/home/zhangi/choderalab/perses_benchmark/perses_protein_mutations/code/26_rxn_field/atp_solvent_scale_region.pickle\", \"rb\") as f:\n",
    "    htf = pickle.load(f)"
   ]
  },
  {
   "cell_type": "code",
   "execution_count": 17,
   "id": "fca19e10",
   "metadata": {},
   "outputs": [
    {
     "data": {
      "text/plain": [
       "[10, 11, 12, 13, 1557, 1558, 1559, 1560, 1561, 1562, 1563, 1564]"
      ]
     },
     "execution_count": 17,
     "metadata": {},
     "output_type": "execute_result"
    }
   ],
   "source": [
    "# This is the scale region\n",
    "list(htf._atom_classes['unique_old_atoms'][0]) + list(htf._atom_classes['unique_new_atoms'][0])"
   ]
  },
  {
   "cell_type": "code",
   "execution_count": 8,
   "id": "eaffc419",
   "metadata": {
    "scrolled": false
   },
   "outputs": [
    {
     "name": "stdout",
     "output_type": "stream",
     "text": [
      "Warning: Returning CPU platform instead of requested platform <simtk.openmm.openmm.Platform; proxy of <Swig Object of type 'OpenMM::Platform *' at 0x2b5f79a68750> >\n",
      "conducting subsequent work with the following platform: CPU\n",
      "conducting subsequent work with the following platform: CUDA\n",
      "[('HarmonicBondForce', 0.03478365356521381), ('HarmonicAngleForce', 0.6112775462128995), ('PeriodicTorsionForce', 16.285398289983064), ('NonbondedForce', -7832.853764143414), ('AndersenThermostat', 0.0)]\n",
      "conducting subsequent work with the following platform: CUDA\n",
      "[('CustomBondForce', 3.133181948459047), ('CustomAngleForce', 14.77567361619416), ('CustomTorsionForce', 16.28540329352652), ('CustomNonbondedForce', -7915.4917055045), ('CustomNonbondedForce', 1297.3931385839335), ('CustomBondForce', 82.63803400070168), ('CustomBondForce', 8.469780004620791), ('AndersenThermostat', 0.0)]\n",
      "Success! Custom nb force and standard nb force electrostatics energies are equal!\n",
      "conducting subsequent work with the following platform: CUDA\n",
      "[('CustomBondForce', 3.133181948459047), ('CustomAngleForce', 14.77567361619416), ('CustomTorsionForce', 16.28540329352652), ('CustomNonbondedForce', -7915.4917055045), ('CustomNonbondedForce', 1297.3931385839335), ('CustomBondForce', 82.63803400070168), ('CustomBondForce', 8.469780004620791), ('AndersenThermostat', 0.0)]\n",
      "conducting subsequent work with the following platform: CUDA\n",
      "[('CustomBondForce', 3.133181948459047), ('CustomAngleForce', 14.77567361619416), ('CustomTorsionForce', 16.28540329352652), ('CustomNonbondedForce', -7914.617831307466), ('CustomNonbondedForce', 1297.3931385839335), ('CustomBondForce', 82.63803400070168), ('CustomBondForce', 8.469780004620791), ('AndersenThermostat', 0.0)]\n",
      "Success! Scaling the custom nb electrostatics force changes the energy\n"
     ]
    }
   ],
   "source": [
    "test_nb_energies(htf, is_solvated=True, check_scale=True)\n"
   ]
  },
  {
   "cell_type": "code",
   "execution_count": 9,
   "id": "bca1106d",
   "metadata": {},
   "outputs": [],
   "source": [
    "# Load htf\n",
    "with open(\"/home/zhangi/choderalab/perses_benchmark/perses_protein_mutations/code/26_rxn_field/atp_solvent_scale_region.pickle\", \"rb\") as f:\n",
    "    htf = pickle.load(f)"
   ]
  },
  {
   "cell_type": "code",
   "execution_count": 10,
   "id": "20c6d80e",
   "metadata": {
    "scrolled": true
   },
   "outputs": [
    {
     "name": "stdout",
     "output_type": "stream",
     "text": [
      "Warning: Returning CPU platform instead of requested platform <simtk.openmm.openmm.Platform; proxy of <Swig Object of type 'OpenMM::Platform *' at 0x2b5f79a68750> >\n",
      "conducting subsequent work with the following platform: CPU\n",
      "conducting subsequent work with the following platform: CUDA\n",
      "[('HarmonicBondForce', 0.03478365356521381), ('HarmonicAngleForce', 0.6112775462128995), ('PeriodicTorsionForce', 16.285398289983064), ('NonbondedForce', 1305.8629460138732), ('AndersenThermostat', 0.0)]\n",
      "conducting subsequent work with the following platform: CUDA\n",
      "[('CustomBondForce', 3.133181948459047), ('CustomAngleForce', 14.77567361619416), ('CustomTorsionForce', 16.28540329352652), ('CustomNonbondedForce', -7915.4917055045), ('CustomNonbondedForce', 1297.3931385839335), ('CustomBondForce', 82.63803400070168), ('CustomBondForce', 8.469780004620791), ('AndersenThermostat', 0.0)]\n",
      "Success! Custom nb force and standard nb force sterics energies are equal!\n",
      "conducting subsequent work with the following platform: CUDA\n",
      "[('CustomBondForce', 3.133181948459047), ('CustomAngleForce', 14.77567361619416), ('CustomTorsionForce', 16.28540329352652), ('CustomNonbondedForce', -7915.4917055045), ('CustomNonbondedForce', 1297.3931385839335), ('CustomBondForce', 82.63803400070168), ('CustomBondForce', 8.469780004620791), ('AndersenThermostat', 0.0)]\n",
      "conducting subsequent work with the following platform: CUDA\n",
      "[('CustomBondForce', 3.133181948459047), ('CustomAngleForce', 14.77567361619416), ('CustomTorsionForce', 16.28540329352652), ('CustomNonbondedForce', -7915.4917055045), ('CustomNonbondedForce', 1296.1097568843566), ('CustomBondForce', 82.63803400070168), ('CustomBondForce', 8.469780004620791), ('AndersenThermostat', 0.0)]\n",
      "Success! Scaling the custom nb sterics force changes the energy\n"
     ]
    }
   ],
   "source": [
    "test_nb_energies(htf, is_electrostatics=False, is_solvated=True, check_scale=True)\n"
   ]
  },
  {
   "cell_type": "markdown",
   "id": "2e0b009a",
   "metadata": {},
   "source": [
    "#### New system HarmonicBondForce vs hybrid system CustomBondForce"
   ]
  },
  {
   "cell_type": "code",
   "execution_count": 11,
   "id": "a1d202a2",
   "metadata": {},
   "outputs": [],
   "source": [
    "# Load htf\n",
    "with open(\"/home/zhangi/choderalab/perses_benchmark/perses_protein_mutations/code/26_rxn_field/atp_solvent_scale_region.pickle\", \"rb\") as f:\n",
    "    htf = pickle.load(f)"
   ]
  },
  {
   "cell_type": "code",
   "execution_count": 12,
   "id": "3d6aaf36",
   "metadata": {
    "scrolled": true
   },
   "outputs": [
    {
     "name": "stdout",
     "output_type": "stream",
     "text": [
      "Warning: Returning CPU platform instead of requested platform <simtk.openmm.openmm.Platform; proxy of <Swig Object of type 'OpenMM::Platform *' at 0x2b5f79a68750> >\n",
      "conducting subsequent work with the following platform: CPU\n",
      "conducting subsequent work with the following platform: CUDA\n",
      "[('HarmonicBondForce', 3.1326582532301948), ('HarmonicAngleForce', 14.321526191068509), ('PeriodicTorsionForce', 26.5452217559407), ('NonbondedForce', -7896.9236824843265), ('AndersenThermostat', 0.0)]\n",
      "conducting subsequent work with the following platform: CUDA\n",
      "[('CustomBondForce', 3.133181948459047), ('CustomAngleForce', 14.77567361619416), ('CustomTorsionForce', 16.28540329352652), ('CustomNonbondedForce', -7871.667036289536), ('CustomNonbondedForce', 1297.3931385839335), ('CustomBondForce', -25.256554215801973), ('CustomBondForce', 8.469780004620791), ('AndersenThermostat', 0.0)]\n",
      "Success! Custom nb force and standard nb force electrostatics energies are equal!\n",
      "conducting subsequent work with the following platform: CUDA\n",
      "[('CustomBondForce', 3.133181948459047), ('CustomAngleForce', 14.77567361619416), ('CustomTorsionForce', 16.28540329352652), ('CustomNonbondedForce', -7915.4917055045), ('CustomNonbondedForce', 1297.3931385839335), ('CustomBondForce', 82.63803400070168), ('CustomBondForce', 8.469780004620791), ('AndersenThermostat', 0.0)]\n",
      "conducting subsequent work with the following platform: CUDA\n",
      "[('CustomBondForce', 3.133181948459047), ('CustomAngleForce', 14.77567361619416), ('CustomTorsionForce', 16.28540329352652), ('CustomNonbondedForce', -7914.617831307466), ('CustomNonbondedForce', 1297.3931385839335), ('CustomBondForce', 82.63803400070168), ('CustomBondForce', 8.469780004620791), ('AndersenThermostat', 0.0)]\n",
      "Success! Scaling the custom nb electrostatics force changes the energy\n"
     ]
    }
   ],
   "source": [
    "test_nb_energies(htf, is_old=False, is_solvated=True, check_scale=True)"
   ]
  },
  {
   "cell_type": "code",
   "execution_count": 13,
   "id": "c57a07ef",
   "metadata": {},
   "outputs": [],
   "source": [
    "# Load htf\n",
    "with open(\"/home/zhangi/choderalab/perses_benchmark/perses_protein_mutations/code/26_rxn_field/atp_solvent_scale_region.pickle\", \"rb\") as f:\n",
    "    htf = pickle.load(f)"
   ]
  },
  {
   "cell_type": "code",
   "execution_count": 14,
   "id": "b63427ad",
   "metadata": {
    "scrolled": true
   },
   "outputs": [
    {
     "name": "stdout",
     "output_type": "stream",
     "text": [
      "Warning: Returning CPU platform instead of requested platform <simtk.openmm.openmm.Platform; proxy of <Swig Object of type 'OpenMM::Platform *' at 0x2b5f79a68750> >\n",
      "conducting subsequent work with the following platform: CPU\n",
      "conducting subsequent work with the following platform: CUDA\n",
      "[('HarmonicBondForce', 3.1326582532301948), ('HarmonicAngleForce', 14.321526191068509), ('PeriodicTorsionForce', 26.5452217559407), ('NonbondedForce', 1377.4814027073412), ('AndersenThermostat', 0.0)]\n",
      "conducting subsequent work with the following platform: CUDA\n",
      "[('CustomBondForce', 3.133181948459047), ('CustomAngleForce', 14.77567361619416), ('CustomTorsionForce', 16.28540329352652), ('CustomNonbondedForce', -7915.4917055045), ('CustomNonbondedForce', 1354.8586052632547), ('CustomBondForce', 82.63803400070168), ('CustomBondForce', 22.622770035934536), ('AndersenThermostat', 0.0)]\n",
      "Success! Custom nb force and standard nb force sterics energies are equal!\n",
      "conducting subsequent work with the following platform: CUDA\n",
      "[('CustomBondForce', 3.133181948459047), ('CustomAngleForce', 14.77567361619416), ('CustomTorsionForce', 16.28540329352652), ('CustomNonbondedForce', -7915.4917055045), ('CustomNonbondedForce', 1297.3931385839335), ('CustomBondForce', 82.63803400070168), ('CustomBondForce', 8.469780004620791), ('AndersenThermostat', 0.0)]\n",
      "conducting subsequent work with the following platform: CUDA\n",
      "[('CustomBondForce', 3.133181948459047), ('CustomAngleForce', 14.77567361619416), ('CustomTorsionForce', 16.28540329352652), ('CustomNonbondedForce', -7915.4917055045), ('CustomNonbondedForce', 1296.1097568843566), ('CustomBondForce', 82.63803400070168), ('CustomBondForce', 8.469780004620791), ('AndersenThermostat', 0.0)]\n",
      "Success! Scaling the custom nb sterics force changes the energy\n"
     ]
    }
   ],
   "source": [
    "test_nb_energies(htf, is_electrostatics=False, is_old=False, is_solvated=True, check_scale=True)\n"
   ]
  },
  {
   "cell_type": "markdown",
   "id": "dd3a6ebd",
   "metadata": {},
   "source": [
    "# CDK2 transformation in solvent"
   ]
  },
  {
   "cell_type": "code",
   "execution_count": 3,
   "id": "0007ff9b",
   "metadata": {},
   "outputs": [
    {
     "name": "stdout",
     "output_type": "stream",
     "text": [
      "conducting subsequent work with the following platform: CUDA\n",
      "conducting subsequent work with the following platform: CUDA\n",
      "conducting subsequent work with the following platform: CUDA\n"
     ]
    }
   ],
   "source": [
    "import os\n",
    "from pkg_resources import resource_filename\n",
    "from perses.app import setup_relative_calculation\n",
    "import pickle"
   ]
  },
  {
   "cell_type": "code",
   "execution_count": 4,
   "id": "afad5b52",
   "metadata": {
    "scrolled": true
   },
   "outputs": [
    {
     "name": "stderr",
     "output_type": "stream",
     "text": [
      "2021-06-29 10:14:44,002:(0.00s):root:\tDetecting phases...\n",
      "2021-06-29 10:14:44,005:(0.00s):root:\t\tphases detected: ['complex', 'solvent', 'vacuum']\n",
      "2021-06-29 10:14:44,007:(0.00s):root:No constraints will be removed\n",
      "2021-06-29 10:14:44,009:(0.00s):root:No spectators\n",
      "2021-06-29 10:14:44,011:(0.00s):root:\t\t\trun_type is not specified; default to None\n",
      "2021-06-29 10:14:44,013:(0.00s):root:\tDetecting fe_type...\n",
      "2021-06-29 10:14:44,015:(0.00s):root:\t\tfe_type: repex\n",
      "2021-06-29 10:14:44,017:(0.00s):root:\t\t\toffline-freq not specified: default to 10.\n",
      "2021-06-29 10:14:44,019:(0.00s):root:\t'neglect_angles' detected: False.\n",
      "2021-06-29 10:14:44,021:(0.00s):root:\t'softcore_v2' not specified: default to 'False'\n",
      "2021-06-29 10:14:44,022:(0.00s):root:\tCreating 'output'...\n",
      "2021-06-29 10:14:44,028:(0.01s):root:\tdetected ligand file: /home/zhangi/miniconda3/envs/perses-rxn-field/lib/python3.8/site-packages/perses-0.8.2.dev0-py3.8.egg/perses/data/cdk2-example/CDK2_ligands.sdf\n",
      "2021-06-29 10:14:44,030:(0.00s):root:\told ligand index: 14; new ligand index: 15\n",
      "2021-06-29 10:14:44,032:(0.00s):root:\tsetting up forcefield files...\n",
      "2021-06-29 10:14:44,033:(0.00s):root:\tno timestep detected: setting default as 1.0fs.\n",
      "2021-06-29 10:14:44,034:(0.00s):root:\tno splitting strings specified: defaulting to neq: V R O R V, eq: V R O R V.\n",
      "2021-06-29 10:14:44,035:(0.00s):root:\tno measure_shadow_work specified: defaulting to False.\n",
      "2021-06-29 10:14:44,035:(0.00s):root:\tsetting pressure: 1.0 atm.\n",
      "2021-06-29 10:14:44,036:(0.00s):root:\tsetting temperature: 300.0 K.\n",
      "2021-06-29 10:14:44,037:(0.00s):root:\tsetting solvent padding: 9.0 AA.\n",
      "2021-06-29 10:14:44,040:(0.00s):root:\tsetting ionic strength: 0.15 MM.\n",
      "2021-06-29 10:14:44,041:(0.00s):root:\tsetup pickle file: fesetup_hbonds.pkl\n",
      "2021-06-29 10:14:44,041:(0.00s):root:\ttrajectory directory: output\n",
      "2021-06-29 10:14:44,042:(0.00s):root:\tno atom map specified: default to None.\n",
      "2021-06-29 10:14:44,043:(0.00s):root:\tno topology_proposal specified; proceeding to RelativeFEPSetup...\n",
      "\n",
      "\n",
      "\n",
      "2021-06-29 10:14:44,043:(0.00s):root:Box dimensions: None and None\n",
      "2021-06-29 10:14:44,044:(0.00s):relative_setup:\t\t\t_hmass: 4 Da.\n",
      "\n",
      "2021-06-29 10:14:44,045:(0.00s):relative_setup:Setting non bonded method to PME\n",
      "2021-06-29 10:14:44,045:(0.00s):relative_setup:Handling files for ligands and indices...\n",
      "2021-06-29 10:14:44,046:(0.00s):relative_setup:Detected .sdf format.  Proceeding...\n",
      "2021-06-29 10:14:44,068:(0.02s):utils.openeye:molecule 17                      does not have unique atom names. Generating now...\n",
      "2021-06-29 10:14:44,076:(0.01s):utils.openeye:molecule 1h1q                      does not have unique atom names. Generating now...\n",
      "2021-06-29 10:14:44,082:(0.01s):relative_setup:\tsuccessfully extracted positions from OEMOL.\n",
      "2021-06-29 10:14:44,087:(0.00s):relative_setup:\tsetting both molecule oemol titles to 'MOL'.\n",
      "2021-06-29 10:14:44,088:(0.00s):relative_setup:\tsuccessfully created SMILES for both ligand OEMOLs.\n",
      "2021-06-29 10:14:44,091:(0.00s):relative_setup:\tsuccessfully generated topologies for both OEMOLs.\n",
      "2021-06-29 10:14:44,097:(0.01s):relative_setup:Created mdtraj topologies for both ligands.\n",
      "2021-06-29 10:14:44,098:(0.00s):relative_setup:set MonteCarloBarostat because pressure was specified as 1.0 atm atmospheres\n",
      "2021-06-29 10:14:44,116:(0.02s):relative_setup:PME tolerance: 0.00025\n",
      "2021-06-29 10:14:44,477:(0.36s):relative_setup:successfully created SystemGenerator to create ligand systems\n",
      "2021-06-29 10:14:44,480:(0.00s):relative_setup:executing SmallMoleculeSetProposalEngine...\n",
      "2021-06-29 10:14:44,483:(0.00s):relative_setup:instantiating FFAllAngleGeometryEngine...\n",
      "2021-06-29 10:14:44,485:(0.00s):relative_setup:Detected solvent...\n",
      "2021-06-29 10:14:44,487:(0.00s):relative_setup:no complex detected in phases...generating unique topology/geometry proposals...\n",
      "2021-06-29 10:14:44,489:(0.00s):relative_setup:solvating ligand...\n",
      "2021-06-29 10:14:44,491:(0.00s):relative_setup:box_dimensions: None\n",
      "2021-06-29 10:14:44,493:(0.00s):relative_setup:solvent padding: 9.0\n",
      "2021-06-29 10:14:44,494:(0.00s):relative_setup:\tpreparing to add solvent\n",
      "2021-06-29 10:14:44,965:(0.47s):openmmforcefields.generators.template_generators:Requested to generate parameters for residue <Residue 0 (MOL) of chain 0>\n",
      "2021-06-29 10:14:45,316:(0.35s):relative_setup:\tparameterizing...\n",
      "2021-06-29 10:14:45,487:(0.17s):relative_setup:\tSystem parameterized\n",
      "2021-06-29 10:14:45,516:(0.03s):relative_setup:creating TopologyProposal\n",
      "2021-06-29 10:14:45,519:(0.00s):proposal_generator:creating current receptor topology by removing small molecule from current topology...\n",
      "2021-06-29 10:14:45,647:(0.13s):proposal_generator:small molecule start index: 0\n",
      "2021-06-29 10:14:45,649:(0.00s):proposal_generator:small molecule has 45 atoms.\n",
      "2021-06-29 10:14:45,650:(0.00s):proposal_generator:old alchemical atom indices: range(0, 45)\n",
      "2021-06-29 10:14:45,651:(0.00s):proposal_generator:proposed mol detected with smiles [H]c1c(c(c(c(c1[H])[H])N([H])c2nc3c(c(n2)OC([H])([H])C4(C(C(C(C(C4([H])[H])([H])[H])([H])[H])([H])[H])([H])[H])[H])nc(n3[H])[H])[H])[H] and logp_proposal of 0.0\n",
      "2021-06-29 10:14:45,652:(0.00s):proposal_generator:conducting proposal from [H]c1c(c(c(c(c1[H])Br)[H])N([H])c2nc3c(c(n2)OC([H])([H])C4(C(C(C(C(C4([H])[H])([H])[H])([H])[H])([H])[H])([H])[H])[H])nc(n3[H])[H])[H] to [H]c1c(c(c(c(c1[H])[H])N([H])c2nc3c(c(n2)OC([H])([H])C4(C(C(C(C(C4([H])[H])([H])[H])([H])[H])([H])[H])([H])[H])[H])nc(n3[H])[H])[H])[H]...\n",
      "2021-06-29 10:14:45,653:(0.00s):proposal_generator:building new topology with proposed molecule and current receptor topology...\n",
      "2021-06-29 10:14:45,654:(0.00s):proposal_generator:\tsetting proposed oemol title to MOL\n",
      "2021-06-29 10:14:45,656:(0.00s):proposal_generator:\tcreating mol topology from oemol...\n",
      "2021-06-29 10:14:45,657:(0.00s):proposal_generator:\tappending current receptor topology to new mol topology...\n",
      "2021-06-29 10:14:45,664:(0.01s):proposal_generator:\tperiodic box vectors of the current receptor is specified; copying to new topology...\n",
      "2021-06-29 10:14:45,665:(0.00s):proposal_generator:new molecule has a start index of 2152 and 45 atoms.\n",
      "2021-06-29 10:14:45,667:(0.00s):proposal_generator:proceeding to build the new system from the new topology...\n",
      "2021-06-29 10:14:45,686:(0.02s):openmmforcefields.generators.template_generators:Requested to generate parameters for residue <Residue 720 (MOL) of chain 3>\n",
      "2021-06-29 10:14:45,825:(0.14s):proposal_generator:determining atom map between old and new molecules...\n",
      "2021-06-29 10:14:45,827:(0.00s):proposal_generator:the atom map is not specified; proceeding to generate an atom map...\n",
      "2021-06-29 10:14:45,828:(0.00s):proposal_generator:Using geometry to chose best atom map\n",
      "2021-06-29 10:14:45,835:(0.01s):proposal_generator:Scaffold has symmetry of 4\n",
      "2021-06-29 10:14:45,836:(0.00s):proposal_generator:There are 4 before filtering\n",
      "2021-06-29 10:14:45,838:(0.00s):proposal_generator:There are 4 after filtering to remove maps with fewer matches than 24 atoms\n",
      "2021-06-29 10:14:45,842:(0.00s):proposal_generator:1 scaffold maps for A\n",
      "2021-06-29 10:14:45,843:(0.00s):proposal_generator:Scaffold to molA: {0: 0, 1: 1, 2: 2, 3: 3, 8: 4, 7: 5, 6: 6, 5: 7, 4: 8, 11: 9, 10: 10, 9: 11, 23: 12, 13: 13, 14: 14, 15: 15, 16: 16, 17: 17, 18: 18, 19: 19, 20: 20, 21: 21, 22: 22, 12: 23}\n",
      "2021-06-29 10:14:45,847:(0.00s):proposal_generator:1 scaffold maps for B\n",
      "2021-06-29 10:14:45,848:(0.00s):proposal_generator:Scaffold to molB: {0: 0, 1: 1, 2: 2, 3: 3, 8: 4, 7: 5, 6: 6, 5: 7, 4: 8, 11: 9, 10: 10, 9: 11, 23: 12, 13: 13, 14: 14, 15: 15, 16: 16, 17: 17, 18: 18, 19: 19, 20: 20, 21: 21, 22: 22, 12: 23}\n",
      "2021-06-29 10:14:47,731:(1.88s):proposal_generator:4 maps are reduced to 1\n",
      "2021-06-29 10:14:47,733:(0.00s):proposal_generator:molecule_maps_scores: dict_keys([19.8560123167367])\n",
      "2021-06-29 10:14:47,735:(0.00s):proposal_generator:Returning map with closest geometry satisfaction\n",
      "2021-06-29 10:14:47,807:(0.07s):proposal_generator:Proposed transformation would delete 1 atoms and create 1 atoms.\n",
      "2021-06-29 10:14:47,809:(0.00s):relative_setup:conducting geometry proposal...\n",
      "2021-06-29 10:14:47,810:(0.00s):geometry:propose: performing forward proposal\n",
      "2021-06-29 10:14:47,812:(0.00s):geometry:propose: unique new atoms detected; proceeding to _logp_propose...\n"
     ]
    },
    {
     "name": "stderr",
     "output_type": "stream",
     "text": [
      "2021-06-29 10:14:47,813:(0.00s):geometry:Conducting forward proposal...\n",
      "2021-06-29 10:14:47,814:(0.00s):geometry:Computing proposal order with NetworkX...\n",
      "2021-06-29 10:14:47,821:(0.01s):geometry:number of atoms to be placed: 1\n",
      "2021-06-29 10:14:47,822:(0.00s):geometry:Atom index proposal order is [2190]\n",
      "2021-06-29 10:14:47,823:(0.00s):geometry:omitted_bonds: []\n",
      "2021-06-29 10:14:47,824:(0.00s):geometry:direction of proposal is forward; creating atoms_with_positions and new positions from old system/topology...\n",
      "2021-06-29 10:14:47,948:(0.12s):geometry:creating growth system...\n",
      "2021-06-29 10:14:47,982:(0.03s):geometry:\tcreating bond force...\n",
      "2021-06-29 10:14:47,983:(0.00s):geometry:\tthere are 27 bonds in reference force.\n",
      "2021-06-29 10:14:47,985:(0.00s):geometry:\tcreating angle force...\n",
      "2021-06-29 10:14:47,986:(0.00s):geometry:\tthere are 85 angles in reference force.\n",
      "2021-06-29 10:14:47,988:(0.00s):geometry:\tcreating torsion force...\n",
      "2021-06-29 10:14:47,989:(0.00s):geometry:\tcreating extra torsions force...\n",
      "2021-06-29 10:14:47,990:(0.00s):geometry:\tthere are 157 torsions in reference force.\n",
      "2021-06-29 10:14:47,992:(0.00s):geometry:\tcreating nonbonded force...\n",
      "2021-06-29 10:14:47,993:(0.00s):geometry:\t\tgrabbing reference nonbonded method, cutoff, switching function, switching distance...\n",
      "2021-06-29 10:14:47,994:(0.00s):geometry:\t\tcreating nonbonded exception force (i.e. custom bond for 1,4s)...\n",
      "2021-06-29 10:14:47,996:(0.00s):geometry:\t\tlooping through exceptions calculating growth indices, and adding appropriate interactions to custom bond force.\n",
      "2021-06-29 10:14:47,997:(0.00s):geometry:\t\tthere are 2395 in the reference Nonbonded force\n",
      "2021-06-29 10:14:48,035:(0.04s):geometry:Neglected angle terms : []\n",
      "2021-06-29 10:14:48,036:(0.00s):geometry:omitted_growth_terms: {'bonds': [], 'angles': [], 'torsions': [], '1,4s': []}\n",
      "2021-06-29 10:14:48,037:(0.00s):geometry:extra torsions: {0: (2190, 2161, 2162, 2163, [1, Quantity(value=-0.019594642035228205, unit=radian), Quantity(value=1200.0, unit=kilocalorie/mole), 1]), 1: (2190, 2161, 2162, 2191, [1, Quantity(value=-3.1361896196768977, unit=radian), Quantity(value=1200.0, unit=kilocalorie/mole), 1]), 2: (2190, 2161, 2175, 2174, [1, Quantity(value=-0.008871224163264912, unit=radian), Quantity(value=1200.0, unit=kilocalorie/mole), 1]), 3: (2190, 2161, 2175, 2196, [1, Quantity(value=3.1405837865634907, unit=radian), Quantity(value=1200.0, unit=kilocalorie/mole), 1])}\n",
      "2021-06-29 10:14:48,038:(0.00s):geometry:neglected angle terms include []\n",
      "2021-06-29 10:14:48,040:(0.00s):geometry:log probability choice of torsions and atom order: -1.3862943611198906\n",
      "2021-06-29 10:14:48,041:(0.00s):geometry:creating platform, integrators, and contexts; setting growth parameter\n"
     ]
    },
    {
     "name": "stdout",
     "output_type": "stream",
     "text": [
      "conducting subsequent work with the following platform: CUDA\n"
     ]
    },
    {
     "name": "stderr",
     "output_type": "stream",
     "text": [
      "2021-06-29 10:14:49,766:(1.73s):geometry:setting atoms_with_positions context new positions\n"
     ]
    },
    {
     "name": "stdout",
     "output_type": "stream",
     "text": [
      "conducting subsequent work with the following platform: CUDA\n"
     ]
    },
    {
     "name": "stderr",
     "output_type": "stream",
     "text": [
      "2021-06-29 10:14:50,753:(0.99s):geometry:There are 1 new atoms\n",
      "2021-06-29 10:14:50,765:(0.01s):geometry:\treduced angle potential = 0.14307119892200534.\n",
      "2021-06-29 10:14:50,892:(0.13s):geometry:\tbeginning construction of no_nonbonded final system...\n",
      "2021-06-29 10:14:50,894:(0.00s):geometry:\tinitial no-nonbonded final system forces ['HarmonicBondForce', 'HarmonicAngleForce', 'PeriodicTorsionForce', 'NonbondedForce', 'MonteCarloBarostat']\n",
      "2021-06-29 10:14:51,074:(0.18s):geometry:\tfinal no-nonbonded final system forces dict_keys(['HarmonicBondForce', 'HarmonicAngleForce', 'PeriodicTorsionForce', 'NonbondedForce'])\n",
      "2021-06-29 10:14:51,077:(0.00s):geometry:\tthere are 27 bond forces in the no-nonbonded final system\n",
      "2021-06-29 10:14:51,079:(0.00s):geometry:\tthere are 85 angle forces in the no-nonbonded final system\n",
      "2021-06-29 10:14:51,080:(0.00s):geometry:\tthere are 157 torsion forces in the no-nonbonded final system\n",
      "2021-06-29 10:14:51,082:(0.00s):geometry:forward final system defined with 0 neglected angles.\n"
     ]
    },
    {
     "name": "stdout",
     "output_type": "stream",
     "text": [
      "conducting subsequent work with the following platform: CUDA\n",
      "conducting subsequent work with the following platform: CUDA\n"
     ]
    },
    {
     "name": "stderr",
     "output_type": "stream",
     "text": [
      "2021-06-29 10:14:54,325:(3.24s):geometry:total reduced potential before atom placement: 48.41967204742058\n"
     ]
    },
    {
     "name": "stdout",
     "output_type": "stream",
     "text": [
      "conducting subsequent work with the following platform: CUDA\n",
      "conducting subsequent work with the following platform: CUDA\n",
      "conducting subsequent work with the following platform: CUDA\n"
     ]
    },
    {
     "name": "stderr",
     "output_type": "stream",
     "text": [
      "2021-06-29 10:14:56,396:(2.07s):geometry:total reduced energy added from growth system: 8.131803061947645\n",
      "2021-06-29 10:14:56,399:(0.00s):geometry:final reduced energy 56.55147576229884\n",
      "2021-06-29 10:14:56,401:(0.00s):geometry:sum of energies: 56.551475109368226\n",
      "2021-06-29 10:14:56,403:(0.00s):geometry:magnitude of difference in the energies: 6.529306144642533e-07\n",
      "2021-06-29 10:14:56,405:(0.00s):geometry:Final logp_proposal: 7.0676942083326\n"
     ]
    },
    {
     "name": "stdout",
     "output_type": "stream",
     "text": [
      "added energy components: [('CustomBondForce', 0.0), ('CustomAngleForce', 0.34724705389815314), ('CustomTorsionForce', 0.005820681060591885), ('CustomBondForce', 7.778735326988901)]\n"
     ]
    },
    {
     "name": "stderr",
     "output_type": "stream",
     "text": [
      "2021-06-29 10:14:56,569:(0.16s):geometry:logp_reverse: performing reverse proposal\n",
      "2021-06-29 10:14:56,571:(0.00s):geometry:logp_reverse: unique new atoms detected; proceeding to _logp_propose...\n",
      "2021-06-29 10:14:56,573:(0.00s):geometry:Conducting forward proposal...\n",
      "2021-06-29 10:14:56,574:(0.00s):geometry:Computing proposal order with NetworkX...\n",
      "2021-06-29 10:14:56,583:(0.01s):geometry:number of atoms to be placed: 1\n",
      "2021-06-29 10:14:56,584:(0.00s):geometry:Atom index proposal order is [44]\n",
      "2021-06-29 10:14:56,585:(0.00s):geometry:omitted_bonds: []\n",
      "2021-06-29 10:14:56,586:(0.00s):geometry:direction of proposal is reverse; creating atoms_with_positions from old system/topology\n",
      "2021-06-29 10:14:56,799:(0.21s):geometry:creating growth system...\n",
      "2021-06-29 10:14:56,831:(0.03s):geometry:\tcreating bond force...\n",
      "2021-06-29 10:14:56,832:(0.00s):geometry:\tthere are 28 bonds in reference force.\n",
      "2021-06-29 10:14:56,834:(0.00s):geometry:\tcreating angle force...\n",
      "2021-06-29 10:14:56,835:(0.00s):geometry:\tthere are 85 angles in reference force.\n",
      "2021-06-29 10:14:56,836:(0.00s):geometry:\tcreating torsion force...\n",
      "2021-06-29 10:14:56,837:(0.00s):geometry:\tcreating extra torsions force...\n",
      "2021-06-29 10:14:56,839:(0.00s):geometry:\tthere are 157 torsions in reference force.\n",
      "2021-06-29 10:14:56,840:(0.00s):geometry:\tcreating nonbonded force...\n",
      "2021-06-29 10:14:56,841:(0.00s):geometry:\t\tgrabbing reference nonbonded method, cutoff, switching function, switching distance...\n",
      "2021-06-29 10:14:56,842:(0.00s):geometry:\t\tcreating nonbonded exception force (i.e. custom bond for 1,4s)...\n",
      "2021-06-29 10:14:56,844:(0.00s):geometry:\t\tlooping through exceptions calculating growth indices, and adding appropriate interactions to custom bond force.\n",
      "2021-06-29 10:14:56,845:(0.00s):geometry:\t\tthere are 2395 in the reference Nonbonded force\n",
      "2021-06-29 10:14:56,881:(0.04s):geometry:Neglected angle terms : []\n",
      "2021-06-29 10:14:56,882:(0.00s):geometry:omitted_growth_terms: {'bonds': [], 'angles': [], 'torsions': [], '1,4s': []}\n",
      "2021-06-29 10:14:56,883:(0.00s):geometry:extra torsions: {0: (9, 10, 11, 44, [1, Quantity(value=0.017128570696415935, unit=radian), Quantity(value=1200.0, unit=kilocalorie/mole), 1]), 1: (39, 10, 11, 44, [1, Quantity(value=3.1337857477223063, unit=radian), Quantity(value=1200.0, unit=kilocalorie/mole), 1]), 2: (44, 11, 12, 22, [1, Quantity(value=0.00863885124394681, unit=radian), Quantity(value=1200.0, unit=kilocalorie/mole), 1]), 3: (44, 11, 12, 40, [1, Quantity(value=-3.1382699121359634, unit=radian), Quantity(value=1200.0, unit=kilocalorie/mole), 1])}\n",
      "2021-06-29 10:14:56,884:(0.00s):geometry:neglected angle terms include []\n",
      "2021-06-29 10:14:56,885:(0.00s):geometry:log probability choice of torsions and atom order: -1.3862943611198906\n",
      "2021-06-29 10:14:56,886:(0.00s):geometry:creating platform, integrators, and contexts; setting growth parameter\n"
     ]
    },
    {
     "name": "stdout",
     "output_type": "stream",
     "text": [
      "conducting subsequent work with the following platform: CUDA\n"
     ]
    },
    {
     "name": "stderr",
     "output_type": "stream",
     "text": [
      "2021-06-29 10:14:57,905:(1.02s):geometry:setting atoms_with_positions context old positions\n"
     ]
    },
    {
     "name": "stdout",
     "output_type": "stream",
     "text": [
      "conducting subsequent work with the following platform: CUDA\n"
     ]
    },
    {
     "name": "stderr",
     "output_type": "stream",
     "text": [
      "2021-06-29 10:14:58,614:(0.71s):geometry:There are 1 new atoms\n",
      "2021-06-29 10:14:58,622:(0.01s):geometry:\treduced angle potential = 0.012250173302112203.\n",
      "2021-06-29 10:14:58,709:(0.09s):geometry:\tbeginning construction of no_nonbonded final system...\n",
      "2021-06-29 10:14:58,711:(0.00s):geometry:\tinitial no-nonbonded final system forces ['HarmonicBondForce', 'HarmonicAngleForce', 'PeriodicTorsionForce', 'NonbondedForce', 'MonteCarloBarostat']\n",
      "2021-06-29 10:14:58,798:(0.09s):geometry:\tfinal no-nonbonded final system forces dict_keys(['HarmonicBondForce', 'HarmonicAngleForce', 'PeriodicTorsionForce', 'NonbondedForce'])\n",
      "2021-06-29 10:14:58,799:(0.00s):geometry:\tthere are 28 bond forces in the no-nonbonded final system\n",
      "2021-06-29 10:14:58,800:(0.00s):geometry:\tthere are 85 angle forces in the no-nonbonded final system\n",
      "2021-06-29 10:14:58,801:(0.00s):geometry:\tthere are 157 torsion forces in the no-nonbonded final system\n",
      "2021-06-29 10:14:58,802:(0.00s):geometry:reverse final system defined with 0 neglected angles.\n"
     ]
    },
    {
     "name": "stdout",
     "output_type": "stream",
     "text": [
      "conducting subsequent work with the following platform: CUDA\n",
      "conducting subsequent work with the following platform: CUDA\n"
     ]
    },
    {
     "name": "stderr",
     "output_type": "stream",
     "text": [
      "2021-06-29 10:15:00,503:(1.70s):geometry:total reduced potential before atom placement: 48.41899607369698\n"
     ]
    },
    {
     "name": "stdout",
     "output_type": "stream",
     "text": [
      "conducting subsequent work with the following platform: CUDA\n",
      "conducting subsequent work with the following platform: CUDA\n",
      "conducting subsequent work with the following platform: CUDA\n"
     ]
    },
    {
     "name": "stderr",
     "output_type": "stream",
     "text": [
      "2021-06-29 10:15:02,202:(1.70s):geometry:total reduced energy added from growth system: -5.056836675687361\n",
      "2021-06-29 10:15:02,205:(0.00s):geometry:final reduced energy 43.36216011253515\n",
      "2021-06-29 10:15:02,206:(0.00s):geometry:sum of energies: 43.362159398009624\n",
      "2021-06-29 10:15:02,207:(0.00s):geometry:magnitude of difference in the energies: 7.145255302987152e-07\n",
      "2021-06-29 10:15:02,208:(0.00s):geometry:Final logp_proposal: 11.562669409973775\n"
     ]
    },
    {
     "name": "stdout",
     "output_type": "stream",
     "text": [
      "added energy components: [('CustomBondForce', 0.0879842954280575), ('CustomAngleForce', 0.04605409749261916), ('CustomTorsionForce', 0.005423562569706604), ('CustomBondForce', -5.1962986311777435)]\n"
     ]
    },
    {
     "name": "stderr",
     "output_type": "stream",
     "text": [
      "2021-06-29 10:15:02,415:(0.21s):root:\twriting pickle output...\n",
      "2021-06-29 10:15:02,522:(0.11s):root:\tsuccessfully dumped pickle.\n",
      "2021-06-29 10:15:02,526:(0.00s):root:\tsetup is complete.  Writing proposals and positions for each phase to top_prop dict...\n",
      "2021-06-29 10:15:02,528:(0.00s):root:\twriting atom_mapping.png\n",
      "2021-06-29 10:15:03,037:(0.51s):root:\t steps per move application: 50\n",
      "2021-06-29 10:15:03,039:(0.00s):root:\ttrajectory prefix: out\n",
      "2021-06-29 10:15:03,040:(0.00s):root:\tatom selection detected: not water\n",
      "2021-06-29 10:15:03,041:(0.00s):root:\tno nonequilibrium detected.\n",
      "2021-06-29 10:15:03,042:(0.00s):root:\tcataloging HybridTopologyFactories...\n",
      "2021-06-29 10:15:03,044:(0.00s):root:\t\tphase: solvent:\n",
      "2021-06-29 10:15:03,045:(0.00s):root:\t\twriting HybridTopologyFactory for phase solvent...\n",
      "2021-06-29 10:15:03,046:(0.00s):root:\t\t changed nonnbondedmethod to: 0\n",
      "2021-06-29 10:15:03,047:(0.00s):relative:*** Generating RxnHybridTopologyFactory ***\n",
      "2021-06-29 10:15:03,048:(0.00s):relative:Beginning nonbonded method, total particle, barostat, and exceptions retrieval...\n",
      "2021-06-29 10:15:03,085:(0.04s):relative:Old system forces: dict_keys(['HarmonicBondForce', 'HarmonicAngleForce', 'PeriodicTorsionForce', 'NonbondedForce'])\n",
      "2021-06-29 10:15:03,086:(0.00s):relative:New system forces: dict_keys(['HarmonicBondForce', 'HarmonicAngleForce', 'PeriodicTorsionForce', 'NonbondedForce', 'MonteCarloBarostat'])\n",
      "2021-06-29 10:15:03,087:(0.00s):relative:No unknown forces.\n",
      "2021-06-29 10:15:03,088:(0.00s):relative:Nonbonded method to be used (i.e. from old system): 0\n",
      "2021-06-29 10:15:03,089:(0.00s):relative:Adding and mapping old atoms to hybrid system...\n",
      "2021-06-29 10:15:03,105:(0.02s):relative:Adding and mapping new atoms to hybrid system...\n",
      "2021-06-29 10:15:03,106:(0.00s):relative:scale_templates: [['nonscale_lambda'], ['nonscale_region']]\n",
      "2021-06-29 10:15:03,107:(0.00s):relative:particle (nonbonded) scale_templates: [['nonscale_lambda'], ['nonscale_region1'], ['nonscale_region2']]\n",
      "2021-06-29 10:15:03,108:(0.00s):relative:No MonteCarloBarostat added.\n",
      "2021-06-29 10:15:03,109:(0.00s):relative:getDefaultPeriodicBoxVectors added to hybrid: [Quantity(value=Vec3(x=2.875229835510254, y=0.0, z=0.0), unit=nanometer), Quantity(value=Vec3(x=0.0, y=2.875229835510254, z=0.0), unit=nanometer), Quantity(value=Vec3(x=0.0, y=0.0, z=2.875229835510254), unit=nanometer)]\n",
      "2021-06-29 10:15:03,111:(0.00s):relative:Determined atom classes.\n",
      "2021-06-29 10:15:03,112:(0.00s):relative:Generating old system exceptions dict...\n",
      "2021-06-29 10:15:03,122:(0.01s):relative:Generating new system exceptions dict...\n",
      "2021-06-29 10:15:03,137:(0.01s):relative:Handling constraints...\n",
      "2021-06-29 10:15:03,172:(0.03s):relative:Handling virtual sites...\n",
      "2021-06-29 10:15:03,174:(0.00s):relative:\t_handle_virtual_sites: numVirtualSites: 0\n",
      "2021-06-29 10:15:03,694:(0.52s):root:'use_given_geometries' was passed to setup; skipping endstate validation\n",
      "2021-06-29 10:15:03,696:(0.00s):root:omitting sampler construction\n"
     ]
    }
   ],
   "source": [
    "# Create a htf\n",
    "setup_directory = resource_filename(\"perses\", \"data/cdk2-example\")\n",
    "\n",
    "# Get options\n",
    "from perses.app.setup_relative_calculation import getSetupOptions\n",
    "yaml_filename = os.path.join(setup_directory, \"cdk2_setup_repex.yaml\")\n",
    "setup_options = getSetupOptions(yaml_filename)\n",
    "\n",
    "# Update options\n",
    "for parameter in ['protein_pdb', 'ligand_file']:\n",
    "    setup_options[parameter] = os.path.join(setup_directory, setup_options[parameter])\n",
    "    \n",
    "setup_options['rxn_field'] = True\n",
    "setup_options['phases'] = ['solvent']\n",
    "setup_options['scale_regions'] = None\n",
    "setup_options['validate_endstate_energies'] = False\n",
    "    \n",
    "setup_dict = setup_relative_calculation.run_setup(setup_options, serialize_systems=False, build_samplers=False)\n",
    "\n",
    "htf = setup_dict['hybrid_topology_factories']['solvent']\n"
   ]
  },
  {
   "cell_type": "code",
   "execution_count": 5,
   "id": "058f9b83",
   "metadata": {
    "scrolled": true
   },
   "outputs": [],
   "source": [
    "\n",
    "# Set nonbonded params\n",
    "# htf._topology_proposal.old_system.getForce(3).setNonbondedMethod(openmm.NonbondedForce.NoCutoff)\n",
    "# htf._topology_proposal.old_system.getForce(3).setUseDispersionCorrection(False)\n",
    "# htf._topology_proposal.old_system.removeForce(4) # Remove barostat\n",
    "\n",
    "htf._topology_proposal.new_system.getForce(3).setNonbondedMethod(openmm.NonbondedForce.NoCutoff)\n",
    "htf._topology_proposal.new_system.getForce(3).setUseDispersionCorrection(False)\n",
    "htf._topology_proposal.new_system.removeForce(4) # Remove barostat\n",
    "\n",
    "# htf.hybrid_system.removeForce(0)\n",
    "# htf.hybrid_system.getForce(3).setNonbondedMethod(openmm.CustomNonbondedForce.NoCutoff)\n",
    "# htf.hybrid_system.getForce(3).setUseLongRangeCorrection(False)\n",
    "# htf.hybrid_system.getForce(3).setUseSwitchingFunction(False)\n",
    "\n",
    "# htf.hybrid_system.getForce(4).setNonbondedMethod(openmm.CustomNonbondedForce.NoCutoff)\n",
    "# htf.hybrid_system.getForce(4).setUseLongRangeCorrection(False)\n",
    "# htf.hybrid_system.getForce(4).setUseSwitchingFunction(False)\n",
    "\n",
    "# htf.hybrid_system.getForce(5).setUsesPeriodicBoundaryConditions(False)\n",
    "\n",
    "# htf.hybrid_system.getForce(6).setUsesPeriodicBoundaryConditions(False)"
   ]
  },
  {
   "cell_type": "code",
   "execution_count": 6,
   "id": "be703515",
   "metadata": {},
   "outputs": [],
   "source": [
    "# Save htf\n",
    "with open(\"cdk2_solvent.pickle\", \"wb\") as f:\n",
    "    pickle.dump(htf, f)"
   ]
  },
  {
   "cell_type": "markdown",
   "id": "115af5f8",
   "metadata": {},
   "source": [
    "### Test one alchemical region, no scale regions"
   ]
  },
  {
   "cell_type": "markdown",
   "id": "60604039",
   "metadata": {},
   "source": [
    "#### Old system HarmonicBondForce vs hybrid system CustomBondForce"
   ]
  },
  {
   "cell_type": "code",
   "execution_count": 7,
   "id": "c301b106",
   "metadata": {},
   "outputs": [],
   "source": [
    "# Load htf\n",
    "with open(\"/home/zhangi/choderalab/perses_benchmark/perses_protein_mutations/code/26_rxn_field/cdk2_solvent.pickle\", \"rb\") as f:\n",
    "    htf = pickle.load(f)"
   ]
  },
  {
   "cell_type": "code",
   "execution_count": 8,
   "id": "41891b46",
   "metadata": {
    "scrolled": true
   },
   "outputs": [
    {
     "name": "stdout",
     "output_type": "stream",
     "text": [
      "Warning: Returning CPU platform instead of requested platform <simtk.openmm.openmm.Platform; proxy of <Swig Object of type 'OpenMM::Platform *' at 0x2b7e64ad7de0> >\n",
      "conducting subsequent work with the following platform: CPU\n",
      "conducting subsequent work with the following platform: CUDA\n",
      "[('HarmonicBondForce', 4.608082977954756), ('HarmonicAngleForce', 29.199523609209102), ('PeriodicTorsionForce', 15.076747992617829), ('NonbondedForce', -11539.728483322744), ('AndersenThermostat', 0.0)]\n",
      "conducting subsequent work with the following platform: CUDA\n",
      "[('CustomBondForce', 4.608082977954756), ('CustomAngleForce', 29.549101180247508), ('CustomTorsionForce', 15.07675469305873), ('CustomNonbondedForce', -10682.021733558106), ('CustomNonbondedForce', 1807.0792413215015), ('CustomBondForce', -857.7066221249365), ('CustomBondForce', 23.895760551071746), ('AndersenThermostat', 0.0)]\n",
      "Success! Custom nb force and standard nb force electrostatics energies are equal!\n"
     ]
    }
   ],
   "source": [
    "test_nb_energies(htf, is_solvated=True)"
   ]
  },
  {
   "cell_type": "code",
   "execution_count": 9,
   "id": "38d8a1c6",
   "metadata": {},
   "outputs": [],
   "source": [
    "# Load htf\n",
    "with open(\"/home/zhangi/choderalab/perses_benchmark/perses_protein_mutations/code/26_rxn_field/cdk2_solvent.pickle\", \"rb\") as f:\n",
    "    htf = pickle.load(f)"
   ]
  },
  {
   "cell_type": "code",
   "execution_count": 10,
   "id": "d437f735",
   "metadata": {},
   "outputs": [
    {
     "name": "stdout",
     "output_type": "stream",
     "text": [
      "Warning: Returning CPU platform instead of requested platform <simtk.openmm.openmm.Platform; proxy of <Swig Object of type 'OpenMM::Platform *' at 0x2b7e64ad7de0> >\n",
      "conducting subsequent work with the following platform: CPU\n",
      "conducting subsequent work with the following platform: CUDA\n",
      "[('HarmonicBondForce', 4.608082977954756), ('HarmonicAngleForce', 29.199523609209102), ('PeriodicTorsionForce', 15.076747992617829), ('NonbondedForce', 1830.9750656072613), ('AndersenThermostat', 0.0)]\n",
      "conducting subsequent work with the following platform: CUDA\n",
      "[('CustomBondForce', 4.608082977954756), ('CustomAngleForce', 29.549101180247508), ('CustomTorsionForce', 15.07675469305873), ('CustomNonbondedForce', -10682.021733558106), ('CustomNonbondedForce', 1807.0792413215015), ('CustomBondForce', -857.7066221249365), ('CustomBondForce', 23.895760551071746), ('AndersenThermostat', 0.0)]\n",
      "Success! Custom nb force and standard nb force sterics energies are equal!\n"
     ]
    }
   ],
   "source": [
    "test_nb_energies(htf, is_electrostatics=False, is_solvated=True)"
   ]
  },
  {
   "cell_type": "markdown",
   "id": "1aa884bc",
   "metadata": {},
   "source": [
    "#### New system HarmonicBondForce vs hybrid system CustomBondForce"
   ]
  },
  {
   "cell_type": "code",
   "execution_count": 11,
   "id": "ea1e2d34",
   "metadata": {},
   "outputs": [],
   "source": [
    "# Load htf\n",
    "with open(\"/home/zhangi/choderalab/perses_benchmark/perses_protein_mutations/code/26_rxn_field/cdk2_solvent.pickle\", \"rb\") as f:\n",
    "    htf = pickle.load(f)"
   ]
  },
  {
   "cell_type": "code",
   "execution_count": 12,
   "id": "efc8566f",
   "metadata": {},
   "outputs": [
    {
     "name": "stdout",
     "output_type": "stream",
     "text": [
      "Warning: Returning CPU platform instead of requested platform <simtk.openmm.openmm.Platform; proxy of <Swig Object of type 'OpenMM::Platform *' at 0x2b7e64ad7de0> >\n",
      "conducting subsequent work with the following platform: CPU\n",
      "conducting subsequent work with the following platform: CUDA\n",
      "[('HarmonicBondForce', 4.519508183899664), ('HarmonicAngleForce', 29.502737994852257), ('PeriodicTorsionForce', 15.077827923252181), ('NonbondedForce', -11529.545871393288), ('AndersenThermostat', 0.0)]\n",
      "conducting subsequent work with the following platform: CUDA\n",
      "[('CustomBondForce', 4.608082977954756), ('CustomAngleForce', 29.549101180247508), ('CustomTorsionForce', 15.07675469305873), ('CustomNonbondedForce', -10693.594245750202), ('CustomNonbondedForce', 1807.0792413215015), ('CustomBondForce', -835.9514895645796), ('CustomBondForce', 23.895760551071746), ('AndersenThermostat', 0.0)]\n",
      "Success! Custom nb force and standard nb force electrostatics energies are equal!\n"
     ]
    }
   ],
   "source": [
    "test_nb_energies(htf, is_old=False, is_solvated=True)"
   ]
  },
  {
   "cell_type": "code",
   "execution_count": 13,
   "id": "c61c9650",
   "metadata": {},
   "outputs": [],
   "source": [
    "# Load htf\n",
    "with open(\"/home/zhangi/choderalab/perses_benchmark/perses_protein_mutations/code/26_rxn_field/cdk2_solvent.pickle\", \"rb\") as f:\n",
    "    htf = pickle.load(f)"
   ]
  },
  {
   "cell_type": "code",
   "execution_count": 14,
   "id": "ad36c334",
   "metadata": {},
   "outputs": [
    {
     "name": "stdout",
     "output_type": "stream",
     "text": [
      "Warning: Returning CPU platform instead of requested platform <simtk.openmm.openmm.Platform; proxy of <Swig Object of type 'OpenMM::Platform *' at 0x2b7e64ad7de0> >\n",
      "conducting subsequent work with the following platform: CPU\n",
      "conducting subsequent work with the following platform: CUDA\n",
      "[('HarmonicBondForce', 4.519508183899664), ('HarmonicAngleForce', 29.502737994852257), ('PeriodicTorsionForce', 15.077827923252181), ('NonbondedForce', 1834.8061120670895), ('AndersenThermostat', 0.0)]\n",
      "conducting subsequent work with the following platform: CUDA\n",
      "[('CustomBondForce', 4.608082977954756), ('CustomAngleForce', 29.549101180247508), ('CustomTorsionForce', 15.07675469305873), ('CustomNonbondedForce', -10682.021733558106), ('CustomNonbondedForce', 1810.8840952197431), ('CustomBondForce', -857.7066221249365), ('CustomBondForce', 23.921953028623296), ('AndersenThermostat', 0.0)]\n",
      "Success! Custom nb force and standard nb force sterics energies are equal!\n"
     ]
    }
   ],
   "source": [
    "test_nb_energies(htf, is_electrostatics=False, is_old=False, is_solvated=True)"
   ]
  },
  {
   "cell_type": "markdown",
   "id": "b390ade2",
   "metadata": {},
   "source": [
    "### Test one alchemical region, one scale region"
   ]
  },
  {
   "cell_type": "code",
   "execution_count": 15,
   "id": "8671a075",
   "metadata": {},
   "outputs": [],
   "source": [
    "import os\n",
    "from pkg_resources import resource_filename\n",
    "from perses.app import setup_relative_calculation\n",
    "import pickle"
   ]
  },
  {
   "cell_type": "code",
   "execution_count": 16,
   "id": "63072c61",
   "metadata": {
    "scrolled": true
   },
   "outputs": [
    {
     "name": "stderr",
     "output_type": "stream",
     "text": [
      "2021-06-29 10:15:44,454:(40.76s):root:\tDetecting phases...\n",
      "2021-06-29 10:15:44,457:(0.00s):root:\t\tphases detected: ['complex', 'solvent', 'vacuum']\n",
      "2021-06-29 10:15:44,458:(0.00s):root:No constraints will be removed\n",
      "2021-06-29 10:15:44,459:(0.00s):root:No spectators\n",
      "2021-06-29 10:15:44,462:(0.00s):root:\t\t\trun_type is not specified; default to None\n",
      "2021-06-29 10:15:44,463:(0.00s):root:\tDetecting fe_type...\n",
      "2021-06-29 10:15:44,464:(0.00s):root:\t\tfe_type: repex\n",
      "2021-06-29 10:15:44,464:(0.00s):root:\t\t\toffline-freq not specified: default to 10.\n",
      "2021-06-29 10:15:44,465:(0.00s):root:\t'neglect_angles' detected: False.\n",
      "2021-06-29 10:15:44,466:(0.00s):root:\t'softcore_v2' not specified: default to 'False'\n",
      "2021-06-29 10:15:44,466:(0.00s):root:\tCreating 'output'...\n",
      "2021-06-29 10:15:44,476:(0.01s):root:\tdetected ligand file: /home/zhangi/miniconda3/envs/perses-rxn-field/lib/python3.8/site-packages/perses-0.8.2.dev0-py3.8.egg/perses/data/cdk2-example/CDK2_ligands.sdf\n",
      "2021-06-29 10:15:44,477:(0.00s):root:\told ligand index: 14; new ligand index: 15\n",
      "2021-06-29 10:15:44,477:(0.00s):root:\tsetting up forcefield files...\n",
      "2021-06-29 10:15:44,478:(0.00s):root:\tno timestep detected: setting default as 1.0fs.\n",
      "2021-06-29 10:15:44,479:(0.00s):root:\tno splitting strings specified: defaulting to neq: V R O R V, eq: V R O R V.\n",
      "2021-06-29 10:15:44,479:(0.00s):root:\tno measure_shadow_work specified: defaulting to False.\n",
      "2021-06-29 10:15:44,480:(0.00s):root:\tsetting pressure: 1.0 atm.\n",
      "2021-06-29 10:15:44,481:(0.00s):root:\tsetting temperature: 300.0 K.\n",
      "2021-06-29 10:15:44,481:(0.00s):root:\tsetting solvent padding: 9.0 AA.\n",
      "2021-06-29 10:15:44,482:(0.00s):root:\tsetting ionic strength: 0.15 MM.\n",
      "2021-06-29 10:15:44,483:(0.00s):root:\tsetup pickle file: fesetup_hbonds.pkl\n",
      "2021-06-29 10:15:44,483:(0.00s):root:\ttrajectory directory: output\n",
      "2021-06-29 10:15:44,484:(0.00s):root:\tno atom map specified: default to None.\n",
      "2021-06-29 10:15:44,484:(0.00s):root:\tno topology_proposal specified; proceeding to RelativeFEPSetup...\n",
      "\n",
      "\n",
      "\n",
      "2021-06-29 10:15:44,485:(0.00s):root:Box dimensions: None and None\n",
      "2021-06-29 10:15:44,485:(0.00s):relative_setup:\t\t\t_hmass: 4 Da.\n",
      "\n",
      "2021-06-29 10:15:44,486:(0.00s):relative_setup:Setting non bonded method to PME\n",
      "2021-06-29 10:15:44,487:(0.00s):relative_setup:Handling files for ligands and indices...\n",
      "2021-06-29 10:15:44,487:(0.00s):relative_setup:Detected .sdf format.  Proceeding...\n",
      "2021-06-29 10:15:44,494:(0.01s):utils.openeye:molecule 17                      does not have unique atom names. Generating now...\n",
      "2021-06-29 10:15:44,515:(0.02s):utils.openeye:molecule 1h1q                      does not have unique atom names. Generating now...\n",
      "2021-06-29 10:15:44,519:(0.00s):relative_setup:\tsuccessfully extracted positions from OEMOL.\n",
      "2021-06-29 10:15:44,520:(0.00s):relative_setup:\tsetting both molecule oemol titles to 'MOL'.\n",
      "2021-06-29 10:15:44,521:(0.00s):relative_setup:\tsuccessfully created SMILES for both ligand OEMOLs.\n",
      "2021-06-29 10:15:44,524:(0.00s):relative_setup:\tsuccessfully generated topologies for both OEMOLs.\n",
      "2021-06-29 10:15:44,534:(0.01s):relative_setup:Created mdtraj topologies for both ligands.\n",
      "2021-06-29 10:15:44,536:(0.00s):relative_setup:set MonteCarloBarostat because pressure was specified as 1.0 atm atmospheres\n",
      "2021-06-29 10:15:44,549:(0.01s):relative_setup:PME tolerance: 0.00025\n",
      "2021-06-29 10:15:44,620:(0.07s):relative_setup:successfully created SystemGenerator to create ligand systems\n",
      "2021-06-29 10:15:44,623:(0.00s):relative_setup:executing SmallMoleculeSetProposalEngine...\n",
      "2021-06-29 10:15:44,626:(0.00s):relative_setup:instantiating FFAllAngleGeometryEngine...\n",
      "2021-06-29 10:15:44,628:(0.00s):relative_setup:Detected solvent...\n",
      "2021-06-29 10:15:44,631:(0.00s):relative_setup:no complex detected in phases...generating unique topology/geometry proposals...\n",
      "2021-06-29 10:15:44,633:(0.00s):relative_setup:solvating ligand...\n",
      "2021-06-29 10:15:44,635:(0.00s):relative_setup:box_dimensions: None\n",
      "2021-06-29 10:15:44,637:(0.00s):relative_setup:solvent padding: 9.0\n",
      "2021-06-29 10:15:44,639:(0.00s):relative_setup:\tpreparing to add solvent\n",
      "2021-06-29 10:15:45,122:(0.48s):openmmforcefields.generators.template_generators:Requested to generate parameters for residue <Residue 0 (MOL) of chain 0>\n",
      "2021-06-29 10:15:45,425:(0.30s):relative_setup:\tparameterizing...\n",
      "2021-06-29 10:15:45,697:(0.27s):relative_setup:\tSystem parameterized\n",
      "2021-06-29 10:15:45,747:(0.05s):relative_setup:creating TopologyProposal\n",
      "2021-06-29 10:15:45,749:(0.00s):proposal_generator:creating current receptor topology by removing small molecule from current topology...\n",
      "2021-06-29 10:15:45,761:(0.01s):proposal_generator:small molecule start index: 0\n",
      "2021-06-29 10:15:45,763:(0.00s):proposal_generator:small molecule has 45 atoms.\n",
      "2021-06-29 10:15:45,764:(0.00s):proposal_generator:old alchemical atom indices: range(0, 45)\n",
      "2021-06-29 10:15:45,766:(0.00s):proposal_generator:proposed mol detected with smiles [H]c1c(c(c(c(c1[H])[H])N([H])c2nc3c(c(n2)OC([H])([H])C4(C(C(C(C(C4([H])[H])([H])[H])([H])[H])([H])[H])([H])[H])[H])nc(n3[H])[H])[H])[H] and logp_proposal of 0.0\n",
      "2021-06-29 10:15:45,767:(0.00s):proposal_generator:conducting proposal from [H]c1c(c(c(c(c1[H])Br)[H])N([H])c2nc3c(c(n2)OC([H])([H])C4(C(C(C(C(C4([H])[H])([H])[H])([H])[H])([H])[H])([H])[H])[H])nc(n3[H])[H])[H] to [H]c1c(c(c(c(c1[H])[H])N([H])c2nc3c(c(n2)OC([H])([H])C4(C(C(C(C(C4([H])[H])([H])[H])([H])[H])([H])[H])([H])[H])[H])nc(n3[H])[H])[H])[H]...\n",
      "2021-06-29 10:15:45,769:(0.00s):proposal_generator:building new topology with proposed molecule and current receptor topology...\n",
      "2021-06-29 10:15:45,770:(0.00s):proposal_generator:\tsetting proposed oemol title to MOL\n",
      "2021-06-29 10:15:45,772:(0.00s):proposal_generator:\tcreating mol topology from oemol...\n",
      "2021-06-29 10:15:45,774:(0.00s):proposal_generator:\tappending current receptor topology to new mol topology...\n",
      "2021-06-29 10:15:45,786:(0.01s):proposal_generator:\tperiodic box vectors of the current receptor is specified; copying to new topology...\n",
      "2021-06-29 10:15:45,787:(0.00s):proposal_generator:new molecule has a start index of 2152 and 45 atoms.\n",
      "2021-06-29 10:15:45,789:(0.00s):proposal_generator:proceeding to build the new system from the new topology...\n",
      "2021-06-29 10:15:45,820:(0.03s):openmmforcefields.generators.template_generators:Requested to generate parameters for residue <Residue 720 (MOL) of chain 3>\n",
      "2021-06-29 10:15:46,097:(0.28s):proposal_generator:determining atom map between old and new molecules...\n",
      "2021-06-29 10:15:46,100:(0.00s):proposal_generator:the atom map is not specified; proceeding to generate an atom map...\n",
      "2021-06-29 10:15:46,102:(0.00s):proposal_generator:Using geometry to chose best atom map\n",
      "2021-06-29 10:15:46,115:(0.01s):proposal_generator:Scaffold has symmetry of 4\n",
      "2021-06-29 10:15:46,117:(0.00s):proposal_generator:There are 4 before filtering\n",
      "2021-06-29 10:15:46,119:(0.00s):proposal_generator:There are 4 after filtering to remove maps with fewer matches than 24 atoms\n",
      "2021-06-29 10:15:46,126:(0.01s):proposal_generator:1 scaffold maps for A\n",
      "2021-06-29 10:15:46,128:(0.00s):proposal_generator:Scaffold to molA: {0: 0, 1: 1, 2: 2, 3: 3, 8: 4, 7: 5, 6: 6, 5: 7, 4: 8, 11: 9, 10: 10, 9: 11, 23: 12, 13: 13, 14: 14, 15: 15, 16: 16, 17: 17, 18: 18, 19: 19, 20: 20, 21: 21, 22: 22, 12: 23}\n",
      "2021-06-29 10:15:46,135:(0.01s):proposal_generator:1 scaffold maps for B\n",
      "2021-06-29 10:15:46,137:(0.00s):proposal_generator:Scaffold to molB: {0: 0, 1: 1, 2: 2, 3: 3, 8: 4, 7: 5, 6: 6, 5: 7, 4: 8, 11: 9, 10: 10, 9: 11, 23: 12, 13: 13, 14: 14, 15: 15, 16: 16, 17: 17, 18: 18, 19: 19, 20: 20, 21: 21, 22: 22, 12: 23}\n",
      "2021-06-29 10:15:48,175:(2.04s):proposal_generator:4 maps are reduced to 1\n",
      "2021-06-29 10:15:48,177:(0.00s):proposal_generator:molecule_maps_scores: dict_keys([19.8560123167367])\n",
      "2021-06-29 10:15:48,179:(0.00s):proposal_generator:Returning map with closest geometry satisfaction\n",
      "2021-06-29 10:15:48,259:(0.08s):proposal_generator:Proposed transformation would delete 1 atoms and create 1 atoms.\n",
      "2021-06-29 10:15:48,261:(0.00s):relative_setup:conducting geometry proposal...\n",
      "2021-06-29 10:15:48,262:(0.00s):geometry:propose: performing forward proposal\n",
      "2021-06-29 10:15:48,263:(0.00s):geometry:propose: unique new atoms detected; proceeding to _logp_propose...\n"
     ]
    },
    {
     "name": "stderr",
     "output_type": "stream",
     "text": [
      "2021-06-29 10:15:48,264:(0.00s):geometry:Conducting forward proposal...\n",
      "2021-06-29 10:15:48,266:(0.00s):geometry:Computing proposal order with NetworkX...\n",
      "2021-06-29 10:15:48,273:(0.01s):geometry:number of atoms to be placed: 1\n",
      "2021-06-29 10:15:48,275:(0.00s):geometry:Atom index proposal order is [2190]\n",
      "2021-06-29 10:15:48,276:(0.00s):geometry:omitted_bonds: []\n",
      "2021-06-29 10:15:48,277:(0.00s):geometry:direction of proposal is forward; creating atoms_with_positions and new positions from old system/topology...\n",
      "2021-06-29 10:15:48,579:(0.30s):geometry:creating growth system...\n",
      "2021-06-29 10:15:48,616:(0.04s):geometry:\tcreating bond force...\n",
      "2021-06-29 10:15:48,618:(0.00s):geometry:\tthere are 27 bonds in reference force.\n",
      "2021-06-29 10:15:48,620:(0.00s):geometry:\tcreating angle force...\n",
      "2021-06-29 10:15:48,621:(0.00s):geometry:\tthere are 85 angles in reference force.\n",
      "2021-06-29 10:15:48,623:(0.00s):geometry:\tcreating torsion force...\n",
      "2021-06-29 10:15:48,625:(0.00s):geometry:\tcreating extra torsions force...\n",
      "2021-06-29 10:15:48,626:(0.00s):geometry:\tthere are 157 torsions in reference force.\n",
      "2021-06-29 10:15:48,628:(0.00s):geometry:\tcreating nonbonded force...\n",
      "2021-06-29 10:15:48,630:(0.00s):geometry:\t\tgrabbing reference nonbonded method, cutoff, switching function, switching distance...\n",
      "2021-06-29 10:15:48,631:(0.00s):geometry:\t\tcreating nonbonded exception force (i.e. custom bond for 1,4s)...\n",
      "2021-06-29 10:15:48,632:(0.00s):geometry:\t\tlooping through exceptions calculating growth indices, and adding appropriate interactions to custom bond force.\n",
      "2021-06-29 10:15:48,634:(0.00s):geometry:\t\tthere are 2395 in the reference Nonbonded force\n",
      "2021-06-29 10:15:48,675:(0.04s):geometry:Neglected angle terms : []\n",
      "2021-06-29 10:15:48,677:(0.00s):geometry:omitted_growth_terms: {'bonds': [], 'angles': [], 'torsions': [], '1,4s': []}\n",
      "2021-06-29 10:15:48,678:(0.00s):geometry:extra torsions: {0: (2190, 2161, 2162, 2163, [1, Quantity(value=-0.019594642035228205, unit=radian), Quantity(value=1200.0, unit=kilocalorie/mole), 1]), 1: (2190, 2161, 2162, 2191, [1, Quantity(value=-3.1361896196768977, unit=radian), Quantity(value=1200.0, unit=kilocalorie/mole), 1]), 2: (2190, 2161, 2175, 2174, [1, Quantity(value=-0.008871224163264912, unit=radian), Quantity(value=1200.0, unit=kilocalorie/mole), 1]), 3: (2190, 2161, 2175, 2196, [1, Quantity(value=3.1405837865634907, unit=radian), Quantity(value=1200.0, unit=kilocalorie/mole), 1])}\n",
      "2021-06-29 10:15:48,680:(0.00s):geometry:neglected angle terms include []\n",
      "2021-06-29 10:15:48,681:(0.00s):geometry:log probability choice of torsions and atom order: -1.3862943611198906\n",
      "2021-06-29 10:15:48,682:(0.00s):geometry:creating platform, integrators, and contexts; setting growth parameter\n"
     ]
    },
    {
     "name": "stdout",
     "output_type": "stream",
     "text": [
      "conducting subsequent work with the following platform: CUDA\n"
     ]
    },
    {
     "name": "stderr",
     "output_type": "stream",
     "text": [
      "2021-06-29 10:15:49,307:(0.62s):geometry:setting atoms_with_positions context new positions\n"
     ]
    },
    {
     "name": "stdout",
     "output_type": "stream",
     "text": [
      "conducting subsequent work with the following platform: CUDA\n"
     ]
    },
    {
     "name": "stderr",
     "output_type": "stream",
     "text": [
      "2021-06-29 10:15:49,792:(0.49s):geometry:There are 1 new atoms\n",
      "2021-06-29 10:15:49,801:(0.01s):geometry:\treduced angle potential = 0.027493393065678887.\n",
      "2021-06-29 10:15:49,910:(0.11s):geometry:\tbeginning construction of no_nonbonded final system...\n",
      "2021-06-29 10:15:49,912:(0.00s):geometry:\tinitial no-nonbonded final system forces ['HarmonicBondForce', 'HarmonicAngleForce', 'PeriodicTorsionForce', 'NonbondedForce', 'MonteCarloBarostat']\n",
      "2021-06-29 10:15:50,093:(0.18s):geometry:\tfinal no-nonbonded final system forces dict_keys(['HarmonicBondForce', 'HarmonicAngleForce', 'PeriodicTorsionForce', 'NonbondedForce'])\n",
      "2021-06-29 10:15:50,096:(0.00s):geometry:\tthere are 27 bond forces in the no-nonbonded final system\n",
      "2021-06-29 10:15:50,098:(0.00s):geometry:\tthere are 85 angle forces in the no-nonbonded final system\n",
      "2021-06-29 10:15:50,100:(0.00s):geometry:\tthere are 157 torsion forces in the no-nonbonded final system\n",
      "2021-06-29 10:15:50,102:(0.00s):geometry:forward final system defined with 0 neglected angles.\n"
     ]
    },
    {
     "name": "stdout",
     "output_type": "stream",
     "text": [
      "conducting subsequent work with the following platform: CUDA\n",
      "conducting subsequent work with the following platform: CUDA\n"
     ]
    },
    {
     "name": "stderr",
     "output_type": "stream",
     "text": [
      "2021-06-29 10:15:51,299:(1.20s):geometry:total reduced potential before atom placement: 48.41967204742058\n"
     ]
    },
    {
     "name": "stdout",
     "output_type": "stream",
     "text": [
      "conducting subsequent work with the following platform: CUDA\n",
      "conducting subsequent work with the following platform: CUDA\n",
      "conducting subsequent work with the following platform: CUDA\n"
     ]
    },
    {
     "name": "stderr",
     "output_type": "stream",
     "text": [
      "2021-06-29 10:15:52,884:(1.58s):geometry:total reduced energy added from growth system: 7.858867639196738\n",
      "2021-06-29 10:15:52,887:(0.00s):geometry:final reduced energy 56.278539032996854\n",
      "2021-06-29 10:15:52,889:(0.00s):geometry:sum of energies: 56.27853968661732\n",
      "2021-06-29 10:15:52,891:(0.00s):geometry:magnitude of difference in the energies: 6.536204679719049e-07\n",
      "2021-06-29 10:15:52,893:(0.00s):geometry:Final logp_proposal: 8.397320863774656\n"
     ]
    },
    {
     "name": "stdout",
     "output_type": "stream",
     "text": [
      "added energy components: [('CustomBondForce', 0.0), ('CustomAngleForce', 0.03609432667123122), ('CustomTorsionForce', 0.008101866544128186), ('CustomBondForce', 7.8146714459813795)]\n"
     ]
    },
    {
     "name": "stderr",
     "output_type": "stream",
     "text": [
      "2021-06-29 10:15:53,093:(0.20s):geometry:logp_reverse: performing reverse proposal\n",
      "2021-06-29 10:15:53,096:(0.00s):geometry:logp_reverse: unique new atoms detected; proceeding to _logp_propose...\n",
      "2021-06-29 10:15:53,098:(0.00s):geometry:Conducting forward proposal...\n",
      "2021-06-29 10:15:53,100:(0.00s):geometry:Computing proposal order with NetworkX...\n",
      "2021-06-29 10:15:53,115:(0.02s):geometry:number of atoms to be placed: 1\n",
      "2021-06-29 10:15:53,118:(0.00s):geometry:Atom index proposal order is [44]\n",
      "2021-06-29 10:15:53,120:(0.00s):geometry:omitted_bonds: []\n",
      "2021-06-29 10:15:53,122:(0.00s):geometry:direction of proposal is reverse; creating atoms_with_positions from old system/topology\n",
      "2021-06-29 10:15:53,331:(0.21s):geometry:creating growth system...\n",
      "2021-06-29 10:15:53,400:(0.07s):geometry:\tcreating bond force...\n",
      "2021-06-29 10:15:53,403:(0.00s):geometry:\tthere are 28 bonds in reference force.\n",
      "2021-06-29 10:15:53,406:(0.00s):geometry:\tcreating angle force...\n",
      "2021-06-29 10:15:53,408:(0.00s):geometry:\tthere are 85 angles in reference force.\n",
      "2021-06-29 10:15:53,411:(0.00s):geometry:\tcreating torsion force...\n",
      "2021-06-29 10:15:53,414:(0.00s):geometry:\tcreating extra torsions force...\n",
      "2021-06-29 10:15:53,416:(0.00s):geometry:\tthere are 157 torsions in reference force.\n",
      "2021-06-29 10:15:53,419:(0.00s):geometry:\tcreating nonbonded force...\n",
      "2021-06-29 10:15:53,421:(0.00s):geometry:\t\tgrabbing reference nonbonded method, cutoff, switching function, switching distance...\n",
      "2021-06-29 10:15:53,423:(0.00s):geometry:\t\tcreating nonbonded exception force (i.e. custom bond for 1,4s)...\n",
      "2021-06-29 10:15:53,425:(0.00s):geometry:\t\tlooping through exceptions calculating growth indices, and adding appropriate interactions to custom bond force.\n",
      "2021-06-29 10:15:53,427:(0.00s):geometry:\t\tthere are 2395 in the reference Nonbonded force\n",
      "2021-06-29 10:15:53,506:(0.08s):geometry:Neglected angle terms : []\n",
      "2021-06-29 10:15:53,509:(0.00s):geometry:omitted_growth_terms: {'bonds': [], 'angles': [], 'torsions': [], '1,4s': []}\n",
      "2021-06-29 10:15:53,511:(0.00s):geometry:extra torsions: {0: (9, 10, 11, 44, [1, Quantity(value=0.017128570696415935, unit=radian), Quantity(value=1200.0, unit=kilocalorie/mole), 1]), 1: (39, 10, 11, 44, [1, Quantity(value=3.1337857477223063, unit=radian), Quantity(value=1200.0, unit=kilocalorie/mole), 1]), 2: (44, 11, 12, 22, [1, Quantity(value=0.00863885124394681, unit=radian), Quantity(value=1200.0, unit=kilocalorie/mole), 1]), 3: (44, 11, 12, 40, [1, Quantity(value=-3.1382699121359634, unit=radian), Quantity(value=1200.0, unit=kilocalorie/mole), 1])}\n",
      "2021-06-29 10:15:53,513:(0.00s):geometry:neglected angle terms include []\n",
      "2021-06-29 10:15:53,515:(0.00s):geometry:log probability choice of torsions and atom order: -1.3862943611198906\n",
      "2021-06-29 10:15:53,517:(0.00s):geometry:creating platform, integrators, and contexts; setting growth parameter\n"
     ]
    },
    {
     "name": "stdout",
     "output_type": "stream",
     "text": [
      "conducting subsequent work with the following platform: CUDA\n"
     ]
    },
    {
     "name": "stderr",
     "output_type": "stream",
     "text": [
      "2021-06-29 10:15:54,166:(0.65s):geometry:setting atoms_with_positions context old positions\n"
     ]
    },
    {
     "name": "stdout",
     "output_type": "stream",
     "text": [
      "conducting subsequent work with the following platform: CUDA\n"
     ]
    },
    {
     "name": "stderr",
     "output_type": "stream",
     "text": [
      "2021-06-29 10:15:54,711:(0.54s):geometry:There are 1 new atoms\n",
      "2021-06-29 10:15:54,716:(0.01s):geometry:\treduced angle potential = 0.012250173302112203.\n",
      "2021-06-29 10:15:54,841:(0.12s):geometry:\tbeginning construction of no_nonbonded final system...\n",
      "2021-06-29 10:15:54,844:(0.00s):geometry:\tinitial no-nonbonded final system forces ['HarmonicBondForce', 'HarmonicAngleForce', 'PeriodicTorsionForce', 'NonbondedForce', 'MonteCarloBarostat']\n",
      "2021-06-29 10:15:55,019:(0.18s):geometry:\tfinal no-nonbonded final system forces dict_keys(['HarmonicBondForce', 'HarmonicAngleForce', 'PeriodicTorsionForce', 'NonbondedForce'])\n",
      "2021-06-29 10:15:55,022:(0.00s):geometry:\tthere are 28 bond forces in the no-nonbonded final system\n",
      "2021-06-29 10:15:55,024:(0.00s):geometry:\tthere are 85 angle forces in the no-nonbonded final system\n",
      "2021-06-29 10:15:55,025:(0.00s):geometry:\tthere are 157 torsion forces in the no-nonbonded final system\n",
      "2021-06-29 10:15:55,027:(0.00s):geometry:reverse final system defined with 0 neglected angles.\n"
     ]
    },
    {
     "name": "stdout",
     "output_type": "stream",
     "text": [
      "conducting subsequent work with the following platform: CUDA\n",
      "conducting subsequent work with the following platform: CUDA\n"
     ]
    },
    {
     "name": "stderr",
     "output_type": "stream",
     "text": [
      "2021-06-29 10:15:56,359:(1.33s):geometry:total reduced potential before atom placement: 48.41899607369698\n"
     ]
    },
    {
     "name": "stdout",
     "output_type": "stream",
     "text": [
      "conducting subsequent work with the following platform: CUDA\n",
      "conducting subsequent work with the following platform: CUDA\n",
      "conducting subsequent work with the following platform: CUDA\n"
     ]
    },
    {
     "name": "stderr",
     "output_type": "stream",
     "text": [
      "2021-06-29 10:15:58,031:(1.67s):geometry:total reduced energy added from growth system: -5.056836675687361\n",
      "2021-06-29 10:15:58,034:(0.00s):geometry:final reduced energy 43.36216011253515\n",
      "2021-06-29 10:15:58,035:(0.00s):geometry:sum of energies: 43.362159398009624\n",
      "2021-06-29 10:15:58,037:(0.00s):geometry:magnitude of difference in the energies: 7.145255302987152e-07\n",
      "2021-06-29 10:15:58,039:(0.00s):geometry:Final logp_proposal: 11.821616825092365\n"
     ]
    },
    {
     "name": "stdout",
     "output_type": "stream",
     "text": [
      "added energy components: [('CustomBondForce', 0.0879842954280575), ('CustomAngleForce', 0.04605409749261916), ('CustomTorsionForce', 0.005423562569706604), ('CustomBondForce', -5.1962986311777435)]\n"
     ]
    },
    {
     "name": "stderr",
     "output_type": "stream",
     "text": [
      "2021-06-29 10:15:58,248:(0.21s):root:\twriting pickle output...\n",
      "2021-06-29 10:15:58,445:(0.20s):root:\tsuccessfully dumped pickle.\n",
      "2021-06-29 10:15:58,450:(0.01s):root:\tsetup is complete.  Writing proposals and positions for each phase to top_prop dict...\n",
      "2021-06-29 10:15:58,453:(0.00s):root:\twriting atom_mapping.png\n",
      "2021-06-29 10:15:58,530:(0.08s):root:\t steps per move application: 50\n",
      "2021-06-29 10:15:58,533:(0.00s):root:\ttrajectory prefix: out\n",
      "2021-06-29 10:15:58,536:(0.00s):root:\tatom selection detected: not water\n",
      "2021-06-29 10:15:58,538:(0.00s):root:\tno nonequilibrium detected.\n",
      "2021-06-29 10:15:58,540:(0.00s):root:\tcataloging HybridTopologyFactories...\n",
      "2021-06-29 10:15:58,541:(0.00s):root:\t\tphase: solvent:\n",
      "2021-06-29 10:15:58,543:(0.00s):root:\t\twriting HybridTopologyFactory for phase solvent...\n",
      "2021-06-29 10:15:58,545:(0.00s):root:\t\t changed nonnbondedmethod to: 0\n",
      "2021-06-29 10:15:58,547:(0.00s):relative:*** Generating RxnHybridTopologyFactory ***\n",
      "2021-06-29 10:15:58,549:(0.00s):relative:Beginning nonbonded method, total particle, barostat, and exceptions retrieval...\n",
      "2021-06-29 10:15:58,633:(0.08s):relative:Old system forces: dict_keys(['HarmonicBondForce', 'HarmonicAngleForce', 'PeriodicTorsionForce', 'NonbondedForce'])\n",
      "2021-06-29 10:15:58,636:(0.00s):relative:New system forces: dict_keys(['HarmonicBondForce', 'HarmonicAngleForce', 'PeriodicTorsionForce', 'NonbondedForce', 'MonteCarloBarostat'])\n",
      "2021-06-29 10:15:58,638:(0.00s):relative:No unknown forces.\n",
      "2021-06-29 10:15:58,640:(0.00s):relative:Nonbonded method to be used (i.e. from old system): 0\n",
      "2021-06-29 10:15:58,642:(0.00s):relative:Adding and mapping old atoms to hybrid system...\n",
      "2021-06-29 10:15:58,672:(0.03s):relative:Adding and mapping new atoms to hybrid system...\n",
      "2021-06-29 10:15:58,675:(0.00s):relative:scale_templates: [['nonscale_lambda', 'scale_lambda_0', 'interscale_lambda_0'], ['nonscale_region', 'scale_region_0', 'interscale_region_0']]\n",
      "2021-06-29 10:15:58,677:(0.00s):relative:particle (nonbonded) scale_templates: [['nonscale_lambda', 'scale_lambda_0'], ['nonscale_region1', 'scale_region_01'], ['nonscale_region2', 'scale_region_02']]\n",
      "2021-06-29 10:15:58,679:(0.00s):relative:No MonteCarloBarostat added.\n",
      "2021-06-29 10:15:58,681:(0.00s):relative:getDefaultPeriodicBoxVectors added to hybrid: [Quantity(value=Vec3(x=2.875229835510254, y=0.0, z=0.0), unit=nanometer), Quantity(value=Vec3(x=0.0, y=2.875229835510254, z=0.0), unit=nanometer), Quantity(value=Vec3(x=0.0, y=0.0, z=2.875229835510254), unit=nanometer)]\n",
      "2021-06-29 10:15:58,684:(0.00s):relative:Determined atom classes.\n",
      "2021-06-29 10:15:58,686:(0.00s):relative:Generating old system exceptions dict...\n",
      "2021-06-29 10:15:58,704:(0.02s):relative:Generating new system exceptions dict...\n",
      "2021-06-29 10:15:58,730:(0.03s):relative:Handling constraints...\n",
      "2021-06-29 10:15:58,795:(0.07s):relative:Handling virtual sites...\n",
      "2021-06-29 10:15:58,800:(0.00s):relative:\t_handle_virtual_sites: numVirtualSites: 0\n",
      "2021-06-29 10:15:59,881:(1.08s):root:'use_given_geometries' was passed to setup; skipping endstate validation\n",
      "2021-06-29 10:15:59,883:(0.00s):root:omitting sampler construction\n"
     ]
    }
   ],
   "source": [
    "# Create a htf\n",
    "setup_directory = resource_filename(\"perses\", \"data/cdk2-example\")\n",
    "\n",
    "# Get options\n",
    "from perses.app.setup_relative_calculation import getSetupOptions\n",
    "yaml_filename = os.path.join(setup_directory, \"cdk2_setup_repex.yaml\")\n",
    "setup_options = getSetupOptions(yaml_filename)\n",
    "\n",
    "# Update options\n",
    "for parameter in ['protein_pdb', 'ligand_file']:\n",
    "    setup_options[parameter] = os.path.join(setup_directory, setup_options[parameter])\n",
    "    \n",
    "setup_options['rxn_field'] = True\n",
    "setup_options['phases'] = ['solvent']\n",
    "setup_options['scale_regions'] = [[44, 2197]]\n",
    "setup_options['validate_endstate_energies'] = False\n",
    "    \n",
    "setup_dict = setup_relative_calculation.run_setup(setup_options, serialize_systems=False, build_samplers=False)"
   ]
  },
  {
   "cell_type": "code",
   "execution_count": 17,
   "id": "fd82bc90",
   "metadata": {
    "scrolled": true
   },
   "outputs": [],
   "source": [
    "htf = setup_dict['hybrid_topology_factories']['solvent']\n",
    "htf._topology_proposal.new_system.getForce(3).setNonbondedMethod(openmm.NonbondedForce.NoCutoff)\n",
    "htf._topology_proposal.new_system.getForce(3).setUseDispersionCorrection(False)\n",
    "htf._topology_proposal.new_system.removeForce(4) # Remove barostat\n"
   ]
  },
  {
   "cell_type": "code",
   "execution_count": 18,
   "id": "31d239c7",
   "metadata": {},
   "outputs": [],
   "source": [
    "# Save htf\n",
    "with open(\"cdk2_solvent_scale_regions.pickle\", \"wb\") as f:\n",
    "    pickle.dump(htf, f)"
   ]
  },
  {
   "cell_type": "markdown",
   "id": "dc742379",
   "metadata": {},
   "source": [
    "#### Old system HarmonicBondForce vs hybrid system CustomBondForce"
   ]
  },
  {
   "cell_type": "code",
   "execution_count": 19,
   "id": "0858c0e0",
   "metadata": {},
   "outputs": [],
   "source": [
    "# Load htf\n",
    "with open(\"/home/zhangi/choderalab/perses_benchmark/perses_protein_mutations/code/26_rxn_field/cdk2_solvent_scale_regions.pickle\", \"rb\") as f:\n",
    "    htf = pickle.load(f)"
   ]
  },
  {
   "cell_type": "code",
   "execution_count": 20,
   "id": "9860b232",
   "metadata": {},
   "outputs": [
    {
     "data": {
      "text/plain": [
       "[44, 2197]"
      ]
     },
     "execution_count": 20,
     "metadata": {},
     "output_type": "execute_result"
    }
   ],
   "source": [
    "# This is the scale region\n",
    "list(htf._atom_classes['unique_old_atoms'][0]) + list(htf._atom_classes['unique_new_atoms'][0])"
   ]
  },
  {
   "cell_type": "code",
   "execution_count": 21,
   "id": "2661b103",
   "metadata": {
    "scrolled": false
   },
   "outputs": [
    {
     "name": "stdout",
     "output_type": "stream",
     "text": [
      "Warning: Returning CPU platform instead of requested platform <simtk.openmm.openmm.Platform; proxy of <Swig Object of type 'OpenMM::Platform *' at 0x2b7e64ad7de0> >\n",
      "conducting subsequent work with the following platform: CPU\n",
      "conducting subsequent work with the following platform: CUDA\n",
      "[('HarmonicBondForce', 4.608082977954756), ('HarmonicAngleForce', 29.199523609209102), ('PeriodicTorsionForce', 15.076747992617829), ('NonbondedForce', -11584.545697387666), ('AndersenThermostat', 0.0)]\n",
      "conducting subsequent work with the following platform: CUDA\n",
      "[('CustomBondForce', 4.608082977954756), ('CustomAngleForce', 29.235860179683495), ('CustomTorsionForce', 15.07675469305873), ('CustomNonbondedForce', -10726.838947092587), ('CustomNonbondedForce', 1758.2831577200577), ('CustomBondForce', -857.7066221249365), ('CustomBondForce', 23.895760551071746), ('AndersenThermostat', 0.0)]\n",
      "Success! Custom nb force and standard nb force electrostatics energies are equal!\n",
      "conducting subsequent work with the following platform: CUDA\n",
      "[('CustomBondForce', 4.608082977954756), ('CustomAngleForce', 29.235860179683495), ('CustomTorsionForce', 15.07675469305873), ('CustomNonbondedForce', -10726.838947092587), ('CustomNonbondedForce', 1758.2831577200577), ('CustomBondForce', -857.7066221249365), ('CustomBondForce', 23.895760551071746), ('AndersenThermostat', 0.0)]\n",
      "conducting subsequent work with the following platform: CUDA\n",
      "[('CustomBondForce', 4.608082977954756), ('CustomAngleForce', 29.235860179683495), ('CustomTorsionForce', 15.07675469305873), ('CustomNonbondedForce', -10724.647835406711), ('CustomNonbondedForce', 1758.2831577200577), ('CustomBondForce', -857.7066221249365), ('CustomBondForce', 23.895760551071746), ('AndersenThermostat', 0.0)]\n",
      "Success! Scaling the custom nb electrostatics force changes the energy\n"
     ]
    }
   ],
   "source": [
    "test_nb_energies(htf, is_solvated=True, check_scale=True)"
   ]
  },
  {
   "cell_type": "code",
   "execution_count": 22,
   "id": "220eac14",
   "metadata": {},
   "outputs": [],
   "source": [
    "# Load htf\n",
    "with open(\"/home/zhangi/choderalab/perses_benchmark/perses_protein_mutations/code/26_rxn_field/cdk2_solvent_scale_regions.pickle\", \"rb\") as f:\n",
    "    htf = pickle.load(f)"
   ]
  },
  {
   "cell_type": "code",
   "execution_count": 23,
   "id": "aab18089",
   "metadata": {
    "scrolled": true
   },
   "outputs": [
    {
     "name": "stdout",
     "output_type": "stream",
     "text": [
      "Warning: Returning CPU platform instead of requested platform <simtk.openmm.openmm.Platform; proxy of <Swig Object of type 'OpenMM::Platform *' at 0x2b7e64ad7de0> >\n",
      "conducting subsequent work with the following platform: CPU\n",
      "conducting subsequent work with the following platform: CUDA\n",
      "[('HarmonicBondForce', 4.608082977954756), ('HarmonicAngleForce', 29.199523609209102), ('PeriodicTorsionForce', 15.076747992617829), ('NonbondedForce', 1782.178955761827), ('AndersenThermostat', 0.0)]\n",
      "conducting subsequent work with the following platform: CUDA\n",
      "[('CustomBondForce', 4.608082977954756), ('CustomAngleForce', 29.235860179683495), ('CustomTorsionForce', 15.07675469305873), ('CustomNonbondedForce', -10726.838947092587), ('CustomNonbondedForce', 1758.2831577200577), ('CustomBondForce', -857.7066221249365), ('CustomBondForce', 23.895760551071746), ('AndersenThermostat', 0.0)]\n",
      "Success! Custom nb force and standard nb force sterics energies are equal!\n",
      "conducting subsequent work with the following platform: CUDA\n",
      "[('CustomBondForce', 4.608082977954756), ('CustomAngleForce', 29.235860179683495), ('CustomTorsionForce', 15.07675469305873), ('CustomNonbondedForce', -10726.838947092587), ('CustomNonbondedForce', 1758.2831577200577), ('CustomBondForce', -857.7066221249365), ('CustomBondForce', 23.895760551071746), ('AndersenThermostat', 0.0)]\n",
      "conducting subsequent work with the following platform: CUDA\n",
      "[('CustomBondForce', 4.608082977954756), ('CustomAngleForce', 29.235860179683495), ('CustomTorsionForce', 15.07675469305873), ('CustomNonbondedForce', -10726.838947092587), ('CustomNonbondedForce', 1759.5051242813317), ('CustomBondForce', -857.7066221249365), ('CustomBondForce', 23.895760551071746), ('AndersenThermostat', 0.0)]\n",
      "Success! Scaling the custom nb sterics force changes the energy\n"
     ]
    }
   ],
   "source": [
    "test_nb_energies(htf, is_electrostatics=False, is_solvated=True, check_scale=True)"
   ]
  },
  {
   "cell_type": "markdown",
   "id": "9d93a3cd",
   "metadata": {},
   "source": [
    "#### New system HarmonicBondForce vs hybrid system CustomBondForce"
   ]
  },
  {
   "cell_type": "code",
   "execution_count": 24,
   "id": "c2ab9959",
   "metadata": {},
   "outputs": [],
   "source": [
    "# Load htf\n",
    "with open(\"/home/zhangi/choderalab/perses_benchmark/perses_protein_mutations/code/26_rxn_field/cdk2_solvent_scale_regions.pickle\", \"rb\") as f:\n",
    "    htf = pickle.load(f)"
   ]
  },
  {
   "cell_type": "code",
   "execution_count": 25,
   "id": "dacdf51f",
   "metadata": {
    "scrolled": true
   },
   "outputs": [
    {
     "name": "stdout",
     "output_type": "stream",
     "text": [
      "Warning: Returning CPU platform instead of requested platform <simtk.openmm.openmm.Platform; proxy of <Swig Object of type 'OpenMM::Platform *' at 0x2b7e64ad7de0> >\n",
      "conducting subsequent work with the following platform: CPU\n",
      "conducting subsequent work with the following platform: CUDA\n",
      "[('HarmonicBondForce', 4.519508183899664), ('HarmonicAngleForce', 29.189496994288245), ('PeriodicTorsionForce', 15.08012310044774), ('NonbondedForce', -11576.06324935517), ('AndersenThermostat', 0.0)]\n",
      "conducting subsequent work with the following platform: CUDA\n",
      "[('CustomBondForce', 4.608082977954756), ('CustomAngleForce', 29.235860179683495), ('CustomTorsionForce', 15.07675469305873), ('CustomNonbondedForce', -10740.149129758945), ('CustomNonbondedForce', 1758.2831577200577), ('CustomBondForce', -835.9139829696472), ('CustomBondForce', 23.895760551071746), ('AndersenThermostat', 0.0)]\n",
      "Success! Custom nb force and standard nb force electrostatics energies are equal!\n",
      "conducting subsequent work with the following platform: CUDA\n",
      "[('CustomBondForce', 4.608082977954756), ('CustomAngleForce', 29.235860179683495), ('CustomTorsionForce', 15.07675469305873), ('CustomNonbondedForce', -10726.838947092587), ('CustomNonbondedForce', 1758.2831577200577), ('CustomBondForce', -857.7066221249365), ('CustomBondForce', 23.895760551071746), ('AndersenThermostat', 0.0)]\n",
      "conducting subsequent work with the following platform: CUDA\n",
      "[('CustomBondForce', 4.608082977954756), ('CustomAngleForce', 29.235860179683495), ('CustomTorsionForce', 15.07675469305873), ('CustomNonbondedForce', -10724.647835406711), ('CustomNonbondedForce', 1758.2831577200577), ('CustomBondForce', -857.7066221249365), ('CustomBondForce', 23.895760551071746), ('AndersenThermostat', 0.0)]\n",
      "Success! Scaling the custom nb electrostatics force changes the energy\n"
     ]
    }
   ],
   "source": [
    "test_nb_energies(htf, is_old=False, is_solvated=True, check_scale=True)"
   ]
  },
  {
   "cell_type": "code",
   "execution_count": 26,
   "id": "1ba5799e",
   "metadata": {},
   "outputs": [],
   "source": [
    "# Load htf\n",
    "with open(\"/home/zhangi/choderalab/perses_benchmark/perses_protein_mutations/code/26_rxn_field/cdk2_solvent_scale_regions.pickle\", \"rb\") as f:\n",
    "    htf = pickle.load(f)"
   ]
  },
  {
   "cell_type": "code",
   "execution_count": 27,
   "id": "7303faba",
   "metadata": {
    "scrolled": false
   },
   "outputs": [
    {
     "name": "stdout",
     "output_type": "stream",
     "text": [
      "Warning: Returning CPU platform instead of requested platform <simtk.openmm.openmm.Platform; proxy of <Swig Object of type 'OpenMM::Platform *' at 0x2b7e64ad7de0> >\n",
      "conducting subsequent work with the following platform: CPU\n",
      "conducting subsequent work with the following platform: CUDA\n",
      "[('HarmonicBondForce', 4.519508183899664), ('HarmonicAngleForce', 29.189496994288245), ('PeriodicTorsionForce', 15.08012310044774), ('NonbondedForce', 1786.0125918763558), ('AndersenThermostat', 0.0)]\n",
      "conducting subsequent work with the following platform: CUDA\n",
      "[('CustomBondForce', 4.608082977954756), ('CustomAngleForce', 29.235860179683495), ('CustomTorsionForce', 15.07675469305873), ('CustomNonbondedForce', -10726.838947092587), ('CustomNonbondedForce', 1762.0919305669918), ('CustomBondForce', -857.7066221249365), ('CustomBondForce', 23.920623734690185), ('AndersenThermostat', 0.0)]\n",
      "Success! Custom nb force and standard nb force sterics energies are equal!\n",
      "conducting subsequent work with the following platform: CUDA\n",
      "[('CustomBondForce', 4.608082977954756), ('CustomAngleForce', 29.235860179683495), ('CustomTorsionForce', 15.07675469305873), ('CustomNonbondedForce', -10726.838947092587), ('CustomNonbondedForce', 1758.2831577200577), ('CustomBondForce', -857.7066221249365), ('CustomBondForce', 23.895760551071746), ('AndersenThermostat', 0.0)]\n",
      "conducting subsequent work with the following platform: CUDA\n",
      "[('CustomBondForce', 4.608082977954756), ('CustomAngleForce', 29.235860179683495), ('CustomTorsionForce', 15.07675469305873), ('CustomNonbondedForce', -10726.838947092587), ('CustomNonbondedForce', 1759.5051242813317), ('CustomBondForce', -857.7066221249365), ('CustomBondForce', 23.895760551071746), ('AndersenThermostat', 0.0)]\n",
      "Success! Scaling the custom nb sterics force changes the energy\n"
     ]
    }
   ],
   "source": [
    "test_nb_energies(htf, is_electrostatics=False, is_old=False, is_solvated=True, check_scale=True)"
   ]
  },
  {
   "cell_type": "markdown",
   "id": "bf9aca45",
   "metadata": {},
   "source": [
    "# 8mer in vacuum"
   ]
  },
  {
   "cell_type": "code",
   "execution_count": 3,
   "id": "09fec0b1",
   "metadata": {},
   "outputs": [
    {
     "name": "stdout",
     "output_type": "stream",
     "text": [
      "conducting subsequent work with the following platform: CUDA\n",
      "conducting subsequent work with the following platform: CUDA\n",
      "conducting subsequent work with the following platform: CUDA\n"
     ]
    }
   ],
   "source": [
    "import os\n",
    "from pkg_resources import resource_filename\n",
    "from perses.app import setup_relative_calculation\n",
    "import pickle\n",
    "from simtk import openmm, unit\n",
    "from simtk.openmm import app\n",
    "from openmmforcefields.generators import SystemGenerator\n",
    "import numpy as np"
   ]
  },
  {
   "cell_type": "code",
   "execution_count": 113,
   "id": "2142ce66",
   "metadata": {},
   "outputs": [],
   "source": [
    "# Test 8-mer peptide in vacuum\n",
    "peptide_filename = resource_filename('perses', 'data/8mer-example/4zuh_peptide_capped.pdb')\n",
    "pdb = app.PDBFile(peptide_filename)\n",
    "forcefield_files = ['amber14/protein.ff14SB.xml', 'amber14/tip3p.xml']\n",
    "# barostat = openmm.MonteCarloBarostat(1.0 * unit.atmosphere, 300 * unit.kelvin, 50)\n",
    "barostat = None\n",
    "modeller = app.Modeller(pdb.topology, pdb.positions)\n",
    " \n",
    "system_generator = SystemGenerator(forcefields=forcefield_files,\n",
    "                                   barostat=barostat,\n",
    "                                   forcefield_kwargs={'removeCMMotion': False,\n",
    "                                                      'ewaldErrorTolerance': 1e-4,\n",
    "                                                      'constraints': app.HBonds,\n",
    "                                                      'hydrogenMass': 4 * unit.amus},\n",
    "                                   periodic_forcefield_kwargs=None,\n",
    "                                   small_molecule_forcefield='gaff-2.11',\n",
    "                                   nonperiodic_forcefield_kwargs={'nonbondedMethod': app.NoCutoff},\n",
    "                                   molecules=None,\n",
    "                                   cache=None)\n",
    "\n",
    "# modeller.addSolvent(system_generator.forcefield, model='tip3p', padding=9*unit.angstroms, ionicStrength=0.15*unit.molar)\n",
    "topology = modeller.getTopology()\n",
    "positions = modeller.getPositions()\n",
    "\n",
    "# Canonicalize the solvated positions: turn tuples into np.array\n",
    "positions = unit.quantity.Quantity(value=np.array([list(atom_pos) for atom_pos in positions.value_in_unit_system(unit.md_unit_system)]), unit=unit.nanometers)\n",
    "system = system_generator.create_system(topology)\n",
    "\n"
   ]
  },
  {
   "cell_type": "code",
   "execution_count": 114,
   "id": "350a16ae",
   "metadata": {},
   "outputs": [],
   "source": [
    "# set nonbonded parameters\n",
    "system.getForce(3).setNonbondedMethod(openmm.NonbondedForce.NoCutoff)\n",
    "system.getForce(3).setUseDispersionCorrection(False)\n",
    "for i in range(system.getNumForces()):\n",
    "    if i == 3:\n",
    "        system.getForce(i).setExceptionsUsePeriodicBoundaryConditions(False)\n",
    "    elif i < 3: # do not set PBCs for barostat\n",
    "        system.getForce(i).setUsesPeriodicBoundaryConditions(False)\n",
    "# system.removeForce(4) # Remove barostat\n"
   ]
  },
  {
   "cell_type": "code",
   "execution_count": 166,
   "id": "e448a6ec",
   "metadata": {
    "scrolled": true
   },
   "outputs": [
    {
     "name": "stderr",
     "output_type": "stream",
     "text": [
      "2021-06-29 15:15:33,519:(9.36s):proposal_generator:\tConducting polymer point mutation proposal...\n",
      "2021-06-29 15:15:33,538:(0.02s):proposal_generator:Using matching_criterion to chose best atom map\n",
      "2021-06-29 15:15:33,545:(0.01s):proposal_generator:Scaffold has symmetry of 0\n",
      "2021-06-29 15:15:33,547:(0.00s):proposal_generator:Two molecules are not similar to have a common scaffold\n",
      "2021-06-29 15:15:33,550:(0.00s):proposal_generator:Proceeding with direct mapping of molecules, but please check atom mapping and the geometry of the ligands.\n",
      "2021-06-29 15:15:33,555:(0.01s):proposal_generator:len [{14: 8}, {18: 9}, {17: 9}, {16: 9}, {15: 9}, {14: 9}, {13: 9}, {12: 9}, {11: 9}, {10: 9}, {18: 8}, {17: 8}, {16: 8}, {15: 8}, {10: 7}, {13: 8}, {12: 8}, {11: 8}, {10: 8}, {18: 7}, {17: 7}, {16: 7}, {15: 7}, {14: 7}, {13: 7}, {12: 7}, {11: 7}]\n",
      "2021-06-29 15:15:33,557:(0.00s):proposal_generator:{14: 8}\n",
      "2021-06-29 15:15:33,559:(0.00s):proposal_generator:{18: 9}\n",
      "2021-06-29 15:15:33,561:(0.00s):proposal_generator:{17: 9}\n",
      "2021-06-29 15:15:33,563:(0.00s):proposal_generator:{16: 9}\n",
      "2021-06-29 15:15:33,565:(0.00s):proposal_generator:{15: 9}\n",
      "2021-06-29 15:15:33,567:(0.00s):proposal_generator:{14: 9}\n",
      "2021-06-29 15:15:33,569:(0.00s):proposal_generator:{13: 9}\n",
      "2021-06-29 15:15:33,571:(0.00s):proposal_generator:{12: 9}\n",
      "2021-06-29 15:15:33,573:(0.00s):proposal_generator:{11: 9}\n",
      "2021-06-29 15:15:33,575:(0.00s):proposal_generator:{10: 9}\n",
      "2021-06-29 15:15:33,577:(0.00s):proposal_generator:{18: 8}\n",
      "2021-06-29 15:15:33,579:(0.00s):proposal_generator:{17: 8}\n",
      "2021-06-29 15:15:33,580:(0.00s):proposal_generator:{16: 8}\n",
      "2021-06-29 15:15:33,581:(0.00s):proposal_generator:{15: 8}\n",
      "2021-06-29 15:15:33,581:(0.00s):proposal_generator:{10: 7}\n",
      "2021-06-29 15:15:33,585:(0.00s):proposal_generator:{13: 8}\n",
      "2021-06-29 15:15:33,586:(0.00s):proposal_generator:{12: 8}\n",
      "2021-06-29 15:15:33,587:(0.00s):proposal_generator:{11: 8}\n",
      "2021-06-29 15:15:33,588:(0.00s):proposal_generator:{10: 8}\n",
      "2021-06-29 15:15:33,588:(0.00s):proposal_generator:{18: 7}\n",
      "2021-06-29 15:15:33,589:(0.00s):proposal_generator:{17: 7}\n",
      "2021-06-29 15:15:33,590:(0.00s):proposal_generator:{16: 7}\n",
      "2021-06-29 15:15:33,590:(0.00s):proposal_generator:{15: 7}\n",
      "2021-06-29 15:15:33,591:(0.00s):proposal_generator:{14: 7}\n",
      "2021-06-29 15:15:33,592:(0.00s):proposal_generator:{13: 7}\n",
      "2021-06-29 15:15:33,592:(0.00s):proposal_generator:{12: 7}\n",
      "2021-06-29 15:15:33,593:(0.00s):proposal_generator:{11: 7}\n",
      "2021-06-29 15:15:33,594:(0.00s):proposal_generator:Returning map that best satisfies matching_criterion\n",
      "2021-06-29 15:15:33,594:(0.00s):proposal_generator:Finding best map using matching_criterion name\n",
      "2021-06-29 15:15:33,597:(0.00s):proposal_generator:{14: 8}\n",
      "2021-06-29 15:15:33,654:(0.06s):geometry:propose: performing forward proposal\n",
      "2021-06-29 15:15:33,656:(0.00s):geometry:propose: unique new atoms detected; proceeding to _logp_propose...\n",
      "2021-06-29 15:15:33,658:(0.00s):geometry:Conducting forward proposal...\n",
      "2021-06-29 15:15:33,660:(0.00s):geometry:Computing proposal order with NetworkX...\n",
      "2021-06-29 15:15:33,665:(0.01s):geometry:number of atoms to be placed: 13\n",
      "2021-06-29 15:15:33,667:(0.00s):geometry:Atom index proposal order is [21, 26, 28, 32, 24, 33, 29, 25, 27, 31, 30, 35, 34]\n",
      "2021-06-29 15:15:33,669:(0.00s):geometry:omitted_bonds: []\n",
      "2021-06-29 15:15:33,671:(0.00s):geometry:direction of proposal is forward; creating atoms_with_positions and new positions from old system/topology...\n"
     ]
    },
    {
     "name": "stdout",
     "output_type": "stream",
     "text": [
      "Making mutation ALA->LEU\n"
     ]
    },
    {
     "name": "stderr",
     "output_type": "stream",
     "text": [
      "2021-06-29 15:15:34,180:(0.51s):geometry:creating growth system...\n",
      "2021-06-29 15:15:34,196:(0.02s):geometry:\tcreating bond force...\n",
      "2021-06-29 15:15:34,198:(0.00s):geometry:\tthere are 64 bonds in reference force.\n",
      "2021-06-29 15:15:34,201:(0.00s):geometry:\tcreating angle force...\n",
      "2021-06-29 15:15:34,203:(0.00s):geometry:\tthere are 236 angles in reference force.\n",
      "2021-06-29 15:15:34,208:(0.01s):geometry:\tcreating torsion force...\n",
      "2021-06-29 15:15:34,210:(0.00s):geometry:\tcreating extra torsions force...\n",
      "2021-06-29 15:15:34,212:(0.00s):geometry:\tthere are 438 torsions in reference force.\n",
      "2021-06-29 15:15:34,219:(0.01s):geometry:\tcreating nonbonded force...\n",
      "2021-06-29 15:15:34,220:(0.00s):geometry:\t\tgrabbing reference nonbonded method, cutoff, switching function, switching distance...\n",
      "2021-06-29 15:15:34,222:(0.00s):geometry:\t\tcreating nonbonded exception force (i.e. custom bond for 1,4s)...\n",
      "2021-06-29 15:15:34,224:(0.00s):geometry:\t\tlooping through exceptions calculating growth indices, and adding appropriate interactions to custom bond force.\n",
      "2021-06-29 15:15:34,226:(0.00s):geometry:\t\tthere are 699 in the reference Nonbonded force\n",
      "2021-06-29 15:15:34,248:(0.02s):geometry:\t\t\t\t\tchiral atom <Atom 18 (CA) of chain 0 residue 2 (LEU)> with neighbors [<Atom 19 (C) of chain 0 residue 2 (LEU)>, <Atom 21 (CB) of chain 0 residue 2 (LEU)>, <Atom 23 (HA) of chain 0 residue 2 (LEU)>, <Atom 17 (N) of chain 0 residue 2 (LEU)>] is surrounded by 3 core neighbors.  omitting chirality bias torsion\n",
      "2021-06-29 15:15:34,251:(0.00s):geometry:Neglected angle terms : []\n",
      "2021-06-29 15:15:34,253:(0.00s):geometry:omitted_growth_terms: {'bonds': [], 'angles': [], 'torsions': [], '1,4s': []}\n",
      "2021-06-29 15:15:34,254:(0.00s):geometry:extra torsions: {0: (22, 17, 18, 21, [1, Quantity(value=0.9859219945010964, unit=radian), Quantity(value=1200.0, unit=kilocalorie/mole), 1]), 1: (34, 32, 26, 21, [1, Quantity(value=-2.0227817869841767, unit=radian), Quantity(value=1200.0, unit=kilocalorie/mole), 13]), 2: (34, 32, 26, 27, [1, Quantity(value=2.1747176462148077, unit=radian), Quantity(value=1200.0, unit=kilocalorie/mole), 13]), 3: (34, 32, 26, 28, [1, Quantity(value=0.12555609374227705, unit=radian), Quantity(value=1200.0, unit=kilocalorie/mole), 13]), 4: (33, 32, 26, 21, [1, Quantity(value=2.1608959125285745, unit=radian), Quantity(value=1200.0, unit=kilocalorie/mole), 6]), 5: (33, 32, 26, 27, [1, Quantity(value=0.07521003854797348, unit=radian), Quantity(value=1200.0, unit=kilocalorie/mole), 9]), 6: (33, 32, 26, 28, [1, Quantity(value=-1.9739515139245594, unit=radian), Quantity(value=1200.0, unit=kilocalorie/mole), 6]), 7: (35, 32, 26, 21, [1, Quantity(value=0.044277067588684105, unit=radian), Quantity(value=1200.0, unit=kilocalorie/mole), 12]), 8: (35, 32, 26, 27, [1, Quantity(value=-2.0414088063919174, unit=radian), Quantity(value=1200.0, unit=kilocalorie/mole), 12]), 9: (35, 32, 26, 28, [1, Quantity(value=2.1926149483151365, unit=radian), Quantity(value=1200.0, unit=kilocalorie/mole), 12]), 10: (32, 26, 28, 30, [1, Quantity(value=2.0608193095255114, unit=radian), Quantity(value=1200.0, unit=kilocalorie/mole), 11]), 11: (32, 26, 28, 31, [1, Quantity(value=-2.1223206784487587, unit=radian), Quantity(value=1200.0, unit=kilocalorie/mole), 10]), 12: (32, 26, 28, 29, [1, Quantity(value=-0.041194569384030544, unit=radian), Quantity(value=1200.0, unit=kilocalorie/mole), 7]), 13: (21, 26, 28, 30, [1, Quantity(value=-2.04758602813798, unit=radian), Quantity(value=1200.0, unit=kilocalorie/mole), 11]), 14: (21, 26, 28, 31, [1, Quantity(value=0.05245929106733893, unit=radian), Quantity(value=1200.0, unit=kilocalorie/mole), 10]), 15: (21, 26, 28, 29, [1, Quantity(value=2.133585400132068, unit=radian), Quantity(value=1200.0, unit=kilocalorie/mole), 7]), 16: (27, 26, 28, 30, [1, Quantity(value=0.007960429539980218, unit=radian), Quantity(value=1200.0, unit=kilocalorie/mole), 11]), 17: (27, 26, 28, 31, [1, Quantity(value=2.108005748745306, unit=radian), Quantity(value=1200.0, unit=kilocalorie/mole), 10]), 18: (27, 26, 28, 29, [1, Quantity(value=-2.0940534493695484, unit=radian), Quantity(value=1200.0, unit=kilocalorie/mole), 9])}\n",
      "2021-06-29 15:15:34,256:(0.00s):geometry:neglected angle terms include []\n",
      "2021-06-29 15:15:34,258:(0.00s):geometry:log probability choice of torsions and atom order: -24.425877289317892\n",
      "2021-06-29 15:15:34,260:(0.00s):geometry:creating platform, integrators, and contexts; setting growth parameter\n"
     ]
    },
    {
     "name": "stdout",
     "output_type": "stream",
     "text": [
      "conducting subsequent work with the following platform: CUDA\n"
     ]
    },
    {
     "name": "stderr",
     "output_type": "stream",
     "text": [
      "2021-06-29 15:15:35,044:(0.78s):geometry:setting atoms_with_positions context new positions\n"
     ]
    },
    {
     "name": "stdout",
     "output_type": "stream",
     "text": [
      "conducting subsequent work with the following platform: CUDA\n"
     ]
    },
    {
     "name": "stderr",
     "output_type": "stream",
     "text": [
      "2021-06-29 15:15:35,684:(0.64s):geometry:There are 13 new atoms\n",
      "2021-06-29 15:15:35,690:(0.01s):geometry:\treduced angle potential = 0.19776862051218785.\n",
      "2021-06-29 15:15:35,754:(0.06s):geometry:\treduced angle potential = 0.8450595990670959.\n",
      "2021-06-29 15:15:35,820:(0.07s):geometry:\treduced angle potential = 0.02301240909388915.\n",
      "2021-06-29 15:15:35,887:(0.07s):geometry:\treduced angle potential = 0.37263193896915614.\n",
      "2021-06-29 15:15:35,953:(0.07s):geometry:\treduced angle potential = 1.650235987349952.\n",
      "2021-06-29 15:15:36,017:(0.06s):geometry:\treduced angle potential = 0.11517358367091234.\n",
      "2021-06-29 15:15:36,084:(0.07s):geometry:\treduced angle potential = 0.12776798142113865.\n",
      "2021-06-29 15:15:36,147:(0.06s):geometry:\treduced angle potential = 0.005756392200268945.\n",
      "2021-06-29 15:15:36,212:(0.07s):geometry:\treduced angle potential = 0.050558231205911866.\n",
      "2021-06-29 15:15:36,281:(0.07s):geometry:\treduced angle potential = 0.2250949498528546.\n",
      "2021-06-29 15:15:36,339:(0.06s):geometry:\treduced angle potential = 0.10056079045476586.\n",
      "2021-06-29 15:15:36,399:(0.06s):geometry:\treduced angle potential = 0.6661483892624687.\n",
      "2021-06-29 15:15:36,459:(0.06s):geometry:\treduced angle potential = 0.23588350329563218.\n",
      "2021-06-29 15:15:36,519:(0.06s):geometry:\tbeginning construction of no_nonbonded final system...\n",
      "2021-06-29 15:15:36,521:(0.00s):geometry:\tinitial no-nonbonded final system forces ['HarmonicBondForce', 'HarmonicAngleForce', 'PeriodicTorsionForce', 'NonbondedForce']\n",
      "2021-06-29 15:15:36,542:(0.02s):geometry:\tfinal no-nonbonded final system forces dict_keys(['HarmonicBondForce', 'HarmonicAngleForce', 'PeriodicTorsionForce', 'NonbondedForce'])\n",
      "2021-06-29 15:15:36,544:(0.00s):geometry:\tthere are 64 bond forces in the no-nonbonded final system\n",
      "2021-06-29 15:15:36,546:(0.00s):geometry:\tthere are 236 angle forces in the no-nonbonded final system\n",
      "2021-06-29 15:15:36,547:(0.00s):geometry:\tthere are 438 torsion forces in the no-nonbonded final system\n",
      "2021-06-29 15:15:36,549:(0.00s):geometry:forward final system defined with 0 neglected angles.\n"
     ]
    },
    {
     "name": "stdout",
     "output_type": "stream",
     "text": [
      "conducting subsequent work with the following platform: CUDA\n",
      "conducting subsequent work with the following platform: CUDA\n"
     ]
    },
    {
     "name": "stderr",
     "output_type": "stream",
     "text": [
      "2021-06-29 15:15:38,039:(1.49s):geometry:total reduced potential before atom placement: 168.36662826283057\n"
     ]
    },
    {
     "name": "stdout",
     "output_type": "stream",
     "text": [
      "conducting subsequent work with the following platform: CUDA\n",
      "conducting subsequent work with the following platform: CUDA\n",
      "conducting subsequent work with the following platform: CUDA\n"
     ]
    },
    {
     "name": "stderr",
     "output_type": "stream",
     "text": [
      "2021-06-29 15:15:39,882:(1.84s):geometry:total reduced energy added from growth system: 758.8678733640812\n",
      "2021-06-29 15:15:39,884:(0.00s):geometry:final reduced energy 927.2345029585769\n",
      "2021-06-29 15:15:39,886:(0.00s):geometry:sum of energies: 927.2345016269118\n",
      "2021-06-29 15:15:39,887:(0.00s):geometry:magnitude of difference in the energies: 1.3316650893102633e-06\n",
      "2021-06-29 15:15:39,889:(0.00s):geometry:Final logp_proposal: 82.96467537457428\n"
     ]
    },
    {
     "name": "stdout",
     "output_type": "stream",
     "text": [
      "added energy components: [('CustomBondForce', 2.925273473880787), ('CustomAngleForce', 484.09257706106206), ('CustomTorsionForce', 25.866998796735324), ('CustomBondForce', 245.98302403240316)]\n"
     ]
    },
    {
     "name": "stderr",
     "output_type": "stream",
     "text": [
      "2021-06-29 15:15:40,132:(0.24s):geometry:logp_reverse: performing reverse proposal\n",
      "2021-06-29 15:15:40,134:(0.00s):geometry:logp_reverse: unique new atoms detected; proceeding to _logp_propose...\n",
      "2021-06-29 15:15:40,136:(0.00s):geometry:Conducting forward proposal...\n",
      "2021-06-29 15:15:40,138:(0.00s):geometry:Computing proposal order with NetworkX...\n",
      "2021-06-29 15:15:40,141:(0.00s):geometry:number of atoms to be placed: 4\n",
      "2021-06-29 15:15:40,143:(0.00s):geometry:Atom index proposal order is [21, 26, 25, 24]\n",
      "2021-06-29 15:15:40,144:(0.00s):geometry:omitted_bonds: []\n",
      "2021-06-29 15:15:40,146:(0.00s):geometry:direction of proposal is reverse; creating atoms_with_positions from old system/topology\n",
      "2021-06-29 15:15:40,175:(0.03s):geometry:creating growth system...\n",
      "2021-06-29 15:15:40,188:(0.01s):geometry:\tcreating bond force...\n",
      "2021-06-29 15:15:40,190:(0.00s):geometry:\tthere are 61 bonds in reference force.\n",
      "2021-06-29 15:15:40,193:(0.00s):geometry:\tcreating angle force...\n",
      "2021-06-29 15:15:40,194:(0.00s):geometry:\tthere are 218 angles in reference force.\n",
      "2021-06-29 15:15:40,198:(0.00s):geometry:\tcreating torsion force...\n",
      "2021-06-29 15:15:40,199:(0.00s):geometry:\tcreating extra torsions force...\n",
      "2021-06-29 15:15:40,201:(0.00s):geometry:\tthere are 399 torsions in reference force.\n",
      "2021-06-29 15:15:40,205:(0.00s):geometry:\tcreating nonbonded force...\n",
      "2021-06-29 15:15:40,206:(0.00s):geometry:\t\tgrabbing reference nonbonded method, cutoff, switching function, switching distance...\n",
      "2021-06-29 15:15:40,208:(0.00s):geometry:\t\tcreating nonbonded exception force (i.e. custom bond for 1,4s)...\n",
      "2021-06-29 15:15:40,210:(0.00s):geometry:\t\tlooping through exceptions calculating growth indices, and adding appropriate interactions to custom bond force.\n",
      "2021-06-29 15:15:40,211:(0.00s):geometry:\t\tthere are 645 in the reference Nonbonded force\n",
      "2021-06-29 15:15:40,226:(0.01s):geometry:\t\t\t\t\tchiral atom <Atom 18 (CA) of chain 0 residue 2 (ALA)> with neighbors [<Atom 19 (C) of chain 0 residue 2 (ALA)>, <Atom 21 (CB) of chain 0 residue 2 (ALA)>, <Atom 23 (HA) of chain 0 residue 2 (ALA)>, <Atom 17 (N) of chain 0 residue 2 (ALA)>] is surrounded by 3 core neighbors.  omitting chirality bias torsion\n",
      "2021-06-29 15:15:40,228:(0.00s):geometry:Neglected angle terms : []\n",
      "2021-06-29 15:15:40,230:(0.00s):geometry:omitted_growth_terms: {'bonds': [], 'angles': [], 'torsions': [], '1,4s': []}\n",
      "2021-06-29 15:15:40,231:(0.00s):geometry:extra torsions: {0: (22, 17, 18, 21, [1, Quantity(value=0.9799661941737812, unit=radian), Quantity(value=1200.0, unit=kilocalorie/mole), 1]), 1: (17, 18, 21, 24, [1, Quantity(value=2.105358864604291, unit=radian), Quantity(value=1200.0, unit=kilocalorie/mole), 4]), 2: (17, 18, 21, 25, [1, Quantity(value=-2.0823006129211796, unit=radian), Quantity(value=1200.0, unit=kilocalorie/mole), 3]), 3: (17, 18, 21, 26, [1, Quantity(value=0.018582237407944735, unit=radian), Quantity(value=1200.0, unit=kilocalorie/mole), 2]), 4: (19, 18, 21, 24, [1, Quantity(value=-0.036945135932107576, unit=radian), Quantity(value=1200.0, unit=kilocalorie/mole), 4]), 5: (19, 18, 21, 25, [1, Quantity(value=2.0585806937220097, unit=radian), Quantity(value=1200.0, unit=kilocalorie/mole), 3]), 6: (19, 18, 21, 26, [1, Quantity(value=-2.1237217631284597, unit=radian), Quantity(value=1200.0, unit=kilocalorie/mole), 2]), 7: (23, 18, 21, 24, [1, Quantity(value=-2.119603470065817, unit=radian), Quantity(value=1200.0, unit=kilocalorie/mole), 4]), 8: (23, 18, 21, 25, [1, Quantity(value=-0.024077640411697132, unit=radian), Quantity(value=1200.0, unit=kilocalorie/mole), 3]), 9: (23, 18, 21, 26, [1, Quantity(value=2.0768052099174152, unit=radian), Quantity(value=1200.0, unit=kilocalorie/mole), 2])}\n",
      "2021-06-29 15:15:40,233:(0.00s):geometry:neglected angle terms include []\n",
      "2021-06-29 15:15:40,234:(0.00s):geometry:log probability choice of torsions and atom order: -5.78074351579233\n",
      "2021-06-29 15:15:40,236:(0.00s):geometry:creating platform, integrators, and contexts; setting growth parameter\n"
     ]
    },
    {
     "name": "stdout",
     "output_type": "stream",
     "text": [
      "conducting subsequent work with the following platform: CUDA\n"
     ]
    },
    {
     "name": "stderr",
     "output_type": "stream",
     "text": [
      "2021-06-29 15:15:41,147:(0.91s):geometry:setting atoms_with_positions context old positions\n"
     ]
    },
    {
     "name": "stdout",
     "output_type": "stream",
     "text": [
      "conducting subsequent work with the following platform: CUDA\n"
     ]
    },
    {
     "name": "stderr",
     "output_type": "stream",
     "text": [
      "2021-06-29 15:15:41,808:(0.66s):geometry:There are 4 new atoms\n",
      "2021-06-29 15:15:41,813:(0.00s):geometry:\treduced angle potential = 0.042051561766555265.\n",
      "2021-06-29 15:15:41,871:(0.06s):geometry:\treduced angle potential = 2.233125127093818e-08.\n",
      "2021-06-29 15:15:41,933:(0.06s):geometry:\treduced angle potential = 9.561051668715153e-06.\n",
      "2021-06-29 15:15:41,992:(0.06s):geometry:\treduced angle potential = 9.265637866968462e-06.\n",
      "2021-06-29 15:15:42,062:(0.07s):geometry:\tbeginning construction of no_nonbonded final system...\n",
      "2021-06-29 15:15:42,064:(0.00s):geometry:\tinitial no-nonbonded final system forces ['HarmonicBondForce', 'HarmonicAngleForce', 'PeriodicTorsionForce', 'NonbondedForce']\n",
      "2021-06-29 15:15:42,087:(0.02s):geometry:\tfinal no-nonbonded final system forces dict_keys(['HarmonicBondForce', 'HarmonicAngleForce', 'PeriodicTorsionForce', 'NonbondedForce'])\n",
      "2021-06-29 15:15:42,089:(0.00s):geometry:\tthere are 61 bond forces in the no-nonbonded final system\n",
      "2021-06-29 15:15:42,091:(0.00s):geometry:\tthere are 218 angle forces in the no-nonbonded final system\n",
      "2021-06-29 15:15:42,093:(0.00s):geometry:\tthere are 399 torsion forces in the no-nonbonded final system\n",
      "2021-06-29 15:15:42,095:(0.00s):geometry:reverse final system defined with 0 neglected angles.\n"
     ]
    },
    {
     "name": "stdout",
     "output_type": "stream",
     "text": [
      "conducting subsequent work with the following platform: CUDA\n",
      "conducting subsequent work with the following platform: CUDA\n"
     ]
    },
    {
     "name": "stderr",
     "output_type": "stream",
     "text": [
      "2021-06-29 15:15:43,764:(1.67s):geometry:total reduced potential before atom placement: 168.36662826283057\n"
     ]
    },
    {
     "name": "stdout",
     "output_type": "stream",
     "text": [
      "conducting subsequent work with the following platform: CUDA\n",
      "conducting subsequent work with the following platform: CUDA\n",
      "conducting subsequent work with the following platform: CUDA\n"
     ]
    },
    {
     "name": "stderr",
     "output_type": "stream",
     "text": [
      "2021-06-29 15:15:45,762:(2.00s):geometry:total reduced energy added from growth system: 19.11335785388209\n",
      "2021-06-29 15:15:45,765:(0.00s):geometry:final reduced energy 187.47998570143525\n",
      "2021-06-29 15:15:45,767:(0.00s):geometry:sum of energies: 187.47998611671267\n",
      "2021-06-29 15:15:45,768:(0.00s):geometry:magnitude of difference in the energies: 4.1527740890501263e-07\n",
      "2021-06-29 15:15:45,770:(0.00s):geometry:Final logp_proposal: -30385.015714806497\n"
     ]
    },
    {
     "name": "stdout",
     "output_type": "stream",
     "text": [
      "added energy components: [('CustomBondForce', 0.04562463240715887), ('CustomAngleForce', 0.11963264577965825), ('CustomTorsionForce', 7.457414545448549), ('CustomBondForce', 11.490686030246726)]\n"
     ]
    }
   ],
   "source": [
    "from perses.rjmc.topology_proposal import PointMutationEngine\n",
    "from perses.tests.utils import validate_endstate_energies\n",
    "import random\n",
    "\n",
    "aminos = ['ALA','ARG','ASN','ASP','CYS','GLN','GLU','GLY','HIS','ILE','LEU','LYS','MET','PHE','PRO','SER','THR','TRP','TYR','VAL']\n",
    "\n",
    "ENERGY_THRESHOLD = 1e-6\n",
    "kB = unit.BOLTZMANN_CONSTANT_kB * unit.AVOGADRO_CONSTANT_NA\n",
    "temperature = 300.0 * unit.kelvin\n",
    "kT = kB * temperature\n",
    "beta = 1.0/kT\n",
    "\n",
    "chain = 'C'\n",
    "for res in topology.residues():\n",
    "    if res.id == '2':\n",
    "        wt_res = res.name\n",
    "aminos_updated = [amino for amino in aminos if amino not in [wt_res, 'PRO', 'HIS', 'TRP', 'PHE', 'TYR', 'ARG', 'LYS', 'GLU', 'ASP']]\n",
    "# mutant = random.choice(aminos_updated)\n",
    "mutant = \"LEU\"\n",
    "print(f'Making mutation {wt_res}->{mutant}')\n",
    "\n",
    "# Create point mutation engine to mutate residue at id 2 to random amino acid\n",
    "point_mutation_engine = PointMutationEngine(wildtype_topology=topology,\n",
    "                                            system_generator=system_generator,\n",
    "                                            chain_id=chain,\n",
    "                                            max_point_mutants=1,\n",
    "                                            residues_allowed_to_mutate=['2'],  # the residue ids allowed to mutate\n",
    "                                            allowed_mutations=[('2', mutant)],\n",
    "                                            aggregate=True)  # always allow aggregation\n",
    "\n",
    "# Create topology proposal\n",
    "topology_proposal = point_mutation_engine.propose(current_system=system, current_topology=topology)\n",
    "\n",
    "# Create geometry engine\n",
    "from perses.rjmc.geometry import FFAllAngleGeometryEngine\n",
    "geometry_engine = FFAllAngleGeometryEngine(metadata=None,\n",
    "                                           use_sterics=False,\n",
    "                                           n_bond_divisions=100,\n",
    "                                           n_angle_divisions=180,\n",
    "                                           n_torsion_divisions=360,\n",
    "                                           verbose=True,\n",
    "                                           storage=None,\n",
    "                                           bond_softening_constant=1.0,\n",
    "                                           angle_softening_constant=1.0,\n",
    "                                           neglect_angles=False,\n",
    "                                           use_14_nonbondeds=True)\n",
    "\n",
    "# Create geometry proposal\n",
    "new_positions, logp_proposal = geometry_engine.propose(topology_proposal, positions, beta,\n",
    "                                                               validate_energy_bookkeeping=False)\n",
    "logp_reverse = geometry_engine.logp_reverse(topology_proposal, new_positions, positions, beta,\n",
    "                                            validate_energy_bookkeeping=False)\n",
    "\n",
    "if not topology_proposal.unique_new_atoms:\n",
    "    assert geometry_engine.forward_final_context_reduced_potential == None, f\"There are no unique new atoms but the geometry_engine's final context reduced potential is not None (i.e. {self._geometry_engine.forward_final_context_reduced_potential})\"\n",
    "    assert geometry_engine.forward_atoms_with_positions_reduced_potential == None, f\"There are no unique new atoms but the geometry_engine's forward atoms-with-positions-reduced-potential in not None (i.e. { self._geometry_engine.forward_atoms_with_positions_reduced_potential})\"\n",
    "    vacuum_added_valence_energy = 0.0\n",
    "else:\n",
    "    added_valence_energy = geometry_engine.forward_final_context_reduced_potential - geometry_engine.forward_atoms_with_positions_reduced_potential\n",
    "\n",
    "if not topology_proposal.unique_old_atoms:\n",
    "    assert geometry_engine.reverse_final_context_reduced_potential == None, f\"There are no unique old atoms but the geometry_engine's final context reduced potential is not None (i.e. {self._geometry_engine.reverse_final_context_reduced_potential})\"\n",
    "    assert geometry_engine.reverse_atoms_with_positions_reduced_potential == None, f\"There are no unique old atoms but the geometry_engine's atoms-with-positions-reduced-potential in not None (i.e. { self._geometry_engine.reverse_atoms_with_positions_reduced_potential})\"\n",
    "    subtracted_valence_energy = 0.0\n",
    "else:\n",
    "    subtracted_valence_energy = geometry_engine.reverse_final_context_reduced_potential - geometry_engine.reverse_atoms_with_positions_reduced_potential\n"
   ]
  },
  {
   "cell_type": "code",
   "execution_count": 167,
   "id": "d52c0100",
   "metadata": {
    "scrolled": true
   },
   "outputs": [
    {
     "name": "stderr",
     "output_type": "stream",
     "text": [
      "2021-06-29 15:15:46,053:(0.28s):relative:*** Generating RxnHybridTopologyFactory ***\n",
      "2021-06-29 15:15:46,056:(0.00s):relative:Beginning nonbonded method, total particle, barostat, and exceptions retrieval...\n",
      "2021-06-29 15:15:46,082:(0.03s):relative:Old system forces: dict_keys(['HarmonicBondForce', 'HarmonicAngleForce', 'PeriodicTorsionForce', 'NonbondedForce'])\n",
      "2021-06-29 15:15:46,084:(0.00s):relative:New system forces: dict_keys(['HarmonicBondForce', 'HarmonicAngleForce', 'PeriodicTorsionForce', 'NonbondedForce'])\n",
      "2021-06-29 15:15:46,086:(0.00s):relative:No unknown forces.\n",
      "2021-06-29 15:15:46,088:(0.00s):relative:Nonbonded method to be used (i.e. from old system): 0\n",
      "2021-06-29 15:15:46,089:(0.00s):relative:Adding and mapping old atoms to hybrid system...\n",
      "2021-06-29 15:15:46,092:(0.00s):relative:Adding and mapping new atoms to hybrid system...\n",
      "2021-06-29 15:15:46,094:(0.00s):relative:scale_templates: [['nonscale_lambda'], ['nonscale_region']]\n",
      "2021-06-29 15:15:46,096:(0.00s):relative:particle (nonbonded) scale_templates: [['nonscale_lambda'], ['nonscale_region1'], ['nonscale_region2']]\n",
      "2021-06-29 15:15:46,098:(0.00s):relative:No MonteCarloBarostat added.\n",
      "2021-06-29 15:15:46,100:(0.00s):relative:getDefaultPeriodicBoxVectors added to hybrid: [Quantity(value=Vec3(x=2.0, y=0.0, z=0.0), unit=nanometer), Quantity(value=Vec3(x=0.0, y=2.0, z=0.0), unit=nanometer), Quantity(value=Vec3(x=0.0, y=0.0, z=2.0), unit=nanometer)]\n",
      "2021-06-29 15:15:46,102:(0.00s):relative:Determined atom classes.\n",
      "2021-06-29 15:15:46,103:(0.00s):relative:Generating old system exceptions dict...\n",
      "2021-06-29 15:15:46,110:(0.01s):relative:Generating new system exceptions dict...\n",
      "2021-06-29 15:15:46,117:(0.01s):relative:Handling constraints...\n",
      "2021-06-29 15:15:46,120:(0.00s):relative:Handling virtual sites...\n",
      "2021-06-29 15:15:46,122:(0.00s):relative:\t_handle_virtual_sites: numVirtualSites: 0\n"
     ]
    }
   ],
   "source": [
    "from perses.annihilation.relative import RxnHybridTopologyFactory\n",
    "flatten_exceptions = True\n",
    "flatten_torsions = True\n",
    "scale_regions = None\n",
    "htf = RxnHybridTopologyFactory(topology_proposal=topology_proposal,\n",
    "                     current_positions=positions,\n",
    "                     new_positions=new_positions,\n",
    "                     use_dispersion_correction=False,\n",
    "                     functions=None,\n",
    "                     softcore_alpha=None,\n",
    "                     bond_softening_constant=1.0,\n",
    "                     angle_softening_constant=1.0,\n",
    "                     soften_only_new=False,\n",
    "                     neglected_new_angle_terms=[],\n",
    "                     neglected_old_angle_terms=[],\n",
    "                     softcore_LJ_v2=True,\n",
    "                     softcore_electrostatics=True,\n",
    "                     softcore_LJ_v2_alpha=0.85,\n",
    "                     softcore_electrostatics_alpha=0.3,\n",
    "                     softcore_sigma_Q=1.0,\n",
    "                     interpolate_old_and_new_14s=flatten_exceptions,\n",
    "                     omitted_terms=None,\n",
    "                     flatten_torsions=flatten_torsions,\n",
    "                     scale_regions=scale_regions,\n",
    "                    generate_htf_for_testing=True)"
   ]
  },
  {
   "cell_type": "code",
   "execution_count": 168,
   "id": "a99c5ffe",
   "metadata": {},
   "outputs": [],
   "source": [
    "\n",
    "htf._topology_proposal.new_system.getForce(3).setNonbondedMethod(openmm.NonbondedForce.NoCutoff)\n",
    "htf._topology_proposal.new_system.getForce(3).setUseDispersionCorrection(False)\n",
    "# htf._topology_proposal.new_system.removeForce(4) # Remove barostat\n"
   ]
  },
  {
   "cell_type": "code",
   "execution_count": 169,
   "id": "8c62c02d",
   "metadata": {},
   "outputs": [],
   "source": [
    "# Load htf\n",
    "with open(\"/home/zhangi/choderalab/perses_benchmark/perses_protein_mutations/code/26_rxn_field/8mer_vacuum.pickle\", \"wb\") as f:\n",
    "    pickle.dump(htf, f)"
   ]
  },
  {
   "cell_type": "markdown",
   "id": "2c85d0fd",
   "metadata": {},
   "source": [
    "### Test one alchemical region, no scale regions"
   ]
  },
  {
   "cell_type": "markdown",
   "id": "4c4ccfc3",
   "metadata": {},
   "source": [
    "#### Old system HarmonicBondForce vs hybrid system CustomBondForce"
   ]
  },
  {
   "cell_type": "code",
   "execution_count": 119,
   "id": "12d3c781",
   "metadata": {},
   "outputs": [],
   "source": [
    "# Load htf\n",
    "with open(\"/home/zhangi/choderalab/perses_benchmark/perses_protein_mutations/code/26_rxn_field/8mer_vacuum.pickle\", \"rb\") as f:\n",
    "    htf = pickle.load(f)"
   ]
  },
  {
   "cell_type": "code",
   "execution_count": 120,
   "id": "e84ef3f5",
   "metadata": {
    "scrolled": false
   },
   "outputs": [
    {
     "name": "stdout",
     "output_type": "stream",
     "text": [
      "Warning: Returning CPU platform instead of requested platform <simtk.openmm.openmm.Platform; proxy of <Swig Object of type 'OpenMM::Platform *' at 0x2b5a4ae196c0> >\n",
      "conducting subsequent work with the following platform: CPU\n",
      "conducting subsequent work with the following platform: CUDA\n",
      "[('HarmonicBondForce', 7.300105424153174), ('HarmonicAngleForce', 12.445685055931849), ('PeriodicTorsionForce', 156.24350906389375), ('NonbondedForce', -243.3076664147409), ('AndersenThermostat', 0.0)]\n",
      "conducting subsequent work with the following platform: CUDA\n",
      "[('CustomBondForce', 7.544270148118206), ('CustomAngleForce', 327.9804627059894), ('CustomTorsionForce', 156.24351836067592), ('CustomNonbondedForce', -879.2155855849345), ('CustomNonbondedForce', 12.998397411394903), ('CustomBondForce', 635.907909782493), ('CustomBondForce', 56.047220181697135), ('AndersenThermostat', 0.0)]\n",
      "Success! Custom nb force and standard nb force electrostatics energies are equal!\n"
     ]
    }
   ],
   "source": [
    "test_nb_energies(htf)"
   ]
  },
  {
   "cell_type": "code",
   "execution_count": 121,
   "id": "cb27387d",
   "metadata": {},
   "outputs": [],
   "source": [
    "# Load htf\n",
    "with open(\"/home/zhangi/choderalab/perses_benchmark/perses_protein_mutations/code/26_rxn_field/8mer_vacuum.pickle\", \"rb\") as f:\n",
    "    htf = pickle.load(f)"
   ]
  },
  {
   "cell_type": "code",
   "execution_count": 122,
   "id": "1c71e30b",
   "metadata": {},
   "outputs": [
    {
     "name": "stdout",
     "output_type": "stream",
     "text": [
      "Warning: Returning CPU platform instead of requested platform <simtk.openmm.openmm.Platform; proxy of <Swig Object of type 'OpenMM::Platform *' at 0x2b5a4ae196c0> >\n",
      "conducting subsequent work with the following platform: CPU\n",
      "conducting subsequent work with the following platform: CUDA\n",
      "[('HarmonicBondForce', 7.300105424153174), ('HarmonicAngleForce', 12.445685055931849), ('PeriodicTorsionForce', 156.24350906389375), ('NonbondedForce', 69.04562949047147), ('AndersenThermostat', 0.0)]\n",
      "conducting subsequent work with the following platform: CUDA\n",
      "[('CustomBondForce', 7.544270148118206), ('CustomAngleForce', 327.9804627059894), ('CustomTorsionForce', 156.24351836067592), ('CustomNonbondedForce', -879.2155855849345), ('CustomNonbondedForce', 12.998397411394903), ('CustomBondForce', 635.907909782493), ('CustomBondForce', 56.047220181697135), ('AndersenThermostat', 0.0)]\n",
      "Success! Custom nb force and standard nb force sterics energies are equal!\n"
     ]
    }
   ],
   "source": [
    "test_nb_energies(htf, is_electrostatics=False)"
   ]
  },
  {
   "cell_type": "markdown",
   "id": "2cd71594",
   "metadata": {},
   "source": [
    "#### New system HarmonicBondForce vs hybrid system CustomBondForce"
   ]
  },
  {
   "cell_type": "code",
   "execution_count": 28,
   "id": "fe34d458",
   "metadata": {},
   "outputs": [],
   "source": [
    "def get_params(system, is_hybrid=False):\n",
    "    print(f\"nb method: {system.getNonbondedMethod()}\")\n",
    "    if is_hybrid:\n",
    "        print(f\"dispersion correction: {system.getUseLongRangeCorrection()}\")\n",
    "    else:\n",
    "        print(f\"dispersion correction: {system.getUseDispersionCorrection()}\")\n",
    "    print(f\"switching fn: {system.getUseSwitchingFunction()}\")\n",
    "    print(f\"pbcs: {system.usesPeriodicBoundaryConditions()}\")    "
   ]
  },
  {
   "cell_type": "code",
   "execution_count": 170,
   "id": "73786db6",
   "metadata": {},
   "outputs": [],
   "source": [
    "# Load htf\n",
    "with open(\"/home/zhangi/choderalab/perses_benchmark/perses_protein_mutations/code/26_rxn_field/8mer_vacuum.pickle\", \"rb\") as f:\n",
    "    htf = pickle.load(f)\n"
   ]
  },
  {
   "cell_type": "code",
   "execution_count": 171,
   "id": "f9f31eb5",
   "metadata": {
    "scrolled": false
   },
   "outputs": [
    {
     "name": "stdout",
     "output_type": "stream",
     "text": [
      "Warning: Returning CPU platform instead of requested platform <simtk.openmm.openmm.Platform; proxy of <Swig Object of type 'OpenMM::Platform *' at 0x2b5a4ae196c0> >\n",
      "conducting subsequent work with the following platform: CPU\n",
      "conducting subsequent work with the following platform: CUDA\n",
      "[('HarmonicBondForce', 10.179754265626803), ('HarmonicAngleForce', 496.4186294712143), ('PeriodicTorsionForce', 174.65309353339322), ('NonbondedForce', -299.591492594999), ('AndersenThermostat', 0.0)]\n",
      "conducting subsequent work with the following platform: CUDA\n",
      "[('CustomBondForce', 10.22537889803396), ('CustomAngleForce', 496.53826211699385), ('CustomTorsionForce', 156.24351836067592), ('CustomNonbondedForce', -881.7602858017719), ('CustomNonbondedForce', 12.998397411394905), ('CustomBondForce', 598.67722039197), ('CustomBondForce', 56.047220181697135), ('AndersenThermostat', 0.0)]\n"
     ]
    },
    {
     "ename": "AssertionError",
     "evalue": "standard nonbonded: -299.591492594999, custom nonbonded/bond: -283.083065409802",
     "output_type": "error",
     "traceback": [
      "\u001b[0;31m----------------------------------------\u001b[0m",
      "\u001b[0;31mAssertionError\u001b[0mTraceback (most recent call last)",
      "\u001b[0;32m<ipython-input-171-2f3996bb479d>\u001b[0m in \u001b[0;36m<module>\u001b[0;34m\u001b[0m\n\u001b[0;32m----> 1\u001b[0;31m \u001b[0mtest_nb_energies\u001b[0m\u001b[0;34m(\u001b[0m\u001b[0mhtf\u001b[0m\u001b[0;34m,\u001b[0m \u001b[0mis_old\u001b[0m\u001b[0;34m=\u001b[0m\u001b[0;32mFalse\u001b[0m\u001b[0;34m)\u001b[0m\u001b[0;34m\u001b[0m\u001b[0;34m\u001b[0m\u001b[0m\n\u001b[0m",
      "\u001b[0;32m<ipython-input-41-92932c891c00>\u001b[0m in \u001b[0;36mtest_nb_energies\u001b[0;34m(htf, is_electrostatics, is_old, is_solvated, check_scale)\u001b[0m\n\u001b[1;32m    127\u001b[0m     \u001b[0mprint\u001b[0m\u001b[0;34m(\u001b[0m\u001b[0mcomponents_hybrid\u001b[0m\u001b[0;34m)\u001b[0m\u001b[0;34m\u001b[0m\u001b[0;34m\u001b[0m\u001b[0m\n\u001b[1;32m    128\u001b[0m \u001b[0;34m\u001b[0m\u001b[0m\n\u001b[0;32m--> 129\u001b[0;31m     \u001b[0;32massert\u001b[0m \u001b[0mnp\u001b[0m\u001b[0;34m.\u001b[0m\u001b[0misclose\u001b[0m\u001b[0;34m(\u001b[0m\u001b[0;34m[\u001b[0m\u001b[0mcomponents_other\u001b[0m\u001b[0;34m[\u001b[0m\u001b[0mnb_force_index\u001b[0m\u001b[0;34m]\u001b[0m\u001b[0;34m[\u001b[0m\u001b[0;36m1\u001b[0m\u001b[0;34m]\u001b[0m\u001b[0;34m]\u001b[0m\u001b[0;34m,\u001b[0m \u001b[0mnp\u001b[0m\u001b[0;34m.\u001b[0m\u001b[0msum\u001b[0m\u001b[0;34m(\u001b[0m\u001b[0;34m[\u001b[0m\u001b[0menergy\u001b[0m\u001b[0;34m[\u001b[0m\u001b[0;36m1\u001b[0m\u001b[0;34m]\u001b[0m \u001b[0;32mfor\u001b[0m \u001b[0mi\u001b[0m\u001b[0;34m,\u001b[0m \u001b[0menergy\u001b[0m \u001b[0;32min\u001b[0m \u001b[0menumerate\u001b[0m\u001b[0;34m(\u001b[0m\u001b[0mcomponents_hybrid\u001b[0m\u001b[0;34m)\u001b[0m \u001b[0;32mif\u001b[0m \u001b[0mi\u001b[0m \u001b[0;32min\u001b[0m \u001b[0;34m[\u001b[0m\u001b[0mcustom_nb_force_index\u001b[0m\u001b[0;34m,\u001b[0m \u001b[0mcustom_nb_exceptions_force_index\u001b[0m\u001b[0;34m]\u001b[0m \u001b[0;34m]\u001b[0m\u001b[0;34m)\u001b[0m\u001b[0;34m)\u001b[0m\u001b[0;34m,\u001b[0m \u001b[0;34mf\"standard nonbonded: {components_other[nb_force_index][1]}, custom nonbonded/bond: {np.sum([energy[1] for i, energy in enumerate(components_hybrid) if i in [custom_nb_force_index, custom_nb_exceptions_force_index] ])}\"\u001b[0m\u001b[0;34m\u001b[0m\u001b[0;34m\u001b[0m\u001b[0m\n\u001b[0m\u001b[1;32m    130\u001b[0m \u001b[0;34m\u001b[0m\u001b[0m\n\u001b[1;32m    131\u001b[0m     \u001b[0mtype_str\u001b[0m \u001b[0;34m=\u001b[0m \u001b[0;34m'electrostatics'\u001b[0m \u001b[0;32mif\u001b[0m \u001b[0mis_electrostatics\u001b[0m \u001b[0;32melse\u001b[0m \u001b[0;34m'sterics'\u001b[0m\u001b[0;34m\u001b[0m\u001b[0;34m\u001b[0m\u001b[0m\n",
      "\u001b[0;31mAssertionError\u001b[0m: standard nonbonded: -299.591492594999, custom nonbonded/bond: -283.083065409802"
     ]
    }
   ],
   "source": [
    "test_nb_energies(htf, is_old=False)"
   ]
  },
  {
   "cell_type": "code",
   "execution_count": 145,
   "id": "a34e5852",
   "metadata": {},
   "outputs": [
    {
     "name": "stdout",
     "output_type": "stream",
     "text": [
      "nb method: 0\n",
      "dispersion correction: False\n",
      "switching fn: False\n",
      "pbcs: False\n"
     ]
    }
   ],
   "source": [
    "get_params(htf.hybrid_system.getForce(3), is_hybrid=True)"
   ]
  },
  {
   "cell_type": "code",
   "execution_count": 30,
   "id": "d807c571",
   "metadata": {},
   "outputs": [
    {
     "name": "stdout",
     "output_type": "stream",
     "text": [
      "nb method: 0\n",
      "dispersion correction: False\n",
      "switching fn: False\n",
      "pbcs: False\n"
     ]
    }
   ],
   "source": [
    "get_params(htf.hybrid_system.getForce(4), is_hybrid=True)"
   ]
  },
  {
   "cell_type": "code",
   "execution_count": 56,
   "id": "2cd7ddf1",
   "metadata": {},
   "outputs": [
    {
     "data": {
      "text/plain": [
       "False"
      ]
     },
     "execution_count": 56,
     "metadata": {},
     "output_type": "execute_result"
    }
   ],
   "source": [
    "htf.hybrid_system.getForce(5).usesPeriodicBoundaryConditions()"
   ]
  },
  {
   "cell_type": "code",
   "execution_count": 57,
   "id": "05bfbfaa",
   "metadata": {},
   "outputs": [
    {
     "data": {
      "text/plain": [
       "False"
      ]
     },
     "execution_count": 57,
     "metadata": {},
     "output_type": "execute_result"
    }
   ],
   "source": [
    "htf.hybrid_system.getForce(6).usesPeriodicBoundaryConditions()"
   ]
  },
  {
   "cell_type": "code",
   "execution_count": 65,
   "id": "8123e7d7",
   "metadata": {},
   "outputs": [
    {
     "data": {
      "text/plain": [
       "False"
      ]
     },
     "execution_count": 65,
     "metadata": {},
     "output_type": "execute_result"
    }
   ],
   "source": [
    "htf._topology_proposal.new_system.getForce(3).getUseSwitchingFunction()"
   ]
  },
  {
   "cell_type": "code",
   "execution_count": 54,
   "id": "585966a4",
   "metadata": {},
   "outputs": [
    {
     "name": "stdout",
     "output_type": "stream",
     "text": [
      "0 ACE0-CH3\n",
      "1 ACE0-C\n",
      "2 ACE0-O\n",
      "3 ACE0-H1\n",
      "4 ACE0-H2\n",
      "5 ACE0-H3\n",
      "6 SER1-N\n",
      "7 SER1-CA\n",
      "8 SER1-C\n",
      "9 SER1-O\n",
      "10 SER1-CB\n",
      "11 SER1-OG\n",
      "12 SER1-H2\n",
      "13 SER1-HA\n",
      "14 SER1-HB3\n",
      "15 SER1-HB2\n",
      "16 SER1-HG\n",
      "17 ALA2-N\n",
      "18 ALA2-CA\n",
      "19 ALA2-C\n",
      "20 ALA2-O\n",
      "21 ALA2-CB\n",
      "22 ALA2-H\n",
      "23 ALA2-HA\n",
      "24 ALA2-HB1\n",
      "25 ALA2-HB2\n",
      "26 ALA2-HB3\n",
      "123 ALA2-CD1\n",
      "124 ALA2-HD11\n",
      "125 ALA2-HD12\n",
      "126 ALA2-HD13\n",
      "127 ALA2-CB\n",
      "128 ALA2-HB\n",
      "129 ALA2-CG2\n",
      "130 ALA2-HG21\n",
      "131 ALA2-HG22\n",
      "132 ALA2-HG23\n",
      "133 ALA2-CG1\n",
      "134 ALA2-HG12\n",
      "135 ALA2-HG13\n",
      "27 VAL3-N\n",
      "28 VAL3-CA\n",
      "29 VAL3-C\n",
      "30 VAL3-O\n",
      "31 VAL3-CB\n",
      "32 VAL3-CG1\n",
      "33 VAL3-CG2\n",
      "34 VAL3-H\n",
      "35 VAL3-HA\n",
      "36 VAL3-HB\n",
      "37 VAL3-HG11\n",
      "38 VAL3-HG12\n",
      "39 VAL3-HG13\n",
      "40 VAL3-HG21\n",
      "41 VAL3-HG22\n",
      "42 VAL3-HG23\n",
      "43 LEU4-N\n",
      "44 LEU4-CA\n",
      "45 LEU4-C\n",
      "46 LEU4-O\n",
      "47 LEU4-CB\n",
      "48 LEU4-CG\n",
      "49 LEU4-CD1\n",
      "50 LEU4-CD2\n",
      "51 LEU4-H\n",
      "52 LEU4-HA\n",
      "53 LEU4-HB3\n",
      "54 LEU4-HB2\n",
      "55 LEU4-HG\n",
      "56 LEU4-HD11\n",
      "57 LEU4-HD12\n",
      "58 LEU4-HD13\n",
      "59 LEU4-HD21\n",
      "60 LEU4-HD22\n",
      "61 LEU4-HD23\n",
      "62 GLN5-N\n",
      "63 GLN5-CA\n",
      "64 GLN5-C\n",
      "65 GLN5-O\n",
      "66 GLN5-CB\n",
      "67 GLN5-CG\n",
      "68 GLN5-CD\n",
      "69 GLN5-NE2\n",
      "70 GLN5-OE1\n",
      "71 GLN5-H\n",
      "72 GLN5-HA\n",
      "73 GLN5-HB3\n",
      "74 GLN5-HB2\n",
      "75 GLN5-HG3\n",
      "76 GLN5-HG2\n",
      "77 GLN5-HE22\n",
      "78 GLN5-HE21\n",
      "79 SER6-N\n",
      "80 SER6-CA\n",
      "81 SER6-C\n",
      "82 SER6-O\n",
      "83 SER6-CB\n",
      "84 SER6-OG\n",
      "85 SER6-H\n",
      "86 SER6-HA\n",
      "87 SER6-HB3\n",
      "88 SER6-HB2\n",
      "89 SER6-HG\n",
      "90 GLY7-N\n",
      "91 GLY7-CA\n",
      "92 GLY7-C\n",
      "93 GLY7-O\n",
      "94 GLY7-H\n",
      "95 GLY7-HA3\n",
      "96 GLY7-HA2\n",
      "97 PHE8-N\n",
      "98 PHE8-CA\n",
      "99 PHE8-C\n",
      "100 PHE8-O\n",
      "101 PHE8-CB\n",
      "102 PHE8-CG\n",
      "103 PHE8-CD1\n",
      "104 PHE8-CD2\n",
      "105 PHE8-CE1\n",
      "106 PHE8-CE2\n",
      "107 PHE8-CZ\n",
      "108 PHE8-H\n",
      "109 PHE8-HA\n",
      "110 PHE8-HB3\n",
      "111 PHE8-HB2\n",
      "112 PHE8-HD1\n",
      "113 PHE8-HD2\n",
      "114 PHE8-HE1\n",
      "115 PHE8-HE2\n",
      "116 PHE8-HZ\n",
      "117 NME8-N\n",
      "118 NME8-C\n",
      "119 NME8-H\n",
      "120 NME8-H1\n",
      "121 NME8-H2\n",
      "122 NME8-H3\n"
     ]
    }
   ],
   "source": [
    "for atom in htf.hybrid_topology.atoms:\n",
    "    print(atom.index, atom)"
   ]
  },
  {
   "cell_type": "code",
   "execution_count": 55,
   "id": "bf0cf2c4",
   "metadata": {},
   "outputs": [
    {
     "name": "stdout",
     "output_type": "stream",
     "text": [
      "0 (1.0, 1.0, 0.0, 0.0, 0.0, 0.0, -0.3662, -0.0)\n",
      "1 (1.0, 1.0, 0.0, 0.0, 0.0, 0.0, 0.5972, 0.0)\n",
      "2 (1.0, 1.0, 0.0, 0.0, 0.0, 0.0, -0.5679, -0.0)\n",
      "3 (1.0, 1.0, 0.0, 0.0, 0.0, 0.0, 0.1123, 0.0)\n",
      "4 (1.0, 1.0, 0.0, 0.0, 0.0, 0.0, 0.1123, 0.0)\n",
      "5 (1.0, 1.0, 0.0, 0.0, 0.0, 0.0, 0.1123, 0.0)\n",
      "6 (1.0, 0.0, 1.0, 0.0, 0.0, 1.0, -0.4157, -0.4157)\n",
      "7 (1.0, 0.0, 1.0, 0.0, 0.0, 1.0, -0.0249, -0.0249)\n",
      "8 (1.0, 0.0, 1.0, 0.0, 0.0, 1.0, 0.5973, 0.5973)\n",
      "9 (1.0, 0.0, 1.0, 0.0, 0.0, 1.0, -0.5679, -0.5679)\n",
      "10 (1.0, 0.0, 1.0, 0.0, 0.0, 1.0, 0.2117, 0.2117)\n",
      "11 (1.0, 0.0, 1.0, 0.0, 0.0, 1.0, -0.6546, -0.6546)\n",
      "12 (1.0, 0.0, 1.0, 0.0, 0.0, 1.0, 0.2719, 0.2719)\n",
      "13 (1.0, 0.0, 1.0, 0.0, 0.0, 1.0, 0.0843, 0.0843)\n",
      "14 (1.0, 0.0, 1.0, 0.0, 0.0, 1.0, 0.0352, 0.0352)\n",
      "15 (1.0, 0.0, 1.0, 0.0, 0.0, 1.0, 0.0352, 0.0352)\n",
      "16 (1.0, 0.0, 1.0, 0.0, 0.0, 1.0, 0.4275, 0.4275)\n",
      "17 (1.0, 0.0, 1.0, 0.0, 0.0, 1.0, -0.4157, -0.4157)\n",
      "18 (1.0, 0.0, 1.0, 0.0, 0.0, 1.0, 0.0337, -0.0597)\n",
      "19 (1.0, 0.0, 1.0, 0.0, 0.0, 1.0, 0.5973, 0.5973)\n",
      "20 (1.0, 0.0, 1.0, 0.0, 0.0, 1.0, -0.5679, -0.5679)\n",
      "21 (1.0, 0.0, 1.0, 1.0, 0.0, 0.0, -0.1825, -0.0)\n",
      "22 (1.0, 0.0, 1.0, 0.0, 0.0, 1.0, 0.2719, 0.2719)\n",
      "23 (1.0, 0.0, 1.0, 0.0, 0.0, 1.0, 0.0823, 0.0869)\n",
      "24 (1.0, 0.0, 1.0, 1.0, 0.0, 0.0, 0.0603, 0.0)\n",
      "25 (1.0, 0.0, 1.0, 1.0, 0.0, 0.0, 0.0603, 0.0)\n",
      "26 (1.0, 0.0, 1.0, 1.0, 0.0, 0.0, 0.0603, 0.0)\n",
      "27 (1.0, 0.0, 1.0, 0.0, 0.0, 1.0, -0.4157, -0.4157)\n",
      "28 (1.0, 0.0, 1.0, 0.0, 0.0, 1.0, -0.0875, -0.0875)\n",
      "29 (1.0, 0.0, 1.0, 0.0, 0.0, 1.0, 0.5973, 0.5973)\n",
      "30 (1.0, 0.0, 1.0, 0.0, 0.0, 1.0, -0.5679, -0.5679)\n",
      "31 (1.0, 0.0, 1.0, 0.0, 0.0, 1.0, 0.2985, 0.2985)\n",
      "32 (1.0, 0.0, 1.0, 0.0, 0.0, 1.0, -0.3192, -0.3192)\n",
      "33 (1.0, 0.0, 1.0, 0.0, 0.0, 1.0, -0.3192, -0.3192)\n",
      "34 (1.0, 0.0, 1.0, 0.0, 0.0, 1.0, 0.2719, 0.2719)\n",
      "35 (1.0, 0.0, 1.0, 0.0, 0.0, 1.0, 0.0969, 0.0969)\n",
      "36 (1.0, 0.0, 1.0, 0.0, 0.0, 1.0, -0.0297, -0.0297)\n",
      "37 (1.0, 0.0, 1.0, 0.0, 0.0, 1.0, 0.0791, 0.0791)\n",
      "38 (1.0, 0.0, 1.0, 0.0, 0.0, 1.0, 0.0791, 0.0791)\n",
      "39 (1.0, 0.0, 1.0, 0.0, 0.0, 1.0, 0.0791, 0.0791)\n",
      "40 (1.0, 0.0, 1.0, 0.0, 0.0, 1.0, 0.0791, 0.0791)\n",
      "41 (1.0, 0.0, 1.0, 0.0, 0.0, 1.0, 0.0791, 0.0791)\n",
      "42 (1.0, 0.0, 1.0, 0.0, 0.0, 1.0, 0.0791, 0.0791)\n",
      "43 (1.0, 1.0, 0.0, 0.0, 0.0, 0.0, -0.4157, -0.0)\n",
      "44 (1.0, 1.0, 0.0, 0.0, 0.0, 0.0, -0.0518, -0.0)\n",
      "45 (1.0, 1.0, 0.0, 0.0, 0.0, 0.0, 0.5973, 0.0)\n",
      "46 (1.0, 1.0, 0.0, 0.0, 0.0, 0.0, -0.5679, -0.0)\n",
      "47 (1.0, 1.0, 0.0, 0.0, 0.0, 0.0, -0.1102, -0.0)\n",
      "48 (1.0, 1.0, 0.0, 0.0, 0.0, 0.0, 0.3531, 0.0)\n",
      "49 (1.0, 1.0, 0.0, 0.0, 0.0, 0.0, -0.4121, -0.0)\n",
      "50 (1.0, 1.0, 0.0, 0.0, 0.0, 0.0, -0.4121, -0.0)\n",
      "51 (1.0, 1.0, 0.0, 0.0, 0.0, 0.0, 0.2719, 0.0)\n",
      "52 (1.0, 1.0, 0.0, 0.0, 0.0, 0.0, 0.0922, 0.0)\n",
      "53 (1.0, 1.0, 0.0, 0.0, 0.0, 0.0, 0.0457, 0.0)\n",
      "54 (1.0, 1.0, 0.0, 0.0, 0.0, 0.0, 0.0457, 0.0)\n",
      "55 (1.0, 1.0, 0.0, 0.0, 0.0, 0.0, -0.0361, -0.0)\n",
      "56 (1.0, 1.0, 0.0, 0.0, 0.0, 0.0, 0.1, 0.0)\n",
      "57 (1.0, 1.0, 0.0, 0.0, 0.0, 0.0, 0.1, 0.0)\n",
      "58 (1.0, 1.0, 0.0, 0.0, 0.0, 0.0, 0.1, 0.0)\n",
      "59 (1.0, 1.0, 0.0, 0.0, 0.0, 0.0, 0.1, 0.0)\n",
      "60 (1.0, 1.0, 0.0, 0.0, 0.0, 0.0, 0.1, 0.0)\n",
      "61 (1.0, 1.0, 0.0, 0.0, 0.0, 0.0, 0.1, 0.0)\n",
      "62 (1.0, 1.0, 0.0, 0.0, 0.0, 0.0, -0.4157, -0.0)\n",
      "63 (1.0, 1.0, 0.0, 0.0, 0.0, 0.0, -0.0031, -0.0)\n",
      "64 (1.0, 1.0, 0.0, 0.0, 0.0, 0.0, 0.5973, 0.0)\n",
      "65 (1.0, 1.0, 0.0, 0.0, 0.0, 0.0, -0.5679, -0.0)\n",
      "66 (1.0, 1.0, 0.0, 0.0, 0.0, 0.0, -0.0036, -0.0)\n",
      "67 (1.0, 1.0, 0.0, 0.0, 0.0, 0.0, -0.0645, -0.0)\n",
      "68 (1.0, 1.0, 0.0, 0.0, 0.0, 0.0, 0.6951, 0.0)\n",
      "69 (1.0, 1.0, 0.0, 0.0, 0.0, 0.0, -0.9407, -0.0)\n",
      "70 (1.0, 1.0, 0.0, 0.0, 0.0, 0.0, -0.6086, -0.0)\n",
      "71 (1.0, 1.0, 0.0, 0.0, 0.0, 0.0, 0.2719, 0.0)\n",
      "72 (1.0, 1.0, 0.0, 0.0, 0.0, 0.0, 0.085, 0.0)\n",
      "73 (1.0, 1.0, 0.0, 0.0, 0.0, 0.0, 0.0171, 0.0)\n",
      "74 (1.0, 1.0, 0.0, 0.0, 0.0, 0.0, 0.0171, 0.0)\n",
      "75 (1.0, 1.0, 0.0, 0.0, 0.0, 0.0, 0.0352, 0.0)\n",
      "76 (1.0, 1.0, 0.0, 0.0, 0.0, 0.0, 0.0352, 0.0)\n",
      "77 (1.0, 1.0, 0.0, 0.0, 0.0, 0.0, 0.4251, 0.0)\n",
      "78 (1.0, 1.0, 0.0, 0.0, 0.0, 0.0, 0.4251, 0.0)\n",
      "79 (1.0, 1.0, 0.0, 0.0, 0.0, 0.0, -0.4157, -0.0)\n",
      "80 (1.0, 1.0, 0.0, 0.0, 0.0, 0.0, -0.0249, -0.0)\n",
      "81 (1.0, 1.0, 0.0, 0.0, 0.0, 0.0, 0.5973, 0.0)\n",
      "82 (1.0, 1.0, 0.0, 0.0, 0.0, 0.0, -0.5679, -0.0)\n",
      "83 (1.0, 1.0, 0.0, 0.0, 0.0, 0.0, 0.2117, 0.0)\n",
      "84 (1.0, 1.0, 0.0, 0.0, 0.0, 0.0, -0.6546, -0.0)\n",
      "85 (1.0, 1.0, 0.0, 0.0, 0.0, 0.0, 0.2719, 0.0)\n",
      "86 (1.0, 1.0, 0.0, 0.0, 0.0, 0.0, 0.0843, 0.0)\n",
      "87 (1.0, 1.0, 0.0, 0.0, 0.0, 0.0, 0.0352, 0.0)\n",
      "88 (1.0, 1.0, 0.0, 0.0, 0.0, 0.0, 0.0352, 0.0)\n",
      "89 (1.0, 1.0, 0.0, 0.0, 0.0, 0.0, 0.4275, 0.0)\n",
      "90 (1.0, 1.0, 0.0, 0.0, 0.0, 0.0, -0.4157, -0.0)\n",
      "91 (1.0, 1.0, 0.0, 0.0, 0.0, 0.0, -0.0252, -0.0)\n",
      "92 (1.0, 1.0, 0.0, 0.0, 0.0, 0.0, 0.5973, 0.0)\n",
      "93 (1.0, 1.0, 0.0, 0.0, 0.0, 0.0, -0.5679, -0.0)\n",
      "94 (1.0, 1.0, 0.0, 0.0, 0.0, 0.0, 0.2719, 0.0)\n",
      "95 (1.0, 1.0, 0.0, 0.0, 0.0, 0.0, 0.0698, 0.0)\n",
      "96 (1.0, 1.0, 0.0, 0.0, 0.0, 0.0, 0.0698, 0.0)\n",
      "97 (1.0, 1.0, 0.0, 0.0, 0.0, 0.0, -0.4157, -0.0)\n",
      "98 (1.0, 1.0, 0.0, 0.0, 0.0, 0.0, -0.0024, -0.0)\n",
      "99 (1.0, 1.0, 0.0, 0.0, 0.0, 0.0, 0.5973, 0.0)\n",
      "100 (1.0, 1.0, 0.0, 0.0, 0.0, 0.0, -0.5679, -0.0)\n",
      "101 (1.0, 1.0, 0.0, 0.0, 0.0, 0.0, -0.0343, -0.0)\n",
      "102 (1.0, 1.0, 0.0, 0.0, 0.0, 0.0, 0.0118, 0.0)\n",
      "103 (1.0, 1.0, 0.0, 0.0, 0.0, 0.0, -0.1256, -0.0)\n",
      "104 (1.0, 1.0, 0.0, 0.0, 0.0, 0.0, -0.1256, -0.0)\n",
      "105 (1.0, 1.0, 0.0, 0.0, 0.0, 0.0, -0.1704, -0.0)\n",
      "106 (1.0, 1.0, 0.0, 0.0, 0.0, 0.0, -0.1704, -0.0)\n",
      "107 (1.0, 1.0, 0.0, 0.0, 0.0, 0.0, -0.1072, -0.0)\n",
      "108 (1.0, 1.0, 0.0, 0.0, 0.0, 0.0, 0.2719, 0.0)\n",
      "109 (1.0, 1.0, 0.0, 0.0, 0.0, 0.0, 0.0978, 0.0)\n",
      "110 (1.0, 1.0, 0.0, 0.0, 0.0, 0.0, 0.0295, 0.0)\n",
      "111 (1.0, 1.0, 0.0, 0.0, 0.0, 0.0, 0.0295, 0.0)\n",
      "112 (1.0, 1.0, 0.0, 0.0, 0.0, 0.0, 0.133, 0.0)\n",
      "113 (1.0, 1.0, 0.0, 0.0, 0.0, 0.0, 0.133, 0.0)\n",
      "114 (1.0, 1.0, 0.0, 0.0, 0.0, 0.0, 0.143, 0.0)\n",
      "115 (1.0, 1.0, 0.0, 0.0, 0.0, 0.0, 0.143, 0.0)\n",
      "116 (1.0, 1.0, 0.0, 0.0, 0.0, 0.0, 0.1297, 0.0)\n",
      "117 (1.0, 1.0, 0.0, 0.0, 0.0, 0.0, -0.4157, -0.0)\n",
      "118 (1.0, 1.0, 0.0, 0.0, 0.0, 0.0, -0.149, -0.0)\n",
      "119 (1.0, 1.0, 0.0, 0.0, 0.0, 0.0, 0.2719, 0.0)\n",
      "120 (1.0, 1.0, 0.0, 0.0, 0.0, 0.0, 0.0976, 0.0)\n",
      "121 (1.0, 1.0, 0.0, 0.0, 0.0, 0.0, 0.0976, 0.0)\n",
      "122 (1.0, 1.0, 0.0, 0.0, 0.0, 0.0, 0.0976, 0.0)\n",
      "123 (1.0, 0.0, 1.0, 0.0, 1.0, 0.0, 0.0, 0.0187)\n",
      "124 (1.0, 0.0, 1.0, 0.0, 1.0, 0.0, -0.0, -0.3204)\n",
      "125 (1.0, 0.0, 1.0, 0.0, 1.0, 0.0, 0.0, 0.0882)\n",
      "126 (1.0, 0.0, 1.0, 0.0, 1.0, 0.0, 0.0, 0.0882)\n",
      "127 (1.0, 0.0, 1.0, 0.0, 1.0, 0.0, 0.0, 0.0882)\n",
      "128 (1.0, 0.0, 1.0, 0.0, 1.0, 0.0, -0.0, -0.043)\n",
      "129 (1.0, 0.0, 1.0, 0.0, 1.0, 0.0, 0.0, 0.0236)\n",
      "130 (1.0, 0.0, 1.0, 0.0, 1.0, 0.0, 0.0, 0.0236)\n",
      "131 (1.0, 0.0, 1.0, 0.0, 1.0, 0.0, -0.0, -0.066)\n",
      "132 (1.0, 0.0, 1.0, 0.0, 1.0, 0.0, 0.0, 0.0186)\n",
      "133 (1.0, 0.0, 1.0, 0.0, 1.0, 0.0, 0.0, 0.0186)\n",
      "134 (1.0, 0.0, 1.0, 0.0, 1.0, 0.0, 0.0, 0.0186)\n",
      "135 (1.0, 0.0, 1.0, 0.0, 1.0, 0.0, 0.0, 0.1303)\n"
     ]
    }
   ],
   "source": [
    "nb_force = htf.hybrid_system.getForce(3)\n",
    "for i in range(nb_force.getNumParticles()):\n",
    "    print(i, nb_force.getParticleParameters(i))"
   ]
  },
  {
   "cell_type": "code",
   "execution_count": 48,
   "id": "6078393f",
   "metadata": {},
   "outputs": [
    {
     "data": {
      "text/plain": [
       "'U_electrostatics; U_electrostatics = switch * c_RF * u_RF; switch = 1; t = (r_eff - r_switch) / (r_cutoff - r_switch); c_RF = 138.935456 * chargeProd; chargeProd = charge1 * charge2; charge1 = ((charge_old1 * ( 1 * environment_region1+lambda_0_electrostatics_old * alchemical_region_01 )) + (charge_new1 * ( 1 * environment_region1+lambda_0_electrostatics_new * alchemical_region_01 ))) * ( nonscale_lambda_electrostatics * nonscale_region1 ); charge2 = ((charge_old2 * ( 1 * environment_region2+lambda_0_electrostatics_old * alchemical_region_02 )) + (charge_new2 * ( 1 * environment_region2+lambda_0_electrostatics_new * alchemical_region_02 ))) * ( nonscale_lambda_electrostatics * nonscale_region2 ); u_RF = 1 / r_eff; r_eff = sqrt(r^2 + w^2); w = step(unique_new1 + unique_new2 + unique_old1 + unique_old2 - 0.1) * r_cutoff * (1. - ( 1 * environment_region1+lambda_0_electrostatics_old * alchemical_region_01 ) - ( 1 * environment_region1+lambda_0_electrostatics_new * alchemical_region_01 )) * 0; r_switch = r_cutoff * 0.25; eps_RF = 78.8; r_cutoff = 1.4; w_scale = 0;'"
      ]
     },
     "execution_count": 48,
     "metadata": {},
     "output_type": "execute_result"
    }
   ],
   "source": [
    "htf.hybrid_system.getForce(3).getEnergyFunction()"
   ]
  },
  {
   "cell_type": "code",
   "execution_count": null,
   "id": "a91ca00e",
   "metadata": {},
   "outputs": [],
   "source": [
    "U_electrostatics;\n",
    "U_electrostatics = switch * c_RF * u_RF;\n",
    "switch = 1;\n",
    "t = (r_eff - r_switch) / (r_cutoff - r_switch);\n",
    "c_RF = 138.935456 * chargeProd;\n",
    "chargeProd = charge1 * charge2;\n",
    "charge1 = ((charge_old1 * ( 1 * environment_region1+lambda_0_electrostatics_old * alchemical_region_01 )) + (charge_new1 * ( 1 * environment_region1+lambda_0_electrostatics_new * alchemical_region_01 ))) * ( nonscale_lambda_electrostatics * nonscale_region1 );\n",
    "charge2 = ((charge_old2 * ( 1 * environment_region2+lambda_0_electrostatics_old * alchemical_region_02 )) + (charge_new2 * ( 1 * environment_region2+lambda_0_electrostatics_new * alchemical_region_02 ))) * ( nonscale_lambda_electrostatics * nonscale_region2 );\n",
    "u_RF = 1 / r_eff;\n",
    "r_eff = sqrt(r^2 + w^2);\n",
    "w = step(unique_new1 + unique_new2 + unique_old1 + unique_old2 - 0.1) * r_cutoff * (1. - ( 1 * environment_region1+lambda_0_electrostatics_old * alchemical_region_01 ) - ( 1 * environment_region1+lambda_0_electrostatics_new * alchemical_region_01 )) * 0;\n",
    "r_switch = r_cutoff * 0.25;\n",
    "eps_RF = 78.8;\n",
    "r_cutoff = 1.4;\n",
    "w_scale = 0;'"
   ]
  },
  {
   "cell_type": "code",
   "execution_count": 152,
   "id": "14682bca",
   "metadata": {},
   "outputs": [],
   "source": [
    "# Load htf\n",
    "with open(\"/home/zhangi/choderalab/perses_benchmark/perses_protein_mutations/code/26_rxn_field/8mer_vacuum.pickle\", \"rb\") as f:\n",
    "    htf = pickle.load(f)\n"
   ]
  },
  {
   "cell_type": "code",
   "execution_count": 153,
   "id": "ea0397ec",
   "metadata": {
    "scrolled": false
   },
   "outputs": [
    {
     "name": "stdout",
     "output_type": "stream",
     "text": [
      "Warning: Returning CPU platform instead of requested platform <simtk.openmm.openmm.Platform; proxy of <Swig Object of type 'OpenMM::Platform *' at 0x2b5a4ae196c0> >\n",
      "conducting subsequent work with the following platform: CPU\n",
      "conducting subsequent work with the following platform: CUDA\n",
      "[('HarmonicBondForce', 9.123179895657778), ('HarmonicAngleForce', 346.0420650607845), ('PeriodicTorsionForce', 164.39865377562708), ('NonbondedForce', 951.6044721926664), ('AndersenThermostat', 0.0)]\n",
      "conducting subsequent work with the following platform: CUDA\n",
      "[('CustomBondForce', 9.168804528064936), ('CustomAngleForce', 346.1616977065642), ('CustomTorsionForce', 156.24351836067592), ('CustomNonbondedForce', -879.2155855849345), ('CustomNonbondedForce', 732.2363821130278), ('CustomBondForce', 635.907909782493), ('CustomBondForce', 219.36802668850493), ('AndersenThermostat', 0.0)]\n",
      "Success! Custom nb force and standard nb force sterics energies are equal!\n"
     ]
    }
   ],
   "source": [
    "test_nb_energies(htf, is_electrostatics=False, is_old=False)"
   ]
  },
  {
   "cell_type": "markdown",
   "id": "moderate-christopher",
   "metadata": {},
   "source": [
    "# 8mer in solvent"
   ]
  },
  {
   "cell_type": "code",
   "execution_count": 74,
   "id": "split-fitting",
   "metadata": {},
   "outputs": [],
   "source": [
    "import os\n",
    "from pkg_resources import resource_filename\n",
    "from perses.app import setup_relative_calculation\n",
    "import pickle\n",
    "from simtk import openmm, unit\n",
    "from simtk.openmm import app\n",
    "from openmmforcefields.generators import SystemGenerator\n",
    "import numpy as np"
   ]
  },
  {
   "cell_type": "code",
   "execution_count": 75,
   "id": "charming-cassette",
   "metadata": {},
   "outputs": [],
   "source": [
    "# Test 8-mer peptide in solvent\n",
    "peptide_filename = resource_filename('perses', 'data/8mer-example/4zuh_peptide_capped.pdb')\n",
    "pdb = app.PDBFile(peptide_filename)\n",
    "forcefield_files = ['amber14/protein.ff14SB.xml', 'amber14/tip3p.xml']\n",
    "barostat = openmm.MonteCarloBarostat(1.0 * unit.atmosphere, 300 * unit.kelvin, 50)\n",
    "# barostat = None\n",
    "modeller = app.Modeller(pdb.topology, pdb.positions)\n",
    " \n",
    "system_generator = SystemGenerator(forcefields=forcefield_files,\n",
    "                                   barostat=barostat,\n",
    "                                   forcefield_kwargs={'removeCMMotion': False,\n",
    "                                                      'ewaldErrorTolerance': 1e-4,\n",
    "                                                      'constraints': app.HBonds,\n",
    "                                                      'hydrogenMass': 4 * unit.amus},\n",
    "                                   periodic_forcefield_kwargs=None,\n",
    "                                   small_molecule_forcefield='gaff-2.11',\n",
    "                                   nonperiodic_forcefield_kwargs={'nonbondedMethod': app.NoCutoff},\n",
    "                                   molecules=None,\n",
    "                                   cache=None)\n",
    "\n",
    "modeller.addSolvent(system_generator.forcefield, model='tip3p', padding=9*unit.angstroms, ionicStrength=0.15*unit.molar)\n",
    "topology = modeller.getTopology()\n",
    "positions = modeller.getPositions()\n",
    "\n",
    "# Canonicalize the solvated positions: turn tuples into np.array\n",
    "positions = unit.quantity.Quantity(value=np.array([list(atom_pos) for atom_pos in positions.value_in_unit_system(unit.md_unit_system)]), unit=unit.nanometers)\n",
    "system = system_generator.create_system(topology)\n",
    "\n"
   ]
  },
  {
   "cell_type": "code",
   "execution_count": 76,
   "id": "c02ca045",
   "metadata": {},
   "outputs": [],
   "source": [
    "# set nonbonded parameters\n",
    "system.getForce(3).setNonbondedMethod(openmm.NonbondedForce.NoCutoff)\n",
    "# atp.system.getForce(3).setNonbondedMethod(openmm.NonbondedForce.CutoffPeriodic)\n",
    "system.getForce(3).setUseDispersionCorrection(False)\n",
    "for i in range(system.getNumForces()):\n",
    "    if i == 3:\n",
    "        system.getForce(i).setExceptionsUsePeriodicBoundaryConditions(False)\n",
    "    elif i < 3: # do not set PBCs for barostat\n",
    "        system.getForce(i).setUsesPeriodicBoundaryConditions(False)\n",
    "system.removeForce(4) # Remove barostat\n"
   ]
  },
  {
   "cell_type": "code",
   "execution_count": 77,
   "id": "working-blackjack",
   "metadata": {
    "scrolled": true
   },
   "outputs": [
    {
     "name": "stderr",
     "output_type": "stream",
     "text": [
      "2021-06-29 15:04:45,571:(240.13s):proposal_generator:\tConducting polymer point mutation proposal...\n"
     ]
    },
    {
     "name": "stdout",
     "output_type": "stream",
     "text": [
      "Making mutation ALA->CYS\n"
     ]
    },
    {
     "name": "stderr",
     "output_type": "stream",
     "text": [
      "2021-06-29 15:04:46,094:(0.52s):proposal_generator:Using matching_criterion to chose best atom map\n",
      "2021-06-29 15:04:46,099:(0.00s):proposal_generator:Scaffold has symmetry of 0\n",
      "2021-06-29 15:04:46,100:(0.00s):proposal_generator:Two molecules are not similar to have a common scaffold\n",
      "2021-06-29 15:04:46,102:(0.00s):proposal_generator:Proceeding with direct mapping of molecules, but please check atom mapping and the geometry of the ligands.\n",
      "2021-06-29 15:04:46,105:(0.00s):proposal_generator:len [{8: 7}, {9: 7}, {10: 7}, {8: 8}, {9: 8}, {10: 8}, {8: 9}, {9: 9}, {10: 9}]\n",
      "2021-06-29 15:04:46,107:(0.00s):proposal_generator:{8: 7}\n",
      "2021-06-29 15:04:46,108:(0.00s):proposal_generator:{9: 7}\n",
      "2021-06-29 15:04:46,110:(0.00s):proposal_generator:{10: 7}\n",
      "2021-06-29 15:04:46,112:(0.00s):proposal_generator:{8: 8}\n",
      "2021-06-29 15:04:46,114:(0.00s):proposal_generator:{9: 8}\n",
      "2021-06-29 15:04:46,115:(0.00s):proposal_generator:{10: 8}\n",
      "2021-06-29 15:04:46,117:(0.00s):proposal_generator:{8: 9}\n",
      "2021-06-29 15:04:46,119:(0.00s):proposal_generator:{9: 9}\n",
      "2021-06-29 15:04:46,121:(0.00s):proposal_generator:{10: 9}\n",
      "2021-06-29 15:04:46,122:(0.00s):proposal_generator:Returning map that best satisfies matching_criterion\n",
      "2021-06-29 15:04:46,124:(0.00s):proposal_generator:Finding best map using matching_criterion name\n",
      "2021-06-29 15:04:46,126:(0.00s):proposal_generator:{8: 8}\n",
      "2021-06-29 15:04:47,219:(1.09s):geometry:propose: performing forward proposal\n",
      "2021-06-29 15:04:47,221:(0.00s):geometry:propose: unique new atoms detected; proceeding to _logp_propose...\n",
      "2021-06-29 15:04:47,223:(0.00s):geometry:Conducting forward proposal...\n",
      "2021-06-29 15:04:47,225:(0.00s):geometry:Computing proposal order with NetworkX...\n",
      "2021-06-29 15:04:47,232:(0.01s):geometry:number of atoms to be placed: 5\n",
      "2021-06-29 15:04:47,234:(0.00s):geometry:Atom index proposal order is [21, 26, 27, 24, 25]\n",
      "2021-06-29 15:04:47,235:(0.00s):geometry:omitted_bonds: []\n",
      "2021-06-29 15:04:47,237:(0.00s):geometry:direction of proposal is forward; creating atoms_with_positions and new positions from old system/topology...\n",
      "2021-06-29 15:04:47,817:(0.58s):geometry:creating growth system...\n",
      "2021-06-29 15:04:47,918:(0.10s):geometry:\tcreating bond force...\n",
      "2021-06-29 15:04:47,920:(0.00s):geometry:\tthere are 62 bonds in reference force.\n",
      "2021-06-29 15:04:47,922:(0.00s):geometry:\tcreating angle force...\n",
      "2021-06-29 15:04:47,924:(0.00s):geometry:\tthere are 219 angles in reference force.\n",
      "2021-06-29 15:04:47,927:(0.00s):geometry:\tcreating torsion force...\n",
      "2021-06-29 15:04:47,929:(0.00s):geometry:\tcreating extra torsions force...\n",
      "2021-06-29 15:04:47,931:(0.00s):geometry:\tthere are 411 torsions in reference force.\n",
      "2021-06-29 15:04:47,935:(0.00s):geometry:\tcreating nonbonded force...\n",
      "2021-06-29 15:04:47,936:(0.00s):geometry:\t\tgrabbing reference nonbonded method, cutoff, switching function, switching distance...\n",
      "2021-06-29 15:04:47,938:(0.00s):geometry:\t\tcreating nonbonded exception force (i.e. custom bond for 1,4s)...\n",
      "2021-06-29 15:04:47,940:(0.00s):geometry:\t\tlooping through exceptions calculating growth indices, and adding appropriate interactions to custom bond force.\n",
      "2021-06-29 15:04:47,941:(0.00s):geometry:\t\tthere are 6092 in the reference Nonbonded force\n",
      "2021-06-29 15:04:48,052:(0.11s):geometry:\t\t\t\t\tchiral atom <Atom 18 (CA) of chain 0 residue 2 (CYS)> with neighbors [<Atom 19 (C) of chain 0 residue 2 (CYS)>, <Atom 21 (CB) of chain 0 residue 2 (CYS)>, <Atom 23 (HA) of chain 0 residue 2 (CYS)>, <Atom 17 (N) of chain 0 residue 2 (CYS)>] is surrounded by 3 core neighbors.  omitting chirality bias torsion\n",
      "2021-06-29 15:04:48,054:(0.00s):geometry:Neglected angle terms : []\n",
      "2021-06-29 15:04:48,055:(0.00s):geometry:omitted_growth_terms: {'bonds': [], 'angles': [], 'torsions': [], '1,4s': []}\n",
      "2021-06-29 15:04:48,057:(0.00s):geometry:extra torsions: {0: (22, 17, 18, 21, [1, Quantity(value=0.9758309016364826, unit=radian), Quantity(value=1200.0, unit=kilocalorie/mole), 1]), 1: (18, 21, 26, 27, [1, Quantity(value=1.3038335663266725, unit=radian), Quantity(value=1200.0, unit=kilocalorie/mole), 3]), 2: (24, 21, 26, 27, [1, Quantity(value=-2.8294101663369684, unit=radian), Quantity(value=1200.0, unit=kilocalorie/mole), 4]), 3: (25, 21, 26, 27, [1, Quantity(value=-0.8245161738374733, unit=radian), Quantity(value=1200.0, unit=kilocalorie/mole), 5])}\n",
      "2021-06-29 15:04:48,059:(0.00s):geometry:neglected angle terms include []\n",
      "2021-06-29 15:04:48,060:(0.00s):geometry:log probability choice of torsions and atom order: -7.203405521083095\n",
      "2021-06-29 15:04:48,062:(0.00s):geometry:creating platform, integrators, and contexts; setting growth parameter\n"
     ]
    },
    {
     "name": "stdout",
     "output_type": "stream",
     "text": [
      "conducting subsequent work with the following platform: CUDA\n"
     ]
    },
    {
     "name": "stderr",
     "output_type": "stream",
     "text": [
      "2021-06-29 15:04:50,383:(2.32s):geometry:setting atoms_with_positions context new positions\n"
     ]
    },
    {
     "name": "stdout",
     "output_type": "stream",
     "text": [
      "conducting subsequent work with the following platform: CUDA\n"
     ]
    },
    {
     "name": "stderr",
     "output_type": "stream",
     "text": [
      "2021-06-29 15:04:51,351:(0.97s):geometry:There are 5 new atoms\n",
      "2021-06-29 15:04:51,356:(0.00s):geometry:\treduced angle potential = 5.739151797163258.\n",
      "2021-06-29 15:04:51,470:(0.11s):geometry:\treduced angle potential = 0.0021007247391760233.\n",
      "2021-06-29 15:04:51,590:(0.12s):geometry:\treduced angle potential = 0.25482156400760547.\n",
      "2021-06-29 15:04:51,710:(0.12s):geometry:\treduced angle potential = 0.05608533971158456.\n",
      "2021-06-29 15:04:51,829:(0.12s):geometry:\treduced angle potential = 8.441636509354777e-05.\n",
      "2021-06-29 15:04:51,993:(0.16s):geometry:\tbeginning construction of no_nonbonded final system...\n",
      "2021-06-29 15:04:51,996:(0.00s):geometry:\tinitial no-nonbonded final system forces ['HarmonicBondForce', 'HarmonicAngleForce', 'PeriodicTorsionForce', 'NonbondedForce', 'MonteCarloBarostat']\n",
      "2021-06-29 15:04:52,277:(0.28s):geometry:\tfinal no-nonbonded final system forces dict_keys(['HarmonicBondForce', 'HarmonicAngleForce', 'PeriodicTorsionForce', 'NonbondedForce'])\n",
      "2021-06-29 15:04:52,279:(0.00s):geometry:\tthere are 62 bond forces in the no-nonbonded final system\n",
      "2021-06-29 15:04:52,281:(0.00s):geometry:\tthere are 219 angle forces in the no-nonbonded final system\n",
      "2021-06-29 15:04:52,283:(0.00s):geometry:\tthere are 411 torsion forces in the no-nonbonded final system\n",
      "2021-06-29 15:04:52,284:(0.00s):geometry:forward final system defined with 0 neglected angles.\n"
     ]
    },
    {
     "name": "stdout",
     "output_type": "stream",
     "text": [
      "conducting subsequent work with the following platform: CUDA\n",
      "conducting subsequent work with the following platform: CUDA\n"
     ]
    },
    {
     "name": "stderr",
     "output_type": "stream",
     "text": [
      "2021-06-29 15:04:55,872:(3.59s):geometry:total reduced potential before atom placement: 168.3666282628306\n"
     ]
    },
    {
     "name": "stdout",
     "output_type": "stream",
     "text": [
      "conducting subsequent work with the following platform: CUDA\n",
      "conducting subsequent work with the following platform: CUDA\n",
      "conducting subsequent work with the following platform: CUDA\n"
     ]
    },
    {
     "name": "stderr",
     "output_type": "stream",
     "text": [
      "2021-06-29 15:04:58,806:(2.93s):geometry:total reduced energy added from growth system: 437.9109886945792\n",
      "2021-06-29 15:04:58,808:(0.00s):geometry:final reduced energy 606.2776182254253\n",
      "2021-06-29 15:04:58,810:(0.00s):geometry:sum of energies: 606.2776169574098\n",
      "2021-06-29 15:04:58,811:(0.00s):geometry:magnitude of difference in the energies: 1.2680154668487376e-06\n",
      "2021-06-29 15:04:58,813:(0.00s):geometry:Final logp_proposal: 35.187750339386625\n"
     ]
    },
    {
     "name": "stdout",
     "output_type": "stream",
     "text": [
      "added energy components: [('CustomBondForce', 1.19104274639213), ('CustomAngleForce', 217.55830450624475), ('CustomTorsionForce', 14.612193373941837), ('CustomBondForce', 204.54944806800046)]\n"
     ]
    },
    {
     "name": "stderr",
     "output_type": "stream",
     "text": [
      "2021-06-29 15:04:59,034:(0.22s):geometry:logp_reverse: performing reverse proposal\n",
      "2021-06-29 15:04:59,036:(0.00s):geometry:logp_reverse: unique new atoms detected; proceeding to _logp_propose...\n",
      "2021-06-29 15:04:59,037:(0.00s):geometry:Conducting forward proposal...\n",
      "2021-06-29 15:04:59,039:(0.00s):geometry:Computing proposal order with NetworkX...\n",
      "2021-06-29 15:04:59,047:(0.01s):geometry:number of atoms to be placed: 4\n",
      "2021-06-29 15:04:59,049:(0.00s):geometry:Atom index proposal order is [21, 24, 26, 25]\n",
      "2021-06-29 15:04:59,051:(0.00s):geometry:omitted_bonds: []\n",
      "2021-06-29 15:04:59,052:(0.00s):geometry:direction of proposal is reverse; creating atoms_with_positions from old system/topology\n",
      "2021-06-29 15:04:59,546:(0.49s):geometry:creating growth system...\n",
      "2021-06-29 15:04:59,648:(0.10s):geometry:\tcreating bond force...\n",
      "2021-06-29 15:04:59,651:(0.00s):geometry:\tthere are 61 bonds in reference force.\n",
      "2021-06-29 15:04:59,653:(0.00s):geometry:\tcreating angle force...\n",
      "2021-06-29 15:04:59,654:(0.00s):geometry:\tthere are 218 angles in reference force.\n",
      "2021-06-29 15:04:59,658:(0.00s):geometry:\tcreating torsion force...\n",
      "2021-06-29 15:04:59,660:(0.00s):geometry:\tcreating extra torsions force...\n",
      "2021-06-29 15:04:59,661:(0.00s):geometry:\tthere are 399 torsions in reference force.\n",
      "2021-06-29 15:04:59,665:(0.00s):geometry:\tcreating nonbonded force...\n",
      "2021-06-29 15:04:59,667:(0.00s):geometry:\t\tgrabbing reference nonbonded method, cutoff, switching function, switching distance...\n",
      "2021-06-29 15:04:59,668:(0.00s):geometry:\t\tcreating nonbonded exception force (i.e. custom bond for 1,4s)...\n",
      "2021-06-29 15:04:59,670:(0.00s):geometry:\t\tlooping through exceptions calculating growth indices, and adding appropriate interactions to custom bond force.\n",
      "2021-06-29 15:04:59,671:(0.00s):geometry:\t\tthere are 6087 in the reference Nonbonded force\n",
      "2021-06-29 15:04:59,780:(0.11s):geometry:\t\t\t\t\tchiral atom <Atom 18 (CA) of chain 0 residue 2 (ALA)> with neighbors [<Atom 19 (C) of chain 0 residue 2 (ALA)>, <Atom 21 (CB) of chain 0 residue 2 (ALA)>, <Atom 23 (HA) of chain 0 residue 2 (ALA)>, <Atom 17 (N) of chain 0 residue 2 (ALA)>] is surrounded by 3 core neighbors.  omitting chirality bias torsion\n",
      "2021-06-29 15:04:59,782:(0.00s):geometry:Neglected angle terms : []\n",
      "2021-06-29 15:04:59,784:(0.00s):geometry:omitted_growth_terms: {'bonds': [], 'angles': [], 'torsions': [], '1,4s': []}\n",
      "2021-06-29 15:04:59,786:(0.00s):geometry:extra torsions: {0: (22, 17, 18, 21, [1, Quantity(value=0.9799661941737812, unit=radian), Quantity(value=1200.0, unit=kilocalorie/mole), 1]), 1: (17, 18, 21, 24, [1, Quantity(value=2.105358864604291, unit=radian), Quantity(value=1200.0, unit=kilocalorie/mole), 2]), 2: (17, 18, 21, 25, [1, Quantity(value=-2.0823006129211796, unit=radian), Quantity(value=1200.0, unit=kilocalorie/mole), 4]), 3: (17, 18, 21, 26, [1, Quantity(value=0.018582237407944735, unit=radian), Quantity(value=1200.0, unit=kilocalorie/mole), 3]), 4: (19, 18, 21, 24, [1, Quantity(value=-0.036945135932107576, unit=radian), Quantity(value=1200.0, unit=kilocalorie/mole), 2]), 5: (19, 18, 21, 25, [1, Quantity(value=2.0585806937220097, unit=radian), Quantity(value=1200.0, unit=kilocalorie/mole), 4]), 6: (19, 18, 21, 26, [1, Quantity(value=-2.1237217631284597, unit=radian), Quantity(value=1200.0, unit=kilocalorie/mole), 3]), 7: (23, 18, 21, 24, [1, Quantity(value=-2.119603470065817, unit=radian), Quantity(value=1200.0, unit=kilocalorie/mole), 2]), 8: (23, 18, 21, 25, [1, Quantity(value=-0.024077640411697132, unit=radian), Quantity(value=1200.0, unit=kilocalorie/mole), 4]), 9: (23, 18, 21, 26, [1, Quantity(value=2.0768052099174152, unit=radian), Quantity(value=1200.0, unit=kilocalorie/mole), 3])}\n",
      "2021-06-29 15:04:59,787:(0.00s):geometry:neglected angle terms include []\n",
      "2021-06-29 15:04:59,789:(0.00s):geometry:log probability choice of torsions and atom order: -5.78074351579233\n",
      "2021-06-29 15:04:59,790:(0.00s):geometry:creating platform, integrators, and contexts; setting growth parameter\n"
     ]
    },
    {
     "name": "stdout",
     "output_type": "stream",
     "text": [
      "conducting subsequent work with the following platform: CUDA\n"
     ]
    },
    {
     "name": "stderr",
     "output_type": "stream",
     "text": [
      "2021-06-29 15:05:01,528:(1.74s):geometry:setting atoms_with_positions context old positions\n"
     ]
    },
    {
     "name": "stdout",
     "output_type": "stream",
     "text": [
      "conducting subsequent work with the following platform: CUDA\n"
     ]
    },
    {
     "name": "stderr",
     "output_type": "stream",
     "text": [
      "2021-06-29 15:05:02,472:(0.94s):geometry:There are 4 new atoms\n",
      "2021-06-29 15:05:02,476:(0.00s):geometry:\treduced angle potential = 0.017911900159989516.\n",
      "2021-06-29 15:05:02,590:(0.11s):geometry:\treduced angle potential = 9.265637866968462e-06.\n",
      "2021-06-29 15:05:02,702:(0.11s):geometry:\treduced angle potential = 2.233125127093818e-08.\n",
      "2021-06-29 15:05:02,812:(0.11s):geometry:\treduced angle potential = 9.561051668715153e-06.\n",
      "2021-06-29 15:05:02,974:(0.16s):geometry:\tbeginning construction of no_nonbonded final system...\n",
      "2021-06-29 15:05:02,976:(0.00s):geometry:\tinitial no-nonbonded final system forces ['HarmonicBondForce', 'HarmonicAngleForce', 'PeriodicTorsionForce', 'NonbondedForce']\n",
      "2021-06-29 15:05:03,257:(0.28s):geometry:\tfinal no-nonbonded final system forces dict_keys(['HarmonicBondForce', 'HarmonicAngleForce', 'PeriodicTorsionForce', 'NonbondedForce'])\n",
      "2021-06-29 15:05:03,259:(0.00s):geometry:\tthere are 61 bond forces in the no-nonbonded final system\n",
      "2021-06-29 15:05:03,260:(0.00s):geometry:\tthere are 218 angle forces in the no-nonbonded final system\n",
      "2021-06-29 15:05:03,262:(0.00s):geometry:\tthere are 399 torsion forces in the no-nonbonded final system\n",
      "2021-06-29 15:05:03,264:(0.00s):geometry:reverse final system defined with 0 neglected angles.\n"
     ]
    },
    {
     "name": "stdout",
     "output_type": "stream",
     "text": [
      "conducting subsequent work with the following platform: CUDA\n",
      "conducting subsequent work with the following platform: CUDA\n"
     ]
    },
    {
     "name": "stderr",
     "output_type": "stream",
     "text": [
      "2021-06-29 15:05:05,752:(2.49s):geometry:total reduced potential before atom placement: 168.36662826283057\n"
     ]
    },
    {
     "name": "stdout",
     "output_type": "stream",
     "text": [
      "conducting subsequent work with the following platform: CUDA\n",
      "conducting subsequent work with the following platform: CUDA\n",
      "conducting subsequent work with the following platform: CUDA\n"
     ]
    },
    {
     "name": "stderr",
     "output_type": "stream",
     "text": [
      "2021-06-29 15:05:08,421:(2.67s):geometry:total reduced energy added from growth system: 19.11335785388209\n",
      "2021-06-29 15:05:08,422:(0.00s):geometry:final reduced energy 187.47998570143525\n",
      "2021-06-29 15:05:08,423:(0.00s):geometry:sum of energies: 187.47998611671267\n",
      "2021-06-29 15:05:08,423:(0.00s):geometry:magnitude of difference in the energies: 4.1527740890501263e-07\n",
      "2021-06-29 15:05:08,424:(0.00s):geometry:Final logp_proposal: -30393.95753461393\n"
     ]
    },
    {
     "name": "stdout",
     "output_type": "stream",
     "text": [
      "added energy components: [('CustomBondForce', 0.04562463240715887), ('CustomAngleForce', 0.11963264577965825), ('CustomTorsionForce', 7.457414545448549), ('CustomBondForce', 11.490686030246726)]\n"
     ]
    }
   ],
   "source": [
    "from perses.rjmc.topology_proposal import PointMutationEngine\n",
    "from perses.annihilation.relative import RepartitionedHybridTopologyFactory\n",
    "from perses.tests.utils import validate_endstate_energies\n",
    "import random\n",
    "\n",
    "aminos = ['ALA','ARG','ASN','ASP','CYS','GLN','GLU','GLY','HIS','ILE','LEU','LYS','MET','PHE','PRO','SER','THR','TRP','TYR','VAL']\n",
    "\n",
    "ENERGY_THRESHOLD = 1e-6\n",
    "kB = unit.BOLTZMANN_CONSTANT_kB * unit.AVOGADRO_CONSTANT_NA\n",
    "temperature = 300.0 * unit.kelvin\n",
    "kT = kB * temperature\n",
    "beta = 1.0/kT\n",
    "\n",
    "chain = 'C'\n",
    "for res in topology.residues():\n",
    "    if res.id == '2':\n",
    "        wt_res = res.name\n",
    "aminos_updated = [amino for amino in aminos if amino not in [wt_res, 'PRO', 'HIS', 'TRP', 'PHE', 'TYR']]\n",
    "mutant = random.choice(aminos_updated)\n",
    "# mutant = \"MET\"\n",
    "print(f'Making mutation {wt_res}->{mutant}')\n",
    "\n",
    "# Create point mutation engine to mutate residue at id 2 to random amino acid\n",
    "point_mutation_engine = PointMutationEngine(wildtype_topology=topology,\n",
    "                                            system_generator=system_generator,\n",
    "                                            chain_id=chain,\n",
    "                                            max_point_mutants=1,\n",
    "                                            residues_allowed_to_mutate=['2'],  # the residue ids allowed to mutate\n",
    "                                            allowed_mutations=[('2', mutant)],\n",
    "                                            aggregate=True)  # always allow aggregation\n",
    "\n",
    "# Create topology proposal\n",
    "topology_proposal = point_mutation_engine.propose(current_system=system, current_topology=topology)\n",
    "\n",
    "# Create geometry engine\n",
    "from perses.rjmc.geometry import FFAllAngleGeometryEngine\n",
    "geometry_engine = FFAllAngleGeometryEngine(metadata=None,\n",
    "                                           use_sterics=False,\n",
    "                                           n_bond_divisions=100,\n",
    "                                           n_angle_divisions=180,\n",
    "                                           n_torsion_divisions=360,\n",
    "                                           verbose=True,\n",
    "                                           storage=None,\n",
    "                                           bond_softening_constant=1.0,\n",
    "                                           angle_softening_constant=1.0,\n",
    "                                           neglect_angles=False,\n",
    "                                           use_14_nonbondeds=True)\n",
    "\n",
    "# Create geometry proposal\n",
    "new_positions, logp_proposal = geometry_engine.propose(topology_proposal, positions, beta,\n",
    "                                                               validate_energy_bookkeeping=True)\n",
    "logp_reverse = geometry_engine.logp_reverse(topology_proposal, new_positions, positions, beta,\n",
    "                                            validate_energy_bookkeeping=True)\n",
    "\n",
    "if not topology_proposal.unique_new_atoms:\n",
    "    assert geometry_engine.forward_final_context_reduced_potential == None, f\"There are no unique new atoms but the geometry_engine's final context reduced potential is not None (i.e. {self._geometry_engine.forward_final_context_reduced_potential})\"\n",
    "    assert geometry_engine.forward_atoms_with_positions_reduced_potential == None, f\"There are no unique new atoms but the geometry_engine's forward atoms-with-positions-reduced-potential in not None (i.e. { self._geometry_engine.forward_atoms_with_positions_reduced_potential})\"\n",
    "    vacuum_added_valence_energy = 0.0\n",
    "else:\n",
    "    added_valence_energy = geometry_engine.forward_final_context_reduced_potential - geometry_engine.forward_atoms_with_positions_reduced_potential\n",
    "\n",
    "if not topology_proposal.unique_old_atoms:\n",
    "    assert geometry_engine.reverse_final_context_reduced_potential == None, f\"There are no unique old atoms but the geometry_engine's final context reduced potential is not None (i.e. {self._geometry_engine.reverse_final_context_reduced_potential})\"\n",
    "    assert geometry_engine.reverse_atoms_with_positions_reduced_potential == None, f\"There are no unique old atoms but the geometry_engine's atoms-with-positions-reduced-potential in not None (i.e. { self._geometry_engine.reverse_atoms_with_positions_reduced_potential})\"\n",
    "    subtracted_valence_energy = 0.0\n",
    "else:\n",
    "    subtracted_valence_energy = geometry_engine.reverse_final_context_reduced_potential - geometry_engine.reverse_atoms_with_positions_reduced_potential\n"
   ]
  },
  {
   "cell_type": "code",
   "execution_count": 78,
   "id": "visible-mistress",
   "metadata": {
    "scrolled": true
   },
   "outputs": [
    {
     "name": "stderr",
     "output_type": "stream",
     "text": [
      "2021-06-29 15:05:08,693:(0.27s):relative:*** Generating RxnHybridTopologyFactory ***\n",
      "2021-06-29 15:05:08,694:(0.00s):relative:Beginning nonbonded method, total particle, barostat, and exceptions retrieval...\n",
      "2021-06-29 15:05:08,842:(0.15s):relative:Old system forces: dict_keys(['HarmonicBondForce', 'HarmonicAngleForce', 'PeriodicTorsionForce', 'NonbondedForce'])\n",
      "2021-06-29 15:05:08,844:(0.00s):relative:New system forces: dict_keys(['HarmonicBondForce', 'HarmonicAngleForce', 'PeriodicTorsionForce', 'NonbondedForce', 'MonteCarloBarostat'])\n",
      "2021-06-29 15:05:08,846:(0.00s):relative:No unknown forces.\n",
      "2021-06-29 15:05:08,847:(0.00s):relative:Nonbonded method to be used (i.e. from old system): 0\n",
      "2021-06-29 15:05:08,849:(0.00s):relative:Adding and mapping old atoms to hybrid system...\n",
      "2021-06-29 15:05:08,895:(0.05s):relative:Adding and mapping new atoms to hybrid system...\n",
      "2021-06-29 15:05:08,897:(0.00s):relative:scale_templates: [['nonscale_lambda'], ['nonscale_region']]\n",
      "2021-06-29 15:05:08,899:(0.00s):relative:particle (nonbonded) scale_templates: [['nonscale_lambda'], ['nonscale_region1'], ['nonscale_region2']]\n",
      "2021-06-29 15:05:08,900:(0.00s):relative:No MonteCarloBarostat added.\n",
      "2021-06-29 15:05:08,902:(0.00s):relative:getDefaultPeriodicBoxVectors added to hybrid: [Quantity(value=Vec3(x=3.9005, y=0.0, z=0.0), unit=nanometer), Quantity(value=Vec3(x=0.0, y=3.9005, z=0.0), unit=nanometer), Quantity(value=Vec3(x=0.0, y=0.0, z=3.9005), unit=nanometer)]\n",
      "2021-06-29 15:05:08,906:(0.00s):relative:Determined atom classes.\n",
      "2021-06-29 15:05:08,908:(0.00s):relative:Generating old system exceptions dict...\n",
      "2021-06-29 15:05:08,937:(0.03s):relative:Generating new system exceptions dict...\n",
      "2021-06-29 15:05:09,143:(0.21s):relative:Handling constraints...\n",
      "2021-06-29 15:05:09,249:(0.11s):relative:Handling virtual sites...\n",
      "2021-06-29 15:05:09,254:(0.01s):relative:\t_handle_virtual_sites: numVirtualSites: 0\n"
     ]
    }
   ],
   "source": [
    "from perses.annihilation.relative import RxnHybridTopologyFactory\n",
    "flatten_exceptions = True\n",
    "flatten_torsions = True\n",
    "endstate = None\n",
    "scale_regions = None\n",
    "htf = RxnHybridTopologyFactory(topology_proposal=topology_proposal,\n",
    "                     current_positions=positions,\n",
    "                     new_positions=new_positions,\n",
    "                     use_dispersion_correction=False,\n",
    "                     functions=None,\n",
    "                     softcore_alpha=None,\n",
    "                     bond_softening_constant=1.0,\n",
    "                     angle_softening_constant=1.0,\n",
    "                     soften_only_new=False,\n",
    "                     neglected_new_angle_terms=[],\n",
    "                     neglected_old_angle_terms=[],\n",
    "                     softcore_LJ_v2=True,\n",
    "                     softcore_electrostatics=True,\n",
    "                     softcore_LJ_v2_alpha=0.85,\n",
    "                     softcore_electrostatics_alpha=0.3,\n",
    "                     softcore_sigma_Q=1.0,\n",
    "                     interpolate_old_and_new_14s=flatten_exceptions,\n",
    "                     omitted_terms=None,\n",
    "                     flatten_torsions=flatten_torsions,\n",
    "                     scale_regions=scale_regions,\n",
    "                    generate_htf_for_testing=True)"
   ]
  },
  {
   "cell_type": "code",
   "execution_count": 79,
   "id": "5d8d80c8",
   "metadata": {},
   "outputs": [],
   "source": [
    "\n",
    "htf._topology_proposal.new_system.getForce(3).setNonbondedMethod(openmm.NonbondedForce.NoCutoff)\n",
    "htf._topology_proposal.new_system.getForce(3).setUseDispersionCorrection(False)\n",
    "htf._topology_proposal.new_system.removeForce(4) # Remove barostat\n"
   ]
  },
  {
   "cell_type": "code",
   "execution_count": 80,
   "id": "004f2d2b",
   "metadata": {},
   "outputs": [],
   "source": [
    "# Load htf\n",
    "with open(\"/home/zhangi/choderalab/perses_benchmark/perses_protein_mutations/code/26_rxn_field/8mer_solvent.pickle\", \"wb\") as f:\n",
    "    pickle.dump(htf, f)"
   ]
  },
  {
   "cell_type": "markdown",
   "id": "spiritual-pension",
   "metadata": {},
   "source": [
    "### Test one alchemical region, no scale regions"
   ]
  },
  {
   "cell_type": "markdown",
   "id": "established-handy",
   "metadata": {},
   "source": [
    "#### Old system HarmonicBondForce vs hybrid system CustomBondForce"
   ]
  },
  {
   "cell_type": "code",
   "execution_count": 81,
   "id": "accessory-spectrum",
   "metadata": {},
   "outputs": [],
   "source": [
    "# Load htf\n",
    "with open(\"/home/zhangi/choderalab/perses_benchmark/perses_protein_mutations/code/26_rxn_field/8mer_solvent.pickle\", \"rb\") as f:\n",
    "    htf = pickle.load(f)"
   ]
  },
  {
   "cell_type": "code",
   "execution_count": 82,
   "id": "32839d52",
   "metadata": {
    "scrolled": false
   },
   "outputs": [
    {
     "name": "stdout",
     "output_type": "stream",
     "text": [
      "Warning: Returning CPU platform instead of requested platform <simtk.openmm.openmm.Platform; proxy of <Swig Object of type 'OpenMM::Platform *' at 0x2b5a4ae196c0> >\n",
      "conducting subsequent work with the following platform: CPU\n",
      "conducting subsequent work with the following platform: CUDA\n",
      "[('HarmonicBondForce', 7.300105424153174), ('HarmonicAngleForce', 12.445685055931849), ('PeriodicTorsionForce', 156.24350906389375), ('NonbondedForce', -28626.686752216232), ('AndersenThermostat', 0.0)]\n",
      "conducting subsequent work with the following platform: CUDA\n",
      "[('CustomBondForce', 8.491148170545303), ('CustomAngleForce', 230.00398956217666), ('CustomTorsionForce', 156.24351836067592), ('CustomNonbondedForce', -29262.59433545261), ('CustomNonbondedForce', 4513.45654351265), ('CustomBondForce', 635.907909782493), ('CustomBondForce', 56.047220181697135), ('AndersenThermostat', 0.0)]\n",
      "Success! Custom nb force and standard nb force electrostatics energies are equal!\n"
     ]
    }
   ],
   "source": [
    "test_nb_energies(htf, is_solvated=True)"
   ]
  },
  {
   "cell_type": "code",
   "execution_count": 83,
   "id": "0523cf81",
   "metadata": {},
   "outputs": [],
   "source": [
    "# Load htf\n",
    "with open(\"/home/zhangi/choderalab/perses_benchmark/perses_protein_mutations/code/26_rxn_field/8mer_solvent.pickle\", \"rb\") as f:\n",
    "    htf = pickle.load(f)"
   ]
  },
  {
   "cell_type": "code",
   "execution_count": 84,
   "id": "4e411dda",
   "metadata": {},
   "outputs": [
    {
     "name": "stdout",
     "output_type": "stream",
     "text": [
      "Warning: Returning CPU platform instead of requested platform <simtk.openmm.openmm.Platform; proxy of <Swig Object of type 'OpenMM::Platform *' at 0x2b5a4ae196c0> >\n",
      "conducting subsequent work with the following platform: CPU\n",
      "conducting subsequent work with the following platform: CUDA\n",
      "[('HarmonicBondForce', 7.300105424153174), ('HarmonicAngleForce', 12.445685055931849), ('PeriodicTorsionForce', 156.24350906389375), ('NonbondedForce', 4569.503982925087), ('AndersenThermostat', 0.0)]\n",
      "conducting subsequent work with the following platform: CUDA\n",
      "[('CustomBondForce', 8.491148170545303), ('CustomAngleForce', 230.00398956217666), ('CustomTorsionForce', 156.24351836067592), ('CustomNonbondedForce', -29262.59433545261), ('CustomNonbondedForce', 4513.45654351265), ('CustomBondForce', 635.907909782493), ('CustomBondForce', 56.047220181697135), ('AndersenThermostat', 0.0)]\n",
      "Success! Custom nb force and standard nb force sterics energies are equal!\n"
     ]
    }
   ],
   "source": [
    "test_nb_energies(htf, is_electrostatics=False, is_solvated=True)"
   ]
  },
  {
   "cell_type": "markdown",
   "id": "southeast-norwegian",
   "metadata": {},
   "source": [
    "#### New system HarmonicBondForce vs hybrid system CustomBondForce"
   ]
  },
  {
   "cell_type": "code",
   "execution_count": 85,
   "id": "after-medicaid",
   "metadata": {},
   "outputs": [],
   "source": [
    "# Load htf\n",
    "with open(\"/home/zhangi/choderalab/perses_benchmark/perses_protein_mutations/code/26_rxn_field/8mer_solvent.pickle\", \"rb\") as f:\n",
    "    htf = pickle.load(f)\n"
   ]
  },
  {
   "cell_type": "code",
   "execution_count": 86,
   "id": "protected-playing",
   "metadata": {
    "scrolled": false
   },
   "outputs": [
    {
     "name": "stdout",
     "output_type": "stream",
     "text": [
      "Warning: Returning CPU platform instead of requested platform <simtk.openmm.openmm.Platform; proxy of <Swig Object of type 'OpenMM::Platform *' at 0x2b5a4ae196c0> >\n",
      "conducting subsequent work with the following platform: CPU\n",
      "conducting subsequent work with the following platform: CUDA\n",
      "[('HarmonicBondForce', 8.445523538138145), ('HarmonicAngleForce', 229.88435691639694), ('PeriodicTorsionForce', 163.39828800693036), ('NonbondedForce', -28578.34070560514), ('AndersenThermostat', 0.0)]\n",
      "conducting subsequent work with the following platform: CUDA\n",
      "[('CustomBondForce', 8.491148170545303), ('CustomAngleForce', 230.00398956217666), ('CustomTorsionForce', 156.24351836067592), ('CustomNonbondedForce', -29214.24475358768), ('CustomNonbondedForce', 4513.45654351265), ('CustomBondForce', 635.9043718488828), ('CustomBondForce', 56.047220181697135), ('AndersenThermostat', 0.0)]\n",
      "Success! Custom nb force and standard nb force electrostatics energies are equal!\n"
     ]
    }
   ],
   "source": [
    "test_nb_energies(htf, is_old=False, is_solvated=True)"
   ]
  },
  {
   "cell_type": "code",
   "execution_count": 87,
   "id": "9c5c8664",
   "metadata": {},
   "outputs": [],
   "source": [
    "# Load htf\n",
    "with open(\"/home/zhangi/choderalab/perses_benchmark/perses_protein_mutations/code/26_rxn_field/8mer_solvent.pickle\", \"rb\") as f:\n",
    "    htf = pickle.load(f)\n"
   ]
  },
  {
   "cell_type": "code",
   "execution_count": 88,
   "id": "6db9ec0b",
   "metadata": {
    "scrolled": false
   },
   "outputs": [
    {
     "name": "stdout",
     "output_type": "stream",
     "text": [
      "Warning: Returning CPU platform instead of requested platform <simtk.openmm.openmm.Platform; proxy of <Swig Object of type 'OpenMM::Platform *' at 0x2b5a4ae196c0> >\n",
      "conducting subsequent work with the following platform: CPU\n",
      "conducting subsequent work with the following platform: CUDA\n",
      "[('HarmonicBondForce', 8.445523538138145), ('HarmonicAngleForce', 229.88435691639694), ('PeriodicTorsionForce', 163.39828800693036), ('NonbondedForce', 33209.110127626715), ('AndersenThermostat', 0.0)]\n",
      "conducting subsequent work with the following platform: CUDA\n",
      "[('CustomBondForce', 8.491148170545303), ('CustomAngleForce', 230.00398956217666), ('CustomTorsionForce', 156.24351836067592), ('CustomNonbondedForce', -29262.59433545261), ('CustomNonbondedForce', 32959.76599486748), ('CustomBondForce', 635.907909782493), ('CustomBondForce', 249.34408557416174), ('AndersenThermostat', 0.0)]\n",
      "Success! Custom nb force and standard nb force sterics energies are equal!\n"
     ]
    }
   ],
   "source": [
    "test_nb_energies(htf, is_electrostatics=False, is_old=False, is_solvated=True)"
   ]
  },
  {
   "cell_type": "markdown",
   "id": "intellectual-pennsylvania",
   "metadata": {},
   "source": [
    "### Test one alchemical region, one scale region"
   ]
  },
  {
   "cell_type": "code",
   "execution_count": 89,
   "id": "4e12fd1c",
   "metadata": {},
   "outputs": [],
   "source": [
    "import os\n",
    "from pkg_resources import resource_filename\n",
    "from perses.app import setup_relative_calculation\n",
    "import pickle\n",
    "from simtk import openmm, unit\n",
    "from simtk.openmm import app\n",
    "from openmmforcefields.generators import SystemGenerator\n",
    "import numpy as np"
   ]
  },
  {
   "cell_type": "code",
   "execution_count": 198,
   "id": "12142255",
   "metadata": {},
   "outputs": [],
   "source": [
    "# Test 8-mer peptide in solvent\n",
    "peptide_filename = resource_filename('perses', 'data/8mer-example/4zuh_peptide_capped.pdb')\n",
    "pdb = app.PDBFile(peptide_filename)\n",
    "forcefield_files = ['amber14/protein.ff14SB.xml', 'amber14/tip3p.xml']\n",
    "barostat = openmm.MonteCarloBarostat(1.0 * unit.atmosphere, 300 * unit.kelvin, 50)\n",
    "# barostat = None\n",
    "modeller = app.Modeller(pdb.topology, pdb.positions)\n",
    " \n",
    "system_generator = SystemGenerator(forcefields=forcefield_files,\n",
    "                                   barostat=barostat,\n",
    "                                   forcefield_kwargs={'removeCMMotion': False,\n",
    "                                                      'ewaldErrorTolerance': 1e-4,\n",
    "                                                      'constraints': app.HBonds,\n",
    "                                                      'hydrogenMass': 4 * unit.amus},\n",
    "                                   periodic_forcefield_kwargs=None,\n",
    "                                   small_molecule_forcefield='gaff-2.11',\n",
    "                                   nonperiodic_forcefield_kwargs={'nonbondedMethod': app.NoCutoff},\n",
    "                                   molecules=None,\n",
    "                                   cache=None)\n",
    "\n",
    "modeller.addSolvent(system_generator.forcefield, model='tip3p', padding=9*unit.angstroms, ionicStrength=0.15*unit.molar)\n",
    "topology = modeller.getTopology()\n",
    "positions = modeller.getPositions()\n",
    "\n",
    "# Canonicalize the solvated positions: turn tuples into np.array\n",
    "positions = unit.quantity.Quantity(value=np.array([list(atom_pos) for atom_pos in positions.value_in_unit_system(unit.md_unit_system)]), unit=unit.nanometers)\n",
    "system = system_generator.create_system(topology)\n",
    "\n"
   ]
  },
  {
   "cell_type": "code",
   "execution_count": 199,
   "id": "7660b44f",
   "metadata": {},
   "outputs": [],
   "source": [
    "# set nonbonded parameters\n",
    "system.getForce(3).setNonbondedMethod(openmm.NonbondedForce.NoCutoff)\n",
    "system.getForce(3).setUseDispersionCorrection(False)\n",
    "for i in range(system.getNumForces()):\n",
    "    if i == 3:\n",
    "        system.getForce(i).setExceptionsUsePeriodicBoundaryConditions(False)\n",
    "    elif i < 3: # do not set PBCs for barostat\n",
    "        system.getForce(i).setUsesPeriodicBoundaryConditions(False)\n",
    "system.removeForce(4) # Remove barostat\n"
   ]
  },
  {
   "cell_type": "code",
   "execution_count": 200,
   "id": "dd6352bf",
   "metadata": {
    "scrolled": true
   },
   "outputs": [
    {
     "name": "stderr",
     "output_type": "stream",
     "text": [
      "2021-06-29 17:13:34,498:(117.93s):proposal_generator:\tConducting polymer point mutation proposal...\n"
     ]
    },
    {
     "name": "stdout",
     "output_type": "stream",
     "text": [
      "Making mutation ALA->ASN\n"
     ]
    },
    {
     "name": "stderr",
     "output_type": "stream",
     "text": [
      "2021-06-29 17:13:34,886:(0.39s):proposal_generator:Using matching_criterion to chose best atom map\n",
      "2021-06-29 17:13:34,890:(0.00s):proposal_generator:Scaffold has symmetry of 0\n",
      "2021-06-29 17:13:34,892:(0.00s):proposal_generator:Two molecules are not similar to have a common scaffold\n",
      "2021-06-29 17:13:34,894:(0.00s):proposal_generator:Proceeding with direct mapping of molecules, but please check atom mapping and the geometry of the ligands.\n",
      "2021-06-29 17:13:34,897:(0.00s):proposal_generator:len [{10: 7}, {11: 7}, {12: 7}, {13: 7}, {10: 8}, {11: 8}, {12: 8}, {13: 8}, {10: 9}, {11: 9}, {12: 9}, {13: 9}]\n",
      "2021-06-29 17:13:34,899:(0.00s):proposal_generator:{10: 7}\n",
      "2021-06-29 17:13:34,901:(0.00s):proposal_generator:{11: 7}\n",
      "2021-06-29 17:13:34,903:(0.00s):proposal_generator:{12: 7}\n",
      "2021-06-29 17:13:34,905:(0.00s):proposal_generator:{13: 7}\n",
      "2021-06-29 17:13:34,907:(0.00s):proposal_generator:{10: 8}\n",
      "2021-06-29 17:13:34,909:(0.00s):proposal_generator:{11: 8}\n",
      "2021-06-29 17:13:34,910:(0.00s):proposal_generator:{12: 8}\n",
      "2021-06-29 17:13:34,912:(0.00s):proposal_generator:{13: 8}\n",
      "2021-06-29 17:13:34,914:(0.00s):proposal_generator:{10: 9}\n",
      "2021-06-29 17:13:34,916:(0.00s):proposal_generator:{11: 9}\n",
      "2021-06-29 17:13:34,918:(0.00s):proposal_generator:{12: 9}\n",
      "2021-06-29 17:13:34,920:(0.00s):proposal_generator:{13: 9}\n",
      "2021-06-29 17:13:34,921:(0.00s):proposal_generator:Returning map that best satisfies matching_criterion\n",
      "2021-06-29 17:13:34,922:(0.00s):proposal_generator:Finding best map using matching_criterion name\n",
      "2021-06-29 17:13:34,923:(0.00s):proposal_generator:{10: 7}\n",
      "2021-06-29 17:13:35,950:(1.03s):geometry:propose: performing forward proposal\n",
      "2021-06-29 17:13:35,952:(0.00s):geometry:propose: unique new atoms detected; proceeding to _logp_propose...\n",
      "2021-06-29 17:13:35,954:(0.00s):geometry:Conducting forward proposal...\n",
      "2021-06-29 17:13:35,955:(0.00s):geometry:Computing proposal order with NetworkX...\n",
      "2021-06-29 17:13:35,963:(0.01s):geometry:number of atoms to be placed: 8\n",
      "2021-06-29 17:13:35,964:(0.00s):geometry:Atom index proposal order is [21, 26, 28, 27, 25, 24, 30, 29]\n",
      "2021-06-29 17:13:35,966:(0.00s):geometry:omitted_bonds: []\n",
      "2021-06-29 17:13:35,967:(0.00s):geometry:direction of proposal is forward; creating atoms_with_positions and new positions from old system/topology...\n",
      "2021-06-29 17:13:36,629:(0.66s):geometry:creating growth system...\n",
      "2021-06-29 17:13:36,734:(0.11s):geometry:\tcreating bond force...\n",
      "2021-06-29 17:13:36,736:(0.00s):geometry:\tthere are 64 bonds in reference force.\n",
      "2021-06-29 17:13:36,739:(0.00s):geometry:\tcreating angle force...\n",
      "2021-06-29 17:13:36,740:(0.00s):geometry:\tthere are 224 angles in reference force.\n",
      "2021-06-29 17:13:36,744:(0.00s):geometry:\tcreating torsion force...\n",
      "2021-06-29 17:13:36,746:(0.00s):geometry:\tcreating extra torsions force...\n",
      "2021-06-29 17:13:36,747:(0.00s):geometry:\tthere are 421 torsions in reference force.\n",
      "2021-06-29 17:13:36,752:(0.01s):geometry:\tcreating nonbonded force...\n",
      "2021-06-29 17:13:36,754:(0.00s):geometry:\t\tgrabbing reference nonbonded method, cutoff, switching function, switching distance...\n",
      "2021-06-29 17:13:36,755:(0.00s):geometry:\t\tcreating nonbonded exception force (i.e. custom bond for 1,4s)...\n",
      "2021-06-29 17:13:36,757:(0.00s):geometry:\t\tlooping through exceptions calculating growth indices, and adding appropriate interactions to custom bond force.\n",
      "2021-06-29 17:13:36,759:(0.00s):geometry:\t\tthere are 6107 in the reference Nonbonded force\n",
      "2021-06-29 17:13:36,872:(0.11s):geometry:\t\t\t\t\tchiral atom <Atom 18 (CA) of chain 0 residue 2 (ASN)> with neighbors [<Atom 19 (C) of chain 0 residue 2 (ASN)>, <Atom 21 (CB) of chain 0 residue 2 (ASN)>, <Atom 23 (HA) of chain 0 residue 2 (ASN)>, <Atom 17 (N) of chain 0 residue 2 (ASN)>] is surrounded by 3 core neighbors.  omitting chirality bias torsion\n",
      "2021-06-29 17:13:36,874:(0.00s):geometry:Neglected angle terms : []\n",
      "2021-06-29 17:13:36,876:(0.00s):geometry:omitted_growth_terms: {'bonds': [], 'angles': [], 'torsions': [], '1,4s': []}\n",
      "2021-06-29 17:13:36,877:(0.00s):geometry:extra torsions: {0: (22, 17, 18, 21, [1, Quantity(value=1.0033542268906723, unit=radian), Quantity(value=1200.0, unit=kilocalorie/mole), 1]), 1: (30, 28, 26, 21, [1, Quantity(value=-3.0613628096248338, unit=radian), Quantity(value=1200.0, unit=kilocalorie/mole), 7]), 2: (30, 28, 26, 27, [1, Quantity(value=0.1006962644006828, unit=radian), Quantity(value=1200.0, unit=kilocalorie/mole), 7]), 3: (29, 28, 26, 21, [1, Quantity(value=-0.163557181151619, unit=radian), Quantity(value=1200.0, unit=kilocalorie/mole), 8]), 4: (29, 28, 26, 27, [1, Quantity(value=2.998501892873897, unit=radian), Quantity(value=1200.0, unit=kilocalorie/mole), 8])}\n",
      "2021-06-29 17:13:36,879:(0.00s):geometry:neglected angle terms include []\n",
      "2021-06-29 17:13:36,881:(0.00s):geometry:log probability choice of torsions and atom order: -9.400630098419315\n",
      "2021-06-29 17:13:36,882:(0.00s):geometry:creating platform, integrators, and contexts; setting growth parameter\n"
     ]
    },
    {
     "name": "stdout",
     "output_type": "stream",
     "text": [
      "conducting subsequent work with the following platform: CUDA\n"
     ]
    },
    {
     "name": "stderr",
     "output_type": "stream",
     "text": [
      "2021-06-29 17:13:38,227:(1.35s):geometry:setting atoms_with_positions context new positions\n"
     ]
    },
    {
     "name": "stdout",
     "output_type": "stream",
     "text": [
      "conducting subsequent work with the following platform: CUDA\n"
     ]
    },
    {
     "name": "stderr",
     "output_type": "stream",
     "text": [
      "2021-06-29 17:13:39,161:(0.93s):geometry:There are 8 new atoms\n",
      "2021-06-29 17:13:39,166:(0.01s):geometry:\treduced angle potential = 0.1033981545737146.\n",
      "2021-06-29 17:13:39,282:(0.12s):geometry:\treduced angle potential = 0.15042487788115688.\n",
      "2021-06-29 17:13:39,394:(0.11s):geometry:\treduced angle potential = 0.06641002210360177.\n",
      "2021-06-29 17:13:39,506:(0.11s):geometry:\treduced angle potential = 0.3573296917931786.\n",
      "2021-06-29 17:13:39,622:(0.12s):geometry:\treduced angle potential = 0.1407057903631681.\n",
      "2021-06-29 17:13:39,739:(0.12s):geometry:\treduced angle potential = 1.2697782001912348.\n",
      "2021-06-29 17:13:39,857:(0.12s):geometry:\treduced angle potential = 0.21302033826454506.\n",
      "2021-06-29 17:13:39,976:(0.12s):geometry:\treduced angle potential = 1.3693302992189103.\n",
      "2021-06-29 17:13:40,145:(0.17s):geometry:\tbeginning construction of no_nonbonded final system...\n",
      "2021-06-29 17:13:40,147:(0.00s):geometry:\tinitial no-nonbonded final system forces ['HarmonicBondForce', 'HarmonicAngleForce', 'PeriodicTorsionForce', 'NonbondedForce', 'MonteCarloBarostat']\n",
      "2021-06-29 17:13:40,426:(0.28s):geometry:\tfinal no-nonbonded final system forces dict_keys(['HarmonicBondForce', 'HarmonicAngleForce', 'PeriodicTorsionForce', 'NonbondedForce'])\n",
      "2021-06-29 17:13:40,428:(0.00s):geometry:\tthere are 64 bond forces in the no-nonbonded final system\n",
      "2021-06-29 17:13:40,429:(0.00s):geometry:\tthere are 224 angle forces in the no-nonbonded final system\n",
      "2021-06-29 17:13:40,431:(0.00s):geometry:\tthere are 421 torsion forces in the no-nonbonded final system\n",
      "2021-06-29 17:13:40,433:(0.00s):geometry:forward final system defined with 0 neglected angles.\n"
     ]
    },
    {
     "name": "stdout",
     "output_type": "stream",
     "text": [
      "conducting subsequent work with the following platform: CUDA\n",
      "conducting subsequent work with the following platform: CUDA\n"
     ]
    },
    {
     "name": "stderr",
     "output_type": "stream",
     "text": [
      "2021-06-29 17:13:42,654:(2.22s):geometry:total reduced potential before atom placement: 168.36662826271774\n"
     ]
    },
    {
     "name": "stdout",
     "output_type": "stream",
     "text": [
      "conducting subsequent work with the following platform: CUDA\n",
      "conducting subsequent work with the following platform: CUDA\n",
      "conducting subsequent work with the following platform: CUDA\n"
     ]
    },
    {
     "name": "stderr",
     "output_type": "stream",
     "text": [
      "2021-06-29 17:13:44,832:(2.18s):geometry:total reduced energy added from growth system: 380.0237644382227\n",
      "2021-06-29 17:13:44,834:(0.00s):geometry:final reduced energy 548.3903815596589\n",
      "2021-06-29 17:13:44,835:(0.00s):geometry:sum of energies: 548.3903927009404\n",
      "2021-06-29 17:13:44,837:(0.00s):geometry:magnitude of difference in the energies: 1.1141281618165522e-05\n",
      "2021-06-29 17:13:44,838:(0.00s):geometry:Final logp_proposal: 60.05464945320608\n"
     ]
    },
    {
     "name": "stdout",
     "output_type": "stream",
     "text": [
      "added energy components: [('CustomBondForce', 5.697757578579547), ('CustomAngleForce', 297.1817634820762), ('CustomTorsionForce', 29.45112980443776), ('CustomBondForce', 47.69311357312923)]\n"
     ]
    },
    {
     "name": "stderr",
     "output_type": "stream",
     "text": [
      "2021-06-29 17:13:45,066:(0.23s):geometry:logp_reverse: performing reverse proposal\n",
      "2021-06-29 17:13:45,067:(0.00s):geometry:logp_reverse: unique new atoms detected; proceeding to _logp_propose...\n",
      "2021-06-29 17:13:45,069:(0.00s):geometry:Conducting forward proposal...\n",
      "2021-06-29 17:13:45,070:(0.00s):geometry:Computing proposal order with NetworkX...\n",
      "2021-06-29 17:13:45,079:(0.01s):geometry:number of atoms to be placed: 4\n",
      "2021-06-29 17:13:45,081:(0.00s):geometry:Atom index proposal order is [21, 25, 26, 24]\n",
      "2021-06-29 17:13:45,082:(0.00s):geometry:omitted_bonds: []\n",
      "2021-06-29 17:13:45,083:(0.00s):geometry:direction of proposal is reverse; creating atoms_with_positions from old system/topology\n",
      "2021-06-29 17:13:45,668:(0.59s):geometry:creating growth system...\n",
      "2021-06-29 17:13:45,769:(0.10s):geometry:\tcreating bond force...\n",
      "2021-06-29 17:13:45,771:(0.00s):geometry:\tthere are 61 bonds in reference force.\n",
      "2021-06-29 17:13:45,773:(0.00s):geometry:\tcreating angle force...\n",
      "2021-06-29 17:13:45,775:(0.00s):geometry:\tthere are 218 angles in reference force.\n",
      "2021-06-29 17:13:45,779:(0.00s):geometry:\tcreating torsion force...\n",
      "2021-06-29 17:13:45,780:(0.00s):geometry:\tcreating extra torsions force...\n",
      "2021-06-29 17:13:45,782:(0.00s):geometry:\tthere are 399 torsions in reference force.\n",
      "2021-06-29 17:13:45,786:(0.00s):geometry:\tcreating nonbonded force...\n",
      "2021-06-29 17:13:45,787:(0.00s):geometry:\t\tgrabbing reference nonbonded method, cutoff, switching function, switching distance...\n",
      "2021-06-29 17:13:45,789:(0.00s):geometry:\t\tcreating nonbonded exception force (i.e. custom bond for 1,4s)...\n",
      "2021-06-29 17:13:45,791:(0.00s):geometry:\t\tlooping through exceptions calculating growth indices, and adding appropriate interactions to custom bond force.\n",
      "2021-06-29 17:13:45,792:(0.00s):geometry:\t\tthere are 6087 in the reference Nonbonded force\n",
      "2021-06-29 17:13:45,898:(0.11s):geometry:\t\t\t\t\tchiral atom <Atom 18 (CA) of chain 0 residue 2 (ALA)> with neighbors [<Atom 19 (C) of chain 0 residue 2 (ALA)>, <Atom 21 (CB) of chain 0 residue 2 (ALA)>, <Atom 23 (HA) of chain 0 residue 2 (ALA)>, <Atom 17 (N) of chain 0 residue 2 (ALA)>] is surrounded by 3 core neighbors.  omitting chirality bias torsion\n",
      "2021-06-29 17:13:45,900:(0.00s):geometry:Neglected angle terms : []\n",
      "2021-06-29 17:13:45,901:(0.00s):geometry:omitted_growth_terms: {'bonds': [], 'angles': [], 'torsions': [], '1,4s': []}\n",
      "2021-06-29 17:13:45,903:(0.00s):geometry:extra torsions: {0: (22, 17, 18, 21, [1, Quantity(value=0.9799661941737812, unit=radian), Quantity(value=1200.0, unit=kilocalorie/mole), 1]), 1: (17, 18, 21, 24, [1, Quantity(value=2.105358864604291, unit=radian), Quantity(value=1200.0, unit=kilocalorie/mole), 4]), 2: (17, 18, 21, 25, [1, Quantity(value=-2.0823006129211796, unit=radian), Quantity(value=1200.0, unit=kilocalorie/mole), 2]), 3: (17, 18, 21, 26, [1, Quantity(value=0.018582237407944735, unit=radian), Quantity(value=1200.0, unit=kilocalorie/mole), 3]), 4: (19, 18, 21, 24, [1, Quantity(value=-0.036945135932107576, unit=radian), Quantity(value=1200.0, unit=kilocalorie/mole), 4]), 5: (19, 18, 21, 25, [1, Quantity(value=2.0585806937220097, unit=radian), Quantity(value=1200.0, unit=kilocalorie/mole), 2]), 6: (19, 18, 21, 26, [1, Quantity(value=-2.1237217631284597, unit=radian), Quantity(value=1200.0, unit=kilocalorie/mole), 3]), 7: (23, 18, 21, 24, [1, Quantity(value=-2.119603470065817, unit=radian), Quantity(value=1200.0, unit=kilocalorie/mole), 4]), 8: (23, 18, 21, 25, [1, Quantity(value=-0.024077640411697132, unit=radian), Quantity(value=1200.0, unit=kilocalorie/mole), 2]), 9: (23, 18, 21, 26, [1, Quantity(value=2.0768052099174152, unit=radian), Quantity(value=1200.0, unit=kilocalorie/mole), 3])}\n",
      "2021-06-29 17:13:45,905:(0.00s):geometry:neglected angle terms include []\n",
      "2021-06-29 17:13:45,906:(0.00s):geometry:log probability choice of torsions and atom order: -5.78074351579233\n",
      "2021-06-29 17:13:45,908:(0.00s):geometry:creating platform, integrators, and contexts; setting growth parameter\n"
     ]
    },
    {
     "name": "stdout",
     "output_type": "stream",
     "text": [
      "conducting subsequent work with the following platform: CUDA\n"
     ]
    },
    {
     "name": "stderr",
     "output_type": "stream",
     "text": [
      "2021-06-29 17:13:46,610:(0.70s):geometry:setting atoms_with_positions context old positions\n"
     ]
    },
    {
     "name": "stdout",
     "output_type": "stream",
     "text": [
      "conducting subsequent work with the following platform: CUDA\n"
     ]
    },
    {
     "name": "stderr",
     "output_type": "stream",
     "text": [
      "2021-06-29 17:13:47,245:(0.63s):geometry:There are 4 new atoms\n",
      "2021-06-29 17:13:47,249:(0.00s):geometry:\treduced angle potential = 0.042051561766555265.\n",
      "2021-06-29 17:13:47,363:(0.11s):geometry:\treduced angle potential = 9.561051668715153e-06.\n",
      "2021-06-29 17:13:47,476:(0.11s):geometry:\treduced angle potential = 2.233125127093818e-08.\n",
      "2021-06-29 17:13:47,585:(0.11s):geometry:\treduced angle potential = 9.265637866968462e-06.\n",
      "2021-06-29 17:13:47,746:(0.16s):geometry:\tbeginning construction of no_nonbonded final system...\n",
      "2021-06-29 17:13:47,748:(0.00s):geometry:\tinitial no-nonbonded final system forces ['HarmonicBondForce', 'HarmonicAngleForce', 'PeriodicTorsionForce', 'NonbondedForce']\n",
      "2021-06-29 17:13:48,013:(0.26s):geometry:\tfinal no-nonbonded final system forces dict_keys(['HarmonicBondForce', 'HarmonicAngleForce', 'PeriodicTorsionForce', 'NonbondedForce'])\n",
      "2021-06-29 17:13:48,014:(0.00s):geometry:\tthere are 61 bond forces in the no-nonbonded final system\n",
      "2021-06-29 17:13:48,016:(0.00s):geometry:\tthere are 218 angle forces in the no-nonbonded final system\n",
      "2021-06-29 17:13:48,017:(0.00s):geometry:\tthere are 399 torsion forces in the no-nonbonded final system\n",
      "2021-06-29 17:13:48,019:(0.00s):geometry:reverse final system defined with 0 neglected angles.\n"
     ]
    },
    {
     "name": "stdout",
     "output_type": "stream",
     "text": [
      "conducting subsequent work with the following platform: CUDA\n",
      "conducting subsequent work with the following platform: CUDA\n"
     ]
    },
    {
     "name": "stderr",
     "output_type": "stream",
     "text": [
      "2021-06-29 17:13:49,428:(1.41s):geometry:total reduced potential before atom placement: 168.36662826283057\n"
     ]
    },
    {
     "name": "stdout",
     "output_type": "stream",
     "text": [
      "conducting subsequent work with the following platform: CUDA\n",
      "conducting subsequent work with the following platform: CUDA\n",
      "conducting subsequent work with the following platform: CUDA\n"
     ]
    },
    {
     "name": "stderr",
     "output_type": "stream",
     "text": [
      "2021-06-29 17:13:51,167:(1.74s):geometry:total reduced energy added from growth system: 19.11335785388209\n",
      "2021-06-29 17:13:51,169:(0.00s):geometry:final reduced energy 187.47998570143525\n",
      "2021-06-29 17:13:51,171:(0.00s):geometry:sum of energies: 187.47998611671267\n",
      "2021-06-29 17:13:51,173:(0.00s):geometry:magnitude of difference in the energies: 4.1527740890501263e-07\n",
      "2021-06-29 17:13:51,174:(0.00s):geometry:Final logp_proposal: -30541.714864566547\n"
     ]
    },
    {
     "name": "stdout",
     "output_type": "stream",
     "text": [
      "added energy components: [('CustomBondForce', 0.04562463240715887), ('CustomAngleForce', 0.11963264577965825), ('CustomTorsionForce', 7.457414545448549), ('CustomBondForce', 11.490686030246726)]\n"
     ]
    }
   ],
   "source": [
    "from perses.rjmc.topology_proposal import PointMutationEngine\n",
    "from perses.annihilation.relative import RepartitionedHybridTopologyFactory\n",
    "from perses.tests.utils import validate_endstate_energies\n",
    "import random\n",
    "\n",
    "aminos = ['ALA','ARG','ASN','ASP','CYS','GLN','GLU','GLY','HIS','ILE','LEU','LYS','MET','PHE','PRO','SER','THR','TRP','TYR','VAL']\n",
    "\n",
    "ENERGY_THRESHOLD = 1e-6\n",
    "kB = unit.BOLTZMANN_CONSTANT_kB * unit.AVOGADRO_CONSTANT_NA\n",
    "temperature = 300.0 * unit.kelvin\n",
    "kT = kB * temperature\n",
    "beta = 1.0/kT\n",
    "\n",
    "chain = 'C'\n",
    "for res in topology.residues():\n",
    "    if res.id == '2':\n",
    "        wt_res = res.name\n",
    "aminos_updated = [amino for amino in aminos if amino not in [wt_res, 'PRO', 'HIS', 'TRP', 'PHE', 'TYR']]\n",
    "# mutant = random.choice(aminos_updated)\n",
    "mutant = \"ASN\"\n",
    "print(f'Making mutation {wt_res}->{mutant}')\n",
    "\n",
    "# Create point mutation engine to mutate residue at id 2 to random amino acid\n",
    "point_mutation_engine = PointMutationEngine(wildtype_topology=topology,\n",
    "                                            system_generator=system_generator,\n",
    "                                            chain_id=chain,\n",
    "                                            max_point_mutants=1,\n",
    "                                            residues_allowed_to_mutate=['2'],  # the residue ids allowed to mutate\n",
    "                                            allowed_mutations=[('2', mutant)],\n",
    "                                            aggregate=True)  # always allow aggregation\n",
    "\n",
    "# Create topology proposal\n",
    "topology_proposal = point_mutation_engine.propose(current_system=system, current_topology=topology)\n",
    "\n",
    "# Create geometry engine\n",
    "from perses.rjmc.geometry import FFAllAngleGeometryEngine\n",
    "geometry_engine = FFAllAngleGeometryEngine(metadata=None,\n",
    "                                           use_sterics=False,\n",
    "                                           n_bond_divisions=100,\n",
    "                                           n_angle_divisions=180,\n",
    "                                           n_torsion_divisions=360,\n",
    "                                           verbose=True,\n",
    "                                           storage=None,\n",
    "                                           bond_softening_constant=1.0,\n",
    "                                           angle_softening_constant=1.0,\n",
    "                                           neglect_angles=False,\n",
    "                                           use_14_nonbondeds=True)\n",
    "\n",
    "# Create geometry proposal\n",
    "new_positions, logp_proposal = geometry_engine.propose(topology_proposal, positions, beta,\n",
    "                                                               validate_energy_bookkeeping=True)\n",
    "logp_reverse = geometry_engine.logp_reverse(topology_proposal, new_positions, positions, beta,\n",
    "                                            validate_energy_bookkeeping=True)\n",
    "\n",
    "if not topology_proposal.unique_new_atoms:\n",
    "    assert geometry_engine.forward_final_context_reduced_potential == None, f\"There are no unique new atoms but the geometry_engine's final context reduced potential is not None (i.e. {self._geometry_engine.forward_final_context_reduced_potential})\"\n",
    "    assert geometry_engine.forward_atoms_with_positions_reduced_potential == None, f\"There are no unique new atoms but the geometry_engine's forward atoms-with-positions-reduced-potential in not None (i.e. { self._geometry_engine.forward_atoms_with_positions_reduced_potential})\"\n",
    "    vacuum_added_valence_energy = 0.0\n",
    "else:\n",
    "    added_valence_energy = geometry_engine.forward_final_context_reduced_potential - geometry_engine.forward_atoms_with_positions_reduced_potential\n",
    "\n",
    "if not topology_proposal.unique_old_atoms:\n",
    "    assert geometry_engine.reverse_final_context_reduced_potential == None, f\"There are no unique old atoms but the geometry_engine's final context reduced potential is not None (i.e. {self._geometry_engine.reverse_final_context_reduced_potential})\"\n",
    "    assert geometry_engine.reverse_atoms_with_positions_reduced_potential == None, f\"There are no unique old atoms but the geometry_engine's atoms-with-positions-reduced-potential in not None (i.e. { self._geometry_engine.reverse_atoms_with_positions_reduced_potential})\"\n",
    "    subtracted_valence_energy = 0.0\n",
    "else:\n",
    "    subtracted_valence_energy = geometry_engine.reverse_final_context_reduced_potential - geometry_engine.reverse_atoms_with_positions_reduced_potential\n"
   ]
  },
  {
   "cell_type": "code",
   "execution_count": 201,
   "id": "3213dec6",
   "metadata": {
    "scrolled": true
   },
   "outputs": [
    {
     "name": "stderr",
     "output_type": "stream",
     "text": [
      "2021-06-29 17:13:51,441:(0.27s):relative:*** Generating RxnHybridTopologyFactory ***\n",
      "2021-06-29 17:13:51,444:(0.00s):relative:Beginning nonbonded method, total particle, barostat, and exceptions retrieval...\n",
      "2021-06-29 17:13:51,579:(0.13s):relative:Old system forces: dict_keys(['HarmonicBondForce', 'HarmonicAngleForce', 'PeriodicTorsionForce', 'NonbondedForce'])\n",
      "2021-06-29 17:13:51,581:(0.00s):relative:New system forces: dict_keys(['HarmonicBondForce', 'HarmonicAngleForce', 'PeriodicTorsionForce', 'NonbondedForce', 'MonteCarloBarostat'])\n",
      "2021-06-29 17:13:51,582:(0.00s):relative:No unknown forces.\n",
      "2021-06-29 17:13:51,584:(0.00s):relative:Nonbonded method to be used (i.e. from old system): 0\n",
      "2021-06-29 17:13:51,585:(0.00s):relative:Adding and mapping old atoms to hybrid system...\n",
      "2021-06-29 17:13:51,630:(0.04s):relative:Adding and mapping new atoms to hybrid system...\n",
      "2021-06-29 17:13:51,631:(0.00s):relative:scale_templates: [['nonscale_lambda', 'scale_lambda_0', 'interscale_lambda_0'], ['nonscale_region', 'scale_region_0', 'interscale_region_0']]\n",
      "2021-06-29 17:13:51,633:(0.00s):relative:particle (nonbonded) scale_templates: [['nonscale_lambda', 'scale_lambda_0'], ['nonscale_region1', 'scale_region_01'], ['nonscale_region2', 'scale_region_02']]\n",
      "2021-06-29 17:13:51,635:(0.00s):relative:No MonteCarloBarostat added.\n",
      "2021-06-29 17:13:51,636:(0.00s):relative:getDefaultPeriodicBoxVectors added to hybrid: [Quantity(value=Vec3(x=3.9005, y=0.0, z=0.0), unit=nanometer), Quantity(value=Vec3(x=0.0, y=3.9005, z=0.0), unit=nanometer), Quantity(value=Vec3(x=0.0, y=0.0, z=3.9005), unit=nanometer)]\n",
      "2021-06-29 17:13:51,640:(0.00s):relative:Determined atom classes.\n",
      "2021-06-29 17:13:51,642:(0.00s):relative:Generating old system exceptions dict...\n",
      "2021-06-29 17:13:51,672:(0.03s):relative:Generating new system exceptions dict...\n",
      "2021-06-29 17:13:51,717:(0.04s):relative:Handling constraints...\n",
      "2021-06-29 17:13:51,825:(0.11s):relative:Handling virtual sites...\n",
      "2021-06-29 17:13:51,831:(0.01s):relative:\t_handle_virtual_sites: numVirtualSites: 0\n",
      "2021-06-29 17:13:51,875:(0.04s):relative:hybrid_index_pair (107, 104, 106, 115) was not found in the new_term_collector, but (104, 107, 106, 115) has the same atoms and terms, so (104, 107, 106, 115) will be removed from the new term collector\n"
     ]
    }
   ],
   "source": [
    "from perses.annihilation.relative import RxnHybridTopologyFactory\n",
    "flatten_exceptions = True\n",
    "flatten_torsions = True\n",
    "endstate = None\n",
    "scale_regions = [list(htf._atom_classes['unique_old_atoms'][0]) + list(htf._atom_classes['unique_new_atoms'][0])]\n",
    "htf = RxnHybridTopologyFactory(topology_proposal=topology_proposal,\n",
    "                     current_positions=positions,\n",
    "                     new_positions=new_positions,\n",
    "                     use_dispersion_correction=False,\n",
    "                     functions=None,\n",
    "                     softcore_alpha=None,\n",
    "                     bond_softening_constant=1.0,\n",
    "                     angle_softening_constant=1.0,\n",
    "                     soften_only_new=False,\n",
    "                     neglected_new_angle_terms=[],\n",
    "                     neglected_old_angle_terms=[],\n",
    "                     softcore_LJ_v2=True,\n",
    "                     softcore_electrostatics=True,\n",
    "                     softcore_LJ_v2_alpha=0.85,\n",
    "                     softcore_electrostatics_alpha=0.3,\n",
    "                     softcore_sigma_Q=1.0,\n",
    "                     interpolate_old_and_new_14s=flatten_exceptions,\n",
    "                     omitted_terms=None,\n",
    "                     flatten_torsions=flatten_torsions,\n",
    "                     scale_regions=scale_regions,\n",
    "                    generate_htf_for_testing=True)"
   ]
  },
  {
   "cell_type": "code",
   "execution_count": 202,
   "id": "a919d4ad",
   "metadata": {},
   "outputs": [],
   "source": [
    "\n",
    "htf._topology_proposal.new_system.getForce(3).setNonbondedMethod(openmm.NonbondedForce.NoCutoff)\n",
    "htf._topology_proposal.new_system.getForce(3).setUseDispersionCorrection(False)\n",
    "htf._topology_proposal.new_system.removeForce(4) # Remove barostat\n"
   ]
  },
  {
   "cell_type": "code",
   "execution_count": 203,
   "id": "053830ab",
   "metadata": {},
   "outputs": [],
   "source": [
    "# Save htf\n",
    "with open(\"8mer_solvent_scale_region.pickle\", \"wb\") as f:\n",
    "    pickle.dump(htf, f)"
   ]
  },
  {
   "cell_type": "markdown",
   "id": "romantic-florist",
   "metadata": {},
   "source": [
    "#### Old system HarmonicBondForce vs hybrid system CustomBondForce"
   ]
  },
  {
   "cell_type": "code",
   "execution_count": 204,
   "id": "needed-classroom",
   "metadata": {},
   "outputs": [],
   "source": [
    "# Load htf\n",
    "with open(\"/home/zhangi/choderalab/perses_benchmark/perses_protein_mutations/code/26_rxn_field/8mer_solvent_scale_region.pickle\", \"rb\") as f:\n",
    "    htf = pickle.load(f)"
   ]
  },
  {
   "cell_type": "code",
   "execution_count": 205,
   "id": "continuing-award",
   "metadata": {
    "scrolled": false
   },
   "outputs": [
    {
     "name": "stdout",
     "output_type": "stream",
     "text": [
      "Warning: Returning CPU platform instead of requested platform <simtk.openmm.openmm.Platform; proxy of <Swig Object of type 'OpenMM::Platform *' at 0x2b5a4ae196c0> >\n",
      "conducting subsequent work with the following platform: CPU\n",
      "conducting subsequent work with the following platform: CUDA\n",
      "[('HarmonicBondForce', 7.300105424153174), ('HarmonicAngleForce', 12.445685055931849), ('PeriodicTorsionForce', 156.24350906389375), ('NonbondedForce', -28612.26277820097), ('AndersenThermostat', 0.0)]\n",
      "conducting subsequent work with the following platform: CUDA\n",
      "[('CustomBondForce', 12.99786300273272), ('CustomAngleForce', 309.627448538008), ('CustomTorsionForce', 156.24351836067592), ('CustomNonbondedForce', -29248.170361608074), ('CustomNonbondedForce', 4420.23487505275), ('CustomBondForce', 635.907909782493), ('CustomBondForce', 56.047220181697135), ('AndersenThermostat', 0.0)]\n",
      "Success! Custom nb force and standard nb force electrostatics energies are equal!\n",
      "conducting subsequent work with the following platform: CUDA\n",
      "[('CustomBondForce', 12.99786300273272), ('CustomAngleForce', 309.627448538008), ('CustomTorsionForce', 156.24351836067592), ('CustomNonbondedForce', -29248.170361608074), ('CustomNonbondedForce', 4420.23487505275), ('CustomBondForce', 635.907909782493), ('CustomBondForce', 56.047220181697135), ('AndersenThermostat', 0.0)]\n",
      "conducting subsequent work with the following platform: CUDA\n",
      "[('CustomBondForce', 12.99786300273272), ('CustomAngleForce', 309.627448538008), ('CustomTorsionForce', 156.24351836067592), ('CustomNonbondedForce', -29246.5134095704), ('CustomNonbondedForce', 4420.23487505275), ('CustomBondForce', 635.907909782493), ('CustomBondForce', 56.047220181697135), ('AndersenThermostat', 0.0)]\n",
      "Success! Scaling the custom nb electrostatics force changes the energy\n"
     ]
    }
   ],
   "source": [
    "test_nb_energies(htf, is_solvated=True, check_scale=True)"
   ]
  },
  {
   "cell_type": "code",
   "execution_count": 206,
   "id": "87d4d538",
   "metadata": {},
   "outputs": [],
   "source": [
    "# Load htf\n",
    "with open(\"/home/zhangi/choderalab/perses_benchmark/perses_protein_mutations/code/26_rxn_field/8mer_solvent_scale_region.pickle\", \"rb\") as f:\n",
    "    htf = pickle.load(f)"
   ]
  },
  {
   "cell_type": "code",
   "execution_count": 207,
   "id": "c11dc544",
   "metadata": {
    "scrolled": true
   },
   "outputs": [
    {
     "name": "stdout",
     "output_type": "stream",
     "text": [
      "Warning: Returning CPU platform instead of requested platform <simtk.openmm.openmm.Platform; proxy of <Swig Object of type 'OpenMM::Platform *' at 0x2b5a4ae196c0> >\n",
      "conducting subsequent work with the following platform: CPU\n",
      "conducting subsequent work with the following platform: CUDA\n",
      "[('HarmonicBondForce', 7.300105424153174), ('HarmonicAngleForce', 12.445685055931849), ('PeriodicTorsionForce', 156.24350906389375), ('NonbondedForce', 4476.282260838404), ('AndersenThermostat', 0.0)]\n",
      "conducting subsequent work with the following platform: CUDA\n",
      "[('CustomBondForce', 12.99786300273272), ('CustomAngleForce', 309.627448538008), ('CustomTorsionForce', 156.24351836067592), ('CustomNonbondedForce', -29248.170361608074), ('CustomNonbondedForce', 4420.23487505275), ('CustomBondForce', 635.907909782493), ('CustomBondForce', 56.047220181697135), ('AndersenThermostat', 0.0)]\n",
      "Success! Custom nb force and standard nb force sterics energies are equal!\n",
      "conducting subsequent work with the following platform: CUDA\n",
      "[('CustomBondForce', 12.99786300273272), ('CustomAngleForce', 309.627448538008), ('CustomTorsionForce', 156.24351836067592), ('CustomNonbondedForce', -29248.170361608074), ('CustomNonbondedForce', 4420.23487505275), ('CustomBondForce', 635.907909782493), ('CustomBondForce', 56.047220181697135), ('AndersenThermostat', 0.0)]\n",
      "conducting subsequent work with the following platform: CUDA\n",
      "[('CustomBondForce', 12.99786300273272), ('CustomAngleForce', 309.627448538008), ('CustomTorsionForce', 156.24351836067592), ('CustomNonbondedForce', -29248.170361608074), ('CustomNonbondedForce', 4421.429696064946), ('CustomBondForce', 635.907909782493), ('CustomBondForce', 56.047220181697135), ('AndersenThermostat', 0.0)]\n",
      "Success! Scaling the custom nb sterics force changes the energy\n"
     ]
    }
   ],
   "source": [
    "test_nb_energies(htf, is_electrostatics=False, is_solvated=True, check_scale=True)"
   ]
  },
  {
   "cell_type": "markdown",
   "id": "relevant-insured",
   "metadata": {},
   "source": [
    "#### New system HarmonicBondForce vs hybrid system CustomBondForce"
   ]
  },
  {
   "cell_type": "code",
   "execution_count": 208,
   "id": "mediterranean-assist",
   "metadata": {},
   "outputs": [],
   "source": [
    "# Load htf\n",
    "with open(\"/home/zhangi/choderalab/perses_benchmark/perses_protein_mutations/code/26_rxn_field/8mer_solvent_scale_region.pickle\", \"rb\") as f:\n",
    "    htf = pickle.load(f)"
   ]
  },
  {
   "cell_type": "code",
   "execution_count": 209,
   "id": "angry-perception",
   "metadata": {
    "scrolled": false
   },
   "outputs": [
    {
     "name": "stdout",
     "output_type": "stream",
     "text": [
      "Warning: Returning CPU platform instead of requested platform <simtk.openmm.openmm.Platform; proxy of <Swig Object of type 'OpenMM::Platform *' at 0x2b5a4ae196c0> >\n",
      "conducting subsequent work with the following platform: CPU\n",
      "conducting subsequent work with the following platform: CUDA\n",
      "[('HarmonicBondForce', 12.952238370325562), ('HarmonicAngleForce', 309.5078158922283), ('PeriodicTorsionForce', 178.23722098859298), ('NonbondedForce', -28733.951113703442), ('AndersenThermostat', 0.0)]\n",
      "conducting subsequent work with the following platform: CUDA\n",
      "[('CustomBondForce', 12.99786300273272), ('CustomAngleForce', 309.627448538008), ('CustomTorsionForce', 156.24351836067592), ('CustomNonbondedForce', -29263.70683227857), ('CustomNonbondedForce', 4420.23487505275), ('CustomBondForce', 529.7560526664622), ('CustomBondForce', 56.047220181697135), ('AndersenThermostat', 0.0)]\n",
      "Success! Custom nb force and standard nb force electrostatics energies are equal!\n",
      "conducting subsequent work with the following platform: CUDA\n",
      "[('CustomBondForce', 12.99786300273272), ('CustomAngleForce', 309.627448538008), ('CustomTorsionForce', 156.24351836067592), ('CustomNonbondedForce', -29248.170361608074), ('CustomNonbondedForce', 4420.23487505275), ('CustomBondForce', 635.907909782493), ('CustomBondForce', 56.047220181697135), ('AndersenThermostat', 0.0)]\n",
      "conducting subsequent work with the following platform: CUDA\n",
      "[('CustomBondForce', 12.99786300273272), ('CustomAngleForce', 309.627448538008), ('CustomTorsionForce', 156.24351836067592), ('CustomNonbondedForce', -29246.5134095704), ('CustomNonbondedForce', 4420.23487505275), ('CustomBondForce', 635.907909782493), ('CustomBondForce', 56.047220181697135), ('AndersenThermostat', 0.0)]\n",
      "Success! Scaling the custom nb electrostatics force changes the energy\n"
     ]
    }
   ],
   "source": [
    "test_nb_energies(htf, is_old=False, is_solvated=True, check_scale=True)"
   ]
  },
  {
   "cell_type": "code",
   "execution_count": 210,
   "id": "f997fbe4",
   "metadata": {},
   "outputs": [],
   "source": [
    "# Load htf\n",
    "with open(\"/home/zhangi/choderalab/perses_benchmark/perses_protein_mutations/code/26_rxn_field/8mer_solvent_scale_region.pickle\", \"rb\") as f:\n",
    "    htf = pickle.load(f)"
   ]
  },
  {
   "cell_type": "code",
   "execution_count": 211,
   "id": "7265a2ff",
   "metadata": {
    "scrolled": false
   },
   "outputs": [
    {
     "name": "stdout",
     "output_type": "stream",
     "text": [
      "Warning: Returning CPU platform instead of requested platform <simtk.openmm.openmm.Platform; proxy of <Swig Object of type 'OpenMM::Platform *' at 0x2b5a4ae196c0> >\n",
      "conducting subsequent work with the following platform: CPU\n",
      "conducting subsequent work with the following platform: CUDA\n",
      "[('HarmonicBondForce', 12.952238370325562), ('HarmonicAngleForce', 309.5078158922283), ('PeriodicTorsionForce', 178.23722098859298), ('NonbondedForce', 7758.398542253916), ('AndersenThermostat', 0.0)]\n",
      "conducting subsequent work with the following platform: CUDA\n",
      "[('CustomBondForce', 12.99786300273272), ('CustomAngleForce', 309.627448538008), ('CustomTorsionForce', 156.24351836067592), ('CustomNonbondedForce', -29248.170361608074), ('CustomNonbondedForce', 7559.23950269198), ('CustomBondForce', 635.907909782493), ('CustomBondForce', 199.15714640775045), ('AndersenThermostat', 0.0)]\n",
      "Success! Custom nb force and standard nb force sterics energies are equal!\n",
      "conducting subsequent work with the following platform: CUDA\n",
      "[('CustomBondForce', 12.99786300273272), ('CustomAngleForce', 309.627448538008), ('CustomTorsionForce', 156.24351836067592), ('CustomNonbondedForce', -29248.170361608074), ('CustomNonbondedForce', 4420.23487505275), ('CustomBondForce', 635.907909782493), ('CustomBondForce', 56.047220181697135), ('AndersenThermostat', 0.0)]\n",
      "conducting subsequent work with the following platform: CUDA\n",
      "[('CustomBondForce', 12.99786300273272), ('CustomAngleForce', 309.627448538008), ('CustomTorsionForce', 156.24351836067592), ('CustomNonbondedForce', -29248.170361608074), ('CustomNonbondedForce', 4421.429696064946), ('CustomBondForce', 635.907909782493), ('CustomBondForce', 56.047220181697135), ('AndersenThermostat', 0.0)]\n",
      "Success! Scaling the custom nb sterics force changes the energy\n"
     ]
    }
   ],
   "source": [
    "test_nb_energies(htf, is_old=False, is_electrostatics=False, is_solvated=True, check_scale=True)"
   ]
  },
  {
   "cell_type": "markdown",
   "id": "corrected-meeting",
   "metadata": {},
   "source": [
    "## barnase:barstar (no naked charge fix, no counterion fix)"
   ]
  },
  {
   "cell_type": "markdown",
   "id": "japanese-persian",
   "metadata": {},
   "source": [
    "### Test one alchemical region, no scale regions"
   ]
  },
  {
   "cell_type": "code",
   "execution_count": 4,
   "id": "4a1b7df8",
   "metadata": {},
   "outputs": [],
   "source": [
    "from perses.app.relative_point_mutation_setup import PointMutationExecutor"
   ]
  },
  {
   "cell_type": "code",
   "execution_count": 20,
   "id": "cd193956",
   "metadata": {},
   "outputs": [],
   "source": [
    "from __future__ import absolute_import\n",
    "\n",
    "from perses.utils.openeye import createOEMolFromSDF, extractPositionsFromOEMol, oechem\n",
    "from perses.annihilation.relative import HybridTopologyFactory, RepartitionedHybridTopologyFactory, RxnHybridTopologyFactory\n",
    "from perses.rjmc.topology_proposal import PointMutationEngine\n",
    "from perses.rjmc.geometry import FFAllAngleGeometryEngine\n",
    "\n",
    "import simtk.openmm as openmm\n",
    "import simtk.openmm.app as app\n",
    "import simtk.unit as unit\n",
    "import numpy as np\n",
    "from openmoltools import forcefield_generators\n",
    "import mdtraj as md\n",
    "from openmmtools.constants import kB\n",
    "from perses.tests.utils import validate_endstate_energies\n",
    "from openff.toolkit.topology import Molecule\n",
    "from openmmforcefields.generators import SystemGenerator\n",
    "\n",
    "ENERGY_THRESHOLD = 1e-2\n",
    "temperature = 300 * unit.kelvin\n",
    "kT = kB * temperature\n",
    "beta = 1.0/kT\n",
    "ring_amino_acids = ['TYR', 'PHE', 'TRP', 'PRO', 'HIS']\n",
    "\n",
    "# Set up logger\n",
    "import logging\n",
    "_logger = logging.getLogger()\n",
    "_logger.setLevel(logging.INFO)\n",
    "\n",
    "class PointMutationExecutor2(PointMutationExecutor):\n",
    "    \"\"\"\n",
    "    Simple, stripped-down class to create a protein-ligand system and allow a mutation of a protein.\n",
    "    this will allow support for the creation of _two_ relative free energy calculations:\n",
    "        1. 'wildtype' - 'point mutant' complex hybrid.\n",
    "        2. 'wildtype' - 'point mutant' protein hybrid (i.e. with ligand of interest unbound)\n",
    "    Example (create full point mutation executor and run parallel tempering on both complex and apo phases):\n",
    "        from pkg_resources import resource_filename\n",
    "        protein_path = 'data/perses_jacs_systems/thrombin/Thrombin_protein.pdb'\n",
    "        ligands_path = 'data/perses_jacs_systems/thrombin/Thrombin_ligands.sdf'\n",
    "        protein_filename = resource_filename('openmmforcefields', protein_path)\n",
    "        ligand_input = resource_filename('openmmforcefields', ligands_path)\n",
    "        pm_delivery = PointMutationExecutor(protein_filename=protein_filename,\n",
    "                                    mutation_chain_id='2',\n",
    "                                    mutation_residue_id='198',\n",
    "                                     proposed_residue='THR',\n",
    "                                     phase='complex',\n",
    "                                     conduct_endstate_validation=False,\n",
    "                                     ligand_input=ligand_input,\n",
    "                                     ligand_index=0,\n",
    "                                     forcefield_files=['amber14/protein.ff14SB.xml', 'amber14/tip3p.xml'],\n",
    "                                     barostat=openmm.MonteCarloBarostat(1.0 * unit.atmosphere, temperature, 50),\n",
    "                                     forcefield_kwargs={'removeCMMotion': False, 'ewaldErrorTolerance': 1e-4, 'nonbondedMethod': app.PME, 'constraints' : app.HBonds, 'hydrogenMass' : 4 * unit.amus},\n",
    "                                     small_molecule_forcefields='gaff-2.11')\n",
    "        complex_htf = pm_delivery.get_complex_htf()\n",
    "        apo_htf = pm_delivery.get_apo_htf()\n",
    "        # Now we can build the hybrid repex samplers\n",
    "        from perses.annihilation.lambda_protocol import LambdaProtocol\n",
    "        from openmmtools.multistate import MultiStateReporter\n",
    "        from perses.samplers.multistate import HybridRepexSampler\n",
    "        from openmmtools import mcmc\n",
    "        suffix = 'run'; selection = 'not water'; checkpoint_interval = 10; n_states = 11; n_cycles = 5000\n",
    "        for htf in [complex_htf, apo_htf]:\n",
    "            lambda_protocol = LambdaProtocol(functions='default')\n",
    "            reporter_file = 'reporter.nc'\n",
    "            reporter = MultiStateReporter(reporter_file, analysis_particle_indices = htf.hybrid_topology.select(selection), checkpoint_interval = checkpoint_interval)\n",
    "            hss = HybridRepexSampler(mcmc_moves=mcmc.LangevinSplittingDynamicsMove(timestep= 4.0 * unit.femtoseconds,\n",
    "                                                                                  collision_rate=5.0 / unit.picosecond,\n",
    "                                                                                  n_steps=250,\n",
    "                                                                                  reassign_velocities=False,\n",
    "                                                                                  n_restart_attempts=20,\n",
    "                                                                                  splitting=\"V R R R O R R R V\",\n",
    "                                                                                  constraint_tolerance=1e-06),\n",
    "                                                                                  hybrid_factory=htf, online_analysis_interval=10)\n",
    "            hss.setup(n_states=n_states, temperature=300*unit.kelvin, storage_file=reporter, lambda_protocol=lambda_protocol, endstates=False)\n",
    "            hss.extend(n_cycles)\n",
    "    \"\"\"\n",
    "    def __init__(self,\n",
    "                 protein_filename,\n",
    "                 mutation_chain_id,\n",
    "                 mutation_residue_id,\n",
    "                 proposed_residue,\n",
    "                 phase='complex',\n",
    "                 conduct_endstate_validation=True,\n",
    "                 ligand_input=None,\n",
    "                 ligand_index=0,\n",
    "                 water_model='tip3p',\n",
    "                 ionic_strength=0.15 * unit.molar,\n",
    "                 forcefield_files=['amber14/protein.ff14SB.xml', 'amber14/tip3p.xml'],\n",
    "                 barostat=openmm.MonteCarloBarostat(1.0 * unit.atmosphere, temperature, 50),\n",
    "                 forcefield_kwargs={'removeCMMotion': False, 'ewaldErrorTolerance': 0.00025, 'constraints' : app.HBonds, 'hydrogenMass' : 4 * unit.amus},\n",
    "                 periodic_forcefield_kwargs={'nonbondedMethod': app.PME},\n",
    "                 nonperiodic_forcefield_kwargs=None,\n",
    "                 small_molecule_forcefields='gaff-2.11',\n",
    "                 complex_box_dimensions=None,\n",
    "                 apo_box_dimensions=None,\n",
    "                 flatten_torsions=False,\n",
    "                 flatten_exceptions=False,\n",
    "                 repartitioned_endstate=None,\n",
    "                 rxn_field = True,\n",
    "                 **kwargs):\n",
    "        \"\"\"\n",
    "        arguments\n",
    "            protein_filename : str\n",
    "                path to protein (to mutate); .pdb\n",
    "            mutation_chain_id : str\n",
    "                name of the chain to be mutated\n",
    "            mutation_residue_id : str\n",
    "                residue id to change\n",
    "            proposed_residue : str\n",
    "                three letter code of the residue to mutate to\n",
    "            phase : str, default complex\n",
    "                if phase == vacuum, then the complex will not be solvated with water; else, it will be solvated with tip3p\n",
    "            conduct_endstate_validation : bool, default True\n",
    "                whether to conduct an endstate validation of the HybridTopologyFactory. If using the RepartitionedHybridTopologyFactory,\n",
    "                endstate validation cannot and will not be conducted.\n",
    "            ligand_file : str, default None\n",
    "                path to ligand of interest (i.e. small molecule or protein); .sdf or .pdb\n",
    "            ligand_index : int, default 0\n",
    "                which ligand to use\n",
    "            water_model : str, default 'tip3p'\n",
    "                solvent model to use for solvation\n",
    "            ionic_strength : float * unit.molar, default 0.15 * unit.molar\n",
    "                the total concentration of ions (both positive and negative) to add using Modeller.\n",
    "                This does not include ions that are added to neutralize the system.\n",
    "                Note that only monovalent ions are currently supported.\n",
    "            forcefield_files : list of str, default ['amber14/protein.ff14SB.xml', 'amber14/tip3p.xml']\n",
    "                forcefield files for proteins and solvent\n",
    "            barostat : openmm.MonteCarloBarostat, default openmm.MonteCarloBarostat(1.0 * unit.atmosphere, 300 * unit.kelvin, 50)\n",
    "                barostat to use\n",
    "            forcefield_kwargs : dict, default {'removeCMMotion': False, 'ewaldErrorTolerance': 1e-4, 'constraints' : app.HBonds, 'hydrogenMass' : 4 * unit.amus}\n",
    "                forcefield kwargs for system parametrization\n",
    "            periodic_forcefield_kwargs : dict, default {'nonbondedMethod': app.PME}\n",
    "                periodic forcefield kwargs for system parametrization\n",
    "            nonperiodic_forcefield_kwargs : dict, default None\n",
    "                non-periodic forcefield kwargs for system parametrization\n",
    "            small_molecule_forcefields : str, default 'gaff-2.11'\n",
    "                the forcefield string for small molecule parametrization\n",
    "            complex_box_dimensions : Vec3, default None\n",
    "                define box dimensions of complex phase;\n",
    "                if None, padding is 1nm\n",
    "            apo_box_dimensions :  Vec3, default None\n",
    "                define box dimensions of apo phase phase;\n",
    "                if None, padding is 1nm\n",
    "            flatten_torsions : bool, default False\n",
    "                in the htf, flatten torsions involving unique new atoms at lambda = 0 and unique old atoms are lambda = 1\n",
    "            flatten_exceptions : bool, default False\n",
    "                in the htf, flatten exceptions involving unique new atoms at lambda = 0 and unique old atoms at lambda = 1\n",
    "            repartitioned_endstate : int, default None\n",
    "                the endstate (0 or 1) at which to build the RepartitionedHybridTopologyFactory. By default, this is None,\n",
    "                meaning a vanilla HybridTopologyFactory will be built.\n",
    "        TODO : allow argument for spectator ligands besides the 'ligand_file'\n",
    "        \"\"\"\n",
    "\n",
    "        # First thing to do is load the apo protein to mutate...\n",
    "        protein_pdbfile = open(protein_filename, 'r')\n",
    "        protein_pdb = app.PDBFile(protein_pdbfile)\n",
    "        protein_pdbfile.close()\n",
    "        protein_positions, protein_topology, protein_md_topology = protein_pdb.positions, protein_pdb.topology, md.Topology.from_openmm(protein_pdb.topology)\n",
    "        protein_topology = protein_md_topology.to_openmm()\n",
    "        protein_n_atoms = protein_md_topology.n_atoms\n",
    "\n",
    "        # Load the ligand, if present\n",
    "        molecules = []\n",
    "        if ligand_input:\n",
    "            if isinstance(ligand_input, str):\n",
    "                if ligand_input.endswith('.sdf'): # small molecule\n",
    "                        ligand_mol = createOEMolFromSDF(ligand_input, index=ligand_index)\n",
    "                        molecules.append(Molecule.from_openeye(ligand_mol, allow_undefined_stereo=False))\n",
    "                        ligand_positions, ligand_topology = extractPositionsFromOEMol(ligand_mol),  forcefield_generators.generateTopologyFromOEMol(ligand_mol)\n",
    "                        ligand_md_topology = md.Topology.from_openmm(ligand_topology)\n",
    "                        ligand_n_atoms = ligand_md_topology.n_atoms\n",
    "\n",
    "                if ligand_input.endswith('pdb'): # protein\n",
    "                    ligand_pdbfile = open(ligand_input, 'r')\n",
    "                    ligand_pdb = app.PDBFile(ligand_pdbfile)\n",
    "                    ligand_pdbfile.close()\n",
    "                    ligand_positions, ligand_topology, ligand_md_topology = ligand_pdb.positions, ligand_pdb.topology, md.Topology.from_openmm(\n",
    "                        ligand_pdb.topology)\n",
    "                    ligand_n_atoms = ligand_md_topology.n_atoms\n",
    "\n",
    "            elif isinstance(ligand_input, oechem.OEMol): # oemol object\n",
    "                molecules.append(Molecule.from_openeye(ligand_input, allow_undefined_stereo=False))\n",
    "                ligand_positions, ligand_topology = extractPositionsFromOEMol(ligand_input),  forcefield_generators.generateTopologyFromOEMol(ligand_input)\n",
    "                ligand_md_topology = md.Topology.from_openmm(ligand_topology)\n",
    "                ligand_n_atoms = ligand_md_topology.n_atoms\n",
    "\n",
    "            else:\n",
    "                _logger.warning(f'ligand filetype not recognised. Please provide a path to a .pdb or .sdf file')\n",
    "                return\n",
    "\n",
    "            # Now create a complex\n",
    "            complex_md_topology = protein_md_topology.join(ligand_md_topology)\n",
    "            complex_topology = complex_md_topology.to_openmm()\n",
    "            complex_positions = unit.Quantity(np.zeros([protein_n_atoms + ligand_n_atoms, 3]), unit=unit.nanometers)\n",
    "            complex_positions[:protein_n_atoms, :] = protein_positions\n",
    "            complex_positions[protein_n_atoms:, :] = ligand_positions\n",
    "\n",
    "        # Now for a system_generator\n",
    "        self.system_generator = SystemGenerator(forcefields=forcefield_files,\n",
    "                                                barostat=barostat,\n",
    "                                                forcefield_kwargs=forcefield_kwargs,\n",
    "                                                periodic_forcefield_kwargs=periodic_forcefield_kwargs,\n",
    "                                                nonperiodic_forcefield_kwargs=nonperiodic_forcefield_kwargs,\n",
    "                                                small_molecule_forcefield=small_molecule_forcefields,\n",
    "                                                molecules=molecules,\n",
    "                                                cache=None)\n",
    "\n",
    "        # Solvate apo and complex...\n",
    "        apo_input = list(self._solvate(protein_topology, protein_positions, water_model, phase, ionic_strength, apo_box_dimensions))\n",
    "        inputs = [apo_input]\n",
    "        if ligand_input:\n",
    "            inputs.append(self._solvate(complex_topology, complex_positions, water_model, phase, ionic_strength, complex_box_dimensions))\n",
    "\n",
    "        geometry_engine = FFAllAngleGeometryEngine(metadata=None,\n",
    "                                                use_sterics=False,\n",
    "                                                n_bond_divisions=100,\n",
    "                                                n_angle_divisions=180,\n",
    "                                                n_torsion_divisions=360,\n",
    "                                                verbose=True,\n",
    "                                                storage=None,\n",
    "                                                bond_softening_constant=1.0,\n",
    "                                                angle_softening_constant=1.0,\n",
    "                                                neglect_angles = False,\n",
    "                                                use_14_nonbondeds = True)\n",
    "\n",
    "\n",
    "        # Run pipeline...\n",
    "        htfs = []\n",
    "        for (top, pos, sys) in inputs:\n",
    "            \n",
    "            sys.getForce(3).setNonbondedMethod(openmm.NonbondedForce.NoCutoff)\n",
    "            sys.getForce(3).setUseDispersionCorrection(False)\n",
    "            for i in range(sys.getNumForces()):\n",
    "                if i == 3:\n",
    "                    sys.getForce(i).setExceptionsUsePeriodicBoundaryConditions(False)\n",
    "                elif i < 3: # do not set PBCs for barostat\n",
    "                    sys.getForce(i).setUsesPeriodicBoundaryConditions(False)\n",
    "            sys.removeForce(4) # Remove barostat\n",
    "\n",
    "            \n",
    "            point_mutation_engine = PointMutationEngine(wildtype_topology=top,\n",
    "                                                                 system_generator=self.system_generator,\n",
    "                                                                 chain_id=mutation_chain_id, # Denote the chain id allowed to mutate (it's always a string variable)\n",
    "                                                                 max_point_mutants=1,\n",
    "                                                                 residues_allowed_to_mutate=[mutation_residue_id], # The residue ids allowed to mutate\n",
    "                                                                 allowed_mutations=[(mutation_residue_id, proposed_residue)], # The residue ids allowed to mutate with the three-letter code allowed to change\n",
    "                                                                 aggregate=True) # Always allow aggregation\n",
    "\n",
    "            topology_proposal = point_mutation_engine.propose(sys, top)\n",
    "\n",
    "            # Only validate energy bookkeeping if the WT and proposed residues do not involve rings\n",
    "            old_res = [res for res in top.residues() if res.id == mutation_residue_id][0]\n",
    "            validate_bool = False if old_res.name in ring_amino_acids or proposed_residue in ring_amino_acids else True\n",
    "            new_positions, logp_proposal = geometry_engine.propose(topology_proposal, pos, beta,\n",
    "                                                                   validate_energy_bookkeeping=validate_bool)\n",
    "            logp_reverse = geometry_engine.logp_reverse(topology_proposal, new_positions, pos, beta,\n",
    "                                                        validate_energy_bookkeeping=validate_bool)\n",
    "\n",
    "            if rxn_field:\n",
    "                factory = RxnHybridTopologyFactory\n",
    "            else:\n",
    "                if repartitioned_endstate is None:\n",
    "                    factory = HybridTopologyFactory\n",
    "                elif repartitioned_endstate in [0, 1]:\n",
    "                    factory = RepartitionedHybridTopologyFactory\n",
    "\n",
    "            forward_htf = factory(topology_proposal=topology_proposal,\n",
    "                                  current_positions=pos,\n",
    "                                  new_positions=new_positions,\n",
    "                                  use_dispersion_correction=False,\n",
    "                                  functions=None,\n",
    "                                  softcore_alpha=None,\n",
    "                                  bond_softening_constant=1.0,\n",
    "                                  angle_softening_constant=1.0,\n",
    "                                  soften_only_new=False,\n",
    "                                  neglected_new_angle_terms=[],\n",
    "                                  neglected_old_angle_terms=[],\n",
    "                                  softcore_LJ_v2=True,\n",
    "                                  softcore_electrostatics=True,\n",
    "                                  softcore_LJ_v2_alpha=0.85,\n",
    "                                  softcore_electrostatics_alpha=0.3,\n",
    "                                  softcore_sigma_Q=1.0,\n",
    "                                  interpolate_old_and_new_14s=flatten_exceptions,\n",
    "                                  omitted_terms=None,\n",
    "                                  endstate=repartitioned_endstate,\n",
    "                                  flatten_torsions=flatten_torsions,\n",
    "                                 generate_htf_for_testing=True)\n",
    "\n",
    "            if not topology_proposal.unique_new_atoms:\n",
    "                assert geometry_engine.forward_final_context_reduced_potential == None, f\"There are no unique new atoms but the geometry_engine's final context reduced potential is not None (i.e. {self._geometry_engine.forward_final_context_reduced_potential})\"\n",
    "                assert geometry_engine.forward_atoms_with_positions_reduced_potential == None, f\"There are no unique new atoms but the geometry_engine's forward atoms-with-positions-reduced-potential in not None (i.e. { self._geometry_engine.forward_atoms_with_positions_reduced_potential})\"\n",
    "            else:\n",
    "                added_valence_energy = geometry_engine.forward_final_context_reduced_potential - geometry_engine.forward_atoms_with_positions_reduced_potential\n",
    "\n",
    "            if not topology_proposal.unique_old_atoms:\n",
    "                assert geometry_engine.reverse_final_context_reduced_potential == None, f\"There are no unique old atoms but the geometry_engine's final context reduced potential is not None (i.e. {self._geometry_engine.reverse_final_context_reduced_potential})\"\n",
    "                assert geometry_engine.reverse_atoms_with_positions_reduced_potential == None, f\"There are no unique old atoms but the geometry_engine's atoms-with-positions-reduced-potential in not None (i.e. { self._geometry_engine.reverse_atoms_with_positions_reduced_potential})\"\n",
    "                subtracted_valence_energy = 0.0\n",
    "            else:\n",
    "                subtracted_valence_energy = geometry_engine.reverse_final_context_reduced_potential - geometry_engine.reverse_atoms_with_positions_reduced_potential\n",
    "\n",
    "\n",
    "            if conduct_endstate_validation and repartitioned_endstate is None:\n",
    "                zero_state_error, one_state_error = validate_endstate_energies(forward_htf._topology_proposal, forward_htf, added_valence_energy, subtracted_valence_energy, beta=beta, ENERGY_THRESHOLD=ENERGY_THRESHOLD)\n",
    "                if zero_state_error > ENERGY_THRESHOLD:\n",
    "                    _logger.warning(f\"Reduced potential difference of the nonalchemical and alchemical Lambda = 0 state is above the threshold ({ENERGY_THRESHOLD}): {zero_state_error}\")\n",
    "                if one_state_error > ENERGY_THRESHOLD:\n",
    "                    _logger.warning(f\"Reduced potential difference of the nonalchemical and alchemical Lambda = 1 state is above the threshold ({ENERGY_THRESHOLD}): {one_state_error}\")\n",
    "            else:\n",
    "                pass\n",
    "\n",
    "            htfs.append(forward_htf)\n",
    "\n",
    "        self.apo_htf = htfs[0]\n",
    "        self.complex_htf = htfs[1] if ligand_input else None"
   ]
  },
  {
   "cell_type": "code",
   "execution_count": 21,
   "id": "f2e344bb",
   "metadata": {
    "scrolled": true
   },
   "outputs": [
    {
     "name": "stderr",
     "output_type": "stream",
     "text": [
      "INFO:root:solvating at 0.05 M using tip3p\n",
      "INFO:root:solvating at 0.05 M using tip3p\n",
      "INFO:proposal_generator:\tConducting polymer point mutation proposal...\n",
      "INFO:proposal_generator:Using matching_criterion to chose best atom map\n",
      "INFO:proposal_generator:Scaffold has symmetry of 0\n",
      "WARNING:proposal_generator:Two molecules are not similar to have a common scaffold\n",
      "WARNING:proposal_generator:Proceeding with direct mapping of molecules, but please check atom mapping and the geometry of the ligands.\n",
      "INFO:proposal_generator:len [{7: 9}, {8: 9}, {9: 9}, {7: 10}, {8: 10}, {9: 10}, {7: 11}, {8: 11}, {9: 11}, {7: 12}, {8: 12}, {9: 12}, {7: 13}, {8: 13}, {9: 13}]\n",
      "INFO:proposal_generator:{7: 9}\n",
      "INFO:proposal_generator:{8: 9}\n",
      "INFO:proposal_generator:{9: 9}\n",
      "INFO:proposal_generator:{7: 10}\n",
      "INFO:proposal_generator:{8: 10}\n",
      "INFO:proposal_generator:{9: 10}\n",
      "INFO:proposal_generator:{7: 11}\n",
      "INFO:proposal_generator:{8: 11}\n",
      "INFO:proposal_generator:{9: 11}\n",
      "INFO:proposal_generator:{7: 12}\n",
      "INFO:proposal_generator:{8: 12}\n",
      "INFO:proposal_generator:{9: 12}\n",
      "INFO:proposal_generator:{7: 13}\n",
      "INFO:proposal_generator:{8: 13}\n",
      "INFO:proposal_generator:{9: 13}\n",
      "INFO:proposal_generator:Returning map that best satisfies matching_criterion\n",
      "INFO:proposal_generator:Finding best map using matching_criterion name\n",
      "INFO:proposal_generator:{7: 9}\n",
      "INFO:geometry:propose: performing forward proposal\n",
      "INFO:geometry:propose: unique new atoms detected; proceeding to _logp_propose...\n",
      "INFO:geometry:Conducting forward proposal...\n",
      "INFO:geometry:Computing proposal order with NetworkX...\n",
      "INFO:geometry:number of atoms to be placed: 4\n",
      "INFO:geometry:Atom index proposal order is [673, 678, 676, 677]\n",
      "INFO:geometry:omitted_bonds: []\n",
      "INFO:geometry:direction of proposal is forward; creating atoms_with_positions and new positions from old system/topology...\n",
      "INFO:geometry:creating growth system...\n",
      "INFO:geometry:\tcreating bond force...\n",
      "INFO:geometry:\tthere are 733 bonds in reference force.\n",
      "INFO:geometry:\tcreating angle force...\n",
      "INFO:geometry:\tthere are 2628 angles in reference force.\n",
      "INFO:geometry:\tcreating torsion force...\n",
      "INFO:geometry:\tcreating extra torsions force...\n",
      "INFO:geometry:\tthere are 4939 torsions in reference force.\n",
      "INFO:geometry:\tcreating nonbonded force...\n",
      "INFO:geometry:\t\tgrabbing reference nonbonded method, cutoff, switching function, switching distance...\n",
      "INFO:geometry:\t\tcreating nonbonded exception force (i.e. custom bond for 1,4s)...\n",
      "INFO:geometry:\t\tlooping through exceptions calculating growth indices, and adding appropriate interactions to custom bond force.\n",
      "INFO:geometry:\t\tthere are 21290 in the reference Nonbonded force\n",
      "WARNING:geometry:\t\t\t\t\tchiral atom <Atom 670 (CA) of chain 0 residue 42 (ALA)> with neighbors [<Atom 671 (C) of chain 0 residue 42 (ALA)>, <Atom 673 (CB) of chain 0 residue 42 (ALA)>, <Atom 675 (HA) of chain 0 residue 42 (ALA)>, <Atom 669 (N) of chain 0 residue 42 (ALA)>] is surrounded by 3 core neighbors.  omitting chirality bias torsion\n",
      "INFO:geometry:Neglected angle terms : []\n",
      "INFO:geometry:omitted_growth_terms: {'bonds': [], 'angles': [], 'torsions': [], '1,4s': []}\n",
      "INFO:geometry:extra torsions: {0: (674, 669, 670, 673, [1, Quantity(value=0.9799661941737812, unit=radian), Quantity(value=1200.0, unit=kilocalorie/mole), 1]), 1: (669, 670, 673, 676, [1, Quantity(value=2.105358864604291, unit=radian), Quantity(value=1200.0, unit=kilocalorie/mole), 3]), 2: (669, 670, 673, 677, [1, Quantity(value=-2.0823006129211796, unit=radian), Quantity(value=1200.0, unit=kilocalorie/mole), 4]), 3: (669, 670, 673, 678, [1, Quantity(value=0.018582237407944735, unit=radian), Quantity(value=1200.0, unit=kilocalorie/mole), 2]), 4: (671, 670, 673, 676, [1, Quantity(value=-0.036945135932107576, unit=radian), Quantity(value=1200.0, unit=kilocalorie/mole), 3]), 5: (671, 670, 673, 677, [1, Quantity(value=2.0585806937220097, unit=radian), Quantity(value=1200.0, unit=kilocalorie/mole), 4]), 6: (671, 670, 673, 678, [1, Quantity(value=-2.1237217631284597, unit=radian), Quantity(value=1200.0, unit=kilocalorie/mole), 2]), 7: (675, 670, 673, 676, [1, Quantity(value=-2.119603470065817, unit=radian), Quantity(value=1200.0, unit=kilocalorie/mole), 3]), 8: (675, 670, 673, 677, [1, Quantity(value=-0.024077640411697132, unit=radian), Quantity(value=1200.0, unit=kilocalorie/mole), 4]), 9: (675, 670, 673, 678, [1, Quantity(value=2.0768052099174152, unit=radian), Quantity(value=1200.0, unit=kilocalorie/mole), 2])}\n",
      "INFO:geometry:neglected angle terms include []\n",
      "INFO:geometry:log probability choice of torsions and atom order: -5.78074351579233\n",
      "INFO:geometry:creating platform, integrators, and contexts; setting growth parameter\n"
     ]
    },
    {
     "name": "stdout",
     "output_type": "stream",
     "text": [
      "conducting subsequent work with the following platform: CUDA\n"
     ]
    },
    {
     "name": "stderr",
     "output_type": "stream",
     "text": [
      "INFO:geometry:setting atoms_with_positions context new positions\n"
     ]
    },
    {
     "name": "stdout",
     "output_type": "stream",
     "text": [
      "conducting subsequent work with the following platform: CUDA\n"
     ]
    },
    {
     "name": "stderr",
     "output_type": "stream",
     "text": [
      "INFO:geometry:There are 4 new atoms\n",
      "INFO:geometry:\treduced angle potential = 0.05560346848027731.\n",
      "INFO:geometry:\treduced angle potential = 0.015530549903522818.\n",
      "INFO:geometry:\treduced angle potential = 1.5852325185944984.\n",
      "INFO:geometry:\treduced angle potential = 1.130309680909011.\n",
      "INFO:geometry:\tbeginning construction of no_nonbonded final system...\n",
      "INFO:geometry:\tinitial no-nonbonded final system forces ['HarmonicBondForce', 'HarmonicAngleForce', 'PeriodicTorsionForce', 'NonbondedForce', 'MonteCarloBarostat']\n",
      "INFO:geometry:\tfinal no-nonbonded final system forces dict_keys(['HarmonicBondForce', 'HarmonicAngleForce', 'PeriodicTorsionForce', 'NonbondedForce'])\n",
      "INFO:geometry:\tthere are 733 bond forces in the no-nonbonded final system\n",
      "INFO:geometry:\tthere are 2628 angle forces in the no-nonbonded final system\n",
      "INFO:geometry:\tthere are 4939 torsion forces in the no-nonbonded final system\n",
      "INFO:geometry:forward final system defined with 0 neglected angles.\n"
     ]
    },
    {
     "name": "stdout",
     "output_type": "stream",
     "text": [
      "conducting subsequent work with the following platform: CUDA\n",
      "conducting subsequent work with the following platform: CUDA\n"
     ]
    },
    {
     "name": "stderr",
     "output_type": "stream",
     "text": [
      "INFO:geometry:total reduced potential before atom placement: 2279.236671135735\n"
     ]
    },
    {
     "name": "stdout",
     "output_type": "stream",
     "text": [
      "conducting subsequent work with the following platform: CUDA\n",
      "conducting subsequent work with the following platform: CUDA\n",
      "conducting subsequent work with the following platform: CUDA\n"
     ]
    },
    {
     "name": "stderr",
     "output_type": "stream",
     "text": [
      "INFO:geometry:total reduced energy added from growth system: 469.26092904216995\n",
      "INFO:geometry:final reduced energy 2748.4975996625785\n",
      "INFO:geometry:sum of energies: 2748.497600177905\n",
      "INFO:geometry:magnitude of difference in the energies: 5.153263487045479e-07\n",
      "INFO:geometry:Final logp_proposal: 31.248987660368215\n"
     ]
    },
    {
     "name": "stdout",
     "output_type": "stream",
     "text": [
      "added energy components: [('CustomBondForce', 0.0009574344537747757), ('CustomAngleForce', 184.47601271884756), ('CustomTorsionForce', 10.902840503760066), ('CustomBondForce', 273.8811183851085)]\n"
     ]
    },
    {
     "name": "stderr",
     "output_type": "stream",
     "text": [
      "INFO:geometry:logp_reverse: performing reverse proposal\n",
      "INFO:geometry:logp_reverse: unique new atoms detected; proceeding to _logp_propose...\n",
      "INFO:geometry:Conducting forward proposal...\n",
      "INFO:geometry:Computing proposal order with NetworkX...\n",
      "INFO:geometry:number of atoms to be placed: 8\n",
      "INFO:geometry:Atom index proposal order is [673, 674, 675, 678, 679, 681, 680, 682]\n",
      "INFO:geometry:omitted_bonds: []\n",
      "INFO:geometry:direction of proposal is reverse; creating atoms_with_positions from old system/topology\n",
      "INFO:geometry:creating growth system...\n",
      "INFO:geometry:\tcreating bond force...\n",
      "INFO:geometry:\tthere are 735 bonds in reference force.\n",
      "INFO:geometry:\tcreating angle force...\n",
      "INFO:geometry:\tthere are 2635 angles in reference force.\n",
      "INFO:geometry:\tcreating torsion force...\n",
      "INFO:geometry:\tcreating extra torsions force...\n",
      "INFO:geometry:\tthere are 4969 torsions in reference force.\n",
      "INFO:geometry:\tcreating nonbonded force...\n",
      "INFO:geometry:\t\tgrabbing reference nonbonded method, cutoff, switching function, switching distance...\n",
      "INFO:geometry:\t\tcreating nonbonded exception force (i.e. custom bond for 1,4s)...\n",
      "INFO:geometry:\t\tlooping through exceptions calculating growth indices, and adding appropriate interactions to custom bond force.\n",
      "INFO:geometry:\t\tthere are 21313 in the reference Nonbonded force\n",
      "WARNING:geometry:\t\t\t\t\tchiral atom <Atom 670 (CA) of chain 0 residue 42 (THR)> with neighbors [<Atom 671 (C) of chain 0 residue 42 (THR)>, <Atom 673 (CB) of chain 0 residue 42 (THR)>, <Atom 677 (HA) of chain 0 residue 42 (THR)>, <Atom 669 (N) of chain 0 residue 42 (THR)>] is surrounded by 3 core neighbors.  omitting chirality bias torsion\n",
      "INFO:geometry:Neglected angle terms : []\n",
      "INFO:geometry:omitted_growth_terms: {'bonds': [], 'angles': [], 'torsions': [], '1,4s': []}\n",
      "INFO:geometry:extra torsions: {0: (676, 669, 670, 673, [1, Quantity(value=0.9900002084555819, unit=radian), Quantity(value=1200.0, unit=kilocalorie/mole), 1]), 1: (679, 674, 673, 670, [1, Quantity(value=-0.07858019216845058, unit=radian), Quantity(value=1200.0, unit=kilocalorie/mole), 5]), 2: (679, 674, 673, 675, [1, Quantity(value=2.118586571250296, unit=radian), Quantity(value=1200.0, unit=kilocalorie/mole), 5]), 3: (679, 674, 673, 678, [1, Quantity(value=-2.149781203448759, unit=radian), Quantity(value=1200.0, unit=kilocalorie/mole), 5]), 4: (670, 673, 675, 682, [1, Quantity(value=-2.1249532223845904, unit=radian), Quantity(value=1200.0, unit=kilocalorie/mole), 8]), 5: (670, 673, 675, 681, [1, Quantity(value=2.0543043017157916, unit=radian), Quantity(value=1200.0, unit=kilocalorie/mole), 6]), 6: (670, 673, 675, 680, [1, Quantity(value=-0.02223392579985184, unit=radian), Quantity(value=1200.0, unit=kilocalorie/mole), 7]), 7: (674, 673, 675, 682, [1, Quantity(value=2.0255587336734213, unit=radian), Quantity(value=1200.0, unit=kilocalorie/mole), 8]), 8: (674, 673, 675, 681, [1, Quantity(value=-0.07836904940578293, unit=radian), Quantity(value=1200.0, unit=kilocalorie/mole), 6]), 9: (674, 673, 675, 680, [1, Quantity(value=-2.154907276921426, unit=radian), Quantity(value=1200.0, unit=kilocalorie/mole), 7]), 10: (678, 673, 675, 682, [1, Quantity(value=0.007583009583349565, unit=radian), Quantity(value=1200.0, unit=kilocalorie/mole), 8]), 11: (678, 673, 675, 681, [1, Quantity(value=-2.096344773495849, unit=radian), Quantity(value=1200.0, unit=kilocalorie/mole), 6]), 12: (678, 673, 675, 680, [1, Quantity(value=2.1103023061680943, unit=radian), Quantity(value=1200.0, unit=kilocalorie/mole), 7]), 13: (674, 673, 670, 675, [1, Quantity(value=-1.0655064807976995, unit=radian), Quantity(value=1200.0, unit=kilocalorie/mole), 3])}\n",
      "INFO:geometry:neglected angle terms include []\n",
      "INFO:geometry:log probability choice of torsions and atom order: -13.553917196274867\n",
      "INFO:geometry:creating platform, integrators, and contexts; setting growth parameter\n"
     ]
    },
    {
     "name": "stdout",
     "output_type": "stream",
     "text": [
      "conducting subsequent work with the following platform: CUDA\n"
     ]
    },
    {
     "name": "stderr",
     "output_type": "stream",
     "text": [
      "INFO:geometry:setting atoms_with_positions context old positions\n"
     ]
    },
    {
     "name": "stdout",
     "output_type": "stream",
     "text": [
      "conducting subsequent work with the following platform: CUDA\n"
     ]
    },
    {
     "name": "stderr",
     "output_type": "stream",
     "text": [
      "INFO:geometry:There are 8 new atoms\n",
      "INFO:geometry:\treduced angle potential = 0.1817144363741264.\n",
      "INFO:geometry:\treduced angle potential = 0.1536280916466212.\n",
      "INFO:geometry:\treduced angle potential = 0.2257125237447829.\n",
      "INFO:geometry:\treduced angle potential = 0.00589659951395519.\n",
      "INFO:geometry:\treduced angle potential = 0.0066955214510641915.\n",
      "INFO:geometry:\treduced angle potential = 0.05657264681042365.\n",
      "INFO:geometry:\treduced angle potential = 0.023352265895512498.\n",
      "INFO:geometry:\treduced angle potential = 0.25876654048332753.\n",
      "INFO:geometry:\tbeginning construction of no_nonbonded final system...\n",
      "INFO:geometry:\tinitial no-nonbonded final system forces ['HarmonicBondForce', 'HarmonicAngleForce', 'PeriodicTorsionForce', 'NonbondedForce']\n",
      "INFO:geometry:\tfinal no-nonbonded final system forces dict_keys(['HarmonicBondForce', 'HarmonicAngleForce', 'PeriodicTorsionForce', 'NonbondedForce'])\n",
      "INFO:geometry:\tthere are 735 bond forces in the no-nonbonded final system\n",
      "INFO:geometry:\tthere are 2635 angle forces in the no-nonbonded final system\n",
      "INFO:geometry:\tthere are 4969 torsion forces in the no-nonbonded final system\n",
      "INFO:geometry:reverse final system defined with 0 neglected angles.\n"
     ]
    },
    {
     "name": "stdout",
     "output_type": "stream",
     "text": [
      "conducting subsequent work with the following platform: CUDA\n",
      "conducting subsequent work with the following platform: CUDA\n"
     ]
    },
    {
     "name": "stderr",
     "output_type": "stream",
     "text": [
      "INFO:geometry:total reduced potential before atom placement: 2279.2366360388532\n"
     ]
    },
    {
     "name": "stdout",
     "output_type": "stream",
     "text": [
      "conducting subsequent work with the following platform: CUDA\n",
      "conducting subsequent work with the following platform: CUDA\n",
      "conducting subsequent work with the following platform: CUDA\n"
     ]
    },
    {
     "name": "stderr",
     "output_type": "stream",
     "text": [
      "INFO:geometry:total reduced energy added from growth system: -62.39009687497522\n",
      "INFO:geometry:final reduced energy 2216.846539716323\n",
      "INFO:geometry:sum of energies: 2216.846539163878\n",
      "INFO:geometry:magnitude of difference in the energies: 5.524451225369376e-07\n",
      "INFO:geometry:Final logp_proposal: -10176.610183650926\n"
     ]
    },
    {
     "name": "stdout",
     "output_type": "stream",
     "text": [
      "added energy components: [('CustomBondForce', 0.4083956553523612), ('CustomAngleForce', 1.622079514297996), ('CustomTorsionForce', 17.50313698245956), ('CustomBondForce', -81.92370902708515)]\n"
     ]
    },
    {
     "name": "stderr",
     "output_type": "stream",
     "text": [
      "INFO:relative:*** Generating RxnHybridTopologyFactory ***\n",
      "INFO:relative:Beginning nonbonded method, total particle, barostat, and exceptions retrieval...\n",
      "INFO:relative:Old system forces: dict_keys(['HarmonicBondForce', 'HarmonicAngleForce', 'PeriodicTorsionForce', 'NonbondedForce'])\n",
      "INFO:relative:New system forces: dict_keys(['HarmonicBondForce', 'HarmonicAngleForce', 'PeriodicTorsionForce', 'NonbondedForce', 'MonteCarloBarostat'])\n",
      "INFO:relative:No unknown forces.\n",
      "INFO:relative:Nonbonded method to be used (i.e. from old system): 0\n",
      "INFO:relative:Adding and mapping old atoms to hybrid system...\n",
      "INFO:relative:Adding and mapping new atoms to hybrid system...\n",
      "INFO:relative:scale_templates: [['nonscale_lambda'], ['nonscale_region']]\n",
      "INFO:relative:particle (nonbonded) scale_templates: [['nonscale_lambda'], ['nonscale_region1'], ['nonscale_region2']]\n",
      "INFO:relative:No MonteCarloBarostat added.\n",
      "INFO:relative:getDefaultPeriodicBoxVectors added to hybrid: [Quantity(value=Vec3(x=5.423900000000001, y=0.0, z=0.0), unit=nanometer), Quantity(value=Vec3(x=0.0, y=5.423900000000001, z=0.0), unit=nanometer), Quantity(value=Vec3(x=0.0, y=0.0, z=5.423900000000001), unit=nanometer)]\n",
      "INFO:relative:Determined atom classes.\n",
      "INFO:relative:Generating old system exceptions dict...\n",
      "INFO:relative:Generating new system exceptions dict...\n",
      "INFO:relative:Handling constraints...\n",
      "INFO:relative:Handling virtual sites...\n",
      "INFO:relative:\t_handle_virtual_sites: numVirtualSites: 0\n",
      "INFO:relative:hybrid_index_pair (700, 703, 702, 712) was not found in the new_term_collector, but (703, 700, 702, 712) has the same atoms and terms, so (703, 700, 702, 712) will be removed from the new term collector\n",
      "INFO:relative:hybrid_index_pair (701, 702, 703, 713) was not found in the new_term_collector, but (702, 701, 703, 713) has the same atoms and terms, so (702, 701, 703, 713) will be removed from the new term collector\n",
      "INFO:relative:hybrid_index_pair (750, 754, 752, 762) was not found in the new_term_collector, but (754, 750, 752, 762) has the same atoms and terms, so (754, 750, 752, 762) will be removed from the new term collector\n",
      "INFO:relative:hybrid_index_pair (862, 859, 861, 871) was not found in the new_term_collector, but (859, 862, 861, 871) has the same atoms and terms, so (859, 862, 861, 871) will be removed from the new term collector\n",
      "INFO:relative:hybrid_index_pair (860, 861, 862, 872) was not found in the new_term_collector, but (861, 860, 862, 872) has the same atoms and terms, so (861, 860, 862, 872) will be removed from the new term collector\n",
      "INFO:relative:hybrid_index_pair (903, 913, 905, 912) was not found in the new_term_collector, but (903, 912, 905, 913) has the same atoms and terms, so (903, 912, 905, 913) will be removed from the new term collector\n",
      "INFO:relative:hybrid_index_pair (924, 920, 922, 931) was not found in the new_term_collector, but (920, 924, 922, 931) has the same atoms and terms, so (920, 924, 922, 931) will be removed from the new term collector\n",
      "INFO:relative:hybrid_index_pair (924, 921, 923, 932) was not found in the new_term_collector, but (921, 924, 923, 932) has the same atoms and terms, so (921, 924, 923, 932) will be removed from the new term collector\n",
      "INFO:relative:hybrid_index_pair (923, 922, 924, 933) was not found in the new_term_collector, but (922, 923, 924, 933) has the same atoms and terms, so (922, 923, 924, 933) will be removed from the new term collector\n",
      "INFO:relative:hybrid_index_pair (955, 964, 957, 965) was not found in the new_term_collector, but (955, 965, 957, 964) has the same atoms and terms, so (955, 965, 957, 964) will be removed from the new term collector\n",
      "INFO:relative:hybrid_index_pair (1069, 1075, 1071, 1074) was not found in the new_term_collector, but (1069, 1074, 1071, 1075) has the same atoms and terms, so (1069, 1074, 1071, 1075) will be removed from the new term collector\n",
      "INFO:relative:hybrid_index_pair (1196, 1199, 1198, 1207) was not found in the new_term_collector, but (1199, 1196, 1198, 1207) has the same atoms and terms, so (1199, 1196, 1198, 1207) will be removed from the new term collector\n",
      "INFO:relative:hybrid_index_pair (1197, 1198, 1199, 1208) was not found in the new_term_collector, but (1198, 1197, 1199, 1208) has the same atoms and terms, so (1198, 1197, 1199, 1208) will be removed from the new term collector\n",
      "INFO:proposal_generator:\tConducting polymer point mutation proposal...\n",
      "INFO:proposal_generator:Using matching_criterion to chose best atom map\n",
      "INFO:proposal_generator:Scaffold has symmetry of 0\n",
      "WARNING:proposal_generator:Two molecules are not similar to have a common scaffold\n",
      "WARNING:proposal_generator:Proceeding with direct mapping of molecules, but please check atom mapping and the geometry of the ligands.\n",
      "INFO:proposal_generator:len [{7: 9}, {8: 9}, {9: 9}, {7: 10}, {8: 10}, {9: 10}, {7: 11}, {8: 11}, {9: 11}, {7: 12}, {8: 12}, {9: 12}, {7: 13}, {8: 13}, {9: 13}]\n",
      "INFO:proposal_generator:{7: 9}\n",
      "INFO:proposal_generator:{8: 9}\n",
      "INFO:proposal_generator:{9: 9}\n",
      "INFO:proposal_generator:{7: 10}\n",
      "INFO:proposal_generator:{8: 10}\n",
      "INFO:proposal_generator:{9: 10}\n",
      "INFO:proposal_generator:{7: 11}\n",
      "INFO:proposal_generator:{8: 11}\n",
      "INFO:proposal_generator:{9: 11}\n",
      "INFO:proposal_generator:{7: 12}\n",
      "INFO:proposal_generator:{8: 12}\n",
      "INFO:proposal_generator:{9: 12}\n",
      "INFO:proposal_generator:{7: 13}\n",
      "INFO:proposal_generator:{8: 13}\n",
      "INFO:proposal_generator:{9: 13}\n",
      "INFO:proposal_generator:Returning map that best satisfies matching_criterion\n",
      "INFO:proposal_generator:Finding best map using matching_criterion name\n",
      "INFO:proposal_generator:{7: 9}\n",
      "INFO:geometry:propose: performing forward proposal\n",
      "INFO:geometry:propose: unique new atoms detected; proceeding to _logp_propose...\n",
      "INFO:geometry:Conducting forward proposal...\n",
      "INFO:geometry:Computing proposal order with NetworkX...\n",
      "INFO:geometry:number of atoms to be placed: 4\n",
      "INFO:geometry:Atom index proposal order is [673, 677, 678, 676]\n",
      "INFO:geometry:omitted_bonds: []\n",
      "INFO:geometry:direction of proposal is forward; creating atoms_with_positions and new positions from old system/topology...\n",
      "INFO:geometry:creating growth system...\n",
      "INFO:geometry:\tcreating bond force...\n",
      "INFO:geometry:\tthere are 1622 bonds in reference force.\n",
      "INFO:geometry:\tcreating angle force...\n",
      "INFO:geometry:\tthere are 5730 angles in reference force.\n",
      "INFO:geometry:\tcreating torsion force...\n",
      "INFO:geometry:\tcreating extra torsions force...\n",
      "INFO:geometry:\tthere are 10792 torsions in reference force.\n",
      "INFO:geometry:\tcreating nonbonded force...\n",
      "INFO:geometry:\t\tgrabbing reference nonbonded method, cutoff, switching function, switching distance...\n",
      "INFO:geometry:\t\tcreating nonbonded exception force (i.e. custom bond for 1,4s)...\n",
      "INFO:geometry:\t\tlooping through exceptions calculating growth indices, and adding appropriate interactions to custom bond force.\n",
      "INFO:geometry:\t\tthere are 43478 in the reference Nonbonded force\n",
      "WARNING:geometry:\t\t\t\t\tchiral atom <Atom 670 (CA) of chain 0 residue 42 (ALA)> with neighbors [<Atom 671 (C) of chain 0 residue 42 (ALA)>, <Atom 673 (CB) of chain 0 residue 42 (ALA)>, <Atom 675 (HA) of chain 0 residue 42 (ALA)>, <Atom 669 (N) of chain 0 residue 42 (ALA)>] is surrounded by 3 core neighbors.  omitting chirality bias torsion\n",
      "INFO:geometry:Neglected angle terms : []\n",
      "INFO:geometry:omitted_growth_terms: {'bonds': [], 'angles': [], 'torsions': [], '1,4s': []}\n",
      "INFO:geometry:extra torsions: {0: (674, 669, 670, 673, [1, Quantity(value=0.9799661941737812, unit=radian), Quantity(value=1200.0, unit=kilocalorie/mole), 1]), 1: (669, 670, 673, 676, [1, Quantity(value=2.105358864604291, unit=radian), Quantity(value=1200.0, unit=kilocalorie/mole), 4]), 2: (669, 670, 673, 677, [1, Quantity(value=-2.0823006129211796, unit=radian), Quantity(value=1200.0, unit=kilocalorie/mole), 2]), 3: (669, 670, 673, 678, [1, Quantity(value=0.018582237407944735, unit=radian), Quantity(value=1200.0, unit=kilocalorie/mole), 3]), 4: (671, 670, 673, 676, [1, Quantity(value=-0.036945135932107576, unit=radian), Quantity(value=1200.0, unit=kilocalorie/mole), 4]), 5: (671, 670, 673, 677, [1, Quantity(value=2.0585806937220097, unit=radian), Quantity(value=1200.0, unit=kilocalorie/mole), 2]), 6: (671, 670, 673, 678, [1, Quantity(value=-2.1237217631284597, unit=radian), Quantity(value=1200.0, unit=kilocalorie/mole), 3]), 7: (675, 670, 673, 676, [1, Quantity(value=-2.119603470065817, unit=radian), Quantity(value=1200.0, unit=kilocalorie/mole), 4]), 8: (675, 670, 673, 677, [1, Quantity(value=-0.024077640411697132, unit=radian), Quantity(value=1200.0, unit=kilocalorie/mole), 2]), 9: (675, 670, 673, 678, [1, Quantity(value=2.0768052099174152, unit=radian), Quantity(value=1200.0, unit=kilocalorie/mole), 3])}\n"
     ]
    },
    {
     "name": "stderr",
     "output_type": "stream",
     "text": [
      "INFO:geometry:neglected angle terms include []\n",
      "INFO:geometry:log probability choice of torsions and atom order: -5.78074351579233\n",
      "INFO:geometry:creating platform, integrators, and contexts; setting growth parameter\n"
     ]
    },
    {
     "name": "stdout",
     "output_type": "stream",
     "text": [
      "conducting subsequent work with the following platform: CUDA\n"
     ]
    },
    {
     "name": "stderr",
     "output_type": "stream",
     "text": [
      "INFO:geometry:setting atoms_with_positions context new positions\n"
     ]
    },
    {
     "name": "stdout",
     "output_type": "stream",
     "text": [
      "conducting subsequent work with the following platform: CUDA\n"
     ]
    },
    {
     "name": "stderr",
     "output_type": "stream",
     "text": [
      "INFO:geometry:There are 4 new atoms\n",
      "INFO:geometry:\treduced angle potential = 0.014848816962384223.\n",
      "INFO:geometry:\treduced angle potential = 0.022533818539012544.\n",
      "INFO:geometry:\treduced angle potential = 0.30606492116048095.\n",
      "INFO:geometry:\treduced angle potential = 0.5940916341694137.\n",
      "INFO:geometry:\tbeginning construction of no_nonbonded final system...\n",
      "INFO:geometry:\tinitial no-nonbonded final system forces ['HarmonicBondForce', 'HarmonicAngleForce', 'PeriodicTorsionForce', 'NonbondedForce', 'MonteCarloBarostat']\n",
      "INFO:geometry:\tfinal no-nonbonded final system forces dict_keys(['HarmonicBondForce', 'HarmonicAngleForce', 'PeriodicTorsionForce', 'NonbondedForce'])\n",
      "INFO:geometry:\tthere are 1622 bond forces in the no-nonbonded final system\n",
      "INFO:geometry:\tthere are 5730 angle forces in the no-nonbonded final system\n",
      "INFO:geometry:\tthere are 10792 torsion forces in the no-nonbonded final system\n",
      "INFO:geometry:forward final system defined with 0 neglected angles.\n"
     ]
    },
    {
     "name": "stdout",
     "output_type": "stream",
     "text": [
      "conducting subsequent work with the following platform: CUDA\n",
      "conducting subsequent work with the following platform: CUDA\n"
     ]
    },
    {
     "name": "stderr",
     "output_type": "stream",
     "text": [
      "INFO:geometry:total reduced potential before atom placement: 4792.467751597958\n"
     ]
    },
    {
     "name": "stdout",
     "output_type": "stream",
     "text": [
      "conducting subsequent work with the following platform: CUDA\n",
      "conducting subsequent work with the following platform: CUDA\n",
      "conducting subsequent work with the following platform: CUDA\n"
     ]
    },
    {
     "name": "stderr",
     "output_type": "stream",
     "text": [
      "INFO:geometry:total reduced energy added from growth system: 741.0295290633468\n",
      "INFO:geometry:final reduced energy 5533.497279960514\n",
      "INFO:geometry:sum of energies: 5533.497280661305\n",
      "INFO:geometry:magnitude of difference in the energies: 7.007912472545286e-07\n",
      "INFO:geometry:Final logp_proposal: 32.54651404530341\n"
     ]
    },
    {
     "name": "stdout",
     "output_type": "stream",
     "text": [
      "added energy components: [('CustomBondForce', 1.4047177976025613), ('CustomAngleForce', 197.16881311511847), ('CustomTorsionForce', 11.310729715018093), ('CustomBondForce', 531.1452684356076)]\n"
     ]
    },
    {
     "name": "stderr",
     "output_type": "stream",
     "text": [
      "INFO:geometry:logp_reverse: performing reverse proposal\n",
      "INFO:geometry:logp_reverse: unique new atoms detected; proceeding to _logp_propose...\n",
      "INFO:geometry:Conducting forward proposal...\n",
      "INFO:geometry:Computing proposal order with NetworkX...\n",
      "INFO:geometry:number of atoms to be placed: 8\n",
      "INFO:geometry:Atom index proposal order is [673, 675, 674, 679, 682, 678, 681, 680]\n",
      "INFO:geometry:omitted_bonds: []\n",
      "INFO:geometry:direction of proposal is reverse; creating atoms_with_positions from old system/topology\n",
      "INFO:geometry:creating growth system...\n",
      "INFO:geometry:\tcreating bond force...\n",
      "INFO:geometry:\tthere are 1624 bonds in reference force.\n",
      "INFO:geometry:\tcreating angle force...\n",
      "INFO:geometry:\tthere are 5737 angles in reference force.\n",
      "INFO:geometry:\tcreating torsion force...\n",
      "INFO:geometry:\tcreating extra torsions force...\n",
      "INFO:geometry:\tthere are 10822 torsions in reference force.\n",
      "INFO:geometry:\tcreating nonbonded force...\n",
      "INFO:geometry:\t\tgrabbing reference nonbonded method, cutoff, switching function, switching distance...\n",
      "INFO:geometry:\t\tcreating nonbonded exception force (i.e. custom bond for 1,4s)...\n",
      "INFO:geometry:\t\tlooping through exceptions calculating growth indices, and adding appropriate interactions to custom bond force.\n",
      "INFO:geometry:\t\tthere are 43501 in the reference Nonbonded force\n",
      "WARNING:geometry:\t\t\t\t\tchiral atom <Atom 670 (CA) of chain 0 residue 42 (THR)> with neighbors [<Atom 671 (C) of chain 0 residue 42 (THR)>, <Atom 673 (CB) of chain 0 residue 42 (THR)>, <Atom 677 (HA) of chain 0 residue 42 (THR)>, <Atom 669 (N) of chain 0 residue 42 (THR)>] is surrounded by 3 core neighbors.  omitting chirality bias torsion\n",
      "INFO:geometry:Neglected angle terms : []\n",
      "INFO:geometry:omitted_growth_terms: {'bonds': [], 'angles': [], 'torsions': [], '1,4s': []}\n",
      "INFO:geometry:extra torsions: {0: (676, 669, 670, 673, [1, Quantity(value=0.9900002084555819, unit=radian), Quantity(value=1200.0, unit=kilocalorie/mole), 1]), 1: (679, 674, 673, 670, [1, Quantity(value=-0.07858019216845058, unit=radian), Quantity(value=1200.0, unit=kilocalorie/mole), 4]), 2: (679, 674, 673, 675, [1, Quantity(value=2.118586571250296, unit=radian), Quantity(value=1200.0, unit=kilocalorie/mole), 4]), 3: (679, 674, 673, 678, [1, Quantity(value=-2.149781203448759, unit=radian), Quantity(value=1200.0, unit=kilocalorie/mole), 6]), 4: (670, 673, 675, 682, [1, Quantity(value=-2.1249532223845904, unit=radian), Quantity(value=1200.0, unit=kilocalorie/mole), 5]), 5: (670, 673, 675, 681, [1, Quantity(value=2.0543043017157916, unit=radian), Quantity(value=1200.0, unit=kilocalorie/mole), 7]), 6: (670, 673, 675, 680, [1, Quantity(value=-0.02223392579985184, unit=radian), Quantity(value=1200.0, unit=kilocalorie/mole), 8]), 7: (674, 673, 675, 682, [1, Quantity(value=2.0255587336734213, unit=radian), Quantity(value=1200.0, unit=kilocalorie/mole), 5]), 8: (674, 673, 675, 681, [1, Quantity(value=-0.07836904940578293, unit=radian), Quantity(value=1200.0, unit=kilocalorie/mole), 7]), 9: (674, 673, 675, 680, [1, Quantity(value=-2.154907276921426, unit=radian), Quantity(value=1200.0, unit=kilocalorie/mole), 8]), 10: (678, 673, 675, 682, [1, Quantity(value=0.007583009583349565, unit=radian), Quantity(value=1200.0, unit=kilocalorie/mole), 6]), 11: (678, 673, 675, 681, [1, Quantity(value=-2.096344773495849, unit=radian), Quantity(value=1200.0, unit=kilocalorie/mole), 7]), 12: (678, 673, 675, 680, [1, Quantity(value=2.1103023061680943, unit=radian), Quantity(value=1200.0, unit=kilocalorie/mole), 8]), 13: (675, 673, 670, 674, [1, Quantity(value=1.0655064807976995, unit=radian), Quantity(value=1200.0, unit=kilocalorie/mole), 3])}\n",
      "INFO:geometry:neglected angle terms include []\n",
      "INFO:geometry:log probability choice of torsions and atom order: -13.371595639480912\n",
      "INFO:geometry:creating platform, integrators, and contexts; setting growth parameter\n"
     ]
    },
    {
     "name": "stdout",
     "output_type": "stream",
     "text": [
      "conducting subsequent work with the following platform: CUDA\n"
     ]
    },
    {
     "name": "stderr",
     "output_type": "stream",
     "text": [
      "INFO:geometry:setting atoms_with_positions context old positions\n"
     ]
    },
    {
     "name": "stdout",
     "output_type": "stream",
     "text": [
      "conducting subsequent work with the following platform: CUDA\n"
     ]
    },
    {
     "name": "stderr",
     "output_type": "stream",
     "text": [
      "INFO:geometry:There are 8 new atoms\n",
      "INFO:geometry:\treduced angle potential = 0.1817144363741264.\n",
      "INFO:geometry:\treduced angle potential = 0.2257125237447829.\n",
      "INFO:geometry:\treduced angle potential = 0.1536280916466212.\n",
      "INFO:geometry:\treduced angle potential = 0.0066955214510641915.\n",
      "INFO:geometry:\treduced angle potential = 0.25876654048332753.\n",
      "INFO:geometry:\treduced angle potential = 0.00589659951395519.\n",
      "INFO:geometry:\treduced angle potential = 0.05657264681042365.\n",
      "INFO:geometry:\treduced angle potential = 0.023352265895512498.\n",
      "INFO:geometry:\tbeginning construction of no_nonbonded final system...\n",
      "INFO:geometry:\tinitial no-nonbonded final system forces ['HarmonicBondForce', 'HarmonicAngleForce', 'PeriodicTorsionForce', 'NonbondedForce']\n",
      "INFO:geometry:\tfinal no-nonbonded final system forces dict_keys(['HarmonicBondForce', 'HarmonicAngleForce', 'PeriodicTorsionForce', 'NonbondedForce'])\n",
      "INFO:geometry:\tthere are 1624 bond forces in the no-nonbonded final system\n",
      "INFO:geometry:\tthere are 5737 angle forces in the no-nonbonded final system\n",
      "INFO:geometry:\tthere are 10822 torsion forces in the no-nonbonded final system\n",
      "INFO:geometry:reverse final system defined with 0 neglected angles.\n"
     ]
    },
    {
     "name": "stdout",
     "output_type": "stream",
     "text": [
      "conducting subsequent work with the following platform: CUDA\n",
      "conducting subsequent work with the following platform: CUDA\n"
     ]
    },
    {
     "name": "stderr",
     "output_type": "stream",
     "text": [
      "INFO:geometry:total reduced potential before atom placement: 4792.467870677297\n"
     ]
    },
    {
     "name": "stdout",
     "output_type": "stream",
     "text": [
      "conducting subsequent work with the following platform: CUDA\n",
      "conducting subsequent work with the following platform: CUDA\n",
      "conducting subsequent work with the following platform: CUDA\n"
     ]
    },
    {
     "name": "stderr",
     "output_type": "stream",
     "text": [
      "INFO:geometry:total reduced energy added from growth system: -62.39009687497522\n",
      "INFO:geometry:final reduced energy 4730.077774354767\n",
      "INFO:geometry:sum of energies: 4730.077773802322\n",
      "INFO:geometry:magnitude of difference in the energies: 5.524455772842884e-07\n",
      "INFO:geometry:Final logp_proposal: -9679.161065999691\n"
     ]
    },
    {
     "name": "stdout",
     "output_type": "stream",
     "text": [
      "added energy components: [('CustomBondForce', 0.4083956553523612), ('CustomAngleForce', 1.622079514297996), ('CustomTorsionForce', 17.50313698245956), ('CustomBondForce', -81.92370902708515)]\n"
     ]
    },
    {
     "name": "stderr",
     "output_type": "stream",
     "text": [
      "INFO:relative:*** Generating RxnHybridTopologyFactory ***\n",
      "INFO:relative:Beginning nonbonded method, total particle, barostat, and exceptions retrieval...\n",
      "INFO:relative:Old system forces: dict_keys(['HarmonicBondForce', 'HarmonicAngleForce', 'PeriodicTorsionForce', 'NonbondedForce'])\n",
      "INFO:relative:New system forces: dict_keys(['HarmonicBondForce', 'HarmonicAngleForce', 'PeriodicTorsionForce', 'NonbondedForce', 'MonteCarloBarostat'])\n",
      "INFO:relative:No unknown forces.\n",
      "INFO:relative:Nonbonded method to be used (i.e. from old system): 0\n",
      "INFO:relative:Adding and mapping old atoms to hybrid system...\n",
      "INFO:relative:Adding and mapping new atoms to hybrid system...\n",
      "INFO:relative:scale_templates: [['nonscale_lambda'], ['nonscale_region']]\n",
      "INFO:relative:particle (nonbonded) scale_templates: [['nonscale_lambda'], ['nonscale_region1'], ['nonscale_region2']]\n",
      "INFO:relative:No MonteCarloBarostat added.\n",
      "INFO:relative:getDefaultPeriodicBoxVectors added to hybrid: [Quantity(value=Vec3(x=6.7997, y=0.0, z=0.0), unit=nanometer), Quantity(value=Vec3(x=0.0, y=6.7997, z=0.0), unit=nanometer), Quantity(value=Vec3(x=0.0, y=0.0, z=6.7997), unit=nanometer)]\n",
      "INFO:relative:Determined atom classes.\n",
      "INFO:relative:Generating old system exceptions dict...\n",
      "INFO:relative:Generating new system exceptions dict...\n",
      "INFO:relative:Handling constraints...\n",
      "INFO:relative:Handling virtual sites...\n",
      "INFO:relative:\t_handle_virtual_sites: numVirtualSites: 0\n",
      "INFO:relative:hybrid_index_pair (700, 703, 702, 712) was not found in the new_term_collector, but (703, 700, 702, 712) has the same atoms and terms, so (703, 700, 702, 712) will be removed from the new term collector\n",
      "INFO:relative:hybrid_index_pair (701, 702, 703, 713) was not found in the new_term_collector, but (702, 701, 703, 713) has the same atoms and terms, so (702, 701, 703, 713) will be removed from the new term collector\n",
      "INFO:relative:hybrid_index_pair (750, 754, 752, 762) was not found in the new_term_collector, but (754, 750, 752, 762) has the same atoms and terms, so (754, 750, 752, 762) will be removed from the new term collector\n",
      "INFO:relative:hybrid_index_pair (862, 859, 861, 871) was not found in the new_term_collector, but (859, 862, 861, 871) has the same atoms and terms, so (859, 862, 861, 871) will be removed from the new term collector\n",
      "INFO:relative:hybrid_index_pair (860, 861, 862, 872) was not found in the new_term_collector, but (861, 860, 862, 872) has the same atoms and terms, so (861, 860, 862, 872) will be removed from the new term collector\n",
      "INFO:relative:hybrid_index_pair (903, 913, 905, 912) was not found in the new_term_collector, but (903, 912, 905, 913) has the same atoms and terms, so (903, 912, 905, 913) will be removed from the new term collector\n",
      "INFO:relative:hybrid_index_pair (924, 920, 922, 931) was not found in the new_term_collector, but (920, 924, 922, 931) has the same atoms and terms, so (920, 924, 922, 931) will be removed from the new term collector\n",
      "INFO:relative:hybrid_index_pair (924, 921, 923, 932) was not found in the new_term_collector, but (921, 924, 923, 932) has the same atoms and terms, so (921, 924, 923, 932) will be removed from the new term collector\n",
      "INFO:relative:hybrid_index_pair (923, 922, 924, 933) was not found in the new_term_collector, but (922, 923, 924, 933) has the same atoms and terms, so (922, 923, 924, 933) will be removed from the new term collector\n",
      "INFO:relative:hybrid_index_pair (955, 964, 957, 965) was not found in the new_term_collector, but (955, 965, 957, 964) has the same atoms and terms, so (955, 965, 957, 964) will be removed from the new term collector\n",
      "INFO:relative:hybrid_index_pair (1069, 1075, 1071, 1074) was not found in the new_term_collector, but (1069, 1074, 1071, 1075) has the same atoms and terms, so (1069, 1074, 1071, 1075) will be removed from the new term collector\n",
      "INFO:relative:hybrid_index_pair (1196, 1199, 1198, 1207) was not found in the new_term_collector, but (1199, 1196, 1198, 1207) has the same atoms and terms, so (1199, 1196, 1198, 1207) will be removed from the new term collector\n",
      "INFO:relative:hybrid_index_pair (1197, 1198, 1199, 1208) was not found in the new_term_collector, but (1198, 1197, 1199, 1208) has the same atoms and terms, so (1198, 1197, 1199, 1208) will be removed from the new term collector\n",
      "INFO:relative:hybrid_index_pair (1490, 1498, 1492, 1497) was not found in the new_term_collector, but (1490, 1497, 1492, 1498) has the same atoms and terms, so (1490, 1497, 1492, 1498) will be removed from the new term collector\n",
      "INFO:relative:hybrid_index_pair (1523, 1520, 1522, 1531) was not found in the new_term_collector, but (1520, 1523, 1522, 1531) has the same atoms and terms, so (1520, 1523, 1522, 1531) will be removed from the new term collector\n",
      "INFO:relative:hybrid_index_pair (1522, 1521, 1523, 1532) was not found in the new_term_collector, but (1521, 1522, 1523, 1532) has the same atoms and terms, so (1521, 1522, 1523, 1532) will be removed from the new term collector\n",
      "INFO:relative:hybrid_index_pair (1669, 1666, 1667, 1677) was not found in the new_term_collector, but (1666, 1669, 1667, 1677) has the same atoms and terms, so (1666, 1669, 1667, 1677) will be removed from the new term collector\n",
      "INFO:relative:hybrid_index_pair (1670, 1666, 1668, 1678) was not found in the new_term_collector, but (1666, 1670, 1668, 1678) has the same atoms and terms, so (1666, 1670, 1668, 1678) will be removed from the new term collector\n",
      "INFO:relative:hybrid_index_pair (1771, 1779, 1773, 1778) was not found in the new_term_collector, but (1771, 1778, 1773, 1779) has the same atoms and terms, so (1771, 1778, 1773, 1779) will be removed from the new term collector\n",
      "INFO:relative:hybrid_index_pair (1788, 1785, 1786, 1796) was not found in the new_term_collector, but (1785, 1788, 1786, 1796) has the same atoms and terms, so (1785, 1788, 1786, 1796) will be removed from the new term collector\n",
      "INFO:relative:hybrid_index_pair (1789, 1785, 1787, 1797) was not found in the new_term_collector, but (1785, 1789, 1787, 1797) has the same atoms and terms, so (1785, 1789, 1787, 1797) will be removed from the new term collector\n",
      "INFO:relative:hybrid_index_pair (1958, 1955, 1957, 1967) was not found in the new_term_collector, but (1955, 1958, 1957, 1967) has the same atoms and terms, so (1955, 1958, 1957, 1967) will be removed from the new term collector\n",
      "INFO:relative:hybrid_index_pair (1956, 1957, 1958, 1968) was not found in the new_term_collector, but (1957, 1956, 1958, 1968) has the same atoms and terms, so (1957, 1956, 1958, 1968) will be removed from the new term collector\n",
      "INFO:relative:hybrid_index_pair (2244, 2240, 2242, 2251) was not found in the new_term_collector, but (2240, 2244, 2242, 2251) has the same atoms and terms, so (2240, 2244, 2242, 2251) will be removed from the new term collector\n",
      "INFO:relative:hybrid_index_pair (2244, 2241, 2243, 2252) was not found in the new_term_collector, but (2241, 2244, 2243, 2252) has the same atoms and terms, so (2241, 2244, 2243, 2252) will be removed from the new term collector\n",
      "INFO:relative:hybrid_index_pair (2243, 2242, 2244, 2253) was not found in the new_term_collector, but (2242, 2243, 2244, 2253) has the same atoms and terms, so (2242, 2243, 2244, 2253) will be removed from the new term collector\n",
      "INFO:relative:hybrid_index_pair (2270, 2277, 2272, 2278) was not found in the new_term_collector, but (2270, 2278, 2272, 2277) has the same atoms and terms, so (2270, 2278, 2272, 2277) will be removed from the new term collector\n",
      "INFO:relative:hybrid_index_pair (2286, 2288, 2287, 2289) was not found in the new_term_collector, but (2288, 2287, 2286, 2289) has the same atoms and terms, so (2288, 2287, 2286, 2289) will be removed from the new term collector\n",
      "INFO:relative:hybrid_index_pair (2436, 2435, 2434, 2437) was not found in the new_term_collector, but (2434, 2436, 2435, 2437) has the same atoms and terms, so (2434, 2436, 2435, 2437) will be removed from the new term collector\n",
      "INFO:relative:hybrid_index_pair (2478, 2475, 2477, 2487) was not found in the new_term_collector, but (2475, 2478, 2477, 2487) has the same atoms and terms, so (2475, 2478, 2477, 2487) will be removed from the new term collector\n",
      "INFO:relative:hybrid_index_pair (2476, 2477, 2478, 2488) was not found in the new_term_collector, but (2477, 2476, 2478, 2488) has the same atoms and terms, so (2477, 2476, 2478, 2488) will be removed from the new term collector\n"
     ]
    },
    {
     "name": "stderr",
     "output_type": "stream",
     "text": [
      "INFO:relative:hybrid_index_pair (2588, 2592, 2590, 2600) was not found in the new_term_collector, but (2592, 2588, 2590, 2600) has the same atoms and terms, so (2592, 2588, 2590, 2600) will be removed from the new term collector\n",
      "INFO:relative:hybrid_index_pair (2644, 2641, 2642, 2651) was not found in the new_term_collector, but (2641, 2644, 2642, 2651) has the same atoms and terms, so (2641, 2644, 2642, 2651) will be removed from the new term collector\n",
      "INFO:relative:hybrid_index_pair (2663, 2665, 2664, 2666) was not found in the new_term_collector, but (2665, 2664, 2663, 2666) has the same atoms and terms, so (2665, 2664, 2663, 2666) will be removed from the new term collector\n",
      "INFO:relative:hybrid_index_pair (2787, 2784, 2785, 2795) was not found in the new_term_collector, but (2784, 2787, 2785, 2795) has the same atoms and terms, so (2784, 2787, 2785, 2795) will be removed from the new term collector\n",
      "INFO:relative:hybrid_index_pair (2788, 2784, 2786, 2796) was not found in the new_term_collector, but (2784, 2788, 2786, 2796) has the same atoms and terms, so (2784, 2788, 2786, 2796) will be removed from the new term collector\n",
      "INFO:relative:hybrid_index_pair (2844, 2847, 2846, 2856) was not found in the new_term_collector, but (2847, 2844, 2846, 2856) has the same atoms and terms, so (2847, 2844, 2846, 2856) will be removed from the new term collector\n",
      "INFO:relative:hybrid_index_pair (2845, 2846, 2847, 2857) was not found in the new_term_collector, but (2846, 2845, 2847, 2857) has the same atoms and terms, so (2846, 2845, 2847, 2857) will be removed from the new term collector\n",
      "INFO:relative:hybrid_index_pair (2901, 2904, 2902, 2912) was not found in the new_term_collector, but (2904, 2901, 2902, 2912) has the same atoms and terms, so (2904, 2901, 2902, 2912) will be removed from the new term collector\n",
      "INFO:relative:hybrid_index_pair (3004, 3001, 3002, 3012) was not found in the new_term_collector, but (3001, 3004, 3002, 3012) has the same atoms and terms, so (3001, 3004, 3002, 3012) will be removed from the new term collector\n",
      "INFO:relative:hybrid_index_pair (3023, 3033, 3025, 3032) was not found in the new_term_collector, but (3023, 3032, 3025, 3033) has the same atoms and terms, so (3023, 3032, 3025, 3033) will be removed from the new term collector\n",
      "INFO:relative:hybrid_index_pair (3053, 3056, 3054, 3063) was not found in the new_term_collector, but (3056, 3053, 3054, 3063) has the same atoms and terms, so (3056, 3053, 3054, 3063) will be removed from the new term collector\n",
      "INFO:relative:hybrid_index_pair (3132, 3131, 3130, 3133) was not found in the new_term_collector, but (3130, 3132, 3131, 3133) has the same atoms and terms, so (3130, 3132, 3131, 3133) will be removed from the new term collector\n"
     ]
    }
   ],
   "source": [
    "solvent_delivery = PointMutationExecutor2(\"../../input/mmc2_barstar.pdb\",\n",
    "                        '1',\n",
    "                        \"42\",\n",
    "                        \"ALA\",\n",
    "                        ligand_input=\"../../input/mmc2_barnase.pdb\",\n",
    "                        ionic_strength=0.05*unit.molar,\n",
    "                        flatten_torsions=True,\n",
    "                        flatten_exceptions=True, \n",
    "                        conduct_endstate_validation=False,\n",
    "                        rxn_field=True\n",
    "                       )"
   ]
  },
  {
   "cell_type": "code",
   "execution_count": 23,
   "id": "691b164c",
   "metadata": {},
   "outputs": [],
   "source": [
    "complex_htf = solvent_delivery.get_complex_htf()\n",
    "\n",
    "complex_htf._topology_proposal.new_system.getForce(3).setNonbondedMethod(openmm.NonbondedForce.NoCutoff)\n",
    "complex_htf._topology_proposal.new_system.getForce(3).setUseDispersionCorrection(False)\n",
    "complex_htf._topology_proposal.new_system.removeForce(4) # Remove barostat\n",
    "\n"
   ]
  },
  {
   "cell_type": "code",
   "execution_count": 27,
   "id": "da2baf07",
   "metadata": {},
   "outputs": [],
   "source": [
    "# pickle.dump(apo_htf, open(\"T42A_apo.pickle\", \"wb\" ))\n",
    "pickle.dump(complex_htf, open(\"T42A_complex.pickle\", \"wb\" ))\n"
   ]
  },
  {
   "cell_type": "markdown",
   "id": "dated-desire",
   "metadata": {},
   "source": [
    "#### Old system PeroidicTorsionForce vs hybrid system CustomTorsionForce"
   ]
  },
  {
   "cell_type": "code",
   "execution_count": 28,
   "id": "excellent-cosmetic",
   "metadata": {},
   "outputs": [],
   "source": [
    "# Load htf\n",
    "with open(\"T42A_complex.pickle\", \"rb\") as f:\n",
    "    htf = pickle.load(f)"
   ]
  },
  {
   "cell_type": "code",
   "execution_count": 29,
   "id": "bigger-meeting",
   "metadata": {
    "scrolled": true
   },
   "outputs": [
    {
     "name": "stdout",
     "output_type": "stream",
     "text": [
      "Warning: Returning CPU platform instead of requested platform <simtk.openmm.openmm.Platform; proxy of <Swig Object of type 'OpenMM::Platform *' at 0x2b8664bdf900> >\n",
      "conducting subsequent work with the following platform: CPU\n",
      "conducting subsequent work with the following platform: CUDA\n",
      "[('HarmonicBondForce', 189.69678123582867), ('HarmonicAngleForce', 791.7783222646883), ('PeriodicTorsionForce', 3830.526380065008), ('NonbondedForce', -156915.80021943303), ('AndersenThermostat', 0.0)]\n",
      "conducting subsequent work with the following platform: CUDA\n",
      "[('CustomBondForce', 191.1014990334312), ('CustomAngleForce', 988.9471353798067), ('CustomTorsionForce', 3830.526609908918), ('CustomNonbondedForce', -171276.3928885331), ('CustomNonbondedForce', 56941.32190437939), ('CustomBondForce', 14360.59463495793), ('CustomBondForce', 1038.0966743330835), ('AndersenThermostat', 0.0)]\n",
      "Success! Custom nb force and standard nb force electrostatics energies are equal!\n"
     ]
    }
   ],
   "source": [
    "test_nb_energies(htf, is_solvated=True)"
   ]
  },
  {
   "cell_type": "code",
   "execution_count": 30,
   "id": "14b75bbd",
   "metadata": {},
   "outputs": [],
   "source": [
    "# Load htf\n",
    "with open(\"T42A_complex.pickle\", \"rb\") as f:\n",
    "    htf = pickle.load(f)"
   ]
  },
  {
   "cell_type": "code",
   "execution_count": 31,
   "id": "10d21359",
   "metadata": {},
   "outputs": [
    {
     "name": "stdout",
     "output_type": "stream",
     "text": [
      "Warning: Returning CPU platform instead of requested platform <simtk.openmm.openmm.Platform; proxy of <Swig Object of type 'OpenMM::Platform *' at 0x2b8664bdf900> >\n",
      "conducting subsequent work with the following platform: CPU\n",
      "conducting subsequent work with the following platform: CUDA\n",
      "[('HarmonicBondForce', 189.69678123582867), ('HarmonicAngleForce', 791.7783222646883), ('PeriodicTorsionForce', 3830.526380065008), ('NonbondedForce', 57979.4165972208), ('AndersenThermostat', 0.0)]\n",
      "conducting subsequent work with the following platform: CUDA\n",
      "[('CustomBondForce', 191.1014990334312), ('CustomAngleForce', 988.9471353798067), ('CustomTorsionForce', 3830.526609908918), ('CustomNonbondedForce', -171276.3928885331), ('CustomNonbondedForce', 56941.32190437939), ('CustomBondForce', 14360.59463495793), ('CustomBondForce', 1038.0966743330835), ('AndersenThermostat', 0.0)]\n",
      "Success! Custom nb force and standard nb force sterics energies are equal!\n"
     ]
    }
   ],
   "source": [
    "test_nb_energies(htf, is_electrostatics=False, is_solvated=True)"
   ]
  },
  {
   "cell_type": "markdown",
   "id": "satisfactory-taxation",
   "metadata": {},
   "source": [
    "#### New system HarmonicTorsionForce vs hybrid system CustomTorsionForce"
   ]
  },
  {
   "cell_type": "code",
   "execution_count": 32,
   "id": "turkish-exclusive",
   "metadata": {},
   "outputs": [],
   "source": [
    "# Load htf\n",
    "with open(\"T42A_complex.pickle\", \"rb\") as f:\n",
    "    htf = pickle.load(f)"
   ]
  },
  {
   "cell_type": "code",
   "execution_count": 33,
   "id": "cordless-kitty",
   "metadata": {
    "scrolled": true
   },
   "outputs": [
    {
     "name": "stdout",
     "output_type": "stream",
     "text": [
      "Warning: Returning CPU platform instead of requested platform <simtk.openmm.openmm.Platform; proxy of <Swig Object of type 'OpenMM::Platform *' at 0x2b8664bdf900> >\n",
      "conducting subsequent work with the following platform: CPU\n",
      "conducting subsequent work with the following platform: CUDA\n",
      "[('HarmonicBondForce', 190.69310337807886), ('HarmonicAngleForce', 987.3250558655088), ('PeriodicTorsionForce', 3824.333851956954), ('NonbondedForce', -156840.5046198266), ('AndersenThermostat', 0.0)]\n",
      "conducting subsequent work with the following platform: CUDA\n",
      "[('CustomBondForce', 191.1014990334312), ('CustomAngleForce', 988.9471353798067), ('CustomTorsionForce', 3830.526609908918), ('CustomNonbondedForce', -171297.47395235125), ('CustomNonbondedForce', 56941.32190437939), ('CustomBondForce', 14456.971298751589), ('CustomBondForce', 1038.0966743330835), ('AndersenThermostat', 0.0)]\n",
      "Success! Custom nb force and standard nb force electrostatics energies are equal!\n"
     ]
    }
   ],
   "source": [
    "test_nb_energies(htf, is_old=False, is_solvated=True)"
   ]
  },
  {
   "cell_type": "code",
   "execution_count": 3,
   "id": "720bd2a2",
   "metadata": {},
   "outputs": [],
   "source": [
    "# Load htf\n",
    "with open(\"T42A_complex.pickle\", \"rb\") as f:\n",
    "    htf = pickle.load(f)"
   ]
  },
  {
   "cell_type": "code",
   "execution_count": 4,
   "id": "c95b2734",
   "metadata": {
    "scrolled": false
   },
   "outputs": [
    {
     "name": "stdout",
     "output_type": "stream",
     "text": [
      "Warning: Returning CPU platform instead of requested platform <simtk.openmm.openmm.Platform; proxy of <Swig Object of type 'OpenMM::Platform *' at 0x2ae6f7976390> >\n",
      "conducting subsequent work with the following platform: CPU\n",
      "conducting subsequent work with the following platform: CUDA\n",
      "[('HarmonicBondForce', 190.69310337808287), ('HarmonicAngleForce', 987.3250558655093), ('PeriodicTorsionForce', 3824.333851956955), ('NonbondedForce', 58507.19817341124), ('AndersenThermostat', 0.0)]\n",
      "conducting subsequent work with the following platform: CUDA\n",
      "[('CustomBondForce', 191.1014990334312), ('CustomAngleForce', 988.9471353798067), ('CustomTorsionForce', 3830.526609908918), ('CustomNonbondedForce', -171276.3928885331), ('CustomNonbondedForce', 56956.17243688812), ('CustomBondForce', 14360.59463495793), ('CustomBondForce', 1551.0277152664694), ('AndersenThermostat', 0.0)]\n",
      "Success! Custom nb force and standard nb force sterics energies are equal!\n"
     ]
    }
   ],
   "source": [
    "context = test_nb_energies(htf, is_electrostatics=False, is_old=False, is_solvated=True)"
   ]
  },
  {
   "cell_type": "code",
   "execution_count": 5,
   "id": "38179913",
   "metadata": {},
   "outputs": [
    {
     "name": "stdout",
     "output_type": "stream",
     "text": [
      "AndersenCollisionFrequency 1.0\n",
      "AndersenTemperature 300.0\n",
      "lambda_0_angles_new 0.0\n",
      "lambda_0_angles_old 1.0\n",
      "lambda_0_bonds_new 0.0\n",
      "lambda_0_bonds_old 1.0\n",
      "lambda_0_electrostatics_exceptions_new 0.0\n",
      "lambda_0_electrostatics_exceptions_old 1.0\n",
      "lambda_0_electrostatics_new 0.0\n",
      "lambda_0_electrostatics_old 1.0\n",
      "lambda_0_sterics_exceptions_new 1.0\n",
      "lambda_0_sterics_exceptions_old 0.0\n",
      "lambda_0_sterics_new 1.0\n",
      "lambda_0_sterics_old 0.0\n",
      "lambda_0_torsions_new 0.0\n",
      "lambda_0_torsions_old 1.0\n",
      "nonscale_lambda_angles 1.0\n",
      "nonscale_lambda_bonds 1.0\n",
      "nonscale_lambda_electrostatics 1.0\n",
      "nonscale_lambda_electrostatics_exceptions 1.0\n",
      "nonscale_lambda_sterics 1.0\n",
      "nonscale_lambda_sterics_exceptions 1.0\n",
      "nonscale_lambda_torsions 1.0\n"
     ]
    }
   ],
   "source": [
    "for param, val in context.getParameters().items():\n",
    "    print(param, val)"
   ]
  },
  {
   "cell_type": "code",
   "execution_count": null,
   "id": "7ba99c4b",
   "metadata": {},
   "outputs": [],
   "source": [
    "# TO DO: actually test the scaling of the energies matches"
   ]
  }
 ],
 "metadata": {
  "kernelspec": {
   "display_name": "Python 3",
   "language": "python",
   "name": "python3"
  },
  "language_info": {
   "codemirror_mode": {
    "name": "ipython",
    "version": 3
   },
   "file_extension": ".py",
   "mimetype": "text/x-python",
   "name": "python",
   "nbconvert_exporter": "python",
   "pygments_lexer": "ipython3",
   "version": "3.8.8"
  }
 },
 "nbformat": 4,
 "nbformat_minor": 5
}
