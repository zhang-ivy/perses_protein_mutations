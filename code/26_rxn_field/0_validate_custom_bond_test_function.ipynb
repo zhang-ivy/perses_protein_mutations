{
 "cells": [
  {
   "cell_type": "markdown",
   "id": "deeef215",
   "metadata": {},
   "source": [
    "Note: I left the code to generate the htfs for each test system in the notebook, but if you don't want to re-generate, you can use the pickled htf that I saved (I left the full path in for you). I generated these htfs based after you added support for `lambda_{i}_bonds_old/new` and `scale_lambda_0_bonds`"
   ]
  },
  {
   "cell_type": "code",
   "execution_count": 2,
   "id": "ac051fbf",
   "metadata": {},
   "outputs": [],
   "source": [
    "from openmmtools.states import SamplerState, ThermodynamicState, CompoundThermodynamicState\n",
    "from simtk import unit, openmm\n",
    "from perses.tests.utils import compute_potential_components\n",
    "from openmmtools.constants import kB\n",
    "from perses.dispersed.utils import configure_platform\n",
    "from perses.annihilation.rest import RESTTopologyFactory\n",
    "from perses.annihilation.lambda_protocol import RESTState\n",
    "import numpy as np\n",
    "from perses.tests.test_topology_proposal import generate_atp, generate_dipeptide_top_pos_sys\n",
    "from openmmtools.testsystems import AlanineDipeptideVacuum, AlanineDipeptideExplicit\n",
    "import itertools\n",
    "from perses.tests.test_topology_proposal import generate_dipeptide_top_pos_sys, generate_atp\n",
    "import pickle\n",
    "\n",
    "#############################################\n",
    "# CONSTANTS\n",
    "#############################################\n",
    "temperature = 298.0 * unit.kelvin\n",
    "kT = kB * temperature\n",
    "beta = 1.0/kT\n",
    "REFERENCE_PLATFORM = openmm.Platform.getPlatformByName(\"CUDA\")\n"
   ]
  },
  {
   "cell_type": "code",
   "execution_count": 3,
   "id": "69ee892f",
   "metadata": {},
   "outputs": [],
   "source": [
    "def test_bond_energies(htf, is_old=True, is_solvated=False):\n",
    "    # Get harmonic bond force and old/new positions\n",
    "    system = htf._topology_proposal.old_system if is_old else htf._topology_proposal.new_system\n",
    "    harmonic_bond_force = system.getForce(0) \n",
    "    positions = htf.old_positions(htf.hybrid_positions) if is_old else htf.new_positions(htf.hybrid_positions)\n",
    "    \n",
    "    # Get custom bond force and hybrid positions\n",
    "    bond_force_index = 1 if is_solvated else 0\n",
    "    hybrid_system = htf.hybrid_system\n",
    "    custom_bond_force = hybrid_system.getForce(bond_force_index)\n",
    "    hybrid_positions = htf.hybrid_positions\n",
    "    \n",
    "    # Set global parameters\n",
    "    lambda_old = 1 if is_old else 0\n",
    "    lambda_new = 0 if is_old else 1\n",
    "    for i in range(custom_bond_force.getNumGlobalParameters()):\n",
    "        if custom_bond_force.getGlobalParameterName(i) == 'lambda_0_bonds_old':\n",
    "            custom_bond_force.setGlobalParameterDefaultValue(i, lambda_old)\n",
    "        if custom_bond_force.getGlobalParameterName(i) == 'lambda_0_bonds_new':\n",
    "            custom_bond_force.setGlobalParameterDefaultValue(i, lambda_new)\n",
    "            \n",
    "#     for hybrid_idx, idx in htf._hybrid_to_environment_bond_indices.items():\n",
    "#         p1, p2, length, k = harmonic_bond_force.getBondParameters(idx)\n",
    "#         harmonic_bond_force.setBondParameters(hybrid_idx, p1, p2, length, k*0)\n",
    "        \n",
    "    # Zero the unique old/new bonds in the custom bond force\n",
    "    hybrid_to_bond_indices = htf._hybrid_to_new_bond_indices if is_old else htf._hybrid_to_old_bond_indices\n",
    "    for hybrid_idx, idx in hybrid_to_bond_indices.items():\n",
    "        p1, p2, hybrid_params = custom_bond_force.getBondParameters(hybrid_idx)\n",
    "        hybrid_params = list(hybrid_params)\n",
    "        index_to_zero = -3 if is_old else -1\n",
    "        hybrid_params[index_to_zero] *= 0\n",
    "        custom_bond_force.setBondParameters(hybrid_idx, p1, p2, hybrid_params)\n",
    "\n",
    "#     # Zero the unique old/new bonds in the custom bond force\n",
    "#     hybrid_to_bond_indices = htf._hybrid_to_environment_bond_indices\n",
    "#     for hybrid_idx, idx in hybrid_to_bond_indices.items():\n",
    "#         p1, p2, hybrid_params = custom_bond_force.getBondParameters(hybrid_idx)\n",
    "#         hybrid_params = list(hybrid_params)\n",
    "# #         index_to_zero = -1 if is_old else -3\n",
    "#         hybrid_params[-1] *= 0\n",
    "#         hybrid_params[-2] *= 0\n",
    "    \n",
    "            \n",
    "#         custom_bond_force.setBondParameters(hybrid_idx, p1, p2, hybrid_params)\n",
    "\n",
    "    ## Get energy components of standard bond force\n",
    "    platform = configure_platform(REFERENCE_PLATFORM)\n",
    "    thermostate_other = ThermodynamicState(system=system, temperature=temperature)\n",
    "    integrator_other = openmm.VerletIntegrator(1.0*unit.femtosecond)\n",
    "    context_other = thermostate_other.create_context(integrator_other)\n",
    "    context_other.setPositions(positions)\n",
    "    components_other = compute_potential_components(context_other, beta=beta)\n",
    "    print(components_other)\n",
    "    \n",
    "    ## Get energy components of custom bond force\n",
    "    if is_solvated:\n",
    "        custom_bond_force.setUsesPeriodicBoundaryConditions(True)\n",
    "    thermostate_hybrid = ThermodynamicState(system=hybrid_system, temperature=temperature)\n",
    "    integrator_hybrid = openmm.VerletIntegrator(1.0 * unit.femtosecond)\n",
    "    context_hybrid = thermostate_hybrid.create_context(integrator_hybrid)\n",
    "    context_hybrid.setPositions(hybrid_positions)\n",
    "    components_hybrid = compute_potential_components(context_hybrid, beta=beta)\n",
    "    print(components_hybrid)\n",
    "    \n",
    "    assert np.isclose([components_other[0][1]], [components_hybrid[0][1]])\n",
    "    \n",
    "    print(\"Success! Custom bond force and standard bond force energies are equal!\")"
   ]
  },
  {
   "cell_type": "markdown",
   "id": "434a0b31",
   "metadata": {},
   "source": [
    "# Alanine dipeptide in vacuum"
   ]
  },
  {
   "cell_type": "code",
   "execution_count": 3,
   "id": "723a6506",
   "metadata": {
    "scrolled": true
   },
   "outputs": [
    {
     "name": "stderr",
     "output_type": "stream",
     "text": [
      "DEBUG:openmmforcefields.system_generators:Trying GAFFTemplateGenerator to load gaff-2.11\n",
      "INFO:proposal_generator:\tConducting polymer point mutation proposal...\n",
      "INFO:proposal_generator:Using matching_criterion to chose best atom map\n",
      "INFO:proposal_generator:Scaffold has symmetry of 0\n",
      "WARNING:proposal_generator:Two molecules are not similar to have a common scaffold\n",
      "WARNING:proposal_generator:Proceeding with direct mapping of molecules, but please check atom mapping and the geometry of the ligands.\n",
      "INFO:proposal_generator:len [{9: 7}, {10: 7}, {11: 7}, {12: 7}, {13: 7}, {9: 8}, {10: 8}, {11: 8}, {12: 8}, {13: 8}, {9: 9}, {10: 9}, {11: 9}, {12: 9}, {13: 9}]\n",
      "INFO:proposal_generator:{9: 7}\n",
      "INFO:proposal_generator:{10: 7}\n",
      "INFO:proposal_generator:{11: 7}\n",
      "INFO:proposal_generator:{12: 7}\n",
      "INFO:proposal_generator:{13: 7}\n",
      "INFO:proposal_generator:{9: 8}\n",
      "INFO:proposal_generator:{10: 8}\n",
      "INFO:proposal_generator:{11: 8}\n",
      "INFO:proposal_generator:{12: 8}\n",
      "INFO:proposal_generator:{13: 8}\n",
      "INFO:proposal_generator:{9: 9}\n",
      "INFO:proposal_generator:{10: 9}\n",
      "INFO:proposal_generator:{11: 9}\n",
      "INFO:proposal_generator:{12: 9}\n",
      "INFO:proposal_generator:{13: 9}\n",
      "INFO:proposal_generator:Returning map that best satisfies matching_criterion\n",
      "INFO:proposal_generator:Finding best map using matching_criterion name\n",
      "INFO:proposal_generator:{9: 7}\n",
      "INFO:geometry:propose: performing forward proposal\n",
      "INFO:geometry:propose: unique new atoms detected; proceeding to _logp_propose...\n",
      "INFO:geometry:Conducting forward proposal...\n",
      "INFO:geometry:Computing proposal order with NetworkX...\n",
      "INFO:geometry:number of atoms to be placed: 8\n",
      "INFO:geometry:Atom index proposal order is [10, 18, 14, 13, 15, 16, 19, 17]\n",
      "INFO:geometry:omitted_bonds: []\n",
      "INFO:geometry:direction of proposal is forward; creating atoms_with_positions and new positions from old system/topology...\n",
      "INFO:geometry:creating growth system...\n",
      "INFO:geometry:\tcreating bond force...\n",
      "INFO:geometry:\tthere are 11 bonds in reference force.\n",
      "INFO:geometry:\tcreating angle force...\n",
      "INFO:geometry:\tthere are 43 angles in reference force.\n",
      "INFO:geometry:\tcreating torsion force...\n",
      "INFO:geometry:\tcreating extra torsions force...\n",
      "INFO:geometry:\tthere are 72 torsions in reference force.\n",
      "INFO:geometry:\tcreating nonbonded force...\n",
      "INFO:geometry:\t\tgrabbing reference nonbonded method, cutoff, switching function, switching distance...\n",
      "INFO:geometry:\t\tcreating nonbonded exception force (i.e. custom bond for 1,4s)...\n",
      "INFO:geometry:\t\tlooping through exceptions calculating growth indices, and adding appropriate interactions to custom bond force.\n",
      "INFO:geometry:\t\tthere are 121 in the reference Nonbonded force\n",
      "WARNING:geometry:\t\t\t\t\tchiral atom <Atom 8 (CA) of chain 0 residue 1 (THR)> with neighbors [<Atom 9 (HA) of chain 0 residue 1 (THR)>, <Atom 10 (CB) of chain 0 residue 1 (THR)>, <Atom 11 (C) of chain 0 residue 1 (THR)>, <Atom 6 (N) of chain 0 residue 1 (THR)>] is surrounded by 3 core neighbors.  omitting chirality bias torsion\n",
      "INFO:geometry:Neglected angle terms : []\n",
      "INFO:geometry:omitted_growth_terms: {'bonds': [], 'angles': [], 'torsions': [], '1,4s': []}\n",
      "INFO:geometry:extra torsions: {0: (7, 6, 8, 10, [1, Quantity(value=0.9900002084555819, unit=radian), Quantity(value=1200.0, unit=kilocalorie/mole), 1]), 1: (19, 18, 10, 8, [1, Quantity(value=-0.07858019216845058, unit=radian), Quantity(value=1200.0, unit=kilocalorie/mole), 7]), 2: (19, 18, 10, 14, [1, Quantity(value=2.118586571250296, unit=radian), Quantity(value=1200.0, unit=kilocalorie/mole), 7]), 3: (19, 18, 10, 13, [1, Quantity(value=-2.149781203448759, unit=radian), Quantity(value=1200.0, unit=kilocalorie/mole), 7]), 4: (8, 10, 14, 17, [1, Quantity(value=-2.1249532223845904, unit=radian), Quantity(value=1200.0, unit=kilocalorie/mole), 8]), 5: (8, 10, 14, 16, [1, Quantity(value=2.0543043017157916, unit=radian), Quantity(value=1200.0, unit=kilocalorie/mole), 6]), 6: (8, 10, 14, 15, [1, Quantity(value=-0.02223392579985184, unit=radian), Quantity(value=1200.0, unit=kilocalorie/mole), 5]), 7: (18, 10, 14, 17, [1, Quantity(value=2.0255587336734213, unit=radian), Quantity(value=1200.0, unit=kilocalorie/mole), 8]), 8: (18, 10, 14, 16, [1, Quantity(value=-0.07836904940578293, unit=radian), Quantity(value=1200.0, unit=kilocalorie/mole), 6]), 9: (18, 10, 14, 15, [1, Quantity(value=-2.154907276921426, unit=radian), Quantity(value=1200.0, unit=kilocalorie/mole), 5]), 10: (13, 10, 14, 17, [1, Quantity(value=0.007583009583349565, unit=radian), Quantity(value=1200.0, unit=kilocalorie/mole), 8]), 11: (13, 10, 14, 16, [1, Quantity(value=-2.096344773495849, unit=radian), Quantity(value=1200.0, unit=kilocalorie/mole), 6]), 12: (13, 10, 14, 15, [1, Quantity(value=2.1103023061680943, unit=radian), Quantity(value=1200.0, unit=kilocalorie/mole), 5]), 13: (18, 10, 8, 14, [1, Quantity(value=-1.0655064807976995, unit=radian), Quantity(value=1200.0, unit=kilocalorie/mole), 3])}\n",
      "INFO:geometry:neglected angle terms include []\n",
      "INFO:geometry:log probability choice of torsions and atom order: -13.553917196274867\n",
      "INFO:geometry:creating platform, integrators, and contexts; setting growth parameter\n"
     ]
    },
    {
     "name": "stdout",
     "output_type": "stream",
     "text": [
      "making topology proposal\n",
      "generating geometry engine\n",
      "making geometry proposal from ALA to THR\n",
      "conducting subsequent work with the following platform: CUDA\n"
     ]
    },
    {
     "name": "stderr",
     "output_type": "stream",
     "text": [
      "INFO:geometry:setting atoms_with_positions context new positions\n"
     ]
    },
    {
     "name": "stdout",
     "output_type": "stream",
     "text": [
      "conducting subsequent work with the following platform: CUDA\n"
     ]
    },
    {
     "name": "stderr",
     "output_type": "stream",
     "text": [
      "INFO:geometry:There are 8 new atoms\n",
      "INFO:geometry:\treduced angle potential = 0.18434303979751374.\n",
      "INFO:geometry:\treduced angle potential = 0.15002564669608512.\n",
      "INFO:geometry:\treduced angle potential = 0.003907125640948157.\n",
      "INFO:geometry:\treduced angle potential = 0.8178465245578943.\n",
      "INFO:geometry:\treduced angle potential = 2.206305668455018.\n",
      "INFO:geometry:\treduced angle potential = 0.004326388269150331.\n",
      "INFO:geometry:\treduced angle potential = 0.20630702212828197.\n",
      "INFO:geometry:\treduced angle potential = 0.034412963017395486.\n",
      "INFO:geometry:\tbeginning construction of no_nonbonded final system...\n",
      "INFO:geometry:\tinitial no-nonbonded final system forces ['HarmonicBondForce', 'HarmonicAngleForce', 'PeriodicTorsionForce', 'NonbondedForce']\n",
      "INFO:geometry:\tfinal no-nonbonded final system forces dict_keys(['HarmonicBondForce', 'HarmonicAngleForce', 'PeriodicTorsionForce', 'NonbondedForce'])\n",
      "INFO:geometry:\tthere are 11 bond forces in the no-nonbonded final system\n",
      "INFO:geometry:\tthere are 43 angle forces in the no-nonbonded final system\n",
      "INFO:geometry:\tthere are 72 torsion forces in the no-nonbonded final system\n",
      "INFO:geometry:forward final system defined with 0 neglected angles.\n"
     ]
    },
    {
     "name": "stdout",
     "output_type": "stream",
     "text": [
      "conducting subsequent work with the following platform: CUDA\n"
     ]
    },
    {
     "name": "stderr",
     "output_type": "stream",
     "text": [
      "INFO:geometry:total reduced potential before atom placement: 9.11648114171204\n"
     ]
    },
    {
     "name": "stdout",
     "output_type": "stream",
     "text": [
      "conducting subsequent work with the following platform: CUDA\n",
      "conducting subsequent work with the following platform: CUDA\n",
      "conducting subsequent work with the following platform: CUDA\n",
      "conducting subsequent work with the following platform: CUDA\n"
     ]
    },
    {
     "name": "stderr",
     "output_type": "stream",
     "text": [
      "INFO:geometry:total reduced energy added from growth system: -56.8400507376899\n",
      "INFO:geometry:final reduced energy -47.72357148065745\n",
      "INFO:geometry:sum of energies: -47.723569595977864\n",
      "INFO:geometry:magnitude of difference in the energies: 1.8846795839522201e-06\n",
      "INFO:geometry:Final logp_proposal: 62.22543599073267\n",
      "INFO:geometry:logp_reverse: performing reverse proposal\n",
      "INFO:geometry:logp_reverse: unique new atoms detected; proceeding to _logp_propose...\n",
      "INFO:geometry:Conducting forward proposal...\n",
      "INFO:geometry:Computing proposal order with NetworkX...\n",
      "INFO:geometry:number of atoms to be placed: 4\n",
      "INFO:geometry:Atom index proposal order is [10, 12, 13, 11]\n",
      "INFO:geometry:omitted_bonds: []\n",
      "INFO:geometry:direction of proposal is reverse; creating atoms_with_positions from old system/topology\n",
      "INFO:geometry:creating growth system...\n",
      "INFO:geometry:\tcreating bond force...\n",
      "INFO:geometry:\tthere are 9 bonds in reference force.\n",
      "INFO:geometry:\tcreating angle force...\n",
      "INFO:geometry:\tthere are 36 angles in reference force.\n",
      "INFO:geometry:\tcreating torsion force...\n",
      "INFO:geometry:\tcreating extra torsions force...\n",
      "INFO:geometry:\tthere are 42 torsions in reference force.\n",
      "INFO:geometry:\tcreating nonbonded force...\n",
      "INFO:geometry:\t\tgrabbing reference nonbonded method, cutoff, switching function, switching distance...\n",
      "INFO:geometry:\t\tcreating nonbonded exception force (i.e. custom bond for 1,4s)...\n",
      "INFO:geometry:\t\tlooping through exceptions calculating growth indices, and adding appropriate interactions to custom bond force.\n",
      "INFO:geometry:\t\tthere are 98 in the reference Nonbonded force\n",
      "WARNING:geometry:\t\t\t\t\tchiral atom <Atom 8 (CA) of chain 0 residue 1 (ALA)> with neighbors [<Atom 9 (HA) of chain 0 residue 1 (ALA)>, <Atom 10 (CB) of chain 0 residue 1 (ALA)>, <Atom 14 (C) of chain 0 residue 1 (ALA)>, <Atom 6 (N) of chain 0 residue 1 (ALA)>] is surrounded by 3 core neighbors.  omitting chirality bias torsion\n",
      "INFO:geometry:Neglected angle terms : []\n",
      "INFO:geometry:omitted_growth_terms: {'bonds': [], 'angles': [], 'torsions': [], '1,4s': []}\n",
      "INFO:geometry:extra torsions: {0: (7, 6, 8, 10, [1, Quantity(value=0.9799661941737812, unit=radian), Quantity(value=1200.0, unit=kilocalorie/mole), 1]), 1: (6, 8, 10, 11, [1, Quantity(value=2.105358864604291, unit=radian), Quantity(value=1200.0, unit=kilocalorie/mole), 4]), 2: (6, 8, 10, 12, [1, Quantity(value=-2.0823006129211796, unit=radian), Quantity(value=1200.0, unit=kilocalorie/mole), 2]), 3: (6, 8, 10, 13, [1, Quantity(value=0.018582237407944735, unit=radian), Quantity(value=1200.0, unit=kilocalorie/mole), 3]), 4: (14, 8, 10, 11, [1, Quantity(value=-0.036945135932107576, unit=radian), Quantity(value=1200.0, unit=kilocalorie/mole), 4]), 5: (14, 8, 10, 12, [1, Quantity(value=2.0585806937220097, unit=radian), Quantity(value=1200.0, unit=kilocalorie/mole), 2]), 6: (14, 8, 10, 13, [1, Quantity(value=-2.1237217631284597, unit=radian), Quantity(value=1200.0, unit=kilocalorie/mole), 3]), 7: (9, 8, 10, 11, [1, Quantity(value=-2.119603470065817, unit=radian), Quantity(value=1200.0, unit=kilocalorie/mole), 4]), 8: (9, 8, 10, 12, [1, Quantity(value=-0.024077640411697132, unit=radian), Quantity(value=1200.0, unit=kilocalorie/mole), 2]), 9: (9, 8, 10, 13, [1, Quantity(value=2.0768052099174152, unit=radian), Quantity(value=1200.0, unit=kilocalorie/mole), 3])}\n",
      "INFO:geometry:neglected angle terms include []\n",
      "INFO:geometry:log probability choice of torsions and atom order: -5.78074351579233\n",
      "INFO:geometry:creating platform, integrators, and contexts; setting growth parameter\n"
     ]
    },
    {
     "name": "stdout",
     "output_type": "stream",
     "text": [
      "added energy components: [('CustomBondForce', 0.673680469731717), ('CustomAngleForce', 4.787817815658375), ('CustomTorsionForce', 19.282030458833603), ('CustomBondForce', -81.58357948191359)]\n",
      "conducting subsequent work with the following platform: CUDA\n"
     ]
    },
    {
     "name": "stderr",
     "output_type": "stream",
     "text": [
      "INFO:geometry:setting atoms_with_positions context old positions\n"
     ]
    },
    {
     "name": "stdout",
     "output_type": "stream",
     "text": [
      "conducting subsequent work with the following platform: CUDA\n"
     ]
    },
    {
     "name": "stderr",
     "output_type": "stream",
     "text": [
      "INFO:geometry:There are 4 new atoms\n",
      "INFO:geometry:\treduced angle potential = 0.3517324280898812.\n",
      "INFO:geometry:\treduced angle potential = 3.205832446488702e-13.\n",
      "INFO:geometry:\treduced angle potential = 7.39096069988752e-11.\n",
      "INFO:geometry:\treduced angle potential = 1.2915588460963948e-10.\n",
      "INFO:geometry:\tbeginning construction of no_nonbonded final system...\n",
      "INFO:geometry:\tinitial no-nonbonded final system forces ['HarmonicBondForce', 'HarmonicAngleForce', 'PeriodicTorsionForce', 'NonbondedForce']\n",
      "INFO:geometry:\tfinal no-nonbonded final system forces dict_keys(['HarmonicBondForce', 'HarmonicAngleForce', 'PeriodicTorsionForce', 'NonbondedForce'])\n",
      "INFO:geometry:\tthere are 9 bond forces in the no-nonbonded final system\n",
      "INFO:geometry:\tthere are 36 angle forces in the no-nonbonded final system\n",
      "INFO:geometry:\tthere are 42 torsion forces in the no-nonbonded final system\n",
      "INFO:geometry:reverse final system defined with 0 neglected angles.\n"
     ]
    },
    {
     "name": "stdout",
     "output_type": "stream",
     "text": [
      "conducting subsequent work with the following platform: CUDA\n"
     ]
    },
    {
     "name": "stderr",
     "output_type": "stream",
     "text": [
      "INFO:geometry:total reduced potential before atom placement: 9.11648114171204\n"
     ]
    },
    {
     "name": "stdout",
     "output_type": "stream",
     "text": [
      "conducting subsequent work with the following platform: CUDA\n",
      "conducting subsequent work with the following platform: CUDA\n",
      "conducting subsequent work with the following platform: CUDA\n",
      "conducting subsequent work with the following platform: CUDA\n"
     ]
    },
    {
     "name": "stderr",
     "output_type": "stream",
     "text": [
      "INFO:geometry:total reduced energy added from growth system: 20.672986672125617\n",
      "INFO:geometry:final reduced energy 29.78946596595154\n",
      "INFO:geometry:sum of energies: 29.789467813837657\n",
      "INFO:geometry:magnitude of difference in the energies: 1.8478861179005435e-06\n",
      "INFO:geometry:Final logp_proposal: -26851.30047191144\n",
      "INFO:relative:*** Generating RxnHybridTopologyFactory ***\n",
      "INFO:relative:Beginning nonbonded method, total particle, barostat, and exceptions retrieval...\n",
      "INFO:relative:Old system forces: dict_keys(['HarmonicBondForce', 'HarmonicAngleForce', 'PeriodicTorsionForce', 'NonbondedForce'])\n",
      "INFO:relative:New system forces: dict_keys(['HarmonicBondForce', 'HarmonicAngleForce', 'PeriodicTorsionForce', 'NonbondedForce'])\n",
      "INFO:relative:No unknown forces.\n",
      "INFO:relative:Nonbonded method to be used (i.e. from old system): 0\n",
      "INFO:relative:Adding and mapping old atoms to hybrid system...\n",
      "INFO:relative:Adding and mapping new atoms to hybrid system...\n",
      "INFO:relative:scale_templates: [['nonscale_lambda'], ['nonscale_region']]\n",
      "INFO:relative:No MonteCarloBarostat added.\n",
      "INFO:relative:getDefaultPeriodicBoxVectors added to hybrid: [Quantity(value=Vec3(x=2.0, y=0.0, z=0.0), unit=nanometer), Quantity(value=Vec3(x=0.0, y=2.0, z=0.0), unit=nanometer), Quantity(value=Vec3(x=0.0, y=0.0, z=2.0), unit=nanometer)]\n",
      "INFO:relative:Determined atom classes.\n",
      "INFO:relative:Generating old system exceptions dict...\n",
      "INFO:relative:Generating new system exceptions dict...\n",
      "INFO:relative:Handling constraints...\n",
      "INFO:relative:Handling virtual sites...\n",
      "INFO:relative:\t_handle_virtual_sites: numVirtualSites: 0\n"
     ]
    },
    {
     "name": "stdout",
     "output_type": "stream",
     "text": [
      "added energy components: [('CustomBondForce', 0.000520203927326505), ('CustomAngleForce', 0.4511197756248138), ('CustomTorsionForce', 7.250463328533253), ('CustomBondForce', 12.970883364040223)]\n",
      "( nonscale_lambda_bonds * nonscale_region ) * (K/2)*(r-length)^2;K = ( 1 * environment_region+lambda_0_bonds_old * alchemical_region_0 ) * K1 + ( 1 * environment_region+lambda_0_bonds_new * alchemical_region_0 ) * K2;length = ( 1 * environment_region+lambda_0_bonds_old * alchemical_region_0 ) * length1 + ( 1 * environment_region+lambda_0_bonds_new * alchemical_region_0 ) * length2;\n"
     ]
    }
   ],
   "source": [
    "# Create a htf\n",
    "atp, system_generator = generate_atp(phase = 'vacuum')\n",
    "htf = generate_dipeptide_top_pos_sys(atp.topology, \n",
    "                               'THR', \n",
    "                               atp.system, \n",
    "                               atp.positions, \n",
    "                               system_generator,\n",
    "                                rxn_field=True,\n",
    "                               flatten_torsions=True,\n",
    "                               flatten_exceptions=True,\n",
    "                               validate_endstate_energy=False,\n",
    "                                conduct_htf_prop=True)"
   ]
  },
  {
   "cell_type": "code",
   "execution_count": 5,
   "id": "cb69c8ad",
   "metadata": {},
   "outputs": [],
   "source": [
    "with open(\"atp_vacuum.pickle\", \"wb\") as f:\n",
    "    pickle.dump(htf, f)"
   ]
  },
  {
   "cell_type": "markdown",
   "id": "503b6f4b",
   "metadata": {},
   "source": [
    "### Test one alchemical region, no scale regions"
   ]
  },
  {
   "cell_type": "markdown",
   "id": "11e9c95a",
   "metadata": {},
   "source": [
    "#### Old system HarmonicBondForce vs hybrid system CustomBondForce"
   ]
  },
  {
   "cell_type": "code",
   "execution_count": 6,
   "id": "19b06c88",
   "metadata": {},
   "outputs": [],
   "source": [
    "# Load htf\n",
    "with open(\"/home/zhangi/choderalab/perses_benchmark/perses_protein_mutations/code/26_rxn_field/atp_vacuum.pickle\", \"rb\") as f:\n",
    "    htf = pickle.load(f)"
   ]
  },
  {
   "cell_type": "code",
   "execution_count": 7,
   "id": "18deeb39",
   "metadata": {
    "scrolled": true
   },
   "outputs": [
    {
     "name": "stdout",
     "output_type": "stream",
     "text": [
      "Warning: Returning CPU platform instead of requested platform <simtk.openmm.openmm.Platform; proxy of <Swig Object of type 'OpenMM::Platform *' at 0x2b890d8ed060> >\n",
      "conducting subsequent work with the following platform: CPU\n",
      "conducting subsequent work with the following platform: CUDA\n",
      "[('HarmonicBondForce', 0.03478365356521381), ('HarmonicAngleForce', 0.6112775462128995), ('PeriodicTorsionForce', 16.285398289983064), ('NonbondedForce', -39.4499277456003), ('AndersenThermostat', 0.0)]\n",
      "conducting subsequent work with the following platform: CUDA\n",
      "[('CustomBondForce', 0.03478365356521381), ('CustomAngleForce', 13.805947690407493), ('CustomTorsionForce', 16.285403285921724), ('AndersenThermostat', 0.0)]\n",
      "Success! Custom bond force and standard bond force energies are equal!\n"
     ]
    }
   ],
   "source": [
    "test_bond_energies(htf)"
   ]
  },
  {
   "cell_type": "markdown",
   "id": "e336aed9",
   "metadata": {},
   "source": [
    "#### New system HarmonicBondForce vs hybrid system CustomBondForce"
   ]
  },
  {
   "cell_type": "code",
   "execution_count": 8,
   "id": "49875cd6",
   "metadata": {},
   "outputs": [],
   "source": [
    "# Load htf\n",
    "with open(\"/home/zhangi/choderalab/perses_benchmark/perses_protein_mutations/code/26_rxn_field/atp_vacuum.pickle\", \"rb\") as f:\n",
    "    htf = pickle.load(f)"
   ]
  },
  {
   "cell_type": "code",
   "execution_count": 9,
   "id": "039fb22d",
   "metadata": {},
   "outputs": [
    {
     "name": "stdout",
     "output_type": "stream",
     "text": [
      "Warning: Returning CPU platform instead of requested platform <simtk.openmm.openmm.Platform; proxy of <Swig Object of type 'OpenMM::Platform *' at 0x2b890d8ed060> >\n",
      "conducting subsequent work with the following platform: CPU\n",
      "conducting subsequent work with the following platform: CUDA\n",
      "[('HarmonicBondForce', 0.6906144830418987), ('HarmonicAngleForce', 13.351800265281843), ('PeriodicTorsionForce', 26.41852205265097), ('NonbondedForce', -54.709291264726836), ('AndersenThermostat', 0.0)]\n",
      "conducting subsequent work with the following platform: CUDA\n",
      "[('CustomBondForce', 0.6906144830418987), ('CustomAngleForce', 13.805947690407493), ('CustomTorsionForce', 16.285403285921724), ('AndersenThermostat', 0.0)]\n",
      "Success! Custom bond force and standard bond force energies are equal!\n"
     ]
    }
   ],
   "source": [
    "test_bond_energies(htf, is_old=False)"
   ]
  },
  {
   "cell_type": "markdown",
   "id": "16251d48",
   "metadata": {},
   "source": [
    "### Test one alchemical region, one scale region"
   ]
  },
  {
   "cell_type": "code",
   "execution_count": 10,
   "id": "12fe9b6c",
   "metadata": {
    "scrolled": true
   },
   "outputs": [
    {
     "name": "stderr",
     "output_type": "stream",
     "text": [
      "DEBUG:openmmforcefields.system_generators:Trying GAFFTemplateGenerator to load gaff-2.11\n",
      "INFO:proposal_generator:\tConducting polymer point mutation proposal...\n",
      "INFO:proposal_generator:Using matching_criterion to chose best atom map\n",
      "INFO:proposal_generator:Scaffold has symmetry of 0\n",
      "WARNING:proposal_generator:Two molecules are not similar to have a common scaffold\n",
      "WARNING:proposal_generator:Proceeding with direct mapping of molecules, but please check atom mapping and the geometry of the ligands.\n",
      "INFO:proposal_generator:len [{9: 7}, {10: 7}, {11: 7}, {12: 7}, {13: 7}, {9: 8}, {10: 8}, {11: 8}, {12: 8}, {13: 8}, {9: 9}, {10: 9}, {11: 9}, {12: 9}, {13: 9}]\n",
      "INFO:proposal_generator:{9: 7}\n",
      "INFO:proposal_generator:{10: 7}\n",
      "INFO:proposal_generator:{11: 7}\n",
      "INFO:proposal_generator:{12: 7}\n",
      "INFO:proposal_generator:{13: 7}\n",
      "INFO:proposal_generator:{9: 8}\n",
      "INFO:proposal_generator:{10: 8}\n",
      "INFO:proposal_generator:{11: 8}\n",
      "INFO:proposal_generator:{12: 8}\n",
      "INFO:proposal_generator:{13: 8}\n",
      "INFO:proposal_generator:{9: 9}\n",
      "INFO:proposal_generator:{10: 9}\n",
      "INFO:proposal_generator:{11: 9}\n",
      "INFO:proposal_generator:{12: 9}\n",
      "INFO:proposal_generator:{13: 9}\n",
      "INFO:proposal_generator:Returning map that best satisfies matching_criterion\n",
      "INFO:proposal_generator:Finding best map using matching_criterion name\n",
      "INFO:proposal_generator:{9: 7}\n",
      "INFO:geometry:propose: performing forward proposal\n",
      "INFO:geometry:propose: unique new atoms detected; proceeding to _logp_propose...\n",
      "INFO:geometry:Conducting forward proposal...\n",
      "INFO:geometry:Computing proposal order with NetworkX...\n",
      "INFO:geometry:number of atoms to be placed: 8\n",
      "INFO:geometry:Atom index proposal order is [10, 14, 18, 13, 17, 15, 16, 19]\n",
      "INFO:geometry:omitted_bonds: []\n",
      "INFO:geometry:direction of proposal is forward; creating atoms_with_positions and new positions from old system/topology...\n",
      "INFO:geometry:creating growth system...\n",
      "INFO:geometry:\tcreating bond force...\n",
      "INFO:geometry:\tthere are 11 bonds in reference force.\n",
      "INFO:geometry:\tcreating angle force...\n",
      "INFO:geometry:\tthere are 43 angles in reference force.\n",
      "INFO:geometry:\tcreating torsion force...\n",
      "INFO:geometry:\tcreating extra torsions force...\n",
      "INFO:geometry:\tthere are 72 torsions in reference force.\n",
      "INFO:geometry:\tcreating nonbonded force...\n",
      "INFO:geometry:\t\tgrabbing reference nonbonded method, cutoff, switching function, switching distance...\n",
      "INFO:geometry:\t\tcreating nonbonded exception force (i.e. custom bond for 1,4s)...\n",
      "INFO:geometry:\t\tlooping through exceptions calculating growth indices, and adding appropriate interactions to custom bond force.\n",
      "INFO:geometry:\t\tthere are 121 in the reference Nonbonded force\n",
      "WARNING:geometry:\t\t\t\t\tchiral atom <Atom 8 (CA) of chain 0 residue 1 (THR)> with neighbors [<Atom 9 (HA) of chain 0 residue 1 (THR)>, <Atom 10 (CB) of chain 0 residue 1 (THR)>, <Atom 11 (C) of chain 0 residue 1 (THR)>, <Atom 6 (N) of chain 0 residue 1 (THR)>] is surrounded by 3 core neighbors.  omitting chirality bias torsion\n",
      "INFO:geometry:Neglected angle terms : []\n",
      "INFO:geometry:omitted_growth_terms: {'bonds': [], 'angles': [], 'torsions': [], '1,4s': []}\n",
      "INFO:geometry:extra torsions: {0: (7, 6, 8, 10, [1, Quantity(value=0.9900002084555819, unit=radian), Quantity(value=1200.0, unit=kilocalorie/mole), 1]), 1: (19, 18, 10, 8, [1, Quantity(value=-0.07858019216845058, unit=radian), Quantity(value=1200.0, unit=kilocalorie/mole), 8]), 2: (19, 18, 10, 14, [1, Quantity(value=2.118586571250296, unit=radian), Quantity(value=1200.0, unit=kilocalorie/mole), 8]), 3: (19, 18, 10, 13, [1, Quantity(value=-2.149781203448759, unit=radian), Quantity(value=1200.0, unit=kilocalorie/mole), 8]), 4: (8, 10, 14, 17, [1, Quantity(value=-2.1249532223845904, unit=radian), Quantity(value=1200.0, unit=kilocalorie/mole), 5]), 5: (8, 10, 14, 16, [1, Quantity(value=2.0543043017157916, unit=radian), Quantity(value=1200.0, unit=kilocalorie/mole), 7]), 6: (8, 10, 14, 15, [1, Quantity(value=-0.02223392579985184, unit=radian), Quantity(value=1200.0, unit=kilocalorie/mole), 6]), 7: (18, 10, 14, 17, [1, Quantity(value=2.0255587336734213, unit=radian), Quantity(value=1200.0, unit=kilocalorie/mole), 5]), 8: (18, 10, 14, 16, [1, Quantity(value=-0.07836904940578293, unit=radian), Quantity(value=1200.0, unit=kilocalorie/mole), 7]), 9: (18, 10, 14, 15, [1, Quantity(value=-2.154907276921426, unit=radian), Quantity(value=1200.0, unit=kilocalorie/mole), 6]), 10: (13, 10, 14, 17, [1, Quantity(value=0.007583009583349565, unit=radian), Quantity(value=1200.0, unit=kilocalorie/mole), 5]), 11: (13, 10, 14, 16, [1, Quantity(value=-2.096344773495849, unit=radian), Quantity(value=1200.0, unit=kilocalorie/mole), 7]), 12: (13, 10, 14, 15, [1, Quantity(value=2.1103023061680943, unit=radian), Quantity(value=1200.0, unit=kilocalorie/mole), 6]), 13: (14, 10, 8, 18, [1, Quantity(value=1.0655064807976995, unit=radian), Quantity(value=1200.0, unit=kilocalorie/mole), 3])}\n",
      "INFO:geometry:neglected angle terms include []\n",
      "INFO:geometry:log probability choice of torsions and atom order: -13.553917196274867\n",
      "INFO:geometry:creating platform, integrators, and contexts; setting growth parameter\n"
     ]
    },
    {
     "name": "stdout",
     "output_type": "stream",
     "text": [
      "making topology proposal\n",
      "generating geometry engine\n",
      "making geometry proposal from ALA to THR\n",
      "conducting subsequent work with the following platform: CUDA\n"
     ]
    },
    {
     "name": "stderr",
     "output_type": "stream",
     "text": [
      "INFO:geometry:setting atoms_with_positions context new positions\n",
      "INFO:geometry:There are 8 new atoms\n",
      "INFO:geometry:\treduced angle potential = 0.27934311243413673.\n",
      "INFO:geometry:\treduced angle potential = 0.6870814800676404.\n"
     ]
    },
    {
     "name": "stdout",
     "output_type": "stream",
     "text": [
      "conducting subsequent work with the following platform: CUDA\n"
     ]
    },
    {
     "name": "stderr",
     "output_type": "stream",
     "text": [
      "INFO:geometry:\treduced angle potential = 0.004894353938349633.\n",
      "INFO:geometry:\treduced angle potential = 0.05813624060687381.\n",
      "INFO:geometry:\treduced angle potential = 0.2000535034679782.\n",
      "INFO:geometry:\treduced angle potential = 0.4072513591942163.\n",
      "INFO:geometry:\treduced angle potential = 0.8166026025320159.\n",
      "INFO:geometry:\treduced angle potential = 0.3025760099105887.\n",
      "INFO:geometry:\tbeginning construction of no_nonbonded final system...\n",
      "INFO:geometry:\tinitial no-nonbonded final system forces ['HarmonicBondForce', 'HarmonicAngleForce', 'PeriodicTorsionForce', 'NonbondedForce']\n",
      "INFO:geometry:\tfinal no-nonbonded final system forces dict_keys(['HarmonicBondForce', 'HarmonicAngleForce', 'PeriodicTorsionForce', 'NonbondedForce'])\n",
      "INFO:geometry:\tthere are 11 bond forces in the no-nonbonded final system\n",
      "INFO:geometry:\tthere are 43 angle forces in the no-nonbonded final system\n",
      "INFO:geometry:\tthere are 72 torsion forces in the no-nonbonded final system\n",
      "INFO:geometry:forward final system defined with 0 neglected angles.\n"
     ]
    },
    {
     "name": "stdout",
     "output_type": "stream",
     "text": [
      "conducting subsequent work with the following platform: CUDA\n"
     ]
    },
    {
     "name": "stderr",
     "output_type": "stream",
     "text": [
      "INFO:geometry:total reduced potential before atom placement: 9.11648114171204\n"
     ]
    },
    {
     "name": "stdout",
     "output_type": "stream",
     "text": [
      "conducting subsequent work with the following platform: CUDA\n",
      "conducting subsequent work with the following platform: CUDA\n",
      "conducting subsequent work with the following platform: CUDA\n"
     ]
    },
    {
     "name": "stderr",
     "output_type": "stream",
     "text": [
      "INFO:geometry:total reduced energy added from growth system: -43.353290921762415\n",
      "INFO:geometry:final reduced energy -34.236811985156315\n",
      "INFO:geometry:sum of energies: -34.23680978005038\n",
      "INFO:geometry:magnitude of difference in the energies: 2.205105936070595e-06\n",
      "INFO:geometry:Final logp_proposal: 61.54966842453287\n"
     ]
    },
    {
     "name": "stdout",
     "output_type": "stream",
     "text": [
      "conducting subsequent work with the following platform: CUDA\n",
      "added energy components: [('CustomBondForce', 4.281469288926399), ('CustomAngleForce', 3.8073815211767235), ('CustomTorsionForce', 17.748127069389753), ('CustomBondForce', -69.1902688012553)]\n"
     ]
    },
    {
     "name": "stderr",
     "output_type": "stream",
     "text": [
      "INFO:geometry:logp_reverse: performing reverse proposal\n",
      "INFO:geometry:logp_reverse: unique new atoms detected; proceeding to _logp_propose...\n",
      "INFO:geometry:Conducting forward proposal...\n",
      "INFO:geometry:Computing proposal order with NetworkX...\n",
      "INFO:geometry:number of atoms to be placed: 4\n",
      "INFO:geometry:Atom index proposal order is [10, 12, 13, 11]\n",
      "INFO:geometry:omitted_bonds: []\n",
      "INFO:geometry:direction of proposal is reverse; creating atoms_with_positions from old system/topology\n",
      "INFO:geometry:creating growth system...\n",
      "INFO:geometry:\tcreating bond force...\n",
      "INFO:geometry:\tthere are 9 bonds in reference force.\n",
      "INFO:geometry:\tcreating angle force...\n",
      "INFO:geometry:\tthere are 36 angles in reference force.\n",
      "INFO:geometry:\tcreating torsion force...\n",
      "INFO:geometry:\tcreating extra torsions force...\n",
      "INFO:geometry:\tthere are 42 torsions in reference force.\n",
      "INFO:geometry:\tcreating nonbonded force...\n",
      "INFO:geometry:\t\tgrabbing reference nonbonded method, cutoff, switching function, switching distance...\n",
      "INFO:geometry:\t\tcreating nonbonded exception force (i.e. custom bond for 1,4s)...\n",
      "INFO:geometry:\t\tlooping through exceptions calculating growth indices, and adding appropriate interactions to custom bond force.\n",
      "INFO:geometry:\t\tthere are 98 in the reference Nonbonded force\n",
      "WARNING:geometry:\t\t\t\t\tchiral atom <Atom 8 (CA) of chain 0 residue 1 (ALA)> with neighbors [<Atom 9 (HA) of chain 0 residue 1 (ALA)>, <Atom 10 (CB) of chain 0 residue 1 (ALA)>, <Atom 14 (C) of chain 0 residue 1 (ALA)>, <Atom 6 (N) of chain 0 residue 1 (ALA)>] is surrounded by 3 core neighbors.  omitting chirality bias torsion\n",
      "INFO:geometry:Neglected angle terms : []\n",
      "INFO:geometry:omitted_growth_terms: {'bonds': [], 'angles': [], 'torsions': [], '1,4s': []}\n",
      "INFO:geometry:extra torsions: {0: (7, 6, 8, 10, [1, Quantity(value=0.9799661941737812, unit=radian), Quantity(value=1200.0, unit=kilocalorie/mole), 1]), 1: (6, 8, 10, 11, [1, Quantity(value=2.105358864604291, unit=radian), Quantity(value=1200.0, unit=kilocalorie/mole), 4]), 2: (6, 8, 10, 12, [1, Quantity(value=-2.0823006129211796, unit=radian), Quantity(value=1200.0, unit=kilocalorie/mole), 2]), 3: (6, 8, 10, 13, [1, Quantity(value=0.018582237407944735, unit=radian), Quantity(value=1200.0, unit=kilocalorie/mole), 3]), 4: (14, 8, 10, 11, [1, Quantity(value=-0.036945135932107576, unit=radian), Quantity(value=1200.0, unit=kilocalorie/mole), 4]), 5: (14, 8, 10, 12, [1, Quantity(value=2.0585806937220097, unit=radian), Quantity(value=1200.0, unit=kilocalorie/mole), 2]), 6: (14, 8, 10, 13, [1, Quantity(value=-2.1237217631284597, unit=radian), Quantity(value=1200.0, unit=kilocalorie/mole), 3]), 7: (9, 8, 10, 11, [1, Quantity(value=-2.119603470065817, unit=radian), Quantity(value=1200.0, unit=kilocalorie/mole), 4]), 8: (9, 8, 10, 12, [1, Quantity(value=-0.024077640411697132, unit=radian), Quantity(value=1200.0, unit=kilocalorie/mole), 2]), 9: (9, 8, 10, 13, [1, Quantity(value=2.0768052099174152, unit=radian), Quantity(value=1200.0, unit=kilocalorie/mole), 3])}\n",
      "INFO:geometry:neglected angle terms include []\n",
      "INFO:geometry:log probability choice of torsions and atom order: -5.78074351579233\n",
      "INFO:geometry:creating platform, integrators, and contexts; setting growth parameter\n"
     ]
    },
    {
     "name": "stdout",
     "output_type": "stream",
     "text": [
      "conducting subsequent work with the following platform: CUDA\n"
     ]
    },
    {
     "name": "stderr",
     "output_type": "stream",
     "text": [
      "INFO:geometry:setting atoms_with_positions context old positions\n",
      "INFO:geometry:There are 4 new atoms\n",
      "INFO:geometry:\treduced angle potential = 0.08012165173241896.\n",
      "INFO:geometry:\treduced angle potential = 3.205832446488702e-13.\n"
     ]
    },
    {
     "name": "stdout",
     "output_type": "stream",
     "text": [
      "conducting subsequent work with the following platform: CUDA\n"
     ]
    },
    {
     "name": "stderr",
     "output_type": "stream",
     "text": [
      "INFO:geometry:\treduced angle potential = 7.39096069988752e-11.\n",
      "INFO:geometry:\treduced angle potential = 1.2915588460963948e-10.\n",
      "INFO:geometry:\tbeginning construction of no_nonbonded final system...\n",
      "INFO:geometry:\tinitial no-nonbonded final system forces ['HarmonicBondForce', 'HarmonicAngleForce', 'PeriodicTorsionForce', 'NonbondedForce']\n",
      "INFO:geometry:\tfinal no-nonbonded final system forces dict_keys(['HarmonicBondForce', 'HarmonicAngleForce', 'PeriodicTorsionForce', 'NonbondedForce'])\n",
      "INFO:geometry:\tthere are 9 bond forces in the no-nonbonded final system\n",
      "INFO:geometry:\tthere are 36 angle forces in the no-nonbonded final system\n",
      "INFO:geometry:\tthere are 42 torsion forces in the no-nonbonded final system\n",
      "INFO:geometry:reverse final system defined with 0 neglected angles.\n"
     ]
    },
    {
     "name": "stdout",
     "output_type": "stream",
     "text": [
      "conducting subsequent work with the following platform: CUDA\n"
     ]
    },
    {
     "name": "stderr",
     "output_type": "stream",
     "text": [
      "INFO:geometry:total reduced potential before atom placement: 9.11648114171204\n"
     ]
    },
    {
     "name": "stdout",
     "output_type": "stream",
     "text": [
      "conducting subsequent work with the following platform: CUDA\n",
      "conducting subsequent work with the following platform: CUDA\n",
      "conducting subsequent work with the following platform: CUDA\n"
     ]
    },
    {
     "name": "stderr",
     "output_type": "stream",
     "text": [
      "INFO:geometry:total reduced energy added from growth system: 20.672986672125617\n",
      "INFO:geometry:final reduced energy 29.78946596595154\n",
      "INFO:geometry:sum of energies: 29.789467813837657\n",
      "INFO:geometry:magnitude of difference in the energies: 1.8478861179005435e-06\n",
      "INFO:geometry:Final logp_proposal: -26848.271139563196\n"
     ]
    },
    {
     "name": "stdout",
     "output_type": "stream",
     "text": [
      "conducting subsequent work with the following platform: CUDA\n",
      "added energy components: [('CustomBondForce', 0.000520203927326505), ('CustomAngleForce', 0.4511197756248138), ('CustomTorsionForce', 7.250463328533253), ('CustomBondForce', 12.970883364040223)]\n"
     ]
    },
    {
     "name": "stderr",
     "output_type": "stream",
     "text": [
      "INFO:relative:*** Generating RxnHybridTopologyFactory ***\n",
      "INFO:relative:Beginning nonbonded method, total particle, barostat, and exceptions retrieval...\n",
      "INFO:relative:Old system forces: dict_keys(['HarmonicBondForce', 'HarmonicAngleForce', 'PeriodicTorsionForce', 'NonbondedForce'])\n",
      "INFO:relative:New system forces: dict_keys(['HarmonicBondForce', 'HarmonicAngleForce', 'PeriodicTorsionForce', 'NonbondedForce'])\n",
      "INFO:relative:No unknown forces.\n",
      "INFO:relative:Nonbonded method to be used (i.e. from old system): 0\n",
      "INFO:relative:Adding and mapping old atoms to hybrid system...\n",
      "INFO:relative:Adding and mapping new atoms to hybrid system...\n",
      "INFO:relative:scale_templates: [['nonscale_lambda', 'scale_lambda_0', 'interscale_lambda_0'], ['nonscale_region', 'scale_region_0', 'interscale_region_0']]\n",
      "INFO:relative:No MonteCarloBarostat added.\n",
      "INFO:relative:getDefaultPeriodicBoxVectors added to hybrid: [Quantity(value=Vec3(x=2.0, y=0.0, z=0.0), unit=nanometer), Quantity(value=Vec3(x=0.0, y=2.0, z=0.0), unit=nanometer), Quantity(value=Vec3(x=0.0, y=0.0, z=2.0), unit=nanometer)]\n",
      "INFO:relative:Determined atom classes.\n",
      "INFO:relative:Generating old system exceptions dict...\n",
      "INFO:relative:Generating new system exceptions dict...\n",
      "INFO:relative:Handling constraints...\n",
      "INFO:relative:Handling virtual sites...\n",
      "INFO:relative:\t_handle_virtual_sites: numVirtualSites: 0\n"
     ]
    },
    {
     "name": "stdout",
     "output_type": "stream",
     "text": [
      "( nonscale_lambda_bonds * nonscale_region+scale_lambda_0_bonds * scale_region_0+interscale_lambda_0_bonds * interscale_region_0 ) * (K/2)*(r-length)^2;K = ( 1 * environment_region+lambda_0_bonds_old * alchemical_region_0 ) * K1 + ( 1 * environment_region+lambda_0_bonds_new * alchemical_region_0 ) * K2;length = ( 1 * environment_region+lambda_0_bonds_old * alchemical_region_0 ) * length1 + ( 1 * environment_region+lambda_0_bonds_new * alchemical_region_0 ) * length2;\n"
     ]
    }
   ],
   "source": [
    "# Create a htf\n",
    "atp, system_generator = generate_atp(phase = 'vacuum')\n",
    "htf = generate_dipeptide_top_pos_sys(atp.topology, \n",
    "                               'THR', \n",
    "                               atp.system, \n",
    "                               atp.positions, \n",
    "                               system_generator,\n",
    "                                rxn_field=True,\n",
    "                               flatten_torsions=True,\n",
    "                               flatten_exceptions=True,\n",
    "                               validate_endstate_energy=False,\n",
    "                                conduct_htf_prop=True, \n",
    "                                scale_regions=[[10, 11, 12, 13, 22, 23, 24, 25, 26, 27, 28, 29]])"
   ]
  },
  {
   "cell_type": "code",
   "execution_count": 11,
   "id": "6f7eef63",
   "metadata": {},
   "outputs": [],
   "source": [
    "with open(\"atp_vacuum_scale_region.pickle\", \"wb\") as f:\n",
    "    pickle.dump(htf, f)"
   ]
  },
  {
   "cell_type": "markdown",
   "id": "5e9bd435",
   "metadata": {},
   "source": [
    "#### Old system HarmonicBondForce vs hybrid system CustomBondForce"
   ]
  },
  {
   "cell_type": "code",
   "execution_count": 12,
   "id": "288c11e1",
   "metadata": {},
   "outputs": [],
   "source": [
    "# Load htf\n",
    "with open(\"/home/zhangi/choderalab/perses_benchmark/perses_protein_mutations/code/26_rxn_field/atp_vacuum_scale_region.pickle\", \"rb\") as f:\n",
    "    htf = pickle.load(f)"
   ]
  },
  {
   "cell_type": "code",
   "execution_count": 13,
   "id": "5c37ddb9",
   "metadata": {
    "scrolled": true
   },
   "outputs": [
    {
     "data": {
      "text/plain": [
       "[10, 11, 12, 13, 22, 23, 24, 25, 26, 27, 28, 29]"
      ]
     },
     "execution_count": 13,
     "metadata": {},
     "output_type": "execute_result"
    }
   ],
   "source": [
    "# This is the scale region\n",
    "list(htf._atom_classes['unique_old_atoms'][0]) + list(htf._atom_classes['unique_new_atoms'][0])"
   ]
  },
  {
   "cell_type": "code",
   "execution_count": 14,
   "id": "9c194d51",
   "metadata": {
    "scrolled": true
   },
   "outputs": [
    {
     "name": "stdout",
     "output_type": "stream",
     "text": [
      "Warning: Returning CPU platform instead of requested platform <simtk.openmm.openmm.Platform; proxy of <Swig Object of type 'OpenMM::Platform *' at 0x2b890d8ed060> >\n",
      "conducting subsequent work with the following platform: CPU\n",
      "conducting subsequent work with the following platform: CUDA\n",
      "[('HarmonicBondForce', 0.03478365356521381), ('HarmonicAngleForce', 0.6112775462128995), ('PeriodicTorsionForce', 16.285398289983064), ('NonbondedForce', -39.4499277456003), ('AndersenThermostat', 0.0)]\n",
      "conducting subsequent work with the following platform: CUDA\n",
      "[('CustomBondForce', 0.03478365356521381), ('CustomAngleForce', 4.444211963504904), ('AndersenThermostat', 0.0)]\n",
      "Success! Custom bond force and standard bond force energies are equal!\n"
     ]
    }
   ],
   "source": [
    "test_bond_energies(htf)"
   ]
  },
  {
   "cell_type": "markdown",
   "id": "0057ce49",
   "metadata": {},
   "source": [
    "#### New system HarmonicBondForce vs hybrid system CustomBondForce"
   ]
  },
  {
   "cell_type": "code",
   "execution_count": 15,
   "id": "1e6a7202",
   "metadata": {},
   "outputs": [],
   "source": [
    "# Load htf\n",
    "with open(\"/home/zhangi/choderalab/perses_benchmark/perses_protein_mutations/code/26_rxn_field/atp_vacuum_scale_region.pickle\", \"rb\") as f:\n",
    "    htf = pickle.load(f)"
   ]
  },
  {
   "cell_type": "code",
   "execution_count": 16,
   "id": "8ccc8c53",
   "metadata": {},
   "outputs": [
    {
     "name": "stdout",
     "output_type": "stream",
     "text": [
      "Warning: Returning CPU platform instead of requested platform <simtk.openmm.openmm.Platform; proxy of <Swig Object of type 'OpenMM::Platform *' at 0x2b890d8ed060> >\n",
      "conducting subsequent work with the following platform: CPU\n",
      "conducting subsequent work with the following platform: CUDA\n",
      "[('HarmonicBondForce', 4.344463940477031), ('HarmonicAngleForce', 3.990064538379252), ('PeriodicTorsionForce', 26.853516722533634), ('NonbondedForce', 148.62328263442106), ('AndersenThermostat', 0.0)]\n",
      "conducting subsequent work with the following platform: CUDA\n",
      "[('CustomBondForce', 4.3444639404770315), ('CustomAngleForce', 4.444211963504904), ('AndersenThermostat', 0.0)]\n",
      "Success! Custom bond force and standard bond force energies are equal!\n"
     ]
    }
   ],
   "source": [
    "test_bond_energies(htf, is_old=False)"
   ]
  },
  {
   "cell_type": "markdown",
   "id": "a30a9095",
   "metadata": {},
   "source": [
    "# Alanine dipeptide in solvent"
   ]
  },
  {
   "cell_type": "code",
   "execution_count": 17,
   "id": "2e120f58",
   "metadata": {
    "scrolled": true
   },
   "outputs": [
    {
     "name": "stderr",
     "output_type": "stream",
     "text": [
      "DEBUG:openmmforcefields.system_generators:Trying GAFFTemplateGenerator to load gaff-2.11\n",
      "INFO:proposal_generator:\tConducting polymer point mutation proposal...\n",
      "INFO:proposal_generator:Using matching_criterion to chose best atom map\n",
      "INFO:proposal_generator:Scaffold has symmetry of 0\n",
      "WARNING:proposal_generator:Two molecules are not similar to have a common scaffold\n",
      "WARNING:proposal_generator:Proceeding with direct mapping of molecules, but please check atom mapping and the geometry of the ligands.\n",
      "INFO:proposal_generator:len [{9: 7}, {10: 7}, {11: 7}, {12: 7}, {13: 7}, {9: 8}, {10: 8}, {11: 8}, {12: 8}, {13: 8}, {9: 9}, {10: 9}, {11: 9}, {12: 9}, {13: 9}]\n",
      "INFO:proposal_generator:{9: 7}\n",
      "INFO:proposal_generator:{10: 7}\n",
      "INFO:proposal_generator:{11: 7}\n",
      "INFO:proposal_generator:{12: 7}\n",
      "INFO:proposal_generator:{13: 7}\n",
      "INFO:proposal_generator:{9: 8}\n",
      "INFO:proposal_generator:{10: 8}\n",
      "INFO:proposal_generator:{11: 8}\n",
      "INFO:proposal_generator:{12: 8}\n",
      "INFO:proposal_generator:{13: 8}\n",
      "INFO:proposal_generator:{9: 9}\n",
      "INFO:proposal_generator:{10: 9}\n",
      "INFO:proposal_generator:{11: 9}\n",
      "INFO:proposal_generator:{12: 9}\n",
      "INFO:proposal_generator:{13: 9}\n",
      "INFO:proposal_generator:Returning map that best satisfies matching_criterion\n",
      "INFO:proposal_generator:Finding best map using matching_criterion name\n",
      "INFO:proposal_generator:{9: 7}\n"
     ]
    },
    {
     "name": "stdout",
     "output_type": "stream",
     "text": [
      "making topology proposal\n"
     ]
    },
    {
     "name": "stderr",
     "output_type": "stream",
     "text": [
      "INFO:geometry:propose: performing forward proposal\n",
      "INFO:geometry:propose: unique new atoms detected; proceeding to _logp_propose...\n",
      "INFO:geometry:Conducting forward proposal...\n",
      "INFO:geometry:Computing proposal order with NetworkX...\n",
      "INFO:geometry:number of atoms to be placed: 8\n",
      "INFO:geometry:Atom index proposal order is [10, 14, 18, 19, 15, 13, 16, 17]\n",
      "INFO:geometry:omitted_bonds: []\n",
      "INFO:geometry:direction of proposal is forward; creating atoms_with_positions and new positions from old system/topology...\n",
      "INFO:geometry:creating growth system...\n",
      "INFO:geometry:\tcreating bond force...\n",
      "INFO:geometry:\tthere are 11 bonds in reference force.\n",
      "INFO:geometry:\tcreating angle force...\n",
      "INFO:geometry:\tthere are 43 angles in reference force.\n",
      "INFO:geometry:\tcreating torsion force...\n",
      "INFO:geometry:\tcreating extra torsions force...\n",
      "INFO:geometry:\tthere are 72 torsions in reference force.\n",
      "INFO:geometry:\tcreating nonbonded force...\n",
      "INFO:geometry:\t\tgrabbing reference nonbonded method, cutoff, switching function, switching distance...\n",
      "INFO:geometry:\t\tcreating nonbonded exception force (i.e. custom bond for 1,4s)...\n",
      "INFO:geometry:\t\tlooping through exceptions calculating growth indices, and adding appropriate interactions to custom bond force.\n",
      "INFO:geometry:\t\tthere are 1654 in the reference Nonbonded force\n",
      "WARNING:geometry:\t\t\t\t\tchiral atom <Atom 8 (CA) of chain 0 residue 1 (THR)> with neighbors [<Atom 9 (HA) of chain 0 residue 1 (THR)>, <Atom 10 (CB) of chain 0 residue 1 (THR)>, <Atom 11 (C) of chain 0 residue 1 (THR)>, <Atom 6 (N) of chain 0 residue 1 (THR)>] is surrounded by 3 core neighbors.  omitting chirality bias torsion\n",
      "INFO:geometry:Neglected angle terms : []\n",
      "INFO:geometry:omitted_growth_terms: {'bonds': [], 'angles': [], 'torsions': [], '1,4s': []}\n",
      "INFO:geometry:extra torsions: {0: (7, 6, 8, 10, [1, Quantity(value=0.9900002084555819, unit=radian), Quantity(value=1200.0, unit=kilocalorie/mole), 1]), 1: (19, 18, 10, 8, [1, Quantity(value=-0.07858019216845058, unit=radian), Quantity(value=1200.0, unit=kilocalorie/mole), 4]), 2: (19, 18, 10, 14, [1, Quantity(value=2.118586571250296, unit=radian), Quantity(value=1200.0, unit=kilocalorie/mole), 4]), 3: (19, 18, 10, 13, [1, Quantity(value=-2.149781203448759, unit=radian), Quantity(value=1200.0, unit=kilocalorie/mole), 6]), 4: (8, 10, 14, 17, [1, Quantity(value=-2.1249532223845904, unit=radian), Quantity(value=1200.0, unit=kilocalorie/mole), 8]), 5: (8, 10, 14, 16, [1, Quantity(value=2.0543043017157916, unit=radian), Quantity(value=1200.0, unit=kilocalorie/mole), 7]), 6: (8, 10, 14, 15, [1, Quantity(value=-0.02223392579985184, unit=radian), Quantity(value=1200.0, unit=kilocalorie/mole), 5]), 7: (18, 10, 14, 17, [1, Quantity(value=2.0255587336734213, unit=radian), Quantity(value=1200.0, unit=kilocalorie/mole), 8]), 8: (18, 10, 14, 16, [1, Quantity(value=-0.07836904940578293, unit=radian), Quantity(value=1200.0, unit=kilocalorie/mole), 7]), 9: (18, 10, 14, 15, [1, Quantity(value=-2.154907276921426, unit=radian), Quantity(value=1200.0, unit=kilocalorie/mole), 5]), 10: (13, 10, 14, 17, [1, Quantity(value=0.007583009583349565, unit=radian), Quantity(value=1200.0, unit=kilocalorie/mole), 8]), 11: (13, 10, 14, 16, [1, Quantity(value=-2.096344773495849, unit=radian), Quantity(value=1200.0, unit=kilocalorie/mole), 7]), 12: (13, 10, 14, 15, [1, Quantity(value=2.1103023061680943, unit=radian), Quantity(value=1200.0, unit=kilocalorie/mole), 6]), 13: (14, 10, 8, 18, [1, Quantity(value=1.0655064807976995, unit=radian), Quantity(value=1200.0, unit=kilocalorie/mole), 3])}\n",
      "INFO:geometry:neglected angle terms include []\n",
      "INFO:geometry:log probability choice of torsions and atom order: -13.371595639480912\n",
      "INFO:geometry:creating platform, integrators, and contexts; setting growth parameter\n"
     ]
    },
    {
     "name": "stdout",
     "output_type": "stream",
     "text": [
      "generating geometry engine\n",
      "making geometry proposal from ALA to THR\n",
      "conducting subsequent work with the following platform: CUDA\n"
     ]
    },
    {
     "name": "stderr",
     "output_type": "stream",
     "text": [
      "INFO:geometry:setting atoms_with_positions context new positions\n"
     ]
    },
    {
     "name": "stdout",
     "output_type": "stream",
     "text": [
      "conducting subsequent work with the following platform: CUDA\n"
     ]
    },
    {
     "name": "stderr",
     "output_type": "stream",
     "text": [
      "INFO:geometry:There are 8 new atoms\n",
      "INFO:geometry:\treduced angle potential = 0.14200948134063118.\n",
      "INFO:geometry:\treduced angle potential = 0.018046239594110954.\n",
      "INFO:geometry:\treduced angle potential = 0.018051599294385653.\n",
      "INFO:geometry:\treduced angle potential = 0.08139994774625452.\n",
      "INFO:geometry:\treduced angle potential = 0.7324109318366777.\n",
      "INFO:geometry:\treduced angle potential = 1.0251300677969954.\n",
      "INFO:geometry:\treduced angle potential = 0.5312445795117027.\n",
      "INFO:geometry:\treduced angle potential = 0.12064626543440168.\n",
      "INFO:geometry:\tbeginning construction of no_nonbonded final system...\n",
      "INFO:geometry:\tinitial no-nonbonded final system forces ['HarmonicBondForce', 'HarmonicAngleForce', 'PeriodicTorsionForce', 'NonbondedForce', 'MonteCarloBarostat']\n",
      "INFO:geometry:\tfinal no-nonbonded final system forces dict_keys(['HarmonicBondForce', 'HarmonicAngleForce', 'PeriodicTorsionForce', 'NonbondedForce'])\n",
      "INFO:geometry:\tthere are 11 bond forces in the no-nonbonded final system\n",
      "INFO:geometry:\tthere are 43 angle forces in the no-nonbonded final system\n",
      "INFO:geometry:\tthere are 72 torsion forces in the no-nonbonded final system\n",
      "INFO:geometry:forward final system defined with 0 neglected angles.\n"
     ]
    },
    {
     "name": "stdout",
     "output_type": "stream",
     "text": [
      "conducting subsequent work with the following platform: CUDA\n"
     ]
    },
    {
     "name": "stderr",
     "output_type": "stream",
     "text": [
      "INFO:geometry:total reduced potential before atom placement: 9.11648114171204\n"
     ]
    },
    {
     "name": "stdout",
     "output_type": "stream",
     "text": [
      "conducting subsequent work with the following platform: CUDA\n",
      "conducting subsequent work with the following platform: CUDA\n",
      "conducting subsequent work with the following platform: CUDA\n",
      "conducting subsequent work with the following platform: CUDA\n"
     ]
    },
    {
     "name": "stderr",
     "output_type": "stream",
     "text": [
      "INFO:geometry:total reduced energy added from growth system: -44.18747904936698\n",
      "INFO:geometry:final reduced energy -35.07099943479327\n",
      "INFO:geometry:sum of energies: -35.07099790765494\n",
      "INFO:geometry:magnitude of difference in the energies: 1.5271383304593655e-06\n",
      "INFO:geometry:Final logp_proposal: 61.40904535576311\n",
      "INFO:geometry:logp_reverse: performing reverse proposal\n",
      "INFO:geometry:logp_reverse: unique new atoms detected; proceeding to _logp_propose...\n",
      "INFO:geometry:Conducting forward proposal...\n",
      "INFO:geometry:Computing proposal order with NetworkX...\n",
      "INFO:geometry:number of atoms to be placed: 4\n",
      "INFO:geometry:Atom index proposal order is [10, 11, 13, 12]\n",
      "INFO:geometry:omitted_bonds: []\n",
      "INFO:geometry:direction of proposal is reverse; creating atoms_with_positions from old system/topology\n"
     ]
    },
    {
     "name": "stdout",
     "output_type": "stream",
     "text": [
      "added energy components: [('CustomBondForce', 3.8136957327973438), ('CustomAngleForce', 4.3136307140816506), ('CustomTorsionForce', 18.46735574021015), ('CustomBondForce', -70.78216123645615)]\n"
     ]
    },
    {
     "name": "stderr",
     "output_type": "stream",
     "text": [
      "INFO:geometry:creating growth system...\n",
      "INFO:geometry:\tcreating bond force...\n",
      "INFO:geometry:\tthere are 9 bonds in reference force.\n",
      "INFO:geometry:\tcreating angle force...\n",
      "INFO:geometry:\tthere are 36 angles in reference force.\n",
      "INFO:geometry:\tcreating torsion force...\n",
      "INFO:geometry:\tcreating extra torsions force...\n",
      "INFO:geometry:\tthere are 42 torsions in reference force.\n",
      "INFO:geometry:\tcreating nonbonded force...\n",
      "INFO:geometry:\t\tgrabbing reference nonbonded method, cutoff, switching function, switching distance...\n",
      "INFO:geometry:\t\tcreating nonbonded exception force (i.e. custom bond for 1,4s)...\n",
      "INFO:geometry:\t\tlooping through exceptions calculating growth indices, and adding appropriate interactions to custom bond force.\n",
      "INFO:geometry:\t\tthere are 1631 in the reference Nonbonded force\n",
      "WARNING:geometry:\t\t\t\t\tchiral atom <Atom 8 (CA) of chain 0 residue 1 (ALA)> with neighbors [<Atom 9 (HA) of chain 0 residue 1 (ALA)>, <Atom 10 (CB) of chain 0 residue 1 (ALA)>, <Atom 14 (C) of chain 0 residue 1 (ALA)>, <Atom 6 (N) of chain 0 residue 1 (ALA)>] is surrounded by 3 core neighbors.  omitting chirality bias torsion\n",
      "INFO:geometry:Neglected angle terms : []\n",
      "INFO:geometry:omitted_growth_terms: {'bonds': [], 'angles': [], 'torsions': [], '1,4s': []}\n",
      "INFO:geometry:extra torsions: {0: (7, 6, 8, 10, [1, Quantity(value=0.9799661941737812, unit=radian), Quantity(value=1200.0, unit=kilocalorie/mole), 1]), 1: (6, 8, 10, 11, [1, Quantity(value=2.105358864604291, unit=radian), Quantity(value=1200.0, unit=kilocalorie/mole), 2]), 2: (6, 8, 10, 12, [1, Quantity(value=-2.0823006129211796, unit=radian), Quantity(value=1200.0, unit=kilocalorie/mole), 4]), 3: (6, 8, 10, 13, [1, Quantity(value=0.018582237407944735, unit=radian), Quantity(value=1200.0, unit=kilocalorie/mole), 3]), 4: (14, 8, 10, 11, [1, Quantity(value=-0.036945135932107576, unit=radian), Quantity(value=1200.0, unit=kilocalorie/mole), 2]), 5: (14, 8, 10, 12, [1, Quantity(value=2.0585806937220097, unit=radian), Quantity(value=1200.0, unit=kilocalorie/mole), 4]), 6: (14, 8, 10, 13, [1, Quantity(value=-2.1237217631284597, unit=radian), Quantity(value=1200.0, unit=kilocalorie/mole), 3]), 7: (9, 8, 10, 11, [1, Quantity(value=-2.119603470065817, unit=radian), Quantity(value=1200.0, unit=kilocalorie/mole), 2]), 8: (9, 8, 10, 12, [1, Quantity(value=-0.024077640411697132, unit=radian), Quantity(value=1200.0, unit=kilocalorie/mole), 4]), 9: (9, 8, 10, 13, [1, Quantity(value=2.0768052099174152, unit=radian), Quantity(value=1200.0, unit=kilocalorie/mole), 3])}\n",
      "INFO:geometry:neglected angle terms include []\n",
      "INFO:geometry:log probability choice of torsions and atom order: -5.78074351579233\n",
      "INFO:geometry:creating platform, integrators, and contexts; setting growth parameter\n"
     ]
    },
    {
     "name": "stdout",
     "output_type": "stream",
     "text": [
      "conducting subsequent work with the following platform: CUDA\n"
     ]
    },
    {
     "name": "stderr",
     "output_type": "stream",
     "text": [
      "INFO:geometry:setting atoms_with_positions context old positions\n"
     ]
    },
    {
     "name": "stdout",
     "output_type": "stream",
     "text": [
      "conducting subsequent work with the following platform: CUDA\n"
     ]
    },
    {
     "name": "stderr",
     "output_type": "stream",
     "text": [
      "INFO:geometry:There are 4 new atoms\n",
      "INFO:geometry:\treduced angle potential = 0.08012165173241896.\n",
      "INFO:geometry:\treduced angle potential = 1.2915588460963948e-10.\n",
      "INFO:geometry:\treduced angle potential = 7.39096069988752e-11.\n",
      "INFO:geometry:\treduced angle potential = 3.205832446488702e-13.\n",
      "INFO:geometry:\tbeginning construction of no_nonbonded final system...\n",
      "INFO:geometry:\tinitial no-nonbonded final system forces ['HarmonicBondForce', 'HarmonicAngleForce', 'PeriodicTorsionForce', 'NonbondedForce', 'MonteCarloBarostat']\n",
      "INFO:geometry:\tfinal no-nonbonded final system forces dict_keys(['HarmonicBondForce', 'HarmonicAngleForce', 'PeriodicTorsionForce', 'NonbondedForce'])\n",
      "INFO:geometry:\tthere are 9 bond forces in the no-nonbonded final system\n",
      "INFO:geometry:\tthere are 36 angle forces in the no-nonbonded final system\n",
      "INFO:geometry:\tthere are 42 torsion forces in the no-nonbonded final system\n",
      "INFO:geometry:reverse final system defined with 0 neglected angles.\n"
     ]
    },
    {
     "name": "stdout",
     "output_type": "stream",
     "text": [
      "conducting subsequent work with the following platform: CUDA\n"
     ]
    },
    {
     "name": "stderr",
     "output_type": "stream",
     "text": [
      "INFO:geometry:total reduced potential before atom placement: 9.11648114171204\n"
     ]
    },
    {
     "name": "stdout",
     "output_type": "stream",
     "text": [
      "conducting subsequent work with the following platform: CUDA\n",
      "conducting subsequent work with the following platform: CUDA\n",
      "conducting subsequent work with the following platform: CUDA\n",
      "conducting subsequent work with the following platform: CUDA\n"
     ]
    },
    {
     "name": "stderr",
     "output_type": "stream",
     "text": [
      "INFO:geometry:total reduced energy added from growth system: 20.672986672125617\n",
      "INFO:geometry:final reduced energy 29.78946596595156\n",
      "INFO:geometry:sum of energies: 29.789467813837657\n",
      "INFO:geometry:magnitude of difference in the energies: 1.8478860965842614e-06\n",
      "INFO:geometry:Final logp_proposal: -27063.242955106478\n",
      "INFO:relative:*** Generating RxnHybridTopologyFactory ***\n",
      "INFO:relative:Beginning nonbonded method, total particle, barostat, and exceptions retrieval...\n",
      "INFO:relative:Old system forces: dict_keys(['HarmonicBondForce', 'HarmonicAngleForce', 'PeriodicTorsionForce', 'NonbondedForce', 'MonteCarloBarostat'])\n",
      "INFO:relative:New system forces: dict_keys(['HarmonicBondForce', 'HarmonicAngleForce', 'PeriodicTorsionForce', 'NonbondedForce', 'MonteCarloBarostat'])\n",
      "INFO:relative:No unknown forces.\n",
      "INFO:relative:Nonbonded method to be used (i.e. from old system): 4\n",
      "INFO:relative:Adding and mapping old atoms to hybrid system...\n",
      "INFO:relative:Adding and mapping new atoms to hybrid system...\n",
      "INFO:relative:scale_templates: [['nonscale_lambda'], ['nonscale_region']]\n",
      "INFO:relative:Added MonteCarloBarostat.\n",
      "INFO:relative:getDefaultPeriodicBoxVectors added to hybrid: [Quantity(value=Vec3(x=2.56477354, y=0.0, z=0.0), unit=nanometer), Quantity(value=Vec3(x=0.0, y=2.56477354, z=0.0), unit=nanometer), Quantity(value=Vec3(x=0.0, y=0.0, z=2.56477354), unit=nanometer)]\n",
      "INFO:relative:Determined atom classes.\n",
      "INFO:relative:Generating old system exceptions dict...\n"
     ]
    },
    {
     "name": "stdout",
     "output_type": "stream",
     "text": [
      "added energy components: [('CustomBondForce', 0.000520203927326505), ('CustomAngleForce', 0.4511197756248138), ('CustomTorsionForce', 7.250463328533253), ('CustomBondForce', 12.970883364040223)]\n"
     ]
    },
    {
     "name": "stderr",
     "output_type": "stream",
     "text": [
      "INFO:relative:Generating new system exceptions dict...\n",
      "INFO:relative:Handling constraints...\n",
      "INFO:relative:Handling virtual sites...\n",
      "INFO:relative:\t_handle_virtual_sites: numVirtualSites: 0\n"
     ]
    },
    {
     "name": "stdout",
     "output_type": "stream",
     "text": [
      "( nonscale_lambda_bonds * nonscale_region ) * (K/2)*(r-length)^2;K = ( 1 * environment_region+lambda_0_bonds_old * alchemical_region_0 ) * K1 + ( 1 * environment_region+lambda_0_bonds_new * alchemical_region_0 ) * K2;length = ( 1 * environment_region+lambda_0_bonds_old * alchemical_region_0 ) * length1 + ( 1 * environment_region+lambda_0_bonds_new * alchemical_region_0 ) * length2;\n"
     ]
    }
   ],
   "source": [
    "# Create a htf\n",
    "atp, system_generator = generate_atp(phase = 'solvent')\n",
    "htf = generate_dipeptide_top_pos_sys(atp.topology, \n",
    "                               'THR', \n",
    "                               atp.system, \n",
    "                               atp.positions, \n",
    "                               system_generator,\n",
    "                                rxn_field=True,\n",
    "                               flatten_torsions=True,\n",
    "                               flatten_exceptions=True,\n",
    "                               validate_endstate_energy=False,\n",
    "                                conduct_htf_prop=True)"
   ]
  },
  {
   "cell_type": "code",
   "execution_count": 18,
   "id": "d42924fd",
   "metadata": {},
   "outputs": [],
   "source": [
    "with open(\"atp_solvent.pickle\", \"wb\") as f:\n",
    "    pickle.dump(htf, f)"
   ]
  },
  {
   "cell_type": "markdown",
   "id": "d6ef38ac",
   "metadata": {},
   "source": [
    "### Test one alchemical region, no scale regions"
   ]
  },
  {
   "cell_type": "markdown",
   "id": "5c908dfd",
   "metadata": {},
   "source": [
    "#### Old system HarmonicBondForce vs hybrid system CustomBondForce"
   ]
  },
  {
   "cell_type": "code",
   "execution_count": 19,
   "id": "0033103c",
   "metadata": {},
   "outputs": [],
   "source": [
    "# Load htf\n",
    "with open(\"/home/zhangi/choderalab/perses_benchmark/perses_protein_mutations/code/26_rxn_field/atp_solvent.pickle\", \"rb\") as f:\n",
    "    htf = pickle.load(f)"
   ]
  },
  {
   "cell_type": "code",
   "execution_count": 20,
   "id": "fea5843b",
   "metadata": {},
   "outputs": [
    {
     "name": "stdout",
     "output_type": "stream",
     "text": [
      "Warning: Returning CPU platform instead of requested platform <simtk.openmm.openmm.Platform; proxy of <Swig Object of type 'OpenMM::Platform *' at 0x2b890d8ed060> >\n",
      "conducting subsequent work with the following platform: CPU\n",
      "conducting subsequent work with the following platform: CUDA\n",
      "[('HarmonicBondForce', 0.034783653565214685), ('HarmonicAngleForce', 0.6112775462129015), ('PeriodicTorsionForce', 16.285398289983082), ('NonbondedForce', -975.5666619711665), ('AndersenThermostat', 0.0), ('MonteCarloBarostat', 0.0)]\n",
      "conducting subsequent work with the following platform: CUDA\n",
      "[('CustomBondForce', 0.03478365356521381), ('CustomAngleForce', 4.953858801999797), ('AndersenThermostat', 0.0), ('MonteCarloBarostat', 0.0)]\n",
      "Success! Custom bond force and standard bond force energies are equal!\n"
     ]
    }
   ],
   "source": [
    "test_bond_energies(htf, is_solvated=True)"
   ]
  },
  {
   "cell_type": "markdown",
   "id": "dc4b7b1d",
   "metadata": {},
   "source": [
    "#### New system HarmonicBondForce vs hybrid system CustomBondForce"
   ]
  },
  {
   "cell_type": "code",
   "execution_count": 21,
   "id": "9f9cbe99",
   "metadata": {},
   "outputs": [],
   "source": [
    "# Load htf\n",
    "with open(\"/home/zhangi/choderalab/perses_benchmark/perses_protein_mutations/code/26_rxn_field/atp_solvent.pickle\", \"rb\") as f:\n",
    "    htf = pickle.load(f)"
   ]
  },
  {
   "cell_type": "code",
   "execution_count": 22,
   "id": "5c16c96c",
   "metadata": {},
   "outputs": [
    {
     "name": "stdout",
     "output_type": "stream",
     "text": [
      "Warning: Returning CPU platform instead of requested platform <simtk.openmm.openmm.Platform; proxy of <Swig Object of type 'OpenMM::Platform *' at 0x2b890d8ed060> >\n",
      "conducting subsequent work with the following platform: CPU\n",
      "conducting subsequent work with the following platform: CUDA\n",
      "[('HarmonicBondForce', 3.873550964508178), ('HarmonicAngleForce', 4.499711376874169), ('PeriodicTorsionForce', 27.57757321070606), ('NonbondedForce', -618.3003824188523), ('AndersenThermostat', 0.0), ('MonteCarloBarostat', 0.0)]\n",
      "conducting subsequent work with the following platform: CUDA\n",
      "[('CustomBondForce', 3.8735509645081847), ('CustomAngleForce', 4.953858801999797), ('AndersenThermostat', 0.0), ('MonteCarloBarostat', 0.0)]\n",
      "Success! Custom bond force and standard bond force energies are equal!\n"
     ]
    }
   ],
   "source": [
    "test_bond_energies(htf, is_old=False, is_solvated=True)"
   ]
  },
  {
   "cell_type": "markdown",
   "id": "d907a68d",
   "metadata": {},
   "source": [
    "### Test one alchemical region, one scale region"
   ]
  },
  {
   "cell_type": "code",
   "execution_count": 23,
   "id": "52f50c72",
   "metadata": {
    "scrolled": true
   },
   "outputs": [
    {
     "name": "stderr",
     "output_type": "stream",
     "text": [
      "DEBUG:openmmforcefields.system_generators:Trying GAFFTemplateGenerator to load gaff-2.11\n",
      "INFO:proposal_generator:\tConducting polymer point mutation proposal...\n",
      "INFO:proposal_generator:Using matching_criterion to chose best atom map\n",
      "INFO:proposal_generator:Scaffold has symmetry of 0\n",
      "WARNING:proposal_generator:Two molecules are not similar to have a common scaffold\n",
      "WARNING:proposal_generator:Proceeding with direct mapping of molecules, but please check atom mapping and the geometry of the ligands.\n",
      "INFO:proposal_generator:len [{9: 7}, {10: 7}, {11: 7}, {12: 7}, {13: 7}, {9: 8}, {10: 8}, {11: 8}, {12: 8}, {13: 8}, {9: 9}, {10: 9}, {11: 9}, {12: 9}, {13: 9}]\n",
      "INFO:proposal_generator:{9: 7}\n",
      "INFO:proposal_generator:{10: 7}\n",
      "INFO:proposal_generator:{11: 7}\n",
      "INFO:proposal_generator:{12: 7}\n",
      "INFO:proposal_generator:{13: 7}\n",
      "INFO:proposal_generator:{9: 8}\n",
      "INFO:proposal_generator:{10: 8}\n",
      "INFO:proposal_generator:{11: 8}\n",
      "INFO:proposal_generator:{12: 8}\n",
      "INFO:proposal_generator:{13: 8}\n",
      "INFO:proposal_generator:{9: 9}\n",
      "INFO:proposal_generator:{10: 9}\n",
      "INFO:proposal_generator:{11: 9}\n",
      "INFO:proposal_generator:{12: 9}\n",
      "INFO:proposal_generator:{13: 9}\n",
      "INFO:proposal_generator:Returning map that best satisfies matching_criterion\n",
      "INFO:proposal_generator:Finding best map using matching_criterion name\n",
      "INFO:proposal_generator:{9: 7}\n"
     ]
    },
    {
     "name": "stdout",
     "output_type": "stream",
     "text": [
      "making topology proposal\n"
     ]
    },
    {
     "name": "stderr",
     "output_type": "stream",
     "text": [
      "INFO:geometry:propose: performing forward proposal\n",
      "INFO:geometry:propose: unique new atoms detected; proceeding to _logp_propose...\n",
      "INFO:geometry:Conducting forward proposal...\n",
      "INFO:geometry:Computing proposal order with NetworkX...\n",
      "INFO:geometry:number of atoms to be placed: 8\n",
      "INFO:geometry:Atom index proposal order is [10, 14, 18, 13, 19, 15, 16, 17]\n",
      "INFO:geometry:omitted_bonds: []\n",
      "INFO:geometry:direction of proposal is forward; creating atoms_with_positions and new positions from old system/topology...\n",
      "INFO:geometry:creating growth system...\n",
      "INFO:geometry:\tcreating bond force...\n",
      "INFO:geometry:\tthere are 11 bonds in reference force.\n",
      "INFO:geometry:\tcreating angle force...\n",
      "INFO:geometry:\tthere are 43 angles in reference force.\n",
      "INFO:geometry:\tcreating torsion force...\n",
      "INFO:geometry:\tcreating extra torsions force...\n",
      "INFO:geometry:\tthere are 72 torsions in reference force.\n",
      "INFO:geometry:\tcreating nonbonded force...\n",
      "INFO:geometry:\t\tgrabbing reference nonbonded method, cutoff, switching function, switching distance...\n",
      "INFO:geometry:\t\tcreating nonbonded exception force (i.e. custom bond for 1,4s)...\n",
      "INFO:geometry:\t\tlooping through exceptions calculating growth indices, and adding appropriate interactions to custom bond force.\n",
      "INFO:geometry:\t\tthere are 1654 in the reference Nonbonded force\n",
      "WARNING:geometry:\t\t\t\t\tchiral atom <Atom 8 (CA) of chain 0 residue 1 (THR)> with neighbors [<Atom 9 (HA) of chain 0 residue 1 (THR)>, <Atom 10 (CB) of chain 0 residue 1 (THR)>, <Atom 11 (C) of chain 0 residue 1 (THR)>, <Atom 6 (N) of chain 0 residue 1 (THR)>] is surrounded by 3 core neighbors.  omitting chirality bias torsion\n",
      "INFO:geometry:Neglected angle terms : []\n",
      "INFO:geometry:omitted_growth_terms: {'bonds': [], 'angles': [], 'torsions': [], '1,4s': []}\n"
     ]
    },
    {
     "name": "stdout",
     "output_type": "stream",
     "text": [
      "generating geometry engine\n",
      "making geometry proposal from ALA to THR\n"
     ]
    },
    {
     "name": "stderr",
     "output_type": "stream",
     "text": [
      "INFO:geometry:extra torsions: {0: (7, 6, 8, 10, [1, Quantity(value=0.9900002084555819, unit=radian), Quantity(value=1200.0, unit=kilocalorie/mole), 1]), 1: (19, 18, 10, 8, [1, Quantity(value=-0.07858019216845058, unit=radian), Quantity(value=1200.0, unit=kilocalorie/mole), 5]), 2: (19, 18, 10, 14, [1, Quantity(value=2.118586571250296, unit=radian), Quantity(value=1200.0, unit=kilocalorie/mole), 5]), 3: (19, 18, 10, 13, [1, Quantity(value=-2.149781203448759, unit=radian), Quantity(value=1200.0, unit=kilocalorie/mole), 5]), 4: (8, 10, 14, 17, [1, Quantity(value=-2.1249532223845904, unit=radian), Quantity(value=1200.0, unit=kilocalorie/mole), 8]), 5: (8, 10, 14, 16, [1, Quantity(value=2.0543043017157916, unit=radian), Quantity(value=1200.0, unit=kilocalorie/mole), 7]), 6: (8, 10, 14, 15, [1, Quantity(value=-0.02223392579985184, unit=radian), Quantity(value=1200.0, unit=kilocalorie/mole), 6]), 7: (18, 10, 14, 17, [1, Quantity(value=2.0255587336734213, unit=radian), Quantity(value=1200.0, unit=kilocalorie/mole), 8]), 8: (18, 10, 14, 16, [1, Quantity(value=-0.07836904940578293, unit=radian), Quantity(value=1200.0, unit=kilocalorie/mole), 7]), 9: (18, 10, 14, 15, [1, Quantity(value=-2.154907276921426, unit=radian), Quantity(value=1200.0, unit=kilocalorie/mole), 6]), 10: (13, 10, 14, 17, [1, Quantity(value=0.007583009583349565, unit=radian), Quantity(value=1200.0, unit=kilocalorie/mole), 8]), 11: (13, 10, 14, 16, [1, Quantity(value=-2.096344773495849, unit=radian), Quantity(value=1200.0, unit=kilocalorie/mole), 7]), 12: (13, 10, 14, 15, [1, Quantity(value=2.1103023061680943, unit=radian), Quantity(value=1200.0, unit=kilocalorie/mole), 6]), 13: (14, 10, 8, 18, [1, Quantity(value=1.0655064807976995, unit=radian), Quantity(value=1200.0, unit=kilocalorie/mole), 3])}\n",
      "INFO:geometry:neglected angle terms include []\n",
      "INFO:geometry:log probability choice of torsions and atom order: -13.553917196274867\n",
      "INFO:geometry:creating platform, integrators, and contexts; setting growth parameter\n"
     ]
    },
    {
     "name": "stdout",
     "output_type": "stream",
     "text": [
      "conducting subsequent work with the following platform: CUDA\n"
     ]
    },
    {
     "name": "stderr",
     "output_type": "stream",
     "text": [
      "INFO:geometry:setting atoms_with_positions context new positions\n",
      "INFO:geometry:There are 8 new atoms\n",
      "INFO:geometry:\treduced angle potential = 0.19932633735674332.\n"
     ]
    },
    {
     "name": "stdout",
     "output_type": "stream",
     "text": [
      "conducting subsequent work with the following platform: CUDA\n"
     ]
    },
    {
     "name": "stderr",
     "output_type": "stream",
     "text": [
      "INFO:geometry:\treduced angle potential = 1.9453487759038868.\n",
      "INFO:geometry:\treduced angle potential = 0.019226072522672978.\n",
      "INFO:geometry:\treduced angle potential = 0.3000111810782292.\n",
      "INFO:geometry:\treduced angle potential = 0.4322672186412563.\n",
      "INFO:geometry:\treduced angle potential = 1.3513960470999562.\n",
      "INFO:geometry:\treduced angle potential = 0.09005827775019312.\n",
      "INFO:geometry:\treduced angle potential = 0.0769966887109035.\n",
      "INFO:geometry:\tbeginning construction of no_nonbonded final system...\n",
      "INFO:geometry:\tinitial no-nonbonded final system forces ['HarmonicBondForce', 'HarmonicAngleForce', 'PeriodicTorsionForce', 'NonbondedForce', 'MonteCarloBarostat']\n",
      "INFO:geometry:\tfinal no-nonbonded final system forces dict_keys(['HarmonicBondForce', 'HarmonicAngleForce', 'PeriodicTorsionForce', 'NonbondedForce'])\n",
      "INFO:geometry:\tthere are 11 bond forces in the no-nonbonded final system\n",
      "INFO:geometry:\tthere are 43 angle forces in the no-nonbonded final system\n",
      "INFO:geometry:\tthere are 72 torsion forces in the no-nonbonded final system\n",
      "INFO:geometry:forward final system defined with 0 neglected angles.\n"
     ]
    },
    {
     "name": "stdout",
     "output_type": "stream",
     "text": [
      "conducting subsequent work with the following platform: CUDA\n"
     ]
    },
    {
     "name": "stderr",
     "output_type": "stream",
     "text": [
      "INFO:geometry:total reduced potential before atom placement: 9.11648114171204\n"
     ]
    },
    {
     "name": "stdout",
     "output_type": "stream",
     "text": [
      "conducting subsequent work with the following platform: CUDA\n",
      "conducting subsequent work with the following platform: CUDA\n",
      "conducting subsequent work with the following platform: CUDA\n"
     ]
    },
    {
     "name": "stderr",
     "output_type": "stream",
     "text": [
      "INFO:geometry:total reduced energy added from growth system: -52.947699729597154\n",
      "INFO:geometry:final reduced energy -43.83122153643036\n",
      "INFO:geometry:sum of energies: -43.83121858788512\n",
      "INFO:geometry:magnitude of difference in the energies: 2.9485452515132238e-06\n",
      "INFO:geometry:Final logp_proposal: 63.20439661776409\n"
     ]
    },
    {
     "name": "stdout",
     "output_type": "stream",
     "text": [
      "conducting subsequent work with the following platform: CUDA\n",
      "added energy components: [('CustomBondForce', 1.1359644490195437), ('CustomAngleForce', 7.115906557317588), ('CustomTorsionForce', 19.98533113323919), ('CustomBondForce', -81.18490186917347)]\n"
     ]
    },
    {
     "name": "stderr",
     "output_type": "stream",
     "text": [
      "INFO:geometry:logp_reverse: performing reverse proposal\n",
      "INFO:geometry:logp_reverse: unique new atoms detected; proceeding to _logp_propose...\n",
      "INFO:geometry:Conducting forward proposal...\n",
      "INFO:geometry:Computing proposal order with NetworkX...\n",
      "INFO:geometry:number of atoms to be placed: 4\n",
      "INFO:geometry:Atom index proposal order is [10, 13, 12, 11]\n",
      "INFO:geometry:omitted_bonds: []\n",
      "INFO:geometry:direction of proposal is reverse; creating atoms_with_positions from old system/topology\n",
      "INFO:geometry:creating growth system...\n",
      "INFO:geometry:\tcreating bond force...\n",
      "INFO:geometry:\tthere are 9 bonds in reference force.\n",
      "INFO:geometry:\tcreating angle force...\n",
      "INFO:geometry:\tthere are 36 angles in reference force.\n",
      "INFO:geometry:\tcreating torsion force...\n",
      "INFO:geometry:\tcreating extra torsions force...\n",
      "INFO:geometry:\tthere are 42 torsions in reference force.\n",
      "INFO:geometry:\tcreating nonbonded force...\n",
      "INFO:geometry:\t\tgrabbing reference nonbonded method, cutoff, switching function, switching distance...\n",
      "INFO:geometry:\t\tcreating nonbonded exception force (i.e. custom bond for 1,4s)...\n",
      "INFO:geometry:\t\tlooping through exceptions calculating growth indices, and adding appropriate interactions to custom bond force.\n",
      "INFO:geometry:\t\tthere are 1631 in the reference Nonbonded force\n",
      "WARNING:geometry:\t\t\t\t\tchiral atom <Atom 8 (CA) of chain 0 residue 1 (ALA)> with neighbors [<Atom 9 (HA) of chain 0 residue 1 (ALA)>, <Atom 10 (CB) of chain 0 residue 1 (ALA)>, <Atom 14 (C) of chain 0 residue 1 (ALA)>, <Atom 6 (N) of chain 0 residue 1 (ALA)>] is surrounded by 3 core neighbors.  omitting chirality bias torsion\n",
      "INFO:geometry:Neglected angle terms : []\n",
      "INFO:geometry:omitted_growth_terms: {'bonds': [], 'angles': [], 'torsions': [], '1,4s': []}\n",
      "INFO:geometry:extra torsions: {0: (7, 6, 8, 10, [1, Quantity(value=0.9799661941737812, unit=radian), Quantity(value=1200.0, unit=kilocalorie/mole), 1]), 1: (6, 8, 10, 11, [1, Quantity(value=2.105358864604291, unit=radian), Quantity(value=1200.0, unit=kilocalorie/mole), 4]), 2: (6, 8, 10, 12, [1, Quantity(value=-2.0823006129211796, unit=radian), Quantity(value=1200.0, unit=kilocalorie/mole), 3]), 3: (6, 8, 10, 13, [1, Quantity(value=0.018582237407944735, unit=radian), Quantity(value=1200.0, unit=kilocalorie/mole), 2]), 4: (14, 8, 10, 11, [1, Quantity(value=-0.036945135932107576, unit=radian), Quantity(value=1200.0, unit=kilocalorie/mole), 4]), 5: (14, 8, 10, 12, [1, Quantity(value=2.0585806937220097, unit=radian), Quantity(value=1200.0, unit=kilocalorie/mole), 3]), 6: (14, 8, 10, 13, [1, Quantity(value=-2.1237217631284597, unit=radian), Quantity(value=1200.0, unit=kilocalorie/mole), 2]), 7: (9, 8, 10, 11, [1, Quantity(value=-2.119603470065817, unit=radian), Quantity(value=1200.0, unit=kilocalorie/mole), 4]), 8: (9, 8, 10, 12, [1, Quantity(value=-0.024077640411697132, unit=radian), Quantity(value=1200.0, unit=kilocalorie/mole), 3]), 9: (9, 8, 10, 13, [1, Quantity(value=2.0768052099174152, unit=radian), Quantity(value=1200.0, unit=kilocalorie/mole), 2])}\n",
      "INFO:geometry:neglected angle terms include []\n",
      "INFO:geometry:log probability choice of torsions and atom order: -5.78074351579233\n",
      "INFO:geometry:creating platform, integrators, and contexts; setting growth parameter\n"
     ]
    },
    {
     "name": "stdout",
     "output_type": "stream",
     "text": [
      "conducting subsequent work with the following platform: CUDA\n"
     ]
    },
    {
     "name": "stderr",
     "output_type": "stream",
     "text": [
      "INFO:geometry:setting atoms_with_positions context old positions\n",
      "INFO:geometry:There are 4 new atoms\n",
      "INFO:geometry:\treduced angle potential = 0.3517324280898812.\n"
     ]
    },
    {
     "name": "stdout",
     "output_type": "stream",
     "text": [
      "conducting subsequent work with the following platform: CUDA\n"
     ]
    },
    {
     "name": "stderr",
     "output_type": "stream",
     "text": [
      "INFO:geometry:\treduced angle potential = 7.39096069988752e-11.\n",
      "INFO:geometry:\treduced angle potential = 3.205832446488702e-13.\n",
      "INFO:geometry:\treduced angle potential = 1.2915588460963948e-10.\n",
      "INFO:geometry:\tbeginning construction of no_nonbonded final system...\n",
      "INFO:geometry:\tinitial no-nonbonded final system forces ['HarmonicBondForce', 'HarmonicAngleForce', 'PeriodicTorsionForce', 'NonbondedForce', 'MonteCarloBarostat']\n",
      "INFO:geometry:\tfinal no-nonbonded final system forces dict_keys(['HarmonicBondForce', 'HarmonicAngleForce', 'PeriodicTorsionForce', 'NonbondedForce'])\n",
      "INFO:geometry:\tthere are 9 bond forces in the no-nonbonded final system\n",
      "INFO:geometry:\tthere are 36 angle forces in the no-nonbonded final system\n",
      "INFO:geometry:\tthere are 42 torsion forces in the no-nonbonded final system\n",
      "INFO:geometry:reverse final system defined with 0 neglected angles.\n"
     ]
    },
    {
     "name": "stdout",
     "output_type": "stream",
     "text": [
      "conducting subsequent work with the following platform: CUDA\n",
      "conducting subsequent work with the following platform: CUDA\n"
     ]
    },
    {
     "name": "stderr",
     "output_type": "stream",
     "text": [
      "INFO:geometry:total reduced potential before atom placement: 9.11648114171204\n"
     ]
    },
    {
     "name": "stdout",
     "output_type": "stream",
     "text": [
      "conducting subsequent work with the following platform: CUDA\n",
      "conducting subsequent work with the following platform: CUDA\n"
     ]
    },
    {
     "name": "stderr",
     "output_type": "stream",
     "text": [
      "INFO:geometry:total reduced energy added from growth system: 20.672986672125617\n",
      "INFO:geometry:final reduced energy 29.78946596595156\n",
      "INFO:geometry:sum of energies: 29.789467813837657\n",
      "INFO:geometry:magnitude of difference in the energies: 1.8478860965842614e-06\n",
      "INFO:geometry:Final logp_proposal: -27100.404073734037\n"
     ]
    },
    {
     "name": "stdout",
     "output_type": "stream",
     "text": [
      "conducting subsequent work with the following platform: CUDA\n",
      "added energy components: [('CustomBondForce', 0.000520203927326505), ('CustomAngleForce', 0.4511197756248138), ('CustomTorsionForce', 7.250463328533253), ('CustomBondForce', 12.970883364040223)]\n"
     ]
    },
    {
     "name": "stderr",
     "output_type": "stream",
     "text": [
      "INFO:relative:*** Generating RxnHybridTopologyFactory ***\n",
      "INFO:relative:Beginning nonbonded method, total particle, barostat, and exceptions retrieval...\n",
      "INFO:relative:Old system forces: dict_keys(['HarmonicBondForce', 'HarmonicAngleForce', 'PeriodicTorsionForce', 'NonbondedForce', 'MonteCarloBarostat'])\n",
      "INFO:relative:New system forces: dict_keys(['HarmonicBondForce', 'HarmonicAngleForce', 'PeriodicTorsionForce', 'NonbondedForce', 'MonteCarloBarostat'])\n",
      "INFO:relative:No unknown forces.\n",
      "INFO:relative:Nonbonded method to be used (i.e. from old system): 4\n",
      "INFO:relative:Adding and mapping old atoms to hybrid system...\n",
      "INFO:relative:Adding and mapping new atoms to hybrid system...\n",
      "INFO:relative:scale_templates: [['nonscale_lambda', 'scale_lambda_0', 'interscale_lambda_0'], ['nonscale_region', 'scale_region_0', 'interscale_region_0']]\n",
      "INFO:relative:Added MonteCarloBarostat.\n",
      "INFO:relative:getDefaultPeriodicBoxVectors added to hybrid: [Quantity(value=Vec3(x=2.56477354, y=0.0, z=0.0), unit=nanometer), Quantity(value=Vec3(x=0.0, y=2.56477354, z=0.0), unit=nanometer), Quantity(value=Vec3(x=0.0, y=0.0, z=2.56477354), unit=nanometer)]\n",
      "INFO:relative:Determined atom classes.\n",
      "INFO:relative:Generating old system exceptions dict...\n",
      "INFO:relative:Generating new system exceptions dict...\n",
      "INFO:relative:Handling constraints...\n",
      "INFO:relative:Handling virtual sites...\n",
      "INFO:relative:\t_handle_virtual_sites: numVirtualSites: 0\n"
     ]
    },
    {
     "name": "stdout",
     "output_type": "stream",
     "text": [
      "( nonscale_lambda_bonds * nonscale_region+scale_lambda_0_bonds * scale_region_0+interscale_lambda_0_bonds * interscale_region_0 ) * (K/2)*(r-length)^2;K = ( 1 * environment_region+lambda_0_bonds_old * alchemical_region_0 ) * K1 + ( 1 * environment_region+lambda_0_bonds_new * alchemical_region_0 ) * K2;length = ( 1 * environment_region+lambda_0_bonds_old * alchemical_region_0 ) * length1 + ( 1 * environment_region+lambda_0_bonds_new * alchemical_region_0 ) * length2;\n"
     ]
    }
   ],
   "source": [
    "# Create a htf\n",
    "atp, system_generator = generate_atp(phase = 'solvent')\n",
    "htf = generate_dipeptide_top_pos_sys(atp.topology, \n",
    "                               'THR', \n",
    "                               atp.system, \n",
    "                               atp.positions, \n",
    "                               system_generator,\n",
    "                                rxn_field=True,\n",
    "                               flatten_torsions=True,\n",
    "                               flatten_exceptions=True,\n",
    "                               validate_endstate_energy=False,\n",
    "                                conduct_htf_prop=True, \n",
    "                                scale_regions=[[10, 11, 12, 13, 1557, 1558, 1559, 1560, 1561, 1562, 1563, 1564]])"
   ]
  },
  {
   "cell_type": "code",
   "execution_count": 24,
   "id": "d6546cfb",
   "metadata": {},
   "outputs": [],
   "source": [
    "with open(\"atp_solvent_scale_region.pickle\", \"wb\") as f:\n",
    "    pickle.dump(htf, f)"
   ]
  },
  {
   "cell_type": "markdown",
   "id": "3576b206",
   "metadata": {},
   "source": [
    "#### Old system HarmonicBondForce vs hybrid system CustomBondForce"
   ]
  },
  {
   "cell_type": "code",
   "execution_count": 25,
   "id": "f714b6e7",
   "metadata": {},
   "outputs": [],
   "source": [
    "# Load htf\n",
    "with open(\"/home/zhangi/choderalab/perses_benchmark/perses_protein_mutations/code/26_rxn_field/atp_solvent_scale_region.pickle\", \"rb\") as f:\n",
    "    htf = pickle.load(f)"
   ]
  },
  {
   "cell_type": "code",
   "execution_count": 26,
   "id": "fca19e10",
   "metadata": {},
   "outputs": [
    {
     "data": {
      "text/plain": [
       "[10, 11, 12, 13, 1557, 1558, 1559, 1560, 1561, 1562, 1563, 1564]"
      ]
     },
     "execution_count": 26,
     "metadata": {},
     "output_type": "execute_result"
    }
   ],
   "source": [
    "# This is the scale region\n",
    "list(htf._atom_classes['unique_old_atoms'][0]) + list(htf._atom_classes['unique_new_atoms'][0])"
   ]
  },
  {
   "cell_type": "code",
   "execution_count": 27,
   "id": "479adca5",
   "metadata": {},
   "outputs": [
    {
     "name": "stdout",
     "output_type": "stream",
     "text": [
      "Warning: Returning CPU platform instead of requested platform <simtk.openmm.openmm.Platform; proxy of <Swig Object of type 'OpenMM::Platform *' at 0x2b890d8ed060> >\n",
      "conducting subsequent work with the following platform: CPU\n",
      "conducting subsequent work with the following platform: CUDA\n",
      "[('HarmonicBondForce', 0.034783653565214685), ('HarmonicAngleForce', 0.6112775462129015), ('PeriodicTorsionForce', 16.285398289983082), ('NonbondedForce', -1773.618940558242), ('AndersenThermostat', 0.0), ('MonteCarloBarostat', 0.0)]\n",
      "conducting subsequent work with the following platform: CUDA\n",
      "[('CustomBondForce', 0.03478365356521381), ('CustomAngleForce', 7.774941865660137), ('AndersenThermostat', 0.0), ('MonteCarloBarostat', 0.0)]\n",
      "Success! Custom bond force and standard bond force energies are equal!\n"
     ]
    }
   ],
   "source": [
    "test_bond_energies(htf, is_solvated=True)"
   ]
  },
  {
   "cell_type": "markdown",
   "id": "2e0b009a",
   "metadata": {},
   "source": [
    "#### New system HarmonicBondForce vs hybrid system CustomBondForce"
   ]
  },
  {
   "cell_type": "code",
   "execution_count": 28,
   "id": "a1d202a2",
   "metadata": {},
   "outputs": [],
   "source": [
    "# Load htf\n",
    "with open(\"/home/zhangi/choderalab/perses_benchmark/perses_protein_mutations/code/26_rxn_field/atp_solvent_scale_region.pickle\", \"rb\") as f:\n",
    "    htf = pickle.load(f)"
   ]
  },
  {
   "cell_type": "code",
   "execution_count": 29,
   "id": "3d6aaf36",
   "metadata": {},
   "outputs": [
    {
     "name": "stdout",
     "output_type": "stream",
     "text": [
      "Warning: Returning CPU platform instead of requested platform <simtk.openmm.openmm.Platform; proxy of <Swig Object of type 'OpenMM::Platform *' at 0x2b890d8ed060> >\n",
      "conducting subsequent work with the following platform: CPU\n",
      "conducting subsequent work with the following platform: CUDA\n",
      "[('HarmonicBondForce', 1.1778483298325095), ('HarmonicAngleForce', 7.320794440534433), ('PeriodicTorsionForce', 29.105734892070842), ('NonbondedForce', -1788.3329924439342), ('AndersenThermostat', 0.0), ('MonteCarloBarostat', 0.0)]\n",
      "conducting subsequent work with the following platform: CUDA\n",
      "[('CustomBondForce', 1.1778483298325466), ('CustomAngleForce', 7.774941865660137), ('AndersenThermostat', 0.0), ('MonteCarloBarostat', 0.0)]\n",
      "Success! Custom bond force and standard bond force energies are equal!\n"
     ]
    }
   ],
   "source": [
    "test_bond_energies(htf, is_old=False, is_solvated=True)"
   ]
  },
  {
   "cell_type": "code",
   "execution_count": null,
   "id": "95bc995d",
   "metadata": {},
   "outputs": [],
   "source": []
  },
  {
   "cell_type": "markdown",
   "id": "dd3a6ebd",
   "metadata": {},
   "source": [
    "# CDK2 transformation in solvent"
   ]
  },
  {
   "cell_type": "code",
   "execution_count": 30,
   "id": "0007ff9b",
   "metadata": {},
   "outputs": [
    {
     "name": "stdout",
     "output_type": "stream",
     "text": [
      "conducting subsequent work with the following platform: CUDA\n",
      "conducting subsequent work with the following platform: CUDA\n",
      "conducting subsequent work with the following platform: CUDA\n"
     ]
    }
   ],
   "source": [
    "import os\n",
    "from pkg_resources import resource_filename\n",
    "from perses.app import setup_relative_calculation\n",
    "import pickle"
   ]
  },
  {
   "cell_type": "code",
   "execution_count": 32,
   "id": "afad5b52",
   "metadata": {
    "scrolled": true
   },
   "outputs": [
    {
     "name": "stderr",
     "output_type": "stream",
     "text": [
      "2021-05-11 11:31:42,780:(57.77s):root:\tDetecting phases...\n",
      "2021-05-11 11:31:42,784:(0.00s):root:\t\tphases detected: ['complex', 'solvent', 'vacuum']\n",
      "2021-05-11 11:31:42,788:(0.00s):root:No constraints will be removed\n",
      "2021-05-11 11:31:42,791:(0.00s):root:No spectators\n",
      "2021-05-11 11:31:42,794:(0.00s):root:\t\t\trun_type is not specified; default to None\n",
      "2021-05-11 11:31:42,798:(0.00s):root:\tDetecting fe_type...\n",
      "2021-05-11 11:31:42,801:(0.00s):root:\t\tfe_type: repex\n",
      "2021-05-11 11:31:42,804:(0.00s):root:\t\t\toffline-freq not specified: default to 10.\n",
      "2021-05-11 11:31:42,806:(0.00s):root:\t'neglect_angles' detected: False.\n",
      "2021-05-11 11:31:42,808:(0.00s):root:\t'softcore_v2' not specified: default to 'False'\n",
      "2021-05-11 11:31:42,810:(0.00s):root:\tCreating 'output'...\n",
      "2021-05-11 11:31:42,825:(0.01s):root:\tdetected ligand file: /home/zhangi/miniconda3/envs/perses-rxn-field/lib/python3.8/site-packages/perses-0.8.2.dev0-py3.8.egg/perses/data/cdk2-example/CDK2_ligands.sdf\n",
      "2021-05-11 11:31:42,826:(0.00s):root:\told ligand index: 14; new ligand index: 15\n",
      "2021-05-11 11:31:42,827:(0.00s):root:\tsetting up forcefield files...\n",
      "2021-05-11 11:31:42,828:(0.00s):root:\tno timestep detected: setting default as 1.0fs.\n",
      "2021-05-11 11:31:42,829:(0.00s):root:\tno splitting strings specified: defaulting to neq: V R O R V, eq: V R O R V.\n",
      "2021-05-11 11:31:42,830:(0.00s):root:\tno measure_shadow_work specified: defaulting to False.\n",
      "2021-05-11 11:31:42,831:(0.00s):root:\tsetting pressure: 1.0 atm.\n",
      "2021-05-11 11:31:42,832:(0.00s):root:\tsetting temperature: 300.0 K.\n",
      "2021-05-11 11:31:42,833:(0.00s):root:\tsetting solvent padding: 9.0 AA.\n",
      "2021-05-11 11:31:42,834:(0.00s):root:\tsetting ionic strength: 0.15 MM.\n",
      "2021-05-11 11:31:42,835:(0.00s):root:\tsetup pickle file: fesetup_hbonds.pkl\n",
      "2021-05-11 11:31:42,836:(0.00s):root:\ttrajectory directory: output\n",
      "2021-05-11 11:31:42,837:(0.00s):root:\tno atom map specified: default to None.\n",
      "2021-05-11 11:31:42,838:(0.00s):root:\tno topology_proposal specified; proceeding to RelativeFEPSetup...\n",
      "\n",
      "\n",
      "\n",
      "2021-05-11 11:31:42,838:(0.00s):root:Box dimensions: None and None\n",
      "2021-05-11 11:31:42,843:(0.00s):relative_setup:\t\t\t_hmass: 4 Da.\n",
      "\n",
      "2021-05-11 11:31:42,843:(0.00s):relative_setup:Setting non bonded method to PME\n",
      "2021-05-11 11:31:42,844:(0.00s):relative_setup:Handling files for ligands and indices...\n",
      "2021-05-11 11:31:42,845:(0.00s):relative_setup:Detected .sdf format.  Proceeding...\n",
      "2021-05-11 11:31:42,864:(0.02s):utils.openeye:molecule 17                      does not have unique atom names. Generating now...\n",
      "2021-05-11 11:31:42,871:(0.01s):utils.openeye:molecule 1h1q                      does not have unique atom names. Generating now...\n",
      "2021-05-11 11:31:42,886:(0.02s):relative_setup:\tsuccessfully extracted positions from OEMOL.\n",
      "2021-05-11 11:31:42,887:(0.00s):relative_setup:\tsetting both molecule oemol titles to 'MOL'.\n",
      "2021-05-11 11:31:42,888:(0.00s):relative_setup:\tsuccessfully created SMILES for both ligand OEMOLs.\n",
      "2021-05-11 11:31:42,891:(0.00s):relative_setup:\tsuccessfully generated topologies for both OEMOLs.\n",
      "2021-05-11 11:31:42,892:(0.00s):relative_setup:Created mdtraj topologies for both ligands.\n",
      "2021-05-11 11:31:42,893:(0.00s):relative_setup:set MonteCarloBarostat because pressure was specified as 1.0 atm atmospheres\n",
      "2021-05-11 11:31:42,905:(0.01s):relative_setup:PME tolerance: 0.00025\n",
      "2021-05-11 11:31:43,007:(0.10s):relative_setup:successfully created SystemGenerator to create ligand systems\n",
      "2021-05-11 11:31:43,009:(0.00s):relative_setup:executing SmallMoleculeSetProposalEngine...\n",
      "2021-05-11 11:31:43,011:(0.00s):relative_setup:instantiating FFAllAngleGeometryEngine...\n",
      "2021-05-11 11:31:43,012:(0.00s):relative_setup:Detected solvent...\n",
      "2021-05-11 11:31:43,014:(0.00s):relative_setup:no complex detected in phases...generating unique topology/geometry proposals...\n",
      "2021-05-11 11:31:43,015:(0.00s):relative_setup:solvating ligand...\n",
      "2021-05-11 11:31:43,017:(0.00s):relative_setup:box_dimensions: None\n",
      "2021-05-11 11:31:43,018:(0.00s):relative_setup:solvent padding: 9.0\n",
      "2021-05-11 11:31:43,020:(0.00s):relative_setup:\tpreparing to add solvent\n",
      "2021-05-11 11:31:43,351:(0.33s):openmmforcefields.generators.template_generators:Requested to generate parameters for residue <Residue 0 (MOL) of chain 0>\n",
      "2021-05-11 11:31:43,717:(0.37s):relative_setup:\tparameterizing...\n",
      "2021-05-11 11:31:43,993:(0.28s):relative_setup:\tSystem parameterized\n",
      "2021-05-11 11:31:44,024:(0.03s):relative_setup:creating TopologyProposal\n",
      "2021-05-11 11:31:44,026:(0.00s):proposal_generator:creating current receptor topology by removing small molecule from current topology...\n",
      "2021-05-11 11:31:44,034:(0.01s):proposal_generator:small molecule start index: 0\n",
      "2021-05-11 11:31:44,035:(0.00s):proposal_generator:small molecule has 45 atoms.\n",
      "2021-05-11 11:31:44,036:(0.00s):proposal_generator:old alchemical atom indices: range(0, 45)\n",
      "2021-05-11 11:31:44,038:(0.00s):proposal_generator:proposed mol detected with smiles [H]c1c(c(c(c(c1[H])[H])N([H])c2nc3c(c(n2)OC([H])([H])C4(C(C(C(C(C4([H])[H])([H])[H])([H])[H])([H])[H])([H])[H])[H])nc(n3[H])[H])[H])[H] and logp_proposal of 0.0\n",
      "2021-05-11 11:31:44,039:(0.00s):proposal_generator:conducting proposal from [H]c1c(c(c(c(c1[H])Br)[H])N([H])c2nc3c(c(n2)OC([H])([H])C4(C(C(C(C(C4([H])[H])([H])[H])([H])[H])([H])[H])([H])[H])[H])nc(n3[H])[H])[H] to [H]c1c(c(c(c(c1[H])[H])N([H])c2nc3c(c(n2)OC([H])([H])C4(C(C(C(C(C4([H])[H])([H])[H])([H])[H])([H])[H])([H])[H])[H])nc(n3[H])[H])[H])[H]...\n",
      "2021-05-11 11:31:44,041:(0.00s):proposal_generator:building new topology with proposed molecule and current receptor topology...\n",
      "2021-05-11 11:31:44,042:(0.00s):proposal_generator:\tsetting proposed oemol title to MOL\n",
      "2021-05-11 11:31:44,043:(0.00s):proposal_generator:\tcreating mol topology from oemol...\n",
      "2021-05-11 11:31:44,045:(0.00s):proposal_generator:\tappending current receptor topology to new mol topology...\n",
      "2021-05-11 11:31:44,053:(0.01s):proposal_generator:\tperiodic box vectors of the current receptor is specified; copying to new topology...\n",
      "2021-05-11 11:31:44,055:(0.00s):proposal_generator:new molecule has a start index of 2152 and 45 atoms.\n",
      "2021-05-11 11:31:44,056:(0.00s):proposal_generator:proceeding to build the new system from the new topology...\n",
      "2021-05-11 11:31:44,078:(0.02s):openmmforcefields.generators.template_generators:Requested to generate parameters for residue <Residue 720 (MOL) of chain 3>\n",
      "2021-05-11 11:31:44,227:(0.15s):proposal_generator:determining atom map between old and new molecules...\n",
      "2021-05-11 11:31:44,228:(0.00s):proposal_generator:the atom map is not specified; proceeding to generate an atom map...\n",
      "2021-05-11 11:31:44,229:(0.00s):proposal_generator:Using geometry to chose best atom map\n",
      "2021-05-11 11:31:44,237:(0.01s):proposal_generator:Scaffold has symmetry of 4\n",
      "2021-05-11 11:31:44,238:(0.00s):proposal_generator:There are 4 before filtering\n",
      "2021-05-11 11:31:44,240:(0.00s):proposal_generator:There are 4 after filtering to remove maps with fewer matches than 24 atoms\n",
      "2021-05-11 11:31:44,244:(0.00s):proposal_generator:1 scaffold maps for A\n",
      "2021-05-11 11:31:44,246:(0.00s):proposal_generator:Scaffold to molA: {0: 0, 1: 1, 2: 2, 3: 3, 8: 4, 7: 5, 6: 6, 5: 7, 4: 8, 11: 9, 10: 10, 9: 11, 23: 12, 13: 13, 14: 14, 15: 15, 16: 16, 17: 17, 18: 18, 19: 19, 20: 20, 21: 21, 22: 22, 12: 23}\n",
      "2021-05-11 11:31:44,250:(0.00s):proposal_generator:1 scaffold maps for B\n",
      "2021-05-11 11:31:44,252:(0.00s):proposal_generator:Scaffold to molB: {0: 0, 1: 1, 2: 2, 3: 3, 8: 4, 7: 5, 6: 6, 5: 7, 4: 8, 11: 9, 10: 10, 9: 11, 23: 12, 13: 13, 14: 14, 15: 15, 16: 16, 17: 17, 18: 18, 19: 19, 20: 20, 21: 21, 22: 22, 12: 23}\n",
      "2021-05-11 11:31:46,008:(1.76s):proposal_generator:4 maps are reduced to 1\n",
      "2021-05-11 11:31:46,010:(0.00s):proposal_generator:molecule_maps_scores: dict_keys([19.8560123167367])\n",
      "2021-05-11 11:31:46,011:(0.00s):proposal_generator:Returning map with closest geometry satisfaction\n",
      "2021-05-11 11:31:46,096:(0.08s):proposal_generator:Proposed transformation would delete 1 atoms and create 1 atoms.\n",
      "2021-05-11 11:31:46,098:(0.00s):relative_setup:conducting geometry proposal...\n",
      "2021-05-11 11:31:46,099:(0.00s):geometry:propose: performing forward proposal\n",
      "2021-05-11 11:31:46,100:(0.00s):geometry:propose: unique new atoms detected; proceeding to _logp_propose...\n"
     ]
    },
    {
     "name": "stderr",
     "output_type": "stream",
     "text": [
      "2021-05-11 11:31:46,102:(0.00s):geometry:Conducting forward proposal...\n",
      "2021-05-11 11:31:46,103:(0.00s):geometry:Computing proposal order with NetworkX...\n",
      "2021-05-11 11:31:46,111:(0.01s):geometry:number of atoms to be placed: 1\n",
      "2021-05-11 11:31:46,112:(0.00s):geometry:Atom index proposal order is [2190]\n",
      "2021-05-11 11:31:46,114:(0.00s):geometry:omitted_bonds: []\n",
      "2021-05-11 11:31:46,115:(0.00s):geometry:direction of proposal is forward; creating atoms_with_positions and new positions from old system/topology...\n",
      "2021-05-11 11:31:46,258:(0.14s):geometry:creating growth system...\n",
      "2021-05-11 11:31:46,294:(0.04s):geometry:\tcreating bond force...\n",
      "2021-05-11 11:31:46,295:(0.00s):geometry:\tthere are 27 bonds in reference force.\n",
      "2021-05-11 11:31:46,297:(0.00s):geometry:\tcreating angle force...\n",
      "2021-05-11 11:31:46,298:(0.00s):geometry:\tthere are 85 angles in reference force.\n",
      "2021-05-11 11:31:46,300:(0.00s):geometry:\tcreating torsion force...\n",
      "2021-05-11 11:31:46,302:(0.00s):geometry:\tcreating extra torsions force...\n",
      "2021-05-11 11:31:46,303:(0.00s):geometry:\tthere are 157 torsions in reference force.\n",
      "2021-05-11 11:31:46,305:(0.00s):geometry:\tcreating nonbonded force...\n",
      "2021-05-11 11:31:46,307:(0.00s):geometry:\t\tgrabbing reference nonbonded method, cutoff, switching function, switching distance...\n",
      "2021-05-11 11:31:46,308:(0.00s):geometry:\t\tcreating nonbonded exception force (i.e. custom bond for 1,4s)...\n",
      "2021-05-11 11:31:46,310:(0.00s):geometry:\t\tlooping through exceptions calculating growth indices, and adding appropriate interactions to custom bond force.\n",
      "2021-05-11 11:31:46,311:(0.00s):geometry:\t\tthere are 2395 in the reference Nonbonded force\n",
      "2021-05-11 11:31:46,354:(0.04s):geometry:Neglected angle terms : []\n",
      "2021-05-11 11:31:46,356:(0.00s):geometry:omitted_growth_terms: {'bonds': [], 'angles': [], 'torsions': [], '1,4s': []}\n",
      "2021-05-11 11:31:46,357:(0.00s):geometry:extra torsions: {0: (2190, 2161, 2162, 2163, [1, Quantity(value=-0.019594642035228205, unit=radian), Quantity(value=1200.0, unit=kilocalorie/mole), 1]), 1: (2190, 2161, 2162, 2191, [1, Quantity(value=-3.1361896196768977, unit=radian), Quantity(value=1200.0, unit=kilocalorie/mole), 1]), 2: (2190, 2161, 2175, 2174, [1, Quantity(value=-0.008871224163264912, unit=radian), Quantity(value=1200.0, unit=kilocalorie/mole), 1]), 3: (2190, 2161, 2175, 2196, [1, Quantity(value=3.1405837865634907, unit=radian), Quantity(value=1200.0, unit=kilocalorie/mole), 1])}\n",
      "2021-05-11 11:31:46,358:(0.00s):geometry:neglected angle terms include []\n",
      "2021-05-11 11:31:46,360:(0.00s):geometry:log probability choice of torsions and atom order: -1.3862943611198906\n",
      "2021-05-11 11:31:46,361:(0.00s):geometry:creating platform, integrators, and contexts; setting growth parameter\n"
     ]
    },
    {
     "name": "stdout",
     "output_type": "stream",
     "text": [
      "conducting subsequent work with the following platform: CUDA\n"
     ]
    },
    {
     "name": "stderr",
     "output_type": "stream",
     "text": [
      "2021-05-11 11:31:47,689:(1.33s):geometry:setting atoms_with_positions context new positions\n"
     ]
    },
    {
     "name": "stdout",
     "output_type": "stream",
     "text": [
      "conducting subsequent work with the following platform: CUDA\n"
     ]
    },
    {
     "name": "stderr",
     "output_type": "stream",
     "text": [
      "2021-05-11 11:31:48,362:(0.67s):geometry:There are 1 new atoms\n",
      "2021-05-11 11:31:48,373:(0.01s):geometry:\treduced angle potential = 0.2844208438193977.\n",
      "2021-05-11 11:31:48,493:(0.12s):geometry:\tbeginning construction of no_nonbonded final system...\n",
      "2021-05-11 11:31:48,494:(0.00s):geometry:\tinitial no-nonbonded final system forces ['HarmonicBondForce', 'HarmonicAngleForce', 'PeriodicTorsionForce', 'NonbondedForce', 'MonteCarloBarostat']\n",
      "2021-05-11 11:31:48,592:(0.10s):geometry:\tfinal no-nonbonded final system forces dict_keys(['HarmonicBondForce', 'HarmonicAngleForce', 'PeriodicTorsionForce', 'NonbondedForce'])\n",
      "2021-05-11 11:31:48,594:(0.00s):geometry:\tthere are 27 bond forces in the no-nonbonded final system\n",
      "2021-05-11 11:31:48,595:(0.00s):geometry:\tthere are 85 angle forces in the no-nonbonded final system\n",
      "2021-05-11 11:31:48,597:(0.00s):geometry:\tthere are 157 torsion forces in the no-nonbonded final system\n",
      "2021-05-11 11:31:48,598:(0.00s):geometry:forward final system defined with 0 neglected angles.\n"
     ]
    },
    {
     "name": "stdout",
     "output_type": "stream",
     "text": [
      "conducting subsequent work with the following platform: CUDA\n"
     ]
    },
    {
     "name": "stderr",
     "output_type": "stream",
     "text": [
      "2021-05-11 11:31:50,585:(1.99s):geometry:total reduced potential before atom placement: 48.41967204742058\n"
     ]
    },
    {
     "name": "stdout",
     "output_type": "stream",
     "text": [
      "conducting subsequent work with the following platform: CUDA\n",
      "conducting subsequent work with the following platform: CUDA\n",
      "conducting subsequent work with the following platform: CUDA\n",
      "conducting subsequent work with the following platform: CUDA\n"
     ]
    },
    {
     "name": "stderr",
     "output_type": "stream",
     "text": [
      "2021-05-11 11:31:51,934:(1.35s):geometry:total reduced energy added from growth system: 8.27946677691839\n",
      "2021-05-11 11:31:51,936:(0.00s):geometry:final reduced energy 56.69913901982065\n",
      "2021-05-11 11:31:51,937:(0.00s):geometry:sum of energies: 56.699138824338974\n",
      "2021-05-11 11:31:51,938:(0.00s):geometry:magnitude of difference in the energies: 1.9548167529137572e-07\n",
      "2021-05-11 11:31:51,940:(0.00s):geometry:Final logp_proposal: 8.017525362757812\n",
      "2021-05-11 11:31:52,034:(0.09s):geometry:logp_reverse: performing reverse proposal\n",
      "2021-05-11 11:31:52,036:(0.00s):geometry:logp_reverse: unique new atoms detected; proceeding to _logp_propose...\n",
      "2021-05-11 11:31:52,037:(0.00s):geometry:Conducting forward proposal...\n",
      "2021-05-11 11:31:52,039:(0.00s):geometry:Computing proposal order with NetworkX...\n",
      "2021-05-11 11:31:52,048:(0.01s):geometry:number of atoms to be placed: 1\n",
      "2021-05-11 11:31:52,050:(0.00s):geometry:Atom index proposal order is [44]\n",
      "2021-05-11 11:31:52,051:(0.00s):geometry:omitted_bonds: []\n",
      "2021-05-11 11:31:52,052:(0.00s):geometry:direction of proposal is reverse; creating atoms_with_positions from old system/topology\n"
     ]
    },
    {
     "name": "stdout",
     "output_type": "stream",
     "text": [
      "added energy components: [('CustomBondForce', 0.0), ('CustomAngleForce', 0.49574964920324305), ('CustomTorsionForce', 0.007990820451489475), ('CustomBondForce', 7.7757263072636595)]\n"
     ]
    },
    {
     "name": "stderr",
     "output_type": "stream",
     "text": [
      "2021-05-11 11:31:52,325:(0.27s):geometry:creating growth system...\n",
      "2021-05-11 11:31:52,362:(0.04s):geometry:\tcreating bond force...\n",
      "2021-05-11 11:31:52,363:(0.00s):geometry:\tthere are 28 bonds in reference force.\n",
      "2021-05-11 11:31:52,365:(0.00s):geometry:\tcreating angle force...\n",
      "2021-05-11 11:31:52,367:(0.00s):geometry:\tthere are 85 angles in reference force.\n",
      "2021-05-11 11:31:52,369:(0.00s):geometry:\tcreating torsion force...\n",
      "2021-05-11 11:31:52,371:(0.00s):geometry:\tcreating extra torsions force...\n",
      "2021-05-11 11:31:52,372:(0.00s):geometry:\tthere are 157 torsions in reference force.\n",
      "2021-05-11 11:31:52,375:(0.00s):geometry:\tcreating nonbonded force...\n",
      "2021-05-11 11:31:52,376:(0.00s):geometry:\t\tgrabbing reference nonbonded method, cutoff, switching function, switching distance...\n",
      "2021-05-11 11:31:52,378:(0.00s):geometry:\t\tcreating nonbonded exception force (i.e. custom bond for 1,4s)...\n",
      "2021-05-11 11:31:52,379:(0.00s):geometry:\t\tlooping through exceptions calculating growth indices, and adding appropriate interactions to custom bond force.\n",
      "2021-05-11 11:31:52,381:(0.00s):geometry:\t\tthere are 2395 in the reference Nonbonded force\n",
      "2021-05-11 11:31:52,426:(0.04s):geometry:Neglected angle terms : []\n",
      "2021-05-11 11:31:52,427:(0.00s):geometry:omitted_growth_terms: {'bonds': [], 'angles': [], 'torsions': [], '1,4s': []}\n",
      "2021-05-11 11:31:52,429:(0.00s):geometry:extra torsions: {0: (9, 10, 11, 44, [1, Quantity(value=0.017128570696415935, unit=radian), Quantity(value=1200.0, unit=kilocalorie/mole), 1]), 1: (39, 10, 11, 44, [1, Quantity(value=3.1337857477223063, unit=radian), Quantity(value=1200.0, unit=kilocalorie/mole), 1]), 2: (44, 11, 12, 22, [1, Quantity(value=0.00863885124394681, unit=radian), Quantity(value=1200.0, unit=kilocalorie/mole), 1]), 3: (44, 11, 12, 40, [1, Quantity(value=-3.1382699121359634, unit=radian), Quantity(value=1200.0, unit=kilocalorie/mole), 1])}\n",
      "2021-05-11 11:31:52,430:(0.00s):geometry:neglected angle terms include []\n",
      "2021-05-11 11:31:52,432:(0.00s):geometry:log probability choice of torsions and atom order: -1.3862943611198906\n",
      "2021-05-11 11:31:52,433:(0.00s):geometry:creating platform, integrators, and contexts; setting growth parameter\n"
     ]
    },
    {
     "name": "stdout",
     "output_type": "stream",
     "text": [
      "conducting subsequent work with the following platform: CUDA\n"
     ]
    },
    {
     "name": "stderr",
     "output_type": "stream",
     "text": [
      "2021-05-11 11:31:53,373:(0.94s):geometry:setting atoms_with_positions context old positions\n"
     ]
    },
    {
     "name": "stdout",
     "output_type": "stream",
     "text": [
      "conducting subsequent work with the following platform: CUDA\n"
     ]
    },
    {
     "name": "stderr",
     "output_type": "stream",
     "text": [
      "2021-05-11 11:31:53,959:(0.59s):geometry:There are 1 new atoms\n",
      "2021-05-11 11:31:53,962:(0.00s):geometry:\treduced angle potential = 0.03380441319981336.\n",
      "2021-05-11 11:31:54,051:(0.09s):geometry:\tbeginning construction of no_nonbonded final system...\n",
      "2021-05-11 11:31:54,052:(0.00s):geometry:\tinitial no-nonbonded final system forces ['HarmonicBondForce', 'HarmonicAngleForce', 'PeriodicTorsionForce', 'NonbondedForce', 'MonteCarloBarostat']\n",
      "2021-05-11 11:31:54,150:(0.10s):geometry:\tfinal no-nonbonded final system forces dict_keys(['HarmonicBondForce', 'HarmonicAngleForce', 'PeriodicTorsionForce', 'NonbondedForce'])\n",
      "2021-05-11 11:31:54,151:(0.00s):geometry:\tthere are 28 bond forces in the no-nonbonded final system\n",
      "2021-05-11 11:31:54,153:(0.00s):geometry:\tthere are 85 angle forces in the no-nonbonded final system\n",
      "2021-05-11 11:31:54,154:(0.00s):geometry:\tthere are 157 torsion forces in the no-nonbonded final system\n",
      "2021-05-11 11:31:54,155:(0.00s):geometry:reverse final system defined with 0 neglected angles.\n"
     ]
    },
    {
     "name": "stdout",
     "output_type": "stream",
     "text": [
      "conducting subsequent work with the following platform: CUDA\n"
     ]
    },
    {
     "name": "stderr",
     "output_type": "stream",
     "text": [
      "2021-05-11 11:31:55,619:(1.46s):geometry:total reduced potential before atom placement: 48.41899607369698\n"
     ]
    },
    {
     "name": "stdout",
     "output_type": "stream",
     "text": [
      "conducting subsequent work with the following platform: CUDA\n",
      "conducting subsequent work with the following platform: CUDA\n",
      "conducting subsequent work with the following platform: CUDA\n",
      "conducting subsequent work with the following platform: CUDA\n"
     ]
    },
    {
     "name": "stderr",
     "output_type": "stream",
     "text": [
      "2021-05-11 11:31:57,077:(1.46s):geometry:total reduced energy added from growth system: -5.056837038117532\n",
      "2021-05-11 11:31:57,079:(0.00s):geometry:final reduced energy 43.36216011253515\n",
      "2021-05-11 11:31:57,081:(0.00s):geometry:sum of energies: 43.36215903557945\n",
      "2021-05-11 11:31:57,082:(0.00s):geometry:magnitude of difference in the energies: 1.0769557015066766e-06\n",
      "2021-05-11 11:31:57,084:(0.00s):geometry:Final logp_proposal: 11.56594796641107\n",
      "2021-05-11 11:31:57,188:(0.10s):root:\twriting pickle output...\n"
     ]
    },
    {
     "name": "stdout",
     "output_type": "stream",
     "text": [
      "added energy components: [('CustomBondForce', 0.0879842954280575), ('CustomAngleForce', 0.04605409749261916), ('CustomTorsionForce', 0.005423200139534058), ('CustomBondForce', -5.1962986311777435)]\n"
     ]
    },
    {
     "name": "stderr",
     "output_type": "stream",
     "text": [
      "2021-05-11 11:31:57,306:(0.12s):root:\tsuccessfully dumped pickle.\n",
      "2021-05-11 11:31:57,310:(0.00s):root:\tsetup is complete.  Writing proposals and positions for each phase to top_prop dict...\n",
      "2021-05-11 11:31:57,311:(0.00s):root:\twriting atom_mapping.png\n",
      "2021-05-11 11:31:58,284:(0.97s):root:\t steps per move application: 50\n",
      "2021-05-11 11:31:58,287:(0.00s):root:\ttrajectory prefix: out\n",
      "2021-05-11 11:31:58,290:(0.00s):root:\tatom selection detected: not water\n",
      "2021-05-11 11:31:58,292:(0.00s):root:\tno nonequilibrium detected.\n",
      "2021-05-11 11:31:58,294:(0.00s):root:\tcataloging HybridTopologyFactories...\n",
      "2021-05-11 11:31:58,296:(0.00s):root:\t\tphase: solvent:\n",
      "2021-05-11 11:31:58,299:(0.00s):root:\t\twriting HybridTopologyFactory for phase solvent...\n",
      "2021-05-11 11:31:58,301:(0.00s):relative:*** Generating RxnHybridTopologyFactory ***\n",
      "2021-05-11 11:31:58,303:(0.00s):relative:Beginning nonbonded method, total particle, barostat, and exceptions retrieval...\n",
      "2021-05-11 11:31:58,354:(0.05s):relative:Old system forces: dict_keys(['HarmonicBondForce', 'HarmonicAngleForce', 'PeriodicTorsionForce', 'NonbondedForce', 'MonteCarloBarostat'])\n",
      "2021-05-11 11:31:58,355:(0.00s):relative:New system forces: dict_keys(['HarmonicBondForce', 'HarmonicAngleForce', 'PeriodicTorsionForce', 'NonbondedForce', 'MonteCarloBarostat'])\n",
      "2021-05-11 11:31:58,357:(0.00s):relative:No unknown forces.\n",
      "2021-05-11 11:31:58,358:(0.00s):relative:Nonbonded method to be used (i.e. from old system): 4\n",
      "2021-05-11 11:31:58,360:(0.00s):relative:Adding and mapping old atoms to hybrid system...\n",
      "2021-05-11 11:31:58,377:(0.02s):relative:Adding and mapping new atoms to hybrid system...\n",
      "2021-05-11 11:31:58,379:(0.00s):relative:scale_templates: [['nonscale_lambda'], ['nonscale_region']]\n",
      "2021-05-11 11:31:58,380:(0.00s):relative:Added MonteCarloBarostat.\n",
      "2021-05-11 11:31:58,382:(0.00s):relative:getDefaultPeriodicBoxVectors added to hybrid: [Quantity(value=Vec3(x=2.875229835510254, y=0.0, z=0.0), unit=nanometer), Quantity(value=Vec3(x=0.0, y=2.875229835510254, z=0.0), unit=nanometer), Quantity(value=Vec3(x=0.0, y=0.0, z=2.875229835510254), unit=nanometer)]\n",
      "2021-05-11 11:31:58,384:(0.00s):relative:Determined atom classes.\n",
      "2021-05-11 11:31:58,386:(0.00s):relative:Generating old system exceptions dict...\n",
      "2021-05-11 11:31:58,398:(0.01s):relative:Generating new system exceptions dict...\n",
      "2021-05-11 11:31:58,415:(0.02s):relative:Handling constraints...\n",
      "2021-05-11 11:31:58,452:(0.04s):relative:Handling virtual sites...\n",
      "2021-05-11 11:31:58,455:(0.00s):relative:\t_handle_virtual_sites: numVirtualSites: 0\n",
      "2021-05-11 11:31:58,490:(0.03s):root:'use_given_geometries' was passed to setup; skipping endstate validation\n",
      "2021-05-11 11:31:58,491:(0.00s):root:omitting sampler construction\n"
     ]
    },
    {
     "name": "stdout",
     "output_type": "stream",
     "text": [
      "( nonscale_lambda_bonds * nonscale_region ) * (K/2)*(r-length)^2;K = ( 1 * environment_region+lambda_0_bonds_old * alchemical_region_0 ) * K1 + ( 1 * environment_region+lambda_0_bonds_new * alchemical_region_0 ) * K2;length = ( 1 * environment_region+lambda_0_bonds_old * alchemical_region_0 ) * length1 + ( 1 * environment_region+lambda_0_bonds_new * alchemical_region_0 ) * length2;\n"
     ]
    }
   ],
   "source": [
    "# Create a htf\n",
    "setup_directory = resource_filename(\"perses\", \"data/cdk2-example\")\n",
    "\n",
    "# Get options\n",
    "from perses.app.setup_relative_calculation import getSetupOptions\n",
    "yaml_filename = os.path.join(setup_directory, \"cdk2_setup_repex.yaml\")\n",
    "setup_options = getSetupOptions(yaml_filename)\n",
    "\n",
    "# Update options\n",
    "for parameter in ['protein_pdb', 'ligand_file']:\n",
    "    setup_options[parameter] = os.path.join(setup_directory, setup_options[parameter])\n",
    "    \n",
    "setup_options['rxn_field'] = True\n",
    "setup_options['phases'] = ['solvent']\n",
    "setup_options['scale_regions'] = None\n",
    "setup_options['validate_endstate_energies'] = False\n",
    "    \n",
    "setup_dict = setup_relative_calculation.run_setup(setup_options, serialize_systems=False, build_samplers=False)"
   ]
  },
  {
   "cell_type": "code",
   "execution_count": 33,
   "id": "058f9b83",
   "metadata": {
    "scrolled": true
   },
   "outputs": [],
   "source": [
    "htf = setup_dict['hybrid_topology_factories']['solvent']"
   ]
  },
  {
   "cell_type": "code",
   "execution_count": 34,
   "id": "c69b4ff8",
   "metadata": {},
   "outputs": [],
   "source": [
    "with open(\"cdk2_solvent.pickle\", \"wb\") as f:\n",
    "    pickle.dump(htf, f)"
   ]
  },
  {
   "cell_type": "markdown",
   "id": "115af5f8",
   "metadata": {},
   "source": [
    "### Test one alchemical region, no scale regions"
   ]
  },
  {
   "cell_type": "markdown",
   "id": "60604039",
   "metadata": {},
   "source": [
    "#### Old system HarmonicBondForce vs hybrid system CustomBondForce"
   ]
  },
  {
   "cell_type": "code",
   "execution_count": 35,
   "id": "c301b106",
   "metadata": {},
   "outputs": [],
   "source": [
    "# Load htf\n",
    "with open(\"/home/zhangi/choderalab/perses_benchmark/perses_protein_mutations/code/26_rxn_field/cdk2_solvent.pickle\", \"rb\") as f:\n",
    "    htf = pickle.load(f)"
   ]
  },
  {
   "cell_type": "code",
   "execution_count": 36,
   "id": "41891b46",
   "metadata": {},
   "outputs": [
    {
     "name": "stdout",
     "output_type": "stream",
     "text": [
      "Warning: Returning CPU platform instead of requested platform <simtk.openmm.openmm.Platform; proxy of <Swig Object of type 'OpenMM::Platform *' at 0x2b890d8ed060> >\n",
      "conducting subsequent work with the following platform: CPU\n",
      "conducting subsequent work with the following platform: CUDA\n",
      "[('HarmonicBondForce', 4.608082977954756), ('HarmonicAngleForce', 29.199523609209102), ('PeriodicTorsionForce', 15.076747992617829), ('NonbondedForce', 1589.3730460447086), ('AndersenThermostat', 0.0), ('MonteCarloBarostat', 0.0)]\n",
      "conducting subsequent work with the following platform: CUDA\n",
      "[('CustomBondForce', 4.608082977954756), ('CustomAngleForce', 29.698600437266055), ('AndersenThermostat', 0.0), ('MonteCarloBarostat', 0.0)]\n",
      "Success! Custom bond force and standard bond force energies are equal!\n"
     ]
    }
   ],
   "source": [
    "test_bond_energies(htf, is_solvated=True)"
   ]
  },
  {
   "cell_type": "markdown",
   "id": "1aa884bc",
   "metadata": {},
   "source": [
    "#### New system HarmonicBondForce vs hybrid system CustomBondForce"
   ]
  },
  {
   "cell_type": "code",
   "execution_count": 37,
   "id": "ea1e2d34",
   "metadata": {},
   "outputs": [],
   "source": [
    "# Load htf\n",
    "with open(\"/home/zhangi/choderalab/perses_benchmark/perses_protein_mutations/code/26_rxn_field/cdk2_solvent.pickle\", \"rb\") as f:\n",
    "    htf = pickle.load(f)"
   ]
  },
  {
   "cell_type": "code",
   "execution_count": 38,
   "id": "efc8566f",
   "metadata": {},
   "outputs": [
    {
     "name": "stdout",
     "output_type": "stream",
     "text": [
      "Warning: Returning CPU platform instead of requested platform <simtk.openmm.openmm.Platform; proxy of <Swig Object of type 'OpenMM::Platform *' at 0x2b890d8ed060> >\n",
      "conducting subsequent work with the following platform: CPU\n",
      "conducting subsequent work with the following platform: CUDA\n",
      "[('HarmonicBondForce', 4.519508183899664), ('HarmonicAngleForce', 29.6522372518708), ('PeriodicTorsionForce', 15.080012167241955), ('NonbondedForce', 1608.908174275118), ('AndersenThermostat', 0.0), ('MonteCarloBarostat', 0.0)]\n",
      "conducting subsequent work with the following platform: CUDA\n",
      "[('CustomBondForce', 4.519508183899664), ('CustomAngleForce', 29.698600437266055), ('AndersenThermostat', 0.0), ('MonteCarloBarostat', 0.0)]\n",
      "Success! Custom bond force and standard bond force energies are equal!\n"
     ]
    }
   ],
   "source": [
    "test_bond_energies(htf, is_old=False, is_solvated=True)"
   ]
  },
  {
   "cell_type": "markdown",
   "id": "b390ade2",
   "metadata": {},
   "source": [
    "### Test one alchemical region, one scale region"
   ]
  },
  {
   "cell_type": "code",
   "execution_count": 39,
   "id": "8671a075",
   "metadata": {},
   "outputs": [],
   "source": [
    "import os\n",
    "from pkg_resources import resource_filename\n",
    "from perses.app import setup_relative_calculation\n",
    "import pickle"
   ]
  },
  {
   "cell_type": "code",
   "execution_count": 40,
   "id": "63072c61",
   "metadata": {
    "scrolled": true
   },
   "outputs": [
    {
     "name": "stderr",
     "output_type": "stream",
     "text": [
      "2021-05-11 11:32:11,141:(12.65s):root:\tDetecting phases...\n",
      "2021-05-11 11:32:11,145:(0.00s):root:\t\tphases detected: ['complex', 'solvent', 'vacuum']\n",
      "2021-05-11 11:32:11,149:(0.00s):root:No constraints will be removed\n",
      "2021-05-11 11:32:11,152:(0.00s):root:No spectators\n",
      "2021-05-11 11:32:11,156:(0.00s):root:\t\t\trun_type is not specified; default to None\n",
      "2021-05-11 11:32:11,159:(0.00s):root:\tDetecting fe_type...\n",
      "2021-05-11 11:32:11,162:(0.00s):root:\t\tfe_type: repex\n",
      "2021-05-11 11:32:11,165:(0.00s):root:\t\t\toffline-freq not specified: default to 10.\n",
      "2021-05-11 11:32:11,168:(0.00s):root:\t'neglect_angles' detected: False.\n",
      "2021-05-11 11:32:11,169:(0.00s):root:\t'softcore_v2' not specified: default to 'False'\n",
      "2021-05-11 11:32:11,170:(0.00s):root:\tCreating 'output'...\n",
      "2021-05-11 11:32:11,188:(0.02s):root:\tdetected ligand file: /home/zhangi/miniconda3/envs/perses-rxn-field/lib/python3.8/site-packages/perses-0.8.2.dev0-py3.8.egg/perses/data/cdk2-example/CDK2_ligands.sdf\n",
      "2021-05-11 11:32:11,189:(0.00s):root:\told ligand index: 14; new ligand index: 15\n",
      "2021-05-11 11:32:11,190:(0.00s):root:\tsetting up forcefield files...\n",
      "2021-05-11 11:32:11,191:(0.00s):root:\tno timestep detected: setting default as 1.0fs.\n",
      "2021-05-11 11:32:11,193:(0.00s):root:\tno splitting strings specified: defaulting to neq: V R O R V, eq: V R O R V.\n",
      "2021-05-11 11:32:11,194:(0.00s):root:\tno measure_shadow_work specified: defaulting to False.\n",
      "2021-05-11 11:32:11,195:(0.00s):root:\tsetting pressure: 1.0 atm.\n",
      "2021-05-11 11:32:11,196:(0.00s):root:\tsetting temperature: 300.0 K.\n",
      "2021-05-11 11:32:11,197:(0.00s):root:\tsetting solvent padding: 9.0 AA.\n",
      "2021-05-11 11:32:11,198:(0.00s):root:\tsetting ionic strength: 0.15 MM.\n",
      "2021-05-11 11:32:11,199:(0.00s):root:\tsetup pickle file: fesetup_hbonds.pkl\n",
      "2021-05-11 11:32:11,200:(0.00s):root:\ttrajectory directory: output\n",
      "2021-05-11 11:32:11,200:(0.00s):root:\tno atom map specified: default to None.\n",
      "2021-05-11 11:32:11,201:(0.00s):root:\tno topology_proposal specified; proceeding to RelativeFEPSetup...\n",
      "\n",
      "\n",
      "\n",
      "2021-05-11 11:32:11,202:(0.00s):root:Box dimensions: None and None\n",
      "2021-05-11 11:32:11,203:(0.00s):relative_setup:\t\t\t_hmass: 4 Da.\n",
      "\n",
      "2021-05-11 11:32:11,217:(0.01s):relative_setup:Setting non bonded method to PME\n",
      "2021-05-11 11:32:11,218:(0.00s):relative_setup:Handling files for ligands and indices...\n",
      "2021-05-11 11:32:11,218:(0.00s):relative_setup:Detected .sdf format.  Proceeding...\n",
      "2021-05-11 11:32:11,225:(0.01s):utils.openeye:molecule 17                      does not have unique atom names. Generating now...\n",
      "2021-05-11 11:32:11,233:(0.01s):utils.openeye:molecule 1h1q                      does not have unique atom names. Generating now...\n",
      "2021-05-11 11:32:11,236:(0.00s):relative_setup:\tsuccessfully extracted positions from OEMOL.\n",
      "2021-05-11 11:32:11,250:(0.01s):relative_setup:\tsetting both molecule oemol titles to 'MOL'.\n",
      "2021-05-11 11:32:11,251:(0.00s):relative_setup:\tsuccessfully created SMILES for both ligand OEMOLs.\n",
      "2021-05-11 11:32:11,254:(0.00s):relative_setup:\tsuccessfully generated topologies for both OEMOLs.\n",
      "2021-05-11 11:32:11,255:(0.00s):relative_setup:Created mdtraj topologies for both ligands.\n",
      "2021-05-11 11:32:11,256:(0.00s):relative_setup:set MonteCarloBarostat because pressure was specified as 1.0 atm atmospheres\n",
      "2021-05-11 11:32:11,267:(0.01s):relative_setup:PME tolerance: 0.00025\n",
      "2021-05-11 11:32:11,313:(0.05s):relative_setup:successfully created SystemGenerator to create ligand systems\n",
      "2021-05-11 11:32:11,315:(0.00s):relative_setup:executing SmallMoleculeSetProposalEngine...\n",
      "2021-05-11 11:32:11,317:(0.00s):relative_setup:instantiating FFAllAngleGeometryEngine...\n",
      "2021-05-11 11:32:11,318:(0.00s):relative_setup:Detected solvent...\n",
      "2021-05-11 11:32:11,320:(0.00s):relative_setup:no complex detected in phases...generating unique topology/geometry proposals...\n",
      "2021-05-11 11:32:11,321:(0.00s):relative_setup:solvating ligand...\n",
      "2021-05-11 11:32:11,323:(0.00s):relative_setup:box_dimensions: None\n",
      "2021-05-11 11:32:11,324:(0.00s):relative_setup:solvent padding: 9.0\n",
      "2021-05-11 11:32:11,326:(0.00s):relative_setup:\tpreparing to add solvent\n",
      "2021-05-11 11:32:11,646:(0.32s):openmmforcefields.generators.template_generators:Requested to generate parameters for residue <Residue 0 (MOL) of chain 0>\n",
      "2021-05-11 11:32:11,807:(0.16s):relative_setup:\tparameterizing...\n",
      "2021-05-11 11:32:12,121:(0.31s):relative_setup:\tSystem parameterized\n",
      "2021-05-11 11:32:12,154:(0.03s):relative_setup:creating TopologyProposal\n",
      "2021-05-11 11:32:12,155:(0.00s):proposal_generator:creating current receptor topology by removing small molecule from current topology...\n",
      "2021-05-11 11:32:12,163:(0.01s):proposal_generator:small molecule start index: 0\n",
      "2021-05-11 11:32:12,165:(0.00s):proposal_generator:small molecule has 45 atoms.\n",
      "2021-05-11 11:32:12,166:(0.00s):proposal_generator:old alchemical atom indices: range(0, 45)\n",
      "2021-05-11 11:32:12,167:(0.00s):proposal_generator:proposed mol detected with smiles [H]c1c(c(c(c(c1[H])[H])N([H])c2nc3c(c(n2)OC([H])([H])C4(C(C(C(C(C4([H])[H])([H])[H])([H])[H])([H])[H])([H])[H])[H])nc(n3[H])[H])[H])[H] and logp_proposal of 0.0\n",
      "2021-05-11 11:32:12,169:(0.00s):proposal_generator:conducting proposal from [H]c1c(c(c(c(c1[H])Br)[H])N([H])c2nc3c(c(n2)OC([H])([H])C4(C(C(C(C(C4([H])[H])([H])[H])([H])[H])([H])[H])([H])[H])[H])nc(n3[H])[H])[H] to [H]c1c(c(c(c(c1[H])[H])N([H])c2nc3c(c(n2)OC([H])([H])C4(C(C(C(C(C4([H])[H])([H])[H])([H])[H])([H])[H])([H])[H])[H])nc(n3[H])[H])[H])[H]...\n",
      "2021-05-11 11:32:12,170:(0.00s):proposal_generator:building new topology with proposed molecule and current receptor topology...\n",
      "2021-05-11 11:32:12,172:(0.00s):proposal_generator:\tsetting proposed oemol title to MOL\n",
      "2021-05-11 11:32:12,173:(0.00s):proposal_generator:\tcreating mol topology from oemol...\n",
      "2021-05-11 11:32:12,176:(0.00s):proposal_generator:\tappending current receptor topology to new mol topology...\n",
      "2021-05-11 11:32:12,184:(0.01s):proposal_generator:\tperiodic box vectors of the current receptor is specified; copying to new topology...\n",
      "2021-05-11 11:32:12,185:(0.00s):proposal_generator:new molecule has a start index of 2152 and 45 atoms.\n",
      "2021-05-11 11:32:12,186:(0.00s):proposal_generator:proceeding to build the new system from the new topology...\n",
      "2021-05-11 11:32:12,208:(0.02s):openmmforcefields.generators.template_generators:Requested to generate parameters for residue <Residue 720 (MOL) of chain 3>\n",
      "2021-05-11 11:32:12,356:(0.15s):proposal_generator:determining atom map between old and new molecules...\n",
      "2021-05-11 11:32:12,358:(0.00s):proposal_generator:the atom map is not specified; proceeding to generate an atom map...\n",
      "2021-05-11 11:32:12,359:(0.00s):proposal_generator:Using geometry to chose best atom map\n",
      "2021-05-11 11:32:12,366:(0.01s):proposal_generator:Scaffold has symmetry of 4\n",
      "2021-05-11 11:32:12,368:(0.00s):proposal_generator:There are 4 before filtering\n",
      "2021-05-11 11:32:12,369:(0.00s):proposal_generator:There are 4 after filtering to remove maps with fewer matches than 24 atoms\n",
      "2021-05-11 11:32:12,374:(0.00s):proposal_generator:1 scaffold maps for A\n",
      "2021-05-11 11:32:12,375:(0.00s):proposal_generator:Scaffold to molA: {0: 0, 1: 1, 2: 2, 3: 3, 8: 4, 7: 5, 6: 6, 5: 7, 4: 8, 11: 9, 10: 10, 9: 11, 23: 12, 13: 13, 14: 14, 15: 15, 16: 16, 17: 17, 18: 18, 19: 19, 20: 20, 21: 21, 22: 22, 12: 23}\n",
      "2021-05-11 11:32:12,380:(0.00s):proposal_generator:1 scaffold maps for B\n",
      "2021-05-11 11:32:12,381:(0.00s):proposal_generator:Scaffold to molB: {0: 0, 1: 1, 2: 2, 3: 3, 8: 4, 7: 5, 6: 6, 5: 7, 4: 8, 11: 9, 10: 10, 9: 11, 23: 12, 13: 13, 14: 14, 15: 15, 16: 16, 17: 17, 18: 18, 19: 19, 20: 20, 21: 21, 22: 22, 12: 23}\n",
      "2021-05-11 11:32:14,284:(1.90s):proposal_generator:4 maps are reduced to 1\n",
      "2021-05-11 11:32:14,286:(0.00s):proposal_generator:molecule_maps_scores: dict_keys([19.8560123167367])\n",
      "2021-05-11 11:32:14,287:(0.00s):proposal_generator:Returning map with closest geometry satisfaction\n",
      "2021-05-11 11:32:14,373:(0.09s):proposal_generator:Proposed transformation would delete 1 atoms and create 1 atoms.\n",
      "2021-05-11 11:32:14,375:(0.00s):relative_setup:conducting geometry proposal...\n",
      "2021-05-11 11:32:14,376:(0.00s):geometry:propose: performing forward proposal\n",
      "2021-05-11 11:32:14,377:(0.00s):geometry:propose: unique new atoms detected; proceeding to _logp_propose...\n"
     ]
    },
    {
     "name": "stderr",
     "output_type": "stream",
     "text": [
      "2021-05-11 11:32:14,379:(0.00s):geometry:Conducting forward proposal...\n",
      "2021-05-11 11:32:14,380:(0.00s):geometry:Computing proposal order with NetworkX...\n",
      "2021-05-11 11:32:14,388:(0.01s):geometry:number of atoms to be placed: 1\n",
      "2021-05-11 11:32:14,389:(0.00s):geometry:Atom index proposal order is [2190]\n",
      "2021-05-11 11:32:14,391:(0.00s):geometry:omitted_bonds: []\n",
      "2021-05-11 11:32:14,392:(0.00s):geometry:direction of proposal is forward; creating atoms_with_positions and new positions from old system/topology...\n",
      "2021-05-11 11:32:14,534:(0.14s):geometry:creating growth system...\n",
      "2021-05-11 11:32:14,570:(0.04s):geometry:\tcreating bond force...\n",
      "2021-05-11 11:32:14,572:(0.00s):geometry:\tthere are 27 bonds in reference force.\n",
      "2021-05-11 11:32:14,573:(0.00s):geometry:\tcreating angle force...\n",
      "2021-05-11 11:32:14,575:(0.00s):geometry:\tthere are 85 angles in reference force.\n",
      "2021-05-11 11:32:14,577:(0.00s):geometry:\tcreating torsion force...\n",
      "2021-05-11 11:32:14,578:(0.00s):geometry:\tcreating extra torsions force...\n",
      "2021-05-11 11:32:14,580:(0.00s):geometry:\tthere are 157 torsions in reference force.\n",
      "2021-05-11 11:32:14,582:(0.00s):geometry:\tcreating nonbonded force...\n",
      "2021-05-11 11:32:14,583:(0.00s):geometry:\t\tgrabbing reference nonbonded method, cutoff, switching function, switching distance...\n",
      "2021-05-11 11:32:14,585:(0.00s):geometry:\t\tcreating nonbonded exception force (i.e. custom bond for 1,4s)...\n",
      "2021-05-11 11:32:14,586:(0.00s):geometry:\t\tlooping through exceptions calculating growth indices, and adding appropriate interactions to custom bond force.\n",
      "2021-05-11 11:32:14,587:(0.00s):geometry:\t\tthere are 2395 in the reference Nonbonded force\n",
      "2021-05-11 11:32:14,631:(0.04s):geometry:Neglected angle terms : []\n",
      "2021-05-11 11:32:14,632:(0.00s):geometry:omitted_growth_terms: {'bonds': [], 'angles': [], 'torsions': [], '1,4s': []}\n",
      "2021-05-11 11:32:14,634:(0.00s):geometry:extra torsions: {0: (2190, 2161, 2162, 2163, [1, Quantity(value=-0.019594642035228205, unit=radian), Quantity(value=1200.0, unit=kilocalorie/mole), 1]), 1: (2190, 2161, 2162, 2191, [1, Quantity(value=-3.1361896196768977, unit=radian), Quantity(value=1200.0, unit=kilocalorie/mole), 1]), 2: (2190, 2161, 2175, 2174, [1, Quantity(value=-0.008871224163264912, unit=radian), Quantity(value=1200.0, unit=kilocalorie/mole), 1]), 3: (2190, 2161, 2175, 2196, [1, Quantity(value=3.1405837865634907, unit=radian), Quantity(value=1200.0, unit=kilocalorie/mole), 1])}\n",
      "2021-05-11 11:32:14,635:(0.00s):geometry:neglected angle terms include []\n",
      "2021-05-11 11:32:14,636:(0.00s):geometry:log probability choice of torsions and atom order: -1.3862943611198906\n",
      "2021-05-11 11:32:14,638:(0.00s):geometry:creating platform, integrators, and contexts; setting growth parameter\n"
     ]
    },
    {
     "name": "stdout",
     "output_type": "stream",
     "text": [
      "conducting subsequent work with the following platform: CUDA\n"
     ]
    },
    {
     "name": "stderr",
     "output_type": "stream",
     "text": [
      "2021-05-11 11:32:15,086:(0.45s):geometry:setting atoms_with_positions context new positions\n",
      "2021-05-11 11:32:15,374:(0.29s):geometry:There are 1 new atoms\n",
      "2021-05-11 11:32:15,381:(0.01s):geometry:\treduced angle potential = 0.46488727378492417.\n"
     ]
    },
    {
     "name": "stdout",
     "output_type": "stream",
     "text": [
      "conducting subsequent work with the following platform: CUDA\n"
     ]
    },
    {
     "name": "stderr",
     "output_type": "stream",
     "text": [
      "2021-05-11 11:32:15,485:(0.10s):geometry:\tbeginning construction of no_nonbonded final system...\n",
      "2021-05-11 11:32:15,487:(0.00s):geometry:\tinitial no-nonbonded final system forces ['HarmonicBondForce', 'HarmonicAngleForce', 'PeriodicTorsionForce', 'NonbondedForce', 'MonteCarloBarostat']\n",
      "2021-05-11 11:32:15,596:(0.11s):geometry:\tfinal no-nonbonded final system forces dict_keys(['HarmonicBondForce', 'HarmonicAngleForce', 'PeriodicTorsionForce', 'NonbondedForce'])\n",
      "2021-05-11 11:32:15,597:(0.00s):geometry:\tthere are 27 bond forces in the no-nonbonded final system\n",
      "2021-05-11 11:32:15,599:(0.00s):geometry:\tthere are 85 angle forces in the no-nonbonded final system\n",
      "2021-05-11 11:32:15,600:(0.00s):geometry:\tthere are 157 torsion forces in the no-nonbonded final system\n",
      "2021-05-11 11:32:15,602:(0.00s):geometry:forward final system defined with 0 neglected angles.\n"
     ]
    },
    {
     "name": "stdout",
     "output_type": "stream",
     "text": [
      "conducting subsequent work with the following platform: CUDA\n"
     ]
    },
    {
     "name": "stderr",
     "output_type": "stream",
     "text": [
      "2021-05-11 11:32:16,339:(0.74s):geometry:total reduced potential before atom placement: 48.41967204742058\n"
     ]
    },
    {
     "name": "stdout",
     "output_type": "stream",
     "text": [
      "conducting subsequent work with the following platform: CUDA\n",
      "conducting subsequent work with the following platform: CUDA\n",
      "conducting subsequent work with the following platform: CUDA\n"
     ]
    },
    {
     "name": "stderr",
     "output_type": "stream",
     "text": [
      "2021-05-11 11:32:17,228:(0.89s):geometry:total reduced energy added from growth system: 8.829437445552808\n",
      "2021-05-11 11:32:17,230:(0.00s):geometry:final reduced energy 57.24910928804303\n",
      "2021-05-11 11:32:17,232:(0.00s):geometry:sum of energies: 57.24910949297339\n",
      "2021-05-11 11:32:17,233:(0.00s):geometry:magnitude of difference in the energies: 2.0493036068103265e-07\n",
      "2021-05-11 11:32:17,235:(0.00s):geometry:Final logp_proposal: 7.700360388323755\n"
     ]
    },
    {
     "name": "stdout",
     "output_type": "stream",
     "text": [
      "conducting subsequent work with the following platform: CUDA\n",
      "added energy components: [('CustomBondForce', 0.0), ('CustomAngleForce', 1.031913229254457), ('CustomTorsionForce', 0.026421639421306396), ('CustomBondForce', 7.771102576877042)]\n"
     ]
    },
    {
     "name": "stderr",
     "output_type": "stream",
     "text": [
      "2021-05-11 11:32:17,328:(0.09s):geometry:logp_reverse: performing reverse proposal\n",
      "2021-05-11 11:32:17,329:(0.00s):geometry:logp_reverse: unique new atoms detected; proceeding to _logp_propose...\n",
      "2021-05-11 11:32:17,331:(0.00s):geometry:Conducting forward proposal...\n",
      "2021-05-11 11:32:17,332:(0.00s):geometry:Computing proposal order with NetworkX...\n",
      "2021-05-11 11:32:17,342:(0.01s):geometry:number of atoms to be placed: 1\n",
      "2021-05-11 11:32:17,343:(0.00s):geometry:Atom index proposal order is [44]\n",
      "2021-05-11 11:32:17,344:(0.00s):geometry:omitted_bonds: []\n",
      "2021-05-11 11:32:17,346:(0.00s):geometry:direction of proposal is reverse; creating atoms_with_positions from old system/topology\n",
      "2021-05-11 11:32:17,463:(0.12s):geometry:creating growth system...\n",
      "2021-05-11 11:32:17,499:(0.04s):geometry:\tcreating bond force...\n",
      "2021-05-11 11:32:17,500:(0.00s):geometry:\tthere are 28 bonds in reference force.\n",
      "2021-05-11 11:32:17,502:(0.00s):geometry:\tcreating angle force...\n",
      "2021-05-11 11:32:17,503:(0.00s):geometry:\tthere are 85 angles in reference force.\n",
      "2021-05-11 11:32:17,505:(0.00s):geometry:\tcreating torsion force...\n",
      "2021-05-11 11:32:17,507:(0.00s):geometry:\tcreating extra torsions force...\n",
      "2021-05-11 11:32:17,508:(0.00s):geometry:\tthere are 157 torsions in reference force.\n",
      "2021-05-11 11:32:17,510:(0.00s):geometry:\tcreating nonbonded force...\n",
      "2021-05-11 11:32:17,512:(0.00s):geometry:\t\tgrabbing reference nonbonded method, cutoff, switching function, switching distance...\n",
      "2021-05-11 11:32:17,513:(0.00s):geometry:\t\tcreating nonbonded exception force (i.e. custom bond for 1,4s)...\n",
      "2021-05-11 11:32:17,515:(0.00s):geometry:\t\tlooping through exceptions calculating growth indices, and adding appropriate interactions to custom bond force.\n",
      "2021-05-11 11:32:17,516:(0.00s):geometry:\t\tthere are 2395 in the reference Nonbonded force\n",
      "2021-05-11 11:32:17,560:(0.04s):geometry:Neglected angle terms : []\n",
      "2021-05-11 11:32:17,561:(0.00s):geometry:omitted_growth_terms: {'bonds': [], 'angles': [], 'torsions': [], '1,4s': []}\n",
      "2021-05-11 11:32:17,562:(0.00s):geometry:extra torsions: {0: (9, 10, 11, 44, [1, Quantity(value=0.017128570696415935, unit=radian), Quantity(value=1200.0, unit=kilocalorie/mole), 1]), 1: (39, 10, 11, 44, [1, Quantity(value=3.1337857477223063, unit=radian), Quantity(value=1200.0, unit=kilocalorie/mole), 1]), 2: (44, 11, 12, 22, [1, Quantity(value=0.00863885124394681, unit=radian), Quantity(value=1200.0, unit=kilocalorie/mole), 1]), 3: (44, 11, 12, 40, [1, Quantity(value=-3.1382699121359634, unit=radian), Quantity(value=1200.0, unit=kilocalorie/mole), 1])}\n",
      "2021-05-11 11:32:17,564:(0.00s):geometry:neglected angle terms include []\n",
      "2021-05-11 11:32:17,565:(0.00s):geometry:log probability choice of torsions and atom order: -1.3862943611198906\n",
      "2021-05-11 11:32:17,567:(0.00s):geometry:creating platform, integrators, and contexts; setting growth parameter\n"
     ]
    },
    {
     "name": "stdout",
     "output_type": "stream",
     "text": [
      "conducting subsequent work with the following platform: CUDA\n"
     ]
    },
    {
     "name": "stderr",
     "output_type": "stream",
     "text": [
      "2021-05-11 11:32:17,948:(0.38s):geometry:setting atoms_with_positions context old positions\n",
      "2021-05-11 11:32:18,243:(0.30s):geometry:There are 1 new atoms\n",
      "2021-05-11 11:32:18,247:(0.00s):geometry:\treduced angle potential = 0.03380441319981336.\n"
     ]
    },
    {
     "name": "stdout",
     "output_type": "stream",
     "text": [
      "conducting subsequent work with the following platform: CUDA\n"
     ]
    },
    {
     "name": "stderr",
     "output_type": "stream",
     "text": [
      "2021-05-11 11:32:18,345:(0.10s):geometry:\tbeginning construction of no_nonbonded final system...\n",
      "2021-05-11 11:32:18,347:(0.00s):geometry:\tinitial no-nonbonded final system forces ['HarmonicBondForce', 'HarmonicAngleForce', 'PeriodicTorsionForce', 'NonbondedForce', 'MonteCarloBarostat']\n",
      "2021-05-11 11:32:18,445:(0.10s):geometry:\tfinal no-nonbonded final system forces dict_keys(['HarmonicBondForce', 'HarmonicAngleForce', 'PeriodicTorsionForce', 'NonbondedForce'])\n",
      "2021-05-11 11:32:18,447:(0.00s):geometry:\tthere are 28 bond forces in the no-nonbonded final system\n",
      "2021-05-11 11:32:18,448:(0.00s):geometry:\tthere are 85 angle forces in the no-nonbonded final system\n",
      "2021-05-11 11:32:18,450:(0.00s):geometry:\tthere are 157 torsion forces in the no-nonbonded final system\n",
      "2021-05-11 11:32:18,451:(0.00s):geometry:reverse final system defined with 0 neglected angles.\n"
     ]
    },
    {
     "name": "stdout",
     "output_type": "stream",
     "text": [
      "conducting subsequent work with the following platform: CUDA\n"
     ]
    },
    {
     "name": "stderr",
     "output_type": "stream",
     "text": [
      "2021-05-11 11:32:19,179:(0.73s):geometry:total reduced potential before atom placement: 48.41899607369698\n"
     ]
    },
    {
     "name": "stdout",
     "output_type": "stream",
     "text": [
      "conducting subsequent work with the following platform: CUDA\n",
      "conducting subsequent work with the following platform: CUDA\n",
      "conducting subsequent work with the following platform: CUDA\n"
     ]
    },
    {
     "name": "stderr",
     "output_type": "stream",
     "text": [
      "2021-05-11 11:32:20,068:(0.89s):geometry:total reduced energy added from growth system: -5.056837038117532\n",
      "2021-05-11 11:32:20,071:(0.00s):geometry:final reduced energy 43.36216011253515\n",
      "2021-05-11 11:32:20,072:(0.00s):geometry:sum of energies: 43.36215903557945\n",
      "2021-05-11 11:32:20,073:(0.00s):geometry:magnitude of difference in the energies: 1.0769557015066766e-06\n",
      "2021-05-11 11:32:20,075:(0.00s):geometry:Final logp_proposal: 11.810926160630629\n"
     ]
    },
    {
     "name": "stdout",
     "output_type": "stream",
     "text": [
      "conducting subsequent work with the following platform: CUDA\n",
      "added energy components: [('CustomBondForce', 0.0879842954280575), ('CustomAngleForce', 0.04605409749261916), ('CustomTorsionForce', 0.005423200139534058), ('CustomBondForce', -5.1962986311777435)]\n"
     ]
    },
    {
     "name": "stderr",
     "output_type": "stream",
     "text": [
      "2021-05-11 11:32:20,219:(0.14s):root:\twriting pickle output...\n",
      "2021-05-11 11:32:20,336:(0.12s):root:\tsuccessfully dumped pickle.\n",
      "2021-05-11 11:32:20,339:(0.00s):root:\tsetup is complete.  Writing proposals and positions for each phase to top_prop dict...\n",
      "2021-05-11 11:32:20,341:(0.00s):root:\twriting atom_mapping.png\n",
      "2021-05-11 11:32:20,386:(0.04s):root:\t steps per move application: 50\n",
      "2021-05-11 11:32:20,387:(0.00s):root:\ttrajectory prefix: out\n",
      "2021-05-11 11:32:20,389:(0.00s):root:\tatom selection detected: not water\n",
      "2021-05-11 11:32:20,390:(0.00s):root:\tno nonequilibrium detected.\n",
      "2021-05-11 11:32:20,391:(0.00s):root:\tcataloging HybridTopologyFactories...\n",
      "2021-05-11 11:32:20,393:(0.00s):root:\t\tphase: solvent:\n",
      "2021-05-11 11:32:20,394:(0.00s):root:\t\twriting HybridTopologyFactory for phase solvent...\n",
      "2021-05-11 11:32:20,396:(0.00s):relative:*** Generating RxnHybridTopologyFactory ***\n",
      "2021-05-11 11:32:20,397:(0.00s):relative:Beginning nonbonded method, total particle, barostat, and exceptions retrieval...\n",
      "2021-05-11 11:32:20,438:(0.04s):relative:Old system forces: dict_keys(['HarmonicBondForce', 'HarmonicAngleForce', 'PeriodicTorsionForce', 'NonbondedForce', 'MonteCarloBarostat'])\n",
      "2021-05-11 11:32:20,440:(0.00s):relative:New system forces: dict_keys(['HarmonicBondForce', 'HarmonicAngleForce', 'PeriodicTorsionForce', 'NonbondedForce', 'MonteCarloBarostat'])\n",
      "2021-05-11 11:32:20,442:(0.00s):relative:No unknown forces.\n",
      "2021-05-11 11:32:20,443:(0.00s):relative:Nonbonded method to be used (i.e. from old system): 4\n",
      "2021-05-11 11:32:20,445:(0.00s):relative:Adding and mapping old atoms to hybrid system...\n",
      "2021-05-11 11:32:20,464:(0.02s):relative:Adding and mapping new atoms to hybrid system...\n",
      "2021-05-11 11:32:20,465:(0.00s):relative:scale_templates: [['nonscale_lambda', 'scale_lambda_0', 'interscale_lambda_0'], ['nonscale_region', 'scale_region_0', 'interscale_region_0']]\n",
      "2021-05-11 11:32:20,467:(0.00s):relative:Added MonteCarloBarostat.\n",
      "2021-05-11 11:32:20,469:(0.00s):relative:getDefaultPeriodicBoxVectors added to hybrid: [Quantity(value=Vec3(x=2.875229835510254, y=0.0, z=0.0), unit=nanometer), Quantity(value=Vec3(x=0.0, y=2.875229835510254, z=0.0), unit=nanometer), Quantity(value=Vec3(x=0.0, y=0.0, z=2.875229835510254), unit=nanometer)]\n",
      "2021-05-11 11:32:20,471:(0.00s):relative:Determined atom classes.\n",
      "2021-05-11 11:32:20,472:(0.00s):relative:Generating old system exceptions dict...\n",
      "2021-05-11 11:32:20,484:(0.01s):relative:Generating new system exceptions dict...\n",
      "2021-05-11 11:32:20,678:(0.19s):relative:Handling constraints...\n",
      "2021-05-11 11:32:20,715:(0.04s):relative:Handling virtual sites...\n",
      "2021-05-11 11:32:20,718:(0.00s):relative:\t_handle_virtual_sites: numVirtualSites: 0\n",
      "2021-05-11 11:32:20,750:(0.03s):root:'use_given_geometries' was passed to setup; skipping endstate validation\n",
      "2021-05-11 11:32:20,752:(0.00s):root:omitting sampler construction\n"
     ]
    },
    {
     "name": "stdout",
     "output_type": "stream",
     "text": [
      "( nonscale_lambda_bonds * nonscale_region+scale_lambda_0_bonds * scale_region_0+interscale_lambda_0_bonds * interscale_region_0 ) * (K/2)*(r-length)^2;K = ( 1 * environment_region+lambda_0_bonds_old * alchemical_region_0 ) * K1 + ( 1 * environment_region+lambda_0_bonds_new * alchemical_region_0 ) * K2;length = ( 1 * environment_region+lambda_0_bonds_old * alchemical_region_0 ) * length1 + ( 1 * environment_region+lambda_0_bonds_new * alchemical_region_0 ) * length2;\n"
     ]
    }
   ],
   "source": [
    "# Create a htf\n",
    "setup_directory = resource_filename(\"perses\", \"data/cdk2-example\")\n",
    "\n",
    "# Get options\n",
    "from perses.app.setup_relative_calculation import getSetupOptions\n",
    "yaml_filename = os.path.join(setup_directory, \"cdk2_setup_repex.yaml\")\n",
    "setup_options = getSetupOptions(yaml_filename)\n",
    "\n",
    "# Update options\n",
    "for parameter in ['protein_pdb', 'ligand_file']:\n",
    "    setup_options[parameter] = os.path.join(setup_directory, setup_options[parameter])\n",
    "    \n",
    "setup_options['rxn_field'] = True\n",
    "setup_options['phases'] = ['solvent']\n",
    "setup_options['scale_regions'] = [[44, 2197]]\n",
    "setup_options['validate_endstate_energies'] = False\n",
    "    \n",
    "setup_dict = setup_relative_calculation.run_setup(setup_options, serialize_systems=False, build_samplers=False)"
   ]
  },
  {
   "cell_type": "code",
   "execution_count": 58,
   "id": "fd82bc90",
   "metadata": {
    "scrolled": true
   },
   "outputs": [],
   "source": [
    "htf = setup_dict['hybrid_topology_factories']['solvent']"
   ]
  },
  {
   "cell_type": "code",
   "execution_count": 41,
   "id": "2dc781dc",
   "metadata": {},
   "outputs": [],
   "source": [
    "with open(\"cdk2_solvent_scale_region.pickle\", \"wb\") as f:\n",
    "    pickle.dump(htf, f)"
   ]
  },
  {
   "cell_type": "markdown",
   "id": "dc742379",
   "metadata": {},
   "source": [
    "#### Old system HarmonicBondForce vs hybrid system CustomBondForce"
   ]
  },
  {
   "cell_type": "code",
   "execution_count": 42,
   "id": "0858c0e0",
   "metadata": {},
   "outputs": [],
   "source": [
    "# Load htf\n",
    "with open(\"/home/zhangi/choderalab/perses_benchmark/perses_protein_mutations/code/26_rxn_field/cdk2_solvent_scale_region.pickle\", \"rb\") as f:\n",
    "    htf = pickle.load(f)"
   ]
  },
  {
   "cell_type": "code",
   "execution_count": 43,
   "id": "9860b232",
   "metadata": {},
   "outputs": [
    {
     "data": {
      "text/plain": [
       "[44, 2197]"
      ]
     },
     "execution_count": 43,
     "metadata": {},
     "output_type": "execute_result"
    }
   ],
   "source": [
    "# This is the scale region\n",
    "list(htf._atom_classes['unique_old_atoms'][0]) + list(htf._atom_classes['unique_new_atoms'][0])"
   ]
  },
  {
   "cell_type": "code",
   "execution_count": 44,
   "id": "2661b103",
   "metadata": {},
   "outputs": [
    {
     "name": "stdout",
     "output_type": "stream",
     "text": [
      "Warning: Returning CPU platform instead of requested platform <simtk.openmm.openmm.Platform; proxy of <Swig Object of type 'OpenMM::Platform *' at 0x2b890d8ed060> >\n",
      "conducting subsequent work with the following platform: CPU\n",
      "conducting subsequent work with the following platform: CUDA\n",
      "[('HarmonicBondForce', 4.608082977954756), ('HarmonicAngleForce', 29.199523609209102), ('PeriodicTorsionForce', 15.076747992617829), ('NonbondedForce', 1589.3730460447086), ('AndersenThermostat', 0.0), ('MonteCarloBarostat', 0.0)]\n",
      "conducting subsequent work with the following platform: CUDA\n",
      "[('CustomBondForce', 4.608082977954756), ('CustomAngleForce', 29.698600437266055), ('AndersenThermostat', 0.0), ('MonteCarloBarostat', 0.0)]\n",
      "Success! Custom bond force and standard bond force energies are equal!\n"
     ]
    }
   ],
   "source": [
    "test_bond_energies(htf, is_solvated=True)"
   ]
  },
  {
   "cell_type": "markdown",
   "id": "9d93a3cd",
   "metadata": {},
   "source": [
    "#### New system HarmonicBondForce vs hybrid system CustomBondForce"
   ]
  },
  {
   "cell_type": "code",
   "execution_count": 45,
   "id": "c2ab9959",
   "metadata": {},
   "outputs": [],
   "source": [
    "# Load htf\n",
    "with open(\"/home/zhangi/choderalab/perses_benchmark/perses_protein_mutations/code/26_rxn_field/cdk2_solvent_scale_region.pickle\", \"rb\") as f:\n",
    "    htf = pickle.load(f)"
   ]
  },
  {
   "cell_type": "code",
   "execution_count": 46,
   "id": "dacdf51f",
   "metadata": {
    "scrolled": false
   },
   "outputs": [
    {
     "name": "stdout",
     "output_type": "stream",
     "text": [
      "Warning: Returning CPU platform instead of requested platform <simtk.openmm.openmm.Platform; proxy of <Swig Object of type 'OpenMM::Platform *' at 0x2b890d8ed060> >\n",
      "conducting subsequent work with the following platform: CPU\n",
      "conducting subsequent work with the following platform: CUDA\n",
      "[('HarmonicBondForce', 4.519508183899664), ('HarmonicAngleForce', 29.6522372518708), ('PeriodicTorsionForce', 15.080012167241955), ('NonbondedForce', 1608.908174275118), ('AndersenThermostat', 0.0), ('MonteCarloBarostat', 0.0)]\n",
      "conducting subsequent work with the following platform: CUDA\n",
      "[('CustomBondForce', 4.519508183899664), ('CustomAngleForce', 29.698600437266055), ('AndersenThermostat', 0.0), ('MonteCarloBarostat', 0.0)]\n",
      "Success! Custom bond force and standard bond force energies are equal!\n"
     ]
    }
   ],
   "source": [
    "test_bond_energies(htf, is_old=False, is_solvated=True)"
   ]
  },
  {
   "cell_type": "markdown",
   "id": "moderate-christopher",
   "metadata": {},
   "source": [
    "# 8mer in solvent"
   ]
  },
  {
   "cell_type": "code",
   "execution_count": 1,
   "id": "split-fitting",
   "metadata": {},
   "outputs": [
    {
     "name": "stdout",
     "output_type": "stream",
     "text": [
      "conducting subsequent work with the following platform: CUDA\n",
      "conducting subsequent work with the following platform: CUDA\n",
      "conducting subsequent work with the following platform: CUDA\n"
     ]
    },
    {
     "name": "stderr",
     "output_type": "stream",
     "text": [
      "/home/zhangi/miniconda3/envs/perses-rxn-field/lib/python3.8/site-packages/perses-0.8.2.dev0-py3.8.egg/perses/rjmc/coordinate_numba.py:14: NumbaPerformanceWarning: \u001b[1m\u001b[1mnp.dot() is faster on contiguous arrays, called on (array(float64, 1d, A), array(float64, 1d, A))\u001b[0m\u001b[0m\n",
      "  n_2 = np.dot(a, a)\n",
      "/home/zhangi/miniconda3/envs/perses-rxn-field/lib/python3.8/site-packages/perses-0.8.2.dev0-py3.8.egg/perses/rjmc/coordinate_numba.py:65: NumbaPerformanceWarning: \u001b[1m\u001b[1mnp.dot() is faster on contiguous arrays, called on (array(float64, 2d, A), array(float64, 1d, C))\u001b[0m\u001b[0m\n",
      "  d_ang = np.dot(angle_rotation_matrix, d_r)\n",
      "/home/zhangi/miniconda3/envs/perses-rxn-field/lib/python3.8/site-packages/perses-0.8.2.dev0-py3.8.egg/perses/rjmc/coordinate_numba.py:71: NumbaPerformanceWarning: \u001b[1m\u001b[1mnp.dot() is faster on contiguous arrays, called on (array(float64, 2d, A), array(float64, 1d, C))\u001b[0m\u001b[0m\n",
      "  d_torsion = np.dot(torsion_rotation_matrix, d_ang)\n",
      "/home/zhangi/miniconda3/envs/perses-rxn-field/lib/python3.8/site-packages/perses-0.8.2.dev0-py3.8.egg/perses/rjmc/coordinate_numba.py:129: NumbaPerformanceWarning: \u001b[1m\u001b[1mnp.dot() is faster on contiguous arrays, called on (array(float64, 1d, A), array(float64, 1d, A))\u001b[0m\u001b[0m\n",
      "  cos_phi = np.dot(plane1, plane2) / (_norm(plane1)*_norm(plane2))\n",
      "/home/zhangi/miniconda3/envs/perses-rxn-field/lib/python3.8/site-packages/perses-0.8.2.dev0-py3.8.egg/perses/rjmc/coordinate_numba.py:137: NumbaPerformanceWarning: \u001b[1m\u001b[1mnp.dot() is faster on contiguous arrays, called on (array(float64, 1d, C), array(float64, 1d, A))\u001b[0m\u001b[0m\n",
      "  if np.dot(a, plane2) <= 0:\n"
     ]
    },
    {
     "name": "stdout",
     "output_type": "stream",
     "text": [
      "conducting subsequent work with the following platform: CUDA\n"
     ]
    }
   ],
   "source": [
    "import os\n",
    "from pkg_resources import resource_filename\n",
    "from perses.app import setup_relative_calculation\n",
    "import pickle\n",
    "from simtk import openmm, unit\n",
    "from simtk.openmm import app\n",
    "from openmmforcefields.generators import SystemGenerator\n",
    "import numpy as np"
   ]
  },
  {
   "cell_type": "code",
   "execution_count": 2,
   "id": "charming-cassette",
   "metadata": {},
   "outputs": [],
   "source": [
    "# Test 8-mer peptide in solvent\n",
    "peptide_filename = resource_filename('perses', 'data/8mer-example/4zuh_peptide_capped.pdb')\n",
    "pdb = app.PDBFile(peptide_filename)\n",
    "forcefield_files = ['amber14/protein.ff14SB.xml', 'amber14/tip3p.xml']\n",
    "barostat = openmm.MonteCarloBarostat(1.0 * unit.atmosphere, 300 * unit.kelvin, 50)\n",
    "# barostat = None\n",
    "modeller = app.Modeller(pdb.topology, pdb.positions)\n",
    " \n",
    "system_generator = SystemGenerator(forcefields=forcefield_files,\n",
    "                                   barostat=barostat,\n",
    "                                   forcefield_kwargs={'removeCMMotion': False,\n",
    "                                                      'ewaldErrorTolerance': 0.00025,\n",
    "                                                      'constraints': app.HBonds,\n",
    "                                                      'hydrogenMass': 4 * unit.amus},\n",
    "                                   periodic_forcefield_kwargs=None,\n",
    "                                   small_molecule_forcefield='gaff-2.11',\n",
    "                                   nonperiodic_forcefield_kwargs={'nonbondedMethod': app.NoCutoff},\n",
    "                                   molecules=None,\n",
    "                                   cache=None)\n",
    "\n",
    "modeller.addSolvent(system_generator.forcefield, model='tip3p', padding=9*unit.angstroms, ionicStrength=0.15*unit.molar)\n",
    "topology = modeller.getTopology()\n",
    "positions = modeller.getPositions()\n",
    "\n",
    "# Canonicalize the solvated positions: turn tuples into np.array\n",
    "positions = unit.quantity.Quantity(value=np.array([list(atom_pos) for atom_pos in positions.value_in_unit_system(unit.md_unit_system)]), unit=unit.nanometers)\n",
    "system = system_generator.create_system(topology)\n",
    "\n"
   ]
  },
  {
   "cell_type": "code",
   "execution_count": 3,
   "id": "working-blackjack",
   "metadata": {
    "scrolled": true
   },
   "outputs": [
    {
     "name": "stderr",
     "output_type": "stream",
     "text": [
      "2021-05-11 13:49:23,411:(0.00s):proposal_generator:\tConducting polymer point mutation proposal...\n"
     ]
    },
    {
     "name": "stdout",
     "output_type": "stream",
     "text": [
      "Making mutation ALA->MET\n"
     ]
    },
    {
     "name": "stderr",
     "output_type": "stream",
     "text": [
      "2021-05-11 13:49:23,760:(0.35s):proposal_generator:Using matching_criterion to chose best atom map\n",
      "2021-05-11 13:49:23,764:(0.00s):proposal_generator:Scaffold has symmetry of 0\n",
      "2021-05-11 13:49:23,765:(0.00s):proposal_generator:Two molecules are not similar to have a common scaffold\n",
      "2021-05-11 13:49:23,767:(0.00s):proposal_generator:Proceeding with direct mapping of molecules, but please check atom mapping and the geometry of the ligands.\n",
      "2021-05-11 13:49:23,769:(0.00s):proposal_generator:len [{13: 8}, {16: 9}, {15: 9}, {14: 9}, {13: 9}, {12: 9}, {11: 9}, {10: 9}, {16: 8}, {15: 8}, {14: 8}, {10: 7}, {12: 8}, {11: 8}, {10: 8}, {16: 7}, {15: 7}, {14: 7}, {13: 7}, {12: 7}, {11: 7}]\n",
      "2021-05-11 13:49:23,771:(0.00s):proposal_generator:{13: 8}\n",
      "2021-05-11 13:49:23,772:(0.00s):proposal_generator:{16: 9}\n",
      "2021-05-11 13:49:23,774:(0.00s):proposal_generator:{15: 9}\n",
      "2021-05-11 13:49:23,775:(0.00s):proposal_generator:{14: 9}\n",
      "2021-05-11 13:49:23,776:(0.00s):proposal_generator:{13: 9}\n",
      "2021-05-11 13:49:23,778:(0.00s):proposal_generator:{12: 9}\n",
      "2021-05-11 13:49:23,779:(0.00s):proposal_generator:{11: 9}\n",
      "2021-05-11 13:49:23,781:(0.00s):proposal_generator:{10: 9}\n",
      "2021-05-11 13:49:23,782:(0.00s):proposal_generator:{16: 8}\n",
      "2021-05-11 13:49:23,783:(0.00s):proposal_generator:{15: 8}\n",
      "2021-05-11 13:49:23,785:(0.00s):proposal_generator:{14: 8}\n",
      "2021-05-11 13:49:23,786:(0.00s):proposal_generator:{10: 7}\n",
      "2021-05-11 13:49:23,788:(0.00s):proposal_generator:{12: 8}\n",
      "2021-05-11 13:49:23,789:(0.00s):proposal_generator:{11: 8}\n",
      "2021-05-11 13:49:23,790:(0.00s):proposal_generator:{10: 8}\n",
      "2021-05-11 13:49:23,792:(0.00s):proposal_generator:{16: 7}\n",
      "2021-05-11 13:49:23,793:(0.00s):proposal_generator:{15: 7}\n",
      "2021-05-11 13:49:23,794:(0.00s):proposal_generator:{14: 7}\n",
      "2021-05-11 13:49:23,795:(0.00s):proposal_generator:{13: 7}\n",
      "2021-05-11 13:49:23,795:(0.00s):proposal_generator:{12: 7}\n",
      "2021-05-11 13:49:23,796:(0.00s):proposal_generator:{11: 7}\n",
      "2021-05-11 13:49:23,797:(0.00s):proposal_generator:Returning map that best satisfies matching_criterion\n",
      "2021-05-11 13:49:23,797:(0.00s):proposal_generator:Finding best map using matching_criterion name\n",
      "2021-05-11 13:49:23,799:(0.00s):proposal_generator:{13: 8}\n",
      "2021-05-11 13:49:24,776:(0.98s):geometry:propose: performing forward proposal\n",
      "2021-05-11 13:49:24,778:(0.00s):geometry:propose: unique new atoms detected; proceeding to _logp_propose...\n",
      "2021-05-11 13:49:24,779:(0.00s):geometry:Conducting forward proposal...\n",
      "2021-05-11 13:49:24,781:(0.00s):geometry:Computing proposal order with NetworkX...\n",
      "2021-05-11 13:49:24,788:(0.01s):geometry:number of atoms to be placed: 11\n",
      "2021-05-11 13:49:24,789:(0.00s):geometry:Atom index proposal order is [21, 26, 29, 30, 25, 24, 27, 28, 31, 33, 32]\n",
      "2021-05-11 13:49:24,791:(0.00s):geometry:omitted_bonds: []\n",
      "2021-05-11 13:49:24,792:(0.00s):geometry:direction of proposal is forward; creating atoms_with_positions and new positions from old system/topology...\n",
      "2021-05-11 13:49:25,280:(0.49s):geometry:creating growth system...\n",
      "2021-05-11 13:49:25,380:(0.10s):geometry:\tcreating bond force...\n",
      "2021-05-11 13:49:25,382:(0.00s):geometry:\tthere are 64 bonds in reference force.\n",
      "2021-05-11 13:49:25,384:(0.00s):geometry:\tcreating angle force...\n",
      "2021-05-11 13:49:25,386:(0.00s):geometry:\tthere are 231 angles in reference force.\n",
      "2021-05-11 13:49:25,390:(0.00s):geometry:\tcreating torsion force...\n",
      "2021-05-11 13:49:25,392:(0.00s):geometry:\tcreating extra torsions force...\n",
      "2021-05-11 13:49:25,394:(0.00s):geometry:\tthere are 426 torsions in reference force.\n",
      "2021-05-11 13:49:25,399:(0.01s):geometry:\tcreating nonbonded force...\n",
      "2021-05-11 13:49:25,400:(0.00s):geometry:\t\tgrabbing reference nonbonded method, cutoff, switching function, switching distance...\n",
      "2021-05-11 13:49:25,402:(0.00s):geometry:\t\tcreating nonbonded exception force (i.e. custom bond for 1,4s)...\n",
      "2021-05-11 13:49:25,404:(0.00s):geometry:\t\tlooping through exceptions calculating growth indices, and adding appropriate interactions to custom bond force.\n",
      "2021-05-11 13:49:25,405:(0.00s):geometry:\t\tthere are 6122 in the reference Nonbonded force\n",
      "2021-05-11 13:49:25,518:(0.11s):geometry:\t\t\t\t\tchiral atom <Atom 18 (CA) of chain 0 residue 2 (MET)> with neighbors [<Atom 19 (C) of chain 0 residue 2 (MET)>, <Atom 21 (CB) of chain 0 residue 2 (MET)>, <Atom 23 (HA) of chain 0 residue 2 (MET)>, <Atom 17 (N) of chain 0 residue 2 (MET)>] is surrounded by 3 core neighbors.  omitting chirality bias torsion\n",
      "2021-05-11 13:49:25,520:(0.00s):geometry:Neglected angle terms : []\n",
      "2021-05-11 13:49:25,521:(0.00s):geometry:omitted_growth_terms: {'bonds': [], 'angles': [], 'torsions': [], '1,4s': []}\n",
      "2021-05-11 13:49:25,523:(0.00s):geometry:extra torsions: {0: (22, 17, 18, 21, [1, Quantity(value=0.99401209477807, unit=radian), Quantity(value=1200.0, unit=kilocalorie/mole), 1]), 1: (26, 29, 30, 31, [1, Quantity(value=2.163242711939442, unit=radian), Quantity(value=1200.0, unit=kilocalorie/mole), 9]), 2: (26, 29, 30, 32, [1, Quantity(value=-2.022205112246109, unit=radian), Quantity(value=1200.0, unit=kilocalorie/mole), 11]), 3: (26, 29, 30, 33, [1, Quantity(value=0.06526263287522305, unit=radian), Quantity(value=1200.0, unit=kilocalorie/mole), 10])}\n",
      "2021-05-11 13:49:25,525:(0.00s):geometry:neglected angle terms include []\n",
      "2021-05-11 13:49:25,526:(0.00s):geometry:log probability choice of torsions and atom order: -13.20032391887354\n",
      "2021-05-11 13:49:25,528:(0.00s):geometry:creating platform, integrators, and contexts; setting growth parameter\n"
     ]
    },
    {
     "name": "stdout",
     "output_type": "stream",
     "text": [
      "conducting subsequent work with the following platform: CUDA\n"
     ]
    },
    {
     "name": "stderr",
     "output_type": "stream",
     "text": [
      "2021-05-11 13:49:25,876:(0.35s):geometry:setting atoms_with_positions context new positions\n",
      "2021-05-11 13:49:26,162:(0.29s):geometry:There are 11 new atoms\n",
      "2021-05-11 13:49:26,169:(0.01s):geometry:\treduced angle potential = 0.0016279810856661186.\n"
     ]
    },
    {
     "name": "stdout",
     "output_type": "stream",
     "text": [
      "conducting subsequent work with the following platform: CUDA\n"
     ]
    },
    {
     "name": "stderr",
     "output_type": "stream",
     "text": [
      "2021-05-11 13:49:26,306:(0.14s):geometry:\treduced angle potential = 0.0119042657757749.\n",
      "2021-05-11 13:49:26,440:(0.13s):geometry:\treduced angle potential = 0.13243323418386474.\n",
      "2021-05-11 13:49:26,576:(0.14s):geometry:\treduced angle potential = 0.011522588731955294.\n",
      "2021-05-11 13:49:26,722:(0.15s):geometry:\treduced angle potential = 0.12174036988507464.\n",
      "2021-05-11 13:49:26,868:(0.15s):geometry:\treduced angle potential = 0.3954063143103786.\n",
      "2021-05-11 13:49:27,014:(0.15s):geometry:\treduced angle potential = 0.08599027644064487.\n",
      "2021-05-11 13:49:27,159:(0.14s):geometry:\treduced angle potential = 0.2749600611663551.\n",
      "2021-05-11 13:49:27,304:(0.15s):geometry:\treduced angle potential = 0.0037423704832598797.\n",
      "2021-05-11 13:49:27,449:(0.14s):geometry:\treduced angle potential = 0.38066968929803263.\n",
      "2021-05-11 13:49:27,594:(0.15s):geometry:\treduced angle potential = 0.15229866058676525.\n",
      "2021-05-11 13:49:27,779:(0.19s):geometry:\tbeginning construction of no_nonbonded final system...\n",
      "2021-05-11 13:49:27,781:(0.00s):geometry:\tinitial no-nonbonded final system forces ['HarmonicBondForce', 'HarmonicAngleForce', 'PeriodicTorsionForce', 'NonbondedForce', 'MonteCarloBarostat']\n",
      "2021-05-11 13:49:28,029:(0.25s):geometry:\tfinal no-nonbonded final system forces dict_keys(['HarmonicBondForce', 'HarmonicAngleForce', 'PeriodicTorsionForce', 'NonbondedForce'])\n",
      "2021-05-11 13:49:28,031:(0.00s):geometry:\tthere are 64 bond forces in the no-nonbonded final system\n",
      "2021-05-11 13:49:28,032:(0.00s):geometry:\tthere are 231 angle forces in the no-nonbonded final system\n",
      "2021-05-11 13:49:28,033:(0.00s):geometry:\tthere are 426 torsion forces in the no-nonbonded final system\n",
      "2021-05-11 13:49:28,035:(0.00s):geometry:forward final system defined with 0 neglected angles.\n"
     ]
    },
    {
     "name": "stdout",
     "output_type": "stream",
     "text": [
      "conducting subsequent work with the following platform: CUDA\n"
     ]
    },
    {
     "name": "stderr",
     "output_type": "stream",
     "text": [
      "2021-05-11 13:49:28,775:(0.74s):geometry:total reduced potential before atom placement: 168.36662826218392\n"
     ]
    },
    {
     "name": "stdout",
     "output_type": "stream",
     "text": [
      "conducting subsequent work with the following platform: CUDA\n",
      "conducting subsequent work with the following platform: CUDA\n",
      "conducting subsequent work with the following platform: CUDA\n"
     ]
    },
    {
     "name": "stderr",
     "output_type": "stream",
     "text": [
      "2021-05-11 13:49:29,609:(0.83s):geometry:total reduced energy added from growth system: 528.6067096853134\n",
      "2021-05-11 13:49:29,612:(0.00s):geometry:final reduced energy 696.9733382635485\n",
      "2021-05-11 13:49:29,613:(0.00s):geometry:sum of energies: 696.9733379474973\n",
      "2021-05-11 13:49:29,615:(0.00s):geometry:magnitude of difference in the energies: 3.160512278554961e-07\n",
      "2021-05-11 13:49:29,616:(0.00s):geometry:Final logp_proposal: 80.95851173276483\n"
     ]
    },
    {
     "name": "stdout",
     "output_type": "stream",
     "text": [
      "conducting subsequent work with the following platform: CUDA\n",
      "added energy components: [('CustomBondForce', 0.21431524596100493), ('CustomAngleForce', 349.1646978714274), ('CustomTorsionForce', 19.986117878746956), ('CustomBondForce', 159.24157868917797)]\n"
     ]
    },
    {
     "name": "stderr",
     "output_type": "stream",
     "text": [
      "2021-05-11 13:49:29,704:(0.09s):geometry:logp_reverse: performing reverse proposal\n",
      "2021-05-11 13:49:29,706:(0.00s):geometry:logp_reverse: unique new atoms detected; proceeding to _logp_propose...\n",
      "2021-05-11 13:49:29,708:(0.00s):geometry:Conducting forward proposal...\n",
      "2021-05-11 13:49:29,709:(0.00s):geometry:Computing proposal order with NetworkX...\n",
      "2021-05-11 13:49:29,718:(0.01s):geometry:number of atoms to be placed: 4\n",
      "2021-05-11 13:49:29,719:(0.00s):geometry:Atom index proposal order is [21, 24, 25, 26]\n",
      "2021-05-11 13:49:29,721:(0.00s):geometry:omitted_bonds: []\n",
      "2021-05-11 13:49:29,722:(0.00s):geometry:direction of proposal is reverse; creating atoms_with_positions from old system/topology\n",
      "2021-05-11 13:49:30,173:(0.45s):geometry:creating growth system...\n",
      "2021-05-11 13:49:30,262:(0.09s):geometry:\tcreating bond force...\n",
      "2021-05-11 13:49:30,264:(0.00s):geometry:\tthere are 61 bonds in reference force.\n",
      "2021-05-11 13:49:30,266:(0.00s):geometry:\tcreating angle force...\n",
      "2021-05-11 13:49:30,268:(0.00s):geometry:\tthere are 218 angles in reference force.\n",
      "2021-05-11 13:49:30,271:(0.00s):geometry:\tcreating torsion force...\n",
      "2021-05-11 13:49:30,272:(0.00s):geometry:\tcreating extra torsions force...\n",
      "2021-05-11 13:49:30,274:(0.00s):geometry:\tthere are 399 torsions in reference force.\n",
      "2021-05-11 13:49:30,277:(0.00s):geometry:\tcreating nonbonded force...\n",
      "2021-05-11 13:49:30,279:(0.00s):geometry:\t\tgrabbing reference nonbonded method, cutoff, switching function, switching distance...\n",
      "2021-05-11 13:49:30,280:(0.00s):geometry:\t\tcreating nonbonded exception force (i.e. custom bond for 1,4s)...\n",
      "2021-05-11 13:49:30,282:(0.00s):geometry:\t\tlooping through exceptions calculating growth indices, and adding appropriate interactions to custom bond force.\n",
      "2021-05-11 13:49:30,283:(0.00s):geometry:\t\tthere are 6087 in the reference Nonbonded force\n",
      "2021-05-11 13:49:30,380:(0.10s):geometry:\t\t\t\t\tchiral atom <Atom 18 (CA) of chain 0 residue 2 (ALA)> with neighbors [<Atom 19 (C) of chain 0 residue 2 (ALA)>, <Atom 21 (CB) of chain 0 residue 2 (ALA)>, <Atom 23 (HA) of chain 0 residue 2 (ALA)>, <Atom 17 (N) of chain 0 residue 2 (ALA)>] is surrounded by 3 core neighbors.  omitting chirality bias torsion\n",
      "2021-05-11 13:49:30,381:(0.00s):geometry:Neglected angle terms : []\n",
      "2021-05-11 13:49:30,383:(0.00s):geometry:omitted_growth_terms: {'bonds': [], 'angles': [], 'torsions': [], '1,4s': []}\n",
      "2021-05-11 13:49:30,384:(0.00s):geometry:extra torsions: {0: (22, 17, 18, 21, [1, Quantity(value=0.9799661941737812, unit=radian), Quantity(value=1200.0, unit=kilocalorie/mole), 1]), 1: (17, 18, 21, 24, [1, Quantity(value=2.105358864604291, unit=radian), Quantity(value=1200.0, unit=kilocalorie/mole), 2]), 2: (17, 18, 21, 25, [1, Quantity(value=-2.0823006129211796, unit=radian), Quantity(value=1200.0, unit=kilocalorie/mole), 3]), 3: (17, 18, 21, 26, [1, Quantity(value=0.018582237407944735, unit=radian), Quantity(value=1200.0, unit=kilocalorie/mole), 4]), 4: (19, 18, 21, 24, [1, Quantity(value=-0.036945135932107576, unit=radian), Quantity(value=1200.0, unit=kilocalorie/mole), 2]), 5: (19, 18, 21, 25, [1, Quantity(value=2.0585806937220097, unit=radian), Quantity(value=1200.0, unit=kilocalorie/mole), 3]), 6: (19, 18, 21, 26, [1, Quantity(value=-2.1237217631284597, unit=radian), Quantity(value=1200.0, unit=kilocalorie/mole), 4]), 7: (23, 18, 21, 24, [1, Quantity(value=-2.119603470065817, unit=radian), Quantity(value=1200.0, unit=kilocalorie/mole), 2]), 8: (23, 18, 21, 25, [1, Quantity(value=-0.024077640411697132, unit=radian), Quantity(value=1200.0, unit=kilocalorie/mole), 3]), 9: (23, 18, 21, 26, [1, Quantity(value=2.0768052099174152, unit=radian), Quantity(value=1200.0, unit=kilocalorie/mole), 4])}\n",
      "2021-05-11 13:49:30,386:(0.00s):geometry:neglected angle terms include []\n",
      "2021-05-11 13:49:30,387:(0.00s):geometry:log probability choice of torsions and atom order: -5.78074351579233\n",
      "2021-05-11 13:49:30,388:(0.00s):geometry:creating platform, integrators, and contexts; setting growth parameter\n"
     ]
    },
    {
     "name": "stdout",
     "output_type": "stream",
     "text": [
      "conducting subsequent work with the following platform: CUDA\n"
     ]
    },
    {
     "name": "stderr",
     "output_type": "stream",
     "text": [
      "2021-05-11 13:49:30,723:(0.33s):geometry:setting atoms_with_positions context old positions\n",
      "2021-05-11 13:49:31,016:(0.29s):geometry:There are 4 new atoms\n",
      "2021-05-11 13:49:31,020:(0.00s):geometry:\treduced angle potential = 0.017911900159989516.\n"
     ]
    },
    {
     "name": "stdout",
     "output_type": "stream",
     "text": [
      "conducting subsequent work with the following platform: CUDA\n"
     ]
    },
    {
     "name": "stderr",
     "output_type": "stream",
     "text": [
      "2021-05-11 13:49:31,160:(0.14s):geometry:\treduced angle potential = 9.265637866968462e-06.\n",
      "2021-05-11 13:49:31,302:(0.14s):geometry:\treduced angle potential = 9.561051668715153e-06.\n",
      "2021-05-11 13:49:31,440:(0.14s):geometry:\treduced angle potential = 2.233125127093818e-08.\n",
      "2021-05-11 13:49:31,615:(0.17s):geometry:\tbeginning construction of no_nonbonded final system...\n",
      "2021-05-11 13:49:31,616:(0.00s):geometry:\tinitial no-nonbonded final system forces ['HarmonicBondForce', 'HarmonicAngleForce', 'PeriodicTorsionForce', 'NonbondedForce', 'MonteCarloBarostat']\n",
      "2021-05-11 13:49:31,862:(0.25s):geometry:\tfinal no-nonbonded final system forces dict_keys(['HarmonicBondForce', 'HarmonicAngleForce', 'PeriodicTorsionForce', 'NonbondedForce'])\n",
      "2021-05-11 13:49:31,864:(0.00s):geometry:\tthere are 61 bond forces in the no-nonbonded final system\n",
      "2021-05-11 13:49:31,865:(0.00s):geometry:\tthere are 218 angle forces in the no-nonbonded final system\n",
      "2021-05-11 13:49:31,866:(0.00s):geometry:\tthere are 399 torsion forces in the no-nonbonded final system\n",
      "2021-05-11 13:49:31,868:(0.00s):geometry:reverse final system defined with 0 neglected angles.\n"
     ]
    },
    {
     "name": "stdout",
     "output_type": "stream",
     "text": [
      "conducting subsequent work with the following platform: CUDA\n"
     ]
    },
    {
     "name": "stderr",
     "output_type": "stream",
     "text": [
      "2021-05-11 13:49:32,631:(0.76s):geometry:total reduced potential before atom placement: 168.36662826283057\n"
     ]
    },
    {
     "name": "stdout",
     "output_type": "stream",
     "text": [
      "conducting subsequent work with the following platform: CUDA\n",
      "conducting subsequent work with the following platform: CUDA\n",
      "conducting subsequent work with the following platform: CUDA\n"
     ]
    },
    {
     "name": "stderr",
     "output_type": "stream",
     "text": [
      "2021-05-11 13:49:33,460:(0.83s):geometry:total reduced energy added from growth system: 19.11335785388209\n",
      "2021-05-11 13:49:33,462:(0.00s):geometry:final reduced energy 187.47998570143525\n",
      "2021-05-11 13:49:33,464:(0.00s):geometry:sum of energies: 187.47998611671267\n",
      "2021-05-11 13:49:33,465:(0.00s):geometry:magnitude of difference in the energies: 4.1527740890501263e-07\n",
      "2021-05-11 13:49:33,467:(0.00s):geometry:Final logp_proposal: -30493.35014121708\n"
     ]
    },
    {
     "name": "stdout",
     "output_type": "stream",
     "text": [
      "conducting subsequent work with the following platform: CUDA\n",
      "added energy components: [('CustomBondForce', 0.04562463240715887), ('CustomAngleForce', 0.11963264577965825), ('CustomTorsionForce', 7.457414545448549), ('CustomBondForce', 11.490686030246726)]\n"
     ]
    }
   ],
   "source": [
    "from perses.rjmc.topology_proposal import PointMutationEngine\n",
    "from perses.annihilation.relative import RepartitionedHybridTopologyFactory\n",
    "from perses.tests.utils import validate_endstate_energies\n",
    "import random\n",
    "\n",
    "aminos = ['ALA','ARG','ASN','ASP','CYS','GLN','GLU','GLY','HIS','ILE','LEU','LYS','MET','PHE','PRO','SER','THR','TRP','TYR','VAL']\n",
    "\n",
    "ENERGY_THRESHOLD = 1e-6\n",
    "kB = unit.BOLTZMANN_CONSTANT_kB * unit.AVOGADRO_CONSTANT_NA\n",
    "temperature = 300.0 * unit.kelvin\n",
    "kT = kB * temperature\n",
    "beta = 1.0/kT\n",
    "\n",
    "chain = 'C'\n",
    "for res in topology.residues():\n",
    "    if res.id == '2':\n",
    "        wt_res = res.name\n",
    "# aminos_updated = [amino for amino in aminos if amino not in [wt_res, 'PRO', 'HIS', 'TRP', 'PHE', 'TYR']]\n",
    "# mutant = random.choice(aminos_updated)\n",
    "mutant = \"MET\"\n",
    "print(f'Making mutation {wt_res}->{mutant}')\n",
    "\n",
    "# Create point mutation engine to mutate residue at id 2 to random amino acid\n",
    "point_mutation_engine = PointMutationEngine(wildtype_topology=topology,\n",
    "                                            system_generator=system_generator,\n",
    "                                            chain_id=chain,\n",
    "                                            max_point_mutants=1,\n",
    "                                            residues_allowed_to_mutate=['2'],  # the residue ids allowed to mutate\n",
    "                                            allowed_mutations=[('2', mutant)],\n",
    "                                            aggregate=True)  # always allow aggregation\n",
    "\n",
    "# Create topology proposal\n",
    "topology_proposal = point_mutation_engine.propose(current_system=system, current_topology=topology)\n",
    "\n",
    "# Create geometry engine\n",
    "from perses.rjmc.geometry import FFAllAngleGeometryEngine\n",
    "geometry_engine = FFAllAngleGeometryEngine(metadata=None,\n",
    "                                           use_sterics=False,\n",
    "                                           n_bond_divisions=100,\n",
    "                                           n_angle_divisions=180,\n",
    "                                           n_torsion_divisions=360,\n",
    "                                           verbose=True,\n",
    "                                           storage=None,\n",
    "                                           bond_softening_constant=1.0,\n",
    "                                           angle_softening_constant=1.0,\n",
    "                                           neglect_angles=False,\n",
    "                                           use_14_nonbondeds=True)\n",
    "\n",
    "# Create geometry proposal\n",
    "new_positions, logp_proposal = geometry_engine.propose(topology_proposal, positions, beta,\n",
    "                                                               validate_energy_bookkeeping=True)\n",
    "logp_reverse = geometry_engine.logp_reverse(topology_proposal, new_positions, positions, beta,\n",
    "                                            validate_energy_bookkeeping=True)\n",
    "\n",
    "if not topology_proposal.unique_new_atoms:\n",
    "    assert geometry_engine.forward_final_context_reduced_potential == None, f\"There are no unique new atoms but the geometry_engine's final context reduced potential is not None (i.e. {self._geometry_engine.forward_final_context_reduced_potential})\"\n",
    "    assert geometry_engine.forward_atoms_with_positions_reduced_potential == None, f\"There are no unique new atoms but the geometry_engine's forward atoms-with-positions-reduced-potential in not None (i.e. { self._geometry_engine.forward_atoms_with_positions_reduced_potential})\"\n",
    "    vacuum_added_valence_energy = 0.0\n",
    "else:\n",
    "    added_valence_energy = geometry_engine.forward_final_context_reduced_potential - geometry_engine.forward_atoms_with_positions_reduced_potential\n",
    "\n",
    "if not topology_proposal.unique_old_atoms:\n",
    "    assert geometry_engine.reverse_final_context_reduced_potential == None, f\"There are no unique old atoms but the geometry_engine's final context reduced potential is not None (i.e. {self._geometry_engine.reverse_final_context_reduced_potential})\"\n",
    "    assert geometry_engine.reverse_atoms_with_positions_reduced_potential == None, f\"There are no unique old atoms but the geometry_engine's atoms-with-positions-reduced-potential in not None (i.e. { self._geometry_engine.reverse_atoms_with_positions_reduced_potential})\"\n",
    "    subtracted_valence_energy = 0.0\n",
    "else:\n",
    "    subtracted_valence_energy = geometry_engine.reverse_final_context_reduced_potential - geometry_engine.reverse_atoms_with_positions_reduced_potential\n"
   ]
  },
  {
   "cell_type": "code",
   "execution_count": 4,
   "id": "visible-mistress",
   "metadata": {
    "scrolled": true
   },
   "outputs": [
    {
     "name": "stderr",
     "output_type": "stream",
     "text": [
      "2021-05-11 13:49:33,564:(0.10s):relative:*** Generating RxnHybridTopologyFactory ***\n",
      "2021-05-11 13:49:33,566:(0.00s):relative:Beginning nonbonded method, total particle, barostat, and exceptions retrieval...\n",
      "2021-05-11 13:49:33,668:(0.10s):relative:Old system forces: dict_keys(['HarmonicBondForce', 'HarmonicAngleForce', 'PeriodicTorsionForce', 'NonbondedForce', 'MonteCarloBarostat'])\n",
      "2021-05-11 13:49:33,669:(0.00s):relative:New system forces: dict_keys(['HarmonicBondForce', 'HarmonicAngleForce', 'PeriodicTorsionForce', 'NonbondedForce', 'MonteCarloBarostat'])\n",
      "2021-05-11 13:49:33,671:(0.00s):relative:No unknown forces.\n",
      "2021-05-11 13:49:33,672:(0.00s):relative:Nonbonded method to be used (i.e. from old system): 4\n",
      "2021-05-11 13:49:33,674:(0.00s):relative:Adding and mapping old atoms to hybrid system...\n",
      "2021-05-11 13:49:33,715:(0.04s):relative:Adding and mapping new atoms to hybrid system...\n",
      "2021-05-11 13:49:33,716:(0.00s):relative:scale_templates: [['nonscale_lambda'], ['nonscale_region']]\n",
      "2021-05-11 13:49:33,718:(0.00s):relative:Added MonteCarloBarostat.\n",
      "2021-05-11 13:49:33,719:(0.00s):relative:getDefaultPeriodicBoxVectors added to hybrid: [Quantity(value=Vec3(x=3.9005, y=0.0, z=0.0), unit=nanometer), Quantity(value=Vec3(x=0.0, y=3.9005, z=0.0), unit=nanometer), Quantity(value=Vec3(x=0.0, y=0.0, z=3.9005), unit=nanometer)]\n",
      "2021-05-11 13:49:33,723:(0.00s):relative:Determined atom classes.\n",
      "2021-05-11 13:49:33,724:(0.00s):relative:Generating old system exceptions dict...\n",
      "2021-05-11 13:49:33,750:(0.03s):relative:Generating new system exceptions dict...\n",
      "2021-05-11 13:49:33,920:(0.17s):relative:Handling constraints...\n",
      "2021-05-11 13:49:34,011:(0.09s):relative:Handling virtual sites...\n",
      "2021-05-11 13:49:34,015:(0.00s):relative:\t_handle_virtual_sites: numVirtualSites: 0\n",
      "2021-05-11 13:49:34,036:(0.02s):relative:hybrid index pair: (2, 1, 0, 3), terms: [[7, 1, Quantity(value=0.0, unit=radian), Quantity(value=3.3472000000000004, unit=kilojoule/mole)], [8, 3, Quantity(value=3.141592653589793, unit=radian), Quantity(value=0.33472, unit=kilojoule/mole)]], new term collector key: (2, 1, 0, 3), term: [[7, 1, Quantity(value=0.0, unit=radian), Quantity(value=3.3472000000000004, unit=kilojoule/mole)], [8, 3, Quantity(value=3.141592653589793, unit=radian), Quantity(value=0.33472, unit=kilojoule/mole)]]\n",
      "2021-05-11 13:49:34,038:(0.00s):relative:hybrid index pair: (2, 1, 0, 4), terms: [[9, 1, Quantity(value=0.0, unit=radian), Quantity(value=3.3472000000000004, unit=kilojoule/mole)], [10, 3, Quantity(value=3.141592653589793, unit=radian), Quantity(value=0.33472, unit=kilojoule/mole)]], new term collector key: (2, 1, 0, 4), term: [[9, 1, Quantity(value=0.0, unit=radian), Quantity(value=3.3472000000000004, unit=kilojoule/mole)], [10, 3, Quantity(value=3.141592653589793, unit=radian), Quantity(value=0.33472, unit=kilojoule/mole)]]\n",
      "2021-05-11 13:49:34,039:(0.00s):relative:hybrid index pair: (2, 1, 0, 5), terms: [[11, 1, Quantity(value=0.0, unit=radian), Quantity(value=3.3472000000000004, unit=kilojoule/mole)], [12, 3, Quantity(value=3.141592653589793, unit=radian), Quantity(value=0.33472, unit=kilojoule/mole)]], new term collector key: (2, 1, 0, 5), term: [[11, 1, Quantity(value=0.0, unit=radian), Quantity(value=3.3472000000000004, unit=kilojoule/mole)], [12, 3, Quantity(value=3.141592653589793, unit=radian), Quantity(value=0.33472, unit=kilojoule/mole)]]\n",
      "2021-05-11 13:49:34,047:(0.01s):relative:hybrid index pair: (43, 44, 45, 62), terms: [[139, 3, Quantity(value=3.141592653589793, unit=radian), Quantity(value=2.3012, unit=kilojoule/mole)], [140, 2, Quantity(value=3.141592653589793, unit=radian), Quantity(value=6.610720000000001, unit=kilojoule/mole)], [141, 1, Quantity(value=3.141592653589793, unit=radian), Quantity(value=1.8828, unit=kilojoule/mole)]], new term collector key: (43, 44, 45, 62), term: [[166, 3, Quantity(value=3.141592653589793, unit=radian), Quantity(value=2.3012, unit=kilojoule/mole)], [167, 2, Quantity(value=3.141592653589793, unit=radian), Quantity(value=6.610720000000001, unit=kilojoule/mole)], [168, 1, Quantity(value=3.141592653589793, unit=radian), Quantity(value=1.8828, unit=kilojoule/mole)]]\n",
      "2021-05-11 13:49:34,048:(0.00s):relative:hybrid index pair: (43, 44, 47, 48), terms: [[142, 4, Quantity(value=0.0, unit=radian), Quantity(value=0.305432, unit=kilojoule/mole)], [143, 3, Quantity(value=0.0, unit=radian), Quantity(value=0.602496, unit=kilojoule/mole)], [144, 2, Quantity(value=3.141592653589793, unit=radian), Quantity(value=1.0836560000000002, unit=kilojoule/mole)], [145, 1, Quantity(value=0.0, unit=radian), Quantity(value=0.410032, unit=kilojoule/mole)]], new term collector key: (43, 44, 47, 48), term: [[169, 4, Quantity(value=0.0, unit=radian), Quantity(value=0.305432, unit=kilojoule/mole)], [170, 3, Quantity(value=0.0, unit=radian), Quantity(value=0.602496, unit=kilojoule/mole)], [171, 2, Quantity(value=3.141592653589793, unit=radian), Quantity(value=1.0836560000000002, unit=kilojoule/mole)], [172, 1, Quantity(value=0.0, unit=radian), Quantity(value=0.410032, unit=kilojoule/mole)]]\n",
      "2021-05-11 13:49:34,050:(0.00s):relative:hybrid index pair: (43, 44, 47, 53), terms: [[146, 3, Quantity(value=0.0, unit=radian), Quantity(value=0.6508444444444444, unit=kilojoule/mole)]], new term collector key: (43, 44, 47, 53), term: [[173, 3, Quantity(value=0.0, unit=radian), Quantity(value=0.6508444444444444, unit=kilojoule/mole)]]\n",
      "2021-05-11 13:49:34,052:(0.00s):relative:hybrid index pair: (43, 44, 47, 54), terms: [[147, 3, Quantity(value=0.0, unit=radian), Quantity(value=0.6508444444444444, unit=kilojoule/mole)]], new term collector key: (43, 44, 47, 54), term: [[174, 3, Quantity(value=0.0, unit=radian), Quantity(value=0.6508444444444444, unit=kilojoule/mole)]]\n",
      "2021-05-11 13:49:34,054:(0.00s):relative:hybrid index pair: (44, 45, 62, 63), terms: [[148, 2, Quantity(value=3.141592653589793, unit=radian), Quantity(value=10.46, unit=kilojoule/mole)]], new term collector key: (44, 45, 62, 63), term: [[175, 2, Quantity(value=3.141592653589793, unit=radian), Quantity(value=10.46, unit=kilojoule/mole)]]\n",
      "2021-05-11 13:49:34,055:(0.00s):relative:hybrid index pair: (44, 45, 62, 71), terms: [[149, 2, Quantity(value=3.141592653589793, unit=radian), Quantity(value=10.46, unit=kilojoule/mole)]], new term collector key: (44, 45, 62, 71), term: [[176, 2, Quantity(value=3.141592653589793, unit=radian), Quantity(value=10.46, unit=kilojoule/mole)]]\n",
      "2021-05-11 13:49:34,057:(0.00s):relative:hybrid index pair: (44, 47, 48, 49), terms: [[150, 4, Quantity(value=0.0, unit=radian), Quantity(value=0.748936, unit=kilojoule/mole)], [151, 3, Quantity(value=0.0, unit=radian), Quantity(value=0.594128, unit=kilojoule/mole)], [152, 2, Quantity(value=3.141592653589793, unit=radian), Quantity(value=0.112968, unit=kilojoule/mole)], [153, 1, Quantity(value=0.0, unit=radian), Quantity(value=1.585736, unit=kilojoule/mole)]], new term collector key: (44, 47, 48, 49), term: [[177, 4, Quantity(value=0.0, unit=radian), Quantity(value=0.748936, unit=kilojoule/mole)], [178, 3, Quantity(value=0.0, unit=radian), Quantity(value=0.594128, unit=kilojoule/mole)], [179, 2, Quantity(value=3.141592653589793, unit=radian), Quantity(value=0.112968, unit=kilojoule/mole)], [180, 1, Quantity(value=0.0, unit=radian), Quantity(value=1.585736, unit=kilojoule/mole)]]\n",
      "2021-05-11 13:49:34,059:(0.00s):relative:hybrid index pair: (44, 47, 48, 50), terms: [[154, 4, Quantity(value=0.0, unit=radian), Quantity(value=0.748936, unit=kilojoule/mole)], [155, 3, Quantity(value=0.0, unit=radian), Quantity(value=0.594128, unit=kilojoule/mole)], [156, 2, Quantity(value=3.141592653589793, unit=radian), Quantity(value=0.112968, unit=kilojoule/mole)], [157, 1, Quantity(value=0.0, unit=radian), Quantity(value=1.585736, unit=kilojoule/mole)]], new term collector key: (44, 47, 48, 50), term: [[181, 4, Quantity(value=0.0, unit=radian), Quantity(value=0.748936, unit=kilojoule/mole)], [182, 3, Quantity(value=0.0, unit=radian), Quantity(value=0.594128, unit=kilojoule/mole)], [183, 2, Quantity(value=3.141592653589793, unit=radian), Quantity(value=0.112968, unit=kilojoule/mole)], [184, 1, Quantity(value=0.0, unit=radian), Quantity(value=1.585736, unit=kilojoule/mole)]]\n"
     ]
    },
    {
     "name": "stderr",
     "output_type": "stream",
     "text": [
      "2021-05-11 13:49:34,060:(0.00s):relative:hybrid index pair: (44, 47, 48, 55), terms: [[158, 3, Quantity(value=0.0, unit=radian), Quantity(value=0.66944, unit=kilojoule/mole)]], new term collector key: (44, 47, 48, 55), term: [[185, 3, Quantity(value=0.0, unit=radian), Quantity(value=0.66944, unit=kilojoule/mole)]]\n",
      "2021-05-11 13:49:34,062:(0.00s):relative:hybrid index pair: (45, 44, 47, 48), terms: [[159, 4, Quantity(value=0.0, unit=radian), Quantity(value=0.79496, unit=kilojoule/mole)], [160, 3, Quantity(value=0.0, unit=radian), Quantity(value=0.602496, unit=kilojoule/mole)], [161, 2, Quantity(value=3.141592653589793, unit=radian), Quantity(value=2.59408, unit=kilojoule/mole)], [162, 1, Quantity(value=0.0, unit=radian), Quantity(value=2.953904, unit=kilojoule/mole)]], new term collector key: (45, 44, 47, 48), term: [[186, 4, Quantity(value=0.0, unit=radian), Quantity(value=0.79496, unit=kilojoule/mole)], [187, 3, Quantity(value=0.0, unit=radian), Quantity(value=0.602496, unit=kilojoule/mole)], [188, 2, Quantity(value=3.141592653589793, unit=radian), Quantity(value=2.59408, unit=kilojoule/mole)], [189, 1, Quantity(value=0.0, unit=radian), Quantity(value=2.953904, unit=kilojoule/mole)]]\n",
      "2021-05-11 13:49:34,064:(0.00s):relative:hybrid index pair: (45, 44, 47, 53), terms: [[163, 3, Quantity(value=0.0, unit=radian), Quantity(value=0.6508444444444444, unit=kilojoule/mole)]], new term collector key: (45, 44, 47, 53), term: [[190, 3, Quantity(value=0.0, unit=radian), Quantity(value=0.6508444444444444, unit=kilojoule/mole)]]\n",
      "2021-05-11 13:49:34,065:(0.00s):relative:hybrid index pair: (45, 44, 47, 54), terms: [[164, 3, Quantity(value=0.0, unit=radian), Quantity(value=0.6508444444444444, unit=kilojoule/mole)]], new term collector key: (45, 44, 47, 54), term: [[191, 3, Quantity(value=0.0, unit=radian), Quantity(value=0.6508444444444444, unit=kilojoule/mole)]]\n",
      "2021-05-11 13:49:34,067:(0.00s):relative:hybrid index pair: (45, 62, 63, 64), terms: [[165, 3, Quantity(value=0.0, unit=radian), Quantity(value=1.75728, unit=kilojoule/mole)], [166, 2, Quantity(value=0.0, unit=radian), Quantity(value=1.12968, unit=kilojoule/mole)]], new term collector key: (45, 62, 63, 64), term: [[192, 3, Quantity(value=0.0, unit=radian), Quantity(value=1.75728, unit=kilojoule/mole)], [193, 2, Quantity(value=0.0, unit=radian), Quantity(value=1.12968, unit=kilojoule/mole)]]\n",
      "2021-05-11 13:49:34,069:(0.00s):relative:hybrid index pair: (45, 62, 63, 66), terms: [[167, 3, Quantity(value=0.0, unit=radian), Quantity(value=3.3472000000000004, unit=kilojoule/mole)], [168, 2, Quantity(value=0.0, unit=radian), Quantity(value=7.5312, unit=kilojoule/mole)], [169, 1, Quantity(value=0.0, unit=radian), Quantity(value=8.368, unit=kilojoule/mole)]], new term collector key: (45, 62, 63, 66), term: [[194, 3, Quantity(value=0.0, unit=radian), Quantity(value=3.3472000000000004, unit=kilojoule/mole)], [195, 2, Quantity(value=0.0, unit=radian), Quantity(value=7.5312, unit=kilojoule/mole)], [196, 1, Quantity(value=0.0, unit=radian), Quantity(value=8.368, unit=kilojoule/mole)]]\n",
      "2021-05-11 13:49:34,071:(0.00s):relative:hybrid index pair: (46, 45, 44, 52), terms: [[170, 1, Quantity(value=0.0, unit=radian), Quantity(value=3.3472000000000004, unit=kilojoule/mole)], [171, 3, Quantity(value=3.141592653589793, unit=radian), Quantity(value=0.33472, unit=kilojoule/mole)]], new term collector key: (46, 45, 44, 52), term: [[197, 1, Quantity(value=0.0, unit=radian), Quantity(value=3.3472000000000004, unit=kilojoule/mole)], [198, 3, Quantity(value=3.141592653589793, unit=radian), Quantity(value=0.33472, unit=kilojoule/mole)]]\n",
      "2021-05-11 13:49:34,072:(0.00s):relative:hybrid index pair: (46, 45, 62, 63), terms: [[172, 2, Quantity(value=3.141592653589793, unit=radian), Quantity(value=10.46, unit=kilojoule/mole)]], new term collector key: (46, 45, 62, 63), term: [[199, 2, Quantity(value=3.141592653589793, unit=radian), Quantity(value=10.46, unit=kilojoule/mole)]]\n",
      "2021-05-11 13:49:34,074:(0.00s):relative:hybrid index pair: (46, 45, 62, 71), terms: [[173, 2, Quantity(value=3.141592653589793, unit=radian), Quantity(value=10.46, unit=kilojoule/mole)], [174, 1, Quantity(value=0.0, unit=radian), Quantity(value=8.368, unit=kilojoule/mole)]], new term collector key: (46, 45, 62, 71), term: [[200, 2, Quantity(value=3.141592653589793, unit=radian), Quantity(value=10.46, unit=kilojoule/mole)], [201, 1, Quantity(value=0.0, unit=radian), Quantity(value=8.368, unit=kilojoule/mole)]]\n",
      "2021-05-11 13:49:34,076:(0.00s):relative:hybrid index pair: (47, 44, 45, 62), terms: [[175, 3, Quantity(value=0.0, unit=radian), Quantity(value=1.6736000000000002, unit=kilojoule/mole)], [176, 2, Quantity(value=0.0, unit=radian), Quantity(value=0.8368000000000001, unit=kilojoule/mole)], [177, 1, Quantity(value=0.0, unit=radian), Quantity(value=0.8368000000000001, unit=kilojoule/mole)]], new term collector key: (47, 44, 45, 62), term: [[202, 3, Quantity(value=0.0, unit=radian), Quantity(value=1.6736000000000002, unit=kilojoule/mole)], [203, 2, Quantity(value=0.0, unit=radian), Quantity(value=0.8368000000000001, unit=kilojoule/mole)], [204, 1, Quantity(value=0.0, unit=radian), Quantity(value=0.8368000000000001, unit=kilojoule/mole)]]\n",
      "2021-05-11 13:49:34,077:(0.00s):relative:hybrid index pair: (47, 48, 49, 56), terms: [[178, 3, Quantity(value=0.0, unit=radian), Quantity(value=0.66944, unit=kilojoule/mole)]], new term collector key: (47, 48, 49, 56), term: [[205, 3, Quantity(value=0.0, unit=radian), Quantity(value=0.66944, unit=kilojoule/mole)]]\n",
      "2021-05-11 13:49:34,079:(0.00s):relative:hybrid index pair: (47, 48, 49, 57), terms: [[179, 3, Quantity(value=0.0, unit=radian), Quantity(value=0.66944, unit=kilojoule/mole)]], new term collector key: (47, 48, 49, 57), term: [[206, 3, Quantity(value=0.0, unit=radian), Quantity(value=0.66944, unit=kilojoule/mole)]]\n",
      "2021-05-11 13:49:34,081:(0.00s):relative:hybrid index pair: (47, 48, 49, 58), terms: [[180, 3, Quantity(value=0.0, unit=radian), Quantity(value=0.66944, unit=kilojoule/mole)]], new term collector key: (47, 48, 49, 58), term: [[207, 3, Quantity(value=0.0, unit=radian), Quantity(value=0.66944, unit=kilojoule/mole)]]\n",
      "2021-05-11 13:49:34,082:(0.00s):relative:hybrid index pair: (47, 48, 50, 59), terms: [[181, 3, Quantity(value=0.0, unit=radian), Quantity(value=0.66944, unit=kilojoule/mole)]], new term collector key: (47, 48, 50, 59), term: [[208, 3, Quantity(value=0.0, unit=radian), Quantity(value=0.66944, unit=kilojoule/mole)]]\n",
      "2021-05-11 13:49:34,084:(0.00s):relative:hybrid index pair: (47, 48, 50, 60), terms: [[182, 3, Quantity(value=0.0, unit=radian), Quantity(value=0.66944, unit=kilojoule/mole)]], new term collector key: (47, 48, 50, 60), term: [[209, 3, Quantity(value=0.0, unit=radian), Quantity(value=0.66944, unit=kilojoule/mole)]]\n",
      "2021-05-11 13:49:34,085:(0.00s):relative:hybrid index pair: (47, 48, 50, 61), terms: [[183, 3, Quantity(value=0.0, unit=radian), Quantity(value=0.66944, unit=kilojoule/mole)]], new term collector key: (47, 48, 50, 61), term: [[210, 3, Quantity(value=0.0, unit=radian), Quantity(value=0.66944, unit=kilojoule/mole)]]\n",
      "2021-05-11 13:49:34,087:(0.00s):relative:hybrid index pair: (48, 47, 44, 52), terms: [[184, 3, Quantity(value=0.0, unit=radian), Quantity(value=0.6508444444444444, unit=kilojoule/mole)]], new term collector key: (48, 47, 44, 52), term: [[211, 3, Quantity(value=0.0, unit=radian), Quantity(value=0.6508444444444444, unit=kilojoule/mole)]]\n",
      "2021-05-11 13:49:34,089:(0.00s):relative:hybrid index pair: (49, 48, 47, 53), terms: [[185, 3, Quantity(value=0.0, unit=radian), Quantity(value=0.66944, unit=kilojoule/mole)]], new term collector key: (49, 48, 47, 53), term: [[212, 3, Quantity(value=0.0, unit=radian), Quantity(value=0.66944, unit=kilojoule/mole)]]\n",
      "2021-05-11 13:49:34,090:(0.00s):relative:hybrid index pair: (49, 48, 47, 54), terms: [[186, 3, Quantity(value=0.0, unit=radian), Quantity(value=0.66944, unit=kilojoule/mole)]], new term collector key: (49, 48, 47, 54), term: [[213, 3, Quantity(value=0.0, unit=radian), Quantity(value=0.66944, unit=kilojoule/mole)]]\n",
      "2021-05-11 13:49:34,092:(0.00s):relative:hybrid index pair: (49, 48, 50, 59), terms: [[187, 3, Quantity(value=0.0, unit=radian), Quantity(value=0.66944, unit=kilojoule/mole)]], new term collector key: (49, 48, 50, 59), term: [[214, 3, Quantity(value=0.0, unit=radian), Quantity(value=0.66944, unit=kilojoule/mole)]]\n"
     ]
    },
    {
     "name": "stderr",
     "output_type": "stream",
     "text": [
      "2021-05-11 13:49:34,093:(0.00s):relative:hybrid index pair: (49, 48, 50, 60), terms: [[188, 3, Quantity(value=0.0, unit=radian), Quantity(value=0.66944, unit=kilojoule/mole)]], new term collector key: (49, 48, 50, 60), term: [[215, 3, Quantity(value=0.0, unit=radian), Quantity(value=0.66944, unit=kilojoule/mole)]]\n",
      "2021-05-11 13:49:34,095:(0.00s):relative:hybrid index pair: (49, 48, 50, 61), terms: [[189, 3, Quantity(value=0.0, unit=radian), Quantity(value=0.66944, unit=kilojoule/mole)]], new term collector key: (49, 48, 50, 61), term: [[216, 3, Quantity(value=0.0, unit=radian), Quantity(value=0.66944, unit=kilojoule/mole)]]\n",
      "2021-05-11 13:49:34,096:(0.00s):relative:hybrid index pair: (50, 48, 47, 53), terms: [[190, 3, Quantity(value=0.0, unit=radian), Quantity(value=0.66944, unit=kilojoule/mole)]], new term collector key: (50, 48, 47, 53), term: [[217, 3, Quantity(value=0.0, unit=radian), Quantity(value=0.66944, unit=kilojoule/mole)]]\n",
      "2021-05-11 13:49:34,097:(0.00s):relative:hybrid index pair: (50, 48, 47, 54), terms: [[191, 3, Quantity(value=0.0, unit=radian), Quantity(value=0.66944, unit=kilojoule/mole)]], new term collector key: (50, 48, 47, 54), term: [[218, 3, Quantity(value=0.0, unit=radian), Quantity(value=0.66944, unit=kilojoule/mole)]]\n",
      "2021-05-11 13:49:34,098:(0.00s):relative:hybrid index pair: (50, 48, 49, 56), terms: [[192, 3, Quantity(value=0.0, unit=radian), Quantity(value=0.66944, unit=kilojoule/mole)]], new term collector key: (50, 48, 49, 56), term: [[219, 3, Quantity(value=0.0, unit=radian), Quantity(value=0.66944, unit=kilojoule/mole)]]\n",
      "2021-05-11 13:49:34,099:(0.00s):relative:hybrid index pair: (50, 48, 49, 57), terms: [[193, 3, Quantity(value=0.0, unit=radian), Quantity(value=0.66944, unit=kilojoule/mole)]], new term collector key: (50, 48, 49, 57), term: [[220, 3, Quantity(value=0.0, unit=radian), Quantity(value=0.66944, unit=kilojoule/mole)]]\n",
      "2021-05-11 13:49:34,102:(0.00s):relative:hybrid index pair: (50, 48, 49, 58), terms: [[194, 3, Quantity(value=0.0, unit=radian), Quantity(value=0.66944, unit=kilojoule/mole)]], new term collector key: (50, 48, 49, 58), term: [[221, 3, Quantity(value=0.0, unit=radian), Quantity(value=0.66944, unit=kilojoule/mole)]]\n",
      "2021-05-11 13:49:34,103:(0.00s):relative:hybrid index pair: (52, 44, 47, 53), terms: [[195, 3, Quantity(value=0.0, unit=radian), Quantity(value=0.6508444444444444, unit=kilojoule/mole)]], new term collector key: (52, 44, 47, 53), term: [[222, 3, Quantity(value=0.0, unit=radian), Quantity(value=0.6508444444444444, unit=kilojoule/mole)]]\n",
      "2021-05-11 13:49:34,104:(0.00s):relative:hybrid index pair: (52, 44, 47, 54), terms: [[196, 3, Quantity(value=0.0, unit=radian), Quantity(value=0.6508444444444444, unit=kilojoule/mole)]], new term collector key: (52, 44, 47, 54), term: [[223, 3, Quantity(value=0.0, unit=radian), Quantity(value=0.6508444444444444, unit=kilojoule/mole)]]\n",
      "2021-05-11 13:49:34,105:(0.00s):relative:hybrid index pair: (53, 47, 48, 55), terms: [[197, 3, Quantity(value=0.0, unit=radian), Quantity(value=0.6276, unit=kilojoule/mole)]], new term collector key: (53, 47, 48, 55), term: [[224, 3, Quantity(value=0.0, unit=radian), Quantity(value=0.6276, unit=kilojoule/mole)]]\n",
      "2021-05-11 13:49:34,106:(0.00s):relative:hybrid index pair: (54, 47, 48, 55), terms: [[198, 3, Quantity(value=0.0, unit=radian), Quantity(value=0.6276, unit=kilojoule/mole)]], new term collector key: (54, 47, 48, 55), term: [[225, 3, Quantity(value=0.0, unit=radian), Quantity(value=0.6276, unit=kilojoule/mole)]]\n",
      "2021-05-11 13:49:34,106:(0.00s):relative:hybrid index pair: (55, 48, 49, 56), terms: [[199, 3, Quantity(value=0.0, unit=radian), Quantity(value=0.6276, unit=kilojoule/mole)]], new term collector key: (55, 48, 49, 56), term: [[226, 3, Quantity(value=0.0, unit=radian), Quantity(value=0.6276, unit=kilojoule/mole)]]\n",
      "2021-05-11 13:49:34,112:(0.01s):relative:hybrid index pair: (55, 48, 49, 57), terms: [[200, 3, Quantity(value=0.0, unit=radian), Quantity(value=0.6276, unit=kilojoule/mole)]], new term collector key: (55, 48, 49, 57), term: [[227, 3, Quantity(value=0.0, unit=radian), Quantity(value=0.6276, unit=kilojoule/mole)]]\n",
      "2021-05-11 13:49:34,112:(0.00s):relative:hybrid index pair: (55, 48, 49, 58), terms: [[201, 3, Quantity(value=0.0, unit=radian), Quantity(value=0.6276, unit=kilojoule/mole)]], new term collector key: (55, 48, 49, 58), term: [[228, 3, Quantity(value=0.0, unit=radian), Quantity(value=0.6276, unit=kilojoule/mole)]]\n",
      "2021-05-11 13:49:34,113:(0.00s):relative:hybrid index pair: (55, 48, 50, 59), terms: [[202, 3, Quantity(value=0.0, unit=radian), Quantity(value=0.6276, unit=kilojoule/mole)]], new term collector key: (55, 48, 50, 59), term: [[229, 3, Quantity(value=0.0, unit=radian), Quantity(value=0.6276, unit=kilojoule/mole)]]\n",
      "2021-05-11 13:49:34,114:(0.00s):relative:hybrid index pair: (55, 48, 50, 60), terms: [[203, 3, Quantity(value=0.0, unit=radian), Quantity(value=0.6276, unit=kilojoule/mole)]], new term collector key: (55, 48, 50, 60), term: [[230, 3, Quantity(value=0.0, unit=radian), Quantity(value=0.6276, unit=kilojoule/mole)]]\n",
      "2021-05-11 13:49:34,115:(0.00s):relative:hybrid index pair: (55, 48, 50, 61), terms: [[204, 3, Quantity(value=0.0, unit=radian), Quantity(value=0.6276, unit=kilojoule/mole)]], new term collector key: (55, 48, 50, 61), term: [[231, 3, Quantity(value=0.0, unit=radian), Quantity(value=0.6276, unit=kilojoule/mole)]]\n",
      "2021-05-11 13:49:34,116:(0.00s):relative:hybrid index pair: (62, 63, 64, 79), terms: [[205, 3, Quantity(value=3.141592653589793, unit=radian), Quantity(value=2.3012, unit=kilojoule/mole)], [206, 2, Quantity(value=3.141592653589793, unit=radian), Quantity(value=6.610720000000001, unit=kilojoule/mole)], [207, 1, Quantity(value=3.141592653589793, unit=radian), Quantity(value=1.8828, unit=kilojoule/mole)]], new term collector key: (62, 63, 64, 79), term: [[232, 3, Quantity(value=3.141592653589793, unit=radian), Quantity(value=2.3012, unit=kilojoule/mole)], [233, 2, Quantity(value=3.141592653589793, unit=radian), Quantity(value=6.610720000000001, unit=kilojoule/mole)], [234, 1, Quantity(value=3.141592653589793, unit=radian), Quantity(value=1.8828, unit=kilojoule/mole)]]\n",
      "2021-05-11 13:49:34,117:(0.00s):relative:hybrid index pair: (62, 63, 66, 67), terms: [[208, 4, Quantity(value=0.0, unit=radian), Quantity(value=0.32635200000000003, unit=kilojoule/mole)], [209, 3, Quantity(value=0.0, unit=radian), Quantity(value=0.602496, unit=kilojoule/mole)], [210, 2, Quantity(value=3.141592653589793, unit=radian), Quantity(value=0.769856, unit=kilojoule/mole)], [211, 1, Quantity(value=3.141592653589793, unit=radian), Quantity(value=0.41840000000000005, unit=kilojoule/mole)]], new term collector key: (62, 63, 66, 67), term: [[235, 4, Quantity(value=0.0, unit=radian), Quantity(value=0.32635200000000003, unit=kilojoule/mole)], [236, 3, Quantity(value=0.0, unit=radian), Quantity(value=0.602496, unit=kilojoule/mole)], [237, 2, Quantity(value=3.141592653589793, unit=radian), Quantity(value=0.769856, unit=kilojoule/mole)], [238, 1, Quantity(value=3.141592653589793, unit=radian), Quantity(value=0.41840000000000005, unit=kilojoule/mole)]]\n",
      "2021-05-11 13:49:34,118:(0.00s):relative:hybrid index pair: (62, 63, 66, 73), terms: [[212, 3, Quantity(value=0.0, unit=radian), Quantity(value=0.6508444444444444, unit=kilojoule/mole)]], new term collector key: (62, 63, 66, 73), term: [[239, 3, Quantity(value=0.0, unit=radian), Quantity(value=0.6508444444444444, unit=kilojoule/mole)]]\n",
      "2021-05-11 13:49:34,118:(0.00s):relative:hybrid index pair: (62, 63, 66, 74), terms: [[213, 3, Quantity(value=0.0, unit=radian), Quantity(value=0.6508444444444444, unit=kilojoule/mole)]], new term collector key: (62, 63, 66, 74), term: [[240, 3, Quantity(value=0.0, unit=radian), Quantity(value=0.6508444444444444, unit=kilojoule/mole)]]\n",
      "2021-05-11 13:49:34,119:(0.00s):relative:hybrid index pair: (63, 64, 79, 80), terms: [[214, 2, Quantity(value=3.141592653589793, unit=radian), Quantity(value=10.46, unit=kilojoule/mole)]], new term collector key: (63, 64, 79, 80), term: [[241, 2, Quantity(value=3.141592653589793, unit=radian), Quantity(value=10.46, unit=kilojoule/mole)]]\n",
      "2021-05-11 13:49:34,120:(0.00s):relative:hybrid index pair: (63, 64, 79, 85), terms: [[215, 2, Quantity(value=3.141592653589793, unit=radian), Quantity(value=10.46, unit=kilojoule/mole)]], new term collector key: (63, 64, 79, 85), term: [[242, 2, Quantity(value=3.141592653589793, unit=radian), Quantity(value=10.46, unit=kilojoule/mole)]]\n"
     ]
    },
    {
     "name": "stderr",
     "output_type": "stream",
     "text": [
      "2021-05-11 13:49:34,121:(0.00s):relative:hybrid index pair: (63, 66, 67, 68), terms: [[216, 4, Quantity(value=0.0, unit=radian), Quantity(value=0.577392, unit=kilojoule/mole)], [217, 3, Quantity(value=3.141592653589793, unit=radian), Quantity(value=1.723808, unit=kilojoule/mole)], [218, 2, Quantity(value=0.0, unit=radian), Quantity(value=0.347272, unit=kilojoule/mole)], [219, 1, Quantity(value=3.141592653589793, unit=radian), Quantity(value=0.820064, unit=kilojoule/mole)]], new term collector key: (63, 66, 67, 68), term: [[243, 4, Quantity(value=0.0, unit=radian), Quantity(value=0.577392, unit=kilojoule/mole)], [244, 3, Quantity(value=3.141592653589793, unit=radian), Quantity(value=1.723808, unit=kilojoule/mole)], [245, 2, Quantity(value=0.0, unit=radian), Quantity(value=0.347272, unit=kilojoule/mole)], [246, 1, Quantity(value=3.141592653589793, unit=radian), Quantity(value=0.820064, unit=kilojoule/mole)]]\n",
      "2021-05-11 13:49:34,132:(0.01s):relative:hybrid index pair: (63, 66, 67, 75), terms: [[220, 3, Quantity(value=0.0, unit=radian), Quantity(value=0.66944, unit=kilojoule/mole)]], new term collector key: (63, 66, 67, 75), term: [[247, 3, Quantity(value=0.0, unit=radian), Quantity(value=0.66944, unit=kilojoule/mole)]]\n",
      "2021-05-11 13:49:34,133:(0.00s):relative:hybrid index pair: (63, 66, 67, 76), terms: [[221, 3, Quantity(value=0.0, unit=radian), Quantity(value=0.66944, unit=kilojoule/mole)]], new term collector key: (63, 66, 67, 76), term: [[248, 3, Quantity(value=0.0, unit=radian), Quantity(value=0.66944, unit=kilojoule/mole)]]\n",
      "2021-05-11 13:49:34,134:(0.00s):relative:hybrid index pair: (64, 63, 66, 67), terms: [[222, 4, Quantity(value=0.0, unit=radian), Quantity(value=0.60668, unit=kilojoule/mole)], [223, 3, Quantity(value=0.0, unit=radian), Quantity(value=0.602496, unit=kilojoule/mole)], [224, 2, Quantity(value=3.141592653589793, unit=radian), Quantity(value=1.6443120000000002, unit=kilojoule/mole)], [225, 1, Quantity(value=3.141592653589793, unit=radian), Quantity(value=1.761464, unit=kilojoule/mole)]], new term collector key: (64, 63, 66, 67), term: [[249, 4, Quantity(value=0.0, unit=radian), Quantity(value=0.60668, unit=kilojoule/mole)], [250, 3, Quantity(value=0.0, unit=radian), Quantity(value=0.602496, unit=kilojoule/mole)], [251, 2, Quantity(value=3.141592653589793, unit=radian), Quantity(value=1.6443120000000002, unit=kilojoule/mole)], [252, 1, Quantity(value=3.141592653589793, unit=radian), Quantity(value=1.761464, unit=kilojoule/mole)]]\n",
      "2021-05-11 13:49:34,135:(0.00s):relative:hybrid index pair: (64, 63, 66, 73), terms: [[226, 3, Quantity(value=0.0, unit=radian), Quantity(value=0.6508444444444444, unit=kilojoule/mole)]], new term collector key: (64, 63, 66, 73), term: [[253, 3, Quantity(value=0.0, unit=radian), Quantity(value=0.6508444444444444, unit=kilojoule/mole)]]\n",
      "2021-05-11 13:49:34,135:(0.00s):relative:hybrid index pair: (64, 63, 66, 74), terms: [[227, 3, Quantity(value=0.0, unit=radian), Quantity(value=0.6508444444444444, unit=kilojoule/mole)]], new term collector key: (64, 63, 66, 74), term: [[254, 3, Quantity(value=0.0, unit=radian), Quantity(value=0.6508444444444444, unit=kilojoule/mole)]]\n",
      "2021-05-11 13:49:34,136:(0.00s):relative:hybrid index pair: (64, 79, 80, 81), terms: [[228, 3, Quantity(value=0.0, unit=radian), Quantity(value=1.75728, unit=kilojoule/mole)], [229, 2, Quantity(value=0.0, unit=radian), Quantity(value=1.12968, unit=kilojoule/mole)]], new term collector key: (64, 79, 80, 81), term: [[255, 3, Quantity(value=0.0, unit=radian), Quantity(value=1.75728, unit=kilojoule/mole)], [256, 2, Quantity(value=0.0, unit=radian), Quantity(value=1.12968, unit=kilojoule/mole)]]\n",
      "2021-05-11 13:49:34,137:(0.00s):relative:hybrid index pair: (64, 79, 80, 83), terms: [[230, 3, Quantity(value=0.0, unit=radian), Quantity(value=3.3472000000000004, unit=kilojoule/mole)], [231, 2, Quantity(value=0.0, unit=radian), Quantity(value=7.5312, unit=kilojoule/mole)], [232, 1, Quantity(value=0.0, unit=radian), Quantity(value=8.368, unit=kilojoule/mole)]], new term collector key: (64, 79, 80, 83), term: [[257, 3, Quantity(value=0.0, unit=radian), Quantity(value=3.3472000000000004, unit=kilojoule/mole)], [258, 2, Quantity(value=0.0, unit=radian), Quantity(value=7.5312, unit=kilojoule/mole)], [259, 1, Quantity(value=0.0, unit=radian), Quantity(value=8.368, unit=kilojoule/mole)]]\n",
      "2021-05-11 13:49:34,138:(0.00s):relative:hybrid index pair: (65, 64, 63, 72), terms: [[233, 1, Quantity(value=0.0, unit=radian), Quantity(value=3.3472000000000004, unit=kilojoule/mole)], [234, 3, Quantity(value=3.141592653589793, unit=radian), Quantity(value=0.33472, unit=kilojoule/mole)]], new term collector key: (65, 64, 63, 72), term: [[260, 1, Quantity(value=0.0, unit=radian), Quantity(value=3.3472000000000004, unit=kilojoule/mole)], [261, 3, Quantity(value=3.141592653589793, unit=radian), Quantity(value=0.33472, unit=kilojoule/mole)]]\n",
      "2021-05-11 13:49:34,139:(0.00s):relative:hybrid index pair: (65, 64, 79, 80), terms: [[235, 2, Quantity(value=3.141592653589793, unit=radian), Quantity(value=10.46, unit=kilojoule/mole)]], new term collector key: (65, 64, 79, 80), term: [[262, 2, Quantity(value=3.141592653589793, unit=radian), Quantity(value=10.46, unit=kilojoule/mole)]]\n",
      "2021-05-11 13:49:34,140:(0.00s):relative:hybrid index pair: (65, 64, 79, 85), terms: [[236, 2, Quantity(value=3.141592653589793, unit=radian), Quantity(value=10.46, unit=kilojoule/mole)], [237, 1, Quantity(value=0.0, unit=radian), Quantity(value=8.368, unit=kilojoule/mole)]], new term collector key: (65, 64, 79, 85), term: [[263, 2, Quantity(value=3.141592653589793, unit=radian), Quantity(value=10.46, unit=kilojoule/mole)], [264, 1, Quantity(value=0.0, unit=radian), Quantity(value=8.368, unit=kilojoule/mole)]]\n",
      "2021-05-11 13:49:34,141:(0.00s):relative:hybrid index pair: (66, 63, 64, 79), terms: [[238, 3, Quantity(value=0.0, unit=radian), Quantity(value=1.6736000000000002, unit=kilojoule/mole)], [239, 2, Quantity(value=0.0, unit=radian), Quantity(value=0.8368000000000001, unit=kilojoule/mole)], [240, 1, Quantity(value=0.0, unit=radian), Quantity(value=0.8368000000000001, unit=kilojoule/mole)]], new term collector key: (66, 63, 64, 79), term: [[265, 3, Quantity(value=0.0, unit=radian), Quantity(value=1.6736000000000002, unit=kilojoule/mole)], [266, 2, Quantity(value=0.0, unit=radian), Quantity(value=0.8368000000000001, unit=kilojoule/mole)], [267, 1, Quantity(value=0.0, unit=radian), Quantity(value=0.8368000000000001, unit=kilojoule/mole)]]\n",
      "2021-05-11 13:49:34,142:(0.00s):relative:hybrid index pair: (66, 67, 68, 69), terms: [[241, 4, Quantity(value=0.0, unit=radian), Quantity(value=0.17572800000000002, unit=kilojoule/mole)], [242, 3, Quantity(value=3.141592653589793, unit=radian), Quantity(value=0.35564000000000007, unit=kilojoule/mole)], [243, 2, Quantity(value=3.141592653589793, unit=radian), Quantity(value=3.53548, unit=kilojoule/mole)], [244, 1, Quantity(value=3.141592653589793, unit=radian), Quantity(value=2.548056, unit=kilojoule/mole)]], new term collector key: (66, 67, 68, 69), term: [[268, 4, Quantity(value=0.0, unit=radian), Quantity(value=0.17572800000000002, unit=kilojoule/mole)], [269, 3, Quantity(value=3.141592653589793, unit=radian), Quantity(value=0.35564000000000007, unit=kilojoule/mole)], [270, 2, Quantity(value=3.141592653589793, unit=radian), Quantity(value=3.53548, unit=kilojoule/mole)], [271, 1, Quantity(value=3.141592653589793, unit=radian), Quantity(value=2.548056, unit=kilojoule/mole)]]\n",
      "2021-05-11 13:49:34,143:(0.00s):relative:hybrid index pair: (67, 66, 63, 72), terms: [[245, 3, Quantity(value=0.0, unit=radian), Quantity(value=0.6508444444444444, unit=kilojoule/mole)]], new term collector key: (67, 66, 63, 72), term: [[272, 3, Quantity(value=0.0, unit=radian), Quantity(value=0.6508444444444444, unit=kilojoule/mole)]]\n",
      "2021-05-11 13:49:34,143:(0.00s):relative:hybrid index pair: (67, 68, 69, 77), terms: [[246, 2, Quantity(value=3.141592653589793, unit=radian), Quantity(value=10.46, unit=kilojoule/mole)]], new term collector key: (67, 68, 69, 77), term: [[273, 2, Quantity(value=3.141592653589793, unit=radian), Quantity(value=10.46, unit=kilojoule/mole)]]\n",
      "2021-05-11 13:49:34,144:(0.00s):relative:hybrid index pair: (67, 68, 69, 78), terms: [[247, 2, Quantity(value=3.141592653589793, unit=radian), Quantity(value=10.46, unit=kilojoule/mole)]], new term collector key: (67, 68, 69, 78), term: [[274, 2, Quantity(value=3.141592653589793, unit=radian), Quantity(value=10.46, unit=kilojoule/mole)]]\n"
     ]
    },
    {
     "name": "stderr",
     "output_type": "stream",
     "text": [
      "2021-05-11 13:49:34,145:(0.00s):relative:hybrid index pair: (68, 67, 66, 73), terms: [[248, 3, Quantity(value=0.0, unit=radian), Quantity(value=0.6508444444444444, unit=kilojoule/mole)]], new term collector key: (68, 67, 66, 73), term: [[275, 3, Quantity(value=0.0, unit=radian), Quantity(value=0.6508444444444444, unit=kilojoule/mole)]]\n",
      "2021-05-11 13:49:34,146:(0.00s):relative:hybrid index pair: (68, 67, 66, 74), terms: [[249, 3, Quantity(value=0.0, unit=radian), Quantity(value=0.6508444444444444, unit=kilojoule/mole)]], new term collector key: (68, 67, 66, 74), term: [[276, 3, Quantity(value=0.0, unit=radian), Quantity(value=0.6508444444444444, unit=kilojoule/mole)]]\n",
      "2021-05-11 13:49:34,147:(0.00s):relative:hybrid index pair: (70, 68, 67, 75), terms: [[250, 3, Quantity(value=3.141592653589793, unit=radian), Quantity(value=0.33472, unit=kilojoule/mole)], [251, 1, Quantity(value=0.0, unit=radian), Quantity(value=3.3472000000000004, unit=kilojoule/mole)]], new term collector key: (70, 68, 67, 75), term: [[277, 3, Quantity(value=3.141592653589793, unit=radian), Quantity(value=0.33472, unit=kilojoule/mole)], [278, 1, Quantity(value=0.0, unit=radian), Quantity(value=3.3472000000000004, unit=kilojoule/mole)]]\n",
      "2021-05-11 13:49:34,148:(0.00s):relative:hybrid index pair: (70, 68, 67, 76), terms: [[252, 3, Quantity(value=3.141592653589793, unit=radian), Quantity(value=0.33472, unit=kilojoule/mole)], [253, 1, Quantity(value=0.0, unit=radian), Quantity(value=3.3472000000000004, unit=kilojoule/mole)]], new term collector key: (70, 68, 67, 76), term: [[279, 3, Quantity(value=3.141592653589793, unit=radian), Quantity(value=0.33472, unit=kilojoule/mole)], [280, 1, Quantity(value=0.0, unit=radian), Quantity(value=3.3472000000000004, unit=kilojoule/mole)]]\n",
      "2021-05-11 13:49:34,149:(0.00s):relative:hybrid index pair: (70, 68, 69, 77), terms: [[254, 2, Quantity(value=3.141592653589793, unit=radian), Quantity(value=10.46, unit=kilojoule/mole)], [255, 1, Quantity(value=0.0, unit=radian), Quantity(value=8.368, unit=kilojoule/mole)]], new term collector key: (70, 68, 69, 77), term: [[281, 2, Quantity(value=3.141592653589793, unit=radian), Quantity(value=10.46, unit=kilojoule/mole)], [282, 1, Quantity(value=0.0, unit=radian), Quantity(value=8.368, unit=kilojoule/mole)]]\n",
      "2021-05-11 13:49:34,149:(0.00s):relative:hybrid index pair: (70, 68, 69, 78), terms: [[256, 2, Quantity(value=3.141592653589793, unit=radian), Quantity(value=10.46, unit=kilojoule/mole)], [257, 1, Quantity(value=0.0, unit=radian), Quantity(value=8.368, unit=kilojoule/mole)]], new term collector key: (70, 68, 69, 78), term: [[283, 2, Quantity(value=3.141592653589793, unit=radian), Quantity(value=10.46, unit=kilojoule/mole)], [284, 1, Quantity(value=0.0, unit=radian), Quantity(value=8.368, unit=kilojoule/mole)]]\n",
      "2021-05-11 13:49:34,150:(0.00s):relative:hybrid index pair: (72, 63, 66, 73), terms: [[258, 3, Quantity(value=0.0, unit=radian), Quantity(value=0.6508444444444444, unit=kilojoule/mole)]], new term collector key: (72, 63, 66, 73), term: [[285, 3, Quantity(value=0.0, unit=radian), Quantity(value=0.6508444444444444, unit=kilojoule/mole)]]\n",
      "2021-05-11 13:49:34,151:(0.00s):relative:hybrid index pair: (72, 63, 66, 74), terms: [[259, 3, Quantity(value=0.0, unit=radian), Quantity(value=0.6508444444444444, unit=kilojoule/mole)]], new term collector key: (72, 63, 66, 74), term: [[286, 3, Quantity(value=0.0, unit=radian), Quantity(value=0.6508444444444444, unit=kilojoule/mole)]]\n",
      "2021-05-11 13:49:34,152:(0.00s):relative:hybrid index pair: (73, 66, 67, 75), terms: [[260, 3, Quantity(value=0.0, unit=radian), Quantity(value=0.6276, unit=kilojoule/mole)]], new term collector key: (73, 66, 67, 75), term: [[287, 3, Quantity(value=0.0, unit=radian), Quantity(value=0.6276, unit=kilojoule/mole)]]\n",
      "2021-05-11 13:49:34,153:(0.00s):relative:hybrid index pair: (73, 66, 67, 76), terms: [[261, 3, Quantity(value=0.0, unit=radian), Quantity(value=0.6276, unit=kilojoule/mole)]], new term collector key: (73, 66, 67, 76), term: [[288, 3, Quantity(value=0.0, unit=radian), Quantity(value=0.6276, unit=kilojoule/mole)]]\n",
      "2021-05-11 13:49:34,154:(0.00s):relative:hybrid index pair: (74, 66, 67, 75), terms: [[262, 3, Quantity(value=0.0, unit=radian), Quantity(value=0.6276, unit=kilojoule/mole)]], new term collector key: (74, 66, 67, 75), term: [[289, 3, Quantity(value=0.0, unit=radian), Quantity(value=0.6276, unit=kilojoule/mole)]]\n",
      "2021-05-11 13:49:34,167:(0.01s):relative:hybrid index pair: (74, 66, 67, 76), terms: [[263, 3, Quantity(value=0.0, unit=radian), Quantity(value=0.6276, unit=kilojoule/mole)]], new term collector key: (74, 66, 67, 76), term: [[290, 3, Quantity(value=0.0, unit=radian), Quantity(value=0.6276, unit=kilojoule/mole)]]\n",
      "2021-05-11 13:49:34,168:(0.00s):relative:hybrid index pair: (79, 80, 81, 90), terms: [[264, 3, Quantity(value=3.141592653589793, unit=radian), Quantity(value=2.3012, unit=kilojoule/mole)], [265, 2, Quantity(value=3.141592653589793, unit=radian), Quantity(value=6.610720000000001, unit=kilojoule/mole)], [266, 1, Quantity(value=3.141592653589793, unit=radian), Quantity(value=1.8828, unit=kilojoule/mole)]], new term collector key: (79, 80, 81, 90), term: [[291, 3, Quantity(value=3.141592653589793, unit=radian), Quantity(value=2.3012, unit=kilojoule/mole)], [292, 2, Quantity(value=3.141592653589793, unit=radian), Quantity(value=6.610720000000001, unit=kilojoule/mole)], [293, 1, Quantity(value=3.141592653589793, unit=radian), Quantity(value=1.8828, unit=kilojoule/mole)]]\n",
      "2021-05-11 13:49:34,169:(0.00s):relative:hybrid index pair: (79, 80, 83, 84), terms: [[267, 4, Quantity(value=0.0, unit=radian), Quantity(value=0.66944, unit=kilojoule/mole)], [268, 3, Quantity(value=0.0, unit=radian), Quantity(value=1.6777840000000002, unit=kilojoule/mole)], [269, 2, Quantity(value=3.141592653589793, unit=radian), Quantity(value=1.029264, unit=kilojoule/mole)], [270, 1, Quantity(value=0.0, unit=radian), Quantity(value=2.786544, unit=kilojoule/mole)]], new term collector key: (79, 80, 83, 84), term: [[294, 4, Quantity(value=0.0, unit=radian), Quantity(value=0.66944, unit=kilojoule/mole)], [295, 3, Quantity(value=0.0, unit=radian), Quantity(value=1.6777840000000002, unit=kilojoule/mole)], [296, 2, Quantity(value=3.141592653589793, unit=radian), Quantity(value=1.029264, unit=kilojoule/mole)], [297, 1, Quantity(value=0.0, unit=radian), Quantity(value=2.786544, unit=kilojoule/mole)]]\n",
      "2021-05-11 13:49:34,170:(0.00s):relative:hybrid index pair: (79, 80, 83, 87), terms: [[271, 3, Quantity(value=0.0, unit=radian), Quantity(value=0.6508444444444444, unit=kilojoule/mole)]], new term collector key: (79, 80, 83, 87), term: [[298, 3, Quantity(value=0.0, unit=radian), Quantity(value=0.6508444444444444, unit=kilojoule/mole)]]\n",
      "2021-05-11 13:49:34,171:(0.00s):relative:hybrid index pair: (79, 80, 83, 88), terms: [[272, 3, Quantity(value=0.0, unit=radian), Quantity(value=0.6508444444444444, unit=kilojoule/mole)]], new term collector key: (79, 80, 83, 88), term: [[299, 3, Quantity(value=0.0, unit=radian), Quantity(value=0.6508444444444444, unit=kilojoule/mole)]]\n",
      "2021-05-11 13:49:34,171:(0.00s):relative:hybrid index pair: (80, 81, 90, 91), terms: [[273, 2, Quantity(value=3.141592653589793, unit=radian), Quantity(value=10.46, unit=kilojoule/mole)]], new term collector key: (80, 81, 90, 91), term: [[300, 2, Quantity(value=3.141592653589793, unit=radian), Quantity(value=10.46, unit=kilojoule/mole)]]\n",
      "2021-05-11 13:49:34,172:(0.00s):relative:hybrid index pair: (80, 81, 90, 94), terms: [[274, 2, Quantity(value=3.141592653589793, unit=radian), Quantity(value=10.46, unit=kilojoule/mole)]], new term collector key: (80, 81, 90, 94), term: [[301, 2, Quantity(value=3.141592653589793, unit=radian), Quantity(value=10.46, unit=kilojoule/mole)]]\n",
      "2021-05-11 13:49:34,173:(0.00s):relative:hybrid index pair: (80, 83, 84, 89), terms: [[275, 4, Quantity(value=0.0, unit=radian), Quantity(value=0.029288, unit=kilojoule/mole)], [276, 3, Quantity(value=0.0, unit=radian), Quantity(value=1.1171280000000001, unit=kilojoule/mole)], [277, 2, Quantity(value=0.0, unit=radian), Quantity(value=1.857696, unit=kilojoule/mole)], [278, 1, Quantity(value=0.0, unit=radian), Quantity(value=0.882824, unit=kilojoule/mole)]], new term collector key: (80, 83, 84, 89), term: [[302, 4, Quantity(value=0.0, unit=radian), Quantity(value=0.029288, unit=kilojoule/mole)], [303, 3, Quantity(value=0.0, unit=radian), Quantity(value=1.1171280000000001, unit=kilojoule/mole)], [304, 2, Quantity(value=0.0, unit=radian), Quantity(value=1.857696, unit=kilojoule/mole)], [305, 1, Quantity(value=0.0, unit=radian), Quantity(value=0.882824, unit=kilojoule/mole)]]\n"
     ]
    },
    {
     "name": "stderr",
     "output_type": "stream",
     "text": [
      "2021-05-11 13:49:34,174:(0.00s):relative:hybrid index pair: (81, 80, 83, 84), terms: [[279, 4, Quantity(value=0.0, unit=radian), Quantity(value=0.539736, unit=kilojoule/mole)], [280, 3, Quantity(value=0.0, unit=radian), Quantity(value=1.6777840000000002, unit=kilojoule/mole)], [281, 2, Quantity(value=3.141592653589793, unit=radian), Quantity(value=0.912112, unit=kilojoule/mole)], [282, 1, Quantity(value=3.141592653589793, unit=radian), Quantity(value=2.7656240000000003, unit=kilojoule/mole)]], new term collector key: (81, 80, 83, 84), term: [[306, 4, Quantity(value=0.0, unit=radian), Quantity(value=0.539736, unit=kilojoule/mole)], [307, 3, Quantity(value=0.0, unit=radian), Quantity(value=1.6777840000000002, unit=kilojoule/mole)], [308, 2, Quantity(value=3.141592653589793, unit=radian), Quantity(value=0.912112, unit=kilojoule/mole)], [309, 1, Quantity(value=3.141592653589793, unit=radian), Quantity(value=2.7656240000000003, unit=kilojoule/mole)]]\n",
      "2021-05-11 13:49:34,175:(0.00s):relative:hybrid index pair: (81, 80, 83, 87), terms: [[283, 3, Quantity(value=0.0, unit=radian), Quantity(value=0.6508444444444444, unit=kilojoule/mole)]], new term collector key: (81, 80, 83, 87), term: [[310, 3, Quantity(value=0.0, unit=radian), Quantity(value=0.6508444444444444, unit=kilojoule/mole)]]\n",
      "2021-05-11 13:49:34,176:(0.00s):relative:hybrid index pair: (81, 80, 83, 88), terms: [[284, 3, Quantity(value=0.0, unit=radian), Quantity(value=0.6508444444444444, unit=kilojoule/mole)]], new term collector key: (81, 80, 83, 88), term: [[311, 3, Quantity(value=0.0, unit=radian), Quantity(value=0.6508444444444444, unit=kilojoule/mole)]]\n",
      "2021-05-11 13:49:34,177:(0.00s):relative:hybrid index pair: (81, 90, 91, 92), terms: [[285, 3, Quantity(value=0.0, unit=radian), Quantity(value=1.75728, unit=kilojoule/mole)], [286, 2, Quantity(value=0.0, unit=radian), Quantity(value=1.12968, unit=kilojoule/mole)]], new term collector key: (81, 90, 91, 92), term: [[312, 3, Quantity(value=0.0, unit=radian), Quantity(value=1.75728, unit=kilojoule/mole)], [313, 2, Quantity(value=0.0, unit=radian), Quantity(value=1.12968, unit=kilojoule/mole)]]\n",
      "2021-05-11 13:49:34,178:(0.00s):relative:hybrid index pair: (82, 81, 80, 86), terms: [[287, 1, Quantity(value=0.0, unit=radian), Quantity(value=3.3472000000000004, unit=kilojoule/mole)], [288, 3, Quantity(value=3.141592653589793, unit=radian), Quantity(value=0.33472, unit=kilojoule/mole)]], new term collector key: (82, 81, 80, 86), term: [[314, 1, Quantity(value=0.0, unit=radian), Quantity(value=3.3472000000000004, unit=kilojoule/mole)], [315, 3, Quantity(value=3.141592653589793, unit=radian), Quantity(value=0.33472, unit=kilojoule/mole)]]\n",
      "2021-05-11 13:49:34,179:(0.00s):relative:hybrid index pair: (82, 81, 90, 91), terms: [[289, 2, Quantity(value=3.141592653589793, unit=radian), Quantity(value=10.46, unit=kilojoule/mole)]], new term collector key: (82, 81, 90, 91), term: [[316, 2, Quantity(value=3.141592653589793, unit=radian), Quantity(value=10.46, unit=kilojoule/mole)]]\n",
      "2021-05-11 13:49:34,180:(0.00s):relative:hybrid index pair: (82, 81, 90, 94), terms: [[290, 2, Quantity(value=3.141592653589793, unit=radian), Quantity(value=10.46, unit=kilojoule/mole)], [291, 1, Quantity(value=0.0, unit=radian), Quantity(value=8.368, unit=kilojoule/mole)]], new term collector key: (82, 81, 90, 94), term: [[317, 2, Quantity(value=3.141592653589793, unit=radian), Quantity(value=10.46, unit=kilojoule/mole)], [318, 1, Quantity(value=0.0, unit=radian), Quantity(value=8.368, unit=kilojoule/mole)]]\n",
      "2021-05-11 13:49:34,181:(0.00s):relative:hybrid index pair: (83, 80, 81, 90), terms: [[292, 3, Quantity(value=0.0, unit=radian), Quantity(value=1.6736000000000002, unit=kilojoule/mole)], [293, 2, Quantity(value=0.0, unit=radian), Quantity(value=0.8368000000000001, unit=kilojoule/mole)], [294, 1, Quantity(value=0.0, unit=radian), Quantity(value=0.8368000000000001, unit=kilojoule/mole)]], new term collector key: (83, 80, 81, 90), term: [[319, 3, Quantity(value=0.0, unit=radian), Quantity(value=1.6736000000000002, unit=kilojoule/mole)], [320, 2, Quantity(value=0.0, unit=radian), Quantity(value=0.8368000000000001, unit=kilojoule/mole)], [321, 1, Quantity(value=0.0, unit=radian), Quantity(value=0.8368000000000001, unit=kilojoule/mole)]]\n",
      "2021-05-11 13:49:34,181:(0.00s):relative:hybrid index pair: (84, 83, 80, 86), terms: [[295, 1, Quantity(value=0.0, unit=radian), Quantity(value=1.046, unit=kilojoule/mole)]], new term collector key: (84, 83, 80, 86), term: [[322, 1, Quantity(value=0.0, unit=radian), Quantity(value=1.046, unit=kilojoule/mole)]]\n",
      "2021-05-11 13:49:34,182:(0.00s):relative:hybrid index pair: (86, 80, 83, 87), terms: [[296, 3, Quantity(value=0.0, unit=radian), Quantity(value=0.6508444444444444, unit=kilojoule/mole)]], new term collector key: (86, 80, 83, 87), term: [[323, 3, Quantity(value=0.0, unit=radian), Quantity(value=0.6508444444444444, unit=kilojoule/mole)]]\n",
      "2021-05-11 13:49:34,183:(0.00s):relative:hybrid index pair: (86, 80, 83, 88), terms: [[297, 3, Quantity(value=0.0, unit=radian), Quantity(value=0.6508444444444444, unit=kilojoule/mole)]], new term collector key: (86, 80, 83, 88), term: [[324, 3, Quantity(value=0.0, unit=radian), Quantity(value=0.6508444444444444, unit=kilojoule/mole)]]\n",
      "2021-05-11 13:49:34,184:(0.00s):relative:hybrid index pair: (87, 83, 84, 89), terms: [[298, 3, Quantity(value=0.0, unit=radian), Quantity(value=0.6973333333333334, unit=kilojoule/mole)]], new term collector key: (87, 83, 84, 89), term: [[325, 3, Quantity(value=0.0, unit=radian), Quantity(value=0.6973333333333334, unit=kilojoule/mole)]]\n",
      "2021-05-11 13:49:34,185:(0.00s):relative:hybrid index pair: (88, 83, 84, 89), terms: [[299, 3, Quantity(value=0.0, unit=radian), Quantity(value=0.6973333333333334, unit=kilojoule/mole)]], new term collector key: (88, 83, 84, 89), term: [[326, 3, Quantity(value=0.0, unit=radian), Quantity(value=0.6973333333333334, unit=kilojoule/mole)]]\n",
      "2021-05-11 13:49:34,186:(0.00s):relative:hybrid index pair: (90, 91, 92, 97), terms: [[300, 3, Quantity(value=3.141592653589793, unit=radian), Quantity(value=2.3012, unit=kilojoule/mole)], [301, 2, Quantity(value=3.141592653589793, unit=radian), Quantity(value=6.610720000000001, unit=kilojoule/mole)], [302, 1, Quantity(value=3.141592653589793, unit=radian), Quantity(value=1.8828, unit=kilojoule/mole)]], new term collector key: (90, 91, 92, 97), term: [[327, 3, Quantity(value=3.141592653589793, unit=radian), Quantity(value=2.3012, unit=kilojoule/mole)], [328, 2, Quantity(value=3.141592653589793, unit=radian), Quantity(value=6.610720000000001, unit=kilojoule/mole)], [329, 1, Quantity(value=3.141592653589793, unit=radian), Quantity(value=1.8828, unit=kilojoule/mole)]]\n",
      "2021-05-11 13:49:34,187:(0.00s):relative:hybrid index pair: (91, 92, 97, 98), terms: [[303, 2, Quantity(value=3.141592653589793, unit=radian), Quantity(value=10.46, unit=kilojoule/mole)]], new term collector key: (91, 92, 97, 98), term: [[330, 2, Quantity(value=3.141592653589793, unit=radian), Quantity(value=10.46, unit=kilojoule/mole)]]\n",
      "2021-05-11 13:49:34,187:(0.00s):relative:hybrid index pair: (91, 92, 97, 108), terms: [[304, 2, Quantity(value=3.141592653589793, unit=radian), Quantity(value=10.46, unit=kilojoule/mole)]], new term collector key: (91, 92, 97, 108), term: [[331, 2, Quantity(value=3.141592653589793, unit=radian), Quantity(value=10.46, unit=kilojoule/mole)]]\n",
      "2021-05-11 13:49:34,188:(0.00s):relative:hybrid index pair: (92, 97, 98, 99), terms: [[305, 3, Quantity(value=0.0, unit=radian), Quantity(value=1.75728, unit=kilojoule/mole)], [306, 2, Quantity(value=0.0, unit=radian), Quantity(value=1.12968, unit=kilojoule/mole)]], new term collector key: (92, 97, 98, 99), term: [[332, 3, Quantity(value=0.0, unit=radian), Quantity(value=1.75728, unit=kilojoule/mole)], [333, 2, Quantity(value=0.0, unit=radian), Quantity(value=1.12968, unit=kilojoule/mole)]]\n",
      "2021-05-11 13:49:34,189:(0.00s):relative:hybrid index pair: (92, 97, 98, 101), terms: [[307, 3, Quantity(value=0.0, unit=radian), Quantity(value=3.3472000000000004, unit=kilojoule/mole)], [308, 2, Quantity(value=0.0, unit=radian), Quantity(value=7.5312, unit=kilojoule/mole)], [309, 1, Quantity(value=0.0, unit=radian), Quantity(value=8.368, unit=kilojoule/mole)]], new term collector key: (92, 97, 98, 101), term: [[334, 3, Quantity(value=0.0, unit=radian), Quantity(value=3.3472000000000004, unit=kilojoule/mole)], [335, 2, Quantity(value=0.0, unit=radian), Quantity(value=7.5312, unit=kilojoule/mole)], [336, 1, Quantity(value=0.0, unit=radian), Quantity(value=8.368, unit=kilojoule/mole)]]\n"
     ]
    },
    {
     "name": "stderr",
     "output_type": "stream",
     "text": [
      "2021-05-11 13:49:34,190:(0.00s):relative:hybrid index pair: (93, 92, 91, 95), terms: [[310, 1, Quantity(value=0.0, unit=radian), Quantity(value=3.3472000000000004, unit=kilojoule/mole)], [311, 3, Quantity(value=3.141592653589793, unit=radian), Quantity(value=0.33472, unit=kilojoule/mole)]], new term collector key: (93, 92, 91, 95), term: [[337, 1, Quantity(value=0.0, unit=radian), Quantity(value=3.3472000000000004, unit=kilojoule/mole)], [338, 3, Quantity(value=3.141592653589793, unit=radian), Quantity(value=0.33472, unit=kilojoule/mole)]]\n",
      "2021-05-11 13:49:34,191:(0.00s):relative:hybrid index pair: (93, 92, 91, 96), terms: [[312, 1, Quantity(value=0.0, unit=radian), Quantity(value=3.3472000000000004, unit=kilojoule/mole)], [313, 3, Quantity(value=3.141592653589793, unit=radian), Quantity(value=0.33472, unit=kilojoule/mole)]], new term collector key: (93, 92, 91, 96), term: [[339, 1, Quantity(value=0.0, unit=radian), Quantity(value=3.3472000000000004, unit=kilojoule/mole)], [340, 3, Quantity(value=3.141592653589793, unit=radian), Quantity(value=0.33472, unit=kilojoule/mole)]]\n",
      "2021-05-11 13:49:34,204:(0.01s):relative:hybrid index pair: (93, 92, 97, 98), terms: [[314, 2, Quantity(value=3.141592653589793, unit=radian), Quantity(value=10.46, unit=kilojoule/mole)]], new term collector key: (93, 92, 97, 98), term: [[341, 2, Quantity(value=3.141592653589793, unit=radian), Quantity(value=10.46, unit=kilojoule/mole)]]\n",
      "2021-05-11 13:49:34,205:(0.00s):relative:hybrid index pair: (93, 92, 97, 108), terms: [[315, 2, Quantity(value=3.141592653589793, unit=radian), Quantity(value=10.46, unit=kilojoule/mole)], [316, 1, Quantity(value=0.0, unit=radian), Quantity(value=8.368, unit=kilojoule/mole)]], new term collector key: (93, 92, 97, 108), term: [[342, 2, Quantity(value=3.141592653589793, unit=radian), Quantity(value=10.46, unit=kilojoule/mole)], [343, 1, Quantity(value=0.0, unit=radian), Quantity(value=8.368, unit=kilojoule/mole)]]\n",
      "2021-05-11 13:49:34,206:(0.00s):relative:hybrid index pair: (97, 98, 99, 117), terms: [[317, 3, Quantity(value=3.141592653589793, unit=radian), Quantity(value=2.3012, unit=kilojoule/mole)], [318, 2, Quantity(value=3.141592653589793, unit=radian), Quantity(value=6.610720000000001, unit=kilojoule/mole)], [319, 1, Quantity(value=3.141592653589793, unit=radian), Quantity(value=1.8828, unit=kilojoule/mole)]], new term collector key: (97, 98, 99, 117), term: [[344, 3, Quantity(value=3.141592653589793, unit=radian), Quantity(value=2.3012, unit=kilojoule/mole)], [345, 2, Quantity(value=3.141592653589793, unit=radian), Quantity(value=6.610720000000001, unit=kilojoule/mole)], [346, 1, Quantity(value=3.141592653589793, unit=radian), Quantity(value=1.8828, unit=kilojoule/mole)]]\n",
      "2021-05-11 13:49:34,207:(0.00s):relative:hybrid index pair: (97, 98, 101, 102), terms: [[320, 4, Quantity(value=3.141592653589793, unit=radian), Quantity(value=0.029288, unit=kilojoule/mole)], [321, 3, Quantity(value=0.0, unit=radian), Quantity(value=0.803328, unit=kilojoule/mole)], [322, 2, Quantity(value=3.141592653589793, unit=radian), Quantity(value=1.21336, unit=kilojoule/mole)], [323, 1, Quantity(value=3.141592653589793, unit=radian), Quantity(value=0.050208, unit=kilojoule/mole)]], new term collector key: (97, 98, 101, 102), term: [[347, 4, Quantity(value=3.141592653589793, unit=radian), Quantity(value=0.029288, unit=kilojoule/mole)], [348, 3, Quantity(value=0.0, unit=radian), Quantity(value=0.803328, unit=kilojoule/mole)], [349, 2, Quantity(value=3.141592653589793, unit=radian), Quantity(value=1.21336, unit=kilojoule/mole)], [350, 1, Quantity(value=3.141592653589793, unit=radian), Quantity(value=0.050208, unit=kilojoule/mole)]]\n",
      "2021-05-11 13:49:34,208:(0.00s):relative:hybrid index pair: (97, 98, 101, 110), terms: [[324, 3, Quantity(value=0.0, unit=radian), Quantity(value=0.6508444444444444, unit=kilojoule/mole)]], new term collector key: (97, 98, 101, 110), term: [[351, 3, Quantity(value=0.0, unit=radian), Quantity(value=0.6508444444444444, unit=kilojoule/mole)]]\n",
      "2021-05-11 13:49:34,209:(0.00s):relative:hybrid index pair: (97, 98, 101, 111), terms: [[325, 3, Quantity(value=0.0, unit=radian), Quantity(value=0.6508444444444444, unit=kilojoule/mole)]], new term collector key: (97, 98, 101, 111), term: [[352, 3, Quantity(value=0.0, unit=radian), Quantity(value=0.6508444444444444, unit=kilojoule/mole)]]\n",
      "2021-05-11 13:49:34,210:(0.00s):relative:hybrid index pair: (98, 99, 117, 118), terms: [[326, 2, Quantity(value=3.141592653589793, unit=radian), Quantity(value=10.46, unit=kilojoule/mole)]], new term collector key: (98, 99, 117, 118), term: [[353, 2, Quantity(value=3.141592653589793, unit=radian), Quantity(value=10.46, unit=kilojoule/mole)]]\n",
      "2021-05-11 13:49:34,210:(0.00s):relative:hybrid index pair: (98, 99, 117, 119), terms: [[327, 2, Quantity(value=3.141592653589793, unit=radian), Quantity(value=10.46, unit=kilojoule/mole)]], new term collector key: (98, 99, 117, 119), term: [[354, 2, Quantity(value=3.141592653589793, unit=radian), Quantity(value=10.46, unit=kilojoule/mole)]]\n",
      "2021-05-11 13:49:34,211:(0.00s):relative:hybrid index pair: (98, 101, 102, 103), terms: [[328, 4, Quantity(value=3.141592653589793, unit=radian), Quantity(value=0.200832, unit=kilojoule/mole)], [329, 2, Quantity(value=3.141592653589793, unit=radian), Quantity(value=0.288696, unit=kilojoule/mole)]], new term collector key: (98, 101, 102, 103), term: [[355, 4, Quantity(value=3.141592653589793, unit=radian), Quantity(value=0.200832, unit=kilojoule/mole)], [356, 2, Quantity(value=3.141592653589793, unit=radian), Quantity(value=0.288696, unit=kilojoule/mole)]]\n",
      "2021-05-11 13:49:34,212:(0.00s):relative:hybrid index pair: (98, 101, 102, 104), terms: [[330, 4, Quantity(value=3.141592653589793, unit=radian), Quantity(value=0.200832, unit=kilojoule/mole)], [331, 2, Quantity(value=3.141592653589793, unit=radian), Quantity(value=0.288696, unit=kilojoule/mole)]], new term collector key: (98, 101, 102, 104), term: [[357, 4, Quantity(value=3.141592653589793, unit=radian), Quantity(value=0.200832, unit=kilojoule/mole)], [358, 2, Quantity(value=3.141592653589793, unit=radian), Quantity(value=0.288696, unit=kilojoule/mole)]]\n",
      "2021-05-11 13:49:34,213:(0.00s):relative:hybrid index pair: (99, 98, 101, 102), terms: [[332, 4, Quantity(value=3.141592653589793, unit=radian), Quantity(value=0.050208, unit=kilojoule/mole)], [333, 3, Quantity(value=0.0, unit=radian), Quantity(value=0.803328, unit=kilojoule/mole)], [334, 2, Quantity(value=3.141592653589793, unit=radian), Quantity(value=1.962296, unit=kilojoule/mole)], [335, 1, Quantity(value=0.0, unit=radian), Quantity(value=0.23012000000000002, unit=kilojoule/mole)]], new term collector key: (99, 98, 101, 102), term: [[359, 4, Quantity(value=3.141592653589793, unit=radian), Quantity(value=0.050208, unit=kilojoule/mole)], [360, 3, Quantity(value=0.0, unit=radian), Quantity(value=0.803328, unit=kilojoule/mole)], [361, 2, Quantity(value=3.141592653589793, unit=radian), Quantity(value=1.962296, unit=kilojoule/mole)], [362, 1, Quantity(value=0.0, unit=radian), Quantity(value=0.23012000000000002, unit=kilojoule/mole)]]\n",
      "2021-05-11 13:49:34,214:(0.00s):relative:hybrid index pair: (99, 98, 101, 110), terms: [[336, 3, Quantity(value=0.0, unit=radian), Quantity(value=0.6508444444444444, unit=kilojoule/mole)]], new term collector key: (99, 98, 101, 110), term: [[363, 3, Quantity(value=0.0, unit=radian), Quantity(value=0.6508444444444444, unit=kilojoule/mole)]]\n",
      "2021-05-11 13:49:34,215:(0.00s):relative:hybrid index pair: (99, 98, 101, 111), terms: [[337, 3, Quantity(value=0.0, unit=radian), Quantity(value=0.6508444444444444, unit=kilojoule/mole)]], new term collector key: (99, 98, 101, 111), term: [[364, 3, Quantity(value=0.0, unit=radian), Quantity(value=0.6508444444444444, unit=kilojoule/mole)]]\n",
      "2021-05-11 13:49:34,216:(0.00s):relative:hybrid index pair: (100, 99, 98, 109), terms: [[338, 1, Quantity(value=0.0, unit=radian), Quantity(value=3.3472000000000004, unit=kilojoule/mole)], [339, 3, Quantity(value=3.141592653589793, unit=radian), Quantity(value=0.33472, unit=kilojoule/mole)]], new term collector key: (100, 99, 98, 109), term: [[365, 1, Quantity(value=0.0, unit=radian), Quantity(value=3.3472000000000004, unit=kilojoule/mole)], [366, 3, Quantity(value=3.141592653589793, unit=radian), Quantity(value=0.33472, unit=kilojoule/mole)]]\n"
     ]
    },
    {
     "name": "stdout",
     "output_type": "stream",
     "text": [
      "( nonscale_lambda_bonds * nonscale_region ) * (K/2)*(r-length)^2;K = ( 1 * environment_region+lambda_0_bonds_old * alchemical_region_0 ) * K1 + ( 1 * environment_region+lambda_0_bonds_new * alchemical_region_0 ) * K2;length = ( 1 * environment_region+lambda_0_bonds_old * alchemical_region_0 ) * length1 + ( 1 * environment_region+lambda_0_bonds_new * alchemical_region_0 ) * length2;\n"
     ]
    },
    {
     "name": "stderr",
     "output_type": "stream",
     "text": [
      "2021-05-11 13:49:34,217:(0.00s):relative:hybrid index pair: (100, 99, 117, 118), terms: [[340, 2, Quantity(value=3.141592653589793, unit=radian), Quantity(value=10.46, unit=kilojoule/mole)]], new term collector key: (100, 99, 117, 118), term: [[367, 2, Quantity(value=3.141592653589793, unit=radian), Quantity(value=10.46, unit=kilojoule/mole)]]\n",
      "2021-05-11 13:49:34,218:(0.00s):relative:hybrid index pair: (100, 99, 117, 119), terms: [[341, 2, Quantity(value=3.141592653589793, unit=radian), Quantity(value=10.46, unit=kilojoule/mole)], [342, 1, Quantity(value=0.0, unit=radian), Quantity(value=8.368, unit=kilojoule/mole)]], new term collector key: (100, 99, 117, 119), term: [[368, 2, Quantity(value=3.141592653589793, unit=radian), Quantity(value=10.46, unit=kilojoule/mole)], [369, 1, Quantity(value=0.0, unit=radian), Quantity(value=8.368, unit=kilojoule/mole)]]\n",
      "2021-05-11 13:49:34,219:(0.00s):relative:hybrid index pair: (101, 98, 99, 117), terms: [[343, 3, Quantity(value=0.0, unit=radian), Quantity(value=1.6736000000000002, unit=kilojoule/mole)], [344, 2, Quantity(value=0.0, unit=radian), Quantity(value=0.8368000000000001, unit=kilojoule/mole)], [345, 1, Quantity(value=0.0, unit=radian), Quantity(value=0.8368000000000001, unit=kilojoule/mole)]], new term collector key: (101, 98, 99, 117), term: [[370, 3, Quantity(value=0.0, unit=radian), Quantity(value=1.6736000000000002, unit=kilojoule/mole)], [371, 2, Quantity(value=0.0, unit=radian), Quantity(value=0.8368000000000001, unit=kilojoule/mole)], [372, 1, Quantity(value=0.0, unit=radian), Quantity(value=0.8368000000000001, unit=kilojoule/mole)]]\n",
      "2021-05-11 13:49:34,220:(0.00s):relative:hybrid index pair: (101, 102, 103, 105), terms: [[346, 2, Quantity(value=3.141592653589793, unit=radian), Quantity(value=15.167, unit=kilojoule/mole)]], new term collector key: (101, 102, 103, 105), term: [[373, 2, Quantity(value=3.141592653589793, unit=radian), Quantity(value=15.167, unit=kilojoule/mole)]]\n",
      "2021-05-11 13:49:34,221:(0.00s):relative:hybrid index pair: (101, 102, 103, 112), terms: [[347, 2, Quantity(value=3.141592653589793, unit=radian), Quantity(value=15.167, unit=kilojoule/mole)]], new term collector key: (101, 102, 103, 112), term: [[374, 2, Quantity(value=3.141592653589793, unit=radian), Quantity(value=15.167, unit=kilojoule/mole)]]\n",
      "2021-05-11 13:49:34,221:(0.00s):relative:hybrid index pair: (101, 102, 104, 106), terms: [[348, 2, Quantity(value=3.141592653589793, unit=radian), Quantity(value=15.167, unit=kilojoule/mole)]], new term collector key: (101, 102, 104, 106), term: [[375, 2, Quantity(value=3.141592653589793, unit=radian), Quantity(value=15.167, unit=kilojoule/mole)]]\n",
      "2021-05-11 13:49:34,222:(0.00s):relative:hybrid index pair: (101, 102, 104, 113), terms: [[349, 2, Quantity(value=3.141592653589793, unit=radian), Quantity(value=15.167, unit=kilojoule/mole)]], new term collector key: (101, 102, 104, 113), term: [[376, 2, Quantity(value=3.141592653589793, unit=radian), Quantity(value=15.167, unit=kilojoule/mole)]]\n",
      "2021-05-11 13:49:34,223:(0.00s):relative:hybrid index pair: (102, 101, 98, 109), terms: [[350, 3, Quantity(value=0.0, unit=radian), Quantity(value=0.6508444444444444, unit=kilojoule/mole)]], new term collector key: (102, 101, 98, 109), term: [[377, 3, Quantity(value=0.0, unit=radian), Quantity(value=0.6508444444444444, unit=kilojoule/mole)]]\n",
      "2021-05-11 13:49:34,224:(0.00s):relative:hybrid index pair: (102, 103, 105, 107), terms: [[351, 2, Quantity(value=3.141592653589793, unit=radian), Quantity(value=15.167, unit=kilojoule/mole)]], new term collector key: (102, 103, 105, 107), term: [[378, 2, Quantity(value=3.141592653589793, unit=radian), Quantity(value=15.167, unit=kilojoule/mole)]]\n",
      "2021-05-11 13:49:34,225:(0.00s):relative:hybrid index pair: (102, 103, 105, 114), terms: [[352, 2, Quantity(value=3.141592653589793, unit=radian), Quantity(value=15.167, unit=kilojoule/mole)]], new term collector key: (102, 103, 105, 114), term: [[379, 2, Quantity(value=3.141592653589793, unit=radian), Quantity(value=15.167, unit=kilojoule/mole)]]\n",
      "2021-05-11 13:49:34,226:(0.00s):relative:hybrid index pair: (102, 104, 106, 107), terms: [[353, 2, Quantity(value=3.141592653589793, unit=radian), Quantity(value=15.167, unit=kilojoule/mole)]], new term collector key: (102, 104, 106, 107), term: [[380, 2, Quantity(value=3.141592653589793, unit=radian), Quantity(value=15.167, unit=kilojoule/mole)]]\n",
      "2021-05-11 13:49:34,226:(0.00s):relative:hybrid index pair: (102, 104, 106, 115), terms: [[354, 2, Quantity(value=3.141592653589793, unit=radian), Quantity(value=15.167, unit=kilojoule/mole)]], new term collector key: (102, 104, 106, 115), term: [[381, 2, Quantity(value=3.141592653589793, unit=radian), Quantity(value=15.167, unit=kilojoule/mole)]]\n",
      "2021-05-11 13:49:34,227:(0.00s):relative:hybrid index pair: (103, 102, 104, 106), terms: [[355, 2, Quantity(value=3.141592653589793, unit=radian), Quantity(value=15.167, unit=kilojoule/mole)]], new term collector key: (103, 102, 104, 106), term: [[382, 2, Quantity(value=3.141592653589793, unit=radian), Quantity(value=15.167, unit=kilojoule/mole)]]\n",
      "2021-05-11 13:49:34,228:(0.00s):relative:hybrid index pair: (103, 102, 104, 113), terms: [[356, 2, Quantity(value=3.141592653589793, unit=radian), Quantity(value=15.167, unit=kilojoule/mole)]], new term collector key: (103, 102, 104, 113), term: [[383, 2, Quantity(value=3.141592653589793, unit=radian), Quantity(value=15.167, unit=kilojoule/mole)]]\n",
      "2021-05-11 13:49:34,229:(0.00s):relative:hybrid index pair: (103, 105, 107, 106), terms: [[357, 2, Quantity(value=3.141592653589793, unit=radian), Quantity(value=15.167, unit=kilojoule/mole)]], new term collector key: (103, 105, 107, 106), term: [[384, 2, Quantity(value=3.141592653589793, unit=radian), Quantity(value=15.167, unit=kilojoule/mole)]]\n",
      "2021-05-11 13:49:34,230:(0.00s):relative:hybrid index pair: (103, 105, 107, 116), terms: [[358, 2, Quantity(value=3.141592653589793, unit=radian), Quantity(value=15.167, unit=kilojoule/mole)]], new term collector key: (103, 105, 107, 116), term: [[385, 2, Quantity(value=3.141592653589793, unit=radian), Quantity(value=15.167, unit=kilojoule/mole)]]\n",
      "2021-05-11 13:49:34,237:(0.01s):relative:hybrid index pair: (104, 102, 103, 105), terms: [[359, 2, Quantity(value=3.141592653589793, unit=radian), Quantity(value=15.167, unit=kilojoule/mole)]], new term collector key: (104, 102, 103, 105), term: [[386, 2, Quantity(value=3.141592653589793, unit=radian), Quantity(value=15.167, unit=kilojoule/mole)]]\n",
      "2021-05-11 13:49:34,237:(0.00s):relative:hybrid index pair: (104, 102, 103, 112), terms: [[360, 2, Quantity(value=3.141592653589793, unit=radian), Quantity(value=15.167, unit=kilojoule/mole)]], new term collector key: (104, 102, 103, 112), term: [[387, 2, Quantity(value=3.141592653589793, unit=radian), Quantity(value=15.167, unit=kilojoule/mole)]]\n",
      "2021-05-11 13:49:34,238:(0.00s):relative:hybrid index pair: (104, 106, 107, 105), terms: [[361, 2, Quantity(value=3.141592653589793, unit=radian), Quantity(value=15.167, unit=kilojoule/mole)]], new term collector key: (104, 106, 107, 105), term: [[388, 2, Quantity(value=3.141592653589793, unit=radian), Quantity(value=15.167, unit=kilojoule/mole)]]\n",
      "2021-05-11 13:49:34,239:(0.00s):relative:hybrid index pair: (104, 106, 107, 116), terms: [[362, 2, Quantity(value=3.141592653589793, unit=radian), Quantity(value=15.167, unit=kilojoule/mole)]], new term collector key: (104, 106, 107, 116), term: [[389, 2, Quantity(value=3.141592653589793, unit=radian), Quantity(value=15.167, unit=kilojoule/mole)]]\n",
      "2021-05-11 13:49:34,240:(0.00s):relative:hybrid index pair: (105, 107, 106, 115), terms: [[363, 2, Quantity(value=3.141592653589793, unit=radian), Quantity(value=15.167, unit=kilojoule/mole)]], new term collector key: (105, 107, 106, 115), term: [[390, 2, Quantity(value=3.141592653589793, unit=radian), Quantity(value=15.167, unit=kilojoule/mole)]]\n",
      "2021-05-11 13:49:34,241:(0.00s):relative:hybrid index pair: (106, 107, 105, 114), terms: [[364, 2, Quantity(value=3.141592653589793, unit=radian), Quantity(value=15.167, unit=kilojoule/mole)]], new term collector key: (106, 107, 105, 114), term: [[391, 2, Quantity(value=3.141592653589793, unit=radian), Quantity(value=15.167, unit=kilojoule/mole)]]\n"
     ]
    },
    {
     "name": "stderr",
     "output_type": "stream",
     "text": [
      "2021-05-11 13:49:34,242:(0.00s):relative:hybrid index pair: (107, 105, 103, 112), terms: [[365, 2, Quantity(value=3.141592653589793, unit=radian), Quantity(value=15.167, unit=kilojoule/mole)]], new term collector key: (107, 105, 103, 112), term: [[392, 2, Quantity(value=3.141592653589793, unit=radian), Quantity(value=15.167, unit=kilojoule/mole)]]\n",
      "2021-05-11 13:49:34,242:(0.00s):relative:hybrid index pair: (107, 106, 104, 113), terms: [[366, 2, Quantity(value=3.141592653589793, unit=radian), Quantity(value=15.167, unit=kilojoule/mole)]], new term collector key: (107, 106, 104, 113), term: [[393, 2, Quantity(value=3.141592653589793, unit=radian), Quantity(value=15.167, unit=kilojoule/mole)]]\n",
      "2021-05-11 13:49:34,243:(0.00s):relative:hybrid index pair: (109, 98, 101, 110), terms: [[367, 3, Quantity(value=0.0, unit=radian), Quantity(value=0.6508444444444444, unit=kilojoule/mole)]], new term collector key: (109, 98, 101, 110), term: [[394, 3, Quantity(value=0.0, unit=radian), Quantity(value=0.6508444444444444, unit=kilojoule/mole)]]\n",
      "2021-05-11 13:49:34,244:(0.00s):relative:hybrid index pair: (109, 98, 101, 111), terms: [[368, 3, Quantity(value=0.0, unit=radian), Quantity(value=0.6508444444444444, unit=kilojoule/mole)]], new term collector key: (109, 98, 101, 111), term: [[395, 3, Quantity(value=0.0, unit=radian), Quantity(value=0.6508444444444444, unit=kilojoule/mole)]]\n",
      "2021-05-11 13:49:34,245:(0.00s):relative:hybrid index pair: (112, 103, 105, 114), terms: [[369, 2, Quantity(value=3.141592653589793, unit=radian), Quantity(value=15.167, unit=kilojoule/mole)]], new term collector key: (112, 103, 105, 114), term: [[396, 2, Quantity(value=3.141592653589793, unit=radian), Quantity(value=15.167, unit=kilojoule/mole)]]\n",
      "2021-05-11 13:49:34,246:(0.00s):relative:hybrid index pair: (113, 104, 106, 115), terms: [[370, 2, Quantity(value=3.141592653589793, unit=radian), Quantity(value=15.167, unit=kilojoule/mole)]], new term collector key: (113, 104, 106, 115), term: [[397, 2, Quantity(value=3.141592653589793, unit=radian), Quantity(value=15.167, unit=kilojoule/mole)]]\n",
      "2021-05-11 13:49:34,247:(0.00s):relative:hybrid index pair: (114, 105, 107, 116), terms: [[371, 2, Quantity(value=3.141592653589793, unit=radian), Quantity(value=15.167, unit=kilojoule/mole)]], new term collector key: (114, 105, 107, 116), term: [[398, 2, Quantity(value=3.141592653589793, unit=radian), Quantity(value=15.167, unit=kilojoule/mole)]]\n",
      "2021-05-11 13:49:34,247:(0.00s):relative:hybrid index pair: (115, 106, 107, 116), terms: [[372, 2, Quantity(value=3.141592653589793, unit=radian), Quantity(value=15.167, unit=kilojoule/mole)]], new term collector key: (115, 106, 107, 116), term: [[399, 2, Quantity(value=3.141592653589793, unit=radian), Quantity(value=15.167, unit=kilojoule/mole)]]\n",
      "2021-05-11 13:49:34,249:(0.00s):relative:hybrid index pair: (44, 62, 45, 46), terms: [[381, 2, Quantity(value=3.141592653589793, unit=radian), Quantity(value=43.932, unit=kilojoule/mole)]], new term collector key: (44, 62, 45, 46), term: [[408, 2, Quantity(value=3.141592653589793, unit=radian), Quantity(value=43.932, unit=kilojoule/mole)]]\n",
      "2021-05-11 13:49:34,252:(0.00s):relative:hybrid index pair: (45, 63, 62, 71), terms: [[382, 2, Quantity(value=3.141592653589793, unit=radian), Quantity(value=4.6024, unit=kilojoule/mole)]], new term collector key: (45, 63, 62, 71), term: [[409, 2, Quantity(value=3.141592653589793, unit=radian), Quantity(value=4.6024, unit=kilojoule/mole)]]\n",
      "2021-05-11 13:49:34,252:(0.00s):relative:hybrid index pair: (63, 79, 64, 65), terms: [[383, 2, Quantity(value=3.141592653589793, unit=radian), Quantity(value=43.932, unit=kilojoule/mole)]], new term collector key: (63, 79, 64, 65), term: [[410, 2, Quantity(value=3.141592653589793, unit=radian), Quantity(value=43.932, unit=kilojoule/mole)]]\n",
      "2021-05-11 13:49:34,253:(0.00s):relative:hybrid index pair: (67, 69, 68, 70), terms: [[384, 2, Quantity(value=3.141592653589793, unit=radian), Quantity(value=43.932, unit=kilojoule/mole)]], new term collector key: (67, 69, 68, 70), term: [[411, 2, Quantity(value=3.141592653589793, unit=radian), Quantity(value=43.932, unit=kilojoule/mole)]]\n",
      "2021-05-11 13:49:34,254:(0.00s):relative:hybrid index pair: (68, 77, 69, 78), terms: [[385, 2, Quantity(value=3.141592653589793, unit=radian), Quantity(value=4.184, unit=kilojoule/mole)]], new term collector key: (68, 77, 69, 78), term: [[412, 2, Quantity(value=3.141592653589793, unit=radian), Quantity(value=4.184, unit=kilojoule/mole)]]\n",
      "2021-05-11 13:49:34,255:(0.00s):relative:hybrid index pair: (64, 80, 79, 85), terms: [[386, 2, Quantity(value=3.141592653589793, unit=radian), Quantity(value=4.6024, unit=kilojoule/mole)]], new term collector key: (64, 80, 79, 85), term: [[413, 2, Quantity(value=3.141592653589793, unit=radian), Quantity(value=4.6024, unit=kilojoule/mole)]]\n",
      "2021-05-11 13:49:34,256:(0.00s):relative:hybrid index pair: (80, 90, 81, 82), terms: [[387, 2, Quantity(value=3.141592653589793, unit=radian), Quantity(value=43.932, unit=kilojoule/mole)]], new term collector key: (80, 90, 81, 82), term: [[414, 2, Quantity(value=3.141592653589793, unit=radian), Quantity(value=43.932, unit=kilojoule/mole)]]\n",
      "2021-05-11 13:49:34,258:(0.00s):relative:hybrid index pair: (81, 91, 90, 94), terms: [[388, 2, Quantity(value=3.141592653589793, unit=radian), Quantity(value=4.6024, unit=kilojoule/mole)]], new term collector key: (81, 91, 90, 94), term: [[415, 2, Quantity(value=3.141592653589793, unit=radian), Quantity(value=4.6024, unit=kilojoule/mole)]]\n",
      "2021-05-11 13:49:34,259:(0.00s):relative:hybrid index pair: (91, 97, 92, 93), terms: [[389, 2, Quantity(value=3.141592653589793, unit=radian), Quantity(value=43.932, unit=kilojoule/mole)]], new term collector key: (91, 97, 92, 93), term: [[416, 2, Quantity(value=3.141592653589793, unit=radian), Quantity(value=43.932, unit=kilojoule/mole)]]\n",
      "2021-05-11 13:49:34,261:(0.00s):relative:hybrid index pair: (92, 98, 97, 108), terms: [[390, 2, Quantity(value=3.141592653589793, unit=radian), Quantity(value=4.6024, unit=kilojoule/mole)]], new term collector key: (92, 98, 97, 108), term: [[417, 2, Quantity(value=3.141592653589793, unit=radian), Quantity(value=4.6024, unit=kilojoule/mole)]]\n",
      "2021-05-11 13:49:34,262:(0.00s):relative:hybrid index pair: (98, 117, 99, 100), terms: [[391, 2, Quantity(value=3.141592653589793, unit=radian), Quantity(value=43.932, unit=kilojoule/mole)]], new term collector key: (98, 117, 99, 100), term: [[418, 2, Quantity(value=3.141592653589793, unit=radian), Quantity(value=43.932, unit=kilojoule/mole)]]\n",
      "2021-05-11 13:49:34,264:(0.00s):relative:hybrid index pair: (101, 102, 104, 103), terms: [[392, 2, Quantity(value=3.141592653589793, unit=radian), Quantity(value=4.6024, unit=kilojoule/mole)]], new term collector key: (101, 102, 104, 103), term: [[419, 2, Quantity(value=3.141592653589793, unit=radian), Quantity(value=4.6024, unit=kilojoule/mole)]]\n",
      "2021-05-11 13:49:34,264:(0.00s):relative:hybrid index pair: (102, 105, 103, 112), terms: [[393, 2, Quantity(value=3.141592653589793, unit=radian), Quantity(value=4.6024, unit=kilojoule/mole)]], new term collector key: (102, 105, 103, 112), term: [[420, 2, Quantity(value=3.141592653589793, unit=radian), Quantity(value=4.6024, unit=kilojoule/mole)]]\n",
      "2021-05-11 13:49:34,265:(0.00s):relative:hybrid index pair: (102, 106, 104, 113), terms: [[394, 2, Quantity(value=3.141592653589793, unit=radian), Quantity(value=4.6024, unit=kilojoule/mole)]], new term collector key: (102, 106, 104, 113), term: [[421, 2, Quantity(value=3.141592653589793, unit=radian), Quantity(value=4.6024, unit=kilojoule/mole)]]\n",
      "2021-05-11 13:49:34,267:(0.00s):relative:hybrid index pair: (103, 107, 105, 114), terms: [[395, 2, Quantity(value=3.141592653589793, unit=radian), Quantity(value=4.6024, unit=kilojoule/mole)]], new term collector key: (103, 107, 105, 114), term: [[422, 2, Quantity(value=3.141592653589793, unit=radian), Quantity(value=4.6024, unit=kilojoule/mole)]]\n",
      "2021-05-11 13:49:34,268:(0.00s):relative:hybrid index pair: (107, 104, 106, 115), terms: [[396, 2, Quantity(value=3.141592653589793, unit=radian), Quantity(value=4.6024, unit=kilojoule/mole)]], new term collector key: (107, 104, 106, 115), term: [[423, 2, Quantity(value=3.141592653589793, unit=radian), Quantity(value=4.6024, unit=kilojoule/mole)]]\n"
     ]
    },
    {
     "name": "stderr",
     "output_type": "stream",
     "text": [
      "2021-05-11 13:49:34,269:(0.00s):relative:hybrid index pair: (105, 106, 107, 116), terms: [[397, 2, Quantity(value=3.141592653589793, unit=radian), Quantity(value=4.6024, unit=kilojoule/mole)]], new term collector key: (106, 105, 107, 116), term: [[424, 2, Quantity(value=3.141592653589793, unit=radian), Quantity(value=4.6024, unit=kilojoule/mole)]]\n",
      "2021-05-11 13:49:34,271:(0.00s):relative:order of atoms does not match\n",
      "2021-05-11 13:49:34,271:(0.00s):relative:hybrid index pair: (99, 118, 117, 119), terms: [[398, 2, Quantity(value=3.141592653589793, unit=radian), Quantity(value=4.6024, unit=kilojoule/mole)]], new term collector key: (99, 118, 117, 119), term: [[425, 2, Quantity(value=3.141592653589793, unit=radian), Quantity(value=4.6024, unit=kilojoule/mole)]]\n"
     ]
    }
   ],
   "source": [
    "from perses.annihilation.relative import RxnHybridTopologyFactory\n",
    "flatten_exceptions = True\n",
    "flatten_torsions = True\n",
    "endstate = None\n",
    "scale_regions = None\n",
    "htf = RxnHybridTopologyFactory(topology_proposal=topology_proposal,\n",
    "                     current_positions=positions,\n",
    "                     new_positions=new_positions,\n",
    "                     use_dispersion_correction=False,\n",
    "                     functions=None,\n",
    "                     softcore_alpha=None,\n",
    "                     bond_softening_constant=1.0,\n",
    "                     angle_softening_constant=1.0,\n",
    "                     soften_only_new=False,\n",
    "                     neglected_new_angle_terms=[],\n",
    "                     neglected_old_angle_terms=[],\n",
    "                     softcore_LJ_v2=True,\n",
    "                     softcore_electrostatics=True,\n",
    "                     softcore_LJ_v2_alpha=0.85,\n",
    "                     softcore_electrostatics_alpha=0.3,\n",
    "                     softcore_sigma_Q=1.0,\n",
    "                     interpolate_old_and_new_14s=flatten_exceptions,\n",
    "                     omitted_terms=None,\n",
    "                     flatten_torsions=flatten_torsions,\n",
    "                     scale_regions=scale_regions)"
   ]
  },
  {
   "cell_type": "code",
   "execution_count": null,
   "id": "3772485b",
   "metadata": {},
   "outputs": [],
   "source": [
    "# ( nonscale_lambda_bonds * nonscale_region ) * (K/2)*(r-length)^2;\n",
    "\n",
    "# K = ( 1 * environment_region+lambda_0_bonds_old * alchemical_region_0 ) * K1 \n",
    "# + ( 1 * environment_region+lambda_0_bonds_new * alchemical_region_0 ) * K2;\n",
    "\n",
    "# length = ( 1 * environment_region+lambda_0_bonds_old * alchemical_region_0 ) * length1 \n",
    "# + ( 1 * environment_region+lambda_0_bonds_new * alchemical_region_0 ) * length2;\n"
   ]
  },
  {
   "cell_type": "code",
   "execution_count": 5,
   "id": "8de5fb16",
   "metadata": {},
   "outputs": [],
   "source": [
    "# Save htf\n",
    "# with open(\"8mer_vacuum.pickle\", \"wb\") as f:\n",
    "#     pickle.dump(htf, f)\n",
    "with open(\"8mer_solvent.pickle\", \"wb\") as f:\n",
    "    pickle.dump(htf, f)"
   ]
  },
  {
   "cell_type": "markdown",
   "id": "spiritual-pension",
   "metadata": {},
   "source": [
    "### Test one alchemical region, no scale regions"
   ]
  },
  {
   "cell_type": "markdown",
   "id": "established-handy",
   "metadata": {},
   "source": [
    "#### Old system HarmonicBondForce vs hybrid system CustomBondForce"
   ]
  },
  {
   "cell_type": "code",
   "execution_count": 6,
   "id": "accessory-spectrum",
   "metadata": {},
   "outputs": [],
   "source": [
    "# Load htf\n",
    "with open(\"/home/zhangi/choderalab/perses_benchmark/perses_protein_mutations/code/26_rxn_field/8mer_solvent.pickle\", \"rb\") as f:\n",
    "    htf = pickle.load(f)"
   ]
  },
  {
   "cell_type": "code",
   "execution_count": 7,
   "id": "81db360d",
   "metadata": {},
   "outputs": [
    {
     "data": {
      "text/plain": [
       "[<simtk.openmm.openmm.MonteCarloBarostat; proxy of <Swig Object of type 'OpenMM::MonteCarloBarostat *' at 0x2abb8b6c8ab0> >,\n",
       " <simtk.openmm.openmm.CustomBondForce; proxy of <Swig Object of type 'OpenMM::CustomBondForce *' at 0x2abb8b6c8bd0> >,\n",
       " <simtk.openmm.openmm.CustomAngleForce; proxy of <Swig Object of type 'OpenMM::CustomAngleForce *' at 0x2abb8b6c8e40> >,\n",
       " <simtk.openmm.openmm.CustomTorsionForce; proxy of <Swig Object of type 'OpenMM::CustomTorsionForce *' at 0x2abb8b6c8d80> >]"
      ]
     },
     "execution_count": 7,
     "metadata": {},
     "output_type": "execute_result"
    }
   ],
   "source": [
    "htf.hybrid_system.getForces()"
   ]
  },
  {
   "cell_type": "code",
   "execution_count": 8,
   "id": "df1a2403",
   "metadata": {},
   "outputs": [],
   "source": [
    "custom_bond_force = htf.hybrid_system.getForce(3)"
   ]
  },
  {
   "cell_type": "code",
   "execution_count": 9,
   "id": "830ba653",
   "metadata": {},
   "outputs": [
    {
     "name": "stdout",
     "output_type": "stream",
     "text": [
      "2 1 0 3 (1.0, 1.0, 0.0, 1.0, 0.0, 3.3472000000000004, 1.0, 0.0, 0.0)\n",
      "2 1 0 3 (1.0, 1.0, 0.0, 3.0, 3.141592653589793, 0.33472, 3.0, 3.141592653589793, 0.0)\n",
      "2 1 0 4 (1.0, 1.0, 0.0, 1.0, 0.0, 3.3472000000000004, 1.0, 0.0, 0.0)\n",
      "2 1 0 4 (1.0, 1.0, 0.0, 3.0, 3.141592653589793, 0.33472, 3.0, 3.141592653589793, 0.0)\n",
      "2 1 0 5 (1.0, 1.0, 0.0, 1.0, 0.0, 3.3472000000000004, 1.0, 0.0, 0.0)\n",
      "2 1 0 5 (1.0, 1.0, 0.0, 3.0, 3.141592653589793, 0.33472, 3.0, 3.141592653589793, 0.0)\n",
      "43 44 45 62 (1.0, 1.0, 0.0, 3.0, 3.141592653589793, 2.3012, 3.0, 3.141592653589793, 0.0)\n",
      "43 44 45 62 (1.0, 1.0, 0.0, 2.0, 3.141592653589793, 6.610720000000001, 2.0, 3.141592653589793, 0.0)\n",
      "43 44 45 62 (1.0, 1.0, 0.0, 1.0, 3.141592653589793, 1.8828, 1.0, 3.141592653589793, 0.0)\n",
      "43 44 47 48 (1.0, 1.0, 0.0, 4.0, 0.0, 0.305432, 4.0, 0.0, 0.0)\n",
      "43 44 47 48 (1.0, 1.0, 0.0, 3.0, 0.0, 0.602496, 3.0, 0.0, 0.0)\n",
      "43 44 47 48 (1.0, 1.0, 0.0, 2.0, 3.141592653589793, 1.0836560000000002, 2.0, 3.141592653589793, 0.0)\n",
      "43 44 47 48 (1.0, 1.0, 0.0, 1.0, 0.0, 0.410032, 1.0, 0.0, 0.0)\n",
      "43 44 47 53 (1.0, 1.0, 0.0, 3.0, 0.0, 0.6508444444444444, 3.0, 0.0, 0.0)\n",
      "43 44 47 54 (1.0, 1.0, 0.0, 3.0, 0.0, 0.6508444444444444, 3.0, 0.0, 0.0)\n",
      "44 45 62 63 (1.0, 1.0, 0.0, 2.0, 3.141592653589793, 10.46, 2.0, 3.141592653589793, 0.0)\n",
      "44 45 62 71 (1.0, 1.0, 0.0, 2.0, 3.141592653589793, 10.46, 2.0, 3.141592653589793, 0.0)\n",
      "44 47 48 49 (1.0, 1.0, 0.0, 4.0, 0.0, 0.748936, 4.0, 0.0, 0.0)\n",
      "44 47 48 49 (1.0, 1.0, 0.0, 3.0, 0.0, 0.594128, 3.0, 0.0, 0.0)\n",
      "44 47 48 49 (1.0, 1.0, 0.0, 2.0, 3.141592653589793, 0.112968, 2.0, 3.141592653589793, 0.0)\n",
      "44 47 48 49 (1.0, 1.0, 0.0, 1.0, 0.0, 1.585736, 1.0, 0.0, 0.0)\n",
      "44 47 48 50 (1.0, 1.0, 0.0, 4.0, 0.0, 0.748936, 4.0, 0.0, 0.0)\n",
      "44 47 48 50 (1.0, 1.0, 0.0, 3.0, 0.0, 0.594128, 3.0, 0.0, 0.0)\n",
      "44 47 48 50 (1.0, 1.0, 0.0, 2.0, 3.141592653589793, 0.112968, 2.0, 3.141592653589793, 0.0)\n",
      "44 47 48 50 (1.0, 1.0, 0.0, 1.0, 0.0, 1.585736, 1.0, 0.0, 0.0)\n",
      "44 47 48 55 (1.0, 1.0, 0.0, 3.0, 0.0, 0.66944, 3.0, 0.0, 0.0)\n",
      "45 44 47 48 (1.0, 1.0, 0.0, 4.0, 0.0, 0.79496, 4.0, 0.0, 0.0)\n",
      "45 44 47 48 (1.0, 1.0, 0.0, 3.0, 0.0, 0.602496, 3.0, 0.0, 0.0)\n",
      "45 44 47 48 (1.0, 1.0, 0.0, 2.0, 3.141592653589793, 2.59408, 2.0, 3.141592653589793, 0.0)\n",
      "45 44 47 48 (1.0, 1.0, 0.0, 1.0, 0.0, 2.953904, 1.0, 0.0, 0.0)\n",
      "45 44 47 53 (1.0, 1.0, 0.0, 3.0, 0.0, 0.6508444444444444, 3.0, 0.0, 0.0)\n",
      "45 44 47 54 (1.0, 1.0, 0.0, 3.0, 0.0, 0.6508444444444444, 3.0, 0.0, 0.0)\n",
      "45 62 63 64 (1.0, 1.0, 0.0, 3.0, 0.0, 1.75728, 3.0, 0.0, 0.0)\n",
      "45 62 63 64 (1.0, 1.0, 0.0, 2.0, 0.0, 1.12968, 2.0, 0.0, 0.0)\n",
      "45 62 63 66 (1.0, 1.0, 0.0, 3.0, 0.0, 3.3472000000000004, 3.0, 0.0, 0.0)\n",
      "45 62 63 66 (1.0, 1.0, 0.0, 2.0, 0.0, 7.5312, 2.0, 0.0, 0.0)\n",
      "45 62 63 66 (1.0, 1.0, 0.0, 1.0, 0.0, 8.368, 1.0, 0.0, 0.0)\n",
      "46 45 44 52 (1.0, 1.0, 0.0, 1.0, 0.0, 3.3472000000000004, 1.0, 0.0, 0.0)\n",
      "46 45 44 52 (1.0, 1.0, 0.0, 3.0, 3.141592653589793, 0.33472, 3.0, 3.141592653589793, 0.0)\n",
      "46 45 62 63 (1.0, 1.0, 0.0, 2.0, 3.141592653589793, 10.46, 2.0, 3.141592653589793, 0.0)\n",
      "46 45 62 71 (1.0, 1.0, 0.0, 2.0, 3.141592653589793, 10.46, 2.0, 3.141592653589793, 0.0)\n",
      "46 45 62 71 (1.0, 1.0, 0.0, 1.0, 0.0, 8.368, 1.0, 0.0, 0.0)\n",
      "47 44 45 62 (1.0, 1.0, 0.0, 3.0, 0.0, 1.6736000000000002, 3.0, 0.0, 0.0)\n",
      "47 44 45 62 (1.0, 1.0, 0.0, 2.0, 0.0, 0.8368000000000001, 2.0, 0.0, 0.0)\n",
      "47 44 45 62 (1.0, 1.0, 0.0, 1.0, 0.0, 0.8368000000000001, 1.0, 0.0, 0.0)\n",
      "47 48 49 56 (1.0, 1.0, 0.0, 3.0, 0.0, 0.66944, 3.0, 0.0, 0.0)\n",
      "47 48 49 57 (1.0, 1.0, 0.0, 3.0, 0.0, 0.66944, 3.0, 0.0, 0.0)\n",
      "47 48 49 58 (1.0, 1.0, 0.0, 3.0, 0.0, 0.66944, 3.0, 0.0, 0.0)\n",
      "47 48 50 59 (1.0, 1.0, 0.0, 3.0, 0.0, 0.66944, 3.0, 0.0, 0.0)\n",
      "47 48 50 60 (1.0, 1.0, 0.0, 3.0, 0.0, 0.66944, 3.0, 0.0, 0.0)\n",
      "47 48 50 61 (1.0, 1.0, 0.0, 3.0, 0.0, 0.66944, 3.0, 0.0, 0.0)\n",
      "48 47 44 52 (1.0, 1.0, 0.0, 3.0, 0.0, 0.6508444444444444, 3.0, 0.0, 0.0)\n",
      "49 48 47 53 (1.0, 1.0, 0.0, 3.0, 0.0, 0.66944, 3.0, 0.0, 0.0)\n",
      "49 48 47 54 (1.0, 1.0, 0.0, 3.0, 0.0, 0.66944, 3.0, 0.0, 0.0)\n",
      "49 48 50 59 (1.0, 1.0, 0.0, 3.0, 0.0, 0.66944, 3.0, 0.0, 0.0)\n",
      "49 48 50 60 (1.0, 1.0, 0.0, 3.0, 0.0, 0.66944, 3.0, 0.0, 0.0)\n",
      "49 48 50 61 (1.0, 1.0, 0.0, 3.0, 0.0, 0.66944, 3.0, 0.0, 0.0)\n",
      "50 48 47 53 (1.0, 1.0, 0.0, 3.0, 0.0, 0.66944, 3.0, 0.0, 0.0)\n",
      "50 48 47 54 (1.0, 1.0, 0.0, 3.0, 0.0, 0.66944, 3.0, 0.0, 0.0)\n",
      "50 48 49 56 (1.0, 1.0, 0.0, 3.0, 0.0, 0.66944, 3.0, 0.0, 0.0)\n",
      "50 48 49 57 (1.0, 1.0, 0.0, 3.0, 0.0, 0.66944, 3.0, 0.0, 0.0)\n",
      "50 48 49 58 (1.0, 1.0, 0.0, 3.0, 0.0, 0.66944, 3.0, 0.0, 0.0)\n",
      "52 44 47 53 (1.0, 1.0, 0.0, 3.0, 0.0, 0.6508444444444444, 3.0, 0.0, 0.0)\n",
      "52 44 47 54 (1.0, 1.0, 0.0, 3.0, 0.0, 0.6508444444444444, 3.0, 0.0, 0.0)\n",
      "53 47 48 55 (1.0, 1.0, 0.0, 3.0, 0.0, 0.6276, 3.0, 0.0, 0.0)\n",
      "54 47 48 55 (1.0, 1.0, 0.0, 3.0, 0.0, 0.6276, 3.0, 0.0, 0.0)\n",
      "55 48 49 56 (1.0, 1.0, 0.0, 3.0, 0.0, 0.6276, 3.0, 0.0, 0.0)\n",
      "55 48 49 57 (1.0, 1.0, 0.0, 3.0, 0.0, 0.6276, 3.0, 0.0, 0.0)\n",
      "55 48 49 58 (1.0, 1.0, 0.0, 3.0, 0.0, 0.6276, 3.0, 0.0, 0.0)\n",
      "55 48 50 59 (1.0, 1.0, 0.0, 3.0, 0.0, 0.6276, 3.0, 0.0, 0.0)\n",
      "55 48 50 60 (1.0, 1.0, 0.0, 3.0, 0.0, 0.6276, 3.0, 0.0, 0.0)\n",
      "55 48 50 61 (1.0, 1.0, 0.0, 3.0, 0.0, 0.6276, 3.0, 0.0, 0.0)\n",
      "62 63 64 79 (1.0, 1.0, 0.0, 3.0, 3.141592653589793, 2.3012, 3.0, 3.141592653589793, 0.0)\n",
      "62 63 64 79 (1.0, 1.0, 0.0, 2.0, 3.141592653589793, 6.610720000000001, 2.0, 3.141592653589793, 0.0)\n",
      "62 63 64 79 (1.0, 1.0, 0.0, 1.0, 3.141592653589793, 1.8828, 1.0, 3.141592653589793, 0.0)\n",
      "62 63 66 67 (1.0, 1.0, 0.0, 4.0, 0.0, 0.32635200000000003, 4.0, 0.0, 0.0)\n",
      "62 63 66 67 (1.0, 1.0, 0.0, 3.0, 0.0, 0.602496, 3.0, 0.0, 0.0)\n",
      "62 63 66 67 (1.0, 1.0, 0.0, 2.0, 3.141592653589793, 0.769856, 2.0, 3.141592653589793, 0.0)\n",
      "62 63 66 67 (1.0, 1.0, 0.0, 1.0, 3.141592653589793, 0.41840000000000005, 1.0, 3.141592653589793, 0.0)\n",
      "62 63 66 73 (1.0, 1.0, 0.0, 3.0, 0.0, 0.6508444444444444, 3.0, 0.0, 0.0)\n",
      "62 63 66 74 (1.0, 1.0, 0.0, 3.0, 0.0, 0.6508444444444444, 3.0, 0.0, 0.0)\n",
      "63 64 79 80 (1.0, 1.0, 0.0, 2.0, 3.141592653589793, 10.46, 2.0, 3.141592653589793, 0.0)\n",
      "63 64 79 85 (1.0, 1.0, 0.0, 2.0, 3.141592653589793, 10.46, 2.0, 3.141592653589793, 0.0)\n",
      "63 66 67 68 (1.0, 1.0, 0.0, 4.0, 0.0, 0.577392, 4.0, 0.0, 0.0)\n",
      "63 66 67 68 (1.0, 1.0, 0.0, 3.0, 3.141592653589793, 1.723808, 3.0, 3.141592653589793, 0.0)\n",
      "63 66 67 68 (1.0, 1.0, 0.0, 2.0, 0.0, 0.347272, 2.0, 0.0, 0.0)\n",
      "63 66 67 68 (1.0, 1.0, 0.0, 1.0, 3.141592653589793, 0.820064, 1.0, 3.141592653589793, 0.0)\n",
      "63 66 67 75 (1.0, 1.0, 0.0, 3.0, 0.0, 0.66944, 3.0, 0.0, 0.0)\n",
      "63 66 67 76 (1.0, 1.0, 0.0, 3.0, 0.0, 0.66944, 3.0, 0.0, 0.0)\n",
      "64 63 66 67 (1.0, 1.0, 0.0, 4.0, 0.0, 0.60668, 4.0, 0.0, 0.0)\n",
      "64 63 66 67 (1.0, 1.0, 0.0, 3.0, 0.0, 0.602496, 3.0, 0.0, 0.0)\n",
      "64 63 66 67 (1.0, 1.0, 0.0, 2.0, 3.141592653589793, 1.6443120000000002, 2.0, 3.141592653589793, 0.0)\n",
      "64 63 66 67 (1.0, 1.0, 0.0, 1.0, 3.141592653589793, 1.761464, 1.0, 3.141592653589793, 0.0)\n",
      "64 63 66 73 (1.0, 1.0, 0.0, 3.0, 0.0, 0.6508444444444444, 3.0, 0.0, 0.0)\n",
      "64 63 66 74 (1.0, 1.0, 0.0, 3.0, 0.0, 0.6508444444444444, 3.0, 0.0, 0.0)\n",
      "64 79 80 81 (1.0, 1.0, 0.0, 3.0, 0.0, 1.75728, 3.0, 0.0, 0.0)\n",
      "64 79 80 81 (1.0, 1.0, 0.0, 2.0, 0.0, 1.12968, 2.0, 0.0, 0.0)\n",
      "64 79 80 83 (1.0, 1.0, 0.0, 3.0, 0.0, 3.3472000000000004, 3.0, 0.0, 0.0)\n",
      "64 79 80 83 (1.0, 1.0, 0.0, 2.0, 0.0, 7.5312, 2.0, 0.0, 0.0)\n",
      "64 79 80 83 (1.0, 1.0, 0.0, 1.0, 0.0, 8.368, 1.0, 0.0, 0.0)\n",
      "65 64 63 72 (1.0, 1.0, 0.0, 1.0, 0.0, 3.3472000000000004, 1.0, 0.0, 0.0)\n",
      "65 64 63 72 (1.0, 1.0, 0.0, 3.0, 3.141592653589793, 0.33472, 3.0, 3.141592653589793, 0.0)\n",
      "65 64 79 80 (1.0, 1.0, 0.0, 2.0, 3.141592653589793, 10.46, 2.0, 3.141592653589793, 0.0)\n",
      "65 64 79 85 (1.0, 1.0, 0.0, 2.0, 3.141592653589793, 10.46, 2.0, 3.141592653589793, 0.0)\n",
      "65 64 79 85 (1.0, 1.0, 0.0, 1.0, 0.0, 8.368, 1.0, 0.0, 0.0)\n",
      "66 63 64 79 (1.0, 1.0, 0.0, 3.0, 0.0, 1.6736000000000002, 3.0, 0.0, 0.0)\n",
      "66 63 64 79 (1.0, 1.0, 0.0, 2.0, 0.0, 0.8368000000000001, 2.0, 0.0, 0.0)\n",
      "66 63 64 79 (1.0, 1.0, 0.0, 1.0, 0.0, 0.8368000000000001, 1.0, 0.0, 0.0)\n",
      "66 67 68 69 (1.0, 1.0, 0.0, 4.0, 0.0, 0.17572800000000002, 4.0, 0.0, 0.0)\n",
      "66 67 68 69 (1.0, 1.0, 0.0, 3.0, 3.141592653589793, 0.35564000000000007, 3.0, 3.141592653589793, 0.0)\n",
      "66 67 68 69 (1.0, 1.0, 0.0, 2.0, 3.141592653589793, 3.53548, 2.0, 3.141592653589793, 0.0)\n",
      "66 67 68 69 (1.0, 1.0, 0.0, 1.0, 3.141592653589793, 2.548056, 1.0, 3.141592653589793, 0.0)\n",
      "67 66 63 72 (1.0, 1.0, 0.0, 3.0, 0.0, 0.6508444444444444, 3.0, 0.0, 0.0)\n",
      "67 68 69 77 (1.0, 1.0, 0.0, 2.0, 3.141592653589793, 10.46, 2.0, 3.141592653589793, 0.0)\n",
      "67 68 69 78 (1.0, 1.0, 0.0, 2.0, 3.141592653589793, 10.46, 2.0, 3.141592653589793, 0.0)\n",
      "68 67 66 73 (1.0, 1.0, 0.0, 3.0, 0.0, 0.6508444444444444, 3.0, 0.0, 0.0)\n",
      "68 67 66 74 (1.0, 1.0, 0.0, 3.0, 0.0, 0.6508444444444444, 3.0, 0.0, 0.0)\n",
      "70 68 67 75 (1.0, 1.0, 0.0, 3.0, 3.141592653589793, 0.33472, 3.0, 3.141592653589793, 0.0)\n",
      "70 68 67 75 (1.0, 1.0, 0.0, 1.0, 0.0, 3.3472000000000004, 1.0, 0.0, 0.0)\n",
      "70 68 67 76 (1.0, 1.0, 0.0, 3.0, 3.141592653589793, 0.33472, 3.0, 3.141592653589793, 0.0)\n",
      "70 68 67 76 (1.0, 1.0, 0.0, 1.0, 0.0, 3.3472000000000004, 1.0, 0.0, 0.0)\n",
      "70 68 69 77 (1.0, 1.0, 0.0, 2.0, 3.141592653589793, 10.46, 2.0, 3.141592653589793, 0.0)\n",
      "70 68 69 77 (1.0, 1.0, 0.0, 1.0, 0.0, 8.368, 1.0, 0.0, 0.0)\n",
      "70 68 69 78 (1.0, 1.0, 0.0, 2.0, 3.141592653589793, 10.46, 2.0, 3.141592653589793, 0.0)\n",
      "70 68 69 78 (1.0, 1.0, 0.0, 1.0, 0.0, 8.368, 1.0, 0.0, 0.0)\n",
      "72 63 66 73 (1.0, 1.0, 0.0, 3.0, 0.0, 0.6508444444444444, 3.0, 0.0, 0.0)\n",
      "72 63 66 74 (1.0, 1.0, 0.0, 3.0, 0.0, 0.6508444444444444, 3.0, 0.0, 0.0)\n",
      "73 66 67 75 (1.0, 1.0, 0.0, 3.0, 0.0, 0.6276, 3.0, 0.0, 0.0)\n",
      "73 66 67 76 (1.0, 1.0, 0.0, 3.0, 0.0, 0.6276, 3.0, 0.0, 0.0)\n",
      "74 66 67 75 (1.0, 1.0, 0.0, 3.0, 0.0, 0.6276, 3.0, 0.0, 0.0)\n",
      "74 66 67 76 (1.0, 1.0, 0.0, 3.0, 0.0, 0.6276, 3.0, 0.0, 0.0)\n",
      "79 80 81 90 (1.0, 1.0, 0.0, 3.0, 3.141592653589793, 2.3012, 3.0, 3.141592653589793, 0.0)\n",
      "79 80 81 90 (1.0, 1.0, 0.0, 2.0, 3.141592653589793, 6.610720000000001, 2.0, 3.141592653589793, 0.0)\n",
      "79 80 81 90 (1.0, 1.0, 0.0, 1.0, 3.141592653589793, 1.8828, 1.0, 3.141592653589793, 0.0)\n",
      "79 80 83 84 (1.0, 1.0, 0.0, 4.0, 0.0, 0.66944, 4.0, 0.0, 0.0)\n",
      "79 80 83 84 (1.0, 1.0, 0.0, 3.0, 0.0, 1.6777840000000002, 3.0, 0.0, 0.0)\n",
      "79 80 83 84 (1.0, 1.0, 0.0, 2.0, 3.141592653589793, 1.029264, 2.0, 3.141592653589793, 0.0)\n",
      "79 80 83 84 (1.0, 1.0, 0.0, 1.0, 0.0, 2.786544, 1.0, 0.0, 0.0)\n",
      "79 80 83 87 (1.0, 1.0, 0.0, 3.0, 0.0, 0.6508444444444444, 3.0, 0.0, 0.0)\n",
      "79 80 83 88 (1.0, 1.0, 0.0, 3.0, 0.0, 0.6508444444444444, 3.0, 0.0, 0.0)\n",
      "80 81 90 91 (1.0, 1.0, 0.0, 2.0, 3.141592653589793, 10.46, 2.0, 3.141592653589793, 0.0)\n",
      "80 81 90 94 (1.0, 1.0, 0.0, 2.0, 3.141592653589793, 10.46, 2.0, 3.141592653589793, 0.0)\n",
      "80 83 84 89 (1.0, 1.0, 0.0, 4.0, 0.0, 0.029288, 4.0, 0.0, 0.0)\n",
      "80 83 84 89 (1.0, 1.0, 0.0, 3.0, 0.0, 1.1171280000000001, 3.0, 0.0, 0.0)\n",
      "80 83 84 89 (1.0, 1.0, 0.0, 2.0, 0.0, 1.857696, 2.0, 0.0, 0.0)\n",
      "80 83 84 89 (1.0, 1.0, 0.0, 1.0, 0.0, 0.882824, 1.0, 0.0, 0.0)\n",
      "81 80 83 84 (1.0, 1.0, 0.0, 4.0, 0.0, 0.539736, 4.0, 0.0, 0.0)\n",
      "81 80 83 84 (1.0, 1.0, 0.0, 3.0, 0.0, 1.6777840000000002, 3.0, 0.0, 0.0)\n",
      "81 80 83 84 (1.0, 1.0, 0.0, 2.0, 3.141592653589793, 0.912112, 2.0, 3.141592653589793, 0.0)\n",
      "81 80 83 84 (1.0, 1.0, 0.0, 1.0, 3.141592653589793, 2.7656240000000003, 1.0, 3.141592653589793, 0.0)\n",
      "81 80 83 87 (1.0, 1.0, 0.0, 3.0, 0.0, 0.6508444444444444, 3.0, 0.0, 0.0)\n",
      "81 80 83 88 (1.0, 1.0, 0.0, 3.0, 0.0, 0.6508444444444444, 3.0, 0.0, 0.0)\n",
      "81 90 91 92 (1.0, 1.0, 0.0, 3.0, 0.0, 1.75728, 3.0, 0.0, 0.0)\n",
      "81 90 91 92 (1.0, 1.0, 0.0, 2.0, 0.0, 1.12968, 2.0, 0.0, 0.0)\n",
      "82 81 80 86 (1.0, 1.0, 0.0, 1.0, 0.0, 3.3472000000000004, 1.0, 0.0, 0.0)\n",
      "82 81 80 86 (1.0, 1.0, 0.0, 3.0, 3.141592653589793, 0.33472, 3.0, 3.141592653589793, 0.0)\n",
      "82 81 90 91 (1.0, 1.0, 0.0, 2.0, 3.141592653589793, 10.46, 2.0, 3.141592653589793, 0.0)\n",
      "82 81 90 94 (1.0, 1.0, 0.0, 2.0, 3.141592653589793, 10.46, 2.0, 3.141592653589793, 0.0)\n",
      "82 81 90 94 (1.0, 1.0, 0.0, 1.0, 0.0, 8.368, 1.0, 0.0, 0.0)\n",
      "83 80 81 90 (1.0, 1.0, 0.0, 3.0, 0.0, 1.6736000000000002, 3.0, 0.0, 0.0)\n",
      "83 80 81 90 (1.0, 1.0, 0.0, 2.0, 0.0, 0.8368000000000001, 2.0, 0.0, 0.0)\n",
      "83 80 81 90 (1.0, 1.0, 0.0, 1.0, 0.0, 0.8368000000000001, 1.0, 0.0, 0.0)\n",
      "84 83 80 86 (1.0, 1.0, 0.0, 1.0, 0.0, 1.046, 1.0, 0.0, 0.0)\n",
      "86 80 83 87 (1.0, 1.0, 0.0, 3.0, 0.0, 0.6508444444444444, 3.0, 0.0, 0.0)\n",
      "86 80 83 88 (1.0, 1.0, 0.0, 3.0, 0.0, 0.6508444444444444, 3.0, 0.0, 0.0)\n",
      "87 83 84 89 (1.0, 1.0, 0.0, 3.0, 0.0, 0.6973333333333334, 3.0, 0.0, 0.0)\n",
      "88 83 84 89 (1.0, 1.0, 0.0, 3.0, 0.0, 0.6973333333333334, 3.0, 0.0, 0.0)\n",
      "90 91 92 97 (1.0, 1.0, 0.0, 3.0, 3.141592653589793, 2.3012, 3.0, 3.141592653589793, 0.0)\n",
      "90 91 92 97 (1.0, 1.0, 0.0, 2.0, 3.141592653589793, 6.610720000000001, 2.0, 3.141592653589793, 0.0)\n",
      "90 91 92 97 (1.0, 1.0, 0.0, 1.0, 3.141592653589793, 1.8828, 1.0, 3.141592653589793, 0.0)\n",
      "91 92 97 98 (1.0, 1.0, 0.0, 2.0, 3.141592653589793, 10.46, 2.0, 3.141592653589793, 0.0)\n",
      "91 92 97 108 (1.0, 1.0, 0.0, 2.0, 3.141592653589793, 10.46, 2.0, 3.141592653589793, 0.0)\n",
      "92 97 98 99 (1.0, 1.0, 0.0, 3.0, 0.0, 1.75728, 3.0, 0.0, 0.0)\n",
      "92 97 98 99 (1.0, 1.0, 0.0, 2.0, 0.0, 1.12968, 2.0, 0.0, 0.0)\n",
      "92 97 98 101 (1.0, 1.0, 0.0, 3.0, 0.0, 3.3472000000000004, 3.0, 0.0, 0.0)\n",
      "92 97 98 101 (1.0, 1.0, 0.0, 2.0, 0.0, 7.5312, 2.0, 0.0, 0.0)\n",
      "92 97 98 101 (1.0, 1.0, 0.0, 1.0, 0.0, 8.368, 1.0, 0.0, 0.0)\n",
      "93 92 91 95 (1.0, 1.0, 0.0, 1.0, 0.0, 3.3472000000000004, 1.0, 0.0, 0.0)\n",
      "93 92 91 95 (1.0, 1.0, 0.0, 3.0, 3.141592653589793, 0.33472, 3.0, 3.141592653589793, 0.0)\n",
      "93 92 91 96 (1.0, 1.0, 0.0, 1.0, 0.0, 3.3472000000000004, 1.0, 0.0, 0.0)\n",
      "93 92 91 96 (1.0, 1.0, 0.0, 3.0, 3.141592653589793, 0.33472, 3.0, 3.141592653589793, 0.0)\n",
      "93 92 97 98 (1.0, 1.0, 0.0, 2.0, 3.141592653589793, 10.46, 2.0, 3.141592653589793, 0.0)\n",
      "93 92 97 108 (1.0, 1.0, 0.0, 2.0, 3.141592653589793, 10.46, 2.0, 3.141592653589793, 0.0)\n",
      "93 92 97 108 (1.0, 1.0, 0.0, 1.0, 0.0, 8.368, 1.0, 0.0, 0.0)\n",
      "97 98 99 117 (1.0, 1.0, 0.0, 3.0, 3.141592653589793, 2.3012, 3.0, 3.141592653589793, 0.0)\n",
      "97 98 99 117 (1.0, 1.0, 0.0, 2.0, 3.141592653589793, 6.610720000000001, 2.0, 3.141592653589793, 0.0)\n",
      "97 98 99 117 (1.0, 1.0, 0.0, 1.0, 3.141592653589793, 1.8828, 1.0, 3.141592653589793, 0.0)\n",
      "97 98 101 102 (1.0, 1.0, 0.0, 4.0, 3.141592653589793, 0.029288, 4.0, 3.141592653589793, 0.0)\n",
      "97 98 101 102 (1.0, 1.0, 0.0, 3.0, 0.0, 0.803328, 3.0, 0.0, 0.0)\n",
      "97 98 101 102 (1.0, 1.0, 0.0, 2.0, 3.141592653589793, 1.21336, 2.0, 3.141592653589793, 0.0)\n",
      "97 98 101 102 (1.0, 1.0, 0.0, 1.0, 3.141592653589793, 0.050208, 1.0, 3.141592653589793, 0.0)\n",
      "97 98 101 110 (1.0, 1.0, 0.0, 3.0, 0.0, 0.6508444444444444, 3.0, 0.0, 0.0)\n",
      "97 98 101 111 (1.0, 1.0, 0.0, 3.0, 0.0, 0.6508444444444444, 3.0, 0.0, 0.0)\n",
      "98 99 117 118 (1.0, 1.0, 0.0, 2.0, 3.141592653589793, 10.46, 2.0, 3.141592653589793, 0.0)\n",
      "98 99 117 119 (1.0, 1.0, 0.0, 2.0, 3.141592653589793, 10.46, 2.0, 3.141592653589793, 0.0)\n",
      "98 101 102 103 (1.0, 1.0, 0.0, 4.0, 3.141592653589793, 0.200832, 4.0, 3.141592653589793, 0.0)\n",
      "98 101 102 103 (1.0, 1.0, 0.0, 2.0, 3.141592653589793, 0.288696, 2.0, 3.141592653589793, 0.0)\n",
      "98 101 102 104 (1.0, 1.0, 0.0, 4.0, 3.141592653589793, 0.200832, 4.0, 3.141592653589793, 0.0)\n",
      "98 101 102 104 (1.0, 1.0, 0.0, 2.0, 3.141592653589793, 0.288696, 2.0, 3.141592653589793, 0.0)\n",
      "99 98 101 102 (1.0, 1.0, 0.0, 4.0, 3.141592653589793, 0.050208, 4.0, 3.141592653589793, 0.0)\n",
      "99 98 101 102 (1.0, 1.0, 0.0, 3.0, 0.0, 0.803328, 3.0, 0.0, 0.0)\n",
      "99 98 101 102 (1.0, 1.0, 0.0, 2.0, 3.141592653589793, 1.962296, 2.0, 3.141592653589793, 0.0)\n",
      "99 98 101 102 (1.0, 1.0, 0.0, 1.0, 0.0, 0.23012000000000002, 1.0, 0.0, 0.0)\n",
      "99 98 101 110 (1.0, 1.0, 0.0, 3.0, 0.0, 0.6508444444444444, 3.0, 0.0, 0.0)\n",
      "99 98 101 111 (1.0, 1.0, 0.0, 3.0, 0.0, 0.6508444444444444, 3.0, 0.0, 0.0)\n",
      "100 99 98 109 (1.0, 1.0, 0.0, 1.0, 0.0, 3.3472000000000004, 1.0, 0.0, 0.0)\n",
      "100 99 98 109 (1.0, 1.0, 0.0, 3.0, 3.141592653589793, 0.33472, 3.0, 3.141592653589793, 0.0)\n",
      "100 99 117 118 (1.0, 1.0, 0.0, 2.0, 3.141592653589793, 10.46, 2.0, 3.141592653589793, 0.0)\n",
      "100 99 117 119 (1.0, 1.0, 0.0, 2.0, 3.141592653589793, 10.46, 2.0, 3.141592653589793, 0.0)\n",
      "100 99 117 119 (1.0, 1.0, 0.0, 1.0, 0.0, 8.368, 1.0, 0.0, 0.0)\n",
      "101 98 99 117 (1.0, 1.0, 0.0, 3.0, 0.0, 1.6736000000000002, 3.0, 0.0, 0.0)\n",
      "101 98 99 117 (1.0, 1.0, 0.0, 2.0, 0.0, 0.8368000000000001, 2.0, 0.0, 0.0)\n",
      "101 98 99 117 (1.0, 1.0, 0.0, 1.0, 0.0, 0.8368000000000001, 1.0, 0.0, 0.0)\n",
      "101 102 103 105 (1.0, 1.0, 0.0, 2.0, 3.141592653589793, 15.167, 2.0, 3.141592653589793, 0.0)\n",
      "101 102 103 112 (1.0, 1.0, 0.0, 2.0, 3.141592653589793, 15.167, 2.0, 3.141592653589793, 0.0)\n",
      "101 102 104 106 (1.0, 1.0, 0.0, 2.0, 3.141592653589793, 15.167, 2.0, 3.141592653589793, 0.0)\n",
      "101 102 104 113 (1.0, 1.0, 0.0, 2.0, 3.141592653589793, 15.167, 2.0, 3.141592653589793, 0.0)\n",
      "102 101 98 109 (1.0, 1.0, 0.0, 3.0, 0.0, 0.6508444444444444, 3.0, 0.0, 0.0)\n",
      "102 103 105 107 (1.0, 1.0, 0.0, 2.0, 3.141592653589793, 15.167, 2.0, 3.141592653589793, 0.0)\n",
      "102 103 105 114 (1.0, 1.0, 0.0, 2.0, 3.141592653589793, 15.167, 2.0, 3.141592653589793, 0.0)\n",
      "102 104 106 107 (1.0, 1.0, 0.0, 2.0, 3.141592653589793, 15.167, 2.0, 3.141592653589793, 0.0)\n",
      "102 104 106 115 (1.0, 1.0, 0.0, 2.0, 3.141592653589793, 15.167, 2.0, 3.141592653589793, 0.0)\n",
      "103 102 104 106 (1.0, 1.0, 0.0, 2.0, 3.141592653589793, 15.167, 2.0, 3.141592653589793, 0.0)\n",
      "103 102 104 113 (1.0, 1.0, 0.0, 2.0, 3.141592653589793, 15.167, 2.0, 3.141592653589793, 0.0)\n",
      "103 105 107 106 (1.0, 1.0, 0.0, 2.0, 3.141592653589793, 15.167, 2.0, 3.141592653589793, 0.0)\n",
      "103 105 107 116 (1.0, 1.0, 0.0, 2.0, 3.141592653589793, 15.167, 2.0, 3.141592653589793, 0.0)\n",
      "104 102 103 105 (1.0, 1.0, 0.0, 2.0, 3.141592653589793, 15.167, 2.0, 3.141592653589793, 0.0)\n",
      "104 102 103 112 (1.0, 1.0, 0.0, 2.0, 3.141592653589793, 15.167, 2.0, 3.141592653589793, 0.0)\n",
      "104 106 107 105 (1.0, 1.0, 0.0, 2.0, 3.141592653589793, 15.167, 2.0, 3.141592653589793, 0.0)\n",
      "104 106 107 116 (1.0, 1.0, 0.0, 2.0, 3.141592653589793, 15.167, 2.0, 3.141592653589793, 0.0)\n",
      "105 107 106 115 (1.0, 1.0, 0.0, 2.0, 3.141592653589793, 15.167, 2.0, 3.141592653589793, 0.0)\n",
      "106 107 105 114 (1.0, 1.0, 0.0, 2.0, 3.141592653589793, 15.167, 2.0, 3.141592653589793, 0.0)\n",
      "107 105 103 112 (1.0, 1.0, 0.0, 2.0, 3.141592653589793, 15.167, 2.0, 3.141592653589793, 0.0)\n",
      "107 106 104 113 (1.0, 1.0, 0.0, 2.0, 3.141592653589793, 15.167, 2.0, 3.141592653589793, 0.0)\n",
      "109 98 101 110 (1.0, 1.0, 0.0, 3.0, 0.0, 0.6508444444444444, 3.0, 0.0, 0.0)\n",
      "109 98 101 111 (1.0, 1.0, 0.0, 3.0, 0.0, 0.6508444444444444, 3.0, 0.0, 0.0)\n",
      "112 103 105 114 (1.0, 1.0, 0.0, 2.0, 3.141592653589793, 15.167, 2.0, 3.141592653589793, 0.0)\n",
      "113 104 106 115 (1.0, 1.0, 0.0, 2.0, 3.141592653589793, 15.167, 2.0, 3.141592653589793, 0.0)\n",
      "114 105 107 116 (1.0, 1.0, 0.0, 2.0, 3.141592653589793, 15.167, 2.0, 3.141592653589793, 0.0)\n",
      "115 106 107 116 (1.0, 1.0, 0.0, 2.0, 3.141592653589793, 15.167, 2.0, 3.141592653589793, 0.0)\n",
      "44 62 45 46 (1.0, 1.0, 0.0, 2.0, 3.141592653589793, 43.932, 2.0, 3.141592653589793, 0.0)\n",
      "45 63 62 71 (1.0, 1.0, 0.0, 2.0, 3.141592653589793, 4.6024, 2.0, 3.141592653589793, 0.0)\n",
      "63 79 64 65 (1.0, 1.0, 0.0, 2.0, 3.141592653589793, 43.932, 2.0, 3.141592653589793, 0.0)\n",
      "67 69 68 70 (1.0, 1.0, 0.0, 2.0, 3.141592653589793, 43.932, 2.0, 3.141592653589793, 0.0)\n",
      "68 77 69 78 (1.0, 1.0, 0.0, 2.0, 3.141592653589793, 4.184, 2.0, 3.141592653589793, 0.0)\n",
      "64 80 79 85 (1.0, 1.0, 0.0, 2.0, 3.141592653589793, 4.6024, 2.0, 3.141592653589793, 0.0)\n",
      "80 90 81 82 (1.0, 1.0, 0.0, 2.0, 3.141592653589793, 43.932, 2.0, 3.141592653589793, 0.0)\n",
      "81 91 90 94 (1.0, 1.0, 0.0, 2.0, 3.141592653589793, 4.6024, 2.0, 3.141592653589793, 0.0)\n",
      "91 97 92 93 (1.0, 1.0, 0.0, 2.0, 3.141592653589793, 43.932, 2.0, 3.141592653589793, 0.0)\n",
      "92 98 97 108 (1.0, 1.0, 0.0, 2.0, 3.141592653589793, 4.6024, 2.0, 3.141592653589793, 0.0)\n",
      "98 117 99 100 (1.0, 1.0, 0.0, 2.0, 3.141592653589793, 43.932, 2.0, 3.141592653589793, 0.0)\n",
      "101 102 104 103 (1.0, 1.0, 0.0, 2.0, 3.141592653589793, 4.6024, 2.0, 3.141592653589793, 0.0)\n",
      "102 105 103 112 (1.0, 1.0, 0.0, 2.0, 3.141592653589793, 4.6024, 2.0, 3.141592653589793, 0.0)\n",
      "102 106 104 113 (1.0, 1.0, 0.0, 2.0, 3.141592653589793, 4.6024, 2.0, 3.141592653589793, 0.0)\n",
      "103 107 105 114 (1.0, 1.0, 0.0, 2.0, 3.141592653589793, 4.6024, 2.0, 3.141592653589793, 0.0)\n",
      "107 104 106 115 (1.0, 1.0, 0.0, 2.0, 3.141592653589793, 4.6024, 2.0, 3.141592653589793, 0.0)\n",
      "105 106 107 116 (1.0, 1.0, 0.0, 2.0, 3.141592653589793, 4.6024, 2.0, 3.141592653589793, 0.0)\n",
      "99 118 117 119 (1.0, 1.0, 0.0, 2.0, 3.141592653589793, 4.6024, 2.0, 3.141592653589793, 0.0)\n"
     ]
    }
   ],
   "source": [
    "for i in htf._hybrid_to_environment_torsion_indices:\n",
    "    p1, p2, p3, p4, hybrid_params = custom_bond_force.getTorsionParameters(i)\n",
    "    print(p1, p2, p3, p4, hybrid_params)"
   ]
  },
  {
   "cell_type": "code",
   "execution_count": 53,
   "id": "difficult-cream",
   "metadata": {
    "scrolled": true
   },
   "outputs": [
    {
     "name": "stdout",
     "output_type": "stream",
     "text": [
      "Warning: Returning CPU platform instead of requested platform <simtk.openmm.openmm.Platform; proxy of <Swig Object of type 'OpenMM::Platform *' at 0x2b890d8ed060> >\n",
      "conducting subsequent work with the following platform: CPU\n",
      "conducting subsequent work with the following platform: CUDA\n",
      "[('HarmonicBondForce', 7.300105424153174), ('HarmonicAngleForce', 12.445685055931849), ('PeriodicTorsionForce', 156.24350906389375), ('NonbondedForce', -10389.987370171535), ('AndersenThermostat', 0.0), ('MonteCarloBarostat', 0.0)]\n",
      "conducting subsequent work with the following platform: CUDA\n",
      "[('CustomBondForce', 7.300105424153174), ('CustomAngleForce', 304.7317311797578), ('AndersenThermostat', 0.0), ('MonteCarloBarostat', 0.0)]\n",
      "Success! Custom bond force and standard bond force energies are equal!\n"
     ]
    }
   ],
   "source": [
    "test_bond_energies(htf, is_solvated=True)"
   ]
  },
  {
   "cell_type": "markdown",
   "id": "southeast-norwegian",
   "metadata": {},
   "source": [
    "#### New system HarmonicBondForce vs hybrid system CustomBondForce"
   ]
  },
  {
   "cell_type": "code",
   "execution_count": 54,
   "id": "after-medicaid",
   "metadata": {},
   "outputs": [],
   "source": [
    "# Load htf\n",
    "with open(\"/home/zhangi/choderalab/perses_benchmark/perses_protein_mutations/code/26_rxn_field/8mer_solvent.pickle\", \"rb\") as f:\n",
    "    htf = pickle.load(f)\n"
   ]
  },
  {
   "cell_type": "code",
   "execution_count": 55,
   "id": "protected-playing",
   "metadata": {
    "scrolled": true
   },
   "outputs": [
    {
     "name": "stdout",
     "output_type": "stream",
     "text": [
      "Warning: Returning CPU platform instead of requested platform <simtk.openmm.openmm.Platform; proxy of <Swig Object of type 'OpenMM::Platform *' at 0x2b890d8ed060> >\n",
      "conducting subsequent work with the following platform: CPU\n",
      "conducting subsequent work with the following platform: CUDA\n",
      "[('HarmonicBondForce', 7.2544807917460155), ('HarmonicAngleForce', 304.4890027961487), ('PeriodicTorsionForce', 151.33915324689795), ('NonbondedForce', -10142.071695388939), ('AndersenThermostat', 0.0), ('MonteCarloBarostat', 0.0)]\n",
      "conducting subsequent work with the following platform: CUDA\n",
      "[('CustomBondForce', 7.2544807917460155), ('CustomAngleForce', 304.7317311797578), ('AndersenThermostat', 0.0), ('MonteCarloBarostat', 0.0)]\n",
      "Success! Custom bond force and standard bond force energies are equal!\n"
     ]
    }
   ],
   "source": [
    "test_bond_energies(htf, is_old=False, is_solvated=True)"
   ]
  },
  {
   "cell_type": "markdown",
   "id": "intellectual-pennsylvania",
   "metadata": {},
   "source": [
    "### Test one alchemical region, one scale region"
   ]
  },
  {
   "cell_type": "code",
   "execution_count": 56,
   "id": "4e12fd1c",
   "metadata": {},
   "outputs": [],
   "source": [
    "import os\n",
    "from pkg_resources import resource_filename\n",
    "from perses.app import setup_relative_calculation\n",
    "import pickle\n",
    "from simtk import openmm, unit\n",
    "from simtk.openmm import app\n",
    "from openmmforcefields.generators import SystemGenerator\n",
    "import numpy as np"
   ]
  },
  {
   "cell_type": "code",
   "execution_count": 57,
   "id": "12142255",
   "metadata": {},
   "outputs": [],
   "source": [
    "# Test 8-mer peptide in solvent\n",
    "peptide_filename = resource_filename('perses', 'data/8mer-example/4zuh_peptide_capped.pdb')\n",
    "pdb = app.PDBFile(peptide_filename)\n",
    "forcefield_files = ['amber14/protein.ff14SB.xml', 'amber14/tip3p.xml']\n",
    "barostat = openmm.MonteCarloBarostat(1.0 * unit.atmosphere, 300 * unit.kelvin, 50)\n",
    "# barostat = None\n",
    "modeller = app.Modeller(pdb.topology, pdb.positions)\n",
    " \n",
    "system_generator = SystemGenerator(forcefields=forcefield_files,\n",
    "                                   barostat=barostat,\n",
    "                                   forcefield_kwargs={'removeCMMotion': False,\n",
    "                                                      'ewaldErrorTolerance': 0.00025,\n",
    "                                                      'constraints': app.HBonds,\n",
    "                                                      'hydrogenMass': 4 * unit.amus},\n",
    "                                   periodic_forcefield_kwargs=None,\n",
    "                                   small_molecule_forcefield='gaff-2.11',\n",
    "                                   nonperiodic_forcefield_kwargs={'nonbondedMethod': app.NoCutoff},\n",
    "                                   molecules=None,\n",
    "                                   cache=None)\n",
    "\n",
    "modeller.addSolvent(system_generator.forcefield, model='tip3p', padding=9*unit.angstroms, ionicStrength=0.15*unit.molar)\n",
    "topology = modeller.getTopology()\n",
    "positions = modeller.getPositions()\n",
    "\n",
    "# Canonicalize the solvated positions: turn tuples into np.array\n",
    "positions = unit.quantity.Quantity(value=np.array([list(atom_pos) for atom_pos in positions.value_in_unit_system(unit.md_unit_system)]), unit=unit.nanometers)\n",
    "system = system_generator.create_system(topology)\n",
    "\n"
   ]
  },
  {
   "cell_type": "code",
   "execution_count": 58,
   "id": "dd6352bf",
   "metadata": {
    "scrolled": true
   },
   "outputs": [
    {
     "name": "stderr",
     "output_type": "stream",
     "text": [
      "2021-05-11 11:36:15,129:(172.01s):proposal_generator:\tConducting polymer point mutation proposal...\n"
     ]
    },
    {
     "name": "stdout",
     "output_type": "stream",
     "text": [
      "Making mutation ALA->GLY\n"
     ]
    },
    {
     "name": "stderr",
     "output_type": "stream",
     "text": [
      "2021-05-11 11:36:15,408:(0.28s):proposal_generator:Using matching_criterion to chose best atom map\n",
      "2021-05-11 11:36:15,411:(0.00s):proposal_generator:Scaffold has symmetry of 0\n",
      "2021-05-11 11:36:15,412:(0.00s):proposal_generator:Two molecules are not similar to have a common scaffold\n",
      "2021-05-11 11:36:15,413:(0.00s):proposal_generator:Proceeding with direct mapping of molecules, but please check atom mapping and the geometry of the ligands.\n",
      "2021-05-11 11:36:15,415:(0.00s):proposal_generator:len [{5: 6}, {6: 6}]\n",
      "2021-05-11 11:36:15,417:(0.00s):proposal_generator:{5: 6}\n",
      "2021-05-11 11:36:15,418:(0.00s):proposal_generator:{6: 6}\n",
      "2021-05-11 11:36:15,419:(0.00s):proposal_generator:Returning map that best satisfies matching_criterion\n",
      "2021-05-11 11:36:15,421:(0.00s):proposal_generator:Finding best map using matching_criterion name\n",
      "2021-05-11 11:36:15,422:(0.00s):proposal_generator:{5: 6}\n",
      "2021-05-11 11:36:16,303:(0.88s):geometry:propose: performing forward proposal\n",
      "2021-05-11 11:36:16,305:(0.00s):geometry:propose: unique new atoms detected; proceeding to _logp_propose...\n",
      "2021-05-11 11:36:16,307:(0.00s):geometry:Conducting forward proposal...\n",
      "2021-05-11 11:36:16,308:(0.00s):geometry:Computing proposal order with NetworkX...\n",
      "2021-05-11 11:36:16,313:(0.01s):geometry:number of atoms to be placed: 2\n",
      "2021-05-11 11:36:16,315:(0.00s):geometry:Atom index proposal order is [23, 22]\n",
      "2021-05-11 11:36:16,316:(0.00s):geometry:omitted_bonds: []\n",
      "2021-05-11 11:36:16,318:(0.00s):geometry:direction of proposal is forward; creating atoms_with_positions and new positions from old system/topology...\n",
      "2021-05-11 11:36:16,928:(0.61s):geometry:creating growth system...\n",
      "2021-05-11 11:36:17,020:(0.09s):geometry:\tcreating bond force...\n",
      "2021-05-11 11:36:17,021:(0.00s):geometry:\tthere are 60 bonds in reference force.\n",
      "2021-05-11 11:36:17,023:(0.00s):geometry:\tcreating angle force...\n",
      "2021-05-11 11:36:17,025:(0.00s):geometry:\tthere are 212 angles in reference force.\n",
      "2021-05-11 11:36:17,028:(0.00s):geometry:\tcreating torsion force...\n",
      "2021-05-11 11:36:17,029:(0.00s):geometry:\tcreating extra torsions force...\n",
      "2021-05-11 11:36:17,030:(0.00s):geometry:\tthere are 386 torsions in reference force.\n",
      "2021-05-11 11:36:17,033:(0.00s):geometry:\tcreating nonbonded force...\n",
      "2021-05-11 11:36:17,035:(0.00s):geometry:\t\tgrabbing reference nonbonded method, cutoff, switching function, switching distance...\n",
      "2021-05-11 11:36:17,036:(0.00s):geometry:\t\tcreating nonbonded exception force (i.e. custom bond for 1,4s)...\n",
      "2021-05-11 11:36:17,037:(0.00s):geometry:\t\tlooping through exceptions calculating growth indices, and adding appropriate interactions to custom bond force.\n",
      "2021-05-11 11:36:17,039:(0.00s):geometry:\t\tthere are 6069 in the reference Nonbonded force\n",
      "2021-05-11 11:36:17,133:(0.09s):geometry:Neglected angle terms : []\n",
      "2021-05-11 11:36:17,135:(0.00s):geometry:omitted_growth_terms: {'bonds': [], 'angles': [], 'torsions': [], '1,4s': []}\n",
      "2021-05-11 11:36:17,136:(0.00s):geometry:extra torsions: {0: (21, 17, 18, 23, [1, Quantity(value=1.0473712929903445, unit=radian), Quantity(value=1200.0, unit=kilocalorie/mole), 1]), 1: (21, 17, 18, 22, [1, Quantity(value=-1.0703261987238921, unit=radian), Quantity(value=1200.0, unit=kilocalorie/mole), 2])}\n",
      "2021-05-11 11:36:17,137:(0.00s):geometry:neglected angle terms include []\n",
      "2021-05-11 11:36:17,139:(0.00s):geometry:log probability choice of torsions and atom order: -2.0794415416798357\n",
      "2021-05-11 11:36:17,140:(0.00s):geometry:creating platform, integrators, and contexts; setting growth parameter\n"
     ]
    },
    {
     "name": "stdout",
     "output_type": "stream",
     "text": [
      "conducting subsequent work with the following platform: CUDA\n"
     ]
    },
    {
     "name": "stderr",
     "output_type": "stream",
     "text": [
      "2021-05-11 11:36:17,590:(0.45s):geometry:setting atoms_with_positions context new positions\n",
      "2021-05-11 11:36:17,912:(0.32s):geometry:There are 2 new atoms\n",
      "2021-05-11 11:36:17,923:(0.01s):geometry:\treduced angle potential = 1.5177149526591316.\n"
     ]
    },
    {
     "name": "stdout",
     "output_type": "stream",
     "text": [
      "conducting subsequent work with the following platform: CUDA\n"
     ]
    },
    {
     "name": "stderr",
     "output_type": "stream",
     "text": [
      "2021-05-11 11:36:18,037:(0.11s):geometry:\treduced angle potential = 0.44158706069864406.\n",
      "2021-05-11 11:36:18,191:(0.15s):geometry:\tbeginning construction of no_nonbonded final system...\n",
      "2021-05-11 11:36:18,193:(0.00s):geometry:\tinitial no-nonbonded final system forces ['HarmonicBondForce', 'HarmonicAngleForce', 'PeriodicTorsionForce', 'NonbondedForce', 'MonteCarloBarostat']\n",
      "2021-05-11 11:36:18,436:(0.24s):geometry:\tfinal no-nonbonded final system forces dict_keys(['HarmonicBondForce', 'HarmonicAngleForce', 'PeriodicTorsionForce', 'NonbondedForce'])\n",
      "2021-05-11 11:36:18,437:(0.00s):geometry:\tthere are 60 bond forces in the no-nonbonded final system\n",
      "2021-05-11 11:36:18,439:(0.00s):geometry:\tthere are 212 angle forces in the no-nonbonded final system\n",
      "2021-05-11 11:36:18,440:(0.00s):geometry:\tthere are 386 torsion forces in the no-nonbonded final system\n",
      "2021-05-11 11:36:18,442:(0.00s):geometry:forward final system defined with 0 neglected angles.\n"
     ]
    },
    {
     "name": "stdout",
     "output_type": "stream",
     "text": [
      "conducting subsequent work with the following platform: CUDA\n"
     ]
    },
    {
     "name": "stderr",
     "output_type": "stream",
     "text": [
      "2021-05-11 11:36:19,246:(0.80s):geometry:total reduced potential before atom placement: 167.96576588447826\n"
     ]
    },
    {
     "name": "stdout",
     "output_type": "stream",
     "text": [
      "conducting subsequent work with the following platform: CUDA\n",
      "conducting subsequent work with the following platform: CUDA\n",
      "conducting subsequent work with the following platform: CUDA\n",
      "conducting subsequent work with the following platform: CUDA\n",
      "added energy components: [('CustomBondForce', 0.0), ('CustomAngleForce', 147.66816080853815), ('CustomTorsionForce', 2.659802038063051), ('CustomBondForce', 136.06074639107823)]\n"
     ]
    },
    {
     "name": "stderr",
     "output_type": "stream",
     "text": [
      "2021-05-11 11:36:20,183:(0.94s):geometry:total reduced energy added from growth system: 286.3887092376794\n",
      "2021-05-11 11:36:20,185:(0.00s):geometry:final reduced energy 454.35447473338036\n",
      "2021-05-11 11:36:20,186:(0.00s):geometry:sum of energies: 454.3544751221576\n",
      "2021-05-11 11:36:20,187:(0.00s):geometry:magnitude of difference in the energies: 3.8877732322362135e-07\n",
      "2021-05-11 11:36:20,189:(0.00s):geometry:Final logp_proposal: 12.616638554144028\n",
      "2021-05-11 11:36:20,286:(0.10s):geometry:logp_reverse: performing reverse proposal\n",
      "2021-05-11 11:36:20,288:(0.00s):geometry:logp_reverse: unique new atoms detected; proceeding to _logp_propose...\n",
      "2021-05-11 11:36:20,290:(0.00s):geometry:Conducting forward proposal...\n",
      "2021-05-11 11:36:20,291:(0.00s):geometry:Computing proposal order with NetworkX...\n",
      "2021-05-11 11:36:20,300:(0.01s):geometry:number of atoms to be placed: 5\n",
      "2021-05-11 11:36:20,302:(0.00s):geometry:Atom index proposal order is [21, 26, 23, 25, 24]\n",
      "2021-05-11 11:36:20,303:(0.00s):geometry:omitted_bonds: []\n",
      "2021-05-11 11:36:20,305:(0.00s):geometry:direction of proposal is reverse; creating atoms_with_positions from old system/topology\n",
      "2021-05-11 11:36:20,867:(0.56s):geometry:creating growth system...\n",
      "2021-05-11 11:36:20,960:(0.09s):geometry:\tcreating bond force...\n",
      "2021-05-11 11:36:20,962:(0.00s):geometry:\tthere are 61 bonds in reference force.\n",
      "2021-05-11 11:36:20,964:(0.00s):geometry:\tcreating angle force...\n",
      "2021-05-11 11:36:20,965:(0.00s):geometry:\tthere are 218 angles in reference force.\n",
      "2021-05-11 11:36:20,968:(0.00s):geometry:\tcreating torsion force...\n",
      "2021-05-11 11:36:20,970:(0.00s):geometry:\tcreating extra torsions force...\n",
      "2021-05-11 11:36:20,971:(0.00s):geometry:\tthere are 399 torsions in reference force.\n",
      "2021-05-11 11:36:20,975:(0.00s):geometry:\tcreating nonbonded force...\n",
      "2021-05-11 11:36:20,976:(0.00s):geometry:\t\tgrabbing reference nonbonded method, cutoff, switching function, switching distance...\n",
      "2021-05-11 11:36:20,977:(0.00s):geometry:\t\tcreating nonbonded exception force (i.e. custom bond for 1,4s)...\n",
      "2021-05-11 11:36:20,979:(0.00s):geometry:\t\tlooping through exceptions calculating growth indices, and adding appropriate interactions to custom bond force.\n",
      "2021-05-11 11:36:20,980:(0.00s):geometry:\t\tthere are 6087 in the reference Nonbonded force\n",
      "2021-05-11 11:36:21,077:(0.10s):geometry:Neglected angle terms : []\n",
      "2021-05-11 11:36:21,078:(0.00s):geometry:omitted_growth_terms: {'bonds': [], 'angles': [], 'torsions': [], '1,4s': []}\n",
      "2021-05-11 11:36:21,080:(0.00s):geometry:extra torsions: {0: (22, 17, 18, 21, [1, Quantity(value=0.9799661941737812, unit=radian), Quantity(value=1200.0, unit=kilocalorie/mole), 1]), 1: (22, 17, 18, 23, [1, Quantity(value=-1.0869776273974132, unit=radian), Quantity(value=1200.0, unit=kilocalorie/mole), 3]), 2: (17, 18, 21, 24, [1, Quantity(value=2.105358864604291, unit=radian), Quantity(value=1200.0, unit=kilocalorie/mole), 5]), 3: (17, 18, 21, 25, [1, Quantity(value=-2.0823006129211796, unit=radian), Quantity(value=1200.0, unit=kilocalorie/mole), 4]), 4: (17, 18, 21, 26, [1, Quantity(value=0.018582237407944735, unit=radian), Quantity(value=1200.0, unit=kilocalorie/mole), 2]), 5: (19, 18, 21, 24, [1, Quantity(value=-0.036945135932107576, unit=radian), Quantity(value=1200.0, unit=kilocalorie/mole), 5]), 6: (19, 18, 21, 25, [1, Quantity(value=2.0585806937220097, unit=radian), Quantity(value=1200.0, unit=kilocalorie/mole), 4]), 7: (19, 18, 21, 26, [1, Quantity(value=-2.1237217631284597, unit=radian), Quantity(value=1200.0, unit=kilocalorie/mole), 2]), 8: (23, 18, 21, 24, [1, Quantity(value=-2.119603470065817, unit=radian), Quantity(value=1200.0, unit=kilocalorie/mole), 5]), 9: (23, 18, 21, 25, [1, Quantity(value=-0.024077640411697132, unit=radian), Quantity(value=1200.0, unit=kilocalorie/mole), 4]), 10: (23, 18, 21, 26, [1, Quantity(value=2.0768052099174152, unit=radian), Quantity(value=1200.0, unit=kilocalorie/mole), 3]), 11: (21, 18, 19, 23, [1, Quantity(value=1.0372673371030796, unit=radian), Quantity(value=1200.0, unit=kilocalorie/mole), 3])}\n",
      "2021-05-11 11:36:21,081:(0.00s):geometry:neglected angle terms include []\n",
      "2021-05-11 11:36:21,083:(0.00s):geometry:log probability choice of torsions and atom order: -7.60887062919126\n",
      "2021-05-11 11:36:21,084:(0.00s):geometry:creating platform, integrators, and contexts; setting growth parameter\n"
     ]
    },
    {
     "name": "stdout",
     "output_type": "stream",
     "text": [
      "conducting subsequent work with the following platform: CUDA\n"
     ]
    },
    {
     "name": "stderr",
     "output_type": "stream",
     "text": [
      "2021-05-11 11:36:21,495:(0.41s):geometry:setting atoms_with_positions context old positions\n"
     ]
    },
    {
     "name": "stdout",
     "output_type": "stream",
     "text": [
      "conducting subsequent work with the following platform: CUDA\n"
     ]
    },
    {
     "name": "stderr",
     "output_type": "stream",
     "text": [
      "2021-05-11 11:36:22,015:(0.52s):geometry:There are 5 new atoms\n",
      "2021-05-11 11:36:22,019:(0.00s):geometry:\treduced angle potential = 0.017911900159989516.\n",
      "2021-05-11 11:36:22,127:(0.11s):geometry:\treduced angle potential = 2.233125127093818e-08.\n",
      "2021-05-11 11:36:22,235:(0.11s):geometry:\treduced angle potential = 0.061603063803821634.\n",
      "2021-05-11 11:36:22,346:(0.11s):geometry:\treduced angle potential = 9.561051668715153e-06.\n",
      "2021-05-11 11:36:22,456:(0.11s):geometry:\treduced angle potential = 9.265637866968462e-06.\n",
      "2021-05-11 11:36:22,614:(0.16s):geometry:\tbeginning construction of no_nonbonded final system...\n",
      "2021-05-11 11:36:22,615:(0.00s):geometry:\tinitial no-nonbonded final system forces ['HarmonicBondForce', 'HarmonicAngleForce', 'PeriodicTorsionForce', 'NonbondedForce', 'MonteCarloBarostat']\n",
      "2021-05-11 11:36:22,861:(0.25s):geometry:\tfinal no-nonbonded final system forces dict_keys(['HarmonicBondForce', 'HarmonicAngleForce', 'PeriodicTorsionForce', 'NonbondedForce'])\n",
      "2021-05-11 11:36:22,863:(0.00s):geometry:\tthere are 61 bond forces in the no-nonbonded final system\n",
      "2021-05-11 11:36:22,864:(0.00s):geometry:\tthere are 218 angle forces in the no-nonbonded final system\n",
      "2021-05-11 11:36:22,865:(0.00s):geometry:\tthere are 399 torsion forces in the no-nonbonded final system\n",
      "2021-05-11 11:36:22,867:(0.00s):geometry:reverse final system defined with 0 neglected angles.\n"
     ]
    },
    {
     "name": "stdout",
     "output_type": "stream",
     "text": [
      "conducting subsequent work with the following platform: CUDA\n"
     ]
    },
    {
     "name": "stderr",
     "output_type": "stream",
     "text": [
      "2021-05-11 11:36:23,689:(0.82s):geometry:total reduced potential before atom placement: 167.96576588447826\n"
     ]
    },
    {
     "name": "stdout",
     "output_type": "stream",
     "text": [
      "conducting subsequent work with the following platform: CUDA\n",
      "conducting subsequent work with the following platform: CUDA\n",
      "conducting subsequent work with the following platform: CUDA\n"
     ]
    },
    {
     "name": "stderr",
     "output_type": "stream",
     "text": [
      "2021-05-11 11:36:24,601:(0.91s):geometry:total reduced energy added from growth system: 18.779365142563123\n",
      "2021-05-11 11:36:24,604:(0.00s):geometry:final reduced energy 186.74513005483178\n",
      "2021-05-11 11:36:24,605:(0.00s):geometry:sum of energies: 186.7451310270414\n",
      "2021-05-11 11:36:24,607:(0.00s):geometry:magnitude of difference in the energies: 9.722096052655615e-07\n",
      "2021-05-11 11:36:24,608:(0.00s):geometry:Final logp_proposal: -27946.739550944832\n"
     ]
    },
    {
     "name": "stdout",
     "output_type": "stream",
     "text": [
      "conducting subsequent work with the following platform: CUDA\n",
      "added energy components: [('CustomBondForce', 0.04562463240715887), ('CustomAngleForce', 0.24272838360905494), ('CustomTorsionForce', 7.735181302225758), ('CustomBondForce', 10.755830824321151)]\n"
     ]
    }
   ],
   "source": [
    "from perses.rjmc.topology_proposal import PointMutationEngine\n",
    "from perses.annihilation.relative import RepartitionedHybridTopologyFactory\n",
    "from perses.tests.utils import validate_endstate_energies\n",
    "import random\n",
    "\n",
    "aminos = ['ALA','ARG','ASN','ASP','CYS','GLN','GLU','GLY','HIS','ILE','LEU','LYS','MET','PHE','PRO','SER','THR','TRP','TYR','VAL']\n",
    "\n",
    "ENERGY_THRESHOLD = 1e-6\n",
    "kB = unit.BOLTZMANN_CONSTANT_kB * unit.AVOGADRO_CONSTANT_NA\n",
    "temperature = 300.0 * unit.kelvin\n",
    "kT = kB * temperature\n",
    "beta = 1.0/kT\n",
    "\n",
    "chain = 'C'\n",
    "for res in topology.residues():\n",
    "    if res.id == '2':\n",
    "        wt_res = res.name\n",
    "aminos_updated = [amino for amino in aminos if amino not in [wt_res, 'PRO', 'HIS', 'TRP', 'PHE', 'TYR']]\n",
    "mutant = random.choice(aminos_updated)\n",
    "print(f'Making mutation {wt_res}->{mutant}')\n",
    "\n",
    "# Create point mutation engine to mutate residue at id 2 to random amino acid\n",
    "point_mutation_engine = PointMutationEngine(wildtype_topology=topology,\n",
    "                                            system_generator=system_generator,\n",
    "                                            chain_id=chain,\n",
    "                                            max_point_mutants=1,\n",
    "                                            residues_allowed_to_mutate=['2'],  # the residue ids allowed to mutate\n",
    "                                            allowed_mutations=[('2', mutant)],\n",
    "                                            aggregate=True)  # always allow aggregation\n",
    "\n",
    "# Create topology proposal\n",
    "topology_proposal = point_mutation_engine.propose(current_system=system, current_topology=topology)\n",
    "\n",
    "# Create geometry engine\n",
    "from perses.rjmc.geometry import FFAllAngleGeometryEngine\n",
    "geometry_engine = FFAllAngleGeometryEngine(metadata=None,\n",
    "                                           use_sterics=False,\n",
    "                                           n_bond_divisions=100,\n",
    "                                           n_angle_divisions=180,\n",
    "                                           n_torsion_divisions=360,\n",
    "                                           verbose=True,\n",
    "                                           storage=None,\n",
    "                                           bond_softening_constant=1.0,\n",
    "                                           angle_softening_constant=1.0,\n",
    "                                           neglect_angles=False,\n",
    "                                           use_14_nonbondeds=True)\n",
    "\n",
    "# Create geometry proposal\n",
    "new_positions, logp_proposal = geometry_engine.propose(topology_proposal, positions, beta,\n",
    "                                                               validate_energy_bookkeeping=True)\n",
    "logp_reverse = geometry_engine.logp_reverse(topology_proposal, new_positions, positions, beta,\n",
    "                                            validate_energy_bookkeeping=True)\n",
    "\n",
    "if not topology_proposal.unique_new_atoms:\n",
    "    assert geometry_engine.forward_final_context_reduced_potential == None, f\"There are no unique new atoms but the geometry_engine's final context reduced potential is not None (i.e. {self._geometry_engine.forward_final_context_reduced_potential})\"\n",
    "    assert geometry_engine.forward_atoms_with_positions_reduced_potential == None, f\"There are no unique new atoms but the geometry_engine's forward atoms-with-positions-reduced-potential in not None (i.e. { self._geometry_engine.forward_atoms_with_positions_reduced_potential})\"\n",
    "    vacuum_added_valence_energy = 0.0\n",
    "else:\n",
    "    added_valence_energy = geometry_engine.forward_final_context_reduced_potential - geometry_engine.forward_atoms_with_positions_reduced_potential\n",
    "\n",
    "if not topology_proposal.unique_old_atoms:\n",
    "    assert geometry_engine.reverse_final_context_reduced_potential == None, f\"There are no unique old atoms but the geometry_engine's final context reduced potential is not None (i.e. {self._geometry_engine.reverse_final_context_reduced_potential})\"\n",
    "    assert geometry_engine.reverse_atoms_with_positions_reduced_potential == None, f\"There are no unique old atoms but the geometry_engine's atoms-with-positions-reduced-potential in not None (i.e. { self._geometry_engine.reverse_atoms_with_positions_reduced_potential})\"\n",
    "    subtracted_valence_energy = 0.0\n",
    "else:\n",
    "    subtracted_valence_energy = geometry_engine.reverse_final_context_reduced_potential - geometry_engine.reverse_atoms_with_positions_reduced_potential\n"
   ]
  },
  {
   "cell_type": "code",
   "execution_count": 60,
   "id": "3213dec6",
   "metadata": {
    "scrolled": true
   },
   "outputs": [
    {
     "name": "stderr",
     "output_type": "stream",
     "text": [
      "2021-05-11 11:36:53,775:(28.90s):relative:*** Generating RxnHybridTopologyFactory ***\n",
      "2021-05-11 11:36:53,785:(0.01s):relative:Beginning nonbonded method, total particle, barostat, and exceptions retrieval...\n",
      "2021-05-11 11:36:53,946:(0.16s):relative:Old system forces: dict_keys(['HarmonicBondForce', 'HarmonicAngleForce', 'PeriodicTorsionForce', 'NonbondedForce', 'MonteCarloBarostat'])\n",
      "2021-05-11 11:36:53,948:(0.00s):relative:New system forces: dict_keys(['HarmonicBondForce', 'HarmonicAngleForce', 'PeriodicTorsionForce', 'NonbondedForce', 'MonteCarloBarostat'])\n",
      "2021-05-11 11:36:53,949:(0.00s):relative:No unknown forces.\n",
      "2021-05-11 11:36:53,951:(0.00s):relative:Nonbonded method to be used (i.e. from old system): 4\n",
      "2021-05-11 11:36:53,952:(0.00s):relative:Adding and mapping old atoms to hybrid system...\n",
      "2021-05-11 11:36:53,993:(0.04s):relative:Adding and mapping new atoms to hybrid system...\n",
      "2021-05-11 11:36:53,994:(0.00s):relative:scale_templates: [['nonscale_lambda', 'scale_lambda_0', 'interscale_lambda_0'], ['nonscale_region', 'scale_region_0', 'interscale_region_0']]\n",
      "2021-05-11 11:36:53,996:(0.00s):relative:Added MonteCarloBarostat.\n",
      "2021-05-11 11:36:53,997:(0.00s):relative:getDefaultPeriodicBoxVectors added to hybrid: [Quantity(value=Vec3(x=3.9005, y=0.0, z=0.0), unit=nanometer), Quantity(value=Vec3(x=0.0, y=3.9005, z=0.0), unit=nanometer), Quantity(value=Vec3(x=0.0, y=0.0, z=3.9005), unit=nanometer)]\n",
      "2021-05-11 11:36:54,001:(0.00s):relative:Determined atom classes.\n",
      "2021-05-11 11:36:54,002:(0.00s):relative:Generating old system exceptions dict...\n",
      "2021-05-11 11:36:54,030:(0.03s):relative:Generating new system exceptions dict...\n",
      "2021-05-11 11:36:54,069:(0.04s):relative:Handling constraints...\n",
      "2021-05-11 11:36:54,159:(0.09s):relative:Handling virtual sites...\n",
      "2021-05-11 11:36:54,163:(0.00s):relative:\t_handle_virtual_sites: numVirtualSites: 0\n"
     ]
    },
    {
     "name": "stdout",
     "output_type": "stream",
     "text": [
      "( nonscale_lambda_bonds * nonscale_region+scale_lambda_0_bonds * scale_region_0+interscale_lambda_0_bonds * interscale_region_0 ) * (K/2)*(r-length)^2;K = ( 1 * environment_region+lambda_0_bonds_old * alchemical_region_0 ) * K1 + ( 1 * environment_region+lambda_0_bonds_new * alchemical_region_0 ) * K2;length = ( 1 * environment_region+lambda_0_bonds_old * alchemical_region_0 ) * length1 + ( 1 * environment_region+lambda_0_bonds_new * alchemical_region_0 ) * length2;\n"
     ]
    }
   ],
   "source": [
    "from perses.annihilation.relative import RxnHybridTopologyFactory\n",
    "flatten_exceptions = True\n",
    "flatten_torsions = True\n",
    "endstate = None\n",
    "scale_regions = [list(htf._atom_classes['unique_old_atoms'][0]) + list(htf._atom_classes['unique_new_atoms'][0])]\n",
    "htf = RxnHybridTopologyFactory(topology_proposal=topology_proposal,\n",
    "                     current_positions=positions,\n",
    "                     new_positions=new_positions,\n",
    "                     use_dispersion_correction=False,\n",
    "                     functions=None,\n",
    "                     softcore_alpha=None,\n",
    "                     bond_softening_constant=1.0,\n",
    "                     angle_softening_constant=1.0,\n",
    "                     soften_only_new=False,\n",
    "                     neglected_new_angle_terms=[],\n",
    "                     neglected_old_angle_terms=[],\n",
    "                     softcore_LJ_v2=True,\n",
    "                     softcore_electrostatics=True,\n",
    "                     softcore_LJ_v2_alpha=0.85,\n",
    "                     softcore_electrostatics_alpha=0.3,\n",
    "                     softcore_sigma_Q=1.0,\n",
    "                     interpolate_old_and_new_14s=flatten_exceptions,\n",
    "                     omitted_terms=None,\n",
    "                     flatten_torsions=flatten_torsions,\n",
    "                     scale_regions=scale_regions)"
   ]
  },
  {
   "cell_type": "code",
   "execution_count": 61,
   "id": "053830ab",
   "metadata": {},
   "outputs": [],
   "source": [
    "# Save htf\n",
    "with open(\"8mer_solvent_scale_region.pickle\", \"wb\") as f:\n",
    "    pickle.dump(htf, f)"
   ]
  },
  {
   "cell_type": "markdown",
   "id": "romantic-florist",
   "metadata": {},
   "source": [
    "#### Old system HarmonicBondForce vs hybrid system CustomBondForce"
   ]
  },
  {
   "cell_type": "code",
   "execution_count": 62,
   "id": "needed-classroom",
   "metadata": {},
   "outputs": [],
   "source": [
    "# Load htf\n",
    "with open(\"/home/zhangi/choderalab/perses_benchmark/perses_protein_mutations/code/26_rxn_field/8mer_solvent_scale_region.pickle\", \"rb\") as f:\n",
    "    htf = pickle.load(f)"
   ]
  },
  {
   "cell_type": "code",
   "execution_count": 63,
   "id": "minimal-purchase",
   "metadata": {},
   "outputs": [
    {
     "data": {
      "text/plain": [
       "[21, 23, 24, 25, 26, 5576, 5575]"
      ]
     },
     "execution_count": 63,
     "metadata": {},
     "output_type": "execute_result"
    }
   ],
   "source": [
    "# This is the scale region\n",
    "list(htf._atom_classes['unique_old_atoms'][0]) + list(htf._atom_classes['unique_new_atoms'][0])"
   ]
  },
  {
   "cell_type": "code",
   "execution_count": 64,
   "id": "continuing-award",
   "metadata": {},
   "outputs": [
    {
     "name": "stdout",
     "output_type": "stream",
     "text": [
      "Warning: Returning CPU platform instead of requested platform <simtk.openmm.openmm.Platform; proxy of <Swig Object of type 'OpenMM::Platform *' at 0x2b890d8ed060> >\n",
      "conducting subsequent work with the following platform: CPU\n",
      "conducting subsequent work with the following platform: CUDA\n",
      "[('HarmonicBondForce', 7.300105424153174), ('HarmonicAngleForce', 12.445685055931849), ('PeriodicTorsionForce', 156.24350906389375), ('NonbondedForce', -10187.074749800007), ('AndersenThermostat', 0.0), ('MonteCarloBarostat', 0.0)]\n",
      "conducting subsequent work with the following platform: CUDA\n",
      "[('CustomBondForce', 7.300105424153174), ('CustomAngleForce', 160.11384586447), ('AndersenThermostat', 0.0), ('MonteCarloBarostat', 0.0)]\n",
      "Success! Custom bond force and standard bond force energies are equal!\n"
     ]
    }
   ],
   "source": [
    "test_bond_energies(htf, is_solvated=True)"
   ]
  },
  {
   "cell_type": "markdown",
   "id": "relevant-insured",
   "metadata": {},
   "source": [
    "#### New system HarmonicBondForce vs hybrid system CustomBondForce"
   ]
  },
  {
   "cell_type": "code",
   "execution_count": 65,
   "id": "mediterranean-assist",
   "metadata": {},
   "outputs": [],
   "source": [
    "# Load htf\n",
    "with open(\"/home/zhangi/choderalab/perses_benchmark/perses_protein_mutations/code/26_rxn_field/8mer_solvent_scale_region.pickle\", \"rb\") as f:\n",
    "    htf = pickle.load(f)"
   ]
  },
  {
   "cell_type": "code",
   "execution_count": 66,
   "id": "angry-perception",
   "metadata": {
    "scrolled": true
   },
   "outputs": [
    {
     "name": "stdout",
     "output_type": "stream",
     "text": [
      "Warning: Returning CPU platform instead of requested platform <simtk.openmm.openmm.Platform; proxy of <Swig Object of type 'OpenMM::Platform *' at 0x2b890d8ed060> >\n",
      "conducting subsequent work with the following platform: CPU\n",
      "conducting subsequent work with the following platform: CUDA\n",
      "[('HarmonicBondForce', 7.2544807917460155), ('HarmonicAngleForce', 159.87111748086093), ('PeriodicTorsionForce', 151.16813048949732), ('NonbondedForce', -10055.098660066074), ('AndersenThermostat', 0.0), ('MonteCarloBarostat', 0.0)]\n",
      "conducting subsequent work with the following platform: CUDA\n",
      "[('CustomBondForce', 7.2544807917460155), ('CustomAngleForce', 160.11384586447), ('AndersenThermostat', 0.0), ('MonteCarloBarostat', 0.0)]\n",
      "Success! Custom bond force and standard bond force energies are equal!\n"
     ]
    }
   ],
   "source": [
    "test_bond_energies(htf, is_old=False, is_solvated=True)"
   ]
  },
  {
   "cell_type": "markdown",
   "id": "corrected-meeting",
   "metadata": {},
   "source": [
    "## Barnase:barstar (old htf, no naked charge fix or counterion fix)"
   ]
  },
  {
   "cell_type": "markdown",
   "id": "japanese-persian",
   "metadata": {},
   "source": [
    "### Test one alchemical region, no scale regions"
   ]
  },
  {
   "cell_type": "code",
   "execution_count": 17,
   "id": "d94d0516",
   "metadata": {},
   "outputs": [],
   "source": [
    "from perses.app.relative_point_mutation_setup import PointMutationExecutor"
   ]
  },
  {
   "cell_type": "code",
   "execution_count": 18,
   "id": "3c7b671e",
   "metadata": {},
   "outputs": [],
   "source": [
    "from __future__ import absolute_import\n",
    "\n",
    "from perses.utils.openeye import createOEMolFromSDF, extractPositionsFromOEMol, oechem\n",
    "from perses.annihilation.relative import HybridTopologyFactory, RepartitionedHybridTopologyFactory, RxnHybridTopologyFactory\n",
    "from perses.rjmc.topology_proposal import PointMutationEngine\n",
    "from perses.rjmc.geometry import FFAllAngleGeometryEngine\n",
    "\n",
    "import simtk.openmm as openmm\n",
    "import simtk.openmm.app as app\n",
    "import simtk.unit as unit\n",
    "import numpy as np\n",
    "from openmoltools import forcefield_generators\n",
    "import mdtraj as md\n",
    "from openmmtools.constants import kB\n",
    "from perses.tests.utils import validate_endstate_energies\n",
    "from openff.toolkit.topology import Molecule\n",
    "from openmmforcefields.generators import SystemGenerator\n",
    "\n",
    "ENERGY_THRESHOLD = 1e-2\n",
    "temperature = 300 * unit.kelvin\n",
    "kT = kB * temperature\n",
    "beta = 1.0/kT\n",
    "ring_amino_acids = ['TYR', 'PHE', 'TRP', 'PRO', 'HIS']\n",
    "\n",
    "# Set up logger\n",
    "import logging\n",
    "_logger = logging.getLogger()\n",
    "_logger.setLevel(logging.INFO)\n",
    "\n",
    "class PointMutationExecutor2(PointMutationExecutor):\n",
    "    \"\"\"\n",
    "    Simple, stripped-down class to create a protein-ligand system and allow a mutation of a protein.\n",
    "    this will allow support for the creation of _two_ relative free energy calculations:\n",
    "        1. 'wildtype' - 'point mutant' complex hybrid.\n",
    "        2. 'wildtype' - 'point mutant' protein hybrid (i.e. with ligand of interest unbound)\n",
    "    Example (create full point mutation executor and run parallel tempering on both complex and apo phases):\n",
    "        from pkg_resources import resource_filename\n",
    "        protein_path = 'data/perses_jacs_systems/thrombin/Thrombin_protein.pdb'\n",
    "        ligands_path = 'data/perses_jacs_systems/thrombin/Thrombin_ligands.sdf'\n",
    "        protein_filename = resource_filename('openmmforcefields', protein_path)\n",
    "        ligand_input = resource_filename('openmmforcefields', ligands_path)\n",
    "        pm_delivery = PointMutationExecutor(protein_filename=protein_filename,\n",
    "                                    mutation_chain_id='2',\n",
    "                                    mutation_residue_id='198',\n",
    "                                     proposed_residue='THR',\n",
    "                                     phase='complex',\n",
    "                                     conduct_endstate_validation=False,\n",
    "                                     ligand_input=ligand_input,\n",
    "                                     ligand_index=0,\n",
    "                                     forcefield_files=['amber14/protein.ff14SB.xml', 'amber14/tip3p.xml'],\n",
    "                                     barostat=openmm.MonteCarloBarostat(1.0 * unit.atmosphere, temperature, 50),\n",
    "                                     forcefield_kwargs={'removeCMMotion': False, 'ewaldErrorTolerance': 1e-4, 'nonbondedMethod': app.PME, 'constraints' : app.HBonds, 'hydrogenMass' : 4 * unit.amus},\n",
    "                                     small_molecule_forcefields='gaff-2.11')\n",
    "        complex_htf = pm_delivery.get_complex_htf()\n",
    "        apo_htf = pm_delivery.get_apo_htf()\n",
    "        # Now we can build the hybrid repex samplers\n",
    "        from perses.annihilation.lambda_protocol import LambdaProtocol\n",
    "        from openmmtools.multistate import MultiStateReporter\n",
    "        from perses.samplers.multistate import HybridRepexSampler\n",
    "        from openmmtools import mcmc\n",
    "        suffix = 'run'; selection = 'not water'; checkpoint_interval = 10; n_states = 11; n_cycles = 5000\n",
    "        for htf in [complex_htf, apo_htf]:\n",
    "            lambda_protocol = LambdaProtocol(functions='default')\n",
    "            reporter_file = 'reporter.nc'\n",
    "            reporter = MultiStateReporter(reporter_file, analysis_particle_indices = htf.hybrid_topology.select(selection), checkpoint_interval = checkpoint_interval)\n",
    "            hss = HybridRepexSampler(mcmc_moves=mcmc.LangevinSplittingDynamicsMove(timestep= 4.0 * unit.femtoseconds,\n",
    "                                                                                  collision_rate=5.0 / unit.picosecond,\n",
    "                                                                                  n_steps=250,\n",
    "                                                                                  reassign_velocities=False,\n",
    "                                                                                  n_restart_attempts=20,\n",
    "                                                                                  splitting=\"V R R R O R R R V\",\n",
    "                                                                                  constraint_tolerance=1e-06),\n",
    "                                                                                  hybrid_factory=htf, online_analysis_interval=10)\n",
    "            hss.setup(n_states=n_states, temperature=300*unit.kelvin, storage_file=reporter, lambda_protocol=lambda_protocol, endstates=False)\n",
    "            hss.extend(n_cycles)\n",
    "    \"\"\"\n",
    "    def __init__(self,\n",
    "                 protein_filename,\n",
    "                 mutation_chain_id,\n",
    "                 mutation_residue_id,\n",
    "                 proposed_residue,\n",
    "                 phase='complex',\n",
    "                 conduct_endstate_validation=True,\n",
    "                 ligand_input=None,\n",
    "                 ligand_index=0,\n",
    "                 water_model='tip3p',\n",
    "                 ionic_strength=0.15 * unit.molar,\n",
    "                 forcefield_files=['amber14/protein.ff14SB.xml', 'amber14/tip3p.xml'],\n",
    "                 barostat=openmm.MonteCarloBarostat(1.0 * unit.atmosphere, temperature, 50),\n",
    "                 forcefield_kwargs={'removeCMMotion': False, 'ewaldErrorTolerance': 0.00025, 'constraints' : app.HBonds, 'hydrogenMass' : 4 * unit.amus},\n",
    "                 periodic_forcefield_kwargs={'nonbondedMethod': app.PME},\n",
    "                 nonperiodic_forcefield_kwargs=None,\n",
    "                 small_molecule_forcefields='gaff-2.11',\n",
    "                 complex_box_dimensions=None,\n",
    "                 apo_box_dimensions=None,\n",
    "                 flatten_torsions=False,\n",
    "                 flatten_exceptions=False,\n",
    "                 repartitioned_endstate=None,\n",
    "                 rxn_field = True,\n",
    "                 **kwargs):\n",
    "        \"\"\"\n",
    "        arguments\n",
    "            protein_filename : str\n",
    "                path to protein (to mutate); .pdb\n",
    "            mutation_chain_id : str\n",
    "                name of the chain to be mutated\n",
    "            mutation_residue_id : str\n",
    "                residue id to change\n",
    "            proposed_residue : str\n",
    "                three letter code of the residue to mutate to\n",
    "            phase : str, default complex\n",
    "                if phase == vacuum, then the complex will not be solvated with water; else, it will be solvated with tip3p\n",
    "            conduct_endstate_validation : bool, default True\n",
    "                whether to conduct an endstate validation of the HybridTopologyFactory. If using the RepartitionedHybridTopologyFactory,\n",
    "                endstate validation cannot and will not be conducted.\n",
    "            ligand_file : str, default None\n",
    "                path to ligand of interest (i.e. small molecule or protein); .sdf or .pdb\n",
    "            ligand_index : int, default 0\n",
    "                which ligand to use\n",
    "            water_model : str, default 'tip3p'\n",
    "                solvent model to use for solvation\n",
    "            ionic_strength : float * unit.molar, default 0.15 * unit.molar\n",
    "                the total concentration of ions (both positive and negative) to add using Modeller.\n",
    "                This does not include ions that are added to neutralize the system.\n",
    "                Note that only monovalent ions are currently supported.\n",
    "            forcefield_files : list of str, default ['amber14/protein.ff14SB.xml', 'amber14/tip3p.xml']\n",
    "                forcefield files for proteins and solvent\n",
    "            barostat : openmm.MonteCarloBarostat, default openmm.MonteCarloBarostat(1.0 * unit.atmosphere, 300 * unit.kelvin, 50)\n",
    "                barostat to use\n",
    "            forcefield_kwargs : dict, default {'removeCMMotion': False, 'ewaldErrorTolerance': 1e-4, 'constraints' : app.HBonds, 'hydrogenMass' : 4 * unit.amus}\n",
    "                forcefield kwargs for system parametrization\n",
    "            periodic_forcefield_kwargs : dict, default {'nonbondedMethod': app.PME}\n",
    "                periodic forcefield kwargs for system parametrization\n",
    "            nonperiodic_forcefield_kwargs : dict, default None\n",
    "                non-periodic forcefield kwargs for system parametrization\n",
    "            small_molecule_forcefields : str, default 'gaff-2.11'\n",
    "                the forcefield string for small molecule parametrization\n",
    "            complex_box_dimensions : Vec3, default None\n",
    "                define box dimensions of complex phase;\n",
    "                if None, padding is 1nm\n",
    "            apo_box_dimensions :  Vec3, default None\n",
    "                define box dimensions of apo phase phase;\n",
    "                if None, padding is 1nm\n",
    "            flatten_torsions : bool, default False\n",
    "                in the htf, flatten torsions involving unique new atoms at lambda = 0 and unique old atoms are lambda = 1\n",
    "            flatten_exceptions : bool, default False\n",
    "                in the htf, flatten exceptions involving unique new atoms at lambda = 0 and unique old atoms at lambda = 1\n",
    "            repartitioned_endstate : int, default None\n",
    "                the endstate (0 or 1) at which to build the RepartitionedHybridTopologyFactory. By default, this is None,\n",
    "                meaning a vanilla HybridTopologyFactory will be built.\n",
    "        TODO : allow argument for spectator ligands besides the 'ligand_file'\n",
    "        \"\"\"\n",
    "\n",
    "        # First thing to do is load the apo protein to mutate...\n",
    "        protein_pdbfile = open(protein_filename, 'r')\n",
    "        protein_pdb = app.PDBFile(protein_pdbfile)\n",
    "        protein_pdbfile.close()\n",
    "        protein_positions, protein_topology, protein_md_topology = protein_pdb.positions, protein_pdb.topology, md.Topology.from_openmm(protein_pdb.topology)\n",
    "        protein_topology = protein_md_topology.to_openmm()\n",
    "        protein_n_atoms = protein_md_topology.n_atoms\n",
    "\n",
    "        # Load the ligand, if present\n",
    "        molecules = []\n",
    "        if ligand_input:\n",
    "            if isinstance(ligand_input, str):\n",
    "                if ligand_input.endswith('.sdf'): # small molecule\n",
    "                        ligand_mol = createOEMolFromSDF(ligand_input, index=ligand_index)\n",
    "                        molecules.append(Molecule.from_openeye(ligand_mol, allow_undefined_stereo=False))\n",
    "                        ligand_positions, ligand_topology = extractPositionsFromOEMol(ligand_mol),  forcefield_generators.generateTopologyFromOEMol(ligand_mol)\n",
    "                        ligand_md_topology = md.Topology.from_openmm(ligand_topology)\n",
    "                        ligand_n_atoms = ligand_md_topology.n_atoms\n",
    "\n",
    "                if ligand_input.endswith('pdb'): # protein\n",
    "                    ligand_pdbfile = open(ligand_input, 'r')\n",
    "                    ligand_pdb = app.PDBFile(ligand_pdbfile)\n",
    "                    ligand_pdbfile.close()\n",
    "                    ligand_positions, ligand_topology, ligand_md_topology = ligand_pdb.positions, ligand_pdb.topology, md.Topology.from_openmm(\n",
    "                        ligand_pdb.topology)\n",
    "                    ligand_n_atoms = ligand_md_topology.n_atoms\n",
    "\n",
    "            elif isinstance(ligand_input, oechem.OEMol): # oemol object\n",
    "                molecules.append(Molecule.from_openeye(ligand_input, allow_undefined_stereo=False))\n",
    "                ligand_positions, ligand_topology = extractPositionsFromOEMol(ligand_input),  forcefield_generators.generateTopologyFromOEMol(ligand_input)\n",
    "                ligand_md_topology = md.Topology.from_openmm(ligand_topology)\n",
    "                ligand_n_atoms = ligand_md_topology.n_atoms\n",
    "\n",
    "            else:\n",
    "                _logger.warning(f'ligand filetype not recognised. Please provide a path to a .pdb or .sdf file')\n",
    "                return\n",
    "\n",
    "            # Now create a complex\n",
    "            complex_md_topology = protein_md_topology.join(ligand_md_topology)\n",
    "            complex_topology = complex_md_topology.to_openmm()\n",
    "            complex_positions = unit.Quantity(np.zeros([protein_n_atoms + ligand_n_atoms, 3]), unit=unit.nanometers)\n",
    "            complex_positions[:protein_n_atoms, :] = protein_positions\n",
    "            complex_positions[protein_n_atoms:, :] = ligand_positions\n",
    "\n",
    "        # Now for a system_generator\n",
    "        self.system_generator = SystemGenerator(forcefields=forcefield_files,\n",
    "                                                barostat=barostat,\n",
    "                                                forcefield_kwargs=forcefield_kwargs,\n",
    "                                                periodic_forcefield_kwargs=periodic_forcefield_kwargs,\n",
    "                                                nonperiodic_forcefield_kwargs=nonperiodic_forcefield_kwargs,\n",
    "                                                small_molecule_forcefield=small_molecule_forcefields,\n",
    "                                                molecules=molecules,\n",
    "                                                cache=None)\n",
    "\n",
    "        # Solvate apo and complex...\n",
    "        apo_input = list(self._solvate(protein_topology, protein_positions, water_model, phase, ionic_strength, apo_box_dimensions))\n",
    "        inputs = [apo_input]\n",
    "        if ligand_input:\n",
    "            inputs.append(self._solvate(complex_topology, complex_positions, water_model, phase, ionic_strength, complex_box_dimensions))\n",
    "\n",
    "        geometry_engine = FFAllAngleGeometryEngine(metadata=None,\n",
    "                                                use_sterics=False,\n",
    "                                                n_bond_divisions=100,\n",
    "                                                n_angle_divisions=180,\n",
    "                                                n_torsion_divisions=360,\n",
    "                                                verbose=True,\n",
    "                                                storage=None,\n",
    "                                                bond_softening_constant=1.0,\n",
    "                                                angle_softening_constant=1.0,\n",
    "                                                neglect_angles = False,\n",
    "                                                use_14_nonbondeds = True)\n",
    "\n",
    "\n",
    "        # Run pipeline...\n",
    "        htfs = []\n",
    "        for (top, pos, sys) in inputs:\n",
    "            point_mutation_engine = PointMutationEngine(wildtype_topology=top,\n",
    "                                                                 system_generator=self.system_generator,\n",
    "                                                                 chain_id=mutation_chain_id, # Denote the chain id allowed to mutate (it's always a string variable)\n",
    "                                                                 max_point_mutants=1,\n",
    "                                                                 residues_allowed_to_mutate=[mutation_residue_id], # The residue ids allowed to mutate\n",
    "                                                                 allowed_mutations=[(mutation_residue_id, proposed_residue)], # The residue ids allowed to mutate with the three-letter code allowed to change\n",
    "                                                                 aggregate=True) # Always allow aggregation\n",
    "\n",
    "            topology_proposal = point_mutation_engine.propose(sys, top)\n",
    "\n",
    "            # Only validate energy bookkeeping if the WT and proposed residues do not involve rings\n",
    "            old_res = [res for res in top.residues() if res.id == mutation_residue_id][0]\n",
    "            validate_bool = False if old_res.name in ring_amino_acids or proposed_residue in ring_amino_acids else True\n",
    "            new_positions, logp_proposal = geometry_engine.propose(topology_proposal, pos, beta,\n",
    "                                                                   validate_energy_bookkeeping=validate_bool)\n",
    "            logp_reverse = geometry_engine.logp_reverse(topology_proposal, new_positions, pos, beta,\n",
    "                                                        validate_energy_bookkeeping=validate_bool)\n",
    "\n",
    "            if rxn_field:\n",
    "                factory = RxnHybridTopologyFactory\n",
    "            else:\n",
    "                if repartitioned_endstate is None:\n",
    "                    factory = HybridTopologyFactory\n",
    "                elif repartitioned_endstate in [0, 1]:\n",
    "                    factory = RepartitionedHybridTopologyFactory\n",
    "\n",
    "            forward_htf = factory(topology_proposal=topology_proposal,\n",
    "                                  current_positions=pos,\n",
    "                                  new_positions=new_positions,\n",
    "                                  use_dispersion_correction=False,\n",
    "                                  functions=None,\n",
    "                                  softcore_alpha=None,\n",
    "                                  bond_softening_constant=1.0,\n",
    "                                  angle_softening_constant=1.0,\n",
    "                                  soften_only_new=False,\n",
    "                                  neglected_new_angle_terms=[],\n",
    "                                  neglected_old_angle_terms=[],\n",
    "                                  softcore_LJ_v2=True,\n",
    "                                  softcore_electrostatics=True,\n",
    "                                  softcore_LJ_v2_alpha=0.85,\n",
    "                                  softcore_electrostatics_alpha=0.3,\n",
    "                                  softcore_sigma_Q=1.0,\n",
    "                                  interpolate_old_and_new_14s=flatten_exceptions,\n",
    "                                  omitted_terms=None,\n",
    "                                  endstate=repartitioned_endstate,\n",
    "                                  flatten_torsions=flatten_torsions)\n",
    "\n",
    "            if not topology_proposal.unique_new_atoms:\n",
    "                assert geometry_engine.forward_final_context_reduced_potential == None, f\"There are no unique new atoms but the geometry_engine's final context reduced potential is not None (i.e. {self._geometry_engine.forward_final_context_reduced_potential})\"\n",
    "                assert geometry_engine.forward_atoms_with_positions_reduced_potential == None, f\"There are no unique new atoms but the geometry_engine's forward atoms-with-positions-reduced-potential in not None (i.e. { self._geometry_engine.forward_atoms_with_positions_reduced_potential})\"\n",
    "            else:\n",
    "                added_valence_energy = geometry_engine.forward_final_context_reduced_potential - geometry_engine.forward_atoms_with_positions_reduced_potential\n",
    "\n",
    "            if not topology_proposal.unique_old_atoms:\n",
    "                assert geometry_engine.reverse_final_context_reduced_potential == None, f\"There are no unique old atoms but the geometry_engine's final context reduced potential is not None (i.e. {self._geometry_engine.reverse_final_context_reduced_potential})\"\n",
    "                assert geometry_engine.reverse_atoms_with_positions_reduced_potential == None, f\"There are no unique old atoms but the geometry_engine's atoms-with-positions-reduced-potential in not None (i.e. { self._geometry_engine.reverse_atoms_with_positions_reduced_potential})\"\n",
    "                subtracted_valence_energy = 0.0\n",
    "            else:\n",
    "                subtracted_valence_energy = geometry_engine.reverse_final_context_reduced_potential - geometry_engine.reverse_atoms_with_positions_reduced_potential\n",
    "\n",
    "\n",
    "            if conduct_endstate_validation and repartitioned_endstate is None:\n",
    "                zero_state_error, one_state_error = validate_endstate_energies(forward_htf._topology_proposal, forward_htf, added_valence_energy, subtracted_valence_energy, beta=beta, ENERGY_THRESHOLD=ENERGY_THRESHOLD)\n",
    "                if zero_state_error > ENERGY_THRESHOLD:\n",
    "                    _logger.warning(f\"Reduced potential difference of the nonalchemical and alchemical Lambda = 0 state is above the threshold ({ENERGY_THRESHOLD}): {zero_state_error}\")\n",
    "                if one_state_error > ENERGY_THRESHOLD:\n",
    "                    _logger.warning(f\"Reduced potential difference of the nonalchemical and alchemical Lambda = 1 state is above the threshold ({ENERGY_THRESHOLD}): {one_state_error}\")\n",
    "            else:\n",
    "                pass\n",
    "\n",
    "            htfs.append(forward_htf)\n",
    "\n",
    "        self.apo_htf = htfs[0]\n",
    "        self.complex_htf = htfs[1] if ligand_input else None"
   ]
  },
  {
   "cell_type": "code",
   "execution_count": 19,
   "id": "00de7f72",
   "metadata": {
    "scrolled": true
   },
   "outputs": [
    {
     "name": "stderr",
     "output_type": "stream",
     "text": [
      "INFO:root:solvating at 0.05 M using tip3p\n",
      "INFO:root:solvating at 0.05 M using tip3p\n",
      "INFO:proposal_generator:\tConducting polymer point mutation proposal...\n",
      "INFO:proposal_generator:Using matching_criterion to chose best atom map\n",
      "INFO:proposal_generator:Scaffold has symmetry of 0\n",
      "WARNING:proposal_generator:Two molecules are not similar to have a common scaffold\n",
      "WARNING:proposal_generator:Proceeding with direct mapping of molecules, but please check atom mapping and the geometry of the ligands.\n",
      "INFO:proposal_generator:len [{7: 9}, {8: 9}, {9: 9}, {7: 10}, {8: 10}, {9: 10}, {7: 11}, {8: 11}, {9: 11}, {7: 12}, {8: 12}, {9: 12}, {7: 13}, {8: 13}, {9: 13}]\n",
      "INFO:proposal_generator:{7: 9}\n",
      "INFO:proposal_generator:{8: 9}\n",
      "INFO:proposal_generator:{9: 9}\n",
      "INFO:proposal_generator:{7: 10}\n",
      "INFO:proposal_generator:{8: 10}\n",
      "INFO:proposal_generator:{9: 10}\n",
      "INFO:proposal_generator:{7: 11}\n",
      "INFO:proposal_generator:{8: 11}\n",
      "INFO:proposal_generator:{9: 11}\n",
      "INFO:proposal_generator:{7: 12}\n",
      "INFO:proposal_generator:{8: 12}\n",
      "INFO:proposal_generator:{9: 12}\n",
      "INFO:proposal_generator:{7: 13}\n",
      "INFO:proposal_generator:{8: 13}\n",
      "INFO:proposal_generator:{9: 13}\n",
      "INFO:proposal_generator:Returning map that best satisfies matching_criterion\n",
      "INFO:proposal_generator:Finding best map using matching_criterion name\n",
      "INFO:proposal_generator:{7: 9}\n",
      "INFO:geometry:propose: performing forward proposal\n",
      "INFO:geometry:propose: unique new atoms detected; proceeding to _logp_propose...\n",
      "INFO:geometry:Conducting forward proposal...\n",
      "INFO:geometry:Computing proposal order with NetworkX...\n",
      "INFO:geometry:number of atoms to be placed: 4\n",
      "INFO:geometry:Atom index proposal order is [673, 677, 676, 678]\n",
      "INFO:geometry:omitted_bonds: []\n",
      "INFO:geometry:direction of proposal is forward; creating atoms_with_positions and new positions from old system/topology...\n",
      "INFO:geometry:creating growth system...\n",
      "INFO:geometry:\tcreating bond force...\n",
      "INFO:geometry:\tthere are 733 bonds in reference force.\n",
      "INFO:geometry:\tcreating angle force...\n",
      "INFO:geometry:\tthere are 2628 angles in reference force.\n",
      "INFO:geometry:\tcreating torsion force...\n",
      "INFO:geometry:\tcreating extra torsions force...\n",
      "INFO:geometry:\tthere are 4939 torsions in reference force.\n",
      "INFO:geometry:\tcreating nonbonded force...\n",
      "INFO:geometry:\t\tgrabbing reference nonbonded method, cutoff, switching function, switching distance...\n",
      "INFO:geometry:\t\tcreating nonbonded exception force (i.e. custom bond for 1,4s)...\n",
      "INFO:geometry:\t\tlooping through exceptions calculating growth indices, and adding appropriate interactions to custom bond force.\n",
      "INFO:geometry:\t\tthere are 21290 in the reference Nonbonded force\n",
      "WARNING:geometry:\t\t\t\t\tchiral atom <Atom 670 (CA) of chain 0 residue 42 (ALA)> with neighbors [<Atom 671 (C) of chain 0 residue 42 (ALA)>, <Atom 673 (CB) of chain 0 residue 42 (ALA)>, <Atom 675 (HA) of chain 0 residue 42 (ALA)>, <Atom 669 (N) of chain 0 residue 42 (ALA)>] is surrounded by 3 core neighbors.  omitting chirality bias torsion\n",
      "INFO:geometry:Neglected angle terms : []\n",
      "INFO:geometry:omitted_growth_terms: {'bonds': [], 'angles': [], 'torsions': [], '1,4s': []}\n",
      "INFO:geometry:extra torsions: {0: (674, 669, 670, 673, [1, Quantity(value=0.9799661941737812, unit=radian), Quantity(value=1200.0, unit=kilocalorie/mole), 1]), 1: (669, 670, 673, 676, [1, Quantity(value=2.105358864604291, unit=radian), Quantity(value=1200.0, unit=kilocalorie/mole), 3]), 2: (669, 670, 673, 677, [1, Quantity(value=-2.0823006129211796, unit=radian), Quantity(value=1200.0, unit=kilocalorie/mole), 2]), 3: (669, 670, 673, 678, [1, Quantity(value=0.018582237407944735, unit=radian), Quantity(value=1200.0, unit=kilocalorie/mole), 4]), 4: (671, 670, 673, 676, [1, Quantity(value=-0.036945135932107576, unit=radian), Quantity(value=1200.0, unit=kilocalorie/mole), 3]), 5: (671, 670, 673, 677, [1, Quantity(value=2.0585806937220097, unit=radian), Quantity(value=1200.0, unit=kilocalorie/mole), 2]), 6: (671, 670, 673, 678, [1, Quantity(value=-2.1237217631284597, unit=radian), Quantity(value=1200.0, unit=kilocalorie/mole), 4]), 7: (675, 670, 673, 676, [1, Quantity(value=-2.119603470065817, unit=radian), Quantity(value=1200.0, unit=kilocalorie/mole), 3]), 8: (675, 670, 673, 677, [1, Quantity(value=-0.024077640411697132, unit=radian), Quantity(value=1200.0, unit=kilocalorie/mole), 2]), 9: (675, 670, 673, 678, [1, Quantity(value=2.0768052099174152, unit=radian), Quantity(value=1200.0, unit=kilocalorie/mole), 4])}\n",
      "INFO:geometry:neglected angle terms include []\n",
      "INFO:geometry:log probability choice of torsions and atom order: -5.78074351579233\n",
      "INFO:geometry:creating platform, integrators, and contexts; setting growth parameter\n"
     ]
    },
    {
     "name": "stdout",
     "output_type": "stream",
     "text": [
      "conducting subsequent work with the following platform: CUDA\n"
     ]
    },
    {
     "name": "stderr",
     "output_type": "stream",
     "text": [
      "INFO:geometry:setting atoms_with_positions context new positions\n"
     ]
    },
    {
     "name": "stdout",
     "output_type": "stream",
     "text": [
      "conducting subsequent work with the following platform: CUDA\n"
     ]
    },
    {
     "name": "stderr",
     "output_type": "stream",
     "text": [
      "INFO:geometry:There are 4 new atoms\n",
      "INFO:geometry:\treduced angle potential = 0.4042126110219984.\n",
      "INFO:geometry:\treduced angle potential = 1.5282998916822412.\n",
      "INFO:geometry:\treduced angle potential = 0.0884430112660456.\n",
      "INFO:geometry:\treduced angle potential = 0.09757108073714976.\n",
      "INFO:geometry:\tbeginning construction of no_nonbonded final system...\n",
      "INFO:geometry:\tinitial no-nonbonded final system forces ['HarmonicBondForce', 'HarmonicAngleForce', 'PeriodicTorsionForce', 'NonbondedForce', 'MonteCarloBarostat']\n",
      "INFO:geometry:\tfinal no-nonbonded final system forces dict_keys(['HarmonicBondForce', 'HarmonicAngleForce', 'PeriodicTorsionForce', 'NonbondedForce'])\n",
      "INFO:geometry:\tthere are 733 bond forces in the no-nonbonded final system\n",
      "INFO:geometry:\tthere are 2628 angle forces in the no-nonbonded final system\n",
      "INFO:geometry:\tthere are 4939 torsion forces in the no-nonbonded final system\n",
      "INFO:geometry:forward final system defined with 0 neglected angles.\n"
     ]
    },
    {
     "name": "stdout",
     "output_type": "stream",
     "text": [
      "conducting subsequent work with the following platform: CUDA\n",
      "conducting subsequent work with the following platform: CUDA\n"
     ]
    },
    {
     "name": "stderr",
     "output_type": "stream",
     "text": [
      "INFO:geometry:total reduced potential before atom placement: 2279.236671135735\n"
     ]
    },
    {
     "name": "stdout",
     "output_type": "stream",
     "text": [
      "conducting subsequent work with the following platform: CUDA\n",
      "conducting subsequent work with the following platform: CUDA\n",
      "conducting subsequent work with the following platform: CUDA\n"
     ]
    },
    {
     "name": "stderr",
     "output_type": "stream",
     "text": [
      "INFO:geometry:total reduced energy added from growth system: 686.0546644030899\n",
      "INFO:geometry:final reduced energy 2965.2913354032235\n",
      "INFO:geometry:sum of energies: 2965.2913355388246\n",
      "INFO:geometry:magnitude of difference in the energies: 1.3560133993451018e-07\n",
      "INFO:geometry:Final logp_proposal: 31.183484079235143\n"
     ]
    },
    {
     "name": "stdout",
     "output_type": "stream",
     "text": [
      "added energy components: [('CustomBondForce', 1.5007900743261129), ('CustomAngleForce', 194.92783428590735), ('CustomTorsionForce', 11.098150834241798), ('CustomBondForce', 478.5278892086145)]\n"
     ]
    },
    {
     "name": "stderr",
     "output_type": "stream",
     "text": [
      "INFO:geometry:logp_reverse: performing reverse proposal\n",
      "INFO:geometry:logp_reverse: unique new atoms detected; proceeding to _logp_propose...\n",
      "INFO:geometry:Conducting forward proposal...\n",
      "INFO:geometry:Computing proposal order with NetworkX...\n",
      "INFO:geometry:number of atoms to be placed: 8\n",
      "INFO:geometry:Atom index proposal order is [673, 675, 674, 680, 681, 678, 682, 679]\n",
      "INFO:geometry:omitted_bonds: []\n",
      "INFO:geometry:direction of proposal is reverse; creating atoms_with_positions from old system/topology\n",
      "INFO:geometry:creating growth system...\n",
      "INFO:geometry:\tcreating bond force...\n",
      "INFO:geometry:\tthere are 735 bonds in reference force.\n",
      "INFO:geometry:\tcreating angle force...\n",
      "INFO:geometry:\tthere are 2635 angles in reference force.\n",
      "INFO:geometry:\tcreating torsion force...\n",
      "INFO:geometry:\tcreating extra torsions force...\n",
      "INFO:geometry:\tthere are 4969 torsions in reference force.\n",
      "INFO:geometry:\tcreating nonbonded force...\n",
      "INFO:geometry:\t\tgrabbing reference nonbonded method, cutoff, switching function, switching distance...\n",
      "INFO:geometry:\t\tcreating nonbonded exception force (i.e. custom bond for 1,4s)...\n",
      "INFO:geometry:\t\tlooping through exceptions calculating growth indices, and adding appropriate interactions to custom bond force.\n",
      "INFO:geometry:\t\tthere are 21313 in the reference Nonbonded force\n",
      "WARNING:geometry:\t\t\t\t\tchiral atom <Atom 670 (CA) of chain 0 residue 42 (THR)> with neighbors [<Atom 671 (C) of chain 0 residue 42 (THR)>, <Atom 673 (CB) of chain 0 residue 42 (THR)>, <Atom 677 (HA) of chain 0 residue 42 (THR)>, <Atom 669 (N) of chain 0 residue 42 (THR)>] is surrounded by 3 core neighbors.  omitting chirality bias torsion\n",
      "INFO:geometry:Neglected angle terms : []\n",
      "INFO:geometry:omitted_growth_terms: {'bonds': [], 'angles': [], 'torsions': [], '1,4s': []}\n",
      "INFO:geometry:extra torsions: {0: (676, 669, 670, 673, [1, Quantity(value=0.9900002084555819, unit=radian), Quantity(value=1200.0, unit=kilocalorie/mole), 1]), 1: (679, 674, 673, 670, [1, Quantity(value=-0.07858019216845058, unit=radian), Quantity(value=1200.0, unit=kilocalorie/mole), 8]), 2: (679, 674, 673, 675, [1, Quantity(value=2.118586571250296, unit=radian), Quantity(value=1200.0, unit=kilocalorie/mole), 8]), 3: (679, 674, 673, 678, [1, Quantity(value=-2.149781203448759, unit=radian), Quantity(value=1200.0, unit=kilocalorie/mole), 8]), 4: (670, 673, 675, 682, [1, Quantity(value=-2.1249532223845904, unit=radian), Quantity(value=1200.0, unit=kilocalorie/mole), 7]), 5: (670, 673, 675, 681, [1, Quantity(value=2.0543043017157916, unit=radian), Quantity(value=1200.0, unit=kilocalorie/mole), 5]), 6: (670, 673, 675, 680, [1, Quantity(value=-0.02223392579985184, unit=radian), Quantity(value=1200.0, unit=kilocalorie/mole), 4]), 7: (674, 673, 675, 682, [1, Quantity(value=2.0255587336734213, unit=radian), Quantity(value=1200.0, unit=kilocalorie/mole), 7]), 8: (674, 673, 675, 681, [1, Quantity(value=-0.07836904940578293, unit=radian), Quantity(value=1200.0, unit=kilocalorie/mole), 5]), 9: (674, 673, 675, 680, [1, Quantity(value=-2.154907276921426, unit=radian), Quantity(value=1200.0, unit=kilocalorie/mole), 4]), 10: (678, 673, 675, 682, [1, Quantity(value=0.007583009583349565, unit=radian), Quantity(value=1200.0, unit=kilocalorie/mole), 7]), 11: (678, 673, 675, 681, [1, Quantity(value=-2.096344773495849, unit=radian), Quantity(value=1200.0, unit=kilocalorie/mole), 6]), 12: (678, 673, 675, 680, [1, Quantity(value=2.1103023061680943, unit=radian), Quantity(value=1200.0, unit=kilocalorie/mole), 6]), 13: (675, 673, 670, 674, [1, Quantity(value=1.0655064807976995, unit=radian), Quantity(value=1200.0, unit=kilocalorie/mole), 3])}\n",
      "INFO:geometry:neglected angle terms include []\n",
      "INFO:geometry:log probability choice of torsions and atom order: -13.371595639480912\n",
      "INFO:geometry:creating platform, integrators, and contexts; setting growth parameter\n"
     ]
    },
    {
     "name": "stdout",
     "output_type": "stream",
     "text": [
      "conducting subsequent work with the following platform: CUDA\n"
     ]
    },
    {
     "name": "stderr",
     "output_type": "stream",
     "text": [
      "INFO:geometry:setting atoms_with_positions context old positions\n"
     ]
    },
    {
     "name": "stdout",
     "output_type": "stream",
     "text": [
      "conducting subsequent work with the following platform: CUDA\n"
     ]
    },
    {
     "name": "stderr",
     "output_type": "stream",
     "text": [
      "INFO:geometry:There are 8 new atoms\n",
      "INFO:geometry:\treduced angle potential = 0.1817144363741264.\n",
      "INFO:geometry:\treduced angle potential = 0.2257125237447829.\n",
      "INFO:geometry:\treduced angle potential = 0.1536280916466212.\n",
      "INFO:geometry:\treduced angle potential = 0.023352265895513123.\n",
      "INFO:geometry:\treduced angle potential = 0.05657264681042365.\n",
      "INFO:geometry:\treduced angle potential = 0.00589659951395519.\n",
      "INFO:geometry:\treduced angle potential = 0.25876654048332753.\n",
      "INFO:geometry:\treduced angle potential = 0.0066955214510641915.\n",
      "INFO:geometry:\tbeginning construction of no_nonbonded final system...\n",
      "INFO:geometry:\tinitial no-nonbonded final system forces ['HarmonicBondForce', 'HarmonicAngleForce', 'PeriodicTorsionForce', 'NonbondedForce', 'MonteCarloBarostat']\n",
      "INFO:geometry:\tfinal no-nonbonded final system forces dict_keys(['HarmonicBondForce', 'HarmonicAngleForce', 'PeriodicTorsionForce', 'NonbondedForce'])\n",
      "INFO:geometry:\tthere are 735 bond forces in the no-nonbonded final system\n",
      "INFO:geometry:\tthere are 2635 angle forces in the no-nonbonded final system\n",
      "INFO:geometry:\tthere are 4969 torsion forces in the no-nonbonded final system\n",
      "INFO:geometry:reverse final system defined with 0 neglected angles.\n"
     ]
    },
    {
     "name": "stdout",
     "output_type": "stream",
     "text": [
      "conducting subsequent work with the following platform: CUDA\n",
      "conducting subsequent work with the following platform: CUDA\n"
     ]
    },
    {
     "name": "stderr",
     "output_type": "stream",
     "text": [
      "INFO:geometry:total reduced potential before atom placement: 2279.2366360388532\n"
     ]
    },
    {
     "name": "stdout",
     "output_type": "stream",
     "text": [
      "conducting subsequent work with the following platform: CUDA\n",
      "conducting subsequent work with the following platform: CUDA\n",
      "conducting subsequent work with the following platform: CUDA\n"
     ]
    },
    {
     "name": "stderr",
     "output_type": "stream",
     "text": [
      "INFO:geometry:total reduced energy added from growth system: -62.39009687497522\n",
      "INFO:geometry:final reduced energy 2216.846539716323\n",
      "INFO:geometry:sum of energies: 2216.846539163878\n",
      "INFO:geometry:magnitude of difference in the energies: 5.524451225369376e-07\n",
      "INFO:geometry:Final logp_proposal: -10204.141214545609\n"
     ]
    },
    {
     "name": "stdout",
     "output_type": "stream",
     "text": [
      "added energy components: [('CustomBondForce', 0.4083956553523612), ('CustomAngleForce', 1.622079514297996), ('CustomTorsionForce', 17.50313698245956), ('CustomBondForce', -81.92370902708515)]\n"
     ]
    },
    {
     "name": "stderr",
     "output_type": "stream",
     "text": [
      "INFO:relative:*** Generating RxnHybridTopologyFactory ***\n",
      "INFO:relative:Beginning nonbonded method, total particle, barostat, and exceptions retrieval...\n",
      "INFO:relative:Old system forces: dict_keys(['HarmonicBondForce', 'HarmonicAngleForce', 'PeriodicTorsionForce', 'NonbondedForce', 'MonteCarloBarostat'])\n",
      "INFO:relative:New system forces: dict_keys(['HarmonicBondForce', 'HarmonicAngleForce', 'PeriodicTorsionForce', 'NonbondedForce', 'MonteCarloBarostat'])\n",
      "INFO:relative:No unknown forces.\n",
      "INFO:relative:Nonbonded method to be used (i.e. from old system): 4\n",
      "INFO:relative:Adding and mapping old atoms to hybrid system...\n",
      "INFO:relative:Adding and mapping new atoms to hybrid system...\n",
      "INFO:relative:scale_templates: [['nonscale_lambda'], ['nonscale_region']]\n",
      "INFO:relative:Added MonteCarloBarostat.\n",
      "INFO:relative:getDefaultPeriodicBoxVectors added to hybrid: [Quantity(value=Vec3(x=5.423900000000001, y=0.0, z=0.0), unit=nanometer), Quantity(value=Vec3(x=0.0, y=5.423900000000001, z=0.0), unit=nanometer), Quantity(value=Vec3(x=0.0, y=0.0, z=5.423900000000001), unit=nanometer)]\n",
      "INFO:relative:Determined atom classes.\n",
      "INFO:relative:Generating old system exceptions dict...\n",
      "INFO:relative:Generating new system exceptions dict...\n",
      "INFO:relative:Handling constraints...\n",
      "INFO:relative:Handling virtual sites...\n",
      "INFO:relative:\t_handle_virtual_sites: numVirtualSites: 0\n"
     ]
    },
    {
     "name": "stdout",
     "output_type": "stream",
     "text": [
      "( nonscale_lambda_bonds * nonscale_region ) * (K/2)*(r-length)^2;K = ( 1 * environment_region+lambda_0_bonds_old * alchemical_region_0 ) * K1 + ( 1 * environment_region+lambda_0_bonds_new * alchemical_region_0 ) * K2;length = ( 1 * environment_region+lambda_0_bonds_old * alchemical_region_0 ) * length1 + ( 1 * environment_region+lambda_0_bonds_new * alchemical_region_0 ) * length2;\n"
     ]
    },
    {
     "name": "stderr",
     "output_type": "stream",
     "text": [
      "INFO:relative:hybrid_index_pair (700, 703, 702, 712) was not found in the new_term_collector, but (703, 700, 702, 712) has the same atoms and terms, so (703, 700, 702, 712) will be removed from the new term collector\n",
      "INFO:relative:hybrid_index_pair (701, 702, 703, 713) was not found in the new_term_collector, but (702, 701, 703, 713) has the same atoms and terms, so (702, 701, 703, 713) will be removed from the new term collector\n",
      "INFO:relative:hybrid_index_pair (750, 754, 752, 762) was not found in the new_term_collector, but (754, 750, 752, 762) has the same atoms and terms, so (754, 750, 752, 762) will be removed from the new term collector\n",
      "INFO:relative:hybrid_index_pair (862, 859, 861, 871) was not found in the new_term_collector, but (859, 862, 861, 871) has the same atoms and terms, so (859, 862, 861, 871) will be removed from the new term collector\n",
      "INFO:relative:hybrid_index_pair (860, 861, 862, 872) was not found in the new_term_collector, but (861, 860, 862, 872) has the same atoms and terms, so (861, 860, 862, 872) will be removed from the new term collector\n",
      "INFO:relative:hybrid_index_pair (903, 913, 905, 912) was not found in the new_term_collector, but (903, 912, 905, 913) has the same atoms and terms, so (903, 912, 905, 913) will be removed from the new term collector\n",
      "INFO:relative:hybrid_index_pair (924, 920, 922, 931) was not found in the new_term_collector, but (920, 924, 922, 931) has the same atoms and terms, so (920, 924, 922, 931) will be removed from the new term collector\n",
      "INFO:relative:hybrid_index_pair (924, 921, 923, 932) was not found in the new_term_collector, but (921, 924, 923, 932) has the same atoms and terms, so (921, 924, 923, 932) will be removed from the new term collector\n",
      "INFO:relative:hybrid_index_pair (923, 922, 924, 933) was not found in the new_term_collector, but (922, 923, 924, 933) has the same atoms and terms, so (922, 923, 924, 933) will be removed from the new term collector\n",
      "INFO:relative:hybrid_index_pair (955, 964, 957, 965) was not found in the new_term_collector, but (955, 965, 957, 964) has the same atoms and terms, so (955, 965, 957, 964) will be removed from the new term collector\n",
      "INFO:relative:hybrid_index_pair (1069, 1075, 1071, 1074) was not found in the new_term_collector, but (1069, 1074, 1071, 1075) has the same atoms and terms, so (1069, 1074, 1071, 1075) will be removed from the new term collector\n",
      "INFO:relative:hybrid_index_pair (1196, 1199, 1198, 1207) was not found in the new_term_collector, but (1199, 1196, 1198, 1207) has the same atoms and terms, so (1199, 1196, 1198, 1207) will be removed from the new term collector\n",
      "INFO:relative:hybrid_index_pair (1197, 1198, 1199, 1208) was not found in the new_term_collector, but (1198, 1197, 1199, 1208) has the same atoms and terms, so (1198, 1197, 1199, 1208) will be removed from the new term collector\n",
      "INFO:proposal_generator:\tConducting polymer point mutation proposal...\n",
      "INFO:proposal_generator:Using matching_criterion to chose best atom map\n",
      "INFO:proposal_generator:Scaffold has symmetry of 0\n",
      "WARNING:proposal_generator:Two molecules are not similar to have a common scaffold\n",
      "WARNING:proposal_generator:Proceeding with direct mapping of molecules, but please check atom mapping and the geometry of the ligands.\n",
      "INFO:proposal_generator:len [{7: 9}, {8: 9}, {9: 9}, {7: 10}, {8: 10}, {9: 10}, {7: 11}, {8: 11}, {9: 11}, {7: 12}, {8: 12}, {9: 12}, {7: 13}, {8: 13}, {9: 13}]\n",
      "INFO:proposal_generator:{7: 9}\n",
      "INFO:proposal_generator:{8: 9}\n",
      "INFO:proposal_generator:{9: 9}\n",
      "INFO:proposal_generator:{7: 10}\n",
      "INFO:proposal_generator:{8: 10}\n",
      "INFO:proposal_generator:{9: 10}\n",
      "INFO:proposal_generator:{7: 11}\n",
      "INFO:proposal_generator:{8: 11}\n",
      "INFO:proposal_generator:{9: 11}\n",
      "INFO:proposal_generator:{7: 12}\n",
      "INFO:proposal_generator:{8: 12}\n",
      "INFO:proposal_generator:{9: 12}\n",
      "INFO:proposal_generator:{7: 13}\n",
      "INFO:proposal_generator:{8: 13}\n",
      "INFO:proposal_generator:{9: 13}\n",
      "INFO:proposal_generator:Returning map that best satisfies matching_criterion\n",
      "INFO:proposal_generator:Finding best map using matching_criterion name\n",
      "INFO:proposal_generator:{7: 9}\n",
      "INFO:geometry:propose: performing forward proposal\n",
      "INFO:geometry:propose: unique new atoms detected; proceeding to _logp_propose...\n",
      "INFO:geometry:Conducting forward proposal...\n",
      "INFO:geometry:Computing proposal order with NetworkX...\n",
      "INFO:geometry:number of atoms to be placed: 4\n",
      "INFO:geometry:Atom index proposal order is [673, 676, 678, 677]\n",
      "INFO:geometry:omitted_bonds: []\n",
      "INFO:geometry:direction of proposal is forward; creating atoms_with_positions and new positions from old system/topology...\n",
      "INFO:geometry:creating growth system...\n",
      "INFO:geometry:\tcreating bond force...\n",
      "INFO:geometry:\tthere are 1622 bonds in reference force.\n",
      "INFO:geometry:\tcreating angle force...\n",
      "INFO:geometry:\tthere are 5730 angles in reference force.\n",
      "INFO:geometry:\tcreating torsion force...\n",
      "INFO:geometry:\tcreating extra torsions force...\n",
      "INFO:geometry:\tthere are 10792 torsions in reference force.\n",
      "INFO:geometry:\tcreating nonbonded force...\n",
      "INFO:geometry:\t\tgrabbing reference nonbonded method, cutoff, switching function, switching distance...\n",
      "INFO:geometry:\t\tcreating nonbonded exception force (i.e. custom bond for 1,4s)...\n",
      "INFO:geometry:\t\tlooping through exceptions calculating growth indices, and adding appropriate interactions to custom bond force.\n",
      "INFO:geometry:\t\tthere are 43478 in the reference Nonbonded force\n",
      "WARNING:geometry:\t\t\t\t\tchiral atom <Atom 670 (CA) of chain 0 residue 42 (ALA)> with neighbors [<Atom 671 (C) of chain 0 residue 42 (ALA)>, <Atom 673 (CB) of chain 0 residue 42 (ALA)>, <Atom 675 (HA) of chain 0 residue 42 (ALA)>, <Atom 669 (N) of chain 0 residue 42 (ALA)>] is surrounded by 3 core neighbors.  omitting chirality bias torsion\n",
      "INFO:geometry:Neglected angle terms : []\n",
      "INFO:geometry:omitted_growth_terms: {'bonds': [], 'angles': [], 'torsions': [], '1,4s': []}\n",
      "INFO:geometry:extra torsions: {0: (674, 669, 670, 673, [1, Quantity(value=0.9799661941737812, unit=radian), Quantity(value=1200.0, unit=kilocalorie/mole), 1]), 1: (669, 670, 673, 676, [1, Quantity(value=2.105358864604291, unit=radian), Quantity(value=1200.0, unit=kilocalorie/mole), 2]), 2: (669, 670, 673, 677, [1, Quantity(value=-2.0823006129211796, unit=radian), Quantity(value=1200.0, unit=kilocalorie/mole), 4]), 3: (669, 670, 673, 678, [1, Quantity(value=0.018582237407944735, unit=radian), Quantity(value=1200.0, unit=kilocalorie/mole), 3]), 4: (671, 670, 673, 676, [1, Quantity(value=-0.036945135932107576, unit=radian), Quantity(value=1200.0, unit=kilocalorie/mole), 2]), 5: (671, 670, 673, 677, [1, Quantity(value=2.0585806937220097, unit=radian), Quantity(value=1200.0, unit=kilocalorie/mole), 4]), 6: (671, 670, 673, 678, [1, Quantity(value=-2.1237217631284597, unit=radian), Quantity(value=1200.0, unit=kilocalorie/mole), 3]), 7: (675, 670, 673, 676, [1, Quantity(value=-2.119603470065817, unit=radian), Quantity(value=1200.0, unit=kilocalorie/mole), 2]), 8: (675, 670, 673, 677, [1, Quantity(value=-0.024077640411697132, unit=radian), Quantity(value=1200.0, unit=kilocalorie/mole), 4]), 9: (675, 670, 673, 678, [1, Quantity(value=2.0768052099174152, unit=radian), Quantity(value=1200.0, unit=kilocalorie/mole), 3])}\n",
      "INFO:geometry:neglected angle terms include []\n",
      "INFO:geometry:log probability choice of torsions and atom order: -5.78074351579233\n",
      "INFO:geometry:creating platform, integrators, and contexts; setting growth parameter\n"
     ]
    },
    {
     "name": "stdout",
     "output_type": "stream",
     "text": [
      "conducting subsequent work with the following platform: CUDA\n"
     ]
    },
    {
     "name": "stderr",
     "output_type": "stream",
     "text": [
      "INFO:geometry:setting atoms_with_positions context new positions\n"
     ]
    },
    {
     "name": "stdout",
     "output_type": "stream",
     "text": [
      "conducting subsequent work with the following platform: CUDA\n"
     ]
    },
    {
     "name": "stderr",
     "output_type": "stream",
     "text": [
      "INFO:geometry:There are 4 new atoms\n",
      "INFO:geometry:\treduced angle potential = 0.22354936159768918.\n",
      "INFO:geometry:\treduced angle potential = 1.2733777637288477.\n",
      "INFO:geometry:\treduced angle potential = 0.7761052586757624.\n",
      "INFO:geometry:\treduced angle potential = 0.03509100149807529.\n",
      "INFO:geometry:\tbeginning construction of no_nonbonded final system...\n",
      "INFO:geometry:\tinitial no-nonbonded final system forces ['HarmonicBondForce', 'HarmonicAngleForce', 'PeriodicTorsionForce', 'NonbondedForce', 'MonteCarloBarostat']\n",
      "INFO:geometry:\tfinal no-nonbonded final system forces dict_keys(['HarmonicBondForce', 'HarmonicAngleForce', 'PeriodicTorsionForce', 'NonbondedForce'])\n",
      "INFO:geometry:\tthere are 1622 bond forces in the no-nonbonded final system\n",
      "INFO:geometry:\tthere are 5730 angle forces in the no-nonbonded final system\n",
      "INFO:geometry:\tthere are 10792 torsion forces in the no-nonbonded final system\n",
      "INFO:geometry:forward final system defined with 0 neglected angles.\n"
     ]
    },
    {
     "name": "stdout",
     "output_type": "stream",
     "text": [
      "conducting subsequent work with the following platform: CUDA\n",
      "conducting subsequent work with the following platform: CUDA\n"
     ]
    },
    {
     "name": "stderr",
     "output_type": "stream",
     "text": [
      "INFO:geometry:total reduced potential before atom placement: 4792.467751597958\n"
     ]
    },
    {
     "name": "stdout",
     "output_type": "stream",
     "text": [
      "conducting subsequent work with the following platform: CUDA\n",
      "conducting subsequent work with the following platform: CUDA\n",
      "conducting subsequent work with the following platform: CUDA\n"
     ]
    },
    {
     "name": "stderr",
     "output_type": "stream",
     "text": [
      "INFO:geometry:total reduced energy added from growth system: 516.7583998293721\n",
      "INFO:geometry:final reduced energy 5309.226150654082\n",
      "INFO:geometry:sum of energies: 5309.2261514273305\n",
      "INFO:geometry:magnitude of difference in the energies: 7.732487574685365e-07\n",
      "INFO:geometry:Final logp_proposal: 30.778878674537392\n"
     ]
    },
    {
     "name": "stdout",
     "output_type": "stream",
     "text": [
      "added energy components: [('CustomBondForce', 9.877718521026727e-05), ('CustomAngleForce', 185.61213343998477), ('CustomTorsionForce', 10.996414578931331), ('CustomBondForce', 320.1497530332709)]\n"
     ]
    },
    {
     "name": "stderr",
     "output_type": "stream",
     "text": [
      "INFO:geometry:logp_reverse: performing reverse proposal\n",
      "INFO:geometry:logp_reverse: unique new atoms detected; proceeding to _logp_propose...\n",
      "INFO:geometry:Conducting forward proposal...\n",
      "INFO:geometry:Computing proposal order with NetworkX...\n",
      "INFO:geometry:number of atoms to be placed: 8\n",
      "INFO:geometry:Atom index proposal order is [673, 674, 675, 678, 680, 681, 682, 679]\n",
      "INFO:geometry:omitted_bonds: []\n",
      "INFO:geometry:direction of proposal is reverse; creating atoms_with_positions from old system/topology\n",
      "INFO:geometry:creating growth system...\n",
      "INFO:geometry:\tcreating bond force...\n",
      "INFO:geometry:\tthere are 1624 bonds in reference force.\n",
      "INFO:geometry:\tcreating angle force...\n",
      "INFO:geometry:\tthere are 5737 angles in reference force.\n",
      "INFO:geometry:\tcreating torsion force...\n",
      "INFO:geometry:\tcreating extra torsions force...\n",
      "INFO:geometry:\tthere are 10822 torsions in reference force.\n",
      "INFO:geometry:\tcreating nonbonded force...\n",
      "INFO:geometry:\t\tgrabbing reference nonbonded method, cutoff, switching function, switching distance...\n",
      "INFO:geometry:\t\tcreating nonbonded exception force (i.e. custom bond for 1,4s)...\n",
      "INFO:geometry:\t\tlooping through exceptions calculating growth indices, and adding appropriate interactions to custom bond force.\n",
      "INFO:geometry:\t\tthere are 43501 in the reference Nonbonded force\n",
      "WARNING:geometry:\t\t\t\t\tchiral atom <Atom 670 (CA) of chain 0 residue 42 (THR)> with neighbors [<Atom 671 (C) of chain 0 residue 42 (THR)>, <Atom 673 (CB) of chain 0 residue 42 (THR)>, <Atom 677 (HA) of chain 0 residue 42 (THR)>, <Atom 669 (N) of chain 0 residue 42 (THR)>] is surrounded by 3 core neighbors.  omitting chirality bias torsion\n",
      "INFO:geometry:Neglected angle terms : []\n",
      "INFO:geometry:omitted_growth_terms: {'bonds': [], 'angles': [], 'torsions': [], '1,4s': []}\n",
      "INFO:geometry:extra torsions: {0: (676, 669, 670, 673, [1, Quantity(value=0.9900002084555819, unit=radian), Quantity(value=1200.0, unit=kilocalorie/mole), 1]), 1: (679, 674, 673, 670, [1, Quantity(value=-0.07858019216845058, unit=radian), Quantity(value=1200.0, unit=kilocalorie/mole), 8]), 2: (679, 674, 673, 675, [1, Quantity(value=2.118586571250296, unit=radian), Quantity(value=1200.0, unit=kilocalorie/mole), 8]), 3: (679, 674, 673, 678, [1, Quantity(value=-2.149781203448759, unit=radian), Quantity(value=1200.0, unit=kilocalorie/mole), 8]), 4: (670, 673, 675, 682, [1, Quantity(value=-2.1249532223845904, unit=radian), Quantity(value=1200.0, unit=kilocalorie/mole), 7]), 5: (670, 673, 675, 681, [1, Quantity(value=2.0543043017157916, unit=radian), Quantity(value=1200.0, unit=kilocalorie/mole), 6]), 6: (670, 673, 675, 680, [1, Quantity(value=-0.02223392579985184, unit=radian), Quantity(value=1200.0, unit=kilocalorie/mole), 5]), 7: (674, 673, 675, 682, [1, Quantity(value=2.0255587336734213, unit=radian), Quantity(value=1200.0, unit=kilocalorie/mole), 7]), 8: (674, 673, 675, 681, [1, Quantity(value=-0.07836904940578293, unit=radian), Quantity(value=1200.0, unit=kilocalorie/mole), 6]), 9: (674, 673, 675, 680, [1, Quantity(value=-2.154907276921426, unit=radian), Quantity(value=1200.0, unit=kilocalorie/mole), 5]), 10: (678, 673, 675, 682, [1, Quantity(value=0.007583009583349565, unit=radian), Quantity(value=1200.0, unit=kilocalorie/mole), 7]), 11: (678, 673, 675, 681, [1, Quantity(value=-2.096344773495849, unit=radian), Quantity(value=1200.0, unit=kilocalorie/mole), 6]), 12: (678, 673, 675, 680, [1, Quantity(value=2.1103023061680943, unit=radian), Quantity(value=1200.0, unit=kilocalorie/mole), 5]), 13: (674, 673, 670, 675, [1, Quantity(value=-1.0655064807976995, unit=radian), Quantity(value=1200.0, unit=kilocalorie/mole), 3])}\n",
      "INFO:geometry:neglected angle terms include []\n",
      "INFO:geometry:log probability choice of torsions and atom order: -13.553917196274867\n",
      "INFO:geometry:creating platform, integrators, and contexts; setting growth parameter\n"
     ]
    },
    {
     "name": "stdout",
     "output_type": "stream",
     "text": [
      "conducting subsequent work with the following platform: CUDA\n"
     ]
    },
    {
     "name": "stderr",
     "output_type": "stream",
     "text": [
      "INFO:geometry:setting atoms_with_positions context old positions\n"
     ]
    },
    {
     "name": "stdout",
     "output_type": "stream",
     "text": [
      "conducting subsequent work with the following platform: CUDA\n"
     ]
    },
    {
     "name": "stderr",
     "output_type": "stream",
     "text": [
      "INFO:geometry:There are 8 new atoms\n",
      "INFO:geometry:\treduced angle potential = 0.1817144363741264.\n",
      "INFO:geometry:\treduced angle potential = 0.1536280916466212.\n",
      "INFO:geometry:\treduced angle potential = 0.2257125237447829.\n",
      "INFO:geometry:\treduced angle potential = 0.00589659951395519.\n",
      "INFO:geometry:\treduced angle potential = 0.023352265895513123.\n",
      "INFO:geometry:\treduced angle potential = 0.05657264681042365.\n",
      "INFO:geometry:\treduced angle potential = 0.25876654048332753.\n",
      "INFO:geometry:\treduced angle potential = 0.0066955214510641915.\n",
      "INFO:geometry:\tbeginning construction of no_nonbonded final system...\n",
      "INFO:geometry:\tinitial no-nonbonded final system forces ['HarmonicBondForce', 'HarmonicAngleForce', 'PeriodicTorsionForce', 'NonbondedForce', 'MonteCarloBarostat']\n",
      "INFO:geometry:\tfinal no-nonbonded final system forces dict_keys(['HarmonicBondForce', 'HarmonicAngleForce', 'PeriodicTorsionForce', 'NonbondedForce'])\n",
      "INFO:geometry:\tthere are 1624 bond forces in the no-nonbonded final system\n",
      "INFO:geometry:\tthere are 5737 angle forces in the no-nonbonded final system\n",
      "INFO:geometry:\tthere are 10822 torsion forces in the no-nonbonded final system\n",
      "INFO:geometry:reverse final system defined with 0 neglected angles.\n"
     ]
    },
    {
     "name": "stdout",
     "output_type": "stream",
     "text": [
      "conducting subsequent work with the following platform: CUDA\n",
      "conducting subsequent work with the following platform: CUDA\n"
     ]
    },
    {
     "name": "stderr",
     "output_type": "stream",
     "text": [
      "INFO:geometry:total reduced potential before atom placement: 4792.467870677297\n"
     ]
    },
    {
     "name": "stdout",
     "output_type": "stream",
     "text": [
      "conducting subsequent work with the following platform: CUDA\n",
      "conducting subsequent work with the following platform: CUDA\n",
      "conducting subsequent work with the following platform: CUDA\n"
     ]
    },
    {
     "name": "stderr",
     "output_type": "stream",
     "text": [
      "INFO:geometry:total reduced energy added from growth system: -62.39009687497522\n",
      "INFO:geometry:final reduced energy 4730.077774354767\n",
      "INFO:geometry:sum of energies: 4730.077773802322\n",
      "INFO:geometry:magnitude of difference in the energies: 5.524455772842884e-07\n",
      "INFO:geometry:Final logp_proposal: -10215.651147990702\n"
     ]
    },
    {
     "name": "stdout",
     "output_type": "stream",
     "text": [
      "added energy components: [('CustomBondForce', 0.4083956553523612), ('CustomAngleForce', 1.622079514297996), ('CustomTorsionForce', 17.50313698245956), ('CustomBondForce', -81.92370902708515)]\n"
     ]
    },
    {
     "name": "stderr",
     "output_type": "stream",
     "text": [
      "INFO:relative:*** Generating RxnHybridTopologyFactory ***\n",
      "INFO:relative:Beginning nonbonded method, total particle, barostat, and exceptions retrieval...\n",
      "INFO:relative:Old system forces: dict_keys(['HarmonicBondForce', 'HarmonicAngleForce', 'PeriodicTorsionForce', 'NonbondedForce', 'MonteCarloBarostat'])\n",
      "INFO:relative:New system forces: dict_keys(['HarmonicBondForce', 'HarmonicAngleForce', 'PeriodicTorsionForce', 'NonbondedForce', 'MonteCarloBarostat'])\n",
      "INFO:relative:No unknown forces.\n",
      "INFO:relative:Nonbonded method to be used (i.e. from old system): 4\n",
      "INFO:relative:Adding and mapping old atoms to hybrid system...\n",
      "INFO:relative:Adding and mapping new atoms to hybrid system...\n",
      "INFO:relative:scale_templates: [['nonscale_lambda'], ['nonscale_region']]\n",
      "INFO:relative:Added MonteCarloBarostat.\n",
      "INFO:relative:getDefaultPeriodicBoxVectors added to hybrid: [Quantity(value=Vec3(x=6.7997, y=0.0, z=0.0), unit=nanometer), Quantity(value=Vec3(x=0.0, y=6.7997, z=0.0), unit=nanometer), Quantity(value=Vec3(x=0.0, y=0.0, z=6.7997), unit=nanometer)]\n",
      "INFO:relative:Determined atom classes.\n",
      "INFO:relative:Generating old system exceptions dict...\n",
      "INFO:relative:Generating new system exceptions dict...\n",
      "INFO:relative:Handling constraints...\n",
      "INFO:relative:Handling virtual sites...\n",
      "INFO:relative:\t_handle_virtual_sites: numVirtualSites: 0\n"
     ]
    },
    {
     "name": "stdout",
     "output_type": "stream",
     "text": [
      "( nonscale_lambda_bonds * nonscale_region ) * (K/2)*(r-length)^2;K = ( 1 * environment_region+lambda_0_bonds_old * alchemical_region_0 ) * K1 + ( 1 * environment_region+lambda_0_bonds_new * alchemical_region_0 ) * K2;length = ( 1 * environment_region+lambda_0_bonds_old * alchemical_region_0 ) * length1 + ( 1 * environment_region+lambda_0_bonds_new * alchemical_region_0 ) * length2;\n"
     ]
    },
    {
     "name": "stderr",
     "output_type": "stream",
     "text": [
      "INFO:relative:hybrid_index_pair (700, 703, 702, 712) was not found in the new_term_collector, but (703, 700, 702, 712) has the same atoms and terms, so (703, 700, 702, 712) will be removed from the new term collector\n",
      "INFO:relative:hybrid_index_pair (701, 702, 703, 713) was not found in the new_term_collector, but (702, 701, 703, 713) has the same atoms and terms, so (702, 701, 703, 713) will be removed from the new term collector\n",
      "INFO:relative:hybrid_index_pair (750, 754, 752, 762) was not found in the new_term_collector, but (754, 750, 752, 762) has the same atoms and terms, so (754, 750, 752, 762) will be removed from the new term collector\n",
      "INFO:relative:hybrid_index_pair (862, 859, 861, 871) was not found in the new_term_collector, but (859, 862, 861, 871) has the same atoms and terms, so (859, 862, 861, 871) will be removed from the new term collector\n",
      "INFO:relative:hybrid_index_pair (860, 861, 862, 872) was not found in the new_term_collector, but (861, 860, 862, 872) has the same atoms and terms, so (861, 860, 862, 872) will be removed from the new term collector\n",
      "INFO:relative:hybrid_index_pair (903, 913, 905, 912) was not found in the new_term_collector, but (903, 912, 905, 913) has the same atoms and terms, so (903, 912, 905, 913) will be removed from the new term collector\n",
      "INFO:relative:hybrid_index_pair (924, 920, 922, 931) was not found in the new_term_collector, but (920, 924, 922, 931) has the same atoms and terms, so (920, 924, 922, 931) will be removed from the new term collector\n",
      "INFO:relative:hybrid_index_pair (924, 921, 923, 932) was not found in the new_term_collector, but (921, 924, 923, 932) has the same atoms and terms, so (921, 924, 923, 932) will be removed from the new term collector\n",
      "INFO:relative:hybrid_index_pair (923, 922, 924, 933) was not found in the new_term_collector, but (922, 923, 924, 933) has the same atoms and terms, so (922, 923, 924, 933) will be removed from the new term collector\n",
      "INFO:relative:hybrid_index_pair (955, 964, 957, 965) was not found in the new_term_collector, but (955, 965, 957, 964) has the same atoms and terms, so (955, 965, 957, 964) will be removed from the new term collector\n",
      "INFO:relative:hybrid_index_pair (1069, 1075, 1071, 1074) was not found in the new_term_collector, but (1069, 1074, 1071, 1075) has the same atoms and terms, so (1069, 1074, 1071, 1075) will be removed from the new term collector\n",
      "INFO:relative:hybrid_index_pair (1196, 1199, 1198, 1207) was not found in the new_term_collector, but (1199, 1196, 1198, 1207) has the same atoms and terms, so (1199, 1196, 1198, 1207) will be removed from the new term collector\n",
      "INFO:relative:hybrid_index_pair (1197, 1198, 1199, 1208) was not found in the new_term_collector, but (1198, 1197, 1199, 1208) has the same atoms and terms, so (1198, 1197, 1199, 1208) will be removed from the new term collector\n",
      "INFO:relative:hybrid_index_pair (1490, 1498, 1492, 1497) was not found in the new_term_collector, but (1490, 1497, 1492, 1498) has the same atoms and terms, so (1490, 1497, 1492, 1498) will be removed from the new term collector\n",
      "INFO:relative:hybrid_index_pair (1523, 1520, 1522, 1531) was not found in the new_term_collector, but (1520, 1523, 1522, 1531) has the same atoms and terms, so (1520, 1523, 1522, 1531) will be removed from the new term collector\n",
      "INFO:relative:hybrid_index_pair (1522, 1521, 1523, 1532) was not found in the new_term_collector, but (1521, 1522, 1523, 1532) has the same atoms and terms, so (1521, 1522, 1523, 1532) will be removed from the new term collector\n",
      "INFO:relative:hybrid_index_pair (1669, 1666, 1667, 1677) was not found in the new_term_collector, but (1666, 1669, 1667, 1677) has the same atoms and terms, so (1666, 1669, 1667, 1677) will be removed from the new term collector\n",
      "INFO:relative:hybrid_index_pair (1670, 1666, 1668, 1678) was not found in the new_term_collector, but (1666, 1670, 1668, 1678) has the same atoms and terms, so (1666, 1670, 1668, 1678) will be removed from the new term collector\n",
      "INFO:relative:hybrid_index_pair (1771, 1779, 1773, 1778) was not found in the new_term_collector, but (1771, 1778, 1773, 1779) has the same atoms and terms, so (1771, 1778, 1773, 1779) will be removed from the new term collector\n",
      "INFO:relative:hybrid_index_pair (1788, 1785, 1786, 1796) was not found in the new_term_collector, but (1785, 1788, 1786, 1796) has the same atoms and terms, so (1785, 1788, 1786, 1796) will be removed from the new term collector\n",
      "INFO:relative:hybrid_index_pair (1789, 1785, 1787, 1797) was not found in the new_term_collector, but (1785, 1789, 1787, 1797) has the same atoms and terms, so (1785, 1789, 1787, 1797) will be removed from the new term collector\n",
      "INFO:relative:hybrid_index_pair (1958, 1955, 1957, 1967) was not found in the new_term_collector, but (1955, 1958, 1957, 1967) has the same atoms and terms, so (1955, 1958, 1957, 1967) will be removed from the new term collector\n",
      "INFO:relative:hybrid_index_pair (1956, 1957, 1958, 1968) was not found in the new_term_collector, but (1957, 1956, 1958, 1968) has the same atoms and terms, so (1957, 1956, 1958, 1968) will be removed from the new term collector\n",
      "INFO:relative:hybrid_index_pair (2244, 2240, 2242, 2251) was not found in the new_term_collector, but (2240, 2244, 2242, 2251) has the same atoms and terms, so (2240, 2244, 2242, 2251) will be removed from the new term collector\n",
      "INFO:relative:hybrid_index_pair (2244, 2241, 2243, 2252) was not found in the new_term_collector, but (2241, 2244, 2243, 2252) has the same atoms and terms, so (2241, 2244, 2243, 2252) will be removed from the new term collector\n",
      "INFO:relative:hybrid_index_pair (2243, 2242, 2244, 2253) was not found in the new_term_collector, but (2242, 2243, 2244, 2253) has the same atoms and terms, so (2242, 2243, 2244, 2253) will be removed from the new term collector\n",
      "INFO:relative:hybrid_index_pair (2270, 2277, 2272, 2278) was not found in the new_term_collector, but (2270, 2278, 2272, 2277) has the same atoms and terms, so (2270, 2278, 2272, 2277) will be removed from the new term collector\n",
      "INFO:relative:hybrid_index_pair (2286, 2288, 2287, 2289) was not found in the new_term_collector, but (2288, 2287, 2286, 2289) has the same atoms and terms, so (2288, 2287, 2286, 2289) will be removed from the new term collector\n",
      "INFO:relative:hybrid_index_pair (2436, 2435, 2434, 2437) was not found in the new_term_collector, but (2434, 2436, 2435, 2437) has the same atoms and terms, so (2434, 2436, 2435, 2437) will be removed from the new term collector\n",
      "INFO:relative:hybrid_index_pair (2478, 2475, 2477, 2487) was not found in the new_term_collector, but (2475, 2478, 2477, 2487) has the same atoms and terms, so (2475, 2478, 2477, 2487) will be removed from the new term collector\n",
      "INFO:relative:hybrid_index_pair (2476, 2477, 2478, 2488) was not found in the new_term_collector, but (2477, 2476, 2478, 2488) has the same atoms and terms, so (2477, 2476, 2478, 2488) will be removed from the new term collector\n",
      "INFO:relative:hybrid_index_pair (2588, 2592, 2590, 2600) was not found in the new_term_collector, but (2592, 2588, 2590, 2600) has the same atoms and terms, so (2592, 2588, 2590, 2600) will be removed from the new term collector\n",
      "INFO:relative:hybrid_index_pair (2644, 2641, 2642, 2651) was not found in the new_term_collector, but (2641, 2644, 2642, 2651) has the same atoms and terms, so (2641, 2644, 2642, 2651) will be removed from the new term collector\n",
      "INFO:relative:hybrid_index_pair (2663, 2665, 2664, 2666) was not found in the new_term_collector, but (2665, 2664, 2663, 2666) has the same atoms and terms, so (2665, 2664, 2663, 2666) will be removed from the new term collector\n",
      "INFO:relative:hybrid_index_pair (2787, 2784, 2785, 2795) was not found in the new_term_collector, but (2784, 2787, 2785, 2795) has the same atoms and terms, so (2784, 2787, 2785, 2795) will be removed from the new term collector\n",
      "INFO:relative:hybrid_index_pair (2788, 2784, 2786, 2796) was not found in the new_term_collector, but (2784, 2788, 2786, 2796) has the same atoms and terms, so (2784, 2788, 2786, 2796) will be removed from the new term collector\n",
      "INFO:relative:hybrid_index_pair (2844, 2847, 2846, 2856) was not found in the new_term_collector, but (2847, 2844, 2846, 2856) has the same atoms and terms, so (2847, 2844, 2846, 2856) will be removed from the new term collector\n"
     ]
    },
    {
     "name": "stderr",
     "output_type": "stream",
     "text": [
      "INFO:relative:hybrid_index_pair (2845, 2846, 2847, 2857) was not found in the new_term_collector, but (2846, 2845, 2847, 2857) has the same atoms and terms, so (2846, 2845, 2847, 2857) will be removed from the new term collector\n",
      "INFO:relative:hybrid_index_pair (2901, 2904, 2902, 2912) was not found in the new_term_collector, but (2904, 2901, 2902, 2912) has the same atoms and terms, so (2904, 2901, 2902, 2912) will be removed from the new term collector\n",
      "INFO:relative:hybrid_index_pair (3004, 3001, 3002, 3012) was not found in the new_term_collector, but (3001, 3004, 3002, 3012) has the same atoms and terms, so (3001, 3004, 3002, 3012) will be removed from the new term collector\n",
      "INFO:relative:hybrid_index_pair (3023, 3033, 3025, 3032) was not found in the new_term_collector, but (3023, 3032, 3025, 3033) has the same atoms and terms, so (3023, 3032, 3025, 3033) will be removed from the new term collector\n",
      "INFO:relative:hybrid_index_pair (3053, 3056, 3054, 3063) was not found in the new_term_collector, but (3056, 3053, 3054, 3063) has the same atoms and terms, so (3056, 3053, 3054, 3063) will be removed from the new term collector\n",
      "INFO:relative:hybrid_index_pair (3132, 3131, 3130, 3133) was not found in the new_term_collector, but (3130, 3132, 3131, 3133) has the same atoms and terms, so (3130, 3132, 3131, 3133) will be removed from the new term collector\n"
     ]
    }
   ],
   "source": [
    "solvent_delivery = PointMutationExecutor2(\"../../input/mmc2_barstar.pdb\",\n",
    "                        '1',\n",
    "                        \"42\",\n",
    "                        \"ALA\",\n",
    "                        ligand_input=\"../../input/mmc2_barnase.pdb\",\n",
    "                        ionic_strength=0.05*unit.molar,\n",
    "                        flatten_torsions=True,\n",
    "                        flatten_exceptions=True, \n",
    "                        conduct_endstate_validation=False,\n",
    "                        rxn_field=True\n",
    "                       )"
   ]
  },
  {
   "cell_type": "code",
   "execution_count": 21,
   "id": "f218becd",
   "metadata": {},
   "outputs": [],
   "source": [
    "pickle.dump(solvent_delivery.get_apo_htf(), open(\"T42A_apo.pickle\", \"wb\" ))\n",
    "pickle.dump(solvent_delivery.get_complex_htf(), open(\"T42A_complex.pickle\", \"wb\" ))\n"
   ]
  },
  {
   "cell_type": "markdown",
   "id": "dated-desire",
   "metadata": {},
   "source": [
    "#### Old system HarmonicBondForce vs hybrid system CustomBondForce"
   ]
  },
  {
   "cell_type": "code",
   "execution_count": 22,
   "id": "excellent-cosmetic",
   "metadata": {},
   "outputs": [],
   "source": [
    "# Load htf\n",
    "with open(\"T42A_complex.pickle\", \"rb\") as f:\n",
    "    htf = pickle.load(f)"
   ]
  },
  {
   "cell_type": "code",
   "execution_count": 23,
   "id": "bigger-meeting",
   "metadata": {},
   "outputs": [
    {
     "name": "stdout",
     "output_type": "stream",
     "text": [
      "Warning: Returning CPU platform instead of requested platform <simtk.openmm.openmm.Platform; proxy of <Swig Object of type 'OpenMM::Platform *' at 0x2b6e8bdeaf60> >\n",
      "conducting subsequent work with the following platform: CPU\n",
      "conducting subsequent work with the following platform: CUDA\n",
      "[('HarmonicBondForce', 189.69678123582867), ('HarmonicAngleForce', 791.7783222646883), ('PeriodicTorsionForce', 3830.526380065008), ('NonbondedForce', -25197.606629558984), ('AndersenThermostat', 0.0), ('MonteCarloBarostat', 0.0)]\n",
      "conducting subsequent work with the following platform: CUDA\n",
      "[('CustomBondForce', 189.69678123582867), ('CustomAngleForce', 977.390455704673), ('CustomTorsionForce', 3830.526609908918), ('AndersenThermostat', 0.0), ('MonteCarloBarostat', 0.0)]\n",
      "Success! Custom bond force and standard bond force energies are equal!\n"
     ]
    }
   ],
   "source": [
    "test_bond_energies(htf, is_solvated=True)"
   ]
  },
  {
   "cell_type": "markdown",
   "id": "satisfactory-taxation",
   "metadata": {},
   "source": [
    "#### New system HarmonicBondForce vs hybrid system CustomBondForce"
   ]
  },
  {
   "cell_type": "code",
   "execution_count": 24,
   "id": "turkish-exclusive",
   "metadata": {},
   "outputs": [],
   "source": [
    "# Load htf\n",
    "with open(\"T42A_complex.pickle\", \"rb\") as f:\n",
    "    htf = pickle.load(f)"
   ]
  },
  {
   "cell_type": "code",
   "execution_count": 25,
   "id": "cordless-kitty",
   "metadata": {},
   "outputs": [
    {
     "name": "stdout",
     "output_type": "stream",
     "text": [
      "Warning: Returning CPU platform instead of requested platform <simtk.openmm.openmm.Platform; proxy of <Swig Object of type 'OpenMM::Platform *' at 0x2b6e8bdeaf60> >\n",
      "conducting subsequent work with the following platform: CPU\n",
      "conducting subsequent work with the following platform: CUDA\n",
      "[('HarmonicBondForce', 189.2884843576615), ('HarmonicAngleForce', 975.7683761903751), ('PeriodicTorsionForce', 3824.0195367640554), ('NonbondedForce', -24806.58521520547), ('AndersenThermostat', 0.0), ('MonteCarloBarostat', 0.0)]\n",
      "conducting subsequent work with the following platform: CUDA\n",
      "[('CustomBondForce', 189.2884843576615), ('CustomAngleForce', 977.390455704673), ('CustomTorsionForce', 3830.526609908918), ('AndersenThermostat', 0.0), ('MonteCarloBarostat', 0.0)]\n",
      "Success! Custom bond force and standard bond force energies are equal!\n"
     ]
    }
   ],
   "source": [
    "test_bond_energies(htf, is_old=False, is_solvated=True)"
   ]
  },
  {
   "cell_type": "code",
   "execution_count": 32,
   "id": "clean-pharmacy",
   "metadata": {},
   "outputs": [],
   "source": [
    "scale_region = list(htf._atom_classes['unique_old_atoms'][0]) + list(htf._atom_classes['unique_new_atoms'][0])"
   ]
  },
  {
   "cell_type": "markdown",
   "id": "e4d0d5e0",
   "metadata": {},
   "source": [
    "### Test one alchemical region, no scale regions"
   ]
  },
  {
   "cell_type": "code",
   "execution_count": 26,
   "id": "6f12c7d9",
   "metadata": {},
   "outputs": [],
   "source": [
    "from perses.app.relative_point_mutation_setup import PointMutationExecutor"
   ]
  },
  {
   "cell_type": "code",
   "execution_count": 33,
   "id": "285c4ef9",
   "metadata": {},
   "outputs": [],
   "source": [
    "from __future__ import absolute_import\n",
    "\n",
    "from perses.utils.openeye import createOEMolFromSDF, extractPositionsFromOEMol, oechem\n",
    "from perses.annihilation.relative import HybridTopologyFactory, RepartitionedHybridTopologyFactory, RxnHybridTopologyFactory\n",
    "from perses.rjmc.topology_proposal import PointMutationEngine\n",
    "from perses.rjmc.geometry import FFAllAngleGeometryEngine\n",
    "\n",
    "import simtk.openmm as openmm\n",
    "import simtk.openmm.app as app\n",
    "import simtk.unit as unit\n",
    "import numpy as np\n",
    "from openmoltools import forcefield_generators\n",
    "import mdtraj as md\n",
    "from openmmtools.constants import kB\n",
    "from perses.tests.utils import validate_endstate_energies\n",
    "from openff.toolkit.topology import Molecule\n",
    "from openmmforcefields.generators import SystemGenerator\n",
    "\n",
    "ENERGY_THRESHOLD = 1e-2\n",
    "temperature = 300 * unit.kelvin\n",
    "kT = kB * temperature\n",
    "beta = 1.0/kT\n",
    "ring_amino_acids = ['TYR', 'PHE', 'TRP', 'PRO', 'HIS']\n",
    "\n",
    "# Set up logger\n",
    "import logging\n",
    "_logger = logging.getLogger()\n",
    "_logger.setLevel(logging.INFO)\n",
    "\n",
    "class PointMutationExecutor2(PointMutationExecutor):\n",
    "    \"\"\"\n",
    "    Simple, stripped-down class to create a protein-ligand system and allow a mutation of a protein.\n",
    "    this will allow support for the creation of _two_ relative free energy calculations:\n",
    "        1. 'wildtype' - 'point mutant' complex hybrid.\n",
    "        2. 'wildtype' - 'point mutant' protein hybrid (i.e. with ligand of interest unbound)\n",
    "    Example (create full point mutation executor and run parallel tempering on both complex and apo phases):\n",
    "        from pkg_resources import resource_filename\n",
    "        protein_path = 'data/perses_jacs_systems/thrombin/Thrombin_protein.pdb'\n",
    "        ligands_path = 'data/perses_jacs_systems/thrombin/Thrombin_ligands.sdf'\n",
    "        protein_filename = resource_filename('openmmforcefields', protein_path)\n",
    "        ligand_input = resource_filename('openmmforcefields', ligands_path)\n",
    "        pm_delivery = PointMutationExecutor(protein_filename=protein_filename,\n",
    "                                    mutation_chain_id='2',\n",
    "                                    mutation_residue_id='198',\n",
    "                                     proposed_residue='THR',\n",
    "                                     phase='complex',\n",
    "                                     conduct_endstate_validation=False,\n",
    "                                     ligand_input=ligand_input,\n",
    "                                     ligand_index=0,\n",
    "                                     forcefield_files=['amber14/protein.ff14SB.xml', 'amber14/tip3p.xml'],\n",
    "                                     barostat=openmm.MonteCarloBarostat(1.0 * unit.atmosphere, temperature, 50),\n",
    "                                     forcefield_kwargs={'removeCMMotion': False, 'ewaldErrorTolerance': 1e-4, 'nonbondedMethod': app.PME, 'constraints' : app.HBonds, 'hydrogenMass' : 4 * unit.amus},\n",
    "                                     small_molecule_forcefields='gaff-2.11')\n",
    "        complex_htf = pm_delivery.get_complex_htf()\n",
    "        apo_htf = pm_delivery.get_apo_htf()\n",
    "        # Now we can build the hybrid repex samplers\n",
    "        from perses.annihilation.lambda_protocol import LambdaProtocol\n",
    "        from openmmtools.multistate import MultiStateReporter\n",
    "        from perses.samplers.multistate import HybridRepexSampler\n",
    "        from openmmtools import mcmc\n",
    "        suffix = 'run'; selection = 'not water'; checkpoint_interval = 10; n_states = 11; n_cycles = 5000\n",
    "        for htf in [complex_htf, apo_htf]:\n",
    "            lambda_protocol = LambdaProtocol(functions='default')\n",
    "            reporter_file = 'reporter.nc'\n",
    "            reporter = MultiStateReporter(reporter_file, analysis_particle_indices = htf.hybrid_topology.select(selection), checkpoint_interval = checkpoint_interval)\n",
    "            hss = HybridRepexSampler(mcmc_moves=mcmc.LangevinSplittingDynamicsMove(timestep= 4.0 * unit.femtoseconds,\n",
    "                                                                                  collision_rate=5.0 / unit.picosecond,\n",
    "                                                                                  n_steps=250,\n",
    "                                                                                  reassign_velocities=False,\n",
    "                                                                                  n_restart_attempts=20,\n",
    "                                                                                  splitting=\"V R R R O R R R V\",\n",
    "                                                                                  constraint_tolerance=1e-06),\n",
    "                                                                                  hybrid_factory=htf, online_analysis_interval=10)\n",
    "            hss.setup(n_states=n_states, temperature=300*unit.kelvin, storage_file=reporter, lambda_protocol=lambda_protocol, endstates=False)\n",
    "            hss.extend(n_cycles)\n",
    "    \"\"\"\n",
    "    def __init__(self,\n",
    "                 protein_filename,\n",
    "                 mutation_chain_id,\n",
    "                 mutation_residue_id,\n",
    "                 proposed_residue,\n",
    "                 phase='complex',\n",
    "                 conduct_endstate_validation=True,\n",
    "                 ligand_input=None,\n",
    "                 ligand_index=0,\n",
    "                 water_model='tip3p',\n",
    "                 ionic_strength=0.15 * unit.molar,\n",
    "                 forcefield_files=['amber14/protein.ff14SB.xml', 'amber14/tip3p.xml'],\n",
    "                 barostat=openmm.MonteCarloBarostat(1.0 * unit.atmosphere, temperature, 50),\n",
    "                 forcefield_kwargs={'removeCMMotion': False, 'ewaldErrorTolerance': 0.00025, 'constraints' : app.HBonds, 'hydrogenMass' : 4 * unit.amus},\n",
    "                 periodic_forcefield_kwargs={'nonbondedMethod': app.PME},\n",
    "                 nonperiodic_forcefield_kwargs=None,\n",
    "                 small_molecule_forcefields='gaff-2.11',\n",
    "                 complex_box_dimensions=None,\n",
    "                 apo_box_dimensions=None,\n",
    "                 flatten_torsions=False,\n",
    "                 flatten_exceptions=False,\n",
    "                 repartitioned_endstate=None,\n",
    "                 rxn_field = True,\n",
    "                 **kwargs):\n",
    "        \"\"\"\n",
    "        arguments\n",
    "            protein_filename : str\n",
    "                path to protein (to mutate); .pdb\n",
    "            mutation_chain_id : str\n",
    "                name of the chain to be mutated\n",
    "            mutation_residue_id : str\n",
    "                residue id to change\n",
    "            proposed_residue : str\n",
    "                three letter code of the residue to mutate to\n",
    "            phase : str, default complex\n",
    "                if phase == vacuum, then the complex will not be solvated with water; else, it will be solvated with tip3p\n",
    "            conduct_endstate_validation : bool, default True\n",
    "                whether to conduct an endstate validation of the HybridTopologyFactory. If using the RepartitionedHybridTopologyFactory,\n",
    "                endstate validation cannot and will not be conducted.\n",
    "            ligand_file : str, default None\n",
    "                path to ligand of interest (i.e. small molecule or protein); .sdf or .pdb\n",
    "            ligand_index : int, default 0\n",
    "                which ligand to use\n",
    "            water_model : str, default 'tip3p'\n",
    "                solvent model to use for solvation\n",
    "            ionic_strength : float * unit.molar, default 0.15 * unit.molar\n",
    "                the total concentration of ions (both positive and negative) to add using Modeller.\n",
    "                This does not include ions that are added to neutralize the system.\n",
    "                Note that only monovalent ions are currently supported.\n",
    "            forcefield_files : list of str, default ['amber14/protein.ff14SB.xml', 'amber14/tip3p.xml']\n",
    "                forcefield files for proteins and solvent\n",
    "            barostat : openmm.MonteCarloBarostat, default openmm.MonteCarloBarostat(1.0 * unit.atmosphere, 300 * unit.kelvin, 50)\n",
    "                barostat to use\n",
    "            forcefield_kwargs : dict, default {'removeCMMotion': False, 'ewaldErrorTolerance': 1e-4, 'constraints' : app.HBonds, 'hydrogenMass' : 4 * unit.amus}\n",
    "                forcefield kwargs for system parametrization\n",
    "            periodic_forcefield_kwargs : dict, default {'nonbondedMethod': app.PME}\n",
    "                periodic forcefield kwargs for system parametrization\n",
    "            nonperiodic_forcefield_kwargs : dict, default None\n",
    "                non-periodic forcefield kwargs for system parametrization\n",
    "            small_molecule_forcefields : str, default 'gaff-2.11'\n",
    "                the forcefield string for small molecule parametrization\n",
    "            complex_box_dimensions : Vec3, default None\n",
    "                define box dimensions of complex phase;\n",
    "                if None, padding is 1nm\n",
    "            apo_box_dimensions :  Vec3, default None\n",
    "                define box dimensions of apo phase phase;\n",
    "                if None, padding is 1nm\n",
    "            flatten_torsions : bool, default False\n",
    "                in the htf, flatten torsions involving unique new atoms at lambda = 0 and unique old atoms are lambda = 1\n",
    "            flatten_exceptions : bool, default False\n",
    "                in the htf, flatten exceptions involving unique new atoms at lambda = 0 and unique old atoms at lambda = 1\n",
    "            repartitioned_endstate : int, default None\n",
    "                the endstate (0 or 1) at which to build the RepartitionedHybridTopologyFactory. By default, this is None,\n",
    "                meaning a vanilla HybridTopologyFactory will be built.\n",
    "        TODO : allow argument for spectator ligands besides the 'ligand_file'\n",
    "        \"\"\"\n",
    "\n",
    "        # First thing to do is load the apo protein to mutate...\n",
    "        protein_pdbfile = open(protein_filename, 'r')\n",
    "        protein_pdb = app.PDBFile(protein_pdbfile)\n",
    "        protein_pdbfile.close()\n",
    "        protein_positions, protein_topology, protein_md_topology = protein_pdb.positions, protein_pdb.topology, md.Topology.from_openmm(protein_pdb.topology)\n",
    "        protein_topology = protein_md_topology.to_openmm()\n",
    "        protein_n_atoms = protein_md_topology.n_atoms\n",
    "\n",
    "        # Load the ligand, if present\n",
    "        molecules = []\n",
    "        if ligand_input:\n",
    "            if isinstance(ligand_input, str):\n",
    "                if ligand_input.endswith('.sdf'): # small molecule\n",
    "                        ligand_mol = createOEMolFromSDF(ligand_input, index=ligand_index)\n",
    "                        molecules.append(Molecule.from_openeye(ligand_mol, allow_undefined_stereo=False))\n",
    "                        ligand_positions, ligand_topology = extractPositionsFromOEMol(ligand_mol),  forcefield_generators.generateTopologyFromOEMol(ligand_mol)\n",
    "                        ligand_md_topology = md.Topology.from_openmm(ligand_topology)\n",
    "                        ligand_n_atoms = ligand_md_topology.n_atoms\n",
    "\n",
    "                if ligand_input.endswith('pdb'): # protein\n",
    "                    ligand_pdbfile = open(ligand_input, 'r')\n",
    "                    ligand_pdb = app.PDBFile(ligand_pdbfile)\n",
    "                    ligand_pdbfile.close()\n",
    "                    ligand_positions, ligand_topology, ligand_md_topology = ligand_pdb.positions, ligand_pdb.topology, md.Topology.from_openmm(\n",
    "                        ligand_pdb.topology)\n",
    "                    ligand_n_atoms = ligand_md_topology.n_atoms\n",
    "\n",
    "            elif isinstance(ligand_input, oechem.OEMol): # oemol object\n",
    "                molecules.append(Molecule.from_openeye(ligand_input, allow_undefined_stereo=False))\n",
    "                ligand_positions, ligand_topology = extractPositionsFromOEMol(ligand_input),  forcefield_generators.generateTopologyFromOEMol(ligand_input)\n",
    "                ligand_md_topology = md.Topology.from_openmm(ligand_topology)\n",
    "                ligand_n_atoms = ligand_md_topology.n_atoms\n",
    "\n",
    "            else:\n",
    "                _logger.warning(f'ligand filetype not recognised. Please provide a path to a .pdb or .sdf file')\n",
    "                return\n",
    "\n",
    "            # Now create a complex\n",
    "            complex_md_topology = protein_md_topology.join(ligand_md_topology)\n",
    "            complex_topology = complex_md_topology.to_openmm()\n",
    "            complex_positions = unit.Quantity(np.zeros([protein_n_atoms + ligand_n_atoms, 3]), unit=unit.nanometers)\n",
    "            complex_positions[:protein_n_atoms, :] = protein_positions\n",
    "            complex_positions[protein_n_atoms:, :] = ligand_positions\n",
    "\n",
    "        # Now for a system_generator\n",
    "        self.system_generator = SystemGenerator(forcefields=forcefield_files,\n",
    "                                                barostat=barostat,\n",
    "                                                forcefield_kwargs=forcefield_kwargs,\n",
    "                                                periodic_forcefield_kwargs=periodic_forcefield_kwargs,\n",
    "                                                nonperiodic_forcefield_kwargs=nonperiodic_forcefield_kwargs,\n",
    "                                                small_molecule_forcefield=small_molecule_forcefields,\n",
    "                                                molecules=molecules,\n",
    "                                                cache=None)\n",
    "\n",
    "        # Solvate apo and complex...\n",
    "        apo_input = list(self._solvate(protein_topology, protein_positions, water_model, phase, ionic_strength, apo_box_dimensions))\n",
    "        inputs = [apo_input]\n",
    "        if ligand_input:\n",
    "            inputs.append(self._solvate(complex_topology, complex_positions, water_model, phase, ionic_strength, complex_box_dimensions))\n",
    "\n",
    "        geometry_engine = FFAllAngleGeometryEngine(metadata=None,\n",
    "                                                use_sterics=False,\n",
    "                                                n_bond_divisions=100,\n",
    "                                                n_angle_divisions=180,\n",
    "                                                n_torsion_divisions=360,\n",
    "                                                verbose=True,\n",
    "                                                storage=None,\n",
    "                                                bond_softening_constant=1.0,\n",
    "                                                angle_softening_constant=1.0,\n",
    "                                                neglect_angles = False,\n",
    "                                                use_14_nonbondeds = True)\n",
    "\n",
    "\n",
    "        # Run pipeline...\n",
    "        htfs = []\n",
    "        for (top, pos, sys) in inputs:\n",
    "            point_mutation_engine = PointMutationEngine(wildtype_topology=top,\n",
    "                                                                 system_generator=self.system_generator,\n",
    "                                                                 chain_id=mutation_chain_id, # Denote the chain id allowed to mutate (it's always a string variable)\n",
    "                                                                 max_point_mutants=1,\n",
    "                                                                 residues_allowed_to_mutate=[mutation_residue_id], # The residue ids allowed to mutate\n",
    "                                                                 allowed_mutations=[(mutation_residue_id, proposed_residue)], # The residue ids allowed to mutate with the three-letter code allowed to change\n",
    "                                                                 aggregate=True) # Always allow aggregation\n",
    "\n",
    "            topology_proposal = point_mutation_engine.propose(sys, top)\n",
    "\n",
    "            # Only validate energy bookkeeping if the WT and proposed residues do not involve rings\n",
    "            old_res = [res for res in top.residues() if res.id == mutation_residue_id][0]\n",
    "            validate_bool = False if old_res.name in ring_amino_acids or proposed_residue in ring_amino_acids else True\n",
    "            new_positions, logp_proposal = geometry_engine.propose(topology_proposal, pos, beta,\n",
    "                                                                   validate_energy_bookkeeping=validate_bool)\n",
    "            logp_reverse = geometry_engine.logp_reverse(topology_proposal, new_positions, pos, beta,\n",
    "                                                        validate_energy_bookkeeping=validate_bool)\n",
    "\n",
    "            if rxn_field:\n",
    "                factory = RxnHybridTopologyFactory\n",
    "            else:\n",
    "                if repartitioned_endstate is None:\n",
    "                    factory = HybridTopologyFactory\n",
    "                elif repartitioned_endstate in [0, 1]:\n",
    "                    factory = RepartitionedHybridTopologyFactory\n",
    "\n",
    "            forward_htf = factory(topology_proposal=topology_proposal,\n",
    "                                  current_positions=pos,\n",
    "                                  new_positions=new_positions,\n",
    "                                  use_dispersion_correction=False,\n",
    "                                  functions=None,\n",
    "                                  softcore_alpha=None,\n",
    "                                  bond_softening_constant=1.0,\n",
    "                                  angle_softening_constant=1.0,\n",
    "                                  soften_only_new=False,\n",
    "                                  neglected_new_angle_terms=[],\n",
    "                                  neglected_old_angle_terms=[],\n",
    "                                  softcore_LJ_v2=True,\n",
    "                                  softcore_electrostatics=True,\n",
    "                                  softcore_LJ_v2_alpha=0.85,\n",
    "                                  softcore_electrostatics_alpha=0.3,\n",
    "                                  softcore_sigma_Q=1.0,\n",
    "                                  interpolate_old_and_new_14s=flatten_exceptions,\n",
    "                                  omitted_terms=None,\n",
    "                                  endstate=repartitioned_endstate,\n",
    "                                  flatten_torsions=flatten_torsions,\n",
    "                                  scale_regions=[scale_region])\n",
    "\n",
    "            if not topology_proposal.unique_new_atoms:\n",
    "                assert geometry_engine.forward_final_context_reduced_potential == None, f\"There are no unique new atoms but the geometry_engine's final context reduced potential is not None (i.e. {self._geometry_engine.forward_final_context_reduced_potential})\"\n",
    "                assert geometry_engine.forward_atoms_with_positions_reduced_potential == None, f\"There are no unique new atoms but the geometry_engine's forward atoms-with-positions-reduced-potential in not None (i.e. { self._geometry_engine.forward_atoms_with_positions_reduced_potential})\"\n",
    "            else:\n",
    "                added_valence_energy = geometry_engine.forward_final_context_reduced_potential - geometry_engine.forward_atoms_with_positions_reduced_potential\n",
    "\n",
    "            if not topology_proposal.unique_old_atoms:\n",
    "                assert geometry_engine.reverse_final_context_reduced_potential == None, f\"There are no unique old atoms but the geometry_engine's final context reduced potential is not None (i.e. {self._geometry_engine.reverse_final_context_reduced_potential})\"\n",
    "                assert geometry_engine.reverse_atoms_with_positions_reduced_potential == None, f\"There are no unique old atoms but the geometry_engine's atoms-with-positions-reduced-potential in not None (i.e. { self._geometry_engine.reverse_atoms_with_positions_reduced_potential})\"\n",
    "                subtracted_valence_energy = 0.0\n",
    "            else:\n",
    "                subtracted_valence_energy = geometry_engine.reverse_final_context_reduced_potential - geometry_engine.reverse_atoms_with_positions_reduced_potential\n",
    "\n",
    "\n",
    "            if conduct_endstate_validation and repartitioned_endstate is None:\n",
    "                zero_state_error, one_state_error = validate_endstate_energies(forward_htf._topology_proposal, forward_htf, added_valence_energy, subtracted_valence_energy, beta=beta, ENERGY_THRESHOLD=ENERGY_THRESHOLD)\n",
    "                if zero_state_error > ENERGY_THRESHOLD:\n",
    "                    _logger.warning(f\"Reduced potential difference of the nonalchemical and alchemical Lambda = 0 state is above the threshold ({ENERGY_THRESHOLD}): {zero_state_error}\")\n",
    "                if one_state_error > ENERGY_THRESHOLD:\n",
    "                    _logger.warning(f\"Reduced potential difference of the nonalchemical and alchemical Lambda = 1 state is above the threshold ({ENERGY_THRESHOLD}): {one_state_error}\")\n",
    "            else:\n",
    "                pass\n",
    "\n",
    "            htfs.append(forward_htf)\n",
    "\n",
    "        self.apo_htf = htfs[0]\n",
    "        self.complex_htf = htfs[1] if ligand_input else None"
   ]
  },
  {
   "cell_type": "code",
   "execution_count": 34,
   "id": "6cfd0901",
   "metadata": {
    "scrolled": true
   },
   "outputs": [
    {
     "name": "stderr",
     "output_type": "stream",
     "text": [
      "INFO:root:solvating at 0.05 M using tip3p\n",
      "INFO:root:solvating at 0.05 M using tip3p\n",
      "INFO:proposal_generator:\tConducting polymer point mutation proposal...\n",
      "INFO:proposal_generator:Using matching_criterion to chose best atom map\n",
      "INFO:proposal_generator:Scaffold has symmetry of 0\n",
      "WARNING:proposal_generator:Two molecules are not similar to have a common scaffold\n",
      "WARNING:proposal_generator:Proceeding with direct mapping of molecules, but please check atom mapping and the geometry of the ligands.\n",
      "INFO:proposal_generator:len [{7: 9}, {8: 9}, {9: 9}, {7: 10}, {8: 10}, {9: 10}, {7: 11}, {8: 11}, {9: 11}, {7: 12}, {8: 12}, {9: 12}, {7: 13}, {8: 13}, {9: 13}]\n",
      "INFO:proposal_generator:{7: 9}\n",
      "INFO:proposal_generator:{8: 9}\n",
      "INFO:proposal_generator:{9: 9}\n",
      "INFO:proposal_generator:{7: 10}\n",
      "INFO:proposal_generator:{8: 10}\n",
      "INFO:proposal_generator:{9: 10}\n",
      "INFO:proposal_generator:{7: 11}\n",
      "INFO:proposal_generator:{8: 11}\n",
      "INFO:proposal_generator:{9: 11}\n",
      "INFO:proposal_generator:{7: 12}\n",
      "INFO:proposal_generator:{8: 12}\n",
      "INFO:proposal_generator:{9: 12}\n",
      "INFO:proposal_generator:{7: 13}\n",
      "INFO:proposal_generator:{8: 13}\n",
      "INFO:proposal_generator:{9: 13}\n",
      "INFO:proposal_generator:Returning map that best satisfies matching_criterion\n",
      "INFO:proposal_generator:Finding best map using matching_criterion name\n",
      "INFO:proposal_generator:{7: 9}\n",
      "INFO:geometry:propose: performing forward proposal\n",
      "INFO:geometry:propose: unique new atoms detected; proceeding to _logp_propose...\n",
      "INFO:geometry:Conducting forward proposal...\n",
      "INFO:geometry:Computing proposal order with NetworkX...\n",
      "INFO:geometry:number of atoms to be placed: 4\n",
      "INFO:geometry:Atom index proposal order is [673, 676, 678, 677]\n",
      "INFO:geometry:omitted_bonds: []\n",
      "INFO:geometry:direction of proposal is forward; creating atoms_with_positions and new positions from old system/topology...\n",
      "INFO:geometry:creating growth system...\n",
      "INFO:geometry:\tcreating bond force...\n",
      "INFO:geometry:\tthere are 733 bonds in reference force.\n",
      "INFO:geometry:\tcreating angle force...\n",
      "INFO:geometry:\tthere are 2628 angles in reference force.\n",
      "INFO:geometry:\tcreating torsion force...\n",
      "INFO:geometry:\tcreating extra torsions force...\n",
      "INFO:geometry:\tthere are 4939 torsions in reference force.\n",
      "INFO:geometry:\tcreating nonbonded force...\n",
      "INFO:geometry:\t\tgrabbing reference nonbonded method, cutoff, switching function, switching distance...\n",
      "INFO:geometry:\t\tcreating nonbonded exception force (i.e. custom bond for 1,4s)...\n",
      "INFO:geometry:\t\tlooping through exceptions calculating growth indices, and adding appropriate interactions to custom bond force.\n",
      "INFO:geometry:\t\tthere are 21290 in the reference Nonbonded force\n",
      "WARNING:geometry:\t\t\t\t\tchiral atom <Atom 670 (CA) of chain 0 residue 42 (ALA)> with neighbors [<Atom 671 (C) of chain 0 residue 42 (ALA)>, <Atom 673 (CB) of chain 0 residue 42 (ALA)>, <Atom 675 (HA) of chain 0 residue 42 (ALA)>, <Atom 669 (N) of chain 0 residue 42 (ALA)>] is surrounded by 3 core neighbors.  omitting chirality bias torsion\n",
      "INFO:geometry:Neglected angle terms : []\n",
      "INFO:geometry:omitted_growth_terms: {'bonds': [], 'angles': [], 'torsions': [], '1,4s': []}\n",
      "INFO:geometry:extra torsions: {0: (674, 669, 670, 673, [1, Quantity(value=0.9799661941737812, unit=radian), Quantity(value=1200.0, unit=kilocalorie/mole), 1]), 1: (669, 670, 673, 676, [1, Quantity(value=2.105358864604291, unit=radian), Quantity(value=1200.0, unit=kilocalorie/mole), 2]), 2: (669, 670, 673, 677, [1, Quantity(value=-2.0823006129211796, unit=radian), Quantity(value=1200.0, unit=kilocalorie/mole), 4]), 3: (669, 670, 673, 678, [1, Quantity(value=0.018582237407944735, unit=radian), Quantity(value=1200.0, unit=kilocalorie/mole), 3]), 4: (671, 670, 673, 676, [1, Quantity(value=-0.036945135932107576, unit=radian), Quantity(value=1200.0, unit=kilocalorie/mole), 2]), 5: (671, 670, 673, 677, [1, Quantity(value=2.0585806937220097, unit=radian), Quantity(value=1200.0, unit=kilocalorie/mole), 4]), 6: (671, 670, 673, 678, [1, Quantity(value=-2.1237217631284597, unit=radian), Quantity(value=1200.0, unit=kilocalorie/mole), 3]), 7: (675, 670, 673, 676, [1, Quantity(value=-2.119603470065817, unit=radian), Quantity(value=1200.0, unit=kilocalorie/mole), 2]), 8: (675, 670, 673, 677, [1, Quantity(value=-0.024077640411697132, unit=radian), Quantity(value=1200.0, unit=kilocalorie/mole), 4]), 9: (675, 670, 673, 678, [1, Quantity(value=2.0768052099174152, unit=radian), Quantity(value=1200.0, unit=kilocalorie/mole), 3])}\n",
      "INFO:geometry:neglected angle terms include []\n",
      "INFO:geometry:log probability choice of torsions and atom order: -5.78074351579233\n",
      "INFO:geometry:creating platform, integrators, and contexts; setting growth parameter\n"
     ]
    },
    {
     "name": "stdout",
     "output_type": "stream",
     "text": [
      "conducting subsequent work with the following platform: CUDA\n"
     ]
    },
    {
     "name": "stderr",
     "output_type": "stream",
     "text": [
      "INFO:geometry:setting atoms_with_positions context new positions\n"
     ]
    },
    {
     "name": "stdout",
     "output_type": "stream",
     "text": [
      "conducting subsequent work with the following platform: CUDA\n"
     ]
    },
    {
     "name": "stderr",
     "output_type": "stream",
     "text": [
      "INFO:geometry:There are 4 new atoms\n",
      "INFO:geometry:\treduced angle potential = 1.2762201135827598.\n",
      "INFO:geometry:\treduced angle potential = 0.11025002276606474.\n",
      "INFO:geometry:\treduced angle potential = 0.1515221431721368.\n",
      "INFO:geometry:\treduced angle potential = 0.26645108963779207.\n",
      "INFO:geometry:\tbeginning construction of no_nonbonded final system...\n",
      "INFO:geometry:\tinitial no-nonbonded final system forces ['HarmonicBondForce', 'HarmonicAngleForce', 'PeriodicTorsionForce', 'NonbondedForce', 'MonteCarloBarostat']\n",
      "INFO:geometry:\tfinal no-nonbonded final system forces dict_keys(['HarmonicBondForce', 'HarmonicAngleForce', 'PeriodicTorsionForce', 'NonbondedForce'])\n",
      "INFO:geometry:\tthere are 733 bond forces in the no-nonbonded final system\n",
      "INFO:geometry:\tthere are 2628 angle forces in the no-nonbonded final system\n",
      "INFO:geometry:\tthere are 4939 torsion forces in the no-nonbonded final system\n",
      "INFO:geometry:forward final system defined with 0 neglected angles.\n"
     ]
    },
    {
     "name": "stdout",
     "output_type": "stream",
     "text": [
      "conducting subsequent work with the following platform: CUDA\n",
      "conducting subsequent work with the following platform: CUDA\n"
     ]
    },
    {
     "name": "stderr",
     "output_type": "stream",
     "text": [
      "INFO:geometry:total reduced potential before atom placement: 2279.236671135735\n"
     ]
    },
    {
     "name": "stdout",
     "output_type": "stream",
     "text": [
      "conducting subsequent work with the following platform: CUDA\n",
      "conducting subsequent work with the following platform: CUDA\n",
      "conducting subsequent work with the following platform: CUDA\n"
     ]
    },
    {
     "name": "stderr",
     "output_type": "stream",
     "text": [
      "INFO:geometry:total reduced energy added from growth system: 601.4723153881177\n",
      "INFO:geometry:final reduced energy 2880.708986776781\n",
      "INFO:geometry:sum of energies: 2880.7089865238527\n",
      "INFO:geometry:magnitude of difference in the energies: 2.529282028262969e-07\n",
      "INFO:geometry:Final logp_proposal: 33.11283906984124\n"
     ]
    },
    {
     "name": "stdout",
     "output_type": "stream",
     "text": [
      "added energy components: [('CustomBondForce', 0.06749842096452542), ('CustomAngleForce', 191.8740030524084), ('CustomTorsionForce', 11.103420858404558), ('CustomBondForce', 398.4273930563401)]\n"
     ]
    },
    {
     "name": "stderr",
     "output_type": "stream",
     "text": [
      "INFO:geometry:logp_reverse: performing reverse proposal\n",
      "INFO:geometry:logp_reverse: unique new atoms detected; proceeding to _logp_propose...\n",
      "INFO:geometry:Conducting forward proposal...\n",
      "INFO:geometry:Computing proposal order with NetworkX...\n",
      "INFO:geometry:number of atoms to be placed: 8\n",
      "INFO:geometry:Atom index proposal order is [673, 674, 675, 682, 680, 681, 678, 679]\n",
      "INFO:geometry:omitted_bonds: []\n",
      "INFO:geometry:direction of proposal is reverse; creating atoms_with_positions from old system/topology\n",
      "INFO:geometry:creating growth system...\n",
      "INFO:geometry:\tcreating bond force...\n",
      "INFO:geometry:\tthere are 735 bonds in reference force.\n",
      "INFO:geometry:\tcreating angle force...\n",
      "INFO:geometry:\tthere are 2635 angles in reference force.\n",
      "INFO:geometry:\tcreating torsion force...\n",
      "INFO:geometry:\tcreating extra torsions force...\n",
      "INFO:geometry:\tthere are 4969 torsions in reference force.\n",
      "INFO:geometry:\tcreating nonbonded force...\n",
      "INFO:geometry:\t\tgrabbing reference nonbonded method, cutoff, switching function, switching distance...\n",
      "INFO:geometry:\t\tcreating nonbonded exception force (i.e. custom bond for 1,4s)...\n",
      "INFO:geometry:\t\tlooping through exceptions calculating growth indices, and adding appropriate interactions to custom bond force.\n",
      "INFO:geometry:\t\tthere are 21313 in the reference Nonbonded force\n",
      "WARNING:geometry:\t\t\t\t\tchiral atom <Atom 670 (CA) of chain 0 residue 42 (THR)> with neighbors [<Atom 671 (C) of chain 0 residue 42 (THR)>, <Atom 673 (CB) of chain 0 residue 42 (THR)>, <Atom 677 (HA) of chain 0 residue 42 (THR)>, <Atom 669 (N) of chain 0 residue 42 (THR)>] is surrounded by 3 core neighbors.  omitting chirality bias torsion\n",
      "INFO:geometry:Neglected angle terms : []\n",
      "INFO:geometry:omitted_growth_terms: {'bonds': [], 'angles': [], 'torsions': [], '1,4s': []}\n",
      "INFO:geometry:extra torsions: {0: (676, 669, 670, 673, [1, Quantity(value=0.9900002084555819, unit=radian), Quantity(value=1200.0, unit=kilocalorie/mole), 1]), 1: (679, 674, 673, 670, [1, Quantity(value=-0.07858019216845058, unit=radian), Quantity(value=1200.0, unit=kilocalorie/mole), 8]), 2: (679, 674, 673, 675, [1, Quantity(value=2.118586571250296, unit=radian), Quantity(value=1200.0, unit=kilocalorie/mole), 8]), 3: (679, 674, 673, 678, [1, Quantity(value=-2.149781203448759, unit=radian), Quantity(value=1200.0, unit=kilocalorie/mole), 8]), 4: (670, 673, 675, 682, [1, Quantity(value=-2.1249532223845904, unit=radian), Quantity(value=1200.0, unit=kilocalorie/mole), 4]), 5: (670, 673, 675, 681, [1, Quantity(value=2.0543043017157916, unit=radian), Quantity(value=1200.0, unit=kilocalorie/mole), 6]), 6: (670, 673, 675, 680, [1, Quantity(value=-0.02223392579985184, unit=radian), Quantity(value=1200.0, unit=kilocalorie/mole), 5]), 7: (674, 673, 675, 682, [1, Quantity(value=2.0255587336734213, unit=radian), Quantity(value=1200.0, unit=kilocalorie/mole), 4]), 8: (674, 673, 675, 681, [1, Quantity(value=-0.07836904940578293, unit=radian), Quantity(value=1200.0, unit=kilocalorie/mole), 6]), 9: (674, 673, 675, 680, [1, Quantity(value=-2.154907276921426, unit=radian), Quantity(value=1200.0, unit=kilocalorie/mole), 5]), 10: (678, 673, 675, 682, [1, Quantity(value=0.007583009583349565, unit=radian), Quantity(value=1200.0, unit=kilocalorie/mole), 7]), 11: (678, 673, 675, 681, [1, Quantity(value=-2.096344773495849, unit=radian), Quantity(value=1200.0, unit=kilocalorie/mole), 7]), 12: (678, 673, 675, 680, [1, Quantity(value=2.1103023061680943, unit=radian), Quantity(value=1200.0, unit=kilocalorie/mole), 7]), 13: (674, 673, 670, 675, [1, Quantity(value=-1.0655064807976995, unit=radian), Quantity(value=1200.0, unit=kilocalorie/mole), 3])}\n",
      "INFO:geometry:neglected angle terms include []\n",
      "INFO:geometry:log probability choice of torsions and atom order: -13.659277711932692\n",
      "INFO:geometry:creating platform, integrators, and contexts; setting growth parameter\n"
     ]
    },
    {
     "name": "stdout",
     "output_type": "stream",
     "text": [
      "conducting subsequent work with the following platform: CUDA\n"
     ]
    },
    {
     "name": "stderr",
     "output_type": "stream",
     "text": [
      "INFO:geometry:setting atoms_with_positions context old positions\n"
     ]
    },
    {
     "name": "stdout",
     "output_type": "stream",
     "text": [
      "conducting subsequent work with the following platform: CUDA\n"
     ]
    },
    {
     "name": "stderr",
     "output_type": "stream",
     "text": [
      "INFO:geometry:There are 8 new atoms\n",
      "INFO:geometry:\treduced angle potential = 0.1817144363741264.\n",
      "INFO:geometry:\treduced angle potential = 0.1536280916466212.\n",
      "INFO:geometry:\treduced angle potential = 0.2257125237447829.\n",
      "INFO:geometry:\treduced angle potential = 0.25876654048332753.\n",
      "INFO:geometry:\treduced angle potential = 0.023352265895513123.\n",
      "INFO:geometry:\treduced angle potential = 0.05657264681042365.\n",
      "INFO:geometry:\treduced angle potential = 0.00589659951395519.\n",
      "INFO:geometry:\treduced angle potential = 0.0066955214510641915.\n",
      "INFO:geometry:\tbeginning construction of no_nonbonded final system...\n",
      "INFO:geometry:\tinitial no-nonbonded final system forces ['HarmonicBondForce', 'HarmonicAngleForce', 'PeriodicTorsionForce', 'NonbondedForce', 'MonteCarloBarostat']\n",
      "INFO:geometry:\tfinal no-nonbonded final system forces dict_keys(['HarmonicBondForce', 'HarmonicAngleForce', 'PeriodicTorsionForce', 'NonbondedForce'])\n",
      "INFO:geometry:\tthere are 735 bond forces in the no-nonbonded final system\n",
      "INFO:geometry:\tthere are 2635 angle forces in the no-nonbonded final system\n",
      "INFO:geometry:\tthere are 4969 torsion forces in the no-nonbonded final system\n",
      "INFO:geometry:reverse final system defined with 0 neglected angles.\n"
     ]
    },
    {
     "name": "stdout",
     "output_type": "stream",
     "text": [
      "conducting subsequent work with the following platform: CUDA\n",
      "conducting subsequent work with the following platform: CUDA\n"
     ]
    },
    {
     "name": "stderr",
     "output_type": "stream",
     "text": [
      "INFO:geometry:total reduced potential before atom placement: 2279.2366360388532\n"
     ]
    },
    {
     "name": "stdout",
     "output_type": "stream",
     "text": [
      "conducting subsequent work with the following platform: CUDA\n",
      "conducting subsequent work with the following platform: CUDA\n",
      "conducting subsequent work with the following platform: CUDA\n"
     ]
    },
    {
     "name": "stderr",
     "output_type": "stream",
     "text": [
      "INFO:geometry:total reduced energy added from growth system: -62.39009687497522\n",
      "INFO:geometry:final reduced energy 2216.846539716323\n",
      "INFO:geometry:sum of energies: 2216.846539163878\n",
      "INFO:geometry:magnitude of difference in the energies: 5.524451225369376e-07\n",
      "INFO:geometry:Final logp_proposal: -10170.20804472817\n"
     ]
    },
    {
     "name": "stdout",
     "output_type": "stream",
     "text": [
      "added energy components: [('CustomBondForce', 0.4083956553523612), ('CustomAngleForce', 1.622079514297996), ('CustomTorsionForce', 17.50313698245956), ('CustomBondForce', -81.92370902708515)]\n"
     ]
    },
    {
     "name": "stderr",
     "output_type": "stream",
     "text": [
      "INFO:relative:*** Generating RxnHybridTopologyFactory ***\n",
      "INFO:relative:Beginning nonbonded method, total particle, barostat, and exceptions retrieval...\n",
      "INFO:relative:Old system forces: dict_keys(['HarmonicBondForce', 'HarmonicAngleForce', 'PeriodicTorsionForce', 'NonbondedForce', 'MonteCarloBarostat'])\n",
      "INFO:relative:New system forces: dict_keys(['HarmonicBondForce', 'HarmonicAngleForce', 'PeriodicTorsionForce', 'NonbondedForce', 'MonteCarloBarostat'])\n",
      "INFO:relative:No unknown forces.\n",
      "INFO:relative:Nonbonded method to be used (i.e. from old system): 4\n",
      "INFO:relative:Adding and mapping old atoms to hybrid system...\n",
      "INFO:relative:Adding and mapping new atoms to hybrid system...\n",
      "INFO:relative:scale_templates: [['nonscale_lambda', 'scale_lambda_0', 'interscale_lambda_0'], ['nonscale_region', 'scale_region_0', 'interscale_region_0']]\n",
      "INFO:relative:Added MonteCarloBarostat.\n",
      "INFO:relative:getDefaultPeriodicBoxVectors added to hybrid: [Quantity(value=Vec3(x=5.423900000000001, y=0.0, z=0.0), unit=nanometer), Quantity(value=Vec3(x=0.0, y=5.423900000000001, z=0.0), unit=nanometer), Quantity(value=Vec3(x=0.0, y=0.0, z=5.423900000000001), unit=nanometer)]\n",
      "INFO:relative:Determined atom classes.\n",
      "INFO:relative:Generating old system exceptions dict...\n",
      "INFO:relative:Generating new system exceptions dict...\n",
      "INFO:relative:Handling constraints...\n",
      "INFO:relative:Handling virtual sites...\n",
      "INFO:relative:\t_handle_virtual_sites: numVirtualSites: 0\n"
     ]
    },
    {
     "name": "stdout",
     "output_type": "stream",
     "text": [
      "( nonscale_lambda_bonds * nonscale_region+scale_lambda_0_bonds * scale_region_0+interscale_lambda_0_bonds * interscale_region_0 ) * (K/2)*(r-length)^2;K = ( 1 * environment_region+lambda_0_bonds_old * alchemical_region_0 ) * K1 + ( 1 * environment_region+lambda_0_bonds_new * alchemical_region_0 ) * K2;length = ( 1 * environment_region+lambda_0_bonds_old * alchemical_region_0 ) * length1 + ( 1 * environment_region+lambda_0_bonds_new * alchemical_region_0 ) * length2;\n"
     ]
    },
    {
     "name": "stderr",
     "output_type": "stream",
     "text": [
      "INFO:relative:hybrid_index_pair (700, 703, 702, 712) was not found in the new_term_collector, but (703, 700, 702, 712) has the same atoms and terms, so (703, 700, 702, 712) will be removed from the new term collector\n",
      "INFO:relative:hybrid_index_pair (701, 702, 703, 713) was not found in the new_term_collector, but (702, 701, 703, 713) has the same atoms and terms, so (702, 701, 703, 713) will be removed from the new term collector\n",
      "INFO:relative:hybrid_index_pair (750, 754, 752, 762) was not found in the new_term_collector, but (754, 750, 752, 762) has the same atoms and terms, so (754, 750, 752, 762) will be removed from the new term collector\n",
      "INFO:relative:hybrid_index_pair (862, 859, 861, 871) was not found in the new_term_collector, but (859, 862, 861, 871) has the same atoms and terms, so (859, 862, 861, 871) will be removed from the new term collector\n",
      "INFO:relative:hybrid_index_pair (860, 861, 862, 872) was not found in the new_term_collector, but (861, 860, 862, 872) has the same atoms and terms, so (861, 860, 862, 872) will be removed from the new term collector\n",
      "INFO:relative:hybrid_index_pair (903, 913, 905, 912) was not found in the new_term_collector, but (903, 912, 905, 913) has the same atoms and terms, so (903, 912, 905, 913) will be removed from the new term collector\n",
      "INFO:relative:hybrid_index_pair (924, 920, 922, 931) was not found in the new_term_collector, but (920, 924, 922, 931) has the same atoms and terms, so (920, 924, 922, 931) will be removed from the new term collector\n",
      "INFO:relative:hybrid_index_pair (924, 921, 923, 932) was not found in the new_term_collector, but (921, 924, 923, 932) has the same atoms and terms, so (921, 924, 923, 932) will be removed from the new term collector\n",
      "INFO:relative:hybrid_index_pair (923, 922, 924, 933) was not found in the new_term_collector, but (922, 923, 924, 933) has the same atoms and terms, so (922, 923, 924, 933) will be removed from the new term collector\n",
      "INFO:relative:hybrid_index_pair (955, 964, 957, 965) was not found in the new_term_collector, but (955, 965, 957, 964) has the same atoms and terms, so (955, 965, 957, 964) will be removed from the new term collector\n",
      "INFO:relative:hybrid_index_pair (1069, 1075, 1071, 1074) was not found in the new_term_collector, but (1069, 1074, 1071, 1075) has the same atoms and terms, so (1069, 1074, 1071, 1075) will be removed from the new term collector\n",
      "INFO:relative:hybrid_index_pair (1196, 1199, 1198, 1207) was not found in the new_term_collector, but (1199, 1196, 1198, 1207) has the same atoms and terms, so (1199, 1196, 1198, 1207) will be removed from the new term collector\n",
      "INFO:relative:hybrid_index_pair (1197, 1198, 1199, 1208) was not found in the new_term_collector, but (1198, 1197, 1199, 1208) has the same atoms and terms, so (1198, 1197, 1199, 1208) will be removed from the new term collector\n",
      "INFO:proposal_generator:\tConducting polymer point mutation proposal...\n",
      "INFO:proposal_generator:Using matching_criterion to chose best atom map\n",
      "INFO:proposal_generator:Scaffold has symmetry of 0\n",
      "WARNING:proposal_generator:Two molecules are not similar to have a common scaffold\n",
      "WARNING:proposal_generator:Proceeding with direct mapping of molecules, but please check atom mapping and the geometry of the ligands.\n",
      "INFO:proposal_generator:len [{7: 9}, {8: 9}, {9: 9}, {7: 10}, {8: 10}, {9: 10}, {7: 11}, {8: 11}, {9: 11}, {7: 12}, {8: 12}, {9: 12}, {7: 13}, {8: 13}, {9: 13}]\n",
      "INFO:proposal_generator:{7: 9}\n",
      "INFO:proposal_generator:{8: 9}\n",
      "INFO:proposal_generator:{9: 9}\n",
      "INFO:proposal_generator:{7: 10}\n",
      "INFO:proposal_generator:{8: 10}\n",
      "INFO:proposal_generator:{9: 10}\n",
      "INFO:proposal_generator:{7: 11}\n",
      "INFO:proposal_generator:{8: 11}\n",
      "INFO:proposal_generator:{9: 11}\n",
      "INFO:proposal_generator:{7: 12}\n",
      "INFO:proposal_generator:{8: 12}\n",
      "INFO:proposal_generator:{9: 12}\n",
      "INFO:proposal_generator:{7: 13}\n",
      "INFO:proposal_generator:{8: 13}\n",
      "INFO:proposal_generator:{9: 13}\n",
      "INFO:proposal_generator:Returning map that best satisfies matching_criterion\n",
      "INFO:proposal_generator:Finding best map using matching_criterion name\n",
      "INFO:proposal_generator:{7: 9}\n",
      "INFO:geometry:propose: performing forward proposal\n",
      "INFO:geometry:propose: unique new atoms detected; proceeding to _logp_propose...\n",
      "INFO:geometry:Conducting forward proposal...\n",
      "INFO:geometry:Computing proposal order with NetworkX...\n",
      "INFO:geometry:number of atoms to be placed: 4\n",
      "INFO:geometry:Atom index proposal order is [673, 678, 676, 677]\n",
      "INFO:geometry:omitted_bonds: []\n",
      "INFO:geometry:direction of proposal is forward; creating atoms_with_positions and new positions from old system/topology...\n",
      "INFO:geometry:creating growth system...\n",
      "INFO:geometry:\tcreating bond force...\n",
      "INFO:geometry:\tthere are 1622 bonds in reference force.\n",
      "INFO:geometry:\tcreating angle force...\n",
      "INFO:geometry:\tthere are 5730 angles in reference force.\n",
      "INFO:geometry:\tcreating torsion force...\n",
      "INFO:geometry:\tcreating extra torsions force...\n",
      "INFO:geometry:\tthere are 10792 torsions in reference force.\n",
      "INFO:geometry:\tcreating nonbonded force...\n",
      "INFO:geometry:\t\tgrabbing reference nonbonded method, cutoff, switching function, switching distance...\n",
      "INFO:geometry:\t\tcreating nonbonded exception force (i.e. custom bond for 1,4s)...\n",
      "INFO:geometry:\t\tlooping through exceptions calculating growth indices, and adding appropriate interactions to custom bond force.\n",
      "INFO:geometry:\t\tthere are 43478 in the reference Nonbonded force\n",
      "WARNING:geometry:\t\t\t\t\tchiral atom <Atom 670 (CA) of chain 0 residue 42 (ALA)> with neighbors [<Atom 671 (C) of chain 0 residue 42 (ALA)>, <Atom 673 (CB) of chain 0 residue 42 (ALA)>, <Atom 675 (HA) of chain 0 residue 42 (ALA)>, <Atom 669 (N) of chain 0 residue 42 (ALA)>] is surrounded by 3 core neighbors.  omitting chirality bias torsion\n",
      "INFO:geometry:Neglected angle terms : []\n",
      "INFO:geometry:omitted_growth_terms: {'bonds': [], 'angles': [], 'torsions': [], '1,4s': []}\n",
      "INFO:geometry:extra torsions: {0: (674, 669, 670, 673, [1, Quantity(value=0.9799661941737812, unit=radian), Quantity(value=1200.0, unit=kilocalorie/mole), 1]), 1: (669, 670, 673, 676, [1, Quantity(value=2.105358864604291, unit=radian), Quantity(value=1200.0, unit=kilocalorie/mole), 3]), 2: (669, 670, 673, 677, [1, Quantity(value=-2.0823006129211796, unit=radian), Quantity(value=1200.0, unit=kilocalorie/mole), 4]), 3: (669, 670, 673, 678, [1, Quantity(value=0.018582237407944735, unit=radian), Quantity(value=1200.0, unit=kilocalorie/mole), 2]), 4: (671, 670, 673, 676, [1, Quantity(value=-0.036945135932107576, unit=radian), Quantity(value=1200.0, unit=kilocalorie/mole), 3]), 5: (671, 670, 673, 677, [1, Quantity(value=2.0585806937220097, unit=radian), Quantity(value=1200.0, unit=kilocalorie/mole), 4]), 6: (671, 670, 673, 678, [1, Quantity(value=-2.1237217631284597, unit=radian), Quantity(value=1200.0, unit=kilocalorie/mole), 2]), 7: (675, 670, 673, 676, [1, Quantity(value=-2.119603470065817, unit=radian), Quantity(value=1200.0, unit=kilocalorie/mole), 3]), 8: (675, 670, 673, 677, [1, Quantity(value=-0.024077640411697132, unit=radian), Quantity(value=1200.0, unit=kilocalorie/mole), 4]), 9: (675, 670, 673, 678, [1, Quantity(value=2.0768052099174152, unit=radian), Quantity(value=1200.0, unit=kilocalorie/mole), 2])}\n",
      "INFO:geometry:neglected angle terms include []\n",
      "INFO:geometry:log probability choice of torsions and atom order: -5.78074351579233\n",
      "INFO:geometry:creating platform, integrators, and contexts; setting growth parameter\n"
     ]
    },
    {
     "name": "stdout",
     "output_type": "stream",
     "text": [
      "conducting subsequent work with the following platform: CUDA\n"
     ]
    },
    {
     "name": "stderr",
     "output_type": "stream",
     "text": [
      "INFO:geometry:setting atoms_with_positions context new positions\n"
     ]
    },
    {
     "name": "stdout",
     "output_type": "stream",
     "text": [
      "conducting subsequent work with the following platform: CUDA\n"
     ]
    },
    {
     "name": "stderr",
     "output_type": "stream",
     "text": [
      "INFO:geometry:There are 4 new atoms\n",
      "INFO:geometry:\treduced angle potential = 0.11094638680136558.\n",
      "INFO:geometry:\treduced angle potential = 4.463269439231841.\n",
      "INFO:geometry:\treduced angle potential = 0.9752445051536875.\n",
      "INFO:geometry:\treduced angle potential = 0.6796122711314527.\n",
      "INFO:geometry:\tbeginning construction of no_nonbonded final system...\n",
      "INFO:geometry:\tinitial no-nonbonded final system forces ['HarmonicBondForce', 'HarmonicAngleForce', 'PeriodicTorsionForce', 'NonbondedForce', 'MonteCarloBarostat']\n",
      "INFO:geometry:\tfinal no-nonbonded final system forces dict_keys(['HarmonicBondForce', 'HarmonicAngleForce', 'PeriodicTorsionForce', 'NonbondedForce'])\n",
      "INFO:geometry:\tthere are 1622 bond forces in the no-nonbonded final system\n",
      "INFO:geometry:\tthere are 5730 angle forces in the no-nonbonded final system\n",
      "INFO:geometry:\tthere are 10792 torsion forces in the no-nonbonded final system\n",
      "INFO:geometry:forward final system defined with 0 neglected angles.\n"
     ]
    },
    {
     "name": "stdout",
     "output_type": "stream",
     "text": [
      "conducting subsequent work with the following platform: CUDA\n",
      "conducting subsequent work with the following platform: CUDA\n"
     ]
    },
    {
     "name": "stderr",
     "output_type": "stream",
     "text": [
      "INFO:geometry:total reduced potential before atom placement: 4792.467751597958\n"
     ]
    },
    {
     "name": "stdout",
     "output_type": "stream",
     "text": [
      "conducting subsequent work with the following platform: CUDA\n",
      "conducting subsequent work with the following platform: CUDA\n",
      "conducting subsequent work with the following platform: CUDA\n"
     ]
    },
    {
     "name": "stderr",
     "output_type": "stream",
     "text": [
      "INFO:geometry:total reduced energy added from growth system: 755.0614036342782\n",
      "INFO:geometry:final reduced energy 5547.529154598366\n",
      "INFO:geometry:sum of energies: 5547.529155232237\n",
      "INFO:geometry:magnitude of difference in the energies: 6.338701723507256e-07\n",
      "INFO:geometry:Final logp_proposal: 29.087418771819046\n"
     ]
    },
    {
     "name": "stdout",
     "output_type": "stream",
     "text": [
      "added energy components: [('CustomBondForce', 0.7097392646199856), ('CustomAngleForce', 203.8769201319095), ('CustomTorsionForce', 10.99579445295342), ('CustomBondForce', 539.4789497847953)]\n"
     ]
    },
    {
     "name": "stderr",
     "output_type": "stream",
     "text": [
      "INFO:geometry:logp_reverse: performing reverse proposal\n",
      "INFO:geometry:logp_reverse: unique new atoms detected; proceeding to _logp_propose...\n",
      "INFO:geometry:Conducting forward proposal...\n",
      "INFO:geometry:Computing proposal order with NetworkX...\n",
      "INFO:geometry:number of atoms to be placed: 8\n",
      "INFO:geometry:Atom index proposal order is [673, 674, 675, 682, 679, 678, 680, 681]\n",
      "INFO:geometry:omitted_bonds: []\n",
      "INFO:geometry:direction of proposal is reverse; creating atoms_with_positions from old system/topology\n",
      "INFO:geometry:creating growth system...\n",
      "INFO:geometry:\tcreating bond force...\n",
      "INFO:geometry:\tthere are 1624 bonds in reference force.\n",
      "INFO:geometry:\tcreating angle force...\n",
      "INFO:geometry:\tthere are 5737 angles in reference force.\n",
      "INFO:geometry:\tcreating torsion force...\n",
      "INFO:geometry:\tcreating extra torsions force...\n",
      "INFO:geometry:\tthere are 10822 torsions in reference force.\n",
      "INFO:geometry:\tcreating nonbonded force...\n",
      "INFO:geometry:\t\tgrabbing reference nonbonded method, cutoff, switching function, switching distance...\n",
      "INFO:geometry:\t\tcreating nonbonded exception force (i.e. custom bond for 1,4s)...\n",
      "INFO:geometry:\t\tlooping through exceptions calculating growth indices, and adding appropriate interactions to custom bond force.\n",
      "INFO:geometry:\t\tthere are 43501 in the reference Nonbonded force\n",
      "WARNING:geometry:\t\t\t\t\tchiral atom <Atom 670 (CA) of chain 0 residue 42 (THR)> with neighbors [<Atom 671 (C) of chain 0 residue 42 (THR)>, <Atom 673 (CB) of chain 0 residue 42 (THR)>, <Atom 677 (HA) of chain 0 residue 42 (THR)>, <Atom 669 (N) of chain 0 residue 42 (THR)>] is surrounded by 3 core neighbors.  omitting chirality bias torsion\n",
      "INFO:geometry:Neglected angle terms : []\n",
      "INFO:geometry:omitted_growth_terms: {'bonds': [], 'angles': [], 'torsions': [], '1,4s': []}\n",
      "INFO:geometry:extra torsions: {0: (676, 669, 670, 673, [1, Quantity(value=0.9900002084555819, unit=radian), Quantity(value=1200.0, unit=kilocalorie/mole), 1]), 1: (679, 674, 673, 670, [1, Quantity(value=-0.07858019216845058, unit=radian), Quantity(value=1200.0, unit=kilocalorie/mole), 5]), 2: (679, 674, 673, 675, [1, Quantity(value=2.118586571250296, unit=radian), Quantity(value=1200.0, unit=kilocalorie/mole), 5]), 3: (679, 674, 673, 678, [1, Quantity(value=-2.149781203448759, unit=radian), Quantity(value=1200.0, unit=kilocalorie/mole), 6]), 4: (670, 673, 675, 682, [1, Quantity(value=-2.1249532223845904, unit=radian), Quantity(value=1200.0, unit=kilocalorie/mole), 4]), 5: (670, 673, 675, 681, [1, Quantity(value=2.0543043017157916, unit=radian), Quantity(value=1200.0, unit=kilocalorie/mole), 8]), 6: (670, 673, 675, 680, [1, Quantity(value=-0.02223392579985184, unit=radian), Quantity(value=1200.0, unit=kilocalorie/mole), 7]), 7: (674, 673, 675, 682, [1, Quantity(value=2.0255587336734213, unit=radian), Quantity(value=1200.0, unit=kilocalorie/mole), 4]), 8: (674, 673, 675, 681, [1, Quantity(value=-0.07836904940578293, unit=radian), Quantity(value=1200.0, unit=kilocalorie/mole), 8]), 9: (674, 673, 675, 680, [1, Quantity(value=-2.154907276921426, unit=radian), Quantity(value=1200.0, unit=kilocalorie/mole), 7]), 10: (678, 673, 675, 682, [1, Quantity(value=0.007583009583349565, unit=radian), Quantity(value=1200.0, unit=kilocalorie/mole), 6]), 11: (678, 673, 675, 681, [1, Quantity(value=-2.096344773495849, unit=radian), Quantity(value=1200.0, unit=kilocalorie/mole), 8]), 12: (678, 673, 675, 680, [1, Quantity(value=2.1103023061680943, unit=radian), Quantity(value=1200.0, unit=kilocalorie/mole), 7]), 13: (674, 673, 670, 675, [1, Quantity(value=-1.0655064807976995, unit=radian), Quantity(value=1200.0, unit=kilocalorie/mole), 3])}\n",
      "INFO:geometry:neglected angle terms include []\n",
      "INFO:geometry:log probability choice of torsions and atom order: -13.371595639480912\n",
      "INFO:geometry:creating platform, integrators, and contexts; setting growth parameter\n"
     ]
    },
    {
     "name": "stdout",
     "output_type": "stream",
     "text": [
      "conducting subsequent work with the following platform: CUDA\n"
     ]
    },
    {
     "name": "stderr",
     "output_type": "stream",
     "text": [
      "INFO:geometry:setting atoms_with_positions context old positions\n"
     ]
    },
    {
     "name": "stdout",
     "output_type": "stream",
     "text": [
      "conducting subsequent work with the following platform: CUDA\n"
     ]
    },
    {
     "name": "stderr",
     "output_type": "stream",
     "text": [
      "INFO:geometry:There are 8 new atoms\n",
      "INFO:geometry:\treduced angle potential = 0.005472066865685023.\n",
      "INFO:geometry:\treduced angle potential = 0.1536280916466212.\n",
      "INFO:geometry:\treduced angle potential = 0.2257125237447829.\n",
      "INFO:geometry:\treduced angle potential = 0.25876654048332753.\n",
      "INFO:geometry:\treduced angle potential = 0.0066955214510641915.\n",
      "INFO:geometry:\treduced angle potential = 0.00589659951395519.\n",
      "INFO:geometry:\treduced angle potential = 0.023352265895513123.\n",
      "INFO:geometry:\treduced angle potential = 0.05657264681042365.\n",
      "INFO:geometry:\tbeginning construction of no_nonbonded final system...\n",
      "INFO:geometry:\tinitial no-nonbonded final system forces ['HarmonicBondForce', 'HarmonicAngleForce', 'PeriodicTorsionForce', 'NonbondedForce', 'MonteCarloBarostat']\n",
      "INFO:geometry:\tfinal no-nonbonded final system forces dict_keys(['HarmonicBondForce', 'HarmonicAngleForce', 'PeriodicTorsionForce', 'NonbondedForce'])\n",
      "INFO:geometry:\tthere are 1624 bond forces in the no-nonbonded final system\n",
      "INFO:geometry:\tthere are 5737 angle forces in the no-nonbonded final system\n",
      "INFO:geometry:\tthere are 10822 torsion forces in the no-nonbonded final system\n",
      "INFO:geometry:reverse final system defined with 0 neglected angles.\n"
     ]
    },
    {
     "name": "stdout",
     "output_type": "stream",
     "text": [
      "conducting subsequent work with the following platform: CUDA\n",
      "conducting subsequent work with the following platform: CUDA\n"
     ]
    },
    {
     "name": "stderr",
     "output_type": "stream",
     "text": [
      "INFO:geometry:total reduced potential before atom placement: 4792.467870677297\n"
     ]
    },
    {
     "name": "stdout",
     "output_type": "stream",
     "text": [
      "conducting subsequent work with the following platform: CUDA\n",
      "conducting subsequent work with the following platform: CUDA\n",
      "conducting subsequent work with the following platform: CUDA\n"
     ]
    },
    {
     "name": "stderr",
     "output_type": "stream",
     "text": [
      "INFO:geometry:total reduced energy added from growth system: -62.39009687497522\n",
      "INFO:geometry:final reduced energy 4730.077774354767\n",
      "INFO:geometry:sum of energies: 4730.077773802322\n",
      "INFO:geometry:magnitude of difference in the energies: 5.524455772842884e-07\n",
      "INFO:geometry:Final logp_proposal: -9639.097523470049\n"
     ]
    },
    {
     "name": "stdout",
     "output_type": "stream",
     "text": [
      "added energy components: [('CustomBondForce', 0.4083956553523612), ('CustomAngleForce', 1.622079514297996), ('CustomTorsionForce', 17.50313698245956), ('CustomBondForce', -81.92370902708515)]\n"
     ]
    },
    {
     "name": "stderr",
     "output_type": "stream",
     "text": [
      "INFO:relative:*** Generating RxnHybridTopologyFactory ***\n",
      "INFO:relative:Beginning nonbonded method, total particle, barostat, and exceptions retrieval...\n",
      "INFO:relative:Old system forces: dict_keys(['HarmonicBondForce', 'HarmonicAngleForce', 'PeriodicTorsionForce', 'NonbondedForce', 'MonteCarloBarostat'])\n",
      "INFO:relative:New system forces: dict_keys(['HarmonicBondForce', 'HarmonicAngleForce', 'PeriodicTorsionForce', 'NonbondedForce', 'MonteCarloBarostat'])\n",
      "INFO:relative:No unknown forces.\n",
      "INFO:relative:Nonbonded method to be used (i.e. from old system): 4\n",
      "INFO:relative:Adding and mapping old atoms to hybrid system...\n",
      "INFO:relative:Adding and mapping new atoms to hybrid system...\n",
      "INFO:relative:scale_templates: [['nonscale_lambda', 'scale_lambda_0', 'interscale_lambda_0'], ['nonscale_region', 'scale_region_0', 'interscale_region_0']]\n",
      "INFO:relative:Added MonteCarloBarostat.\n",
      "INFO:relative:getDefaultPeriodicBoxVectors added to hybrid: [Quantity(value=Vec3(x=6.7997, y=0.0, z=0.0), unit=nanometer), Quantity(value=Vec3(x=0.0, y=6.7997, z=0.0), unit=nanometer), Quantity(value=Vec3(x=0.0, y=0.0, z=6.7997), unit=nanometer)]\n",
      "INFO:relative:Determined atom classes.\n",
      "INFO:relative:Generating old system exceptions dict...\n",
      "INFO:relative:Generating new system exceptions dict...\n",
      "INFO:relative:Handling constraints...\n",
      "INFO:relative:Handling virtual sites...\n",
      "INFO:relative:\t_handle_virtual_sites: numVirtualSites: 0\n"
     ]
    },
    {
     "name": "stdout",
     "output_type": "stream",
     "text": [
      "( nonscale_lambda_bonds * nonscale_region+scale_lambda_0_bonds * scale_region_0+interscale_lambda_0_bonds * interscale_region_0 ) * (K/2)*(r-length)^2;K = ( 1 * environment_region+lambda_0_bonds_old * alchemical_region_0 ) * K1 + ( 1 * environment_region+lambda_0_bonds_new * alchemical_region_0 ) * K2;length = ( 1 * environment_region+lambda_0_bonds_old * alchemical_region_0 ) * length1 + ( 1 * environment_region+lambda_0_bonds_new * alchemical_region_0 ) * length2;\n"
     ]
    },
    {
     "name": "stderr",
     "output_type": "stream",
     "text": [
      "INFO:relative:hybrid_index_pair (700, 703, 702, 712) was not found in the new_term_collector, but (703, 700, 702, 712) has the same atoms and terms, so (703, 700, 702, 712) will be removed from the new term collector\n",
      "INFO:relative:hybrid_index_pair (701, 702, 703, 713) was not found in the new_term_collector, but (702, 701, 703, 713) has the same atoms and terms, so (702, 701, 703, 713) will be removed from the new term collector\n",
      "INFO:relative:hybrid_index_pair (750, 754, 752, 762) was not found in the new_term_collector, but (754, 750, 752, 762) has the same atoms and terms, so (754, 750, 752, 762) will be removed from the new term collector\n",
      "INFO:relative:hybrid_index_pair (862, 859, 861, 871) was not found in the new_term_collector, but (859, 862, 861, 871) has the same atoms and terms, so (859, 862, 861, 871) will be removed from the new term collector\n",
      "INFO:relative:hybrid_index_pair (860, 861, 862, 872) was not found in the new_term_collector, but (861, 860, 862, 872) has the same atoms and terms, so (861, 860, 862, 872) will be removed from the new term collector\n",
      "INFO:relative:hybrid_index_pair (903, 913, 905, 912) was not found in the new_term_collector, but (903, 912, 905, 913) has the same atoms and terms, so (903, 912, 905, 913) will be removed from the new term collector\n",
      "INFO:relative:hybrid_index_pair (924, 920, 922, 931) was not found in the new_term_collector, but (920, 924, 922, 931) has the same atoms and terms, so (920, 924, 922, 931) will be removed from the new term collector\n",
      "INFO:relative:hybrid_index_pair (924, 921, 923, 932) was not found in the new_term_collector, but (921, 924, 923, 932) has the same atoms and terms, so (921, 924, 923, 932) will be removed from the new term collector\n",
      "INFO:relative:hybrid_index_pair (923, 922, 924, 933) was not found in the new_term_collector, but (922, 923, 924, 933) has the same atoms and terms, so (922, 923, 924, 933) will be removed from the new term collector\n",
      "INFO:relative:hybrid_index_pair (955, 964, 957, 965) was not found in the new_term_collector, but (955, 965, 957, 964) has the same atoms and terms, so (955, 965, 957, 964) will be removed from the new term collector\n",
      "INFO:relative:hybrid_index_pair (1069, 1075, 1071, 1074) was not found in the new_term_collector, but (1069, 1074, 1071, 1075) has the same atoms and terms, so (1069, 1074, 1071, 1075) will be removed from the new term collector\n",
      "INFO:relative:hybrid_index_pair (1196, 1199, 1198, 1207) was not found in the new_term_collector, but (1199, 1196, 1198, 1207) has the same atoms and terms, so (1199, 1196, 1198, 1207) will be removed from the new term collector\n",
      "INFO:relative:hybrid_index_pair (1197, 1198, 1199, 1208) was not found in the new_term_collector, but (1198, 1197, 1199, 1208) has the same atoms and terms, so (1198, 1197, 1199, 1208) will be removed from the new term collector\n",
      "INFO:relative:hybrid_index_pair (1490, 1498, 1492, 1497) was not found in the new_term_collector, but (1490, 1497, 1492, 1498) has the same atoms and terms, so (1490, 1497, 1492, 1498) will be removed from the new term collector\n",
      "INFO:relative:hybrid_index_pair (1523, 1520, 1522, 1531) was not found in the new_term_collector, but (1520, 1523, 1522, 1531) has the same atoms and terms, so (1520, 1523, 1522, 1531) will be removed from the new term collector\n",
      "INFO:relative:hybrid_index_pair (1522, 1521, 1523, 1532) was not found in the new_term_collector, but (1521, 1522, 1523, 1532) has the same atoms and terms, so (1521, 1522, 1523, 1532) will be removed from the new term collector\n",
      "INFO:relative:hybrid_index_pair (1669, 1666, 1667, 1677) was not found in the new_term_collector, but (1666, 1669, 1667, 1677) has the same atoms and terms, so (1666, 1669, 1667, 1677) will be removed from the new term collector\n",
      "INFO:relative:hybrid_index_pair (1670, 1666, 1668, 1678) was not found in the new_term_collector, but (1666, 1670, 1668, 1678) has the same atoms and terms, so (1666, 1670, 1668, 1678) will be removed from the new term collector\n",
      "INFO:relative:hybrid_index_pair (1771, 1779, 1773, 1778) was not found in the new_term_collector, but (1771, 1778, 1773, 1779) has the same atoms and terms, so (1771, 1778, 1773, 1779) will be removed from the new term collector\n",
      "INFO:relative:hybrid_index_pair (1788, 1785, 1786, 1796) was not found in the new_term_collector, but (1785, 1788, 1786, 1796) has the same atoms and terms, so (1785, 1788, 1786, 1796) will be removed from the new term collector\n",
      "INFO:relative:hybrid_index_pair (1789, 1785, 1787, 1797) was not found in the new_term_collector, but (1785, 1789, 1787, 1797) has the same atoms and terms, so (1785, 1789, 1787, 1797) will be removed from the new term collector\n",
      "INFO:relative:hybrid_index_pair (1958, 1955, 1957, 1967) was not found in the new_term_collector, but (1955, 1958, 1957, 1967) has the same atoms and terms, so (1955, 1958, 1957, 1967) will be removed from the new term collector\n",
      "INFO:relative:hybrid_index_pair (1956, 1957, 1958, 1968) was not found in the new_term_collector, but (1957, 1956, 1958, 1968) has the same atoms and terms, so (1957, 1956, 1958, 1968) will be removed from the new term collector\n",
      "INFO:relative:hybrid_index_pair (2244, 2240, 2242, 2251) was not found in the new_term_collector, but (2240, 2244, 2242, 2251) has the same atoms and terms, so (2240, 2244, 2242, 2251) will be removed from the new term collector\n",
      "INFO:relative:hybrid_index_pair (2244, 2241, 2243, 2252) was not found in the new_term_collector, but (2241, 2244, 2243, 2252) has the same atoms and terms, so (2241, 2244, 2243, 2252) will be removed from the new term collector\n",
      "INFO:relative:hybrid_index_pair (2243, 2242, 2244, 2253) was not found in the new_term_collector, but (2242, 2243, 2244, 2253) has the same atoms and terms, so (2242, 2243, 2244, 2253) will be removed from the new term collector\n",
      "INFO:relative:hybrid_index_pair (2270, 2277, 2272, 2278) was not found in the new_term_collector, but (2270, 2278, 2272, 2277) has the same atoms and terms, so (2270, 2278, 2272, 2277) will be removed from the new term collector\n",
      "INFO:relative:hybrid_index_pair (2286, 2288, 2287, 2289) was not found in the new_term_collector, but (2288, 2287, 2286, 2289) has the same atoms and terms, so (2288, 2287, 2286, 2289) will be removed from the new term collector\n",
      "INFO:relative:hybrid_index_pair (2436, 2435, 2434, 2437) was not found in the new_term_collector, but (2434, 2436, 2435, 2437) has the same atoms and terms, so (2434, 2436, 2435, 2437) will be removed from the new term collector\n",
      "INFO:relative:hybrid_index_pair (2478, 2475, 2477, 2487) was not found in the new_term_collector, but (2475, 2478, 2477, 2487) has the same atoms and terms, so (2475, 2478, 2477, 2487) will be removed from the new term collector\n",
      "INFO:relative:hybrid_index_pair (2476, 2477, 2478, 2488) was not found in the new_term_collector, but (2477, 2476, 2478, 2488) has the same atoms and terms, so (2477, 2476, 2478, 2488) will be removed from the new term collector\n",
      "INFO:relative:hybrid_index_pair (2588, 2592, 2590, 2600) was not found in the new_term_collector, but (2592, 2588, 2590, 2600) has the same atoms and terms, so (2592, 2588, 2590, 2600) will be removed from the new term collector\n",
      "INFO:relative:hybrid_index_pair (2644, 2641, 2642, 2651) was not found in the new_term_collector, but (2641, 2644, 2642, 2651) has the same atoms and terms, so (2641, 2644, 2642, 2651) will be removed from the new term collector\n",
      "INFO:relative:hybrid_index_pair (2663, 2665, 2664, 2666) was not found in the new_term_collector, but (2665, 2664, 2663, 2666) has the same atoms and terms, so (2665, 2664, 2663, 2666) will be removed from the new term collector\n",
      "INFO:relative:hybrid_index_pair (2787, 2784, 2785, 2795) was not found in the new_term_collector, but (2784, 2787, 2785, 2795) has the same atoms and terms, so (2784, 2787, 2785, 2795) will be removed from the new term collector\n",
      "INFO:relative:hybrid_index_pair (2788, 2784, 2786, 2796) was not found in the new_term_collector, but (2784, 2788, 2786, 2796) has the same atoms and terms, so (2784, 2788, 2786, 2796) will be removed from the new term collector\n",
      "INFO:relative:hybrid_index_pair (2844, 2847, 2846, 2856) was not found in the new_term_collector, but (2847, 2844, 2846, 2856) has the same atoms and terms, so (2847, 2844, 2846, 2856) will be removed from the new term collector\n"
     ]
    },
    {
     "name": "stderr",
     "output_type": "stream",
     "text": [
      "INFO:relative:hybrid_index_pair (2845, 2846, 2847, 2857) was not found in the new_term_collector, but (2846, 2845, 2847, 2857) has the same atoms and terms, so (2846, 2845, 2847, 2857) will be removed from the new term collector\n",
      "INFO:relative:hybrid_index_pair (2901, 2904, 2902, 2912) was not found in the new_term_collector, but (2904, 2901, 2902, 2912) has the same atoms and terms, so (2904, 2901, 2902, 2912) will be removed from the new term collector\n",
      "INFO:relative:hybrid_index_pair (3004, 3001, 3002, 3012) was not found in the new_term_collector, but (3001, 3004, 3002, 3012) has the same atoms and terms, so (3001, 3004, 3002, 3012) will be removed from the new term collector\n",
      "INFO:relative:hybrid_index_pair (3023, 3033, 3025, 3032) was not found in the new_term_collector, but (3023, 3032, 3025, 3033) has the same atoms and terms, so (3023, 3032, 3025, 3033) will be removed from the new term collector\n",
      "INFO:relative:hybrid_index_pair (3053, 3056, 3054, 3063) was not found in the new_term_collector, but (3056, 3053, 3054, 3063) has the same atoms and terms, so (3056, 3053, 3054, 3063) will be removed from the new term collector\n",
      "INFO:relative:hybrid_index_pair (3132, 3131, 3130, 3133) was not found in the new_term_collector, but (3130, 3132, 3131, 3133) has the same atoms and terms, so (3130, 3132, 3131, 3133) will be removed from the new term collector\n"
     ]
    }
   ],
   "source": [
    "solvent_delivery = PointMutationExecutor2(\"../../input/mmc2_barstar.pdb\",\n",
    "                        '1',\n",
    "                        \"42\",\n",
    "                        \"ALA\",\n",
    "                        ligand_input=\"../../input/mmc2_barnase.pdb\",\n",
    "                        ionic_strength=0.05*unit.molar,\n",
    "                        flatten_torsions=True,\n",
    "                        flatten_exceptions=True, \n",
    "                        conduct_endstate_validation=False,\n",
    "                        rxn_field=True\n",
    "                       )"
   ]
  },
  {
   "cell_type": "code",
   "execution_count": 35,
   "id": "067341af",
   "metadata": {},
   "outputs": [],
   "source": [
    "pickle.dump(solvent_delivery.get_apo_htf(), open(\"T42A_apo_scale_region.pickle\", \"wb\" ))\n",
    "pickle.dump(solvent_delivery.get_complex_htf(), open(\"T42A_complex_scale_region.pickle\", \"wb\" ))\n"
   ]
  },
  {
   "cell_type": "markdown",
   "id": "67e841f9",
   "metadata": {},
   "source": [
    "#### Old system HarmonicBondForce vs hybrid system CustomBondForce"
   ]
  },
  {
   "cell_type": "code",
   "execution_count": 37,
   "id": "94ae22f8",
   "metadata": {},
   "outputs": [],
   "source": [
    "# Load htf\n",
    "with open(\"T42A_complex_scale_region.pickle\", \"rb\") as f:\n",
    "    htf = pickle.load(f)"
   ]
  },
  {
   "cell_type": "code",
   "execution_count": 38,
   "id": "ed2cba6b",
   "metadata": {},
   "outputs": [
    {
     "name": "stdout",
     "output_type": "stream",
     "text": [
      "Warning: Returning CPU platform instead of requested platform <simtk.openmm.openmm.Platform; proxy of <Swig Object of type 'OpenMM::Platform *' at 0x2b6e8bdeaf60> >\n",
      "conducting subsequent work with the following platform: CPU\n",
      "conducting subsequent work with the following platform: CUDA\n",
      "[('HarmonicBondForce', 189.69678123582867), ('HarmonicAngleForce', 791.7783222646883), ('PeriodicTorsionForce', 3830.526380065008), ('NonbondedForce', -25198.30731209033), ('AndersenThermostat', 0.0), ('MonteCarloBarostat', 0.0)]\n",
      "conducting subsequent work with the following platform: CUDA\n",
      "[('CustomBondForce', 189.69678123582867), ('CustomAngleForce', 995.6552423965976), ('CustomTorsionForce', 3830.526609908918), ('AndersenThermostat', 0.0), ('MonteCarloBarostat', 0.0)]\n",
      "Success! Custom bond force and standard bond force energies are equal!\n"
     ]
    }
   ],
   "source": [
    "test_bond_energies(htf, is_solvated=True)"
   ]
  },
  {
   "cell_type": "markdown",
   "id": "07c2e2f1",
   "metadata": {},
   "source": [
    "#### New system HarmonicBondForce vs hybrid system CustomBondForce"
   ]
  },
  {
   "cell_type": "code",
   "execution_count": 40,
   "id": "5fecc64d",
   "metadata": {},
   "outputs": [],
   "source": [
    "# Load htf\n",
    "with open(\"T42A_complex_scale_region.pickle\", \"rb\") as f:\n",
    "    htf = pickle.load(f)"
   ]
  },
  {
   "cell_type": "code",
   "execution_count": 41,
   "id": "b64594f0",
   "metadata": {
    "scrolled": true
   },
   "outputs": [
    {
     "name": "stdout",
     "output_type": "stream",
     "text": [
      "Warning: Returning CPU platform instead of requested platform <simtk.openmm.openmm.Platform; proxy of <Swig Object of type 'OpenMM::Platform *' at 0x2b6e8bdeaf60> >\n",
      "conducting subsequent work with the following platform: CPU\n",
      "conducting subsequent work with the following platform: CUDA\n",
      "[('HarmonicBondForce', 189.99812484509627), ('HarmonicAngleForce', 994.0331628822997), ('PeriodicTorsionForce', 3824.01891675258), ('NonbondedForce', -24572.84582355946), ('AndersenThermostat', 0.0), ('MonteCarloBarostat', 0.0)]\n",
      "conducting subsequent work with the following platform: CUDA\n",
      "[('CustomBondForce', 189.9981248450963), ('CustomAngleForce', 995.6552423965976), ('CustomTorsionForce', 3830.526609908918), ('AndersenThermostat', 0.0), ('MonteCarloBarostat', 0.0)]\n",
      "Success! Custom bond force and standard bond force energies are equal!\n"
     ]
    }
   ],
   "source": [
    "test_bond_energies(htf, is_old=False, is_solvated=True)"
   ]
  },
  {
   "cell_type": "code",
   "execution_count": null,
   "id": "7ba99c4b",
   "metadata": {},
   "outputs": [],
   "source": [
    "# TO DO: actually test the scaling of the energies matches"
   ]
  }
 ],
 "metadata": {
  "kernelspec": {
   "display_name": "Python 3",
   "language": "python",
   "name": "python3"
  },
  "language_info": {
   "codemirror_mode": {
    "name": "ipython",
    "version": 3
   },
   "file_extension": ".py",
   "mimetype": "text/x-python",
   "name": "python",
   "nbconvert_exporter": "python",
   "pygments_lexer": "ipython3",
   "version": "3.8.8"
  }
 },
 "nbformat": 4,
 "nbformat_minor": 5
}
