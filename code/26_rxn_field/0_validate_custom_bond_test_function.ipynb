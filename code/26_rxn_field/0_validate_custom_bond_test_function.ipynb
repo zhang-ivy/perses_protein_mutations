{
 "cells": [
  {
   "cell_type": "markdown",
   "id": "deeef215",
   "metadata": {},
   "source": [
    "Note: I left the code to generate the htfs for each test system in the notebook, but if you don't want to re-generate, you can use the pickled htf that I saved (I left the full path in for you). I generated these htfs based after you added support for `lambda_{i}_bonds_old/new` and `scale_lambda_0_bonds`"
   ]
  },
  {
   "cell_type": "code",
   "execution_count": 1,
   "id": "ac051fbf",
   "metadata": {},
   "outputs": [
    {
     "name": "stdout",
     "output_type": "stream",
     "text": [
      "conducting subsequent work with the following platform: CPU\n"
     ]
    },
    {
     "name": "stderr",
     "output_type": "stream",
     "text": [
      "INFO:rdkit:Enabling RDKit 2021.03.1 jupyter extensions\n"
     ]
    }
   ],
   "source": [
    "from openmmtools.states import SamplerState, ThermodynamicState, CompoundThermodynamicState\n",
    "from simtk import unit, openmm\n",
    "from perses.tests.utils import compute_potential_components\n",
    "from openmmtools.constants import kB\n",
    "from perses.dispersed.utils import configure_platform\n",
    "from perses.annihilation.rest import RESTTopologyFactory\n",
    "from perses.annihilation.lambda_protocol import RESTState\n",
    "import numpy as np\n",
    "from perses.tests.test_topology_proposal import generate_atp, generate_dipeptide_top_pos_sys\n",
    "from openmmtools.testsystems import AlanineDipeptideVacuum, AlanineDipeptideExplicit\n",
    "import itertools\n",
    "from perses.tests.test_topology_proposal import generate_dipeptide_top_pos_sys, generate_atp\n",
    "import pickle\n",
    "\n",
    "#############################################\n",
    "# CONSTANTS\n",
    "#############################################\n",
    "temperature = 298.0 * unit.kelvin\n",
    "kT = kB * temperature\n",
    "beta = 1.0/kT\n",
    "REFERENCE_PLATFORM = openmm.Platform.getPlatformByName(\"CUDA\")\n"
   ]
  },
  {
   "cell_type": "code",
   "execution_count": 2,
   "id": "69ee892f",
   "metadata": {},
   "outputs": [],
   "source": [
    "def test_bond_energies(htf, is_old=True, is_solvated=False):\n",
    "    # Get harmonic bond force and old/new positions\n",
    "    system = htf._topology_proposal.old_system if is_old else htf._topology_proposal.new_system\n",
    "    harmonic_bond_force = system.getForce(0) \n",
    "    positions = htf.old_positions(htf.hybrid_positions) if is_old else htf.new_positions(htf.hybrid_positions)\n",
    "    \n",
    "    # Get custom bond force and hybrid positions\n",
    "    bond_force_index = 1 if is_solvated else 0\n",
    "    hybrid_system = htf.hybrid_system\n",
    "    custom_bond_force = hybrid_system.getForce(bond_force_index)\n",
    "    hybrid_positions = htf.hybrid_positions\n",
    "    \n",
    "    # Remove nonbonded/exception forces\n",
    "    for i in range(hybrid_system.getNumForces(), hybrid_system.getNumForces() - 4, -1):\n",
    "        hybrid_system.removeForce(i - 1)\n",
    "    \n",
    "    # Set global parameters\n",
    "    lambda_old = 1 if is_old else 0\n",
    "    lambda_new = 0 if is_old else 1\n",
    "    for i in range(custom_bond_force.getNumGlobalParameters()):\n",
    "        if custom_bond_force.getGlobalParameterName(i) == 'lambda_0_bonds_old':\n",
    "            custom_bond_force.setGlobalParameterDefaultValue(i, lambda_old)\n",
    "        if custom_bond_force.getGlobalParameterName(i) == 'lambda_0_bonds_new':\n",
    "            custom_bond_force.setGlobalParameterDefaultValue(i, lambda_new)\n",
    "            \n",
    "#     for hybrid_idx, idx in htf._hybrid_to_environment_bond_indices.items():\n",
    "#         p1, p2, length, k = harmonic_bond_force.getBondParameters(idx)\n",
    "#         harmonic_bond_force.setBondParameters(hybrid_idx, p1, p2, length, k*0)\n",
    "        \n",
    "    # Zero the unique old/new bonds in the custom bond force\n",
    "    hybrid_to_bond_indices = htf._hybrid_to_new_bond_indices if is_old else htf._hybrid_to_old_bond_indices\n",
    "    for hybrid_idx, idx in hybrid_to_bond_indices.items():\n",
    "        p1, p2, hybrid_params = custom_bond_force.getBondParameters(hybrid_idx)\n",
    "        hybrid_params = list(hybrid_params)\n",
    "        index_to_zero = -3 if is_old else -1\n",
    "        hybrid_params[index_to_zero] *= 0\n",
    "        custom_bond_force.setBondParameters(hybrid_idx, p1, p2, hybrid_params)\n",
    "\n",
    "#     # Zero the unique old/new bonds in the custom bond force\n",
    "#     hybrid_to_bond_indices = htf._hybrid_to_environment_bond_indices\n",
    "#     for hybrid_idx, idx in hybrid_to_bond_indices.items():\n",
    "#         p1, p2, hybrid_params = custom_bond_force.getBondParameters(hybrid_idx)\n",
    "#         hybrid_params = list(hybrid_params)\n",
    "# #         index_to_zero = -1 if is_old else -3\n",
    "#         hybrid_params[-1] *= 0\n",
    "#         hybrid_params[-2] *= 0\n",
    "    \n",
    "            \n",
    "#         custom_bond_force.setBondParameters(hybrid_idx, p1, p2, hybrid_params)\n",
    "\n",
    "    ## Get energy components of standard bond force\n",
    "    platform = configure_platform(REFERENCE_PLATFORM)\n",
    "    thermostate_other = ThermodynamicState(system=system, temperature=temperature)\n",
    "    integrator_other = openmm.VerletIntegrator(1.0*unit.femtosecond)\n",
    "    context_other = thermostate_other.create_context(integrator_other)\n",
    "    context_other.setPositions(positions)\n",
    "    components_other = compute_potential_components(context_other, beta=beta)\n",
    "    print(components_other)\n",
    "    \n",
    "    ## Get energy components of custom bond force\n",
    "    if is_solvated:\n",
    "        custom_bond_force.setUsesPeriodicBoundaryConditions(True)\n",
    "    thermostate_hybrid = ThermodynamicState(system=hybrid_system, temperature=temperature)\n",
    "    integrator_hybrid = openmm.VerletIntegrator(1.0 * unit.femtosecond)\n",
    "    context_hybrid = thermostate_hybrid.create_context(integrator_hybrid)\n",
    "    context_hybrid.setPositions(hybrid_positions)\n",
    "    components_hybrid = compute_potential_components(context_hybrid, beta=beta)\n",
    "    print(components_hybrid)\n",
    "    \n",
    "    assert np.isclose([components_other[0][1]], [components_hybrid[0][1]])\n",
    "    \n",
    "    print(\"Success! Custom bond force and standard bond force energies are equal!\")"
   ]
  },
  {
   "cell_type": "markdown",
   "id": "434a0b31",
   "metadata": {},
   "source": [
    "# Alanine dipeptide in vacuum"
   ]
  },
  {
   "cell_type": "code",
   "execution_count": 3,
   "id": "723a6506",
   "metadata": {
    "scrolled": true
   },
   "outputs": [
    {
     "name": "stderr",
     "output_type": "stream",
     "text": [
      "DEBUG:openmmforcefields.system_generators:Trying GAFFTemplateGenerator to load gaff-2.11\n",
      "INFO:proposal_generator:\tConducting polymer point mutation proposal...\n",
      "INFO:proposal_generator:Using matching_criterion to chose best atom map\n",
      "INFO:proposal_generator:Scaffold has symmetry of 0\n",
      "WARNING:proposal_generator:Two molecules are not similar to have a common scaffold\n",
      "WARNING:proposal_generator:Proceeding with direct mapping of molecules, but please check atom mapping and the geometry of the ligands.\n",
      "INFO:proposal_generator:len [{9: 7}, {10: 7}, {11: 7}, {12: 7}, {13: 7}, {9: 8}, {10: 8}, {11: 8}, {12: 8}, {13: 8}, {9: 9}, {10: 9}, {11: 9}, {12: 9}, {13: 9}]\n",
      "INFO:proposal_generator:{9: 7}\n",
      "INFO:proposal_generator:{10: 7}\n",
      "INFO:proposal_generator:{11: 7}\n",
      "INFO:proposal_generator:{12: 7}\n",
      "INFO:proposal_generator:{13: 7}\n",
      "INFO:proposal_generator:{9: 8}\n",
      "INFO:proposal_generator:{10: 8}\n",
      "INFO:proposal_generator:{11: 8}\n",
      "INFO:proposal_generator:{12: 8}\n",
      "INFO:proposal_generator:{13: 8}\n",
      "INFO:proposal_generator:{9: 9}\n",
      "INFO:proposal_generator:{10: 9}\n",
      "INFO:proposal_generator:{11: 9}\n",
      "INFO:proposal_generator:{12: 9}\n",
      "INFO:proposal_generator:{13: 9}\n",
      "INFO:proposal_generator:Returning map that best satisfies matching_criterion\n",
      "INFO:proposal_generator:Finding best map using matching_criterion name\n",
      "INFO:proposal_generator:{9: 7}\n",
      "INFO:geometry:propose: performing forward proposal\n",
      "INFO:geometry:propose: unique new atoms detected; proceeding to _logp_propose...\n",
      "INFO:geometry:Conducting forward proposal...\n",
      "INFO:geometry:Computing proposal order with NetworkX...\n",
      "INFO:geometry:number of atoms to be placed: 8\n",
      "INFO:geometry:Atom index proposal order is [10, 14, 18, 17, 19, 13, 15, 16]\n",
      "INFO:geometry:omitted_bonds: []\n",
      "INFO:geometry:direction of proposal is forward; creating atoms_with_positions and new positions from old system/topology...\n",
      "INFO:geometry:creating growth system...\n",
      "INFO:geometry:\tcreating bond force...\n",
      "INFO:geometry:\tthere are 11 bonds in reference force.\n",
      "INFO:geometry:\tcreating angle force...\n",
      "INFO:geometry:\tthere are 43 angles in reference force.\n",
      "INFO:geometry:\tcreating torsion force...\n",
      "INFO:geometry:\tcreating extra torsions force...\n",
      "INFO:geometry:\tthere are 72 torsions in reference force.\n",
      "INFO:geometry:\tcreating nonbonded force...\n",
      "INFO:geometry:\t\tgrabbing reference nonbonded method, cutoff, switching function, switching distance...\n",
      "INFO:geometry:\t\tcreating nonbonded exception force (i.e. custom bond for 1,4s)...\n",
      "INFO:geometry:\t\tlooping through exceptions calculating growth indices, and adding appropriate interactions to custom bond force.\n",
      "INFO:geometry:\t\tthere are 121 in the reference Nonbonded force\n",
      "WARNING:geometry:\t\t\t\t\tchiral atom <Atom 8 (CA) of chain 0 residue 1 (THR)> with neighbors [<Atom 9 (HA) of chain 0 residue 1 (THR)>, <Atom 10 (CB) of chain 0 residue 1 (THR)>, <Atom 11 (C) of chain 0 residue 1 (THR)>, <Atom 6 (N) of chain 0 residue 1 (THR)>] is surrounded by 3 core neighbors.  omitting chirality bias torsion\n",
      "INFO:geometry:Neglected angle terms : []\n",
      "INFO:geometry:omitted_growth_terms: {'bonds': [], 'angles': [], 'torsions': [], '1,4s': []}\n",
      "INFO:geometry:extra torsions: {0: (7, 6, 8, 10, [1, Quantity(value=0.9900002084555819, unit=radian), Quantity(value=1200.0, unit=kilocalorie/mole), 1]), 1: (19, 18, 10, 8, [1, Quantity(value=-0.07858019216845058, unit=radian), Quantity(value=1200.0, unit=kilocalorie/mole), 5]), 2: (19, 18, 10, 14, [1, Quantity(value=2.118586571250296, unit=radian), Quantity(value=1200.0, unit=kilocalorie/mole), 5]), 3: (19, 18, 10, 13, [1, Quantity(value=-2.149781203448759, unit=radian), Quantity(value=1200.0, unit=kilocalorie/mole), 6]), 4: (8, 10, 14, 17, [1, Quantity(value=-2.1249532223845904, unit=radian), Quantity(value=1200.0, unit=kilocalorie/mole), 4]), 5: (8, 10, 14, 16, [1, Quantity(value=2.0543043017157916, unit=radian), Quantity(value=1200.0, unit=kilocalorie/mole), 8]), 6: (8, 10, 14, 15, [1, Quantity(value=-0.02223392579985184, unit=radian), Quantity(value=1200.0, unit=kilocalorie/mole), 7]), 7: (18, 10, 14, 17, [1, Quantity(value=2.0255587336734213, unit=radian), Quantity(value=1200.0, unit=kilocalorie/mole), 4]), 8: (18, 10, 14, 16, [1, Quantity(value=-0.07836904940578293, unit=radian), Quantity(value=1200.0, unit=kilocalorie/mole), 8]), 9: (18, 10, 14, 15, [1, Quantity(value=-2.154907276921426, unit=radian), Quantity(value=1200.0, unit=kilocalorie/mole), 7]), 10: (13, 10, 14, 17, [1, Quantity(value=0.007583009583349565, unit=radian), Quantity(value=1200.0, unit=kilocalorie/mole), 6]), 11: (13, 10, 14, 16, [1, Quantity(value=-2.096344773495849, unit=radian), Quantity(value=1200.0, unit=kilocalorie/mole), 8]), 12: (13, 10, 14, 15, [1, Quantity(value=2.1103023061680943, unit=radian), Quantity(value=1200.0, unit=kilocalorie/mole), 7]), 13: (14, 10, 8, 18, [1, Quantity(value=1.0655064807976995, unit=radian), Quantity(value=1200.0, unit=kilocalorie/mole), 3])}\n",
      "INFO:geometry:neglected angle terms include []\n",
      "INFO:geometry:log probability choice of torsions and atom order: -13.371595639480912\n",
      "INFO:geometry:creating platform, integrators, and contexts; setting growth parameter\n"
     ]
    },
    {
     "name": "stdout",
     "output_type": "stream",
     "text": [
      "making topology proposal\n",
      "generating geometry engine\n",
      "making geometry proposal from ALA to THR\n",
      "conducting subsequent work with the following platform: CUDA\n"
     ]
    },
    {
     "name": "stderr",
     "output_type": "stream",
     "text": [
      "INFO:geometry:setting atoms_with_positions context new positions\n"
     ]
    },
    {
     "name": "stdout",
     "output_type": "stream",
     "text": [
      "conducting subsequent work with the following platform: CUDA\n"
     ]
    },
    {
     "name": "stderr",
     "output_type": "stream",
     "text": [
      "INFO:geometry:There are 8 new atoms\n",
      "INFO:geometry:\treduced angle potential = 0.0017554373207463183.\n",
      "INFO:geometry:\treduced angle potential = 9.309346877780187e-05.\n",
      "INFO:geometry:\treduced angle potential = 0.41923726982898996.\n",
      "INFO:geometry:\treduced angle potential = 0.0015268165627356017.\n",
      "INFO:geometry:\treduced angle potential = 0.270688709647723.\n",
      "INFO:geometry:\treduced angle potential = 0.005809599699452005.\n",
      "INFO:geometry:\treduced angle potential = 0.829385223112024.\n",
      "INFO:geometry:\treduced angle potential = 0.6403645744580588.\n",
      "INFO:geometry:\tbeginning construction of no_nonbonded final system...\n",
      "INFO:geometry:\tinitial no-nonbonded final system forces ['HarmonicBondForce', 'HarmonicAngleForce', 'PeriodicTorsionForce', 'NonbondedForce']\n",
      "INFO:geometry:\tfinal no-nonbonded final system forces dict_keys(['HarmonicBondForce', 'HarmonicAngleForce', 'PeriodicTorsionForce', 'NonbondedForce'])\n",
      "INFO:geometry:\tthere are 11 bond forces in the no-nonbonded final system\n",
      "INFO:geometry:\tthere are 43 angle forces in the no-nonbonded final system\n",
      "INFO:geometry:\tthere are 72 torsion forces in the no-nonbonded final system\n",
      "INFO:geometry:forward final system defined with 0 neglected angles.\n"
     ]
    },
    {
     "name": "stdout",
     "output_type": "stream",
     "text": [
      "conducting subsequent work with the following platform: CUDA\n",
      "conducting subsequent work with the following platform: CUDA\n"
     ]
    },
    {
     "name": "stderr",
     "output_type": "stream",
     "text": [
      "INFO:geometry:total reduced potential before atom placement: 9.11648114171204\n"
     ]
    },
    {
     "name": "stdout",
     "output_type": "stream",
     "text": [
      "conducting subsequent work with the following platform: CUDA\n",
      "conducting subsequent work with the following platform: CUDA\n",
      "conducting subsequent work with the following platform: CUDA\n"
     ]
    },
    {
     "name": "stderr",
     "output_type": "stream",
     "text": [
      "INFO:geometry:total reduced energy added from growth system: -32.71838388222746\n",
      "INFO:geometry:final reduced energy -23.601905002845424\n",
      "INFO:geometry:sum of energies: -23.601902740515417\n",
      "INFO:geometry:magnitude of difference in the energies: 2.2623300068858043e-06\n",
      "INFO:geometry:Final logp_proposal: 62.8993055737338\n"
     ]
    },
    {
     "name": "stdout",
     "output_type": "stream",
     "text": [
      "added energy components: [('CustomBondForce', 1.2530632954620677), ('CustomAngleForce', 3.2251549713270165), ('CustomTorsionForce', 21.140250404408), ('CustomBondForce', -58.33685255342453)]\n"
     ]
    },
    {
     "name": "stderr",
     "output_type": "stream",
     "text": [
      "INFO:geometry:logp_reverse: performing reverse proposal\n",
      "INFO:geometry:logp_reverse: unique new atoms detected; proceeding to _logp_propose...\n",
      "INFO:geometry:Conducting forward proposal...\n",
      "INFO:geometry:Computing proposal order with NetworkX...\n",
      "INFO:geometry:number of atoms to be placed: 4\n",
      "INFO:geometry:Atom index proposal order is [10, 13, 12, 11]\n",
      "INFO:geometry:omitted_bonds: []\n",
      "INFO:geometry:direction of proposal is reverse; creating atoms_with_positions from old system/topology\n",
      "INFO:geometry:creating growth system...\n",
      "INFO:geometry:\tcreating bond force...\n",
      "INFO:geometry:\tthere are 9 bonds in reference force.\n",
      "INFO:geometry:\tcreating angle force...\n",
      "INFO:geometry:\tthere are 36 angles in reference force.\n",
      "INFO:geometry:\tcreating torsion force...\n",
      "INFO:geometry:\tcreating extra torsions force...\n",
      "INFO:geometry:\tthere are 42 torsions in reference force.\n",
      "INFO:geometry:\tcreating nonbonded force...\n",
      "INFO:geometry:\t\tgrabbing reference nonbonded method, cutoff, switching function, switching distance...\n",
      "INFO:geometry:\t\tcreating nonbonded exception force (i.e. custom bond for 1,4s)...\n",
      "INFO:geometry:\t\tlooping through exceptions calculating growth indices, and adding appropriate interactions to custom bond force.\n",
      "INFO:geometry:\t\tthere are 98 in the reference Nonbonded force\n",
      "WARNING:geometry:\t\t\t\t\tchiral atom <Atom 8 (CA) of chain 0 residue 1 (ALA)> with neighbors [<Atom 9 (HA) of chain 0 residue 1 (ALA)>, <Atom 10 (CB) of chain 0 residue 1 (ALA)>, <Atom 14 (C) of chain 0 residue 1 (ALA)>, <Atom 6 (N) of chain 0 residue 1 (ALA)>] is surrounded by 3 core neighbors.  omitting chirality bias torsion\n",
      "INFO:geometry:Neglected angle terms : []\n",
      "INFO:geometry:omitted_growth_terms: {'bonds': [], 'angles': [], 'torsions': [], '1,4s': []}\n",
      "INFO:geometry:extra torsions: {0: (7, 6, 8, 10, [1, Quantity(value=0.9799661941737812, unit=radian), Quantity(value=1200.0, unit=kilocalorie/mole), 1]), 1: (6, 8, 10, 11, [1, Quantity(value=2.105358864604291, unit=radian), Quantity(value=1200.0, unit=kilocalorie/mole), 4]), 2: (6, 8, 10, 12, [1, Quantity(value=-2.0823006129211796, unit=radian), Quantity(value=1200.0, unit=kilocalorie/mole), 3]), 3: (6, 8, 10, 13, [1, Quantity(value=0.018582237407944735, unit=radian), Quantity(value=1200.0, unit=kilocalorie/mole), 2]), 4: (14, 8, 10, 11, [1, Quantity(value=-0.036945135932107576, unit=radian), Quantity(value=1200.0, unit=kilocalorie/mole), 4]), 5: (14, 8, 10, 12, [1, Quantity(value=2.0585806937220097, unit=radian), Quantity(value=1200.0, unit=kilocalorie/mole), 3]), 6: (14, 8, 10, 13, [1, Quantity(value=-2.1237217631284597, unit=radian), Quantity(value=1200.0, unit=kilocalorie/mole), 2]), 7: (9, 8, 10, 11, [1, Quantity(value=-2.119603470065817, unit=radian), Quantity(value=1200.0, unit=kilocalorie/mole), 4]), 8: (9, 8, 10, 12, [1, Quantity(value=-0.024077640411697132, unit=radian), Quantity(value=1200.0, unit=kilocalorie/mole), 3]), 9: (9, 8, 10, 13, [1, Quantity(value=2.0768052099174152, unit=radian), Quantity(value=1200.0, unit=kilocalorie/mole), 2])}\n",
      "INFO:geometry:neglected angle terms include []\n",
      "INFO:geometry:log probability choice of torsions and atom order: -5.78074351579233\n",
      "INFO:geometry:creating platform, integrators, and contexts; setting growth parameter\n"
     ]
    },
    {
     "name": "stdout",
     "output_type": "stream",
     "text": [
      "conducting subsequent work with the following platform: CUDA\n"
     ]
    },
    {
     "name": "stderr",
     "output_type": "stream",
     "text": [
      "INFO:geometry:setting atoms_with_positions context old positions\n"
     ]
    },
    {
     "name": "stdout",
     "output_type": "stream",
     "text": [
      "conducting subsequent work with the following platform: CUDA\n"
     ]
    },
    {
     "name": "stderr",
     "output_type": "stream",
     "text": [
      "INFO:geometry:There are 4 new atoms\n",
      "INFO:geometry:\treduced angle potential = 0.3517324280898812.\n",
      "INFO:geometry:\treduced angle potential = 7.39096069988752e-11.\n",
      "INFO:geometry:\treduced angle potential = 3.205832446488702e-13.\n",
      "INFO:geometry:\treduced angle potential = 1.2915588460963948e-10.\n",
      "INFO:geometry:\tbeginning construction of no_nonbonded final system...\n",
      "INFO:geometry:\tinitial no-nonbonded final system forces ['HarmonicBondForce', 'HarmonicAngleForce', 'PeriodicTorsionForce', 'NonbondedForce']\n",
      "INFO:geometry:\tfinal no-nonbonded final system forces dict_keys(['HarmonicBondForce', 'HarmonicAngleForce', 'PeriodicTorsionForce', 'NonbondedForce'])\n",
      "INFO:geometry:\tthere are 9 bond forces in the no-nonbonded final system\n",
      "INFO:geometry:\tthere are 36 angle forces in the no-nonbonded final system\n",
      "INFO:geometry:\tthere are 42 torsion forces in the no-nonbonded final system\n",
      "INFO:geometry:reverse final system defined with 0 neglected angles.\n"
     ]
    },
    {
     "name": "stdout",
     "output_type": "stream",
     "text": [
      "conducting subsequent work with the following platform: CUDA\n",
      "conducting subsequent work with the following platform: CUDA\n"
     ]
    },
    {
     "name": "stderr",
     "output_type": "stream",
     "text": [
      "INFO:geometry:total reduced potential before atom placement: 9.11648114171204\n"
     ]
    },
    {
     "name": "stdout",
     "output_type": "stream",
     "text": [
      "conducting subsequent work with the following platform: CUDA\n",
      "conducting subsequent work with the following platform: CUDA\n",
      "conducting subsequent work with the following platform: CUDA\n"
     ]
    },
    {
     "name": "stderr",
     "output_type": "stream",
     "text": [
      "INFO:geometry:total reduced energy added from growth system: 20.672986672125617\n",
      "INFO:geometry:final reduced energy 29.78946596595154\n",
      "INFO:geometry:sum of energies: 29.789467813837657\n",
      "INFO:geometry:magnitude of difference in the energies: 1.8478861179005435e-06\n",
      "INFO:geometry:Final logp_proposal: -27149.810306568783\n"
     ]
    },
    {
     "name": "stdout",
     "output_type": "stream",
     "text": [
      "added energy components: [('CustomBondForce', 0.000520203927326505), ('CustomAngleForce', 0.4511197756248138), ('CustomTorsionForce', 7.250463328533253), ('CustomBondForce', 12.970883364040223)]\n"
     ]
    },
    {
     "name": "stderr",
     "output_type": "stream",
     "text": [
      "INFO:relative:*** Generating RxnHybridTopologyFactory ***\n",
      "INFO:relative:Beginning nonbonded method, total particle, barostat, and exceptions retrieval...\n",
      "INFO:relative:Old system forces: dict_keys(['HarmonicBondForce', 'HarmonicAngleForce', 'PeriodicTorsionForce', 'NonbondedForce'])\n",
      "INFO:relative:New system forces: dict_keys(['HarmonicBondForce', 'HarmonicAngleForce', 'PeriodicTorsionForce', 'NonbondedForce'])\n",
      "INFO:relative:No unknown forces.\n",
      "INFO:relative:Nonbonded method to be used (i.e. from old system): 0\n",
      "INFO:relative:Adding and mapping old atoms to hybrid system...\n",
      "INFO:relative:Adding and mapping new atoms to hybrid system...\n",
      "INFO:relative:scale_templates: [['nonscale_lambda'], ['nonscale_region']]\n",
      "INFO:relative:particle (nonbonded) scale_templates: [['nonscale_lambda'], ['nonscale_region1'], ['nonscale_region2']]\n",
      "INFO:relative:No MonteCarloBarostat added.\n",
      "INFO:relative:getDefaultPeriodicBoxVectors added to hybrid: [Quantity(value=Vec3(x=2.0, y=0.0, z=0.0), unit=nanometer), Quantity(value=Vec3(x=0.0, y=2.0, z=0.0), unit=nanometer), Quantity(value=Vec3(x=0.0, y=0.0, z=2.0), unit=nanometer)]\n",
      "INFO:relative:Determined atom classes.\n",
      "INFO:relative:Generating old system exceptions dict...\n",
      "INFO:relative:Generating new system exceptions dict...\n",
      "INFO:relative:Handling constraints...\n",
      "INFO:relative:Handling virtual sites...\n",
      "INFO:relative:\t_handle_virtual_sites: numVirtualSites: 0\n"
     ]
    }
   ],
   "source": [
    "# Create a htf\n",
    "atp, system_generator = generate_atp(phase = 'vacuum')\n",
    "htf = generate_dipeptide_top_pos_sys(atp.topology, \n",
    "                               'THR', \n",
    "                               atp.system, \n",
    "                               atp.positions, \n",
    "                               system_generator,\n",
    "                                rxn_field=True,\n",
    "                               flatten_torsions=True,\n",
    "                               flatten_exceptions=True,\n",
    "                               validate_endstate_energy=False,\n",
    "                                conduct_htf_prop=True)"
   ]
  },
  {
   "cell_type": "code",
   "execution_count": 4,
   "id": "cb69c8ad",
   "metadata": {},
   "outputs": [],
   "source": [
    "with open(\"atp_vacuum.pickle\", \"wb\") as f:\n",
    "    pickle.dump(htf, f)"
   ]
  },
  {
   "cell_type": "markdown",
   "id": "503b6f4b",
   "metadata": {},
   "source": [
    "### Test one alchemical region, no scale regions"
   ]
  },
  {
   "cell_type": "markdown",
   "id": "11e9c95a",
   "metadata": {},
   "source": [
    "#### Old system HarmonicBondForce vs hybrid system CustomBondForce"
   ]
  },
  {
   "cell_type": "code",
   "execution_count": 2,
   "id": "19b06c88",
   "metadata": {},
   "outputs": [],
   "source": [
    "# Load htf\n",
    "with open(\"/home/zhangi/choderalab/perses_benchmark/perses_protein_mutations/code/26_rxn_field/atp_vacuum.pickle\", \"rb\") as f:\n",
    "    htf = pickle.load(f)"
   ]
  },
  {
   "cell_type": "code",
   "execution_count": 6,
   "id": "18deeb39",
   "metadata": {
    "scrolled": true
   },
   "outputs": [
    {
     "name": "stdout",
     "output_type": "stream",
     "text": [
      "Warning: Returning CPU platform instead of requested platform <simtk.openmm.openmm.Platform; proxy of <Swig Object of type 'OpenMM::Platform *' at 0x2ad9a74a1930> >\n",
      "conducting subsequent work with the following platform: CPU\n",
      "conducting subsequent work with the following platform: CUDA\n",
      "[('HarmonicBondForce', 0.03478365356521381), ('HarmonicAngleForce', 0.6112775462128995), ('PeriodicTorsionForce', 16.285398289983064), ('NonbondedForce', -39.4499277456003), ('AndersenThermostat', 0.0)]\n",
      "conducting subsequent work with the following platform: CUDA\n",
      "[('CustomBondForce', 0.03478365356521381), ('CustomAngleForce', 3.8580778529179494), ('CustomTorsionForce', 16.285403285921724), ('CustomNonbondedForce', -135.30622366805557), ('CustomNonbondedForce', 4.748478747607475), ('CustomBondForce', 82.63803400070168), ('CustomBondForce', 8.469780004620791), ('AndersenThermostat', 0.0)]\n",
      "Success! Custom bond force and standard bond force energies are equal!\n"
     ]
    }
   ],
   "source": [
    "test_bond_energies(htf)"
   ]
  },
  {
   "cell_type": "markdown",
   "id": "e336aed9",
   "metadata": {},
   "source": [
    "#### New system HarmonicBondForce vs hybrid system CustomBondForce"
   ]
  },
  {
   "cell_type": "code",
   "execution_count": 7,
   "id": "49875cd6",
   "metadata": {},
   "outputs": [],
   "source": [
    "# Load htf\n",
    "with open(\"/home/zhangi/choderalab/perses_benchmark/perses_protein_mutations/code/26_rxn_field/atp_vacuum.pickle\", \"rb\") as f:\n",
    "    htf = pickle.load(f)"
   ]
  },
  {
   "cell_type": "code",
   "execution_count": 8,
   "id": "039fb22d",
   "metadata": {},
   "outputs": [
    {
     "name": "stdout",
     "output_type": "stream",
     "text": [
      "Warning: Returning CPU platform instead of requested platform <simtk.openmm.openmm.Platform; proxy of <Swig Object of type 'OpenMM::Platform *' at 0x2ad9a74a1930> >\n",
      "conducting subsequent work with the following platform: CPU\n",
      "conducting subsequent work with the following platform: CUDA\n",
      "[('HarmonicBondForce', 1.2957330745733426), ('HarmonicAngleForce', 3.403930427792299), ('PeriodicTorsionForce', 30.268405909483896), ('NonbondedForce', 388.51299936325097), ('AndersenThermostat', 0.0)]\n",
      "conducting subsequent work with the following platform: CUDA\n",
      "[('CustomBondForce', 1.2957330745733426), ('CustomAngleForce', 3.8580778529179494), ('CustomTorsionForce', 16.285403285921724), ('CustomNonbondedForce', -135.30622366805557), ('CustomNonbondedForce', 4.748478747607475), ('CustomBondForce', 82.63803400070168), ('CustomBondForce', 8.469780004620791), ('AndersenThermostat', 0.0)]\n",
      "Success! Custom bond force and standard bond force energies are equal!\n"
     ]
    }
   ],
   "source": [
    "test_bond_energies(htf, is_old=False)"
   ]
  },
  {
   "cell_type": "markdown",
   "id": "16251d48",
   "metadata": {},
   "source": [
    "### Test one alchemical region, one scale region"
   ]
  },
  {
   "cell_type": "code",
   "execution_count": 9,
   "id": "12fe9b6c",
   "metadata": {
    "scrolled": true
   },
   "outputs": [
    {
     "name": "stderr",
     "output_type": "stream",
     "text": [
      "DEBUG:openmmforcefields.system_generators:Trying GAFFTemplateGenerator to load gaff-2.11\n",
      "INFO:proposal_generator:\tConducting polymer point mutation proposal...\n",
      "INFO:proposal_generator:Using matching_criterion to chose best atom map\n",
      "INFO:proposal_generator:Scaffold has symmetry of 0\n",
      "WARNING:proposal_generator:Two molecules are not similar to have a common scaffold\n",
      "WARNING:proposal_generator:Proceeding with direct mapping of molecules, but please check atom mapping and the geometry of the ligands.\n",
      "INFO:proposal_generator:len [{9: 7}, {10: 7}, {11: 7}, {12: 7}, {13: 7}, {9: 8}, {10: 8}, {11: 8}, {12: 8}, {13: 8}, {9: 9}, {10: 9}, {11: 9}, {12: 9}, {13: 9}]\n",
      "INFO:proposal_generator:{9: 7}\n",
      "INFO:proposal_generator:{10: 7}\n",
      "INFO:proposal_generator:{11: 7}\n",
      "INFO:proposal_generator:{12: 7}\n",
      "INFO:proposal_generator:{13: 7}\n",
      "INFO:proposal_generator:{9: 8}\n",
      "INFO:proposal_generator:{10: 8}\n",
      "INFO:proposal_generator:{11: 8}\n",
      "INFO:proposal_generator:{12: 8}\n",
      "INFO:proposal_generator:{13: 8}\n",
      "INFO:proposal_generator:{9: 9}\n",
      "INFO:proposal_generator:{10: 9}\n",
      "INFO:proposal_generator:{11: 9}\n",
      "INFO:proposal_generator:{12: 9}\n",
      "INFO:proposal_generator:{13: 9}\n",
      "INFO:proposal_generator:Returning map that best satisfies matching_criterion\n",
      "INFO:proposal_generator:Finding best map using matching_criterion name\n",
      "INFO:proposal_generator:{9: 7}\n",
      "INFO:geometry:propose: performing forward proposal\n",
      "INFO:geometry:propose: unique new atoms detected; proceeding to _logp_propose...\n",
      "INFO:geometry:Conducting forward proposal...\n",
      "INFO:geometry:Computing proposal order with NetworkX...\n",
      "INFO:geometry:number of atoms to be placed: 8\n",
      "INFO:geometry:Atom index proposal order is [10, 14, 18, 15, 13, 16, 17, 19]\n",
      "INFO:geometry:omitted_bonds: []\n",
      "INFO:geometry:direction of proposal is forward; creating atoms_with_positions and new positions from old system/topology...\n",
      "INFO:geometry:creating growth system...\n",
      "INFO:geometry:\tcreating bond force...\n",
      "INFO:geometry:\tthere are 11 bonds in reference force.\n",
      "INFO:geometry:\tcreating angle force...\n",
      "INFO:geometry:\tthere are 43 angles in reference force.\n",
      "INFO:geometry:\tcreating torsion force...\n",
      "INFO:geometry:\tcreating extra torsions force...\n",
      "INFO:geometry:\tthere are 72 torsions in reference force.\n",
      "INFO:geometry:\tcreating nonbonded force...\n",
      "INFO:geometry:\t\tgrabbing reference nonbonded method, cutoff, switching function, switching distance...\n",
      "INFO:geometry:\t\tcreating nonbonded exception force (i.e. custom bond for 1,4s)...\n",
      "INFO:geometry:\t\tlooping through exceptions calculating growth indices, and adding appropriate interactions to custom bond force.\n",
      "INFO:geometry:\t\tthere are 121 in the reference Nonbonded force\n",
      "WARNING:geometry:\t\t\t\t\tchiral atom <Atom 8 (CA) of chain 0 residue 1 (THR)> with neighbors [<Atom 9 (HA) of chain 0 residue 1 (THR)>, <Atom 10 (CB) of chain 0 residue 1 (THR)>, <Atom 11 (C) of chain 0 residue 1 (THR)>, <Atom 6 (N) of chain 0 residue 1 (THR)>] is surrounded by 3 core neighbors.  omitting chirality bias torsion\n",
      "INFO:geometry:Neglected angle terms : []\n",
      "INFO:geometry:omitted_growth_terms: {'bonds': [], 'angles': [], 'torsions': [], '1,4s': []}\n",
      "INFO:geometry:extra torsions: {0: (7, 6, 8, 10, [1, Quantity(value=0.9900002084555819, unit=radian), Quantity(value=1200.0, unit=kilocalorie/mole), 1]), 1: (19, 18, 10, 8, [1, Quantity(value=-0.07858019216845058, unit=radian), Quantity(value=1200.0, unit=kilocalorie/mole), 8]), 2: (19, 18, 10, 14, [1, Quantity(value=2.118586571250296, unit=radian), Quantity(value=1200.0, unit=kilocalorie/mole), 8]), 3: (19, 18, 10, 13, [1, Quantity(value=-2.149781203448759, unit=radian), Quantity(value=1200.0, unit=kilocalorie/mole), 8]), 4: (8, 10, 14, 17, [1, Quantity(value=-2.1249532223845904, unit=radian), Quantity(value=1200.0, unit=kilocalorie/mole), 7]), 5: (8, 10, 14, 16, [1, Quantity(value=2.0543043017157916, unit=radian), Quantity(value=1200.0, unit=kilocalorie/mole), 6]), 6: (8, 10, 14, 15, [1, Quantity(value=-0.02223392579985184, unit=radian), Quantity(value=1200.0, unit=kilocalorie/mole), 4]), 7: (18, 10, 14, 17, [1, Quantity(value=2.0255587336734213, unit=radian), Quantity(value=1200.0, unit=kilocalorie/mole), 7]), 8: (18, 10, 14, 16, [1, Quantity(value=-0.07836904940578293, unit=radian), Quantity(value=1200.0, unit=kilocalorie/mole), 6]), 9: (18, 10, 14, 15, [1, Quantity(value=-2.154907276921426, unit=radian), Quantity(value=1200.0, unit=kilocalorie/mole), 4]), 10: (13, 10, 14, 17, [1, Quantity(value=0.007583009583349565, unit=radian), Quantity(value=1200.0, unit=kilocalorie/mole), 7]), 11: (13, 10, 14, 16, [1, Quantity(value=-2.096344773495849, unit=radian), Quantity(value=1200.0, unit=kilocalorie/mole), 6]), 12: (13, 10, 14, 15, [1, Quantity(value=2.1103023061680943, unit=radian), Quantity(value=1200.0, unit=kilocalorie/mole), 5]), 13: (14, 10, 8, 18, [1, Quantity(value=1.0655064807976995, unit=radian), Quantity(value=1200.0, unit=kilocalorie/mole), 3])}\n",
      "INFO:geometry:neglected angle terms include []\n",
      "INFO:geometry:log probability choice of torsions and atom order: -13.371595639480912\n",
      "INFO:geometry:creating platform, integrators, and contexts; setting growth parameter\n"
     ]
    },
    {
     "name": "stdout",
     "output_type": "stream",
     "text": [
      "making topology proposal\n",
      "generating geometry engine\n",
      "making geometry proposal from ALA to THR\n",
      "conducting subsequent work with the following platform: CUDA\n"
     ]
    },
    {
     "name": "stderr",
     "output_type": "stream",
     "text": [
      "INFO:geometry:setting atoms_with_positions context new positions\n"
     ]
    },
    {
     "name": "stdout",
     "output_type": "stream",
     "text": [
      "conducting subsequent work with the following platform: CUDA\n"
     ]
    },
    {
     "name": "stderr",
     "output_type": "stream",
     "text": [
      "INFO:geometry:There are 8 new atoms\n",
      "INFO:geometry:\treduced angle potential = 0.2755483094524574.\n",
      "INFO:geometry:\treduced angle potential = 0.12663277410293056.\n",
      "INFO:geometry:\treduced angle potential = 0.6734407664093444.\n",
      "INFO:geometry:\treduced angle potential = 0.3556657471824796.\n",
      "INFO:geometry:\treduced angle potential = 1.8210633634401288.\n",
      "INFO:geometry:\treduced angle potential = 0.10657757997174908.\n",
      "INFO:geometry:\treduced angle potential = 0.01449024279734101.\n",
      "INFO:geometry:\treduced angle potential = 0.05148990975102987.\n",
      "INFO:geometry:\tbeginning construction of no_nonbonded final system...\n",
      "INFO:geometry:\tinitial no-nonbonded final system forces ['HarmonicBondForce', 'HarmonicAngleForce', 'PeriodicTorsionForce', 'NonbondedForce']\n",
      "INFO:geometry:\tfinal no-nonbonded final system forces dict_keys(['HarmonicBondForce', 'HarmonicAngleForce', 'PeriodicTorsionForce', 'NonbondedForce'])\n",
      "INFO:geometry:\tthere are 11 bond forces in the no-nonbonded final system\n",
      "INFO:geometry:\tthere are 43 angle forces in the no-nonbonded final system\n",
      "INFO:geometry:\tthere are 72 torsion forces in the no-nonbonded final system\n",
      "INFO:geometry:forward final system defined with 0 neglected angles.\n"
     ]
    },
    {
     "name": "stdout",
     "output_type": "stream",
     "text": [
      "conducting subsequent work with the following platform: CUDA\n",
      "conducting subsequent work with the following platform: CUDA\n"
     ]
    },
    {
     "name": "stderr",
     "output_type": "stream",
     "text": [
      "INFO:geometry:total reduced potential before atom placement: 9.11648114171204\n"
     ]
    },
    {
     "name": "stdout",
     "output_type": "stream",
     "text": [
      "conducting subsequent work with the following platform: CUDA\n",
      "conducting subsequent work with the following platform: CUDA\n",
      "conducting subsequent work with the following platform: CUDA\n"
     ]
    },
    {
     "name": "stderr",
     "output_type": "stream",
     "text": [
      "INFO:geometry:total reduced energy added from growth system: -40.759700619132715\n",
      "INFO:geometry:final reduced energy -31.64322173475129\n",
      "INFO:geometry:sum of energies: -31.643219477420676\n",
      "INFO:geometry:magnitude of difference in the energies: 2.2573306139861415e-06\n",
      "INFO:geometry:Final logp_proposal: 62.30495078561893\n"
     ]
    },
    {
     "name": "stdout",
     "output_type": "stream",
     "text": [
      "added energy components: [('CustomBondForce', 3.025841215503113), ('CustomAngleForce', 12.099436909779847), ('CustomTorsionForce', 18.97800068626528), ('CustomBondForce', -74.86297943068097)]\n"
     ]
    },
    {
     "name": "stderr",
     "output_type": "stream",
     "text": [
      "INFO:geometry:logp_reverse: performing reverse proposal\n",
      "INFO:geometry:logp_reverse: unique new atoms detected; proceeding to _logp_propose...\n",
      "INFO:geometry:Conducting forward proposal...\n",
      "INFO:geometry:Computing proposal order with NetworkX...\n",
      "INFO:geometry:number of atoms to be placed: 4\n",
      "INFO:geometry:Atom index proposal order is [10, 11, 12, 13]\n",
      "INFO:geometry:omitted_bonds: []\n",
      "INFO:geometry:direction of proposal is reverse; creating atoms_with_positions from old system/topology\n",
      "INFO:geometry:creating growth system...\n",
      "INFO:geometry:\tcreating bond force...\n",
      "INFO:geometry:\tthere are 9 bonds in reference force.\n",
      "INFO:geometry:\tcreating angle force...\n",
      "INFO:geometry:\tthere are 36 angles in reference force.\n",
      "INFO:geometry:\tcreating torsion force...\n",
      "INFO:geometry:\tcreating extra torsions force...\n",
      "INFO:geometry:\tthere are 42 torsions in reference force.\n",
      "INFO:geometry:\tcreating nonbonded force...\n",
      "INFO:geometry:\t\tgrabbing reference nonbonded method, cutoff, switching function, switching distance...\n",
      "INFO:geometry:\t\tcreating nonbonded exception force (i.e. custom bond for 1,4s)...\n",
      "INFO:geometry:\t\tlooping through exceptions calculating growth indices, and adding appropriate interactions to custom bond force.\n",
      "INFO:geometry:\t\tthere are 98 in the reference Nonbonded force\n",
      "WARNING:geometry:\t\t\t\t\tchiral atom <Atom 8 (CA) of chain 0 residue 1 (ALA)> with neighbors [<Atom 9 (HA) of chain 0 residue 1 (ALA)>, <Atom 10 (CB) of chain 0 residue 1 (ALA)>, <Atom 14 (C) of chain 0 residue 1 (ALA)>, <Atom 6 (N) of chain 0 residue 1 (ALA)>] is surrounded by 3 core neighbors.  omitting chirality bias torsion\n",
      "INFO:geometry:Neglected angle terms : []\n",
      "INFO:geometry:omitted_growth_terms: {'bonds': [], 'angles': [], 'torsions': [], '1,4s': []}\n",
      "INFO:geometry:extra torsions: {0: (7, 6, 8, 10, [1, Quantity(value=0.9799661941737812, unit=radian), Quantity(value=1200.0, unit=kilocalorie/mole), 1]), 1: (6, 8, 10, 11, [1, Quantity(value=2.105358864604291, unit=radian), Quantity(value=1200.0, unit=kilocalorie/mole), 2]), 2: (6, 8, 10, 12, [1, Quantity(value=-2.0823006129211796, unit=radian), Quantity(value=1200.0, unit=kilocalorie/mole), 3]), 3: (6, 8, 10, 13, [1, Quantity(value=0.018582237407944735, unit=radian), Quantity(value=1200.0, unit=kilocalorie/mole), 4]), 4: (14, 8, 10, 11, [1, Quantity(value=-0.036945135932107576, unit=radian), Quantity(value=1200.0, unit=kilocalorie/mole), 2]), 5: (14, 8, 10, 12, [1, Quantity(value=2.0585806937220097, unit=radian), Quantity(value=1200.0, unit=kilocalorie/mole), 3]), 6: (14, 8, 10, 13, [1, Quantity(value=-2.1237217631284597, unit=radian), Quantity(value=1200.0, unit=kilocalorie/mole), 4]), 7: (9, 8, 10, 11, [1, Quantity(value=-2.119603470065817, unit=radian), Quantity(value=1200.0, unit=kilocalorie/mole), 2]), 8: (9, 8, 10, 12, [1, Quantity(value=-0.024077640411697132, unit=radian), Quantity(value=1200.0, unit=kilocalorie/mole), 3]), 9: (9, 8, 10, 13, [1, Quantity(value=2.0768052099174152, unit=radian), Quantity(value=1200.0, unit=kilocalorie/mole), 4])}\n",
      "INFO:geometry:neglected angle terms include []\n",
      "INFO:geometry:log probability choice of torsions and atom order: -5.78074351579233\n",
      "INFO:geometry:creating platform, integrators, and contexts; setting growth parameter\n"
     ]
    },
    {
     "name": "stdout",
     "output_type": "stream",
     "text": [
      "conducting subsequent work with the following platform: CUDA\n"
     ]
    },
    {
     "name": "stderr",
     "output_type": "stream",
     "text": [
      "INFO:geometry:setting atoms_with_positions context old positions\n"
     ]
    },
    {
     "name": "stdout",
     "output_type": "stream",
     "text": [
      "conducting subsequent work with the following platform: CUDA\n"
     ]
    },
    {
     "name": "stderr",
     "output_type": "stream",
     "text": [
      "INFO:geometry:There are 4 new atoms\n",
      "INFO:geometry:\treduced angle potential = 0.3517324280898812.\n",
      "INFO:geometry:\treduced angle potential = 1.2915588460963948e-10.\n",
      "INFO:geometry:\treduced angle potential = 3.205832446488702e-13.\n",
      "INFO:geometry:\treduced angle potential = 7.39096069988752e-11.\n",
      "INFO:geometry:\tbeginning construction of no_nonbonded final system...\n",
      "INFO:geometry:\tinitial no-nonbonded final system forces ['HarmonicBondForce', 'HarmonicAngleForce', 'PeriodicTorsionForce', 'NonbondedForce']\n",
      "INFO:geometry:\tfinal no-nonbonded final system forces dict_keys(['HarmonicBondForce', 'HarmonicAngleForce', 'PeriodicTorsionForce', 'NonbondedForce'])\n",
      "INFO:geometry:\tthere are 9 bond forces in the no-nonbonded final system\n",
      "INFO:geometry:\tthere are 36 angle forces in the no-nonbonded final system\n",
      "INFO:geometry:\tthere are 42 torsion forces in the no-nonbonded final system\n",
      "INFO:geometry:reverse final system defined with 0 neglected angles.\n"
     ]
    },
    {
     "name": "stdout",
     "output_type": "stream",
     "text": [
      "conducting subsequent work with the following platform: CUDA\n",
      "conducting subsequent work with the following platform: CUDA\n"
     ]
    },
    {
     "name": "stderr",
     "output_type": "stream",
     "text": [
      "INFO:geometry:total reduced potential before atom placement: 9.11648114171204\n"
     ]
    },
    {
     "name": "stdout",
     "output_type": "stream",
     "text": [
      "conducting subsequent work with the following platform: CUDA\n",
      "conducting subsequent work with the following platform: CUDA\n",
      "conducting subsequent work with the following platform: CUDA\n"
     ]
    },
    {
     "name": "stderr",
     "output_type": "stream",
     "text": [
      "INFO:geometry:total reduced energy added from growth system: 20.672986672125617\n",
      "INFO:geometry:final reduced energy 29.78946596595154\n",
      "INFO:geometry:sum of energies: 29.789467813837657\n",
      "INFO:geometry:magnitude of difference in the energies: 1.8478861179005435e-06\n",
      "INFO:geometry:Final logp_proposal: -26840.97686061595\n"
     ]
    },
    {
     "name": "stdout",
     "output_type": "stream",
     "text": [
      "added energy components: [('CustomBondForce', 0.000520203927326505), ('CustomAngleForce', 0.4511197756248138), ('CustomTorsionForce', 7.250463328533253), ('CustomBondForce', 12.970883364040223)]\n"
     ]
    },
    {
     "name": "stderr",
     "output_type": "stream",
     "text": [
      "INFO:relative:*** Generating RxnHybridTopologyFactory ***\n",
      "INFO:relative:Beginning nonbonded method, total particle, barostat, and exceptions retrieval...\n",
      "INFO:relative:Old system forces: dict_keys(['HarmonicBondForce', 'HarmonicAngleForce', 'PeriodicTorsionForce', 'NonbondedForce'])\n",
      "INFO:relative:New system forces: dict_keys(['HarmonicBondForce', 'HarmonicAngleForce', 'PeriodicTorsionForce', 'NonbondedForce'])\n",
      "INFO:relative:No unknown forces.\n",
      "INFO:relative:Nonbonded method to be used (i.e. from old system): 0\n",
      "INFO:relative:Adding and mapping old atoms to hybrid system...\n",
      "INFO:relative:Adding and mapping new atoms to hybrid system...\n",
      "INFO:relative:scale_templates: [['nonscale_lambda', 'scale_lambda_0', 'interscale_lambda_0'], ['nonscale_region', 'scale_region_0', 'interscale_region_0']]\n",
      "INFO:relative:particle (nonbonded) scale_templates: [['nonscale_lambda', 'scale_lambda_0'], ['nonscale_region1', 'scale_region_01'], ['nonscale_region2', 'scale_region_02']]\n",
      "INFO:relative:No MonteCarloBarostat added.\n",
      "INFO:relative:getDefaultPeriodicBoxVectors added to hybrid: [Quantity(value=Vec3(x=2.0, y=0.0, z=0.0), unit=nanometer), Quantity(value=Vec3(x=0.0, y=2.0, z=0.0), unit=nanometer), Quantity(value=Vec3(x=0.0, y=0.0, z=2.0), unit=nanometer)]\n",
      "INFO:relative:Determined atom classes.\n",
      "INFO:relative:Generating old system exceptions dict...\n",
      "INFO:relative:Generating new system exceptions dict...\n",
      "INFO:relative:Handling constraints...\n",
      "INFO:relative:Handling virtual sites...\n",
      "INFO:relative:\t_handle_virtual_sites: numVirtualSites: 0\n"
     ]
    }
   ],
   "source": [
    "# Create a htf\n",
    "atp, system_generator = generate_atp(phase = 'vacuum')\n",
    "htf = generate_dipeptide_top_pos_sys(atp.topology, \n",
    "                               'THR', \n",
    "                               atp.system, \n",
    "                               atp.positions, \n",
    "                               system_generator,\n",
    "                                rxn_field=True,\n",
    "                               flatten_torsions=True,\n",
    "                               flatten_exceptions=True,\n",
    "                               validate_endstate_energy=False,\n",
    "                                conduct_htf_prop=True, \n",
    "                                scale_regions=[[10, 11, 12, 13, 22, 23, 24, 25, 26, 27, 28, 29]])"
   ]
  },
  {
   "cell_type": "code",
   "execution_count": 10,
   "id": "6f7eef63",
   "metadata": {},
   "outputs": [],
   "source": [
    "with open(\"atp_vacuum_scale_region.pickle\", \"wb\") as f:\n",
    "    pickle.dump(htf, f)"
   ]
  },
  {
   "cell_type": "markdown",
   "id": "5e9bd435",
   "metadata": {},
   "source": [
    "#### Old system HarmonicBondForce vs hybrid system CustomBondForce"
   ]
  },
  {
   "cell_type": "code",
   "execution_count": 3,
   "id": "288c11e1",
   "metadata": {},
   "outputs": [],
   "source": [
    "# Load htf\n",
    "with open(\"/home/zhangi/choderalab/perses_benchmark/perses_protein_mutations/code/26_rxn_field/atp_vacuum_scale_region.pickle\", \"rb\") as f:\n",
    "    htf = pickle.load(f)"
   ]
  },
  {
   "cell_type": "code",
   "execution_count": 14,
   "id": "4abfd8bf",
   "metadata": {},
   "outputs": [
    {
     "data": {
      "text/plain": [
       "[<simtk.openmm.openmm.CustomBondForce; proxy of <Swig Object of type 'OpenMM::CustomBondForce *' at 0x2aca5c9e0d50> >,\n",
       " <simtk.openmm.openmm.CustomAngleForce; proxy of <Swig Object of type 'OpenMM::CustomAngleForce *' at 0x2aca5c9e0300> >,\n",
       " <simtk.openmm.openmm.CustomTorsionForce; proxy of <Swig Object of type 'OpenMM::CustomTorsionForce *' at 0x2aca5c9e0270> >,\n",
       " <simtk.openmm.openmm.CustomNonbondedForce; proxy of <Swig Object of type 'OpenMM::CustomNonbondedForce *' at 0x2aca5c9e01b0> >,\n",
       " <simtk.openmm.openmm.CustomNonbondedForce; proxy of <Swig Object of type 'OpenMM::CustomNonbondedForce *' at 0x2aca5c9e0060> >,\n",
       " <simtk.openmm.openmm.CustomBondForce; proxy of <Swig Object of type 'OpenMM::CustomBondForce *' at 0x2aca5c9e0a80> >,\n",
       " <simtk.openmm.openmm.CustomBondForce; proxy of <Swig Object of type 'OpenMM::CustomBondForce *' at 0x2aca5c9e0c00> >]"
      ]
     },
     "execution_count": 14,
     "metadata": {},
     "output_type": "execute_result"
    }
   ],
   "source": [
    "htf.hybrid_system.getForces()"
   ]
  },
  {
   "cell_type": "code",
   "execution_count": 17,
   "id": "53325112",
   "metadata": {},
   "outputs": [
    {
     "data": {
      "text/plain": [
       "'( nonscale_lambda_torsions * nonscale_region+scale_lambda_0_torsions * scale_region_0+interscale_lambda_0_torsions * interscale_region_0 ) * (( 1 * environment_region+lambda_0_torsions_old * alchemical_region_0 ) * U1 + ( 1 * environment_region+lambda_0_torsions_new * alchemical_region_0 ) * U2);U1 = K1*(1+cos(periodicity1*theta-phase1));U2 = K2*(1+cos(periodicity2*theta-phase2));'"
      ]
     },
     "execution_count": 17,
     "metadata": {},
     "output_type": "execute_result"
    }
   ],
   "source": [
    "htf.hybrid_system.getForce(2).getEnergyFunction()"
   ]
  },
  {
   "cell_type": "code",
   "execution_count": 10,
   "id": "1f7f3aae",
   "metadata": {},
   "outputs": [
    {
     "name": "stdout",
     "output_type": "stream",
     "text": [
      "lambda_0_bonds_old\n",
      "lambda_0_bonds_new\n",
      "nonscale_lambda_bonds\n",
      "scale_lambda_0_bonds\n",
      "interscale_lambda_0_bonds\n"
     ]
    }
   ],
   "source": [
    "for i in range(htf.hybrid_system.getForce(0).getNumGlobalParameters()):\n",
    "    print(htf.hybrid_system.getForce(0).getGlobalParameterName(i))"
   ]
  },
  {
   "cell_type": "code",
   "execution_count": 11,
   "id": "7fcfd754",
   "metadata": {},
   "outputs": [
    {
     "name": "stdout",
     "output_type": "stream",
     "text": [
      "nonscale_region\n",
      "scale_region_0\n",
      "interscale_region_0\n",
      "environment_region\n",
      "alchemical_region_0\n",
      "length1\n",
      "K1\n",
      "length2\n",
      "K2\n"
     ]
    }
   ],
   "source": [
    "for i in range(htf.hybrid_system.getForce(0).getNumPerBondParameters()):\n",
    "    print(htf.hybrid_system.getForce(0).getPerBondParameterName(i))"
   ]
  },
  {
   "cell_type": "code",
   "execution_count": 15,
   "id": "a8366dee",
   "metadata": {},
   "outputs": [
    {
     "name": "stdout",
     "output_type": "stream",
     "text": [
      "nonscale_region\n",
      "scale_region_0\n",
      "interscale_region_0\n",
      "environment_region\n",
      "alchemical_region_0\n",
      "theta0_1\n",
      "K1\n",
      "theta0_2\n",
      "K2\n"
     ]
    }
   ],
   "source": [
    "for i in range(htf.hybrid_system.getForce(1).getNumPerAngleParameters()):\n",
    "    print(htf.hybrid_system.getForce(1).getPerAngleParameterName(i))"
   ]
  },
  {
   "cell_type": "code",
   "execution_count": 12,
   "id": "5c37ddb9",
   "metadata": {
    "scrolled": true
   },
   "outputs": [
    {
     "data": {
      "text/plain": [
       "[10, 11, 12, 13, 22, 23, 24, 25, 26, 27, 28, 29]"
      ]
     },
     "execution_count": 12,
     "metadata": {},
     "output_type": "execute_result"
    }
   ],
   "source": [
    "# This is the scale region\n",
    "list(htf._atom_classes['unique_old_atoms'][0]) + list(htf._atom_classes['unique_new_atoms'][0])"
   ]
  },
  {
   "cell_type": "code",
   "execution_count": 13,
   "id": "9c194d51",
   "metadata": {
    "scrolled": true
   },
   "outputs": [
    {
     "name": "stdout",
     "output_type": "stream",
     "text": [
      "Warning: Returning CPU platform instead of requested platform <simtk.openmm.openmm.Platform; proxy of <Swig Object of type 'OpenMM::Platform *' at 0x2ad9a74a1930> >\n",
      "conducting subsequent work with the following platform: CPU\n",
      "conducting subsequent work with the following platform: CUDA\n",
      "[('HarmonicBondForce', 0.03478365356521381), ('HarmonicAngleForce', 0.6112775462128995), ('PeriodicTorsionForce', 16.285398289983064), ('NonbondedForce', -39.4499277456003), ('AndersenThermostat', 0.0)]\n",
      "conducting subsequent work with the following platform: CUDA\n",
      "[('CustomBondForce', 0.03478365356521381), ('CustomAngleForce', 12.79191873055503), ('CustomTorsionForce', 16.285403285921724), ('CustomNonbondedForce', -135.30622366805557), ('CustomNonbondedForce', 4.748478747607475), ('CustomBondForce', 82.63803400070168), ('CustomBondForce', 8.469780004620791), ('AndersenThermostat', 0.0)]\n",
      "Success! Custom bond force and standard bond force energies are equal!\n"
     ]
    }
   ],
   "source": [
    "test_bond_energies(htf)"
   ]
  },
  {
   "cell_type": "markdown",
   "id": "0057ce49",
   "metadata": {},
   "source": [
    "#### New system HarmonicBondForce vs hybrid system CustomBondForce"
   ]
  },
  {
   "cell_type": "code",
   "execution_count": 14,
   "id": "1e6a7202",
   "metadata": {},
   "outputs": [],
   "source": [
    "# Load htf\n",
    "with open(\"/home/zhangi/choderalab/perses_benchmark/perses_protein_mutations/code/26_rxn_field/atp_vacuum_scale_region.pickle\", \"rb\") as f:\n",
    "    htf = pickle.load(f)"
   ]
  },
  {
   "cell_type": "code",
   "execution_count": 15,
   "id": "8ccc8c53",
   "metadata": {},
   "outputs": [
    {
     "name": "stdout",
     "output_type": "stream",
     "text": [
      "Warning: Returning CPU platform instead of requested platform <simtk.openmm.openmm.Platform; proxy of <Swig Object of type 'OpenMM::Platform *' at 0x2ad9a74a1930> >\n",
      "conducting subsequent work with the following platform: CPU\n",
      "conducting subsequent work with the following platform: CUDA\n",
      "[('HarmonicBondForce', 3.0804088330039257), ('HarmonicAngleForce', 12.337771305429378), ('PeriodicTorsionForce', 28.091644511264406), ('NonbondedForce', 56.74765841438245), ('AndersenThermostat', 0.0)]\n",
      "conducting subsequent work with the following platform: CUDA\n",
      "[('CustomBondForce', 3.0804088330039257), ('CustomAngleForce', 12.79191873055503), ('CustomTorsionForce', 16.285403285921724), ('CustomNonbondedForce', -135.30622366805557), ('CustomNonbondedForce', 4.748478747607475), ('CustomBondForce', 82.63803400070168), ('CustomBondForce', 8.469780004620791), ('AndersenThermostat', 0.0)]\n",
      "Success! Custom bond force and standard bond force energies are equal!\n"
     ]
    }
   ],
   "source": [
    "test_bond_energies(htf, is_old=False)"
   ]
  },
  {
   "cell_type": "markdown",
   "id": "a30a9095",
   "metadata": {},
   "source": [
    "# Alanine dipeptide in solvent"
   ]
  },
  {
   "cell_type": "code",
   "execution_count": 16,
   "id": "2e120f58",
   "metadata": {
    "scrolled": true
   },
   "outputs": [
    {
     "name": "stderr",
     "output_type": "stream",
     "text": [
      "DEBUG:openmmforcefields.system_generators:Trying GAFFTemplateGenerator to load gaff-2.11\n",
      "INFO:proposal_generator:\tConducting polymer point mutation proposal...\n",
      "INFO:proposal_generator:Using matching_criterion to chose best atom map\n",
      "INFO:proposal_generator:Scaffold has symmetry of 0\n",
      "WARNING:proposal_generator:Two molecules are not similar to have a common scaffold\n",
      "WARNING:proposal_generator:Proceeding with direct mapping of molecules, but please check atom mapping and the geometry of the ligands.\n",
      "INFO:proposal_generator:len [{9: 7}, {10: 7}, {11: 7}, {12: 7}, {13: 7}, {9: 8}, {10: 8}, {11: 8}, {12: 8}, {13: 8}, {9: 9}, {10: 9}, {11: 9}, {12: 9}, {13: 9}]\n",
      "INFO:proposal_generator:{9: 7}\n",
      "INFO:proposal_generator:{10: 7}\n",
      "INFO:proposal_generator:{11: 7}\n",
      "INFO:proposal_generator:{12: 7}\n",
      "INFO:proposal_generator:{13: 7}\n",
      "INFO:proposal_generator:{9: 8}\n",
      "INFO:proposal_generator:{10: 8}\n",
      "INFO:proposal_generator:{11: 8}\n",
      "INFO:proposal_generator:{12: 8}\n",
      "INFO:proposal_generator:{13: 8}\n",
      "INFO:proposal_generator:{9: 9}\n",
      "INFO:proposal_generator:{10: 9}\n",
      "INFO:proposal_generator:{11: 9}\n",
      "INFO:proposal_generator:{12: 9}\n",
      "INFO:proposal_generator:{13: 9}\n",
      "INFO:proposal_generator:Returning map that best satisfies matching_criterion\n",
      "INFO:proposal_generator:Finding best map using matching_criterion name\n",
      "INFO:proposal_generator:{9: 7}\n"
     ]
    },
    {
     "name": "stdout",
     "output_type": "stream",
     "text": [
      "making topology proposal\n"
     ]
    },
    {
     "name": "stderr",
     "output_type": "stream",
     "text": [
      "INFO:geometry:propose: performing forward proposal\n",
      "INFO:geometry:propose: unique new atoms detected; proceeding to _logp_propose...\n",
      "INFO:geometry:Conducting forward proposal...\n",
      "INFO:geometry:Computing proposal order with NetworkX...\n",
      "INFO:geometry:number of atoms to be placed: 8\n",
      "INFO:geometry:Atom index proposal order is [10, 18, 14, 17, 16, 13, 19, 15]\n",
      "INFO:geometry:omitted_bonds: []\n",
      "INFO:geometry:direction of proposal is forward; creating atoms_with_positions and new positions from old system/topology...\n"
     ]
    },
    {
     "name": "stdout",
     "output_type": "stream",
     "text": [
      "generating geometry engine\n",
      "making geometry proposal from ALA to THR\n"
     ]
    },
    {
     "name": "stderr",
     "output_type": "stream",
     "text": [
      "INFO:geometry:creating growth system...\n",
      "INFO:geometry:\tcreating bond force...\n",
      "INFO:geometry:\tthere are 11 bonds in reference force.\n",
      "INFO:geometry:\tcreating angle force...\n",
      "INFO:geometry:\tthere are 43 angles in reference force.\n",
      "INFO:geometry:\tcreating torsion force...\n",
      "INFO:geometry:\tcreating extra torsions force...\n",
      "INFO:geometry:\tthere are 72 torsions in reference force.\n",
      "INFO:geometry:\tcreating nonbonded force...\n",
      "INFO:geometry:\t\tgrabbing reference nonbonded method, cutoff, switching function, switching distance...\n",
      "INFO:geometry:\t\tcreating nonbonded exception force (i.e. custom bond for 1,4s)...\n",
      "INFO:geometry:\t\tlooping through exceptions calculating growth indices, and adding appropriate interactions to custom bond force.\n",
      "INFO:geometry:\t\tthere are 1654 in the reference Nonbonded force\n",
      "WARNING:geometry:\t\t\t\t\tchiral atom <Atom 8 (CA) of chain 0 residue 1 (THR)> with neighbors [<Atom 9 (HA) of chain 0 residue 1 (THR)>, <Atom 10 (CB) of chain 0 residue 1 (THR)>, <Atom 11 (C) of chain 0 residue 1 (THR)>, <Atom 6 (N) of chain 0 residue 1 (THR)>] is surrounded by 3 core neighbors.  omitting chirality bias torsion\n",
      "INFO:geometry:Neglected angle terms : []\n",
      "INFO:geometry:omitted_growth_terms: {'bonds': [], 'angles': [], 'torsions': [], '1,4s': []}\n",
      "INFO:geometry:extra torsions: {0: (7, 6, 8, 10, [1, Quantity(value=0.9900002084555819, unit=radian), Quantity(value=1200.0, unit=kilocalorie/mole), 1]), 1: (19, 18, 10, 8, [1, Quantity(value=-0.07858019216845058, unit=radian), Quantity(value=1200.0, unit=kilocalorie/mole), 7]), 2: (19, 18, 10, 14, [1, Quantity(value=2.118586571250296, unit=radian), Quantity(value=1200.0, unit=kilocalorie/mole), 7]), 3: (19, 18, 10, 13, [1, Quantity(value=-2.149781203448759, unit=radian), Quantity(value=1200.0, unit=kilocalorie/mole), 7]), 4: (8, 10, 14, 17, [1, Quantity(value=-2.1249532223845904, unit=radian), Quantity(value=1200.0, unit=kilocalorie/mole), 4]), 5: (8, 10, 14, 16, [1, Quantity(value=2.0543043017157916, unit=radian), Quantity(value=1200.0, unit=kilocalorie/mole), 5]), 6: (8, 10, 14, 15, [1, Quantity(value=-0.02223392579985184, unit=radian), Quantity(value=1200.0, unit=kilocalorie/mole), 8]), 7: (18, 10, 14, 17, [1, Quantity(value=2.0255587336734213, unit=radian), Quantity(value=1200.0, unit=kilocalorie/mole), 4]), 8: (18, 10, 14, 16, [1, Quantity(value=-0.07836904940578293, unit=radian), Quantity(value=1200.0, unit=kilocalorie/mole), 5]), 9: (18, 10, 14, 15, [1, Quantity(value=-2.154907276921426, unit=radian), Quantity(value=1200.0, unit=kilocalorie/mole), 8]), 10: (13, 10, 14, 17, [1, Quantity(value=0.007583009583349565, unit=radian), Quantity(value=1200.0, unit=kilocalorie/mole), 6]), 11: (13, 10, 14, 16, [1, Quantity(value=-2.096344773495849, unit=radian), Quantity(value=1200.0, unit=kilocalorie/mole), 6]), 12: (13, 10, 14, 15, [1, Quantity(value=2.1103023061680943, unit=radian), Quantity(value=1200.0, unit=kilocalorie/mole), 8]), 13: (18, 10, 8, 14, [1, Quantity(value=-1.0655064807976995, unit=radian), Quantity(value=1200.0, unit=kilocalorie/mole), 3])}\n",
      "INFO:geometry:neglected angle terms include []\n",
      "INFO:geometry:log probability choice of torsions and atom order: -13.371595639480912\n",
      "INFO:geometry:creating platform, integrators, and contexts; setting growth parameter\n"
     ]
    },
    {
     "name": "stdout",
     "output_type": "stream",
     "text": [
      "conducting subsequent work with the following platform: CUDA\n"
     ]
    },
    {
     "name": "stderr",
     "output_type": "stream",
     "text": [
      "INFO:geometry:setting atoms_with_positions context new positions\n"
     ]
    },
    {
     "name": "stdout",
     "output_type": "stream",
     "text": [
      "conducting subsequent work with the following platform: CUDA\n"
     ]
    },
    {
     "name": "stderr",
     "output_type": "stream",
     "text": [
      "INFO:geometry:There are 8 new atoms\n",
      "INFO:geometry:\treduced angle potential = 0.6049297981432218.\n",
      "INFO:geometry:\treduced angle potential = 0.8447103607187025.\n",
      "INFO:geometry:\treduced angle potential = 0.044579496241417355.\n",
      "INFO:geometry:\treduced angle potential = 0.07185869568664004.\n",
      "INFO:geometry:\treduced angle potential = 0.2907328002935878.\n",
      "INFO:geometry:\treduced angle potential = 0.31249017888451736.\n",
      "INFO:geometry:\treduced angle potential = 0.15245420672392548.\n",
      "INFO:geometry:\treduced angle potential = 0.029827620513340647.\n",
      "INFO:geometry:\tbeginning construction of no_nonbonded final system...\n",
      "INFO:geometry:\tinitial no-nonbonded final system forces ['HarmonicBondForce', 'HarmonicAngleForce', 'PeriodicTorsionForce', 'NonbondedForce', 'MonteCarloBarostat']\n",
      "INFO:geometry:\tfinal no-nonbonded final system forces dict_keys(['HarmonicBondForce', 'HarmonicAngleForce', 'PeriodicTorsionForce', 'NonbondedForce'])\n",
      "INFO:geometry:\tthere are 11 bond forces in the no-nonbonded final system\n",
      "INFO:geometry:\tthere are 43 angle forces in the no-nonbonded final system\n",
      "INFO:geometry:\tthere are 72 torsion forces in the no-nonbonded final system\n",
      "INFO:geometry:forward final system defined with 0 neglected angles.\n"
     ]
    },
    {
     "name": "stdout",
     "output_type": "stream",
     "text": [
      "conducting subsequent work with the following platform: CUDA\n",
      "conducting subsequent work with the following platform: CUDA\n"
     ]
    },
    {
     "name": "stderr",
     "output_type": "stream",
     "text": [
      "INFO:geometry:total reduced potential before atom placement: 9.11648114171204\n"
     ]
    },
    {
     "name": "stdout",
     "output_type": "stream",
     "text": [
      "conducting subsequent work with the following platform: CUDA\n",
      "conducting subsequent work with the following platform: CUDA\n",
      "conducting subsequent work with the following platform: CUDA\n"
     ]
    },
    {
     "name": "stderr",
     "output_type": "stream",
     "text": [
      "INFO:geometry:total reduced energy added from growth system: -68.18387998012128\n",
      "INFO:geometry:final reduced energy -59.06740057547343\n",
      "INFO:geometry:sum of energies: -59.06739883840923\n",
      "INFO:geometry:magnitude of difference in the energies: 1.7370641955949395e-06\n",
      "INFO:geometry:Final logp_proposal: 63.38789654527229\n"
     ]
    },
    {
     "name": "stdout",
     "output_type": "stream",
     "text": [
      "added energy components: [('CustomBondForce', 2.060148779703902), ('CustomAngleForce', 8.60997295886285), ('CustomTorsionForce', 16.399615742489615), ('CustomBondForce', -95.25361746117761)]\n"
     ]
    },
    {
     "name": "stderr",
     "output_type": "stream",
     "text": [
      "INFO:geometry:logp_reverse: performing reverse proposal\n",
      "INFO:geometry:logp_reverse: unique new atoms detected; proceeding to _logp_propose...\n",
      "INFO:geometry:Conducting forward proposal...\n",
      "INFO:geometry:Computing proposal order with NetworkX...\n",
      "INFO:geometry:number of atoms to be placed: 4\n",
      "INFO:geometry:Atom index proposal order is [10, 11, 12, 13]\n",
      "INFO:geometry:omitted_bonds: []\n",
      "INFO:geometry:direction of proposal is reverse; creating atoms_with_positions from old system/topology\n",
      "INFO:geometry:creating growth system...\n",
      "INFO:geometry:\tcreating bond force...\n",
      "INFO:geometry:\tthere are 9 bonds in reference force.\n",
      "INFO:geometry:\tcreating angle force...\n",
      "INFO:geometry:\tthere are 36 angles in reference force.\n",
      "INFO:geometry:\tcreating torsion force...\n",
      "INFO:geometry:\tcreating extra torsions force...\n",
      "INFO:geometry:\tthere are 42 torsions in reference force.\n",
      "INFO:geometry:\tcreating nonbonded force...\n",
      "INFO:geometry:\t\tgrabbing reference nonbonded method, cutoff, switching function, switching distance...\n",
      "INFO:geometry:\t\tcreating nonbonded exception force (i.e. custom bond for 1,4s)...\n",
      "INFO:geometry:\t\tlooping through exceptions calculating growth indices, and adding appropriate interactions to custom bond force.\n",
      "INFO:geometry:\t\tthere are 1631 in the reference Nonbonded force\n",
      "WARNING:geometry:\t\t\t\t\tchiral atom <Atom 8 (CA) of chain 0 residue 1 (ALA)> with neighbors [<Atom 9 (HA) of chain 0 residue 1 (ALA)>, <Atom 10 (CB) of chain 0 residue 1 (ALA)>, <Atom 14 (C) of chain 0 residue 1 (ALA)>, <Atom 6 (N) of chain 0 residue 1 (ALA)>] is surrounded by 3 core neighbors.  omitting chirality bias torsion\n",
      "INFO:geometry:Neglected angle terms : []\n",
      "INFO:geometry:omitted_growth_terms: {'bonds': [], 'angles': [], 'torsions': [], '1,4s': []}\n",
      "INFO:geometry:extra torsions: {0: (7, 6, 8, 10, [1, Quantity(value=0.9799661941737812, unit=radian), Quantity(value=1200.0, unit=kilocalorie/mole), 1]), 1: (6, 8, 10, 11, [1, Quantity(value=2.105358864604291, unit=radian), Quantity(value=1200.0, unit=kilocalorie/mole), 2]), 2: (6, 8, 10, 12, [1, Quantity(value=-2.0823006129211796, unit=radian), Quantity(value=1200.0, unit=kilocalorie/mole), 3]), 3: (6, 8, 10, 13, [1, Quantity(value=0.018582237407944735, unit=radian), Quantity(value=1200.0, unit=kilocalorie/mole), 4]), 4: (14, 8, 10, 11, [1, Quantity(value=-0.036945135932107576, unit=radian), Quantity(value=1200.0, unit=kilocalorie/mole), 2]), 5: (14, 8, 10, 12, [1, Quantity(value=2.0585806937220097, unit=radian), Quantity(value=1200.0, unit=kilocalorie/mole), 3]), 6: (14, 8, 10, 13, [1, Quantity(value=-2.1237217631284597, unit=radian), Quantity(value=1200.0, unit=kilocalorie/mole), 4]), 7: (9, 8, 10, 11, [1, Quantity(value=-2.119603470065817, unit=radian), Quantity(value=1200.0, unit=kilocalorie/mole), 2]), 8: (9, 8, 10, 12, [1, Quantity(value=-0.024077640411697132, unit=radian), Quantity(value=1200.0, unit=kilocalorie/mole), 3]), 9: (9, 8, 10, 13, [1, Quantity(value=2.0768052099174152, unit=radian), Quantity(value=1200.0, unit=kilocalorie/mole), 4])}\n",
      "INFO:geometry:neglected angle terms include []\n",
      "INFO:geometry:log probability choice of torsions and atom order: -5.78074351579233\n",
      "INFO:geometry:creating platform, integrators, and contexts; setting growth parameter\n"
     ]
    },
    {
     "name": "stdout",
     "output_type": "stream",
     "text": [
      "conducting subsequent work with the following platform: CUDA\n"
     ]
    },
    {
     "name": "stderr",
     "output_type": "stream",
     "text": [
      "INFO:geometry:setting atoms_with_positions context old positions\n"
     ]
    },
    {
     "name": "stdout",
     "output_type": "stream",
     "text": [
      "conducting subsequent work with the following platform: CUDA\n"
     ]
    },
    {
     "name": "stderr",
     "output_type": "stream",
     "text": [
      "INFO:geometry:There are 4 new atoms\n",
      "INFO:geometry:\treduced angle potential = 0.3517324280898812.\n",
      "INFO:geometry:\treduced angle potential = 1.2915588460963948e-10.\n",
      "INFO:geometry:\treduced angle potential = 3.205832446488702e-13.\n",
      "INFO:geometry:\treduced angle potential = 7.39096069988752e-11.\n",
      "INFO:geometry:\tbeginning construction of no_nonbonded final system...\n",
      "INFO:geometry:\tinitial no-nonbonded final system forces ['HarmonicBondForce', 'HarmonicAngleForce', 'PeriodicTorsionForce', 'NonbondedForce', 'MonteCarloBarostat']\n",
      "INFO:geometry:\tfinal no-nonbonded final system forces dict_keys(['HarmonicBondForce', 'HarmonicAngleForce', 'PeriodicTorsionForce', 'NonbondedForce'])\n",
      "INFO:geometry:\tthere are 9 bond forces in the no-nonbonded final system\n",
      "INFO:geometry:\tthere are 36 angle forces in the no-nonbonded final system\n",
      "INFO:geometry:\tthere are 42 torsion forces in the no-nonbonded final system\n",
      "INFO:geometry:reverse final system defined with 0 neglected angles.\n"
     ]
    },
    {
     "name": "stdout",
     "output_type": "stream",
     "text": [
      "conducting subsequent work with the following platform: CUDA\n",
      "conducting subsequent work with the following platform: CUDA\n"
     ]
    },
    {
     "name": "stderr",
     "output_type": "stream",
     "text": [
      "INFO:geometry:total reduced potential before atom placement: 9.11648114171204\n"
     ]
    },
    {
     "name": "stdout",
     "output_type": "stream",
     "text": [
      "conducting subsequent work with the following platform: CUDA\n",
      "conducting subsequent work with the following platform: CUDA\n",
      "conducting subsequent work with the following platform: CUDA\n"
     ]
    },
    {
     "name": "stderr",
     "output_type": "stream",
     "text": [
      "INFO:geometry:total reduced energy added from growth system: 20.672986672125617\n",
      "INFO:geometry:final reduced energy 29.78946596595156\n",
      "INFO:geometry:sum of energies: 29.789467813837657\n",
      "INFO:geometry:magnitude of difference in the energies: 1.8478860965842614e-06\n",
      "INFO:geometry:Final logp_proposal: -26895.200283713013\n"
     ]
    },
    {
     "name": "stdout",
     "output_type": "stream",
     "text": [
      "added energy components: [('CustomBondForce', 0.000520203927326505), ('CustomAngleForce', 0.4511197756248138), ('CustomTorsionForce', 7.250463328533253), ('CustomBondForce', 12.970883364040223)]\n"
     ]
    },
    {
     "name": "stderr",
     "output_type": "stream",
     "text": [
      "INFO:relative:*** Generating RxnHybridTopologyFactory ***\n",
      "INFO:relative:Beginning nonbonded method, total particle, barostat, and exceptions retrieval...\n",
      "INFO:relative:Old system forces: dict_keys(['HarmonicBondForce', 'HarmonicAngleForce', 'PeriodicTorsionForce', 'NonbondedForce', 'MonteCarloBarostat'])\n",
      "INFO:relative:New system forces: dict_keys(['HarmonicBondForce', 'HarmonicAngleForce', 'PeriodicTorsionForce', 'NonbondedForce', 'MonteCarloBarostat'])\n",
      "INFO:relative:No unknown forces.\n",
      "INFO:relative:Nonbonded method to be used (i.e. from old system): 4\n",
      "INFO:relative:Adding and mapping old atoms to hybrid system...\n",
      "INFO:relative:Adding and mapping new atoms to hybrid system...\n",
      "INFO:relative:scale_templates: [['nonscale_lambda'], ['nonscale_region']]\n",
      "INFO:relative:particle (nonbonded) scale_templates: [['nonscale_lambda'], ['nonscale_region1'], ['nonscale_region2']]\n",
      "INFO:relative:Added MonteCarloBarostat.\n",
      "INFO:relative:getDefaultPeriodicBoxVectors added to hybrid: [Quantity(value=Vec3(x=2.56477354, y=0.0, z=0.0), unit=nanometer), Quantity(value=Vec3(x=0.0, y=2.56477354, z=0.0), unit=nanometer), Quantity(value=Vec3(x=0.0, y=0.0, z=2.56477354), unit=nanometer)]\n",
      "INFO:relative:Determined atom classes.\n",
      "INFO:relative:Generating old system exceptions dict...\n",
      "INFO:relative:Generating new system exceptions dict...\n",
      "INFO:relative:Handling constraints...\n",
      "INFO:relative:Handling virtual sites...\n",
      "INFO:relative:\t_handle_virtual_sites: numVirtualSites: 0\n"
     ]
    }
   ],
   "source": [
    "# Create a htf\n",
    "atp, system_generator = generate_atp(phase = 'solvent')\n",
    "htf = generate_dipeptide_top_pos_sys(atp.topology, \n",
    "                               'THR', \n",
    "                               atp.system, \n",
    "                               atp.positions, \n",
    "                               system_generator,\n",
    "                                rxn_field=True,\n",
    "                               flatten_torsions=True,\n",
    "                               flatten_exceptions=True,\n",
    "                               validate_endstate_energy=False,\n",
    "                                conduct_htf_prop=True)"
   ]
  },
  {
   "cell_type": "code",
   "execution_count": 17,
   "id": "d42924fd",
   "metadata": {},
   "outputs": [],
   "source": [
    "with open(\"atp_solvent.pickle\", \"wb\") as f:\n",
    "    pickle.dump(htf, f)"
   ]
  },
  {
   "cell_type": "markdown",
   "id": "d6ef38ac",
   "metadata": {},
   "source": [
    "### Test one alchemical region, no scale regions"
   ]
  },
  {
   "cell_type": "markdown",
   "id": "5c908dfd",
   "metadata": {},
   "source": [
    "#### Old system HarmonicBondForce vs hybrid system CustomBondForce"
   ]
  },
  {
   "cell_type": "code",
   "execution_count": 27,
   "id": "0033103c",
   "metadata": {},
   "outputs": [],
   "source": [
    "# Load htf\n",
    "with open(\"/home/zhangi/choderalab/perses_benchmark/perses_protein_mutations/code/26_rxn_field/atp_solvent.pickle\", \"rb\") as f:\n",
    "    htf = pickle.load(f)"
   ]
  },
  {
   "cell_type": "code",
   "execution_count": 28,
   "id": "fea5843b",
   "metadata": {},
   "outputs": [
    {
     "name": "stdout",
     "output_type": "stream",
     "text": [
      "Warning: Returning CPU platform instead of requested platform <simtk.openmm.openmm.Platform; proxy of <Swig Object of type 'OpenMM::Platform *' at 0x2ad9a74a1930> >\n",
      "conducting subsequent work with the following platform: CPU\n",
      "conducting subsequent work with the following platform: CUDA\n",
      "[('HarmonicBondForce', 0.034783653565214685), ('HarmonicAngleForce', 0.6112775462129015), ('PeriodicTorsionForce', 16.285398289983082), ('NonbondedForce', -1017.9419702202207), ('AndersenThermostat', 0.0), ('MonteCarloBarostat', 0.0)]\n",
      "conducting subsequent work with the following platform: CUDA\n",
      "[('CustomBondForce', 0.03478365356521381), ('CustomAngleForce', 9.27903555849094), ('CustomTorsionForce', 16.285403285921724), ('AndersenThermostat', 0.0), ('MonteCarloBarostat', 0.0)]\n",
      "Success! Custom bond force and standard bond force energies are equal!\n"
     ]
    }
   ],
   "source": [
    "test_bond_energies(htf, is_solvated=True)"
   ]
  },
  {
   "cell_type": "markdown",
   "id": "dc4b7b1d",
   "metadata": {},
   "source": [
    "#### New system HarmonicBondForce vs hybrid system CustomBondForce"
   ]
  },
  {
   "cell_type": "code",
   "execution_count": 29,
   "id": "9f9cbe99",
   "metadata": {},
   "outputs": [],
   "source": [
    "# Load htf\n",
    "with open(\"/home/zhangi/choderalab/perses_benchmark/perses_protein_mutations/code/26_rxn_field/atp_solvent.pickle\", \"rb\") as f:\n",
    "    htf = pickle.load(f)"
   ]
  },
  {
   "cell_type": "code",
   "execution_count": 30,
   "id": "5c16c96c",
   "metadata": {},
   "outputs": [
    {
     "name": "stdout",
     "output_type": "stream",
     "text": [
      "Warning: Returning CPU platform instead of requested platform <simtk.openmm.openmm.Platform; proxy of <Swig Object of type 'OpenMM::Platform *' at 0x2ad9a74a1930> >\n",
      "conducting subsequent work with the following platform: CPU\n",
      "conducting subsequent work with the following platform: CUDA\n",
      "[('HarmonicBondForce', 2.108235239917542), ('HarmonicAngleForce', 8.824888133365281), ('PeriodicTorsionForce', 25.495955289982533), ('NonbondedForce', -1054.9212696042337), ('AndersenThermostat', 0.0), ('MonteCarloBarostat', 0.0)]\n",
      "conducting subsequent work with the following platform: CUDA\n",
      "[('CustomBondForce', 2.108235239917472), ('CustomAngleForce', 9.27903555849094), ('CustomTorsionForce', 16.285403285921724), ('AndersenThermostat', 0.0), ('MonteCarloBarostat', 0.0)]\n",
      "Success! Custom bond force and standard bond force energies are equal!\n"
     ]
    }
   ],
   "source": [
    "test_bond_energies(htf, is_old=False, is_solvated=True)"
   ]
  },
  {
   "cell_type": "markdown",
   "id": "d907a68d",
   "metadata": {},
   "source": [
    "### Test one alchemical region, one scale region"
   ]
  },
  {
   "cell_type": "code",
   "execution_count": 31,
   "id": "52f50c72",
   "metadata": {
    "scrolled": true
   },
   "outputs": [
    {
     "name": "stderr",
     "output_type": "stream",
     "text": [
      "DEBUG:openmmforcefields.system_generators:Trying GAFFTemplateGenerator to load gaff-2.11\n",
      "INFO:proposal_generator:\tConducting polymer point mutation proposal...\n",
      "INFO:proposal_generator:Using matching_criterion to chose best atom map\n",
      "INFO:proposal_generator:Scaffold has symmetry of 0\n",
      "WARNING:proposal_generator:Two molecules are not similar to have a common scaffold\n",
      "WARNING:proposal_generator:Proceeding with direct mapping of molecules, but please check atom mapping and the geometry of the ligands.\n",
      "INFO:proposal_generator:len [{9: 7}, {10: 7}, {11: 7}, {12: 7}, {13: 7}, {9: 8}, {10: 8}, {11: 8}, {12: 8}, {13: 8}, {9: 9}, {10: 9}, {11: 9}, {12: 9}, {13: 9}]\n",
      "INFO:proposal_generator:{9: 7}\n",
      "INFO:proposal_generator:{10: 7}\n",
      "INFO:proposal_generator:{11: 7}\n",
      "INFO:proposal_generator:{12: 7}\n",
      "INFO:proposal_generator:{13: 7}\n",
      "INFO:proposal_generator:{9: 8}\n",
      "INFO:proposal_generator:{10: 8}\n",
      "INFO:proposal_generator:{11: 8}\n",
      "INFO:proposal_generator:{12: 8}\n",
      "INFO:proposal_generator:{13: 8}\n",
      "INFO:proposal_generator:{9: 9}\n",
      "INFO:proposal_generator:{10: 9}\n",
      "INFO:proposal_generator:{11: 9}\n",
      "INFO:proposal_generator:{12: 9}\n",
      "INFO:proposal_generator:{13: 9}\n",
      "INFO:proposal_generator:Returning map that best satisfies matching_criterion\n",
      "INFO:proposal_generator:Finding best map using matching_criterion name\n",
      "INFO:proposal_generator:{9: 7}\n"
     ]
    },
    {
     "name": "stdout",
     "output_type": "stream",
     "text": [
      "making topology proposal\n"
     ]
    },
    {
     "name": "stderr",
     "output_type": "stream",
     "text": [
      "INFO:geometry:propose: performing forward proposal\n",
      "INFO:geometry:propose: unique new atoms detected; proceeding to _logp_propose...\n",
      "INFO:geometry:Conducting forward proposal...\n",
      "INFO:geometry:Computing proposal order with NetworkX...\n",
      "INFO:geometry:number of atoms to be placed: 8\n",
      "INFO:geometry:Atom index proposal order is [10, 18, 14, 16, 13, 17, 19, 15]\n",
      "INFO:geometry:omitted_bonds: []\n",
      "INFO:geometry:direction of proposal is forward; creating atoms_with_positions and new positions from old system/topology...\n"
     ]
    },
    {
     "name": "stdout",
     "output_type": "stream",
     "text": [
      "generating geometry engine\n",
      "making geometry proposal from ALA to THR\n"
     ]
    },
    {
     "name": "stderr",
     "output_type": "stream",
     "text": [
      "INFO:geometry:creating growth system...\n",
      "INFO:geometry:\tcreating bond force...\n",
      "INFO:geometry:\tthere are 11 bonds in reference force.\n",
      "INFO:geometry:\tcreating angle force...\n",
      "INFO:geometry:\tthere are 43 angles in reference force.\n",
      "INFO:geometry:\tcreating torsion force...\n",
      "INFO:geometry:\tcreating extra torsions force...\n",
      "INFO:geometry:\tthere are 72 torsions in reference force.\n",
      "INFO:geometry:\tcreating nonbonded force...\n",
      "INFO:geometry:\t\tgrabbing reference nonbonded method, cutoff, switching function, switching distance...\n",
      "INFO:geometry:\t\tcreating nonbonded exception force (i.e. custom bond for 1,4s)...\n",
      "INFO:geometry:\t\tlooping through exceptions calculating growth indices, and adding appropriate interactions to custom bond force.\n",
      "INFO:geometry:\t\tthere are 1654 in the reference Nonbonded force\n",
      "WARNING:geometry:\t\t\t\t\tchiral atom <Atom 8 (CA) of chain 0 residue 1 (THR)> with neighbors [<Atom 9 (HA) of chain 0 residue 1 (THR)>, <Atom 10 (CB) of chain 0 residue 1 (THR)>, <Atom 11 (C) of chain 0 residue 1 (THR)>, <Atom 6 (N) of chain 0 residue 1 (THR)>] is surrounded by 3 core neighbors.  omitting chirality bias torsion\n",
      "INFO:geometry:Neglected angle terms : []\n",
      "INFO:geometry:omitted_growth_terms: {'bonds': [], 'angles': [], 'torsions': [], '1,4s': []}\n",
      "INFO:geometry:extra torsions: {0: (7, 6, 8, 10, [1, Quantity(value=0.9900002084555819, unit=radian), Quantity(value=1200.0, unit=kilocalorie/mole), 1]), 1: (19, 18, 10, 8, [1, Quantity(value=-0.07858019216845058, unit=radian), Quantity(value=1200.0, unit=kilocalorie/mole), 7]), 2: (19, 18, 10, 14, [1, Quantity(value=2.118586571250296, unit=radian), Quantity(value=1200.0, unit=kilocalorie/mole), 7]), 3: (19, 18, 10, 13, [1, Quantity(value=-2.149781203448759, unit=radian), Quantity(value=1200.0, unit=kilocalorie/mole), 7]), 4: (8, 10, 14, 17, [1, Quantity(value=-2.1249532223845904, unit=radian), Quantity(value=1200.0, unit=kilocalorie/mole), 6]), 5: (8, 10, 14, 16, [1, Quantity(value=2.0543043017157916, unit=radian), Quantity(value=1200.0, unit=kilocalorie/mole), 4]), 6: (8, 10, 14, 15, [1, Quantity(value=-0.02223392579985184, unit=radian), Quantity(value=1200.0, unit=kilocalorie/mole), 8]), 7: (18, 10, 14, 17, [1, Quantity(value=2.0255587336734213, unit=radian), Quantity(value=1200.0, unit=kilocalorie/mole), 6]), 8: (18, 10, 14, 16, [1, Quantity(value=-0.07836904940578293, unit=radian), Quantity(value=1200.0, unit=kilocalorie/mole), 4]), 9: (18, 10, 14, 15, [1, Quantity(value=-2.154907276921426, unit=radian), Quantity(value=1200.0, unit=kilocalorie/mole), 8]), 10: (13, 10, 14, 17, [1, Quantity(value=0.007583009583349565, unit=radian), Quantity(value=1200.0, unit=kilocalorie/mole), 6]), 11: (13, 10, 14, 16, [1, Quantity(value=-2.096344773495849, unit=radian), Quantity(value=1200.0, unit=kilocalorie/mole), 5]), 12: (13, 10, 14, 15, [1, Quantity(value=2.1103023061680943, unit=radian), Quantity(value=1200.0, unit=kilocalorie/mole), 8]), 13: (18, 10, 8, 14, [1, Quantity(value=-1.0655064807976995, unit=radian), Quantity(value=1200.0, unit=kilocalorie/mole), 3])}\n",
      "INFO:geometry:neglected angle terms include []\n",
      "INFO:geometry:log probability choice of torsions and atom order: -13.371595639480912\n",
      "INFO:geometry:creating platform, integrators, and contexts; setting growth parameter\n"
     ]
    },
    {
     "name": "stdout",
     "output_type": "stream",
     "text": [
      "conducting subsequent work with the following platform: CUDA\n"
     ]
    },
    {
     "name": "stderr",
     "output_type": "stream",
     "text": [
      "INFO:geometry:setting atoms_with_positions context new positions\n"
     ]
    },
    {
     "name": "stdout",
     "output_type": "stream",
     "text": [
      "conducting subsequent work with the following platform: CUDA\n"
     ]
    },
    {
     "name": "stderr",
     "output_type": "stream",
     "text": [
      "INFO:geometry:There are 8 new atoms\n",
      "INFO:geometry:\treduced angle potential = 1.1204003250490482.\n",
      "INFO:geometry:\treduced angle potential = 0.03211724938965377.\n",
      "INFO:geometry:\treduced angle potential = 0.15906736465757834.\n",
      "INFO:geometry:\treduced angle potential = 6.574216714950203e-05.\n",
      "INFO:geometry:\treduced angle potential = 1.143005286976751.\n",
      "INFO:geometry:\treduced angle potential = 0.05434446408137236.\n",
      "INFO:geometry:\treduced angle potential = 0.5652425046180198.\n",
      "INFO:geometry:\treduced angle potential = 2.058412114598746.\n",
      "INFO:geometry:\tbeginning construction of no_nonbonded final system...\n",
      "INFO:geometry:\tinitial no-nonbonded final system forces ['HarmonicBondForce', 'HarmonicAngleForce', 'PeriodicTorsionForce', 'NonbondedForce', 'MonteCarloBarostat']\n",
      "INFO:geometry:\tfinal no-nonbonded final system forces dict_keys(['HarmonicBondForce', 'HarmonicAngleForce', 'PeriodicTorsionForce', 'NonbondedForce'])\n",
      "INFO:geometry:\tthere are 11 bond forces in the no-nonbonded final system\n",
      "INFO:geometry:\tthere are 43 angle forces in the no-nonbonded final system\n",
      "INFO:geometry:\tthere are 72 torsion forces in the no-nonbonded final system\n",
      "INFO:geometry:forward final system defined with 0 neglected angles.\n"
     ]
    },
    {
     "name": "stdout",
     "output_type": "stream",
     "text": [
      "conducting subsequent work with the following platform: CUDA\n",
      "conducting subsequent work with the following platform: CUDA\n"
     ]
    },
    {
     "name": "stderr",
     "output_type": "stream",
     "text": [
      "INFO:geometry:total reduced potential before atom placement: 9.11648114171204\n"
     ]
    },
    {
     "name": "stdout",
     "output_type": "stream",
     "text": [
      "conducting subsequent work with the following platform: CUDA\n",
      "conducting subsequent work with the following platform: CUDA\n",
      "conducting subsequent work with the following platform: CUDA\n"
     ]
    },
    {
     "name": "stderr",
     "output_type": "stream",
     "text": [
      "INFO:geometry:total reduced energy added from growth system: -36.80426148181634\n",
      "INFO:geometry:final reduced energy -27.687782716293853\n",
      "INFO:geometry:sum of energies: -27.6877803401043\n",
      "INFO:geometry:magnitude of difference in the energies: 2.3761895562302016e-06\n",
      "INFO:geometry:Final logp_proposal: 57.49456385279786\n"
     ]
    },
    {
     "name": "stdout",
     "output_type": "stream",
     "text": [
      "added energy components: [('CustomBondForce', 0.8747560475199174), ('CustomAngleForce', 8.990186792345822), ('CustomTorsionForce', 18.763768406371273), ('CustomBondForce', -65.43297272805337)]\n"
     ]
    },
    {
     "name": "stderr",
     "output_type": "stream",
     "text": [
      "INFO:geometry:logp_reverse: performing reverse proposal\n",
      "INFO:geometry:logp_reverse: unique new atoms detected; proceeding to _logp_propose...\n",
      "INFO:geometry:Conducting forward proposal...\n",
      "INFO:geometry:Computing proposal order with NetworkX...\n",
      "INFO:geometry:number of atoms to be placed: 4\n",
      "INFO:geometry:Atom index proposal order is [10, 13, 11, 12]\n",
      "INFO:geometry:omitted_bonds: []\n",
      "INFO:geometry:direction of proposal is reverse; creating atoms_with_positions from old system/topology\n",
      "INFO:geometry:creating growth system...\n",
      "INFO:geometry:\tcreating bond force...\n",
      "INFO:geometry:\tthere are 9 bonds in reference force.\n",
      "INFO:geometry:\tcreating angle force...\n",
      "INFO:geometry:\tthere are 36 angles in reference force.\n",
      "INFO:geometry:\tcreating torsion force...\n",
      "INFO:geometry:\tcreating extra torsions force...\n",
      "INFO:geometry:\tthere are 42 torsions in reference force.\n",
      "INFO:geometry:\tcreating nonbonded force...\n",
      "INFO:geometry:\t\tgrabbing reference nonbonded method, cutoff, switching function, switching distance...\n",
      "INFO:geometry:\t\tcreating nonbonded exception force (i.e. custom bond for 1,4s)...\n",
      "INFO:geometry:\t\tlooping through exceptions calculating growth indices, and adding appropriate interactions to custom bond force.\n",
      "INFO:geometry:\t\tthere are 1631 in the reference Nonbonded force\n",
      "WARNING:geometry:\t\t\t\t\tchiral atom <Atom 8 (CA) of chain 0 residue 1 (ALA)> with neighbors [<Atom 9 (HA) of chain 0 residue 1 (ALA)>, <Atom 10 (CB) of chain 0 residue 1 (ALA)>, <Atom 14 (C) of chain 0 residue 1 (ALA)>, <Atom 6 (N) of chain 0 residue 1 (ALA)>] is surrounded by 3 core neighbors.  omitting chirality bias torsion\n",
      "INFO:geometry:Neglected angle terms : []\n",
      "INFO:geometry:omitted_growth_terms: {'bonds': [], 'angles': [], 'torsions': [], '1,4s': []}\n",
      "INFO:geometry:extra torsions: {0: (7, 6, 8, 10, [1, Quantity(value=0.9799661941737812, unit=radian), Quantity(value=1200.0, unit=kilocalorie/mole), 1]), 1: (6, 8, 10, 11, [1, Quantity(value=2.105358864604291, unit=radian), Quantity(value=1200.0, unit=kilocalorie/mole), 3]), 2: (6, 8, 10, 12, [1, Quantity(value=-2.0823006129211796, unit=radian), Quantity(value=1200.0, unit=kilocalorie/mole), 4]), 3: (6, 8, 10, 13, [1, Quantity(value=0.018582237407944735, unit=radian), Quantity(value=1200.0, unit=kilocalorie/mole), 2]), 4: (14, 8, 10, 11, [1, Quantity(value=-0.036945135932107576, unit=radian), Quantity(value=1200.0, unit=kilocalorie/mole), 3]), 5: (14, 8, 10, 12, [1, Quantity(value=2.0585806937220097, unit=radian), Quantity(value=1200.0, unit=kilocalorie/mole), 4]), 6: (14, 8, 10, 13, [1, Quantity(value=-2.1237217631284597, unit=radian), Quantity(value=1200.0, unit=kilocalorie/mole), 2]), 7: (9, 8, 10, 11, [1, Quantity(value=-2.119603470065817, unit=radian), Quantity(value=1200.0, unit=kilocalorie/mole), 3]), 8: (9, 8, 10, 12, [1, Quantity(value=-0.024077640411697132, unit=radian), Quantity(value=1200.0, unit=kilocalorie/mole), 4]), 9: (9, 8, 10, 13, [1, Quantity(value=2.0768052099174152, unit=radian), Quantity(value=1200.0, unit=kilocalorie/mole), 2])}\n",
      "INFO:geometry:neglected angle terms include []\n",
      "INFO:geometry:log probability choice of torsions and atom order: -5.78074351579233\n",
      "INFO:geometry:creating platform, integrators, and contexts; setting growth parameter\n"
     ]
    },
    {
     "name": "stdout",
     "output_type": "stream",
     "text": [
      "conducting subsequent work with the following platform: CUDA\n"
     ]
    },
    {
     "name": "stderr",
     "output_type": "stream",
     "text": [
      "INFO:geometry:setting atoms_with_positions context old positions\n"
     ]
    },
    {
     "name": "stdout",
     "output_type": "stream",
     "text": [
      "conducting subsequent work with the following platform: CUDA\n"
     ]
    },
    {
     "name": "stderr",
     "output_type": "stream",
     "text": [
      "INFO:geometry:There are 4 new atoms\n",
      "INFO:geometry:\treduced angle potential = 0.3517324280898812.\n",
      "INFO:geometry:\treduced angle potential = 7.39096069988752e-11.\n",
      "INFO:geometry:\treduced angle potential = 1.2915588460963948e-10.\n",
      "INFO:geometry:\treduced angle potential = 3.205832446488702e-13.\n",
      "INFO:geometry:\tbeginning construction of no_nonbonded final system...\n",
      "INFO:geometry:\tinitial no-nonbonded final system forces ['HarmonicBondForce', 'HarmonicAngleForce', 'PeriodicTorsionForce', 'NonbondedForce', 'MonteCarloBarostat']\n",
      "INFO:geometry:\tfinal no-nonbonded final system forces dict_keys(['HarmonicBondForce', 'HarmonicAngleForce', 'PeriodicTorsionForce', 'NonbondedForce'])\n",
      "INFO:geometry:\tthere are 9 bond forces in the no-nonbonded final system\n",
      "INFO:geometry:\tthere are 36 angle forces in the no-nonbonded final system\n",
      "INFO:geometry:\tthere are 42 torsion forces in the no-nonbonded final system\n",
      "INFO:geometry:reverse final system defined with 0 neglected angles.\n"
     ]
    },
    {
     "name": "stdout",
     "output_type": "stream",
     "text": [
      "conducting subsequent work with the following platform: CUDA\n",
      "conducting subsequent work with the following platform: CUDA\n"
     ]
    },
    {
     "name": "stderr",
     "output_type": "stream",
     "text": [
      "INFO:geometry:total reduced potential before atom placement: 9.11648114171204\n"
     ]
    },
    {
     "name": "stdout",
     "output_type": "stream",
     "text": [
      "conducting subsequent work with the following platform: CUDA\n",
      "conducting subsequent work with the following platform: CUDA\n",
      "conducting subsequent work with the following platform: CUDA\n"
     ]
    },
    {
     "name": "stderr",
     "output_type": "stream",
     "text": [
      "INFO:geometry:total reduced energy added from growth system: 20.672986672125617\n",
      "INFO:geometry:final reduced energy 29.78946596595156\n",
      "INFO:geometry:sum of energies: 29.789467813837657\n",
      "INFO:geometry:magnitude of difference in the energies: 1.8478860965842614e-06\n",
      "INFO:geometry:Final logp_proposal: -26852.09238988592\n"
     ]
    },
    {
     "name": "stdout",
     "output_type": "stream",
     "text": [
      "added energy components: [('CustomBondForce', 0.000520203927326505), ('CustomAngleForce', 0.4511197756248138), ('CustomTorsionForce', 7.250463328533253), ('CustomBondForce', 12.970883364040223)]\n"
     ]
    },
    {
     "name": "stderr",
     "output_type": "stream",
     "text": [
      "INFO:relative:*** Generating RxnHybridTopologyFactory ***\n",
      "INFO:relative:Beginning nonbonded method, total particle, barostat, and exceptions retrieval...\n",
      "INFO:relative:Old system forces: dict_keys(['HarmonicBondForce', 'HarmonicAngleForce', 'PeriodicTorsionForce', 'NonbondedForce', 'MonteCarloBarostat'])\n",
      "INFO:relative:New system forces: dict_keys(['HarmonicBondForce', 'HarmonicAngleForce', 'PeriodicTorsionForce', 'NonbondedForce', 'MonteCarloBarostat'])\n",
      "INFO:relative:No unknown forces.\n",
      "INFO:relative:Nonbonded method to be used (i.e. from old system): 4\n",
      "INFO:relative:Adding and mapping old atoms to hybrid system...\n",
      "INFO:relative:Adding and mapping new atoms to hybrid system...\n",
      "INFO:relative:scale_templates: [['nonscale_lambda', 'scale_lambda_0', 'interscale_lambda_0'], ['nonscale_region', 'scale_region_0', 'interscale_region_0']]\n",
      "INFO:relative:particle (nonbonded) scale_templates: [['nonscale_lambda', 'scale_lambda_0'], ['nonscale_region1', 'scale_region_01'], ['nonscale_region2', 'scale_region_02']]\n",
      "INFO:relative:Added MonteCarloBarostat.\n",
      "INFO:relative:getDefaultPeriodicBoxVectors added to hybrid: [Quantity(value=Vec3(x=2.56477354, y=0.0, z=0.0), unit=nanometer), Quantity(value=Vec3(x=0.0, y=2.56477354, z=0.0), unit=nanometer), Quantity(value=Vec3(x=0.0, y=0.0, z=2.56477354), unit=nanometer)]\n",
      "INFO:relative:Determined atom classes.\n",
      "INFO:relative:Generating old system exceptions dict...\n",
      "INFO:relative:Generating new system exceptions dict...\n",
      "INFO:relative:Handling constraints...\n",
      "INFO:relative:Handling virtual sites...\n",
      "INFO:relative:\t_handle_virtual_sites: numVirtualSites: 0\n"
     ]
    }
   ],
   "source": [
    "# Create a htf\n",
    "atp, system_generator = generate_atp(phase = 'solvent')\n",
    "htf = generate_dipeptide_top_pos_sys(atp.topology, \n",
    "                               'THR', \n",
    "                               atp.system, \n",
    "                               atp.positions, \n",
    "                               system_generator,\n",
    "                                rxn_field=True,\n",
    "                               flatten_torsions=True,\n",
    "                               flatten_exceptions=True,\n",
    "                               validate_endstate_energy=False,\n",
    "                                conduct_htf_prop=True, \n",
    "                                scale_regions=[[10, 11, 12, 13, 1557, 1558, 1559, 1560, 1561, 1562, 1563, 1564]])"
   ]
  },
  {
   "cell_type": "code",
   "execution_count": 32,
   "id": "d6546cfb",
   "metadata": {},
   "outputs": [],
   "source": [
    "with open(\"atp_solvent_scale_region.pickle\", \"wb\") as f:\n",
    "    pickle.dump(htf, f)"
   ]
  },
  {
   "cell_type": "markdown",
   "id": "3576b206",
   "metadata": {},
   "source": [
    "#### Old system HarmonicBondForce vs hybrid system CustomBondForce"
   ]
  },
  {
   "cell_type": "code",
   "execution_count": 5,
   "id": "f714b6e7",
   "metadata": {},
   "outputs": [],
   "source": [
    "# Load htf\n",
    "with open(\"/home/zhangi/choderalab/perses_benchmark/perses_protein_mutations/code/26_rxn_field/atp_solvent_scale_region.pickle\", \"rb\") as f:\n",
    "    htf = pickle.load(f)"
   ]
  },
  {
   "cell_type": "code",
   "execution_count": 6,
   "id": "208e8a4a",
   "metadata": {},
   "outputs": [
    {
     "data": {
      "text/plain": [
       "'( nonscale_lambda_bonds * nonscale_region+scale_lambda_0_bonds * scale_region_0+interscale_lambda_0_bonds * interscale_region_0 ) * (K/2)*(r-length)^2;K = ( 1 * environment_region+lambda_0_bonds_old * alchemical_region_0 ) * K1 + ( 1 * environment_region+lambda_0_bonds_new * alchemical_region_0 ) * K2;length = ( 1 * environment_region+lambda_0_bonds_old * alchemical_region_0 ) * length1 + ( 1 * environment_region+lambda_0_bonds_new * alchemical_region_0 ) * length2;'"
      ]
     },
     "execution_count": 6,
     "metadata": {},
     "output_type": "execute_result"
    }
   ],
   "source": [
    "htf.hybrid_system.getForce(0).getEnergyFunction()"
   ]
  },
  {
   "cell_type": "code",
   "execution_count": 34,
   "id": "fca19e10",
   "metadata": {},
   "outputs": [
    {
     "data": {
      "text/plain": [
       "[10, 11, 12, 13, 1557, 1558, 1559, 1560, 1561, 1562, 1563, 1564]"
      ]
     },
     "execution_count": 34,
     "metadata": {},
     "output_type": "execute_result"
    }
   ],
   "source": [
    "# This is the scale region\n",
    "list(htf._atom_classes['unique_old_atoms'][0]) + list(htf._atom_classes['unique_new_atoms'][0])"
   ]
  },
  {
   "cell_type": "code",
   "execution_count": 35,
   "id": "479adca5",
   "metadata": {},
   "outputs": [
    {
     "name": "stdout",
     "output_type": "stream",
     "text": [
      "Warning: Returning CPU platform instead of requested platform <simtk.openmm.openmm.Platform; proxy of <Swig Object of type 'OpenMM::Platform *' at 0x2ad9a74a1930> >\n",
      "conducting subsequent work with the following platform: CPU\n",
      "conducting subsequent work with the following platform: CUDA\n",
      "[('HarmonicBondForce', 0.034783653565214685), ('HarmonicAngleForce', 0.6112775462129015), ('PeriodicTorsionForce', 16.285398289983082), ('NonbondedForce', -995.1493033223794), ('AndersenThermostat', 0.0), ('MonteCarloBarostat', 0.0)]\n",
      "conducting subsequent work with the following platform: CUDA\n",
      "[('CustomBondForce', 0.03478365356521381), ('CustomAngleForce', 9.661801162668427), ('CustomTorsionForce', 16.285403285921724), ('AndersenThermostat', 0.0), ('MonteCarloBarostat', 0.0)]\n",
      "Success! Custom bond force and standard bond force energies are equal!\n"
     ]
    }
   ],
   "source": [
    "test_bond_energies(htf, is_solvated=True)"
   ]
  },
  {
   "cell_type": "markdown",
   "id": "2e0b009a",
   "metadata": {},
   "source": [
    "#### New system HarmonicBondForce vs hybrid system CustomBondForce"
   ]
  },
  {
   "cell_type": "code",
   "execution_count": 50,
   "id": "a1d202a2",
   "metadata": {},
   "outputs": [],
   "source": [
    "# Load htf\n",
    "with open(\"/home/zhangi/choderalab/perses_benchmark/perses_protein_mutations/code/26_rxn_field/atp_solvent_scale_region.pickle\", \"rb\") as f:\n",
    "    htf = pickle.load(f)"
   ]
  },
  {
   "cell_type": "code",
   "execution_count": 37,
   "id": "3d6aaf36",
   "metadata": {},
   "outputs": [
    {
     "name": "stdout",
     "output_type": "stream",
     "text": [
      "Warning: Returning CPU platform instead of requested platform <simtk.openmm.openmm.Platform; proxy of <Swig Object of type 'OpenMM::Platform *' at 0x2ad9a74a1930> >\n",
      "conducting subsequent work with the following platform: CPU\n",
      "conducting subsequent work with the following platform: CUDA\n",
      "[('HarmonicBondForce', 0.9148868518127816), ('HarmonicAngleForce', 9.207653737542962), ('PeriodicTorsionForce', 27.875973709878817), ('NonbondedForce', -940.6669304074791), ('AndersenThermostat', 0.0), ('MonteCarloBarostat', 0.0)]\n",
      "conducting subsequent work with the following platform: CUDA\n",
      "[('CustomBondForce', 0.9148868518127886), ('CustomAngleForce', 9.661801162668427), ('CustomTorsionForce', 16.285403285921724), ('AndersenThermostat', 0.0), ('MonteCarloBarostat', 0.0)]\n",
      "Success! Custom bond force and standard bond force energies are equal!\n"
     ]
    }
   ],
   "source": [
    "test_bond_energies(htf, is_old=False, is_solvated=True)"
   ]
  },
  {
   "cell_type": "code",
   "execution_count": null,
   "id": "95bc995d",
   "metadata": {},
   "outputs": [],
   "source": []
  },
  {
   "cell_type": "markdown",
   "id": "dd3a6ebd",
   "metadata": {},
   "source": [
    "# CDK2 transformation in solvent"
   ]
  },
  {
   "cell_type": "code",
   "execution_count": 4,
   "id": "0007ff9b",
   "metadata": {},
   "outputs": [
    {
     "name": "stdout",
     "output_type": "stream",
     "text": [
      "conducting subsequent work with the following platform: CUDA\n",
      "conducting subsequent work with the following platform: CUDA\n",
      "conducting subsequent work with the following platform: CUDA\n"
     ]
    }
   ],
   "source": [
    "import os\n",
    "from pkg_resources import resource_filename\n",
    "from perses.app import setup_relative_calculation\n",
    "import pickle"
   ]
  },
  {
   "cell_type": "code",
   "execution_count": 5,
   "id": "afad5b52",
   "metadata": {
    "scrolled": true
   },
   "outputs": [
    {
     "name": "stderr",
     "output_type": "stream",
     "text": [
      "2021-07-14 16:27:57,425:(0.00s):root:\tDetecting phases...\n",
      "2021-07-14 16:27:57,428:(0.00s):root:\t\tphases detected: ['complex', 'solvent', 'vacuum']\n",
      "2021-07-14 16:27:57,430:(0.00s):root:No constraints will be removed\n",
      "2021-07-14 16:27:57,433:(0.00s):root:No spectators\n",
      "2021-07-14 16:27:57,435:(0.00s):root:\t\t\trun_type is not specified; default to None\n",
      "2021-07-14 16:27:57,438:(0.00s):root:\tDetecting fe_type...\n",
      "2021-07-14 16:27:57,440:(0.00s):root:\t\tfe_type: repex\n",
      "2021-07-14 16:27:57,442:(0.00s):root:\t\t\toffline-freq not specified: default to 10.\n",
      "2021-07-14 16:27:57,445:(0.00s):root:\t'neglect_angles' detected: False.\n",
      "2021-07-14 16:27:57,447:(0.00s):root:\t'softcore_v2' not specified: default to 'False'\n",
      "2021-07-14 16:27:57,450:(0.00s):root:\tCreating 'output'...\n",
      "2021-07-14 16:27:57,454:(0.00s):root:\tdetected ligand file: /home/zhangi/miniconda3/envs/perses-rxn-field/lib/python3.8/site-packages/perses-0.9.0+78.gee97a4e.dirty-py3.8.egg/perses/data/cdk2-example/CDK2_ligands.sdf\n",
      "2021-07-14 16:27:57,455:(0.00s):root:\told ligand index: 14; new ligand index: 15\n",
      "2021-07-14 16:27:57,456:(0.00s):root:\tsetting up forcefield files...\n",
      "2021-07-14 16:27:57,457:(0.00s):root:\tno timestep detected: setting default as 1.0fs.\n",
      "2021-07-14 16:27:57,458:(0.00s):root:\tno splitting strings specified: defaulting to neq: V R O R V, eq: V R O R V.\n",
      "2021-07-14 16:27:57,459:(0.00s):root:\tno measure_shadow_work specified: defaulting to False.\n",
      "2021-07-14 16:27:57,460:(0.00s):root:\tsetting pressure: 1.0 atm.\n",
      "2021-07-14 16:27:57,469:(0.01s):root:\tsetting temperature: 300.0 K.\n",
      "2021-07-14 16:27:57,471:(0.00s):root:\tsetting solvent padding: 9.0 AA.\n",
      "2021-07-14 16:27:57,471:(0.00s):root:\tsetting ionic strength: 0.15 MM.\n",
      "2021-07-14 16:27:57,472:(0.00s):root:\tsetup pickle file: fesetup_hbonds.pkl\n",
      "2021-07-14 16:27:57,473:(0.00s):root:\ttrajectory directory: output\n",
      "2021-07-14 16:27:57,474:(0.00s):root:\tno atom map specified: default to None.\n",
      "2021-07-14 16:27:57,475:(0.00s):root:\tno topology_proposal specified; proceeding to RelativeFEPSetup...\n",
      "\n",
      "\n",
      "\n",
      "2021-07-14 16:27:57,476:(0.00s):root:Box dimensions: None and None\n",
      "2021-07-14 16:27:57,476:(0.00s):relative_setup:\t\t\t_hmass: 4 Da.\n",
      "\n",
      "2021-07-14 16:27:57,477:(0.00s):relative_setup:Setting non bonded method to PME\n",
      "2021-07-14 16:27:57,478:(0.00s):relative_setup:Handling files for ligands and indices...\n",
      "2021-07-14 16:27:57,479:(0.00s):relative_setup:Detected .sdf format.  Proceeding...\n",
      "2021-07-14 16:27:57,494:(0.01s):utils.openeye:molecule 17                      does not have unique atom names. Generating now...\n",
      "2021-07-14 16:27:57,502:(0.01s):utils.openeye:molecule 1h1q                      does not have unique atom names. Generating now...\n",
      "2021-07-14 16:27:57,519:(0.02s):relative_setup:\tsuccessfully extracted positions from OEMOL.\n",
      "2021-07-14 16:27:57,521:(0.00s):relative_setup:\tsetting both molecule oemol titles to 'MOL'.\n",
      "2021-07-14 16:27:57,522:(0.00s):relative_setup:\tsuccessfully created SMILES for both ligand OEMOLs.\n",
      "2021-07-14 16:27:57,525:(0.00s):relative_setup:\tsuccessfully generated topologies for both OEMOLs.\n",
      "2021-07-14 16:27:57,527:(0.00s):relative_setup:Created mdtraj topologies for both ligands.\n",
      "2021-07-14 16:27:57,529:(0.00s):relative_setup:set MonteCarloBarostat because pressure was specified as 1.0 atm atmospheres\n",
      "2021-07-14 16:27:57,559:(0.03s):relative_setup:PME tolerance: 0.00025\n",
      "2021-07-14 16:27:57,796:(0.24s):relative_setup:successfully created SystemGenerator to create ligand systems\n",
      "2021-07-14 16:27:57,799:(0.00s):relative_setup:executing SmallMoleculeSetProposalEngine...\n",
      "2021-07-14 16:27:57,803:(0.00s):relative_setup:instantiating FFAllAngleGeometryEngine...\n",
      "2021-07-14 16:27:57,806:(0.00s):relative_setup:Detected solvent...\n",
      "2021-07-14 16:27:57,808:(0.00s):relative_setup:no complex detected in phases...generating unique topology/geometry proposals...\n",
      "2021-07-14 16:27:57,810:(0.00s):relative_setup:solvating ligand...\n",
      "2021-07-14 16:27:57,813:(0.00s):relative_setup:box_dimensions: None\n",
      "2021-07-14 16:27:57,815:(0.00s):relative_setup:solvent padding: 9.0\n",
      "2021-07-14 16:27:57,817:(0.00s):relative_setup:\tpreparing to add solvent\n",
      "2021-07-14 16:27:58,337:(0.52s):openmmforcefields.generators.template_generators:Requested to generate parameters for residue <Residue 0 (MOL) of chain 0>\n",
      "2021-07-14 16:27:58,708:(0.37s):relative_setup:\tparameterizing...\n",
      "2021-07-14 16:27:59,057:(0.35s):relative_setup:\tSystem parameterized\n",
      "2021-07-14 16:27:59,128:(0.07s):relative_setup:creating TopologyProposal\n",
      "2021-07-14 16:27:59,131:(0.00s):proposal_generator:creating current receptor topology by removing small molecule from current topology...\n",
      "2021-07-14 16:27:59,147:(0.02s):proposal_generator:small molecule start index: 0\n",
      "2021-07-14 16:27:59,150:(0.00s):proposal_generator:small molecule has 45 atoms.\n",
      "2021-07-14 16:27:59,152:(0.00s):proposal_generator:old alchemical atom indices: range(0, 45)\n",
      "2021-07-14 16:27:59,155:(0.00s):proposal_generator:proposed mol detected with smiles [H]c1c(c(c(c(c1[H])[H])N([H])c2nc3c(c(n2)OC([H])([H])C4(C(C(C(C(C4([H])[H])([H])[H])([H])[H])([H])[H])([H])[H])[H])nc(n3[H])[H])[H])[H] and logp_proposal of 0.0\n",
      "2021-07-14 16:27:59,157:(0.00s):proposal_generator:conducting proposal from [H]c1c(c(c(c(c1[H])Br)[H])N([H])c2nc3c(c(n2)OC([H])([H])C4(C(C(C(C(C4([H])[H])([H])[H])([H])[H])([H])[H])([H])[H])[H])nc(n3[H])[H])[H] to [H]c1c(c(c(c(c1[H])[H])N([H])c2nc3c(c(n2)OC([H])([H])C4(C(C(C(C(C4([H])[H])([H])[H])([H])[H])([H])[H])([H])[H])[H])nc(n3[H])[H])[H])[H]...\n",
      "2021-07-14 16:27:59,159:(0.00s):proposal_generator:building new topology with proposed molecule and current receptor topology...\n",
      "2021-07-14 16:27:59,162:(0.00s):proposal_generator:\tsetting proposed oemol title to MOL\n",
      "2021-07-14 16:27:59,164:(0.00s):proposal_generator:\tcreating mol topology from oemol...\n",
      "2021-07-14 16:27:59,168:(0.00s):proposal_generator:\tappending current receptor topology to new mol topology...\n",
      "2021-07-14 16:27:59,345:(0.18s):proposal_generator:\tperiodic box vectors of the current receptor is specified; copying to new topology...\n",
      "2021-07-14 16:27:59,349:(0.00s):proposal_generator:new molecule has a start index of 2152 and 45 atoms.\n",
      "2021-07-14 16:27:59,351:(0.00s):proposal_generator:proceeding to build the new system from the new topology...\n",
      "2021-07-14 16:27:59,399:(0.05s):openmmforcefields.generators.template_generators:Requested to generate parameters for residue <Residue 720 (MOL) of chain 3>\n",
      "2021-07-14 16:27:59,744:(0.35s):proposal_generator:determining atom map between old and new molecules...\n",
      "2021-07-14 16:27:59,747:(0.00s):proposal_generator:the atom map is not specified; proceeding to generate an atom map...\n",
      "2021-07-14 16:27:59,750:(0.00s):proposal_generator:Using geometry to chose best atom map\n",
      "2021-07-14 16:27:59,766:(0.02s):proposal_generator:Scaffold has symmetry of 4\n",
      "2021-07-14 16:27:59,769:(0.00s):proposal_generator:There are 4 before filtering\n",
      "2021-07-14 16:27:59,771:(0.00s):proposal_generator:There are 4 after filtering to remove maps with fewer matches than 24 atoms\n",
      "2021-07-14 16:27:59,779:(0.01s):proposal_generator:1 scaffold maps for A\n",
      "2021-07-14 16:27:59,781:(0.00s):proposal_generator:Scaffold to molA: {0: 0, 1: 1, 2: 2, 3: 3, 8: 4, 7: 5, 6: 6, 5: 7, 4: 8, 11: 9, 10: 10, 9: 11, 23: 12, 13: 13, 14: 14, 15: 15, 16: 16, 17: 17, 18: 18, 19: 19, 20: 20, 21: 21, 22: 22, 12: 23}\n",
      "2021-07-14 16:27:59,789:(0.01s):proposal_generator:1 scaffold maps for B\n",
      "2021-07-14 16:27:59,792:(0.00s):proposal_generator:Scaffold to molB: {0: 0, 1: 1, 2: 2, 3: 3, 8: 4, 7: 5, 6: 6, 5: 7, 4: 8, 11: 9, 10: 10, 9: 11, 23: 12, 13: 13, 14: 14, 15: 15, 16: 16, 17: 17, 18: 18, 19: 19, 20: 20, 21: 21, 22: 22, 12: 23}\n",
      "2021-07-14 16:28:02,896:(3.10s):proposal_generator:4 maps are reduced to 1\n",
      "2021-07-14 16:28:02,899:(0.00s):proposal_generator:molecule_maps_scores: dict_keys([19.8560123167367])\n",
      "2021-07-14 16:28:02,901:(0.00s):proposal_generator:Returning map with closest geometry satisfaction\n",
      "2021-07-14 16:28:03,101:(0.20s):proposal_generator:Proposed transformation would delete 1 atoms and create 1 atoms.\n",
      "2021-07-14 16:28:03,104:(0.00s):relative_setup:conducting geometry proposal...\n",
      "2021-07-14 16:28:03,107:(0.00s):geometry:propose: performing forward proposal\n",
      "2021-07-14 16:28:03,110:(0.00s):geometry:propose: unique new atoms detected; proceeding to _logp_propose...\n"
     ]
    },
    {
     "name": "stderr",
     "output_type": "stream",
     "text": [
      "2021-07-14 16:28:03,112:(0.00s):geometry:Conducting forward proposal...\n",
      "2021-07-14 16:28:03,114:(0.00s):geometry:Computing proposal order with NetworkX...\n",
      "2021-07-14 16:28:03,132:(0.02s):geometry:number of atoms to be placed: 1\n",
      "2021-07-14 16:28:03,135:(0.00s):geometry:Atom index proposal order is [2190]\n",
      "2021-07-14 16:28:03,137:(0.00s):geometry:omitted_bonds: []\n",
      "2021-07-14 16:28:03,140:(0.00s):geometry:direction of proposal is forward; creating atoms_with_positions and new positions from old system/topology...\n",
      "2021-07-14 16:28:03,461:(0.32s):geometry:creating growth system...\n",
      "2021-07-14 16:28:03,541:(0.08s):geometry:\tcreating bond force...\n",
      "2021-07-14 16:28:03,544:(0.00s):geometry:\tthere are 27 bonds in reference force.\n",
      "2021-07-14 16:28:03,547:(0.00s):geometry:\tcreating angle force...\n",
      "2021-07-14 16:28:03,549:(0.00s):geometry:\tthere are 85 angles in reference force.\n",
      "2021-07-14 16:28:03,554:(0.00s):geometry:\tcreating torsion force...\n",
      "2021-07-14 16:28:03,556:(0.00s):geometry:\tcreating extra torsions force...\n",
      "2021-07-14 16:28:03,558:(0.00s):geometry:\tthere are 157 torsions in reference force.\n",
      "2021-07-14 16:28:03,563:(0.00s):geometry:\tcreating nonbonded force...\n",
      "2021-07-14 16:28:03,565:(0.00s):geometry:\t\tgrabbing reference nonbonded method, cutoff, switching function, switching distance...\n",
      "2021-07-14 16:28:03,567:(0.00s):geometry:\t\tcreating nonbonded exception force (i.e. custom bond for 1,4s)...\n",
      "2021-07-14 16:28:03,570:(0.00s):geometry:\t\tlooping through exceptions calculating growth indices, and adding appropriate interactions to custom bond force.\n",
      "2021-07-14 16:28:03,572:(0.00s):geometry:\t\tthere are 2395 in the reference Nonbonded force\n",
      "2021-07-14 16:28:03,667:(0.10s):geometry:Neglected angle terms : []\n",
      "2021-07-14 16:28:03,670:(0.00s):geometry:omitted_growth_terms: {'bonds': [], 'angles': [], 'torsions': [], '1,4s': []}\n",
      "2021-07-14 16:28:03,673:(0.00s):geometry:extra torsions: {0: (2190, 2161, 2162, 2163, [1, Quantity(value=-0.019594642035228205, unit=radian), Quantity(value=1200.0, unit=kilocalorie/mole), 1]), 1: (2190, 2161, 2162, 2191, [1, Quantity(value=-3.1361896196768977, unit=radian), Quantity(value=1200.0, unit=kilocalorie/mole), 1]), 2: (2190, 2161, 2175, 2174, [1, Quantity(value=-0.008871224163264912, unit=radian), Quantity(value=1200.0, unit=kilocalorie/mole), 1]), 3: (2190, 2161, 2175, 2196, [1, Quantity(value=3.1405837865634907, unit=radian), Quantity(value=1200.0, unit=kilocalorie/mole), 1])}\n",
      "2021-07-14 16:28:03,675:(0.00s):geometry:neglected angle terms include []\n",
      "2021-07-14 16:28:03,678:(0.00s):geometry:log probability choice of torsions and atom order: -1.3862943611198906\n",
      "2021-07-14 16:28:03,680:(0.00s):geometry:creating platform, integrators, and contexts; setting growth parameter\n"
     ]
    },
    {
     "name": "stdout",
     "output_type": "stream",
     "text": [
      "conducting subsequent work with the following platform: CUDA\n"
     ]
    },
    {
     "name": "stderr",
     "output_type": "stream",
     "text": [
      "2021-07-14 16:28:04,273:(0.59s):geometry:setting atoms_with_positions context new positions\n"
     ]
    },
    {
     "name": "stdout",
     "output_type": "stream",
     "text": [
      "conducting subsequent work with the following platform: CUDA\n"
     ]
    },
    {
     "name": "stderr",
     "output_type": "stream",
     "text": [
      "2021-07-14 16:28:04,734:(0.46s):geometry:There are 1 new atoms\n",
      "2021-07-14 16:28:04,748:(0.01s):geometry:\treduced angle potential = 1.1956858233729923.\n",
      "2021-07-14 16:28:04,907:(0.16s):geometry:\tbeginning construction of no_nonbonded final system...\n",
      "2021-07-14 16:28:04,911:(0.00s):geometry:\tinitial no-nonbonded final system forces ['HarmonicBondForce', 'HarmonicAngleForce', 'PeriodicTorsionForce', 'NonbondedForce', 'MonteCarloBarostat']\n",
      "2021-07-14 16:28:05,136:(0.23s):geometry:\tfinal no-nonbonded final system forces dict_keys(['HarmonicBondForce', 'HarmonicAngleForce', 'PeriodicTorsionForce', 'NonbondedForce'])\n",
      "2021-07-14 16:28:05,139:(0.00s):geometry:\tthere are 27 bond forces in the no-nonbonded final system\n",
      "2021-07-14 16:28:05,141:(0.00s):geometry:\tthere are 85 angle forces in the no-nonbonded final system\n",
      "2021-07-14 16:28:05,144:(0.00s):geometry:\tthere are 157 torsion forces in the no-nonbonded final system\n",
      "2021-07-14 16:28:05,146:(0.00s):geometry:forward final system defined with 0 neglected angles.\n"
     ]
    },
    {
     "name": "stdout",
     "output_type": "stream",
     "text": [
      "conducting subsequent work with the following platform: CUDA\n",
      "conducting subsequent work with the following platform: CUDA\n"
     ]
    },
    {
     "name": "stderr",
     "output_type": "stream",
     "text": [
      "2021-07-14 16:28:06,321:(1.17s):geometry:total reduced potential before atom placement: 48.41967204742058\n"
     ]
    },
    {
     "name": "stdout",
     "output_type": "stream",
     "text": [
      "conducting subsequent work with the following platform: CUDA\n",
      "conducting subsequent work with the following platform: CUDA\n",
      "conducting subsequent work with the following platform: CUDA\n"
     ]
    },
    {
     "name": "stderr",
     "output_type": "stream",
     "text": [
      "2021-07-14 16:28:07,692:(1.37s):geometry:total reduced energy added from growth system: 10.18402520885569\n",
      "2021-07-14 16:28:07,696:(0.00s):geometry:final reduced energy 58.60369828043817\n",
      "2021-07-14 16:28:07,698:(0.00s):geometry:sum of energies: 58.60369725627628\n",
      "2021-07-14 16:28:07,701:(0.00s):geometry:magnitude of difference in the energies: 1.0241618930706409e-06\n",
      "2021-07-14 16:28:07,703:(0.00s):geometry:Final logp_proposal: 7.265346493368222\n"
     ]
    },
    {
     "name": "stdout",
     "output_type": "stream",
     "text": [
      "added energy components: [('CustomBondForce', 0.0), ('CustomAngleForce', 2.236261032740612), ('CustomTorsionForce', 0.006143656330072569), ('CustomBondForce', 7.941620519785007)]\n"
     ]
    },
    {
     "name": "stderr",
     "output_type": "stream",
     "text": [
      "2021-07-14 16:28:07,860:(0.16s):geometry:logp_reverse: performing reverse proposal\n",
      "2021-07-14 16:28:07,863:(0.00s):geometry:logp_reverse: unique new atoms detected; proceeding to _logp_propose...\n",
      "2021-07-14 16:28:07,865:(0.00s):geometry:Conducting forward proposal...\n",
      "2021-07-14 16:28:07,868:(0.00s):geometry:Computing proposal order with NetworkX...\n",
      "2021-07-14 16:28:07,886:(0.02s):geometry:number of atoms to be placed: 1\n",
      "2021-07-14 16:28:07,889:(0.00s):geometry:Atom index proposal order is [44]\n",
      "2021-07-14 16:28:07,891:(0.00s):geometry:omitted_bonds: []\n",
      "2021-07-14 16:28:07,894:(0.00s):geometry:direction of proposal is reverse; creating atoms_with_positions from old system/topology\n",
      "2021-07-14 16:28:08,322:(0.43s):geometry:creating growth system...\n",
      "2021-07-14 16:28:08,400:(0.08s):geometry:\tcreating bond force...\n",
      "2021-07-14 16:28:08,403:(0.00s):geometry:\tthere are 28 bonds in reference force.\n",
      "2021-07-14 16:28:08,406:(0.00s):geometry:\tcreating angle force...\n",
      "2021-07-14 16:28:08,409:(0.00s):geometry:\tthere are 85 angles in reference force.\n",
      "2021-07-14 16:28:08,413:(0.00s):geometry:\tcreating torsion force...\n",
      "2021-07-14 16:28:08,415:(0.00s):geometry:\tcreating extra torsions force...\n",
      "2021-07-14 16:28:08,418:(0.00s):geometry:\tthere are 157 torsions in reference force.\n",
      "2021-07-14 16:28:08,422:(0.00s):geometry:\tcreating nonbonded force...\n",
      "2021-07-14 16:28:08,425:(0.00s):geometry:\t\tgrabbing reference nonbonded method, cutoff, switching function, switching distance...\n",
      "2021-07-14 16:28:08,427:(0.00s):geometry:\t\tcreating nonbonded exception force (i.e. custom bond for 1,4s)...\n",
      "2021-07-14 16:28:08,429:(0.00s):geometry:\t\tlooping through exceptions calculating growth indices, and adding appropriate interactions to custom bond force.\n",
      "2021-07-14 16:28:08,432:(0.00s):geometry:\t\tthere are 2395 in the reference Nonbonded force\n",
      "2021-07-14 16:28:08,528:(0.10s):geometry:Neglected angle terms : []\n",
      "2021-07-14 16:28:08,531:(0.00s):geometry:omitted_growth_terms: {'bonds': [], 'angles': [], 'torsions': [], '1,4s': []}\n",
      "2021-07-14 16:28:08,533:(0.00s):geometry:extra torsions: {0: (9, 10, 11, 44, [1, Quantity(value=0.017128570696415935, unit=radian), Quantity(value=1200.0, unit=kilocalorie/mole), 1]), 1: (39, 10, 11, 44, [1, Quantity(value=3.1337857477223063, unit=radian), Quantity(value=1200.0, unit=kilocalorie/mole), 1]), 2: (44, 11, 12, 22, [1, Quantity(value=0.00863885124394681, unit=radian), Quantity(value=1200.0, unit=kilocalorie/mole), 1]), 3: (44, 11, 12, 40, [1, Quantity(value=-3.1382699121359634, unit=radian), Quantity(value=1200.0, unit=kilocalorie/mole), 1])}\n",
      "2021-07-14 16:28:08,536:(0.00s):geometry:neglected angle terms include []\n",
      "2021-07-14 16:28:08,538:(0.00s):geometry:log probability choice of torsions and atom order: -1.3862943611198906\n",
      "2021-07-14 16:28:08,541:(0.00s):geometry:creating platform, integrators, and contexts; setting growth parameter\n"
     ]
    },
    {
     "name": "stdout",
     "output_type": "stream",
     "text": [
      "conducting subsequent work with the following platform: CUDA\n"
     ]
    },
    {
     "name": "stderr",
     "output_type": "stream",
     "text": [
      "2021-07-14 16:28:09,116:(0.58s):geometry:setting atoms_with_positions context old positions\n"
     ]
    },
    {
     "name": "stdout",
     "output_type": "stream",
     "text": [
      "conducting subsequent work with the following platform: CUDA\n"
     ]
    },
    {
     "name": "stderr",
     "output_type": "stream",
     "text": [
      "2021-07-14 16:28:09,576:(0.46s):geometry:There are 1 new atoms\n",
      "2021-07-14 16:28:09,584:(0.01s):geometry:\treduced angle potential = 0.03380441319981336.\n",
      "2021-07-14 16:28:09,743:(0.16s):geometry:\tbeginning construction of no_nonbonded final system...\n",
      "2021-07-14 16:28:09,747:(0.00s):geometry:\tinitial no-nonbonded final system forces ['HarmonicBondForce', 'HarmonicAngleForce', 'PeriodicTorsionForce', 'NonbondedForce', 'MonteCarloBarostat']\n",
      "2021-07-14 16:28:09,969:(0.22s):geometry:\tfinal no-nonbonded final system forces dict_keys(['HarmonicBondForce', 'HarmonicAngleForce', 'PeriodicTorsionForce', 'NonbondedForce'])\n",
      "2021-07-14 16:28:09,972:(0.00s):geometry:\tthere are 28 bond forces in the no-nonbonded final system\n",
      "2021-07-14 16:28:09,975:(0.00s):geometry:\tthere are 85 angle forces in the no-nonbonded final system\n",
      "2021-07-14 16:28:09,977:(0.00s):geometry:\tthere are 157 torsion forces in the no-nonbonded final system\n",
      "2021-07-14 16:28:09,979:(0.00s):geometry:reverse final system defined with 0 neglected angles.\n"
     ]
    },
    {
     "name": "stdout",
     "output_type": "stream",
     "text": [
      "conducting subsequent work with the following platform: CUDA\n",
      "conducting subsequent work with the following platform: CUDA\n"
     ]
    },
    {
     "name": "stderr",
     "output_type": "stream",
     "text": [
      "2021-07-14 16:28:11,181:(1.20s):geometry:total reduced potential before atom placement: 48.41899607369698\n"
     ]
    },
    {
     "name": "stdout",
     "output_type": "stream",
     "text": [
      "conducting subsequent work with the following platform: CUDA\n",
      "conducting subsequent work with the following platform: CUDA\n",
      "conducting subsequent work with the following platform: CUDA\n"
     ]
    },
    {
     "name": "stderr",
     "output_type": "stream",
     "text": [
      "2021-07-14 16:28:12,578:(1.40s):geometry:total reduced energy added from growth system: -5.056837038117532\n",
      "2021-07-14 16:28:12,581:(0.00s):geometry:final reduced energy 43.36216011253515\n",
      "2021-07-14 16:28:12,584:(0.00s):geometry:sum of energies: 43.36215903557945\n",
      "2021-07-14 16:28:12,587:(0.00s):geometry:magnitude of difference in the energies: 1.0769557015066766e-06\n",
      "2021-07-14 16:28:12,589:(0.00s):geometry:Final logp_proposal: 11.56594796641107\n"
     ]
    },
    {
     "name": "stdout",
     "output_type": "stream",
     "text": [
      "added energy components: [('CustomBondForce', 0.0879842954280575), ('CustomAngleForce', 0.04605409749261916), ('CustomTorsionForce', 0.005423200139534058), ('CustomBondForce', -5.1962986311777435)]\n"
     ]
    },
    {
     "name": "stderr",
     "output_type": "stream",
     "text": [
      "2021-07-14 16:28:12,773:(0.18s):root:\twriting pickle output...\n",
      "2021-07-14 16:28:12,992:(0.22s):root:\tsuccessfully dumped pickle.\n",
      "2021-07-14 16:28:12,998:(0.01s):root:\tsetup is complete.  Writing proposals and positions for each phase to top_prop dict...\n",
      "2021-07-14 16:28:13,001:(0.00s):root:\twriting atom_mapping.png\n",
      "2021-07-14 16:28:13,187:(0.19s):root:\t steps per move application: 50\n",
      "2021-07-14 16:28:13,191:(0.00s):root:\ttrajectory prefix: out\n",
      "2021-07-14 16:28:13,194:(0.00s):root:\tatom selection detected: not water\n",
      "2021-07-14 16:28:13,196:(0.00s):root:\tno nonequilibrium detected.\n",
      "2021-07-14 16:28:13,199:(0.00s):root:\tcataloging HybridTopologyFactories...\n",
      "2021-07-14 16:28:13,201:(0.00s):root:\t\tphase: solvent:\n",
      "2021-07-14 16:28:13,204:(0.00s):root:\t\twriting HybridTopologyFactory for phase solvent...\n",
      "2021-07-14 16:28:13,206:(0.00s):relative:*** Generating RxnHybridTopologyFactory ***\n",
      "2021-07-14 16:28:13,209:(0.00s):relative:Beginning nonbonded method, total particle, barostat, and exceptions retrieval...\n",
      "2021-07-14 16:28:13,303:(0.09s):relative:Old system forces: dict_keys(['HarmonicBondForce', 'HarmonicAngleForce', 'PeriodicTorsionForce', 'NonbondedForce', 'MonteCarloBarostat'])\n",
      "2021-07-14 16:28:13,306:(0.00s):relative:New system forces: dict_keys(['HarmonicBondForce', 'HarmonicAngleForce', 'PeriodicTorsionForce', 'NonbondedForce', 'MonteCarloBarostat'])\n",
      "2021-07-14 16:28:13,309:(0.00s):relative:No unknown forces.\n",
      "2021-07-14 16:28:13,311:(0.00s):relative:Nonbonded method to be used (i.e. from old system): 4\n",
      "2021-07-14 16:28:13,313:(0.00s):relative:Adding and mapping old atoms to hybrid system...\n",
      "2021-07-14 16:28:13,352:(0.04s):relative:Adding and mapping new atoms to hybrid system...\n",
      "2021-07-14 16:28:13,355:(0.00s):relative:scale_templates: [['nonscale_lambda'], ['nonscale_region']]\n",
      "2021-07-14 16:28:13,358:(0.00s):relative:particle (nonbonded) scale_templates: [['nonscale_lambda'], ['nonscale_region1'], ['nonscale_region2']]\n",
      "2021-07-14 16:28:13,361:(0.00s):relative:Added MonteCarloBarostat.\n",
      "2021-07-14 16:28:13,364:(0.00s):relative:getDefaultPeriodicBoxVectors added to hybrid: [Quantity(value=Vec3(x=2.875229835510254, y=0.0, z=0.0), unit=nanometer), Quantity(value=Vec3(x=0.0, y=2.875229835510254, z=0.0), unit=nanometer), Quantity(value=Vec3(x=0.0, y=0.0, z=2.875229835510254), unit=nanometer)]\n",
      "2021-07-14 16:28:13,368:(0.00s):relative:Determined atom classes.\n",
      "2021-07-14 16:28:13,371:(0.00s):relative:Generating old system exceptions dict...\n",
      "2021-07-14 16:28:13,396:(0.02s):relative:Generating new system exceptions dict...\n",
      "2021-07-14 16:28:13,431:(0.04s):relative:Handling constraints...\n",
      "2021-07-14 16:28:13,517:(0.09s):relative:Handling virtual sites...\n",
      "2021-07-14 16:28:13,523:(0.01s):relative:\t_handle_virtual_sites: numVirtualSites: 0\n",
      "2021-07-14 16:28:14,731:(1.21s):root:'use_given_geometries' was passed to setup; skipping endstate validation\n",
      "2021-07-14 16:28:14,734:(0.00s):root:omitting sampler construction\n"
     ]
    }
   ],
   "source": [
    "# Create a htf\n",
    "setup_directory = resource_filename(\"perses\", \"data/cdk2-example\")\n",
    "\n",
    "# Get options\n",
    "from perses.app.setup_relative_calculation import getSetupOptions\n",
    "yaml_filename = os.path.join(setup_directory, \"cdk2_setup_repex.yaml\")\n",
    "setup_options = getSetupOptions(yaml_filename)\n",
    "\n",
    "# Update options\n",
    "for parameter in ['protein_pdb', 'ligand_file']:\n",
    "    setup_options[parameter] = os.path.join(setup_directory, setup_options[parameter])\n",
    "    \n",
    "setup_options['rxn_field'] = True\n",
    "setup_options['phases'] = ['solvent']\n",
    "setup_options['scale_regions'] = None\n",
    "setup_options['validate_endstate_energies'] = False\n",
    "    \n",
    "setup_dict = setup_relative_calculation.run_setup(setup_options, serialize_systems=False, build_samplers=False)"
   ]
  },
  {
   "cell_type": "code",
   "execution_count": 6,
   "id": "058f9b83",
   "metadata": {
    "scrolled": true
   },
   "outputs": [],
   "source": [
    "htf = setup_dict['hybrid_topology_factories']['solvent']"
   ]
  },
  {
   "cell_type": "code",
   "execution_count": 7,
   "id": "c69b4ff8",
   "metadata": {},
   "outputs": [],
   "source": [
    "with open(\"cdk2_solvent.pickle\", \"wb\") as f:\n",
    "    pickle.dump(htf, f)"
   ]
  },
  {
   "cell_type": "markdown",
   "id": "115af5f8",
   "metadata": {},
   "source": [
    "### Test one alchemical region, no scale regions"
   ]
  },
  {
   "cell_type": "markdown",
   "id": "60604039",
   "metadata": {},
   "source": [
    "#### Old system HarmonicBondForce vs hybrid system CustomBondForce"
   ]
  },
  {
   "cell_type": "code",
   "execution_count": 8,
   "id": "c301b106",
   "metadata": {},
   "outputs": [],
   "source": [
    "# Load htf\n",
    "with open(\"/home/zhangi/choderalab/perses_benchmark/perses_protein_mutations/code/26_rxn_field/cdk2_solvent.pickle\", \"rb\") as f:\n",
    "    htf = pickle.load(f)"
   ]
  },
  {
   "cell_type": "code",
   "execution_count": 9,
   "id": "bcd130b1",
   "metadata": {},
   "outputs": [
    {
     "data": {
      "text/plain": [
       "[<simtk.openmm.openmm.MonteCarloBarostat; proxy of <Swig Object of type 'OpenMM::MonteCarloBarostat *' at 0x2ae7391d6d50> >,\n",
       " <simtk.openmm.openmm.CustomBondForce; proxy of <Swig Object of type 'OpenMM::CustomBondForce *' at 0x2ae7391d6e10> >,\n",
       " <simtk.openmm.openmm.CustomAngleForce; proxy of <Swig Object of type 'OpenMM::CustomAngleForce *' at 0x2ae7391d6e70> >,\n",
       " <simtk.openmm.openmm.CustomTorsionForce; proxy of <Swig Object of type 'OpenMM::CustomTorsionForce *' at 0x2ae7391d6f30> >,\n",
       " <simtk.openmm.openmm.CustomNonbondedForce; proxy of <Swig Object of type 'OpenMM::CustomNonbondedForce *' at 0x2ae7391d6fc0> >,\n",
       " <simtk.openmm.openmm.CustomNonbondedForce; proxy of <Swig Object of type 'OpenMM::CustomNonbondedForce *' at 0x2ae731198090> >,\n",
       " <simtk.openmm.openmm.CustomBondForce; proxy of <Swig Object of type 'OpenMM::CustomBondForce *' at 0x2ae731198120> >,\n",
       " <simtk.openmm.openmm.CustomBondForce; proxy of <Swig Object of type 'OpenMM::CustomBondForce *' at 0x2ae7311981b0> >]"
      ]
     },
     "execution_count": 9,
     "metadata": {},
     "output_type": "execute_result"
    }
   ],
   "source": [
    "htf.hybrid_system.getForces()"
   ]
  },
  {
   "cell_type": "code",
   "execution_count": 10,
   "id": "41891b46",
   "metadata": {},
   "outputs": [
    {
     "name": "stdout",
     "output_type": "stream",
     "text": [
      "Warning: Returning CPU platform instead of requested platform <simtk.openmm.openmm.Platform; proxy of <Swig Object of type 'OpenMM::Platform *' at 0x2ae70ce2b150> >\n",
      "conducting subsequent work with the following platform: CPU\n",
      "conducting subsequent work with the following platform: CUDA\n",
      "[('HarmonicBondForce', 4.608082977954756), ('HarmonicAngleForce', 29.199523609209102), ('PeriodicTorsionForce', 15.076747992617829), ('NonbondedForce', 3350.162471334583), ('AndersenThermostat', 0.0), ('MonteCarloBarostat', 0.0)]\n",
      "conducting subsequent work with the following platform: CUDA\n",
      "[('CustomBondForce', 4.608082977954756), ('CustomAngleForce', 31.450793105256693), ('CustomTorsionForce', 15.076753795301011), ('AndersenThermostat', 0.0), ('MonteCarloBarostat', 0.0)]\n",
      "Success! Custom bond force and standard bond force energies are equal!\n"
     ]
    }
   ],
   "source": [
    "test_bond_energies(htf, is_solvated=True)"
   ]
  },
  {
   "cell_type": "markdown",
   "id": "1aa884bc",
   "metadata": {},
   "source": [
    "#### New system HarmonicBondForce vs hybrid system CustomBondForce"
   ]
  },
  {
   "cell_type": "code",
   "execution_count": 11,
   "id": "ea1e2d34",
   "metadata": {},
   "outputs": [],
   "source": [
    "# Load htf\n",
    "with open(\"/home/zhangi/choderalab/perses_benchmark/perses_protein_mutations/code/26_rxn_field/cdk2_solvent.pickle\", \"rb\") as f:\n",
    "    htf = pickle.load(f)"
   ]
  },
  {
   "cell_type": "code",
   "execution_count": 12,
   "id": "efc8566f",
   "metadata": {},
   "outputs": [
    {
     "name": "stdout",
     "output_type": "stream",
     "text": [
      "Warning: Returning CPU platform instead of requested platform <simtk.openmm.openmm.Platform; proxy of <Swig Object of type 'OpenMM::Platform *' at 0x2ae70ce2b150> >\n",
      "conducting subsequent work with the following platform: CPU\n",
      "conducting subsequent work with the following platform: CUDA\n",
      "[('HarmonicBondForce', 4.519508183899664), ('HarmonicAngleForce', 31.40442991986144), ('PeriodicTorsionForce', 15.078153431480851), ('NonbondedForce', 3363.615071727043), ('AndersenThermostat', 0.0), ('MonteCarloBarostat', 0.0)]\n",
      "conducting subsequent work with the following platform: CUDA\n",
      "[('CustomBondForce', 4.519508183899664), ('CustomAngleForce', 31.450793105256693), ('CustomTorsionForce', 15.076753795301011), ('AndersenThermostat', 0.0), ('MonteCarloBarostat', 0.0)]\n",
      "Success! Custom bond force and standard bond force energies are equal!\n"
     ]
    }
   ],
   "source": [
    "test_bond_energies(htf, is_old=False, is_solvated=True)"
   ]
  },
  {
   "cell_type": "markdown",
   "id": "b390ade2",
   "metadata": {},
   "source": [
    "### Test one alchemical region, one scale region"
   ]
  },
  {
   "cell_type": "code",
   "execution_count": 14,
   "id": "8671a075",
   "metadata": {},
   "outputs": [],
   "source": [
    "import os\n",
    "from pkg_resources import resource_filename\n",
    "from perses.app import setup_relative_calculation\n",
    "import pickle"
   ]
  },
  {
   "cell_type": "code",
   "execution_count": 15,
   "id": "63072c61",
   "metadata": {
    "scrolled": true
   },
   "outputs": [
    {
     "name": "stderr",
     "output_type": "stream",
     "text": [
      "2021-07-14 16:28:32,850:(18.12s):root:\tDetecting phases...\n",
      "2021-07-14 16:28:32,854:(0.00s):root:\t\tphases detected: ['complex', 'solvent', 'vacuum']\n",
      "2021-07-14 16:28:32,857:(0.00s):root:No constraints will be removed\n",
      "2021-07-14 16:28:32,859:(0.00s):root:No spectators\n",
      "2021-07-14 16:28:32,862:(0.00s):root:\t\t\trun_type is not specified; default to None\n",
      "2021-07-14 16:28:32,864:(0.00s):root:\tDetecting fe_type...\n",
      "2021-07-14 16:28:32,867:(0.00s):root:\t\tfe_type: repex\n",
      "2021-07-14 16:28:32,869:(0.00s):root:\t\t\toffline-freq not specified: default to 10.\n",
      "2021-07-14 16:28:32,872:(0.00s):root:\t'neglect_angles' detected: False.\n",
      "2021-07-14 16:28:32,874:(0.00s):root:\t'softcore_v2' not specified: default to 'False'\n",
      "2021-07-14 16:28:32,876:(0.00s):root:\tCreating 'output'...\n",
      "2021-07-14 16:28:32,885:(0.01s):root:\tdetected ligand file: /home/zhangi/miniconda3/envs/perses-rxn-field/lib/python3.8/site-packages/perses-0.9.0+78.gee97a4e.dirty-py3.8.egg/perses/data/cdk2-example/CDK2_ligands.sdf\n",
      "2021-07-14 16:28:32,886:(0.00s):root:\told ligand index: 14; new ligand index: 15\n",
      "2021-07-14 16:28:32,887:(0.00s):root:\tsetting up forcefield files...\n",
      "2021-07-14 16:28:32,888:(0.00s):root:\tno timestep detected: setting default as 1.0fs.\n",
      "2021-07-14 16:28:32,889:(0.00s):root:\tno splitting strings specified: defaulting to neq: V R O R V, eq: V R O R V.\n",
      "2021-07-14 16:28:32,890:(0.00s):root:\tno measure_shadow_work specified: defaulting to False.\n",
      "2021-07-14 16:28:32,898:(0.01s):root:\tsetting pressure: 1.0 atm.\n",
      "2021-07-14 16:28:32,899:(0.00s):root:\tsetting temperature: 300.0 K.\n",
      "2021-07-14 16:28:32,900:(0.00s):root:\tsetting solvent padding: 9.0 AA.\n",
      "2021-07-14 16:28:32,901:(0.00s):root:\tsetting ionic strength: 0.15 MM.\n",
      "2021-07-14 16:28:32,901:(0.00s):root:\tsetup pickle file: fesetup_hbonds.pkl\n",
      "2021-07-14 16:28:32,902:(0.00s):root:\ttrajectory directory: output\n",
      "2021-07-14 16:28:32,903:(0.00s):root:\tno atom map specified: default to None.\n",
      "2021-07-14 16:28:32,904:(0.00s):root:\tno topology_proposal specified; proceeding to RelativeFEPSetup...\n",
      "\n",
      "\n",
      "\n",
      "2021-07-14 16:28:32,905:(0.00s):root:Box dimensions: None and None\n",
      "2021-07-14 16:28:32,906:(0.00s):relative_setup:\t\t\t_hmass: 4 Da.\n",
      "\n",
      "2021-07-14 16:28:32,907:(0.00s):relative_setup:Setting non bonded method to PME\n",
      "2021-07-14 16:28:32,908:(0.00s):relative_setup:Handling files for ligands and indices...\n",
      "2021-07-14 16:28:32,908:(0.00s):relative_setup:Detected .sdf format.  Proceeding...\n",
      "2021-07-14 16:28:32,916:(0.01s):utils.openeye:molecule 17                      does not have unique atom names. Generating now...\n",
      "2021-07-14 16:28:32,937:(0.02s):utils.openeye:molecule 1h1q                      does not have unique atom names. Generating now...\n",
      "2021-07-14 16:28:32,942:(0.01s):relative_setup:\tsuccessfully extracted positions from OEMOL.\n",
      "2021-07-14 16:28:32,953:(0.01s):relative_setup:\tsetting both molecule oemol titles to 'MOL'.\n",
      "2021-07-14 16:28:32,954:(0.00s):relative_setup:\tsuccessfully created SMILES for both ligand OEMOLs.\n",
      "2021-07-14 16:28:32,958:(0.00s):relative_setup:\tsuccessfully generated topologies for both OEMOLs.\n",
      "2021-07-14 16:28:32,961:(0.00s):relative_setup:Created mdtraj topologies for both ligands.\n",
      "2021-07-14 16:28:32,962:(0.00s):relative_setup:set MonteCarloBarostat because pressure was specified as 1.0 atm atmospheres\n",
      "2021-07-14 16:28:32,990:(0.03s):relative_setup:PME tolerance: 0.00025\n",
      "2021-07-14 16:28:33,066:(0.08s):relative_setup:successfully created SystemGenerator to create ligand systems\n",
      "2021-07-14 16:28:33,069:(0.00s):relative_setup:executing SmallMoleculeSetProposalEngine...\n",
      "2021-07-14 16:28:33,073:(0.00s):relative_setup:instantiating FFAllAngleGeometryEngine...\n",
      "2021-07-14 16:28:33,076:(0.00s):relative_setup:Detected solvent...\n",
      "2021-07-14 16:28:33,078:(0.00s):relative_setup:no complex detected in phases...generating unique topology/geometry proposals...\n",
      "2021-07-14 16:28:33,081:(0.00s):relative_setup:solvating ligand...\n",
      "2021-07-14 16:28:33,083:(0.00s):relative_setup:box_dimensions: None\n",
      "2021-07-14 16:28:33,086:(0.00s):relative_setup:solvent padding: 9.0\n",
      "2021-07-14 16:28:33,088:(0.00s):relative_setup:\tpreparing to add solvent\n",
      "2021-07-14 16:28:33,652:(0.56s):openmmforcefields.generators.template_generators:Requested to generate parameters for residue <Residue 0 (MOL) of chain 0>\n",
      "2021-07-14 16:28:34,030:(0.38s):relative_setup:\tparameterizing...\n",
      "2021-07-14 16:28:34,379:(0.35s):relative_setup:\tSystem parameterized\n",
      "2021-07-14 16:28:34,451:(0.07s):relative_setup:creating TopologyProposal\n",
      "2021-07-14 16:28:34,454:(0.00s):proposal_generator:creating current receptor topology by removing small molecule from current topology...\n",
      "2021-07-14 16:28:34,473:(0.02s):proposal_generator:small molecule start index: 0\n",
      "2021-07-14 16:28:34,477:(0.00s):proposal_generator:small molecule has 45 atoms.\n",
      "2021-07-14 16:28:34,479:(0.00s):proposal_generator:old alchemical atom indices: range(0, 45)\n",
      "2021-07-14 16:28:34,482:(0.00s):proposal_generator:proposed mol detected with smiles [H]c1c(c(c(c(c1[H])[H])N([H])c2nc3c(c(n2)OC([H])([H])C4(C(C(C(C(C4([H])[H])([H])[H])([H])[H])([H])[H])([H])[H])[H])nc(n3[H])[H])[H])[H] and logp_proposal of 0.0\n",
      "2021-07-14 16:28:34,484:(0.00s):proposal_generator:conducting proposal from [H]c1c(c(c(c(c1[H])Br)[H])N([H])c2nc3c(c(n2)OC([H])([H])C4(C(C(C(C(C4([H])[H])([H])[H])([H])[H])([H])[H])([H])[H])[H])nc(n3[H])[H])[H] to [H]c1c(c(c(c(c1[H])[H])N([H])c2nc3c(c(n2)OC([H])([H])C4(C(C(C(C(C4([H])[H])([H])[H])([H])[H])([H])[H])([H])[H])[H])nc(n3[H])[H])[H])[H]...\n",
      "2021-07-14 16:28:34,487:(0.00s):proposal_generator:building new topology with proposed molecule and current receptor topology...\n",
      "2021-07-14 16:28:34,489:(0.00s):proposal_generator:\tsetting proposed oemol title to MOL\n",
      "2021-07-14 16:28:34,492:(0.00s):proposal_generator:\tcreating mol topology from oemol...\n",
      "2021-07-14 16:28:34,497:(0.00s):proposal_generator:\tappending current receptor topology to new mol topology...\n",
      "2021-07-14 16:28:34,516:(0.02s):proposal_generator:\tperiodic box vectors of the current receptor is specified; copying to new topology...\n",
      "2021-07-14 16:28:34,520:(0.00s):proposal_generator:new molecule has a start index of 2152 and 45 atoms.\n",
      "2021-07-14 16:28:34,522:(0.00s):proposal_generator:proceeding to build the new system from the new topology...\n",
      "2021-07-14 16:28:34,568:(0.05s):openmmforcefields.generators.template_generators:Requested to generate parameters for residue <Residue 720 (MOL) of chain 3>\n",
      "2021-07-14 16:28:34,922:(0.35s):proposal_generator:determining atom map between old and new molecules...\n",
      "2021-07-14 16:28:34,926:(0.00s):proposal_generator:the atom map is not specified; proceeding to generate an atom map...\n",
      "2021-07-14 16:28:34,929:(0.00s):proposal_generator:Using geometry to chose best atom map\n",
      "2021-07-14 16:28:34,945:(0.02s):proposal_generator:Scaffold has symmetry of 4\n",
      "2021-07-14 16:28:34,950:(0.00s):proposal_generator:There are 4 before filtering\n",
      "2021-07-14 16:28:34,953:(0.00s):proposal_generator:There are 4 after filtering to remove maps with fewer matches than 24 atoms\n",
      "2021-07-14 16:28:34,963:(0.01s):proposal_generator:1 scaffold maps for A\n",
      "2021-07-14 16:28:34,967:(0.00s):proposal_generator:Scaffold to molA: {0: 0, 1: 1, 2: 2, 3: 3, 8: 4, 7: 5, 6: 6, 5: 7, 4: 8, 11: 9, 10: 10, 9: 11, 23: 12, 13: 13, 14: 14, 15: 15, 16: 16, 17: 17, 18: 18, 19: 19, 20: 20, 21: 21, 22: 22, 12: 23}\n",
      "2021-07-14 16:28:34,976:(0.01s):proposal_generator:1 scaffold maps for B\n",
      "2021-07-14 16:28:34,979:(0.00s):proposal_generator:Scaffold to molB: {0: 0, 1: 1, 2: 2, 3: 3, 8: 4, 7: 5, 6: 6, 5: 7, 4: 8, 11: 9, 10: 10, 9: 11, 23: 12, 13: 13, 14: 14, 15: 15, 16: 16, 17: 17, 18: 18, 19: 19, 20: 20, 21: 21, 22: 22, 12: 23}\n",
      "2021-07-14 16:28:38,634:(3.65s):proposal_generator:4 maps are reduced to 1\n",
      "2021-07-14 16:28:38,638:(0.00s):proposal_generator:molecule_maps_scores: dict_keys([19.8560123167367])\n",
      "2021-07-14 16:28:38,640:(0.00s):proposal_generator:Returning map with closest geometry satisfaction\n",
      "2021-07-14 16:28:38,840:(0.20s):proposal_generator:Proposed transformation would delete 1 atoms and create 1 atoms.\n",
      "2021-07-14 16:28:38,843:(0.00s):relative_setup:conducting geometry proposal...\n",
      "2021-07-14 16:28:38,846:(0.00s):geometry:propose: performing forward proposal\n",
      "2021-07-14 16:28:38,849:(0.00s):geometry:propose: unique new atoms detected; proceeding to _logp_propose...\n"
     ]
    },
    {
     "name": "stderr",
     "output_type": "stream",
     "text": [
      "2021-07-14 16:28:38,851:(0.00s):geometry:Conducting forward proposal...\n",
      "2021-07-14 16:28:38,854:(0.00s):geometry:Computing proposal order with NetworkX...\n",
      "2021-07-14 16:28:38,872:(0.02s):geometry:number of atoms to be placed: 1\n",
      "2021-07-14 16:28:38,876:(0.00s):geometry:Atom index proposal order is [2190]\n",
      "2021-07-14 16:28:38,878:(0.00s):geometry:omitted_bonds: []\n",
      "2021-07-14 16:28:38,881:(0.00s):geometry:direction of proposal is forward; creating atoms_with_positions and new positions from old system/topology...\n",
      "2021-07-14 16:28:39,416:(0.53s):geometry:creating growth system...\n",
      "2021-07-14 16:28:39,498:(0.08s):geometry:\tcreating bond force...\n",
      "2021-07-14 16:28:39,502:(0.00s):geometry:\tthere are 27 bonds in reference force.\n",
      "2021-07-14 16:28:39,505:(0.00s):geometry:\tcreating angle force...\n",
      "2021-07-14 16:28:39,507:(0.00s):geometry:\tthere are 85 angles in reference force.\n",
      "2021-07-14 16:28:39,511:(0.00s):geometry:\tcreating torsion force...\n",
      "2021-07-14 16:28:39,514:(0.00s):geometry:\tcreating extra torsions force...\n",
      "2021-07-14 16:28:39,516:(0.00s):geometry:\tthere are 157 torsions in reference force.\n",
      "2021-07-14 16:28:39,520:(0.00s):geometry:\tcreating nonbonded force...\n",
      "2021-07-14 16:28:39,523:(0.00s):geometry:\t\tgrabbing reference nonbonded method, cutoff, switching function, switching distance...\n",
      "2021-07-14 16:28:39,525:(0.00s):geometry:\t\tcreating nonbonded exception force (i.e. custom bond for 1,4s)...\n",
      "2021-07-14 16:28:39,528:(0.00s):geometry:\t\tlooping through exceptions calculating growth indices, and adding appropriate interactions to custom bond force.\n",
      "2021-07-14 16:28:39,530:(0.00s):geometry:\t\tthere are 2395 in the reference Nonbonded force\n",
      "2021-07-14 16:28:39,632:(0.10s):geometry:Neglected angle terms : []\n",
      "2021-07-14 16:28:39,635:(0.00s):geometry:omitted_growth_terms: {'bonds': [], 'angles': [], 'torsions': [], '1,4s': []}\n",
      "2021-07-14 16:28:39,638:(0.00s):geometry:extra torsions: {0: (2190, 2161, 2162, 2163, [1, Quantity(value=-0.019594642035228205, unit=radian), Quantity(value=1200.0, unit=kilocalorie/mole), 1]), 1: (2190, 2161, 2162, 2191, [1, Quantity(value=-3.1361896196768977, unit=radian), Quantity(value=1200.0, unit=kilocalorie/mole), 1]), 2: (2190, 2161, 2175, 2174, [1, Quantity(value=-0.008871224163264912, unit=radian), Quantity(value=1200.0, unit=kilocalorie/mole), 1]), 3: (2190, 2161, 2175, 2196, [1, Quantity(value=3.1405837865634907, unit=radian), Quantity(value=1200.0, unit=kilocalorie/mole), 1])}\n",
      "2021-07-14 16:28:39,640:(0.00s):geometry:neglected angle terms include []\n",
      "2021-07-14 16:28:39,643:(0.00s):geometry:log probability choice of torsions and atom order: -1.3862943611198906\n",
      "2021-07-14 16:28:39,645:(0.00s):geometry:creating platform, integrators, and contexts; setting growth parameter\n"
     ]
    },
    {
     "name": "stdout",
     "output_type": "stream",
     "text": [
      "conducting subsequent work with the following platform: CUDA\n"
     ]
    },
    {
     "name": "stderr",
     "output_type": "stream",
     "text": [
      "2021-07-14 16:28:40,291:(0.65s):geometry:setting atoms_with_positions context new positions\n"
     ]
    },
    {
     "name": "stdout",
     "output_type": "stream",
     "text": [
      "conducting subsequent work with the following platform: CUDA\n"
     ]
    },
    {
     "name": "stderr",
     "output_type": "stream",
     "text": [
      "2021-07-14 16:28:40,753:(0.46s):geometry:There are 1 new atoms\n",
      "2021-07-14 16:28:40,764:(0.01s):geometry:\treduced angle potential = 0.4326782359698147.\n",
      "2021-07-14 16:28:40,918:(0.15s):geometry:\tbeginning construction of no_nonbonded final system...\n",
      "2021-07-14 16:28:40,921:(0.00s):geometry:\tinitial no-nonbonded final system forces ['HarmonicBondForce', 'HarmonicAngleForce', 'PeriodicTorsionForce', 'NonbondedForce', 'MonteCarloBarostat']\n",
      "2021-07-14 16:28:41,147:(0.23s):geometry:\tfinal no-nonbonded final system forces dict_keys(['HarmonicBondForce', 'HarmonicAngleForce', 'PeriodicTorsionForce', 'NonbondedForce'])\n",
      "2021-07-14 16:28:41,150:(0.00s):geometry:\tthere are 27 bond forces in the no-nonbonded final system\n",
      "2021-07-14 16:28:41,153:(0.00s):geometry:\tthere are 85 angle forces in the no-nonbonded final system\n",
      "2021-07-14 16:28:41,155:(0.00s):geometry:\tthere are 157 torsion forces in the no-nonbonded final system\n",
      "2021-07-14 16:28:41,158:(0.00s):geometry:forward final system defined with 0 neglected angles.\n"
     ]
    },
    {
     "name": "stdout",
     "output_type": "stream",
     "text": [
      "conducting subsequent work with the following platform: CUDA\n",
      "conducting subsequent work with the following platform: CUDA\n"
     ]
    },
    {
     "name": "stderr",
     "output_type": "stream",
     "text": [
      "2021-07-14 16:28:42,344:(1.19s):geometry:total reduced potential before atom placement: 48.41967204742058\n"
     ]
    },
    {
     "name": "stdout",
     "output_type": "stream",
     "text": [
      "conducting subsequent work with the following platform: CUDA\n",
      "conducting subsequent work with the following platform: CUDA\n",
      "conducting subsequent work with the following platform: CUDA\n"
     ]
    },
    {
     "name": "stderr",
     "output_type": "stream",
     "text": [
      "2021-07-14 16:28:43,738:(1.39s):geometry:total reduced energy added from growth system: 8.855535667978248\n",
      "2021-07-14 16:28:43,742:(0.00s):geometry:final reduced energy 57.27520808748589\n",
      "2021-07-14 16:28:43,744:(0.00s):geometry:sum of energies: 57.275207715398835\n",
      "2021-07-14 16:28:43,746:(0.00s):geometry:magnitude of difference in the energies: 3.720870616064076e-07\n",
      "2021-07-14 16:28:43,749:(0.00s):geometry:Final logp_proposal: 7.560303459442652\n"
     ]
    },
    {
     "name": "stdout",
     "output_type": "stream",
     "text": [
      "added energy components: [('CustomBondForce', 0.0), ('CustomAngleForce', 0.9670987191476742), ('CustomTorsionForce', 0.006874285560570068), ('CustomBondForce', 7.881562663270004)]\n"
     ]
    },
    {
     "name": "stderr",
     "output_type": "stream",
     "text": [
      "2021-07-14 16:28:43,905:(0.16s):geometry:logp_reverse: performing reverse proposal\n",
      "2021-07-14 16:28:43,908:(0.00s):geometry:logp_reverse: unique new atoms detected; proceeding to _logp_propose...\n",
      "2021-07-14 16:28:43,911:(0.00s):geometry:Conducting forward proposal...\n",
      "2021-07-14 16:28:43,913:(0.00s):geometry:Computing proposal order with NetworkX...\n",
      "2021-07-14 16:28:43,932:(0.02s):geometry:number of atoms to be placed: 1\n",
      "2021-07-14 16:28:43,935:(0.00s):geometry:Atom index proposal order is [44]\n",
      "2021-07-14 16:28:43,937:(0.00s):geometry:omitted_bonds: []\n",
      "2021-07-14 16:28:43,940:(0.00s):geometry:direction of proposal is reverse; creating atoms_with_positions from old system/topology\n",
      "2021-07-14 16:28:44,199:(0.26s):geometry:creating growth system...\n",
      "2021-07-14 16:28:44,279:(0.08s):geometry:\tcreating bond force...\n",
      "2021-07-14 16:28:44,283:(0.00s):geometry:\tthere are 28 bonds in reference force.\n",
      "2021-07-14 16:28:44,286:(0.00s):geometry:\tcreating angle force...\n",
      "2021-07-14 16:28:44,288:(0.00s):geometry:\tthere are 85 angles in reference force.\n",
      "2021-07-14 16:28:44,292:(0.00s):geometry:\tcreating torsion force...\n",
      "2021-07-14 16:28:44,294:(0.00s):geometry:\tcreating extra torsions force...\n",
      "2021-07-14 16:28:44,296:(0.00s):geometry:\tthere are 157 torsions in reference force.\n",
      "2021-07-14 16:28:44,301:(0.00s):geometry:\tcreating nonbonded force...\n",
      "2021-07-14 16:28:44,303:(0.00s):geometry:\t\tgrabbing reference nonbonded method, cutoff, switching function, switching distance...\n",
      "2021-07-14 16:28:44,305:(0.00s):geometry:\t\tcreating nonbonded exception force (i.e. custom bond for 1,4s)...\n",
      "2021-07-14 16:28:44,308:(0.00s):geometry:\t\tlooping through exceptions calculating growth indices, and adding appropriate interactions to custom bond force.\n",
      "2021-07-14 16:28:44,310:(0.00s):geometry:\t\tthere are 2395 in the reference Nonbonded force\n",
      "2021-07-14 16:28:44,406:(0.10s):geometry:Neglected angle terms : []\n",
      "2021-07-14 16:28:44,409:(0.00s):geometry:omitted_growth_terms: {'bonds': [], 'angles': [], 'torsions': [], '1,4s': []}\n",
      "2021-07-14 16:28:44,412:(0.00s):geometry:extra torsions: {0: (9, 10, 11, 44, [1, Quantity(value=0.017128570696415935, unit=radian), Quantity(value=1200.0, unit=kilocalorie/mole), 1]), 1: (39, 10, 11, 44, [1, Quantity(value=3.1337857477223063, unit=radian), Quantity(value=1200.0, unit=kilocalorie/mole), 1]), 2: (44, 11, 12, 22, [1, Quantity(value=0.00863885124394681, unit=radian), Quantity(value=1200.0, unit=kilocalorie/mole), 1]), 3: (44, 11, 12, 40, [1, Quantity(value=-3.1382699121359634, unit=radian), Quantity(value=1200.0, unit=kilocalorie/mole), 1])}\n",
      "2021-07-14 16:28:44,414:(0.00s):geometry:neglected angle terms include []\n",
      "2021-07-14 16:28:44,417:(0.00s):geometry:log probability choice of torsions and atom order: -1.3862943611198906\n",
      "2021-07-14 16:28:44,419:(0.00s):geometry:creating platform, integrators, and contexts; setting growth parameter\n"
     ]
    },
    {
     "name": "stdout",
     "output_type": "stream",
     "text": [
      "conducting subsequent work with the following platform: CUDA\n"
     ]
    },
    {
     "name": "stderr",
     "output_type": "stream",
     "text": [
      "2021-07-14 16:28:45,032:(0.61s):geometry:setting atoms_with_positions context old positions\n"
     ]
    },
    {
     "name": "stdout",
     "output_type": "stream",
     "text": [
      "conducting subsequent work with the following platform: CUDA\n"
     ]
    },
    {
     "name": "stderr",
     "output_type": "stream",
     "text": [
      "2021-07-14 16:28:45,531:(0.50s):geometry:There are 1 new atoms\n",
      "2021-07-14 16:28:45,538:(0.01s):geometry:\treduced angle potential = 0.012250173302112203.\n",
      "2021-07-14 16:28:45,696:(0.16s):geometry:\tbeginning construction of no_nonbonded final system...\n",
      "2021-07-14 16:28:45,699:(0.00s):geometry:\tinitial no-nonbonded final system forces ['HarmonicBondForce', 'HarmonicAngleForce', 'PeriodicTorsionForce', 'NonbondedForce', 'MonteCarloBarostat']\n",
      "2021-07-14 16:28:45,921:(0.22s):geometry:\tfinal no-nonbonded final system forces dict_keys(['HarmonicBondForce', 'HarmonicAngleForce', 'PeriodicTorsionForce', 'NonbondedForce'])\n",
      "2021-07-14 16:28:45,924:(0.00s):geometry:\tthere are 28 bond forces in the no-nonbonded final system\n",
      "2021-07-14 16:28:45,926:(0.00s):geometry:\tthere are 85 angle forces in the no-nonbonded final system\n",
      "2021-07-14 16:28:45,929:(0.00s):geometry:\tthere are 157 torsion forces in the no-nonbonded final system\n",
      "2021-07-14 16:28:45,931:(0.00s):geometry:reverse final system defined with 0 neglected angles.\n"
     ]
    },
    {
     "name": "stdout",
     "output_type": "stream",
     "text": [
      "conducting subsequent work with the following platform: CUDA\n",
      "conducting subsequent work with the following platform: CUDA\n"
     ]
    },
    {
     "name": "stderr",
     "output_type": "stream",
     "text": [
      "2021-07-14 16:28:47,139:(1.21s):geometry:total reduced potential before atom placement: 48.41899607369698\n"
     ]
    },
    {
     "name": "stdout",
     "output_type": "stream",
     "text": [
      "conducting subsequent work with the following platform: CUDA\n",
      "conducting subsequent work with the following platform: CUDA\n",
      "conducting subsequent work with the following platform: CUDA\n"
     ]
    },
    {
     "name": "stderr",
     "output_type": "stream",
     "text": [
      "2021-07-14 16:28:48,540:(1.40s):geometry:total reduced energy added from growth system: -5.056837038117532\n",
      "2021-07-14 16:28:48,543:(0.00s):geometry:final reduced energy 43.36216011253515\n",
      "2021-07-14 16:28:48,546:(0.00s):geometry:sum of energies: 43.36215903557945\n",
      "2021-07-14 16:28:48,548:(0.00s):geometry:magnitude of difference in the energies: 1.0769557015066766e-06\n",
      "2021-07-14 16:28:48,550:(0.00s):geometry:Final logp_proposal: 11.821616720480304\n"
     ]
    },
    {
     "name": "stdout",
     "output_type": "stream",
     "text": [
      "added energy components: [('CustomBondForce', 0.0879842954280575), ('CustomAngleForce', 0.04605409749261916), ('CustomTorsionForce', 0.005423200139534058), ('CustomBondForce', -5.1962986311777435)]\n"
     ]
    },
    {
     "name": "stderr",
     "output_type": "stream",
     "text": [
      "2021-07-14 16:28:48,726:(0.18s):root:\twriting pickle output...\n",
      "2021-07-14 16:28:48,942:(0.22s):root:\tsuccessfully dumped pickle.\n",
      "2021-07-14 16:28:48,947:(0.01s):root:\tsetup is complete.  Writing proposals and positions for each phase to top_prop dict...\n",
      "2021-07-14 16:28:48,950:(0.00s):root:\twriting atom_mapping.png\n",
      "2021-07-14 16:28:49,031:(0.08s):root:\t steps per move application: 50\n",
      "2021-07-14 16:28:49,034:(0.00s):root:\ttrajectory prefix: out\n",
      "2021-07-14 16:28:49,037:(0.00s):root:\tatom selection detected: not water\n",
      "2021-07-14 16:28:49,039:(0.00s):root:\tno nonequilibrium detected.\n",
      "2021-07-14 16:28:49,041:(0.00s):root:\tcataloging HybridTopologyFactories...\n",
      "2021-07-14 16:28:49,043:(0.00s):root:\t\tphase: solvent:\n",
      "2021-07-14 16:28:49,046:(0.00s):root:\t\twriting HybridTopologyFactory for phase solvent...\n",
      "2021-07-14 16:28:49,048:(0.00s):relative:*** Generating RxnHybridTopologyFactory ***\n",
      "2021-07-14 16:28:49,050:(0.00s):relative:Beginning nonbonded method, total particle, barostat, and exceptions retrieval...\n",
      "2021-07-14 16:28:49,142:(0.09s):relative:Old system forces: dict_keys(['HarmonicBondForce', 'HarmonicAngleForce', 'PeriodicTorsionForce', 'NonbondedForce', 'MonteCarloBarostat'])\n",
      "2021-07-14 16:28:49,145:(0.00s):relative:New system forces: dict_keys(['HarmonicBondForce', 'HarmonicAngleForce', 'PeriodicTorsionForce', 'NonbondedForce', 'MonteCarloBarostat'])\n",
      "2021-07-14 16:28:49,148:(0.00s):relative:No unknown forces.\n",
      "2021-07-14 16:28:49,150:(0.00s):relative:Nonbonded method to be used (i.e. from old system): 4\n",
      "2021-07-14 16:28:49,152:(0.00s):relative:Adding and mapping old atoms to hybrid system...\n",
      "2021-07-14 16:28:49,189:(0.04s):relative:Adding and mapping new atoms to hybrid system...\n",
      "2021-07-14 16:28:49,192:(0.00s):relative:scale_templates: [['nonscale_lambda', 'scale_lambda_0', 'interscale_lambda_0'], ['nonscale_region', 'scale_region_0', 'interscale_region_0']]\n",
      "2021-07-14 16:28:49,194:(0.00s):relative:particle (nonbonded) scale_templates: [['nonscale_lambda', 'scale_lambda_0'], ['nonscale_region1', 'scale_region_01'], ['nonscale_region2', 'scale_region_02']]\n",
      "2021-07-14 16:28:49,196:(0.00s):relative:Added MonteCarloBarostat.\n",
      "2021-07-14 16:28:49,199:(0.00s):relative:getDefaultPeriodicBoxVectors added to hybrid: [Quantity(value=Vec3(x=2.875229835510254, y=0.0, z=0.0), unit=nanometer), Quantity(value=Vec3(x=0.0, y=2.875229835510254, z=0.0), unit=nanometer), Quantity(value=Vec3(x=0.0, y=0.0, z=2.875229835510254), unit=nanometer)]\n",
      "2021-07-14 16:28:49,203:(0.00s):relative:Determined atom classes.\n",
      "2021-07-14 16:28:49,205:(0.00s):relative:Generating old system exceptions dict...\n",
      "2021-07-14 16:28:49,228:(0.02s):relative:Generating new system exceptions dict...\n",
      "2021-07-14 16:28:49,262:(0.03s):relative:Handling constraints...\n",
      "2021-07-14 16:28:49,344:(0.08s):relative:Handling virtual sites...\n",
      "2021-07-14 16:28:49,350:(0.01s):relative:\t_handle_virtual_sites: numVirtualSites: 0\n",
      "2021-07-14 16:28:50,621:(1.27s):root:'use_given_geometries' was passed to setup; skipping endstate validation\n",
      "2021-07-14 16:28:50,624:(0.00s):root:omitting sampler construction\n"
     ]
    }
   ],
   "source": [
    "# Create a htf\n",
    "setup_directory = resource_filename(\"perses\", \"data/cdk2-example\")\n",
    "\n",
    "# Get options\n",
    "from perses.app.setup_relative_calculation import getSetupOptions\n",
    "yaml_filename = os.path.join(setup_directory, \"cdk2_setup_repex.yaml\")\n",
    "setup_options = getSetupOptions(yaml_filename)\n",
    "\n",
    "# Update options\n",
    "for parameter in ['protein_pdb', 'ligand_file']:\n",
    "    setup_options[parameter] = os.path.join(setup_directory, setup_options[parameter])\n",
    "    \n",
    "setup_options['rxn_field'] = True\n",
    "setup_options['phases'] = ['solvent']\n",
    "setup_options['scale_regions'] = [[44, 2197]]\n",
    "setup_options['validate_endstate_energies'] = False\n",
    "    \n",
    "setup_dict = setup_relative_calculation.run_setup(setup_options, serialize_systems=False, build_samplers=False)"
   ]
  },
  {
   "cell_type": "code",
   "execution_count": 16,
   "id": "fd82bc90",
   "metadata": {
    "scrolled": true
   },
   "outputs": [],
   "source": [
    "htf = setup_dict['hybrid_topology_factories']['solvent']"
   ]
  },
  {
   "cell_type": "code",
   "execution_count": 17,
   "id": "2dc781dc",
   "metadata": {},
   "outputs": [],
   "source": [
    "with open(\"cdk2_solvent_scale_region.pickle\", \"wb\") as f:\n",
    "    pickle.dump(htf, f)"
   ]
  },
  {
   "cell_type": "markdown",
   "id": "dc742379",
   "metadata": {},
   "source": [
    "#### Old system HarmonicBondForce vs hybrid system CustomBondForce"
   ]
  },
  {
   "cell_type": "code",
   "execution_count": 18,
   "id": "0858c0e0",
   "metadata": {},
   "outputs": [],
   "source": [
    "# Load htf\n",
    "with open(\"/home/zhangi/choderalab/perses_benchmark/perses_protein_mutations/code/26_rxn_field/cdk2_solvent_scale_region.pickle\", \"rb\") as f:\n",
    "    htf = pickle.load(f)"
   ]
  },
  {
   "cell_type": "code",
   "execution_count": 19,
   "id": "9860b232",
   "metadata": {},
   "outputs": [
    {
     "data": {
      "text/plain": [
       "[44, 2197]"
      ]
     },
     "execution_count": 19,
     "metadata": {},
     "output_type": "execute_result"
    }
   ],
   "source": [
    "# This is the scale region\n",
    "list(htf._atom_classes['unique_old_atoms'][0]) + list(htf._atom_classes['unique_new_atoms'][0])"
   ]
  },
  {
   "cell_type": "code",
   "execution_count": 20,
   "id": "2661b103",
   "metadata": {},
   "outputs": [
    {
     "name": "stdout",
     "output_type": "stream",
     "text": [
      "Warning: Returning CPU platform instead of requested platform <simtk.openmm.openmm.Platform; proxy of <Swig Object of type 'OpenMM::Platform *' at 0x2ae70ce2b150> >\n",
      "conducting subsequent work with the following platform: CPU\n",
      "conducting subsequent work with the following platform: CUDA\n",
      "[('HarmonicBondForce', 4.608082977954756), ('HarmonicAngleForce', 29.199523609209102), ('PeriodicTorsionForce', 15.076747992617829), ('NonbondedForce', 1789.8818680576826), ('AndersenThermostat', 0.0), ('MonteCarloBarostat', 0.0)]\n",
      "conducting subsequent work with the following platform: CUDA\n",
      "[('CustomBondForce', 4.608082977954756), ('CustomAngleForce', 30.17311292378729), ('CustomTorsionForce', 15.076753795301011), ('AndersenThermostat', 0.0), ('MonteCarloBarostat', 0.0)]\n",
      "Success! Custom bond force and standard bond force energies are equal!\n"
     ]
    }
   ],
   "source": [
    "test_bond_energies(htf, is_solvated=True)"
   ]
  },
  {
   "cell_type": "markdown",
   "id": "9d93a3cd",
   "metadata": {},
   "source": [
    "#### New system HarmonicBondForce vs hybrid system CustomBondForce"
   ]
  },
  {
   "cell_type": "code",
   "execution_count": 21,
   "id": "c2ab9959",
   "metadata": {},
   "outputs": [],
   "source": [
    "# Load htf\n",
    "with open(\"/home/zhangi/choderalab/perses_benchmark/perses_protein_mutations/code/26_rxn_field/cdk2_solvent_scale_region.pickle\", \"rb\") as f:\n",
    "    htf = pickle.load(f)"
   ]
  },
  {
   "cell_type": "code",
   "execution_count": 22,
   "id": "dacdf51f",
   "metadata": {
    "scrolled": false
   },
   "outputs": [
    {
     "name": "stdout",
     "output_type": "stream",
     "text": [
      "Warning: Returning CPU platform instead of requested platform <simtk.openmm.openmm.Platform; proxy of <Swig Object of type 'OpenMM::Platform *' at 0x2ae70ce2b150> >\n",
      "conducting subsequent work with the following platform: CPU\n",
      "conducting subsequent work with the following platform: CUDA\n",
      "[('HarmonicBondForce', 4.519508183899664), ('HarmonicAngleForce', 30.12674973839204), ('PeriodicTorsionForce', 15.078888310009113), ('NonbondedForce', 1805.061274837831), ('AndersenThermostat', 0.0), ('MonteCarloBarostat', 0.0)]\n",
      "conducting subsequent work with the following platform: CUDA\n",
      "[('CustomBondForce', 4.519508183899664), ('CustomAngleForce', 30.17311292378729), ('CustomTorsionForce', 15.076753795301011), ('AndersenThermostat', 0.0), ('MonteCarloBarostat', 0.0)]\n",
      "Success! Custom bond force and standard bond force energies are equal!\n"
     ]
    }
   ],
   "source": [
    "test_bond_energies(htf, is_old=False, is_solvated=True)"
   ]
  },
  {
   "cell_type": "markdown",
   "id": "moderate-christopher",
   "metadata": {},
   "source": [
    "# 8mer in solvent"
   ]
  },
  {
   "cell_type": "code",
   "execution_count": 23,
   "id": "split-fitting",
   "metadata": {},
   "outputs": [],
   "source": [
    "import os\n",
    "from pkg_resources import resource_filename\n",
    "from perses.app import setup_relative_calculation\n",
    "import pickle\n",
    "from simtk import openmm, unit\n",
    "from simtk.openmm import app\n",
    "from openmmforcefields.generators import SystemGenerator\n",
    "import numpy as np"
   ]
  },
  {
   "cell_type": "code",
   "execution_count": 24,
   "id": "charming-cassette",
   "metadata": {},
   "outputs": [],
   "source": [
    "# Test 8-mer peptide in solvent\n",
    "peptide_filename = resource_filename('perses', 'data/8mer-example/4zuh_peptide_capped.pdb')\n",
    "pdb = app.PDBFile(peptide_filename)\n",
    "forcefield_files = ['amber14/protein.ff14SB.xml', 'amber14/tip3p.xml']\n",
    "barostat = openmm.MonteCarloBarostat(1.0 * unit.atmosphere, 300 * unit.kelvin, 50)\n",
    "# barostat = None\n",
    "modeller = app.Modeller(pdb.topology, pdb.positions)\n",
    " \n",
    "system_generator = SystemGenerator(forcefields=forcefield_files,\n",
    "                                   barostat=barostat,\n",
    "                                   forcefield_kwargs={'removeCMMotion': False,\n",
    "                                                      'ewaldErrorTolerance': 0.00025,\n",
    "                                                      'constraints': app.HBonds,\n",
    "                                                      'hydrogenMass': 4 * unit.amus},\n",
    "                                   periodic_forcefield_kwargs=None,\n",
    "                                   small_molecule_forcefield='gaff-2.11',\n",
    "                                   nonperiodic_forcefield_kwargs={'nonbondedMethod': app.NoCutoff},\n",
    "                                   molecules=None,\n",
    "                                   cache=None)\n",
    "\n",
    "modeller.addSolvent(system_generator.forcefield, model='tip3p', padding=9*unit.angstroms, ionicStrength=0.15*unit.molar)\n",
    "topology = modeller.getTopology()\n",
    "positions = modeller.getPositions()\n",
    "\n",
    "# Canonicalize the solvated positions: turn tuples into np.array\n",
    "positions = unit.quantity.Quantity(value=np.array([list(atom_pos) for atom_pos in positions.value_in_unit_system(unit.md_unit_system)]), unit=unit.nanometers)\n",
    "system = system_generator.create_system(topology)\n",
    "\n"
   ]
  },
  {
   "cell_type": "code",
   "execution_count": 25,
   "id": "working-blackjack",
   "metadata": {
    "scrolled": true
   },
   "outputs": [
    {
     "name": "stderr",
     "output_type": "stream",
     "text": [
      "2021-07-14 16:29:01,250:(10.63s):proposal_generator:\tConducting polymer point mutation proposal...\n"
     ]
    },
    {
     "name": "stdout",
     "output_type": "stream",
     "text": [
      "Making mutation ALA->MET\n"
     ]
    },
    {
     "name": "stderr",
     "output_type": "stream",
     "text": [
      "2021-07-14 16:29:02,102:(0.85s):proposal_generator:Using matching_criterion to chose best atom map\n",
      "2021-07-14 16:29:02,110:(0.01s):proposal_generator:Scaffold has symmetry of 0\n",
      "2021-07-14 16:29:02,113:(0.00s):proposal_generator:Two molecules are not similar to have a common scaffold\n",
      "2021-07-14 16:29:02,116:(0.00s):proposal_generator:Proceeding with direct mapping of molecules, but please check atom mapping and the geometry of the ligands.\n",
      "2021-07-14 16:29:02,121:(0.01s):proposal_generator:len [{13: 8}, {16: 9}, {15: 9}, {14: 9}, {13: 9}, {12: 9}, {11: 9}, {10: 9}, {16: 8}, {15: 8}, {14: 8}, {10: 7}, {12: 8}, {11: 8}, {10: 8}, {16: 7}, {15: 7}, {14: 7}, {13: 7}, {12: 7}, {11: 7}]\n",
      "2021-07-14 16:29:02,124:(0.00s):proposal_generator:{13: 8}\n",
      "2021-07-14 16:29:02,127:(0.00s):proposal_generator:{16: 9}\n",
      "2021-07-14 16:29:02,129:(0.00s):proposal_generator:{15: 9}\n",
      "2021-07-14 16:29:02,132:(0.00s):proposal_generator:{14: 9}\n",
      "2021-07-14 16:29:02,134:(0.00s):proposal_generator:{13: 9}\n",
      "2021-07-14 16:29:02,137:(0.00s):proposal_generator:{12: 9}\n",
      "2021-07-14 16:29:02,139:(0.00s):proposal_generator:{11: 9}\n",
      "2021-07-14 16:29:02,142:(0.00s):proposal_generator:{10: 9}\n",
      "2021-07-14 16:29:02,144:(0.00s):proposal_generator:{16: 8}\n",
      "2021-07-14 16:29:02,145:(0.00s):proposal_generator:{15: 8}\n",
      "2021-07-14 16:29:02,146:(0.00s):proposal_generator:{14: 8}\n",
      "2021-07-14 16:29:02,148:(0.00s):proposal_generator:{10: 7}\n",
      "2021-07-14 16:29:02,149:(0.00s):proposal_generator:{12: 8}\n",
      "2021-07-14 16:29:02,150:(0.00s):proposal_generator:{11: 8}\n",
      "2021-07-14 16:29:02,151:(0.00s):proposal_generator:{10: 8}\n",
      "2021-07-14 16:29:02,161:(0.01s):proposal_generator:{16: 7}\n",
      "2021-07-14 16:29:02,162:(0.00s):proposal_generator:{15: 7}\n",
      "2021-07-14 16:29:02,163:(0.00s):proposal_generator:{14: 7}\n",
      "2021-07-14 16:29:02,164:(0.00s):proposal_generator:{13: 7}\n",
      "2021-07-14 16:29:02,165:(0.00s):proposal_generator:{12: 7}\n",
      "2021-07-14 16:29:02,166:(0.00s):proposal_generator:{11: 7}\n",
      "2021-07-14 16:29:02,166:(0.00s):proposal_generator:Returning map that best satisfies matching_criterion\n",
      "2021-07-14 16:29:02,167:(0.00s):proposal_generator:Finding best map using matching_criterion name\n",
      "2021-07-14 16:29:02,170:(0.00s):proposal_generator:{13: 8}\n",
      "2021-07-14 16:29:04,170:(2.00s):geometry:propose: performing forward proposal\n",
      "2021-07-14 16:29:04,173:(0.00s):geometry:propose: unique new atoms detected; proceeding to _logp_propose...\n",
      "2021-07-14 16:29:04,175:(0.00s):geometry:Conducting forward proposal...\n",
      "2021-07-14 16:29:04,178:(0.00s):geometry:Computing proposal order with NetworkX...\n",
      "2021-07-14 16:29:04,196:(0.02s):geometry:number of atoms to be placed: 11\n",
      "2021-07-14 16:29:04,199:(0.00s):geometry:Atom index proposal order is [21, 26, 29, 30, 27, 25, 32, 24, 31, 28, 33]\n",
      "2021-07-14 16:29:04,202:(0.00s):geometry:omitted_bonds: []\n",
      "2021-07-14 16:29:04,204:(0.00s):geometry:direction of proposal is forward; creating atoms_with_positions and new positions from old system/topology...\n",
      "2021-07-14 16:29:05,225:(1.02s):geometry:creating growth system...\n",
      "2021-07-14 16:29:05,432:(0.21s):geometry:\tcreating bond force...\n",
      "2021-07-14 16:29:05,435:(0.00s):geometry:\tthere are 64 bonds in reference force.\n",
      "2021-07-14 16:29:05,439:(0.00s):geometry:\tcreating angle force...\n",
      "2021-07-14 16:29:05,442:(0.00s):geometry:\tthere are 231 angles in reference force.\n",
      "2021-07-14 16:29:05,449:(0.01s):geometry:\tcreating torsion force...\n",
      "2021-07-14 16:29:05,451:(0.00s):geometry:\tcreating extra torsions force...\n",
      "2021-07-14 16:29:05,454:(0.00s):geometry:\tthere are 426 torsions in reference force.\n",
      "2021-07-14 16:29:05,463:(0.01s):geometry:\tcreating nonbonded force...\n",
      "2021-07-14 16:29:05,466:(0.00s):geometry:\t\tgrabbing reference nonbonded method, cutoff, switching function, switching distance...\n",
      "2021-07-14 16:29:05,469:(0.00s):geometry:\t\tcreating nonbonded exception force (i.e. custom bond for 1,4s)...\n",
      "2021-07-14 16:29:05,471:(0.00s):geometry:\t\tlooping through exceptions calculating growth indices, and adding appropriate interactions to custom bond force.\n",
      "2021-07-14 16:29:05,473:(0.00s):geometry:\t\tthere are 6122 in the reference Nonbonded force\n",
      "2021-07-14 16:29:05,699:(0.23s):geometry:\t\t\t\t\tchiral atom <Atom 18 (CA) of chain 0 residue 2 (MET)> with neighbors [<Atom 19 (C) of chain 0 residue 2 (MET)>, <Atom 21 (CB) of chain 0 residue 2 (MET)>, <Atom 23 (HA) of chain 0 residue 2 (MET)>, <Atom 17 (N) of chain 0 residue 2 (MET)>] is surrounded by 3 core neighbors.  omitting chirality bias torsion\n",
      "2021-07-14 16:29:05,702:(0.00s):geometry:Neglected angle terms : []\n",
      "2021-07-14 16:29:05,705:(0.00s):geometry:omitted_growth_terms: {'bonds': [], 'angles': [], 'torsions': [], '1,4s': []}\n",
      "2021-07-14 16:29:05,708:(0.00s):geometry:extra torsions: {0: (22, 17, 18, 21, [1, Quantity(value=0.99401209477807, unit=radian), Quantity(value=1200.0, unit=kilocalorie/mole), 1]), 1: (26, 29, 30, 31, [1, Quantity(value=2.163242711939442, unit=radian), Quantity(value=1200.0, unit=kilocalorie/mole), 9]), 2: (26, 29, 30, 32, [1, Quantity(value=-2.022205112246109, unit=radian), Quantity(value=1200.0, unit=kilocalorie/mole), 7]), 3: (26, 29, 30, 33, [1, Quantity(value=0.06526263287522305, unit=radian), Quantity(value=1200.0, unit=kilocalorie/mole), 11])}\n",
      "2021-07-14 16:29:05,710:(0.00s):geometry:neglected angle terms include []\n",
      "2021-07-14 16:29:05,713:(0.00s):geometry:log probability choice of torsions and atom order: -15.309537618887045\n",
      "2021-07-14 16:29:05,715:(0.00s):geometry:creating platform, integrators, and contexts; setting growth parameter\n"
     ]
    },
    {
     "name": "stdout",
     "output_type": "stream",
     "text": [
      "conducting subsequent work with the following platform: CUDA\n"
     ]
    },
    {
     "name": "stderr",
     "output_type": "stream",
     "text": [
      "2021-07-14 16:29:07,898:(2.18s):geometry:setting atoms_with_positions context new positions\n"
     ]
    },
    {
     "name": "stdout",
     "output_type": "stream",
     "text": [
      "conducting subsequent work with the following platform: CUDA\n"
     ]
    },
    {
     "name": "stderr",
     "output_type": "stream",
     "text": [
      "2021-07-14 16:29:08,964:(1.07s):geometry:There are 11 new atoms\n",
      "2021-07-14 16:29:08,971:(0.01s):geometry:\treduced angle potential = 1.0671272025908238.\n",
      "2021-07-14 16:29:09,130:(0.16s):geometry:\treduced angle potential = 0.008314850993864758.\n",
      "2021-07-14 16:29:09,287:(0.16s):geometry:\treduced angle potential = 0.11253623747583462.\n",
      "2021-07-14 16:29:09,445:(0.16s):geometry:\treduced angle potential = 0.1076359909073142.\n",
      "2021-07-14 16:29:09,620:(0.17s):geometry:\treduced angle potential = 0.014351779316176238.\n",
      "2021-07-14 16:29:09,791:(0.17s):geometry:\treduced angle potential = 1.0955090836484527.\n",
      "2021-07-14 16:29:09,963:(0.17s):geometry:\treduced angle potential = 0.07679391493269586.\n",
      "2021-07-14 16:29:10,124:(0.16s):geometry:\treduced angle potential = 0.048777015663897576.\n",
      "2021-07-14 16:29:10,296:(0.17s):geometry:\treduced angle potential = 0.44726015705203576.\n",
      "2021-07-14 16:29:10,462:(0.17s):geometry:\treduced angle potential = 0.014671486878419779.\n",
      "2021-07-14 16:29:10,634:(0.17s):geometry:\treduced angle potential = 0.06345231483074847.\n",
      "2021-07-14 16:29:10,900:(0.27s):geometry:\tbeginning construction of no_nonbonded final system...\n",
      "2021-07-14 16:29:10,903:(0.00s):geometry:\tinitial no-nonbonded final system forces ['HarmonicBondForce', 'HarmonicAngleForce', 'PeriodicTorsionForce', 'NonbondedForce', 'MonteCarloBarostat']\n",
      "2021-07-14 16:29:11,474:(0.57s):geometry:\tfinal no-nonbonded final system forces dict_keys(['HarmonicBondForce', 'HarmonicAngleForce', 'PeriodicTorsionForce', 'NonbondedForce'])\n",
      "2021-07-14 16:29:11,477:(0.00s):geometry:\tthere are 64 bond forces in the no-nonbonded final system\n",
      "2021-07-14 16:29:11,480:(0.00s):geometry:\tthere are 231 angle forces in the no-nonbonded final system\n",
      "2021-07-14 16:29:11,482:(0.00s):geometry:\tthere are 426 torsion forces in the no-nonbonded final system\n",
      "2021-07-14 16:29:11,484:(0.00s):geometry:forward final system defined with 0 neglected angles.\n"
     ]
    },
    {
     "name": "stdout",
     "output_type": "stream",
     "text": [
      "conducting subsequent work with the following platform: CUDA\n",
      "conducting subsequent work with the following platform: CUDA\n"
     ]
    },
    {
     "name": "stderr",
     "output_type": "stream",
     "text": [
      "2021-07-14 16:29:15,192:(3.71s):geometry:total reduced potential before atom placement: 168.36662826218392\n"
     ]
    },
    {
     "name": "stdout",
     "output_type": "stream",
     "text": [
      "conducting subsequent work with the following platform: CUDA\n",
      "conducting subsequent work with the following platform: CUDA\n",
      "conducting subsequent work with the following platform: CUDA\n"
     ]
    },
    {
     "name": "stderr",
     "output_type": "stream",
     "text": [
      "2021-07-14 16:29:17,756:(2.56s):geometry:total reduced energy added from growth system: 621.2069151296467\n",
      "2021-07-14 16:29:17,759:(0.00s):geometry:final reduced energy 789.5735437770522\n",
      "2021-07-14 16:29:17,761:(0.00s):geometry:sum of energies: 789.5735433918306\n",
      "2021-07-14 16:29:17,764:(0.00s):geometry:magnitude of difference in the energies: 3.8522159684362123e-07\n",
      "2021-07-14 16:29:17,766:(0.00s):geometry:Final logp_proposal: 75.1479219092164\n"
     ]
    },
    {
     "name": "stdout",
     "output_type": "stream",
     "text": [
      "added energy components: [('CustomBondForce', 1.5258705737243452), ('CustomAngleForce', 367.47878508528305), ('CustomTorsionForce', 18.563197731683804), ('CustomBondForce', 233.6390617389555)]\n"
     ]
    },
    {
     "name": "stderr",
     "output_type": "stream",
     "text": [
      "2021-07-14 16:29:17,951:(0.18s):geometry:logp_reverse: performing reverse proposal\n",
      "2021-07-14 16:29:17,954:(0.00s):geometry:logp_reverse: unique new atoms detected; proceeding to _logp_propose...\n",
      "2021-07-14 16:29:17,957:(0.00s):geometry:Conducting forward proposal...\n",
      "2021-07-14 16:29:17,960:(0.00s):geometry:Computing proposal order with NetworkX...\n",
      "2021-07-14 16:29:17,975:(0.02s):geometry:number of atoms to be placed: 4\n",
      "2021-07-14 16:29:17,978:(0.00s):geometry:Atom index proposal order is [21, 24, 26, 25]\n",
      "2021-07-14 16:29:17,981:(0.00s):geometry:omitted_bonds: []\n",
      "2021-07-14 16:29:17,983:(0.00s):geometry:direction of proposal is reverse; creating atoms_with_positions from old system/topology\n",
      "2021-07-14 16:29:18,888:(0.90s):geometry:creating growth system...\n",
      "2021-07-14 16:29:19,092:(0.20s):geometry:\tcreating bond force...\n",
      "2021-07-14 16:29:19,096:(0.00s):geometry:\tthere are 61 bonds in reference force.\n",
      "2021-07-14 16:29:19,099:(0.00s):geometry:\tcreating angle force...\n",
      "2021-07-14 16:29:19,102:(0.00s):geometry:\tthere are 218 angles in reference force.\n",
      "2021-07-14 16:29:19,108:(0.01s):geometry:\tcreating torsion force...\n",
      "2021-07-14 16:29:19,111:(0.00s):geometry:\tcreating extra torsions force...\n",
      "2021-07-14 16:29:19,113:(0.00s):geometry:\tthere are 399 torsions in reference force.\n",
      "2021-07-14 16:29:19,121:(0.01s):geometry:\tcreating nonbonded force...\n",
      "2021-07-14 16:29:19,123:(0.00s):geometry:\t\tgrabbing reference nonbonded method, cutoff, switching function, switching distance...\n",
      "2021-07-14 16:29:19,126:(0.00s):geometry:\t\tcreating nonbonded exception force (i.e. custom bond for 1,4s)...\n",
      "2021-07-14 16:29:19,128:(0.00s):geometry:\t\tlooping through exceptions calculating growth indices, and adding appropriate interactions to custom bond force.\n",
      "2021-07-14 16:29:19,131:(0.00s):geometry:\t\tthere are 6087 in the reference Nonbonded force\n",
      "2021-07-14 16:29:19,346:(0.22s):geometry:\t\t\t\t\tchiral atom <Atom 18 (CA) of chain 0 residue 2 (ALA)> with neighbors [<Atom 19 (C) of chain 0 residue 2 (ALA)>, <Atom 21 (CB) of chain 0 residue 2 (ALA)>, <Atom 23 (HA) of chain 0 residue 2 (ALA)>, <Atom 17 (N) of chain 0 residue 2 (ALA)>] is surrounded by 3 core neighbors.  omitting chirality bias torsion\n",
      "2021-07-14 16:29:19,349:(0.00s):geometry:Neglected angle terms : []\n",
      "2021-07-14 16:29:19,352:(0.00s):geometry:omitted_growth_terms: {'bonds': [], 'angles': [], 'torsions': [], '1,4s': []}\n",
      "2021-07-14 16:29:19,354:(0.00s):geometry:extra torsions: {0: (22, 17, 18, 21, [1, Quantity(value=0.9799661941737812, unit=radian), Quantity(value=1200.0, unit=kilocalorie/mole), 1]), 1: (17, 18, 21, 24, [1, Quantity(value=2.105358864604291, unit=radian), Quantity(value=1200.0, unit=kilocalorie/mole), 2]), 2: (17, 18, 21, 25, [1, Quantity(value=-2.0823006129211796, unit=radian), Quantity(value=1200.0, unit=kilocalorie/mole), 4]), 3: (17, 18, 21, 26, [1, Quantity(value=0.018582237407944735, unit=radian), Quantity(value=1200.0, unit=kilocalorie/mole), 3]), 4: (19, 18, 21, 24, [1, Quantity(value=-0.036945135932107576, unit=radian), Quantity(value=1200.0, unit=kilocalorie/mole), 2]), 5: (19, 18, 21, 25, [1, Quantity(value=2.0585806937220097, unit=radian), Quantity(value=1200.0, unit=kilocalorie/mole), 4]), 6: (19, 18, 21, 26, [1, Quantity(value=-2.1237217631284597, unit=radian), Quantity(value=1200.0, unit=kilocalorie/mole), 3]), 7: (23, 18, 21, 24, [1, Quantity(value=-2.119603470065817, unit=radian), Quantity(value=1200.0, unit=kilocalorie/mole), 2]), 8: (23, 18, 21, 25, [1, Quantity(value=-0.024077640411697132, unit=radian), Quantity(value=1200.0, unit=kilocalorie/mole), 4]), 9: (23, 18, 21, 26, [1, Quantity(value=2.0768052099174152, unit=radian), Quantity(value=1200.0, unit=kilocalorie/mole), 3])}\n",
      "2021-07-14 16:29:19,357:(0.00s):geometry:neglected angle terms include []\n",
      "2021-07-14 16:29:19,359:(0.00s):geometry:log probability choice of torsions and atom order: -5.78074351579233\n",
      "2021-07-14 16:29:19,362:(0.00s):geometry:creating platform, integrators, and contexts; setting growth parameter\n"
     ]
    },
    {
     "name": "stdout",
     "output_type": "stream",
     "text": [
      "conducting subsequent work with the following platform: CUDA\n"
     ]
    },
    {
     "name": "stderr",
     "output_type": "stream",
     "text": [
      "2021-07-14 16:29:21,671:(2.31s):geometry:setting atoms_with_positions context old positions\n"
     ]
    },
    {
     "name": "stdout",
     "output_type": "stream",
     "text": [
      "conducting subsequent work with the following platform: CUDA\n"
     ]
    },
    {
     "name": "stderr",
     "output_type": "stream",
     "text": [
      "2021-07-14 16:29:22,812:(1.14s):geometry:There are 4 new atoms\n",
      "2021-07-14 16:29:22,818:(0.01s):geometry:\treduced angle potential = 0.042051561766555265.\n",
      "2021-07-14 16:29:22,967:(0.15s):geometry:\treduced angle potential = 9.265637866968462e-06.\n",
      "2021-07-14 16:29:23,118:(0.15s):geometry:\treduced angle potential = 2.233125127093818e-08.\n",
      "2021-07-14 16:29:23,273:(0.15s):geometry:\treduced angle potential = 9.561051668715153e-06.\n",
      "2021-07-14 16:29:23,539:(0.27s):geometry:\tbeginning construction of no_nonbonded final system...\n",
      "2021-07-14 16:29:23,542:(0.00s):geometry:\tinitial no-nonbonded final system forces ['HarmonicBondForce', 'HarmonicAngleForce', 'PeriodicTorsionForce', 'NonbondedForce', 'MonteCarloBarostat']\n",
      "2021-07-14 16:29:24,106:(0.56s):geometry:\tfinal no-nonbonded final system forces dict_keys(['HarmonicBondForce', 'HarmonicAngleForce', 'PeriodicTorsionForce', 'NonbondedForce'])\n",
      "2021-07-14 16:29:24,109:(0.00s):geometry:\tthere are 61 bond forces in the no-nonbonded final system\n",
      "2021-07-14 16:29:24,112:(0.00s):geometry:\tthere are 218 angle forces in the no-nonbonded final system\n",
      "2021-07-14 16:29:24,115:(0.00s):geometry:\tthere are 399 torsion forces in the no-nonbonded final system\n",
      "2021-07-14 16:29:24,117:(0.00s):geometry:reverse final system defined with 0 neglected angles.\n"
     ]
    },
    {
     "name": "stdout",
     "output_type": "stream",
     "text": [
      "conducting subsequent work with the following platform: CUDA\n",
      "conducting subsequent work with the following platform: CUDA\n"
     ]
    },
    {
     "name": "stderr",
     "output_type": "stream",
     "text": [
      "2021-07-14 16:29:27,985:(3.87s):geometry:total reduced potential before atom placement: 168.36662826283057\n"
     ]
    },
    {
     "name": "stdout",
     "output_type": "stream",
     "text": [
      "conducting subsequent work with the following platform: CUDA\n",
      "conducting subsequent work with the following platform: CUDA\n",
      "conducting subsequent work with the following platform: CUDA\n"
     ]
    },
    {
     "name": "stderr",
     "output_type": "stream",
     "text": [
      "2021-07-14 16:29:30,659:(2.67s):geometry:total reduced energy added from growth system: 19.11335785388209\n",
      "2021-07-14 16:29:30,663:(0.00s):geometry:final reduced energy 187.47998570143525\n",
      "2021-07-14 16:29:30,665:(0.00s):geometry:sum of energies: 187.47998611671267\n",
      "2021-07-14 16:29:30,667:(0.00s):geometry:magnitude of difference in the energies: 4.1527740890501263e-07\n",
      "2021-07-14 16:29:30,670:(0.00s):geometry:Final logp_proposal: -30443.871040691214\n"
     ]
    },
    {
     "name": "stdout",
     "output_type": "stream",
     "text": [
      "added energy components: [('CustomBondForce', 0.04562463240715887), ('CustomAngleForce', 0.11963264577965825), ('CustomTorsionForce', 7.457414545448549), ('CustomBondForce', 11.490686030246726)]\n"
     ]
    }
   ],
   "source": [
    "from perses.rjmc.topology_proposal import PointMutationEngine\n",
    "from perses.annihilation.relative import RepartitionedHybridTopologyFactory\n",
    "from perses.tests.utils import validate_endstate_energies\n",
    "import random\n",
    "\n",
    "aminos = ['ALA','ARG','ASN','ASP','CYS','GLN','GLU','GLY','HIS','ILE','LEU','LYS','MET','PHE','PRO','SER','THR','TRP','TYR','VAL']\n",
    "\n",
    "ENERGY_THRESHOLD = 1e-6\n",
    "kB = unit.BOLTZMANN_CONSTANT_kB * unit.AVOGADRO_CONSTANT_NA\n",
    "temperature = 300.0 * unit.kelvin\n",
    "kT = kB * temperature\n",
    "beta = 1.0/kT\n",
    "\n",
    "chain = 'C'\n",
    "for res in topology.residues():\n",
    "    if res.id == '2':\n",
    "        wt_res = res.name\n",
    "# aminos_updated = [amino for amino in aminos if amino not in [wt_res, 'PRO', 'HIS', 'TRP', 'PHE', 'TYR']]\n",
    "# mutant = random.choice(aminos_updated)\n",
    "mutant = \"MET\"\n",
    "print(f'Making mutation {wt_res}->{mutant}')\n",
    "\n",
    "# Create point mutation engine to mutate residue at id 2 to random amino acid\n",
    "point_mutation_engine = PointMutationEngine(wildtype_topology=topology,\n",
    "                                            system_generator=system_generator,\n",
    "                                            chain_id=chain,\n",
    "                                            max_point_mutants=1,\n",
    "                                            residues_allowed_to_mutate=['2'],  # the residue ids allowed to mutate\n",
    "                                            allowed_mutations=[('2', mutant)],\n",
    "                                            aggregate=True)  # always allow aggregation\n",
    "\n",
    "# Create topology proposal\n",
    "topology_proposal = point_mutation_engine.propose(current_system=system, current_topology=topology)\n",
    "\n",
    "# Create geometry engine\n",
    "from perses.rjmc.geometry import FFAllAngleGeometryEngine\n",
    "geometry_engine = FFAllAngleGeometryEngine(metadata=None,\n",
    "                                           use_sterics=False,\n",
    "                                           n_bond_divisions=100,\n",
    "                                           n_angle_divisions=180,\n",
    "                                           n_torsion_divisions=360,\n",
    "                                           verbose=True,\n",
    "                                           storage=None,\n",
    "                                           bond_softening_constant=1.0,\n",
    "                                           angle_softening_constant=1.0,\n",
    "                                           neglect_angles=False,\n",
    "                                           use_14_nonbondeds=True)\n",
    "\n",
    "# Create geometry proposal\n",
    "new_positions, logp_proposal = geometry_engine.propose(topology_proposal, positions, beta,\n",
    "                                                               validate_energy_bookkeeping=True)\n",
    "logp_reverse = geometry_engine.logp_reverse(topology_proposal, new_positions, positions, beta,\n",
    "                                            validate_energy_bookkeeping=True)\n",
    "\n",
    "if not topology_proposal.unique_new_atoms:\n",
    "    assert geometry_engine.forward_final_context_reduced_potential == None, f\"There are no unique new atoms but the geometry_engine's final context reduced potential is not None (i.e. {self._geometry_engine.forward_final_context_reduced_potential})\"\n",
    "    assert geometry_engine.forward_atoms_with_positions_reduced_potential == None, f\"There are no unique new atoms but the geometry_engine's forward atoms-with-positions-reduced-potential in not None (i.e. { self._geometry_engine.forward_atoms_with_positions_reduced_potential})\"\n",
    "    vacuum_added_valence_energy = 0.0\n",
    "else:\n",
    "    added_valence_energy = geometry_engine.forward_final_context_reduced_potential - geometry_engine.forward_atoms_with_positions_reduced_potential\n",
    "\n",
    "if not topology_proposal.unique_old_atoms:\n",
    "    assert geometry_engine.reverse_final_context_reduced_potential == None, f\"There are no unique old atoms but the geometry_engine's final context reduced potential is not None (i.e. {self._geometry_engine.reverse_final_context_reduced_potential})\"\n",
    "    assert geometry_engine.reverse_atoms_with_positions_reduced_potential == None, f\"There are no unique old atoms but the geometry_engine's atoms-with-positions-reduced-potential in not None (i.e. { self._geometry_engine.reverse_atoms_with_positions_reduced_potential})\"\n",
    "    subtracted_valence_energy = 0.0\n",
    "else:\n",
    "    subtracted_valence_energy = geometry_engine.reverse_final_context_reduced_potential - geometry_engine.reverse_atoms_with_positions_reduced_potential\n"
   ]
  },
  {
   "cell_type": "code",
   "execution_count": 26,
   "id": "visible-mistress",
   "metadata": {
    "scrolled": true
   },
   "outputs": [
    {
     "name": "stderr",
     "output_type": "stream",
     "text": [
      "2021-07-14 16:29:30,868:(0.20s):relative:*** Generating RxnHybridTopologyFactory ***\n",
      "2021-07-14 16:29:30,871:(0.00s):relative:Beginning nonbonded method, total particle, barostat, and exceptions retrieval...\n",
      "2021-07-14 16:29:31,124:(0.25s):relative:Old system forces: dict_keys(['HarmonicBondForce', 'HarmonicAngleForce', 'PeriodicTorsionForce', 'NonbondedForce', 'MonteCarloBarostat'])\n",
      "2021-07-14 16:29:31,127:(0.00s):relative:New system forces: dict_keys(['HarmonicBondForce', 'HarmonicAngleForce', 'PeriodicTorsionForce', 'NonbondedForce', 'MonteCarloBarostat'])\n",
      "2021-07-14 16:29:31,129:(0.00s):relative:No unknown forces.\n",
      "2021-07-14 16:29:31,131:(0.00s):relative:Nonbonded method to be used (i.e. from old system): 4\n",
      "2021-07-14 16:29:31,134:(0.00s):relative:Adding and mapping old atoms to hybrid system...\n",
      "2021-07-14 16:29:31,225:(0.09s):relative:Adding and mapping new atoms to hybrid system...\n",
      "2021-07-14 16:29:31,228:(0.00s):relative:scale_templates: [['nonscale_lambda'], ['nonscale_region']]\n",
      "2021-07-14 16:29:31,230:(0.00s):relative:particle (nonbonded) scale_templates: [['nonscale_lambda'], ['nonscale_region1'], ['nonscale_region2']]\n",
      "2021-07-14 16:29:31,233:(0.00s):relative:Added MonteCarloBarostat.\n",
      "2021-07-14 16:29:31,235:(0.00s):relative:getDefaultPeriodicBoxVectors added to hybrid: [Quantity(value=Vec3(x=3.9005, y=0.0, z=0.0), unit=nanometer), Quantity(value=Vec3(x=0.0, y=3.9005, z=0.0), unit=nanometer), Quantity(value=Vec3(x=0.0, y=0.0, z=3.9005), unit=nanometer)]\n",
      "2021-07-14 16:29:31,242:(0.01s):relative:Determined atom classes.\n",
      "2021-07-14 16:29:31,245:(0.00s):relative:Generating old system exceptions dict...\n",
      "2021-07-14 16:29:31,302:(0.06s):relative:Generating new system exceptions dict...\n",
      "2021-07-14 16:29:31,387:(0.09s):relative:Handling constraints...\n",
      "2021-07-14 16:29:31,596:(0.21s):relative:Handling virtual sites...\n",
      "2021-07-14 16:29:31,605:(0.01s):relative:\t_handle_virtual_sites: numVirtualSites: 0\n",
      "2021-07-14 16:29:31,691:(0.09s):relative:hybrid_index_pair (105, 106, 107, 116) was not found in the new_term_collector, but (106, 105, 107, 116) has the same atoms and terms, so (106, 105, 107, 116) will be removed from the new term collector\n"
     ]
    }
   ],
   "source": [
    "from perses.annihilation.relative import RxnHybridTopologyFactory\n",
    "flatten_exceptions = True\n",
    "flatten_torsions = True\n",
    "endstate = None\n",
    "scale_regions = None\n",
    "htf = RxnHybridTopologyFactory(topology_proposal=topology_proposal,\n",
    "                     current_positions=positions,\n",
    "                     new_positions=new_positions,\n",
    "                     use_dispersion_correction=False,\n",
    "                     functions=None,\n",
    "                     softcore_alpha=None,\n",
    "                     bond_softening_constant=1.0,\n",
    "                     angle_softening_constant=1.0,\n",
    "                     soften_only_new=False,\n",
    "                     neglected_new_angle_terms=[],\n",
    "                     neglected_old_angle_terms=[],\n",
    "                     softcore_LJ_v2=True,\n",
    "                     softcore_electrostatics=True,\n",
    "                     softcore_LJ_v2_alpha=0.85,\n",
    "                     softcore_electrostatics_alpha=0.3,\n",
    "                     softcore_sigma_Q=1.0,\n",
    "                     interpolate_old_and_new_14s=flatten_exceptions,\n",
    "                     omitted_terms=None,\n",
    "                     flatten_torsions=flatten_torsions,\n",
    "                     scale_regions=scale_regions)"
   ]
  },
  {
   "cell_type": "code",
   "execution_count": 27,
   "id": "3772485b",
   "metadata": {},
   "outputs": [],
   "source": [
    "# ( nonscale_lambda_bonds * nonscale_region ) * (K/2)*(r-length)^2;\n",
    "\n",
    "# K = ( 1 * environment_region+lambda_0_bonds_old * alchemical_region_0 ) * K1 \n",
    "# + ( 1 * environment_region+lambda_0_bonds_new * alchemical_region_0 ) * K2;\n",
    "\n",
    "# length = ( 1 * environment_region+lambda_0_bonds_old * alchemical_region_0 ) * length1 \n",
    "# + ( 1 * environment_region+lambda_0_bonds_new * alchemical_region_0 ) * length2;\n"
   ]
  },
  {
   "cell_type": "code",
   "execution_count": 28,
   "id": "8de5fb16",
   "metadata": {},
   "outputs": [],
   "source": [
    "# Save htf\n",
    "# with open(\"8mer_vacuum.pickle\", \"wb\") as f:\n",
    "#     pickle.dump(htf, f)\n",
    "with open(\"8mer_solvent.pickle\", \"wb\") as f:\n",
    "    pickle.dump(htf, f)"
   ]
  },
  {
   "cell_type": "markdown",
   "id": "spiritual-pension",
   "metadata": {},
   "source": [
    "### Test one alchemical region, no scale regions"
   ]
  },
  {
   "cell_type": "markdown",
   "id": "established-handy",
   "metadata": {},
   "source": [
    "#### Old system HarmonicBondForce vs hybrid system CustomBondForce"
   ]
  },
  {
   "cell_type": "code",
   "execution_count": 29,
   "id": "accessory-spectrum",
   "metadata": {},
   "outputs": [],
   "source": [
    "# Load htf\n",
    "with open(\"/home/zhangi/choderalab/perses_benchmark/perses_protein_mutations/code/26_rxn_field/8mer_solvent.pickle\", \"rb\") as f:\n",
    "    htf = pickle.load(f)"
   ]
  },
  {
   "cell_type": "code",
   "execution_count": 30,
   "id": "81db360d",
   "metadata": {},
   "outputs": [
    {
     "data": {
      "text/plain": [
       "[<simtk.openmm.openmm.MonteCarloBarostat; proxy of <Swig Object of type 'OpenMM::MonteCarloBarostat *' at 0x2ae756524030> >,\n",
       " <simtk.openmm.openmm.CustomBondForce; proxy of <Swig Object of type 'OpenMM::CustomBondForce *' at 0x2ae7562a3d50> >,\n",
       " <simtk.openmm.openmm.CustomAngleForce; proxy of <Swig Object of type 'OpenMM::CustomAngleForce *' at 0x2ae7562a3b40> >,\n",
       " <simtk.openmm.openmm.CustomTorsionForce; proxy of <Swig Object of type 'OpenMM::CustomTorsionForce *' at 0x2ae7562a3e70> >,\n",
       " <simtk.openmm.openmm.CustomNonbondedForce; proxy of <Swig Object of type 'OpenMM::CustomNonbondedForce *' at 0x2ae7562a3ea0> >,\n",
       " <simtk.openmm.openmm.CustomNonbondedForce; proxy of <Swig Object of type 'OpenMM::CustomNonbondedForce *' at 0x2ae755d06900> >,\n",
       " <simtk.openmm.openmm.CustomBondForce; proxy of <Swig Object of type 'OpenMM::CustomBondForce *' at 0x2ae755d06f60> >,\n",
       " <simtk.openmm.openmm.CustomBondForce; proxy of <Swig Object of type 'OpenMM::CustomBondForce *' at 0x2ae755d06480> >]"
      ]
     },
     "execution_count": 30,
     "metadata": {},
     "output_type": "execute_result"
    }
   ],
   "source": [
    "htf.hybrid_system.getForces()"
   ]
  },
  {
   "cell_type": "code",
   "execution_count": 31,
   "id": "df1a2403",
   "metadata": {},
   "outputs": [],
   "source": [
    "custom_bond_force = htf.hybrid_system.getForce(3)"
   ]
  },
  {
   "cell_type": "code",
   "execution_count": 32,
   "id": "830ba653",
   "metadata": {},
   "outputs": [
    {
     "name": "stdout",
     "output_type": "stream",
     "text": [
      "2 1 0 3 (1.0, 1.0, 0.0, 1.0, 0.0, 3.3472000000000004, 1.0, 0.0, 0.0)\n",
      "2 1 0 3 (1.0, 1.0, 0.0, 3.0, 3.141592653589793, 0.33472, 3.0, 3.141592653589793, 0.0)\n",
      "2 1 0 4 (1.0, 1.0, 0.0, 1.0, 0.0, 3.3472000000000004, 1.0, 0.0, 0.0)\n",
      "2 1 0 4 (1.0, 1.0, 0.0, 3.0, 3.141592653589793, 0.33472, 3.0, 3.141592653589793, 0.0)\n",
      "2 1 0 5 (1.0, 1.0, 0.0, 1.0, 0.0, 3.3472000000000004, 1.0, 0.0, 0.0)\n",
      "2 1 0 5 (1.0, 1.0, 0.0, 3.0, 3.141592653589793, 0.33472, 3.0, 3.141592653589793, 0.0)\n",
      "43 44 45 62 (1.0, 1.0, 0.0, 3.0, 3.141592653589793, 2.3012, 3.0, 3.141592653589793, 0.0)\n",
      "43 44 45 62 (1.0, 1.0, 0.0, 2.0, 3.141592653589793, 6.610720000000001, 2.0, 3.141592653589793, 0.0)\n",
      "43 44 45 62 (1.0, 1.0, 0.0, 1.0, 3.141592653589793, 1.8828, 1.0, 3.141592653589793, 0.0)\n",
      "43 44 47 48 (1.0, 1.0, 0.0, 4.0, 0.0, 0.305432, 4.0, 0.0, 0.0)\n",
      "43 44 47 48 (1.0, 1.0, 0.0, 3.0, 0.0, 0.602496, 3.0, 0.0, 0.0)\n",
      "43 44 47 48 (1.0, 1.0, 0.0, 2.0, 3.141592653589793, 1.0836560000000002, 2.0, 3.141592653589793, 0.0)\n",
      "43 44 47 48 (1.0, 1.0, 0.0, 1.0, 0.0, 0.410032, 1.0, 0.0, 0.0)\n",
      "43 44 47 53 (1.0, 1.0, 0.0, 3.0, 0.0, 0.6508444444444444, 3.0, 0.0, 0.0)\n",
      "43 44 47 54 (1.0, 1.0, 0.0, 3.0, 0.0, 0.6508444444444444, 3.0, 0.0, 0.0)\n",
      "44 45 62 63 (1.0, 1.0, 0.0, 2.0, 3.141592653589793, 10.46, 2.0, 3.141592653589793, 0.0)\n",
      "44 45 62 71 (1.0, 1.0, 0.0, 2.0, 3.141592653589793, 10.46, 2.0, 3.141592653589793, 0.0)\n",
      "44 47 48 49 (1.0, 1.0, 0.0, 4.0, 0.0, 0.748936, 4.0, 0.0, 0.0)\n",
      "44 47 48 49 (1.0, 1.0, 0.0, 3.0, 0.0, 0.594128, 3.0, 0.0, 0.0)\n",
      "44 47 48 49 (1.0, 1.0, 0.0, 2.0, 3.141592653589793, 0.112968, 2.0, 3.141592653589793, 0.0)\n",
      "44 47 48 49 (1.0, 1.0, 0.0, 1.0, 0.0, 1.585736, 1.0, 0.0, 0.0)\n",
      "44 47 48 50 (1.0, 1.0, 0.0, 4.0, 0.0, 0.748936, 4.0, 0.0, 0.0)\n",
      "44 47 48 50 (1.0, 1.0, 0.0, 3.0, 0.0, 0.594128, 3.0, 0.0, 0.0)\n",
      "44 47 48 50 (1.0, 1.0, 0.0, 2.0, 3.141592653589793, 0.112968, 2.0, 3.141592653589793, 0.0)\n",
      "44 47 48 50 (1.0, 1.0, 0.0, 1.0, 0.0, 1.585736, 1.0, 0.0, 0.0)\n",
      "44 47 48 55 (1.0, 1.0, 0.0, 3.0, 0.0, 0.66944, 3.0, 0.0, 0.0)\n",
      "45 44 47 48 (1.0, 1.0, 0.0, 4.0, 0.0, 0.79496, 4.0, 0.0, 0.0)\n",
      "45 44 47 48 (1.0, 1.0, 0.0, 3.0, 0.0, 0.602496, 3.0, 0.0, 0.0)\n",
      "45 44 47 48 (1.0, 1.0, 0.0, 2.0, 3.141592653589793, 2.59408, 2.0, 3.141592653589793, 0.0)\n",
      "45 44 47 48 (1.0, 1.0, 0.0, 1.0, 0.0, 2.953904, 1.0, 0.0, 0.0)\n",
      "45 44 47 53 (1.0, 1.0, 0.0, 3.0, 0.0, 0.6508444444444444, 3.0, 0.0, 0.0)\n",
      "45 44 47 54 (1.0, 1.0, 0.0, 3.0, 0.0, 0.6508444444444444, 3.0, 0.0, 0.0)\n",
      "45 62 63 64 (1.0, 1.0, 0.0, 3.0, 0.0, 1.75728, 3.0, 0.0, 0.0)\n",
      "45 62 63 64 (1.0, 1.0, 0.0, 2.0, 0.0, 1.12968, 2.0, 0.0, 0.0)\n",
      "45 62 63 66 (1.0, 1.0, 0.0, 3.0, 0.0, 3.3472000000000004, 3.0, 0.0, 0.0)\n",
      "45 62 63 66 (1.0, 1.0, 0.0, 2.0, 0.0, 7.5312, 2.0, 0.0, 0.0)\n",
      "45 62 63 66 (1.0, 1.0, 0.0, 1.0, 0.0, 8.368, 1.0, 0.0, 0.0)\n",
      "46 45 44 52 (1.0, 1.0, 0.0, 1.0, 0.0, 3.3472000000000004, 1.0, 0.0, 0.0)\n",
      "46 45 44 52 (1.0, 1.0, 0.0, 3.0, 3.141592653589793, 0.33472, 3.0, 3.141592653589793, 0.0)\n",
      "46 45 62 63 (1.0, 1.0, 0.0, 2.0, 3.141592653589793, 10.46, 2.0, 3.141592653589793, 0.0)\n",
      "46 45 62 71 (1.0, 1.0, 0.0, 2.0, 3.141592653589793, 10.46, 2.0, 3.141592653589793, 0.0)\n",
      "46 45 62 71 (1.0, 1.0, 0.0, 1.0, 0.0, 8.368, 1.0, 0.0, 0.0)\n",
      "47 44 45 62 (1.0, 1.0, 0.0, 3.0, 0.0, 1.6736000000000002, 3.0, 0.0, 0.0)\n",
      "47 44 45 62 (1.0, 1.0, 0.0, 2.0, 0.0, 0.8368000000000001, 2.0, 0.0, 0.0)\n",
      "47 44 45 62 (1.0, 1.0, 0.0, 1.0, 0.0, 0.8368000000000001, 1.0, 0.0, 0.0)\n",
      "47 48 49 56 (1.0, 1.0, 0.0, 3.0, 0.0, 0.66944, 3.0, 0.0, 0.0)\n",
      "47 48 49 57 (1.0, 1.0, 0.0, 3.0, 0.0, 0.66944, 3.0, 0.0, 0.0)\n",
      "47 48 49 58 (1.0, 1.0, 0.0, 3.0, 0.0, 0.66944, 3.0, 0.0, 0.0)\n",
      "47 48 50 59 (1.0, 1.0, 0.0, 3.0, 0.0, 0.66944, 3.0, 0.0, 0.0)\n",
      "47 48 50 60 (1.0, 1.0, 0.0, 3.0, 0.0, 0.66944, 3.0, 0.0, 0.0)\n",
      "47 48 50 61 (1.0, 1.0, 0.0, 3.0, 0.0, 0.66944, 3.0, 0.0, 0.0)\n",
      "48 47 44 52 (1.0, 1.0, 0.0, 3.0, 0.0, 0.6508444444444444, 3.0, 0.0, 0.0)\n",
      "49 48 47 53 (1.0, 1.0, 0.0, 3.0, 0.0, 0.66944, 3.0, 0.0, 0.0)\n",
      "49 48 47 54 (1.0, 1.0, 0.0, 3.0, 0.0, 0.66944, 3.0, 0.0, 0.0)\n",
      "49 48 50 59 (1.0, 1.0, 0.0, 3.0, 0.0, 0.66944, 3.0, 0.0, 0.0)\n",
      "49 48 50 60 (1.0, 1.0, 0.0, 3.0, 0.0, 0.66944, 3.0, 0.0, 0.0)\n",
      "49 48 50 61 (1.0, 1.0, 0.0, 3.0, 0.0, 0.66944, 3.0, 0.0, 0.0)\n",
      "50 48 47 53 (1.0, 1.0, 0.0, 3.0, 0.0, 0.66944, 3.0, 0.0, 0.0)\n",
      "50 48 47 54 (1.0, 1.0, 0.0, 3.0, 0.0, 0.66944, 3.0, 0.0, 0.0)\n",
      "50 48 49 56 (1.0, 1.0, 0.0, 3.0, 0.0, 0.66944, 3.0, 0.0, 0.0)\n",
      "50 48 49 57 (1.0, 1.0, 0.0, 3.0, 0.0, 0.66944, 3.0, 0.0, 0.0)\n",
      "50 48 49 58 (1.0, 1.0, 0.0, 3.0, 0.0, 0.66944, 3.0, 0.0, 0.0)\n",
      "52 44 47 53 (1.0, 1.0, 0.0, 3.0, 0.0, 0.6508444444444444, 3.0, 0.0, 0.0)\n",
      "52 44 47 54 (1.0, 1.0, 0.0, 3.0, 0.0, 0.6508444444444444, 3.0, 0.0, 0.0)\n",
      "53 47 48 55 (1.0, 1.0, 0.0, 3.0, 0.0, 0.6276, 3.0, 0.0, 0.0)\n",
      "54 47 48 55 (1.0, 1.0, 0.0, 3.0, 0.0, 0.6276, 3.0, 0.0, 0.0)\n",
      "55 48 49 56 (1.0, 1.0, 0.0, 3.0, 0.0, 0.6276, 3.0, 0.0, 0.0)\n",
      "55 48 49 57 (1.0, 1.0, 0.0, 3.0, 0.0, 0.6276, 3.0, 0.0, 0.0)\n",
      "55 48 49 58 (1.0, 1.0, 0.0, 3.0, 0.0, 0.6276, 3.0, 0.0, 0.0)\n",
      "55 48 50 59 (1.0, 1.0, 0.0, 3.0, 0.0, 0.6276, 3.0, 0.0, 0.0)\n",
      "55 48 50 60 (1.0, 1.0, 0.0, 3.0, 0.0, 0.6276, 3.0, 0.0, 0.0)\n",
      "55 48 50 61 (1.0, 1.0, 0.0, 3.0, 0.0, 0.6276, 3.0, 0.0, 0.0)\n",
      "62 63 64 79 (1.0, 1.0, 0.0, 3.0, 3.141592653589793, 2.3012, 3.0, 3.141592653589793, 0.0)\n",
      "62 63 64 79 (1.0, 1.0, 0.0, 2.0, 3.141592653589793, 6.610720000000001, 2.0, 3.141592653589793, 0.0)\n",
      "62 63 64 79 (1.0, 1.0, 0.0, 1.0, 3.141592653589793, 1.8828, 1.0, 3.141592653589793, 0.0)\n",
      "62 63 66 67 (1.0, 1.0, 0.0, 4.0, 0.0, 0.32635200000000003, 4.0, 0.0, 0.0)\n",
      "62 63 66 67 (1.0, 1.0, 0.0, 3.0, 0.0, 0.602496, 3.0, 0.0, 0.0)\n",
      "62 63 66 67 (1.0, 1.0, 0.0, 2.0, 3.141592653589793, 0.769856, 2.0, 3.141592653589793, 0.0)\n",
      "62 63 66 67 (1.0, 1.0, 0.0, 1.0, 3.141592653589793, 0.41840000000000005, 1.0, 3.141592653589793, 0.0)\n",
      "62 63 66 73 (1.0, 1.0, 0.0, 3.0, 0.0, 0.6508444444444444, 3.0, 0.0, 0.0)\n",
      "62 63 66 74 (1.0, 1.0, 0.0, 3.0, 0.0, 0.6508444444444444, 3.0, 0.0, 0.0)\n",
      "63 64 79 80 (1.0, 1.0, 0.0, 2.0, 3.141592653589793, 10.46, 2.0, 3.141592653589793, 0.0)\n",
      "63 64 79 85 (1.0, 1.0, 0.0, 2.0, 3.141592653589793, 10.46, 2.0, 3.141592653589793, 0.0)\n",
      "63 66 67 68 (1.0, 1.0, 0.0, 4.0, 0.0, 0.577392, 4.0, 0.0, 0.0)\n",
      "63 66 67 68 (1.0, 1.0, 0.0, 3.0, 3.141592653589793, 1.723808, 3.0, 3.141592653589793, 0.0)\n",
      "63 66 67 68 (1.0, 1.0, 0.0, 2.0, 0.0, 0.347272, 2.0, 0.0, 0.0)\n",
      "63 66 67 68 (1.0, 1.0, 0.0, 1.0, 3.141592653589793, 0.820064, 1.0, 3.141592653589793, 0.0)\n",
      "63 66 67 75 (1.0, 1.0, 0.0, 3.0, 0.0, 0.66944, 3.0, 0.0, 0.0)\n",
      "63 66 67 76 (1.0, 1.0, 0.0, 3.0, 0.0, 0.66944, 3.0, 0.0, 0.0)\n",
      "64 63 66 67 (1.0, 1.0, 0.0, 4.0, 0.0, 0.60668, 4.0, 0.0, 0.0)\n",
      "64 63 66 67 (1.0, 1.0, 0.0, 3.0, 0.0, 0.602496, 3.0, 0.0, 0.0)\n",
      "64 63 66 67 (1.0, 1.0, 0.0, 2.0, 3.141592653589793, 1.6443120000000002, 2.0, 3.141592653589793, 0.0)\n",
      "64 63 66 67 (1.0, 1.0, 0.0, 1.0, 3.141592653589793, 1.761464, 1.0, 3.141592653589793, 0.0)\n",
      "64 63 66 73 (1.0, 1.0, 0.0, 3.0, 0.0, 0.6508444444444444, 3.0, 0.0, 0.0)\n",
      "64 63 66 74 (1.0, 1.0, 0.0, 3.0, 0.0, 0.6508444444444444, 3.0, 0.0, 0.0)\n",
      "64 79 80 81 (1.0, 1.0, 0.0, 3.0, 0.0, 1.75728, 3.0, 0.0, 0.0)\n",
      "64 79 80 81 (1.0, 1.0, 0.0, 2.0, 0.0, 1.12968, 2.0, 0.0, 0.0)\n",
      "64 79 80 83 (1.0, 1.0, 0.0, 3.0, 0.0, 3.3472000000000004, 3.0, 0.0, 0.0)\n",
      "64 79 80 83 (1.0, 1.0, 0.0, 2.0, 0.0, 7.5312, 2.0, 0.0, 0.0)\n",
      "64 79 80 83 (1.0, 1.0, 0.0, 1.0, 0.0, 8.368, 1.0, 0.0, 0.0)\n",
      "65 64 63 72 (1.0, 1.0, 0.0, 1.0, 0.0, 3.3472000000000004, 1.0, 0.0, 0.0)\n",
      "65 64 63 72 (1.0, 1.0, 0.0, 3.0, 3.141592653589793, 0.33472, 3.0, 3.141592653589793, 0.0)\n",
      "65 64 79 80 (1.0, 1.0, 0.0, 2.0, 3.141592653589793, 10.46, 2.0, 3.141592653589793, 0.0)\n",
      "65 64 79 85 (1.0, 1.0, 0.0, 2.0, 3.141592653589793, 10.46, 2.0, 3.141592653589793, 0.0)\n",
      "65 64 79 85 (1.0, 1.0, 0.0, 1.0, 0.0, 8.368, 1.0, 0.0, 0.0)\n",
      "66 63 64 79 (1.0, 1.0, 0.0, 3.0, 0.0, 1.6736000000000002, 3.0, 0.0, 0.0)\n",
      "66 63 64 79 (1.0, 1.0, 0.0, 2.0, 0.0, 0.8368000000000001, 2.0, 0.0, 0.0)\n",
      "66 63 64 79 (1.0, 1.0, 0.0, 1.0, 0.0, 0.8368000000000001, 1.0, 0.0, 0.0)\n",
      "66 67 68 69 (1.0, 1.0, 0.0, 4.0, 0.0, 0.17572800000000002, 4.0, 0.0, 0.0)\n",
      "66 67 68 69 (1.0, 1.0, 0.0, 3.0, 3.141592653589793, 0.35564000000000007, 3.0, 3.141592653589793, 0.0)\n",
      "66 67 68 69 (1.0, 1.0, 0.0, 2.0, 3.141592653589793, 3.53548, 2.0, 3.141592653589793, 0.0)\n",
      "66 67 68 69 (1.0, 1.0, 0.0, 1.0, 3.141592653589793, 2.548056, 1.0, 3.141592653589793, 0.0)\n",
      "67 66 63 72 (1.0, 1.0, 0.0, 3.0, 0.0, 0.6508444444444444, 3.0, 0.0, 0.0)\n",
      "67 68 69 77 (1.0, 1.0, 0.0, 2.0, 3.141592653589793, 10.46, 2.0, 3.141592653589793, 0.0)\n",
      "67 68 69 78 (1.0, 1.0, 0.0, 2.0, 3.141592653589793, 10.46, 2.0, 3.141592653589793, 0.0)\n",
      "68 67 66 73 (1.0, 1.0, 0.0, 3.0, 0.0, 0.6508444444444444, 3.0, 0.0, 0.0)\n",
      "68 67 66 74 (1.0, 1.0, 0.0, 3.0, 0.0, 0.6508444444444444, 3.0, 0.0, 0.0)\n",
      "70 68 67 75 (1.0, 1.0, 0.0, 3.0, 3.141592653589793, 0.33472, 3.0, 3.141592653589793, 0.0)\n",
      "70 68 67 75 (1.0, 1.0, 0.0, 1.0, 0.0, 3.3472000000000004, 1.0, 0.0, 0.0)\n",
      "70 68 67 76 (1.0, 1.0, 0.0, 3.0, 3.141592653589793, 0.33472, 3.0, 3.141592653589793, 0.0)\n",
      "70 68 67 76 (1.0, 1.0, 0.0, 1.0, 0.0, 3.3472000000000004, 1.0, 0.0, 0.0)\n",
      "70 68 69 77 (1.0, 1.0, 0.0, 2.0, 3.141592653589793, 10.46, 2.0, 3.141592653589793, 0.0)\n",
      "70 68 69 77 (1.0, 1.0, 0.0, 1.0, 0.0, 8.368, 1.0, 0.0, 0.0)\n",
      "70 68 69 78 (1.0, 1.0, 0.0, 2.0, 3.141592653589793, 10.46, 2.0, 3.141592653589793, 0.0)\n",
      "70 68 69 78 (1.0, 1.0, 0.0, 1.0, 0.0, 8.368, 1.0, 0.0, 0.0)\n",
      "72 63 66 73 (1.0, 1.0, 0.0, 3.0, 0.0, 0.6508444444444444, 3.0, 0.0, 0.0)\n",
      "72 63 66 74 (1.0, 1.0, 0.0, 3.0, 0.0, 0.6508444444444444, 3.0, 0.0, 0.0)\n",
      "73 66 67 75 (1.0, 1.0, 0.0, 3.0, 0.0, 0.6276, 3.0, 0.0, 0.0)\n",
      "73 66 67 76 (1.0, 1.0, 0.0, 3.0, 0.0, 0.6276, 3.0, 0.0, 0.0)\n",
      "74 66 67 75 (1.0, 1.0, 0.0, 3.0, 0.0, 0.6276, 3.0, 0.0, 0.0)\n",
      "74 66 67 76 (1.0, 1.0, 0.0, 3.0, 0.0, 0.6276, 3.0, 0.0, 0.0)\n",
      "79 80 81 90 (1.0, 1.0, 0.0, 3.0, 3.141592653589793, 2.3012, 3.0, 3.141592653589793, 0.0)\n",
      "79 80 81 90 (1.0, 1.0, 0.0, 2.0, 3.141592653589793, 6.610720000000001, 2.0, 3.141592653589793, 0.0)\n",
      "79 80 81 90 (1.0, 1.0, 0.0, 1.0, 3.141592653589793, 1.8828, 1.0, 3.141592653589793, 0.0)\n",
      "79 80 83 84 (1.0, 1.0, 0.0, 4.0, 0.0, 0.66944, 4.0, 0.0, 0.0)\n",
      "79 80 83 84 (1.0, 1.0, 0.0, 3.0, 0.0, 1.6777840000000002, 3.0, 0.0, 0.0)\n",
      "79 80 83 84 (1.0, 1.0, 0.0, 2.0, 3.141592653589793, 1.029264, 2.0, 3.141592653589793, 0.0)\n",
      "79 80 83 84 (1.0, 1.0, 0.0, 1.0, 0.0, 2.786544, 1.0, 0.0, 0.0)\n",
      "79 80 83 87 (1.0, 1.0, 0.0, 3.0, 0.0, 0.6508444444444444, 3.0, 0.0, 0.0)\n",
      "79 80 83 88 (1.0, 1.0, 0.0, 3.0, 0.0, 0.6508444444444444, 3.0, 0.0, 0.0)\n",
      "80 81 90 91 (1.0, 1.0, 0.0, 2.0, 3.141592653589793, 10.46, 2.0, 3.141592653589793, 0.0)\n",
      "80 81 90 94 (1.0, 1.0, 0.0, 2.0, 3.141592653589793, 10.46, 2.0, 3.141592653589793, 0.0)\n",
      "80 83 84 89 (1.0, 1.0, 0.0, 4.0, 0.0, 0.029288, 4.0, 0.0, 0.0)\n",
      "80 83 84 89 (1.0, 1.0, 0.0, 3.0, 0.0, 1.1171280000000001, 3.0, 0.0, 0.0)\n",
      "80 83 84 89 (1.0, 1.0, 0.0, 2.0, 0.0, 1.857696, 2.0, 0.0, 0.0)\n",
      "80 83 84 89 (1.0, 1.0, 0.0, 1.0, 0.0, 0.882824, 1.0, 0.0, 0.0)\n",
      "81 80 83 84 (1.0, 1.0, 0.0, 4.0, 0.0, 0.539736, 4.0, 0.0, 0.0)\n",
      "81 80 83 84 (1.0, 1.0, 0.0, 3.0, 0.0, 1.6777840000000002, 3.0, 0.0, 0.0)\n",
      "81 80 83 84 (1.0, 1.0, 0.0, 2.0, 3.141592653589793, 0.912112, 2.0, 3.141592653589793, 0.0)\n",
      "81 80 83 84 (1.0, 1.0, 0.0, 1.0, 3.141592653589793, 2.7656240000000003, 1.0, 3.141592653589793, 0.0)\n",
      "81 80 83 87 (1.0, 1.0, 0.0, 3.0, 0.0, 0.6508444444444444, 3.0, 0.0, 0.0)\n",
      "81 80 83 88 (1.0, 1.0, 0.0, 3.0, 0.0, 0.6508444444444444, 3.0, 0.0, 0.0)\n",
      "81 90 91 92 (1.0, 1.0, 0.0, 3.0, 0.0, 1.75728, 3.0, 0.0, 0.0)\n",
      "81 90 91 92 (1.0, 1.0, 0.0, 2.0, 0.0, 1.12968, 2.0, 0.0, 0.0)\n",
      "82 81 80 86 (1.0, 1.0, 0.0, 1.0, 0.0, 3.3472000000000004, 1.0, 0.0, 0.0)\n",
      "82 81 80 86 (1.0, 1.0, 0.0, 3.0, 3.141592653589793, 0.33472, 3.0, 3.141592653589793, 0.0)\n",
      "82 81 90 91 (1.0, 1.0, 0.0, 2.0, 3.141592653589793, 10.46, 2.0, 3.141592653589793, 0.0)\n",
      "82 81 90 94 (1.0, 1.0, 0.0, 2.0, 3.141592653589793, 10.46, 2.0, 3.141592653589793, 0.0)\n",
      "82 81 90 94 (1.0, 1.0, 0.0, 1.0, 0.0, 8.368, 1.0, 0.0, 0.0)\n",
      "83 80 81 90 (1.0, 1.0, 0.0, 3.0, 0.0, 1.6736000000000002, 3.0, 0.0, 0.0)\n",
      "83 80 81 90 (1.0, 1.0, 0.0, 2.0, 0.0, 0.8368000000000001, 2.0, 0.0, 0.0)\n",
      "83 80 81 90 (1.0, 1.0, 0.0, 1.0, 0.0, 0.8368000000000001, 1.0, 0.0, 0.0)\n",
      "84 83 80 86 (1.0, 1.0, 0.0, 1.0, 0.0, 1.046, 1.0, 0.0, 0.0)\n",
      "86 80 83 87 (1.0, 1.0, 0.0, 3.0, 0.0, 0.6508444444444444, 3.0, 0.0, 0.0)\n",
      "86 80 83 88 (1.0, 1.0, 0.0, 3.0, 0.0, 0.6508444444444444, 3.0, 0.0, 0.0)\n",
      "87 83 84 89 (1.0, 1.0, 0.0, 3.0, 0.0, 0.6973333333333334, 3.0, 0.0, 0.0)\n",
      "88 83 84 89 (1.0, 1.0, 0.0, 3.0, 0.0, 0.6973333333333334, 3.0, 0.0, 0.0)\n",
      "90 91 92 97 (1.0, 1.0, 0.0, 3.0, 3.141592653589793, 2.3012, 3.0, 3.141592653589793, 0.0)\n",
      "90 91 92 97 (1.0, 1.0, 0.0, 2.0, 3.141592653589793, 6.610720000000001, 2.0, 3.141592653589793, 0.0)\n",
      "90 91 92 97 (1.0, 1.0, 0.0, 1.0, 3.141592653589793, 1.8828, 1.0, 3.141592653589793, 0.0)\n",
      "91 92 97 98 (1.0, 1.0, 0.0, 2.0, 3.141592653589793, 10.46, 2.0, 3.141592653589793, 0.0)\n",
      "91 92 97 108 (1.0, 1.0, 0.0, 2.0, 3.141592653589793, 10.46, 2.0, 3.141592653589793, 0.0)\n",
      "92 97 98 99 (1.0, 1.0, 0.0, 3.0, 0.0, 1.75728, 3.0, 0.0, 0.0)\n",
      "92 97 98 99 (1.0, 1.0, 0.0, 2.0, 0.0, 1.12968, 2.0, 0.0, 0.0)\n",
      "92 97 98 101 (1.0, 1.0, 0.0, 3.0, 0.0, 3.3472000000000004, 3.0, 0.0, 0.0)\n",
      "92 97 98 101 (1.0, 1.0, 0.0, 2.0, 0.0, 7.5312, 2.0, 0.0, 0.0)\n",
      "92 97 98 101 (1.0, 1.0, 0.0, 1.0, 0.0, 8.368, 1.0, 0.0, 0.0)\n",
      "93 92 91 95 (1.0, 1.0, 0.0, 1.0, 0.0, 3.3472000000000004, 1.0, 0.0, 0.0)\n",
      "93 92 91 95 (1.0, 1.0, 0.0, 3.0, 3.141592653589793, 0.33472, 3.0, 3.141592653589793, 0.0)\n",
      "93 92 91 96 (1.0, 1.0, 0.0, 1.0, 0.0, 3.3472000000000004, 1.0, 0.0, 0.0)\n",
      "93 92 91 96 (1.0, 1.0, 0.0, 3.0, 3.141592653589793, 0.33472, 3.0, 3.141592653589793, 0.0)\n",
      "93 92 97 98 (1.0, 1.0, 0.0, 2.0, 3.141592653589793, 10.46, 2.0, 3.141592653589793, 0.0)\n",
      "93 92 97 108 (1.0, 1.0, 0.0, 2.0, 3.141592653589793, 10.46, 2.0, 3.141592653589793, 0.0)\n",
      "93 92 97 108 (1.0, 1.0, 0.0, 1.0, 0.0, 8.368, 1.0, 0.0, 0.0)\n",
      "97 98 99 117 (1.0, 1.0, 0.0, 3.0, 3.141592653589793, 2.3012, 3.0, 3.141592653589793, 0.0)\n",
      "97 98 99 117 (1.0, 1.0, 0.0, 2.0, 3.141592653589793, 6.610720000000001, 2.0, 3.141592653589793, 0.0)\n",
      "97 98 99 117 (1.0, 1.0, 0.0, 1.0, 3.141592653589793, 1.8828, 1.0, 3.141592653589793, 0.0)\n",
      "97 98 101 102 (1.0, 1.0, 0.0, 4.0, 3.141592653589793, 0.029288, 4.0, 3.141592653589793, 0.0)\n",
      "97 98 101 102 (1.0, 1.0, 0.0, 3.0, 0.0, 0.803328, 3.0, 0.0, 0.0)\n",
      "97 98 101 102 (1.0, 1.0, 0.0, 2.0, 3.141592653589793, 1.21336, 2.0, 3.141592653589793, 0.0)\n",
      "97 98 101 102 (1.0, 1.0, 0.0, 1.0, 3.141592653589793, 0.050208, 1.0, 3.141592653589793, 0.0)\n",
      "97 98 101 110 (1.0, 1.0, 0.0, 3.0, 0.0, 0.6508444444444444, 3.0, 0.0, 0.0)\n",
      "97 98 101 111 (1.0, 1.0, 0.0, 3.0, 0.0, 0.6508444444444444, 3.0, 0.0, 0.0)\n",
      "98 99 117 118 (1.0, 1.0, 0.0, 2.0, 3.141592653589793, 10.46, 2.0, 3.141592653589793, 0.0)\n",
      "98 99 117 119 (1.0, 1.0, 0.0, 2.0, 3.141592653589793, 10.46, 2.0, 3.141592653589793, 0.0)\n",
      "98 101 102 103 (1.0, 1.0, 0.0, 4.0, 3.141592653589793, 0.200832, 4.0, 3.141592653589793, 0.0)\n",
      "98 101 102 103 (1.0, 1.0, 0.0, 2.0, 3.141592653589793, 0.288696, 2.0, 3.141592653589793, 0.0)\n",
      "98 101 102 104 (1.0, 1.0, 0.0, 4.0, 3.141592653589793, 0.200832, 4.0, 3.141592653589793, 0.0)\n",
      "98 101 102 104 (1.0, 1.0, 0.0, 2.0, 3.141592653589793, 0.288696, 2.0, 3.141592653589793, 0.0)\n",
      "99 98 101 102 (1.0, 1.0, 0.0, 4.0, 3.141592653589793, 0.050208, 4.0, 3.141592653589793, 0.0)\n",
      "99 98 101 102 (1.0, 1.0, 0.0, 3.0, 0.0, 0.803328, 3.0, 0.0, 0.0)\n",
      "99 98 101 102 (1.0, 1.0, 0.0, 2.0, 3.141592653589793, 1.962296, 2.0, 3.141592653589793, 0.0)\n",
      "99 98 101 102 (1.0, 1.0, 0.0, 1.0, 0.0, 0.23012000000000002, 1.0, 0.0, 0.0)\n",
      "99 98 101 110 (1.0, 1.0, 0.0, 3.0, 0.0, 0.6508444444444444, 3.0, 0.0, 0.0)\n",
      "99 98 101 111 (1.0, 1.0, 0.0, 3.0, 0.0, 0.6508444444444444, 3.0, 0.0, 0.0)\n",
      "100 99 98 109 (1.0, 1.0, 0.0, 1.0, 0.0, 3.3472000000000004, 1.0, 0.0, 0.0)\n",
      "100 99 98 109 (1.0, 1.0, 0.0, 3.0, 3.141592653589793, 0.33472, 3.0, 3.141592653589793, 0.0)\n",
      "100 99 117 118 (1.0, 1.0, 0.0, 2.0, 3.141592653589793, 10.46, 2.0, 3.141592653589793, 0.0)\n",
      "100 99 117 119 (1.0, 1.0, 0.0, 2.0, 3.141592653589793, 10.46, 2.0, 3.141592653589793, 0.0)\n",
      "100 99 117 119 (1.0, 1.0, 0.0, 1.0, 0.0, 8.368, 1.0, 0.0, 0.0)\n",
      "101 98 99 117 (1.0, 1.0, 0.0, 3.0, 0.0, 1.6736000000000002, 3.0, 0.0, 0.0)\n",
      "101 98 99 117 (1.0, 1.0, 0.0, 2.0, 0.0, 0.8368000000000001, 2.0, 0.0, 0.0)\n",
      "101 98 99 117 (1.0, 1.0, 0.0, 1.0, 0.0, 0.8368000000000001, 1.0, 0.0, 0.0)\n",
      "101 102 103 105 (1.0, 1.0, 0.0, 2.0, 3.141592653589793, 15.167, 2.0, 3.141592653589793, 0.0)\n",
      "101 102 103 112 (1.0, 1.0, 0.0, 2.0, 3.141592653589793, 15.167, 2.0, 3.141592653589793, 0.0)\n",
      "101 102 104 106 (1.0, 1.0, 0.0, 2.0, 3.141592653589793, 15.167, 2.0, 3.141592653589793, 0.0)\n",
      "101 102 104 113 (1.0, 1.0, 0.0, 2.0, 3.141592653589793, 15.167, 2.0, 3.141592653589793, 0.0)\n",
      "102 101 98 109 (1.0, 1.0, 0.0, 3.0, 0.0, 0.6508444444444444, 3.0, 0.0, 0.0)\n",
      "102 103 105 107 (1.0, 1.0, 0.0, 2.0, 3.141592653589793, 15.167, 2.0, 3.141592653589793, 0.0)\n",
      "102 103 105 114 (1.0, 1.0, 0.0, 2.0, 3.141592653589793, 15.167, 2.0, 3.141592653589793, 0.0)\n",
      "102 104 106 107 (1.0, 1.0, 0.0, 2.0, 3.141592653589793, 15.167, 2.0, 3.141592653589793, 0.0)\n",
      "102 104 106 115 (1.0, 1.0, 0.0, 2.0, 3.141592653589793, 15.167, 2.0, 3.141592653589793, 0.0)\n",
      "103 102 104 106 (1.0, 1.0, 0.0, 2.0, 3.141592653589793, 15.167, 2.0, 3.141592653589793, 0.0)\n",
      "103 102 104 113 (1.0, 1.0, 0.0, 2.0, 3.141592653589793, 15.167, 2.0, 3.141592653589793, 0.0)\n",
      "103 105 107 106 (1.0, 1.0, 0.0, 2.0, 3.141592653589793, 15.167, 2.0, 3.141592653589793, 0.0)\n",
      "103 105 107 116 (1.0, 1.0, 0.0, 2.0, 3.141592653589793, 15.167, 2.0, 3.141592653589793, 0.0)\n",
      "104 102 103 105 (1.0, 1.0, 0.0, 2.0, 3.141592653589793, 15.167, 2.0, 3.141592653589793, 0.0)\n",
      "104 102 103 112 (1.0, 1.0, 0.0, 2.0, 3.141592653589793, 15.167, 2.0, 3.141592653589793, 0.0)\n",
      "104 106 107 105 (1.0, 1.0, 0.0, 2.0, 3.141592653589793, 15.167, 2.0, 3.141592653589793, 0.0)\n",
      "104 106 107 116 (1.0, 1.0, 0.0, 2.0, 3.141592653589793, 15.167, 2.0, 3.141592653589793, 0.0)\n",
      "105 107 106 115 (1.0, 1.0, 0.0, 2.0, 3.141592653589793, 15.167, 2.0, 3.141592653589793, 0.0)\n",
      "106 107 105 114 (1.0, 1.0, 0.0, 2.0, 3.141592653589793, 15.167, 2.0, 3.141592653589793, 0.0)\n",
      "107 105 103 112 (1.0, 1.0, 0.0, 2.0, 3.141592653589793, 15.167, 2.0, 3.141592653589793, 0.0)\n",
      "107 106 104 113 (1.0, 1.0, 0.0, 2.0, 3.141592653589793, 15.167, 2.0, 3.141592653589793, 0.0)\n",
      "109 98 101 110 (1.0, 1.0, 0.0, 3.0, 0.0, 0.6508444444444444, 3.0, 0.0, 0.0)\n",
      "109 98 101 111 (1.0, 1.0, 0.0, 3.0, 0.0, 0.6508444444444444, 3.0, 0.0, 0.0)\n",
      "112 103 105 114 (1.0, 1.0, 0.0, 2.0, 3.141592653589793, 15.167, 2.0, 3.141592653589793, 0.0)\n",
      "113 104 106 115 (1.0, 1.0, 0.0, 2.0, 3.141592653589793, 15.167, 2.0, 3.141592653589793, 0.0)\n",
      "114 105 107 116 (1.0, 1.0, 0.0, 2.0, 3.141592653589793, 15.167, 2.0, 3.141592653589793, 0.0)\n",
      "115 106 107 116 (1.0, 1.0, 0.0, 2.0, 3.141592653589793, 15.167, 2.0, 3.141592653589793, 0.0)\n",
      "44 62 45 46 (1.0, 1.0, 0.0, 2.0, 3.141592653589793, 43.932, 2.0, 3.141592653589793, 0.0)\n",
      "45 63 62 71 (1.0, 1.0, 0.0, 2.0, 3.141592653589793, 4.6024, 2.0, 3.141592653589793, 0.0)\n",
      "63 79 64 65 (1.0, 1.0, 0.0, 2.0, 3.141592653589793, 43.932, 2.0, 3.141592653589793, 0.0)\n",
      "67 69 68 70 (1.0, 1.0, 0.0, 2.0, 3.141592653589793, 43.932, 2.0, 3.141592653589793, 0.0)\n",
      "68 77 69 78 (1.0, 1.0, 0.0, 2.0, 3.141592653589793, 4.184, 2.0, 3.141592653589793, 0.0)\n",
      "64 80 79 85 (1.0, 1.0, 0.0, 2.0, 3.141592653589793, 4.6024, 2.0, 3.141592653589793, 0.0)\n",
      "80 90 81 82 (1.0, 1.0, 0.0, 2.0, 3.141592653589793, 43.932, 2.0, 3.141592653589793, 0.0)\n",
      "81 91 90 94 (1.0, 1.0, 0.0, 2.0, 3.141592653589793, 4.6024, 2.0, 3.141592653589793, 0.0)\n",
      "91 97 92 93 (1.0, 1.0, 0.0, 2.0, 3.141592653589793, 43.932, 2.0, 3.141592653589793, 0.0)\n",
      "92 98 97 108 (1.0, 1.0, 0.0, 2.0, 3.141592653589793, 4.6024, 2.0, 3.141592653589793, 0.0)\n",
      "98 117 99 100 (1.0, 1.0, 0.0, 2.0, 3.141592653589793, 43.932, 2.0, 3.141592653589793, 0.0)\n",
      "101 102 104 103 (1.0, 1.0, 0.0, 2.0, 3.141592653589793, 4.6024, 2.0, 3.141592653589793, 0.0)\n",
      "102 105 103 112 (1.0, 1.0, 0.0, 2.0, 3.141592653589793, 4.6024, 2.0, 3.141592653589793, 0.0)\n",
      "102 106 104 113 (1.0, 1.0, 0.0, 2.0, 3.141592653589793, 4.6024, 2.0, 3.141592653589793, 0.0)\n",
      "103 107 105 114 (1.0, 1.0, 0.0, 2.0, 3.141592653589793, 4.6024, 2.0, 3.141592653589793, 0.0)\n",
      "107 104 106 115 (1.0, 1.0, 0.0, 2.0, 3.141592653589793, 4.6024, 2.0, 3.141592653589793, 0.0)\n",
      "105 106 107 116 (1.0, 1.0, 0.0, 2.0, 3.141592653589793, 4.6024, 2.0, 3.141592653589793, 0.0)\n",
      "99 118 117 119 (1.0, 1.0, 0.0, 2.0, 3.141592653589793, 4.6024, 2.0, 3.141592653589793, 0.0)\n"
     ]
    }
   ],
   "source": [
    "for i in htf._hybrid_to_environment_torsion_indices:\n",
    "    p1, p2, p3, p4, hybrid_params = custom_bond_force.getTorsionParameters(i)\n",
    "    print(p1, p2, p3, p4, hybrid_params)"
   ]
  },
  {
   "cell_type": "code",
   "execution_count": 33,
   "id": "difficult-cream",
   "metadata": {
    "scrolled": true
   },
   "outputs": [
    {
     "name": "stdout",
     "output_type": "stream",
     "text": [
      "Warning: Returning CPU platform instead of requested platform <simtk.openmm.openmm.Platform; proxy of <Swig Object of type 'OpenMM::Platform *' at 0x2ae70ce2b150> >\n",
      "conducting subsequent work with the following platform: CPU\n",
      "conducting subsequent work with the following platform: CUDA\n",
      "[('HarmonicBondForce', 7.300105424153174), ('HarmonicAngleForce', 12.445685055931849), ('PeriodicTorsionForce', 156.24350906389375), ('NonbondedForce', -10344.197299426876), ('AndersenThermostat', 0.0), ('MonteCarloBarostat', 0.0)]\n",
      "conducting subsequent work with the following platform: CUDA\n",
      "[('CustomBondForce', 7.300105424153174), ('CustomAngleForce', 379.92447014121484), ('CustomTorsionForce', 156.24351836067592), ('AndersenThermostat', 0.0), ('MonteCarloBarostat', 0.0)]\n",
      "Success! Custom bond force and standard bond force energies are equal!\n"
     ]
    }
   ],
   "source": [
    "test_bond_energies(htf, is_solvated=True)"
   ]
  },
  {
   "cell_type": "markdown",
   "id": "southeast-norwegian",
   "metadata": {},
   "source": [
    "#### New system HarmonicBondForce vs hybrid system CustomBondForce"
   ]
  },
  {
   "cell_type": "code",
   "execution_count": 34,
   "id": "after-medicaid",
   "metadata": {},
   "outputs": [],
   "source": [
    "# Load htf\n",
    "with open(\"/home/zhangi/choderalab/perses_benchmark/perses_protein_mutations/code/26_rxn_field/8mer_solvent.pickle\", \"rb\") as f:\n",
    "    htf = pickle.load(f)\n"
   ]
  },
  {
   "cell_type": "code",
   "execution_count": 35,
   "id": "protected-playing",
   "metadata": {
    "scrolled": true
   },
   "outputs": [
    {
     "name": "stdout",
     "output_type": "stream",
     "text": [
      "Warning: Returning CPU platform instead of requested platform <simtk.openmm.openmm.Platform; proxy of <Swig Object of type 'OpenMM::Platform *' at 0x2ae70ce2b150> >\n",
      "conducting subsequent work with the following platform: CPU\n",
      "conducting subsequent work with the following platform: CUDA\n",
      "[('HarmonicBondForce', 8.78035136547036), ('HarmonicAngleForce', 379.80483749543527), ('PeriodicTorsionForce', 167.34929278966283), ('NonbondedForce', -6815.4331543112885), ('AndersenThermostat', 0.0), ('MonteCarloBarostat', 0.0)]\n",
      "conducting subsequent work with the following platform: CUDA\n",
      "[('CustomBondForce', 8.780351365470361), ('CustomAngleForce', 379.92447014121484), ('CustomTorsionForce', 156.24351836067592), ('AndersenThermostat', 0.0), ('MonteCarloBarostat', 0.0)]\n",
      "Success! Custom bond force and standard bond force energies are equal!\n"
     ]
    }
   ],
   "source": [
    "test_bond_energies(htf, is_old=False, is_solvated=True)"
   ]
  },
  {
   "cell_type": "markdown",
   "id": "intellectual-pennsylvania",
   "metadata": {},
   "source": [
    "### Test one alchemical region, one scale region"
   ]
  },
  {
   "cell_type": "code",
   "execution_count": 36,
   "id": "4e12fd1c",
   "metadata": {},
   "outputs": [],
   "source": [
    "import os\n",
    "from pkg_resources import resource_filename\n",
    "from perses.app import setup_relative_calculation\n",
    "import pickle\n",
    "from simtk import openmm, unit\n",
    "from simtk.openmm import app\n",
    "from openmmforcefields.generators import SystemGenerator\n",
    "import numpy as np"
   ]
  },
  {
   "cell_type": "code",
   "execution_count": 37,
   "id": "12142255",
   "metadata": {},
   "outputs": [],
   "source": [
    "# Test 8-mer peptide in solvent\n",
    "peptide_filename = resource_filename('perses', 'data/8mer-example/4zuh_peptide_capped.pdb')\n",
    "pdb = app.PDBFile(peptide_filename)\n",
    "forcefield_files = ['amber14/protein.ff14SB.xml', 'amber14/tip3p.xml']\n",
    "barostat = openmm.MonteCarloBarostat(1.0 * unit.atmosphere, 300 * unit.kelvin, 50)\n",
    "# barostat = None\n",
    "modeller = app.Modeller(pdb.topology, pdb.positions)\n",
    " \n",
    "system_generator = SystemGenerator(forcefields=forcefield_files,\n",
    "                                   barostat=barostat,\n",
    "                                   forcefield_kwargs={'removeCMMotion': False,\n",
    "                                                      'ewaldErrorTolerance': 0.00025,\n",
    "                                                      'constraints': app.HBonds,\n",
    "                                                      'hydrogenMass': 4 * unit.amus},\n",
    "                                   periodic_forcefield_kwargs=None,\n",
    "                                   small_molecule_forcefield='gaff-2.11',\n",
    "                                   nonperiodic_forcefield_kwargs={'nonbondedMethod': app.NoCutoff},\n",
    "                                   molecules=None,\n",
    "                                   cache=None)\n",
    "\n",
    "modeller.addSolvent(system_generator.forcefield, model='tip3p', padding=9*unit.angstroms, ionicStrength=0.15*unit.molar)\n",
    "topology = modeller.getTopology()\n",
    "positions = modeller.getPositions()\n",
    "\n",
    "# Canonicalize the solvated positions: turn tuples into np.array\n",
    "positions = unit.quantity.Quantity(value=np.array([list(atom_pos) for atom_pos in positions.value_in_unit_system(unit.md_unit_system)]), unit=unit.nanometers)\n",
    "system = system_generator.create_system(topology)\n",
    "\n"
   ]
  },
  {
   "cell_type": "code",
   "execution_count": 38,
   "id": "dd6352bf",
   "metadata": {
    "scrolled": true
   },
   "outputs": [
    {
     "name": "stderr",
     "output_type": "stream",
     "text": [
      "2021-07-14 16:29:56,970:(25.28s):proposal_generator:\tConducting polymer point mutation proposal...\n"
     ]
    },
    {
     "name": "stdout",
     "output_type": "stream",
     "text": [
      "Making mutation ALA->CYS\n"
     ]
    },
    {
     "name": "stderr",
     "output_type": "stream",
     "text": [
      "2021-07-14 16:29:57,574:(0.60s):proposal_generator:Using matching_criterion to chose best atom map\n",
      "2021-07-14 16:29:57,579:(0.00s):proposal_generator:Scaffold has symmetry of 0\n",
      "2021-07-14 16:29:57,581:(0.00s):proposal_generator:Two molecules are not similar to have a common scaffold\n",
      "2021-07-14 16:29:57,584:(0.00s):proposal_generator:Proceeding with direct mapping of molecules, but please check atom mapping and the geometry of the ligands.\n",
      "2021-07-14 16:29:57,587:(0.00s):proposal_generator:len [{8: 7}, {9: 7}, {10: 7}, {8: 8}, {9: 8}, {10: 8}, {8: 9}, {9: 9}, {10: 9}]\n",
      "2021-07-14 16:29:57,590:(0.00s):proposal_generator:{8: 7}\n",
      "2021-07-14 16:29:57,592:(0.00s):proposal_generator:{9: 7}\n",
      "2021-07-14 16:29:57,594:(0.00s):proposal_generator:{10: 7}\n",
      "2021-07-14 16:29:57,597:(0.00s):proposal_generator:{8: 8}\n",
      "2021-07-14 16:29:57,599:(0.00s):proposal_generator:{9: 8}\n",
      "2021-07-14 16:29:57,601:(0.00s):proposal_generator:{10: 8}\n",
      "2021-07-14 16:29:57,604:(0.00s):proposal_generator:{8: 9}\n",
      "2021-07-14 16:29:57,606:(0.00s):proposal_generator:{9: 9}\n",
      "2021-07-14 16:29:57,608:(0.00s):proposal_generator:{10: 9}\n",
      "2021-07-14 16:29:57,609:(0.00s):proposal_generator:Returning map that best satisfies matching_criterion\n",
      "2021-07-14 16:29:57,610:(0.00s):proposal_generator:Finding best map using matching_criterion name\n",
      "2021-07-14 16:29:57,612:(0.00s):proposal_generator:{8: 8}\n",
      "2021-07-14 16:29:59,867:(2.26s):geometry:propose: performing forward proposal\n",
      "2021-07-14 16:29:59,871:(0.00s):geometry:propose: unique new atoms detected; proceeding to _logp_propose...\n",
      "2021-07-14 16:29:59,873:(0.00s):geometry:Conducting forward proposal...\n",
      "2021-07-14 16:29:59,876:(0.00s):geometry:Computing proposal order with NetworkX...\n",
      "2021-07-14 16:29:59,891:(0.02s):geometry:number of atoms to be placed: 5\n",
      "2021-07-14 16:29:59,894:(0.00s):geometry:Atom index proposal order is [21, 26, 27, 24, 25]\n",
      "2021-07-14 16:29:59,897:(0.00s):geometry:omitted_bonds: []\n",
      "2021-07-14 16:29:59,899:(0.00s):geometry:direction of proposal is forward; creating atoms_with_positions and new positions from old system/topology...\n",
      "2021-07-14 16:30:00,719:(0.82s):geometry:creating growth system...\n",
      "2021-07-14 16:30:00,931:(0.21s):geometry:\tcreating bond force...\n",
      "2021-07-14 16:30:00,935:(0.00s):geometry:\tthere are 62 bonds in reference force.\n",
      "2021-07-14 16:30:00,938:(0.00s):geometry:\tcreating angle force...\n",
      "2021-07-14 16:30:00,940:(0.00s):geometry:\tthere are 219 angles in reference force.\n",
      "2021-07-14 16:30:00,947:(0.01s):geometry:\tcreating torsion force...\n",
      "2021-07-14 16:30:00,949:(0.00s):geometry:\tcreating extra torsions force...\n",
      "2021-07-14 16:30:00,952:(0.00s):geometry:\tthere are 411 torsions in reference force.\n",
      "2021-07-14 16:30:00,960:(0.01s):geometry:\tcreating nonbonded force...\n",
      "2021-07-14 16:30:00,962:(0.00s):geometry:\t\tgrabbing reference nonbonded method, cutoff, switching function, switching distance...\n",
      "2021-07-14 16:30:00,964:(0.00s):geometry:\t\tcreating nonbonded exception force (i.e. custom bond for 1,4s)...\n",
      "2021-07-14 16:30:00,967:(0.00s):geometry:\t\tlooping through exceptions calculating growth indices, and adding appropriate interactions to custom bond force.\n",
      "2021-07-14 16:30:00,969:(0.00s):geometry:\t\tthere are 6092 in the reference Nonbonded force\n",
      "2021-07-14 16:30:01,183:(0.21s):geometry:\t\t\t\t\tchiral atom <Atom 18 (CA) of chain 0 residue 2 (CYS)> with neighbors [<Atom 19 (C) of chain 0 residue 2 (CYS)>, <Atom 21 (CB) of chain 0 residue 2 (CYS)>, <Atom 23 (HA) of chain 0 residue 2 (CYS)>, <Atom 17 (N) of chain 0 residue 2 (CYS)>] is surrounded by 3 core neighbors.  omitting chirality bias torsion\n",
      "2021-07-14 16:30:01,187:(0.00s):geometry:Neglected angle terms : []\n",
      "2021-07-14 16:30:01,189:(0.00s):geometry:omitted_growth_terms: {'bonds': [], 'angles': [], 'torsions': [], '1,4s': []}\n",
      "2021-07-14 16:30:01,191:(0.00s):geometry:extra torsions: {0: (22, 17, 18, 21, [1, Quantity(value=0.9758309016364826, unit=radian), Quantity(value=1200.0, unit=kilocalorie/mole), 1]), 1: (18, 21, 26, 27, [1, Quantity(value=1.3038335663266725, unit=radian), Quantity(value=1200.0, unit=kilocalorie/mole), 3]), 2: (24, 21, 26, 27, [1, Quantity(value=-2.8294101663369684, unit=radian), Quantity(value=1200.0, unit=kilocalorie/mole), 4]), 3: (25, 21, 26, 27, [1, Quantity(value=-0.8245161738374733, unit=radian), Quantity(value=1200.0, unit=kilocalorie/mole), 5])}\n",
      "2021-07-14 16:30:01,194:(0.00s):geometry:neglected angle terms include []\n",
      "2021-07-14 16:30:01,196:(0.00s):geometry:log probability choice of torsions and atom order: -7.203405521083095\n",
      "2021-07-14 16:30:01,198:(0.00s):geometry:creating platform, integrators, and contexts; setting growth parameter\n"
     ]
    },
    {
     "name": "stdout",
     "output_type": "stream",
     "text": [
      "conducting subsequent work with the following platform: CUDA\n"
     ]
    },
    {
     "name": "stderr",
     "output_type": "stream",
     "text": [
      "2021-07-14 16:30:03,508:(2.31s):geometry:setting atoms_with_positions context new positions\n"
     ]
    },
    {
     "name": "stdout",
     "output_type": "stream",
     "text": [
      "conducting subsequent work with the following platform: CUDA\n"
     ]
    },
    {
     "name": "stderr",
     "output_type": "stream",
     "text": [
      "2021-07-14 16:30:04,650:(1.14s):geometry:There are 5 new atoms\n",
      "2021-07-14 16:30:04,658:(0.01s):geometry:\treduced angle potential = 0.7303131114560814.\n",
      "2021-07-14 16:30:04,807:(0.15s):geometry:\treduced angle potential = 0.21986674625540784.\n",
      "2021-07-14 16:30:04,977:(0.17s):geometry:\treduced angle potential = 1.2777543007037382.\n",
      "2021-07-14 16:30:05,143:(0.17s):geometry:\treduced angle potential = 0.06230176607181162.\n",
      "2021-07-14 16:30:05,314:(0.17s):geometry:\treduced angle potential = 0.2862462741168136.\n",
      "2021-07-14 16:30:05,582:(0.27s):geometry:\tbeginning construction of no_nonbonded final system...\n",
      "2021-07-14 16:30:05,585:(0.00s):geometry:\tinitial no-nonbonded final system forces ['HarmonicBondForce', 'HarmonicAngleForce', 'PeriodicTorsionForce', 'NonbondedForce', 'MonteCarloBarostat']\n",
      "2021-07-14 16:30:06,165:(0.58s):geometry:\tfinal no-nonbonded final system forces dict_keys(['HarmonicBondForce', 'HarmonicAngleForce', 'PeriodicTorsionForce', 'NonbondedForce'])\n",
      "2021-07-14 16:30:06,168:(0.00s):geometry:\tthere are 62 bond forces in the no-nonbonded final system\n",
      "2021-07-14 16:30:06,170:(0.00s):geometry:\tthere are 219 angle forces in the no-nonbonded final system\n",
      "2021-07-14 16:30:06,173:(0.00s):geometry:\tthere are 411 torsion forces in the no-nonbonded final system\n",
      "2021-07-14 16:30:06,175:(0.00s):geometry:forward final system defined with 0 neglected angles.\n"
     ]
    },
    {
     "name": "stdout",
     "output_type": "stream",
     "text": [
      "conducting subsequent work with the following platform: CUDA\n",
      "conducting subsequent work with the following platform: CUDA\n"
     ]
    },
    {
     "name": "stderr",
     "output_type": "stream",
     "text": [
      "2021-07-14 16:30:10,082:(3.91s):geometry:total reduced potential before atom placement: 168.3666282628306\n"
     ]
    },
    {
     "name": "stdout",
     "output_type": "stream",
     "text": [
      "conducting subsequent work with the following platform: CUDA\n",
      "conducting subsequent work with the following platform: CUDA\n",
      "conducting subsequent work with the following platform: CUDA\n"
     ]
    },
    {
     "name": "stderr",
     "output_type": "stream",
     "text": [
      "2021-07-14 16:30:12,761:(2.68s):geometry:total reduced energy added from growth system: 430.87101570419424\n",
      "2021-07-14 16:30:12,765:(0.00s):geometry:final reduced energy 599.2376445644904\n",
      "2021-07-14 16:30:12,768:(0.00s):geometry:sum of energies: 599.2376439670248\n",
      "2021-07-14 16:30:12,770:(0.00s):geometry:magnitude of difference in the energies: 5.974656005491852e-07\n",
      "2021-07-14 16:30:12,773:(0.00s):geometry:Final logp_proposal: 33.55554378161751\n"
     ]
    },
    {
     "name": "stdout",
     "output_type": "stream",
     "text": [
      "added energy components: [('CustomBondForce', 5.280642699442083), ('CustomAngleForce', 208.22860028298498), ('CustomTorsionForce', 15.651231111615823), ('CustomBondForce', 201.71054161015144)]\n"
     ]
    },
    {
     "name": "stderr",
     "output_type": "stream",
     "text": [
      "2021-07-14 16:30:12,961:(0.19s):geometry:logp_reverse: performing reverse proposal\n",
      "2021-07-14 16:30:12,964:(0.00s):geometry:logp_reverse: unique new atoms detected; proceeding to _logp_propose...\n",
      "2021-07-14 16:30:12,966:(0.00s):geometry:Conducting forward proposal...\n",
      "2021-07-14 16:30:12,969:(0.00s):geometry:Computing proposal order with NetworkX...\n",
      "2021-07-14 16:30:12,989:(0.02s):geometry:number of atoms to be placed: 4\n",
      "2021-07-14 16:30:12,993:(0.00s):geometry:Atom index proposal order is [21, 26, 25, 24]\n",
      "2021-07-14 16:30:12,995:(0.00s):geometry:omitted_bonds: []\n",
      "2021-07-14 16:30:12,998:(0.00s):geometry:direction of proposal is reverse; creating atoms_with_positions from old system/topology\n",
      "2021-07-14 16:30:14,132:(1.13s):geometry:creating growth system...\n",
      "2021-07-14 16:30:14,349:(0.22s):geometry:\tcreating bond force...\n",
      "2021-07-14 16:30:14,352:(0.00s):geometry:\tthere are 61 bonds in reference force.\n",
      "2021-07-14 16:30:14,356:(0.00s):geometry:\tcreating angle force...\n",
      "2021-07-14 16:30:14,358:(0.00s):geometry:\tthere are 218 angles in reference force.\n",
      "2021-07-14 16:30:14,365:(0.01s):geometry:\tcreating torsion force...\n",
      "2021-07-14 16:30:14,367:(0.00s):geometry:\tcreating extra torsions force...\n",
      "2021-07-14 16:30:14,370:(0.00s):geometry:\tthere are 399 torsions in reference force.\n",
      "2021-07-14 16:30:14,377:(0.01s):geometry:\tcreating nonbonded force...\n",
      "2021-07-14 16:30:14,380:(0.00s):geometry:\t\tgrabbing reference nonbonded method, cutoff, switching function, switching distance...\n",
      "2021-07-14 16:30:14,382:(0.00s):geometry:\t\tcreating nonbonded exception force (i.e. custom bond for 1,4s)...\n",
      "2021-07-14 16:30:14,384:(0.00s):geometry:\t\tlooping through exceptions calculating growth indices, and adding appropriate interactions to custom bond force.\n",
      "2021-07-14 16:30:14,387:(0.00s):geometry:\t\tthere are 6087 in the reference Nonbonded force\n",
      "2021-07-14 16:30:14,598:(0.21s):geometry:\t\t\t\t\tchiral atom <Atom 18 (CA) of chain 0 residue 2 (ALA)> with neighbors [<Atom 19 (C) of chain 0 residue 2 (ALA)>, <Atom 21 (CB) of chain 0 residue 2 (ALA)>, <Atom 23 (HA) of chain 0 residue 2 (ALA)>, <Atom 17 (N) of chain 0 residue 2 (ALA)>] is surrounded by 3 core neighbors.  omitting chirality bias torsion\n",
      "2021-07-14 16:30:14,601:(0.00s):geometry:Neglected angle terms : []\n",
      "2021-07-14 16:30:14,604:(0.00s):geometry:omitted_growth_terms: {'bonds': [], 'angles': [], 'torsions': [], '1,4s': []}\n",
      "2021-07-14 16:30:14,606:(0.00s):geometry:extra torsions: {0: (22, 17, 18, 21, [1, Quantity(value=0.9799661941737812, unit=radian), Quantity(value=1200.0, unit=kilocalorie/mole), 1]), 1: (17, 18, 21, 24, [1, Quantity(value=2.105358864604291, unit=radian), Quantity(value=1200.0, unit=kilocalorie/mole), 4]), 2: (17, 18, 21, 25, [1, Quantity(value=-2.0823006129211796, unit=radian), Quantity(value=1200.0, unit=kilocalorie/mole), 3]), 3: (17, 18, 21, 26, [1, Quantity(value=0.018582237407944735, unit=radian), Quantity(value=1200.0, unit=kilocalorie/mole), 2]), 4: (19, 18, 21, 24, [1, Quantity(value=-0.036945135932107576, unit=radian), Quantity(value=1200.0, unit=kilocalorie/mole), 4]), 5: (19, 18, 21, 25, [1, Quantity(value=2.0585806937220097, unit=radian), Quantity(value=1200.0, unit=kilocalorie/mole), 3]), 6: (19, 18, 21, 26, [1, Quantity(value=-2.1237217631284597, unit=radian), Quantity(value=1200.0, unit=kilocalorie/mole), 2]), 7: (23, 18, 21, 24, [1, Quantity(value=-2.119603470065817, unit=radian), Quantity(value=1200.0, unit=kilocalorie/mole), 4]), 8: (23, 18, 21, 25, [1, Quantity(value=-0.024077640411697132, unit=radian), Quantity(value=1200.0, unit=kilocalorie/mole), 3]), 9: (23, 18, 21, 26, [1, Quantity(value=2.0768052099174152, unit=radian), Quantity(value=1200.0, unit=kilocalorie/mole), 2])}\n",
      "2021-07-14 16:30:14,609:(0.00s):geometry:neglected angle terms include []\n",
      "2021-07-14 16:30:14,611:(0.00s):geometry:log probability choice of torsions and atom order: -5.78074351579233\n",
      "2021-07-14 16:30:14,614:(0.00s):geometry:creating platform, integrators, and contexts; setting growth parameter\n"
     ]
    },
    {
     "name": "stdout",
     "output_type": "stream",
     "text": [
      "conducting subsequent work with the following platform: CUDA\n"
     ]
    },
    {
     "name": "stderr",
     "output_type": "stream",
     "text": [
      "2021-07-14 16:30:15,355:(0.74s):geometry:setting atoms_with_positions context old positions\n"
     ]
    },
    {
     "name": "stdout",
     "output_type": "stream",
     "text": [
      "conducting subsequent work with the following platform: CUDA\n"
     ]
    },
    {
     "name": "stderr",
     "output_type": "stream",
     "text": [
      "2021-07-14 16:30:16,007:(0.65s):geometry:There are 4 new atoms\n",
      "2021-07-14 16:30:16,014:(0.01s):geometry:\treduced angle potential = 0.042051561766555265.\n",
      "2021-07-14 16:30:16,164:(0.15s):geometry:\treduced angle potential = 2.233125127093818e-08.\n",
      "2021-07-14 16:30:16,318:(0.15s):geometry:\treduced angle potential = 9.561051668715153e-06.\n",
      "2021-07-14 16:30:16,467:(0.15s):geometry:\treduced angle potential = 9.265637866968462e-06.\n",
      "2021-07-14 16:30:16,742:(0.28s):geometry:\tbeginning construction of no_nonbonded final system...\n",
      "2021-07-14 16:30:16,746:(0.00s):geometry:\tinitial no-nonbonded final system forces ['HarmonicBondForce', 'HarmonicAngleForce', 'PeriodicTorsionForce', 'NonbondedForce', 'MonteCarloBarostat']\n",
      "2021-07-14 16:30:17,302:(0.56s):geometry:\tfinal no-nonbonded final system forces dict_keys(['HarmonicBondForce', 'HarmonicAngleForce', 'PeriodicTorsionForce', 'NonbondedForce'])\n",
      "2021-07-14 16:30:17,305:(0.00s):geometry:\tthere are 61 bond forces in the no-nonbonded final system\n",
      "2021-07-14 16:30:17,307:(0.00s):geometry:\tthere are 218 angle forces in the no-nonbonded final system\n",
      "2021-07-14 16:30:17,310:(0.00s):geometry:\tthere are 399 torsion forces in the no-nonbonded final system\n",
      "2021-07-14 16:30:17,312:(0.00s):geometry:reverse final system defined with 0 neglected angles.\n"
     ]
    },
    {
     "name": "stdout",
     "output_type": "stream",
     "text": [
      "conducting subsequent work with the following platform: CUDA\n",
      "conducting subsequent work with the following platform: CUDA\n"
     ]
    },
    {
     "name": "stderr",
     "output_type": "stream",
     "text": [
      "2021-07-14 16:30:18,746:(1.43s):geometry:total reduced potential before atom placement: 168.36662826283057\n"
     ]
    },
    {
     "name": "stdout",
     "output_type": "stream",
     "text": [
      "conducting subsequent work with the following platform: CUDA\n",
      "conducting subsequent work with the following platform: CUDA\n",
      "conducting subsequent work with the following platform: CUDA\n"
     ]
    },
    {
     "name": "stderr",
     "output_type": "stream",
     "text": [
      "2021-07-14 16:30:20,391:(1.64s):geometry:total reduced energy added from growth system: 19.11335785388209\n",
      "2021-07-14 16:30:20,394:(0.00s):geometry:final reduced energy 187.47998570143525\n",
      "2021-07-14 16:30:20,396:(0.00s):geometry:sum of energies: 187.47998611671267\n",
      "2021-07-14 16:30:20,399:(0.00s):geometry:magnitude of difference in the energies: 4.1527740890501263e-07\n",
      "2021-07-14 16:30:20,401:(0.00s):geometry:Final logp_proposal: -30364.724484340997\n"
     ]
    },
    {
     "name": "stdout",
     "output_type": "stream",
     "text": [
      "added energy components: [('CustomBondForce', 0.04562463240715887), ('CustomAngleForce', 0.11963264577965825), ('CustomTorsionForce', 7.457414545448549), ('CustomBondForce', 11.490686030246726)]\n"
     ]
    }
   ],
   "source": [
    "from perses.rjmc.topology_proposal import PointMutationEngine\n",
    "from perses.annihilation.relative import RepartitionedHybridTopologyFactory\n",
    "from perses.tests.utils import validate_endstate_energies\n",
    "import random\n",
    "\n",
    "aminos = ['ALA','ARG','ASN','ASP','CYS','GLN','GLU','GLY','HIS','ILE','LEU','LYS','MET','PHE','PRO','SER','THR','TRP','TYR','VAL']\n",
    "\n",
    "ENERGY_THRESHOLD = 1e-6\n",
    "kB = unit.BOLTZMANN_CONSTANT_kB * unit.AVOGADRO_CONSTANT_NA\n",
    "temperature = 300.0 * unit.kelvin\n",
    "kT = kB * temperature\n",
    "beta = 1.0/kT\n",
    "\n",
    "chain = 'C'\n",
    "for res in topology.residues():\n",
    "    if res.id == '2':\n",
    "        wt_res = res.name\n",
    "aminos_updated = [amino for amino in aminos if amino not in [wt_res, 'PRO', 'HIS', 'TRP', 'PHE', 'TYR']]\n",
    "mutant = random.choice(aminos_updated)\n",
    "print(f'Making mutation {wt_res}->{mutant}')\n",
    "\n",
    "# Create point mutation engine to mutate residue at id 2 to random amino acid\n",
    "point_mutation_engine = PointMutationEngine(wildtype_topology=topology,\n",
    "                                            system_generator=system_generator,\n",
    "                                            chain_id=chain,\n",
    "                                            max_point_mutants=1,\n",
    "                                            residues_allowed_to_mutate=['2'],  # the residue ids allowed to mutate\n",
    "                                            allowed_mutations=[('2', mutant)],\n",
    "                                            aggregate=True)  # always allow aggregation\n",
    "\n",
    "# Create topology proposal\n",
    "topology_proposal = point_mutation_engine.propose(current_system=system, current_topology=topology)\n",
    "\n",
    "# Create geometry engine\n",
    "from perses.rjmc.geometry import FFAllAngleGeometryEngine\n",
    "geometry_engine = FFAllAngleGeometryEngine(metadata=None,\n",
    "                                           use_sterics=False,\n",
    "                                           n_bond_divisions=100,\n",
    "                                           n_angle_divisions=180,\n",
    "                                           n_torsion_divisions=360,\n",
    "                                           verbose=True,\n",
    "                                           storage=None,\n",
    "                                           bond_softening_constant=1.0,\n",
    "                                           angle_softening_constant=1.0,\n",
    "                                           neglect_angles=False,\n",
    "                                           use_14_nonbondeds=True)\n",
    "\n",
    "# Create geometry proposal\n",
    "new_positions, logp_proposal = geometry_engine.propose(topology_proposal, positions, beta,\n",
    "                                                               validate_energy_bookkeeping=True)\n",
    "logp_reverse = geometry_engine.logp_reverse(topology_proposal, new_positions, positions, beta,\n",
    "                                            validate_energy_bookkeeping=True)\n",
    "\n",
    "if not topology_proposal.unique_new_atoms:\n",
    "    assert geometry_engine.forward_final_context_reduced_potential == None, f\"There are no unique new atoms but the geometry_engine's final context reduced potential is not None (i.e. {self._geometry_engine.forward_final_context_reduced_potential})\"\n",
    "    assert geometry_engine.forward_atoms_with_positions_reduced_potential == None, f\"There are no unique new atoms but the geometry_engine's forward atoms-with-positions-reduced-potential in not None (i.e. { self._geometry_engine.forward_atoms_with_positions_reduced_potential})\"\n",
    "    vacuum_added_valence_energy = 0.0\n",
    "else:\n",
    "    added_valence_energy = geometry_engine.forward_final_context_reduced_potential - geometry_engine.forward_atoms_with_positions_reduced_potential\n",
    "\n",
    "if not topology_proposal.unique_old_atoms:\n",
    "    assert geometry_engine.reverse_final_context_reduced_potential == None, f\"There are no unique old atoms but the geometry_engine's final context reduced potential is not None (i.e. {self._geometry_engine.reverse_final_context_reduced_potential})\"\n",
    "    assert geometry_engine.reverse_atoms_with_positions_reduced_potential == None, f\"There are no unique old atoms but the geometry_engine's atoms-with-positions-reduced-potential in not None (i.e. { self._geometry_engine.reverse_atoms_with_positions_reduced_potential})\"\n",
    "    subtracted_valence_energy = 0.0\n",
    "else:\n",
    "    subtracted_valence_energy = geometry_engine.reverse_final_context_reduced_potential - geometry_engine.reverse_atoms_with_positions_reduced_potential\n"
   ]
  },
  {
   "cell_type": "code",
   "execution_count": 39,
   "id": "3213dec6",
   "metadata": {
    "scrolled": true
   },
   "outputs": [
    {
     "name": "stderr",
     "output_type": "stream",
     "text": [
      "2021-07-14 16:30:20,584:(0.18s):relative:*** Generating RxnHybridTopologyFactory ***\n",
      "2021-07-14 16:30:20,587:(0.00s):relative:Beginning nonbonded method, total particle, barostat, and exceptions retrieval...\n",
      "2021-07-14 16:30:20,848:(0.26s):relative:Old system forces: dict_keys(['HarmonicBondForce', 'HarmonicAngleForce', 'PeriodicTorsionForce', 'NonbondedForce', 'MonteCarloBarostat'])\n",
      "2021-07-14 16:30:20,851:(0.00s):relative:New system forces: dict_keys(['HarmonicBondForce', 'HarmonicAngleForce', 'PeriodicTorsionForce', 'NonbondedForce', 'MonteCarloBarostat'])\n",
      "2021-07-14 16:30:20,853:(0.00s):relative:No unknown forces.\n",
      "2021-07-14 16:30:20,856:(0.00s):relative:Nonbonded method to be used (i.e. from old system): 4\n",
      "2021-07-14 16:30:20,858:(0.00s):relative:Adding and mapping old atoms to hybrid system...\n",
      "2021-07-14 16:30:20,950:(0.09s):relative:Adding and mapping new atoms to hybrid system...\n",
      "2021-07-14 16:30:20,953:(0.00s):relative:scale_templates: [['nonscale_lambda', 'scale_lambda_0', 'interscale_lambda_0'], ['nonscale_region', 'scale_region_0', 'interscale_region_0']]\n",
      "2021-07-14 16:30:20,955:(0.00s):relative:particle (nonbonded) scale_templates: [['nonscale_lambda', 'scale_lambda_0'], ['nonscale_region1', 'scale_region_01'], ['nonscale_region2', 'scale_region_02']]\n",
      "2021-07-14 16:30:20,958:(0.00s):relative:Added MonteCarloBarostat.\n",
      "2021-07-14 16:30:20,960:(0.00s):relative:getDefaultPeriodicBoxVectors added to hybrid: [Quantity(value=Vec3(x=3.9005, y=0.0, z=0.0), unit=nanometer), Quantity(value=Vec3(x=0.0, y=3.9005, z=0.0), unit=nanometer), Quantity(value=Vec3(x=0.0, y=0.0, z=3.9005), unit=nanometer)]\n",
      "2021-07-14 16:30:20,968:(0.01s):relative:Determined atom classes.\n",
      "2021-07-14 16:30:20,970:(0.00s):relative:Generating old system exceptions dict...\n",
      "2021-07-14 16:30:21,030:(0.06s):relative:Generating new system exceptions dict...\n",
      "2021-07-14 16:30:21,120:(0.09s):relative:Handling constraints...\n",
      "2021-07-14 16:30:21,322:(0.20s):relative:Handling virtual sites...\n",
      "2021-07-14 16:30:21,331:(0.01s):relative:\t_handle_virtual_sites: numVirtualSites: 0\n"
     ]
    }
   ],
   "source": [
    "from perses.annihilation.relative import RxnHybridTopologyFactory\n",
    "flatten_exceptions = True\n",
    "flatten_torsions = True\n",
    "endstate = None\n",
    "scale_regions = [list(htf._atom_classes['unique_old_atoms'][0]) + list(htf._atom_classes['unique_new_atoms'][0])]\n",
    "htf = RxnHybridTopologyFactory(topology_proposal=topology_proposal,\n",
    "                     current_positions=positions,\n",
    "                     new_positions=new_positions,\n",
    "                     use_dispersion_correction=False,\n",
    "                     functions=None,\n",
    "                     softcore_alpha=None,\n",
    "                     bond_softening_constant=1.0,\n",
    "                     angle_softening_constant=1.0,\n",
    "                     soften_only_new=False,\n",
    "                     neglected_new_angle_terms=[],\n",
    "                     neglected_old_angle_terms=[],\n",
    "                     softcore_LJ_v2=True,\n",
    "                     softcore_electrostatics=True,\n",
    "                     softcore_LJ_v2_alpha=0.85,\n",
    "                     softcore_electrostatics_alpha=0.3,\n",
    "                     softcore_sigma_Q=1.0,\n",
    "                     interpolate_old_and_new_14s=flatten_exceptions,\n",
    "                     omitted_terms=None,\n",
    "                     flatten_torsions=flatten_torsions,\n",
    "                     scale_regions=scale_regions)"
   ]
  },
  {
   "cell_type": "code",
   "execution_count": 40,
   "id": "053830ab",
   "metadata": {},
   "outputs": [],
   "source": [
    "# Save htf\n",
    "with open(\"8mer_solvent_scale_region.pickle\", \"wb\") as f:\n",
    "    pickle.dump(htf, f)"
   ]
  },
  {
   "cell_type": "markdown",
   "id": "romantic-florist",
   "metadata": {},
   "source": [
    "#### Old system HarmonicBondForce vs hybrid system CustomBondForce"
   ]
  },
  {
   "cell_type": "code",
   "execution_count": 41,
   "id": "needed-classroom",
   "metadata": {},
   "outputs": [],
   "source": [
    "# Load htf\n",
    "with open(\"/home/zhangi/choderalab/perses_benchmark/perses_protein_mutations/code/26_rxn_field/8mer_solvent_scale_region.pickle\", \"rb\") as f:\n",
    "    htf = pickle.load(f)"
   ]
  },
  {
   "cell_type": "code",
   "execution_count": 42,
   "id": "minimal-purchase",
   "metadata": {},
   "outputs": [
    {
     "data": {
      "text/plain": [
       "[24, 25, 26, 21, 5575, 5576, 5577, 5578, 5579]"
      ]
     },
     "execution_count": 42,
     "metadata": {},
     "output_type": "execute_result"
    }
   ],
   "source": [
    "# This is the scale region\n",
    "list(htf._atom_classes['unique_old_atoms'][0]) + list(htf._atom_classes['unique_new_atoms'][0])"
   ]
  },
  {
   "cell_type": "code",
   "execution_count": 43,
   "id": "continuing-award",
   "metadata": {},
   "outputs": [
    {
     "name": "stdout",
     "output_type": "stream",
     "text": [
      "Warning: Returning CPU platform instead of requested platform <simtk.openmm.openmm.Platform; proxy of <Swig Object of type 'OpenMM::Platform *' at 0x2ae70ce2b150> >\n",
      "conducting subsequent work with the following platform: CPU\n",
      "conducting subsequent work with the following platform: CUDA\n",
      "[('HarmonicBondForce', 7.300105424153174), ('HarmonicAngleForce', 12.445685055931849), ('PeriodicTorsionForce', 156.24350906389375), ('NonbondedForce', -10441.051660671816), ('AndersenThermostat', 0.0), ('MonteCarloBarostat', 0.0)]\n",
      "conducting subsequent work with the following platform: CUDA\n",
      "[('CustomBondForce', 7.300105424153174), ('CustomAngleForce', 220.6742853389168), ('CustomTorsionForce', 156.24351836067592), ('AndersenThermostat', 0.0), ('MonteCarloBarostat', 0.0)]\n",
      "Success! Custom bond force and standard bond force energies are equal!\n"
     ]
    }
   ],
   "source": [
    "test_bond_energies(htf, is_solvated=True)"
   ]
  },
  {
   "cell_type": "markdown",
   "id": "relevant-insured",
   "metadata": {},
   "source": [
    "#### New system HarmonicBondForce vs hybrid system CustomBondForce"
   ]
  },
  {
   "cell_type": "code",
   "execution_count": 44,
   "id": "mediterranean-assist",
   "metadata": {},
   "outputs": [],
   "source": [
    "# Load htf\n",
    "with open(\"/home/zhangi/choderalab/perses_benchmark/perses_protein_mutations/code/26_rxn_field/8mer_solvent_scale_region.pickle\", \"rb\") as f:\n",
    "    htf = pickle.load(f)"
   ]
  },
  {
   "cell_type": "code",
   "execution_count": 45,
   "id": "angry-perception",
   "metadata": {
    "scrolled": true
   },
   "outputs": [
    {
     "name": "stdout",
     "output_type": "stream",
     "text": [
      "Warning: Returning CPU platform instead of requested platform <simtk.openmm.openmm.Platform; proxy of <Swig Object of type 'OpenMM::Platform *' at 0x2ae70ce2b150> >\n",
      "conducting subsequent work with the following platform: CPU\n",
      "conducting subsequent work with the following platform: CUDA\n",
      "[('HarmonicBondForce', 12.5351234911881), ('HarmonicAngleForce', 220.55465269313717), ('PeriodicTorsionForce', 164.43732525160556), ('NonbondedForce', 80043.38328338433), ('AndersenThermostat', 0.0), ('MonteCarloBarostat', 0.0)]\n",
      "conducting subsequent work with the following platform: CUDA\n",
      "[('CustomBondForce', 12.5351234911881), ('CustomAngleForce', 220.6742853389168), ('CustomTorsionForce', 156.24351836067592), ('AndersenThermostat', 0.0), ('MonteCarloBarostat', 0.0)]\n",
      "Success! Custom bond force and standard bond force energies are equal!\n"
     ]
    }
   ],
   "source": [
    "test_bond_energies(htf, is_old=False, is_solvated=True)"
   ]
  },
  {
   "cell_type": "markdown",
   "id": "corrected-meeting",
   "metadata": {},
   "source": [
    "## Barnase:barstar (old htf, no naked charge fix or counterion fix)"
   ]
  },
  {
   "cell_type": "markdown",
   "id": "japanese-persian",
   "metadata": {},
   "source": [
    "### Test one alchemical region, no scale regions"
   ]
  },
  {
   "cell_type": "code",
   "execution_count": 48,
   "id": "d94d0516",
   "metadata": {},
   "outputs": [],
   "source": [
    "from perses.app.relative_point_mutation_setup import PointMutationExecutor\n",
    "from openeye import oechem"
   ]
  },
  {
   "cell_type": "code",
   "execution_count": 50,
   "id": "3c7b671e",
   "metadata": {},
   "outputs": [],
   "source": [
    "from __future__ import absolute_import\n",
    "\n",
    "from perses.utils.openeye import createOEMolFromSDF, extractPositionsFromOEMol\n",
    "from perses.annihilation.relative import HybridTopologyFactory, RepartitionedHybridTopologyFactory, RxnHybridTopologyFactory\n",
    "from perses.rjmc.topology_proposal import PointMutationEngine\n",
    "from perses.rjmc.geometry import FFAllAngleGeometryEngine\n",
    "\n",
    "import simtk.openmm as openmm\n",
    "import simtk.openmm.app as app\n",
    "import simtk.unit as unit\n",
    "import numpy as np\n",
    "from openmoltools import forcefield_generators\n",
    "import mdtraj as md\n",
    "from openmmtools.constants import kB\n",
    "from perses.tests.utils import validate_endstate_energies\n",
    "from openff.toolkit.topology import Molecule\n",
    "from openmmforcefields.generators import SystemGenerator\n",
    "\n",
    "ENERGY_THRESHOLD = 1e-2\n",
    "temperature = 300 * unit.kelvin\n",
    "kT = kB * temperature\n",
    "beta = 1.0/kT\n",
    "ring_amino_acids = ['TYR', 'PHE', 'TRP', 'PRO', 'HIS']\n",
    "\n",
    "# Set up logger\n",
    "import logging\n",
    "_logger = logging.getLogger()\n",
    "_logger.setLevel(logging.INFO)\n",
    "\n",
    "class PointMutationExecutor2(PointMutationExecutor):\n",
    "    \"\"\"\n",
    "    Simple, stripped-down class to create a protein-ligand system and allow a mutation of a protein.\n",
    "    this will allow support for the creation of _two_ relative free energy calculations:\n",
    "        1. 'wildtype' - 'point mutant' complex hybrid.\n",
    "        2. 'wildtype' - 'point mutant' protein hybrid (i.e. with ligand of interest unbound)\n",
    "    Example (create full point mutation executor and run parallel tempering on both complex and apo phases):\n",
    "        from pkg_resources import resource_filename\n",
    "        protein_path = 'data/perses_jacs_systems/thrombin/Thrombin_protein.pdb'\n",
    "        ligands_path = 'data/perses_jacs_systems/thrombin/Thrombin_ligands.sdf'\n",
    "        protein_filename = resource_filename('openmmforcefields', protein_path)\n",
    "        ligand_input = resource_filename('openmmforcefields', ligands_path)\n",
    "        pm_delivery = PointMutationExecutor(protein_filename=protein_filename,\n",
    "                                    mutation_chain_id='2',\n",
    "                                    mutation_residue_id='198',\n",
    "                                     proposed_residue='THR',\n",
    "                                     phase='complex',\n",
    "                                     conduct_endstate_validation=False,\n",
    "                                     ligand_input=ligand_input,\n",
    "                                     ligand_index=0,\n",
    "                                     forcefield_files=['amber14/protein.ff14SB.xml', 'amber14/tip3p.xml'],\n",
    "                                     barostat=openmm.MonteCarloBarostat(1.0 * unit.atmosphere, temperature, 50),\n",
    "                                     forcefield_kwargs={'removeCMMotion': False, 'ewaldErrorTolerance': 1e-4, 'nonbondedMethod': app.PME, 'constraints' : app.HBonds, 'hydrogenMass' : 4 * unit.amus},\n",
    "                                     small_molecule_forcefields='gaff-2.11')\n",
    "        complex_htf = pm_delivery.get_complex_htf()\n",
    "        apo_htf = pm_delivery.get_apo_htf()\n",
    "        # Now we can build the hybrid repex samplers\n",
    "        from perses.annihilation.lambda_protocol import LambdaProtocol\n",
    "        from openmmtools.multistate import MultiStateReporter\n",
    "        from perses.samplers.multistate import HybridRepexSampler\n",
    "        from openmmtools import mcmc\n",
    "        suffix = 'run'; selection = 'not water'; checkpoint_interval = 10; n_states = 11; n_cycles = 5000\n",
    "        for htf in [complex_htf, apo_htf]:\n",
    "            lambda_protocol = LambdaProtocol(functions='default')\n",
    "            reporter_file = 'reporter.nc'\n",
    "            reporter = MultiStateReporter(reporter_file, analysis_particle_indices = htf.hybrid_topology.select(selection), checkpoint_interval = checkpoint_interval)\n",
    "            hss = HybridRepexSampler(mcmc_moves=mcmc.LangevinSplittingDynamicsMove(timestep= 4.0 * unit.femtoseconds,\n",
    "                                                                                  collision_rate=5.0 / unit.picosecond,\n",
    "                                                                                  n_steps=250,\n",
    "                                                                                  reassign_velocities=False,\n",
    "                                                                                  n_restart_attempts=20,\n",
    "                                                                                  splitting=\"V R R R O R R R V\",\n",
    "                                                                                  constraint_tolerance=1e-06),\n",
    "                                                                                  hybrid_factory=htf, online_analysis_interval=10)\n",
    "            hss.setup(n_states=n_states, temperature=300*unit.kelvin, storage_file=reporter, lambda_protocol=lambda_protocol, endstates=False)\n",
    "            hss.extend(n_cycles)\n",
    "    \"\"\"\n",
    "    def __init__(self,\n",
    "                 protein_filename,\n",
    "                 mutation_chain_id,\n",
    "                 mutation_residue_id,\n",
    "                 proposed_residue,\n",
    "                 phase='complex',\n",
    "                 conduct_endstate_validation=True,\n",
    "                 ligand_input=None,\n",
    "                 ligand_index=0,\n",
    "                 water_model='tip3p',\n",
    "                 ionic_strength=0.15 * unit.molar,\n",
    "                 forcefield_files=['amber14/protein.ff14SB.xml', 'amber14/tip3p.xml'],\n",
    "                 barostat=openmm.MonteCarloBarostat(1.0 * unit.atmosphere, temperature, 50),\n",
    "                 forcefield_kwargs={'removeCMMotion': False, 'ewaldErrorTolerance': 0.00025, 'constraints' : app.HBonds, 'hydrogenMass' : 4 * unit.amus},\n",
    "                 periodic_forcefield_kwargs={'nonbondedMethod': app.PME},\n",
    "                 nonperiodic_forcefield_kwargs=None,\n",
    "                 small_molecule_forcefields='gaff-2.11',\n",
    "                 complex_box_dimensions=None,\n",
    "                 apo_box_dimensions=None,\n",
    "                 flatten_torsions=False,\n",
    "                 flatten_exceptions=False,\n",
    "                 repartitioned_endstate=None,\n",
    "                 rxn_field = True,\n",
    "                 **kwargs):\n",
    "        \"\"\"\n",
    "        arguments\n",
    "            protein_filename : str\n",
    "                path to protein (to mutate); .pdb\n",
    "            mutation_chain_id : str\n",
    "                name of the chain to be mutated\n",
    "            mutation_residue_id : str\n",
    "                residue id to change\n",
    "            proposed_residue : str\n",
    "                three letter code of the residue to mutate to\n",
    "            phase : str, default complex\n",
    "                if phase == vacuum, then the complex will not be solvated with water; else, it will be solvated with tip3p\n",
    "            conduct_endstate_validation : bool, default True\n",
    "                whether to conduct an endstate validation of the HybridTopologyFactory. If using the RepartitionedHybridTopologyFactory,\n",
    "                endstate validation cannot and will not be conducted.\n",
    "            ligand_file : str, default None\n",
    "                path to ligand of interest (i.e. small molecule or protein); .sdf or .pdb\n",
    "            ligand_index : int, default 0\n",
    "                which ligand to use\n",
    "            water_model : str, default 'tip3p'\n",
    "                solvent model to use for solvation\n",
    "            ionic_strength : float * unit.molar, default 0.15 * unit.molar\n",
    "                the total concentration of ions (both positive and negative) to add using Modeller.\n",
    "                This does not include ions that are added to neutralize the system.\n",
    "                Note that only monovalent ions are currently supported.\n",
    "            forcefield_files : list of str, default ['amber14/protein.ff14SB.xml', 'amber14/tip3p.xml']\n",
    "                forcefield files for proteins and solvent\n",
    "            barostat : openmm.MonteCarloBarostat, default openmm.MonteCarloBarostat(1.0 * unit.atmosphere, 300 * unit.kelvin, 50)\n",
    "                barostat to use\n",
    "            forcefield_kwargs : dict, default {'removeCMMotion': False, 'ewaldErrorTolerance': 1e-4, 'constraints' : app.HBonds, 'hydrogenMass' : 4 * unit.amus}\n",
    "                forcefield kwargs for system parametrization\n",
    "            periodic_forcefield_kwargs : dict, default {'nonbondedMethod': app.PME}\n",
    "                periodic forcefield kwargs for system parametrization\n",
    "            nonperiodic_forcefield_kwargs : dict, default None\n",
    "                non-periodic forcefield kwargs for system parametrization\n",
    "            small_molecule_forcefields : str, default 'gaff-2.11'\n",
    "                the forcefield string for small molecule parametrization\n",
    "            complex_box_dimensions : Vec3, default None\n",
    "                define box dimensions of complex phase;\n",
    "                if None, padding is 1nm\n",
    "            apo_box_dimensions :  Vec3, default None\n",
    "                define box dimensions of apo phase phase;\n",
    "                if None, padding is 1nm\n",
    "            flatten_torsions : bool, default False\n",
    "                in the htf, flatten torsions involving unique new atoms at lambda = 0 and unique old atoms are lambda = 1\n",
    "            flatten_exceptions : bool, default False\n",
    "                in the htf, flatten exceptions involving unique new atoms at lambda = 0 and unique old atoms at lambda = 1\n",
    "            repartitioned_endstate : int, default None\n",
    "                the endstate (0 or 1) at which to build the RepartitionedHybridTopologyFactory. By default, this is None,\n",
    "                meaning a vanilla HybridTopologyFactory will be built.\n",
    "        TODO : allow argument for spectator ligands besides the 'ligand_file'\n",
    "        \"\"\"\n",
    "\n",
    "        # First thing to do is load the apo protein to mutate...\n",
    "        protein_pdbfile = open(protein_filename, 'r')\n",
    "        protein_pdb = app.PDBFile(protein_pdbfile)\n",
    "        protein_pdbfile.close()\n",
    "        protein_positions, protein_topology, protein_md_topology = protein_pdb.positions, protein_pdb.topology, md.Topology.from_openmm(protein_pdb.topology)\n",
    "        protein_topology = protein_md_topology.to_openmm()\n",
    "        protein_n_atoms = protein_md_topology.n_atoms\n",
    "\n",
    "        # Load the ligand, if present\n",
    "        molecules = []\n",
    "        if ligand_input:\n",
    "            if isinstance(ligand_input, str):\n",
    "                if ligand_input.endswith('.sdf'): # small molecule\n",
    "                        ligand_mol = createOEMolFromSDF(ligand_input, index=ligand_index)\n",
    "                        molecules.append(Molecule.from_openeye(ligand_mol, allow_undefined_stereo=False))\n",
    "                        ligand_positions, ligand_topology = extractPositionsFromOEMol(ligand_mol),  forcefield_generators.generateTopologyFromOEMol(ligand_mol)\n",
    "                        ligand_md_topology = md.Topology.from_openmm(ligand_topology)\n",
    "                        ligand_n_atoms = ligand_md_topology.n_atoms\n",
    "\n",
    "                if ligand_input.endswith('pdb'): # protein\n",
    "                    ligand_pdbfile = open(ligand_input, 'r')\n",
    "                    ligand_pdb = app.PDBFile(ligand_pdbfile)\n",
    "                    ligand_pdbfile.close()\n",
    "                    ligand_positions, ligand_topology, ligand_md_topology = ligand_pdb.positions, ligand_pdb.topology, md.Topology.from_openmm(\n",
    "                        ligand_pdb.topology)\n",
    "                    ligand_n_atoms = ligand_md_topology.n_atoms\n",
    "\n",
    "            elif isinstance(ligand_input, oechem.OEMol): # oemol object\n",
    "                molecules.append(Molecule.from_openeye(ligand_input, allow_undefined_stereo=False))\n",
    "                ligand_positions, ligand_topology = extractPositionsFromOEMol(ligand_input),  forcefield_generators.generateTopologyFromOEMol(ligand_input)\n",
    "                ligand_md_topology = md.Topology.from_openmm(ligand_topology)\n",
    "                ligand_n_atoms = ligand_md_topology.n_atoms\n",
    "\n",
    "            else:\n",
    "                _logger.warning(f'ligand filetype not recognised. Please provide a path to a .pdb or .sdf file')\n",
    "                return\n",
    "\n",
    "            # Now create a complex\n",
    "            complex_md_topology = protein_md_topology.join(ligand_md_topology)\n",
    "            complex_topology = complex_md_topology.to_openmm()\n",
    "            complex_positions = unit.Quantity(np.zeros([protein_n_atoms + ligand_n_atoms, 3]), unit=unit.nanometers)\n",
    "            complex_positions[:protein_n_atoms, :] = protein_positions\n",
    "            complex_positions[protein_n_atoms:, :] = ligand_positions\n",
    "\n",
    "        # Now for a system_generator\n",
    "        self.system_generator = SystemGenerator(forcefields=forcefield_files,\n",
    "                                                barostat=barostat,\n",
    "                                                forcefield_kwargs=forcefield_kwargs,\n",
    "                                                periodic_forcefield_kwargs=periodic_forcefield_kwargs,\n",
    "                                                nonperiodic_forcefield_kwargs=nonperiodic_forcefield_kwargs,\n",
    "                                                small_molecule_forcefield=small_molecule_forcefields,\n",
    "                                                molecules=molecules,\n",
    "                                                cache=None)\n",
    "\n",
    "        # Solvate apo and complex...\n",
    "        apo_input = list(self._solvate(protein_topology, protein_positions, water_model, phase, ionic_strength, apo_box_dimensions))\n",
    "        inputs = [apo_input]\n",
    "        if ligand_input:\n",
    "            inputs.append(self._solvate(complex_topology, complex_positions, water_model, phase, ionic_strength, complex_box_dimensions))\n",
    "\n",
    "        geometry_engine = FFAllAngleGeometryEngine(metadata=None,\n",
    "                                                use_sterics=False,\n",
    "                                                n_bond_divisions=100,\n",
    "                                                n_angle_divisions=180,\n",
    "                                                n_torsion_divisions=360,\n",
    "                                                verbose=True,\n",
    "                                                storage=None,\n",
    "                                                bond_softening_constant=1.0,\n",
    "                                                angle_softening_constant=1.0,\n",
    "                                                neglect_angles = False,\n",
    "                                                use_14_nonbondeds = True)\n",
    "\n",
    "\n",
    "        # Run pipeline...\n",
    "        htfs = []\n",
    "        for (top, pos, sys) in inputs:\n",
    "            point_mutation_engine = PointMutationEngine(wildtype_topology=top,\n",
    "                                                                 system_generator=self.system_generator,\n",
    "                                                                 chain_id=mutation_chain_id, # Denote the chain id allowed to mutate (it's always a string variable)\n",
    "                                                                 max_point_mutants=1,\n",
    "                                                                 residues_allowed_to_mutate=[mutation_residue_id], # The residue ids allowed to mutate\n",
    "                                                                 allowed_mutations=[(mutation_residue_id, proposed_residue)], # The residue ids allowed to mutate with the three-letter code allowed to change\n",
    "                                                                 aggregate=True) # Always allow aggregation\n",
    "\n",
    "            topology_proposal = point_mutation_engine.propose(sys, top)\n",
    "\n",
    "            # Only validate energy bookkeeping if the WT and proposed residues do not involve rings\n",
    "            old_res = [res for res in top.residues() if res.id == mutation_residue_id][0]\n",
    "            validate_bool = False if old_res.name in ring_amino_acids or proposed_residue in ring_amino_acids else True\n",
    "            new_positions, logp_proposal = geometry_engine.propose(topology_proposal, pos, beta,\n",
    "                                                                   validate_energy_bookkeeping=validate_bool)\n",
    "            logp_reverse = geometry_engine.logp_reverse(topology_proposal, new_positions, pos, beta,\n",
    "                                                        validate_energy_bookkeeping=validate_bool)\n",
    "\n",
    "            if rxn_field:\n",
    "                factory = RxnHybridTopologyFactory\n",
    "            else:\n",
    "                if repartitioned_endstate is None:\n",
    "                    factory = HybridTopologyFactory\n",
    "                elif repartitioned_endstate in [0, 1]:\n",
    "                    factory = RepartitionedHybridTopologyFactory\n",
    "\n",
    "            forward_htf = factory(topology_proposal=topology_proposal,\n",
    "                                  current_positions=pos,\n",
    "                                  new_positions=new_positions,\n",
    "                                  use_dispersion_correction=False,\n",
    "                                  functions=None,\n",
    "                                  softcore_alpha=None,\n",
    "                                  bond_softening_constant=1.0,\n",
    "                                  angle_softening_constant=1.0,\n",
    "                                  soften_only_new=False,\n",
    "                                  neglected_new_angle_terms=[],\n",
    "                                  neglected_old_angle_terms=[],\n",
    "                                  softcore_LJ_v2=True,\n",
    "                                  softcore_electrostatics=True,\n",
    "                                  softcore_LJ_v2_alpha=0.85,\n",
    "                                  softcore_electrostatics_alpha=0.3,\n",
    "                                  softcore_sigma_Q=1.0,\n",
    "                                  interpolate_old_and_new_14s=flatten_exceptions,\n",
    "                                  omitted_terms=None,\n",
    "                                  endstate=repartitioned_endstate,\n",
    "                                  flatten_torsions=flatten_torsions)\n",
    "\n",
    "            if not topology_proposal.unique_new_atoms:\n",
    "                assert geometry_engine.forward_final_context_reduced_potential == None, f\"There are no unique new atoms but the geometry_engine's final context reduced potential is not None (i.e. {self._geometry_engine.forward_final_context_reduced_potential})\"\n",
    "                assert geometry_engine.forward_atoms_with_positions_reduced_potential == None, f\"There are no unique new atoms but the geometry_engine's forward atoms-with-positions-reduced-potential in not None (i.e. { self._geometry_engine.forward_atoms_with_positions_reduced_potential})\"\n",
    "            else:\n",
    "                added_valence_energy = geometry_engine.forward_final_context_reduced_potential - geometry_engine.forward_atoms_with_positions_reduced_potential\n",
    "\n",
    "            if not topology_proposal.unique_old_atoms:\n",
    "                assert geometry_engine.reverse_final_context_reduced_potential == None, f\"There are no unique old atoms but the geometry_engine's final context reduced potential is not None (i.e. {self._geometry_engine.reverse_final_context_reduced_potential})\"\n",
    "                assert geometry_engine.reverse_atoms_with_positions_reduced_potential == None, f\"There are no unique old atoms but the geometry_engine's atoms-with-positions-reduced-potential in not None (i.e. { self._geometry_engine.reverse_atoms_with_positions_reduced_potential})\"\n",
    "                subtracted_valence_energy = 0.0\n",
    "            else:\n",
    "                subtracted_valence_energy = geometry_engine.reverse_final_context_reduced_potential - geometry_engine.reverse_atoms_with_positions_reduced_potential\n",
    "\n",
    "\n",
    "            if conduct_endstate_validation and repartitioned_endstate is None:\n",
    "                zero_state_error, one_state_error = validate_endstate_energies(forward_htf._topology_proposal, forward_htf, added_valence_energy, subtracted_valence_energy, beta=beta, ENERGY_THRESHOLD=ENERGY_THRESHOLD)\n",
    "                if zero_state_error > ENERGY_THRESHOLD:\n",
    "                    _logger.warning(f\"Reduced potential difference of the nonalchemical and alchemical Lambda = 0 state is above the threshold ({ENERGY_THRESHOLD}): {zero_state_error}\")\n",
    "                if one_state_error > ENERGY_THRESHOLD:\n",
    "                    _logger.warning(f\"Reduced potential difference of the nonalchemical and alchemical Lambda = 1 state is above the threshold ({ENERGY_THRESHOLD}): {one_state_error}\")\n",
    "            else:\n",
    "                pass\n",
    "\n",
    "            htfs.append(forward_htf)\n",
    "\n",
    "        self.apo_htf = htfs[0]\n",
    "        self.complex_htf = htfs[1] if ligand_input else None"
   ]
  },
  {
   "cell_type": "code",
   "execution_count": 51,
   "id": "00de7f72",
   "metadata": {
    "scrolled": true
   },
   "outputs": [
    {
     "name": "stderr",
     "output_type": "stream",
     "text": [
      "2021-07-14 16:31:30,566:(69.23s):setup:solvating at 0.05 M using tip3p\n",
      "2021-07-14 16:31:36,622:(6.06s):setup:solvating at 0.05 M using tip3p\n",
      "2021-07-14 16:31:48,288:(11.67s):proposal_generator:\tConducting polymer point mutation proposal...\n",
      "2021-07-14 16:31:51,919:(3.63s):proposal_generator:Using matching_criterion to chose best atom map\n",
      "2021-07-14 16:31:51,925:(0.01s):proposal_generator:Scaffold has symmetry of 0\n",
      "2021-07-14 16:31:51,928:(0.00s):proposal_generator:Two molecules are not similar to have a common scaffold\n",
      "2021-07-14 16:31:51,931:(0.00s):proposal_generator:Proceeding with direct mapping of molecules, but please check atom mapping and the geometry of the ligands.\n",
      "2021-07-14 16:31:51,935:(0.00s):proposal_generator:len [{7: 9}, {8: 9}, {9: 9}, {7: 10}, {8: 10}, {9: 10}, {7: 11}, {8: 11}, {9: 11}, {7: 12}, {8: 12}, {9: 12}, {7: 13}, {8: 13}, {9: 13}]\n",
      "2021-07-14 16:31:51,937:(0.00s):proposal_generator:{7: 9}\n",
      "2021-07-14 16:31:51,940:(0.00s):proposal_generator:{8: 9}\n",
      "2021-07-14 16:31:51,942:(0.00s):proposal_generator:{9: 9}\n",
      "2021-07-14 16:31:51,944:(0.00s):proposal_generator:{7: 10}\n",
      "2021-07-14 16:31:51,947:(0.00s):proposal_generator:{8: 10}\n",
      "2021-07-14 16:31:51,949:(0.00s):proposal_generator:{9: 10}\n",
      "2021-07-14 16:31:51,951:(0.00s):proposal_generator:{7: 11}\n",
      "2021-07-14 16:31:51,954:(0.00s):proposal_generator:{8: 11}\n",
      "2021-07-14 16:31:51,956:(0.00s):proposal_generator:{9: 11}\n",
      "2021-07-14 16:31:51,957:(0.00s):proposal_generator:{7: 12}\n",
      "2021-07-14 16:31:51,958:(0.00s):proposal_generator:{8: 12}\n",
      "2021-07-14 16:31:51,959:(0.00s):proposal_generator:{9: 12}\n",
      "2021-07-14 16:31:51,966:(0.01s):proposal_generator:{7: 13}\n",
      "2021-07-14 16:31:51,967:(0.00s):proposal_generator:{8: 13}\n",
      "2021-07-14 16:31:51,968:(0.00s):proposal_generator:{9: 13}\n",
      "2021-07-14 16:31:51,969:(0.00s):proposal_generator:Returning map that best satisfies matching_criterion\n",
      "2021-07-14 16:31:51,970:(0.00s):proposal_generator:Finding best map using matching_criterion name\n",
      "2021-07-14 16:31:51,972:(0.00s):proposal_generator:{7: 9}\n",
      "2021-07-14 16:32:01,695:(9.72s):geometry:propose: performing forward proposal\n",
      "2021-07-14 16:32:01,698:(0.00s):geometry:propose: unique new atoms detected; proceeding to _logp_propose...\n",
      "2021-07-14 16:32:01,700:(0.00s):geometry:Conducting forward proposal...\n",
      "2021-07-14 16:32:01,703:(0.00s):geometry:Computing proposal order with NetworkX...\n",
      "2021-07-14 16:32:01,728:(0.02s):geometry:number of atoms to be placed: 4\n",
      "2021-07-14 16:32:01,730:(0.00s):geometry:Atom index proposal order is [673, 678, 676, 677]\n",
      "2021-07-14 16:32:01,733:(0.00s):geometry:omitted_bonds: []\n",
      "2021-07-14 16:32:01,735:(0.00s):geometry:direction of proposal is forward; creating atoms_with_positions and new positions from old system/topology...\n",
      "2021-07-14 16:32:04,640:(2.91s):geometry:creating growth system...\n",
      "2021-07-14 16:32:05,321:(0.68s):geometry:\tcreating bond force...\n",
      "2021-07-14 16:32:05,324:(0.00s):geometry:\tthere are 733 bonds in reference force.\n",
      "2021-07-14 16:32:05,338:(0.01s):geometry:\tcreating angle force...\n",
      "2021-07-14 16:32:05,341:(0.00s):geometry:\tthere are 2628 angles in reference force.\n",
      "2021-07-14 16:32:05,380:(0.04s):geometry:\tcreating torsion force...\n",
      "2021-07-14 16:32:05,383:(0.00s):geometry:\tcreating extra torsions force...\n",
      "2021-07-14 16:32:05,385:(0.00s):geometry:\tthere are 4939 torsions in reference force.\n",
      "2021-07-14 16:32:05,426:(0.04s):geometry:\tcreating nonbonded force...\n",
      "2021-07-14 16:32:05,429:(0.00s):geometry:\t\tgrabbing reference nonbonded method, cutoff, switching function, switching distance...\n",
      "2021-07-14 16:32:05,432:(0.00s):geometry:\t\tcreating nonbonded exception force (i.e. custom bond for 1,4s)...\n",
      "2021-07-14 16:32:05,434:(0.00s):geometry:\t\tlooping through exceptions calculating growth indices, and adding appropriate interactions to custom bond force.\n",
      "2021-07-14 16:32:05,437:(0.00s):geometry:\t\tthere are 21290 in the reference Nonbonded force\n",
      "2021-07-14 16:32:06,170:(0.73s):geometry:\t\t\t\t\tchiral atom <Atom 670 (CA) of chain 0 residue 42 (ALA)> with neighbors [<Atom 671 (C) of chain 0 residue 42 (ALA)>, <Atom 673 (CB) of chain 0 residue 42 (ALA)>, <Atom 675 (HA) of chain 0 residue 42 (ALA)>, <Atom 669 (N) of chain 0 residue 42 (ALA)>] is surrounded by 3 core neighbors.  omitting chirality bias torsion\n",
      "2021-07-14 16:32:06,174:(0.00s):geometry:Neglected angle terms : []\n",
      "2021-07-14 16:32:06,176:(0.00s):geometry:omitted_growth_terms: {'bonds': [], 'angles': [], 'torsions': [], '1,4s': []}\n",
      "2021-07-14 16:32:06,178:(0.00s):geometry:extra torsions: {0: (674, 669, 670, 673, [1, Quantity(value=0.9799661941737812, unit=radian), Quantity(value=1200.0, unit=kilocalorie/mole), 1]), 1: (669, 670, 673, 676, [1, Quantity(value=2.105358864604291, unit=radian), Quantity(value=1200.0, unit=kilocalorie/mole), 3]), 2: (669, 670, 673, 677, [1, Quantity(value=-2.0823006129211796, unit=radian), Quantity(value=1200.0, unit=kilocalorie/mole), 4]), 3: (669, 670, 673, 678, [1, Quantity(value=0.018582237407944735, unit=radian), Quantity(value=1200.0, unit=kilocalorie/mole), 2]), 4: (671, 670, 673, 676, [1, Quantity(value=-0.036945135932107576, unit=radian), Quantity(value=1200.0, unit=kilocalorie/mole), 3]), 5: (671, 670, 673, 677, [1, Quantity(value=2.0585806937220097, unit=radian), Quantity(value=1200.0, unit=kilocalorie/mole), 4]), 6: (671, 670, 673, 678, [1, Quantity(value=-2.1237217631284597, unit=radian), Quantity(value=1200.0, unit=kilocalorie/mole), 2]), 7: (675, 670, 673, 676, [1, Quantity(value=-2.119603470065817, unit=radian), Quantity(value=1200.0, unit=kilocalorie/mole), 3]), 8: (675, 670, 673, 677, [1, Quantity(value=-0.024077640411697132, unit=radian), Quantity(value=1200.0, unit=kilocalorie/mole), 4]), 9: (675, 670, 673, 678, [1, Quantity(value=2.0768052099174152, unit=radian), Quantity(value=1200.0, unit=kilocalorie/mole), 2])}\n",
      "2021-07-14 16:32:06,181:(0.00s):geometry:neglected angle terms include []\n",
      "2021-07-14 16:32:06,183:(0.00s):geometry:log probability choice of torsions and atom order: -5.78074351579233\n",
      "2021-07-14 16:32:06,186:(0.00s):geometry:creating platform, integrators, and contexts; setting growth parameter\n"
     ]
    },
    {
     "name": "stdout",
     "output_type": "stream",
     "text": [
      "conducting subsequent work with the following platform: CUDA\n"
     ]
    },
    {
     "name": "stderr",
     "output_type": "stream",
     "text": [
      "2021-07-14 16:32:09,122:(2.94s):geometry:setting atoms_with_positions context new positions\n"
     ]
    },
    {
     "name": "stdout",
     "output_type": "stream",
     "text": [
      "conducting subsequent work with the following platform: CUDA\n"
     ]
    },
    {
     "name": "stderr",
     "output_type": "stream",
     "text": [
      "2021-07-14 16:32:10,457:(1.33s):geometry:There are 4 new atoms\n",
      "2021-07-14 16:32:10,465:(0.01s):geometry:\treduced angle potential = 0.18086335368450154.\n",
      "2021-07-14 16:32:10,746:(0.28s):geometry:\treduced angle potential = 0.039149204817402854.\n",
      "2021-07-14 16:32:11,024:(0.28s):geometry:\treduced angle potential = 0.8663377102209178.\n",
      "2021-07-14 16:32:11,301:(0.28s):geometry:\treduced angle potential = 0.08942060250388176.\n",
      "2021-07-14 16:32:12,021:(0.72s):geometry:\tbeginning construction of no_nonbonded final system...\n",
      "2021-07-14 16:32:12,025:(0.00s):geometry:\tinitial no-nonbonded final system forces ['HarmonicBondForce', 'HarmonicAngleForce', 'PeriodicTorsionForce', 'NonbondedForce', 'MonteCarloBarostat']\n",
      "2021-07-14 16:32:13,771:(1.75s):geometry:\tfinal no-nonbonded final system forces dict_keys(['HarmonicBondForce', 'HarmonicAngleForce', 'PeriodicTorsionForce', 'NonbondedForce'])\n",
      "2021-07-14 16:32:13,774:(0.00s):geometry:\tthere are 733 bond forces in the no-nonbonded final system\n",
      "2021-07-14 16:32:13,777:(0.00s):geometry:\tthere are 2628 angle forces in the no-nonbonded final system\n",
      "2021-07-14 16:32:13,779:(0.00s):geometry:\tthere are 4939 torsion forces in the no-nonbonded final system\n",
      "2021-07-14 16:32:13,781:(0.00s):geometry:forward final system defined with 0 neglected angles.\n"
     ]
    },
    {
     "name": "stdout",
     "output_type": "stream",
     "text": [
      "conducting subsequent work with the following platform: CUDA\n",
      "conducting subsequent work with the following platform: CUDA\n"
     ]
    },
    {
     "name": "stderr",
     "output_type": "stream",
     "text": [
      "2021-07-14 16:32:18,664:(4.88s):geometry:total reduced potential before atom placement: 2279.236671135735\n"
     ]
    },
    {
     "name": "stdout",
     "output_type": "stream",
     "text": [
      "conducting subsequent work with the following platform: CUDA\n",
      "conducting subsequent work with the following platform: CUDA\n",
      "conducting subsequent work with the following platform: CUDA\n"
     ]
    },
    {
     "name": "stderr",
     "output_type": "stream",
     "text": [
      "2021-07-14 16:32:21,226:(2.56s):geometry:total reduced energy added from growth system: 570.7675338750466\n",
      "2021-07-14 16:32:21,229:(0.00s):geometry:final reduced energy 2850.004204166705\n",
      "2021-07-14 16:32:21,232:(0.00s):geometry:sum of energies: 2850.0042050107813\n",
      "2021-07-14 16:32:21,234:(0.00s):geometry:magnitude of difference in the energies: 8.440763394901296e-07\n",
      "2021-07-14 16:32:21,237:(0.00s):geometry:Final logp_proposal: 32.531182225869884\n"
     ]
    },
    {
     "name": "stdout",
     "output_type": "stream",
     "text": [
      "added energy components: [('CustomBondForce', 0.11314332662401665), ('CustomAngleForce', 189.57349568359012), ('CustomTorsionForce', 10.97919896823312), ('CustomBondForce', 370.1016958965994)]\n"
     ]
    },
    {
     "name": "stderr",
     "output_type": "stream",
     "text": [
      "2021-07-14 16:32:21,401:(0.16s):geometry:logp_reverse: performing reverse proposal\n",
      "2021-07-14 16:32:21,404:(0.00s):geometry:logp_reverse: unique new atoms detected; proceeding to _logp_propose...\n",
      "2021-07-14 16:32:21,406:(0.00s):geometry:Conducting forward proposal...\n",
      "2021-07-14 16:32:21,409:(0.00s):geometry:Computing proposal order with NetworkX...\n",
      "2021-07-14 16:32:21,446:(0.04s):geometry:number of atoms to be placed: 8\n",
      "2021-07-14 16:32:21,449:(0.00s):geometry:Atom index proposal order is [673, 675, 674, 678, 681, 680, 679, 682]\n",
      "2021-07-14 16:32:21,452:(0.00s):geometry:omitted_bonds: []\n",
      "2021-07-14 16:32:21,454:(0.00s):geometry:direction of proposal is reverse; creating atoms_with_positions from old system/topology\n",
      "2021-07-14 16:32:24,116:(2.66s):geometry:creating growth system...\n",
      "2021-07-14 16:32:24,815:(0.70s):geometry:\tcreating bond force...\n",
      "2021-07-14 16:32:24,818:(0.00s):geometry:\tthere are 735 bonds in reference force.\n",
      "2021-07-14 16:32:24,834:(0.02s):geometry:\tcreating angle force...\n",
      "2021-07-14 16:32:24,837:(0.00s):geometry:\tthere are 2635 angles in reference force.\n",
      "2021-07-14 16:32:24,878:(0.04s):geometry:\tcreating torsion force...\n",
      "2021-07-14 16:32:24,881:(0.00s):geometry:\tcreating extra torsions force...\n",
      "2021-07-14 16:32:24,884:(0.00s):geometry:\tthere are 4969 torsions in reference force.\n",
      "2021-07-14 16:32:24,933:(0.05s):geometry:\tcreating nonbonded force...\n",
      "2021-07-14 16:32:24,936:(0.00s):geometry:\t\tgrabbing reference nonbonded method, cutoff, switching function, switching distance...\n",
      "2021-07-14 16:32:24,939:(0.00s):geometry:\t\tcreating nonbonded exception force (i.e. custom bond for 1,4s)...\n",
      "2021-07-14 16:32:24,941:(0.00s):geometry:\t\tlooping through exceptions calculating growth indices, and adding appropriate interactions to custom bond force.\n",
      "2021-07-14 16:32:24,944:(0.00s):geometry:\t\tthere are 21313 in the reference Nonbonded force\n",
      "2021-07-14 16:32:25,697:(0.75s):geometry:\t\t\t\t\tchiral atom <Atom 670 (CA) of chain 0 residue 42 (THR)> with neighbors [<Atom 671 (C) of chain 0 residue 42 (THR)>, <Atom 673 (CB) of chain 0 residue 42 (THR)>, <Atom 677 (HA) of chain 0 residue 42 (THR)>, <Atom 669 (N) of chain 0 residue 42 (THR)>] is surrounded by 3 core neighbors.  omitting chirality bias torsion\n",
      "2021-07-14 16:32:25,700:(0.00s):geometry:Neglected angle terms : []\n",
      "2021-07-14 16:32:25,703:(0.00s):geometry:omitted_growth_terms: {'bonds': [], 'angles': [], 'torsions': [], '1,4s': []}\n",
      "2021-07-14 16:32:25,705:(0.00s):geometry:extra torsions: {0: (676, 669, 670, 673, [1, Quantity(value=0.9900002084555819, unit=radian), Quantity(value=1200.0, unit=kilocalorie/mole), 1]), 1: (679, 674, 673, 670, [1, Quantity(value=-0.07858019216845058, unit=radian), Quantity(value=1200.0, unit=kilocalorie/mole), 7]), 2: (679, 674, 673, 675, [1, Quantity(value=2.118586571250296, unit=radian), Quantity(value=1200.0, unit=kilocalorie/mole), 7]), 3: (679, 674, 673, 678, [1, Quantity(value=-2.149781203448759, unit=radian), Quantity(value=1200.0, unit=kilocalorie/mole), 7]), 4: (670, 673, 675, 682, [1, Quantity(value=-2.1249532223845904, unit=radian), Quantity(value=1200.0, unit=kilocalorie/mole), 8]), 5: (670, 673, 675, 681, [1, Quantity(value=2.0543043017157916, unit=radian), Quantity(value=1200.0, unit=kilocalorie/mole), 5]), 6: (670, 673, 675, 680, [1, Quantity(value=-0.02223392579985184, unit=radian), Quantity(value=1200.0, unit=kilocalorie/mole), 6]), 7: (674, 673, 675, 682, [1, Quantity(value=2.0255587336734213, unit=radian), Quantity(value=1200.0, unit=kilocalorie/mole), 8]), 8: (674, 673, 675, 681, [1, Quantity(value=-0.07836904940578293, unit=radian), Quantity(value=1200.0, unit=kilocalorie/mole), 5]), 9: (674, 673, 675, 680, [1, Quantity(value=-2.154907276921426, unit=radian), Quantity(value=1200.0, unit=kilocalorie/mole), 6]), 10: (678, 673, 675, 682, [1, Quantity(value=0.007583009583349565, unit=radian), Quantity(value=1200.0, unit=kilocalorie/mole), 8]), 11: (678, 673, 675, 681, [1, Quantity(value=-2.096344773495849, unit=radian), Quantity(value=1200.0, unit=kilocalorie/mole), 5]), 12: (678, 673, 675, 680, [1, Quantity(value=2.1103023061680943, unit=radian), Quantity(value=1200.0, unit=kilocalorie/mole), 6]), 13: (675, 673, 670, 674, [1, Quantity(value=1.0655064807976995, unit=radian), Quantity(value=1200.0, unit=kilocalorie/mole), 3])}\n",
      "2021-07-14 16:32:25,708:(0.00s):geometry:neglected angle terms include []\n",
      "2021-07-14 16:32:25,710:(0.00s):geometry:log probability choice of torsions and atom order: -13.553917196274867\n",
      "2021-07-14 16:32:25,713:(0.00s):geometry:creating platform, integrators, and contexts; setting growth parameter\n"
     ]
    },
    {
     "name": "stdout",
     "output_type": "stream",
     "text": [
      "conducting subsequent work with the following platform: CUDA\n"
     ]
    },
    {
     "name": "stderr",
     "output_type": "stream",
     "text": [
      "2021-07-14 16:32:28,286:(2.57s):geometry:setting atoms_with_positions context old positions\n"
     ]
    },
    {
     "name": "stdout",
     "output_type": "stream",
     "text": [
      "conducting subsequent work with the following platform: CUDA\n"
     ]
    },
    {
     "name": "stderr",
     "output_type": "stream",
     "text": [
      "2021-07-14 16:32:29,542:(1.26s):geometry:There are 8 new atoms\n",
      "2021-07-14 16:32:29,548:(0.01s):geometry:\treduced angle potential = 0.1817144363741264.\n",
      "2021-07-14 16:32:29,785:(0.24s):geometry:\treduced angle potential = 0.2257125237447829.\n",
      "2021-07-14 16:32:30,026:(0.24s):geometry:\treduced angle potential = 0.1536280916466212.\n",
      "2021-07-14 16:32:30,266:(0.24s):geometry:\treduced angle potential = 0.00589659951395519.\n",
      "2021-07-14 16:32:30,506:(0.24s):geometry:\treduced angle potential = 0.05657264681042365.\n",
      "2021-07-14 16:32:30,746:(0.24s):geometry:\treduced angle potential = 0.023352265895513123.\n",
      "2021-07-14 16:32:30,986:(0.24s):geometry:\treduced angle potential = 0.0066955214510641915.\n",
      "2021-07-14 16:32:31,227:(0.24s):geometry:\treduced angle potential = 0.25876654048332753.\n",
      "2021-07-14 16:32:31,939:(0.71s):geometry:\tbeginning construction of no_nonbonded final system...\n",
      "2021-07-14 16:32:31,942:(0.00s):geometry:\tinitial no-nonbonded final system forces ['HarmonicBondForce', 'HarmonicAngleForce', 'PeriodicTorsionForce', 'NonbondedForce', 'MonteCarloBarostat']\n",
      "2021-07-14 16:32:33,698:(1.76s):geometry:\tfinal no-nonbonded final system forces dict_keys(['HarmonicBondForce', 'HarmonicAngleForce', 'PeriodicTorsionForce', 'NonbondedForce'])\n",
      "2021-07-14 16:32:33,701:(0.00s):geometry:\tthere are 735 bond forces in the no-nonbonded final system\n",
      "2021-07-14 16:32:33,704:(0.00s):geometry:\tthere are 2635 angle forces in the no-nonbonded final system\n",
      "2021-07-14 16:32:33,707:(0.00s):geometry:\tthere are 4969 torsion forces in the no-nonbonded final system\n",
      "2021-07-14 16:32:33,709:(0.00s):geometry:reverse final system defined with 0 neglected angles.\n"
     ]
    },
    {
     "name": "stdout",
     "output_type": "stream",
     "text": [
      "conducting subsequent work with the following platform: CUDA\n",
      "conducting subsequent work with the following platform: CUDA\n"
     ]
    },
    {
     "name": "stderr",
     "output_type": "stream",
     "text": [
      "2021-07-14 16:32:38,678:(4.97s):geometry:total reduced potential before atom placement: 2279.2366360388532\n"
     ]
    },
    {
     "name": "stdout",
     "output_type": "stream",
     "text": [
      "conducting subsequent work with the following platform: CUDA\n",
      "conducting subsequent work with the following platform: CUDA\n",
      "conducting subsequent work with the following platform: CUDA\n"
     ]
    },
    {
     "name": "stderr",
     "output_type": "stream",
     "text": [
      "2021-07-14 16:32:42,090:(3.41s):geometry:total reduced energy added from growth system: -62.3900963283472\n",
      "2021-07-14 16:32:42,093:(0.00s):geometry:final reduced energy 2216.846539716323\n",
      "2021-07-14 16:32:42,096:(0.00s):geometry:sum of energies: 2216.846539710506\n",
      "2021-07-14 16:32:42,098:(0.00s):geometry:magnitude of difference in the energies: 5.817099690830219e-09\n",
      "2021-07-14 16:32:42,101:(0.00s):geometry:Final logp_proposal: -10210.745467169747\n"
     ]
    },
    {
     "name": "stdout",
     "output_type": "stream",
     "text": [
      "added energy components: [('CustomBondForce', 0.4083956553523612), ('CustomAngleForce', 1.622079514297996), ('CustomTorsionForce', 17.503137529087592), ('CustomBondForce', -81.92370902708515)]\n"
     ]
    },
    {
     "name": "stderr",
     "output_type": "stream",
     "text": [
      "2021-07-14 16:32:42,279:(0.18s):relative:*** Generating RxnHybridTopologyFactory ***\n",
      "2021-07-14 16:32:42,282:(0.00s):relative:Beginning nonbonded method, total particle, barostat, and exceptions retrieval...\n",
      "2021-07-14 16:32:43,238:(0.96s):relative:Old system forces: dict_keys(['HarmonicBondForce', 'HarmonicAngleForce', 'PeriodicTorsionForce', 'NonbondedForce', 'MonteCarloBarostat'])\n",
      "2021-07-14 16:32:43,241:(0.00s):relative:New system forces: dict_keys(['HarmonicBondForce', 'HarmonicAngleForce', 'PeriodicTorsionForce', 'NonbondedForce', 'MonteCarloBarostat'])\n",
      "2021-07-14 16:32:43,244:(0.00s):relative:No unknown forces.\n",
      "2021-07-14 16:32:43,246:(0.00s):relative:Nonbonded method to be used (i.e. from old system): 4\n",
      "2021-07-14 16:32:43,249:(0.00s):relative:Adding and mapping old atoms to hybrid system...\n",
      "2021-07-14 16:32:43,488:(0.24s):relative:Adding and mapping new atoms to hybrid system...\n",
      "2021-07-14 16:32:43,492:(0.00s):relative:scale_templates: [['nonscale_lambda'], ['nonscale_region']]\n",
      "2021-07-14 16:32:43,494:(0.00s):relative:particle (nonbonded) scale_templates: [['nonscale_lambda'], ['nonscale_region1'], ['nonscale_region2']]\n",
      "2021-07-14 16:32:43,497:(0.00s):relative:Added MonteCarloBarostat.\n",
      "2021-07-14 16:32:43,499:(0.00s):relative:getDefaultPeriodicBoxVectors added to hybrid: [Quantity(value=Vec3(x=5.423900000000001, y=0.0, z=0.0), unit=nanometer), Quantity(value=Vec3(x=0.0, y=5.423900000000001, z=0.0), unit=nanometer), Quantity(value=Vec3(x=0.0, y=0.0, z=5.423900000000001), unit=nanometer)]\n",
      "2021-07-14 16:32:43,513:(0.01s):relative:Determined atom classes.\n",
      "2021-07-14 16:32:43,516:(0.00s):relative:Generating old system exceptions dict...\n",
      "2021-07-14 16:32:44,266:(0.75s):relative:Generating new system exceptions dict...\n",
      "2021-07-14 16:32:44,556:(0.29s):relative:Handling constraints...\n",
      "2021-07-14 16:32:45,085:(0.53s):relative:Handling virtual sites...\n",
      "2021-07-14 16:32:45,105:(0.02s):relative:\t_handle_virtual_sites: numVirtualSites: 0\n",
      "2021-07-14 16:32:46,325:(1.22s):relative:hybrid_index_pair (700, 703, 702, 712) was not found in the new_term_collector, but (703, 700, 702, 712) has the same atoms and terms, so (703, 700, 702, 712) will be removed from the new term collector\n",
      "2021-07-14 16:32:46,331:(0.01s):relative:hybrid_index_pair (701, 702, 703, 713) was not found in the new_term_collector, but (702, 701, 703, 713) has the same atoms and terms, so (702, 701, 703, 713) will be removed from the new term collector\n",
      "2021-07-14 16:32:46,338:(0.01s):relative:hybrid_index_pair (750, 754, 752, 762) was not found in the new_term_collector, but (754, 750, 752, 762) has the same atoms and terms, so (754, 750, 752, 762) will be removed from the new term collector\n",
      "2021-07-14 16:32:46,346:(0.01s):relative:hybrid_index_pair (862, 859, 861, 871) was not found in the new_term_collector, but (859, 862, 861, 871) has the same atoms and terms, so (859, 862, 861, 871) will be removed from the new term collector\n",
      "2021-07-14 16:32:46,352:(0.01s):relative:hybrid_index_pair (860, 861, 862, 872) was not found in the new_term_collector, but (861, 860, 862, 872) has the same atoms and terms, so (861, 860, 862, 872) will be removed from the new term collector\n",
      "2021-07-14 16:32:46,359:(0.01s):relative:hybrid_index_pair (903, 913, 905, 912) was not found in the new_term_collector, but (903, 912, 905, 913) has the same atoms and terms, so (903, 912, 905, 913) will be removed from the new term collector\n",
      "2021-07-14 16:32:46,365:(0.01s):relative:hybrid_index_pair (924, 920, 922, 931) was not found in the new_term_collector, but (920, 924, 922, 931) has the same atoms and terms, so (920, 924, 922, 931) will be removed from the new term collector\n",
      "2021-07-14 16:32:46,371:(0.01s):relative:hybrid_index_pair (924, 921, 923, 932) was not found in the new_term_collector, but (921, 924, 923, 932) has the same atoms and terms, so (921, 924, 923, 932) will be removed from the new term collector\n",
      "2021-07-14 16:32:46,377:(0.01s):relative:hybrid_index_pair (923, 922, 924, 933) was not found in the new_term_collector, but (922, 923, 924, 933) has the same atoms and terms, so (922, 923, 924, 933) will be removed from the new term collector\n",
      "2021-07-14 16:32:46,383:(0.01s):relative:hybrid_index_pair (955, 964, 957, 965) was not found in the new_term_collector, but (955, 965, 957, 964) has the same atoms and terms, so (955, 965, 957, 964) will be removed from the new term collector\n",
      "2021-07-14 16:32:46,391:(0.01s):relative:hybrid_index_pair (1069, 1075, 1071, 1074) was not found in the new_term_collector, but (1069, 1074, 1071, 1075) has the same atoms and terms, so (1069, 1074, 1071, 1075) will be removed from the new term collector\n",
      "2021-07-14 16:32:46,400:(0.01s):relative:hybrid_index_pair (1196, 1199, 1198, 1207) was not found in the new_term_collector, but (1199, 1196, 1198, 1207) has the same atoms and terms, so (1199, 1196, 1198, 1207) will be removed from the new term collector\n",
      "2021-07-14 16:32:46,406:(0.01s):relative:hybrid_index_pair (1197, 1198, 1199, 1208) was not found in the new_term_collector, but (1198, 1197, 1199, 1208) has the same atoms and terms, so (1198, 1197, 1199, 1208) will be removed from the new term collector\n",
      "2021-07-14 16:33:11,416:(25.01s):proposal_generator:\tConducting polymer point mutation proposal...\n",
      "2021-07-14 16:33:22,631:(11.21s):proposal_generator:Using matching_criterion to chose best atom map\n",
      "2021-07-14 16:33:22,638:(0.01s):proposal_generator:Scaffold has symmetry of 0\n",
      "2021-07-14 16:33:22,640:(0.00s):proposal_generator:Two molecules are not similar to have a common scaffold\n",
      "2021-07-14 16:33:22,643:(0.00s):proposal_generator:Proceeding with direct mapping of molecules, but please check atom mapping and the geometry of the ligands.\n",
      "2021-07-14 16:33:22,647:(0.00s):proposal_generator:len [{7: 9}, {8: 9}, {9: 9}, {7: 10}, {8: 10}, {9: 10}, {7: 11}, {8: 11}, {9: 11}, {7: 12}, {8: 12}, {9: 12}, {7: 13}, {8: 13}, {9: 13}]\n",
      "2021-07-14 16:33:22,650:(0.00s):proposal_generator:{7: 9}\n",
      "2021-07-14 16:33:22,652:(0.00s):proposal_generator:{8: 9}\n",
      "2021-07-14 16:33:22,655:(0.00s):proposal_generator:{9: 9}\n",
      "2021-07-14 16:33:22,657:(0.00s):proposal_generator:{7: 10}\n",
      "2021-07-14 16:33:22,660:(0.00s):proposal_generator:{8: 10}\n",
      "2021-07-14 16:33:22,662:(0.00s):proposal_generator:{9: 10}\n",
      "2021-07-14 16:33:22,664:(0.00s):proposal_generator:{7: 11}\n",
      "2021-07-14 16:33:22,667:(0.00s):proposal_generator:{8: 11}\n",
      "2021-07-14 16:33:22,669:(0.00s):proposal_generator:{9: 11}\n",
      "2021-07-14 16:33:22,670:(0.00s):proposal_generator:{7: 12}\n",
      "2021-07-14 16:33:22,671:(0.00s):proposal_generator:{8: 12}\n",
      "2021-07-14 16:33:22,672:(0.00s):proposal_generator:{9: 12}\n",
      "2021-07-14 16:33:22,675:(0.00s):proposal_generator:{7: 13}\n",
      "2021-07-14 16:33:22,676:(0.00s):proposal_generator:{8: 13}\n",
      "2021-07-14 16:33:22,677:(0.00s):proposal_generator:{9: 13}\n",
      "2021-07-14 16:33:22,678:(0.00s):proposal_generator:Returning map that best satisfies matching_criterion\n",
      "2021-07-14 16:33:22,679:(0.00s):proposal_generator:Finding best map using matching_criterion name\n",
      "2021-07-14 16:33:22,681:(0.00s):proposal_generator:{7: 9}\n",
      "2021-07-14 16:34:00,875:(38.19s):geometry:propose: performing forward proposal\n",
      "2021-07-14 16:34:00,880:(0.01s):geometry:propose: unique new atoms detected; proceeding to _logp_propose...\n",
      "2021-07-14 16:34:00,885:(0.00s):geometry:Conducting forward proposal...\n",
      "2021-07-14 16:34:00,887:(0.00s):geometry:Computing proposal order with NetworkX...\n",
      "2021-07-14 16:34:00,955:(0.07s):geometry:number of atoms to be placed: 4\n",
      "2021-07-14 16:34:00,958:(0.00s):geometry:Atom index proposal order is [673, 676, 677, 678]\n",
      "2021-07-14 16:34:00,961:(0.00s):geometry:omitted_bonds: []\n",
      "2021-07-14 16:34:00,963:(0.00s):geometry:direction of proposal is forward; creating atoms_with_positions and new positions from old system/topology...\n",
      "2021-07-14 16:34:09,824:(8.86s):geometry:creating growth system...\n",
      "2021-07-14 16:34:11,289:(1.46s):geometry:\tcreating bond force...\n",
      "2021-07-14 16:34:11,292:(0.00s):geometry:\tthere are 1622 bonds in reference force.\n",
      "2021-07-14 16:34:11,338:(0.05s):geometry:\tcreating angle force...\n",
      "2021-07-14 16:34:11,341:(0.00s):geometry:\tthere are 5730 angles in reference force.\n",
      "2021-07-14 16:34:11,424:(0.08s):geometry:\tcreating torsion force...\n"
     ]
    },
    {
     "name": "stderr",
     "output_type": "stream",
     "text": [
      "2021-07-14 16:34:11,427:(0.00s):geometry:\tcreating extra torsions force...\n",
      "2021-07-14 16:34:11,430:(0.00s):geometry:\tthere are 10792 torsions in reference force.\n",
      "2021-07-14 16:34:11,518:(0.09s):geometry:\tcreating nonbonded force...\n",
      "2021-07-14 16:34:11,521:(0.00s):geometry:\t\tgrabbing reference nonbonded method, cutoff, switching function, switching distance...\n",
      "2021-07-14 16:34:11,524:(0.00s):geometry:\t\tcreating nonbonded exception force (i.e. custom bond for 1,4s)...\n",
      "2021-07-14 16:34:11,527:(0.00s):geometry:\t\tlooping through exceptions calculating growth indices, and adding appropriate interactions to custom bond force.\n",
      "2021-07-14 16:34:11,529:(0.00s):geometry:\t\tthere are 43478 in the reference Nonbonded force\n",
      "2021-07-14 16:34:13,050:(1.52s):geometry:\t\t\t\t\tchiral atom <Atom 670 (CA) of chain 0 residue 42 (ALA)> with neighbors [<Atom 671 (C) of chain 0 residue 42 (ALA)>, <Atom 673 (CB) of chain 0 residue 42 (ALA)>, <Atom 675 (HA) of chain 0 residue 42 (ALA)>, <Atom 669 (N) of chain 0 residue 42 (ALA)>] is surrounded by 3 core neighbors.  omitting chirality bias torsion\n",
      "2021-07-14 16:34:13,053:(0.00s):geometry:Neglected angle terms : []\n",
      "2021-07-14 16:34:13,056:(0.00s):geometry:omitted_growth_terms: {'bonds': [], 'angles': [], 'torsions': [], '1,4s': []}\n",
      "2021-07-14 16:34:13,058:(0.00s):geometry:extra torsions: {0: (674, 669, 670, 673, [1, Quantity(value=0.9799661941737812, unit=radian), Quantity(value=1200.0, unit=kilocalorie/mole), 1]), 1: (669, 670, 673, 676, [1, Quantity(value=2.105358864604291, unit=radian), Quantity(value=1200.0, unit=kilocalorie/mole), 2]), 2: (669, 670, 673, 677, [1, Quantity(value=-2.0823006129211796, unit=radian), Quantity(value=1200.0, unit=kilocalorie/mole), 3]), 3: (669, 670, 673, 678, [1, Quantity(value=0.018582237407944735, unit=radian), Quantity(value=1200.0, unit=kilocalorie/mole), 4]), 4: (671, 670, 673, 676, [1, Quantity(value=-0.036945135932107576, unit=radian), Quantity(value=1200.0, unit=kilocalorie/mole), 2]), 5: (671, 670, 673, 677, [1, Quantity(value=2.0585806937220097, unit=radian), Quantity(value=1200.0, unit=kilocalorie/mole), 3]), 6: (671, 670, 673, 678, [1, Quantity(value=-2.1237217631284597, unit=radian), Quantity(value=1200.0, unit=kilocalorie/mole), 4]), 7: (675, 670, 673, 676, [1, Quantity(value=-2.119603470065817, unit=radian), Quantity(value=1200.0, unit=kilocalorie/mole), 2]), 8: (675, 670, 673, 677, [1, Quantity(value=-0.024077640411697132, unit=radian), Quantity(value=1200.0, unit=kilocalorie/mole), 3]), 9: (675, 670, 673, 678, [1, Quantity(value=2.0768052099174152, unit=radian), Quantity(value=1200.0, unit=kilocalorie/mole), 4])}\n",
      "2021-07-14 16:34:13,061:(0.00s):geometry:neglected angle terms include []\n",
      "2021-07-14 16:34:13,063:(0.00s):geometry:log probability choice of torsions and atom order: -5.78074351579233\n",
      "2021-07-14 16:34:13,066:(0.00s):geometry:creating platform, integrators, and contexts; setting growth parameter\n"
     ]
    },
    {
     "name": "stdout",
     "output_type": "stream",
     "text": [
      "conducting subsequent work with the following platform: CUDA\n"
     ]
    },
    {
     "name": "stderr",
     "output_type": "stream",
     "text": [
      "2021-07-14 16:34:19,196:(6.13s):geometry:setting atoms_with_positions context new positions\n"
     ]
    },
    {
     "name": "stdout",
     "output_type": "stream",
     "text": [
      "conducting subsequent work with the following platform: CUDA\n"
     ]
    },
    {
     "name": "stderr",
     "output_type": "stream",
     "text": [
      "2021-07-14 16:34:21,765:(2.57s):geometry:There are 4 new atoms\n",
      "2021-07-14 16:34:21,772:(0.01s):geometry:\treduced angle potential = 0.4623899923637639.\n",
      "2021-07-14 16:34:22,229:(0.46s):geometry:\treduced angle potential = 1.7848899275853018.\n",
      "2021-07-14 16:34:22,694:(0.46s):geometry:\treduced angle potential = 0.21967543113088853.\n",
      "2021-07-14 16:34:23,157:(0.46s):geometry:\treduced angle potential = 1.1146644808651232.\n",
      "2021-07-14 16:34:24,538:(1.38s):geometry:\tbeginning construction of no_nonbonded final system...\n",
      "2021-07-14 16:34:24,542:(0.00s):geometry:\tinitial no-nonbonded final system forces ['HarmonicBondForce', 'HarmonicAngleForce', 'PeriodicTorsionForce', 'NonbondedForce', 'MonteCarloBarostat']\n",
      "2021-07-14 16:34:31,659:(7.12s):geometry:\tfinal no-nonbonded final system forces dict_keys(['HarmonicBondForce', 'HarmonicAngleForce', 'PeriodicTorsionForce', 'NonbondedForce'])\n",
      "2021-07-14 16:34:31,662:(0.00s):geometry:\tthere are 1622 bond forces in the no-nonbonded final system\n",
      "2021-07-14 16:34:31,665:(0.00s):geometry:\tthere are 5730 angle forces in the no-nonbonded final system\n",
      "2021-07-14 16:34:31,668:(0.00s):geometry:\tthere are 10792 torsion forces in the no-nonbonded final system\n",
      "2021-07-14 16:34:31,670:(0.00s):geometry:forward final system defined with 0 neglected angles.\n"
     ]
    },
    {
     "name": "stdout",
     "output_type": "stream",
     "text": [
      "conducting subsequent work with the following platform: CUDA\n",
      "conducting subsequent work with the following platform: CUDA\n"
     ]
    },
    {
     "name": "stderr",
     "output_type": "stream",
     "text": [
      "2021-07-14 16:34:44,441:(12.77s):geometry:total reduced potential before atom placement: 4792.467751597958\n"
     ]
    },
    {
     "name": "stdout",
     "output_type": "stream",
     "text": [
      "conducting subsequent work with the following platform: CUDA\n",
      "conducting subsequent work with the following platform: CUDA\n",
      "conducting subsequent work with the following platform: CUDA\n"
     ]
    },
    {
     "name": "stderr",
     "output_type": "stream",
     "text": [
      "2021-07-14 16:34:50,057:(5.62s):geometry:total reduced energy added from growth system: 856.4950842216222\n",
      "2021-07-14 16:34:50,061:(0.00s):geometry:final reduced energy 5648.962834973223\n",
      "2021-07-14 16:34:50,064:(0.00s):geometry:sum of energies: 5648.9628358195805\n",
      "2021-07-14 16:34:50,070:(0.01s):geometry:magnitude of difference in the energies: 8.463575795758516e-07\n",
      "2021-07-14 16:34:50,073:(0.00s):geometry:Final logp_proposal: 30.743744078261788\n"
     ]
    },
    {
     "name": "stdout",
     "output_type": "stream",
     "text": [
      "added energy components: [('CustomBondForce', 0.9524343271370737), ('CustomAngleForce', 213.5839347709595), ('CustomTorsionForce', 10.996682360674159), ('CustomBondForce', 630.9620327628513)]\n"
     ]
    },
    {
     "name": "stderr",
     "output_type": "stream",
     "text": [
      "2021-07-14 16:34:50,435:(0.36s):geometry:logp_reverse: performing reverse proposal\n",
      "2021-07-14 16:34:50,449:(0.01s):geometry:logp_reverse: unique new atoms detected; proceeding to _logp_propose...\n",
      "2021-07-14 16:34:50,451:(0.00s):geometry:Conducting forward proposal...\n",
      "2021-07-14 16:34:50,453:(0.00s):geometry:Computing proposal order with NetworkX...\n",
      "2021-07-14 16:34:50,578:(0.12s):geometry:number of atoms to be placed: 8\n",
      "2021-07-14 16:34:50,594:(0.02s):geometry:Atom index proposal order is [673, 674, 675, 681, 678, 679, 682, 680]\n",
      "2021-07-14 16:34:50,596:(0.00s):geometry:omitted_bonds: []\n",
      "2021-07-14 16:34:50,598:(0.00s):geometry:direction of proposal is reverse; creating atoms_with_positions from old system/topology\n",
      "2021-07-14 16:35:00,011:(9.41s):geometry:creating growth system...\n",
      "2021-07-14 16:35:01,421:(1.41s):geometry:\tcreating bond force...\n",
      "2021-07-14 16:35:01,424:(0.00s):geometry:\tthere are 1624 bonds in reference force.\n",
      "2021-07-14 16:35:01,454:(0.03s):geometry:\tcreating angle force...\n",
      "2021-07-14 16:35:01,457:(0.00s):geometry:\tthere are 5737 angles in reference force.\n",
      "2021-07-14 16:35:01,542:(0.08s):geometry:\tcreating torsion force...\n",
      "2021-07-14 16:35:01,545:(0.00s):geometry:\tcreating extra torsions force...\n",
      "2021-07-14 16:35:01,547:(0.00s):geometry:\tthere are 10822 torsions in reference force.\n",
      "2021-07-14 16:35:01,640:(0.09s):geometry:\tcreating nonbonded force...\n",
      "2021-07-14 16:35:01,643:(0.00s):geometry:\t\tgrabbing reference nonbonded method, cutoff, switching function, switching distance...\n",
      "2021-07-14 16:35:01,645:(0.00s):geometry:\t\tcreating nonbonded exception force (i.e. custom bond for 1,4s)...\n",
      "2021-07-14 16:35:01,648:(0.00s):geometry:\t\tlooping through exceptions calculating growth indices, and adding appropriate interactions to custom bond force.\n",
      "2021-07-14 16:35:01,650:(0.00s):geometry:\t\tthere are 43501 in the reference Nonbonded force\n",
      "2021-07-14 16:35:03,166:(1.52s):geometry:\t\t\t\t\tchiral atom <Atom 670 (CA) of chain 0 residue 42 (THR)> with neighbors [<Atom 671 (C) of chain 0 residue 42 (THR)>, <Atom 673 (CB) of chain 0 residue 42 (THR)>, <Atom 677 (HA) of chain 0 residue 42 (THR)>, <Atom 669 (N) of chain 0 residue 42 (THR)>] is surrounded by 3 core neighbors.  omitting chirality bias torsion\n",
      "2021-07-14 16:35:03,169:(0.00s):geometry:Neglected angle terms : []\n",
      "2021-07-14 16:35:03,172:(0.00s):geometry:omitted_growth_terms: {'bonds': [], 'angles': [], 'torsions': [], '1,4s': []}\n",
      "2021-07-14 16:35:03,174:(0.00s):geometry:extra torsions: {0: (676, 669, 670, 673, [1, Quantity(value=0.9900002084555819, unit=radian), Quantity(value=1200.0, unit=kilocalorie/mole), 1]), 1: (679, 674, 673, 670, [1, Quantity(value=-0.07858019216845058, unit=radian), Quantity(value=1200.0, unit=kilocalorie/mole), 6]), 2: (679, 674, 673, 675, [1, Quantity(value=2.118586571250296, unit=radian), Quantity(value=1200.0, unit=kilocalorie/mole), 6]), 3: (679, 674, 673, 678, [1, Quantity(value=-2.149781203448759, unit=radian), Quantity(value=1200.0, unit=kilocalorie/mole), 6]), 4: (670, 673, 675, 682, [1, Quantity(value=-2.1249532223845904, unit=radian), Quantity(value=1200.0, unit=kilocalorie/mole), 7]), 5: (670, 673, 675, 681, [1, Quantity(value=2.0543043017157916, unit=radian), Quantity(value=1200.0, unit=kilocalorie/mole), 4]), 6: (670, 673, 675, 680, [1, Quantity(value=-0.02223392579985184, unit=radian), Quantity(value=1200.0, unit=kilocalorie/mole), 8]), 7: (674, 673, 675, 682, [1, Quantity(value=2.0255587336734213, unit=radian), Quantity(value=1200.0, unit=kilocalorie/mole), 7]), 8: (674, 673, 675, 681, [1, Quantity(value=-0.07836904940578293, unit=radian), Quantity(value=1200.0, unit=kilocalorie/mole), 4]), 9: (674, 673, 675, 680, [1, Quantity(value=-2.154907276921426, unit=radian), Quantity(value=1200.0, unit=kilocalorie/mole), 8]), 10: (678, 673, 675, 682, [1, Quantity(value=0.007583009583349565, unit=radian), Quantity(value=1200.0, unit=kilocalorie/mole), 7]), 11: (678, 673, 675, 681, [1, Quantity(value=-2.096344773495849, unit=radian), Quantity(value=1200.0, unit=kilocalorie/mole), 5]), 12: (678, 673, 675, 680, [1, Quantity(value=2.1103023061680943, unit=radian), Quantity(value=1200.0, unit=kilocalorie/mole), 8]), 13: (674, 673, 670, 675, [1, Quantity(value=-1.0655064807976995, unit=radian), Quantity(value=1200.0, unit=kilocalorie/mole), 3])}\n",
      "2021-07-14 16:35:03,177:(0.00s):geometry:neglected angle terms include []\n",
      "2021-07-14 16:35:03,180:(0.00s):geometry:log probability choice of torsions and atom order: -13.371595639480912\n",
      "2021-07-14 16:35:03,182:(0.00s):geometry:creating platform, integrators, and contexts; setting growth parameter\n"
     ]
    },
    {
     "name": "stdout",
     "output_type": "stream",
     "text": [
      "conducting subsequent work with the following platform: CUDA\n"
     ]
    },
    {
     "name": "stderr",
     "output_type": "stream",
     "text": [
      "2021-07-14 16:35:05,787:(2.60s):geometry:setting atoms_with_positions context old positions\n"
     ]
    },
    {
     "name": "stdout",
     "output_type": "stream",
     "text": [
      "conducting subsequent work with the following platform: CUDA\n"
     ]
    },
    {
     "name": "stderr",
     "output_type": "stream",
     "text": [
      "2021-07-14 16:35:07,410:(1.62s):geometry:There are 8 new atoms\n",
      "2021-07-14 16:35:07,416:(0.01s):geometry:\treduced angle potential = 0.1817144363741264.\n",
      "2021-07-14 16:35:07,855:(0.44s):geometry:\treduced angle potential = 0.1536280916466212.\n",
      "2021-07-14 16:35:08,296:(0.44s):geometry:\treduced angle potential = 0.2257125237447829.\n",
      "2021-07-14 16:35:08,736:(0.44s):geometry:\treduced angle potential = 0.05657264681042365.\n",
      "2021-07-14 16:35:09,169:(0.43s):geometry:\treduced angle potential = 0.00589659951395519.\n",
      "2021-07-14 16:35:09,610:(0.44s):geometry:\treduced angle potential = 0.0066955214510641915.\n",
      "2021-07-14 16:35:10,039:(0.43s):geometry:\treduced angle potential = 0.25876654048332753.\n",
      "2021-07-14 16:35:10,465:(0.43s):geometry:\treduced angle potential = 0.023352265895513123.\n",
      "2021-07-14 16:35:11,870:(1.41s):geometry:\tbeginning construction of no_nonbonded final system...\n",
      "2021-07-14 16:35:11,874:(0.00s):geometry:\tinitial no-nonbonded final system forces ['HarmonicBondForce', 'HarmonicAngleForce', 'PeriodicTorsionForce', 'NonbondedForce', 'MonteCarloBarostat']\n",
      "2021-07-14 16:35:15,408:(3.53s):geometry:\tfinal no-nonbonded final system forces dict_keys(['HarmonicBondForce', 'HarmonicAngleForce', 'PeriodicTorsionForce', 'NonbondedForce'])\n",
      "2021-07-14 16:35:15,411:(0.00s):geometry:\tthere are 1624 bond forces in the no-nonbonded final system\n",
      "2021-07-14 16:35:15,414:(0.00s):geometry:\tthere are 5737 angle forces in the no-nonbonded final system\n",
      "2021-07-14 16:35:15,416:(0.00s):geometry:\tthere are 10822 torsion forces in the no-nonbonded final system\n",
      "2021-07-14 16:35:15,419:(0.00s):geometry:reverse final system defined with 0 neglected angles.\n"
     ]
    },
    {
     "name": "stdout",
     "output_type": "stream",
     "text": [
      "conducting subsequent work with the following platform: CUDA\n",
      "conducting subsequent work with the following platform: CUDA\n"
     ]
    },
    {
     "name": "stderr",
     "output_type": "stream",
     "text": [
      "2021-07-14 16:35:20,869:(5.45s):geometry:total reduced potential before atom placement: 4792.467870677297\n"
     ]
    },
    {
     "name": "stdout",
     "output_type": "stream",
     "text": [
      "conducting subsequent work with the following platform: CUDA\n",
      "conducting subsequent work with the following platform: CUDA\n",
      "conducting subsequent work with the following platform: CUDA\n"
     ]
    },
    {
     "name": "stderr",
     "output_type": "stream",
     "text": [
      "2021-07-14 16:35:24,281:(3.41s):geometry:total reduced energy added from growth system: -62.3900963283472\n",
      "2021-07-14 16:35:24,285:(0.00s):geometry:final reduced energy 4730.077774354767\n",
      "2021-07-14 16:35:24,288:(0.00s):geometry:sum of energies: 4730.07777434895\n",
      "2021-07-14 16:35:24,290:(0.00s):geometry:magnitude of difference in the energies: 5.817554438181105e-09\n",
      "2021-07-14 16:35:24,292:(0.00s):geometry:Final logp_proposal: -10169.46087721557\n"
     ]
    },
    {
     "name": "stdout",
     "output_type": "stream",
     "text": [
      "added energy components: [('CustomBondForce', 0.4083956553523612), ('CustomAngleForce', 1.622079514297996), ('CustomTorsionForce', 17.503137529087592), ('CustomBondForce', -81.92370902708515)]\n"
     ]
    },
    {
     "name": "stderr",
     "output_type": "stream",
     "text": [
      "2021-07-14 16:35:24,456:(0.16s):relative:*** Generating RxnHybridTopologyFactory ***\n",
      "2021-07-14 16:35:24,459:(0.00s):relative:Beginning nonbonded method, total particle, barostat, and exceptions retrieval...\n",
      "2021-07-14 16:35:26,417:(1.96s):relative:Old system forces: dict_keys(['HarmonicBondForce', 'HarmonicAngleForce', 'PeriodicTorsionForce', 'NonbondedForce', 'MonteCarloBarostat'])\n",
      "2021-07-14 16:35:26,422:(0.00s):relative:New system forces: dict_keys(['HarmonicBondForce', 'HarmonicAngleForce', 'PeriodicTorsionForce', 'NonbondedForce', 'MonteCarloBarostat'])\n",
      "2021-07-14 16:35:26,424:(0.00s):relative:No unknown forces.\n",
      "2021-07-14 16:35:26,427:(0.00s):relative:Nonbonded method to be used (i.e. from old system): 4\n",
      "2021-07-14 16:35:26,429:(0.00s):relative:Adding and mapping old atoms to hybrid system...\n",
      "2021-07-14 16:35:26,904:(0.47s):relative:Adding and mapping new atoms to hybrid system...\n",
      "2021-07-14 16:35:26,907:(0.00s):relative:scale_templates: [['nonscale_lambda'], ['nonscale_region']]\n",
      "2021-07-14 16:35:26,910:(0.00s):relative:particle (nonbonded) scale_templates: [['nonscale_lambda'], ['nonscale_region1'], ['nonscale_region2']]\n",
      "2021-07-14 16:35:26,913:(0.00s):relative:Added MonteCarloBarostat.\n",
      "2021-07-14 16:35:26,915:(0.00s):relative:getDefaultPeriodicBoxVectors added to hybrid: [Quantity(value=Vec3(x=6.7997, y=0.0, z=0.0), unit=nanometer), Quantity(value=Vec3(x=0.0, y=6.7997, z=0.0), unit=nanometer), Quantity(value=Vec3(x=0.0, y=0.0, z=6.7997), unit=nanometer)]\n",
      "2021-07-14 16:35:26,942:(0.03s):relative:Determined atom classes.\n",
      "2021-07-14 16:35:26,945:(0.00s):relative:Generating old system exceptions dict...\n",
      "2021-07-14 16:35:28,171:(1.23s):relative:Generating new system exceptions dict...\n",
      "2021-07-14 16:35:28,763:(0.59s):relative:Handling constraints...\n",
      "2021-07-14 16:35:30,400:(1.64s):relative:Handling virtual sites...\n",
      "2021-07-14 16:35:30,437:(0.04s):relative:\t_handle_virtual_sites: numVirtualSites: 0\n",
      "2021-07-14 16:35:33,807:(3.37s):relative:hybrid_index_pair (700, 703, 702, 712) was not found in the new_term_collector, but (703, 700, 702, 712) has the same atoms and terms, so (703, 700, 702, 712) will be removed from the new term collector\n",
      "2021-07-14 16:35:33,817:(0.01s):relative:hybrid_index_pair (701, 702, 703, 713) was not found in the new_term_collector, but (702, 701, 703, 713) has the same atoms and terms, so (702, 701, 703, 713) will be removed from the new term collector\n",
      "2021-07-14 16:35:33,828:(0.01s):relative:hybrid_index_pair (750, 754, 752, 762) was not found in the new_term_collector, but (754, 750, 752, 762) has the same atoms and terms, so (754, 750, 752, 762) will be removed from the new term collector\n",
      "2021-07-14 16:35:33,840:(0.01s):relative:hybrid_index_pair (862, 859, 861, 871) was not found in the new_term_collector, but (859, 862, 861, 871) has the same atoms and terms, so (859, 862, 861, 871) will be removed from the new term collector\n",
      "2021-07-14 16:35:33,850:(0.01s):relative:hybrid_index_pair (860, 861, 862, 872) was not found in the new_term_collector, but (861, 860, 862, 872) has the same atoms and terms, so (861, 860, 862, 872) will be removed from the new term collector\n",
      "2021-07-14 16:35:33,862:(0.01s):relative:hybrid_index_pair (903, 913, 905, 912) was not found in the new_term_collector, but (903, 912, 905, 913) has the same atoms and terms, so (903, 912, 905, 913) will be removed from the new term collector\n",
      "2021-07-14 16:35:33,872:(0.01s):relative:hybrid_index_pair (924, 920, 922, 931) was not found in the new_term_collector, but (920, 924, 922, 931) has the same atoms and terms, so (920, 924, 922, 931) will be removed from the new term collector\n",
      "2021-07-14 16:35:33,883:(0.01s):relative:hybrid_index_pair (924, 921, 923, 932) was not found in the new_term_collector, but (921, 924, 923, 932) has the same atoms and terms, so (921, 924, 923, 932) will be removed from the new term collector\n",
      "2021-07-14 16:35:33,893:(0.01s):relative:hybrid_index_pair (923, 922, 924, 933) was not found in the new_term_collector, but (922, 923, 924, 933) has the same atoms and terms, so (922, 923, 924, 933) will be removed from the new term collector\n",
      "2021-07-14 16:35:33,904:(0.01s):relative:hybrid_index_pair (955, 964, 957, 965) was not found in the new_term_collector, but (955, 965, 957, 964) has the same atoms and terms, so (955, 965, 957, 964) will be removed from the new term collector\n",
      "2021-07-14 16:35:33,916:(0.01s):relative:hybrid_index_pair (1069, 1075, 1071, 1074) was not found in the new_term_collector, but (1069, 1074, 1071, 1075) has the same atoms and terms, so (1069, 1074, 1071, 1075) will be removed from the new term collector\n",
      "2021-07-14 16:35:33,929:(0.01s):relative:hybrid_index_pair (1196, 1199, 1198, 1207) was not found in the new_term_collector, but (1199, 1196, 1198, 1207) has the same atoms and terms, so (1199, 1196, 1198, 1207) will be removed from the new term collector\n",
      "2021-07-14 16:35:33,940:(0.01s):relative:hybrid_index_pair (1197, 1198, 1199, 1208) was not found in the new_term_collector, but (1198, 1197, 1199, 1208) has the same atoms and terms, so (1198, 1197, 1199, 1208) will be removed from the new term collector\n",
      "2021-07-14 16:35:33,955:(0.02s):relative:hybrid_index_pair (1490, 1498, 1492, 1497) was not found in the new_term_collector, but (1490, 1497, 1492, 1498) has the same atoms and terms, so (1490, 1497, 1492, 1498) will be removed from the new term collector\n",
      "2021-07-14 16:35:33,965:(0.01s):relative:hybrid_index_pair (1523, 1520, 1522, 1531) was not found in the new_term_collector, but (1520, 1523, 1522, 1531) has the same atoms and terms, so (1520, 1523, 1522, 1531) will be removed from the new term collector\n",
      "2021-07-14 16:35:33,975:(0.01s):relative:hybrid_index_pair (1522, 1521, 1523, 1532) was not found in the new_term_collector, but (1521, 1522, 1523, 1532) has the same atoms and terms, so (1521, 1522, 1523, 1532) will be removed from the new term collector\n",
      "2021-07-14 16:35:33,988:(0.01s):relative:hybrid_index_pair (1669, 1666, 1667, 1677) was not found in the new_term_collector, but (1666, 1669, 1667, 1677) has the same atoms and terms, so (1666, 1669, 1667, 1677) will be removed from the new term collector\n",
      "2021-07-14 16:35:33,997:(0.01s):relative:hybrid_index_pair (1670, 1666, 1668, 1678) was not found in the new_term_collector, but (1666, 1670, 1668, 1678) has the same atoms and terms, so (1666, 1670, 1668, 1678) will be removed from the new term collector\n",
      "2021-07-14 16:35:34,009:(0.01s):relative:hybrid_index_pair (1771, 1779, 1773, 1778) was not found in the new_term_collector, but (1771, 1778, 1773, 1779) has the same atoms and terms, so (1771, 1778, 1773, 1779) will be removed from the new term collector\n",
      "2021-07-14 16:35:34,019:(0.01s):relative:hybrid_index_pair (1788, 1785, 1786, 1796) was not found in the new_term_collector, but (1785, 1788, 1786, 1796) has the same atoms and terms, so (1785, 1788, 1786, 1796) will be removed from the new term collector\n",
      "2021-07-14 16:35:34,028:(0.01s):relative:hybrid_index_pair (1789, 1785, 1787, 1797) was not found in the new_term_collector, but (1785, 1789, 1787, 1797) has the same atoms and terms, so (1785, 1789, 1787, 1797) will be removed from the new term collector\n",
      "2021-07-14 16:35:34,041:(0.01s):relative:hybrid_index_pair (1958, 1955, 1957, 1967) was not found in the new_term_collector, but (1955, 1958, 1957, 1967) has the same atoms and terms, so (1955, 1958, 1957, 1967) will be removed from the new term collector\n",
      "2021-07-14 16:35:34,050:(0.01s):relative:hybrid_index_pair (1956, 1957, 1958, 1968) was not found in the new_term_collector, but (1957, 1956, 1958, 1968) has the same atoms and terms, so (1957, 1956, 1958, 1968) will be removed from the new term collector\n",
      "2021-07-14 16:35:34,066:(0.02s):relative:hybrid_index_pair (2244, 2240, 2242, 2251) was not found in the new_term_collector, but (2240, 2244, 2242, 2251) has the same atoms and terms, so (2240, 2244, 2242, 2251) will be removed from the new term collector\n",
      "2021-07-14 16:35:34,076:(0.01s):relative:hybrid_index_pair (2244, 2241, 2243, 2252) was not found in the new_term_collector, but (2241, 2244, 2243, 2252) has the same atoms and terms, so (2241, 2244, 2243, 2252) will be removed from the new term collector\n"
     ]
    },
    {
     "name": "stderr",
     "output_type": "stream",
     "text": [
      "2021-07-14 16:35:34,085:(0.01s):relative:hybrid_index_pair (2243, 2242, 2244, 2253) was not found in the new_term_collector, but (2242, 2243, 2244, 2253) has the same atoms and terms, so (2242, 2243, 2244, 2253) will be removed from the new term collector\n",
      "2021-07-14 16:35:34,096:(0.01s):relative:hybrid_index_pair (2270, 2277, 2272, 2278) was not found in the new_term_collector, but (2270, 2278, 2272, 2277) has the same atoms and terms, so (2270, 2278, 2272, 2277) will be removed from the new term collector\n",
      "2021-07-14 16:35:34,107:(0.01s):relative:hybrid_index_pair (2286, 2288, 2287, 2289) was not found in the new_term_collector, but (2288, 2287, 2286, 2289) has the same atoms and terms, so (2288, 2287, 2286, 2289) will be removed from the new term collector\n",
      "2021-07-14 16:35:34,120:(0.01s):relative:hybrid_index_pair (2436, 2435, 2434, 2437) was not found in the new_term_collector, but (2434, 2436, 2435, 2437) has the same atoms and terms, so (2434, 2436, 2435, 2437) will be removed from the new term collector\n",
      "2021-07-14 16:35:34,132:(0.01s):relative:hybrid_index_pair (2478, 2475, 2477, 2487) was not found in the new_term_collector, but (2475, 2478, 2477, 2487) has the same atoms and terms, so (2475, 2478, 2477, 2487) will be removed from the new term collector\n",
      "2021-07-14 16:35:34,143:(0.01s):relative:hybrid_index_pair (2476, 2477, 2478, 2488) was not found in the new_term_collector, but (2477, 2476, 2478, 2488) has the same atoms and terms, so (2477, 2476, 2478, 2488) will be removed from the new term collector\n",
      "2021-07-14 16:35:34,156:(0.01s):relative:hybrid_index_pair (2588, 2592, 2590, 2600) was not found in the new_term_collector, but (2592, 2588, 2590, 2600) has the same atoms and terms, so (2592, 2588, 2590, 2600) will be removed from the new term collector\n",
      "2021-07-14 16:35:34,168:(0.01s):relative:hybrid_index_pair (2644, 2641, 2642, 2651) was not found in the new_term_collector, but (2641, 2644, 2642, 2651) has the same atoms and terms, so (2641, 2644, 2642, 2651) will be removed from the new term collector\n",
      "2021-07-14 16:35:34,180:(0.01s):relative:hybrid_index_pair (2663, 2665, 2664, 2666) was not found in the new_term_collector, but (2665, 2664, 2663, 2666) has the same atoms and terms, so (2665, 2664, 2663, 2666) will be removed from the new term collector\n",
      "2021-07-14 16:35:34,193:(0.01s):relative:hybrid_index_pair (2787, 2784, 2785, 2795) was not found in the new_term_collector, but (2784, 2787, 2785, 2795) has the same atoms and terms, so (2784, 2787, 2785, 2795) will be removed from the new term collector\n",
      "2021-07-14 16:35:34,204:(0.01s):relative:hybrid_index_pair (2788, 2784, 2786, 2796) was not found in the new_term_collector, but (2784, 2788, 2786, 2796) has the same atoms and terms, so (2784, 2788, 2786, 2796) will be removed from the new term collector\n",
      "2021-07-14 16:35:34,217:(0.01s):relative:hybrid_index_pair (2844, 2847, 2846, 2856) was not found in the new_term_collector, but (2847, 2844, 2846, 2856) has the same atoms and terms, so (2847, 2844, 2846, 2856) will be removed from the new term collector\n",
      "2021-07-14 16:35:34,228:(0.01s):relative:hybrid_index_pair (2845, 2846, 2847, 2857) was not found in the new_term_collector, but (2846, 2845, 2847, 2857) has the same atoms and terms, so (2846, 2845, 2847, 2857) will be removed from the new term collector\n",
      "2021-07-14 16:35:34,239:(0.01s):relative:hybrid_index_pair (2901, 2904, 2902, 2912) was not found in the new_term_collector, but (2904, 2901, 2902, 2912) has the same atoms and terms, so (2904, 2901, 2902, 2912) will be removed from the new term collector\n",
      "2021-07-14 16:35:34,253:(0.01s):relative:hybrid_index_pair (3004, 3001, 3002, 3012) was not found in the new_term_collector, but (3001, 3004, 3002, 3012) has the same atoms and terms, so (3001, 3004, 3002, 3012) will be removed from the new term collector\n",
      "2021-07-14 16:35:34,264:(0.01s):relative:hybrid_index_pair (3023, 3033, 3025, 3032) was not found in the new_term_collector, but (3023, 3032, 3025, 3033) has the same atoms and terms, so (3023, 3032, 3025, 3033) will be removed from the new term collector\n",
      "2021-07-14 16:35:34,276:(0.01s):relative:hybrid_index_pair (3053, 3056, 3054, 3063) was not found in the new_term_collector, but (3056, 3053, 3054, 3063) has the same atoms and terms, so (3056, 3053, 3054, 3063) will be removed from the new term collector\n",
      "2021-07-14 16:35:34,288:(0.01s):relative:hybrid_index_pair (3132, 3131, 3130, 3133) was not found in the new_term_collector, but (3130, 3132, 3131, 3133) has the same atoms and terms, so (3130, 3132, 3131, 3133) will be removed from the new term collector\n"
     ]
    }
   ],
   "source": [
    "solvent_delivery = PointMutationExecutor2(\"../../input/mmc2_barstar.pdb\",\n",
    "                        '1',\n",
    "                        \"42\",\n",
    "                        \"ALA\",\n",
    "                        ligand_input=\"../../input/mmc2_barnase.pdb\",\n",
    "                        ionic_strength=0.05*unit.molar,\n",
    "                        flatten_torsions=True,\n",
    "                        flatten_exceptions=True, \n",
    "                        conduct_endstate_validation=False,\n",
    "                        rxn_field=True\n",
    "                       )"
   ]
  },
  {
   "cell_type": "code",
   "execution_count": 52,
   "id": "f218becd",
   "metadata": {},
   "outputs": [],
   "source": [
    "pickle.dump(solvent_delivery.get_apo_htf(), open(\"T42A_apo.pickle\", \"wb\" ))\n",
    "pickle.dump(solvent_delivery.get_complex_htf(), open(\"T42A_complex.pickle\", \"wb\" ))\n"
   ]
  },
  {
   "cell_type": "markdown",
   "id": "dated-desire",
   "metadata": {},
   "source": [
    "#### Old system HarmonicBondForce vs hybrid system CustomBondForce"
   ]
  },
  {
   "cell_type": "code",
   "execution_count": 53,
   "id": "excellent-cosmetic",
   "metadata": {},
   "outputs": [],
   "source": [
    "# Load htf\n",
    "with open(\"T42A_complex.pickle\", \"rb\") as f:\n",
    "    htf = pickle.load(f)"
   ]
  },
  {
   "cell_type": "code",
   "execution_count": 54,
   "id": "bigger-meeting",
   "metadata": {},
   "outputs": [
    {
     "name": "stdout",
     "output_type": "stream",
     "text": [
      "Warning: Returning CPU platform instead of requested platform <simtk.openmm.openmm.Platform; proxy of <Swig Object of type 'OpenMM::Platform *' at 0x2ae70ce2b150> >\n",
      "conducting subsequent work with the following platform: CPU\n",
      "conducting subsequent work with the following platform: CUDA\n",
      "[('HarmonicBondForce', 189.69678123582867), ('HarmonicAngleForce', 791.7783222646883), ('PeriodicTorsionForce', 3830.526380065008), ('NonbondedForce', -23340.322141169163), ('AndersenThermostat', 0.0), ('MonteCarloBarostat', 0.0)]\n",
      "conducting subsequent work with the following platform: CUDA\n",
      "[('CustomBondForce', 189.69678123582867), ('CustomAngleForce', 1005.3622570356476), ('CustomTorsionForce', 3830.526548711567), ('AndersenThermostat', 0.0), ('MonteCarloBarostat', 0.0)]\n",
      "Success! Custom bond force and standard bond force energies are equal!\n"
     ]
    }
   ],
   "source": [
    "test_bond_energies(htf, is_solvated=True)"
   ]
  },
  {
   "cell_type": "markdown",
   "id": "satisfactory-taxation",
   "metadata": {},
   "source": [
    "#### New system HarmonicBondForce vs hybrid system CustomBondForce"
   ]
  },
  {
   "cell_type": "code",
   "execution_count": 55,
   "id": "turkish-exclusive",
   "metadata": {},
   "outputs": [],
   "source": [
    "# Load htf\n",
    "with open(\"T42A_complex.pickle\", \"rb\") as f:\n",
    "    htf = pickle.load(f)"
   ]
  },
  {
   "cell_type": "code",
   "execution_count": 56,
   "id": "cordless-kitty",
   "metadata": {},
   "outputs": [
    {
     "name": "stdout",
     "output_type": "stream",
     "text": [
      "Warning: Returning CPU platform instead of requested platform <simtk.openmm.openmm.Platform; proxy of <Swig Object of type 'OpenMM::Platform *' at 0x2ae70ce2b150> >\n",
      "conducting subsequent work with the following platform: CPU\n",
      "conducting subsequent work with the following platform: CUDA\n",
      "[('HarmonicBondForce', 190.24081990761337), ('HarmonicAngleForce', 1003.7401775213498), ('PeriodicTorsionForce', 3824.0198045870984), ('NonbondedForce', -22620.866336776005), ('AndersenThermostat', 0.0), ('MonteCarloBarostat', 0.0)]\n",
      "conducting subsequent work with the following platform: CUDA\n",
      "[('CustomBondForce', 190.24081990761337), ('CustomAngleForce', 1005.3622570356476), ('CustomTorsionForce', 3830.526548711567), ('AndersenThermostat', 0.0), ('MonteCarloBarostat', 0.0)]\n",
      "Success! Custom bond force and standard bond force energies are equal!\n"
     ]
    }
   ],
   "source": [
    "test_bond_energies(htf, is_old=False, is_solvated=True)"
   ]
  },
  {
   "cell_type": "code",
   "execution_count": 57,
   "id": "clean-pharmacy",
   "metadata": {},
   "outputs": [],
   "source": [
    "scale_region = list(htf._atom_classes['unique_old_atoms'][0]) + list(htf._atom_classes['unique_new_atoms'][0])"
   ]
  },
  {
   "cell_type": "markdown",
   "id": "e4d0d5e0",
   "metadata": {},
   "source": [
    "### Test one alchemical region, no scale regions"
   ]
  },
  {
   "cell_type": "code",
   "execution_count": 58,
   "id": "6f12c7d9",
   "metadata": {},
   "outputs": [],
   "source": [
    "from perses.app.relative_point_mutation_setup import PointMutationExecutor"
   ]
  },
  {
   "cell_type": "code",
   "execution_count": 60,
   "id": "285c4ef9",
   "metadata": {},
   "outputs": [],
   "source": [
    "from __future__ import absolute_import\n",
    "\n",
    "from perses.utils.openeye import createOEMolFromSDF, extractPositionsFromOEMol\n",
    "from perses.annihilation.relative import HybridTopologyFactory, RepartitionedHybridTopologyFactory, RxnHybridTopologyFactory\n",
    "from perses.rjmc.topology_proposal import PointMutationEngine\n",
    "from perses.rjmc.geometry import FFAllAngleGeometryEngine\n",
    "\n",
    "import simtk.openmm as openmm\n",
    "import simtk.openmm.app as app\n",
    "import simtk.unit as unit\n",
    "import numpy as np\n",
    "from openmoltools import forcefield_generators\n",
    "import mdtraj as md\n",
    "from openmmtools.constants import kB\n",
    "from perses.tests.utils import validate_endstate_energies\n",
    "from openff.toolkit.topology import Molecule\n",
    "from openmmforcefields.generators import SystemGenerator\n",
    "\n",
    "ENERGY_THRESHOLD = 1e-2\n",
    "temperature = 300 * unit.kelvin\n",
    "kT = kB * temperature\n",
    "beta = 1.0/kT\n",
    "ring_amino_acids = ['TYR', 'PHE', 'TRP', 'PRO', 'HIS']\n",
    "\n",
    "# Set up logger\n",
    "import logging\n",
    "_logger = logging.getLogger()\n",
    "_logger.setLevel(logging.INFO)\n",
    "\n",
    "class PointMutationExecutor2(PointMutationExecutor):\n",
    "    \"\"\"\n",
    "    Simple, stripped-down class to create a protein-ligand system and allow a mutation of a protein.\n",
    "    this will allow support for the creation of _two_ relative free energy calculations:\n",
    "        1. 'wildtype' - 'point mutant' complex hybrid.\n",
    "        2. 'wildtype' - 'point mutant' protein hybrid (i.e. with ligand of interest unbound)\n",
    "    Example (create full point mutation executor and run parallel tempering on both complex and apo phases):\n",
    "        from pkg_resources import resource_filename\n",
    "        protein_path = 'data/perses_jacs_systems/thrombin/Thrombin_protein.pdb'\n",
    "        ligands_path = 'data/perses_jacs_systems/thrombin/Thrombin_ligands.sdf'\n",
    "        protein_filename = resource_filename('openmmforcefields', protein_path)\n",
    "        ligand_input = resource_filename('openmmforcefields', ligands_path)\n",
    "        pm_delivery = PointMutationExecutor(protein_filename=protein_filename,\n",
    "                                    mutation_chain_id='2',\n",
    "                                    mutation_residue_id='198',\n",
    "                                     proposed_residue='THR',\n",
    "                                     phase='complex',\n",
    "                                     conduct_endstate_validation=False,\n",
    "                                     ligand_input=ligand_input,\n",
    "                                     ligand_index=0,\n",
    "                                     forcefield_files=['amber14/protein.ff14SB.xml', 'amber14/tip3p.xml'],\n",
    "                                     barostat=openmm.MonteCarloBarostat(1.0 * unit.atmosphere, temperature, 50),\n",
    "                                     forcefield_kwargs={'removeCMMotion': False, 'ewaldErrorTolerance': 1e-4, 'nonbondedMethod': app.PME, 'constraints' : app.HBonds, 'hydrogenMass' : 4 * unit.amus},\n",
    "                                     small_molecule_forcefields='gaff-2.11')\n",
    "        complex_htf = pm_delivery.get_complex_htf()\n",
    "        apo_htf = pm_delivery.get_apo_htf()\n",
    "        # Now we can build the hybrid repex samplers\n",
    "        from perses.annihilation.lambda_protocol import LambdaProtocol\n",
    "        from openmmtools.multistate import MultiStateReporter\n",
    "        from perses.samplers.multistate import HybridRepexSampler\n",
    "        from openmmtools import mcmc\n",
    "        suffix = 'run'; selection = 'not water'; checkpoint_interval = 10; n_states = 11; n_cycles = 5000\n",
    "        for htf in [complex_htf, apo_htf]:\n",
    "            lambda_protocol = LambdaProtocol(functions='default')\n",
    "            reporter_file = 'reporter.nc'\n",
    "            reporter = MultiStateReporter(reporter_file, analysis_particle_indices = htf.hybrid_topology.select(selection), checkpoint_interval = checkpoint_interval)\n",
    "            hss = HybridRepexSampler(mcmc_moves=mcmc.LangevinSplittingDynamicsMove(timestep= 4.0 * unit.femtoseconds,\n",
    "                                                                                  collision_rate=5.0 / unit.picosecond,\n",
    "                                                                                  n_steps=250,\n",
    "                                                                                  reassign_velocities=False,\n",
    "                                                                                  n_restart_attempts=20,\n",
    "                                                                                  splitting=\"V R R R O R R R V\",\n",
    "                                                                                  constraint_tolerance=1e-06),\n",
    "                                                                                  hybrid_factory=htf, online_analysis_interval=10)\n",
    "            hss.setup(n_states=n_states, temperature=300*unit.kelvin, storage_file=reporter, lambda_protocol=lambda_protocol, endstates=False)\n",
    "            hss.extend(n_cycles)\n",
    "    \"\"\"\n",
    "    def __init__(self,\n",
    "                 protein_filename,\n",
    "                 mutation_chain_id,\n",
    "                 mutation_residue_id,\n",
    "                 proposed_residue,\n",
    "                 phase='complex',\n",
    "                 conduct_endstate_validation=True,\n",
    "                 ligand_input=None,\n",
    "                 ligand_index=0,\n",
    "                 water_model='tip3p',\n",
    "                 ionic_strength=0.15 * unit.molar,\n",
    "                 forcefield_files=['amber14/protein.ff14SB.xml', 'amber14/tip3p.xml'],\n",
    "                 barostat=openmm.MonteCarloBarostat(1.0 * unit.atmosphere, temperature, 50),\n",
    "                 forcefield_kwargs={'removeCMMotion': False, 'ewaldErrorTolerance': 0.00025, 'constraints' : app.HBonds, 'hydrogenMass' : 4 * unit.amus},\n",
    "                 periodic_forcefield_kwargs={'nonbondedMethod': app.PME},\n",
    "                 nonperiodic_forcefield_kwargs=None,\n",
    "                 small_molecule_forcefields='gaff-2.11',\n",
    "                 complex_box_dimensions=None,\n",
    "                 apo_box_dimensions=None,\n",
    "                 flatten_torsions=False,\n",
    "                 flatten_exceptions=False,\n",
    "                 repartitioned_endstate=None,\n",
    "                 rxn_field = True,\n",
    "                 **kwargs):\n",
    "        \"\"\"\n",
    "        arguments\n",
    "            protein_filename : str\n",
    "                path to protein (to mutate); .pdb\n",
    "            mutation_chain_id : str\n",
    "                name of the chain to be mutated\n",
    "            mutation_residue_id : str\n",
    "                residue id to change\n",
    "            proposed_residue : str\n",
    "                three letter code of the residue to mutate to\n",
    "            phase : str, default complex\n",
    "                if phase == vacuum, then the complex will not be solvated with water; else, it will be solvated with tip3p\n",
    "            conduct_endstate_validation : bool, default True\n",
    "                whether to conduct an endstate validation of the HybridTopologyFactory. If using the RepartitionedHybridTopologyFactory,\n",
    "                endstate validation cannot and will not be conducted.\n",
    "            ligand_file : str, default None\n",
    "                path to ligand of interest (i.e. small molecule or protein); .sdf or .pdb\n",
    "            ligand_index : int, default 0\n",
    "                which ligand to use\n",
    "            water_model : str, default 'tip3p'\n",
    "                solvent model to use for solvation\n",
    "            ionic_strength : float * unit.molar, default 0.15 * unit.molar\n",
    "                the total concentration of ions (both positive and negative) to add using Modeller.\n",
    "                This does not include ions that are added to neutralize the system.\n",
    "                Note that only monovalent ions are currently supported.\n",
    "            forcefield_files : list of str, default ['amber14/protein.ff14SB.xml', 'amber14/tip3p.xml']\n",
    "                forcefield files for proteins and solvent\n",
    "            barostat : openmm.MonteCarloBarostat, default openmm.MonteCarloBarostat(1.0 * unit.atmosphere, 300 * unit.kelvin, 50)\n",
    "                barostat to use\n",
    "            forcefield_kwargs : dict, default {'removeCMMotion': False, 'ewaldErrorTolerance': 1e-4, 'constraints' : app.HBonds, 'hydrogenMass' : 4 * unit.amus}\n",
    "                forcefield kwargs for system parametrization\n",
    "            periodic_forcefield_kwargs : dict, default {'nonbondedMethod': app.PME}\n",
    "                periodic forcefield kwargs for system parametrization\n",
    "            nonperiodic_forcefield_kwargs : dict, default None\n",
    "                non-periodic forcefield kwargs for system parametrization\n",
    "            small_molecule_forcefields : str, default 'gaff-2.11'\n",
    "                the forcefield string for small molecule parametrization\n",
    "            complex_box_dimensions : Vec3, default None\n",
    "                define box dimensions of complex phase;\n",
    "                if None, padding is 1nm\n",
    "            apo_box_dimensions :  Vec3, default None\n",
    "                define box dimensions of apo phase phase;\n",
    "                if None, padding is 1nm\n",
    "            flatten_torsions : bool, default False\n",
    "                in the htf, flatten torsions involving unique new atoms at lambda = 0 and unique old atoms are lambda = 1\n",
    "            flatten_exceptions : bool, default False\n",
    "                in the htf, flatten exceptions involving unique new atoms at lambda = 0 and unique old atoms at lambda = 1\n",
    "            repartitioned_endstate : int, default None\n",
    "                the endstate (0 or 1) at which to build the RepartitionedHybridTopologyFactory. By default, this is None,\n",
    "                meaning a vanilla HybridTopologyFactory will be built.\n",
    "        TODO : allow argument for spectator ligands besides the 'ligand_file'\n",
    "        \"\"\"\n",
    "\n",
    "        # First thing to do is load the apo protein to mutate...\n",
    "        protein_pdbfile = open(protein_filename, 'r')\n",
    "        protein_pdb = app.PDBFile(protein_pdbfile)\n",
    "        protein_pdbfile.close()\n",
    "        protein_positions, protein_topology, protein_md_topology = protein_pdb.positions, protein_pdb.topology, md.Topology.from_openmm(protein_pdb.topology)\n",
    "        protein_topology = protein_md_topology.to_openmm()\n",
    "        protein_n_atoms = protein_md_topology.n_atoms\n",
    "\n",
    "        # Load the ligand, if present\n",
    "        molecules = []\n",
    "        if ligand_input:\n",
    "            if isinstance(ligand_input, str):\n",
    "                if ligand_input.endswith('.sdf'): # small molecule\n",
    "                        ligand_mol = createOEMolFromSDF(ligand_input, index=ligand_index)\n",
    "                        molecules.append(Molecule.from_openeye(ligand_mol, allow_undefined_stereo=False))\n",
    "                        ligand_positions, ligand_topology = extractPositionsFromOEMol(ligand_mol),  forcefield_generators.generateTopologyFromOEMol(ligand_mol)\n",
    "                        ligand_md_topology = md.Topology.from_openmm(ligand_topology)\n",
    "                        ligand_n_atoms = ligand_md_topology.n_atoms\n",
    "\n",
    "                if ligand_input.endswith('pdb'): # protein\n",
    "                    ligand_pdbfile = open(ligand_input, 'r')\n",
    "                    ligand_pdb = app.PDBFile(ligand_pdbfile)\n",
    "                    ligand_pdbfile.close()\n",
    "                    ligand_positions, ligand_topology, ligand_md_topology = ligand_pdb.positions, ligand_pdb.topology, md.Topology.from_openmm(\n",
    "                        ligand_pdb.topology)\n",
    "                    ligand_n_atoms = ligand_md_topology.n_atoms\n",
    "\n",
    "            elif isinstance(ligand_input, oechem.OEMol): # oemol object\n",
    "                molecules.append(Molecule.from_openeye(ligand_input, allow_undefined_stereo=False))\n",
    "                ligand_positions, ligand_topology = extractPositionsFromOEMol(ligand_input),  forcefield_generators.generateTopologyFromOEMol(ligand_input)\n",
    "                ligand_md_topology = md.Topology.from_openmm(ligand_topology)\n",
    "                ligand_n_atoms = ligand_md_topology.n_atoms\n",
    "\n",
    "            else:\n",
    "                _logger.warning(f'ligand filetype not recognised. Please provide a path to a .pdb or .sdf file')\n",
    "                return\n",
    "\n",
    "            # Now create a complex\n",
    "            complex_md_topology = protein_md_topology.join(ligand_md_topology)\n",
    "            complex_topology = complex_md_topology.to_openmm()\n",
    "            complex_positions = unit.Quantity(np.zeros([protein_n_atoms + ligand_n_atoms, 3]), unit=unit.nanometers)\n",
    "            complex_positions[:protein_n_atoms, :] = protein_positions\n",
    "            complex_positions[protein_n_atoms:, :] = ligand_positions\n",
    "\n",
    "        # Now for a system_generator\n",
    "        self.system_generator = SystemGenerator(forcefields=forcefield_files,\n",
    "                                                barostat=barostat,\n",
    "                                                forcefield_kwargs=forcefield_kwargs,\n",
    "                                                periodic_forcefield_kwargs=periodic_forcefield_kwargs,\n",
    "                                                nonperiodic_forcefield_kwargs=nonperiodic_forcefield_kwargs,\n",
    "                                                small_molecule_forcefield=small_molecule_forcefields,\n",
    "                                                molecules=molecules,\n",
    "                                                cache=None)\n",
    "\n",
    "        # Solvate apo and complex...\n",
    "        apo_input = list(self._solvate(protein_topology, protein_positions, water_model, phase, ionic_strength, apo_box_dimensions))\n",
    "        inputs = [apo_input]\n",
    "        if ligand_input:\n",
    "            inputs.append(self._solvate(complex_topology, complex_positions, water_model, phase, ionic_strength, complex_box_dimensions))\n",
    "\n",
    "        geometry_engine = FFAllAngleGeometryEngine(metadata=None,\n",
    "                                                use_sterics=False,\n",
    "                                                n_bond_divisions=100,\n",
    "                                                n_angle_divisions=180,\n",
    "                                                n_torsion_divisions=360,\n",
    "                                                verbose=True,\n",
    "                                                storage=None,\n",
    "                                                bond_softening_constant=1.0,\n",
    "                                                angle_softening_constant=1.0,\n",
    "                                                neglect_angles = False,\n",
    "                                                use_14_nonbondeds = True)\n",
    "\n",
    "\n",
    "        # Run pipeline...\n",
    "        htfs = []\n",
    "        for (top, pos, sys) in inputs:\n",
    "            point_mutation_engine = PointMutationEngine(wildtype_topology=top,\n",
    "                                                                 system_generator=self.system_generator,\n",
    "                                                                 chain_id=mutation_chain_id, # Denote the chain id allowed to mutate (it's always a string variable)\n",
    "                                                                 max_point_mutants=1,\n",
    "                                                                 residues_allowed_to_mutate=[mutation_residue_id], # The residue ids allowed to mutate\n",
    "                                                                 allowed_mutations=[(mutation_residue_id, proposed_residue)], # The residue ids allowed to mutate with the three-letter code allowed to change\n",
    "                                                                 aggregate=True) # Always allow aggregation\n",
    "\n",
    "            topology_proposal = point_mutation_engine.propose(sys, top)\n",
    "\n",
    "            # Only validate energy bookkeeping if the WT and proposed residues do not involve rings\n",
    "            old_res = [res for res in top.residues() if res.id == mutation_residue_id][0]\n",
    "            validate_bool = False if old_res.name in ring_amino_acids or proposed_residue in ring_amino_acids else True\n",
    "            new_positions, logp_proposal = geometry_engine.propose(topology_proposal, pos, beta,\n",
    "                                                                   validate_energy_bookkeeping=validate_bool)\n",
    "            logp_reverse = geometry_engine.logp_reverse(topology_proposal, new_positions, pos, beta,\n",
    "                                                        validate_energy_bookkeeping=validate_bool)\n",
    "\n",
    "            if rxn_field:\n",
    "                factory = RxnHybridTopologyFactory\n",
    "            else:\n",
    "                if repartitioned_endstate is None:\n",
    "                    factory = HybridTopologyFactory\n",
    "                elif repartitioned_endstate in [0, 1]:\n",
    "                    factory = RepartitionedHybridTopologyFactory\n",
    "\n",
    "            forward_htf = factory(topology_proposal=topology_proposal,\n",
    "                                  current_positions=pos,\n",
    "                                  new_positions=new_positions,\n",
    "                                  use_dispersion_correction=False,\n",
    "                                  functions=None,\n",
    "                                  softcore_alpha=None,\n",
    "                                  bond_softening_constant=1.0,\n",
    "                                  angle_softening_constant=1.0,\n",
    "                                  soften_only_new=False,\n",
    "                                  neglected_new_angle_terms=[],\n",
    "                                  neglected_old_angle_terms=[],\n",
    "                                  softcore_LJ_v2=True,\n",
    "                                  softcore_electrostatics=True,\n",
    "                                  softcore_LJ_v2_alpha=0.85,\n",
    "                                  softcore_electrostatics_alpha=0.3,\n",
    "                                  softcore_sigma_Q=1.0,\n",
    "                                  interpolate_old_and_new_14s=flatten_exceptions,\n",
    "                                  omitted_terms=None,\n",
    "                                  endstate=repartitioned_endstate,\n",
    "                                  flatten_torsions=flatten_torsions,\n",
    "                                  scale_regions=[scale_region])\n",
    "\n",
    "            if not topology_proposal.unique_new_atoms:\n",
    "                assert geometry_engine.forward_final_context_reduced_potential == None, f\"There are no unique new atoms but the geometry_engine's final context reduced potential is not None (i.e. {self._geometry_engine.forward_final_context_reduced_potential})\"\n",
    "                assert geometry_engine.forward_atoms_with_positions_reduced_potential == None, f\"There are no unique new atoms but the geometry_engine's forward atoms-with-positions-reduced-potential in not None (i.e. { self._geometry_engine.forward_atoms_with_positions_reduced_potential})\"\n",
    "            else:\n",
    "                added_valence_energy = geometry_engine.forward_final_context_reduced_potential - geometry_engine.forward_atoms_with_positions_reduced_potential\n",
    "\n",
    "            if not topology_proposal.unique_old_atoms:\n",
    "                assert geometry_engine.reverse_final_context_reduced_potential == None, f\"There are no unique old atoms but the geometry_engine's final context reduced potential is not None (i.e. {self._geometry_engine.reverse_final_context_reduced_potential})\"\n",
    "                assert geometry_engine.reverse_atoms_with_positions_reduced_potential == None, f\"There are no unique old atoms but the geometry_engine's atoms-with-positions-reduced-potential in not None (i.e. { self._geometry_engine.reverse_atoms_with_positions_reduced_potential})\"\n",
    "                subtracted_valence_energy = 0.0\n",
    "            else:\n",
    "                subtracted_valence_energy = geometry_engine.reverse_final_context_reduced_potential - geometry_engine.reverse_atoms_with_positions_reduced_potential\n",
    "\n",
    "\n",
    "            if conduct_endstate_validation and repartitioned_endstate is None:\n",
    "                zero_state_error, one_state_error = validate_endstate_energies(forward_htf._topology_proposal, forward_htf, added_valence_energy, subtracted_valence_energy, beta=beta, ENERGY_THRESHOLD=ENERGY_THRESHOLD)\n",
    "                if zero_state_error > ENERGY_THRESHOLD:\n",
    "                    _logger.warning(f\"Reduced potential difference of the nonalchemical and alchemical Lambda = 0 state is above the threshold ({ENERGY_THRESHOLD}): {zero_state_error}\")\n",
    "                if one_state_error > ENERGY_THRESHOLD:\n",
    "                    _logger.warning(f\"Reduced potential difference of the nonalchemical and alchemical Lambda = 1 state is above the threshold ({ENERGY_THRESHOLD}): {one_state_error}\")\n",
    "            else:\n",
    "                pass\n",
    "\n",
    "            htfs.append(forward_htf)\n",
    "\n",
    "        self.apo_htf = htfs[0]\n",
    "        self.complex_htf = htfs[1] if ligand_input else None"
   ]
  },
  {
   "cell_type": "code",
   "execution_count": 61,
   "id": "6cfd0901",
   "metadata": {
    "scrolled": true
   },
   "outputs": [
    {
     "name": "stderr",
     "output_type": "stream",
     "text": [
      "2021-07-14 16:40:01,938:(267.65s):setup:solvating at 0.05 M using tip3p\n",
      "2021-07-14 16:40:13,227:(11.29s):setup:solvating at 0.05 M using tip3p\n",
      "2021-07-14 16:40:36,279:(23.05s):proposal_generator:\tConducting polymer point mutation proposal...\n",
      "2021-07-14 16:40:47,810:(11.53s):proposal_generator:Using matching_criterion to chose best atom map\n",
      "2021-07-14 16:40:47,829:(0.02s):proposal_generator:Scaffold has symmetry of 0\n",
      "2021-07-14 16:40:47,845:(0.02s):proposal_generator:Two molecules are not similar to have a common scaffold\n",
      "2021-07-14 16:40:47,848:(0.00s):proposal_generator:Proceeding with direct mapping of molecules, but please check atom mapping and the geometry of the ligands.\n",
      "2021-07-14 16:40:47,853:(0.01s):proposal_generator:len [{7: 9}, {8: 9}, {9: 9}, {7: 10}, {8: 10}, {9: 10}, {7: 11}, {8: 11}, {9: 11}, {7: 12}, {8: 12}, {9: 12}, {7: 13}, {8: 13}, {9: 13}]\n",
      "2021-07-14 16:40:47,856:(0.00s):proposal_generator:{7: 9}\n",
      "2021-07-14 16:40:47,858:(0.00s):proposal_generator:{8: 9}\n",
      "2021-07-14 16:40:47,861:(0.00s):proposal_generator:{9: 9}\n",
      "2021-07-14 16:40:47,863:(0.00s):proposal_generator:{7: 10}\n",
      "2021-07-14 16:40:47,866:(0.00s):proposal_generator:{8: 10}\n",
      "2021-07-14 16:40:47,868:(0.00s):proposal_generator:{9: 10}\n",
      "2021-07-14 16:40:47,870:(0.00s):proposal_generator:{7: 11}\n",
      "2021-07-14 16:40:47,873:(0.00s):proposal_generator:{8: 11}\n",
      "2021-07-14 16:40:47,875:(0.00s):proposal_generator:{9: 11}\n",
      "2021-07-14 16:40:47,876:(0.00s):proposal_generator:{7: 12}\n",
      "2021-07-14 16:40:47,877:(0.00s):proposal_generator:{8: 12}\n",
      "2021-07-14 16:40:47,878:(0.00s):proposal_generator:{9: 12}\n",
      "2021-07-14 16:40:47,879:(0.00s):proposal_generator:{7: 13}\n",
      "2021-07-14 16:40:47,880:(0.00s):proposal_generator:{8: 13}\n",
      "2021-07-14 16:40:47,889:(0.01s):proposal_generator:{9: 13}\n",
      "2021-07-14 16:40:47,890:(0.00s):proposal_generator:Returning map that best satisfies matching_criterion\n",
      "2021-07-14 16:40:47,891:(0.00s):proposal_generator:Finding best map using matching_criterion name\n",
      "2021-07-14 16:40:47,893:(0.00s):proposal_generator:{7: 9}\n",
      "2021-07-14 16:41:07,014:(19.12s):geometry:propose: performing forward proposal\n",
      "2021-07-14 16:41:07,030:(0.02s):geometry:propose: unique new atoms detected; proceeding to _logp_propose...\n",
      "2021-07-14 16:41:07,032:(0.00s):geometry:Conducting forward proposal...\n",
      "2021-07-14 16:41:07,035:(0.00s):geometry:Computing proposal order with NetworkX...\n",
      "2021-07-14 16:41:07,079:(0.04s):geometry:number of atoms to be placed: 4\n",
      "2021-07-14 16:41:07,095:(0.02s):geometry:Atom index proposal order is [673, 677, 676, 678]\n",
      "2021-07-14 16:41:07,097:(0.00s):geometry:omitted_bonds: []\n",
      "2021-07-14 16:41:07,099:(0.00s):geometry:direction of proposal is forward; creating atoms_with_positions and new positions from old system/topology...\n",
      "2021-07-14 16:41:12,281:(5.18s):geometry:creating growth system...\n",
      "2021-07-14 16:41:13,841:(1.56s):geometry:\tcreating bond force...\n",
      "2021-07-14 16:41:13,851:(0.01s):geometry:\tthere are 733 bonds in reference force.\n",
      "2021-07-14 16:41:13,875:(0.02s):geometry:\tcreating angle force...\n",
      "2021-07-14 16:41:13,881:(0.01s):geometry:\tthere are 2628 angles in reference force.\n",
      "2021-07-14 16:41:13,957:(0.08s):geometry:\tcreating torsion force...\n",
      "2021-07-14 16:41:13,962:(0.01s):geometry:\tcreating extra torsions force...\n",
      "2021-07-14 16:41:13,965:(0.00s):geometry:\tthere are 4939 torsions in reference force.\n",
      "2021-07-14 16:41:14,048:(0.08s):geometry:\tcreating nonbonded force...\n",
      "2021-07-14 16:41:14,052:(0.00s):geometry:\t\tgrabbing reference nonbonded method, cutoff, switching function, switching distance...\n",
      "2021-07-14 16:41:14,055:(0.00s):geometry:\t\tcreating nonbonded exception force (i.e. custom bond for 1,4s)...\n",
      "2021-07-14 16:41:14,057:(0.00s):geometry:\t\tlooping through exceptions calculating growth indices, and adding appropriate interactions to custom bond force.\n",
      "2021-07-14 16:41:14,059:(0.00s):geometry:\t\tthere are 21290 in the reference Nonbonded force\n",
      "2021-07-14 16:41:15,574:(1.51s):geometry:\t\t\t\t\tchiral atom <Atom 670 (CA) of chain 0 residue 42 (ALA)> with neighbors [<Atom 671 (C) of chain 0 residue 42 (ALA)>, <Atom 673 (CB) of chain 0 residue 42 (ALA)>, <Atom 675 (HA) of chain 0 residue 42 (ALA)>, <Atom 669 (N) of chain 0 residue 42 (ALA)>] is surrounded by 3 core neighbors.  omitting chirality bias torsion\n",
      "2021-07-14 16:41:15,583:(0.01s):geometry:Neglected angle terms : []\n",
      "2021-07-14 16:41:15,585:(0.00s):geometry:omitted_growth_terms: {'bonds': [], 'angles': [], 'torsions': [], '1,4s': []}\n",
      "2021-07-14 16:41:15,587:(0.00s):geometry:extra torsions: {0: (674, 669, 670, 673, [1, Quantity(value=0.9799661941737812, unit=radian), Quantity(value=1200.0, unit=kilocalorie/mole), 1]), 1: (669, 670, 673, 676, [1, Quantity(value=2.105358864604291, unit=radian), Quantity(value=1200.0, unit=kilocalorie/mole), 3]), 2: (669, 670, 673, 677, [1, Quantity(value=-2.0823006129211796, unit=radian), Quantity(value=1200.0, unit=kilocalorie/mole), 2]), 3: (669, 670, 673, 678, [1, Quantity(value=0.018582237407944735, unit=radian), Quantity(value=1200.0, unit=kilocalorie/mole), 4]), 4: (671, 670, 673, 676, [1, Quantity(value=-0.036945135932107576, unit=radian), Quantity(value=1200.0, unit=kilocalorie/mole), 3]), 5: (671, 670, 673, 677, [1, Quantity(value=2.0585806937220097, unit=radian), Quantity(value=1200.0, unit=kilocalorie/mole), 2]), 6: (671, 670, 673, 678, [1, Quantity(value=-2.1237217631284597, unit=radian), Quantity(value=1200.0, unit=kilocalorie/mole), 4]), 7: (675, 670, 673, 676, [1, Quantity(value=-2.119603470065817, unit=radian), Quantity(value=1200.0, unit=kilocalorie/mole), 3]), 8: (675, 670, 673, 677, [1, Quantity(value=-0.024077640411697132, unit=radian), Quantity(value=1200.0, unit=kilocalorie/mole), 2]), 9: (675, 670, 673, 678, [1, Quantity(value=2.0768052099174152, unit=radian), Quantity(value=1200.0, unit=kilocalorie/mole), 4])}\n",
      "2021-07-14 16:41:15,592:(0.00s):geometry:neglected angle terms include []\n",
      "2021-07-14 16:41:15,595:(0.00s):geometry:log probability choice of torsions and atom order: -5.78074351579233\n",
      "2021-07-14 16:41:15,597:(0.00s):geometry:creating platform, integrators, and contexts; setting growth parameter\n"
     ]
    },
    {
     "name": "stdout",
     "output_type": "stream",
     "text": [
      "conducting subsequent work with the following platform: CUDA\n"
     ]
    },
    {
     "name": "stderr",
     "output_type": "stream",
     "text": [
      "2021-07-14 16:41:17,352:(1.76s):geometry:setting atoms_with_positions context new positions\n"
     ]
    },
    {
     "name": "stdout",
     "output_type": "stream",
     "text": [
      "conducting subsequent work with the following platform: CUDA\n"
     ]
    },
    {
     "name": "stderr",
     "output_type": "stream",
     "text": [
      "2021-07-14 16:41:19,178:(1.83s):geometry:There are 4 new atoms\n",
      "2021-07-14 16:41:19,191:(0.01s):geometry:\treduced angle potential = 0.05740176674496467.\n",
      "2021-07-14 16:41:19,748:(0.56s):geometry:\treduced angle potential = 0.0493543421430842.\n",
      "2021-07-14 16:41:20,286:(0.54s):geometry:\treduced angle potential = 0.19011523502542316.\n",
      "2021-07-14 16:41:20,836:(0.55s):geometry:\treduced angle potential = 0.9835614087005569.\n",
      "2021-07-14 16:41:22,296:(1.46s):geometry:\tbeginning construction of no_nonbonded final system...\n",
      "2021-07-14 16:41:22,300:(0.00s):geometry:\tinitial no-nonbonded final system forces ['HarmonicBondForce', 'HarmonicAngleForce', 'PeriodicTorsionForce', 'NonbondedForce', 'MonteCarloBarostat']\n",
      "2021-07-14 16:41:25,849:(3.55s):geometry:\tfinal no-nonbonded final system forces dict_keys(['HarmonicBondForce', 'HarmonicAngleForce', 'PeriodicTorsionForce', 'NonbondedForce'])\n",
      "2021-07-14 16:41:25,854:(0.00s):geometry:\tthere are 733 bond forces in the no-nonbonded final system\n",
      "2021-07-14 16:41:25,857:(0.00s):geometry:\tthere are 2628 angle forces in the no-nonbonded final system\n",
      "2021-07-14 16:41:25,860:(0.00s):geometry:\tthere are 4939 torsion forces in the no-nonbonded final system\n",
      "2021-07-14 16:41:25,862:(0.00s):geometry:forward final system defined with 0 neglected angles.\n"
     ]
    },
    {
     "name": "stdout",
     "output_type": "stream",
     "text": [
      "conducting subsequent work with the following platform: CUDA\n",
      "conducting subsequent work with the following platform: CUDA\n"
     ]
    },
    {
     "name": "stderr",
     "output_type": "stream",
     "text": [
      "2021-07-14 16:41:31,726:(5.86s):geometry:total reduced potential before atom placement: 2279.236671135735\n"
     ]
    },
    {
     "name": "stdout",
     "output_type": "stream",
     "text": [
      "conducting subsequent work with the following platform: CUDA\n",
      "conducting subsequent work with the following platform: CUDA\n",
      "conducting subsequent work with the following platform: CUDA\n"
     ]
    },
    {
     "name": "stderr",
     "output_type": "stream",
     "text": [
      "2021-07-14 16:41:37,503:(5.78s):geometry:total reduced energy added from growth system: 698.5552026812542\n",
      "2021-07-14 16:41:37,511:(0.01s):geometry:final reduced energy 2977.791873636705\n",
      "2021-07-14 16:41:37,532:(0.02s):geometry:sum of energies: 2977.791873816989\n",
      "2021-07-14 16:41:37,535:(0.00s):geometry:magnitude of difference in the energies: 1.802840188247501e-07\n",
      "2021-07-14 16:41:37,538:(0.00s):geometry:Final logp_proposal: 33.35503739502356\n"
     ]
    },
    {
     "name": "stdout",
     "output_type": "stream",
     "text": [
      "added energy components: [('CustomBondForce', 0.9985486001481547), ('CustomAngleForce', 193.59690279107826), ('CustomTorsionForce', 11.088544154179127), ('CustomBondForce', 492.87120713584875)]\n"
     ]
    },
    {
     "name": "stderr",
     "output_type": "stream",
     "text": [
      "2021-07-14 16:41:38,006:(0.47s):geometry:logp_reverse: performing reverse proposal\n",
      "2021-07-14 16:41:38,017:(0.01s):geometry:logp_reverse: unique new atoms detected; proceeding to _logp_propose...\n",
      "2021-07-14 16:41:38,020:(0.00s):geometry:Conducting forward proposal...\n",
      "2021-07-14 16:41:38,023:(0.00s):geometry:Computing proposal order with NetworkX...\n",
      "2021-07-14 16:41:38,088:(0.07s):geometry:number of atoms to be placed: 8\n",
      "2021-07-14 16:41:38,097:(0.01s):geometry:Atom index proposal order is [673, 674, 675, 682, 679, 678, 680, 681]\n",
      "2021-07-14 16:41:38,100:(0.00s):geometry:omitted_bonds: []\n",
      "2021-07-14 16:41:38,102:(0.00s):geometry:direction of proposal is reverse; creating atoms_with_positions from old system/topology\n",
      "2021-07-14 16:41:43,169:(5.07s):geometry:creating growth system...\n",
      "2021-07-14 16:41:45,068:(1.90s):geometry:\tcreating bond force...\n",
      "2021-07-14 16:41:45,077:(0.01s):geometry:\tthere are 735 bonds in reference force.\n",
      "2021-07-14 16:41:45,103:(0.03s):geometry:\tcreating angle force...\n",
      "2021-07-14 16:41:45,108:(0.00s):geometry:\tthere are 2635 angles in reference force.\n",
      "2021-07-14 16:41:45,192:(0.08s):geometry:\tcreating torsion force...\n",
      "2021-07-14 16:41:45,195:(0.00s):geometry:\tcreating extra torsions force...\n",
      "2021-07-14 16:41:45,199:(0.00s):geometry:\tthere are 4969 torsions in reference force.\n",
      "2021-07-14 16:41:45,291:(0.09s):geometry:\tcreating nonbonded force...\n",
      "2021-07-14 16:41:45,298:(0.01s):geometry:\t\tgrabbing reference nonbonded method, cutoff, switching function, switching distance...\n",
      "2021-07-14 16:41:45,301:(0.00s):geometry:\t\tcreating nonbonded exception force (i.e. custom bond for 1,4s)...\n",
      "2021-07-14 16:41:45,303:(0.00s):geometry:\t\tlooping through exceptions calculating growth indices, and adding appropriate interactions to custom bond force.\n",
      "2021-07-14 16:41:45,306:(0.00s):geometry:\t\tthere are 21313 in the reference Nonbonded force\n",
      "2021-07-14 16:41:46,864:(1.56s):geometry:\t\t\t\t\tchiral atom <Atom 670 (CA) of chain 0 residue 42 (THR)> with neighbors [<Atom 671 (C) of chain 0 residue 42 (THR)>, <Atom 673 (CB) of chain 0 residue 42 (THR)>, <Atom 677 (HA) of chain 0 residue 42 (THR)>, <Atom 669 (N) of chain 0 residue 42 (THR)>] is surrounded by 3 core neighbors.  omitting chirality bias torsion\n",
      "2021-07-14 16:41:46,868:(0.00s):geometry:Neglected angle terms : []\n",
      "2021-07-14 16:41:46,884:(0.02s):geometry:omitted_growth_terms: {'bonds': [], 'angles': [], 'torsions': [], '1,4s': []}\n",
      "2021-07-14 16:41:46,887:(0.00s):geometry:extra torsions: {0: (676, 669, 670, 673, [1, Quantity(value=0.9900002084555819, unit=radian), Quantity(value=1200.0, unit=kilocalorie/mole), 1]), 1: (679, 674, 673, 670, [1, Quantity(value=-0.07858019216845058, unit=radian), Quantity(value=1200.0, unit=kilocalorie/mole), 5]), 2: (679, 674, 673, 675, [1, Quantity(value=2.118586571250296, unit=radian), Quantity(value=1200.0, unit=kilocalorie/mole), 5]), 3: (679, 674, 673, 678, [1, Quantity(value=-2.149781203448759, unit=radian), Quantity(value=1200.0, unit=kilocalorie/mole), 6]), 4: (670, 673, 675, 682, [1, Quantity(value=-2.1249532223845904, unit=radian), Quantity(value=1200.0, unit=kilocalorie/mole), 4]), 5: (670, 673, 675, 681, [1, Quantity(value=2.0543043017157916, unit=radian), Quantity(value=1200.0, unit=kilocalorie/mole), 8]), 6: (670, 673, 675, 680, [1, Quantity(value=-0.02223392579985184, unit=radian), Quantity(value=1200.0, unit=kilocalorie/mole), 7]), 7: (674, 673, 675, 682, [1, Quantity(value=2.0255587336734213, unit=radian), Quantity(value=1200.0, unit=kilocalorie/mole), 4]), 8: (674, 673, 675, 681, [1, Quantity(value=-0.07836904940578293, unit=radian), Quantity(value=1200.0, unit=kilocalorie/mole), 8]), 9: (674, 673, 675, 680, [1, Quantity(value=-2.154907276921426, unit=radian), Quantity(value=1200.0, unit=kilocalorie/mole), 7]), 10: (678, 673, 675, 682, [1, Quantity(value=0.007583009583349565, unit=radian), Quantity(value=1200.0, unit=kilocalorie/mole), 6]), 11: (678, 673, 675, 681, [1, Quantity(value=-2.096344773495849, unit=radian), Quantity(value=1200.0, unit=kilocalorie/mole), 8]), 12: (678, 673, 675, 680, [1, Quantity(value=2.1103023061680943, unit=radian), Quantity(value=1200.0, unit=kilocalorie/mole), 7]), 13: (674, 673, 670, 675, [1, Quantity(value=-1.0655064807976995, unit=radian), Quantity(value=1200.0, unit=kilocalorie/mole), 3])}\n",
      "2021-07-14 16:41:46,890:(0.00s):geometry:neglected angle terms include []\n",
      "2021-07-14 16:41:46,892:(0.00s):geometry:log probability choice of torsions and atom order: -13.371595639480912\n",
      "2021-07-14 16:41:46,895:(0.00s):geometry:creating platform, integrators, and contexts; setting growth parameter\n"
     ]
    },
    {
     "name": "stdout",
     "output_type": "stream",
     "text": [
      "conducting subsequent work with the following platform: CUDA\n"
     ]
    },
    {
     "name": "stderr",
     "output_type": "stream",
     "text": [
      "2021-07-14 16:41:48,656:(1.76s):geometry:setting atoms_with_positions context old positions\n"
     ]
    },
    {
     "name": "stdout",
     "output_type": "stream",
     "text": [
      "conducting subsequent work with the following platform: CUDA\n"
     ]
    },
    {
     "name": "stderr",
     "output_type": "stream",
     "text": [
      "2021-07-14 16:41:50,616:(1.96s):geometry:There are 8 new atoms\n",
      "2021-07-14 16:41:50,628:(0.01s):geometry:\treduced angle potential = 0.1817144363741264.\n",
      "2021-07-14 16:41:51,136:(0.51s):geometry:\treduced angle potential = 0.1536280916466212.\n",
      "2021-07-14 16:41:51,617:(0.48s):geometry:\treduced angle potential = 0.2257125237447829.\n",
      "2021-07-14 16:41:52,096:(0.48s):geometry:\treduced angle potential = 0.25876654048332753.\n",
      "2021-07-14 16:41:52,657:(0.56s):geometry:\treduced angle potential = 0.0066955214510641915.\n",
      "2021-07-14 16:41:53,126:(0.47s):geometry:\treduced angle potential = 0.00589659951395519.\n",
      "2021-07-14 16:41:53,621:(0.50s):geometry:\treduced angle potential = 0.023352265895513123.\n",
      "2021-07-14 16:41:54,113:(0.49s):geometry:\treduced angle potential = 0.05657264681042365.\n",
      "2021-07-14 16:41:55,693:(1.58s):geometry:\tbeginning construction of no_nonbonded final system...\n",
      "2021-07-14 16:41:55,701:(0.01s):geometry:\tinitial no-nonbonded final system forces ['HarmonicBondForce', 'HarmonicAngleForce', 'PeriodicTorsionForce', 'NonbondedForce', 'MonteCarloBarostat']\n",
      "2021-07-14 16:41:59,278:(3.58s):geometry:\tfinal no-nonbonded final system forces dict_keys(['HarmonicBondForce', 'HarmonicAngleForce', 'PeriodicTorsionForce', 'NonbondedForce'])\n",
      "2021-07-14 16:41:59,286:(0.01s):geometry:\tthere are 735 bond forces in the no-nonbonded final system\n",
      "2021-07-14 16:41:59,295:(0.01s):geometry:\tthere are 2635 angle forces in the no-nonbonded final system\n",
      "2021-07-14 16:41:59,297:(0.00s):geometry:\tthere are 4969 torsion forces in the no-nonbonded final system\n",
      "2021-07-14 16:41:59,299:(0.00s):geometry:reverse final system defined with 0 neglected angles.\n"
     ]
    },
    {
     "name": "stdout",
     "output_type": "stream",
     "text": [
      "conducting subsequent work with the following platform: CUDA\n",
      "conducting subsequent work with the following platform: CUDA\n"
     ]
    },
    {
     "name": "stderr",
     "output_type": "stream",
     "text": [
      "2021-07-14 16:42:04,517:(5.22s):geometry:total reduced potential before atom placement: 2279.2366360388532\n"
     ]
    },
    {
     "name": "stdout",
     "output_type": "stream",
     "text": [
      "conducting subsequent work with the following platform: CUDA\n",
      "conducting subsequent work with the following platform: CUDA\n",
      "conducting subsequent work with the following platform: CUDA\n"
     ]
    },
    {
     "name": "stderr",
     "output_type": "stream",
     "text": [
      "2021-07-14 16:42:08,670:(4.15s):geometry:total reduced energy added from growth system: -62.3900963283472\n",
      "2021-07-14 16:42:08,674:(0.00s):geometry:final reduced energy 2216.846539716323\n",
      "2021-07-14 16:42:08,676:(0.00s):geometry:sum of energies: 2216.846539710506\n",
      "2021-07-14 16:42:08,679:(0.00s):geometry:magnitude of difference in the energies: 5.817099690830219e-09\n",
      "2021-07-14 16:42:08,681:(0.00s):geometry:Final logp_proposal: -9682.00979547113\n"
     ]
    },
    {
     "name": "stdout",
     "output_type": "stream",
     "text": [
      "added energy components: [('CustomBondForce', 0.4083956553523612), ('CustomAngleForce', 1.622079514297996), ('CustomTorsionForce', 17.503137529087592), ('CustomBondForce', -81.92370902708515)]\n"
     ]
    },
    {
     "name": "stderr",
     "output_type": "stream",
     "text": [
      "2021-07-14 16:42:09,004:(0.32s):relative:*** Generating RxnHybridTopologyFactory ***\n",
      "2021-07-14 16:42:09,014:(0.01s):relative:Beginning nonbonded method, total particle, barostat, and exceptions retrieval...\n",
      "2021-07-14 16:42:11,235:(2.22s):relative:Old system forces: dict_keys(['HarmonicBondForce', 'HarmonicAngleForce', 'PeriodicTorsionForce', 'NonbondedForce', 'MonteCarloBarostat'])\n",
      "2021-07-14 16:42:11,239:(0.00s):relative:New system forces: dict_keys(['HarmonicBondForce', 'HarmonicAngleForce', 'PeriodicTorsionForce', 'NonbondedForce', 'MonteCarloBarostat'])\n",
      "2021-07-14 16:42:11,257:(0.02s):relative:No unknown forces.\n",
      "2021-07-14 16:42:11,260:(0.00s):relative:Nonbonded method to be used (i.e. from old system): 4\n",
      "2021-07-14 16:42:11,265:(0.00s):relative:Adding and mapping old atoms to hybrid system...\n",
      "2021-07-14 16:42:11,729:(0.46s):relative:Adding and mapping new atoms to hybrid system...\n",
      "2021-07-14 16:42:11,751:(0.02s):relative:scale_templates: [['nonscale_lambda', 'scale_lambda_0', 'interscale_lambda_0'], ['nonscale_region', 'scale_region_0', 'interscale_region_0']]\n",
      "2021-07-14 16:42:11,753:(0.00s):relative:particle (nonbonded) scale_templates: [['nonscale_lambda', 'scale_lambda_0'], ['nonscale_region1', 'scale_region_01'], ['nonscale_region2', 'scale_region_02']]\n",
      "2021-07-14 16:42:11,756:(0.00s):relative:Added MonteCarloBarostat.\n",
      "2021-07-14 16:42:11,758:(0.00s):relative:getDefaultPeriodicBoxVectors added to hybrid: [Quantity(value=Vec3(x=5.423900000000001, y=0.0, z=0.0), unit=nanometer), Quantity(value=Vec3(x=0.0, y=5.423900000000001, z=0.0), unit=nanometer), Quantity(value=Vec3(x=0.0, y=0.0, z=5.423900000000001), unit=nanometer)]\n",
      "2021-07-14 16:42:11,783:(0.02s):relative:Determined atom classes.\n",
      "2021-07-14 16:42:11,786:(0.00s):relative:Generating old system exceptions dict...\n",
      "2021-07-14 16:42:12,187:(0.40s):relative:Generating new system exceptions dict...\n",
      "2021-07-14 16:42:18,490:(6.30s):relative:Handling constraints...\n",
      "2021-07-14 16:42:19,557:(1.07s):relative:Handling virtual sites...\n",
      "2021-07-14 16:42:19,593:(0.04s):relative:\t_handle_virtual_sites: numVirtualSites: 0\n",
      "2021-07-14 16:42:22,158:(2.57s):relative:hybrid_index_pair (700, 703, 702, 712) was not found in the new_term_collector, but (703, 700, 702, 712) has the same atoms and terms, so (703, 700, 702, 712) will be removed from the new term collector\n",
      "2021-07-14 16:42:22,173:(0.01s):relative:hybrid_index_pair (701, 702, 703, 713) was not found in the new_term_collector, but (702, 701, 703, 713) has the same atoms and terms, so (702, 701, 703, 713) will be removed from the new term collector\n",
      "2021-07-14 16:42:22,180:(0.01s):relative:hybrid_index_pair (750, 754, 752, 762) was not found in the new_term_collector, but (754, 750, 752, 762) has the same atoms and terms, so (754, 750, 752, 762) will be removed from the new term collector\n",
      "2021-07-14 16:42:22,198:(0.02s):relative:hybrid_index_pair (862, 859, 861, 871) was not found in the new_term_collector, but (859, 862, 861, 871) has the same atoms and terms, so (859, 862, 861, 871) will be removed from the new term collector\n",
      "2021-07-14 16:42:22,209:(0.01s):relative:hybrid_index_pair (860, 861, 862, 872) was not found in the new_term_collector, but (861, 860, 862, 872) has the same atoms and terms, so (861, 860, 862, 872) will be removed from the new term collector\n",
      "2021-07-14 16:42:22,225:(0.02s):relative:hybrid_index_pair (903, 913, 905, 912) was not found in the new_term_collector, but (903, 912, 905, 913) has the same atoms and terms, so (903, 912, 905, 913) will be removed from the new term collector\n",
      "2021-07-14 16:42:22,234:(0.01s):relative:hybrid_index_pair (924, 920, 922, 931) was not found in the new_term_collector, but (920, 924, 922, 931) has the same atoms and terms, so (920, 924, 922, 931) will be removed from the new term collector\n",
      "2021-07-14 16:42:22,245:(0.01s):relative:hybrid_index_pair (924, 921, 923, 932) was not found in the new_term_collector, but (921, 924, 923, 932) has the same atoms and terms, so (921, 924, 923, 932) will be removed from the new term collector\n",
      "2021-07-14 16:42:22,260:(0.02s):relative:hybrid_index_pair (923, 922, 924, 933) was not found in the new_term_collector, but (922, 923, 924, 933) has the same atoms and terms, so (922, 923, 924, 933) will be removed from the new term collector\n",
      "2021-07-14 16:42:22,267:(0.01s):relative:hybrid_index_pair (955, 964, 957, 965) was not found in the new_term_collector, but (955, 965, 957, 964) has the same atoms and terms, so (955, 965, 957, 964) will be removed from the new term collector\n",
      "2021-07-14 16:42:22,282:(0.01s):relative:hybrid_index_pair (1069, 1075, 1071, 1074) was not found in the new_term_collector, but (1069, 1074, 1071, 1075) has the same atoms and terms, so (1069, 1074, 1071, 1075) will be removed from the new term collector\n",
      "2021-07-14 16:42:22,298:(0.02s):relative:hybrid_index_pair (1196, 1199, 1198, 1207) was not found in the new_term_collector, but (1199, 1196, 1198, 1207) has the same atoms and terms, so (1199, 1196, 1198, 1207) will be removed from the new term collector\n",
      "2021-07-14 16:42:22,316:(0.02s):relative:hybrid_index_pair (1197, 1198, 1199, 1208) was not found in the new_term_collector, but (1198, 1197, 1199, 1208) has the same atoms and terms, so (1198, 1197, 1199, 1208) will be removed from the new term collector\n",
      "2021-07-14 16:43:44,317:(82.00s):proposal_generator:\tConducting polymer point mutation proposal...\n",
      "2021-07-14 16:44:19,199:(34.88s):proposal_generator:Using matching_criterion to chose best atom map\n",
      "2021-07-14 16:44:19,206:(0.01s):proposal_generator:Scaffold has symmetry of 0\n",
      "2021-07-14 16:44:19,209:(0.00s):proposal_generator:Two molecules are not similar to have a common scaffold\n",
      "2021-07-14 16:44:19,211:(0.00s):proposal_generator:Proceeding with direct mapping of molecules, but please check atom mapping and the geometry of the ligands.\n",
      "2021-07-14 16:44:19,216:(0.00s):proposal_generator:len [{7: 9}, {8: 9}, {9: 9}, {7: 10}, {8: 10}, {9: 10}, {7: 11}, {8: 11}, {9: 11}, {7: 12}, {8: 12}, {9: 12}, {7: 13}, {8: 13}, {9: 13}]\n",
      "2021-07-14 16:44:19,218:(0.00s):proposal_generator:{7: 9}\n",
      "2021-07-14 16:44:19,221:(0.00s):proposal_generator:{8: 9}\n",
      "2021-07-14 16:44:19,223:(0.00s):proposal_generator:{9: 9}\n",
      "2021-07-14 16:44:19,226:(0.00s):proposal_generator:{7: 10}\n",
      "2021-07-14 16:44:19,228:(0.00s):proposal_generator:{8: 10}\n",
      "2021-07-14 16:44:19,230:(0.00s):proposal_generator:{9: 10}\n",
      "2021-07-14 16:44:19,233:(0.00s):proposal_generator:{7: 11}\n",
      "2021-07-14 16:44:19,235:(0.00s):proposal_generator:{8: 11}\n",
      "2021-07-14 16:44:19,237:(0.00s):proposal_generator:{9: 11}\n",
      "2021-07-14 16:44:19,238:(0.00s):proposal_generator:{7: 12}\n",
      "2021-07-14 16:44:19,241:(0.00s):proposal_generator:{8: 12}\n",
      "2021-07-14 16:44:19,242:(0.00s):proposal_generator:{9: 12}\n",
      "2021-07-14 16:44:19,242:(0.00s):proposal_generator:{7: 13}\n",
      "2021-07-14 16:44:19,243:(0.00s):proposal_generator:{8: 13}\n",
      "2021-07-14 16:44:19,244:(0.00s):proposal_generator:{9: 13}\n",
      "2021-07-14 16:44:19,245:(0.00s):proposal_generator:Returning map that best satisfies matching_criterion\n",
      "2021-07-14 16:44:19,246:(0.00s):proposal_generator:Finding best map using matching_criterion name\n",
      "2021-07-14 16:44:19,248:(0.00s):proposal_generator:{7: 9}\n",
      "2021-07-14 16:45:12,228:(52.98s):geometry:propose: performing forward proposal\n",
      "2021-07-14 16:45:12,244:(0.02s):geometry:propose: unique new atoms detected; proceeding to _logp_propose...\n",
      "2021-07-14 16:45:12,246:(0.00s):geometry:Conducting forward proposal...\n",
      "2021-07-14 16:45:12,249:(0.00s):geometry:Computing proposal order with NetworkX...\n",
      "2021-07-14 16:45:12,364:(0.12s):geometry:number of atoms to be placed: 4\n",
      "2021-07-14 16:45:12,367:(0.00s):geometry:Atom index proposal order is [673, 677, 676, 678]\n",
      "2021-07-14 16:45:12,370:(0.00s):geometry:omitted_bonds: []\n",
      "2021-07-14 16:45:12,372:(0.00s):geometry:direction of proposal is forward; creating atoms_with_positions and new positions from old system/topology...\n",
      "2021-07-14 16:45:22,886:(10.51s):geometry:creating growth system...\n",
      "2021-07-14 16:45:25,983:(3.10s):geometry:\tcreating bond force...\n",
      "2021-07-14 16:45:25,989:(0.01s):geometry:\tthere are 1622 bonds in reference force.\n",
      "2021-07-14 16:45:26,046:(0.06s):geometry:\tcreating angle force...\n",
      "2021-07-14 16:45:26,054:(0.01s):geometry:\tthere are 5730 angles in reference force.\n"
     ]
    },
    {
     "name": "stderr",
     "output_type": "stream",
     "text": [
      "2021-07-14 16:45:26,217:(0.16s):geometry:\tcreating torsion force...\n",
      "2021-07-14 16:45:26,227:(0.01s):geometry:\tcreating extra torsions force...\n",
      "2021-07-14 16:45:26,229:(0.00s):geometry:\tthere are 10792 torsions in reference force.\n",
      "2021-07-14 16:45:26,405:(0.18s):geometry:\tcreating nonbonded force...\n",
      "2021-07-14 16:45:26,413:(0.01s):geometry:\t\tgrabbing reference nonbonded method, cutoff, switching function, switching distance...\n",
      "2021-07-14 16:45:26,416:(0.00s):geometry:\t\tcreating nonbonded exception force (i.e. custom bond for 1,4s)...\n",
      "2021-07-14 16:45:26,419:(0.00s):geometry:\t\tlooping through exceptions calculating growth indices, and adding appropriate interactions to custom bond force.\n",
      "2021-07-14 16:45:26,421:(0.00s):geometry:\t\tthere are 43478 in the reference Nonbonded force\n",
      "2021-07-14 16:45:29,544:(3.12s):geometry:\t\t\t\t\tchiral atom <Atom 670 (CA) of chain 0 residue 42 (ALA)> with neighbors [<Atom 671 (C) of chain 0 residue 42 (ALA)>, <Atom 673 (CB) of chain 0 residue 42 (ALA)>, <Atom 675 (HA) of chain 0 residue 42 (ALA)>, <Atom 669 (N) of chain 0 residue 42 (ALA)>] is surrounded by 3 core neighbors.  omitting chirality bias torsion\n",
      "2021-07-14 16:45:29,548:(0.00s):geometry:Neglected angle terms : []\n",
      "2021-07-14 16:45:29,553:(0.00s):geometry:omitted_growth_terms: {'bonds': [], 'angles': [], 'torsions': [], '1,4s': []}\n",
      "2021-07-14 16:45:29,556:(0.00s):geometry:extra torsions: {0: (674, 669, 670, 673, [1, Quantity(value=0.9799661941737812, unit=radian), Quantity(value=1200.0, unit=kilocalorie/mole), 1]), 1: (669, 670, 673, 676, [1, Quantity(value=2.105358864604291, unit=radian), Quantity(value=1200.0, unit=kilocalorie/mole), 3]), 2: (669, 670, 673, 677, [1, Quantity(value=-2.0823006129211796, unit=radian), Quantity(value=1200.0, unit=kilocalorie/mole), 2]), 3: (669, 670, 673, 678, [1, Quantity(value=0.018582237407944735, unit=radian), Quantity(value=1200.0, unit=kilocalorie/mole), 4]), 4: (671, 670, 673, 676, [1, Quantity(value=-0.036945135932107576, unit=radian), Quantity(value=1200.0, unit=kilocalorie/mole), 3]), 5: (671, 670, 673, 677, [1, Quantity(value=2.0585806937220097, unit=radian), Quantity(value=1200.0, unit=kilocalorie/mole), 2]), 6: (671, 670, 673, 678, [1, Quantity(value=-2.1237217631284597, unit=radian), Quantity(value=1200.0, unit=kilocalorie/mole), 4]), 7: (675, 670, 673, 676, [1, Quantity(value=-2.119603470065817, unit=radian), Quantity(value=1200.0, unit=kilocalorie/mole), 3]), 8: (675, 670, 673, 677, [1, Quantity(value=-0.024077640411697132, unit=radian), Quantity(value=1200.0, unit=kilocalorie/mole), 2]), 9: (675, 670, 673, 678, [1, Quantity(value=2.0768052099174152, unit=radian), Quantity(value=1200.0, unit=kilocalorie/mole), 4])}\n",
      "2021-07-14 16:45:29,559:(0.00s):geometry:neglected angle terms include []\n",
      "2021-07-14 16:45:29,562:(0.00s):geometry:log probability choice of torsions and atom order: -5.78074351579233\n",
      "2021-07-14 16:45:29,568:(0.01s):geometry:creating platform, integrators, and contexts; setting growth parameter\n"
     ]
    },
    {
     "name": "stdout",
     "output_type": "stream",
     "text": [
      "conducting subsequent work with the following platform: CUDA\n"
     ]
    },
    {
     "name": "stderr",
     "output_type": "stream",
     "text": [
      "2021-07-14 16:45:31,657:(2.09s):geometry:setting atoms_with_positions context new positions\n"
     ]
    },
    {
     "name": "stdout",
     "output_type": "stream",
     "text": [
      "conducting subsequent work with the following platform: CUDA\n"
     ]
    },
    {
     "name": "stderr",
     "output_type": "stream",
     "text": [
      "2021-07-14 16:45:34,240:(2.58s):geometry:There are 4 new atoms\n",
      "2021-07-14 16:45:34,263:(0.02s):geometry:\treduced angle potential = 0.04195053048981553.\n",
      "2021-07-14 16:45:35,200:(0.94s):geometry:\treduced angle potential = 0.0405408038434589.\n",
      "2021-07-14 16:45:36,115:(0.91s):geometry:\treduced angle potential = 0.024760685388416904.\n",
      "2021-07-14 16:45:37,041:(0.93s):geometry:\treduced angle potential = 0.11585236230273496.\n",
      "2021-07-14 16:45:39,845:(2.80s):geometry:\tbeginning construction of no_nonbonded final system...\n",
      "2021-07-14 16:45:39,852:(0.01s):geometry:\tinitial no-nonbonded final system forces ['HarmonicBondForce', 'HarmonicAngleForce', 'PeriodicTorsionForce', 'NonbondedForce', 'MonteCarloBarostat']\n",
      "2021-07-14 16:45:47,442:(7.59s):geometry:\tfinal no-nonbonded final system forces dict_keys(['HarmonicBondForce', 'HarmonicAngleForce', 'PeriodicTorsionForce', 'NonbondedForce'])\n",
      "2021-07-14 16:45:47,453:(0.01s):geometry:\tthere are 1622 bond forces in the no-nonbonded final system\n",
      "2021-07-14 16:45:47,456:(0.00s):geometry:\tthere are 5730 angle forces in the no-nonbonded final system\n",
      "2021-07-14 16:45:47,459:(0.00s):geometry:\tthere are 10792 torsion forces in the no-nonbonded final system\n",
      "2021-07-14 16:45:47,461:(0.00s):geometry:forward final system defined with 0 neglected angles.\n"
     ]
    },
    {
     "name": "stdout",
     "output_type": "stream",
     "text": [
      "conducting subsequent work with the following platform: CUDA\n",
      "conducting subsequent work with the following platform: CUDA\n"
     ]
    },
    {
     "name": "stderr",
     "output_type": "stream",
     "text": [
      "2021-07-14 16:45:54,505:(7.04s):geometry:total reduced potential before atom placement: 4792.467751597958\n"
     ]
    },
    {
     "name": "stdout",
     "output_type": "stream",
     "text": [
      "conducting subsequent work with the following platform: CUDA\n",
      "conducting subsequent work with the following platform: CUDA\n",
      "conducting subsequent work with the following platform: CUDA\n"
     ]
    },
    {
     "name": "stderr",
     "output_type": "stream",
     "text": [
      "2021-07-14 16:45:58,713:(4.21s):geometry:total reduced energy added from growth system: 552.5313938488989\n",
      "2021-07-14 16:45:58,717:(0.00s):geometry:final reduced energy 5344.999144671847\n",
      "2021-07-14 16:45:58,720:(0.00s):geometry:sum of energies: 5344.999145446857\n",
      "2021-07-14 16:45:58,722:(0.00s):geometry:magnitude of difference in the energies: 7.750104487058707e-07\n",
      "2021-07-14 16:45:58,725:(0.00s):geometry:Final logp_proposal: 35.617939738919944\n"
     ]
    },
    {
     "name": "stdout",
     "output_type": "stream",
     "text": [
      "added energy components: [('CustomBondForce', 0.016163129790574673), ('CustomAngleForce', 186.69274051686517), ('CustomTorsionForce', 10.853571993013363), ('CustomBondForce', 354.96891820922986)]\n"
     ]
    },
    {
     "name": "stderr",
     "output_type": "stream",
     "text": [
      "2021-07-14 16:45:59,068:(0.34s):geometry:logp_reverse: performing reverse proposal\n",
      "2021-07-14 16:45:59,076:(0.01s):geometry:logp_reverse: unique new atoms detected; proceeding to _logp_propose...\n",
      "2021-07-14 16:45:59,079:(0.00s):geometry:Conducting forward proposal...\n",
      "2021-07-14 16:45:59,082:(0.00s):geometry:Computing proposal order with NetworkX...\n",
      "2021-07-14 16:45:59,216:(0.13s):geometry:number of atoms to be placed: 8\n",
      "2021-07-14 16:45:59,220:(0.00s):geometry:Atom index proposal order is [673, 674, 675, 681, 678, 680, 682, 679]\n",
      "2021-07-14 16:45:59,222:(0.00s):geometry:omitted_bonds: []\n",
      "2021-07-14 16:45:59,224:(0.00s):geometry:direction of proposal is reverse; creating atoms_with_positions from old system/topology\n",
      "2021-07-14 16:46:14,532:(15.31s):geometry:creating growth system...\n",
      "2021-07-14 16:46:17,462:(2.93s):geometry:\tcreating bond force...\n",
      "2021-07-14 16:46:17,469:(0.01s):geometry:\tthere are 1624 bonds in reference force.\n",
      "2021-07-14 16:46:17,525:(0.06s):geometry:\tcreating angle force...\n",
      "2021-07-14 16:46:17,535:(0.01s):geometry:\tthere are 5737 angles in reference force.\n",
      "2021-07-14 16:46:17,699:(0.16s):geometry:\tcreating torsion force...\n",
      "2021-07-14 16:46:17,704:(0.00s):geometry:\tcreating extra torsions force...\n",
      "2021-07-14 16:46:17,706:(0.00s):geometry:\tthere are 10822 torsions in reference force.\n",
      "2021-07-14 16:46:17,889:(0.18s):geometry:\tcreating nonbonded force...\n",
      "2021-07-14 16:46:17,899:(0.01s):geometry:\t\tgrabbing reference nonbonded method, cutoff, switching function, switching distance...\n",
      "2021-07-14 16:46:17,901:(0.00s):geometry:\t\tcreating nonbonded exception force (i.e. custom bond for 1,4s)...\n",
      "2021-07-14 16:46:17,904:(0.00s):geometry:\t\tlooping through exceptions calculating growth indices, and adding appropriate interactions to custom bond force.\n",
      "2021-07-14 16:46:17,906:(0.00s):geometry:\t\tthere are 43501 in the reference Nonbonded force\n",
      "2021-07-14 16:46:21,037:(3.13s):geometry:\t\t\t\t\tchiral atom <Atom 670 (CA) of chain 0 residue 42 (THR)> with neighbors [<Atom 671 (C) of chain 0 residue 42 (THR)>, <Atom 673 (CB) of chain 0 residue 42 (THR)>, <Atom 677 (HA) of chain 0 residue 42 (THR)>, <Atom 669 (N) of chain 0 residue 42 (THR)>] is surrounded by 3 core neighbors.  omitting chirality bias torsion\n",
      "2021-07-14 16:46:21,041:(0.00s):geometry:Neglected angle terms : []\n",
      "2021-07-14 16:46:21,043:(0.00s):geometry:omitted_growth_terms: {'bonds': [], 'angles': [], 'torsions': [], '1,4s': []}\n",
      "2021-07-14 16:46:21,046:(0.00s):geometry:extra torsions: {0: (676, 669, 670, 673, [1, Quantity(value=0.9900002084555819, unit=radian), Quantity(value=1200.0, unit=kilocalorie/mole), 1]), 1: (679, 674, 673, 670, [1, Quantity(value=-0.07858019216845058, unit=radian), Quantity(value=1200.0, unit=kilocalorie/mole), 8]), 2: (679, 674, 673, 675, [1, Quantity(value=2.118586571250296, unit=radian), Quantity(value=1200.0, unit=kilocalorie/mole), 8]), 3: (679, 674, 673, 678, [1, Quantity(value=-2.149781203448759, unit=radian), Quantity(value=1200.0, unit=kilocalorie/mole), 8]), 4: (670, 673, 675, 682, [1, Quantity(value=-2.1249532223845904, unit=radian), Quantity(value=1200.0, unit=kilocalorie/mole), 7]), 5: (670, 673, 675, 681, [1, Quantity(value=2.0543043017157916, unit=radian), Quantity(value=1200.0, unit=kilocalorie/mole), 4]), 6: (670, 673, 675, 680, [1, Quantity(value=-0.02223392579985184, unit=radian), Quantity(value=1200.0, unit=kilocalorie/mole), 6]), 7: (674, 673, 675, 682, [1, Quantity(value=2.0255587336734213, unit=radian), Quantity(value=1200.0, unit=kilocalorie/mole), 7]), 8: (674, 673, 675, 681, [1, Quantity(value=-0.07836904940578293, unit=radian), Quantity(value=1200.0, unit=kilocalorie/mole), 4]), 9: (674, 673, 675, 680, [1, Quantity(value=-2.154907276921426, unit=radian), Quantity(value=1200.0, unit=kilocalorie/mole), 6]), 10: (678, 673, 675, 682, [1, Quantity(value=0.007583009583349565, unit=radian), Quantity(value=1200.0, unit=kilocalorie/mole), 7]), 11: (678, 673, 675, 681, [1, Quantity(value=-2.096344773495849, unit=radian), Quantity(value=1200.0, unit=kilocalorie/mole), 5]), 12: (678, 673, 675, 680, [1, Quantity(value=2.1103023061680943, unit=radian), Quantity(value=1200.0, unit=kilocalorie/mole), 6]), 13: (674, 673, 670, 675, [1, Quantity(value=-1.0655064807976995, unit=radian), Quantity(value=1200.0, unit=kilocalorie/mole), 3])}\n",
      "2021-07-14 16:46:21,049:(0.00s):geometry:neglected angle terms include []\n",
      "2021-07-14 16:46:21,052:(0.00s):geometry:log probability choice of torsions and atom order: -13.371595639480912\n",
      "2021-07-14 16:46:21,054:(0.00s):geometry:creating platform, integrators, and contexts; setting growth parameter\n"
     ]
    },
    {
     "name": "stdout",
     "output_type": "stream",
     "text": [
      "conducting subsequent work with the following platform: CUDA\n"
     ]
    },
    {
     "name": "stderr",
     "output_type": "stream",
     "text": [
      "2021-07-14 16:46:23,165:(2.11s):geometry:setting atoms_with_positions context old positions\n"
     ]
    },
    {
     "name": "stdout",
     "output_type": "stream",
     "text": [
      "conducting subsequent work with the following platform: CUDA\n"
     ]
    },
    {
     "name": "stderr",
     "output_type": "stream",
     "text": [
      "2021-07-14 16:46:26,077:(2.91s):geometry:There are 8 new atoms\n",
      "2021-07-14 16:46:26,093:(0.02s):geometry:\treduced angle potential = 0.005472066865685023.\n",
      "2021-07-14 16:46:27,135:(1.04s):geometry:\treduced angle potential = 0.1536280916466212.\n",
      "2021-07-14 16:46:28,028:(0.89s):geometry:\treduced angle potential = 0.2257125237447829.\n",
      "2021-07-14 16:46:28,765:(0.74s):geometry:\treduced angle potential = 0.05657264681042365.\n",
      "2021-07-14 16:46:29,536:(0.77s):geometry:\treduced angle potential = 0.00589659951395519.\n",
      "2021-07-14 16:46:30,317:(0.78s):geometry:\treduced angle potential = 0.023352265895513123.\n",
      "2021-07-14 16:46:31,088:(0.77s):geometry:\treduced angle potential = 0.25876654048332753.\n",
      "2021-07-14 16:46:31,826:(0.74s):geometry:\treduced angle potential = 0.0066955214510641915.\n",
      "2021-07-14 16:46:34,603:(2.78s):geometry:\tbeginning construction of no_nonbonded final system...\n",
      "2021-07-14 16:46:34,607:(0.00s):geometry:\tinitial no-nonbonded final system forces ['HarmonicBondForce', 'HarmonicAngleForce', 'PeriodicTorsionForce', 'NonbondedForce', 'MonteCarloBarostat']\n",
      "2021-07-14 16:46:42,338:(7.73s):geometry:\tfinal no-nonbonded final system forces dict_keys(['HarmonicBondForce', 'HarmonicAngleForce', 'PeriodicTorsionForce', 'NonbondedForce'])\n",
      "2021-07-14 16:46:42,351:(0.01s):geometry:\tthere are 1624 bond forces in the no-nonbonded final system\n",
      "2021-07-14 16:46:42,359:(0.01s):geometry:\tthere are 5737 angle forces in the no-nonbonded final system\n",
      "2021-07-14 16:46:42,362:(0.00s):geometry:\tthere are 10822 torsion forces in the no-nonbonded final system\n",
      "2021-07-14 16:46:42,365:(0.00s):geometry:reverse final system defined with 0 neglected angles.\n"
     ]
    },
    {
     "name": "stdout",
     "output_type": "stream",
     "text": [
      "conducting subsequent work with the following platform: CUDA\n",
      "conducting subsequent work with the following platform: CUDA\n"
     ]
    },
    {
     "name": "stderr",
     "output_type": "stream",
     "text": [
      "2021-07-14 16:46:49,487:(7.12s):geometry:total reduced potential before atom placement: 4792.467870677297\n"
     ]
    },
    {
     "name": "stdout",
     "output_type": "stream",
     "text": [
      "conducting subsequent work with the following platform: CUDA\n",
      "conducting subsequent work with the following platform: CUDA\n",
      "conducting subsequent work with the following platform: CUDA\n"
     ]
    },
    {
     "name": "stderr",
     "output_type": "stream",
     "text": [
      "2021-07-14 16:46:53,604:(4.12s):geometry:total reduced energy added from growth system: -62.3900963283472\n",
      "2021-07-14 16:46:53,608:(0.00s):geometry:final reduced energy 4730.077774354767\n",
      "2021-07-14 16:46:53,610:(0.00s):geometry:sum of energies: 4730.07777434895\n",
      "2021-07-14 16:46:53,613:(0.00s):geometry:magnitude of difference in the energies: 5.817554438181105e-09\n",
      "2021-07-14 16:46:53,615:(0.00s):geometry:Final logp_proposal: -10174.77849549996\n"
     ]
    },
    {
     "name": "stdout",
     "output_type": "stream",
     "text": [
      "added energy components: [('CustomBondForce', 0.4083956553523612), ('CustomAngleForce', 1.622079514297996), ('CustomTorsionForce', 17.503137529087592), ('CustomBondForce', -81.92370902708515)]\n"
     ]
    },
    {
     "name": "stderr",
     "output_type": "stream",
     "text": [
      "2021-07-14 16:46:53,944:(0.33s):relative:*** Generating RxnHybridTopologyFactory ***\n",
      "2021-07-14 16:46:53,951:(0.01s):relative:Beginning nonbonded method, total particle, barostat, and exceptions retrieval...\n",
      "2021-07-14 16:46:58,190:(4.24s):relative:Old system forces: dict_keys(['HarmonicBondForce', 'HarmonicAngleForce', 'PeriodicTorsionForce', 'NonbondedForce', 'MonteCarloBarostat'])\n",
      "2021-07-14 16:46:58,207:(0.02s):relative:New system forces: dict_keys(['HarmonicBondForce', 'HarmonicAngleForce', 'PeriodicTorsionForce', 'NonbondedForce', 'MonteCarloBarostat'])\n",
      "2021-07-14 16:46:58,211:(0.00s):relative:No unknown forces.\n",
      "2021-07-14 16:46:58,214:(0.00s):relative:Nonbonded method to be used (i.e. from old system): 4\n",
      "2021-07-14 16:46:58,219:(0.00s):relative:Adding and mapping old atoms to hybrid system...\n",
      "2021-07-14 16:46:59,174:(0.96s):relative:Adding and mapping new atoms to hybrid system...\n",
      "2021-07-14 16:46:59,177:(0.00s):relative:scale_templates: [['nonscale_lambda', 'scale_lambda_0', 'interscale_lambda_0'], ['nonscale_region', 'scale_region_0', 'interscale_region_0']]\n",
      "2021-07-14 16:46:59,180:(0.00s):relative:particle (nonbonded) scale_templates: [['nonscale_lambda', 'scale_lambda_0'], ['nonscale_region1', 'scale_region_01'], ['nonscale_region2', 'scale_region_02']]\n",
      "2021-07-14 16:46:59,182:(0.00s):relative:Added MonteCarloBarostat.\n",
      "2021-07-14 16:46:59,185:(0.00s):relative:getDefaultPeriodicBoxVectors added to hybrid: [Quantity(value=Vec3(x=6.7997, y=0.0, z=0.0), unit=nanometer), Quantity(value=Vec3(x=0.0, y=6.7997, z=0.0), unit=nanometer), Quantity(value=Vec3(x=0.0, y=0.0, z=6.7997), unit=nanometer)]\n",
      "2021-07-14 16:46:59,230:(0.04s):relative:Determined atom classes.\n",
      "2021-07-14 16:46:59,246:(0.02s):relative:Generating old system exceptions dict...\n",
      "2021-07-14 16:47:00,069:(0.82s):relative:Generating new system exceptions dict...\n",
      "2021-07-14 16:47:01,306:(1.24s):relative:Handling constraints...\n",
      "2021-07-14 16:47:03,392:(2.09s):relative:Handling virtual sites...\n",
      "2021-07-14 16:47:03,460:(0.07s):relative:\t_handle_virtual_sites: numVirtualSites: 0\n",
      "2021-07-14 16:47:10,472:(7.01s):relative:hybrid_index_pair (700, 703, 702, 712) was not found in the new_term_collector, but (703, 700, 702, 712) has the same atoms and terms, so (703, 700, 702, 712) will be removed from the new term collector\n",
      "2021-07-14 16:47:10,491:(0.02s):relative:hybrid_index_pair (701, 702, 703, 713) was not found in the new_term_collector, but (702, 701, 703, 713) has the same atoms and terms, so (702, 701, 703, 713) will be removed from the new term collector\n",
      "2021-07-14 16:47:10,511:(0.02s):relative:hybrid_index_pair (750, 754, 752, 762) was not found in the new_term_collector, but (754, 750, 752, 762) has the same atoms and terms, so (754, 750, 752, 762) will be removed from the new term collector\n",
      "2021-07-14 16:47:10,532:(0.02s):relative:hybrid_index_pair (862, 859, 861, 871) was not found in the new_term_collector, but (859, 862, 861, 871) has the same atoms and terms, so (859, 862, 861, 871) will be removed from the new term collector\n",
      "2021-07-14 16:47:10,550:(0.02s):relative:hybrid_index_pair (860, 861, 862, 872) was not found in the new_term_collector, but (861, 860, 862, 872) has the same atoms and terms, so (861, 860, 862, 872) will be removed from the new term collector\n",
      "2021-07-14 16:47:10,572:(0.02s):relative:hybrid_index_pair (903, 913, 905, 912) was not found in the new_term_collector, but (903, 912, 905, 913) has the same atoms and terms, so (903, 912, 905, 913) will be removed from the new term collector\n",
      "2021-07-14 16:47:10,591:(0.02s):relative:hybrid_index_pair (924, 920, 922, 931) was not found in the new_term_collector, but (920, 924, 922, 931) has the same atoms and terms, so (920, 924, 922, 931) will be removed from the new term collector\n",
      "2021-07-14 16:47:10,612:(0.02s):relative:hybrid_index_pair (924, 921, 923, 932) was not found in the new_term_collector, but (921, 924, 923, 932) has the same atoms and terms, so (921, 924, 923, 932) will be removed from the new term collector\n",
      "2021-07-14 16:47:10,627:(0.02s):relative:hybrid_index_pair (923, 922, 924, 933) was not found in the new_term_collector, but (922, 923, 924, 933) has the same atoms and terms, so (922, 923, 924, 933) will be removed from the new term collector\n",
      "2021-07-14 16:47:10,648:(0.02s):relative:hybrid_index_pair (955, 964, 957, 965) was not found in the new_term_collector, but (955, 965, 957, 964) has the same atoms and terms, so (955, 965, 957, 964) will be removed from the new term collector\n",
      "2021-07-14 16:47:10,666:(0.02s):relative:hybrid_index_pair (1069, 1075, 1071, 1074) was not found in the new_term_collector, but (1069, 1074, 1071, 1075) has the same atoms and terms, so (1069, 1074, 1071, 1075) will be removed from the new term collector\n",
      "2021-07-14 16:47:10,693:(0.03s):relative:hybrid_index_pair (1196, 1199, 1198, 1207) was not found in the new_term_collector, but (1199, 1196, 1198, 1207) has the same atoms and terms, so (1199, 1196, 1198, 1207) will be removed from the new term collector\n",
      "2021-07-14 16:47:10,713:(0.02s):relative:hybrid_index_pair (1197, 1198, 1199, 1208) was not found in the new_term_collector, but (1198, 1197, 1199, 1208) has the same atoms and terms, so (1198, 1197, 1199, 1208) will be removed from the new term collector\n",
      "2021-07-14 16:47:10,737:(0.02s):relative:hybrid_index_pair (1490, 1498, 1492, 1497) was not found in the new_term_collector, but (1490, 1497, 1492, 1498) has the same atoms and terms, so (1490, 1497, 1492, 1498) will be removed from the new term collector\n",
      "2021-07-14 16:47:10,757:(0.02s):relative:hybrid_index_pair (1523, 1520, 1522, 1531) was not found in the new_term_collector, but (1520, 1523, 1522, 1531) has the same atoms and terms, so (1520, 1523, 1522, 1531) will be removed from the new term collector\n",
      "2021-07-14 16:47:10,772:(0.01s):relative:hybrid_index_pair (1522, 1521, 1523, 1532) was not found in the new_term_collector, but (1521, 1522, 1523, 1532) has the same atoms and terms, so (1521, 1522, 1523, 1532) will be removed from the new term collector\n",
      "2021-07-14 16:47:10,800:(0.03s):relative:hybrid_index_pair (1669, 1666, 1667, 1677) was not found in the new_term_collector, but (1666, 1669, 1667, 1677) has the same atoms and terms, so (1666, 1669, 1667, 1677) will be removed from the new term collector\n",
      "2021-07-14 16:47:10,815:(0.02s):relative:hybrid_index_pair (1670, 1666, 1668, 1678) was not found in the new_term_collector, but (1666, 1670, 1668, 1678) has the same atoms and terms, so (1666, 1670, 1668, 1678) will be removed from the new term collector\n",
      "2021-07-14 16:47:10,837:(0.02s):relative:hybrid_index_pair (1771, 1779, 1773, 1778) was not found in the new_term_collector, but (1771, 1778, 1773, 1779) has the same atoms and terms, so (1771, 1778, 1773, 1779) will be removed from the new term collector\n",
      "2021-07-14 16:47:10,854:(0.02s):relative:hybrid_index_pair (1788, 1785, 1786, 1796) was not found in the new_term_collector, but (1785, 1788, 1786, 1796) has the same atoms and terms, so (1785, 1788, 1786, 1796) will be removed from the new term collector\n",
      "2021-07-14 16:47:10,870:(0.02s):relative:hybrid_index_pair (1789, 1785, 1787, 1797) was not found in the new_term_collector, but (1785, 1789, 1787, 1797) has the same atoms and terms, so (1785, 1789, 1787, 1797) will be removed from the new term collector\n",
      "2021-07-14 16:47:10,901:(0.03s):relative:hybrid_index_pair (1958, 1955, 1957, 1967) was not found in the new_term_collector, but (1955, 1958, 1957, 1967) has the same atoms and terms, so (1955, 1958, 1957, 1967) will be removed from the new term collector\n",
      "2021-07-14 16:47:10,920:(0.02s):relative:hybrid_index_pair (1956, 1957, 1958, 1968) was not found in the new_term_collector, but (1957, 1956, 1958, 1968) has the same atoms and terms, so (1957, 1956, 1958, 1968) will be removed from the new term collector\n",
      "2021-07-14 16:47:10,946:(0.03s):relative:hybrid_index_pair (2244, 2240, 2242, 2251) was not found in the new_term_collector, but (2240, 2244, 2242, 2251) has the same atoms and terms, so (2240, 2244, 2242, 2251) will be removed from the new term collector\n",
      "2021-07-14 16:47:10,966:(0.02s):relative:hybrid_index_pair (2244, 2241, 2243, 2252) was not found in the new_term_collector, but (2241, 2244, 2243, 2252) has the same atoms and terms, so (2241, 2244, 2243, 2252) will be removed from the new term collector\n"
     ]
    },
    {
     "name": "stderr",
     "output_type": "stream",
     "text": [
      "2021-07-14 16:47:10,984:(0.02s):relative:hybrid_index_pair (2243, 2242, 2244, 2253) was not found in the new_term_collector, but (2242, 2243, 2244, 2253) has the same atoms and terms, so (2242, 2243, 2244, 2253) will be removed from the new term collector\n",
      "2021-07-14 16:47:11,004:(0.02s):relative:hybrid_index_pair (2270, 2277, 2272, 2278) was not found in the new_term_collector, but (2270, 2278, 2272, 2277) has the same atoms and terms, so (2270, 2278, 2272, 2277) will be removed from the new term collector\n",
      "2021-07-14 16:47:11,026:(0.02s):relative:hybrid_index_pair (2286, 2288, 2287, 2289) was not found in the new_term_collector, but (2288, 2287, 2286, 2289) has the same atoms and terms, so (2288, 2287, 2286, 2289) will be removed from the new term collector\n",
      "2021-07-14 16:47:11,049:(0.02s):relative:hybrid_index_pair (2436, 2435, 2434, 2437) was not found in the new_term_collector, but (2434, 2436, 2435, 2437) has the same atoms and terms, so (2434, 2436, 2435, 2437) will be removed from the new term collector\n",
      "2021-07-14 16:47:11,067:(0.02s):relative:hybrid_index_pair (2478, 2475, 2477, 2487) was not found in the new_term_collector, but (2475, 2478, 2477, 2487) has the same atoms and terms, so (2475, 2478, 2477, 2487) will be removed from the new term collector\n",
      "2021-07-14 16:47:11,090:(0.02s):relative:hybrid_index_pair (2476, 2477, 2478, 2488) was not found in the new_term_collector, but (2477, 2476, 2478, 2488) has the same atoms and terms, so (2477, 2476, 2478, 2488) will be removed from the new term collector\n",
      "2021-07-14 16:47:11,113:(0.02s):relative:hybrid_index_pair (2588, 2592, 2590, 2600) was not found in the new_term_collector, but (2592, 2588, 2590, 2600) has the same atoms and terms, so (2592, 2588, 2590, 2600) will be removed from the new term collector\n",
      "2021-07-14 16:47:11,130:(0.02s):relative:hybrid_index_pair (2644, 2641, 2642, 2651) was not found in the new_term_collector, but (2641, 2644, 2642, 2651) has the same atoms and terms, so (2641, 2644, 2642, 2651) will be removed from the new term collector\n",
      "2021-07-14 16:47:11,152:(0.02s):relative:hybrid_index_pair (2663, 2665, 2664, 2666) was not found in the new_term_collector, but (2665, 2664, 2663, 2666) has the same atoms and terms, so (2665, 2664, 2663, 2666) will be removed from the new term collector\n",
      "2021-07-14 16:47:11,177:(0.02s):relative:hybrid_index_pair (2787, 2784, 2785, 2795) was not found in the new_term_collector, but (2784, 2787, 2785, 2795) has the same atoms and terms, so (2784, 2787, 2785, 2795) will be removed from the new term collector\n",
      "2021-07-14 16:47:11,195:(0.02s):relative:hybrid_index_pair (2788, 2784, 2786, 2796) was not found in the new_term_collector, but (2784, 2788, 2786, 2796) has the same atoms and terms, so (2784, 2788, 2786, 2796) will be removed from the new term collector\n",
      "2021-07-14 16:47:11,220:(0.02s):relative:hybrid_index_pair (2844, 2847, 2846, 2856) was not found in the new_term_collector, but (2847, 2844, 2846, 2856) has the same atoms and terms, so (2847, 2844, 2846, 2856) will be removed from the new term collector\n",
      "2021-07-14 16:47:11,238:(0.02s):relative:hybrid_index_pair (2845, 2846, 2847, 2857) was not found in the new_term_collector, but (2846, 2845, 2847, 2857) has the same atoms and terms, so (2846, 2845, 2847, 2857) will be removed from the new term collector\n",
      "2021-07-14 16:47:11,258:(0.02s):relative:hybrid_index_pair (2901, 2904, 2902, 2912) was not found in the new_term_collector, but (2904, 2901, 2902, 2912) has the same atoms and terms, so (2904, 2901, 2902, 2912) will be removed from the new term collector\n",
      "2021-07-14 16:47:11,280:(0.02s):relative:hybrid_index_pair (3004, 3001, 3002, 3012) was not found in the new_term_collector, but (3001, 3004, 3002, 3012) has the same atoms and terms, so (3001, 3004, 3002, 3012) will be removed from the new term collector\n",
      "2021-07-14 16:47:11,300:(0.02s):relative:hybrid_index_pair (3023, 3033, 3025, 3032) was not found in the new_term_collector, but (3023, 3032, 3025, 3033) has the same atoms and terms, so (3023, 3032, 3025, 3033) will be removed from the new term collector\n",
      "2021-07-14 16:47:11,324:(0.02s):relative:hybrid_index_pair (3053, 3056, 3054, 3063) was not found in the new_term_collector, but (3056, 3053, 3054, 3063) has the same atoms and terms, so (3056, 3053, 3054, 3063) will be removed from the new term collector\n",
      "2021-07-14 16:47:11,340:(0.02s):relative:hybrid_index_pair (3132, 3131, 3130, 3133) was not found in the new_term_collector, but (3130, 3132, 3131, 3133) has the same atoms and terms, so (3130, 3132, 3131, 3133) will be removed from the new term collector\n"
     ]
    }
   ],
   "source": [
    "solvent_delivery = PointMutationExecutor2(\"../../input/mmc2_barstar.pdb\",\n",
    "                        '1',\n",
    "                        \"42\",\n",
    "                        \"ALA\",\n",
    "                        ligand_input=\"../../input/mmc2_barnase.pdb\",\n",
    "                        ionic_strength=0.05*unit.molar,\n",
    "                        flatten_torsions=True,\n",
    "                        flatten_exceptions=True, \n",
    "                        conduct_endstate_validation=False,\n",
    "                        rxn_field=True\n",
    "                       )"
   ]
  },
  {
   "cell_type": "code",
   "execution_count": 62,
   "id": "067341af",
   "metadata": {},
   "outputs": [],
   "source": [
    "pickle.dump(solvent_delivery.get_apo_htf(), open(\"T42A_apo_scale_region.pickle\", \"wb\" ))\n",
    "pickle.dump(solvent_delivery.get_complex_htf(), open(\"T42A_complex_scale_region.pickle\", \"wb\" ))\n"
   ]
  },
  {
   "cell_type": "markdown",
   "id": "67e841f9",
   "metadata": {},
   "source": [
    "#### Old system HarmonicBondForce vs hybrid system CustomBondForce"
   ]
  },
  {
   "cell_type": "code",
   "execution_count": 63,
   "id": "94ae22f8",
   "metadata": {},
   "outputs": [],
   "source": [
    "# Load htf\n",
    "with open(\"T42A_complex_scale_region.pickle\", \"rb\") as f:\n",
    "    htf = pickle.load(f)"
   ]
  },
  {
   "cell_type": "code",
   "execution_count": 64,
   "id": "ed2cba6b",
   "metadata": {},
   "outputs": [
    {
     "name": "stdout",
     "output_type": "stream",
     "text": [
      "Warning: Returning CPU platform instead of requested platform <simtk.openmm.openmm.Platform; proxy of <Swig Object of type 'OpenMM::Platform *' at 0x2ae70ce2b150> >\n",
      "conducting subsequent work with the following platform: CPU\n",
      "conducting subsequent work with the following platform: CUDA\n",
      "[('HarmonicBondForce', 189.69678123582867), ('HarmonicAngleForce', 791.7783222646883), ('PeriodicTorsionForce', 3830.526380065008), ('NonbondedForce', -26748.767996075327), ('AndersenThermostat', 0.0), ('MonteCarloBarostat', 0.0)]\n",
      "conducting subsequent work with the following platform: CUDA\n",
      "[('CustomBondForce', 189.69678123582867), ('CustomAngleForce', 978.4710627815534), ('CustomTorsionForce', 3830.526548711567), ('AndersenThermostat', 0.0), ('MonteCarloBarostat', 0.0)]\n",
      "Success! Custom bond force and standard bond force energies are equal!\n"
     ]
    }
   ],
   "source": [
    "test_bond_energies(htf, is_solvated=True)"
   ]
  },
  {
   "cell_type": "markdown",
   "id": "07c2e2f1",
   "metadata": {},
   "source": [
    "#### New system HarmonicBondForce vs hybrid system CustomBondForce"
   ]
  },
  {
   "cell_type": "code",
   "execution_count": 65,
   "id": "5fecc64d",
   "metadata": {},
   "outputs": [],
   "source": [
    "# Load htf\n",
    "with open(\"T42A_complex_scale_region.pickle\", \"rb\") as f:\n",
    "    htf = pickle.load(f)"
   ]
  },
  {
   "cell_type": "code",
   "execution_count": 66,
   "id": "b64594f0",
   "metadata": {
    "scrolled": true
   },
   "outputs": [
    {
     "name": "stdout",
     "output_type": "stream",
     "text": [
      "Warning: Returning CPU platform instead of requested platform <simtk.openmm.openmm.Platform; proxy of <Swig Object of type 'OpenMM::Platform *' at 0x2ae70ce2b150> >\n",
      "conducting subsequent work with the following platform: CPU\n",
      "conducting subsequent work with the following platform: CUDA\n",
      "[('HarmonicBondForce', 189.30454871026686), ('HarmonicAngleForce', 976.8489832672554), ('PeriodicTorsionForce', 3823.8766942707352), ('NonbondedForce', -26317.613716400156), ('AndersenThermostat', 0.0), ('MonteCarloBarostat', 0.0)]\n",
      "conducting subsequent work with the following platform: CUDA\n",
      "[('CustomBondForce', 189.30454871026686), ('CustomAngleForce', 978.4710627815534), ('CustomTorsionForce', 3830.526548711567), ('AndersenThermostat', 0.0), ('MonteCarloBarostat', 0.0)]\n",
      "Success! Custom bond force and standard bond force energies are equal!\n"
     ]
    }
   ],
   "source": [
    "test_bond_energies(htf, is_old=False, is_solvated=True)"
   ]
  },
  {
   "cell_type": "code",
   "execution_count": null,
   "id": "7ba99c4b",
   "metadata": {},
   "outputs": [],
   "source": [
    "# TO DO: actually test the scaling of the energies matches"
   ]
  },
  {
   "cell_type": "code",
   "execution_count": null,
   "id": "0977df4d",
   "metadata": {},
   "outputs": [],
   "source": []
  }
 ],
 "metadata": {
  "kernelspec": {
   "display_name": "Python 3",
   "language": "python",
   "name": "python3"
  },
  "language_info": {
   "codemirror_mode": {
    "name": "ipython",
    "version": 3
   },
   "file_extension": ".py",
   "mimetype": "text/x-python",
   "name": "python",
   "nbconvert_exporter": "python",
   "pygments_lexer": "ipython3",
   "version": "3.8.6"
  }
 },
 "nbformat": 4,
 "nbformat_minor": 5
}
