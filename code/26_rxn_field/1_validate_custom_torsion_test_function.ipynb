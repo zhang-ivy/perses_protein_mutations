{
 "cells": [
  {
   "cell_type": "markdown",
   "id": "deeef215",
   "metadata": {},
   "source": [
    "Note: I left the code to generate the htfs for each test system in the notebook, but if you don't want to re-generate, you can use the pickled htf that I saved (I left the full path in for you). I generated these htfs based after you added support for `lambda_{i}_bonds_old/new` and `scale_lambda_0_bonds`"
   ]
  },
  {
   "cell_type": "code",
   "execution_count": 1,
   "id": "ac051fbf",
   "metadata": {},
   "outputs": [
    {
     "name": "stderr",
     "output_type": "stream",
     "text": [
      "INFO:rdkit:Enabling RDKit 2021.03.1 jupyter extensions\n"
     ]
    }
   ],
   "source": [
    "# from openmmtools.states import SamplerState, ThermodynamicState, CompoundThermodynamicState\n",
    "# from simtk import unit, openmm\n",
    "# from perses.tests.utils import compute_potential_components\n",
    "# from openmmtools.constants import kB\n",
    "# from perses.dispersed.utils import configure_platform\n",
    "# from perses.annihilation.rest import RESTTopologyFactory\n",
    "# from perses.annihilation.lambda_protocol import RESTState\n",
    "# import numpy as np\n",
    "# from perses.tests.test_topology_proposal import generate_atp, generate_dipeptide_top_pos_sys\n",
    "from openmmtools.testsystems import AlanineDipeptideVacuum, AlanineDipeptideExplicit\n",
    "# import itertools\n",
    "from perses.tests.test_topology_proposal import generate_dipeptide_top_pos_sys, generate_atp\n",
    "import pickle\n",
    "# import copy\n",
    "\n",
    "# #############################################\n",
    "# # CONSTANTS\n",
    "# #############################################\n",
    "# temperature = 298.0 * unit.kelvin\n",
    "# kT = kB * temperature\n",
    "# beta = 1.0/kT\n",
    "# REFERENCE_PLATFORM = openmm.Platform.getPlatformByName(\"CUDA\")\n"
   ]
  },
  {
   "cell_type": "code",
   "execution_count": 2,
   "id": "69ee892f",
   "metadata": {},
   "outputs": [],
   "source": [
    "def test_torsion_energies(htf, is_old=True, is_solvated=False, check_scale=False):\n",
    "    htf_copy = copy.deepcopy(htf)\n",
    "    \n",
    "    # Get periodic torsion force and old/new positions\n",
    "    system = htf._topology_proposal.old_system if is_old else htf._topology_proposal.new_system\n",
    "    periodic_torsion_force = system.getForce(2) \n",
    "    positions = htf.old_positions(htf.hybrid_positions) if is_old else htf.new_positions(htf.hybrid_positions)\n",
    "    \n",
    "    # Get custom torsion force and hybrid positions\n",
    "    torsion_force_index = 3 if is_solvated else 2\n",
    "    hybrid_system = htf.hybrid_system\n",
    "    custom_torsion_force = hybrid_system.getForce(torsion_force_index)\n",
    "    hybrid_positions = htf.hybrid_positions\n",
    "    \n",
    "    # Set global parameters\n",
    "    lambda_old = 1 if is_old else 0\n",
    "    lambda_new = 0 if is_old else 1\n",
    "    for i in range(custom_torsion_force.getNumGlobalParameters()):\n",
    "        if custom_torsion_force.getGlobalParameterName(i) == 'lambda_0_torsions_old':\n",
    "            custom_torsion_force.setGlobalParameterDefaultValue(i, lambda_old)\n",
    "        elif custom_torsion_force.getGlobalParameterName(i) == 'lambda_0_torsions_new':\n",
    "            custom_torsion_force.setGlobalParameterDefaultValue(i, lambda_new)\n",
    "\n",
    "    # Zero the unique old/new torsions in the custom torsion force\n",
    "    hybrid_to_torsion_indices = htf._hybrid_to_new_torsion_indices if is_old else htf._hybrid_to_old_torsion_indices\n",
    "    print(hybrid_to_torsion_indices)\n",
    "    for hybrid_idx, idx in hybrid_to_torsion_indices.items():\n",
    "        p1, p2, p3, p4, hybrid_params = custom_torsion_force.getTorsionParameters(hybrid_idx)\n",
    "        hybrid_params = list(hybrid_params)\n",
    "#         index_to_zero = -4 if is_old else -1\n",
    "#         hybrid_params[index_to_zero] *= 0\n",
    "        hybrid_params[-4] *= 0\n",
    "        hybrid_params[-1] *= 0\n",
    "        custom_torsion_force.setTorsionParameters(hybrid_idx, p1, p2, p3, p4, hybrid_params)\n",
    "        \n",
    "    ## Get energy components of standard torsion force\n",
    "    platform = configure_platform(REFERENCE_PLATFORM)\n",
    "    thermostate_other = ThermodynamicState(system=system, temperature=temperature)\n",
    "    integrator_other = openmm.VerletIntegrator(1.0*unit.femtosecond)\n",
    "    context_other = thermostate_other.create_context(integrator_other)\n",
    "    context_other.setPositions(positions)\n",
    "    components_other = compute_potential_components(context_other, beta=beta)\n",
    "    print(components_other)\n",
    "    \n",
    "    ## Get energy components of custom torsion force\n",
    "    if is_solvated:\n",
    "        custom_torsion_force.setUsesPeriodicBoundaryConditions(True)\n",
    "    thermostate_hybrid = ThermodynamicState(system=hybrid_system, temperature=temperature)\n",
    "    integrator_hybrid = openmm.VerletIntegrator(1.0 * unit.femtosecond)\n",
    "    context_hybrid = thermostate_hybrid.create_context(integrator_hybrid)\n",
    "    context_hybrid.setPositions(hybrid_positions)\n",
    "    components_hybrid = compute_potential_components(context_hybrid, beta=beta)\n",
    "    print(components_hybrid)\n",
    "    \n",
    "    assert np.isclose([components_other[2][1]], [components_hybrid[2][1]])\n",
    "    \n",
    "    print(\"Success! Custom torsion force and standard torsion force energies are equal!\")\n",
    "    \n",
    "    if check_scale:\n",
    "        \n",
    "        ## Get custom torsion force and hybrid positions\n",
    "        torsion_force_index = 3 if is_solvated else 2\n",
    "        hybrid_system = htf_copy.hybrid_system\n",
    "        custom_torsion_force = hybrid_system.getForce(torsion_force_index)\n",
    "        hybrid_positions = htf_copy.hybrid_positions\n",
    "        \n",
    "        if is_solvated:\n",
    "            custom_torsion_force.setUsesPeriodicBoundaryConditions(True)\n",
    "        \n",
    "        ## Get energy components of custom torsion force\n",
    "        thermostate_hybrid = ThermodynamicState(system=hybrid_system, temperature=temperature)\n",
    "        integrator_hybrid = openmm.VerletIntegrator(1.0 * unit.femtosecond)\n",
    "        context_hybrid = thermostate_hybrid.create_context(integrator_hybrid)\n",
    "        context_hybrid.setPositions(hybrid_positions)\n",
    "        components_hybrid = compute_potential_components(context_hybrid, beta=beta)\n",
    "        print(components_hybrid)\n",
    "        \n",
    "        # Set `scale_lambda_{i}` to 0.5\n",
    "        for i in range(custom_torsion_force.getNumGlobalParameters()):\n",
    "            if custom_torsion_force.getGlobalParameterName(i) == 'scale_lambda_0_torsions':\n",
    "                custom_torsion_force.setGlobalParameterDefaultValue(i, 0.5)\n",
    "            elif custom_torsion_force.getGlobalParameterName(i) == 'interscale_lambda_0_torsions':\n",
    "                custom_torsion_force.setGlobalParameterDefaultValue(i, 0.5)\n",
    "        \n",
    "        ## Get energy components of custom torsion force iwth scaling\n",
    "        thermostate_hybrid = ThermodynamicState(system=hybrid_system, temperature=temperature)\n",
    "        integrator_hybrid = openmm.VerletIntegrator(1.0 * unit.femtosecond)\n",
    "        context_hybrid = thermostate_hybrid.create_context(integrator_hybrid)\n",
    "        context_hybrid.setPositions(hybrid_positions)\n",
    "        components_hybrid_scaled = compute_potential_components(context_hybrid, beta=beta)\n",
    "        print(components_hybrid_scaled)\n",
    "        \n",
    "        assert not np.isclose([components_hybrid[2][1]], [components_hybrid_scaled[2][1]])\n",
    "        \n",
    "        print(\"Success! Scaling the torsion force changes the energy\")"
   ]
  },
  {
   "cell_type": "markdown",
   "id": "434a0b31",
   "metadata": {},
   "source": [
    "# Alanine dipeptide in vacuum"
   ]
  },
  {
   "cell_type": "code",
   "execution_count": 6,
   "id": "723a6506",
   "metadata": {
    "scrolled": true
   },
   "outputs": [
    {
     "name": "stderr",
     "output_type": "stream",
     "text": [
      "DEBUG:openmmforcefields.system_generators:Trying GAFFTemplateGenerator to load gaff-2.11\n",
      "INFO:proposal_generator:\tConducting polymer point mutation proposal...\n",
      "INFO:proposal_generator:Using matching_criterion to chose best atom map\n",
      "INFO:proposal_generator:Scaffold has symmetry of 0\n",
      "WARNING:proposal_generator:Two molecules are not similar to have a common scaffold\n",
      "WARNING:proposal_generator:Proceeding with direct mapping of molecules, but please check atom mapping and the geometry of the ligands.\n",
      "INFO:proposal_generator:len [{9: 7}, {10: 7}, {11: 7}, {12: 7}, {13: 7}, {9: 8}, {10: 8}, {11: 8}, {12: 8}, {13: 8}, {9: 9}, {10: 9}, {11: 9}, {12: 9}, {13: 9}]\n",
      "INFO:proposal_generator:{9: 7}\n",
      "INFO:proposal_generator:{10: 7}\n",
      "INFO:proposal_generator:{11: 7}\n",
      "INFO:proposal_generator:{12: 7}\n",
      "INFO:proposal_generator:{13: 7}\n",
      "INFO:proposal_generator:{9: 8}\n",
      "INFO:proposal_generator:{10: 8}\n",
      "INFO:proposal_generator:{11: 8}\n",
      "INFO:proposal_generator:{12: 8}\n",
      "INFO:proposal_generator:{13: 8}\n",
      "INFO:proposal_generator:{9: 9}\n",
      "INFO:proposal_generator:{10: 9}\n",
      "INFO:proposal_generator:{11: 9}\n",
      "INFO:proposal_generator:{12: 9}\n",
      "INFO:proposal_generator:{13: 9}\n",
      "INFO:proposal_generator:Returning map that best satisfies matching_criterion\n",
      "INFO:proposal_generator:Finding best map using matching_criterion name\n",
      "INFO:proposal_generator:{9: 7}\n",
      "INFO:geometry:propose: performing forward proposal\n",
      "INFO:geometry:propose: unique new atoms detected; proceeding to _logp_propose...\n",
      "INFO:geometry:Conducting forward proposal...\n",
      "INFO:geometry:Computing proposal order with NetworkX...\n",
      "INFO:geometry:number of atoms to be placed: 8\n",
      "INFO:geometry:Atom index proposal order is [10, 18, 14, 17, 16, 13, 19, 15]\n",
      "INFO:geometry:omitted_bonds: []\n",
      "INFO:geometry:direction of proposal is forward; creating atoms_with_positions and new positions from old system/topology...\n",
      "INFO:geometry:creating growth system...\n",
      "INFO:geometry:\tcreating bond force...\n",
      "INFO:geometry:\tthere are 11 bonds in reference force.\n",
      "INFO:geometry:\tcreating angle force...\n",
      "INFO:geometry:\tthere are 43 angles in reference force.\n",
      "INFO:geometry:\tcreating torsion force...\n",
      "INFO:geometry:\tcreating extra torsions force...\n",
      "INFO:geometry:\tthere are 72 torsions in reference force.\n",
      "INFO:geometry:\tcreating nonbonded force...\n",
      "INFO:geometry:\t\tgrabbing reference nonbonded method, cutoff, switching function, switching distance...\n",
      "INFO:geometry:\t\tcreating nonbonded exception force (i.e. custom bond for 1,4s)...\n",
      "INFO:geometry:\t\tlooping through exceptions calculating growth indices, and adding appropriate interactions to custom bond force.\n",
      "INFO:geometry:\t\tthere are 121 in the reference Nonbonded force\n",
      "WARNING:geometry:\t\t\t\t\tchiral atom <Atom 8 (CA) of chain 0 residue 1 (THR)> with neighbors [<Atom 9 (HA) of chain 0 residue 1 (THR)>, <Atom 10 (CB) of chain 0 residue 1 (THR)>, <Atom 11 (C) of chain 0 residue 1 (THR)>, <Atom 6 (N) of chain 0 residue 1 (THR)>] is surrounded by 3 core neighbors.  omitting chirality bias torsion\n",
      "INFO:geometry:Neglected angle terms : []\n",
      "INFO:geometry:omitted_growth_terms: {'bonds': [], 'angles': [], 'torsions': [], '1,4s': []}\n",
      "INFO:geometry:extra torsions: {0: (7, 6, 8, 10, [1, Quantity(value=0.9900002084555819, unit=radian), Quantity(value=1200.0, unit=kilocalorie/mole), 1]), 1: (19, 18, 10, 8, [1, Quantity(value=-0.07858019216845058, unit=radian), Quantity(value=1200.0, unit=kilocalorie/mole), 7]), 2: (19, 18, 10, 14, [1, Quantity(value=2.118586571250296, unit=radian), Quantity(value=1200.0, unit=kilocalorie/mole), 7]), 3: (19, 18, 10, 13, [1, Quantity(value=-2.149781203448759, unit=radian), Quantity(value=1200.0, unit=kilocalorie/mole), 7]), 4: (8, 10, 14, 17, [1, Quantity(value=-2.1249532223845904, unit=radian), Quantity(value=1200.0, unit=kilocalorie/mole), 4]), 5: (8, 10, 14, 16, [1, Quantity(value=2.0543043017157916, unit=radian), Quantity(value=1200.0, unit=kilocalorie/mole), 5]), 6: (8, 10, 14, 15, [1, Quantity(value=-0.02223392579985184, unit=radian), Quantity(value=1200.0, unit=kilocalorie/mole), 8]), 7: (18, 10, 14, 17, [1, Quantity(value=2.0255587336734213, unit=radian), Quantity(value=1200.0, unit=kilocalorie/mole), 4]), 8: (18, 10, 14, 16, [1, Quantity(value=-0.07836904940578293, unit=radian), Quantity(value=1200.0, unit=kilocalorie/mole), 5]), 9: (18, 10, 14, 15, [1, Quantity(value=-2.154907276921426, unit=radian), Quantity(value=1200.0, unit=kilocalorie/mole), 8]), 10: (13, 10, 14, 17, [1, Quantity(value=0.007583009583349565, unit=radian), Quantity(value=1200.0, unit=kilocalorie/mole), 6]), 11: (13, 10, 14, 16, [1, Quantity(value=-2.096344773495849, unit=radian), Quantity(value=1200.0, unit=kilocalorie/mole), 6]), 12: (13, 10, 14, 15, [1, Quantity(value=2.1103023061680943, unit=radian), Quantity(value=1200.0, unit=kilocalorie/mole), 8]), 13: (18, 10, 8, 14, [1, Quantity(value=-1.0655064807976995, unit=radian), Quantity(value=1200.0, unit=kilocalorie/mole), 3])}\n",
      "INFO:geometry:neglected angle terms include []\n",
      "INFO:geometry:log probability choice of torsions and atom order: -13.371595639480912\n",
      "INFO:geometry:creating platform, integrators, and contexts; setting growth parameter\n"
     ]
    },
    {
     "name": "stdout",
     "output_type": "stream",
     "text": [
      "making topology proposal\n",
      "generating geometry engine\n",
      "making geometry proposal from ALA to THR\n",
      "conducting subsequent work with the following platform: CUDA\n"
     ]
    },
    {
     "name": "stderr",
     "output_type": "stream",
     "text": [
      "INFO:geometry:setting atoms_with_positions context new positions\n"
     ]
    },
    {
     "name": "stdout",
     "output_type": "stream",
     "text": [
      "conducting subsequent work with the following platform: CUDA\n"
     ]
    },
    {
     "name": "stderr",
     "output_type": "stream",
     "text": [
      "INFO:geometry:There are 8 new atoms\n",
      "INFO:geometry:\treduced angle potential = 0.02272230759221436.\n",
      "INFO:geometry:\treduced angle potential = 0.4679350024115357.\n",
      "INFO:geometry:\treduced angle potential = 0.040774130825061816.\n",
      "INFO:geometry:\treduced angle potential = 0.3397371723547433.\n",
      "INFO:geometry:\treduced angle potential = 0.515204993442505.\n",
      "INFO:geometry:\treduced angle potential = 0.764116245509211.\n",
      "INFO:geometry:\treduced angle potential = 0.1330557289580421.\n",
      "INFO:geometry:\treduced angle potential = 0.07624795173393698.\n",
      "INFO:geometry:\tbeginning construction of no_nonbonded final system...\n",
      "INFO:geometry:\tinitial no-nonbonded final system forces ['HarmonicBondForce', 'HarmonicAngleForce', 'PeriodicTorsionForce', 'NonbondedForce']\n",
      "INFO:geometry:\tfinal no-nonbonded final system forces dict_keys(['HarmonicBondForce', 'HarmonicAngleForce', 'PeriodicTorsionForce', 'NonbondedForce'])\n",
      "INFO:geometry:\tthere are 11 bond forces in the no-nonbonded final system\n",
      "INFO:geometry:\tthere are 43 angle forces in the no-nonbonded final system\n",
      "INFO:geometry:\tthere are 72 torsion forces in the no-nonbonded final system\n",
      "INFO:geometry:forward final system defined with 0 neglected angles.\n"
     ]
    },
    {
     "name": "stdout",
     "output_type": "stream",
     "text": [
      "conducting subsequent work with the following platform: CUDA\n",
      "conducting subsequent work with the following platform: CUDA\n"
     ]
    },
    {
     "name": "stderr",
     "output_type": "stream",
     "text": [
      "INFO:geometry:total reduced potential before atom placement: 9.11648114171204\n"
     ]
    },
    {
     "name": "stdout",
     "output_type": "stream",
     "text": [
      "conducting subsequent work with the following platform: CUDA\n",
      "conducting subsequent work with the following platform: CUDA\n",
      "conducting subsequent work with the following platform: CUDA\n"
     ]
    },
    {
     "name": "stderr",
     "output_type": "stream",
     "text": [
      "INFO:geometry:total reduced energy added from growth system: -57.27842435005379\n",
      "INFO:geometry:final reduced energy -48.16194547751904\n",
      "INFO:geometry:sum of energies: -48.161943208341754\n",
      "INFO:geometry:magnitude of difference in the energies: 2.2691772940675037e-06\n",
      "INFO:geometry:Final logp_proposal: 66.98720238870182\n",
      "INFO:geometry:logp_reverse: performing reverse proposal\n"
     ]
    },
    {
     "name": "stdout",
     "output_type": "stream",
     "text": [
      "added energy components: [('CustomBondForce', 0.6519788278741667), ('CustomAngleForce', 13.106705676566627), ('CustomTorsionForce', 17.31603273821882), ('CustomBondForce', -88.35314159271338)]\n"
     ]
    },
    {
     "name": "stderr",
     "output_type": "stream",
     "text": [
      "INFO:geometry:logp_reverse: unique new atoms detected; proceeding to _logp_propose...\n",
      "INFO:geometry:Conducting forward proposal...\n",
      "INFO:geometry:Computing proposal order with NetworkX...\n",
      "INFO:geometry:number of atoms to be placed: 4\n",
      "INFO:geometry:Atom index proposal order is [10, 12, 11, 13]\n",
      "INFO:geometry:omitted_bonds: []\n",
      "INFO:geometry:direction of proposal is reverse; creating atoms_with_positions from old system/topology\n",
      "INFO:geometry:creating growth system...\n",
      "INFO:geometry:\tcreating bond force...\n",
      "INFO:geometry:\tthere are 9 bonds in reference force.\n",
      "INFO:geometry:\tcreating angle force...\n",
      "INFO:geometry:\tthere are 36 angles in reference force.\n",
      "INFO:geometry:\tcreating torsion force...\n",
      "INFO:geometry:\tcreating extra torsions force...\n",
      "INFO:geometry:\tthere are 42 torsions in reference force.\n",
      "INFO:geometry:\tcreating nonbonded force...\n",
      "INFO:geometry:\t\tgrabbing reference nonbonded method, cutoff, switching function, switching distance...\n",
      "INFO:geometry:\t\tcreating nonbonded exception force (i.e. custom bond for 1,4s)...\n",
      "INFO:geometry:\t\tlooping through exceptions calculating growth indices, and adding appropriate interactions to custom bond force.\n",
      "INFO:geometry:\t\tthere are 98 in the reference Nonbonded force\n",
      "WARNING:geometry:\t\t\t\t\tchiral atom <Atom 8 (CA) of chain 0 residue 1 (ALA)> with neighbors [<Atom 9 (HA) of chain 0 residue 1 (ALA)>, <Atom 10 (CB) of chain 0 residue 1 (ALA)>, <Atom 14 (C) of chain 0 residue 1 (ALA)>, <Atom 6 (N) of chain 0 residue 1 (ALA)>] is surrounded by 3 core neighbors.  omitting chirality bias torsion\n",
      "INFO:geometry:Neglected angle terms : []\n",
      "INFO:geometry:omitted_growth_terms: {'bonds': [], 'angles': [], 'torsions': [], '1,4s': []}\n",
      "INFO:geometry:extra torsions: {0: (7, 6, 8, 10, [1, Quantity(value=0.9799661941737812, unit=radian), Quantity(value=1200.0, unit=kilocalorie/mole), 1]), 1: (6, 8, 10, 11, [1, Quantity(value=2.105358864604291, unit=radian), Quantity(value=1200.0, unit=kilocalorie/mole), 3]), 2: (6, 8, 10, 12, [1, Quantity(value=-2.0823006129211796, unit=radian), Quantity(value=1200.0, unit=kilocalorie/mole), 2]), 3: (6, 8, 10, 13, [1, Quantity(value=0.018582237407944735, unit=radian), Quantity(value=1200.0, unit=kilocalorie/mole), 4]), 4: (14, 8, 10, 11, [1, Quantity(value=-0.036945135932107576, unit=radian), Quantity(value=1200.0, unit=kilocalorie/mole), 3]), 5: (14, 8, 10, 12, [1, Quantity(value=2.0585806937220097, unit=radian), Quantity(value=1200.0, unit=kilocalorie/mole), 2]), 6: (14, 8, 10, 13, [1, Quantity(value=-2.1237217631284597, unit=radian), Quantity(value=1200.0, unit=kilocalorie/mole), 4]), 7: (9, 8, 10, 11, [1, Quantity(value=-2.119603470065817, unit=radian), Quantity(value=1200.0, unit=kilocalorie/mole), 3]), 8: (9, 8, 10, 12, [1, Quantity(value=-0.024077640411697132, unit=radian), Quantity(value=1200.0, unit=kilocalorie/mole), 2]), 9: (9, 8, 10, 13, [1, Quantity(value=2.0768052099174152, unit=radian), Quantity(value=1200.0, unit=kilocalorie/mole), 4])}\n",
      "INFO:geometry:neglected angle terms include []\n",
      "INFO:geometry:log probability choice of torsions and atom order: -5.78074351579233\n",
      "INFO:geometry:creating platform, integrators, and contexts; setting growth parameter\n"
     ]
    },
    {
     "name": "stdout",
     "output_type": "stream",
     "text": [
      "conducting subsequent work with the following platform: CUDA\n"
     ]
    },
    {
     "name": "stderr",
     "output_type": "stream",
     "text": [
      "INFO:geometry:setting atoms_with_positions context old positions\n"
     ]
    },
    {
     "name": "stdout",
     "output_type": "stream",
     "text": [
      "conducting subsequent work with the following platform: CUDA\n"
     ]
    },
    {
     "name": "stderr",
     "output_type": "stream",
     "text": [
      "INFO:geometry:There are 4 new atoms\n",
      "INFO:geometry:\treduced angle potential = 0.3517324280898812.\n",
      "INFO:geometry:\treduced angle potential = 3.2058324695160406e-13.\n",
      "INFO:geometry:\treduced angle potential = 1.2915588460963948e-10.\n",
      "INFO:geometry:\treduced angle potential = 7.39096069988752e-11.\n",
      "INFO:geometry:\tbeginning construction of no_nonbonded final system...\n",
      "INFO:geometry:\tinitial no-nonbonded final system forces ['HarmonicBondForce', 'HarmonicAngleForce', 'PeriodicTorsionForce', 'NonbondedForce']\n",
      "INFO:geometry:\tfinal no-nonbonded final system forces dict_keys(['HarmonicBondForce', 'HarmonicAngleForce', 'PeriodicTorsionForce', 'NonbondedForce'])\n",
      "INFO:geometry:\tthere are 9 bond forces in the no-nonbonded final system\n",
      "INFO:geometry:\tthere are 36 angle forces in the no-nonbonded final system\n",
      "INFO:geometry:\tthere are 42 torsion forces in the no-nonbonded final system\n",
      "INFO:geometry:reverse final system defined with 0 neglected angles.\n"
     ]
    },
    {
     "name": "stdout",
     "output_type": "stream",
     "text": [
      "conducting subsequent work with the following platform: CUDA\n",
      "conducting subsequent work with the following platform: CUDA\n"
     ]
    },
    {
     "name": "stderr",
     "output_type": "stream",
     "text": [
      "INFO:geometry:total reduced potential before atom placement: 9.11648114171204\n"
     ]
    },
    {
     "name": "stdout",
     "output_type": "stream",
     "text": [
      "conducting subsequent work with the following platform: CUDA\n",
      "conducting subsequent work with the following platform: CUDA\n",
      "conducting subsequent work with the following platform: CUDA\n"
     ]
    },
    {
     "name": "stderr",
     "output_type": "stream",
     "text": [
      "INFO:geometry:total reduced energy added from growth system: 20.672986687678176\n",
      "INFO:geometry:final reduced energy 29.78946596595154\n",
      "INFO:geometry:sum of energies: 29.789467829390215\n",
      "INFO:geometry:magnitude of difference in the energies: 1.8634386762528266e-06\n",
      "INFO:geometry:Final logp_proposal: -27010.885813757428\n"
     ]
    },
    {
     "name": "stdout",
     "output_type": "stream",
     "text": [
      "added energy components: [('CustomBondForce', 0.000520203927326505), ('CustomAngleForce', 0.4511197756248138), ('CustomTorsionForce', 7.250463344085812), ('CustomBondForce', 12.970883364040223)]\n"
     ]
    },
    {
     "name": "stderr",
     "output_type": "stream",
     "text": [
      "INFO:relative:*** Generating RxnHybridTopologyFactory ***\n",
      "INFO:relative:Beginning nonbonded method, total particle, barostat, and exceptions retrieval...\n",
      "INFO:relative:Old system forces: dict_keys(['HarmonicBondForce', 'HarmonicAngleForce', 'PeriodicTorsionForce', 'NonbondedForce'])\n",
      "INFO:relative:New system forces: dict_keys(['HarmonicBondForce', 'HarmonicAngleForce', 'PeriodicTorsionForce', 'NonbondedForce'])\n",
      "INFO:relative:No unknown forces.\n",
      "INFO:relative:Nonbonded method to be used (i.e. from old system): 0\n",
      "INFO:relative:Adding and mapping old atoms to hybrid system...\n",
      "INFO:relative:Adding and mapping new atoms to hybrid system...\n",
      "INFO:relative:scale_templates: [['nonscale_lambda'], ['nonscale_region']]\n",
      "INFO:relative:No MonteCarloBarostat added.\n",
      "INFO:relative:getDefaultPeriodicBoxVectors added to hybrid: [Quantity(value=Vec3(x=2.0, y=0.0, z=0.0), unit=nanometer), Quantity(value=Vec3(x=0.0, y=2.0, z=0.0), unit=nanometer), Quantity(value=Vec3(x=0.0, y=0.0, z=2.0), unit=nanometer)]\n",
      "INFO:relative:Determined atom classes.\n",
      "INFO:relative:Generating old system exceptions dict...\n",
      "INFO:relative:Generating new system exceptions dict...\n",
      "INFO:relative:Handling constraints...\n",
      "INFO:relative:Handling virtual sites...\n",
      "INFO:relative:\t_handle_virtual_sites: numVirtualSites: 0\n"
     ]
    }
   ],
   "source": [
    "# Create a htf\n",
    "atp, system_generator = generate_atp(phase = 'vacuum')\n",
    "htf = generate_dipeptide_top_pos_sys(atp.topology, \n",
    "                               'THR', \n",
    "                               atp.system, \n",
    "                               atp.positions, \n",
    "                               system_generator,\n",
    "                                rxn_field=True,\n",
    "                               flatten_torsions=True,\n",
    "                               flatten_exceptions=True,\n",
    "                               validate_endstate_energy=False,\n",
    "                                conduct_htf_prop=True)"
   ]
  },
  {
   "cell_type": "code",
   "execution_count": 7,
   "id": "d3b7384a",
   "metadata": {},
   "outputs": [],
   "source": [
    "# Save htf\n",
    "with open(\"atp_vacuum.pickle\", \"wb\") as f:\n",
    "    pickle.dump(htf, f)"
   ]
  },
  {
   "cell_type": "markdown",
   "id": "503b6f4b",
   "metadata": {},
   "source": [
    "### Test one alchemical region, no scale regions"
   ]
  },
  {
   "cell_type": "markdown",
   "id": "11e9c95a",
   "metadata": {},
   "source": [
    "#### Old system HarmonicBondForce vs hybrid system CustomBondForce"
   ]
  },
  {
   "cell_type": "code",
   "execution_count": 21,
   "id": "19b06c88",
   "metadata": {},
   "outputs": [],
   "source": [
    "# Load htf\n",
    "with open(\"/home/zhangi/choderalab/perses_benchmark/perses_protein_mutations/code/26_rxn_field/atp_vacuum.pickle\", \"rb\") as f:\n",
    "    htf = pickle.load(f)"
   ]
  },
  {
   "cell_type": "code",
   "execution_count": 24,
   "id": "18deeb39",
   "metadata": {
    "scrolled": true
   },
   "outputs": [
    {
     "name": "stdout",
     "output_type": "stream",
     "text": [
      "{50: 8, 51: 9, 52: 10, 58: 16, 59: 17, 60: 18, 61: 19, 62: 20, 63: 21, 64: 22, 65: 23, 66: 24, 70: 28, 71: 29, 72: 30, 73: 31, 74: 32, 75: 33, 76: 34, 79: 37, 80: 38, 81: 39, 84: 42, 85: 43, 86: 44, 87: 45, 88: 46, 89: 47, 90: 48, 91: 49, 92: 50, 93: 51, 94: 52, 95: 53, 99: 57, 100: 58, 101: 59, 102: 60, 103: 61, 104: 62, 105: 63, 106: 64, 107: 65, 108: 66, 109: 67}\n",
      "Warning: Returning CPU platform instead of requested platform <simtk.openmm.openmm.Platform; proxy of <Swig Object of type 'OpenMM::Platform *' at 0x2b62f7eda7e0> >\n",
      "conducting subsequent work with the following platform: CPU\n",
      "conducting subsequent work with the following platform: CUDA\n",
      "[('HarmonicBondForce', 0.03478365356521381), ('HarmonicAngleForce', 0.6112775462128995), ('PeriodicTorsionForce', 16.285398289983064), ('NonbondedForce', -39.4499277456003), ('AndersenThermostat', 0.0)]\n",
      "conducting subsequent work with the following platform: CUDA\n",
      "[('CustomBondForce', 0.691138178270751), ('CustomAngleForce', 13.805947690407493), ('CustomTorsionForce', 16.28540329352652), ('AndersenThermostat', 0.0)]\n",
      "Success! Custom torsion force and standard torsion force energies are equal!\n"
     ]
    }
   ],
   "source": [
    "test_torsion_energies(htf)"
   ]
  },
  {
   "cell_type": "markdown",
   "id": "e336aed9",
   "metadata": {},
   "source": [
    "#### New system HarmonicBondForce vs hybrid system CustomBondForce"
   ]
  },
  {
   "cell_type": "code",
   "execution_count": 25,
   "id": "49875cd6",
   "metadata": {},
   "outputs": [],
   "source": [
    "# Load htf\n",
    "with open(\"/home/zhangi/choderalab/perses_benchmark/perses_protein_mutations/code/26_rxn_field/atp_vacuum.pickle\", \"rb\") as f:\n",
    "    htf = pickle.load(f)"
   ]
  },
  {
   "cell_type": "code",
   "execution_count": 26,
   "id": "039fb22d",
   "metadata": {},
   "outputs": [
    {
     "name": "stdout",
     "output_type": "stream",
     "text": [
      "{8: 8, 9: 9, 10: 10, 16: 16, 17: 17, 18: 18, 24: 24, 25: 25, 26: 26, 29: 29, 30: 30, 31: 31, 32: 32, 33: 33, 34: 34}\n",
      "Warning: Returning CPU platform instead of requested platform <simtk.openmm.openmm.Platform; proxy of <Swig Object of type 'OpenMM::Platform *' at 0x2b62f7eda7e0> >\n",
      "conducting subsequent work with the following platform: CPU\n",
      "conducting subsequent work with the following platform: CUDA\n",
      "[('HarmonicBondForce', 0.6906144830418987), ('HarmonicAngleForce', 13.351800265281843), ('PeriodicTorsionForce', 26.41852205265097), ('NonbondedForce', -54.709291264726836), ('AndersenThermostat', 0.0)]\n",
      "conducting subsequent work with the following platform: CUDA\n",
      "[('CustomBondForce', 0.691138178270751), ('CustomAngleForce', 13.805947690407493), ('CustomTorsionForce', 26.418526844667138), ('AndersenThermostat', 0.0)]\n",
      "Success! Custom torsion force and standard torsion force energies are equal!\n"
     ]
    }
   ],
   "source": [
    "test_torsion_energies(htf, is_old=False)"
   ]
  },
  {
   "cell_type": "markdown",
   "id": "16251d48",
   "metadata": {},
   "source": [
    "### Test one alchemical region, one scale region"
   ]
  },
  {
   "cell_type": "code",
   "execution_count": 27,
   "id": "12fe9b6c",
   "metadata": {
    "scrolled": true
   },
   "outputs": [
    {
     "name": "stderr",
     "output_type": "stream",
     "text": [
      "DEBUG:openmmforcefields.system_generators:Trying GAFFTemplateGenerator to load gaff-2.11\n",
      "INFO:proposal_generator:\tConducting polymer point mutation proposal...\n",
      "INFO:proposal_generator:Using matching_criterion to chose best atom map\n",
      "INFO:proposal_generator:Scaffold has symmetry of 0\n",
      "WARNING:proposal_generator:Two molecules are not similar to have a common scaffold\n",
      "WARNING:proposal_generator:Proceeding with direct mapping of molecules, but please check atom mapping and the geometry of the ligands.\n",
      "INFO:proposal_generator:len [{9: 7}, {10: 7}, {11: 7}, {12: 7}, {13: 7}, {9: 8}, {10: 8}, {11: 8}, {12: 8}, {13: 8}, {9: 9}, {10: 9}, {11: 9}, {12: 9}, {13: 9}]\n",
      "INFO:proposal_generator:{9: 7}\n",
      "INFO:proposal_generator:{10: 7}\n",
      "INFO:proposal_generator:{11: 7}\n",
      "INFO:proposal_generator:{12: 7}\n",
      "INFO:proposal_generator:{13: 7}\n",
      "INFO:proposal_generator:{9: 8}\n",
      "INFO:proposal_generator:{10: 8}\n",
      "INFO:proposal_generator:{11: 8}\n",
      "INFO:proposal_generator:{12: 8}\n",
      "INFO:proposal_generator:{13: 8}\n",
      "INFO:proposal_generator:{9: 9}\n",
      "INFO:proposal_generator:{10: 9}\n",
      "INFO:proposal_generator:{11: 9}\n",
      "INFO:proposal_generator:{12: 9}\n",
      "INFO:proposal_generator:{13: 9}\n",
      "INFO:proposal_generator:Returning map that best satisfies matching_criterion\n",
      "INFO:proposal_generator:Finding best map using matching_criterion name\n",
      "INFO:proposal_generator:{9: 7}\n",
      "INFO:geometry:propose: performing forward proposal\n",
      "INFO:geometry:propose: unique new atoms detected; proceeding to _logp_propose...\n",
      "INFO:geometry:Conducting forward proposal...\n",
      "INFO:geometry:Computing proposal order with NetworkX...\n",
      "INFO:geometry:number of atoms to be placed: 8\n",
      "INFO:geometry:Atom index proposal order is [10, 14, 18, 16, 13, 19, 15, 17]\n",
      "INFO:geometry:omitted_bonds: []\n",
      "INFO:geometry:direction of proposal is forward; creating atoms_with_positions and new positions from old system/topology...\n",
      "INFO:geometry:creating growth system...\n",
      "INFO:geometry:\tcreating bond force...\n",
      "INFO:geometry:\tthere are 11 bonds in reference force.\n",
      "INFO:geometry:\tcreating angle force...\n",
      "INFO:geometry:\tthere are 43 angles in reference force.\n",
      "INFO:geometry:\tcreating torsion force...\n",
      "INFO:geometry:\tcreating extra torsions force...\n",
      "INFO:geometry:\tthere are 72 torsions in reference force.\n",
      "INFO:geometry:\tcreating nonbonded force...\n",
      "INFO:geometry:\t\tgrabbing reference nonbonded method, cutoff, switching function, switching distance...\n",
      "INFO:geometry:\t\tcreating nonbonded exception force (i.e. custom bond for 1,4s)...\n",
      "INFO:geometry:\t\tlooping through exceptions calculating growth indices, and adding appropriate interactions to custom bond force.\n",
      "INFO:geometry:\t\tthere are 121 in the reference Nonbonded force\n",
      "WARNING:geometry:\t\t\t\t\tchiral atom <Atom 8 (CA) of chain 0 residue 1 (THR)> with neighbors [<Atom 9 (HA) of chain 0 residue 1 (THR)>, <Atom 10 (CB) of chain 0 residue 1 (THR)>, <Atom 11 (C) of chain 0 residue 1 (THR)>, <Atom 6 (N) of chain 0 residue 1 (THR)>] is surrounded by 3 core neighbors.  omitting chirality bias torsion\n",
      "INFO:geometry:Neglected angle terms : []\n",
      "INFO:geometry:omitted_growth_terms: {'bonds': [], 'angles': [], 'torsions': [], '1,4s': []}\n",
      "INFO:geometry:extra torsions: {0: (7, 6, 8, 10, [1, Quantity(value=0.9900002084555819, unit=radian), Quantity(value=1200.0, unit=kilocalorie/mole), 1]), 1: (19, 18, 10, 8, [1, Quantity(value=-0.07858019216845058, unit=radian), Quantity(value=1200.0, unit=kilocalorie/mole), 6]), 2: (19, 18, 10, 14, [1, Quantity(value=2.118586571250296, unit=radian), Quantity(value=1200.0, unit=kilocalorie/mole), 6]), 3: (19, 18, 10, 13, [1, Quantity(value=-2.149781203448759, unit=radian), Quantity(value=1200.0, unit=kilocalorie/mole), 6]), 4: (8, 10, 14, 17, [1, Quantity(value=-2.1249532223845904, unit=radian), Quantity(value=1200.0, unit=kilocalorie/mole), 8]), 5: (8, 10, 14, 16, [1, Quantity(value=2.0543043017157916, unit=radian), Quantity(value=1200.0, unit=kilocalorie/mole), 4]), 6: (8, 10, 14, 15, [1, Quantity(value=-0.02223392579985184, unit=radian), Quantity(value=1200.0, unit=kilocalorie/mole), 7]), 7: (18, 10, 14, 17, [1, Quantity(value=2.0255587336734213, unit=radian), Quantity(value=1200.0, unit=kilocalorie/mole), 8]), 8: (18, 10, 14, 16, [1, Quantity(value=-0.07836904940578293, unit=radian), Quantity(value=1200.0, unit=kilocalorie/mole), 4]), 9: (18, 10, 14, 15, [1, Quantity(value=-2.154907276921426, unit=radian), Quantity(value=1200.0, unit=kilocalorie/mole), 7]), 10: (13, 10, 14, 17, [1, Quantity(value=0.007583009583349565, unit=radian), Quantity(value=1200.0, unit=kilocalorie/mole), 8]), 11: (13, 10, 14, 16, [1, Quantity(value=-2.096344773495849, unit=radian), Quantity(value=1200.0, unit=kilocalorie/mole), 5]), 12: (13, 10, 14, 15, [1, Quantity(value=2.1103023061680943, unit=radian), Quantity(value=1200.0, unit=kilocalorie/mole), 7]), 13: (14, 10, 8, 18, [1, Quantity(value=1.0655064807976995, unit=radian), Quantity(value=1200.0, unit=kilocalorie/mole), 3])}\n",
      "INFO:geometry:neglected angle terms include []\n",
      "INFO:geometry:log probability choice of torsions and atom order: -13.371595639480912\n",
      "INFO:geometry:creating platform, integrators, and contexts; setting growth parameter\n"
     ]
    },
    {
     "name": "stdout",
     "output_type": "stream",
     "text": [
      "making topology proposal\n",
      "generating geometry engine\n",
      "making geometry proposal from ALA to THR\n",
      "conducting subsequent work with the following platform: CUDA\n"
     ]
    },
    {
     "name": "stderr",
     "output_type": "stream",
     "text": [
      "INFO:geometry:setting atoms_with_positions context new positions\n"
     ]
    },
    {
     "name": "stdout",
     "output_type": "stream",
     "text": [
      "conducting subsequent work with the following platform: CUDA\n"
     ]
    },
    {
     "name": "stderr",
     "output_type": "stream",
     "text": [
      "INFO:geometry:There are 8 new atoms\n",
      "INFO:geometry:\treduced angle potential = 0.20327771654873789.\n",
      "INFO:geometry:\treduced angle potential = 0.511420880544537.\n",
      "INFO:geometry:\treduced angle potential = 0.04764227941841384.\n",
      "INFO:geometry:\treduced angle potential = 0.37038219887993884.\n",
      "INFO:geometry:\treduced angle potential = 0.3247431386698406.\n",
      "INFO:geometry:\treduced angle potential = 0.048769497076544176.\n",
      "INFO:geometry:\treduced angle potential = 0.4290259864776433.\n",
      "INFO:geometry:\treduced angle potential = 0.6637207074188998.\n",
      "INFO:geometry:\tbeginning construction of no_nonbonded final system...\n",
      "INFO:geometry:\tinitial no-nonbonded final system forces ['HarmonicBondForce', 'HarmonicAngleForce', 'PeriodicTorsionForce', 'NonbondedForce']\n",
      "INFO:geometry:\tfinal no-nonbonded final system forces dict_keys(['HarmonicBondForce', 'HarmonicAngleForce', 'PeriodicTorsionForce', 'NonbondedForce'])\n",
      "INFO:geometry:\tthere are 11 bond forces in the no-nonbonded final system\n",
      "INFO:geometry:\tthere are 43 angle forces in the no-nonbonded final system\n",
      "INFO:geometry:\tthere are 72 torsion forces in the no-nonbonded final system\n",
      "INFO:geometry:forward final system defined with 0 neglected angles.\n"
     ]
    },
    {
     "name": "stdout",
     "output_type": "stream",
     "text": [
      "conducting subsequent work with the following platform: CUDA\n",
      "conducting subsequent work with the following platform: CUDA\n"
     ]
    },
    {
     "name": "stderr",
     "output_type": "stream",
     "text": [
      "INFO:geometry:total reduced potential before atom placement: 9.11648114171204\n"
     ]
    },
    {
     "name": "stdout",
     "output_type": "stream",
     "text": [
      "conducting subsequent work with the following platform: CUDA\n",
      "conducting subsequent work with the following platform: CUDA\n",
      "conducting subsequent work with the following platform: CUDA\n"
     ]
    },
    {
     "name": "stderr",
     "output_type": "stream",
     "text": [
      "INFO:geometry:total reduced energy added from growth system: -40.302169974373285\n",
      "INFO:geometry:final reduced energy -31.185691445032973\n",
      "INFO:geometry:sum of energies: -31.185688832661246\n",
      "INFO:geometry:magnitude of difference in the energies: 2.6123717304926686e-06\n",
      "INFO:geometry:Final logp_proposal: 57.44895626192748\n"
     ]
    },
    {
     "name": "stdout",
     "output_type": "stream",
     "text": [
      "added energy components: [('CustomBondForce', 4.844255603505975), ('CustomAngleForce', 6.565941695111861), ('CustomTorsionForce', 19.782134923514086), ('CustomBondForce', -71.49450219650522)]\n"
     ]
    },
    {
     "name": "stderr",
     "output_type": "stream",
     "text": [
      "INFO:geometry:logp_reverse: performing reverse proposal\n",
      "INFO:geometry:logp_reverse: unique new atoms detected; proceeding to _logp_propose...\n",
      "INFO:geometry:Conducting forward proposal...\n",
      "INFO:geometry:Computing proposal order with NetworkX...\n",
      "INFO:geometry:number of atoms to be placed: 4\n",
      "INFO:geometry:Atom index proposal order is [10, 12, 13, 11]\n",
      "INFO:geometry:omitted_bonds: []\n",
      "INFO:geometry:direction of proposal is reverse; creating atoms_with_positions from old system/topology\n",
      "INFO:geometry:creating growth system...\n",
      "INFO:geometry:\tcreating bond force...\n",
      "INFO:geometry:\tthere are 9 bonds in reference force.\n",
      "INFO:geometry:\tcreating angle force...\n",
      "INFO:geometry:\tthere are 36 angles in reference force.\n",
      "INFO:geometry:\tcreating torsion force...\n",
      "INFO:geometry:\tcreating extra torsions force...\n",
      "INFO:geometry:\tthere are 42 torsions in reference force.\n",
      "INFO:geometry:\tcreating nonbonded force...\n",
      "INFO:geometry:\t\tgrabbing reference nonbonded method, cutoff, switching function, switching distance...\n",
      "INFO:geometry:\t\tcreating nonbonded exception force (i.e. custom bond for 1,4s)...\n",
      "INFO:geometry:\t\tlooping through exceptions calculating growth indices, and adding appropriate interactions to custom bond force.\n",
      "INFO:geometry:\t\tthere are 98 in the reference Nonbonded force\n",
      "WARNING:geometry:\t\t\t\t\tchiral atom <Atom 8 (CA) of chain 0 residue 1 (ALA)> with neighbors [<Atom 9 (HA) of chain 0 residue 1 (ALA)>, <Atom 10 (CB) of chain 0 residue 1 (ALA)>, <Atom 14 (C) of chain 0 residue 1 (ALA)>, <Atom 6 (N) of chain 0 residue 1 (ALA)>] is surrounded by 3 core neighbors.  omitting chirality bias torsion\n",
      "INFO:geometry:Neglected angle terms : []\n",
      "INFO:geometry:omitted_growth_terms: {'bonds': [], 'angles': [], 'torsions': [], '1,4s': []}\n",
      "INFO:geometry:extra torsions: {0: (7, 6, 8, 10, [1, Quantity(value=0.9799661941737812, unit=radian), Quantity(value=1200.0, unit=kilocalorie/mole), 1]), 1: (6, 8, 10, 11, [1, Quantity(value=2.105358864604291, unit=radian), Quantity(value=1200.0, unit=kilocalorie/mole), 4]), 2: (6, 8, 10, 12, [1, Quantity(value=-2.0823006129211796, unit=radian), Quantity(value=1200.0, unit=kilocalorie/mole), 2]), 3: (6, 8, 10, 13, [1, Quantity(value=0.018582237407944735, unit=radian), Quantity(value=1200.0, unit=kilocalorie/mole), 3]), 4: (14, 8, 10, 11, [1, Quantity(value=-0.036945135932107576, unit=radian), Quantity(value=1200.0, unit=kilocalorie/mole), 4]), 5: (14, 8, 10, 12, [1, Quantity(value=2.0585806937220097, unit=radian), Quantity(value=1200.0, unit=kilocalorie/mole), 2]), 6: (14, 8, 10, 13, [1, Quantity(value=-2.1237217631284597, unit=radian), Quantity(value=1200.0, unit=kilocalorie/mole), 3]), 7: (9, 8, 10, 11, [1, Quantity(value=-2.119603470065817, unit=radian), Quantity(value=1200.0, unit=kilocalorie/mole), 4]), 8: (9, 8, 10, 12, [1, Quantity(value=-0.024077640411697132, unit=radian), Quantity(value=1200.0, unit=kilocalorie/mole), 2]), 9: (9, 8, 10, 13, [1, Quantity(value=2.0768052099174152, unit=radian), Quantity(value=1200.0, unit=kilocalorie/mole), 3])}\n",
      "INFO:geometry:neglected angle terms include []\n",
      "INFO:geometry:log probability choice of torsions and atom order: -5.78074351579233\n",
      "INFO:geometry:creating platform, integrators, and contexts; setting growth parameter\n"
     ]
    },
    {
     "name": "stdout",
     "output_type": "stream",
     "text": [
      "conducting subsequent work with the following platform: CUDA\n"
     ]
    },
    {
     "name": "stderr",
     "output_type": "stream",
     "text": [
      "INFO:geometry:setting atoms_with_positions context old positions\n"
     ]
    },
    {
     "name": "stdout",
     "output_type": "stream",
     "text": [
      "conducting subsequent work with the following platform: CUDA\n"
     ]
    },
    {
     "name": "stderr",
     "output_type": "stream",
     "text": [
      "INFO:geometry:There are 4 new atoms\n",
      "INFO:geometry:\treduced angle potential = 0.3517324280898812.\n",
      "INFO:geometry:\treduced angle potential = 3.2058324695160406e-13.\n",
      "INFO:geometry:\treduced angle potential = 7.39096069988752e-11.\n",
      "INFO:geometry:\treduced angle potential = 1.2915588460963948e-10.\n",
      "INFO:geometry:\tbeginning construction of no_nonbonded final system...\n",
      "INFO:geometry:\tinitial no-nonbonded final system forces ['HarmonicBondForce', 'HarmonicAngleForce', 'PeriodicTorsionForce', 'NonbondedForce']\n",
      "INFO:geometry:\tfinal no-nonbonded final system forces dict_keys(['HarmonicBondForce', 'HarmonicAngleForce', 'PeriodicTorsionForce', 'NonbondedForce'])\n",
      "INFO:geometry:\tthere are 9 bond forces in the no-nonbonded final system\n",
      "INFO:geometry:\tthere are 36 angle forces in the no-nonbonded final system\n",
      "INFO:geometry:\tthere are 42 torsion forces in the no-nonbonded final system\n",
      "INFO:geometry:reverse final system defined with 0 neglected angles.\n"
     ]
    },
    {
     "name": "stdout",
     "output_type": "stream",
     "text": [
      "conducting subsequent work with the following platform: CUDA\n",
      "conducting subsequent work with the following platform: CUDA\n"
     ]
    },
    {
     "name": "stderr",
     "output_type": "stream",
     "text": [
      "INFO:geometry:total reduced potential before atom placement: 9.11648114171204\n"
     ]
    },
    {
     "name": "stdout",
     "output_type": "stream",
     "text": [
      "conducting subsequent work with the following platform: CUDA\n",
      "conducting subsequent work with the following platform: CUDA\n",
      "conducting subsequent work with the following platform: CUDA\n"
     ]
    },
    {
     "name": "stderr",
     "output_type": "stream",
     "text": [
      "INFO:geometry:total reduced energy added from growth system: 20.672986687678176\n",
      "INFO:geometry:final reduced energy 29.78946596595154\n",
      "INFO:geometry:sum of energies: 29.789467829390215\n",
      "INFO:geometry:magnitude of difference in the energies: 1.8634386762528266e-06\n",
      "INFO:geometry:Final logp_proposal: -26846.123688227624\n"
     ]
    },
    {
     "name": "stdout",
     "output_type": "stream",
     "text": [
      "added energy components: [('CustomBondForce', 0.000520203927326505), ('CustomAngleForce', 0.4511197756248138), ('CustomTorsionForce', 7.250463344085812), ('CustomBondForce', 12.970883364040223)]\n"
     ]
    },
    {
     "name": "stderr",
     "output_type": "stream",
     "text": [
      "INFO:relative:*** Generating RxnHybridTopologyFactory ***\n",
      "INFO:relative:Beginning nonbonded method, total particle, barostat, and exceptions retrieval...\n",
      "INFO:relative:Old system forces: dict_keys(['HarmonicBondForce', 'HarmonicAngleForce', 'PeriodicTorsionForce', 'NonbondedForce'])\n",
      "INFO:relative:New system forces: dict_keys(['HarmonicBondForce', 'HarmonicAngleForce', 'PeriodicTorsionForce', 'NonbondedForce'])\n",
      "INFO:relative:No unknown forces.\n",
      "INFO:relative:Nonbonded method to be used (i.e. from old system): 0\n",
      "INFO:relative:Adding and mapping old atoms to hybrid system...\n",
      "INFO:relative:Adding and mapping new atoms to hybrid system...\n",
      "INFO:relative:scale_templates: [['nonscale_lambda', 'scale_lambda_0', 'interscale_lambda_0'], ['nonscale_region', 'scale_region_0', 'interscale_region_0']]\n",
      "INFO:relative:No MonteCarloBarostat added.\n",
      "INFO:relative:getDefaultPeriodicBoxVectors added to hybrid: [Quantity(value=Vec3(x=2.0, y=0.0, z=0.0), unit=nanometer), Quantity(value=Vec3(x=0.0, y=2.0, z=0.0), unit=nanometer), Quantity(value=Vec3(x=0.0, y=0.0, z=2.0), unit=nanometer)]\n",
      "INFO:relative:Determined atom classes.\n",
      "INFO:relative:Generating old system exceptions dict...\n",
      "INFO:relative:Generating new system exceptions dict...\n",
      "INFO:relative:Handling constraints...\n",
      "INFO:relative:Handling virtual sites...\n",
      "INFO:relative:\t_handle_virtual_sites: numVirtualSites: 0\n"
     ]
    }
   ],
   "source": [
    "# Create a htf\n",
    "atp, system_generator = generate_atp(phase = 'vacuum')\n",
    "htf = generate_dipeptide_top_pos_sys(atp.topology, \n",
    "                               'THR', \n",
    "                               atp.system, \n",
    "                               atp.positions, \n",
    "                               system_generator,\n",
    "                                rxn_field=True,\n",
    "                               flatten_torsions=True,\n",
    "                               flatten_exceptions=True,\n",
    "                               validate_endstate_energy=False,\n",
    "                                conduct_htf_prop=True, \n",
    "                                scale_regions=[[10, 11, 12, 13, 22, 23, 24, 25, 26, 27, 28, 29]])"
   ]
  },
  {
   "cell_type": "code",
   "execution_count": 28,
   "id": "7973bd78",
   "metadata": {},
   "outputs": [],
   "source": [
    "# Save htf\n",
    "with open(\"atp_vacuum_scale_region.pickle\", \"wb\") as f:\n",
    "    pickle.dump(htf, f)"
   ]
  },
  {
   "cell_type": "markdown",
   "id": "5e9bd435",
   "metadata": {},
   "source": [
    "#### Old system HarmonicBondForce vs hybrid system CustomBondForce"
   ]
  },
  {
   "cell_type": "code",
   "execution_count": 29,
   "id": "288c11e1",
   "metadata": {},
   "outputs": [],
   "source": [
    "# Load htf\n",
    "with open(\"/home/zhangi/choderalab/perses_benchmark/perses_protein_mutations/code/26_rxn_field/atp_vacuum_scale_region.pickle\", \"rb\") as f:\n",
    "    htf = pickle.load(f)"
   ]
  },
  {
   "cell_type": "code",
   "execution_count": 30,
   "id": "d41dbb58",
   "metadata": {},
   "outputs": [
    {
     "data": {
      "text/plain": [
       "[<simtk.openmm.openmm.CustomBondForce; proxy of <Swig Object of type 'OpenMM::CustomBondForce *' at 0x2b6387f54ab0> >,\n",
       " <simtk.openmm.openmm.CustomAngleForce; proxy of <Swig Object of type 'OpenMM::CustomAngleForce *' at 0x2b6387f54db0> >,\n",
       " <simtk.openmm.openmm.CustomTorsionForce; proxy of <Swig Object of type 'OpenMM::CustomTorsionForce *' at 0x2b6387f54300> >]"
      ]
     },
     "execution_count": 30,
     "metadata": {},
     "output_type": "execute_result"
    }
   ],
   "source": [
    "htf.hybrid_system.getForces()"
   ]
  },
  {
   "cell_type": "code",
   "execution_count": 31,
   "id": "5c37ddb9",
   "metadata": {
    "scrolled": true
   },
   "outputs": [
    {
     "data": {
      "text/plain": [
       "[10, 11, 12, 13, 22, 23, 24, 25, 26, 27, 28, 29]"
      ]
     },
     "execution_count": 31,
     "metadata": {},
     "output_type": "execute_result"
    }
   ],
   "source": [
    "# This is the scale region\n",
    "list(htf._atom_classes['unique_old_atoms'][0]) + list(htf._atom_classes['unique_new_atoms'][0])"
   ]
  },
  {
   "cell_type": "code",
   "execution_count": 33,
   "id": "9c194d51",
   "metadata": {
    "scrolled": true
   },
   "outputs": [
    {
     "name": "stdout",
     "output_type": "stream",
     "text": [
      "{50: 8, 51: 9, 52: 10, 58: 16, 59: 17, 60: 18, 61: 19, 62: 20, 63: 21, 64: 22, 65: 23, 66: 24, 70: 28, 71: 29, 72: 30, 73: 31, 74: 32, 75: 33, 76: 34, 79: 37, 80: 38, 81: 39, 84: 42, 85: 43, 86: 44, 87: 45, 88: 46, 89: 47, 90: 48, 91: 49, 92: 50, 93: 51, 94: 52, 95: 53, 99: 57, 100: 58, 101: 59, 102: 60, 103: 61, 104: 62, 105: 63, 106: 64, 107: 65, 108: 66, 109: 67}\n",
      "Warning: Returning CPU platform instead of requested platform <simtk.openmm.openmm.Platform; proxy of <Swig Object of type 'OpenMM::Platform *' at 0x2b62f7eda7e0> >\n",
      "conducting subsequent work with the following platform: CPU\n",
      "conducting subsequent work with the following platform: CUDA\n",
      "[('HarmonicBondForce', 0.03478365356521381), ('HarmonicAngleForce', 0.6112775462128995), ('PeriodicTorsionForce', 16.285398289983064), ('NonbondedForce', -39.4499277456003), ('AndersenThermostat', 0.0)]\n",
      "conducting subsequent work with the following platform: CUDA\n",
      "[('CustomBondForce', 4.9115510396450555), ('CustomAngleForce', 7.221285964110747), ('CustomTorsionForce', 16.28540329352652), ('AndersenThermostat', 0.0)]\n",
      "Success! Custom torsion force and standard torsion force energies are equal!\n"
     ]
    }
   ],
   "source": [
    "test_torsion_energies(htf)"
   ]
  },
  {
   "cell_type": "markdown",
   "id": "0057ce49",
   "metadata": {},
   "source": [
    "#### New system HarmonicBondForce vs hybrid system CustomBondForce"
   ]
  },
  {
   "cell_type": "code",
   "execution_count": 34,
   "id": "1e6a7202",
   "metadata": {},
   "outputs": [],
   "source": [
    "# Load htf\n",
    "with open(\"/home/zhangi/choderalab/perses_benchmark/perses_protein_mutations/code/26_rxn_field/atp_vacuum_scale_region.pickle\", \"rb\") as f:\n",
    "    htf = pickle.load(f)"
   ]
  },
  {
   "cell_type": "code",
   "execution_count": 36,
   "id": "8ccc8c53",
   "metadata": {},
   "outputs": [
    {
     "name": "stdout",
     "output_type": "stream",
     "text": [
      "{8: 8, 9: 9, 10: 10, 16: 16, 17: 17, 18: 18, 24: 24, 25: 25, 26: 26, 29: 29, 30: 30, 31: 31, 32: 32, 33: 33, 34: 34}\n",
      "Warning: Returning CPU platform instead of requested platform <simtk.openmm.openmm.Platform; proxy of <Swig Object of type 'OpenMM::Platform *' at 0x2b62f7eda7e0> >\n",
      "conducting subsequent work with the following platform: CPU\n",
      "conducting subsequent work with the following platform: CUDA\n",
      "[('HarmonicBondForce', 4.911027344416205), ('HarmonicAngleForce', 6.767138538985095), ('PeriodicTorsionForce', 28.901175254389177), ('NonbondedForce', 126.41930931777544), ('AndersenThermostat', 0.0)]\n",
      "conducting subsequent work with the following platform: CUDA\n",
      "[('CustomBondForce', 4.9115510396450555), ('CustomAngleForce', 7.221285964110747), ('CustomTorsionForce', 28.90118005134022), ('AndersenThermostat', 0.0)]\n",
      "Success! Custom torsion force and standard torsion force energies are equal!\n"
     ]
    }
   ],
   "source": [
    "test_torsion_energies(htf, is_old=False)"
   ]
  },
  {
   "cell_type": "markdown",
   "id": "a30a9095",
   "metadata": {},
   "source": [
    "# Alanine dipeptide in solvent"
   ]
  },
  {
   "cell_type": "code",
   "execution_count": 2,
   "id": "2e120f58",
   "metadata": {
    "scrolled": true
   },
   "outputs": [
    {
     "name": "stderr",
     "output_type": "stream",
     "text": [
      "DEBUG:openmmforcefields.system_generators:Trying GAFFTemplateGenerator to load gaff-2.11\n",
      "INFO:proposal_generator:\tConducting polymer point mutation proposal...\n",
      "INFO:proposal_generator:Using matching_criterion to chose best atom map\n",
      "INFO:proposal_generator:Scaffold has symmetry of 0\n",
      "WARNING:proposal_generator:Two molecules are not similar to have a common scaffold\n",
      "WARNING:proposal_generator:Proceeding with direct mapping of molecules, but please check atom mapping and the geometry of the ligands.\n",
      "INFO:proposal_generator:len [{9: 7}, {10: 7}, {11: 7}, {12: 7}, {13: 7}, {9: 8}, {10: 8}, {11: 8}, {12: 8}, {13: 8}, {9: 9}, {10: 9}, {11: 9}, {12: 9}, {13: 9}]\n",
      "INFO:proposal_generator:{9: 7}\n",
      "INFO:proposal_generator:{10: 7}\n",
      "INFO:proposal_generator:{11: 7}\n",
      "INFO:proposal_generator:{12: 7}\n",
      "INFO:proposal_generator:{13: 7}\n",
      "INFO:proposal_generator:{9: 8}\n",
      "INFO:proposal_generator:{10: 8}\n",
      "INFO:proposal_generator:{11: 8}\n",
      "INFO:proposal_generator:{12: 8}\n",
      "INFO:proposal_generator:{13: 8}\n",
      "INFO:proposal_generator:{9: 9}\n",
      "INFO:proposal_generator:{10: 9}\n",
      "INFO:proposal_generator:{11: 9}\n",
      "INFO:proposal_generator:{12: 9}\n",
      "INFO:proposal_generator:{13: 9}\n",
      "INFO:proposal_generator:Returning map that best satisfies matching_criterion\n",
      "INFO:proposal_generator:Finding best map using matching_criterion name\n",
      "INFO:proposal_generator:{9: 7}\n"
     ]
    },
    {
     "name": "stdout",
     "output_type": "stream",
     "text": [
      "making topology proposal\n"
     ]
    },
    {
     "name": "stderr",
     "output_type": "stream",
     "text": [
      "INFO:geometry:propose: performing forward proposal\n",
      "INFO:geometry:propose: unique new atoms detected; proceeding to _logp_propose...\n",
      "INFO:geometry:Conducting forward proposal...\n",
      "INFO:geometry:Computing proposal order with NetworkX...\n",
      "INFO:geometry:number of atoms to be placed: 8\n",
      "INFO:geometry:Atom index proposal order is [10, 14, 18, 15, 19, 17, 13, 16]\n",
      "INFO:geometry:omitted_bonds: []\n",
      "INFO:geometry:direction of proposal is forward; creating atoms_with_positions and new positions from old system/topology...\n"
     ]
    },
    {
     "name": "stdout",
     "output_type": "stream",
     "text": [
      "generating geometry engine\n",
      "making geometry proposal from ALA to THR\n"
     ]
    },
    {
     "name": "stderr",
     "output_type": "stream",
     "text": [
      "INFO:geometry:creating growth system...\n",
      "INFO:geometry:\tcreating bond force...\n",
      "INFO:geometry:\tthere are 11 bonds in reference force.\n",
      "INFO:geometry:\tcreating angle force...\n",
      "INFO:geometry:\tthere are 43 angles in reference force.\n",
      "INFO:geometry:\tcreating torsion force...\n",
      "INFO:geometry:\tcreating extra torsions force...\n",
      "INFO:geometry:\tthere are 72 torsions in reference force.\n",
      "INFO:geometry:\tcreating nonbonded force...\n",
      "INFO:geometry:\t\tgrabbing reference nonbonded method, cutoff, switching function, switching distance...\n",
      "INFO:geometry:\t\tcreating nonbonded exception force (i.e. custom bond for 1,4s)...\n",
      "INFO:geometry:\t\tlooping through exceptions calculating growth indices, and adding appropriate interactions to custom bond force.\n",
      "INFO:geometry:\t\tthere are 1654 in the reference Nonbonded force\n",
      "WARNING:geometry:\t\t\t\t\tchiral atom <Atom 8 (CA) of chain 0 residue 1 (THR)> with neighbors [<Atom 9 (HA) of chain 0 residue 1 (THR)>, <Atom 10 (CB) of chain 0 residue 1 (THR)>, <Atom 11 (C) of chain 0 residue 1 (THR)>, <Atom 6 (N) of chain 0 residue 1 (THR)>] is surrounded by 3 core neighbors.  omitting chirality bias torsion\n",
      "INFO:geometry:Neglected angle terms : []\n",
      "INFO:geometry:omitted_growth_terms: {'bonds': [], 'angles': [], 'torsions': [], '1,4s': []}\n",
      "INFO:geometry:extra torsions: {0: (7, 6, 8, 10, [1, Quantity(value=0.9900002084555819, unit=radian), Quantity(value=1200.0, unit=kilocalorie/mole), 1]), 1: (19, 18, 10, 8, [1, Quantity(value=-0.07858019216845058, unit=radian), Quantity(value=1200.0, unit=kilocalorie/mole), 5]), 2: (19, 18, 10, 14, [1, Quantity(value=2.118586571250296, unit=radian), Quantity(value=1200.0, unit=kilocalorie/mole), 5]), 3: (19, 18, 10, 13, [1, Quantity(value=-2.149781203448759, unit=radian), Quantity(value=1200.0, unit=kilocalorie/mole), 7]), 4: (8, 10, 14, 17, [1, Quantity(value=-2.1249532223845904, unit=radian), Quantity(value=1200.0, unit=kilocalorie/mole), 6]), 5: (8, 10, 14, 16, [1, Quantity(value=2.0543043017157916, unit=radian), Quantity(value=1200.0, unit=kilocalorie/mole), 8]), 6: (8, 10, 14, 15, [1, Quantity(value=-0.02223392579985184, unit=radian), Quantity(value=1200.0, unit=kilocalorie/mole), 4]), 7: (18, 10, 14, 17, [1, Quantity(value=2.0255587336734213, unit=radian), Quantity(value=1200.0, unit=kilocalorie/mole), 6]), 8: (18, 10, 14, 16, [1, Quantity(value=-0.07836904940578293, unit=radian), Quantity(value=1200.0, unit=kilocalorie/mole), 8]), 9: (18, 10, 14, 15, [1, Quantity(value=-2.154907276921426, unit=radian), Quantity(value=1200.0, unit=kilocalorie/mole), 4]), 10: (13, 10, 14, 17, [1, Quantity(value=0.007583009583349565, unit=radian), Quantity(value=1200.0, unit=kilocalorie/mole), 7]), 11: (13, 10, 14, 16, [1, Quantity(value=-2.096344773495849, unit=radian), Quantity(value=1200.0, unit=kilocalorie/mole), 8]), 12: (13, 10, 14, 15, [1, Quantity(value=2.1103023061680943, unit=radian), Quantity(value=1200.0, unit=kilocalorie/mole), 7]), 13: (14, 10, 8, 18, [1, Quantity(value=1.0655064807976995, unit=radian), Quantity(value=1200.0, unit=kilocalorie/mole), 3])}\n",
      "INFO:geometry:neglected angle terms include []\n",
      "INFO:geometry:log probability choice of torsions and atom order: -13.659277711932692\n",
      "INFO:geometry:creating platform, integrators, and contexts; setting growth parameter\n"
     ]
    },
    {
     "name": "stdout",
     "output_type": "stream",
     "text": [
      "conducting subsequent work with the following platform: CUDA\n",
      "conducting subsequent work with the following platform: CUDA\n"
     ]
    },
    {
     "name": "stderr",
     "output_type": "stream",
     "text": [
      "INFO:geometry:setting atoms_with_positions context new positions\n"
     ]
    },
    {
     "name": "stdout",
     "output_type": "stream",
     "text": [
      "conducting subsequent work with the following platform: CUDA\n"
     ]
    },
    {
     "name": "stderr",
     "output_type": "stream",
     "text": [
      "INFO:geometry:There are 8 new atoms\n",
      "INFO:geometry:\treduced angle potential = 0.6208983917564482.\n",
      "INFO:geometry:\treduced angle potential = 0.08258029035713786.\n",
      "INFO:geometry:\treduced angle potential = 1.0643723870142896.\n",
      "INFO:geometry:\treduced angle potential = 0.30050126058318244.\n",
      "INFO:geometry:\treduced angle potential = 0.32184963241716263.\n",
      "INFO:geometry:\treduced angle potential = 0.6439692861670662.\n",
      "INFO:geometry:\treduced angle potential = 2.167925739721841.\n",
      "INFO:geometry:\treduced angle potential = 0.11170298085983138.\n",
      "INFO:geometry:\tbeginning construction of no_nonbonded final system...\n",
      "INFO:geometry:\tinitial no-nonbonded final system forces ['HarmonicBondForce', 'HarmonicAngleForce', 'PeriodicTorsionForce', 'NonbondedForce', 'MonteCarloBarostat']\n",
      "INFO:geometry:\tfinal no-nonbonded final system forces dict_keys(['HarmonicBondForce', 'HarmonicAngleForce', 'PeriodicTorsionForce', 'NonbondedForce'])\n",
      "INFO:geometry:\tthere are 11 bond forces in the no-nonbonded final system\n",
      "INFO:geometry:\tthere are 43 angle forces in the no-nonbonded final system\n",
      "INFO:geometry:\tthere are 72 torsion forces in the no-nonbonded final system\n",
      "INFO:geometry:forward final system defined with 0 neglected angles.\n"
     ]
    },
    {
     "name": "stdout",
     "output_type": "stream",
     "text": [
      "conducting subsequent work with the following platform: CUDA\n",
      "conducting subsequent work with the following platform: CUDA\n"
     ]
    },
    {
     "name": "stderr",
     "output_type": "stream",
     "text": [
      "INFO:geometry:total reduced potential before atom placement: 9.11648114171204\n"
     ]
    },
    {
     "name": "stdout",
     "output_type": "stream",
     "text": [
      "conducting subsequent work with the following platform: CUDA\n",
      "conducting subsequent work with the following platform: CUDA\n",
      "conducting subsequent work with the following platform: CUDA\n"
     ]
    },
    {
     "name": "stderr",
     "output_type": "stream",
     "text": [
      "INFO:geometry:total reduced energy added from growth system: -45.54883797894423\n",
      "INFO:geometry:final reduced energy -36.432359496636444\n",
      "INFO:geometry:sum of energies: -36.43235683723219\n",
      "INFO:geometry:magnitude of difference in the energies: 2.659404252369768e-06\n",
      "INFO:geometry:Final logp_proposal: 63.971229408209375\n"
     ]
    },
    {
     "name": "stdout",
     "output_type": "stream",
     "text": [
      "added energy components: [('CustomBondForce', 1.001676093549924), ('CustomAngleForce', 7.476877844215291), ('CustomTorsionForce', 18.285361221663763), ('CustomBondForce', -72.31275313837325)]\n"
     ]
    },
    {
     "name": "stderr",
     "output_type": "stream",
     "text": [
      "INFO:geometry:logp_reverse: performing reverse proposal\n",
      "INFO:geometry:logp_reverse: unique new atoms detected; proceeding to _logp_propose...\n",
      "INFO:geometry:Conducting forward proposal...\n",
      "INFO:geometry:Computing proposal order with NetworkX...\n",
      "INFO:geometry:number of atoms to be placed: 4\n",
      "INFO:geometry:Atom index proposal order is [10, 12, 11, 13]\n",
      "INFO:geometry:omitted_bonds: []\n",
      "INFO:geometry:direction of proposal is reverse; creating atoms_with_positions from old system/topology\n",
      "INFO:geometry:creating growth system...\n",
      "INFO:geometry:\tcreating bond force...\n",
      "INFO:geometry:\tthere are 9 bonds in reference force.\n",
      "INFO:geometry:\tcreating angle force...\n",
      "INFO:geometry:\tthere are 36 angles in reference force.\n",
      "INFO:geometry:\tcreating torsion force...\n",
      "INFO:geometry:\tcreating extra torsions force...\n",
      "INFO:geometry:\tthere are 42 torsions in reference force.\n",
      "INFO:geometry:\tcreating nonbonded force...\n",
      "INFO:geometry:\t\tgrabbing reference nonbonded method, cutoff, switching function, switching distance...\n",
      "INFO:geometry:\t\tcreating nonbonded exception force (i.e. custom bond for 1,4s)...\n",
      "INFO:geometry:\t\tlooping through exceptions calculating growth indices, and adding appropriate interactions to custom bond force.\n",
      "INFO:geometry:\t\tthere are 1631 in the reference Nonbonded force\n",
      "WARNING:geometry:\t\t\t\t\tchiral atom <Atom 8 (CA) of chain 0 residue 1 (ALA)> with neighbors [<Atom 9 (HA) of chain 0 residue 1 (ALA)>, <Atom 10 (CB) of chain 0 residue 1 (ALA)>, <Atom 14 (C) of chain 0 residue 1 (ALA)>, <Atom 6 (N) of chain 0 residue 1 (ALA)>] is surrounded by 3 core neighbors.  omitting chirality bias torsion\n",
      "INFO:geometry:Neglected angle terms : []\n",
      "INFO:geometry:omitted_growth_terms: {'bonds': [], 'angles': [], 'torsions': [], '1,4s': []}\n",
      "INFO:geometry:extra torsions: {0: (7, 6, 8, 10, [1, Quantity(value=0.9799661941737812, unit=radian), Quantity(value=1200.0, unit=kilocalorie/mole), 1]), 1: (6, 8, 10, 11, [1, Quantity(value=2.105358864604291, unit=radian), Quantity(value=1200.0, unit=kilocalorie/mole), 3]), 2: (6, 8, 10, 12, [1, Quantity(value=-2.0823006129211796, unit=radian), Quantity(value=1200.0, unit=kilocalorie/mole), 2]), 3: (6, 8, 10, 13, [1, Quantity(value=0.018582237407944735, unit=radian), Quantity(value=1200.0, unit=kilocalorie/mole), 4]), 4: (14, 8, 10, 11, [1, Quantity(value=-0.036945135932107576, unit=radian), Quantity(value=1200.0, unit=kilocalorie/mole), 3]), 5: (14, 8, 10, 12, [1, Quantity(value=2.0585806937220097, unit=radian), Quantity(value=1200.0, unit=kilocalorie/mole), 2]), 6: (14, 8, 10, 13, [1, Quantity(value=-2.1237217631284597, unit=radian), Quantity(value=1200.0, unit=kilocalorie/mole), 4]), 7: (9, 8, 10, 11, [1, Quantity(value=-2.119603470065817, unit=radian), Quantity(value=1200.0, unit=kilocalorie/mole), 3]), 8: (9, 8, 10, 12, [1, Quantity(value=-0.024077640411697132, unit=radian), Quantity(value=1200.0, unit=kilocalorie/mole), 2]), 9: (9, 8, 10, 13, [1, Quantity(value=2.0768052099174152, unit=radian), Quantity(value=1200.0, unit=kilocalorie/mole), 4])}\n",
      "INFO:geometry:neglected angle terms include []\n",
      "INFO:geometry:log probability choice of torsions and atom order: -5.78074351579233\n",
      "INFO:geometry:creating platform, integrators, and contexts; setting growth parameter\n"
     ]
    },
    {
     "name": "stdout",
     "output_type": "stream",
     "text": [
      "conducting subsequent work with the following platform: CUDA\n"
     ]
    },
    {
     "name": "stderr",
     "output_type": "stream",
     "text": [
      "INFO:geometry:setting atoms_with_positions context old positions\n"
     ]
    },
    {
     "name": "stdout",
     "output_type": "stream",
     "text": [
      "conducting subsequent work with the following platform: CUDA\n"
     ]
    },
    {
     "name": "stderr",
     "output_type": "stream",
     "text": [
      "INFO:geometry:There are 4 new atoms\n",
      "INFO:geometry:\treduced angle potential = 0.3517324280898812.\n",
      "INFO:geometry:\treduced angle potential = 3.205832446488702e-13.\n",
      "INFO:geometry:\treduced angle potential = 1.2915588460963948e-10.\n",
      "INFO:geometry:\treduced angle potential = 7.39096069988752e-11.\n",
      "INFO:geometry:\tbeginning construction of no_nonbonded final system...\n",
      "INFO:geometry:\tinitial no-nonbonded final system forces ['HarmonicBondForce', 'HarmonicAngleForce', 'PeriodicTorsionForce', 'NonbondedForce', 'MonteCarloBarostat']\n",
      "INFO:geometry:\tfinal no-nonbonded final system forces dict_keys(['HarmonicBondForce', 'HarmonicAngleForce', 'PeriodicTorsionForce', 'NonbondedForce'])\n",
      "INFO:geometry:\tthere are 9 bond forces in the no-nonbonded final system\n",
      "INFO:geometry:\tthere are 36 angle forces in the no-nonbonded final system\n",
      "INFO:geometry:\tthere are 42 torsion forces in the no-nonbonded final system\n",
      "INFO:geometry:reverse final system defined with 0 neglected angles.\n"
     ]
    },
    {
     "name": "stdout",
     "output_type": "stream",
     "text": [
      "conducting subsequent work with the following platform: CUDA\n",
      "conducting subsequent work with the following platform: CUDA\n"
     ]
    },
    {
     "name": "stderr",
     "output_type": "stream",
     "text": [
      "INFO:geometry:total reduced potential before atom placement: 9.11648114171204\n"
     ]
    },
    {
     "name": "stdout",
     "output_type": "stream",
     "text": [
      "conducting subsequent work with the following platform: CUDA\n",
      "conducting subsequent work with the following platform: CUDA\n",
      "conducting subsequent work with the following platform: CUDA\n"
     ]
    },
    {
     "name": "stderr",
     "output_type": "stream",
     "text": [
      "INFO:geometry:total reduced energy added from growth system: 20.672986687678176\n",
      "INFO:geometry:final reduced energy 29.78946596595156\n",
      "INFO:geometry:sum of energies: 29.789467829390215\n",
      "INFO:geometry:magnitude of difference in the energies: 1.8634386549365445e-06\n",
      "INFO:geometry:Final logp_proposal: -27005.907784794734\n"
     ]
    },
    {
     "name": "stdout",
     "output_type": "stream",
     "text": [
      "added energy components: [('CustomBondForce', 0.000520203927326505), ('CustomAngleForce', 0.4511197756248138), ('CustomTorsionForce', 7.250463344085812), ('CustomBondForce', 12.970883364040223)]\n"
     ]
    },
    {
     "name": "stderr",
     "output_type": "stream",
     "text": [
      "INFO:relative:*** Generating RxnHybridTopologyFactory ***\n",
      "INFO:relative:Beginning nonbonded method, total particle, barostat, and exceptions retrieval...\n",
      "INFO:relative:Old system forces: dict_keys(['HarmonicBondForce', 'HarmonicAngleForce', 'PeriodicTorsionForce', 'NonbondedForce', 'MonteCarloBarostat'])\n",
      "INFO:relative:New system forces: dict_keys(['HarmonicBondForce', 'HarmonicAngleForce', 'PeriodicTorsionForce', 'NonbondedForce', 'MonteCarloBarostat'])\n",
      "INFO:relative:No unknown forces.\n",
      "INFO:relative:Nonbonded method to be used (i.e. from old system): 4\n",
      "INFO:relative:Adding and mapping old atoms to hybrid system...\n",
      "INFO:relative:Adding and mapping new atoms to hybrid system...\n",
      "INFO:relative:scale_templates: [['nonscale_lambda'], ['nonscale_region']]\n",
      "INFO:relative:Added MonteCarloBarostat.\n",
      "INFO:relative:getDefaultPeriodicBoxVectors added to hybrid: [Quantity(value=Vec3(x=2.56477354, y=0.0, z=0.0), unit=nanometer), Quantity(value=Vec3(x=0.0, y=2.56477354, z=0.0), unit=nanometer), Quantity(value=Vec3(x=0.0, y=0.0, z=2.56477354), unit=nanometer)]\n",
      "INFO:relative:Determined atom classes.\n",
      "INFO:relative:Generating old system exceptions dict...\n",
      "INFO:relative:Generating new system exceptions dict...\n",
      "INFO:relative:Handling constraints...\n",
      "INFO:relative:Handling virtual sites...\n",
      "INFO:relative:\t_handle_virtual_sites: numVirtualSites: 0\n"
     ]
    },
    {
     "name": "stdout",
     "output_type": "stream",
     "text": [
      "( nonscale_lambda_bonds * nonscale_region ) * (K/2)*(r-length)^2;K = ( 1 * environment_region+lambda_0_bonds_old * alchemical_region_0 ) * K1 + ( 1 * environment_region+lambda_0_bonds_new * alchemical_region_0 ) * K2;length = ( 1 * environment_region+lambda_0_bonds_old * alchemical_region_0 ) * length1 + ( 1 * environment_region+lambda_0_bonds_new * alchemical_region_0 ) * length2;\n",
      "4\n",
      "4\n",
      "elec  [1, 0, 1, 0, 0, 1, Quantity(value=0.1123, unit=elementary charge), Quantity(value=0.1123, unit=elementary charge)]\n",
      "elec  [1, 0, 1, 0, 0, 1, Quantity(value=-0.3662, unit=elementary charge), Quantity(value=-0.3662, unit=elementary charge)]\n",
      "elec  [1, 0, 1, 0, 0, 1, Quantity(value=0.1123, unit=elementary charge), Quantity(value=0.1123, unit=elementary charge)]\n",
      "elec  [1, 0, 1, 0, 0, 1, Quantity(value=0.1123, unit=elementary charge), Quantity(value=0.1123, unit=elementary charge)]\n",
      "elec  [1, 0, 1, 0, 0, 1, Quantity(value=0.5972, unit=elementary charge), Quantity(value=0.5972, unit=elementary charge)]\n",
      "elec  [1, 0, 1, 0, 0, 1, Quantity(value=-0.5679, unit=elementary charge), Quantity(value=-0.5679, unit=elementary charge)]\n",
      "elec  [1, 0, 1, 0, 0, 1, Quantity(value=-0.4157, unit=elementary charge), Quantity(value=-0.4157, unit=elementary charge)]\n",
      "elec  [1, 0, 1, 0, 0, 1, Quantity(value=0.2719, unit=elementary charge), Quantity(value=0.2719, unit=elementary charge)]\n",
      "elec  [1, 0, 1, 0, 0, 1, Quantity(value=0.0337, unit=elementary charge), Quantity(value=-0.0389, unit=elementary charge)]\n",
      "elec  [1, 0, 1, 0, 0, 1, Quantity(value=0.0823, unit=elementary charge), Quantity(value=0.1007, unit=elementary charge)]\n",
      "elec  [1, 0, 1, 1, 0, 0, Quantity(value=-0.1825, unit=elementary charge), Quantity(value=-0.0, unit=elementary charge)]\n",
      "elec  [1, 0, 1, 1, 0, 0, Quantity(value=0.0603, unit=elementary charge), Quantity(value=0.0, unit=elementary charge)]\n",
      "elec  [1, 0, 1, 1, 0, 0, Quantity(value=0.0603, unit=elementary charge), Quantity(value=0.0, unit=elementary charge)]\n",
      "elec  [1, 0, 1, 1, 0, 0, Quantity(value=0.0603, unit=elementary charge), Quantity(value=0.0, unit=elementary charge)]\n",
      "elec  [1, 0, 1, 0, 0, 1, Quantity(value=0.5973, unit=elementary charge), Quantity(value=0.5973, unit=elementary charge)]\n",
      "elec  [1, 0, 1, 0, 0, 1, Quantity(value=-0.5679, unit=elementary charge), Quantity(value=-0.5679, unit=elementary charge)]\n",
      "elec  [1, 0, 1, 0, 0, 1, Quantity(value=-0.4157, unit=elementary charge), Quantity(value=-0.4157, unit=elementary charge)]\n",
      "elec  [1, 0, 1, 0, 0, 1, Quantity(value=0.2719, unit=elementary charge), Quantity(value=0.2719, unit=elementary charge)]\n",
      "elec  [1, 0, 1, 0, 0, 1, Quantity(value=-0.149, unit=elementary charge), Quantity(value=-0.149, unit=elementary charge)]\n",
      "elec  [1, 0, 1, 0, 0, 1, Quantity(value=0.0976, unit=elementary charge), Quantity(value=0.0976, unit=elementary charge)]\n",
      "elec  [1, 0, 1, 0, 0, 1, Quantity(value=0.0976, unit=elementary charge), Quantity(value=0.0976, unit=elementary charge)]\n",
      "elec  [1, 0, 1, 0, 0, 1, Quantity(value=0.0976, unit=elementary charge), Quantity(value=0.0976, unit=elementary charge)]\n",
      "elec  [1, 1, 0, 0, 0, 0, Quantity(value=-0.834, unit=elementary charge), Quantity(value=-0.834, unit=elementary charge)]\n",
      "elec  [1, 1, 0, 0, 0, 0, Quantity(value=0.417, unit=elementary charge), Quantity(value=0.417, unit=elementary charge)]\n",
      "elec  [1, 1, 0, 0, 0, 0, Quantity(value=0.417, unit=elementary charge), Quantity(value=0.417, unit=elementary charge)]\n",
      "elec  [1, 1, 0, 0, 0, 0, Quantity(value=-0.834, unit=elementary charge), Quantity(value=-0.834, unit=elementary charge)]\n",
      "elec  [1, 1, 0, 0, 0, 0, Quantity(value=0.417, unit=elementary charge), Quantity(value=0.417, unit=elementary charge)]\n",
      "elec  [1, 1, 0, 0, 0, 0, Quantity(value=0.417, unit=elementary charge), Quantity(value=0.417, unit=elementary charge)]\n",
      "elec  [1, 1, 0, 0, 0, 0, Quantity(value=-0.834, unit=elementary charge), Quantity(value=-0.834, unit=elementary charge)]\n",
      "elec  [1, 1, 0, 0, 0, 0, Quantity(value=0.417, unit=elementary charge), Quantity(value=0.417, unit=elementary charge)]\n",
      "elec  [1, 1, 0, 0, 0, 0, Quantity(value=0.417, unit=elementary charge), Quantity(value=0.417, unit=elementary charge)]\n",
      "elec  [1, 1, 0, 0, 0, 0, Quantity(value=-0.834, unit=elementary charge), Quantity(value=-0.834, unit=elementary charge)]\n",
      "elec  [1, 1, 0, 0, 0, 0, Quantity(value=0.417, unit=elementary charge), Quantity(value=0.417, unit=elementary charge)]\n",
      "elec  [1, 1, 0, 0, 0, 0, Quantity(value=0.417, unit=elementary charge), Quantity(value=0.417, unit=elementary charge)]\n",
      "elec  [1, 1, 0, 0, 0, 0, Quantity(value=-0.834, unit=elementary charge), Quantity(value=-0.834, unit=elementary charge)]\n",
      "elec  [1, 1, 0, 0, 0, 0, Quantity(value=0.417, unit=elementary charge), Quantity(value=0.417, unit=elementary charge)]\n",
      "elec  [1, 1, 0, 0, 0, 0, Quantity(value=0.417, unit=elementary charge), Quantity(value=0.417, unit=elementary charge)]\n",
      "elec  [1, 1, 0, 0, 0, 0, Quantity(value=-0.834, unit=elementary charge), Quantity(value=-0.834, unit=elementary charge)]\n",
      "elec  [1, 1, 0, 0, 0, 0, Quantity(value=0.417, unit=elementary charge), Quantity(value=0.417, unit=elementary charge)]\n",
      "elec  [1, 1, 0, 0, 0, 0, Quantity(value=0.417, unit=elementary charge), Quantity(value=0.417, unit=elementary charge)]\n",
      "elec  [1, 1, 0, 0, 0, 0, Quantity(value=-0.834, unit=elementary charge), Quantity(value=-0.834, unit=elementary charge)]\n",
      "elec  [1, 1, 0, 0, 0, 0, Quantity(value=0.417, unit=elementary charge), Quantity(value=0.417, unit=elementary charge)]\n",
      "elec  [1, 1, 0, 0, 0, 0, Quantity(value=0.417, unit=elementary charge), Quantity(value=0.417, unit=elementary charge)]\n",
      "elec  [1, 1, 0, 0, 0, 0, Quantity(value=-0.834, unit=elementary charge), Quantity(value=-0.834, unit=elementary charge)]\n",
      "elec  [1, 1, 0, 0, 0, 0, Quantity(value=0.417, unit=elementary charge), Quantity(value=0.417, unit=elementary charge)]\n",
      "elec  [1, 1, 0, 0, 0, 0, Quantity(value=0.417, unit=elementary charge), Quantity(value=0.417, unit=elementary charge)]\n",
      "elec  [1, 1, 0, 0, 0, 0, Quantity(value=-0.834, unit=elementary charge), Quantity(value=-0.834, unit=elementary charge)]\n",
      "elec  [1, 1, 0, 0, 0, 0, Quantity(value=0.417, unit=elementary charge), Quantity(value=0.417, unit=elementary charge)]\n",
      "elec  [1, 1, 0, 0, 0, 0, Quantity(value=0.417, unit=elementary charge), Quantity(value=0.417, unit=elementary charge)]\n",
      "elec  [1, 1, 0, 0, 0, 0, Quantity(value=-0.834, unit=elementary charge), Quantity(value=-0.834, unit=elementary charge)]\n",
      "elec  [1, 1, 0, 0, 0, 0, Quantity(value=0.417, unit=elementary charge), Quantity(value=0.417, unit=elementary charge)]\n",
      "elec  [1, 1, 0, 0, 0, 0, Quantity(value=0.417, unit=elementary charge), Quantity(value=0.417, unit=elementary charge)]\n",
      "elec  [1, 1, 0, 0, 0, 0, Quantity(value=-0.834, unit=elementary charge), Quantity(value=-0.834, unit=elementary charge)]\n",
      "elec  [1, 1, 0, 0, 0, 0, Quantity(value=0.417, unit=elementary charge), Quantity(value=0.417, unit=elementary charge)]\n",
      "elec  [1, 1, 0, 0, 0, 0, Quantity(value=0.417, unit=elementary charge), Quantity(value=0.417, unit=elementary charge)]\n",
      "elec  [1, 1, 0, 0, 0, 0, Quantity(value=-0.834, unit=elementary charge), Quantity(value=-0.834, unit=elementary charge)]\n",
      "elec  [1, 1, 0, 0, 0, 0, Quantity(value=0.417, unit=elementary charge), Quantity(value=0.417, unit=elementary charge)]\n",
      "elec  [1, 1, 0, 0, 0, 0, Quantity(value=0.417, unit=elementary charge), Quantity(value=0.417, unit=elementary charge)]\n",
      "elec  [1, 1, 0, 0, 0, 0, Quantity(value=-0.834, unit=elementary charge), Quantity(value=-0.834, unit=elementary charge)]\n",
      "elec  [1, 1, 0, 0, 0, 0, Quantity(value=0.417, unit=elementary charge), Quantity(value=0.417, unit=elementary charge)]\n",
      "elec  [1, 1, 0, 0, 0, 0, Quantity(value=0.417, unit=elementary charge), Quantity(value=0.417, unit=elementary charge)]\n",
      "elec  [1, 1, 0, 0, 0, 0, Quantity(value=-0.834, unit=elementary charge), Quantity(value=-0.834, unit=elementary charge)]\n",
      "elec  [1, 1, 0, 0, 0, 0, Quantity(value=0.417, unit=elementary charge), Quantity(value=0.417, unit=elementary charge)]\n",
      "elec  [1, 1, 0, 0, 0, 0, Quantity(value=0.417, unit=elementary charge), Quantity(value=0.417, unit=elementary charge)]\n",
      "elec  [1, 1, 0, 0, 0, 0, Quantity(value=-0.834, unit=elementary charge), Quantity(value=-0.834, unit=elementary charge)]\n",
      "elec  [1, 1, 0, 0, 0, 0, Quantity(value=0.417, unit=elementary charge), Quantity(value=0.417, unit=elementary charge)]\n",
      "elec  [1, 1, 0, 0, 0, 0, Quantity(value=0.417, unit=elementary charge), Quantity(value=0.417, unit=elementary charge)]\n",
      "elec  [1, 1, 0, 0, 0, 0, Quantity(value=-0.834, unit=elementary charge), Quantity(value=-0.834, unit=elementary charge)]\n",
      "elec  [1, 1, 0, 0, 0, 0, Quantity(value=0.417, unit=elementary charge), Quantity(value=0.417, unit=elementary charge)]\n",
      "elec  [1, 1, 0, 0, 0, 0, Quantity(value=0.417, unit=elementary charge), Quantity(value=0.417, unit=elementary charge)]\n",
      "elec  [1, 1, 0, 0, 0, 0, Quantity(value=-0.834, unit=elementary charge), Quantity(value=-0.834, unit=elementary charge)]\n",
      "elec  [1, 1, 0, 0, 0, 0, Quantity(value=0.417, unit=elementary charge), Quantity(value=0.417, unit=elementary charge)]\n",
      "elec  [1, 1, 0, 0, 0, 0, Quantity(value=0.417, unit=elementary charge), Quantity(value=0.417, unit=elementary charge)]\n",
      "elec  [1, 1, 0, 0, 0, 0, Quantity(value=-0.834, unit=elementary charge), Quantity(value=-0.834, unit=elementary charge)]\n",
      "elec  [1, 1, 0, 0, 0, 0, Quantity(value=0.417, unit=elementary charge), Quantity(value=0.417, unit=elementary charge)]\n",
      "elec  [1, 1, 0, 0, 0, 0, Quantity(value=0.417, unit=elementary charge), Quantity(value=0.417, unit=elementary charge)]\n",
      "elec  [1, 1, 0, 0, 0, 0, Quantity(value=-0.834, unit=elementary charge), Quantity(value=-0.834, unit=elementary charge)]\n",
      "elec  [1, 1, 0, 0, 0, 0, Quantity(value=0.417, unit=elementary charge), Quantity(value=0.417, unit=elementary charge)]\n",
      "elec  [1, 1, 0, 0, 0, 0, Quantity(value=0.417, unit=elementary charge), Quantity(value=0.417, unit=elementary charge)]\n",
      "elec  [1, 1, 0, 0, 0, 0, Quantity(value=-0.834, unit=elementary charge), Quantity(value=-0.834, unit=elementary charge)]\n",
      "elec  [1, 1, 0, 0, 0, 0, Quantity(value=0.417, unit=elementary charge), Quantity(value=0.417, unit=elementary charge)]\n",
      "elec  [1, 1, 0, 0, 0, 0, Quantity(value=0.417, unit=elementary charge), Quantity(value=0.417, unit=elementary charge)]\n",
      "elec  [1, 1, 0, 0, 0, 0, Quantity(value=-0.834, unit=elementary charge), Quantity(value=-0.834, unit=elementary charge)]\n",
      "elec  [1, 1, 0, 0, 0, 0, Quantity(value=0.417, unit=elementary charge), Quantity(value=0.417, unit=elementary charge)]\n",
      "elec  [1, 1, 0, 0, 0, 0, Quantity(value=0.417, unit=elementary charge), Quantity(value=0.417, unit=elementary charge)]\n",
      "elec  [1, 1, 0, 0, 0, 0, Quantity(value=-0.834, unit=elementary charge), Quantity(value=-0.834, unit=elementary charge)]\n",
      "elec  [1, 1, 0, 0, 0, 0, Quantity(value=0.417, unit=elementary charge), Quantity(value=0.417, unit=elementary charge)]\n",
      "elec  [1, 1, 0, 0, 0, 0, Quantity(value=0.417, unit=elementary charge), Quantity(value=0.417, unit=elementary charge)]\n",
      "elec  [1, 1, 0, 0, 0, 0, Quantity(value=-0.834, unit=elementary charge), Quantity(value=-0.834, unit=elementary charge)]\n",
      "elec  [1, 1, 0, 0, 0, 0, Quantity(value=0.417, unit=elementary charge), Quantity(value=0.417, unit=elementary charge)]\n",
      "elec  [1, 1, 0, 0, 0, 0, Quantity(value=0.417, unit=elementary charge), Quantity(value=0.417, unit=elementary charge)]\n",
      "elec  [1, 1, 0, 0, 0, 0, Quantity(value=-0.834, unit=elementary charge), Quantity(value=-0.834, unit=elementary charge)]\n",
      "elec  [1, 1, 0, 0, 0, 0, Quantity(value=0.417, unit=elementary charge), Quantity(value=0.417, unit=elementary charge)]\n",
      "elec  [1, 1, 0, 0, 0, 0, Quantity(value=0.417, unit=elementary charge), Quantity(value=0.417, unit=elementary charge)]\n",
      "elec  [1, 1, 0, 0, 0, 0, Quantity(value=-0.834, unit=elementary charge), Quantity(value=-0.834, unit=elementary charge)]\n",
      "elec  [1, 1, 0, 0, 0, 0, Quantity(value=0.417, unit=elementary charge), Quantity(value=0.417, unit=elementary charge)]\n",
      "elec  [1, 1, 0, 0, 0, 0, Quantity(value=0.417, unit=elementary charge), Quantity(value=0.417, unit=elementary charge)]\n",
      "elec  [1, 1, 0, 0, 0, 0, Quantity(value=-0.834, unit=elementary charge), Quantity(value=-0.834, unit=elementary charge)]\n",
      "elec  [1, 1, 0, 0, 0, 0, Quantity(value=0.417, unit=elementary charge), Quantity(value=0.417, unit=elementary charge)]\n",
      "elec  [1, 1, 0, 0, 0, 0, Quantity(value=0.417, unit=elementary charge), Quantity(value=0.417, unit=elementary charge)]\n",
      "elec  [1, 1, 0, 0, 0, 0, Quantity(value=-0.834, unit=elementary charge), Quantity(value=-0.834, unit=elementary charge)]\n",
      "elec  [1, 1, 0, 0, 0, 0, Quantity(value=0.417, unit=elementary charge), Quantity(value=0.417, unit=elementary charge)]\n",
      "elec  [1, 1, 0, 0, 0, 0, Quantity(value=0.417, unit=elementary charge), Quantity(value=0.417, unit=elementary charge)]\n",
      "elec  [1, 1, 0, 0, 0, 0, Quantity(value=-0.834, unit=elementary charge), Quantity(value=-0.834, unit=elementary charge)]\n",
      "elec  [1, 1, 0, 0, 0, 0, Quantity(value=0.417, unit=elementary charge), Quantity(value=0.417, unit=elementary charge)]\n",
      "elec  [1, 1, 0, 0, 0, 0, Quantity(value=0.417, unit=elementary charge), Quantity(value=0.417, unit=elementary charge)]\n",
      "elec  [1, 1, 0, 0, 0, 0, Quantity(value=-0.834, unit=elementary charge), Quantity(value=-0.834, unit=elementary charge)]\n",
      "elec  [1, 1, 0, 0, 0, 0, Quantity(value=0.417, unit=elementary charge), Quantity(value=0.417, unit=elementary charge)]\n",
      "elec  [1, 1, 0, 0, 0, 0, Quantity(value=0.417, unit=elementary charge), Quantity(value=0.417, unit=elementary charge)]\n",
      "elec  [1, 1, 0, 0, 0, 0, Quantity(value=-0.834, unit=elementary charge), Quantity(value=-0.834, unit=elementary charge)]\n",
      "elec  [1, 1, 0, 0, 0, 0, Quantity(value=0.417, unit=elementary charge), Quantity(value=0.417, unit=elementary charge)]\n",
      "elec  [1, 1, 0, 0, 0, 0, Quantity(value=0.417, unit=elementary charge), Quantity(value=0.417, unit=elementary charge)]\n",
      "elec  [1, 1, 0, 0, 0, 0, Quantity(value=-0.834, unit=elementary charge), Quantity(value=-0.834, unit=elementary charge)]\n",
      "elec  [1, 1, 0, 0, 0, 0, Quantity(value=0.417, unit=elementary charge), Quantity(value=0.417, unit=elementary charge)]\n",
      "elec  [1, 1, 0, 0, 0, 0, Quantity(value=0.417, unit=elementary charge), Quantity(value=0.417, unit=elementary charge)]\n",
      "elec  [1, 1, 0, 0, 0, 0, Quantity(value=-0.834, unit=elementary charge), Quantity(value=-0.834, unit=elementary charge)]\n",
      "elec  [1, 1, 0, 0, 0, 0, Quantity(value=0.417, unit=elementary charge), Quantity(value=0.417, unit=elementary charge)]\n",
      "elec  [1, 1, 0, 0, 0, 0, Quantity(value=0.417, unit=elementary charge), Quantity(value=0.417, unit=elementary charge)]\n",
      "elec  [1, 1, 0, 0, 0, 0, Quantity(value=-0.834, unit=elementary charge), Quantity(value=-0.834, unit=elementary charge)]\n",
      "elec  [1, 1, 0, 0, 0, 0, Quantity(value=0.417, unit=elementary charge), Quantity(value=0.417, unit=elementary charge)]\n",
      "elec  [1, 1, 0, 0, 0, 0, Quantity(value=0.417, unit=elementary charge), Quantity(value=0.417, unit=elementary charge)]\n",
      "elec  [1, 1, 0, 0, 0, 0, Quantity(value=-0.834, unit=elementary charge), Quantity(value=-0.834, unit=elementary charge)]\n",
      "elec  [1, 1, 0, 0, 0, 0, Quantity(value=0.417, unit=elementary charge), Quantity(value=0.417, unit=elementary charge)]\n",
      "elec  [1, 1, 0, 0, 0, 0, Quantity(value=0.417, unit=elementary charge), Quantity(value=0.417, unit=elementary charge)]\n",
      "elec  [1, 1, 0, 0, 0, 0, Quantity(value=-0.834, unit=elementary charge), Quantity(value=-0.834, unit=elementary charge)]\n",
      "elec  [1, 1, 0, 0, 0, 0, Quantity(value=0.417, unit=elementary charge), Quantity(value=0.417, unit=elementary charge)]\n",
      "elec  [1, 1, 0, 0, 0, 0, Quantity(value=0.417, unit=elementary charge), Quantity(value=0.417, unit=elementary charge)]\n",
      "elec  [1, 1, 0, 0, 0, 0, Quantity(value=-0.834, unit=elementary charge), Quantity(value=-0.834, unit=elementary charge)]\n",
      "elec  [1, 1, 0, 0, 0, 0, Quantity(value=0.417, unit=elementary charge), Quantity(value=0.417, unit=elementary charge)]\n",
      "elec  [1, 1, 0, 0, 0, 0, Quantity(value=0.417, unit=elementary charge), Quantity(value=0.417, unit=elementary charge)]\n",
      "elec  [1, 1, 0, 0, 0, 0, Quantity(value=-0.834, unit=elementary charge), Quantity(value=-0.834, unit=elementary charge)]\n",
      "elec  [1, 1, 0, 0, 0, 0, Quantity(value=0.417, unit=elementary charge), Quantity(value=0.417, unit=elementary charge)]\n",
      "elec  [1, 1, 0, 0, 0, 0, Quantity(value=0.417, unit=elementary charge), Quantity(value=0.417, unit=elementary charge)]\n",
      "elec  [1, 1, 0, 0, 0, 0, Quantity(value=-0.834, unit=elementary charge), Quantity(value=-0.834, unit=elementary charge)]\n",
      "elec  [1, 1, 0, 0, 0, 0, Quantity(value=0.417, unit=elementary charge), Quantity(value=0.417, unit=elementary charge)]\n",
      "elec  [1, 1, 0, 0, 0, 0, Quantity(value=0.417, unit=elementary charge), Quantity(value=0.417, unit=elementary charge)]\n",
      "elec  [1, 1, 0, 0, 0, 0, Quantity(value=-0.834, unit=elementary charge), Quantity(value=-0.834, unit=elementary charge)]\n",
      "elec  [1, 1, 0, 0, 0, 0, Quantity(value=0.417, unit=elementary charge), Quantity(value=0.417, unit=elementary charge)]\n",
      "elec  [1, 1, 0, 0, 0, 0, Quantity(value=0.417, unit=elementary charge), Quantity(value=0.417, unit=elementary charge)]\n",
      "elec  [1, 1, 0, 0, 0, 0, Quantity(value=-0.834, unit=elementary charge), Quantity(value=-0.834, unit=elementary charge)]\n",
      "elec  [1, 1, 0, 0, 0, 0, Quantity(value=0.417, unit=elementary charge), Quantity(value=0.417, unit=elementary charge)]\n",
      "elec  [1, 1, 0, 0, 0, 0, Quantity(value=0.417, unit=elementary charge), Quantity(value=0.417, unit=elementary charge)]\n",
      "elec  [1, 1, 0, 0, 0, 0, Quantity(value=-0.834, unit=elementary charge), Quantity(value=-0.834, unit=elementary charge)]\n",
      "elec  [1, 1, 0, 0, 0, 0, Quantity(value=0.417, unit=elementary charge), Quantity(value=0.417, unit=elementary charge)]\n",
      "elec  [1, 1, 0, 0, 0, 0, Quantity(value=0.417, unit=elementary charge), Quantity(value=0.417, unit=elementary charge)]\n",
      "elec  [1, 1, 0, 0, 0, 0, Quantity(value=-0.834, unit=elementary charge), Quantity(value=-0.834, unit=elementary charge)]\n",
      "elec  [1, 1, 0, 0, 0, 0, Quantity(value=0.417, unit=elementary charge), Quantity(value=0.417, unit=elementary charge)]\n",
      "elec  [1, 1, 0, 0, 0, 0, Quantity(value=0.417, unit=elementary charge), Quantity(value=0.417, unit=elementary charge)]\n",
      "elec  [1, 1, 0, 0, 0, 0, Quantity(value=-0.834, unit=elementary charge), Quantity(value=-0.834, unit=elementary charge)]\n",
      "elec  [1, 1, 0, 0, 0, 0, Quantity(value=0.417, unit=elementary charge), Quantity(value=0.417, unit=elementary charge)]\n",
      "elec  [1, 1, 0, 0, 0, 0, Quantity(value=0.417, unit=elementary charge), Quantity(value=0.417, unit=elementary charge)]\n",
      "elec  [1, 1, 0, 0, 0, 0, Quantity(value=-0.834, unit=elementary charge), Quantity(value=-0.834, unit=elementary charge)]\n",
      "elec  [1, 1, 0, 0, 0, 0, Quantity(value=0.417, unit=elementary charge), Quantity(value=0.417, unit=elementary charge)]\n",
      "elec  [1, 1, 0, 0, 0, 0, Quantity(value=0.417, unit=elementary charge), Quantity(value=0.417, unit=elementary charge)]\n",
      "elec  [1, 1, 0, 0, 0, 0, Quantity(value=-0.834, unit=elementary charge), Quantity(value=-0.834, unit=elementary charge)]\n",
      "elec  [1, 1, 0, 0, 0, 0, Quantity(value=0.417, unit=elementary charge), Quantity(value=0.417, unit=elementary charge)]\n",
      "elec  [1, 1, 0, 0, 0, 0, Quantity(value=0.417, unit=elementary charge), Quantity(value=0.417, unit=elementary charge)]\n",
      "elec  [1, 1, 0, 0, 0, 0, Quantity(value=-0.834, unit=elementary charge), Quantity(value=-0.834, unit=elementary charge)]\n",
      "elec  [1, 1, 0, 0, 0, 0, Quantity(value=0.417, unit=elementary charge), Quantity(value=0.417, unit=elementary charge)]\n",
      "elec  [1, 1, 0, 0, 0, 0, Quantity(value=0.417, unit=elementary charge), Quantity(value=0.417, unit=elementary charge)]\n",
      "elec  [1, 1, 0, 0, 0, 0, Quantity(value=-0.834, unit=elementary charge), Quantity(value=-0.834, unit=elementary charge)]\n",
      "elec  [1, 1, 0, 0, 0, 0, Quantity(value=0.417, unit=elementary charge), Quantity(value=0.417, unit=elementary charge)]\n",
      "elec  [1, 1, 0, 0, 0, 0, Quantity(value=0.417, unit=elementary charge), Quantity(value=0.417, unit=elementary charge)]\n",
      "elec  [1, 1, 0, 0, 0, 0, Quantity(value=-0.834, unit=elementary charge), Quantity(value=-0.834, unit=elementary charge)]\n",
      "elec  [1, 1, 0, 0, 0, 0, Quantity(value=0.417, unit=elementary charge), Quantity(value=0.417, unit=elementary charge)]\n",
      "elec  [1, 1, 0, 0, 0, 0, Quantity(value=0.417, unit=elementary charge), Quantity(value=0.417, unit=elementary charge)]\n",
      "elec  [1, 1, 0, 0, 0, 0, Quantity(value=-0.834, unit=elementary charge), Quantity(value=-0.834, unit=elementary charge)]\n",
      "elec  [1, 1, 0, 0, 0, 0, Quantity(value=0.417, unit=elementary charge), Quantity(value=0.417, unit=elementary charge)]\n",
      "elec  [1, 1, 0, 0, 0, 0, Quantity(value=0.417, unit=elementary charge), Quantity(value=0.417, unit=elementary charge)]\n",
      "elec  [1, 1, 0, 0, 0, 0, Quantity(value=-0.834, unit=elementary charge), Quantity(value=-0.834, unit=elementary charge)]\n",
      "elec  [1, 1, 0, 0, 0, 0, Quantity(value=0.417, unit=elementary charge), Quantity(value=0.417, unit=elementary charge)]\n",
      "elec  [1, 1, 0, 0, 0, 0, Quantity(value=0.417, unit=elementary charge), Quantity(value=0.417, unit=elementary charge)]\n",
      "elec  [1, 1, 0, 0, 0, 0, Quantity(value=-0.834, unit=elementary charge), Quantity(value=-0.834, unit=elementary charge)]\n",
      "elec  [1, 1, 0, 0, 0, 0, Quantity(value=0.417, unit=elementary charge), Quantity(value=0.417, unit=elementary charge)]\n",
      "elec  [1, 1, 0, 0, 0, 0, Quantity(value=0.417, unit=elementary charge), Quantity(value=0.417, unit=elementary charge)]\n",
      "elec  [1, 1, 0, 0, 0, 0, Quantity(value=-0.834, unit=elementary charge), Quantity(value=-0.834, unit=elementary charge)]\n",
      "elec  [1, 1, 0, 0, 0, 0, Quantity(value=0.417, unit=elementary charge), Quantity(value=0.417, unit=elementary charge)]\n",
      "elec  [1, 1, 0, 0, 0, 0, Quantity(value=0.417, unit=elementary charge), Quantity(value=0.417, unit=elementary charge)]\n",
      "elec  [1, 1, 0, 0, 0, 0, Quantity(value=-0.834, unit=elementary charge), Quantity(value=-0.834, unit=elementary charge)]\n",
      "elec  [1, 1, 0, 0, 0, 0, Quantity(value=0.417, unit=elementary charge), Quantity(value=0.417, unit=elementary charge)]\n",
      "elec  [1, 1, 0, 0, 0, 0, Quantity(value=0.417, unit=elementary charge), Quantity(value=0.417, unit=elementary charge)]\n",
      "elec  [1, 1, 0, 0, 0, 0, Quantity(value=-0.834, unit=elementary charge), Quantity(value=-0.834, unit=elementary charge)]\n",
      "elec  [1, 1, 0, 0, 0, 0, Quantity(value=0.417, unit=elementary charge), Quantity(value=0.417, unit=elementary charge)]\n",
      "elec  [1, 1, 0, 0, 0, 0, Quantity(value=0.417, unit=elementary charge), Quantity(value=0.417, unit=elementary charge)]\n",
      "elec  [1, 1, 0, 0, 0, 0, Quantity(value=-0.834, unit=elementary charge), Quantity(value=-0.834, unit=elementary charge)]\n",
      "elec  [1, 1, 0, 0, 0, 0, Quantity(value=0.417, unit=elementary charge), Quantity(value=0.417, unit=elementary charge)]\n",
      "elec  [1, 1, 0, 0, 0, 0, Quantity(value=0.417, unit=elementary charge), Quantity(value=0.417, unit=elementary charge)]\n",
      "elec  [1, 1, 0, 0, 0, 0, Quantity(value=-0.834, unit=elementary charge), Quantity(value=-0.834, unit=elementary charge)]\n",
      "elec  [1, 1, 0, 0, 0, 0, Quantity(value=0.417, unit=elementary charge), Quantity(value=0.417, unit=elementary charge)]\n",
      "elec  [1, 1, 0, 0, 0, 0, Quantity(value=0.417, unit=elementary charge), Quantity(value=0.417, unit=elementary charge)]\n",
      "elec  [1, 1, 0, 0, 0, 0, Quantity(value=-0.834, unit=elementary charge), Quantity(value=-0.834, unit=elementary charge)]\n",
      "elec  [1, 1, 0, 0, 0, 0, Quantity(value=0.417, unit=elementary charge), Quantity(value=0.417, unit=elementary charge)]\n",
      "elec  [1, 1, 0, 0, 0, 0, Quantity(value=0.417, unit=elementary charge), Quantity(value=0.417, unit=elementary charge)]\n",
      "elec  [1, 1, 0, 0, 0, 0, Quantity(value=-0.834, unit=elementary charge), Quantity(value=-0.834, unit=elementary charge)]\n",
      "elec  [1, 1, 0, 0, 0, 0, Quantity(value=0.417, unit=elementary charge), Quantity(value=0.417, unit=elementary charge)]\n",
      "elec  [1, 1, 0, 0, 0, 0, Quantity(value=0.417, unit=elementary charge), Quantity(value=0.417, unit=elementary charge)]\n",
      "elec  [1, 1, 0, 0, 0, 0, Quantity(value=-0.834, unit=elementary charge), Quantity(value=-0.834, unit=elementary charge)]\n",
      "elec  [1, 1, 0, 0, 0, 0, Quantity(value=0.417, unit=elementary charge), Quantity(value=0.417, unit=elementary charge)]\n",
      "elec  [1, 1, 0, 0, 0, 0, Quantity(value=0.417, unit=elementary charge), Quantity(value=0.417, unit=elementary charge)]\n",
      "elec  [1, 1, 0, 0, 0, 0, Quantity(value=-0.834, unit=elementary charge), Quantity(value=-0.834, unit=elementary charge)]\n",
      "elec  [1, 1, 0, 0, 0, 0, Quantity(value=0.417, unit=elementary charge), Quantity(value=0.417, unit=elementary charge)]\n",
      "elec  [1, 1, 0, 0, 0, 0, Quantity(value=0.417, unit=elementary charge), Quantity(value=0.417, unit=elementary charge)]\n",
      "elec  [1, 1, 0, 0, 0, 0, Quantity(value=-0.834, unit=elementary charge), Quantity(value=-0.834, unit=elementary charge)]\n",
      "elec  [1, 1, 0, 0, 0, 0, Quantity(value=0.417, unit=elementary charge), Quantity(value=0.417, unit=elementary charge)]\n",
      "elec  [1, 1, 0, 0, 0, 0, Quantity(value=0.417, unit=elementary charge), Quantity(value=0.417, unit=elementary charge)]\n",
      "elec  [1, 1, 0, 0, 0, 0, Quantity(value=-0.834, unit=elementary charge), Quantity(value=-0.834, unit=elementary charge)]\n",
      "elec  [1, 1, 0, 0, 0, 0, Quantity(value=0.417, unit=elementary charge), Quantity(value=0.417, unit=elementary charge)]\n",
      "elec  [1, 1, 0, 0, 0, 0, Quantity(value=0.417, unit=elementary charge), Quantity(value=0.417, unit=elementary charge)]\n",
      "elec  [1, 1, 0, 0, 0, 0, Quantity(value=-0.834, unit=elementary charge), Quantity(value=-0.834, unit=elementary charge)]\n",
      "elec  [1, 1, 0, 0, 0, 0, Quantity(value=0.417, unit=elementary charge), Quantity(value=0.417, unit=elementary charge)]\n",
      "elec  [1, 1, 0, 0, 0, 0, Quantity(value=0.417, unit=elementary charge), Quantity(value=0.417, unit=elementary charge)]\n",
      "elec  [1, 1, 0, 0, 0, 0, Quantity(value=-0.834, unit=elementary charge), Quantity(value=-0.834, unit=elementary charge)]\n",
      "elec  [1, 1, 0, 0, 0, 0, Quantity(value=0.417, unit=elementary charge), Quantity(value=0.417, unit=elementary charge)]\n",
      "elec  [1, 1, 0, 0, 0, 0, Quantity(value=0.417, unit=elementary charge), Quantity(value=0.417, unit=elementary charge)]\n",
      "elec  [1, 1, 0, 0, 0, 0, Quantity(value=-0.834, unit=elementary charge), Quantity(value=-0.834, unit=elementary charge)]\n",
      "elec  [1, 1, 0, 0, 0, 0, Quantity(value=0.417, unit=elementary charge), Quantity(value=0.417, unit=elementary charge)]\n",
      "elec  [1, 1, 0, 0, 0, 0, Quantity(value=0.417, unit=elementary charge), Quantity(value=0.417, unit=elementary charge)]\n",
      "elec  [1, 1, 0, 0, 0, 0, Quantity(value=-0.834, unit=elementary charge), Quantity(value=-0.834, unit=elementary charge)]\n",
      "elec  [1, 1, 0, 0, 0, 0, Quantity(value=0.417, unit=elementary charge), Quantity(value=0.417, unit=elementary charge)]\n",
      "elec  [1, 1, 0, 0, 0, 0, Quantity(value=0.417, unit=elementary charge), Quantity(value=0.417, unit=elementary charge)]\n",
      "elec  [1, 1, 0, 0, 0, 0, Quantity(value=-0.834, unit=elementary charge), Quantity(value=-0.834, unit=elementary charge)]\n",
      "elec  [1, 1, 0, 0, 0, 0, Quantity(value=0.417, unit=elementary charge), Quantity(value=0.417, unit=elementary charge)]\n",
      "elec  [1, 1, 0, 0, 0, 0, Quantity(value=0.417, unit=elementary charge), Quantity(value=0.417, unit=elementary charge)]\n",
      "elec  [1, 1, 0, 0, 0, 0, Quantity(value=-0.834, unit=elementary charge), Quantity(value=-0.834, unit=elementary charge)]\n",
      "elec  [1, 1, 0, 0, 0, 0, Quantity(value=0.417, unit=elementary charge), Quantity(value=0.417, unit=elementary charge)]\n",
      "elec  [1, 1, 0, 0, 0, 0, Quantity(value=0.417, unit=elementary charge), Quantity(value=0.417, unit=elementary charge)]\n",
      "elec  [1, 1, 0, 0, 0, 0, Quantity(value=-0.834, unit=elementary charge), Quantity(value=-0.834, unit=elementary charge)]\n",
      "elec  [1, 1, 0, 0, 0, 0, Quantity(value=0.417, unit=elementary charge), Quantity(value=0.417, unit=elementary charge)]\n",
      "elec  [1, 1, 0, 0, 0, 0, Quantity(value=0.417, unit=elementary charge), Quantity(value=0.417, unit=elementary charge)]\n",
      "elec  [1, 1, 0, 0, 0, 0, Quantity(value=-0.834, unit=elementary charge), Quantity(value=-0.834, unit=elementary charge)]\n",
      "elec  [1, 1, 0, 0, 0, 0, Quantity(value=0.417, unit=elementary charge), Quantity(value=0.417, unit=elementary charge)]\n",
      "elec  [1, 1, 0, 0, 0, 0, Quantity(value=0.417, unit=elementary charge), Quantity(value=0.417, unit=elementary charge)]\n",
      "elec  [1, 1, 0, 0, 0, 0, Quantity(value=-0.834, unit=elementary charge), Quantity(value=-0.834, unit=elementary charge)]\n",
      "elec  [1, 1, 0, 0, 0, 0, Quantity(value=0.417, unit=elementary charge), Quantity(value=0.417, unit=elementary charge)]\n",
      "elec  [1, 1, 0, 0, 0, 0, Quantity(value=0.417, unit=elementary charge), Quantity(value=0.417, unit=elementary charge)]\n",
      "elec  [1, 1, 0, 0, 0, 0, Quantity(value=-0.834, unit=elementary charge), Quantity(value=-0.834, unit=elementary charge)]\n",
      "elec  [1, 1, 0, 0, 0, 0, Quantity(value=0.417, unit=elementary charge), Quantity(value=0.417, unit=elementary charge)]\n",
      "elec  [1, 1, 0, 0, 0, 0, Quantity(value=0.417, unit=elementary charge), Quantity(value=0.417, unit=elementary charge)]\n",
      "elec  [1, 1, 0, 0, 0, 0, Quantity(value=-0.834, unit=elementary charge), Quantity(value=-0.834, unit=elementary charge)]\n",
      "elec  [1, 1, 0, 0, 0, 0, Quantity(value=0.417, unit=elementary charge), Quantity(value=0.417, unit=elementary charge)]\n",
      "elec  [1, 1, 0, 0, 0, 0, Quantity(value=0.417, unit=elementary charge), Quantity(value=0.417, unit=elementary charge)]\n",
      "elec  [1, 1, 0, 0, 0, 0, Quantity(value=-0.834, unit=elementary charge), Quantity(value=-0.834, unit=elementary charge)]\n",
      "elec  [1, 1, 0, 0, 0, 0, Quantity(value=0.417, unit=elementary charge), Quantity(value=0.417, unit=elementary charge)]\n",
      "elec  [1, 1, 0, 0, 0, 0, Quantity(value=0.417, unit=elementary charge), Quantity(value=0.417, unit=elementary charge)]\n",
      "elec  [1, 1, 0, 0, 0, 0, Quantity(value=-0.834, unit=elementary charge), Quantity(value=-0.834, unit=elementary charge)]\n",
      "elec  [1, 1, 0, 0, 0, 0, Quantity(value=0.417, unit=elementary charge), Quantity(value=0.417, unit=elementary charge)]\n",
      "elec  [1, 1, 0, 0, 0, 0, Quantity(value=0.417, unit=elementary charge), Quantity(value=0.417, unit=elementary charge)]\n",
      "elec  [1, 1, 0, 0, 0, 0, Quantity(value=-0.834, unit=elementary charge), Quantity(value=-0.834, unit=elementary charge)]\n",
      "elec  [1, 1, 0, 0, 0, 0, Quantity(value=0.417, unit=elementary charge), Quantity(value=0.417, unit=elementary charge)]\n",
      "elec  [1, 1, 0, 0, 0, 0, Quantity(value=0.417, unit=elementary charge), Quantity(value=0.417, unit=elementary charge)]\n",
      "elec  [1, 1, 0, 0, 0, 0, Quantity(value=-0.834, unit=elementary charge), Quantity(value=-0.834, unit=elementary charge)]\n",
      "elec  [1, 1, 0, 0, 0, 0, Quantity(value=0.417, unit=elementary charge), Quantity(value=0.417, unit=elementary charge)]\n",
      "elec  [1, 1, 0, 0, 0, 0, Quantity(value=0.417, unit=elementary charge), Quantity(value=0.417, unit=elementary charge)]\n",
      "elec  [1, 1, 0, 0, 0, 0, Quantity(value=-0.834, unit=elementary charge), Quantity(value=-0.834, unit=elementary charge)]\n",
      "elec  [1, 1, 0, 0, 0, 0, Quantity(value=0.417, unit=elementary charge), Quantity(value=0.417, unit=elementary charge)]\n",
      "elec  [1, 1, 0, 0, 0, 0, Quantity(value=0.417, unit=elementary charge), Quantity(value=0.417, unit=elementary charge)]\n",
      "elec  [1, 1, 0, 0, 0, 0, Quantity(value=-0.834, unit=elementary charge), Quantity(value=-0.834, unit=elementary charge)]\n",
      "elec  [1, 1, 0, 0, 0, 0, Quantity(value=0.417, unit=elementary charge), Quantity(value=0.417, unit=elementary charge)]\n",
      "elec  [1, 1, 0, 0, 0, 0, Quantity(value=0.417, unit=elementary charge), Quantity(value=0.417, unit=elementary charge)]\n",
      "elec  [1, 1, 0, 0, 0, 0, Quantity(value=-0.834, unit=elementary charge), Quantity(value=-0.834, unit=elementary charge)]\n",
      "elec  [1, 1, 0, 0, 0, 0, Quantity(value=0.417, unit=elementary charge), Quantity(value=0.417, unit=elementary charge)]\n",
      "elec  [1, 1, 0, 0, 0, 0, Quantity(value=0.417, unit=elementary charge), Quantity(value=0.417, unit=elementary charge)]\n",
      "elec  [1, 1, 0, 0, 0, 0, Quantity(value=-0.834, unit=elementary charge), Quantity(value=-0.834, unit=elementary charge)]\n",
      "elec  [1, 1, 0, 0, 0, 0, Quantity(value=0.417, unit=elementary charge), Quantity(value=0.417, unit=elementary charge)]\n",
      "elec  [1, 1, 0, 0, 0, 0, Quantity(value=0.417, unit=elementary charge), Quantity(value=0.417, unit=elementary charge)]\n",
      "elec  [1, 1, 0, 0, 0, 0, Quantity(value=-0.834, unit=elementary charge), Quantity(value=-0.834, unit=elementary charge)]\n",
      "elec  [1, 1, 0, 0, 0, 0, Quantity(value=0.417, unit=elementary charge), Quantity(value=0.417, unit=elementary charge)]\n",
      "elec  [1, 1, 0, 0, 0, 0, Quantity(value=0.417, unit=elementary charge), Quantity(value=0.417, unit=elementary charge)]\n",
      "elec  [1, 1, 0, 0, 0, 0, Quantity(value=-0.834, unit=elementary charge), Quantity(value=-0.834, unit=elementary charge)]\n",
      "elec  [1, 1, 0, 0, 0, 0, Quantity(value=0.417, unit=elementary charge), Quantity(value=0.417, unit=elementary charge)]\n",
      "elec  [1, 1, 0, 0, 0, 0, Quantity(value=0.417, unit=elementary charge), Quantity(value=0.417, unit=elementary charge)]\n",
      "elec  [1, 1, 0, 0, 0, 0, Quantity(value=-0.834, unit=elementary charge), Quantity(value=-0.834, unit=elementary charge)]\n",
      "elec  [1, 1, 0, 0, 0, 0, Quantity(value=0.417, unit=elementary charge), Quantity(value=0.417, unit=elementary charge)]\n",
      "elec  [1, 1, 0, 0, 0, 0, Quantity(value=0.417, unit=elementary charge), Quantity(value=0.417, unit=elementary charge)]\n",
      "elec  [1, 1, 0, 0, 0, 0, Quantity(value=-0.834, unit=elementary charge), Quantity(value=-0.834, unit=elementary charge)]\n",
      "elec  [1, 1, 0, 0, 0, 0, Quantity(value=0.417, unit=elementary charge), Quantity(value=0.417, unit=elementary charge)]\n",
      "elec  [1, 1, 0, 0, 0, 0, Quantity(value=0.417, unit=elementary charge), Quantity(value=0.417, unit=elementary charge)]\n",
      "elec  [1, 1, 0, 0, 0, 0, Quantity(value=-0.834, unit=elementary charge), Quantity(value=-0.834, unit=elementary charge)]\n",
      "elec  [1, 1, 0, 0, 0, 0, Quantity(value=0.417, unit=elementary charge), Quantity(value=0.417, unit=elementary charge)]\n",
      "elec  [1, 1, 0, 0, 0, 0, Quantity(value=0.417, unit=elementary charge), Quantity(value=0.417, unit=elementary charge)]\n",
      "elec  [1, 1, 0, 0, 0, 0, Quantity(value=-0.834, unit=elementary charge), Quantity(value=-0.834, unit=elementary charge)]\n",
      "elec  [1, 1, 0, 0, 0, 0, Quantity(value=0.417, unit=elementary charge), Quantity(value=0.417, unit=elementary charge)]\n",
      "elec  [1, 1, 0, 0, 0, 0, Quantity(value=0.417, unit=elementary charge), Quantity(value=0.417, unit=elementary charge)]\n",
      "elec  [1, 1, 0, 0, 0, 0, Quantity(value=-0.834, unit=elementary charge), Quantity(value=-0.834, unit=elementary charge)]\n",
      "elec  [1, 1, 0, 0, 0, 0, Quantity(value=0.417, unit=elementary charge), Quantity(value=0.417, unit=elementary charge)]\n",
      "elec  [1, 1, 0, 0, 0, 0, Quantity(value=0.417, unit=elementary charge), Quantity(value=0.417, unit=elementary charge)]\n",
      "elec  [1, 1, 0, 0, 0, 0, Quantity(value=-0.834, unit=elementary charge), Quantity(value=-0.834, unit=elementary charge)]\n",
      "elec  [1, 1, 0, 0, 0, 0, Quantity(value=0.417, unit=elementary charge), Quantity(value=0.417, unit=elementary charge)]\n",
      "elec  [1, 1, 0, 0, 0, 0, Quantity(value=0.417, unit=elementary charge), Quantity(value=0.417, unit=elementary charge)]\n",
      "elec  [1, 1, 0, 0, 0, 0, Quantity(value=-0.834, unit=elementary charge), Quantity(value=-0.834, unit=elementary charge)]\n",
      "elec  [1, 1, 0, 0, 0, 0, Quantity(value=0.417, unit=elementary charge), Quantity(value=0.417, unit=elementary charge)]\n",
      "elec  [1, 1, 0, 0, 0, 0, Quantity(value=0.417, unit=elementary charge), Quantity(value=0.417, unit=elementary charge)]\n",
      "elec  [1, 1, 0, 0, 0, 0, Quantity(value=-0.834, unit=elementary charge), Quantity(value=-0.834, unit=elementary charge)]\n",
      "elec  [1, 1, 0, 0, 0, 0, Quantity(value=0.417, unit=elementary charge), Quantity(value=0.417, unit=elementary charge)]\n",
      "elec  [1, 1, 0, 0, 0, 0, Quantity(value=0.417, unit=elementary charge), Quantity(value=0.417, unit=elementary charge)]\n"
     ]
    },
    {
     "name": "stdout",
     "output_type": "stream",
     "text": [
      "elec  [1, 1, 0, 0, 0, 0, Quantity(value=-0.834, unit=elementary charge), Quantity(value=-0.834, unit=elementary charge)]\n",
      "elec  [1, 1, 0, 0, 0, 0, Quantity(value=0.417, unit=elementary charge), Quantity(value=0.417, unit=elementary charge)]\n",
      "elec  [1, 1, 0, 0, 0, 0, Quantity(value=0.417, unit=elementary charge), Quantity(value=0.417, unit=elementary charge)]\n",
      "elec  [1, 1, 0, 0, 0, 0, Quantity(value=-0.834, unit=elementary charge), Quantity(value=-0.834, unit=elementary charge)]\n",
      "elec  [1, 1, 0, 0, 0, 0, Quantity(value=0.417, unit=elementary charge), Quantity(value=0.417, unit=elementary charge)]\n",
      "elec  [1, 1, 0, 0, 0, 0, Quantity(value=0.417, unit=elementary charge), Quantity(value=0.417, unit=elementary charge)]\n",
      "elec  [1, 1, 0, 0, 0, 0, Quantity(value=-0.834, unit=elementary charge), Quantity(value=-0.834, unit=elementary charge)]\n",
      "elec  [1, 1, 0, 0, 0, 0, Quantity(value=0.417, unit=elementary charge), Quantity(value=0.417, unit=elementary charge)]\n",
      "elec  [1, 1, 0, 0, 0, 0, Quantity(value=0.417, unit=elementary charge), Quantity(value=0.417, unit=elementary charge)]\n",
      "elec  [1, 1, 0, 0, 0, 0, Quantity(value=-0.834, unit=elementary charge), Quantity(value=-0.834, unit=elementary charge)]\n",
      "elec  [1, 1, 0, 0, 0, 0, Quantity(value=0.417, unit=elementary charge), Quantity(value=0.417, unit=elementary charge)]\n",
      "elec  [1, 1, 0, 0, 0, 0, Quantity(value=0.417, unit=elementary charge), Quantity(value=0.417, unit=elementary charge)]\n",
      "elec  [1, 1, 0, 0, 0, 0, Quantity(value=-0.834, unit=elementary charge), Quantity(value=-0.834, unit=elementary charge)]\n",
      "elec  [1, 1, 0, 0, 0, 0, Quantity(value=0.417, unit=elementary charge), Quantity(value=0.417, unit=elementary charge)]\n",
      "elec  [1, 1, 0, 0, 0, 0, Quantity(value=0.417, unit=elementary charge), Quantity(value=0.417, unit=elementary charge)]\n",
      "elec  [1, 1, 0, 0, 0, 0, Quantity(value=-0.834, unit=elementary charge), Quantity(value=-0.834, unit=elementary charge)]\n",
      "elec  [1, 1, 0, 0, 0, 0, Quantity(value=0.417, unit=elementary charge), Quantity(value=0.417, unit=elementary charge)]\n",
      "elec  [1, 1, 0, 0, 0, 0, Quantity(value=0.417, unit=elementary charge), Quantity(value=0.417, unit=elementary charge)]\n",
      "elec  [1, 1, 0, 0, 0, 0, Quantity(value=-0.834, unit=elementary charge), Quantity(value=-0.834, unit=elementary charge)]\n",
      "elec  [1, 1, 0, 0, 0, 0, Quantity(value=0.417, unit=elementary charge), Quantity(value=0.417, unit=elementary charge)]\n",
      "elec  [1, 1, 0, 0, 0, 0, Quantity(value=0.417, unit=elementary charge), Quantity(value=0.417, unit=elementary charge)]\n",
      "elec  [1, 1, 0, 0, 0, 0, Quantity(value=-0.834, unit=elementary charge), Quantity(value=-0.834, unit=elementary charge)]\n",
      "elec  [1, 1, 0, 0, 0, 0, Quantity(value=0.417, unit=elementary charge), Quantity(value=0.417, unit=elementary charge)]\n",
      "elec  [1, 1, 0, 0, 0, 0, Quantity(value=0.417, unit=elementary charge), Quantity(value=0.417, unit=elementary charge)]\n",
      "elec  [1, 1, 0, 0, 0, 0, Quantity(value=-0.834, unit=elementary charge), Quantity(value=-0.834, unit=elementary charge)]\n",
      "elec  [1, 1, 0, 0, 0, 0, Quantity(value=0.417, unit=elementary charge), Quantity(value=0.417, unit=elementary charge)]\n",
      "elec  [1, 1, 0, 0, 0, 0, Quantity(value=0.417, unit=elementary charge), Quantity(value=0.417, unit=elementary charge)]\n",
      "elec  [1, 1, 0, 0, 0, 0, Quantity(value=-0.834, unit=elementary charge), Quantity(value=-0.834, unit=elementary charge)]\n",
      "elec  [1, 1, 0, 0, 0, 0, Quantity(value=0.417, unit=elementary charge), Quantity(value=0.417, unit=elementary charge)]\n",
      "elec  [1, 1, 0, 0, 0, 0, Quantity(value=0.417, unit=elementary charge), Quantity(value=0.417, unit=elementary charge)]\n",
      "elec  [1, 1, 0, 0, 0, 0, Quantity(value=-0.834, unit=elementary charge), Quantity(value=-0.834, unit=elementary charge)]\n",
      "elec  [1, 1, 0, 0, 0, 0, Quantity(value=0.417, unit=elementary charge), Quantity(value=0.417, unit=elementary charge)]\n",
      "elec  [1, 1, 0, 0, 0, 0, Quantity(value=0.417, unit=elementary charge), Quantity(value=0.417, unit=elementary charge)]\n",
      "elec  [1, 1, 0, 0, 0, 0, Quantity(value=-0.834, unit=elementary charge), Quantity(value=-0.834, unit=elementary charge)]\n",
      "elec  [1, 1, 0, 0, 0, 0, Quantity(value=0.417, unit=elementary charge), Quantity(value=0.417, unit=elementary charge)]\n",
      "elec  [1, 1, 0, 0, 0, 0, Quantity(value=0.417, unit=elementary charge), Quantity(value=0.417, unit=elementary charge)]\n",
      "elec  [1, 1, 0, 0, 0, 0, Quantity(value=-0.834, unit=elementary charge), Quantity(value=-0.834, unit=elementary charge)]\n",
      "elec  [1, 1, 0, 0, 0, 0, Quantity(value=0.417, unit=elementary charge), Quantity(value=0.417, unit=elementary charge)]\n",
      "elec  [1, 1, 0, 0, 0, 0, Quantity(value=0.417, unit=elementary charge), Quantity(value=0.417, unit=elementary charge)]\n",
      "elec  [1, 1, 0, 0, 0, 0, Quantity(value=-0.834, unit=elementary charge), Quantity(value=-0.834, unit=elementary charge)]\n",
      "elec  [1, 1, 0, 0, 0, 0, Quantity(value=0.417, unit=elementary charge), Quantity(value=0.417, unit=elementary charge)]\n",
      "elec  [1, 1, 0, 0, 0, 0, Quantity(value=0.417, unit=elementary charge), Quantity(value=0.417, unit=elementary charge)]\n",
      "elec  [1, 1, 0, 0, 0, 0, Quantity(value=-0.834, unit=elementary charge), Quantity(value=-0.834, unit=elementary charge)]\n",
      "elec  [1, 1, 0, 0, 0, 0, Quantity(value=0.417, unit=elementary charge), Quantity(value=0.417, unit=elementary charge)]\n",
      "elec  [1, 1, 0, 0, 0, 0, Quantity(value=0.417, unit=elementary charge), Quantity(value=0.417, unit=elementary charge)]\n",
      "elec  [1, 1, 0, 0, 0, 0, Quantity(value=-0.834, unit=elementary charge), Quantity(value=-0.834, unit=elementary charge)]\n",
      "elec  [1, 1, 0, 0, 0, 0, Quantity(value=0.417, unit=elementary charge), Quantity(value=0.417, unit=elementary charge)]\n",
      "elec  [1, 1, 0, 0, 0, 0, Quantity(value=0.417, unit=elementary charge), Quantity(value=0.417, unit=elementary charge)]\n",
      "elec  [1, 1, 0, 0, 0, 0, Quantity(value=-0.834, unit=elementary charge), Quantity(value=-0.834, unit=elementary charge)]\n",
      "elec  [1, 1, 0, 0, 0, 0, Quantity(value=0.417, unit=elementary charge), Quantity(value=0.417, unit=elementary charge)]\n",
      "elec  [1, 1, 0, 0, 0, 0, Quantity(value=0.417, unit=elementary charge), Quantity(value=0.417, unit=elementary charge)]\n",
      "elec  [1, 1, 0, 0, 0, 0, Quantity(value=-0.834, unit=elementary charge), Quantity(value=-0.834, unit=elementary charge)]\n",
      "elec  [1, 1, 0, 0, 0, 0, Quantity(value=0.417, unit=elementary charge), Quantity(value=0.417, unit=elementary charge)]\n",
      "elec  [1, 1, 0, 0, 0, 0, Quantity(value=0.417, unit=elementary charge), Quantity(value=0.417, unit=elementary charge)]\n",
      "elec  [1, 1, 0, 0, 0, 0, Quantity(value=-0.834, unit=elementary charge), Quantity(value=-0.834, unit=elementary charge)]\n",
      "elec  [1, 1, 0, 0, 0, 0, Quantity(value=0.417, unit=elementary charge), Quantity(value=0.417, unit=elementary charge)]\n",
      "elec  [1, 1, 0, 0, 0, 0, Quantity(value=0.417, unit=elementary charge), Quantity(value=0.417, unit=elementary charge)]\n",
      "elec  [1, 1, 0, 0, 0, 0, Quantity(value=-0.834, unit=elementary charge), Quantity(value=-0.834, unit=elementary charge)]\n",
      "elec  [1, 1, 0, 0, 0, 0, Quantity(value=0.417, unit=elementary charge), Quantity(value=0.417, unit=elementary charge)]\n",
      "elec  [1, 1, 0, 0, 0, 0, Quantity(value=0.417, unit=elementary charge), Quantity(value=0.417, unit=elementary charge)]\n",
      "elec  [1, 1, 0, 0, 0, 0, Quantity(value=-0.834, unit=elementary charge), Quantity(value=-0.834, unit=elementary charge)]\n",
      "elec  [1, 1, 0, 0, 0, 0, Quantity(value=0.417, unit=elementary charge), Quantity(value=0.417, unit=elementary charge)]\n",
      "elec  [1, 1, 0, 0, 0, 0, Quantity(value=0.417, unit=elementary charge), Quantity(value=0.417, unit=elementary charge)]\n",
      "elec  [1, 1, 0, 0, 0, 0, Quantity(value=-0.834, unit=elementary charge), Quantity(value=-0.834, unit=elementary charge)]\n",
      "elec  [1, 1, 0, 0, 0, 0, Quantity(value=0.417, unit=elementary charge), Quantity(value=0.417, unit=elementary charge)]\n",
      "elec  [1, 1, 0, 0, 0, 0, Quantity(value=0.417, unit=elementary charge), Quantity(value=0.417, unit=elementary charge)]\n",
      "elec  [1, 1, 0, 0, 0, 0, Quantity(value=-0.834, unit=elementary charge), Quantity(value=-0.834, unit=elementary charge)]\n",
      "elec  [1, 1, 0, 0, 0, 0, Quantity(value=0.417, unit=elementary charge), Quantity(value=0.417, unit=elementary charge)]\n",
      "elec  [1, 1, 0, 0, 0, 0, Quantity(value=0.417, unit=elementary charge), Quantity(value=0.417, unit=elementary charge)]\n",
      "elec  [1, 1, 0, 0, 0, 0, Quantity(value=-0.834, unit=elementary charge), Quantity(value=-0.834, unit=elementary charge)]\n",
      "elec  [1, 1, 0, 0, 0, 0, Quantity(value=0.417, unit=elementary charge), Quantity(value=0.417, unit=elementary charge)]\n",
      "elec  [1, 1, 0, 0, 0, 0, Quantity(value=0.417, unit=elementary charge), Quantity(value=0.417, unit=elementary charge)]\n",
      "elec  [1, 1, 0, 0, 0, 0, Quantity(value=-0.834, unit=elementary charge), Quantity(value=-0.834, unit=elementary charge)]\n",
      "elec  [1, 1, 0, 0, 0, 0, Quantity(value=0.417, unit=elementary charge), Quantity(value=0.417, unit=elementary charge)]\n",
      "elec  [1, 1, 0, 0, 0, 0, Quantity(value=0.417, unit=elementary charge), Quantity(value=0.417, unit=elementary charge)]\n",
      "elec  [1, 1, 0, 0, 0, 0, Quantity(value=-0.834, unit=elementary charge), Quantity(value=-0.834, unit=elementary charge)]\n",
      "elec  [1, 1, 0, 0, 0, 0, Quantity(value=0.417, unit=elementary charge), Quantity(value=0.417, unit=elementary charge)]\n",
      "elec  [1, 1, 0, 0, 0, 0, Quantity(value=0.417, unit=elementary charge), Quantity(value=0.417, unit=elementary charge)]\n",
      "elec  [1, 1, 0, 0, 0, 0, Quantity(value=-0.834, unit=elementary charge), Quantity(value=-0.834, unit=elementary charge)]\n",
      "elec  [1, 1, 0, 0, 0, 0, Quantity(value=0.417, unit=elementary charge), Quantity(value=0.417, unit=elementary charge)]\n",
      "elec  [1, 1, 0, 0, 0, 0, Quantity(value=0.417, unit=elementary charge), Quantity(value=0.417, unit=elementary charge)]\n",
      "elec  [1, 1, 0, 0, 0, 0, Quantity(value=-0.834, unit=elementary charge), Quantity(value=-0.834, unit=elementary charge)]\n",
      "elec  [1, 1, 0, 0, 0, 0, Quantity(value=0.417, unit=elementary charge), Quantity(value=0.417, unit=elementary charge)]\n",
      "elec  [1, 1, 0, 0, 0, 0, Quantity(value=0.417, unit=elementary charge), Quantity(value=0.417, unit=elementary charge)]\n",
      "elec  [1, 1, 0, 0, 0, 0, Quantity(value=-0.834, unit=elementary charge), Quantity(value=-0.834, unit=elementary charge)]\n",
      "elec  [1, 1, 0, 0, 0, 0, Quantity(value=0.417, unit=elementary charge), Quantity(value=0.417, unit=elementary charge)]\n",
      "elec  [1, 1, 0, 0, 0, 0, Quantity(value=0.417, unit=elementary charge), Quantity(value=0.417, unit=elementary charge)]\n",
      "elec  [1, 1, 0, 0, 0, 0, Quantity(value=-0.834, unit=elementary charge), Quantity(value=-0.834, unit=elementary charge)]\n",
      "elec  [1, 1, 0, 0, 0, 0, Quantity(value=0.417, unit=elementary charge), Quantity(value=0.417, unit=elementary charge)]\n",
      "elec  [1, 1, 0, 0, 0, 0, Quantity(value=0.417, unit=elementary charge), Quantity(value=0.417, unit=elementary charge)]\n",
      "elec  [1, 1, 0, 0, 0, 0, Quantity(value=-0.834, unit=elementary charge), Quantity(value=-0.834, unit=elementary charge)]\n",
      "elec  [1, 1, 0, 0, 0, 0, Quantity(value=0.417, unit=elementary charge), Quantity(value=0.417, unit=elementary charge)]\n",
      "elec  [1, 1, 0, 0, 0, 0, Quantity(value=0.417, unit=elementary charge), Quantity(value=0.417, unit=elementary charge)]\n",
      "elec  [1, 1, 0, 0, 0, 0, Quantity(value=-0.834, unit=elementary charge), Quantity(value=-0.834, unit=elementary charge)]\n",
      "elec  [1, 1, 0, 0, 0, 0, Quantity(value=0.417, unit=elementary charge), Quantity(value=0.417, unit=elementary charge)]\n",
      "elec  [1, 1, 0, 0, 0, 0, Quantity(value=0.417, unit=elementary charge), Quantity(value=0.417, unit=elementary charge)]\n",
      "elec  [1, 1, 0, 0, 0, 0, Quantity(value=-0.834, unit=elementary charge), Quantity(value=-0.834, unit=elementary charge)]\n",
      "elec  [1, 1, 0, 0, 0, 0, Quantity(value=0.417, unit=elementary charge), Quantity(value=0.417, unit=elementary charge)]\n",
      "elec  [1, 1, 0, 0, 0, 0, Quantity(value=0.417, unit=elementary charge), Quantity(value=0.417, unit=elementary charge)]\n",
      "elec  [1, 1, 0, 0, 0, 0, Quantity(value=-0.834, unit=elementary charge), Quantity(value=-0.834, unit=elementary charge)]\n",
      "elec  [1, 1, 0, 0, 0, 0, Quantity(value=0.417, unit=elementary charge), Quantity(value=0.417, unit=elementary charge)]\n",
      "elec  [1, 1, 0, 0, 0, 0, Quantity(value=0.417, unit=elementary charge), Quantity(value=0.417, unit=elementary charge)]\n",
      "elec  [1, 1, 0, 0, 0, 0, Quantity(value=-0.834, unit=elementary charge), Quantity(value=-0.834, unit=elementary charge)]\n",
      "elec  [1, 1, 0, 0, 0, 0, Quantity(value=0.417, unit=elementary charge), Quantity(value=0.417, unit=elementary charge)]\n",
      "elec  [1, 1, 0, 0, 0, 0, Quantity(value=0.417, unit=elementary charge), Quantity(value=0.417, unit=elementary charge)]\n",
      "elec  [1, 1, 0, 0, 0, 0, Quantity(value=-0.834, unit=elementary charge), Quantity(value=-0.834, unit=elementary charge)]\n",
      "elec  [1, 1, 0, 0, 0, 0, Quantity(value=0.417, unit=elementary charge), Quantity(value=0.417, unit=elementary charge)]\n",
      "elec  [1, 1, 0, 0, 0, 0, Quantity(value=0.417, unit=elementary charge), Quantity(value=0.417, unit=elementary charge)]\n",
      "elec  [1, 1, 0, 0, 0, 0, Quantity(value=-0.834, unit=elementary charge), Quantity(value=-0.834, unit=elementary charge)]\n",
      "elec  [1, 1, 0, 0, 0, 0, Quantity(value=0.417, unit=elementary charge), Quantity(value=0.417, unit=elementary charge)]\n",
      "elec  [1, 1, 0, 0, 0, 0, Quantity(value=0.417, unit=elementary charge), Quantity(value=0.417, unit=elementary charge)]\n",
      "elec  [1, 1, 0, 0, 0, 0, Quantity(value=-0.834, unit=elementary charge), Quantity(value=-0.834, unit=elementary charge)]\n",
      "elec  [1, 1, 0, 0, 0, 0, Quantity(value=0.417, unit=elementary charge), Quantity(value=0.417, unit=elementary charge)]\n",
      "elec  [1, 1, 0, 0, 0, 0, Quantity(value=0.417, unit=elementary charge), Quantity(value=0.417, unit=elementary charge)]\n",
      "elec  [1, 1, 0, 0, 0, 0, Quantity(value=-0.834, unit=elementary charge), Quantity(value=-0.834, unit=elementary charge)]\n",
      "elec  [1, 1, 0, 0, 0, 0, Quantity(value=0.417, unit=elementary charge), Quantity(value=0.417, unit=elementary charge)]\n",
      "elec  [1, 1, 0, 0, 0, 0, Quantity(value=0.417, unit=elementary charge), Quantity(value=0.417, unit=elementary charge)]\n",
      "elec  [1, 1, 0, 0, 0, 0, Quantity(value=-0.834, unit=elementary charge), Quantity(value=-0.834, unit=elementary charge)]\n",
      "elec  [1, 1, 0, 0, 0, 0, Quantity(value=0.417, unit=elementary charge), Quantity(value=0.417, unit=elementary charge)]\n",
      "elec  [1, 1, 0, 0, 0, 0, Quantity(value=0.417, unit=elementary charge), Quantity(value=0.417, unit=elementary charge)]\n",
      "elec  [1, 1, 0, 0, 0, 0, Quantity(value=-0.834, unit=elementary charge), Quantity(value=-0.834, unit=elementary charge)]\n",
      "elec  [1, 1, 0, 0, 0, 0, Quantity(value=0.417, unit=elementary charge), Quantity(value=0.417, unit=elementary charge)]\n",
      "elec  [1, 1, 0, 0, 0, 0, Quantity(value=0.417, unit=elementary charge), Quantity(value=0.417, unit=elementary charge)]\n",
      "elec  [1, 1, 0, 0, 0, 0, Quantity(value=-0.834, unit=elementary charge), Quantity(value=-0.834, unit=elementary charge)]\n",
      "elec  [1, 1, 0, 0, 0, 0, Quantity(value=0.417, unit=elementary charge), Quantity(value=0.417, unit=elementary charge)]\n",
      "elec  [1, 1, 0, 0, 0, 0, Quantity(value=0.417, unit=elementary charge), Quantity(value=0.417, unit=elementary charge)]\n",
      "elec  [1, 1, 0, 0, 0, 0, Quantity(value=-0.834, unit=elementary charge), Quantity(value=-0.834, unit=elementary charge)]\n",
      "elec  [1, 1, 0, 0, 0, 0, Quantity(value=0.417, unit=elementary charge), Quantity(value=0.417, unit=elementary charge)]\n",
      "elec  [1, 1, 0, 0, 0, 0, Quantity(value=0.417, unit=elementary charge), Quantity(value=0.417, unit=elementary charge)]\n",
      "elec  [1, 1, 0, 0, 0, 0, Quantity(value=-0.834, unit=elementary charge), Quantity(value=-0.834, unit=elementary charge)]\n",
      "elec  [1, 1, 0, 0, 0, 0, Quantity(value=0.417, unit=elementary charge), Quantity(value=0.417, unit=elementary charge)]\n",
      "elec  [1, 1, 0, 0, 0, 0, Quantity(value=0.417, unit=elementary charge), Quantity(value=0.417, unit=elementary charge)]\n",
      "elec  [1, 1, 0, 0, 0, 0, Quantity(value=-0.834, unit=elementary charge), Quantity(value=-0.834, unit=elementary charge)]\n",
      "elec  [1, 1, 0, 0, 0, 0, Quantity(value=0.417, unit=elementary charge), Quantity(value=0.417, unit=elementary charge)]\n",
      "elec  [1, 1, 0, 0, 0, 0, Quantity(value=0.417, unit=elementary charge), Quantity(value=0.417, unit=elementary charge)]\n",
      "elec  [1, 1, 0, 0, 0, 0, Quantity(value=-0.834, unit=elementary charge), Quantity(value=-0.834, unit=elementary charge)]\n",
      "elec  [1, 1, 0, 0, 0, 0, Quantity(value=0.417, unit=elementary charge), Quantity(value=0.417, unit=elementary charge)]\n",
      "elec  [1, 1, 0, 0, 0, 0, Quantity(value=0.417, unit=elementary charge), Quantity(value=0.417, unit=elementary charge)]\n",
      "elec  [1, 1, 0, 0, 0, 0, Quantity(value=-0.834, unit=elementary charge), Quantity(value=-0.834, unit=elementary charge)]\n",
      "elec  [1, 1, 0, 0, 0, 0, Quantity(value=0.417, unit=elementary charge), Quantity(value=0.417, unit=elementary charge)]\n",
      "elec  [1, 1, 0, 0, 0, 0, Quantity(value=0.417, unit=elementary charge), Quantity(value=0.417, unit=elementary charge)]\n",
      "elec  [1, 1, 0, 0, 0, 0, Quantity(value=-0.834, unit=elementary charge), Quantity(value=-0.834, unit=elementary charge)]\n",
      "elec  [1, 1, 0, 0, 0, 0, Quantity(value=0.417, unit=elementary charge), Quantity(value=0.417, unit=elementary charge)]\n",
      "elec  [1, 1, 0, 0, 0, 0, Quantity(value=0.417, unit=elementary charge), Quantity(value=0.417, unit=elementary charge)]\n",
      "elec  [1, 1, 0, 0, 0, 0, Quantity(value=-0.834, unit=elementary charge), Quantity(value=-0.834, unit=elementary charge)]\n",
      "elec  [1, 1, 0, 0, 0, 0, Quantity(value=0.417, unit=elementary charge), Quantity(value=0.417, unit=elementary charge)]\n",
      "elec  [1, 1, 0, 0, 0, 0, Quantity(value=0.417, unit=elementary charge), Quantity(value=0.417, unit=elementary charge)]\n",
      "elec  [1, 1, 0, 0, 0, 0, Quantity(value=-0.834, unit=elementary charge), Quantity(value=-0.834, unit=elementary charge)]\n",
      "elec  [1, 1, 0, 0, 0, 0, Quantity(value=0.417, unit=elementary charge), Quantity(value=0.417, unit=elementary charge)]\n",
      "elec  [1, 1, 0, 0, 0, 0, Quantity(value=0.417, unit=elementary charge), Quantity(value=0.417, unit=elementary charge)]\n",
      "elec  [1, 1, 0, 0, 0, 0, Quantity(value=-0.834, unit=elementary charge), Quantity(value=-0.834, unit=elementary charge)]\n",
      "elec  [1, 1, 0, 0, 0, 0, Quantity(value=0.417, unit=elementary charge), Quantity(value=0.417, unit=elementary charge)]\n",
      "elec  [1, 1, 0, 0, 0, 0, Quantity(value=0.417, unit=elementary charge), Quantity(value=0.417, unit=elementary charge)]\n",
      "elec  [1, 1, 0, 0, 0, 0, Quantity(value=-0.834, unit=elementary charge), Quantity(value=-0.834, unit=elementary charge)]\n",
      "elec  [1, 1, 0, 0, 0, 0, Quantity(value=0.417, unit=elementary charge), Quantity(value=0.417, unit=elementary charge)]\n",
      "elec  [1, 1, 0, 0, 0, 0, Quantity(value=0.417, unit=elementary charge), Quantity(value=0.417, unit=elementary charge)]\n",
      "elec  [1, 1, 0, 0, 0, 0, Quantity(value=-0.834, unit=elementary charge), Quantity(value=-0.834, unit=elementary charge)]\n",
      "elec  [1, 1, 0, 0, 0, 0, Quantity(value=0.417, unit=elementary charge), Quantity(value=0.417, unit=elementary charge)]\n",
      "elec  [1, 1, 0, 0, 0, 0, Quantity(value=0.417, unit=elementary charge), Quantity(value=0.417, unit=elementary charge)]\n",
      "elec  [1, 1, 0, 0, 0, 0, Quantity(value=-0.834, unit=elementary charge), Quantity(value=-0.834, unit=elementary charge)]\n",
      "elec  [1, 1, 0, 0, 0, 0, Quantity(value=0.417, unit=elementary charge), Quantity(value=0.417, unit=elementary charge)]\n",
      "elec  [1, 1, 0, 0, 0, 0, Quantity(value=0.417, unit=elementary charge), Quantity(value=0.417, unit=elementary charge)]\n",
      "elec  [1, 1, 0, 0, 0, 0, Quantity(value=-0.834, unit=elementary charge), Quantity(value=-0.834, unit=elementary charge)]\n",
      "elec  [1, 1, 0, 0, 0, 0, Quantity(value=0.417, unit=elementary charge), Quantity(value=0.417, unit=elementary charge)]\n",
      "elec  [1, 1, 0, 0, 0, 0, Quantity(value=0.417, unit=elementary charge), Quantity(value=0.417, unit=elementary charge)]\n",
      "elec  [1, 1, 0, 0, 0, 0, Quantity(value=-0.834, unit=elementary charge), Quantity(value=-0.834, unit=elementary charge)]\n",
      "elec  [1, 1, 0, 0, 0, 0, Quantity(value=0.417, unit=elementary charge), Quantity(value=0.417, unit=elementary charge)]\n",
      "elec  [1, 1, 0, 0, 0, 0, Quantity(value=0.417, unit=elementary charge), Quantity(value=0.417, unit=elementary charge)]\n",
      "elec  [1, 1, 0, 0, 0, 0, Quantity(value=-0.834, unit=elementary charge), Quantity(value=-0.834, unit=elementary charge)]\n",
      "elec  [1, 1, 0, 0, 0, 0, Quantity(value=0.417, unit=elementary charge), Quantity(value=0.417, unit=elementary charge)]\n",
      "elec  [1, 1, 0, 0, 0, 0, Quantity(value=0.417, unit=elementary charge), Quantity(value=0.417, unit=elementary charge)]\n",
      "elec  [1, 1, 0, 0, 0, 0, Quantity(value=-0.834, unit=elementary charge), Quantity(value=-0.834, unit=elementary charge)]\n",
      "elec  [1, 1, 0, 0, 0, 0, Quantity(value=0.417, unit=elementary charge), Quantity(value=0.417, unit=elementary charge)]\n",
      "elec  [1, 1, 0, 0, 0, 0, Quantity(value=0.417, unit=elementary charge), Quantity(value=0.417, unit=elementary charge)]\n",
      "elec  [1, 1, 0, 0, 0, 0, Quantity(value=-0.834, unit=elementary charge), Quantity(value=-0.834, unit=elementary charge)]\n",
      "elec  [1, 1, 0, 0, 0, 0, Quantity(value=0.417, unit=elementary charge), Quantity(value=0.417, unit=elementary charge)]\n",
      "elec  [1, 1, 0, 0, 0, 0, Quantity(value=0.417, unit=elementary charge), Quantity(value=0.417, unit=elementary charge)]\n",
      "elec  [1, 1, 0, 0, 0, 0, Quantity(value=-0.834, unit=elementary charge), Quantity(value=-0.834, unit=elementary charge)]\n",
      "elec  [1, 1, 0, 0, 0, 0, Quantity(value=0.417, unit=elementary charge), Quantity(value=0.417, unit=elementary charge)]\n",
      "elec  [1, 1, 0, 0, 0, 0, Quantity(value=0.417, unit=elementary charge), Quantity(value=0.417, unit=elementary charge)]\n",
      "elec  [1, 1, 0, 0, 0, 0, Quantity(value=-0.834, unit=elementary charge), Quantity(value=-0.834, unit=elementary charge)]\n",
      "elec  [1, 1, 0, 0, 0, 0, Quantity(value=0.417, unit=elementary charge), Quantity(value=0.417, unit=elementary charge)]\n",
      "elec  [1, 1, 0, 0, 0, 0, Quantity(value=0.417, unit=elementary charge), Quantity(value=0.417, unit=elementary charge)]\n",
      "elec  [1, 1, 0, 0, 0, 0, Quantity(value=-0.834, unit=elementary charge), Quantity(value=-0.834, unit=elementary charge)]\n",
      "elec  [1, 1, 0, 0, 0, 0, Quantity(value=0.417, unit=elementary charge), Quantity(value=0.417, unit=elementary charge)]\n",
      "elec  [1, 1, 0, 0, 0, 0, Quantity(value=0.417, unit=elementary charge), Quantity(value=0.417, unit=elementary charge)]\n",
      "elec  [1, 1, 0, 0, 0, 0, Quantity(value=-0.834, unit=elementary charge), Quantity(value=-0.834, unit=elementary charge)]\n",
      "elec  [1, 1, 0, 0, 0, 0, Quantity(value=0.417, unit=elementary charge), Quantity(value=0.417, unit=elementary charge)]\n",
      "elec  [1, 1, 0, 0, 0, 0, Quantity(value=0.417, unit=elementary charge), Quantity(value=0.417, unit=elementary charge)]\n",
      "elec  [1, 1, 0, 0, 0, 0, Quantity(value=-0.834, unit=elementary charge), Quantity(value=-0.834, unit=elementary charge)]\n",
      "elec  [1, 1, 0, 0, 0, 0, Quantity(value=0.417, unit=elementary charge), Quantity(value=0.417, unit=elementary charge)]\n",
      "elec  [1, 1, 0, 0, 0, 0, Quantity(value=0.417, unit=elementary charge), Quantity(value=0.417, unit=elementary charge)]\n",
      "elec  [1, 1, 0, 0, 0, 0, Quantity(value=-0.834, unit=elementary charge), Quantity(value=-0.834, unit=elementary charge)]\n",
      "elec  [1, 1, 0, 0, 0, 0, Quantity(value=0.417, unit=elementary charge), Quantity(value=0.417, unit=elementary charge)]\n",
      "elec  [1, 1, 0, 0, 0, 0, Quantity(value=0.417, unit=elementary charge), Quantity(value=0.417, unit=elementary charge)]\n",
      "elec  [1, 1, 0, 0, 0, 0, Quantity(value=-0.834, unit=elementary charge), Quantity(value=-0.834, unit=elementary charge)]\n",
      "elec  [1, 1, 0, 0, 0, 0, Quantity(value=0.417, unit=elementary charge), Quantity(value=0.417, unit=elementary charge)]\n",
      "elec  [1, 1, 0, 0, 0, 0, Quantity(value=0.417, unit=elementary charge), Quantity(value=0.417, unit=elementary charge)]\n",
      "elec  [1, 1, 0, 0, 0, 0, Quantity(value=-0.834, unit=elementary charge), Quantity(value=-0.834, unit=elementary charge)]\n",
      "elec  [1, 1, 0, 0, 0, 0, Quantity(value=0.417, unit=elementary charge), Quantity(value=0.417, unit=elementary charge)]\n",
      "elec  [1, 1, 0, 0, 0, 0, Quantity(value=0.417, unit=elementary charge), Quantity(value=0.417, unit=elementary charge)]\n",
      "elec  [1, 1, 0, 0, 0, 0, Quantity(value=-0.834, unit=elementary charge), Quantity(value=-0.834, unit=elementary charge)]\n",
      "elec  [1, 1, 0, 0, 0, 0, Quantity(value=0.417, unit=elementary charge), Quantity(value=0.417, unit=elementary charge)]\n",
      "elec  [1, 1, 0, 0, 0, 0, Quantity(value=0.417, unit=elementary charge), Quantity(value=0.417, unit=elementary charge)]\n",
      "elec  [1, 1, 0, 0, 0, 0, Quantity(value=-0.834, unit=elementary charge), Quantity(value=-0.834, unit=elementary charge)]\n",
      "elec  [1, 1, 0, 0, 0, 0, Quantity(value=0.417, unit=elementary charge), Quantity(value=0.417, unit=elementary charge)]\n",
      "elec  [1, 1, 0, 0, 0, 0, Quantity(value=0.417, unit=elementary charge), Quantity(value=0.417, unit=elementary charge)]\n",
      "elec  [1, 1, 0, 0, 0, 0, Quantity(value=-0.834, unit=elementary charge), Quantity(value=-0.834, unit=elementary charge)]\n",
      "elec  [1, 1, 0, 0, 0, 0, Quantity(value=0.417, unit=elementary charge), Quantity(value=0.417, unit=elementary charge)]\n",
      "elec  [1, 1, 0, 0, 0, 0, Quantity(value=0.417, unit=elementary charge), Quantity(value=0.417, unit=elementary charge)]\n",
      "elec  [1, 1, 0, 0, 0, 0, Quantity(value=-0.834, unit=elementary charge), Quantity(value=-0.834, unit=elementary charge)]\n",
      "elec  [1, 1, 0, 0, 0, 0, Quantity(value=0.417, unit=elementary charge), Quantity(value=0.417, unit=elementary charge)]\n",
      "elec  [1, 1, 0, 0, 0, 0, Quantity(value=0.417, unit=elementary charge), Quantity(value=0.417, unit=elementary charge)]\n",
      "elec  [1, 1, 0, 0, 0, 0, Quantity(value=-0.834, unit=elementary charge), Quantity(value=-0.834, unit=elementary charge)]\n",
      "elec  [1, 1, 0, 0, 0, 0, Quantity(value=0.417, unit=elementary charge), Quantity(value=0.417, unit=elementary charge)]\n",
      "elec  [1, 1, 0, 0, 0, 0, Quantity(value=0.417, unit=elementary charge), Quantity(value=0.417, unit=elementary charge)]\n",
      "elec  [1, 1, 0, 0, 0, 0, Quantity(value=-0.834, unit=elementary charge), Quantity(value=-0.834, unit=elementary charge)]\n",
      "elec  [1, 1, 0, 0, 0, 0, Quantity(value=0.417, unit=elementary charge), Quantity(value=0.417, unit=elementary charge)]\n",
      "elec  [1, 1, 0, 0, 0, 0, Quantity(value=0.417, unit=elementary charge), Quantity(value=0.417, unit=elementary charge)]\n",
      "elec  [1, 1, 0, 0, 0, 0, Quantity(value=-0.834, unit=elementary charge), Quantity(value=-0.834, unit=elementary charge)]\n",
      "elec  [1, 1, 0, 0, 0, 0, Quantity(value=0.417, unit=elementary charge), Quantity(value=0.417, unit=elementary charge)]\n",
      "elec  [1, 1, 0, 0, 0, 0, Quantity(value=0.417, unit=elementary charge), Quantity(value=0.417, unit=elementary charge)]\n",
      "elec  [1, 1, 0, 0, 0, 0, Quantity(value=-0.834, unit=elementary charge), Quantity(value=-0.834, unit=elementary charge)]\n",
      "elec  [1, 1, 0, 0, 0, 0, Quantity(value=0.417, unit=elementary charge), Quantity(value=0.417, unit=elementary charge)]\n",
      "elec  [1, 1, 0, 0, 0, 0, Quantity(value=0.417, unit=elementary charge), Quantity(value=0.417, unit=elementary charge)]\n",
      "elec  [1, 1, 0, 0, 0, 0, Quantity(value=-0.834, unit=elementary charge), Quantity(value=-0.834, unit=elementary charge)]\n",
      "elec  [1, 1, 0, 0, 0, 0, Quantity(value=0.417, unit=elementary charge), Quantity(value=0.417, unit=elementary charge)]\n",
      "elec  [1, 1, 0, 0, 0, 0, Quantity(value=0.417, unit=elementary charge), Quantity(value=0.417, unit=elementary charge)]\n",
      "elec  [1, 1, 0, 0, 0, 0, Quantity(value=-0.834, unit=elementary charge), Quantity(value=-0.834, unit=elementary charge)]\n",
      "elec  [1, 1, 0, 0, 0, 0, Quantity(value=0.417, unit=elementary charge), Quantity(value=0.417, unit=elementary charge)]\n",
      "elec  [1, 1, 0, 0, 0, 0, Quantity(value=0.417, unit=elementary charge), Quantity(value=0.417, unit=elementary charge)]\n",
      "elec  [1, 1, 0, 0, 0, 0, Quantity(value=-0.834, unit=elementary charge), Quantity(value=-0.834, unit=elementary charge)]\n",
      "elec  [1, 1, 0, 0, 0, 0, Quantity(value=0.417, unit=elementary charge), Quantity(value=0.417, unit=elementary charge)]\n",
      "elec  [1, 1, 0, 0, 0, 0, Quantity(value=0.417, unit=elementary charge), Quantity(value=0.417, unit=elementary charge)]\n",
      "elec  [1, 1, 0, 0, 0, 0, Quantity(value=-0.834, unit=elementary charge), Quantity(value=-0.834, unit=elementary charge)]\n",
      "elec  [1, 1, 0, 0, 0, 0, Quantity(value=0.417, unit=elementary charge), Quantity(value=0.417, unit=elementary charge)]\n",
      "elec  [1, 1, 0, 0, 0, 0, Quantity(value=0.417, unit=elementary charge), Quantity(value=0.417, unit=elementary charge)]\n",
      "elec  [1, 1, 0, 0, 0, 0, Quantity(value=-0.834, unit=elementary charge), Quantity(value=-0.834, unit=elementary charge)]\n",
      "elec  [1, 1, 0, 0, 0, 0, Quantity(value=0.417, unit=elementary charge), Quantity(value=0.417, unit=elementary charge)]\n",
      "elec  [1, 1, 0, 0, 0, 0, Quantity(value=0.417, unit=elementary charge), Quantity(value=0.417, unit=elementary charge)]\n",
      "elec  [1, 1, 0, 0, 0, 0, Quantity(value=-0.834, unit=elementary charge), Quantity(value=-0.834, unit=elementary charge)]\n",
      "elec  [1, 1, 0, 0, 0, 0, Quantity(value=0.417, unit=elementary charge), Quantity(value=0.417, unit=elementary charge)]\n",
      "elec  [1, 1, 0, 0, 0, 0, Quantity(value=0.417, unit=elementary charge), Quantity(value=0.417, unit=elementary charge)]\n",
      "elec  [1, 1, 0, 0, 0, 0, Quantity(value=-0.834, unit=elementary charge), Quantity(value=-0.834, unit=elementary charge)]\n",
      "elec  [1, 1, 0, 0, 0, 0, Quantity(value=0.417, unit=elementary charge), Quantity(value=0.417, unit=elementary charge)]\n",
      "elec  [1, 1, 0, 0, 0, 0, Quantity(value=0.417, unit=elementary charge), Quantity(value=0.417, unit=elementary charge)]\n",
      "elec  [1, 1, 0, 0, 0, 0, Quantity(value=-0.834, unit=elementary charge), Quantity(value=-0.834, unit=elementary charge)]\n",
      "elec  [1, 1, 0, 0, 0, 0, Quantity(value=0.417, unit=elementary charge), Quantity(value=0.417, unit=elementary charge)]\n",
      "elec  [1, 1, 0, 0, 0, 0, Quantity(value=0.417, unit=elementary charge), Quantity(value=0.417, unit=elementary charge)]\n",
      "elec  [1, 1, 0, 0, 0, 0, Quantity(value=-0.834, unit=elementary charge), Quantity(value=-0.834, unit=elementary charge)]\n",
      "elec  [1, 1, 0, 0, 0, 0, Quantity(value=0.417, unit=elementary charge), Quantity(value=0.417, unit=elementary charge)]\n",
      "elec  [1, 1, 0, 0, 0, 0, Quantity(value=0.417, unit=elementary charge), Quantity(value=0.417, unit=elementary charge)]\n",
      "elec  [1, 1, 0, 0, 0, 0, Quantity(value=-0.834, unit=elementary charge), Quantity(value=-0.834, unit=elementary charge)]\n",
      "elec  [1, 1, 0, 0, 0, 0, Quantity(value=0.417, unit=elementary charge), Quantity(value=0.417, unit=elementary charge)]\n",
      "elec  [1, 1, 0, 0, 0, 0, Quantity(value=0.417, unit=elementary charge), Quantity(value=0.417, unit=elementary charge)]\n",
      "elec  [1, 1, 0, 0, 0, 0, Quantity(value=-0.834, unit=elementary charge), Quantity(value=-0.834, unit=elementary charge)]\n",
      "elec  [1, 1, 0, 0, 0, 0, Quantity(value=0.417, unit=elementary charge), Quantity(value=0.417, unit=elementary charge)]\n",
      "elec  [1, 1, 0, 0, 0, 0, Quantity(value=0.417, unit=elementary charge), Quantity(value=0.417, unit=elementary charge)]\n",
      "elec  [1, 1, 0, 0, 0, 0, Quantity(value=-0.834, unit=elementary charge), Quantity(value=-0.834, unit=elementary charge)]\n",
      "elec  [1, 1, 0, 0, 0, 0, Quantity(value=0.417, unit=elementary charge), Quantity(value=0.417, unit=elementary charge)]\n",
      "elec  [1, 1, 0, 0, 0, 0, Quantity(value=0.417, unit=elementary charge), Quantity(value=0.417, unit=elementary charge)]\n",
      "elec  [1, 1, 0, 0, 0, 0, Quantity(value=-0.834, unit=elementary charge), Quantity(value=-0.834, unit=elementary charge)]\n",
      "elec  [1, 1, 0, 0, 0, 0, Quantity(value=0.417, unit=elementary charge), Quantity(value=0.417, unit=elementary charge)]\n",
      "elec  [1, 1, 0, 0, 0, 0, Quantity(value=0.417, unit=elementary charge), Quantity(value=0.417, unit=elementary charge)]\n",
      "elec  [1, 1, 0, 0, 0, 0, Quantity(value=-0.834, unit=elementary charge), Quantity(value=-0.834, unit=elementary charge)]\n",
      "elec  [1, 1, 0, 0, 0, 0, Quantity(value=0.417, unit=elementary charge), Quantity(value=0.417, unit=elementary charge)]\n",
      "elec  [1, 1, 0, 0, 0, 0, Quantity(value=0.417, unit=elementary charge), Quantity(value=0.417, unit=elementary charge)]\n",
      "elec  [1, 1, 0, 0, 0, 0, Quantity(value=-0.834, unit=elementary charge), Quantity(value=-0.834, unit=elementary charge)]\n",
      "elec  [1, 1, 0, 0, 0, 0, Quantity(value=0.417, unit=elementary charge), Quantity(value=0.417, unit=elementary charge)]\n",
      "elec  [1, 1, 0, 0, 0, 0, Quantity(value=0.417, unit=elementary charge), Quantity(value=0.417, unit=elementary charge)]\n",
      "elec  [1, 1, 0, 0, 0, 0, Quantity(value=-0.834, unit=elementary charge), Quantity(value=-0.834, unit=elementary charge)]\n",
      "elec  [1, 1, 0, 0, 0, 0, Quantity(value=0.417, unit=elementary charge), Quantity(value=0.417, unit=elementary charge)]\n",
      "elec  [1, 1, 0, 0, 0, 0, Quantity(value=0.417, unit=elementary charge), Quantity(value=0.417, unit=elementary charge)]\n",
      "elec  [1, 1, 0, 0, 0, 0, Quantity(value=-0.834, unit=elementary charge), Quantity(value=-0.834, unit=elementary charge)]\n",
      "elec  [1, 1, 0, 0, 0, 0, Quantity(value=0.417, unit=elementary charge), Quantity(value=0.417, unit=elementary charge)]\n",
      "elec  [1, 1, 0, 0, 0, 0, Quantity(value=0.417, unit=elementary charge), Quantity(value=0.417, unit=elementary charge)]\n",
      "elec  [1, 1, 0, 0, 0, 0, Quantity(value=-0.834, unit=elementary charge), Quantity(value=-0.834, unit=elementary charge)]\n",
      "elec  [1, 1, 0, 0, 0, 0, Quantity(value=0.417, unit=elementary charge), Quantity(value=0.417, unit=elementary charge)]\n",
      "elec  [1, 1, 0, 0, 0, 0, Quantity(value=0.417, unit=elementary charge), Quantity(value=0.417, unit=elementary charge)]\n",
      "elec  [1, 1, 0, 0, 0, 0, Quantity(value=-0.834, unit=elementary charge), Quantity(value=-0.834, unit=elementary charge)]\n",
      "elec  [1, 1, 0, 0, 0, 0, Quantity(value=0.417, unit=elementary charge), Quantity(value=0.417, unit=elementary charge)]\n",
      "elec  [1, 1, 0, 0, 0, 0, Quantity(value=0.417, unit=elementary charge), Quantity(value=0.417, unit=elementary charge)]\n",
      "elec  [1, 1, 0, 0, 0, 0, Quantity(value=-0.834, unit=elementary charge), Quantity(value=-0.834, unit=elementary charge)]\n",
      "elec  [1, 1, 0, 0, 0, 0, Quantity(value=0.417, unit=elementary charge), Quantity(value=0.417, unit=elementary charge)]\n",
      "elec  [1, 1, 0, 0, 0, 0, Quantity(value=0.417, unit=elementary charge), Quantity(value=0.417, unit=elementary charge)]\n",
      "elec  [1, 1, 0, 0, 0, 0, Quantity(value=-0.834, unit=elementary charge), Quantity(value=-0.834, unit=elementary charge)]\n",
      "elec  [1, 1, 0, 0, 0, 0, Quantity(value=0.417, unit=elementary charge), Quantity(value=0.417, unit=elementary charge)]\n",
      "elec  [1, 1, 0, 0, 0, 0, Quantity(value=0.417, unit=elementary charge), Quantity(value=0.417, unit=elementary charge)]\n",
      "elec  [1, 1, 0, 0, 0, 0, Quantity(value=-0.834, unit=elementary charge), Quantity(value=-0.834, unit=elementary charge)]\n",
      "elec  [1, 1, 0, 0, 0, 0, Quantity(value=0.417, unit=elementary charge), Quantity(value=0.417, unit=elementary charge)]\n",
      "elec  [1, 1, 0, 0, 0, 0, Quantity(value=0.417, unit=elementary charge), Quantity(value=0.417, unit=elementary charge)]\n",
      "elec  [1, 1, 0, 0, 0, 0, Quantity(value=-0.834, unit=elementary charge), Quantity(value=-0.834, unit=elementary charge)]\n",
      "elec  [1, 1, 0, 0, 0, 0, Quantity(value=0.417, unit=elementary charge), Quantity(value=0.417, unit=elementary charge)]\n",
      "elec  [1, 1, 0, 0, 0, 0, Quantity(value=0.417, unit=elementary charge), Quantity(value=0.417, unit=elementary charge)]\n",
      "elec  [1, 1, 0, 0, 0, 0, Quantity(value=-0.834, unit=elementary charge), Quantity(value=-0.834, unit=elementary charge)]\n",
      "elec  [1, 1, 0, 0, 0, 0, Quantity(value=0.417, unit=elementary charge), Quantity(value=0.417, unit=elementary charge)]\n",
      "elec  [1, 1, 0, 0, 0, 0, Quantity(value=0.417, unit=elementary charge), Quantity(value=0.417, unit=elementary charge)]\n",
      "elec  [1, 1, 0, 0, 0, 0, Quantity(value=-0.834, unit=elementary charge), Quantity(value=-0.834, unit=elementary charge)]\n"
     ]
    },
    {
     "name": "stdout",
     "output_type": "stream",
     "text": [
      "elec  [1, 1, 0, 0, 0, 0, Quantity(value=0.417, unit=elementary charge), Quantity(value=0.417, unit=elementary charge)]\n",
      "elec  [1, 1, 0, 0, 0, 0, Quantity(value=0.417, unit=elementary charge), Quantity(value=0.417, unit=elementary charge)]\n",
      "elec  [1, 1, 0, 0, 0, 0, Quantity(value=-0.834, unit=elementary charge), Quantity(value=-0.834, unit=elementary charge)]\n",
      "elec  [1, 1, 0, 0, 0, 0, Quantity(value=0.417, unit=elementary charge), Quantity(value=0.417, unit=elementary charge)]\n",
      "elec  [1, 1, 0, 0, 0, 0, Quantity(value=0.417, unit=elementary charge), Quantity(value=0.417, unit=elementary charge)]\n",
      "elec  [1, 1, 0, 0, 0, 0, Quantity(value=-0.834, unit=elementary charge), Quantity(value=-0.834, unit=elementary charge)]\n",
      "elec  [1, 1, 0, 0, 0, 0, Quantity(value=0.417, unit=elementary charge), Quantity(value=0.417, unit=elementary charge)]\n",
      "elec  [1, 1, 0, 0, 0, 0, Quantity(value=0.417, unit=elementary charge), Quantity(value=0.417, unit=elementary charge)]\n",
      "elec  [1, 1, 0, 0, 0, 0, Quantity(value=-0.834, unit=elementary charge), Quantity(value=-0.834, unit=elementary charge)]\n",
      "elec  [1, 1, 0, 0, 0, 0, Quantity(value=0.417, unit=elementary charge), Quantity(value=0.417, unit=elementary charge)]\n",
      "elec  [1, 1, 0, 0, 0, 0, Quantity(value=0.417, unit=elementary charge), Quantity(value=0.417, unit=elementary charge)]\n",
      "elec  [1, 1, 0, 0, 0, 0, Quantity(value=-0.834, unit=elementary charge), Quantity(value=-0.834, unit=elementary charge)]\n",
      "elec  [1, 1, 0, 0, 0, 0, Quantity(value=0.417, unit=elementary charge), Quantity(value=0.417, unit=elementary charge)]\n",
      "elec  [1, 1, 0, 0, 0, 0, Quantity(value=0.417, unit=elementary charge), Quantity(value=0.417, unit=elementary charge)]\n",
      "elec  [1, 1, 0, 0, 0, 0, Quantity(value=-0.834, unit=elementary charge), Quantity(value=-0.834, unit=elementary charge)]\n",
      "elec  [1, 1, 0, 0, 0, 0, Quantity(value=0.417, unit=elementary charge), Quantity(value=0.417, unit=elementary charge)]\n",
      "elec  [1, 1, 0, 0, 0, 0, Quantity(value=0.417, unit=elementary charge), Quantity(value=0.417, unit=elementary charge)]\n",
      "elec  [1, 1, 0, 0, 0, 0, Quantity(value=-0.834, unit=elementary charge), Quantity(value=-0.834, unit=elementary charge)]\n",
      "elec  [1, 1, 0, 0, 0, 0, Quantity(value=0.417, unit=elementary charge), Quantity(value=0.417, unit=elementary charge)]\n",
      "elec  [1, 1, 0, 0, 0, 0, Quantity(value=0.417, unit=elementary charge), Quantity(value=0.417, unit=elementary charge)]\n",
      "elec  [1, 1, 0, 0, 0, 0, Quantity(value=-0.834, unit=elementary charge), Quantity(value=-0.834, unit=elementary charge)]\n",
      "elec  [1, 1, 0, 0, 0, 0, Quantity(value=0.417, unit=elementary charge), Quantity(value=0.417, unit=elementary charge)]\n",
      "elec  [1, 1, 0, 0, 0, 0, Quantity(value=0.417, unit=elementary charge), Quantity(value=0.417, unit=elementary charge)]\n",
      "elec  [1, 1, 0, 0, 0, 0, Quantity(value=-0.834, unit=elementary charge), Quantity(value=-0.834, unit=elementary charge)]\n",
      "elec  [1, 1, 0, 0, 0, 0, Quantity(value=0.417, unit=elementary charge), Quantity(value=0.417, unit=elementary charge)]\n",
      "elec  [1, 1, 0, 0, 0, 0, Quantity(value=0.417, unit=elementary charge), Quantity(value=0.417, unit=elementary charge)]\n",
      "elec  [1, 1, 0, 0, 0, 0, Quantity(value=-0.834, unit=elementary charge), Quantity(value=-0.834, unit=elementary charge)]\n",
      "elec  [1, 1, 0, 0, 0, 0, Quantity(value=0.417, unit=elementary charge), Quantity(value=0.417, unit=elementary charge)]\n",
      "elec  [1, 1, 0, 0, 0, 0, Quantity(value=0.417, unit=elementary charge), Quantity(value=0.417, unit=elementary charge)]\n",
      "elec  [1, 1, 0, 0, 0, 0, Quantity(value=-0.834, unit=elementary charge), Quantity(value=-0.834, unit=elementary charge)]\n",
      "elec  [1, 1, 0, 0, 0, 0, Quantity(value=0.417, unit=elementary charge), Quantity(value=0.417, unit=elementary charge)]\n",
      "elec  [1, 1, 0, 0, 0, 0, Quantity(value=0.417, unit=elementary charge), Quantity(value=0.417, unit=elementary charge)]\n",
      "elec  [1, 1, 0, 0, 0, 0, Quantity(value=-0.834, unit=elementary charge), Quantity(value=-0.834, unit=elementary charge)]\n",
      "elec  [1, 1, 0, 0, 0, 0, Quantity(value=0.417, unit=elementary charge), Quantity(value=0.417, unit=elementary charge)]\n",
      "elec  [1, 1, 0, 0, 0, 0, Quantity(value=0.417, unit=elementary charge), Quantity(value=0.417, unit=elementary charge)]\n",
      "elec  [1, 1, 0, 0, 0, 0, Quantity(value=-0.834, unit=elementary charge), Quantity(value=-0.834, unit=elementary charge)]\n",
      "elec  [1, 1, 0, 0, 0, 0, Quantity(value=0.417, unit=elementary charge), Quantity(value=0.417, unit=elementary charge)]\n",
      "elec  [1, 1, 0, 0, 0, 0, Quantity(value=0.417, unit=elementary charge), Quantity(value=0.417, unit=elementary charge)]\n",
      "elec  [1, 1, 0, 0, 0, 0, Quantity(value=-0.834, unit=elementary charge), Quantity(value=-0.834, unit=elementary charge)]\n",
      "elec  [1, 1, 0, 0, 0, 0, Quantity(value=0.417, unit=elementary charge), Quantity(value=0.417, unit=elementary charge)]\n",
      "elec  [1, 1, 0, 0, 0, 0, Quantity(value=0.417, unit=elementary charge), Quantity(value=0.417, unit=elementary charge)]\n",
      "elec  [1, 1, 0, 0, 0, 0, Quantity(value=-0.834, unit=elementary charge), Quantity(value=-0.834, unit=elementary charge)]\n",
      "elec  [1, 1, 0, 0, 0, 0, Quantity(value=0.417, unit=elementary charge), Quantity(value=0.417, unit=elementary charge)]\n",
      "elec  [1, 1, 0, 0, 0, 0, Quantity(value=0.417, unit=elementary charge), Quantity(value=0.417, unit=elementary charge)]\n",
      "elec  [1, 1, 0, 0, 0, 0, Quantity(value=-0.834, unit=elementary charge), Quantity(value=-0.834, unit=elementary charge)]\n",
      "elec  [1, 1, 0, 0, 0, 0, Quantity(value=0.417, unit=elementary charge), Quantity(value=0.417, unit=elementary charge)]\n",
      "elec  [1, 1, 0, 0, 0, 0, Quantity(value=0.417, unit=elementary charge), Quantity(value=0.417, unit=elementary charge)]\n",
      "elec  [1, 1, 0, 0, 0, 0, Quantity(value=-0.834, unit=elementary charge), Quantity(value=-0.834, unit=elementary charge)]\n",
      "elec  [1, 1, 0, 0, 0, 0, Quantity(value=0.417, unit=elementary charge), Quantity(value=0.417, unit=elementary charge)]\n",
      "elec  [1, 1, 0, 0, 0, 0, Quantity(value=0.417, unit=elementary charge), Quantity(value=0.417, unit=elementary charge)]\n",
      "elec  [1, 1, 0, 0, 0, 0, Quantity(value=-0.834, unit=elementary charge), Quantity(value=-0.834, unit=elementary charge)]\n",
      "elec  [1, 1, 0, 0, 0, 0, Quantity(value=0.417, unit=elementary charge), Quantity(value=0.417, unit=elementary charge)]\n",
      "elec  [1, 1, 0, 0, 0, 0, Quantity(value=0.417, unit=elementary charge), Quantity(value=0.417, unit=elementary charge)]\n",
      "elec  [1, 1, 0, 0, 0, 0, Quantity(value=-0.834, unit=elementary charge), Quantity(value=-0.834, unit=elementary charge)]\n",
      "elec  [1, 1, 0, 0, 0, 0, Quantity(value=0.417, unit=elementary charge), Quantity(value=0.417, unit=elementary charge)]\n",
      "elec  [1, 1, 0, 0, 0, 0, Quantity(value=0.417, unit=elementary charge), Quantity(value=0.417, unit=elementary charge)]\n",
      "elec  [1, 1, 0, 0, 0, 0, Quantity(value=-0.834, unit=elementary charge), Quantity(value=-0.834, unit=elementary charge)]\n",
      "elec  [1, 1, 0, 0, 0, 0, Quantity(value=0.417, unit=elementary charge), Quantity(value=0.417, unit=elementary charge)]\n",
      "elec  [1, 1, 0, 0, 0, 0, Quantity(value=0.417, unit=elementary charge), Quantity(value=0.417, unit=elementary charge)]\n",
      "elec  [1, 1, 0, 0, 0, 0, Quantity(value=-0.834, unit=elementary charge), Quantity(value=-0.834, unit=elementary charge)]\n",
      "elec  [1, 1, 0, 0, 0, 0, Quantity(value=0.417, unit=elementary charge), Quantity(value=0.417, unit=elementary charge)]\n",
      "elec  [1, 1, 0, 0, 0, 0, Quantity(value=0.417, unit=elementary charge), Quantity(value=0.417, unit=elementary charge)]\n",
      "elec  [1, 1, 0, 0, 0, 0, Quantity(value=-0.834, unit=elementary charge), Quantity(value=-0.834, unit=elementary charge)]\n",
      "elec  [1, 1, 0, 0, 0, 0, Quantity(value=0.417, unit=elementary charge), Quantity(value=0.417, unit=elementary charge)]\n",
      "elec  [1, 1, 0, 0, 0, 0, Quantity(value=0.417, unit=elementary charge), Quantity(value=0.417, unit=elementary charge)]\n",
      "elec  [1, 1, 0, 0, 0, 0, Quantity(value=-0.834, unit=elementary charge), Quantity(value=-0.834, unit=elementary charge)]\n",
      "elec  [1, 1, 0, 0, 0, 0, Quantity(value=0.417, unit=elementary charge), Quantity(value=0.417, unit=elementary charge)]\n",
      "elec  [1, 1, 0, 0, 0, 0, Quantity(value=0.417, unit=elementary charge), Quantity(value=0.417, unit=elementary charge)]\n",
      "elec  [1, 1, 0, 0, 0, 0, Quantity(value=-0.834, unit=elementary charge), Quantity(value=-0.834, unit=elementary charge)]\n",
      "elec  [1, 1, 0, 0, 0, 0, Quantity(value=0.417, unit=elementary charge), Quantity(value=0.417, unit=elementary charge)]\n",
      "elec  [1, 1, 0, 0, 0, 0, Quantity(value=0.417, unit=elementary charge), Quantity(value=0.417, unit=elementary charge)]\n",
      "elec  [1, 1, 0, 0, 0, 0, Quantity(value=-0.834, unit=elementary charge), Quantity(value=-0.834, unit=elementary charge)]\n",
      "elec  [1, 1, 0, 0, 0, 0, Quantity(value=0.417, unit=elementary charge), Quantity(value=0.417, unit=elementary charge)]\n",
      "elec  [1, 1, 0, 0, 0, 0, Quantity(value=0.417, unit=elementary charge), Quantity(value=0.417, unit=elementary charge)]\n",
      "elec  [1, 1, 0, 0, 0, 0, Quantity(value=-0.834, unit=elementary charge), Quantity(value=-0.834, unit=elementary charge)]\n",
      "elec  [1, 1, 0, 0, 0, 0, Quantity(value=0.417, unit=elementary charge), Quantity(value=0.417, unit=elementary charge)]\n",
      "elec  [1, 1, 0, 0, 0, 0, Quantity(value=0.417, unit=elementary charge), Quantity(value=0.417, unit=elementary charge)]\n",
      "elec  [1, 1, 0, 0, 0, 0, Quantity(value=-0.834, unit=elementary charge), Quantity(value=-0.834, unit=elementary charge)]\n",
      "elec  [1, 1, 0, 0, 0, 0, Quantity(value=0.417, unit=elementary charge), Quantity(value=0.417, unit=elementary charge)]\n",
      "elec  [1, 1, 0, 0, 0, 0, Quantity(value=0.417, unit=elementary charge), Quantity(value=0.417, unit=elementary charge)]\n",
      "elec  [1, 1, 0, 0, 0, 0, Quantity(value=-0.834, unit=elementary charge), Quantity(value=-0.834, unit=elementary charge)]\n",
      "elec  [1, 1, 0, 0, 0, 0, Quantity(value=0.417, unit=elementary charge), Quantity(value=0.417, unit=elementary charge)]\n",
      "elec  [1, 1, 0, 0, 0, 0, Quantity(value=0.417, unit=elementary charge), Quantity(value=0.417, unit=elementary charge)]\n",
      "elec  [1, 1, 0, 0, 0, 0, Quantity(value=-0.834, unit=elementary charge), Quantity(value=-0.834, unit=elementary charge)]\n",
      "elec  [1, 1, 0, 0, 0, 0, Quantity(value=0.417, unit=elementary charge), Quantity(value=0.417, unit=elementary charge)]\n",
      "elec  [1, 1, 0, 0, 0, 0, Quantity(value=0.417, unit=elementary charge), Quantity(value=0.417, unit=elementary charge)]\n",
      "elec  [1, 1, 0, 0, 0, 0, Quantity(value=-0.834, unit=elementary charge), Quantity(value=-0.834, unit=elementary charge)]\n",
      "elec  [1, 1, 0, 0, 0, 0, Quantity(value=0.417, unit=elementary charge), Quantity(value=0.417, unit=elementary charge)]\n",
      "elec  [1, 1, 0, 0, 0, 0, Quantity(value=0.417, unit=elementary charge), Quantity(value=0.417, unit=elementary charge)]\n",
      "elec  [1, 1, 0, 0, 0, 0, Quantity(value=-0.834, unit=elementary charge), Quantity(value=-0.834, unit=elementary charge)]\n",
      "elec  [1, 1, 0, 0, 0, 0, Quantity(value=0.417, unit=elementary charge), Quantity(value=0.417, unit=elementary charge)]\n",
      "elec  [1, 1, 0, 0, 0, 0, Quantity(value=0.417, unit=elementary charge), Quantity(value=0.417, unit=elementary charge)]\n",
      "elec  [1, 1, 0, 0, 0, 0, Quantity(value=-0.834, unit=elementary charge), Quantity(value=-0.834, unit=elementary charge)]\n",
      "elec  [1, 1, 0, 0, 0, 0, Quantity(value=0.417, unit=elementary charge), Quantity(value=0.417, unit=elementary charge)]\n",
      "elec  [1, 1, 0, 0, 0, 0, Quantity(value=0.417, unit=elementary charge), Quantity(value=0.417, unit=elementary charge)]\n",
      "elec  [1, 1, 0, 0, 0, 0, Quantity(value=-0.834, unit=elementary charge), Quantity(value=-0.834, unit=elementary charge)]\n",
      "elec  [1, 1, 0, 0, 0, 0, Quantity(value=0.417, unit=elementary charge), Quantity(value=0.417, unit=elementary charge)]\n",
      "elec  [1, 1, 0, 0, 0, 0, Quantity(value=0.417, unit=elementary charge), Quantity(value=0.417, unit=elementary charge)]\n",
      "elec  [1, 1, 0, 0, 0, 0, Quantity(value=-0.834, unit=elementary charge), Quantity(value=-0.834, unit=elementary charge)]\n",
      "elec  [1, 1, 0, 0, 0, 0, Quantity(value=0.417, unit=elementary charge), Quantity(value=0.417, unit=elementary charge)]\n",
      "elec  [1, 1, 0, 0, 0, 0, Quantity(value=0.417, unit=elementary charge), Quantity(value=0.417, unit=elementary charge)]\n",
      "elec  [1, 1, 0, 0, 0, 0, Quantity(value=-0.834, unit=elementary charge), Quantity(value=-0.834, unit=elementary charge)]\n",
      "elec  [1, 1, 0, 0, 0, 0, Quantity(value=0.417, unit=elementary charge), Quantity(value=0.417, unit=elementary charge)]\n",
      "elec  [1, 1, 0, 0, 0, 0, Quantity(value=0.417, unit=elementary charge), Quantity(value=0.417, unit=elementary charge)]\n",
      "elec  [1, 1, 0, 0, 0, 0, Quantity(value=-0.834, unit=elementary charge), Quantity(value=-0.834, unit=elementary charge)]\n",
      "elec  [1, 1, 0, 0, 0, 0, Quantity(value=0.417, unit=elementary charge), Quantity(value=0.417, unit=elementary charge)]\n",
      "elec  [1, 1, 0, 0, 0, 0, Quantity(value=0.417, unit=elementary charge), Quantity(value=0.417, unit=elementary charge)]\n",
      "elec  [1, 1, 0, 0, 0, 0, Quantity(value=-0.834, unit=elementary charge), Quantity(value=-0.834, unit=elementary charge)]\n",
      "elec  [1, 1, 0, 0, 0, 0, Quantity(value=0.417, unit=elementary charge), Quantity(value=0.417, unit=elementary charge)]\n",
      "elec  [1, 1, 0, 0, 0, 0, Quantity(value=0.417, unit=elementary charge), Quantity(value=0.417, unit=elementary charge)]\n",
      "elec  [1, 1, 0, 0, 0, 0, Quantity(value=-0.834, unit=elementary charge), Quantity(value=-0.834, unit=elementary charge)]\n",
      "elec  [1, 1, 0, 0, 0, 0, Quantity(value=0.417, unit=elementary charge), Quantity(value=0.417, unit=elementary charge)]\n",
      "elec  [1, 1, 0, 0, 0, 0, Quantity(value=0.417, unit=elementary charge), Quantity(value=0.417, unit=elementary charge)]\n",
      "elec  [1, 1, 0, 0, 0, 0, Quantity(value=-0.834, unit=elementary charge), Quantity(value=-0.834, unit=elementary charge)]\n",
      "elec  [1, 1, 0, 0, 0, 0, Quantity(value=0.417, unit=elementary charge), Quantity(value=0.417, unit=elementary charge)]\n",
      "elec  [1, 1, 0, 0, 0, 0, Quantity(value=0.417, unit=elementary charge), Quantity(value=0.417, unit=elementary charge)]\n",
      "elec  [1, 1, 0, 0, 0, 0, Quantity(value=-0.834, unit=elementary charge), Quantity(value=-0.834, unit=elementary charge)]\n",
      "elec  [1, 1, 0, 0, 0, 0, Quantity(value=0.417, unit=elementary charge), Quantity(value=0.417, unit=elementary charge)]\n",
      "elec  [1, 1, 0, 0, 0, 0, Quantity(value=0.417, unit=elementary charge), Quantity(value=0.417, unit=elementary charge)]\n",
      "elec  [1, 1, 0, 0, 0, 0, Quantity(value=-0.834, unit=elementary charge), Quantity(value=-0.834, unit=elementary charge)]\n",
      "elec  [1, 1, 0, 0, 0, 0, Quantity(value=0.417, unit=elementary charge), Quantity(value=0.417, unit=elementary charge)]\n",
      "elec  [1, 1, 0, 0, 0, 0, Quantity(value=0.417, unit=elementary charge), Quantity(value=0.417, unit=elementary charge)]\n",
      "elec  [1, 1, 0, 0, 0, 0, Quantity(value=-0.834, unit=elementary charge), Quantity(value=-0.834, unit=elementary charge)]\n",
      "elec  [1, 1, 0, 0, 0, 0, Quantity(value=0.417, unit=elementary charge), Quantity(value=0.417, unit=elementary charge)]\n",
      "elec  [1, 1, 0, 0, 0, 0, Quantity(value=0.417, unit=elementary charge), Quantity(value=0.417, unit=elementary charge)]\n",
      "elec  [1, 1, 0, 0, 0, 0, Quantity(value=-0.834, unit=elementary charge), Quantity(value=-0.834, unit=elementary charge)]\n",
      "elec  [1, 1, 0, 0, 0, 0, Quantity(value=0.417, unit=elementary charge), Quantity(value=0.417, unit=elementary charge)]\n",
      "elec  [1, 1, 0, 0, 0, 0, Quantity(value=0.417, unit=elementary charge), Quantity(value=0.417, unit=elementary charge)]\n",
      "elec  [1, 1, 0, 0, 0, 0, Quantity(value=-0.834, unit=elementary charge), Quantity(value=-0.834, unit=elementary charge)]\n",
      "elec  [1, 1, 0, 0, 0, 0, Quantity(value=0.417, unit=elementary charge), Quantity(value=0.417, unit=elementary charge)]\n",
      "elec  [1, 1, 0, 0, 0, 0, Quantity(value=0.417, unit=elementary charge), Quantity(value=0.417, unit=elementary charge)]\n",
      "elec  [1, 1, 0, 0, 0, 0, Quantity(value=-0.834, unit=elementary charge), Quantity(value=-0.834, unit=elementary charge)]\n",
      "elec  [1, 1, 0, 0, 0, 0, Quantity(value=0.417, unit=elementary charge), Quantity(value=0.417, unit=elementary charge)]\n",
      "elec  [1, 1, 0, 0, 0, 0, Quantity(value=0.417, unit=elementary charge), Quantity(value=0.417, unit=elementary charge)]\n",
      "elec  [1, 1, 0, 0, 0, 0, Quantity(value=-0.834, unit=elementary charge), Quantity(value=-0.834, unit=elementary charge)]\n",
      "elec  [1, 1, 0, 0, 0, 0, Quantity(value=0.417, unit=elementary charge), Quantity(value=0.417, unit=elementary charge)]\n",
      "elec  [1, 1, 0, 0, 0, 0, Quantity(value=0.417, unit=elementary charge), Quantity(value=0.417, unit=elementary charge)]\n",
      "elec  [1, 1, 0, 0, 0, 0, Quantity(value=-0.834, unit=elementary charge), Quantity(value=-0.834, unit=elementary charge)]\n",
      "elec  [1, 1, 0, 0, 0, 0, Quantity(value=0.417, unit=elementary charge), Quantity(value=0.417, unit=elementary charge)]\n",
      "elec  [1, 1, 0, 0, 0, 0, Quantity(value=0.417, unit=elementary charge), Quantity(value=0.417, unit=elementary charge)]\n",
      "elec  [1, 1, 0, 0, 0, 0, Quantity(value=-0.834, unit=elementary charge), Quantity(value=-0.834, unit=elementary charge)]\n",
      "elec  [1, 1, 0, 0, 0, 0, Quantity(value=0.417, unit=elementary charge), Quantity(value=0.417, unit=elementary charge)]\n",
      "elec  [1, 1, 0, 0, 0, 0, Quantity(value=0.417, unit=elementary charge), Quantity(value=0.417, unit=elementary charge)]\n",
      "elec  [1, 1, 0, 0, 0, 0, Quantity(value=-0.834, unit=elementary charge), Quantity(value=-0.834, unit=elementary charge)]\n",
      "elec  [1, 1, 0, 0, 0, 0, Quantity(value=0.417, unit=elementary charge), Quantity(value=0.417, unit=elementary charge)]\n",
      "elec  [1, 1, 0, 0, 0, 0, Quantity(value=0.417, unit=elementary charge), Quantity(value=0.417, unit=elementary charge)]\n",
      "elec  [1, 1, 0, 0, 0, 0, Quantity(value=-0.834, unit=elementary charge), Quantity(value=-0.834, unit=elementary charge)]\n",
      "elec  [1, 1, 0, 0, 0, 0, Quantity(value=0.417, unit=elementary charge), Quantity(value=0.417, unit=elementary charge)]\n",
      "elec  [1, 1, 0, 0, 0, 0, Quantity(value=0.417, unit=elementary charge), Quantity(value=0.417, unit=elementary charge)]\n",
      "elec  [1, 1, 0, 0, 0, 0, Quantity(value=-0.834, unit=elementary charge), Quantity(value=-0.834, unit=elementary charge)]\n",
      "elec  [1, 1, 0, 0, 0, 0, Quantity(value=0.417, unit=elementary charge), Quantity(value=0.417, unit=elementary charge)]\n",
      "elec  [1, 1, 0, 0, 0, 0, Quantity(value=0.417, unit=elementary charge), Quantity(value=0.417, unit=elementary charge)]\n",
      "elec  [1, 1, 0, 0, 0, 0, Quantity(value=-0.834, unit=elementary charge), Quantity(value=-0.834, unit=elementary charge)]\n",
      "elec  [1, 1, 0, 0, 0, 0, Quantity(value=0.417, unit=elementary charge), Quantity(value=0.417, unit=elementary charge)]\n",
      "elec  [1, 1, 0, 0, 0, 0, Quantity(value=0.417, unit=elementary charge), Quantity(value=0.417, unit=elementary charge)]\n",
      "elec  [1, 1, 0, 0, 0, 0, Quantity(value=-0.834, unit=elementary charge), Quantity(value=-0.834, unit=elementary charge)]\n",
      "elec  [1, 1, 0, 0, 0, 0, Quantity(value=0.417, unit=elementary charge), Quantity(value=0.417, unit=elementary charge)]\n",
      "elec  [1, 1, 0, 0, 0, 0, Quantity(value=0.417, unit=elementary charge), Quantity(value=0.417, unit=elementary charge)]\n",
      "elec  [1, 1, 0, 0, 0, 0, Quantity(value=-0.834, unit=elementary charge), Quantity(value=-0.834, unit=elementary charge)]\n",
      "elec  [1, 1, 0, 0, 0, 0, Quantity(value=0.417, unit=elementary charge), Quantity(value=0.417, unit=elementary charge)]\n",
      "elec  [1, 1, 0, 0, 0, 0, Quantity(value=0.417, unit=elementary charge), Quantity(value=0.417, unit=elementary charge)]\n",
      "elec  [1, 1, 0, 0, 0, 0, Quantity(value=-0.834, unit=elementary charge), Quantity(value=-0.834, unit=elementary charge)]\n",
      "elec  [1, 1, 0, 0, 0, 0, Quantity(value=0.417, unit=elementary charge), Quantity(value=0.417, unit=elementary charge)]\n",
      "elec  [1, 1, 0, 0, 0, 0, Quantity(value=0.417, unit=elementary charge), Quantity(value=0.417, unit=elementary charge)]\n",
      "elec  [1, 1, 0, 0, 0, 0, Quantity(value=-0.834, unit=elementary charge), Quantity(value=-0.834, unit=elementary charge)]\n",
      "elec  [1, 1, 0, 0, 0, 0, Quantity(value=0.417, unit=elementary charge), Quantity(value=0.417, unit=elementary charge)]\n",
      "elec  [1, 1, 0, 0, 0, 0, Quantity(value=0.417, unit=elementary charge), Quantity(value=0.417, unit=elementary charge)]\n",
      "elec  [1, 1, 0, 0, 0, 0, Quantity(value=-0.834, unit=elementary charge), Quantity(value=-0.834, unit=elementary charge)]\n",
      "elec  [1, 1, 0, 0, 0, 0, Quantity(value=0.417, unit=elementary charge), Quantity(value=0.417, unit=elementary charge)]\n",
      "elec  [1, 1, 0, 0, 0, 0, Quantity(value=0.417, unit=elementary charge), Quantity(value=0.417, unit=elementary charge)]\n",
      "elec  [1, 1, 0, 0, 0, 0, Quantity(value=-0.834, unit=elementary charge), Quantity(value=-0.834, unit=elementary charge)]\n",
      "elec  [1, 1, 0, 0, 0, 0, Quantity(value=0.417, unit=elementary charge), Quantity(value=0.417, unit=elementary charge)]\n",
      "elec  [1, 1, 0, 0, 0, 0, Quantity(value=0.417, unit=elementary charge), Quantity(value=0.417, unit=elementary charge)]\n",
      "elec  [1, 1, 0, 0, 0, 0, Quantity(value=-0.834, unit=elementary charge), Quantity(value=-0.834, unit=elementary charge)]\n",
      "elec  [1, 1, 0, 0, 0, 0, Quantity(value=0.417, unit=elementary charge), Quantity(value=0.417, unit=elementary charge)]\n",
      "elec  [1, 1, 0, 0, 0, 0, Quantity(value=0.417, unit=elementary charge), Quantity(value=0.417, unit=elementary charge)]\n",
      "elec  [1, 1, 0, 0, 0, 0, Quantity(value=-0.834, unit=elementary charge), Quantity(value=-0.834, unit=elementary charge)]\n",
      "elec  [1, 1, 0, 0, 0, 0, Quantity(value=0.417, unit=elementary charge), Quantity(value=0.417, unit=elementary charge)]\n",
      "elec  [1, 1, 0, 0, 0, 0, Quantity(value=0.417, unit=elementary charge), Quantity(value=0.417, unit=elementary charge)]\n",
      "elec  [1, 1, 0, 0, 0, 0, Quantity(value=-0.834, unit=elementary charge), Quantity(value=-0.834, unit=elementary charge)]\n",
      "elec  [1, 1, 0, 0, 0, 0, Quantity(value=0.417, unit=elementary charge), Quantity(value=0.417, unit=elementary charge)]\n",
      "elec  [1, 1, 0, 0, 0, 0, Quantity(value=0.417, unit=elementary charge), Quantity(value=0.417, unit=elementary charge)]\n",
      "elec  [1, 1, 0, 0, 0, 0, Quantity(value=-0.834, unit=elementary charge), Quantity(value=-0.834, unit=elementary charge)]\n",
      "elec  [1, 1, 0, 0, 0, 0, Quantity(value=0.417, unit=elementary charge), Quantity(value=0.417, unit=elementary charge)]\n",
      "elec  [1, 1, 0, 0, 0, 0, Quantity(value=0.417, unit=elementary charge), Quantity(value=0.417, unit=elementary charge)]\n",
      "elec  [1, 1, 0, 0, 0, 0, Quantity(value=-0.834, unit=elementary charge), Quantity(value=-0.834, unit=elementary charge)]\n",
      "elec  [1, 1, 0, 0, 0, 0, Quantity(value=0.417, unit=elementary charge), Quantity(value=0.417, unit=elementary charge)]\n",
      "elec  [1, 1, 0, 0, 0, 0, Quantity(value=0.417, unit=elementary charge), Quantity(value=0.417, unit=elementary charge)]\n",
      "elec  [1, 1, 0, 0, 0, 0, Quantity(value=-0.834, unit=elementary charge), Quantity(value=-0.834, unit=elementary charge)]\n",
      "elec  [1, 1, 0, 0, 0, 0, Quantity(value=0.417, unit=elementary charge), Quantity(value=0.417, unit=elementary charge)]\n",
      "elec  [1, 1, 0, 0, 0, 0, Quantity(value=0.417, unit=elementary charge), Quantity(value=0.417, unit=elementary charge)]\n",
      "elec  [1, 1, 0, 0, 0, 0, Quantity(value=-0.834, unit=elementary charge), Quantity(value=-0.834, unit=elementary charge)]\n",
      "elec  [1, 1, 0, 0, 0, 0, Quantity(value=0.417, unit=elementary charge), Quantity(value=0.417, unit=elementary charge)]\n",
      "elec  [1, 1, 0, 0, 0, 0, Quantity(value=0.417, unit=elementary charge), Quantity(value=0.417, unit=elementary charge)]\n",
      "elec  [1, 1, 0, 0, 0, 0, Quantity(value=-0.834, unit=elementary charge), Quantity(value=-0.834, unit=elementary charge)]\n",
      "elec  [1, 1, 0, 0, 0, 0, Quantity(value=0.417, unit=elementary charge), Quantity(value=0.417, unit=elementary charge)]\n",
      "elec  [1, 1, 0, 0, 0, 0, Quantity(value=0.417, unit=elementary charge), Quantity(value=0.417, unit=elementary charge)]\n",
      "elec  [1, 1, 0, 0, 0, 0, Quantity(value=-0.834, unit=elementary charge), Quantity(value=-0.834, unit=elementary charge)]\n",
      "elec  [1, 1, 0, 0, 0, 0, Quantity(value=0.417, unit=elementary charge), Quantity(value=0.417, unit=elementary charge)]\n",
      "elec  [1, 1, 0, 0, 0, 0, Quantity(value=0.417, unit=elementary charge), Quantity(value=0.417, unit=elementary charge)]\n",
      "elec  [1, 1, 0, 0, 0, 0, Quantity(value=-0.834, unit=elementary charge), Quantity(value=-0.834, unit=elementary charge)]\n",
      "elec  [1, 1, 0, 0, 0, 0, Quantity(value=0.417, unit=elementary charge), Quantity(value=0.417, unit=elementary charge)]\n",
      "elec  [1, 1, 0, 0, 0, 0, Quantity(value=0.417, unit=elementary charge), Quantity(value=0.417, unit=elementary charge)]\n",
      "elec  [1, 1, 0, 0, 0, 0, Quantity(value=-0.834, unit=elementary charge), Quantity(value=-0.834, unit=elementary charge)]\n",
      "elec  [1, 1, 0, 0, 0, 0, Quantity(value=0.417, unit=elementary charge), Quantity(value=0.417, unit=elementary charge)]\n",
      "elec  [1, 1, 0, 0, 0, 0, Quantity(value=0.417, unit=elementary charge), Quantity(value=0.417, unit=elementary charge)]\n",
      "elec  [1, 1, 0, 0, 0, 0, Quantity(value=-0.834, unit=elementary charge), Quantity(value=-0.834, unit=elementary charge)]\n",
      "elec  [1, 1, 0, 0, 0, 0, Quantity(value=0.417, unit=elementary charge), Quantity(value=0.417, unit=elementary charge)]\n",
      "elec  [1, 1, 0, 0, 0, 0, Quantity(value=0.417, unit=elementary charge), Quantity(value=0.417, unit=elementary charge)]\n",
      "elec  [1, 1, 0, 0, 0, 0, Quantity(value=-0.834, unit=elementary charge), Quantity(value=-0.834, unit=elementary charge)]\n",
      "elec  [1, 1, 0, 0, 0, 0, Quantity(value=0.417, unit=elementary charge), Quantity(value=0.417, unit=elementary charge)]\n",
      "elec  [1, 1, 0, 0, 0, 0, Quantity(value=0.417, unit=elementary charge), Quantity(value=0.417, unit=elementary charge)]\n",
      "elec  [1, 1, 0, 0, 0, 0, Quantity(value=-0.834, unit=elementary charge), Quantity(value=-0.834, unit=elementary charge)]\n",
      "elec  [1, 1, 0, 0, 0, 0, Quantity(value=0.417, unit=elementary charge), Quantity(value=0.417, unit=elementary charge)]\n",
      "elec  [1, 1, 0, 0, 0, 0, Quantity(value=0.417, unit=elementary charge), Quantity(value=0.417, unit=elementary charge)]\n",
      "elec  [1, 1, 0, 0, 0, 0, Quantity(value=-0.834, unit=elementary charge), Quantity(value=-0.834, unit=elementary charge)]\n",
      "elec  [1, 1, 0, 0, 0, 0, Quantity(value=0.417, unit=elementary charge), Quantity(value=0.417, unit=elementary charge)]\n",
      "elec  [1, 1, 0, 0, 0, 0, Quantity(value=0.417, unit=elementary charge), Quantity(value=0.417, unit=elementary charge)]\n",
      "elec  [1, 1, 0, 0, 0, 0, Quantity(value=-0.834, unit=elementary charge), Quantity(value=-0.834, unit=elementary charge)]\n",
      "elec  [1, 1, 0, 0, 0, 0, Quantity(value=0.417, unit=elementary charge), Quantity(value=0.417, unit=elementary charge)]\n",
      "elec  [1, 1, 0, 0, 0, 0, Quantity(value=0.417, unit=elementary charge), Quantity(value=0.417, unit=elementary charge)]\n",
      "elec  [1, 1, 0, 0, 0, 0, Quantity(value=-0.834, unit=elementary charge), Quantity(value=-0.834, unit=elementary charge)]\n",
      "elec  [1, 1, 0, 0, 0, 0, Quantity(value=0.417, unit=elementary charge), Quantity(value=0.417, unit=elementary charge)]\n",
      "elec  [1, 1, 0, 0, 0, 0, Quantity(value=0.417, unit=elementary charge), Quantity(value=0.417, unit=elementary charge)]\n",
      "elec  [1, 1, 0, 0, 0, 0, Quantity(value=-0.834, unit=elementary charge), Quantity(value=-0.834, unit=elementary charge)]\n",
      "elec  [1, 1, 0, 0, 0, 0, Quantity(value=0.417, unit=elementary charge), Quantity(value=0.417, unit=elementary charge)]\n",
      "elec  [1, 1, 0, 0, 0, 0, Quantity(value=0.417, unit=elementary charge), Quantity(value=0.417, unit=elementary charge)]\n",
      "elec  [1, 1, 0, 0, 0, 0, Quantity(value=-0.834, unit=elementary charge), Quantity(value=-0.834, unit=elementary charge)]\n",
      "elec  [1, 1, 0, 0, 0, 0, Quantity(value=0.417, unit=elementary charge), Quantity(value=0.417, unit=elementary charge)]\n",
      "elec  [1, 1, 0, 0, 0, 0, Quantity(value=0.417, unit=elementary charge), Quantity(value=0.417, unit=elementary charge)]\n",
      "elec  [1, 1, 0, 0, 0, 0, Quantity(value=-0.834, unit=elementary charge), Quantity(value=-0.834, unit=elementary charge)]\n",
      "elec  [1, 1, 0, 0, 0, 0, Quantity(value=0.417, unit=elementary charge), Quantity(value=0.417, unit=elementary charge)]\n",
      "elec  [1, 1, 0, 0, 0, 0, Quantity(value=0.417, unit=elementary charge), Quantity(value=0.417, unit=elementary charge)]\n",
      "elec  [1, 1, 0, 0, 0, 0, Quantity(value=-0.834, unit=elementary charge), Quantity(value=-0.834, unit=elementary charge)]\n",
      "elec  [1, 1, 0, 0, 0, 0, Quantity(value=0.417, unit=elementary charge), Quantity(value=0.417, unit=elementary charge)]\n",
      "elec  [1, 1, 0, 0, 0, 0, Quantity(value=0.417, unit=elementary charge), Quantity(value=0.417, unit=elementary charge)]\n",
      "elec  [1, 1, 0, 0, 0, 0, Quantity(value=-0.834, unit=elementary charge), Quantity(value=-0.834, unit=elementary charge)]\n",
      "elec  [1, 1, 0, 0, 0, 0, Quantity(value=0.417, unit=elementary charge), Quantity(value=0.417, unit=elementary charge)]\n",
      "elec  [1, 1, 0, 0, 0, 0, Quantity(value=0.417, unit=elementary charge), Quantity(value=0.417, unit=elementary charge)]\n",
      "elec  [1, 1, 0, 0, 0, 0, Quantity(value=-0.834, unit=elementary charge), Quantity(value=-0.834, unit=elementary charge)]\n",
      "elec  [1, 1, 0, 0, 0, 0, Quantity(value=0.417, unit=elementary charge), Quantity(value=0.417, unit=elementary charge)]\n",
      "elec  [1, 1, 0, 0, 0, 0, Quantity(value=0.417, unit=elementary charge), Quantity(value=0.417, unit=elementary charge)]\n",
      "elec  [1, 1, 0, 0, 0, 0, Quantity(value=-0.834, unit=elementary charge), Quantity(value=-0.834, unit=elementary charge)]\n",
      "elec  [1, 1, 0, 0, 0, 0, Quantity(value=0.417, unit=elementary charge), Quantity(value=0.417, unit=elementary charge)]\n",
      "elec  [1, 1, 0, 0, 0, 0, Quantity(value=0.417, unit=elementary charge), Quantity(value=0.417, unit=elementary charge)]\n",
      "elec  [1, 1, 0, 0, 0, 0, Quantity(value=-0.834, unit=elementary charge), Quantity(value=-0.834, unit=elementary charge)]\n",
      "elec  [1, 1, 0, 0, 0, 0, Quantity(value=0.417, unit=elementary charge), Quantity(value=0.417, unit=elementary charge)]\n",
      "elec  [1, 1, 0, 0, 0, 0, Quantity(value=0.417, unit=elementary charge), Quantity(value=0.417, unit=elementary charge)]\n",
      "elec  [1, 1, 0, 0, 0, 0, Quantity(value=-0.834, unit=elementary charge), Quantity(value=-0.834, unit=elementary charge)]\n",
      "elec  [1, 1, 0, 0, 0, 0, Quantity(value=0.417, unit=elementary charge), Quantity(value=0.417, unit=elementary charge)]\n",
      "elec  [1, 1, 0, 0, 0, 0, Quantity(value=0.417, unit=elementary charge), Quantity(value=0.417, unit=elementary charge)]\n",
      "elec  [1, 1, 0, 0, 0, 0, Quantity(value=-0.834, unit=elementary charge), Quantity(value=-0.834, unit=elementary charge)]\n",
      "elec  [1, 1, 0, 0, 0, 0, Quantity(value=0.417, unit=elementary charge), Quantity(value=0.417, unit=elementary charge)]\n",
      "elec  [1, 1, 0, 0, 0, 0, Quantity(value=0.417, unit=elementary charge), Quantity(value=0.417, unit=elementary charge)]\n",
      "elec  [1, 1, 0, 0, 0, 0, Quantity(value=-0.834, unit=elementary charge), Quantity(value=-0.834, unit=elementary charge)]\n",
      "elec  [1, 1, 0, 0, 0, 0, Quantity(value=0.417, unit=elementary charge), Quantity(value=0.417, unit=elementary charge)]\n",
      "elec  [1, 1, 0, 0, 0, 0, Quantity(value=0.417, unit=elementary charge), Quantity(value=0.417, unit=elementary charge)]\n",
      "elec  [1, 1, 0, 0, 0, 0, Quantity(value=-0.834, unit=elementary charge), Quantity(value=-0.834, unit=elementary charge)]\n",
      "elec  [1, 1, 0, 0, 0, 0, Quantity(value=0.417, unit=elementary charge), Quantity(value=0.417, unit=elementary charge)]\n",
      "elec  [1, 1, 0, 0, 0, 0, Quantity(value=0.417, unit=elementary charge), Quantity(value=0.417, unit=elementary charge)]\n",
      "elec  [1, 1, 0, 0, 0, 0, Quantity(value=-0.834, unit=elementary charge), Quantity(value=-0.834, unit=elementary charge)]\n",
      "elec  [1, 1, 0, 0, 0, 0, Quantity(value=0.417, unit=elementary charge), Quantity(value=0.417, unit=elementary charge)]\n",
      "elec  [1, 1, 0, 0, 0, 0, Quantity(value=0.417, unit=elementary charge), Quantity(value=0.417, unit=elementary charge)]\n",
      "elec  [1, 1, 0, 0, 0, 0, Quantity(value=-0.834, unit=elementary charge), Quantity(value=-0.834, unit=elementary charge)]\n",
      "elec  [1, 1, 0, 0, 0, 0, Quantity(value=0.417, unit=elementary charge), Quantity(value=0.417, unit=elementary charge)]\n",
      "elec  [1, 1, 0, 0, 0, 0, Quantity(value=0.417, unit=elementary charge), Quantity(value=0.417, unit=elementary charge)]\n",
      "elec  [1, 1, 0, 0, 0, 0, Quantity(value=-0.834, unit=elementary charge), Quantity(value=-0.834, unit=elementary charge)]\n",
      "elec  [1, 1, 0, 0, 0, 0, Quantity(value=0.417, unit=elementary charge), Quantity(value=0.417, unit=elementary charge)]\n",
      "elec  [1, 1, 0, 0, 0, 0, Quantity(value=0.417, unit=elementary charge), Quantity(value=0.417, unit=elementary charge)]\n",
      "elec  [1, 1, 0, 0, 0, 0, Quantity(value=-0.834, unit=elementary charge), Quantity(value=-0.834, unit=elementary charge)]\n",
      "elec  [1, 1, 0, 0, 0, 0, Quantity(value=0.417, unit=elementary charge), Quantity(value=0.417, unit=elementary charge)]\n",
      "elec  [1, 1, 0, 0, 0, 0, Quantity(value=0.417, unit=elementary charge), Quantity(value=0.417, unit=elementary charge)]\n",
      "elec  [1, 1, 0, 0, 0, 0, Quantity(value=-0.834, unit=elementary charge), Quantity(value=-0.834, unit=elementary charge)]\n",
      "elec  [1, 1, 0, 0, 0, 0, Quantity(value=0.417, unit=elementary charge), Quantity(value=0.417, unit=elementary charge)]\n",
      "elec  [1, 1, 0, 0, 0, 0, Quantity(value=0.417, unit=elementary charge), Quantity(value=0.417, unit=elementary charge)]\n",
      "elec  [1, 1, 0, 0, 0, 0, Quantity(value=-0.834, unit=elementary charge), Quantity(value=-0.834, unit=elementary charge)]\n",
      "elec  [1, 1, 0, 0, 0, 0, Quantity(value=0.417, unit=elementary charge), Quantity(value=0.417, unit=elementary charge)]\n",
      "elec  [1, 1, 0, 0, 0, 0, Quantity(value=0.417, unit=elementary charge), Quantity(value=0.417, unit=elementary charge)]\n",
      "elec  [1, 1, 0, 0, 0, 0, Quantity(value=-0.834, unit=elementary charge), Quantity(value=-0.834, unit=elementary charge)]\n",
      "elec  [1, 1, 0, 0, 0, 0, Quantity(value=0.417, unit=elementary charge), Quantity(value=0.417, unit=elementary charge)]\n",
      "elec  [1, 1, 0, 0, 0, 0, Quantity(value=0.417, unit=elementary charge), Quantity(value=0.417, unit=elementary charge)]\n",
      "elec  [1, 1, 0, 0, 0, 0, Quantity(value=-0.834, unit=elementary charge), Quantity(value=-0.834, unit=elementary charge)]\n",
      "elec  [1, 1, 0, 0, 0, 0, Quantity(value=0.417, unit=elementary charge), Quantity(value=0.417, unit=elementary charge)]\n",
      "elec  [1, 1, 0, 0, 0, 0, Quantity(value=0.417, unit=elementary charge), Quantity(value=0.417, unit=elementary charge)]\n",
      "elec  [1, 1, 0, 0, 0, 0, Quantity(value=-0.834, unit=elementary charge), Quantity(value=-0.834, unit=elementary charge)]\n",
      "elec  [1, 1, 0, 0, 0, 0, Quantity(value=0.417, unit=elementary charge), Quantity(value=0.417, unit=elementary charge)]\n",
      "elec  [1, 1, 0, 0, 0, 0, Quantity(value=0.417, unit=elementary charge), Quantity(value=0.417, unit=elementary charge)]\n",
      "elec  [1, 1, 0, 0, 0, 0, Quantity(value=-0.834, unit=elementary charge), Quantity(value=-0.834, unit=elementary charge)]\n",
      "elec  [1, 1, 0, 0, 0, 0, Quantity(value=0.417, unit=elementary charge), Quantity(value=0.417, unit=elementary charge)]\n",
      "elec  [1, 1, 0, 0, 0, 0, Quantity(value=0.417, unit=elementary charge), Quantity(value=0.417, unit=elementary charge)]\n",
      "elec  [1, 1, 0, 0, 0, 0, Quantity(value=-0.834, unit=elementary charge), Quantity(value=-0.834, unit=elementary charge)]\n",
      "elec  [1, 1, 0, 0, 0, 0, Quantity(value=0.417, unit=elementary charge), Quantity(value=0.417, unit=elementary charge)]\n",
      "elec  [1, 1, 0, 0, 0, 0, Quantity(value=0.417, unit=elementary charge), Quantity(value=0.417, unit=elementary charge)]\n",
      "elec  [1, 1, 0, 0, 0, 0, Quantity(value=-0.834, unit=elementary charge), Quantity(value=-0.834, unit=elementary charge)]\n",
      "elec  [1, 1, 0, 0, 0, 0, Quantity(value=0.417, unit=elementary charge), Quantity(value=0.417, unit=elementary charge)]\n",
      "elec  [1, 1, 0, 0, 0, 0, Quantity(value=0.417, unit=elementary charge), Quantity(value=0.417, unit=elementary charge)]\n",
      "elec  [1, 1, 0, 0, 0, 0, Quantity(value=-0.834, unit=elementary charge), Quantity(value=-0.834, unit=elementary charge)]\n",
      "elec  [1, 1, 0, 0, 0, 0, Quantity(value=0.417, unit=elementary charge), Quantity(value=0.417, unit=elementary charge)]\n",
      "elec  [1, 1, 0, 0, 0, 0, Quantity(value=0.417, unit=elementary charge), Quantity(value=0.417, unit=elementary charge)]\n",
      "elec  [1, 1, 0, 0, 0, 0, Quantity(value=-0.834, unit=elementary charge), Quantity(value=-0.834, unit=elementary charge)]\n",
      "elec  [1, 1, 0, 0, 0, 0, Quantity(value=0.417, unit=elementary charge), Quantity(value=0.417, unit=elementary charge)]\n",
      "elec  [1, 1, 0, 0, 0, 0, Quantity(value=0.417, unit=elementary charge), Quantity(value=0.417, unit=elementary charge)]\n",
      "elec  [1, 1, 0, 0, 0, 0, Quantity(value=-0.834, unit=elementary charge), Quantity(value=-0.834, unit=elementary charge)]\n",
      "elec  [1, 1, 0, 0, 0, 0, Quantity(value=0.417, unit=elementary charge), Quantity(value=0.417, unit=elementary charge)]\n",
      "elec  [1, 1, 0, 0, 0, 0, Quantity(value=0.417, unit=elementary charge), Quantity(value=0.417, unit=elementary charge)]\n",
      "elec  [1, 1, 0, 0, 0, 0, Quantity(value=-0.834, unit=elementary charge), Quantity(value=-0.834, unit=elementary charge)]\n",
      "elec  [1, 1, 0, 0, 0, 0, Quantity(value=0.417, unit=elementary charge), Quantity(value=0.417, unit=elementary charge)]\n",
      "elec  [1, 1, 0, 0, 0, 0, Quantity(value=0.417, unit=elementary charge), Quantity(value=0.417, unit=elementary charge)]\n",
      "elec  [1, 1, 0, 0, 0, 0, Quantity(value=-0.834, unit=elementary charge), Quantity(value=-0.834, unit=elementary charge)]\n",
      "elec  [1, 1, 0, 0, 0, 0, Quantity(value=0.417, unit=elementary charge), Quantity(value=0.417, unit=elementary charge)]\n",
      "elec  [1, 1, 0, 0, 0, 0, Quantity(value=0.417, unit=elementary charge), Quantity(value=0.417, unit=elementary charge)]\n",
      "elec  [1, 1, 0, 0, 0, 0, Quantity(value=-0.834, unit=elementary charge), Quantity(value=-0.834, unit=elementary charge)]\n",
      "elec  [1, 1, 0, 0, 0, 0, Quantity(value=0.417, unit=elementary charge), Quantity(value=0.417, unit=elementary charge)]\n",
      "elec  [1, 1, 0, 0, 0, 0, Quantity(value=0.417, unit=elementary charge), Quantity(value=0.417, unit=elementary charge)]\n",
      "elec  [1, 1, 0, 0, 0, 0, Quantity(value=-0.834, unit=elementary charge), Quantity(value=-0.834, unit=elementary charge)]\n",
      "elec  [1, 1, 0, 0, 0, 0, Quantity(value=0.417, unit=elementary charge), Quantity(value=0.417, unit=elementary charge)]\n",
      "elec  [1, 1, 0, 0, 0, 0, Quantity(value=0.417, unit=elementary charge), Quantity(value=0.417, unit=elementary charge)]\n",
      "elec  [1, 1, 0, 0, 0, 0, Quantity(value=-0.834, unit=elementary charge), Quantity(value=-0.834, unit=elementary charge)]\n",
      "elec  [1, 1, 0, 0, 0, 0, Quantity(value=0.417, unit=elementary charge), Quantity(value=0.417, unit=elementary charge)]\n",
      "elec  [1, 1, 0, 0, 0, 0, Quantity(value=0.417, unit=elementary charge), Quantity(value=0.417, unit=elementary charge)]\n",
      "elec  [1, 1, 0, 0, 0, 0, Quantity(value=-0.834, unit=elementary charge), Quantity(value=-0.834, unit=elementary charge)]\n",
      "elec  [1, 1, 0, 0, 0, 0, Quantity(value=0.417, unit=elementary charge), Quantity(value=0.417, unit=elementary charge)]\n",
      "elec  [1, 1, 0, 0, 0, 0, Quantity(value=0.417, unit=elementary charge), Quantity(value=0.417, unit=elementary charge)]\n",
      "elec  [1, 1, 0, 0, 0, 0, Quantity(value=-0.834, unit=elementary charge), Quantity(value=-0.834, unit=elementary charge)]\n",
      "elec  [1, 1, 0, 0, 0, 0, Quantity(value=0.417, unit=elementary charge), Quantity(value=0.417, unit=elementary charge)]\n",
      "elec  [1, 1, 0, 0, 0, 0, Quantity(value=0.417, unit=elementary charge), Quantity(value=0.417, unit=elementary charge)]\n",
      "elec  [1, 1, 0, 0, 0, 0, Quantity(value=-0.834, unit=elementary charge), Quantity(value=-0.834, unit=elementary charge)]\n",
      "elec  [1, 1, 0, 0, 0, 0, Quantity(value=0.417, unit=elementary charge), Quantity(value=0.417, unit=elementary charge)]\n",
      "elec  [1, 1, 0, 0, 0, 0, Quantity(value=0.417, unit=elementary charge), Quantity(value=0.417, unit=elementary charge)]\n",
      "elec  [1, 1, 0, 0, 0, 0, Quantity(value=-0.834, unit=elementary charge), Quantity(value=-0.834, unit=elementary charge)]\n",
      "elec  [1, 1, 0, 0, 0, 0, Quantity(value=0.417, unit=elementary charge), Quantity(value=0.417, unit=elementary charge)]\n"
     ]
    },
    {
     "name": "stdout",
     "output_type": "stream",
     "text": [
      "elec  [1, 1, 0, 0, 0, 0, Quantity(value=0.417, unit=elementary charge), Quantity(value=0.417, unit=elementary charge)]\n",
      "elec  [1, 1, 0, 0, 0, 0, Quantity(value=-0.834, unit=elementary charge), Quantity(value=-0.834, unit=elementary charge)]\n",
      "elec  [1, 1, 0, 0, 0, 0, Quantity(value=0.417, unit=elementary charge), Quantity(value=0.417, unit=elementary charge)]\n",
      "elec  [1, 1, 0, 0, 0, 0, Quantity(value=0.417, unit=elementary charge), Quantity(value=0.417, unit=elementary charge)]\n",
      "elec  [1, 1, 0, 0, 0, 0, Quantity(value=-0.834, unit=elementary charge), Quantity(value=-0.834, unit=elementary charge)]\n",
      "elec  [1, 1, 0, 0, 0, 0, Quantity(value=0.417, unit=elementary charge), Quantity(value=0.417, unit=elementary charge)]\n",
      "elec  [1, 1, 0, 0, 0, 0, Quantity(value=0.417, unit=elementary charge), Quantity(value=0.417, unit=elementary charge)]\n",
      "elec  [1, 1, 0, 0, 0, 0, Quantity(value=-0.834, unit=elementary charge), Quantity(value=-0.834, unit=elementary charge)]\n",
      "elec  [1, 1, 0, 0, 0, 0, Quantity(value=0.417, unit=elementary charge), Quantity(value=0.417, unit=elementary charge)]\n",
      "elec  [1, 1, 0, 0, 0, 0, Quantity(value=0.417, unit=elementary charge), Quantity(value=0.417, unit=elementary charge)]\n",
      "elec  [1, 1, 0, 0, 0, 0, Quantity(value=-0.834, unit=elementary charge), Quantity(value=-0.834, unit=elementary charge)]\n",
      "elec  [1, 1, 0, 0, 0, 0, Quantity(value=0.417, unit=elementary charge), Quantity(value=0.417, unit=elementary charge)]\n",
      "elec  [1, 1, 0, 0, 0, 0, Quantity(value=0.417, unit=elementary charge), Quantity(value=0.417, unit=elementary charge)]\n",
      "elec  [1, 1, 0, 0, 0, 0, Quantity(value=-0.834, unit=elementary charge), Quantity(value=-0.834, unit=elementary charge)]\n",
      "elec  [1, 1, 0, 0, 0, 0, Quantity(value=0.417, unit=elementary charge), Quantity(value=0.417, unit=elementary charge)]\n",
      "elec  [1, 1, 0, 0, 0, 0, Quantity(value=0.417, unit=elementary charge), Quantity(value=0.417, unit=elementary charge)]\n",
      "elec  [1, 1, 0, 0, 0, 0, Quantity(value=-0.834, unit=elementary charge), Quantity(value=-0.834, unit=elementary charge)]\n",
      "elec  [1, 1, 0, 0, 0, 0, Quantity(value=0.417, unit=elementary charge), Quantity(value=0.417, unit=elementary charge)]\n",
      "elec  [1, 1, 0, 0, 0, 0, Quantity(value=0.417, unit=elementary charge), Quantity(value=0.417, unit=elementary charge)]\n",
      "elec  [1, 1, 0, 0, 0, 0, Quantity(value=-0.834, unit=elementary charge), Quantity(value=-0.834, unit=elementary charge)]\n",
      "elec  [1, 1, 0, 0, 0, 0, Quantity(value=0.417, unit=elementary charge), Quantity(value=0.417, unit=elementary charge)]\n",
      "elec  [1, 1, 0, 0, 0, 0, Quantity(value=0.417, unit=elementary charge), Quantity(value=0.417, unit=elementary charge)]\n",
      "elec  [1, 1, 0, 0, 0, 0, Quantity(value=-0.834, unit=elementary charge), Quantity(value=-0.834, unit=elementary charge)]\n",
      "elec  [1, 1, 0, 0, 0, 0, Quantity(value=0.417, unit=elementary charge), Quantity(value=0.417, unit=elementary charge)]\n",
      "elec  [1, 1, 0, 0, 0, 0, Quantity(value=0.417, unit=elementary charge), Quantity(value=0.417, unit=elementary charge)]\n",
      "elec  [1, 1, 0, 0, 0, 0, Quantity(value=-0.834, unit=elementary charge), Quantity(value=-0.834, unit=elementary charge)]\n",
      "elec  [1, 1, 0, 0, 0, 0, Quantity(value=0.417, unit=elementary charge), Quantity(value=0.417, unit=elementary charge)]\n",
      "elec  [1, 1, 0, 0, 0, 0, Quantity(value=0.417, unit=elementary charge), Quantity(value=0.417, unit=elementary charge)]\n",
      "elec  [1, 1, 0, 0, 0, 0, Quantity(value=-0.834, unit=elementary charge), Quantity(value=-0.834, unit=elementary charge)]\n",
      "elec  [1, 1, 0, 0, 0, 0, Quantity(value=0.417, unit=elementary charge), Quantity(value=0.417, unit=elementary charge)]\n",
      "elec  [1, 1, 0, 0, 0, 0, Quantity(value=0.417, unit=elementary charge), Quantity(value=0.417, unit=elementary charge)]\n",
      "elec  [1, 1, 0, 0, 0, 0, Quantity(value=-0.834, unit=elementary charge), Quantity(value=-0.834, unit=elementary charge)]\n",
      "elec  [1, 1, 0, 0, 0, 0, Quantity(value=0.417, unit=elementary charge), Quantity(value=0.417, unit=elementary charge)]\n",
      "elec  [1, 1, 0, 0, 0, 0, Quantity(value=0.417, unit=elementary charge), Quantity(value=0.417, unit=elementary charge)]\n",
      "elec  [1, 1, 0, 0, 0, 0, Quantity(value=-0.834, unit=elementary charge), Quantity(value=-0.834, unit=elementary charge)]\n",
      "elec  [1, 1, 0, 0, 0, 0, Quantity(value=0.417, unit=elementary charge), Quantity(value=0.417, unit=elementary charge)]\n",
      "elec  [1, 1, 0, 0, 0, 0, Quantity(value=0.417, unit=elementary charge), Quantity(value=0.417, unit=elementary charge)]\n",
      "elec  [1, 1, 0, 0, 0, 0, Quantity(value=-0.834, unit=elementary charge), Quantity(value=-0.834, unit=elementary charge)]\n",
      "elec  [1, 1, 0, 0, 0, 0, Quantity(value=0.417, unit=elementary charge), Quantity(value=0.417, unit=elementary charge)]\n",
      "elec  [1, 1, 0, 0, 0, 0, Quantity(value=0.417, unit=elementary charge), Quantity(value=0.417, unit=elementary charge)]\n",
      "elec  [1, 1, 0, 0, 0, 0, Quantity(value=-0.834, unit=elementary charge), Quantity(value=-0.834, unit=elementary charge)]\n",
      "elec  [1, 1, 0, 0, 0, 0, Quantity(value=0.417, unit=elementary charge), Quantity(value=0.417, unit=elementary charge)]\n",
      "elec  [1, 1, 0, 0, 0, 0, Quantity(value=0.417, unit=elementary charge), Quantity(value=0.417, unit=elementary charge)]\n",
      "elec  [1, 1, 0, 0, 0, 0, Quantity(value=-0.834, unit=elementary charge), Quantity(value=-0.834, unit=elementary charge)]\n",
      "elec  [1, 1, 0, 0, 0, 0, Quantity(value=0.417, unit=elementary charge), Quantity(value=0.417, unit=elementary charge)]\n",
      "elec  [1, 1, 0, 0, 0, 0, Quantity(value=0.417, unit=elementary charge), Quantity(value=0.417, unit=elementary charge)]\n",
      "elec  [1, 1, 0, 0, 0, 0, Quantity(value=-0.834, unit=elementary charge), Quantity(value=-0.834, unit=elementary charge)]\n",
      "elec  [1, 1, 0, 0, 0, 0, Quantity(value=0.417, unit=elementary charge), Quantity(value=0.417, unit=elementary charge)]\n",
      "elec  [1, 1, 0, 0, 0, 0, Quantity(value=0.417, unit=elementary charge), Quantity(value=0.417, unit=elementary charge)]\n",
      "elec  [1, 1, 0, 0, 0, 0, Quantity(value=-0.834, unit=elementary charge), Quantity(value=-0.834, unit=elementary charge)]\n",
      "elec  [1, 1, 0, 0, 0, 0, Quantity(value=0.417, unit=elementary charge), Quantity(value=0.417, unit=elementary charge)]\n",
      "elec  [1, 1, 0, 0, 0, 0, Quantity(value=0.417, unit=elementary charge), Quantity(value=0.417, unit=elementary charge)]\n",
      "elec  [1, 1, 0, 0, 0, 0, Quantity(value=-0.834, unit=elementary charge), Quantity(value=-0.834, unit=elementary charge)]\n",
      "elec  [1, 1, 0, 0, 0, 0, Quantity(value=0.417, unit=elementary charge), Quantity(value=0.417, unit=elementary charge)]\n",
      "elec  [1, 1, 0, 0, 0, 0, Quantity(value=0.417, unit=elementary charge), Quantity(value=0.417, unit=elementary charge)]\n",
      "elec  [1, 1, 0, 0, 0, 0, Quantity(value=-0.834, unit=elementary charge), Quantity(value=-0.834, unit=elementary charge)]\n",
      "elec  [1, 1, 0, 0, 0, 0, Quantity(value=0.417, unit=elementary charge), Quantity(value=0.417, unit=elementary charge)]\n",
      "elec  [1, 1, 0, 0, 0, 0, Quantity(value=0.417, unit=elementary charge), Quantity(value=0.417, unit=elementary charge)]\n",
      "elec  [1, 1, 0, 0, 0, 0, Quantity(value=-0.834, unit=elementary charge), Quantity(value=-0.834, unit=elementary charge)]\n",
      "elec  [1, 1, 0, 0, 0, 0, Quantity(value=0.417, unit=elementary charge), Quantity(value=0.417, unit=elementary charge)]\n",
      "elec  [1, 1, 0, 0, 0, 0, Quantity(value=0.417, unit=elementary charge), Quantity(value=0.417, unit=elementary charge)]\n",
      "elec  [1, 1, 0, 0, 0, 0, Quantity(value=-0.834, unit=elementary charge), Quantity(value=-0.834, unit=elementary charge)]\n",
      "elec  [1, 1, 0, 0, 0, 0, Quantity(value=0.417, unit=elementary charge), Quantity(value=0.417, unit=elementary charge)]\n",
      "elec  [1, 1, 0, 0, 0, 0, Quantity(value=0.417, unit=elementary charge), Quantity(value=0.417, unit=elementary charge)]\n",
      "elec  [1, 1, 0, 0, 0, 0, Quantity(value=-0.834, unit=elementary charge), Quantity(value=-0.834, unit=elementary charge)]\n",
      "elec  [1, 1, 0, 0, 0, 0, Quantity(value=0.417, unit=elementary charge), Quantity(value=0.417, unit=elementary charge)]\n",
      "elec  [1, 1, 0, 0, 0, 0, Quantity(value=0.417, unit=elementary charge), Quantity(value=0.417, unit=elementary charge)]\n",
      "elec  [1, 1, 0, 0, 0, 0, Quantity(value=-0.834, unit=elementary charge), Quantity(value=-0.834, unit=elementary charge)]\n",
      "elec  [1, 1, 0, 0, 0, 0, Quantity(value=0.417, unit=elementary charge), Quantity(value=0.417, unit=elementary charge)]\n",
      "elec  [1, 1, 0, 0, 0, 0, Quantity(value=0.417, unit=elementary charge), Quantity(value=0.417, unit=elementary charge)]\n",
      "elec  [1, 1, 0, 0, 0, 0, Quantity(value=-0.834, unit=elementary charge), Quantity(value=-0.834, unit=elementary charge)]\n",
      "elec  [1, 1, 0, 0, 0, 0, Quantity(value=0.417, unit=elementary charge), Quantity(value=0.417, unit=elementary charge)]\n",
      "elec  [1, 1, 0, 0, 0, 0, Quantity(value=0.417, unit=elementary charge), Quantity(value=0.417, unit=elementary charge)]\n",
      "elec  [1, 1, 0, 0, 0, 0, Quantity(value=-0.834, unit=elementary charge), Quantity(value=-0.834, unit=elementary charge)]\n",
      "elec  [1, 1, 0, 0, 0, 0, Quantity(value=0.417, unit=elementary charge), Quantity(value=0.417, unit=elementary charge)]\n",
      "elec  [1, 1, 0, 0, 0, 0, Quantity(value=0.417, unit=elementary charge), Quantity(value=0.417, unit=elementary charge)]\n",
      "elec  [1, 1, 0, 0, 0, 0, Quantity(value=-0.834, unit=elementary charge), Quantity(value=-0.834, unit=elementary charge)]\n",
      "elec  [1, 1, 0, 0, 0, 0, Quantity(value=0.417, unit=elementary charge), Quantity(value=0.417, unit=elementary charge)]\n",
      "elec  [1, 1, 0, 0, 0, 0, Quantity(value=0.417, unit=elementary charge), Quantity(value=0.417, unit=elementary charge)]\n",
      "elec  [1, 1, 0, 0, 0, 0, Quantity(value=-0.834, unit=elementary charge), Quantity(value=-0.834, unit=elementary charge)]\n",
      "elec  [1, 1, 0, 0, 0, 0, Quantity(value=0.417, unit=elementary charge), Quantity(value=0.417, unit=elementary charge)]\n",
      "elec  [1, 1, 0, 0, 0, 0, Quantity(value=0.417, unit=elementary charge), Quantity(value=0.417, unit=elementary charge)]\n",
      "elec  [1, 1, 0, 0, 0, 0, Quantity(value=-0.834, unit=elementary charge), Quantity(value=-0.834, unit=elementary charge)]\n",
      "elec  [1, 1, 0, 0, 0, 0, Quantity(value=0.417, unit=elementary charge), Quantity(value=0.417, unit=elementary charge)]\n",
      "elec  [1, 1, 0, 0, 0, 0, Quantity(value=0.417, unit=elementary charge), Quantity(value=0.417, unit=elementary charge)]\n",
      "elec  [1, 1, 0, 0, 0, 0, Quantity(value=-0.834, unit=elementary charge), Quantity(value=-0.834, unit=elementary charge)]\n",
      "elec  [1, 1, 0, 0, 0, 0, Quantity(value=0.417, unit=elementary charge), Quantity(value=0.417, unit=elementary charge)]\n",
      "elec  [1, 1, 0, 0, 0, 0, Quantity(value=0.417, unit=elementary charge), Quantity(value=0.417, unit=elementary charge)]\n",
      "elec  [1, 1, 0, 0, 0, 0, Quantity(value=-0.834, unit=elementary charge), Quantity(value=-0.834, unit=elementary charge)]\n",
      "elec  [1, 1, 0, 0, 0, 0, Quantity(value=0.417, unit=elementary charge), Quantity(value=0.417, unit=elementary charge)]\n",
      "elec  [1, 1, 0, 0, 0, 0, Quantity(value=0.417, unit=elementary charge), Quantity(value=0.417, unit=elementary charge)]\n",
      "elec  [1, 1, 0, 0, 0, 0, Quantity(value=-0.834, unit=elementary charge), Quantity(value=-0.834, unit=elementary charge)]\n",
      "elec  [1, 1, 0, 0, 0, 0, Quantity(value=0.417, unit=elementary charge), Quantity(value=0.417, unit=elementary charge)]\n",
      "elec  [1, 1, 0, 0, 0, 0, Quantity(value=0.417, unit=elementary charge), Quantity(value=0.417, unit=elementary charge)]\n",
      "elec  [1, 1, 0, 0, 0, 0, Quantity(value=-0.834, unit=elementary charge), Quantity(value=-0.834, unit=elementary charge)]\n",
      "elec  [1, 1, 0, 0, 0, 0, Quantity(value=0.417, unit=elementary charge), Quantity(value=0.417, unit=elementary charge)]\n",
      "elec  [1, 1, 0, 0, 0, 0, Quantity(value=0.417, unit=elementary charge), Quantity(value=0.417, unit=elementary charge)]\n",
      "elec  [1, 1, 0, 0, 0, 0, Quantity(value=-0.834, unit=elementary charge), Quantity(value=-0.834, unit=elementary charge)]\n",
      "elec  [1, 1, 0, 0, 0, 0, Quantity(value=0.417, unit=elementary charge), Quantity(value=0.417, unit=elementary charge)]\n",
      "elec  [1, 1, 0, 0, 0, 0, Quantity(value=0.417, unit=elementary charge), Quantity(value=0.417, unit=elementary charge)]\n",
      "elec  [1, 1, 0, 0, 0, 0, Quantity(value=-0.834, unit=elementary charge), Quantity(value=-0.834, unit=elementary charge)]\n",
      "elec  [1, 1, 0, 0, 0, 0, Quantity(value=0.417, unit=elementary charge), Quantity(value=0.417, unit=elementary charge)]\n",
      "elec  [1, 1, 0, 0, 0, 0, Quantity(value=0.417, unit=elementary charge), Quantity(value=0.417, unit=elementary charge)]\n",
      "elec  [1, 1, 0, 0, 0, 0, Quantity(value=-0.834, unit=elementary charge), Quantity(value=-0.834, unit=elementary charge)]\n",
      "elec  [1, 1, 0, 0, 0, 0, Quantity(value=0.417, unit=elementary charge), Quantity(value=0.417, unit=elementary charge)]\n",
      "elec  [1, 1, 0, 0, 0, 0, Quantity(value=0.417, unit=elementary charge), Quantity(value=0.417, unit=elementary charge)]\n",
      "elec  [1, 1, 0, 0, 0, 0, Quantity(value=-0.834, unit=elementary charge), Quantity(value=-0.834, unit=elementary charge)]\n",
      "elec  [1, 1, 0, 0, 0, 0, Quantity(value=0.417, unit=elementary charge), Quantity(value=0.417, unit=elementary charge)]\n",
      "elec  [1, 1, 0, 0, 0, 0, Quantity(value=0.417, unit=elementary charge), Quantity(value=0.417, unit=elementary charge)]\n",
      "elec  [1, 1, 0, 0, 0, 0, Quantity(value=-0.834, unit=elementary charge), Quantity(value=-0.834, unit=elementary charge)]\n",
      "elec  [1, 1, 0, 0, 0, 0, Quantity(value=0.417, unit=elementary charge), Quantity(value=0.417, unit=elementary charge)]\n",
      "elec  [1, 1, 0, 0, 0, 0, Quantity(value=0.417, unit=elementary charge), Quantity(value=0.417, unit=elementary charge)]\n",
      "elec  [1, 1, 0, 0, 0, 0, Quantity(value=-0.834, unit=elementary charge), Quantity(value=-0.834, unit=elementary charge)]\n",
      "elec  [1, 1, 0, 0, 0, 0, Quantity(value=0.417, unit=elementary charge), Quantity(value=0.417, unit=elementary charge)]\n",
      "elec  [1, 1, 0, 0, 0, 0, Quantity(value=0.417, unit=elementary charge), Quantity(value=0.417, unit=elementary charge)]\n",
      "elec  [1, 1, 0, 0, 0, 0, Quantity(value=-0.834, unit=elementary charge), Quantity(value=-0.834, unit=elementary charge)]\n",
      "elec  [1, 1, 0, 0, 0, 0, Quantity(value=0.417, unit=elementary charge), Quantity(value=0.417, unit=elementary charge)]\n",
      "elec  [1, 1, 0, 0, 0, 0, Quantity(value=0.417, unit=elementary charge), Quantity(value=0.417, unit=elementary charge)]\n",
      "elec  [1, 1, 0, 0, 0, 0, Quantity(value=-0.834, unit=elementary charge), Quantity(value=-0.834, unit=elementary charge)]\n",
      "elec  [1, 1, 0, 0, 0, 0, Quantity(value=0.417, unit=elementary charge), Quantity(value=0.417, unit=elementary charge)]\n",
      "elec  [1, 1, 0, 0, 0, 0, Quantity(value=0.417, unit=elementary charge), Quantity(value=0.417, unit=elementary charge)]\n",
      "elec  [1, 1, 0, 0, 0, 0, Quantity(value=-0.834, unit=elementary charge), Quantity(value=-0.834, unit=elementary charge)]\n",
      "elec  [1, 1, 0, 0, 0, 0, Quantity(value=0.417, unit=elementary charge), Quantity(value=0.417, unit=elementary charge)]\n",
      "elec  [1, 1, 0, 0, 0, 0, Quantity(value=0.417, unit=elementary charge), Quantity(value=0.417, unit=elementary charge)]\n",
      "elec  [1, 1, 0, 0, 0, 0, Quantity(value=-0.834, unit=elementary charge), Quantity(value=-0.834, unit=elementary charge)]\n",
      "elec  [1, 1, 0, 0, 0, 0, Quantity(value=0.417, unit=elementary charge), Quantity(value=0.417, unit=elementary charge)]\n",
      "elec  [1, 1, 0, 0, 0, 0, Quantity(value=0.417, unit=elementary charge), Quantity(value=0.417, unit=elementary charge)]\n",
      "elec  [1, 1, 0, 0, 0, 0, Quantity(value=-0.834, unit=elementary charge), Quantity(value=-0.834, unit=elementary charge)]\n",
      "elec  [1, 1, 0, 0, 0, 0, Quantity(value=0.417, unit=elementary charge), Quantity(value=0.417, unit=elementary charge)]\n",
      "elec  [1, 1, 0, 0, 0, 0, Quantity(value=0.417, unit=elementary charge), Quantity(value=0.417, unit=elementary charge)]\n",
      "elec  [1, 1, 0, 0, 0, 0, Quantity(value=-0.834, unit=elementary charge), Quantity(value=-0.834, unit=elementary charge)]\n",
      "elec  [1, 1, 0, 0, 0, 0, Quantity(value=0.417, unit=elementary charge), Quantity(value=0.417, unit=elementary charge)]\n",
      "elec  [1, 1, 0, 0, 0, 0, Quantity(value=0.417, unit=elementary charge), Quantity(value=0.417, unit=elementary charge)]\n",
      "elec  [1, 1, 0, 0, 0, 0, Quantity(value=-0.834, unit=elementary charge), Quantity(value=-0.834, unit=elementary charge)]\n",
      "elec  [1, 1, 0, 0, 0, 0, Quantity(value=0.417, unit=elementary charge), Quantity(value=0.417, unit=elementary charge)]\n",
      "elec  [1, 1, 0, 0, 0, 0, Quantity(value=0.417, unit=elementary charge), Quantity(value=0.417, unit=elementary charge)]\n",
      "elec  [1, 1, 0, 0, 0, 0, Quantity(value=-0.834, unit=elementary charge), Quantity(value=-0.834, unit=elementary charge)]\n",
      "elec  [1, 1, 0, 0, 0, 0, Quantity(value=0.417, unit=elementary charge), Quantity(value=0.417, unit=elementary charge)]\n",
      "elec  [1, 1, 0, 0, 0, 0, Quantity(value=0.417, unit=elementary charge), Quantity(value=0.417, unit=elementary charge)]\n",
      "elec  [1, 1, 0, 0, 0, 0, Quantity(value=-0.834, unit=elementary charge), Quantity(value=-0.834, unit=elementary charge)]\n",
      "elec  [1, 1, 0, 0, 0, 0, Quantity(value=0.417, unit=elementary charge), Quantity(value=0.417, unit=elementary charge)]\n",
      "elec  [1, 1, 0, 0, 0, 0, Quantity(value=0.417, unit=elementary charge), Quantity(value=0.417, unit=elementary charge)]\n",
      "elec  [1, 1, 0, 0, 0, 0, Quantity(value=-0.834, unit=elementary charge), Quantity(value=-0.834, unit=elementary charge)]\n",
      "elec  [1, 1, 0, 0, 0, 0, Quantity(value=0.417, unit=elementary charge), Quantity(value=0.417, unit=elementary charge)]\n",
      "elec  [1, 1, 0, 0, 0, 0, Quantity(value=0.417, unit=elementary charge), Quantity(value=0.417, unit=elementary charge)]\n",
      "elec  [1, 1, 0, 0, 0, 0, Quantity(value=-0.834, unit=elementary charge), Quantity(value=-0.834, unit=elementary charge)]\n",
      "elec  [1, 1, 0, 0, 0, 0, Quantity(value=0.417, unit=elementary charge), Quantity(value=0.417, unit=elementary charge)]\n",
      "elec  [1, 1, 0, 0, 0, 0, Quantity(value=0.417, unit=elementary charge), Quantity(value=0.417, unit=elementary charge)]\n",
      "elec  [1, 1, 0, 0, 0, 0, Quantity(value=-0.834, unit=elementary charge), Quantity(value=-0.834, unit=elementary charge)]\n",
      "elec  [1, 1, 0, 0, 0, 0, Quantity(value=0.417, unit=elementary charge), Quantity(value=0.417, unit=elementary charge)]\n",
      "elec  [1, 1, 0, 0, 0, 0, Quantity(value=0.417, unit=elementary charge), Quantity(value=0.417, unit=elementary charge)]\n",
      "elec  [1, 1, 0, 0, 0, 0, Quantity(value=-0.834, unit=elementary charge), Quantity(value=-0.834, unit=elementary charge)]\n",
      "elec  [1, 1, 0, 0, 0, 0, Quantity(value=0.417, unit=elementary charge), Quantity(value=0.417, unit=elementary charge)]\n",
      "elec  [1, 1, 0, 0, 0, 0, Quantity(value=0.417, unit=elementary charge), Quantity(value=0.417, unit=elementary charge)]\n",
      "elec  [1, 1, 0, 0, 0, 0, Quantity(value=-0.834, unit=elementary charge), Quantity(value=-0.834, unit=elementary charge)]\n",
      "elec  [1, 1, 0, 0, 0, 0, Quantity(value=0.417, unit=elementary charge), Quantity(value=0.417, unit=elementary charge)]\n",
      "elec  [1, 1, 0, 0, 0, 0, Quantity(value=0.417, unit=elementary charge), Quantity(value=0.417, unit=elementary charge)]\n",
      "elec  [1, 1, 0, 0, 0, 0, Quantity(value=-0.834, unit=elementary charge), Quantity(value=-0.834, unit=elementary charge)]\n",
      "elec  [1, 1, 0, 0, 0, 0, Quantity(value=0.417, unit=elementary charge), Quantity(value=0.417, unit=elementary charge)]\n",
      "elec  [1, 1, 0, 0, 0, 0, Quantity(value=0.417, unit=elementary charge), Quantity(value=0.417, unit=elementary charge)]\n",
      "elec  [1, 1, 0, 0, 0, 0, Quantity(value=-0.834, unit=elementary charge), Quantity(value=-0.834, unit=elementary charge)]\n",
      "elec  [1, 1, 0, 0, 0, 0, Quantity(value=0.417, unit=elementary charge), Quantity(value=0.417, unit=elementary charge)]\n",
      "elec  [1, 1, 0, 0, 0, 0, Quantity(value=0.417, unit=elementary charge), Quantity(value=0.417, unit=elementary charge)]\n",
      "elec  [1, 1, 0, 0, 0, 0, Quantity(value=-0.834, unit=elementary charge), Quantity(value=-0.834, unit=elementary charge)]\n",
      "elec  [1, 1, 0, 0, 0, 0, Quantity(value=0.417, unit=elementary charge), Quantity(value=0.417, unit=elementary charge)]\n",
      "elec  [1, 1, 0, 0, 0, 0, Quantity(value=0.417, unit=elementary charge), Quantity(value=0.417, unit=elementary charge)]\n",
      "elec  [1, 1, 0, 0, 0, 0, Quantity(value=-0.834, unit=elementary charge), Quantity(value=-0.834, unit=elementary charge)]\n",
      "elec  [1, 1, 0, 0, 0, 0, Quantity(value=0.417, unit=elementary charge), Quantity(value=0.417, unit=elementary charge)]\n",
      "elec  [1, 1, 0, 0, 0, 0, Quantity(value=0.417, unit=elementary charge), Quantity(value=0.417, unit=elementary charge)]\n",
      "elec  [1, 1, 0, 0, 0, 0, Quantity(value=-0.834, unit=elementary charge), Quantity(value=-0.834, unit=elementary charge)]\n",
      "elec  [1, 1, 0, 0, 0, 0, Quantity(value=0.417, unit=elementary charge), Quantity(value=0.417, unit=elementary charge)]\n",
      "elec  [1, 1, 0, 0, 0, 0, Quantity(value=0.417, unit=elementary charge), Quantity(value=0.417, unit=elementary charge)]\n",
      "elec  [1, 1, 0, 0, 0, 0, Quantity(value=-0.834, unit=elementary charge), Quantity(value=-0.834, unit=elementary charge)]\n",
      "elec  [1, 1, 0, 0, 0, 0, Quantity(value=0.417, unit=elementary charge), Quantity(value=0.417, unit=elementary charge)]\n",
      "elec  [1, 1, 0, 0, 0, 0, Quantity(value=0.417, unit=elementary charge), Quantity(value=0.417, unit=elementary charge)]\n",
      "elec  [1, 1, 0, 0, 0, 0, Quantity(value=-0.834, unit=elementary charge), Quantity(value=-0.834, unit=elementary charge)]\n",
      "elec  [1, 1, 0, 0, 0, 0, Quantity(value=0.417, unit=elementary charge), Quantity(value=0.417, unit=elementary charge)]\n",
      "elec  [1, 1, 0, 0, 0, 0, Quantity(value=0.417, unit=elementary charge), Quantity(value=0.417, unit=elementary charge)]\n",
      "elec  [1, 1, 0, 0, 0, 0, Quantity(value=-0.834, unit=elementary charge), Quantity(value=-0.834, unit=elementary charge)]\n",
      "elec  [1, 1, 0, 0, 0, 0, Quantity(value=0.417, unit=elementary charge), Quantity(value=0.417, unit=elementary charge)]\n",
      "elec  [1, 1, 0, 0, 0, 0, Quantity(value=0.417, unit=elementary charge), Quantity(value=0.417, unit=elementary charge)]\n",
      "elec  [1, 1, 0, 0, 0, 0, Quantity(value=-0.834, unit=elementary charge), Quantity(value=-0.834, unit=elementary charge)]\n",
      "elec  [1, 1, 0, 0, 0, 0, Quantity(value=0.417, unit=elementary charge), Quantity(value=0.417, unit=elementary charge)]\n",
      "elec  [1, 1, 0, 0, 0, 0, Quantity(value=0.417, unit=elementary charge), Quantity(value=0.417, unit=elementary charge)]\n",
      "elec  [1, 1, 0, 0, 0, 0, Quantity(value=-0.834, unit=elementary charge), Quantity(value=-0.834, unit=elementary charge)]\n",
      "elec  [1, 1, 0, 0, 0, 0, Quantity(value=0.417, unit=elementary charge), Quantity(value=0.417, unit=elementary charge)]\n",
      "elec  [1, 1, 0, 0, 0, 0, Quantity(value=0.417, unit=elementary charge), Quantity(value=0.417, unit=elementary charge)]\n",
      "elec  [1, 1, 0, 0, 0, 0, Quantity(value=-0.834, unit=elementary charge), Quantity(value=-0.834, unit=elementary charge)]\n",
      "elec  [1, 1, 0, 0, 0, 0, Quantity(value=0.417, unit=elementary charge), Quantity(value=0.417, unit=elementary charge)]\n",
      "elec  [1, 1, 0, 0, 0, 0, Quantity(value=0.417, unit=elementary charge), Quantity(value=0.417, unit=elementary charge)]\n",
      "elec  [1, 1, 0, 0, 0, 0, Quantity(value=-0.834, unit=elementary charge), Quantity(value=-0.834, unit=elementary charge)]\n",
      "elec  [1, 1, 0, 0, 0, 0, Quantity(value=0.417, unit=elementary charge), Quantity(value=0.417, unit=elementary charge)]\n",
      "elec  [1, 1, 0, 0, 0, 0, Quantity(value=0.417, unit=elementary charge), Quantity(value=0.417, unit=elementary charge)]\n",
      "elec  [1, 1, 0, 0, 0, 0, Quantity(value=-0.834, unit=elementary charge), Quantity(value=-0.834, unit=elementary charge)]\n",
      "elec  [1, 1, 0, 0, 0, 0, Quantity(value=0.417, unit=elementary charge), Quantity(value=0.417, unit=elementary charge)]\n",
      "elec  [1, 1, 0, 0, 0, 0, Quantity(value=0.417, unit=elementary charge), Quantity(value=0.417, unit=elementary charge)]\n",
      "elec  [1, 1, 0, 0, 0, 0, Quantity(value=-0.834, unit=elementary charge), Quantity(value=-0.834, unit=elementary charge)]\n",
      "elec  [1, 1, 0, 0, 0, 0, Quantity(value=0.417, unit=elementary charge), Quantity(value=0.417, unit=elementary charge)]\n",
      "elec  [1, 1, 0, 0, 0, 0, Quantity(value=0.417, unit=elementary charge), Quantity(value=0.417, unit=elementary charge)]\n",
      "elec  [1, 1, 0, 0, 0, 0, Quantity(value=-0.834, unit=elementary charge), Quantity(value=-0.834, unit=elementary charge)]\n",
      "elec  [1, 1, 0, 0, 0, 0, Quantity(value=0.417, unit=elementary charge), Quantity(value=0.417, unit=elementary charge)]\n",
      "elec  [1, 1, 0, 0, 0, 0, Quantity(value=0.417, unit=elementary charge), Quantity(value=0.417, unit=elementary charge)]\n",
      "elec  [1, 1, 0, 0, 0, 0, Quantity(value=-0.834, unit=elementary charge), Quantity(value=-0.834, unit=elementary charge)]\n",
      "elec  [1, 1, 0, 0, 0, 0, Quantity(value=0.417, unit=elementary charge), Quantity(value=0.417, unit=elementary charge)]\n",
      "elec  [1, 1, 0, 0, 0, 0, Quantity(value=0.417, unit=elementary charge), Quantity(value=0.417, unit=elementary charge)]\n",
      "elec  [1, 1, 0, 0, 0, 0, Quantity(value=-0.834, unit=elementary charge), Quantity(value=-0.834, unit=elementary charge)]\n",
      "elec  [1, 1, 0, 0, 0, 0, Quantity(value=0.417, unit=elementary charge), Quantity(value=0.417, unit=elementary charge)]\n",
      "elec  [1, 1, 0, 0, 0, 0, Quantity(value=0.417, unit=elementary charge), Quantity(value=0.417, unit=elementary charge)]\n",
      "elec  [1, 1, 0, 0, 0, 0, Quantity(value=-0.834, unit=elementary charge), Quantity(value=-0.834, unit=elementary charge)]\n",
      "elec  [1, 1, 0, 0, 0, 0, Quantity(value=0.417, unit=elementary charge), Quantity(value=0.417, unit=elementary charge)]\n",
      "elec  [1, 1, 0, 0, 0, 0, Quantity(value=0.417, unit=elementary charge), Quantity(value=0.417, unit=elementary charge)]\n",
      "elec  [1, 1, 0, 0, 0, 0, Quantity(value=-0.834, unit=elementary charge), Quantity(value=-0.834, unit=elementary charge)]\n",
      "elec  [1, 1, 0, 0, 0, 0, Quantity(value=0.417, unit=elementary charge), Quantity(value=0.417, unit=elementary charge)]\n",
      "elec  [1, 1, 0, 0, 0, 0, Quantity(value=0.417, unit=elementary charge), Quantity(value=0.417, unit=elementary charge)]\n",
      "elec  [1, 1, 0, 0, 0, 0, Quantity(value=-0.834, unit=elementary charge), Quantity(value=-0.834, unit=elementary charge)]\n",
      "elec  [1, 1, 0, 0, 0, 0, Quantity(value=0.417, unit=elementary charge), Quantity(value=0.417, unit=elementary charge)]\n",
      "elec  [1, 1, 0, 0, 0, 0, Quantity(value=0.417, unit=elementary charge), Quantity(value=0.417, unit=elementary charge)]\n",
      "elec  [1, 1, 0, 0, 0, 0, Quantity(value=-0.834, unit=elementary charge), Quantity(value=-0.834, unit=elementary charge)]\n",
      "elec  [1, 1, 0, 0, 0, 0, Quantity(value=0.417, unit=elementary charge), Quantity(value=0.417, unit=elementary charge)]\n",
      "elec  [1, 1, 0, 0, 0, 0, Quantity(value=0.417, unit=elementary charge), Quantity(value=0.417, unit=elementary charge)]\n",
      "elec  [1, 1, 0, 0, 0, 0, Quantity(value=-0.834, unit=elementary charge), Quantity(value=-0.834, unit=elementary charge)]\n",
      "elec  [1, 1, 0, 0, 0, 0, Quantity(value=0.417, unit=elementary charge), Quantity(value=0.417, unit=elementary charge)]\n",
      "elec  [1, 1, 0, 0, 0, 0, Quantity(value=0.417, unit=elementary charge), Quantity(value=0.417, unit=elementary charge)]\n",
      "elec  [1, 1, 0, 0, 0, 0, Quantity(value=-0.834, unit=elementary charge), Quantity(value=-0.834, unit=elementary charge)]\n",
      "elec  [1, 1, 0, 0, 0, 0, Quantity(value=0.417, unit=elementary charge), Quantity(value=0.417, unit=elementary charge)]\n",
      "elec  [1, 1, 0, 0, 0, 0, Quantity(value=0.417, unit=elementary charge), Quantity(value=0.417, unit=elementary charge)]\n",
      "elec  [1, 1, 0, 0, 0, 0, Quantity(value=-0.834, unit=elementary charge), Quantity(value=-0.834, unit=elementary charge)]\n",
      "elec  [1, 1, 0, 0, 0, 0, Quantity(value=0.417, unit=elementary charge), Quantity(value=0.417, unit=elementary charge)]\n",
      "elec  [1, 1, 0, 0, 0, 0, Quantity(value=0.417, unit=elementary charge), Quantity(value=0.417, unit=elementary charge)]\n",
      "elec  [1, 1, 0, 0, 0, 0, Quantity(value=-0.834, unit=elementary charge), Quantity(value=-0.834, unit=elementary charge)]\n",
      "elec  [1, 1, 0, 0, 0, 0, Quantity(value=0.417, unit=elementary charge), Quantity(value=0.417, unit=elementary charge)]\n",
      "elec  [1, 1, 0, 0, 0, 0, Quantity(value=0.417, unit=elementary charge), Quantity(value=0.417, unit=elementary charge)]\n",
      "elec  [1, 1, 0, 0, 0, 0, Quantity(value=-0.834, unit=elementary charge), Quantity(value=-0.834, unit=elementary charge)]\n",
      "elec  [1, 1, 0, 0, 0, 0, Quantity(value=0.417, unit=elementary charge), Quantity(value=0.417, unit=elementary charge)]\n",
      "elec  [1, 1, 0, 0, 0, 0, Quantity(value=0.417, unit=elementary charge), Quantity(value=0.417, unit=elementary charge)]\n",
      "elec  [1, 1, 0, 0, 0, 0, Quantity(value=-0.834, unit=elementary charge), Quantity(value=-0.834, unit=elementary charge)]\n",
      "elec  [1, 1, 0, 0, 0, 0, Quantity(value=0.417, unit=elementary charge), Quantity(value=0.417, unit=elementary charge)]\n",
      "elec  [1, 1, 0, 0, 0, 0, Quantity(value=0.417, unit=elementary charge), Quantity(value=0.417, unit=elementary charge)]\n",
      "elec  [1, 1, 0, 0, 0, 0, Quantity(value=-0.834, unit=elementary charge), Quantity(value=-0.834, unit=elementary charge)]\n",
      "elec  [1, 1, 0, 0, 0, 0, Quantity(value=0.417, unit=elementary charge), Quantity(value=0.417, unit=elementary charge)]\n",
      "elec  [1, 1, 0, 0, 0, 0, Quantity(value=0.417, unit=elementary charge), Quantity(value=0.417, unit=elementary charge)]\n",
      "elec  [1, 1, 0, 0, 0, 0, Quantity(value=-0.834, unit=elementary charge), Quantity(value=-0.834, unit=elementary charge)]\n",
      "elec  [1, 1, 0, 0, 0, 0, Quantity(value=0.417, unit=elementary charge), Quantity(value=0.417, unit=elementary charge)]\n",
      "elec  [1, 1, 0, 0, 0, 0, Quantity(value=0.417, unit=elementary charge), Quantity(value=0.417, unit=elementary charge)]\n",
      "elec  [1, 1, 0, 0, 0, 0, Quantity(value=-0.834, unit=elementary charge), Quantity(value=-0.834, unit=elementary charge)]\n",
      "elec  [1, 1, 0, 0, 0, 0, Quantity(value=0.417, unit=elementary charge), Quantity(value=0.417, unit=elementary charge)]\n",
      "elec  [1, 1, 0, 0, 0, 0, Quantity(value=0.417, unit=elementary charge), Quantity(value=0.417, unit=elementary charge)]\n",
      "elec  [1, 1, 0, 0, 0, 0, Quantity(value=-0.834, unit=elementary charge), Quantity(value=-0.834, unit=elementary charge)]\n",
      "elec  [1, 1, 0, 0, 0, 0, Quantity(value=0.417, unit=elementary charge), Quantity(value=0.417, unit=elementary charge)]\n",
      "elec  [1, 1, 0, 0, 0, 0, Quantity(value=0.417, unit=elementary charge), Quantity(value=0.417, unit=elementary charge)]\n",
      "elec  [1, 1, 0, 0, 0, 0, Quantity(value=-0.834, unit=elementary charge), Quantity(value=-0.834, unit=elementary charge)]\n",
      "elec  [1, 1, 0, 0, 0, 0, Quantity(value=0.417, unit=elementary charge), Quantity(value=0.417, unit=elementary charge)]\n",
      "elec  [1, 1, 0, 0, 0, 0, Quantity(value=0.417, unit=elementary charge), Quantity(value=0.417, unit=elementary charge)]\n",
      "elec  [1, 1, 0, 0, 0, 0, Quantity(value=-0.834, unit=elementary charge), Quantity(value=-0.834, unit=elementary charge)]\n",
      "elec  [1, 1, 0, 0, 0, 0, Quantity(value=0.417, unit=elementary charge), Quantity(value=0.417, unit=elementary charge)]\n",
      "elec  [1, 1, 0, 0, 0, 0, Quantity(value=0.417, unit=elementary charge), Quantity(value=0.417, unit=elementary charge)]\n",
      "elec  [1, 1, 0, 0, 0, 0, Quantity(value=-0.834, unit=elementary charge), Quantity(value=-0.834, unit=elementary charge)]\n",
      "elec  [1, 1, 0, 0, 0, 0, Quantity(value=0.417, unit=elementary charge), Quantity(value=0.417, unit=elementary charge)]\n",
      "elec  [1, 1, 0, 0, 0, 0, Quantity(value=0.417, unit=elementary charge), Quantity(value=0.417, unit=elementary charge)]\n",
      "elec  [1, 1, 0, 0, 0, 0, Quantity(value=-0.834, unit=elementary charge), Quantity(value=-0.834, unit=elementary charge)]\n",
      "elec  [1, 1, 0, 0, 0, 0, Quantity(value=0.417, unit=elementary charge), Quantity(value=0.417, unit=elementary charge)]\n",
      "elec  [1, 1, 0, 0, 0, 0, Quantity(value=0.417, unit=elementary charge), Quantity(value=0.417, unit=elementary charge)]\n",
      "elec  [1, 1, 0, 0, 0, 0, Quantity(value=-0.834, unit=elementary charge), Quantity(value=-0.834, unit=elementary charge)]\n",
      "elec  [1, 1, 0, 0, 0, 0, Quantity(value=0.417, unit=elementary charge), Quantity(value=0.417, unit=elementary charge)]\n",
      "elec  [1, 1, 0, 0, 0, 0, Quantity(value=0.417, unit=elementary charge), Quantity(value=0.417, unit=elementary charge)]\n",
      "elec  [1, 1, 0, 0, 0, 0, Quantity(value=-0.834, unit=elementary charge), Quantity(value=-0.834, unit=elementary charge)]\n",
      "elec  [1, 1, 0, 0, 0, 0, Quantity(value=0.417, unit=elementary charge), Quantity(value=0.417, unit=elementary charge)]\n",
      "elec  [1, 1, 0, 0, 0, 0, Quantity(value=0.417, unit=elementary charge), Quantity(value=0.417, unit=elementary charge)]\n",
      "elec  [1, 1, 0, 0, 0, 0, Quantity(value=-0.834, unit=elementary charge), Quantity(value=-0.834, unit=elementary charge)]\n",
      "elec  [1, 1, 0, 0, 0, 0, Quantity(value=0.417, unit=elementary charge), Quantity(value=0.417, unit=elementary charge)]\n",
      "elec  [1, 1, 0, 0, 0, 0, Quantity(value=0.417, unit=elementary charge), Quantity(value=0.417, unit=elementary charge)]\n",
      "elec  [1, 1, 0, 0, 0, 0, Quantity(value=-0.834, unit=elementary charge), Quantity(value=-0.834, unit=elementary charge)]\n",
      "elec  [1, 1, 0, 0, 0, 0, Quantity(value=0.417, unit=elementary charge), Quantity(value=0.417, unit=elementary charge)]\n",
      "elec  [1, 1, 0, 0, 0, 0, Quantity(value=0.417, unit=elementary charge), Quantity(value=0.417, unit=elementary charge)]\n",
      "elec  [1, 1, 0, 0, 0, 0, Quantity(value=-0.834, unit=elementary charge), Quantity(value=-0.834, unit=elementary charge)]\n",
      "elec  [1, 1, 0, 0, 0, 0, Quantity(value=0.417, unit=elementary charge), Quantity(value=0.417, unit=elementary charge)]\n",
      "elec  [1, 1, 0, 0, 0, 0, Quantity(value=0.417, unit=elementary charge), Quantity(value=0.417, unit=elementary charge)]\n",
      "elec  [1, 1, 0, 0, 0, 0, Quantity(value=-0.834, unit=elementary charge), Quantity(value=-0.834, unit=elementary charge)]\n",
      "elec  [1, 1, 0, 0, 0, 0, Quantity(value=0.417, unit=elementary charge), Quantity(value=0.417, unit=elementary charge)]\n",
      "elec  [1, 1, 0, 0, 0, 0, Quantity(value=0.417, unit=elementary charge), Quantity(value=0.417, unit=elementary charge)]\n",
      "elec  [1, 1, 0, 0, 0, 0, Quantity(value=-0.834, unit=elementary charge), Quantity(value=-0.834, unit=elementary charge)]\n",
      "elec  [1, 1, 0, 0, 0, 0, Quantity(value=0.417, unit=elementary charge), Quantity(value=0.417, unit=elementary charge)]\n",
      "elec  [1, 1, 0, 0, 0, 0, Quantity(value=0.417, unit=elementary charge), Quantity(value=0.417, unit=elementary charge)]\n",
      "elec  [1, 1, 0, 0, 0, 0, Quantity(value=-0.834, unit=elementary charge), Quantity(value=-0.834, unit=elementary charge)]\n",
      "elec  [1, 1, 0, 0, 0, 0, Quantity(value=0.417, unit=elementary charge), Quantity(value=0.417, unit=elementary charge)]\n",
      "elec  [1, 1, 0, 0, 0, 0, Quantity(value=0.417, unit=elementary charge), Quantity(value=0.417, unit=elementary charge)]\n",
      "elec  [1, 1, 0, 0, 0, 0, Quantity(value=-0.834, unit=elementary charge), Quantity(value=-0.834, unit=elementary charge)]\n",
      "elec  [1, 1, 0, 0, 0, 0, Quantity(value=0.417, unit=elementary charge), Quantity(value=0.417, unit=elementary charge)]\n",
      "elec  [1, 1, 0, 0, 0, 0, Quantity(value=0.417, unit=elementary charge), Quantity(value=0.417, unit=elementary charge)]\n",
      "elec  [1, 1, 0, 0, 0, 0, Quantity(value=-0.834, unit=elementary charge), Quantity(value=-0.834, unit=elementary charge)]\n",
      "elec  [1, 1, 0, 0, 0, 0, Quantity(value=0.417, unit=elementary charge), Quantity(value=0.417, unit=elementary charge)]\n",
      "elec  [1, 1, 0, 0, 0, 0, Quantity(value=0.417, unit=elementary charge), Quantity(value=0.417, unit=elementary charge)]\n",
      "elec  [1, 1, 0, 0, 0, 0, Quantity(value=-0.834, unit=elementary charge), Quantity(value=-0.834, unit=elementary charge)]\n",
      "elec  [1, 1, 0, 0, 0, 0, Quantity(value=0.417, unit=elementary charge), Quantity(value=0.417, unit=elementary charge)]\n",
      "elec  [1, 1, 0, 0, 0, 0, Quantity(value=0.417, unit=elementary charge), Quantity(value=0.417, unit=elementary charge)]\n",
      "elec  [1, 1, 0, 0, 0, 0, Quantity(value=-0.834, unit=elementary charge), Quantity(value=-0.834, unit=elementary charge)]\n",
      "elec  [1, 1, 0, 0, 0, 0, Quantity(value=0.417, unit=elementary charge), Quantity(value=0.417, unit=elementary charge)]\n",
      "elec  [1, 1, 0, 0, 0, 0, Quantity(value=0.417, unit=elementary charge), Quantity(value=0.417, unit=elementary charge)]\n",
      "elec  [1, 1, 0, 0, 0, 0, Quantity(value=-0.834, unit=elementary charge), Quantity(value=-0.834, unit=elementary charge)]\n",
      "elec  [1, 1, 0, 0, 0, 0, Quantity(value=0.417, unit=elementary charge), Quantity(value=0.417, unit=elementary charge)]\n",
      "elec  [1, 1, 0, 0, 0, 0, Quantity(value=0.417, unit=elementary charge), Quantity(value=0.417, unit=elementary charge)]\n",
      "elec  [1, 1, 0, 0, 0, 0, Quantity(value=-0.834, unit=elementary charge), Quantity(value=-0.834, unit=elementary charge)]\n",
      "elec  [1, 1, 0, 0, 0, 0, Quantity(value=0.417, unit=elementary charge), Quantity(value=0.417, unit=elementary charge)]\n",
      "elec  [1, 1, 0, 0, 0, 0, Quantity(value=0.417, unit=elementary charge), Quantity(value=0.417, unit=elementary charge)]\n",
      "elec  [1, 1, 0, 0, 0, 0, Quantity(value=-0.834, unit=elementary charge), Quantity(value=-0.834, unit=elementary charge)]\n",
      "elec  [1, 1, 0, 0, 0, 0, Quantity(value=0.417, unit=elementary charge), Quantity(value=0.417, unit=elementary charge)]\n",
      "elec  [1, 1, 0, 0, 0, 0, Quantity(value=0.417, unit=elementary charge), Quantity(value=0.417, unit=elementary charge)]\n",
      "elec  [1, 1, 0, 0, 0, 0, Quantity(value=-0.834, unit=elementary charge), Quantity(value=-0.834, unit=elementary charge)]\n",
      "elec  [1, 1, 0, 0, 0, 0, Quantity(value=0.417, unit=elementary charge), Quantity(value=0.417, unit=elementary charge)]\n",
      "elec  [1, 1, 0, 0, 0, 0, Quantity(value=0.417, unit=elementary charge), Quantity(value=0.417, unit=elementary charge)]\n",
      "elec  [1, 1, 0, 0, 0, 0, Quantity(value=-0.834, unit=elementary charge), Quantity(value=-0.834, unit=elementary charge)]\n",
      "elec  [1, 1, 0, 0, 0, 0, Quantity(value=0.417, unit=elementary charge), Quantity(value=0.417, unit=elementary charge)]\n",
      "elec  [1, 1, 0, 0, 0, 0, Quantity(value=0.417, unit=elementary charge), Quantity(value=0.417, unit=elementary charge)]\n",
      "elec  [1, 1, 0, 0, 0, 0, Quantity(value=-0.834, unit=elementary charge), Quantity(value=-0.834, unit=elementary charge)]\n",
      "elec  [1, 1, 0, 0, 0, 0, Quantity(value=0.417, unit=elementary charge), Quantity(value=0.417, unit=elementary charge)]\n",
      "elec  [1, 1, 0, 0, 0, 0, Quantity(value=0.417, unit=elementary charge), Quantity(value=0.417, unit=elementary charge)]\n"
     ]
    },
    {
     "name": "stdout",
     "output_type": "stream",
     "text": [
      "elec  [1, 1, 0, 0, 0, 0, Quantity(value=-0.834, unit=elementary charge), Quantity(value=-0.834, unit=elementary charge)]\n",
      "elec  [1, 1, 0, 0, 0, 0, Quantity(value=0.417, unit=elementary charge), Quantity(value=0.417, unit=elementary charge)]\n",
      "elec  [1, 1, 0, 0, 0, 0, Quantity(value=0.417, unit=elementary charge), Quantity(value=0.417, unit=elementary charge)]\n",
      "elec  [1, 1, 0, 0, 0, 0, Quantity(value=-0.834, unit=elementary charge), Quantity(value=-0.834, unit=elementary charge)]\n",
      "elec  [1, 1, 0, 0, 0, 0, Quantity(value=0.417, unit=elementary charge), Quantity(value=0.417, unit=elementary charge)]\n",
      "elec  [1, 1, 0, 0, 0, 0, Quantity(value=0.417, unit=elementary charge), Quantity(value=0.417, unit=elementary charge)]\n",
      "elec  [1, 1, 0, 0, 0, 0, Quantity(value=-0.834, unit=elementary charge), Quantity(value=-0.834, unit=elementary charge)]\n",
      "elec  [1, 1, 0, 0, 0, 0, Quantity(value=0.417, unit=elementary charge), Quantity(value=0.417, unit=elementary charge)]\n",
      "elec  [1, 1, 0, 0, 0, 0, Quantity(value=0.417, unit=elementary charge), Quantity(value=0.417, unit=elementary charge)]\n",
      "elec  [1, 1, 0, 0, 0, 0, Quantity(value=-0.834, unit=elementary charge), Quantity(value=-0.834, unit=elementary charge)]\n",
      "elec  [1, 1, 0, 0, 0, 0, Quantity(value=0.417, unit=elementary charge), Quantity(value=0.417, unit=elementary charge)]\n",
      "elec  [1, 1, 0, 0, 0, 0, Quantity(value=0.417, unit=elementary charge), Quantity(value=0.417, unit=elementary charge)]\n",
      "elec  [1, 1, 0, 0, 0, 0, Quantity(value=-0.834, unit=elementary charge), Quantity(value=-0.834, unit=elementary charge)]\n",
      "elec  [1, 1, 0, 0, 0, 0, Quantity(value=0.417, unit=elementary charge), Quantity(value=0.417, unit=elementary charge)]\n",
      "elec  [1, 1, 0, 0, 0, 0, Quantity(value=0.417, unit=elementary charge), Quantity(value=0.417, unit=elementary charge)]\n",
      "elec  [1, 1, 0, 0, 0, 0, Quantity(value=-0.834, unit=elementary charge), Quantity(value=-0.834, unit=elementary charge)]\n",
      "elec  [1, 1, 0, 0, 0, 0, Quantity(value=0.417, unit=elementary charge), Quantity(value=0.417, unit=elementary charge)]\n",
      "elec  [1, 1, 0, 0, 0, 0, Quantity(value=0.417, unit=elementary charge), Quantity(value=0.417, unit=elementary charge)]\n",
      "elec  [1, 1, 0, 0, 0, 0, Quantity(value=-0.834, unit=elementary charge), Quantity(value=-0.834, unit=elementary charge)]\n",
      "elec  [1, 1, 0, 0, 0, 0, Quantity(value=0.417, unit=elementary charge), Quantity(value=0.417, unit=elementary charge)]\n",
      "elec  [1, 1, 0, 0, 0, 0, Quantity(value=0.417, unit=elementary charge), Quantity(value=0.417, unit=elementary charge)]\n",
      "elec  [1, 1, 0, 0, 0, 0, Quantity(value=-0.834, unit=elementary charge), Quantity(value=-0.834, unit=elementary charge)]\n",
      "elec  [1, 1, 0, 0, 0, 0, Quantity(value=0.417, unit=elementary charge), Quantity(value=0.417, unit=elementary charge)]\n",
      "elec  [1, 1, 0, 0, 0, 0, Quantity(value=0.417, unit=elementary charge), Quantity(value=0.417, unit=elementary charge)]\n",
      "elec  [1, 1, 0, 0, 0, 0, Quantity(value=-0.834, unit=elementary charge), Quantity(value=-0.834, unit=elementary charge)]\n",
      "elec  [1, 1, 0, 0, 0, 0, Quantity(value=0.417, unit=elementary charge), Quantity(value=0.417, unit=elementary charge)]\n",
      "elec  [1, 1, 0, 0, 0, 0, Quantity(value=0.417, unit=elementary charge), Quantity(value=0.417, unit=elementary charge)]\n",
      "elec  [1, 1, 0, 0, 0, 0, Quantity(value=-0.834, unit=elementary charge), Quantity(value=-0.834, unit=elementary charge)]\n",
      "elec  [1, 1, 0, 0, 0, 0, Quantity(value=0.417, unit=elementary charge), Quantity(value=0.417, unit=elementary charge)]\n",
      "elec  [1, 1, 0, 0, 0, 0, Quantity(value=0.417, unit=elementary charge), Quantity(value=0.417, unit=elementary charge)]\n",
      "elec  [1, 1, 0, 0, 0, 0, Quantity(value=-0.834, unit=elementary charge), Quantity(value=-0.834, unit=elementary charge)]\n",
      "elec  [1, 1, 0, 0, 0, 0, Quantity(value=0.417, unit=elementary charge), Quantity(value=0.417, unit=elementary charge)]\n",
      "elec  [1, 1, 0, 0, 0, 0, Quantity(value=0.417, unit=elementary charge), Quantity(value=0.417, unit=elementary charge)]\n",
      "elec  [1, 1, 0, 0, 0, 0, Quantity(value=-0.834, unit=elementary charge), Quantity(value=-0.834, unit=elementary charge)]\n",
      "elec  [1, 1, 0, 0, 0, 0, Quantity(value=0.417, unit=elementary charge), Quantity(value=0.417, unit=elementary charge)]\n",
      "elec  [1, 1, 0, 0, 0, 0, Quantity(value=0.417, unit=elementary charge), Quantity(value=0.417, unit=elementary charge)]\n",
      "elec  [1, 1, 0, 0, 0, 0, Quantity(value=-0.834, unit=elementary charge), Quantity(value=-0.834, unit=elementary charge)]\n",
      "elec  [1, 1, 0, 0, 0, 0, Quantity(value=0.417, unit=elementary charge), Quantity(value=0.417, unit=elementary charge)]\n",
      "elec  [1, 1, 0, 0, 0, 0, Quantity(value=0.417, unit=elementary charge), Quantity(value=0.417, unit=elementary charge)]\n",
      "elec  [1, 1, 0, 0, 0, 0, Quantity(value=-0.834, unit=elementary charge), Quantity(value=-0.834, unit=elementary charge)]\n",
      "elec  [1, 1, 0, 0, 0, 0, Quantity(value=0.417, unit=elementary charge), Quantity(value=0.417, unit=elementary charge)]\n",
      "elec  [1, 1, 0, 0, 0, 0, Quantity(value=0.417, unit=elementary charge), Quantity(value=0.417, unit=elementary charge)]\n",
      "elec  [1, 1, 0, 0, 0, 0, Quantity(value=-0.834, unit=elementary charge), Quantity(value=-0.834, unit=elementary charge)]\n",
      "elec  [1, 1, 0, 0, 0, 0, Quantity(value=0.417, unit=elementary charge), Quantity(value=0.417, unit=elementary charge)]\n",
      "elec  [1, 1, 0, 0, 0, 0, Quantity(value=0.417, unit=elementary charge), Quantity(value=0.417, unit=elementary charge)]\n",
      "elec  [1, 1, 0, 0, 0, 0, Quantity(value=-0.834, unit=elementary charge), Quantity(value=-0.834, unit=elementary charge)]\n",
      "elec  [1, 1, 0, 0, 0, 0, Quantity(value=0.417, unit=elementary charge), Quantity(value=0.417, unit=elementary charge)]\n",
      "elec  [1, 1, 0, 0, 0, 0, Quantity(value=0.417, unit=elementary charge), Quantity(value=0.417, unit=elementary charge)]\n",
      "elec  [1, 1, 0, 0, 0, 0, Quantity(value=-0.834, unit=elementary charge), Quantity(value=-0.834, unit=elementary charge)]\n",
      "elec  [1, 1, 0, 0, 0, 0, Quantity(value=0.417, unit=elementary charge), Quantity(value=0.417, unit=elementary charge)]\n",
      "elec  [1, 1, 0, 0, 0, 0, Quantity(value=0.417, unit=elementary charge), Quantity(value=0.417, unit=elementary charge)]\n",
      "elec  [1, 1, 0, 0, 0, 0, Quantity(value=-0.834, unit=elementary charge), Quantity(value=-0.834, unit=elementary charge)]\n",
      "elec  [1, 1, 0, 0, 0, 0, Quantity(value=0.417, unit=elementary charge), Quantity(value=0.417, unit=elementary charge)]\n",
      "elec  [1, 1, 0, 0, 0, 0, Quantity(value=0.417, unit=elementary charge), Quantity(value=0.417, unit=elementary charge)]\n",
      "elec  [1, 1, 0, 0, 0, 0, Quantity(value=-0.834, unit=elementary charge), Quantity(value=-0.834, unit=elementary charge)]\n",
      "elec  [1, 1, 0, 0, 0, 0, Quantity(value=0.417, unit=elementary charge), Quantity(value=0.417, unit=elementary charge)]\n",
      "elec  [1, 1, 0, 0, 0, 0, Quantity(value=0.417, unit=elementary charge), Quantity(value=0.417, unit=elementary charge)]\n",
      "elec  [1, 1, 0, 0, 0, 0, Quantity(value=-0.834, unit=elementary charge), Quantity(value=-0.834, unit=elementary charge)]\n",
      "elec  [1, 1, 0, 0, 0, 0, Quantity(value=0.417, unit=elementary charge), Quantity(value=0.417, unit=elementary charge)]\n",
      "elec  [1, 1, 0, 0, 0, 0, Quantity(value=0.417, unit=elementary charge), Quantity(value=0.417, unit=elementary charge)]\n",
      "elec  [1, 1, 0, 0, 0, 0, Quantity(value=-0.834, unit=elementary charge), Quantity(value=-0.834, unit=elementary charge)]\n",
      "elec  [1, 1, 0, 0, 0, 0, Quantity(value=0.417, unit=elementary charge), Quantity(value=0.417, unit=elementary charge)]\n",
      "elec  [1, 1, 0, 0, 0, 0, Quantity(value=0.417, unit=elementary charge), Quantity(value=0.417, unit=elementary charge)]\n",
      "elec  [1, 1, 0, 0, 0, 0, Quantity(value=-0.834, unit=elementary charge), Quantity(value=-0.834, unit=elementary charge)]\n",
      "elec  [1, 1, 0, 0, 0, 0, Quantity(value=0.417, unit=elementary charge), Quantity(value=0.417, unit=elementary charge)]\n",
      "elec  [1, 1, 0, 0, 0, 0, Quantity(value=0.417, unit=elementary charge), Quantity(value=0.417, unit=elementary charge)]\n",
      "elec  [1, 1, 0, 0, 0, 0, Quantity(value=-0.834, unit=elementary charge), Quantity(value=-0.834, unit=elementary charge)]\n",
      "elec  [1, 1, 0, 0, 0, 0, Quantity(value=0.417, unit=elementary charge), Quantity(value=0.417, unit=elementary charge)]\n",
      "elec  [1, 1, 0, 0, 0, 0, Quantity(value=0.417, unit=elementary charge), Quantity(value=0.417, unit=elementary charge)]\n",
      "elec  [1, 1, 0, 0, 0, 0, Quantity(value=-0.834, unit=elementary charge), Quantity(value=-0.834, unit=elementary charge)]\n",
      "elec  [1, 1, 0, 0, 0, 0, Quantity(value=0.417, unit=elementary charge), Quantity(value=0.417, unit=elementary charge)]\n",
      "elec  [1, 1, 0, 0, 0, 0, Quantity(value=0.417, unit=elementary charge), Quantity(value=0.417, unit=elementary charge)]\n",
      "elec  [1, 1, 0, 0, 0, 0, Quantity(value=-0.834, unit=elementary charge), Quantity(value=-0.834, unit=elementary charge)]\n",
      "elec  [1, 1, 0, 0, 0, 0, Quantity(value=0.417, unit=elementary charge), Quantity(value=0.417, unit=elementary charge)]\n",
      "elec  [1, 1, 0, 0, 0, 0, Quantity(value=0.417, unit=elementary charge), Quantity(value=0.417, unit=elementary charge)]\n",
      "elec  [1, 1, 0, 0, 0, 0, Quantity(value=-0.834, unit=elementary charge), Quantity(value=-0.834, unit=elementary charge)]\n",
      "elec  [1, 1, 0, 0, 0, 0, Quantity(value=0.417, unit=elementary charge), Quantity(value=0.417, unit=elementary charge)]\n",
      "elec  [1, 1, 0, 0, 0, 0, Quantity(value=0.417, unit=elementary charge), Quantity(value=0.417, unit=elementary charge)]\n",
      "elec  [1, 1, 0, 0, 0, 0, Quantity(value=-0.834, unit=elementary charge), Quantity(value=-0.834, unit=elementary charge)]\n",
      "elec  [1, 1, 0, 0, 0, 0, Quantity(value=0.417, unit=elementary charge), Quantity(value=0.417, unit=elementary charge)]\n",
      "elec  [1, 1, 0, 0, 0, 0, Quantity(value=0.417, unit=elementary charge), Quantity(value=0.417, unit=elementary charge)]\n",
      "elec  [1, 1, 0, 0, 0, 0, Quantity(value=-0.834, unit=elementary charge), Quantity(value=-0.834, unit=elementary charge)]\n",
      "elec  [1, 1, 0, 0, 0, 0, Quantity(value=0.417, unit=elementary charge), Quantity(value=0.417, unit=elementary charge)]\n",
      "elec  [1, 1, 0, 0, 0, 0, Quantity(value=0.417, unit=elementary charge), Quantity(value=0.417, unit=elementary charge)]\n",
      "elec  [1, 1, 0, 0, 0, 0, Quantity(value=-0.834, unit=elementary charge), Quantity(value=-0.834, unit=elementary charge)]\n",
      "elec  [1, 1, 0, 0, 0, 0, Quantity(value=0.417, unit=elementary charge), Quantity(value=0.417, unit=elementary charge)]\n",
      "elec  [1, 1, 0, 0, 0, 0, Quantity(value=0.417, unit=elementary charge), Quantity(value=0.417, unit=elementary charge)]\n",
      "elec  [1, 1, 0, 0, 0, 0, Quantity(value=-0.834, unit=elementary charge), Quantity(value=-0.834, unit=elementary charge)]\n",
      "elec  [1, 1, 0, 0, 0, 0, Quantity(value=0.417, unit=elementary charge), Quantity(value=0.417, unit=elementary charge)]\n",
      "elec  [1, 1, 0, 0, 0, 0, Quantity(value=0.417, unit=elementary charge), Quantity(value=0.417, unit=elementary charge)]\n",
      "elec  [1, 1, 0, 0, 0, 0, Quantity(value=-0.834, unit=elementary charge), Quantity(value=-0.834, unit=elementary charge)]\n",
      "elec  [1, 1, 0, 0, 0, 0, Quantity(value=0.417, unit=elementary charge), Quantity(value=0.417, unit=elementary charge)]\n",
      "elec  [1, 1, 0, 0, 0, 0, Quantity(value=0.417, unit=elementary charge), Quantity(value=0.417, unit=elementary charge)]\n",
      "elec  [1, 1, 0, 0, 0, 0, Quantity(value=-0.834, unit=elementary charge), Quantity(value=-0.834, unit=elementary charge)]\n",
      "elec  [1, 1, 0, 0, 0, 0, Quantity(value=0.417, unit=elementary charge), Quantity(value=0.417, unit=elementary charge)]\n",
      "elec  [1, 1, 0, 0, 0, 0, Quantity(value=0.417, unit=elementary charge), Quantity(value=0.417, unit=elementary charge)]\n",
      "elec  [1, 1, 0, 0, 0, 0, Quantity(value=-0.834, unit=elementary charge), Quantity(value=-0.834, unit=elementary charge)]\n",
      "elec  [1, 1, 0, 0, 0, 0, Quantity(value=0.417, unit=elementary charge), Quantity(value=0.417, unit=elementary charge)]\n",
      "elec  [1, 1, 0, 0, 0, 0, Quantity(value=0.417, unit=elementary charge), Quantity(value=0.417, unit=elementary charge)]\n",
      "elec  [1, 1, 0, 0, 0, 0, Quantity(value=-0.834, unit=elementary charge), Quantity(value=-0.834, unit=elementary charge)]\n",
      "elec  [1, 1, 0, 0, 0, 0, Quantity(value=0.417, unit=elementary charge), Quantity(value=0.417, unit=elementary charge)]\n",
      "elec  [1, 1, 0, 0, 0, 0, Quantity(value=0.417, unit=elementary charge), Quantity(value=0.417, unit=elementary charge)]\n",
      "elec  [1, 1, 0, 0, 0, 0, Quantity(value=-0.834, unit=elementary charge), Quantity(value=-0.834, unit=elementary charge)]\n",
      "elec  [1, 1, 0, 0, 0, 0, Quantity(value=0.417, unit=elementary charge), Quantity(value=0.417, unit=elementary charge)]\n",
      "elec  [1, 1, 0, 0, 0, 0, Quantity(value=0.417, unit=elementary charge), Quantity(value=0.417, unit=elementary charge)]\n",
      "elec  [1, 1, 0, 0, 0, 0, Quantity(value=-0.834, unit=elementary charge), Quantity(value=-0.834, unit=elementary charge)]\n",
      "elec  [1, 1, 0, 0, 0, 0, Quantity(value=0.417, unit=elementary charge), Quantity(value=0.417, unit=elementary charge)]\n",
      "elec  [1, 1, 0, 0, 0, 0, Quantity(value=0.417, unit=elementary charge), Quantity(value=0.417, unit=elementary charge)]\n",
      "elec  [1, 1, 0, 0, 0, 0, Quantity(value=-0.834, unit=elementary charge), Quantity(value=-0.834, unit=elementary charge)]\n",
      "elec  [1, 1, 0, 0, 0, 0, Quantity(value=0.417, unit=elementary charge), Quantity(value=0.417, unit=elementary charge)]\n",
      "elec  [1, 1, 0, 0, 0, 0, Quantity(value=0.417, unit=elementary charge), Quantity(value=0.417, unit=elementary charge)]\n",
      "elec  [1, 1, 0, 0, 0, 0, Quantity(value=-0.834, unit=elementary charge), Quantity(value=-0.834, unit=elementary charge)]\n",
      "elec  [1, 1, 0, 0, 0, 0, Quantity(value=0.417, unit=elementary charge), Quantity(value=0.417, unit=elementary charge)]\n",
      "elec  [1, 1, 0, 0, 0, 0, Quantity(value=0.417, unit=elementary charge), Quantity(value=0.417, unit=elementary charge)]\n",
      "elec  [1, 1, 0, 0, 0, 0, Quantity(value=-0.834, unit=elementary charge), Quantity(value=-0.834, unit=elementary charge)]\n",
      "elec  [1, 1, 0, 0, 0, 0, Quantity(value=0.417, unit=elementary charge), Quantity(value=0.417, unit=elementary charge)]\n",
      "elec  [1, 1, 0, 0, 0, 0, Quantity(value=0.417, unit=elementary charge), Quantity(value=0.417, unit=elementary charge)]\n",
      "elec  [1, 1, 0, 0, 0, 0, Quantity(value=-0.834, unit=elementary charge), Quantity(value=-0.834, unit=elementary charge)]\n",
      "elec  [1, 1, 0, 0, 0, 0, Quantity(value=0.417, unit=elementary charge), Quantity(value=0.417, unit=elementary charge)]\n",
      "elec  [1, 1, 0, 0, 0, 0, Quantity(value=0.417, unit=elementary charge), Quantity(value=0.417, unit=elementary charge)]\n",
      "elec  [1, 1, 0, 0, 0, 0, Quantity(value=-0.834, unit=elementary charge), Quantity(value=-0.834, unit=elementary charge)]\n",
      "elec  [1, 1, 0, 0, 0, 0, Quantity(value=0.417, unit=elementary charge), Quantity(value=0.417, unit=elementary charge)]\n",
      "elec  [1, 1, 0, 0, 0, 0, Quantity(value=0.417, unit=elementary charge), Quantity(value=0.417, unit=elementary charge)]\n",
      "elec  [1, 1, 0, 0, 0, 0, Quantity(value=-0.834, unit=elementary charge), Quantity(value=-0.834, unit=elementary charge)]\n",
      "elec  [1, 1, 0, 0, 0, 0, Quantity(value=0.417, unit=elementary charge), Quantity(value=0.417, unit=elementary charge)]\n",
      "elec  [1, 1, 0, 0, 0, 0, Quantity(value=0.417, unit=elementary charge), Quantity(value=0.417, unit=elementary charge)]\n",
      "elec  [1, 1, 0, 0, 0, 0, Quantity(value=-0.834, unit=elementary charge), Quantity(value=-0.834, unit=elementary charge)]\n",
      "elec  [1, 1, 0, 0, 0, 0, Quantity(value=0.417, unit=elementary charge), Quantity(value=0.417, unit=elementary charge)]\n",
      "elec  [1, 1, 0, 0, 0, 0, Quantity(value=0.417, unit=elementary charge), Quantity(value=0.417, unit=elementary charge)]\n",
      "elec  [1, 1, 0, 0, 0, 0, Quantity(value=-0.834, unit=elementary charge), Quantity(value=-0.834, unit=elementary charge)]\n",
      "elec  [1, 1, 0, 0, 0, 0, Quantity(value=0.417, unit=elementary charge), Quantity(value=0.417, unit=elementary charge)]\n",
      "elec  [1, 1, 0, 0, 0, 0, Quantity(value=0.417, unit=elementary charge), Quantity(value=0.417, unit=elementary charge)]\n",
      "elec  [1, 1, 0, 0, 0, 0, Quantity(value=-0.834, unit=elementary charge), Quantity(value=-0.834, unit=elementary charge)]\n",
      "elec  [1, 1, 0, 0, 0, 0, Quantity(value=0.417, unit=elementary charge), Quantity(value=0.417, unit=elementary charge)]\n",
      "elec  [1, 1, 0, 0, 0, 0, Quantity(value=0.417, unit=elementary charge), Quantity(value=0.417, unit=elementary charge)]\n",
      "elec  [1, 1, 0, 0, 0, 0, Quantity(value=-0.834, unit=elementary charge), Quantity(value=-0.834, unit=elementary charge)]\n",
      "elec  [1, 1, 0, 0, 0, 0, Quantity(value=0.417, unit=elementary charge), Quantity(value=0.417, unit=elementary charge)]\n",
      "elec  [1, 1, 0, 0, 0, 0, Quantity(value=0.417, unit=elementary charge), Quantity(value=0.417, unit=elementary charge)]\n",
      "elec  [1, 1, 0, 0, 0, 0, Quantity(value=-0.834, unit=elementary charge), Quantity(value=-0.834, unit=elementary charge)]\n",
      "elec  [1, 1, 0, 0, 0, 0, Quantity(value=0.417, unit=elementary charge), Quantity(value=0.417, unit=elementary charge)]\n",
      "elec  [1, 1, 0, 0, 0, 0, Quantity(value=0.417, unit=elementary charge), Quantity(value=0.417, unit=elementary charge)]\n",
      "elec  [1, 1, 0, 0, 0, 0, Quantity(value=-0.834, unit=elementary charge), Quantity(value=-0.834, unit=elementary charge)]\n",
      "elec  [1, 1, 0, 0, 0, 0, Quantity(value=0.417, unit=elementary charge), Quantity(value=0.417, unit=elementary charge)]\n",
      "elec  [1, 1, 0, 0, 0, 0, Quantity(value=0.417, unit=elementary charge), Quantity(value=0.417, unit=elementary charge)]\n",
      "elec  [1, 1, 0, 0, 0, 0, Quantity(value=-0.834, unit=elementary charge), Quantity(value=-0.834, unit=elementary charge)]\n",
      "elec  [1, 1, 0, 0, 0, 0, Quantity(value=0.417, unit=elementary charge), Quantity(value=0.417, unit=elementary charge)]\n",
      "elec  [1, 1, 0, 0, 0, 0, Quantity(value=0.417, unit=elementary charge), Quantity(value=0.417, unit=elementary charge)]\n",
      "elec  [1, 1, 0, 0, 0, 0, Quantity(value=-0.834, unit=elementary charge), Quantity(value=-0.834, unit=elementary charge)]\n",
      "elec  [1, 1, 0, 0, 0, 0, Quantity(value=0.417, unit=elementary charge), Quantity(value=0.417, unit=elementary charge)]\n",
      "elec  [1, 1, 0, 0, 0, 0, Quantity(value=0.417, unit=elementary charge), Quantity(value=0.417, unit=elementary charge)]\n",
      "elec  [1, 1, 0, 0, 0, 0, Quantity(value=-0.834, unit=elementary charge), Quantity(value=-0.834, unit=elementary charge)]\n",
      "elec  [1, 1, 0, 0, 0, 0, Quantity(value=0.417, unit=elementary charge), Quantity(value=0.417, unit=elementary charge)]\n",
      "elec  [1, 1, 0, 0, 0, 0, Quantity(value=0.417, unit=elementary charge), Quantity(value=0.417, unit=elementary charge)]\n",
      "elec  [1, 1, 0, 0, 0, 0, Quantity(value=-0.834, unit=elementary charge), Quantity(value=-0.834, unit=elementary charge)]\n",
      "elec  [1, 1, 0, 0, 0, 0, Quantity(value=0.417, unit=elementary charge), Quantity(value=0.417, unit=elementary charge)]\n",
      "elec  [1, 1, 0, 0, 0, 0, Quantity(value=0.417, unit=elementary charge), Quantity(value=0.417, unit=elementary charge)]\n",
      "elec  [1, 1, 0, 0, 0, 0, Quantity(value=-0.834, unit=elementary charge), Quantity(value=-0.834, unit=elementary charge)]\n",
      "elec  [1, 1, 0, 0, 0, 0, Quantity(value=0.417, unit=elementary charge), Quantity(value=0.417, unit=elementary charge)]\n",
      "elec  [1, 1, 0, 0, 0, 0, Quantity(value=0.417, unit=elementary charge), Quantity(value=0.417, unit=elementary charge)]\n",
      "elec  [1, 1, 0, 0, 0, 0, Quantity(value=-0.834, unit=elementary charge), Quantity(value=-0.834, unit=elementary charge)]\n",
      "elec  [1, 1, 0, 0, 0, 0, Quantity(value=0.417, unit=elementary charge), Quantity(value=0.417, unit=elementary charge)]\n",
      "elec  [1, 1, 0, 0, 0, 0, Quantity(value=0.417, unit=elementary charge), Quantity(value=0.417, unit=elementary charge)]\n",
      "elec  [1, 1, 0, 0, 0, 0, Quantity(value=-0.834, unit=elementary charge), Quantity(value=-0.834, unit=elementary charge)]\n",
      "elec  [1, 1, 0, 0, 0, 0, Quantity(value=0.417, unit=elementary charge), Quantity(value=0.417, unit=elementary charge)]\n",
      "elec  [1, 1, 0, 0, 0, 0, Quantity(value=0.417, unit=elementary charge), Quantity(value=0.417, unit=elementary charge)]\n",
      "elec  [1, 1, 0, 0, 0, 0, Quantity(value=-0.834, unit=elementary charge), Quantity(value=-0.834, unit=elementary charge)]\n",
      "elec  [1, 1, 0, 0, 0, 0, Quantity(value=0.417, unit=elementary charge), Quantity(value=0.417, unit=elementary charge)]\n",
      "elec  [1, 1, 0, 0, 0, 0, Quantity(value=0.417, unit=elementary charge), Quantity(value=0.417, unit=elementary charge)]\n",
      "elec  [1, 1, 0, 0, 0, 0, Quantity(value=-0.834, unit=elementary charge), Quantity(value=-0.834, unit=elementary charge)]\n",
      "elec  [1, 1, 0, 0, 0, 0, Quantity(value=0.417, unit=elementary charge), Quantity(value=0.417, unit=elementary charge)]\n",
      "elec  [1, 1, 0, 0, 0, 0, Quantity(value=0.417, unit=elementary charge), Quantity(value=0.417, unit=elementary charge)]\n",
      "elec  [1, 1, 0, 0, 0, 0, Quantity(value=-0.834, unit=elementary charge), Quantity(value=-0.834, unit=elementary charge)]\n",
      "elec  [1, 1, 0, 0, 0, 0, Quantity(value=0.417, unit=elementary charge), Quantity(value=0.417, unit=elementary charge)]\n",
      "elec  [1, 1, 0, 0, 0, 0, Quantity(value=0.417, unit=elementary charge), Quantity(value=0.417, unit=elementary charge)]\n",
      "elec  [1, 1, 0, 0, 0, 0, Quantity(value=-0.834, unit=elementary charge), Quantity(value=-0.834, unit=elementary charge)]\n",
      "elec  [1, 1, 0, 0, 0, 0, Quantity(value=0.417, unit=elementary charge), Quantity(value=0.417, unit=elementary charge)]\n",
      "elec  [1, 1, 0, 0, 0, 0, Quantity(value=0.417, unit=elementary charge), Quantity(value=0.417, unit=elementary charge)]\n",
      "elec  [1, 1, 0, 0, 0, 0, Quantity(value=-0.834, unit=elementary charge), Quantity(value=-0.834, unit=elementary charge)]\n",
      "elec  [1, 1, 0, 0, 0, 0, Quantity(value=0.417, unit=elementary charge), Quantity(value=0.417, unit=elementary charge)]\n",
      "elec  [1, 1, 0, 0, 0, 0, Quantity(value=0.417, unit=elementary charge), Quantity(value=0.417, unit=elementary charge)]\n",
      "elec  [1, 1, 0, 0, 0, 0, Quantity(value=-0.834, unit=elementary charge), Quantity(value=-0.834, unit=elementary charge)]\n",
      "elec  [1, 1, 0, 0, 0, 0, Quantity(value=0.417, unit=elementary charge), Quantity(value=0.417, unit=elementary charge)]\n",
      "elec  [1, 1, 0, 0, 0, 0, Quantity(value=0.417, unit=elementary charge), Quantity(value=0.417, unit=elementary charge)]\n",
      "elec  [1, 1, 0, 0, 0, 0, Quantity(value=-0.834, unit=elementary charge), Quantity(value=-0.834, unit=elementary charge)]\n",
      "elec  [1, 1, 0, 0, 0, 0, Quantity(value=0.417, unit=elementary charge), Quantity(value=0.417, unit=elementary charge)]\n",
      "elec  [1, 1, 0, 0, 0, 0, Quantity(value=0.417, unit=elementary charge), Quantity(value=0.417, unit=elementary charge)]\n",
      "elec  [1, 1, 0, 0, 0, 0, Quantity(value=-0.834, unit=elementary charge), Quantity(value=-0.834, unit=elementary charge)]\n",
      "elec  [1, 1, 0, 0, 0, 0, Quantity(value=0.417, unit=elementary charge), Quantity(value=0.417, unit=elementary charge)]\n",
      "elec  [1, 1, 0, 0, 0, 0, Quantity(value=0.417, unit=elementary charge), Quantity(value=0.417, unit=elementary charge)]\n",
      "elec  [1, 1, 0, 0, 0, 0, Quantity(value=-0.834, unit=elementary charge), Quantity(value=-0.834, unit=elementary charge)]\n",
      "elec  [1, 1, 0, 0, 0, 0, Quantity(value=0.417, unit=elementary charge), Quantity(value=0.417, unit=elementary charge)]\n",
      "elec  [1, 1, 0, 0, 0, 0, Quantity(value=0.417, unit=elementary charge), Quantity(value=0.417, unit=elementary charge)]\n",
      "elec  [1, 1, 0, 0, 0, 0, Quantity(value=-0.834, unit=elementary charge), Quantity(value=-0.834, unit=elementary charge)]\n",
      "elec  [1, 1, 0, 0, 0, 0, Quantity(value=0.417, unit=elementary charge), Quantity(value=0.417, unit=elementary charge)]\n",
      "elec  [1, 1, 0, 0, 0, 0, Quantity(value=0.417, unit=elementary charge), Quantity(value=0.417, unit=elementary charge)]\n",
      "elec  [1, 1, 0, 0, 0, 0, Quantity(value=-0.834, unit=elementary charge), Quantity(value=-0.834, unit=elementary charge)]\n",
      "elec  [1, 1, 0, 0, 0, 0, Quantity(value=0.417, unit=elementary charge), Quantity(value=0.417, unit=elementary charge)]\n",
      "elec  [1, 1, 0, 0, 0, 0, Quantity(value=0.417, unit=elementary charge), Quantity(value=0.417, unit=elementary charge)]\n",
      "elec  [1, 1, 0, 0, 0, 0, Quantity(value=-0.834, unit=elementary charge), Quantity(value=-0.834, unit=elementary charge)]\n",
      "elec  [1, 1, 0, 0, 0, 0, Quantity(value=0.417, unit=elementary charge), Quantity(value=0.417, unit=elementary charge)]\n",
      "elec  [1, 1, 0, 0, 0, 0, Quantity(value=0.417, unit=elementary charge), Quantity(value=0.417, unit=elementary charge)]\n",
      "elec  [1, 1, 0, 0, 0, 0, Quantity(value=-0.834, unit=elementary charge), Quantity(value=-0.834, unit=elementary charge)]\n",
      "elec  [1, 1, 0, 0, 0, 0, Quantity(value=0.417, unit=elementary charge), Quantity(value=0.417, unit=elementary charge)]\n",
      "elec  [1, 1, 0, 0, 0, 0, Quantity(value=0.417, unit=elementary charge), Quantity(value=0.417, unit=elementary charge)]\n",
      "elec  [1, 1, 0, 0, 0, 0, Quantity(value=-0.834, unit=elementary charge), Quantity(value=-0.834, unit=elementary charge)]\n",
      "elec  [1, 1, 0, 0, 0, 0, Quantity(value=0.417, unit=elementary charge), Quantity(value=0.417, unit=elementary charge)]\n",
      "elec  [1, 1, 0, 0, 0, 0, Quantity(value=0.417, unit=elementary charge), Quantity(value=0.417, unit=elementary charge)]\n",
      "elec  [1, 1, 0, 0, 0, 0, Quantity(value=-0.834, unit=elementary charge), Quantity(value=-0.834, unit=elementary charge)]\n",
      "elec  [1, 1, 0, 0, 0, 0, Quantity(value=0.417, unit=elementary charge), Quantity(value=0.417, unit=elementary charge)]\n",
      "elec  [1, 1, 0, 0, 0, 0, Quantity(value=0.417, unit=elementary charge), Quantity(value=0.417, unit=elementary charge)]\n",
      "elec  [1, 1, 0, 0, 0, 0, Quantity(value=-0.834, unit=elementary charge), Quantity(value=-0.834, unit=elementary charge)]\n",
      "elec  [1, 1, 0, 0, 0, 0, Quantity(value=0.417, unit=elementary charge), Quantity(value=0.417, unit=elementary charge)]\n",
      "elec  [1, 1, 0, 0, 0, 0, Quantity(value=0.417, unit=elementary charge), Quantity(value=0.417, unit=elementary charge)]\n",
      "elec  [1, 1, 0, 0, 0, 0, Quantity(value=-0.834, unit=elementary charge), Quantity(value=-0.834, unit=elementary charge)]\n",
      "elec  [1, 1, 0, 0, 0, 0, Quantity(value=0.417, unit=elementary charge), Quantity(value=0.417, unit=elementary charge)]\n",
      "elec  [1, 1, 0, 0, 0, 0, Quantity(value=0.417, unit=elementary charge), Quantity(value=0.417, unit=elementary charge)]\n",
      "elec  [1, 1, 0, 0, 0, 0, Quantity(value=-0.834, unit=elementary charge), Quantity(value=-0.834, unit=elementary charge)]\n",
      "elec  [1, 1, 0, 0, 0, 0, Quantity(value=0.417, unit=elementary charge), Quantity(value=0.417, unit=elementary charge)]\n",
      "elec  [1, 1, 0, 0, 0, 0, Quantity(value=0.417, unit=elementary charge), Quantity(value=0.417, unit=elementary charge)]\n",
      "elec  [1, 1, 0, 0, 0, 0, Quantity(value=-0.834, unit=elementary charge), Quantity(value=-0.834, unit=elementary charge)]\n",
      "elec  [1, 1, 0, 0, 0, 0, Quantity(value=0.417, unit=elementary charge), Quantity(value=0.417, unit=elementary charge)]\n",
      "elec  [1, 1, 0, 0, 0, 0, Quantity(value=0.417, unit=elementary charge), Quantity(value=0.417, unit=elementary charge)]\n",
      "elec  [1, 1, 0, 0, 0, 0, Quantity(value=-0.834, unit=elementary charge), Quantity(value=-0.834, unit=elementary charge)]\n",
      "elec  [1, 1, 0, 0, 0, 0, Quantity(value=0.417, unit=elementary charge), Quantity(value=0.417, unit=elementary charge)]\n",
      "elec  [1, 1, 0, 0, 0, 0, Quantity(value=0.417, unit=elementary charge), Quantity(value=0.417, unit=elementary charge)]\n",
      "elec  [1, 1, 0, 0, 0, 0, Quantity(value=-0.834, unit=elementary charge), Quantity(value=-0.834, unit=elementary charge)]\n",
      "elec  [1, 1, 0, 0, 0, 0, Quantity(value=0.417, unit=elementary charge), Quantity(value=0.417, unit=elementary charge)]\n",
      "elec  [1, 1, 0, 0, 0, 0, Quantity(value=0.417, unit=elementary charge), Quantity(value=0.417, unit=elementary charge)]\n",
      "elec  [1, 1, 0, 0, 0, 0, Quantity(value=-0.834, unit=elementary charge), Quantity(value=-0.834, unit=elementary charge)]\n",
      "elec  [1, 1, 0, 0, 0, 0, Quantity(value=0.417, unit=elementary charge), Quantity(value=0.417, unit=elementary charge)]\n",
      "elec  [1, 1, 0, 0, 0, 0, Quantity(value=0.417, unit=elementary charge), Quantity(value=0.417, unit=elementary charge)]\n",
      "elec  [1, 1, 0, 0, 0, 0, Quantity(value=-0.834, unit=elementary charge), Quantity(value=-0.834, unit=elementary charge)]\n",
      "elec  [1, 1, 0, 0, 0, 0, Quantity(value=0.417, unit=elementary charge), Quantity(value=0.417, unit=elementary charge)]\n",
      "elec  [1, 1, 0, 0, 0, 0, Quantity(value=0.417, unit=elementary charge), Quantity(value=0.417, unit=elementary charge)]\n",
      "elec  [1, 1, 0, 0, 0, 0, Quantity(value=-0.834, unit=elementary charge), Quantity(value=-0.834, unit=elementary charge)]\n",
      "elec  [1, 1, 0, 0, 0, 0, Quantity(value=0.417, unit=elementary charge), Quantity(value=0.417, unit=elementary charge)]\n",
      "elec  [1, 1, 0, 0, 0, 0, Quantity(value=0.417, unit=elementary charge), Quantity(value=0.417, unit=elementary charge)]\n",
      "elec  [1, 1, 0, 0, 0, 0, Quantity(value=-0.834, unit=elementary charge), Quantity(value=-0.834, unit=elementary charge)]\n",
      "elec  [1, 1, 0, 0, 0, 0, Quantity(value=0.417, unit=elementary charge), Quantity(value=0.417, unit=elementary charge)]\n",
      "elec  [1, 1, 0, 0, 0, 0, Quantity(value=0.417, unit=elementary charge), Quantity(value=0.417, unit=elementary charge)]\n",
      "elec  [1, 1, 0, 0, 0, 0, Quantity(value=-0.834, unit=elementary charge), Quantity(value=-0.834, unit=elementary charge)]\n",
      "elec  [1, 1, 0, 0, 0, 0, Quantity(value=0.417, unit=elementary charge), Quantity(value=0.417, unit=elementary charge)]\n",
      "elec  [1, 1, 0, 0, 0, 0, Quantity(value=0.417, unit=elementary charge), Quantity(value=0.417, unit=elementary charge)]\n",
      "elec  [1, 1, 0, 0, 0, 0, Quantity(value=-0.834, unit=elementary charge), Quantity(value=-0.834, unit=elementary charge)]\n",
      "elec  [1, 1, 0, 0, 0, 0, Quantity(value=0.417, unit=elementary charge), Quantity(value=0.417, unit=elementary charge)]\n",
      "elec  [1, 1, 0, 0, 0, 0, Quantity(value=0.417, unit=elementary charge), Quantity(value=0.417, unit=elementary charge)]\n",
      "elec  [1, 1, 0, 0, 0, 0, Quantity(value=-0.834, unit=elementary charge), Quantity(value=-0.834, unit=elementary charge)]\n",
      "elec  [1, 1, 0, 0, 0, 0, Quantity(value=0.417, unit=elementary charge), Quantity(value=0.417, unit=elementary charge)]\n",
      "elec  [1, 1, 0, 0, 0, 0, Quantity(value=0.417, unit=elementary charge), Quantity(value=0.417, unit=elementary charge)]\n",
      "elec  [1, 1, 0, 0, 0, 0, Quantity(value=-0.834, unit=elementary charge), Quantity(value=-0.834, unit=elementary charge)]\n",
      "elec  [1, 1, 0, 0, 0, 0, Quantity(value=0.417, unit=elementary charge), Quantity(value=0.417, unit=elementary charge)]\n",
      "elec  [1, 1, 0, 0, 0, 0, Quantity(value=0.417, unit=elementary charge), Quantity(value=0.417, unit=elementary charge)]\n",
      "elec  [1, 1, 0, 0, 0, 0, Quantity(value=-0.834, unit=elementary charge), Quantity(value=-0.834, unit=elementary charge)]\n",
      "elec  [1, 1, 0, 0, 0, 0, Quantity(value=0.417, unit=elementary charge), Quantity(value=0.417, unit=elementary charge)]\n",
      "elec  [1, 1, 0, 0, 0, 0, Quantity(value=0.417, unit=elementary charge), Quantity(value=0.417, unit=elementary charge)]\n",
      "elec  [1, 1, 0, 0, 0, 0, Quantity(value=-0.834, unit=elementary charge), Quantity(value=-0.834, unit=elementary charge)]\n",
      "elec  [1, 1, 0, 0, 0, 0, Quantity(value=0.417, unit=elementary charge), Quantity(value=0.417, unit=elementary charge)]\n",
      "elec  [1, 1, 0, 0, 0, 0, Quantity(value=0.417, unit=elementary charge), Quantity(value=0.417, unit=elementary charge)]\n",
      "elec  [1, 1, 0, 0, 0, 0, Quantity(value=-0.834, unit=elementary charge), Quantity(value=-0.834, unit=elementary charge)]\n",
      "elec  [1, 1, 0, 0, 0, 0, Quantity(value=0.417, unit=elementary charge), Quantity(value=0.417, unit=elementary charge)]\n",
      "elec  [1, 1, 0, 0, 0, 0, Quantity(value=0.417, unit=elementary charge), Quantity(value=0.417, unit=elementary charge)]\n",
      "elec  [1, 1, 0, 0, 0, 0, Quantity(value=-0.834, unit=elementary charge), Quantity(value=-0.834, unit=elementary charge)]\n",
      "elec  [1, 1, 0, 0, 0, 0, Quantity(value=0.417, unit=elementary charge), Quantity(value=0.417, unit=elementary charge)]\n",
      "elec  [1, 1, 0, 0, 0, 0, Quantity(value=0.417, unit=elementary charge), Quantity(value=0.417, unit=elementary charge)]\n",
      "elec  [1, 1, 0, 0, 0, 0, Quantity(value=-0.834, unit=elementary charge), Quantity(value=-0.834, unit=elementary charge)]\n",
      "elec  [1, 1, 0, 0, 0, 0, Quantity(value=0.417, unit=elementary charge), Quantity(value=0.417, unit=elementary charge)]\n",
      "elec  [1, 1, 0, 0, 0, 0, Quantity(value=0.417, unit=elementary charge), Quantity(value=0.417, unit=elementary charge)]\n",
      "elec  [1, 1, 0, 0, 0, 0, Quantity(value=-0.834, unit=elementary charge), Quantity(value=-0.834, unit=elementary charge)]\n",
      "elec  [1, 1, 0, 0, 0, 0, Quantity(value=0.417, unit=elementary charge), Quantity(value=0.417, unit=elementary charge)]\n",
      "elec  [1, 1, 0, 0, 0, 0, Quantity(value=0.417, unit=elementary charge), Quantity(value=0.417, unit=elementary charge)]\n",
      "elec  [1, 1, 0, 0, 0, 0, Quantity(value=-0.834, unit=elementary charge), Quantity(value=-0.834, unit=elementary charge)]\n",
      "elec  [1, 1, 0, 0, 0, 0, Quantity(value=0.417, unit=elementary charge), Quantity(value=0.417, unit=elementary charge)]\n",
      "elec  [1, 1, 0, 0, 0, 0, Quantity(value=0.417, unit=elementary charge), Quantity(value=0.417, unit=elementary charge)]\n",
      "elec  [1, 1, 0, 0, 0, 0, Quantity(value=-0.834, unit=elementary charge), Quantity(value=-0.834, unit=elementary charge)]\n",
      "elec  [1, 1, 0, 0, 0, 0, Quantity(value=0.417, unit=elementary charge), Quantity(value=0.417, unit=elementary charge)]\n",
      "elec  [1, 1, 0, 0, 0, 0, Quantity(value=0.417, unit=elementary charge), Quantity(value=0.417, unit=elementary charge)]\n",
      "elec  [1, 1, 0, 0, 0, 0, Quantity(value=-0.834, unit=elementary charge), Quantity(value=-0.834, unit=elementary charge)]\n",
      "elec  [1, 1, 0, 0, 0, 0, Quantity(value=0.417, unit=elementary charge), Quantity(value=0.417, unit=elementary charge)]\n",
      "elec  [1, 1, 0, 0, 0, 0, Quantity(value=0.417, unit=elementary charge), Quantity(value=0.417, unit=elementary charge)]\n",
      "elec  [1, 1, 0, 0, 0, 0, Quantity(value=-0.834, unit=elementary charge), Quantity(value=-0.834, unit=elementary charge)]\n",
      "elec  [1, 1, 0, 0, 0, 0, Quantity(value=0.417, unit=elementary charge), Quantity(value=0.417, unit=elementary charge)]\n",
      "elec  [1, 1, 0, 0, 0, 0, Quantity(value=0.417, unit=elementary charge), Quantity(value=0.417, unit=elementary charge)]\n",
      "elec  [1, 1, 0, 0, 0, 0, Quantity(value=-0.834, unit=elementary charge), Quantity(value=-0.834, unit=elementary charge)]\n",
      "elec  [1, 1, 0, 0, 0, 0, Quantity(value=0.417, unit=elementary charge), Quantity(value=0.417, unit=elementary charge)]\n",
      "elec  [1, 1, 0, 0, 0, 0, Quantity(value=0.417, unit=elementary charge), Quantity(value=0.417, unit=elementary charge)]\n",
      "elec  [1, 1, 0, 0, 0, 0, Quantity(value=-0.834, unit=elementary charge), Quantity(value=-0.834, unit=elementary charge)]\n",
      "elec  [1, 1, 0, 0, 0, 0, Quantity(value=0.417, unit=elementary charge), Quantity(value=0.417, unit=elementary charge)]\n",
      "elec  [1, 1, 0, 0, 0, 0, Quantity(value=0.417, unit=elementary charge), Quantity(value=0.417, unit=elementary charge)]\n",
      "elec  [1, 1, 0, 0, 0, 0, Quantity(value=-0.834, unit=elementary charge), Quantity(value=-0.834, unit=elementary charge)]\n",
      "elec  [1, 1, 0, 0, 0, 0, Quantity(value=0.417, unit=elementary charge), Quantity(value=0.417, unit=elementary charge)]\n",
      "elec  [1, 1, 0, 0, 0, 0, Quantity(value=0.417, unit=elementary charge), Quantity(value=0.417, unit=elementary charge)]\n",
      "elec  [1, 1, 0, 0, 0, 0, Quantity(value=-0.834, unit=elementary charge), Quantity(value=-0.834, unit=elementary charge)]\n",
      "elec  [1, 1, 0, 0, 0, 0, Quantity(value=0.417, unit=elementary charge), Quantity(value=0.417, unit=elementary charge)]\n",
      "elec  [1, 1, 0, 0, 0, 0, Quantity(value=0.417, unit=elementary charge), Quantity(value=0.417, unit=elementary charge)]\n",
      "elec  [1, 1, 0, 0, 0, 0, Quantity(value=-0.834, unit=elementary charge), Quantity(value=-0.834, unit=elementary charge)]\n",
      "elec  [1, 1, 0, 0, 0, 0, Quantity(value=0.417, unit=elementary charge), Quantity(value=0.417, unit=elementary charge)]\n",
      "elec  [1, 1, 0, 0, 0, 0, Quantity(value=0.417, unit=elementary charge), Quantity(value=0.417, unit=elementary charge)]\n",
      "elec  [1, 1, 0, 0, 0, 0, Quantity(value=-0.834, unit=elementary charge), Quantity(value=-0.834, unit=elementary charge)]\n",
      "elec  [1, 1, 0, 0, 0, 0, Quantity(value=0.417, unit=elementary charge), Quantity(value=0.417, unit=elementary charge)]\n",
      "elec  [1, 1, 0, 0, 0, 0, Quantity(value=0.417, unit=elementary charge), Quantity(value=0.417, unit=elementary charge)]\n",
      "elec  [1, 1, 0, 0, 0, 0, Quantity(value=-0.834, unit=elementary charge), Quantity(value=-0.834, unit=elementary charge)]\n",
      "elec  [1, 1, 0, 0, 0, 0, Quantity(value=0.417, unit=elementary charge), Quantity(value=0.417, unit=elementary charge)]\n",
      "elec  [1, 1, 0, 0, 0, 0, Quantity(value=0.417, unit=elementary charge), Quantity(value=0.417, unit=elementary charge)]\n",
      "elec  [1, 1, 0, 0, 0, 0, Quantity(value=-0.834, unit=elementary charge), Quantity(value=-0.834, unit=elementary charge)]\n",
      "elec  [1, 1, 0, 0, 0, 0, Quantity(value=0.417, unit=elementary charge), Quantity(value=0.417, unit=elementary charge)]\n",
      "elec  [1, 1, 0, 0, 0, 0, Quantity(value=0.417, unit=elementary charge), Quantity(value=0.417, unit=elementary charge)]\n",
      "elec  [1, 1, 0, 0, 0, 0, Quantity(value=-0.834, unit=elementary charge), Quantity(value=-0.834, unit=elementary charge)]\n",
      "elec  [1, 1, 0, 0, 0, 0, Quantity(value=0.417, unit=elementary charge), Quantity(value=0.417, unit=elementary charge)]\n",
      "elec  [1, 1, 0, 0, 0, 0, Quantity(value=0.417, unit=elementary charge), Quantity(value=0.417, unit=elementary charge)]\n",
      "elec  [1, 1, 0, 0, 0, 0, Quantity(value=-0.834, unit=elementary charge), Quantity(value=-0.834, unit=elementary charge)]\n",
      "elec  [1, 1, 0, 0, 0, 0, Quantity(value=0.417, unit=elementary charge), Quantity(value=0.417, unit=elementary charge)]\n",
      "elec  [1, 1, 0, 0, 0, 0, Quantity(value=0.417, unit=elementary charge), Quantity(value=0.417, unit=elementary charge)]\n",
      "elec  [1, 1, 0, 0, 0, 0, Quantity(value=-0.834, unit=elementary charge), Quantity(value=-0.834, unit=elementary charge)]\n",
      "elec  [1, 1, 0, 0, 0, 0, Quantity(value=0.417, unit=elementary charge), Quantity(value=0.417, unit=elementary charge)]\n",
      "elec  [1, 1, 0, 0, 0, 0, Quantity(value=0.417, unit=elementary charge), Quantity(value=0.417, unit=elementary charge)]\n",
      "elec  [1, 1, 0, 0, 0, 0, Quantity(value=1.0, unit=elementary charge), Quantity(value=1.0, unit=elementary charge)]\n",
      "elec  [1, 1, 0, 0, 0, 0, Quantity(value=-1.0, unit=elementary charge), Quantity(value=-1.0, unit=elementary charge)]\n",
      "4\n",
      "4\n"
     ]
    }
   ],
   "source": [
    "# Create a htf\n",
    "atp, system_generator = generate_atp(phase = 'solvent')\n",
    "htf = generate_dipeptide_top_pos_sys(atp.topology, \n",
    "                               'THR', \n",
    "                               atp.system, \n",
    "                               atp.positions, \n",
    "                               system_generator,\n",
    "                                rxn_field=True,\n",
    "                               flatten_torsions=True,\n",
    "                               flatten_exceptions=True,\n",
    "                               validate_endstate_energy=False,\n",
    "                                conduct_htf_prop=True)"
   ]
  },
  {
   "cell_type": "code",
   "execution_count": 3,
   "id": "ba6eef7e",
   "metadata": {},
   "outputs": [],
   "source": [
    "# Save htf\n",
    "with open(\"atp_solvent.pickle\", \"wb\") as f:\n",
    "    pickle.dump(htf, f)"
   ]
  },
  {
   "cell_type": "markdown",
   "id": "d6ef38ac",
   "metadata": {},
   "source": [
    "### Test one alchemical region, no scale regions"
   ]
  },
  {
   "cell_type": "markdown",
   "id": "5c908dfd",
   "metadata": {},
   "source": [
    "#### Old system HarmonicBondForce vs hybrid system CustomBondForce"
   ]
  },
  {
   "cell_type": "code",
   "execution_count": 4,
   "id": "0033103c",
   "metadata": {},
   "outputs": [
    {
     "ename": "OpenMMException",
     "evalue": "Unknown property 'param9' in node 'Particle'",
     "output_type": "error",
     "traceback": [
      "\u001b[0;31m----------------------------\u001b[0m",
      "\u001b[0;31mOpenMMException\u001b[0mTraceback (most recent call last)",
      "\u001b[0;32m<ipython-input-4-5c4d5466189e>\u001b[0m in \u001b[0;36m<module>\u001b[0;34m\u001b[0m\n\u001b[1;32m      1\u001b[0m \u001b[0;31m# Load htf\u001b[0m\u001b[0;34m\u001b[0m\u001b[0;34m\u001b[0m\u001b[0;34m\u001b[0m\u001b[0m\n\u001b[1;32m      2\u001b[0m \u001b[0;32mwith\u001b[0m \u001b[0mopen\u001b[0m\u001b[0;34m(\u001b[0m\u001b[0;34m\"/home/zhangi/choderalab/perses_benchmark/perses_protein_mutations/code/26_rxn_field/atp_solvent.pickle\"\u001b[0m\u001b[0;34m,\u001b[0m \u001b[0;34m\"rb\"\u001b[0m\u001b[0;34m)\u001b[0m \u001b[0;32mas\u001b[0m \u001b[0mf\u001b[0m\u001b[0;34m:\u001b[0m\u001b[0;34m\u001b[0m\u001b[0;34m\u001b[0m\u001b[0m\n\u001b[0;32m----> 3\u001b[0;31m     \u001b[0mhtf\u001b[0m \u001b[0;34m=\u001b[0m \u001b[0mpickle\u001b[0m\u001b[0;34m.\u001b[0m\u001b[0mload\u001b[0m\u001b[0;34m(\u001b[0m\u001b[0mf\u001b[0m\u001b[0;34m)\u001b[0m\u001b[0;34m\u001b[0m\u001b[0;34m\u001b[0m\u001b[0m\n\u001b[0m",
      "\u001b[0;32m~/miniconda3/envs/perses-rxn-field/lib/python3.8/site-packages/simtk/openmm/openmm.py\u001b[0m in \u001b[0;36m__setstate__\u001b[0;34m(self, serializationString)\u001b[0m\n\u001b[1;32m   9541\u001b[0m \u001b[0;34m\u001b[0m\u001b[0m\n\u001b[1;32m   9542\u001b[0m     \u001b[0;32mdef\u001b[0m \u001b[0m__setstate__\u001b[0m\u001b[0;34m(\u001b[0m\u001b[0mself\u001b[0m\u001b[0;34m,\u001b[0m \u001b[0mserializationString\u001b[0m\u001b[0;34m)\u001b[0m\u001b[0;34m:\u001b[0m\u001b[0;34m\u001b[0m\u001b[0;34m\u001b[0m\u001b[0m\n\u001b[0;32m-> 9543\u001b[0;31m         \u001b[0msystem\u001b[0m \u001b[0;34m=\u001b[0m \u001b[0mXmlSerializer\u001b[0m\u001b[0;34m.\u001b[0m\u001b[0mdeserializeSystem\u001b[0m\u001b[0;34m(\u001b[0m\u001b[0mserializationString\u001b[0m\u001b[0;34m)\u001b[0m\u001b[0;34m\u001b[0m\u001b[0;34m\u001b[0m\u001b[0m\n\u001b[0m\u001b[1;32m   9544\u001b[0m         \u001b[0mself\u001b[0m\u001b[0;34m.\u001b[0m\u001b[0mthis\u001b[0m \u001b[0;34m=\u001b[0m \u001b[0msystem\u001b[0m\u001b[0;34m.\u001b[0m\u001b[0mthis\u001b[0m\u001b[0;34m\u001b[0m\u001b[0;34m\u001b[0m\u001b[0m\n\u001b[1;32m   9545\u001b[0m     \u001b[0;32mdef\u001b[0m \u001b[0m__deepcopy__\u001b[0m\u001b[0;34m(\u001b[0m\u001b[0mself\u001b[0m\u001b[0;34m,\u001b[0m \u001b[0mmemo\u001b[0m\u001b[0;34m)\u001b[0m\u001b[0;34m:\u001b[0m\u001b[0;34m\u001b[0m\u001b[0;34m\u001b[0m\u001b[0m\n",
      "\u001b[0;32m~/miniconda3/envs/perses-rxn-field/lib/python3.8/site-packages/simtk/openmm/openmm.py\u001b[0m in \u001b[0;36mdeserializeSystem\u001b[0;34m(inputString)\u001b[0m\n\u001b[1;32m   9590\u001b[0m         \u001b[0;34m@\u001b[0m\u001b[0mdeprecated\u001b[0m \u001b[0mUse\u001b[0m \u001b[0mdeserialize\u001b[0m\u001b[0;34m(\u001b[0m\u001b[0;34m)\u001b[0m \u001b[0minstead\u001b[0m\u001b[0;34m.\u001b[0m\u001b[0;34m\u001b[0m\u001b[0;34m\u001b[0m\u001b[0m\n\u001b[1;32m   9591\u001b[0m         \"\"\"\n\u001b[0;32m-> 9592\u001b[0;31m         \u001b[0;32mreturn\u001b[0m \u001b[0m_openmm\u001b[0m\u001b[0;34m.\u001b[0m\u001b[0mXmlSerializer_deserializeSystem\u001b[0m\u001b[0;34m(\u001b[0m\u001b[0minputString\u001b[0m\u001b[0;34m)\u001b[0m\u001b[0;34m\u001b[0m\u001b[0;34m\u001b[0m\u001b[0m\n\u001b[0m\u001b[1;32m   9593\u001b[0m \u001b[0;34m\u001b[0m\u001b[0m\n\u001b[1;32m   9594\u001b[0m     \u001b[0;34m@\u001b[0m\u001b[0mstaticmethod\u001b[0m\u001b[0;34m\u001b[0m\u001b[0;34m\u001b[0m\u001b[0m\n",
      "\u001b[0;31mOpenMMException\u001b[0m: Unknown property 'param9' in node 'Particle'"
     ]
    }
   ],
   "source": [
    "# Load htf\n",
    "with open(\"/home/zhangi/choderalab/perses_benchmark/perses_protein_mutations/code/26_rxn_field/atp_solvent.pickle\", \"rb\") as f:\n",
    "    htf = pickle.load(f)"
   ]
  },
  {
   "cell_type": "code",
   "execution_count": 40,
   "id": "fea5843b",
   "metadata": {},
   "outputs": [
    {
     "name": "stdout",
     "output_type": "stream",
     "text": [
      "{50: 8, 51: 9, 52: 10, 58: 16, 59: 17, 60: 18, 61: 19, 62: 20, 63: 21, 64: 22, 65: 23, 66: 24, 70: 28, 71: 29, 72: 30, 73: 31, 74: 32, 75: 33, 76: 34, 79: 37, 80: 38, 81: 39, 84: 42, 85: 43, 86: 44, 87: 45, 88: 46, 89: 47, 90: 48, 91: 49, 92: 50, 93: 51, 94: 52, 95: 53, 99: 57, 100: 58, 101: 59, 102: 60, 103: 61, 104: 62, 105: 63, 106: 64, 107: 65, 108: 66, 109: 67}\n",
      "Warning: Returning CPU platform instead of requested platform <simtk.openmm.openmm.Platform; proxy of <Swig Object of type 'OpenMM::Platform *' at 0x2b62f7eda7e0> >\n",
      "conducting subsequent work with the following platform: CPU\n",
      "conducting subsequent work with the following platform: CUDA\n",
      "[('HarmonicBondForce', 0.034783653565214685), ('HarmonicAngleForce', 0.6112775462129015), ('PeriodicTorsionForce', 16.285398289983082), ('NonbondedForce', -953.8255387223031), ('AndersenThermostat', 0.0), ('MonteCarloBarostat', 0.0)]\n",
      "conducting subsequent work with the following platform: CUDA\n",
      "[('CustomBondForce', 1.1906714634379987), ('CustomAngleForce', 9.730501694945348), ('CustomTorsionForce', 16.28540329352652), ('AndersenThermostat', 0.0), ('MonteCarloBarostat', 0.0)]\n",
      "Success! Custom torsion force and standard torsion force energies are equal!\n"
     ]
    }
   ],
   "source": [
    "test_torsion_energies(htf, is_solvated=True)"
   ]
  },
  {
   "cell_type": "markdown",
   "id": "dc4b7b1d",
   "metadata": {},
   "source": [
    "#### New system HarmonicBondForce vs hybrid system CustomBondForce"
   ]
  },
  {
   "cell_type": "code",
   "execution_count": 41,
   "id": "9f9cbe99",
   "metadata": {},
   "outputs": [],
   "source": [
    "# Load htf\n",
    "with open(\"/home/zhangi/choderalab/perses_benchmark/perses_protein_mutations/code/26_rxn_field/atp_solvent.pickle\", \"rb\") as f:\n",
    "    htf = pickle.load(f)"
   ]
  },
  {
   "cell_type": "code",
   "execution_count": 42,
   "id": "5c16c96c",
   "metadata": {},
   "outputs": [
    {
     "name": "stdout",
     "output_type": "stream",
     "text": [
      "{8: 8, 9: 9, 10: 10, 16: 16, 17: 17, 18: 18, 24: 24, 25: 25, 26: 26, 29: 29, 30: 30, 31: 31, 32: 32, 33: 33, 34: 34}\n",
      "Warning: Returning CPU platform instead of requested platform <simtk.openmm.openmm.Platform; proxy of <Swig Object of type 'OpenMM::Platform *' at 0x2b62f7eda7e0> >\n",
      "conducting subsequent work with the following platform: CPU\n",
      "conducting subsequent work with the following platform: CUDA\n",
      "[('HarmonicBondForce', 1.1901477682091637), ('HarmonicAngleForce', 9.276354269819718), ('PeriodicTorsionForce', 30.883917803886508), ('NonbondedForce', -905.3356653618777), ('AndersenThermostat', 0.0), ('MonteCarloBarostat', 0.0)]\n",
      "conducting subsequent work with the following platform: CUDA\n",
      "[('CustomBondForce', 1.1906714634379987), ('CustomAngleForce', 9.730501694945348), ('CustomTorsionForce', 30.883922613443637), ('AndersenThermostat', 0.0), ('MonteCarloBarostat', 0.0)]\n",
      "Success! Custom torsion force and standard torsion force energies are equal!\n"
     ]
    }
   ],
   "source": [
    "test_torsion_energies(htf, is_old=False, is_solvated=True)"
   ]
  },
  {
   "cell_type": "markdown",
   "id": "d907a68d",
   "metadata": {},
   "source": [
    "### Test one alchemical region, one scale region"
   ]
  },
  {
   "cell_type": "code",
   "execution_count": 43,
   "id": "52f50c72",
   "metadata": {
    "scrolled": true
   },
   "outputs": [
    {
     "name": "stderr",
     "output_type": "stream",
     "text": [
      "DEBUG:openmmforcefields.system_generators:Trying GAFFTemplateGenerator to load gaff-2.11\n",
      "INFO:proposal_generator:\tConducting polymer point mutation proposal...\n",
      "INFO:proposal_generator:Using matching_criterion to chose best atom map\n",
      "INFO:proposal_generator:Scaffold has symmetry of 0\n",
      "WARNING:proposal_generator:Two molecules are not similar to have a common scaffold\n",
      "WARNING:proposal_generator:Proceeding with direct mapping of molecules, but please check atom mapping and the geometry of the ligands.\n",
      "INFO:proposal_generator:len [{9: 7}, {10: 7}, {11: 7}, {12: 7}, {13: 7}, {9: 8}, {10: 8}, {11: 8}, {12: 8}, {13: 8}, {9: 9}, {10: 9}, {11: 9}, {12: 9}, {13: 9}]\n",
      "INFO:proposal_generator:{9: 7}\n",
      "INFO:proposal_generator:{10: 7}\n",
      "INFO:proposal_generator:{11: 7}\n",
      "INFO:proposal_generator:{12: 7}\n",
      "INFO:proposal_generator:{13: 7}\n",
      "INFO:proposal_generator:{9: 8}\n",
      "INFO:proposal_generator:{10: 8}\n",
      "INFO:proposal_generator:{11: 8}\n",
      "INFO:proposal_generator:{12: 8}\n",
      "INFO:proposal_generator:{13: 8}\n",
      "INFO:proposal_generator:{9: 9}\n",
      "INFO:proposal_generator:{10: 9}\n",
      "INFO:proposal_generator:{11: 9}\n",
      "INFO:proposal_generator:{12: 9}\n",
      "INFO:proposal_generator:{13: 9}\n",
      "INFO:proposal_generator:Returning map that best satisfies matching_criterion\n",
      "INFO:proposal_generator:Finding best map using matching_criterion name\n",
      "INFO:proposal_generator:{9: 7}\n"
     ]
    },
    {
     "name": "stdout",
     "output_type": "stream",
     "text": [
      "making topology proposal\n"
     ]
    },
    {
     "name": "stderr",
     "output_type": "stream",
     "text": [
      "INFO:geometry:propose: performing forward proposal\n",
      "INFO:geometry:propose: unique new atoms detected; proceeding to _logp_propose...\n",
      "INFO:geometry:Conducting forward proposal...\n",
      "INFO:geometry:Computing proposal order with NetworkX...\n",
      "INFO:geometry:number of atoms to be placed: 8\n",
      "INFO:geometry:Atom index proposal order is [10, 18, 14, 13, 17, 19, 16, 15]\n",
      "INFO:geometry:omitted_bonds: []\n",
      "INFO:geometry:direction of proposal is forward; creating atoms_with_positions and new positions from old system/topology...\n",
      "INFO:geometry:creating growth system...\n",
      "INFO:geometry:\tcreating bond force...\n",
      "INFO:geometry:\tthere are 11 bonds in reference force.\n",
      "INFO:geometry:\tcreating angle force...\n",
      "INFO:geometry:\tthere are 43 angles in reference force.\n",
      "INFO:geometry:\tcreating torsion force...\n",
      "INFO:geometry:\tcreating extra torsions force...\n",
      "INFO:geometry:\tthere are 72 torsions in reference force.\n",
      "INFO:geometry:\tcreating nonbonded force...\n",
      "INFO:geometry:\t\tgrabbing reference nonbonded method, cutoff, switching function, switching distance...\n",
      "INFO:geometry:\t\tcreating nonbonded exception force (i.e. custom bond for 1,4s)...\n",
      "INFO:geometry:\t\tlooping through exceptions calculating growth indices, and adding appropriate interactions to custom bond force.\n",
      "INFO:geometry:\t\tthere are 1654 in the reference Nonbonded force\n"
     ]
    },
    {
     "name": "stdout",
     "output_type": "stream",
     "text": [
      "generating geometry engine\n",
      "making geometry proposal from ALA to THR\n"
     ]
    },
    {
     "name": "stderr",
     "output_type": "stream",
     "text": [
      "WARNING:geometry:\t\t\t\t\tchiral atom <Atom 8 (CA) of chain 0 residue 1 (THR)> with neighbors [<Atom 9 (HA) of chain 0 residue 1 (THR)>, <Atom 10 (CB) of chain 0 residue 1 (THR)>, <Atom 11 (C) of chain 0 residue 1 (THR)>, <Atom 6 (N) of chain 0 residue 1 (THR)>] is surrounded by 3 core neighbors.  omitting chirality bias torsion\n",
      "INFO:geometry:Neglected angle terms : []\n",
      "INFO:geometry:omitted_growth_terms: {'bonds': [], 'angles': [], 'torsions': [], '1,4s': []}\n",
      "INFO:geometry:extra torsions: {0: (7, 6, 8, 10, [1, Quantity(value=0.9900002084555819, unit=radian), Quantity(value=1200.0, unit=kilocalorie/mole), 1]), 1: (19, 18, 10, 8, [1, Quantity(value=-0.07858019216845058, unit=radian), Quantity(value=1200.0, unit=kilocalorie/mole), 6]), 2: (19, 18, 10, 14, [1, Quantity(value=2.118586571250296, unit=radian), Quantity(value=1200.0, unit=kilocalorie/mole), 6]), 3: (19, 18, 10, 13, [1, Quantity(value=-2.149781203448759, unit=radian), Quantity(value=1200.0, unit=kilocalorie/mole), 6]), 4: (8, 10, 14, 17, [1, Quantity(value=-2.1249532223845904, unit=radian), Quantity(value=1200.0, unit=kilocalorie/mole), 5]), 5: (8, 10, 14, 16, [1, Quantity(value=2.0543043017157916, unit=radian), Quantity(value=1200.0, unit=kilocalorie/mole), 7]), 6: (8, 10, 14, 15, [1, Quantity(value=-0.02223392579985184, unit=radian), Quantity(value=1200.0, unit=kilocalorie/mole), 8]), 7: (18, 10, 14, 17, [1, Quantity(value=2.0255587336734213, unit=radian), Quantity(value=1200.0, unit=kilocalorie/mole), 5]), 8: (18, 10, 14, 16, [1, Quantity(value=-0.07836904940578293, unit=radian), Quantity(value=1200.0, unit=kilocalorie/mole), 7]), 9: (18, 10, 14, 15, [1, Quantity(value=-2.154907276921426, unit=radian), Quantity(value=1200.0, unit=kilocalorie/mole), 8]), 10: (13, 10, 14, 17, [1, Quantity(value=0.007583009583349565, unit=radian), Quantity(value=1200.0, unit=kilocalorie/mole), 5]), 11: (13, 10, 14, 16, [1, Quantity(value=-2.096344773495849, unit=radian), Quantity(value=1200.0, unit=kilocalorie/mole), 7]), 12: (13, 10, 14, 15, [1, Quantity(value=2.1103023061680943, unit=radian), Quantity(value=1200.0, unit=kilocalorie/mole), 8]), 13: (18, 10, 8, 14, [1, Quantity(value=-1.0655064807976995, unit=radian), Quantity(value=1200.0, unit=kilocalorie/mole), 3])}\n",
      "INFO:geometry:neglected angle terms include []\n",
      "INFO:geometry:log probability choice of torsions and atom order: -13.553917196274867\n",
      "INFO:geometry:creating platform, integrators, and contexts; setting growth parameter\n"
     ]
    },
    {
     "name": "stdout",
     "output_type": "stream",
     "text": [
      "conducting subsequent work with the following platform: CUDA\n"
     ]
    },
    {
     "name": "stderr",
     "output_type": "stream",
     "text": [
      "INFO:geometry:setting atoms_with_positions context new positions\n",
      "INFO:geometry:There are 8 new atoms\n",
      "INFO:geometry:\treduced angle potential = 0.5043206849168728.\n"
     ]
    },
    {
     "name": "stdout",
     "output_type": "stream",
     "text": [
      "conducting subsequent work with the following platform: CUDA\n"
     ]
    },
    {
     "name": "stderr",
     "output_type": "stream",
     "text": [
      "INFO:geometry:\treduced angle potential = 0.49443052152659295.\n",
      "INFO:geometry:\treduced angle potential = 0.024207566527245882.\n",
      "INFO:geometry:\treduced angle potential = 0.04714518044541659.\n",
      "INFO:geometry:\treduced angle potential = 0.016474413810381894.\n",
      "INFO:geometry:\treduced angle potential = 0.00013902135875470189.\n",
      "INFO:geometry:\treduced angle potential = 0.04914699023148144.\n",
      "INFO:geometry:\treduced angle potential = 0.05375103749305512.\n",
      "INFO:geometry:\tbeginning construction of no_nonbonded final system...\n",
      "INFO:geometry:\tinitial no-nonbonded final system forces ['HarmonicBondForce', 'HarmonicAngleForce', 'PeriodicTorsionForce', 'NonbondedForce', 'MonteCarloBarostat']\n",
      "INFO:geometry:\tfinal no-nonbonded final system forces dict_keys(['HarmonicBondForce', 'HarmonicAngleForce', 'PeriodicTorsionForce', 'NonbondedForce'])\n",
      "INFO:geometry:\tthere are 11 bond forces in the no-nonbonded final system\n",
      "INFO:geometry:\tthere are 43 angle forces in the no-nonbonded final system\n",
      "INFO:geometry:\tthere are 72 torsion forces in the no-nonbonded final system\n",
      "INFO:geometry:forward final system defined with 0 neglected angles.\n"
     ]
    },
    {
     "name": "stdout",
     "output_type": "stream",
     "text": [
      "conducting subsequent work with the following platform: CUDA\n",
      "conducting subsequent work with the following platform: CUDA\n"
     ]
    },
    {
     "name": "stderr",
     "output_type": "stream",
     "text": [
      "INFO:geometry:total reduced potential before atom placement: 9.11648114171204\n"
     ]
    },
    {
     "name": "stdout",
     "output_type": "stream",
     "text": [
      "conducting subsequent work with the following platform: CUDA\n",
      "conducting subsequent work with the following platform: CUDA\n",
      "conducting subsequent work with the following platform: CUDA\n"
     ]
    },
    {
     "name": "stderr",
     "output_type": "stream",
     "text": [
      "INFO:geometry:total reduced energy added from growth system: -64.07164920445622\n",
      "INFO:geometry:final reduced energy -54.95516994103152\n",
      "INFO:geometry:sum of energies: -54.95516806274418\n",
      "INFO:geometry:magnitude of difference in the energies: 1.878287335443929e-06\n",
      "INFO:geometry:Final logp_proposal: 64.22382437102873\n"
     ]
    },
    {
     "name": "stdout",
     "output_type": "stream",
     "text": [
      "added energy components: [('CustomBondForce', 0.6357653874141302), ('CustomAngleForce', 3.2391139667141737), ('CustomTorsionForce', 20.006795141647412), ('CustomBondForce', -87.95332370023193)]\n"
     ]
    },
    {
     "name": "stderr",
     "output_type": "stream",
     "text": [
      "INFO:geometry:logp_reverse: performing reverse proposal\n",
      "INFO:geometry:logp_reverse: unique new atoms detected; proceeding to _logp_propose...\n",
      "INFO:geometry:Conducting forward proposal...\n",
      "INFO:geometry:Computing proposal order with NetworkX...\n",
      "INFO:geometry:number of atoms to be placed: 4\n",
      "INFO:geometry:Atom index proposal order is [10, 11, 12, 13]\n",
      "INFO:geometry:omitted_bonds: []\n",
      "INFO:geometry:direction of proposal is reverse; creating atoms_with_positions from old system/topology\n",
      "INFO:geometry:creating growth system...\n",
      "INFO:geometry:\tcreating bond force...\n",
      "INFO:geometry:\tthere are 9 bonds in reference force.\n",
      "INFO:geometry:\tcreating angle force...\n",
      "INFO:geometry:\tthere are 36 angles in reference force.\n",
      "INFO:geometry:\tcreating torsion force...\n",
      "INFO:geometry:\tcreating extra torsions force...\n",
      "INFO:geometry:\tthere are 42 torsions in reference force.\n",
      "INFO:geometry:\tcreating nonbonded force...\n",
      "INFO:geometry:\t\tgrabbing reference nonbonded method, cutoff, switching function, switching distance...\n",
      "INFO:geometry:\t\tcreating nonbonded exception force (i.e. custom bond for 1,4s)...\n",
      "INFO:geometry:\t\tlooping through exceptions calculating growth indices, and adding appropriate interactions to custom bond force.\n",
      "INFO:geometry:\t\tthere are 1631 in the reference Nonbonded force\n",
      "WARNING:geometry:\t\t\t\t\tchiral atom <Atom 8 (CA) of chain 0 residue 1 (ALA)> with neighbors [<Atom 9 (HA) of chain 0 residue 1 (ALA)>, <Atom 10 (CB) of chain 0 residue 1 (ALA)>, <Atom 14 (C) of chain 0 residue 1 (ALA)>, <Atom 6 (N) of chain 0 residue 1 (ALA)>] is surrounded by 3 core neighbors.  omitting chirality bias torsion\n",
      "INFO:geometry:Neglected angle terms : []\n",
      "INFO:geometry:omitted_growth_terms: {'bonds': [], 'angles': [], 'torsions': [], '1,4s': []}\n",
      "INFO:geometry:extra torsions: {0: (7, 6, 8, 10, [1, Quantity(value=0.9799661941737812, unit=radian), Quantity(value=1200.0, unit=kilocalorie/mole), 1]), 1: (6, 8, 10, 11, [1, Quantity(value=2.105358864604291, unit=radian), Quantity(value=1200.0, unit=kilocalorie/mole), 2]), 2: (6, 8, 10, 12, [1, Quantity(value=-2.0823006129211796, unit=radian), Quantity(value=1200.0, unit=kilocalorie/mole), 3]), 3: (6, 8, 10, 13, [1, Quantity(value=0.018582237407944735, unit=radian), Quantity(value=1200.0, unit=kilocalorie/mole), 4]), 4: (14, 8, 10, 11, [1, Quantity(value=-0.036945135932107576, unit=radian), Quantity(value=1200.0, unit=kilocalorie/mole), 2]), 5: (14, 8, 10, 12, [1, Quantity(value=2.0585806937220097, unit=radian), Quantity(value=1200.0, unit=kilocalorie/mole), 3]), 6: (14, 8, 10, 13, [1, Quantity(value=-2.1237217631284597, unit=radian), Quantity(value=1200.0, unit=kilocalorie/mole), 4]), 7: (9, 8, 10, 11, [1, Quantity(value=-2.119603470065817, unit=radian), Quantity(value=1200.0, unit=kilocalorie/mole), 2]), 8: (9, 8, 10, 12, [1, Quantity(value=-0.024077640411697132, unit=radian), Quantity(value=1200.0, unit=kilocalorie/mole), 3]), 9: (9, 8, 10, 13, [1, Quantity(value=2.0768052099174152, unit=radian), Quantity(value=1200.0, unit=kilocalorie/mole), 4])}\n",
      "INFO:geometry:neglected angle terms include []\n",
      "INFO:geometry:log probability choice of torsions and atom order: -5.78074351579233\n",
      "INFO:geometry:creating platform, integrators, and contexts; setting growth parameter\n"
     ]
    },
    {
     "name": "stdout",
     "output_type": "stream",
     "text": [
      "conducting subsequent work with the following platform: CUDA\n"
     ]
    },
    {
     "name": "stderr",
     "output_type": "stream",
     "text": [
      "INFO:geometry:setting atoms_with_positions context old positions\n"
     ]
    },
    {
     "name": "stdout",
     "output_type": "stream",
     "text": [
      "conducting subsequent work with the following platform: CUDA\n"
     ]
    },
    {
     "name": "stderr",
     "output_type": "stream",
     "text": [
      "INFO:geometry:There are 4 new atoms\n",
      "INFO:geometry:\treduced angle potential = 0.3517324280898812.\n",
      "INFO:geometry:\treduced angle potential = 1.2915588460963948e-10.\n",
      "INFO:geometry:\treduced angle potential = 3.2058324695160406e-13.\n",
      "INFO:geometry:\treduced angle potential = 7.39096069988752e-11.\n",
      "INFO:geometry:\tbeginning construction of no_nonbonded final system...\n",
      "INFO:geometry:\tinitial no-nonbonded final system forces ['HarmonicBondForce', 'HarmonicAngleForce', 'PeriodicTorsionForce', 'NonbondedForce', 'MonteCarloBarostat']\n",
      "INFO:geometry:\tfinal no-nonbonded final system forces dict_keys(['HarmonicBondForce', 'HarmonicAngleForce', 'PeriodicTorsionForce', 'NonbondedForce'])\n",
      "INFO:geometry:\tthere are 9 bond forces in the no-nonbonded final system\n",
      "INFO:geometry:\tthere are 36 angle forces in the no-nonbonded final system\n",
      "INFO:geometry:\tthere are 42 torsion forces in the no-nonbonded final system\n",
      "INFO:geometry:reverse final system defined with 0 neglected angles.\n"
     ]
    },
    {
     "name": "stdout",
     "output_type": "stream",
     "text": [
      "conducting subsequent work with the following platform: CUDA\n",
      "conducting subsequent work with the following platform: CUDA\n"
     ]
    },
    {
     "name": "stderr",
     "output_type": "stream",
     "text": [
      "INFO:geometry:total reduced potential before atom placement: 9.11648114171204\n"
     ]
    },
    {
     "name": "stdout",
     "output_type": "stream",
     "text": [
      "conducting subsequent work with the following platform: CUDA\n",
      "conducting subsequent work with the following platform: CUDA\n",
      "conducting subsequent work with the following platform: CUDA\n"
     ]
    },
    {
     "name": "stderr",
     "output_type": "stream",
     "text": [
      "INFO:geometry:total reduced energy added from growth system: 20.672986687678176\n",
      "INFO:geometry:final reduced energy 29.78946596595156\n",
      "INFO:geometry:sum of energies: 29.789467829390215\n",
      "INFO:geometry:magnitude of difference in the energies: 1.8634386549365445e-06\n",
      "INFO:geometry:Final logp_proposal: -26846.184056050522\n"
     ]
    },
    {
     "name": "stdout",
     "output_type": "stream",
     "text": [
      "added energy components: [('CustomBondForce', 0.000520203927326505), ('CustomAngleForce', 0.4511197756248138), ('CustomTorsionForce', 7.250463344085812), ('CustomBondForce', 12.970883364040223)]\n"
     ]
    },
    {
     "name": "stderr",
     "output_type": "stream",
     "text": [
      "INFO:relative:*** Generating RxnHybridTopologyFactory ***\n",
      "INFO:relative:Beginning nonbonded method, total particle, barostat, and exceptions retrieval...\n",
      "INFO:relative:Old system forces: dict_keys(['HarmonicBondForce', 'HarmonicAngleForce', 'PeriodicTorsionForce', 'NonbondedForce', 'MonteCarloBarostat'])\n",
      "INFO:relative:New system forces: dict_keys(['HarmonicBondForce', 'HarmonicAngleForce', 'PeriodicTorsionForce', 'NonbondedForce', 'MonteCarloBarostat'])\n",
      "INFO:relative:No unknown forces.\n",
      "INFO:relative:Nonbonded method to be used (i.e. from old system): 4\n",
      "INFO:relative:Adding and mapping old atoms to hybrid system...\n",
      "INFO:relative:Adding and mapping new atoms to hybrid system...\n",
      "INFO:relative:scale_templates: [['nonscale_lambda', 'scale_lambda_0', 'interscale_lambda_0'], ['nonscale_region', 'scale_region_0', 'interscale_region_0']]\n",
      "INFO:relative:Added MonteCarloBarostat.\n",
      "INFO:relative:getDefaultPeriodicBoxVectors added to hybrid: [Quantity(value=Vec3(x=2.56477354, y=0.0, z=0.0), unit=nanometer), Quantity(value=Vec3(x=0.0, y=2.56477354, z=0.0), unit=nanometer), Quantity(value=Vec3(x=0.0, y=0.0, z=2.56477354), unit=nanometer)]\n",
      "INFO:relative:Determined atom classes.\n",
      "INFO:relative:Generating old system exceptions dict...\n",
      "INFO:relative:Generating new system exceptions dict...\n",
      "INFO:relative:Handling constraints...\n",
      "INFO:relative:Handling virtual sites...\n",
      "INFO:relative:\t_handle_virtual_sites: numVirtualSites: 0\n"
     ]
    }
   ],
   "source": [
    "# Create a htf\n",
    "atp, system_generator = generate_atp(phase = 'solvent')\n",
    "htf = generate_dipeptide_top_pos_sys(atp.topology, \n",
    "                               'THR', \n",
    "                               atp.system, \n",
    "                               atp.positions, \n",
    "                               system_generator,\n",
    "                                rxn_field=True,\n",
    "                               flatten_torsions=True,\n",
    "                               flatten_exceptions=True,\n",
    "                               validate_endstate_energy=False,\n",
    "                                conduct_htf_prop=True, \n",
    "                                scale_regions=[[10, 11, 12, 13, 1557, 1558, 1559, 1560, 1561, 1562, 1563, 1564]])"
   ]
  },
  {
   "cell_type": "code",
   "execution_count": 44,
   "id": "e4f8824e",
   "metadata": {},
   "outputs": [],
   "source": [
    "# Save htf\n",
    "with open(\"atp_solvent_scale_region.pickle\", \"wb\") as f:\n",
    "    pickle.dump(htf, f)"
   ]
  },
  {
   "cell_type": "markdown",
   "id": "3576b206",
   "metadata": {},
   "source": [
    "#### Old system HarmonicBondForce vs hybrid system CustomBondForce"
   ]
  },
  {
   "cell_type": "code",
   "execution_count": 45,
   "id": "f714b6e7",
   "metadata": {},
   "outputs": [],
   "source": [
    "# Load htf\n",
    "with open(\"/home/zhangi/choderalab/perses_benchmark/perses_protein_mutations/code/26_rxn_field/atp_solvent_scale_region.pickle\", \"rb\") as f:\n",
    "    htf = pickle.load(f)"
   ]
  },
  {
   "cell_type": "code",
   "execution_count": 46,
   "id": "fca19e10",
   "metadata": {},
   "outputs": [
    {
     "data": {
      "text/plain": [
       "[10, 11, 12, 13, 1557, 1558, 1559, 1560, 1561, 1562, 1563, 1564]"
      ]
     },
     "execution_count": 46,
     "metadata": {},
     "output_type": "execute_result"
    }
   ],
   "source": [
    "# This is the scale region\n",
    "list(htf._atom_classes['unique_old_atoms'][0]) + list(htf._atom_classes['unique_new_atoms'][0])"
   ]
  },
  {
   "cell_type": "code",
   "execution_count": 48,
   "id": "479adca5",
   "metadata": {},
   "outputs": [
    {
     "name": "stdout",
     "output_type": "stream",
     "text": [
      "{50: 8, 51: 9, 52: 10, 58: 16, 59: 17, 60: 18, 61: 19, 62: 20, 63: 21, 64: 22, 65: 23, 66: 24, 70: 28, 71: 29, 72: 30, 73: 31, 74: 32, 75: 33, 76: 34, 79: 37, 80: 38, 81: 39, 84: 42, 85: 43, 86: 44, 87: 45, 88: 46, 89: 47, 90: 48, 91: 49, 92: 50, 93: 51, 94: 52, 95: 53, 99: 57, 100: 58, 101: 59, 102: 60, 103: 61, 104: 62, 105: 63, 106: 64, 107: 65, 108: 66, 109: 67}\n",
      "Warning: Returning CPU platform instead of requested platform <simtk.openmm.openmm.Platform; proxy of <Swig Object of type 'OpenMM::Platform *' at 0x2b62f7eda7e0> >\n",
      "conducting subsequent work with the following platform: CPU\n",
      "conducting subsequent work with the following platform: CUDA\n",
      "[('HarmonicBondForce', 0.034783653565214685), ('HarmonicAngleForce', 0.6112775462129015), ('PeriodicTorsionForce', 16.285398289983082), ('NonbondedForce', -826.1582702128602), ('AndersenThermostat', 0.0), ('MonteCarloBarostat', 0.0)]\n",
      "conducting subsequent work with the following platform: CUDA\n",
      "[('CustomBondForce', 0.6748159227740699), ('CustomAngleForce', 3.8721305328379074), ('CustomTorsionForce', 16.28540329352652), ('AndersenThermostat', 0.0), ('MonteCarloBarostat', 0.0)]\n",
      "Success! Custom torsion force and standard torsion force energies are equal!\n"
     ]
    }
   ],
   "source": [
    "test_torsion_energies(htf, is_solvated=True)"
   ]
  },
  {
   "cell_type": "markdown",
   "id": "2e0b009a",
   "metadata": {},
   "source": [
    "#### New system HarmonicBondForce vs hybrid system CustomBondForce"
   ]
  },
  {
   "cell_type": "code",
   "execution_count": 49,
   "id": "a1d202a2",
   "metadata": {},
   "outputs": [],
   "source": [
    "# Load htf\n",
    "with open(\"/home/zhangi/choderalab/perses_benchmark/perses_protein_mutations/code/26_rxn_field/atp_solvent_scale_region.pickle\", \"rb\") as f:\n",
    "    htf = pickle.load(f)"
   ]
  },
  {
   "cell_type": "code",
   "execution_count": 51,
   "id": "3d6aaf36",
   "metadata": {},
   "outputs": [
    {
     "name": "stdout",
     "output_type": "stream",
     "text": [
      "{8: 8, 9: 9, 10: 10, 16: 16, 17: 17, 18: 18, 24: 24, 25: 25, 26: 26, 29: 29, 30: 30, 31: 31, 32: 32, 33: 33, 34: 34}\n",
      "Warning: Returning CPU platform instead of requested platform <simtk.openmm.openmm.Platform; proxy of <Swig Object of type 'OpenMM::Platform *' at 0x2b62f7eda7e0> >\n",
      "conducting subsequent work with the following platform: CPU\n",
      "conducting subsequent work with the following platform: CUDA\n",
      "[('HarmonicBondForce', 0.6742922275452361), ('HarmonicAngleForce', 3.417983107712269), ('PeriodicTorsionForce', 29.127343616014617), ('NonbondedForce', -807.0147196057264), ('AndersenThermostat', 0.0), ('MonteCarloBarostat', 0.0)]\n",
      "conducting subsequent work with the following platform: CUDA\n",
      "[('CustomBondForce', 0.6748159227740699), ('CustomAngleForce', 3.8721305328379074), ('CustomTorsionForce', 29.12734805617243), ('AndersenThermostat', 0.0), ('MonteCarloBarostat', 0.0)]\n",
      "Success! Custom torsion force and standard torsion force energies are equal!\n",
      "conducting subsequent work with the following platform: CUDA\n",
      "[('CustomBondForce', 0.6748159227740699), ('CustomAngleForce', 3.8721305328379074), ('CustomTorsionForce', 16.28540329352652), ('AndersenThermostat', 0.0), ('MonteCarloBarostat', 0.0)]\n",
      "conducting subsequent work with the following platform: CUDA\n",
      "[('CustomBondForce', 0.6748159227740699), ('CustomAngleForce', 3.8721305328379074), ('CustomTorsionForce', 12.635841207577288), ('AndersenThermostat', 0.0), ('MonteCarloBarostat', 0.0)]\n",
      "Success! Scaling the torsion force changes the energy\n"
     ]
    }
   ],
   "source": [
    "test_torsion_energies(htf, is_old=False, is_solvated=True, check_scale=True)"
   ]
  },
  {
   "cell_type": "markdown",
   "id": "dd3a6ebd",
   "metadata": {},
   "source": [
    "# CDK2 transformation in solvent"
   ]
  },
  {
   "cell_type": "code",
   "execution_count": 52,
   "id": "0007ff9b",
   "metadata": {},
   "outputs": [
    {
     "name": "stdout",
     "output_type": "stream",
     "text": [
      "conducting subsequent work with the following platform: CUDA\n",
      "conducting subsequent work with the following platform: CUDA\n",
      "conducting subsequent work with the following platform: CUDA\n"
     ]
    }
   ],
   "source": [
    "import os\n",
    "from pkg_resources import resource_filename\n",
    "from perses.app import setup_relative_calculation\n",
    "import pickle"
   ]
  },
  {
   "cell_type": "code",
   "execution_count": 54,
   "id": "afad5b52",
   "metadata": {
    "scrolled": true
   },
   "outputs": [
    {
     "name": "stderr",
     "output_type": "stream",
     "text": [
      "2021-05-05 14:00:46,278:(13.70s):root:\tDetecting phases...\n",
      "2021-05-05 14:00:46,281:(0.00s):root:\t\tphases detected: ['complex', 'solvent', 'vacuum']\n",
      "2021-05-05 14:00:46,285:(0.00s):root:No constraints will be removed\n",
      "2021-05-05 14:00:46,287:(0.00s):root:No spectators\n",
      "2021-05-05 14:00:46,290:(0.00s):root:\t\t\trun_type is not specified; default to None\n",
      "2021-05-05 14:00:46,292:(0.00s):root:\tDetecting fe_type...\n",
      "2021-05-05 14:00:46,294:(0.00s):root:\t\tfe_type: repex\n",
      "2021-05-05 14:00:46,296:(0.00s):root:\t\t\toffline-freq not specified: default to 10.\n",
      "2021-05-05 14:00:46,299:(0.00s):root:\t'neglect_angles' detected: False.\n",
      "2021-05-05 14:00:46,300:(0.00s):root:\t'softcore_v2' not specified: default to 'False'\n",
      "2021-05-05 14:00:46,301:(0.00s):root:\tCreating 'output'...\n",
      "2021-05-05 14:00:46,313:(0.01s):root:\tdetected ligand file: /home/zhangi/miniconda3/envs/perses-rxn-field/lib/python3.8/site-packages/perses-0.8.2.dev0-py3.8.egg/perses/data/cdk2-example/CDK2_ligands.sdf\n",
      "2021-05-05 14:00:46,314:(0.00s):root:\told ligand index: 14; new ligand index: 15\n",
      "2021-05-05 14:00:46,315:(0.00s):root:\tsetting up forcefield files...\n",
      "2021-05-05 14:00:46,316:(0.00s):root:\tno timestep detected: setting default as 1.0fs.\n",
      "2021-05-05 14:00:46,317:(0.00s):root:\tno splitting strings specified: defaulting to neq: V R O R V, eq: V R O R V.\n",
      "2021-05-05 14:00:46,318:(0.00s):root:\tno measure_shadow_work specified: defaulting to False.\n",
      "2021-05-05 14:00:46,319:(0.00s):root:\tsetting pressure: 1.0 atm.\n",
      "2021-05-05 14:00:46,320:(0.00s):root:\tsetting temperature: 300.0 K.\n",
      "2021-05-05 14:00:46,321:(0.00s):root:\tsetting solvent padding: 9.0 AA.\n",
      "2021-05-05 14:00:46,322:(0.00s):root:\tsetting ionic strength: 0.15 MM.\n",
      "2021-05-05 14:00:46,322:(0.00s):root:\tsetup pickle file: fesetup_hbonds.pkl\n",
      "2021-05-05 14:00:46,323:(0.00s):root:\ttrajectory directory: output\n",
      "2021-05-05 14:00:46,324:(0.00s):root:\tno atom map specified: default to None.\n",
      "2021-05-05 14:00:46,325:(0.00s):root:\tno topology_proposal specified; proceeding to RelativeFEPSetup...\n",
      "\n",
      "\n",
      "\n",
      "2021-05-05 14:00:46,325:(0.00s):root:Box dimensions: None and None\n",
      "2021-05-05 14:00:46,326:(0.00s):relative_setup:\t\t\t_hmass: 4 Da.\n",
      "\n",
      "2021-05-05 14:00:46,327:(0.00s):relative_setup:Setting non bonded method to PME\n",
      "2021-05-05 14:00:46,328:(0.00s):relative_setup:Handling files for ligands and indices...\n",
      "2021-05-05 14:00:46,331:(0.00s):relative_setup:Detected .sdf format.  Proceeding...\n",
      "2021-05-05 14:00:46,358:(0.03s):utils.openeye:molecule 17                      does not have unique atom names. Generating now...\n",
      "2021-05-05 14:00:46,368:(0.01s):utils.openeye:molecule 1h1q                      does not have unique atom names. Generating now...\n",
      "2021-05-05 14:00:46,386:(0.02s):relative_setup:\tsuccessfully extracted positions from OEMOL.\n",
      "2021-05-05 14:00:46,387:(0.00s):relative_setup:\tsetting both molecule oemol titles to 'MOL'.\n",
      "2021-05-05 14:00:46,388:(0.00s):relative_setup:\tsuccessfully created SMILES for both ligand OEMOLs.\n",
      "2021-05-05 14:00:46,391:(0.00s):relative_setup:\tsuccessfully generated topologies for both OEMOLs.\n",
      "2021-05-05 14:00:46,395:(0.00s):relative_setup:Created mdtraj topologies for both ligands.\n",
      "2021-05-05 14:00:46,402:(0.01s):relative_setup:set MonteCarloBarostat because pressure was specified as 1.0 atm atmospheres\n",
      "2021-05-05 14:00:46,424:(0.02s):relative_setup:PME tolerance: 0.00025\n",
      "2021-05-05 14:00:46,555:(0.13s):relative_setup:successfully created SystemGenerator to create ligand systems\n",
      "2021-05-05 14:00:46,559:(0.00s):relative_setup:executing SmallMoleculeSetProposalEngine...\n",
      "2021-05-05 14:00:46,563:(0.00s):relative_setup:instantiating FFAllAngleGeometryEngine...\n",
      "2021-05-05 14:00:46,565:(0.00s):relative_setup:Detected solvent...\n",
      "2021-05-05 14:00:46,567:(0.00s):relative_setup:no complex detected in phases...generating unique topology/geometry proposals...\n",
      "2021-05-05 14:00:46,569:(0.00s):relative_setup:solvating ligand...\n",
      "2021-05-05 14:00:46,572:(0.00s):relative_setup:box_dimensions: None\n",
      "2021-05-05 14:00:46,574:(0.00s):relative_setup:solvent padding: 9.0\n",
      "2021-05-05 14:00:46,577:(0.00s):relative_setup:\tpreparing to add solvent\n",
      "2021-05-05 14:00:47,182:(0.61s):openmmforcefields.generators.template_generators:Requested to generate parameters for residue <Residue 0 (MOL) of chain 0>\n",
      "2021-05-05 14:00:47,866:(0.68s):relative_setup:\tparameterizing...\n",
      "2021-05-05 14:00:48,216:(0.35s):relative_setup:\tSystem parameterized\n",
      "2021-05-05 14:00:48,283:(0.07s):relative_setup:creating TopologyProposal\n",
      "2021-05-05 14:00:48,286:(0.00s):proposal_generator:creating current receptor topology by removing small molecule from current topology...\n",
      "2021-05-05 14:00:48,303:(0.02s):proposal_generator:small molecule start index: 0\n",
      "2021-05-05 14:00:48,307:(0.00s):proposal_generator:small molecule has 45 atoms.\n",
      "2021-05-05 14:00:48,310:(0.00s):proposal_generator:old alchemical atom indices: range(0, 45)\n",
      "2021-05-05 14:00:48,312:(0.00s):proposal_generator:proposed mol detected with smiles [H]c1c(c(c(c(c1[H])[H])N([H])c2nc3c(c(n2)OC([H])([H])C4(C(C(C(C(C4([H])[H])([H])[H])([H])[H])([H])[H])([H])[H])[H])nc(n3[H])[H])[H])[H] and logp_proposal of 0.0\n",
      "2021-05-05 14:00:48,315:(0.00s):proposal_generator:conducting proposal from [H]c1c(c(c(c(c1[H])Br)[H])N([H])c2nc3c(c(n2)OC([H])([H])C4(C(C(C(C(C4([H])[H])([H])[H])([H])[H])([H])[H])([H])[H])[H])nc(n3[H])[H])[H] to [H]c1c(c(c(c(c1[H])[H])N([H])c2nc3c(c(n2)OC([H])([H])C4(C(C(C(C(C4([H])[H])([H])[H])([H])[H])([H])[H])([H])[H])[H])nc(n3[H])[H])[H])[H]...\n",
      "2021-05-05 14:00:48,317:(0.00s):proposal_generator:building new topology with proposed molecule and current receptor topology...\n",
      "2021-05-05 14:00:48,319:(0.00s):proposal_generator:\tsetting proposed oemol title to MOL\n",
      "2021-05-05 14:00:48,321:(0.00s):proposal_generator:\tcreating mol topology from oemol...\n",
      "2021-05-05 14:00:48,324:(0.00s):proposal_generator:\tappending current receptor topology to new mol topology...\n",
      "2021-05-05 14:00:48,344:(0.02s):proposal_generator:\tperiodic box vectors of the current receptor is specified; copying to new topology...\n",
      "2021-05-05 14:00:48,348:(0.00s):proposal_generator:new molecule has a start index of 2152 and 45 atoms.\n",
      "2021-05-05 14:00:48,350:(0.00s):proposal_generator:proceeding to build the new system from the new topology...\n",
      "2021-05-05 14:00:48,393:(0.04s):openmmforcefields.generators.template_generators:Requested to generate parameters for residue <Residue 720 (MOL) of chain 3>\n",
      "2021-05-05 14:00:48,738:(0.34s):proposal_generator:determining atom map between old and new molecules...\n",
      "2021-05-05 14:00:48,742:(0.00s):proposal_generator:the atom map is not specified; proceeding to generate an atom map...\n",
      "2021-05-05 14:00:48,745:(0.00s):proposal_generator:Using geometry to chose best atom map\n",
      "2021-05-05 14:00:48,759:(0.01s):proposal_generator:Scaffold has symmetry of 4\n",
      "2021-05-05 14:00:48,763:(0.00s):proposal_generator:There are 4 before filtering\n",
      "2021-05-05 14:00:48,765:(0.00s):proposal_generator:There are 4 after filtering to remove maps with fewer matches than 24 atoms\n",
      "2021-05-05 14:00:48,773:(0.01s):proposal_generator:1 scaffold maps for A\n",
      "2021-05-05 14:00:48,777:(0.00s):proposal_generator:Scaffold to molA: {0: 0, 1: 1, 2: 2, 3: 3, 8: 4, 7: 5, 6: 6, 5: 7, 4: 8, 11: 9, 10: 10, 9: 11, 23: 12, 13: 13, 14: 14, 15: 15, 16: 16, 17: 17, 18: 18, 19: 19, 20: 20, 21: 21, 22: 22, 12: 23}\n",
      "2021-05-05 14:00:48,785:(0.01s):proposal_generator:1 scaffold maps for B\n",
      "2021-05-05 14:00:48,788:(0.00s):proposal_generator:Scaffold to molB: {0: 0, 1: 1, 2: 2, 3: 3, 8: 4, 7: 5, 6: 6, 5: 7, 4: 8, 11: 9, 10: 10, 9: 11, 23: 12, 13: 13, 14: 14, 15: 15, 16: 16, 17: 17, 18: 18, 19: 19, 20: 20, 21: 21, 22: 22, 12: 23}\n",
      "2021-05-05 14:00:52,202:(3.41s):proposal_generator:4 maps are reduced to 1\n",
      "2021-05-05 14:00:52,206:(0.00s):proposal_generator:molecule_maps_scores: dict_keys([19.8560123167367])\n",
      "2021-05-05 14:00:52,208:(0.00s):proposal_generator:Returning map with closest geometry satisfaction\n",
      "2021-05-05 14:00:52,414:(0.21s):proposal_generator:Proposed transformation would delete 1 atoms and create 1 atoms.\n",
      "2021-05-05 14:00:52,418:(0.00s):relative_setup:conducting geometry proposal...\n",
      "2021-05-05 14:00:52,421:(0.00s):geometry:propose: performing forward proposal\n",
      "2021-05-05 14:00:52,424:(0.00s):geometry:propose: unique new atoms detected; proceeding to _logp_propose...\n"
     ]
    },
    {
     "name": "stderr",
     "output_type": "stream",
     "text": [
      "2021-05-05 14:00:52,426:(0.00s):geometry:Conducting forward proposal...\n",
      "2021-05-05 14:00:52,429:(0.00s):geometry:Computing proposal order with NetworkX...\n",
      "2021-05-05 14:00:52,447:(0.02s):geometry:number of atoms to be placed: 1\n",
      "2021-05-05 14:00:52,450:(0.00s):geometry:Atom index proposal order is [2190]\n",
      "2021-05-05 14:00:52,452:(0.00s):geometry:omitted_bonds: []\n",
      "2021-05-05 14:00:52,455:(0.00s):geometry:direction of proposal is forward; creating atoms_with_positions and new positions from old system/topology...\n",
      "2021-05-05 14:00:53,082:(0.63s):geometry:creating growth system...\n",
      "2021-05-05 14:00:53,171:(0.09s):geometry:\tcreating bond force...\n",
      "2021-05-05 14:00:53,175:(0.00s):geometry:\tthere are 27 bonds in reference force.\n",
      "2021-05-05 14:00:53,178:(0.00s):geometry:\tcreating angle force...\n",
      "2021-05-05 14:00:53,181:(0.00s):geometry:\tthere are 85 angles in reference force.\n",
      "2021-05-05 14:00:53,184:(0.00s):geometry:\tcreating torsion force...\n",
      "2021-05-05 14:00:53,187:(0.00s):geometry:\tcreating extra torsions force...\n",
      "2021-05-05 14:00:53,189:(0.00s):geometry:\tthere are 157 torsions in reference force.\n",
      "2021-05-05 14:00:53,194:(0.00s):geometry:\tcreating nonbonded force...\n",
      "2021-05-05 14:00:53,196:(0.00s):geometry:\t\tgrabbing reference nonbonded method, cutoff, switching function, switching distance...\n",
      "2021-05-05 14:00:53,199:(0.00s):geometry:\t\tcreating nonbonded exception force (i.e. custom bond for 1,4s)...\n",
      "2021-05-05 14:00:53,201:(0.00s):geometry:\t\tlooping through exceptions calculating growth indices, and adding appropriate interactions to custom bond force.\n",
      "2021-05-05 14:00:53,203:(0.00s):geometry:\t\tthere are 2395 in the reference Nonbonded force\n",
      "2021-05-05 14:00:53,306:(0.10s):geometry:Neglected angle terms : []\n",
      "2021-05-05 14:00:53,310:(0.00s):geometry:omitted_growth_terms: {'bonds': [], 'angles': [], 'torsions': [], '1,4s': []}\n",
      "2021-05-05 14:00:53,313:(0.00s):geometry:extra torsions: {0: (2190, 2161, 2162, 2163, [1, Quantity(value=-0.019594642035228205, unit=radian), Quantity(value=1200.0, unit=kilocalorie/mole), 1]), 1: (2190, 2161, 2162, 2191, [1, Quantity(value=-3.1361896196768977, unit=radian), Quantity(value=1200.0, unit=kilocalorie/mole), 1]), 2: (2190, 2161, 2175, 2174, [1, Quantity(value=-0.008871224163264912, unit=radian), Quantity(value=1200.0, unit=kilocalorie/mole), 1]), 3: (2190, 2161, 2175, 2196, [1, Quantity(value=3.1405837865634907, unit=radian), Quantity(value=1200.0, unit=kilocalorie/mole), 1])}\n",
      "2021-05-05 14:00:53,315:(0.00s):geometry:neglected angle terms include []\n",
      "2021-05-05 14:00:53,318:(0.00s):geometry:log probability choice of torsions and atom order: -1.3862943611198906\n",
      "2021-05-05 14:00:53,320:(0.00s):geometry:creating platform, integrators, and contexts; setting growth parameter\n"
     ]
    },
    {
     "name": "stdout",
     "output_type": "stream",
     "text": [
      "conducting subsequent work with the following platform: CUDA\n"
     ]
    },
    {
     "name": "stderr",
     "output_type": "stream",
     "text": [
      "2021-05-05 14:00:55,716:(2.40s):geometry:setting atoms_with_positions context new positions\n"
     ]
    },
    {
     "name": "stdout",
     "output_type": "stream",
     "text": [
      "conducting subsequent work with the following platform: CUDA\n"
     ]
    },
    {
     "name": "stderr",
     "output_type": "stream",
     "text": [
      "2021-05-05 14:00:57,088:(1.37s):geometry:There are 1 new atoms\n",
      "2021-05-05 14:00:57,101:(0.01s):geometry:\treduced angle potential = 2.5452613225201053.\n",
      "2021-05-05 14:00:57,247:(0.15s):geometry:\tbeginning construction of no_nonbonded final system...\n",
      "2021-05-05 14:00:57,250:(0.00s):geometry:\tinitial no-nonbonded final system forces ['HarmonicBondForce', 'HarmonicAngleForce', 'PeriodicTorsionForce', 'NonbondedForce', 'MonteCarloBarostat']\n",
      "2021-05-05 14:00:57,433:(0.18s):geometry:\tfinal no-nonbonded final system forces dict_keys(['HarmonicBondForce', 'HarmonicAngleForce', 'PeriodicTorsionForce', 'NonbondedForce'])\n",
      "2021-05-05 14:00:57,436:(0.00s):geometry:\tthere are 27 bond forces in the no-nonbonded final system\n",
      "2021-05-05 14:00:57,438:(0.00s):geometry:\tthere are 85 angle forces in the no-nonbonded final system\n",
      "2021-05-05 14:00:57,440:(0.00s):geometry:\tthere are 157 torsion forces in the no-nonbonded final system\n",
      "2021-05-05 14:00:57,442:(0.00s):geometry:forward final system defined with 0 neglected angles.\n"
     ]
    },
    {
     "name": "stdout",
     "output_type": "stream",
     "text": [
      "conducting subsequent work with the following platform: CUDA\n",
      "conducting subsequent work with the following platform: CUDA\n"
     ]
    },
    {
     "name": "stderr",
     "output_type": "stream",
     "text": [
      "2021-05-05 14:01:00,749:(3.31s):geometry:total reduced potential before atom placement: 48.41967204742058\n"
     ]
    },
    {
     "name": "stdout",
     "output_type": "stream",
     "text": [
      "conducting subsequent work with the following platform: CUDA\n",
      "conducting subsequent work with the following platform: CUDA\n",
      "conducting subsequent work with the following platform: CUDA\n"
     ]
    },
    {
     "name": "stderr",
     "output_type": "stream",
     "text": [
      "2021-05-05 14:01:03,121:(2.37s):geometry:total reduced energy added from growth system: 12.70089446248319\n",
      "2021-05-05 14:01:03,125:(0.00s):geometry:final reduced energy 61.12056585989469\n",
      "2021-05-05 14:01:03,127:(0.00s):geometry:sum of energies: 61.120566509903774\n",
      "2021-05-05 14:01:03,130:(0.00s):geometry:magnitude of difference in the energies: 6.500090830030558e-07\n",
      "2021-05-05 14:01:03,132:(0.00s):geometry:Final logp_proposal: 5.182471367848065\n"
     ]
    },
    {
     "name": "stdout",
     "output_type": "stream",
     "text": [
      "added energy components: [('CustomBondForce', 0.0), ('CustomAngleForce', 4.8653683271766175), ('CustomTorsionForce', 0.03689994064631425), ('CustomBondForce', 7.798626194660256)]\n"
     ]
    },
    {
     "name": "stderr",
     "output_type": "stream",
     "text": [
      "2021-05-05 14:01:03,281:(0.15s):geometry:logp_reverse: performing reverse proposal\n",
      "2021-05-05 14:01:03,284:(0.00s):geometry:logp_reverse: unique new atoms detected; proceeding to _logp_propose...\n",
      "2021-05-05 14:01:03,286:(0.00s):geometry:Conducting forward proposal...\n",
      "2021-05-05 14:01:03,289:(0.00s):geometry:Computing proposal order with NetworkX...\n",
      "2021-05-05 14:01:03,306:(0.02s):geometry:number of atoms to be placed: 1\n",
      "2021-05-05 14:01:03,309:(0.00s):geometry:Atom index proposal order is [44]\n",
      "2021-05-05 14:01:03,311:(0.00s):geometry:omitted_bonds: []\n",
      "2021-05-05 14:01:03,314:(0.00s):geometry:direction of proposal is reverse; creating atoms_with_positions from old system/topology\n",
      "2021-05-05 14:01:03,555:(0.24s):geometry:creating growth system...\n",
      "2021-05-05 14:01:03,630:(0.07s):geometry:\tcreating bond force...\n",
      "2021-05-05 14:01:03,633:(0.00s):geometry:\tthere are 28 bonds in reference force.\n",
      "2021-05-05 14:01:03,636:(0.00s):geometry:\tcreating angle force...\n",
      "2021-05-05 14:01:03,638:(0.00s):geometry:\tthere are 85 angles in reference force.\n",
      "2021-05-05 14:01:03,642:(0.00s):geometry:\tcreating torsion force...\n",
      "2021-05-05 14:01:03,644:(0.00s):geometry:\tcreating extra torsions force...\n",
      "2021-05-05 14:01:03,646:(0.00s):geometry:\tthere are 157 torsions in reference force.\n",
      "2021-05-05 14:01:03,650:(0.00s):geometry:\tcreating nonbonded force...\n",
      "2021-05-05 14:01:03,652:(0.00s):geometry:\t\tgrabbing reference nonbonded method, cutoff, switching function, switching distance...\n",
      "2021-05-05 14:01:03,654:(0.00s):geometry:\t\tcreating nonbonded exception force (i.e. custom bond for 1,4s)...\n",
      "2021-05-05 14:01:03,656:(0.00s):geometry:\t\tlooping through exceptions calculating growth indices, and adding appropriate interactions to custom bond force.\n",
      "2021-05-05 14:01:03,658:(0.00s):geometry:\t\tthere are 2395 in the reference Nonbonded force\n",
      "2021-05-05 14:01:03,744:(0.09s):geometry:Neglected angle terms : []\n",
      "2021-05-05 14:01:03,748:(0.00s):geometry:omitted_growth_terms: {'bonds': [], 'angles': [], 'torsions': [], '1,4s': []}\n",
      "2021-05-05 14:01:03,750:(0.00s):geometry:extra torsions: {0: (9, 10, 11, 44, [1, Quantity(value=0.017128570696415935, unit=radian), Quantity(value=1200.0, unit=kilocalorie/mole), 1]), 1: (39, 10, 11, 44, [1, Quantity(value=3.1337857477223063, unit=radian), Quantity(value=1200.0, unit=kilocalorie/mole), 1]), 2: (44, 11, 12, 22, [1, Quantity(value=0.00863885124394681, unit=radian), Quantity(value=1200.0, unit=kilocalorie/mole), 1]), 3: (44, 11, 12, 40, [1, Quantity(value=-3.1382699121359634, unit=radian), Quantity(value=1200.0, unit=kilocalorie/mole), 1])}\n",
      "2021-05-05 14:01:03,752:(0.00s):geometry:neglected angle terms include []\n",
      "2021-05-05 14:01:03,755:(0.00s):geometry:log probability choice of torsions and atom order: -1.3862943611198906\n",
      "2021-05-05 14:01:03,757:(0.00s):geometry:creating platform, integrators, and contexts; setting growth parameter\n"
     ]
    },
    {
     "name": "stdout",
     "output_type": "stream",
     "text": [
      "conducting subsequent work with the following platform: CUDA\n"
     ]
    },
    {
     "name": "stderr",
     "output_type": "stream",
     "text": [
      "2021-05-05 14:01:05,063:(1.31s):geometry:setting atoms_with_positions context old positions\n"
     ]
    },
    {
     "name": "stdout",
     "output_type": "stream",
     "text": [
      "conducting subsequent work with the following platform: CUDA\n"
     ]
    },
    {
     "name": "stderr",
     "output_type": "stream",
     "text": [
      "2021-05-05 14:01:05,791:(0.73s):geometry:There are 1 new atoms\n",
      "2021-05-05 14:01:05,795:(0.00s):geometry:\treduced angle potential = 0.03380441319981336.\n",
      "2021-05-05 14:01:05,898:(0.10s):geometry:\tbeginning construction of no_nonbonded final system...\n",
      "2021-05-05 14:01:05,900:(0.00s):geometry:\tinitial no-nonbonded final system forces ['HarmonicBondForce', 'HarmonicAngleForce', 'PeriodicTorsionForce', 'NonbondedForce', 'MonteCarloBarostat']\n",
      "2021-05-05 14:01:06,009:(0.11s):geometry:\tfinal no-nonbonded final system forces dict_keys(['HarmonicBondForce', 'HarmonicAngleForce', 'PeriodicTorsionForce', 'NonbondedForce'])\n",
      "2021-05-05 14:01:06,011:(0.00s):geometry:\tthere are 28 bond forces in the no-nonbonded final system\n",
      "2021-05-05 14:01:06,013:(0.00s):geometry:\tthere are 85 angle forces in the no-nonbonded final system\n",
      "2021-05-05 14:01:06,014:(0.00s):geometry:\tthere are 157 torsion forces in the no-nonbonded final system\n",
      "2021-05-05 14:01:06,016:(0.00s):geometry:reverse final system defined with 0 neglected angles.\n"
     ]
    },
    {
     "name": "stdout",
     "output_type": "stream",
     "text": [
      "conducting subsequent work with the following platform: CUDA\n"
     ]
    },
    {
     "name": "stderr",
     "output_type": "stream",
     "text": [
      "2021-05-05 14:01:07,791:(1.77s):geometry:total reduced potential before atom placement: 48.41899607369698\n"
     ]
    },
    {
     "name": "stdout",
     "output_type": "stream",
     "text": [
      "conducting subsequent work with the following platform: CUDA\n",
      "conducting subsequent work with the following platform: CUDA\n",
      "conducting subsequent work with the following platform: CUDA\n",
      "conducting subsequent work with the following platform: CUDA\n"
     ]
    },
    {
     "name": "stderr",
     "output_type": "stream",
     "text": [
      "2021-05-05 14:01:09,611:(1.82s):geometry:total reduced energy added from growth system: -5.056836675687361\n",
      "2021-05-05 14:01:09,613:(0.00s):geometry:final reduced energy 43.36216011253515\n",
      "2021-05-05 14:01:09,615:(0.00s):geometry:sum of energies: 43.362159398009624\n",
      "2021-05-05 14:01:09,617:(0.00s):geometry:magnitude of difference in the energies: 7.145255302987152e-07\n",
      "2021-05-05 14:01:09,619:(0.00s):geometry:Final logp_proposal: 11.565896514368891\n",
      "2021-05-05 14:01:09,772:(0.15s):root:\twriting pickle output...\n"
     ]
    },
    {
     "name": "stdout",
     "output_type": "stream",
     "text": [
      "added energy components: [('CustomBondForce', 0.0879842954280575), ('CustomAngleForce', 0.04605409749261916), ('CustomTorsionForce', 0.005423562569706604), ('CustomBondForce', -5.1962986311777435)]\n"
     ]
    },
    {
     "name": "stderr",
     "output_type": "stream",
     "text": [
      "2021-05-05 14:01:09,935:(0.16s):root:\tsuccessfully dumped pickle.\n",
      "2021-05-05 14:01:09,939:(0.00s):root:\tsetup is complete.  Writing proposals and positions for each phase to top_prop dict...\n",
      "2021-05-05 14:01:09,941:(0.00s):root:\twriting atom_mapping.png\n",
      "2021-05-05 14:01:10,554:(0.61s):root:\t steps per move application: 50\n",
      "2021-05-05 14:01:10,557:(0.00s):root:\ttrajectory prefix: out\n",
      "2021-05-05 14:01:10,559:(0.00s):root:\tatom selection detected: not water\n",
      "2021-05-05 14:01:10,561:(0.00s):root:\tno nonequilibrium detected.\n",
      "2021-05-05 14:01:10,562:(0.00s):root:\tcataloging HybridTopologyFactories...\n",
      "2021-05-05 14:01:10,564:(0.00s):root:\t\tphase: solvent:\n",
      "2021-05-05 14:01:10,565:(0.00s):root:\t\twriting HybridTopologyFactory for phase solvent...\n",
      "2021-05-05 14:01:10,567:(0.00s):relative:*** Generating RxnHybridTopologyFactory ***\n",
      "2021-05-05 14:01:10,569:(0.00s):relative:Beginning nonbonded method, total particle, barostat, and exceptions retrieval...\n",
      "2021-05-05 14:01:10,623:(0.05s):relative:Old system forces: dict_keys(['HarmonicBondForce', 'HarmonicAngleForce', 'PeriodicTorsionForce', 'NonbondedForce', 'MonteCarloBarostat'])\n",
      "2021-05-05 14:01:10,626:(0.00s):relative:New system forces: dict_keys(['HarmonicBondForce', 'HarmonicAngleForce', 'PeriodicTorsionForce', 'NonbondedForce', 'MonteCarloBarostat'])\n",
      "2021-05-05 14:01:10,628:(0.00s):relative:No unknown forces.\n",
      "2021-05-05 14:01:10,629:(0.00s):relative:Nonbonded method to be used (i.e. from old system): 4\n",
      "2021-05-05 14:01:10,631:(0.00s):relative:Adding and mapping old atoms to hybrid system...\n",
      "2021-05-05 14:01:10,652:(0.02s):relative:Adding and mapping new atoms to hybrid system...\n",
      "2021-05-05 14:01:10,654:(0.00s):relative:scale_templates: [['nonscale_lambda'], ['nonscale_region']]\n",
      "2021-05-05 14:01:10,656:(0.00s):relative:Added MonteCarloBarostat.\n",
      "2021-05-05 14:01:10,657:(0.00s):relative:getDefaultPeriodicBoxVectors added to hybrid: [Quantity(value=Vec3(x=2.875229835510254, y=0.0, z=0.0), unit=nanometer), Quantity(value=Vec3(x=0.0, y=2.875229835510254, z=0.0), unit=nanometer), Quantity(value=Vec3(x=0.0, y=0.0, z=2.875229835510254), unit=nanometer)]\n",
      "2021-05-05 14:01:10,660:(0.00s):relative:Determined atom classes.\n",
      "2021-05-05 14:01:10,662:(0.00s):relative:Generating old system exceptions dict...\n",
      "2021-05-05 14:01:10,674:(0.01s):relative:Generating new system exceptions dict...\n",
      "2021-05-05 14:01:10,694:(0.02s):relative:Handling constraints...\n",
      "2021-05-05 14:01:10,740:(0.05s):relative:Handling virtual sites...\n",
      "2021-05-05 14:01:10,743:(0.00s):relative:\t_handle_virtual_sites: numVirtualSites: 0\n",
      "2021-05-05 14:01:10,804:(0.06s):root:'use_given_geometries' was passed to setup; skipping endstate validation\n",
      "2021-05-05 14:01:10,806:(0.00s):root:omitting sampler construction\n"
     ]
    }
   ],
   "source": [
    "# Create a htf\n",
    "setup_directory = resource_filename(\"perses\", \"data/cdk2-example\")\n",
    "\n",
    "# Get options\n",
    "from perses.app.setup_relative_calculation import getSetupOptions\n",
    "yaml_filename = os.path.join(setup_directory, \"cdk2_setup_repex.yaml\")\n",
    "setup_options = getSetupOptions(yaml_filename)\n",
    "\n",
    "# Update options\n",
    "for parameter in ['protein_pdb', 'ligand_file']:\n",
    "    setup_options[parameter] = os.path.join(setup_directory, setup_options[parameter])\n",
    "    \n",
    "setup_options['rxn_field'] = True\n",
    "setup_options['phases'] = ['solvent']\n",
    "setup_options['scale_regions'] = None\n",
    "setup_options['validate_endstate_energies'] = False\n",
    "    \n",
    "setup_dict = setup_relative_calculation.run_setup(setup_options, serialize_systems=False, build_samplers=False)"
   ]
  },
  {
   "cell_type": "code",
   "execution_count": 55,
   "id": "03f43952",
   "metadata": {},
   "outputs": [
    {
     "data": {
      "text/plain": [
       "{'protein_pdb': '/home/zhangi/miniconda3/envs/perses-rxn-field/lib/python3.8/site-packages/perses-0.8.2.dev0-py3.8.egg/perses/data/cdk2-example/CDK2_fixed_nohet.pdb',\n",
       " 'ligand_file': '/home/zhangi/miniconda3/envs/perses-rxn-field/lib/python3.8/site-packages/perses-0.8.2.dev0-py3.8.egg/perses/data/cdk2-example/CDK2_ligands.sdf',\n",
       " 'old_ligand_index': 14,\n",
       " 'new_ligand_index': 15,\n",
       " 'forcefield_files': ['amber/protein.ff14SB.xml',\n",
       "  'amber/tip3p_standard.xml',\n",
       "  'amber/tip3p_HFE_multivalent.xml'],\n",
       " 'small_molecule_forcefield': 'gaff-2.11',\n",
       " 'small_molecule_parameters_cache': 'cdk2-cache.json',\n",
       " 'pressure': 1.0,\n",
       " 'temperature': 300.0,\n",
       " 'solvent_padding': 9.0,\n",
       " 'save_setup_pickle_as': 'fesetup_hbonds.pkl',\n",
       " 'n_steps_per_move_application': 50,\n",
       " 'fe_type': 'repex',\n",
       " 'checkpoint_interval': 250,\n",
       " 'n_cycles': 2,\n",
       " 'n_states': 6,\n",
       " 'n_equilibration_iterations': 0,\n",
       " 'trajectory_directory': 'output',\n",
       " 'trajectory_prefix': 'out',\n",
       " 'atom_selection': 'not water',\n",
       " 'phases': ['solvent'],\n",
       " 'protocol-type': 'default',\n",
       " 'ionic_strength': 0.15,\n",
       " 'remove_constraints': False,\n",
       " 'spectators': None,\n",
       " 'complex_box_dimensions': None,\n",
       " 'solvent_box_dimensions': None,\n",
       " 'neglect_angles': False,\n",
       " 'anneal_1,4s': False,\n",
       " 'nonbonded_method': 'PME',\n",
       " 'render_atom_map': True,\n",
       " 'run_type': None,\n",
       " 'offline-freq': 10,\n",
       " 'atom_expr': None,\n",
       " 'bond_expr': None,\n",
       " 'map_strength': None,\n",
       " 'softcore_v2': False,\n",
       " 'rxn_field': True,\n",
       " 'scale_regions': None,\n",
       " 'validate_endstate_energies': False}"
      ]
     },
     "execution_count": 55,
     "metadata": {},
     "output_type": "execute_result"
    }
   ],
   "source": [
    "setup_options"
   ]
  },
  {
   "cell_type": "code",
   "execution_count": 56,
   "id": "058f9b83",
   "metadata": {
    "scrolled": true
   },
   "outputs": [],
   "source": [
    "htf = setup_dict['hybrid_topology_factories']['solvent']"
   ]
  },
  {
   "cell_type": "code",
   "execution_count": 57,
   "id": "be703515",
   "metadata": {},
   "outputs": [],
   "source": [
    "# Save htf\n",
    "with open(\"cdk2_solvent.pickle\", \"wb\") as f:\n",
    "    pickle.dump(htf, f)"
   ]
  },
  {
   "cell_type": "markdown",
   "id": "115af5f8",
   "metadata": {},
   "source": [
    "### Test one alchemical region, no scale regions"
   ]
  },
  {
   "cell_type": "markdown",
   "id": "60604039",
   "metadata": {},
   "source": [
    "#### Old system HarmonicBondForce vs hybrid system CustomBondForce"
   ]
  },
  {
   "cell_type": "code",
   "execution_count": 58,
   "id": "c301b106",
   "metadata": {},
   "outputs": [],
   "source": [
    "# Load htf\n",
    "with open(\"/home/zhangi/choderalab/perses_benchmark/perses_protein_mutations/code/26_rxn_field/cdk2_solvent.pickle\", \"rb\") as f:\n",
    "    htf = pickle.load(f)"
   ]
  },
  {
   "cell_type": "code",
   "execution_count": 60,
   "id": "41891b46",
   "metadata": {},
   "outputs": [
    {
     "name": "stdout",
     "output_type": "stream",
     "text": [
      "{235: 78, 270: 113, 297: 140, 298: 141, 303: 146}\n",
      "Warning: Returning CPU platform instead of requested platform <simtk.openmm.openmm.Platform; proxy of <Swig Object of type 'OpenMM::Platform *' at 0x2b62f7eda7e0> >\n",
      "conducting subsequent work with the following platform: CPU\n",
      "conducting subsequent work with the following platform: CUDA\n",
      "[('HarmonicBondForce', 4.608082977954756), ('HarmonicAngleForce', 29.199523609209102), ('PeriodicTorsionForce', 15.076747992617829), ('NonbondedForce', 1043.4735475113737), ('AndersenThermostat', 0.0), ('MonteCarloBarostat', 0.0)]\n",
      "conducting subsequent work with the following platform: CUDA\n",
      "[('CustomBondForce', 4.608082977954756), ('CustomAngleForce', 34.0975454150916), ('CustomTorsionForce', 15.07675469305873), ('AndersenThermostat', 0.0), ('MonteCarloBarostat', 0.0)]\n",
      "Success! Custom torsion force and standard torsion force energies are equal!\n"
     ]
    }
   ],
   "source": [
    "test_torsion_energies(htf, is_solvated=True)"
   ]
  },
  {
   "cell_type": "markdown",
   "id": "1aa884bc",
   "metadata": {},
   "source": [
    "#### New system HarmonicBondForce vs hybrid system CustomBondForce"
   ]
  },
  {
   "cell_type": "code",
   "execution_count": 61,
   "id": "ea1e2d34",
   "metadata": {},
   "outputs": [],
   "source": [
    "# Load htf\n",
    "with open(\"/home/zhangi/choderalab/perses_benchmark/perses_protein_mutations/code/26_rxn_field/cdk2_solvent.pickle\", \"rb\") as f:\n",
    "    htf = pickle.load(f)"
   ]
  },
  {
   "cell_type": "code",
   "execution_count": 62,
   "id": "efc8566f",
   "metadata": {},
   "outputs": [
    {
     "name": "stdout",
     "output_type": "stream",
     "text": [
      "{70: 70, 112: 112, 142: 142, 143: 143, 148: 148}\n",
      "Warning: Returning CPU platform instead of requested platform <simtk.openmm.openmm.Platform; proxy of <Swig Object of type 'OpenMM::Platform *' at 0x2b62f7eda7e0> >\n",
      "conducting subsequent work with the following platform: CPU\n",
      "conducting subsequent work with the following platform: CUDA\n",
      "[('HarmonicBondForce', 4.519508183899664), ('HarmonicAngleForce', 34.05118222969635), ('PeriodicTorsionForce', 15.109114462408588), ('NonbondedForce', 1058.4544025553776), ('AndersenThermostat', 0.0), ('MonteCarloBarostat', 0.0)]\n",
      "conducting subsequent work with the following platform: CUDA\n",
      "[('CustomBondForce', 4.608082977954756), ('CustomAngleForce', 34.0975454150916), ('CustomTorsionForce', 15.109123120341874), ('AndersenThermostat', 0.0), ('MonteCarloBarostat', 0.0)]\n",
      "Success! Custom torsion force and standard torsion force energies are equal!\n"
     ]
    }
   ],
   "source": [
    "test_torsion_energies(htf, is_old=False, is_solvated=True)"
   ]
  },
  {
   "cell_type": "markdown",
   "id": "b390ade2",
   "metadata": {},
   "source": [
    "### Test one alchemical region, one scale region"
   ]
  },
  {
   "cell_type": "code",
   "execution_count": 63,
   "id": "8671a075",
   "metadata": {},
   "outputs": [],
   "source": [
    "import os\n",
    "from pkg_resources import resource_filename\n",
    "from perses.app import setup_relative_calculation\n",
    "import pickle"
   ]
  },
  {
   "cell_type": "code",
   "execution_count": 64,
   "id": "63072c61",
   "metadata": {
    "scrolled": true
   },
   "outputs": [
    {
     "name": "stderr",
     "output_type": "stream",
     "text": [
      "2021-05-05 14:01:40,667:(29.86s):root:\tDetecting phases...\n",
      "2021-05-05 14:01:40,671:(0.00s):root:\t\tphases detected: ['complex', 'solvent', 'vacuum']\n",
      "2021-05-05 14:01:40,675:(0.00s):root:No constraints will be removed\n",
      "2021-05-05 14:01:40,677:(0.00s):root:No spectators\n",
      "2021-05-05 14:01:40,680:(0.00s):root:\t\t\trun_type is not specified; default to None\n",
      "2021-05-05 14:01:40,682:(0.00s):root:\tDetecting fe_type...\n",
      "2021-05-05 14:01:40,684:(0.00s):root:\t\tfe_type: repex\n",
      "2021-05-05 14:01:40,686:(0.00s):root:\t\t\toffline-freq not specified: default to 10.\n",
      "2021-05-05 14:01:40,687:(0.00s):root:\t'neglect_angles' detected: False.\n",
      "2021-05-05 14:01:40,688:(0.00s):root:\t'softcore_v2' not specified: default to 'False'\n",
      "2021-05-05 14:01:40,689:(0.00s):root:\tCreating 'output'...\n",
      "2021-05-05 14:01:40,701:(0.01s):root:\tdetected ligand file: /home/zhangi/miniconda3/envs/perses-rxn-field/lib/python3.8/site-packages/perses-0.8.2.dev0-py3.8.egg/perses/data/cdk2-example/CDK2_ligands.sdf\n",
      "2021-05-05 14:01:40,702:(0.00s):root:\told ligand index: 14; new ligand index: 15\n",
      "2021-05-05 14:01:40,703:(0.00s):root:\tsetting up forcefield files...\n",
      "2021-05-05 14:01:40,704:(0.00s):root:\tno timestep detected: setting default as 1.0fs.\n",
      "2021-05-05 14:01:40,704:(0.00s):root:\tno splitting strings specified: defaulting to neq: V R O R V, eq: V R O R V.\n",
      "2021-05-05 14:01:40,705:(0.00s):root:\tno measure_shadow_work specified: defaulting to False.\n",
      "2021-05-05 14:01:40,706:(0.00s):root:\tsetting pressure: 1.0 atm.\n",
      "2021-05-05 14:01:40,707:(0.00s):root:\tsetting temperature: 300.0 K.\n",
      "2021-05-05 14:01:40,707:(0.00s):root:\tsetting solvent padding: 9.0 AA.\n",
      "2021-05-05 14:01:40,708:(0.00s):root:\tsetting ionic strength: 0.15 MM.\n",
      "2021-05-05 14:01:40,709:(0.00s):root:\tsetup pickle file: fesetup_hbonds.pkl\n",
      "2021-05-05 14:01:40,710:(0.00s):root:\ttrajectory directory: output\n",
      "2021-05-05 14:01:40,710:(0.00s):root:\tno atom map specified: default to None.\n",
      "2021-05-05 14:01:40,711:(0.00s):root:\tno topology_proposal specified; proceeding to RelativeFEPSetup...\n",
      "\n",
      "\n",
      "\n",
      "2021-05-05 14:01:40,712:(0.00s):root:Box dimensions: None and None\n",
      "2021-05-05 14:01:40,713:(0.00s):relative_setup:\t\t\t_hmass: 4 Da.\n",
      "\n",
      "2021-05-05 14:01:40,713:(0.00s):relative_setup:Setting non bonded method to PME\n",
      "2021-05-05 14:01:40,714:(0.00s):relative_setup:Handling files for ligands and indices...\n",
      "2021-05-05 14:01:40,715:(0.00s):relative_setup:Detected .sdf format.  Proceeding...\n",
      "2021-05-05 14:01:40,737:(0.02s):utils.openeye:molecule 17                      does not have unique atom names. Generating now...\n",
      "2021-05-05 14:01:40,746:(0.01s):utils.openeye:molecule 1h1q                      does not have unique atom names. Generating now...\n",
      "2021-05-05 14:01:40,752:(0.01s):relative_setup:\tsuccessfully extracted positions from OEMOL.\n",
      "2021-05-05 14:01:40,767:(0.02s):relative_setup:\tsetting both molecule oemol titles to 'MOL'.\n",
      "2021-05-05 14:01:40,768:(0.00s):relative_setup:\tsuccessfully created SMILES for both ligand OEMOLs.\n",
      "2021-05-05 14:01:40,771:(0.00s):relative_setup:\tsuccessfully generated topologies for both OEMOLs.\n",
      "2021-05-05 14:01:40,773:(0.00s):relative_setup:Created mdtraj topologies for both ligands.\n",
      "2021-05-05 14:01:40,774:(0.00s):relative_setup:set MonteCarloBarostat because pressure was specified as 1.0 atm atmospheres\n",
      "2021-05-05 14:01:40,803:(0.03s):relative_setup:PME tolerance: 0.00025\n",
      "2021-05-05 14:01:41,190:(0.39s):relative_setup:successfully created SystemGenerator to create ligand systems\n",
      "2021-05-05 14:01:41,193:(0.00s):relative_setup:executing SmallMoleculeSetProposalEngine...\n",
      "2021-05-05 14:01:41,197:(0.00s):relative_setup:instantiating FFAllAngleGeometryEngine...\n",
      "2021-05-05 14:01:41,199:(0.00s):relative_setup:Detected solvent...\n",
      "2021-05-05 14:01:41,202:(0.00s):relative_setup:no complex detected in phases...generating unique topology/geometry proposals...\n",
      "2021-05-05 14:01:41,205:(0.00s):relative_setup:solvating ligand...\n",
      "2021-05-05 14:01:41,207:(0.00s):relative_setup:box_dimensions: None\n",
      "2021-05-05 14:01:41,209:(0.00s):relative_setup:solvent padding: 9.0\n",
      "2021-05-05 14:01:41,211:(0.00s):relative_setup:\tpreparing to add solvent\n",
      "2021-05-05 14:01:41,547:(0.34s):openmmforcefields.generators.template_generators:Requested to generate parameters for residue <Residue 0 (MOL) of chain 0>\n",
      "2021-05-05 14:01:42,197:(0.65s):relative_setup:\tparameterizing...\n",
      "2021-05-05 14:01:42,554:(0.36s):relative_setup:\tSystem parameterized\n",
      "2021-05-05 14:01:42,621:(0.07s):relative_setup:creating TopologyProposal\n",
      "2021-05-05 14:01:42,624:(0.00s):proposal_generator:creating current receptor topology by removing small molecule from current topology...\n",
      "2021-05-05 14:01:42,647:(0.02s):proposal_generator:small molecule start index: 0\n",
      "2021-05-05 14:01:42,650:(0.00s):proposal_generator:small molecule has 45 atoms.\n",
      "2021-05-05 14:01:42,653:(0.00s):proposal_generator:old alchemical atom indices: range(0, 45)\n",
      "2021-05-05 14:01:42,656:(0.00s):proposal_generator:proposed mol detected with smiles [H]c1c(c(c(c(c1[H])[H])N([H])c2nc3c(c(n2)OC([H])([H])C4(C(C(C(C(C4([H])[H])([H])[H])([H])[H])([H])[H])([H])[H])[H])nc(n3[H])[H])[H])[H] and logp_proposal of 0.0\n",
      "2021-05-05 14:01:42,659:(0.00s):proposal_generator:conducting proposal from [H]c1c(c(c(c(c1[H])Br)[H])N([H])c2nc3c(c(n2)OC([H])([H])C4(C(C(C(C(C4([H])[H])([H])[H])([H])[H])([H])[H])([H])[H])[H])nc(n3[H])[H])[H] to [H]c1c(c(c(c(c1[H])[H])N([H])c2nc3c(c(n2)OC([H])([H])C4(C(C(C(C(C4([H])[H])([H])[H])([H])[H])([H])[H])([H])[H])[H])nc(n3[H])[H])[H])[H]...\n",
      "2021-05-05 14:01:42,661:(0.00s):proposal_generator:building new topology with proposed molecule and current receptor topology...\n",
      "2021-05-05 14:01:42,664:(0.00s):proposal_generator:\tsetting proposed oemol title to MOL\n",
      "2021-05-05 14:01:42,666:(0.00s):proposal_generator:\tcreating mol topology from oemol...\n",
      "2021-05-05 14:01:42,672:(0.01s):proposal_generator:\tappending current receptor topology to new mol topology...\n",
      "2021-05-05 14:01:42,692:(0.02s):proposal_generator:\tperiodic box vectors of the current receptor is specified; copying to new topology...\n",
      "2021-05-05 14:01:42,695:(0.00s):proposal_generator:new molecule has a start index of 2152 and 45 atoms.\n",
      "2021-05-05 14:01:42,698:(0.00s):proposal_generator:proceeding to build the new system from the new topology...\n",
      "2021-05-05 14:01:42,739:(0.04s):openmmforcefields.generators.template_generators:Requested to generate parameters for residue <Residue 720 (MOL) of chain 3>\n",
      "2021-05-05 14:01:43,107:(0.37s):proposal_generator:determining atom map between old and new molecules...\n",
      "2021-05-05 14:01:43,111:(0.00s):proposal_generator:the atom map is not specified; proceeding to generate an atom map...\n",
      "2021-05-05 14:01:43,114:(0.00s):proposal_generator:Using geometry to chose best atom map\n",
      "2021-05-05 14:01:43,132:(0.02s):proposal_generator:Scaffold has symmetry of 4\n",
      "2021-05-05 14:01:43,136:(0.00s):proposal_generator:There are 4 before filtering\n",
      "2021-05-05 14:01:43,139:(0.00s):proposal_generator:There are 4 after filtering to remove maps with fewer matches than 24 atoms\n",
      "2021-05-05 14:01:43,149:(0.01s):proposal_generator:1 scaffold maps for A\n",
      "2021-05-05 14:01:43,153:(0.00s):proposal_generator:Scaffold to molA: {0: 0, 1: 1, 2: 2, 3: 3, 8: 4, 7: 5, 6: 6, 5: 7, 4: 8, 11: 9, 10: 10, 9: 11, 23: 12, 13: 13, 14: 14, 15: 15, 16: 16, 17: 17, 18: 18, 19: 19, 20: 20, 21: 21, 22: 22, 12: 23}\n",
      "2021-05-05 14:01:43,163:(0.01s):proposal_generator:1 scaffold maps for B\n",
      "2021-05-05 14:01:43,167:(0.00s):proposal_generator:Scaffold to molB: {0: 0, 1: 1, 2: 2, 3: 3, 8: 4, 7: 5, 6: 6, 5: 7, 4: 8, 11: 9, 10: 10, 9: 11, 23: 12, 13: 13, 14: 14, 15: 15, 16: 16, 17: 17, 18: 18, 19: 19, 20: 20, 21: 21, 22: 22, 12: 23}\n",
      "2021-05-05 14:01:46,681:(3.51s):proposal_generator:4 maps are reduced to 1\n",
      "2021-05-05 14:01:46,684:(0.00s):proposal_generator:molecule_maps_scores: dict_keys([19.8560123167367])\n",
      "2021-05-05 14:01:46,687:(0.00s):proposal_generator:Returning map with closest geometry satisfaction\n",
      "2021-05-05 14:01:46,868:(0.18s):proposal_generator:Proposed transformation would delete 1 atoms and create 1 atoms.\n",
      "2021-05-05 14:01:46,872:(0.00s):relative_setup:conducting geometry proposal...\n",
      "2021-05-05 14:01:46,875:(0.00s):geometry:propose: performing forward proposal\n",
      "2021-05-05 14:01:46,878:(0.00s):geometry:propose: unique new atoms detected; proceeding to _logp_propose...\n"
     ]
    },
    {
     "name": "stderr",
     "output_type": "stream",
     "text": [
      "2021-05-05 14:01:46,880:(0.00s):geometry:Conducting forward proposal...\n",
      "2021-05-05 14:01:46,882:(0.00s):geometry:Computing proposal order with NetworkX...\n",
      "2021-05-05 14:01:46,902:(0.02s):geometry:number of atoms to be placed: 1\n",
      "2021-05-05 14:01:46,906:(0.00s):geometry:Atom index proposal order is [2190]\n",
      "2021-05-05 14:01:46,908:(0.00s):geometry:omitted_bonds: []\n",
      "2021-05-05 14:01:46,911:(0.00s):geometry:direction of proposal is forward; creating atoms_with_positions and new positions from old system/topology...\n",
      "2021-05-05 14:01:47,229:(0.32s):geometry:creating growth system...\n",
      "2021-05-05 14:01:47,316:(0.09s):geometry:\tcreating bond force...\n",
      "2021-05-05 14:01:47,319:(0.00s):geometry:\tthere are 27 bonds in reference force.\n",
      "2021-05-05 14:01:47,322:(0.00s):geometry:\tcreating angle force...\n",
      "2021-05-05 14:01:47,325:(0.00s):geometry:\tthere are 85 angles in reference force.\n",
      "2021-05-05 14:01:47,329:(0.00s):geometry:\tcreating torsion force...\n",
      "2021-05-05 14:01:47,331:(0.00s):geometry:\tcreating extra torsions force...\n",
      "2021-05-05 14:01:47,334:(0.00s):geometry:\tthere are 157 torsions in reference force.\n",
      "2021-05-05 14:01:47,338:(0.00s):geometry:\tcreating nonbonded force...\n",
      "2021-05-05 14:01:47,340:(0.00s):geometry:\t\tgrabbing reference nonbonded method, cutoff, switching function, switching distance...\n",
      "2021-05-05 14:01:47,343:(0.00s):geometry:\t\tcreating nonbonded exception force (i.e. custom bond for 1,4s)...\n",
      "2021-05-05 14:01:47,345:(0.00s):geometry:\t\tlooping through exceptions calculating growth indices, and adding appropriate interactions to custom bond force.\n",
      "2021-05-05 14:01:47,347:(0.00s):geometry:\t\tthere are 2395 in the reference Nonbonded force\n",
      "2021-05-05 14:01:47,446:(0.10s):geometry:Neglected angle terms : []\n",
      "2021-05-05 14:01:47,449:(0.00s):geometry:omitted_growth_terms: {'bonds': [], 'angles': [], 'torsions': [], '1,4s': []}\n",
      "2021-05-05 14:01:47,451:(0.00s):geometry:extra torsions: {0: (2190, 2161, 2162, 2163, [1, Quantity(value=-0.019594642035228205, unit=radian), Quantity(value=1200.0, unit=kilocalorie/mole), 1]), 1: (2190, 2161, 2162, 2191, [1, Quantity(value=-3.1361896196768977, unit=radian), Quantity(value=1200.0, unit=kilocalorie/mole), 1]), 2: (2190, 2161, 2175, 2174, [1, Quantity(value=-0.008871224163264912, unit=radian), Quantity(value=1200.0, unit=kilocalorie/mole), 1]), 3: (2190, 2161, 2175, 2196, [1, Quantity(value=3.1405837865634907, unit=radian), Quantity(value=1200.0, unit=kilocalorie/mole), 1])}\n",
      "2021-05-05 14:01:47,453:(0.00s):geometry:neglected angle terms include []\n",
      "2021-05-05 14:01:47,455:(0.00s):geometry:log probability choice of torsions and atom order: -1.3862943611198906\n",
      "2021-05-05 14:01:47,458:(0.00s):geometry:creating platform, integrators, and contexts; setting growth parameter\n"
     ]
    },
    {
     "name": "stdout",
     "output_type": "stream",
     "text": [
      "conducting subsequent work with the following platform: CUDA\n"
     ]
    },
    {
     "name": "stderr",
     "output_type": "stream",
     "text": [
      "2021-05-05 14:01:48,098:(0.64s):geometry:setting atoms_with_positions context new positions\n"
     ]
    },
    {
     "name": "stdout",
     "output_type": "stream",
     "text": [
      "conducting subsequent work with the following platform: CUDA\n"
     ]
    },
    {
     "name": "stderr",
     "output_type": "stream",
     "text": [
      "2021-05-05 14:01:48,628:(0.53s):geometry:There are 1 new atoms\n",
      "2021-05-05 14:01:48,641:(0.01s):geometry:\treduced angle potential = 0.08355376729304315.\n",
      "2021-05-05 14:01:48,816:(0.17s):geometry:\tbeginning construction of no_nonbonded final system...\n",
      "2021-05-05 14:01:48,819:(0.00s):geometry:\tinitial no-nonbonded final system forces ['HarmonicBondForce', 'HarmonicAngleForce', 'PeriodicTorsionForce', 'NonbondedForce', 'MonteCarloBarostat']\n",
      "2021-05-05 14:01:49,065:(0.25s):geometry:\tfinal no-nonbonded final system forces dict_keys(['HarmonicBondForce', 'HarmonicAngleForce', 'PeriodicTorsionForce', 'NonbondedForce'])\n",
      "2021-05-05 14:01:49,069:(0.00s):geometry:\tthere are 27 bond forces in the no-nonbonded final system\n",
      "2021-05-05 14:01:49,072:(0.00s):geometry:\tthere are 85 angle forces in the no-nonbonded final system\n",
      "2021-05-05 14:01:49,075:(0.00s):geometry:\tthere are 157 torsion forces in the no-nonbonded final system\n",
      "2021-05-05 14:01:49,078:(0.00s):geometry:forward final system defined with 0 neglected angles.\n"
     ]
    },
    {
     "name": "stdout",
     "output_type": "stream",
     "text": [
      "conducting subsequent work with the following platform: CUDA\n",
      "conducting subsequent work with the following platform: CUDA\n"
     ]
    },
    {
     "name": "stderr",
     "output_type": "stream",
     "text": [
      "2021-05-05 14:01:50,461:(1.38s):geometry:total reduced potential before atom placement: 48.41967204742058\n"
     ]
    },
    {
     "name": "stdout",
     "output_type": "stream",
     "text": [
      "conducting subsequent work with the following platform: CUDA\n",
      "conducting subsequent work with the following platform: CUDA\n",
      "conducting subsequent work with the following platform: CUDA\n"
     ]
    },
    {
     "name": "stderr",
     "output_type": "stream",
     "text": [
      "2021-05-05 14:01:52,021:(1.56s):geometry:total reduced energy added from growth system: 7.927308940175608\n",
      "2021-05-05 14:01:52,025:(0.00s):geometry:final reduced energy 56.34698122935654\n",
      "2021-05-05 14:01:52,028:(0.00s):geometry:sum of energies: 56.34698098759619\n",
      "2021-05-05 14:01:52,031:(0.00s):geometry:magnitude of difference in the energies: 2.417603459647921e-07\n",
      "2021-05-05 14:01:52,033:(0.00s):geometry:Final logp_proposal: 8.04000060782074\n"
     ]
    },
    {
     "name": "stdout",
     "output_type": "stream",
     "text": [
      "added energy components: [('CustomBondForce', 0.0), ('CustomAngleForce', 0.13001208512817256), ('CustomTorsionForce', 0.010774086712417242), ('CustomBondForce', 7.786522768335017)]\n"
     ]
    },
    {
     "name": "stderr",
     "output_type": "stream",
     "text": [
      "2021-05-05 14:01:52,198:(0.16s):geometry:logp_reverse: performing reverse proposal\n",
      "2021-05-05 14:01:52,200:(0.00s):geometry:logp_reverse: unique new atoms detected; proceeding to _logp_propose...\n",
      "2021-05-05 14:01:52,203:(0.00s):geometry:Conducting forward proposal...\n",
      "2021-05-05 14:01:52,206:(0.00s):geometry:Computing proposal order with NetworkX...\n",
      "2021-05-05 14:01:52,226:(0.02s):geometry:number of atoms to be placed: 1\n",
      "2021-05-05 14:01:52,229:(0.00s):geometry:Atom index proposal order is [44]\n",
      "2021-05-05 14:01:52,232:(0.00s):geometry:omitted_bonds: []\n",
      "2021-05-05 14:01:52,234:(0.00s):geometry:direction of proposal is reverse; creating atoms_with_positions from old system/topology\n",
      "2021-05-05 14:01:52,495:(0.26s):geometry:creating growth system...\n",
      "2021-05-05 14:01:52,580:(0.09s):geometry:\tcreating bond force...\n",
      "2021-05-05 14:01:52,583:(0.00s):geometry:\tthere are 28 bonds in reference force.\n",
      "2021-05-05 14:01:52,586:(0.00s):geometry:\tcreating angle force...\n",
      "2021-05-05 14:01:52,588:(0.00s):geometry:\tthere are 85 angles in reference force.\n",
      "2021-05-05 14:01:52,592:(0.00s):geometry:\tcreating torsion force...\n",
      "2021-05-05 14:01:52,595:(0.00s):geometry:\tcreating extra torsions force...\n",
      "2021-05-05 14:01:52,598:(0.00s):geometry:\tthere are 157 torsions in reference force.\n",
      "2021-05-05 14:01:52,602:(0.00s):geometry:\tcreating nonbonded force...\n",
      "2021-05-05 14:01:52,604:(0.00s):geometry:\t\tgrabbing reference nonbonded method, cutoff, switching function, switching distance...\n",
      "2021-05-05 14:01:52,606:(0.00s):geometry:\t\tcreating nonbonded exception force (i.e. custom bond for 1,4s)...\n",
      "2021-05-05 14:01:52,608:(0.00s):geometry:\t\tlooping through exceptions calculating growth indices, and adding appropriate interactions to custom bond force.\n",
      "2021-05-05 14:01:52,610:(0.00s):geometry:\t\tthere are 2395 in the reference Nonbonded force\n",
      "2021-05-05 14:01:52,702:(0.09s):geometry:Neglected angle terms : []\n",
      "2021-05-05 14:01:52,706:(0.00s):geometry:omitted_growth_terms: {'bonds': [], 'angles': [], 'torsions': [], '1,4s': []}\n",
      "2021-05-05 14:01:52,709:(0.00s):geometry:extra torsions: {0: (9, 10, 11, 44, [1, Quantity(value=0.017128570696415935, unit=radian), Quantity(value=1200.0, unit=kilocalorie/mole), 1]), 1: (39, 10, 11, 44, [1, Quantity(value=3.1337857477223063, unit=radian), Quantity(value=1200.0, unit=kilocalorie/mole), 1]), 2: (44, 11, 12, 22, [1, Quantity(value=0.00863885124394681, unit=radian), Quantity(value=1200.0, unit=kilocalorie/mole), 1]), 3: (44, 11, 12, 40, [1, Quantity(value=-3.1382699121359634, unit=radian), Quantity(value=1200.0, unit=kilocalorie/mole), 1])}\n",
      "2021-05-05 14:01:52,712:(0.00s):geometry:neglected angle terms include []\n",
      "2021-05-05 14:01:52,714:(0.00s):geometry:log probability choice of torsions and atom order: -1.3862943611198906\n",
      "2021-05-05 14:01:52,716:(0.00s):geometry:creating platform, integrators, and contexts; setting growth parameter\n"
     ]
    },
    {
     "name": "stdout",
     "output_type": "stream",
     "text": [
      "conducting subsequent work with the following platform: CUDA\n"
     ]
    },
    {
     "name": "stderr",
     "output_type": "stream",
     "text": [
      "2021-05-05 14:01:53,341:(0.62s):geometry:setting atoms_with_positions context old positions\n"
     ]
    },
    {
     "name": "stdout",
     "output_type": "stream",
     "text": [
      "conducting subsequent work with the following platform: CUDA\n"
     ]
    },
    {
     "name": "stderr",
     "output_type": "stream",
     "text": [
      "2021-05-05 14:01:53,834:(0.49s):geometry:There are 1 new atoms\n",
      "2021-05-05 14:01:53,841:(0.01s):geometry:\treduced angle potential = 0.012250173302112203.\n",
      "2021-05-05 14:01:53,988:(0.15s):geometry:\tbeginning construction of no_nonbonded final system...\n",
      "2021-05-05 14:01:53,991:(0.00s):geometry:\tinitial no-nonbonded final system forces ['HarmonicBondForce', 'HarmonicAngleForce', 'PeriodicTorsionForce', 'NonbondedForce', 'MonteCarloBarostat']\n",
      "2021-05-05 14:01:54,203:(0.21s):geometry:\tfinal no-nonbonded final system forces dict_keys(['HarmonicBondForce', 'HarmonicAngleForce', 'PeriodicTorsionForce', 'NonbondedForce'])\n",
      "2021-05-05 14:01:54,205:(0.00s):geometry:\tthere are 28 bond forces in the no-nonbonded final system\n",
      "2021-05-05 14:01:54,208:(0.00s):geometry:\tthere are 85 angle forces in the no-nonbonded final system\n",
      "2021-05-05 14:01:54,210:(0.00s):geometry:\tthere are 157 torsion forces in the no-nonbonded final system\n",
      "2021-05-05 14:01:54,211:(0.00s):geometry:reverse final system defined with 0 neglected angles.\n"
     ]
    },
    {
     "name": "stdout",
     "output_type": "stream",
     "text": [
      "conducting subsequent work with the following platform: CUDA\n",
      "conducting subsequent work with the following platform: CUDA\n"
     ]
    },
    {
     "name": "stderr",
     "output_type": "stream",
     "text": [
      "2021-05-05 14:01:55,505:(1.29s):geometry:total reduced potential before atom placement: 48.41899607369698\n"
     ]
    },
    {
     "name": "stdout",
     "output_type": "stream",
     "text": [
      "conducting subsequent work with the following platform: CUDA\n",
      "conducting subsequent work with the following platform: CUDA\n",
      "conducting subsequent work with the following platform: CUDA\n"
     ]
    },
    {
     "name": "stderr",
     "output_type": "stream",
     "text": [
      "2021-05-05 14:01:57,042:(1.54s):geometry:total reduced energy added from growth system: -5.056836675687361\n",
      "2021-05-05 14:01:57,046:(0.00s):geometry:final reduced energy 43.36216011253515\n",
      "2021-05-05 14:01:57,048:(0.00s):geometry:sum of energies: 43.362159398009624\n",
      "2021-05-05 14:01:57,051:(0.00s):geometry:magnitude of difference in the energies: 7.145255302987152e-07\n",
      "2021-05-05 14:01:57,053:(0.00s):geometry:Final logp_proposal: 11.562669409973775\n"
     ]
    },
    {
     "name": "stdout",
     "output_type": "stream",
     "text": [
      "added energy components: [('CustomBondForce', 0.0879842954280575), ('CustomAngleForce', 0.04605409749261916), ('CustomTorsionForce', 0.005423562569706604), ('CustomBondForce', -5.1962986311777435)]\n"
     ]
    },
    {
     "name": "stderr",
     "output_type": "stream",
     "text": [
      "2021-05-05 14:01:57,252:(0.20s):root:\twriting pickle output...\n",
      "2021-05-05 14:01:57,526:(0.27s):root:\tsuccessfully dumped pickle.\n",
      "2021-05-05 14:01:57,532:(0.01s):root:\tsetup is complete.  Writing proposals and positions for each phase to top_prop dict...\n",
      "2021-05-05 14:01:57,535:(0.00s):root:\twriting atom_mapping.png\n",
      "2021-05-05 14:01:57,635:(0.10s):root:\t steps per move application: 50\n",
      "2021-05-05 14:01:57,639:(0.00s):root:\ttrajectory prefix: out\n",
      "2021-05-05 14:01:57,642:(0.00s):root:\tatom selection detected: not water\n",
      "2021-05-05 14:01:57,645:(0.00s):root:\tno nonequilibrium detected.\n",
      "2021-05-05 14:01:57,647:(0.00s):root:\tcataloging HybridTopologyFactories...\n",
      "2021-05-05 14:01:57,650:(0.00s):root:\t\tphase: solvent:\n",
      "2021-05-05 14:01:57,653:(0.00s):root:\t\twriting HybridTopologyFactory for phase solvent...\n",
      "2021-05-05 14:01:57,655:(0.00s):relative:*** Generating RxnHybridTopologyFactory ***\n",
      "2021-05-05 14:01:57,658:(0.00s):relative:Beginning nonbonded method, total particle, barostat, and exceptions retrieval...\n",
      "2021-05-05 14:01:57,761:(0.10s):relative:Old system forces: dict_keys(['HarmonicBondForce', 'HarmonicAngleForce', 'PeriodicTorsionForce', 'NonbondedForce', 'MonteCarloBarostat'])\n",
      "2021-05-05 14:01:57,765:(0.00s):relative:New system forces: dict_keys(['HarmonicBondForce', 'HarmonicAngleForce', 'PeriodicTorsionForce', 'NonbondedForce', 'MonteCarloBarostat'])\n",
      "2021-05-05 14:01:57,767:(0.00s):relative:No unknown forces.\n",
      "2021-05-05 14:01:57,770:(0.00s):relative:Nonbonded method to be used (i.e. from old system): 4\n",
      "2021-05-05 14:01:57,773:(0.00s):relative:Adding and mapping old atoms to hybrid system...\n",
      "2021-05-05 14:01:57,812:(0.04s):relative:Adding and mapping new atoms to hybrid system...\n",
      "2021-05-05 14:01:57,815:(0.00s):relative:scale_templates: [['nonscale_lambda', 'scale_lambda_0', 'interscale_lambda_0'], ['nonscale_region', 'scale_region_0', 'interscale_region_0']]\n",
      "2021-05-05 14:01:57,818:(0.00s):relative:Added MonteCarloBarostat.\n",
      "2021-05-05 14:01:57,821:(0.00s):relative:getDefaultPeriodicBoxVectors added to hybrid: [Quantity(value=Vec3(x=2.875229835510254, y=0.0, z=0.0), unit=nanometer), Quantity(value=Vec3(x=0.0, y=2.875229835510254, z=0.0), unit=nanometer), Quantity(value=Vec3(x=0.0, y=0.0, z=2.875229835510254), unit=nanometer)]\n",
      "2021-05-05 14:01:57,826:(0.00s):relative:Determined atom classes.\n",
      "2021-05-05 14:01:57,829:(0.00s):relative:Generating old system exceptions dict...\n",
      "2021-05-05 14:01:58,171:(0.34s):relative:Generating new system exceptions dict...\n",
      "2021-05-05 14:01:58,210:(0.04s):relative:Handling constraints...\n",
      "2021-05-05 14:01:58,302:(0.09s):relative:Handling virtual sites...\n",
      "2021-05-05 14:01:58,307:(0.01s):relative:\t_handle_virtual_sites: numVirtualSites: 0\n",
      "2021-05-05 14:01:58,415:(0.11s):root:'use_given_geometries' was passed to setup; skipping endstate validation\n",
      "2021-05-05 14:01:58,418:(0.00s):root:omitting sampler construction\n"
     ]
    }
   ],
   "source": [
    "# Create a htf\n",
    "setup_directory = resource_filename(\"perses\", \"data/cdk2-example\")\n",
    "\n",
    "# Get options\n",
    "from perses.app.setup_relative_calculation import getSetupOptions\n",
    "yaml_filename = os.path.join(setup_directory, \"cdk2_setup_repex.yaml\")\n",
    "setup_options = getSetupOptions(yaml_filename)\n",
    "\n",
    "# Update options\n",
    "for parameter in ['protein_pdb', 'ligand_file']:\n",
    "    setup_options[parameter] = os.path.join(setup_directory, setup_options[parameter])\n",
    "    \n",
    "setup_options['rxn_field'] = True\n",
    "setup_options['phases'] = ['solvent']\n",
    "setup_options['scale_regions'] = [[44, 2197]]\n",
    "setup_options['validate_endstate_energies'] = False\n",
    "    \n",
    "setup_dict = setup_relative_calculation.run_setup(setup_options, serialize_systems=False, build_samplers=False)"
   ]
  },
  {
   "cell_type": "code",
   "execution_count": 65,
   "id": "26bc4fd2",
   "metadata": {},
   "outputs": [
    {
     "data": {
      "text/plain": [
       "{'protein_pdb': '/home/zhangi/miniconda3/envs/perses-rxn-field/lib/python3.8/site-packages/perses-0.8.2.dev0-py3.8.egg/perses/data/cdk2-example/CDK2_fixed_nohet.pdb',\n",
       " 'ligand_file': '/home/zhangi/miniconda3/envs/perses-rxn-field/lib/python3.8/site-packages/perses-0.8.2.dev0-py3.8.egg/perses/data/cdk2-example/CDK2_ligands.sdf',\n",
       " 'old_ligand_index': 14,\n",
       " 'new_ligand_index': 15,\n",
       " 'forcefield_files': ['amber/protein.ff14SB.xml',\n",
       "  'amber/tip3p_standard.xml',\n",
       "  'amber/tip3p_HFE_multivalent.xml'],\n",
       " 'small_molecule_forcefield': 'gaff-2.11',\n",
       " 'small_molecule_parameters_cache': 'cdk2-cache.json',\n",
       " 'pressure': 1.0,\n",
       " 'temperature': 300.0,\n",
       " 'solvent_padding': 9.0,\n",
       " 'save_setup_pickle_as': 'fesetup_hbonds.pkl',\n",
       " 'n_steps_per_move_application': 50,\n",
       " 'fe_type': 'repex',\n",
       " 'checkpoint_interval': 250,\n",
       " 'n_cycles': 2,\n",
       " 'n_states': 6,\n",
       " 'n_equilibration_iterations': 0,\n",
       " 'trajectory_directory': 'output',\n",
       " 'trajectory_prefix': 'out',\n",
       " 'atom_selection': 'not water',\n",
       " 'phases': ['solvent'],\n",
       " 'protocol-type': 'default',\n",
       " 'ionic_strength': 0.15,\n",
       " 'remove_constraints': False,\n",
       " 'spectators': None,\n",
       " 'complex_box_dimensions': None,\n",
       " 'solvent_box_dimensions': None,\n",
       " 'neglect_angles': False,\n",
       " 'anneal_1,4s': False,\n",
       " 'nonbonded_method': 'PME',\n",
       " 'render_atom_map': True,\n",
       " 'run_type': None,\n",
       " 'offline-freq': 10,\n",
       " 'atom_expr': None,\n",
       " 'bond_expr': None,\n",
       " 'map_strength': None,\n",
       " 'softcore_v2': False,\n",
       " 'rxn_field': True,\n",
       " 'scale_regions': [[44, 2197]],\n",
       " 'validate_endstate_energies': False}"
      ]
     },
     "execution_count": 65,
     "metadata": {},
     "output_type": "execute_result"
    }
   ],
   "source": [
    "setup_options"
   ]
  },
  {
   "cell_type": "code",
   "execution_count": 66,
   "id": "fd82bc90",
   "metadata": {
    "scrolled": true
   },
   "outputs": [],
   "source": [
    "htf = setup_dict['hybrid_topology_factories']['solvent']"
   ]
  },
  {
   "cell_type": "code",
   "execution_count": 67,
   "id": "31d239c7",
   "metadata": {},
   "outputs": [],
   "source": [
    "# Save htf\n",
    "with open(\"cdk2_solvent_scale_regions.pickle\", \"wb\") as f:\n",
    "    pickle.dump(htf, f)"
   ]
  },
  {
   "cell_type": "markdown",
   "id": "dc742379",
   "metadata": {},
   "source": [
    "#### Old system HarmonicBondForce vs hybrid system CustomBondForce"
   ]
  },
  {
   "cell_type": "code",
   "execution_count": 68,
   "id": "0858c0e0",
   "metadata": {},
   "outputs": [],
   "source": [
    "# Load htf\n",
    "with open(\"/home/zhangi/choderalab/perses_benchmark/perses_protein_mutations/code/26_rxn_field/cdk2_solvent_scale_regions.pickle\", \"rb\") as f:\n",
    "    htf = pickle.load(f)"
   ]
  },
  {
   "cell_type": "code",
   "execution_count": 69,
   "id": "9860b232",
   "metadata": {},
   "outputs": [
    {
     "data": {
      "text/plain": [
       "[44, 2197]"
      ]
     },
     "execution_count": 69,
     "metadata": {},
     "output_type": "execute_result"
    }
   ],
   "source": [
    "# This is the scale region\n",
    "list(htf._atom_classes['unique_old_atoms'][0]) + list(htf._atom_classes['unique_new_atoms'][0])"
   ]
  },
  {
   "cell_type": "code",
   "execution_count": 70,
   "id": "2661b103",
   "metadata": {},
   "outputs": [
    {
     "name": "stdout",
     "output_type": "stream",
     "text": [
      "{235: 78, 270: 113, 297: 140, 298: 141, 303: 146}\n",
      "Warning: Returning CPU platform instead of requested platform <simtk.openmm.openmm.Platform; proxy of <Swig Object of type 'OpenMM::Platform *' at 0x2b62f7eda7e0> >\n",
      "conducting subsequent work with the following platform: CPU\n",
      "conducting subsequent work with the following platform: CUDA\n",
      "[('HarmonicBondForce', 4.608082977954756), ('HarmonicAngleForce', 29.199523609209102), ('PeriodicTorsionForce', 15.076747992617829), ('NonbondedForce', 1595.9438694042371), ('AndersenThermostat', 0.0), ('MonteCarloBarostat', 0.0)]\n",
      "conducting subsequent work with the following platform: CUDA\n",
      "[('CustomBondForce', 4.608082977954756), ('CustomAngleForce', 29.330408258666996), ('CustomTorsionForce', 15.07675469305873), ('AndersenThermostat', 0.0), ('MonteCarloBarostat', 0.0)]\n",
      "Success! Custom torsion force and standard torsion force energies are equal!\n"
     ]
    }
   ],
   "source": [
    "test_torsion_energies(htf, is_solvated=True)"
   ]
  },
  {
   "cell_type": "markdown",
   "id": "9d93a3cd",
   "metadata": {},
   "source": [
    "#### New system HarmonicBondForce vs hybrid system CustomBondForce"
   ]
  },
  {
   "cell_type": "code",
   "execution_count": 71,
   "id": "c2ab9959",
   "metadata": {},
   "outputs": [],
   "source": [
    "# Load htf\n",
    "with open(\"/home/zhangi/choderalab/perses_benchmark/perses_protein_mutations/code/26_rxn_field/cdk2_solvent_scale_regions.pickle\", \"rb\") as f:\n",
    "    htf = pickle.load(f)"
   ]
  },
  {
   "cell_type": "code",
   "execution_count": 72,
   "id": "dacdf51f",
   "metadata": {
    "scrolled": true
   },
   "outputs": [
    {
     "name": "stdout",
     "output_type": "stream",
     "text": [
      "{70: 70, 112: 112, 142: 142, 143: 143, 148: 148}\n",
      "Warning: Returning CPU platform instead of requested platform <simtk.openmm.openmm.Platform; proxy of <Swig Object of type 'OpenMM::Platform *' at 0x2b62f7eda7e0> >\n",
      "conducting subsequent work with the following platform: CPU\n",
      "conducting subsequent work with the following platform: CUDA\n",
      "[('HarmonicBondForce', 4.519508183899664), ('HarmonicAngleForce', 29.284045073271738), ('PeriodicTorsionForce', 15.082814158447658), ('NonbondedForce', 1611.7106389845), ('AndersenThermostat', 0.0), ('MonteCarloBarostat', 0.0)]\n",
      "conducting subsequent work with the following platform: CUDA\n",
      "[('CustomBondForce', 4.608082977954756), ('CustomAngleForce', 29.330408258666996), ('CustomTorsionForce', 15.082821925106408), ('AndersenThermostat', 0.0), ('MonteCarloBarostat', 0.0)]\n",
      "Success! Custom torsion force and standard torsion force energies are equal!\n",
      "conducting subsequent work with the following platform: CUDA\n",
      "[('CustomBondForce', 4.608082977954756), ('CustomAngleForce', 29.330408258666996), ('CustomTorsionForce', 15.07675469305873), ('AndersenThermostat', 0.0), ('MonteCarloBarostat', 0.0)]\n",
      "conducting subsequent work with the following platform: CUDA\n",
      "[('CustomBondForce', 4.608082977954756), ('CustomAngleForce', 29.330408258666996), ('CustomTorsionForce', 15.074024711899481), ('AndersenThermostat', 0.0), ('MonteCarloBarostat', 0.0)]\n",
      "Success! Scaling the torsion force changes the energy\n"
     ]
    }
   ],
   "source": [
    "test_torsion_energies(htf, is_old=False, is_solvated=True, check_scale=True)"
   ]
  },
  {
   "cell_type": "markdown",
   "id": "moderate-christopher",
   "metadata": {},
   "source": [
    "# 8mer in solvent"
   ]
  },
  {
   "cell_type": "code",
   "execution_count": 3,
   "id": "split-fitting",
   "metadata": {},
   "outputs": [
    {
     "name": "stdout",
     "output_type": "stream",
     "text": [
      "conducting subsequent work with the following platform: CPU\n",
      "conducting subsequent work with the following platform: CPU\n",
      "conducting subsequent work with the following platform: CPU\n"
     ]
    }
   ],
   "source": [
    "import os\n",
    "from pkg_resources import resource_filename\n",
    "from perses.app import setup_relative_calculation\n",
    "import pickle\n",
    "from simtk import openmm, unit\n",
    "from simtk.openmm import app\n",
    "from openmmforcefields.generators import SystemGenerator\n",
    "import numpy as np"
   ]
  },
  {
   "cell_type": "code",
   "execution_count": 4,
   "id": "charming-cassette",
   "metadata": {},
   "outputs": [],
   "source": [
    "# Test 8-mer peptide in solvent\n",
    "peptide_filename = resource_filename('perses', 'data/8mer-example/4zuh_peptide_capped.pdb')\n",
    "pdb = app.PDBFile(peptide_filename)\n",
    "forcefield_files = ['amber14/protein.ff14SB.xml', 'amber14/tip3p.xml']\n",
    "barostat = openmm.MonteCarloBarostat(1.0 * unit.atmosphere, 300 * unit.kelvin, 50)\n",
    "# barostat = None\n",
    "modeller = app.Modeller(pdb.topology, pdb.positions)\n",
    " \n",
    "system_generator = SystemGenerator(forcefields=forcefield_files,\n",
    "                                   barostat=barostat,\n",
    "                                   forcefield_kwargs={'removeCMMotion': False,\n",
    "                                                      'ewaldErrorTolerance': 0.00025,\n",
    "                                                      'constraints': app.HBonds,\n",
    "                                                      'hydrogenMass': 4 * unit.amus},\n",
    "                                   periodic_forcefield_kwargs=None,\n",
    "                                   small_molecule_forcefield='gaff-2.11',\n",
    "                                   nonperiodic_forcefield_kwargs={'nonbondedMethod': app.NoCutoff},\n",
    "                                   molecules=None,\n",
    "                                   cache=None)\n",
    "\n",
    "modeller.addSolvent(system_generator.forcefield, model='tip3p', padding=9*unit.angstroms, ionicStrength=0.15*unit.molar)\n",
    "topology = modeller.getTopology()\n",
    "positions = modeller.getPositions()\n",
    "\n",
    "# Canonicalize the solvated positions: turn tuples into np.array\n",
    "positions = unit.quantity.Quantity(value=np.array([list(atom_pos) for atom_pos in positions.value_in_unit_system(unit.md_unit_system)]), unit=unit.nanometers)\n",
    "system = system_generator.create_system(topology)\n",
    "\n"
   ]
  },
  {
   "cell_type": "code",
   "execution_count": 5,
   "id": "working-blackjack",
   "metadata": {
    "scrolled": true
   },
   "outputs": [
    {
     "name": "stderr",
     "output_type": "stream",
     "text": [
      "2021-05-12 14:35:19,936:(0.00s):proposal_generator:\tConducting polymer point mutation proposal...\n"
     ]
    },
    {
     "name": "stdout",
     "output_type": "stream",
     "text": [
      "Making mutation ALA->MET\n"
     ]
    },
    {
     "name": "stderr",
     "output_type": "stream",
     "text": [
      "2021-05-12 14:35:20,598:(0.66s):proposal_generator:Using matching_criterion to chose best atom map\n",
      "2021-05-12 14:35:20,607:(0.01s):proposal_generator:Scaffold has symmetry of 0\n",
      "2021-05-12 14:35:20,610:(0.00s):proposal_generator:Two molecules are not similar to have a common scaffold\n",
      "2021-05-12 14:35:20,612:(0.00s):proposal_generator:Proceeding with direct mapping of molecules, but please check atom mapping and the geometry of the ligands.\n",
      "2021-05-12 14:35:20,617:(0.01s):proposal_generator:len [{13: 8}, {16: 9}, {15: 9}, {14: 9}, {13: 9}, {12: 9}, {11: 9}, {10: 9}, {16: 8}, {15: 8}, {14: 8}, {10: 7}, {12: 8}, {11: 8}, {10: 8}, {16: 7}, {15: 7}, {14: 7}, {13: 7}, {12: 7}, {11: 7}]\n",
      "2021-05-12 14:35:20,619:(0.00s):proposal_generator:{13: 8}\n",
      "2021-05-12 14:35:20,621:(0.00s):proposal_generator:{16: 9}\n",
      "2021-05-12 14:35:20,624:(0.00s):proposal_generator:{15: 9}\n",
      "2021-05-12 14:35:20,626:(0.00s):proposal_generator:{14: 9}\n",
      "2021-05-12 14:35:20,628:(0.00s):proposal_generator:{13: 9}\n",
      "2021-05-12 14:35:20,630:(0.00s):proposal_generator:{12: 9}\n",
      "2021-05-12 14:35:20,632:(0.00s):proposal_generator:{11: 9}\n",
      "2021-05-12 14:35:20,634:(0.00s):proposal_generator:{10: 9}\n",
      "2021-05-12 14:35:20,636:(0.00s):proposal_generator:{16: 8}\n",
      "2021-05-12 14:35:20,638:(0.00s):proposal_generator:{15: 8}\n",
      "2021-05-12 14:35:20,640:(0.00s):proposal_generator:{14: 8}\n",
      "2021-05-12 14:35:20,641:(0.00s):proposal_generator:{10: 7}\n",
      "2021-05-12 14:35:20,642:(0.00s):proposal_generator:{12: 8}\n",
      "2021-05-12 14:35:20,642:(0.00s):proposal_generator:{11: 8}\n",
      "2021-05-12 14:35:20,647:(0.00s):proposal_generator:{10: 8}\n",
      "2021-05-12 14:35:20,647:(0.00s):proposal_generator:{16: 7}\n",
      "2021-05-12 14:35:20,648:(0.00s):proposal_generator:{15: 7}\n",
      "2021-05-12 14:35:20,649:(0.00s):proposal_generator:{14: 7}\n",
      "2021-05-12 14:35:20,650:(0.00s):proposal_generator:{13: 7}\n",
      "2021-05-12 14:35:20,650:(0.00s):proposal_generator:{12: 7}\n",
      "2021-05-12 14:35:20,651:(0.00s):proposal_generator:{11: 7}\n",
      "2021-05-12 14:35:20,652:(0.00s):proposal_generator:Returning map that best satisfies matching_criterion\n",
      "2021-05-12 14:35:20,652:(0.00s):proposal_generator:Finding best map using matching_criterion name\n",
      "2021-05-12 14:35:20,655:(0.00s):proposal_generator:{13: 8}\n",
      "2021-05-12 14:35:22,452:(1.80s):geometry:propose: performing forward proposal\n",
      "2021-05-12 14:35:22,455:(0.00s):geometry:propose: unique new atoms detected; proceeding to _logp_propose...\n",
      "2021-05-12 14:35:22,458:(0.00s):geometry:Conducting forward proposal...\n",
      "2021-05-12 14:35:22,460:(0.00s):geometry:Computing proposal order with NetworkX...\n",
      "2021-05-12 14:35:22,474:(0.01s):geometry:number of atoms to be placed: 11\n",
      "2021-05-12 14:35:22,477:(0.00s):geometry:Atom index proposal order is [21, 26, 29, 30, 25, 28, 24, 27, 31, 32, 33]\n",
      "2021-05-12 14:35:22,479:(0.00s):geometry:omitted_bonds: []\n",
      "2021-05-12 14:35:22,481:(0.00s):geometry:direction of proposal is forward; creating atoms_with_positions and new positions from old system/topology...\n",
      "2021-05-12 14:35:23,373:(0.89s):geometry:creating growth system...\n",
      "2021-05-12 14:35:23,549:(0.18s):geometry:\tcreating bond force...\n",
      "2021-05-12 14:35:23,552:(0.00s):geometry:\tthere are 64 bonds in reference force.\n",
      "2021-05-12 14:35:23,556:(0.00s):geometry:\tcreating angle force...\n",
      "2021-05-12 14:35:23,559:(0.00s):geometry:\tthere are 231 angles in reference force.\n",
      "2021-05-12 14:35:23,566:(0.01s):geometry:\tcreating torsion force...\n",
      "2021-05-12 14:35:23,568:(0.00s):geometry:\tcreating extra torsions force...\n",
      "2021-05-12 14:35:23,570:(0.00s):geometry:\tthere are 426 torsions in reference force.\n",
      "2021-05-12 14:35:23,579:(0.01s):geometry:\tcreating nonbonded force...\n",
      "2021-05-12 14:35:23,581:(0.00s):geometry:\t\tgrabbing reference nonbonded method, cutoff, switching function, switching distance...\n",
      "2021-05-12 14:35:23,583:(0.00s):geometry:\t\tcreating nonbonded exception force (i.e. custom bond for 1,4s)...\n",
      "2021-05-12 14:35:23,585:(0.00s):geometry:\t\tlooping through exceptions calculating growth indices, and adding appropriate interactions to custom bond force.\n",
      "2021-05-12 14:35:23,587:(0.00s):geometry:\t\tthere are 6122 in the reference Nonbonded force\n",
      "2021-05-12 14:35:23,769:(0.18s):geometry:\t\t\t\t\tchiral atom <Atom 18 (CA) of chain 0 residue 2 (MET)> with neighbors [<Atom 19 (C) of chain 0 residue 2 (MET)>, <Atom 21 (CB) of chain 0 residue 2 (MET)>, <Atom 23 (HA) of chain 0 residue 2 (MET)>, <Atom 17 (N) of chain 0 residue 2 (MET)>] is surrounded by 3 core neighbors.  omitting chirality bias torsion\n",
      "2021-05-12 14:35:23,772:(0.00s):geometry:Neglected angle terms : []\n",
      "2021-05-12 14:35:23,775:(0.00s):geometry:omitted_growth_terms: {'bonds': [], 'angles': [], 'torsions': [], '1,4s': []}\n",
      "2021-05-12 14:35:23,777:(0.00s):geometry:extra torsions: {0: (22, 17, 18, 21, [1, Quantity(value=0.99401209477807, unit=radian), Quantity(value=1200.0, unit=kilocalorie/mole), 1]), 1: (26, 29, 30, 31, [1, Quantity(value=2.163242711939442, unit=radian), Quantity(value=1200.0, unit=kilocalorie/mole), 9]), 2: (26, 29, 30, 32, [1, Quantity(value=-2.022205112246109, unit=radian), Quantity(value=1200.0, unit=kilocalorie/mole), 10]), 3: (26, 29, 30, 33, [1, Quantity(value=0.06526263287522305, unit=radian), Quantity(value=1200.0, unit=kilocalorie/mole), 11])}\n",
      "2021-05-12 14:35:23,780:(0.00s):geometry:neglected angle terms include []\n",
      "2021-05-12 14:35:23,782:(0.00s):geometry:log probability choice of torsions and atom order: -13.20032391887354\n",
      "2021-05-12 14:35:23,784:(0.00s):geometry:creating platform, integrators, and contexts; setting growth parameter\n",
      "2021-05-12 14:35:23,901:(0.12s):geometry:setting atoms_with_positions context new positions\n",
      "2021-05-12 14:35:24,021:(0.12s):geometry:There are 11 new atoms\n",
      "2021-05-12 14:35:24,031:(0.01s):geometry:\treduced angle potential = 0.3135601990222408.\n"
     ]
    },
    {
     "name": "stdout",
     "output_type": "stream",
     "text": [
      "Desired platform not supported. exception raised: Error initializing CUDA: CUDA_ERROR_NO_DEVICE (100) at /home/conda/feedstock_root/build_artifacts/openmm_1613569706035/work/platforms/cuda/src/CudaContext.cpp:138\n",
      "Warning: Returning Reference platform instead of requested platform CUDA\n",
      "conducting subsequent work with the following platform: Reference\n",
      "conducting subsequent work with the following platform: CPU\n"
     ]
    },
    {
     "name": "stderr",
     "output_type": "stream",
     "text": [
      "2021-05-12 14:35:24,122:(0.09s):geometry:\treduced angle potential = 0.24109202446056813.\n",
      "2021-05-12 14:35:24,213:(0.09s):geometry:\treduced angle potential = 0.10351355073544276.\n",
      "2021-05-12 14:35:24,300:(0.09s):geometry:\treduced angle potential = 0.7074697455877275.\n",
      "2021-05-12 14:35:24,401:(0.10s):geometry:\treduced angle potential = 1.7837773591459973.\n",
      "2021-05-12 14:35:24,503:(0.10s):geometry:\treduced angle potential = 0.18645622300792566.\n",
      "2021-05-12 14:35:24,603:(0.10s):geometry:\treduced angle potential = 0.23685532101753554.\n",
      "2021-05-12 14:35:24,705:(0.10s):geometry:\treduced angle potential = 0.00042950963003874666.\n",
      "2021-05-12 14:35:24,806:(0.10s):geometry:\treduced angle potential = 0.11426431872972385.\n",
      "2021-05-12 14:35:24,907:(0.10s):geometry:\treduced angle potential = 0.02256081336582398.\n",
      "2021-05-12 14:35:25,008:(0.10s):geometry:\treduced angle potential = 0.327419646851777.\n",
      "2021-05-12 14:35:25,194:(0.19s):geometry:\tbeginning construction of no_nonbonded final system...\n",
      "2021-05-12 14:35:25,197:(0.00s):geometry:\tinitial no-nonbonded final system forces ['HarmonicBondForce', 'HarmonicAngleForce', 'PeriodicTorsionForce', 'NonbondedForce', 'MonteCarloBarostat']\n",
      "2021-05-12 14:35:25,683:(0.49s):geometry:\tfinal no-nonbonded final system forces dict_keys(['HarmonicBondForce', 'HarmonicAngleForce', 'PeriodicTorsionForce', 'NonbondedForce'])\n",
      "2021-05-12 14:35:25,686:(0.00s):geometry:\tthere are 64 bond forces in the no-nonbonded final system\n",
      "2021-05-12 14:35:25,688:(0.00s):geometry:\tthere are 231 angle forces in the no-nonbonded final system\n",
      "2021-05-12 14:35:25,691:(0.00s):geometry:\tthere are 426 torsion forces in the no-nonbonded final system\n",
      "2021-05-12 14:35:25,693:(0.00s):geometry:forward final system defined with 0 neglected angles.\n"
     ]
    },
    {
     "name": "stdout",
     "output_type": "stream",
     "text": [
      "conducting subsequent work with the following platform: CPU\n"
     ]
    },
    {
     "name": "stderr",
     "output_type": "stream",
     "text": [
      "2021-05-12 14:35:28,467:(2.77s):geometry:total reduced potential before atom placement: 168.36661711374197\n"
     ]
    },
    {
     "name": "stdout",
     "output_type": "stream",
     "text": [
      "conducting subsequent work with the following platform: CPU\n",
      "conducting subsequent work with the following platform: CPU\n"
     ]
    },
    {
     "name": "stderr",
     "output_type": "stream",
     "text": [
      "2021-05-12 14:35:28,674:(0.21s):geometry:total reduced energy added from growth system: 558.907231272389\n",
      "2021-05-12 14:35:28,678:(0.00s):geometry:final reduced energy 727.2738484063576\n",
      "2021-05-12 14:35:28,680:(0.00s):geometry:sum of energies: 727.273848386131\n",
      "2021-05-12 14:35:28,682:(0.00s):geometry:magnitude of difference in the energies: 2.0226593733241316e-08\n",
      "2021-05-12 14:35:28,685:(0.00s):geometry:Final logp_proposal: 79.54515392787575\n",
      "2021-05-12 14:35:28,690:(0.01s):geometry:logp_reverse: performing reverse proposal\n",
      "2021-05-12 14:35:28,693:(0.00s):geometry:logp_reverse: unique new atoms detected; proceeding to _logp_propose...\n",
      "2021-05-12 14:35:28,695:(0.00s):geometry:Conducting forward proposal...\n",
      "2021-05-12 14:35:28,697:(0.00s):geometry:Computing proposal order with NetworkX...\n",
      "2021-05-12 14:35:28,710:(0.01s):geometry:number of atoms to be placed: 4\n",
      "2021-05-12 14:35:28,713:(0.00s):geometry:Atom index proposal order is [21, 26, 24, 25]\n",
      "2021-05-12 14:35:28,716:(0.00s):geometry:omitted_bonds: []\n",
      "2021-05-12 14:35:28,718:(0.00s):geometry:direction of proposal is reverse; creating atoms_with_positions from old system/topology\n"
     ]
    },
    {
     "name": "stdout",
     "output_type": "stream",
     "text": [
      "Desired platform not supported. exception raised: Error initializing CUDA: CUDA_ERROR_NO_DEVICE (100) at /home/conda/feedstock_root/build_artifacts/openmm_1613569706035/work/platforms/cuda/src/CudaContext.cpp:138\n",
      "Warning: Returning Reference platform instead of requested platform CUDA\n",
      "conducting subsequent work with the following platform: Reference\n",
      "conducting subsequent work with the following platform: CPU\n",
      "added energy components: [('CustomBondForce', 1.0219015760480283), ('CustomAngleForce', 397.55547210517005), ('CustomTorsionForce', 16.255981150035584), ('CustomBondForce', 144.07387644113552)]\n"
     ]
    },
    {
     "name": "stderr",
     "output_type": "stream",
     "text": [
      "2021-05-12 14:35:29,516:(0.80s):geometry:creating growth system...\n",
      "2021-05-12 14:35:29,697:(0.18s):geometry:\tcreating bond force...\n",
      "2021-05-12 14:35:29,700:(0.00s):geometry:\tthere are 61 bonds in reference force.\n",
      "2021-05-12 14:35:29,704:(0.00s):geometry:\tcreating angle force...\n",
      "2021-05-12 14:35:29,706:(0.00s):geometry:\tthere are 218 angles in reference force.\n",
      "2021-05-12 14:35:29,712:(0.01s):geometry:\tcreating torsion force...\n",
      "2021-05-12 14:35:29,714:(0.00s):geometry:\tcreating extra torsions force...\n",
      "2021-05-12 14:35:29,717:(0.00s):geometry:\tthere are 399 torsions in reference force.\n",
      "2021-05-12 14:35:29,723:(0.01s):geometry:\tcreating nonbonded force...\n",
      "2021-05-12 14:35:29,725:(0.00s):geometry:\t\tgrabbing reference nonbonded method, cutoff, switching function, switching distance...\n",
      "2021-05-12 14:35:29,728:(0.00s):geometry:\t\tcreating nonbonded exception force (i.e. custom bond for 1,4s)...\n",
      "2021-05-12 14:35:29,730:(0.00s):geometry:\t\tlooping through exceptions calculating growth indices, and adding appropriate interactions to custom bond force.\n",
      "2021-05-12 14:35:29,732:(0.00s):geometry:\t\tthere are 6087 in the reference Nonbonded force\n",
      "2021-05-12 14:35:29,922:(0.19s):geometry:\t\t\t\t\tchiral atom <Atom 18 (CA) of chain 0 residue 2 (ALA)> with neighbors [<Atom 19 (C) of chain 0 residue 2 (ALA)>, <Atom 21 (CB) of chain 0 residue 2 (ALA)>, <Atom 23 (HA) of chain 0 residue 2 (ALA)>, <Atom 17 (N) of chain 0 residue 2 (ALA)>] is surrounded by 3 core neighbors.  omitting chirality bias torsion\n",
      "2021-05-12 14:35:29,925:(0.00s):geometry:Neglected angle terms : []\n",
      "2021-05-12 14:35:29,928:(0.00s):geometry:omitted_growth_terms: {'bonds': [], 'angles': [], 'torsions': [], '1,4s': []}\n",
      "2021-05-12 14:35:29,930:(0.00s):geometry:extra torsions: {0: (22, 17, 18, 21, [1, Quantity(value=0.9799661941737812, unit=radian), Quantity(value=1200.0, unit=kilocalorie/mole), 1]), 1: (17, 18, 21, 24, [1, Quantity(value=2.105358864604291, unit=radian), Quantity(value=1200.0, unit=kilocalorie/mole), 3]), 2: (17, 18, 21, 25, [1, Quantity(value=-2.0823006129211796, unit=radian), Quantity(value=1200.0, unit=kilocalorie/mole), 4]), 3: (17, 18, 21, 26, [1, Quantity(value=0.018582237407944735, unit=radian), Quantity(value=1200.0, unit=kilocalorie/mole), 2]), 4: (19, 18, 21, 24, [1, Quantity(value=-0.036945135932107576, unit=radian), Quantity(value=1200.0, unit=kilocalorie/mole), 3]), 5: (19, 18, 21, 25, [1, Quantity(value=2.0585806937220097, unit=radian), Quantity(value=1200.0, unit=kilocalorie/mole), 4]), 6: (19, 18, 21, 26, [1, Quantity(value=-2.1237217631284597, unit=radian), Quantity(value=1200.0, unit=kilocalorie/mole), 2]), 7: (23, 18, 21, 24, [1, Quantity(value=-2.119603470065817, unit=radian), Quantity(value=1200.0, unit=kilocalorie/mole), 3]), 8: (23, 18, 21, 25, [1, Quantity(value=-0.024077640411697132, unit=radian), Quantity(value=1200.0, unit=kilocalorie/mole), 4]), 9: (23, 18, 21, 26, [1, Quantity(value=2.0768052099174152, unit=radian), Quantity(value=1200.0, unit=kilocalorie/mole), 2])}\n",
      "2021-05-12 14:35:29,932:(0.00s):geometry:neglected angle terms include []\n",
      "2021-05-12 14:35:29,934:(0.00s):geometry:log probability choice of torsions and atom order: -5.78074351579233\n",
      "2021-05-12 14:35:29,936:(0.00s):geometry:creating platform, integrators, and contexts; setting growth parameter\n",
      "2021-05-12 14:35:30,067:(0.13s):geometry:setting atoms_with_positions context old positions\n",
      "2021-05-12 14:35:30,180:(0.11s):geometry:There are 4 new atoms\n",
      "2021-05-12 14:35:30,185:(0.01s):geometry:\treduced angle potential = 0.017911900159989516.\n"
     ]
    },
    {
     "name": "stdout",
     "output_type": "stream",
     "text": [
      "Desired platform not supported. exception raised: Error initializing CUDA: CUDA_ERROR_NO_DEVICE (100) at /home/conda/feedstock_root/build_artifacts/openmm_1613569706035/work/platforms/cuda/src/CudaContext.cpp:138\n",
      "Warning: Returning Reference platform instead of requested platform CUDA\n",
      "conducting subsequent work with the following platform: Reference\n",
      "conducting subsequent work with the following platform: CPU\n"
     ]
    },
    {
     "name": "stderr",
     "output_type": "stream",
     "text": [
      "2021-05-12 14:35:30,273:(0.09s):geometry:\treduced angle potential = 2.233125127093818e-08.\n",
      "2021-05-12 14:35:30,358:(0.09s):geometry:\treduced angle potential = 9.265637866968462e-06.\n",
      "2021-05-12 14:35:30,440:(0.08s):geometry:\treduced angle potential = 9.561051668702576e-06.\n",
      "2021-05-12 14:35:30,621:(0.18s):geometry:\tbeginning construction of no_nonbonded final system...\n",
      "2021-05-12 14:35:30,624:(0.00s):geometry:\tinitial no-nonbonded final system forces ['HarmonicBondForce', 'HarmonicAngleForce', 'PeriodicTorsionForce', 'NonbondedForce', 'MonteCarloBarostat']\n",
      "2021-05-12 14:35:31,127:(0.50s):geometry:\tfinal no-nonbonded final system forces dict_keys(['HarmonicBondForce', 'HarmonicAngleForce', 'PeriodicTorsionForce', 'NonbondedForce'])\n",
      "2021-05-12 14:35:31,130:(0.00s):geometry:\tthere are 61 bond forces in the no-nonbonded final system\n",
      "2021-05-12 14:35:31,132:(0.00s):geometry:\tthere are 218 angle forces in the no-nonbonded final system\n",
      "2021-05-12 14:35:31,134:(0.00s):geometry:\tthere are 399 torsion forces in the no-nonbonded final system\n",
      "2021-05-12 14:35:31,136:(0.00s):geometry:reverse final system defined with 0 neglected angles.\n"
     ]
    },
    {
     "name": "stdout",
     "output_type": "stream",
     "text": [
      "conducting subsequent work with the following platform: CPU\n"
     ]
    },
    {
     "name": "stderr",
     "output_type": "stream",
     "text": [
      "2021-05-12 14:35:32,506:(1.37s):geometry:total reduced potential before atom placement: 168.3666171145445\n"
     ]
    },
    {
     "name": "stdout",
     "output_type": "stream",
     "text": [
      "conducting subsequent work with the following platform: CPU\n",
      "conducting subsequent work with the following platform: CPU\n"
     ]
    },
    {
     "name": "stderr",
     "output_type": "stream",
     "text": [
      "2021-05-12 14:35:32,726:(0.22s):geometry:total reduced energy added from growth system: 19.113357542933382\n",
      "2021-05-12 14:35:32,729:(0.00s):geometry:final reduced energy 187.47997478600607\n",
      "2021-05-12 14:35:32,732:(0.00s):geometry:sum of energies: 187.4799746574779\n",
      "2021-05-12 14:35:32,734:(0.00s):geometry:magnitude of difference in the energies: 1.2852817476982636e-07\n",
      "2021-05-12 14:35:32,737:(0.00s):geometry:Final logp_proposal: -30541.11542553462\n"
     ]
    },
    {
     "name": "stdout",
     "output_type": "stream",
     "text": [
      "Desired platform not supported. exception raised: Error initializing CUDA: CUDA_ERROR_NO_DEVICE (100) at /home/conda/feedstock_root/build_artifacts/openmm_1613569706035/work/platforms/cuda/src/CudaContext.cpp:138\n",
      "Warning: Returning Reference platform instead of requested platform CUDA\n",
      "conducting subsequent work with the following platform: Reference\n",
      "conducting subsequent work with the following platform: CPU\n",
      "added energy components: [('CustomBondForce', 0.04562514569649219), ('CustomAngleForce', 0.11963265647716706), ('CustomTorsionForce', 7.457414093494336), ('CustomBondForce', 11.490685647265389)]\n"
     ]
    }
   ],
   "source": [
    "from perses.rjmc.topology_proposal import PointMutationEngine\n",
    "from perses.annihilation.relative import RepartitionedHybridTopologyFactory\n",
    "from perses.tests.utils import validate_endstate_energies\n",
    "import random\n",
    "\n",
    "aminos = ['ALA','ARG','ASN','ASP','CYS','GLN','GLU','GLY','HIS','ILE','LEU','LYS','MET','PHE','PRO','SER','THR','TRP','TYR','VAL']\n",
    "\n",
    "ENERGY_THRESHOLD = 1e-6\n",
    "kB = unit.BOLTZMANN_CONSTANT_kB * unit.AVOGADRO_CONSTANT_NA\n",
    "temperature = 300.0 * unit.kelvin\n",
    "kT = kB * temperature\n",
    "beta = 1.0/kT\n",
    "\n",
    "chain = 'C'\n",
    "for res in topology.residues():\n",
    "    if res.id == '2':\n",
    "        wt_res = res.name\n",
    "# aminos_updated = [amino for amino in aminos if amino not in [wt_res, 'PRO', 'HIS', 'TRP', 'PHE', 'TYR']]\n",
    "# mutant = random.choice(aminos_updated)\n",
    "mutant = \"MET\"\n",
    "print(f'Making mutation {wt_res}->{mutant}')\n",
    "\n",
    "# Create point mutation engine to mutate residue at id 2 to random amino acid\n",
    "point_mutation_engine = PointMutationEngine(wildtype_topology=topology,\n",
    "                                            system_generator=system_generator,\n",
    "                                            chain_id=chain,\n",
    "                                            max_point_mutants=1,\n",
    "                                            residues_allowed_to_mutate=['2'],  # the residue ids allowed to mutate\n",
    "                                            allowed_mutations=[('2', mutant)],\n",
    "                                            aggregate=True)  # always allow aggregation\n",
    "\n",
    "# Create topology proposal\n",
    "topology_proposal = point_mutation_engine.propose(current_system=system, current_topology=topology)\n",
    "\n",
    "# Create geometry engine\n",
    "from perses.rjmc.geometry import FFAllAngleGeometryEngine\n",
    "geometry_engine = FFAllAngleGeometryEngine(metadata=None,\n",
    "                                           use_sterics=False,\n",
    "                                           n_bond_divisions=100,\n",
    "                                           n_angle_divisions=180,\n",
    "                                           n_torsion_divisions=360,\n",
    "                                           verbose=True,\n",
    "                                           storage=None,\n",
    "                                           bond_softening_constant=1.0,\n",
    "                                           angle_softening_constant=1.0,\n",
    "                                           neglect_angles=False,\n",
    "                                           use_14_nonbondeds=True)\n",
    "\n",
    "# Create geometry proposal\n",
    "new_positions, logp_proposal = geometry_engine.propose(topology_proposal, positions, beta,\n",
    "                                                               validate_energy_bookkeeping=True)\n",
    "logp_reverse = geometry_engine.logp_reverse(topology_proposal, new_positions, positions, beta,\n",
    "                                            validate_energy_bookkeeping=True)\n",
    "\n",
    "if not topology_proposal.unique_new_atoms:\n",
    "    assert geometry_engine.forward_final_context_reduced_potential == None, f\"There are no unique new atoms but the geometry_engine's final context reduced potential is not None (i.e. {self._geometry_engine.forward_final_context_reduced_potential})\"\n",
    "    assert geometry_engine.forward_atoms_with_positions_reduced_potential == None, f\"There are no unique new atoms but the geometry_engine's forward atoms-with-positions-reduced-potential in not None (i.e. { self._geometry_engine.forward_atoms_with_positions_reduced_potential})\"\n",
    "    vacuum_added_valence_energy = 0.0\n",
    "else:\n",
    "    added_valence_energy = geometry_engine.forward_final_context_reduced_potential - geometry_engine.forward_atoms_with_positions_reduced_potential\n",
    "\n",
    "if not topology_proposal.unique_old_atoms:\n",
    "    assert geometry_engine.reverse_final_context_reduced_potential == None, f\"There are no unique old atoms but the geometry_engine's final context reduced potential is not None (i.e. {self._geometry_engine.reverse_final_context_reduced_potential})\"\n",
    "    assert geometry_engine.reverse_atoms_with_positions_reduced_potential == None, f\"There are no unique old atoms but the geometry_engine's atoms-with-positions-reduced-potential in not None (i.e. { self._geometry_engine.reverse_atoms_with_positions_reduced_potential})\"\n",
    "    subtracted_valence_energy = 0.0\n",
    "else:\n",
    "    subtracted_valence_energy = geometry_engine.reverse_final_context_reduced_potential - geometry_engine.reverse_atoms_with_positions_reduced_potential\n"
   ]
  },
  {
   "cell_type": "code",
   "execution_count": 14,
   "id": "visible-mistress",
   "metadata": {
    "scrolled": true
   },
   "outputs": [
    {
     "name": "stderr",
     "output_type": "stream",
     "text": [
      "2021-05-12 14:37:54,058:(140.35s):relative:*** Generating RxnHybridTopologyFactory ***\n",
      "2021-05-12 14:37:54,063:(0.01s):relative:Beginning nonbonded method, total particle, barostat, and exceptions retrieval...\n",
      "2021-05-12 14:37:54,284:(0.22s):relative:Old system forces: dict_keys(['HarmonicBondForce', 'HarmonicAngleForce', 'PeriodicTorsionForce', 'NonbondedForce', 'MonteCarloBarostat'])\n",
      "2021-05-12 14:37:54,287:(0.00s):relative:New system forces: dict_keys(['HarmonicBondForce', 'HarmonicAngleForce', 'PeriodicTorsionForce', 'NonbondedForce', 'MonteCarloBarostat'])\n",
      "2021-05-12 14:37:54,290:(0.00s):relative:No unknown forces.\n",
      "2021-05-12 14:37:54,292:(0.00s):relative:Nonbonded method to be used (i.e. from old system): 4\n",
      "2021-05-12 14:37:54,294:(0.00s):relative:Adding and mapping old atoms to hybrid system...\n",
      "2021-05-12 14:37:54,371:(0.08s):relative:Adding and mapping new atoms to hybrid system...\n",
      "2021-05-12 14:37:54,374:(0.00s):relative:scale_templates: [['nonscale_lambda'], ['nonscale_region']]\n",
      "2021-05-12 14:37:54,377:(0.00s):relative:Added MonteCarloBarostat.\n",
      "2021-05-12 14:37:54,379:(0.00s):relative:getDefaultPeriodicBoxVectors added to hybrid: [Quantity(value=Vec3(x=3.9005, y=0.0, z=0.0), unit=nanometer), Quantity(value=Vec3(x=0.0, y=3.9005, z=0.0), unit=nanometer), Quantity(value=Vec3(x=0.0, y=0.0, z=3.9005), unit=nanometer)]\n",
      "2021-05-12 14:37:54,387:(0.01s):relative:Determined atom classes.\n",
      "2021-05-12 14:37:54,389:(0.00s):relative:Generating old system exceptions dict...\n",
      "2021-05-12 14:37:54,443:(0.05s):relative:Generating new system exceptions dict...\n",
      "2021-05-12 14:37:54,519:(0.08s):relative:Handling constraints...\n",
      "2021-05-12 14:37:54,696:(0.18s):relative:Handling virtual sites...\n",
      "2021-05-12 14:37:54,705:(0.01s):relative:\t_handle_virtual_sites: numVirtualSites: 0\n",
      "2021-05-12 14:37:54,783:(0.08s):relative:hybrid_index_pair (105, 106, 107, 116) was not found in the new_term_collector, but (106, 105, 107, 116) has the same atoms and terms, so (106, 105, 107, 116) will be removed from the new term collector\n"
     ]
    },
    {
     "name": "stdout",
     "output_type": "stream",
     "text": [
      "( nonscale_lambda_bonds * nonscale_region ) * (K/2)*(r-length)^2;K = ( 1 * environment_region+lambda_0_bonds_old * alchemical_region_0 ) * K1 + ( 1 * environment_region+lambda_0_bonds_new * alchemical_region_0 ) * K2;length = ( 1 * environment_region+lambda_0_bonds_old * alchemical_region_0 ) * length1 + ( 1 * environment_region+lambda_0_bonds_new * alchemical_region_0 ) * length2;\n"
     ]
    }
   ],
   "source": [
    "from perses.annihilation.relative import RxnHybridTopologyFactory\n",
    "flatten_exceptions = True\n",
    "flatten_torsions = True\n",
    "endstate = None\n",
    "scale_regions = None\n",
    "htf = RxnHybridTopologyFactory(topology_proposal=topology_proposal,\n",
    "                     current_positions=positions,\n",
    "                     new_positions=new_positions,\n",
    "                     use_dispersion_correction=False,\n",
    "                     functions=None,\n",
    "                     softcore_alpha=None,\n",
    "                     bond_softening_constant=1.0,\n",
    "                     angle_softening_constant=1.0,\n",
    "                     soften_only_new=False,\n",
    "                     neglected_new_angle_terms=[],\n",
    "                     neglected_old_angle_terms=[],\n",
    "                     softcore_LJ_v2=True,\n",
    "                     softcore_electrostatics=True,\n",
    "                     softcore_LJ_v2_alpha=0.85,\n",
    "                     softcore_electrostatics_alpha=0.3,\n",
    "                     softcore_sigma_Q=1.0,\n",
    "                     interpolate_old_and_new_14s=flatten_exceptions,\n",
    "                     omitted_terms=None,\n",
    "                     flatten_torsions=flatten_torsions,\n",
    "                     scale_regions=scale_regions)"
   ]
  },
  {
   "cell_type": "code",
   "execution_count": 15,
   "id": "004f2d2b",
   "metadata": {},
   "outputs": [],
   "source": [
    "# Load htf\n",
    "with open(\"/home/zhangi/choderalab/perses_benchmark/perses_protein_mutations/code/26_rxn_field/8mer_solvent.pickle\", \"wb\") as f:\n",
    "    pickle.dump(htf, f)"
   ]
  },
  {
   "cell_type": "code",
   "execution_count": 7,
   "id": "3772485b",
   "metadata": {},
   "outputs": [],
   "source": [
    "# ( nonscale_lambda_bonds * nonscale_region ) * (K/2)*(r-length)^2;\n",
    "\n",
    "# K = ( 1 * environment_region+lambda_0_bonds_old * alchemical_region_0 ) * K1 \n",
    "# + ( 1 * environment_region+lambda_0_bonds_new * alchemical_region_0 ) * K2;\n",
    "\n",
    "# length = ( 1 * environment_region+lambda_0_bonds_old * alchemical_region_0 ) * length1 \n",
    "# + ( 1 * environment_region+lambda_0_bonds_new * alchemical_region_0 ) * length2;\n"
   ]
  },
  {
   "cell_type": "markdown",
   "id": "spiritual-pension",
   "metadata": {},
   "source": [
    "### Test one alchemical region, no scale regions"
   ]
  },
  {
   "cell_type": "markdown",
   "id": "established-handy",
   "metadata": {},
   "source": [
    "#### Old system HarmonicBondForce vs hybrid system CustomBondForce"
   ]
  },
  {
   "cell_type": "code",
   "execution_count": 16,
   "id": "accessory-spectrum",
   "metadata": {},
   "outputs": [],
   "source": [
    "# Load htf\n",
    "with open(\"/home/zhangi/choderalab/perses_benchmark/perses_protein_mutations/code/26_rxn_field/8mer_solvent.pickle\", \"rb\") as f:\n",
    "    htf = pickle.load(f)"
   ]
  },
  {
   "cell_type": "code",
   "execution_count": 17,
   "id": "32839d52",
   "metadata": {},
   "outputs": [
    {
     "name": "stdout",
     "output_type": "stream",
     "text": [
      "{432: 39, 433: 40, 434: 41, 451: 58, 452: 59, 453: 60, 454: 61, 455: 62, 456: 63, 459: 66, 460: 67, 461: 68, 462: 69, 463: 70, 464: 71, 465: 72, 466: 73, 467: 74, 468: 75, 469: 76, 470: 77, 481: 88, 482: 89, 483: 90, 484: 91, 485: 92, 486: 93, 487: 94, 488: 95, 489: 96, 490: 97, 491: 98, 492: 99, 493: 100, 494: 101, 495: 102, 496: 103, 497: 104, 498: 105, 499: 106, 500: 107, 501: 108}\n",
      "Warning: Returning CPU platform instead of requested platform <simtk.openmm.openmm.Platform; proxy of <Swig Object of type 'OpenMM::Platform *' at 0x2b3ab4ccdfc0> >\n",
      "conducting subsequent work with the following platform: CPU\n",
      "conducting subsequent work with the following platform: CPU\n",
      "[('HarmonicBondForce', 7.300097488950959), ('HarmonicAngleForce', 12.445683175437441), ('PeriodicTorsionForce', 156.24350834582398), ('NonbondedForce', -10965.130526294286), ('AndersenThermostat', 0.0), ('MonteCarloBarostat', 0.0)]\n",
      "conducting subsequent work with the following platform: CPU\n",
      "[('CustomBondForce', 8.321999064998987), ('CustomAngleForce', 410.00115528060746), ('CustomTorsionForce', 156.24350834582413), ('AndersenThermostat', 0.0), ('MonteCarloBarostat', 0.0)]\n",
      "Success! Custom torsion force and standard torsion force energies are equal!\n"
     ]
    }
   ],
   "source": [
    "test_torsion_energies(htf, is_solvated=True)"
   ]
  },
  {
   "cell_type": "markdown",
   "id": "southeast-norwegian",
   "metadata": {},
   "source": [
    "#### New system HarmonicBondForce vs hybrid system CustomBondForce"
   ]
  },
  {
   "cell_type": "code",
   "execution_count": 18,
   "id": "after-medicaid",
   "metadata": {},
   "outputs": [],
   "source": [
    "# Load htf\n",
    "with open(\"/home/zhangi/choderalab/perses_benchmark/perses_protein_mutations/code/26_rxn_field/8mer_solvent.pickle\", \"rb\") as f:\n",
    "    htf = pickle.load(f)\n"
   ]
  },
  {
   "cell_type": "code",
   "execution_count": 19,
   "id": "protected-playing",
   "metadata": {
    "scrolled": true
   },
   "outputs": [
    {
     "name": "stdout",
     "output_type": "stream",
     "text": [
      "{39: 39, 40: 40, 41: 41, 58: 58, 59: 59, 60: 60, 63: 63, 64: 64, 65: 65, 76: 76, 77: 77, 78: 78, 79: 79, 80: 80, 81: 81}\n",
      "Warning: Returning CPU platform instead of requested platform <simtk.openmm.openmm.Platform; proxy of <Swig Object of type 'OpenMM::Platform *' at 0x2b3ab4ccdfc0> >\n",
      "conducting subsequent work with the following platform: CPU\n",
      "conducting subsequent work with the following platform: CPU\n",
      "[('HarmonicBondForce', 8.276373919302495), ('HarmonicAngleForce', 409.88152262413047), ('PeriodicTorsionForce', 165.04207540156267), ('NonbondedForce', -2071.707114579371), ('AndersenThermostat', 0.0), ('MonteCarloBarostat', 0.0)]\n",
      "conducting subsequent work with the following platform: CPU\n",
      "[('CustomBondForce', 8.321999064998987), ('CustomAngleForce', 410.00115528060746), ('CustomTorsionForce', 165.0420754023654), ('AndersenThermostat', 0.0), ('MonteCarloBarostat', 0.0)]\n",
      "Success! Custom torsion force and standard torsion force energies are equal!\n"
     ]
    }
   ],
   "source": [
    "test_torsion_energies(htf, is_old=False, is_solvated=True)"
   ]
  },
  {
   "cell_type": "markdown",
   "id": "intellectual-pennsylvania",
   "metadata": {},
   "source": [
    "### Test one alchemical region, one scale region"
   ]
  },
  {
   "cell_type": "code",
   "execution_count": 20,
   "id": "4e12fd1c",
   "metadata": {},
   "outputs": [],
   "source": [
    "import os\n",
    "from pkg_resources import resource_filename\n",
    "from perses.app import setup_relative_calculation\n",
    "import pickle\n",
    "from simtk import openmm, unit\n",
    "from simtk.openmm import app\n",
    "from openmmforcefields.generators import SystemGenerator\n",
    "import numpy as np"
   ]
  },
  {
   "cell_type": "code",
   "execution_count": 21,
   "id": "12142255",
   "metadata": {},
   "outputs": [],
   "source": [
    "# Test 8-mer peptide in solvent\n",
    "peptide_filename = resource_filename('perses', 'data/8mer-example/4zuh_peptide_capped.pdb')\n",
    "pdb = app.PDBFile(peptide_filename)\n",
    "forcefield_files = ['amber14/protein.ff14SB.xml', 'amber14/tip3p.xml']\n",
    "barostat = openmm.MonteCarloBarostat(1.0 * unit.atmosphere, 300 * unit.kelvin, 50)\n",
    "# barostat = None\n",
    "modeller = app.Modeller(pdb.topology, pdb.positions)\n",
    " \n",
    "system_generator = SystemGenerator(forcefields=forcefield_files,\n",
    "                                   barostat=barostat,\n",
    "                                   forcefield_kwargs={'removeCMMotion': False,\n",
    "                                                      'ewaldErrorTolerance': 0.00025,\n",
    "                                                      'constraints': app.HBonds,\n",
    "                                                      'hydrogenMass': 4 * unit.amus},\n",
    "                                   periodic_forcefield_kwargs=None,\n",
    "                                   small_molecule_forcefield='gaff-2.11',\n",
    "                                   nonperiodic_forcefield_kwargs={'nonbondedMethod': app.NoCutoff},\n",
    "                                   molecules=None,\n",
    "                                   cache=None)\n",
    "\n",
    "modeller.addSolvent(system_generator.forcefield, model='tip3p', padding=9*unit.angstroms, ionicStrength=0.15*unit.molar)\n",
    "topology = modeller.getTopology()\n",
    "positions = modeller.getPositions()\n",
    "\n",
    "# Canonicalize the solvated positions: turn tuples into np.array\n",
    "positions = unit.quantity.Quantity(value=np.array([list(atom_pos) for atom_pos in positions.value_in_unit_system(unit.md_unit_system)]), unit=unit.nanometers)\n",
    "system = system_generator.create_system(topology)\n",
    "\n"
   ]
  },
  {
   "cell_type": "code",
   "execution_count": 22,
   "id": "dd6352bf",
   "metadata": {
    "scrolled": true
   },
   "outputs": [
    {
     "name": "stderr",
     "output_type": "stream",
     "text": [
      "2021-05-12 14:38:15,406:(20.62s):proposal_generator:\tConducting polymer point mutation proposal...\n"
     ]
    },
    {
     "name": "stdout",
     "output_type": "stream",
     "text": [
      "Making mutation ALA->GLN\n"
     ]
    },
    {
     "name": "stderr",
     "output_type": "stream",
     "text": [
      "2021-05-12 14:38:15,910:(0.50s):proposal_generator:Using matching_criterion to chose best atom map\n",
      "2021-05-12 14:38:15,917:(0.01s):proposal_generator:Scaffold has symmetry of 0\n",
      "2021-05-12 14:38:15,920:(0.00s):proposal_generator:Two molecules are not similar to have a common scaffold\n",
      "2021-05-12 14:38:15,922:(0.00s):proposal_generator:Proceeding with direct mapping of molecules, but please check atom mapping and the geometry of the ligands.\n",
      "2021-05-12 14:38:15,927:(0.00s):proposal_generator:len [{14: 8}, {16: 9}, {15: 9}, {14: 9}, {13: 9}, {12: 9}, {11: 9}, {16: 8}, {15: 8}, {11: 7}, {13: 8}, {12: 8}, {11: 8}, {16: 7}, {15: 7}, {14: 7}, {13: 7}, {12: 7}]\n",
      "2021-05-12 14:38:15,929:(0.00s):proposal_generator:{14: 8}\n",
      "2021-05-12 14:38:15,931:(0.00s):proposal_generator:{16: 9}\n",
      "2021-05-12 14:38:15,933:(0.00s):proposal_generator:{15: 9}\n",
      "2021-05-12 14:38:15,935:(0.00s):proposal_generator:{14: 9}\n",
      "2021-05-12 14:38:15,937:(0.00s):proposal_generator:{13: 9}\n",
      "2021-05-12 14:38:15,939:(0.00s):proposal_generator:{12: 9}\n",
      "2021-05-12 14:38:15,941:(0.00s):proposal_generator:{11: 9}\n",
      "2021-05-12 14:38:15,943:(0.00s):proposal_generator:{16: 8}\n",
      "2021-05-12 14:38:15,945:(0.00s):proposal_generator:{15: 8}\n",
      "2021-05-12 14:38:15,946:(0.00s):proposal_generator:{11: 7}\n",
      "2021-05-12 14:38:15,948:(0.00s):proposal_generator:{13: 8}\n",
      "2021-05-12 14:38:15,949:(0.00s):proposal_generator:{12: 8}\n",
      "2021-05-12 14:38:15,950:(0.00s):proposal_generator:{11: 8}\n",
      "2021-05-12 14:38:15,953:(0.00s):proposal_generator:{16: 7}\n",
      "2021-05-12 14:38:15,953:(0.00s):proposal_generator:{15: 7}\n",
      "2021-05-12 14:38:15,954:(0.00s):proposal_generator:{14: 7}\n",
      "2021-05-12 14:38:15,955:(0.00s):proposal_generator:{13: 7}\n",
      "2021-05-12 14:38:15,955:(0.00s):proposal_generator:{12: 7}\n",
      "2021-05-12 14:38:15,956:(0.00s):proposal_generator:Returning map that best satisfies matching_criterion\n",
      "2021-05-12 14:38:15,957:(0.00s):proposal_generator:Finding best map using matching_criterion name\n",
      "2021-05-12 14:38:15,959:(0.00s):proposal_generator:{14: 8}\n",
      "2021-05-12 14:38:17,652:(1.69s):geometry:propose: performing forward proposal\n",
      "2021-05-12 14:38:17,656:(0.00s):geometry:propose: unique new atoms detected; proceeding to _logp_propose...\n",
      "2021-05-12 14:38:17,659:(0.00s):geometry:Conducting forward proposal...\n",
      "2021-05-12 14:38:17,661:(0.00s):geometry:Computing proposal order with NetworkX...\n",
      "2021-05-12 14:38:17,681:(0.02s):geometry:number of atoms to be placed: 11\n",
      "2021-05-12 14:38:17,684:(0.00s):geometry:Atom index proposal order is [21, 26, 29, 31, 30, 28, 27, 33, 25, 24, 32]\n",
      "2021-05-12 14:38:17,686:(0.00s):geometry:omitted_bonds: []\n",
      "2021-05-12 14:38:17,688:(0.00s):geometry:direction of proposal is forward; creating atoms_with_positions and new positions from old system/topology...\n",
      "2021-05-12 14:38:18,385:(0.70s):geometry:creating growth system...\n",
      "2021-05-12 14:38:18,580:(0.19s):geometry:\tcreating bond force...\n",
      "2021-05-12 14:38:18,583:(0.00s):geometry:\tthere are 65 bonds in reference force.\n",
      "2021-05-12 14:38:18,587:(0.00s):geometry:\tcreating angle force...\n",
      "2021-05-12 14:38:18,590:(0.00s):geometry:\tthere are 230 angles in reference force.\n",
      "2021-05-12 14:38:18,596:(0.01s):geometry:\tcreating torsion force...\n",
      "2021-05-12 14:38:18,599:(0.00s):geometry:\tcreating extra torsions force...\n",
      "2021-05-12 14:38:18,602:(0.00s):geometry:\tthere are 433 torsions in reference force.\n",
      "2021-05-12 14:38:18,611:(0.01s):geometry:\tcreating nonbonded force...\n",
      "2021-05-12 14:38:18,614:(0.00s):geometry:\t\tgrabbing reference nonbonded method, cutoff, switching function, switching distance...\n",
      "2021-05-12 14:38:18,617:(0.00s):geometry:\t\tcreating nonbonded exception force (i.e. custom bond for 1,4s)...\n",
      "2021-05-12 14:38:18,619:(0.00s):geometry:\t\tlooping through exceptions calculating growth indices, and adding appropriate interactions to custom bond force.\n",
      "2021-05-12 14:38:18,622:(0.00s):geometry:\t\tthere are 6125 in the reference Nonbonded force\n",
      "2021-05-12 14:38:18,806:(0.18s):geometry:\t\t\t\t\tchiral atom <Atom 18 (CA) of chain 0 residue 2 (GLN)> with neighbors [<Atom 19 (C) of chain 0 residue 2 (GLN)>, <Atom 21 (CB) of chain 0 residue 2 (GLN)>, <Atom 23 (HA) of chain 0 residue 2 (GLN)>, <Atom 17 (N) of chain 0 residue 2 (GLN)>] is surrounded by 3 core neighbors.  omitting chirality bias torsion\n",
      "2021-05-12 14:38:18,810:(0.00s):geometry:Neglected angle terms : []\n",
      "2021-05-12 14:38:18,812:(0.00s):geometry:omitted_growth_terms: {'bonds': [], 'angles': [], 'torsions': [], '1,4s': []}\n",
      "2021-05-12 14:38:18,814:(0.00s):geometry:extra torsions: {0: (22, 17, 18, 21, [1, Quantity(value=1.0057663077443264, unit=radian), Quantity(value=1200.0, unit=kilocalorie/mole), 1]), 1: (26, 29, 31, 33, [1, Quantity(value=-3.0882254055683354, unit=radian), Quantity(value=1200.0, unit=kilocalorie/mole), 8]), 2: (26, 29, 31, 32, [1, Quantity(value=-0.07109801841150531, unit=radian), Quantity(value=1200.0, unit=kilocalorie/mole), 11]), 3: (30, 29, 31, 33, [1, Quantity(value=0.07602552844594745, unit=radian), Quantity(value=1200.0, unit=kilocalorie/mole), 8]), 4: (30, 29, 31, 32, [1, Quantity(value=3.0931529156027717, unit=radian), Quantity(value=1200.0, unit=kilocalorie/mole), 11])}\n",
      "2021-05-12 14:38:18,817:(0.00s):geometry:neglected angle terms include []\n",
      "2021-05-12 14:38:18,820:(0.00s):geometry:log probability choice of torsions and atom order: -16.3927265258352\n",
      "2021-05-12 14:38:18,822:(0.00s):geometry:creating platform, integrators, and contexts; setting growth parameter\n",
      "2021-05-12 14:38:18,958:(0.14s):geometry:setting atoms_with_positions context new positions\n",
      "2021-05-12 14:38:19,080:(0.12s):geometry:There are 11 new atoms\n",
      "2021-05-12 14:38:19,087:(0.01s):geometry:\treduced angle potential = 0.07803704690430799.\n"
     ]
    },
    {
     "name": "stdout",
     "output_type": "stream",
     "text": [
      "Desired platform not supported. exception raised: Error initializing CUDA: CUDA_ERROR_NO_DEVICE (100) at /home/conda/feedstock_root/build_artifacts/openmm_1613569706035/work/platforms/cuda/src/CudaContext.cpp:138\n",
      "Warning: Returning Reference platform instead of requested platform CUDA\n",
      "conducting subsequent work with the following platform: Reference\n",
      "conducting subsequent work with the following platform: CPU\n"
     ]
    },
    {
     "name": "stderr",
     "output_type": "stream",
     "text": [
      "2021-05-12 14:38:19,181:(0.09s):geometry:\treduced angle potential = 0.008352123035916375.\n",
      "2021-05-12 14:38:19,271:(0.09s):geometry:\treduced angle potential = 0.015784078770126962.\n",
      "2021-05-12 14:38:19,364:(0.09s):geometry:\treduced angle potential = 0.9898100750114333.\n",
      "2021-05-12 14:38:19,456:(0.09s):geometry:\treduced angle potential = 0.6134708757443885.\n",
      "2021-05-12 14:38:19,561:(0.11s):geometry:\treduced angle potential = 0.19548685491694504.\n",
      "2021-05-12 14:38:19,666:(0.11s):geometry:\treduced angle potential = 1.5697605249689077.\n",
      "2021-05-12 14:38:19,771:(0.10s):geometry:\treduced angle potential = 0.060108167491294905.\n",
      "2021-05-12 14:38:19,876:(0.11s):geometry:\treduced angle potential = 0.027996195506081057.\n",
      "2021-05-12 14:38:19,981:(0.11s):geometry:\treduced angle potential = 0.06875139835281359.\n",
      "2021-05-12 14:38:20,088:(0.11s):geometry:\treduced angle potential = 3.4001666518231564.\n",
      "2021-05-12 14:38:20,292:(0.20s):geometry:\tbeginning construction of no_nonbonded final system...\n",
      "2021-05-12 14:38:20,296:(0.00s):geometry:\tinitial no-nonbonded final system forces ['HarmonicBondForce', 'HarmonicAngleForce', 'PeriodicTorsionForce', 'NonbondedForce', 'MonteCarloBarostat']\n",
      "2021-05-12 14:38:20,782:(0.49s):geometry:\tfinal no-nonbonded final system forces dict_keys(['HarmonicBondForce', 'HarmonicAngleForce', 'PeriodicTorsionForce', 'NonbondedForce'])\n",
      "2021-05-12 14:38:20,785:(0.00s):geometry:\tthere are 65 bond forces in the no-nonbonded final system\n",
      "2021-05-12 14:38:20,787:(0.00s):geometry:\tthere are 230 angle forces in the no-nonbonded final system\n",
      "2021-05-12 14:38:20,789:(0.00s):geometry:\tthere are 433 torsion forces in the no-nonbonded final system\n",
      "2021-05-12 14:38:20,791:(0.00s):geometry:forward final system defined with 0 neglected angles.\n"
     ]
    },
    {
     "name": "stdout",
     "output_type": "stream",
     "text": [
      "conducting subsequent work with the following platform: CPU\n"
     ]
    },
    {
     "name": "stderr",
     "output_type": "stream",
     "text": [
      "2021-05-12 14:38:22,142:(1.35s):geometry:total reduced potential before atom placement: 168.36661711374197\n"
     ]
    },
    {
     "name": "stdout",
     "output_type": "stream",
     "text": [
      "conducting subsequent work with the following platform: CPU\n",
      "conducting subsequent work with the following platform: CPU\n"
     ]
    },
    {
     "name": "stderr",
     "output_type": "stream",
     "text": [
      "2021-05-12 14:38:22,361:(0.22s):geometry:total reduced energy added from growth system: 316.604738330957\n",
      "2021-05-12 14:38:22,364:(0.00s):geometry:final reduced energy 484.9713541475284\n",
      "2021-05-12 14:38:22,366:(0.00s):geometry:sum of energies: 484.97135544469893\n",
      "2021-05-12 14:38:22,368:(0.00s):geometry:magnitude of difference in the energies: 1.2971705132258649e-06\n",
      "2021-05-12 14:38:22,370:(0.00s):geometry:Final logp_proposal: 72.59096618455602\n",
      "2021-05-12 14:38:22,383:(0.01s):geometry:logp_reverse: performing reverse proposal\n",
      "2021-05-12 14:38:22,386:(0.00s):geometry:logp_reverse: unique new atoms detected; proceeding to _logp_propose...\n",
      "2021-05-12 14:38:22,388:(0.00s):geometry:Conducting forward proposal...\n",
      "2021-05-12 14:38:22,390:(0.00s):geometry:Computing proposal order with NetworkX...\n",
      "2021-05-12 14:38:22,404:(0.01s):geometry:number of atoms to be placed: 4\n",
      "2021-05-12 14:38:22,407:(0.00s):geometry:Atom index proposal order is [21, 24, 25, 26]\n",
      "2021-05-12 14:38:22,410:(0.00s):geometry:omitted_bonds: []\n",
      "2021-05-12 14:38:22,412:(0.00s):geometry:direction of proposal is reverse; creating atoms_with_positions from old system/topology\n"
     ]
    },
    {
     "name": "stdout",
     "output_type": "stream",
     "text": [
      "Desired platform not supported. exception raised: Error initializing CUDA: CUDA_ERROR_NO_DEVICE (100) at /home/conda/feedstock_root/build_artifacts/openmm_1613569706035/work/platforms/cuda/src/CudaContext.cpp:138\n",
      "Warning: Returning Reference platform instead of requested platform CUDA\n",
      "conducting subsequent work with the following platform: Reference\n",
      "conducting subsequent work with the following platform: CPU\n",
      "added energy components: [('CustomBondForce', 2.0243841717229287), ('CustomAngleForce', 281.33158550333775), ('CustomTorsionForce', 29.001130186703207), ('CustomBondForce', 4.247638469193067)]\n"
     ]
    },
    {
     "name": "stderr",
     "output_type": "stream",
     "text": [
      "2021-05-12 14:38:23,703:(1.29s):geometry:creating growth system...\n",
      "2021-05-12 14:38:23,888:(0.19s):geometry:\tcreating bond force...\n",
      "2021-05-12 14:38:23,892:(0.00s):geometry:\tthere are 61 bonds in reference force.\n",
      "2021-05-12 14:38:23,895:(0.00s):geometry:\tcreating angle force...\n",
      "2021-05-12 14:38:23,897:(0.00s):geometry:\tthere are 218 angles in reference force.\n",
      "2021-05-12 14:38:23,902:(0.01s):geometry:\tcreating torsion force...\n",
      "2021-05-12 14:38:23,905:(0.00s):geometry:\tcreating extra torsions force...\n",
      "2021-05-12 14:38:23,907:(0.00s):geometry:\tthere are 399 torsions in reference force.\n",
      "2021-05-12 14:38:23,912:(0.01s):geometry:\tcreating nonbonded force...\n",
      "2021-05-12 14:38:23,914:(0.00s):geometry:\t\tgrabbing reference nonbonded method, cutoff, switching function, switching distance...\n",
      "2021-05-12 14:38:23,916:(0.00s):geometry:\t\tcreating nonbonded exception force (i.e. custom bond for 1,4s)...\n",
      "2021-05-12 14:38:23,919:(0.00s):geometry:\t\tlooping through exceptions calculating growth indices, and adding appropriate interactions to custom bond force.\n",
      "2021-05-12 14:38:23,921:(0.00s):geometry:\t\tthere are 6087 in the reference Nonbonded force\n",
      "2021-05-12 14:38:24,094:(0.17s):geometry:\t\t\t\t\tchiral atom <Atom 18 (CA) of chain 0 residue 2 (ALA)> with neighbors [<Atom 19 (C) of chain 0 residue 2 (ALA)>, <Atom 21 (CB) of chain 0 residue 2 (ALA)>, <Atom 23 (HA) of chain 0 residue 2 (ALA)>, <Atom 17 (N) of chain 0 residue 2 (ALA)>] is surrounded by 3 core neighbors.  omitting chirality bias torsion\n",
      "2021-05-12 14:38:24,097:(0.00s):geometry:Neglected angle terms : []\n",
      "2021-05-12 14:38:24,100:(0.00s):geometry:omitted_growth_terms: {'bonds': [], 'angles': [], 'torsions': [], '1,4s': []}\n",
      "2021-05-12 14:38:24,102:(0.00s):geometry:extra torsions: {0: (22, 17, 18, 21, [1, Quantity(value=0.9799661941737812, unit=radian), Quantity(value=1200.0, unit=kilocalorie/mole), 1]), 1: (17, 18, 21, 24, [1, Quantity(value=2.105358864604291, unit=radian), Quantity(value=1200.0, unit=kilocalorie/mole), 2]), 2: (17, 18, 21, 25, [1, Quantity(value=-2.0823006129211796, unit=radian), Quantity(value=1200.0, unit=kilocalorie/mole), 3]), 3: (17, 18, 21, 26, [1, Quantity(value=0.018582237407944735, unit=radian), Quantity(value=1200.0, unit=kilocalorie/mole), 4]), 4: (19, 18, 21, 24, [1, Quantity(value=-0.036945135932107576, unit=radian), Quantity(value=1200.0, unit=kilocalorie/mole), 2]), 5: (19, 18, 21, 25, [1, Quantity(value=2.0585806937220097, unit=radian), Quantity(value=1200.0, unit=kilocalorie/mole), 3]), 6: (19, 18, 21, 26, [1, Quantity(value=-2.1237217631284597, unit=radian), Quantity(value=1200.0, unit=kilocalorie/mole), 4]), 7: (23, 18, 21, 24, [1, Quantity(value=-2.119603470065817, unit=radian), Quantity(value=1200.0, unit=kilocalorie/mole), 2]), 8: (23, 18, 21, 25, [1, Quantity(value=-0.024077640411697132, unit=radian), Quantity(value=1200.0, unit=kilocalorie/mole), 3]), 9: (23, 18, 21, 26, [1, Quantity(value=2.0768052099174152, unit=radian), Quantity(value=1200.0, unit=kilocalorie/mole), 4])}\n",
      "2021-05-12 14:38:24,104:(0.00s):geometry:neglected angle terms include []\n",
      "2021-05-12 14:38:24,106:(0.00s):geometry:log probability choice of torsions and atom order: -5.78074351579233\n",
      "2021-05-12 14:38:24,108:(0.00s):geometry:creating platform, integrators, and contexts; setting growth parameter\n",
      "2021-05-12 14:38:24,245:(0.14s):geometry:setting atoms_with_positions context old positions\n",
      "2021-05-12 14:38:24,371:(0.13s):geometry:There are 4 new atoms\n",
      "2021-05-12 14:38:24,377:(0.01s):geometry:\treduced angle potential = 0.042051561766555265.\n"
     ]
    },
    {
     "name": "stdout",
     "output_type": "stream",
     "text": [
      "Desired platform not supported. exception raised: Error initializing CUDA: CUDA_ERROR_NO_DEVICE (100) at /home/conda/feedstock_root/build_artifacts/openmm_1613569706035/work/platforms/cuda/src/CudaContext.cpp:138\n",
      "Warning: Returning Reference platform instead of requested platform CUDA\n",
      "conducting subsequent work with the following platform: Reference\n",
      "conducting subsequent work with the following platform: CPU\n"
     ]
    },
    {
     "name": "stderr",
     "output_type": "stream",
     "text": [
      "2021-05-12 14:38:24,464:(0.09s):geometry:\treduced angle potential = 9.265637866968462e-06.\n",
      "2021-05-12 14:38:24,543:(0.08s):geometry:\treduced angle potential = 9.561051668702576e-06.\n",
      "2021-05-12 14:38:24,625:(0.08s):geometry:\treduced angle potential = 2.233125127093818e-08.\n",
      "2021-05-12 14:38:24,821:(0.20s):geometry:\tbeginning construction of no_nonbonded final system...\n",
      "2021-05-12 14:38:24,825:(0.00s):geometry:\tinitial no-nonbonded final system forces ['HarmonicBondForce', 'HarmonicAngleForce', 'PeriodicTorsionForce', 'NonbondedForce', 'MonteCarloBarostat']\n",
      "2021-05-12 14:38:25,304:(0.48s):geometry:\tfinal no-nonbonded final system forces dict_keys(['HarmonicBondForce', 'HarmonicAngleForce', 'PeriodicTorsionForce', 'NonbondedForce'])\n",
      "2021-05-12 14:38:25,307:(0.00s):geometry:\tthere are 61 bond forces in the no-nonbonded final system\n",
      "2021-05-12 14:38:25,310:(0.00s):geometry:\tthere are 218 angle forces in the no-nonbonded final system\n",
      "2021-05-12 14:38:25,312:(0.00s):geometry:\tthere are 399 torsion forces in the no-nonbonded final system\n",
      "2021-05-12 14:38:25,314:(0.00s):geometry:reverse final system defined with 0 neglected angles.\n"
     ]
    },
    {
     "name": "stdout",
     "output_type": "stream",
     "text": [
      "conducting subsequent work with the following platform: CPU\n"
     ]
    },
    {
     "name": "stderr",
     "output_type": "stream",
     "text": [
      "2021-05-12 14:38:26,658:(1.34s):geometry:total reduced potential before atom placement: 168.3666171145445\n"
     ]
    },
    {
     "name": "stdout",
     "output_type": "stream",
     "text": [
      "conducting subsequent work with the following platform: CPU\n",
      "conducting subsequent work with the following platform: CPU\n"
     ]
    },
    {
     "name": "stderr",
     "output_type": "stream",
     "text": [
      "2021-05-12 14:38:26,904:(0.25s):geometry:total reduced energy added from growth system: 19.113357542933382\n",
      "2021-05-12 14:38:26,907:(0.00s):geometry:final reduced energy 187.47997478600607\n",
      "2021-05-12 14:38:26,910:(0.00s):geometry:sum of energies: 187.4799746574779\n",
      "2021-05-12 14:38:26,912:(0.00s):geometry:magnitude of difference in the energies: 1.2852817476982636e-07\n",
      "2021-05-12 14:38:26,914:(0.00s):geometry:Final logp_proposal: -30571.76077952775\n"
     ]
    },
    {
     "name": "stdout",
     "output_type": "stream",
     "text": [
      "Desired platform not supported. exception raised: Error initializing CUDA: CUDA_ERROR_NO_DEVICE (100) at /home/conda/feedstock_root/build_artifacts/openmm_1613569706035/work/platforms/cuda/src/CudaContext.cpp:138\n",
      "Warning: Returning Reference platform instead of requested platform CUDA\n",
      "conducting subsequent work with the following platform: Reference\n",
      "conducting subsequent work with the following platform: CPU\n",
      "added energy components: [('CustomBondForce', 0.04562514569649219), ('CustomAngleForce', 0.11963265647716706), ('CustomTorsionForce', 7.457414093494336), ('CustomBondForce', 11.490685647265389)]\n"
     ]
    }
   ],
   "source": [
    "from perses.rjmc.topology_proposal import PointMutationEngine\n",
    "from perses.annihilation.relative import RepartitionedHybridTopologyFactory\n",
    "from perses.tests.utils import validate_endstate_energies\n",
    "import random\n",
    "\n",
    "aminos = ['ALA','ARG','ASN','ASP','CYS','GLN','GLU','GLY','HIS','ILE','LEU','LYS','MET','PHE','PRO','SER','THR','TRP','TYR','VAL']\n",
    "\n",
    "ENERGY_THRESHOLD = 1e-6\n",
    "kB = unit.BOLTZMANN_CONSTANT_kB * unit.AVOGADRO_CONSTANT_NA\n",
    "temperature = 300.0 * unit.kelvin\n",
    "kT = kB * temperature\n",
    "beta = 1.0/kT\n",
    "\n",
    "chain = 'C'\n",
    "for res in topology.residues():\n",
    "    if res.id == '2':\n",
    "        wt_res = res.name\n",
    "aminos_updated = [amino for amino in aminos if amino not in [wt_res, 'PRO', 'HIS', 'TRP', 'PHE', 'TYR']]\n",
    "mutant = random.choice(aminos_updated)\n",
    "print(f'Making mutation {wt_res}->{mutant}')\n",
    "\n",
    "# Create point mutation engine to mutate residue at id 2 to random amino acid\n",
    "point_mutation_engine = PointMutationEngine(wildtype_topology=topology,\n",
    "                                            system_generator=system_generator,\n",
    "                                            chain_id=chain,\n",
    "                                            max_point_mutants=1,\n",
    "                                            residues_allowed_to_mutate=['2'],  # the residue ids allowed to mutate\n",
    "                                            allowed_mutations=[('2', mutant)],\n",
    "                                            aggregate=True)  # always allow aggregation\n",
    "\n",
    "# Create topology proposal\n",
    "topology_proposal = point_mutation_engine.propose(current_system=system, current_topology=topology)\n",
    "\n",
    "# Create geometry engine\n",
    "from perses.rjmc.geometry import FFAllAngleGeometryEngine\n",
    "geometry_engine = FFAllAngleGeometryEngine(metadata=None,\n",
    "                                           use_sterics=False,\n",
    "                                           n_bond_divisions=100,\n",
    "                                           n_angle_divisions=180,\n",
    "                                           n_torsion_divisions=360,\n",
    "                                           verbose=True,\n",
    "                                           storage=None,\n",
    "                                           bond_softening_constant=1.0,\n",
    "                                           angle_softening_constant=1.0,\n",
    "                                           neglect_angles=False,\n",
    "                                           use_14_nonbondeds=True)\n",
    "\n",
    "# Create geometry proposal\n",
    "new_positions, logp_proposal = geometry_engine.propose(topology_proposal, positions, beta,\n",
    "                                                               validate_energy_bookkeeping=True)\n",
    "logp_reverse = geometry_engine.logp_reverse(topology_proposal, new_positions, positions, beta,\n",
    "                                            validate_energy_bookkeeping=True)\n",
    "\n",
    "if not topology_proposal.unique_new_atoms:\n",
    "    assert geometry_engine.forward_final_context_reduced_potential == None, f\"There are no unique new atoms but the geometry_engine's final context reduced potential is not None (i.e. {self._geometry_engine.forward_final_context_reduced_potential})\"\n",
    "    assert geometry_engine.forward_atoms_with_positions_reduced_potential == None, f\"There are no unique new atoms but the geometry_engine's forward atoms-with-positions-reduced-potential in not None (i.e. { self._geometry_engine.forward_atoms_with_positions_reduced_potential})\"\n",
    "    vacuum_added_valence_energy = 0.0\n",
    "else:\n",
    "    added_valence_energy = geometry_engine.forward_final_context_reduced_potential - geometry_engine.forward_atoms_with_positions_reduced_potential\n",
    "\n",
    "if not topology_proposal.unique_old_atoms:\n",
    "    assert geometry_engine.reverse_final_context_reduced_potential == None, f\"There are no unique old atoms but the geometry_engine's final context reduced potential is not None (i.e. {self._geometry_engine.reverse_final_context_reduced_potential})\"\n",
    "    assert geometry_engine.reverse_atoms_with_positions_reduced_potential == None, f\"There are no unique old atoms but the geometry_engine's atoms-with-positions-reduced-potential in not None (i.e. { self._geometry_engine.reverse_atoms_with_positions_reduced_potential})\"\n",
    "    subtracted_valence_energy = 0.0\n",
    "else:\n",
    "    subtracted_valence_energy = geometry_engine.reverse_final_context_reduced_potential - geometry_engine.reverse_atoms_with_positions_reduced_potential\n"
   ]
  },
  {
   "cell_type": "code",
   "execution_count": 23,
   "id": "3213dec6",
   "metadata": {
    "scrolled": true
   },
   "outputs": [
    {
     "name": "stderr",
     "output_type": "stream",
     "text": [
      "2021-05-12 14:38:26,944:(0.03s):relative:*** Generating RxnHybridTopologyFactory ***\n",
      "2021-05-12 14:38:26,947:(0.00s):relative:Beginning nonbonded method, total particle, barostat, and exceptions retrieval...\n",
      "2021-05-12 14:38:27,183:(0.24s):relative:Old system forces: dict_keys(['HarmonicBondForce', 'HarmonicAngleForce', 'PeriodicTorsionForce', 'NonbondedForce', 'MonteCarloBarostat'])\n",
      "2021-05-12 14:38:27,187:(0.00s):relative:New system forces: dict_keys(['HarmonicBondForce', 'HarmonicAngleForce', 'PeriodicTorsionForce', 'NonbondedForce', 'MonteCarloBarostat'])\n",
      "2021-05-12 14:38:27,190:(0.00s):relative:No unknown forces.\n",
      "2021-05-12 14:38:27,193:(0.00s):relative:Nonbonded method to be used (i.e. from old system): 4\n",
      "2021-05-12 14:38:27,195:(0.00s):relative:Adding and mapping old atoms to hybrid system...\n",
      "2021-05-12 14:38:27,273:(0.08s):relative:Adding and mapping new atoms to hybrid system...\n",
      "2021-05-12 14:38:27,276:(0.00s):relative:scale_templates: [['nonscale_lambda', 'scale_lambda_0', 'interscale_lambda_0'], ['nonscale_region', 'scale_region_0', 'interscale_region_0']]\n",
      "2021-05-12 14:38:27,279:(0.00s):relative:Added MonteCarloBarostat.\n",
      "2021-05-12 14:38:27,281:(0.00s):relative:getDefaultPeriodicBoxVectors added to hybrid: [Quantity(value=Vec3(x=3.9005, y=0.0, z=0.0), unit=nanometer), Quantity(value=Vec3(x=0.0, y=3.9005, z=0.0), unit=nanometer), Quantity(value=Vec3(x=0.0, y=0.0, z=3.9005), unit=nanometer)]\n",
      "2021-05-12 14:38:27,288:(0.01s):relative:Determined atom classes.\n",
      "2021-05-12 14:38:27,291:(0.00s):relative:Generating old system exceptions dict...\n",
      "2021-05-12 14:38:27,344:(0.05s):relative:Generating new system exceptions dict...\n",
      "2021-05-12 14:38:27,417:(0.07s):relative:Handling constraints...\n",
      "2021-05-12 14:38:27,594:(0.18s):relative:Handling virtual sites...\n",
      "2021-05-12 14:38:27,603:(0.01s):relative:\t_handle_virtual_sites: numVirtualSites: 0\n",
      "2021-05-12 14:38:27,675:(0.07s):relative:hybrid_index_pair (105, 106, 107, 116) was not found in the new_term_collector, but (106, 105, 107, 116) has the same atoms and terms, so (106, 105, 107, 116) will be removed from the new term collector\n"
     ]
    },
    {
     "name": "stdout",
     "output_type": "stream",
     "text": [
      "( nonscale_lambda_bonds * nonscale_region+scale_lambda_0_bonds * scale_region_0+interscale_lambda_0_bonds * interscale_region_0 ) * (K/2)*(r-length)^2;K = ( 1 * environment_region+lambda_0_bonds_old * alchemical_region_0 ) * K1 + ( 1 * environment_region+lambda_0_bonds_new * alchemical_region_0 ) * K2;length = ( 1 * environment_region+lambda_0_bonds_old * alchemical_region_0 ) * length1 + ( 1 * environment_region+lambda_0_bonds_new * alchemical_region_0 ) * length2;\n"
     ]
    }
   ],
   "source": [
    "from perses.annihilation.relative import RxnHybridTopologyFactory\n",
    "flatten_exceptions = True\n",
    "flatten_torsions = True\n",
    "endstate = None\n",
    "scale_regions = [list(htf._atom_classes['unique_old_atoms'][0]) + list(htf._atom_classes['unique_new_atoms'][0])]\n",
    "htf = RxnHybridTopologyFactory(topology_proposal=topology_proposal,\n",
    "                     current_positions=positions,\n",
    "                     new_positions=new_positions,\n",
    "                     use_dispersion_correction=False,\n",
    "                     functions=None,\n",
    "                     softcore_alpha=None,\n",
    "                     bond_softening_constant=1.0,\n",
    "                     angle_softening_constant=1.0,\n",
    "                     soften_only_new=False,\n",
    "                     neglected_new_angle_terms=[],\n",
    "                     neglected_old_angle_terms=[],\n",
    "                     softcore_LJ_v2=True,\n",
    "                     softcore_electrostatics=True,\n",
    "                     softcore_LJ_v2_alpha=0.85,\n",
    "                     softcore_electrostatics_alpha=0.3,\n",
    "                     softcore_sigma_Q=1.0,\n",
    "                     interpolate_old_and_new_14s=flatten_exceptions,\n",
    "                     omitted_terms=None,\n",
    "                     flatten_torsions=flatten_torsions,\n",
    "                     scale_regions=scale_regions)"
   ]
  },
  {
   "cell_type": "code",
   "execution_count": 24,
   "id": "053830ab",
   "metadata": {},
   "outputs": [],
   "source": [
    "# Save htf\n",
    "with open(\"8mer_solvent_scale_region.pickle\", \"wb\") as f:\n",
    "    pickle.dump(htf, f)"
   ]
  },
  {
   "cell_type": "markdown",
   "id": "romantic-florist",
   "metadata": {},
   "source": [
    "#### Old system HarmonicBondForce vs hybrid system CustomBondForce"
   ]
  },
  {
   "cell_type": "code",
   "execution_count": 25,
   "id": "needed-classroom",
   "metadata": {},
   "outputs": [],
   "source": [
    "# Load htf\n",
    "with open(\"/home/zhangi/choderalab/perses_benchmark/perses_protein_mutations/code/26_rxn_field/8mer_solvent_scale_region.pickle\", \"rb\") as f:\n",
    "    htf = pickle.load(f)"
   ]
  },
  {
   "cell_type": "code",
   "execution_count": 26,
   "id": "minimal-purchase",
   "metadata": {},
   "outputs": [
    {
     "data": {
      "text/plain": [
       "[24,\n",
       " 25,\n",
       " 26,\n",
       " 21,\n",
       " 5575,\n",
       " 5576,\n",
       " 5577,\n",
       " 5578,\n",
       " 5579,\n",
       " 5580,\n",
       " 5581,\n",
       " 5582,\n",
       " 5583,\n",
       " 5584,\n",
       " 5585]"
      ]
     },
     "execution_count": 26,
     "metadata": {},
     "output_type": "execute_result"
    }
   ],
   "source": [
    "# This is the scale region\n",
    "list(htf._atom_classes['unique_old_atoms'][0]) + list(htf._atom_classes['unique_new_atoms'][0])"
   ]
  },
  {
   "cell_type": "code",
   "execution_count": 27,
   "id": "continuing-award",
   "metadata": {
    "scrolled": true
   },
   "outputs": [
    {
     "name": "stdout",
     "output_type": "stream",
     "text": [
      "{432: 39, 433: 40, 434: 41, 451: 58, 452: 59, 453: 60, 454: 61, 455: 62, 456: 63, 459: 66, 460: 67, 461: 68, 462: 69, 463: 70, 464: 71, 465: 72, 466: 73, 467: 74, 468: 75, 469: 76, 470: 77, 481: 88, 482: 89, 483: 90, 484: 91, 485: 92, 486: 93, 487: 94, 488: 95, 489: 96, 490: 97, 491: 98, 492: 99, 493: 100, 494: 101, 495: 102, 496: 103, 497: 104, 498: 105, 499: 106, 500: 107, 501: 108, 502: 109, 503: 110, 504: 111, 505: 112, 506: 113, 569: 410, 570: 411}\n",
      "Warning: Returning CPU platform instead of requested platform <simtk.openmm.openmm.Platform; proxy of <Swig Object of type 'OpenMM::Platform *' at 0x2b3ab4ccdfc0> >\n",
      "conducting subsequent work with the following platform: CPU\n",
      "conducting subsequent work with the following platform: CPU\n",
      "[('HarmonicBondForce', 7.300097488950959), ('HarmonicAngleForce', 12.445683175437441), ('PeriodicTorsionForce', 156.24350834582398), ('NonbondedForce', -10647.327508532362), ('AndersenThermostat', 0.0), ('MonteCarloBarostat', 0.0)]\n",
      "conducting subsequent work with the following platform: CPU\n",
      "[('CustomBondForce', 9.324481660673886), ('CustomAngleForce', 293.77726867877516), ('CustomTorsionForce', 156.24350834582413), ('AndersenThermostat', 0.0), ('MonteCarloBarostat', 0.0)]\n",
      "Success! Custom torsion force and standard torsion force energies are equal!\n"
     ]
    }
   ],
   "source": [
    "test_torsion_energies(htf, is_solvated=True)"
   ]
  },
  {
   "cell_type": "markdown",
   "id": "relevant-insured",
   "metadata": {},
   "source": [
    "#### New system HarmonicBondForce vs hybrid system CustomBondForce"
   ]
  },
  {
   "cell_type": "code",
   "execution_count": 28,
   "id": "mediterranean-assist",
   "metadata": {},
   "outputs": [],
   "source": [
    "# Load htf\n",
    "with open(\"/home/zhangi/choderalab/perses_benchmark/perses_protein_mutations/code/26_rxn_field/8mer_solvent_scale_region.pickle\", \"rb\") as f:\n",
    "    htf = pickle.load(f)"
   ]
  },
  {
   "cell_type": "code",
   "execution_count": 29,
   "id": "angry-perception",
   "metadata": {
    "scrolled": false
   },
   "outputs": [
    {
     "name": "stdout",
     "output_type": "stream",
     "text": [
      "{39: 39, 40: 40, 41: 41, 58: 58, 59: 59, 60: 60, 63: 63, 64: 64, 65: 65, 76: 76, 77: 77, 78: 78, 79: 79, 80: 80, 81: 81}\n",
      "Warning: Returning CPU platform instead of requested platform <simtk.openmm.openmm.Platform; proxy of <Swig Object of type 'OpenMM::Platform *' at 0x2b3ab4ccdfc0> >\n",
      "conducting subsequent work with the following platform: CPU\n",
      "conducting subsequent work with the following platform: CPU\n",
      "[('HarmonicBondForce', 9.278856514977395), ('HarmonicAngleForce', 293.6576360222982), ('PeriodicTorsionForce', 177.78722443823037), ('NonbondedForce', 1003360.8969928983), ('AndersenThermostat', 0.0), ('MonteCarloBarostat', 0.0)]\n",
      "conducting subsequent work with the following platform: CPU\n",
      "[('CustomBondForce', 9.324481660673886), ('CustomAngleForce', 293.77726867877516), ('CustomTorsionForce', 177.78722443903297), ('AndersenThermostat', 0.0), ('MonteCarloBarostat', 0.0)]\n",
      "Success! Custom torsion force and standard torsion force energies are equal!\n",
      "conducting subsequent work with the following platform: CPU\n",
      "[('CustomBondForce', 9.324481660673886), ('CustomAngleForce', 293.77726867877516), ('CustomTorsionForce', 156.24350834582413), ('AndersenThermostat', 0.0), ('MonteCarloBarostat', 0.0)]\n",
      "conducting subsequent work with the following platform: CPU\n",
      "[('CustomBondForce', 9.324481660673886), ('CustomAngleForce', 293.77726867877516), ('CustomTorsionForce', 152.51480129907694), ('AndersenThermostat', 0.0), ('MonteCarloBarostat', 0.0)]\n",
      "Success! Scaling the torsion force changes the energy\n"
     ]
    }
   ],
   "source": [
    "test_torsion_energies(htf, is_old=False, is_solvated=True, check_scale=True)"
   ]
  },
  {
   "cell_type": "markdown",
   "id": "corrected-meeting",
   "metadata": {},
   "source": [
    "## Barnase:barstar (old htf, no naked charge fix or counterion fix)"
   ]
  },
  {
   "cell_type": "markdown",
   "id": "japanese-persian",
   "metadata": {},
   "source": [
    "### Test one alchemical region, no scale regions"
   ]
  },
  {
   "cell_type": "markdown",
   "id": "dated-desire",
   "metadata": {},
   "source": [
    "#### Old system PeroidicTorsionForce vs hybrid system CustomTorsionForce"
   ]
  },
  {
   "cell_type": "code",
   "execution_count": 3,
   "id": "excellent-cosmetic",
   "metadata": {},
   "outputs": [],
   "source": [
    "# Load htf\n",
    "with open(\"T42A_complex.pickle\", \"rb\") as f:\n",
    "    htf = pickle.load(f)"
   ]
  },
  {
   "cell_type": "code",
   "execution_count": 4,
   "id": "bigger-meeting",
   "metadata": {},
   "outputs": [
    {
     "name": "stdout",
     "output_type": "stream",
     "text": [
      "{10866: 2139, 10867: 2140, 10868: 2141, 10907: 2180, 10908: 2181, 10909: 2182, 10912: 2185, 10913: 2186, 10914: 2187, 10922: 2195, 10923: 2196, 10924: 2197, 10925: 2198, 10926: 2199, 10927: 2200}\n",
      "Warning: Returning CPU platform instead of requested platform <simtk.openmm.openmm.Platform; proxy of <Swig Object of type 'OpenMM::Platform *' at 0x2afff7a10a80> >\n",
      "conducting subsequent work with the following platform: CPU\n",
      "conducting subsequent work with the following platform: CUDA\n",
      "[('HarmonicBondForce', 190.9699139958041), ('HarmonicAngleForce', 797.0922707362615), ('PeriodicTorsionForce', 3856.2346108037013), ('NonbondedForce', -25366.343173297213), ('AndersenThermostat', 0.0), ('MonteCarloBarostat', 0.0)]\n",
      "conducting subsequent work with the following platform: CUDA\n",
      "[('CustomBondForce', 190.97001343592), ('CustomAngleForce', 983.9501231926239), ('CustomTorsionForce', 3856.234842190186), ('AndersenThermostat', 0.0), ('MonteCarloBarostat', 0.0)]\n",
      "Success! Custom torsion force and standard torsion force energies are equal!\n"
     ]
    }
   ],
   "source": [
    "test_torsion_energies(htf, is_solvated=True)"
   ]
  },
  {
   "cell_type": "markdown",
   "id": "satisfactory-taxation",
   "metadata": {},
   "source": [
    "#### New system HarmonicTorsionForce vs hybrid system CustomTorsionForce"
   ]
  },
  {
   "cell_type": "code",
   "execution_count": 5,
   "id": "turkish-exclusive",
   "metadata": {},
   "outputs": [],
   "source": [
    "# Load htf\n",
    "with open(\"T42A_complex.pickle\", \"rb\") as f:\n",
    "    htf = pickle.load(f)"
   ]
  },
  {
   "cell_type": "code",
   "execution_count": 6,
   "id": "cordless-kitty",
   "metadata": {},
   "outputs": [
    {
     "name": "stdout",
     "output_type": "stream",
     "text": [
      "{2139: 2139, 2140: 2140, 2141: 2141, 2180: 2180, 2181: 2181, 2182: 2182, 2183: 2183, 2184: 2184, 2185: 2185, 2186: 2186, 2187: 2187, 2188: 2188, 2191: 2191, 2192: 2192, 2193: 2193, 2194: 2194, 2195: 2195, 2196: 2196, 2197: 2197, 2198: 2198, 2199: 2199, 2200: 2200, 2201: 2201, 2202: 2202, 2203: 2203, 2204: 2204, 2205: 2205, 2206: 2206, 2214: 2214, 2215: 2215, 2216: 2216, 2217: 2217, 2218: 2218, 2219: 2219, 2220: 2220, 2221: 2221, 2222: 2222, 2223: 2223, 2224: 2224, 2225: 2225, 2226: 2226, 2227: 2227, 2228: 2228, 2229: 2229, 2230: 2230}\n",
      "Warning: Returning CPU platform instead of requested platform <simtk.openmm.openmm.Platform; proxy of <Swig Object of type 'OpenMM::Platform *' at 0x2afff7a10a80> >\n",
      "conducting subsequent work with the following platform: CPU\n",
      "conducting subsequent work with the following platform: CUDA\n",
      "[('HarmonicBondForce', 190.55887687012904), ('HarmonicAngleForce', 982.3171572386327), ('PeriodicTorsionForce', 3849.684097413479), ('NonbondedForce', -24973.072364300806), ('AndersenThermostat', 0.0), ('MonteCarloBarostat', 0.0)]\n",
      "conducting subsequent work with the following platform: CUDA\n",
      "[('CustomBondForce', 190.97001343592), ('CustomAngleForce', 983.9501231926239), ('CustomTorsionForce', 3849.6844505087824), ('AndersenThermostat', 0.0), ('MonteCarloBarostat', 0.0)]\n",
      "Success! Custom torsion force and standard torsion force energies are equal!\n"
     ]
    }
   ],
   "source": [
    "test_torsion_energies(htf, is_old=False, is_solvated=True)"
   ]
  },
  {
   "cell_type": "markdown",
   "id": "0793af25",
   "metadata": {},
   "source": [
    "### Test one alchemical region, no scale regions"
   ]
  },
  {
   "cell_type": "markdown",
   "id": "11e0a37b",
   "metadata": {},
   "source": [
    "#### Old system HarmonicTorsionForce vs hybrid system CustomTorsionForce"
   ]
  },
  {
   "cell_type": "code",
   "execution_count": 7,
   "id": "1b1f665f",
   "metadata": {},
   "outputs": [],
   "source": [
    "# Load htf\n",
    "with open(\"T42A_complex_scale_region.pickle\", \"rb\") as f:\n",
    "    htf = pickle.load(f)"
   ]
  },
  {
   "cell_type": "code",
   "execution_count": 8,
   "id": "6677ef7d",
   "metadata": {},
   "outputs": [
    {
     "name": "stdout",
     "output_type": "stream",
     "text": [
      "{10866: 2139, 10867: 2140, 10868: 2141, 10907: 2180, 10908: 2181, 10909: 2182, 10912: 2185, 10913: 2186, 10914: 2187, 10922: 2195, 10923: 2196, 10924: 2197, 10925: 2198, 10926: 2199, 10927: 2200}\n",
      "Warning: Returning CPU platform instead of requested platform <simtk.openmm.openmm.Platform; proxy of <Swig Object of type 'OpenMM::Platform *' at 0x2afff7a10a80> >\n",
      "conducting subsequent work with the following platform: CPU\n",
      "conducting subsequent work with the following platform: CUDA\n",
      "[('HarmonicBondForce', 190.96991399580065), ('HarmonicAngleForce', 797.0922707362635), ('PeriodicTorsionForce', 3856.2346108037004), ('NonbondedForce', -25367.423468547222), ('AndersenThermostat', 0.0), ('MonteCarloBarostat', 0.0)]\n",
      "conducting subsequent work with the following platform: CUDA\n",
      "[('CustomBondForce', 191.68441661118993), ('CustomAngleForce', 1002.3374923455682), ('CustomTorsionForce', 3856.234842190186), ('AndersenThermostat', 0.0), ('MonteCarloBarostat', 0.0)]\n",
      "Success! Custom torsion force and standard torsion force energies are equal!\n",
      "conducting subsequent work with the following platform: CUDA\n",
      "[('CustomBondForce', 191.68441661118993), ('CustomAngleForce', 1002.3374923455682), ('CustomTorsionForce', 3856.234842190186), ('AndersenThermostat', 0.0), ('MonteCarloBarostat', 0.0)]\n",
      "conducting subsequent work with the following platform: CUDA\n",
      "[('CustomBondForce', 191.68441661118993), ('CustomAngleForce', 1002.3374923455682), ('CustomTorsionForce', 3847.4245383399552), ('AndersenThermostat', 0.0), ('MonteCarloBarostat', 0.0)]\n",
      "Success! Scaling the torsion force changes the energy\n"
     ]
    }
   ],
   "source": [
    "test_torsion_energies(htf, is_solvated=True, check_scale=True)"
   ]
  },
  {
   "cell_type": "markdown",
   "id": "5715c069",
   "metadata": {},
   "source": [
    "#### New system HarmonicTorsionForce vs hybrid system CustomTorsionForce"
   ]
  },
  {
   "cell_type": "code",
   "execution_count": 9,
   "id": "a11f78b1",
   "metadata": {},
   "outputs": [],
   "source": [
    "# Load htf\n",
    "with open(\"T42A_complex_scale_region.pickle\", \"rb\") as f:\n",
    "    htf = pickle.load(f)"
   ]
  },
  {
   "cell_type": "code",
   "execution_count": 10,
   "id": "0eb0ec57",
   "metadata": {
    "scrolled": true
   },
   "outputs": [
    {
     "name": "stdout",
     "output_type": "stream",
     "text": [
      "{2139: 2139, 2140: 2140, 2141: 2141, 2180: 2180, 2181: 2181, 2182: 2182, 2183: 2183, 2184: 2184, 2185: 2185, 2186: 2186, 2187: 2187, 2188: 2188, 2191: 2191, 2192: 2192, 2193: 2193, 2194: 2194, 2195: 2195, 2196: 2196, 2197: 2197, 2198: 2198, 2199: 2199, 2200: 2200, 2201: 2201, 2202: 2202, 2203: 2203, 2204: 2204, 2205: 2205, 2206: 2206, 2214: 2214, 2215: 2215, 2216: 2216, 2217: 2217, 2218: 2218, 2219: 2219, 2220: 2220, 2221: 2221, 2222: 2222, 2223: 2223, 2224: 2224, 2225: 2225, 2226: 2226, 2227: 2227, 2228: 2228, 2229: 2229, 2230: 2230}\n",
      "Warning: Returning CPU platform instead of requested platform <simtk.openmm.openmm.Platform; proxy of <Swig Object of type 'OpenMM::Platform *' at 0x2afff7a10a80> >\n",
      "conducting subsequent work with the following platform: CPU\n",
      "conducting subsequent work with the following platform: CUDA\n",
      "[('HarmonicBondForce', 191.27328004539896), ('HarmonicAngleForce', 1000.7045263915769), ('PeriodicTorsionForce', 3849.683473240853), ('NonbondedForce', -24737.764251905406), ('AndersenThermostat', 0.0), ('MonteCarloBarostat', 0.0)]\n",
      "conducting subsequent work with the following platform: CUDA\n",
      "[('CustomBondForce', 191.68441661118993), ('CustomAngleForce', 1002.3374923455682), ('CustomTorsionForce', 3849.6838262208853), ('AndersenThermostat', 0.0), ('MonteCarloBarostat', 0.0)]\n",
      "Success! Custom torsion force and standard torsion force energies are equal!\n",
      "conducting subsequent work with the following platform: CUDA\n",
      "[('CustomBondForce', 191.68441661118993), ('CustomAngleForce', 1002.3374923455682), ('CustomTorsionForce', 3856.234842190186), ('AndersenThermostat', 0.0), ('MonteCarloBarostat', 0.0)]\n",
      "conducting subsequent work with the following platform: CUDA\n",
      "[('CustomBondForce', 191.68441661118993), ('CustomAngleForce', 1002.3374923455682), ('CustomTorsionForce', 3847.4245383399552), ('AndersenThermostat', 0.0), ('MonteCarloBarostat', 0.0)]\n",
      "Success! Scaling the torsion force changes the energy\n"
     ]
    }
   ],
   "source": [
    "test_torsion_energies(htf, is_old=False, is_solvated=True, check_scale=True)"
   ]
  },
  {
   "cell_type": "code",
   "execution_count": null,
   "id": "38179913",
   "metadata": {},
   "outputs": [],
   "source": []
  },
  {
   "cell_type": "code",
   "execution_count": null,
   "id": "7ba99c4b",
   "metadata": {},
   "outputs": [],
   "source": [
    "# TO DO: actually test the scaling of the energies matches"
   ]
  }
 ],
 "metadata": {
  "kernelspec": {
   "display_name": "Python 3",
   "language": "python",
   "name": "python3"
  },
  "language_info": {
   "codemirror_mode": {
    "name": "ipython",
    "version": 3
   },
   "file_extension": ".py",
   "mimetype": "text/x-python",
   "name": "python",
   "nbconvert_exporter": "python",
   "pygments_lexer": "ipython3",
   "version": "3.8.6"
  }
 },
 "nbformat": 4,
 "nbformat_minor": 5
}
