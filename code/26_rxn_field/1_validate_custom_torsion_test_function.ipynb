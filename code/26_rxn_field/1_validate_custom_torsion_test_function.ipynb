{
 "cells": [
  {
   "cell_type": "markdown",
   "id": "deeef215",
   "metadata": {},
   "source": [
    "Note: I left the code to generate the htfs for each test system in the notebook, but if you don't want to re-generate, you can use the pickled htf that I saved (I left the full path in for you). I generated these htfs based after you added support for `lambda_{i}_bonds_old/new` and `scale_lambda_0_bonds`"
   ]
  },
  {
   "cell_type": "code",
   "execution_count": 11,
   "id": "ac051fbf",
   "metadata": {},
   "outputs": [
    {
     "name": "stdout",
     "output_type": "stream",
     "text": [
      "conducting subsequent work with the following platform: CUDA\n"
     ]
    }
   ],
   "source": [
    "from openmmtools.states import SamplerState, ThermodynamicState, CompoundThermodynamicState\n",
    "from simtk import unit, openmm\n",
    "from perses.tests.utils import compute_potential_components\n",
    "from openmmtools.constants import kB\n",
    "from perses.dispersed.utils import configure_platform\n",
    "from perses.annihilation.rest import RESTTopologyFactory\n",
    "from perses.annihilation.lambda_protocol import RESTState\n",
    "import numpy as np\n",
    "from perses.tests.test_topology_proposal import generate_atp, generate_dipeptide_top_pos_sys\n",
    "from openmmtools.testsystems import AlanineDipeptideVacuum, AlanineDipeptideExplicit\n",
    "import itertools\n",
    "from perses.tests.test_topology_proposal import generate_dipeptide_top_pos_sys, generate_atp\n",
    "import pickle\n",
    "import copy\n",
    "\n",
    "#############################################\n",
    "# CONSTANTS\n",
    "#############################################\n",
    "temperature = 298.0 * unit.kelvin\n",
    "kT = kB * temperature\n",
    "beta = 1.0/kT\n",
    "REFERENCE_PLATFORM = openmm.Platform.getPlatformByName(\"CUDA\")\n"
   ]
  },
  {
   "cell_type": "code",
   "execution_count": 2,
   "id": "69ee892f",
   "metadata": {},
   "outputs": [],
   "source": [
    "def test_torsion_energies(htf, is_old=True, is_solvated=False, check_scale=False):\n",
    "    htf_copy = copy.deepcopy(htf)\n",
    "    \n",
    "    # Get periodic torsion force and old/new positions\n",
    "    system = htf._topology_proposal.old_system if is_old else htf._topology_proposal.new_system\n",
    "    periodic_torsion_force = system.getForce(2) \n",
    "    positions = htf.old_positions(htf.hybrid_positions) if is_old else htf.new_positions(htf.hybrid_positions)\n",
    "    \n",
    "    # Get custom torsion force and hybrid positions\n",
    "    torsion_force_index = 3 if is_solvated else 2\n",
    "    hybrid_system = htf.hybrid_system\n",
    "    custom_torsion_force = hybrid_system.getForce(torsion_force_index)\n",
    "    hybrid_positions = htf.hybrid_positions\n",
    "    \n",
    "    # Remove nonbonded/exception forces\n",
    "    for i in range(hybrid_system.getNumForces(), hybrid_system.getNumForces() - 4, -1):\n",
    "        hybrid_system.removeForce(i - 1)\n",
    "    \n",
    "    # Set global parameters\n",
    "    lambda_old = 1 if is_old else 0\n",
    "    lambda_new = 0 if is_old else 1\n",
    "    for i in range(custom_torsion_force.getNumGlobalParameters()):\n",
    "        if custom_torsion_force.getGlobalParameterName(i) == 'lambda_0_torsions_old':\n",
    "            custom_torsion_force.setGlobalParameterDefaultValue(i, lambda_old)\n",
    "        elif custom_torsion_force.getGlobalParameterName(i) == 'lambda_0_torsions_new':\n",
    "            custom_torsion_force.setGlobalParameterDefaultValue(i, lambda_new)\n",
    "\n",
    "    # Zero the unique old/new torsions in the custom torsion force\n",
    "    hybrid_to_torsion_indices = htf._hybrid_to_new_torsion_indices if is_old else htf._hybrid_to_old_torsion_indices\n",
    "    print(hybrid_to_torsion_indices)\n",
    "    for hybrid_idx, idx in hybrid_to_torsion_indices.items():\n",
    "        p1, p2, p3, p4, hybrid_params = custom_torsion_force.getTorsionParameters(hybrid_idx)\n",
    "        hybrid_params = list(hybrid_params)\n",
    "#         index_to_zero = -4 if is_old else -1\n",
    "#         hybrid_params[index_to_zero] *= 0\n",
    "        hybrid_params[-4] *= 0\n",
    "        hybrid_params[-1] *= 0\n",
    "        custom_torsion_force.setTorsionParameters(hybrid_idx, p1, p2, p3, p4, hybrid_params)\n",
    "        \n",
    "    ## Get energy components of standard torsion force\n",
    "    platform = configure_platform(REFERENCE_PLATFORM)\n",
    "    thermostate_other = ThermodynamicState(system=system, temperature=temperature)\n",
    "    integrator_other = openmm.VerletIntegrator(1.0*unit.femtosecond)\n",
    "    context_other = thermostate_other.create_context(integrator_other)\n",
    "    context_other.setPositions(positions)\n",
    "    components_other = compute_potential_components(context_other, beta=beta)\n",
    "    print(components_other)\n",
    "    \n",
    "    ## Get energy components of custom torsion force\n",
    "    if is_solvated:\n",
    "        custom_torsion_force.setUsesPeriodicBoundaryConditions(True)\n",
    "    thermostate_hybrid = ThermodynamicState(system=hybrid_system, temperature=temperature)\n",
    "    integrator_hybrid = openmm.VerletIntegrator(1.0 * unit.femtosecond)\n",
    "    context_hybrid = thermostate_hybrid.create_context(integrator_hybrid)\n",
    "    context_hybrid.setPositions(hybrid_positions)\n",
    "    components_hybrid = compute_potential_components(context_hybrid, beta=beta)\n",
    "    print(components_hybrid)\n",
    "    \n",
    "    assert np.isclose([components_other[2][1]], [components_hybrid[2][1]])\n",
    "    \n",
    "    print(\"Success! Custom torsion force and standard torsion force energies are equal!\")\n",
    "    \n",
    "    if check_scale:\n",
    "        \n",
    "        ## Get custom torsion force and hybrid positions\n",
    "        torsion_force_index = 3 if is_solvated else 2\n",
    "        hybrid_system = htf_copy.hybrid_system\n",
    "        custom_torsion_force = hybrid_system.getForce(torsion_force_index)\n",
    "        hybrid_positions = htf_copy.hybrid_positions\n",
    "        \n",
    "        # Remove nonbonded/exception forces\n",
    "        for i in range(hybrid_system.getNumForces(), hybrid_system.getNumForces() - 4, -1):\n",
    "            hybrid_system.removeForce(i - 1)\n",
    "        \n",
    "        if is_solvated:\n",
    "            custom_torsion_force.setUsesPeriodicBoundaryConditions(True)\n",
    "        \n",
    "        ## Get energy components of custom torsion force\n",
    "        thermostate_hybrid = ThermodynamicState(system=hybrid_system, temperature=temperature)\n",
    "        integrator_hybrid = openmm.VerletIntegrator(1.0 * unit.femtosecond)\n",
    "        context_hybrid = thermostate_hybrid.create_context(integrator_hybrid)\n",
    "        context_hybrid.setPositions(hybrid_positions)\n",
    "        components_hybrid = compute_potential_components(context_hybrid, beta=beta)\n",
    "        print(components_hybrid)\n",
    "        \n",
    "        # Set `scale_lambda_{i}` to 0.5\n",
    "        for i in range(custom_torsion_force.getNumGlobalParameters()):\n",
    "            if custom_torsion_force.getGlobalParameterName(i) == 'scale_lambda_0_torsions':\n",
    "                custom_torsion_force.setGlobalParameterDefaultValue(i, 0.5)\n",
    "            elif custom_torsion_force.getGlobalParameterName(i) == 'interscale_lambda_0_torsions':\n",
    "                custom_torsion_force.setGlobalParameterDefaultValue(i, 0.5)\n",
    "        \n",
    "        ## Get energy components of custom torsion force iwth scaling\n",
    "        thermostate_hybrid = ThermodynamicState(system=hybrid_system, temperature=temperature)\n",
    "        integrator_hybrid = openmm.VerletIntegrator(1.0 * unit.femtosecond)\n",
    "        context_hybrid = thermostate_hybrid.create_context(integrator_hybrid)\n",
    "        context_hybrid.setPositions(hybrid_positions)\n",
    "        components_hybrid_scaled = compute_potential_components(context_hybrid, beta=beta)\n",
    "        print(components_hybrid_scaled)\n",
    "        \n",
    "        assert not np.isclose([components_hybrid[2][1]], [components_hybrid_scaled[2][1]])\n",
    "        \n",
    "        print(\"Success! Scaling the torsion force changes the energy\")"
   ]
  },
  {
   "cell_type": "markdown",
   "id": "434a0b31",
   "metadata": {},
   "source": [
    "# Alanine dipeptide in vacuum"
   ]
  },
  {
   "cell_type": "markdown",
   "id": "503b6f4b",
   "metadata": {},
   "source": [
    "### Test one alchemical region, no scale regions"
   ]
  },
  {
   "cell_type": "markdown",
   "id": "11e9c95a",
   "metadata": {},
   "source": [
    "#### Old system HarmonicBondForce vs hybrid system CustomBondForce"
   ]
  },
  {
   "cell_type": "code",
   "execution_count": 13,
   "id": "19b06c88",
   "metadata": {},
   "outputs": [],
   "source": [
    "# Load htf\n",
    "with open(\"/home/zhangi/choderalab/perses_benchmark/perses_protein_mutations/code/26_rxn_field/atp_vacuum.pickle\", \"rb\") as f:\n",
    "    htf = pickle.load(f)"
   ]
  },
  {
   "cell_type": "code",
   "execution_count": 14,
   "id": "18deeb39",
   "metadata": {
    "scrolled": true
   },
   "outputs": [
    {
     "name": "stdout",
     "output_type": "stream",
     "text": [
      "{50: 8, 51: 9, 52: 10, 58: 16, 59: 17, 60: 18, 61: 19, 62: 20, 63: 21, 64: 22, 65: 23, 66: 24, 70: 28, 71: 29, 72: 30, 73: 31, 74: 32, 75: 33, 76: 34, 79: 37, 80: 38, 81: 39, 84: 42, 85: 43, 86: 44, 87: 45, 88: 46, 89: 47, 90: 48, 91: 49, 92: 50, 93: 51, 94: 52, 95: 53, 99: 57, 100: 58, 101: 59, 102: 60, 103: 61, 104: 62, 105: 63, 106: 64, 107: 65, 108: 66, 109: 67}\n",
      "Warning: Returning CPU platform instead of requested platform <simtk.openmm.openmm.Platform; proxy of <Swig Object of type 'OpenMM::Platform *' at 0x2ac8cd51ef00> >\n",
      "conducting subsequent work with the following platform: CPU\n",
      "conducting subsequent work with the following platform: CUDA\n",
      "[('HarmonicBondForce', 0.03478365356520876), ('HarmonicAngleForce', 0.6112775462128573), ('PeriodicTorsionForce', 16.285398289983085), ('NonbondedForce', -39.449927745600164), ('AndersenThermostat', 0.0)]\n",
      "conducting subsequent work with the following platform: CUDA\n",
      "[('CustomBondForce', 1.296256769802195), ('CustomAngleForce', 3.8580778529179494), ('CustomTorsionForce', 16.285403285921724), ('AndersenThermostat', 0.0)]\n",
      "Success! Custom torsion force and standard torsion force energies are equal!\n"
     ]
    }
   ],
   "source": [
    "test_torsion_energies(htf)"
   ]
  },
  {
   "cell_type": "markdown",
   "id": "e336aed9",
   "metadata": {},
   "source": [
    "#### New system HarmonicBondForce vs hybrid system CustomBondForce"
   ]
  },
  {
   "cell_type": "code",
   "execution_count": 15,
   "id": "49875cd6",
   "metadata": {},
   "outputs": [],
   "source": [
    "# Load htf\n",
    "with open(\"/home/zhangi/choderalab/perses_benchmark/perses_protein_mutations/code/26_rxn_field/atp_vacuum.pickle\", \"rb\") as f:\n",
    "    htf = pickle.load(f)"
   ]
  },
  {
   "cell_type": "code",
   "execution_count": 16,
   "id": "039fb22d",
   "metadata": {},
   "outputs": [
    {
     "name": "stdout",
     "output_type": "stream",
     "text": [
      "{8: 8, 9: 9, 10: 10, 16: 16, 17: 17, 18: 18, 24: 24, 25: 25, 26: 26, 29: 29, 30: 30, 31: 31, 32: 32, 33: 33, 34: 34}\n",
      "Warning: Returning CPU platform instead of requested platform <simtk.openmm.openmm.Platform; proxy of <Swig Object of type 'OpenMM::Platform *' at 0x2ac8cd51ef00> >\n",
      "conducting subsequent work with the following platform: CPU\n",
      "conducting subsequent work with the following platform: CUDA\n",
      "[('HarmonicBondForce', 1.2957330745733426), ('HarmonicAngleForce', 3.403930427792299), ('PeriodicTorsionForce', 30.268405909483896), ('NonbondedForce', 388.51299936325097), ('AndersenThermostat', 0.0)]\n",
      "conducting subsequent work with the following platform: CUDA\n",
      "[('CustomBondForce', 1.296256769802195), ('CustomAngleForce', 3.8580778529179494), ('CustomTorsionForce', 30.26841040928556), ('AndersenThermostat', 0.0)]\n",
      "Success! Custom torsion force and standard torsion force energies are equal!\n"
     ]
    }
   ],
   "source": [
    "test_torsion_energies(htf, is_old=False)"
   ]
  },
  {
   "cell_type": "markdown",
   "id": "16251d48",
   "metadata": {},
   "source": [
    "### Test one alchemical region, one scale region"
   ]
  },
  {
   "cell_type": "markdown",
   "id": "5e9bd435",
   "metadata": {},
   "source": [
    "#### Old system HarmonicBondForce vs hybrid system CustomBondForce"
   ]
  },
  {
   "cell_type": "code",
   "execution_count": 17,
   "id": "288c11e1",
   "metadata": {},
   "outputs": [],
   "source": [
    "# Load htf\n",
    "with open(\"/home/zhangi/choderalab/perses_benchmark/perses_protein_mutations/code/26_rxn_field/atp_vacuum_scale_region.pickle\", \"rb\") as f:\n",
    "    htf = pickle.load(f)"
   ]
  },
  {
   "cell_type": "code",
   "execution_count": 18,
   "id": "d41dbb58",
   "metadata": {},
   "outputs": [
    {
     "data": {
      "text/plain": [
       "[<simtk.openmm.openmm.CustomBondForce; proxy of <Swig Object of type 'OpenMM::CustomBondForce *' at 0x2ac8cdffb8d0> >,\n",
       " <simtk.openmm.openmm.CustomAngleForce; proxy of <Swig Object of type 'OpenMM::CustomAngleForce *' at 0x2ac8cdffb990> >,\n",
       " <simtk.openmm.openmm.CustomTorsionForce; proxy of <Swig Object of type 'OpenMM::CustomTorsionForce *' at 0x2ac8cdffb750> >,\n",
       " <simtk.openmm.openmm.CustomNonbondedForce; proxy of <Swig Object of type 'OpenMM::CustomNonbondedForce *' at 0x2ac8cdffb810> >,\n",
       " <simtk.openmm.openmm.CustomNonbondedForce; proxy of <Swig Object of type 'OpenMM::CustomNonbondedForce *' at 0x2ac8cdffb600> >,\n",
       " <simtk.openmm.openmm.CustomBondForce; proxy of <Swig Object of type 'OpenMM::CustomBondForce *' at 0x2ac8cdffb690> >,\n",
       " <simtk.openmm.openmm.CustomBondForce; proxy of <Swig Object of type 'OpenMM::CustomBondForce *' at 0x2ac8cdffb5d0> >]"
      ]
     },
     "execution_count": 18,
     "metadata": {},
     "output_type": "execute_result"
    }
   ],
   "source": [
    "htf.hybrid_system.getForces()"
   ]
  },
  {
   "cell_type": "code",
   "execution_count": 19,
   "id": "5c37ddb9",
   "metadata": {
    "scrolled": true
   },
   "outputs": [
    {
     "data": {
      "text/plain": [
       "[10, 11, 12, 13, 22, 23, 24, 25, 26, 27, 28, 29]"
      ]
     },
     "execution_count": 19,
     "metadata": {},
     "output_type": "execute_result"
    }
   ],
   "source": [
    "# This is the scale region\n",
    "list(htf._atom_classes['unique_old_atoms'][0]) + list(htf._atom_classes['unique_new_atoms'][0])"
   ]
  },
  {
   "cell_type": "code",
   "execution_count": 20,
   "id": "9c194d51",
   "metadata": {
    "scrolled": true
   },
   "outputs": [
    {
     "name": "stdout",
     "output_type": "stream",
     "text": [
      "{50: 8, 51: 9, 52: 10, 58: 16, 59: 17, 60: 18, 61: 19, 62: 20, 63: 21, 64: 22, 65: 23, 66: 24, 70: 28, 71: 29, 72: 30, 73: 31, 74: 32, 75: 33, 76: 34, 79: 37, 80: 38, 81: 39, 84: 42, 85: 43, 86: 44, 87: 45, 88: 46, 89: 47, 90: 48, 91: 49, 92: 50, 93: 51, 94: 52, 95: 53, 99: 57, 100: 58, 101: 59, 102: 60, 103: 61, 104: 62, 105: 63, 106: 64, 107: 65, 108: 66, 109: 67}\n",
      "Warning: Returning CPU platform instead of requested platform <simtk.openmm.openmm.Platform; proxy of <Swig Object of type 'OpenMM::Platform *' at 0x2ac8cd51ef00> >\n",
      "conducting subsequent work with the following platform: CPU\n",
      "conducting subsequent work with the following platform: CUDA\n",
      "[('HarmonicBondForce', 0.03478365356521381), ('HarmonicAngleForce', 0.6112775462128995), ('PeriodicTorsionForce', 16.285398289983064), ('NonbondedForce', -39.4499277456003), ('AndersenThermostat', 0.0)]\n",
      "conducting subsequent work with the following platform: CUDA\n",
      "[('CustomBondForce', 3.0809325282327777), ('CustomAngleForce', 12.79191873055503), ('CustomTorsionForce', 16.285403285921724), ('AndersenThermostat', 0.0)]\n",
      "Success! Custom torsion force and standard torsion force energies are equal!\n"
     ]
    }
   ],
   "source": [
    "test_torsion_energies(htf)"
   ]
  },
  {
   "cell_type": "markdown",
   "id": "0057ce49",
   "metadata": {},
   "source": [
    "#### New system HarmonicBondForce vs hybrid system CustomBondForce"
   ]
  },
  {
   "cell_type": "code",
   "execution_count": 21,
   "id": "1e6a7202",
   "metadata": {},
   "outputs": [],
   "source": [
    "# Load htf\n",
    "with open(\"/home/zhangi/choderalab/perses_benchmark/perses_protein_mutations/code/26_rxn_field/atp_vacuum_scale_region.pickle\", \"rb\") as f:\n",
    "    htf = pickle.load(f)"
   ]
  },
  {
   "cell_type": "code",
   "execution_count": 22,
   "id": "8ccc8c53",
   "metadata": {},
   "outputs": [
    {
     "name": "stdout",
     "output_type": "stream",
     "text": [
      "{8: 8, 9: 9, 10: 10, 16: 16, 17: 17, 18: 18, 24: 24, 25: 25, 26: 26, 29: 29, 30: 30, 31: 31, 32: 32, 33: 33, 34: 34}\n",
      "Warning: Returning CPU platform instead of requested platform <simtk.openmm.openmm.Platform; proxy of <Swig Object of type 'OpenMM::Platform *' at 0x2ac8cd51ef00> >\n",
      "conducting subsequent work with the following platform: CPU\n",
      "conducting subsequent work with the following platform: CUDA\n",
      "[('HarmonicBondForce', 3.0804088330039257), ('HarmonicAngleForce', 12.337771305429378), ('PeriodicTorsionForce', 28.091644511264406), ('NonbondedForce', 56.74765841438245), ('AndersenThermostat', 0.0)]\n",
      "conducting subsequent work with the following platform: CUDA\n",
      "[('CustomBondForce', 3.0809325282327777), ('CustomAngleForce', 12.79191873055503), ('CustomTorsionForce', 28.091648948068066), ('AndersenThermostat', 0.0)]\n",
      "Success! Custom torsion force and standard torsion force energies are equal!\n"
     ]
    }
   ],
   "source": [
    "test_torsion_energies(htf, is_old=False)"
   ]
  },
  {
   "cell_type": "markdown",
   "id": "a30a9095",
   "metadata": {},
   "source": [
    "# Alanine dipeptide in solvent"
   ]
  },
  {
   "cell_type": "markdown",
   "id": "d6ef38ac",
   "metadata": {},
   "source": [
    "### Test one alchemical region, no scale regions"
   ]
  },
  {
   "cell_type": "markdown",
   "id": "5c908dfd",
   "metadata": {},
   "source": [
    "#### Old system HarmonicBondForce vs hybrid system CustomBondForce"
   ]
  },
  {
   "cell_type": "code",
   "execution_count": 23,
   "id": "0033103c",
   "metadata": {},
   "outputs": [],
   "source": [
    "# Load htf\n",
    "with open(\"/home/zhangi/choderalab/perses_benchmark/perses_protein_mutations/code/26_rxn_field/atp_solvent.pickle\", \"rb\") as f:\n",
    "    htf = pickle.load(f)"
   ]
  },
  {
   "cell_type": "code",
   "execution_count": 24,
   "id": "fea5843b",
   "metadata": {},
   "outputs": [
    {
     "name": "stdout",
     "output_type": "stream",
     "text": [
      "{50: 8, 51: 9, 52: 10, 58: 16, 59: 17, 60: 18, 61: 19, 62: 20, 63: 21, 64: 22, 65: 23, 66: 24, 70: 28, 71: 29, 72: 30, 73: 31, 74: 32, 75: 33, 76: 34, 79: 37, 80: 38, 81: 39, 84: 42, 85: 43, 86: 44, 87: 45, 88: 46, 89: 47, 90: 48, 91: 49, 92: 50, 93: 51, 94: 52, 95: 53, 99: 57, 100: 58, 101: 59, 102: 60, 103: 61, 104: 62, 105: 63, 106: 64, 107: 65, 108: 66, 109: 67}\n",
      "Warning: Returning CPU platform instead of requested platform <simtk.openmm.openmm.Platform; proxy of <Swig Object of type 'OpenMM::Platform *' at 0x2ac8cd51ef00> >\n",
      "conducting subsequent work with the following platform: CPU\n",
      "conducting subsequent work with the following platform: CUDA\n",
      "[('HarmonicBondForce', 0.034783653565214685), ('HarmonicAngleForce', 0.6112775462129015), ('PeriodicTorsionForce', 16.285398289983082), ('NonbondedForce', -1017.9419702202207), ('AndersenThermostat', 0.0), ('MonteCarloBarostat', 0.0)]\n",
      "conducting subsequent work with the following platform: CUDA\n",
      "[('CustomBondForce', 2.108758935146324), ('CustomAngleForce', 9.27903555849094), ('CustomTorsionForce', 16.285403285921724), ('AndersenThermostat', 0.0), ('MonteCarloBarostat', 0.0)]\n",
      "Success! Custom torsion force and standard torsion force energies are equal!\n"
     ]
    }
   ],
   "source": [
    "test_torsion_energies(htf, is_solvated=True)"
   ]
  },
  {
   "cell_type": "markdown",
   "id": "dc4b7b1d",
   "metadata": {},
   "source": [
    "#### New system HarmonicBondForce vs hybrid system CustomBondForce"
   ]
  },
  {
   "cell_type": "code",
   "execution_count": 25,
   "id": "9f9cbe99",
   "metadata": {},
   "outputs": [],
   "source": [
    "# Load htf\n",
    "with open(\"/home/zhangi/choderalab/perses_benchmark/perses_protein_mutations/code/26_rxn_field/atp_solvent.pickle\", \"rb\") as f:\n",
    "    htf = pickle.load(f)"
   ]
  },
  {
   "cell_type": "code",
   "execution_count": 26,
   "id": "5c16c96c",
   "metadata": {},
   "outputs": [
    {
     "name": "stdout",
     "output_type": "stream",
     "text": [
      "{8: 8, 9: 9, 10: 10, 16: 16, 17: 17, 18: 18, 24: 24, 25: 25, 26: 26, 29: 29, 30: 30, 31: 31, 32: 32, 33: 33, 34: 34}\n",
      "Warning: Returning CPU platform instead of requested platform <simtk.openmm.openmm.Platform; proxy of <Swig Object of type 'OpenMM::Platform *' at 0x2ac8cd51ef00> >\n",
      "conducting subsequent work with the following platform: CPU\n",
      "conducting subsequent work with the following platform: CUDA\n",
      "[('HarmonicBondForce', 2.108235239917542), ('HarmonicAngleForce', 8.824888133365281), ('PeriodicTorsionForce', 25.495955289982533), ('NonbondedForce', -1054.9212696042337), ('AndersenThermostat', 0.0), ('MonteCarloBarostat', 0.0)]\n",
      "conducting subsequent work with the following platform: CUDA\n",
      "[('CustomBondForce', 2.108758935146324), ('CustomAngleForce', 9.27903555849094), ('CustomTorsionForce', 25.495959407354306), ('AndersenThermostat', 0.0), ('MonteCarloBarostat', 0.0)]\n",
      "Success! Custom torsion force and standard torsion force energies are equal!\n"
     ]
    }
   ],
   "source": [
    "test_torsion_energies(htf, is_old=False, is_solvated=True)"
   ]
  },
  {
   "cell_type": "markdown",
   "id": "d907a68d",
   "metadata": {},
   "source": [
    "### Test one alchemical region, one scale region"
   ]
  },
  {
   "cell_type": "markdown",
   "id": "3576b206",
   "metadata": {},
   "source": [
    "#### Old system HarmonicBondForce vs hybrid system CustomBondForce"
   ]
  },
  {
   "cell_type": "code",
   "execution_count": 27,
   "id": "f714b6e7",
   "metadata": {},
   "outputs": [],
   "source": [
    "# Load htf\n",
    "with open(\"/home/zhangi/choderalab/perses_benchmark/perses_protein_mutations/code/26_rxn_field/atp_solvent_scale_region.pickle\", \"rb\") as f:\n",
    "    htf = pickle.load(f)"
   ]
  },
  {
   "cell_type": "code",
   "execution_count": 28,
   "id": "fca19e10",
   "metadata": {},
   "outputs": [
    {
     "data": {
      "text/plain": [
       "[10, 11, 12, 13, 1557, 1558, 1559, 1560, 1561, 1562, 1563, 1564]"
      ]
     },
     "execution_count": 28,
     "metadata": {},
     "output_type": "execute_result"
    }
   ],
   "source": [
    "# This is the scale region\n",
    "list(htf._atom_classes['unique_old_atoms'][0]) + list(htf._atom_classes['unique_new_atoms'][0])"
   ]
  },
  {
   "cell_type": "code",
   "execution_count": 29,
   "id": "479adca5",
   "metadata": {},
   "outputs": [
    {
     "name": "stdout",
     "output_type": "stream",
     "text": [
      "{50: 8, 51: 9, 52: 10, 58: 16, 59: 17, 60: 18, 61: 19, 62: 20, 63: 21, 64: 22, 65: 23, 66: 24, 70: 28, 71: 29, 72: 30, 73: 31, 74: 32, 75: 33, 76: 34, 79: 37, 80: 38, 81: 39, 84: 42, 85: 43, 86: 44, 87: 45, 88: 46, 89: 47, 90: 48, 91: 49, 92: 50, 93: 51, 94: 52, 95: 53, 99: 57, 100: 58, 101: 59, 102: 60, 103: 61, 104: 62, 105: 63, 106: 64, 107: 65, 108: 66, 109: 67}\n",
      "Warning: Returning CPU platform instead of requested platform <simtk.openmm.openmm.Platform; proxy of <Swig Object of type 'OpenMM::Platform *' at 0x2ac8cd51ef00> >\n",
      "conducting subsequent work with the following platform: CPU\n",
      "conducting subsequent work with the following platform: CUDA\n",
      "[('HarmonicBondForce', 0.034783653565214685), ('HarmonicAngleForce', 0.6112775462129015), ('PeriodicTorsionForce', 16.285398289983082), ('NonbondedForce', -995.1493033223735), ('AndersenThermostat', 0.0), ('MonteCarloBarostat', 0.0)]\n",
      "conducting subsequent work with the following platform: CUDA\n",
      "[('CustomBondForce', 0.915410547041641), ('CustomAngleForce', 9.661801162668427), ('CustomTorsionForce', 16.285403285921724), ('AndersenThermostat', 0.0), ('MonteCarloBarostat', 0.0)]\n",
      "Success! Custom torsion force and standard torsion force energies are equal!\n"
     ]
    }
   ],
   "source": [
    "test_torsion_energies(htf, is_solvated=True)"
   ]
  },
  {
   "cell_type": "markdown",
   "id": "2e0b009a",
   "metadata": {},
   "source": [
    "#### New system HarmonicBondForce vs hybrid system CustomBondForce"
   ]
  },
  {
   "cell_type": "code",
   "execution_count": 30,
   "id": "a1d202a2",
   "metadata": {},
   "outputs": [],
   "source": [
    "# Load htf\n",
    "with open(\"/home/zhangi/choderalab/perses_benchmark/perses_protein_mutations/code/26_rxn_field/atp_solvent_scale_region.pickle\", \"rb\") as f:\n",
    "    htf = pickle.load(f)"
   ]
  },
  {
   "cell_type": "code",
   "execution_count": 31,
   "id": "3d6aaf36",
   "metadata": {},
   "outputs": [
    {
     "name": "stdout",
     "output_type": "stream",
     "text": [
      "{8: 8, 9: 9, 10: 10, 16: 16, 17: 17, 18: 18, 24: 24, 25: 25, 26: 26, 29: 29, 30: 30, 31: 31, 32: 32, 33: 33, 34: 34}\n",
      "Warning: Returning CPU platform instead of requested platform <simtk.openmm.openmm.Platform; proxy of <Swig Object of type 'OpenMM::Platform *' at 0x2ac8cd51ef00> >\n",
      "conducting subsequent work with the following platform: CPU\n",
      "conducting subsequent work with the following platform: CUDA\n",
      "[('HarmonicBondForce', 0.9148868518127816), ('HarmonicAngleForce', 9.207653737542962), ('PeriodicTorsionForce', 27.875973709878817), ('NonbondedForce', -940.6669304074791), ('AndersenThermostat', 0.0), ('MonteCarloBarostat', 0.0)]\n",
      "conducting subsequent work with the following platform: CUDA\n",
      "[('CustomBondForce', 0.915410547041641), ('CustomAngleForce', 9.661801162668427), ('CustomTorsionForce', 27.875978867637855), ('AndersenThermostat', 0.0), ('MonteCarloBarostat', 0.0)]\n",
      "Success! Custom torsion force and standard torsion force energies are equal!\n",
      "conducting subsequent work with the following platform: CUDA\n",
      "[('CustomBondForce', 0.915410547041641), ('CustomAngleForce', 9.661801162668427), ('CustomTorsionForce', 16.285403285921724), ('AndersenThermostat', 0.0), ('MonteCarloBarostat', 0.0)]\n",
      "conducting subsequent work with the following platform: CUDA\n",
      "[('CustomBondForce', 0.915410547041641), ('CustomAngleForce', 9.661801162668427), ('CustomTorsionForce', 12.635841207800958), ('AndersenThermostat', 0.0), ('MonteCarloBarostat', 0.0)]\n",
      "Success! Scaling the torsion force changes the energy\n"
     ]
    }
   ],
   "source": [
    "test_torsion_energies(htf, is_old=False, is_solvated=True, check_scale=True)"
   ]
  },
  {
   "cell_type": "markdown",
   "id": "dd3a6ebd",
   "metadata": {},
   "source": [
    "# CDK2 transformation in solvent"
   ]
  },
  {
   "cell_type": "markdown",
   "id": "115af5f8",
   "metadata": {},
   "source": [
    "### Test one alchemical region, no scale regions"
   ]
  },
  {
   "cell_type": "markdown",
   "id": "60604039",
   "metadata": {},
   "source": [
    "#### Old system HarmonicBondForce vs hybrid system CustomBondForce"
   ]
  },
  {
   "cell_type": "code",
   "execution_count": 32,
   "id": "c301b106",
   "metadata": {},
   "outputs": [],
   "source": [
    "# Load htf\n",
    "with open(\"/home/zhangi/choderalab/perses_benchmark/perses_protein_mutations/code/26_rxn_field/cdk2_solvent.pickle\", \"rb\") as f:\n",
    "    htf = pickle.load(f)"
   ]
  },
  {
   "cell_type": "code",
   "execution_count": 33,
   "id": "41891b46",
   "metadata": {},
   "outputs": [
    {
     "name": "stdout",
     "output_type": "stream",
     "text": [
      "{235: 78, 270: 113, 297: 140, 298: 141, 303: 146}\n",
      "Warning: Returning CPU platform instead of requested platform <simtk.openmm.openmm.Platform; proxy of <Swig Object of type 'OpenMM::Platform *' at 0x2ac8cd51ef00> >\n",
      "conducting subsequent work with the following platform: CPU\n",
      "conducting subsequent work with the following platform: CUDA\n",
      "[('HarmonicBondForce', 4.608082977954756), ('HarmonicAngleForce', 29.199523609209102), ('PeriodicTorsionForce', 15.076747992617829), ('NonbondedForce', 3350.162471334583), ('AndersenThermostat', 0.0), ('MonteCarloBarostat', 0.0)]\n",
      "conducting subsequent work with the following platform: CUDA\n",
      "[('CustomBondForce', 4.608082977954756), ('CustomAngleForce', 31.450793105256693), ('CustomTorsionForce', 15.076753795301011), ('AndersenThermostat', 0.0), ('MonteCarloBarostat', 0.0)]\n",
      "Success! Custom torsion force and standard torsion force energies are equal!\n"
     ]
    }
   ],
   "source": [
    "test_torsion_energies(htf, is_solvated=True)"
   ]
  },
  {
   "cell_type": "markdown",
   "id": "1aa884bc",
   "metadata": {},
   "source": [
    "#### New system HarmonicBondForce vs hybrid system CustomBondForce"
   ]
  },
  {
   "cell_type": "code",
   "execution_count": 34,
   "id": "ea1e2d34",
   "metadata": {},
   "outputs": [],
   "source": [
    "# Load htf\n",
    "with open(\"/home/zhangi/choderalab/perses_benchmark/perses_protein_mutations/code/26_rxn_field/cdk2_solvent.pickle\", \"rb\") as f:\n",
    "    htf = pickle.load(f)"
   ]
  },
  {
   "cell_type": "code",
   "execution_count": 35,
   "id": "efc8566f",
   "metadata": {},
   "outputs": [
    {
     "name": "stdout",
     "output_type": "stream",
     "text": [
      "{70: 70, 112: 112, 142: 142, 143: 143, 148: 148}\n",
      "Warning: Returning CPU platform instead of requested platform <simtk.openmm.openmm.Platform; proxy of <Swig Object of type 'OpenMM::Platform *' at 0x2ac8cd51ef00> >\n",
      "conducting subsequent work with the following platform: CPU\n",
      "conducting subsequent work with the following platform: CUDA\n",
      "[('HarmonicBondForce', 4.519508183899664), ('HarmonicAngleForce', 31.40442991986144), ('PeriodicTorsionForce', 15.078153431480851), ('NonbondedForce', 3363.615071727043), ('AndersenThermostat', 0.0), ('MonteCarloBarostat', 0.0)]\n",
      "conducting subsequent work with the following platform: CUDA\n",
      "[('CustomBondForce', 4.608082977954756), ('CustomAngleForce', 31.450793105256693), ('CustomTorsionForce', 15.078159774398037), ('AndersenThermostat', 0.0), ('MonteCarloBarostat', 0.0)]\n",
      "Success! Custom torsion force and standard torsion force energies are equal!\n"
     ]
    }
   ],
   "source": [
    "test_torsion_energies(htf, is_old=False, is_solvated=True)"
   ]
  },
  {
   "cell_type": "markdown",
   "id": "b390ade2",
   "metadata": {},
   "source": [
    "### Test one alchemical region, one scale region"
   ]
  },
  {
   "cell_type": "markdown",
   "id": "dc742379",
   "metadata": {},
   "source": [
    "#### Old system HarmonicBondForce vs hybrid system CustomBondForce"
   ]
  },
  {
   "cell_type": "code",
   "execution_count": 36,
   "id": "0858c0e0",
   "metadata": {},
   "outputs": [
    {
     "ename": "ModuleNotFoundError",
     "evalue": "No module named 'oechem'",
     "output_type": "error",
     "traceback": [
      "\u001b[0;31m---------------------------------------------------------------------------\u001b[0m",
      "\u001b[0;31mModuleNotFoundError\u001b[0m                       Traceback (most recent call last)",
      "\u001b[0;32m<ipython-input-36-5026435dd33f>\u001b[0m in \u001b[0;36m<module>\u001b[0;34m\u001b[0m\n\u001b[1;32m      1\u001b[0m \u001b[0;31m# Load htf\u001b[0m\u001b[0;34m\u001b[0m\u001b[0;34m\u001b[0m\u001b[0;34m\u001b[0m\u001b[0m\n\u001b[1;32m      2\u001b[0m \u001b[0;32mwith\u001b[0m \u001b[0mopen\u001b[0m\u001b[0;34m(\u001b[0m\u001b[0;34m\"/home/zhangi/choderalab/perses_benchmark/perses_protein_mutations/code/26_rxn_field/cdk2_solvent_scale_regions.pickle\"\u001b[0m\u001b[0;34m,\u001b[0m \u001b[0;34m\"rb\"\u001b[0m\u001b[0;34m)\u001b[0m \u001b[0;32mas\u001b[0m \u001b[0mf\u001b[0m\u001b[0;34m:\u001b[0m\u001b[0;34m\u001b[0m\u001b[0;34m\u001b[0m\u001b[0m\n\u001b[0;32m----> 3\u001b[0;31m     \u001b[0mhtf\u001b[0m \u001b[0;34m=\u001b[0m \u001b[0mpickle\u001b[0m\u001b[0;34m.\u001b[0m\u001b[0mload\u001b[0m\u001b[0;34m(\u001b[0m\u001b[0mf\u001b[0m\u001b[0;34m)\u001b[0m\u001b[0;34m\u001b[0m\u001b[0;34m\u001b[0m\u001b[0m\n\u001b[0m",
      "\u001b[0;31mModuleNotFoundError\u001b[0m: No module named 'oechem'"
     ]
    }
   ],
   "source": [
    "# Load htf\n",
    "with open(\"/home/zhangi/choderalab/perses_benchmark/perses_protein_mutations/code/26_rxn_field/cdk2_solvent_scale_regions.pickle\", \"rb\") as f:\n",
    "    htf = pickle.load(f)"
   ]
  },
  {
   "cell_type": "code",
   "execution_count": null,
   "id": "9860b232",
   "metadata": {},
   "outputs": [],
   "source": [
    "# This is the scale region\n",
    "list(htf._atom_classes['unique_old_atoms'][0]) + list(htf._atom_classes['unique_new_atoms'][0])"
   ]
  },
  {
   "cell_type": "code",
   "execution_count": null,
   "id": "2661b103",
   "metadata": {},
   "outputs": [],
   "source": [
    "test_torsion_energies(htf, is_solvated=True)"
   ]
  },
  {
   "cell_type": "markdown",
   "id": "9d93a3cd",
   "metadata": {},
   "source": [
    "#### New system HarmonicBondForce vs hybrid system CustomBondForce"
   ]
  },
  {
   "cell_type": "code",
   "execution_count": null,
   "id": "c2ab9959",
   "metadata": {},
   "outputs": [],
   "source": [
    "# Load htf\n",
    "with open(\"/home/zhangi/choderalab/perses_benchmark/perses_protein_mutations/code/26_rxn_field/cdk2_solvent_scale_regions.pickle\", \"rb\") as f:\n",
    "    htf = pickle.load(f)"
   ]
  },
  {
   "cell_type": "code",
   "execution_count": null,
   "id": "dacdf51f",
   "metadata": {
    "scrolled": true
   },
   "outputs": [],
   "source": [
    "test_torsion_energies(htf, is_old=False, is_solvated=True, check_scale=True)"
   ]
  },
  {
   "cell_type": "markdown",
   "id": "moderate-christopher",
   "metadata": {},
   "source": [
    "# 8mer in solvent"
   ]
  },
  {
   "cell_type": "markdown",
   "id": "spiritual-pension",
   "metadata": {},
   "source": [
    "### Test one alchemical region, no scale regions"
   ]
  },
  {
   "cell_type": "markdown",
   "id": "established-handy",
   "metadata": {},
   "source": [
    "#### Old system HarmonicBondForce vs hybrid system CustomBondForce"
   ]
  },
  {
   "cell_type": "code",
   "execution_count": 39,
   "id": "accessory-spectrum",
   "metadata": {},
   "outputs": [],
   "source": [
    "# Load htf\n",
    "with open(\"/home/zhangi/choderalab/perses_benchmark/perses_protein_mutations/code/26_rxn_field/8mer_solvent.pickle\", \"rb\") as f:\n",
    "    htf = pickle.load(f)"
   ]
  },
  {
   "cell_type": "code",
   "execution_count": 40,
   "id": "32839d52",
   "metadata": {},
   "outputs": [
    {
     "name": "stdout",
     "output_type": "stream",
     "text": [
      "{432: 39, 433: 40, 434: 41, 451: 58, 452: 59, 453: 60, 454: 61, 455: 62, 456: 63, 459: 66, 460: 67, 461: 68, 462: 69, 463: 70, 464: 71, 465: 72, 466: 73, 467: 74, 468: 75, 469: 76, 470: 77, 481: 88, 482: 89, 483: 90, 484: 91, 485: 92, 486: 93, 487: 94, 488: 95, 489: 96, 490: 97, 491: 98, 492: 99, 493: 100, 494: 101, 495: 102, 496: 103, 497: 104, 498: 105, 499: 106, 500: 107, 501: 108}\n",
      "Warning: Returning CPU platform instead of requested platform <simtk.openmm.openmm.Platform; proxy of <Swig Object of type 'OpenMM::Platform *' at 0x2ac8cd51ef00> >\n",
      "conducting subsequent work with the following platform: CPU\n",
      "conducting subsequent work with the following platform: CUDA\n",
      "[('HarmonicBondForce', 7.349099420286866), ('HarmonicAngleForce', 12.529213143558692), ('PeriodicTorsionForce', 157.29212321868366), ('NonbondedForce', -10413.63480329325), ('AndersenThermostat', 0.0), ('MonteCarloBarostat', 0.0)]\n",
      "conducting subsequent work with the following platform: CUDA\n",
      "[('CustomBondForce', 8.88521073611831), ('CustomAngleForce', 382.4742987998808), ('CustomTorsionForce', 157.2921325778617), ('AndersenThermostat', 0.0), ('MonteCarloBarostat', 0.0)]\n",
      "Success! Custom torsion force and standard torsion force energies are equal!\n"
     ]
    }
   ],
   "source": [
    "test_torsion_energies(htf, is_solvated=True)"
   ]
  },
  {
   "cell_type": "markdown",
   "id": "southeast-norwegian",
   "metadata": {},
   "source": [
    "#### New system HarmonicBondForce vs hybrid system CustomBondForce"
   ]
  },
  {
   "cell_type": "code",
   "execution_count": 41,
   "id": "after-medicaid",
   "metadata": {},
   "outputs": [],
   "source": [
    "# Load htf\n",
    "with open(\"/home/zhangi/choderalab/perses_benchmark/perses_protein_mutations/code/26_rxn_field/8mer_solvent.pickle\", \"rb\") as f:\n",
    "    htf = pickle.load(f)\n"
   ]
  },
  {
   "cell_type": "code",
   "execution_count": 42,
   "id": "protected-playing",
   "metadata": {
    "scrolled": true
   },
   "outputs": [
    {
     "name": "stdout",
     "output_type": "stream",
     "text": [
      "{39: 39, 40: 40, 41: 41, 58: 58, 59: 59, 60: 60, 63: 63, 64: 64, 65: 65, 76: 76, 77: 77, 78: 78, 79: 79, 80: 80, 81: 81}\n",
      "Warning: Returning CPU platform instead of requested platform <simtk.openmm.openmm.Platform; proxy of <Swig Object of type 'OpenMM::Platform *' at 0x2ac8cd51ef00> >\n",
      "conducting subsequent work with the following platform: CPU\n",
      "conducting subsequent work with the following platform: CUDA\n",
      "[('HarmonicBondForce', 8.839279898124524), ('HarmonicAngleForce', 382.3538632504383), ('PeriodicTorsionForce', 168.47244240570083), ('NonbondedForce', -6861.17431642076), ('AndersenThermostat', 0.0), ('MonteCarloBarostat', 0.0)]\n",
      "conducting subsequent work with the following platform: CUDA\n",
      "[('CustomBondForce', 8.88521073611831), ('CustomAngleForce', 382.4742987998808), ('CustomTorsionForce', 168.4724512217227), ('AndersenThermostat', 0.0), ('MonteCarloBarostat', 0.0)]\n",
      "Success! Custom torsion force and standard torsion force energies are equal!\n"
     ]
    }
   ],
   "source": [
    "test_torsion_energies(htf, is_old=False, is_solvated=True)"
   ]
  },
  {
   "cell_type": "markdown",
   "id": "intellectual-pennsylvania",
   "metadata": {},
   "source": [
    "### Test one alchemical region, one scale region"
   ]
  },
  {
   "cell_type": "markdown",
   "id": "romantic-florist",
   "metadata": {},
   "source": [
    "#### Old system HarmonicBondForce vs hybrid system CustomBondForce"
   ]
  },
  {
   "cell_type": "code",
   "execution_count": 43,
   "id": "needed-classroom",
   "metadata": {},
   "outputs": [],
   "source": [
    "# Load htf\n",
    "with open(\"/home/zhangi/choderalab/perses_benchmark/perses_protein_mutations/code/26_rxn_field/8mer_solvent_scale_region.pickle\", \"rb\") as f:\n",
    "    htf = pickle.load(f)"
   ]
  },
  {
   "cell_type": "code",
   "execution_count": 44,
   "id": "minimal-purchase",
   "metadata": {},
   "outputs": [
    {
     "data": {
      "text/plain": [
       "[24, 25, 26, 21, 5575, 5576, 5577, 5578, 5579]"
      ]
     },
     "execution_count": 44,
     "metadata": {},
     "output_type": "execute_result"
    }
   ],
   "source": [
    "# This is the scale region\n",
    "list(htf._atom_classes['unique_old_atoms'][0]) + list(htf._atom_classes['unique_new_atoms'][0])"
   ]
  },
  {
   "cell_type": "code",
   "execution_count": 45,
   "id": "continuing-award",
   "metadata": {
    "scrolled": true
   },
   "outputs": [
    {
     "name": "stdout",
     "output_type": "stream",
     "text": [
      "{432: 39, 433: 40, 434: 41, 451: 58, 452: 59, 453: 60, 454: 61, 455: 62, 456: 63, 459: 66, 460: 67, 461: 68, 462: 69, 463: 70, 464: 71, 465: 72, 466: 73, 467: 74, 468: 75, 479: 86, 480: 87, 481: 88, 482: 89, 483: 90, 484: 91, 485: 92, 486: 93}\n",
      "Warning: Returning CPU platform instead of requested platform <simtk.openmm.openmm.Platform; proxy of <Swig Object of type 'OpenMM::Platform *' at 0x2ac8cd51ef00> >\n",
      "conducting subsequent work with the following platform: CPU\n",
      "conducting subsequent work with the following platform: CUDA\n",
      "[('HarmonicBondForce', 7.349099420288431), ('HarmonicAngleForce', 12.529213143555554), ('PeriodicTorsionForce', 157.292123218685), ('NonbondedForce', -10511.125832891092), ('AndersenThermostat', 0.0), ('MonteCarloBarostat', 0.0)]\n",
      "conducting subsequent work with the following platform: CUDA\n",
      "[('CustomBondForce', 12.665182674760329), ('CustomAngleForce', 222.15532081099008), ('CustomTorsionForce', 157.2921325778617), ('AndersenThermostat', 0.0), ('MonteCarloBarostat', 0.0)]\n",
      "Success! Custom torsion force and standard torsion force energies are equal!\n"
     ]
    }
   ],
   "source": [
    "test_torsion_energies(htf, is_solvated=True)"
   ]
  },
  {
   "cell_type": "markdown",
   "id": "relevant-insured",
   "metadata": {},
   "source": [
    "#### New system HarmonicBondForce vs hybrid system CustomBondForce"
   ]
  },
  {
   "cell_type": "code",
   "execution_count": 46,
   "id": "mediterranean-assist",
   "metadata": {},
   "outputs": [],
   "source": [
    "# Load htf\n",
    "with open(\"/home/zhangi/choderalab/perses_benchmark/perses_protein_mutations/code/26_rxn_field/8mer_solvent_scale_region.pickle\", \"rb\") as f:\n",
    "    htf = pickle.load(f)"
   ]
  },
  {
   "cell_type": "code",
   "execution_count": 47,
   "id": "angry-perception",
   "metadata": {
    "scrolled": false
   },
   "outputs": [
    {
     "name": "stdout",
     "output_type": "stream",
     "text": [
      "{39: 39, 40: 40, 41: 41, 58: 58, 59: 59, 60: 60, 63: 63, 64: 64, 65: 65, 76: 76, 77: 77, 78: 78, 79: 79, 80: 80, 81: 81}\n",
      "Warning: Returning CPU platform instead of requested platform <simtk.openmm.openmm.Platform; proxy of <Swig Object of type 'OpenMM::Platform *' at 0x2ac8cd51ef00> >\n",
      "conducting subsequent work with the following platform: CPU\n",
      "conducting subsequent work with the following platform: CUDA\n",
      "[('HarmonicBondForce', 12.619251836766544), ('HarmonicAngleForce', 222.03488526154752), ('PeriodicTorsionForce', 165.54093146134787), ('NonbondedForce', 80580.58719803787), ('AndersenThermostat', 0.0), ('MonteCarloBarostat', 0.0)]\n",
      "conducting subsequent work with the following platform: CUDA\n",
      "[('CustomBondForce', 12.665182674760329), ('CustomAngleForce', 222.15532081099008), ('CustomTorsionForce', 165.54094120152004), ('AndersenThermostat', 0.0), ('MonteCarloBarostat', 0.0)]\n",
      "Success! Custom torsion force and standard torsion force energies are equal!\n",
      "conducting subsequent work with the following platform: CUDA\n",
      "[('CustomBondForce', 12.665182674760329), ('CustomAngleForce', 222.15532081099008), ('CustomTorsionForce', 157.2921325778617), ('AndersenThermostat', 0.0), ('MonteCarloBarostat', 0.0)]\n",
      "conducting subsequent work with the following platform: CUDA\n",
      "[('CustomBondForce', 12.665182674760329), ('CustomAngleForce', 222.15532081099008), ('CustomTorsionForce', 153.53840042411247), ('AndersenThermostat', 0.0), ('MonteCarloBarostat', 0.0)]\n",
      "Success! Scaling the torsion force changes the energy\n"
     ]
    }
   ],
   "source": [
    "test_torsion_energies(htf, is_old=False, is_solvated=True, check_scale=True)"
   ]
  },
  {
   "cell_type": "markdown",
   "id": "corrected-meeting",
   "metadata": {},
   "source": [
    "## Barnase:barstar (old htf, no naked charge fix or counterion fix)"
   ]
  },
  {
   "cell_type": "markdown",
   "id": "japanese-persian",
   "metadata": {},
   "source": [
    "### Test one alchemical region, no scale regions"
   ]
  },
  {
   "cell_type": "markdown",
   "id": "dated-desire",
   "metadata": {},
   "source": [
    "#### Old system PeroidicTorsionForce vs hybrid system CustomTorsionForce"
   ]
  },
  {
   "cell_type": "code",
   "execution_count": 48,
   "id": "excellent-cosmetic",
   "metadata": {},
   "outputs": [],
   "source": [
    "# Load htf\n",
    "with open(\"T42A_complex.pickle\", \"rb\") as f:\n",
    "    htf = pickle.load(f)"
   ]
  },
  {
   "cell_type": "code",
   "execution_count": 49,
   "id": "bigger-meeting",
   "metadata": {},
   "outputs": [
    {
     "name": "stdout",
     "output_type": "stream",
     "text": [
      "{10866: 2139, 10867: 2140, 10868: 2141, 10907: 2180, 10908: 2181, 10909: 2182, 10912: 2185, 10913: 2186, 10914: 2187, 10922: 2195, 10923: 2196, 10924: 2197, 10925: 2198, 10926: 2199, 10927: 2200}\n",
      "Warning: Returning CPU platform instead of requested platform <simtk.openmm.openmm.Platform; proxy of <Swig Object of type 'OpenMM::Platform *' at 0x2ac8cd51ef00> >\n",
      "conducting subsequent work with the following platform: CPU\n",
      "conducting subsequent work with the following platform: CUDA\n",
      "[('HarmonicBondForce', 190.96991399580065), ('HarmonicAngleForce', 797.0922707362635), ('PeriodicTorsionForce', 3856.2346108037004), ('NonbondedForce', -23496.968598492447), ('AndersenThermostat', 0.0), ('MonteCarloBarostat', 0.0)]\n",
      "conducting subsequent work with the following platform: CUDA\n",
      "[('CustomBondForce', 191.92874049962995), ('CustomAngleForce', 1012.1096547338736), ('CustomTorsionForce', 3856.2347805821146), ('AndersenThermostat', 0.0), ('MonteCarloBarostat', 0.0)]\n",
      "Success! Custom torsion force and standard torsion force energies are equal!\n"
     ]
    }
   ],
   "source": [
    "test_torsion_energies(htf, is_solvated=True)"
   ]
  },
  {
   "cell_type": "markdown",
   "id": "satisfactory-taxation",
   "metadata": {},
   "source": [
    "#### New system HarmonicTorsionForce vs hybrid system CustomTorsionForce"
   ]
  },
  {
   "cell_type": "code",
   "execution_count": 50,
   "id": "turkish-exclusive",
   "metadata": {},
   "outputs": [],
   "source": [
    "# Load htf\n",
    "with open(\"T42A_complex.pickle\", \"rb\") as f:\n",
    "    htf = pickle.load(f)"
   ]
  },
  {
   "cell_type": "code",
   "execution_count": 51,
   "id": "cordless-kitty",
   "metadata": {},
   "outputs": [
    {
     "name": "stdout",
     "output_type": "stream",
     "text": [
      "{2139: 2139, 2140: 2140, 2141: 2141, 2180: 2180, 2181: 2181, 2182: 2182, 2183: 2183, 2184: 2184, 2185: 2185, 2186: 2186, 2187: 2187, 2188: 2188, 2191: 2191, 2192: 2192, 2193: 2193, 2194: 2194, 2195: 2195, 2196: 2196, 2197: 2197, 2198: 2198, 2199: 2199, 2200: 2200, 2201: 2201, 2202: 2202, 2203: 2203, 2204: 2204, 2205: 2205, 2206: 2206, 2214: 2214, 2215: 2215, 2216: 2216, 2217: 2217, 2218: 2218, 2219: 2219, 2220: 2220, 2221: 2221, 2222: 2222, 2223: 2223, 2224: 2224, 2225: 2225, 2226: 2226, 2227: 2227, 2228: 2228, 2229: 2229, 2230: 2230}\n",
      "Warning: Returning CPU platform instead of requested platform <simtk.openmm.openmm.Platform; proxy of <Swig Object of type 'OpenMM::Platform *' at 0x2ac8cd51ef00> >\n",
      "conducting subsequent work with the following platform: CPU\n",
      "conducting subsequent work with the following platform: CUDA\n",
      "[('HarmonicBondForce', 191.51760393383896), ('HarmonicAngleForce', 1010.4766887798822), ('PeriodicTorsionForce', 3849.6843670339917), ('NonbondedForce', -22772.68423165379), ('AndersenThermostat', 0.0), ('MonteCarloBarostat', 0.0)]\n",
      "conducting subsequent work with the following platform: CUDA\n",
      "[('CustomBondForce', 191.92874049962995), ('CustomAngleForce', 1012.1096547338736), ('CustomTorsionForce', 3849.6846579293497), ('AndersenThermostat', 0.0), ('MonteCarloBarostat', 0.0)]\n",
      "Success! Custom torsion force and standard torsion force energies are equal!\n"
     ]
    }
   ],
   "source": [
    "test_torsion_energies(htf, is_old=False, is_solvated=True)"
   ]
  },
  {
   "cell_type": "markdown",
   "id": "0793af25",
   "metadata": {},
   "source": [
    "### Test one alchemical region, no scale regions"
   ]
  },
  {
   "cell_type": "markdown",
   "id": "11e0a37b",
   "metadata": {},
   "source": [
    "#### Old system HarmonicTorsionForce vs hybrid system CustomTorsionForce"
   ]
  },
  {
   "cell_type": "code",
   "execution_count": 7,
   "id": "1b1f665f",
   "metadata": {},
   "outputs": [],
   "source": [
    "# Load htf\n",
    "with open(\"T42A_complex_scale_region.pickle\", \"rb\") as f:\n",
    "    htf = pickle.load(f)"
   ]
  },
  {
   "cell_type": "code",
   "execution_count": 8,
   "id": "6677ef7d",
   "metadata": {},
   "outputs": [
    {
     "name": "stdout",
     "output_type": "stream",
     "text": [
      "{10866: 2139, 10867: 2140, 10868: 2141, 10907: 2180, 10908: 2181, 10909: 2182, 10912: 2185, 10913: 2186, 10914: 2187, 10922: 2195, 10923: 2196, 10924: 2197, 10925: 2198, 10926: 2199, 10927: 2200}\n",
      "Warning: Returning CPU platform instead of requested platform <simtk.openmm.openmm.Platform; proxy of <Swig Object of type 'OpenMM::Platform *' at 0x2afff7a10a80> >\n",
      "conducting subsequent work with the following platform: CPU\n",
      "conducting subsequent work with the following platform: CUDA\n",
      "[('HarmonicBondForce', 190.96991399580065), ('HarmonicAngleForce', 797.0922707362635), ('PeriodicTorsionForce', 3856.2346108037004), ('NonbondedForce', -25367.423468547222), ('AndersenThermostat', 0.0), ('MonteCarloBarostat', 0.0)]\n",
      "conducting subsequent work with the following platform: CUDA\n",
      "[('CustomBondForce', 191.68441661118993), ('CustomAngleForce', 1002.3374923455682), ('CustomTorsionForce', 3856.234842190186), ('AndersenThermostat', 0.0), ('MonteCarloBarostat', 0.0)]\n",
      "Success! Custom torsion force and standard torsion force energies are equal!\n",
      "conducting subsequent work with the following platform: CUDA\n",
      "[('CustomBondForce', 191.68441661118993), ('CustomAngleForce', 1002.3374923455682), ('CustomTorsionForce', 3856.234842190186), ('AndersenThermostat', 0.0), ('MonteCarloBarostat', 0.0)]\n",
      "conducting subsequent work with the following platform: CUDA\n",
      "[('CustomBondForce', 191.68441661118993), ('CustomAngleForce', 1002.3374923455682), ('CustomTorsionForce', 3847.4245383399552), ('AndersenThermostat', 0.0), ('MonteCarloBarostat', 0.0)]\n",
      "Success! Scaling the torsion force changes the energy\n"
     ]
    }
   ],
   "source": [
    "test_torsion_energies(htf, is_solvated=True, check_scale=True)"
   ]
  },
  {
   "cell_type": "markdown",
   "id": "5715c069",
   "metadata": {},
   "source": [
    "#### New system HarmonicTorsionForce vs hybrid system CustomTorsionForce"
   ]
  },
  {
   "cell_type": "code",
   "execution_count": 9,
   "id": "a11f78b1",
   "metadata": {},
   "outputs": [],
   "source": [
    "# Load htf\n",
    "with open(\"T42A_complex_scale_region.pickle\", \"rb\") as f:\n",
    "    htf = pickle.load(f)"
   ]
  },
  {
   "cell_type": "code",
   "execution_count": 10,
   "id": "0eb0ec57",
   "metadata": {
    "scrolled": true
   },
   "outputs": [
    {
     "name": "stdout",
     "output_type": "stream",
     "text": [
      "{2139: 2139, 2140: 2140, 2141: 2141, 2180: 2180, 2181: 2181, 2182: 2182, 2183: 2183, 2184: 2184, 2185: 2185, 2186: 2186, 2187: 2187, 2188: 2188, 2191: 2191, 2192: 2192, 2193: 2193, 2194: 2194, 2195: 2195, 2196: 2196, 2197: 2197, 2198: 2198, 2199: 2199, 2200: 2200, 2201: 2201, 2202: 2202, 2203: 2203, 2204: 2204, 2205: 2205, 2206: 2206, 2214: 2214, 2215: 2215, 2216: 2216, 2217: 2217, 2218: 2218, 2219: 2219, 2220: 2220, 2221: 2221, 2222: 2222, 2223: 2223, 2224: 2224, 2225: 2225, 2226: 2226, 2227: 2227, 2228: 2228, 2229: 2229, 2230: 2230}\n",
      "Warning: Returning CPU platform instead of requested platform <simtk.openmm.openmm.Platform; proxy of <Swig Object of type 'OpenMM::Platform *' at 0x2afff7a10a80> >\n",
      "conducting subsequent work with the following platform: CPU\n",
      "conducting subsequent work with the following platform: CUDA\n",
      "[('HarmonicBondForce', 191.27328004539896), ('HarmonicAngleForce', 1000.7045263915769), ('PeriodicTorsionForce', 3849.683473240853), ('NonbondedForce', -24737.764251905406), ('AndersenThermostat', 0.0), ('MonteCarloBarostat', 0.0)]\n",
      "conducting subsequent work with the following platform: CUDA\n",
      "[('CustomBondForce', 191.68441661118993), ('CustomAngleForce', 1002.3374923455682), ('CustomTorsionForce', 3849.6838262208853), ('AndersenThermostat', 0.0), ('MonteCarloBarostat', 0.0)]\n",
      "Success! Custom torsion force and standard torsion force energies are equal!\n",
      "conducting subsequent work with the following platform: CUDA\n",
      "[('CustomBondForce', 191.68441661118993), ('CustomAngleForce', 1002.3374923455682), ('CustomTorsionForce', 3856.234842190186), ('AndersenThermostat', 0.0), ('MonteCarloBarostat', 0.0)]\n",
      "conducting subsequent work with the following platform: CUDA\n",
      "[('CustomBondForce', 191.68441661118993), ('CustomAngleForce', 1002.3374923455682), ('CustomTorsionForce', 3847.4245383399552), ('AndersenThermostat', 0.0), ('MonteCarloBarostat', 0.0)]\n",
      "Success! Scaling the torsion force changes the energy\n"
     ]
    }
   ],
   "source": [
    "test_torsion_energies(htf, is_old=False, is_solvated=True, check_scale=True)"
   ]
  },
  {
   "cell_type": "code",
   "execution_count": null,
   "id": "38179913",
   "metadata": {},
   "outputs": [],
   "source": []
  },
  {
   "cell_type": "code",
   "execution_count": null,
   "id": "7ba99c4b",
   "metadata": {},
   "outputs": [],
   "source": [
    "# TO DO: actually test the scaling of the energies matches"
   ]
  }
 ],
 "metadata": {
  "kernelspec": {
   "display_name": "Python 3",
   "language": "python",
   "name": "python3"
  },
  "language_info": {
   "codemirror_mode": {
    "name": "ipython",
    "version": 3
   },
   "file_extension": ".py",
   "mimetype": "text/x-python",
   "name": "python",
   "nbconvert_exporter": "python",
   "pygments_lexer": "ipython3",
   "version": "3.8.8"
  }
 },
 "nbformat": 4,
 "nbformat_minor": 5
}
