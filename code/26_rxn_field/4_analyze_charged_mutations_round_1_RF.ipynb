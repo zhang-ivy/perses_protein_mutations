{
 "cells": [
  {
   "cell_type": "markdown",
   "metadata": {},
   "source": [
    "Analyze 19/5-9 neq switching"
   ]
  },
  {
   "cell_type": "code",
   "execution_count": 1,
   "metadata": {},
   "outputs": [],
   "source": [
    "from perses.analysis.analysis import Analysis\n",
    "import numpy as np\n",
    "import seaborn as sns\n",
    "import matplotlib.pyplot as plt\n",
    "import pymbar\n",
    "%matplotlib inline\n",
    "import os\n",
    "import itertools\n",
    "from tqdm import tqdm_notebook\n",
    "import pandas as pd\n",
    "import tqdm\n",
    "import warnings\n",
    "warnings.filterwarnings('ignore')\n",
    "from simtk.openmm import unit\n",
    "from openmmtools.constants import kB\n",
    "KT_KCALMOL = kB * 300 * unit.kelvin / unit.kilocalories_per_mole\n",
    "import pandas as pd\n",
    "import pickle"
   ]
  },
  {
   "cell_type": "code",
   "execution_count": 9,
   "metadata": {},
   "outputs": [],
   "source": [
    "def analyze(forward_accumulated, reverse_accumulated): \n",
    "    # Compute dg, ddg\n",
    "    dg, ddg = pymbar.bar.BAR(forward_accumulated, reverse_accumulated)\n",
    "    return dg, ddg\n",
    "\n",
    "def analyze_bootstrap(d_works):\n",
    "    d_dgs_phase = {}\n",
    "    solvent_dg, solvent_ddg = analyze(d_works['solvent']['forward'], d_works['solvent']['reverse'])\n",
    "    d_dgs_phase['solvent'] = (solvent_dg, solvent_ddg)\n",
    "    \n",
    "    return d_dgs_phase\n",
    "    \n",
    "def plot(forward_work, reverse_work, dg, ddg, dir_num, phase, output_dir, title):\n",
    "    # Substract offset\n",
    "    print(\"subtracting offset\")\n",
    "    forward_work_offset = []\n",
    "    for cycle in forward_work:\n",
    "        forward_work_offset.append(np.array([val - cycle[0] for val in cycle[1:]]))\n",
    "    forward_work_offset = np.array(forward_work_offset)\n",
    "\n",
    "    reverse_work_offset = []\n",
    "    for cycle in reverse_work:\n",
    "        reverse_work_offset.append(np.array([val - cycle[0] for val in cycle[1:]]))\n",
    "    reverse_work_offset = np.array(reverse_work_offset)\n",
    "\n",
    "    # Plot work trajectories\n",
    "    print(\"plotting work trajs\")\n",
    "    for cycle in forward_work_offset:\n",
    "        x = [(i+1)*4e-4 for i in range(len(list(cycle)))]\n",
    "        y = cycle\n",
    "        plt.plot(x, y, color=sns.color_palette()[0])\n",
    "    for cycle in reverse_work_offset:\n",
    "        x = [(i+1)*4e-4 for i in range(len(list(cycle)))]\n",
    "        y = -cycle\n",
    "        plt.plot(x, y, color=sns.color_palette()[1])\n",
    "    plt.xlabel(\"$t_{neq}$ (ns)\")\n",
    "    plt.ylabel(\"work (kT)\")\n",
    "    plt.title(f\"{title} {phase}\")\n",
    "    plt.savefig(os.path.join(output_dir, f\"{dir_num}_{phase}_work_traj.png\"), dpi=500)\n",
    "    print(f\"saved to: {os.path.join(output_dir, f'{dir_num}_{phase}_work_traj.png')}\")\n",
    "    plt.clf()\n",
    "    \n",
    "    # Plot work distributions\n",
    "    print(\"plotting work distrib\")\n",
    "    accumulated_forward = [cycle[-1] for cycle in forward_work_offset]\n",
    "    accumulated_reverse = [-cycle[-1] for cycle in reverse_work_offset]\n",
    "    sns.distplot(accumulated_forward)\n",
    "    sns.distplot(accumulated_reverse)\n",
    "    plt.axvline(dg)\n",
    "    plt.axvline(dg + ddg, linestyle='dashed')\n",
    "    plt.axvline(dg - ddg, linestyle='dashed')\n",
    "    plt.xlabel(\"work (kT)\")\n",
    "    plt.ylabel(\"p(w)\")\n",
    "    plt.title(f\"{title} {phase}\")\n",
    "    plt.savefig(os.path.join(output_dir, f\"{dir_num}_{phase}_work_dist.png\"), dpi=500)\n",
    "    print(f\"saved to: {os.path.join(output_dir, f'{dir_num}_{phase}_work_dist.png')}\")\n",
    "    plt.clf()\n",
    "    "
   ]
  },
  {
   "cell_type": "markdown",
   "metadata": {},
   "source": [
    "## ALA->VAL"
   ]
  },
  {
   "cell_type": "code",
   "execution_count": 29,
   "metadata": {
    "scrolled": true
   },
   "outputs": [
    {
     "data": {
      "application/vnd.jupyter.widget-view+json": {
       "model_id": "40c71b644617481fa6a5a19b17284ab8",
       "version_major": 2,
       "version_minor": 0
      },
      "text/plain": [
       "  0%|          | 0/1 [00:00<?, ?it/s]"
      ]
     },
     "metadata": {},
     "output_type": "display_data"
    },
    {
     "name": "stdout",
     "output_type": "stream",
     "text": [
      "dir: 5\n",
      "100\n",
      "100\n",
      "subtracting offset\n",
      "plotting work trajs\n",
      "saved to: /data/chodera/zhangi/perses_benchmark/neq/19/5/5_apo_work_traj.png\n",
      "plotting work distrib\n",
      "saved to: /data/chodera/zhangi/perses_benchmark/neq/19/5/5_apo_work_dist.png\n",
      "-25.67152990295264 0.14523832629567004\n"
     ]
    },
    {
     "data": {
      "text/plain": [
       "<Figure size 432x288 with 0 Axes>"
      ]
     },
     "metadata": {},
     "output_type": "display_data"
    }
   ],
   "source": [
    "# Load data into dicts and plot \n",
    "titles = [\"ALA->VAL\"]\n",
    "phases = ['solvent']\n",
    "directions = ['forward', 'reverse']\n",
    "d_input = {}\n",
    "dir_num = 19\n",
    "forward = 5\n",
    "for i in tqdm_notebook([forward]):\n",
    "    print(f\"dir: {i}\")\n",
    "    d_works = {\"solvent\":{}}\n",
    "    d_combined_works = {\"solvent\":{}}\n",
    "    for phase in phases:\n",
    "        for direction in directions:\n",
    "            all_arrays = []\n",
    "            for j in range(100):\n",
    "                path = f\"/data/chodera/zhangi/perses_benchmark/neq/{dir_num}/{i}/{i}_{phase}_{j}_{direction}.npy\"\n",
    "                try:\n",
    "                    if os.path.exists(path):\n",
    "                        with open(path, 'rb') as f:\n",
    "                            array = np.load(f)\n",
    "                            if not np.isnan(np.sum(array)):\n",
    "                                all_arrays.append(array)\n",
    "                except:\n",
    "                    continue\n",
    "            print(len(all_arrays))\n",
    "            if all_arrays:\n",
    "                combined = np.concatenate(all_arrays)\n",
    "                accumulated = np.array([cycle[-1] - cycle[0] for cycle in combined])\n",
    "#                 combined = np.array([cycle[0::100] for cycle in combined])\n",
    "                d_combined_works[phase][direction] = combined\n",
    "                d_works[phase][direction] = accumulated\n",
    "    \n",
    "    d_input[i] = d_works\n",
    "    \n",
    "    # Plot\n",
    "    solvent_dg, solvent_ddg = analyze(d_works['solvent']['forward'], d_works['solvent']['reverse'])\n",
    "    plot(d_combined_works['solvent']['forward'], d_combined_works['solvent']['reverse'], solvent_dg, solvent_ddg, i, 'apo', os.path.dirname(path), titles[i-forward])\n",
    "    print(solvent_dg, solvent_ddg)"
   ]
  },
  {
   "cell_type": "code",
   "execution_count": 30,
   "metadata": {},
   "outputs": [
    {
     "data": {
      "text/plain": [
       "(array([ 7., 20., 21., 17., 21.,  9.,  4.,  0.,  0.,  1.]),\n",
       " array([-94.87061871, -73.62586672, -52.38111472, -31.13636273,\n",
       "         -9.89161074,  11.35314126,  32.59789325,  53.84264524,\n",
       "         75.08739724,  96.33214923, 117.57690122]),\n",
       " <BarContainer object of 10 artists>)"
      ]
     },
     "execution_count": 30,
     "metadata": {},
     "output_type": "execute_result"
    },
    {
     "data": {
      "image/png": "[encoded data removed]",
      "text/plain": [
       "<Figure size 432x288 with 1 Axes>"
      ]
     },
     "metadata": {
      "needs_background": "light"
     },
     "output_type": "display_data"
    }
   ],
   "source": [
    "plt.hist(d_works['solvent']['forward'])\n",
    "plt.hist(d_works['solvent']['reverse']*-1)"
   ]
  },
  {
   "cell_type": "code",
   "execution_count": 31,
   "metadata": {},
   "outputs": [
    {
     "data": {
      "application/vnd.jupyter.widget-view+json": {
       "model_id": "17ee40ec94034a4b8a5eaf4e93452816",
       "version_major": 2,
       "version_minor": 0
      },
      "text/plain": [
       "  0%|          | 0/10000 [00:00<?, ?it/s]"
      ]
     },
     "metadata": {},
     "output_type": "display_data"
    }
   ],
   "source": [
    "# Bootstrap works\n",
    "N_bootstraps = 10000\n",
    "phases = ['solvent']\n",
    "directions = ['forward', 'reverse']\n",
    "dgs_phase = {}\n",
    "ddgs = {}\n",
    "for i in [forward]:\n",
    "    dgs_phase_all = []\n",
    "    for _ in tqdm_notebook(range(N_bootstraps)):\n",
    "        # Initialize data structure for works\n",
    "        d_works = {\"solvent\": {\"forward\":{}, \"reverse\":{}}}\n",
    "\n",
    "        # Save subsampled works\n",
    "        for phase in phases:\n",
    "            for direction in directions:\n",
    "                work_array = np.array(d_input[i][phase][direction])\n",
    "                num_samples = work_array.shape[0]\n",
    "                subsample_indices = np.random.choice(range(num_samples), num_samples)\n",
    "                d_works[phase][direction] = work_array[subsample_indices]\n",
    "        d_dgs_phase = analyze_bootstrap(d_works)\n",
    "        dgs_phase_all.append(d_dgs_phase)\n",
    "    dgs_phase[i] = dgs_phase_all\n",
    "    \n",
    "    \n"
   ]
  },
  {
   "cell_type": "code",
   "execution_count": 32,
   "metadata": {},
   "outputs": [],
   "source": [
    "dgs = [d['solvent'][0] for d in dgs_phase[forward]]\n",
    "solvent_dg = np.mean(dgs)\n",
    "forward_ci = np.percentile(dgs, 2.5), np.percentile(dgs, 97.5)\n",
    "\n",
    "output_kcalmol = [round(solvent_dg*KT_KCALMOL, 2), tuple([round(val, 2)for val in np.array(forward_ci)*KT_KCALMOL])]\n",
    "\n"
   ]
  },
  {
   "cell_type": "code",
   "execution_count": 33,
   "metadata": {},
   "outputs": [
    {
     "data": {
      "text/plain": [
       "[-15.36, (-19.52, -11.56)]"
      ]
     },
     "execution_count": 33,
     "metadata": {},
     "output_type": "execute_result"
    }
   ],
   "source": [
    "output_kcalmol"
   ]
  },
  {
   "cell_type": "code",
   "execution_count": 34,
   "metadata": {},
   "outputs": [],
   "source": [
    "# pd.DataFrame([output_kcalmol]).to_csv(f\"/data/chodera/zhangi/perses_benchmark/neq/{dir_num}/{forward}/analysis_{titles[0]}_{titles[1]}.csv\")"
   ]
  },
  {
   "cell_type": "code",
   "execution_count": 35,
   "metadata": {},
   "outputs": [],
   "source": [
    "with open(f\"/data/chodera/zhangi/perses_benchmark/neq/{dir_num}/{forward}/dgs_phase.pickle\", \"wb\") as f:\n",
    "    pickle.dump(dgs_phase, f)"
   ]
  },
  {
   "cell_type": "code",
   "execution_count": 36,
   "metadata": {
    "scrolled": false
   },
   "outputs": [
    {
     "data": {
      "text/plain": [
       "<matplotlib.legend.Legend at 0x2b91d6c03ee0>"
      ]
     },
     "execution_count": 36,
     "metadata": {},
     "output_type": "execute_result"
    },
    {
     "data": {
      "image/png": "[encoded data removed]",
      "text/plain": [
       "<Figure size 432x288 with 1 Axes>"
      ]
     },
     "metadata": {
      "needs_background": "light"
     },
     "output_type": "display_data"
    }
   ],
   "source": [
    "# Plot ddgs\n",
    "sns.distplot(np.array(dgs)*KT_KCALMOL, rug=True, label=titles[0])\n",
    "# sns.distplot(np.array(ddgs[reverse])*-KT_KCALMOL, rug=True, label=f\"-({titles[1]})\")\n",
    "plt.xlabel(\"solvent dg (kcal/mol)\")\n",
    "plt.legend()"
   ]
  },
  {
   "cell_type": "markdown",
   "metadata": {},
   "source": [
    "## ALA->THR"
   ]
  },
  {
   "cell_type": "code",
   "execution_count": 37,
   "metadata": {
    "scrolled": true
   },
   "outputs": [
    {
     "data": {
      "application/vnd.jupyter.widget-view+json": {
       "model_id": "1e119ade45e64921baf4f65e794a515c",
       "version_major": 2,
       "version_minor": 0
      },
      "text/plain": [
       "  0%|          | 0/1 [00:00<?, ?it/s]"
      ]
     },
     "metadata": {},
     "output_type": "display_data"
    },
    {
     "name": "stdout",
     "output_type": "stream",
     "text": [
      "dir: 6\n",
      "100\n",
      "100\n",
      "subtracting offset\n",
      "plotting work trajs\n",
      "saved to: /data/chodera/zhangi/perses_benchmark/neq/19/6/6_apo_work_traj.png\n",
      "plotting work distrib\n",
      "saved to: /data/chodera/zhangi/perses_benchmark/neq/19/6/6_apo_work_dist.png\n",
      "-43.974242803930004 0.1472638382317298\n"
     ]
    },
    {
     "data": {
      "text/plain": [
       "<Figure size 432x288 with 0 Axes>"
      ]
     },
     "metadata": {},
     "output_type": "display_data"
    }
   ],
   "source": [
    "# Load data into dicts and plot \n",
    "titles = [\"ALA->THR\"]\n",
    "phases = ['solvent']\n",
    "directions = ['forward', 'reverse']\n",
    "d_input = {}\n",
    "dir_num = 19\n",
    "forward = 6\n",
    "for i in tqdm_notebook([forward]):\n",
    "    print(f\"dir: {i}\")\n",
    "    d_works = {\"solvent\":{}}\n",
    "    d_combined_works = {\"solvent\":{}}\n",
    "    for phase in phases:\n",
    "        for direction in directions:\n",
    "            all_arrays = []\n",
    "            for j in range(100):\n",
    "                path = f\"/data/chodera/zhangi/perses_benchmark/neq/{dir_num}/{i}/{i}_{phase}_{j}_{direction}.npy\"\n",
    "                try:\n",
    "                    if os.path.exists(path):\n",
    "                        with open(path, 'rb') as f:\n",
    "                            array = np.load(f)\n",
    "                            if not np.isnan(np.sum(array)):\n",
    "                                all_arrays.append(array)\n",
    "                except:\n",
    "                    continue\n",
    "            print(len(all_arrays))\n",
    "            if all_arrays:\n",
    "                combined = np.concatenate(all_arrays)\n",
    "                accumulated = np.array([cycle[-1] - cycle[0] for cycle in combined])\n",
    "#                 combined = np.array([cycle[0::100] for cycle in combined])\n",
    "                d_combined_works[phase][direction] = combined\n",
    "                d_works[phase][direction] = accumulated\n",
    "    \n",
    "    d_input[i] = d_works\n",
    "    \n",
    "    # Plot\n",
    "    solvent_dg, solvent_ddg = analyze(d_works['solvent']['forward'], d_works['solvent']['reverse'])\n",
    "    plot(d_combined_works['solvent']['forward'], d_combined_works['solvent']['reverse'], solvent_dg, solvent_ddg, i, 'apo', os.path.dirname(path), titles[i-forward])\n",
    "    print(solvent_dg, solvent_ddg)"
   ]
  },
  {
   "cell_type": "code",
   "execution_count": 38,
   "metadata": {},
   "outputs": [
    {
     "data": {
      "text/plain": [
       "(array([ 1.,  0.,  0.,  4.,  7., 22., 32., 23.,  7.,  4.]),\n",
       " array([-294.0586995 , -255.88347697, -217.70825443, -179.5330319 ,\n",
       "        -141.35780937, -103.18258684,  -65.00736431,  -26.83214178,\n",
       "          11.34308075,   49.51830328,   87.69352581]),\n",
       " <BarContainer object of 10 artists>)"
      ]
     },
     "execution_count": 38,
     "metadata": {},
     "output_type": "execute_result"
    },
    {
     "data": {
      "image/png": "[encoded data removed]",
      "text/plain": [
       "<Figure size 432x288 with 1 Axes>"
      ]
     },
     "metadata": {
      "needs_background": "light"
     },
     "output_type": "display_data"
    }
   ],
   "source": [
    "plt.hist(d_works['solvent']['forward'])\n",
    "plt.hist(d_works['solvent']['reverse']*-1)"
   ]
  },
  {
   "cell_type": "code",
   "execution_count": 39,
   "metadata": {},
   "outputs": [
    {
     "data": {
      "application/vnd.jupyter.widget-view+json": {
       "model_id": "dd7546e104e04f2e88a11516f92e4a37",
       "version_major": 2,
       "version_minor": 0
      },
      "text/plain": [
       "  0%|          | 0/10000 [00:00<?, ?it/s]"
      ]
     },
     "metadata": {},
     "output_type": "display_data"
    }
   ],
   "source": [
    "# Bootstrap works\n",
    "N_bootstraps = 10000\n",
    "phases = ['solvent']\n",
    "directions = ['forward', 'reverse']\n",
    "dgs_phase = {}\n",
    "ddgs = {}\n",
    "for i in [forward]:\n",
    "    dgs_phase_all = []\n",
    "    for _ in tqdm_notebook(range(N_bootstraps)):\n",
    "        # Initialize data structure for works\n",
    "        d_works = {\"solvent\": {\"forward\":{}, \"reverse\":{}}}\n",
    "\n",
    "        # Save subsampled works\n",
    "        for phase in phases:\n",
    "            for direction in directions:\n",
    "                work_array = np.array(d_input[i][phase][direction])\n",
    "                num_samples = work_array.shape[0]\n",
    "                subsample_indices = np.random.choice(range(num_samples), num_samples)\n",
    "                d_works[phase][direction] = work_array[subsample_indices]\n",
    "        d_dgs_phase = analyze_bootstrap(d_works)\n",
    "        dgs_phase_all.append(d_dgs_phase)\n",
    "    dgs_phase[i] = dgs_phase_all\n",
    "    \n",
    "    \n"
   ]
  },
  {
   "cell_type": "code",
   "execution_count": 40,
   "metadata": {},
   "outputs": [],
   "source": [
    "dgs = [d['solvent'][0] for d in dgs_phase[forward]]\n",
    "solvent_dg = np.mean(dgs)\n",
    "forward_ci = np.percentile(dgs, 2.5), np.percentile(dgs, 97.5)\n",
    "\n",
    "output_kcalmol = [round(solvent_dg*KT_KCALMOL, 2), tuple([round(val, 2)for val in np.array(forward_ci)*KT_KCALMOL])]\n",
    "\n"
   ]
  },
  {
   "cell_type": "code",
   "execution_count": 41,
   "metadata": {},
   "outputs": [
    {
     "data": {
      "text/plain": [
       "[-25.62, (-29.95, -20.35)]"
      ]
     },
     "execution_count": 41,
     "metadata": {},
     "output_type": "execute_result"
    }
   ],
   "source": [
    "output_kcalmol"
   ]
  },
  {
   "cell_type": "code",
   "execution_count": 42,
   "metadata": {},
   "outputs": [],
   "source": [
    "# pd.DataFrame([output_kcalmol]).to_csv(f\"/data/chodera/zhangi/perses_benchmark/neq/{dir_num}/{forward}/analysis_{titles[0]}_{titles[1]}.csv\")"
   ]
  },
  {
   "cell_type": "code",
   "execution_count": 43,
   "metadata": {},
   "outputs": [],
   "source": [
    "with open(f\"/data/chodera/zhangi/perses_benchmark/neq/{dir_num}/{forward}/dgs_phase.pickle\", \"wb\") as f:\n",
    "    pickle.dump(dgs_phase, f)"
   ]
  },
  {
   "cell_type": "code",
   "execution_count": 44,
   "metadata": {
    "scrolled": false
   },
   "outputs": [
    {
     "data": {
      "text/plain": [
       "<matplotlib.legend.Legend at 0x2b91d75367f0>"
      ]
     },
     "execution_count": 44,
     "metadata": {},
     "output_type": "execute_result"
    },
    {
     "data": {
      "image/png": "[encoded data removed]",
      "text/plain": [
       "<Figure size 432x288 with 1 Axes>"
      ]
     },
     "metadata": {
      "needs_background": "light"
     },
     "output_type": "display_data"
    }
   ],
   "source": [
    "# Plot ddgs\n",
    "sns.distplot(np.array(dgs)*KT_KCALMOL, rug=True, label=titles[0])\n",
    "# sns.distplot(np.array(ddgs[reverse])*-KT_KCALMOL, rug=True, label=f\"-({titles[1]})\")\n",
    "plt.xlabel(\"solvent dg (kcal/mol)\")\n",
    "plt.legend()"
   ]
  },
  {
   "cell_type": "markdown",
   "metadata": {},
   "source": [
    "## ALA->TYR"
   ]
  },
  {
   "cell_type": "code",
   "execution_count": 45,
   "metadata": {
    "scrolled": true
   },
   "outputs": [
    {
     "data": {
      "application/vnd.jupyter.widget-view+json": {
       "model_id": "ced59c6b410643d8b698193a9a0d54f7",
       "version_major": 2,
       "version_minor": 0
      },
      "text/plain": [
       "  0%|          | 0/1 [00:00<?, ?it/s]"
      ]
     },
     "metadata": {},
     "output_type": "display_data"
    },
    {
     "name": "stdout",
     "output_type": "stream",
     "text": [
      "dir: 7\n",
      "100\n",
      "100\n",
      "subtracting offset\n",
      "plotting work trajs\n",
      "saved to: /data/chodera/zhangi/perses_benchmark/neq/19/7/7_apo_work_traj.png\n",
      "plotting work distrib\n",
      "saved to: /data/chodera/zhangi/perses_benchmark/neq/19/7/7_apo_work_dist.png\n",
      "-15.215289038769136 0.13519850767183986\n"
     ]
    },
    {
     "data": {
      "text/plain": [
       "<Figure size 432x288 with 0 Axes>"
      ]
     },
     "metadata": {},
     "output_type": "display_data"
    }
   ],
   "source": [
    "# Load data into dicts and plot \n",
    "titles = [\"ALA->LYS\"]\n",
    "phases = ['solvent']\n",
    "directions = ['forward', 'reverse']\n",
    "d_input = {}\n",
    "dir_num = 19\n",
    "forward = 7\n",
    "for i in tqdm_notebook([forward]):\n",
    "    print(f\"dir: {i}\")\n",
    "    d_works = {\"solvent\":{}}\n",
    "    d_combined_works = {\"solvent\":{}}\n",
    "    for phase in phases:\n",
    "        for direction in directions:\n",
    "            all_arrays = []\n",
    "            for j in range(100):\n",
    "                path = f\"/data/chodera/zhangi/perses_benchmark/neq/{dir_num}/{i}/{i}_{phase}_{j}_{direction}.npy\"\n",
    "                try:\n",
    "                    if os.path.exists(path):\n",
    "                        with open(path, 'rb') as f:\n",
    "                            array = np.load(f)\n",
    "                            if not np.isnan(np.sum(array)):\n",
    "                                all_arrays.append(array)\n",
    "                except:\n",
    "                    continue\n",
    "            print(len(all_arrays))\n",
    "            if all_arrays:\n",
    "                combined = np.concatenate(all_arrays)\n",
    "                accumulated = np.array([cycle[-1] - cycle[0] for cycle in combined])\n",
    "#                 combined = np.array([cycle[0::100] for cycle in combined])\n",
    "                d_combined_works[phase][direction] = combined\n",
    "                d_works[phase][direction] = accumulated\n",
    "    \n",
    "    d_input[i] = d_works\n",
    "    \n",
    "    # Plot\n",
    "    solvent_dg, solvent_ddg = analyze(d_works['solvent']['forward'], d_works['solvent']['reverse'])\n",
    "    plot(d_combined_works['solvent']['forward'], d_combined_works['solvent']['reverse'], solvent_dg, solvent_ddg, i, 'apo', os.path.dirname(path), titles[i-forward])\n",
    "    print(solvent_dg, solvent_ddg)"
   ]
  },
  {
   "cell_type": "code",
   "execution_count": 46,
   "metadata": {},
   "outputs": [
    {
     "data": {
      "text/plain": [
       "(array([ 4., 10., 11., 15., 18., 24., 10.,  5.,  2.,  1.]),\n",
       " array([-152.35947771, -122.42963879,  -92.49979988,  -62.56996096,\n",
       "         -32.64012205,   -2.71028313,   27.21955579,   57.1493947 ,\n",
       "          87.07923362,  117.00907254,  146.93891145]),\n",
       " <BarContainer object of 10 artists>)"
      ]
     },
     "execution_count": 46,
     "metadata": {},
     "output_type": "execute_result"
    },
    {
     "data": {
      "image/png": "[encoded data removed]",
      "text/plain": [
       "<Figure size 432x288 with 1 Axes>"
      ]
     },
     "metadata": {
      "needs_background": "light"
     },
     "output_type": "display_data"
    }
   ],
   "source": [
    "plt.hist(d_works['solvent']['forward'])\n",
    "plt.hist(d_works['solvent']['reverse']*-1)"
   ]
  },
  {
   "cell_type": "code",
   "execution_count": 47,
   "metadata": {},
   "outputs": [
    {
     "data": {
      "application/vnd.jupyter.widget-view+json": {
       "model_id": "8da3ef904a3845688310f0d2d0c5a001",
       "version_major": 2,
       "version_minor": 0
      },
      "text/plain": [
       "  0%|          | 0/10000 [00:00<?, ?it/s]"
      ]
     },
     "metadata": {},
     "output_type": "display_data"
    }
   ],
   "source": [
    "# Bootstrap works\n",
    "N_bootstraps = 10000\n",
    "phases = ['solvent']\n",
    "directions = ['forward', 'reverse']\n",
    "dgs_phase = {}\n",
    "ddgs = {}\n",
    "for i in [forward]:\n",
    "    dgs_phase_all = []\n",
    "    for _ in tqdm_notebook(range(N_bootstraps)):\n",
    "        # Initialize data structure for works\n",
    "        d_works = {\"solvent\": {\"forward\":{}, \"reverse\":{}}}\n",
    "\n",
    "        # Save subsampled works\n",
    "        for phase in phases:\n",
    "            for direction in directions:\n",
    "                work_array = np.array(d_input[i][phase][direction])\n",
    "                num_samples = work_array.shape[0]\n",
    "                subsample_indices = np.random.choice(range(num_samples), num_samples)\n",
    "                d_works[phase][direction] = work_array[subsample_indices]\n",
    "        d_dgs_phase = analyze_bootstrap(d_works)\n",
    "        dgs_phase_all.append(d_dgs_phase)\n",
    "    dgs_phase[i] = dgs_phase_all\n",
    "    \n",
    "    \n"
   ]
  },
  {
   "cell_type": "code",
   "execution_count": 48,
   "metadata": {},
   "outputs": [],
   "source": [
    "dgs = [d['solvent'][0] for d in dgs_phase[forward]]\n",
    "solvent_dg = np.mean(dgs)\n",
    "forward_ci = np.percentile(dgs, 2.5), np.percentile(dgs, 97.5)\n",
    "\n",
    "output_kcalmol = [round(solvent_dg*KT_KCALMOL, 2), tuple([round(val, 2)for val in np.array(forward_ci)*KT_KCALMOL])]\n",
    "\n"
   ]
  },
  {
   "cell_type": "code",
   "execution_count": 49,
   "metadata": {},
   "outputs": [
    {
     "data": {
      "text/plain": [
       "[-9.18, (-14.24, -4.59)]"
      ]
     },
     "execution_count": 49,
     "metadata": {},
     "output_type": "execute_result"
    }
   ],
   "source": [
    "output_kcalmol"
   ]
  },
  {
   "cell_type": "code",
   "execution_count": 50,
   "metadata": {},
   "outputs": [],
   "source": [
    "# pd.DataFrame([output_kcalmol]).to_csv(f\"/data/chodera/zhangi/perses_benchmark/neq/{dir_num}/{forward}/analysis_{titles[0]}_{titles[1]}.csv\")"
   ]
  },
  {
   "cell_type": "code",
   "execution_count": 51,
   "metadata": {},
   "outputs": [],
   "source": [
    "with open(f\"/data/chodera/zhangi/perses_benchmark/neq/{dir_num}/{forward}/dgs_phase.pickle\", \"wb\") as f:\n",
    "    pickle.dump(dgs_phase, f)"
   ]
  },
  {
   "cell_type": "code",
   "execution_count": 52,
   "metadata": {
    "scrolled": false
   },
   "outputs": [
    {
     "data": {
      "text/plain": [
       "<matplotlib.legend.Legend at 0x2b91d6c831f0>"
      ]
     },
     "execution_count": 52,
     "metadata": {},
     "output_type": "execute_result"
    },
    {
     "data": {
      "image/png": "[encoded data removed]",
      "text/plain": [
       "<Figure size 432x288 with 1 Axes>"
      ]
     },
     "metadata": {
      "needs_background": "light"
     },
     "output_type": "display_data"
    }
   ],
   "source": [
    "# Plot ddgs\n",
    "sns.distplot(np.array(dgs)*KT_KCALMOL, rug=True, label=titles[0])\n",
    "# sns.distplot(np.array(ddgs[reverse])*-KT_KCALMOL, rug=True, label=f\"-({titles[1]})\")\n",
    "plt.xlabel(\"solvent dg (kcal/mol)\")\n",
    "plt.legend()"
   ]
  },
  {
   "cell_type": "markdown",
   "metadata": {},
   "source": [
    "## ALA->ASP"
   ]
  },
  {
   "cell_type": "code",
   "execution_count": 7,
   "metadata": {
    "scrolled": true
   },
   "outputs": [
    {
     "data": {
      "application/vnd.jupyter.widget-view+json": {
       "model_id": "",
       "version_major": 2,
       "version_minor": 0
      },
      "text/plain": [
       "  0%|          | 0/1 [00:00<?, ?it/s]"
      ]
     },
     "metadata": {},
     "output_type": "display_data"
    },
    {
     "name": "stdout",
     "output_type": "stream",
     "text": [
      "dir: 8\n",
      "100\n",
      "100\n",
      "subtracting offset\n",
      "plotting work trajs\n",
      "saved to: /data/chodera/zhangi/perses_benchmark/neq/19/8/8_apo_work_traj.png\n",
      "plotting work distrib\n",
      "saved to: /data/chodera/zhangi/perses_benchmark/neq/19/8/8_apo_work_dist.png\n",
      "-267.3005252441923 0.13717767299944003\n"
     ]
    },
    {
     "data": {
      "text/plain": [
       "<Figure size 432x288 with 0 Axes>"
      ]
     },
     "metadata": {},
     "output_type": "display_data"
    }
   ],
   "source": [
    "# Load data into dicts and plot \n",
    "titles = [\"ALA->ASP\"]\n",
    "phases = ['solvent']\n",
    "directions = ['forward', 'reverse']\n",
    "d_input = {}\n",
    "dir_num = 19\n",
    "forward = 8\n",
    "for i in tqdm_notebook([forward]):\n",
    "    print(f\"dir: {i}\")\n",
    "    d_works = {\"solvent\":{}}\n",
    "    d_combined_works = {\"solvent\":{}}\n",
    "    for phase in phases:\n",
    "        for direction in directions:\n",
    "            all_arrays = []\n",
    "            for j in range(100):\n",
    "                path = f\"/data/chodera/zhangi/perses_benchmark/neq/{dir_num}/{i}/{i}_{phase}_{j}_{direction}.npy\"\n",
    "                try:\n",
    "                    if os.path.exists(path):\n",
    "                        with open(path, 'rb') as f:\n",
    "                            array = np.load(f)\n",
    "                            if not np.isnan(np.sum(array)):\n",
    "                                all_arrays.append(array)\n",
    "                except:\n",
    "                    continue\n",
    "            print(len(all_arrays))\n",
    "            if all_arrays:\n",
    "                combined = np.concatenate(all_arrays)\n",
    "                accumulated = np.array([cycle[-1] - cycle[0] for cycle in combined])\n",
    "#                 combined = np.array([cycle[0::100] for cycle in combined])\n",
    "                d_combined_works[phase][direction] = combined\n",
    "                d_works[phase][direction] = accumulated\n",
    "    \n",
    "    d_input[i] = d_works\n",
    "    \n",
    "    # Plot\n",
    "    solvent_dg, solvent_ddg = analyze(d_works['solvent']['forward'], d_works['solvent']['reverse'])\n",
    "    plot(d_combined_works['solvent']['forward'], d_combined_works['solvent']['reverse'], solvent_dg, solvent_ddg, i, 'apo', os.path.dirname(path), titles[i-forward])\n",
    "    print(solvent_dg, solvent_ddg)"
   ]
  },
  {
   "cell_type": "code",
   "execution_count": 6,
   "metadata": {},
   "outputs": [
    {
     "data": {
      "text/plain": [
       "(array([ 3.,  2., 13., 17., 26., 21., 15.,  2.,  0.,  1.]),\n",
       " array([-535.4317901 , -477.23789346, -419.04399681, -360.85010016,\n",
       "        -302.65620351, -244.46230686, -186.26841021, -128.07451356,\n",
       "         -69.88061691,  -11.68672026,   46.50717639]),\n",
       " <BarContainer object of 10 artists>)"
      ]
     },
     "execution_count": 6,
     "metadata": {},
     "output_type": "execute_result"
    },
    {
     "data": {
      "image/png": "[encoded data removed]",
      "text/plain": [
       "<Figure size 432x288 with 1 Axes>"
      ]
     },
     "metadata": {
      "needs_background": "light"
     },
     "output_type": "display_data"
    }
   ],
   "source": [
    "plt.hist(d_works['solvent']['forward'])\n",
    "plt.hist(d_works['solvent']['reverse']*-1)"
   ]
  },
  {
   "cell_type": "code",
   "execution_count": 10,
   "metadata": {},
   "outputs": [
    {
     "data": {
      "application/vnd.jupyter.widget-view+json": {
       "model_id": "",
       "version_major": 2,
       "version_minor": 0
      },
      "text/plain": [
       "  0%|          | 0/10000 [00:00<?, ?it/s]"
      ]
     },
     "metadata": {},
     "output_type": "display_data"
    }
   ],
   "source": [
    "# Bootstrap works\n",
    "N_bootstraps = 10000\n",
    "phases = ['solvent']\n",
    "directions = ['forward', 'reverse']\n",
    "dgs_phase = {}\n",
    "ddgs = {}\n",
    "for i in [forward]:\n",
    "    dgs_phase_all = []\n",
    "    for _ in tqdm_notebook(range(N_bootstraps)):\n",
    "        # Initialize data structure for works\n",
    "        d_works = {\"solvent\": {\"forward\":{}, \"reverse\":{}}}\n",
    "\n",
    "        # Save subsampled works\n",
    "        for phase in phases:\n",
    "            for direction in directions:\n",
    "                work_array = np.array(d_input[i][phase][direction])\n",
    "                num_samples = work_array.shape[0]\n",
    "                subsample_indices = np.random.choice(range(num_samples), num_samples)\n",
    "                d_works[phase][direction] = work_array[subsample_indices]\n",
    "        d_dgs_phase = analyze_bootstrap(d_works)\n",
    "        dgs_phase_all.append(d_dgs_phase)\n",
    "    dgs_phase[i] = dgs_phase_all\n",
    "    \n",
    "    \n"
   ]
  },
  {
   "cell_type": "code",
   "execution_count": 17,
   "metadata": {},
   "outputs": [],
   "source": [
    "dgs = [d['solvent'][0] for d in dgs_phase[forward]]\n",
    "solvent_dg = np.mean(dgs)\n",
    "forward_ci = np.percentile(dgs, 2.5), np.percentile(dgs, 97.5)\n",
    "\n",
    "output_kcalmol = [round(solvent_dg*KT_KCALMOL, 2), tuple([round(val, 2)for val in np.array(forward_ci)*KT_KCALMOL])]\n",
    "\n"
   ]
  },
  {
   "cell_type": "code",
   "execution_count": 18,
   "metadata": {},
   "outputs": [
    {
     "data": {
      "text/plain": [
       "[-159.15, (-163.89, -151.08)]"
      ]
     },
     "execution_count": 18,
     "metadata": {},
     "output_type": "execute_result"
    }
   ],
   "source": [
    "output_kcalmol"
   ]
  },
  {
   "cell_type": "code",
   "execution_count": 88,
   "metadata": {},
   "outputs": [],
   "source": [
    "# pd.DataFrame([output_kcalmol]).to_csv(f\"/data/chodera/zhangi/perses_benchmark/neq/{dir_num}/{forward}/analysis_{titles[0]}_{titles[1]}.csv\")"
   ]
  },
  {
   "cell_type": "code",
   "execution_count": 19,
   "metadata": {},
   "outputs": [],
   "source": [
    "with open(f\"/data/chodera/zhangi/perses_benchmark/neq/{dir_num}/{forward}/dgs_phase.pickle\", \"wb\") as f:\n",
    "    pickle.dump(dgs_phase, f)"
   ]
  },
  {
   "cell_type": "code",
   "execution_count": 20,
   "metadata": {
    "scrolled": true
   },
   "outputs": [
    {
     "data": {
      "text/plain": [
       "<matplotlib.legend.Legend at 0x2b91d5907850>"
      ]
     },
     "execution_count": 20,
     "metadata": {},
     "output_type": "execute_result"
    },
    {
     "data": {
      "image/png": "[encoded data removed]",
      "text/plain": [
       "<Figure size 432x288 with 1 Axes>"
      ]
     },
     "metadata": {
      "needs_background": "light"
     },
     "output_type": "display_data"
    }
   ],
   "source": [
    "# Plot ddgs\n",
    "sns.distplot(np.array(dgs)*KT_KCALMOL, rug=True, label=titles[0])\n",
    "# sns.distplot(np.array(ddgs[reverse])*-KT_KCALMOL, rug=True, label=f\"-({titles[1]})\")\n",
    "plt.xlabel(\"solvent dg (kcal/mol)\")\n",
    "plt.legend()"
   ]
  },
  {
   "cell_type": "markdown",
   "metadata": {},
   "source": [
    "## ALA->LYS"
   ]
  },
  {
   "cell_type": "code",
   "execution_count": 21,
   "metadata": {
    "scrolled": true
   },
   "outputs": [
    {
     "data": {
      "application/vnd.jupyter.widget-view+json": {
       "model_id": "",
       "version_major": 2,
       "version_minor": 0
      },
      "text/plain": [
       "  0%|          | 0/1 [00:00<?, ?it/s]"
      ]
     },
     "metadata": {},
     "output_type": "display_data"
    },
    {
     "name": "stdout",
     "output_type": "stream",
     "text": [
      "dir: 9\n",
      "100\n",
      "100\n",
      "subtracting offset\n",
      "plotting work trajs\n",
      "saved to: /data/chodera/zhangi/perses_benchmark/neq/19/9/9_apo_work_traj.png\n",
      "plotting work distrib\n",
      "saved to: /data/chodera/zhangi/perses_benchmark/neq/19/9/9_apo_work_dist.png\n",
      "-148.1664285860835 0.15283621634220784\n"
     ]
    },
    {
     "data": {
      "text/plain": [
       "<Figure size 432x288 with 0 Axes>"
      ]
     },
     "metadata": {},
     "output_type": "display_data"
    }
   ],
   "source": [
    "# Load data into dicts and plot \n",
    "titles = [\"ALA->LYS\"]\n",
    "phases = ['solvent']\n",
    "directions = ['forward', 'reverse']\n",
    "d_input = {}\n",
    "dir_num = 19\n",
    "forward = 9\n",
    "for i in tqdm_notebook([forward]):\n",
    "    print(f\"dir: {i}\")\n",
    "    d_works = {\"solvent\":{}}\n",
    "    d_combined_works = {\"solvent\":{}}\n",
    "    for phase in phases:\n",
    "        for direction in directions:\n",
    "            all_arrays = []\n",
    "            for j in range(100):\n",
    "                path = f\"/data/chodera/zhangi/perses_benchmark/neq/{dir_num}/{i}/{i}_{phase}_{j}_{direction}.npy\"\n",
    "                try:\n",
    "                    if os.path.exists(path):\n",
    "                        with open(path, 'rb') as f:\n",
    "                            array = np.load(f)\n",
    "                            if not np.isnan(np.sum(array)):\n",
    "                                all_arrays.append(array)\n",
    "                except:\n",
    "                    continue\n",
    "            print(len(all_arrays))\n",
    "            if all_arrays:\n",
    "                combined = np.concatenate(all_arrays)\n",
    "                accumulated = np.array([cycle[-1] - cycle[0] for cycle in combined])\n",
    "#                 combined = np.array([cycle[0::100] for cycle in combined])\n",
    "                d_combined_works[phase][direction] = combined\n",
    "                d_works[phase][direction] = accumulated\n",
    "    \n",
    "    d_input[i] = d_works\n",
    "    \n",
    "    # Plot\n",
    "    solvent_dg, solvent_ddg = analyze(d_works['solvent']['forward'], d_works['solvent']['reverse'])\n",
    "    plot(d_combined_works['solvent']['forward'], d_combined_works['solvent']['reverse'], solvent_dg, solvent_ddg, i, 'apo', os.path.dirname(path), titles[i-forward])\n",
    "    print(solvent_dg, solvent_ddg)"
   ]
  },
  {
   "cell_type": "code",
   "execution_count": 22,
   "metadata": {},
   "outputs": [
    {
     "data": {
      "text/plain": [
       "(array([ 4.,  8., 10., 11., 22., 17., 17.,  5.,  3.,  3.]),\n",
       " array([-251.86838132, -231.05955746, -210.2507336 , -189.44190975,\n",
       "        -168.63308589, -147.82426203, -127.01543817, -106.20661432,\n",
       "         -85.39779046,  -64.5889666 ,  -43.78014275]),\n",
       " <BarContainer object of 10 artists>)"
      ]
     },
     "execution_count": 22,
     "metadata": {},
     "output_type": "execute_result"
    },
    {
     "data": {
      "image/png": "[encoded data removed]",
      "text/plain": [
       "<Figure size 432x288 with 1 Axes>"
      ]
     },
     "metadata": {
      "needs_background": "light"
     },
     "output_type": "display_data"
    }
   ],
   "source": [
    "plt.hist(d_works['solvent']['forward'])\n",
    "plt.hist(d_works['solvent']['reverse']*-1)"
   ]
  },
  {
   "cell_type": "code",
   "execution_count": 23,
   "metadata": {},
   "outputs": [
    {
     "data": {
      "application/vnd.jupyter.widget-view+json": {
       "model_id": "",
       "version_major": 2,
       "version_minor": 0
      },
      "text/plain": [
       "  0%|          | 0/10000 [00:00<?, ?it/s]"
      ]
     },
     "metadata": {},
     "output_type": "display_data"
    }
   ],
   "source": [
    "# Bootstrap works\n",
    "N_bootstraps = 10000\n",
    "phases = ['solvent']\n",
    "directions = ['forward', 'reverse']\n",
    "dgs_phase = {}\n",
    "ddgs = {}\n",
    "for i in [forward]:\n",
    "    dgs_phase_all = []\n",
    "    for _ in tqdm_notebook(range(N_bootstraps)):\n",
    "        # Initialize data structure for works\n",
    "        d_works = {\"solvent\": {\"forward\":{}, \"reverse\":{}}}\n",
    "\n",
    "        # Save subsampled works\n",
    "        for phase in phases:\n",
    "            for direction in directions:\n",
    "                work_array = np.array(d_input[i][phase][direction])\n",
    "                num_samples = work_array.shape[0]\n",
    "                subsample_indices = np.random.choice(range(num_samples), num_samples)\n",
    "                d_works[phase][direction] = work_array[subsample_indices]\n",
    "        d_dgs_phase = analyze_bootstrap(d_works)\n",
    "        dgs_phase_all.append(d_dgs_phase)\n",
    "    dgs_phase[i] = dgs_phase_all\n",
    "    \n",
    "    \n"
   ]
  },
  {
   "cell_type": "code",
   "execution_count": 24,
   "metadata": {},
   "outputs": [],
   "source": [
    "dgs = [d['solvent'][0] for d in dgs_phase[forward]]\n",
    "solvent_dg = np.mean(dgs)\n",
    "forward_ci = np.percentile(dgs, 2.5), np.percentile(dgs, 97.5)\n",
    "\n",
    "output_kcalmol = [round(solvent_dg*KT_KCALMOL, 2), tuple([round(val, 2)for val in np.array(forward_ci)*KT_KCALMOL])]\n",
    "\n"
   ]
  },
  {
   "cell_type": "code",
   "execution_count": 25,
   "metadata": {},
   "outputs": [
    {
     "data": {
      "text/plain": [
       "[-88.52, (-92.91, -85.01)]"
      ]
     },
     "execution_count": 25,
     "metadata": {},
     "output_type": "execute_result"
    }
   ],
   "source": [
    "output_kcalmol"
   ]
  },
  {
   "cell_type": "code",
   "execution_count": 26,
   "metadata": {},
   "outputs": [],
   "source": [
    "# pd.DataFrame([output_kcalmol]).to_csv(f\"/data/chodera/zhangi/perses_benchmark/neq/{dir_num}/{forward}/analysis_{titles[0]}_{titles[1]}.csv\")"
   ]
  },
  {
   "cell_type": "code",
   "execution_count": 27,
   "metadata": {},
   "outputs": [],
   "source": [
    "with open(f\"/data/chodera/zhangi/perses_benchmark/neq/{dir_num}/{forward}/dgs_phase.pickle\", \"wb\") as f:\n",
    "    pickle.dump(dgs_phase, f)"
   ]
  },
  {
   "cell_type": "code",
   "execution_count": 28,
   "metadata": {
    "scrolled": false
   },
   "outputs": [
    {
     "data": {
      "text/plain": [
       "<matplotlib.legend.Legend at 0x2b91d624bee0>"
      ]
     },
     "execution_count": 28,
     "metadata": {},
     "output_type": "execute_result"
    },
    {
     "data": {
      "image/png": "[encoded data removed]",
      "text/plain": [
       "<Figure size 432x288 with 1 Axes>"
      ]
     },
     "metadata": {
      "needs_background": "light"
     },
     "output_type": "display_data"
    }
   ],
   "source": [
    "# Plot ddgs\n",
    "sns.distplot(np.array(dgs)*KT_KCALMOL, rug=True, label=titles[0])\n",
    "# sns.distplot(np.array(ddgs[reverse])*-KT_KCALMOL, rug=True, label=f\"-({titles[1]})\")\n",
    "plt.xlabel(\"solvent dg (kcal/mol)\")\n",
    "plt.legend()"
   ]
  },
  {
   "cell_type": "code",
   "execution_count": null,
   "metadata": {},
   "outputs": [],
   "source": []
  },
  {
   "cell_type": "code",
   "execution_count": null,
   "metadata": {},
   "outputs": [],
   "source": []
  }
 ],
 "metadata": {
  "kernelspec": {
   "display_name": "Python 3",
   "language": "python",
   "name": "python3"
  },
  "language_info": {
   "codemirror_mode": {
    "name": "ipython",
    "version": 3
   },
   "file_extension": ".py",
   "mimetype": "text/x-python",
   "name": "python",
   "nbconvert_exporter": "python",
   "pygments_lexer": "ipython3",
   "version": "3.8.8"
  }
 },
 "nbformat": 4,
 "nbformat_minor": 4
}
