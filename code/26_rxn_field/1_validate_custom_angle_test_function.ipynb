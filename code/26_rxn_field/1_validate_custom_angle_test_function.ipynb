{
 "cells": [
  {
   "cell_type": "markdown",
   "id": "deeef215",
   "metadata": {},
   "source": [
    "Note: I left the code to generate the htfs for each test system in the notebook, but if you don't want to re-generate, you can use the pickled htf that I saved (I left the full path in for you). I generated these htfs based after you added support for `lambda_{i}_bonds_old/new` and `scale_lambda_0_bonds`"
   ]
  },
  {
   "cell_type": "code",
   "execution_count": 1,
   "id": "ac051fbf",
   "metadata": {},
   "outputs": [
    {
     "name": "stdout",
     "output_type": "stream",
     "text": [
      "conducting subsequent work with the following platform: CUDA\n"
     ]
    },
    {
     "name": "stderr",
     "output_type": "stream",
     "text": [
      "INFO:rdkit:Enabling RDKit 2021.03.1 jupyter extensions\n"
     ]
    }
   ],
   "source": [
    "from openmmtools.states import SamplerState, ThermodynamicState, CompoundThermodynamicState\n",
    "from simtk import unit, openmm\n",
    "from perses.tests.utils import compute_potential_components\n",
    "from openmmtools.constants import kB\n",
    "from perses.dispersed.utils import configure_platform\n",
    "from perses.annihilation.rest import RESTTopologyFactory\n",
    "from perses.annihilation.lambda_protocol import RESTState\n",
    "import numpy as np\n",
    "from perses.tests.test_topology_proposal import generate_atp, generate_dipeptide_top_pos_sys\n",
    "from openmmtools.testsystems import AlanineDipeptideVacuum, AlanineDipeptideExplicit\n",
    "import itertools\n",
    "from perses.tests.test_topology_proposal import generate_dipeptide_top_pos_sys, generate_atp\n",
    "import pickle\n",
    "import copy\n",
    "\n",
    "#############################################\n",
    "# CONSTANTS\n",
    "#############################################\n",
    "temperature = 298.0 * unit.kelvin\n",
    "kT = kB * temperature\n",
    "beta = 1.0/kT\n",
    "REFERENCE_PLATFORM = openmm.Platform.getPlatformByName(\"CUDA\")\n"
   ]
  },
  {
   "cell_type": "code",
   "execution_count": 2,
   "id": "69ee892f",
   "metadata": {},
   "outputs": [],
   "source": [
    "def test_angle_energies(htf, is_old=True, is_solvated=False, check_scale=False):\n",
    "    htf_copy = copy.deepcopy(htf)\n",
    "    \n",
    "    # Get harmonic angle force and old/new positions\n",
    "    system = htf._topology_proposal.old_system if is_old else htf._topology_proposal.new_system\n",
    "    harmonic_angle_force = system.getForce(1) \n",
    "    positions = htf.old_positions(htf.hybrid_positions) if is_old else htf.new_positions(htf.hybrid_positions)\n",
    "    \n",
    "    # Get custom angle force and hybrid positions\n",
    "    angle_force_index = 2 if is_solvated else 1\n",
    "    hybrid_system = htf.hybrid_system\n",
    "    custom_angle_force = hybrid_system.getForce(angle_force_index)\n",
    "    hybrid_positions = htf.hybrid_positions\n",
    "    \n",
    "    # Remove nonbonded/exception forces\n",
    "    for i in range(hybrid_system.getNumForces(), hybrid_system.getNumForces() - 4, -1):\n",
    "        hybrid_system.removeForce(i - 1)\n",
    "    \n",
    "    # Set global parameters\n",
    "    lambda_old = 1 if is_old else 0\n",
    "    lambda_new = 0 if is_old else 1\n",
    "    for i in range(custom_angle_force.getNumGlobalParameters()):\n",
    "        if custom_angle_force.getGlobalParameterName(i) == 'lambda_0_angles_old':\n",
    "            custom_angle_force.setGlobalParameterDefaultValue(i, lambda_old)\n",
    "        if custom_angle_force.getGlobalParameterName(i) == 'lambda_0_angles_new':\n",
    "            custom_angle_force.setGlobalParameterDefaultValue(i, lambda_new)\n",
    "\n",
    "    # Zero the unique old/new angles in the custom bond force\n",
    "    hybrid_to_angle_indices = htf._hybrid_to_new_angle_indices if is_old else htf._hybrid_to_old_angle_indices\n",
    "    for hybrid_idx, idx in hybrid_to_angle_indices.items():\n",
    "        p1, p2, p3, hybrid_params = custom_angle_force.getAngleParameters(hybrid_idx)\n",
    "        hybrid_params = list(hybrid_params)\n",
    "        index_to_zero = -3 if is_old else -1\n",
    "        hybrid_params[index_to_zero] *= 0\n",
    "        custom_angle_force.setAngleParameters(hybrid_idx, p1, p2, p3, hybrid_params)\n",
    "\n",
    "    ## Get energy components of standard bond force\n",
    "    platform = configure_platform(REFERENCE_PLATFORM)\n",
    "    thermostate_other = ThermodynamicState(system=system, temperature=temperature)\n",
    "    integrator_other = openmm.VerletIntegrator(1.0*unit.femtosecond)\n",
    "    context_other = thermostate_other.create_context(integrator_other)\n",
    "    context_other.setPositions(positions)\n",
    "    components_other = compute_potential_components(context_other, beta=beta)\n",
    "    print(components_other)\n",
    "    \n",
    "    ## Get energy components of custom bond force\n",
    "    if is_solvated:\n",
    "        custom_angle_force.setUsesPeriodicBoundaryConditions(True)\n",
    "    thermostate_hybrid = ThermodynamicState(system=hybrid_system, temperature=temperature)\n",
    "    integrator_hybrid = openmm.VerletIntegrator(1.0 * unit.femtosecond)\n",
    "    context_hybrid = thermostate_hybrid.create_context(integrator_hybrid)\n",
    "    context_hybrid.setPositions(hybrid_positions)\n",
    "    components_hybrid = compute_potential_components(context_hybrid, beta=beta)\n",
    "    print(components_hybrid)\n",
    "    \n",
    "    assert np.isclose([components_other[1][1]], [components_hybrid[1][1]])\n",
    "    \n",
    "    print(\"Success! Custom angle force and standard angle force energies are equal!\")\n",
    "    \n",
    "    if check_scale:\n",
    "        \n",
    "        # Get custom bond force and hybrid positions\n",
    "        angle_force_index = 2 if is_solvated else 1\n",
    "        hybrid_system = htf_copy.hybrid_system\n",
    "        custom_angle_force = hybrid_system.getForce(angle_force_index)\n",
    "        hybrid_positions = htf_copy.hybrid_positions\n",
    "        \n",
    "        if is_solvated:\n",
    "            custom_angle_force.setUsesPeriodicBoundaryConditions(True)\n",
    "        \n",
    "        # Remove nonbonded/exception forces\n",
    "        for i in range(hybrid_system.getNumForces(), hybrid_system.getNumForces() - 4, -1):\n",
    "            hybrid_system.removeForce(i - 1)\n",
    "        \n",
    "        ## Get energy components of custom bond force\n",
    "        thermostate_hybrid = ThermodynamicState(system=hybrid_system, temperature=temperature)\n",
    "        integrator_hybrid = openmm.VerletIntegrator(1.0 * unit.femtosecond)\n",
    "        context_hybrid = thermostate_hybrid.create_context(integrator_hybrid)\n",
    "        context_hybrid.setPositions(hybrid_positions)\n",
    "        components_hybrid = compute_potential_components(context_hybrid, beta=beta)\n",
    "        print(components_hybrid)\n",
    "        \n",
    "        # Set `scale_lambda_{i}` to 0.5\n",
    "        for i in range(custom_angle_force.getNumGlobalParameters()):\n",
    "            if custom_angle_force.getGlobalParameterName(i) == 'scale_lambda_0_angles':\n",
    "                custom_angle_force.setGlobalParameterDefaultValue(i, 0.5)\n",
    "            elif custom_angle_force.getGlobalParameterName(i) == 'interscale_lambda_0_angles':\n",
    "                custom_angle_force.setGlobalParameterDefaultValue(i, 0.5)\n",
    "        \n",
    "        ## Get energy components of custom bond force iwth scaling\n",
    "        thermostate_hybrid = ThermodynamicState(system=hybrid_system, temperature=temperature)\n",
    "        integrator_hybrid = openmm.VerletIntegrator(1.0 * unit.femtosecond)\n",
    "        context_hybrid = thermostate_hybrid.create_context(integrator_hybrid)\n",
    "        context_hybrid.setPositions(hybrid_positions)\n",
    "        components_hybrid_scaled = compute_potential_components(context_hybrid, beta=beta)\n",
    "        print(components_hybrid_scaled)\n",
    "        \n",
    "        assert not np.isclose([components_hybrid[1][1]], [components_hybrid_scaled[1][1]])\n",
    "        \n",
    "        print(\"Success! Scaling the angle force changes the energy\")"
   ]
  },
  {
   "cell_type": "markdown",
   "id": "434a0b31",
   "metadata": {},
   "source": [
    "# Alanine dipeptide in vacuum"
   ]
  },
  {
   "cell_type": "markdown",
   "id": "503b6f4b",
   "metadata": {},
   "source": [
    "### Test one alchemical region, no scale regions"
   ]
  },
  {
   "cell_type": "markdown",
   "id": "11e9c95a",
   "metadata": {},
   "source": [
    "#### Old system HarmonicBondForce vs hybrid system CustomBondForce"
   ]
  },
  {
   "cell_type": "code",
   "execution_count": 3,
   "id": "19b06c88",
   "metadata": {},
   "outputs": [],
   "source": [
    "# Load htf\n",
    "with open(\"/home/zhangi/choderalab/perses_benchmark/perses_protein_mutations/code/26_rxn_field/atp_vacuum.pickle\", \"rb\") as f:\n",
    "    htf = pickle.load(f)"
   ]
  },
  {
   "cell_type": "code",
   "execution_count": 5,
   "id": "18deeb39",
   "metadata": {
    "scrolled": true
   },
   "outputs": [
    {
     "name": "stdout",
     "output_type": "stream",
     "text": [
      "Warning: Returning CPU platform instead of requested platform <simtk.openmm.openmm.Platform; proxy of <Swig Object of type 'OpenMM::Platform *' at 0x2b398645ec30> >\n",
      "conducting subsequent work with the following platform: CPU\n",
      "conducting subsequent work with the following platform: CUDA\n",
      "[('HarmonicBondForce', 0.03478365356520876), ('HarmonicAngleForce', 0.6112775462128573), ('PeriodicTorsionForce', 16.285398289983085), ('NonbondedForce', -39.449927745600164), ('AndersenThermostat', 0.0)]\n",
      "conducting subsequent work with the following platform: CUDA\n",
      "[('CustomBondForce', 1.296256769802195), ('CustomAngleForce', 0.6112775462128995), ('CustomTorsionForce', 16.285403285921724), ('AndersenThermostat', 0.0)]\n",
      "Success! Custom angle force and standard angle force energies are equal!\n"
     ]
    }
   ],
   "source": [
    "test_angle_energies(htf)"
   ]
  },
  {
   "cell_type": "markdown",
   "id": "e336aed9",
   "metadata": {},
   "source": [
    "#### New system HarmonicBondForce vs hybrid system CustomBondForce"
   ]
  },
  {
   "cell_type": "code",
   "execution_count": 6,
   "id": "49875cd6",
   "metadata": {},
   "outputs": [],
   "source": [
    "# Load htf\n",
    "with open(\"/home/zhangi/choderalab/perses_benchmark/perses_protein_mutations/code/26_rxn_field/atp_vacuum.pickle\", \"rb\") as f:\n",
    "    htf = pickle.load(f)"
   ]
  },
  {
   "cell_type": "code",
   "execution_count": 7,
   "id": "039fb22d",
   "metadata": {},
   "outputs": [
    {
     "name": "stdout",
     "output_type": "stream",
     "text": [
      "Warning: Returning CPU platform instead of requested platform <simtk.openmm.openmm.Platform; proxy of <Swig Object of type 'OpenMM::Platform *' at 0x2b398645ec30> >\n",
      "conducting subsequent work with the following platform: CPU\n",
      "conducting subsequent work with the following platform: CUDA\n",
      "[('HarmonicBondForce', 1.2957330745733426), ('HarmonicAngleForce', 3.403930427792299), ('PeriodicTorsionForce', 30.268405909483896), ('NonbondedForce', 388.51299936325097), ('AndersenThermostat', 0.0)]\n",
      "conducting subsequent work with the following platform: CUDA\n",
      "[('CustomBondForce', 1.296256769802195), ('CustomAngleForce', 3.403930427792298), ('CustomTorsionForce', 16.285403285921724), ('AndersenThermostat', 0.0)]\n",
      "Success! Custom angle force and standard angle force energies are equal!\n"
     ]
    }
   ],
   "source": [
    "test_angle_energies(htf, is_old=False)"
   ]
  },
  {
   "cell_type": "markdown",
   "id": "16251d48",
   "metadata": {},
   "source": [
    "### Test one alchemical region, one scale region"
   ]
  },
  {
   "cell_type": "markdown",
   "id": "5e9bd435",
   "metadata": {},
   "source": [
    "#### Old system HarmonicBondForce vs hybrid system CustomBondForce"
   ]
  },
  {
   "cell_type": "code",
   "execution_count": 8,
   "id": "288c11e1",
   "metadata": {},
   "outputs": [],
   "source": [
    "# Load htf\n",
    "with open(\"/home/zhangi/choderalab/perses_benchmark/perses_protein_mutations/code/26_rxn_field/atp_vacuum_scale_region.pickle\", \"rb\") as f:\n",
    "    htf = pickle.load(f)"
   ]
  },
  {
   "cell_type": "code",
   "execution_count": 10,
   "id": "5c37ddb9",
   "metadata": {
    "scrolled": true
   },
   "outputs": [
    {
     "data": {
      "text/plain": [
       "[10, 11, 12, 13, 22, 23, 24, 25, 26, 27, 28, 29]"
      ]
     },
     "execution_count": 10,
     "metadata": {},
     "output_type": "execute_result"
    }
   ],
   "source": [
    "# This is the scale region\n",
    "list(htf._atom_classes['unique_old_atoms'][0]) + list(htf._atom_classes['unique_new_atoms'][0])"
   ]
  },
  {
   "cell_type": "code",
   "execution_count": 11,
   "id": "9c194d51",
   "metadata": {
    "scrolled": true
   },
   "outputs": [
    {
     "name": "stdout",
     "output_type": "stream",
     "text": [
      "Warning: Returning CPU platform instead of requested platform <simtk.openmm.openmm.Platform; proxy of <Swig Object of type 'OpenMM::Platform *' at 0x2b398645ec30> >\n",
      "conducting subsequent work with the following platform: CPU\n",
      "conducting subsequent work with the following platform: CUDA\n",
      "[('HarmonicBondForce', 0.03478365356521381), ('HarmonicAngleForce', 0.6112775462128995), ('PeriodicTorsionForce', 16.285398289983064), ('NonbondedForce', -39.4499277456003), ('AndersenThermostat', 0.0)]\n",
      "conducting subsequent work with the following platform: CUDA\n",
      "[('CustomBondForce', 3.0809325282327777), ('CustomAngleForce', 0.6112775462128995), ('CustomTorsionForce', 16.285403285921724), ('AndersenThermostat', 0.0)]\n",
      "Success! Custom angle force and standard angle force energies are equal!\n"
     ]
    }
   ],
   "source": [
    "test_angle_energies(htf)"
   ]
  },
  {
   "cell_type": "markdown",
   "id": "0057ce49",
   "metadata": {},
   "source": [
    "#### New system HarmonicBondForce vs hybrid system CustomBondForce"
   ]
  },
  {
   "cell_type": "code",
   "execution_count": 12,
   "id": "1e6a7202",
   "metadata": {},
   "outputs": [],
   "source": [
    "# Load htf\n",
    "with open(\"/home/zhangi/choderalab/perses_benchmark/perses_protein_mutations/code/26_rxn_field/atp_vacuum_scale_region.pickle\", \"rb\") as f:\n",
    "    htf = pickle.load(f)"
   ]
  },
  {
   "cell_type": "code",
   "execution_count": 13,
   "id": "8ccc8c53",
   "metadata": {},
   "outputs": [
    {
     "name": "stdout",
     "output_type": "stream",
     "text": [
      "Warning: Returning CPU platform instead of requested platform <simtk.openmm.openmm.Platform; proxy of <Swig Object of type 'OpenMM::Platform *' at 0x2b398645ec30> >\n",
      "conducting subsequent work with the following platform: CPU\n",
      "conducting subsequent work with the following platform: CUDA\n",
      "[('HarmonicBondForce', 3.0804088330039257), ('HarmonicAngleForce', 12.337771305429378), ('PeriodicTorsionForce', 28.091644511264406), ('NonbondedForce', 56.74765841438245), ('AndersenThermostat', 0.0)]\n",
      "conducting subsequent work with the following platform: CUDA\n",
      "[('CustomBondForce', 3.0809325282327777), ('CustomAngleForce', 12.337771305429378), ('CustomTorsionForce', 16.285403285921724), ('AndersenThermostat', 0.0)]\n",
      "Success! Custom angle force and standard angle force energies are equal!\n"
     ]
    }
   ],
   "source": [
    "test_angle_energies(htf, is_old=False)"
   ]
  },
  {
   "cell_type": "markdown",
   "id": "a30a9095",
   "metadata": {},
   "source": [
    "# Alanine dipeptide in solvent"
   ]
  },
  {
   "cell_type": "markdown",
   "id": "d6ef38ac",
   "metadata": {},
   "source": [
    "### Test one alchemical region, no scale regions"
   ]
  },
  {
   "cell_type": "markdown",
   "id": "5c908dfd",
   "metadata": {},
   "source": [
    "#### Old system HarmonicBondForce vs hybrid system CustomBondForce"
   ]
  },
  {
   "cell_type": "code",
   "execution_count": 14,
   "id": "0033103c",
   "metadata": {},
   "outputs": [],
   "source": [
    "# Load htf\n",
    "with open(\"/home/zhangi/choderalab/perses_benchmark/perses_protein_mutations/code/26_rxn_field/atp_solvent.pickle\", \"rb\") as f:\n",
    "    htf = pickle.load(f)"
   ]
  },
  {
   "cell_type": "code",
   "execution_count": 15,
   "id": "fea5843b",
   "metadata": {},
   "outputs": [
    {
     "name": "stdout",
     "output_type": "stream",
     "text": [
      "Warning: Returning CPU platform instead of requested platform <simtk.openmm.openmm.Platform; proxy of <Swig Object of type 'OpenMM::Platform *' at 0x2b398645ec30> >\n",
      "conducting subsequent work with the following platform: CPU\n",
      "conducting subsequent work with the following platform: CUDA\n",
      "[('HarmonicBondForce', 0.034783653565214685), ('HarmonicAngleForce', 0.6112775462129015), ('PeriodicTorsionForce', 16.285398289983082), ('NonbondedForce', -1017.9419702202149), ('AndersenThermostat', 0.0), ('MonteCarloBarostat', 0.0)]\n",
      "conducting subsequent work with the following platform: CUDA\n",
      "[('CustomBondForce', 2.108758935146324), ('CustomAngleForce', 0.6112775462128995), ('CustomTorsionForce', 16.285403285921724), ('AndersenThermostat', 0.0), ('MonteCarloBarostat', 0.0)]\n",
      "Success! Custom angle force and standard angle force energies are equal!\n"
     ]
    }
   ],
   "source": [
    "test_angle_energies(htf, is_solvated=True)"
   ]
  },
  {
   "cell_type": "markdown",
   "id": "dc4b7b1d",
   "metadata": {},
   "source": [
    "#### New system HarmonicBondForce vs hybrid system CustomBondForce"
   ]
  },
  {
   "cell_type": "code",
   "execution_count": 16,
   "id": "9f9cbe99",
   "metadata": {},
   "outputs": [],
   "source": [
    "# Load htf\n",
    "with open(\"/home/zhangi/choderalab/perses_benchmark/perses_protein_mutations/code/26_rxn_field/atp_solvent.pickle\", \"rb\") as f:\n",
    "    htf = pickle.load(f)"
   ]
  },
  {
   "cell_type": "code",
   "execution_count": 17,
   "id": "5c16c96c",
   "metadata": {},
   "outputs": [
    {
     "name": "stdout",
     "output_type": "stream",
     "text": [
      "Warning: Returning CPU platform instead of requested platform <simtk.openmm.openmm.Platform; proxy of <Swig Object of type 'OpenMM::Platform *' at 0x2b398645ec30> >\n",
      "conducting subsequent work with the following platform: CPU\n",
      "conducting subsequent work with the following platform: CUDA\n",
      "[('HarmonicBondForce', 2.108235239917542), ('HarmonicAngleForce', 8.824888133365281), ('PeriodicTorsionForce', 25.495955289982533), ('NonbondedForce', -1054.9212696042337), ('AndersenThermostat', 0.0), ('MonteCarloBarostat', 0.0)]\n",
      "conducting subsequent work with the following platform: CUDA\n",
      "[('CustomBondForce', 2.108758935146324), ('CustomAngleForce', 8.824888133365286), ('CustomTorsionForce', 16.285403285921724), ('AndersenThermostat', 0.0), ('MonteCarloBarostat', 0.0)]\n",
      "Success! Custom angle force and standard angle force energies are equal!\n"
     ]
    }
   ],
   "source": [
    "test_angle_energies(htf, is_old=False, is_solvated=True)"
   ]
  },
  {
   "cell_type": "markdown",
   "id": "d907a68d",
   "metadata": {},
   "source": [
    "### Test one alchemical region, one scale region"
   ]
  },
  {
   "cell_type": "markdown",
   "id": "3576b206",
   "metadata": {},
   "source": [
    "#### Old system HarmonicBondForce vs hybrid system CustomBondForce"
   ]
  },
  {
   "cell_type": "code",
   "execution_count": 18,
   "id": "f714b6e7",
   "metadata": {},
   "outputs": [],
   "source": [
    "# Load htf\n",
    "with open(\"/home/zhangi/choderalab/perses_benchmark/perses_protein_mutations/code/26_rxn_field/atp_solvent_scale_region.pickle\", \"rb\") as f:\n",
    "    htf = pickle.load(f)"
   ]
  },
  {
   "cell_type": "code",
   "execution_count": 19,
   "id": "fca19e10",
   "metadata": {},
   "outputs": [
    {
     "data": {
      "text/plain": [
       "[10, 11, 12, 13, 1557, 1558, 1559, 1560, 1561, 1562, 1563, 1564]"
      ]
     },
     "execution_count": 19,
     "metadata": {},
     "output_type": "execute_result"
    }
   ],
   "source": [
    "# This is the scale region\n",
    "list(htf._atom_classes['unique_old_atoms'][0]) + list(htf._atom_classes['unique_new_atoms'][0])"
   ]
  },
  {
   "cell_type": "code",
   "execution_count": 20,
   "id": "479adca5",
   "metadata": {},
   "outputs": [
    {
     "name": "stdout",
     "output_type": "stream",
     "text": [
      "Warning: Returning CPU platform instead of requested platform <simtk.openmm.openmm.Platform; proxy of <Swig Object of type 'OpenMM::Platform *' at 0x2b398645ec30> >\n",
      "conducting subsequent work with the following platform: CPU\n",
      "conducting subsequent work with the following platform: CUDA\n",
      "[('HarmonicBondForce', 0.034783653565214685), ('HarmonicAngleForce', 0.6112775462129015), ('PeriodicTorsionForce', 16.285398289983082), ('NonbondedForce', -995.1493033223735), ('AndersenThermostat', 0.0), ('MonteCarloBarostat', 0.0)]\n",
      "conducting subsequent work with the following platform: CUDA\n",
      "[('CustomBondForce', 0.915410547041641), ('CustomAngleForce', 0.6112775462128995), ('CustomTorsionForce', 16.285403285921724), ('AndersenThermostat', 0.0), ('MonteCarloBarostat', 0.0)]\n",
      "Success! Custom angle force and standard angle force energies are equal!\n"
     ]
    }
   ],
   "source": [
    "test_angle_energies(htf, is_solvated=True)"
   ]
  },
  {
   "cell_type": "markdown",
   "id": "2e0b009a",
   "metadata": {},
   "source": [
    "#### New system HarmonicBondForce vs hybrid system CustomBondForce"
   ]
  },
  {
   "cell_type": "code",
   "execution_count": 3,
   "id": "a1d202a2",
   "metadata": {},
   "outputs": [],
   "source": [
    "# Load htf\n",
    "with open(\"/home/zhangi/choderalab/perses_benchmark/perses_protein_mutations/code/26_rxn_field/atp_solvent_scale_region.pickle\", \"rb\") as f:\n",
    "    htf = pickle.load(f)"
   ]
  },
  {
   "cell_type": "code",
   "execution_count": 4,
   "id": "3d6aaf36",
   "metadata": {},
   "outputs": [
    {
     "name": "stdout",
     "output_type": "stream",
     "text": [
      "Warning: Returning CPU platform instead of requested platform <simtk.openmm.openmm.Platform; proxy of <Swig Object of type 'OpenMM::Platform *' at 0x2ab4acb9cb10> >\n",
      "conducting subsequent work with the following platform: CPU\n",
      "conducting subsequent work with the following platform: CUDA\n",
      "[('HarmonicBondForce', 0.9148885029095102), ('HarmonicAngleForce', 9.207577639387514), ('PeriodicTorsionForce', 27.87597844994209), ('NonbondedForce', -940.6739740442471), ('AndersenThermostat', 0.0), ('MonteCarloBarostat', 0.0)]\n",
      "conducting subsequent work with the following platform: CUDA\n",
      "[('CustomBondForce', 0.915410547041641), ('CustomAngleForce', 9.207653737542774), ('CustomTorsionForce', 16.285403285921724), ('AndersenThermostat', 0.0), ('MonteCarloBarostat', 0.0)]\n",
      "Success! Custom angle force and standard angle force energies are equal!\n",
      "conducting subsequent work with the following platform: CUDA\n",
      "[('CustomBondForce', 0.915410547041641), ('CustomAngleForce', 9.661801162668427), ('CustomTorsionForce', 16.285403285921724), ('AndersenThermostat', 0.0), ('MonteCarloBarostat', 0.0)]\n",
      "conducting subsequent work with the following platform: CUDA\n",
      "[('CustomBondForce', 0.915410547041641), ('CustomAngleForce', 4.909465641877837), ('CustomTorsionForce', 16.285403285921724), ('AndersenThermostat', 0.0), ('MonteCarloBarostat', 0.0)]\n",
      "Success! Scaling the angle force changes the energy\n"
     ]
    }
   ],
   "source": [
    "test_angle_energies(htf, is_old=False, is_solvated=True, check_scale=True)"
   ]
  },
  {
   "cell_type": "code",
   "execution_count": null,
   "id": "95bc995d",
   "metadata": {},
   "outputs": [],
   "source": []
  },
  {
   "cell_type": "markdown",
   "id": "dd3a6ebd",
   "metadata": {},
   "source": [
    "# CDK2 transformation in solvent"
   ]
  },
  {
   "cell_type": "markdown",
   "id": "115af5f8",
   "metadata": {},
   "source": [
    "### Test one alchemical region, no scale regions"
   ]
  },
  {
   "cell_type": "markdown",
   "id": "60604039",
   "metadata": {},
   "source": [
    "#### Old system HarmonicBondForce vs hybrid system CustomBondForce"
   ]
  },
  {
   "cell_type": "code",
   "execution_count": 5,
   "id": "c301b106",
   "metadata": {},
   "outputs": [],
   "source": [
    "# Load htf\n",
    "with open(\"/home/zhangi/choderalab/perses_benchmark/perses_protein_mutations/code/26_rxn_field/cdk2_solvent.pickle\", \"rb\") as f:\n",
    "    htf = pickle.load(f)"
   ]
  },
  {
   "cell_type": "code",
   "execution_count": 6,
   "id": "41891b46",
   "metadata": {},
   "outputs": [
    {
     "name": "stdout",
     "output_type": "stream",
     "text": [
      "Warning: Returning CPU platform instead of requested platform <simtk.openmm.openmm.Platform; proxy of <Swig Object of type 'OpenMM::Platform *' at 0x2ab4acb9cb10> >\n",
      "conducting subsequent work with the following platform: CPU\n",
      "conducting subsequent work with the following platform: CUDA\n",
      "[('HarmonicBondForce', 4.608082977954756), ('HarmonicAngleForce', 29.199523609209102), ('PeriodicTorsionForce', 15.076747992617829), ('NonbondedForce', 3350.162471334583), ('AndersenThermostat', 0.0), ('MonteCarloBarostat', 0.0)]\n",
      "conducting subsequent work with the following platform: CUDA\n",
      "[('CustomBondForce', 4.608082977954756), ('CustomAngleForce', 29.199523609209102), ('CustomTorsionForce', 15.076753795301011), ('AndersenThermostat', 0.0), ('MonteCarloBarostat', 0.0)]\n",
      "Success! Custom angle force and standard angle force energies are equal!\n"
     ]
    }
   ],
   "source": [
    "test_angle_energies(htf, is_solvated=True)"
   ]
  },
  {
   "cell_type": "markdown",
   "id": "1aa884bc",
   "metadata": {},
   "source": [
    "#### New system HarmonicBondForce vs hybrid system CustomBondForce"
   ]
  },
  {
   "cell_type": "code",
   "execution_count": 7,
   "id": "ea1e2d34",
   "metadata": {},
   "outputs": [],
   "source": [
    "# Load htf\n",
    "with open(\"/home/zhangi/choderalab/perses_benchmark/perses_protein_mutations/code/26_rxn_field/cdk2_solvent.pickle\", \"rb\") as f:\n",
    "    htf = pickle.load(f)"
   ]
  },
  {
   "cell_type": "code",
   "execution_count": 8,
   "id": "efc8566f",
   "metadata": {},
   "outputs": [
    {
     "name": "stdout",
     "output_type": "stream",
     "text": [
      "Warning: Returning CPU platform instead of requested platform <simtk.openmm.openmm.Platform; proxy of <Swig Object of type 'OpenMM::Platform *' at 0x2ab4acb9cb10> >\n",
      "conducting subsequent work with the following platform: CPU\n",
      "conducting subsequent work with the following platform: CUDA\n",
      "[('HarmonicBondForce', 4.519508183899664), ('HarmonicAngleForce', 31.40442991986144), ('PeriodicTorsionForce', 15.078153431480851), ('NonbondedForce', 3363.615071727043), ('AndersenThermostat', 0.0), ('MonteCarloBarostat', 0.0)]\n",
      "conducting subsequent work with the following platform: CUDA\n",
      "[('CustomBondForce', 4.608082977954756), ('CustomAngleForce', 31.404429919861446), ('CustomTorsionForce', 15.076753795301011), ('AndersenThermostat', 0.0), ('MonteCarloBarostat', 0.0)]\n",
      "Success! Custom angle force and standard angle force energies are equal!\n"
     ]
    }
   ],
   "source": [
    "test_angle_energies(htf, is_old=False, is_solvated=True)"
   ]
  },
  {
   "cell_type": "markdown",
   "id": "b390ade2",
   "metadata": {},
   "source": [
    "### Test one alchemical region, one scale region"
   ]
  },
  {
   "cell_type": "code",
   "execution_count": 3,
   "id": "3959a106",
   "metadata": {},
   "outputs": [],
   "source": [
    "from openeye import oechem"
   ]
  },
  {
   "cell_type": "markdown",
   "id": "dc742379",
   "metadata": {},
   "source": [
    "#### Old system HarmonicBondForce vs hybrid system CustomBondForce"
   ]
  },
  {
   "cell_type": "code",
   "execution_count": 4,
   "id": "0858c0e0",
   "metadata": {},
   "outputs": [
    {
     "ename": "ModuleNotFoundError",
     "evalue": "No module named 'oechem'",
     "output_type": "error",
     "traceback": [
      "\u001b[0;31m---------------------------------------------------------------------------\u001b[0m",
      "\u001b[0;31mModuleNotFoundError\u001b[0m                       Traceback (most recent call last)",
      "\u001b[0;32m<ipython-input-4-5026435dd33f>\u001b[0m in \u001b[0;36m<module>\u001b[0;34m\u001b[0m\n\u001b[1;32m      1\u001b[0m \u001b[0;31m# Load htf\u001b[0m\u001b[0;34m\u001b[0m\u001b[0;34m\u001b[0m\u001b[0;34m\u001b[0m\u001b[0m\n\u001b[1;32m      2\u001b[0m \u001b[0;32mwith\u001b[0m \u001b[0mopen\u001b[0m\u001b[0;34m(\u001b[0m\u001b[0;34m\"/home/zhangi/choderalab/perses_benchmark/perses_protein_mutations/code/26_rxn_field/cdk2_solvent_scale_regions.pickle\"\u001b[0m\u001b[0;34m,\u001b[0m \u001b[0;34m\"rb\"\u001b[0m\u001b[0;34m)\u001b[0m \u001b[0;32mas\u001b[0m \u001b[0mf\u001b[0m\u001b[0;34m:\u001b[0m\u001b[0;34m\u001b[0m\u001b[0;34m\u001b[0m\u001b[0m\n\u001b[0;32m----> 3\u001b[0;31m     \u001b[0mhtf\u001b[0m \u001b[0;34m=\u001b[0m \u001b[0mpickle\u001b[0m\u001b[0;34m.\u001b[0m\u001b[0mload\u001b[0m\u001b[0;34m(\u001b[0m\u001b[0mf\u001b[0m\u001b[0;34m)\u001b[0m\u001b[0;34m\u001b[0m\u001b[0;34m\u001b[0m\u001b[0m\n\u001b[0m",
      "\u001b[0;31mModuleNotFoundError\u001b[0m: No module named 'oechem'"
     ]
    }
   ],
   "source": [
    "# Load htf\n",
    "with open(\"/home/zhangi/choderalab/perses_benchmark/perses_protein_mutations/code/26_rxn_field/cdk2_solvent_scale_regions.pickle\", \"rb\") as f:\n",
    "    htf = pickle.load(f)"
   ]
  },
  {
   "cell_type": "code",
   "execution_count": null,
   "id": "9860b232",
   "metadata": {},
   "outputs": [],
   "source": [
    "# This is the scale region\n",
    "list(htf._atom_classes['unique_old_atoms'][0]) + list(htf._atom_classes['unique_new_atoms'][0])"
   ]
  },
  {
   "cell_type": "code",
   "execution_count": null,
   "id": "2661b103",
   "metadata": {},
   "outputs": [],
   "source": [
    "test_angle_energies(htf, is_solvated=True)"
   ]
  },
  {
   "cell_type": "markdown",
   "id": "9d93a3cd",
   "metadata": {},
   "source": [
    "#### New system HarmonicBondForce vs hybrid system CustomBondForce"
   ]
  },
  {
   "cell_type": "code",
   "execution_count": null,
   "id": "c2ab9959",
   "metadata": {},
   "outputs": [],
   "source": [
    "# Load htf\n",
    "with open(\"/home/zhangi/choderalab/perses_benchmark/perses_protein_mutations/code/26_rxn_field/cdk2_solvent_scale_regions.pickle\", \"rb\") as f:\n",
    "    htf = pickle.load(f)"
   ]
  },
  {
   "cell_type": "code",
   "execution_count": null,
   "id": "dacdf51f",
   "metadata": {
    "scrolled": true
   },
   "outputs": [],
   "source": [
    "test_angle_energies(htf, is_old=False, is_solvated=True, check_scale=True)"
   ]
  },
  {
   "cell_type": "markdown",
   "id": "moderate-christopher",
   "metadata": {},
   "source": [
    "# 8mer in solvent"
   ]
  },
  {
   "cell_type": "markdown",
   "id": "spiritual-pension",
   "metadata": {},
   "source": [
    "### Test one alchemical region, no scale regions"
   ]
  },
  {
   "cell_type": "markdown",
   "id": "established-handy",
   "metadata": {},
   "source": [
    "#### Old system HarmonicBondForce vs hybrid system CustomBondForce"
   ]
  },
  {
   "cell_type": "code",
   "execution_count": 5,
   "id": "accessory-spectrum",
   "metadata": {},
   "outputs": [],
   "source": [
    "# Load htf\n",
    "with open(\"/home/zhangi/choderalab/perses_benchmark/perses_protein_mutations/code/26_rxn_field/8mer_solvent.pickle\", \"rb\") as f:\n",
    "    htf = pickle.load(f)"
   ]
  },
  {
   "cell_type": "code",
   "execution_count": 6,
   "id": "difficult-cream",
   "metadata": {
    "scrolled": true
   },
   "outputs": [
    {
     "name": "stdout",
     "output_type": "stream",
     "text": [
      "Warning: Returning CPU platform instead of requested platform <simtk.openmm.openmm.Platform; proxy of <Swig Object of type 'OpenMM::Platform *' at 0x2b378bb0f450> >\n",
      "conducting subsequent work with the following platform: CPU\n",
      "conducting subsequent work with the following platform: CUDA\n",
      "[('HarmonicBondForce', 7.349099420286866), ('HarmonicAngleForce', 12.529213143558692), ('PeriodicTorsionForce', 157.29212321868366), ('NonbondedForce', -10413.634803293226), ('AndersenThermostat', 0.0), ('MonteCarloBarostat', 0.0)]\n",
      "conducting subsequent work with the following platform: CUDA\n",
      "[('CustomBondForce', 8.88521073611831), ('CustomAngleForce', 12.529213143555554), ('CustomTorsionForce', 157.2921325778617), ('AndersenThermostat', 0.0), ('MonteCarloBarostat', 0.0)]\n",
      "Success! Custom angle force and standard angle force energies are equal!\n"
     ]
    }
   ],
   "source": [
    "test_angle_energies(htf, is_solvated=True)"
   ]
  },
  {
   "cell_type": "markdown",
   "id": "southeast-norwegian",
   "metadata": {},
   "source": [
    "#### New system HarmonicBondForce vs hybrid system CustomBondForce"
   ]
  },
  {
   "cell_type": "code",
   "execution_count": 7,
   "id": "after-medicaid",
   "metadata": {},
   "outputs": [],
   "source": [
    "# Load htf\n",
    "with open(\"/home/zhangi/choderalab/perses_benchmark/perses_protein_mutations/code/26_rxn_field/8mer_solvent.pickle\", \"rb\") as f:\n",
    "    htf = pickle.load(f)\n"
   ]
  },
  {
   "cell_type": "code",
   "execution_count": 8,
   "id": "protected-playing",
   "metadata": {},
   "outputs": [
    {
     "name": "stdout",
     "output_type": "stream",
     "text": [
      "Warning: Returning CPU platform instead of requested platform <simtk.openmm.openmm.Platform; proxy of <Swig Object of type 'OpenMM::Platform *' at 0x2b378bb0f450> >\n",
      "conducting subsequent work with the following platform: CPU\n",
      "conducting subsequent work with the following platform: CUDA\n",
      "[('HarmonicBondForce', 8.839279898124524), ('HarmonicAngleForce', 382.3538632504383), ('PeriodicTorsionForce', 168.47244240570083), ('NonbondedForce', -6861.17431642076), ('AndersenThermostat', 0.0), ('MonteCarloBarostat', 0.0)]\n",
      "conducting subsequent work with the following platform: CUDA\n",
      "[('CustomBondForce', 8.88521073611831), ('CustomAngleForce', 382.3538632504382), ('CustomTorsionForce', 157.2921325778617), ('AndersenThermostat', 0.0), ('MonteCarloBarostat', 0.0)]\n",
      "Success! Custom angle force and standard angle force energies are equal!\n"
     ]
    }
   ],
   "source": [
    "test_angle_energies(htf, is_old=False, is_solvated=True)"
   ]
  },
  {
   "cell_type": "markdown",
   "id": "intellectual-pennsylvania",
   "metadata": {},
   "source": [
    "### Test one alchemical region, one scale region"
   ]
  },
  {
   "cell_type": "markdown",
   "id": "romantic-florist",
   "metadata": {},
   "source": [
    "#### Old system HarmonicBondForce vs hybrid system CustomBondForce"
   ]
  },
  {
   "cell_type": "code",
   "execution_count": 9,
   "id": "needed-classroom",
   "metadata": {},
   "outputs": [],
   "source": [
    "# Load htf\n",
    "with open(\"/home/zhangi/choderalab/perses_benchmark/perses_protein_mutations/code/26_rxn_field/8mer_solvent_scale_region.pickle\", \"rb\") as f:\n",
    "    htf = pickle.load(f)"
   ]
  },
  {
   "cell_type": "code",
   "execution_count": 10,
   "id": "minimal-purchase",
   "metadata": {},
   "outputs": [
    {
     "data": {
      "text/plain": [
       "[24, 25, 26, 21, 5575, 5576, 5577, 5578, 5579]"
      ]
     },
     "execution_count": 10,
     "metadata": {},
     "output_type": "execute_result"
    }
   ],
   "source": [
    "# This is the scale region\n",
    "list(htf._atom_classes['unique_old_atoms'][0]) + list(htf._atom_classes['unique_new_atoms'][0])"
   ]
  },
  {
   "cell_type": "code",
   "execution_count": 11,
   "id": "continuing-award",
   "metadata": {},
   "outputs": [
    {
     "name": "stdout",
     "output_type": "stream",
     "text": [
      "Warning: Returning CPU platform instead of requested platform <simtk.openmm.openmm.Platform; proxy of <Swig Object of type 'OpenMM::Platform *' at 0x2b378bb0f450> >\n",
      "conducting subsequent work with the following platform: CPU\n",
      "conducting subsequent work with the following platform: CUDA\n",
      "[('HarmonicBondForce', 7.349099420288431), ('HarmonicAngleForce', 12.529213143555554), ('PeriodicTorsionForce', 157.292123218685), ('NonbondedForce', -10511.125832891092), ('AndersenThermostat', 0.0), ('MonteCarloBarostat', 0.0)]\n",
      "conducting subsequent work with the following platform: CUDA\n",
      "[('CustomBondForce', 12.665182674760329), ('CustomAngleForce', 12.529213143555554), ('CustomTorsionForce', 157.2921325778617), ('AndersenThermostat', 0.0), ('MonteCarloBarostat', 0.0)]\n",
      "Success! Custom angle force and standard angle force energies are equal!\n",
      "conducting subsequent work with the following platform: CUDA\n",
      "[('CustomBondForce', 12.665182674760329), ('CustomAngleForce', 222.15532081099008), ('CustomTorsionForce', 157.2921325778617), ('AndersenThermostat', 0.0), ('MonteCarloBarostat', 0.0)]\n",
      "conducting subsequent work with the following platform: CUDA\n",
      "[('CustomBondForce', 12.665182674760329), ('CustomAngleForce', 117.28204920255152), ('CustomTorsionForce', 157.2921325778617), ('AndersenThermostat', 0.0), ('MonteCarloBarostat', 0.0)]\n",
      "Success! Scaling the angle force changes the energy\n"
     ]
    }
   ],
   "source": [
    "test_angle_energies(htf, is_solvated=True, check_scale=True)"
   ]
  },
  {
   "cell_type": "markdown",
   "id": "relevant-insured",
   "metadata": {},
   "source": [
    "#### New system HarmonicBondForce vs hybrid system CustomBondForce"
   ]
  },
  {
   "cell_type": "code",
   "execution_count": 12,
   "id": "mediterranean-assist",
   "metadata": {},
   "outputs": [],
   "source": [
    "# Load htf\n",
    "with open(\"/home/zhangi/choderalab/perses_benchmark/perses_protein_mutations/code/26_rxn_field/8mer_solvent_scale_region.pickle\", \"rb\") as f:\n",
    "    htf = pickle.load(f)"
   ]
  },
  {
   "cell_type": "code",
   "execution_count": 13,
   "id": "angry-perception",
   "metadata": {
    "scrolled": true
   },
   "outputs": [
    {
     "name": "stdout",
     "output_type": "stream",
     "text": [
      "Warning: Returning CPU platform instead of requested platform <simtk.openmm.openmm.Platform; proxy of <Swig Object of type 'OpenMM::Platform *' at 0x2b378bb0f450> >\n",
      "conducting subsequent work with the following platform: CPU\n",
      "conducting subsequent work with the following platform: CUDA\n",
      "[('HarmonicBondForce', 12.619251836766544), ('HarmonicAngleForce', 222.03488526154752), ('PeriodicTorsionForce', 165.54093146134787), ('NonbondedForce', 80580.58719803792), ('AndersenThermostat', 0.0), ('MonteCarloBarostat', 0.0)]\n",
      "conducting subsequent work with the following platform: CUDA\n",
      "[('CustomBondForce', 12.665182674760329), ('CustomAngleForce', 222.03488526154752), ('CustomTorsionForce', 157.2921325778617), ('AndersenThermostat', 0.0), ('MonteCarloBarostat', 0.0)]\n",
      "Success! Custom angle force and standard angle force energies are equal!\n",
      "conducting subsequent work with the following platform: CUDA\n",
      "[('CustomBondForce', 12.665182674760329), ('CustomAngleForce', 222.15532081099008), ('CustomTorsionForce', 157.2921325778617), ('AndersenThermostat', 0.0), ('MonteCarloBarostat', 0.0)]\n",
      "conducting subsequent work with the following platform: CUDA\n",
      "[('CustomBondForce', 12.665182674760329), ('CustomAngleForce', 117.28204920255152), ('CustomTorsionForce', 157.2921325778617), ('AndersenThermostat', 0.0), ('MonteCarloBarostat', 0.0)]\n",
      "Success! Scaling the angle force changes the energy\n"
     ]
    }
   ],
   "source": [
    "test_angle_energies(htf, is_old=False, is_solvated=True, check_scale=True)"
   ]
  },
  {
   "cell_type": "markdown",
   "id": "corrected-meeting",
   "metadata": {},
   "source": [
    "## Barnase:barstar (old htf, no naked charge fix or counterion fix)"
   ]
  },
  {
   "cell_type": "markdown",
   "id": "japanese-persian",
   "metadata": {},
   "source": [
    "### Test one alchemical region, no scale regions"
   ]
  },
  {
   "cell_type": "markdown",
   "id": "dated-desire",
   "metadata": {},
   "source": [
    "#### Old system HarmonicAngleForce vs hybrid system CustomAngleForce"
   ]
  },
  {
   "cell_type": "code",
   "execution_count": 14,
   "id": "excellent-cosmetic",
   "metadata": {},
   "outputs": [],
   "source": [
    "# Load htf\n",
    "with open(\"T42A_complex.pickle\", \"rb\") as f:\n",
    "    htf = pickle.load(f)"
   ]
  },
  {
   "cell_type": "code",
   "execution_count": 15,
   "id": "bigger-meeting",
   "metadata": {},
   "outputs": [
    {
     "name": "stdout",
     "output_type": "stream",
     "text": [
      "Warning: Returning CPU platform instead of requested platform <simtk.openmm.openmm.Platform; proxy of <Swig Object of type 'OpenMM::Platform *' at 0x2b378bb0f450> >\n",
      "conducting subsequent work with the following platform: CPU\n",
      "conducting subsequent work with the following platform: CUDA\n",
      "[('HarmonicBondForce', 190.96991399580065), ('HarmonicAngleForce', 797.0922707362635), ('PeriodicTorsionForce', 3856.2346108037004), ('NonbondedForce', -23496.968598492353), ('AndersenThermostat', 0.0), ('MonteCarloBarostat', 0.0)]\n",
      "conducting subsequent work with the following platform: CUDA\n",
      "[('CustomBondForce', 191.92874049962995), ('CustomAngleForce', 797.0922707362635), ('CustomTorsionForce', 3856.2347805821146), ('AndersenThermostat', 0.0), ('MonteCarloBarostat', 0.0)]\n",
      "Success! Custom angle force and standard angle force energies are equal!\n"
     ]
    }
   ],
   "source": [
    "test_angle_energies(htf, is_solvated=True)"
   ]
  },
  {
   "cell_type": "markdown",
   "id": "satisfactory-taxation",
   "metadata": {},
   "source": [
    "#### New system HarmonicAngleForce vs hybrid system CustomAngleForce"
   ]
  },
  {
   "cell_type": "code",
   "execution_count": 16,
   "id": "turkish-exclusive",
   "metadata": {},
   "outputs": [],
   "source": [
    "# Load htf\n",
    "with open(\"T42A_complex.pickle\", \"rb\") as f:\n",
    "    htf = pickle.load(f)"
   ]
  },
  {
   "cell_type": "code",
   "execution_count": 17,
   "id": "cordless-kitty",
   "metadata": {},
   "outputs": [
    {
     "name": "stdout",
     "output_type": "stream",
     "text": [
      "Warning: Returning CPU platform instead of requested platform <simtk.openmm.openmm.Platform; proxy of <Swig Object of type 'OpenMM::Platform *' at 0x2b378bb0f450> >\n",
      "conducting subsequent work with the following platform: CPU\n",
      "conducting subsequent work with the following platform: CUDA\n",
      "[('HarmonicBondForce', 191.51760393383896), ('HarmonicAngleForce', 1010.4766887798822), ('PeriodicTorsionForce', 3849.6843670339917), ('NonbondedForce', -22772.6842316537), ('AndersenThermostat', 0.0), ('MonteCarloBarostat', 0.0)]\n",
      "conducting subsequent work with the following platform: CUDA\n",
      "[('CustomBondForce', 191.92874049962995), ('CustomAngleForce', 1010.4766887798822), ('CustomTorsionForce', 3856.2347805821146), ('AndersenThermostat', 0.0), ('MonteCarloBarostat', 0.0)]\n",
      "Success! Custom angle force and standard angle force energies are equal!\n"
     ]
    }
   ],
   "source": [
    "test_angle_energies(htf, is_old=False, is_solvated=True)"
   ]
  },
  {
   "cell_type": "markdown",
   "id": "1800db1b",
   "metadata": {},
   "source": [
    "### Test one alchemical region, no scale regions"
   ]
  },
  {
   "cell_type": "markdown",
   "id": "6ea739cb",
   "metadata": {},
   "source": [
    "#### Old system HarmonicAngleForce vs hybrid system CustomAngleForce"
   ]
  },
  {
   "cell_type": "code",
   "execution_count": 18,
   "id": "db8a7aa2",
   "metadata": {},
   "outputs": [
    {
     "ename": "ModuleNotFoundError",
     "evalue": "No module named 'oechem'",
     "output_type": "error",
     "traceback": [
      "\u001b[0;31m---------------------------------------------------------------------------\u001b[0m",
      "\u001b[0;31mModuleNotFoundError\u001b[0m                       Traceback (most recent call last)",
      "\u001b[0;32m<ipython-input-18-bb042997913a>\u001b[0m in \u001b[0;36m<module>\u001b[0;34m\u001b[0m\n\u001b[1;32m      1\u001b[0m \u001b[0;31m# Load htf\u001b[0m\u001b[0;34m\u001b[0m\u001b[0;34m\u001b[0m\u001b[0;34m\u001b[0m\u001b[0m\n\u001b[1;32m      2\u001b[0m \u001b[0;32mwith\u001b[0m \u001b[0mopen\u001b[0m\u001b[0;34m(\u001b[0m\u001b[0;34m\"T42A_complex_scale_region.pickle\"\u001b[0m\u001b[0;34m,\u001b[0m \u001b[0;34m\"rb\"\u001b[0m\u001b[0;34m)\u001b[0m \u001b[0;32mas\u001b[0m \u001b[0mf\u001b[0m\u001b[0;34m:\u001b[0m\u001b[0;34m\u001b[0m\u001b[0;34m\u001b[0m\u001b[0m\n\u001b[0;32m----> 3\u001b[0;31m     \u001b[0mhtf\u001b[0m \u001b[0;34m=\u001b[0m \u001b[0mpickle\u001b[0m\u001b[0;34m.\u001b[0m\u001b[0mload\u001b[0m\u001b[0;34m(\u001b[0m\u001b[0mf\u001b[0m\u001b[0;34m)\u001b[0m\u001b[0;34m\u001b[0m\u001b[0;34m\u001b[0m\u001b[0m\n\u001b[0m",
      "\u001b[0;31mModuleNotFoundError\u001b[0m: No module named 'oechem'"
     ]
    }
   ],
   "source": [
    "# Load htf\n",
    "with open(\"T42A_complex_scale_region.pickle\", \"rb\") as f:\n",
    "    htf = pickle.load(f)"
   ]
  },
  {
   "cell_type": "code",
   "execution_count": null,
   "id": "19f0008d",
   "metadata": {},
   "outputs": [],
   "source": [
    "test_angle_energies(htf, is_solvated=True, check_scale=True)"
   ]
  },
  {
   "cell_type": "markdown",
   "id": "2e61550e",
   "metadata": {},
   "source": [
    "#### New system HarmonicAngleForce vs hybrid system CustomAngleForce"
   ]
  },
  {
   "cell_type": "code",
   "execution_count": null,
   "id": "a43d176d",
   "metadata": {},
   "outputs": [],
   "source": [
    "# Load htf\n",
    "with open(\"T42A_complex_scale_region.pickle\", \"rb\") as f:\n",
    "    htf = pickle.load(f)"
   ]
  },
  {
   "cell_type": "code",
   "execution_count": null,
   "id": "55a684d3",
   "metadata": {
    "scrolled": true
   },
   "outputs": [],
   "source": [
    "test_angle_energies(htf, is_old=False, is_solvated=True, check_scale=True)"
   ]
  },
  {
   "cell_type": "code",
   "execution_count": null,
   "id": "38179913",
   "metadata": {},
   "outputs": [],
   "source": []
  },
  {
   "cell_type": "code",
   "execution_count": null,
   "id": "7ba99c4b",
   "metadata": {},
   "outputs": [],
   "source": [
    "# TO DO: actually test the scaling of the energies matches"
   ]
  }
 ],
 "metadata": {
  "kernelspec": {
   "display_name": "Python 3",
   "language": "python",
   "name": "python3"
  },
  "language_info": {
   "codemirror_mode": {
    "name": "ipython",
    "version": 3
   },
   "file_extension": ".py",
   "mimetype": "text/x-python",
   "name": "python",
   "nbconvert_exporter": "python",
   "pygments_lexer": "ipython3",
   "version": "3.8.8"
  }
 },
 "nbformat": 4,
 "nbformat_minor": 5
}
