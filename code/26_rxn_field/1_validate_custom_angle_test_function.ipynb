{
 "cells": [
  {
   "cell_type": "markdown",
   "id": "deeef215",
   "metadata": {},
   "source": [
    "Note: I left the code to generate the htfs for each test system in the notebook, but if you don't want to re-generate, you can use the pickled htf that I saved (I left the full path in for you). I generated these htfs based after you added support for `lambda_{i}_bonds_old/new` and `scale_lambda_0_bonds`"
   ]
  },
  {
   "cell_type": "code",
   "execution_count": 1,
   "id": "ac051fbf",
   "metadata": {},
   "outputs": [
    {
     "name": "stdout",
     "output_type": "stream",
     "text": [
      "conducting subsequent work with the following platform: CUDA\n"
     ]
    },
    {
     "name": "stderr",
     "output_type": "stream",
     "text": [
      "INFO:rdkit:Enabling RDKit 2021.03.1 jupyter extensions\n"
     ]
    }
   ],
   "source": [
    "from openmmtools.states import SamplerState, ThermodynamicState, CompoundThermodynamicState\n",
    "from simtk import unit, openmm\n",
    "from perses.tests.utils import compute_potential_components\n",
    "from openmmtools.constants import kB\n",
    "from perses.dispersed.utils import configure_platform\n",
    "from perses.annihilation.rest import RESTTopologyFactory\n",
    "from perses.annihilation.lambda_protocol import RESTState\n",
    "import numpy as np\n",
    "from perses.tests.test_topology_proposal import generate_atp, generate_dipeptide_top_pos_sys\n",
    "from openmmtools.testsystems import AlanineDipeptideVacuum, AlanineDipeptideExplicit\n",
    "import itertools\n",
    "from perses.tests.test_topology_proposal import generate_dipeptide_top_pos_sys, generate_atp\n",
    "import pickle\n",
    "import copy\n",
    "\n",
    "#############################################\n",
    "# CONSTANTS\n",
    "#############################################\n",
    "temperature = 298.0 * unit.kelvin\n",
    "kT = kB * temperature\n",
    "beta = 1.0/kT\n",
    "REFERENCE_PLATFORM = openmm.Platform.getPlatformByName(\"CUDA\")\n"
   ]
  },
  {
   "cell_type": "code",
   "execution_count": 2,
   "id": "69ee892f",
   "metadata": {},
   "outputs": [],
   "source": [
    "def test_angle_energies(htf, is_old=True, is_solvated=False, check_scale=False):\n",
    "    htf_copy = copy.deepcopy(htf)\n",
    "    \n",
    "    # Get harmonic angle force and old/new positions\n",
    "    system = htf._topology_proposal.old_system if is_old else htf._topology_proposal.new_system\n",
    "    harmonic_angle_force = system.getForce(1) \n",
    "    positions = htf.old_positions(htf.hybrid_positions) if is_old else htf.new_positions(htf.hybrid_positions)\n",
    "    \n",
    "    # Get custom angle force and hybrid positions\n",
    "    angle_force_index = 2 if is_solvated else 1\n",
    "    hybrid_system = htf.hybrid_system\n",
    "    custom_angle_force = hybrid_system.getForce(angle_force_index)\n",
    "    hybrid_positions = htf.hybrid_positions\n",
    "    \n",
    "    # Set global parameters\n",
    "    lambda_old = 1 if is_old else 0\n",
    "    lambda_new = 0 if is_old else 1\n",
    "    for i in range(custom_angle_force.getNumGlobalParameters()):\n",
    "        if custom_angle_force.getGlobalParameterName(i) == 'lambda_0_angles_old':\n",
    "            custom_angle_force.setGlobalParameterDefaultValue(i, lambda_old)\n",
    "        if custom_angle_force.getGlobalParameterName(i) == 'lambda_0_angles_new':\n",
    "            custom_angle_force.setGlobalParameterDefaultValue(i, lambda_new)\n",
    "\n",
    "    # Zero the unique old/new angles in the custom bond force\n",
    "    hybrid_to_angle_indices = htf._hybrid_to_new_angle_indices if is_old else htf._hybrid_to_old_angle_indices\n",
    "    for hybrid_idx, idx in hybrid_to_angle_indices.items():\n",
    "        p1, p2, p3, hybrid_params = custom_angle_force.getAngleParameters(hybrid_idx)\n",
    "        hybrid_params = list(hybrid_params)\n",
    "        index_to_zero = -3 if is_old else -1\n",
    "        hybrid_params[index_to_zero] *= 0\n",
    "        custom_angle_force.setAngleParameters(hybrid_idx, p1, p2, p3, hybrid_params)\n",
    "\n",
    "    ## Get energy components of standard bond force\n",
    "    platform = configure_platform(REFERENCE_PLATFORM)\n",
    "    thermostate_other = ThermodynamicState(system=system, temperature=temperature)\n",
    "    integrator_other = openmm.VerletIntegrator(1.0*unit.femtosecond)\n",
    "    context_other = thermostate_other.create_context(integrator_other)\n",
    "    context_other.setPositions(positions)\n",
    "    components_other = compute_potential_components(context_other, beta=beta)\n",
    "    print(components_other)\n",
    "    \n",
    "    ## Get energy components of custom bond force\n",
    "    if is_solvated:\n",
    "        custom_angle_force.setUsesPeriodicBoundaryConditions(True)\n",
    "    thermostate_hybrid = ThermodynamicState(system=hybrid_system, temperature=temperature)\n",
    "    integrator_hybrid = openmm.VerletIntegrator(1.0 * unit.femtosecond)\n",
    "    context_hybrid = thermostate_hybrid.create_context(integrator_hybrid)\n",
    "    context_hybrid.setPositions(hybrid_positions)\n",
    "    components_hybrid = compute_potential_components(context_hybrid, beta=beta)\n",
    "    print(components_hybrid)\n",
    "    \n",
    "    assert np.isclose([components_other[1][1]], [components_hybrid[1][1]])\n",
    "    \n",
    "    print(\"Success! Custom angle force and standard angle force energies are equal!\")\n",
    "    \n",
    "    if check_scale:\n",
    "        \n",
    "        # Get custom bond force and hybrid positions\n",
    "        angle_force_index = 2 if is_solvated else 1\n",
    "        hybrid_system = htf_copy.hybrid_system\n",
    "        custom_angle_force = hybrid_system.getForce(angle_force_index)\n",
    "        hybrid_positions = htf_copy.hybrid_positions\n",
    "        \n",
    "        if is_solvated:\n",
    "            custom_angle_force.setUsesPeriodicBoundaryConditions(True)\n",
    "        \n",
    "        ## Get energy components of custom bond force\n",
    "        thermostate_hybrid = ThermodynamicState(system=hybrid_system, temperature=temperature)\n",
    "        integrator_hybrid = openmm.VerletIntegrator(1.0 * unit.femtosecond)\n",
    "        context_hybrid = thermostate_hybrid.create_context(integrator_hybrid)\n",
    "        context_hybrid.setPositions(hybrid_positions)\n",
    "        components_hybrid = compute_potential_components(context_hybrid, beta=beta)\n",
    "        print(components_hybrid)\n",
    "        \n",
    "        # Set `scale_lambda_{i}` to 0.5\n",
    "        for i in range(custom_angle_force.getNumGlobalParameters()):\n",
    "            if custom_angle_force.getGlobalParameterName(i) == 'scale_lambda_0_angles':\n",
    "                custom_angle_force.setGlobalParameterDefaultValue(i, 0.5)\n",
    "            elif custom_angle_force.getGlobalParameterName(i) == 'interscale_lambda_0_angles':\n",
    "                custom_angle_force.setGlobalParameterDefaultValue(i, 0.5)\n",
    "        \n",
    "        ## Get energy components of custom bond force iwth scaling\n",
    "        thermostate_hybrid = ThermodynamicState(system=hybrid_system, temperature=temperature)\n",
    "        integrator_hybrid = openmm.VerletIntegrator(1.0 * unit.femtosecond)\n",
    "        context_hybrid = thermostate_hybrid.create_context(integrator_hybrid)\n",
    "        context_hybrid.setPositions(hybrid_positions)\n",
    "        components_hybrid_scaled = compute_potential_components(context_hybrid, beta=beta)\n",
    "        print(components_hybrid_scaled)\n",
    "        \n",
    "        assert not np.isclose([components_hybrid[1][1]], [components_hybrid_scaled[1][1]])\n",
    "        \n",
    "        print(\"Success! Scaling the angle force changes the energy\")"
   ]
  },
  {
   "cell_type": "markdown",
   "id": "434a0b31",
   "metadata": {},
   "source": [
    "# Alanine dipeptide in vacuum"
   ]
  },
  {
   "cell_type": "code",
   "execution_count": 3,
   "id": "723a6506",
   "metadata": {
    "scrolled": true
   },
   "outputs": [
    {
     "name": "stderr",
     "output_type": "stream",
     "text": [
      "DEBUG:openmmforcefields.system_generators:Trying GAFFTemplateGenerator to load gaff-2.11\n",
      "INFO:proposal_generator:\tConducting polymer point mutation proposal...\n",
      "INFO:proposal_generator:Using matching_criterion to chose best atom map\n",
      "INFO:proposal_generator:Scaffold has symmetry of 0\n",
      "WARNING:proposal_generator:Two molecules are not similar to have a common scaffold\n",
      "WARNING:proposal_generator:Proceeding with direct mapping of molecules, but please check atom mapping and the geometry of the ligands.\n",
      "INFO:proposal_generator:len [{9: 7}, {10: 7}, {11: 7}, {12: 7}, {13: 7}, {9: 8}, {10: 8}, {11: 8}, {12: 8}, {13: 8}, {9: 9}, {10: 9}, {11: 9}, {12: 9}, {13: 9}]\n",
      "INFO:proposal_generator:{9: 7}\n",
      "INFO:proposal_generator:{10: 7}\n",
      "INFO:proposal_generator:{11: 7}\n",
      "INFO:proposal_generator:{12: 7}\n",
      "INFO:proposal_generator:{13: 7}\n",
      "INFO:proposal_generator:{9: 8}\n",
      "INFO:proposal_generator:{10: 8}\n",
      "INFO:proposal_generator:{11: 8}\n",
      "INFO:proposal_generator:{12: 8}\n",
      "INFO:proposal_generator:{13: 8}\n",
      "INFO:proposal_generator:{9: 9}\n",
      "INFO:proposal_generator:{10: 9}\n",
      "INFO:proposal_generator:{11: 9}\n",
      "INFO:proposal_generator:{12: 9}\n",
      "INFO:proposal_generator:{13: 9}\n",
      "INFO:proposal_generator:Returning map that best satisfies matching_criterion\n",
      "INFO:proposal_generator:Finding best map using matching_criterion name\n",
      "INFO:proposal_generator:{9: 7}\n",
      "INFO:geometry:propose: performing forward proposal\n",
      "INFO:geometry:propose: unique new atoms detected; proceeding to _logp_propose...\n",
      "INFO:geometry:Conducting forward proposal...\n",
      "INFO:geometry:Computing proposal order with NetworkX...\n",
      "INFO:geometry:number of atoms to be placed: 8\n",
      "INFO:geometry:Atom index proposal order is [10, 18, 14, 17, 19, 13, 15, 16]\n",
      "INFO:geometry:omitted_bonds: []\n",
      "INFO:geometry:direction of proposal is forward; creating atoms_with_positions and new positions from old system/topology...\n",
      "INFO:geometry:creating growth system...\n",
      "INFO:geometry:\tcreating bond force...\n",
      "INFO:geometry:\tthere are 11 bonds in reference force.\n",
      "INFO:geometry:\tcreating angle force...\n",
      "INFO:geometry:\tthere are 43 angles in reference force.\n",
      "INFO:geometry:\tcreating torsion force...\n",
      "INFO:geometry:\tcreating extra torsions force...\n",
      "INFO:geometry:\tthere are 72 torsions in reference force.\n",
      "INFO:geometry:\tcreating nonbonded force...\n",
      "INFO:geometry:\t\tgrabbing reference nonbonded method, cutoff, switching function, switching distance...\n",
      "INFO:geometry:\t\tcreating nonbonded exception force (i.e. custom bond for 1,4s)...\n",
      "INFO:geometry:\t\tlooping through exceptions calculating growth indices, and adding appropriate interactions to custom bond force.\n",
      "INFO:geometry:\t\tthere are 121 in the reference Nonbonded force\n",
      "WARNING:geometry:\t\t\t\t\tchiral atom <Atom 8 (CA) of chain 0 residue 1 (THR)> with neighbors [<Atom 9 (HA) of chain 0 residue 1 (THR)>, <Atom 10 (CB) of chain 0 residue 1 (THR)>, <Atom 11 (C) of chain 0 residue 1 (THR)>, <Atom 6 (N) of chain 0 residue 1 (THR)>] is surrounded by 3 core neighbors.  omitting chirality bias torsion\n",
      "INFO:geometry:Neglected angle terms : []\n",
      "INFO:geometry:omitted_growth_terms: {'bonds': [], 'angles': [], 'torsions': [], '1,4s': []}\n",
      "INFO:geometry:extra torsions: {0: (7, 6, 8, 10, [1, Quantity(value=0.9900002084555819, unit=radian), Quantity(value=1200.0, unit=kilocalorie/mole), 1]), 1: (19, 18, 10, 8, [1, Quantity(value=-0.07858019216845058, unit=radian), Quantity(value=1200.0, unit=kilocalorie/mole), 5]), 2: (19, 18, 10, 14, [1, Quantity(value=2.118586571250296, unit=radian), Quantity(value=1200.0, unit=kilocalorie/mole), 5]), 3: (19, 18, 10, 13, [1, Quantity(value=-2.149781203448759, unit=radian), Quantity(value=1200.0, unit=kilocalorie/mole), 6]), 4: (8, 10, 14, 17, [1, Quantity(value=-2.1249532223845904, unit=radian), Quantity(value=1200.0, unit=kilocalorie/mole), 4]), 5: (8, 10, 14, 16, [1, Quantity(value=2.0543043017157916, unit=radian), Quantity(value=1200.0, unit=kilocalorie/mole), 8]), 6: (8, 10, 14, 15, [1, Quantity(value=-0.02223392579985184, unit=radian), Quantity(value=1200.0, unit=kilocalorie/mole), 7]), 7: (18, 10, 14, 17, [1, Quantity(value=2.0255587336734213, unit=radian), Quantity(value=1200.0, unit=kilocalorie/mole), 4]), 8: (18, 10, 14, 16, [1, Quantity(value=-0.07836904940578293, unit=radian), Quantity(value=1200.0, unit=kilocalorie/mole), 8]), 9: (18, 10, 14, 15, [1, Quantity(value=-2.154907276921426, unit=radian), Quantity(value=1200.0, unit=kilocalorie/mole), 7]), 10: (13, 10, 14, 17, [1, Quantity(value=0.007583009583349565, unit=radian), Quantity(value=1200.0, unit=kilocalorie/mole), 6]), 11: (13, 10, 14, 16, [1, Quantity(value=-2.096344773495849, unit=radian), Quantity(value=1200.0, unit=kilocalorie/mole), 8]), 12: (13, 10, 14, 15, [1, Quantity(value=2.1103023061680943, unit=radian), Quantity(value=1200.0, unit=kilocalorie/mole), 7]), 13: (18, 10, 8, 14, [1, Quantity(value=-1.0655064807976995, unit=radian), Quantity(value=1200.0, unit=kilocalorie/mole), 3])}\n",
      "INFO:geometry:neglected angle terms include []\n",
      "INFO:geometry:log probability choice of torsions and atom order: -13.371595639480912\n",
      "INFO:geometry:creating platform, integrators, and contexts; setting growth parameter\n"
     ]
    },
    {
     "name": "stdout",
     "output_type": "stream",
     "text": [
      "making topology proposal\n",
      "generating geometry engine\n",
      "making geometry proposal from ALA to THR\n",
      "conducting subsequent work with the following platform: CUDA\n"
     ]
    },
    {
     "name": "stderr",
     "output_type": "stream",
     "text": [
      "INFO:geometry:setting atoms_with_positions context new positions\n",
      "INFO:geometry:There are 8 new atoms\n",
      "INFO:geometry:\treduced angle potential = 0.5875389405036744.\n"
     ]
    },
    {
     "name": "stdout",
     "output_type": "stream",
     "text": [
      "conducting subsequent work with the following platform: CUDA\n"
     ]
    },
    {
     "name": "stderr",
     "output_type": "stream",
     "text": [
      "INFO:geometry:\treduced angle potential = 0.1040183279948801.\n",
      "INFO:geometry:\treduced angle potential = 0.11051116822991956.\n",
      "INFO:geometry:\treduced angle potential = 0.22654933803102464.\n",
      "INFO:geometry:\treduced angle potential = 1.321428883859808.\n",
      "INFO:geometry:\treduced angle potential = 0.7536237659613949.\n",
      "INFO:geometry:\treduced angle potential = 1.194245588583566.\n",
      "INFO:geometry:\treduced angle potential = 0.06663844039091607.\n",
      "INFO:geometry:\tbeginning construction of no_nonbonded final system...\n",
      "INFO:geometry:\tinitial no-nonbonded final system forces ['HarmonicBondForce', 'HarmonicAngleForce', 'PeriodicTorsionForce', 'NonbondedForce']\n",
      "INFO:geometry:\tfinal no-nonbonded final system forces dict_keys(['HarmonicBondForce', 'HarmonicAngleForce', 'PeriodicTorsionForce', 'NonbondedForce'])\n",
      "INFO:geometry:\tthere are 11 bond forces in the no-nonbonded final system\n",
      "INFO:geometry:\tthere are 43 angle forces in the no-nonbonded final system\n",
      "INFO:geometry:\tthere are 72 torsion forces in the no-nonbonded final system\n",
      "INFO:geometry:forward final system defined with 0 neglected angles.\n"
     ]
    },
    {
     "name": "stdout",
     "output_type": "stream",
     "text": [
      "conducting subsequent work with the following platform: CUDA\n"
     ]
    },
    {
     "name": "stderr",
     "output_type": "stream",
     "text": [
      "INFO:geometry:total reduced potential before atom placement: 9.11648114171204\n"
     ]
    },
    {
     "name": "stdout",
     "output_type": "stream",
     "text": [
      "conducting subsequent work with the following platform: CUDA\n",
      "conducting subsequent work with the following platform: CUDA\n",
      "conducting subsequent work with the following platform: CUDA\n",
      "conducting subsequent work with the following platform: CUDA\n",
      "added energy components: [('CustomBondForce', 2.8957880633068065), ('CustomAngleForce', 5.985362688450149), ('CustomTorsionForce', 16.827820659564114), ('CustomBondForce', -93.06357323764763)]\n"
     ]
    },
    {
     "name": "stderr",
     "output_type": "stream",
     "text": [
      "INFO:geometry:total reduced energy added from growth system: -67.35460182632656\n",
      "INFO:geometry:final reduced energy -58.23812262561843\n",
      "INFO:geometry:sum of energies: -58.238120684614515\n",
      "INFO:geometry:magnitude of difference in the energies: 1.9410039158174186e-06\n",
      "INFO:geometry:Final logp_proposal: 62.32429136960965\n",
      "INFO:geometry:logp_reverse: performing reverse proposal\n",
      "INFO:geometry:logp_reverse: unique new atoms detected; proceeding to _logp_propose...\n",
      "INFO:geometry:Conducting forward proposal...\n",
      "INFO:geometry:Computing proposal order with NetworkX...\n",
      "INFO:geometry:number of atoms to be placed: 4\n",
      "INFO:geometry:Atom index proposal order is [10, 13, 11, 12]\n",
      "INFO:geometry:omitted_bonds: []\n",
      "INFO:geometry:direction of proposal is reverse; creating atoms_with_positions from old system/topology\n",
      "INFO:geometry:creating growth system...\n",
      "INFO:geometry:\tcreating bond force...\n",
      "INFO:geometry:\tthere are 9 bonds in reference force.\n",
      "INFO:geometry:\tcreating angle force...\n",
      "INFO:geometry:\tthere are 36 angles in reference force.\n",
      "INFO:geometry:\tcreating torsion force...\n",
      "INFO:geometry:\tcreating extra torsions force...\n",
      "INFO:geometry:\tthere are 42 torsions in reference force.\n",
      "INFO:geometry:\tcreating nonbonded force...\n",
      "INFO:geometry:\t\tgrabbing reference nonbonded method, cutoff, switching function, switching distance...\n",
      "INFO:geometry:\t\tcreating nonbonded exception force (i.e. custom bond for 1,4s)...\n",
      "INFO:geometry:\t\tlooping through exceptions calculating growth indices, and adding appropriate interactions to custom bond force.\n",
      "INFO:geometry:\t\tthere are 98 in the reference Nonbonded force\n",
      "WARNING:geometry:\t\t\t\t\tchiral atom <Atom 8 (CA) of chain 0 residue 1 (ALA)> with neighbors [<Atom 9 (HA) of chain 0 residue 1 (ALA)>, <Atom 10 (CB) of chain 0 residue 1 (ALA)>, <Atom 14 (C) of chain 0 residue 1 (ALA)>, <Atom 6 (N) of chain 0 residue 1 (ALA)>] is surrounded by 3 core neighbors.  omitting chirality bias torsion\n",
      "INFO:geometry:Neglected angle terms : []\n",
      "INFO:geometry:omitted_growth_terms: {'bonds': [], 'angles': [], 'torsions': [], '1,4s': []}\n",
      "INFO:geometry:extra torsions: {0: (7, 6, 8, 10, [1, Quantity(value=0.9799661941737812, unit=radian), Quantity(value=1200.0, unit=kilocalorie/mole), 1]), 1: (6, 8, 10, 11, [1, Quantity(value=2.105358864604291, unit=radian), Quantity(value=1200.0, unit=kilocalorie/mole), 3]), 2: (6, 8, 10, 12, [1, Quantity(value=-2.0823006129211796, unit=radian), Quantity(value=1200.0, unit=kilocalorie/mole), 4]), 3: (6, 8, 10, 13, [1, Quantity(value=0.018582237407944735, unit=radian), Quantity(value=1200.0, unit=kilocalorie/mole), 2]), 4: (14, 8, 10, 11, [1, Quantity(value=-0.036945135932107576, unit=radian), Quantity(value=1200.0, unit=kilocalorie/mole), 3]), 5: (14, 8, 10, 12, [1, Quantity(value=2.0585806937220097, unit=radian), Quantity(value=1200.0, unit=kilocalorie/mole), 4]), 6: (14, 8, 10, 13, [1, Quantity(value=-2.1237217631284597, unit=radian), Quantity(value=1200.0, unit=kilocalorie/mole), 2]), 7: (9, 8, 10, 11, [1, Quantity(value=-2.119603470065817, unit=radian), Quantity(value=1200.0, unit=kilocalorie/mole), 3]), 8: (9, 8, 10, 12, [1, Quantity(value=-0.024077640411697132, unit=radian), Quantity(value=1200.0, unit=kilocalorie/mole), 4]), 9: (9, 8, 10, 13, [1, Quantity(value=2.0768052099174152, unit=radian), Quantity(value=1200.0, unit=kilocalorie/mole), 2])}\n",
      "INFO:geometry:neglected angle terms include []\n",
      "INFO:geometry:log probability choice of torsions and atom order: -5.78074351579233\n",
      "INFO:geometry:creating platform, integrators, and contexts; setting growth parameter\n"
     ]
    },
    {
     "name": "stdout",
     "output_type": "stream",
     "text": [
      "conducting subsequent work with the following platform: CUDA\n"
     ]
    },
    {
     "name": "stderr",
     "output_type": "stream",
     "text": [
      "INFO:geometry:setting atoms_with_positions context old positions\n",
      "INFO:geometry:There are 4 new atoms\n",
      "INFO:geometry:\treduced angle potential = 0.3517324280898812.\n"
     ]
    },
    {
     "name": "stdout",
     "output_type": "stream",
     "text": [
      "conducting subsequent work with the following platform: CUDA\n"
     ]
    },
    {
     "name": "stderr",
     "output_type": "stream",
     "text": [
      "INFO:geometry:\treduced angle potential = 7.39096069988752e-11.\n",
      "INFO:geometry:\treduced angle potential = 1.2915588460963948e-10.\n",
      "INFO:geometry:\treduced angle potential = 3.205832446488702e-13.\n",
      "INFO:geometry:\tbeginning construction of no_nonbonded final system...\n",
      "INFO:geometry:\tinitial no-nonbonded final system forces ['HarmonicBondForce', 'HarmonicAngleForce', 'PeriodicTorsionForce', 'NonbondedForce']\n",
      "INFO:geometry:\tfinal no-nonbonded final system forces dict_keys(['HarmonicBondForce', 'HarmonicAngleForce', 'PeriodicTorsionForce', 'NonbondedForce'])\n",
      "INFO:geometry:\tthere are 9 bond forces in the no-nonbonded final system\n",
      "INFO:geometry:\tthere are 36 angle forces in the no-nonbonded final system\n",
      "INFO:geometry:\tthere are 42 torsion forces in the no-nonbonded final system\n",
      "INFO:geometry:reverse final system defined with 0 neglected angles.\n"
     ]
    },
    {
     "name": "stdout",
     "output_type": "stream",
     "text": [
      "conducting subsequent work with the following platform: CUDA\n"
     ]
    },
    {
     "name": "stderr",
     "output_type": "stream",
     "text": [
      "INFO:geometry:total reduced potential before atom placement: 9.11648114171204\n"
     ]
    },
    {
     "name": "stdout",
     "output_type": "stream",
     "text": [
      "conducting subsequent work with the following platform: CUDA\n",
      "conducting subsequent work with the following platform: CUDA\n",
      "conducting subsequent work with the following platform: CUDA\n"
     ]
    },
    {
     "name": "stderr",
     "output_type": "stream",
     "text": [
      "INFO:geometry:total reduced energy added from growth system: 20.672986687678176\n",
      "INFO:geometry:final reduced energy 29.78946596595154\n",
      "INFO:geometry:sum of energies: 29.789467829390215\n"
     ]
    },
    {
     "name": "stdout",
     "output_type": "stream",
     "text": [
      "conducting subsequent work with the following platform: CUDA\n",
      "added energy components: [('CustomBondForce', 0.000520203927326505), ('CustomAngleForce', 0.4511197756248138), ('CustomTorsionForce', 7.250463344085812), ('CustomBondForce', 12.970883364040223)]\n"
     ]
    },
    {
     "name": "stderr",
     "output_type": "stream",
     "text": [
      "INFO:geometry:magnitude of difference in the energies: 1.8634386762528266e-06\n",
      "INFO:geometry:Final logp_proposal: -26802.882152574442\n",
      "INFO:relative:*** Generating RxnHybridTopologyFactory ***\n",
      "INFO:relative:Beginning nonbonded method, total particle, barostat, and exceptions retrieval...\n",
      "INFO:relative:Old system forces: dict_keys(['HarmonicBondForce', 'HarmonicAngleForce', 'PeriodicTorsionForce', 'NonbondedForce'])\n",
      "INFO:relative:New system forces: dict_keys(['HarmonicBondForce', 'HarmonicAngleForce', 'PeriodicTorsionForce', 'NonbondedForce'])\n",
      "INFO:relative:No unknown forces.\n",
      "INFO:relative:Nonbonded method to be used (i.e. from old system): 0\n",
      "INFO:relative:Adding and mapping old atoms to hybrid system...\n",
      "INFO:relative:Adding and mapping new atoms to hybrid system...\n",
      "INFO:relative:scale_templates: [['nonscale_lambda'], ['nonscale_region']]\n",
      "INFO:relative:No MonteCarloBarostat added.\n",
      "INFO:relative:getDefaultPeriodicBoxVectors added to hybrid: [Quantity(value=Vec3(x=2.0, y=0.0, z=0.0), unit=nanometer), Quantity(value=Vec3(x=0.0, y=2.0, z=0.0), unit=nanometer), Quantity(value=Vec3(x=0.0, y=0.0, z=2.0), unit=nanometer)]\n",
      "INFO:relative:Determined atom classes.\n",
      "INFO:relative:Generating old system exceptions dict...\n",
      "INFO:relative:Generating new system exceptions dict...\n",
      "INFO:relative:Handling constraints...\n",
      "INFO:relative:Handling virtual sites...\n",
      "INFO:relative:\t_handle_virtual_sites: numVirtualSites: 0\n"
     ]
    }
   ],
   "source": [
    "# Create a htf\n",
    "atp, system_generator = generate_atp(phase = 'vacuum')\n",
    "htf = generate_dipeptide_top_pos_sys(atp.topology, \n",
    "                               'THR', \n",
    "                               atp.system, \n",
    "                               atp.positions, \n",
    "                               system_generator,\n",
    "                                rxn_field=True,\n",
    "                               flatten_torsions=True,\n",
    "                               flatten_exceptions=True,\n",
    "                               validate_endstate_energy=False,\n",
    "                                conduct_htf_prop=True)"
   ]
  },
  {
   "cell_type": "code",
   "execution_count": 4,
   "id": "d3b7384a",
   "metadata": {},
   "outputs": [],
   "source": [
    "# Save htf\n",
    "with open(\"atp_vacuum.pickle\", \"wb\") as f:\n",
    "    pickle.dump(htf, f)"
   ]
  },
  {
   "cell_type": "markdown",
   "id": "503b6f4b",
   "metadata": {},
   "source": [
    "### Test one alchemical region, no scale regions"
   ]
  },
  {
   "cell_type": "markdown",
   "id": "11e9c95a",
   "metadata": {},
   "source": [
    "#### Old system HarmonicBondForce vs hybrid system CustomBondForce"
   ]
  },
  {
   "cell_type": "code",
   "execution_count": 5,
   "id": "19b06c88",
   "metadata": {},
   "outputs": [],
   "source": [
    "# Load htf\n",
    "with open(\"/home/zhangi/choderalab/perses_benchmark/perses_protein_mutations/code/26_rxn_field/atp_vacuum.pickle\", \"rb\") as f:\n",
    "    htf = pickle.load(f)"
   ]
  },
  {
   "cell_type": "code",
   "execution_count": 6,
   "id": "513fb20b",
   "metadata": {},
   "outputs": [
    {
     "data": {
      "text/plain": [
       "[<simtk.openmm.openmm.CustomBondForce; proxy of <Swig Object of type 'OpenMM::CustomBondForce *' at 0x2b6b83325240> >,\n",
       " <simtk.openmm.openmm.CustomAngleForce; proxy of <Swig Object of type 'OpenMM::CustomAngleForce *' at 0x2b6b826deed0> >,\n",
       " <simtk.openmm.openmm.CustomTorsionForce; proxy of <Swig Object of type 'OpenMM::CustomTorsionForce *' at 0x2b6bd3e833c0> >]"
      ]
     },
     "execution_count": 6,
     "metadata": {},
     "output_type": "execute_result"
    }
   ],
   "source": [
    "htf.hybrid_system.getForces()"
   ]
  },
  {
   "cell_type": "code",
   "execution_count": 11,
   "id": "18deeb39",
   "metadata": {
    "scrolled": true
   },
   "outputs": [
    {
     "name": "stdout",
     "output_type": "stream",
     "text": [
      "Warning: Returning CPU platform instead of requested platform <simtk.openmm.openmm.Platform; proxy of <Swig Object of type 'OpenMM::Platform *' at 0x2b6bddb657e0> >\n",
      "conducting subsequent work with the following platform: CPU\n",
      "conducting subsequent work with the following platform: CUDA\n",
      "[('HarmonicBondForce', 0.03478365356521381), ('HarmonicAngleForce', 0.6112775462128995), ('PeriodicTorsionForce', 16.285398289983064), ('NonbondedForce', -39.4499277456003), ('AndersenThermostat', 0.0)]\n",
      "conducting subsequent work with the following platform: CUDA\n",
      "[('CustomBondForce', 2.9500065360888446), ('CustomAngleForce', 0.6112775462128995), ('CustomTorsionForce', 42.212441468407036), ('AndersenThermostat', 0.0)]\n",
      "Success! Custom angle force and standard angle force energies are equal!\n"
     ]
    }
   ],
   "source": [
    "test_angle_energies(htf)"
   ]
  },
  {
   "cell_type": "markdown",
   "id": "e336aed9",
   "metadata": {},
   "source": [
    "#### New system HarmonicBondForce vs hybrid system CustomBondForce"
   ]
  },
  {
   "cell_type": "code",
   "execution_count": 12,
   "id": "49875cd6",
   "metadata": {},
   "outputs": [],
   "source": [
    "# Load htf\n",
    "with open(\"/home/zhangi/choderalab/perses_benchmark/perses_protein_mutations/code/26_rxn_field/atp_vacuum.pickle\", \"rb\") as f:\n",
    "    htf = pickle.load(f)"
   ]
  },
  {
   "cell_type": "code",
   "execution_count": 14,
   "id": "039fb22d",
   "metadata": {},
   "outputs": [
    {
     "name": "stdout",
     "output_type": "stream",
     "text": [
      "Warning: Returning CPU platform instead of requested platform <simtk.openmm.openmm.Platform; proxy of <Swig Object of type 'OpenMM::Platform *' at 0x2b6bddb657e0> >\n",
      "conducting subsequent work with the following platform: CPU\n",
      "conducting subsequent work with the following platform: CUDA\n",
      "[('HarmonicBondForce', 2.9494828408599925), ('HarmonicAngleForce', 6.182663028922969), ('PeriodicTorsionForce', 25.9270338060766), ('NonbondedForce', -51.32400448116353), ('AndersenThermostat', 0.0)]\n",
      "conducting subsequent work with the following platform: CUDA\n",
      "[('CustomBondForce', 2.9500065360888446), ('CustomAngleForce', 6.182663028922968), ('CustomTorsionForce', 42.212441468407036), ('AndersenThermostat', 0.0)]\n",
      "Success! Custom angle force and standard angle force energies are equal!\n"
     ]
    }
   ],
   "source": [
    "test_angle_energies(htf, is_old=False)"
   ]
  },
  {
   "cell_type": "markdown",
   "id": "16251d48",
   "metadata": {},
   "source": [
    "### Test one alchemical region, one scale region"
   ]
  },
  {
   "cell_type": "code",
   "execution_count": 25,
   "id": "12fe9b6c",
   "metadata": {
    "scrolled": true
   },
   "outputs": [
    {
     "name": "stderr",
     "output_type": "stream",
     "text": [
      "DEBUG:openmmforcefields.system_generators:Trying GAFFTemplateGenerator to load gaff-2.11\n",
      "INFO:proposal_generator:\tConducting polymer point mutation proposal...\n",
      "INFO:proposal_generator:Using matching_criterion to chose best atom map\n",
      "INFO:proposal_generator:Scaffold has symmetry of 0\n",
      "WARNING:proposal_generator:Two molecules are not similar to have a common scaffold\n",
      "WARNING:proposal_generator:Proceeding with direct mapping of molecules, but please check atom mapping and the geometry of the ligands.\n",
      "INFO:proposal_generator:len [{9: 7}, {10: 7}, {11: 7}, {12: 7}, {13: 7}, {9: 8}, {10: 8}, {11: 8}, {12: 8}, {13: 8}, {9: 9}, {10: 9}, {11: 9}, {12: 9}, {13: 9}]\n",
      "INFO:proposal_generator:{9: 7}\n",
      "INFO:proposal_generator:{10: 7}\n",
      "INFO:proposal_generator:{11: 7}\n",
      "INFO:proposal_generator:{12: 7}\n",
      "INFO:proposal_generator:{13: 7}\n",
      "INFO:proposal_generator:{9: 8}\n",
      "INFO:proposal_generator:{10: 8}\n",
      "INFO:proposal_generator:{11: 8}\n",
      "INFO:proposal_generator:{12: 8}\n",
      "INFO:proposal_generator:{13: 8}\n",
      "INFO:proposal_generator:{9: 9}\n",
      "INFO:proposal_generator:{10: 9}\n",
      "INFO:proposal_generator:{11: 9}\n",
      "INFO:proposal_generator:{12: 9}\n",
      "INFO:proposal_generator:{13: 9}\n",
      "INFO:proposal_generator:Returning map that best satisfies matching_criterion\n",
      "INFO:proposal_generator:Finding best map using matching_criterion name\n",
      "INFO:proposal_generator:{9: 7}\n",
      "INFO:geometry:propose: performing forward proposal\n",
      "INFO:geometry:propose: unique new atoms detected; proceeding to _logp_propose...\n",
      "INFO:geometry:Conducting forward proposal...\n",
      "INFO:geometry:Computing proposal order with NetworkX...\n",
      "INFO:geometry:number of atoms to be placed: 8\n",
      "INFO:geometry:Atom index proposal order is [10, 14, 18, 19, 13, 16, 15, 17]\n",
      "INFO:geometry:omitted_bonds: []\n",
      "INFO:geometry:direction of proposal is forward; creating atoms_with_positions and new positions from old system/topology...\n",
      "INFO:geometry:creating growth system...\n",
      "INFO:geometry:\tcreating bond force...\n",
      "INFO:geometry:\tthere are 11 bonds in reference force.\n",
      "INFO:geometry:\tcreating angle force...\n",
      "INFO:geometry:\tthere are 43 angles in reference force.\n",
      "INFO:geometry:\tcreating torsion force...\n",
      "INFO:geometry:\tcreating extra torsions force...\n",
      "INFO:geometry:\tthere are 72 torsions in reference force.\n",
      "INFO:geometry:\tcreating nonbonded force...\n",
      "INFO:geometry:\t\tgrabbing reference nonbonded method, cutoff, switching function, switching distance...\n",
      "INFO:geometry:\t\tcreating nonbonded exception force (i.e. custom bond for 1,4s)...\n",
      "INFO:geometry:\t\tlooping through exceptions calculating growth indices, and adding appropriate interactions to custom bond force.\n",
      "INFO:geometry:\t\tthere are 121 in the reference Nonbonded force\n",
      "WARNING:geometry:\t\t\t\t\tchiral atom <Atom 8 (CA) of chain 0 residue 1 (THR)> with neighbors [<Atom 9 (HA) of chain 0 residue 1 (THR)>, <Atom 10 (CB) of chain 0 residue 1 (THR)>, <Atom 11 (C) of chain 0 residue 1 (THR)>, <Atom 6 (N) of chain 0 residue 1 (THR)>] is surrounded by 3 core neighbors.  omitting chirality bias torsion\n",
      "INFO:geometry:Neglected angle terms : []\n",
      "INFO:geometry:omitted_growth_terms: {'bonds': [], 'angles': [], 'torsions': [], '1,4s': []}\n",
      "INFO:geometry:extra torsions: {0: (7, 6, 8, 10, [1, Quantity(value=0.9900002084555819, unit=radian), Quantity(value=1200.0, unit=kilocalorie/mole), 1]), 1: (19, 18, 10, 8, [1, Quantity(value=-0.07858019216845058, unit=radian), Quantity(value=1200.0, unit=kilocalorie/mole), 4]), 2: (19, 18, 10, 14, [1, Quantity(value=2.118586571250296, unit=radian), Quantity(value=1200.0, unit=kilocalorie/mole), 4]), 3: (19, 18, 10, 13, [1, Quantity(value=-2.149781203448759, unit=radian), Quantity(value=1200.0, unit=kilocalorie/mole), 5]), 4: (8, 10, 14, 17, [1, Quantity(value=-2.1249532223845904, unit=radian), Quantity(value=1200.0, unit=kilocalorie/mole), 8]), 5: (8, 10, 14, 16, [1, Quantity(value=2.0543043017157916, unit=radian), Quantity(value=1200.0, unit=kilocalorie/mole), 6]), 6: (8, 10, 14, 15, [1, Quantity(value=-0.02223392579985184, unit=radian), Quantity(value=1200.0, unit=kilocalorie/mole), 7]), 7: (18, 10, 14, 17, [1, Quantity(value=2.0255587336734213, unit=radian), Quantity(value=1200.0, unit=kilocalorie/mole), 8]), 8: (18, 10, 14, 16, [1, Quantity(value=-0.07836904940578293, unit=radian), Quantity(value=1200.0, unit=kilocalorie/mole), 6]), 9: (18, 10, 14, 15, [1, Quantity(value=-2.154907276921426, unit=radian), Quantity(value=1200.0, unit=kilocalorie/mole), 7]), 10: (13, 10, 14, 17, [1, Quantity(value=0.007583009583349565, unit=radian), Quantity(value=1200.0, unit=kilocalorie/mole), 8]), 11: (13, 10, 14, 16, [1, Quantity(value=-2.096344773495849, unit=radian), Quantity(value=1200.0, unit=kilocalorie/mole), 6]), 12: (13, 10, 14, 15, [1, Quantity(value=2.1103023061680943, unit=radian), Quantity(value=1200.0, unit=kilocalorie/mole), 7]), 13: (14, 10, 8, 18, [1, Quantity(value=1.0655064807976995, unit=radian), Quantity(value=1200.0, unit=kilocalorie/mole), 3])}\n",
      "INFO:geometry:neglected angle terms include []\n",
      "INFO:geometry:log probability choice of torsions and atom order: -13.371595639480912\n",
      "INFO:geometry:creating platform, integrators, and contexts; setting growth parameter\n"
     ]
    },
    {
     "name": "stdout",
     "output_type": "stream",
     "text": [
      "making topology proposal\n",
      "generating geometry engine\n",
      "making geometry proposal from ALA to THR\n",
      "conducting subsequent work with the following platform: CUDA\n"
     ]
    },
    {
     "name": "stderr",
     "output_type": "stream",
     "text": [
      "INFO:geometry:setting atoms_with_positions context new positions\n",
      "INFO:geometry:There are 8 new atoms\n",
      "INFO:geometry:\treduced angle potential = 0.019230952894899275.\n"
     ]
    },
    {
     "name": "stdout",
     "output_type": "stream",
     "text": [
      "conducting subsequent work with the following platform: CUDA\n"
     ]
    },
    {
     "name": "stderr",
     "output_type": "stream",
     "text": [
      "INFO:geometry:\treduced angle potential = 0.00017107204611475823.\n",
      "INFO:geometry:\treduced angle potential = 1.0073598863007964.\n",
      "INFO:geometry:\treduced angle potential = 0.785754564681716.\n",
      "INFO:geometry:\treduced angle potential = 0.008690943101301947.\n",
      "INFO:geometry:\treduced angle potential = 0.3014180148793759.\n",
      "INFO:geometry:\treduced angle potential = 2.285468184266583.\n",
      "INFO:geometry:\treduced angle potential = 0.47599995095707076.\n",
      "INFO:geometry:\tbeginning construction of no_nonbonded final system...\n",
      "INFO:geometry:\tinitial no-nonbonded final system forces ['HarmonicBondForce', 'HarmonicAngleForce', 'PeriodicTorsionForce', 'NonbondedForce']\n",
      "INFO:geometry:\tfinal no-nonbonded final system forces dict_keys(['HarmonicBondForce', 'HarmonicAngleForce', 'PeriodicTorsionForce', 'NonbondedForce'])\n",
      "INFO:geometry:\tthere are 11 bond forces in the no-nonbonded final system\n",
      "INFO:geometry:\tthere are 43 angle forces in the no-nonbonded final system\n",
      "INFO:geometry:\tthere are 72 torsion forces in the no-nonbonded final system\n",
      "INFO:geometry:forward final system defined with 0 neglected angles.\n"
     ]
    },
    {
     "name": "stdout",
     "output_type": "stream",
     "text": [
      "conducting subsequent work with the following platform: CUDA\n"
     ]
    },
    {
     "name": "stderr",
     "output_type": "stream",
     "text": [
      "INFO:geometry:total reduced potential before atom placement: 9.11648114171204\n"
     ]
    },
    {
     "name": "stdout",
     "output_type": "stream",
     "text": [
      "conducting subsequent work with the following platform: CUDA\n",
      "conducting subsequent work with the following platform: CUDA\n",
      "conducting subsequent work with the following platform: CUDA\n",
      "conducting subsequent work with the following platform: CUDA\n",
      "added energy components: [('CustomBondForce', 1.6474260120227822), ('CustomAngleForce', 7.081382068614862), ('CustomTorsionForce', 18.85204612132332), ('CustomBondForce', -75.78756467807976)]\n"
     ]
    },
    {
     "name": "stderr",
     "output_type": "stream",
     "text": [
      "INFO:geometry:total reduced energy added from growth system: -48.2067104761188\n",
      "INFO:geometry:final reduced energy -39.090231954077396\n",
      "INFO:geometry:sum of energies: -39.09022933440676\n",
      "INFO:geometry:magnitude of difference in the energies: 2.619670638637217e-06\n",
      "INFO:geometry:Final logp_proposal: 56.67923369204773\n",
      "INFO:geometry:logp_reverse: performing reverse proposal\n",
      "INFO:geometry:logp_reverse: unique new atoms detected; proceeding to _logp_propose...\n",
      "INFO:geometry:Conducting forward proposal...\n",
      "INFO:geometry:Computing proposal order with NetworkX...\n",
      "INFO:geometry:number of atoms to be placed: 4\n",
      "INFO:geometry:Atom index proposal order is [10, 12, 13, 11]\n",
      "INFO:geometry:omitted_bonds: []\n",
      "INFO:geometry:direction of proposal is reverse; creating atoms_with_positions from old system/topology\n",
      "INFO:geometry:creating growth system...\n",
      "INFO:geometry:\tcreating bond force...\n",
      "INFO:geometry:\tthere are 9 bonds in reference force.\n",
      "INFO:geometry:\tcreating angle force...\n",
      "INFO:geometry:\tthere are 36 angles in reference force.\n",
      "INFO:geometry:\tcreating torsion force...\n",
      "INFO:geometry:\tcreating extra torsions force...\n",
      "INFO:geometry:\tthere are 42 torsions in reference force.\n",
      "INFO:geometry:\tcreating nonbonded force...\n",
      "INFO:geometry:\t\tgrabbing reference nonbonded method, cutoff, switching function, switching distance...\n",
      "INFO:geometry:\t\tcreating nonbonded exception force (i.e. custom bond for 1,4s)...\n",
      "INFO:geometry:\t\tlooping through exceptions calculating growth indices, and adding appropriate interactions to custom bond force.\n",
      "INFO:geometry:\t\tthere are 98 in the reference Nonbonded force\n",
      "WARNING:geometry:\t\t\t\t\tchiral atom <Atom 8 (CA) of chain 0 residue 1 (ALA)> with neighbors [<Atom 9 (HA) of chain 0 residue 1 (ALA)>, <Atom 10 (CB) of chain 0 residue 1 (ALA)>, <Atom 14 (C) of chain 0 residue 1 (ALA)>, <Atom 6 (N) of chain 0 residue 1 (ALA)>] is surrounded by 3 core neighbors.  omitting chirality bias torsion\n",
      "INFO:geometry:Neglected angle terms : []\n",
      "INFO:geometry:omitted_growth_terms: {'bonds': [], 'angles': [], 'torsions': [], '1,4s': []}\n",
      "INFO:geometry:extra torsions: {0: (7, 6, 8, 10, [1, Quantity(value=0.9799661941737812, unit=radian), Quantity(value=1200.0, unit=kilocalorie/mole), 1]), 1: (6, 8, 10, 11, [1, Quantity(value=2.105358864604291, unit=radian), Quantity(value=1200.0, unit=kilocalorie/mole), 4]), 2: (6, 8, 10, 12, [1, Quantity(value=-2.0823006129211796, unit=radian), Quantity(value=1200.0, unit=kilocalorie/mole), 2]), 3: (6, 8, 10, 13, [1, Quantity(value=0.018582237407944735, unit=radian), Quantity(value=1200.0, unit=kilocalorie/mole), 3]), 4: (14, 8, 10, 11, [1, Quantity(value=-0.036945135932107576, unit=radian), Quantity(value=1200.0, unit=kilocalorie/mole), 4]), 5: (14, 8, 10, 12, [1, Quantity(value=2.0585806937220097, unit=radian), Quantity(value=1200.0, unit=kilocalorie/mole), 2]), 6: (14, 8, 10, 13, [1, Quantity(value=-2.1237217631284597, unit=radian), Quantity(value=1200.0, unit=kilocalorie/mole), 3]), 7: (9, 8, 10, 11, [1, Quantity(value=-2.119603470065817, unit=radian), Quantity(value=1200.0, unit=kilocalorie/mole), 4]), 8: (9, 8, 10, 12, [1, Quantity(value=-0.024077640411697132, unit=radian), Quantity(value=1200.0, unit=kilocalorie/mole), 2]), 9: (9, 8, 10, 13, [1, Quantity(value=2.0768052099174152, unit=radian), Quantity(value=1200.0, unit=kilocalorie/mole), 3])}\n",
      "INFO:geometry:neglected angle terms include []\n",
      "INFO:geometry:log probability choice of torsions and atom order: -5.78074351579233\n",
      "INFO:geometry:creating platform, integrators, and contexts; setting growth parameter\n"
     ]
    },
    {
     "name": "stdout",
     "output_type": "stream",
     "text": [
      "conducting subsequent work with the following platform: CUDA\n"
     ]
    },
    {
     "name": "stderr",
     "output_type": "stream",
     "text": [
      "INFO:geometry:setting atoms_with_positions context old positions\n",
      "INFO:geometry:There are 4 new atoms\n",
      "INFO:geometry:\treduced angle potential = 0.3517324280898812.\n"
     ]
    },
    {
     "name": "stdout",
     "output_type": "stream",
     "text": [
      "conducting subsequent work with the following platform: CUDA\n"
     ]
    },
    {
     "name": "stderr",
     "output_type": "stream",
     "text": [
      "INFO:geometry:\treduced angle potential = 3.205832446488702e-13.\n",
      "INFO:geometry:\treduced angle potential = 7.39096069988752e-11.\n",
      "INFO:geometry:\treduced angle potential = 1.2915588460963948e-10.\n",
      "INFO:geometry:\tbeginning construction of no_nonbonded final system...\n",
      "INFO:geometry:\tinitial no-nonbonded final system forces ['HarmonicBondForce', 'HarmonicAngleForce', 'PeriodicTorsionForce', 'NonbondedForce']\n",
      "INFO:geometry:\tfinal no-nonbonded final system forces dict_keys(['HarmonicBondForce', 'HarmonicAngleForce', 'PeriodicTorsionForce', 'NonbondedForce'])\n",
      "INFO:geometry:\tthere are 9 bond forces in the no-nonbonded final system\n",
      "INFO:geometry:\tthere are 36 angle forces in the no-nonbonded final system\n",
      "INFO:geometry:\tthere are 42 torsion forces in the no-nonbonded final system\n",
      "INFO:geometry:reverse final system defined with 0 neglected angles.\n"
     ]
    },
    {
     "name": "stdout",
     "output_type": "stream",
     "text": [
      "conducting subsequent work with the following platform: CUDA\n"
     ]
    },
    {
     "name": "stderr",
     "output_type": "stream",
     "text": [
      "INFO:geometry:total reduced potential before atom placement: 9.11648114171204\n"
     ]
    },
    {
     "name": "stdout",
     "output_type": "stream",
     "text": [
      "conducting subsequent work with the following platform: CUDA\n",
      "conducting subsequent work with the following platform: CUDA\n",
      "conducting subsequent work with the following platform: CUDA\n"
     ]
    },
    {
     "name": "stderr",
     "output_type": "stream",
     "text": [
      "INFO:geometry:total reduced energy added from growth system: 20.672986687678176\n",
      "INFO:geometry:final reduced energy 29.78946596595154\n",
      "INFO:geometry:sum of energies: 29.789467829390215\n"
     ]
    },
    {
     "name": "stdout",
     "output_type": "stream",
     "text": [
      "conducting subsequent work with the following platform: CUDA\n",
      "added energy components: [('CustomBondForce', 0.000520203927326505), ('CustomAngleForce', 0.4511197756248138), ('CustomTorsionForce', 7.250463344085812), ('CustomBondForce', 12.970883364040223)]\n"
     ]
    },
    {
     "name": "stderr",
     "output_type": "stream",
     "text": [
      "INFO:geometry:magnitude of difference in the energies: 1.8634386762528266e-06\n",
      "INFO:geometry:Final logp_proposal: -26796.910836891406\n",
      "INFO:relative:*** Generating RxnHybridTopologyFactory ***\n",
      "INFO:relative:Beginning nonbonded method, total particle, barostat, and exceptions retrieval...\n",
      "INFO:relative:Old system forces: dict_keys(['HarmonicBondForce', 'HarmonicAngleForce', 'PeriodicTorsionForce', 'NonbondedForce'])\n",
      "INFO:relative:New system forces: dict_keys(['HarmonicBondForce', 'HarmonicAngleForce', 'PeriodicTorsionForce', 'NonbondedForce'])\n",
      "INFO:relative:No unknown forces.\n",
      "INFO:relative:Nonbonded method to be used (i.e. from old system): 0\n",
      "INFO:relative:Adding and mapping old atoms to hybrid system...\n",
      "INFO:relative:Adding and mapping new atoms to hybrid system...\n",
      "INFO:relative:scale_templates: [['nonscale_lambda', 'scale_lambda_0', 'interscale_lambda_0'], ['nonscale_region', 'scale_region_0', 'interscale_region_0']]\n",
      "INFO:relative:No MonteCarloBarostat added.\n",
      "INFO:relative:getDefaultPeriodicBoxVectors added to hybrid: [Quantity(value=Vec3(x=2.0, y=0.0, z=0.0), unit=nanometer), Quantity(value=Vec3(x=0.0, y=2.0, z=0.0), unit=nanometer), Quantity(value=Vec3(x=0.0, y=0.0, z=2.0), unit=nanometer)]\n",
      "INFO:relative:Determined atom classes.\n",
      "INFO:relative:Generating old system exceptions dict...\n",
      "INFO:relative:Generating new system exceptions dict...\n",
      "INFO:relative:Handling constraints...\n",
      "INFO:relative:Handling virtual sites...\n",
      "INFO:relative:\t_handle_virtual_sites: numVirtualSites: 0\n"
     ]
    }
   ],
   "source": [
    "# Create a htf\n",
    "atp, system_generator = generate_atp(phase = 'vacuum')\n",
    "htf = generate_dipeptide_top_pos_sys(atp.topology, \n",
    "                               'THR', \n",
    "                               atp.system, \n",
    "                               atp.positions, \n",
    "                               system_generator,\n",
    "                                rxn_field=True,\n",
    "                               flatten_torsions=True,\n",
    "                               flatten_exceptions=True,\n",
    "                               validate_endstate_energy=False,\n",
    "                                conduct_htf_prop=True, \n",
    "                                scale_regions=[[10, 11, 12, 13, 22, 23, 24, 25, 26, 27, 28, 29]])"
   ]
  },
  {
   "cell_type": "code",
   "execution_count": 26,
   "id": "7973bd78",
   "metadata": {},
   "outputs": [],
   "source": [
    "# Save htf\n",
    "with open(\"atp_vacuum_scale_region.pickle\", \"wb\") as f:\n",
    "    pickle.dump(htf, f)"
   ]
  },
  {
   "cell_type": "markdown",
   "id": "5e9bd435",
   "metadata": {},
   "source": [
    "#### Old system HarmonicBondForce vs hybrid system CustomBondForce"
   ]
  },
  {
   "cell_type": "code",
   "execution_count": 27,
   "id": "288c11e1",
   "metadata": {},
   "outputs": [],
   "source": [
    "# Load htf\n",
    "with open(\"/home/zhangi/choderalab/perses_benchmark/perses_protein_mutations/code/26_rxn_field/atp_vacuum_scale_region.pickle\", \"rb\") as f:\n",
    "    htf = pickle.load(f)"
   ]
  },
  {
   "cell_type": "code",
   "execution_count": 28,
   "id": "d41dbb58",
   "metadata": {},
   "outputs": [
    {
     "data": {
      "text/plain": [
       "[<simtk.openmm.openmm.CustomBondForce; proxy of <Swig Object of type 'OpenMM::CustomBondForce *' at 0x2b6be1b396c0> >,\n",
       " <simtk.openmm.openmm.CustomAngleForce; proxy of <Swig Object of type 'OpenMM::CustomAngleForce *' at 0x2b6be1b397b0> >,\n",
       " <simtk.openmm.openmm.CustomTorsionForce; proxy of <Swig Object of type 'OpenMM::CustomTorsionForce *' at 0x2b6bdc3bc2a0> >]"
      ]
     },
     "execution_count": 28,
     "metadata": {},
     "output_type": "execute_result"
    }
   ],
   "source": [
    "htf.hybrid_system.getForces()"
   ]
  },
  {
   "cell_type": "code",
   "execution_count": 29,
   "id": "5c37ddb9",
   "metadata": {
    "scrolled": true
   },
   "outputs": [
    {
     "data": {
      "text/plain": [
       "[10, 11, 12, 13, 22, 23, 24, 25, 26, 27, 28, 29]"
      ]
     },
     "execution_count": 29,
     "metadata": {},
     "output_type": "execute_result"
    }
   ],
   "source": [
    "# This is the scale region\n",
    "list(htf._atom_classes['unique_old_atoms'][0]) + list(htf._atom_classes['unique_new_atoms'][0])"
   ]
  },
  {
   "cell_type": "code",
   "execution_count": 30,
   "id": "9c194d51",
   "metadata": {
    "scrolled": true
   },
   "outputs": [
    {
     "name": "stdout",
     "output_type": "stream",
     "text": [
      "Warning: Returning CPU platform instead of requested platform <simtk.openmm.openmm.Platform; proxy of <Swig Object of type 'OpenMM::Platform *' at 0x2b6bddb657e0> >\n",
      "conducting subsequent work with the following platform: CPU\n",
      "conducting subsequent work with the following platform: CUDA\n",
      "[('HarmonicBondForce', 0.03478365356521381), ('HarmonicAngleForce', 0.6112775462128995), ('PeriodicTorsionForce', 16.285398289983064), ('NonbondedForce', -39.4499277456003), ('AndersenThermostat', 0.0)]\n",
      "conducting subsequent work with the following platform: CUDA\n",
      "[('CustomBondForce', 1.693266216004257), ('CustomAngleForce', 0.6112775462128995), ('CustomTorsionForce', 44.25025233594987), ('AndersenThermostat', 0.0)]\n",
      "Success! Custom angle force and standard angle force energies are equal!\n"
     ]
    }
   ],
   "source": [
    "test_angle_energies(htf)"
   ]
  },
  {
   "cell_type": "markdown",
   "id": "0057ce49",
   "metadata": {},
   "source": [
    "#### New system HarmonicBondForce vs hybrid system CustomBondForce"
   ]
  },
  {
   "cell_type": "code",
   "execution_count": 31,
   "id": "1e6a7202",
   "metadata": {},
   "outputs": [],
   "source": [
    "# Load htf\n",
    "with open(\"/home/zhangi/choderalab/perses_benchmark/perses_protein_mutations/code/26_rxn_field/atp_vacuum_scale_region.pickle\", \"rb\") as f:\n",
    "    htf = pickle.load(f)"
   ]
  },
  {
   "cell_type": "code",
   "execution_count": 32,
   "id": "8ccc8c53",
   "metadata": {},
   "outputs": [
    {
     "name": "stdout",
     "output_type": "stream",
     "text": [
      "Warning: Returning CPU platform instead of requested platform <simtk.openmm.openmm.Platform; proxy of <Swig Object of type 'OpenMM::Platform *' at 0x2b6bddb657e0> >\n",
      "conducting subsequent work with the following platform: CPU\n",
      "conducting subsequent work with the following platform: CUDA\n",
      "[('HarmonicBondForce', 1.6927425207754043), ('HarmonicAngleForce', 7.286038243853887), ('PeriodicTorsionForce', 27.964844243582032), ('NonbondedForce', 26.243705122449896), ('AndersenThermostat', 0.0)]\n",
      "conducting subsequent work with the following platform: CUDA\n",
      "[('CustomBondForce', 1.693266216004257), ('CustomAngleForce', 7.286038243853889), ('CustomTorsionForce', 44.25025233594987), ('AndersenThermostat', 0.0)]\n",
      "Success! Custom angle force and standard angle force energies are equal!\n"
     ]
    }
   ],
   "source": [
    "test_angle_energies(htf, is_old=False)"
   ]
  },
  {
   "cell_type": "markdown",
   "id": "a30a9095",
   "metadata": {},
   "source": [
    "# Alanine dipeptide in solvent"
   ]
  },
  {
   "cell_type": "code",
   "execution_count": 3,
   "id": "2e120f58",
   "metadata": {
    "scrolled": true
   },
   "outputs": [
    {
     "name": "stderr",
     "output_type": "stream",
     "text": [
      "DEBUG:openmmforcefields.system_generators:Trying GAFFTemplateGenerator to load gaff-2.11\n",
      "INFO:proposal_generator:\tConducting polymer point mutation proposal...\n",
      "INFO:proposal_generator:Using matching_criterion to chose best atom map\n",
      "INFO:proposal_generator:Scaffold has symmetry of 0\n",
      "WARNING:proposal_generator:Two molecules are not similar to have a common scaffold\n",
      "WARNING:proposal_generator:Proceeding with direct mapping of molecules, but please check atom mapping and the geometry of the ligands.\n",
      "INFO:proposal_generator:len [{9: 7}, {10: 7}, {11: 7}, {12: 7}, {13: 7}, {9: 8}, {10: 8}, {11: 8}, {12: 8}, {13: 8}, {9: 9}, {10: 9}, {11: 9}, {12: 9}, {13: 9}]\n",
      "INFO:proposal_generator:{9: 7}\n",
      "INFO:proposal_generator:{10: 7}\n",
      "INFO:proposal_generator:{11: 7}\n",
      "INFO:proposal_generator:{12: 7}\n",
      "INFO:proposal_generator:{13: 7}\n",
      "INFO:proposal_generator:{9: 8}\n",
      "INFO:proposal_generator:{10: 8}\n",
      "INFO:proposal_generator:{11: 8}\n",
      "INFO:proposal_generator:{12: 8}\n",
      "INFO:proposal_generator:{13: 8}\n",
      "INFO:proposal_generator:{9: 9}\n",
      "INFO:proposal_generator:{10: 9}\n",
      "INFO:proposal_generator:{11: 9}\n",
      "INFO:proposal_generator:{12: 9}\n",
      "INFO:proposal_generator:{13: 9}\n",
      "INFO:proposal_generator:Returning map that best satisfies matching_criterion\n",
      "INFO:proposal_generator:Finding best map using matching_criterion name\n",
      "INFO:proposal_generator:{9: 7}\n"
     ]
    },
    {
     "name": "stdout",
     "output_type": "stream",
     "text": [
      "making topology proposal\n"
     ]
    },
    {
     "name": "stderr",
     "output_type": "stream",
     "text": [
      "INFO:geometry:propose: performing forward proposal\n",
      "INFO:geometry:propose: unique new atoms detected; proceeding to _logp_propose...\n",
      "INFO:geometry:Conducting forward proposal...\n",
      "INFO:geometry:Computing proposal order with NetworkX...\n",
      "INFO:geometry:number of atoms to be placed: 8\n",
      "INFO:geometry:Atom index proposal order is [10, 14, 18, 16, 17, 15, 13, 19]\n",
      "INFO:geometry:omitted_bonds: []\n",
      "INFO:geometry:direction of proposal is forward; creating atoms_with_positions and new positions from old system/topology...\n",
      "INFO:geometry:creating growth system...\n",
      "INFO:geometry:\tcreating bond force...\n",
      "INFO:geometry:\tthere are 11 bonds in reference force.\n",
      "INFO:geometry:\tcreating angle force...\n",
      "INFO:geometry:\tthere are 43 angles in reference force.\n",
      "INFO:geometry:\tcreating torsion force...\n",
      "INFO:geometry:\tcreating extra torsions force...\n",
      "INFO:geometry:\tthere are 72 torsions in reference force.\n",
      "INFO:geometry:\tcreating nonbonded force...\n",
      "INFO:geometry:\t\tgrabbing reference nonbonded method, cutoff, switching function, switching distance...\n",
      "INFO:geometry:\t\tcreating nonbonded exception force (i.e. custom bond for 1,4s)...\n",
      "INFO:geometry:\t\tlooping through exceptions calculating growth indices, and adding appropriate interactions to custom bond force.\n",
      "INFO:geometry:\t\tthere are 1654 in the reference Nonbonded force\n",
      "WARNING:geometry:\t\t\t\t\tchiral atom <Atom 8 (CA) of chain 0 residue 1 (THR)> with neighbors [<Atom 9 (HA) of chain 0 residue 1 (THR)>, <Atom 10 (CB) of chain 0 residue 1 (THR)>, <Atom 11 (C) of chain 0 residue 1 (THR)>, <Atom 6 (N) of chain 0 residue 1 (THR)>] is surrounded by 3 core neighbors.  omitting chirality bias torsion\n",
      "INFO:geometry:Neglected angle terms : []\n",
      "INFO:geometry:omitted_growth_terms: {'bonds': [], 'angles': [], 'torsions': [], '1,4s': []}\n",
      "INFO:geometry:extra torsions: {0: (7, 6, 8, 10, [1, Quantity(value=0.9900002084555819, unit=radian), Quantity(value=1200.0, unit=kilocalorie/mole), 1]), 1: (19, 18, 10, 8, [1, Quantity(value=-0.07858019216845058, unit=radian), Quantity(value=1200.0, unit=kilocalorie/mole), 8]), 2: (19, 18, 10, 14, [1, Quantity(value=2.118586571250296, unit=radian), Quantity(value=1200.0, unit=kilocalorie/mole), 8]), 3: (19, 18, 10, 13, [1, Quantity(value=-2.149781203448759, unit=radian), Quantity(value=1200.0, unit=kilocalorie/mole), 8]), 4: (8, 10, 14, 17, [1, Quantity(value=-2.1249532223845904, unit=radian), Quantity(value=1200.0, unit=kilocalorie/mole), 5]), 5: (8, 10, 14, 16, [1, Quantity(value=2.0543043017157916, unit=radian), Quantity(value=1200.0, unit=kilocalorie/mole), 4]), 6: (8, 10, 14, 15, [1, Quantity(value=-0.02223392579985184, unit=radian), Quantity(value=1200.0, unit=kilocalorie/mole), 6]), 7: (18, 10, 14, 17, [1, Quantity(value=2.0255587336734213, unit=radian), Quantity(value=1200.0, unit=kilocalorie/mole), 5]), 8: (18, 10, 14, 16, [1, Quantity(value=-0.07836904940578293, unit=radian), Quantity(value=1200.0, unit=kilocalorie/mole), 4]), 9: (18, 10, 14, 15, [1, Quantity(value=-2.154907276921426, unit=radian), Quantity(value=1200.0, unit=kilocalorie/mole), 6]), 10: (13, 10, 14, 17, [1, Quantity(value=0.007583009583349565, unit=radian), Quantity(value=1200.0, unit=kilocalorie/mole), 7]), 11: (13, 10, 14, 16, [1, Quantity(value=-2.096344773495849, unit=radian), Quantity(value=1200.0, unit=kilocalorie/mole), 7]), 12: (13, 10, 14, 15, [1, Quantity(value=2.1103023061680943, unit=radian), Quantity(value=1200.0, unit=kilocalorie/mole), 7]), 13: (14, 10, 8, 18, [1, Quantity(value=1.0655064807976995, unit=radian), Quantity(value=1200.0, unit=kilocalorie/mole), 3])}\n",
      "INFO:geometry:neglected angle terms include []\n",
      "INFO:geometry:log probability choice of torsions and atom order: -13.659277711932692\n",
      "INFO:geometry:creating platform, integrators, and contexts; setting growth parameter\n"
     ]
    },
    {
     "name": "stdout",
     "output_type": "stream",
     "text": [
      "generating geometry engine\n",
      "making geometry proposal from ALA to THR\n",
      "conducting subsequent work with the following platform: CUDA\n"
     ]
    },
    {
     "name": "stderr",
     "output_type": "stream",
     "text": [
      "INFO:geometry:setting atoms_with_positions context new positions\n",
      "INFO:geometry:There are 8 new atoms\n",
      "INFO:geometry:\treduced angle potential = 0.6030216606353751.\n"
     ]
    },
    {
     "name": "stdout",
     "output_type": "stream",
     "text": [
      "conducting subsequent work with the following platform: CUDA\n"
     ]
    },
    {
     "name": "stderr",
     "output_type": "stream",
     "text": [
      "INFO:geometry:\treduced angle potential = 1.0590127722955.\n",
      "INFO:geometry:\treduced angle potential = 0.7342461464337477.\n",
      "INFO:geometry:\treduced angle potential = 0.0009103860244858017.\n",
      "INFO:geometry:\treduced angle potential = 0.48976012371941846.\n",
      "INFO:geometry:\treduced angle potential = 0.00593517231371072.\n",
      "INFO:geometry:\treduced angle potential = 0.0031426065800813315.\n",
      "INFO:geometry:\treduced angle potential = 0.8013714723999248.\n",
      "INFO:geometry:\tbeginning construction of no_nonbonded final system...\n",
      "INFO:geometry:\tinitial no-nonbonded final system forces ['HarmonicBondForce', 'HarmonicAngleForce', 'PeriodicTorsionForce', 'NonbondedForce', 'MonteCarloBarostat']\n",
      "INFO:geometry:\tfinal no-nonbonded final system forces dict_keys(['HarmonicBondForce', 'HarmonicAngleForce', 'PeriodicTorsionForce', 'NonbondedForce'])\n",
      "INFO:geometry:\tthere are 11 bond forces in the no-nonbonded final system\n",
      "INFO:geometry:\tthere are 43 angle forces in the no-nonbonded final system\n",
      "INFO:geometry:\tthere are 72 torsion forces in the no-nonbonded final system\n",
      "INFO:geometry:forward final system defined with 0 neglected angles.\n"
     ]
    },
    {
     "name": "stdout",
     "output_type": "stream",
     "text": [
      "conducting subsequent work with the following platform: CUDA\n"
     ]
    },
    {
     "name": "stderr",
     "output_type": "stream",
     "text": [
      "INFO:geometry:total reduced potential before atom placement: 9.11648114171204\n"
     ]
    },
    {
     "name": "stdout",
     "output_type": "stream",
     "text": [
      "conducting subsequent work with the following platform: CUDA\n",
      "conducting subsequent work with the following platform: CUDA\n",
      "conducting subsequent work with the following platform: CUDA\n"
     ]
    },
    {
     "name": "stderr",
     "output_type": "stream",
     "text": [
      "INFO:geometry:total reduced energy added from growth system: -37.75215793868561\n",
      "INFO:geometry:final reduced energy -28.635680083804864\n",
      "INFO:geometry:sum of energies: -28.635676796973573\n",
      "INFO:geometry:magnitude of difference in the energies: 3.2868312871414673e-06\n",
      "INFO:geometry:Final logp_proposal: 61.36552263092811\n"
     ]
    },
    {
     "name": "stdout",
     "output_type": "stream",
     "text": [
      "conducting subsequent work with the following platform: CUDA\n",
      "added energy components: [('CustomBondForce', 1.7852101758488181), ('CustomAngleForce', 7.349951823054131), ('CustomTorsionForce', 19.21739996146413), ('CustomBondForce', -66.10471989905272)]\n"
     ]
    },
    {
     "name": "stderr",
     "output_type": "stream",
     "text": [
      "INFO:geometry:logp_reverse: performing reverse proposal\n",
      "INFO:geometry:logp_reverse: unique new atoms detected; proceeding to _logp_propose...\n",
      "INFO:geometry:Conducting forward proposal...\n",
      "INFO:geometry:Computing proposal order with NetworkX...\n",
      "INFO:geometry:number of atoms to be placed: 4\n",
      "INFO:geometry:Atom index proposal order is [10, 11, 12, 13]\n",
      "INFO:geometry:omitted_bonds: []\n",
      "INFO:geometry:direction of proposal is reverse; creating atoms_with_positions from old system/topology\n",
      "INFO:geometry:creating growth system...\n",
      "INFO:geometry:\tcreating bond force...\n",
      "INFO:geometry:\tthere are 9 bonds in reference force.\n",
      "INFO:geometry:\tcreating angle force...\n",
      "INFO:geometry:\tthere are 36 angles in reference force.\n",
      "INFO:geometry:\tcreating torsion force...\n",
      "INFO:geometry:\tcreating extra torsions force...\n",
      "INFO:geometry:\tthere are 42 torsions in reference force.\n",
      "INFO:geometry:\tcreating nonbonded force...\n",
      "INFO:geometry:\t\tgrabbing reference nonbonded method, cutoff, switching function, switching distance...\n",
      "INFO:geometry:\t\tcreating nonbonded exception force (i.e. custom bond for 1,4s)...\n",
      "INFO:geometry:\t\tlooping through exceptions calculating growth indices, and adding appropriate interactions to custom bond force.\n",
      "INFO:geometry:\t\tthere are 1631 in the reference Nonbonded force\n",
      "WARNING:geometry:\t\t\t\t\tchiral atom <Atom 8 (CA) of chain 0 residue 1 (ALA)> with neighbors [<Atom 9 (HA) of chain 0 residue 1 (ALA)>, <Atom 10 (CB) of chain 0 residue 1 (ALA)>, <Atom 14 (C) of chain 0 residue 1 (ALA)>, <Atom 6 (N) of chain 0 residue 1 (ALA)>] is surrounded by 3 core neighbors.  omitting chirality bias torsion\n",
      "INFO:geometry:Neglected angle terms : []\n",
      "INFO:geometry:omitted_growth_terms: {'bonds': [], 'angles': [], 'torsions': [], '1,4s': []}\n",
      "INFO:geometry:extra torsions: {0: (7, 6, 8, 10, [1, Quantity(value=0.9799661941737812, unit=radian), Quantity(value=1200.0, unit=kilocalorie/mole), 1]), 1: (6, 8, 10, 11, [1, Quantity(value=2.105358864604291, unit=radian), Quantity(value=1200.0, unit=kilocalorie/mole), 2]), 2: (6, 8, 10, 12, [1, Quantity(value=-2.0823006129211796, unit=radian), Quantity(value=1200.0, unit=kilocalorie/mole), 3]), 3: (6, 8, 10, 13, [1, Quantity(value=0.018582237407944735, unit=radian), Quantity(value=1200.0, unit=kilocalorie/mole), 4]), 4: (14, 8, 10, 11, [1, Quantity(value=-0.036945135932107576, unit=radian), Quantity(value=1200.0, unit=kilocalorie/mole), 2]), 5: (14, 8, 10, 12, [1, Quantity(value=2.0585806937220097, unit=radian), Quantity(value=1200.0, unit=kilocalorie/mole), 3]), 6: (14, 8, 10, 13, [1, Quantity(value=-2.1237217631284597, unit=radian), Quantity(value=1200.0, unit=kilocalorie/mole), 4]), 7: (9, 8, 10, 11, [1, Quantity(value=-2.119603470065817, unit=radian), Quantity(value=1200.0, unit=kilocalorie/mole), 2]), 8: (9, 8, 10, 12, [1, Quantity(value=-0.024077640411697132, unit=radian), Quantity(value=1200.0, unit=kilocalorie/mole), 3]), 9: (9, 8, 10, 13, [1, Quantity(value=2.0768052099174152, unit=radian), Quantity(value=1200.0, unit=kilocalorie/mole), 4])}\n",
      "INFO:geometry:neglected angle terms include []\n",
      "INFO:geometry:log probability choice of torsions and atom order: -5.78074351579233\n",
      "INFO:geometry:creating platform, integrators, and contexts; setting growth parameter\n"
     ]
    },
    {
     "name": "stdout",
     "output_type": "stream",
     "text": [
      "conducting subsequent work with the following platform: CUDA\n"
     ]
    },
    {
     "name": "stderr",
     "output_type": "stream",
     "text": [
      "INFO:geometry:setting atoms_with_positions context old positions\n",
      "INFO:geometry:There are 4 new atoms\n",
      "INFO:geometry:\treduced angle potential = 0.3517324280898812.\n"
     ]
    },
    {
     "name": "stdout",
     "output_type": "stream",
     "text": [
      "conducting subsequent work with the following platform: CUDA\n"
     ]
    },
    {
     "name": "stderr",
     "output_type": "stream",
     "text": [
      "INFO:geometry:\treduced angle potential = 1.2915588460963948e-10.\n",
      "INFO:geometry:\treduced angle potential = 3.205832446488702e-13.\n",
      "INFO:geometry:\treduced angle potential = 7.39096069988752e-11.\n",
      "INFO:geometry:\tbeginning construction of no_nonbonded final system...\n",
      "INFO:geometry:\tinitial no-nonbonded final system forces ['HarmonicBondForce', 'HarmonicAngleForce', 'PeriodicTorsionForce', 'NonbondedForce', 'MonteCarloBarostat']\n",
      "INFO:geometry:\tfinal no-nonbonded final system forces dict_keys(['HarmonicBondForce', 'HarmonicAngleForce', 'PeriodicTorsionForce', 'NonbondedForce'])\n",
      "INFO:geometry:\tthere are 9 bond forces in the no-nonbonded final system\n",
      "INFO:geometry:\tthere are 36 angle forces in the no-nonbonded final system\n",
      "INFO:geometry:\tthere are 42 torsion forces in the no-nonbonded final system\n",
      "INFO:geometry:reverse final system defined with 0 neglected angles.\n"
     ]
    },
    {
     "name": "stdout",
     "output_type": "stream",
     "text": [
      "conducting subsequent work with the following platform: CUDA\n"
     ]
    },
    {
     "name": "stderr",
     "output_type": "stream",
     "text": [
      "INFO:geometry:total reduced potential before atom placement: 9.11648114171204\n"
     ]
    },
    {
     "name": "stdout",
     "output_type": "stream",
     "text": [
      "conducting subsequent work with the following platform: CUDA\n",
      "conducting subsequent work with the following platform: CUDA\n",
      "conducting subsequent work with the following platform: CUDA\n"
     ]
    },
    {
     "name": "stderr",
     "output_type": "stream",
     "text": [
      "INFO:geometry:total reduced energy added from growth system: 20.672986672125617\n",
      "INFO:geometry:final reduced energy 29.78946596595156\n",
      "INFO:geometry:sum of energies: 29.789467813837657\n",
      "INFO:geometry:magnitude of difference in the energies: 1.8478860965842614e-06\n",
      "INFO:geometry:Final logp_proposal: -26840.97686061595\n"
     ]
    },
    {
     "name": "stdout",
     "output_type": "stream",
     "text": [
      "conducting subsequent work with the following platform: CUDA\n",
      "added energy components: [('CustomBondForce', 0.000520203927326505), ('CustomAngleForce', 0.4511197756248138), ('CustomTorsionForce', 7.250463328533253), ('CustomBondForce', 12.970883364040223)]\n"
     ]
    },
    {
     "name": "stderr",
     "output_type": "stream",
     "text": [
      "INFO:relative:*** Generating RxnHybridTopologyFactory ***\n",
      "INFO:relative:Beginning nonbonded method, total particle, barostat, and exceptions retrieval...\n",
      "INFO:relative:Old system forces: dict_keys(['HarmonicBondForce', 'HarmonicAngleForce', 'PeriodicTorsionForce', 'NonbondedForce', 'MonteCarloBarostat'])\n",
      "INFO:relative:New system forces: dict_keys(['HarmonicBondForce', 'HarmonicAngleForce', 'PeriodicTorsionForce', 'NonbondedForce', 'MonteCarloBarostat'])\n",
      "INFO:relative:No unknown forces.\n",
      "INFO:relative:Nonbonded method to be used (i.e. from old system): 4\n",
      "INFO:relative:Adding and mapping old atoms to hybrid system...\n",
      "INFO:relative:Adding and mapping new atoms to hybrid system...\n",
      "INFO:relative:scale_templates: [['nonscale_lambda'], ['nonscale_region']]\n",
      "INFO:relative:Added MonteCarloBarostat.\n",
      "INFO:relative:getDefaultPeriodicBoxVectors added to hybrid: [Quantity(value=Vec3(x=2.56477354, y=0.0, z=0.0), unit=nanometer), Quantity(value=Vec3(x=0.0, y=2.56477354, z=0.0), unit=nanometer), Quantity(value=Vec3(x=0.0, y=0.0, z=2.56477354), unit=nanometer)]\n",
      "INFO:relative:Determined atom classes.\n",
      "INFO:relative:Generating old system exceptions dict...\n",
      "INFO:relative:Generating new system exceptions dict...\n",
      "INFO:relative:Handling constraints...\n",
      "INFO:relative:Handling virtual sites...\n",
      "INFO:relative:\t_handle_virtual_sites: numVirtualSites: 0\n"
     ]
    },
    {
     "name": "stdout",
     "output_type": "stream",
     "text": [
      "( nonscale_lambda_bonds * nonscale_region ) * (K/2)*(r-length)^2;K = ( 1 * environment_region+lambda_0_bonds_old * alchemical_region_0 ) * K1 + ( 1 * environment_region+lambda_0_bonds_new * alchemical_region_0 ) * K2;length = ( 1 * environment_region+lambda_0_bonds_old * alchemical_region_0 ) * length1 + ( 1 * environment_region+lambda_0_bonds_new * alchemical_region_0 ) * length2;\n"
     ]
    }
   ],
   "source": [
    "# Create a htf\n",
    "atp, system_generator = generate_atp(phase = 'solvent')\n",
    "htf = generate_dipeptide_top_pos_sys(atp.topology, \n",
    "                               'THR', \n",
    "                               atp.system, \n",
    "                               atp.positions, \n",
    "                               system_generator,\n",
    "                                rxn_field=True,\n",
    "                               flatten_torsions=True,\n",
    "                               flatten_exceptions=True,\n",
    "                               validate_endstate_energy=False,\n",
    "                                conduct_htf_prop=True)"
   ]
  },
  {
   "cell_type": "code",
   "execution_count": 4,
   "id": "ba6eef7e",
   "metadata": {},
   "outputs": [],
   "source": [
    "# Save htf\n",
    "with open(\"atp_solvent.pickle\", \"wb\") as f:\n",
    "    pickle.dump(htf, f)"
   ]
  },
  {
   "cell_type": "markdown",
   "id": "d6ef38ac",
   "metadata": {},
   "source": [
    "### Test one alchemical region, no scale regions"
   ]
  },
  {
   "cell_type": "markdown",
   "id": "5c908dfd",
   "metadata": {},
   "source": [
    "#### Old system HarmonicBondForce vs hybrid system CustomBondForce"
   ]
  },
  {
   "cell_type": "code",
   "execution_count": 5,
   "id": "0033103c",
   "metadata": {},
   "outputs": [],
   "source": [
    "# Load htf\n",
    "with open(\"/home/zhangi/choderalab/perses_benchmark/perses_protein_mutations/code/26_rxn_field/atp_solvent.pickle\", \"rb\") as f:\n",
    "    htf = pickle.load(f)"
   ]
  },
  {
   "cell_type": "code",
   "execution_count": 6,
   "id": "fea5843b",
   "metadata": {},
   "outputs": [
    {
     "name": "stdout",
     "output_type": "stream",
     "text": [
      "Warning: Returning CPU platform instead of requested platform <simtk.openmm.openmm.Platform; proxy of <Swig Object of type 'OpenMM::Platform *' at 0x2b8817b2f030> >\n",
      "conducting subsequent work with the following platform: CPU\n",
      "conducting subsequent work with the following platform: CUDA\n",
      "[('HarmonicBondForce', 0.034783653565214685), ('HarmonicAngleForce', 0.6112775462129015), ('PeriodicTorsionForce', 16.285398289983082), ('NonbondedForce', -917.909292205925), ('AndersenThermostat', 0.0), ('MonteCarloBarostat', 0.0)]\n",
      "conducting subsequent work with the following platform: CUDA\n",
      "[('CustomBondForce', 1.8319751057620108), ('CustomAngleForce', 0.6112775462128995), ('AndersenThermostat', 0.0), ('MonteCarloBarostat', 0.0)]\n",
      "Success! Custom angle force and standard angle force energies are equal!\n"
     ]
    }
   ],
   "source": [
    "test_angle_energies(htf, is_solvated=True)"
   ]
  },
  {
   "cell_type": "markdown",
   "id": "dc4b7b1d",
   "metadata": {},
   "source": [
    "#### New system HarmonicBondForce vs hybrid system CustomBondForce"
   ]
  },
  {
   "cell_type": "code",
   "execution_count": 7,
   "id": "9f9cbe99",
   "metadata": {},
   "outputs": [],
   "source": [
    "# Load htf\n",
    "with open(\"/home/zhangi/choderalab/perses_benchmark/perses_protein_mutations/code/26_rxn_field/atp_solvent.pickle\", \"rb\") as f:\n",
    "    htf = pickle.load(f)"
   ]
  },
  {
   "cell_type": "code",
   "execution_count": 8,
   "id": "5c16c96c",
   "metadata": {},
   "outputs": [
    {
     "name": "stdout",
     "output_type": "stream",
     "text": [
      "Warning: Returning CPU platform instead of requested platform <simtk.openmm.openmm.Platform; proxy of <Swig Object of type 'OpenMM::Platform *' at 0x2b8817b2f030> >\n",
      "conducting subsequent work with the following platform: CPU\n",
      "conducting subsequent work with the following platform: CUDA\n",
      "[('HarmonicBondForce', 1.831451410533151), ('HarmonicAngleForce', 7.55641047986655), ('PeriodicTorsionForce', 28.332649521292527), ('NonbondedForce', -464.38846644797746), ('AndersenThermostat', 0.0), ('MonteCarloBarostat', 0.0)]\n",
      "conducting subsequent work with the following platform: CUDA\n",
      "[('CustomBondForce', 1.8319751057620108), ('CustomAngleForce', 7.556410479866574), ('AndersenThermostat', 0.0), ('MonteCarloBarostat', 0.0)]\n",
      "Success! Custom angle force and standard angle force energies are equal!\n"
     ]
    }
   ],
   "source": [
    "test_angle_energies(htf, is_old=False, is_solvated=True)"
   ]
  },
  {
   "cell_type": "markdown",
   "id": "d907a68d",
   "metadata": {},
   "source": [
    "### Test one alchemical region, one scale region"
   ]
  },
  {
   "cell_type": "code",
   "execution_count": 9,
   "id": "52f50c72",
   "metadata": {
    "scrolled": true
   },
   "outputs": [
    {
     "name": "stderr",
     "output_type": "stream",
     "text": [
      "DEBUG:openmmforcefields.system_generators:Trying GAFFTemplateGenerator to load gaff-2.11\n",
      "INFO:proposal_generator:\tConducting polymer point mutation proposal...\n",
      "INFO:proposal_generator:Using matching_criterion to chose best atom map\n",
      "INFO:proposal_generator:Scaffold has symmetry of 0\n",
      "WARNING:proposal_generator:Two molecules are not similar to have a common scaffold\n",
      "WARNING:proposal_generator:Proceeding with direct mapping of molecules, but please check atom mapping and the geometry of the ligands.\n",
      "INFO:proposal_generator:len [{9: 7}, {10: 7}, {11: 7}, {12: 7}, {13: 7}, {9: 8}, {10: 8}, {11: 8}, {12: 8}, {13: 8}, {9: 9}, {10: 9}, {11: 9}, {12: 9}, {13: 9}]\n",
      "INFO:proposal_generator:{9: 7}\n",
      "INFO:proposal_generator:{10: 7}\n",
      "INFO:proposal_generator:{11: 7}\n",
      "INFO:proposal_generator:{12: 7}\n",
      "INFO:proposal_generator:{13: 7}\n",
      "INFO:proposal_generator:{9: 8}\n",
      "INFO:proposal_generator:{10: 8}\n",
      "INFO:proposal_generator:{11: 8}\n",
      "INFO:proposal_generator:{12: 8}\n",
      "INFO:proposal_generator:{13: 8}\n",
      "INFO:proposal_generator:{9: 9}\n",
      "INFO:proposal_generator:{10: 9}\n",
      "INFO:proposal_generator:{11: 9}\n",
      "INFO:proposal_generator:{12: 9}\n",
      "INFO:proposal_generator:{13: 9}\n",
      "INFO:proposal_generator:Returning map that best satisfies matching_criterion\n",
      "INFO:proposal_generator:Finding best map using matching_criterion name\n",
      "INFO:proposal_generator:{9: 7}\n"
     ]
    },
    {
     "name": "stdout",
     "output_type": "stream",
     "text": [
      "making topology proposal\n"
     ]
    },
    {
     "name": "stderr",
     "output_type": "stream",
     "text": [
      "INFO:geometry:propose: performing forward proposal\n",
      "INFO:geometry:propose: unique new atoms detected; proceeding to _logp_propose...\n",
      "INFO:geometry:Conducting forward proposal...\n",
      "INFO:geometry:Computing proposal order with NetworkX...\n",
      "INFO:geometry:number of atoms to be placed: 8\n",
      "INFO:geometry:Atom index proposal order is [10, 14, 18, 13, 17, 19, 16, 15]\n",
      "INFO:geometry:omitted_bonds: []\n",
      "INFO:geometry:direction of proposal is forward; creating atoms_with_positions and new positions from old system/topology...\n"
     ]
    },
    {
     "name": "stdout",
     "output_type": "stream",
     "text": [
      "generating geometry engine\n",
      "making geometry proposal from ALA to THR\n"
     ]
    },
    {
     "name": "stderr",
     "output_type": "stream",
     "text": [
      "INFO:geometry:creating growth system...\n",
      "INFO:geometry:\tcreating bond force...\n",
      "INFO:geometry:\tthere are 11 bonds in reference force.\n",
      "INFO:geometry:\tcreating angle force...\n",
      "INFO:geometry:\tthere are 43 angles in reference force.\n",
      "INFO:geometry:\tcreating torsion force...\n",
      "INFO:geometry:\tcreating extra torsions force...\n",
      "INFO:geometry:\tthere are 72 torsions in reference force.\n",
      "INFO:geometry:\tcreating nonbonded force...\n",
      "INFO:geometry:\t\tgrabbing reference nonbonded method, cutoff, switching function, switching distance...\n",
      "INFO:geometry:\t\tcreating nonbonded exception force (i.e. custom bond for 1,4s)...\n",
      "INFO:geometry:\t\tlooping through exceptions calculating growth indices, and adding appropriate interactions to custom bond force.\n",
      "INFO:geometry:\t\tthere are 1654 in the reference Nonbonded force\n",
      "WARNING:geometry:\t\t\t\t\tchiral atom <Atom 8 (CA) of chain 0 residue 1 (THR)> with neighbors [<Atom 9 (HA) of chain 0 residue 1 (THR)>, <Atom 10 (CB) of chain 0 residue 1 (THR)>, <Atom 11 (C) of chain 0 residue 1 (THR)>, <Atom 6 (N) of chain 0 residue 1 (THR)>] is surrounded by 3 core neighbors.  omitting chirality bias torsion\n",
      "INFO:geometry:Neglected angle terms : []\n",
      "INFO:geometry:omitted_growth_terms: {'bonds': [], 'angles': [], 'torsions': [], '1,4s': []}\n",
      "INFO:geometry:extra torsions: {0: (7, 6, 8, 10, [1, Quantity(value=0.9900002084555819, unit=radian), Quantity(value=1200.0, unit=kilocalorie/mole), 1]), 1: (19, 18, 10, 8, [1, Quantity(value=-0.07858019216845058, unit=radian), Quantity(value=1200.0, unit=kilocalorie/mole), 6]), 2: (19, 18, 10, 14, [1, Quantity(value=2.118586571250296, unit=radian), Quantity(value=1200.0, unit=kilocalorie/mole), 6]), 3: (19, 18, 10, 13, [1, Quantity(value=-2.149781203448759, unit=radian), Quantity(value=1200.0, unit=kilocalorie/mole), 6]), 4: (8, 10, 14, 17, [1, Quantity(value=-2.1249532223845904, unit=radian), Quantity(value=1200.0, unit=kilocalorie/mole), 5]), 5: (8, 10, 14, 16, [1, Quantity(value=2.0543043017157916, unit=radian), Quantity(value=1200.0, unit=kilocalorie/mole), 7]), 6: (8, 10, 14, 15, [1, Quantity(value=-0.02223392579985184, unit=radian), Quantity(value=1200.0, unit=kilocalorie/mole), 8]), 7: (18, 10, 14, 17, [1, Quantity(value=2.0255587336734213, unit=radian), Quantity(value=1200.0, unit=kilocalorie/mole), 5]), 8: (18, 10, 14, 16, [1, Quantity(value=-0.07836904940578293, unit=radian), Quantity(value=1200.0, unit=kilocalorie/mole), 7]), 9: (18, 10, 14, 15, [1, Quantity(value=-2.154907276921426, unit=radian), Quantity(value=1200.0, unit=kilocalorie/mole), 8]), 10: (13, 10, 14, 17, [1, Quantity(value=0.007583009583349565, unit=radian), Quantity(value=1200.0, unit=kilocalorie/mole), 5]), 11: (13, 10, 14, 16, [1, Quantity(value=-2.096344773495849, unit=radian), Quantity(value=1200.0, unit=kilocalorie/mole), 7]), 12: (13, 10, 14, 15, [1, Quantity(value=2.1103023061680943, unit=radian), Quantity(value=1200.0, unit=kilocalorie/mole), 8]), 13: (14, 10, 8, 18, [1, Quantity(value=1.0655064807976995, unit=radian), Quantity(value=1200.0, unit=kilocalorie/mole), 3])}\n",
      "INFO:geometry:neglected angle terms include []\n",
      "INFO:geometry:log probability choice of torsions and atom order: -13.553917196274867\n",
      "INFO:geometry:creating platform, integrators, and contexts; setting growth parameter\n"
     ]
    },
    {
     "name": "stdout",
     "output_type": "stream",
     "text": [
      "conducting subsequent work with the following platform: CUDA\n"
     ]
    },
    {
     "name": "stderr",
     "output_type": "stream",
     "text": [
      "INFO:geometry:setting atoms_with_positions context new positions\n",
      "INFO:geometry:There are 8 new atoms\n",
      "INFO:geometry:\treduced angle potential = 1.4169120645718927.\n"
     ]
    },
    {
     "name": "stdout",
     "output_type": "stream",
     "text": [
      "conducting subsequent work with the following platform: CUDA\n"
     ]
    },
    {
     "name": "stderr",
     "output_type": "stream",
     "text": [
      "INFO:geometry:\treduced angle potential = 0.004129303469685462.\n",
      "INFO:geometry:\treduced angle potential = 0.3412824140591729.\n",
      "INFO:geometry:\treduced angle potential = 0.17732794911740912.\n",
      "INFO:geometry:\treduced angle potential = 0.1372330037738588.\n",
      "INFO:geometry:\treduced angle potential = 0.8353184481359984.\n",
      "INFO:geometry:\treduced angle potential = 0.9871864265804583.\n",
      "INFO:geometry:\treduced angle potential = 0.23698030038063744.\n",
      "INFO:geometry:\tbeginning construction of no_nonbonded final system...\n",
      "INFO:geometry:\tinitial no-nonbonded final system forces ['HarmonicBondForce', 'HarmonicAngleForce', 'PeriodicTorsionForce', 'NonbondedForce', 'MonteCarloBarostat']\n",
      "INFO:geometry:\tfinal no-nonbonded final system forces dict_keys(['HarmonicBondForce', 'HarmonicAngleForce', 'PeriodicTorsionForce', 'NonbondedForce'])\n",
      "INFO:geometry:\tthere are 11 bond forces in the no-nonbonded final system\n",
      "INFO:geometry:\tthere are 43 angle forces in the no-nonbonded final system\n",
      "INFO:geometry:\tthere are 72 torsion forces in the no-nonbonded final system\n",
      "INFO:geometry:forward final system defined with 0 neglected angles.\n"
     ]
    },
    {
     "name": "stdout",
     "output_type": "stream",
     "text": [
      "conducting subsequent work with the following platform: CUDA\n"
     ]
    },
    {
     "name": "stderr",
     "output_type": "stream",
     "text": [
      "INFO:geometry:total reduced potential before atom placement: 9.11648114171204\n"
     ]
    },
    {
     "name": "stdout",
     "output_type": "stream",
     "text": [
      "conducting subsequent work with the following platform: CUDA\n",
      "conducting subsequent work with the following platform: CUDA\n",
      "conducting subsequent work with the following platform: CUDA\n"
     ]
    },
    {
     "name": "stderr",
     "output_type": "stream",
     "text": [
      "INFO:geometry:total reduced energy added from growth system: -49.87846927920832\n",
      "INFO:geometry:final reduced energy -40.761991318765546\n",
      "INFO:geometry:sum of energies: -40.761988137496274\n",
      "INFO:geometry:magnitude of difference in the energies: 3.181269264018738e-06\n",
      "INFO:geometry:Final logp_proposal: 59.7627810323571\n"
     ]
    },
    {
     "name": "stdout",
     "output_type": "stream",
     "text": [
      "conducting subsequent work with the following platform: CUDA\n",
      "added energy components: [('CustomBondForce', 1.0890366460932548), ('CustomAngleForce', 6.437309524364383), ('CustomTorsionForce', 18.08914213952858), ('CustomBondForce', -75.49395758919452)]\n"
     ]
    },
    {
     "name": "stderr",
     "output_type": "stream",
     "text": [
      "INFO:geometry:logp_reverse: performing reverse proposal\n",
      "INFO:geometry:logp_reverse: unique new atoms detected; proceeding to _logp_propose...\n",
      "INFO:geometry:Conducting forward proposal...\n",
      "INFO:geometry:Computing proposal order with NetworkX...\n",
      "INFO:geometry:number of atoms to be placed: 4\n",
      "INFO:geometry:Atom index proposal order is [10, 13, 12, 11]\n",
      "INFO:geometry:omitted_bonds: []\n",
      "INFO:geometry:direction of proposal is reverse; creating atoms_with_positions from old system/topology\n",
      "INFO:geometry:creating growth system...\n",
      "INFO:geometry:\tcreating bond force...\n",
      "INFO:geometry:\tthere are 9 bonds in reference force.\n",
      "INFO:geometry:\tcreating angle force...\n",
      "INFO:geometry:\tthere are 36 angles in reference force.\n",
      "INFO:geometry:\tcreating torsion force...\n",
      "INFO:geometry:\tcreating extra torsions force...\n",
      "INFO:geometry:\tthere are 42 torsions in reference force.\n",
      "INFO:geometry:\tcreating nonbonded force...\n",
      "INFO:geometry:\t\tgrabbing reference nonbonded method, cutoff, switching function, switching distance...\n",
      "INFO:geometry:\t\tcreating nonbonded exception force (i.e. custom bond for 1,4s)...\n",
      "INFO:geometry:\t\tlooping through exceptions calculating growth indices, and adding appropriate interactions to custom bond force.\n",
      "INFO:geometry:\t\tthere are 1631 in the reference Nonbonded force\n",
      "WARNING:geometry:\t\t\t\t\tchiral atom <Atom 8 (CA) of chain 0 residue 1 (ALA)> with neighbors [<Atom 9 (HA) of chain 0 residue 1 (ALA)>, <Atom 10 (CB) of chain 0 residue 1 (ALA)>, <Atom 14 (C) of chain 0 residue 1 (ALA)>, <Atom 6 (N) of chain 0 residue 1 (ALA)>] is surrounded by 3 core neighbors.  omitting chirality bias torsion\n",
      "INFO:geometry:Neglected angle terms : []\n",
      "INFO:geometry:omitted_growth_terms: {'bonds': [], 'angles': [], 'torsions': [], '1,4s': []}\n",
      "INFO:geometry:extra torsions: {0: (7, 6, 8, 10, [1, Quantity(value=0.9799661941737812, unit=radian), Quantity(value=1200.0, unit=kilocalorie/mole), 1]), 1: (6, 8, 10, 11, [1, Quantity(value=2.105358864604291, unit=radian), Quantity(value=1200.0, unit=kilocalorie/mole), 4]), 2: (6, 8, 10, 12, [1, Quantity(value=-2.0823006129211796, unit=radian), Quantity(value=1200.0, unit=kilocalorie/mole), 3]), 3: (6, 8, 10, 13, [1, Quantity(value=0.018582237407944735, unit=radian), Quantity(value=1200.0, unit=kilocalorie/mole), 2]), 4: (14, 8, 10, 11, [1, Quantity(value=-0.036945135932107576, unit=radian), Quantity(value=1200.0, unit=kilocalorie/mole), 4]), 5: (14, 8, 10, 12, [1, Quantity(value=2.0585806937220097, unit=radian), Quantity(value=1200.0, unit=kilocalorie/mole), 3]), 6: (14, 8, 10, 13, [1, Quantity(value=-2.1237217631284597, unit=radian), Quantity(value=1200.0, unit=kilocalorie/mole), 2]), 7: (9, 8, 10, 11, [1, Quantity(value=-2.119603470065817, unit=radian), Quantity(value=1200.0, unit=kilocalorie/mole), 4]), 8: (9, 8, 10, 12, [1, Quantity(value=-0.024077640411697132, unit=radian), Quantity(value=1200.0, unit=kilocalorie/mole), 3]), 9: (9, 8, 10, 13, [1, Quantity(value=2.0768052099174152, unit=radian), Quantity(value=1200.0, unit=kilocalorie/mole), 2])}\n",
      "INFO:geometry:neglected angle terms include []\n",
      "INFO:geometry:log probability choice of torsions and atom order: -5.78074351579233\n",
      "INFO:geometry:creating platform, integrators, and contexts; setting growth parameter\n"
     ]
    },
    {
     "name": "stdout",
     "output_type": "stream",
     "text": [
      "conducting subsequent work with the following platform: CUDA\n"
     ]
    },
    {
     "name": "stderr",
     "output_type": "stream",
     "text": [
      "INFO:geometry:setting atoms_with_positions context old positions\n",
      "INFO:geometry:There are 4 new atoms\n",
      "INFO:geometry:\treduced angle potential = 0.08012165173241896.\n"
     ]
    },
    {
     "name": "stdout",
     "output_type": "stream",
     "text": [
      "conducting subsequent work with the following platform: CUDA\n"
     ]
    },
    {
     "name": "stderr",
     "output_type": "stream",
     "text": [
      "INFO:geometry:\treduced angle potential = 7.39096069988752e-11.\n",
      "INFO:geometry:\treduced angle potential = 3.205832446488702e-13.\n",
      "INFO:geometry:\treduced angle potential = 1.2915588460963948e-10.\n",
      "INFO:geometry:\tbeginning construction of no_nonbonded final system...\n",
      "INFO:geometry:\tinitial no-nonbonded final system forces ['HarmonicBondForce', 'HarmonicAngleForce', 'PeriodicTorsionForce', 'NonbondedForce', 'MonteCarloBarostat']\n",
      "INFO:geometry:\tfinal no-nonbonded final system forces dict_keys(['HarmonicBondForce', 'HarmonicAngleForce', 'PeriodicTorsionForce', 'NonbondedForce'])\n",
      "INFO:geometry:\tthere are 9 bond forces in the no-nonbonded final system\n",
      "INFO:geometry:\tthere are 36 angle forces in the no-nonbonded final system\n",
      "INFO:geometry:\tthere are 42 torsion forces in the no-nonbonded final system\n",
      "INFO:geometry:reverse final system defined with 0 neglected angles.\n"
     ]
    },
    {
     "name": "stdout",
     "output_type": "stream",
     "text": [
      "conducting subsequent work with the following platform: CUDA\n"
     ]
    },
    {
     "name": "stderr",
     "output_type": "stream",
     "text": [
      "INFO:geometry:total reduced potential before atom placement: 9.11648114171204\n"
     ]
    },
    {
     "name": "stdout",
     "output_type": "stream",
     "text": [
      "conducting subsequent work with the following platform: CUDA\n",
      "conducting subsequent work with the following platform: CUDA\n",
      "conducting subsequent work with the following platform: CUDA\n"
     ]
    },
    {
     "name": "stderr",
     "output_type": "stream",
     "text": [
      "INFO:geometry:total reduced energy added from growth system: 20.672986672125617\n",
      "INFO:geometry:final reduced energy 29.78946596595156\n",
      "INFO:geometry:sum of energies: 29.789467813837657\n",
      "INFO:geometry:magnitude of difference in the energies: 1.8478860965842614e-06\n",
      "INFO:geometry:Final logp_proposal: -27019.174262826844\n"
     ]
    },
    {
     "name": "stdout",
     "output_type": "stream",
     "text": [
      "conducting subsequent work with the following platform: CUDA\n",
      "added energy components: [('CustomBondForce', 0.000520203927326505), ('CustomAngleForce', 0.4511197756248138), ('CustomTorsionForce', 7.250463328533253), ('CustomBondForce', 12.970883364040223)]\n"
     ]
    },
    {
     "name": "stderr",
     "output_type": "stream",
     "text": [
      "INFO:relative:*** Generating RxnHybridTopologyFactory ***\n",
      "INFO:relative:Beginning nonbonded method, total particle, barostat, and exceptions retrieval...\n",
      "INFO:relative:Old system forces: dict_keys(['HarmonicBondForce', 'HarmonicAngleForce', 'PeriodicTorsionForce', 'NonbondedForce', 'MonteCarloBarostat'])\n",
      "INFO:relative:New system forces: dict_keys(['HarmonicBondForce', 'HarmonicAngleForce', 'PeriodicTorsionForce', 'NonbondedForce', 'MonteCarloBarostat'])\n",
      "INFO:relative:No unknown forces.\n",
      "INFO:relative:Nonbonded method to be used (i.e. from old system): 4\n",
      "INFO:relative:Adding and mapping old atoms to hybrid system...\n",
      "INFO:relative:Adding and mapping new atoms to hybrid system...\n",
      "INFO:relative:scale_templates: [['nonscale_lambda', 'scale_lambda_0', 'interscale_lambda_0'], ['nonscale_region', 'scale_region_0', 'interscale_region_0']]\n",
      "INFO:relative:Added MonteCarloBarostat.\n",
      "INFO:relative:getDefaultPeriodicBoxVectors added to hybrid: [Quantity(value=Vec3(x=2.56477354, y=0.0, z=0.0), unit=nanometer), Quantity(value=Vec3(x=0.0, y=2.56477354, z=0.0), unit=nanometer), Quantity(value=Vec3(x=0.0, y=0.0, z=2.56477354), unit=nanometer)]\n",
      "INFO:relative:Determined atom classes.\n",
      "INFO:relative:Generating old system exceptions dict...\n",
      "INFO:relative:Generating new system exceptions dict...\n",
      "INFO:relative:Handling constraints...\n",
      "INFO:relative:Handling virtual sites...\n",
      "INFO:relative:\t_handle_virtual_sites: numVirtualSites: 0\n"
     ]
    },
    {
     "name": "stdout",
     "output_type": "stream",
     "text": [
      "( nonscale_lambda_bonds * nonscale_region+scale_lambda_0_bonds * scale_region_0+interscale_lambda_0_bonds * interscale_region_0 ) * (K/2)*(r-length)^2;K = ( 1 * environment_region+lambda_0_bonds_old * alchemical_region_0 ) * K1 + ( 1 * environment_region+lambda_0_bonds_new * alchemical_region_0 ) * K2;length = ( 1 * environment_region+lambda_0_bonds_old * alchemical_region_0 ) * length1 + ( 1 * environment_region+lambda_0_bonds_new * alchemical_region_0 ) * length2;\n"
     ]
    }
   ],
   "source": [
    "# Create a htf\n",
    "atp, system_generator = generate_atp(phase = 'solvent')\n",
    "htf = generate_dipeptide_top_pos_sys(atp.topology, \n",
    "                               'THR', \n",
    "                               atp.system, \n",
    "                               atp.positions, \n",
    "                               system_generator,\n",
    "                                rxn_field=True,\n",
    "                               flatten_torsions=True,\n",
    "                               flatten_exceptions=True,\n",
    "                               validate_endstate_energy=False,\n",
    "                                conduct_htf_prop=True, \n",
    "                                scale_regions=[[10, 11, 12, 13, 1557, 1558, 1559, 1560, 1561, 1562, 1563, 1564]])"
   ]
  },
  {
   "cell_type": "code",
   "execution_count": 10,
   "id": "e4f8824e",
   "metadata": {},
   "outputs": [],
   "source": [
    "# Save htf\n",
    "with open(\"atp_solvent_scale_region.pickle\", \"wb\") as f:\n",
    "    pickle.dump(htf, f)"
   ]
  },
  {
   "cell_type": "markdown",
   "id": "3576b206",
   "metadata": {},
   "source": [
    "#### Old system HarmonicBondForce vs hybrid system CustomBondForce"
   ]
  },
  {
   "cell_type": "code",
   "execution_count": 11,
   "id": "f714b6e7",
   "metadata": {},
   "outputs": [],
   "source": [
    "# Load htf\n",
    "with open(\"/home/zhangi/choderalab/perses_benchmark/perses_protein_mutations/code/26_rxn_field/atp_solvent_scale_region.pickle\", \"rb\") as f:\n",
    "    htf = pickle.load(f)"
   ]
  },
  {
   "cell_type": "code",
   "execution_count": 12,
   "id": "fca19e10",
   "metadata": {},
   "outputs": [
    {
     "data": {
      "text/plain": [
       "[10, 11, 12, 13, 1557, 1558, 1559, 1560, 1561, 1562, 1563, 1564]"
      ]
     },
     "execution_count": 12,
     "metadata": {},
     "output_type": "execute_result"
    }
   ],
   "source": [
    "# This is the scale region\n",
    "list(htf._atom_classes['unique_old_atoms'][0]) + list(htf._atom_classes['unique_new_atoms'][0])"
   ]
  },
  {
   "cell_type": "code",
   "execution_count": 13,
   "id": "479adca5",
   "metadata": {},
   "outputs": [
    {
     "name": "stdout",
     "output_type": "stream",
     "text": [
      "Warning: Returning CPU platform instead of requested platform <simtk.openmm.openmm.Platform; proxy of <Swig Object of type 'OpenMM::Platform *' at 0x2b8817b2f030> >\n",
      "conducting subsequent work with the following platform: CPU\n",
      "conducting subsequent work with the following platform: CUDA\n",
      "[('HarmonicBondForce', 0.034783653565214685), ('HarmonicAngleForce', 0.6112775462129015), ('PeriodicTorsionForce', 16.285398289983082), ('NonbondedForce', -998.7187278370578), ('AndersenThermostat', 0.0), ('MonteCarloBarostat', 0.0)]\n",
      "conducting subsequent work with the following platform: CUDA\n",
      "[('CustomBondForce', 1.1311292704376184), ('CustomAngleForce', 0.6112775462128995), ('AndersenThermostat', 0.0), ('MonteCarloBarostat', 0.0)]\n",
      "Success! Custom angle force and standard angle force energies are equal!\n"
     ]
    }
   ],
   "source": [
    "test_angle_energies(htf, is_solvated=True)"
   ]
  },
  {
   "cell_type": "markdown",
   "id": "2e0b009a",
   "metadata": {},
   "source": [
    "#### New system HarmonicBondForce vs hybrid system CustomBondForce"
   ]
  },
  {
   "cell_type": "code",
   "execution_count": 14,
   "id": "a1d202a2",
   "metadata": {},
   "outputs": [],
   "source": [
    "# Load htf\n",
    "with open(\"/home/zhangi/choderalab/perses_benchmark/perses_protein_mutations/code/26_rxn_field/atp_solvent_scale_region.pickle\", \"rb\") as f:\n",
    "    htf = pickle.load(f)"
   ]
  },
  {
   "cell_type": "code",
   "execution_count": 15,
   "id": "3d6aaf36",
   "metadata": {},
   "outputs": [
    {
     "name": "stdout",
     "output_type": "stream",
     "text": [
      "Warning: Returning CPU platform instead of requested platform <simtk.openmm.openmm.Platform; proxy of <Swig Object of type 'OpenMM::Platform *' at 0x2b8817b2f030> >\n",
      "conducting subsequent work with the following platform: CPU\n",
      "conducting subsequent work with the following platform: CUDA\n",
      "[('HarmonicBondForce', 1.1306055752088155), ('HarmonicAngleForce', 6.637643065078332), ('PeriodicTorsionForce', 27.196819628622556), ('NonbondedForce', -291.0292057841858), ('AndersenThermostat', 0.0), ('MonteCarloBarostat', 0.0)]\n",
      "conducting subsequent work with the following platform: CUDA\n",
      "[('CustomBondForce', 1.1311292704376184), ('CustomAngleForce', 6.637643065078238), ('AndersenThermostat', 0.0), ('MonteCarloBarostat', 0.0)]\n",
      "Success! Custom angle force and standard angle force energies are equal!\n",
      "conducting subsequent work with the following platform: CUDA\n",
      "[('CustomBondForce', 1.1311292704376184), ('CustomAngleForce', 7.09179049020389), ('AndersenThermostat', 0.0), ('MonteCarloBarostat', 0.0)]\n",
      "conducting subsequent work with the following platform: CUDA\n",
      "[('CustomBondForce', 1.1311292704376184), ('CustomAngleForce', 3.6244603056455693), ('AndersenThermostat', 0.0), ('MonteCarloBarostat', 0.0)]\n",
      "Success! Scaling the angle force changes the energy\n"
     ]
    }
   ],
   "source": [
    "test_angle_energies(htf, is_old=False, is_solvated=True, check_scale=True)"
   ]
  },
  {
   "cell_type": "code",
   "execution_count": null,
   "id": "95bc995d",
   "metadata": {},
   "outputs": [],
   "source": []
  },
  {
   "cell_type": "markdown",
   "id": "dd3a6ebd",
   "metadata": {},
   "source": [
    "# CDK2 transformation in solvent"
   ]
  },
  {
   "cell_type": "code",
   "execution_count": 47,
   "id": "0007ff9b",
   "metadata": {},
   "outputs": [
    {
     "name": "stdout",
     "output_type": "stream",
     "text": [
      "conducting subsequent work with the following platform: CUDA\n",
      "conducting subsequent work with the following platform: CUDA\n",
      "conducting subsequent work with the following platform: CUDA\n"
     ]
    }
   ],
   "source": [
    "import os\n",
    "from pkg_resources import resource_filename\n",
    "from perses.app import setup_relative_calculation\n",
    "import pickle"
   ]
  },
  {
   "cell_type": "code",
   "execution_count": 61,
   "id": "afad5b52",
   "metadata": {
    "scrolled": true
   },
   "outputs": [
    {
     "name": "stderr",
     "output_type": "stream",
     "text": [
      "2021-05-04 18:06:08,378:(5.12s):root:\tDetecting phases...\n",
      "2021-05-04 18:06:08,382:(0.00s):root:\t\tphases detected: ['complex', 'solvent', 'vacuum']\n",
      "2021-05-04 18:06:08,385:(0.00s):root:No constraints will be removed\n",
      "2021-05-04 18:06:08,388:(0.00s):root:No spectators\n",
      "2021-05-04 18:06:08,391:(0.00s):root:\t\t\trun_type is not specified; default to None\n",
      "2021-05-04 18:06:08,392:(0.00s):root:\tDetecting fe_type...\n",
      "2021-05-04 18:06:08,393:(0.00s):root:\t\tfe_type: repex\n",
      "2021-05-04 18:06:08,394:(0.00s):root:\t\t\toffline-freq not specified: default to 10.\n",
      "2021-05-04 18:06:08,401:(0.01s):root:\t'neglect_angles' detected: False.\n",
      "2021-05-04 18:06:08,402:(0.00s):root:\t'softcore_v2' not specified: default to 'False'\n",
      "2021-05-04 18:06:08,403:(0.00s):root:\tCreating 'output'...\n",
      "2021-05-04 18:06:08,412:(0.01s):root:\tdetected ligand file: /home/zhangi/miniconda3/envs/perses-rxn-field/lib/python3.8/site-packages/perses-0.8.2.dev0-py3.8.egg/perses/data/cdk2-example/CDK2_ligands.sdf\n",
      "2021-05-04 18:06:08,413:(0.00s):root:\told ligand index: 14; new ligand index: 15\n",
      "2021-05-04 18:06:08,413:(0.00s):root:\tsetting up forcefield files...\n",
      "2021-05-04 18:06:08,414:(0.00s):root:\tno timestep detected: setting default as 1.0fs.\n",
      "2021-05-04 18:06:08,415:(0.00s):root:\tno splitting strings specified: defaulting to neq: V R O R V, eq: V R O R V.\n",
      "2021-05-04 18:06:08,416:(0.00s):root:\tno measure_shadow_work specified: defaulting to False.\n",
      "2021-05-04 18:06:08,417:(0.00s):root:\tsetting pressure: 1.0 atm.\n",
      "2021-05-04 18:06:08,418:(0.00s):root:\tsetting temperature: 300.0 K.\n",
      "2021-05-04 18:06:08,419:(0.00s):root:\tsetting solvent padding: 9.0 AA.\n",
      "2021-05-04 18:06:08,419:(0.00s):root:\tsetting ionic strength: 0.15 MM.\n",
      "2021-05-04 18:06:08,420:(0.00s):root:\tsetup pickle file: fesetup_hbonds.pkl\n",
      "2021-05-04 18:06:08,421:(0.00s):root:\ttrajectory directory: output\n",
      "2021-05-04 18:06:08,422:(0.00s):root:\tno atom map specified: default to None.\n",
      "2021-05-04 18:06:08,422:(0.00s):root:\tno topology_proposal specified; proceeding to RelativeFEPSetup...\n",
      "\n",
      "\n",
      "\n",
      "2021-05-04 18:06:08,423:(0.00s):root:Box dimensions: None and None\n",
      "2021-05-04 18:06:08,424:(0.00s):relative_setup:\t\t\t_hmass: 4 Da.\n",
      "\n",
      "2021-05-04 18:06:08,425:(0.00s):relative_setup:Setting non bonded method to PME\n",
      "2021-05-04 18:06:08,425:(0.00s):relative_setup:Handling files for ligands and indices...\n",
      "2021-05-04 18:06:08,426:(0.00s):relative_setup:Detected .sdf format.  Proceeding...\n",
      "2021-05-04 18:06:08,433:(0.01s):utils.openeye:molecule 17                      does not have unique atom names. Generating now...\n",
      "2021-05-04 18:06:08,454:(0.02s):utils.openeye:molecule 1h1q                      does not have unique atom names. Generating now...\n",
      "2021-05-04 18:06:08,458:(0.00s):relative_setup:\tsuccessfully extracted positions from OEMOL.\n",
      "2021-05-04 18:06:08,459:(0.00s):relative_setup:\tsetting both molecule oemol titles to 'MOL'.\n",
      "2021-05-04 18:06:08,460:(0.00s):relative_setup:\tsuccessfully created SMILES for both ligand OEMOLs.\n",
      "2021-05-04 18:06:08,463:(0.00s):relative_setup:\tsuccessfully generated topologies for both OEMOLs.\n",
      "2021-05-04 18:06:08,477:(0.01s):relative_setup:Created mdtraj topologies for both ligands.\n",
      "2021-05-04 18:06:08,478:(0.00s):relative_setup:set MonteCarloBarostat because pressure was specified as 1.0 atm atmospheres\n",
      "2021-05-04 18:06:08,490:(0.01s):relative_setup:PME tolerance: 0.00025\n",
      "2021-05-04 18:06:08,546:(0.06s):relative_setup:successfully created SystemGenerator to create ligand systems\n",
      "2021-05-04 18:06:08,548:(0.00s):relative_setup:executing SmallMoleculeSetProposalEngine...\n",
      "2021-05-04 18:06:08,551:(0.00s):relative_setup:instantiating FFAllAngleGeometryEngine...\n",
      "2021-05-04 18:06:08,553:(0.00s):relative_setup:Detected solvent...\n",
      "2021-05-04 18:06:08,555:(0.00s):relative_setup:no complex detected in phases...generating unique topology/geometry proposals...\n",
      "2021-05-04 18:06:08,557:(0.00s):relative_setup:solvating ligand...\n",
      "2021-05-04 18:06:08,559:(0.00s):relative_setup:box_dimensions: None\n",
      "2021-05-04 18:06:08,561:(0.00s):relative_setup:solvent padding: 9.0\n",
      "2021-05-04 18:06:08,563:(0.00s):relative_setup:\tpreparing to add solvent\n",
      "2021-05-04 18:06:08,784:(0.22s):openmmforcefields.generators.template_generators:Requested to generate parameters for residue <Residue 0 (MOL) of chain 0>\n",
      "2021-05-04 18:06:09,220:(0.44s):relative_setup:\tparameterizing...\n",
      "2021-05-04 18:06:09,403:(0.18s):relative_setup:\tSystem parameterized\n",
      "2021-05-04 18:06:09,442:(0.04s):relative_setup:creating TopologyProposal\n",
      "2021-05-04 18:06:09,445:(0.00s):proposal_generator:creating current receptor topology by removing small molecule from current topology...\n",
      "2021-05-04 18:06:09,455:(0.01s):proposal_generator:small molecule start index: 0\n",
      "2021-05-04 18:06:09,457:(0.00s):proposal_generator:small molecule has 45 atoms.\n",
      "2021-05-04 18:06:09,459:(0.00s):proposal_generator:old alchemical atom indices: range(0, 45)\n",
      "2021-05-04 18:06:09,460:(0.00s):proposal_generator:proposed mol detected with smiles [H]c1c(c(c(c(c1[H])[H])N([H])c2nc3c(c(n2)OC([H])([H])C4(C(C(C(C(C4([H])[H])([H])[H])([H])[H])([H])[H])([H])[H])[H])nc(n3[H])[H])[H])[H] and logp_proposal of 0.0\n",
      "2021-05-04 18:06:09,462:(0.00s):proposal_generator:conducting proposal from [H]c1c(c(c(c(c1[H])Br)[H])N([H])c2nc3c(c(n2)OC([H])([H])C4(C(C(C(C(C4([H])[H])([H])[H])([H])[H])([H])[H])([H])[H])[H])nc(n3[H])[H])[H] to [H]c1c(c(c(c(c1[H])[H])N([H])c2nc3c(c(n2)OC([H])([H])C4(C(C(C(C(C4([H])[H])([H])[H])([H])[H])([H])[H])([H])[H])[H])nc(n3[H])[H])[H])[H]...\n",
      "2021-05-04 18:06:09,464:(0.00s):proposal_generator:building new topology with proposed molecule and current receptor topology...\n",
      "2021-05-04 18:06:09,465:(0.00s):proposal_generator:\tsetting proposed oemol title to MOL\n",
      "2021-05-04 18:06:09,467:(0.00s):proposal_generator:\tcreating mol topology from oemol...\n",
      "2021-05-04 18:06:09,469:(0.00s):proposal_generator:\tappending current receptor topology to new mol topology...\n",
      "2021-05-04 18:06:09,480:(0.01s):proposal_generator:\tperiodic box vectors of the current receptor is specified; copying to new topology...\n",
      "2021-05-04 18:06:09,482:(0.00s):proposal_generator:new molecule has a start index of 2152 and 45 atoms.\n",
      "2021-05-04 18:06:09,484:(0.00s):proposal_generator:proceeding to build the new system from the new topology...\n",
      "2021-05-04 18:06:09,511:(0.03s):openmmforcefields.generators.template_generators:Requested to generate parameters for residue <Residue 720 (MOL) of chain 3>\n",
      "2021-05-04 18:06:09,696:(0.19s):proposal_generator:determining atom map between old and new molecules...\n",
      "2021-05-04 18:06:09,699:(0.00s):proposal_generator:the atom map is not specified; proceeding to generate an atom map...\n",
      "2021-05-04 18:06:09,700:(0.00s):proposal_generator:Using geometry to chose best atom map\n",
      "2021-05-04 18:06:09,710:(0.01s):proposal_generator:Scaffold has symmetry of 4\n",
      "2021-05-04 18:06:09,712:(0.00s):proposal_generator:There are 4 before filtering\n",
      "2021-05-04 18:06:09,713:(0.00s):proposal_generator:There are 4 after filtering to remove maps with fewer matches than 24 atoms\n",
      "2021-05-04 18:06:09,719:(0.01s):proposal_generator:1 scaffold maps for A\n",
      "2021-05-04 18:06:09,721:(0.00s):proposal_generator:Scaffold to molA: {0: 0, 1: 1, 2: 2, 3: 3, 8: 4, 7: 5, 6: 6, 5: 7, 4: 8, 11: 9, 10: 10, 9: 11, 23: 12, 13: 13, 14: 14, 15: 15, 16: 16, 17: 17, 18: 18, 19: 19, 20: 20, 21: 21, 22: 22, 12: 23}\n",
      "2021-05-04 18:06:09,726:(0.01s):proposal_generator:1 scaffold maps for B\n",
      "2021-05-04 18:06:09,728:(0.00s):proposal_generator:Scaffold to molB: {0: 0, 1: 1, 2: 2, 3: 3, 8: 4, 7: 5, 6: 6, 5: 7, 4: 8, 11: 9, 10: 10, 9: 11, 23: 12, 13: 13, 14: 14, 15: 15, 16: 16, 17: 17, 18: 18, 19: 19, 20: 20, 21: 21, 22: 22, 12: 23}\n",
      "2021-05-04 18:06:11,834:(2.11s):proposal_generator:4 maps are reduced to 1\n",
      "2021-05-04 18:06:11,837:(0.00s):proposal_generator:molecule_maps_scores: dict_keys([19.8560123167367])\n",
      "2021-05-04 18:06:11,839:(0.00s):proposal_generator:Returning map with closest geometry satisfaction\n",
      "2021-05-04 18:06:11,943:(0.10s):proposal_generator:Proposed transformation would delete 1 atoms and create 1 atoms.\n",
      "2021-05-04 18:06:11,945:(0.00s):relative_setup:conducting geometry proposal...\n",
      "2021-05-04 18:06:11,947:(0.00s):geometry:propose: performing forward proposal\n",
      "2021-05-04 18:06:11,948:(0.00s):geometry:propose: unique new atoms detected; proceeding to _logp_propose...\n"
     ]
    },
    {
     "name": "stderr",
     "output_type": "stream",
     "text": [
      "2021-05-04 18:06:11,950:(0.00s):geometry:Conducting forward proposal...\n",
      "2021-05-04 18:06:11,952:(0.00s):geometry:Computing proposal order with NetworkX...\n",
      "2021-05-04 18:06:11,961:(0.01s):geometry:number of atoms to be placed: 1\n",
      "2021-05-04 18:06:11,964:(0.00s):geometry:Atom index proposal order is [2190]\n",
      "2021-05-04 18:06:11,965:(0.00s):geometry:omitted_bonds: []\n",
      "2021-05-04 18:06:11,967:(0.00s):geometry:direction of proposal is forward; creating atoms_with_positions and new positions from old system/topology...\n",
      "2021-05-04 18:06:12,166:(0.20s):geometry:creating growth system...\n",
      "2021-05-04 18:06:12,224:(0.06s):geometry:\tcreating bond force...\n",
      "2021-05-04 18:06:12,227:(0.00s):geometry:\tthere are 27 bonds in reference force.\n",
      "2021-05-04 18:06:12,229:(0.00s):geometry:\tcreating angle force...\n",
      "2021-05-04 18:06:12,230:(0.00s):geometry:\tthere are 85 angles in reference force.\n",
      "2021-05-04 18:06:12,233:(0.00s):geometry:\tcreating torsion force...\n",
      "2021-05-04 18:06:12,235:(0.00s):geometry:\tcreating extra torsions force...\n",
      "2021-05-04 18:06:12,236:(0.00s):geometry:\tthere are 157 torsions in reference force.\n",
      "2021-05-04 18:06:12,239:(0.00s):geometry:\tcreating nonbonded force...\n",
      "2021-05-04 18:06:12,241:(0.00s):geometry:\t\tgrabbing reference nonbonded method, cutoff, switching function, switching distance...\n",
      "2021-05-04 18:06:12,242:(0.00s):geometry:\t\tcreating nonbonded exception force (i.e. custom bond for 1,4s)...\n",
      "2021-05-04 18:06:12,244:(0.00s):geometry:\t\tlooping through exceptions calculating growth indices, and adding appropriate interactions to custom bond force.\n",
      "2021-05-04 18:06:12,246:(0.00s):geometry:\t\tthere are 2395 in the reference Nonbonded force\n",
      "2021-05-04 18:06:12,298:(0.05s):geometry:Neglected angle terms : []\n",
      "2021-05-04 18:06:12,301:(0.00s):geometry:omitted_growth_terms: {'bonds': [], 'angles': [], 'torsions': [], '1,4s': []}\n",
      "2021-05-04 18:06:12,302:(0.00s):geometry:extra torsions: {0: (2190, 2161, 2162, 2163, [1, Quantity(value=-0.019594642035228205, unit=radian), Quantity(value=1200.0, unit=kilocalorie/mole), 1]), 1: (2190, 2161, 2162, 2191, [1, Quantity(value=-3.1361896196768977, unit=radian), Quantity(value=1200.0, unit=kilocalorie/mole), 1]), 2: (2190, 2161, 2175, 2174, [1, Quantity(value=-0.008871224163264912, unit=radian), Quantity(value=1200.0, unit=kilocalorie/mole), 1]), 3: (2190, 2161, 2175, 2196, [1, Quantity(value=3.1405837865634907, unit=radian), Quantity(value=1200.0, unit=kilocalorie/mole), 1])}\n",
      "2021-05-04 18:06:12,304:(0.00s):geometry:neglected angle terms include []\n",
      "2021-05-04 18:06:12,306:(0.00s):geometry:log probability choice of torsions and atom order: -1.3862943611198906\n",
      "2021-05-04 18:06:12,307:(0.00s):geometry:creating platform, integrators, and contexts; setting growth parameter\n"
     ]
    },
    {
     "name": "stdout",
     "output_type": "stream",
     "text": [
      "conducting subsequent work with the following platform: CUDA\n"
     ]
    },
    {
     "name": "stderr",
     "output_type": "stream",
     "text": [
      "2021-05-04 18:06:12,768:(0.46s):geometry:setting atoms_with_positions context new positions\n",
      "2021-05-04 18:06:13,135:(0.37s):geometry:There are 1 new atoms\n"
     ]
    },
    {
     "name": "stdout",
     "output_type": "stream",
     "text": [
      "conducting subsequent work with the following platform: CUDA\n"
     ]
    },
    {
     "name": "stderr",
     "output_type": "stream",
     "text": [
      "2021-05-04 18:06:13,150:(0.01s):geometry:\treduced angle potential = 1.816523599898064.\n",
      "2021-05-04 18:06:13,255:(0.11s):geometry:\tbeginning construction of no_nonbonded final system...\n",
      "2021-05-04 18:06:13,258:(0.00s):geometry:\tinitial no-nonbonded final system forces ['HarmonicBondForce', 'HarmonicAngleForce', 'PeriodicTorsionForce', 'NonbondedForce', 'MonteCarloBarostat']\n",
      "2021-05-04 18:06:13,376:(0.12s):geometry:\tfinal no-nonbonded final system forces dict_keys(['HarmonicBondForce', 'HarmonicAngleForce', 'PeriodicTorsionForce', 'NonbondedForce'])\n",
      "2021-05-04 18:06:13,378:(0.00s):geometry:\tthere are 27 bond forces in the no-nonbonded final system\n",
      "2021-05-04 18:06:13,380:(0.00s):geometry:\tthere are 85 angle forces in the no-nonbonded final system\n",
      "2021-05-04 18:06:13,382:(0.00s):geometry:\tthere are 157 torsion forces in the no-nonbonded final system\n",
      "2021-05-04 18:06:13,383:(0.00s):geometry:forward final system defined with 0 neglected angles.\n"
     ]
    },
    {
     "name": "stdout",
     "output_type": "stream",
     "text": [
      "conducting subsequent work with the following platform: CUDA\n",
      "conducting subsequent work with the following platform: CUDA\n"
     ]
    },
    {
     "name": "stderr",
     "output_type": "stream",
     "text": [
      "2021-05-04 18:06:14,253:(0.87s):geometry:total reduced potential before atom placement: 48.41967204742058\n"
     ]
    },
    {
     "name": "stdout",
     "output_type": "stream",
     "text": [
      "conducting subsequent work with the following platform: CUDA\n",
      "conducting subsequent work with the following platform: CUDA\n",
      "conducting subsequent work with the following platform: CUDA\n",
      "added energy components: [('CustomBondForce', 0.0), ('CustomAngleForce', 3.826329053843494), ('CustomTorsionForce', 0.040913982216931384), ('CustomBondForce', 7.786639900105338)]\n"
     ]
    },
    {
     "name": "stderr",
     "output_type": "stream",
     "text": [
      "2021-05-04 18:06:15,288:(1.04s):geometry:total reduced energy added from growth system: 11.653882936165763\n",
      "2021-05-04 18:06:15,290:(0.00s):geometry:final reduced energy 60.07355424308631\n",
      "2021-05-04 18:06:15,292:(0.00s):geometry:sum of energies: 60.07355498358635\n",
      "2021-05-04 18:06:15,294:(0.00s):geometry:magnitude of difference in the energies: 7.405000328475353e-07\n",
      "2021-05-04 18:06:15,295:(0.00s):geometry:Final logp_proposal: 6.464971325349638\n",
      "2021-05-04 18:06:15,404:(0.11s):geometry:logp_reverse: performing reverse proposal\n",
      "2021-05-04 18:06:15,407:(0.00s):geometry:logp_reverse: unique new atoms detected; proceeding to _logp_propose...\n",
      "2021-05-04 18:06:15,408:(0.00s):geometry:Conducting forward proposal...\n",
      "2021-05-04 18:06:15,410:(0.00s):geometry:Computing proposal order with NetworkX...\n",
      "2021-05-04 18:06:15,421:(0.01s):geometry:number of atoms to be placed: 1\n",
      "2021-05-04 18:06:15,423:(0.00s):geometry:Atom index proposal order is [44]\n",
      "2021-05-04 18:06:15,425:(0.00s):geometry:omitted_bonds: []\n",
      "2021-05-04 18:06:15,426:(0.00s):geometry:direction of proposal is reverse; creating atoms_with_positions from old system/topology\n",
      "2021-05-04 18:06:15,572:(0.15s):geometry:creating growth system...\n",
      "2021-05-04 18:06:15,619:(0.05s):geometry:\tcreating bond force...\n",
      "2021-05-04 18:06:15,621:(0.00s):geometry:\tthere are 28 bonds in reference force.\n",
      "2021-05-04 18:06:15,623:(0.00s):geometry:\tcreating angle force...\n",
      "2021-05-04 18:06:15,625:(0.00s):geometry:\tthere are 85 angles in reference force.\n",
      "2021-05-04 18:06:15,627:(0.00s):geometry:\tcreating torsion force...\n",
      "2021-05-04 18:06:15,629:(0.00s):geometry:\tcreating extra torsions force...\n",
      "2021-05-04 18:06:15,631:(0.00s):geometry:\tthere are 157 torsions in reference force.\n",
      "2021-05-04 18:06:15,633:(0.00s):geometry:\tcreating nonbonded force...\n",
      "2021-05-04 18:06:15,635:(0.00s):geometry:\t\tgrabbing reference nonbonded method, cutoff, switching function, switching distance...\n",
      "2021-05-04 18:06:15,637:(0.00s):geometry:\t\tcreating nonbonded exception force (i.e. custom bond for 1,4s)...\n",
      "2021-05-04 18:06:15,638:(0.00s):geometry:\t\tlooping through exceptions calculating growth indices, and adding appropriate interactions to custom bond force.\n",
      "2021-05-04 18:06:15,640:(0.00s):geometry:\t\tthere are 2395 in the reference Nonbonded force\n",
      "2021-05-04 18:06:15,694:(0.05s):geometry:Neglected angle terms : []\n",
      "2021-05-04 18:06:15,696:(0.00s):geometry:omitted_growth_terms: {'bonds': [], 'angles': [], 'torsions': [], '1,4s': []}\n",
      "2021-05-04 18:06:15,698:(0.00s):geometry:extra torsions: {0: (9, 10, 11, 44, [1, Quantity(value=0.017128570696415935, unit=radian), Quantity(value=1200.0, unit=kilocalorie/mole), 1]), 1: (39, 10, 11, 44, [1, Quantity(value=3.1337857477223063, unit=radian), Quantity(value=1200.0, unit=kilocalorie/mole), 1]), 2: (44, 11, 12, 22, [1, Quantity(value=0.00863885124394681, unit=radian), Quantity(value=1200.0, unit=kilocalorie/mole), 1]), 3: (44, 11, 12, 40, [1, Quantity(value=-3.1382699121359634, unit=radian), Quantity(value=1200.0, unit=kilocalorie/mole), 1])}\n",
      "2021-05-04 18:06:15,699:(0.00s):geometry:neglected angle terms include []\n",
      "2021-05-04 18:06:15,701:(0.00s):geometry:log probability choice of torsions and atom order: -1.3862943611198906\n",
      "2021-05-04 18:06:15,703:(0.00s):geometry:creating platform, integrators, and contexts; setting growth parameter\n"
     ]
    },
    {
     "name": "stdout",
     "output_type": "stream",
     "text": [
      "conducting subsequent work with the following platform: CUDA\n"
     ]
    },
    {
     "name": "stderr",
     "output_type": "stream",
     "text": [
      "2021-05-04 18:06:16,166:(0.46s):geometry:setting atoms_with_positions context old positions\n",
      "2021-05-04 18:06:16,519:(0.35s):geometry:There are 1 new atoms\n",
      "2021-05-04 18:06:16,524:(0.00s):geometry:\treduced angle potential = 0.03380441319981336.\n"
     ]
    },
    {
     "name": "stdout",
     "output_type": "stream",
     "text": [
      "conducting subsequent work with the following platform: CUDA\n"
     ]
    },
    {
     "name": "stderr",
     "output_type": "stream",
     "text": [
      "2021-05-04 18:06:16,633:(0.11s):geometry:\tbeginning construction of no_nonbonded final system...\n",
      "2021-05-04 18:06:16,635:(0.00s):geometry:\tinitial no-nonbonded final system forces ['HarmonicBondForce', 'HarmonicAngleForce', 'PeriodicTorsionForce', 'NonbondedForce', 'MonteCarloBarostat']\n",
      "2021-05-04 18:06:16,755:(0.12s):geometry:\tfinal no-nonbonded final system forces dict_keys(['HarmonicBondForce', 'HarmonicAngleForce', 'PeriodicTorsionForce', 'NonbondedForce'])\n",
      "2021-05-04 18:06:16,757:(0.00s):geometry:\tthere are 28 bond forces in the no-nonbonded final system\n",
      "2021-05-04 18:06:16,759:(0.00s):geometry:\tthere are 85 angle forces in the no-nonbonded final system\n",
      "2021-05-04 18:06:16,760:(0.00s):geometry:\tthere are 157 torsion forces in the no-nonbonded final system\n",
      "2021-05-04 18:06:16,762:(0.00s):geometry:reverse final system defined with 0 neglected angles.\n"
     ]
    },
    {
     "name": "stdout",
     "output_type": "stream",
     "text": [
      "conducting subsequent work with the following platform: CUDA\n"
     ]
    },
    {
     "name": "stderr",
     "output_type": "stream",
     "text": [
      "2021-05-04 18:06:17,617:(0.86s):geometry:total reduced potential before atom placement: 48.41899607369698\n"
     ]
    },
    {
     "name": "stdout",
     "output_type": "stream",
     "text": [
      "conducting subsequent work with the following platform: CUDA\n",
      "conducting subsequent work with the following platform: CUDA\n",
      "conducting subsequent work with the following platform: CUDA\n",
      "conducting subsequent work with the following platform: CUDA\n",
      "added energy components: [('CustomBondForce', 0.0879842954280575), ('CustomAngleForce', 0.04605409749261916), ('CustomTorsionForce', 0.005423562569706604), ('CustomBondForce', -5.1962986311777435)]\n"
     ]
    },
    {
     "name": "stderr",
     "output_type": "stream",
     "text": [
      "2021-05-04 18:06:18,684:(1.07s):geometry:total reduced energy added from growth system: -5.056836675687361\n",
      "2021-05-04 18:06:18,686:(0.00s):geometry:final reduced energy 43.36216011253515\n",
      "2021-05-04 18:06:18,688:(0.00s):geometry:sum of energies: 43.362159398009624\n",
      "2021-05-04 18:06:18,690:(0.00s):geometry:magnitude of difference in the energies: 7.145255302987152e-07\n",
      "2021-05-04 18:06:18,691:(0.00s):geometry:Final logp_proposal: 11.810926163885583\n",
      "2021-05-04 18:06:18,817:(0.13s):root:\twriting pickle output...\n",
      "2021-05-04 18:06:19,211:(0.39s):root:\tsuccessfully dumped pickle.\n",
      "2021-05-04 18:06:19,215:(0.00s):root:\tsetup is complete.  Writing proposals and positions for each phase to top_prop dict...\n",
      "2021-05-04 18:06:19,217:(0.00s):root:\twriting atom_mapping.png\n",
      "2021-05-04 18:06:19,267:(0.05s):root:\t steps per move application: 50\n",
      "2021-05-04 18:06:19,270:(0.00s):root:\ttrajectory prefix: out\n",
      "2021-05-04 18:06:19,271:(0.00s):root:\tatom selection detected: not water\n",
      "2021-05-04 18:06:19,273:(0.00s):root:\tno nonequilibrium detected.\n",
      "2021-05-04 18:06:19,275:(0.00s):root:\tcataloging HybridTopologyFactories...\n",
      "2021-05-04 18:06:19,276:(0.00s):root:\t\tphase: solvent:\n",
      "2021-05-04 18:06:19,278:(0.00s):root:\t\twriting HybridTopologyFactory for phase solvent...\n",
      "2021-05-04 18:06:19,279:(0.00s):relative:*** Generating RxnHybridTopologyFactory ***\n",
      "2021-05-04 18:06:19,281:(0.00s):relative:Beginning nonbonded method, total particle, barostat, and exceptions retrieval...\n",
      "2021-05-04 18:06:19,338:(0.06s):relative:Old system forces: dict_keys(['HarmonicBondForce', 'HarmonicAngleForce', 'PeriodicTorsionForce', 'NonbondedForce', 'MonteCarloBarostat'])\n",
      "2021-05-04 18:06:19,340:(0.00s):relative:New system forces: dict_keys(['HarmonicBondForce', 'HarmonicAngleForce', 'PeriodicTorsionForce', 'NonbondedForce', 'MonteCarloBarostat'])\n",
      "2021-05-04 18:06:19,342:(0.00s):relative:No unknown forces.\n",
      "2021-05-04 18:06:19,344:(0.00s):relative:Nonbonded method to be used (i.e. from old system): 4\n",
      "2021-05-04 18:06:19,345:(0.00s):relative:Adding and mapping old atoms to hybrid system...\n",
      "2021-05-04 18:06:19,366:(0.02s):relative:Adding and mapping new atoms to hybrid system...\n",
      "2021-05-04 18:06:19,368:(0.00s):relative:scale_templates: [['nonscale_lambda'], ['nonscale_region']]\n",
      "2021-05-04 18:06:19,370:(0.00s):relative:Added MonteCarloBarostat.\n",
      "2021-05-04 18:06:19,372:(0.00s):relative:getDefaultPeriodicBoxVectors added to hybrid: [Quantity(value=Vec3(x=2.875229835510254, y=0.0, z=0.0), unit=nanometer), Quantity(value=Vec3(x=0.0, y=2.875229835510254, z=0.0), unit=nanometer), Quantity(value=Vec3(x=0.0, y=0.0, z=2.875229835510254), unit=nanometer)]\n",
      "2021-05-04 18:06:19,374:(0.00s):relative:Determined atom classes.\n",
      "2021-05-04 18:06:19,376:(0.00s):relative:Generating old system exceptions dict...\n",
      "2021-05-04 18:06:19,389:(0.01s):relative:Generating new system exceptions dict...\n",
      "2021-05-04 18:06:19,409:(0.02s):relative:Handling constraints...\n",
      "2021-05-04 18:06:19,454:(0.05s):relative:Handling virtual sites...\n",
      "2021-05-04 18:06:19,458:(0.00s):relative:\t_handle_virtual_sites: numVirtualSites: 0\n",
      "2021-05-04 18:06:19,515:(0.06s):root:'use_given_geometries' was passed to setup; skipping endstate validation\n",
      "2021-05-04 18:06:19,518:(0.00s):root:omitting sampler construction\n"
     ]
    }
   ],
   "source": [
    "# Create a htf\n",
    "setup_directory = resource_filename(\"perses\", \"data/cdk2-example\")\n",
    "\n",
    "# Get options\n",
    "from perses.app.setup_relative_calculation import getSetupOptions\n",
    "yaml_filename = os.path.join(setup_directory, \"cdk2_setup_repex.yaml\")\n",
    "setup_options = getSetupOptions(yaml_filename)\n",
    "\n",
    "# Update options\n",
    "for parameter in ['protein_pdb', 'ligand_file']:\n",
    "    setup_options[parameter] = os.path.join(setup_directory, setup_options[parameter])\n",
    "    \n",
    "setup_options['rxn_field'] = True\n",
    "setup_options['phases'] = ['solvent']\n",
    "setup_options['scale_regions'] = None\n",
    "setup_options['validate_endstate_energies'] = False\n",
    "    \n",
    "setup_dict = setup_relative_calculation.run_setup(setup_options, serialize_systems=False, build_samplers=False)"
   ]
  },
  {
   "cell_type": "code",
   "execution_count": 62,
   "id": "03f43952",
   "metadata": {},
   "outputs": [
    {
     "data": {
      "text/plain": [
       "{'protein_pdb': '/home/zhangi/miniconda3/envs/perses-rxn-field/lib/python3.8/site-packages/perses-0.8.2.dev0-py3.8.egg/perses/data/cdk2-example/CDK2_fixed_nohet.pdb',\n",
       " 'ligand_file': '/home/zhangi/miniconda3/envs/perses-rxn-field/lib/python3.8/site-packages/perses-0.8.2.dev0-py3.8.egg/perses/data/cdk2-example/CDK2_ligands.sdf',\n",
       " 'old_ligand_index': 14,\n",
       " 'new_ligand_index': 15,\n",
       " 'forcefield_files': ['amber/protein.ff14SB.xml',\n",
       "  'amber/tip3p_standard.xml',\n",
       "  'amber/tip3p_HFE_multivalent.xml'],\n",
       " 'small_molecule_forcefield': 'gaff-2.11',\n",
       " 'small_molecule_parameters_cache': 'cdk2-cache.json',\n",
       " 'pressure': 1.0,\n",
       " 'temperature': 300.0,\n",
       " 'solvent_padding': 9.0,\n",
       " 'save_setup_pickle_as': 'fesetup_hbonds.pkl',\n",
       " 'n_steps_per_move_application': 50,\n",
       " 'fe_type': 'repex',\n",
       " 'checkpoint_interval': 250,\n",
       " 'n_cycles': 2,\n",
       " 'n_states': 6,\n",
       " 'n_equilibration_iterations': 0,\n",
       " 'trajectory_directory': 'output',\n",
       " 'trajectory_prefix': 'out',\n",
       " 'atom_selection': 'not water',\n",
       " 'phases': ['solvent'],\n",
       " 'protocol-type': 'default',\n",
       " 'ionic_strength': 0.15,\n",
       " 'remove_constraints': False,\n",
       " 'spectators': None,\n",
       " 'complex_box_dimensions': None,\n",
       " 'solvent_box_dimensions': None,\n",
       " 'neglect_angles': False,\n",
       " 'anneal_1,4s': False,\n",
       " 'nonbonded_method': 'PME',\n",
       " 'render_atom_map': True,\n",
       " 'run_type': None,\n",
       " 'offline-freq': 10,\n",
       " 'atom_expr': None,\n",
       " 'bond_expr': None,\n",
       " 'map_strength': None,\n",
       " 'softcore_v2': False,\n",
       " 'rxn_field': True,\n",
       " 'scale_regions': None,\n",
       " 'validate_endstate_energies': False}"
      ]
     },
     "execution_count": 62,
     "metadata": {},
     "output_type": "execute_result"
    }
   ],
   "source": [
    "setup_options"
   ]
  },
  {
   "cell_type": "code",
   "execution_count": 63,
   "id": "058f9b83",
   "metadata": {
    "scrolled": true
   },
   "outputs": [],
   "source": [
    "htf = setup_dict['hybrid_topology_factories']['solvent']"
   ]
  },
  {
   "cell_type": "code",
   "execution_count": 64,
   "id": "be703515",
   "metadata": {},
   "outputs": [],
   "source": [
    "# Save htf\n",
    "with open(\"cdk2_solvent.pickle\", \"wb\") as f:\n",
    "    pickle.dump(htf, f)"
   ]
  },
  {
   "cell_type": "markdown",
   "id": "115af5f8",
   "metadata": {},
   "source": [
    "### Test one alchemical region, no scale regions"
   ]
  },
  {
   "cell_type": "markdown",
   "id": "60604039",
   "metadata": {},
   "source": [
    "#### Old system HarmonicBondForce vs hybrid system CustomBondForce"
   ]
  },
  {
   "cell_type": "code",
   "execution_count": 67,
   "id": "c301b106",
   "metadata": {},
   "outputs": [],
   "source": [
    "# Load htf\n",
    "with open(\"/home/zhangi/choderalab/perses_benchmark/perses_protein_mutations/code/26_rxn_field/cdk2_solvent.pickle\", \"rb\") as f:\n",
    "    htf = pickle.load(f)"
   ]
  },
  {
   "cell_type": "code",
   "execution_count": 68,
   "id": "41891b46",
   "metadata": {},
   "outputs": [
    {
     "name": "stdout",
     "output_type": "stream",
     "text": [
      "Warning: Returning CPU platform instead of requested platform <simtk.openmm.openmm.Platform; proxy of <Swig Object of type 'OpenMM::Platform *' at 0x2b6bddb657e0> >\n",
      "conducting subsequent work with the following platform: CPU\n",
      "conducting subsequent work with the following platform: CUDA\n",
      "[('HarmonicBondForce', 4.608082977954756), ('HarmonicAngleForce', 29.199523609209102), ('PeriodicTorsionForce', 15.076747992617829), ('NonbondedForce', 1620.3489177881142), ('AndersenThermostat', 0.0), ('MonteCarloBarostat', 0.0)]\n",
      "conducting subsequent work with the following platform: CUDA\n",
      "[('CustomBondForce', 4.608082977954756), ('CustomAngleForce', 29.199523609209102), ('CustomTorsionForce', 30.189918794847536), ('AndersenThermostat', 0.0), ('MonteCarloBarostat', 0.0)]\n",
      "Success! Custom angle force and standard angle force energies are equal!\n"
     ]
    }
   ],
   "source": [
    "test_angle_energies(htf, is_solvated=True)"
   ]
  },
  {
   "cell_type": "markdown",
   "id": "1aa884bc",
   "metadata": {},
   "source": [
    "#### New system HarmonicBondForce vs hybrid system CustomBondForce"
   ]
  },
  {
   "cell_type": "code",
   "execution_count": 70,
   "id": "ea1e2d34",
   "metadata": {},
   "outputs": [],
   "source": [
    "# Load htf\n",
    "with open(\"/home/zhangi/choderalab/perses_benchmark/perses_protein_mutations/code/26_rxn_field/cdk2_solvent.pickle\", \"rb\") as f:\n",
    "    htf = pickle.load(f)"
   ]
  },
  {
   "cell_type": "code",
   "execution_count": 71,
   "id": "efc8566f",
   "metadata": {},
   "outputs": [
    {
     "name": "stdout",
     "output_type": "stream",
     "text": [
      "Warning: Returning CPU platform instead of requested platform <simtk.openmm.openmm.Platform; proxy of <Swig Object of type 'OpenMM::Platform *' at 0x2b6bddb657e0> >\n",
      "conducting subsequent work with the following platform: CPU\n",
      "conducting subsequent work with the following platform: CUDA\n",
      "[('HarmonicBondForce', 4.519508183899664), ('HarmonicAngleForce', 33.00516953842139), ('PeriodicTorsionForce', 15.113155351932875), ('NonbondedForce', 1636.7942547439848), ('AndersenThermostat', 0.0), ('MonteCarloBarostat', 0.0)]\n",
      "conducting subsequent work with the following platform: CUDA\n",
      "[('CustomBondForce', 4.608082977954756), ('CustomAngleForce', 33.00516953842139), ('CustomTorsionForce', 30.189918794847536), ('AndersenThermostat', 0.0), ('MonteCarloBarostat', 0.0)]\n",
      "Success! Custom angle force and standard angle force energies are equal!\n"
     ]
    }
   ],
   "source": [
    "test_angle_energies(htf, is_old=False, is_solvated=True)"
   ]
  },
  {
   "cell_type": "markdown",
   "id": "b390ade2",
   "metadata": {},
   "source": [
    "### Test one alchemical region, one scale region"
   ]
  },
  {
   "cell_type": "code",
   "execution_count": 72,
   "id": "8671a075",
   "metadata": {},
   "outputs": [],
   "source": [
    "import os\n",
    "from pkg_resources import resource_filename\n",
    "from perses.app import setup_relative_calculation\n",
    "import pickle"
   ]
  },
  {
   "cell_type": "code",
   "execution_count": 73,
   "id": "63072c61",
   "metadata": {
    "scrolled": true
   },
   "outputs": [
    {
     "name": "stderr",
     "output_type": "stream",
     "text": [
      "2021-05-04 18:07:14,979:(54.05s):root:\tDetecting phases...\n",
      "2021-05-04 18:07:14,982:(0.00s):root:\t\tphases detected: ['complex', 'solvent', 'vacuum']\n",
      "2021-05-04 18:07:14,984:(0.00s):root:No constraints will be removed\n",
      "2021-05-04 18:07:14,986:(0.00s):root:No spectators\n",
      "2021-05-04 18:07:14,988:(0.00s):root:\t\t\trun_type is not specified; default to None\n",
      "2021-05-04 18:07:14,990:(0.00s):root:\tDetecting fe_type...\n",
      "2021-05-04 18:07:14,992:(0.00s):root:\t\tfe_type: repex\n",
      "2021-05-04 18:07:14,994:(0.00s):root:\t\t\toffline-freq not specified: default to 10.\n",
      "2021-05-04 18:07:14,995:(0.00s):root:\t'neglect_angles' detected: False.\n",
      "2021-05-04 18:07:14,997:(0.00s):root:\t'softcore_v2' not specified: default to 'False'\n",
      "2021-05-04 18:07:14,999:(0.00s):root:\tCreating 'output'...\n",
      "2021-05-04 18:07:15,003:(0.00s):root:\tdetected ligand file: /home/zhangi/miniconda3/envs/perses-rxn-field/lib/python3.8/site-packages/perses-0.8.2.dev0-py3.8.egg/perses/data/cdk2-example/CDK2_ligands.sdf\n",
      "2021-05-04 18:07:15,006:(0.00s):root:\told ligand index: 14; new ligand index: 15\n",
      "2021-05-04 18:07:15,009:(0.00s):root:\tsetting up forcefield files...\n",
      "2021-05-04 18:07:15,011:(0.00s):root:\tno timestep detected: setting default as 1.0fs.\n",
      "2021-05-04 18:07:15,011:(0.00s):root:\tno splitting strings specified: defaulting to neq: V R O R V, eq: V R O R V.\n",
      "2021-05-04 18:07:15,012:(0.00s):root:\tno measure_shadow_work specified: defaulting to False.\n",
      "2021-05-04 18:07:15,013:(0.00s):root:\tsetting pressure: 1.0 atm.\n",
      "2021-05-04 18:07:15,016:(0.00s):root:\tsetting temperature: 300.0 K.\n",
      "2021-05-04 18:07:15,017:(0.00s):root:\tsetting solvent padding: 9.0 AA.\n",
      "2021-05-04 18:07:15,018:(0.00s):root:\tsetting ionic strength: 0.15 MM.\n",
      "2021-05-04 18:07:15,018:(0.00s):root:\tsetup pickle file: fesetup_hbonds.pkl\n",
      "2021-05-04 18:07:15,019:(0.00s):root:\ttrajectory directory: output\n",
      "2021-05-04 18:07:15,020:(0.00s):root:\tno atom map specified: default to None.\n",
      "2021-05-04 18:07:15,020:(0.00s):root:\tno topology_proposal specified; proceeding to RelativeFEPSetup...\n",
      "\n",
      "\n",
      "\n",
      "2021-05-04 18:07:15,021:(0.00s):root:Box dimensions: None and None\n",
      "2021-05-04 18:07:15,022:(0.00s):relative_setup:\t\t\t_hmass: 4 Da.\n",
      "\n",
      "2021-05-04 18:07:15,022:(0.00s):relative_setup:Setting non bonded method to PME\n",
      "2021-05-04 18:07:15,023:(0.00s):relative_setup:Handling files for ligands and indices...\n",
      "2021-05-04 18:07:15,024:(0.00s):relative_setup:Detected .sdf format.  Proceeding...\n",
      "2021-05-04 18:07:15,029:(0.01s):utils.openeye:molecule 17                      does not have unique atom names. Generating now...\n",
      "2021-05-04 18:07:15,047:(0.02s):utils.openeye:molecule 1h1q                      does not have unique atom names. Generating now...\n",
      "2021-05-04 18:07:15,051:(0.00s):relative_setup:\tsuccessfully extracted positions from OEMOL.\n",
      "2021-05-04 18:07:15,051:(0.00s):relative_setup:\tsetting both molecule oemol titles to 'MOL'.\n",
      "2021-05-04 18:07:15,052:(0.00s):relative_setup:\tsuccessfully created SMILES for both ligand OEMOLs.\n",
      "2021-05-04 18:07:15,059:(0.01s):relative_setup:\tsuccessfully generated topologies for both OEMOLs.\n",
      "2021-05-04 18:07:15,060:(0.00s):relative_setup:Created mdtraj topologies for both ligands.\n",
      "2021-05-04 18:07:15,061:(0.00s):relative_setup:set MonteCarloBarostat because pressure was specified as 1.0 atm atmospheres\n",
      "2021-05-04 18:07:15,071:(0.01s):relative_setup:PME tolerance: 0.00025\n",
      "2021-05-04 18:07:15,124:(0.05s):relative_setup:successfully created SystemGenerator to create ligand systems\n",
      "2021-05-04 18:07:15,126:(0.00s):relative_setup:executing SmallMoleculeSetProposalEngine...\n",
      "2021-05-04 18:07:15,129:(0.00s):relative_setup:instantiating FFAllAngleGeometryEngine...\n",
      "2021-05-04 18:07:15,130:(0.00s):relative_setup:Detected solvent...\n",
      "2021-05-04 18:07:15,132:(0.00s):relative_setup:no complex detected in phases...generating unique topology/geometry proposals...\n",
      "2021-05-04 18:07:15,133:(0.00s):relative_setup:solvating ligand...\n",
      "2021-05-04 18:07:15,135:(0.00s):relative_setup:box_dimensions: None\n",
      "2021-05-04 18:07:15,137:(0.00s):relative_setup:solvent padding: 9.0\n",
      "2021-05-04 18:07:15,138:(0.00s):relative_setup:\tpreparing to add solvent\n",
      "2021-05-04 18:07:15,337:(0.20s):openmmforcefields.generators.template_generators:Requested to generate parameters for residue <Residue 0 (MOL) of chain 0>\n",
      "2021-05-04 18:07:15,756:(0.42s):relative_setup:\tparameterizing...\n",
      "2021-05-04 18:07:15,942:(0.19s):relative_setup:\tSystem parameterized\n",
      "2021-05-04 18:07:15,980:(0.04s):relative_setup:creating TopologyProposal\n",
      "2021-05-04 18:07:15,982:(0.00s):proposal_generator:creating current receptor topology by removing small molecule from current topology...\n",
      "2021-05-04 18:07:15,993:(0.01s):proposal_generator:small molecule start index: 0\n",
      "2021-05-04 18:07:15,995:(0.00s):proposal_generator:small molecule has 45 atoms.\n",
      "2021-05-04 18:07:15,997:(0.00s):proposal_generator:old alchemical atom indices: range(0, 45)\n",
      "2021-05-04 18:07:15,999:(0.00s):proposal_generator:proposed mol detected with smiles [H]c1c(c(c(c(c1[H])[H])N([H])c2nc3c(c(n2)OC([H])([H])C4(C(C(C(C(C4([H])[H])([H])[H])([H])[H])([H])[H])([H])[H])[H])nc(n3[H])[H])[H])[H] and logp_proposal of 0.0\n",
      "2021-05-04 18:07:16,000:(0.00s):proposal_generator:conducting proposal from [H]c1c(c(c(c(c1[H])Br)[H])N([H])c2nc3c(c(n2)OC([H])([H])C4(C(C(C(C(C4([H])[H])([H])[H])([H])[H])([H])[H])([H])[H])[H])nc(n3[H])[H])[H] to [H]c1c(c(c(c(c1[H])[H])N([H])c2nc3c(c(n2)OC([H])([H])C4(C(C(C(C(C4([H])[H])([H])[H])([H])[H])([H])[H])([H])[H])[H])nc(n3[H])[H])[H])[H]...\n",
      "2021-05-04 18:07:16,002:(0.00s):proposal_generator:building new topology with proposed molecule and current receptor topology...\n",
      "2021-05-04 18:07:16,004:(0.00s):proposal_generator:\tsetting proposed oemol title to MOL\n",
      "2021-05-04 18:07:16,005:(0.00s):proposal_generator:\tcreating mol topology from oemol...\n",
      "2021-05-04 18:07:16,008:(0.00s):proposal_generator:\tappending current receptor topology to new mol topology...\n",
      "2021-05-04 18:07:16,019:(0.01s):proposal_generator:\tperiodic box vectors of the current receptor is specified; copying to new topology...\n",
      "2021-05-04 18:07:16,022:(0.00s):proposal_generator:new molecule has a start index of 2152 and 45 atoms.\n",
      "2021-05-04 18:07:16,023:(0.00s):proposal_generator:proceeding to build the new system from the new topology...\n",
      "2021-05-04 18:07:16,052:(0.03s):openmmforcefields.generators.template_generators:Requested to generate parameters for residue <Residue 720 (MOL) of chain 3>\n",
      "2021-05-04 18:07:16,271:(0.22s):proposal_generator:determining atom map between old and new molecules...\n",
      "2021-05-04 18:07:16,273:(0.00s):proposal_generator:the atom map is not specified; proceeding to generate an atom map...\n",
      "2021-05-04 18:07:16,275:(0.00s):proposal_generator:Using geometry to chose best atom map\n",
      "2021-05-04 18:07:16,284:(0.01s):proposal_generator:Scaffold has symmetry of 4\n",
      "2021-05-04 18:07:16,286:(0.00s):proposal_generator:There are 4 before filtering\n",
      "2021-05-04 18:07:16,288:(0.00s):proposal_generator:There are 4 after filtering to remove maps with fewer matches than 24 atoms\n",
      "2021-05-04 18:07:16,294:(0.01s):proposal_generator:1 scaffold maps for A\n",
      "2021-05-04 18:07:16,296:(0.00s):proposal_generator:Scaffold to molA: {0: 0, 1: 1, 2: 2, 3: 3, 8: 4, 7: 5, 6: 6, 5: 7, 4: 8, 11: 9, 10: 10, 9: 11, 23: 12, 13: 13, 14: 14, 15: 15, 16: 16, 17: 17, 18: 18, 19: 19, 20: 20, 21: 21, 22: 22, 12: 23}\n",
      "2021-05-04 18:07:16,301:(0.01s):proposal_generator:1 scaffold maps for B\n",
      "2021-05-04 18:07:16,303:(0.00s):proposal_generator:Scaffold to molB: {0: 0, 1: 1, 2: 2, 3: 3, 8: 4, 7: 5, 6: 6, 5: 7, 4: 8, 11: 9, 10: 10, 9: 11, 23: 12, 13: 13, 14: 14, 15: 15, 16: 16, 17: 17, 18: 18, 19: 19, 20: 20, 21: 21, 22: 22, 12: 23}\n",
      "2021-05-04 18:07:18,408:(2.11s):proposal_generator:4 maps are reduced to 1\n",
      "2021-05-04 18:07:18,411:(0.00s):proposal_generator:molecule_maps_scores: dict_keys([19.8560123167367])\n",
      "2021-05-04 18:07:18,412:(0.00s):proposal_generator:Returning map with closest geometry satisfaction\n",
      "2021-05-04 18:07:18,518:(0.11s):proposal_generator:Proposed transformation would delete 1 atoms and create 1 atoms.\n",
      "2021-05-04 18:07:18,520:(0.00s):relative_setup:conducting geometry proposal...\n",
      "2021-05-04 18:07:18,522:(0.00s):geometry:propose: performing forward proposal\n",
      "2021-05-04 18:07:18,524:(0.00s):geometry:propose: unique new atoms detected; proceeding to _logp_propose...\n"
     ]
    },
    {
     "name": "stderr",
     "output_type": "stream",
     "text": [
      "2021-05-04 18:07:18,525:(0.00s):geometry:Conducting forward proposal...\n",
      "2021-05-04 18:07:18,527:(0.00s):geometry:Computing proposal order with NetworkX...\n",
      "2021-05-04 18:07:18,537:(0.01s):geometry:number of atoms to be placed: 1\n",
      "2021-05-04 18:07:18,539:(0.00s):geometry:Atom index proposal order is [2190]\n",
      "2021-05-04 18:07:18,541:(0.00s):geometry:omitted_bonds: []\n",
      "2021-05-04 18:07:18,542:(0.00s):geometry:direction of proposal is forward; creating atoms_with_positions and new positions from old system/topology...\n",
      "2021-05-04 18:07:18,723:(0.18s):geometry:creating growth system...\n",
      "2021-05-04 18:07:18,770:(0.05s):geometry:\tcreating bond force...\n",
      "2021-05-04 18:07:18,772:(0.00s):geometry:\tthere are 27 bonds in reference force.\n",
      "2021-05-04 18:07:18,774:(0.00s):geometry:\tcreating angle force...\n",
      "2021-05-04 18:07:18,776:(0.00s):geometry:\tthere are 85 angles in reference force.\n",
      "2021-05-04 18:07:18,778:(0.00s):geometry:\tcreating torsion force...\n",
      "2021-05-04 18:07:18,780:(0.00s):geometry:\tcreating extra torsions force...\n",
      "2021-05-04 18:07:18,782:(0.00s):geometry:\tthere are 157 torsions in reference force.\n",
      "2021-05-04 18:07:18,785:(0.00s):geometry:\tcreating nonbonded force...\n",
      "2021-05-04 18:07:18,786:(0.00s):geometry:\t\tgrabbing reference nonbonded method, cutoff, switching function, switching distance...\n",
      "2021-05-04 18:07:18,788:(0.00s):geometry:\t\tcreating nonbonded exception force (i.e. custom bond for 1,4s)...\n",
      "2021-05-04 18:07:18,790:(0.00s):geometry:\t\tlooping through exceptions calculating growth indices, and adding appropriate interactions to custom bond force.\n",
      "2021-05-04 18:07:18,791:(0.00s):geometry:\t\tthere are 2395 in the reference Nonbonded force\n",
      "2021-05-04 18:07:18,843:(0.05s):geometry:Neglected angle terms : []\n",
      "2021-05-04 18:07:18,845:(0.00s):geometry:omitted_growth_terms: {'bonds': [], 'angles': [], 'torsions': [], '1,4s': []}\n",
      "2021-05-04 18:07:18,847:(0.00s):geometry:extra torsions: {0: (2190, 2161, 2162, 2163, [1, Quantity(value=-0.019594642035228205, unit=radian), Quantity(value=1200.0, unit=kilocalorie/mole), 1]), 1: (2190, 2161, 2162, 2191, [1, Quantity(value=-3.1361896196768977, unit=radian), Quantity(value=1200.0, unit=kilocalorie/mole), 1]), 2: (2190, 2161, 2175, 2174, [1, Quantity(value=-0.008871224163264912, unit=radian), Quantity(value=1200.0, unit=kilocalorie/mole), 1]), 3: (2190, 2161, 2175, 2196, [1, Quantity(value=3.1405837865634907, unit=radian), Quantity(value=1200.0, unit=kilocalorie/mole), 1])}\n",
      "2021-05-04 18:07:18,849:(0.00s):geometry:neglected angle terms include []\n",
      "2021-05-04 18:07:18,851:(0.00s):geometry:log probability choice of torsions and atom order: -1.3862943611198906\n",
      "2021-05-04 18:07:18,852:(0.00s):geometry:creating platform, integrators, and contexts; setting growth parameter\n"
     ]
    },
    {
     "name": "stdout",
     "output_type": "stream",
     "text": [
      "conducting subsequent work with the following platform: CUDA\n"
     ]
    },
    {
     "name": "stderr",
     "output_type": "stream",
     "text": [
      "2021-05-04 18:07:19,342:(0.49s):geometry:setting atoms_with_positions context new positions\n",
      "2021-05-04 18:07:19,683:(0.34s):geometry:There are 1 new atoms\n",
      "2021-05-04 18:07:19,691:(0.01s):geometry:\treduced angle potential = 0.2448361016944241.\n"
     ]
    },
    {
     "name": "stdout",
     "output_type": "stream",
     "text": [
      "conducting subsequent work with the following platform: CUDA\n"
     ]
    },
    {
     "name": "stderr",
     "output_type": "stream",
     "text": [
      "2021-05-04 18:07:19,800:(0.11s):geometry:\tbeginning construction of no_nonbonded final system...\n",
      "2021-05-04 18:07:19,803:(0.00s):geometry:\tinitial no-nonbonded final system forces ['HarmonicBondForce', 'HarmonicAngleForce', 'PeriodicTorsionForce', 'NonbondedForce', 'MonteCarloBarostat']\n",
      "2021-05-04 18:07:19,923:(0.12s):geometry:\tfinal no-nonbonded final system forces dict_keys(['HarmonicBondForce', 'HarmonicAngleForce', 'PeriodicTorsionForce', 'NonbondedForce'])\n",
      "2021-05-04 18:07:19,925:(0.00s):geometry:\tthere are 27 bond forces in the no-nonbonded final system\n",
      "2021-05-04 18:07:19,927:(0.00s):geometry:\tthere are 85 angle forces in the no-nonbonded final system\n",
      "2021-05-04 18:07:19,929:(0.00s):geometry:\tthere are 157 torsion forces in the no-nonbonded final system\n",
      "2021-05-04 18:07:19,930:(0.00s):geometry:forward final system defined with 0 neglected angles.\n"
     ]
    },
    {
     "name": "stdout",
     "output_type": "stream",
     "text": [
      "conducting subsequent work with the following platform: CUDA\n"
     ]
    },
    {
     "name": "stderr",
     "output_type": "stream",
     "text": [
      "2021-05-04 18:07:20,837:(0.91s):geometry:total reduced potential before atom placement: 48.41967204742058\n"
     ]
    },
    {
     "name": "stdout",
     "output_type": "stream",
     "text": [
      "conducting subsequent work with the following platform: CUDA\n",
      "conducting subsequent work with the following platform: CUDA\n",
      "conducting subsequent work with the following platform: CUDA\n",
      "conducting subsequent work with the following platform: CUDA\n",
      "added energy components: [('CustomBondForce', 0.0), ('CustomAngleForce', 0.5678395463414945), ('CustomTorsionForce', 0.005336879269828654), ('CustomBondForce', 7.77468592363351)]\n"
     ]
    },
    {
     "name": "stderr",
     "output_type": "stream",
     "text": [
      "2021-05-04 18:07:21,868:(1.03s):geometry:total reduced energy added from growth system: 8.347862349244833\n",
      "2021-05-04 18:07:21,870:(0.00s):geometry:final reduced energy 56.76753519148311\n",
      "2021-05-04 18:07:21,871:(0.00s):geometry:sum of energies: 56.76753439666542\n",
      "2021-05-04 18:07:21,873:(0.00s):geometry:magnitude of difference in the energies: 7.948176961036779e-07\n",
      "2021-05-04 18:07:21,875:(0.00s):geometry:Final logp_proposal: 7.7726200268809045\n",
      "2021-05-04 18:07:21,984:(0.11s):geometry:logp_reverse: performing reverse proposal\n",
      "2021-05-04 18:07:21,986:(0.00s):geometry:logp_reverse: unique new atoms detected; proceeding to _logp_propose...\n",
      "2021-05-04 18:07:21,988:(0.00s):geometry:Conducting forward proposal...\n",
      "2021-05-04 18:07:21,990:(0.00s):geometry:Computing proposal order with NetworkX...\n",
      "2021-05-04 18:07:22,001:(0.01s):geometry:number of atoms to be placed: 1\n",
      "2021-05-04 18:07:22,003:(0.00s):geometry:Atom index proposal order is [44]\n",
      "2021-05-04 18:07:22,004:(0.00s):geometry:omitted_bonds: []\n",
      "2021-05-04 18:07:22,006:(0.00s):geometry:direction of proposal is reverse; creating atoms_with_positions from old system/topology\n",
      "2021-05-04 18:07:22,150:(0.14s):geometry:creating growth system...\n",
      "2021-05-04 18:07:22,197:(0.05s):geometry:\tcreating bond force...\n",
      "2021-05-04 18:07:22,199:(0.00s):geometry:\tthere are 28 bonds in reference force.\n",
      "2021-05-04 18:07:22,201:(0.00s):geometry:\tcreating angle force...\n",
      "2021-05-04 18:07:22,203:(0.00s):geometry:\tthere are 85 angles in reference force.\n",
      "2021-05-04 18:07:22,206:(0.00s):geometry:\tcreating torsion force...\n",
      "2021-05-04 18:07:22,207:(0.00s):geometry:\tcreating extra torsions force...\n",
      "2021-05-04 18:07:22,209:(0.00s):geometry:\tthere are 157 torsions in reference force.\n",
      "2021-05-04 18:07:22,212:(0.00s):geometry:\tcreating nonbonded force...\n",
      "2021-05-04 18:07:22,213:(0.00s):geometry:\t\tgrabbing reference nonbonded method, cutoff, switching function, switching distance...\n",
      "2021-05-04 18:07:22,215:(0.00s):geometry:\t\tcreating nonbonded exception force (i.e. custom bond for 1,4s)...\n",
      "2021-05-04 18:07:22,217:(0.00s):geometry:\t\tlooping through exceptions calculating growth indices, and adding appropriate interactions to custom bond force.\n",
      "2021-05-04 18:07:22,218:(0.00s):geometry:\t\tthere are 2395 in the reference Nonbonded force\n",
      "2021-05-04 18:07:22,271:(0.05s):geometry:Neglected angle terms : []\n",
      "2021-05-04 18:07:22,273:(0.00s):geometry:omitted_growth_terms: {'bonds': [], 'angles': [], 'torsions': [], '1,4s': []}\n",
      "2021-05-04 18:07:22,274:(0.00s):geometry:extra torsions: {0: (9, 10, 11, 44, [1, Quantity(value=0.017128570696415935, unit=radian), Quantity(value=1200.0, unit=kilocalorie/mole), 1]), 1: (39, 10, 11, 44, [1, Quantity(value=3.1337857477223063, unit=radian), Quantity(value=1200.0, unit=kilocalorie/mole), 1]), 2: (44, 11, 12, 22, [1, Quantity(value=0.00863885124394681, unit=radian), Quantity(value=1200.0, unit=kilocalorie/mole), 1]), 3: (44, 11, 12, 40, [1, Quantity(value=-3.1382699121359634, unit=radian), Quantity(value=1200.0, unit=kilocalorie/mole), 1])}\n",
      "2021-05-04 18:07:22,276:(0.00s):geometry:neglected angle terms include []\n",
      "2021-05-04 18:07:22,278:(0.00s):geometry:log probability choice of torsions and atom order: -1.3862943611198906\n",
      "2021-05-04 18:07:22,280:(0.00s):geometry:creating platform, integrators, and contexts; setting growth parameter\n"
     ]
    },
    {
     "name": "stdout",
     "output_type": "stream",
     "text": [
      "conducting subsequent work with the following platform: CUDA\n"
     ]
    },
    {
     "name": "stderr",
     "output_type": "stream",
     "text": [
      "2021-05-04 18:07:22,742:(0.46s):geometry:setting atoms_with_positions context old positions\n",
      "2021-05-04 18:07:23,085:(0.34s):geometry:There are 1 new atoms\n",
      "2021-05-04 18:07:23,090:(0.00s):geometry:\treduced angle potential = 0.03380441319981336.\n"
     ]
    },
    {
     "name": "stdout",
     "output_type": "stream",
     "text": [
      "conducting subsequent work with the following platform: CUDA\n"
     ]
    },
    {
     "name": "stderr",
     "output_type": "stream",
     "text": [
      "2021-05-04 18:07:23,197:(0.11s):geometry:\tbeginning construction of no_nonbonded final system...\n",
      "2021-05-04 18:07:23,199:(0.00s):geometry:\tinitial no-nonbonded final system forces ['HarmonicBondForce', 'HarmonicAngleForce', 'PeriodicTorsionForce', 'NonbondedForce', 'MonteCarloBarostat']\n",
      "2021-05-04 18:07:23,320:(0.12s):geometry:\tfinal no-nonbonded final system forces dict_keys(['HarmonicBondForce', 'HarmonicAngleForce', 'PeriodicTorsionForce', 'NonbondedForce'])\n",
      "2021-05-04 18:07:23,322:(0.00s):geometry:\tthere are 28 bond forces in the no-nonbonded final system\n",
      "2021-05-04 18:07:23,324:(0.00s):geometry:\tthere are 85 angle forces in the no-nonbonded final system\n",
      "2021-05-04 18:07:23,326:(0.00s):geometry:\tthere are 157 torsion forces in the no-nonbonded final system\n",
      "2021-05-04 18:07:23,327:(0.00s):geometry:reverse final system defined with 0 neglected angles.\n"
     ]
    },
    {
     "name": "stdout",
     "output_type": "stream",
     "text": [
      "conducting subsequent work with the following platform: CUDA\n",
      "conducting subsequent work with the following platform: CUDA\n"
     ]
    },
    {
     "name": "stderr",
     "output_type": "stream",
     "text": [
      "2021-05-04 18:07:24,204:(0.88s):geometry:total reduced potential before atom placement: 48.41899607369698\n"
     ]
    },
    {
     "name": "stdout",
     "output_type": "stream",
     "text": [
      "conducting subsequent work with the following platform: CUDA\n",
      "conducting subsequent work with the following platform: CUDA\n",
      "conducting subsequent work with the following platform: CUDA\n",
      "added energy components: [('CustomBondForce', 0.0879842954280575), ('CustomAngleForce', 0.04605409749261916), ('CustomTorsionForce', 0.005423562569706604), ('CustomBondForce', -5.1962986311777435)]\n"
     ]
    },
    {
     "name": "stderr",
     "output_type": "stream",
     "text": [
      "2021-05-04 18:07:25,252:(1.05s):geometry:total reduced energy added from growth system: -5.056836675687361\n",
      "2021-05-04 18:07:25,254:(0.00s):geometry:final reduced energy 43.36216011253515\n",
      "2021-05-04 18:07:25,256:(0.00s):geometry:sum of energies: 43.362159398009624\n",
      "2021-05-04 18:07:25,257:(0.00s):geometry:magnitude of difference in the energies: 7.145255302987152e-07\n",
      "2021-05-04 18:07:25,259:(0.00s):geometry:Final logp_proposal: 11.565896514368898\n",
      "2021-05-04 18:07:25,386:(0.13s):root:\twriting pickle output...\n",
      "2021-05-04 18:07:25,537:(0.15s):root:\tsuccessfully dumped pickle.\n",
      "2021-05-04 18:07:25,541:(0.00s):root:\tsetup is complete.  Writing proposals and positions for each phase to top_prop dict...\n",
      "2021-05-04 18:07:25,543:(0.00s):root:\twriting atom_mapping.png\n",
      "2021-05-04 18:07:25,593:(0.05s):root:\t steps per move application: 50\n",
      "2021-05-04 18:07:25,595:(0.00s):root:\ttrajectory prefix: out\n",
      "2021-05-04 18:07:25,597:(0.00s):root:\tatom selection detected: not water\n",
      "2021-05-04 18:07:25,599:(0.00s):root:\tno nonequilibrium detected.\n",
      "2021-05-04 18:07:25,600:(0.00s):root:\tcataloging HybridTopologyFactories...\n",
      "2021-05-04 18:07:25,602:(0.00s):root:\t\tphase: solvent:\n",
      "2021-05-04 18:07:25,604:(0.00s):root:\t\twriting HybridTopologyFactory for phase solvent...\n",
      "2021-05-04 18:07:25,605:(0.00s):relative:*** Generating RxnHybridTopologyFactory ***\n",
      "2021-05-04 18:07:25,607:(0.00s):relative:Beginning nonbonded method, total particle, barostat, and exceptions retrieval...\n",
      "2021-05-04 18:07:25,662:(0.06s):relative:Old system forces: dict_keys(['HarmonicBondForce', 'HarmonicAngleForce', 'PeriodicTorsionForce', 'NonbondedForce', 'MonteCarloBarostat'])\n",
      "2021-05-04 18:07:25,665:(0.00s):relative:New system forces: dict_keys(['HarmonicBondForce', 'HarmonicAngleForce', 'PeriodicTorsionForce', 'NonbondedForce', 'MonteCarloBarostat'])\n",
      "2021-05-04 18:07:25,666:(0.00s):relative:No unknown forces.\n",
      "2021-05-04 18:07:25,668:(0.00s):relative:Nonbonded method to be used (i.e. from old system): 4\n",
      "2021-05-04 18:07:25,670:(0.00s):relative:Adding and mapping old atoms to hybrid system...\n",
      "2021-05-04 18:07:25,690:(0.02s):relative:Adding and mapping new atoms to hybrid system...\n",
      "2021-05-04 18:07:25,692:(0.00s):relative:scale_templates: [['nonscale_lambda', 'scale_lambda_0', 'interscale_lambda_0'], ['nonscale_region', 'scale_region_0', 'interscale_region_0']]\n",
      "2021-05-04 18:07:25,694:(0.00s):relative:Added MonteCarloBarostat.\n",
      "2021-05-04 18:07:25,695:(0.00s):relative:getDefaultPeriodicBoxVectors added to hybrid: [Quantity(value=Vec3(x=2.875229835510254, y=0.0, z=0.0), unit=nanometer), Quantity(value=Vec3(x=0.0, y=2.875229835510254, z=0.0), unit=nanometer), Quantity(value=Vec3(x=0.0, y=0.0, z=2.875229835510254), unit=nanometer)]\n",
      "2021-05-04 18:07:25,698:(0.00s):relative:Determined atom classes.\n",
      "2021-05-04 18:07:25,700:(0.00s):relative:Generating old system exceptions dict...\n",
      "2021-05-04 18:07:25,941:(0.24s):relative:Generating new system exceptions dict...\n",
      "2021-05-04 18:07:25,961:(0.02s):relative:Handling constraints...\n",
      "2021-05-04 18:07:26,007:(0.05s):relative:Handling virtual sites...\n",
      "2021-05-04 18:07:26,010:(0.00s):relative:\t_handle_virtual_sites: numVirtualSites: 0\n",
      "2021-05-04 18:07:26,069:(0.06s):root:'use_given_geometries' was passed to setup; skipping endstate validation\n",
      "2021-05-04 18:07:26,072:(0.00s):root:omitting sampler construction\n"
     ]
    }
   ],
   "source": [
    "# Create a htf\n",
    "setup_directory = resource_filename(\"perses\", \"data/cdk2-example\")\n",
    "\n",
    "# Get options\n",
    "from perses.app.setup_relative_calculation import getSetupOptions\n",
    "yaml_filename = os.path.join(setup_directory, \"cdk2_setup_repex.yaml\")\n",
    "setup_options = getSetupOptions(yaml_filename)\n",
    "\n",
    "# Update options\n",
    "for parameter in ['protein_pdb', 'ligand_file']:\n",
    "    setup_options[parameter] = os.path.join(setup_directory, setup_options[parameter])\n",
    "    \n",
    "setup_options['rxn_field'] = True\n",
    "setup_options['phases'] = ['solvent']\n",
    "setup_options['scale_regions'] = [[44, 2197]]\n",
    "setup_options['validate_endstate_energies'] = False\n",
    "    \n",
    "setup_dict = setup_relative_calculation.run_setup(setup_options, serialize_systems=False, build_samplers=False)"
   ]
  },
  {
   "cell_type": "code",
   "execution_count": 56,
   "id": "26bc4fd2",
   "metadata": {},
   "outputs": [
    {
     "data": {
      "text/plain": [
       "{'protein_pdb': '/home/zhangi/miniconda3/envs/perses-rxn-field/lib/python3.8/site-packages/perses-0.8.2.dev0-py3.8.egg/perses/data/cdk2-example/CDK2_fixed_nohet.pdb',\n",
       " 'ligand_file': '/home/zhangi/miniconda3/envs/perses-rxn-field/lib/python3.8/site-packages/perses-0.8.2.dev0-py3.8.egg/perses/data/cdk2-example/CDK2_ligands.sdf',\n",
       " 'old_ligand_index': 14,\n",
       " 'new_ligand_index': 15,\n",
       " 'forcefield_files': ['amber/protein.ff14SB.xml',\n",
       "  'amber/tip3p_standard.xml',\n",
       "  'amber/tip3p_HFE_multivalent.xml'],\n",
       " 'small_molecule_forcefield': 'gaff-2.11',\n",
       " 'small_molecule_parameters_cache': 'cdk2-cache.json',\n",
       " 'pressure': 1.0,\n",
       " 'temperature': 300.0,\n",
       " 'solvent_padding': 9.0,\n",
       " 'save_setup_pickle_as': 'fesetup_hbonds.pkl',\n",
       " 'n_steps_per_move_application': 50,\n",
       " 'fe_type': 'repex',\n",
       " 'checkpoint_interval': 250,\n",
       " 'n_cycles': 2,\n",
       " 'n_states': 6,\n",
       " 'n_equilibration_iterations': 0,\n",
       " 'trajectory_directory': 'output',\n",
       " 'trajectory_prefix': 'out',\n",
       " 'atom_selection': 'not water',\n",
       " 'phases': ['solvent'],\n",
       " 'protocol-type': 'default',\n",
       " 'ionic_strength': 0.15,\n",
       " 'remove_constraints': False,\n",
       " 'spectators': None,\n",
       " 'complex_box_dimensions': None,\n",
       " 'solvent_box_dimensions': None,\n",
       " 'neglect_angles': False,\n",
       " 'anneal_1,4s': False,\n",
       " 'nonbonded_method': 'PME',\n",
       " 'render_atom_map': True,\n",
       " 'run_type': None,\n",
       " 'offline-freq': 10,\n",
       " 'atom_expr': None,\n",
       " 'bond_expr': None,\n",
       " 'map_strength': None,\n",
       " 'softcore_v2': False,\n",
       " 'rxn_field': True,\n",
       " 'scale_regions': [[44, 2197]],\n",
       " 'validate_endstate_energies': False}"
      ]
     },
     "execution_count": 56,
     "metadata": {},
     "output_type": "execute_result"
    }
   ],
   "source": [
    "setup_options"
   ]
  },
  {
   "cell_type": "code",
   "execution_count": 74,
   "id": "fd82bc90",
   "metadata": {
    "scrolled": true
   },
   "outputs": [],
   "source": [
    "htf = setup_dict['hybrid_topology_factories']['solvent']"
   ]
  },
  {
   "cell_type": "code",
   "execution_count": 75,
   "id": "31d239c7",
   "metadata": {},
   "outputs": [],
   "source": [
    "# Save htf\n",
    "with open(\"cdk2_solvent_scale_regions.pickle\", \"wb\") as f:\n",
    "    pickle.dump(htf, f)"
   ]
  },
  {
   "cell_type": "markdown",
   "id": "dc742379",
   "metadata": {},
   "source": [
    "#### Old system HarmonicBondForce vs hybrid system CustomBondForce"
   ]
  },
  {
   "cell_type": "code",
   "execution_count": 76,
   "id": "0858c0e0",
   "metadata": {},
   "outputs": [],
   "source": [
    "# Load htf\n",
    "with open(\"/home/zhangi/choderalab/perses_benchmark/perses_protein_mutations/code/26_rxn_field/cdk2_solvent_scale_regions.pickle\", \"rb\") as f:\n",
    "    htf = pickle.load(f)"
   ]
  },
  {
   "cell_type": "code",
   "execution_count": 77,
   "id": "9860b232",
   "metadata": {},
   "outputs": [
    {
     "data": {
      "text/plain": [
       "[44, 2197]"
      ]
     },
     "execution_count": 77,
     "metadata": {},
     "output_type": "execute_result"
    }
   ],
   "source": [
    "# This is the scale region\n",
    "list(htf._atom_classes['unique_old_atoms'][0]) + list(htf._atom_classes['unique_new_atoms'][0])"
   ]
  },
  {
   "cell_type": "code",
   "execution_count": 79,
   "id": "2661b103",
   "metadata": {},
   "outputs": [
    {
     "name": "stdout",
     "output_type": "stream",
     "text": [
      "Warning: Returning CPU platform instead of requested platform <simtk.openmm.openmm.Platform; proxy of <Swig Object of type 'OpenMM::Platform *' at 0x2b6bddb657e0> >\n",
      "conducting subsequent work with the following platform: CPU\n",
      "conducting subsequent work with the following platform: CUDA\n",
      "[('HarmonicBondForce', 4.608082977954756), ('HarmonicAngleForce', 29.199523609209102), ('PeriodicTorsionForce', 15.076747992617829), ('NonbondedForce', 1624.6215250399368), ('AndersenThermostat', 0.0), ('MonteCarloBarostat', 0.0)]\n",
      "conducting subsequent work with the following platform: CUDA\n",
      "[('CustomBondForce', 4.608082977954756), ('CustomAngleForce', 29.199523609209102), ('CustomTorsionForce', 30.15410291939743), ('AndersenThermostat', 0.0), ('MonteCarloBarostat', 0.0)]\n",
      "Success! Custom angle force and standard angle force energies are equal!\n"
     ]
    }
   ],
   "source": [
    "test_angle_energies(htf, is_solvated=True)"
   ]
  },
  {
   "cell_type": "markdown",
   "id": "9d93a3cd",
   "metadata": {},
   "source": [
    "#### New system HarmonicBondForce vs hybrid system CustomBondForce"
   ]
  },
  {
   "cell_type": "code",
   "execution_count": 93,
   "id": "c2ab9959",
   "metadata": {},
   "outputs": [],
   "source": [
    "# Load htf\n",
    "with open(\"/home/zhangi/choderalab/perses_benchmark/perses_protein_mutations/code/26_rxn_field/cdk2_solvent_scale_regions.pickle\", \"rb\") as f:\n",
    "    htf = pickle.load(f)"
   ]
  },
  {
   "cell_type": "code",
   "execution_count": 94,
   "id": "dacdf51f",
   "metadata": {
    "scrolled": true
   },
   "outputs": [
    {
     "name": "stdout",
     "output_type": "stream",
     "text": [
      "Warning: Returning CPU platform instead of requested platform <simtk.openmm.openmm.Platform; proxy of <Swig Object of type 'OpenMM::Platform *' at 0x2b6bddb83c60> >\n",
      "conducting subsequent work with the following platform: CPU\n",
      "conducting subsequent work with the following platform: CUDA\n",
      "[('HarmonicBondForce', 4.519508183899664), ('HarmonicAngleForce', 29.724810973822063), ('PeriodicTorsionForce', 15.077341017914472), ('NonbondedForce', 1639.6900550143098), ('AndersenThermostat', 0.0), ('MonteCarloBarostat', 0.0)]\n",
      "conducting subsequent work with the following platform: CUDA\n",
      "[('CustomBondForce', 4.608082977954756), ('CustomAngleForce', 29.724810973822063), ('CustomTorsionForce', 30.15410291939743), ('AndersenThermostat', 0.0), ('MonteCarloBarostat', 0.0)]\n",
      "Success! Custom angle force and standard angle force energies are equal!\n",
      "conducting subsequent work with the following platform: CUDA\n",
      "[('CustomBondForce', 4.608082977954756), ('CustomAngleForce', 29.771174159217313), ('CustomTorsionForce', 30.15410291939743), ('AndersenThermostat', 0.0), ('MonteCarloBarostat', 0.0)]\n",
      "conducting subsequent work with the following platform: CUDA\n",
      "[('CustomBondForce', 4.608082977954756), ('CustomAngleForce', 29.46216729151558), ('CustomTorsionForce', 30.15410291939743), ('AndersenThermostat', 0.0), ('MonteCarloBarostat', 0.0)]\n",
      "Success! Scaling the angle force changes the energy\n"
     ]
    }
   ],
   "source": [
    "test_angle_energies(htf, is_old=False, is_solvated=True, check_scale=True)"
   ]
  },
  {
   "cell_type": "markdown",
   "id": "moderate-christopher",
   "metadata": {},
   "source": [
    "# 8mer in solvent"
   ]
  },
  {
   "cell_type": "code",
   "execution_count": 16,
   "id": "split-fitting",
   "metadata": {},
   "outputs": [
    {
     "name": "stdout",
     "output_type": "stream",
     "text": [
      "conducting subsequent work with the following platform: CUDA\n",
      "conducting subsequent work with the following platform: CUDA\n",
      "conducting subsequent work with the following platform: CUDA\n"
     ]
    }
   ],
   "source": [
    "import os\n",
    "from pkg_resources import resource_filename\n",
    "from perses.app import setup_relative_calculation\n",
    "import pickle\n",
    "from simtk import openmm, unit\n",
    "from simtk.openmm import app\n",
    "from openmmforcefields.generators import SystemGenerator\n",
    "import numpy as np"
   ]
  },
  {
   "cell_type": "markdown",
   "id": "spiritual-pension",
   "metadata": {},
   "source": [
    "### Test one alchemical region, no scale regions"
   ]
  },
  {
   "cell_type": "markdown",
   "id": "established-handy",
   "metadata": {},
   "source": [
    "#### Old system HarmonicBondForce vs hybrid system CustomBondForce"
   ]
  },
  {
   "cell_type": "code",
   "execution_count": 28,
   "id": "accessory-spectrum",
   "metadata": {},
   "outputs": [],
   "source": [
    "# Load htf\n",
    "with open(\"/home/zhangi/choderalab/perses_benchmark/perses_protein_mutations/code/26_rxn_field/8mer_solvent.pickle\", \"rb\") as f:\n",
    "    htf = pickle.load(f)"
   ]
  },
  {
   "cell_type": "code",
   "execution_count": 29,
   "id": "difficult-cream",
   "metadata": {
    "scrolled": true
   },
   "outputs": [
    {
     "name": "stdout",
     "output_type": "stream",
     "text": [
      "Warning: Returning CPU platform instead of requested platform <simtk.openmm.openmm.Platform; proxy of <Swig Object of type 'OpenMM::Platform *' at 0x2b8817b2f030> >\n",
      "conducting subsequent work with the following platform: CPU\n",
      "conducting subsequent work with the following platform: CUDA\n",
      "[('HarmonicBondForce', 7.349099420288431), ('HarmonicAngleForce', 12.529213143555554), ('PeriodicTorsionForce', 157.292123218685), ('NonbondedForce', -10459.718829031748), ('AndersenThermostat', 0.0), ('MonteCarloBarostat', 0.0)]\n",
      "conducting subsequent work with the following platform: CUDA\n",
      "[('CustomBondForce', 7.349099420288431), ('CustomAngleForce', 12.529213143555554), ('AndersenThermostat', 0.0), ('MonteCarloBarostat', 0.0)]\n",
      "Success! Custom angle force and standard angle force energies are equal!\n"
     ]
    }
   ],
   "source": [
    "test_angle_energies(htf, is_solvated=True)"
   ]
  },
  {
   "cell_type": "markdown",
   "id": "southeast-norwegian",
   "metadata": {},
   "source": [
    "#### New system HarmonicBondForce vs hybrid system CustomBondForce"
   ]
  },
  {
   "cell_type": "code",
   "execution_count": 19,
   "id": "after-medicaid",
   "metadata": {},
   "outputs": [],
   "source": [
    "# Load htf\n",
    "with open(\"/home/zhangi/choderalab/perses_benchmark/perses_protein_mutations/code/26_rxn_field/8mer_solvent.pickle\", \"rb\") as f:\n",
    "    htf = pickle.load(f)\n"
   ]
  },
  {
   "cell_type": "code",
   "execution_count": 20,
   "id": "protected-playing",
   "metadata": {},
   "outputs": [
    {
     "name": "stdout",
     "output_type": "stream",
     "text": [
      "Warning: Returning CPU platform instead of requested platform <simtk.openmm.openmm.Platform; proxy of <Swig Object of type 'OpenMM::Platform *' at 0x2b8817b2f030> >\n",
      "conducting subsequent work with the following platform: CPU\n",
      "conducting subsequent work with the following platform: CUDA\n",
      "[('HarmonicBondForce', 7.3031685822946475), ('HarmonicAngleForce', 306.5325531504853), ('PeriodicTorsionForce', 152.3548522619778), ('NonbondedForce', -10210.139290660007), ('AndersenThermostat', 0.0), ('MonteCarloBarostat', 0.0)]\n",
      "conducting subsequent work with the following platform: CUDA\n",
      "[('CustomBondForce', 7.349099420288431), ('CustomAngleForce', 306.53255315048534), ('AndersenThermostat', 0.0), ('MonteCarloBarostat', 0.0)]\n",
      "Success! Custom angle force and standard angle force energies are equal!\n"
     ]
    }
   ],
   "source": [
    "test_angle_energies(htf, is_old=False, is_solvated=True)"
   ]
  },
  {
   "cell_type": "markdown",
   "id": "intellectual-pennsylvania",
   "metadata": {},
   "source": [
    "### Test one alchemical region, one scale region"
   ]
  },
  {
   "cell_type": "markdown",
   "id": "romantic-florist",
   "metadata": {},
   "source": [
    "#### Old system HarmonicBondForce vs hybrid system CustomBondForce"
   ]
  },
  {
   "cell_type": "code",
   "execution_count": 30,
   "id": "needed-classroom",
   "metadata": {},
   "outputs": [],
   "source": [
    "# Load htf\n",
    "with open(\"/home/zhangi/choderalab/perses_benchmark/perses_protein_mutations/code/26_rxn_field/8mer_solvent_scale_region.pickle\", \"rb\") as f:\n",
    "    htf = pickle.load(f)"
   ]
  },
  {
   "cell_type": "code",
   "execution_count": 22,
   "id": "minimal-purchase",
   "metadata": {},
   "outputs": [
    {
     "data": {
      "text/plain": [
       "[21, 23, 24, 25, 26, 5576, 5575]"
      ]
     },
     "execution_count": 22,
     "metadata": {},
     "output_type": "execute_result"
    }
   ],
   "source": [
    "# This is the scale region\n",
    "list(htf._atom_classes['unique_old_atoms'][0]) + list(htf._atom_classes['unique_new_atoms'][0])"
   ]
  },
  {
   "cell_type": "code",
   "execution_count": 31,
   "id": "continuing-award",
   "metadata": {},
   "outputs": [
    {
     "name": "stdout",
     "output_type": "stream",
     "text": [
      "Warning: Returning CPU platform instead of requested platform <simtk.openmm.openmm.Platform; proxy of <Swig Object of type 'OpenMM::Platform *' at 0x2b8817b2f030> >\n",
      "conducting subsequent work with the following platform: CPU\n",
      "conducting subsequent work with the following platform: CUDA\n",
      "[('HarmonicBondForce', 7.349099420288431), ('HarmonicAngleForce', 12.529213143555554), ('PeriodicTorsionForce', 157.292123218685), ('NonbondedForce', -10255.444378993296), ('AndersenThermostat', 0.0), ('MonteCarloBarostat', 0.0)]\n",
      "conducting subsequent work with the following platform: CUDA\n",
      "[('CustomBondForce', 7.349099420288431), ('CustomAngleForce', 12.529213143555554), ('AndersenThermostat', 0.0), ('MonteCarloBarostat', 0.0)]\n",
      "Success! Custom angle force and standard angle force energies are equal!\n",
      "conducting subsequent work with the following platform: CUDA\n",
      "[('CustomBondForce', 7.349099420288431), ('CustomAngleForce', 161.18843543403023), ('AndersenThermostat', 0.0), ('MonteCarloBarostat', 0.0)]\n",
      "conducting subsequent work with the following platform: CUDA\n",
      "[('CustomBondForce', 7.349099420288431), ('CustomAngleForce', 86.73664557221115), ('AndersenThermostat', 0.0), ('MonteCarloBarostat', 0.0)]\n",
      "Success! Scaling the angle force changes the energy\n"
     ]
    }
   ],
   "source": [
    "test_angle_energies(htf, is_solvated=True, check_scale=True)"
   ]
  },
  {
   "cell_type": "markdown",
   "id": "relevant-insured",
   "metadata": {},
   "source": [
    "#### New system HarmonicBondForce vs hybrid system CustomBondForce"
   ]
  },
  {
   "cell_type": "code",
   "execution_count": 32,
   "id": "mediterranean-assist",
   "metadata": {},
   "outputs": [],
   "source": [
    "# Load htf\n",
    "with open(\"/home/zhangi/choderalab/perses_benchmark/perses_protein_mutations/code/26_rxn_field/8mer_solvent_scale_region.pickle\", \"rb\") as f:\n",
    "    htf = pickle.load(f)"
   ]
  },
  {
   "cell_type": "code",
   "execution_count": 33,
   "id": "angry-perception",
   "metadata": {
    "scrolled": true
   },
   "outputs": [
    {
     "name": "stdout",
     "output_type": "stream",
     "text": [
      "Warning: Returning CPU platform instead of requested platform <simtk.openmm.openmm.Platform; proxy of <Swig Object of type 'OpenMM::Platform *' at 0x2b8817b2f030> >\n",
      "conducting subsequent work with the following platform: CPU\n",
      "conducting subsequent work with the following platform: CUDA\n",
      "[('HarmonicBondForce', 7.3031685822946475), ('HarmonicAngleForce', 160.94407800086674), ('PeriodicTorsionForce', 152.18268170083624), ('NonbondedForce', -10122.58254369068), ('AndersenThermostat', 0.0), ('MonteCarloBarostat', 0.0)]\n",
      "conducting subsequent work with the following platform: CUDA\n",
      "[('CustomBondForce', 7.349099420288431), ('CustomAngleForce', 160.94407800086674), ('AndersenThermostat', 0.0), ('MonteCarloBarostat', 0.0)]\n",
      "Success! Custom angle force and standard angle force energies are equal!\n",
      "conducting subsequent work with the following platform: CUDA\n",
      "[('CustomBondForce', 7.349099420288431), ('CustomAngleForce', 161.18843543403023), ('AndersenThermostat', 0.0), ('MonteCarloBarostat', 0.0)]\n",
      "conducting subsequent work with the following platform: CUDA\n",
      "[('CustomBondForce', 7.349099420288431), ('CustomAngleForce', 86.73664557221115), ('AndersenThermostat', 0.0), ('MonteCarloBarostat', 0.0)]\n",
      "Success! Scaling the angle force changes the energy\n"
     ]
    }
   ],
   "source": [
    "test_angle_energies(htf, is_old=False, is_solvated=True, check_scale=True)"
   ]
  },
  {
   "cell_type": "markdown",
   "id": "corrected-meeting",
   "metadata": {},
   "source": [
    "## Barnase:barstar (old htf, no naked charge fix or counterion fix)"
   ]
  },
  {
   "cell_type": "markdown",
   "id": "japanese-persian",
   "metadata": {},
   "source": [
    "### Test one alchemical region, no scale regions"
   ]
  },
  {
   "cell_type": "markdown",
   "id": "dated-desire",
   "metadata": {},
   "source": [
    "#### Old system HarmonicAngleForce vs hybrid system CustomAngleForce"
   ]
  },
  {
   "cell_type": "code",
   "execution_count": 3,
   "id": "excellent-cosmetic",
   "metadata": {},
   "outputs": [],
   "source": [
    "# Load htf\n",
    "with open(\"T42A_complex.pickle\", \"rb\") as f:\n",
    "    htf = pickle.load(f)"
   ]
  },
  {
   "cell_type": "code",
   "execution_count": 4,
   "id": "bigger-meeting",
   "metadata": {},
   "outputs": [
    {
     "name": "stdout",
     "output_type": "stream",
     "text": [
      "Warning: Returning CPU platform instead of requested platform <simtk.openmm.openmm.Platform; proxy of <Swig Object of type 'OpenMM::Platform *' at 0x2af6d9e6a360> >\n",
      "conducting subsequent work with the following platform: CPU\n",
      "conducting subsequent work with the following platform: CUDA\n",
      "[('HarmonicBondForce', 190.9699139958041), ('HarmonicAngleForce', 797.0922707362615), ('PeriodicTorsionForce', 3856.2346108037013), ('NonbondedForce', -25366.343173297213), ('AndersenThermostat', 0.0), ('MonteCarloBarostat', 0.0)]\n",
      "conducting subsequent work with the following platform: CUDA\n",
      "[('CustomBondForce', 190.97001343592), ('CustomAngleForce', 797.0922707362635), ('CustomTorsionForce', 3856.234842190186), ('AndersenThermostat', 0.0), ('MonteCarloBarostat', 0.0)]\n",
      "Success! Custom angle force and standard angle force energies are equal!\n"
     ]
    }
   ],
   "source": [
    "test_angle_energies(htf, is_solvated=True)"
   ]
  },
  {
   "cell_type": "markdown",
   "id": "satisfactory-taxation",
   "metadata": {},
   "source": [
    "#### New system HarmonicAngleForce vs hybrid system CustomAngleForce"
   ]
  },
  {
   "cell_type": "code",
   "execution_count": 5,
   "id": "turkish-exclusive",
   "metadata": {},
   "outputs": [],
   "source": [
    "# Load htf\n",
    "with open(\"T42A_complex.pickle\", \"rb\") as f:\n",
    "    htf = pickle.load(f)"
   ]
  },
  {
   "cell_type": "code",
   "execution_count": 6,
   "id": "cordless-kitty",
   "metadata": {},
   "outputs": [
    {
     "name": "stdout",
     "output_type": "stream",
     "text": [
      "Warning: Returning CPU platform instead of requested platform <simtk.openmm.openmm.Platform; proxy of <Swig Object of type 'OpenMM::Platform *' at 0x2af6d9e6a360> >\n",
      "conducting subsequent work with the following platform: CPU\n",
      "conducting subsequent work with the following platform: CUDA\n",
      "[('HarmonicBondForce', 190.55887687012904), ('HarmonicAngleForce', 982.3171572386327), ('PeriodicTorsionForce', 3849.684097413479), ('NonbondedForce', -24973.072364300806), ('AndersenThermostat', 0.0), ('MonteCarloBarostat', 0.0)]\n",
      "conducting subsequent work with the following platform: CUDA\n",
      "[('CustomBondForce', 190.97001343592), ('CustomAngleForce', 982.3171572386327), ('CustomTorsionForce', 3856.234842190186), ('AndersenThermostat', 0.0), ('MonteCarloBarostat', 0.0)]\n",
      "Success! Custom angle force and standard angle force energies are equal!\n"
     ]
    }
   ],
   "source": [
    "test_angle_energies(htf, is_old=False, is_solvated=True)"
   ]
  },
  {
   "cell_type": "markdown",
   "id": "1800db1b",
   "metadata": {},
   "source": [
    "### Test one alchemical region, no scale regions"
   ]
  },
  {
   "cell_type": "markdown",
   "id": "6ea739cb",
   "metadata": {},
   "source": [
    "#### Old system HarmonicAngleForce vs hybrid system CustomAngleForce"
   ]
  },
  {
   "cell_type": "code",
   "execution_count": 8,
   "id": "db8a7aa2",
   "metadata": {},
   "outputs": [],
   "source": [
    "# Load htf\n",
    "with open(\"T42A_complex_scale_region.pickle\", \"rb\") as f:\n",
    "    htf = pickle.load(f)"
   ]
  },
  {
   "cell_type": "code",
   "execution_count": 10,
   "id": "19f0008d",
   "metadata": {},
   "outputs": [
    {
     "name": "stdout",
     "output_type": "stream",
     "text": [
      "Warning: Returning CPU platform instead of requested platform <simtk.openmm.openmm.Platform; proxy of <Swig Object of type 'OpenMM::Platform *' at 0x2af6d9e6a360> >\n",
      "conducting subsequent work with the following platform: CPU\n",
      "conducting subsequent work with the following platform: CUDA\n",
      "[('HarmonicBondForce', 190.96991399580065), ('HarmonicAngleForce', 797.0922707362635), ('PeriodicTorsionForce', 3856.2346108037004), ('NonbondedForce', -25367.423468547222), ('AndersenThermostat', 0.0), ('MonteCarloBarostat', 0.0)]\n",
      "conducting subsequent work with the following platform: CUDA\n",
      "[('CustomBondForce', 191.68441661118993), ('CustomAngleForce', 797.0922707362635), ('CustomTorsionForce', 3856.234842190186), ('AndersenThermostat', 0.0), ('MonteCarloBarostat', 0.0)]\n",
      "Success! Custom angle force and standard angle force energies are equal!\n",
      "conducting subsequent work with the following platform: CUDA\n",
      "[('CustomBondForce', 191.68441661118993), ('CustomAngleForce', 1002.3374923455682), ('CustomTorsionForce', 3856.234842190186), ('AndersenThermostat', 0.0), ('MonteCarloBarostat', 0.0)]\n",
      "conducting subsequent work with the following platform: CUDA\n",
      "[('CustomBondForce', 191.68441661118993), ('CustomAngleForce', 898.8983985639203), ('CustomTorsionForce', 3856.234842190186), ('AndersenThermostat', 0.0), ('MonteCarloBarostat', 0.0)]\n",
      "Success! Scaling the angle force changes the energy\n"
     ]
    }
   ],
   "source": [
    "test_angle_energies(htf, is_solvated=True, check_scale=True)"
   ]
  },
  {
   "cell_type": "markdown",
   "id": "2e61550e",
   "metadata": {},
   "source": [
    "#### New system HarmonicAngleForce vs hybrid system CustomAngleForce"
   ]
  },
  {
   "cell_type": "code",
   "execution_count": 11,
   "id": "a43d176d",
   "metadata": {},
   "outputs": [],
   "source": [
    "# Load htf\n",
    "with open(\"T42A_complex_scale_region.pickle\", \"rb\") as f:\n",
    "    htf = pickle.load(f)"
   ]
  },
  {
   "cell_type": "code",
   "execution_count": 12,
   "id": "55a684d3",
   "metadata": {
    "scrolled": true
   },
   "outputs": [
    {
     "name": "stdout",
     "output_type": "stream",
     "text": [
      "Warning: Returning CPU platform instead of requested platform <simtk.openmm.openmm.Platform; proxy of <Swig Object of type 'OpenMM::Platform *' at 0x2af6d9e6a360> >\n",
      "conducting subsequent work with the following platform: CPU\n",
      "conducting subsequent work with the following platform: CUDA\n",
      "[('HarmonicBondForce', 191.27328004539896), ('HarmonicAngleForce', 1000.7045263915769), ('PeriodicTorsionForce', 3849.683473240853), ('NonbondedForce', -24737.764251905406), ('AndersenThermostat', 0.0), ('MonteCarloBarostat', 0.0)]\n",
      "conducting subsequent work with the following platform: CUDA\n",
      "[('CustomBondForce', 191.68441661118993), ('CustomAngleForce', 1000.7045263915769), ('CustomTorsionForce', 3856.234842190186), ('AndersenThermostat', 0.0), ('MonteCarloBarostat', 0.0)]\n",
      "Success! Custom angle force and standard angle force energies are equal!\n",
      "conducting subsequent work with the following platform: CUDA\n",
      "[('CustomBondForce', 191.68441661118993), ('CustomAngleForce', 1002.3374923455682), ('CustomTorsionForce', 3856.234842190186), ('AndersenThermostat', 0.0), ('MonteCarloBarostat', 0.0)]\n",
      "conducting subsequent work with the following platform: CUDA\n",
      "[('CustomBondForce', 191.68441661118993), ('CustomAngleForce', 898.8983985639203), ('CustomTorsionForce', 3856.234842190186), ('AndersenThermostat', 0.0), ('MonteCarloBarostat', 0.0)]\n",
      "Success! Scaling the angle force changes the energy\n"
     ]
    }
   ],
   "source": [
    "test_angle_energies(htf, is_old=False, is_solvated=True, check_scale=True)"
   ]
  },
  {
   "cell_type": "code",
   "execution_count": null,
   "id": "38179913",
   "metadata": {},
   "outputs": [],
   "source": []
  },
  {
   "cell_type": "code",
   "execution_count": null,
   "id": "7ba99c4b",
   "metadata": {},
   "outputs": [],
   "source": [
    "# TO DO: actually test the scaling of the energies matches"
   ]
  }
 ],
 "metadata": {
  "kernelspec": {
   "display_name": "Python 3",
   "language": "python",
   "name": "python3"
  },
  "language_info": {
   "codemirror_mode": {
    "name": "ipython",
    "version": 3
   },
   "file_extension": ".py",
   "mimetype": "text/x-python",
   "name": "python",
   "nbconvert_exporter": "python",
   "pygments_lexer": "ipython3",
   "version": "3.8.6"
  }
 },
 "nbformat": 4,
 "nbformat_minor": 5
}
