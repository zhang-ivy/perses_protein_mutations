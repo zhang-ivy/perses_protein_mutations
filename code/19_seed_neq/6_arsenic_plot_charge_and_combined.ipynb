{
 "cells": [
  {
   "cell_type": "markdown",
   "metadata": {},
   "source": [
    "# Charge mutations"
   ]
  },
  {
   "cell_type": "markdown",
   "metadata": {},
   "source": [
    "## Format the data appropriately for arsenic"
   ]
  },
  {
   "cell_type": "code",
   "execution_count": 1,
   "metadata": {},
   "outputs": [],
   "source": [
    "import numpy as np\n",
    "import pickle\n",
    "from simtk.openmm import unit\n",
    "from openmmtools.constants import kB\n",
    "import pandas as pd\n",
    "KT_KCALMOL = kB * 300 * unit.kelvin / unit.kilocalories_per_mole"
   ]
  },
  {
   "cell_type": "code",
   "execution_count": 2,
   "metadata": {},
   "outputs": [],
   "source": [
    "def compute_binding_ddgs(apo_ddg, complex_ddg):\n",
    "    return (apo_ddg**2 + complex_ddg**2)**0.5"
   ]
  },
  {
   "cell_type": "code",
   "execution_count": 3,
   "metadata": {},
   "outputs": [
    {
     "name": "stdout",
     "output_type": "stream",
     "text": [
      "loading 0\n",
      "loading 1\n",
      "loading 2\n",
      "loading 3\n",
      "loading 4\n",
      "loading 5\n",
      "loading 6\n",
      "loading 7\n"
     ]
    }
   ],
   "source": [
    "title_pairs = [[\"D35A\", \"A35D\"], [\"D39A\", \"A39D\"], [\"E76A\", \"A76E\"], [\"E80A\", \"A80E\"], [\"K27A\", \"A27K\"], [\"R59A\", \"A59R\"], [\"R83Q\", \"Q83R\"], [\"R87A\", \"A87R\"]]\n",
    "dir_num = 13\n",
    "# subdirs = [48, 77, 52, 54, 87, 111, 60, 85]\n",
    "subdirs = [48, 93, 52, 54, 87, 81, 60, 85]\n",
    "\n",
    "# to_plot = ['# Calculated block', '# Mutant1, Mutant2, calc_DDG, calc_dDDG(BAR), calc_dDDG(additional)']\n",
    "to_plot = []\n",
    "for i, subdir in enumerate(subdirs):\n",
    "    print(f\"loading {i}\")\n",
    "    with open(f\"/data/chodera/zhangi/perses_benchmark/neq/{dir_num}/{subdir}/ddgs.pickle\", \"rb\") as f:\n",
    "        ddgs = pickle.load(f)\n",
    "    with open(f\"/data/chodera/zhangi/perses_benchmark/neq/{dir_num}/{subdir}/dgs_phase.pickle\", \"rb\") as f:\n",
    "        dgs_phase = pickle.load(f)\n",
    "        \n",
    "        # Compute binding ddgs from BAR\n",
    "        binding_ddgs_forward = []\n",
    "        binding_ddgs_backward = []\n",
    "        for j in range(len(dgs_phase)):\n",
    "            binding_ddgs_forward.append(compute_binding_ddgs(dgs_phase[subdir][j]['apo'][1], dgs_phase[subdir][j]['complex'][1]))\n",
    "            binding_ddgs_backward.append(compute_binding_ddgs(dgs_phase[subdir+1][j]['apo'][1], dgs_phase[subdir+1][j]['complex'][1]))\n",
    "\n",
    "    to_plot.append([title_pairs[i][0][:-1], title_pairs[i][0][-1] + title_pairs[i][0][1:3], np.mean(ddgs[subdir])*KT_KCALMOL, np.mean(binding_ddgs_forward)*KT_KCALMOL, abs(np.mean(ddgs[subdir])*KT_KCALMOL - np.percentile(ddgs[subdir], 2.5)*KT_KCALMOL)])\n",
    "    to_plot.append([title_pairs[i][1][:-1], title_pairs[i][1][-1] + title_pairs[i][1][1:3], np.mean(ddgs[subdir+1])*KT_KCALMOL, np.mean(binding_ddgs_backward)*KT_KCALMOL, abs(np.mean(ddgs[subdir+1])*KT_KCALMOL - np.percentile(ddgs[subdir+1], 2.5)*KT_KCALMOL)]) # take the negative of these so they match the forward transform values\n",
    "        \n",
    "        \n",
    "        "
   ]
  },
  {
   "cell_type": "code",
   "execution_count": 4,
   "metadata": {},
   "outputs": [
    {
     "data": {
      "text/plain": [
       "[['D35', 'A35', 3.3361230126522723, 0.251178626766434, 0.7054767974544416],\n",
       " ['A35', 'D35', -3.7979182701636978, 0.2858335678295301, 0.6565747899470384],\n",
       " ['D39', 'A39', 11.640782793425467, 0.49362177719391565, 1.2342624500635235],\n",
       " ['A39', 'D39', -10.68945154912351, 0.5279329060680924, 0.9403447738741448],\n",
       " ['E76', 'A76', 1.559170413830258, 0.11075514317631868, 0.19286311574620485],\n",
       " ['A76', 'E76', -1.6660092807002005, 0.12398689413248688, 0.24645621585027389],\n",
       " ['E80', 'A80', 0.10775836885481871, 0.12852819478369662, 0.24395299839794604],\n",
       " ['A80', 'E80', -0.11109197797905189, 0.10625663524533774, 0.2285969187674574],\n",
       " ['K27', 'A27', 6.022676839739163, 0.438129026273587, 1.2639995026975326],\n",
       " ['A27', 'K27', -6.922387947121931, 0.40903266753179873, 0.5861298326073276],\n",
       " ['R59', 'A59', 1.6480031743459456, 0.12889994235653535, 0.29776691095748675],\n",
       " ['A59', 'R59', -5.051492580233704, 0.2626751246310523, 0.5441072255488111],\n",
       " ['R83', 'Q83', 12.508175497970063, 0.6423395077886132, 2.377263531074737],\n",
       " ['Q83', 'R83', -15.118105884079709, 0.7347542867528654, 2.0596525613082814],\n",
       " ['R87', 'A87', 17.871007197677766, 0.5960391996182163, 1.448864340241915],\n",
       " ['A87', 'R87', -17.850141332452004, 0.43221604986840395, 1.573652445034984]]"
      ]
     },
     "execution_count": 4,
     "metadata": {},
     "output_type": "execute_result"
    }
   ],
   "source": [
    "to_plot"
   ]
  },
  {
   "cell_type": "code",
   "execution_count": 5,
   "metadata": {},
   "outputs": [],
   "source": [
    "d = {'WT': 19.0, 'A27': 13.6, 'A59': 13.8, 'Q83': 13.6, 'A87': 13.5, 'A35': 14.5, 'A39': 11.3, 'A76': 17.65, 'A80': 18.5}"
   ]
  },
  {
   "cell_type": "code",
   "execution_count": 6,
   "metadata": {},
   "outputs": [],
   "source": [
    "# experiment = ['# Experiment block', '# Mutant, expt_DDG, expt_dDDG']\n",
    "experiment = []\n",
    "for k in d.keys():\n",
    "    if k == 'WT':\n",
    "        experiment.append(['K27', d['WT']*-1, 0]) # take the negative of everything bc i think hannah subtracts differently\n",
    "        experiment.append(['R59', d['WT']*-1, 0])\n",
    "        experiment.append(['R83', d['WT']*-1, 0])\n",
    "        experiment.append(['R87', d['WT']*-1, 0])\n",
    "        experiment.append(['D35', d['WT']*-1, 0])\n",
    "        experiment.append(['D39', d['WT']*-1, 0])\n",
    "        experiment.append(['E76', d['WT']*-1, 0])\n",
    "        experiment.append(['E80', d['WT']*-1, 0])\n",
    "    else:\n",
    "        experiment.append([k, d[k]*-1, 0])"
   ]
  },
  {
   "cell_type": "code",
   "execution_count": 7,
   "metadata": {},
   "outputs": [
    {
     "data": {
      "text/plain": [
       "[['K27', -19.0, 0],\n",
       " ['R59', -19.0, 0],\n",
       " ['R83', -19.0, 0],\n",
       " ['R87', -19.0, 0],\n",
       " ['D35', -19.0, 0],\n",
       " ['D39', -19.0, 0],\n",
       " ['E76', -19.0, 0],\n",
       " ['E80', -19.0, 0],\n",
       " ['A27', -13.6, 0],\n",
       " ['A59', -13.8, 0],\n",
       " ['Q83', -13.6, 0],\n",
       " ['A87', -13.5, 0],\n",
       " ['A35', -14.5, 0],\n",
       " ['A39', -11.3, 0],\n",
       " ['A76', -17.65, 0],\n",
       " ['A80', -18.5, 0]]"
      ]
     },
     "execution_count": 7,
     "metadata": {},
     "output_type": "execute_result"
    }
   ],
   "source": [
    "experiment"
   ]
  },
  {
   "cell_type": "code",
   "execution_count": 8,
   "metadata": {},
   "outputs": [],
   "source": [
    "pd.DataFrame(experiment + to_plot).to_csv(f\"/data/chodera/zhangi/perses_benchmark/neq/{dir_num}/arsenic_input_charge_optimized.csv\", index=False, header=False)\n",
    "# Had to manually add headings, otherwise the lists wouldn't print out as comma separated\n",
    "# Had to remove extra commas in experimental block\n"
   ]
  },
  {
   "cell_type": "code",
   "execution_count": 10,
   "metadata": {
    "scrolled": true
   },
   "outputs": [
    {
     "data": {
      "text/plain": [
       "[['K27', -19.0, 0],\n",
       " ['R59', -19.0, 0],\n",
       " ['R83', -19.0, 0],\n",
       " ['R87', -19.0, 0],\n",
       " ['D35', -19.0, 0],\n",
       " ['D39', -19.0, 0],\n",
       " ['E76', -19.0, 0],\n",
       " ['E80', -19.0, 0],\n",
       " ['A27', -13.6, 0],\n",
       " ['A59', -13.8, 0],\n",
       " ['Q83', -13.6, 0],\n",
       " ['A87', -13.5, 0],\n",
       " ['A35', -14.5, 0],\n",
       " ['A39', -11.3, 0],\n",
       " ['A76', -17.65, 0],\n",
       " ['A80', -18.5, 0],\n",
       " ['D35', 'A35', 3.3361230126522723, 0.251178626766434, 0.7054767974544416],\n",
       " ['A35', 'D35', -3.7979182701636978, 0.2858335678295301, 0.6565747899470384],\n",
       " ['D39', 'A39', 9.483180161149908, 0.6647554855598119, 1.003642256508014],\n",
       " ['A39', 'D39', -9.909469901434738, 0.3835075155786505, 0.5505371741862408],\n",
       " ['E76', 'A76', 1.559170413830258, 0.11075514317631868, 0.19286311574620485],\n",
       " ['A76', 'E76', -1.6660092807002005, 0.12398689413248688, 0.24645621585027389],\n",
       " ['E80', 'A80', 0.10775836885481871, 0.12852819478369662, 0.24395299839794604],\n",
       " ['A80', 'E80', -0.11109197797905189, 0.10625663524533774, 0.2285969187674574],\n",
       " ['K27', 'A27', 6.022676839739163, 0.438129026273587, 1.2639995026975326],\n",
       " ['A27', 'K27', -6.922387947121931, 0.40903266753179873, 0.5861298326073276],\n",
       " ['R59', 'A59', 4.816797098364077, 0.2938735317067046, 0.5307148740633849],\n",
       " ['A59', 'R59', -4.1072903440177475, 0.25262648796442816, 0.6090972898262521],\n",
       " ['R83', 'Q83', 12.508175497970063, 0.6423395077886132, 2.377263531074737],\n",
       " ['Q83', 'R83', -15.118105884079709, 0.7347542867528654, 2.0596525613082814],\n",
       " ['R87', 'A87', 17.871007197677766, 0.5960391996182163, 1.448864340241915],\n",
       " ['A87', 'R87', -17.850141332452004, 0.43221604986840395, 1.573652445034984]]"
      ]
     },
     "execution_count": 10,
     "metadata": {},
     "output_type": "execute_result"
    }
   ],
   "source": [
    "experiment + to_plot"
   ]
  },
  {
   "cell_type": "markdown",
   "metadata": {},
   "source": [
    "## Make arsenic plot"
   ]
  },
  {
   "cell_type": "code",
   "execution_count": 16,
   "metadata": {
    "scrolled": true
   },
   "outputs": [],
   "source": [
    "import numpy as np\n",
    "\n",
    "%matplotlib inline\n",
    "import matplotlib.pylab as plt\n",
    "\n",
    "from arsenic import plotting, stats, wrangle"
   ]
  },
  {
   "cell_type": "code",
   "execution_count": 17,
   "metadata": {},
   "outputs": [
    {
     "name": "stdout",
     "output_type": "stream",
     "text": [
      "Graph is not connected enough to compute absolute values\n"
     ]
    }
   ],
   "source": [
    "fe = wrangle.FEMap('/data/chodera/zhangi/perses_benchmark/neq/13/arsenic_input_charge_optimized.csv')"
   ]
  },
  {
   "cell_type": "code",
   "execution_count": 18,
   "metadata": {
    "scrolled": true
   },
   "outputs": [
    {
     "data": {
      "image/png": "[encoded data removed]",
      "text/plain": [
       "<Figure size 234x234 with 1 Axes>"
      ]
     },
     "metadata": {
      "needs_background": "light"
     },
     "output_type": "display_data"
    }
   ],
   "source": [
    "plotting.plot_DDGs(fe.graph,target_name='barnase/barstar', title='Charge mutations in barnase/barstar', units=r'$\\mathrm{kcal\\,/mol}$', filename='/data/chodera/zhangi/perses_benchmark/neq/13/arsenic_input_charge_optimized.png')\n",
    "# added dpi to savefig() in local version\n",
    "# removed \"/\" in labels in local version"
   ]
  },
  {
   "cell_type": "markdown",
   "metadata": {},
   "source": [
    "# Make combined"
   ]
  },
  {
   "cell_type": "markdown",
   "metadata": {},
   "source": [
    "## Format the data appropriately for arsenic"
   ]
  },
  {
   "cell_type": "code",
   "execution_count": 1,
   "metadata": {},
   "outputs": [],
   "source": [
    "import numpy as np\n",
    "import pickle\n",
    "from simtk.openmm import unit\n",
    "from openmmtools.constants import kB\n",
    "import pandas as pd\n",
    "KT_KCALMOL = kB * 300 * unit.kelvin / unit.kilocalories_per_mole"
   ]
  },
  {
   "cell_type": "code",
   "execution_count": 2,
   "metadata": {},
   "outputs": [],
   "source": [
    "def compute_binding_ddgs(apo_ddg, complex_ddg):\n",
    "    return (apo_ddg**2 + complex_ddg**2)**0.5"
   ]
  },
  {
   "cell_type": "code",
   "execution_count": 19,
   "metadata": {},
   "outputs": [
    {
     "name": "stdout",
     "output_type": "stream",
     "text": [
      "loading 0\n",
      "loading 1\n",
      "loading 2\n",
      "loading 3\n",
      "loading 4\n",
      "loading 5\n",
      "loading 6\n",
      "loading 7\n",
      "loading 8\n",
      "loading 9\n",
      "loading 10\n",
      "loading 11\n",
      "loading 12\n"
     ]
    }
   ],
   "source": [
    "title_pairs = [[\"T42A\", \"A42T\"], [\"Y29A\", \"A29Y\"], [\"W38F\", \"F38W\"], [\"W44F\", \"F44W\"], [\"Y29F\", \"F29Y\"]] + [[\"D35A\", \"A35D\"], [\"D39A\", \"A39D\"], [\"E76A\", \"A76E\"], [\"E80A\", \"A80E\"], [\"K27A\", \"A27K\"], [\"R59A\", \"A59R\"], [\"R83Q\", \"Q83R\"], [\"R87A\", \"A87R\"]]\n",
    "dir_num = 13\n",
    "subdirs = [6, 40, 42, 44, 46] + [48, 93, 52, 54, 87, 81, 60, 85]\n",
    "\n",
    "# to_plot = ['# Calculated block', '# Mutant1, Mutant2, calc_DDG, calc_dDDG(BAR), calc_dDDG(additional)']\n",
    "to_plot = []\n",
    "for i, subdir in enumerate(subdirs):\n",
    "    print(f\"loading {i}\")\n",
    "    with open(f\"/data/chodera/zhangi/perses_benchmark/neq/{dir_num}/{subdir}/ddgs.pickle\", \"rb\") as f:\n",
    "        ddgs = pickle.load(f)\n",
    "    with open(f\"/data/chodera/zhangi/perses_benchmark/neq/{dir_num}/{subdir}/dgs_phase.pickle\", \"rb\") as f:\n",
    "        dgs_phase = pickle.load(f)\n",
    "        \n",
    "        # Compute binding ddgs from BAR\n",
    "        binding_ddgs_forward = []\n",
    "        binding_ddgs_backward = []\n",
    "        for j in range(len(dgs_phase)):\n",
    "            binding_ddgs_forward.append(compute_binding_ddgs(dgs_phase[subdir][j]['apo'][1], dgs_phase[subdir][j]['complex'][1]))\n",
    "            binding_ddgs_backward.append(compute_binding_ddgs(dgs_phase[subdir+1][j]['apo'][1], dgs_phase[subdir+1][j]['complex'][1]))\n",
    "\n",
    "    to_plot.append([title_pairs[i][0][:-1], title_pairs[i][0][-1] + title_pairs[i][0][1:3], np.mean(ddgs[subdir])*KT_KCALMOL, np.mean(binding_ddgs_forward)*KT_KCALMOL, abs(np.mean(ddgs[subdir])*KT_KCALMOL - np.percentile(ddgs[subdir], 2.5)*KT_KCALMOL)])\n",
    "    to_plot.append([title_pairs[i][1][:-1], title_pairs[i][1][-1] + title_pairs[i][1][1:3], np.mean(ddgs[subdir+1])*KT_KCALMOL, np.mean(binding_ddgs_backward)*KT_KCALMOL, abs(np.mean(ddgs[subdir+1])*KT_KCALMOL - np.percentile(ddgs[subdir+1], 2.5)*KT_KCALMOL)]) # take the negative of these so they match the forward transform values\n",
    "        \n",
    "        \n",
    "        "
   ]
  },
  {
   "cell_type": "code",
   "execution_count": 20,
   "metadata": {},
   "outputs": [
    {
     "data": {
      "text/plain": [
       "[['T42', 'A42', 2.4775736774625106, 0.14492823192572338, 0.29206655901304357],\n",
       " ['A42', 'T42', -2.590317634725722, 0.1387902887463084, 0.2906048518893245],\n",
       " ['Y29', 'A29', 3.2135658869309403, 0.26295875875044394, 0.3741518275551283],\n",
       " ['A29', 'Y29', -3.410853432180609, 0.28930036438288387, 0.46648340240812924],\n",
       " ['W38', 'F38', 0.7125039103042382, 0.20221595299471318, 0.46123576363406604],\n",
       " ['F38', 'W38', -0.9759662823876831, 0.15341288497910646, 0.3381558229628292],\n",
       " ['W44', 'F44', 0.7481621264382506, 0.19140728919281358, 0.34685330514067536],\n",
       " ['F44', 'W44', -1.017484686587127, 0.17805351350430415, 0.30790942608488026],\n",
       " ['Y29', 'F29', 0.945489267336097, 0.04849480281589095, 0.09933728706953215],\n",
       " ['F29', 'Y29', -1.0369962276372082, 0.05394158723693792, 0.11880044657317268],\n",
       " ['D35', 'A35', 3.3361230126522723, 0.251178626766434, 0.7054767974544416],\n",
       " ['A35', 'D35', -3.7979182701636978, 0.2858335678295301, 0.6565747899470384],\n",
       " ['D39', 'A39', 11.640782793425467, 0.49362177719391565, 1.2342624500635235],\n",
       " ['A39', 'D39', -10.68945154912351, 0.5279329060680924, 0.9403447738741448],\n",
       " ['E76', 'A76', 1.559170413830258, 0.11075514317631868, 0.19286311574620485],\n",
       " ['A76', 'E76', -1.6660092807002005, 0.12398689413248688, 0.24645621585027389],\n",
       " ['E80', 'A80', 0.10775836885481871, 0.12852819478369662, 0.24395299839794604],\n",
       " ['A80', 'E80', -0.11109197797905189, 0.10625663524533774, 0.2285969187674574],\n",
       " ['K27', 'A27', 6.022676839739163, 0.438129026273587, 1.2639995026975326],\n",
       " ['A27', 'K27', -6.922387947121931, 0.40903266753179873, 0.5861298326073276],\n",
       " ['R59', 'A59', 1.6480031743459456, 0.12889994235653535, 0.29776691095748675],\n",
       " ['A59', 'R59', -5.051492580233704, 0.2626751246310523, 0.5441072255488111],\n",
       " ['R83', 'Q83', 12.508175497970063, 0.6423395077886132, 2.377263531074737],\n",
       " ['Q83', 'R83', -15.118105884079709, 0.7347542867528654, 2.0596525613082814],\n",
       " ['R87', 'A87', 17.871007197677766, 0.5960391996182163, 1.448864340241915],\n",
       " ['A87', 'R87', -17.850141332452004, 0.43221604986840395, 1.573652445034984]]"
      ]
     },
     "execution_count": 20,
     "metadata": {},
     "output_type": "execute_result"
    }
   ],
   "source": [
    "to_plot"
   ]
  },
  {
   "cell_type": "code",
   "execution_count": 22,
   "metadata": {},
   "outputs": [],
   "source": [
    "d = {'WT': 19.0, 'F29': 19.1, 'A29': 15.6, 'F38': 17.4, 'A42': 17.2, 'F44': 19.0, 'A27': 13.6, 'A59': 13.8, 'Q83': 13.6, 'A87': 13.5, 'A35': 14.5, 'A39': 11.3, 'A76': 17.65, 'A80': 18.5}"
   ]
  },
  {
   "cell_type": "code",
   "execution_count": 23,
   "metadata": {},
   "outputs": [],
   "source": [
    "# experiment = ['# Experiment block', '# Mutant, expt_DDG, expt_dDDG']\n",
    "experiment = []\n",
    "for k in d.keys():\n",
    "    if k == 'WT':\n",
    "        experiment.append(['T42', d['WT']*-1, 0]) # take the negative of everything bc i think hannah subtracts differently\n",
    "        experiment.append(['Y29', d['WT']*-1, 0])\n",
    "        experiment.append(['W38', d['WT']*-1, 0])\n",
    "        experiment.append(['W44', d['WT']*-1, 0])\n",
    "        experiment.append(['Y29', d['WT']*-1, 0])\n",
    "        experiment.append(['K27', d['WT']*-1, 0]) # take the negative of everything bc i think hannah subtracts differently\n",
    "        experiment.append(['R59', d['WT']*-1, 0])\n",
    "        experiment.append(['R83', d['WT']*-1, 0])\n",
    "        experiment.append(['R87', d['WT']*-1, 0])\n",
    "        experiment.append(['D35', d['WT']*-1, 0])\n",
    "        experiment.append(['D39', d['WT']*-1, 0])\n",
    "        experiment.append(['E76', d['WT']*-1, 0])\n",
    "        experiment.append(['E80', d['WT']*-1, 0])\n",
    "    else:\n",
    "        experiment.append([k, d[k]*-1, 0])"
   ]
  },
  {
   "cell_type": "code",
   "execution_count": 24,
   "metadata": {},
   "outputs": [
    {
     "data": {
      "text/plain": [
       "[['T42', -19.0, 0],\n",
       " ['Y29', -19.0, 0],\n",
       " ['W38', -19.0, 0],\n",
       " ['W44', -19.0, 0],\n",
       " ['Y29', -19.0, 0],\n",
       " ['K27', -19.0, 0],\n",
       " ['R59', -19.0, 0],\n",
       " ['R83', -19.0, 0],\n",
       " ['R87', -19.0, 0],\n",
       " ['D35', -19.0, 0],\n",
       " ['D39', -19.0, 0],\n",
       " ['E76', -19.0, 0],\n",
       " ['E80', -19.0, 0],\n",
       " ['F29', -19.1, 0],\n",
       " ['A29', -15.6, 0],\n",
       " ['F38', -17.4, 0],\n",
       " ['A42', -17.2, 0],\n",
       " ['F44', -19.0, 0],\n",
       " ['A27', -13.6, 0],\n",
       " ['A59', -13.8, 0],\n",
       " ['Q83', -13.6, 0],\n",
       " ['A87', -13.5, 0],\n",
       " ['A35', -14.5, 0],\n",
       " ['A39', -11.3, 0],\n",
       " ['A76', -17.65, 0],\n",
       " ['A80', -18.5, 0]]"
      ]
     },
     "execution_count": 24,
     "metadata": {},
     "output_type": "execute_result"
    }
   ],
   "source": [
    "experiment"
   ]
  },
  {
   "cell_type": "code",
   "execution_count": 25,
   "metadata": {},
   "outputs": [],
   "source": [
    "pd.DataFrame(experiment + to_plot).to_csv(f\"/data/chodera/zhangi/perses_benchmark/neq/{dir_num}/arsenic_input_combined.csv\", index=False, header=False)\n",
    "# Had to manually add headings, otherwise the lists wouldn't print out as comma separated\n",
    "# Had to remove extra commas in experimental block\n"
   ]
  },
  {
   "cell_type": "code",
   "execution_count": 26,
   "metadata": {
    "scrolled": true
   },
   "outputs": [
    {
     "data": {
      "text/plain": [
       "[['T42', -19.0, 0],\n",
       " ['Y29', -19.0, 0],\n",
       " ['W38', -19.0, 0],\n",
       " ['W44', -19.0, 0],\n",
       " ['Y29', -19.0, 0],\n",
       " ['K27', -19.0, 0],\n",
       " ['R59', -19.0, 0],\n",
       " ['R83', -19.0, 0],\n",
       " ['R87', -19.0, 0],\n",
       " ['D35', -19.0, 0],\n",
       " ['D39', -19.0, 0],\n",
       " ['E76', -19.0, 0],\n",
       " ['E80', -19.0, 0],\n",
       " ['F29', -19.1, 0],\n",
       " ['A29', -15.6, 0],\n",
       " ['F38', -17.4, 0],\n",
       " ['A42', -17.2, 0],\n",
       " ['F44', -19.0, 0],\n",
       " ['A27', -13.6, 0],\n",
       " ['A59', -13.8, 0],\n",
       " ['Q83', -13.6, 0],\n",
       " ['A87', -13.5, 0],\n",
       " ['A35', -14.5, 0],\n",
       " ['A39', -11.3, 0],\n",
       " ['A76', -17.65, 0],\n",
       " ['A80', -18.5, 0],\n",
       " ['T42', 'A42', 2.4775736774625106, 0.14492823192572338, 0.29206655901304357],\n",
       " ['A42', 'T42', -2.590317634725722, 0.1387902887463084, 0.2906048518893245],\n",
       " ['Y29', 'A29', 3.2135658869309403, 0.26295875875044394, 0.3741518275551283],\n",
       " ['A29', 'Y29', -3.410853432180609, 0.28930036438288387, 0.46648340240812924],\n",
       " ['W38', 'F38', 0.7125039103042382, 0.20221595299471318, 0.46123576363406604],\n",
       " ['F38', 'W38', -0.9759662823876831, 0.15341288497910646, 0.3381558229628292],\n",
       " ['W44', 'F44', 0.7481621264382506, 0.19140728919281358, 0.34685330514067536],\n",
       " ['F44', 'W44', -1.017484686587127, 0.17805351350430415, 0.30790942608488026],\n",
       " ['Y29', 'F29', 0.945489267336097, 0.04849480281589095, 0.09933728706953215],\n",
       " ['F29', 'Y29', -1.0369962276372082, 0.05394158723693792, 0.11880044657317268],\n",
       " ['D35', 'A35', 3.3361230126522723, 0.251178626766434, 0.7054767974544416],\n",
       " ['A35', 'D35', -3.7979182701636978, 0.2858335678295301, 0.6565747899470384],\n",
       " ['D39', 'A39', 11.640782793425467, 0.49362177719391565, 1.2342624500635235],\n",
       " ['A39', 'D39', -10.68945154912351, 0.5279329060680924, 0.9403447738741448],\n",
       " ['E76', 'A76', 1.559170413830258, 0.11075514317631868, 0.19286311574620485],\n",
       " ['A76', 'E76', -1.6660092807002005, 0.12398689413248688, 0.24645621585027389],\n",
       " ['E80', 'A80', 0.10775836885481871, 0.12852819478369662, 0.24395299839794604],\n",
       " ['A80', 'E80', -0.11109197797905189, 0.10625663524533774, 0.2285969187674574],\n",
       " ['K27', 'A27', 6.022676839739163, 0.438129026273587, 1.2639995026975326],\n",
       " ['A27', 'K27', -6.922387947121931, 0.40903266753179873, 0.5861298326073276],\n",
       " ['R59', 'A59', 1.6480031743459456, 0.12889994235653535, 0.29776691095748675],\n",
       " ['A59', 'R59', -5.051492580233704, 0.2626751246310523, 0.5441072255488111],\n",
       " ['R83', 'Q83', 12.508175497970063, 0.6423395077886132, 2.377263531074737],\n",
       " ['Q83', 'R83', -15.118105884079709, 0.7347542867528654, 2.0596525613082814],\n",
       " ['R87', 'A87', 17.871007197677766, 0.5960391996182163, 1.448864340241915],\n",
       " ['A87', 'R87', -17.850141332452004, 0.43221604986840395, 1.573652445034984]]"
      ]
     },
     "execution_count": 26,
     "metadata": {},
     "output_type": "execute_result"
    }
   ],
   "source": [
    "experiment + to_plot"
   ]
  },
  {
   "cell_type": "markdown",
   "metadata": {},
   "source": [
    "## Make arsenic plot"
   ]
  },
  {
   "cell_type": "code",
   "execution_count": 27,
   "metadata": {
    "scrolled": true
   },
   "outputs": [],
   "source": [
    "import numpy as np\n",
    "\n",
    "%matplotlib inline\n",
    "import matplotlib.pylab as plt\n",
    "\n",
    "from arsenic import plotting, stats, wrangle"
   ]
  },
  {
   "cell_type": "code",
   "execution_count": 28,
   "metadata": {},
   "outputs": [
    {
     "name": "stdout",
     "output_type": "stream",
     "text": [
      "Graph is not connected enough to compute absolute values\n"
     ]
    }
   ],
   "source": [
    "fe = wrangle.FEMap('/data/chodera/zhangi/perses_benchmark/neq/13/arsenic_input_combined.csv')"
   ]
  },
  {
   "cell_type": "code",
   "execution_count": 29,
   "metadata": {
    "scrolled": true
   },
   "outputs": [
    {
     "data": {
      "image/png": "[encoded data removed]",
      "text/plain": [
       "<Figure size 234x234 with 1 Axes>"
      ]
     },
     "metadata": {
      "needs_background": "light"
     },
     "output_type": "display_data"
    }
   ],
   "source": [
    "plotting.plot_DDGs(fe.graph,target_name='barnase/barstar', title='Mutations in barnase/barstar', units=r'$\\mathrm{kcal\\,/mol}$', filename='/data/chodera/zhangi/perses_benchmark/neq/13/arsenic_input_combined.png')\n",
    "# added dpi to savefig() in local version\n",
    "# removed \"/\" in labels in local version"
   ]
  },
  {
   "cell_type": "code",
   "execution_count": null,
   "metadata": {},
   "outputs": [],
   "source": []
  }
 ],
 "metadata": {
  "kernelspec": {
   "display_name": "Python 3",
   "language": "python",
   "name": "python3"
  },
  "language_info": {
   "codemirror_mode": {
    "name": "ipython",
    "version": 3
   },
   "file_extension": ".py",
   "mimetype": "text/x-python",
   "name": "python",
   "nbconvert_exporter": "python",
   "pygments_lexer": "ipython3",
   "version": "3.8.6"
  }
 },
 "nbformat": 4,
 "nbformat_minor": 4
}
