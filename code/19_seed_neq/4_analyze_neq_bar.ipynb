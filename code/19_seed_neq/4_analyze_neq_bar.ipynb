{
 "cells": [
  {
   "cell_type": "markdown",
   "metadata": {},
   "source": [
    "Note: this analysis is for 13/4 and 13/5 -- seeding from decorrelated low temp cache snapshots"
   ]
  },
  {
   "cell_type": "markdown",
   "metadata": {},
   "source": [
    "## Get states for each work trajectory for A42T"
   ]
  },
  {
   "cell_type": "code",
   "execution_count": 1,
   "metadata": {},
   "outputs": [],
   "source": [
    "import math\n",
    "from simtk import unit\n",
    "import os\n",
    "import tempfile\n",
    "import pickle\n",
    "import mdtraj as md\n",
    "import numpy as np\n",
    "from simtk.unit.quantity import Quantity\n",
    "import logging\n",
    "\n",
    "# Set up logger\n",
    "_logger = logging.getLogger()\n",
    "_logger.setLevel(logging.INFO)\n",
    "\n",
    "from matplotlib import pyplot as plt\n",
    "from simtk.openmm import app\n",
    "from tqdm import tqdm\n",
    "import argparse\n",
    "import random\n",
    "from simtk.openmm.app import Modeller\n",
    "import seaborn as sns\n"
   ]
  },
  {
   "cell_type": "code",
   "execution_count": 2,
   "metadata": {},
   "outputs": [],
   "source": [
    "# Get dihedrals\n",
    "def get_dihedrals(i, phase, outdir, htf, dihedral_indices_new, dihedral_indices_old):\n",
    "    # Get topology with solute only\n",
    "    modeller = Modeller(htf._topology_proposal.new_topology, htf.new_positions(htf.hybrid_positions))\n",
    "#     modeller.deleteWater()\n",
    "    new_top = md.Topology.from_openmm(modeller.topology)\n",
    "    \n",
    "    # Get last positions from eq positions of each cycle (positions are solute only)\n",
    "    from tqdm import tqdm\n",
    "    all_pos_forward = []\n",
    "    all_pos_reverse = []\n",
    "    for j in tqdm(range(100)):\n",
    "        try:\n",
    "            with open(os.path.join(outdir, f\"{i}_{phase}_{j}_forward_neq_new.npy\"), \"rb\") as f:\n",
    "                all_pos_forward.append(np.load(f)[-1])\n",
    "        except FileNotFoundError:\n",
    "            pass\n",
    "        try:\n",
    "            with open(os.path.join(outdir, f\"{i}_{phase}_{j}_reverse_neq_new.npy\"), \"rb\") as f:\n",
    "                all_pos_reverse.append(np.load(f)[0])\n",
    "        except FileNotFoundError:\n",
    "            pass\n",
    "    print(f\"new files found: {len(all_pos_forward)}\")\n",
    "    \n",
    "    # Compute dihedrals\n",
    "    traj = md.Trajectory(np.array(all_pos_forward), new_top)\n",
    "    dihedrals_forward = md.compute_dihedrals(traj, np.array([dihedral_indices_new]))\n",
    "    traj = md.Trajectory(np.array(all_pos_reverse), new_top)\n",
    "    dihedrals_reverse = md.compute_dihedrals(traj, np.array([dihedral_indices_new]))\n",
    "    \n",
    "    return dihedrals_forward, dihedrals_reverse"
   ]
  },
  {
   "cell_type": "code",
   "execution_count": 3,
   "metadata": {},
   "outputs": [],
   "source": [
    "# Get dihedrals\n",
    "def get_dihedrals_old(i, phase, outdir, htf, dihedral_indices_new, dihedral_indices_old):\n",
    "    # Get topology with solute only\n",
    "    modeller = Modeller(htf._topology_proposal.old_topology, htf.old_positions(htf.hybrid_positions))\n",
    "#     modeller.deleteWater()\n",
    "    old_top = md.Topology.from_openmm(modeller.topology)\n",
    "    \n",
    "    # Get last positions from eq positions of each cycle (positions are solute only)\n",
    "    from tqdm import tqdm\n",
    "    all_pos_forward = []\n",
    "    all_pos_reverse = []\n",
    "    for j in tqdm(range(100)):\n",
    "        try:\n",
    "            with open(os.path.join(outdir, f\"{i}_{phase}_{j}_forward_neq_old.npy\"), \"rb\") as f:\n",
    "                all_pos_forward.append(np.load(f)[0])\n",
    "        except FileNotFoundError:\n",
    "            pass\n",
    "        try:\n",
    "            with open(os.path.join(outdir, f\"{i}_{phase}_{j}_reverse_neq_old.npy\"), \"rb\") as f:\n",
    "                all_pos_reverse.append(np.load(f)[-1])\n",
    "        except FileNotFoundError:\n",
    "            pass\n",
    "    print(f\"new files found: {len(all_pos_forward)}\")\n",
    "    \n",
    "    # Compute dihedrals\n",
    "    traj = md.Trajectory(np.array(all_pos_forward), old_top)\n",
    "    dihedrals_forward = md.compute_dihedrals(traj, np.array([dihedral_indices_old]))\n",
    "    traj = md.Trajectory(np.array(all_pos_reverse), old_top)\n",
    "    dihedrals_reverse = md.compute_dihedrals(traj, np.array([dihedral_indices_old]))\n",
    "    \n",
    "    return dihedrals_forward, dihedrals_reverse"
   ]
  },
  {
   "cell_type": "markdown",
   "metadata": {},
   "source": [
    "#### Get dihedrals for apo"
   ]
  },
  {
   "cell_type": "code",
   "execution_count": 4,
   "metadata": {},
   "outputs": [],
   "source": [
    "outdir = \"/data/chodera/zhangi/perses_benchmark/neq/13/5/\"\n",
    "phase = \"apo\"\n",
    "i = os.path.basename(os.path.dirname(outdir))\n"
   ]
  },
  {
   "cell_type": "code",
   "execution_count": 5,
   "metadata": {},
   "outputs": [],
   "source": [
    "with open(os.path.join(outdir, f\"{i}_{phase}.pickle\"), 'rb') as f:\n",
    "    htf = pickle.load(f)"
   ]
  },
  {
   "cell_type": "code",
   "execution_count": 6,
   "metadata": {},
   "outputs": [
    {
     "name": "stderr",
     "output_type": "stream",
     "text": [
      "100%|██████████| 100/100 [00:18<00:00,  5.52it/s]\n"
     ]
    },
    {
     "name": "stdout",
     "output_type": "stream",
     "text": [
      "new files found: 100\n"
     ]
    }
   ],
   "source": [
    "# check alanine dihedrals look ok\n",
    "indices_old = [669, 670, 673, 676]\n",
    "indices_new = [669, 670, 673, 681]\n",
    "dihedrals_forward_apo, dihedrals_reverse_apo = get_dihedrals_old(i, phase, outdir, htf, indices_new, indices_old)                                       \n"
   ]
  },
  {
   "cell_type": "code",
   "execution_count": 7,
   "metadata": {},
   "outputs": [
    {
     "data": {
      "text/plain": [
       "(array([17.,  0.,  1., 32.,  2.,  0., 28.,  8.,  0., 12.]),\n",
       " array([-3.1117582 , -2.4870582 , -1.862358  , -1.2376578 , -0.61295766,\n",
       "         0.01174247,  0.6364426 ,  1.2611427 ,  1.8858429 ,  2.510543  ,\n",
       "         3.1352432 ], dtype=float32),\n",
       " <BarContainer object of 10 artists>)"
      ]
     },
     "execution_count": 7,
     "metadata": {},
     "output_type": "execute_result"
    },
    {
     "name": "stderr",
     "output_type": "stream",
     "text": [
      "DEBUG:matplotlib.font_manager:findfont: Matching sans\\-serif:style=normal:variant=normal:weight=normal:stretch=normal:size=10.0.\n",
      "DEBUG:matplotlib.font_manager:findfont: score(<Font 'cmb10' (cmb10.ttf) normal normal 400 normal>) = 10.05\n",
      "DEBUG:matplotlib.font_manager:findfont: score(<Font 'DejaVu Sans Mono' (DejaVuSansMono-Oblique.ttf) oblique normal 400 normal>) = 11.05\n",
      "DEBUG:matplotlib.font_manager:findfont: score(<Font 'STIXGeneral' (STIXGeneral.ttf) normal normal 400 normal>) = 10.05\n",
      "DEBUG:matplotlib.font_manager:findfont: score(<Font 'cmtt10' (cmtt10.ttf) normal normal 400 normal>) = 10.05\n",
      "DEBUG:matplotlib.font_manager:findfont: score(<Font 'DejaVu Sans Display' (DejaVuSansDisplay.ttf) normal normal 400 normal>) = 10.05\n",
      "DEBUG:matplotlib.font_manager:findfont: score(<Font 'STIXSizeFourSym' (STIXSizFourSymReg.ttf) normal normal 400 normal>) = 10.05\n",
      "DEBUG:matplotlib.font_manager:findfont: score(<Font 'cmss10' (cmss10.ttf) normal normal 400 normal>) = 10.05\n",
      "DEBUG:matplotlib.font_manager:findfont: score(<Font 'cmsy10' (cmsy10.ttf) normal normal 400 normal>) = 10.05\n",
      "DEBUG:matplotlib.font_manager:findfont: score(<Font 'DejaVu Serif' (DejaVuSerif.ttf) normal normal 400 normal>) = 10.05\n",
      "DEBUG:matplotlib.font_manager:findfont: score(<Font 'STIXSizeFourSym' (STIXSizFourSymBol.ttf) normal normal 700 normal>) = 10.335\n",
      "DEBUG:matplotlib.font_manager:findfont: score(<Font 'DejaVu Serif Display' (DejaVuSerifDisplay.ttf) normal normal 400 normal>) = 10.05\n",
      "DEBUG:matplotlib.font_manager:findfont: score(<Font 'STIXSizeThreeSym' (STIXSizThreeSymReg.ttf) normal normal 400 normal>) = 10.05\n",
      "DEBUG:matplotlib.font_manager:findfont: score(<Font 'STIXGeneral' (STIXGeneralItalic.ttf) italic normal 400 normal>) = 11.05\n",
      "DEBUG:matplotlib.font_manager:findfont: score(<Font 'STIXSizeOneSym' (STIXSizOneSymReg.ttf) normal normal 400 normal>) = 10.05\n",
      "DEBUG:matplotlib.font_manager:findfont: score(<Font 'DejaVu Sans Mono' (DejaVuSansMono-BoldOblique.ttf) oblique normal 700 normal>) = 11.335\n",
      "DEBUG:matplotlib.font_manager:findfont: score(<Font 'DejaVu Sans' (DejaVuSans-Oblique.ttf) oblique normal 400 normal>) = 1.05\n",
      "DEBUG:matplotlib.font_manager:findfont: score(<Font 'DejaVu Sans' (DejaVuSans-BoldOblique.ttf) oblique normal 700 normal>) = 1.335\n",
      "DEBUG:matplotlib.font_manager:findfont: score(<Font 'DejaVu Sans Mono' (DejaVuSansMono.ttf) normal normal 400 normal>) = 10.05\n",
      "DEBUG:matplotlib.font_manager:findfont: score(<Font 'STIXSizeTwoSym' (STIXSizTwoSymReg.ttf) normal normal 400 normal>) = 10.05\n",
      "DEBUG:matplotlib.font_manager:findfont: score(<Font 'cmr10' (cmr10.ttf) normal normal 400 normal>) = 10.05\n",
      "DEBUG:matplotlib.font_manager:findfont: score(<Font 'STIXNonUnicode' (STIXNonUniIta.ttf) italic normal 400 normal>) = 11.05\n",
      "DEBUG:matplotlib.font_manager:findfont: score(<Font 'STIXGeneral' (STIXGeneralBolIta.ttf) italic normal 700 normal>) = 11.335\n",
      "DEBUG:matplotlib.font_manager:findfont: score(<Font 'DejaVu Serif' (DejaVuSerif-Bold.ttf) normal normal 700 normal>) = 10.335\n",
      "DEBUG:matplotlib.font_manager:findfont: score(<Font 'DejaVu Serif' (DejaVuSerif-Italic.ttf) italic normal 400 normal>) = 11.05\n",
      "DEBUG:matplotlib.font_manager:findfont: score(<Font 'STIXNonUnicode' (STIXNonUniBolIta.ttf) italic normal 700 normal>) = 11.335\n",
      "DEBUG:matplotlib.font_manager:findfont: score(<Font 'STIXSizeTwoSym' (STIXSizTwoSymBol.ttf) normal normal 700 normal>) = 10.335\n",
      "DEBUG:matplotlib.font_manager:findfont: score(<Font 'DejaVu Serif' (DejaVuSerif-BoldItalic.ttf) italic normal 700 normal>) = 11.335\n",
      "DEBUG:matplotlib.font_manager:findfont: score(<Font 'STIXNonUnicode' (STIXNonUni.ttf) normal normal 400 normal>) = 10.05\n",
      "DEBUG:matplotlib.font_manager:findfont: score(<Font 'DejaVu Sans' (DejaVuSans-Bold.ttf) normal normal 700 normal>) = 0.33499999999999996\n",
      "DEBUG:matplotlib.font_manager:findfont: score(<Font 'STIXSizeOneSym' (STIXSizOneSymBol.ttf) normal normal 700 normal>) = 10.335\n",
      "DEBUG:matplotlib.font_manager:findfont: score(<Font 'DejaVu Sans Mono' (DejaVuSansMono-Bold.ttf) normal normal 700 normal>) = 10.335\n",
      "DEBUG:matplotlib.font_manager:findfont: score(<Font 'STIXSizeThreeSym' (STIXSizThreeSymBol.ttf) normal normal 700 normal>) = 10.335\n",
      "DEBUG:matplotlib.font_manager:findfont: score(<Font 'cmmi10' (cmmi10.ttf) normal normal 400 normal>) = 10.05\n",
      "DEBUG:matplotlib.font_manager:findfont: score(<Font 'STIXSizeFiveSym' (STIXSizFiveSymReg.ttf) normal normal 400 normal>) = 10.05\n",
      "DEBUG:matplotlib.font_manager:findfont: score(<Font 'DejaVu Sans' (DejaVuSans.ttf) normal normal 400 normal>) = 0.05\n",
      "DEBUG:matplotlib.font_manager:findfont: score(<Font 'STIXGeneral' (STIXGeneralBol.ttf) normal normal 700 normal>) = 10.335\n",
      "DEBUG:matplotlib.font_manager:findfont: score(<Font 'cmex10' (cmex10.ttf) normal normal 400 normal>) = 10.05\n",
      "DEBUG:matplotlib.font_manager:findfont: score(<Font 'STIXNonUnicode' (STIXNonUniBol.ttf) normal normal 700 normal>) = 10.335\n",
      "DEBUG:matplotlib.font_manager:findfont: score(<Font 'DejaVu Sans Mono' (DejaVuSansMono-Oblique.ttf) oblique normal 400 normal>) = 11.05\n",
      "DEBUG:matplotlib.font_manager:findfont: score(<Font 'DejaVu Sans Mono' (DejaVuSansMono-Bold.ttf) normal normal 700 normal>) = 10.335\n",
      "DEBUG:matplotlib.font_manager:findfont: score(<Font 'DejaVu Sans' (DejaVuSans-ExtraLight.ttf) normal normal 200 normal>) = 0.24\n",
      "DEBUG:matplotlib.font_manager:findfont: score(<Font 'STIX' (STIX-BoldItalic.otf) italic normal 700 normal>) = 11.335\n",
      "DEBUG:matplotlib.font_manager:findfont: score(<Font 'DejaVu Sans Mono' (DejaVuSansMono-BoldOblique.ttf) oblique normal 700 normal>) = 11.335\n",
      "DEBUG:matplotlib.font_manager:findfont: score(<Font 'Liberation Sans' (LiberationSans-BoldItalic.ttf) italic normal 700 normal>) = 11.335\n",
      "DEBUG:matplotlib.font_manager:findfont: score(<Font 'DejaVu Sans' (DejaVuSansCondensed.ttf) normal normal 400 condensed>) = 0.25\n",
      "DEBUG:matplotlib.font_manager:findfont: score(<Font 'DejaVu Sans' (DejaVuSans-BoldOblique.ttf) oblique normal 700 normal>) = 1.335\n",
      "DEBUG:matplotlib.font_manager:findfont: score(<Font 'DejaVu Sans' (DejaVuSans.ttf) normal normal 400 normal>) = 0.05\n",
      "DEBUG:matplotlib.font_manager:findfont: score(<Font 'Liberation Sans' (LiberationSans-Regular.ttf) normal normal 400 normal>) = 10.05\n",
      "DEBUG:matplotlib.font_manager:findfont: score(<Font 'STIX' (STIX-Regular.otf) normal normal 400 normal>) = 10.05\n",
      "DEBUG:matplotlib.font_manager:findfont: score(<Font 'Liberation Sans' (LiberationSans-Bold.ttf) normal normal 700 normal>) = 10.335\n",
      "DEBUG:matplotlib.font_manager:findfont: score(<Font 'STIX' (STIX-Italic.otf) italic normal 400 normal>) = 11.05\n",
      "DEBUG:matplotlib.font_manager:findfont: score(<Font 'DejaVu Sans' (DejaVuSans-Bold.ttf) normal normal 700 normal>) = 0.33499999999999996\n",
      "DEBUG:matplotlib.font_manager:findfont: score(<Font 'DejaVu Sans' (DejaVuSansCondensed-BoldOblique.ttf) oblique normal 700 condensed>) = 1.535\n",
      "DEBUG:matplotlib.font_manager:findfont: score(<Font 'DejaVu Sans' (DejaVuSansCondensed-Bold.ttf) normal normal 700 condensed>) = 0.5349999999999999\n",
      "DEBUG:matplotlib.font_manager:findfont: score(<Font 'DejaVu Sans' (DejaVuSansCondensed-Oblique.ttf) oblique normal 400 condensed>) = 1.25\n",
      "DEBUG:matplotlib.font_manager:findfont: score(<Font 'STIX' (STIX-Bold.otf) normal normal 700 normal>) = 10.335\n",
      "DEBUG:matplotlib.font_manager:findfont: score(<Font 'DejaVu Sans Mono' (DejaVuSansMono.ttf) normal normal 400 normal>) = 10.05\n",
      "DEBUG:matplotlib.font_manager:findfont: score(<Font 'DejaVu Sans' (DejaVuSans-Oblique.ttf) oblique normal 400 normal>) = 1.05\n",
      "DEBUG:matplotlib.font_manager:findfont: score(<Font 'Liberation Sans' (LiberationSans-Italic.ttf) italic normal 400 normal>) = 11.05\n",
      "DEBUG:matplotlib.font_manager:findfont: Matching sans\\-serif:style=normal:variant=normal:weight=normal:stretch=normal:size=10.0 to DejaVu Sans ('/home/zhangi/miniconda3/envs/perses-sims-oct2020/lib/python3.7/site-packages/matplotlib/mpl-data/fonts/ttf/DejaVuSans.ttf') with score of 0.050000.\n"
     ]
    },
    {
     "data": {
      "image/png": "[encoded data removed]",
      "text/plain": [
       "<Figure size 432x288 with 1 Axes>"
      ]
     },
     "metadata": {
      "needs_background": "light"
     },
     "output_type": "display_data"
    }
   ],
   "source": [
    "plt.hist(dihedrals_reverse_apo)"
   ]
  },
  {
   "cell_type": "code",
   "execution_count": 8,
   "metadata": {},
   "outputs": [
    {
     "name": "stderr",
     "output_type": "stream",
     "text": [
      "100%|██████████| 100/100 [00:17<00:00,  5.69it/s]\n"
     ]
    },
    {
     "name": "stdout",
     "output_type": "stream",
     "text": [
      "new files found: 100\n"
     ]
    }
   ],
   "source": [
    "indices_old = [669, 670, 673, 676]\n",
    "indices_new = [669, 670, 673, 681]\n",
    "dihedrals_forward_apo, dihedrals_reverse_apo = get_dihedrals(i, phase, outdir, htf, indices_new, indices_old)                                       \n"
   ]
  },
  {
   "cell_type": "markdown",
   "metadata": {},
   "source": [
    "#### Get dihedrals for complex"
   ]
  },
  {
   "cell_type": "code",
   "execution_count": 9,
   "metadata": {},
   "outputs": [],
   "source": [
    "outdir = \"/data/chodera/zhangi/perses_benchmark/neq/13/5/\"\n",
    "phase = \"complex\"\n",
    "i = os.path.basename(os.path.dirname(outdir))\n"
   ]
  },
  {
   "cell_type": "code",
   "execution_count": 10,
   "metadata": {},
   "outputs": [],
   "source": [
    "with open(os.path.join(outdir, f\"{i}_{phase}.pickle\"), 'rb') as f:\n",
    "    htf = pickle.load(f)"
   ]
  },
  {
   "cell_type": "code",
   "execution_count": 11,
   "metadata": {},
   "outputs": [
    {
     "name": "stderr",
     "output_type": "stream",
     "text": [
      "100%|██████████| 100/100 [00:26<00:00,  3.83it/s]"
     ]
    },
    {
     "name": "stdout",
     "output_type": "stream",
     "text": [
      "new files found: 100\n"
     ]
    },
    {
     "name": "stderr",
     "output_type": "stream",
     "text": [
      "\n"
     ]
    }
   ],
   "source": [
    "indices_old = [669, 670, 673, 676]\n",
    "indices_new = [669, 670, 673, 681]\n",
    "dihedrals_forward_complex, dihedrals_reverse_complex = get_dihedrals(i, phase, outdir, htf, indices_new, indices_old)                                       \n"
   ]
  },
  {
   "cell_type": "code",
   "execution_count": 12,
   "metadata": {},
   "outputs": [],
   "source": [
    "# Define indicator function\n",
    "def get_state(dihedral_angle):\n",
    "    if dihedral_angle > 2 or dihedral_angle < -2: # angle is -3 or +3\n",
    "        return 0\n",
    "    elif dihedral_angle < 0 and dihedral_angle > -2: # angle is -1\n",
    "        return 1\n",
    "    elif dihedral_angle > 0 and dihedral_angle < 2: # angle is 1\n",
    "        return 2"
   ]
  },
  {
   "cell_type": "code",
   "execution_count": 13,
   "metadata": {},
   "outputs": [],
   "source": [
    "# Create list of states for each work traj\n",
    "states_forward_apo = [get_state(angle) for angle in dihedrals_forward_apo]\n",
    "states_reverse_apo = [get_state(angle) for angle in dihedrals_reverse_apo]\n",
    "\n",
    "states_forward_complex = [get_state(angle) for angle in dihedrals_forward_complex]\n",
    "states_reverse_complex = [get_state(angle) for angle in dihedrals_reverse_complex]"
   ]
  },
  {
   "cell_type": "code",
   "execution_count": 14,
   "metadata": {},
   "outputs": [],
   "source": [
    "with open(os.path.join(outdir, \"state_forward_apo.npy\"), \"wb\") as f:\n",
    "    np.save(f, states_forward_apo)\n",
    "\n",
    "with open(os.path.join(outdir, \"state_reverse_apo.npy\"), \"wb\") as f:\n",
    "    np.save(f, states_reverse_apo)\n",
    "\n",
    "with open(os.path.join(outdir, \"state_forward_complex.npy\"), \"wb\") as f:\n",
    "    np.save(f, states_forward_complex)\n",
    "\n",
    "with open(os.path.join(outdir, \"state_reverse_complex.npy\"), \"wb\") as f:\n",
    "    np.save(f, states_reverse_complex)"
   ]
  },
  {
   "cell_type": "code",
   "execution_count": 15,
   "metadata": {},
   "outputs": [
    {
     "name": "stderr",
     "output_type": "stream",
     "text": [
      "/home/zhangi/miniconda3/envs/perses-sims-oct2020/lib/python3.7/site-packages/seaborn/distributions.py:2551: FutureWarning: `distplot` is a deprecated function and will be removed in a future version. Please adapt your code to use either `displot` (a figure-level function with similar flexibility) or `histplot` (an axes-level function for histograms).\n",
      "  warnings.warn(msg, FutureWarning)\n",
      "/home/zhangi/miniconda3/envs/perses-sims-oct2020/lib/python3.7/site-packages/seaborn/distributions.py:2055: FutureWarning: The `axis` variable is no longer used and will be removed. Instead, assign variables directly to `x` or `y`.\n",
      "  warnings.warn(msg, FutureWarning)\n",
      "/home/zhangi/miniconda3/envs/perses-sims-oct2020/lib/python3.7/site-packages/seaborn/distributions.py:2551: FutureWarning: `distplot` is a deprecated function and will be removed in a future version. Please adapt your code to use either `displot` (a figure-level function with similar flexibility) or `histplot` (an axes-level function for histograms).\n",
      "  warnings.warn(msg, FutureWarning)\n",
      "/home/zhangi/miniconda3/envs/perses-sims-oct2020/lib/python3.7/site-packages/seaborn/distributions.py:2055: FutureWarning: The `axis` variable is no longer used and will be removed. Instead, assign variables directly to `x` or `y`.\n",
      "  warnings.warn(msg, FutureWarning)\n"
     ]
    },
    {
     "data": {
      "text/plain": [
       "<matplotlib.legend.Legend at 0x2afc8a6d4450>"
      ]
     },
     "execution_count": 15,
     "metadata": {},
     "output_type": "execute_result"
    },
    {
     "data": {
      "image/png": "[encoded data removed]",
      "text/plain": [
       "<Figure size 432x288 with 1 Axes>"
      ]
     },
     "metadata": {
      "needs_background": "light"
     },
     "output_type": "display_data"
    }
   ],
   "source": [
    "sns.distplot(states_forward_apo, label=\"forward apo\", rug=True, kde=False)\n",
    "sns.distplot(states_reverse_apo, label=\"reverse apo\", rug=True, kde=False)\n",
    "# sns.distplot(states_forward_complex, label=\"forward complex\", rug=True, kde=False)\n",
    "# sns.distplot(states_reverse_complex, label=\"reverse complex\", rug=True, kde=False)\n",
    "plt.legend()"
   ]
  },
  {
   "cell_type": "code",
   "execution_count": 16,
   "metadata": {},
   "outputs": [
    {
     "name": "stderr",
     "output_type": "stream",
     "text": [
      "/home/zhangi/miniconda3/envs/perses-sims-oct2020/lib/python3.7/site-packages/seaborn/distributions.py:2551: FutureWarning: `distplot` is a deprecated function and will be removed in a future version. Please adapt your code to use either `displot` (a figure-level function with similar flexibility) or `histplot` (an axes-level function for histograms).\n",
      "  warnings.warn(msg, FutureWarning)\n",
      "/home/zhangi/miniconda3/envs/perses-sims-oct2020/lib/python3.7/site-packages/seaborn/distributions.py:2055: FutureWarning: The `axis` variable is no longer used and will be removed. Instead, assign variables directly to `x` or `y`.\n",
      "  warnings.warn(msg, FutureWarning)\n",
      "/home/zhangi/miniconda3/envs/perses-sims-oct2020/lib/python3.7/site-packages/seaborn/distributions.py:2551: FutureWarning: `distplot` is a deprecated function and will be removed in a future version. Please adapt your code to use either `displot` (a figure-level function with similar flexibility) or `histplot` (an axes-level function for histograms).\n",
      "  warnings.warn(msg, FutureWarning)\n",
      "/home/zhangi/miniconda3/envs/perses-sims-oct2020/lib/python3.7/site-packages/seaborn/distributions.py:2055: FutureWarning: The `axis` variable is no longer used and will be removed. Instead, assign variables directly to `x` or `y`.\n",
      "  warnings.warn(msg, FutureWarning)\n"
     ]
    },
    {
     "data": {
      "text/plain": [
       "<matplotlib.legend.Legend at 0x2afc92f51dd0>"
      ]
     },
     "execution_count": 16,
     "metadata": {},
     "output_type": "execute_result"
    },
    {
     "data": {
      "image/png": "[encoded data removed]",
      "text/plain": [
       "<Figure size 432x288 with 1 Axes>"
      ]
     },
     "metadata": {
      "needs_background": "light"
     },
     "output_type": "display_data"
    }
   ],
   "source": [
    "sns.distplot(states_forward_complex, label=\"forward complex\", rug=True, kde=False)\n",
    "sns.distplot(states_reverse_complex, label=\"reverse complex\", rug=True, kde=False)\n",
    "plt.legend()"
   ]
  },
  {
   "cell_type": "markdown",
   "metadata": {},
   "source": [
    "## Run estimator on A42T"
   ]
  },
  {
   "cell_type": "code",
   "execution_count": 17,
   "metadata": {},
   "outputs": [
    {
     "name": "stderr",
     "output_type": "stream",
     "text": [
      "INFO:numexpr.utils:Note: detected 72 virtual cores but NumExpr set to maximum of 64, check \"NUMEXPR_MAX_THREADS\" environment variable.\n",
      "INFO:numexpr.utils:Note: NumExpr detected 72 cores but \"NUMEXPR_MAX_THREADS\" not set, so enforcing safe limit of 8.\n",
      "INFO:numexpr.utils:NumExpr defaulting to 8 threads.\n",
      "DEBUG:matplotlib.pyplot:Loaded backend agg version unknown.\n",
      "DEBUG:matplotlib.pyplot:Loaded backend module://ipykernel.pylab.backend_inline version unknown.\n"
     ]
    }
   ],
   "source": [
    "from perses.analysis.analysis import Analysis\n",
    "import numpy as np\n",
    "import seaborn as sns\n",
    "import matplotlib.pyplot as plt\n",
    "import pymbar\n",
    "%matplotlib inline\n",
    "import os\n",
    "import itertools\n",
    "from tqdm import tqdm_notebook\n",
    "import pandas as pd"
   ]
  },
  {
   "cell_type": "code",
   "execution_count": 18,
   "metadata": {},
   "outputs": [],
   "source": [
    "from simtk.openmm import unit\n",
    "from openmmtools.constants import kB\n",
    "KT_KCALMOL = kB * 300 * unit.kelvin / unit.kilocalories_per_mole"
   ]
  },
  {
   "cell_type": "code",
   "execution_count": 19,
   "metadata": {
    "scrolled": true
   },
   "outputs": [
    {
     "name": "stderr",
     "output_type": "stream",
     "text": [
      "/home/zhangi/miniconda3/envs/perses-sims-oct2020/lib/python3.7/site-packages/ipykernel_launcher.py:7: TqdmDeprecationWarning: This function will be removed in tqdm==5.0.0\n",
      "Please use `tqdm.notebook.tqdm` instead of `tqdm.tqdm_notebook`\n",
      "  import sys\n"
     ]
    },
    {
     "data": {
      "application/vnd.jupyter.widget-view+json": {
       "model_id": "e6a15f8a55904b7b8151a4e0a12b7769",
       "version_major": 2,
       "version_minor": 0
      },
      "text/plain": [
       "HBox(children=(HTML(value=''), FloatProgress(value=0.0, max=1.0), HTML(value='')))"
      ]
     },
     "metadata": {},
     "output_type": "display_data"
    },
    {
     "name": "stdout",
     "output_type": "stream",
     "text": [
      "dir: 5\n",
      "job: 0\n",
      "(1, 250001)\n",
      "(1, 250001)\n",
      "(1, 250001)\n",
      "(1, 250001)\n",
      "job: 1\n",
      "(1, 250001)\n",
      "(1, 250001)\n",
      "(1, 250001)\n",
      "(1, 250001)\n",
      "job: 2\n",
      "(1, 250001)\n",
      "(1, 250001)\n",
      "(1, 250001)\n",
      "(1, 250001)\n",
      "job: 3\n",
      "(1, 250001)\n",
      "(1, 250001)\n",
      "(1, 250001)\n",
      "(1, 250001)\n",
      "job: 4\n",
      "(1, 250001)\n",
      "(1, 250001)\n",
      "(1, 250001)\n",
      "(1, 250001)\n",
      "job: 5\n",
      "(1, 250001)\n",
      "(1, 250001)\n",
      "(1, 250001)\n",
      "(1, 250001)\n",
      "job: 6\n",
      "(1, 250001)\n",
      "(1, 250001)\n",
      "(1, 250001)\n",
      "(1, 250001)\n",
      "job: 7\n",
      "(1, 250001)\n",
      "(1, 250001)\n",
      "(1, 250001)\n",
      "(1, 250001)\n",
      "job: 8\n",
      "(1, 250001)\n",
      "(1, 250001)\n",
      "(1, 250001)\n",
      "(1, 250001)\n",
      "job: 9\n",
      "(1, 250001)\n",
      "(1, 250001)\n",
      "(1, 250001)\n",
      "(1, 250001)\n",
      "job: 10\n",
      "(1, 250001)\n",
      "(1, 250001)\n",
      "(1, 250001)\n",
      "(1, 250001)\n",
      "job: 11\n",
      "(1, 250001)\n",
      "(1, 250001)\n",
      "(1, 250001)\n",
      "(1, 250001)\n",
      "job: 12\n",
      "(1, 250001)\n",
      "(1, 250001)\n",
      "(1, 250001)\n",
      "(1, 250001)\n",
      "job: 13\n",
      "(1, 250001)\n",
      "(1, 250001)\n",
      "(1, 250001)\n",
      "(1, 250001)\n",
      "job: 14\n",
      "(1, 250001)\n",
      "(1, 250001)\n",
      "(1, 250001)\n",
      "(1, 250001)\n",
      "job: 15\n",
      "(1, 250001)\n",
      "(1, 250001)\n",
      "(1, 250001)\n",
      "(1, 250001)\n",
      "job: 16\n",
      "(1, 250001)\n",
      "(1, 250001)\n",
      "(1, 250001)\n",
      "(1, 250001)\n",
      "job: 17\n",
      "(1, 250001)\n",
      "(1, 250001)\n",
      "(1, 250001)\n",
      "(1, 250001)\n",
      "job: 18\n",
      "(1, 250001)\n",
      "(1, 250001)\n",
      "(1, 250001)\n",
      "(1, 250001)\n",
      "job: 19\n",
      "(1, 250001)\n",
      "(1, 250001)\n",
      "(1, 250001)\n",
      "(1, 250001)\n",
      "job: 20\n",
      "(1, 250001)\n",
      "(1, 250001)\n",
      "(1, 250001)\n",
      "(1, 250001)\n",
      "job: 21\n",
      "(1, 250001)\n",
      "(1, 250001)\n",
      "(1, 250001)\n",
      "(1, 250001)\n",
      "job: 22\n",
      "(1, 250001)\n",
      "(1, 250001)\n",
      "(1, 250001)\n",
      "(1, 250001)\n",
      "job: 23\n",
      "(1, 250001)\n",
      "(1, 250001)\n",
      "(1, 250001)\n",
      "(1, 250001)\n",
      "job: 24\n",
      "(1, 250001)\n",
      "(1, 250001)\n",
      "(1, 250001)\n",
      "(1, 250001)\n",
      "job: 25\n",
      "(1, 250001)\n",
      "(1, 250001)\n",
      "(1, 250001)\n",
      "(1, 250001)\n",
      "job: 26\n",
      "(1, 250001)\n",
      "(1, 250001)\n",
      "(1, 250001)\n",
      "(1, 250001)\n",
      "job: 27\n",
      "(1, 250001)\n",
      "(1, 250001)\n",
      "(1, 250001)\n",
      "(1, 250001)\n",
      "job: 28\n",
      "(1, 250001)\n",
      "(1, 250001)\n",
      "(1, 250001)\n",
      "(1, 250001)\n",
      "job: 29\n",
      "(1, 250001)\n",
      "(1, 250001)\n",
      "(1, 250001)\n",
      "(1, 250001)\n",
      "job: 30\n",
      "(1, 250001)\n",
      "(1, 250001)\n",
      "(1, 250001)\n",
      "(1, 250001)\n",
      "job: 31\n",
      "(1, 250001)\n",
      "(1, 250001)\n",
      "(1, 250001)\n",
      "(1, 250001)\n",
      "job: 32\n",
      "(1, 250001)\n",
      "(1, 250001)\n",
      "(1, 250001)\n",
      "(1, 250001)\n",
      "job: 33\n",
      "(1, 250001)\n",
      "(1, 250001)\n",
      "(1, 250001)\n",
      "(1, 250001)\n",
      "job: 34\n",
      "(1, 250001)\n",
      "(1, 250001)\n",
      "(1, 250001)\n",
      "(1, 250001)\n",
      "job: 35\n",
      "(1, 250001)\n",
      "(1, 250001)\n",
      "(1, 250001)\n",
      "(1, 250001)\n",
      "job: 36\n",
      "(1, 250001)\n",
      "(1, 250001)\n",
      "(1, 250001)\n",
      "(1, 250001)\n",
      "job: 37\n",
      "(1, 250001)\n",
      "(1, 250001)\n",
      "(1, 250001)\n",
      "(1, 250001)\n",
      "job: 38\n",
      "(1, 250001)\n",
      "(1, 250001)\n",
      "(1, 250001)\n",
      "(1, 250001)\n",
      "job: 39\n",
      "(1, 250001)\n",
      "(1, 250001)\n",
      "(1, 250001)\n",
      "(1, 250001)\n",
      "job: 40\n",
      "(1, 250001)\n",
      "(1, 250001)\n",
      "(1, 250001)\n",
      "(1, 250001)\n",
      "job: 41\n",
      "(1, 250001)\n",
      "(1, 250001)\n",
      "(1, 250001)\n",
      "(1, 250001)\n",
      "job: 42\n",
      "(1, 250001)\n",
      "(1, 250001)\n",
      "(1, 250001)\n",
      "(1, 250001)\n",
      "job: 43\n",
      "(1, 250001)\n",
      "(1, 250001)\n",
      "(1, 250001)\n",
      "(1, 250001)\n",
      "job: 44\n",
      "(1, 250001)\n",
      "(1, 250001)\n",
      "(1, 250001)\n",
      "(1, 250001)\n",
      "job: 45\n",
      "(1, 250001)\n",
      "(1, 250001)\n",
      "(1, 250001)\n",
      "(1, 250001)\n",
      "job: 46\n",
      "(1, 250001)\n",
      "(1, 250001)\n",
      "(1, 250001)\n",
      "(1, 250001)\n",
      "job: 47\n",
      "(1, 250001)\n",
      "(1, 250001)\n",
      "(1, 250001)\n",
      "(1, 250001)\n",
      "job: 48\n",
      "(1, 250001)\n",
      "(1, 250001)\n",
      "(1, 250001)\n",
      "(1, 250001)\n",
      "job: 49\n",
      "(1, 250001)\n",
      "(1, 250001)\n",
      "(1, 250001)\n",
      "(1, 250001)\n",
      "job: 50\n",
      "(1, 250001)\n",
      "(1, 250001)\n",
      "(1, 250001)\n",
      "(1, 250001)\n",
      "job: 51\n",
      "(1, 250001)\n",
      "(1, 250001)\n",
      "(1, 250001)\n",
      "(1, 250001)\n",
      "job: 52\n",
      "(1, 250001)\n",
      "(1, 250001)\n",
      "(1, 250001)\n",
      "(1, 250001)\n",
      "job: 53\n",
      "(1, 250001)\n",
      "(1, 250001)\n",
      "(1, 250001)\n",
      "(1, 250001)\n",
      "job: 54\n",
      "(1, 250001)\n",
      "(1, 250001)\n",
      "(1, 250001)\n",
      "(1, 250001)\n",
      "job: 55\n",
      "(1, 250001)\n",
      "(1, 250001)\n",
      "(1, 250001)\n",
      "(1, 250001)\n",
      "job: 56\n",
      "(1, 250001)\n",
      "(1, 250001)\n",
      "(1, 250001)\n",
      "(1, 250001)\n",
      "job: 57\n",
      "(1, 250001)\n",
      "(1, 250001)\n",
      "(1, 250001)\n",
      "(1, 250001)\n",
      "job: 58\n",
      "(1, 250001)\n",
      "(1, 250001)\n",
      "(1, 250001)\n",
      "(1, 250001)\n",
      "job: 59\n",
      "(1, 250001)\n",
      "(1, 250001)\n",
      "(1, 250001)\n",
      "(1, 250001)\n",
      "job: 60\n",
      "(1, 250001)\n",
      "(1, 250001)\n",
      "(1, 250001)\n",
      "(1, 250001)\n",
      "job: 61\n",
      "(1, 250001)\n",
      "(1, 250001)\n",
      "(1, 250001)\n",
      "(1, 250001)\n",
      "job: 62\n",
      "(1, 250001)\n",
      "(1, 250001)\n",
      "(1, 250001)\n",
      "(1, 250001)\n",
      "job: 63\n",
      "(1, 250001)\n",
      "(1, 250001)\n",
      "(1, 250001)\n",
      "(1, 250001)\n",
      "job: 64\n",
      "(1, 250001)\n",
      "(1, 250001)\n",
      "(1, 250001)\n",
      "(1, 250001)\n",
      "job: 65\n",
      "(1, 250001)\n",
      "(1, 250001)\n",
      "(1, 250001)\n",
      "(1, 250001)\n",
      "job: 66\n",
      "(1, 250001)\n",
      "(1, 250001)\n",
      "(1, 250001)\n",
      "(1, 250001)\n",
      "job: 67\n",
      "(1, 250001)\n",
      "(1, 250001)\n",
      "(1, 250001)\n",
      "(1, 250001)\n",
      "job: 68\n",
      "(1, 250001)\n",
      "(1, 250001)\n",
      "(1, 250001)\n",
      "(1, 250001)\n",
      "job: 69\n",
      "(1, 250001)\n",
      "(1, 250001)\n",
      "(1, 250001)\n",
      "(1, 250001)\n",
      "job: 70\n",
      "(1, 250001)\n",
      "(1, 250001)\n",
      "(1, 250001)\n",
      "(1, 250001)\n",
      "job: 71\n",
      "(1, 250001)\n",
      "(1, 250001)\n",
      "(1, 250001)\n",
      "(1, 250001)\n",
      "job: 72\n",
      "(1, 250001)\n",
      "(1, 250001)\n",
      "(1, 250001)\n",
      "(1, 250001)\n",
      "job: 73\n",
      "(1, 250001)\n",
      "(1, 250001)\n",
      "(1, 250001)\n",
      "(1, 250001)\n",
      "job: 74\n",
      "(1, 250001)\n",
      "(1, 250001)\n",
      "(1, 250001)\n",
      "(1, 250001)\n",
      "job: 75\n",
      "(1, 250001)\n",
      "(1, 250001)\n",
      "(1, 250001)\n",
      "(1, 250001)\n",
      "job: 76\n",
      "(1, 250001)\n",
      "(1, 250001)\n",
      "(1, 250001)\n",
      "(1, 250001)\n",
      "job: 77\n",
      "(1, 250001)\n",
      "(1, 250001)\n",
      "(1, 250001)\n",
      "(1, 250001)\n",
      "job: 78\n",
      "(1, 250001)\n",
      "(1, 250001)\n",
      "(1, 250001)\n",
      "(1, 250001)\n",
      "job: 79\n",
      "(1, 250001)\n",
      "(1, 250001)\n",
      "(1, 250001)\n",
      "(1, 250001)\n",
      "job: 80\n",
      "(1, 250001)\n",
      "(1, 250001)\n",
      "(1, 250001)\n",
      "(1, 250001)\n",
      "job: 81\n",
      "(1, 250001)\n",
      "(1, 250001)\n",
      "(1, 250001)\n",
      "(1, 250001)\n",
      "job: 82\n",
      "(1, 250001)\n",
      "(1, 250001)\n",
      "(1, 250001)\n",
      "(1, 250001)\n",
      "job: 83\n",
      "(1, 250001)\n",
      "(1, 250001)\n",
      "(1, 250001)\n",
      "(1, 250001)\n",
      "job: 84\n",
      "(1, 250001)\n",
      "(1, 250001)\n",
      "(1, 250001)\n",
      "(1, 250001)\n",
      "job: 85\n",
      "(1, 250001)\n",
      "(1, 250001)\n",
      "(1, 250001)\n",
      "(1, 250001)\n",
      "job: 86\n",
      "(1, 250001)\n",
      "(1, 250001)\n",
      "(1, 250001)\n",
      "(1, 250001)\n",
      "job: 87\n",
      "(1, 250001)\n",
      "(1, 250001)\n",
      "(1, 250001)\n",
      "(1, 250001)\n",
      "job: 88\n",
      "(1, 250001)\n",
      "(1, 250001)\n",
      "(1, 250001)\n",
      "(1, 250001)\n",
      "job: 89\n",
      "(1, 250001)\n",
      "(1, 250001)\n",
      "(1, 250001)\n",
      "(1, 250001)\n",
      "job: 90\n",
      "(1, 250001)\n",
      "(1, 250001)\n",
      "(1, 250001)\n",
      "(1, 250001)\n",
      "job: 91\n",
      "(1, 250001)\n",
      "(1, 250001)\n",
      "(1, 250001)\n",
      "(1, 250001)\n",
      "job: 92\n",
      "(1, 250001)\n",
      "(1, 250001)\n",
      "(1, 250001)\n",
      "(1, 250001)\n",
      "job: 93\n",
      "(1, 250001)\n",
      "(1, 250001)\n",
      "(1, 250001)\n",
      "(1, 250001)\n",
      "job: 94\n",
      "(1, 250001)\n",
      "(1, 250001)\n",
      "(1, 250001)\n",
      "(1, 250001)\n",
      "job: 95\n",
      "(1, 250001)\n",
      "(1, 250001)\n",
      "(1, 250001)\n",
      "(1, 250001)\n",
      "job: 96\n",
      "(1, 250001)\n",
      "(1, 250001)\n",
      "(1, 250001)\n",
      "(1, 250001)\n",
      "job: 97\n",
      "(1, 250001)\n",
      "(1, 250001)\n",
      "(1, 250001)\n",
      "(1, 250001)\n",
      "job: 98\n",
      "(1, 250001)\n",
      "(1, 250001)\n",
      "(1, 250001)\n",
      "(1, 250001)\n",
      "job: 99\n",
      "(1, 250001)\n",
      "(1, 250001)\n",
      "(1, 250001)\n",
      "(1, 250001)\n",
      "\n"
     ]
    }
   ],
   "source": [
    "# Prep work arrays (from distributed jobs) and call analyze()\n",
    "# titles = [\"T42A\", \"A42T\", \"Y29A\", \"A29Y\", \"W38F\", \"F38W\", \"W44F\", \"F44W\", \"Y29F\", \"F29Y\"]\n",
    "titles = [\"A42T\"]\n",
    "d_results = {}\n",
    "d_phases = {}\n",
    "first = 5\n",
    "for i in tqdm_notebook([5]):\n",
    "    print(f\"dir: {i}\")\n",
    "    # Load and combine arrays\n",
    "    forward_complex_arrays = []\n",
    "    reverse_complex_arrays = []\n",
    "    forward_apo_arrays = []\n",
    "    reverse_apo_arrays = []\n",
    "    for j in range(100):\n",
    "        print(f\"job: {j}\")\n",
    "        forward_complex_path = f'/data/chodera/zhangi/perses_benchmark/neq/13/{i}/{i}_complex_{j}_forward.npy'\n",
    "        reverse_complex_path = f'/data/chodera/zhangi/perses_benchmark/neq/13/{i}/{i}_complex_{j}_reverse.npy'\n",
    "        forward_apo_path = f'/data/chodera/zhangi/perses_benchmark/neq/13/{i}/{i}_apo_{j}_forward.npy'\n",
    "        reverse_apo_path = f'/data/chodera/zhangi/perses_benchmark/neq/13/{i}/{i}_apo_{j}_reverse.npy'\n",
    "        if os.path.exists(forward_complex_path):\n",
    "            with open(forward_complex_path, 'rb') as f:\n",
    "                array = np.load(f)\n",
    "                forward_complex_arrays.append(array)\n",
    "                print(array.shape)\n",
    "        if os.path.exists(reverse_complex_path):\n",
    "            with open(reverse_complex_path, 'rb') as f:\n",
    "                array = np.load(f)\n",
    "                reverse_complex_arrays.append(array)\n",
    "                print(array.shape)\n",
    "        if os.path.exists(forward_apo_path):\n",
    "            with open(forward_apo_path, 'rb') as f:\n",
    "                array = np.load(f)\n",
    "                forward_apo_arrays.append(array)\n",
    "                print(array.shape)\n",
    "        if os.path.exists(reverse_apo_path):\n",
    "            with open(reverse_apo_path, 'rb') as f:\n",
    "                array = np.load(f)\n",
    "                print(array.shape)\n",
    "                reverse_apo_arrays.append(array)\n"
   ]
  },
  {
   "cell_type": "code",
   "execution_count": 20,
   "metadata": {},
   "outputs": [
    {
     "name": "stderr",
     "output_type": "stream",
     "text": [
      "/home/zhangi/miniconda3/envs/perses-sims-oct2020/lib/python3.7/site-packages/seaborn/distributions.py:2551: FutureWarning: `distplot` is a deprecated function and will be removed in a future version. Please adapt your code to use either `displot` (a figure-level function with similar flexibility) or `histplot` (an axes-level function for histograms).\n",
      "  warnings.warn(msg, FutureWarning)\n",
      "/home/zhangi/miniconda3/envs/perses-sims-oct2020/lib/python3.7/site-packages/seaborn/distributions.py:2551: FutureWarning: `distplot` is a deprecated function and will be removed in a future version. Please adapt your code to use either `displot` (a figure-level function with similar flexibility) or `histplot` (an axes-level function for histograms).\n",
      "  warnings.warn(msg, FutureWarning)\n",
      "/home/zhangi/miniconda3/envs/perses-sims-oct2020/lib/python3.7/site-packages/seaborn/distributions.py:2551: FutureWarning: `distplot` is a deprecated function and will be removed in a future version. Please adapt your code to use either `displot` (a figure-level function with similar flexibility) or `histplot` (an axes-level function for histograms).\n",
      "  warnings.warn(msg, FutureWarning)\n",
      "/home/zhangi/miniconda3/envs/perses-sims-oct2020/lib/python3.7/site-packages/seaborn/distributions.py:2551: FutureWarning: `distplot` is a deprecated function and will be removed in a future version. Please adapt your code to use either `displot` (a figure-level function with similar flexibility) or `histplot` (an axes-level function for histograms).\n",
      "  warnings.warn(msg, FutureWarning)\n"
     ]
    },
    {
     "data": {
      "image/png": "[encoded data removed]",
      "text/plain": [
       "<Figure size 432x288 with 1 Axes>"
      ]
     },
     "metadata": {
      "needs_background": "light"
     },
     "output_type": "display_data"
    }
   ],
   "source": [
    "if forward_complex_arrays and reverse_complex_arrays and forward_apo_arrays and reverse_apo_arrays:\n",
    "    \n",
    "    # Get forward and reverse accumulated works\n",
    "    forward_complex_combined = np.concatenate(forward_complex_arrays)\n",
    "    forward_complex_accumulated = np.array([cycle[-1] - cycle[0] for cycle in forward_complex_combined]) # compute this separately bc the last value of the subsampled array is diff than the actual last sample\n",
    "    \n",
    "    reverse_complex_combined = np.concatenate(reverse_complex_arrays)\n",
    "    reverse_complex_accumulated = np.array([cycle[-1] - cycle[0] for cycle in reverse_complex_combined])\n",
    "        \n",
    "    forward_apo_combined = np.concatenate(forward_apo_arrays)\n",
    "    forward_apo_accumulated = np.array([cycle[-1] - cycle[0] for cycle in forward_apo_combined])\n",
    "\n",
    "    reverse_apo_combined = np.concatenate(reverse_apo_arrays)\n",
    "    reverse_apo_accumulated = np.array([cycle[-1] - cycle[0] for cycle in reverse_apo_combined])\n",
    "\n",
    "    # Prep input for estimator\n",
    "    d_input_works = {}\n",
    "    d_input_works['apo'] = {}\n",
    "    d_input_works['complex'] = {}\n",
    "    d_input_works['apo']['forward'], d_input_works['apo']['reverse'] = dict(), dict()\n",
    "    d_input_works['complex']['forward'], d_input_works['complex']['reverse'] = dict(), dict()\n",
    "    \n",
    "    # Create lists for each state\n",
    "    n_states = 3\n",
    "    for i in range(n_states):\n",
    "        d_input_works['apo']['forward'][i] = list()\n",
    "        d_input_works['apo']['reverse'][i] = list()\n",
    "        d_input_works['complex']['forward'][i] = list()\n",
    "        d_input_works['complex']['reverse'][i] = list()\n",
    "    \n",
    "    n_cycles_apo = len(forward_apo_arrays)\n",
    "    for i in range(n_cycles_apo):\n",
    "        state_forward = states_forward_apo[i]\n",
    "        state_reverse = states_reverse_apo[i]\n",
    "        d_input_works['apo']['forward'][state_forward].append(forward_apo_accumulated[i])\n",
    "        d_input_works['apo']['reverse'][state_reverse].append(reverse_apo_accumulated[i])\n",
    "        \n",
    "    n_cycles_complex = len(forward_complex_arrays)\n",
    "    for i in range(n_cycles_complex):\n",
    "        state_forward = states_forward_complex[i]\n",
    "        state_reverse = states_reverse_complex[i]\n",
    "        d_input_works['complex']['forward'][state_forward].append(forward_complex_accumulated[i])\n",
    "        d_input_works['complex']['reverse'][state_reverse].append(reverse_complex_accumulated[i])\n",
    "\n",
    "    # Plot work distributions\n",
    "    for i in [1,2]:\n",
    "        sns.distplot(np.array(d_input_works['apo']['forward'][i]), label=f\"state{i}f\")\n",
    "        sns.distplot(np.array(d_input_works['apo']['reverse'][i])*-1, label=f\"state{i}r\")\n",
    "    plt.xlabel(\"work (kT)\")\n",
    "    plt.ylabel(\"p(w)\")\n",
    "    plt.legend()\n",
    "    plt.show()\n",
    "#     plt.title(f\"{title} {phase}\")\n",
    "#     plt.savefig(os.path.join(output_dir, f\"{dir_num}_{phase}_work_dist.png\"), dpi=500)\n",
    "#     print(f\"saved to: {os.path.join(output_dir, f'{dir_num}_{phase}_work_dist.png')}\")\n",
    "#     plt.clf()    \n",
    "else:\n",
    "    print(f\"dir {i} has at least one phase without data\" )"
   ]
  },
  {
   "cell_type": "code",
   "execution_count": 21,
   "metadata": {},
   "outputs": [
    {
     "name": "stderr",
     "output_type": "stream",
     "text": [
      "/home/zhangi/miniconda3/envs/perses-sims-oct2020/lib/python3.7/site-packages/seaborn/distributions.py:2551: FutureWarning: `distplot` is a deprecated function and will be removed in a future version. Please adapt your code to use either `displot` (a figure-level function with similar flexibility) or `histplot` (an axes-level function for histograms).\n",
      "  warnings.warn(msg, FutureWarning)\n",
      "/home/zhangi/miniconda3/envs/perses-sims-oct2020/lib/python3.7/site-packages/seaborn/distributions.py:2551: FutureWarning: `distplot` is a deprecated function and will be removed in a future version. Please adapt your code to use either `displot` (a figure-level function with similar flexibility) or `histplot` (an axes-level function for histograms).\n",
      "  warnings.warn(msg, FutureWarning)\n"
     ]
    },
    {
     "data": {
      "image/png": "[encoded data removed]",
      "text/plain": [
       "<Figure size 432x288 with 1 Axes>"
      ]
     },
     "metadata": {
      "needs_background": "light"
     },
     "output_type": "display_data"
    }
   ],
   "source": [
    "# Plot work distributions\n",
    "plt.clf()\n",
    "for i in [2]:\n",
    "    sns.distplot(np.array(d_input_works['complex']['forward'][i]), label=f\"state{i}f\")\n",
    "    sns.distplot(np.array(d_input_works['complex']['reverse'][i])*-1, label=f\"state{i}r\")\n",
    "plt.xlabel(\"work (kT)\")\n",
    "plt.ylabel(\"p(w)\")\n",
    "plt.legend()\n",
    "plt.show()"
   ]
  },
  {
   "cell_type": "code",
   "execution_count": 22,
   "metadata": {},
   "outputs": [],
   "source": [
    "def combine(energies):\n",
    "    final_sum = 0\n",
    "    for energy in energies:\n",
    "        final_sum += np.exp(-energy)\n",
    "    return -np.log(final_sum)\n",
    "\n",
    "def compute_ddg(d_works, states_apo, states_complex):\n",
    "    \n",
    "    # Initialize data structure for dgs\n",
    "    d_dgs_state = {\"complex\": {}, \"apo\":{}}\n",
    "    d_dgs_phase = {}\n",
    "\n",
    "    # Compute and save dgs \n",
    "    for phase in phases:\n",
    "        states = states_apo if phase == 'apo' else states_complex\n",
    "        for state in states:\n",
    "            dg, ddg = pymbar.bar.BAR(d_works[phase]['forward'][state], d_works[phase]['reverse'][state])\n",
    "            d_dgs_state[phase][state] = (dg, ddg)\n",
    "        d_dgs_phase[phase] = combine([d_dgs_state[phase][state][0] for state in states])\n",
    "\n",
    "    return d_dgs_state, d_dgs_phase, d_dgs_phase['complex'] - d_dgs_phase['apo']"
   ]
  },
  {
   "cell_type": "code",
   "execution_count": 23,
   "metadata": {},
   "outputs": [
    {
     "name": "stderr",
     "output_type": "stream",
     "text": [
      "100%|██████████| 10000/10000 [01:05<00:00, 152.21it/s]\n"
     ]
    }
   ],
   "source": [
    "import tqdm\n",
    "states_apo = [1, 2]\n",
    "states_complex = [2]\n",
    "N_bootstraps = 10000\n",
    "phases = ['complex', 'apo']\n",
    "directions = ['forward', 'reverse']\n",
    "dgs_state_all = []\n",
    "dgs_phase_all = []\n",
    "ddgs_all = []\n",
    "for i in tqdm.trange(N_bootstraps):\n",
    "    # Initialize data structure for works\n",
    "    d_works = {\"complex\": {\"forward\":{}, \"reverse\":{}}, \"apo\":{\"forward\":{}, \"reverse\":{}}}\n",
    "    \n",
    "    # Save subsampled works\n",
    "    for phase in phases:\n",
    "        states = states_apo if phase == 'apo' else states_complex\n",
    "        for direction in directions:\n",
    "            for state in states:\n",
    "                work_array = np.array(d_input_works[phase][direction][state])\n",
    "                num_samples = work_array.shape[0]\n",
    "                subsample_indices = np.random.choice(range(num_samples), num_samples)\n",
    "                d_works[phase][direction][state] = work_array[subsample_indices]\n",
    "    d_dgs_state, d_dgs_phase, ddg = compute_ddg(d_works, states_apo, states_complex)\n",
    "    dgs_state_all.append(d_dgs_state)\n",
    "    dgs_phase_all.append(d_dgs_phase)\n",
    "    ddgs_all.append(ddg)\n",
    "    \n"
   ]
  },
  {
   "cell_type": "code",
   "execution_count": 24,
   "metadata": {},
   "outputs": [],
   "source": [
    "dgs_state_all_A42T = dgs_state_all"
   ]
  },
  {
   "cell_type": "code",
   "execution_count": 25,
   "metadata": {},
   "outputs": [
    {
     "name": "stderr",
     "output_type": "stream",
     "text": [
      "/home/zhangi/miniconda3/envs/perses-sims-oct2020/lib/python3.7/site-packages/seaborn/distributions.py:2551: FutureWarning: `distplot` is a deprecated function and will be removed in a future version. Please adapt your code to use either `displot` (a figure-level function with similar flexibility) or `histplot` (an axes-level function for histograms).\n",
      "  warnings.warn(msg, FutureWarning)\n",
      "/home/zhangi/miniconda3/envs/perses-sims-oct2020/lib/python3.7/site-packages/seaborn/distributions.py:2055: FutureWarning: The `axis` variable is no longer used and will be removed. Instead, assign variables directly to `x` or `y`.\n",
      "  warnings.warn(msg, FutureWarning)\n",
      "/home/zhangi/miniconda3/envs/perses-sims-oct2020/lib/python3.7/site-packages/seaborn/distributions.py:2551: FutureWarning: `distplot` is a deprecated function and will be removed in a future version. Please adapt your code to use either `displot` (a figure-level function with similar flexibility) or `histplot` (an axes-level function for histograms).\n",
      "  warnings.warn(msg, FutureWarning)\n",
      "/home/zhangi/miniconda3/envs/perses-sims-oct2020/lib/python3.7/site-packages/seaborn/distributions.py:2055: FutureWarning: The `axis` variable is no longer used and will be removed. Instead, assign variables directly to `x` or `y`.\n",
      "  warnings.warn(msg, FutureWarning)\n",
      "/home/zhangi/miniconda3/envs/perses-sims-oct2020/lib/python3.7/site-packages/seaborn/distributions.py:2551: FutureWarning: `distplot` is a deprecated function and will be removed in a future version. Please adapt your code to use either `displot` (a figure-level function with similar flexibility) or `histplot` (an axes-level function for histograms).\n",
      "  warnings.warn(msg, FutureWarning)\n",
      "/home/zhangi/miniconda3/envs/perses-sims-oct2020/lib/python3.7/site-packages/seaborn/distributions.py:2055: FutureWarning: The `axis` variable is no longer used and will be removed. Instead, assign variables directly to `x` or `y`.\n",
      "  warnings.warn(msg, FutureWarning)\n",
      "DEBUG:matplotlib.font_manager:findfont: Matching sans\\-serif:style=normal:variant=normal:weight=normal:stretch=normal:size=12.0.\n",
      "DEBUG:matplotlib.font_manager:findfont: score(<Font 'cmb10' (cmb10.ttf) normal normal 400 normal>) = 10.05\n",
      "DEBUG:matplotlib.font_manager:findfont: score(<Font 'DejaVu Sans Mono' (DejaVuSansMono-Oblique.ttf) oblique normal 400 normal>) = 11.05\n",
      "DEBUG:matplotlib.font_manager:findfont: score(<Font 'STIXGeneral' (STIXGeneral.ttf) normal normal 400 normal>) = 10.05\n",
      "DEBUG:matplotlib.font_manager:findfont: score(<Font 'cmtt10' (cmtt10.ttf) normal normal 400 normal>) = 10.05\n",
      "DEBUG:matplotlib.font_manager:findfont: score(<Font 'DejaVu Sans Display' (DejaVuSansDisplay.ttf) normal normal 400 normal>) = 10.05\n",
      "DEBUG:matplotlib.font_manager:findfont: score(<Font 'STIXSizeFourSym' (STIXSizFourSymReg.ttf) normal normal 400 normal>) = 10.05\n",
      "DEBUG:matplotlib.font_manager:findfont: score(<Font 'cmss10' (cmss10.ttf) normal normal 400 normal>) = 10.05\n",
      "DEBUG:matplotlib.font_manager:findfont: score(<Font 'cmsy10' (cmsy10.ttf) normal normal 400 normal>) = 10.05\n",
      "DEBUG:matplotlib.font_manager:findfont: score(<Font 'DejaVu Serif' (DejaVuSerif.ttf) normal normal 400 normal>) = 10.05\n",
      "DEBUG:matplotlib.font_manager:findfont: score(<Font 'STIXSizeFourSym' (STIXSizFourSymBol.ttf) normal normal 700 normal>) = 10.335\n",
      "DEBUG:matplotlib.font_manager:findfont: score(<Font 'DejaVu Serif Display' (DejaVuSerifDisplay.ttf) normal normal 400 normal>) = 10.05\n",
      "DEBUG:matplotlib.font_manager:findfont: score(<Font 'STIXSizeThreeSym' (STIXSizThreeSymReg.ttf) normal normal 400 normal>) = 10.05\n",
      "DEBUG:matplotlib.font_manager:findfont: score(<Font 'STIXGeneral' (STIXGeneralItalic.ttf) italic normal 400 normal>) = 11.05\n",
      "DEBUG:matplotlib.font_manager:findfont: score(<Font 'STIXSizeOneSym' (STIXSizOneSymReg.ttf) normal normal 400 normal>) = 10.05\n",
      "DEBUG:matplotlib.font_manager:findfont: score(<Font 'DejaVu Sans Mono' (DejaVuSansMono-BoldOblique.ttf) oblique normal 700 normal>) = 11.335\n",
      "DEBUG:matplotlib.font_manager:findfont: score(<Font 'DejaVu Sans' (DejaVuSans-Oblique.ttf) oblique normal 400 normal>) = 1.05\n",
      "DEBUG:matplotlib.font_manager:findfont: score(<Font 'DejaVu Sans' (DejaVuSans-BoldOblique.ttf) oblique normal 700 normal>) = 1.335\n",
      "DEBUG:matplotlib.font_manager:findfont: score(<Font 'DejaVu Sans Mono' (DejaVuSansMono.ttf) normal normal 400 normal>) = 10.05\n",
      "DEBUG:matplotlib.font_manager:findfont: score(<Font 'STIXSizeTwoSym' (STIXSizTwoSymReg.ttf) normal normal 400 normal>) = 10.05\n",
      "DEBUG:matplotlib.font_manager:findfont: score(<Font 'cmr10' (cmr10.ttf) normal normal 400 normal>) = 10.05\n",
      "DEBUG:matplotlib.font_manager:findfont: score(<Font 'STIXNonUnicode' (STIXNonUniIta.ttf) italic normal 400 normal>) = 11.05\n",
      "DEBUG:matplotlib.font_manager:findfont: score(<Font 'STIXGeneral' (STIXGeneralBolIta.ttf) italic normal 700 normal>) = 11.335\n",
      "DEBUG:matplotlib.font_manager:findfont: score(<Font 'DejaVu Serif' (DejaVuSerif-Bold.ttf) normal normal 700 normal>) = 10.335\n",
      "DEBUG:matplotlib.font_manager:findfont: score(<Font 'DejaVu Serif' (DejaVuSerif-Italic.ttf) italic normal 400 normal>) = 11.05\n",
      "DEBUG:matplotlib.font_manager:findfont: score(<Font 'STIXNonUnicode' (STIXNonUniBolIta.ttf) italic normal 700 normal>) = 11.335\n",
      "DEBUG:matplotlib.font_manager:findfont: score(<Font 'STIXSizeTwoSym' (STIXSizTwoSymBol.ttf) normal normal 700 normal>) = 10.335\n",
      "DEBUG:matplotlib.font_manager:findfont: score(<Font 'DejaVu Serif' (DejaVuSerif-BoldItalic.ttf) italic normal 700 normal>) = 11.335\n",
      "DEBUG:matplotlib.font_manager:findfont: score(<Font 'STIXNonUnicode' (STIXNonUni.ttf) normal normal 400 normal>) = 10.05\n",
      "DEBUG:matplotlib.font_manager:findfont: score(<Font 'DejaVu Sans' (DejaVuSans-Bold.ttf) normal normal 700 normal>) = 0.33499999999999996\n",
      "DEBUG:matplotlib.font_manager:findfont: score(<Font 'STIXSizeOneSym' (STIXSizOneSymBol.ttf) normal normal 700 normal>) = 10.335\n",
      "DEBUG:matplotlib.font_manager:findfont: score(<Font 'DejaVu Sans Mono' (DejaVuSansMono-Bold.ttf) normal normal 700 normal>) = 10.335\n",
      "DEBUG:matplotlib.font_manager:findfont: score(<Font 'STIXSizeThreeSym' (STIXSizThreeSymBol.ttf) normal normal 700 normal>) = 10.335\n",
      "DEBUG:matplotlib.font_manager:findfont: score(<Font 'cmmi10' (cmmi10.ttf) normal normal 400 normal>) = 10.05\n",
      "DEBUG:matplotlib.font_manager:findfont: score(<Font 'STIXSizeFiveSym' (STIXSizFiveSymReg.ttf) normal normal 400 normal>) = 10.05\n",
      "DEBUG:matplotlib.font_manager:findfont: score(<Font 'DejaVu Sans' (DejaVuSans.ttf) normal normal 400 normal>) = 0.05\n",
      "DEBUG:matplotlib.font_manager:findfont: score(<Font 'STIXGeneral' (STIXGeneralBol.ttf) normal normal 700 normal>) = 10.335\n",
      "DEBUG:matplotlib.font_manager:findfont: score(<Font 'cmex10' (cmex10.ttf) normal normal 400 normal>) = 10.05\n",
      "DEBUG:matplotlib.font_manager:findfont: score(<Font 'STIXNonUnicode' (STIXNonUniBol.ttf) normal normal 700 normal>) = 10.335\n",
      "DEBUG:matplotlib.font_manager:findfont: score(<Font 'DejaVu Sans Mono' (DejaVuSansMono-Oblique.ttf) oblique normal 400 normal>) = 11.05\n",
      "DEBUG:matplotlib.font_manager:findfont: score(<Font 'DejaVu Sans Mono' (DejaVuSansMono-Bold.ttf) normal normal 700 normal>) = 10.335\n",
      "DEBUG:matplotlib.font_manager:findfont: score(<Font 'DejaVu Sans' (DejaVuSans-ExtraLight.ttf) normal normal 200 normal>) = 0.24\n",
      "DEBUG:matplotlib.font_manager:findfont: score(<Font 'STIX' (STIX-BoldItalic.otf) italic normal 700 normal>) = 11.335\n",
      "DEBUG:matplotlib.font_manager:findfont: score(<Font 'DejaVu Sans Mono' (DejaVuSansMono-BoldOblique.ttf) oblique normal 700 normal>) = 11.335\n",
      "DEBUG:matplotlib.font_manager:findfont: score(<Font 'Liberation Sans' (LiberationSans-BoldItalic.ttf) italic normal 700 normal>) = 11.335\n",
      "DEBUG:matplotlib.font_manager:findfont: score(<Font 'DejaVu Sans' (DejaVuSansCondensed.ttf) normal normal 400 condensed>) = 0.25\n",
      "DEBUG:matplotlib.font_manager:findfont: score(<Font 'DejaVu Sans' (DejaVuSans-BoldOblique.ttf) oblique normal 700 normal>) = 1.335\n",
      "DEBUG:matplotlib.font_manager:findfont: score(<Font 'DejaVu Sans' (DejaVuSans.ttf) normal normal 400 normal>) = 0.05\n",
      "DEBUG:matplotlib.font_manager:findfont: score(<Font 'Liberation Sans' (LiberationSans-Regular.ttf) normal normal 400 normal>) = 10.05\n",
      "DEBUG:matplotlib.font_manager:findfont: score(<Font 'STIX' (STIX-Regular.otf) normal normal 400 normal>) = 10.05\n"
     ]
    },
    {
     "name": "stderr",
     "output_type": "stream",
     "text": [
      "DEBUG:matplotlib.font_manager:findfont: score(<Font 'Liberation Sans' (LiberationSans-Bold.ttf) normal normal 700 normal>) = 10.335\n",
      "DEBUG:matplotlib.font_manager:findfont: score(<Font 'STIX' (STIX-Italic.otf) italic normal 400 normal>) = 11.05\n",
      "DEBUG:matplotlib.font_manager:findfont: score(<Font 'DejaVu Sans' (DejaVuSans-Bold.ttf) normal normal 700 normal>) = 0.33499999999999996\n",
      "DEBUG:matplotlib.font_manager:findfont: score(<Font 'DejaVu Sans' (DejaVuSansCondensed-BoldOblique.ttf) oblique normal 700 condensed>) = 1.535\n",
      "DEBUG:matplotlib.font_manager:findfont: score(<Font 'DejaVu Sans' (DejaVuSansCondensed-Bold.ttf) normal normal 700 condensed>) = 0.5349999999999999\n",
      "DEBUG:matplotlib.font_manager:findfont: score(<Font 'DejaVu Sans' (DejaVuSansCondensed-Oblique.ttf) oblique normal 400 condensed>) = 1.25\n",
      "DEBUG:matplotlib.font_manager:findfont: score(<Font 'STIX' (STIX-Bold.otf) normal normal 700 normal>) = 10.335\n",
      "DEBUG:matplotlib.font_manager:findfont: score(<Font 'DejaVu Sans Mono' (DejaVuSansMono.ttf) normal normal 400 normal>) = 10.05\n",
      "DEBUG:matplotlib.font_manager:findfont: score(<Font 'DejaVu Sans' (DejaVuSans-Oblique.ttf) oblique normal 400 normal>) = 1.05\n",
      "DEBUG:matplotlib.font_manager:findfont: score(<Font 'Liberation Sans' (LiberationSans-Italic.ttf) italic normal 400 normal>) = 11.05\n",
      "DEBUG:matplotlib.font_manager:findfont: Matching sans\\-serif:style=normal:variant=normal:weight=normal:stretch=normal:size=12.0 to DejaVu Sans ('/home/zhangi/miniconda3/envs/perses-sims-oct2020/lib/python3.7/site-packages/matplotlib/mpl-data/fonts/ttf/DejaVuSans.ttf') with score of 0.050000.\n"
     ]
    },
    {
     "data": {
      "image/png": "[encoded data removed]",
      "text/plain": [
       "<Figure size 432x288 with 1 Axes>"
      ]
     },
     "metadata": {
      "needs_background": "light"
     },
     "output_type": "display_data"
    },
    {
     "name": "stderr",
     "output_type": "stream",
     "text": [
      "/home/zhangi/miniconda3/envs/perses-sims-oct2020/lib/python3.7/site-packages/seaborn/distributions.py:2551: FutureWarning: `distplot` is a deprecated function and will be removed in a future version. Please adapt your code to use either `displot` (a figure-level function with similar flexibility) or `histplot` (an axes-level function for histograms).\n",
      "  warnings.warn(msg, FutureWarning)\n",
      "/home/zhangi/miniconda3/envs/perses-sims-oct2020/lib/python3.7/site-packages/seaborn/distributions.py:2055: FutureWarning: The `axis` variable is no longer used and will be removed. Instead, assign variables directly to `x` or `y`.\n",
      "  warnings.warn(msg, FutureWarning)\n",
      "/home/zhangi/miniconda3/envs/perses-sims-oct2020/lib/python3.7/site-packages/seaborn/distributions.py:2551: FutureWarning: `distplot` is a deprecated function and will be removed in a future version. Please adapt your code to use either `displot` (a figure-level function with similar flexibility) or `histplot` (an axes-level function for histograms).\n",
      "  warnings.warn(msg, FutureWarning)\n",
      "/home/zhangi/miniconda3/envs/perses-sims-oct2020/lib/python3.7/site-packages/seaborn/distributions.py:2055: FutureWarning: The `axis` variable is no longer used and will be removed. Instead, assign variables directly to `x` or `y`.\n",
      "  warnings.warn(msg, FutureWarning)\n",
      "/home/zhangi/miniconda3/envs/perses-sims-oct2020/lib/python3.7/site-packages/seaborn/distributions.py:2551: FutureWarning: `distplot` is a deprecated function and will be removed in a future version. Please adapt your code to use either `displot` (a figure-level function with similar flexibility) or `histplot` (an axes-level function for histograms).\n",
      "  warnings.warn(msg, FutureWarning)\n",
      "/home/zhangi/miniconda3/envs/perses-sims-oct2020/lib/python3.7/site-packages/seaborn/distributions.py:2055: FutureWarning: The `axis` variable is no longer used and will be removed. Instead, assign variables directly to `x` or `y`.\n",
      "  warnings.warn(msg, FutureWarning)\n"
     ]
    },
    {
     "data": {
      "image/png": "[encoded data removed]",
      "text/plain": [
       "<Figure size 432x288 with 1 Axes>"
      ]
     },
     "metadata": {
      "needs_background": "light"
     },
     "output_type": "display_data"
    },
    {
     "name": "stderr",
     "output_type": "stream",
     "text": [
      "/home/zhangi/miniconda3/envs/perses-sims-oct2020/lib/python3.7/site-packages/seaborn/distributions.py:2551: FutureWarning: `distplot` is a deprecated function and will be removed in a future version. Please adapt your code to use either `displot` (a figure-level function with similar flexibility) or `histplot` (an axes-level function for histograms).\n",
      "  warnings.warn(msg, FutureWarning)\n",
      "/home/zhangi/miniconda3/envs/perses-sims-oct2020/lib/python3.7/site-packages/seaborn/distributions.py:2055: FutureWarning: The `axis` variable is no longer used and will be removed. Instead, assign variables directly to `x` or `y`.\n",
      "  warnings.warn(msg, FutureWarning)\n",
      "/home/zhangi/miniconda3/envs/perses-sims-oct2020/lib/python3.7/site-packages/seaborn/distributions.py:2551: FutureWarning: `distplot` is a deprecated function and will be removed in a future version. Please adapt your code to use either `displot` (a figure-level function with similar flexibility) or `histplot` (an axes-level function for histograms).\n",
      "  warnings.warn(msg, FutureWarning)\n",
      "/home/zhangi/miniconda3/envs/perses-sims-oct2020/lib/python3.7/site-packages/seaborn/distributions.py:2055: FutureWarning: The `axis` variable is no longer used and will be removed. Instead, assign variables directly to `x` or `y`.\n",
      "  warnings.warn(msg, FutureWarning)\n",
      "/home/zhangi/miniconda3/envs/perses-sims-oct2020/lib/python3.7/site-packages/seaborn/distributions.py:2551: FutureWarning: `distplot` is a deprecated function and will be removed in a future version. Please adapt your code to use either `displot` (a figure-level function with similar flexibility) or `histplot` (an axes-level function for histograms).\n",
      "  warnings.warn(msg, FutureWarning)\n",
      "/home/zhangi/miniconda3/envs/perses-sims-oct2020/lib/python3.7/site-packages/seaborn/distributions.py:2055: FutureWarning: The `axis` variable is no longer used and will be removed. Instead, assign variables directly to `x` or `y`.\n",
      "  warnings.warn(msg, FutureWarning)\n"
     ]
    },
    {
     "data": {
      "image/png": "[encoded data removed]",
      "text/plain": [
       "<Figure size 432x288 with 1 Axes>"
      ]
     },
     "metadata": {
      "needs_background": "light"
     },
     "output_type": "display_data"
    }
   ],
   "source": [
    "# Plot dgs for each state in apo\n",
    "for phase in phases:\n",
    "    states = states_apo if phase == 'apo' else states_complex\n",
    "    for state in states:\n",
    "        dgs = [d[phase][state][0] for d in dgs_state_all]\n",
    "        sns.distplot(dgs, label=f\"bar free energy\", rug=True)\n",
    "        sns.distplot(d_input_works[phase]['forward'][state], label=f\"state{state}f\", rug=True)\n",
    "        sns.distplot(np.array(d_input_works[phase]['reverse'][state])*-1, label=f\"state{state}r\", rug=True)\n",
    "        plt.title(phase)\n",
    "        plt.legend()\n",
    "        plt.show()"
   ]
  },
  {
   "cell_type": "code",
   "execution_count": 26,
   "metadata": {},
   "outputs": [
    {
     "name": "stderr",
     "output_type": "stream",
     "text": [
      "/home/zhangi/miniconda3/envs/perses-sims-oct2020/lib/python3.7/site-packages/seaborn/distributions.py:2551: FutureWarning: `distplot` is a deprecated function and will be removed in a future version. Please adapt your code to use either `displot` (a figure-level function with similar flexibility) or `histplot` (an axes-level function for histograms).\n",
      "  warnings.warn(msg, FutureWarning)\n",
      "/home/zhangi/miniconda3/envs/perses-sims-oct2020/lib/python3.7/site-packages/seaborn/distributions.py:2055: FutureWarning: The `axis` variable is no longer used and will be removed. Instead, assign variables directly to `x` or `y`.\n",
      "  warnings.warn(msg, FutureWarning)\n"
     ]
    },
    {
     "data": {
      "text/plain": [
       "<AxesSubplot:ylabel='Density'>"
      ]
     },
     "execution_count": 26,
     "metadata": {},
     "output_type": "execute_result"
    },
    {
     "data": {
      "image/png": "[encoded data removed]",
      "text/plain": [
       "<Figure size 432x288 with 1 Axes>"
      ]
     },
     "metadata": {
      "needs_background": "light"
     },
     "output_type": "display_data"
    }
   ],
   "source": [
    "# Plot dgs for apo\n",
    "dgs_apo = [d['apo'] for d in dgs_phase_all]\n",
    "sns.distplot(dgs_apo, rug=True)"
   ]
  },
  {
   "cell_type": "code",
   "execution_count": 27,
   "metadata": {
    "scrolled": true
   },
   "outputs": [
    {
     "data": {
      "text/plain": [
       "-27.546052493842204"
      ]
     },
     "execution_count": 27,
     "metadata": {},
     "output_type": "execute_result"
    }
   ],
   "source": [
    "np.mean(dgs_apo)*KT_KCALMOL"
   ]
  },
  {
   "cell_type": "code",
   "execution_count": 28,
   "metadata": {},
   "outputs": [
    {
     "data": {
      "text/plain": [
       "0.04032810760558182"
      ]
     },
     "execution_count": 28,
     "metadata": {},
     "output_type": "execute_result"
    }
   ],
   "source": [
    "np.std(dgs_apo)*KT_KCALMOL"
   ]
  },
  {
   "cell_type": "code",
   "execution_count": 29,
   "metadata": {},
   "outputs": [
    {
     "data": {
      "text/plain": [
       "(-27.62536763069332, -27.46687408325605)"
      ]
     },
     "execution_count": 29,
     "metadata": {},
     "output_type": "execute_result"
    }
   ],
   "source": [
    "np.percentile(dgs_apo, 2.5)*KT_KCALMOL, np.percentile(dgs_apo, 97.5)*KT_KCALMOL"
   ]
  },
  {
   "cell_type": "code",
   "execution_count": 30,
   "metadata": {},
   "outputs": [
    {
     "name": "stderr",
     "output_type": "stream",
     "text": [
      "/home/zhangi/miniconda3/envs/perses-sims-oct2020/lib/python3.7/site-packages/seaborn/distributions.py:2551: FutureWarning: `distplot` is a deprecated function and will be removed in a future version. Please adapt your code to use either `displot` (a figure-level function with similar flexibility) or `histplot` (an axes-level function for histograms).\n",
      "  warnings.warn(msg, FutureWarning)\n",
      "/home/zhangi/miniconda3/envs/perses-sims-oct2020/lib/python3.7/site-packages/seaborn/distributions.py:2055: FutureWarning: The `axis` variable is no longer used and will be removed. Instead, assign variables directly to `x` or `y`.\n",
      "  warnings.warn(msg, FutureWarning)\n"
     ]
    },
    {
     "data": {
      "text/plain": [
       "<AxesSubplot:ylabel='Density'>"
      ]
     },
     "execution_count": 30,
     "metadata": {},
     "output_type": "execute_result"
    },
    {
     "data": {
      "image/png": "[encoded data removed]",
      "text/plain": [
       "<Figure size 432x288 with 1 Axes>"
      ]
     },
     "metadata": {
      "needs_background": "light"
     },
     "output_type": "display_data"
    }
   ],
   "source": [
    "# Plot dgs for complex\n",
    "dgs_complex = [d['complex'] for d in dgs_phase_all]\n",
    "sns.distplot(dgs_complex, rug=True)"
   ]
  },
  {
   "cell_type": "code",
   "execution_count": 31,
   "metadata": {
    "scrolled": true
   },
   "outputs": [
    {
     "data": {
      "text/plain": [
       "-29.874774193770044"
      ]
     },
     "execution_count": 31,
     "metadata": {},
     "output_type": "execute_result"
    }
   ],
   "source": [
    "np.mean(dgs_complex)*KT_KCALMOL"
   ]
  },
  {
   "cell_type": "code",
   "execution_count": 32,
   "metadata": {},
   "outputs": [
    {
     "data": {
      "text/plain": [
       "0.1344367675264537"
      ]
     },
     "execution_count": 32,
     "metadata": {},
     "output_type": "execute_result"
    }
   ],
   "source": [
    "np.std(dgs_complex)*KT_KCALMOL"
   ]
  },
  {
   "cell_type": "code",
   "execution_count": 33,
   "metadata": {},
   "outputs": [
    {
     "data": {
      "text/plain": [
       "(-30.131267713366235, -29.6075691562082)"
      ]
     },
     "execution_count": 33,
     "metadata": {},
     "output_type": "execute_result"
    }
   ],
   "source": [
    "np.percentile(dgs_complex, 2.5)*KT_KCALMOL, np.percentile(dgs_complex, 97.5)*KT_KCALMOL"
   ]
  },
  {
   "cell_type": "code",
   "execution_count": 34,
   "metadata": {},
   "outputs": [
    {
     "name": "stderr",
     "output_type": "stream",
     "text": [
      "/home/zhangi/miniconda3/envs/perses-sims-oct2020/lib/python3.7/site-packages/seaborn/distributions.py:2551: FutureWarning: `distplot` is a deprecated function and will be removed in a future version. Please adapt your code to use either `displot` (a figure-level function with similar flexibility) or `histplot` (an axes-level function for histograms).\n",
      "  warnings.warn(msg, FutureWarning)\n",
      "/home/zhangi/miniconda3/envs/perses-sims-oct2020/lib/python3.7/site-packages/seaborn/distributions.py:2055: FutureWarning: The `axis` variable is no longer used and will be removed. Instead, assign variables directly to `x` or `y`.\n",
      "  warnings.warn(msg, FutureWarning)\n"
     ]
    },
    {
     "data": {
      "text/plain": [
       "<AxesSubplot:ylabel='Density'>"
      ]
     },
     "execution_count": 34,
     "metadata": {},
     "output_type": "execute_result"
    },
    {
     "data": {
      "image/png": "[encoded data removed]",
      "text/plain": [
       "<Figure size 432x288 with 1 Axes>"
      ]
     },
     "metadata": {
      "needs_background": "light"
     },
     "output_type": "display_data"
    }
   ],
   "source": [
    "# Plot ddgs\n",
    "sns.distplot(ddgs_all, rug=True)"
   ]
  },
  {
   "cell_type": "code",
   "execution_count": 35,
   "metadata": {
    "scrolled": true
   },
   "outputs": [
    {
     "data": {
      "text/plain": [
       "-2.3287216999278377"
      ]
     },
     "execution_count": 35,
     "metadata": {},
     "output_type": "execute_result"
    }
   ],
   "source": [
    "np.mean(ddgs_all)*KT_KCALMOL \n",
    "# apo = [0, 1, 2] and complex [1, 2] -- -1.74 \n",
    "# apo = [1, 2] and complex [1, 2] -- -1.74\n",
    "# apo = [1, 2] and complex [1] -- 0.774\n",
    "# apo = [1, 2] and complex [2] -- -1.74"
   ]
  },
  {
   "cell_type": "code",
   "execution_count": 36,
   "metadata": {},
   "outputs": [
    {
     "data": {
      "text/plain": [
       "0.14101344407391653"
      ]
     },
     "execution_count": 36,
     "metadata": {},
     "output_type": "execute_result"
    }
   ],
   "source": [
    "np.std(ddgs_all)*KT_KCALMOL"
   ]
  },
  {
   "cell_type": "code",
   "execution_count": 37,
   "metadata": {
    "scrolled": true
   },
   "outputs": [
    {
     "data": {
      "text/plain": [
       "(-2.6002657186721314, -2.0528561326234556)"
      ]
     },
     "execution_count": 37,
     "metadata": {},
     "output_type": "execute_result"
    }
   ],
   "source": [
    "np.percentile(ddgs_all, 2.5)*KT_KCALMOL, np.percentile(ddgs_all, 97.5)*KT_KCALMOL"
   ]
  },
  {
   "cell_type": "markdown",
   "metadata": {},
   "source": [
    "## Get states for each work trajectory for T42A"
   ]
  },
  {
   "cell_type": "code",
   "execution_count": 38,
   "metadata": {},
   "outputs": [],
   "source": [
    "import math\n",
    "from simtk import unit\n",
    "import os\n",
    "import tempfile\n",
    "import pickle\n",
    "import mdtraj as md\n",
    "import numpy as np\n",
    "from simtk.unit.quantity import Quantity\n",
    "import logging\n",
    "\n",
    "# Set up logger\n",
    "_logger = logging.getLogger()\n",
    "_logger.setLevel(logging.INFO)\n",
    "\n",
    "from matplotlib import pyplot as plt\n",
    "from simtk.openmm import app\n",
    "from tqdm import tqdm\n",
    "import argparse\n",
    "import random\n",
    "from simtk.openmm.app import Modeller\n",
    "import seaborn as sns\n"
   ]
  },
  {
   "cell_type": "code",
   "execution_count": 39,
   "metadata": {},
   "outputs": [],
   "source": [
    "# Get dihedrals\n",
    "def get_dihedrals(i, phase, outdir, htf, dihedral_indices_new, dihedral_indices_old):\n",
    "    # Get topology with solute only\n",
    "    modeller = Modeller(htf._topology_proposal.old_topology, htf.old_positions(htf.hybrid_positions))\n",
    "#     modeller.deleteWater()\n",
    "    old_top = md.Topology.from_openmm(modeller.topology)\n",
    "    \n",
    "    # Get last positions from eq positions of each cycle (positions are solute only)\n",
    "    from tqdm import tqdm\n",
    "    all_pos_forward = []\n",
    "    all_pos_reverse = []\n",
    "    for j in tqdm(range(100)):\n",
    "        try:\n",
    "            with open(os.path.join(outdir, f\"{i}_{phase}_{j}_forward_neq_old.npy\"), \"rb\") as f:\n",
    "                all_pos_forward.append(np.load(f)[0])\n",
    "        except FileNotFoundError:\n",
    "            pass\n",
    "        try:\n",
    "            with open(os.path.join(outdir, f\"{i}_{phase}_{j}_reverse_neq_old.npy\"), \"rb\") as f:\n",
    "                all_pos_reverse.append(np.load(f)[-1])\n",
    "        except FileNotFoundError:\n",
    "            pass\n",
    "    print(f\"new files found: {len(all_pos_forward)}\")\n",
    "    \n",
    "    # Compute dihedrals\n",
    "    traj = md.Trajectory(np.array(all_pos_forward), old_top)\n",
    "    dihedrals_forward = md.compute_dihedrals(traj, np.array([dihedral_indices_old]))\n",
    "    traj = md.Trajectory(np.array(all_pos_reverse), old_top)\n",
    "    dihedrals_reverse = md.compute_dihedrals(traj, np.array([dihedral_indices_old]))\n",
    "    \n",
    "    return dihedrals_forward, dihedrals_reverse"
   ]
  },
  {
   "cell_type": "markdown",
   "metadata": {},
   "source": [
    "#### Get dihedrals for apo"
   ]
  },
  {
   "cell_type": "code",
   "execution_count": 40,
   "metadata": {},
   "outputs": [],
   "source": [
    "outdir = \"/data/chodera/zhangi/perses_benchmark/neq/13/4/\"\n",
    "phase = \"apo\"\n",
    "i = os.path.basename(os.path.dirname(outdir))\n"
   ]
  },
  {
   "cell_type": "code",
   "execution_count": 41,
   "metadata": {},
   "outputs": [],
   "source": [
    "with open(os.path.join(outdir, f\"{i}_{phase}.pickle\"), 'rb') as f:\n",
    "    htf = pickle.load(f)"
   ]
  },
  {
   "cell_type": "code",
   "execution_count": 42,
   "metadata": {},
   "outputs": [
    {
     "name": "stderr",
     "output_type": "stream",
     "text": [
      "100%|██████████| 100/100 [00:18<00:00,  5.49it/s]\n"
     ]
    },
    {
     "name": "stdout",
     "output_type": "stream",
     "text": [
      "new files found: 100\n"
     ]
    }
   ],
   "source": [
    "indices_old = [669, 670, 673, 674]\n",
    "indices_new = [669, 670, 673, 676]\n",
    "dihedrals_forward_apo, dihedrals_reverse_apo = get_dihedrals(i, phase, outdir, htf, indices_new, indices_old)                                       \n"
   ]
  },
  {
   "cell_type": "markdown",
   "metadata": {},
   "source": [
    "#### Get dihedrals for complex"
   ]
  },
  {
   "cell_type": "code",
   "execution_count": 43,
   "metadata": {},
   "outputs": [],
   "source": [
    "outdir = \"/data/chodera/zhangi/perses_benchmark/neq/13/4/\"\n",
    "phase = \"complex\"\n",
    "i = os.path.basename(os.path.dirname(outdir))\n"
   ]
  },
  {
   "cell_type": "code",
   "execution_count": 44,
   "metadata": {},
   "outputs": [],
   "source": [
    "with open(os.path.join(outdir, f\"{i}_{phase}.pickle\"), 'rb') as f:\n",
    "    htf = pickle.load(f)"
   ]
  },
  {
   "cell_type": "code",
   "execution_count": 45,
   "metadata": {},
   "outputs": [
    {
     "name": "stderr",
     "output_type": "stream",
     "text": [
      "100%|██████████| 100/100 [00:26<00:00,  3.72it/s]"
     ]
    },
    {
     "name": "stdout",
     "output_type": "stream",
     "text": [
      "new files found: 100\n"
     ]
    },
    {
     "name": "stderr",
     "output_type": "stream",
     "text": [
      "\n"
     ]
    }
   ],
   "source": [
    "indices_old = [669, 670, 673, 674]\n",
    "indices_new = [669, 670, 673, 676]\n",
    "dihedrals_forward_complex, dihedrals_reverse_complex = get_dihedrals(i, phase, outdir, htf, indices_new, indices_old)                                       \n"
   ]
  },
  {
   "cell_type": "code",
   "execution_count": 46,
   "metadata": {},
   "outputs": [],
   "source": [
    "# Define indicator function\n",
    "def get_state(dihedral_angle):\n",
    "    if dihedral_angle > 2 or dihedral_angle < -2: # angle is -3 or +3\n",
    "        return 0\n",
    "    elif dihedral_angle < 0 and dihedral_angle > -2: # angle is -1\n",
    "        return 1\n",
    "    elif dihedral_angle > 0 and dihedral_angle < 2: # angle is 1\n",
    "        return 2"
   ]
  },
  {
   "cell_type": "code",
   "execution_count": 47,
   "metadata": {},
   "outputs": [],
   "source": [
    "# Create list of states for each work traj\n",
    "states_forward_apo = [get_state(angle) for angle in dihedrals_forward_apo]\n",
    "states_reverse_apo = [get_state(angle) for angle in dihedrals_reverse_apo]\n",
    "\n",
    "states_forward_complex = [get_state(angle) for angle in dihedrals_forward_complex]\n",
    "states_reverse_complex = [get_state(angle) for angle in dihedrals_reverse_complex]"
   ]
  },
  {
   "cell_type": "code",
   "execution_count": 48,
   "metadata": {},
   "outputs": [],
   "source": [
    "with open(os.path.join(outdir, \"state_forward_apo.npy\"), \"wb\") as f:\n",
    "    np.save(f, states_forward_apo)\n",
    "\n",
    "with open(os.path.join(outdir, \"state_reverse_apo.npy\"), \"wb\") as f:\n",
    "    np.save(f, states_reverse_apo)\n",
    "\n",
    "with open(os.path.join(outdir, \"state_forward_complex.npy\"), \"wb\") as f:\n",
    "    np.save(f, states_forward_complex)\n",
    "\n",
    "with open(os.path.join(outdir, \"state_reverse_complex.npy\"), \"wb\") as f:\n",
    "    np.save(f, states_reverse_complex)"
   ]
  },
  {
   "cell_type": "code",
   "execution_count": 49,
   "metadata": {},
   "outputs": [
    {
     "name": "stderr",
     "output_type": "stream",
     "text": [
      "/home/zhangi/miniconda3/envs/perses-sims-oct2020/lib/python3.7/site-packages/seaborn/distributions.py:2551: FutureWarning: `distplot` is a deprecated function and will be removed in a future version. Please adapt your code to use either `displot` (a figure-level function with similar flexibility) or `histplot` (an axes-level function for histograms).\n",
      "  warnings.warn(msg, FutureWarning)\n",
      "/home/zhangi/miniconda3/envs/perses-sims-oct2020/lib/python3.7/site-packages/seaborn/distributions.py:2055: FutureWarning: The `axis` variable is no longer used and will be removed. Instead, assign variables directly to `x` or `y`.\n",
      "  warnings.warn(msg, FutureWarning)\n",
      "/home/zhangi/miniconda3/envs/perses-sims-oct2020/lib/python3.7/site-packages/seaborn/distributions.py:2551: FutureWarning: `distplot` is a deprecated function and will be removed in a future version. Please adapt your code to use either `displot` (a figure-level function with similar flexibility) or `histplot` (an axes-level function for histograms).\n",
      "  warnings.warn(msg, FutureWarning)\n",
      "/home/zhangi/miniconda3/envs/perses-sims-oct2020/lib/python3.7/site-packages/seaborn/distributions.py:2055: FutureWarning: The `axis` variable is no longer used and will be removed. Instead, assign variables directly to `x` or `y`.\n",
      "  warnings.warn(msg, FutureWarning)\n"
     ]
    },
    {
     "data": {
      "text/plain": [
       "<matplotlib.legend.Legend at 0x2afcaca82310>"
      ]
     },
     "execution_count": 49,
     "metadata": {},
     "output_type": "execute_result"
    },
    {
     "data": {
      "image/png": "[encoded data removed]",
      "text/plain": [
       "<Figure size 432x288 with 1 Axes>"
      ]
     },
     "metadata": {
      "needs_background": "light"
     },
     "output_type": "display_data"
    }
   ],
   "source": [
    "sns.distplot(states_forward_apo, label=\"forward apo\", rug=True, kde=False)\n",
    "sns.distplot(states_reverse_apo, label=\"reverse apo\", rug=True, kde=False)\n",
    "# sns.distplot(states_forward_complex, label=\"forward complex\", rug=True, kde=False)\n",
    "# sns.distplot(states_reverse_complex, label=\"reverse complex\", rug=True, kde=False)\n",
    "plt.legend()"
   ]
  },
  {
   "cell_type": "code",
   "execution_count": 50,
   "metadata": {},
   "outputs": [
    {
     "name": "stderr",
     "output_type": "stream",
     "text": [
      "/home/zhangi/miniconda3/envs/perses-sims-oct2020/lib/python3.7/site-packages/seaborn/distributions.py:2551: FutureWarning: `distplot` is a deprecated function and will be removed in a future version. Please adapt your code to use either `displot` (a figure-level function with similar flexibility) or `histplot` (an axes-level function for histograms).\n",
      "  warnings.warn(msg, FutureWarning)\n",
      "/home/zhangi/miniconda3/envs/perses-sims-oct2020/lib/python3.7/site-packages/seaborn/distributions.py:2055: FutureWarning: The `axis` variable is no longer used and will be removed. Instead, assign variables directly to `x` or `y`.\n",
      "  warnings.warn(msg, FutureWarning)\n",
      "/home/zhangi/miniconda3/envs/perses-sims-oct2020/lib/python3.7/site-packages/seaborn/distributions.py:2551: FutureWarning: `distplot` is a deprecated function and will be removed in a future version. Please adapt your code to use either `displot` (a figure-level function with similar flexibility) or `histplot` (an axes-level function for histograms).\n",
      "  warnings.warn(msg, FutureWarning)\n",
      "/home/zhangi/miniconda3/envs/perses-sims-oct2020/lib/python3.7/site-packages/seaborn/distributions.py:2055: FutureWarning: The `axis` variable is no longer used and will be removed. Instead, assign variables directly to `x` or `y`.\n",
      "  warnings.warn(msg, FutureWarning)\n"
     ]
    },
    {
     "data": {
      "text/plain": [
       "<matplotlib.legend.Legend at 0x2afca4c71190>"
      ]
     },
     "execution_count": 50,
     "metadata": {},
     "output_type": "execute_result"
    },
    {
     "data": {
      "image/png": "[encoded data removed]",
      "text/plain": [
       "<Figure size 432x288 with 1 Axes>"
      ]
     },
     "metadata": {
      "needs_background": "light"
     },
     "output_type": "display_data"
    }
   ],
   "source": [
    "sns.distplot(states_forward_complex, label=\"forward complex\", rug=True, kde=False)\n",
    "sns.distplot(states_reverse_complex, label=\"reverse complex\", rug=True, kde=False)\n",
    "plt.legend()"
   ]
  },
  {
   "cell_type": "markdown",
   "metadata": {},
   "source": [
    "## Run estimator on T42A"
   ]
  },
  {
   "cell_type": "code",
   "execution_count": 51,
   "metadata": {},
   "outputs": [],
   "source": [
    "from perses.analysis.analysis import Analysis\n",
    "import numpy as np\n",
    "import seaborn as sns\n",
    "import matplotlib.pyplot as plt\n",
    "import pymbar\n",
    "%matplotlib inline\n",
    "import os\n",
    "import itertools\n",
    "from tqdm import tqdm_notebook\n",
    "import pandas as pd"
   ]
  },
  {
   "cell_type": "code",
   "execution_count": 52,
   "metadata": {},
   "outputs": [],
   "source": [
    "from simtk.openmm import unit\n",
    "from openmmtools.constants import kB\n",
    "KT_KCALMOL = kB * 300 * unit.kelvin / unit.kilocalories_per_mole"
   ]
  },
  {
   "cell_type": "code",
   "execution_count": 53,
   "metadata": {
    "scrolled": true
   },
   "outputs": [
    {
     "name": "stderr",
     "output_type": "stream",
     "text": [
      "/home/zhangi/miniconda3/envs/perses-sims-oct2020/lib/python3.7/site-packages/ipykernel_launcher.py:7: TqdmDeprecationWarning: This function will be removed in tqdm==5.0.0\n",
      "Please use `tqdm.notebook.tqdm` instead of `tqdm.tqdm_notebook`\n",
      "  import sys\n"
     ]
    },
    {
     "data": {
      "application/vnd.jupyter.widget-view+json": {
       "model_id": "8f9d3c97596e4ce991a8f5c5d3552dda",
       "version_major": 2,
       "version_minor": 0
      },
      "text/plain": [
       "HBox(children=(HTML(value=''), FloatProgress(value=0.0, max=1.0), HTML(value='')))"
      ]
     },
     "metadata": {},
     "output_type": "display_data"
    },
    {
     "name": "stdout",
     "output_type": "stream",
     "text": [
      "dir: 2\n",
      "job: 0\n",
      "(1, 250001)\n",
      "(1, 250001)\n",
      "(1, 250001)\n",
      "(1, 250001)\n",
      "job: 1\n",
      "(1, 250001)\n",
      "(1, 250001)\n",
      "(1, 250001)\n",
      "(1, 250001)\n",
      "job: 2\n",
      "(1, 250001)\n",
      "(1, 250001)\n",
      "(1, 250001)\n",
      "(1, 250001)\n",
      "job: 3\n",
      "(1, 250001)\n",
      "(1, 250001)\n",
      "(1, 250001)\n",
      "(1, 250001)\n",
      "job: 4\n",
      "(1, 250001)\n",
      "(1, 250001)\n",
      "(1, 250001)\n",
      "(1, 250001)\n",
      "job: 5\n",
      "(1, 250001)\n",
      "(1, 250001)\n",
      "(1, 250001)\n",
      "(1, 250001)\n",
      "job: 6\n",
      "(1, 250001)\n",
      "(1, 250001)\n",
      "(1, 250001)\n",
      "(1, 250001)\n",
      "job: 7\n",
      "(1, 250001)\n",
      "(1, 250001)\n",
      "(1, 250001)\n",
      "(1, 250001)\n",
      "job: 8\n",
      "(1, 250001)\n",
      "(1, 250001)\n",
      "(1, 250001)\n",
      "(1, 250001)\n",
      "job: 9\n",
      "(1, 250001)\n",
      "(1, 250001)\n",
      "(1, 250001)\n",
      "(1, 250001)\n",
      "job: 10\n",
      "(1, 250001)\n",
      "(1, 250001)\n",
      "(1, 250001)\n",
      "(1, 250001)\n",
      "job: 11\n",
      "(1, 250001)\n",
      "(1, 250001)\n",
      "(1, 250001)\n",
      "(1, 250001)\n",
      "job: 12\n",
      "(1, 250001)\n",
      "(1, 250001)\n",
      "(1, 250001)\n",
      "(1, 250001)\n",
      "job: 13\n",
      "(1, 250001)\n",
      "(1, 250001)\n",
      "(1, 250001)\n",
      "(1, 250001)\n",
      "job: 14\n",
      "(1, 250001)\n",
      "(1, 250001)\n",
      "(1, 250001)\n",
      "(1, 250001)\n",
      "job: 15\n",
      "(1, 250001)\n",
      "(1, 250001)\n",
      "(1, 250001)\n",
      "(1, 250001)\n",
      "job: 16\n",
      "(1, 250001)\n",
      "(1, 250001)\n",
      "(1, 250001)\n",
      "(1, 250001)\n",
      "job: 17\n",
      "(1, 250001)\n",
      "(1, 250001)\n",
      "(1, 250001)\n",
      "(1, 250001)\n",
      "job: 18\n",
      "(1, 250001)\n",
      "(1, 250001)\n",
      "(1, 250001)\n",
      "(1, 250001)\n",
      "job: 19\n",
      "(1, 250001)\n",
      "(1, 250001)\n",
      "(1, 250001)\n",
      "(1, 250001)\n",
      "job: 20\n",
      "(1, 250001)\n",
      "(1, 250001)\n",
      "(1, 250001)\n",
      "(1, 250001)\n",
      "job: 21\n",
      "(1, 250001)\n",
      "(1, 250001)\n",
      "(1, 250001)\n",
      "(1, 250001)\n",
      "job: 22\n",
      "(1, 250001)\n",
      "(1, 250001)\n",
      "(1, 250001)\n",
      "(1, 250001)\n",
      "job: 23\n",
      "(1, 250001)\n",
      "(1, 250001)\n",
      "(1, 250001)\n",
      "(1, 250001)\n",
      "job: 24\n",
      "(1, 250001)\n",
      "(1, 250001)\n",
      "(1, 250001)\n",
      "(1, 250001)\n",
      "job: 25\n",
      "(1, 250001)\n",
      "(1, 250001)\n",
      "(1, 250001)\n",
      "(1, 250001)\n",
      "job: 26\n",
      "(1, 250001)\n",
      "(1, 250001)\n",
      "(1, 250001)\n",
      "(1, 250001)\n",
      "job: 27\n",
      "(1, 250001)\n",
      "(1, 250001)\n",
      "(1, 250001)\n",
      "(1, 250001)\n",
      "job: 28\n",
      "(1, 250001)\n",
      "(1, 250001)\n",
      "(1, 250001)\n",
      "(1, 250001)\n",
      "job: 29\n",
      "(1, 250001)\n",
      "(1, 250001)\n",
      "(1, 250001)\n",
      "(1, 250001)\n",
      "job: 30\n",
      "(1, 250001)\n",
      "(1, 250001)\n",
      "(1, 250001)\n",
      "(1, 250001)\n",
      "job: 31\n",
      "(1, 250001)\n",
      "(1, 250001)\n",
      "(1, 250001)\n",
      "(1, 250001)\n",
      "job: 32\n",
      "(1, 250001)\n",
      "(1, 250001)\n",
      "(1, 250001)\n",
      "(1, 250001)\n",
      "job: 33\n",
      "(1, 250001)\n",
      "(1, 250001)\n",
      "(1, 250001)\n",
      "(1, 250001)\n",
      "job: 34\n",
      "(1, 250001)\n",
      "(1, 250001)\n",
      "(1, 250001)\n",
      "(1, 250001)\n",
      "job: 35\n",
      "(1, 250001)\n",
      "(1, 250001)\n",
      "(1, 250001)\n",
      "(1, 250001)\n",
      "job: 36\n",
      "(1, 250001)\n",
      "(1, 250001)\n",
      "(1, 250001)\n",
      "(1, 250001)\n",
      "job: 37\n",
      "(1, 250001)\n",
      "(1, 250001)\n",
      "(1, 250001)\n",
      "(1, 250001)\n",
      "job: 38\n",
      "(1, 250001)\n",
      "(1, 250001)\n",
      "(1, 250001)\n",
      "(1, 250001)\n",
      "job: 39\n",
      "(1, 250001)\n",
      "(1, 250001)\n",
      "(1, 250001)\n",
      "(1, 250001)\n",
      "job: 40\n",
      "(1, 250001)\n",
      "(1, 250001)\n",
      "(1, 250001)\n",
      "(1, 250001)\n",
      "job: 41\n",
      "(1, 250001)\n",
      "(1, 250001)\n",
      "(1, 250001)\n",
      "(1, 250001)\n",
      "job: 42\n",
      "(1, 250001)\n",
      "(1, 250001)\n",
      "(1, 250001)\n",
      "(1, 250001)\n",
      "job: 43\n",
      "(1, 250001)\n",
      "(1, 250001)\n",
      "(1, 250001)\n",
      "(1, 250001)\n",
      "job: 44\n",
      "(1, 250001)\n",
      "(1, 250001)\n",
      "(1, 250001)\n",
      "(1, 250001)\n",
      "job: 45\n",
      "(1, 250001)\n",
      "(1, 250001)\n",
      "(1, 250001)\n",
      "(1, 250001)\n",
      "job: 46\n",
      "(1, 250001)\n",
      "(1, 250001)\n",
      "(1, 250001)\n",
      "(1, 250001)\n",
      "job: 47\n",
      "(1, 250001)\n",
      "(1, 250001)\n",
      "(1, 250001)\n",
      "(1, 250001)\n",
      "job: 48\n",
      "(1, 250001)\n",
      "(1, 250001)\n",
      "(1, 250001)\n",
      "(1, 250001)\n",
      "job: 49\n",
      "(1, 250001)\n",
      "(1, 250001)\n",
      "(1, 250001)\n",
      "(1, 250001)\n",
      "job: 50\n",
      "(1, 250001)\n",
      "(1, 250001)\n",
      "(1, 250001)\n",
      "(1, 250001)\n",
      "job: 51\n",
      "(1, 250001)\n",
      "(1, 250001)\n",
      "(1, 250001)\n",
      "(1, 250001)\n",
      "job: 52\n",
      "(1, 250001)\n",
      "(1, 250001)\n",
      "(1, 250001)\n",
      "(1, 250001)\n",
      "job: 53\n",
      "(1, 250001)\n",
      "(1, 250001)\n",
      "(1, 250001)\n",
      "(1, 250001)\n",
      "job: 54\n",
      "(1, 250001)\n",
      "(1, 250001)\n",
      "(1, 250001)\n",
      "(1, 250001)\n",
      "job: 55\n",
      "(1, 250001)\n",
      "(1, 250001)\n",
      "(1, 250001)\n",
      "(1, 250001)\n",
      "job: 56\n",
      "(1, 250001)\n",
      "(1, 250001)\n",
      "(1, 250001)\n",
      "(1, 250001)\n",
      "job: 57\n",
      "(1, 250001)\n",
      "(1, 250001)\n",
      "(1, 250001)\n",
      "(1, 250001)\n",
      "job: 58\n",
      "(1, 250001)\n",
      "(1, 250001)\n",
      "(1, 250001)\n",
      "(1, 250001)\n",
      "job: 59\n",
      "(1, 250001)\n",
      "(1, 250001)\n",
      "(1, 250001)\n",
      "(1, 250001)\n",
      "job: 60\n",
      "(1, 250001)\n",
      "(1, 250001)\n",
      "(1, 250001)\n",
      "(1, 250001)\n",
      "job: 61\n",
      "(1, 250001)\n",
      "(1, 250001)\n",
      "(1, 250001)\n",
      "(1, 250001)\n",
      "job: 62\n",
      "(1, 250001)\n",
      "(1, 250001)\n",
      "(1, 250001)\n",
      "(1, 250001)\n",
      "job: 63\n",
      "(1, 250001)\n",
      "(1, 250001)\n",
      "(1, 250001)\n",
      "(1, 250001)\n",
      "job: 64\n",
      "(1, 250001)\n",
      "(1, 250001)\n",
      "(1, 250001)\n",
      "(1, 250001)\n",
      "job: 65\n",
      "(1, 250001)\n",
      "(1, 250001)\n",
      "(1, 250001)\n",
      "(1, 250001)\n",
      "job: 66\n",
      "(1, 250001)\n",
      "(1, 250001)\n",
      "(1, 250001)\n",
      "(1, 250001)\n",
      "job: 67\n",
      "(1, 250001)\n",
      "(1, 250001)\n",
      "(1, 250001)\n",
      "(1, 250001)\n",
      "job: 68\n",
      "(1, 250001)\n",
      "(1, 250001)\n",
      "(1, 250001)\n",
      "(1, 250001)\n",
      "job: 69\n",
      "(1, 250001)\n",
      "(1, 250001)\n",
      "(1, 250001)\n",
      "(1, 250001)\n",
      "job: 70\n",
      "(1, 250001)\n",
      "(1, 250001)\n",
      "(1, 250001)\n",
      "(1, 250001)\n",
      "job: 71\n",
      "(1, 250001)\n",
      "(1, 250001)\n",
      "(1, 250001)\n",
      "(1, 250001)\n",
      "job: 72\n",
      "(1, 250001)\n",
      "(1, 250001)\n",
      "(1, 250001)\n",
      "(1, 250001)\n",
      "job: 73\n",
      "(1, 250001)\n",
      "(1, 250001)\n",
      "(1, 250001)\n",
      "(1, 250001)\n",
      "job: 74\n",
      "(1, 250001)\n",
      "(1, 250001)\n",
      "(1, 250001)\n",
      "(1, 250001)\n",
      "job: 75\n",
      "(1, 250001)\n",
      "(1, 250001)\n",
      "(1, 250001)\n",
      "(1, 250001)\n",
      "job: 76\n",
      "(1, 250001)\n",
      "(1, 250001)\n",
      "(1, 250001)\n",
      "(1, 250001)\n",
      "job: 77\n",
      "(1, 250001)\n",
      "(1, 250001)\n",
      "(1, 250001)\n",
      "(1, 250001)\n",
      "job: 78\n",
      "(1, 250001)\n",
      "(1, 250001)\n",
      "(1, 250001)\n",
      "(1, 250001)\n",
      "job: 79\n",
      "(1, 250001)\n",
      "(1, 250001)\n",
      "(1, 250001)\n",
      "(1, 250001)\n",
      "job: 80\n",
      "(1, 250001)\n",
      "(1, 250001)\n",
      "(1, 250001)\n",
      "(1, 250001)\n",
      "job: 81\n",
      "(1, 250001)\n",
      "(1, 250001)\n",
      "(1, 250001)\n",
      "(1, 250001)\n",
      "job: 82\n",
      "(1, 250001)\n",
      "(1, 250001)\n",
      "(1, 250001)\n",
      "(1, 250001)\n",
      "job: 83\n",
      "(1, 250001)\n",
      "(1, 250001)\n",
      "(1, 250001)\n",
      "(1, 250001)\n",
      "job: 84\n",
      "(1, 250001)\n",
      "(1, 250001)\n",
      "(1, 250001)\n",
      "(1, 250001)\n",
      "job: 85\n",
      "(1, 250001)\n",
      "(1, 250001)\n",
      "(1, 250001)\n",
      "(1, 250001)\n",
      "job: 86\n",
      "(1, 250001)\n",
      "(1, 250001)\n",
      "(1, 250001)\n",
      "(1, 250001)\n",
      "job: 87\n",
      "(1, 250001)\n",
      "(1, 250001)\n",
      "(1, 250001)\n",
      "(1, 250001)\n",
      "job: 88\n",
      "(1, 250001)\n",
      "(1, 250001)\n",
      "(1, 250001)\n",
      "(1, 250001)\n",
      "job: 89\n",
      "(1, 250001)\n",
      "(1, 250001)\n",
      "(1, 250001)\n",
      "(1, 250001)\n",
      "job: 90\n",
      "(1, 250001)\n",
      "(1, 250001)\n",
      "(1, 250001)\n",
      "(1, 250001)\n",
      "job: 91\n",
      "(1, 250001)\n",
      "(1, 250001)\n",
      "(1, 250001)\n",
      "(1, 250001)\n",
      "job: 92\n",
      "(1, 250001)\n",
      "(1, 250001)\n",
      "(1, 250001)\n",
      "(1, 250001)\n",
      "job: 93\n",
      "(1, 250001)\n",
      "(1, 250001)\n",
      "(1, 250001)\n",
      "(1, 250001)\n",
      "job: 94\n",
      "(1, 250001)\n",
      "(1, 250001)\n",
      "(1, 250001)\n",
      "(1, 250001)\n",
      "job: 95\n",
      "(1, 250001)\n",
      "(1, 250001)\n",
      "(1, 250001)\n",
      "(1, 250001)\n",
      "job: 96\n",
      "(1, 250001)\n",
      "(1, 250001)\n",
      "(1, 250001)\n",
      "(1, 250001)\n",
      "job: 97\n",
      "(1, 250001)\n",
      "(1, 250001)\n",
      "(1, 250001)\n",
      "(1, 250001)\n",
      "job: 98\n",
      "(1, 250001)\n",
      "(1, 250001)\n",
      "(1, 250001)\n",
      "(1, 250001)\n",
      "job: 99\n",
      "(1, 250001)\n",
      "(1, 250001)\n",
      "(1, 250001)\n",
      "(1, 250001)\n",
      "\n"
     ]
    }
   ],
   "source": [
    "# Prep work arrays (from distributed jobs) and call analyze()\n",
    "# titles = [\"T42A\", \"A42T\", \"Y29A\", \"A29Y\", \"W38F\", \"F38W\", \"W44F\", \"F44W\", \"Y29F\", \"F29Y\"]\n",
    "titles = [\"T42A\"]\n",
    "d_results = {}\n",
    "d_phases = {}\n",
    "first = 2\n",
    "for i in tqdm_notebook([2]):\n",
    "    print(f\"dir: {i}\")\n",
    "    # Load and combine arrays\n",
    "    forward_complex_arrays = []\n",
    "    reverse_complex_arrays = []\n",
    "    forward_apo_arrays = []\n",
    "    reverse_apo_arrays = []\n",
    "    for j in range(100):\n",
    "        print(f\"job: {j}\")\n",
    "        forward_complex_path = f'/data/chodera/zhangi/perses_benchmark/neq/13/{i}/{i}_complex_{j}_forward.npy'\n",
    "        reverse_complex_path = f'/data/chodera/zhangi/perses_benchmark/neq/13/{i}/{i}_complex_{j}_reverse.npy'\n",
    "        forward_apo_path = f'/data/chodera/zhangi/perses_benchmark/neq/13/{i}/{i}_apo_{j}_forward.npy'\n",
    "        reverse_apo_path = f'/data/chodera/zhangi/perses_benchmark/neq/13/{i}/{i}_apo_{j}_reverse.npy'\n",
    "        if os.path.exists(forward_complex_path):\n",
    "            with open(forward_complex_path, 'rb') as f:\n",
    "                array = np.load(f)\n",
    "                forward_complex_arrays.append(array)\n",
    "                print(array.shape)\n",
    "        if os.path.exists(reverse_complex_path):\n",
    "            with open(reverse_complex_path, 'rb') as f:\n",
    "                array = np.load(f)\n",
    "                reverse_complex_arrays.append(array)\n",
    "                print(array.shape)\n",
    "        if os.path.exists(forward_apo_path):\n",
    "            with open(forward_apo_path, 'rb') as f:\n",
    "                array = np.load(f)\n",
    "                forward_apo_arrays.append(array)\n",
    "                print(array.shape)\n",
    "        if os.path.exists(reverse_apo_path):\n",
    "            with open(reverse_apo_path, 'rb') as f:\n",
    "                array = np.load(f)\n",
    "                print(array.shape)\n",
    "                reverse_apo_arrays.append(array)\n"
   ]
  },
  {
   "cell_type": "code",
   "execution_count": 54,
   "metadata": {},
   "outputs": [
    {
     "name": "stderr",
     "output_type": "stream",
     "text": [
      "/home/zhangi/miniconda3/envs/perses-sims-oct2020/lib/python3.7/site-packages/seaborn/distributions.py:2551: FutureWarning: `distplot` is a deprecated function and will be removed in a future version. Please adapt your code to use either `displot` (a figure-level function with similar flexibility) or `histplot` (an axes-level function for histograms).\n",
      "  warnings.warn(msg, FutureWarning)\n",
      "/home/zhangi/miniconda3/envs/perses-sims-oct2020/lib/python3.7/site-packages/seaborn/distributions.py:2551: FutureWarning: `distplot` is a deprecated function and will be removed in a future version. Please adapt your code to use either `displot` (a figure-level function with similar flexibility) or `histplot` (an axes-level function for histograms).\n",
      "  warnings.warn(msg, FutureWarning)\n",
      "/home/zhangi/miniconda3/envs/perses-sims-oct2020/lib/python3.7/site-packages/seaborn/distributions.py:2551: FutureWarning: `distplot` is a deprecated function and will be removed in a future version. Please adapt your code to use either `displot` (a figure-level function with similar flexibility) or `histplot` (an axes-level function for histograms).\n",
      "  warnings.warn(msg, FutureWarning)\n",
      "/home/zhangi/miniconda3/envs/perses-sims-oct2020/lib/python3.7/site-packages/seaborn/distributions.py:2551: FutureWarning: `distplot` is a deprecated function and will be removed in a future version. Please adapt your code to use either `displot` (a figure-level function with similar flexibility) or `histplot` (an axes-level function for histograms).\n",
      "  warnings.warn(msg, FutureWarning)\n"
     ]
    },
    {
     "data": {
      "image/png": "[encoded data removed]",
      "text/plain": [
       "<Figure size 432x288 with 1 Axes>"
      ]
     },
     "metadata": {
      "needs_background": "light"
     },
     "output_type": "display_data"
    }
   ],
   "source": [
    "if forward_complex_arrays and reverse_complex_arrays and forward_apo_arrays and reverse_apo_arrays:\n",
    "    \n",
    "    # Get forward and reverse accumulated works\n",
    "    forward_complex_combined = np.concatenate(forward_complex_arrays)\n",
    "    forward_complex_accumulated = np.array([cycle[-1] - cycle[0] for cycle in forward_complex_combined]) # compute this separately bc the last value of the subsampled array is diff than the actual last sample\n",
    "    \n",
    "    reverse_complex_combined = np.concatenate(reverse_complex_arrays)\n",
    "    reverse_complex_accumulated = np.array([cycle[-1] - cycle[0] for cycle in reverse_complex_combined])\n",
    "        \n",
    "    forward_apo_combined = np.concatenate(forward_apo_arrays)\n",
    "    forward_apo_accumulated = np.array([cycle[-1] - cycle[0] for cycle in forward_apo_combined])\n",
    "\n",
    "    reverse_apo_combined = np.concatenate(reverse_apo_arrays)\n",
    "    reverse_apo_accumulated = np.array([cycle[-1] - cycle[0] for cycle in reverse_apo_combined])\n",
    "\n",
    "    # Prep input for estimator\n",
    "    d_input_works = {}\n",
    "    d_input_works['apo'] = {}\n",
    "    d_input_works['complex'] = {}\n",
    "    d_input_works['apo']['forward'], d_input_works['apo']['reverse'] = dict(), dict()\n",
    "    d_input_works['complex']['forward'], d_input_works['complex']['reverse'] = dict(), dict()\n",
    "    \n",
    "    # Create lists for each state\n",
    "    n_states = 3\n",
    "    for i in range(n_states):\n",
    "        d_input_works['apo']['forward'][i] = list()\n",
    "        d_input_works['apo']['reverse'][i] = list()\n",
    "        d_input_works['complex']['forward'][i] = list()\n",
    "        d_input_works['complex']['reverse'][i] = list()\n",
    "    \n",
    "    n_cycles_apo = len(forward_apo_arrays)\n",
    "    for i in range(n_cycles_apo):\n",
    "        state_forward = states_forward_apo[i]\n",
    "        state_reverse = states_reverse_apo[i]\n",
    "        d_input_works['apo']['forward'][state_forward].append(forward_apo_accumulated[i])\n",
    "        d_input_works['apo']['reverse'][state_reverse].append(reverse_apo_accumulated[i])\n",
    "        \n",
    "    n_cycles_complex = len(forward_complex_arrays)\n",
    "    for i in range(n_cycles_complex):\n",
    "        state_forward = states_forward_complex[i]\n",
    "        state_reverse = states_reverse_complex[i]\n",
    "        d_input_works['complex']['forward'][state_forward].append(forward_complex_accumulated[i])\n",
    "        d_input_works['complex']['reverse'][state_reverse].append(reverse_complex_accumulated[i])\n",
    "\n",
    "        \n",
    "    # Plot work distributions\n",
    "    for i in [1, 2]:\n",
    "        sns.distplot(np.array(d_input_works['apo']['forward'][i]), label=f\"state{i}f\")\n",
    "        sns.distplot(np.array(d_input_works['apo']['reverse'][i])*-1, label=f\"state{i}r\")\n",
    "    plt.xlabel(\"work (kT)\")\n",
    "    plt.ylabel(\"p(w)\")\n",
    "    plt.legend()\n",
    "    plt.show()\n",
    "#     plt.title(f\"{title} {phase}\")\n",
    "#     plt.savefig(os.path.join(output_dir, f\"{dir_num}_{phase}_work_dist.png\"), dpi=500)\n",
    "#     print(f\"saved to: {os.path.join(output_dir, f'{dir_num}_{phase}_work_dist.png')}\")\n",
    "#     plt.clf()    \n",
    "else:\n",
    "    print(f\"dir {i} has at least one phase without data\" )"
   ]
  },
  {
   "cell_type": "code",
   "execution_count": 55,
   "metadata": {},
   "outputs": [
    {
     "name": "stderr",
     "output_type": "stream",
     "text": [
      "/home/zhangi/miniconda3/envs/perses-sims-oct2020/lib/python3.7/site-packages/seaborn/distributions.py:2551: FutureWarning: `distplot` is a deprecated function and will be removed in a future version. Please adapt your code to use either `displot` (a figure-level function with similar flexibility) or `histplot` (an axes-level function for histograms).\n",
      "  warnings.warn(msg, FutureWarning)\n",
      "/home/zhangi/miniconda3/envs/perses-sims-oct2020/lib/python3.7/site-packages/seaborn/distributions.py:2551: FutureWarning: `distplot` is a deprecated function and will be removed in a future version. Please adapt your code to use either `displot` (a figure-level function with similar flexibility) or `histplot` (an axes-level function for histograms).\n",
      "  warnings.warn(msg, FutureWarning)\n"
     ]
    },
    {
     "data": {
      "image/png": "[encoded data removed]",
      "text/plain": [
       "<Figure size 432x288 with 1 Axes>"
      ]
     },
     "metadata": {
      "needs_background": "light"
     },
     "output_type": "display_data"
    }
   ],
   "source": [
    "# Plot work distributions\n",
    "plt.clf()\n",
    "for i in [2]:\n",
    "    sns.distplot(np.array(d_input_works['complex']['forward'][i]), label=f\"state{i}f\")\n",
    "    sns.distplot(np.array(d_input_works['complex']['reverse'][i])*-1, label=f\"state{i}r\")\n",
    "plt.xlabel(\"work (kT)\")\n",
    "plt.ylabel(\"p(w)\")\n",
    "plt.legend()\n",
    "plt.show()"
   ]
  },
  {
   "cell_type": "code",
   "execution_count": 56,
   "metadata": {},
   "outputs": [],
   "source": [
    "def combine(energies):\n",
    "    final_sum = 0\n",
    "    for energy in energies:\n",
    "        final_sum += np.exp(energy) # Change to exp(-energy*-1)\n",
    "    return -np.log(final_sum)\n",
    "\n",
    "def compute_ddg(d_works, states_apo, states_complex):\n",
    "    \n",
    "    # Initialize data structure for dgs\n",
    "    d_dgs_state = {\"complex\": {}, \"apo\":{}}\n",
    "    d_dgs_phase = {}\n",
    "\n",
    "    # Compute and save dgs \n",
    "    for phase in phases:\n",
    "        states = states_apo if phase == 'apo' else states_complex\n",
    "        for state in states:\n",
    "            dg, ddg = pymbar.bar.BAR(d_works[phase]['forward'][state], d_works[phase]['reverse'][state])\n",
    "            d_dgs_state[phase][state] = (dg, ddg)\n",
    "        d_dgs_phase[phase] = combine([d_dgs_state[phase][state][0] for state in states])\n",
    "\n",
    "    return d_dgs_state, d_dgs_phase, d_dgs_phase['apo'] - d_dgs_phase['complex']"
   ]
  },
  {
   "cell_type": "code",
   "execution_count": 57,
   "metadata": {},
   "outputs": [
    {
     "name": "stderr",
     "output_type": "stream",
     "text": [
      "100%|██████████| 10000/10000 [01:09<00:00, 144.29it/s]\n"
     ]
    }
   ],
   "source": [
    "import tqdm\n",
    "states_apo = [1, 2]\n",
    "states_complex = [2]\n",
    "N_bootstraps = 10000\n",
    "phases = ['complex', 'apo']\n",
    "directions = ['forward', 'reverse']\n",
    "dgs_state_all = []\n",
    "dgs_phase_all = []\n",
    "ddgs_all = []\n",
    "for i in tqdm.trange(N_bootstraps):\n",
    "    # Initialize data structure for works\n",
    "    d_works = {\"complex\": {\"forward\":{}, \"reverse\":{}}, \"apo\":{\"forward\":{}, \"reverse\":{}}}\n",
    "    \n",
    "    # Save subsampled works\n",
    "    for phase in phases:\n",
    "        states = states_apo if phase == 'apo' else states_complex\n",
    "        for direction in directions:\n",
    "            for state in states:\n",
    "                work_array = np.array(d_input_works[phase][direction][state])\n",
    "                num_samples = work_array.shape[0]\n",
    "                subsample_indices = np.random.choice(range(num_samples), num_samples)\n",
    "                d_works[phase][direction][state] = work_array[subsample_indices]\n",
    "    d_dgs_state, d_dgs_phase, ddg = compute_ddg(d_works, states_apo, states_complex)\n",
    "    dgs_state_all.append(d_dgs_state)\n",
    "    dgs_phase_all.append(d_dgs_phase)\n",
    "    ddgs_all.append(ddg)\n",
    "    \n"
   ]
  },
  {
   "cell_type": "code",
   "execution_count": 58,
   "metadata": {},
   "outputs": [],
   "source": [
    "dgs_state_all_T42A = dgs_state_all"
   ]
  },
  {
   "cell_type": "code",
   "execution_count": 59,
   "metadata": {},
   "outputs": [
    {
     "name": "stderr",
     "output_type": "stream",
     "text": [
      "/home/zhangi/miniconda3/envs/perses-sims-oct2020/lib/python3.7/site-packages/seaborn/distributions.py:2551: FutureWarning: `distplot` is a deprecated function and will be removed in a future version. Please adapt your code to use either `displot` (a figure-level function with similar flexibility) or `histplot` (an axes-level function for histograms).\n",
      "  warnings.warn(msg, FutureWarning)\n",
      "/home/zhangi/miniconda3/envs/perses-sims-oct2020/lib/python3.7/site-packages/seaborn/distributions.py:2055: FutureWarning: The `axis` variable is no longer used and will be removed. Instead, assign variables directly to `x` or `y`.\n",
      "  warnings.warn(msg, FutureWarning)\n",
      "/home/zhangi/miniconda3/envs/perses-sims-oct2020/lib/python3.7/site-packages/seaborn/distributions.py:2551: FutureWarning: `distplot` is a deprecated function and will be removed in a future version. Please adapt your code to use either `displot` (a figure-level function with similar flexibility) or `histplot` (an axes-level function for histograms).\n",
      "  warnings.warn(msg, FutureWarning)\n",
      "/home/zhangi/miniconda3/envs/perses-sims-oct2020/lib/python3.7/site-packages/seaborn/distributions.py:2055: FutureWarning: The `axis` variable is no longer used and will be removed. Instead, assign variables directly to `x` or `y`.\n",
      "  warnings.warn(msg, FutureWarning)\n",
      "/home/zhangi/miniconda3/envs/perses-sims-oct2020/lib/python3.7/site-packages/seaborn/distributions.py:2551: FutureWarning: `distplot` is a deprecated function and will be removed in a future version. Please adapt your code to use either `displot` (a figure-level function with similar flexibility) or `histplot` (an axes-level function for histograms).\n",
      "  warnings.warn(msg, FutureWarning)\n",
      "/home/zhangi/miniconda3/envs/perses-sims-oct2020/lib/python3.7/site-packages/seaborn/distributions.py:2055: FutureWarning: The `axis` variable is no longer used and will be removed. Instead, assign variables directly to `x` or `y`.\n",
      "  warnings.warn(msg, FutureWarning)\n"
     ]
    },
    {
     "data": {
      "image/png": "[encoded data removed]",
      "text/plain": [
       "<Figure size 432x288 with 1 Axes>"
      ]
     },
     "metadata": {
      "needs_background": "light"
     },
     "output_type": "display_data"
    },
    {
     "name": "stderr",
     "output_type": "stream",
     "text": [
      "/home/zhangi/miniconda3/envs/perses-sims-oct2020/lib/python3.7/site-packages/seaborn/distributions.py:2551: FutureWarning: `distplot` is a deprecated function and will be removed in a future version. Please adapt your code to use either `displot` (a figure-level function with similar flexibility) or `histplot` (an axes-level function for histograms).\n",
      "  warnings.warn(msg, FutureWarning)\n",
      "/home/zhangi/miniconda3/envs/perses-sims-oct2020/lib/python3.7/site-packages/seaborn/distributions.py:2055: FutureWarning: The `axis` variable is no longer used and will be removed. Instead, assign variables directly to `x` or `y`.\n",
      "  warnings.warn(msg, FutureWarning)\n",
      "/home/zhangi/miniconda3/envs/perses-sims-oct2020/lib/python3.7/site-packages/seaborn/distributions.py:2551: FutureWarning: `distplot` is a deprecated function and will be removed in a future version. Please adapt your code to use either `displot` (a figure-level function with similar flexibility) or `histplot` (an axes-level function for histograms).\n",
      "  warnings.warn(msg, FutureWarning)\n",
      "/home/zhangi/miniconda3/envs/perses-sims-oct2020/lib/python3.7/site-packages/seaborn/distributions.py:2055: FutureWarning: The `axis` variable is no longer used and will be removed. Instead, assign variables directly to `x` or `y`.\n",
      "  warnings.warn(msg, FutureWarning)\n",
      "/home/zhangi/miniconda3/envs/perses-sims-oct2020/lib/python3.7/site-packages/seaborn/distributions.py:2551: FutureWarning: `distplot` is a deprecated function and will be removed in a future version. Please adapt your code to use either `displot` (a figure-level function with similar flexibility) or `histplot` (an axes-level function for histograms).\n",
      "  warnings.warn(msg, FutureWarning)\n",
      "/home/zhangi/miniconda3/envs/perses-sims-oct2020/lib/python3.7/site-packages/seaborn/distributions.py:2055: FutureWarning: The `axis` variable is no longer used and will be removed. Instead, assign variables directly to `x` or `y`.\n",
      "  warnings.warn(msg, FutureWarning)\n"
     ]
    },
    {
     "data": {
      "image/png": "[encoded data removed]",
      "text/plain": [
       "<Figure size 432x288 with 1 Axes>"
      ]
     },
     "metadata": {
      "needs_background": "light"
     },
     "output_type": "display_data"
    },
    {
     "name": "stderr",
     "output_type": "stream",
     "text": [
      "/home/zhangi/miniconda3/envs/perses-sims-oct2020/lib/python3.7/site-packages/seaborn/distributions.py:2551: FutureWarning: `distplot` is a deprecated function and will be removed in a future version. Please adapt your code to use either `displot` (a figure-level function with similar flexibility) or `histplot` (an axes-level function for histograms).\n",
      "  warnings.warn(msg, FutureWarning)\n",
      "/home/zhangi/miniconda3/envs/perses-sims-oct2020/lib/python3.7/site-packages/seaborn/distributions.py:2055: FutureWarning: The `axis` variable is no longer used and will be removed. Instead, assign variables directly to `x` or `y`.\n",
      "  warnings.warn(msg, FutureWarning)\n",
      "/home/zhangi/miniconda3/envs/perses-sims-oct2020/lib/python3.7/site-packages/seaborn/distributions.py:2551: FutureWarning: `distplot` is a deprecated function and will be removed in a future version. Please adapt your code to use either `displot` (a figure-level function with similar flexibility) or `histplot` (an axes-level function for histograms).\n",
      "  warnings.warn(msg, FutureWarning)\n",
      "/home/zhangi/miniconda3/envs/perses-sims-oct2020/lib/python3.7/site-packages/seaborn/distributions.py:2055: FutureWarning: The `axis` variable is no longer used and will be removed. Instead, assign variables directly to `x` or `y`.\n",
      "  warnings.warn(msg, FutureWarning)\n",
      "/home/zhangi/miniconda3/envs/perses-sims-oct2020/lib/python3.7/site-packages/seaborn/distributions.py:2551: FutureWarning: `distplot` is a deprecated function and will be removed in a future version. Please adapt your code to use either `displot` (a figure-level function with similar flexibility) or `histplot` (an axes-level function for histograms).\n",
      "  warnings.warn(msg, FutureWarning)\n",
      "/home/zhangi/miniconda3/envs/perses-sims-oct2020/lib/python3.7/site-packages/seaborn/distributions.py:2055: FutureWarning: The `axis` variable is no longer used and will be removed. Instead, assign variables directly to `x` or `y`.\n",
      "  warnings.warn(msg, FutureWarning)\n"
     ]
    },
    {
     "data": {
      "image/png": "[encoded data removed]",
      "text/plain": [
       "<Figure size 432x288 with 1 Axes>"
      ]
     },
     "metadata": {
      "needs_background": "light"
     },
     "output_type": "display_data"
    }
   ],
   "source": [
    "# Plot dgs for each state in apo\n",
    "for phase in phases:\n",
    "    states = states_apo if phase == 'apo' else states_complex\n",
    "    for state in states:\n",
    "        dgs = [d[phase][state][0] for d in dgs_state_all]\n",
    "        sns.distplot(dgs, label=f\"bar free energy\", rug=True)\n",
    "        sns.distplot(d_input_works[phase]['forward'][state], label=f\"state{state}f\", rug=True)\n",
    "        sns.distplot(np.array(d_input_works[phase]['reverse'][state])*-1, label=f\"state{state}r\", rug=True)\n",
    "        plt.title(phase)\n",
    "        plt.legend()\n",
    "        plt.show()"
   ]
  },
  {
   "cell_type": "code",
   "execution_count": 60,
   "metadata": {},
   "outputs": [
    {
     "name": "stderr",
     "output_type": "stream",
     "text": [
      "/home/zhangi/miniconda3/envs/perses-sims-oct2020/lib/python3.7/site-packages/seaborn/distributions.py:2551: FutureWarning: `distplot` is a deprecated function and will be removed in a future version. Please adapt your code to use either `displot` (a figure-level function with similar flexibility) or `histplot` (an axes-level function for histograms).\n",
      "  warnings.warn(msg, FutureWarning)\n",
      "/home/zhangi/miniconda3/envs/perses-sims-oct2020/lib/python3.7/site-packages/seaborn/distributions.py:2055: FutureWarning: The `axis` variable is no longer used and will be removed. Instead, assign variables directly to `x` or `y`.\n",
      "  warnings.warn(msg, FutureWarning)\n"
     ]
    },
    {
     "data": {
      "text/plain": [
       "<AxesSubplot:ylabel='Density'>"
      ]
     },
     "execution_count": 60,
     "metadata": {},
     "output_type": "execute_result"
    },
    {
     "data": {
      "image/png": "[encoded data removed]",
      "text/plain": [
       "<Figure size 432x288 with 1 Axes>"
      ]
     },
     "metadata": {
      "needs_background": "light"
     },
     "output_type": "display_data"
    }
   ],
   "source": [
    "# Plot dgs for apo\n",
    "dgs_apo = [d['apo'] for d in dgs_phase_all]\n",
    "sns.distplot(dgs_apo, rug=True)"
   ]
  },
  {
   "cell_type": "code",
   "execution_count": 61,
   "metadata": {
    "scrolled": true
   },
   "outputs": [
    {
     "data": {
      "text/plain": [
       "-27.305138209936676"
      ]
     },
     "execution_count": 61,
     "metadata": {},
     "output_type": "execute_result"
    }
   ],
   "source": [
    "np.mean(dgs_apo)*KT_KCALMOL"
   ]
  },
  {
   "cell_type": "code",
   "execution_count": 62,
   "metadata": {},
   "outputs": [
    {
     "data": {
      "text/plain": [
       "0.0534547929446667"
      ]
     },
     "execution_count": 62,
     "metadata": {},
     "output_type": "execute_result"
    }
   ],
   "source": [
    "np.std(dgs_apo)*KT_KCALMOL"
   ]
  },
  {
   "cell_type": "code",
   "execution_count": 63,
   "metadata": {},
   "outputs": [
    {
     "data": {
      "text/plain": [
       "(-27.411377084575214, -27.201726761829317)"
      ]
     },
     "execution_count": 63,
     "metadata": {},
     "output_type": "execute_result"
    }
   ],
   "source": [
    "np.percentile(dgs_apo, 2.5)*KT_KCALMOL, np.percentile(dgs_apo, 97.5)*KT_KCALMOL"
   ]
  },
  {
   "cell_type": "code",
   "execution_count": 64,
   "metadata": {},
   "outputs": [
    {
     "name": "stderr",
     "output_type": "stream",
     "text": [
      "/home/zhangi/miniconda3/envs/perses-sims-oct2020/lib/python3.7/site-packages/seaborn/distributions.py:2551: FutureWarning: `distplot` is a deprecated function and will be removed in a future version. Please adapt your code to use either `displot` (a figure-level function with similar flexibility) or `histplot` (an axes-level function for histograms).\n",
      "  warnings.warn(msg, FutureWarning)\n",
      "/home/zhangi/miniconda3/envs/perses-sims-oct2020/lib/python3.7/site-packages/seaborn/distributions.py:2055: FutureWarning: The `axis` variable is no longer used and will be removed. Instead, assign variables directly to `x` or `y`.\n",
      "  warnings.warn(msg, FutureWarning)\n"
     ]
    },
    {
     "data": {
      "text/plain": [
       "<AxesSubplot:ylabel='Density'>"
      ]
     },
     "execution_count": 64,
     "metadata": {},
     "output_type": "execute_result"
    },
    {
     "data": {
      "image/png": "[encoded data removed]",
      "text/plain": [
       "<Figure size 432x288 with 1 Axes>"
      ]
     },
     "metadata": {
      "needs_background": "light"
     },
     "output_type": "display_data"
    }
   ],
   "source": [
    "# Plot dgs for complex\n",
    "dgs_complex = [d['complex'] for d in dgs_phase_all]\n",
    "sns.distplot(dgs_complex, rug=True)"
   ]
  },
  {
   "cell_type": "code",
   "execution_count": 65,
   "metadata": {
    "scrolled": true
   },
   "outputs": [
    {
     "data": {
      "text/plain": [
       "-30.050862763265176"
      ]
     },
     "execution_count": 65,
     "metadata": {},
     "output_type": "execute_result"
    }
   ],
   "source": [
    "np.mean(dgs_complex)*KT_KCALMOL"
   ]
  },
  {
   "cell_type": "code",
   "execution_count": 66,
   "metadata": {},
   "outputs": [
    {
     "data": {
      "text/plain": [
       "0.13970889028680383"
      ]
     },
     "execution_count": 66,
     "metadata": {},
     "output_type": "execute_result"
    }
   ],
   "source": [
    "np.std(dgs_complex)*KT_KCALMOL"
   ]
  },
  {
   "cell_type": "code",
   "execution_count": 67,
   "metadata": {},
   "outputs": [
    {
     "data": {
      "text/plain": [
       "(-30.31599738536592, -29.77236849234731)"
      ]
     },
     "execution_count": 67,
     "metadata": {},
     "output_type": "execute_result"
    }
   ],
   "source": [
    "np.percentile(dgs_complex, 2.5)*KT_KCALMOL, np.percentile(dgs_complex, 97.5)*KT_KCALMOL"
   ]
  },
  {
   "cell_type": "code",
   "execution_count": 68,
   "metadata": {},
   "outputs": [
    {
     "name": "stderr",
     "output_type": "stream",
     "text": [
      "/home/zhangi/miniconda3/envs/perses-sims-oct2020/lib/python3.7/site-packages/seaborn/distributions.py:2551: FutureWarning: `distplot` is a deprecated function and will be removed in a future version. Please adapt your code to use either `displot` (a figure-level function with similar flexibility) or `histplot` (an axes-level function for histograms).\n",
      "  warnings.warn(msg, FutureWarning)\n",
      "/home/zhangi/miniconda3/envs/perses-sims-oct2020/lib/python3.7/site-packages/seaborn/distributions.py:2055: FutureWarning: The `axis` variable is no longer used and will be removed. Instead, assign variables directly to `x` or `y`.\n",
      "  warnings.warn(msg, FutureWarning)\n"
     ]
    },
    {
     "data": {
      "text/plain": [
       "<AxesSubplot:ylabel='Density'>"
      ]
     },
     "execution_count": 68,
     "metadata": {},
     "output_type": "execute_result"
    },
    {
     "data": {
      "image/png": "[encoded data removed]",
      "text/plain": [
       "<Figure size 432x288 with 1 Axes>"
      ]
     },
     "metadata": {
      "needs_background": "light"
     },
     "output_type": "display_data"
    }
   ],
   "source": [
    "# Plot ddgs\n",
    "sns.distplot(ddgs_all, rug=True)"
   ]
  },
  {
   "cell_type": "code",
   "execution_count": 69,
   "metadata": {
    "scrolled": true
   },
   "outputs": [
    {
     "data": {
      "text/plain": [
       "2.7457245533284973"
      ]
     },
     "execution_count": 69,
     "metadata": {},
     "output_type": "execute_result"
    }
   ],
   "source": [
    "np.mean(ddgs_all)*KT_KCALMOL"
   ]
  },
  {
   "cell_type": "code",
   "execution_count": 70,
   "metadata": {},
   "outputs": [
    {
     "data": {
      "text/plain": [
       "0.15004102063272312"
      ]
     },
     "execution_count": 70,
     "metadata": {},
     "output_type": "execute_result"
    }
   ],
   "source": [
    "np.std(ddgs_all)*KT_KCALMOL"
   ]
  },
  {
   "cell_type": "code",
   "execution_count": 71,
   "metadata": {
    "scrolled": true
   },
   "outputs": [
    {
     "data": {
      "text/plain": [
       "(2.445515887495562, 3.035173425486194)"
      ]
     },
     "execution_count": 71,
     "metadata": {},
     "output_type": "execute_result"
    }
   ],
   "source": [
    "np.percentile(ddgs_all, 2.5)*KT_KCALMOL, np.percentile(ddgs_all, 97.5)*KT_KCALMOL"
   ]
  },
  {
   "cell_type": "markdown",
   "metadata": {},
   "source": [
    "### Compare states A42T vs T42A"
   ]
  },
  {
   "cell_type": "code",
   "execution_count": 72,
   "metadata": {},
   "outputs": [
    {
     "name": "stderr",
     "output_type": "stream",
     "text": [
      "/home/zhangi/miniconda3/envs/perses-sims-oct2020/lib/python3.7/site-packages/seaborn/distributions.py:2551: FutureWarning: `distplot` is a deprecated function and will be removed in a future version. Please adapt your code to use either `displot` (a figure-level function with similar flexibility) or `histplot` (an axes-level function for histograms).\n",
      "  warnings.warn(msg, FutureWarning)\n",
      "/home/zhangi/miniconda3/envs/perses-sims-oct2020/lib/python3.7/site-packages/seaborn/distributions.py:2055: FutureWarning: The `axis` variable is no longer used and will be removed. Instead, assign variables directly to `x` or `y`.\n",
      "  warnings.warn(msg, FutureWarning)\n",
      "/home/zhangi/miniconda3/envs/perses-sims-oct2020/lib/python3.7/site-packages/seaborn/distributions.py:2551: FutureWarning: `distplot` is a deprecated function and will be removed in a future version. Please adapt your code to use either `displot` (a figure-level function with similar flexibility) or `histplot` (an axes-level function for histograms).\n",
      "  warnings.warn(msg, FutureWarning)\n",
      "/home/zhangi/miniconda3/envs/perses-sims-oct2020/lib/python3.7/site-packages/seaborn/distributions.py:2055: FutureWarning: The `axis` variable is no longer used and will be removed. Instead, assign variables directly to `x` or `y`.\n",
      "  warnings.warn(msg, FutureWarning)\n"
     ]
    },
    {
     "data": {
      "image/png": "[encoded data removed]",
      "text/plain": [
       "<Figure size 432x288 with 1 Axes>"
      ]
     },
     "metadata": {
      "needs_background": "light"
     },
     "output_type": "display_data"
    },
    {
     "name": "stderr",
     "output_type": "stream",
     "text": [
      "/home/zhangi/miniconda3/envs/perses-sims-oct2020/lib/python3.7/site-packages/seaborn/distributions.py:2551: FutureWarning: `distplot` is a deprecated function and will be removed in a future version. Please adapt your code to use either `displot` (a figure-level function with similar flexibility) or `histplot` (an axes-level function for histograms).\n",
      "  warnings.warn(msg, FutureWarning)\n",
      "/home/zhangi/miniconda3/envs/perses-sims-oct2020/lib/python3.7/site-packages/seaborn/distributions.py:2055: FutureWarning: The `axis` variable is no longer used and will be removed. Instead, assign variables directly to `x` or `y`.\n",
      "  warnings.warn(msg, FutureWarning)\n",
      "/home/zhangi/miniconda3/envs/perses-sims-oct2020/lib/python3.7/site-packages/seaborn/distributions.py:2551: FutureWarning: `distplot` is a deprecated function and will be removed in a future version. Please adapt your code to use either `displot` (a figure-level function with similar flexibility) or `histplot` (an axes-level function for histograms).\n",
      "  warnings.warn(msg, FutureWarning)\n",
      "/home/zhangi/miniconda3/envs/perses-sims-oct2020/lib/python3.7/site-packages/seaborn/distributions.py:2055: FutureWarning: The `axis` variable is no longer used and will be removed. Instead, assign variables directly to `x` or `y`.\n",
      "  warnings.warn(msg, FutureWarning)\n"
     ]
    },
    {
     "data": {
      "image/png": "[encoded data removed]",
      "text/plain": [
       "<Figure size 432x288 with 1 Axes>"
      ]
     },
     "metadata": {
      "needs_background": "light"
     },
     "output_type": "display_data"
    }
   ],
   "source": [
    "states = [1, 2]\n",
    "phases = ['apo']\n",
    "for phase in phases:\n",
    "    for state in states:\n",
    "        dgs_T42A = [d[phase][state][0] for d in dgs_state_all_T42A]\n",
    "        dgs_A42T = [d[phase][state][0] for d in dgs_state_all_A42T]\n",
    "        sns.distplot(dgs_T42A, label=f\"T42A\", rug=True)\n",
    "        sns.distplot(np.array(dgs_A42T)*-1, label=f\"A42T\", rug=True)\n",
    "        plt.title(f\"{phase} {state}\")\n",
    "        plt.legend()\n",
    "        plt.show()"
   ]
  },
  {
   "cell_type": "code",
   "execution_count": 73,
   "metadata": {},
   "outputs": [
    {
     "name": "stderr",
     "output_type": "stream",
     "text": [
      "/home/zhangi/miniconda3/envs/perses-sims-oct2020/lib/python3.7/site-packages/seaborn/distributions.py:2551: FutureWarning: `distplot` is a deprecated function and will be removed in a future version. Please adapt your code to use either `displot` (a figure-level function with similar flexibility) or `histplot` (an axes-level function for histograms).\n",
      "  warnings.warn(msg, FutureWarning)\n",
      "/home/zhangi/miniconda3/envs/perses-sims-oct2020/lib/python3.7/site-packages/seaborn/distributions.py:2055: FutureWarning: The `axis` variable is no longer used and will be removed. Instead, assign variables directly to `x` or `y`.\n",
      "  warnings.warn(msg, FutureWarning)\n",
      "/home/zhangi/miniconda3/envs/perses-sims-oct2020/lib/python3.7/site-packages/seaborn/distributions.py:2551: FutureWarning: `distplot` is a deprecated function and will be removed in a future version. Please adapt your code to use either `displot` (a figure-level function with similar flexibility) or `histplot` (an axes-level function for histograms).\n",
      "  warnings.warn(msg, FutureWarning)\n",
      "/home/zhangi/miniconda3/envs/perses-sims-oct2020/lib/python3.7/site-packages/seaborn/distributions.py:2055: FutureWarning: The `axis` variable is no longer used and will be removed. Instead, assign variables directly to `x` or `y`.\n",
      "  warnings.warn(msg, FutureWarning)\n"
     ]
    },
    {
     "data": {
      "image/png": "[encoded data removed]",
      "text/plain": [
       "<Figure size 432x288 with 1 Axes>"
      ]
     },
     "metadata": {
      "needs_background": "light"
     },
     "output_type": "display_data"
    }
   ],
   "source": [
    "states = [2]\n",
    "phases = ['complex']\n",
    "for phase in phases:\n",
    "    for state in states:\n",
    "        dgs_T42A = [d[phase][state][0] for d in dgs_state_all_T42A]\n",
    "        dgs_A42T = [d[phase][state][0] for d in dgs_state_all_A42T]\n",
    "        sns.distplot(dgs_T42A, label=f\"T42A\", rug=True)\n",
    "        sns.distplot(np.array(dgs_A42T)*-1, label=f\"A42T\", rug=True)\n",
    "        plt.title(f\"{phase} {state}\")\n",
    "        plt.legend()\n",
    "        plt.show()"
   ]
  },
  {
   "cell_type": "code",
   "execution_count": null,
   "metadata": {},
   "outputs": [],
   "source": []
  },
  {
   "cell_type": "code",
   "execution_count": null,
   "metadata": {},
   "outputs": [],
   "source": []
  }
 ],
 "metadata": {
  "kernelspec": {
   "display_name": "Python 3",
   "language": "python",
   "name": "python3"
  },
  "language_info": {
   "codemirror_mode": {
    "name": "ipython",
    "version": 3
   },
   "file_extension": ".py",
   "mimetype": "text/x-python",
   "name": "python",
   "nbconvert_exporter": "python",
   "pygments_lexer": "ipython3",
   "version": "3.7.8"
  }
 },
 "nbformat": 4,
 "nbformat_minor": 4
}
