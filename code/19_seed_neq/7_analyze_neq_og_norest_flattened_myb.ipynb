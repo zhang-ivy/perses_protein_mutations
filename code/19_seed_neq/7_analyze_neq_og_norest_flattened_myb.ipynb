{
 "cells": [
  {
   "cell_type": "markdown",
   "metadata": {},
   "source": [
    "Analyze 0/0-1 -- neq switching without rest, with flattening"
   ]
  },
  {
   "cell_type": "code",
   "execution_count": 1,
   "metadata": {},
   "outputs": [],
   "source": [
    "from perses.analysis.analysis import Analysis\n",
    "import numpy as np\n",
    "import seaborn as sns\n",
    "import matplotlib.pyplot as plt\n",
    "import pymbar\n",
    "%matplotlib inline\n",
    "import os\n",
    "import itertools\n",
    "from tqdm import tqdm_notebook\n",
    "import pandas as pd\n",
    "import tqdm\n",
    "import warnings\n",
    "warnings.filterwarnings('ignore')\n",
    "from simtk.openmm import unit\n",
    "from openmmtools.constants import kB\n",
    "KT_KCALMOL = kB * 300 * unit.kelvin / unit.kilocalories_per_mole\n",
    "import pandas as pd\n",
    "import pickle"
   ]
  },
  {
   "cell_type": "code",
   "execution_count": 2,
   "metadata": {},
   "outputs": [],
   "source": [
    "def analyze(forward_accumulated, reverse_accumulated): \n",
    "    # Compute dg, ddg\n",
    "    dg, ddg = pymbar.bar.BAR(forward_accumulated, reverse_accumulated)\n",
    "    return dg, ddg\n",
    "\n",
    "def analyze_bootstrap(d_works):\n",
    "    d_dgs_phase = {}\n",
    "    complex_dg, complex_ddg = analyze(d_works['complex']['forward'], d_works['complex']['reverse'])\n",
    "    apo_dg, apo_ddg = analyze(d_works['apo']['forward'], d_works['apo']['reverse'])\n",
    "    d_dgs_phase['complex'] = (complex_dg, complex_ddg)\n",
    "    d_dgs_phase['apo'] = (apo_dg, apo_ddg)\n",
    "    \n",
    "    binding_dg = complex_dg - apo_dg\n",
    "#     binding_ddg = (apo_ddg**2 + complex_ddg**2)**0.5\n",
    "    return d_dgs_phase, binding_dg\n",
    "    \n",
    "def plot(forward_work, reverse_work, dg, ddg, dir_num, phase, output_dir, title):\n",
    "    # Substract offset\n",
    "    print(\"subtracting offset\")\n",
    "    forward_work_offset = []\n",
    "    for cycle in forward_work:\n",
    "        forward_work_offset.append(np.array([val - cycle[0] for val in cycle[1:]]))\n",
    "    forward_work_offset = np.array(forward_work_offset)\n",
    "\n",
    "    reverse_work_offset = []\n",
    "    for cycle in reverse_work:\n",
    "        reverse_work_offset.append(np.array([val - cycle[0] for val in cycle[1:]]))\n",
    "    reverse_work_offset = np.array(reverse_work_offset)\n",
    "\n",
    "    # Plot work trajectories\n",
    "    print(\"plotting work trajs\")\n",
    "    for cycle in forward_work_offset:\n",
    "        x = [(i+1)*4e-4 for i in range(len(list(cycle)))]\n",
    "        y = cycle\n",
    "        plt.plot(x, y, color=sns.color_palette()[0])\n",
    "    for cycle in reverse_work_offset:\n",
    "        x = [(i+1)*4e-4 for i in range(len(list(cycle)))]\n",
    "        y = -cycle\n",
    "        plt.plot(x, y, color=sns.color_palette()[1])\n",
    "    plt.xlabel(\"$t_{neq}$ (ns)\")\n",
    "    plt.ylabel(\"work (kT)\")\n",
    "    plt.title(f\"{title} {phase}\")\n",
    "    plt.savefig(os.path.join(output_dir, f\"{dir_num}_{phase}_work_traj.png\"), dpi=500)\n",
    "    print(f\"saved to: {os.path.join(output_dir, f'{dir_num}_{phase}_work_traj.png')}\")\n",
    "    plt.clf()\n",
    "    \n",
    "    # Plot work distributions\n",
    "    print(\"plotting work distrib\")\n",
    "    accumulated_forward = [cycle[-1] for cycle in forward_work_offset]\n",
    "    accumulated_reverse = [-cycle[-1] for cycle in reverse_work_offset]\n",
    "    sns.distplot(accumulated_forward)\n",
    "    sns.distplot(accumulated_reverse)\n",
    "    plt.axvline(dg)\n",
    "    plt.axvline(dg + ddg, linestyle='dashed')\n",
    "    plt.axvline(dg - ddg, linestyle='dashed')\n",
    "    plt.xlabel(\"work (kT)\")\n",
    "    plt.ylabel(\"p(w)\")\n",
    "    plt.title(f\"{title} {phase}\")\n",
    "    plt.savefig(os.path.join(output_dir, f\"{dir_num}_{phase}_work_dist.png\"), dpi=500)\n",
    "    print(f\"saved to: {os.path.join(output_dir, f'{dir_num}_{phase}_work_dist.png')}\")\n",
    "    plt.clf()\n",
    "    "
   ]
  },
  {
   "cell_type": "markdown",
   "metadata": {},
   "source": [
    "## L99G, G99L"
   ]
  },
  {
   "cell_type": "code",
   "execution_count": 3,
   "metadata": {
    "scrolled": true
   },
   "outputs": [
    {
     "data": {
      "application/vnd.jupyter.widget-view+json": {
       "model_id": "59d0b896f01a42c084aa91b7814bcabb",
       "version_major": 2,
       "version_minor": 0
      },
      "text/plain": [
       "HBox(children=(HTML(value=''), FloatProgress(value=0.0, max=2.0), HTML(value='')))"
      ]
     },
     "metadata": {},
     "output_type": "display_data"
    },
    {
     "name": "stdout",
     "output_type": "stream",
     "text": [
      "dir: 0\n",
      "job: 0\n",
      "job: 1\n",
      "job: 2\n",
      "job: 3\n",
      "job: 4\n",
      "job: 5\n",
      "job: 6\n",
      "job: 7\n",
      "job: 8\n",
      "job: 9\n",
      "job: 10\n",
      "job: 11\n",
      "job: 12\n",
      "job: 13\n",
      "job: 14\n",
      "job: 15\n",
      "job: 16\n",
      "job: 17\n",
      "job: 18\n",
      "job: 19\n",
      "job: 20\n",
      "job: 21\n",
      "job: 22\n",
      "job: 23\n",
      "job: 24\n",
      "job: 25\n",
      "job: 26\n",
      "job: 27\n",
      "job: 28\n",
      "job: 29\n",
      "job: 30\n",
      "job: 31\n",
      "job: 32\n",
      "job: 33\n",
      "job: 34\n",
      "job: 35\n",
      "job: 36\n",
      "job: 37\n",
      "job: 38\n",
      "job: 39\n",
      "job: 40\n",
      "job: 41\n",
      "job: 42\n",
      "job: 43\n",
      "job: 44\n",
      "job: 45\n",
      "job: 46\n",
      "job: 47\n",
      "job: 48\n",
      "job: 49\n",
      "job: 50\n",
      "job: 51\n",
      "job: 52\n",
      "job: 53\n",
      "job: 54\n",
      "job: 55\n",
      "job: 56\n",
      "job: 57\n",
      "job: 58\n",
      "job: 59\n",
      "job: 60\n",
      "job: 61\n",
      "job: 62\n",
      "job: 63\n",
      "job: 64\n",
      "job: 65\n",
      "job: 66\n",
      "job: 67\n",
      "job: 68\n",
      "job: 69\n",
      "job: 70\n",
      "job: 71\n",
      "job: 72\n",
      "job: 73\n",
      "job: 74\n",
      "job: 75\n",
      "job: 76\n",
      "job: 77\n",
      "job: 78\n",
      "job: 79\n",
      "job: 80\n",
      "job: 81\n",
      "job: 82\n",
      "job: 83\n",
      "job: 84\n",
      "job: 85\n",
      "job: 86\n",
      "job: 87\n",
      "job: 88\n",
      "job: 89\n",
      "job: 90\n",
      "job: 91\n",
      "job: 92\n",
      "job: 93\n",
      "job: 94\n",
      "job: 95\n",
      "job: 96\n",
      "job: 97\n",
      "job: 98\n",
      "job: 99\n",
      "100\n",
      "job: 0\n",
      "job: 1\n",
      "job: 2\n",
      "job: 3\n",
      "job: 4\n",
      "job: 5\n",
      "job: 6\n",
      "job: 7\n",
      "job: 8\n",
      "job: 9\n",
      "job: 10\n",
      "job: 11\n",
      "job: 12\n",
      "job: 13\n",
      "job: 14\n",
      "job: 15\n",
      "job: 16\n",
      "job: 17\n",
      "job: 18\n",
      "job: 19\n",
      "job: 20\n",
      "job: 21\n",
      "job: 22\n",
      "job: 23\n",
      "job: 24\n",
      "job: 25\n",
      "job: 26\n",
      "job: 27\n",
      "job: 28\n",
      "job: 29\n",
      "job: 30\n",
      "job: 31\n",
      "job: 32\n",
      "job: 33\n",
      "job: 34\n",
      "job: 35\n",
      "job: 36\n",
      "job: 37\n",
      "job: 38\n",
      "job: 39\n",
      "job: 40\n",
      "job: 41\n",
      "job: 42\n",
      "job: 43\n",
      "job: 44\n",
      "job: 45\n",
      "job: 46\n",
      "job: 47\n",
      "job: 48\n",
      "job: 49\n",
      "job: 50\n",
      "job: 51\n",
      "job: 52\n",
      "job: 53\n",
      "job: 54\n",
      "job: 55\n",
      "job: 56\n",
      "job: 57\n",
      "job: 58\n",
      "job: 59\n",
      "job: 60\n",
      "job: 61\n",
      "job: 62\n",
      "job: 63\n",
      "job: 64\n",
      "job: 65\n",
      "job: 66\n",
      "job: 67\n",
      "job: 68\n",
      "job: 69\n",
      "job: 70\n",
      "job: 71\n",
      "job: 72\n",
      "job: 73\n",
      "job: 74\n",
      "job: 75\n",
      "job: 76\n",
      "job: 77\n",
      "job: 78\n",
      "job: 79\n",
      "job: 80\n",
      "job: 81\n",
      "job: 82\n",
      "job: 83\n",
      "job: 84\n",
      "job: 85\n",
      "job: 86\n",
      "job: 87\n",
      "job: 88\n",
      "job: 89\n",
      "job: 90\n",
      "job: 91\n",
      "job: 92\n",
      "job: 93\n",
      "job: 94\n",
      "job: 95\n",
      "job: 96\n",
      "job: 97\n",
      "job: 98\n",
      "job: 99\n",
      "100\n",
      "job: 0\n",
      "job: 1\n",
      "job: 2\n",
      "job: 3\n",
      "job: 4\n",
      "job: 5\n",
      "job: 6\n",
      "job: 7\n",
      "job: 8\n",
      "job: 9\n",
      "job: 10\n",
      "job: 11\n",
      "job: 12\n",
      "job: 13\n",
      "job: 14\n",
      "job: 15\n",
      "job: 16\n",
      "job: 17\n",
      "job: 18\n",
      "job: 19\n",
      "job: 20\n",
      "job: 21\n",
      "job: 22\n",
      "job: 23\n",
      "job: 24\n",
      "job: 25\n",
      "job: 26\n",
      "job: 27\n",
      "job: 28\n",
      "job: 29\n",
      "job: 30\n",
      "job: 31\n",
      "job: 32\n",
      "job: 33\n",
      "job: 34\n",
      "job: 35\n",
      "job: 36\n",
      "job: 37\n",
      "job: 38\n",
      "job: 39\n",
      "job: 40\n",
      "job: 41\n",
      "job: 42\n",
      "job: 43\n",
      "job: 44\n",
      "job: 45\n",
      "job: 46\n",
      "job: 47\n",
      "job: 48\n",
      "job: 49\n",
      "job: 50\n",
      "job: 51\n",
      "job: 52\n",
      "job: 53\n",
      "job: 54\n",
      "job: 55\n",
      "job: 56\n",
      "job: 57\n",
      "job: 58\n",
      "job: 59\n",
      "job: 60\n",
      "job: 61\n",
      "job: 62\n",
      "job: 63\n",
      "job: 64\n",
      "job: 65\n",
      "job: 66\n",
      "job: 67\n",
      "job: 68\n",
      "job: 69\n",
      "job: 70\n",
      "job: 71\n",
      "job: 72\n",
      "job: 73\n",
      "job: 74\n",
      "job: 75\n",
      "job: 76\n",
      "job: 77\n",
      "job: 78\n",
      "job: 79\n",
      "job: 80\n",
      "job: 81\n",
      "job: 82\n",
      "job: 83\n",
      "job: 84\n",
      "job: 85\n",
      "job: 86\n",
      "job: 87\n",
      "job: 88\n",
      "job: 89\n",
      "job: 90\n",
      "job: 91\n",
      "job: 92\n",
      "job: 93\n",
      "job: 94\n",
      "job: 95\n",
      "job: 96\n",
      "job: 97\n",
      "job: 98\n",
      "job: 99\n",
      "100\n",
      "job: 0\n",
      "job: 1\n",
      "job: 2\n",
      "job: 3\n",
      "job: 4\n",
      "job: 5\n",
      "job: 6\n",
      "job: 7\n",
      "job: 8\n",
      "job: 9\n",
      "job: 10\n",
      "job: 11\n",
      "job: 12\n",
      "job: 13\n",
      "job: 14\n",
      "job: 15\n",
      "job: 16\n",
      "job: 17\n",
      "job: 18\n",
      "job: 19\n",
      "job: 20\n",
      "job: 21\n",
      "job: 22\n",
      "job: 23\n",
      "job: 24\n",
      "job: 25\n",
      "job: 26\n",
      "job: 27\n",
      "job: 28\n",
      "job: 29\n",
      "job: 30\n",
      "job: 31\n",
      "job: 32\n",
      "job: 33\n",
      "job: 34\n",
      "job: 35\n",
      "job: 36\n",
      "job: 37\n",
      "job: 38\n",
      "job: 39\n",
      "job: 40\n",
      "job: 41\n",
      "job: 42\n",
      "job: 43\n",
      "job: 44\n",
      "job: 45\n",
      "job: 46\n",
      "job: 47\n",
      "job: 48\n",
      "job: 49\n",
      "job: 50\n",
      "job: 51\n",
      "job: 52\n",
      "job: 53\n",
      "job: 54\n",
      "job: 55\n",
      "job: 56\n",
      "job: 57\n",
      "job: 58\n",
      "job: 59\n",
      "job: 60\n",
      "job: 61\n",
      "job: 62\n",
      "job: 63\n",
      "job: 64\n",
      "job: 65\n",
      "job: 66\n",
      "job: 67\n",
      "job: 68\n",
      "job: 69\n",
      "job: 70\n",
      "job: 71\n",
      "job: 72\n",
      "job: 73\n",
      "job: 74\n",
      "job: 75\n",
      "job: 76\n",
      "job: 77\n",
      "job: 78\n",
      "job: 79\n",
      "job: 80\n",
      "job: 81\n",
      "job: 82\n",
      "job: 83\n",
      "job: 84\n",
      "job: 85\n",
      "job: 86\n",
      "job: 87\n",
      "job: 88\n",
      "job: 89\n",
      "job: 90\n",
      "job: 91\n",
      "job: 92\n",
      "job: 93\n",
      "job: 94\n",
      "job: 95\n",
      "job: 96\n",
      "job: 97\n",
      "job: 98\n",
      "job: 99\n",
      "100\n",
      "dir: 1\n",
      "job: 0\n",
      "job: 1\n",
      "job: 2\n",
      "job: 3\n",
      "job: 4\n",
      "job: 5\n",
      "job: 6\n",
      "job: 7\n",
      "job: 8\n",
      "job: 9\n",
      "job: 10\n",
      "job: 11\n",
      "job: 12\n",
      "job: 13\n",
      "job: 14\n",
      "job: 15\n",
      "job: 16\n",
      "job: 17\n",
      "job: 18\n",
      "job: 19\n",
      "job: 20\n",
      "job: 21\n",
      "job: 22\n",
      "job: 23\n",
      "job: 24\n",
      "job: 25\n",
      "job: 26\n",
      "job: 27\n",
      "job: 28\n",
      "job: 29\n",
      "job: 30\n",
      "job: 31\n",
      "job: 32\n",
      "job: 33\n",
      "job: 34\n",
      "job: 35\n",
      "job: 36\n",
      "job: 37\n",
      "job: 38\n",
      "job: 39\n",
      "job: 40\n",
      "job: 41\n",
      "job: 42\n",
      "job: 43\n",
      "job: 44\n",
      "job: 45\n",
      "job: 46\n",
      "job: 47\n",
      "job: 48\n",
      "job: 49\n",
      "job: 50\n",
      "job: 51\n",
      "job: 52\n",
      "job: 53\n",
      "job: 54\n",
      "job: 55\n",
      "job: 56\n",
      "job: 57\n",
      "job: 58\n",
      "job: 59\n",
      "job: 60\n",
      "job: 61\n",
      "job: 62\n",
      "job: 63\n",
      "job: 64\n",
      "job: 65\n",
      "job: 66\n",
      "job: 67\n",
      "job: 68\n",
      "job: 69\n",
      "job: 70\n",
      "job: 71\n",
      "job: 72\n",
      "job: 73\n",
      "job: 74\n",
      "job: 75\n",
      "job: 76\n",
      "job: 77\n",
      "job: 78\n",
      "job: 79\n",
      "job: 80\n",
      "job: 81\n",
      "job: 82\n",
      "job: 83\n",
      "job: 84\n",
      "job: 85\n",
      "job: 86\n",
      "job: 87\n",
      "job: 88\n",
      "job: 89\n",
      "job: 90\n",
      "job: 91\n",
      "job: 92\n",
      "job: 93\n",
      "job: 94\n",
      "job: 95\n",
      "job: 96\n",
      "job: 97\n",
      "job: 98\n",
      "job: 99\n",
      "100\n",
      "job: 0\n",
      "job: 1\n",
      "job: 2\n",
      "job: 3\n",
      "job: 4\n",
      "job: 5\n",
      "job: 6\n",
      "job: 7\n",
      "job: 8\n",
      "job: 9\n",
      "job: 10\n",
      "job: 11\n",
      "job: 12\n",
      "job: 13\n",
      "job: 14\n",
      "job: 15\n",
      "job: 16\n",
      "job: 17\n",
      "job: 18\n",
      "job: 19\n",
      "job: 20\n",
      "job: 21\n",
      "job: 22\n",
      "job: 23\n",
      "job: 24\n",
      "job: 25\n",
      "job: 26\n",
      "job: 27\n",
      "job: 28\n",
      "job: 29\n",
      "job: 30\n",
      "job: 31\n",
      "job: 32\n",
      "job: 33\n",
      "job: 34\n",
      "job: 35\n",
      "job: 36\n",
      "job: 37\n",
      "job: 38\n",
      "job: 39\n",
      "job: 40\n",
      "job: 41\n",
      "job: 42\n",
      "job: 43\n",
      "job: 44\n",
      "job: 45\n",
      "job: 46\n",
      "job: 47\n",
      "job: 48\n",
      "job: 49\n",
      "job: 50\n",
      "job: 51\n",
      "job: 52\n",
      "job: 53\n",
      "job: 54\n",
      "job: 55\n",
      "job: 56\n",
      "job: 57\n",
      "job: 58\n",
      "job: 59\n",
      "job: 60\n",
      "job: 61\n",
      "job: 62\n",
      "job: 63\n",
      "job: 64\n",
      "job: 65\n",
      "job: 66\n",
      "job: 67\n",
      "job: 68\n",
      "job: 69\n",
      "job: 70\n",
      "job: 71\n",
      "job: 72\n",
      "job: 73\n",
      "job: 74\n",
      "job: 75\n",
      "job: 76\n",
      "job: 77\n",
      "job: 78\n",
      "job: 79\n",
      "job: 80\n",
      "job: 81\n",
      "job: 82\n",
      "job: 83\n",
      "job: 84\n",
      "job: 85\n",
      "job: 86\n",
      "job: 87\n",
      "job: 88\n",
      "job: 89\n",
      "job: 90\n",
      "job: 91\n",
      "job: 92\n",
      "job: 93\n",
      "job: 94\n",
      "job: 95\n",
      "job: 96\n",
      "job: 97\n",
      "job: 98\n",
      "job: 99\n",
      "100\n",
      "job: 0\n",
      "job: 1\n",
      "job: 2\n",
      "job: 3\n",
      "job: 4\n",
      "job: 5\n",
      "job: 6\n",
      "job: 7\n",
      "job: 8\n",
      "job: 9\n",
      "job: 10\n",
      "job: 11\n",
      "job: 12\n",
      "job: 13\n",
      "job: 14\n",
      "job: 15\n",
      "job: 16\n",
      "job: 17\n",
      "job: 18\n",
      "job: 19\n",
      "job: 20\n",
      "job: 21\n",
      "job: 22\n",
      "job: 23\n",
      "job: 24\n",
      "job: 25\n",
      "job: 26\n",
      "job: 27\n",
      "job: 28\n",
      "job: 29\n",
      "job: 30\n",
      "job: 31\n",
      "job: 32\n",
      "job: 33\n",
      "job: 34\n",
      "job: 35\n",
      "job: 36\n",
      "job: 37\n",
      "job: 38\n",
      "job: 39\n",
      "job: 40\n",
      "job: 41\n",
      "job: 42\n",
      "job: 43\n",
      "job: 44\n",
      "job: 45\n",
      "job: 46\n",
      "job: 47\n",
      "job: 48\n",
      "job: 49\n",
      "job: 50\n",
      "job: 51\n",
      "job: 52\n",
      "job: 53\n",
      "job: 54\n",
      "job: 55\n",
      "job: 56\n",
      "job: 57\n",
      "job: 58\n",
      "job: 59\n",
      "job: 60\n",
      "job: 61\n",
      "job: 62\n",
      "job: 63\n",
      "job: 64\n",
      "job: 65\n",
      "job: 66\n",
      "job: 67\n",
      "job: 68\n",
      "job: 69\n",
      "job: 70\n",
      "job: 71\n",
      "job: 72\n",
      "job: 73\n",
      "job: 74\n",
      "job: 75\n",
      "job: 76\n",
      "job: 77\n",
      "job: 78\n",
      "job: 79\n",
      "job: 80\n",
      "job: 81\n",
      "job: 82\n",
      "job: 83\n",
      "job: 84\n",
      "job: 85\n",
      "job: 86\n",
      "job: 87\n",
      "job: 88\n",
      "job: 89\n",
      "job: 90\n",
      "job: 91\n",
      "job: 92\n",
      "job: 93\n",
      "job: 94\n",
      "job: 95\n",
      "job: 96\n",
      "job: 97\n",
      "job: 98\n",
      "job: 99\n",
      "100\n",
      "job: 0\n",
      "job: 1\n",
      "job: 2\n",
      "job: 3\n",
      "job: 4\n",
      "job: 5\n",
      "job: 6\n",
      "job: 7\n",
      "job: 8\n",
      "job: 9\n",
      "job: 10\n",
      "job: 11\n",
      "job: 12\n",
      "job: 13\n",
      "job: 14\n",
      "job: 15\n",
      "job: 16\n",
      "job: 17\n",
      "job: 18\n",
      "job: 19\n",
      "job: 20\n",
      "job: 21\n",
      "job: 22\n",
      "job: 23\n",
      "job: 24\n",
      "job: 25\n",
      "job: 26\n",
      "job: 27\n",
      "job: 28\n",
      "job: 29\n",
      "job: 30\n",
      "job: 31\n",
      "job: 32\n",
      "job: 33\n",
      "job: 34\n",
      "job: 35\n",
      "job: 36\n",
      "job: 37\n",
      "job: 38\n",
      "job: 39\n",
      "job: 40\n",
      "job: 41\n",
      "job: 42\n",
      "job: 43\n",
      "job: 44\n",
      "job: 45\n",
      "job: 46\n",
      "job: 47\n",
      "job: 48\n",
      "job: 49\n",
      "job: 50\n",
      "job: 51\n",
      "job: 52\n",
      "job: 53\n",
      "job: 54\n",
      "job: 55\n",
      "job: 56\n",
      "job: 57\n",
      "job: 58\n",
      "job: 59\n",
      "job: 60\n",
      "job: 61\n",
      "job: 62\n",
      "job: 63\n",
      "job: 64\n",
      "job: 65\n",
      "job: 66\n",
      "job: 67\n",
      "job: 68\n",
      "job: 69\n",
      "job: 70\n",
      "job: 71\n",
      "job: 72\n",
      "job: 73\n",
      "job: 74\n",
      "job: 75\n",
      "job: 76\n",
      "job: 77\n",
      "job: 78\n",
      "job: 79\n",
      "job: 80\n",
      "job: 81\n",
      "job: 82\n",
      "job: 83\n",
      "job: 84\n",
      "job: 85\n",
      "job: 86\n",
      "job: 87\n",
      "job: 88\n",
      "job: 89\n",
      "job: 90\n",
      "job: 91\n",
      "job: 92\n",
      "job: 93\n",
      "job: 94\n",
      "job: 95\n",
      "job: 96\n",
      "job: 97\n",
      "job: 98\n",
      "job: 99\n",
      "100\n",
      "\n"
     ]
    }
   ],
   "source": [
    "# Load data into dicts and plot \n",
    "titles = [\"L99G\", \"G99L\"]\n",
    "phases = ['complex', 'apo']\n",
    "directions = ['forward', 'reverse']\n",
    "d_input = {}\n",
    "dir_num = 0\n",
    "forward = 0\n",
    "reverse = 1\n",
    "for i in tqdm_notebook([forward, reverse]):\n",
    "    print(f\"dir: {i}\")\n",
    "    d_works = {\"complex\": {}, \"apo\":{}}\n",
    "    d_combined_works = {\"complex\": {}, \"apo\":{}}\n",
    "    for phase in phases:\n",
    "        for direction in directions:\n",
    "            all_arrays = []\n",
    "            for j in range(100):\n",
    "                print(f\"job: {j}\")\n",
    "                path = f\"/data/chodera/zhangi/perses_benchmark/myb/{dir_num}/{i}/{i}_{phase}_{j}_{direction}.npy\"\n",
    "                try:\n",
    "                    if os.path.exists(path):\n",
    "                        with open(path, 'rb') as f:\n",
    "                            array = np.load(f)\n",
    "                            all_arrays.append(array)\n",
    "                except:\n",
    "                    continue\n",
    "            print(len(all_arrays))\n",
    "            if all_arrays:\n",
    "                combined = np.concatenate(all_arrays)\n",
    "                d_combined_works[phase][direction] = combined\n",
    "                accumulated = np.array([cycle[-1] - cycle[0] for cycle in combined])\n",
    "                d_works[phase][direction] = accumulated\n",
    "    \n",
    "    d_input[i] = d_works\n",
    "    \n",
    "    # Plot\n",
    "#     complex_dg, complex_ddg = analyze(d_works['complex']['forward'], d_works['complex']['reverse'])\n",
    "#     apo_dg, apo_ddg = analyze(d_works['apo']['forward'], d_works['apo']['reverse'])\n",
    "#     plot(d_combined_works['complex']['forward'], d_combined_works['complex']['reverse'], complex_dg, complex_ddg, i, 'complex', os.path.dirname(path), titles[i-forward])\n",
    "#     plot(d_combined_works['apo']['forward'], d_combined_works['apo']['reverse'], apo_dg, apo_ddg, i, 'apo', os.path.dirname(path), titles[i-forward])\n",
    "        "
   ]
  },
  {
   "cell_type": "code",
   "execution_count": 4,
   "metadata": {},
   "outputs": [
    {
     "data": {
      "application/vnd.jupyter.widget-view+json": {
       "model_id": "4c139fdcde1a4a5eb3f98e4f5b79c4d5",
       "version_major": 2,
       "version_minor": 0
      },
      "text/plain": [
       "HBox(children=(HTML(value=''), FloatProgress(value=0.0, max=10000.0), HTML(value='')))"
      ]
     },
     "metadata": {},
     "output_type": "display_data"
    },
    {
     "name": "stdout",
     "output_type": "stream",
     "text": [
      "\n"
     ]
    },
    {
     "data": {
      "application/vnd.jupyter.widget-view+json": {
       "model_id": "8160a9bc22aa40549b4ade9a882b19c1",
       "version_major": 2,
       "version_minor": 0
      },
      "text/plain": [
       "HBox(children=(HTML(value=''), FloatProgress(value=0.0, max=10000.0), HTML(value='')))"
      ]
     },
     "metadata": {},
     "output_type": "display_data"
    },
    {
     "name": "stdout",
     "output_type": "stream",
     "text": [
      "\n"
     ]
    }
   ],
   "source": [
    "# Bootstrap works\n",
    "N_bootstraps = 10000\n",
    "phases = ['complex', 'apo']\n",
    "directions = ['forward', 'reverse']\n",
    "dgs_phase = {}\n",
    "ddgs = {}\n",
    "for i in [forward, reverse]:\n",
    "    dgs_phase_all = []\n",
    "    ddgs_all = []\n",
    "    for _ in tqdm_notebook(range(N_bootstraps)):\n",
    "        # Initialize data structure for works\n",
    "        d_works = {\"complex\": {\"forward\":{}, \"reverse\":{}}, \"apo\":{\"forward\":{}, \"reverse\":{}}}\n",
    "\n",
    "        # Save subsampled works\n",
    "        for phase in phases:\n",
    "            for direction in directions:\n",
    "                work_array = np.array(d_input[i][phase][direction])\n",
    "                num_samples = work_array.shape[0]\n",
    "                subsample_indices = np.random.choice(range(num_samples), num_samples)\n",
    "                d_works[phase][direction] = work_array[subsample_indices]\n",
    "        d_dgs_phase, binding_dg = analyze_bootstrap(d_works)\n",
    "        dgs_phase_all.append(d_dgs_phase)\n",
    "        ddgs_all.append(binding_dg)\n",
    "    dgs_phase[i] = dgs_phase_all\n",
    "    ddgs[i] = ddgs_all\n",
    "    \n",
    "    \n"
   ]
  },
  {
   "cell_type": "code",
   "execution_count": 5,
   "metadata": {},
   "outputs": [
    {
     "data": {
      "text/plain": [
       "<matplotlib.legend.Legend at 0x2b400dea2910>"
      ]
     },
     "execution_count": 5,
     "metadata": {},
     "output_type": "execute_result"
    },
    {
     "data": {
      "image/png": "[encoded data removed]",
      "text/plain": [
       "<Figure size 432x288 with 1 Axes>"
      ]
     },
     "metadata": {
      "needs_background": "light"
     },
     "output_type": "display_data"
    }
   ],
   "source": [
    "# Plot ddgs\n",
    "sns.distplot(np.array(ddgs[forward])*KT_KCALMOL, rug=True, label=titles[0])\n",
    "sns.distplot(np.array(ddgs[reverse])*-KT_KCALMOL, rug=True, label=titles[1])\n",
    "plt.xlabel(\"binding ddg (kcal/mol)\")\n",
    "plt.legend()"
   ]
  },
  {
   "cell_type": "code",
   "execution_count": 6,
   "metadata": {},
   "outputs": [],
   "source": [
    "forward_ddg = np.mean(ddgs[forward])\n",
    "forward_ci = np.percentile(ddgs[forward], 2.5), np.percentile(ddgs[forward], 97.5)\n",
    "reverse_ddg = np.mean(ddgs[reverse])\n",
    "reverse_ci = np.percentile(ddgs[reverse], 2.5), np.percentile(ddgs[reverse], 97.5)\n",
    "negative_reverse_ci = sorted(np.array(reverse_ci)*-1)\n",
    "discrepancy = tuple(np.array(forward_ci) - np.array(negative_reverse_ci))\n",
    "output_kt = [forward_ddg, forward_ci, reverse_ddg, reverse_ci, discrepancy]\n",
    "output_kcalmol = [round(forward_ddg*KT_KCALMOL, 2), tuple([round(val, 2)for val in np.array(forward_ci)*KT_KCALMOL]), round(reverse_ddg*KT_KCALMOL, 2), tuple([round(val, 2) for val in np.array(reverse_ci)*KT_KCALMOL]), tuple([round(val, 2) for val in np.array(discrepancy)*KT_KCALMOL])]"
   ]
  },
  {
   "cell_type": "code",
   "execution_count": 7,
   "metadata": {},
   "outputs": [
    {
     "data": {
      "text/plain": [
       "[6.49, (6.04, 6.92), -4.63, (-5.31, -3.91), (2.13, 1.61)]"
      ]
     },
     "execution_count": 7,
     "metadata": {},
     "output_type": "execute_result"
    }
   ],
   "source": [
    "output_kcalmol"
   ]
  },
  {
   "cell_type": "code",
   "execution_count": 8,
   "metadata": {},
   "outputs": [],
   "source": [
    "pd.DataFrame([output_kcalmol]).to_csv(f\"/data/chodera/zhangi/perses_benchmark/neq/{dir_num}/{forward}/analysis_{titles[0]}_{titles[1]}.csv\")"
   ]
  },
  {
   "cell_type": "code",
   "execution_count": 9,
   "metadata": {},
   "outputs": [],
   "source": [
    "with open(f\"/data/chodera/zhangi/perses_benchmark/neq/{dir_num}/{forward}/dgs_phase.pickle\", \"wb\") as f:\n",
    "    pickle.dump(dgs_phase, f)\n",
    "with open(f\"/data/chodera/zhangi/perses_benchmark/neq/{dir_num}/{forward}/ddgs.pickle\", \"wb\") as f:\n",
    "    pickle.dump(ddgs, f)"
   ]
  },
  {
   "cell_type": "markdown",
   "metadata": {},
   "source": [
    "## Plot all ddgs"
   ]
  },
  {
   "cell_type": "code",
   "execution_count": 75,
   "metadata": {},
   "outputs": [],
   "source": [
    "# title_pairs = [[\"T42A\", \"A42T\"], [\"Y29A\", \"A29Y\"], [\"W38F\", \"F38W\"], [\"W44F\", \"F44W\"], [\"Y29F\", \"F29Y\"]]\n",
    "title_pairs = [[\"T42A\", \"A42T\"], [\"Y29A\", \"A29Y\"], [\"W44F\", \"F44W\"], [\"Y29F\", \"F29Y\"]]\n",
    "dir_num = 13\n",
    "# subdirs = [6, 40, 42, 44, 46]\n",
    "subdirs = [6, 40, 44, 46]\n",
    "to_plot = np.zeros(shape=(len(np.array(title_pairs).flatten()), 3))\n",
    "for i, subdir in enumerate(subdirs):\n",
    "    with open(f\"/data/chodera/zhangi/perses_benchmark/neq/{dir_num}/{subdir}/ddgs.pickle\", \"rb\") as f:\n",
    "        ddgs = pickle.load(f)\n",
    "        to_plot[i*2] = np.array([np.mean(ddgs[subdir])*KT_KCALMOL, np.mean(ddgs[subdir])*KT_KCALMOL - np.percentile(ddgs[subdir], 2.5)*KT_KCALMOL , np.percentile(ddgs[subdir], 97.5)*KT_KCALMOL - np.mean(ddgs[subdir])*KT_KCALMOL])\n",
    "        to_plot[(i*2)+1] = np.array([np.mean(ddgs[subdir+1])*-KT_KCALMOL, np.mean(ddgs[subdir+1])*KT_KCALMOL*-1 - np.percentile(ddgs[subdir+1], 2.5)*-KT_KCALMOL, np.percentile(ddgs[subdir+1], 97.5)*-KT_KCALMOL - np.mean(ddgs[subdir+1])*KT_KCALMOL*-1]) # take the negative of these so they match the forward transform values"
   ]
  },
  {
   "cell_type": "code",
   "execution_count": 92,
   "metadata": {},
   "outputs": [
    {
     "data": {
      "image/png": "[encoded data removed]",
      "text/plain": [
       "<Figure size 432x288 with 1 Axes>"
      ]
     },
     "metadata": {
      "needs_background": "light"
     },
     "output_type": "display_data"
    }
   ],
   "source": [
    "plt.errorbar(list(range(to_plot.shape[0])), to_plot[:,0], yerr=np.transpose(to_plot[:,1:]), ls='none', marker='o', label='prediction')\n",
    "# exp = [1.8, 3.4, 1.6, 0.0, -0.1]\n",
    "exp = [1.8, 3.4, 0.0, -0.1]\n",
    "plt.plot(list(range(0, to_plot.shape[0], 2)), exp, ls='none', marker='o', label='experiment')\n",
    "plt.ylabel(\"binding ddg (kcal/mol)\")\n",
    "plt.xlabel(\"transformation\")\n",
    "plt.xticks(range(to_plot.shape[0]), np.array(title_pairs).flatten())\n",
    "plt.legend()\n",
    "plt.savefig(f\"/data/chodera/zhangi/perses_benchmark/neq/{dir_num}/ddg_vs_transform_with_cis.png\", dpi=400)"
   ]
  },
  {
   "cell_type": "markdown",
   "metadata": {},
   "source": [
    "## Compute phase discrepancies"
   ]
  },
  {
   "cell_type": "code",
   "execution_count": 29,
   "metadata": {},
   "outputs": [],
   "source": [
    "dir_num = 8\n",
    "forward = 31\n",
    "reverse = 32\n",
    "titles= [\"T42A\", \"A42T\"]\n",
    "with open(f\"/data/chodera/zhangi/perses_benchmark/neq/{dir_num}/{forward}/dgs_phase.pickle\", \"rb\") as f:\n",
    "    dgs_phase = pickle.load(f)"
   ]
  },
  {
   "cell_type": "code",
   "execution_count": 32,
   "metadata": {},
   "outputs": [
    {
     "data": {
      "text/plain": [
       "<Figure size 432x288 with 0 Axes>"
      ]
     },
     "metadata": {},
     "output_type": "display_data"
    }
   ],
   "source": [
    "phases = ['apo', 'complex']\n",
    "outputs_all = []\n",
    "for phase in phases:\n",
    "    forward_dgs = [d[phase][0] for d in dgs_phase[forward]]\n",
    "    forward_dg = np.mean(forward_dgs)\n",
    "    forward_ci = np.percentile(forward_dgs, 2.5), np.percentile(forward_dgs, 97.5)\n",
    "    reverse_dgs = [d[phase][0] for d in dgs_phase[reverse]]\n",
    "    reverse_dg = np.mean(reverse_dgs)\n",
    "    reverse_ci = np.percentile(reverse_dgs, 2.5), np.percentile(reverse_dgs, 97.5)\n",
    "    negative_reverse_ci = sorted(np.array(reverse_ci)*-1)\n",
    "    discrepancy = tuple(np.array(forward_ci) - np.array(negative_reverse_ci))\n",
    "    output_kt = [forward_dg, forward_ci, reverse_dg, reverse_ci, discrepancy]\n",
    "    output_kcalmol = [round(forward_dg*KT_KCALMOL, 2), tuple([round(val, 2)for val in np.array(forward_ci)*KT_KCALMOL]), round(reverse_dg*KT_KCALMOL, 2), tuple([round(val, 2) for val in np.array(reverse_ci)*KT_KCALMOL]), tuple([round(val, 2) for val in np.array(discrepancy)*KT_KCALMOL])]\n",
    "    outputs_all.append(output_kcalmol)\n",
    "    \n",
    "    # Plot ddgs\n",
    "    sns.distplot(np.array(forward_dgs)*KT_KCALMOL, rug=True, label=f\"{titles[0]} {phase}\")\n",
    "    sns.distplot(np.array(reverse_dgs)*-KT_KCALMOL, rug=True, label=f\"-({titles[1]} {phase})\")\n",
    "    plt.legend()\n",
    "    plt.xlabel(\"dg (kcal/mol)\")\n",
    "    plt.savefig(f\"/data/chodera/zhangi/perses_benchmark/neq/{dir_num}/{forward}/analysis_{titles[0]}_{titles[1]}_{phase}.png\", dpi=400)\n",
    "    plt.clf()"
   ]
  },
  {
   "cell_type": "code",
   "execution_count": 14,
   "metadata": {},
   "outputs": [],
   "source": [
    "pd.DataFrame(outputs_all).to_csv(f\"/data/chodera/zhangi/perses_benchmark/neq/{dir_num}/{forward}/analysis_{titles[0]}_{titles[1]}_phases.csv\")"
   ]
  },
  {
   "cell_type": "markdown",
   "metadata": {},
   "source": [
    "## Pull snapshots from annealing T42A"
   ]
  },
  {
   "cell_type": "code",
   "execution_count": 1,
   "metadata": {},
   "outputs": [],
   "source": [
    "import math\n",
    "from simtk import unit\n",
    "import os\n",
    "import tempfile\n",
    "import pickle\n",
    "import mdtraj as md\n",
    "import numpy as np\n",
    "from simtk.unit.quantity import Quantity\n",
    "import logging\n",
    "\n",
    "# Set up logger\n",
    "_logger = logging.getLogger()\n",
    "_logger.setLevel(logging.INFO)\n",
    "\n",
    "from matplotlib import pyplot as plt\n",
    "from simtk.openmm import app\n",
    "from tqdm import tqdm\n",
    "import argparse\n",
    "import random\n",
    "from simtk.openmm.app import Modeller\n",
    "import seaborn as sns\n"
   ]
  },
  {
   "cell_type": "code",
   "execution_count": 8,
   "metadata": {},
   "outputs": [],
   "source": [
    "# Get dihedrals\n",
    "def get_dihedrals(i, phase, outdir, htf, dihedral_indices_new, dihedral_indices_old):\n",
    "    # Get topology with solute only\n",
    "    modeller = Modeller(htf._topology_proposal.old_topology, htf.old_positions(htf.hybrid_positions))\n",
    "    modeller.deleteWater()\n",
    "    old_top = md.Topology.from_openmm(modeller.topology)\n",
    "    \n",
    "    # Get last positions from eq positions of each cycle (positions are solute only)\n",
    "    from tqdm import tqdm\n",
    "    all_pos_forward = []\n",
    "    all_pos_reverse = []\n",
    "    for j in tqdm(range(100)):\n",
    "        try:\n",
    "            with open(os.path.join(outdir, f\"{i}_{phase}_{j}_forward_neq_old.npy\"), \"rb\") as f:\n",
    "                all_pos_forward.append(np.load(f)[0])\n",
    "        except FileNotFoundError:\n",
    "            pass\n",
    "        try:\n",
    "            with open(os.path.join(outdir, f\"{i}_{phase}_{j}_reverse_neq_old.npy\"), \"rb\") as f:\n",
    "                all_pos_reverse.append(np.load(f)[-1])\n",
    "        except FileNotFoundError:\n",
    "            pass\n",
    "    print(f\"new files found: {len(all_pos_forward)}\")\n",
    "    \n",
    "    # Compute dihedrals\n",
    "    traj = md.Trajectory(np.array(all_pos_forward), old_top)\n",
    "    dihedrals_forward = md.compute_dihedrals(traj, np.array([dihedral_indices_old]))\n",
    "    traj = md.Trajectory(np.array(all_pos_reverse), old_top)\n",
    "    dihedrals_reverse = md.compute_dihedrals(traj, np.array([dihedral_indices_old]))\n",
    "    \n",
    "    return dihedrals_forward, dihedrals_reverse"
   ]
  },
  {
   "cell_type": "markdown",
   "metadata": {},
   "source": [
    "#### Get dihedrals for apo"
   ]
  },
  {
   "cell_type": "code",
   "execution_count": 3,
   "metadata": {},
   "outputs": [],
   "source": [
    "outdir = \"/data/chodera/zhangi/perses_benchmark/neq/8/31/\"\n",
    "phase = \"apo\"\n",
    "i = os.path.basename(os.path.dirname(outdir))\n"
   ]
  },
  {
   "cell_type": "code",
   "execution_count": 4,
   "metadata": {},
   "outputs": [],
   "source": [
    "with open(os.path.join(outdir, f\"{i}_{phase}.pickle\"), 'rb') as f:\n",
    "    htf = pickle.load(f)"
   ]
  },
  {
   "cell_type": "code",
   "execution_count": 9,
   "metadata": {},
   "outputs": [
    {
     "name": "stderr",
     "output_type": "stream",
     "text": [
      "100%|██████████| 100/100 [00:02<00:00, 37.62it/s]"
     ]
    },
    {
     "name": "stdout",
     "output_type": "stream",
     "text": [
      "new files found: 100\n"
     ]
    },
    {
     "name": "stderr",
     "output_type": "stream",
     "text": [
      "\n"
     ]
    }
   ],
   "source": [
    "indices_old = [669, 670, 673, 674]\n",
    "indices_new = [669, 670, 673, 676]\n",
    "dihedrals_forward_apo, dihedrals_reverse_apo = get_dihedrals(i, phase, outdir, htf, indices_new, indices_old)                                       \n"
   ]
  },
  {
   "cell_type": "markdown",
   "metadata": {},
   "source": [
    "#### Get dihedrals for complex"
   ]
  },
  {
   "cell_type": "code",
   "execution_count": 10,
   "metadata": {},
   "outputs": [],
   "source": [
    "outdir = \"/data/chodera/zhangi/perses_benchmark/neq/8/31/\"\n",
    "phase = \"complex\"\n",
    "i = os.path.basename(os.path.dirname(outdir))\n"
   ]
  },
  {
   "cell_type": "code",
   "execution_count": 11,
   "metadata": {},
   "outputs": [],
   "source": [
    "with open(os.path.join(outdir, f\"{i}_{phase}.pickle\"), 'rb') as f:\n",
    "    htf = pickle.load(f)"
   ]
  },
  {
   "cell_type": "code",
   "execution_count": 12,
   "metadata": {
    "scrolled": true
   },
   "outputs": [
    {
     "name": "stderr",
     "output_type": "stream",
     "text": [
      "100%|██████████| 100/100 [00:19<00:00,  5.14it/s]"
     ]
    },
    {
     "name": "stdout",
     "output_type": "stream",
     "text": [
      "new files found: 83\n"
     ]
    },
    {
     "name": "stderr",
     "output_type": "stream",
     "text": [
      "\n"
     ]
    }
   ],
   "source": [
    "indices_old = [669, 670, 673, 674]\n",
    "indices_new = [669, 670, 673, 676]\n",
    "dihedrals_forward_complex, dihedrals_reverse_complex = get_dihedrals(i, phase, outdir, htf, indices_new, indices_old)                                       \n"
   ]
  },
  {
   "cell_type": "code",
   "execution_count": 13,
   "metadata": {},
   "outputs": [],
   "source": [
    "# Define indicator function\n",
    "def get_state(dihedral_angle):\n",
    "    if dihedral_angle > 2 or dihedral_angle < -2: # angle is -3 or +3\n",
    "        return 0\n",
    "    elif dihedral_angle < 0 and dihedral_angle > -2: # angle is -1\n",
    "        return 1\n",
    "    elif dihedral_angle > 0 and dihedral_angle < 2: # angle is 1\n",
    "        return 2"
   ]
  },
  {
   "cell_type": "code",
   "execution_count": 14,
   "metadata": {},
   "outputs": [],
   "source": [
    "# Create list of states for each work traj\n",
    "states_forward_apo = [get_state(angle) for angle in dihedrals_forward_apo]\n",
    "states_reverse_apo = [get_state(angle) for angle in dihedrals_reverse_apo]\n",
    "\n",
    "states_forward_complex = [get_state(angle) for angle in dihedrals_forward_complex]\n",
    "states_reverse_complex = [get_state(angle) for angle in dihedrals_reverse_complex]"
   ]
  },
  {
   "cell_type": "code",
   "execution_count": 15,
   "metadata": {
    "scrolled": true
   },
   "outputs": [
    {
     "name": "stderr",
     "output_type": "stream",
     "text": [
      "/home/zhangi/miniconda3/envs/perses-sims-oct2020/lib/python3.7/site-packages/seaborn/distributions.py:2551: FutureWarning: `distplot` is a deprecated function and will be removed in a future version. Please adapt your code to use either `displot` (a figure-level function with similar flexibility) or `histplot` (an axes-level function for histograms).\n",
      "  warnings.warn(msg, FutureWarning)\n",
      "/home/zhangi/miniconda3/envs/perses-sims-oct2020/lib/python3.7/site-packages/seaborn/distributions.py:2055: FutureWarning: The `axis` variable is no longer used and will be removed. Instead, assign variables directly to `x` or `y`.\n",
      "  warnings.warn(msg, FutureWarning)\n",
      "/home/zhangi/miniconda3/envs/perses-sims-oct2020/lib/python3.7/site-packages/seaborn/distributions.py:2551: FutureWarning: `distplot` is a deprecated function and will be removed in a future version. Please adapt your code to use either `displot` (a figure-level function with similar flexibility) or `histplot` (an axes-level function for histograms).\n",
      "  warnings.warn(msg, FutureWarning)\n",
      "/home/zhangi/miniconda3/envs/perses-sims-oct2020/lib/python3.7/site-packages/seaborn/distributions.py:2055: FutureWarning: The `axis` variable is no longer used and will be removed. Instead, assign variables directly to `x` or `y`.\n",
      "  warnings.warn(msg, FutureWarning)\n"
     ]
    },
    {
     "data": {
      "text/plain": [
       "<matplotlib.legend.Legend at 0x2ab6af316f10>"
      ]
     },
     "execution_count": 15,
     "metadata": {},
     "output_type": "execute_result"
    },
    {
     "name": "stderr",
     "output_type": "stream",
     "text": [
      "DEBUG:matplotlib.font_manager:findfont: Matching sans\\-serif:style=normal:variant=normal:weight=normal:stretch=normal:size=10.0.\n",
      "DEBUG:matplotlib.font_manager:findfont: score(<Font 'cmb10' (cmb10.ttf) normal normal 400 normal>) = 10.05\n",
      "DEBUG:matplotlib.font_manager:findfont: score(<Font 'DejaVu Sans Mono' (DejaVuSansMono-Oblique.ttf) oblique normal 400 normal>) = 11.05\n",
      "DEBUG:matplotlib.font_manager:findfont: score(<Font 'STIXGeneral' (STIXGeneral.ttf) normal normal 400 normal>) = 10.05\n",
      "DEBUG:matplotlib.font_manager:findfont: score(<Font 'cmtt10' (cmtt10.ttf) normal normal 400 normal>) = 10.05\n",
      "DEBUG:matplotlib.font_manager:findfont: score(<Font 'DejaVu Sans Display' (DejaVuSansDisplay.ttf) normal normal 400 normal>) = 10.05\n",
      "DEBUG:matplotlib.font_manager:findfont: score(<Font 'STIXSizeFourSym' (STIXSizFourSymReg.ttf) normal normal 400 normal>) = 10.05\n",
      "DEBUG:matplotlib.font_manager:findfont: score(<Font 'cmss10' (cmss10.ttf) normal normal 400 normal>) = 10.05\n",
      "DEBUG:matplotlib.font_manager:findfont: score(<Font 'cmsy10' (cmsy10.ttf) normal normal 400 normal>) = 10.05\n",
      "DEBUG:matplotlib.font_manager:findfont: score(<Font 'DejaVu Serif' (DejaVuSerif.ttf) normal normal 400 normal>) = 10.05\n",
      "DEBUG:matplotlib.font_manager:findfont: score(<Font 'STIXSizeFourSym' (STIXSizFourSymBol.ttf) normal normal 700 normal>) = 10.335\n",
      "DEBUG:matplotlib.font_manager:findfont: score(<Font 'DejaVu Serif Display' (DejaVuSerifDisplay.ttf) normal normal 400 normal>) = 10.05\n",
      "DEBUG:matplotlib.font_manager:findfont: score(<Font 'STIXSizeThreeSym' (STIXSizThreeSymReg.ttf) normal normal 400 normal>) = 10.05\n",
      "DEBUG:matplotlib.font_manager:findfont: score(<Font 'STIXGeneral' (STIXGeneralItalic.ttf) italic normal 400 normal>) = 11.05\n",
      "DEBUG:matplotlib.font_manager:findfont: score(<Font 'STIXSizeOneSym' (STIXSizOneSymReg.ttf) normal normal 400 normal>) = 10.05\n",
      "DEBUG:matplotlib.font_manager:findfont: score(<Font 'DejaVu Sans Mono' (DejaVuSansMono-BoldOblique.ttf) oblique normal 700 normal>) = 11.335\n",
      "DEBUG:matplotlib.font_manager:findfont: score(<Font 'DejaVu Sans' (DejaVuSans-Oblique.ttf) oblique normal 400 normal>) = 1.05\n",
      "DEBUG:matplotlib.font_manager:findfont: score(<Font 'DejaVu Sans' (DejaVuSans-BoldOblique.ttf) oblique normal 700 normal>) = 1.335\n",
      "DEBUG:matplotlib.font_manager:findfont: score(<Font 'DejaVu Sans Mono' (DejaVuSansMono.ttf) normal normal 400 normal>) = 10.05\n",
      "DEBUG:matplotlib.font_manager:findfont: score(<Font 'STIXSizeTwoSym' (STIXSizTwoSymReg.ttf) normal normal 400 normal>) = 10.05\n",
      "DEBUG:matplotlib.font_manager:findfont: score(<Font 'cmr10' (cmr10.ttf) normal normal 400 normal>) = 10.05\n",
      "DEBUG:matplotlib.font_manager:findfont: score(<Font 'STIXNonUnicode' (STIXNonUniIta.ttf) italic normal 400 normal>) = 11.05\n",
      "DEBUG:matplotlib.font_manager:findfont: score(<Font 'STIXGeneral' (STIXGeneralBolIta.ttf) italic normal 700 normal>) = 11.335\n",
      "DEBUG:matplotlib.font_manager:findfont: score(<Font 'DejaVu Serif' (DejaVuSerif-Bold.ttf) normal normal 700 normal>) = 10.335\n",
      "DEBUG:matplotlib.font_manager:findfont: score(<Font 'DejaVu Serif' (DejaVuSerif-Italic.ttf) italic normal 400 normal>) = 11.05\n",
      "DEBUG:matplotlib.font_manager:findfont: score(<Font 'STIXNonUnicode' (STIXNonUniBolIta.ttf) italic normal 700 normal>) = 11.335\n",
      "DEBUG:matplotlib.font_manager:findfont: score(<Font 'STIXSizeTwoSym' (STIXSizTwoSymBol.ttf) normal normal 700 normal>) = 10.335\n",
      "DEBUG:matplotlib.font_manager:findfont: score(<Font 'DejaVu Serif' (DejaVuSerif-BoldItalic.ttf) italic normal 700 normal>) = 11.335\n",
      "DEBUG:matplotlib.font_manager:findfont: score(<Font 'STIXNonUnicode' (STIXNonUni.ttf) normal normal 400 normal>) = 10.05\n",
      "DEBUG:matplotlib.font_manager:findfont: score(<Font 'DejaVu Sans' (DejaVuSans-Bold.ttf) normal normal 700 normal>) = 0.33499999999999996\n",
      "DEBUG:matplotlib.font_manager:findfont: score(<Font 'STIXSizeOneSym' (STIXSizOneSymBol.ttf) normal normal 700 normal>) = 10.335\n",
      "DEBUG:matplotlib.font_manager:findfont: score(<Font 'DejaVu Sans Mono' (DejaVuSansMono-Bold.ttf) normal normal 700 normal>) = 10.335\n",
      "DEBUG:matplotlib.font_manager:findfont: score(<Font 'STIXSizeThreeSym' (STIXSizThreeSymBol.ttf) normal normal 700 normal>) = 10.335\n",
      "DEBUG:matplotlib.font_manager:findfont: score(<Font 'cmmi10' (cmmi10.ttf) normal normal 400 normal>) = 10.05\n",
      "DEBUG:matplotlib.font_manager:findfont: score(<Font 'STIXSizeFiveSym' (STIXSizFiveSymReg.ttf) normal normal 400 normal>) = 10.05\n",
      "DEBUG:matplotlib.font_manager:findfont: score(<Font 'DejaVu Sans' (DejaVuSans.ttf) normal normal 400 normal>) = 0.05\n",
      "DEBUG:matplotlib.font_manager:findfont: score(<Font 'STIXGeneral' (STIXGeneralBol.ttf) normal normal 700 normal>) = 10.335\n",
      "DEBUG:matplotlib.font_manager:findfont: score(<Font 'cmex10' (cmex10.ttf) normal normal 400 normal>) = 10.05\n",
      "DEBUG:matplotlib.font_manager:findfont: score(<Font 'STIXNonUnicode' (STIXNonUniBol.ttf) normal normal 700 normal>) = 10.335\n",
      "DEBUG:matplotlib.font_manager:findfont: score(<Font 'DejaVu Sans Mono' (DejaVuSansMono-Oblique.ttf) oblique normal 400 normal>) = 11.05\n",
      "DEBUG:matplotlib.font_manager:findfont: score(<Font 'DejaVu Sans Mono' (DejaVuSansMono-Bold.ttf) normal normal 700 normal>) = 10.335\n",
      "DEBUG:matplotlib.font_manager:findfont: score(<Font 'DejaVu Sans' (DejaVuSans-ExtraLight.ttf) normal normal 200 normal>) = 0.24\n",
      "DEBUG:matplotlib.font_manager:findfont: score(<Font 'STIX' (STIX-BoldItalic.otf) italic normal 700 normal>) = 11.335\n",
      "DEBUG:matplotlib.font_manager:findfont: score(<Font 'DejaVu Sans Mono' (DejaVuSansMono-BoldOblique.ttf) oblique normal 700 normal>) = 11.335\n",
      "DEBUG:matplotlib.font_manager:findfont: score(<Font 'Liberation Sans' (LiberationSans-BoldItalic.ttf) italic normal 700 normal>) = 11.335\n",
      "DEBUG:matplotlib.font_manager:findfont: score(<Font 'DejaVu Sans' (DejaVuSansCondensed.ttf) normal normal 400 condensed>) = 0.25\n",
      "DEBUG:matplotlib.font_manager:findfont: score(<Font 'DejaVu Sans' (DejaVuSans-BoldOblique.ttf) oblique normal 700 normal>) = 1.335\n",
      "DEBUG:matplotlib.font_manager:findfont: score(<Font 'DejaVu Sans' (DejaVuSans.ttf) normal normal 400 normal>) = 0.05\n",
      "DEBUG:matplotlib.font_manager:findfont: score(<Font 'Liberation Sans' (LiberationSans-Regular.ttf) normal normal 400 normal>) = 10.05\n",
      "DEBUG:matplotlib.font_manager:findfont: score(<Font 'STIX' (STIX-Regular.otf) normal normal 400 normal>) = 10.05\n",
      "DEBUG:matplotlib.font_manager:findfont: score(<Font 'Liberation Sans' (LiberationSans-Bold.ttf) normal normal 700 normal>) = 10.335\n",
      "DEBUG:matplotlib.font_manager:findfont: score(<Font 'STIX' (STIX-Italic.otf) italic normal 400 normal>) = 11.05\n",
      "DEBUG:matplotlib.font_manager:findfont: score(<Font 'DejaVu Sans' (DejaVuSans-Bold.ttf) normal normal 700 normal>) = 0.33499999999999996\n",
      "DEBUG:matplotlib.font_manager:findfont: score(<Font 'DejaVu Sans' (DejaVuSansCondensed-BoldOblique.ttf) oblique normal 700 condensed>) = 1.535\n",
      "DEBUG:matplotlib.font_manager:findfont: score(<Font 'DejaVu Sans' (DejaVuSansCondensed-Bold.ttf) normal normal 700 condensed>) = 0.5349999999999999\n",
      "DEBUG:matplotlib.font_manager:findfont: score(<Font 'DejaVu Sans' (DejaVuSansCondensed-Oblique.ttf) oblique normal 400 condensed>) = 1.25\n",
      "DEBUG:matplotlib.font_manager:findfont: score(<Font 'STIX' (STIX-Bold.otf) normal normal 700 normal>) = 10.335\n",
      "DEBUG:matplotlib.font_manager:findfont: score(<Font 'DejaVu Sans Mono' (DejaVuSansMono.ttf) normal normal 400 normal>) = 10.05\n",
      "DEBUG:matplotlib.font_manager:findfont: score(<Font 'DejaVu Sans' (DejaVuSans-Oblique.ttf) oblique normal 400 normal>) = 1.05\n",
      "DEBUG:matplotlib.font_manager:findfont: score(<Font 'Liberation Sans' (LiberationSans-Italic.ttf) italic normal 400 normal>) = 11.05\n",
      "DEBUG:matplotlib.font_manager:findfont: Matching sans\\-serif:style=normal:variant=normal:weight=normal:stretch=normal:size=10.0 to DejaVu Sans ('/home/zhangi/miniconda3/envs/perses-sims-oct2020/lib/python3.7/site-packages/matplotlib/mpl-data/fonts/ttf/DejaVuSans.ttf') with score of 0.050000.\n"
     ]
    },
    {
     "data": {
      "image/png": "[encoded data removed]",
      "text/plain": [
       "<Figure size 432x288 with 1 Axes>"
      ]
     },
     "metadata": {
      "needs_background": "light"
     },
     "output_type": "display_data"
    }
   ],
   "source": [
    "sns.distplot(states_forward_apo, label=\"forward apo\", rug=True, kde=False)\n",
    "sns.distplot(states_reverse_apo, label=\"reverse apo\", rug=True, kde=False)\n",
    "# sns.distplot(states_forward_complex, label=\"forward complex\", rug=True, kde=False)\n",
    "# sns.distplot(states_reverse_complex, label=\"reverse complex\", rug=True, kde=False)\n",
    "plt.legend()"
   ]
  },
  {
   "cell_type": "code",
   "execution_count": 16,
   "metadata": {},
   "outputs": [
    {
     "name": "stderr",
     "output_type": "stream",
     "text": [
      "/home/zhangi/miniconda3/envs/perses-sims-oct2020/lib/python3.7/site-packages/seaborn/distributions.py:2551: FutureWarning: `distplot` is a deprecated function and will be removed in a future version. Please adapt your code to use either `displot` (a figure-level function with similar flexibility) or `histplot` (an axes-level function for histograms).\n",
      "  warnings.warn(msg, FutureWarning)\n",
      "/home/zhangi/miniconda3/envs/perses-sims-oct2020/lib/python3.7/site-packages/seaborn/distributions.py:2055: FutureWarning: The `axis` variable is no longer used and will be removed. Instead, assign variables directly to `x` or `y`.\n",
      "  warnings.warn(msg, FutureWarning)\n",
      "/home/zhangi/miniconda3/envs/perses-sims-oct2020/lib/python3.7/site-packages/seaborn/distributions.py:2551: FutureWarning: `distplot` is a deprecated function and will be removed in a future version. Please adapt your code to use either `displot` (a figure-level function with similar flexibility) or `histplot` (an axes-level function for histograms).\n",
      "  warnings.warn(msg, FutureWarning)\n",
      "/home/zhangi/miniconda3/envs/perses-sims-oct2020/lib/python3.7/site-packages/seaborn/distributions.py:2055: FutureWarning: The `axis` variable is no longer used and will be removed. Instead, assign variables directly to `x` or `y`.\n",
      "  warnings.warn(msg, FutureWarning)\n"
     ]
    },
    {
     "data": {
      "text/plain": [
       "<matplotlib.legend.Legend at 0x2ab6af000f50>"
      ]
     },
     "execution_count": 16,
     "metadata": {},
     "output_type": "execute_result"
    },
    {
     "data": {
      "image/png": "[encoded data removed]",
      "text/plain": [
       "<Figure size 432x288 with 1 Axes>"
      ]
     },
     "metadata": {
      "needs_background": "light"
     },
     "output_type": "display_data"
    }
   ],
   "source": [
    "sns.distplot(states_forward_complex, label=\"forward complex\", rug=True, kde=False)\n",
    "sns.distplot(states_reverse_complex, label=\"reverse complex\", rug=True, kde=False)\n",
    "plt.legend()"
   ]
  },
  {
   "cell_type": "markdown",
   "metadata": {},
   "source": [
    "## Pull snapshots from annealing A42T"
   ]
  },
  {
   "cell_type": "code",
   "execution_count": 17,
   "metadata": {},
   "outputs": [],
   "source": [
    "import math\n",
    "from simtk import unit\n",
    "import os\n",
    "import tempfile\n",
    "import pickle\n",
    "import mdtraj as md\n",
    "import numpy as np\n",
    "from simtk.unit.quantity import Quantity\n",
    "import logging\n",
    "\n",
    "# Set up logger\n",
    "_logger = logging.getLogger()\n",
    "_logger.setLevel(logging.INFO)\n",
    "\n",
    "from matplotlib import pyplot as plt\n",
    "from simtk.openmm import app\n",
    "from tqdm import tqdm\n",
    "import argparse\n",
    "import random\n",
    "from simtk.openmm.app import Modeller\n",
    "import seaborn as sns\n"
   ]
  },
  {
   "cell_type": "code",
   "execution_count": 18,
   "metadata": {},
   "outputs": [],
   "source": [
    "# Get dihedrals\n",
    "def get_dihedrals(i, phase, outdir, htf, dihedral_indices_new, dihedral_indices_old):\n",
    "    # Get topology with solute only\n",
    "    modeller = Modeller(htf._topology_proposal.new_topology, htf.new_positions(htf.hybrid_positions))\n",
    "    modeller.deleteWater()\n",
    "    new_top = md.Topology.from_openmm(modeller.topology)\n",
    "    \n",
    "    # Get last positions from eq positions of each cycle (positions are solute only)\n",
    "    from tqdm import tqdm\n",
    "    all_pos_forward = []\n",
    "    all_pos_reverse = []\n",
    "    for j in tqdm(range(100)):\n",
    "        try:\n",
    "            with open(os.path.join(outdir, f\"{i}_{phase}_{j}_forward_neq_new.npy\"), \"rb\") as f:\n",
    "                all_pos_forward.append(np.load(f)[-1])\n",
    "        except FileNotFoundError:\n",
    "            pass\n",
    "        try:\n",
    "            with open(os.path.join(outdir, f\"{i}_{phase}_{j}_reverse_neq_new.npy\"), \"rb\") as f:\n",
    "                all_pos_reverse.append(np.load(f)[0])\n",
    "        except FileNotFoundError:\n",
    "            pass\n",
    "    print(f\"new files found: {len(all_pos_forward)}\")\n",
    "    \n",
    "    # Compute dihedrals\n",
    "    traj = md.Trajectory(np.array(all_pos_forward), new_top)\n",
    "    dihedrals_forward = md.compute_dihedrals(traj, np.array([dihedral_indices_new]))\n",
    "    traj = md.Trajectory(np.array(all_pos_reverse), new_top)\n",
    "    dihedrals_reverse = md.compute_dihedrals(traj, np.array([dihedral_indices_new]))\n",
    "    \n",
    "    return dihedrals_forward, dihedrals_reverse"
   ]
  },
  {
   "cell_type": "markdown",
   "metadata": {},
   "source": [
    "#### Get dihedrals for apo"
   ]
  },
  {
   "cell_type": "code",
   "execution_count": 19,
   "metadata": {},
   "outputs": [],
   "source": [
    "outdir = \"/data/chodera/zhangi/perses_benchmark/neq/8/32/\"\n",
    "phase = \"apo\"\n",
    "i = os.path.basename(os.path.dirname(outdir))\n"
   ]
  },
  {
   "cell_type": "code",
   "execution_count": 20,
   "metadata": {},
   "outputs": [],
   "source": [
    "with open(os.path.join(outdir, f\"{i}_{phase}.pickle\"), 'rb') as f:\n",
    "    htf = pickle.load(f)"
   ]
  },
  {
   "cell_type": "code",
   "execution_count": 21,
   "metadata": {
    "scrolled": true
   },
   "outputs": [
    {
     "name": "stderr",
     "output_type": "stream",
     "text": [
      "100%|██████████| 100/100 [00:15<00:00,  6.27it/s]\n"
     ]
    },
    {
     "name": "stdout",
     "output_type": "stream",
     "text": [
      "new files found: 100\n"
     ]
    }
   ],
   "source": [
    "indices_old = [669, 670, 673, 676]\n",
    "indices_new = [669, 670, 673, 681]\n",
    "dihedrals_forward_apo, dihedrals_reverse_apo = get_dihedrals(i, phase, outdir, htf, indices_new, indices_old)                                       \n"
   ]
  },
  {
   "cell_type": "markdown",
   "metadata": {},
   "source": [
    "#### Get dihedrals for complex"
   ]
  },
  {
   "cell_type": "code",
   "execution_count": 22,
   "metadata": {},
   "outputs": [],
   "source": [
    "outdir = \"/data/chodera/zhangi/perses_benchmark/neq/8/32/\"\n",
    "phase = \"complex\"\n",
    "i = os.path.basename(os.path.dirname(outdir))\n"
   ]
  },
  {
   "cell_type": "code",
   "execution_count": 23,
   "metadata": {},
   "outputs": [],
   "source": [
    "with open(os.path.join(outdir, f\"{i}_{phase}.pickle\"), 'rb') as f:\n",
    "    htf = pickle.load(f)"
   ]
  },
  {
   "cell_type": "code",
   "execution_count": 24,
   "metadata": {},
   "outputs": [
    {
     "name": "stderr",
     "output_type": "stream",
     "text": [
      "100%|██████████| 100/100 [00:19<00:00,  5.19it/s]"
     ]
    },
    {
     "name": "stdout",
     "output_type": "stream",
     "text": [
      "new files found: 86\n"
     ]
    },
    {
     "name": "stderr",
     "output_type": "stream",
     "text": [
      "\n"
     ]
    }
   ],
   "source": [
    "indices_old = [669, 670, 673, 676]\n",
    "indices_new = [669, 670, 673, 681]\n",
    "dihedrals_forward_complex, dihedrals_reverse_complex = get_dihedrals(i, phase, outdir, htf, indices_new, indices_old)                                       \n"
   ]
  },
  {
   "cell_type": "code",
   "execution_count": 25,
   "metadata": {},
   "outputs": [],
   "source": [
    "# Define indicator function\n",
    "def get_state(dihedral_angle):\n",
    "    if dihedral_angle > 2 or dihedral_angle < -2: # angle is -3 or +3\n",
    "        return 0\n",
    "    elif dihedral_angle < 0 and dihedral_angle > -2: # angle is -1\n",
    "        return 1\n",
    "    elif dihedral_angle > 0 and dihedral_angle < 2: # angle is 1\n",
    "        return 2"
   ]
  },
  {
   "cell_type": "code",
   "execution_count": 26,
   "metadata": {},
   "outputs": [],
   "source": [
    "# Create list of states for each work traj\n",
    "states_forward_apo = [get_state(angle) for angle in dihedrals_forward_apo]\n",
    "states_reverse_apo = [get_state(angle) for angle in dihedrals_reverse_apo]\n",
    "\n",
    "states_forward_complex = [get_state(angle) for angle in dihedrals_forward_complex]\n",
    "states_reverse_complex = [get_state(angle) for angle in dihedrals_reverse_complex]"
   ]
  },
  {
   "cell_type": "code",
   "execution_count": 27,
   "metadata": {},
   "outputs": [
    {
     "name": "stderr",
     "output_type": "stream",
     "text": [
      "/home/zhangi/miniconda3/envs/perses-sims-oct2020/lib/python3.7/site-packages/seaborn/distributions.py:2551: FutureWarning: `distplot` is a deprecated function and will be removed in a future version. Please adapt your code to use either `displot` (a figure-level function with similar flexibility) or `histplot` (an axes-level function for histograms).\n",
      "  warnings.warn(msg, FutureWarning)\n",
      "/home/zhangi/miniconda3/envs/perses-sims-oct2020/lib/python3.7/site-packages/seaborn/distributions.py:2055: FutureWarning: The `axis` variable is no longer used and will be removed. Instead, assign variables directly to `x` or `y`.\n",
      "  warnings.warn(msg, FutureWarning)\n",
      "/home/zhangi/miniconda3/envs/perses-sims-oct2020/lib/python3.7/site-packages/seaborn/distributions.py:2551: FutureWarning: `distplot` is a deprecated function and will be removed in a future version. Please adapt your code to use either `displot` (a figure-level function with similar flexibility) or `histplot` (an axes-level function for histograms).\n",
      "  warnings.warn(msg, FutureWarning)\n",
      "/home/zhangi/miniconda3/envs/perses-sims-oct2020/lib/python3.7/site-packages/seaborn/distributions.py:2055: FutureWarning: The `axis` variable is no longer used and will be removed. Instead, assign variables directly to `x` or `y`.\n",
      "  warnings.warn(msg, FutureWarning)\n"
     ]
    },
    {
     "data": {
      "text/plain": [
       "<matplotlib.legend.Legend at 0x2ab6b04c6910>"
      ]
     },
     "execution_count": 27,
     "metadata": {},
     "output_type": "execute_result"
    },
    {
     "data": {
      "image/png": "[encoded data removed]",
      "text/plain": [
       "<Figure size 432x288 with 1 Axes>"
      ]
     },
     "metadata": {
      "needs_background": "light"
     },
     "output_type": "display_data"
    }
   ],
   "source": [
    "sns.distplot(states_forward_apo, label=\"forward apo\", rug=True, kde=False)\n",
    "sns.distplot(states_reverse_apo, label=\"reverse apo\", rug=True, kde=False)\n",
    "# sns.distplot(states_forward_complex, label=\"forward complex\", rug=True, kde=False)\n",
    "# sns.distplot(states_reverse_complex, label=\"reverse complex\", rug=True, kde=False)\n",
    "plt.legend()"
   ]
  },
  {
   "cell_type": "code",
   "execution_count": 28,
   "metadata": {},
   "outputs": [
    {
     "name": "stderr",
     "output_type": "stream",
     "text": [
      "/home/zhangi/miniconda3/envs/perses-sims-oct2020/lib/python3.7/site-packages/seaborn/distributions.py:2551: FutureWarning: `distplot` is a deprecated function and will be removed in a future version. Please adapt your code to use either `displot` (a figure-level function with similar flexibility) or `histplot` (an axes-level function for histograms).\n",
      "  warnings.warn(msg, FutureWarning)\n",
      "/home/zhangi/miniconda3/envs/perses-sims-oct2020/lib/python3.7/site-packages/seaborn/distributions.py:2055: FutureWarning: The `axis` variable is no longer used and will be removed. Instead, assign variables directly to `x` or `y`.\n",
      "  warnings.warn(msg, FutureWarning)\n",
      "/home/zhangi/miniconda3/envs/perses-sims-oct2020/lib/python3.7/site-packages/seaborn/distributions.py:2551: FutureWarning: `distplot` is a deprecated function and will be removed in a future version. Please adapt your code to use either `displot` (a figure-level function with similar flexibility) or `histplot` (an axes-level function for histograms).\n",
      "  warnings.warn(msg, FutureWarning)\n",
      "/home/zhangi/miniconda3/envs/perses-sims-oct2020/lib/python3.7/site-packages/seaborn/distributions.py:2055: FutureWarning: The `axis` variable is no longer used and will be removed. Instead, assign variables directly to `x` or `y`.\n",
      "  warnings.warn(msg, FutureWarning)\n"
     ]
    },
    {
     "data": {
      "text/plain": [
       "<matplotlib.legend.Legend at 0x2ab6b1d1dd90>"
      ]
     },
     "execution_count": 28,
     "metadata": {},
     "output_type": "execute_result"
    },
    {
     "data": {
      "image/png": "[encoded data removed]",
      "text/plain": [
       "<Figure size 432x288 with 1 Axes>"
      ]
     },
     "metadata": {
      "needs_background": "light"
     },
     "output_type": "display_data"
    }
   ],
   "source": [
    "sns.distplot(states_forward_complex, label=\"forward complex\", rug=True, kde=False)\n",
    "sns.distplot(states_reverse_complex, label=\"reverse complex\", rug=True, kde=False)\n",
    "plt.legend()"
   ]
  },
  {
   "cell_type": "code",
   "execution_count": null,
   "metadata": {},
   "outputs": [],
   "source": []
  },
  {
   "cell_type": "code",
   "execution_count": null,
   "metadata": {},
   "outputs": [],
   "source": []
  }
 ],
 "metadata": {
  "kernelspec": {
   "display_name": "Python 3",
   "language": "python",
   "name": "python3"
  },
  "language_info": {
   "codemirror_mode": {
    "name": "ipython",
    "version": 3
   },
   "file_extension": ".py",
   "mimetype": "text/x-python",
   "name": "python",
   "nbconvert_exporter": "python",
   "pygments_lexer": "ipython3",
   "version": "3.7.8"
  }
 },
 "nbformat": 4,
 "nbformat_minor": 4
}
