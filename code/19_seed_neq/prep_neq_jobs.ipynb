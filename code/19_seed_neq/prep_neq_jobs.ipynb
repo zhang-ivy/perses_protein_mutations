{
 "cells": [
  {
   "cell_type": "code",
   "execution_count": 1,
   "metadata": {},
   "outputs": [],
   "source": [
    "import os\n",
    "import yaml\n",
    "\n"
   ]
  },
  {
   "cell_type": "code",
   "execution_count": 27,
   "metadata": {},
   "outputs": [
    {
     "name": "stderr",
     "output_type": "stream",
     "text": [
      "/home/zhangi/miniconda3/envs/perses-sims-oct2020/lib/python3.7/site-packages/ipykernel_launcher.py:3: YAMLLoadWarning: calling yaml.load() without Loader=... is deprecated, as the default Loader is unsafe. Please read https://msg.pyyaml.org/load for full details.\n",
      "  This is separate from the ipykernel package so we can avoid doing imports until\n"
     ]
    }
   ],
   "source": [
    "# Load in mutation parameters\n",
    "stream = open(\"../18_bnbs_rest/test.yaml\", 'r')\n",
    "dictionary = yaml.load(stream)\n",
    "\n",
    "# Define file paths\n",
    "template_file = \"/home/zhangi/choderalab/perses_benchmark/perses_protein_mutations/code/19_seed_neq/run_all_neq_distrib_wait_template.sh\"\n",
    "out_dir = \"/data/chodera/zhangi/perses_benchmark/neq/13/\"\n",
    "\n"
   ]
  },
  {
   "cell_type": "code",
   "execution_count": 24,
   "metadata": {},
   "outputs": [],
   "source": [
    "# Define job parameters\n",
    "wall_time = 1\n",
    "memory = 5\n",
    "length = 1\n",
    "phase = 'complex'\n",
    "\n",
    "new = list(dictionary.keys())[0]\n",
    "old, old_aa, new_aa, resid = list(dictionary.values())[0]\n",
    "job = 89882"
   ]
  },
  {
   "cell_type": "code",
   "execution_count": 32,
   "metadata": {},
   "outputs": [
    {
     "name": "stdout",
     "output_type": "stream",
     "text": [
      "#!/usr/bin/env bash\n",
      "\n",
      "# Set walltime limit\n",
      "\n",
      "#BSUB -W 1:00 \n",
      "\n",
      "#\n",
      "\n",
      "# Set output file\n",
      "\n",
      "#BSUB -o  13.107.complex.%I.out\n",
      "\n",
      "#\n",
      "\n",
      "# Set error file\n",
      "\n",
      "#BSUB -eo 13.107.complex.%I.stderr\n",
      "\n",
      "#\n",
      "\n",
      "# Specify node group\n",
      "\n",
      "#BSUB -m \"lu-gpu lv-gpu ld-gpu lt-gpu lp-gpu lg-gpu boson\"\n",
      "\n",
      "#BSUB -q gpuqueue\n",
      "\n",
      "#\n",
      "\n",
      "# nodes: number of nodes and GPU request\n",
      "\n",
      "#BSUB -n 1 -R \"rusage[mem=5]\"\n",
      "\n",
      "#BSUB -gpu \"num=1:j_exclusive=yes:mode=shared\"\n",
      "\n",
      "#\n",
      "\n",
      "# job name (default = name of script file)\n",
      "\n",
      "#BSUB -J \"13.107.complex.[1-100]\"\n",
      "\n",
      "# wait for another job to be completed\n",
      "\n",
      "#BSUB -w \"done(89882)\"\n",
      "\n",
      "\n",
      "\n",
      "new=107\n",
      "\n",
      "old_aa=ASP\n",
      "\n",
      "new_aa=ALA\n",
      "\n",
      "phase=complex\n",
      "\n",
      "length=1\n",
      "\n",
      "\n",
      "\n",
      "source ~/.bashrc\n",
      "\n",
      "conda activate perses-sims-oct2020\n",
      "\n",
      "module load cuda/10.1\n",
      "\n",
      "python run_neq_distrib_seed_general.py \"/data/chodera/zhangi/perses_benchmark/neq/13/$new/\" $phase \"$((${LSB_JOBINDEX}-1))\" $old_aa $new_aa $length # lowercase\n",
      "\n"
     ]
    }
   ],
   "source": [
    "# Edit template bash file\n",
    "with open(template_file, \"r\") as f:\n",
    "    lines_out = f.readlines()\n",
    "\n",
    "lines_new = []\n",
    "for line in lines_out:\n",
    "    if \"#BSUB -W\" in line:\n",
    "        line = line[:9] + str(wall_time) + line[10:]\n",
    "    elif \"#BSUB -o\" in line:\n",
    "        line = line[:13] + str(new) + f\".{phase}.%I.out\\n\"\n",
    "    elif \"#BSUB -eo\" in line:\n",
    "        line = line[:13] + str(new) + f\".{phase}.%I.stderr\\n\"\n",
    "    elif \"#BSUB -n\" in line:\n",
    "        line = line[:26] + str(memory) + line[27:] \n",
    "    elif \"#BSUB -J\" in line:\n",
    "        line = line[:13] + str(new) + f'.{phase}.[1-100]\"\\n'\n",
    "    elif \"#BSUB -w\" in line:\n",
    "        line = line[:9] + f'\"done({job})\"\\n'\n",
    "    elif \"new=\" in line:\n",
    "        line = f\"new={new}\\n\"\n",
    "    elif \"old_aa=\" in line:\n",
    "        line = f\"old_aa={old_aa}\\n\"\n",
    "    elif \"new_aa=\" in line:\n",
    "        line = f\"new_aa={new_aa}\\n\"\n",
    "    elif \"phase=\" in line:\n",
    "        line = f\"phase={phase}\\n\"\n",
    "    elif \"length=\" in line:\n",
    "        line = f\"length={length}\\n\"\n",
    "    print(line)\n",
    "    lines_new.append(line)\n",
    "\n"
   ]
  },
  {
   "cell_type": "code",
   "execution_count": 33,
   "metadata": {},
   "outputs": [],
   "source": [
    "# Make dir and save new bash file\n",
    "os.system(f\"mkdir {os.path.join(out_dir, str(new))}\")\n",
    "\n",
    "with open(os.path.join(out_dir, str(new), \"run_all_neq_distrib_wait.sh\"), \"w\") as f:\n",
    "     f.writelines(lines_new)\n"
   ]
  },
  {
   "cell_type": "code",
   "execution_count": null,
   "metadata": {},
   "outputs": [],
   "source": []
  }
 ],
 "metadata": {
  "kernelspec": {
   "display_name": "Python 3",
   "language": "python",
   "name": "python3"
  },
  "language_info": {
   "codemirror_mode": {
    "name": "ipython",
    "version": 3
   },
   "file_extension": ".py",
   "mimetype": "text/x-python",
   "name": "python",
   "nbconvert_exporter": "python",
   "pygments_lexer": "ipython3",
   "version": "3.7.8"
  }
 },
 "nbformat": 4,
 "nbformat_minor": 4
}
