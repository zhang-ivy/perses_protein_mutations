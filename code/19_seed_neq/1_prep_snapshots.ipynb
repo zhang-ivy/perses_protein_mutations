{
 "cells": [
  {
   "cell_type": "markdown",
   "metadata": {},
   "source": [
    "## Grab thr snapshots from high temperature cache"
   ]
  },
  {
   "cell_type": "code",
   "execution_count": 1,
   "metadata": {},
   "outputs": [],
   "source": [
    "import math\n",
    "from simtk import unit\n",
    "import os\n",
    "import tempfile\n",
    "import pickle\n",
    "import mdtraj as md\n",
    "import numpy as np\n",
    "from simtk.unit.quantity import Quantity\n",
    "import logging\n",
    "\n",
    "# Set up logger\n",
    "_logger = logging.getLogger()\n",
    "_logger.setLevel(logging.INFO)\n",
    "\n",
    "from simtk.openmm import app\n",
    "from tqdm import tqdm\n",
    "import random"
   ]
  },
  {
   "cell_type": "code",
   "execution_count": 12,
   "metadata": {},
   "outputs": [],
   "source": [
    "def get_dihedrals(i, aa, length, out_dir, htf, dihedral_indices_new, dihedral_indices_old):\n",
    "    new_top = md.Topology.from_openmm(htf._topology_proposal.new_topology)\n",
    "    old_top = md.Topology.from_openmm(htf._topology_proposal.old_topology)\n",
    "\n",
    "    # From Hannah: https://github.com/hannahbrucemacdonald/endstate_pdbs/blob/master/scripts/input_for_pol_calc.py\n",
    "    from perses.analysis.utils import open_netcdf\n",
    "    nc = open_netcdf(os.path.join(out_dir, f\"{i}_{phase}_{aa}_{length}ns.nc\"))\n",
    "    nc_checkpoint = open_netcdf(os.path.join(out_dir, f\"{i}_{phase}_{aa}_{length}ns_checkpoint.nc\"))\n",
    "    checkpoint_interval = nc_checkpoint.CheckpointInterval\n",
    "    all_positions = nc_checkpoint.variables['positions']\n",
    "    n_iter, n_replicas, n_atoms, _ = np.shape(all_positions)\n",
    "    n_iter = 5000\n",
    "    \n",
    "    from tqdm import tqdm\n",
    "    all_pos_hybrid_master = []\n",
    "    for j in [19]:\n",
    "        index = j # of replica\n",
    "        all_pos_new = np.zeros(shape=(n_iter, new_top.n_atoms, 3))\n",
    "        all_pos_old = np.zeros(shape=(n_iter, old_top.n_atoms, 3))\n",
    "        all_pos_hybrid = np.zeros(shape=(n_iter, n_atoms, 3))\n",
    "        for iteration in tqdm(range(3000, 3010)):\n",
    "            replica_id = np.where(nc.variables['states'][iteration*checkpoint_interval] == index)[0]\n",
    "            pos = all_positions[iteration,replica_id,:,:][0] *unit.nanometers\n",
    "            all_pos_new[iteration] = htf.new_positions(pos).value_in_unit_system(unit.md_unit_system) # Get new positions only\n",
    "            all_pos_hybrid[iteration] = pos # Get hybrid positions\n",
    "            all_pos_old[iteration] = htf.old_positions(pos).value_in_unit_system(unit.md_unit_system)\n",
    "        all_pos_hybrid_master.append(all_pos_hybrid)\n",
    "        \n",
    "        dihedrals_all = []\n",
    "        for pos, top, indices in zip([all_pos_new, all_pos_old], [new_top, old_top], [dihedral_indices_new, dihedral_indices_old]):\n",
    "            traj = md.Trajectory(np.array(pos), top)\n",
    "            dihedrals = md.compute_dihedrals(traj, np.array([indices]))\n",
    "            dihedrals_all.append(dihedrals)\n",
    "    return dihedrals_all, all_pos_hybrid_master"
   ]
  },
  {
   "cell_type": "code",
   "execution_count": 3,
   "metadata": {},
   "outputs": [],
   "source": [
    "def sort_snapshots(dihedrals):\n",
    "    d_indices = {}\n",
    "    d_indices[0], d_indices[1], d_indices[2] = list(), list(), list()\n",
    "    for i, dihedral_angle in enumerate(dihedrals):\n",
    "        if dihedral_angle == 0.:\n",
    "            continue\n",
    "        if dihedral_angle > 2 or dihedral_angle < -2: # angle is -3 or +3\n",
    "            d_indices[0].append(i)\n",
    "        elif dihedral_angle < 0 and dihedral_angle > -2: # angle is -1\n",
    "            d_indices[1].append(i)\n",
    "        elif dihedral_angle > 0 and dihedral_angle < 2: # angle is 1\n",
    "            d_indices[2].append(i)\n",
    "    return d_indices"
   ]
  },
  {
   "cell_type": "markdown",
   "metadata": {},
   "source": [
    "### Get snapshots from T42A apo"
   ]
  },
  {
   "cell_type": "code",
   "execution_count": 77,
   "metadata": {},
   "outputs": [],
   "source": [
    "outdir = \"/data/chodera/zhangi/perses_benchmark/neq/12/36/\"\n",
    "name = \"THR\"\n",
    "endstate = 0\n",
    "phase = \"apo\"\n",
    "length = 5\n",
    "i = os.path.basename(os.path.dirname(outdir))\n",
    "aa = name.lower()\n"
   ]
  },
  {
   "cell_type": "code",
   "execution_count": 78,
   "metadata": {},
   "outputs": [],
   "source": [
    "with open(os.path.join(outdir, f\"{i}_{phase}_{endstate}.pickle\"), 'rb') as f:\n",
    "    htf = pickle.load(f)\n",
    "\n",
    "indices_old = [669, 670, 673, 674]\n",
    "indices_new = [669, 670, 673, 676]"
   ]
  },
  {
   "cell_type": "code",
   "execution_count": 86,
   "metadata": {},
   "outputs": [
    {
     "name": "stderr",
     "output_type": "stream",
     "text": [
      "100%|██████████| 10/10 [00:18<00:00,  1.87s/it]\n"
     ]
    }
   ],
   "source": [
    "dihedrals, all_pos_hybrid = get_dihedrals(i, aa, length, outdir, htf, indices_new, indices_old)                                       \n"
   ]
  },
  {
   "cell_type": "code",
   "execution_count": 87,
   "metadata": {},
   "outputs": [],
   "source": [
    "dihedrals_old = dihedrals[1]"
   ]
  },
  {
   "cell_type": "code",
   "execution_count": 88,
   "metadata": {},
   "outputs": [],
   "source": [
    "d_indices_T42A_apo = sort_snapshots(dihedrals_old)"
   ]
  },
  {
   "cell_type": "code",
   "execution_count": 89,
   "metadata": {},
   "outputs": [
    {
     "data": {
      "text/plain": [
       "{0: [1000, 1008], 1: [1006, 1007], 2: [1001, 1002, 1003, 1004, 1005, 1009]}"
      ]
     },
     "execution_count": 89,
     "metadata": {},
     "output_type": "execute_result"
    }
   ],
   "source": [
    "d_indices_T42A_apo"
   ]
  },
  {
   "cell_type": "code",
   "execution_count": 90,
   "metadata": {},
   "outputs": [
    {
     "data": {
      "text/plain": [
       "(5000, 14881, 3)"
      ]
     },
     "execution_count": 90,
     "metadata": {},
     "output_type": "execute_result"
    }
   ],
   "source": [
    "all_pos_hybrid[0].shape"
   ]
  },
  {
   "cell_type": "code",
   "execution_count": 91,
   "metadata": {},
   "outputs": [],
   "source": [
    "# Take the first snapshot for every angle\n",
    "pos = all_pos_hybrid[0][[d_indices_T42A_apo[0][0], d_indices_T42A_apo[1][0], d_indices_T42A_apo[2][0]]]"
   ]
  },
  {
   "cell_type": "code",
   "execution_count": 92,
   "metadata": {},
   "outputs": [],
   "source": [
    "with open(os.path.join(\"/data/chodera/zhangi/perses_benchmark/neq/13/0/\", f\"{0}_{phase}_{endstate}.npy\"), \"wb\") as f:\n",
    "    np.save(f, pos)"
   ]
  },
  {
   "cell_type": "markdown",
   "metadata": {},
   "source": [
    "### Get snapshots from T42A complex"
   ]
  },
  {
   "cell_type": "code",
   "execution_count": 61,
   "metadata": {},
   "outputs": [],
   "source": [
    "outdir = \"/data/chodera/zhangi/perses_benchmark/neq/12/36/\"\n",
    "name = \"THR\"\n",
    "endstate = 0\n",
    "phase = \"complex\"\n",
    "length = 5\n",
    "i = os.path.basename(os.path.dirname(outdir))\n",
    "aa = name.lower()\n"
   ]
  },
  {
   "cell_type": "code",
   "execution_count": 62,
   "metadata": {},
   "outputs": [],
   "source": [
    "with open(os.path.join(outdir, f\"{i}_{phase}_{endstate}.pickle\"), 'rb') as f:\n",
    "    htf = pickle.load(f)\n",
    "\n",
    "indices_old = [669, 670, 673, 674]\n",
    "indices_new = [669, 670, 673, 676]"
   ]
  },
  {
   "cell_type": "code",
   "execution_count": 70,
   "metadata": {},
   "outputs": [
    {
     "name": "stderr",
     "output_type": "stream",
     "text": [
      "100%|██████████| 10/10 [00:37<00:00,  3.74s/it]\n"
     ]
    }
   ],
   "source": [
    "dihedrals, all_pos_hybrid = get_dihedrals(i, aa, length, outdir, htf, indices_new, indices_old)                                       \n"
   ]
  },
  {
   "cell_type": "code",
   "execution_count": 71,
   "metadata": {},
   "outputs": [],
   "source": [
    "dihedrals_old = dihedrals[1]"
   ]
  },
  {
   "cell_type": "code",
   "execution_count": 72,
   "metadata": {},
   "outputs": [],
   "source": [
    "d_indices_T42A_complex = sort_snapshots(dihedrals_old)"
   ]
  },
  {
   "cell_type": "code",
   "execution_count": 73,
   "metadata": {},
   "outputs": [
    {
     "data": {
      "text/plain": [
       "{0: [2001], 1: [2004, 2008], 2: [2000, 2002, 2003, 2005, 2006, 2007, 2009]}"
      ]
     },
     "execution_count": 73,
     "metadata": {},
     "output_type": "execute_result"
    }
   ],
   "source": [
    "d_indices_T42A_complex"
   ]
  },
  {
   "cell_type": "code",
   "execution_count": 74,
   "metadata": {},
   "outputs": [
    {
     "data": {
      "text/plain": [
       "(5000, 29478, 3)"
      ]
     },
     "execution_count": 74,
     "metadata": {},
     "output_type": "execute_result"
    }
   ],
   "source": [
    "all_pos_hybrid[0].shape"
   ]
  },
  {
   "cell_type": "code",
   "execution_count": 75,
   "metadata": {},
   "outputs": [],
   "source": [
    "pos = all_pos_hybrid[0][[d_indices_T42A_complex[0][0], d_indices_T42A_complex[1][0], d_indices_T42A_complex[2][0]]]"
   ]
  },
  {
   "cell_type": "code",
   "execution_count": 76,
   "metadata": {},
   "outputs": [],
   "source": [
    "with open(os.path.join(\"/data/chodera/zhangi/perses_benchmark/neq/13/0/\", f\"{0}_{phase}_{endstate}.npy\"), \"wb\") as f:\n",
    "    np.save(f, pos)"
   ]
  },
  {
   "cell_type": "code",
   "execution_count": 22,
   "metadata": {},
   "outputs": [],
   "source": []
  },
  {
   "cell_type": "markdown",
   "metadata": {},
   "source": [
    "### Get snapshots from A42T apo"
   ]
  },
  {
   "cell_type": "code",
   "execution_count": 115,
   "metadata": {},
   "outputs": [],
   "source": [
    "outdir = \"/data/chodera/zhangi/perses_benchmark/neq/12/37/\"\n",
    "name = \"THR\"\n",
    "endstate = 1\n",
    "phase = \"apo\"\n",
    "length = 5\n",
    "i = os.path.basename(os.path.dirname(outdir))\n",
    "aa = name.lower()\n"
   ]
  },
  {
   "cell_type": "code",
   "execution_count": 116,
   "metadata": {},
   "outputs": [],
   "source": [
    "with open(os.path.join(outdir, f\"{i}_{phase}_{endstate}.pickle\"), 'rb') as f:\n",
    "    htf = pickle.load(f)\n",
    "\n",
    "indices_old = [669, 670, 673, 676]\n",
    "indices_new = [669, 670, 673, 681]"
   ]
  },
  {
   "cell_type": "code",
   "execution_count": 117,
   "metadata": {},
   "outputs": [
    {
     "name": "stderr",
     "output_type": "stream",
     "text": [
      "100%|██████████| 10/10 [00:18<00:00,  1.88s/it]\n"
     ]
    }
   ],
   "source": [
    "dihedrals, all_pos_hybrid = get_dihedrals(i, aa, length, outdir, htf, indices_new, indices_old)                                       \n"
   ]
  },
  {
   "cell_type": "code",
   "execution_count": 118,
   "metadata": {},
   "outputs": [],
   "source": [
    "dihedrals_new = dihedrals[0]"
   ]
  },
  {
   "cell_type": "code",
   "execution_count": 119,
   "metadata": {},
   "outputs": [],
   "source": [
    "d_indices_A42T_apo = sort_snapshots(dihedrals_new)"
   ]
  },
  {
   "cell_type": "code",
   "execution_count": 120,
   "metadata": {},
   "outputs": [
    {
     "data": {
      "text/plain": [
       "{0: [1001, 1008], 1: [1000, 1002, 1003, 1005, 1007, 1009], 2: [1004, 1006]}"
      ]
     },
     "execution_count": 120,
     "metadata": {},
     "output_type": "execute_result"
    }
   ],
   "source": [
    "d_indices_A42T_apo"
   ]
  },
  {
   "cell_type": "code",
   "execution_count": 121,
   "metadata": {},
   "outputs": [
    {
     "data": {
      "text/plain": [
       "(5000, 14881, 3)"
      ]
     },
     "execution_count": 121,
     "metadata": {},
     "output_type": "execute_result"
    }
   ],
   "source": [
    "all_pos_hybrid[0].shape"
   ]
  },
  {
   "cell_type": "code",
   "execution_count": 122,
   "metadata": {},
   "outputs": [],
   "source": [
    "# Take the first snapshot for every angle\n",
    "pos = all_pos_hybrid[0][[d_indices_A42T_apo[0][0], d_indices_A42T_apo[1][0], d_indices_A42T_apo[2][0]]]"
   ]
  },
  {
   "cell_type": "code",
   "execution_count": 123,
   "metadata": {},
   "outputs": [],
   "source": [
    "with open(os.path.join(\"/data/chodera/zhangi/perses_benchmark/neq/13/1/\", f\"{1}_{phase}_{endstate}.npy\"), \"wb\") as f:\n",
    "    np.save(f, pos)"
   ]
  },
  {
   "cell_type": "markdown",
   "metadata": {},
   "source": [
    "### Get snapshots from A42T complex"
   ]
  },
  {
   "cell_type": "code",
   "execution_count": 4,
   "metadata": {},
   "outputs": [],
   "source": [
    "outdir = \"/data/chodera/zhangi/perses_benchmark/neq/12/37/\"\n",
    "name = \"THR\"\n",
    "endstate = 1\n",
    "phase = \"complex\"\n",
    "length = 5\n",
    "i = os.path.basename(os.path.dirname(outdir))\n",
    "aa = name.lower()\n"
   ]
  },
  {
   "cell_type": "code",
   "execution_count": 5,
   "metadata": {},
   "outputs": [],
   "source": [
    "with open(os.path.join(outdir, f\"{i}_{phase}_{endstate}.pickle\"), 'rb') as f:\n",
    "    htf = pickle.load(f)\n",
    "\n",
    "indices_old = [669, 670, 673, 676]\n",
    "indices_new = [669, 670, 673, 681]"
   ]
  },
  {
   "cell_type": "code",
   "execution_count": null,
   "metadata": {},
   "outputs": [
    {
     "name": "stderr",
     "output_type": "stream",
     "text": [
      " 60%|██████    | 6/10 [00:22<00:14,  3.72s/it]"
     ]
    }
   ],
   "source": [
    "dihedrals, all_pos_hybrid = get_dihedrals(i, aa, length, outdir, htf, indices_new, indices_old)                                       \n"
   ]
  },
  {
   "cell_type": "code",
   "execution_count": null,
   "metadata": {},
   "outputs": [],
   "source": [
    "dihedrals_new = dihedrals[0]"
   ]
  },
  {
   "cell_type": "code",
   "execution_count": null,
   "metadata": {},
   "outputs": [],
   "source": [
    "d_indices_A42T_complex = sort_snapshots(dihedrals_new)"
   ]
  },
  {
   "cell_type": "code",
   "execution_count": null,
   "metadata": {},
   "outputs": [],
   "source": [
    "d_indices_A42T_complex"
   ]
  },
  {
   "cell_type": "code",
   "execution_count": 10,
   "metadata": {},
   "outputs": [
    {
     "data": {
      "text/plain": [
       "(5000, 29478, 3)"
      ]
     },
     "execution_count": 10,
     "metadata": {},
     "output_type": "execute_result"
    }
   ],
   "source": [
    "all_pos_hybrid[0].shape"
   ]
  },
  {
   "cell_type": "code",
   "execution_count": 11,
   "metadata": {},
   "outputs": [
    {
     "ename": "IndexError",
     "evalue": "list index out of range",
     "output_type": "error",
     "traceback": [
      "\u001b[0;31m-----------------\u001b[0m",
      "\u001b[0;31mIndexError\u001b[0mTraceback (most recent call last)",
      "\u001b[0;32m<ipython-input-11-4cd9a56e1df5>\u001b[0m in \u001b[0;36m<module>\u001b[0;34m\u001b[0m\n\u001b[0;32m----> 1\u001b[0;31m \u001b[0mpos\u001b[0m \u001b[0;34m=\u001b[0m \u001b[0mall_pos_hybrid\u001b[0m\u001b[0;34m[\u001b[0m\u001b[0;36m0\u001b[0m\u001b[0;34m]\u001b[0m\u001b[0;34m[\u001b[0m\u001b[0;34m[\u001b[0m\u001b[0md_indices_A42T_complex\u001b[0m\u001b[0;34m[\u001b[0m\u001b[0;36m0\u001b[0m\u001b[0;34m]\u001b[0m\u001b[0;34m[\u001b[0m\u001b[0;36m0\u001b[0m\u001b[0;34m]\u001b[0m\u001b[0;34m,\u001b[0m \u001b[0md_indices_A42T_complex\u001b[0m\u001b[0;34m[\u001b[0m\u001b[0;36m1\u001b[0m\u001b[0;34m]\u001b[0m\u001b[0;34m[\u001b[0m\u001b[0;36m0\u001b[0m\u001b[0;34m]\u001b[0m\u001b[0;34m,\u001b[0m \u001b[0md_indices_A42T_complex\u001b[0m\u001b[0;34m[\u001b[0m\u001b[0;36m2\u001b[0m\u001b[0;34m]\u001b[0m\u001b[0;34m[\u001b[0m\u001b[0;36m0\u001b[0m\u001b[0;34m]\u001b[0m\u001b[0;34m]\u001b[0m\u001b[0;34m]\u001b[0m\u001b[0;34m\u001b[0m\u001b[0;34m\u001b[0m\u001b[0m\n\u001b[0m",
      "\u001b[0;31mIndexError\u001b[0m: list index out of range"
     ]
    }
   ],
   "source": [
    "pos = all_pos_hybrid[0][[d_indices_A42T_complex[0][0], d_indices_A42T_complex[1][0], d_indices_A42T_complex[2][0]]]"
   ]
  },
  {
   "cell_type": "code",
   "execution_count": null,
   "metadata": {},
   "outputs": [],
   "source": [
    "with open(os.path.join(\"/data/chodera/zhangi/perses_benchmark/neq/13/1/\", f\"{1}_{phase}_{endstate}.npy\"), \"wb\") as f:\n",
    "    np.save(f, pos)"
   ]
  }
 ],
 "metadata": {
  "kernelspec": {
   "display_name": "Python 3",
   "language": "python",
   "name": "python3"
  },
  "language_info": {
   "codemirror_mode": {
    "name": "ipython",
    "version": 3
   },
   "file_extension": ".py",
   "mimetype": "text/x-python",
   "name": "python",
   "nbconvert_exporter": "python",
   "pygments_lexer": "ipython3",
   "version": "3.7.8"
  }
 },
 "nbformat": 4,
 "nbformat_minor": 4
}
