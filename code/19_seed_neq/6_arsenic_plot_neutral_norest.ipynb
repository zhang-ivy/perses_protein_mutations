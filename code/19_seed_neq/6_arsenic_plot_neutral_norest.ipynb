{
 "cells": [
  {
   "cell_type": "markdown",
   "metadata": {},
   "source": [
    "# Neutral mutations"
   ]
  },
  {
   "cell_type": "markdown",
   "metadata": {},
   "source": [
    "## Format the data appropriately for arsenic"
   ]
  },
  {
   "cell_type": "code",
   "execution_count": 1,
   "metadata": {},
   "outputs": [],
   "source": [
    "import numpy as np\n",
    "import pickle\n",
    "from simtk.openmm import unit\n",
    "from openmmtools.constants import kB\n",
    "import pandas as pd\n",
    "KT_KCALMOL = kB * 300 * unit.kelvin / unit.kilocalories_per_mole"
   ]
  },
  {
   "cell_type": "code",
   "execution_count": 2,
   "metadata": {},
   "outputs": [],
   "source": [
    "def compute_binding_ddgs(apo_ddg, complex_ddg):\n",
    "    return (apo_ddg**2 + complex_ddg**2)**0.5"
   ]
  },
  {
   "cell_type": "code",
   "execution_count": 3,
   "metadata": {},
   "outputs": [],
   "source": [
    "title_pairs = [[\"T42A\", \"A42T\"], [\"Y29A\", \"A29Y\"], [\"W38F\", \"F38W\"], [\"W44F\", \"F44W\"], [\"Y29F\", \"F29Y\"]]\n",
    "# title_pairs = [[\"T42A\", \"-(A42T)\"], [\"Y29A\", \"-(A29Y)\"], [\"W44F\", \"-(F44W)\"], [\"Y29F\", \"-(F29Y)\"]]\n",
    "dir_num = 8\n",
    "subdirs = [19, 21, 23, 25, 27]\n",
    "to_plot = []\n",
    "for i, subdir in enumerate(subdirs):\n",
    "    with open(f\"/data/chodera/zhangi/perses_benchmark/neq/{dir_num}/{subdir}/ddgs.pickle\", \"rb\") as f:\n",
    "        ddgs = pickle.load(f)\n",
    "    with open(f\"/data/chodera/zhangi/perses_benchmark/neq/{dir_num}/{subdir}/dgs_phase.pickle\", \"rb\") as f:\n",
    "        dgs_phase = pickle.load(f)\n",
    "        \n",
    "        # Compute binding ddgs from BAR\n",
    "        binding_ddgs_forward = []\n",
    "        binding_ddgs_backward = []\n",
    "        for j in range(len(dgs_phase)):\n",
    "            binding_ddgs_forward.append(compute_binding_ddgs(dgs_phase[subdir][j]['apo'][1], dgs_phase[subdir][j]['complex'][1]))\n",
    "            binding_ddgs_backward.append(compute_binding_ddgs(dgs_phase[subdir+1][j]['apo'][1], dgs_phase[subdir+1][j]['complex'][1]))\n",
    "\n",
    "    to_plot.append([title_pairs[i][0][:-1], title_pairs[i][0][-1] + title_pairs[i][0][1:3], np.mean(ddgs[subdir])*KT_KCALMOL, np.mean(binding_ddgs_forward)*KT_KCALMOL, abs(np.mean(ddgs[subdir])*KT_KCALMOL - np.percentile(ddgs[subdir], 2.5)*KT_KCALMOL)])\n",
    "    to_plot.append([title_pairs[i][1][:-1], title_pairs[i][1][-1] + title_pairs[i][1][1:3], np.mean(ddgs[subdir+1])*KT_KCALMOL, np.mean(binding_ddgs_backward)*KT_KCALMOL, abs(np.mean(ddgs[subdir+1])*KT_KCALMOL - np.percentile(ddgs[subdir+1], 2.5)*KT_KCALMOL)]) # take the negative of these so they match the forward transform values\n",
    "        \n",
    "        \n",
    "        "
   ]
  },
  {
   "cell_type": "code",
   "execution_count": 5,
   "metadata": {},
   "outputs": [],
   "source": [
    "title_pairs = [[\"T42A\"], [\"Y29A\"], [\"W38F\"], [\"W44F\"], [\"Y29F\"]]\n",
    "dir_num = 8\n",
    "subdirs = [19, 21, 23, 25, 27]\n",
    "to_plot = []\n",
    "for i, subdir in enumerate(subdirs):\n",
    "    with open(f\"/data/chodera/zhangi/perses_benchmark/neq/{dir_num}/{subdir}/ddgs.pickle\", \"rb\") as f:\n",
    "        ddgs = pickle.load(f)\n",
    "    with open(f\"/data/chodera/zhangi/perses_benchmark/neq/{dir_num}/{subdir}/dgs_phase.pickle\", \"rb\") as f:\n",
    "        dgs_phase = pickle.load(f)\n",
    "        \n",
    "        # Compute binding ddgs from BAR\n",
    "        binding_ddgs_forward = []\n",
    "        binding_ddgs_backward = []\n",
    "        for j in range(len(dgs_phase)):\n",
    "            binding_ddgs_forward.append(compute_binding_ddgs(dgs_phase[subdir][j]['apo'][1], dgs_phase[subdir][j]['complex'][1]))\n",
    "#             binding_ddgs_backward.append(compute_binding_ddgs(dgs_phase[subdir+1][j]['apo'][1], dgs_phase[subdir+1][j]['complex'][1]))\n",
    "\n",
    "    to_plot.append([title_pairs[i][0][:-1], title_pairs[i][0][-1] + title_pairs[i][0][1:3], np.mean(ddgs[subdir])*KT_KCALMOL, np.mean(binding_ddgs_forward)*KT_KCALMOL, abs(np.mean(ddgs[subdir])*KT_KCALMOL - np.percentile(ddgs[subdir], 2.5)*KT_KCALMOL)])\n",
    "#     to_plot.append([title_pairs[i][1][:-1], title_pairs[i][1][-1] + title_pairs[i][1][1:3], np.mean(ddgs[subdir+1])*KT_KCALMOL, np.mean(binding_ddgs_backward)*KT_KCALMOL, abs(np.mean(ddgs[subdir+1])*KT_KCALMOL - np.percentile(ddgs[subdir+1], 2.5)*KT_KCALMOL)]) # take the negative of these so they match the forward transform values\n",
    "        \n",
    "        \n",
    "        "
   ]
  },
  {
   "cell_type": "code",
   "execution_count": 6,
   "metadata": {},
   "outputs": [
    {
     "data": {
      "text/plain": [
       "[['T42', 'A42', 2.4328469615407884, 0.24892997839026484, 0.4963751038140358],\n",
       " ['Y29', 'A29', 3.3382526750482033, 0.3214616490096917, 0.5101961325586348],\n",
       " ['W38', 'F38', 1.253413014869263, 0.3678498044945586, 0.795109027190175],\n",
       " ['W44', 'F44', 0.7528280141613972, 0.3128272250919464, 0.6360138700444808],\n",
       " ['Y29', 'F29', 1.012049714351522, 0.07680867216931679, 0.16852185170926248]]"
      ]
     },
     "execution_count": 6,
     "metadata": {},
     "output_type": "execute_result"
    }
   ],
   "source": [
    "to_plot"
   ]
  },
  {
   "cell_type": "code",
   "execution_count": 7,
   "metadata": {},
   "outputs": [],
   "source": [
    "d = {'WT': 19.0, 'F29': 19.1, 'A29': 15.6, 'F38': 17.4, 'A42': 17.2, 'F44': 19.0}"
   ]
  },
  {
   "cell_type": "code",
   "execution_count": 15,
   "metadata": {},
   "outputs": [],
   "source": [
    "# experiment = ['# Experiment block', '# Mutant, expt_DDG, expt_dDDG']\n",
    "experiment = []\n",
    "for k in d.keys():\n",
    "    if k == 'WT':\n",
    "        experiment.append(['T42', d['WT']*-1, 0]) # take the negative of everything bc i think hannah subtracts differently\n",
    "        experiment.append(['Y29', d['WT']*-1, 0])\n",
    "        experiment.append(['W38', d['WT']*-1, 0])\n",
    "        experiment.append(['W44', d['WT']*-1, 0])\n",
    "        experiment.append(['Y29', d['WT']*-1, 0])\n",
    "    else:\n",
    "        experiment.append([k, d[k]*-1, 0])"
   ]
  },
  {
   "cell_type": "code",
   "execution_count": 16,
   "metadata": {},
   "outputs": [
    {
     "data": {
      "text/plain": [
       "[['T42', -19.0, 0],\n",
       " ['Y29', -19.0, 0],\n",
       " ['W38', -19.0, 0],\n",
       " ['W44', -19.0, 0],\n",
       " ['Y29', -19.0, 0],\n",
       " ['F29', -19.1, 0],\n",
       " ['A29', -15.6, 0],\n",
       " ['F38', -17.4, 0],\n",
       " ['A42', -17.2, 0],\n",
       " ['F44', -19.0, 0]]"
      ]
     },
     "execution_count": 16,
     "metadata": {},
     "output_type": "execute_result"
    }
   ],
   "source": [
    "experiment"
   ]
  },
  {
   "cell_type": "code",
   "execution_count": 12,
   "metadata": {},
   "outputs": [
    {
     "data": {
      "text/plain": [
       "8"
      ]
     },
     "execution_count": 12,
     "metadata": {},
     "output_type": "execute_result"
    }
   ],
   "source": [
    "dir_num"
   ]
  },
  {
   "cell_type": "code",
   "execution_count": 17,
   "metadata": {},
   "outputs": [],
   "source": [
    "pd.DataFrame(experiment + to_plot).to_csv(f\"/data/chodera/zhangi/perses_benchmark/neq/{dir_num}/arsenic_input_neutral.csv\", index=False, header=False)\n",
    "# Had to manually add headings, otherwise the lists wouldn't print out as comma separated\n",
    "# Had to remove extra commas in experimental block\n"
   ]
  },
  {
   "cell_type": "markdown",
   "metadata": {},
   "source": [
    "## Make arsenic plot"
   ]
  },
  {
   "cell_type": "code",
   "execution_count": 18,
   "metadata": {
    "scrolled": true
   },
   "outputs": [],
   "source": [
    "import numpy as np\n",
    "\n",
    "%matplotlib inline\n",
    "import matplotlib.pylab as plt\n",
    "\n",
    "from arsenic import plotting, stats, wrangle"
   ]
  },
  {
   "cell_type": "code",
   "execution_count": 19,
   "metadata": {},
   "outputs": [
    {
     "name": "stdout",
     "output_type": "stream",
     "text": [
      "Graph is not connected enough to compute absolute values\n"
     ]
    }
   ],
   "source": [
    "fe = wrangle.FEMap(f'/data/chodera/zhangi/perses_benchmark/neq/{dir_num}/arsenic_input_neutral.csv')"
   ]
  },
  {
   "cell_type": "code",
   "execution_count": 20,
   "metadata": {},
   "outputs": [
    {
     "data": {
      "image/png": "[encoded data removed]",
      "text/plain": [
       "<Figure size 234x234 with 1 Axes>"
      ]
     },
     "metadata": {
      "needs_background": "light"
     },
     "output_type": "display_data"
    }
   ],
   "source": [
    "plotting.plot_DDGs(fe.graph,target_name='barnase', title='Neutral mutations in barstar', units=r'$\\mathrm{kcal\\,/mol}$', filename=f'/data/chodera/zhangi/perses_benchmark/neq/{dir_num}/arsenic_input_neutral.png')\n",
    "# added dpi to savefig() in local version\n",
    "# removed \"/\" in labels in local version"
   ]
  },
  {
   "cell_type": "code",
   "execution_count": null,
   "metadata": {},
   "outputs": [],
   "source": []
  },
  {
   "cell_type": "code",
   "execution_count": null,
   "metadata": {},
   "outputs": [],
   "source": []
  },
  {
   "cell_type": "code",
   "execution_count": null,
   "metadata": {},
   "outputs": [],
   "source": []
  }
 ],
 "metadata": {
  "kernelspec": {
   "display_name": "Python 3 (ipykernel)",
   "language": "python",
   "name": "python3"
  },
  "language_info": {
   "codemirror_mode": {
    "name": "ipython",
    "version": 3
   },
   "file_extension": ".py",
   "mimetype": "text/x-python",
   "name": "python",
   "nbconvert_exporter": "python",
   "pygments_lexer": "ipython3",
   "version": "3.9.6"
  }
 },
 "nbformat": 4,
 "nbformat_minor": 4
}
