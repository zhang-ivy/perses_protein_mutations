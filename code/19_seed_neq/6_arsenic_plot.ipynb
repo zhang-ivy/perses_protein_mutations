{
 "cells": [
  {
   "cell_type": "markdown",
   "metadata": {},
   "source": [
    "# Neutral mutations"
   ]
  },
  {
   "cell_type": "markdown",
   "metadata": {},
   "source": [
    "## Format the data appropriately for arsenic"
   ]
  },
  {
   "cell_type": "code",
   "execution_count": 6,
   "metadata": {},
   "outputs": [],
   "source": [
    "import numpy as np\n",
    "import pickle\n",
    "from simtk.openmm import unit\n",
    "from openmmtools.constants import kB\n",
    "import pandas as pd\n",
    "KT_KCALMOL = kB * 300 * unit.kelvin / unit.kilocalories_per_mole"
   ]
  },
  {
   "cell_type": "code",
   "execution_count": 7,
   "metadata": {},
   "outputs": [],
   "source": [
    "def compute_binding_ddgs(apo_ddg, complex_ddg):\n",
    "    return (apo_ddg**2 + complex_ddg**2)**0.5"
   ]
  },
  {
   "cell_type": "code",
   "execution_count": 8,
   "metadata": {},
   "outputs": [],
   "source": [
    "title_pairs = [[\"T42A\", \"A42T\"], [\"Y29A\", \"A29Y\"], [\"W38F\", \"F38W\"], [\"W44F\", \"F44W\"], [\"Y29F\", \"F29Y\"]]\n",
    "# title_pairs = [[\"T42A\", \"-(A42T)\"], [\"Y29A\", \"-(A29Y)\"], [\"W44F\", \"-(F44W)\"], [\"Y29F\", \"-(F29Y)\"]]\n",
    "dir_num = 13\n",
    "subdirs = [6, 40, 42, 44, 46]\n",
    "# subdirs = [6, 40, 44, 46]\n",
    "# to_plot = ['# Calculated block', '# Mutant1, Mutant2, calc_DDG, calc_dDDG(BAR), calc_dDDG(additional)']\n",
    "to_plot = []\n",
    "for i, subdir in enumerate(subdirs):\n",
    "    with open(f\"/data/chodera/zhangi/perses_benchmark/neq/{dir_num}/{subdir}/ddgs.pickle\", \"rb\") as f:\n",
    "        ddgs = pickle.load(f)\n",
    "    with open(f\"/data/chodera/zhangi/perses_benchmark/neq/{dir_num}/{subdir}/dgs_phase.pickle\", \"rb\") as f:\n",
    "        dgs_phase = pickle.load(f)\n",
    "        \n",
    "        # Compute binding ddgs from BAR\n",
    "        binding_ddgs_forward = []\n",
    "        binding_ddgs_backward = []\n",
    "        for j in range(len(dgs_phase)):\n",
    "            binding_ddgs_forward.append(compute_binding_ddgs(dgs_phase[subdir][j]['apo'][1], dgs_phase[subdir][j]['complex'][1]))\n",
    "            binding_ddgs_backward.append(compute_binding_ddgs(dgs_phase[subdir+1][j]['apo'][1], dgs_phase[subdir+1][j]['complex'][1]))\n",
    "\n",
    "    to_plot.append([title_pairs[i][0][:-1], title_pairs[i][0][-1] + title_pairs[i][0][1:3], np.mean(ddgs[subdir])*KT_KCALMOL, np.mean(binding_ddgs_forward)*KT_KCALMOL, abs(np.mean(ddgs[subdir])*KT_KCALMOL - np.percentile(ddgs[subdir], 2.5)*KT_KCALMOL)])\n",
    "    to_plot.append([title_pairs[i][1][:-1], title_pairs[i][1][-1] + title_pairs[i][1][1:3], np.mean(ddgs[subdir+1])*KT_KCALMOL, np.mean(binding_ddgs_backward)*KT_KCALMOL, abs(np.mean(ddgs[subdir+1])*KT_KCALMOL - np.percentile(ddgs[subdir+1], 2.5)*KT_KCALMOL)]) # take the negative of these so they match the forward transform values\n",
    "        \n",
    "        \n",
    "        "
   ]
  },
  {
   "cell_type": "code",
   "execution_count": 9,
   "metadata": {},
   "outputs": [
    {
     "data": {
      "text/plain": [
       "[['T42', 'A42', 2.477576613515086, 0.14492840367315213, 0.2920669051269775],\n",
       " ['A42', 'T42', -2.590320704385701, 0.13879045321995792, 0.2906051962710605],\n",
       " ['Y29', 'A29', 3.213569695172239, 0.2629590703701337, 0.37415227094433945],\n",
       " ['A29', 'Y29', -3.4108574742178224, 0.28930070721873474, 0.4664839552150175],\n",
       " ['W38', 'F38', 0.7125047546581155, 0.20221619263104568, 0.46123631022223166],\n",
       " ['F38', 'W38', -0.9759674389580579, 0.1534130667812866, 0.33815622369491805],\n",
       " ['W44', 'F44', 0.7481630130489529, 0.19140751602032208, 0.3468537161797291],\n",
       " ['F44', 'W44', -1.017485892358952, 0.1780537245068998, 0.30790979097342874],\n",
       " ['Y29', 'F29', 0.9454903877896373, 0.04849486028473315, 0.09933740478934017],\n",
       " ['F29', 'Y29', -1.0369974565312157, 0.05394165116050055, 0.11880058735782817]]"
      ]
     },
     "execution_count": 9,
     "metadata": {},
     "output_type": "execute_result"
    }
   ],
   "source": [
    "to_plot"
   ]
  },
  {
   "cell_type": "code",
   "execution_count": 10,
   "metadata": {},
   "outputs": [],
   "source": [
    "d = {'WT': 19.0, 'F29': 19.1, 'A29': 15.6, 'F38': 17.4, 'A42': 17.2, 'F44': 19.0}"
   ]
  },
  {
   "cell_type": "code",
   "execution_count": 16,
   "metadata": {},
   "outputs": [],
   "source": [
    "# experiment = ['# Experiment block', '# Mutant, expt_DDG, expt_dDDG']\n",
    "experiment = []\n",
    "for k in d.keys():\n",
    "    if k == 'WT':\n",
    "        experiment.append(['T42', d['WT']*-1, 0]) # take the negative of everything bc i think hannah subtracts differently\n",
    "        experiment.append(['Y29', d['WT']*-1, 0])\n",
    "        experiment.append(['W38', d['WT']*-1, 0])\n",
    "        experiment.append(['W44', d['WT']*-1, 0])\n",
    "        experiment.append(['Y29', d['WT']*-1, 0])\n",
    "    else:\n",
    "        experiment.append([k, d[k]*-1, 0])"
   ]
  },
  {
   "cell_type": "code",
   "execution_count": 17,
   "metadata": {},
   "outputs": [
    {
     "data": {
      "text/plain": [
       "[['T42', -19.0, 0],\n",
       " ['Y29', -19.0, 0],\n",
       " ['W38', -19.0, 0],\n",
       " ['W44', -19.0, 0],\n",
       " ['Y29', -19.0, 0],\n",
       " ['F29', -19.1, 0],\n",
       " ['A29', -15.6, 0],\n",
       " ['F38', -17.4, 0],\n",
       " ['A42', -17.2, 0],\n",
       " ['F44', -19.0, 0]]"
      ]
     },
     "execution_count": 17,
     "metadata": {},
     "output_type": "execute_result"
    }
   ],
   "source": [
    "experiment"
   ]
  },
  {
   "cell_type": "code",
   "execution_count": 18,
   "metadata": {},
   "outputs": [],
   "source": [
    "pd.DataFrame(experiment + to_plot).to_csv(f\"/data/chodera/zhangi/perses_benchmark/neq/{dir_num}/arsenic_input_neutral.csv\", index=False, header=False)\n",
    "# Had to manually add headings, otherwise the lists wouldn't print out as comma separated\n",
    "# Had to remove extra commas in experimental block\n"
   ]
  },
  {
   "cell_type": "markdown",
   "metadata": {},
   "source": [
    "## Make arsenic plot"
   ]
  },
  {
   "cell_type": "code",
   "execution_count": 1,
   "metadata": {
    "scrolled": true
   },
   "outputs": [],
   "source": [
    "import numpy as np\n",
    "\n",
    "%matplotlib inline\n",
    "import matplotlib.pylab as plt\n",
    "\n",
    "from arsenic import plotting, stats, wrangle"
   ]
  },
  {
   "cell_type": "code",
   "execution_count": 2,
   "metadata": {},
   "outputs": [
    {
     "name": "stdout",
     "output_type": "stream",
     "text": [
      "Graph is not connected enough to compute absolute values\n"
     ]
    }
   ],
   "source": [
    "fe = wrangle.FEMap('/data/chodera/zhangi/perses_benchmark/neq/13/arsenic_input_neutral.csv')"
   ]
  },
  {
   "cell_type": "code",
   "execution_count": 6,
   "metadata": {},
   "outputs": [
    {
     "data": {
      "image/png": "[encoded data removed]",
      "text/plain": [
       "<Figure size 234x234 with 1 Axes>"
      ]
     },
     "metadata": {
      "needs_background": "light"
     },
     "output_type": "display_data"
    }
   ],
   "source": [
    "plotting.plot_DDGs(fe.graph,target_name='barnase', title='Neutral mutations in barstar', units=r'$\\mathrm{kcal\\,/mol}$', filename='/data/chodera/zhangi/perses_benchmark/neq/13/arsenic_input_neutral.png')\n",
    "# added dpi to savefig() in local version\n",
    "# removed \"/\" in labels in local version"
   ]
  },
  {
   "cell_type": "code",
   "execution_count": null,
   "metadata": {},
   "outputs": [],
   "source": []
  },
  {
   "cell_type": "markdown",
   "metadata": {},
   "source": [
    "# Charge mutations"
   ]
  },
  {
   "cell_type": "markdown",
   "metadata": {},
   "source": [
    "## Format the data appropriately for arsenic"
   ]
  },
  {
   "cell_type": "code",
   "execution_count": 8,
   "metadata": {},
   "outputs": [],
   "source": [
    "import numpy as np\n",
    "import pickle\n",
    "from simtk.openmm import unit\n",
    "from openmmtools.constants import kB\n",
    "import pandas as pd\n",
    "KT_KCALMOL = kB * 300 * unit.kelvin / unit.kilocalories_per_mole"
   ]
  },
  {
   "cell_type": "code",
   "execution_count": 9,
   "metadata": {},
   "outputs": [],
   "source": [
    "def compute_binding_ddgs(apo_ddg, complex_ddg):\n",
    "    return (apo_ddg**2 + complex_ddg**2)**0.5"
   ]
  },
  {
   "cell_type": "code",
   "execution_count": 10,
   "metadata": {},
   "outputs": [],
   "source": [
    "title_pairs = [[\"D35A\", \"A35D\"], [\"D39A\", \"A39D\"], [\"E76A\", \"A76E\"], [\"E80A\", \"A80E\"], [\"K27A\", \"A27K\"], [\"R59A\", \"A59R\"], [\"R83Q\", \"Q83R\"], [\"R87A\", \"A87R\"]]\n",
    "dir_num = 13\n",
    "subdirs = list(range(48, 64, 2))\n",
    "# to_plot = ['# Calculated block', '# Mutant1, Mutant2, calc_DDG, calc_dDDG(BAR), calc_dDDG(additional)']\n",
    "to_plot = []\n",
    "for i, subdir in enumerate(subdirs):\n",
    "    with open(f\"/data/chodera/zhangi/perses_benchmark/neq/{dir_num}/{subdir}/ddgs.pickle\", \"rb\") as f:\n",
    "        ddgs = pickle.load(f)\n",
    "    with open(f\"/data/chodera/zhangi/perses_benchmark/neq/{dir_num}/{subdir}/dgs_phase.pickle\", \"rb\") as f:\n",
    "        dgs_phase = pickle.load(f)\n",
    "        \n",
    "        # Compute binding ddgs from BAR\n",
    "        binding_ddgs_forward = []\n",
    "        binding_ddgs_backward = []\n",
    "        for j in range(len(dgs_phase)):\n",
    "            binding_ddgs_forward.append(compute_binding_ddgs(dgs_phase[subdir][j]['apo'][1], dgs_phase[subdir][j]['complex'][1]))\n",
    "            binding_ddgs_backward.append(compute_binding_ddgs(dgs_phase[subdir+1][j]['apo'][1], dgs_phase[subdir+1][j]['complex'][1]))\n",
    "\n",
    "    to_plot.append([title_pairs[i][0][:-1], title_pairs[i][0][-1] + title_pairs[i][0][1:3], np.mean(ddgs[subdir])*KT_KCALMOL, np.mean(binding_ddgs_forward)*KT_KCALMOL, abs(np.mean(ddgs[subdir])*KT_KCALMOL - np.percentile(ddgs[subdir], 2.5)*KT_KCALMOL)])\n",
    "    to_plot.append([title_pairs[i][1][:-1], title_pairs[i][1][-1] + title_pairs[i][1][1:3], np.mean(ddgs[subdir+1])*KT_KCALMOL, np.mean(binding_ddgs_backward)*KT_KCALMOL, abs(np.mean(ddgs[subdir+1])*KT_KCALMOL - np.percentile(ddgs[subdir+1], 2.5)*KT_KCALMOL)]) # take the negative of these so they match the forward transform values\n",
    "        \n",
    "        \n",
    "        "
   ]
  },
  {
   "cell_type": "code",
   "execution_count": 11,
   "metadata": {},
   "outputs": [
    {
     "data": {
      "text/plain": [
       "[['D35', 'A35', 3.336126966130085, 0.2511789244260599, 0.7054776334808279],\n",
       " ['A35', 'D35', -3.7979227708927055, 0.2858339065570484, 0.6565755680220238],\n",
       " ['D39', 'A39', 13.50881708891592, 0.640085917106573, 2.243367013037025],\n",
       " ['A39', 'D39', -13.18653328570488, 0.4644718961232288, 1.1255460205614227],\n",
       " ['E76', 'A76', 1.5591722615276042, 0.11075527442687495, 0.1928633442989427],\n",
       " ['A76', 'E76', -1.6660112550071136, 0.12398704106335039, 0.24645650791359963],\n",
       " ['E80', 'A80', 0.10775849655404286, 0.1285283470962356, 0.24395328749482975],\n",
       " ['A80',\n",
       "  'E80',\n",
       "  -0.11109210962877476,\n",
       "  0.10625676116493013,\n",
       "  0.22859718966659487],\n",
       " ['K27', 'A27', 3.3004432011463796, 0.4584080754738466, 0.8239359870664225],\n",
       " ['A27', 'K27', -8.429294297039647, 0.6458849033151096, 1.6060259137897255],\n",
       " ['R59', 'A59', 5.308221292831896, 0.24200753465869776, 0.5847513067634669],\n",
       " ['A59', 'R59', -3.561116265242985, 0.1746623462217113, 0.4588809816285142],\n",
       " ['R83', 'Q83', 12.50819032080307, 0.642340268994055, 2.377266348254617],\n",
       " ['Q83', 'R83', -15.118123799814818, 0.7347551574745863, 2.0596550021027795],\n",
       " ['R87', 'A87', 18.45807266893262, 0.6322535940739887, 0.9252355376168637],\n",
       " ['A87', 'R87', -21.72388786195302, 0.70310138357035, 2.36187941384755]]"
      ]
     },
     "execution_count": 11,
     "metadata": {},
     "output_type": "execute_result"
    }
   ],
   "source": [
    "to_plot"
   ]
  },
  {
   "cell_type": "code",
   "execution_count": 12,
   "metadata": {},
   "outputs": [],
   "source": [
    "d = {'WT': 19.0, 'A27': 13.6, 'A59': 13.8, 'Q83': 13.6, 'A87': 13.5, 'A35': 14.5, 'A39': 11.3, 'A76': 17.65, 'A80': 18.5}"
   ]
  },
  {
   "cell_type": "code",
   "execution_count": 13,
   "metadata": {},
   "outputs": [],
   "source": [
    "# experiment = ['# Experiment block', '# Mutant, expt_DDG, expt_dDDG']\n",
    "experiment = []\n",
    "for k in d.keys():\n",
    "    if k == 'WT':\n",
    "        experiment.append(['K27', d['WT']*-1, 0]) # take the negative of everything bc i think hannah subtracts differently\n",
    "        experiment.append(['R59', d['WT']*-1, 0])\n",
    "        experiment.append(['R83', d['WT']*-1, 0])\n",
    "        experiment.append(['R87', d['WT']*-1, 0])\n",
    "        experiment.append(['D35', d['WT']*-1, 0])\n",
    "        experiment.append(['D39', d['WT']*-1, 0])\n",
    "        experiment.append(['E76', d['WT']*-1, 0])\n",
    "        experiment.append(['E80', d['WT']*-1, 0])\n",
    "    else:\n",
    "        experiment.append([k, d[k]*-1, 0])"
   ]
  },
  {
   "cell_type": "code",
   "execution_count": 14,
   "metadata": {},
   "outputs": [
    {
     "data": {
      "text/plain": [
       "[['K27', -19.0, 0],\n",
       " ['R59', -19.0, 0],\n",
       " ['R83', -19.0, 0],\n",
       " ['R87', -19.0, 0],\n",
       " ['D35', -19.0, 0],\n",
       " ['D39', -19.0, 0],\n",
       " ['E76', -19.0, 0],\n",
       " ['E80', -19.0, 0],\n",
       " ['A27', -13.6, 0],\n",
       " ['A59', -13.8, 0],\n",
       " ['Q83', -13.6, 0],\n",
       " ['A87', -13.5, 0],\n",
       " ['A35', -14.5, 0],\n",
       " ['A39', -11.3, 0],\n",
       " ['A76', -17.65, 0],\n",
       " ['A80', -18.5, 0]]"
      ]
     },
     "execution_count": 14,
     "metadata": {},
     "output_type": "execute_result"
    }
   ],
   "source": [
    "experiment"
   ]
  },
  {
   "cell_type": "code",
   "execution_count": 15,
   "metadata": {},
   "outputs": [],
   "source": [
    "pd.DataFrame(experiment + to_plot).to_csv(f\"/data/chodera/zhangi/perses_benchmark/neq/{dir_num}/arsenic_input_charge.csv\", index=False, header=False)\n",
    "# Had to manually add headings, otherwise the lists wouldn't print out as comma separated\n",
    "# Had to remove extra commas in experimental block\n"
   ]
  },
  {
   "cell_type": "code",
   "execution_count": 18,
   "metadata": {
    "scrolled": true
   },
   "outputs": [
    {
     "data": {
      "text/plain": [
       "[['K27', -19.0, 0],\n",
       " ['R59', -19.0, 0],\n",
       " ['R83', -19.0, 0],\n",
       " ['R87', -19.0, 0],\n",
       " ['D35', -19.0, 0],\n",
       " ['D39', -19.0, 0],\n",
       " ['E76', -19.0, 0],\n",
       " ['E80', -19.0, 0],\n",
       " ['A27', -13.6, 0],\n",
       " ['A59', -13.8, 0],\n",
       " ['Q83', -13.6, 0],\n",
       " ['A87', -13.5, 0],\n",
       " ['A35', -14.5, 0],\n",
       " ['A39', -11.3, 0],\n",
       " ['A76', -17.65, 0],\n",
       " ['A80', -18.5, 0],\n",
       " ['D35', 'A35', 3.336126966130085, 0.2511789244260599, 0.7054776334808279],\n",
       " ['A35', 'D35', -3.7979227708927055, 0.2858339065570484, 0.6565755680220238],\n",
       " ['D39', 'A39', 13.50881708891592, 0.640085917106573, 2.243367013037025],\n",
       " ['A39', 'D39', -13.18653328570488, 0.4644718961232288, 1.1255460205614227],\n",
       " ['E76', 'A76', 1.5591722615276042, 0.11075527442687495, 0.1928633442989427],\n",
       " ['A76', 'E76', -1.6660112550071136, 0.12398704106335039, 0.24645650791359963],\n",
       " ['E80', 'A80', 0.10775849655404286, 0.1285283470962356, 0.24395328749482975],\n",
       " ['A80',\n",
       "  'E80',\n",
       "  -0.11109210962877476,\n",
       "  0.10625676116493013,\n",
       "  0.22859718966659487],\n",
       " ['K27', 'A27', 3.3004432011463796, 0.4584080754738466, 0.8239359870664225],\n",
       " ['A27', 'K27', -8.429294297039647, 0.6458849033151096, 1.6060259137897255],\n",
       " ['R59', 'A59', 5.308221292831896, 0.24200753465869776, 0.5847513067634669],\n",
       " ['A59', 'R59', -3.561116265242985, 0.1746623462217113, 0.4588809816285142],\n",
       " ['R83', 'Q83', 12.50819032080307, 0.642340268994055, 2.377266348254617],\n",
       " ['Q83', 'R83', -15.118123799814818, 0.7347551574745863, 2.0596550021027795],\n",
       " ['R87', 'A87', 18.45807266893262, 0.6322535940739887, 0.9252355376168637],\n",
       " ['A87', 'R87', -21.72388786195302, 0.70310138357035, 2.36187941384755]]"
      ]
     },
     "execution_count": 18,
     "metadata": {},
     "output_type": "execute_result"
    }
   ],
   "source": [
    "experiment + to_plot"
   ]
  },
  {
   "cell_type": "markdown",
   "metadata": {},
   "source": [
    "## Make arsenic plot"
   ]
  },
  {
   "cell_type": "code",
   "execution_count": 16,
   "metadata": {
    "scrolled": true
   },
   "outputs": [],
   "source": [
    "import numpy as np\n",
    "\n",
    "%matplotlib inline\n",
    "import matplotlib.pylab as plt\n",
    "\n",
    "from arsenic import plotting, stats, wrangle"
   ]
  },
  {
   "cell_type": "code",
   "execution_count": 47,
   "metadata": {},
   "outputs": [
    {
     "name": "stdout",
     "output_type": "stream",
     "text": [
      "Graph is not connected enough to compute absolute values\n"
     ]
    }
   ],
   "source": [
    "fe = wrangle.FEMap('/data/chodera/zhangi/perses_benchmark/neq/13/arsenic_input_charge.csv')"
   ]
  },
  {
   "cell_type": "code",
   "execution_count": 48,
   "metadata": {},
   "outputs": [
    {
     "data": {
      "image/png": "[encoded data removed]",
      "text/plain": [
       "<Figure size 234x234 with 1 Axes>"
      ]
     },
     "metadata": {
      "needs_background": "light"
     },
     "output_type": "display_data"
    }
   ],
   "source": [
    "plotting.plot_DDGs(fe.graph,target_name='barnase/barstar', title='Charge mutations in barnase/barstar', units=r'$\\mathrm{kcal\\,/mol}$', filename='/data/chodera/zhangi/perses_benchmark/neq/13/arsenic_input_charge.png')\n",
    "# added dpi to savefig() in local version\n",
    "# removed \"/\" in labels in local version"
   ]
  },
  {
   "cell_type": "code",
   "execution_count": null,
   "metadata": {},
   "outputs": [],
   "source": []
  },
  {
   "cell_type": "markdown",
   "metadata": {},
   "source": [
    "# Charge negative mutations"
   ]
  },
  {
   "cell_type": "markdown",
   "metadata": {},
   "source": [
    "## Format the data appropriately for arsenic"
   ]
  },
  {
   "cell_type": "code",
   "execution_count": 21,
   "metadata": {},
   "outputs": [],
   "source": [
    "import numpy as np\n",
    "import pickle\n",
    "from simtk.openmm import unit\n",
    "from openmmtools.constants import kB\n",
    "import pandas as pd\n",
    "KT_KCALMOL = kB * 300 * unit.kelvin / unit.kilocalories_per_mole"
   ]
  },
  {
   "cell_type": "code",
   "execution_count": 22,
   "metadata": {},
   "outputs": [],
   "source": [
    "def compute_binding_ddgs(apo_ddg, complex_ddg):\n",
    "    return (apo_ddg**2 + complex_ddg**2)**0.5"
   ]
  },
  {
   "cell_type": "code",
   "execution_count": 23,
   "metadata": {},
   "outputs": [],
   "source": [
    "title_pairs = [[\"D35A\", \"A35D\"], [\"D39A\", \"A39D\"], [\"E76A\", \"A76E\"], [\"E80A\", \"A80E\"]]\n",
    "dir_num = 13\n",
    "subdirs = list(range(48, 56, 2))\n",
    "# to_plot = ['# Calculated block', '# Mutant1, Mutant2, calc_DDG, calc_dDDG(BAR), calc_dDDG(additional)']\n",
    "to_plot = []\n",
    "for i, subdir in enumerate(subdirs):\n",
    "    with open(f\"/data/chodera/zhangi/perses_benchmark/neq/{dir_num}/{subdir}/ddgs.pickle\", \"rb\") as f:\n",
    "        ddgs = pickle.load(f)\n",
    "    with open(f\"/data/chodera/zhangi/perses_benchmark/neq/{dir_num}/{subdir}/dgs_phase.pickle\", \"rb\") as f:\n",
    "        dgs_phase = pickle.load(f)\n",
    "        \n",
    "        # Compute binding ddgs from BAR\n",
    "        binding_ddgs_forward = []\n",
    "        binding_ddgs_backward = []\n",
    "        for j in range(len(dgs_phase)):\n",
    "            binding_ddgs_forward.append(compute_binding_ddgs(dgs_phase[subdir][j]['apo'][1], dgs_phase[subdir][j]['complex'][1]))\n",
    "            binding_ddgs_backward.append(compute_binding_ddgs(dgs_phase[subdir+1][j]['apo'][1], dgs_phase[subdir+1][j]['complex'][1]))\n",
    "\n",
    "    to_plot.append([title_pairs[i][0][:-1], title_pairs[i][0][-1] + title_pairs[i][0][1:3], np.mean(ddgs[subdir])*KT_KCALMOL, np.mean(binding_ddgs_forward)*KT_KCALMOL, abs(np.mean(ddgs[subdir])*KT_KCALMOL - np.percentile(ddgs[subdir], 2.5)*KT_KCALMOL)])\n",
    "    to_plot.append([title_pairs[i][1][:-1], title_pairs[i][1][-1] + title_pairs[i][1][1:3], np.mean(ddgs[subdir+1])*KT_KCALMOL, np.mean(binding_ddgs_backward)*KT_KCALMOL, abs(np.mean(ddgs[subdir+1])*KT_KCALMOL - np.percentile(ddgs[subdir+1], 2.5)*KT_KCALMOL)]) # take the negative of these so they match the forward transform values\n",
    "        \n",
    "        \n",
    "        "
   ]
  },
  {
   "cell_type": "code",
   "execution_count": 24,
   "metadata": {},
   "outputs": [
    {
     "data": {
      "text/plain": [
       "[['D35', 'A35', 3.336126966130085, 0.2511789244260599, 0.7054776334808279],\n",
       " ['A35', 'D35', -3.7979227708927055, 0.2858339065570484, 0.6565755680220238],\n",
       " ['D39', 'A39', 13.50881708891592, 0.640085917106573, 2.243367013037025],\n",
       " ['A39', 'D39', -13.18653328570488, 0.4644718961232288, 1.1255460205614227],\n",
       " ['E76', 'A76', 1.5591722615276042, 0.11075527442687495, 0.1928633442989427],\n",
       " ['A76', 'E76', -1.6660112550071136, 0.12398704106335039, 0.24645650791359963],\n",
       " ['E80', 'A80', 0.10775849655404286, 0.1285283470962356, 0.24395328749482975],\n",
       " ['A80',\n",
       "  'E80',\n",
       "  -0.11109210962877476,\n",
       "  0.10625676116493013,\n",
       "  0.22859718966659487]]"
      ]
     },
     "execution_count": 24,
     "metadata": {},
     "output_type": "execute_result"
    }
   ],
   "source": [
    "to_plot"
   ]
  },
  {
   "cell_type": "code",
   "execution_count": 25,
   "metadata": {},
   "outputs": [],
   "source": [
    "d = {'WT': 19.0, 'A35': 14.5, 'A39': 11.3, 'A76': 17.65, 'A80': 18.5}"
   ]
  },
  {
   "cell_type": "code",
   "execution_count": 26,
   "metadata": {},
   "outputs": [],
   "source": [
    "# experiment = ['# Experiment block', '# Mutant, expt_DDG, expt_dDDG']\n",
    "experiment = []\n",
    "for k in d.keys():\n",
    "    if k == 'WT':\n",
    "#         experiment.append(['K27', d['WT']*-1, 0]) # take the negative of everything bc i think hannah subtracts differently\n",
    "#         experiment.append(['R59', d['WT']*-1, 0])\n",
    "#         experiment.append(['R83', d['WT']*-1, 0])\n",
    "#         experiment.append(['R87', d['WT']*-1, 0])\n",
    "        experiment.append(['D35', d['WT']*-1, 0])\n",
    "        experiment.append(['D39', d['WT']*-1, 0])\n",
    "        experiment.append(['E76', d['WT']*-1, 0])\n",
    "        experiment.append(['E80', d['WT']*-1, 0])\n",
    "    else:\n",
    "        experiment.append([k, d[k]*-1, 0])"
   ]
  },
  {
   "cell_type": "code",
   "execution_count": 27,
   "metadata": {},
   "outputs": [
    {
     "data": {
      "text/plain": [
       "[['D35', -19.0, 0],\n",
       " ['D39', -19.0, 0],\n",
       " ['E76', -19.0, 0],\n",
       " ['E80', -19.0, 0],\n",
       " ['A35', -14.5, 0],\n",
       " ['A39', -11.3, 0],\n",
       " ['A76', -17.65, 0],\n",
       " ['A80', -18.5, 0]]"
      ]
     },
     "execution_count": 27,
     "metadata": {},
     "output_type": "execute_result"
    }
   ],
   "source": [
    "experiment"
   ]
  },
  {
   "cell_type": "code",
   "execution_count": 28,
   "metadata": {},
   "outputs": [],
   "source": [
    "pd.DataFrame(experiment + to_plot).to_csv(f\"/data/chodera/zhangi/perses_benchmark/neq/{dir_num}/arsenic_input_charge_negative.csv\", index=False, header=False)\n",
    "# Had to manually add headings, otherwise the lists wouldn't print out as comma separated\n",
    "# Had to remove extra commas in experimental block\n"
   ]
  },
  {
   "cell_type": "code",
   "execution_count": 29,
   "metadata": {
    "scrolled": true
   },
   "outputs": [
    {
     "data": {
      "text/plain": [
       "[['D35', -19.0, 0],\n",
       " ['D39', -19.0, 0],\n",
       " ['E76', -19.0, 0],\n",
       " ['E80', -19.0, 0],\n",
       " ['A35', -14.5, 0],\n",
       " ['A39', -11.3, 0],\n",
       " ['A76', -17.65, 0],\n",
       " ['A80', -18.5, 0],\n",
       " ['D35', 'A35', 3.336126966130085, 0.2511789244260599, 0.7054776334808279],\n",
       " ['A35', 'D35', -3.7979227708927055, 0.2858339065570484, 0.6565755680220238],\n",
       " ['D39', 'A39', 13.50881708891592, 0.640085917106573, 2.243367013037025],\n",
       " ['A39', 'D39', -13.18653328570488, 0.4644718961232288, 1.1255460205614227],\n",
       " ['E76', 'A76', 1.5591722615276042, 0.11075527442687495, 0.1928633442989427],\n",
       " ['A76', 'E76', -1.6660112550071136, 0.12398704106335039, 0.24645650791359963],\n",
       " ['E80', 'A80', 0.10775849655404286, 0.1285283470962356, 0.24395328749482975],\n",
       " ['A80',\n",
       "  'E80',\n",
       "  -0.11109210962877476,\n",
       "  0.10625676116493013,\n",
       "  0.22859718966659487]]"
      ]
     },
     "execution_count": 29,
     "metadata": {},
     "output_type": "execute_result"
    }
   ],
   "source": [
    "experiment + to_plot"
   ]
  },
  {
   "cell_type": "markdown",
   "metadata": {},
   "source": [
    "## Make arsenic plot"
   ]
  },
  {
   "cell_type": "code",
   "execution_count": 16,
   "metadata": {
    "scrolled": true
   },
   "outputs": [],
   "source": [
    "import numpy as np\n",
    "\n",
    "%matplotlib inline\n",
    "import matplotlib.pylab as plt\n",
    "\n",
    "from arsenic import plotting, stats, wrangle"
   ]
  },
  {
   "cell_type": "code",
   "execution_count": 49,
   "metadata": {},
   "outputs": [
    {
     "name": "stdout",
     "output_type": "stream",
     "text": [
      "Graph is not connected enough to compute absolute values\n"
     ]
    }
   ],
   "source": [
    "fe = wrangle.FEMap('/data/chodera/zhangi/perses_benchmark/neq/13/arsenic_input_charge_negative.csv')"
   ]
  },
  {
   "cell_type": "code",
   "execution_count": 50,
   "metadata": {},
   "outputs": [
    {
     "data": {
      "image/png": "[encoded data removed]",
      "text/plain": [
       "<Figure size 234x234 with 1 Axes>"
      ]
     },
     "metadata": {
      "needs_background": "light"
     },
     "output_type": "display_data"
    }
   ],
   "source": [
    "plotting.plot_DDGs(fe.graph,target_name='barstar', title='Negative mutations in barstar', units=r'$\\mathrm{kcal\\,/mol}$', filename='/data/chodera/zhangi/perses_benchmark/neq/13/arsenic_input_charge_negative.png')\n",
    "# added dpi to savefig() in local version\n",
    "# removed \"/\" in labels in local version"
   ]
  },
  {
   "cell_type": "code",
   "execution_count": null,
   "metadata": {},
   "outputs": [],
   "source": []
  },
  {
   "cell_type": "markdown",
   "metadata": {},
   "source": [
    "# Charge positive mutations"
   ]
  },
  {
   "cell_type": "markdown",
   "metadata": {},
   "source": [
    "## Format the data appropriately for arsenic"
   ]
  },
  {
   "cell_type": "code",
   "execution_count": 32,
   "metadata": {},
   "outputs": [],
   "source": [
    "import numpy as np\n",
    "import pickle\n",
    "from simtk.openmm import unit\n",
    "from openmmtools.constants import kB\n",
    "import pandas as pd\n",
    "KT_KCALMOL = kB * 300 * unit.kelvin / unit.kilocalories_per_mole"
   ]
  },
  {
   "cell_type": "code",
   "execution_count": 33,
   "metadata": {},
   "outputs": [],
   "source": [
    "def compute_binding_ddgs(apo_ddg, complex_ddg):\n",
    "    return (apo_ddg**2 + complex_ddg**2)**0.5"
   ]
  },
  {
   "cell_type": "code",
   "execution_count": 35,
   "metadata": {},
   "outputs": [],
   "source": [
    "title_pairs = [[\"K27A\", \"A27K\"], [\"R59A\", \"A59R\"], [\"R83Q\", \"Q83R\"], [\"R87A\", \"A87R\"]]\n",
    "dir_num = 13\n",
    "subdirs = list(range(56, 64, 2))\n",
    "# to_plot = ['# Calculated block', '# Mutant1, Mutant2, calc_DDG, calc_dDDG(BAR), calc_dDDG(additional)']\n",
    "to_plot = []\n",
    "for i, subdir in enumerate(subdirs):\n",
    "    with open(f\"/data/chodera/zhangi/perses_benchmark/neq/{dir_num}/{subdir}/ddgs.pickle\", \"rb\") as f:\n",
    "        ddgs = pickle.load(f)\n",
    "    with open(f\"/data/chodera/zhangi/perses_benchmark/neq/{dir_num}/{subdir}/dgs_phase.pickle\", \"rb\") as f:\n",
    "        dgs_phase = pickle.load(f)\n",
    "        \n",
    "        # Compute binding ddgs from BAR\n",
    "        binding_ddgs_forward = []\n",
    "        binding_ddgs_backward = []\n",
    "        for j in range(len(dgs_phase)):\n",
    "            binding_ddgs_forward.append(compute_binding_ddgs(dgs_phase[subdir][j]['apo'][1], dgs_phase[subdir][j]['complex'][1]))\n",
    "            binding_ddgs_backward.append(compute_binding_ddgs(dgs_phase[subdir+1][j]['apo'][1], dgs_phase[subdir+1][j]['complex'][1]))\n",
    "\n",
    "    to_plot.append([title_pairs[i][0][:-1], title_pairs[i][0][-1] + title_pairs[i][0][1:3], np.mean(ddgs[subdir])*KT_KCALMOL, np.mean(binding_ddgs_forward)*KT_KCALMOL, abs(np.mean(ddgs[subdir])*KT_KCALMOL - np.percentile(ddgs[subdir], 2.5)*KT_KCALMOL)])\n",
    "    to_plot.append([title_pairs[i][1][:-1], title_pairs[i][1][-1] + title_pairs[i][1][1:3], np.mean(ddgs[subdir+1])*KT_KCALMOL, np.mean(binding_ddgs_backward)*KT_KCALMOL, abs(np.mean(ddgs[subdir+1])*KT_KCALMOL - np.percentile(ddgs[subdir+1], 2.5)*KT_KCALMOL)]) # take the negative of these so they match the forward transform values\n",
    "        \n",
    "        \n",
    "        "
   ]
  },
  {
   "cell_type": "code",
   "execution_count": 36,
   "metadata": {},
   "outputs": [
    {
     "data": {
      "text/plain": [
       "[['K27', 'A27', 3.3004432011463796, 0.4584080754738466, 0.8239359870664225],\n",
       " ['A27', 'K27', -8.429294297039647, 0.6458849033151096, 1.6060259137897255],\n",
       " ['R59', 'A59', 5.308221292831896, 0.24200753465869776, 0.5847513067634669],\n",
       " ['A59', 'R59', -3.561116265242985, 0.1746623462217113, 0.4588809816285142],\n",
       " ['R83', 'Q83', 12.50819032080307, 0.642340268994055, 2.377266348254617],\n",
       " ['Q83', 'R83', -15.118123799814818, 0.7347551574745863, 2.0596550021027795],\n",
       " ['R87', 'A87', 18.45807266893262, 0.6322535940739887, 0.9252355376168637],\n",
       " ['A87', 'R87', -21.72388786195302, 0.70310138357035, 2.36187941384755]]"
      ]
     },
     "execution_count": 36,
     "metadata": {},
     "output_type": "execute_result"
    }
   ],
   "source": [
    "to_plot"
   ]
  },
  {
   "cell_type": "code",
   "execution_count": 37,
   "metadata": {},
   "outputs": [],
   "source": [
    "d = {'WT': 19.0, 'A27': 13.6, 'A59': 13.8, 'Q83': 13.6, 'A87': 13.5}"
   ]
  },
  {
   "cell_type": "code",
   "execution_count": 38,
   "metadata": {},
   "outputs": [],
   "source": [
    "# experiment = ['# Experiment block', '# Mutant, expt_DDG, expt_dDDG']\n",
    "experiment = []\n",
    "for k in d.keys():\n",
    "    if k == 'WT':\n",
    "        experiment.append(['K27', d['WT']*-1, 0]) # take the negative of everything bc i think hannah subtracts differently\n",
    "        experiment.append(['R59', d['WT']*-1, 0])\n",
    "        experiment.append(['R83', d['WT']*-1, 0])\n",
    "        experiment.append(['R87', d['WT']*-1, 0])\n",
    "#         experiment.append(['D35', d['WT']*-1, 0])\n",
    "#         experiment.append(['D39', d['WT']*-1, 0])\n",
    "#         experiment.append(['E76', d['WT']*-1, 0])\n",
    "#         experiment.append(['E80', d['WT']*-1, 0])\n",
    "    else:\n",
    "        experiment.append([k, d[k]*-1, 0])"
   ]
  },
  {
   "cell_type": "code",
   "execution_count": 39,
   "metadata": {},
   "outputs": [
    {
     "data": {
      "text/plain": [
       "[['K27', -19.0, 0],\n",
       " ['R59', -19.0, 0],\n",
       " ['R83', -19.0, 0],\n",
       " ['R87', -19.0, 0],\n",
       " ['A27', -13.6, 0],\n",
       " ['A59', -13.8, 0],\n",
       " ['Q83', -13.6, 0],\n",
       " ['A87', -13.5, 0]]"
      ]
     },
     "execution_count": 39,
     "metadata": {},
     "output_type": "execute_result"
    }
   ],
   "source": [
    "experiment"
   ]
  },
  {
   "cell_type": "code",
   "execution_count": 40,
   "metadata": {},
   "outputs": [],
   "source": [
    "pd.DataFrame(experiment + to_plot).to_csv(f\"/data/chodera/zhangi/perses_benchmark/neq/{dir_num}/arsenic_input_charge_positive.csv\", index=False, header=False)\n",
    "# Had to manually add headings, otherwise the lists wouldn't print out as comma separated\n",
    "# Had to remove extra commas in experimental block\n"
   ]
  },
  {
   "cell_type": "code",
   "execution_count": 41,
   "metadata": {
    "scrolled": true
   },
   "outputs": [
    {
     "data": {
      "text/plain": [
       "[['K27', -19.0, 0],\n",
       " ['R59', -19.0, 0],\n",
       " ['R83', -19.0, 0],\n",
       " ['R87', -19.0, 0],\n",
       " ['A27', -13.6, 0],\n",
       " ['A59', -13.8, 0],\n",
       " ['Q83', -13.6, 0],\n",
       " ['A87', -13.5, 0],\n",
       " ['K27', 'A27', 3.3004432011463796, 0.4584080754738466, 0.8239359870664225],\n",
       " ['A27', 'K27', -8.429294297039647, 0.6458849033151096, 1.6060259137897255],\n",
       " ['R59', 'A59', 5.308221292831896, 0.24200753465869776, 0.5847513067634669],\n",
       " ['A59', 'R59', -3.561116265242985, 0.1746623462217113, 0.4588809816285142],\n",
       " ['R83', 'Q83', 12.50819032080307, 0.642340268994055, 2.377266348254617],\n",
       " ['Q83', 'R83', -15.118123799814818, 0.7347551574745863, 2.0596550021027795],\n",
       " ['R87', 'A87', 18.45807266893262, 0.6322535940739887, 0.9252355376168637],\n",
       " ['A87', 'R87', -21.72388786195302, 0.70310138357035, 2.36187941384755]]"
      ]
     },
     "execution_count": 41,
     "metadata": {},
     "output_type": "execute_result"
    }
   ],
   "source": [
    "experiment + to_plot"
   ]
  },
  {
   "cell_type": "markdown",
   "metadata": {},
   "source": [
    "## Make arsenic plot"
   ]
  },
  {
   "cell_type": "code",
   "execution_count": 16,
   "metadata": {
    "scrolled": true
   },
   "outputs": [],
   "source": [
    "import numpy as np\n",
    "\n",
    "%matplotlib inline\n",
    "import matplotlib.pylab as plt\n",
    "\n",
    "from arsenic import plotting, stats, wrangle"
   ]
  },
  {
   "cell_type": "code",
   "execution_count": 51,
   "metadata": {},
   "outputs": [
    {
     "name": "stdout",
     "output_type": "stream",
     "text": [
      "Graph is not connected enough to compute absolute values\n"
     ]
    }
   ],
   "source": [
    "fe = wrangle.FEMap('/data/chodera/zhangi/perses_benchmark/neq/13/arsenic_input_charge_positive.csv')"
   ]
  },
  {
   "cell_type": "code",
   "execution_count": 52,
   "metadata": {},
   "outputs": [
    {
     "data": {
      "image/png": "[encoded data removed]",
      "text/plain": [
       "<Figure size 234x234 with 1 Axes>"
      ]
     },
     "metadata": {
      "needs_background": "light"
     },
     "output_type": "display_data"
    }
   ],
   "source": [
    "plotting.plot_DDGs(fe.graph,target_name='barnase', title='Positive mutations in barnase', units=r'$\\mathrm{kcal\\,/mol}$', filename='/data/chodera/zhangi/perses_benchmark/neq/13/arsenic_input_charge_positive.png')\n",
    "# added dpi to savefig() in local version\n",
    "# removed \"/\" in labels in local version"
   ]
  },
  {
   "cell_type": "code",
   "execution_count": null,
   "metadata": {},
   "outputs": [],
   "source": []
  }
 ],
 "metadata": {
  "kernelspec": {
   "display_name": "Python 3",
   "language": "python",
   "name": "python3"
  },
  "language_info": {
   "codemirror_mode": {
    "name": "ipython",
    "version": 3
   },
   "file_extension": ".py",
   "mimetype": "text/x-python",
   "name": "python",
   "nbconvert_exporter": "python",
   "pygments_lexer": "ipython3",
   "version": "3.8.6"
  }
 },
 "nbformat": 4,
 "nbformat_minor": 4
}
