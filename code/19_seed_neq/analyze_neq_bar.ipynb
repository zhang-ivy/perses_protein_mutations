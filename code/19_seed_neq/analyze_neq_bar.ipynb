{
 "cells": [
  {
   "cell_type": "markdown",
   "metadata": {},
   "source": [
    "## Get states for each work trajectory for A42T apo"
   ]
  },
  {
   "cell_type": "code",
   "execution_count": 1,
   "metadata": {},
   "outputs": [],
   "source": [
    "import math\n",
    "from simtk import unit\n",
    "import os\n",
    "import tempfile\n",
    "import pickle\n",
    "import mdtraj as md\n",
    "import numpy as np\n",
    "from simtk.unit.quantity import Quantity\n",
    "import logging\n",
    "\n",
    "# Set up logger\n",
    "_logger = logging.getLogger()\n",
    "_logger.setLevel(logging.INFO)\n",
    "\n",
    "from matplotlib import pyplot as plt\n",
    "from simtk.openmm import app\n",
    "from tqdm import tqdm\n",
    "import argparse\n",
    "import random\n",
    "from simtk.openmm.app import Modeller\n"
   ]
  },
  {
   "cell_type": "code",
   "execution_count": 2,
   "metadata": {},
   "outputs": [],
   "source": [
    "# Get dihedrals\n",
    "def get_dihedrals(i, phase, direction, outdir, htf, dihedral_indices_new, dihedral_indices_old):\n",
    "    # Get topology with solute only\n",
    "    modeller = Modeller(htf._topology_proposal.new_topology, htf.new_positions(htf.hybrid_positions))\n",
    "    modeller.deleteWater()\n",
    "    new_top = md.Topology.from_openmm(modeller.topology)\n",
    "    \n",
    "    # Get last positions from eq positions of each cycle (positions are solute only)\n",
    "    from tqdm import tqdm\n",
    "    all_pos_new = []\n",
    "    for j in tqdm(range(100)):\n",
    "        try:\n",
    "            with open(os.path.join(outdir, f\"{i}_{phase}_{j}_{direction}_eq_new.npy\"), \"rb\") as f:\n",
    "                all_pos_new.append(np.load(f)[-1])\n",
    "        except FileNotFoundError:\n",
    "            pass\n",
    "    print(f\"new files found: {len(all_pos_new)}\")\n",
    "    \n",
    "    # Compute dihedrals\n",
    "    traj = md.Trajectory(np.array(all_pos_new), new_top)\n",
    "    dihedrals_new = md.compute_dihedrals(traj, np.array([dihedral_indices_new]))\n",
    "    \n",
    "    return dihedrals_new"
   ]
  },
  {
   "cell_type": "markdown",
   "metadata": {},
   "source": [
    "#### Get dihedrals for apo"
   ]
  },
  {
   "cell_type": "code",
   "execution_count": 3,
   "metadata": {},
   "outputs": [],
   "source": [
    "outdir = \"/data/chodera/zhangi/perses_benchmark/neq/8/32/\"\n",
    "phase = \"apo\"\n",
    "i = os.path.basename(os.path.dirname(outdir))\n"
   ]
  },
  {
   "cell_type": "code",
   "execution_count": 4,
   "metadata": {},
   "outputs": [],
   "source": [
    "with open(os.path.join(outdir, f\"{i}_{phase}.pickle\"), 'rb') as f:\n",
    "    htf = pickle.load(f)"
   ]
  },
  {
   "cell_type": "code",
   "execution_count": 5,
   "metadata": {},
   "outputs": [
    {
     "name": "stderr",
     "output_type": "stream",
     "text": [
      "100%|██████████| 100/100 [00:07<00:00, 13.86it/s]"
     ]
    },
    {
     "name": "stdout",
     "output_type": "stream",
     "text": [
      "new files found: 100\n"
     ]
    },
    {
     "name": "stderr",
     "output_type": "stream",
     "text": [
      "\n"
     ]
    }
   ],
   "source": [
    "indices_old = [669, 670, 673, 676]\n",
    "indices_new = [669, 670, 673, 681]\n",
    "dihedrals_new_apo = get_dihedrals(i, phase, 'reverse', outdir, htf, indices_new, indices_old)                                       \n"
   ]
  },
  {
   "cell_type": "markdown",
   "metadata": {},
   "source": [
    "#### Get dihedrals for complex"
   ]
  },
  {
   "cell_type": "code",
   "execution_count": 6,
   "metadata": {},
   "outputs": [],
   "source": [
    "outdir = \"/data/chodera/zhangi/perses_benchmark/neq/8/32/\"\n",
    "phase = \"complex\"\n",
    "i = os.path.basename(os.path.dirname(outdir))\n"
   ]
  },
  {
   "cell_type": "code",
   "execution_count": 7,
   "metadata": {},
   "outputs": [],
   "source": [
    "with open(os.path.join(outdir, f\"{i}_{phase}.pickle\"), 'rb') as f:\n",
    "    htf = pickle.load(f)"
   ]
  },
  {
   "cell_type": "code",
   "execution_count": 8,
   "metadata": {},
   "outputs": [
    {
     "name": "stderr",
     "output_type": "stream",
     "text": [
      "100%|██████████| 100/100 [00:09<00:00, 10.31it/s]"
     ]
    },
    {
     "name": "stdout",
     "output_type": "stream",
     "text": [
      "new files found: 86\n"
     ]
    },
    {
     "name": "stderr",
     "output_type": "stream",
     "text": [
      "\n"
     ]
    }
   ],
   "source": [
    "indices_old = [669, 670, 673, 676]\n",
    "indices_new = [669, 670, 673, 681]\n",
    "dihedrals_new_complex = get_dihedrals(i, phase, 'reverse', outdir, htf, indices_new, indices_old)                                       \n"
   ]
  },
  {
   "cell_type": "code",
   "execution_count": 9,
   "metadata": {},
   "outputs": [],
   "source": [
    "# Define indicator function\n",
    "def get_state(dihedral_angle):\n",
    "    if dihedral_angle > 2 or dihedral_angle < -2: # angle is -3 or +3\n",
    "        return 0\n",
    "    elif dihedral_angle < 0 and dihedral_angle > -2: # angle is -1\n",
    "        return 1\n",
    "    elif dihedral_angle > 0 and dihedral_angle < 2: # angle is 1\n",
    "        return 2"
   ]
  },
  {
   "cell_type": "code",
   "execution_count": 10,
   "metadata": {},
   "outputs": [],
   "source": [
    "# Create list of states for each work traj\n",
    "states_apo = [get_state(angle) for angle in dihedrals_new_apo]\n",
    "states_complex = [get_state(angle) for angle in dihedrals_new_complex]"
   ]
  },
  {
   "cell_type": "code",
   "execution_count": 11,
   "metadata": {},
   "outputs": [
    {
     "name": "stdout",
     "output_type": "stream",
     "text": [
      "[1.1350589] 2\n",
      "[0.9519312] 2\n",
      "[0.99091804] 2\n",
      "[1.0220245] 2\n",
      "[0.85237586] 2\n",
      "[0.7690717] 2\n",
      "[1.0254009] 2\n",
      "[1.0545262] 2\n",
      "[1.0863818] 2\n",
      "[1.1159812] 2\n",
      "[0.9495204] 2\n",
      "[0.95707756] 2\n",
      "[1.0249232] 2\n",
      "[1.2395705] 2\n",
      "[0.9133645] 2\n",
      "[0.9510756] 2\n",
      "[0.80702233] 2\n",
      "[1.025932] 2\n",
      "[1.1665367] 2\n",
      "[1.1075946] 2\n",
      "[1.0715319] 2\n",
      "[1.168143] 2\n",
      "[1.1748744] 2\n",
      "[1.053901] 2\n",
      "[1.2148459] 2\n",
      "[1.0535126] 2\n",
      "[1.102988] 2\n",
      "[0.9084216] 2\n",
      "[1.1076078] 2\n",
      "[0.8028065] 2\n",
      "[0.9026468] 2\n",
      "[0.9947068] 2\n",
      "[1.0698489] 2\n",
      "[1.1880423] 2\n",
      "[0.826348] 2\n",
      "[0.94703126] 2\n",
      "[0.9823068] 2\n",
      "[0.8854055] 2\n",
      "[1.1820382] 2\n",
      "[0.9879995] 2\n",
      "[0.79692733] 2\n",
      "[1.146199] 2\n",
      "[1.1336392] 2\n",
      "[1.0943873] 2\n",
      "[1.2063243] 2\n",
      "[1.0782355] 2\n",
      "[1.1564457] 2\n",
      "[0.93194115] 2\n",
      "[1.2651634] 2\n",
      "[0.9097197] 2\n",
      "[1.1455615] 2\n",
      "[1.0782168] 2\n",
      "[1.2819164] 2\n",
      "[1.0093771] 2\n",
      "[1.0505891] 2\n",
      "[1.0486155] 2\n",
      "[1.0963] 2\n",
      "[1.3138486] 2\n",
      "[1.1075588] 2\n",
      "[1.0644315] 2\n",
      "[1.0826398] 2\n",
      "[1.2540532] 2\n",
      "[1.3625408] 2\n",
      "[0.95312244] 2\n"
     ]
    }
   ],
   "source": [
    "for angle in dihedrals_new_complex:\n",
    "    if get_state(angle) == 2:\n",
    "        print(angle, get_state(angle)) "
   ]
  },
  {
   "cell_type": "markdown",
   "metadata": {},
   "source": [
    "## Run estimator"
   ]
  },
  {
   "cell_type": "code",
   "execution_count": 12,
   "metadata": {},
   "outputs": [
    {
     "name": "stderr",
     "output_type": "stream",
     "text": [
      "INFO:numexpr.utils:Note: detected 72 virtual cores but NumExpr set to maximum of 64, check \"NUMEXPR_MAX_THREADS\" environment variable.\n",
      "INFO:numexpr.utils:Note: NumExpr detected 72 cores but \"NUMEXPR_MAX_THREADS\" not set, so enforcing safe limit of 8.\n",
      "INFO:numexpr.utils:NumExpr defaulting to 8 threads.\n",
      "DEBUG:matplotlib.pyplot:Loaded backend agg version unknown.\n",
      "DEBUG:matplotlib.pyplot:Loaded backend module://ipykernel.pylab.backend_inline version unknown.\n"
     ]
    }
   ],
   "source": [
    "from perses.analysis.analysis import Analysis\n",
    "import numpy as np\n",
    "import seaborn as sns\n",
    "import matplotlib.pyplot as plt\n",
    "import pymbar\n",
    "%matplotlib inline\n",
    "import os\n",
    "import itertools\n",
    "from tqdm import tqdm_notebook\n",
    "import pandas as pd"
   ]
  },
  {
   "cell_type": "code",
   "execution_count": 13,
   "metadata": {},
   "outputs": [],
   "source": [
    "def analyze_minh(input_works):\n",
    "    \"\"\"\n",
    "    symmetric protocol free energy that gavin got from plugging in symmetric protocols into bidirectional estimator\n",
    "    \n",
    "    arguments\n",
    "        input_works : np.array(N, 2)\n",
    "            input_works[:,0] is work  accumulated from start to midpoint\n",
    "            input_works[:,1] is work accumulated from midpoint to end\n",
    "    \n",
    "    returns\n",
    "        free_energy : float\n",
    "            reduced free energy\n",
    "    \"\"\"\n",
    "    N = input_works.shape[0]\n",
    "    w_abs, w_bcs = input_works[:,0], input_works[:,1]\n",
    "    w_ab_max, w_bc_max = np.max(w_abs), np.max(w_bcs)\n",
    "    \n",
    "    denominators = np.exp(w_abs - w_ab_max) + np.exp(-w_bcs - w_ab_max)\n",
    "    \n",
    "    return -np.log(2./N) - np.log(np.sum(1./denominators)) + w_ab_max"
   ]
  },
  {
   "cell_type": "code",
   "execution_count": 14,
   "metadata": {},
   "outputs": [],
   "source": [
    "from simtk.openmm import unit\n",
    "from openmmtools.constants import kB\n",
    "KT_KCALMOL = kB * 300 * unit.kelvin / unit.kilocalories_per_mole"
   ]
  },
  {
   "cell_type": "code",
   "execution_count": 15,
   "metadata": {
    "scrolled": true
   },
   "outputs": [
    {
     "name": "stderr",
     "output_type": "stream",
     "text": [
      "/home/zhangi/miniconda3/envs/perses-sims-oct2020/lib/python3.7/site-packages/ipykernel_launcher.py:7: TqdmDeprecationWarning: This function will be removed in tqdm==5.0.0\n",
      "Please use `tqdm.notebook.tqdm` instead of `tqdm.tqdm_notebook`\n",
      "  import sys\n"
     ]
    },
    {
     "data": {
      "application/vnd.jupyter.widget-view+json": {
       "model_id": "17863b8a3d48413db373c77fd7d1698a",
       "version_major": 2,
       "version_minor": 0
      },
      "text/plain": [
       "HBox(children=(HTML(value=''), FloatProgress(value=0.0, max=1.0), HTML(value='')))"
      ]
     },
     "metadata": {},
     "output_type": "display_data"
    },
    {
     "name": "stdout",
     "output_type": "stream",
     "text": [
      "dir: 32\n",
      "job: 0\n",
      "(1, 250001)\n",
      "(1, 250001)\n",
      "(1, 250001)\n",
      "(1, 250001)\n",
      "job: 1\n",
      "(1, 250001)\n",
      "(1, 250001)\n",
      "(1, 250001)\n",
      "(1, 250001)\n",
      "job: 2\n",
      "(1, 250001)\n",
      "(1, 250001)\n",
      "(1, 250001)\n",
      "(1, 250001)\n",
      "job: 3\n",
      "(1, 250001)\n",
      "(1, 250001)\n",
      "(1, 250001)\n",
      "(1, 250001)\n",
      "job: 4\n",
      "(1, 250001)\n",
      "(1, 250001)\n",
      "(1, 250001)\n",
      "(1, 250001)\n",
      "job: 5\n",
      "(1, 250001)\n",
      "(1, 250001)\n",
      "(1, 250001)\n",
      "(1, 250001)\n",
      "job: 6\n",
      "(1, 250001)\n",
      "(1, 250001)\n",
      "(1, 250001)\n",
      "(1, 250001)\n",
      "job: 7\n",
      "(1, 250001)\n",
      "(1, 250001)\n",
      "(1, 250001)\n",
      "(1, 250001)\n",
      "job: 8\n",
      "(1, 250001)\n",
      "(1, 250001)\n",
      "(1, 250001)\n",
      "(1, 250001)\n",
      "job: 9\n",
      "(1, 250001)\n",
      "(1, 250001)\n",
      "job: 10\n",
      "(1, 250001)\n",
      "(1, 250001)\n",
      "job: 11\n",
      "(1, 250001)\n",
      "(1, 250001)\n",
      "(1, 250001)\n",
      "(1, 250001)\n",
      "job: 12\n",
      "(1, 250001)\n",
      "(1, 250001)\n",
      "job: 13\n",
      "(1, 250001)\n",
      "(1, 250001)\n",
      "(1, 250001)\n",
      "(1, 250001)\n",
      "job: 14\n",
      "(1, 250001)\n",
      "(1, 250001)\n",
      "(1, 250001)\n",
      "(1, 250001)\n",
      "job: 15\n",
      "(1, 250001)\n",
      "(1, 250001)\n",
      "(1, 250001)\n",
      "(1, 250001)\n",
      "job: 16\n",
      "(1, 250001)\n",
      "(1, 250001)\n",
      "(1, 250001)\n",
      "(1, 250001)\n",
      "job: 17\n",
      "(1, 250001)\n",
      "(1, 250001)\n",
      "job: 18\n",
      "(1, 250001)\n",
      "(1, 250001)\n",
      "(1, 250001)\n",
      "(1, 250001)\n",
      "job: 19\n",
      "(1, 250001)\n",
      "(1, 250001)\n",
      "(1, 250001)\n",
      "(1, 250001)\n",
      "job: 20\n",
      "(1, 250001)\n",
      "(1, 250001)\n",
      "(1, 250001)\n",
      "(1, 250001)\n",
      "job: 21\n",
      "(1, 250001)\n",
      "(1, 250001)\n",
      "(1, 250001)\n",
      "(1, 250001)\n",
      "job: 22\n",
      "(1, 250001)\n",
      "(1, 250001)\n",
      "job: 23\n",
      "(1, 250001)\n",
      "(1, 250001)\n",
      "job: 24\n",
      "(1, 250001)\n",
      "(1, 250001)\n",
      "(1, 250001)\n",
      "(1, 250001)\n",
      "job: 25\n",
      "(1, 250001)\n",
      "(1, 250001)\n",
      "(1, 250001)\n",
      "(1, 250001)\n",
      "job: 26\n",
      "(1, 250001)\n",
      "(1, 250001)\n",
      "job: 27\n",
      "(1, 250001)\n",
      "(1, 250001)\n",
      "(1, 250001)\n",
      "(1, 250001)\n",
      "job: 28\n",
      "(1, 250001)\n",
      "(1, 250001)\n",
      "job: 29\n",
      "(1, 250001)\n",
      "(1, 250001)\n",
      "(1, 250001)\n",
      "(1, 250001)\n",
      "job: 30\n",
      "(1, 250001)\n",
      "(1, 250001)\n",
      "(1, 250001)\n",
      "(1, 250001)\n",
      "job: 31\n",
      "(1, 250001)\n",
      "(1, 250001)\n",
      "(1, 250001)\n",
      "(1, 250001)\n",
      "job: 32\n",
      "(1, 250001)\n",
      "(1, 250001)\n",
      "job: 33\n",
      "(1, 250001)\n",
      "(1, 250001)\n",
      "(1, 250001)\n",
      "(1, 250001)\n",
      "job: 34\n",
      "(1, 250001)\n",
      "(1, 250001)\n",
      "job: 35\n",
      "(1, 250001)\n",
      "(1, 250001)\n",
      "(1, 250001)\n",
      "(1, 250001)\n",
      "job: 36\n",
      "(1, 250001)\n",
      "(1, 250001)\n",
      "(1, 250001)\n",
      "(1, 250001)\n",
      "job: 37\n",
      "(1, 250001)\n",
      "(1, 250001)\n",
      "(1, 250001)\n",
      "(1, 250001)\n",
      "job: 38\n",
      "(1, 250001)\n",
      "(1, 250001)\n",
      "(1, 250001)\n",
      "(1, 250001)\n",
      "job: 39\n",
      "(1, 250001)\n",
      "(1, 250001)\n",
      "(1, 250001)\n",
      "(1, 250001)\n",
      "job: 40\n",
      "(1, 250001)\n",
      "(1, 250001)\n",
      "(1, 250001)\n",
      "(1, 250001)\n",
      "job: 41\n",
      "(1, 250001)\n",
      "(1, 250001)\n",
      "(1, 250001)\n",
      "(1, 250001)\n",
      "job: 42\n",
      "(1, 250001)\n",
      "(1, 250001)\n",
      "(1, 250001)\n",
      "(1, 250001)\n",
      "job: 43\n",
      "(1, 250001)\n",
      "(1, 250001)\n",
      "(1, 250001)\n",
      "(1, 250001)\n",
      "job: 44\n",
      "(1, 250001)\n",
      "(1, 250001)\n",
      "(1, 250001)\n",
      "(1, 250001)\n",
      "job: 45\n",
      "(1, 250001)\n",
      "(1, 250001)\n",
      "(1, 250001)\n",
      "(1, 250001)\n",
      "job: 46\n",
      "(1, 250001)\n",
      "(1, 250001)\n",
      "(1, 250001)\n",
      "(1, 250001)\n",
      "job: 47\n",
      "(1, 250001)\n",
      "(1, 250001)\n",
      "(1, 250001)\n",
      "(1, 250001)\n",
      "job: 48\n",
      "(1, 250001)\n",
      "(1, 250001)\n",
      "(1, 250001)\n",
      "(1, 250001)\n",
      "job: 49\n",
      "(1, 250001)\n",
      "(1, 250001)\n",
      "(1, 250001)\n",
      "(1, 250001)\n",
      "job: 50\n",
      "(1, 250001)\n",
      "(1, 250001)\n",
      "(1, 250001)\n",
      "(1, 250001)\n",
      "job: 51\n",
      "(1, 250001)\n",
      "(1, 250001)\n",
      "(1, 250001)\n",
      "(1, 250001)\n",
      "job: 52\n",
      "(1, 250001)\n",
      "(1, 250001)\n",
      "(1, 250001)\n",
      "(1, 250001)\n",
      "job: 53\n",
      "(1, 250001)\n",
      "(1, 250001)\n",
      "(1, 250001)\n",
      "(1, 250001)\n",
      "job: 54\n",
      "(1, 250001)\n",
      "(1, 250001)\n",
      "(1, 250001)\n",
      "(1, 250001)\n",
      "job: 55\n",
      "(1, 250001)\n",
      "(1, 250001)\n",
      "(1, 250001)\n",
      "(1, 250001)\n",
      "job: 56\n",
      "(1, 250001)\n",
      "(1, 250001)\n",
      "(1, 250001)\n",
      "(1, 250001)\n",
      "job: 57\n",
      "(1, 250001)\n",
      "(1, 250001)\n",
      "(1, 250001)\n",
      "(1, 250001)\n",
      "job: 58\n",
      "(1, 250001)\n",
      "(1, 250001)\n",
      "(1, 250001)\n",
      "(1, 250001)\n",
      "job: 59\n",
      "(1, 250001)\n",
      "(1, 250001)\n",
      "(1, 250001)\n",
      "(1, 250001)\n",
      "job: 60\n",
      "(1, 250001)\n",
      "(1, 250001)\n",
      "(1, 250001)\n",
      "(1, 250001)\n",
      "job: 61\n",
      "(1, 250001)\n",
      "(1, 250001)\n",
      "job: 62\n",
      "(1, 250001)\n",
      "(1, 250001)\n",
      "(1, 250001)\n",
      "(1, 250001)\n",
      "job: 63\n",
      "(1, 250001)\n",
      "(1, 250001)\n",
      "(1, 250001)\n",
      "(1, 250001)\n",
      "job: 64\n",
      "(1, 250001)\n",
      "(1, 250001)\n",
      "(1, 250001)\n",
      "(1, 250001)\n",
      "job: 65\n",
      "(1, 250001)\n",
      "(1, 250001)\n",
      "(1, 250001)\n",
      "(1, 250001)\n",
      "job: 66\n",
      "(1, 250001)\n",
      "(1, 250001)\n",
      "(1, 250001)\n",
      "(1, 250001)\n",
      "job: 67\n",
      "(1, 250001)\n",
      "(1, 250001)\n",
      "(1, 250001)\n",
      "(1, 250001)\n",
      "job: 68\n",
      "(1, 250001)\n",
      "(1, 250001)\n",
      "(1, 250001)\n",
      "(1, 250001)\n",
      "job: 69\n",
      "(1, 250001)\n",
      "(1, 250001)\n",
      "(1, 250001)\n",
      "(1, 250001)\n",
      "job: 70\n",
      "(1, 250001)\n",
      "(1, 250001)\n",
      "(1, 250001)\n",
      "(1, 250001)\n",
      "job: 71\n",
      "(1, 250001)\n",
      "(1, 250001)\n",
      "(1, 250001)\n",
      "(1, 250001)\n",
      "job: 72\n",
      "(1, 250001)\n",
      "(1, 250001)\n",
      "(1, 250001)\n",
      "(1, 250001)\n",
      "job: 73\n",
      "(1, 250001)\n",
      "(1, 250001)\n",
      "(1, 250001)\n",
      "(1, 250001)\n",
      "job: 74\n",
      "(1, 250001)\n",
      "(1, 250001)\n",
      "job: 75\n",
      "(1, 250001)\n",
      "(1, 250001)\n",
      "(1, 250001)\n",
      "(1, 250001)\n",
      "job: 76\n",
      "(1, 250001)\n",
      "(1, 250001)\n",
      "(1, 250001)\n",
      "(1, 250001)\n",
      "job: 77\n",
      "(1, 250001)\n",
      "(1, 250001)\n",
      "job: 78\n",
      "(1, 250001)\n",
      "(1, 250001)\n",
      "(1, 250001)\n",
      "(1, 250001)\n",
      "job: 79\n",
      "(1, 250001)\n",
      "(1, 250001)\n",
      "(1, 250001)\n",
      "(1, 250001)\n",
      "job: 80\n",
      "(1, 250001)\n",
      "(1, 250001)\n",
      "(1, 250001)\n",
      "(1, 250001)\n",
      "job: 81\n",
      "(1, 250001)\n",
      "(1, 250001)\n",
      "(1, 250001)\n",
      "(1, 250001)\n",
      "job: 82\n",
      "(1, 250001)\n",
      "(1, 250001)\n",
      "(1, 250001)\n",
      "(1, 250001)\n",
      "job: 83\n",
      "(1, 250001)\n",
      "(1, 250001)\n",
      "(1, 250001)\n",
      "(1, 250001)\n",
      "job: 84\n",
      "(1, 250001)\n",
      "(1, 250001)\n",
      "(1, 250001)\n",
      "(1, 250001)\n",
      "job: 85\n",
      "(1, 250001)\n",
      "(1, 250001)\n",
      "(1, 250001)\n",
      "(1, 250001)\n",
      "job: 86\n",
      "(1, 250001)\n",
      "(1, 250001)\n",
      "(1, 250001)\n",
      "(1, 250001)\n",
      "job: 87\n",
      "(1, 250001)\n",
      "(1, 250001)\n",
      "(1, 250001)\n",
      "(1, 250001)\n",
      "job: 88\n",
      "(1, 250001)\n",
      "(1, 250001)\n",
      "(1, 250001)\n",
      "(1, 250001)\n",
      "job: 89\n",
      "(1, 250001)\n",
      "(1, 250001)\n",
      "(1, 250001)\n",
      "(1, 250001)\n",
      "job: 90\n",
      "(1, 250001)\n",
      "(1, 250001)\n",
      "(1, 250001)\n",
      "(1, 250001)\n",
      "job: 91\n",
      "(1, 250001)\n",
      "(1, 250001)\n",
      "(1, 250001)\n",
      "(1, 250001)\n",
      "job: 92\n",
      "(1, 250001)\n",
      "(1, 250001)\n",
      "job: 93\n",
      "(1, 250001)\n",
      "(1, 250001)\n",
      "(1, 250001)\n",
      "(1, 250001)\n",
      "job: 94\n",
      "(1, 250001)\n",
      "(1, 250001)\n",
      "(1, 250001)\n",
      "(1, 250001)\n",
      "job: 95\n",
      "(1, 250001)\n",
      "(1, 250001)\n",
      "(1, 250001)\n",
      "(1, 250001)\n",
      "job: 96\n",
      "(1, 250001)\n",
      "(1, 250001)\n",
      "(1, 250001)\n",
      "(1, 250001)\n",
      "job: 97\n",
      "(1, 250001)\n",
      "(1, 250001)\n",
      "(1, 250001)\n",
      "(1, 250001)\n",
      "job: 98\n",
      "(1, 250001)\n",
      "(1, 250001)\n",
      "(1, 250001)\n",
      "(1, 250001)\n",
      "job: 99\n",
      "(1, 250001)\n",
      "(1, 250001)\n",
      "(1, 250001)\n",
      "(1, 250001)\n",
      "\n"
     ]
    }
   ],
   "source": [
    "# Prep work arrays (from distributed jobs) and call analyze()\n",
    "# titles = [\"T42A\", \"A42T\", \"Y29A\", \"A29Y\", \"W38F\", \"F38W\", \"W44F\", \"F44W\", \"Y29F\", \"F29Y\"]\n",
    "titles = [\"A42T\"]\n",
    "d_results = {}\n",
    "d_phases = {}\n",
    "first = 32\n",
    "for i in tqdm_notebook([32]):\n",
    "    print(f\"dir: {i}\")\n",
    "    # Load and combine arrays\n",
    "    forward_complex_arrays = []\n",
    "    reverse_complex_arrays = []\n",
    "    forward_apo_arrays = []\n",
    "    reverse_apo_arrays = []\n",
    "    for j in range(100):\n",
    "        print(f\"job: {j}\")\n",
    "        forward_complex_path = f'/data/chodera/zhangi/perses_benchmark/neq/8/{i}/{i}_complex_{j}_forward.npy'\n",
    "        reverse_complex_path = f'/data/chodera/zhangi/perses_benchmark/neq/8/{i}/{i}_complex_{j}_reverse.npy'\n",
    "        forward_apo_path = f'/data/chodera/zhangi/perses_benchmark/neq/8/{i}/{i}_apo_{j}_forward.npy'\n",
    "        reverse_apo_path = f'/data/chodera/zhangi/perses_benchmark/neq/8/{i}/{i}_apo_{j}_reverse.npy'\n",
    "        if os.path.exists(forward_complex_path):\n",
    "            with open(forward_complex_path, 'rb') as f:\n",
    "                array = np.load(f)\n",
    "                forward_complex_arrays.append(array)\n",
    "                print(array.shape)\n",
    "        if os.path.exists(reverse_complex_path):\n",
    "            with open(reverse_complex_path, 'rb') as f:\n",
    "                array = np.load(f)\n",
    "                reverse_complex_arrays.append(array)\n",
    "                print(array.shape)\n",
    "        if os.path.exists(forward_apo_path):\n",
    "            with open(forward_apo_path, 'rb') as f:\n",
    "                array = np.load(f)\n",
    "                forward_apo_arrays.append(array)\n",
    "                print(array.shape)\n",
    "        if os.path.exists(reverse_apo_path):\n",
    "            with open(reverse_apo_path, 'rb') as f:\n",
    "                array = np.load(f)\n",
    "                print(array.shape)\n",
    "                reverse_apo_arrays.append(array)\n"
   ]
  },
  {
   "cell_type": "code",
   "execution_count": 16,
   "metadata": {},
   "outputs": [
    {
     "name": "stderr",
     "output_type": "stream",
     "text": [
      "/home/zhangi/miniconda3/envs/perses-sims-oct2020/lib/python3.7/site-packages/seaborn/distributions.py:2551: FutureWarning: `distplot` is a deprecated function and will be removed in a future version. Please adapt your code to use either `displot` (a figure-level function with similar flexibility) or `histplot` (an axes-level function for histograms).\n",
      "  warnings.warn(msg, FutureWarning)\n",
      "/home/zhangi/miniconda3/envs/perses-sims-oct2020/lib/python3.7/site-packages/seaborn/distributions.py:305: UserWarning: Dataset has 0 variance; skipping density estimate.\n",
      "  warnings.warn(msg, UserWarning)\n",
      "/home/zhangi/miniconda3/envs/perses-sims-oct2020/lib/python3.7/site-packages/seaborn/distributions.py:2551: FutureWarning: `distplot` is a deprecated function and will be removed in a future version. Please adapt your code to use either `displot` (a figure-level function with similar flexibility) or `histplot` (an axes-level function for histograms).\n",
      "  warnings.warn(msg, FutureWarning)\n",
      "/home/zhangi/miniconda3/envs/perses-sims-oct2020/lib/python3.7/site-packages/seaborn/distributions.py:305: UserWarning: Dataset has 0 variance; skipping density estimate.\n",
      "  warnings.warn(msg, UserWarning)\n",
      "/home/zhangi/miniconda3/envs/perses-sims-oct2020/lib/python3.7/site-packages/seaborn/distributions.py:2551: FutureWarning: `distplot` is a deprecated function and will be removed in a future version. Please adapt your code to use either `displot` (a figure-level function with similar flexibility) or `histplot` (an axes-level function for histograms).\n",
      "  warnings.warn(msg, FutureWarning)\n",
      "/home/zhangi/miniconda3/envs/perses-sims-oct2020/lib/python3.7/site-packages/seaborn/distributions.py:2551: FutureWarning: `distplot` is a deprecated function and will be removed in a future version. Please adapt your code to use either `displot` (a figure-level function with similar flexibility) or `histplot` (an axes-level function for histograms).\n",
      "  warnings.warn(msg, FutureWarning)\n",
      "/home/zhangi/miniconda3/envs/perses-sims-oct2020/lib/python3.7/site-packages/seaborn/distributions.py:2551: FutureWarning: `distplot` is a deprecated function and will be removed in a future version. Please adapt your code to use either `displot` (a figure-level function with similar flexibility) or `histplot` (an axes-level function for histograms).\n",
      "  warnings.warn(msg, FutureWarning)\n",
      "/home/zhangi/miniconda3/envs/perses-sims-oct2020/lib/python3.7/site-packages/seaborn/distributions.py:2551: FutureWarning: `distplot` is a deprecated function and will be removed in a future version. Please adapt your code to use either `displot` (a figure-level function with similar flexibility) or `histplot` (an axes-level function for histograms).\n",
      "  warnings.warn(msg, FutureWarning)\n",
      "DEBUG:matplotlib.font_manager:findfont: Matching sans\\-serif:style=normal:variant=normal:weight=normal:stretch=normal:size=10.0.\n",
      "DEBUG:matplotlib.font_manager:findfont: score(<Font 'cmb10' (cmb10.ttf) normal normal 400 normal>) = 10.05\n",
      "DEBUG:matplotlib.font_manager:findfont: score(<Font 'DejaVu Sans Mono' (DejaVuSansMono-Oblique.ttf) oblique normal 400 normal>) = 11.05\n",
      "DEBUG:matplotlib.font_manager:findfont: score(<Font 'STIXGeneral' (STIXGeneral.ttf) normal normal 400 normal>) = 10.05\n",
      "DEBUG:matplotlib.font_manager:findfont: score(<Font 'cmtt10' (cmtt10.ttf) normal normal 400 normal>) = 10.05\n",
      "DEBUG:matplotlib.font_manager:findfont: score(<Font 'DejaVu Sans Display' (DejaVuSansDisplay.ttf) normal normal 400 normal>) = 10.05\n",
      "DEBUG:matplotlib.font_manager:findfont: score(<Font 'STIXSizeFourSym' (STIXSizFourSymReg.ttf) normal normal 400 normal>) = 10.05\n",
      "DEBUG:matplotlib.font_manager:findfont: score(<Font 'cmss10' (cmss10.ttf) normal normal 400 normal>) = 10.05\n",
      "DEBUG:matplotlib.font_manager:findfont: score(<Font 'cmsy10' (cmsy10.ttf) normal normal 400 normal>) = 10.05\n",
      "DEBUG:matplotlib.font_manager:findfont: score(<Font 'DejaVu Serif' (DejaVuSerif.ttf) normal normal 400 normal>) = 10.05\n",
      "DEBUG:matplotlib.font_manager:findfont: score(<Font 'STIXSizeFourSym' (STIXSizFourSymBol.ttf) normal normal 700 normal>) = 10.335\n",
      "DEBUG:matplotlib.font_manager:findfont: score(<Font 'DejaVu Serif Display' (DejaVuSerifDisplay.ttf) normal normal 400 normal>) = 10.05\n",
      "DEBUG:matplotlib.font_manager:findfont: score(<Font 'STIXSizeThreeSym' (STIXSizThreeSymReg.ttf) normal normal 400 normal>) = 10.05\n",
      "DEBUG:matplotlib.font_manager:findfont: score(<Font 'STIXGeneral' (STIXGeneralItalic.ttf) italic normal 400 normal>) = 11.05\n",
      "DEBUG:matplotlib.font_manager:findfont: score(<Font 'STIXSizeOneSym' (STIXSizOneSymReg.ttf) normal normal 400 normal>) = 10.05\n",
      "DEBUG:matplotlib.font_manager:findfont: score(<Font 'DejaVu Sans Mono' (DejaVuSansMono-BoldOblique.ttf) oblique normal 700 normal>) = 11.335\n",
      "DEBUG:matplotlib.font_manager:findfont: score(<Font 'DejaVu Sans' (DejaVuSans-Oblique.ttf) oblique normal 400 normal>) = 1.05\n",
      "DEBUG:matplotlib.font_manager:findfont: score(<Font 'DejaVu Sans' (DejaVuSans-BoldOblique.ttf) oblique normal 700 normal>) = 1.335\n",
      "DEBUG:matplotlib.font_manager:findfont: score(<Font 'DejaVu Sans Mono' (DejaVuSansMono.ttf) normal normal 400 normal>) = 10.05\n",
      "DEBUG:matplotlib.font_manager:findfont: score(<Font 'STIXSizeTwoSym' (STIXSizTwoSymReg.ttf) normal normal 400 normal>) = 10.05\n",
      "DEBUG:matplotlib.font_manager:findfont: score(<Font 'cmr10' (cmr10.ttf) normal normal 400 normal>) = 10.05\n",
      "DEBUG:matplotlib.font_manager:findfont: score(<Font 'STIXNonUnicode' (STIXNonUniIta.ttf) italic normal 400 normal>) = 11.05\n",
      "DEBUG:matplotlib.font_manager:findfont: score(<Font 'STIXGeneral' (STIXGeneralBolIta.ttf) italic normal 700 normal>) = 11.335\n",
      "DEBUG:matplotlib.font_manager:findfont: score(<Font 'DejaVu Serif' (DejaVuSerif-Bold.ttf) normal normal 700 normal>) = 10.335\n",
      "DEBUG:matplotlib.font_manager:findfont: score(<Font 'DejaVu Serif' (DejaVuSerif-Italic.ttf) italic normal 400 normal>) = 11.05\n",
      "DEBUG:matplotlib.font_manager:findfont: score(<Font 'STIXNonUnicode' (STIXNonUniBolIta.ttf) italic normal 700 normal>) = 11.335\n",
      "DEBUG:matplotlib.font_manager:findfont: score(<Font 'STIXSizeTwoSym' (STIXSizTwoSymBol.ttf) normal normal 700 normal>) = 10.335\n",
      "DEBUG:matplotlib.font_manager:findfont: score(<Font 'DejaVu Serif' (DejaVuSerif-BoldItalic.ttf) italic normal 700 normal>) = 11.335\n",
      "DEBUG:matplotlib.font_manager:findfont: score(<Font 'STIXNonUnicode' (STIXNonUni.ttf) normal normal 400 normal>) = 10.05\n",
      "DEBUG:matplotlib.font_manager:findfont: score(<Font 'DejaVu Sans' (DejaVuSans-Bold.ttf) normal normal 700 normal>) = 0.33499999999999996\n",
      "DEBUG:matplotlib.font_manager:findfont: score(<Font 'STIXSizeOneSym' (STIXSizOneSymBol.ttf) normal normal 700 normal>) = 10.335\n",
      "DEBUG:matplotlib.font_manager:findfont: score(<Font 'DejaVu Sans Mono' (DejaVuSansMono-Bold.ttf) normal normal 700 normal>) = 10.335\n",
      "DEBUG:matplotlib.font_manager:findfont: score(<Font 'STIXSizeThreeSym' (STIXSizThreeSymBol.ttf) normal normal 700 normal>) = 10.335\n",
      "DEBUG:matplotlib.font_manager:findfont: score(<Font 'cmmi10' (cmmi10.ttf) normal normal 400 normal>) = 10.05\n",
      "DEBUG:matplotlib.font_manager:findfont: score(<Font 'STIXSizeFiveSym' (STIXSizFiveSymReg.ttf) normal normal 400 normal>) = 10.05\n",
      "DEBUG:matplotlib.font_manager:findfont: score(<Font 'DejaVu Sans' (DejaVuSans.ttf) normal normal 400 normal>) = 0.05\n",
      "DEBUG:matplotlib.font_manager:findfont: score(<Font 'STIXGeneral' (STIXGeneralBol.ttf) normal normal 700 normal>) = 10.335\n",
      "DEBUG:matplotlib.font_manager:findfont: score(<Font 'cmex10' (cmex10.ttf) normal normal 400 normal>) = 10.05\n",
      "DEBUG:matplotlib.font_manager:findfont: score(<Font 'STIXNonUnicode' (STIXNonUniBol.ttf) normal normal 700 normal>) = 10.335\n",
      "DEBUG:matplotlib.font_manager:findfont: score(<Font 'DejaVu Sans Mono' (DejaVuSansMono-Oblique.ttf) oblique normal 400 normal>) = 11.05\n",
      "DEBUG:matplotlib.font_manager:findfont: score(<Font 'DejaVu Sans Mono' (DejaVuSansMono-Bold.ttf) normal normal 700 normal>) = 10.335\n",
      "DEBUG:matplotlib.font_manager:findfont: score(<Font 'DejaVu Sans' (DejaVuSans-ExtraLight.ttf) normal normal 200 normal>) = 0.24\n",
      "DEBUG:matplotlib.font_manager:findfont: score(<Font 'STIX' (STIX-BoldItalic.otf) italic normal 700 normal>) = 11.335\n",
      "DEBUG:matplotlib.font_manager:findfont: score(<Font 'DejaVu Sans Mono' (DejaVuSansMono-BoldOblique.ttf) oblique normal 700 normal>) = 11.335\n"
     ]
    },
    {
     "name": "stderr",
     "output_type": "stream",
     "text": [
      "DEBUG:matplotlib.font_manager:findfont: score(<Font 'Liberation Sans' (LiberationSans-BoldItalic.ttf) italic normal 700 normal>) = 11.335\n",
      "DEBUG:matplotlib.font_manager:findfont: score(<Font 'DejaVu Sans' (DejaVuSansCondensed.ttf) normal normal 400 condensed>) = 0.25\n",
      "DEBUG:matplotlib.font_manager:findfont: score(<Font 'DejaVu Sans' (DejaVuSans-BoldOblique.ttf) oblique normal 700 normal>) = 1.335\n",
      "DEBUG:matplotlib.font_manager:findfont: score(<Font 'DejaVu Sans' (DejaVuSans.ttf) normal normal 400 normal>) = 0.05\n",
      "DEBUG:matplotlib.font_manager:findfont: score(<Font 'Liberation Sans' (LiberationSans-Regular.ttf) normal normal 400 normal>) = 10.05\n",
      "DEBUG:matplotlib.font_manager:findfont: score(<Font 'STIX' (STIX-Regular.otf) normal normal 400 normal>) = 10.05\n",
      "DEBUG:matplotlib.font_manager:findfont: score(<Font 'Liberation Sans' (LiberationSans-Bold.ttf) normal normal 700 normal>) = 10.335\n",
      "DEBUG:matplotlib.font_manager:findfont: score(<Font 'STIX' (STIX-Italic.otf) italic normal 400 normal>) = 11.05\n",
      "DEBUG:matplotlib.font_manager:findfont: score(<Font 'DejaVu Sans' (DejaVuSans-Bold.ttf) normal normal 700 normal>) = 0.33499999999999996\n",
      "DEBUG:matplotlib.font_manager:findfont: score(<Font 'DejaVu Sans' (DejaVuSansCondensed-BoldOblique.ttf) oblique normal 700 condensed>) = 1.535\n",
      "DEBUG:matplotlib.font_manager:findfont: score(<Font 'DejaVu Sans' (DejaVuSansCondensed-Bold.ttf) normal normal 700 condensed>) = 0.5349999999999999\n",
      "DEBUG:matplotlib.font_manager:findfont: score(<Font 'DejaVu Sans' (DejaVuSansCondensed-Oblique.ttf) oblique normal 400 condensed>) = 1.25\n",
      "DEBUG:matplotlib.font_manager:findfont: score(<Font 'STIX' (STIX-Bold.otf) normal normal 700 normal>) = 10.335\n",
      "DEBUG:matplotlib.font_manager:findfont: score(<Font 'DejaVu Sans Mono' (DejaVuSansMono.ttf) normal normal 400 normal>) = 10.05\n",
      "DEBUG:matplotlib.font_manager:findfont: score(<Font 'DejaVu Sans' (DejaVuSans-Oblique.ttf) oblique normal 400 normal>) = 1.05\n",
      "DEBUG:matplotlib.font_manager:findfont: score(<Font 'Liberation Sans' (LiberationSans-Italic.ttf) italic normal 400 normal>) = 11.05\n",
      "DEBUG:matplotlib.font_manager:findfont: Matching sans\\-serif:style=normal:variant=normal:weight=normal:stretch=normal:size=10.0 to DejaVu Sans ('/home/zhangi/miniconda3/envs/perses-sims-oct2020/lib/python3.7/site-packages/matplotlib/mpl-data/fonts/ttf/DejaVuSans.ttf') with score of 0.050000.\n"
     ]
    },
    {
     "data": {
      "image/png": "[encoded data removed]",
      "text/plain": [
       "<Figure size 432x288 with 1 Axes>"
      ]
     },
     "metadata": {
      "needs_background": "light"
     },
     "output_type": "display_data"
    }
   ],
   "source": [
    "if forward_complex_arrays and reverse_complex_arrays and forward_apo_arrays and reverse_apo_arrays:\n",
    "    \n",
    "    # Get forward and reverse accumulated works\n",
    "    forward_complex_combined = np.concatenate(forward_complex_arrays)\n",
    "    forward_complex_accumulated = np.array([cycle[-1] - cycle[0] for cycle in forward_complex_combined]) # compute this separately bc the last value of the subsampled array is diff than the actual last sample\n",
    "    \n",
    "    reverse_complex_combined = np.concatenate(reverse_complex_arrays)\n",
    "    reverse_complex_accumulated = np.array([cycle[-1] - cycle[0] for cycle in reverse_complex_combined])\n",
    "        \n",
    "    forward_apo_combined = np.concatenate(forward_apo_arrays)\n",
    "    forward_apo_accumulated = np.array([cycle[-1] - cycle[0] for cycle in forward_apo_combined])\n",
    "\n",
    "    reverse_apo_combined = np.concatenate(reverse_apo_arrays)\n",
    "    reverse_apo_accumulated = np.array([cycle[-1] - cycle[0] for cycle in reverse_apo_combined])\n",
    "\n",
    "    # Prep input for estimator\n",
    "    d_input_works = {}\n",
    "    d_input_works['apo'] = {}\n",
    "    d_input_works['complex'] = {}\n",
    "    d_input_works['apo'][0], d_input_works['apo'][1], d_input_works['apo'][2] = list(), list(), list()\n",
    "    d_input_works['complex'][0], d_input_works['complex'][1], d_input_works['complex'][2] = list(), list(), list()\n",
    "    n_cycles_apo = len(forward_apo_arrays)\n",
    "    for i in range(n_cycles_apo):\n",
    "        state = states_apo[i]\n",
    "        d_input_works['apo'][state].append([forward_apo_accumulated[i], reverse_apo_accumulated[i]])\n",
    "        \n",
    "    n_cycles_complex = len(forward_complex_arrays)\n",
    "    for i in range(n_cycles_complex):\n",
    "        state = states_complex[i]\n",
    "        d_input_works['complex'][state].append([forward_complex_accumulated[i], reverse_complex_accumulated[i]])\n",
    "\n",
    "        \n",
    "    # Plot work distributions\n",
    "#     colors = [['blue', 'cyan'], ['red', 'orange'], ['green', 'forestgreen'] ]\n",
    "    for i in range(3):\n",
    "        sns.distplot(np.array(d_input_works['apo'][i])[:,0], label=f\"state{i}f\")\n",
    "        sns.distplot(np.array(d_input_works['apo'][i])[:,1]*-1, label=f\"state{i}r\")\n",
    "#     plt.axvline(dg)\n",
    "#     plt.axvline(dg + ddg, linestyle='dashed')\n",
    "#     plt.axvline(dg - ddg, linestyle='dashed')\n",
    "    plt.xlabel(\"work (kT)\")\n",
    "    plt.ylabel(\"p(w)\")\n",
    "    plt.legend()\n",
    "    plt.show()\n",
    "#     plt.title(f\"{title} {phase}\")\n",
    "#     plt.savefig(os.path.join(output_dir, f\"{dir_num}_{phase}_work_dist.png\"), dpi=500)\n",
    "#     print(f\"saved to: {os.path.join(output_dir, f'{dir_num}_{phase}_work_dist.png')}\")\n",
    "#     plt.clf()    \n",
    "else:\n",
    "    print(f\"dir {i} has at least one phase without data\" )"
   ]
  },
  {
   "cell_type": "code",
   "execution_count": 17,
   "metadata": {
    "scrolled": true
   },
   "outputs": [
    {
     "name": "stderr",
     "output_type": "stream",
     "text": [
      "100%|██████████| 10000/10000 [00:17<00:00, 564.19it/s]\n",
      "/home/zhangi/miniconda3/envs/perses-sims-oct2020/lib/python3.7/site-packages/seaborn/distributions.py:2551: FutureWarning: `distplot` is a deprecated function and will be removed in a future version. Please adapt your code to use either `displot` (a figure-level function with similar flexibility) or `histplot` (an axes-level function for histograms).\n",
      "  warnings.warn(msg, FutureWarning)\n",
      "/home/zhangi/miniconda3/envs/perses-sims-oct2020/lib/python3.7/site-packages/seaborn/distributions.py:2055: FutureWarning: The `axis` variable is no longer used and will be removed. Instead, assign variables directly to `x` or `y`.\n",
      "  warnings.warn(msg, FutureWarning)\n",
      "/home/zhangi/miniconda3/envs/perses-sims-oct2020/lib/python3.7/site-packages/seaborn/distributions.py:2551: FutureWarning: `distplot` is a deprecated function and will be removed in a future version. Please adapt your code to use either `displot` (a figure-level function with similar flexibility) or `histplot` (an axes-level function for histograms).\n",
      "  warnings.warn(msg, FutureWarning)\n",
      "/home/zhangi/miniconda3/envs/perses-sims-oct2020/lib/python3.7/site-packages/seaborn/distributions.py:2055: FutureWarning: The `axis` variable is no longer used and will be removed. Instead, assign variables directly to `x` or `y`.\n",
      "  warnings.warn(msg, FutureWarning)\n"
     ]
    },
    {
     "data": {
      "image/png": "[encoded data removed]",
      "text/plain": [
       "<Figure size 432x288 with 1 Axes>"
      ]
     },
     "metadata": {
      "needs_background": "light"
     },
     "output_type": "display_data"
    }
   ],
   "source": [
    "import tqdm\n",
    "all_free_energies = []\n",
    "for state in [1]:\n",
    "    N_bootstraps = 10000\n",
    "    free_energies = []\n",
    "    free_energies_minh = []\n",
    "    work_array = np.array(d_input_works['apo'][state])\n",
    "    num_samples = work_array.shape[0]\n",
    "    for i in tqdm.trange(N_bootstraps):\n",
    "        subsample_indices = np.random.choice(range(num_samples), num_samples)\n",
    "        dg, ddg = pymbar.bar.BAR(work_array[subsample_indices][:,0], work_array[subsample_indices][:,1])\n",
    "        free_energies.append(dg)\n",
    "        free_energies_minh.append(analyze_minh(work_array[subsample_indices]))\n",
    "    sns.distplot(np.array(free_energies), label=f\"state{state}free energy\", rug=True)\n",
    "    sns.distplot(np.array(free_energies_minh), label=f\"state{state}free energy\", rug=True)\n",
    "#     sns.distplot(work_array[:,0], label=f\"state{state}f\", rug=True)\n",
    "#     sns.distplot(work_array[:,1]*-1, label=f\"state{state}r\", rug=True)\n",
    "    all_free_energies.append(free_energies)\n",
    "plt.legend()\n",
    "plt.show()"
   ]
  },
  {
   "cell_type": "code",
   "execution_count": 18,
   "metadata": {
    "scrolled": true
   },
   "outputs": [
    {
     "name": "stderr",
     "output_type": "stream",
     "text": [
      "100%|██████████| 10000/10000 [00:16<00:00, 592.77it/s]\n",
      "/home/zhangi/miniconda3/envs/perses-sims-oct2020/lib/python3.7/site-packages/seaborn/distributions.py:2551: FutureWarning: `distplot` is a deprecated function and will be removed in a future version. Please adapt your code to use either `displot` (a figure-level function with similar flexibility) or `histplot` (an axes-level function for histograms).\n",
      "  warnings.warn(msg, FutureWarning)\n",
      "/home/zhangi/miniconda3/envs/perses-sims-oct2020/lib/python3.7/site-packages/seaborn/distributions.py:2055: FutureWarning: The `axis` variable is no longer used and will be removed. Instead, assign variables directly to `x` or `y`.\n",
      "  warnings.warn(msg, FutureWarning)\n",
      "/home/zhangi/miniconda3/envs/perses-sims-oct2020/lib/python3.7/site-packages/seaborn/distributions.py:2551: FutureWarning: `distplot` is a deprecated function and will be removed in a future version. Please adapt your code to use either `displot` (a figure-level function with similar flexibility) or `histplot` (an axes-level function for histograms).\n",
      "  warnings.warn(msg, FutureWarning)\n",
      "/home/zhangi/miniconda3/envs/perses-sims-oct2020/lib/python3.7/site-packages/seaborn/distributions.py:2055: FutureWarning: The `axis` variable is no longer used and will be removed. Instead, assign variables directly to `x` or `y`.\n",
      "  warnings.warn(msg, FutureWarning)\n"
     ]
    },
    {
     "data": {
      "image/png": "[encoded data removed]",
      "text/plain": [
       "<Figure size 432x288 with 1 Axes>"
      ]
     },
     "metadata": {
      "needs_background": "light"
     },
     "output_type": "display_data"
    }
   ],
   "source": [
    "import tqdm\n",
    "# all_free_energies = []\n",
    "for state in [2]:\n",
    "    N_bootstraps = 10000\n",
    "    free_energies = []\n",
    "    free_energies_minh = []\n",
    "    work_array = np.array(d_input_works['apo'][state])\n",
    "    num_samples = work_array.shape[0]\n",
    "    for i in tqdm.trange(N_bootstraps):\n",
    "        subsample_indices = np.random.choice(range(num_samples), num_samples)\n",
    "        dg, ddg = pymbar.bar.BAR(work_array[subsample_indices][:,0], work_array[subsample_indices][:,1])\n",
    "        free_energies.append(dg)\n",
    "        free_energies_minh.append(analyze_minh(work_array[subsample_indices]))\n",
    "    sns.distplot(np.array(free_energies), label=f\"state{state}free energy\", rug=True)\n",
    "    sns.distplot(np.array(free_energies_minh), label=f\"state{state}free energy\", rug=True)\n",
    "\n",
    "#     sns.distplot(work_array[:,0], label=f\"state{state}f\", rug=True)\n",
    "#     sns.distplot(work_array[:,1]*-1, label=f\"state{state}r\", rug=True)\n",
    "    all_free_energies.append(free_energies)\n",
    "plt.legend()\n",
    "plt.show()"
   ]
  },
  {
   "cell_type": "markdown",
   "metadata": {},
   "source": [
    "now, all_free_energies has two sub lists, one for the bootstrapped free energies of state 1, another for state 2"
   ]
  },
  {
   "cell_type": "code",
   "execution_count": 19,
   "metadata": {},
   "outputs": [],
   "source": [
    "def combine(state_1, state_2):\n",
    "    return -np.log(np.exp(-state_1) + np.exp(-state_2))"
   ]
  },
  {
   "cell_type": "code",
   "execution_count": 20,
   "metadata": {},
   "outputs": [
    {
     "name": "stderr",
     "output_type": "stream",
     "text": [
      "100%|██████████| 10000/10000 [00:00<00:00, 214445.88it/s]\n"
     ]
    }
   ],
   "source": [
    "combined_free_energies = []\n",
    "for i in tqdm.trange(N_bootstraps):\n",
    "    combined_free_energies.append(combine(all_free_energies[0][i], all_free_energies[1][i]))"
   ]
  },
  {
   "cell_type": "code",
   "execution_count": 21,
   "metadata": {},
   "outputs": [
    {
     "name": "stderr",
     "output_type": "stream",
     "text": [
      "/home/zhangi/miniconda3/envs/perses-sims-oct2020/lib/python3.7/site-packages/seaborn/distributions.py:2551: FutureWarning: `distplot` is a deprecated function and will be removed in a future version. Please adapt your code to use either `displot` (a figure-level function with similar flexibility) or `histplot` (an axes-level function for histograms).\n",
      "  warnings.warn(msg, FutureWarning)\n",
      "/home/zhangi/miniconda3/envs/perses-sims-oct2020/lib/python3.7/site-packages/seaborn/distributions.py:2055: FutureWarning: The `axis` variable is no longer used and will be removed. Instead, assign variables directly to `x` or `y`.\n",
      "  warnings.warn(msg, FutureWarning)\n"
     ]
    },
    {
     "data": {
      "text/plain": [
       "<AxesSubplot:ylabel='Density'>"
      ]
     },
     "execution_count": 21,
     "metadata": {},
     "output_type": "execute_result"
    },
    {
     "data": {
      "image/png": "[encoded data removed]",
      "text/plain": [
       "<Figure size 432x288 with 1 Axes>"
      ]
     },
     "metadata": {
      "needs_background": "light"
     },
     "output_type": "display_data"
    }
   ],
   "source": [
    "sns.distplot(combined_free_energies, rug=True)"
   ]
  },
  {
   "cell_type": "code",
   "execution_count": 22,
   "metadata": {
    "scrolled": true
   },
   "outputs": [
    {
     "data": {
      "text/plain": [
       "27.463267770279767"
      ]
     },
     "execution_count": 22,
     "metadata": {},
     "output_type": "execute_result"
    }
   ],
   "source": [
    "np.mean(combined_free_energies)*KT_KCALMOL"
   ]
  },
  {
   "cell_type": "code",
   "execution_count": 23,
   "metadata": {},
   "outputs": [
    {
     "data": {
      "text/plain": [
       "0.06681917732227181"
      ]
     },
     "execution_count": 23,
     "metadata": {},
     "output_type": "execute_result"
    }
   ],
   "source": [
    "np.std(combined_free_energies)*KT_KCALMOL"
   ]
  },
  {
   "cell_type": "code",
   "execution_count": 24,
   "metadata": {},
   "outputs": [
    {
     "data": {
      "text/plain": [
       "(27.33583965042119, 27.59642985607716)"
      ]
     },
     "execution_count": 24,
     "metadata": {},
     "output_type": "execute_result"
    }
   ],
   "source": [
    "np.percentile(combined_free_energies, 2.5)*KT_KCALMOL, np.percentile(combined_free_energies, 97.5)*KT_KCALMOL"
   ]
  },
  {
   "cell_type": "code",
   "execution_count": 25,
   "metadata": {},
   "outputs": [
    {
     "name": "stderr",
     "output_type": "stream",
     "text": [
      "100%|██████████| 10000/10000 [00:22<00:00, 452.31it/s]\n",
      "/home/zhangi/miniconda3/envs/perses-sims-oct2020/lib/python3.7/site-packages/seaborn/distributions.py:2551: FutureWarning: `distplot` is a deprecated function and will be removed in a future version. Please adapt your code to use either `displot` (a figure-level function with similar flexibility) or `histplot` (an axes-level function for histograms).\n",
      "  warnings.warn(msg, FutureWarning)\n",
      "/home/zhangi/miniconda3/envs/perses-sims-oct2020/lib/python3.7/site-packages/seaborn/distributions.py:2055: FutureWarning: The `axis` variable is no longer used and will be removed. Instead, assign variables directly to `x` or `y`.\n",
      "  warnings.warn(msg, FutureWarning)\n",
      "/home/zhangi/miniconda3/envs/perses-sims-oct2020/lib/python3.7/site-packages/seaborn/distributions.py:2551: FutureWarning: `distplot` is a deprecated function and will be removed in a future version. Please adapt your code to use either `displot` (a figure-level function with similar flexibility) or `histplot` (an axes-level function for histograms).\n",
      "  warnings.warn(msg, FutureWarning)\n",
      "/home/zhangi/miniconda3/envs/perses-sims-oct2020/lib/python3.7/site-packages/seaborn/distributions.py:2055: FutureWarning: The `axis` variable is no longer used and will be removed. Instead, assign variables directly to `x` or `y`.\n",
      "  warnings.warn(msg, FutureWarning)\n"
     ]
    },
    {
     "data": {
      "image/png": "[encoded data removed]",
      "text/plain": [
       "<Figure size 432x288 with 1 Axes>"
      ]
     },
     "metadata": {
      "needs_background": "light"
     },
     "output_type": "display_data"
    }
   ],
   "source": [
    "import tqdm\n",
    "all_free_energies = []\n",
    "for state in [0]:\n",
    "    N_bootstraps = 10000\n",
    "    free_energies = []\n",
    "    free_energies_minh = []\n",
    "    work_array = np.array(d_input_works['complex'][state])\n",
    "    num_samples = work_array.shape[0]\n",
    "    for i in tqdm.trange(N_bootstraps):\n",
    "        subsample_indices = np.random.choice(range(num_samples), num_samples)\n",
    "        dg, ddg = pymbar.bar.BAR(work_array[subsample_indices][:,0], work_array[subsample_indices][:,1])\n",
    "        free_energies.append(dg)\n",
    "        free_energies_minh.append(analyze_minh(work_array[subsample_indices]))\n",
    "    sns.distplot(np.array(free_energies), label=f\"state{state}free energy\", rug=True)\n",
    "    sns.distplot(np.array(free_energies_minh), label=f\"state{state}free energy\", rug=True)\n",
    "\n",
    "#     sns.distplot(work_array[:,0], label=f\"state{state}f\", rug=True)\n",
    "#     sns.distplot(work_array[:,1]*-1, label=f\"state{state}r\", rug=True)\n",
    "    all_free_energies.append(free_energies)\n",
    "plt.legend()\n",
    "plt.show()"
   ]
  },
  {
   "cell_type": "code",
   "execution_count": 26,
   "metadata": {
    "scrolled": true
   },
   "outputs": [
    {
     "name": "stderr",
     "output_type": "stream",
     "text": [
      "100%|██████████| 10000/10000 [00:21<00:00, 456.00it/s]\n",
      "/home/zhangi/miniconda3/envs/perses-sims-oct2020/lib/python3.7/site-packages/seaborn/distributions.py:2551: FutureWarning: `distplot` is a deprecated function and will be removed in a future version. Please adapt your code to use either `displot` (a figure-level function with similar flexibility) or `histplot` (an axes-level function for histograms).\n",
      "  warnings.warn(msg, FutureWarning)\n",
      "/home/zhangi/miniconda3/envs/perses-sims-oct2020/lib/python3.7/site-packages/seaborn/distributions.py:2055: FutureWarning: The `axis` variable is no longer used and will be removed. Instead, assign variables directly to `x` or `y`.\n",
      "  warnings.warn(msg, FutureWarning)\n",
      "/home/zhangi/miniconda3/envs/perses-sims-oct2020/lib/python3.7/site-packages/seaborn/distributions.py:2551: FutureWarning: `distplot` is a deprecated function and will be removed in a future version. Please adapt your code to use either `displot` (a figure-level function with similar flexibility) or `histplot` (an axes-level function for histograms).\n",
      "  warnings.warn(msg, FutureWarning)\n",
      "/home/zhangi/miniconda3/envs/perses-sims-oct2020/lib/python3.7/site-packages/seaborn/distributions.py:2055: FutureWarning: The `axis` variable is no longer used and will be removed. Instead, assign variables directly to `x` or `y`.\n",
      "  warnings.warn(msg, FutureWarning)\n"
     ]
    },
    {
     "data": {
      "image/png": "[encoded data removed]",
      "text/plain": [
       "<Figure size 432x288 with 1 Axes>"
      ]
     },
     "metadata": {
      "needs_background": "light"
     },
     "output_type": "display_data"
    }
   ],
   "source": [
    "import tqdm\n",
    "for state in [1]:\n",
    "    N_bootstraps = 10000\n",
    "    free_energies = []\n",
    "    free_energies_minh = []\n",
    "    work_array = np.array(d_input_works['complex'][state])\n",
    "    num_samples = work_array.shape[0]\n",
    "    for i in tqdm.trange(N_bootstraps):\n",
    "        subsample_indices = np.random.choice(range(num_samples), num_samples)\n",
    "        dg, ddg = pymbar.bar.BAR(work_array[subsample_indices][:,0], work_array[subsample_indices][:,1])\n",
    "        free_energies.append(dg)\n",
    "        free_energies_minh.append(analyze_minh(work_array[subsample_indices]))\n",
    "    sns.distplot(np.array(free_energies), label=f\"state{state}free energy\", rug=True)\n",
    "    sns.distplot(np.array(free_energies_minh), label=f\"state{state}free energy\", rug=True)\n",
    "#     sns.distplot(work_array[:,0], label=f\"state{state}f\", rug=True)\n",
    "#     sns.distplot(work_array[:,1]*-1, label=f\"state{state}r\", rug=True)\n",
    "    all_free_energies.append(free_energies)\n",
    "plt.legend()\n",
    "plt.show()"
   ]
  },
  {
   "cell_type": "code",
   "execution_count": 27,
   "metadata": {},
   "outputs": [
    {
     "name": "stderr",
     "output_type": "stream",
     "text": [
      "100%|██████████| 10000/10000 [00:20<00:00, 496.48it/s]\n",
      "/home/zhangi/miniconda3/envs/perses-sims-oct2020/lib/python3.7/site-packages/seaborn/distributions.py:2551: FutureWarning: `distplot` is a deprecated function and will be removed in a future version. Please adapt your code to use either `displot` (a figure-level function with similar flexibility) or `histplot` (an axes-level function for histograms).\n",
      "  warnings.warn(msg, FutureWarning)\n",
      "/home/zhangi/miniconda3/envs/perses-sims-oct2020/lib/python3.7/site-packages/seaborn/distributions.py:2055: FutureWarning: The `axis` variable is no longer used and will be removed. Instead, assign variables directly to `x` or `y`.\n",
      "  warnings.warn(msg, FutureWarning)\n",
      "/home/zhangi/miniconda3/envs/perses-sims-oct2020/lib/python3.7/site-packages/seaborn/distributions.py:2551: FutureWarning: `distplot` is a deprecated function and will be removed in a future version. Please adapt your code to use either `displot` (a figure-level function with similar flexibility) or `histplot` (an axes-level function for histograms).\n",
      "  warnings.warn(msg, FutureWarning)\n",
      "/home/zhangi/miniconda3/envs/perses-sims-oct2020/lib/python3.7/site-packages/seaborn/distributions.py:2055: FutureWarning: The `axis` variable is no longer used and will be removed. Instead, assign variables directly to `x` or `y`.\n",
      "  warnings.warn(msg, FutureWarning)\n",
      "/home/zhangi/miniconda3/envs/perses-sims-oct2020/lib/python3.7/site-packages/seaborn/distributions.py:2551: FutureWarning: `distplot` is a deprecated function and will be removed in a future version. Please adapt your code to use either `displot` (a figure-level function with similar flexibility) or `histplot` (an axes-level function for histograms).\n",
      "  warnings.warn(msg, FutureWarning)\n",
      "/home/zhangi/miniconda3/envs/perses-sims-oct2020/lib/python3.7/site-packages/seaborn/distributions.py:2055: FutureWarning: The `axis` variable is no longer used and will be removed. Instead, assign variables directly to `x` or `y`.\n",
      "  warnings.warn(msg, FutureWarning)\n",
      "/home/zhangi/miniconda3/envs/perses-sims-oct2020/lib/python3.7/site-packages/seaborn/distributions.py:2551: FutureWarning: `distplot` is a deprecated function and will be removed in a future version. Please adapt your code to use either `displot` (a figure-level function with similar flexibility) or `histplot` (an axes-level function for histograms).\n",
      "  warnings.warn(msg, FutureWarning)\n",
      "/home/zhangi/miniconda3/envs/perses-sims-oct2020/lib/python3.7/site-packages/seaborn/distributions.py:2055: FutureWarning: The `axis` variable is no longer used and will be removed. Instead, assign variables directly to `x` or `y`.\n",
      "  warnings.warn(msg, FutureWarning)\n"
     ]
    },
    {
     "data": {
      "image/png": "[encoded data removed]",
      "text/plain": [
       "<Figure size 432x288 with 1 Axes>"
      ]
     },
     "metadata": {
      "needs_background": "light"
     },
     "output_type": "display_data"
    }
   ],
   "source": [
    "import tqdm\n",
    "# all_free_energies = []\n",
    "for state in [2]:\n",
    "    N_bootstraps = 10000\n",
    "    free_energies = []\n",
    "    free_energies_minh = []\n",
    "    work_array = np.array(d_input_works['complex'][state])\n",
    "    num_samples = work_array.shape[0]\n",
    "    for i in tqdm.trange(N_bootstraps):\n",
    "        subsample_indices = np.random.choice(range(num_samples), num_samples)\n",
    "        dg, ddg = pymbar.bar.BAR(work_array[subsample_indices][:,0], work_array[subsample_indices][:,1])\n",
    "        free_energies.append(dg)\n",
    "        free_energies_minh.append(analyze_minh(work_array[subsample_indices]))\n",
    "    sns.distplot(np.array(free_energies), label=f\"state{state}free energy\", rug=True)\n",
    "    sns.distplot(np.array(free_energies_minh), label=f\"state{state}free energy\", rug=True)\n",
    "    sns.distplot(work_array[:,0], label=f\"state{state}f\", rug=True)\n",
    "    sns.distplot(work_array[:,1]*-1, label=f\"state{state}r\", rug=True)\n",
    "    all_free_energies.append(free_energies)\n",
    "plt.legend()\n",
    "plt.show()"
   ]
  },
  {
   "cell_type": "markdown",
   "metadata": {},
   "source": [
    "now, all_free_energies has three sub lists"
   ]
  },
  {
   "cell_type": "code",
   "execution_count": 28,
   "metadata": {},
   "outputs": [],
   "source": [
    "def combine(state_0, state_1, state_2):\n",
    "    return -np.log(np.exp(-state_0) + np.exp(-state_1) + np.exp(-state_2))"
   ]
  },
  {
   "cell_type": "code",
   "execution_count": 29,
   "metadata": {},
   "outputs": [
    {
     "name": "stderr",
     "output_type": "stream",
     "text": [
      "100%|██████████| 10000/10000 [00:00<00:00, 74261.49it/s]\n"
     ]
    }
   ],
   "source": [
    "combined_free_energies = []\n",
    "for i in tqdm.trange(N_bootstraps):\n",
    "    combined_free_energies.append(combine(all_free_energies[0][i], all_free_energies[1][i], all_free_energies[2][i]))"
   ]
  },
  {
   "cell_type": "code",
   "execution_count": 30,
   "metadata": {},
   "outputs": [
    {
     "name": "stderr",
     "output_type": "stream",
     "text": [
      "/home/zhangi/miniconda3/envs/perses-sims-oct2020/lib/python3.7/site-packages/seaborn/distributions.py:2551: FutureWarning: `distplot` is a deprecated function and will be removed in a future version. Please adapt your code to use either `displot` (a figure-level function with similar flexibility) or `histplot` (an axes-level function for histograms).\n",
      "  warnings.warn(msg, FutureWarning)\n",
      "/home/zhangi/miniconda3/envs/perses-sims-oct2020/lib/python3.7/site-packages/seaborn/distributions.py:2055: FutureWarning: The `axis` variable is no longer used and will be removed. Instead, assign variables directly to `x` or `y`.\n",
      "  warnings.warn(msg, FutureWarning)\n"
     ]
    },
    {
     "data": {
      "text/plain": [
       "<AxesSubplot:ylabel='Density'>"
      ]
     },
     "execution_count": 30,
     "metadata": {},
     "output_type": "execute_result"
    },
    {
     "data": {
      "image/png": "[encoded data removed]",
      "text/plain": [
       "<Figure size 432x288 with 1 Axes>"
      ]
     },
     "metadata": {
      "needs_background": "light"
     },
     "output_type": "display_data"
    }
   ],
   "source": [
    "sns.distplot(combined_free_energies, rug=True)"
   ]
  },
  {
   "cell_type": "code",
   "execution_count": 31,
   "metadata": {},
   "outputs": [
    {
     "data": {
      "text/plain": [
       "29.092728278526625"
      ]
     },
     "execution_count": 31,
     "metadata": {},
     "output_type": "execute_result"
    }
   ],
   "source": [
    "np.mean(combined_free_energies)*KT_KCALMOL"
   ]
  },
  {
   "cell_type": "code",
   "execution_count": 32,
   "metadata": {},
   "outputs": [
    {
     "data": {
      "text/plain": [
       "0.19084333736798045"
      ]
     },
     "execution_count": 32,
     "metadata": {},
     "output_type": "execute_result"
    }
   ],
   "source": [
    "np.std(combined_free_energies)*KT_KCALMOL"
   ]
  },
  {
   "cell_type": "code",
   "execution_count": 33,
   "metadata": {},
   "outputs": [
    {
     "data": {
      "text/plain": [
       "(28.720305184607156, 29.465184173732982)"
      ]
     },
     "execution_count": 33,
     "metadata": {},
     "output_type": "execute_result"
    }
   ],
   "source": [
    "np.percentile(combined_free_energies, 2.5)*KT_KCALMOL, np.percentile(combined_free_energies, 97.5)*KT_KCALMOL"
   ]
  },
  {
   "cell_type": "code",
   "execution_count": null,
   "metadata": {},
   "outputs": [],
   "source": []
  },
  {
   "cell_type": "code",
   "execution_count": 76,
   "metadata": {},
   "outputs": [
    {
     "data": {
      "text/plain": [
       "1.6337599999999988"
      ]
     },
     "execution_count": 76,
     "metadata": {},
     "output_type": "execute_result"
    }
   ],
   "source": [
    "29.0974 - 27.46364"
   ]
  },
  {
   "cell_type": "markdown",
   "metadata": {},
   "source": [
    "Convert to kcal/mol"
   ]
  },
  {
   "cell_type": "code",
   "execution_count": 6,
   "metadata": {},
   "outputs": [],
   "source": [
    "from simtk.openmm import unit\n",
    "from openmmtools.constants import kB\n",
    "KT_KCALMOL = kB * 300 * unit.kelvin / unit.kilocalories_per_mole"
   ]
  },
  {
   "cell_type": "code",
   "execution_count": 7,
   "metadata": {},
   "outputs": [],
   "source": [
    "d_results_kcalmol = {}\n",
    "for k, v in d_results.items():\n",
    "    d_results_kcalmol[k] = [v[0]*KT_KCALMOL, v[1]*KT_KCALMOL]"
   ]
  },
  {
   "cell_type": "code",
   "execution_count": 8,
   "metadata": {},
   "outputs": [
    {
     "data": {
      "text/plain": [
       "{'T42A': [2.595751481355776, 0.15934564264902729],\n",
       " 'A42T': [-2.4325870383741344, 0.1297532573284111]}"
      ]
     },
     "execution_count": 8,
     "metadata": {},
     "output_type": "execute_result"
    }
   ],
   "source": [
    "d_results_kcalmol"
   ]
  },
  {
   "cell_type": "code",
   "execution_count": 18,
   "metadata": {},
   "outputs": [],
   "source": [
    "# Get discrepancy and uncertainty\n",
    "mutations = [\"T42A\"]\n",
    "d_analysis = {}\n",
    "for mutation in mutations:\n",
    "    reverse = \"A42T\"\n",
    "    forward_dg = d_results_kcalmol[mutation][0]\n",
    "    forward_ddg = d_results_kcalmol[mutation][1]\n",
    "    reverse_dg = d_results_kcalmol[reverse][0]\n",
    "    reverse_ddg =  d_results_kcalmol[reverse][1]\n",
    "    discrepancy = (forward_dg + reverse_dg)\n",
    "    uncertainty = np.sqrt((forward_ddg)**2 + (reverse_ddg)**2)\n",
    "    \n",
    "    d_analysis[mutation] = [forward_dg, forward_ddg, reverse_dg, reverse_ddg, discrepancy, uncertainty, discrepancy/uncertainty]\n",
    "    \n",
    "    "
   ]
  },
  {
   "cell_type": "code",
   "execution_count": 17,
   "metadata": {},
   "outputs": [
    {
     "data": {
      "text/plain": [
       "{'A42T': [-2.4325870383741344,\n",
       "  0.1297532573284111,\n",
       "  2.595751481355776,\n",
       "  0.15934564264902729,\n",
       "  0.16316444298164168,\n",
       "  0.20549195025247186,\n",
       "  0.7940186600067511]}"
      ]
     },
     "execution_count": 17,
     "metadata": {},
     "output_type": "execute_result"
    }
   ],
   "source": [
    "d_analysis"
   ]
  },
  {
   "cell_type": "code",
   "execution_count": 19,
   "metadata": {},
   "outputs": [],
   "source": [
    "import pandas as pd\n",
    "pd.DataFrame.from_dict(d_analysis, orient='index').to_csv(\"/data/chodera/zhangi/perses_benchmark/neq/12/analysis.csv\")"
   ]
  },
  {
   "cell_type": "code",
   "execution_count": 12,
   "metadata": {},
   "outputs": [],
   "source": [
    "import pickle\n",
    "with open(\"/data/chodera/zhangi/perses_benchmark/neq/12/d_results.pickle\", \"wb\") as f:\n",
    "    pickle.dump(d_results, f)\n",
    "\n",
    "import pickle\n",
    "with open(\"/data/chodera/zhangi/perses_benchmark/neq/12/d_phases.pickle\", \"wb\") as f:\n",
    "    pickle.dump(d_phases, f)\n"
   ]
  },
  {
   "cell_type": "code",
   "execution_count": 4,
   "metadata": {},
   "outputs": [],
   "source": [
    "# import pickle\n",
    "# with open(\"/data/chodera/zhangi/perses_benchmark/neq/8/d_results.pickle\", \"rb\") as f:\n",
    "#     d_results = pickle.load(f)\n",
    "\n",
    "# import pickle\n",
    "# with open(\"/data/chodera/zhangi/perses_benchmark/neq/8/d_phases.pickle\", \"rb\") as f:\n",
    "#     d_phases = pickle.load(f)"
   ]
  },
  {
   "cell_type": "code",
   "execution_count": null,
   "metadata": {},
   "outputs": [],
   "source": [
    "# # Format to match Dominic's table\n",
    "# d_combined = {}\n",
    "# rows = [('ALA', 'SER'), ('ALA', 'CYS'), ('ALA', 'THR'), ('SER', 'CYS'), ('SER', 'THR'), ('CYS', 'THR')]\n",
    "# for pair, (dg, ddg) in sorted(d_results.items()):\n",
    "#     if pair in rows:\n",
    "#         d_combined[pair] = [dg, ddg]\n",
    "\n",
    "# for pair, (dg, ddg) in sorted(d_results.items()):\n",
    "#     if pair not in d_combined:\n",
    "#         reversed_pair = pair[::-1]\n",
    "#         forward_solvation_dg = d_combined[reversed_pair][0]\n",
    "#         forward_solvation_ddg = d_combined[reversed_pair][1]\n",
    "#         d_combined[reversed_pair] += [dg, ddg, abs(forward_solvation_dg) - abs(dg), abs(forward_solvation_ddg) - abs(ddg)]\n",
    "\n"
   ]
  },
  {
   "cell_type": "code",
   "execution_count": null,
   "metadata": {},
   "outputs": [],
   "source": [
    "# # Create dataframe\n",
    "# df = pd.DataFrame.from_dict(d_combined, orient='index', columns=['forward solvation dG', \n",
    "#                                                             'forward solvation ddG', \n",
    "#                                                             'reverse solvation dG',\n",
    "#                                                             'reverse solvation ddG',\n",
    "#                                                             'discrepancy dG',\n",
    "#                                                             'discrepancy ddG'\n",
    "#                                                            ]\n",
    "                      \n",
    "#                       )"
   ]
  },
  {
   "cell_type": "code",
   "execution_count": null,
   "metadata": {},
   "outputs": [],
   "source": [
    "# df.reindex(index=rows)"
   ]
  },
  {
   "cell_type": "markdown",
   "metadata": {},
   "source": [
    "# Compute phase discrepancies"
   ]
  },
  {
   "cell_type": "code",
   "execution_count": 13,
   "metadata": {},
   "outputs": [],
   "source": [
    "from simtk.openmm import unit\n",
    "from openmmtools.constants import kB\n",
    "KT_KCALMOL = kB * 300 * unit.kelvin / unit.kilocalories_per_mole"
   ]
  },
  {
   "cell_type": "code",
   "execution_count": 20,
   "metadata": {},
   "outputs": [],
   "source": [
    "mutations = [\"T42A\"]\n",
    "d_discrepancy = {}\n",
    "for mutation in mutations:\n",
    "    reverse = \"A42T\"\n",
    "#     d_discrepancy[mutation] = [d_phases[mutation][0]*KT_KCALMOL, d_phases[reverse][0]*KT_KCALMOL, (d_phases[mutation][0] + d_phases[reverse][0])*KT_KCALMOL,\n",
    "#                                d_phases[mutation][2]*KT_KCALMOL, d_phases[reverse][2]*KT_KCALMOL, (d_phases[mutation][2] + d_phases[reverse][2])*KT_KCALMOL]\n",
    "    forward_apo_dg = d_phases[mutation][0]*KT_KCALMOL\n",
    "    forward_apo_ddg = d_phases[mutation][1]*KT_KCALMOL\n",
    "    reverse_apo_dg = d_phases[reverse][0]*KT_KCALMOL\n",
    "    reverse_apo_ddg =  d_phases[reverse][1]*KT_KCALMOL\n",
    "    apo_discrepancy = (d_phases[mutation][0] + d_phases[reverse][0])*KT_KCALMOL\n",
    "    apo_uncertainty = np.sqrt((d_phases[mutation][1]*KT_KCALMOL)**2 + (d_phases[reverse][1]*KT_KCALMOL)**2)\n",
    "    \n",
    "    forward_complex_dg = d_phases[mutation][2]*KT_KCALMOL\n",
    "    forward_complex_ddg = d_phases[mutation][3]*KT_KCALMOL\n",
    "    reverse_complex_dg = d_phases[reverse][2]*KT_KCALMOL\n",
    "    reverse_complex_ddg =  d_phases[reverse][3]*KT_KCALMOL\n",
    "    complex_discrepancy = (d_phases[mutation][2] + d_phases[reverse][2])*KT_KCALMOL\n",
    "    complex_uncertainty = np.sqrt((d_phases[mutation][3]*KT_KCALMOL)**2 + (d_phases[reverse][3]*KT_KCALMOL)**2)\n",
    "    \n",
    "    d_discrepancy[mutation] = [forward_apo_dg, forward_apo_ddg, reverse_apo_dg, reverse_apo_ddg, apo_discrepancy, apo_uncertainty, apo_discrepancy/apo_uncertainty,\n",
    "                              forward_complex_dg, forward_complex_ddg, reverse_complex_dg, reverse_complex_ddg, complex_discrepancy, complex_uncertainty, complex_discrepancy/complex_uncertainty]\n",
    "    \n",
    "    "
   ]
  },
  {
   "cell_type": "code",
   "execution_count": 15,
   "metadata": {},
   "outputs": [
    {
     "data": {
      "text/plain": [
       "{'A42T': [-26.772275005198082,\n",
       "  0.0405669899124021,\n",
       "  27.190301892583328,\n",
       "  0.0603178183505878,\n",
       "  0.4180268873852468,\n",
       "  0.07269057628831567,\n",
       "  5.750771402983645,\n",
       "  -29.204862043572216,\n",
       "  0.1232486394114756,\n",
       "  29.786053373939104,\n",
       "  0.14748828638457023,\n",
       "  0.5811913303668882,\n",
       "  0.19220567561192603,\n",
       "  3.023799003419368]}"
      ]
     },
     "execution_count": 15,
     "metadata": {},
     "output_type": "execute_result"
    }
   ],
   "source": [
    "d_discrepancy"
   ]
  },
  {
   "cell_type": "code",
   "execution_count": null,
   "metadata": {},
   "outputs": [],
   "source": []
  },
  {
   "cell_type": "code",
   "execution_count": 21,
   "metadata": {},
   "outputs": [],
   "source": [
    "import pandas as pd\n",
    "pd.DataFrame.from_dict(d_discrepancy, orient='index').to_csv(\"/data/chodera/zhangi/perses_benchmark/neq/12/discrepancies.csv\")"
   ]
  },
  {
   "cell_type": "code",
   "execution_count": null,
   "metadata": {},
   "outputs": [],
   "source": []
  }
 ],
 "metadata": {
  "kernelspec": {
   "display_name": "Python 3",
   "language": "python",
   "name": "python3"
  },
  "language_info": {
   "codemirror_mode": {
    "name": "ipython",
    "version": 3
   },
   "file_extension": ".py",
   "mimetype": "text/x-python",
   "name": "python",
   "nbconvert_exporter": "python",
   "pygments_lexer": "ipython3",
   "version": "3.7.8"
  }
 },
 "nbformat": 4,
 "nbformat_minor": 4
}
