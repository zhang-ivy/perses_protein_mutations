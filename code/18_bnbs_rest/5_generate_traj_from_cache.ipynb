{
 "cells": [
  {
   "cell_type": "code",
   "execution_count": 4,
   "metadata": {},
   "outputs": [],
   "source": [
    "import os\n",
    "import pickle\n",
    "import mdtraj as md\n",
    "import numpy as np\n",
    "import logging \n",
    "from tqdm import tqdm\n",
    "from simtk import unit\n",
    "from simtk.openmm import app\n",
    "# Set up logger\n",
    "_logger = logging.getLogger()\n",
    "_logger.setLevel(logging.INFO)"
   ]
  },
  {
   "cell_type": "markdown",
   "metadata": {},
   "source": [
    "## K27A (0.2 nm, 1200 K)"
   ]
  },
  {
   "cell_type": "code",
   "execution_count": 2,
   "metadata": {},
   "outputs": [],
   "source": [
    "sim_dir = 56\n",
    "aa = 'trp'\n",
    "outdir = '/data/chodera/zhangi/perses_benchmark/neq/12/'\n"
   ]
  },
  {
   "cell_type": "code",
   "execution_count": 3,
   "metadata": {},
   "outputs": [],
   "source": [
    "with open(f\"/data/chodera/zhangi/perses_benchmark/neq/12/{sim_dir}/{sim_dir}_complex_lys_1ns_snapshots.npy\", \"rb\") as f:\n",
    "    pos = np.load(f)"
   ]
  },
  {
   "cell_type": "code",
   "execution_count": 4,
   "metadata": {},
   "outputs": [],
   "source": [
    "with open(f\"/data/chodera/zhangi/perses_benchmark/neq/12/{sim_dir}/{sim_dir}_complex_0.pickle\", \"rb\") as f:\n",
    "    htf = pickle.load(f)\n",
    "    "
   ]
  },
  {
   "cell_type": "code",
   "execution_count": 5,
   "metadata": {},
   "outputs": [],
   "source": [
    "pos_old = np.zeros(shape=(pos.shape[0], htf._topology_proposal.old_topology.getNumAtoms(), pos.shape[2]))\n",
    "for i, p in enumerate(pos):\n",
    "    pos_old[i] = htf.old_positions(p*unit.nanometers)\n",
    "    "
   ]
  },
  {
   "cell_type": "code",
   "execution_count": 6,
   "metadata": {},
   "outputs": [],
   "source": [
    "box_vectors = np.array([val.value_in_unit_system(unit.md_unit_system) for val in htf.hybrid_system.getDefaultPeriodicBoxVectors()])\n",
    "htf._topology_proposal.old_topology.setPeriodicBoxVectors(box_vectors)\n",
    "htf._topology_proposal.old_topology.getPeriodicBoxVectors()\n"
   ]
  },
  {
   "cell_type": "code",
   "execution_count": 9,
   "metadata": {},
   "outputs": [],
   "source": [
    "# Write PDB file using openmm bc it will include box vectors\n",
    "app.PDBFile.writeFile(htf._topology_proposal.old_topology, pos_old[0], open(os.path.join(outdir, \"test.pdb\"), 'w'))\n"
   ]
  },
  {
   "cell_type": "code",
   "execution_count": 10,
   "metadata": {},
   "outputs": [],
   "source": [
    "# Load pdb into mdtraj\n",
    "pdb = md.load(os.path.join(outdir, \"test.pdb\"))\n"
   ]
  },
  {
   "cell_type": "code",
   "execution_count": 11,
   "metadata": {},
   "outputs": [
    {
     "data": {
      "text/plain": [
       "array([[[6.7997, 0.    , 0.    ],\n",
       "        [0.    , 6.7997, 0.    ],\n",
       "        [0.    , 0.    , 6.7997]]], dtype=float32)"
      ]
     },
     "execution_count": 11,
     "metadata": {},
     "output_type": "execute_result"
    }
   ],
   "source": [
    "pdb.unitcell_vectors\n"
   ]
  },
  {
   "cell_type": "code",
   "execution_count": 12,
   "metadata": {},
   "outputs": [],
   "source": [
    "traj = md.Trajectory(pos_old, md.Topology.from_openmm(htf._topology_proposal.old_topology))\n",
    "# Set unit cell vectors in traj based on pdb vectors\n",
    "traj.unitcell_vectors = np.repeat(pdb.unitcell_vectors, 100, axis=0)\n",
    "traj.image_molecules()\n"
   ]
  },
  {
   "cell_type": "code",
   "execution_count": 15,
   "metadata": {},
   "outputs": [],
   "source": [
    "traj.save(f\"/data/chodera/zhangi/perses_benchmark/neq/12/{sim_dir}/{sim_dir}_complex_{aa}_1ns_snapshots.dcd\")\n",
    "traj[0].save(f\"/data/chodera/zhangi/perses_benchmark/neq/12/{sim_dir}/{sim_dir}_complex_{aa}_1ns_snapshots.pdb\")"
   ]
  },
  {
   "cell_type": "code",
   "execution_count": null,
   "metadata": {},
   "outputs": [],
   "source": []
  },
  {
   "cell_type": "markdown",
   "metadata": {},
   "source": [
    "## K27A (0.4 nm, 1600 K)"
   ]
  },
  {
   "cell_type": "code",
   "execution_count": 15,
   "metadata": {},
   "outputs": [],
   "source": [
    "sim_dir = 79\n",
    "aa = 'lys'\n",
    "outdir = '/data/chodera/zhangi/perses_benchmark/neq/12/'\n"
   ]
  },
  {
   "cell_type": "code",
   "execution_count": 16,
   "metadata": {},
   "outputs": [],
   "source": [
    "with open(f\"/data/chodera/zhangi/perses_benchmark/neq/12/{sim_dir}/{sim_dir}_complex_lys_1ns_snapshots.npy\", \"rb\") as f:\n",
    "    pos = np.load(f)"
   ]
  },
  {
   "cell_type": "code",
   "execution_count": 17,
   "metadata": {},
   "outputs": [],
   "source": [
    "with open(f\"/data/chodera/zhangi/perses_benchmark/neq/12/{sim_dir}/{sim_dir}_complex_0.pickle\", \"rb\") as f:\n",
    "    htf = pickle.load(f)\n",
    "    "
   ]
  },
  {
   "cell_type": "code",
   "execution_count": 18,
   "metadata": {},
   "outputs": [],
   "source": [
    "pos_old = np.zeros(shape=(pos.shape[0], htf._topology_proposal.old_topology.getNumAtoms(), pos.shape[2]))\n",
    "for i, p in enumerate(pos):\n",
    "    pos_old[i] = htf.old_positions(p*unit.nanometers)\n",
    "    "
   ]
  },
  {
   "cell_type": "code",
   "execution_count": 19,
   "metadata": {},
   "outputs": [
    {
     "data": {
      "text/plain": [
       "Quantity(value=array([[6.7997, 0.    , 0.    ],\n",
       "       [0.    , 6.7997, 0.    ],\n",
       "       [0.    , 0.    , 6.7997]]), unit=nanometer)"
      ]
     },
     "execution_count": 19,
     "metadata": {},
     "output_type": "execute_result"
    }
   ],
   "source": [
    "box_vectors = np.array([val.value_in_unit_system(unit.md_unit_system) for val in htf.hybrid_system.getDefaultPeriodicBoxVectors()])\n",
    "htf._topology_proposal.old_topology.setPeriodicBoxVectors(box_vectors)\n",
    "htf._topology_proposal.old_topology.getPeriodicBoxVectors()\n"
   ]
  },
  {
   "cell_type": "code",
   "execution_count": 20,
   "metadata": {},
   "outputs": [],
   "source": [
    "# Write PDB file using openmm bc it will include box vectors\n",
    "app.PDBFile.writeFile(htf._topology_proposal.old_topology, pos_old[0], open(os.path.join(outdir, \"test.pdb\"), 'w'))\n"
   ]
  },
  {
   "cell_type": "code",
   "execution_count": 21,
   "metadata": {},
   "outputs": [],
   "source": [
    "# Load pdb into mdtraj\n",
    "pdb = md.load(os.path.join(outdir, \"test.pdb\"))\n"
   ]
  },
  {
   "cell_type": "code",
   "execution_count": 22,
   "metadata": {},
   "outputs": [
    {
     "data": {
      "text/plain": [
       "array([[[6.7997, 0.    , 0.    ],\n",
       "        [0.    , 6.7997, 0.    ],\n",
       "        [0.    , 0.    , 6.7997]]], dtype=float32)"
      ]
     },
     "execution_count": 22,
     "metadata": {},
     "output_type": "execute_result"
    }
   ],
   "source": [
    "pdb.unitcell_vectors\n"
   ]
  },
  {
   "cell_type": "code",
   "execution_count": 23,
   "metadata": {},
   "outputs": [
    {
     "data": {
      "text/plain": [
       "<mdtraj.Trajectory with 100 frames, 29474 atoms, 8989 residues, and unitcells at 0x2b8d83203cd0>"
      ]
     },
     "execution_count": 23,
     "metadata": {},
     "output_type": "execute_result"
    }
   ],
   "source": [
    "traj = md.Trajectory(pos_old, md.Topology.from_openmm(htf._topology_proposal.old_topology))\n",
    "# Set unit cell vectors in traj based on pdb vectors\n",
    "traj.unitcell_vectors = np.repeat(pdb.unitcell_vectors, 100, axis=0)\n",
    "traj.image_molecules()\n"
   ]
  },
  {
   "cell_type": "code",
   "execution_count": 24,
   "metadata": {},
   "outputs": [],
   "source": [
    "traj.save(f\"/data/chodera/zhangi/perses_benchmark/neq/12/{sim_dir}/{sim_dir}_complex_{aa}_1ns_snapshots.dcd\")\n",
    "traj[0].save(f\"/data/chodera/zhangi/perses_benchmark/neq/12/{sim_dir}/{sim_dir}_complex_{aa}_1ns_snapshots.pdb\")"
   ]
  },
  {
   "cell_type": "markdown",
   "metadata": {},
   "source": [
    "## A27K (0.4 nm, 1600 K)"
   ]
  },
  {
   "cell_type": "code",
   "execution_count": 25,
   "metadata": {},
   "outputs": [],
   "source": [
    "sim_dir = 80\n",
    "aa = 'lys'\n",
    "outdir = '/data/chodera/zhangi/perses_benchmark/neq/12/'\n"
   ]
  },
  {
   "cell_type": "code",
   "execution_count": 26,
   "metadata": {},
   "outputs": [],
   "source": [
    "with open(f\"/data/chodera/zhangi/perses_benchmark/neq/12/{sim_dir}/{sim_dir}_complex_lys_1ns_snapshots.npy\", \"rb\") as f:\n",
    "    pos = np.load(f)"
   ]
  },
  {
   "cell_type": "code",
   "execution_count": 27,
   "metadata": {},
   "outputs": [],
   "source": [
    "with open(f\"/data/chodera/zhangi/perses_benchmark/neq/12/{sim_dir}/{sim_dir}_complex_1.pickle\", \"rb\") as f:\n",
    "    htf = pickle.load(f)\n",
    "    "
   ]
  },
  {
   "cell_type": "code",
   "execution_count": 28,
   "metadata": {},
   "outputs": [],
   "source": [
    "pos_new = np.zeros(shape=(pos.shape[0], htf._topology_proposal.new_topology.getNumAtoms(), pos.shape[2]))\n",
    "for i, p in enumerate(pos):\n",
    "    pos_new[i] = htf.new_positions(p*unit.nanometers)\n",
    "    "
   ]
  },
  {
   "cell_type": "code",
   "execution_count": 29,
   "metadata": {},
   "outputs": [
    {
     "data": {
      "text/plain": [
       "Quantity(value=array([[6.7997, 0.    , 0.    ],\n",
       "       [0.    , 6.7997, 0.    ],\n",
       "       [0.    , 0.    , 6.7997]]), unit=nanometer)"
      ]
     },
     "execution_count": 29,
     "metadata": {},
     "output_type": "execute_result"
    }
   ],
   "source": [
    "box_vectors = np.array([val.value_in_unit_system(unit.md_unit_system) for val in htf.hybrid_system.getDefaultPeriodicBoxVectors()])\n",
    "htf._topology_proposal.new_topology.setPeriodicBoxVectors(box_vectors)\n",
    "htf._topology_proposal.new_topology.getPeriodicBoxVectors()\n"
   ]
  },
  {
   "cell_type": "code",
   "execution_count": 31,
   "metadata": {},
   "outputs": [],
   "source": [
    "# Write PDB file using openmm bc it will include box vectors\n",
    "app.PDBFile.writeFile(htf._topology_proposal.new_topology, pos_new[0], open(os.path.join(outdir, \"test.pdb\"), 'w'))\n"
   ]
  },
  {
   "cell_type": "code",
   "execution_count": 32,
   "metadata": {},
   "outputs": [],
   "source": [
    "# Load pdb into mdtraj\n",
    "pdb = md.load(os.path.join(outdir, \"test.pdb\"))\n"
   ]
  },
  {
   "cell_type": "code",
   "execution_count": 33,
   "metadata": {},
   "outputs": [
    {
     "data": {
      "text/plain": [
       "array([[[6.7997, 0.    , 0.    ],\n",
       "        [0.    , 6.7997, 0.    ],\n",
       "        [0.    , 0.    , 6.7997]]], dtype=float32)"
      ]
     },
     "execution_count": 33,
     "metadata": {},
     "output_type": "execute_result"
    }
   ],
   "source": [
    "pdb.unitcell_vectors\n"
   ]
  },
  {
   "cell_type": "code",
   "execution_count": 39,
   "metadata": {},
   "outputs": [
    {
     "data": {
      "text/plain": [
       "<mdtraj.Trajectory with 100 frames, 29454 atoms, 8983 residues, and unitcells at 0x2b8d82587a50>"
      ]
     },
     "execution_count": 39,
     "metadata": {},
     "output_type": "execute_result"
    }
   ],
   "source": [
    "traj = md.Trajectory(pos_new, md.Topology.from_openmm(htf._topology_proposal.new_topology))\n",
    "# Set unit cell vectors in traj based on pdb vectors\n",
    "traj.unitcell_vectors = np.repeat(pdb.unitcell_vectors, 100, axis=0)\n",
    "traj.image_molecules()\n"
   ]
  },
  {
   "cell_type": "code",
   "execution_count": 40,
   "metadata": {},
   "outputs": [],
   "source": [
    "traj.save(f\"/data/chodera/zhangi/perses_benchmark/neq/12/{sim_dir}/{sim_dir}_complex_{aa}_1ns_snapshots.dcd\")\n",
    "traj[0].save(f\"/data/chodera/zhangi/perses_benchmark/neq/12/{sim_dir}/{sim_dir}_complex_{aa}_1ns_snapshots.pdb\")"
   ]
  },
  {
   "cell_type": "code",
   "execution_count": null,
   "metadata": {},
   "outputs": [],
   "source": [
    "# note after imaging, the solvent box seems like its missing a slice in 2 diff directions, \n",
    "# but this is not present when i save the traj before imaging"
   ]
  }
 ],
 "metadata": {
  "kernelspec": {
   "display_name": "Python 3",
   "language": "python",
   "name": "python3"
  },
  "language_info": {
   "codemirror_mode": {
    "name": "ipython",
    "version": 3
   },
   "file_extension": ".py",
   "mimetype": "text/x-python",
   "name": "python",
   "nbconvert_exporter": "python",
   "pygments_lexer": "ipython3",
   "version": "3.8.6"
  }
 },
 "nbformat": 4,
 "nbformat_minor": 4
}
