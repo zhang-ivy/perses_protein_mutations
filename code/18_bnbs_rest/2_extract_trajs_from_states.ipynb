{
 "cells": [
  {
   "cell_type": "code",
   "execution_count": 1,
   "metadata": {},
   "outputs": [],
   "source": [
    "import math\n",
    "from simtk import unit\n",
    "import os\n",
    "import tempfile\n",
    "import pickle\n",
    "import mdtraj as md\n",
    "import numpy as np\n",
    "from simtk.unit.quantity import Quantity\n",
    "import logging \n",
    "from tqdm import tqdm\n",
    "# Set up logger\n",
    "_logger = logging.getLogger()\n",
    "_logger.setLevel(logging.INFO)"
   ]
  },
  {
   "cell_type": "code",
   "execution_count": 2,
   "metadata": {},
   "outputs": [],
   "source": [
    "def get_trajs_for_state(i, aa, phase, length, out_dir, index, vanilla=False, htf=None):\n",
    "    # From Hannah: https://github.com/hannahbrucemacdonald/endstate_pdbs/blob/master/scripts/input_for_pol_calc.py\n",
    "    from perses.analysis.utils import open_netcdf\n",
    "    nc = open_netcdf(os.path.join(out_dir, f\"{i}_{phase}_{aa}_{length}.nc\"))\n",
    "    nc_checkpoint = open_netcdf(os.path.join(out_dir, f\"{i}_{phase}_{aa}_{length}_checkpoint.nc\"))\n",
    "    checkpoint_interval = nc_checkpoint.CheckpointInterval\n",
    "    all_positions = nc_checkpoint.variables['positions']\n",
    "    n_iter, n_replicas, n_atoms, _ = np.shape(all_positions)\n",
    "    n_iter = 60\n",
    "    if not vanilla:\n",
    "        new_top = md.Topology.from_openmm(htf._topology_proposal.new_topology)\n",
    "        old_top = md.Topology.from_openmm(htf._topology_proposal.old_topology)\n",
    "\n",
    "        all_pos_new = np.zeros(shape=(n_iter, new_top.n_atoms, 3))\n",
    "        all_pos_old = np.zeros(shape=(n_iter, old_top.n_atoms, 3))\n",
    "        for iteration in tqdm(range(n_iter)):\n",
    "            replica_id = np.where(nc.variables['states'][iteration*checkpoint_interval] == index)[0]\n",
    "            pos = all_positions[iteration,replica_id,:,:][0] *unit.nanometers\n",
    "            all_pos_new[iteration] = htf.new_positions(pos).value_in_unit_system(unit.md_unit_system) # Get new positions only\n",
    "            all_pos_old[iteration] = htf.old_positions(pos).value_in_unit_system(unit.md_unit_system)\n",
    "    \n",
    "        return all_pos_new, all_pos_old\n",
    "#         return all_pos_old\n",
    "    else:\n",
    "        # Get topology\n",
    "        with open(os.path.join(out_dir, f\"{i}_{aa}_vanilla_topology.pickle\"), \"rb\") as f:\n",
    "            topology = pickle.load(f)\n",
    "        all_pos = np.zeros(shape=(n_iter, topology.getNumAtoms(), 3))\n",
    "        \n",
    "        for iteration in tqdm(range(n_iter)):\n",
    "            replica_id = np.where(nc.variables['states'][iteration*checkpoint_interval] == index)[0]\n",
    "            all_pos[iteration] = all_positions[iteration,replica_id,:,:][0] *unit.nanometers\n",
    "    \n",
    "        return all_pos, topology\n",
    "    \n"
   ]
  },
  {
   "cell_type": "code",
   "execution_count": 12,
   "metadata": {},
   "outputs": [],
   "source": [
    "out_dir = \"/data/chodera/zhangi/perses_benchmark/neq/12/44/\"\n",
    "i = os.path.basename(os.path.dirname(out_dir))\n",
    "phase = 'apo'\n",
    "endstate = 0\n",
    "aa = 'TRP'.lower()\n",
    "length = '1ns'\n",
    "index = 0\n",
    "with open(os.path.join(out_dir, f\"{i}_{phase}_{endstate}.pickle\"), \"rb\") as f:\n",
    "    htf = pickle.load(f)\n"
   ]
  },
  {
   "cell_type": "code",
   "execution_count": 4,
   "metadata": {},
   "outputs": [
    {
     "name": "stderr",
     "output_type": "stream",
     "text": [
      "100%|██████████| 60/60 [01:52<00:00,  1.88s/it]\n"
     ]
    }
   ],
   "source": [
    "# new, old = get_trajs_for_state(i, aa, phase, length, out_dir, index, vanilla=True)\n",
    "# pos_new, pos_old = get_trajs_for_state(i, aa, phase, length, out_dir, index, vanilla=False, htf=htf)\n",
    "pos_new, pos_old = get_trajs_for_state(i, aa, phase, length, out_dir, index, vanilla=False, htf=htf)"
   ]
  },
  {
   "cell_type": "code",
   "execution_count": 5,
   "metadata": {},
   "outputs": [],
   "source": [
    "traj_new = md.Trajectory(pos_new, md.Topology.from_openmm(htf._topology_proposal.new_topology))\n",
    "traj_new.save(out_dir + f\"new_{index}.dcd\")"
   ]
  },
  {
   "cell_type": "code",
   "execution_count": 6,
   "metadata": {},
   "outputs": [],
   "source": [
    "traj_new[0].save(out_dir + f\"new_{index}.pdb\")"
   ]
  },
  {
   "cell_type": "code",
   "execution_count": 7,
   "metadata": {},
   "outputs": [],
   "source": [
    "traj_old = md.Trajectory(pos_old, md.Topology.from_openmm(htf._topology_proposal.old_topology))\n",
    "# traj_old = md.Trajectory(pos, md.Topology.from_openmm(topology))\n",
    "traj_old.save(out_dir + f\"old_{index}.dcd\") # index here indicates the index of the state"
   ]
  },
  {
   "cell_type": "code",
   "execution_count": 8,
   "metadata": {},
   "outputs": [],
   "source": [
    "traj_old[0].save(out_dir + f\"old_{index}.pdb\")"
   ]
  },
  {
   "cell_type": "code",
   "execution_count": 13,
   "metadata": {},
   "outputs": [
    {
     "data": {
      "text/plain": [
       "{694,\n",
       " 695,\n",
       " 696,\n",
       " 697,\n",
       " 698,\n",
       " 699,\n",
       " 700,\n",
       " 701,\n",
       " 702,\n",
       " 703,\n",
       " 706,\n",
       " 707,\n",
       " 708,\n",
       " 709,\n",
       " 710,\n",
       " 711,\n",
       " 712,\n",
       " 713}"
      ]
     },
     "execution_count": 13,
     "metadata": {},
     "output_type": "execute_result"
    }
   ],
   "source": [
    "htf._atom_classes['unique_old_atoms']"
   ]
  },
  {
   "cell_type": "code",
   "execution_count": 14,
   "metadata": {},
   "outputs": [
    {
     "data": {
      "text/plain": [
       "{14877,\n",
       " 14878,\n",
       " 14879,\n",
       " 14880,\n",
       " 14881,\n",
       " 14882,\n",
       " 14883,\n",
       " 14884,\n",
       " 14885,\n",
       " 14886,\n",
       " 14887,\n",
       " 14888,\n",
       " 14889,\n",
       " 14890}"
      ]
     },
     "execution_count": 14,
     "metadata": {},
     "output_type": "execute_result"
    }
   ],
   "source": [
    "htf._atom_classes['unique_new_atoms']"
   ]
  },
  {
   "cell_type": "code",
   "execution_count": null,
   "metadata": {},
   "outputs": [],
   "source": [
    "# Get traj for 8/31 neq old positions"
   ]
  },
  {
   "cell_type": "code",
   "execution_count": 10,
   "metadata": {},
   "outputs": [],
   "source": [
    "with open(\"31_complex.pickle\", \"rb\") as f:\n",
    "    htf = pickle.load(f)\n"
   ]
  },
  {
   "cell_type": "code",
   "execution_count": 28,
   "metadata": {},
   "outputs": [],
   "source": [
    "with open(\"31_complex_9_forward_neq_old.npy\", \"rb\") as f:\n",
    "    forward_neq_old = np.load(f)"
   ]
  },
  {
   "cell_type": "code",
   "execution_count": 29,
   "metadata": {},
   "outputs": [],
   "source": [
    "with open(\"31_complex_9_reverse_neq_old.npy\", \"rb\") as f:\n",
    "    reverse_neq_old = np.load(f)"
   ]
  },
  {
   "cell_type": "code",
   "execution_count": 30,
   "metadata": {},
   "outputs": [],
   "source": [
    "from simtk.openmm.app import Modeller\n",
    "modeller = Modeller(htf._topology_proposal.old_topology, htf.old_positions(htf.hybrid_positions))\n",
    "modeller.deleteWater()"
   ]
  },
  {
   "cell_type": "code",
   "execution_count": 31,
   "metadata": {},
   "outputs": [],
   "source": [
    "traj_old = md.Trajectory(forward_neq_old, md.Topology.from_openmm(modeller.topology))\n",
    "traj_old.save(\"31_complex_9_forward_neq_old.dcd\") # index here indicates the index of the state"
   ]
  },
  {
   "cell_type": "code",
   "execution_count": 32,
   "metadata": {},
   "outputs": [],
   "source": [
    "traj_old[0].save(\"31_complex_9_forward_neq_old.pdb\")"
   ]
  },
  {
   "cell_type": "code",
   "execution_count": 33,
   "metadata": {},
   "outputs": [],
   "source": [
    "traj_old = md.Trajectory(reverse_neq_old, md.Topology.from_openmm(modeller.topology))\n",
    "traj_old.save(\"31_complex_9_reverse_neq_old.dcd\") # index here indicates the index of the state"
   ]
  },
  {
   "cell_type": "code",
   "execution_count": 34,
   "metadata": {},
   "outputs": [],
   "source": [
    "traj_old[0].save(\"31_complex_9_reverse_neq_old.pdb\")"
   ]
  },
  {
   "cell_type": "code",
   "execution_count": null,
   "metadata": {},
   "outputs": [],
   "source": []
  },
  {
   "cell_type": "code",
   "execution_count": 2,
   "metadata": {},
   "outputs": [],
   "source": [
    "with open(\"/data/chodera/zhangi/perses_benchmark/neq/12/43/43_complex_trp_1ns_snapshots.npy\", \"rb\") as f:\n",
    "    pos = np.load(f)"
   ]
  },
  {
   "cell_type": "code",
   "execution_count": 3,
   "metadata": {},
   "outputs": [],
   "source": [
    "with open(\"/data/chodera/zhangi/perses_benchmark/neq/12/43/43_complex_1.pickle\", \"rb\") as f:\n",
    "    htf = pickle.load(f)"
   ]
  },
  {
   "cell_type": "code",
   "execution_count": 33,
   "metadata": {},
   "outputs": [],
   "source": [
    "pos_new = np.zeros(shape=(pos.shape[0], htf._topology_proposal.new_topology.getNumAtoms(), pos.shape[2]))\n",
    "for i, p in enumerate(pos):\n",
    "    pos_new[i] = htf.new_positions(p*unit.nanometers)"
   ]
  },
  {
   "cell_type": "code",
   "execution_count": 36,
   "metadata": {},
   "outputs": [],
   "source": [
    "traj = md.Trajectory(pos_new, md.Topology.from_openmm(htf._topology_proposal.new_topology))"
   ]
  },
  {
   "cell_type": "code",
   "execution_count": null,
   "metadata": {},
   "outputs": [],
   "source": [
    "traj.save(\"/data/chodera/zhangi/perses_benchmark/neq/12/43/43_complex_trp_1ns_snapshots.dcd\")\n",
    "traj[0].save(\"/data/chodera/zhangi/perses_benchmark/neq/12/43/43_complex_trp_1ns_snapshots.pdb\")"
   ]
  },
  {
   "cell_type": "code",
   "execution_count": null,
   "metadata": {},
   "outputs": [],
   "source": []
  },
  {
   "cell_type": "code",
   "execution_count": 2,
   "metadata": {},
   "outputs": [],
   "source": [
    "with open(\"/data/chodera/zhangi/perses_benchmark/neq/12/42/42_complex_trp_1ns_snapshots.npy\", \"rb\") as f:\n",
    "    pos = np.load(f)"
   ]
  },
  {
   "cell_type": "code",
   "execution_count": 3,
   "metadata": {},
   "outputs": [],
   "source": [
    "with open(\"/data/chodera/zhangi/perses_benchmark/neq/12/42/42_complex_0.pickle\", \"rb\") as f:\n",
    "    htf = pickle.load(f)"
   ]
  },
  {
   "cell_type": "code",
   "execution_count": 5,
   "metadata": {},
   "outputs": [],
   "source": [
    "pos_old = np.zeros(shape=(pos.shape[0], htf._topology_proposal.old_topology.getNumAtoms(), pos.shape[2]))\n",
    "for i, p in enumerate(pos):\n",
    "    pos_old[i] = htf.old_positions(p*unit.nanometers)"
   ]
  },
  {
   "cell_type": "code",
   "execution_count": 6,
   "metadata": {},
   "outputs": [],
   "source": [
    "traj = md.Trajectory(pos_old, md.Topology.from_openmm(htf._topology_proposal.old_topology))"
   ]
  },
  {
   "cell_type": "code",
   "execution_count": 7,
   "metadata": {},
   "outputs": [],
   "source": [
    "traj.save(\"/data/chodera/zhangi/perses_benchmark/neq/12/42/42_complex_trp_1ns_snapshots.dcd\")\n",
    "traj[0].save(\"/data/chodera/zhangi/perses_benchmark/neq/12/42/42_complex_trp_1ns_snapshots.pdb\")"
   ]
  },
  {
   "cell_type": "code",
   "execution_count": null,
   "metadata": {},
   "outputs": [],
   "source": []
  }
 ],
 "metadata": {
  "kernelspec": {
   "display_name": "Python 3",
   "language": "python",
   "name": "python3"
  },
  "language_info": {
   "codemirror_mode": {
    "name": "ipython",
    "version": 3
   },
   "file_extension": ".py",
   "mimetype": "text/x-python",
   "name": "python",
   "nbconvert_exporter": "python",
   "pygments_lexer": "ipython3",
   "version": "3.7.8"
  }
 },
 "nbformat": 4,
 "nbformat_minor": 4
}
