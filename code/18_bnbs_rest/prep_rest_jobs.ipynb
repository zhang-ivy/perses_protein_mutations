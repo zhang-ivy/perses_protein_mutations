{
 "cells": [
  {
   "cell_type": "code",
   "execution_count": 67,
   "metadata": {},
   "outputs": [],
   "source": [
    "import argparse\n",
    "import os\n",
    "import yaml\n",
    "\n"
   ]
  },
  {
   "cell_type": "code",
   "execution_count": 73,
   "metadata": {},
   "outputs": [
    {
     "name": "stdout",
     "output_type": "stream",
     "text": [
      "107 [50, 'ASP', 'ALA', '39']\n",
      "108 [51, 'ALA', 'ASP', '39']\n",
      "109 [56, 'LYS', 'ALA', '27']\n",
      "110 [57, 'ALA', 'LYS', '27']\n",
      "111 [58, 'ARG', 'ALA', '59']\n",
      "112 [59, 'ALA', 'ARG', '59']\n",
      "113 [60, 'ARG', 'GLN', '83']\n",
      "114 [61, 'GLN', 'ARG', '83']\n",
      "115 [62, 'ARG', 'ALA', '87']\n",
      "116 [63, 'ALA', 'ARG', '87']\n"
     ]
    },
    {
     "name": "stderr",
     "output_type": "stream",
     "text": [
      "/home/zhangi/miniconda3/envs/perses-sims-oct2020/lib/python3.7/site-packages/ipykernel_launcher.py:2: YAMLLoadWarning: calling yaml.load() without Loader=... is deprecated, as the default Loader is unsafe. Please read https://msg.pyyaml.org/load for full details.\n",
      "  \n"
     ]
    }
   ],
   "source": [
    "stream = open(\"test.yaml\", 'r')\n",
    "dictionary = yaml.load(stream)\n",
    "for key, value in dictionary.items():\n",
    "    print (key, value)\n",
    "    old, old_aa, new_aa, resid = value"
   ]
  },
  {
   "cell_type": "code",
   "execution_count": null,
   "metadata": {},
   "outputs": [],
   "source": []
  },
  {
   "cell_type": "code",
   "execution_count": 74,
   "metadata": {},
   "outputs": [],
   "source": [
    "# Define mutation parameters\n",
    "old = 50\n",
    "new = 107\n",
    "old_aa = \"ASP\"\n",
    "new_aa = \"ALA\"\n",
    "resid = \"39\"\n",
    "template_file = \"/home/zhangi/choderalab/perses_benchmark/perses_protein_mutations/code/18_bnbs_rest/run_rest2_template.sh\"\n",
    "out_dir = \"/data/chodera/zhangi/perses_benchmark/neq/12/\"\n",
    "\n",
    "# Define job parameters\n",
    "wall_time = 12\n",
    "memory = 5\n",
    "script_version = 4"
   ]
  },
  {
   "cell_type": "code",
   "execution_count": 43,
   "metadata": {},
   "outputs": [],
   "source": [
    "# # Read filename\n",
    "# parser = argparse.ArgumentParser(description='edit tleap file')\n",
    "# parser.add_argument('out_name', type=str, help='name of out file to check')\n",
    "# parser.add_argument('in_name', type=str, help='name of in file to edit')\n",
    "# args = parser.parse_args()\n",
    "\n"
   ]
  },
  {
   "cell_type": "code",
   "execution_count": 75,
   "metadata": {},
   "outputs": [
    {
     "name": "stdout",
     "output_type": "stream",
     "text": [
      "#!/usr/bin/env bash\n",
      "\n",
      "# Set walltime limit\n",
      "\n",
      "#BSUB -W 12:00\n",
      "\n",
      "#\n",
      "\n",
      "# Set output file\n",
      "\n",
      "#BSUB -o 12.107.%I.out\n",
      "\n",
      "#\n",
      "\n",
      "# Set error file\n",
      "\n",
      "#BSUB -eo 12.107.%I.stderr\n",
      "\n",
      "#\n",
      "\n",
      "# Specify node group\n",
      "\n",
      "#BSUB -m \"ld-gpu lg-gpu lp-gpu lt-gpu lu-gpu lv-gpu lw-gpu lx-gpu ly-gpu\"\n",
      "\n",
      "#BSUB -q gpuqueue\n",
      "\n",
      "#\n",
      "\n",
      "# nodes: number of nodes and GPU request\n",
      "\n",
      "#BSUB -n 1 -R \"rusage[mem=5]\"\n",
      "\n",
      "#BSUB -gpu \"num=1:j_exclusive=yes:mode=shared\"\n",
      "\n",
      "#\n",
      "\n",
      "# job name (default = name of script file)\n",
      "\n",
      "#BSUB -J \"12.107[1-4]\"\n",
      "\n",
      "\n",
      "\n",
      "source ~/.bashrc\n",
      "\n",
      "module load cuda/10.1\n",
      "\n",
      "conda activate perses-sims-oct2020\n",
      "\n",
      "\n",
      "\n",
      "old=50\n",
      "\n",
      "new=107\n",
      "\n",
      "old_aa=ASP\n",
      "\n",
      "new_aa=ALA\n",
      "\n",
      "resid=39\n",
      "\n",
      "\n",
      "\n",
      "# Make dirs and copy r-htfs for rest\n",
      "\n",
      "cd /data/chodera/zhangi/perses_benchmark/neq/12/\n",
      "\n",
      "cp $old/$old\\_apo_0.pickle $new/$new\\_apo_0.pickle\n",
      "\n",
      "cp $old/$old\\_apo_1.pickle $new/$new\\_apo_1.pickle\n",
      "\n",
      "cp $old/$old\\_complex_0.pickle $new/$new\\_complex_0.pickle\n",
      "\n",
      "cp $old/$old\\_complex_1.pickle $new/$new\\_complex_1.pickle\n",
      "\n",
      "\n",
      "\n",
      "# Run and analyze rest\n",
      "\n",
      "cd /home/zhangi/choderalab/perses_benchmark/perses_protein_mutations/code/18_bnbs_rest\n",
      "\n",
      "python generate_rest2_cache_bnbs_auto_lang_extreme_4.py \"/data/chodera/zhangi/perses_benchmark/neq/12/$new/\" $resid $old_aa $new_aa \"${LSB_JOBINDEX}\" \"../../input/mmc2_barnase.pdb\"\n",
      "\n",
      "python analyze_cache_general.py \"/data/chodera/zhangi/perses_benchmark/neq/12/$new/\" $resid $old_aa $new_aa \"${LSB_JOBINDEX}\"\n",
      "\n",
      "\n",
      "\n",
      "# Make neq directories and copy caches there\n",
      "\n",
      "cd /data/chodera/zhangi/perses_benchmark/neq/13/\n",
      "\n",
      "mkdir $new\n",
      "\n",
      "cp /data/chodera/zhangi/perses_benchmark/neq/12/$new/*.npy /data/chodera/zhangi/perses_benchmark/neq/13/$new/\n",
      "\n",
      "cp $old/$old\\_apo.pickle $new/$new\\_apo.pickle\n",
      "\n",
      "cp $old/$old\\_complex.pickle $new/$new\\_complex.pickle\n",
      "\n",
      "\n",
      "\n"
     ]
    }
   ],
   "source": [
    "# Edit template bash file\n",
    "with open(template_file, \"r\") as f:\n",
    "    lines_out = f.readlines()\n",
    "\n",
    "lines_new = []\n",
    "for line in lines_out:\n",
    "    if \"#BSUB -W\" in line:\n",
    "        line = line[:9] + str(wall_time) + line[11:]\n",
    "    elif \"#BSUB -o\" in line:\n",
    "        line = line[:12] + str(new) + \".%I.out\\n\"\n",
    "    elif \"#BSUB -eo\" in line:\n",
    "        line = line[:13] + str(new) + \".%I.stderr\\n\"\n",
    "    elif \"#BSUB -n\" in line:\n",
    "        line = line[:26] + str(memory) + line[27:] \n",
    "    elif \"#BSUB -J\" in line:\n",
    "        line = line[:13] + str(new) + '[1-4]\"\\n'\n",
    "    elif \"old=\" in line:\n",
    "        line = f\"old={old}\\n\"\n",
    "    elif \"new=\" in line:\n",
    "        line = f\"new={new}\\n\"\n",
    "    elif \"old_aa=\" in line:\n",
    "        line = f\"old_aa={old_aa}\\n\"\n",
    "    elif \"new_aa=\" in line:\n",
    "        line = f\"new_aa={new_aa}\\n\"\n",
    "    elif \"resid=\" in line:\n",
    "        line = f\"resid={resid}\\n\"\n",
    "    elif \"python generate_rest2_cache\" in line:\n",
    "        line = line[:51] + str(script_version) + line[52:]\n",
    "    print(line)\n",
    "    lines_new.append(line)\n"
   ]
  },
  {
   "cell_type": "code",
   "execution_count": 76,
   "metadata": {},
   "outputs": [],
   "source": [
    "# Make dir and save new bash file\n",
    "os.system(f\"mkdir {os.path.join(out_dir, str(new))}\")\n",
    "\n",
    "with open(os.path.join(out_dir, str(new), \"run_rest2_all.sh\"), \"w\") as f:\n",
    "     f.writelines(lines_new)\n"
   ]
  },
  {
   "cell_type": "code",
   "execution_count": null,
   "metadata": {},
   "outputs": [],
   "source": []
  }
 ],
 "metadata": {
  "kernelspec": {
   "display_name": "Python 3",
   "language": "python",
   "name": "python3"
  },
  "language_info": {
   "codemirror_mode": {
    "name": "ipython",
    "version": 3
   },
   "file_extension": ".py",
   "mimetype": "text/x-python",
   "name": "python",
   "nbconvert_exporter": "python",
   "pygments_lexer": "ipython3",
   "version": "3.7.8"
  }
 },
 "nbformat": 4,
 "nbformat_minor": 4
}
