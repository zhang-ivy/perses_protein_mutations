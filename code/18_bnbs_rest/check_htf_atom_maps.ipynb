{
 "cells": [
  {
   "cell_type": "code",
   "execution_count": 1,
   "id": "ordered-relationship",
   "metadata": {},
   "outputs": [],
   "source": [
    "import pickle\n",
    "import os\n",
    "from perses.utils.smallmolecules import  render_protein_residue_atom_mapping\n",
    "from simtk.openmm import app"
   ]
  },
  {
   "cell_type": "code",
   "execution_count": 4,
   "id": "mediterranean-delta",
   "metadata": {},
   "outputs": [],
   "source": [
    "def write(outdir):\n",
    "    i = os.path.basename(os.path.dirname(outdir))\n",
    "    with open(os.path.join(outdir, f\"{i}_apo_0.pickle\"), \"rb\") as f:\n",
    "        htf = pickle.load(f)\n",
    "    \n",
    "    # Render atom map\n",
    "    atom_map_filename = f'{outdir}/atom_map.png'\n",
    "    render_protein_residue_atom_mapping(htf._topology_proposal, atom_map_filename)"
   ]
  },
  {
   "cell_type": "code",
   "execution_count": 5,
   "id": "dirty-allen",
   "metadata": {},
   "outputs": [],
   "source": [
    "outdir = \"/data/chodera/zhangi/perses_benchmark/neq/12/117/\"\n",
    "write(outdir)"
   ]
  },
  {
   "cell_type": "code",
   "execution_count": 6,
   "id": "southern-month",
   "metadata": {},
   "outputs": [],
   "source": [
    "outdir = \"/data/chodera/zhangi/perses_benchmark/neq/12/118/\"\n",
    "write(outdir)"
   ]
  },
  {
   "cell_type": "code",
   "execution_count": 7,
   "id": "inside-junior",
   "metadata": {},
   "outputs": [],
   "source": [
    "for i in range(119, 127):\n",
    "    outdir = f\"/data/chodera/zhangi/perses_benchmark/neq/12/{i}/\"\n",
    "    write(outdir)"
   ]
  },
  {
   "cell_type": "code",
   "execution_count": null,
   "id": "hispanic-breath",
   "metadata": {},
   "outputs": [],
   "source": []
  }
 ],
 "metadata": {
  "kernelspec": {
   "display_name": "Python 3",
   "language": "python",
   "name": "python3"
  },
  "language_info": {
   "codemirror_mode": {
    "name": "ipython",
    "version": 3
   },
   "file_extension": ".py",
   "mimetype": "text/x-python",
   "name": "python",
   "nbconvert_exporter": "python",
   "pygments_lexer": "ipython3",
   "version": "3.8.6"
  }
 },
 "nbformat": 4,
 "nbformat_minor": 5
}
