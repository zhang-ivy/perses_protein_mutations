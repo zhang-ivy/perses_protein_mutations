{
 "cells": [
  {
   "cell_type": "code",
   "execution_count": 1,
   "metadata": {},
   "outputs": [],
   "source": [
    "import math\n",
    "from simtk import unit\n",
    "import os\n",
    "import tempfile\n",
    "import pickle\n",
    "import mdtraj as md\n",
    "import numpy as np\n",
    "from simtk.unit.quantity import Quantity\n",
    "import logging\n",
    "\n",
    "# Set up logger\n",
    "_logger = logging.getLogger()\n",
    "_logger.setLevel(logging.INFO)\n",
    "\n",
    "from matplotlib import pyplot as plt\n",
    "from simtk.openmm import app\n",
    "from tqdm import tqdm\n",
    "import argparse\n",
    "import random"
   ]
  },
  {
   "cell_type": "code",
   "execution_count": null,
   "metadata": {},
   "outputs": [],
   "source": []
  },
  {
   "cell_type": "code",
   "execution_count": 7,
   "metadata": {},
   "outputs": [],
   "source": [
    "def get_dihedrals_all_replicas(i, aa, length, out_dir, htf, dihedral_indices_new, dihedral_indices_old):\n",
    "    new_top = md.Topology.from_openmm(htf._topology_proposal.new_topology)\n",
    "    old_top = md.Topology.from_openmm(htf._topology_proposal.old_topology)\n",
    "\n",
    "    # From Hannah: https://github.com/hannahbrucemacdonald/endstate_pdbs/blob/master/scripts/input_for_pol_calc.py\n",
    "    from perses.analysis.utils import open_netcdf\n",
    "    nc = open_netcdf(os.path.join(out_dir, f\"{i}_{phase}_{aa}_{length}ns.nc\"))\n",
    "    nc_checkpoint = open_netcdf(os.path.join(out_dir, f\"{i}_{phase}_{aa}_{length}ns_checkpoint.nc\"))\n",
    "    checkpoint_interval = nc_checkpoint.CheckpointInterval\n",
    "    all_positions = nc_checkpoint.variables['positions']\n",
    "    n_iter, n_replicas, n_atoms, _ = np.shape(all_positions)\n",
    "    n_iter = 5000\n",
    "    \n",
    "    from tqdm import tqdm\n",
    "    dihedrals_master = []\n",
    "    all_pos_hybrid_master = []\n",
    "    for j in [0]:\n",
    "        index = j # of replica\n",
    "#         all_pos_new = np.zeros(shape=(n_iter, new_top.n_atoms, 3))\n",
    "        all_pos_old = np.zeros(shape=(n_iter, old_top.n_atoms, 3))\n",
    "        all_pos_hybrid = np.zeros(shape=(n_iter, n_atoms, 3))\n",
    "        for iteration in tqdm(range(3000,  4000)):\n",
    "            replica_id = np.where(nc.variables['states'][iteration*checkpoint_interval] == index)[0]\n",
    "            pos = all_positions[iteration,replica_id,:,:][0] *unit.nanometers\n",
    "#             all_pos_new[iteration] = htf.new_positions(pos).value_in_unit_system(unit.md_unit_system) # Get new positions only\n",
    "            all_pos_hybrid[iteration] = pos # Get hybrid positions\n",
    "            all_pos_old[iteration] = htf.old_positions(pos).value_in_unit_system(unit.md_unit_system)\n",
    "        all_pos_hybrid_master.append(all_pos_hybrid)\n",
    "        \n",
    "        dihedrals_all = []\n",
    "        # write for loop for this part -- old and new atoms\n",
    "#         for pos, top, indices in zip([all_pos_new, all_pos_old], [new_top, old_top], [dihedral_indices_new, dihedral_indices_old]):\n",
    "#             traj = md.Trajectory(np.array(pos), top)\n",
    "#     #         dihedrals = np.sin(md.compute_dihedrals(traj, np.array([indices])))\n",
    "#             dihedrals = md.compute_dihedrals(traj, np.array([indices]))\n",
    "#             dihedrals_all.append(dihedrals)\n",
    "        traj = md.Trajectory(np.array(all_pos_old), old_top)\n",
    "        dihedrals = md.compute_dihedrals(traj, np.array([dihedral_indices_old]))\n",
    "        dihedrals_all.append(dihedrals)\n",
    "        dihedrals_master.append(dihedrals_all)\n",
    "    return dihedrals_master, n_iter, all_pos_hybrid_master\n",
    "\n",
    "def plot_dihedrals(dihedrals, outfile):\n",
    "    # Plot histogram with error bars : https://stackoverflow.com/questions/35390276/how-to-add-error-bars-to-histogram-diagram-in-python\n",
    "    entries, edges, _ = plt.hist(dihedrals)\n",
    "    bin_centers = 0.5 * (edges[:-1] + edges[1:]) # calculate bin centers\n",
    "    plt.errorbar(bin_centers, entries, yerr=np.sqrt(entries), fmt='r.') # draw errobars, use the sqrt error\n",
    "    plt.xlim(-np.pi, np.pi)\n",
    "#     plt.savefig(outfile, dpi=300)\n",
    "    plt.close()\n",
    "\n",
    "def plot_time_series(dihedrals, n_iter, outfile):\n",
    "    from perses.dispersed import feptasks\n",
    "    t0, g, neff_max, a_t, uncorrelated_indices = feptasks.compute_timeseries(dihedrals)\n",
    "\n",
    "    plt.scatter(range(n_iter), dihedrals)\n",
    "    plt.ylabel(\"dihedral\")\n",
    "    plt.xlabel(\"iteration number\")\n",
    "    plt.ylim(-np.pi, np.pi)\n",
    "    plt.show()\n",
    "#     plt.savefig(outfile, dpi=300)\n",
    "    plt.close()\n",
    "\n",
    "    return uncorrelated_indices\n",
    "\n",
    "def plot_dihedrals_uncorrelated(dihedrals, uncorrelated_indices, outfile):\n",
    "    # Plot histogram with error bars : https://stackoverflow.com/questions/35390276/how-to-add-error-bars-to-histogram-diagram-in-python\n",
    "    entries, edges, _ = plt.hist(dihedrals[uncorrelated_indices])\n",
    "    bin_centers = 0.5 * (edges[:-1] + edges[1:]) # calculate bin centers\n",
    "    plt.errorbar(bin_centers, entries, yerr=np.sqrt(entries), fmt='r.') # draw errobars, use the sqrt error\n",
    "    plt.xlim(-np.pi, np.pi)\n",
    "    plt.savefig(outfile, dpi=300)\n",
    "    plt.close()\n",
    "\n"
   ]
  },
  {
   "cell_type": "code",
   "execution_count": 8,
   "metadata": {},
   "outputs": [],
   "source": [
    "outdir = \"/data/chodera/zhangi/perses_benchmark/neq/12/36/\"\n",
    "name = \"THR\"\n",
    "endstate = 0\n",
    "phase = \"apo\"\n",
    "length = 5\n",
    "i = os.path.basename(os.path.dirname(outdir))\n",
    "aa = name.lower()"
   ]
  },
  {
   "cell_type": "code",
   "execution_count": 4,
   "metadata": {},
   "outputs": [],
   "source": [
    "with open(os.path.join(outdir, f\"{i}_{phase}_{endstate}.pickle\"), 'rb') as f:\n",
    "    htf = pickle.load(f)\n",
    "\n",
    "if name == 'THR': # r-htf\n",
    "    indices_old = [669, 670, 673, 674]\n",
    "    indices_new = [669, 670, 673, 676]\n",
    "elif name == 'SER': # r-htf\n",
    "    indices_old = [11, 10, 7, 6]\n",
    "    indices_new = [15, 10, 7, 6]\n",
    "elif name == 'ALA': # r-htf\n",
    "    indices_old = [669, 670, 673, 674]\n",
    "    #indices_new = [0, 6, 7, 10] # phi angle\n",
    "    indices_new = [669, 670, 673, 676]\n",
    "    "
   ]
  },
  {
   "cell_type": "code",
   "execution_count": 5,
   "metadata": {},
   "outputs": [
    {
     "name": "stderr",
     "output_type": "stream",
     "text": [
      "100%|██████████| 1000/1000 [18:24<00:00,  1.10s/it]\n"
     ]
    }
   ],
   "source": [
    "dihedrals, n_iter, all_pos_hybrid = get_dihedrals_all_replicas(i, aa, length, outdir, htf, indices_new, indices_old)                                       \n"
   ]
  },
  {
   "cell_type": "code",
   "execution_count": 6,
   "metadata": {
    "scrolled": true
   },
   "outputs": [
    {
     "name": "stderr",
     "output_type": "stream",
     "text": [
      "0it [00:00, ?it/s]INFO:numexpr.utils:Note: detected 72 virtual cores but NumExpr set to maximum of 64, check \"NUMEXPR_MAX_THREADS\" environment variable.\n",
      "INFO:numexpr.utils:Note: NumExpr detected 72 cores but \"NUMEXPR_MAX_THREADS\" not set, so enforcing safe limit of 8.\n",
      "INFO:numexpr.utils:NumExpr defaulting to 8 threads.\n",
      "DEBUG:matplotlib.font_manager:findfont: Matching sans\\-serif:style=normal:variant=normal:weight=normal:stretch=normal:size=10.0.\n",
      "DEBUG:matplotlib.font_manager:findfont: score(<Font 'cmb10' (cmb10.ttf) normal normal 400 normal>) = 10.05\n",
      "DEBUG:matplotlib.font_manager:findfont: score(<Font 'DejaVu Sans Mono' (DejaVuSansMono-Oblique.ttf) oblique normal 400 normal>) = 11.05\n",
      "DEBUG:matplotlib.font_manager:findfont: score(<Font 'STIXGeneral' (STIXGeneral.ttf) normal normal 400 normal>) = 10.05\n",
      "DEBUG:matplotlib.font_manager:findfont: score(<Font 'cmtt10' (cmtt10.ttf) normal normal 400 normal>) = 10.05\n",
      "DEBUG:matplotlib.font_manager:findfont: score(<Font 'DejaVu Sans Display' (DejaVuSansDisplay.ttf) normal normal 400 normal>) = 10.05\n",
      "DEBUG:matplotlib.font_manager:findfont: score(<Font 'STIXSizeFourSym' (STIXSizFourSymReg.ttf) normal normal 400 normal>) = 10.05\n",
      "DEBUG:matplotlib.font_manager:findfont: score(<Font 'cmss10' (cmss10.ttf) normal normal 400 normal>) = 10.05\n",
      "DEBUG:matplotlib.font_manager:findfont: score(<Font 'cmsy10' (cmsy10.ttf) normal normal 400 normal>) = 10.05\n",
      "DEBUG:matplotlib.font_manager:findfont: score(<Font 'DejaVu Serif' (DejaVuSerif.ttf) normal normal 400 normal>) = 10.05\n",
      "DEBUG:matplotlib.font_manager:findfont: score(<Font 'STIXSizeFourSym' (STIXSizFourSymBol.ttf) normal normal 700 normal>) = 10.335\n",
      "DEBUG:matplotlib.font_manager:findfont: score(<Font 'DejaVu Serif Display' (DejaVuSerifDisplay.ttf) normal normal 400 normal>) = 10.05\n",
      "DEBUG:matplotlib.font_manager:findfont: score(<Font 'STIXSizeThreeSym' (STIXSizThreeSymReg.ttf) normal normal 400 normal>) = 10.05\n",
      "DEBUG:matplotlib.font_manager:findfont: score(<Font 'STIXGeneral' (STIXGeneralItalic.ttf) italic normal 400 normal>) = 11.05\n",
      "DEBUG:matplotlib.font_manager:findfont: score(<Font 'STIXSizeOneSym' (STIXSizOneSymReg.ttf) normal normal 400 normal>) = 10.05\n",
      "DEBUG:matplotlib.font_manager:findfont: score(<Font 'DejaVu Sans Mono' (DejaVuSansMono-BoldOblique.ttf) oblique normal 700 normal>) = 11.335\n",
      "DEBUG:matplotlib.font_manager:findfont: score(<Font 'DejaVu Sans' (DejaVuSans-Oblique.ttf) oblique normal 400 normal>) = 1.05\n",
      "DEBUG:matplotlib.font_manager:findfont: score(<Font 'DejaVu Sans' (DejaVuSans-BoldOblique.ttf) oblique normal 700 normal>) = 1.335\n",
      "DEBUG:matplotlib.font_manager:findfont: score(<Font 'DejaVu Sans Mono' (DejaVuSansMono.ttf) normal normal 400 normal>) = 10.05\n",
      "DEBUG:matplotlib.font_manager:findfont: score(<Font 'STIXSizeTwoSym' (STIXSizTwoSymReg.ttf) normal normal 400 normal>) = 10.05\n",
      "DEBUG:matplotlib.font_manager:findfont: score(<Font 'cmr10' (cmr10.ttf) normal normal 400 normal>) = 10.05\n",
      "DEBUG:matplotlib.font_manager:findfont: score(<Font 'STIXNonUnicode' (STIXNonUniIta.ttf) italic normal 400 normal>) = 11.05\n",
      "DEBUG:matplotlib.font_manager:findfont: score(<Font 'STIXGeneral' (STIXGeneralBolIta.ttf) italic normal 700 normal>) = 11.335\n",
      "DEBUG:matplotlib.font_manager:findfont: score(<Font 'DejaVu Serif' (DejaVuSerif-Bold.ttf) normal normal 700 normal>) = 10.335\n",
      "DEBUG:matplotlib.font_manager:findfont: score(<Font 'DejaVu Serif' (DejaVuSerif-Italic.ttf) italic normal 400 normal>) = 11.05\n",
      "DEBUG:matplotlib.font_manager:findfont: score(<Font 'STIXNonUnicode' (STIXNonUniBolIta.ttf) italic normal 700 normal>) = 11.335\n",
      "DEBUG:matplotlib.font_manager:findfont: score(<Font 'STIXSizeTwoSym' (STIXSizTwoSymBol.ttf) normal normal 700 normal>) = 10.335\n",
      "DEBUG:matplotlib.font_manager:findfont: score(<Font 'DejaVu Serif' (DejaVuSerif-BoldItalic.ttf) italic normal 700 normal>) = 11.335\n",
      "DEBUG:matplotlib.font_manager:findfont: score(<Font 'STIXNonUnicode' (STIXNonUni.ttf) normal normal 400 normal>) = 10.05\n",
      "DEBUG:matplotlib.font_manager:findfont: score(<Font 'DejaVu Sans' (DejaVuSans-Bold.ttf) normal normal 700 normal>) = 0.33499999999999996\n",
      "DEBUG:matplotlib.font_manager:findfont: score(<Font 'STIXSizeOneSym' (STIXSizOneSymBol.ttf) normal normal 700 normal>) = 10.335\n",
      "DEBUG:matplotlib.font_manager:findfont: score(<Font 'DejaVu Sans Mono' (DejaVuSansMono-Bold.ttf) normal normal 700 normal>) = 10.335\n",
      "DEBUG:matplotlib.font_manager:findfont: score(<Font 'STIXSizeThreeSym' (STIXSizThreeSymBol.ttf) normal normal 700 normal>) = 10.335\n",
      "DEBUG:matplotlib.font_manager:findfont: score(<Font 'cmmi10' (cmmi10.ttf) normal normal 400 normal>) = 10.05\n",
      "DEBUG:matplotlib.font_manager:findfont: score(<Font 'STIXSizeFiveSym' (STIXSizFiveSymReg.ttf) normal normal 400 normal>) = 10.05\n",
      "DEBUG:matplotlib.font_manager:findfont: score(<Font 'DejaVu Sans' (DejaVuSans.ttf) normal normal 400 normal>) = 0.05\n",
      "DEBUG:matplotlib.font_manager:findfont: score(<Font 'STIXGeneral' (STIXGeneralBol.ttf) normal normal 700 normal>) = 10.335\n",
      "DEBUG:matplotlib.font_manager:findfont: score(<Font 'cmex10' (cmex10.ttf) normal normal 400 normal>) = 10.05\n",
      "DEBUG:matplotlib.font_manager:findfont: score(<Font 'STIXNonUnicode' (STIXNonUniBol.ttf) normal normal 700 normal>) = 10.335\n",
      "DEBUG:matplotlib.font_manager:findfont: score(<Font 'DejaVu Sans Mono' (DejaVuSansMono-Oblique.ttf) oblique normal 400 normal>) = 11.05\n",
      "DEBUG:matplotlib.font_manager:findfont: score(<Font 'DejaVu Sans Mono' (DejaVuSansMono-Bold.ttf) normal normal 700 normal>) = 10.335\n",
      "DEBUG:matplotlib.font_manager:findfont: score(<Font 'DejaVu Sans' (DejaVuSans-ExtraLight.ttf) normal normal 200 normal>) = 0.24\n",
      "DEBUG:matplotlib.font_manager:findfont: score(<Font 'STIX' (STIX-BoldItalic.otf) italic normal 700 normal>) = 11.335\n",
      "DEBUG:matplotlib.font_manager:findfont: score(<Font 'DejaVu Sans Mono' (DejaVuSansMono-BoldOblique.ttf) oblique normal 700 normal>) = 11.335\n",
      "DEBUG:matplotlib.font_manager:findfont: score(<Font 'Liberation Sans' (LiberationSans-BoldItalic.ttf) italic normal 700 normal>) = 11.335\n",
      "DEBUG:matplotlib.font_manager:findfont: score(<Font 'DejaVu Sans' (DejaVuSansCondensed.ttf) normal normal 400 condensed>) = 0.25\n",
      "DEBUG:matplotlib.font_manager:findfont: score(<Font 'DejaVu Sans' (DejaVuSans-BoldOblique.ttf) oblique normal 700 normal>) = 1.335\n",
      "DEBUG:matplotlib.font_manager:findfont: score(<Font 'DejaVu Sans' (DejaVuSans.ttf) normal normal 400 normal>) = 0.05\n",
      "DEBUG:matplotlib.font_manager:findfont: score(<Font 'Liberation Sans' (LiberationSans-Regular.ttf) normal normal 400 normal>) = 10.05\n",
      "DEBUG:matplotlib.font_manager:findfont: score(<Font 'STIX' (STIX-Regular.otf) normal normal 400 normal>) = 10.05\n",
      "DEBUG:matplotlib.font_manager:findfont: score(<Font 'Liberation Sans' (LiberationSans-Bold.ttf) normal normal 700 normal>) = 10.335\n",
      "DEBUG:matplotlib.font_manager:findfont: score(<Font 'STIX' (STIX-Italic.otf) italic normal 400 normal>) = 11.05\n",
      "DEBUG:matplotlib.font_manager:findfont: score(<Font 'DejaVu Sans' (DejaVuSans-Bold.ttf) normal normal 700 normal>) = 0.33499999999999996\n",
      "DEBUG:matplotlib.font_manager:findfont: score(<Font 'DejaVu Sans' (DejaVuSansCondensed-BoldOblique.ttf) oblique normal 700 condensed>) = 1.535\n",
      "DEBUG:matplotlib.font_manager:findfont: score(<Font 'DejaVu Sans' (DejaVuSansCondensed-Bold.ttf) normal normal 700 condensed>) = 0.5349999999999999\n",
      "DEBUG:matplotlib.font_manager:findfont: score(<Font 'DejaVu Sans' (DejaVuSansCondensed-Oblique.ttf) oblique normal 400 condensed>) = 1.25\n",
      "DEBUG:matplotlib.font_manager:findfont: score(<Font 'STIX' (STIX-Bold.otf) normal normal 700 normal>) = 10.335\n",
      "DEBUG:matplotlib.font_manager:findfont: score(<Font 'DejaVu Sans Mono' (DejaVuSansMono.ttf) normal normal 400 normal>) = 10.05\n",
      "DEBUG:matplotlib.font_manager:findfont: score(<Font 'DejaVu Sans' (DejaVuSans-Oblique.ttf) oblique normal 400 normal>) = 1.05\n",
      "DEBUG:matplotlib.font_manager:findfont: score(<Font 'Liberation Sans' (LiberationSans-Italic.ttf) italic normal 400 normal>) = 11.05\n",
      "DEBUG:matplotlib.font_manager:findfont: Matching sans\\-serif:style=normal:variant=normal:weight=normal:stretch=normal:size=10.0 to DejaVu Sans ('/home/zhangi/miniconda3/envs/perses-sims-oct2020/lib/python3.7/site-packages/matplotlib/mpl-data/fonts/ttf/DejaVuSans.ttf') with score of 0.050000.\n"
     ]
    },
    {
     "data": {
      "image/png": "[encoded data removed]",
      "text/plain": [
       "<Figure size 432x288 with 1 Axes>"
      ]
     },
     "metadata": {
      "needs_background": "light"
     },
     "output_type": "display_data"
    },
    {
     "name": "stderr",
     "output_type": "stream",
     "text": [
      "1it [00:07,  7.34s/it]\n"
     ]
    }
   ],
   "source": [
    "new_aa = \"ala\"\n",
    "old_aa = \"thr\"\n",
    "\n",
    "for j, replica in tqdm(enumerate(dihedrals)):\n",
    "#     dihedrals_new = replica[0]\n",
    "#     dihedrals_old = replica[1]\n",
    "    dihedrals_old = replica[0]\n",
    "    plot_dihedrals(dihedrals_old, os.path.join(outdir, f\"{i}_{phase}_{aa}_{length}_{j}_{old_aa}_correlated.png\"))\n",
    "    uncorrelated_old = plot_time_series(dihedrals_old, n_iter, os.path.join(outdir, f\"{i}_{phase}_{aa}_{length}_{j}_{old_aa}_timeseries.png\"))\n",
    "#     plot_dihedrals_uncorrelated(dihedrals_old, uncorrelated_old, os.path.join(out_dir, f\"{i}_{args.phase}_{aa}_{length}_{j}_{old_aa}_decorrelated.png\"))\n",
    "#     plot_dihedrals(dihedrals_new, os.path.join(out_dir, f\"{i}_{args.phase}_{aa}_{length}_{j}_{new_aa}_correlated.png\"))\n",
    "#     uncorrelated_new = plot_time_series(dihedrals_new, n_iter, os.path.join(out_dir, f\"{i}_{args.phase}_{aa}_{length}_{j}_{new_aa}_timeseries.png\"))\n",
    "#     plot_dihedrals_uncorrelated(dihedrals_new, uncorrelated_new, os.path.join(out_dir, f\"{i}_{args.phase}_{aa}_{length}_{j}_{new_aa}_decorrelated.png\"))"
   ]
  },
  {
   "cell_type": "code",
   "execution_count": 36,
   "metadata": {},
   "outputs": [],
   "source": [
    "# Create states for each replica\n",
    "n_replicas = 12  # Number of temperature replicas.\n",
    "T_min = 298.0 * unit.kelvin  # Minimum temperature.\n",
    "T_max = 1200.0 * unit.kelvin  # Maximum temperature.\n",
    "temperatures = [T_min + (T_max - T_min) * (math.exp(float(i) / float(n_replicas-1)) - 1.0) / (math.e - 1.0)\n",
    "                for i in range(n_replicas)]"
   ]
  },
  {
   "cell_type": "code",
   "execution_count": 11,
   "metadata": {},
   "outputs": [
    {
     "data": {
      "text/plain": [
       "[Quantity(value=298.0, unit=kelvin),\n",
       " Quantity(value=347.95853028599566, unit=kelvin),\n",
       " Quantity(value=402.6715859162709, unit=kelvin),\n",
       " Quantity(value=462.5916524047109, unit=kelvin),\n",
       " Quantity(value=528.2142780581083, unit=kelvin),\n",
       " Quantity(value=600.0821722380443, unit=kelvin),\n",
       " Quantity(value=678.7896936520565, unit=kelvin),\n",
       " Quantity(value=764.9877657929634, unit=kelvin),\n",
       " Quantity(value=859.3892601777964, unit=kelvin),\n",
       " Quantity(value=962.7748919065651, unit=kelvin),\n",
       " Quantity(value=1075.999676298049, unit=kelvin),\n",
       " Quantity(value=1200.0, unit=kelvin)]"
      ]
     },
     "execution_count": 11,
     "metadata": {},
     "output_type": "execute_result"
    }
   ],
   "source": [
    "temperatures"
   ]
  },
  {
   "cell_type": "code",
   "execution_count": 16,
   "metadata": {},
   "outputs": [],
   "source": [
    "# Create states for each replica\n",
    "n_replicas = 20  # Number of temperature replicas.\n",
    "T_min = 298.0 * unit.kelvin  # Minimum temperature.\n",
    "T_max = 2000.0 * unit.kelvin  # Maximum temperature.\n",
    "temperatures = [T_min + (T_max - T_min) * (math.exp(float(i) / float(n_replicas-1)) - 1.0) / (math.e - 1.0)\n",
    "                for i in range(n_replicas)]"
   ]
  },
  {
   "cell_type": "code",
   "execution_count": 17,
   "metadata": {},
   "outputs": [
    {
     "data": {
      "text/plain": [
       "[Quantity(value=298.0, unit=kelvin),\n",
       " Quantity(value=351.5291669665935, unit=kelvin),\n",
       " Quantity(value=407.95111663096566, unit=kelvin),\n",
       " Quantity(value=467.42217856465265, unit=kelvin),\n",
       " Quantity(value=530.1071305834903, unit=kelvin),\n",
       " Quantity(value=596.1796553012331, unit=kelvin),\n",
       " Quantity(value=665.8228213559005, unit=kelvin),\n",
       " Quantity(value=739.2295906421895, unit=kelvin),\n",
       " Quantity(value=816.603352955359, unit=kelvin),\n",
       " Quantity(value=898.1584895279351, unit=kelvin),\n",
       " Quantity(value=984.1209670206374, unit=kelvin),\n",
       " Quantity(value=1074.7289636133153, unit=kelvin),\n",
       " Quantity(value=1170.233528930615, unit=kelvin),\n",
       " Quantity(value=1270.8992796308519, unit=kelvin),\n",
       " Quantity(value=1377.0051325853656, unit=kelvin),\n",
       " Quantity(value=1488.845077679805, unit=kelvin),\n",
       " Quantity(value=1606.7289923785465, unit=kelvin),\n",
       " Quantity(value=1730.983500309194, unit=kelvin),\n",
       " Quantity(value=1861.952876246047, unit=kelvin),\n",
       " Quantity(value=2000.0, unit=kelvin)]"
      ]
     },
     "execution_count": 17,
     "metadata": {},
     "output_type": "execute_result"
    }
   ],
   "source": [
    "temperatures"
   ]
  },
  {
   "cell_type": "code",
   "execution_count": 29,
   "metadata": {},
   "outputs": [],
   "source": [
    "# Create states for each replica\n",
    "n_replicas = 40  # Number of temperature replicas.\n",
    "T_min = 298.0 * unit.kelvin  # Minimum temperature.\n",
    "T_max = 5000.0 * unit.kelvin  # Maximum temperature.\n",
    "temperatures = [T_min + (T_max - T_min) * (math.exp(float(i) / float(n_replicas-1)) - 1.0) / (math.e - 1.0)\n",
    "                for i in range(n_replicas)]"
   ]
  },
  {
   "cell_type": "code",
   "execution_count": 30,
   "metadata": {},
   "outputs": [
    {
     "data": {
      "text/plain": [
       "[Quantity(value=298.0, unit=kelvin),\n",
       " Quantity(value=369.07279512770856, unit=kelvin),\n",
       " Quantity(value=441.99153443322905, unit=kelvin),\n",
       " Quantity(value=516.8041618577208, unit=kelvin),\n",
       " Quantity(value=593.5598665704056, unit=kelvin),\n",
       " Quantity(value=672.3091153103605, unit=kelvin),\n",
       " Quantity(value=753.1036855683083, unit=kelvin),\n",
       " Quantity(value=835.9966996302245, unit=kelvin),\n",
       " Quantity(value=921.0426595051475, unit=kelvin),\n",
       " Quantity(value=1008.2974827601512, unit=kelvin),\n",
       " Quantity(value=1097.8185392860446, unit=kelvin),\n",
       " Quantity(value=1189.6646890179768, unit=kelvin),\n",
       " Quantity(value=1283.8963206357334, unit=kelvin),\n",
       " Quantity(value=1380.5753912691916, unit=kelvin),\n",
       " Quantity(value=1479.7654672350202, unit=kelvin),\n",
       " Quantity(value=1581.5317658314184, unit=kelvin),\n",
       " Quantity(value=1685.9411982183744, unit=kelvin),\n",
       " Quantity(value=1793.0624134116365, unit=kelvin),\n",
       " Quantity(value=1902.9658434193132, unit=kelvin),\n",
       " Quantity(value=2015.7237495507952, unit=kelvin),\n",
       " Quantity(value=2131.410269928442, unit=kelvin),\n",
       " Quantity(value=2250.101468233257, unit=kelvin),\n",
       " Quantity(value=2371.875383716631, unit=kelvin),\n",
       " Quantity(value=2496.8120825110022, unit=kelvin),\n",
       " Quantity(value=2624.9937102732038, unit=kelvin),\n",
       " Quantity(value=2756.504546195081, unit=kelvin),\n",
       " Quantity(value=2891.43105841691, unit=kelvin),\n",
       " Quantity(value=3029.8619608800536, unit=kelvin),\n",
       " Quantity(value=3171.888271656207, unit=kelvin),\n",
       " Quantity(value=3317.603372791631, unit=kelvin),\n",
       " Quantity(value=3467.1030717056683, unit=kelvin),\n",
       " Quantity(value=3620.48566418396, unit=kelvin),\n",
       " Quantity(value=3777.8519990077475, unit=kelvin),\n",
       " Quantity(value=3939.3055442617665, unit=kelvin),\n",
       " Quantity(value=4104.952455364324, unit=kelvin),\n",
       " Quantity(value=4274.901644864303, unit=kelvin),\n",
       " Quantity(value=4449.264854050967, unit=kelvin),\n",
       " Quantity(value=4628.156726423655, unit=kelvin),\n",
       " Quantity(value=4811.694883069684, unit=kelvin),\n",
       " Quantity(value=5000.0, unit=kelvin)]"
      ]
     },
     "execution_count": 30,
     "metadata": {},
     "output_type": "execute_result"
    }
   ],
   "source": [
    "temperatures"
   ]
  },
  {
   "cell_type": "code",
   "execution_count": null,
   "metadata": {},
   "outputs": [],
   "source": []
  }
 ],
 "metadata": {
  "kernelspec": {
   "display_name": "Python 3",
   "language": "python",
   "name": "python3"
  },
  "language_info": {
   "codemirror_mode": {
    "name": "ipython",
    "version": 3
   },
   "file_extension": ".py",
   "mimetype": "text/x-python",
   "name": "python",
   "nbconvert_exporter": "python",
   "pygments_lexer": "ipython3",
   "version": "3.7.8"
  }
 },
 "nbformat": 4,
 "nbformat_minor": 4
}
