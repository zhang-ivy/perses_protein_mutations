{
 "cells": [
  {
   "cell_type": "markdown",
   "metadata": {},
   "source": [
    "Analyze 18/16-17 neq switching"
   ]
  },
  {
   "cell_type": "code",
   "execution_count": 1,
   "metadata": {},
   "outputs": [],
   "source": [
    "from perses.analysis.analysis import Analysis\n",
    "import numpy as np\n",
    "import seaborn as sns\n",
    "import matplotlib.pyplot as plt\n",
    "import pymbar\n",
    "%matplotlib inline\n",
    "import os\n",
    "import itertools\n",
    "from tqdm import tqdm_notebook\n",
    "import pandas as pd\n",
    "import tqdm\n",
    "import warnings\n",
    "warnings.filterwarnings('ignore')\n",
    "from simtk.openmm import unit\n",
    "from openmmtools.constants import kB\n",
    "KT_KCALMOL = kB * 300 * unit.kelvin / unit.kilocalories_per_mole\n",
    "import pandas as pd\n",
    "import pickle"
   ]
  },
  {
   "cell_type": "code",
   "execution_count": 2,
   "metadata": {},
   "outputs": [],
   "source": [
    "def analyze(forward_accumulated, reverse_accumulated): \n",
    "    # Compute dg, ddg\n",
    "    dg, ddg = pymbar.bar.BAR(forward_accumulated, reverse_accumulated)\n",
    "    return dg, ddg\n",
    "\n",
    "def analyze_bootstrap(d_works):\n",
    "    d_dgs_phase = {}\n",
    "    complex_dg, complex_ddg = analyze(d_works['complex']['forward'], d_works['complex']['reverse'])\n",
    "    apo_dg, apo_ddg = analyze(d_works['apo']['forward'], d_works['apo']['reverse'])\n",
    "    d_dgs_phase['complex'] = (complex_dg, complex_ddg)\n",
    "    d_dgs_phase['apo'] = (apo_dg, apo_ddg)\n",
    "    \n",
    "    binding_dg = complex_dg - apo_dg\n",
    "#     binding_ddg = (apo_ddg**2 + complex_ddg**2)**0.5\n",
    "    return d_dgs_phase, binding_dg\n",
    "    \n",
    "def plot(forward_work, reverse_work, dg, ddg, dir_num, phase, output_dir, title):\n",
    "    # Substract offset\n",
    "    print(\"subtracting offset\")\n",
    "    forward_work_offset = []\n",
    "    for cycle in forward_work:\n",
    "        forward_work_offset.append(np.array([val - cycle[0] for val in cycle[1:]]))\n",
    "    forward_work_offset = np.array(forward_work_offset)\n",
    "\n",
    "    reverse_work_offset = []\n",
    "    for cycle in reverse_work:\n",
    "        reverse_work_offset.append(np.array([val - cycle[0] for val in cycle[1:]]))\n",
    "    reverse_work_offset = np.array(reverse_work_offset)\n",
    "\n",
    "    # Plot work trajectories\n",
    "    print(\"plotting work trajs\")\n",
    "    for cycle in forward_work_offset:\n",
    "        x = [(i+1)*4e-4 for i in range(len(list(cycle)))]\n",
    "        y = cycle\n",
    "        plt.plot(x, y, color=sns.color_palette()[0])\n",
    "    for cycle in reverse_work_offset:\n",
    "        x = [(i+1)*4e-4 for i in range(len(list(cycle)))]\n",
    "        y = -cycle\n",
    "        plt.plot(x, y, color=sns.color_palette()[1])\n",
    "    plt.xlabel(\"$t_{neq}$ (ns)\")\n",
    "    plt.ylabel(\"work (kT)\")\n",
    "    plt.title(f\"{title} {phase}\")\n",
    "    plt.savefig(os.path.join(output_dir, f\"{dir_num}_{phase}_work_traj.png\"), dpi=500)\n",
    "    print(f\"saved to: {os.path.join(output_dir, f'{dir_num}_{phase}_work_traj.png')}\")\n",
    "    plt.clf()\n",
    "    \n",
    "    # Plot work distributions\n",
    "    print(\"plotting work distrib\")\n",
    "    accumulated_forward = [cycle[-1] for cycle in forward_work_offset]\n",
    "    accumulated_reverse = [-cycle[-1] for cycle in reverse_work_offset]\n",
    "    sns.distplot(accumulated_forward)\n",
    "    sns.distplot(accumulated_reverse)\n",
    "    plt.axvline(dg)\n",
    "    plt.axvline(dg + ddg, linestyle='dashed')\n",
    "    plt.axvline(dg - ddg, linestyle='dashed')\n",
    "    plt.xlabel(\"work (kT)\")\n",
    "    plt.ylabel(\"p(w)\")\n",
    "    plt.title(f\"{title} {phase}\")\n",
    "    plt.savefig(os.path.join(output_dir, f\"{dir_num}_{phase}_work_dist.png\"), dpi=500)\n",
    "    print(f\"saved to: {os.path.join(output_dir, f'{dir_num}_{phase}_work_dist.png')}\")\n",
    "    plt.clf()\n",
    "    "
   ]
  },
  {
   "cell_type": "markdown",
   "metadata": {},
   "source": [
    "## K27A"
   ]
  },
  {
   "cell_type": "code",
   "execution_count": 3,
   "metadata": {
    "scrolled": true
   },
   "outputs": [
    {
     "data": {
      "application/vnd.jupyter.widget-view+json": {
       "model_id": "479954ed0e59431d934e045e70e71774",
       "version_major": 2,
       "version_minor": 0
      },
      "text/plain": [
       "  0%|          | 0/1 [00:00<?, ?it/s]"
      ]
     },
     "metadata": {},
     "output_type": "display_data"
    },
    {
     "name": "stdout",
     "output_type": "stream",
     "text": [
      "dir: 16\n",
      "100\n",
      "100\n",
      "99\n",
      "99\n",
      "subtracting offset\n",
      "plotting work trajs\n",
      "saved to: /data/chodera/zhangi/perses_benchmark/neq/18/16/16_complex_work_traj.png\n",
      "plotting work distrib\n",
      "saved to: /data/chodera/zhangi/perses_benchmark/neq/18/16/16_complex_work_dist.png\n",
      "subtracting offset\n",
      "plotting work trajs\n",
      "saved to: /data/chodera/zhangi/perses_benchmark/neq/18/16/16_apo_work_traj.png\n",
      "plotting work distrib\n",
      "saved to: /data/chodera/zhangi/perses_benchmark/neq/18/16/16_apo_work_dist.png\n"
     ]
    },
    {
     "data": {
      "text/plain": [
       "<Figure size 432x288 with 0 Axes>"
      ]
     },
     "metadata": {},
     "output_type": "display_data"
    }
   ],
   "source": [
    "# Load data into dicts and plot \n",
    "titles = [\"K27A\"]\n",
    "phases = ['complex', 'apo']\n",
    "directions = ['forward', 'reverse']\n",
    "d_input = {}\n",
    "dir_num = 18\n",
    "forward = 16\n",
    "for i in tqdm_notebook([forward]):\n",
    "    print(f\"dir: {i}\")\n",
    "    d_works = {\"complex\": {}, \"apo\":{}}\n",
    "    d_combined_works = {\"complex\": {}, \"apo\":{}}\n",
    "    for phase in phases:\n",
    "        for direction in directions:\n",
    "            all_arrays = []\n",
    "            for j in range(100):\n",
    "                path = f\"/data/chodera/zhangi/perses_benchmark/neq/{dir_num}/{i}/{i}_{phase}_{j}_{direction}.npy\"\n",
    "                try:\n",
    "                    if os.path.exists(path):\n",
    "                        with open(path, 'rb') as f:\n",
    "                            array = np.load(f)\n",
    "                            if not np.isnan(np.sum(array)):\n",
    "                                all_arrays.append(array)\n",
    "                except:\n",
    "                    continue\n",
    "            print(len(all_arrays))\n",
    "            if all_arrays:\n",
    "                combined = np.concatenate(all_arrays)\n",
    "                accumulated = np.array([cycle[-1] - cycle[0] for cycle in combined])\n",
    "#                 combined = np.array([cycle[0::100] for cycle in combined])\n",
    "                d_combined_works[phase][direction] = combined\n",
    "                d_works[phase][direction] = accumulated\n",
    "    \n",
    "    d_input[i] = d_works\n",
    "    \n",
    "    # Plot\n",
    "    complex_dg, complex_ddg = analyze(d_works['complex']['forward'], d_works['complex']['reverse'])\n",
    "    apo_dg, apo_ddg = analyze(d_works['apo']['forward'], d_works['apo']['reverse'])\n",
    "    plot(d_combined_works['complex']['forward'], d_combined_works['complex']['reverse'], complex_dg, complex_ddg, i, 'complex', os.path.dirname(path), titles[i-forward])\n",
    "    plot(d_combined_works['apo']['forward'], d_combined_works['apo']['reverse'], apo_dg, apo_ddg, i, 'apo', os.path.dirname(path), titles[i-forward])\n",
    "        "
   ]
  },
  {
   "cell_type": "code",
   "execution_count": 4,
   "metadata": {},
   "outputs": [
    {
     "data": {
      "application/vnd.jupyter.widget-view+json": {
       "model_id": "b263134963ad4d448d88a729f2e875c3",
       "version_major": 2,
       "version_minor": 0
      },
      "text/plain": [
       "  0%|          | 0/10000 [00:00<?, ?it/s]"
      ]
     },
     "metadata": {},
     "output_type": "display_data"
    }
   ],
   "source": [
    "# Bootstrap works\n",
    "N_bootstraps = 10000\n",
    "phases = ['complex', 'apo']\n",
    "directions = ['forward', 'reverse']\n",
    "dgs_phase = {}\n",
    "ddgs = {}\n",
    "for i in [forward]:\n",
    "    dgs_phase_all = []\n",
    "    ddgs_all = []\n",
    "    for _ in tqdm_notebook(range(N_bootstraps)):\n",
    "        # Initialize data structure for works\n",
    "        d_works = {\"complex\": {\"forward\":{}, \"reverse\":{}}, \"apo\":{\"forward\":{}, \"reverse\":{}}}\n",
    "\n",
    "        # Save subsampled works\n",
    "        for phase in phases:\n",
    "            for direction in directions:\n",
    "                work_array = np.array(d_input[i][phase][direction])\n",
    "                num_samples = work_array.shape[0]\n",
    "                subsample_indices = np.random.choice(range(num_samples), num_samples)\n",
    "                d_works[phase][direction] = work_array[subsample_indices]\n",
    "        d_dgs_phase, binding_dg = analyze_bootstrap(d_works)\n",
    "        dgs_phase_all.append(d_dgs_phase)\n",
    "        ddgs_all.append(binding_dg)\n",
    "    dgs_phase[i] = dgs_phase_all\n",
    "    ddgs[i] = ddgs_all\n",
    "    \n",
    "    \n"
   ]
  },
  {
   "cell_type": "code",
   "execution_count": 5,
   "metadata": {},
   "outputs": [
    {
     "data": {
      "text/plain": [
       "<AxesSubplot:ylabel='Density'>"
      ]
     },
     "execution_count": 5,
     "metadata": {},
     "output_type": "execute_result"
    },
    {
     "data": {
      "image/png": "[encoded data removed]",
      "text/plain": [
       "<Figure size 432x288 with 1 Axes>"
      ]
     },
     "metadata": {
      "needs_background": "light"
     },
     "output_type": "display_data"
    }
   ],
   "source": [
    "# Plot ddgs\n",
    "sns.distplot(ddgs[forward], rug=True, label=titles[0])\n",
    "# sns.distplot(np.array(ddgs[reverse])*-1, rug=True, label=titles[1])"
   ]
  },
  {
   "cell_type": "code",
   "execution_count": 6,
   "metadata": {},
   "outputs": [],
   "source": [
    "forward_ddg = np.mean(ddgs[forward])\n",
    "forward_ci = np.percentile(ddgs[forward], 2.5), np.percentile(ddgs[forward], 97.5)\n",
    "# reverse_ddg = np.mean(ddgs[reverse])\n",
    "# reverse_ci = np.percentile(ddgs[reverse], 2.5), np.percentile(ddgs[reverse], 97.5)\n",
    "# negative_reverse_ci = sorted(np.array(reverse_ci)*-1)\n",
    "# discrepancy = tuple(np.array(forward_ci) - np.array(negative_reverse_ci))\n",
    "# output_kt = [forward_ddg, forward_ci, reverse_ddg, reverse_ci, discrepancy]\n",
    "# output_kcalmol = [round(forward_ddg*KT_KCALMOL, 2), tuple([round(val, 2)for val in np.array(forward_ci)*KT_KCALMOL]), round(reverse_ddg*KT_KCALMOL, 2), tuple([round(val, 2) for val in np.array(reverse_ci)*KT_KCALMOL]), tuple([round(val, 2) for val in np.array(discrepancy)*KT_KCALMOL])]\n",
    "\n",
    "output_kcalmol = [round(forward_ddg*KT_KCALMOL, 2), tuple([round(val, 2)for val in np.array(forward_ci)*KT_KCALMOL])]\n",
    "\n"
   ]
  },
  {
   "cell_type": "code",
   "execution_count": 7,
   "metadata": {},
   "outputs": [
    {
     "data": {
      "text/plain": [
       "[7.86, (7.32, 8.36)]"
      ]
     },
     "execution_count": 7,
     "metadata": {},
     "output_type": "execute_result"
    }
   ],
   "source": [
    "output_kcalmol"
   ]
  },
  {
   "cell_type": "code",
   "execution_count": 8,
   "metadata": {},
   "outputs": [],
   "source": [
    "# pd.DataFrame([output_kcalmol]).to_csv(f\"/data/chodera/zhangi/perses_benchmark/neq/{dir_num}/{forward}/analysis_{titles[0]}_{titles[1]}.csv\")"
   ]
  },
  {
   "cell_type": "code",
   "execution_count": 9,
   "metadata": {},
   "outputs": [],
   "source": [
    "with open(f\"/data/chodera/zhangi/perses_benchmark/neq/{dir_num}/{forward}/dgs_phase.pickle\", \"wb\") as f:\n",
    "    pickle.dump(dgs_phase, f)\n",
    "with open(f\"/data/chodera/zhangi/perses_benchmark/neq/{dir_num}/{forward}/ddgs.pickle\", \"wb\") as f:\n",
    "    pickle.dump(ddgs, f)"
   ]
  },
  {
   "cell_type": "code",
   "execution_count": 10,
   "metadata": {
    "scrolled": true
   },
   "outputs": [
    {
     "data": {
      "text/plain": [
       "<matplotlib.legend.Legend at 0x2b6a0b93dc70>"
      ]
     },
     "execution_count": 10,
     "metadata": {},
     "output_type": "execute_result"
    },
    {
     "data": {
      "image/png": "[encoded data removed]",
      "text/plain": [
       "<Figure size 432x288 with 1 Axes>"
      ]
     },
     "metadata": {
      "needs_background": "light"
     },
     "output_type": "display_data"
    }
   ],
   "source": [
    "# Plot ddgs\n",
    "sns.distplot(np.array(ddgs[forward])*KT_KCALMOL, rug=True, label=titles[0])\n",
    "# sns.distplot(np.array(ddgs[reverse])*-KT_KCALMOL, rug=True, label=f\"-({titles[1]})\")\n",
    "plt.xlabel(\"binding ddg (kcal/mol)\")\n",
    "plt.legend()"
   ]
  },
  {
   "cell_type": "code",
   "execution_count": null,
   "metadata": {},
   "outputs": [],
   "source": []
  },
  {
   "cell_type": "markdown",
   "metadata": {},
   "source": [
    "## D39A"
   ]
  },
  {
   "cell_type": "code",
   "execution_count": 11,
   "metadata": {
    "scrolled": true
   },
   "outputs": [
    {
     "data": {
      "application/vnd.jupyter.widget-view+json": {
       "model_id": "ffa975f6389547f3aa09a520be05a72f",
       "version_major": 2,
       "version_minor": 0
      },
      "text/plain": [
       "  0%|          | 0/1 [00:00<?, ?it/s]"
      ]
     },
     "metadata": {},
     "output_type": "display_data"
    },
    {
     "name": "stdout",
     "output_type": "stream",
     "text": [
      "dir: 17\n",
      "100\n",
      "100\n",
      "100\n",
      "100\n",
      "subtracting offset\n",
      "plotting work trajs\n",
      "saved to: /data/chodera/zhangi/perses_benchmark/neq/18/17/17_complex_work_traj.png\n",
      "plotting work distrib\n",
      "saved to: /data/chodera/zhangi/perses_benchmark/neq/18/17/17_complex_work_dist.png\n",
      "subtracting offset\n",
      "plotting work trajs\n",
      "saved to: /data/chodera/zhangi/perses_benchmark/neq/18/17/17_apo_work_traj.png\n",
      "plotting work distrib\n",
      "saved to: /data/chodera/zhangi/perses_benchmark/neq/18/17/17_apo_work_dist.png\n"
     ]
    },
    {
     "data": {
      "text/plain": [
       "<Figure size 432x288 with 0 Axes>"
      ]
     },
     "metadata": {},
     "output_type": "display_data"
    }
   ],
   "source": [
    "# Load data into dicts and plot \n",
    "titles = [\"D39A\"]\n",
    "phases = ['complex', 'apo']\n",
    "directions = ['forward', 'reverse']\n",
    "d_input = {}\n",
    "dir_num = 18\n",
    "forward = 17\n",
    "for i in tqdm_notebook([forward]):\n",
    "    print(f\"dir: {i}\")\n",
    "    d_works = {\"complex\": {}, \"apo\":{}}\n",
    "    d_combined_works = {\"complex\": {}, \"apo\":{}}\n",
    "    for phase in phases:\n",
    "        for direction in directions:\n",
    "            all_arrays = []\n",
    "            for j in range(100):\n",
    "#                 print(f\"job: {j}\")\n",
    "                path = f\"/data/chodera/zhangi/perses_benchmark/neq/{dir_num}/{i}/{i}_{phase}_{j}_{direction}.npy\"\n",
    "                try:\n",
    "                    if os.path.exists(path):\n",
    "                        with open(path, 'rb') as f:\n",
    "                            array = np.load(f)\n",
    "                            if not np.isnan(np.sum(array)):\n",
    "                                all_arrays.append(array)\n",
    "                except:\n",
    "                    continue\n",
    "            print(len(all_arrays))\n",
    "            if all_arrays:\n",
    "                combined = np.concatenate(all_arrays)\n",
    "                accumulated = np.array([cycle[-1] - cycle[0] for cycle in combined])\n",
    "#                 combined = np.array([cycle[0::100] for cycle in combined])\n",
    "                d_combined_works[phase][direction] = combined\n",
    "                d_works[phase][direction] = accumulated\n",
    "    \n",
    "    d_input[i] = d_works\n",
    "    \n",
    "    # Plot\n",
    "    complex_dg, complex_ddg = analyze(d_works['complex']['forward'], d_works['complex']['reverse'])\n",
    "    apo_dg, apo_ddg = analyze(d_works['apo']['forward'], d_works['apo']['reverse'])\n",
    "    plot(d_combined_works['complex']['forward'], d_combined_works['complex']['reverse'], complex_dg, complex_ddg, i, 'complex', os.path.dirname(path), titles[i-forward])\n",
    "    plot(d_combined_works['apo']['forward'], d_combined_works['apo']['reverse'], apo_dg, apo_ddg, i, 'apo', os.path.dirname(path), titles[i-forward])\n",
    "        "
   ]
  },
  {
   "cell_type": "code",
   "execution_count": 12,
   "metadata": {},
   "outputs": [
    {
     "data": {
      "application/vnd.jupyter.widget-view+json": {
       "model_id": "b765cb499c8a49f591b0b5c6c226e513",
       "version_major": 2,
       "version_minor": 0
      },
      "text/plain": [
       "  0%|          | 0/10000 [00:00<?, ?it/s]"
      ]
     },
     "metadata": {},
     "output_type": "display_data"
    }
   ],
   "source": [
    "# Bootstrap works\n",
    "N_bootstraps = 10000\n",
    "phases = ['complex', 'apo']\n",
    "directions = ['forward', 'reverse']\n",
    "dgs_phase = {}\n",
    "ddgs = {}\n",
    "for i in [forward]:\n",
    "    dgs_phase_all = []\n",
    "    ddgs_all = []\n",
    "    for _ in tqdm_notebook(range(N_bootstraps)):\n",
    "        # Initialize data structure for works\n",
    "        d_works = {\"complex\": {\"forward\":{}, \"reverse\":{}}, \"apo\":{\"forward\":{}, \"reverse\":{}}}\n",
    "\n",
    "        # Save subsampled works\n",
    "        for phase in phases:\n",
    "            for direction in directions:\n",
    "                work_array = np.array(d_input[i][phase][direction])\n",
    "                num_samples = work_array.shape[0]\n",
    "                subsample_indices = np.random.choice(range(num_samples), num_samples)\n",
    "                d_works[phase][direction] = work_array[subsample_indices]\n",
    "        d_dgs_phase, binding_dg = analyze_bootstrap(d_works)\n",
    "        dgs_phase_all.append(d_dgs_phase)\n",
    "        ddgs_all.append(binding_dg)\n",
    "    dgs_phase[i] = dgs_phase_all\n",
    "    ddgs[i] = ddgs_all\n",
    "    \n",
    "    \n"
   ]
  },
  {
   "cell_type": "code",
   "execution_count": 13,
   "metadata": {},
   "outputs": [
    {
     "data": {
      "text/plain": [
       "<AxesSubplot:ylabel='Density'>"
      ]
     },
     "execution_count": 13,
     "metadata": {},
     "output_type": "execute_result"
    },
    {
     "data": {
      "image/png": "[encoded data removed]",
      "text/plain": [
       "<Figure size 432x288 with 1 Axes>"
      ]
     },
     "metadata": {
      "needs_background": "light"
     },
     "output_type": "display_data"
    }
   ],
   "source": [
    "# Plot ddgs\n",
    "sns.distplot(ddgs[forward], rug=True, label=titles[0])\n",
    "# sns.distplot(np.array(ddgs[reverse])*-1, rug=True, label=titles[1])"
   ]
  },
  {
   "cell_type": "code",
   "execution_count": 14,
   "metadata": {},
   "outputs": [],
   "source": [
    "forward_ddg = np.mean(ddgs[forward])\n",
    "forward_ci = np.percentile(ddgs[forward], 2.5), np.percentile(ddgs[forward], 97.5)\n",
    "# reverse_ddg = np.mean(ddgs[reverse])\n",
    "# reverse_ci = np.percentile(ddgs[reverse], 2.5), np.percentile(ddgs[reverse], 97.5)\n",
    "# negative_reverse_ci = sorted(np.array(reverse_ci)*-1)\n",
    "# discrepancy = tuple(np.array(forward_ci) - np.array(negative_reverse_ci))\n",
    "# output_kt = [forward_ddg, forward_ci, reverse_ddg, reverse_ci, discrepancy]\n",
    "# output_kcalmol = [round(forward_ddg*KT_KCALMOL, 2), tuple([round(val, 2)for val in np.array(forward_ci)*KT_KCALMOL]), round(reverse_ddg*KT_KCALMOL, 2), tuple([round(val, 2) for val in np.array(reverse_ci)*KT_KCALMOL]), tuple([round(val, 2) for val in np.array(discrepancy)*KT_KCALMOL])]\n",
    "\n",
    "output_kcalmol = [round(forward_ddg*KT_KCALMOL, 2), tuple([round(val, 2)for val in np.array(forward_ci)*KT_KCALMOL])]\n",
    "\n"
   ]
  },
  {
   "cell_type": "code",
   "execution_count": 15,
   "metadata": {},
   "outputs": [
    {
     "data": {
      "text/plain": [
       "[16.79, (15.98, 17.65)]"
      ]
     },
     "execution_count": 15,
     "metadata": {},
     "output_type": "execute_result"
    }
   ],
   "source": [
    "output_kcalmol"
   ]
  },
  {
   "cell_type": "code",
   "execution_count": 16,
   "metadata": {},
   "outputs": [],
   "source": [
    "# pd.DataFrame([output_kcalmol]).to_csv(f\"/data/chodera/zhangi/perses_benchmark/neq/{dir_num}/{forward}/analysis_{titles[0]}_{titles[1]}.csv\")"
   ]
  },
  {
   "cell_type": "code",
   "execution_count": 17,
   "metadata": {},
   "outputs": [],
   "source": [
    "with open(f\"/data/chodera/zhangi/perses_benchmark/neq/{dir_num}/{forward}/dgs_phase.pickle\", \"wb\") as f:\n",
    "    pickle.dump(dgs_phase, f)\n",
    "with open(f\"/data/chodera/zhangi/perses_benchmark/neq/{dir_num}/{forward}/ddgs.pickle\", \"wb\") as f:\n",
    "    pickle.dump(ddgs, f)"
   ]
  },
  {
   "cell_type": "code",
   "execution_count": 18,
   "metadata": {
    "scrolled": true
   },
   "outputs": [
    {
     "data": {
      "text/plain": [
       "<matplotlib.legend.Legend at 0x2b6a0c93e3d0>"
      ]
     },
     "execution_count": 18,
     "metadata": {},
     "output_type": "execute_result"
    },
    {
     "data": {
      "image/png": "[encoded data removed]",
      "text/plain": [
       "<Figure size 432x288 with 1 Axes>"
      ]
     },
     "metadata": {
      "needs_background": "light"
     },
     "output_type": "display_data"
    }
   ],
   "source": [
    "# Plot ddgs\n",
    "sns.distplot(np.array(ddgs[forward])*KT_KCALMOL, rug=True, label=titles[0])\n",
    "# sns.distplot(np.array(ddgs[reverse])*-KT_KCALMOL, rug=True, label=f\"-({titles[1]})\")\n",
    "plt.xlabel(\"binding ddg (kcal/mol)\")\n",
    "plt.legend()"
   ]
  },
  {
   "cell_type": "code",
   "execution_count": null,
   "metadata": {},
   "outputs": [],
   "source": []
  },
  {
   "cell_type": "code",
   "execution_count": null,
   "metadata": {},
   "outputs": [],
   "source": []
  }
 ],
 "metadata": {
  "kernelspec": {
   "display_name": "Python 3",
   "language": "python",
   "name": "python3"
  },
  "language_info": {
   "codemirror_mode": {
    "name": "ipython",
    "version": 3
   },
   "file_extension": ".py",
   "mimetype": "text/x-python",
   "name": "python",
   "nbconvert_exporter": "python",
   "pygments_lexer": "ipython3",
   "version": "3.8.10"
  }
 },
 "nbformat": 4,
 "nbformat_minor": 4
}
