{
 "cells": [
  {
   "cell_type": "markdown",
   "metadata": {},
   "source": [
    "# Charge mutations"
   ]
  },
  {
   "cell_type": "markdown",
   "metadata": {},
   "source": [
    "## Format the data appropriately for arsenic"
   ]
  },
  {
   "cell_type": "code",
   "execution_count": 1,
   "metadata": {},
   "outputs": [],
   "source": [
    "import numpy as np\n",
    "import pickle\n",
    "from simtk.openmm import unit\n",
    "from openmmtools.constants import kB\n",
    "import pandas as pd\n",
    "KT_KCALMOL = kB * 300 * unit.kelvin / unit.kilocalories_per_mole"
   ]
  },
  {
   "cell_type": "code",
   "execution_count": 2,
   "metadata": {},
   "outputs": [],
   "source": [
    "def compute_binding_ddgs(apo_ddg, complex_ddg):\n",
    "    return (apo_ddg**2 + complex_ddg**2)**0.5"
   ]
  },
  {
   "cell_type": "code",
   "execution_count": 15,
   "metadata": {},
   "outputs": [
    {
     "name": "stdout",
     "output_type": "stream",
     "text": [
      "loading 0\n",
      "loading 1\n",
      "loading 2\n",
      "loading 3\n",
      "loading 4\n",
      "loading 5\n",
      "loading 6\n",
      "loading 7\n"
     ]
    }
   ],
   "source": [
    "title_pairs = [[\"D35A\"], [\"D39A\"], [\"E76A\"], [\"E80A\"], [\"K27A\"], [\"R59A\"], [\"R83Q\"], [\"R87A\"]]\n",
    "dir_num = 18\n",
    "subdirs = [11, 5, 6, 7, 13, 1, 3, 4]\n",
    "\n",
    "# to_plot = ['# Calculated block', '# Mutant1, Mutant2, calc_DDG, calc_dDDG(BAR), calc_dDDG(additional)']\n",
    "to_plot = []\n",
    "for i, subdir in enumerate(subdirs):\n",
    "    print(f\"loading {i}\")\n",
    "    with open(f\"/data/chodera/zhangi/perses_benchmark/neq/{dir_num}/{subdir}/ddgs.pickle\", \"rb\") as f:\n",
    "        ddgs = pickle.load(f)\n",
    "    with open(f\"/data/chodera/zhangi/perses_benchmark/neq/{dir_num}/{subdir}/dgs_phase.pickle\", \"rb\") as f:\n",
    "        dgs_phase = pickle.load(f)\n",
    "        \n",
    "        # Compute binding ddgs from BAR\n",
    "        binding_ddgs_forward = []\n",
    "        binding_ddgs_backward = []\n",
    "        for j in range(len(dgs_phase)):\n",
    "            binding_ddgs_forward.append(compute_binding_ddgs(dgs_phase[subdir][j]['apo'][1], dgs_phase[subdir][j]['complex'][1]))\n",
    "#             binding_ddgs_backward.append(compute_binding_ddgs(dgs_phase[subdir+1][j]['apo'][1], dgs_phase[subdir+1][j]['complex'][1]))\n",
    "\n",
    "    to_plot.append([title_pairs[i][0][:-1], title_pairs[i][0][-1] + title_pairs[i][0][1:3], np.mean(ddgs[subdir])*KT_KCALMOL, np.mean(binding_ddgs_forward)*KT_KCALMOL, abs(np.mean(ddgs[subdir])*KT_KCALMOL - np.percentile(ddgs[subdir], 2.5)*KT_KCALMOL)])\n",
    "#     to_plot.append([title_pairs[i][1][:-1], title_pairs[i][1][-1] + title_pairs[i][1][1:3], np.mean(ddgs[subdir+1])*KT_KCALMOL, np.mean(binding_ddgs_backward)*KT_KCALMOL, abs(np.mean(ddgs[subdir+1])*KT_KCALMOL - np.percentile(ddgs[subdir+1], 2.5)*KT_KCALMOL)]) # take the negative of these so they match the forward transform values\n",
    "        \n",
    "        \n",
    "        "
   ]
  },
  {
   "cell_type": "code",
   "execution_count": 16,
   "metadata": {},
   "outputs": [
    {
     "data": {
      "text/plain": [
       "[['D35', 'A35', 3.399997396914247, 0.1685567974420465, 0.6387465740494926],\n",
       " ['D39', 'A39', 15.504527818058099, 0.7191886720822218, 2.1851147361696626],\n",
       " ['E76', 'A76', 2.0955628363178875, 0.12031976574274597, 0.23105962959578763],\n",
       " ['E80', 'A80', -0.333984141137505, 0.12165098993867397, 0.22949598842257596],\n",
       " ['K27', 'A27', 7.589077852959192, 0.3966033215248302, 0.9873190027466157],\n",
       " ['R59', 'A59', 5.070564178998185, 0.30087710144909185, 0.8323746830430903],\n",
       " ['R83', 'Q83', 17.049466264654637, 0.48984788084255376, 0.6425145903705669],\n",
       " ['R87', 'A87', 1.6985340566738805, 0.20195695186106496, 0.6117803032742295]]"
      ]
     },
     "execution_count": 16,
     "metadata": {},
     "output_type": "execute_result"
    }
   ],
   "source": [
    "to_plot"
   ]
  },
  {
   "cell_type": "code",
   "execution_count": 17,
   "metadata": {},
   "outputs": [],
   "source": [
    "d = {'WT': 19.0, 'A27': 13.6, 'A59': 13.8, 'Q83': 13.6, 'A87': 13.5, 'A35': 14.5, 'A39': 11.3, 'A76': 17.65, 'A80': 18.5}"
   ]
  },
  {
   "cell_type": "code",
   "execution_count": 18,
   "metadata": {},
   "outputs": [],
   "source": [
    "# experiment = ['# Experiment block', '# Mutant, expt_DDG, expt_dDDG']\n",
    "experiment = []\n",
    "for k in d.keys():\n",
    "    if k == 'WT':\n",
    "        experiment.append(['K27', d['WT']*-1, 0]) # take the negative of everything bc i think hannah subtracts differently\n",
    "        experiment.append(['R59', d['WT']*-1, 0])\n",
    "        experiment.append(['R83', d['WT']*-1, 0])\n",
    "        experiment.append(['R87', d['WT']*-1, 0])\n",
    "        experiment.append(['D35', d['WT']*-1, 0])\n",
    "        experiment.append(['D39', d['WT']*-1, 0])\n",
    "        experiment.append(['E76', d['WT']*-1, 0])\n",
    "        experiment.append(['E80', d['WT']*-1, 0])\n",
    "    else:\n",
    "        experiment.append([k, d[k]*-1, 0])"
   ]
  },
  {
   "cell_type": "code",
   "execution_count": 19,
   "metadata": {},
   "outputs": [
    {
     "data": {
      "text/plain": [
       "[['K27', -19.0, 0],\n",
       " ['R59', -19.0, 0],\n",
       " ['R83', -19.0, 0],\n",
       " ['R87', -19.0, 0],\n",
       " ['D35', -19.0, 0],\n",
       " ['D39', -19.0, 0],\n",
       " ['E76', -19.0, 0],\n",
       " ['E80', -19.0, 0],\n",
       " ['A27', -13.6, 0],\n",
       " ['A59', -13.8, 0],\n",
       " ['Q83', -13.6, 0],\n",
       " ['A87', -13.5, 0],\n",
       " ['A35', -14.5, 0],\n",
       " ['A39', -11.3, 0],\n",
       " ['A76', -17.65, 0],\n",
       " ['A80', -18.5, 0]]"
      ]
     },
     "execution_count": 19,
     "metadata": {},
     "output_type": "execute_result"
    }
   ],
   "source": [
    "experiment"
   ]
  },
  {
   "cell_type": "code",
   "execution_count": 20,
   "metadata": {},
   "outputs": [],
   "source": [
    "pd.DataFrame(experiment + to_plot).to_csv(f\"/data/chodera/zhangi/perses_benchmark/neq/{dir_num}/arsenic_input_charge_optimized.csv\", index=False, header=False)\n",
    "# Had to manually add headings, otherwise the lists wouldn't print out as comma separated\n",
    "# Had to remove extra commas in experimental block\n"
   ]
  },
  {
   "cell_type": "code",
   "execution_count": 21,
   "metadata": {
    "scrolled": true
   },
   "outputs": [
    {
     "data": {
      "text/plain": [
       "[['K27', -19.0, 0],\n",
       " ['R59', -19.0, 0],\n",
       " ['R83', -19.0, 0],\n",
       " ['R87', -19.0, 0],\n",
       " ['D35', -19.0, 0],\n",
       " ['D39', -19.0, 0],\n",
       " ['E76', -19.0, 0],\n",
       " ['E80', -19.0, 0],\n",
       " ['A27', -13.6, 0],\n",
       " ['A59', -13.8, 0],\n",
       " ['Q83', -13.6, 0],\n",
       " ['A87', -13.5, 0],\n",
       " ['A35', -14.5, 0],\n",
       " ['A39', -11.3, 0],\n",
       " ['A76', -17.65, 0],\n",
       " ['A80', -18.5, 0],\n",
       " ['D35', 'A35', 3.399997396914247, 0.1685567974420465, 0.6387465740494926],\n",
       " ['D39', 'A39', 15.504527818058099, 0.7191886720822218, 2.1851147361696626],\n",
       " ['E76', 'A76', 2.0955628363178875, 0.12031976574274597, 0.23105962959578763],\n",
       " ['E80', 'A80', -0.333984141137505, 0.12165098993867397, 0.22949598842257596],\n",
       " ['K27', 'A27', 7.589077852959192, 0.3966033215248302, 0.9873190027466157],\n",
       " ['R59', 'A59', 5.070564178998185, 0.30087710144909185, 0.8323746830430903],\n",
       " ['R83', 'Q83', 17.049466264654637, 0.48984788084255376, 0.6425145903705669],\n",
       " ['R87', 'A87', 1.6985340566738805, 0.20195695186106496, 0.6117803032742295]]"
      ]
     },
     "execution_count": 21,
     "metadata": {},
     "output_type": "execute_result"
    }
   ],
   "source": [
    "experiment + to_plot"
   ]
  },
  {
   "cell_type": "markdown",
   "metadata": {},
   "source": [
    "## Make arsenic plot"
   ]
  },
  {
   "cell_type": "code",
   "execution_count": 23,
   "metadata": {
    "scrolled": true
   },
   "outputs": [],
   "source": [
    "import numpy as np\n",
    "\n",
    "%matplotlib inline\n",
    "import matplotlib.pylab as plt\n",
    "\n",
    "from arsenic import plotting, stats, wrangle"
   ]
  },
  {
   "cell_type": "code",
   "execution_count": 24,
   "metadata": {},
   "outputs": [
    {
     "name": "stdout",
     "output_type": "stream",
     "text": [
      "Graph is not connected enough to compute absolute values\n"
     ]
    }
   ],
   "source": [
    "fe = wrangle.FEMap('/data/chodera/zhangi/perses_benchmark/neq/18/arsenic_input_charge_optimized.csv')"
   ]
  },
  {
   "cell_type": "code",
   "execution_count": 25,
   "metadata": {},
   "outputs": [
    {
     "data": {
      "image/png": "[encoded data removed]",
      "text/plain": [
       "<Figure size 234x234 with 1 Axes>"
      ]
     },
     "metadata": {
      "needs_background": "light"
     },
     "output_type": "display_data"
    }
   ],
   "source": [
    "plotting.plot_DDGs(fe.graph,target_name='barnase/barstar', title='Charge mutations in barnase/barstar', units=r'$\\mathrm{kcal\\,/mol}$', filename='/data/chodera/zhangi/perses_benchmark/neq/13/arsenic_input_charge_optimized.png')\n",
    "# added dpi to savefig() in local version\n",
    "# removed \"/\" in labels in local version"
   ]
  },
  {
   "cell_type": "code",
   "execution_count": null,
   "metadata": {},
   "outputs": [],
   "source": []
  },
  {
   "cell_type": "code",
   "execution_count": null,
   "metadata": {},
   "outputs": [],
   "source": []
  }
 ],
 "metadata": {
  "kernelspec": {
   "display_name": "Python 3",
   "language": "python",
   "name": "python3"
  },
  "language_info": {
   "codemirror_mode": {
    "name": "ipython",
    "version": 3
   },
   "file_extension": ".py",
   "mimetype": "text/x-python",
   "name": "python",
   "nbconvert_exporter": "python",
   "pygments_lexer": "ipython3",
   "version": "3.8.6"
  }
 },
 "nbformat": 4,
 "nbformat_minor": 4
}
