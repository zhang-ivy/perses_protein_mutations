{
 "cells": [
  {
   "cell_type": "code",
   "execution_count": 1,
   "id": "870f59fa",
   "metadata": {},
   "outputs": [],
   "source": [
    "import mdtraj as md\n",
    "import numpy as np\n",
    "import pickle\n",
    "import os\n",
    "from tqdm import tqdm_notebook\n",
    "from simtk.openmm import app\n",
    "from simtk.openmm import unit\n",
    "import matplotlib.pyplot as plt\n",
    "from openeye import oechem"
   ]
  },
  {
   "cell_type": "markdown",
   "id": "94045123",
   "metadata": {},
   "source": [
    "## Load htf for analysis (with water sampling)"
   ]
  },
  {
   "cell_type": "code",
   "execution_count": 5,
   "id": "59f14278",
   "metadata": {},
   "outputs": [],
   "source": [
    "outdir = \"/data/chodera/zhangi/perses_benchmark/neq/18/8\"\n",
    "outdir_rest = \"/data/chodera/zhangi/perses_benchmark/neq/17/8\"\n",
    "i = 8\n",
    "phase = 'complex'\n",
    "cycle = 0\n"
   ]
  },
  {
   "cell_type": "code",
   "execution_count": 6,
   "id": "a6e4d73d",
   "metadata": {},
   "outputs": [],
   "source": [
    "htf = pickle.load(open(os.path.join(outdir, f\"{i}_{phase}.pickle\"), \"rb\"))\n"
   ]
  },
  {
   "cell_type": "code",
   "execution_count": 17,
   "id": "13735229",
   "metadata": {},
   "outputs": [],
   "source": [
    "def new_positions(hybrid_positions):\n",
    "    n_atoms_new = htf._topology_proposal.n_atoms_new\n",
    "    hybrid_indices = [htf._new_to_hybrid_map[idx] for idx in range(n_atoms_new)]\n",
    "    return hybrid_positions[hybrid_indices, :]\n",
    "    \n",
    "def old_positions(hybrid_positions):\n",
    "    n_atoms_old = htf._topology_proposal.n_atoms_old\n",
    "    hybrid_indices = [htf._old_to_hybrid_map[idx] for idx in range(n_atoms_old)]\n",
    "    return hybrid_positions[hybrid_indices, :]\n",
    "\n",
    "def make_traj(outdir, htf, i, phase, name, endstate, is_old=True, keep_solvent=False):\n",
    "    with open(os.path.join(outdir, f\"{i}_{phase}_{name}_1ns_snapshots.npy\"), \"rb\") as f:\n",
    "        cache = np.load(f)\n",
    "    if is_old:\n",
    "        old_pos = np.zeros(shape=(100, htf._topology_proposal.old_topology.getNumAtoms(), 3))\n",
    "        for j, pos in tqdm_notebook(enumerate(cache)):\n",
    "            old_pos[j] = old_positions(unit.Quantity(pos, unit=unit.nanometers)).value_in_unit_system(unit.md_unit_system)\n",
    "        \n",
    "        traj = md.Trajectory(old_pos, md.Topology.from_openmm(htf._topology_proposal.old_topology))\n",
    "    else:\n",
    "        new_pos = np.zeros(shape=(100, htf._topology_proposal.new_topology.getNumAtoms(), 3))\n",
    "        for j, pos in tqdm_notebook(enumerate(cache)):\n",
    "            new_pos[j] = new_positions(unit.Quantity(pos, unit=unit.nanometers)).value_in_unit_system(unit.md_unit_system)\n",
    "        \n",
    "        traj = md.Trajectory(new_pos, md.Topology.from_openmm(htf._topology_proposal.new_topology))\n",
    "        \n",
    "    box_vectors = np.array([val.value_in_unit_system(unit.md_unit_system) for val in htf.hybrid_system.getDefaultPeriodicBoxVectors()])\n",
    "    vectors = np.array([box_vectors]) \n",
    "           \n",
    "    # Set unit cell vectors in traj \n",
    "    traj.unitcell_vectors = np.repeat(vectors, 100, axis=0)\n",
    "    traj = traj.image_molecules()\n",
    "    \n",
    "    if not keep_solvent:\n",
    "        traj = traj.remove_solvent(exclude=['Na+', 'Cl-'])\n",
    "    \n",
    "    return traj\n",
    "       \n",
    "def make_traj_neq(outdir, htf, i, phase, cycle, is_old=True, is_forward=True):\n",
    "    \n",
    "    \n",
    "    if is_old:\n",
    "        \n",
    "        modeller = app.Modeller(htf._topology_proposal.old_topology, htf.old_positions(htf.hybrid_positions))\n",
    "        modeller.deleteWater()\n",
    "        \n",
    "        if is_forward:\n",
    "            with open(os.path.join(outdir, f\"{i}_{phase}_{cycle}_forward_neq_old.npy\"), 'rb') as f:\n",
    "                neq_old = np.load(f)\n",
    "        else:\n",
    "            with open(os.path.join(outdir, f\"{i}_{phase}_{cycle}_reverse_neq_old.npy\"), 'rb') as f:\n",
    "                neq_old = np.load(f)\n",
    "        \n",
    "        traj = md.Trajectory(neq_old, md.Topology.from_openmm(modeller.topology))\n",
    "    else:\n",
    "        modeller = app.Modeller(htf._topology_proposal.new_topology, htf.new_positions(htf.hybrid_positions))\n",
    "        modeller.deleteWater()\n",
    "        \n",
    "        if is_forward:\n",
    "            with open(os.path.join(outdir, f\"{i}_{phase}_{cycle}_forward_neq_new.npy\"), 'rb') as f:\n",
    "                neq_new = np.load(f)\n",
    "        else:\n",
    "            with open(os.path.join(outdir, f\"{i}_{phase}_{cycle}_reverse_neq_new.npy\"), 'rb') as f:\n",
    "                neq_new = np.load(f)\n",
    "\n",
    "        traj = md.Trajectory(neq_new, md.Topology.from_openmm(modeller.topology))\n",
    "        \n",
    "    box_vectors = np.array([val.value_in_unit_system(unit.md_unit_system) for val in htf.hybrid_system.getDefaultPeriodicBoxVectors()])\n",
    "    vectors = np.array([box_vectors]) \n",
    "           \n",
    "    # Set unit cell vectors in traj \n",
    "    traj.unitcell_vectors = np.repeat(vectors, 100, axis=0)\n",
    "    traj = traj.image_molecules()\n",
    "    \n",
    "    return traj"
   ]
  },
  {
   "cell_type": "code",
   "execution_count": 11,
   "id": "148cf4c8",
   "metadata": {},
   "outputs": [],
   "source": [
    "with open(os.path.join(outdir, f\"{i}_{phase}_{cycle}_forward_neq_old.npy\"), 'rb') as f:\n",
    "    neq_old = np.load(f)"
   ]
  },
  {
   "cell_type": "code",
   "execution_count": 14,
   "id": "9eca2a47",
   "metadata": {},
   "outputs": [
    {
     "data": {
      "text/plain": [
       "array([[[1.3483977 , 5.06629   , 2.565294  ],\n",
       "        [1.3938786 , 4.9730206 , 2.458738  ],\n",
       "        [1.3289095 , 4.954185  , 2.3562167 ],\n",
       "        ...,\n",
       "        [5.661161  , 2.3643088 , 1.8477144 ],\n",
       "        [2.9962046 , 5.0894995 , 5.071582  ],\n",
       "        [4.1819234 , 6.2952623 , 5.050567  ]],\n",
       "\n",
       "       [[1.4956465 , 4.8297987 , 2.7834394 ],\n",
       "        [1.5173601 , 4.775613  , 2.6451995 ],\n",
       "        [1.4397361 , 4.808201  , 2.5536914 ],\n",
       "        ...,\n",
       "        [5.463463  , 2.3908806 , 1.6998812 ],\n",
       "        [3.0489366 , 4.9627194 , 4.9502535 ],\n",
       "        [3.9743488 , 6.009955  , 4.8637657 ]],\n",
       "\n",
       "       [[1.2933247 , 4.802126  , 2.6962273 ],\n",
       "        [1.3800856 , 4.7461953 , 2.579412  ],\n",
       "        [1.3608025 , 4.786241  , 2.4693623 ],\n",
       "        ...,\n",
       "        [5.503054  , 2.5092266 , 1.6702946 ],\n",
       "        [2.9817858 , 4.947144  , 4.7845807 ],\n",
       "        [4.3477516 , 6.2282906 , 4.712713  ]],\n",
       "\n",
       "       ...,\n",
       "\n",
       "       [[1.9480175 , 4.9454603 , 3.550856  ],\n",
       "        [1.9828912 , 4.9181685 , 3.4071913 ],\n",
       "        [1.9218078 , 4.9865303 , 3.3185074 ],\n",
       "        ...,\n",
       "        [0.10500579, 3.9162326 , 0.31879786],\n",
       "        [4.858187  , 3.0325696 , 3.0642202 ],\n",
       "        [4.7914143 , 1.317705  , 0.24205409]],\n",
       "\n",
       "       [[2.0083828 , 5.0992446 , 3.4913704 ],\n",
       "        [2.091472  , 5.01184   , 3.3951283 ],\n",
       "        [2.1768866 , 5.0604186 , 3.3278275 ],\n",
       "        ...,\n",
       "        [6.5706034 , 3.6731076 , 0.1672941 ],\n",
       "        [4.765512  , 3.062178  , 3.3470612 ],\n",
       "        [4.8754654 , 1.3161875 , 0.12746488]],\n",
       "\n",
       "       [[1.8944361 , 4.9483037 , 3.694257  ],\n",
       "        [1.9370121 , 4.961583  , 3.5554345 ],\n",
       "        [1.9705783 , 5.0755663 , 3.5197513 ],\n",
       "        ...,\n",
       "        [0.09951164, 3.7135699 , 0.30861196],\n",
       "        [4.8548756 , 3.0908942 , 3.5206354 ],\n",
       "        [4.6133547 , 1.2388607 , 6.130692  ]]], dtype=float32)"
      ]
     },
     "execution_count": 14,
     "metadata": {},
     "output_type": "execute_result"
    }
   ],
   "source": [
    "neq_old"
   ]
  },
  {
   "cell_type": "code",
   "execution_count": 12,
   "id": "f334f1fc",
   "metadata": {},
   "outputs": [
    {
     "data": {
      "text/plain": [
       "(100, 3170, 3)"
      ]
     },
     "execution_count": 12,
     "metadata": {},
     "output_type": "execute_result"
    }
   ],
   "source": [
    "neq_old.shape"
   ]
  },
  {
   "cell_type": "code",
   "execution_count": 13,
   "id": "3ae3ea7a",
   "metadata": {},
   "outputs": [
    {
     "data": {
      "text/plain": [
       "3170"
      ]
     },
     "execution_count": 13,
     "metadata": {},
     "output_type": "execute_result"
    }
   ],
   "source": [
    "modeller = app.Modeller(htf._topology_proposal.old_topology, htf.old_positions(htf.hybrid_positions))\n",
    "modeller.deleteWater()\n",
    "modeller.topology.getNumAtoms()"
   ]
  },
  {
   "cell_type": "markdown",
   "id": "29723b39",
   "metadata": {},
   "source": [
    "## Check number of waters within 5 angstroms of K27A (REST)"
   ]
  },
  {
   "cell_type": "markdown",
   "id": "5fc509a7",
   "metadata": {},
   "source": [
    "K27"
   ]
  },
  {
   "cell_type": "code",
   "execution_count": 41,
   "id": "604c7efc",
   "metadata": {},
   "outputs": [
    {
     "name": "stderr",
     "output_type": "stream",
     "text": [
      "<ipython-input-25-45ff68d441e7>:16: TqdmDeprecationWarning: This function will be removed in tqdm==5.0.0\n",
      "Please use `tqdm.notebook.tqdm` instead of `tqdm.tqdm_notebook`\n",
      "  for j, pos in tqdm_notebook(enumerate(cache)):\n"
     ]
    },
    {
     "data": {
      "application/vnd.jupyter.widget-view+json": {
       "model_id": "e785695907f44629808dde120e82af2a",
       "version_major": 2,
       "version_minor": 0
      },
      "text/plain": [
       "0it [00:00, ?it/s]"
      ]
     },
     "metadata": {},
     "output_type": "display_data"
    },
    {
     "ename": "ValueError",
     "evalue": "Buffer dtype mismatch, expected 'float' but got 'double'",
     "output_type": "error",
     "traceback": [
      "\u001b[0;31m--------------------------------\u001b[0m",
      "\u001b[0;31mValueError\u001b[0mTraceback (most recent call last)",
      "\u001b[0;31mValueError\u001b[0m: Buffer dtype mismatch, expected 'float' but got 'double'"
     ]
    },
    {
     "name": "stderr",
     "output_type": "stream",
     "text": [
      "Exception ignored in: 'mdtraj.geometry._geometry.image_frame'\n",
      "Traceback (most recent call last):\n",
      "  File \"/home/zhangi/miniconda3/envs/perses-rest2v2/lib/python3.8/site-packages/mdtraj/core/trajectory.py\", line 2005, in image_molecules\n",
      "    _geometry.image_molecules(result.xyz, box, anchor_molecules_atom_indices, other_molecules_atom_indices, sorted_bonds)\n",
      "ValueError: Buffer dtype mismatch, expected 'float' but got 'double'\n"
     ]
    },
    {
     "ename": "ValueError",
     "evalue": "Buffer dtype mismatch, expected 'float' but got 'double'",
     "output_type": "error",
     "traceback": [
      "\u001b[0;31m--------------------------------\u001b[0m",
      "\u001b[0;31mValueError\u001b[0mTraceback (most recent call last)",
      "\u001b[0;31mValueError\u001b[0m: Buffer dtype mismatch, expected 'float' but got 'double'"
     ]
    },
    {
     "name": "stderr",
     "output_type": "stream",
     "text": [
      "Exception ignored in: 'mdtraj.geometry._geometry.image_frame'\n",
      "Traceback (most recent call last):\n",
      "  File \"/home/zhangi/miniconda3/envs/perses-rest2v2/lib/python3.8/site-packages/mdtraj/core/trajectory.py\", line 2005, in image_molecules\n",
      "    _geometry.image_molecules(result.xyz, box, anchor_molecules_atom_indices, other_molecules_atom_indices, sorted_bonds)\n",
      "ValueError: Buffer dtype mismatch, expected 'float' but got 'double'\n"
     ]
    },
    {
     "ename": "ValueError",
     "evalue": "Buffer dtype mismatch, expected 'float' but got 'double'",
     "output_type": "error",
     "traceback": [
      "\u001b[0;31m--------------------------------\u001b[0m",
      "\u001b[0;31mValueError\u001b[0mTraceback (most recent call last)",
      "\u001b[0;31mValueError\u001b[0m: Buffer dtype mismatch, expected 'float' but got 'double'"
     ]
    },
    {
     "name": "stderr",
     "output_type": "stream",
     "text": [
      "Exception ignored in: 'mdtraj.geometry._geometry.image_frame'\n",
      "Traceback (most recent call last):\n",
      "  File \"/home/zhangi/miniconda3/envs/perses-rest2v2/lib/python3.8/site-packages/mdtraj/core/trajectory.py\", line 2005, in image_molecules\n",
      "    _geometry.image_molecules(result.xyz, box, anchor_molecules_atom_indices, other_molecules_atom_indices, sorted_bonds)\n",
      "ValueError: Buffer dtype mismatch, expected 'float' but got 'double'\n"
     ]
    },
    {
     "ename": "ValueError",
     "evalue": "Buffer dtype mismatch, expected 'float' but got 'double'",
     "output_type": "error",
     "traceback": [
      "\u001b[0;31m--------------------------------\u001b[0m",
      "\u001b[0;31mValueError\u001b[0mTraceback (most recent call last)",
      "\u001b[0;31mValueError\u001b[0m: Buffer dtype mismatch, expected 'float' but got 'double'"
     ]
    },
    {
     "name": "stderr",
     "output_type": "stream",
     "text": [
      "Exception ignored in: 'mdtraj.geometry._geometry.image_frame'\n",
      "Traceback (most recent call last):\n",
      "  File \"/home/zhangi/miniconda3/envs/perses-rest2v2/lib/python3.8/site-packages/mdtraj/core/trajectory.py\", line 2005, in image_molecules\n",
      "    _geometry.image_molecules(result.xyz, box, anchor_molecules_atom_indices, other_molecules_atom_indices, sorted_bonds)\n",
      "ValueError: Buffer dtype mismatch, expected 'float' but got 'double'\n"
     ]
    },
    {
     "ename": "ValueError",
     "evalue": "Buffer dtype mismatch, expected 'float' but got 'double'",
     "output_type": "error",
     "traceback": [
      "\u001b[0;31m--------------------------------\u001b[0m",
      "\u001b[0;31mValueError\u001b[0mTraceback (most recent call last)",
      "\u001b[0;31mValueError\u001b[0m: Buffer dtype mismatch, expected 'float' but got 'double'"
     ]
    },
    {
     "name": "stderr",
     "output_type": "stream",
     "text": [
      "Exception ignored in: 'mdtraj.geometry._geometry.image_frame'\n",
      "Traceback (most recent call last):\n",
      "  File \"/home/zhangi/miniconda3/envs/perses-rest2v2/lib/python3.8/site-packages/mdtraj/core/trajectory.py\", line 2005, in image_molecules\n",
      "    _geometry.image_molecules(result.xyz, box, anchor_molecules_atom_indices, other_molecules_atom_indices, sorted_bonds)\n",
      "ValueError: Buffer dtype mismatch, expected 'float' but got 'double'\n"
     ]
    },
    {
     "ename": "ValueError",
     "evalue": "Buffer dtype mismatch, expected 'float' but got 'double'",
     "output_type": "error",
     "traceback": [
      "\u001b[0;31m--------------------------------\u001b[0m",
      "\u001b[0;31mValueError\u001b[0mTraceback (most recent call last)",
      "\u001b[0;31mValueError\u001b[0m: Buffer dtype mismatch, expected 'float' but got 'double'"
     ]
    },
    {
     "name": "stderr",
     "output_type": "stream",
     "text": [
      "Exception ignored in: 'mdtraj.geometry._geometry.image_frame'\n",
      "Traceback (most recent call last):\n",
      "  File \"/home/zhangi/miniconda3/envs/perses-rest2v2/lib/python3.8/site-packages/mdtraj/core/trajectory.py\", line 2005, in image_molecules\n",
      "    _geometry.image_molecules(result.xyz, box, anchor_molecules_atom_indices, other_molecules_atom_indices, sorted_bonds)\n",
      "ValueError: Buffer dtype mismatch, expected 'float' but got 'double'\n"
     ]
    },
    {
     "ename": "ValueError",
     "evalue": "Buffer dtype mismatch, expected 'float' but got 'double'",
     "output_type": "error",
     "traceback": [
      "\u001b[0;31m--------------------------------\u001b[0m",
      "\u001b[0;31mValueError\u001b[0mTraceback (most recent call last)",
      "\u001b[0;31mValueError\u001b[0m: Buffer dtype mismatch, expected 'float' but got 'double'"
     ]
    },
    {
     "name": "stderr",
     "output_type": "stream",
     "text": [
      "Exception ignored in: 'mdtraj.geometry._geometry.image_frame'\n",
      "Traceback (most recent call last):\n",
      "  File \"/home/zhangi/miniconda3/envs/perses-rest2v2/lib/python3.8/site-packages/mdtraj/core/trajectory.py\", line 2005, in image_molecules\n",
      "    _geometry.image_molecules(result.xyz, box, anchor_molecules_atom_indices, other_molecules_atom_indices, sorted_bonds)\n",
      "ValueError: Buffer dtype mismatch, expected 'float' but got 'double'\n"
     ]
    },
    {
     "ename": "ValueError",
     "evalue": "Buffer dtype mismatch, expected 'float' but got 'double'",
     "output_type": "error",
     "traceback": [
      "\u001b[0;31m--------------------------------\u001b[0m",
      "\u001b[0;31mValueError\u001b[0mTraceback (most recent call last)",
      "\u001b[0;31mValueError\u001b[0m: Buffer dtype mismatch, expected 'float' but got 'double'"
     ]
    },
    {
     "name": "stderr",
     "output_type": "stream",
     "text": [
      "Exception ignored in: 'mdtraj.geometry._geometry.image_frame'\n",
      "Traceback (most recent call last):\n",
      "  File \"/home/zhangi/miniconda3/envs/perses-rest2v2/lib/python3.8/site-packages/mdtraj/core/trajectory.py\", line 2005, in image_molecules\n",
      "    _geometry.image_molecules(result.xyz, box, anchor_molecules_atom_indices, other_molecules_atom_indices, sorted_bonds)\n",
      "ValueError: Buffer dtype mismatch, expected 'float' but got 'double'\n"
     ]
    },
    {
     "ename": "ValueError",
     "evalue": "Buffer dtype mismatch, expected 'float' but got 'double'",
     "output_type": "error",
     "traceback": [
      "\u001b[0;31m--------------------------------\u001b[0m",
      "\u001b[0;31mValueError\u001b[0mTraceback (most recent call last)",
      "\u001b[0;31mValueError\u001b[0m: Buffer dtype mismatch, expected 'float' but got 'double'"
     ]
    },
    {
     "name": "stderr",
     "output_type": "stream",
     "text": [
      "Exception ignored in: 'mdtraj.geometry._geometry.image_frame'\n",
      "Traceback (most recent call last):\n",
      "  File \"/home/zhangi/miniconda3/envs/perses-rest2v2/lib/python3.8/site-packages/mdtraj/core/trajectory.py\", line 2005, in image_molecules\n",
      "    _geometry.image_molecules(result.xyz, box, anchor_molecules_atom_indices, other_molecules_atom_indices, sorted_bonds)\n",
      "ValueError: Buffer dtype mismatch, expected 'float' but got 'double'\n"
     ]
    },
    {
     "ename": "ValueError",
     "evalue": "Buffer dtype mismatch, expected 'float' but got 'double'",
     "output_type": "error",
     "traceback": [
      "\u001b[0;31m--------------------------------\u001b[0m",
      "\u001b[0;31mValueError\u001b[0mTraceback (most recent call last)",
      "\u001b[0;31mValueError\u001b[0m: Buffer dtype mismatch, expected 'float' but got 'double'"
     ]
    },
    {
     "name": "stderr",
     "output_type": "stream",
     "text": [
      "Exception ignored in: 'mdtraj.geometry._geometry.image_frame'\n",
      "Traceback (most recent call last):\n",
      "  File \"/home/zhangi/miniconda3/envs/perses-rest2v2/lib/python3.8/site-packages/mdtraj/core/trajectory.py\", line 2005, in image_molecules\n",
      "    _geometry.image_molecules(result.xyz, box, anchor_molecules_atom_indices, other_molecules_atom_indices, sorted_bonds)\n",
      "ValueError: Buffer dtype mismatch, expected 'float' but got 'double'\n"
     ]
    },
    {
     "ename": "ValueError",
     "evalue": "Buffer dtype mismatch, expected 'float' but got 'double'",
     "output_type": "error",
     "traceback": [
      "\u001b[0;31m--------------------------------\u001b[0m",
      "\u001b[0;31mValueError\u001b[0mTraceback (most recent call last)",
      "\u001b[0;31mValueError\u001b[0m: Buffer dtype mismatch, expected 'float' but got 'double'"
     ]
    },
    {
     "name": "stderr",
     "output_type": "stream",
     "text": [
      "Exception ignored in: 'mdtraj.geometry._geometry.image_frame'\n",
      "Traceback (most recent call last):\n",
      "  File \"/home/zhangi/miniconda3/envs/perses-rest2v2/lib/python3.8/site-packages/mdtraj/core/trajectory.py\", line 2005, in image_molecules\n",
      "    _geometry.image_molecules(result.xyz, box, anchor_molecules_atom_indices, other_molecules_atom_indices, sorted_bonds)\n",
      "ValueError: Buffer dtype mismatch, expected 'float' but got 'double'\n"
     ]
    },
    {
     "ename": "ValueError",
     "evalue": "Buffer dtype mismatch, expected 'float' but got 'double'",
     "output_type": "error",
     "traceback": [
      "\u001b[0;31m--------------------------------\u001b[0m",
      "\u001b[0;31mValueError\u001b[0mTraceback (most recent call last)",
      "\u001b[0;31mValueError\u001b[0m: Buffer dtype mismatch, expected 'float' but got 'double'"
     ]
    },
    {
     "name": "stderr",
     "output_type": "stream",
     "text": [
      "Exception ignored in: 'mdtraj.geometry._geometry.image_frame'\n",
      "Traceback (most recent call last):\n",
      "  File \"/home/zhangi/miniconda3/envs/perses-rest2v2/lib/python3.8/site-packages/mdtraj/core/trajectory.py\", line 2005, in image_molecules\n",
      "    _geometry.image_molecules(result.xyz, box, anchor_molecules_atom_indices, other_molecules_atom_indices, sorted_bonds)\n",
      "ValueError: Buffer dtype mismatch, expected 'float' but got 'double'\n"
     ]
    },
    {
     "ename": "ValueError",
     "evalue": "Buffer dtype mismatch, expected 'float' but got 'double'",
     "output_type": "error",
     "traceback": [
      "\u001b[0;31m--------------------------------\u001b[0m",
      "\u001b[0;31mValueError\u001b[0mTraceback (most recent call last)",
      "\u001b[0;31mValueError\u001b[0m: Buffer dtype mismatch, expected 'float' but got 'double'"
     ]
    },
    {
     "name": "stderr",
     "output_type": "stream",
     "text": [
      "Exception ignored in: 'mdtraj.geometry._geometry.image_frame'\n",
      "Traceback (most recent call last):\n",
      "  File \"/home/zhangi/miniconda3/envs/perses-rest2v2/lib/python3.8/site-packages/mdtraj/core/trajectory.py\", line 2005, in image_molecules\n",
      "    _geometry.image_molecules(result.xyz, box, anchor_molecules_atom_indices, other_molecules_atom_indices, sorted_bonds)\n",
      "ValueError: Buffer dtype mismatch, expected 'float' but got 'double'\n"
     ]
    },
    {
     "ename": "ValueError",
     "evalue": "Buffer dtype mismatch, expected 'float' but got 'double'",
     "output_type": "error",
     "traceback": [
      "\u001b[0;31m--------------------------------\u001b[0m",
      "\u001b[0;31mValueError\u001b[0mTraceback (most recent call last)",
      "\u001b[0;31mValueError\u001b[0m: Buffer dtype mismatch, expected 'float' but got 'double'"
     ]
    },
    {
     "name": "stderr",
     "output_type": "stream",
     "text": [
      "Exception ignored in: 'mdtraj.geometry._geometry.image_frame'\n",
      "Traceback (most recent call last):\n",
      "  File \"/home/zhangi/miniconda3/envs/perses-rest2v2/lib/python3.8/site-packages/mdtraj/core/trajectory.py\", line 2005, in image_molecules\n",
      "    _geometry.image_molecules(result.xyz, box, anchor_molecules_atom_indices, other_molecules_atom_indices, sorted_bonds)\n",
      "ValueError: Buffer dtype mismatch, expected 'float' but got 'double'\n"
     ]
    },
    {
     "ename": "ValueError",
     "evalue": "Buffer dtype mismatch, expected 'float' but got 'double'",
     "output_type": "error",
     "traceback": [
      "\u001b[0;31m--------------------------------\u001b[0m",
      "\u001b[0;31mValueError\u001b[0mTraceback (most recent call last)",
      "\u001b[0;31mValueError\u001b[0m: Buffer dtype mismatch, expected 'float' but got 'double'"
     ]
    },
    {
     "name": "stderr",
     "output_type": "stream",
     "text": [
      "Exception ignored in: 'mdtraj.geometry._geometry.image_frame'\n",
      "Traceback (most recent call last):\n",
      "  File \"/home/zhangi/miniconda3/envs/perses-rest2v2/lib/python3.8/site-packages/mdtraj/core/trajectory.py\", line 2005, in image_molecules\n",
      "    _geometry.image_molecules(result.xyz, box, anchor_molecules_atom_indices, other_molecules_atom_indices, sorted_bonds)\n",
      "ValueError: Buffer dtype mismatch, expected 'float' but got 'double'\n"
     ]
    },
    {
     "ename": "ValueError",
     "evalue": "Buffer dtype mismatch, expected 'float' but got 'double'",
     "output_type": "error",
     "traceback": [
      "\u001b[0;31m--------------------------------\u001b[0m",
      "\u001b[0;31mValueError\u001b[0mTraceback (most recent call last)",
      "\u001b[0;31mValueError\u001b[0m: Buffer dtype mismatch, expected 'float' but got 'double'"
     ]
    },
    {
     "name": "stderr",
     "output_type": "stream",
     "text": [
      "Exception ignored in: 'mdtraj.geometry._geometry.image_frame'\n",
      "Traceback (most recent call last):\n",
      "  File \"/home/zhangi/miniconda3/envs/perses-rest2v2/lib/python3.8/site-packages/mdtraj/core/trajectory.py\", line 2005, in image_molecules\n",
      "    _geometry.image_molecules(result.xyz, box, anchor_molecules_atom_indices, other_molecules_atom_indices, sorted_bonds)\n",
      "ValueError: Buffer dtype mismatch, expected 'float' but got 'double'\n"
     ]
    },
    {
     "ename": "ValueError",
     "evalue": "Buffer dtype mismatch, expected 'float' but got 'double'",
     "output_type": "error",
     "traceback": [
      "\u001b[0;31m--------------------------------\u001b[0m",
      "\u001b[0;31mValueError\u001b[0mTraceback (most recent call last)",
      "\u001b[0;31mValueError\u001b[0m: Buffer dtype mismatch, expected 'float' but got 'double'"
     ]
    },
    {
     "name": "stderr",
     "output_type": "stream",
     "text": [
      "Exception ignored in: 'mdtraj.geometry._geometry.image_frame'\n",
      "Traceback (most recent call last):\n",
      "  File \"/home/zhangi/miniconda3/envs/perses-rest2v2/lib/python3.8/site-packages/mdtraj/core/trajectory.py\", line 2005, in image_molecules\n",
      "    _geometry.image_molecules(result.xyz, box, anchor_molecules_atom_indices, other_molecules_atom_indices, sorted_bonds)\n",
      "ValueError: Buffer dtype mismatch, expected 'float' but got 'double'\n"
     ]
    },
    {
     "ename": "ValueError",
     "evalue": "Buffer dtype mismatch, expected 'float' but got 'double'",
     "output_type": "error",
     "traceback": [
      "\u001b[0;31m--------------------------------\u001b[0m",
      "\u001b[0;31mValueError\u001b[0mTraceback (most recent call last)",
      "\u001b[0;31mValueError\u001b[0m: Buffer dtype mismatch, expected 'float' but got 'double'"
     ]
    },
    {
     "name": "stderr",
     "output_type": "stream",
     "text": [
      "Exception ignored in: 'mdtraj.geometry._geometry.image_frame'\n",
      "Traceback (most recent call last):\n",
      "  File \"/home/zhangi/miniconda3/envs/perses-rest2v2/lib/python3.8/site-packages/mdtraj/core/trajectory.py\", line 2005, in image_molecules\n",
      "    _geometry.image_molecules(result.xyz, box, anchor_molecules_atom_indices, other_molecules_atom_indices, sorted_bonds)\n",
      "ValueError: Buffer dtype mismatch, expected 'float' but got 'double'\n"
     ]
    },
    {
     "ename": "ValueError",
     "evalue": "Buffer dtype mismatch, expected 'float' but got 'double'",
     "output_type": "error",
     "traceback": [
      "\u001b[0;31m--------------------------------\u001b[0m",
      "\u001b[0;31mValueError\u001b[0mTraceback (most recent call last)",
      "\u001b[0;31mValueError\u001b[0m: Buffer dtype mismatch, expected 'float' but got 'double'"
     ]
    },
    {
     "name": "stderr",
     "output_type": "stream",
     "text": [
      "Exception ignored in: 'mdtraj.geometry._geometry.image_frame'\n",
      "Traceback (most recent call last):\n",
      "  File \"/home/zhangi/miniconda3/envs/perses-rest2v2/lib/python3.8/site-packages/mdtraj/core/trajectory.py\", line 2005, in image_molecules\n",
      "    _geometry.image_molecules(result.xyz, box, anchor_molecules_atom_indices, other_molecules_atom_indices, sorted_bonds)\n",
      "ValueError: Buffer dtype mismatch, expected 'float' but got 'double'\n"
     ]
    },
    {
     "ename": "ValueError",
     "evalue": "Buffer dtype mismatch, expected 'float' but got 'double'",
     "output_type": "error",
     "traceback": [
      "\u001b[0;31m--------------------------------\u001b[0m",
      "\u001b[0;31mValueError\u001b[0mTraceback (most recent call last)",
      "\u001b[0;31mValueError\u001b[0m: Buffer dtype mismatch, expected 'float' but got 'double'"
     ]
    },
    {
     "name": "stderr",
     "output_type": "stream",
     "text": [
      "Exception ignored in: 'mdtraj.geometry._geometry.image_frame'\n",
      "Traceback (most recent call last):\n",
      "  File \"/home/zhangi/miniconda3/envs/perses-rest2v2/lib/python3.8/site-packages/mdtraj/core/trajectory.py\", line 2005, in image_molecules\n",
      "    _geometry.image_molecules(result.xyz, box, anchor_molecules_atom_indices, other_molecules_atom_indices, sorted_bonds)\n",
      "ValueError: Buffer dtype mismatch, expected 'float' but got 'double'\n"
     ]
    },
    {
     "ename": "ValueError",
     "evalue": "Buffer dtype mismatch, expected 'float' but got 'double'",
     "output_type": "error",
     "traceback": [
      "\u001b[0;31m--------------------------------\u001b[0m",
      "\u001b[0;31mValueError\u001b[0mTraceback (most recent call last)",
      "\u001b[0;31mValueError\u001b[0m: Buffer dtype mismatch, expected 'float' but got 'double'"
     ]
    },
    {
     "name": "stderr",
     "output_type": "stream",
     "text": [
      "Exception ignored in: 'mdtraj.geometry._geometry.image_frame'\n",
      "Traceback (most recent call last):\n",
      "  File \"/home/zhangi/miniconda3/envs/perses-rest2v2/lib/python3.8/site-packages/mdtraj/core/trajectory.py\", line 2005, in image_molecules\n",
      "    _geometry.image_molecules(result.xyz, box, anchor_molecules_atom_indices, other_molecules_atom_indices, sorted_bonds)\n",
      "ValueError: Buffer dtype mismatch, expected 'float' but got 'double'\n"
     ]
    },
    {
     "ename": "ValueError",
     "evalue": "Buffer dtype mismatch, expected 'float' but got 'double'",
     "output_type": "error",
     "traceback": [
      "\u001b[0;31m--------------------------------\u001b[0m",
      "\u001b[0;31mValueError\u001b[0mTraceback (most recent call last)",
      "\u001b[0;31mValueError\u001b[0m: Buffer dtype mismatch, expected 'float' but got 'double'"
     ]
    },
    {
     "name": "stderr",
     "output_type": "stream",
     "text": [
      "Exception ignored in: 'mdtraj.geometry._geometry.image_frame'\n",
      "Traceback (most recent call last):\n",
      "  File \"/home/zhangi/miniconda3/envs/perses-rest2v2/lib/python3.8/site-packages/mdtraj/core/trajectory.py\", line 2005, in image_molecules\n",
      "    _geometry.image_molecules(result.xyz, box, anchor_molecules_atom_indices, other_molecules_atom_indices, sorted_bonds)\n",
      "ValueError: Buffer dtype mismatch, expected 'float' but got 'double'\n"
     ]
    },
    {
     "ename": "ValueError",
     "evalue": "Buffer dtype mismatch, expected 'float' but got 'double'",
     "output_type": "error",
     "traceback": [
      "\u001b[0;31m--------------------------------\u001b[0m",
      "\u001b[0;31mValueError\u001b[0mTraceback (most recent call last)",
      "\u001b[0;31mValueError\u001b[0m: Buffer dtype mismatch, expected 'float' but got 'double'"
     ]
    },
    {
     "name": "stderr",
     "output_type": "stream",
     "text": [
      "Exception ignored in: 'mdtraj.geometry._geometry.image_frame'\n",
      "Traceback (most recent call last):\n",
      "  File \"/home/zhangi/miniconda3/envs/perses-rest2v2/lib/python3.8/site-packages/mdtraj/core/trajectory.py\", line 2005, in image_molecules\n",
      "    _geometry.image_molecules(result.xyz, box, anchor_molecules_atom_indices, other_molecules_atom_indices, sorted_bonds)\n",
      "ValueError: Buffer dtype mismatch, expected 'float' but got 'double'\n"
     ]
    },
    {
     "ename": "ValueError",
     "evalue": "Buffer dtype mismatch, expected 'float' but got 'double'",
     "output_type": "error",
     "traceback": [
      "\u001b[0;31m--------------------------------\u001b[0m",
      "\u001b[0;31mValueError\u001b[0mTraceback (most recent call last)",
      "\u001b[0;31mValueError\u001b[0m: Buffer dtype mismatch, expected 'float' but got 'double'"
     ]
    },
    {
     "name": "stderr",
     "output_type": "stream",
     "text": [
      "Exception ignored in: 'mdtraj.geometry._geometry.image_frame'\n",
      "Traceback (most recent call last):\n",
      "  File \"/home/zhangi/miniconda3/envs/perses-rest2v2/lib/python3.8/site-packages/mdtraj/core/trajectory.py\", line 2005, in image_molecules\n",
      "    _geometry.image_molecules(result.xyz, box, anchor_molecules_atom_indices, other_molecules_atom_indices, sorted_bonds)\n",
      "ValueError: Buffer dtype mismatch, expected 'float' but got 'double'\n"
     ]
    },
    {
     "ename": "ValueError",
     "evalue": "Buffer dtype mismatch, expected 'float' but got 'double'",
     "output_type": "error",
     "traceback": [
      "\u001b[0;31m--------------------------------\u001b[0m",
      "\u001b[0;31mValueError\u001b[0mTraceback (most recent call last)",
      "\u001b[0;31mValueError\u001b[0m: Buffer dtype mismatch, expected 'float' but got 'double'"
     ]
    },
    {
     "name": "stderr",
     "output_type": "stream",
     "text": [
      "Exception ignored in: 'mdtraj.geometry._geometry.image_frame'\n",
      "Traceback (most recent call last):\n",
      "  File \"/home/zhangi/miniconda3/envs/perses-rest2v2/lib/python3.8/site-packages/mdtraj/core/trajectory.py\", line 2005, in image_molecules\n",
      "    _geometry.image_molecules(result.xyz, box, anchor_molecules_atom_indices, other_molecules_atom_indices, sorted_bonds)\n",
      "ValueError: Buffer dtype mismatch, expected 'float' but got 'double'\n"
     ]
    },
    {
     "ename": "ValueError",
     "evalue": "Buffer dtype mismatch, expected 'float' but got 'double'",
     "output_type": "error",
     "traceback": [
      "\u001b[0;31m--------------------------------\u001b[0m",
      "\u001b[0;31mValueError\u001b[0mTraceback (most recent call last)",
      "\u001b[0;31mValueError\u001b[0m: Buffer dtype mismatch, expected 'float' but got 'double'"
     ]
    },
    {
     "name": "stderr",
     "output_type": "stream",
     "text": [
      "Exception ignored in: 'mdtraj.geometry._geometry.image_frame'\n",
      "Traceback (most recent call last):\n",
      "  File \"/home/zhangi/miniconda3/envs/perses-rest2v2/lib/python3.8/site-packages/mdtraj/core/trajectory.py\", line 2005, in image_molecules\n",
      "    _geometry.image_molecules(result.xyz, box, anchor_molecules_atom_indices, other_molecules_atom_indices, sorted_bonds)\n",
      "ValueError: Buffer dtype mismatch, expected 'float' but got 'double'\n"
     ]
    },
    {
     "ename": "ValueError",
     "evalue": "Buffer dtype mismatch, expected 'float' but got 'double'",
     "output_type": "error",
     "traceback": [
      "\u001b[0;31m--------------------------------\u001b[0m",
      "\u001b[0;31mValueError\u001b[0mTraceback (most recent call last)",
      "\u001b[0;31mValueError\u001b[0m: Buffer dtype mismatch, expected 'float' but got 'double'"
     ]
    },
    {
     "name": "stderr",
     "output_type": "stream",
     "text": [
      "Exception ignored in: 'mdtraj.geometry._geometry.image_frame'\n",
      "Traceback (most recent call last):\n",
      "  File \"/home/zhangi/miniconda3/envs/perses-rest2v2/lib/python3.8/site-packages/mdtraj/core/trajectory.py\", line 2005, in image_molecules\n",
      "    _geometry.image_molecules(result.xyz, box, anchor_molecules_atom_indices, other_molecules_atom_indices, sorted_bonds)\n",
      "ValueError: Buffer dtype mismatch, expected 'float' but got 'double'\n"
     ]
    },
    {
     "ename": "ValueError",
     "evalue": "Buffer dtype mismatch, expected 'float' but got 'double'",
     "output_type": "error",
     "traceback": [
      "\u001b[0;31m--------------------------------\u001b[0m",
      "\u001b[0;31mValueError\u001b[0mTraceback (most recent call last)",
      "\u001b[0;31mValueError\u001b[0m: Buffer dtype mismatch, expected 'float' but got 'double'"
     ]
    },
    {
     "name": "stderr",
     "output_type": "stream",
     "text": [
      "Exception ignored in: 'mdtraj.geometry._geometry.image_frame'\n",
      "Traceback (most recent call last):\n",
      "  File \"/home/zhangi/miniconda3/envs/perses-rest2v2/lib/python3.8/site-packages/mdtraj/core/trajectory.py\", line 2005, in image_molecules\n",
      "    _geometry.image_molecules(result.xyz, box, anchor_molecules_atom_indices, other_molecules_atom_indices, sorted_bonds)\n",
      "ValueError: Buffer dtype mismatch, expected 'float' but got 'double'\n"
     ]
    },
    {
     "ename": "ValueError",
     "evalue": "Buffer dtype mismatch, expected 'float' but got 'double'",
     "output_type": "error",
     "traceback": [
      "\u001b[0;31m--------------------------------\u001b[0m",
      "\u001b[0;31mValueError\u001b[0mTraceback (most recent call last)",
      "\u001b[0;31mValueError\u001b[0m: Buffer dtype mismatch, expected 'float' but got 'double'"
     ]
    },
    {
     "name": "stderr",
     "output_type": "stream",
     "text": [
      "Exception ignored in: 'mdtraj.geometry._geometry.image_frame'\n",
      "Traceback (most recent call last):\n",
      "  File \"/home/zhangi/miniconda3/envs/perses-rest2v2/lib/python3.8/site-packages/mdtraj/core/trajectory.py\", line 2005, in image_molecules\n",
      "    _geometry.image_molecules(result.xyz, box, anchor_molecules_atom_indices, other_molecules_atom_indices, sorted_bonds)\n",
      "ValueError: Buffer dtype mismatch, expected 'float' but got 'double'\n"
     ]
    },
    {
     "ename": "ValueError",
     "evalue": "Buffer dtype mismatch, expected 'float' but got 'double'",
     "output_type": "error",
     "traceback": [
      "\u001b[0;31m--------------------------------\u001b[0m",
      "\u001b[0;31mValueError\u001b[0mTraceback (most recent call last)",
      "\u001b[0;31mValueError\u001b[0m: Buffer dtype mismatch, expected 'float' but got 'double'"
     ]
    },
    {
     "name": "stderr",
     "output_type": "stream",
     "text": [
      "Exception ignored in: 'mdtraj.geometry._geometry.image_frame'\n",
      "Traceback (most recent call last):\n",
      "  File \"/home/zhangi/miniconda3/envs/perses-rest2v2/lib/python3.8/site-packages/mdtraj/core/trajectory.py\", line 2005, in image_molecules\n",
      "    _geometry.image_molecules(result.xyz, box, anchor_molecules_atom_indices, other_molecules_atom_indices, sorted_bonds)\n",
      "ValueError: Buffer dtype mismatch, expected 'float' but got 'double'\n"
     ]
    },
    {
     "ename": "ValueError",
     "evalue": "Buffer dtype mismatch, expected 'float' but got 'double'",
     "output_type": "error",
     "traceback": [
      "\u001b[0;31m--------------------------------\u001b[0m",
      "\u001b[0;31mValueError\u001b[0mTraceback (most recent call last)",
      "\u001b[0;31mValueError\u001b[0m: Buffer dtype mismatch, expected 'float' but got 'double'"
     ]
    },
    {
     "name": "stderr",
     "output_type": "stream",
     "text": [
      "Exception ignored in: 'mdtraj.geometry._geometry.image_frame'\n",
      "Traceback (most recent call last):\n",
      "  File \"/home/zhangi/miniconda3/envs/perses-rest2v2/lib/python3.8/site-packages/mdtraj/core/trajectory.py\", line 2005, in image_molecules\n",
      "    _geometry.image_molecules(result.xyz, box, anchor_molecules_atom_indices, other_molecules_atom_indices, sorted_bonds)\n",
      "ValueError: Buffer dtype mismatch, expected 'float' but got 'double'\n"
     ]
    },
    {
     "ename": "ValueError",
     "evalue": "Buffer dtype mismatch, expected 'float' but got 'double'",
     "output_type": "error",
     "traceback": [
      "\u001b[0;31m--------------------------------\u001b[0m",
      "\u001b[0;31mValueError\u001b[0mTraceback (most recent call last)",
      "\u001b[0;31mValueError\u001b[0m: Buffer dtype mismatch, expected 'float' but got 'double'"
     ]
    },
    {
     "name": "stderr",
     "output_type": "stream",
     "text": [
      "Exception ignored in: 'mdtraj.geometry._geometry.image_frame'\n",
      "Traceback (most recent call last):\n",
      "  File \"/home/zhangi/miniconda3/envs/perses-rest2v2/lib/python3.8/site-packages/mdtraj/core/trajectory.py\", line 2005, in image_molecules\n",
      "    _geometry.image_molecules(result.xyz, box, anchor_molecules_atom_indices, other_molecules_atom_indices, sorted_bonds)\n",
      "ValueError: Buffer dtype mismatch, expected 'float' but got 'double'\n"
     ]
    },
    {
     "ename": "ValueError",
     "evalue": "Buffer dtype mismatch, expected 'float' but got 'double'",
     "output_type": "error",
     "traceback": [
      "\u001b[0;31m--------------------------------\u001b[0m",
      "\u001b[0;31mValueError\u001b[0mTraceback (most recent call last)",
      "\u001b[0;31mValueError\u001b[0m: Buffer dtype mismatch, expected 'float' but got 'double'"
     ]
    },
    {
     "name": "stderr",
     "output_type": "stream",
     "text": [
      "Exception ignored in: 'mdtraj.geometry._geometry.image_frame'\n",
      "Traceback (most recent call last):\n",
      "  File \"/home/zhangi/miniconda3/envs/perses-rest2v2/lib/python3.8/site-packages/mdtraj/core/trajectory.py\", line 2005, in image_molecules\n",
      "    _geometry.image_molecules(result.xyz, box, anchor_molecules_atom_indices, other_molecules_atom_indices, sorted_bonds)\n",
      "ValueError: Buffer dtype mismatch, expected 'float' but got 'double'\n"
     ]
    },
    {
     "ename": "ValueError",
     "evalue": "Buffer dtype mismatch, expected 'float' but got 'double'",
     "output_type": "error",
     "traceback": [
      "\u001b[0;31m--------------------------------\u001b[0m",
      "\u001b[0;31mValueError\u001b[0mTraceback (most recent call last)",
      "\u001b[0;31mValueError\u001b[0m: Buffer dtype mismatch, expected 'float' but got 'double'"
     ]
    },
    {
     "name": "stderr",
     "output_type": "stream",
     "text": [
      "Exception ignored in: 'mdtraj.geometry._geometry.image_frame'\n",
      "Traceback (most recent call last):\n",
      "  File \"/home/zhangi/miniconda3/envs/perses-rest2v2/lib/python3.8/site-packages/mdtraj/core/trajectory.py\", line 2005, in image_molecules\n",
      "    _geometry.image_molecules(result.xyz, box, anchor_molecules_atom_indices, other_molecules_atom_indices, sorted_bonds)\n",
      "ValueError: Buffer dtype mismatch, expected 'float' but got 'double'\n"
     ]
    },
    {
     "ename": "ValueError",
     "evalue": "Buffer dtype mismatch, expected 'float' but got 'double'",
     "output_type": "error",
     "traceback": [
      "\u001b[0;31m--------------------------------\u001b[0m",
      "\u001b[0;31mValueError\u001b[0mTraceback (most recent call last)",
      "\u001b[0;31mValueError\u001b[0m: Buffer dtype mismatch, expected 'float' but got 'double'"
     ]
    },
    {
     "name": "stderr",
     "output_type": "stream",
     "text": [
      "Exception ignored in: 'mdtraj.geometry._geometry.image_frame'\n",
      "Traceback (most recent call last):\n",
      "  File \"/home/zhangi/miniconda3/envs/perses-rest2v2/lib/python3.8/site-packages/mdtraj/core/trajectory.py\", line 2005, in image_molecules\n",
      "    _geometry.image_molecules(result.xyz, box, anchor_molecules_atom_indices, other_molecules_atom_indices, sorted_bonds)\n",
      "ValueError: Buffer dtype mismatch, expected 'float' but got 'double'\n"
     ]
    },
    {
     "ename": "ValueError",
     "evalue": "Buffer dtype mismatch, expected 'float' but got 'double'",
     "output_type": "error",
     "traceback": [
      "\u001b[0;31m--------------------------------\u001b[0m",
      "\u001b[0;31mValueError\u001b[0mTraceback (most recent call last)",
      "\u001b[0;31mValueError\u001b[0m: Buffer dtype mismatch, expected 'float' but got 'double'"
     ]
    },
    {
     "name": "stderr",
     "output_type": "stream",
     "text": [
      "Exception ignored in: 'mdtraj.geometry._geometry.image_frame'\n",
      "Traceback (most recent call last):\n",
      "  File \"/home/zhangi/miniconda3/envs/perses-rest2v2/lib/python3.8/site-packages/mdtraj/core/trajectory.py\", line 2005, in image_molecules\n",
      "    _geometry.image_molecules(result.xyz, box, anchor_molecules_atom_indices, other_molecules_atom_indices, sorted_bonds)\n",
      "ValueError: Buffer dtype mismatch, expected 'float' but got 'double'\n"
     ]
    },
    {
     "ename": "ValueError",
     "evalue": "Buffer dtype mismatch, expected 'float' but got 'double'",
     "output_type": "error",
     "traceback": [
      "\u001b[0;31m--------------------------------\u001b[0m",
      "\u001b[0;31mValueError\u001b[0mTraceback (most recent call last)",
      "\u001b[0;31mValueError\u001b[0m: Buffer dtype mismatch, expected 'float' but got 'double'"
     ]
    },
    {
     "name": "stderr",
     "output_type": "stream",
     "text": [
      "Exception ignored in: 'mdtraj.geometry._geometry.image_frame'\n",
      "Traceback (most recent call last):\n",
      "  File \"/home/zhangi/miniconda3/envs/perses-rest2v2/lib/python3.8/site-packages/mdtraj/core/trajectory.py\", line 2005, in image_molecules\n",
      "    _geometry.image_molecules(result.xyz, box, anchor_molecules_atom_indices, other_molecules_atom_indices, sorted_bonds)\n",
      "ValueError: Buffer dtype mismatch, expected 'float' but got 'double'\n"
     ]
    },
    {
     "ename": "ValueError",
     "evalue": "Buffer dtype mismatch, expected 'float' but got 'double'",
     "output_type": "error",
     "traceback": [
      "\u001b[0;31m--------------------------------\u001b[0m",
      "\u001b[0;31mValueError\u001b[0mTraceback (most recent call last)",
      "\u001b[0;31mValueError\u001b[0m: Buffer dtype mismatch, expected 'float' but got 'double'"
     ]
    },
    {
     "name": "stderr",
     "output_type": "stream",
     "text": [
      "Exception ignored in: 'mdtraj.geometry._geometry.image_frame'\n",
      "Traceback (most recent call last):\n",
      "  File \"/home/zhangi/miniconda3/envs/perses-rest2v2/lib/python3.8/site-packages/mdtraj/core/trajectory.py\", line 2005, in image_molecules\n",
      "    _geometry.image_molecules(result.xyz, box, anchor_molecules_atom_indices, other_molecules_atom_indices, sorted_bonds)\n",
      "ValueError: Buffer dtype mismatch, expected 'float' but got 'double'\n"
     ]
    },
    {
     "ename": "ValueError",
     "evalue": "Buffer dtype mismatch, expected 'float' but got 'double'",
     "output_type": "error",
     "traceback": [
      "\u001b[0;31m--------------------------------\u001b[0m",
      "\u001b[0;31mValueError\u001b[0mTraceback (most recent call last)",
      "\u001b[0;31mValueError\u001b[0m: Buffer dtype mismatch, expected 'float' but got 'double'"
     ]
    },
    {
     "name": "stderr",
     "output_type": "stream",
     "text": [
      "Exception ignored in: 'mdtraj.geometry._geometry.image_frame'\n",
      "Traceback (most recent call last):\n",
      "  File \"/home/zhangi/miniconda3/envs/perses-rest2v2/lib/python3.8/site-packages/mdtraj/core/trajectory.py\", line 2005, in image_molecules\n",
      "    _geometry.image_molecules(result.xyz, box, anchor_molecules_atom_indices, other_molecules_atom_indices, sorted_bonds)\n",
      "ValueError: Buffer dtype mismatch, expected 'float' but got 'double'\n"
     ]
    },
    {
     "ename": "ValueError",
     "evalue": "Buffer dtype mismatch, expected 'float' but got 'double'",
     "output_type": "error",
     "traceback": [
      "\u001b[0;31m--------------------------------\u001b[0m",
      "\u001b[0;31mValueError\u001b[0mTraceback (most recent call last)",
      "\u001b[0;31mValueError\u001b[0m: Buffer dtype mismatch, expected 'float' but got 'double'"
     ]
    },
    {
     "name": "stderr",
     "output_type": "stream",
     "text": [
      "Exception ignored in: 'mdtraj.geometry._geometry.image_frame'\n",
      "Traceback (most recent call last):\n",
      "  File \"/home/zhangi/miniconda3/envs/perses-rest2v2/lib/python3.8/site-packages/mdtraj/core/trajectory.py\", line 2005, in image_molecules\n",
      "    _geometry.image_molecules(result.xyz, box, anchor_molecules_atom_indices, other_molecules_atom_indices, sorted_bonds)\n",
      "ValueError: Buffer dtype mismatch, expected 'float' but got 'double'\n"
     ]
    },
    {
     "ename": "ValueError",
     "evalue": "Buffer dtype mismatch, expected 'float' but got 'double'",
     "output_type": "error",
     "traceback": [
      "\u001b[0;31m--------------------------------\u001b[0m",
      "\u001b[0;31mValueError\u001b[0mTraceback (most recent call last)",
      "\u001b[0;31mValueError\u001b[0m: Buffer dtype mismatch, expected 'float' but got 'double'"
     ]
    },
    {
     "name": "stderr",
     "output_type": "stream",
     "text": [
      "Exception ignored in: 'mdtraj.geometry._geometry.image_frame'\n",
      "Traceback (most recent call last):\n",
      "  File \"/home/zhangi/miniconda3/envs/perses-rest2v2/lib/python3.8/site-packages/mdtraj/core/trajectory.py\", line 2005, in image_molecules\n",
      "    _geometry.image_molecules(result.xyz, box, anchor_molecules_atom_indices, other_molecules_atom_indices, sorted_bonds)\n",
      "ValueError: Buffer dtype mismatch, expected 'float' but got 'double'\n"
     ]
    },
    {
     "ename": "ValueError",
     "evalue": "Buffer dtype mismatch, expected 'float' but got 'double'",
     "output_type": "error",
     "traceback": [
      "\u001b[0;31m--------------------------------\u001b[0m",
      "\u001b[0;31mValueError\u001b[0mTraceback (most recent call last)",
      "\u001b[0;31mValueError\u001b[0m: Buffer dtype mismatch, expected 'float' but got 'double'"
     ]
    },
    {
     "name": "stderr",
     "output_type": "stream",
     "text": [
      "Exception ignored in: 'mdtraj.geometry._geometry.image_frame'\n",
      "Traceback (most recent call last):\n",
      "  File \"/home/zhangi/miniconda3/envs/perses-rest2v2/lib/python3.8/site-packages/mdtraj/core/trajectory.py\", line 2005, in image_molecules\n",
      "    _geometry.image_molecules(result.xyz, box, anchor_molecules_atom_indices, other_molecules_atom_indices, sorted_bonds)\n",
      "ValueError: Buffer dtype mismatch, expected 'float' but got 'double'\n"
     ]
    },
    {
     "ename": "ValueError",
     "evalue": "Buffer dtype mismatch, expected 'float' but got 'double'",
     "output_type": "error",
     "traceback": [
      "\u001b[0;31m--------------------------------\u001b[0m",
      "\u001b[0;31mValueError\u001b[0mTraceback (most recent call last)",
      "\u001b[0;31mValueError\u001b[0m: Buffer dtype mismatch, expected 'float' but got 'double'"
     ]
    },
    {
     "name": "stderr",
     "output_type": "stream",
     "text": [
      "Exception ignored in: 'mdtraj.geometry._geometry.image_frame'\n",
      "Traceback (most recent call last):\n",
      "  File \"/home/zhangi/miniconda3/envs/perses-rest2v2/lib/python3.8/site-packages/mdtraj/core/trajectory.py\", line 2005, in image_molecules\n",
      "    _geometry.image_molecules(result.xyz, box, anchor_molecules_atom_indices, other_molecules_atom_indices, sorted_bonds)\n",
      "ValueError: Buffer dtype mismatch, expected 'float' but got 'double'\n"
     ]
    },
    {
     "ename": "ValueError",
     "evalue": "Buffer dtype mismatch, expected 'float' but got 'double'",
     "output_type": "error",
     "traceback": [
      "\u001b[0;31m--------------------------------\u001b[0m",
      "\u001b[0;31mValueError\u001b[0mTraceback (most recent call last)",
      "\u001b[0;31mValueError\u001b[0m: Buffer dtype mismatch, expected 'float' but got 'double'"
     ]
    },
    {
     "name": "stderr",
     "output_type": "stream",
     "text": [
      "Exception ignored in: 'mdtraj.geometry._geometry.image_frame'\n",
      "Traceback (most recent call last):\n",
      "  File \"/home/zhangi/miniconda3/envs/perses-rest2v2/lib/python3.8/site-packages/mdtraj/core/trajectory.py\", line 2005, in image_molecules\n",
      "    _geometry.image_molecules(result.xyz, box, anchor_molecules_atom_indices, other_molecules_atom_indices, sorted_bonds)\n",
      "ValueError: Buffer dtype mismatch, expected 'float' but got 'double'\n"
     ]
    },
    {
     "ename": "ValueError",
     "evalue": "Buffer dtype mismatch, expected 'float' but got 'double'",
     "output_type": "error",
     "traceback": [
      "\u001b[0;31m--------------------------------\u001b[0m",
      "\u001b[0;31mValueError\u001b[0mTraceback (most recent call last)",
      "\u001b[0;31mValueError\u001b[0m: Buffer dtype mismatch, expected 'float' but got 'double'"
     ]
    },
    {
     "name": "stderr",
     "output_type": "stream",
     "text": [
      "Exception ignored in: 'mdtraj.geometry._geometry.image_frame'\n",
      "Traceback (most recent call last):\n",
      "  File \"/home/zhangi/miniconda3/envs/perses-rest2v2/lib/python3.8/site-packages/mdtraj/core/trajectory.py\", line 2005, in image_molecules\n",
      "    _geometry.image_molecules(result.xyz, box, anchor_molecules_atom_indices, other_molecules_atom_indices, sorted_bonds)\n",
      "ValueError: Buffer dtype mismatch, expected 'float' but got 'double'\n"
     ]
    },
    {
     "ename": "ValueError",
     "evalue": "Buffer dtype mismatch, expected 'float' but got 'double'",
     "output_type": "error",
     "traceback": [
      "\u001b[0;31m--------------------------------\u001b[0m",
      "\u001b[0;31mValueError\u001b[0mTraceback (most recent call last)",
      "\u001b[0;31mValueError\u001b[0m: Buffer dtype mismatch, expected 'float' but got 'double'"
     ]
    },
    {
     "name": "stderr",
     "output_type": "stream",
     "text": [
      "Exception ignored in: 'mdtraj.geometry._geometry.image_frame'\n",
      "Traceback (most recent call last):\n",
      "  File \"/home/zhangi/miniconda3/envs/perses-rest2v2/lib/python3.8/site-packages/mdtraj/core/trajectory.py\", line 2005, in image_molecules\n",
      "    _geometry.image_molecules(result.xyz, box, anchor_molecules_atom_indices, other_molecules_atom_indices, sorted_bonds)\n",
      "ValueError: Buffer dtype mismatch, expected 'float' but got 'double'\n"
     ]
    },
    {
     "ename": "ValueError",
     "evalue": "Buffer dtype mismatch, expected 'float' but got 'double'",
     "output_type": "error",
     "traceback": [
      "\u001b[0;31m--------------------------------\u001b[0m",
      "\u001b[0;31mValueError\u001b[0mTraceback (most recent call last)",
      "\u001b[0;31mValueError\u001b[0m: Buffer dtype mismatch, expected 'float' but got 'double'"
     ]
    },
    {
     "name": "stderr",
     "output_type": "stream",
     "text": [
      "Exception ignored in: 'mdtraj.geometry._geometry.image_frame'\n",
      "Traceback (most recent call last):\n",
      "  File \"/home/zhangi/miniconda3/envs/perses-rest2v2/lib/python3.8/site-packages/mdtraj/core/trajectory.py\", line 2005, in image_molecules\n",
      "    _geometry.image_molecules(result.xyz, box, anchor_molecules_atom_indices, other_molecules_atom_indices, sorted_bonds)\n",
      "ValueError: Buffer dtype mismatch, expected 'float' but got 'double'\n"
     ]
    },
    {
     "ename": "ValueError",
     "evalue": "Buffer dtype mismatch, expected 'float' but got 'double'",
     "output_type": "error",
     "traceback": [
      "\u001b[0;31m--------------------------------\u001b[0m",
      "\u001b[0;31mValueError\u001b[0mTraceback (most recent call last)",
      "\u001b[0;31mValueError\u001b[0m: Buffer dtype mismatch, expected 'float' but got 'double'"
     ]
    },
    {
     "name": "stderr",
     "output_type": "stream",
     "text": [
      "Exception ignored in: 'mdtraj.geometry._geometry.image_frame'\n",
      "Traceback (most recent call last):\n",
      "  File \"/home/zhangi/miniconda3/envs/perses-rest2v2/lib/python3.8/site-packages/mdtraj/core/trajectory.py\", line 2005, in image_molecules\n",
      "    _geometry.image_molecules(result.xyz, box, anchor_molecules_atom_indices, other_molecules_atom_indices, sorted_bonds)\n",
      "ValueError: Buffer dtype mismatch, expected 'float' but got 'double'\n"
     ]
    },
    {
     "ename": "ValueError",
     "evalue": "Buffer dtype mismatch, expected 'float' but got 'double'",
     "output_type": "error",
     "traceback": [
      "\u001b[0;31m--------------------------------\u001b[0m",
      "\u001b[0;31mValueError\u001b[0mTraceback (most recent call last)",
      "\u001b[0;31mValueError\u001b[0m: Buffer dtype mismatch, expected 'float' but got 'double'"
     ]
    },
    {
     "name": "stderr",
     "output_type": "stream",
     "text": [
      "Exception ignored in: 'mdtraj.geometry._geometry.image_frame'\n",
      "Traceback (most recent call last):\n",
      "  File \"/home/zhangi/miniconda3/envs/perses-rest2v2/lib/python3.8/site-packages/mdtraj/core/trajectory.py\", line 2005, in image_molecules\n",
      "    _geometry.image_molecules(result.xyz, box, anchor_molecules_atom_indices, other_molecules_atom_indices, sorted_bonds)\n",
      "ValueError: Buffer dtype mismatch, expected 'float' but got 'double'\n"
     ]
    },
    {
     "ename": "ValueError",
     "evalue": "Buffer dtype mismatch, expected 'float' but got 'double'",
     "output_type": "error",
     "traceback": [
      "\u001b[0;31m--------------------------------\u001b[0m",
      "\u001b[0;31mValueError\u001b[0mTraceback (most recent call last)",
      "\u001b[0;31mValueError\u001b[0m: Buffer dtype mismatch, expected 'float' but got 'double'"
     ]
    },
    {
     "name": "stderr",
     "output_type": "stream",
     "text": [
      "Exception ignored in: 'mdtraj.geometry._geometry.image_frame'\n",
      "Traceback (most recent call last):\n",
      "  File \"/home/zhangi/miniconda3/envs/perses-rest2v2/lib/python3.8/site-packages/mdtraj/core/trajectory.py\", line 2005, in image_molecules\n",
      "    _geometry.image_molecules(result.xyz, box, anchor_molecules_atom_indices, other_molecules_atom_indices, sorted_bonds)\n",
      "ValueError: Buffer dtype mismatch, expected 'float' but got 'double'\n"
     ]
    },
    {
     "ename": "ValueError",
     "evalue": "Buffer dtype mismatch, expected 'float' but got 'double'",
     "output_type": "error",
     "traceback": [
      "\u001b[0;31m--------------------------------\u001b[0m",
      "\u001b[0;31mValueError\u001b[0mTraceback (most recent call last)",
      "\u001b[0;31mValueError\u001b[0m: Buffer dtype mismatch, expected 'float' but got 'double'"
     ]
    },
    {
     "name": "stderr",
     "output_type": "stream",
     "text": [
      "Exception ignored in: 'mdtraj.geometry._geometry.image_frame'\n",
      "Traceback (most recent call last):\n",
      "  File \"/home/zhangi/miniconda3/envs/perses-rest2v2/lib/python3.8/site-packages/mdtraj/core/trajectory.py\", line 2005, in image_molecules\n",
      "    _geometry.image_molecules(result.xyz, box, anchor_molecules_atom_indices, other_molecules_atom_indices, sorted_bonds)\n",
      "ValueError: Buffer dtype mismatch, expected 'float' but got 'double'\n"
     ]
    },
    {
     "ename": "ValueError",
     "evalue": "Buffer dtype mismatch, expected 'float' but got 'double'",
     "output_type": "error",
     "traceback": [
      "\u001b[0;31m--------------------------------\u001b[0m",
      "\u001b[0;31mValueError\u001b[0mTraceback (most recent call last)",
      "\u001b[0;31mValueError\u001b[0m: Buffer dtype mismatch, expected 'float' but got 'double'"
     ]
    },
    {
     "name": "stderr",
     "output_type": "stream",
     "text": [
      "Exception ignored in: 'mdtraj.geometry._geometry.image_frame'\n",
      "Traceback (most recent call last):\n",
      "  File \"/home/zhangi/miniconda3/envs/perses-rest2v2/lib/python3.8/site-packages/mdtraj/core/trajectory.py\", line 2005, in image_molecules\n",
      "    _geometry.image_molecules(result.xyz, box, anchor_molecules_atom_indices, other_molecules_atom_indices, sorted_bonds)\n",
      "ValueError: Buffer dtype mismatch, expected 'float' but got 'double'\n"
     ]
    },
    {
     "ename": "ValueError",
     "evalue": "Buffer dtype mismatch, expected 'float' but got 'double'",
     "output_type": "error",
     "traceback": [
      "\u001b[0;31m--------------------------------\u001b[0m",
      "\u001b[0;31mValueError\u001b[0mTraceback (most recent call last)",
      "\u001b[0;31mValueError\u001b[0m: Buffer dtype mismatch, expected 'float' but got 'double'"
     ]
    },
    {
     "name": "stderr",
     "output_type": "stream",
     "text": [
      "Exception ignored in: 'mdtraj.geometry._geometry.image_frame'\n",
      "Traceback (most recent call last):\n",
      "  File \"/home/zhangi/miniconda3/envs/perses-rest2v2/lib/python3.8/site-packages/mdtraj/core/trajectory.py\", line 2005, in image_molecules\n",
      "    _geometry.image_molecules(result.xyz, box, anchor_molecules_atom_indices, other_molecules_atom_indices, sorted_bonds)\n",
      "ValueError: Buffer dtype mismatch, expected 'float' but got 'double'\n"
     ]
    },
    {
     "ename": "ValueError",
     "evalue": "Buffer dtype mismatch, expected 'float' but got 'double'",
     "output_type": "error",
     "traceback": [
      "\u001b[0;31m--------------------------------\u001b[0m",
      "\u001b[0;31mValueError\u001b[0mTraceback (most recent call last)",
      "\u001b[0;31mValueError\u001b[0m: Buffer dtype mismatch, expected 'float' but got 'double'"
     ]
    },
    {
     "name": "stderr",
     "output_type": "stream",
     "text": [
      "Exception ignored in: 'mdtraj.geometry._geometry.image_frame'\n",
      "Traceback (most recent call last):\n",
      "  File \"/home/zhangi/miniconda3/envs/perses-rest2v2/lib/python3.8/site-packages/mdtraj/core/trajectory.py\", line 2005, in image_molecules\n",
      "    _geometry.image_molecules(result.xyz, box, anchor_molecules_atom_indices, other_molecules_atom_indices, sorted_bonds)\n",
      "ValueError: Buffer dtype mismatch, expected 'float' but got 'double'\n"
     ]
    },
    {
     "ename": "ValueError",
     "evalue": "Buffer dtype mismatch, expected 'float' but got 'double'",
     "output_type": "error",
     "traceback": [
      "\u001b[0;31m--------------------------------\u001b[0m",
      "\u001b[0;31mValueError\u001b[0mTraceback (most recent call last)",
      "\u001b[0;31mValueError\u001b[0m: Buffer dtype mismatch, expected 'float' but got 'double'"
     ]
    },
    {
     "name": "stderr",
     "output_type": "stream",
     "text": [
      "Exception ignored in: 'mdtraj.geometry._geometry.image_frame'\n",
      "Traceback (most recent call last):\n",
      "  File \"/home/zhangi/miniconda3/envs/perses-rest2v2/lib/python3.8/site-packages/mdtraj/core/trajectory.py\", line 2005, in image_molecules\n",
      "    _geometry.image_molecules(result.xyz, box, anchor_molecules_atom_indices, other_molecules_atom_indices, sorted_bonds)\n",
      "ValueError: Buffer dtype mismatch, expected 'float' but got 'double'\n"
     ]
    },
    {
     "ename": "ValueError",
     "evalue": "Buffer dtype mismatch, expected 'float' but got 'double'",
     "output_type": "error",
     "traceback": [
      "\u001b[0;31m--------------------------------\u001b[0m",
      "\u001b[0;31mValueError\u001b[0mTraceback (most recent call last)",
      "\u001b[0;31mValueError\u001b[0m: Buffer dtype mismatch, expected 'float' but got 'double'"
     ]
    },
    {
     "name": "stderr",
     "output_type": "stream",
     "text": [
      "Exception ignored in: 'mdtraj.geometry._geometry.image_frame'\n",
      "Traceback (most recent call last):\n",
      "  File \"/home/zhangi/miniconda3/envs/perses-rest2v2/lib/python3.8/site-packages/mdtraj/core/trajectory.py\", line 2005, in image_molecules\n",
      "    _geometry.image_molecules(result.xyz, box, anchor_molecules_atom_indices, other_molecules_atom_indices, sorted_bonds)\n",
      "ValueError: Buffer dtype mismatch, expected 'float' but got 'double'\n"
     ]
    },
    {
     "ename": "ValueError",
     "evalue": "Buffer dtype mismatch, expected 'float' but got 'double'",
     "output_type": "error",
     "traceback": [
      "\u001b[0;31m--------------------------------\u001b[0m",
      "\u001b[0;31mValueError\u001b[0mTraceback (most recent call last)",
      "\u001b[0;31mValueError\u001b[0m: Buffer dtype mismatch, expected 'float' but got 'double'"
     ]
    },
    {
     "name": "stderr",
     "output_type": "stream",
     "text": [
      "Exception ignored in: 'mdtraj.geometry._geometry.image_frame'\n",
      "Traceback (most recent call last):\n",
      "  File \"/home/zhangi/miniconda3/envs/perses-rest2v2/lib/python3.8/site-packages/mdtraj/core/trajectory.py\", line 2005, in image_molecules\n",
      "    _geometry.image_molecules(result.xyz, box, anchor_molecules_atom_indices, other_molecules_atom_indices, sorted_bonds)\n",
      "ValueError: Buffer dtype mismatch, expected 'float' but got 'double'\n"
     ]
    },
    {
     "ename": "ValueError",
     "evalue": "Buffer dtype mismatch, expected 'float' but got 'double'",
     "output_type": "error",
     "traceback": [
      "\u001b[0;31m--------------------------------\u001b[0m",
      "\u001b[0;31mValueError\u001b[0mTraceback (most recent call last)",
      "\u001b[0;31mValueError\u001b[0m: Buffer dtype mismatch, expected 'float' but got 'double'"
     ]
    },
    {
     "name": "stderr",
     "output_type": "stream",
     "text": [
      "Exception ignored in: 'mdtraj.geometry._geometry.image_frame'\n",
      "Traceback (most recent call last):\n",
      "  File \"/home/zhangi/miniconda3/envs/perses-rest2v2/lib/python3.8/site-packages/mdtraj/core/trajectory.py\", line 2005, in image_molecules\n",
      "    _geometry.image_molecules(result.xyz, box, anchor_molecules_atom_indices, other_molecules_atom_indices, sorted_bonds)\n",
      "ValueError: Buffer dtype mismatch, expected 'float' but got 'double'\n"
     ]
    },
    {
     "ename": "ValueError",
     "evalue": "Buffer dtype mismatch, expected 'float' but got 'double'",
     "output_type": "error",
     "traceback": [
      "\u001b[0;31m--------------------------------\u001b[0m",
      "\u001b[0;31mValueError\u001b[0mTraceback (most recent call last)",
      "\u001b[0;31mValueError\u001b[0m: Buffer dtype mismatch, expected 'float' but got 'double'"
     ]
    },
    {
     "name": "stderr",
     "output_type": "stream",
     "text": [
      "Exception ignored in: 'mdtraj.geometry._geometry.image_frame'\n",
      "Traceback (most recent call last):\n",
      "  File \"/home/zhangi/miniconda3/envs/perses-rest2v2/lib/python3.8/site-packages/mdtraj/core/trajectory.py\", line 2005, in image_molecules\n",
      "    _geometry.image_molecules(result.xyz, box, anchor_molecules_atom_indices, other_molecules_atom_indices, sorted_bonds)\n",
      "ValueError: Buffer dtype mismatch, expected 'float' but got 'double'\n"
     ]
    },
    {
     "ename": "ValueError",
     "evalue": "Buffer dtype mismatch, expected 'float' but got 'double'",
     "output_type": "error",
     "traceback": [
      "\u001b[0;31m--------------------------------\u001b[0m",
      "\u001b[0;31mValueError\u001b[0mTraceback (most recent call last)",
      "\u001b[0;31mValueError\u001b[0m: Buffer dtype mismatch, expected 'float' but got 'double'"
     ]
    },
    {
     "name": "stderr",
     "output_type": "stream",
     "text": [
      "Exception ignored in: 'mdtraj.geometry._geometry.image_frame'\n",
      "Traceback (most recent call last):\n",
      "  File \"/home/zhangi/miniconda3/envs/perses-rest2v2/lib/python3.8/site-packages/mdtraj/core/trajectory.py\", line 2005, in image_molecules\n",
      "    _geometry.image_molecules(result.xyz, box, anchor_molecules_atom_indices, other_molecules_atom_indices, sorted_bonds)\n",
      "ValueError: Buffer dtype mismatch, expected 'float' but got 'double'\n"
     ]
    },
    {
     "ename": "ValueError",
     "evalue": "Buffer dtype mismatch, expected 'float' but got 'double'",
     "output_type": "error",
     "traceback": [
      "\u001b[0;31m--------------------------------\u001b[0m",
      "\u001b[0;31mValueError\u001b[0mTraceback (most recent call last)",
      "\u001b[0;31mValueError\u001b[0m: Buffer dtype mismatch, expected 'float' but got 'double'"
     ]
    },
    {
     "name": "stderr",
     "output_type": "stream",
     "text": [
      "Exception ignored in: 'mdtraj.geometry._geometry.image_frame'\n",
      "Traceback (most recent call last):\n",
      "  File \"/home/zhangi/miniconda3/envs/perses-rest2v2/lib/python3.8/site-packages/mdtraj/core/trajectory.py\", line 2005, in image_molecules\n",
      "    _geometry.image_molecules(result.xyz, box, anchor_molecules_atom_indices, other_molecules_atom_indices, sorted_bonds)\n",
      "ValueError: Buffer dtype mismatch, expected 'float' but got 'double'\n"
     ]
    },
    {
     "ename": "ValueError",
     "evalue": "Buffer dtype mismatch, expected 'float' but got 'double'",
     "output_type": "error",
     "traceback": [
      "\u001b[0;31m--------------------------------\u001b[0m",
      "\u001b[0;31mValueError\u001b[0mTraceback (most recent call last)",
      "\u001b[0;31mValueError\u001b[0m: Buffer dtype mismatch, expected 'float' but got 'double'"
     ]
    },
    {
     "name": "stderr",
     "output_type": "stream",
     "text": [
      "Exception ignored in: 'mdtraj.geometry._geometry.image_frame'\n",
      "Traceback (most recent call last):\n",
      "  File \"/home/zhangi/miniconda3/envs/perses-rest2v2/lib/python3.8/site-packages/mdtraj/core/trajectory.py\", line 2005, in image_molecules\n",
      "    _geometry.image_molecules(result.xyz, box, anchor_molecules_atom_indices, other_molecules_atom_indices, sorted_bonds)\n",
      "ValueError: Buffer dtype mismatch, expected 'float' but got 'double'\n"
     ]
    },
    {
     "ename": "ValueError",
     "evalue": "Buffer dtype mismatch, expected 'float' but got 'double'",
     "output_type": "error",
     "traceback": [
      "\u001b[0;31m--------------------------------\u001b[0m",
      "\u001b[0;31mValueError\u001b[0mTraceback (most recent call last)",
      "\u001b[0;31mValueError\u001b[0m: Buffer dtype mismatch, expected 'float' but got 'double'"
     ]
    },
    {
     "name": "stderr",
     "output_type": "stream",
     "text": [
      "Exception ignored in: 'mdtraj.geometry._geometry.image_frame'\n",
      "Traceback (most recent call last):\n",
      "  File \"/home/zhangi/miniconda3/envs/perses-rest2v2/lib/python3.8/site-packages/mdtraj/core/trajectory.py\", line 2005, in image_molecules\n",
      "    _geometry.image_molecules(result.xyz, box, anchor_molecules_atom_indices, other_molecules_atom_indices, sorted_bonds)\n",
      "ValueError: Buffer dtype mismatch, expected 'float' but got 'double'\n"
     ]
    },
    {
     "ename": "ValueError",
     "evalue": "Buffer dtype mismatch, expected 'float' but got 'double'",
     "output_type": "error",
     "traceback": [
      "\u001b[0;31m--------------------------------\u001b[0m",
      "\u001b[0;31mValueError\u001b[0mTraceback (most recent call last)",
      "\u001b[0;31mValueError\u001b[0m: Buffer dtype mismatch, expected 'float' but got 'double'"
     ]
    },
    {
     "name": "stderr",
     "output_type": "stream",
     "text": [
      "Exception ignored in: 'mdtraj.geometry._geometry.image_frame'\n",
      "Traceback (most recent call last):\n",
      "  File \"/home/zhangi/miniconda3/envs/perses-rest2v2/lib/python3.8/site-packages/mdtraj/core/trajectory.py\", line 2005, in image_molecules\n",
      "    _geometry.image_molecules(result.xyz, box, anchor_molecules_atom_indices, other_molecules_atom_indices, sorted_bonds)\n",
      "ValueError: Buffer dtype mismatch, expected 'float' but got 'double'\n"
     ]
    },
    {
     "ename": "ValueError",
     "evalue": "Buffer dtype mismatch, expected 'float' but got 'double'",
     "output_type": "error",
     "traceback": [
      "\u001b[0;31m--------------------------------\u001b[0m",
      "\u001b[0;31mValueError\u001b[0mTraceback (most recent call last)",
      "\u001b[0;31mValueError\u001b[0m: Buffer dtype mismatch, expected 'float' but got 'double'"
     ]
    },
    {
     "name": "stderr",
     "output_type": "stream",
     "text": [
      "Exception ignored in: 'mdtraj.geometry._geometry.image_frame'\n",
      "Traceback (most recent call last):\n",
      "  File \"/home/zhangi/miniconda3/envs/perses-rest2v2/lib/python3.8/site-packages/mdtraj/core/trajectory.py\", line 2005, in image_molecules\n",
      "    _geometry.image_molecules(result.xyz, box, anchor_molecules_atom_indices, other_molecules_atom_indices, sorted_bonds)\n",
      "ValueError: Buffer dtype mismatch, expected 'float' but got 'double'\n"
     ]
    },
    {
     "ename": "ValueError",
     "evalue": "Buffer dtype mismatch, expected 'float' but got 'double'",
     "output_type": "error",
     "traceback": [
      "\u001b[0;31m--------------------------------\u001b[0m",
      "\u001b[0;31mValueError\u001b[0mTraceback (most recent call last)",
      "\u001b[0;31mValueError\u001b[0m: Buffer dtype mismatch, expected 'float' but got 'double'"
     ]
    },
    {
     "name": "stderr",
     "output_type": "stream",
     "text": [
      "Exception ignored in: 'mdtraj.geometry._geometry.image_frame'\n",
      "Traceback (most recent call last):\n",
      "  File \"/home/zhangi/miniconda3/envs/perses-rest2v2/lib/python3.8/site-packages/mdtraj/core/trajectory.py\", line 2005, in image_molecules\n",
      "    _geometry.image_molecules(result.xyz, box, anchor_molecules_atom_indices, other_molecules_atom_indices, sorted_bonds)\n",
      "ValueError: Buffer dtype mismatch, expected 'float' but got 'double'\n"
     ]
    },
    {
     "ename": "ValueError",
     "evalue": "Buffer dtype mismatch, expected 'float' but got 'double'",
     "output_type": "error",
     "traceback": [
      "\u001b[0;31m--------------------------------\u001b[0m",
      "\u001b[0;31mValueError\u001b[0mTraceback (most recent call last)",
      "\u001b[0;31mValueError\u001b[0m: Buffer dtype mismatch, expected 'float' but got 'double'"
     ]
    },
    {
     "name": "stderr",
     "output_type": "stream",
     "text": [
      "Exception ignored in: 'mdtraj.geometry._geometry.image_frame'\n",
      "Traceback (most recent call last):\n",
      "  File \"/home/zhangi/miniconda3/envs/perses-rest2v2/lib/python3.8/site-packages/mdtraj/core/trajectory.py\", line 2005, in image_molecules\n",
      "    _geometry.image_molecules(result.xyz, box, anchor_molecules_atom_indices, other_molecules_atom_indices, sorted_bonds)\n",
      "ValueError: Buffer dtype mismatch, expected 'float' but got 'double'\n"
     ]
    },
    {
     "ename": "ValueError",
     "evalue": "Buffer dtype mismatch, expected 'float' but got 'double'",
     "output_type": "error",
     "traceback": [
      "\u001b[0;31m--------------------------------\u001b[0m",
      "\u001b[0;31mValueError\u001b[0mTraceback (most recent call last)",
      "\u001b[0;31mValueError\u001b[0m: Buffer dtype mismatch, expected 'float' but got 'double'"
     ]
    },
    {
     "name": "stderr",
     "output_type": "stream",
     "text": [
      "Exception ignored in: 'mdtraj.geometry._geometry.image_frame'\n",
      "Traceback (most recent call last):\n",
      "  File \"/home/zhangi/miniconda3/envs/perses-rest2v2/lib/python3.8/site-packages/mdtraj/core/trajectory.py\", line 2005, in image_molecules\n",
      "    _geometry.image_molecules(result.xyz, box, anchor_molecules_atom_indices, other_molecules_atom_indices, sorted_bonds)\n",
      "ValueError: Buffer dtype mismatch, expected 'float' but got 'double'\n"
     ]
    },
    {
     "ename": "ValueError",
     "evalue": "Buffer dtype mismatch, expected 'float' but got 'double'",
     "output_type": "error",
     "traceback": [
      "\u001b[0;31m--------------------------------\u001b[0m",
      "\u001b[0;31mValueError\u001b[0mTraceback (most recent call last)",
      "\u001b[0;31mValueError\u001b[0m: Buffer dtype mismatch, expected 'float' but got 'double'"
     ]
    },
    {
     "name": "stderr",
     "output_type": "stream",
     "text": [
      "Exception ignored in: 'mdtraj.geometry._geometry.image_frame'\n",
      "Traceback (most recent call last):\n",
      "  File \"/home/zhangi/miniconda3/envs/perses-rest2v2/lib/python3.8/site-packages/mdtraj/core/trajectory.py\", line 2005, in image_molecules\n",
      "    _geometry.image_molecules(result.xyz, box, anchor_molecules_atom_indices, other_molecules_atom_indices, sorted_bonds)\n",
      "ValueError: Buffer dtype mismatch, expected 'float' but got 'double'\n"
     ]
    },
    {
     "ename": "ValueError",
     "evalue": "Buffer dtype mismatch, expected 'float' but got 'double'",
     "output_type": "error",
     "traceback": [
      "\u001b[0;31m--------------------------------\u001b[0m",
      "\u001b[0;31mValueError\u001b[0mTraceback (most recent call last)",
      "\u001b[0;31mValueError\u001b[0m: Buffer dtype mismatch, expected 'float' but got 'double'"
     ]
    },
    {
     "name": "stderr",
     "output_type": "stream",
     "text": [
      "Exception ignored in: 'mdtraj.geometry._geometry.image_frame'\n",
      "Traceback (most recent call last):\n",
      "  File \"/home/zhangi/miniconda3/envs/perses-rest2v2/lib/python3.8/site-packages/mdtraj/core/trajectory.py\", line 2005, in image_molecules\n",
      "    _geometry.image_molecules(result.xyz, box, anchor_molecules_atom_indices, other_molecules_atom_indices, sorted_bonds)\n",
      "ValueError: Buffer dtype mismatch, expected 'float' but got 'double'\n"
     ]
    },
    {
     "ename": "ValueError",
     "evalue": "Buffer dtype mismatch, expected 'float' but got 'double'",
     "output_type": "error",
     "traceback": [
      "\u001b[0;31m--------------------------------\u001b[0m",
      "\u001b[0;31mValueError\u001b[0mTraceback (most recent call last)",
      "\u001b[0;31mValueError\u001b[0m: Buffer dtype mismatch, expected 'float' but got 'double'"
     ]
    },
    {
     "name": "stderr",
     "output_type": "stream",
     "text": [
      "Exception ignored in: 'mdtraj.geometry._geometry.image_frame'\n",
      "Traceback (most recent call last):\n",
      "  File \"/home/zhangi/miniconda3/envs/perses-rest2v2/lib/python3.8/site-packages/mdtraj/core/trajectory.py\", line 2005, in image_molecules\n",
      "    _geometry.image_molecules(result.xyz, box, anchor_molecules_atom_indices, other_molecules_atom_indices, sorted_bonds)\n",
      "ValueError: Buffer dtype mismatch, expected 'float' but got 'double'\n"
     ]
    },
    {
     "ename": "ValueError",
     "evalue": "Buffer dtype mismatch, expected 'float' but got 'double'",
     "output_type": "error",
     "traceback": [
      "\u001b[0;31m--------------------------------\u001b[0m",
      "\u001b[0;31mValueError\u001b[0mTraceback (most recent call last)",
      "\u001b[0;31mValueError\u001b[0m: Buffer dtype mismatch, expected 'float' but got 'double'"
     ]
    },
    {
     "name": "stderr",
     "output_type": "stream",
     "text": [
      "Exception ignored in: 'mdtraj.geometry._geometry.image_frame'\n",
      "Traceback (most recent call last):\n",
      "  File \"/home/zhangi/miniconda3/envs/perses-rest2v2/lib/python3.8/site-packages/mdtraj/core/trajectory.py\", line 2005, in image_molecules\n",
      "    _geometry.image_molecules(result.xyz, box, anchor_molecules_atom_indices, other_molecules_atom_indices, sorted_bonds)\n",
      "ValueError: Buffer dtype mismatch, expected 'float' but got 'double'\n"
     ]
    },
    {
     "ename": "ValueError",
     "evalue": "Buffer dtype mismatch, expected 'float' but got 'double'",
     "output_type": "error",
     "traceback": [
      "\u001b[0;31m--------------------------------\u001b[0m",
      "\u001b[0;31mValueError\u001b[0mTraceback (most recent call last)",
      "\u001b[0;31mValueError\u001b[0m: Buffer dtype mismatch, expected 'float' but got 'double'"
     ]
    },
    {
     "name": "stderr",
     "output_type": "stream",
     "text": [
      "Exception ignored in: 'mdtraj.geometry._geometry.image_frame'\n",
      "Traceback (most recent call last):\n",
      "  File \"/home/zhangi/miniconda3/envs/perses-rest2v2/lib/python3.8/site-packages/mdtraj/core/trajectory.py\", line 2005, in image_molecules\n",
      "    _geometry.image_molecules(result.xyz, box, anchor_molecules_atom_indices, other_molecules_atom_indices, sorted_bonds)\n",
      "ValueError: Buffer dtype mismatch, expected 'float' but got 'double'\n"
     ]
    },
    {
     "ename": "ValueError",
     "evalue": "Buffer dtype mismatch, expected 'float' but got 'double'",
     "output_type": "error",
     "traceback": [
      "\u001b[0;31m--------------------------------\u001b[0m",
      "\u001b[0;31mValueError\u001b[0mTraceback (most recent call last)",
      "\u001b[0;31mValueError\u001b[0m: Buffer dtype mismatch, expected 'float' but got 'double'"
     ]
    },
    {
     "name": "stderr",
     "output_type": "stream",
     "text": [
      "Exception ignored in: 'mdtraj.geometry._geometry.image_frame'\n",
      "Traceback (most recent call last):\n",
      "  File \"/home/zhangi/miniconda3/envs/perses-rest2v2/lib/python3.8/site-packages/mdtraj/core/trajectory.py\", line 2005, in image_molecules\n",
      "    _geometry.image_molecules(result.xyz, box, anchor_molecules_atom_indices, other_molecules_atom_indices, sorted_bonds)\n",
      "ValueError: Buffer dtype mismatch, expected 'float' but got 'double'\n"
     ]
    },
    {
     "ename": "ValueError",
     "evalue": "Buffer dtype mismatch, expected 'float' but got 'double'",
     "output_type": "error",
     "traceback": [
      "\u001b[0;31m--------------------------------\u001b[0m",
      "\u001b[0;31mValueError\u001b[0mTraceback (most recent call last)",
      "\u001b[0;31mValueError\u001b[0m: Buffer dtype mismatch, expected 'float' but got 'double'"
     ]
    },
    {
     "name": "stderr",
     "output_type": "stream",
     "text": [
      "Exception ignored in: 'mdtraj.geometry._geometry.image_frame'\n",
      "Traceback (most recent call last):\n",
      "  File \"/home/zhangi/miniconda3/envs/perses-rest2v2/lib/python3.8/site-packages/mdtraj/core/trajectory.py\", line 2005, in image_molecules\n",
      "    _geometry.image_molecules(result.xyz, box, anchor_molecules_atom_indices, other_molecules_atom_indices, sorted_bonds)\n",
      "ValueError: Buffer dtype mismatch, expected 'float' but got 'double'\n"
     ]
    },
    {
     "ename": "ValueError",
     "evalue": "Buffer dtype mismatch, expected 'float' but got 'double'",
     "output_type": "error",
     "traceback": [
      "\u001b[0;31m--------------------------------\u001b[0m",
      "\u001b[0;31mValueError\u001b[0mTraceback (most recent call last)",
      "\u001b[0;31mValueError\u001b[0m: Buffer dtype mismatch, expected 'float' but got 'double'"
     ]
    },
    {
     "name": "stderr",
     "output_type": "stream",
     "text": [
      "Exception ignored in: 'mdtraj.geometry._geometry.image_frame'\n",
      "Traceback (most recent call last):\n",
      "  File \"/home/zhangi/miniconda3/envs/perses-rest2v2/lib/python3.8/site-packages/mdtraj/core/trajectory.py\", line 2005, in image_molecules\n",
      "    _geometry.image_molecules(result.xyz, box, anchor_molecules_atom_indices, other_molecules_atom_indices, sorted_bonds)\n",
      "ValueError: Buffer dtype mismatch, expected 'float' but got 'double'\n"
     ]
    },
    {
     "ename": "ValueError",
     "evalue": "Buffer dtype mismatch, expected 'float' but got 'double'",
     "output_type": "error",
     "traceback": [
      "\u001b[0;31m--------------------------------\u001b[0m",
      "\u001b[0;31mValueError\u001b[0mTraceback (most recent call last)",
      "\u001b[0;31mValueError\u001b[0m: Buffer dtype mismatch, expected 'float' but got 'double'"
     ]
    },
    {
     "name": "stderr",
     "output_type": "stream",
     "text": [
      "Exception ignored in: 'mdtraj.geometry._geometry.image_frame'\n",
      "Traceback (most recent call last):\n",
      "  File \"/home/zhangi/miniconda3/envs/perses-rest2v2/lib/python3.8/site-packages/mdtraj/core/trajectory.py\", line 2005, in image_molecules\n",
      "    _geometry.image_molecules(result.xyz, box, anchor_molecules_atom_indices, other_molecules_atom_indices, sorted_bonds)\n",
      "ValueError: Buffer dtype mismatch, expected 'float' but got 'double'\n"
     ]
    },
    {
     "ename": "ValueError",
     "evalue": "Buffer dtype mismatch, expected 'float' but got 'double'",
     "output_type": "error",
     "traceback": [
      "\u001b[0;31m--------------------------------\u001b[0m",
      "\u001b[0;31mValueError\u001b[0mTraceback (most recent call last)",
      "\u001b[0;31mValueError\u001b[0m: Buffer dtype mismatch, expected 'float' but got 'double'"
     ]
    },
    {
     "name": "stderr",
     "output_type": "stream",
     "text": [
      "Exception ignored in: 'mdtraj.geometry._geometry.image_frame'\n",
      "Traceback (most recent call last):\n",
      "  File \"/home/zhangi/miniconda3/envs/perses-rest2v2/lib/python3.8/site-packages/mdtraj/core/trajectory.py\", line 2005, in image_molecules\n",
      "    _geometry.image_molecules(result.xyz, box, anchor_molecules_atom_indices, other_molecules_atom_indices, sorted_bonds)\n",
      "ValueError: Buffer dtype mismatch, expected 'float' but got 'double'\n"
     ]
    },
    {
     "ename": "ValueError",
     "evalue": "Buffer dtype mismatch, expected 'float' but got 'double'",
     "output_type": "error",
     "traceback": [
      "\u001b[0;31m--------------------------------\u001b[0m",
      "\u001b[0;31mValueError\u001b[0mTraceback (most recent call last)",
      "\u001b[0;31mValueError\u001b[0m: Buffer dtype mismatch, expected 'float' but got 'double'"
     ]
    },
    {
     "name": "stderr",
     "output_type": "stream",
     "text": [
      "Exception ignored in: 'mdtraj.geometry._geometry.image_frame'\n",
      "Traceback (most recent call last):\n",
      "  File \"/home/zhangi/miniconda3/envs/perses-rest2v2/lib/python3.8/site-packages/mdtraj/core/trajectory.py\", line 2005, in image_molecules\n",
      "    _geometry.image_molecules(result.xyz, box, anchor_molecules_atom_indices, other_molecules_atom_indices, sorted_bonds)\n",
      "ValueError: Buffer dtype mismatch, expected 'float' but got 'double'\n"
     ]
    },
    {
     "ename": "ValueError",
     "evalue": "Buffer dtype mismatch, expected 'float' but got 'double'",
     "output_type": "error",
     "traceback": [
      "\u001b[0;31m--------------------------------\u001b[0m",
      "\u001b[0;31mValueError\u001b[0mTraceback (most recent call last)",
      "\u001b[0;31mValueError\u001b[0m: Buffer dtype mismatch, expected 'float' but got 'double'"
     ]
    },
    {
     "name": "stderr",
     "output_type": "stream",
     "text": [
      "Exception ignored in: 'mdtraj.geometry._geometry.image_frame'\n",
      "Traceback (most recent call last):\n",
      "  File \"/home/zhangi/miniconda3/envs/perses-rest2v2/lib/python3.8/site-packages/mdtraj/core/trajectory.py\", line 2005, in image_molecules\n",
      "    _geometry.image_molecules(result.xyz, box, anchor_molecules_atom_indices, other_molecules_atom_indices, sorted_bonds)\n",
      "ValueError: Buffer dtype mismatch, expected 'float' but got 'double'\n"
     ]
    },
    {
     "ename": "ValueError",
     "evalue": "Buffer dtype mismatch, expected 'float' but got 'double'",
     "output_type": "error",
     "traceback": [
      "\u001b[0;31m--------------------------------\u001b[0m",
      "\u001b[0;31mValueError\u001b[0mTraceback (most recent call last)",
      "\u001b[0;31mValueError\u001b[0m: Buffer dtype mismatch, expected 'float' but got 'double'"
     ]
    },
    {
     "name": "stderr",
     "output_type": "stream",
     "text": [
      "Exception ignored in: 'mdtraj.geometry._geometry.image_frame'\n",
      "Traceback (most recent call last):\n",
      "  File \"/home/zhangi/miniconda3/envs/perses-rest2v2/lib/python3.8/site-packages/mdtraj/core/trajectory.py\", line 2005, in image_molecules\n",
      "    _geometry.image_molecules(result.xyz, box, anchor_molecules_atom_indices, other_molecules_atom_indices, sorted_bonds)\n",
      "ValueError: Buffer dtype mismatch, expected 'float' but got 'double'\n"
     ]
    },
    {
     "ename": "ValueError",
     "evalue": "Buffer dtype mismatch, expected 'float' but got 'double'",
     "output_type": "error",
     "traceback": [
      "\u001b[0;31m--------------------------------\u001b[0m",
      "\u001b[0;31mValueError\u001b[0mTraceback (most recent call last)",
      "\u001b[0;31mValueError\u001b[0m: Buffer dtype mismatch, expected 'float' but got 'double'"
     ]
    },
    {
     "name": "stderr",
     "output_type": "stream",
     "text": [
      "Exception ignored in: 'mdtraj.geometry._geometry.image_frame'\n",
      "Traceback (most recent call last):\n",
      "  File \"/home/zhangi/miniconda3/envs/perses-rest2v2/lib/python3.8/site-packages/mdtraj/core/trajectory.py\", line 2005, in image_molecules\n",
      "    _geometry.image_molecules(result.xyz, box, anchor_molecules_atom_indices, other_molecules_atom_indices, sorted_bonds)\n",
      "ValueError: Buffer dtype mismatch, expected 'float' but got 'double'\n"
     ]
    },
    {
     "ename": "ValueError",
     "evalue": "Buffer dtype mismatch, expected 'float' but got 'double'",
     "output_type": "error",
     "traceback": [
      "\u001b[0;31m--------------------------------\u001b[0m",
      "\u001b[0;31mValueError\u001b[0mTraceback (most recent call last)",
      "\u001b[0;31mValueError\u001b[0m: Buffer dtype mismatch, expected 'float' but got 'double'"
     ]
    },
    {
     "name": "stderr",
     "output_type": "stream",
     "text": [
      "Exception ignored in: 'mdtraj.geometry._geometry.image_frame'\n",
      "Traceback (most recent call last):\n",
      "  File \"/home/zhangi/miniconda3/envs/perses-rest2v2/lib/python3.8/site-packages/mdtraj/core/trajectory.py\", line 2005, in image_molecules\n",
      "    _geometry.image_molecules(result.xyz, box, anchor_molecules_atom_indices, other_molecules_atom_indices, sorted_bonds)\n",
      "ValueError: Buffer dtype mismatch, expected 'float' but got 'double'\n"
     ]
    },
    {
     "ename": "ValueError",
     "evalue": "Buffer dtype mismatch, expected 'float' but got 'double'",
     "output_type": "error",
     "traceback": [
      "\u001b[0;31m--------------------------------\u001b[0m",
      "\u001b[0;31mValueError\u001b[0mTraceback (most recent call last)",
      "\u001b[0;31mValueError\u001b[0m: Buffer dtype mismatch, expected 'float' but got 'double'"
     ]
    },
    {
     "name": "stderr",
     "output_type": "stream",
     "text": [
      "Exception ignored in: 'mdtraj.geometry._geometry.image_frame'\n",
      "Traceback (most recent call last):\n",
      "  File \"/home/zhangi/miniconda3/envs/perses-rest2v2/lib/python3.8/site-packages/mdtraj/core/trajectory.py\", line 2005, in image_molecules\n",
      "    _geometry.image_molecules(result.xyz, box, anchor_molecules_atom_indices, other_molecules_atom_indices, sorted_bonds)\n",
      "ValueError: Buffer dtype mismatch, expected 'float' but got 'double'\n"
     ]
    },
    {
     "ename": "ValueError",
     "evalue": "Buffer dtype mismatch, expected 'float' but got 'double'",
     "output_type": "error",
     "traceback": [
      "\u001b[0;31m--------------------------------\u001b[0m",
      "\u001b[0;31mValueError\u001b[0mTraceback (most recent call last)",
      "\u001b[0;31mValueError\u001b[0m: Buffer dtype mismatch, expected 'float' but got 'double'"
     ]
    },
    {
     "name": "stderr",
     "output_type": "stream",
     "text": [
      "Exception ignored in: 'mdtraj.geometry._geometry.image_frame'\n",
      "Traceback (most recent call last):\n",
      "  File \"/home/zhangi/miniconda3/envs/perses-rest2v2/lib/python3.8/site-packages/mdtraj/core/trajectory.py\", line 2005, in image_molecules\n",
      "    _geometry.image_molecules(result.xyz, box, anchor_molecules_atom_indices, other_molecules_atom_indices, sorted_bonds)\n",
      "ValueError: Buffer dtype mismatch, expected 'float' but got 'double'\n"
     ]
    },
    {
     "ename": "ValueError",
     "evalue": "Buffer dtype mismatch, expected 'float' but got 'double'",
     "output_type": "error",
     "traceback": [
      "\u001b[0;31m--------------------------------\u001b[0m",
      "\u001b[0;31mValueError\u001b[0mTraceback (most recent call last)",
      "\u001b[0;31mValueError\u001b[0m: Buffer dtype mismatch, expected 'float' but got 'double'"
     ]
    },
    {
     "name": "stderr",
     "output_type": "stream",
     "text": [
      "Exception ignored in: 'mdtraj.geometry._geometry.image_frame'\n",
      "Traceback (most recent call last):\n",
      "  File \"/home/zhangi/miniconda3/envs/perses-rest2v2/lib/python3.8/site-packages/mdtraj/core/trajectory.py\", line 2005, in image_molecules\n",
      "    _geometry.image_molecules(result.xyz, box, anchor_molecules_atom_indices, other_molecules_atom_indices, sorted_bonds)\n",
      "ValueError: Buffer dtype mismatch, expected 'float' but got 'double'\n"
     ]
    },
    {
     "ename": "ValueError",
     "evalue": "Buffer dtype mismatch, expected 'float' but got 'double'",
     "output_type": "error",
     "traceback": [
      "\u001b[0;31m--------------------------------\u001b[0m",
      "\u001b[0;31mValueError\u001b[0mTraceback (most recent call last)",
      "\u001b[0;31mValueError\u001b[0m: Buffer dtype mismatch, expected 'float' but got 'double'"
     ]
    },
    {
     "name": "stderr",
     "output_type": "stream",
     "text": [
      "Exception ignored in: 'mdtraj.geometry._geometry.image_frame'\n",
      "Traceback (most recent call last):\n",
      "  File \"/home/zhangi/miniconda3/envs/perses-rest2v2/lib/python3.8/site-packages/mdtraj/core/trajectory.py\", line 2005, in image_molecules\n",
      "    _geometry.image_molecules(result.xyz, box, anchor_molecules_atom_indices, other_molecules_atom_indices, sorted_bonds)\n",
      "ValueError: Buffer dtype mismatch, expected 'float' but got 'double'\n"
     ]
    },
    {
     "ename": "ValueError",
     "evalue": "Buffer dtype mismatch, expected 'float' but got 'double'",
     "output_type": "error",
     "traceback": [
      "\u001b[0;31m--------------------------------\u001b[0m",
      "\u001b[0;31mValueError\u001b[0mTraceback (most recent call last)",
      "\u001b[0;31mValueError\u001b[0m: Buffer dtype mismatch, expected 'float' but got 'double'"
     ]
    },
    {
     "name": "stderr",
     "output_type": "stream",
     "text": [
      "Exception ignored in: 'mdtraj.geometry._geometry.image_frame'\n",
      "Traceback (most recent call last):\n",
      "  File \"/home/zhangi/miniconda3/envs/perses-rest2v2/lib/python3.8/site-packages/mdtraj/core/trajectory.py\", line 2005, in image_molecules\n",
      "    _geometry.image_molecules(result.xyz, box, anchor_molecules_atom_indices, other_molecules_atom_indices, sorted_bonds)\n",
      "ValueError: Buffer dtype mismatch, expected 'float' but got 'double'\n"
     ]
    },
    {
     "ename": "ValueError",
     "evalue": "Buffer dtype mismatch, expected 'float' but got 'double'",
     "output_type": "error",
     "traceback": [
      "\u001b[0;31m--------------------------------\u001b[0m",
      "\u001b[0;31mValueError\u001b[0mTraceback (most recent call last)",
      "\u001b[0;31mValueError\u001b[0m: Buffer dtype mismatch, expected 'float' but got 'double'"
     ]
    },
    {
     "name": "stderr",
     "output_type": "stream",
     "text": [
      "Exception ignored in: 'mdtraj.geometry._geometry.image_frame'\n",
      "Traceback (most recent call last):\n",
      "  File \"/home/zhangi/miniconda3/envs/perses-rest2v2/lib/python3.8/site-packages/mdtraj/core/trajectory.py\", line 2005, in image_molecules\n",
      "    _geometry.image_molecules(result.xyz, box, anchor_molecules_atom_indices, other_molecules_atom_indices, sorted_bonds)\n",
      "ValueError: Buffer dtype mismatch, expected 'float' but got 'double'\n"
     ]
    },
    {
     "ename": "ValueError",
     "evalue": "Buffer dtype mismatch, expected 'float' but got 'double'",
     "output_type": "error",
     "traceback": [
      "\u001b[0;31m--------------------------------\u001b[0m",
      "\u001b[0;31mValueError\u001b[0mTraceback (most recent call last)",
      "\u001b[0;31mValueError\u001b[0m: Buffer dtype mismatch, expected 'float' but got 'double'"
     ]
    },
    {
     "name": "stderr",
     "output_type": "stream",
     "text": [
      "Exception ignored in: 'mdtraj.geometry._geometry.image_frame'\n",
      "Traceback (most recent call last):\n",
      "  File \"/home/zhangi/miniconda3/envs/perses-rest2v2/lib/python3.8/site-packages/mdtraj/core/trajectory.py\", line 2005, in image_molecules\n",
      "    _geometry.image_molecules(result.xyz, box, anchor_molecules_atom_indices, other_molecules_atom_indices, sorted_bonds)\n",
      "ValueError: Buffer dtype mismatch, expected 'float' but got 'double'\n"
     ]
    },
    {
     "ename": "ValueError",
     "evalue": "Buffer dtype mismatch, expected 'float' but got 'double'",
     "output_type": "error",
     "traceback": [
      "\u001b[0;31m--------------------------------\u001b[0m",
      "\u001b[0;31mValueError\u001b[0mTraceback (most recent call last)",
      "\u001b[0;31mValueError\u001b[0m: Buffer dtype mismatch, expected 'float' but got 'double'"
     ]
    },
    {
     "name": "stderr",
     "output_type": "stream",
     "text": [
      "Exception ignored in: 'mdtraj.geometry._geometry.image_frame'\n",
      "Traceback (most recent call last):\n",
      "  File \"/home/zhangi/miniconda3/envs/perses-rest2v2/lib/python3.8/site-packages/mdtraj/core/trajectory.py\", line 2005, in image_molecules\n",
      "    _geometry.image_molecules(result.xyz, box, anchor_molecules_atom_indices, other_molecules_atom_indices, sorted_bonds)\n",
      "ValueError: Buffer dtype mismatch, expected 'float' but got 'double'\n"
     ]
    },
    {
     "ename": "ValueError",
     "evalue": "Buffer dtype mismatch, expected 'float' but got 'double'",
     "output_type": "error",
     "traceback": [
      "\u001b[0;31m--------------------------------\u001b[0m",
      "\u001b[0;31mValueError\u001b[0mTraceback (most recent call last)",
      "\u001b[0;31mValueError\u001b[0m: Buffer dtype mismatch, expected 'float' but got 'double'"
     ]
    },
    {
     "name": "stderr",
     "output_type": "stream",
     "text": [
      "Exception ignored in: 'mdtraj.geometry._geometry.image_frame'\n",
      "Traceback (most recent call last):\n",
      "  File \"/home/zhangi/miniconda3/envs/perses-rest2v2/lib/python3.8/site-packages/mdtraj/core/trajectory.py\", line 2005, in image_molecules\n",
      "    _geometry.image_molecules(result.xyz, box, anchor_molecules_atom_indices, other_molecules_atom_indices, sorted_bonds)\n",
      "ValueError: Buffer dtype mismatch, expected 'float' but got 'double'\n"
     ]
    },
    {
     "ename": "ValueError",
     "evalue": "Buffer dtype mismatch, expected 'float' but got 'double'",
     "output_type": "error",
     "traceback": [
      "\u001b[0;31m--------------------------------\u001b[0m",
      "\u001b[0;31mValueError\u001b[0mTraceback (most recent call last)",
      "\u001b[0;31mValueError\u001b[0m: Buffer dtype mismatch, expected 'float' but got 'double'"
     ]
    },
    {
     "name": "stderr",
     "output_type": "stream",
     "text": [
      "Exception ignored in: 'mdtraj.geometry._geometry.image_frame'\n",
      "Traceback (most recent call last):\n",
      "  File \"/home/zhangi/miniconda3/envs/perses-rest2v2/lib/python3.8/site-packages/mdtraj/core/trajectory.py\", line 2005, in image_molecules\n",
      "    _geometry.image_molecules(result.xyz, box, anchor_molecules_atom_indices, other_molecules_atom_indices, sorted_bonds)\n",
      "ValueError: Buffer dtype mismatch, expected 'float' but got 'double'\n"
     ]
    },
    {
     "ename": "ValueError",
     "evalue": "Buffer dtype mismatch, expected 'float' but got 'double'",
     "output_type": "error",
     "traceback": [
      "\u001b[0;31m--------------------------------\u001b[0m",
      "\u001b[0;31mValueError\u001b[0mTraceback (most recent call last)",
      "\u001b[0;31mValueError\u001b[0m: Buffer dtype mismatch, expected 'float' but got 'double'"
     ]
    },
    {
     "name": "stderr",
     "output_type": "stream",
     "text": [
      "Exception ignored in: 'mdtraj.geometry._geometry.image_frame'\n",
      "Traceback (most recent call last):\n",
      "  File \"/home/zhangi/miniconda3/envs/perses-rest2v2/lib/python3.8/site-packages/mdtraj/core/trajectory.py\", line 2005, in image_molecules\n",
      "    _geometry.image_molecules(result.xyz, box, anchor_molecules_atom_indices, other_molecules_atom_indices, sorted_bonds)\n",
      "ValueError: Buffer dtype mismatch, expected 'float' but got 'double'\n"
     ]
    },
    {
     "ename": "ValueError",
     "evalue": "Buffer dtype mismatch, expected 'float' but got 'double'",
     "output_type": "error",
     "traceback": [
      "\u001b[0;31m--------------------------------\u001b[0m",
      "\u001b[0;31mValueError\u001b[0mTraceback (most recent call last)",
      "\u001b[0;31mValueError\u001b[0m: Buffer dtype mismatch, expected 'float' but got 'double'"
     ]
    },
    {
     "name": "stderr",
     "output_type": "stream",
     "text": [
      "Exception ignored in: 'mdtraj.geometry._geometry.image_frame'\n",
      "Traceback (most recent call last):\n",
      "  File \"/home/zhangi/miniconda3/envs/perses-rest2v2/lib/python3.8/site-packages/mdtraj/core/trajectory.py\", line 2005, in image_molecules\n",
      "    _geometry.image_molecules(result.xyz, box, anchor_molecules_atom_indices, other_molecules_atom_indices, sorted_bonds)\n",
      "ValueError: Buffer dtype mismatch, expected 'float' but got 'double'\n"
     ]
    },
    {
     "ename": "ValueError",
     "evalue": "Buffer dtype mismatch, expected 'float' but got 'double'",
     "output_type": "error",
     "traceback": [
      "\u001b[0;31m--------------------------------\u001b[0m",
      "\u001b[0;31mValueError\u001b[0mTraceback (most recent call last)",
      "\u001b[0;31mValueError\u001b[0m: Buffer dtype mismatch, expected 'float' but got 'double'"
     ]
    },
    {
     "name": "stderr",
     "output_type": "stream",
     "text": [
      "Exception ignored in: 'mdtraj.geometry._geometry.image_frame'\n",
      "Traceback (most recent call last):\n",
      "  File \"/home/zhangi/miniconda3/envs/perses-rest2v2/lib/python3.8/site-packages/mdtraj/core/trajectory.py\", line 2005, in image_molecules\n",
      "    _geometry.image_molecules(result.xyz, box, anchor_molecules_atom_indices, other_molecules_atom_indices, sorted_bonds)\n",
      "ValueError: Buffer dtype mismatch, expected 'float' but got 'double'\n"
     ]
    },
    {
     "ename": "ValueError",
     "evalue": "Buffer dtype mismatch, expected 'float' but got 'double'",
     "output_type": "error",
     "traceback": [
      "\u001b[0;31m--------------------------------\u001b[0m",
      "\u001b[0;31mValueError\u001b[0mTraceback (most recent call last)",
      "\u001b[0;31mValueError\u001b[0m: Buffer dtype mismatch, expected 'float' but got 'double'"
     ]
    },
    {
     "name": "stderr",
     "output_type": "stream",
     "text": [
      "Exception ignored in: 'mdtraj.geometry._geometry.image_frame'\n",
      "Traceback (most recent call last):\n",
      "  File \"/home/zhangi/miniconda3/envs/perses-rest2v2/lib/python3.8/site-packages/mdtraj/core/trajectory.py\", line 2005, in image_molecules\n",
      "    _geometry.image_molecules(result.xyz, box, anchor_molecules_atom_indices, other_molecules_atom_indices, sorted_bonds)\n",
      "ValueError: Buffer dtype mismatch, expected 'float' but got 'double'\n"
     ]
    },
    {
     "ename": "ValueError",
     "evalue": "Buffer dtype mismatch, expected 'float' but got 'double'",
     "output_type": "error",
     "traceback": [
      "\u001b[0;31m--------------------------------\u001b[0m",
      "\u001b[0;31mValueError\u001b[0mTraceback (most recent call last)",
      "\u001b[0;31mValueError\u001b[0m: Buffer dtype mismatch, expected 'float' but got 'double'"
     ]
    },
    {
     "name": "stderr",
     "output_type": "stream",
     "text": [
      "Exception ignored in: 'mdtraj.geometry._geometry.image_frame'\n",
      "Traceback (most recent call last):\n",
      "  File \"/home/zhangi/miniconda3/envs/perses-rest2v2/lib/python3.8/site-packages/mdtraj/core/trajectory.py\", line 2005, in image_molecules\n",
      "    _geometry.image_molecules(result.xyz, box, anchor_molecules_atom_indices, other_molecules_atom_indices, sorted_bonds)\n",
      "ValueError: Buffer dtype mismatch, expected 'float' but got 'double'\n"
     ]
    },
    {
     "ename": "ValueError",
     "evalue": "Buffer dtype mismatch, expected 'float' but got 'double'",
     "output_type": "error",
     "traceback": [
      "\u001b[0;31m--------------------------------\u001b[0m",
      "\u001b[0;31mValueError\u001b[0mTraceback (most recent call last)",
      "\u001b[0;31mValueError\u001b[0m: Buffer dtype mismatch, expected 'float' but got 'double'"
     ]
    },
    {
     "name": "stderr",
     "output_type": "stream",
     "text": [
      "Exception ignored in: 'mdtraj.geometry._geometry.image_frame'\n",
      "Traceback (most recent call last):\n",
      "  File \"/home/zhangi/miniconda3/envs/perses-rest2v2/lib/python3.8/site-packages/mdtraj/core/trajectory.py\", line 2005, in image_molecules\n",
      "    _geometry.image_molecules(result.xyz, box, anchor_molecules_atom_indices, other_molecules_atom_indices, sorted_bonds)\n",
      "ValueError: Buffer dtype mismatch, expected 'float' but got 'double'\n"
     ]
    },
    {
     "ename": "ValueError",
     "evalue": "Buffer dtype mismatch, expected 'float' but got 'double'",
     "output_type": "error",
     "traceback": [
      "\u001b[0;31m--------------------------------\u001b[0m",
      "\u001b[0;31mValueError\u001b[0mTraceback (most recent call last)",
      "\u001b[0;31mValueError\u001b[0m: Buffer dtype mismatch, expected 'float' but got 'double'"
     ]
    },
    {
     "name": "stderr",
     "output_type": "stream",
     "text": [
      "Exception ignored in: 'mdtraj.geometry._geometry.image_frame'\n",
      "Traceback (most recent call last):\n",
      "  File \"/home/zhangi/miniconda3/envs/perses-rest2v2/lib/python3.8/site-packages/mdtraj/core/trajectory.py\", line 2005, in image_molecules\n",
      "    _geometry.image_molecules(result.xyz, box, anchor_molecules_atom_indices, other_molecules_atom_indices, sorted_bonds)\n",
      "ValueError: Buffer dtype mismatch, expected 'float' but got 'double'\n"
     ]
    }
   ],
   "source": [
    "name = \"lys\"\n",
    "endstate = 0\n",
    "is_old = True\n",
    "traj_rest_solvent = make_traj(outdir_rest, htf, i, phase, name, endstate, is_old, keep_solvent=True)\n"
   ]
  },
  {
   "cell_type": "code",
   "execution_count": 42,
   "id": "25ecd321",
   "metadata": {},
   "outputs": [
    {
     "name": "stdout",
     "output_type": "stream",
     "text": [
      "LYS27-N 27 390\n",
      "LYS27-CA 27 391\n",
      "LYS27-C 27 392\n",
      "LYS27-O 27 393\n",
      "LYS27-CB 27 394\n",
      "LYS27-CG 27 395\n",
      "LYS27-CD 27 396\n",
      "LYS27-CE 27 397\n",
      "LYS27-NZ 27 398\n",
      "LYS27-H 27 399\n",
      "LYS27-HA 27 400\n",
      "LYS27-HB3 27 401\n",
      "LYS27-HB2 27 402\n",
      "LYS27-HG3 27 403\n",
      "LYS27-HG2 27 404\n",
      "LYS27-HD3 27 405\n",
      "LYS27-HD2 27 406\n",
      "LYS27-HE3 27 407\n",
      "LYS27-HE2 27 408\n",
      "LYS27-HZ3 27 409\n",
      "LYS27-HZ1 27 410\n",
      "LYS27-HZ2 27 411\n"
     ]
    }
   ],
   "source": [
    "tyr_atoms = []\n",
    "for atom in traj_rest_solvent.topology.atoms:\n",
    "    if atom.residue.resSeq == 27 and atom.residue.name == 'LYS':\n",
    "        print(atom, atom.residue.resSeq, atom.index)\n",
    "        tyr_atoms.append(atom.index)"
   ]
  },
  {
   "cell_type": "code",
   "execution_count": 43,
   "id": "9ab31f59",
   "metadata": {},
   "outputs": [],
   "source": [
    "water_atoms = traj_rest_solvent.topology.select(\"water and symbol == 'O'\")\n"
   ]
  },
  {
   "cell_type": "code",
   "execution_count": 44,
   "id": "3ccae2b8",
   "metadata": {},
   "outputs": [],
   "source": [
    "neighbors = md.compute_neighbors(traj_rest_solvent, 0.5, tyr_atoms, haystack_indices=water_atoms)\n"
   ]
  },
  {
   "cell_type": "code",
   "execution_count": 49,
   "id": "6e90360d",
   "metadata": {},
   "outputs": [
    {
     "data": {
      "text/plain": [
       "(0.0, 18.0)"
      ]
     },
     "execution_count": 49,
     "metadata": {},
     "output_type": "execute_result"
    },
    {
     "data": {
      "image/png": "[encoded data removed]",
      "text/plain": [
       "<Figure size 432x288 with 1 Axes>"
      ]
     },
     "metadata": {
      "needs_background": "light"
     },
     "output_type": "display_data"
    }
   ],
   "source": [
    "plt.scatter(range(len(neighbors)), [len(frame) for frame in neighbors])\n",
    "plt.ylabel(\"number of waters\")\n",
    "plt.xlabel(\"rest snapshot\")\n",
    "plt.title(\"K27\")\n",
    "plt.ylim([0, 18])"
   ]
  },
  {
   "cell_type": "code",
   "execution_count": 50,
   "id": "01f5e904",
   "metadata": {},
   "outputs": [],
   "source": [
    "from pymbar import timeseries"
   ]
  },
  {
   "cell_type": "code",
   "execution_count": 51,
   "id": "0f990b83",
   "metadata": {},
   "outputs": [],
   "source": [
    "k27_waters = [len(frame) for frame in neighbors]\n"
   ]
  },
  {
   "cell_type": "code",
   "execution_count": 52,
   "id": "74121231",
   "metadata": {},
   "outputs": [
    {
     "data": {
      "text/plain": [
       "2.1320609944034388"
      ]
     },
     "execution_count": 52,
     "metadata": {},
     "output_type": "execute_result"
    }
   ],
   "source": [
    "timeseries.statisticalInefficiency(k27_waters)\n"
   ]
  },
  {
   "cell_type": "markdown",
   "id": "7e05b7e6",
   "metadata": {},
   "source": [
    "A27"
   ]
  },
  {
   "cell_type": "code",
   "execution_count": 53,
   "id": "0171031a",
   "metadata": {
    "scrolled": true
   },
   "outputs": [
    {
     "name": "stderr",
     "output_type": "stream",
     "text": [
      "<ipython-input-25-45ff68d441e7>:22: TqdmDeprecationWarning: This function will be removed in tqdm==5.0.0\n",
      "Please use `tqdm.notebook.tqdm` instead of `tqdm.tqdm_notebook`\n",
      "  for j, pos in tqdm_notebook(enumerate(cache)):\n"
     ]
    },
    {
     "data": {
      "application/vnd.jupyter.widget-view+json": {
       "model_id": "3345601813c247b6a7d882059227033c",
       "version_major": 2,
       "version_minor": 0
      },
      "text/plain": [
       "0it [00:00, ?it/s]"
      ]
     },
     "metadata": {},
     "output_type": "display_data"
    },
    {
     "ename": "ValueError",
     "evalue": "Buffer dtype mismatch, expected 'float' but got 'double'",
     "output_type": "error",
     "traceback": [
      "\u001b[0;31m--------------------------------\u001b[0m",
      "\u001b[0;31mValueError\u001b[0mTraceback (most recent call last)",
      "\u001b[0;31mValueError\u001b[0m: Buffer dtype mismatch, expected 'float' but got 'double'"
     ]
    },
    {
     "name": "stderr",
     "output_type": "stream",
     "text": [
      "Exception ignored in: 'mdtraj.geometry._geometry.image_frame'\n",
      "Traceback (most recent call last):\n",
      "  File \"/home/zhangi/miniconda3/envs/perses-rest2v2/lib/python3.8/site-packages/mdtraj/core/trajectory.py\", line 2005, in image_molecules\n",
      "    _geometry.image_molecules(result.xyz, box, anchor_molecules_atom_indices, other_molecules_atom_indices, sorted_bonds)\n",
      "ValueError: Buffer dtype mismatch, expected 'float' but got 'double'\n"
     ]
    },
    {
     "ename": "ValueError",
     "evalue": "Buffer dtype mismatch, expected 'float' but got 'double'",
     "output_type": "error",
     "traceback": [
      "\u001b[0;31m--------------------------------\u001b[0m",
      "\u001b[0;31mValueError\u001b[0mTraceback (most recent call last)",
      "\u001b[0;31mValueError\u001b[0m: Buffer dtype mismatch, expected 'float' but got 'double'"
     ]
    },
    {
     "name": "stderr",
     "output_type": "stream",
     "text": [
      "Exception ignored in: 'mdtraj.geometry._geometry.image_frame'\n",
      "Traceback (most recent call last):\n",
      "  File \"/home/zhangi/miniconda3/envs/perses-rest2v2/lib/python3.8/site-packages/mdtraj/core/trajectory.py\", line 2005, in image_molecules\n",
      "    _geometry.image_molecules(result.xyz, box, anchor_molecules_atom_indices, other_molecules_atom_indices, sorted_bonds)\n",
      "ValueError: Buffer dtype mismatch, expected 'float' but got 'double'\n"
     ]
    },
    {
     "ename": "ValueError",
     "evalue": "Buffer dtype mismatch, expected 'float' but got 'double'",
     "output_type": "error",
     "traceback": [
      "\u001b[0;31m--------------------------------\u001b[0m",
      "\u001b[0;31mValueError\u001b[0mTraceback (most recent call last)",
      "\u001b[0;31mValueError\u001b[0m: Buffer dtype mismatch, expected 'float' but got 'double'"
     ]
    },
    {
     "name": "stderr",
     "output_type": "stream",
     "text": [
      "Exception ignored in: 'mdtraj.geometry._geometry.image_frame'\n",
      "Traceback (most recent call last):\n",
      "  File \"/home/zhangi/miniconda3/envs/perses-rest2v2/lib/python3.8/site-packages/mdtraj/core/trajectory.py\", line 2005, in image_molecules\n",
      "    _geometry.image_molecules(result.xyz, box, anchor_molecules_atom_indices, other_molecules_atom_indices, sorted_bonds)\n",
      "ValueError: Buffer dtype mismatch, expected 'float' but got 'double'\n"
     ]
    },
    {
     "ename": "ValueError",
     "evalue": "Buffer dtype mismatch, expected 'float' but got 'double'",
     "output_type": "error",
     "traceback": [
      "\u001b[0;31m--------------------------------\u001b[0m",
      "\u001b[0;31mValueError\u001b[0mTraceback (most recent call last)",
      "\u001b[0;31mValueError\u001b[0m: Buffer dtype mismatch, expected 'float' but got 'double'"
     ]
    },
    {
     "name": "stderr",
     "output_type": "stream",
     "text": [
      "Exception ignored in: 'mdtraj.geometry._geometry.image_frame'\n",
      "Traceback (most recent call last):\n",
      "  File \"/home/zhangi/miniconda3/envs/perses-rest2v2/lib/python3.8/site-packages/mdtraj/core/trajectory.py\", line 2005, in image_molecules\n",
      "    _geometry.image_molecules(result.xyz, box, anchor_molecules_atom_indices, other_molecules_atom_indices, sorted_bonds)\n",
      "ValueError: Buffer dtype mismatch, expected 'float' but got 'double'\n"
     ]
    },
    {
     "ename": "ValueError",
     "evalue": "Buffer dtype mismatch, expected 'float' but got 'double'",
     "output_type": "error",
     "traceback": [
      "\u001b[0;31m--------------------------------\u001b[0m",
      "\u001b[0;31mValueError\u001b[0mTraceback (most recent call last)",
      "\u001b[0;31mValueError\u001b[0m: Buffer dtype mismatch, expected 'float' but got 'double'"
     ]
    },
    {
     "name": "stderr",
     "output_type": "stream",
     "text": [
      "Exception ignored in: 'mdtraj.geometry._geometry.image_frame'\n",
      "Traceback (most recent call last):\n",
      "  File \"/home/zhangi/miniconda3/envs/perses-rest2v2/lib/python3.8/site-packages/mdtraj/core/trajectory.py\", line 2005, in image_molecules\n",
      "    _geometry.image_molecules(result.xyz, box, anchor_molecules_atom_indices, other_molecules_atom_indices, sorted_bonds)\n",
      "ValueError: Buffer dtype mismatch, expected 'float' but got 'double'\n"
     ]
    },
    {
     "ename": "ValueError",
     "evalue": "Buffer dtype mismatch, expected 'float' but got 'double'",
     "output_type": "error",
     "traceback": [
      "\u001b[0;31m--------------------------------\u001b[0m",
      "\u001b[0;31mValueError\u001b[0mTraceback (most recent call last)",
      "\u001b[0;31mValueError\u001b[0m: Buffer dtype mismatch, expected 'float' but got 'double'"
     ]
    },
    {
     "name": "stderr",
     "output_type": "stream",
     "text": [
      "Exception ignored in: 'mdtraj.geometry._geometry.image_frame'\n",
      "Traceback (most recent call last):\n",
      "  File \"/home/zhangi/miniconda3/envs/perses-rest2v2/lib/python3.8/site-packages/mdtraj/core/trajectory.py\", line 2005, in image_molecules\n",
      "    _geometry.image_molecules(result.xyz, box, anchor_molecules_atom_indices, other_molecules_atom_indices, sorted_bonds)\n",
      "ValueError: Buffer dtype mismatch, expected 'float' but got 'double'\n"
     ]
    },
    {
     "ename": "ValueError",
     "evalue": "Buffer dtype mismatch, expected 'float' but got 'double'",
     "output_type": "error",
     "traceback": [
      "\u001b[0;31m--------------------------------\u001b[0m",
      "\u001b[0;31mValueError\u001b[0mTraceback (most recent call last)",
      "\u001b[0;31mValueError\u001b[0m: Buffer dtype mismatch, expected 'float' but got 'double'"
     ]
    },
    {
     "name": "stderr",
     "output_type": "stream",
     "text": [
      "Exception ignored in: 'mdtraj.geometry._geometry.image_frame'\n",
      "Traceback (most recent call last):\n",
      "  File \"/home/zhangi/miniconda3/envs/perses-rest2v2/lib/python3.8/site-packages/mdtraj/core/trajectory.py\", line 2005, in image_molecules\n",
      "    _geometry.image_molecules(result.xyz, box, anchor_molecules_atom_indices, other_molecules_atom_indices, sorted_bonds)\n",
      "ValueError: Buffer dtype mismatch, expected 'float' but got 'double'\n"
     ]
    },
    {
     "ename": "ValueError",
     "evalue": "Buffer dtype mismatch, expected 'float' but got 'double'",
     "output_type": "error",
     "traceback": [
      "\u001b[0;31m--------------------------------\u001b[0m",
      "\u001b[0;31mValueError\u001b[0mTraceback (most recent call last)",
      "\u001b[0;31mValueError\u001b[0m: Buffer dtype mismatch, expected 'float' but got 'double'"
     ]
    },
    {
     "name": "stderr",
     "output_type": "stream",
     "text": [
      "Exception ignored in: 'mdtraj.geometry._geometry.image_frame'\n",
      "Traceback (most recent call last):\n",
      "  File \"/home/zhangi/miniconda3/envs/perses-rest2v2/lib/python3.8/site-packages/mdtraj/core/trajectory.py\", line 2005, in image_molecules\n",
      "    _geometry.image_molecules(result.xyz, box, anchor_molecules_atom_indices, other_molecules_atom_indices, sorted_bonds)\n",
      "ValueError: Buffer dtype mismatch, expected 'float' but got 'double'\n"
     ]
    },
    {
     "ename": "ValueError",
     "evalue": "Buffer dtype mismatch, expected 'float' but got 'double'",
     "output_type": "error",
     "traceback": [
      "\u001b[0;31m--------------------------------\u001b[0m",
      "\u001b[0;31mValueError\u001b[0mTraceback (most recent call last)",
      "\u001b[0;31mValueError\u001b[0m: Buffer dtype mismatch, expected 'float' but got 'double'"
     ]
    },
    {
     "name": "stderr",
     "output_type": "stream",
     "text": [
      "Exception ignored in: 'mdtraj.geometry._geometry.image_frame'\n",
      "Traceback (most recent call last):\n",
      "  File \"/home/zhangi/miniconda3/envs/perses-rest2v2/lib/python3.8/site-packages/mdtraj/core/trajectory.py\", line 2005, in image_molecules\n",
      "    _geometry.image_molecules(result.xyz, box, anchor_molecules_atom_indices, other_molecules_atom_indices, sorted_bonds)\n",
      "ValueError: Buffer dtype mismatch, expected 'float' but got 'double'\n"
     ]
    },
    {
     "ename": "ValueError",
     "evalue": "Buffer dtype mismatch, expected 'float' but got 'double'",
     "output_type": "error",
     "traceback": [
      "\u001b[0;31m--------------------------------\u001b[0m",
      "\u001b[0;31mValueError\u001b[0mTraceback (most recent call last)",
      "\u001b[0;31mValueError\u001b[0m: Buffer dtype mismatch, expected 'float' but got 'double'"
     ]
    },
    {
     "name": "stderr",
     "output_type": "stream",
     "text": [
      "Exception ignored in: 'mdtraj.geometry._geometry.image_frame'\n",
      "Traceback (most recent call last):\n",
      "  File \"/home/zhangi/miniconda3/envs/perses-rest2v2/lib/python3.8/site-packages/mdtraj/core/trajectory.py\", line 2005, in image_molecules\n",
      "    _geometry.image_molecules(result.xyz, box, anchor_molecules_atom_indices, other_molecules_atom_indices, sorted_bonds)\n",
      "ValueError: Buffer dtype mismatch, expected 'float' but got 'double'\n"
     ]
    },
    {
     "ename": "ValueError",
     "evalue": "Buffer dtype mismatch, expected 'float' but got 'double'",
     "output_type": "error",
     "traceback": [
      "\u001b[0;31m--------------------------------\u001b[0m",
      "\u001b[0;31mValueError\u001b[0mTraceback (most recent call last)",
      "\u001b[0;31mValueError\u001b[0m: Buffer dtype mismatch, expected 'float' but got 'double'"
     ]
    },
    {
     "name": "stderr",
     "output_type": "stream",
     "text": [
      "Exception ignored in: 'mdtraj.geometry._geometry.image_frame'\n",
      "Traceback (most recent call last):\n",
      "  File \"/home/zhangi/miniconda3/envs/perses-rest2v2/lib/python3.8/site-packages/mdtraj/core/trajectory.py\", line 2005, in image_molecules\n",
      "    _geometry.image_molecules(result.xyz, box, anchor_molecules_atom_indices, other_molecules_atom_indices, sorted_bonds)\n",
      "ValueError: Buffer dtype mismatch, expected 'float' but got 'double'\n"
     ]
    },
    {
     "ename": "ValueError",
     "evalue": "Buffer dtype mismatch, expected 'float' but got 'double'",
     "output_type": "error",
     "traceback": [
      "\u001b[0;31m--------------------------------\u001b[0m",
      "\u001b[0;31mValueError\u001b[0mTraceback (most recent call last)",
      "\u001b[0;31mValueError\u001b[0m: Buffer dtype mismatch, expected 'float' but got 'double'"
     ]
    },
    {
     "name": "stderr",
     "output_type": "stream",
     "text": [
      "Exception ignored in: 'mdtraj.geometry._geometry.image_frame'\n",
      "Traceback (most recent call last):\n",
      "  File \"/home/zhangi/miniconda3/envs/perses-rest2v2/lib/python3.8/site-packages/mdtraj/core/trajectory.py\", line 2005, in image_molecules\n",
      "    _geometry.image_molecules(result.xyz, box, anchor_molecules_atom_indices, other_molecules_atom_indices, sorted_bonds)\n",
      "ValueError: Buffer dtype mismatch, expected 'float' but got 'double'\n"
     ]
    },
    {
     "ename": "ValueError",
     "evalue": "Buffer dtype mismatch, expected 'float' but got 'double'",
     "output_type": "error",
     "traceback": [
      "\u001b[0;31m--------------------------------\u001b[0m",
      "\u001b[0;31mValueError\u001b[0mTraceback (most recent call last)",
      "\u001b[0;31mValueError\u001b[0m: Buffer dtype mismatch, expected 'float' but got 'double'"
     ]
    },
    {
     "name": "stderr",
     "output_type": "stream",
     "text": [
      "Exception ignored in: 'mdtraj.geometry._geometry.image_frame'\n",
      "Traceback (most recent call last):\n",
      "  File \"/home/zhangi/miniconda3/envs/perses-rest2v2/lib/python3.8/site-packages/mdtraj/core/trajectory.py\", line 2005, in image_molecules\n",
      "    _geometry.image_molecules(result.xyz, box, anchor_molecules_atom_indices, other_molecules_atom_indices, sorted_bonds)\n",
      "ValueError: Buffer dtype mismatch, expected 'float' but got 'double'\n"
     ]
    },
    {
     "ename": "ValueError",
     "evalue": "Buffer dtype mismatch, expected 'float' but got 'double'",
     "output_type": "error",
     "traceback": [
      "\u001b[0;31m--------------------------------\u001b[0m",
      "\u001b[0;31mValueError\u001b[0mTraceback (most recent call last)",
      "\u001b[0;31mValueError\u001b[0m: Buffer dtype mismatch, expected 'float' but got 'double'"
     ]
    },
    {
     "name": "stderr",
     "output_type": "stream",
     "text": [
      "Exception ignored in: 'mdtraj.geometry._geometry.image_frame'\n",
      "Traceback (most recent call last):\n",
      "  File \"/home/zhangi/miniconda3/envs/perses-rest2v2/lib/python3.8/site-packages/mdtraj/core/trajectory.py\", line 2005, in image_molecules\n",
      "    _geometry.image_molecules(result.xyz, box, anchor_molecules_atom_indices, other_molecules_atom_indices, sorted_bonds)\n",
      "ValueError: Buffer dtype mismatch, expected 'float' but got 'double'\n"
     ]
    },
    {
     "ename": "ValueError",
     "evalue": "Buffer dtype mismatch, expected 'float' but got 'double'",
     "output_type": "error",
     "traceback": [
      "\u001b[0;31m--------------------------------\u001b[0m",
      "\u001b[0;31mValueError\u001b[0mTraceback (most recent call last)",
      "\u001b[0;31mValueError\u001b[0m: Buffer dtype mismatch, expected 'float' but got 'double'"
     ]
    },
    {
     "name": "stderr",
     "output_type": "stream",
     "text": [
      "Exception ignored in: 'mdtraj.geometry._geometry.image_frame'\n",
      "Traceback (most recent call last):\n",
      "  File \"/home/zhangi/miniconda3/envs/perses-rest2v2/lib/python3.8/site-packages/mdtraj/core/trajectory.py\", line 2005, in image_molecules\n",
      "    _geometry.image_molecules(result.xyz, box, anchor_molecules_atom_indices, other_molecules_atom_indices, sorted_bonds)\n",
      "ValueError: Buffer dtype mismatch, expected 'float' but got 'double'\n"
     ]
    },
    {
     "ename": "ValueError",
     "evalue": "Buffer dtype mismatch, expected 'float' but got 'double'",
     "output_type": "error",
     "traceback": [
      "\u001b[0;31m--------------------------------\u001b[0m",
      "\u001b[0;31mValueError\u001b[0mTraceback (most recent call last)",
      "\u001b[0;31mValueError\u001b[0m: Buffer dtype mismatch, expected 'float' but got 'double'"
     ]
    },
    {
     "name": "stderr",
     "output_type": "stream",
     "text": [
      "Exception ignored in: 'mdtraj.geometry._geometry.image_frame'\n",
      "Traceback (most recent call last):\n",
      "  File \"/home/zhangi/miniconda3/envs/perses-rest2v2/lib/python3.8/site-packages/mdtraj/core/trajectory.py\", line 2005, in image_molecules\n",
      "    _geometry.image_molecules(result.xyz, box, anchor_molecules_atom_indices, other_molecules_atom_indices, sorted_bonds)\n",
      "ValueError: Buffer dtype mismatch, expected 'float' but got 'double'\n"
     ]
    },
    {
     "ename": "ValueError",
     "evalue": "Buffer dtype mismatch, expected 'float' but got 'double'",
     "output_type": "error",
     "traceback": [
      "\u001b[0;31m--------------------------------\u001b[0m",
      "\u001b[0;31mValueError\u001b[0mTraceback (most recent call last)",
      "\u001b[0;31mValueError\u001b[0m: Buffer dtype mismatch, expected 'float' but got 'double'"
     ]
    },
    {
     "name": "stderr",
     "output_type": "stream",
     "text": [
      "Exception ignored in: 'mdtraj.geometry._geometry.image_frame'\n",
      "Traceback (most recent call last):\n",
      "  File \"/home/zhangi/miniconda3/envs/perses-rest2v2/lib/python3.8/site-packages/mdtraj/core/trajectory.py\", line 2005, in image_molecules\n",
      "    _geometry.image_molecules(result.xyz, box, anchor_molecules_atom_indices, other_molecules_atom_indices, sorted_bonds)\n",
      "ValueError: Buffer dtype mismatch, expected 'float' but got 'double'\n"
     ]
    },
    {
     "ename": "ValueError",
     "evalue": "Buffer dtype mismatch, expected 'float' but got 'double'",
     "output_type": "error",
     "traceback": [
      "\u001b[0;31m--------------------------------\u001b[0m",
      "\u001b[0;31mValueError\u001b[0mTraceback (most recent call last)",
      "\u001b[0;31mValueError\u001b[0m: Buffer dtype mismatch, expected 'float' but got 'double'"
     ]
    },
    {
     "name": "stderr",
     "output_type": "stream",
     "text": [
      "Exception ignored in: 'mdtraj.geometry._geometry.image_frame'\n",
      "Traceback (most recent call last):\n",
      "  File \"/home/zhangi/miniconda3/envs/perses-rest2v2/lib/python3.8/site-packages/mdtraj/core/trajectory.py\", line 2005, in image_molecules\n",
      "    _geometry.image_molecules(result.xyz, box, anchor_molecules_atom_indices, other_molecules_atom_indices, sorted_bonds)\n",
      "ValueError: Buffer dtype mismatch, expected 'float' but got 'double'\n"
     ]
    },
    {
     "ename": "ValueError",
     "evalue": "Buffer dtype mismatch, expected 'float' but got 'double'",
     "output_type": "error",
     "traceback": [
      "\u001b[0;31m--------------------------------\u001b[0m",
      "\u001b[0;31mValueError\u001b[0mTraceback (most recent call last)",
      "\u001b[0;31mValueError\u001b[0m: Buffer dtype mismatch, expected 'float' but got 'double'"
     ]
    },
    {
     "name": "stderr",
     "output_type": "stream",
     "text": [
      "Exception ignored in: 'mdtraj.geometry._geometry.image_frame'\n",
      "Traceback (most recent call last):\n",
      "  File \"/home/zhangi/miniconda3/envs/perses-rest2v2/lib/python3.8/site-packages/mdtraj/core/trajectory.py\", line 2005, in image_molecules\n",
      "    _geometry.image_molecules(result.xyz, box, anchor_molecules_atom_indices, other_molecules_atom_indices, sorted_bonds)\n",
      "ValueError: Buffer dtype mismatch, expected 'float' but got 'double'\n"
     ]
    },
    {
     "ename": "ValueError",
     "evalue": "Buffer dtype mismatch, expected 'float' but got 'double'",
     "output_type": "error",
     "traceback": [
      "\u001b[0;31m--------------------------------\u001b[0m",
      "\u001b[0;31mValueError\u001b[0mTraceback (most recent call last)",
      "\u001b[0;31mValueError\u001b[0m: Buffer dtype mismatch, expected 'float' but got 'double'"
     ]
    },
    {
     "name": "stderr",
     "output_type": "stream",
     "text": [
      "Exception ignored in: 'mdtraj.geometry._geometry.image_frame'\n",
      "Traceback (most recent call last):\n",
      "  File \"/home/zhangi/miniconda3/envs/perses-rest2v2/lib/python3.8/site-packages/mdtraj/core/trajectory.py\", line 2005, in image_molecules\n",
      "    _geometry.image_molecules(result.xyz, box, anchor_molecules_atom_indices, other_molecules_atom_indices, sorted_bonds)\n",
      "ValueError: Buffer dtype mismatch, expected 'float' but got 'double'\n"
     ]
    },
    {
     "ename": "ValueError",
     "evalue": "Buffer dtype mismatch, expected 'float' but got 'double'",
     "output_type": "error",
     "traceback": [
      "\u001b[0;31m--------------------------------\u001b[0m",
      "\u001b[0;31mValueError\u001b[0mTraceback (most recent call last)",
      "\u001b[0;31mValueError\u001b[0m: Buffer dtype mismatch, expected 'float' but got 'double'"
     ]
    },
    {
     "name": "stderr",
     "output_type": "stream",
     "text": [
      "Exception ignored in: 'mdtraj.geometry._geometry.image_frame'\n",
      "Traceback (most recent call last):\n",
      "  File \"/home/zhangi/miniconda3/envs/perses-rest2v2/lib/python3.8/site-packages/mdtraj/core/trajectory.py\", line 2005, in image_molecules\n",
      "    _geometry.image_molecules(result.xyz, box, anchor_molecules_atom_indices, other_molecules_atom_indices, sorted_bonds)\n",
      "ValueError: Buffer dtype mismatch, expected 'float' but got 'double'\n"
     ]
    },
    {
     "ename": "ValueError",
     "evalue": "Buffer dtype mismatch, expected 'float' but got 'double'",
     "output_type": "error",
     "traceback": [
      "\u001b[0;31m--------------------------------\u001b[0m",
      "\u001b[0;31mValueError\u001b[0mTraceback (most recent call last)",
      "\u001b[0;31mValueError\u001b[0m: Buffer dtype mismatch, expected 'float' but got 'double'"
     ]
    },
    {
     "name": "stderr",
     "output_type": "stream",
     "text": [
      "Exception ignored in: 'mdtraj.geometry._geometry.image_frame'\n",
      "Traceback (most recent call last):\n",
      "  File \"/home/zhangi/miniconda3/envs/perses-rest2v2/lib/python3.8/site-packages/mdtraj/core/trajectory.py\", line 2005, in image_molecules\n",
      "    _geometry.image_molecules(result.xyz, box, anchor_molecules_atom_indices, other_molecules_atom_indices, sorted_bonds)\n",
      "ValueError: Buffer dtype mismatch, expected 'float' but got 'double'\n"
     ]
    },
    {
     "ename": "ValueError",
     "evalue": "Buffer dtype mismatch, expected 'float' but got 'double'",
     "output_type": "error",
     "traceback": [
      "\u001b[0;31m--------------------------------\u001b[0m",
      "\u001b[0;31mValueError\u001b[0mTraceback (most recent call last)",
      "\u001b[0;31mValueError\u001b[0m: Buffer dtype mismatch, expected 'float' but got 'double'"
     ]
    },
    {
     "name": "stderr",
     "output_type": "stream",
     "text": [
      "Exception ignored in: 'mdtraj.geometry._geometry.image_frame'\n",
      "Traceback (most recent call last):\n",
      "  File \"/home/zhangi/miniconda3/envs/perses-rest2v2/lib/python3.8/site-packages/mdtraj/core/trajectory.py\", line 2005, in image_molecules\n",
      "    _geometry.image_molecules(result.xyz, box, anchor_molecules_atom_indices, other_molecules_atom_indices, sorted_bonds)\n",
      "ValueError: Buffer dtype mismatch, expected 'float' but got 'double'\n"
     ]
    },
    {
     "ename": "ValueError",
     "evalue": "Buffer dtype mismatch, expected 'float' but got 'double'",
     "output_type": "error",
     "traceback": [
      "\u001b[0;31m--------------------------------\u001b[0m",
      "\u001b[0;31mValueError\u001b[0mTraceback (most recent call last)",
      "\u001b[0;31mValueError\u001b[0m: Buffer dtype mismatch, expected 'float' but got 'double'"
     ]
    },
    {
     "name": "stderr",
     "output_type": "stream",
     "text": [
      "Exception ignored in: 'mdtraj.geometry._geometry.image_frame'\n",
      "Traceback (most recent call last):\n",
      "  File \"/home/zhangi/miniconda3/envs/perses-rest2v2/lib/python3.8/site-packages/mdtraj/core/trajectory.py\", line 2005, in image_molecules\n",
      "    _geometry.image_molecules(result.xyz, box, anchor_molecules_atom_indices, other_molecules_atom_indices, sorted_bonds)\n",
      "ValueError: Buffer dtype mismatch, expected 'float' but got 'double'\n"
     ]
    },
    {
     "ename": "ValueError",
     "evalue": "Buffer dtype mismatch, expected 'float' but got 'double'",
     "output_type": "error",
     "traceback": [
      "\u001b[0;31m--------------------------------\u001b[0m",
      "\u001b[0;31mValueError\u001b[0mTraceback (most recent call last)",
      "\u001b[0;31mValueError\u001b[0m: Buffer dtype mismatch, expected 'float' but got 'double'"
     ]
    },
    {
     "name": "stderr",
     "output_type": "stream",
     "text": [
      "Exception ignored in: 'mdtraj.geometry._geometry.image_frame'\n",
      "Traceback (most recent call last):\n",
      "  File \"/home/zhangi/miniconda3/envs/perses-rest2v2/lib/python3.8/site-packages/mdtraj/core/trajectory.py\", line 2005, in image_molecules\n",
      "    _geometry.image_molecules(result.xyz, box, anchor_molecules_atom_indices, other_molecules_atom_indices, sorted_bonds)\n",
      "ValueError: Buffer dtype mismatch, expected 'float' but got 'double'\n"
     ]
    },
    {
     "ename": "ValueError",
     "evalue": "Buffer dtype mismatch, expected 'float' but got 'double'",
     "output_type": "error",
     "traceback": [
      "\u001b[0;31m--------------------------------\u001b[0m",
      "\u001b[0;31mValueError\u001b[0mTraceback (most recent call last)",
      "\u001b[0;31mValueError\u001b[0m: Buffer dtype mismatch, expected 'float' but got 'double'"
     ]
    },
    {
     "name": "stderr",
     "output_type": "stream",
     "text": [
      "Exception ignored in: 'mdtraj.geometry._geometry.image_frame'\n",
      "Traceback (most recent call last):\n",
      "  File \"/home/zhangi/miniconda3/envs/perses-rest2v2/lib/python3.8/site-packages/mdtraj/core/trajectory.py\", line 2005, in image_molecules\n",
      "    _geometry.image_molecules(result.xyz, box, anchor_molecules_atom_indices, other_molecules_atom_indices, sorted_bonds)\n",
      "ValueError: Buffer dtype mismatch, expected 'float' but got 'double'\n"
     ]
    },
    {
     "ename": "ValueError",
     "evalue": "Buffer dtype mismatch, expected 'float' but got 'double'",
     "output_type": "error",
     "traceback": [
      "\u001b[0;31m--------------------------------\u001b[0m",
      "\u001b[0;31mValueError\u001b[0mTraceback (most recent call last)",
      "\u001b[0;31mValueError\u001b[0m: Buffer dtype mismatch, expected 'float' but got 'double'"
     ]
    },
    {
     "name": "stderr",
     "output_type": "stream",
     "text": [
      "Exception ignored in: 'mdtraj.geometry._geometry.image_frame'\n",
      "Traceback (most recent call last):\n",
      "  File \"/home/zhangi/miniconda3/envs/perses-rest2v2/lib/python3.8/site-packages/mdtraj/core/trajectory.py\", line 2005, in image_molecules\n",
      "    _geometry.image_molecules(result.xyz, box, anchor_molecules_atom_indices, other_molecules_atom_indices, sorted_bonds)\n",
      "ValueError: Buffer dtype mismatch, expected 'float' but got 'double'\n"
     ]
    },
    {
     "ename": "ValueError",
     "evalue": "Buffer dtype mismatch, expected 'float' but got 'double'",
     "output_type": "error",
     "traceback": [
      "\u001b[0;31m--------------------------------\u001b[0m",
      "\u001b[0;31mValueError\u001b[0mTraceback (most recent call last)",
      "\u001b[0;31mValueError\u001b[0m: Buffer dtype mismatch, expected 'float' but got 'double'"
     ]
    },
    {
     "name": "stderr",
     "output_type": "stream",
     "text": [
      "Exception ignored in: 'mdtraj.geometry._geometry.image_frame'\n",
      "Traceback (most recent call last):\n",
      "  File \"/home/zhangi/miniconda3/envs/perses-rest2v2/lib/python3.8/site-packages/mdtraj/core/trajectory.py\", line 2005, in image_molecules\n",
      "    _geometry.image_molecules(result.xyz, box, anchor_molecules_atom_indices, other_molecules_atom_indices, sorted_bonds)\n",
      "ValueError: Buffer dtype mismatch, expected 'float' but got 'double'\n"
     ]
    },
    {
     "ename": "ValueError",
     "evalue": "Buffer dtype mismatch, expected 'float' but got 'double'",
     "output_type": "error",
     "traceback": [
      "\u001b[0;31m--------------------------------\u001b[0m",
      "\u001b[0;31mValueError\u001b[0mTraceback (most recent call last)",
      "\u001b[0;31mValueError\u001b[0m: Buffer dtype mismatch, expected 'float' but got 'double'"
     ]
    },
    {
     "name": "stderr",
     "output_type": "stream",
     "text": [
      "Exception ignored in: 'mdtraj.geometry._geometry.image_frame'\n",
      "Traceback (most recent call last):\n",
      "  File \"/home/zhangi/miniconda3/envs/perses-rest2v2/lib/python3.8/site-packages/mdtraj/core/trajectory.py\", line 2005, in image_molecules\n",
      "    _geometry.image_molecules(result.xyz, box, anchor_molecules_atom_indices, other_molecules_atom_indices, sorted_bonds)\n",
      "ValueError: Buffer dtype mismatch, expected 'float' but got 'double'\n"
     ]
    },
    {
     "ename": "ValueError",
     "evalue": "Buffer dtype mismatch, expected 'float' but got 'double'",
     "output_type": "error",
     "traceback": [
      "\u001b[0;31m--------------------------------\u001b[0m",
      "\u001b[0;31mValueError\u001b[0mTraceback (most recent call last)",
      "\u001b[0;31mValueError\u001b[0m: Buffer dtype mismatch, expected 'float' but got 'double'"
     ]
    },
    {
     "name": "stderr",
     "output_type": "stream",
     "text": [
      "Exception ignored in: 'mdtraj.geometry._geometry.image_frame'\n",
      "Traceback (most recent call last):\n",
      "  File \"/home/zhangi/miniconda3/envs/perses-rest2v2/lib/python3.8/site-packages/mdtraj/core/trajectory.py\", line 2005, in image_molecules\n",
      "    _geometry.image_molecules(result.xyz, box, anchor_molecules_atom_indices, other_molecules_atom_indices, sorted_bonds)\n",
      "ValueError: Buffer dtype mismatch, expected 'float' but got 'double'\n"
     ]
    },
    {
     "ename": "ValueError",
     "evalue": "Buffer dtype mismatch, expected 'float' but got 'double'",
     "output_type": "error",
     "traceback": [
      "\u001b[0;31m--------------------------------\u001b[0m",
      "\u001b[0;31mValueError\u001b[0mTraceback (most recent call last)",
      "\u001b[0;31mValueError\u001b[0m: Buffer dtype mismatch, expected 'float' but got 'double'"
     ]
    },
    {
     "name": "stderr",
     "output_type": "stream",
     "text": [
      "Exception ignored in: 'mdtraj.geometry._geometry.image_frame'\n",
      "Traceback (most recent call last):\n",
      "  File \"/home/zhangi/miniconda3/envs/perses-rest2v2/lib/python3.8/site-packages/mdtraj/core/trajectory.py\", line 2005, in image_molecules\n",
      "    _geometry.image_molecules(result.xyz, box, anchor_molecules_atom_indices, other_molecules_atom_indices, sorted_bonds)\n",
      "ValueError: Buffer dtype mismatch, expected 'float' but got 'double'\n"
     ]
    },
    {
     "ename": "ValueError",
     "evalue": "Buffer dtype mismatch, expected 'float' but got 'double'",
     "output_type": "error",
     "traceback": [
      "\u001b[0;31m--------------------------------\u001b[0m",
      "\u001b[0;31mValueError\u001b[0mTraceback (most recent call last)",
      "\u001b[0;31mValueError\u001b[0m: Buffer dtype mismatch, expected 'float' but got 'double'"
     ]
    },
    {
     "name": "stderr",
     "output_type": "stream",
     "text": [
      "Exception ignored in: 'mdtraj.geometry._geometry.image_frame'\n",
      "Traceback (most recent call last):\n",
      "  File \"/home/zhangi/miniconda3/envs/perses-rest2v2/lib/python3.8/site-packages/mdtraj/core/trajectory.py\", line 2005, in image_molecules\n",
      "    _geometry.image_molecules(result.xyz, box, anchor_molecules_atom_indices, other_molecules_atom_indices, sorted_bonds)\n",
      "ValueError: Buffer dtype mismatch, expected 'float' but got 'double'\n"
     ]
    },
    {
     "ename": "ValueError",
     "evalue": "Buffer dtype mismatch, expected 'float' but got 'double'",
     "output_type": "error",
     "traceback": [
      "\u001b[0;31m--------------------------------\u001b[0m",
      "\u001b[0;31mValueError\u001b[0mTraceback (most recent call last)",
      "\u001b[0;31mValueError\u001b[0m: Buffer dtype mismatch, expected 'float' but got 'double'"
     ]
    },
    {
     "name": "stderr",
     "output_type": "stream",
     "text": [
      "Exception ignored in: 'mdtraj.geometry._geometry.image_frame'\n",
      "Traceback (most recent call last):\n",
      "  File \"/home/zhangi/miniconda3/envs/perses-rest2v2/lib/python3.8/site-packages/mdtraj/core/trajectory.py\", line 2005, in image_molecules\n",
      "    _geometry.image_molecules(result.xyz, box, anchor_molecules_atom_indices, other_molecules_atom_indices, sorted_bonds)\n",
      "ValueError: Buffer dtype mismatch, expected 'float' but got 'double'\n"
     ]
    },
    {
     "ename": "ValueError",
     "evalue": "Buffer dtype mismatch, expected 'float' but got 'double'",
     "output_type": "error",
     "traceback": [
      "\u001b[0;31m--------------------------------\u001b[0m",
      "\u001b[0;31mValueError\u001b[0mTraceback (most recent call last)",
      "\u001b[0;31mValueError\u001b[0m: Buffer dtype mismatch, expected 'float' but got 'double'"
     ]
    },
    {
     "name": "stderr",
     "output_type": "stream",
     "text": [
      "Exception ignored in: 'mdtraj.geometry._geometry.image_frame'\n",
      "Traceback (most recent call last):\n",
      "  File \"/home/zhangi/miniconda3/envs/perses-rest2v2/lib/python3.8/site-packages/mdtraj/core/trajectory.py\", line 2005, in image_molecules\n",
      "    _geometry.image_molecules(result.xyz, box, anchor_molecules_atom_indices, other_molecules_atom_indices, sorted_bonds)\n",
      "ValueError: Buffer dtype mismatch, expected 'float' but got 'double'\n"
     ]
    },
    {
     "ename": "ValueError",
     "evalue": "Buffer dtype mismatch, expected 'float' but got 'double'",
     "output_type": "error",
     "traceback": [
      "\u001b[0;31m--------------------------------\u001b[0m",
      "\u001b[0;31mValueError\u001b[0mTraceback (most recent call last)",
      "\u001b[0;31mValueError\u001b[0m: Buffer dtype mismatch, expected 'float' but got 'double'"
     ]
    },
    {
     "name": "stderr",
     "output_type": "stream",
     "text": [
      "Exception ignored in: 'mdtraj.geometry._geometry.image_frame'\n",
      "Traceback (most recent call last):\n",
      "  File \"/home/zhangi/miniconda3/envs/perses-rest2v2/lib/python3.8/site-packages/mdtraj/core/trajectory.py\", line 2005, in image_molecules\n",
      "    _geometry.image_molecules(result.xyz, box, anchor_molecules_atom_indices, other_molecules_atom_indices, sorted_bonds)\n",
      "ValueError: Buffer dtype mismatch, expected 'float' but got 'double'\n"
     ]
    },
    {
     "ename": "ValueError",
     "evalue": "Buffer dtype mismatch, expected 'float' but got 'double'",
     "output_type": "error",
     "traceback": [
      "\u001b[0;31m--------------------------------\u001b[0m",
      "\u001b[0;31mValueError\u001b[0mTraceback (most recent call last)",
      "\u001b[0;31mValueError\u001b[0m: Buffer dtype mismatch, expected 'float' but got 'double'"
     ]
    },
    {
     "name": "stderr",
     "output_type": "stream",
     "text": [
      "Exception ignored in: 'mdtraj.geometry._geometry.image_frame'\n",
      "Traceback (most recent call last):\n",
      "  File \"/home/zhangi/miniconda3/envs/perses-rest2v2/lib/python3.8/site-packages/mdtraj/core/trajectory.py\", line 2005, in image_molecules\n",
      "    _geometry.image_molecules(result.xyz, box, anchor_molecules_atom_indices, other_molecules_atom_indices, sorted_bonds)\n",
      "ValueError: Buffer dtype mismatch, expected 'float' but got 'double'\n"
     ]
    },
    {
     "ename": "ValueError",
     "evalue": "Buffer dtype mismatch, expected 'float' but got 'double'",
     "output_type": "error",
     "traceback": [
      "\u001b[0;31m--------------------------------\u001b[0m",
      "\u001b[0;31mValueError\u001b[0mTraceback (most recent call last)",
      "\u001b[0;31mValueError\u001b[0m: Buffer dtype mismatch, expected 'float' but got 'double'"
     ]
    },
    {
     "name": "stderr",
     "output_type": "stream",
     "text": [
      "Exception ignored in: 'mdtraj.geometry._geometry.image_frame'\n",
      "Traceback (most recent call last):\n",
      "  File \"/home/zhangi/miniconda3/envs/perses-rest2v2/lib/python3.8/site-packages/mdtraj/core/trajectory.py\", line 2005, in image_molecules\n",
      "    _geometry.image_molecules(result.xyz, box, anchor_molecules_atom_indices, other_molecules_atom_indices, sorted_bonds)\n",
      "ValueError: Buffer dtype mismatch, expected 'float' but got 'double'\n"
     ]
    },
    {
     "ename": "ValueError",
     "evalue": "Buffer dtype mismatch, expected 'float' but got 'double'",
     "output_type": "error",
     "traceback": [
      "\u001b[0;31m--------------------------------\u001b[0m",
      "\u001b[0;31mValueError\u001b[0mTraceback (most recent call last)",
      "\u001b[0;31mValueError\u001b[0m: Buffer dtype mismatch, expected 'float' but got 'double'"
     ]
    },
    {
     "name": "stderr",
     "output_type": "stream",
     "text": [
      "Exception ignored in: 'mdtraj.geometry._geometry.image_frame'\n",
      "Traceback (most recent call last):\n",
      "  File \"/home/zhangi/miniconda3/envs/perses-rest2v2/lib/python3.8/site-packages/mdtraj/core/trajectory.py\", line 2005, in image_molecules\n",
      "    _geometry.image_molecules(result.xyz, box, anchor_molecules_atom_indices, other_molecules_atom_indices, sorted_bonds)\n",
      "ValueError: Buffer dtype mismatch, expected 'float' but got 'double'\n"
     ]
    },
    {
     "ename": "ValueError",
     "evalue": "Buffer dtype mismatch, expected 'float' but got 'double'",
     "output_type": "error",
     "traceback": [
      "\u001b[0;31m--------------------------------\u001b[0m",
      "\u001b[0;31mValueError\u001b[0mTraceback (most recent call last)",
      "\u001b[0;31mValueError\u001b[0m: Buffer dtype mismatch, expected 'float' but got 'double'"
     ]
    },
    {
     "name": "stderr",
     "output_type": "stream",
     "text": [
      "Exception ignored in: 'mdtraj.geometry._geometry.image_frame'\n",
      "Traceback (most recent call last):\n",
      "  File \"/home/zhangi/miniconda3/envs/perses-rest2v2/lib/python3.8/site-packages/mdtraj/core/trajectory.py\", line 2005, in image_molecules\n",
      "    _geometry.image_molecules(result.xyz, box, anchor_molecules_atom_indices, other_molecules_atom_indices, sorted_bonds)\n",
      "ValueError: Buffer dtype mismatch, expected 'float' but got 'double'\n"
     ]
    },
    {
     "ename": "ValueError",
     "evalue": "Buffer dtype mismatch, expected 'float' but got 'double'",
     "output_type": "error",
     "traceback": [
      "\u001b[0;31m--------------------------------\u001b[0m",
      "\u001b[0;31mValueError\u001b[0mTraceback (most recent call last)",
      "\u001b[0;31mValueError\u001b[0m: Buffer dtype mismatch, expected 'float' but got 'double'"
     ]
    },
    {
     "name": "stderr",
     "output_type": "stream",
     "text": [
      "Exception ignored in: 'mdtraj.geometry._geometry.image_frame'\n",
      "Traceback (most recent call last):\n",
      "  File \"/home/zhangi/miniconda3/envs/perses-rest2v2/lib/python3.8/site-packages/mdtraj/core/trajectory.py\", line 2005, in image_molecules\n",
      "    _geometry.image_molecules(result.xyz, box, anchor_molecules_atom_indices, other_molecules_atom_indices, sorted_bonds)\n",
      "ValueError: Buffer dtype mismatch, expected 'float' but got 'double'\n"
     ]
    },
    {
     "ename": "ValueError",
     "evalue": "Buffer dtype mismatch, expected 'float' but got 'double'",
     "output_type": "error",
     "traceback": [
      "\u001b[0;31m--------------------------------\u001b[0m",
      "\u001b[0;31mValueError\u001b[0mTraceback (most recent call last)",
      "\u001b[0;31mValueError\u001b[0m: Buffer dtype mismatch, expected 'float' but got 'double'"
     ]
    },
    {
     "name": "stderr",
     "output_type": "stream",
     "text": [
      "Exception ignored in: 'mdtraj.geometry._geometry.image_frame'\n",
      "Traceback (most recent call last):\n",
      "  File \"/home/zhangi/miniconda3/envs/perses-rest2v2/lib/python3.8/site-packages/mdtraj/core/trajectory.py\", line 2005, in image_molecules\n",
      "    _geometry.image_molecules(result.xyz, box, anchor_molecules_atom_indices, other_molecules_atom_indices, sorted_bonds)\n",
      "ValueError: Buffer dtype mismatch, expected 'float' but got 'double'\n"
     ]
    },
    {
     "ename": "ValueError",
     "evalue": "Buffer dtype mismatch, expected 'float' but got 'double'",
     "output_type": "error",
     "traceback": [
      "\u001b[0;31m--------------------------------\u001b[0m",
      "\u001b[0;31mValueError\u001b[0mTraceback (most recent call last)",
      "\u001b[0;31mValueError\u001b[0m: Buffer dtype mismatch, expected 'float' but got 'double'"
     ]
    },
    {
     "name": "stderr",
     "output_type": "stream",
     "text": [
      "Exception ignored in: 'mdtraj.geometry._geometry.image_frame'\n",
      "Traceback (most recent call last):\n",
      "  File \"/home/zhangi/miniconda3/envs/perses-rest2v2/lib/python3.8/site-packages/mdtraj/core/trajectory.py\", line 2005, in image_molecules\n",
      "    _geometry.image_molecules(result.xyz, box, anchor_molecules_atom_indices, other_molecules_atom_indices, sorted_bonds)\n",
      "ValueError: Buffer dtype mismatch, expected 'float' but got 'double'\n"
     ]
    },
    {
     "ename": "ValueError",
     "evalue": "Buffer dtype mismatch, expected 'float' but got 'double'",
     "output_type": "error",
     "traceback": [
      "\u001b[0;31m--------------------------------\u001b[0m",
      "\u001b[0;31mValueError\u001b[0mTraceback (most recent call last)",
      "\u001b[0;31mValueError\u001b[0m: Buffer dtype mismatch, expected 'float' but got 'double'"
     ]
    },
    {
     "name": "stderr",
     "output_type": "stream",
     "text": [
      "Exception ignored in: 'mdtraj.geometry._geometry.image_frame'\n",
      "Traceback (most recent call last):\n",
      "  File \"/home/zhangi/miniconda3/envs/perses-rest2v2/lib/python3.8/site-packages/mdtraj/core/trajectory.py\", line 2005, in image_molecules\n",
      "    _geometry.image_molecules(result.xyz, box, anchor_molecules_atom_indices, other_molecules_atom_indices, sorted_bonds)\n",
      "ValueError: Buffer dtype mismatch, expected 'float' but got 'double'\n"
     ]
    },
    {
     "ename": "ValueError",
     "evalue": "Buffer dtype mismatch, expected 'float' but got 'double'",
     "output_type": "error",
     "traceback": [
      "\u001b[0;31m--------------------------------\u001b[0m",
      "\u001b[0;31mValueError\u001b[0mTraceback (most recent call last)",
      "\u001b[0;31mValueError\u001b[0m: Buffer dtype mismatch, expected 'float' but got 'double'"
     ]
    },
    {
     "name": "stderr",
     "output_type": "stream",
     "text": [
      "Exception ignored in: 'mdtraj.geometry._geometry.image_frame'\n",
      "Traceback (most recent call last):\n",
      "  File \"/home/zhangi/miniconda3/envs/perses-rest2v2/lib/python3.8/site-packages/mdtraj/core/trajectory.py\", line 2005, in image_molecules\n",
      "    _geometry.image_molecules(result.xyz, box, anchor_molecules_atom_indices, other_molecules_atom_indices, sorted_bonds)\n",
      "ValueError: Buffer dtype mismatch, expected 'float' but got 'double'\n"
     ]
    },
    {
     "ename": "ValueError",
     "evalue": "Buffer dtype mismatch, expected 'float' but got 'double'",
     "output_type": "error",
     "traceback": [
      "\u001b[0;31m--------------------------------\u001b[0m",
      "\u001b[0;31mValueError\u001b[0mTraceback (most recent call last)",
      "\u001b[0;31mValueError\u001b[0m: Buffer dtype mismatch, expected 'float' but got 'double'"
     ]
    },
    {
     "name": "stderr",
     "output_type": "stream",
     "text": [
      "Exception ignored in: 'mdtraj.geometry._geometry.image_frame'\n",
      "Traceback (most recent call last):\n",
      "  File \"/home/zhangi/miniconda3/envs/perses-rest2v2/lib/python3.8/site-packages/mdtraj/core/trajectory.py\", line 2005, in image_molecules\n",
      "    _geometry.image_molecules(result.xyz, box, anchor_molecules_atom_indices, other_molecules_atom_indices, sorted_bonds)\n",
      "ValueError: Buffer dtype mismatch, expected 'float' but got 'double'\n"
     ]
    },
    {
     "ename": "ValueError",
     "evalue": "Buffer dtype mismatch, expected 'float' but got 'double'",
     "output_type": "error",
     "traceback": [
      "\u001b[0;31m--------------------------------\u001b[0m",
      "\u001b[0;31mValueError\u001b[0mTraceback (most recent call last)",
      "\u001b[0;31mValueError\u001b[0m: Buffer dtype mismatch, expected 'float' but got 'double'"
     ]
    },
    {
     "name": "stderr",
     "output_type": "stream",
     "text": [
      "Exception ignored in: 'mdtraj.geometry._geometry.image_frame'\n",
      "Traceback (most recent call last):\n",
      "  File \"/home/zhangi/miniconda3/envs/perses-rest2v2/lib/python3.8/site-packages/mdtraj/core/trajectory.py\", line 2005, in image_molecules\n",
      "    _geometry.image_molecules(result.xyz, box, anchor_molecules_atom_indices, other_molecules_atom_indices, sorted_bonds)\n",
      "ValueError: Buffer dtype mismatch, expected 'float' but got 'double'\n"
     ]
    },
    {
     "ename": "ValueError",
     "evalue": "Buffer dtype mismatch, expected 'float' but got 'double'",
     "output_type": "error",
     "traceback": [
      "\u001b[0;31m--------------------------------\u001b[0m",
      "\u001b[0;31mValueError\u001b[0mTraceback (most recent call last)",
      "\u001b[0;31mValueError\u001b[0m: Buffer dtype mismatch, expected 'float' but got 'double'"
     ]
    },
    {
     "name": "stderr",
     "output_type": "stream",
     "text": [
      "Exception ignored in: 'mdtraj.geometry._geometry.image_frame'\n",
      "Traceback (most recent call last):\n",
      "  File \"/home/zhangi/miniconda3/envs/perses-rest2v2/lib/python3.8/site-packages/mdtraj/core/trajectory.py\", line 2005, in image_molecules\n",
      "    _geometry.image_molecules(result.xyz, box, anchor_molecules_atom_indices, other_molecules_atom_indices, sorted_bonds)\n",
      "ValueError: Buffer dtype mismatch, expected 'float' but got 'double'\n"
     ]
    },
    {
     "ename": "ValueError",
     "evalue": "Buffer dtype mismatch, expected 'float' but got 'double'",
     "output_type": "error",
     "traceback": [
      "\u001b[0;31m--------------------------------\u001b[0m",
      "\u001b[0;31mValueError\u001b[0mTraceback (most recent call last)",
      "\u001b[0;31mValueError\u001b[0m: Buffer dtype mismatch, expected 'float' but got 'double'"
     ]
    },
    {
     "name": "stderr",
     "output_type": "stream",
     "text": [
      "Exception ignored in: 'mdtraj.geometry._geometry.image_frame'\n",
      "Traceback (most recent call last):\n",
      "  File \"/home/zhangi/miniconda3/envs/perses-rest2v2/lib/python3.8/site-packages/mdtraj/core/trajectory.py\", line 2005, in image_molecules\n",
      "    _geometry.image_molecules(result.xyz, box, anchor_molecules_atom_indices, other_molecules_atom_indices, sorted_bonds)\n",
      "ValueError: Buffer dtype mismatch, expected 'float' but got 'double'\n"
     ]
    },
    {
     "ename": "ValueError",
     "evalue": "Buffer dtype mismatch, expected 'float' but got 'double'",
     "output_type": "error",
     "traceback": [
      "\u001b[0;31m--------------------------------\u001b[0m",
      "\u001b[0;31mValueError\u001b[0mTraceback (most recent call last)",
      "\u001b[0;31mValueError\u001b[0m: Buffer dtype mismatch, expected 'float' but got 'double'"
     ]
    },
    {
     "name": "stderr",
     "output_type": "stream",
     "text": [
      "Exception ignored in: 'mdtraj.geometry._geometry.image_frame'\n",
      "Traceback (most recent call last):\n",
      "  File \"/home/zhangi/miniconda3/envs/perses-rest2v2/lib/python3.8/site-packages/mdtraj/core/trajectory.py\", line 2005, in image_molecules\n",
      "    _geometry.image_molecules(result.xyz, box, anchor_molecules_atom_indices, other_molecules_atom_indices, sorted_bonds)\n",
      "ValueError: Buffer dtype mismatch, expected 'float' but got 'double'\n"
     ]
    },
    {
     "ename": "ValueError",
     "evalue": "Buffer dtype mismatch, expected 'float' but got 'double'",
     "output_type": "error",
     "traceback": [
      "\u001b[0;31m--------------------------------\u001b[0m",
      "\u001b[0;31mValueError\u001b[0mTraceback (most recent call last)",
      "\u001b[0;31mValueError\u001b[0m: Buffer dtype mismatch, expected 'float' but got 'double'"
     ]
    },
    {
     "name": "stderr",
     "output_type": "stream",
     "text": [
      "Exception ignored in: 'mdtraj.geometry._geometry.image_frame'\n",
      "Traceback (most recent call last):\n",
      "  File \"/home/zhangi/miniconda3/envs/perses-rest2v2/lib/python3.8/site-packages/mdtraj/core/trajectory.py\", line 2005, in image_molecules\n",
      "    _geometry.image_molecules(result.xyz, box, anchor_molecules_atom_indices, other_molecules_atom_indices, sorted_bonds)\n",
      "ValueError: Buffer dtype mismatch, expected 'float' but got 'double'\n"
     ]
    },
    {
     "ename": "ValueError",
     "evalue": "Buffer dtype mismatch, expected 'float' but got 'double'",
     "output_type": "error",
     "traceback": [
      "\u001b[0;31m--------------------------------\u001b[0m",
      "\u001b[0;31mValueError\u001b[0mTraceback (most recent call last)",
      "\u001b[0;31mValueError\u001b[0m: Buffer dtype mismatch, expected 'float' but got 'double'"
     ]
    },
    {
     "name": "stderr",
     "output_type": "stream",
     "text": [
      "Exception ignored in: 'mdtraj.geometry._geometry.image_frame'\n",
      "Traceback (most recent call last):\n",
      "  File \"/home/zhangi/miniconda3/envs/perses-rest2v2/lib/python3.8/site-packages/mdtraj/core/trajectory.py\", line 2005, in image_molecules\n",
      "    _geometry.image_molecules(result.xyz, box, anchor_molecules_atom_indices, other_molecules_atom_indices, sorted_bonds)\n",
      "ValueError: Buffer dtype mismatch, expected 'float' but got 'double'\n"
     ]
    },
    {
     "ename": "ValueError",
     "evalue": "Buffer dtype mismatch, expected 'float' but got 'double'",
     "output_type": "error",
     "traceback": [
      "\u001b[0;31m--------------------------------\u001b[0m",
      "\u001b[0;31mValueError\u001b[0mTraceback (most recent call last)",
      "\u001b[0;31mValueError\u001b[0m: Buffer dtype mismatch, expected 'float' but got 'double'"
     ]
    },
    {
     "name": "stderr",
     "output_type": "stream",
     "text": [
      "Exception ignored in: 'mdtraj.geometry._geometry.image_frame'\n",
      "Traceback (most recent call last):\n",
      "  File \"/home/zhangi/miniconda3/envs/perses-rest2v2/lib/python3.8/site-packages/mdtraj/core/trajectory.py\", line 2005, in image_molecules\n",
      "    _geometry.image_molecules(result.xyz, box, anchor_molecules_atom_indices, other_molecules_atom_indices, sorted_bonds)\n",
      "ValueError: Buffer dtype mismatch, expected 'float' but got 'double'\n"
     ]
    },
    {
     "ename": "ValueError",
     "evalue": "Buffer dtype mismatch, expected 'float' but got 'double'",
     "output_type": "error",
     "traceback": [
      "\u001b[0;31m--------------------------------\u001b[0m",
      "\u001b[0;31mValueError\u001b[0mTraceback (most recent call last)",
      "\u001b[0;31mValueError\u001b[0m: Buffer dtype mismatch, expected 'float' but got 'double'"
     ]
    },
    {
     "name": "stderr",
     "output_type": "stream",
     "text": [
      "Exception ignored in: 'mdtraj.geometry._geometry.image_frame'\n",
      "Traceback (most recent call last):\n",
      "  File \"/home/zhangi/miniconda3/envs/perses-rest2v2/lib/python3.8/site-packages/mdtraj/core/trajectory.py\", line 2005, in image_molecules\n",
      "    _geometry.image_molecules(result.xyz, box, anchor_molecules_atom_indices, other_molecules_atom_indices, sorted_bonds)\n",
      "ValueError: Buffer dtype mismatch, expected 'float' but got 'double'\n"
     ]
    },
    {
     "ename": "ValueError",
     "evalue": "Buffer dtype mismatch, expected 'float' but got 'double'",
     "output_type": "error",
     "traceback": [
      "\u001b[0;31m--------------------------------\u001b[0m",
      "\u001b[0;31mValueError\u001b[0mTraceback (most recent call last)",
      "\u001b[0;31mValueError\u001b[0m: Buffer dtype mismatch, expected 'float' but got 'double'"
     ]
    },
    {
     "name": "stderr",
     "output_type": "stream",
     "text": [
      "Exception ignored in: 'mdtraj.geometry._geometry.image_frame'\n",
      "Traceback (most recent call last):\n",
      "  File \"/home/zhangi/miniconda3/envs/perses-rest2v2/lib/python3.8/site-packages/mdtraj/core/trajectory.py\", line 2005, in image_molecules\n",
      "    _geometry.image_molecules(result.xyz, box, anchor_molecules_atom_indices, other_molecules_atom_indices, sorted_bonds)\n",
      "ValueError: Buffer dtype mismatch, expected 'float' but got 'double'\n"
     ]
    },
    {
     "ename": "ValueError",
     "evalue": "Buffer dtype mismatch, expected 'float' but got 'double'",
     "output_type": "error",
     "traceback": [
      "\u001b[0;31m--------------------------------\u001b[0m",
      "\u001b[0;31mValueError\u001b[0mTraceback (most recent call last)",
      "\u001b[0;31mValueError\u001b[0m: Buffer dtype mismatch, expected 'float' but got 'double'"
     ]
    },
    {
     "name": "stderr",
     "output_type": "stream",
     "text": [
      "Exception ignored in: 'mdtraj.geometry._geometry.image_frame'\n",
      "Traceback (most recent call last):\n",
      "  File \"/home/zhangi/miniconda3/envs/perses-rest2v2/lib/python3.8/site-packages/mdtraj/core/trajectory.py\", line 2005, in image_molecules\n",
      "    _geometry.image_molecules(result.xyz, box, anchor_molecules_atom_indices, other_molecules_atom_indices, sorted_bonds)\n",
      "ValueError: Buffer dtype mismatch, expected 'float' but got 'double'\n"
     ]
    },
    {
     "ename": "ValueError",
     "evalue": "Buffer dtype mismatch, expected 'float' but got 'double'",
     "output_type": "error",
     "traceback": [
      "\u001b[0;31m--------------------------------\u001b[0m",
      "\u001b[0;31mValueError\u001b[0mTraceback (most recent call last)",
      "\u001b[0;31mValueError\u001b[0m: Buffer dtype mismatch, expected 'float' but got 'double'"
     ]
    },
    {
     "name": "stderr",
     "output_type": "stream",
     "text": [
      "Exception ignored in: 'mdtraj.geometry._geometry.image_frame'\n",
      "Traceback (most recent call last):\n",
      "  File \"/home/zhangi/miniconda3/envs/perses-rest2v2/lib/python3.8/site-packages/mdtraj/core/trajectory.py\", line 2005, in image_molecules\n",
      "    _geometry.image_molecules(result.xyz, box, anchor_molecules_atom_indices, other_molecules_atom_indices, sorted_bonds)\n",
      "ValueError: Buffer dtype mismatch, expected 'float' but got 'double'\n"
     ]
    },
    {
     "ename": "ValueError",
     "evalue": "Buffer dtype mismatch, expected 'float' but got 'double'",
     "output_type": "error",
     "traceback": [
      "\u001b[0;31m--------------------------------\u001b[0m",
      "\u001b[0;31mValueError\u001b[0mTraceback (most recent call last)",
      "\u001b[0;31mValueError\u001b[0m: Buffer dtype mismatch, expected 'float' but got 'double'"
     ]
    },
    {
     "name": "stderr",
     "output_type": "stream",
     "text": [
      "Exception ignored in: 'mdtraj.geometry._geometry.image_frame'\n",
      "Traceback (most recent call last):\n",
      "  File \"/home/zhangi/miniconda3/envs/perses-rest2v2/lib/python3.8/site-packages/mdtraj/core/trajectory.py\", line 2005, in image_molecules\n",
      "    _geometry.image_molecules(result.xyz, box, anchor_molecules_atom_indices, other_molecules_atom_indices, sorted_bonds)\n",
      "ValueError: Buffer dtype mismatch, expected 'float' but got 'double'\n"
     ]
    },
    {
     "ename": "ValueError",
     "evalue": "Buffer dtype mismatch, expected 'float' but got 'double'",
     "output_type": "error",
     "traceback": [
      "\u001b[0;31m--------------------------------\u001b[0m",
      "\u001b[0;31mValueError\u001b[0mTraceback (most recent call last)",
      "\u001b[0;31mValueError\u001b[0m: Buffer dtype mismatch, expected 'float' but got 'double'"
     ]
    },
    {
     "name": "stderr",
     "output_type": "stream",
     "text": [
      "Exception ignored in: 'mdtraj.geometry._geometry.image_frame'\n",
      "Traceback (most recent call last):\n",
      "  File \"/home/zhangi/miniconda3/envs/perses-rest2v2/lib/python3.8/site-packages/mdtraj/core/trajectory.py\", line 2005, in image_molecules\n",
      "    _geometry.image_molecules(result.xyz, box, anchor_molecules_atom_indices, other_molecules_atom_indices, sorted_bonds)\n",
      "ValueError: Buffer dtype mismatch, expected 'float' but got 'double'\n"
     ]
    },
    {
     "ename": "ValueError",
     "evalue": "Buffer dtype mismatch, expected 'float' but got 'double'",
     "output_type": "error",
     "traceback": [
      "\u001b[0;31m--------------------------------\u001b[0m",
      "\u001b[0;31mValueError\u001b[0mTraceback (most recent call last)",
      "\u001b[0;31mValueError\u001b[0m: Buffer dtype mismatch, expected 'float' but got 'double'"
     ]
    },
    {
     "name": "stderr",
     "output_type": "stream",
     "text": [
      "Exception ignored in: 'mdtraj.geometry._geometry.image_frame'\n",
      "Traceback (most recent call last):\n",
      "  File \"/home/zhangi/miniconda3/envs/perses-rest2v2/lib/python3.8/site-packages/mdtraj/core/trajectory.py\", line 2005, in image_molecules\n",
      "    _geometry.image_molecules(result.xyz, box, anchor_molecules_atom_indices, other_molecules_atom_indices, sorted_bonds)\n",
      "ValueError: Buffer dtype mismatch, expected 'float' but got 'double'\n"
     ]
    },
    {
     "ename": "ValueError",
     "evalue": "Buffer dtype mismatch, expected 'float' but got 'double'",
     "output_type": "error",
     "traceback": [
      "\u001b[0;31m--------------------------------\u001b[0m",
      "\u001b[0;31mValueError\u001b[0mTraceback (most recent call last)",
      "\u001b[0;31mValueError\u001b[0m: Buffer dtype mismatch, expected 'float' but got 'double'"
     ]
    },
    {
     "name": "stderr",
     "output_type": "stream",
     "text": [
      "Exception ignored in: 'mdtraj.geometry._geometry.image_frame'\n",
      "Traceback (most recent call last):\n",
      "  File \"/home/zhangi/miniconda3/envs/perses-rest2v2/lib/python3.8/site-packages/mdtraj/core/trajectory.py\", line 2005, in image_molecules\n",
      "    _geometry.image_molecules(result.xyz, box, anchor_molecules_atom_indices, other_molecules_atom_indices, sorted_bonds)\n",
      "ValueError: Buffer dtype mismatch, expected 'float' but got 'double'\n"
     ]
    },
    {
     "ename": "ValueError",
     "evalue": "Buffer dtype mismatch, expected 'float' but got 'double'",
     "output_type": "error",
     "traceback": [
      "\u001b[0;31m--------------------------------\u001b[0m",
      "\u001b[0;31mValueError\u001b[0mTraceback (most recent call last)",
      "\u001b[0;31mValueError\u001b[0m: Buffer dtype mismatch, expected 'float' but got 'double'"
     ]
    },
    {
     "name": "stderr",
     "output_type": "stream",
     "text": [
      "Exception ignored in: 'mdtraj.geometry._geometry.image_frame'\n",
      "Traceback (most recent call last):\n",
      "  File \"/home/zhangi/miniconda3/envs/perses-rest2v2/lib/python3.8/site-packages/mdtraj/core/trajectory.py\", line 2005, in image_molecules\n",
      "    _geometry.image_molecules(result.xyz, box, anchor_molecules_atom_indices, other_molecules_atom_indices, sorted_bonds)\n",
      "ValueError: Buffer dtype mismatch, expected 'float' but got 'double'\n"
     ]
    },
    {
     "ename": "ValueError",
     "evalue": "Buffer dtype mismatch, expected 'float' but got 'double'",
     "output_type": "error",
     "traceback": [
      "\u001b[0;31m--------------------------------\u001b[0m",
      "\u001b[0;31mValueError\u001b[0mTraceback (most recent call last)",
      "\u001b[0;31mValueError\u001b[0m: Buffer dtype mismatch, expected 'float' but got 'double'"
     ]
    },
    {
     "name": "stderr",
     "output_type": "stream",
     "text": [
      "Exception ignored in: 'mdtraj.geometry._geometry.image_frame'\n",
      "Traceback (most recent call last):\n",
      "  File \"/home/zhangi/miniconda3/envs/perses-rest2v2/lib/python3.8/site-packages/mdtraj/core/trajectory.py\", line 2005, in image_molecules\n",
      "    _geometry.image_molecules(result.xyz, box, anchor_molecules_atom_indices, other_molecules_atom_indices, sorted_bonds)\n",
      "ValueError: Buffer dtype mismatch, expected 'float' but got 'double'\n"
     ]
    },
    {
     "ename": "ValueError",
     "evalue": "Buffer dtype mismatch, expected 'float' but got 'double'",
     "output_type": "error",
     "traceback": [
      "\u001b[0;31m--------------------------------\u001b[0m",
      "\u001b[0;31mValueError\u001b[0mTraceback (most recent call last)",
      "\u001b[0;31mValueError\u001b[0m: Buffer dtype mismatch, expected 'float' but got 'double'"
     ]
    },
    {
     "name": "stderr",
     "output_type": "stream",
     "text": [
      "Exception ignored in: 'mdtraj.geometry._geometry.image_frame'\n",
      "Traceback (most recent call last):\n",
      "  File \"/home/zhangi/miniconda3/envs/perses-rest2v2/lib/python3.8/site-packages/mdtraj/core/trajectory.py\", line 2005, in image_molecules\n",
      "    _geometry.image_molecules(result.xyz, box, anchor_molecules_atom_indices, other_molecules_atom_indices, sorted_bonds)\n",
      "ValueError: Buffer dtype mismatch, expected 'float' but got 'double'\n"
     ]
    },
    {
     "ename": "ValueError",
     "evalue": "Buffer dtype mismatch, expected 'float' but got 'double'",
     "output_type": "error",
     "traceback": [
      "\u001b[0;31m--------------------------------\u001b[0m",
      "\u001b[0;31mValueError\u001b[0mTraceback (most recent call last)",
      "\u001b[0;31mValueError\u001b[0m: Buffer dtype mismatch, expected 'float' but got 'double'"
     ]
    },
    {
     "name": "stderr",
     "output_type": "stream",
     "text": [
      "Exception ignored in: 'mdtraj.geometry._geometry.image_frame'\n",
      "Traceback (most recent call last):\n",
      "  File \"/home/zhangi/miniconda3/envs/perses-rest2v2/lib/python3.8/site-packages/mdtraj/core/trajectory.py\", line 2005, in image_molecules\n",
      "    _geometry.image_molecules(result.xyz, box, anchor_molecules_atom_indices, other_molecules_atom_indices, sorted_bonds)\n",
      "ValueError: Buffer dtype mismatch, expected 'float' but got 'double'\n"
     ]
    },
    {
     "ename": "ValueError",
     "evalue": "Buffer dtype mismatch, expected 'float' but got 'double'",
     "output_type": "error",
     "traceback": [
      "\u001b[0;31m--------------------------------\u001b[0m",
      "\u001b[0;31mValueError\u001b[0mTraceback (most recent call last)",
      "\u001b[0;31mValueError\u001b[0m: Buffer dtype mismatch, expected 'float' but got 'double'"
     ]
    },
    {
     "name": "stderr",
     "output_type": "stream",
     "text": [
      "Exception ignored in: 'mdtraj.geometry._geometry.image_frame'\n",
      "Traceback (most recent call last):\n",
      "  File \"/home/zhangi/miniconda3/envs/perses-rest2v2/lib/python3.8/site-packages/mdtraj/core/trajectory.py\", line 2005, in image_molecules\n",
      "    _geometry.image_molecules(result.xyz, box, anchor_molecules_atom_indices, other_molecules_atom_indices, sorted_bonds)\n",
      "ValueError: Buffer dtype mismatch, expected 'float' but got 'double'\n"
     ]
    },
    {
     "ename": "ValueError",
     "evalue": "Buffer dtype mismatch, expected 'float' but got 'double'",
     "output_type": "error",
     "traceback": [
      "\u001b[0;31m--------------------------------\u001b[0m",
      "\u001b[0;31mValueError\u001b[0mTraceback (most recent call last)",
      "\u001b[0;31mValueError\u001b[0m: Buffer dtype mismatch, expected 'float' but got 'double'"
     ]
    },
    {
     "name": "stderr",
     "output_type": "stream",
     "text": [
      "Exception ignored in: 'mdtraj.geometry._geometry.image_frame'\n",
      "Traceback (most recent call last):\n",
      "  File \"/home/zhangi/miniconda3/envs/perses-rest2v2/lib/python3.8/site-packages/mdtraj/core/trajectory.py\", line 2005, in image_molecules\n",
      "    _geometry.image_molecules(result.xyz, box, anchor_molecules_atom_indices, other_molecules_atom_indices, sorted_bonds)\n",
      "ValueError: Buffer dtype mismatch, expected 'float' but got 'double'\n"
     ]
    },
    {
     "ename": "ValueError",
     "evalue": "Buffer dtype mismatch, expected 'float' but got 'double'",
     "output_type": "error",
     "traceback": [
      "\u001b[0;31m--------------------------------\u001b[0m",
      "\u001b[0;31mValueError\u001b[0mTraceback (most recent call last)",
      "\u001b[0;31mValueError\u001b[0m: Buffer dtype mismatch, expected 'float' but got 'double'"
     ]
    },
    {
     "name": "stderr",
     "output_type": "stream",
     "text": [
      "Exception ignored in: 'mdtraj.geometry._geometry.image_frame'\n",
      "Traceback (most recent call last):\n",
      "  File \"/home/zhangi/miniconda3/envs/perses-rest2v2/lib/python3.8/site-packages/mdtraj/core/trajectory.py\", line 2005, in image_molecules\n",
      "    _geometry.image_molecules(result.xyz, box, anchor_molecules_atom_indices, other_molecules_atom_indices, sorted_bonds)\n",
      "ValueError: Buffer dtype mismatch, expected 'float' but got 'double'\n"
     ]
    },
    {
     "ename": "ValueError",
     "evalue": "Buffer dtype mismatch, expected 'float' but got 'double'",
     "output_type": "error",
     "traceback": [
      "\u001b[0;31m--------------------------------\u001b[0m",
      "\u001b[0;31mValueError\u001b[0mTraceback (most recent call last)",
      "\u001b[0;31mValueError\u001b[0m: Buffer dtype mismatch, expected 'float' but got 'double'"
     ]
    },
    {
     "name": "stderr",
     "output_type": "stream",
     "text": [
      "Exception ignored in: 'mdtraj.geometry._geometry.image_frame'\n",
      "Traceback (most recent call last):\n",
      "  File \"/home/zhangi/miniconda3/envs/perses-rest2v2/lib/python3.8/site-packages/mdtraj/core/trajectory.py\", line 2005, in image_molecules\n",
      "    _geometry.image_molecules(result.xyz, box, anchor_molecules_atom_indices, other_molecules_atom_indices, sorted_bonds)\n",
      "ValueError: Buffer dtype mismatch, expected 'float' but got 'double'\n"
     ]
    },
    {
     "ename": "ValueError",
     "evalue": "Buffer dtype mismatch, expected 'float' but got 'double'",
     "output_type": "error",
     "traceback": [
      "\u001b[0;31m--------------------------------\u001b[0m",
      "\u001b[0;31mValueError\u001b[0mTraceback (most recent call last)",
      "\u001b[0;31mValueError\u001b[0m: Buffer dtype mismatch, expected 'float' but got 'double'"
     ]
    },
    {
     "name": "stderr",
     "output_type": "stream",
     "text": [
      "Exception ignored in: 'mdtraj.geometry._geometry.image_frame'\n",
      "Traceback (most recent call last):\n",
      "  File \"/home/zhangi/miniconda3/envs/perses-rest2v2/lib/python3.8/site-packages/mdtraj/core/trajectory.py\", line 2005, in image_molecules\n",
      "    _geometry.image_molecules(result.xyz, box, anchor_molecules_atom_indices, other_molecules_atom_indices, sorted_bonds)\n",
      "ValueError: Buffer dtype mismatch, expected 'float' but got 'double'\n"
     ]
    },
    {
     "ename": "ValueError",
     "evalue": "Buffer dtype mismatch, expected 'float' but got 'double'",
     "output_type": "error",
     "traceback": [
      "\u001b[0;31m--------------------------------\u001b[0m",
      "\u001b[0;31mValueError\u001b[0mTraceback (most recent call last)",
      "\u001b[0;31mValueError\u001b[0m: Buffer dtype mismatch, expected 'float' but got 'double'"
     ]
    },
    {
     "name": "stderr",
     "output_type": "stream",
     "text": [
      "Exception ignored in: 'mdtraj.geometry._geometry.image_frame'\n",
      "Traceback (most recent call last):\n",
      "  File \"/home/zhangi/miniconda3/envs/perses-rest2v2/lib/python3.8/site-packages/mdtraj/core/trajectory.py\", line 2005, in image_molecules\n",
      "    _geometry.image_molecules(result.xyz, box, anchor_molecules_atom_indices, other_molecules_atom_indices, sorted_bonds)\n",
      "ValueError: Buffer dtype mismatch, expected 'float' but got 'double'\n"
     ]
    },
    {
     "ename": "ValueError",
     "evalue": "Buffer dtype mismatch, expected 'float' but got 'double'",
     "output_type": "error",
     "traceback": [
      "\u001b[0;31m--------------------------------\u001b[0m",
      "\u001b[0;31mValueError\u001b[0mTraceback (most recent call last)",
      "\u001b[0;31mValueError\u001b[0m: Buffer dtype mismatch, expected 'float' but got 'double'"
     ]
    },
    {
     "name": "stderr",
     "output_type": "stream",
     "text": [
      "Exception ignored in: 'mdtraj.geometry._geometry.image_frame'\n",
      "Traceback (most recent call last):\n",
      "  File \"/home/zhangi/miniconda3/envs/perses-rest2v2/lib/python3.8/site-packages/mdtraj/core/trajectory.py\", line 2005, in image_molecules\n",
      "    _geometry.image_molecules(result.xyz, box, anchor_molecules_atom_indices, other_molecules_atom_indices, sorted_bonds)\n",
      "ValueError: Buffer dtype mismatch, expected 'float' but got 'double'\n"
     ]
    },
    {
     "ename": "ValueError",
     "evalue": "Buffer dtype mismatch, expected 'float' but got 'double'",
     "output_type": "error",
     "traceback": [
      "\u001b[0;31m--------------------------------\u001b[0m",
      "\u001b[0;31mValueError\u001b[0mTraceback (most recent call last)",
      "\u001b[0;31mValueError\u001b[0m: Buffer dtype mismatch, expected 'float' but got 'double'"
     ]
    },
    {
     "name": "stderr",
     "output_type": "stream",
     "text": [
      "Exception ignored in: 'mdtraj.geometry._geometry.image_frame'\n",
      "Traceback (most recent call last):\n",
      "  File \"/home/zhangi/miniconda3/envs/perses-rest2v2/lib/python3.8/site-packages/mdtraj/core/trajectory.py\", line 2005, in image_molecules\n",
      "    _geometry.image_molecules(result.xyz, box, anchor_molecules_atom_indices, other_molecules_atom_indices, sorted_bonds)\n",
      "ValueError: Buffer dtype mismatch, expected 'float' but got 'double'\n"
     ]
    },
    {
     "ename": "ValueError",
     "evalue": "Buffer dtype mismatch, expected 'float' but got 'double'",
     "output_type": "error",
     "traceback": [
      "\u001b[0;31m--------------------------------\u001b[0m",
      "\u001b[0;31mValueError\u001b[0mTraceback (most recent call last)",
      "\u001b[0;31mValueError\u001b[0m: Buffer dtype mismatch, expected 'float' but got 'double'"
     ]
    },
    {
     "name": "stderr",
     "output_type": "stream",
     "text": [
      "Exception ignored in: 'mdtraj.geometry._geometry.image_frame'\n",
      "Traceback (most recent call last):\n",
      "  File \"/home/zhangi/miniconda3/envs/perses-rest2v2/lib/python3.8/site-packages/mdtraj/core/trajectory.py\", line 2005, in image_molecules\n",
      "    _geometry.image_molecules(result.xyz, box, anchor_molecules_atom_indices, other_molecules_atom_indices, sorted_bonds)\n",
      "ValueError: Buffer dtype mismatch, expected 'float' but got 'double'\n"
     ]
    },
    {
     "ename": "ValueError",
     "evalue": "Buffer dtype mismatch, expected 'float' but got 'double'",
     "output_type": "error",
     "traceback": [
      "\u001b[0;31m--------------------------------\u001b[0m",
      "\u001b[0;31mValueError\u001b[0mTraceback (most recent call last)",
      "\u001b[0;31mValueError\u001b[0m: Buffer dtype mismatch, expected 'float' but got 'double'"
     ]
    },
    {
     "name": "stderr",
     "output_type": "stream",
     "text": [
      "Exception ignored in: 'mdtraj.geometry._geometry.image_frame'\n",
      "Traceback (most recent call last):\n",
      "  File \"/home/zhangi/miniconda3/envs/perses-rest2v2/lib/python3.8/site-packages/mdtraj/core/trajectory.py\", line 2005, in image_molecules\n",
      "    _geometry.image_molecules(result.xyz, box, anchor_molecules_atom_indices, other_molecules_atom_indices, sorted_bonds)\n",
      "ValueError: Buffer dtype mismatch, expected 'float' but got 'double'\n"
     ]
    },
    {
     "ename": "ValueError",
     "evalue": "Buffer dtype mismatch, expected 'float' but got 'double'",
     "output_type": "error",
     "traceback": [
      "\u001b[0;31m--------------------------------\u001b[0m",
      "\u001b[0;31mValueError\u001b[0mTraceback (most recent call last)",
      "\u001b[0;31mValueError\u001b[0m: Buffer dtype mismatch, expected 'float' but got 'double'"
     ]
    },
    {
     "name": "stderr",
     "output_type": "stream",
     "text": [
      "Exception ignored in: 'mdtraj.geometry._geometry.image_frame'\n",
      "Traceback (most recent call last):\n",
      "  File \"/home/zhangi/miniconda3/envs/perses-rest2v2/lib/python3.8/site-packages/mdtraj/core/trajectory.py\", line 2005, in image_molecules\n",
      "    _geometry.image_molecules(result.xyz, box, anchor_molecules_atom_indices, other_molecules_atom_indices, sorted_bonds)\n",
      "ValueError: Buffer dtype mismatch, expected 'float' but got 'double'\n"
     ]
    },
    {
     "ename": "ValueError",
     "evalue": "Buffer dtype mismatch, expected 'float' but got 'double'",
     "output_type": "error",
     "traceback": [
      "\u001b[0;31m--------------------------------\u001b[0m",
      "\u001b[0;31mValueError\u001b[0mTraceback (most recent call last)",
      "\u001b[0;31mValueError\u001b[0m: Buffer dtype mismatch, expected 'float' but got 'double'"
     ]
    },
    {
     "name": "stderr",
     "output_type": "stream",
     "text": [
      "Exception ignored in: 'mdtraj.geometry._geometry.image_frame'\n",
      "Traceback (most recent call last):\n",
      "  File \"/home/zhangi/miniconda3/envs/perses-rest2v2/lib/python3.8/site-packages/mdtraj/core/trajectory.py\", line 2005, in image_molecules\n",
      "    _geometry.image_molecules(result.xyz, box, anchor_molecules_atom_indices, other_molecules_atom_indices, sorted_bonds)\n",
      "ValueError: Buffer dtype mismatch, expected 'float' but got 'double'\n"
     ]
    },
    {
     "ename": "ValueError",
     "evalue": "Buffer dtype mismatch, expected 'float' but got 'double'",
     "output_type": "error",
     "traceback": [
      "\u001b[0;31m--------------------------------\u001b[0m",
      "\u001b[0;31mValueError\u001b[0mTraceback (most recent call last)",
      "\u001b[0;31mValueError\u001b[0m: Buffer dtype mismatch, expected 'float' but got 'double'"
     ]
    },
    {
     "name": "stderr",
     "output_type": "stream",
     "text": [
      "Exception ignored in: 'mdtraj.geometry._geometry.image_frame'\n",
      "Traceback (most recent call last):\n",
      "  File \"/home/zhangi/miniconda3/envs/perses-rest2v2/lib/python3.8/site-packages/mdtraj/core/trajectory.py\", line 2005, in image_molecules\n",
      "    _geometry.image_molecules(result.xyz, box, anchor_molecules_atom_indices, other_molecules_atom_indices, sorted_bonds)\n",
      "ValueError: Buffer dtype mismatch, expected 'float' but got 'double'\n"
     ]
    },
    {
     "ename": "ValueError",
     "evalue": "Buffer dtype mismatch, expected 'float' but got 'double'",
     "output_type": "error",
     "traceback": [
      "\u001b[0;31m--------------------------------\u001b[0m",
      "\u001b[0;31mValueError\u001b[0mTraceback (most recent call last)",
      "\u001b[0;31mValueError\u001b[0m: Buffer dtype mismatch, expected 'float' but got 'double'"
     ]
    },
    {
     "name": "stderr",
     "output_type": "stream",
     "text": [
      "Exception ignored in: 'mdtraj.geometry._geometry.image_frame'\n",
      "Traceback (most recent call last):\n",
      "  File \"/home/zhangi/miniconda3/envs/perses-rest2v2/lib/python3.8/site-packages/mdtraj/core/trajectory.py\", line 2005, in image_molecules\n",
      "    _geometry.image_molecules(result.xyz, box, anchor_molecules_atom_indices, other_molecules_atom_indices, sorted_bonds)\n",
      "ValueError: Buffer dtype mismatch, expected 'float' but got 'double'\n"
     ]
    },
    {
     "ename": "ValueError",
     "evalue": "Buffer dtype mismatch, expected 'float' but got 'double'",
     "output_type": "error",
     "traceback": [
      "\u001b[0;31m--------------------------------\u001b[0m",
      "\u001b[0;31mValueError\u001b[0mTraceback (most recent call last)",
      "\u001b[0;31mValueError\u001b[0m: Buffer dtype mismatch, expected 'float' but got 'double'"
     ]
    },
    {
     "name": "stderr",
     "output_type": "stream",
     "text": [
      "Exception ignored in: 'mdtraj.geometry._geometry.image_frame'\n",
      "Traceback (most recent call last):\n",
      "  File \"/home/zhangi/miniconda3/envs/perses-rest2v2/lib/python3.8/site-packages/mdtraj/core/trajectory.py\", line 2005, in image_molecules\n",
      "    _geometry.image_molecules(result.xyz, box, anchor_molecules_atom_indices, other_molecules_atom_indices, sorted_bonds)\n",
      "ValueError: Buffer dtype mismatch, expected 'float' but got 'double'\n"
     ]
    },
    {
     "ename": "ValueError",
     "evalue": "Buffer dtype mismatch, expected 'float' but got 'double'",
     "output_type": "error",
     "traceback": [
      "\u001b[0;31m--------------------------------\u001b[0m",
      "\u001b[0;31mValueError\u001b[0mTraceback (most recent call last)",
      "\u001b[0;31mValueError\u001b[0m: Buffer dtype mismatch, expected 'float' but got 'double'"
     ]
    },
    {
     "name": "stderr",
     "output_type": "stream",
     "text": [
      "Exception ignored in: 'mdtraj.geometry._geometry.image_frame'\n",
      "Traceback (most recent call last):\n",
      "  File \"/home/zhangi/miniconda3/envs/perses-rest2v2/lib/python3.8/site-packages/mdtraj/core/trajectory.py\", line 2005, in image_molecules\n",
      "    _geometry.image_molecules(result.xyz, box, anchor_molecules_atom_indices, other_molecules_atom_indices, sorted_bonds)\n",
      "ValueError: Buffer dtype mismatch, expected 'float' but got 'double'\n"
     ]
    },
    {
     "ename": "ValueError",
     "evalue": "Buffer dtype mismatch, expected 'float' but got 'double'",
     "output_type": "error",
     "traceback": [
      "\u001b[0;31m--------------------------------\u001b[0m",
      "\u001b[0;31mValueError\u001b[0mTraceback (most recent call last)",
      "\u001b[0;31mValueError\u001b[0m: Buffer dtype mismatch, expected 'float' but got 'double'"
     ]
    },
    {
     "name": "stderr",
     "output_type": "stream",
     "text": [
      "Exception ignored in: 'mdtraj.geometry._geometry.image_frame'\n",
      "Traceback (most recent call last):\n",
      "  File \"/home/zhangi/miniconda3/envs/perses-rest2v2/lib/python3.8/site-packages/mdtraj/core/trajectory.py\", line 2005, in image_molecules\n",
      "    _geometry.image_molecules(result.xyz, box, anchor_molecules_atom_indices, other_molecules_atom_indices, sorted_bonds)\n",
      "ValueError: Buffer dtype mismatch, expected 'float' but got 'double'\n"
     ]
    },
    {
     "ename": "ValueError",
     "evalue": "Buffer dtype mismatch, expected 'float' but got 'double'",
     "output_type": "error",
     "traceback": [
      "\u001b[0;31m--------------------------------\u001b[0m",
      "\u001b[0;31mValueError\u001b[0mTraceback (most recent call last)",
      "\u001b[0;31mValueError\u001b[0m: Buffer dtype mismatch, expected 'float' but got 'double'"
     ]
    },
    {
     "name": "stderr",
     "output_type": "stream",
     "text": [
      "Exception ignored in: 'mdtraj.geometry._geometry.image_frame'\n",
      "Traceback (most recent call last):\n",
      "  File \"/home/zhangi/miniconda3/envs/perses-rest2v2/lib/python3.8/site-packages/mdtraj/core/trajectory.py\", line 2005, in image_molecules\n",
      "    _geometry.image_molecules(result.xyz, box, anchor_molecules_atom_indices, other_molecules_atom_indices, sorted_bonds)\n",
      "ValueError: Buffer dtype mismatch, expected 'float' but got 'double'\n"
     ]
    },
    {
     "ename": "ValueError",
     "evalue": "Buffer dtype mismatch, expected 'float' but got 'double'",
     "output_type": "error",
     "traceback": [
      "\u001b[0;31m--------------------------------\u001b[0m",
      "\u001b[0;31mValueError\u001b[0mTraceback (most recent call last)",
      "\u001b[0;31mValueError\u001b[0m: Buffer dtype mismatch, expected 'float' but got 'double'"
     ]
    },
    {
     "name": "stderr",
     "output_type": "stream",
     "text": [
      "Exception ignored in: 'mdtraj.geometry._geometry.image_frame'\n",
      "Traceback (most recent call last):\n",
      "  File \"/home/zhangi/miniconda3/envs/perses-rest2v2/lib/python3.8/site-packages/mdtraj/core/trajectory.py\", line 2005, in image_molecules\n",
      "    _geometry.image_molecules(result.xyz, box, anchor_molecules_atom_indices, other_molecules_atom_indices, sorted_bonds)\n",
      "ValueError: Buffer dtype mismatch, expected 'float' but got 'double'\n"
     ]
    },
    {
     "ename": "ValueError",
     "evalue": "Buffer dtype mismatch, expected 'float' but got 'double'",
     "output_type": "error",
     "traceback": [
      "\u001b[0;31m--------------------------------\u001b[0m",
      "\u001b[0;31mValueError\u001b[0mTraceback (most recent call last)",
      "\u001b[0;31mValueError\u001b[0m: Buffer dtype mismatch, expected 'float' but got 'double'"
     ]
    },
    {
     "name": "stderr",
     "output_type": "stream",
     "text": [
      "Exception ignored in: 'mdtraj.geometry._geometry.image_frame'\n",
      "Traceback (most recent call last):\n",
      "  File \"/home/zhangi/miniconda3/envs/perses-rest2v2/lib/python3.8/site-packages/mdtraj/core/trajectory.py\", line 2005, in image_molecules\n",
      "    _geometry.image_molecules(result.xyz, box, anchor_molecules_atom_indices, other_molecules_atom_indices, sorted_bonds)\n",
      "ValueError: Buffer dtype mismatch, expected 'float' but got 'double'\n"
     ]
    },
    {
     "ename": "ValueError",
     "evalue": "Buffer dtype mismatch, expected 'float' but got 'double'",
     "output_type": "error",
     "traceback": [
      "\u001b[0;31m--------------------------------\u001b[0m",
      "\u001b[0;31mValueError\u001b[0mTraceback (most recent call last)",
      "\u001b[0;31mValueError\u001b[0m: Buffer dtype mismatch, expected 'float' but got 'double'"
     ]
    },
    {
     "name": "stderr",
     "output_type": "stream",
     "text": [
      "Exception ignored in: 'mdtraj.geometry._geometry.image_frame'\n",
      "Traceback (most recent call last):\n",
      "  File \"/home/zhangi/miniconda3/envs/perses-rest2v2/lib/python3.8/site-packages/mdtraj/core/trajectory.py\", line 2005, in image_molecules\n",
      "    _geometry.image_molecules(result.xyz, box, anchor_molecules_atom_indices, other_molecules_atom_indices, sorted_bonds)\n",
      "ValueError: Buffer dtype mismatch, expected 'float' but got 'double'\n"
     ]
    },
    {
     "ename": "ValueError",
     "evalue": "Buffer dtype mismatch, expected 'float' but got 'double'",
     "output_type": "error",
     "traceback": [
      "\u001b[0;31m--------------------------------\u001b[0m",
      "\u001b[0;31mValueError\u001b[0mTraceback (most recent call last)",
      "\u001b[0;31mValueError\u001b[0m: Buffer dtype mismatch, expected 'float' but got 'double'"
     ]
    },
    {
     "name": "stderr",
     "output_type": "stream",
     "text": [
      "Exception ignored in: 'mdtraj.geometry._geometry.image_frame'\n",
      "Traceback (most recent call last):\n",
      "  File \"/home/zhangi/miniconda3/envs/perses-rest2v2/lib/python3.8/site-packages/mdtraj/core/trajectory.py\", line 2005, in image_molecules\n",
      "    _geometry.image_molecules(result.xyz, box, anchor_molecules_atom_indices, other_molecules_atom_indices, sorted_bonds)\n",
      "ValueError: Buffer dtype mismatch, expected 'float' but got 'double'\n"
     ]
    },
    {
     "ename": "ValueError",
     "evalue": "Buffer dtype mismatch, expected 'float' but got 'double'",
     "output_type": "error",
     "traceback": [
      "\u001b[0;31m--------------------------------\u001b[0m",
      "\u001b[0;31mValueError\u001b[0mTraceback (most recent call last)",
      "\u001b[0;31mValueError\u001b[0m: Buffer dtype mismatch, expected 'float' but got 'double'"
     ]
    },
    {
     "name": "stderr",
     "output_type": "stream",
     "text": [
      "Exception ignored in: 'mdtraj.geometry._geometry.image_frame'\n",
      "Traceback (most recent call last):\n",
      "  File \"/home/zhangi/miniconda3/envs/perses-rest2v2/lib/python3.8/site-packages/mdtraj/core/trajectory.py\", line 2005, in image_molecules\n",
      "    _geometry.image_molecules(result.xyz, box, anchor_molecules_atom_indices, other_molecules_atom_indices, sorted_bonds)\n",
      "ValueError: Buffer dtype mismatch, expected 'float' but got 'double'\n"
     ]
    },
    {
     "ename": "ValueError",
     "evalue": "Buffer dtype mismatch, expected 'float' but got 'double'",
     "output_type": "error",
     "traceback": [
      "\u001b[0;31m--------------------------------\u001b[0m",
      "\u001b[0;31mValueError\u001b[0mTraceback (most recent call last)",
      "\u001b[0;31mValueError\u001b[0m: Buffer dtype mismatch, expected 'float' but got 'double'"
     ]
    },
    {
     "name": "stderr",
     "output_type": "stream",
     "text": [
      "Exception ignored in: 'mdtraj.geometry._geometry.image_frame'\n",
      "Traceback (most recent call last):\n",
      "  File \"/home/zhangi/miniconda3/envs/perses-rest2v2/lib/python3.8/site-packages/mdtraj/core/trajectory.py\", line 2005, in image_molecules\n",
      "    _geometry.image_molecules(result.xyz, box, anchor_molecules_atom_indices, other_molecules_atom_indices, sorted_bonds)\n",
      "ValueError: Buffer dtype mismatch, expected 'float' but got 'double'\n"
     ]
    },
    {
     "ename": "ValueError",
     "evalue": "Buffer dtype mismatch, expected 'float' but got 'double'",
     "output_type": "error",
     "traceback": [
      "\u001b[0;31m--------------------------------\u001b[0m",
      "\u001b[0;31mValueError\u001b[0mTraceback (most recent call last)",
      "\u001b[0;31mValueError\u001b[0m: Buffer dtype mismatch, expected 'float' but got 'double'"
     ]
    },
    {
     "name": "stderr",
     "output_type": "stream",
     "text": [
      "Exception ignored in: 'mdtraj.geometry._geometry.image_frame'\n",
      "Traceback (most recent call last):\n",
      "  File \"/home/zhangi/miniconda3/envs/perses-rest2v2/lib/python3.8/site-packages/mdtraj/core/trajectory.py\", line 2005, in image_molecules\n",
      "    _geometry.image_molecules(result.xyz, box, anchor_molecules_atom_indices, other_molecules_atom_indices, sorted_bonds)\n",
      "ValueError: Buffer dtype mismatch, expected 'float' but got 'double'\n"
     ]
    },
    {
     "ename": "ValueError",
     "evalue": "Buffer dtype mismatch, expected 'float' but got 'double'",
     "output_type": "error",
     "traceback": [
      "\u001b[0;31m--------------------------------\u001b[0m",
      "\u001b[0;31mValueError\u001b[0mTraceback (most recent call last)",
      "\u001b[0;31mValueError\u001b[0m: Buffer dtype mismatch, expected 'float' but got 'double'"
     ]
    },
    {
     "name": "stderr",
     "output_type": "stream",
     "text": [
      "Exception ignored in: 'mdtraj.geometry._geometry.image_frame'\n",
      "Traceback (most recent call last):\n",
      "  File \"/home/zhangi/miniconda3/envs/perses-rest2v2/lib/python3.8/site-packages/mdtraj/core/trajectory.py\", line 2005, in image_molecules\n",
      "    _geometry.image_molecules(result.xyz, box, anchor_molecules_atom_indices, other_molecules_atom_indices, sorted_bonds)\n",
      "ValueError: Buffer dtype mismatch, expected 'float' but got 'double'\n"
     ]
    },
    {
     "ename": "ValueError",
     "evalue": "Buffer dtype mismatch, expected 'float' but got 'double'",
     "output_type": "error",
     "traceback": [
      "\u001b[0;31m--------------------------------\u001b[0m",
      "\u001b[0;31mValueError\u001b[0mTraceback (most recent call last)",
      "\u001b[0;31mValueError\u001b[0m: Buffer dtype mismatch, expected 'float' but got 'double'"
     ]
    },
    {
     "name": "stderr",
     "output_type": "stream",
     "text": [
      "Exception ignored in: 'mdtraj.geometry._geometry.image_frame'\n",
      "Traceback (most recent call last):\n",
      "  File \"/home/zhangi/miniconda3/envs/perses-rest2v2/lib/python3.8/site-packages/mdtraj/core/trajectory.py\", line 2005, in image_molecules\n",
      "    _geometry.image_molecules(result.xyz, box, anchor_molecules_atom_indices, other_molecules_atom_indices, sorted_bonds)\n",
      "ValueError: Buffer dtype mismatch, expected 'float' but got 'double'\n"
     ]
    },
    {
     "ename": "ValueError",
     "evalue": "Buffer dtype mismatch, expected 'float' but got 'double'",
     "output_type": "error",
     "traceback": [
      "\u001b[0;31m--------------------------------\u001b[0m",
      "\u001b[0;31mValueError\u001b[0mTraceback (most recent call last)",
      "\u001b[0;31mValueError\u001b[0m: Buffer dtype mismatch, expected 'float' but got 'double'"
     ]
    },
    {
     "name": "stderr",
     "output_type": "stream",
     "text": [
      "Exception ignored in: 'mdtraj.geometry._geometry.image_frame'\n",
      "Traceback (most recent call last):\n",
      "  File \"/home/zhangi/miniconda3/envs/perses-rest2v2/lib/python3.8/site-packages/mdtraj/core/trajectory.py\", line 2005, in image_molecules\n",
      "    _geometry.image_molecules(result.xyz, box, anchor_molecules_atom_indices, other_molecules_atom_indices, sorted_bonds)\n",
      "ValueError: Buffer dtype mismatch, expected 'float' but got 'double'\n"
     ]
    },
    {
     "ename": "ValueError",
     "evalue": "Buffer dtype mismatch, expected 'float' but got 'double'",
     "output_type": "error",
     "traceback": [
      "\u001b[0;31m--------------------------------\u001b[0m",
      "\u001b[0;31mValueError\u001b[0mTraceback (most recent call last)",
      "\u001b[0;31mValueError\u001b[0m: Buffer dtype mismatch, expected 'float' but got 'double'"
     ]
    },
    {
     "name": "stderr",
     "output_type": "stream",
     "text": [
      "Exception ignored in: 'mdtraj.geometry._geometry.image_frame'\n",
      "Traceback (most recent call last):\n",
      "  File \"/home/zhangi/miniconda3/envs/perses-rest2v2/lib/python3.8/site-packages/mdtraj/core/trajectory.py\", line 2005, in image_molecules\n",
      "    _geometry.image_molecules(result.xyz, box, anchor_molecules_atom_indices, other_molecules_atom_indices, sorted_bonds)\n",
      "ValueError: Buffer dtype mismatch, expected 'float' but got 'double'\n"
     ]
    },
    {
     "ename": "ValueError",
     "evalue": "Buffer dtype mismatch, expected 'float' but got 'double'",
     "output_type": "error",
     "traceback": [
      "\u001b[0;31m--------------------------------\u001b[0m",
      "\u001b[0;31mValueError\u001b[0mTraceback (most recent call last)",
      "\u001b[0;31mValueError\u001b[0m: Buffer dtype mismatch, expected 'float' but got 'double'"
     ]
    },
    {
     "name": "stderr",
     "output_type": "stream",
     "text": [
      "Exception ignored in: 'mdtraj.geometry._geometry.image_frame'\n",
      "Traceback (most recent call last):\n",
      "  File \"/home/zhangi/miniconda3/envs/perses-rest2v2/lib/python3.8/site-packages/mdtraj/core/trajectory.py\", line 2005, in image_molecules\n",
      "    _geometry.image_molecules(result.xyz, box, anchor_molecules_atom_indices, other_molecules_atom_indices, sorted_bonds)\n",
      "ValueError: Buffer dtype mismatch, expected 'float' but got 'double'\n"
     ]
    },
    {
     "ename": "ValueError",
     "evalue": "Buffer dtype mismatch, expected 'float' but got 'double'",
     "output_type": "error",
     "traceback": [
      "\u001b[0;31m--------------------------------\u001b[0m",
      "\u001b[0;31mValueError\u001b[0mTraceback (most recent call last)",
      "\u001b[0;31mValueError\u001b[0m: Buffer dtype mismatch, expected 'float' but got 'double'"
     ]
    },
    {
     "name": "stderr",
     "output_type": "stream",
     "text": [
      "Exception ignored in: 'mdtraj.geometry._geometry.image_frame'\n",
      "Traceback (most recent call last):\n",
      "  File \"/home/zhangi/miniconda3/envs/perses-rest2v2/lib/python3.8/site-packages/mdtraj/core/trajectory.py\", line 2005, in image_molecules\n",
      "    _geometry.image_molecules(result.xyz, box, anchor_molecules_atom_indices, other_molecules_atom_indices, sorted_bonds)\n",
      "ValueError: Buffer dtype mismatch, expected 'float' but got 'double'\n"
     ]
    },
    {
     "ename": "ValueError",
     "evalue": "Buffer dtype mismatch, expected 'float' but got 'double'",
     "output_type": "error",
     "traceback": [
      "\u001b[0;31m--------------------------------\u001b[0m",
      "\u001b[0;31mValueError\u001b[0mTraceback (most recent call last)",
      "\u001b[0;31mValueError\u001b[0m: Buffer dtype mismatch, expected 'float' but got 'double'"
     ]
    },
    {
     "name": "stderr",
     "output_type": "stream",
     "text": [
      "Exception ignored in: 'mdtraj.geometry._geometry.image_frame'\n",
      "Traceback (most recent call last):\n",
      "  File \"/home/zhangi/miniconda3/envs/perses-rest2v2/lib/python3.8/site-packages/mdtraj/core/trajectory.py\", line 2005, in image_molecules\n",
      "    _geometry.image_molecules(result.xyz, box, anchor_molecules_atom_indices, other_molecules_atom_indices, sorted_bonds)\n",
      "ValueError: Buffer dtype mismatch, expected 'float' but got 'double'\n"
     ]
    },
    {
     "ename": "ValueError",
     "evalue": "Buffer dtype mismatch, expected 'float' but got 'double'",
     "output_type": "error",
     "traceback": [
      "\u001b[0;31m--------------------------------\u001b[0m",
      "\u001b[0;31mValueError\u001b[0mTraceback (most recent call last)",
      "\u001b[0;31mValueError\u001b[0m: Buffer dtype mismatch, expected 'float' but got 'double'"
     ]
    },
    {
     "name": "stderr",
     "output_type": "stream",
     "text": [
      "Exception ignored in: 'mdtraj.geometry._geometry.image_frame'\n",
      "Traceback (most recent call last):\n",
      "  File \"/home/zhangi/miniconda3/envs/perses-rest2v2/lib/python3.8/site-packages/mdtraj/core/trajectory.py\", line 2005, in image_molecules\n",
      "    _geometry.image_molecules(result.xyz, box, anchor_molecules_atom_indices, other_molecules_atom_indices, sorted_bonds)\n",
      "ValueError: Buffer dtype mismatch, expected 'float' but got 'double'\n"
     ]
    },
    {
     "ename": "ValueError",
     "evalue": "Buffer dtype mismatch, expected 'float' but got 'double'",
     "output_type": "error",
     "traceback": [
      "\u001b[0;31m--------------------------------\u001b[0m",
      "\u001b[0;31mValueError\u001b[0mTraceback (most recent call last)",
      "\u001b[0;31mValueError\u001b[0m: Buffer dtype mismatch, expected 'float' but got 'double'"
     ]
    },
    {
     "name": "stderr",
     "output_type": "stream",
     "text": [
      "Exception ignored in: 'mdtraj.geometry._geometry.image_frame'\n",
      "Traceback (most recent call last):\n",
      "  File \"/home/zhangi/miniconda3/envs/perses-rest2v2/lib/python3.8/site-packages/mdtraj/core/trajectory.py\", line 2005, in image_molecules\n",
      "    _geometry.image_molecules(result.xyz, box, anchor_molecules_atom_indices, other_molecules_atom_indices, sorted_bonds)\n",
      "ValueError: Buffer dtype mismatch, expected 'float' but got 'double'\n"
     ]
    },
    {
     "ename": "ValueError",
     "evalue": "Buffer dtype mismatch, expected 'float' but got 'double'",
     "output_type": "error",
     "traceback": [
      "\u001b[0;31m--------------------------------\u001b[0m",
      "\u001b[0;31mValueError\u001b[0mTraceback (most recent call last)",
      "\u001b[0;31mValueError\u001b[0m: Buffer dtype mismatch, expected 'float' but got 'double'"
     ]
    },
    {
     "name": "stderr",
     "output_type": "stream",
     "text": [
      "Exception ignored in: 'mdtraj.geometry._geometry.image_frame'\n",
      "Traceback (most recent call last):\n",
      "  File \"/home/zhangi/miniconda3/envs/perses-rest2v2/lib/python3.8/site-packages/mdtraj/core/trajectory.py\", line 2005, in image_molecules\n",
      "    _geometry.image_molecules(result.xyz, box, anchor_molecules_atom_indices, other_molecules_atom_indices, sorted_bonds)\n",
      "ValueError: Buffer dtype mismatch, expected 'float' but got 'double'\n"
     ]
    },
    {
     "ename": "ValueError",
     "evalue": "Buffer dtype mismatch, expected 'float' but got 'double'",
     "output_type": "error",
     "traceback": [
      "\u001b[0;31m--------------------------------\u001b[0m",
      "\u001b[0;31mValueError\u001b[0mTraceback (most recent call last)",
      "\u001b[0;31mValueError\u001b[0m: Buffer dtype mismatch, expected 'float' but got 'double'"
     ]
    },
    {
     "name": "stderr",
     "output_type": "stream",
     "text": [
      "Exception ignored in: 'mdtraj.geometry._geometry.image_frame'\n",
      "Traceback (most recent call last):\n",
      "  File \"/home/zhangi/miniconda3/envs/perses-rest2v2/lib/python3.8/site-packages/mdtraj/core/trajectory.py\", line 2005, in image_molecules\n",
      "    _geometry.image_molecules(result.xyz, box, anchor_molecules_atom_indices, other_molecules_atom_indices, sorted_bonds)\n",
      "ValueError: Buffer dtype mismatch, expected 'float' but got 'double'\n"
     ]
    }
   ],
   "source": [
    "name = \"ala\"\n",
    "endstate = 1\n",
    "is_old = False\n",
    "traj_rest_solvent_old = make_traj(outdir_rest, htf, i, phase, name, endstate, is_old, keep_solvent=True)"
   ]
  },
  {
   "cell_type": "code",
   "execution_count": null,
   "id": "2e1ebb56",
   "metadata": {},
   "outputs": [],
   "source": []
  },
  {
   "cell_type": "code",
   "execution_count": 54,
   "id": "26806b8b",
   "metadata": {},
   "outputs": [
    {
     "name": "stdout",
     "output_type": "stream",
     "text": [
      "ALA27-N 27 390\n",
      "ALA27-CA 27 391\n",
      "ALA27-C 27 392\n",
      "ALA27-O 27 393\n",
      "ALA27-CB 27 394\n",
      "ALA27-H 27 395\n",
      "ALA27-HA 27 396\n",
      "ALA27-HB3 27 397\n",
      "ALA27-HB2 27 398\n",
      "ALA27-HB1 27 399\n"
     ]
    }
   ],
   "source": [
    "ala_atoms = []\n",
    "for atom in traj_rest_solvent_old.topology.atoms:\n",
    "    if atom.residue.resSeq == 27 and atom.residue.name == 'ALA':\n",
    "        print(atom, atom.residue.resSeq, atom.index)\n",
    "        ala_atoms.append(atom.index)"
   ]
  },
  {
   "cell_type": "code",
   "execution_count": 55,
   "id": "387f8981",
   "metadata": {},
   "outputs": [],
   "source": [
    "water_atoms = traj_rest_solvent_old.topology.select(\"water and symbol == 'O'\")\n"
   ]
  },
  {
   "cell_type": "code",
   "execution_count": 56,
   "id": "191d03d3",
   "metadata": {},
   "outputs": [],
   "source": [
    "neighbors = md.compute_neighbors(traj_rest_solvent_old, 0.5, ala_atoms, haystack_indices=water_atoms)"
   ]
  },
  {
   "cell_type": "code",
   "execution_count": 57,
   "id": "024777a4",
   "metadata": {},
   "outputs": [
    {
     "data": {
      "text/plain": [
       "(0.0, 18.0)"
      ]
     },
     "execution_count": 57,
     "metadata": {},
     "output_type": "execute_result"
    },
    {
     "data": {
      "image/png": "[encoded data removed]",
      "text/plain": [
       "<Figure size 432x288 with 1 Axes>"
      ]
     },
     "metadata": {
      "needs_background": "light"
     },
     "output_type": "display_data"
    }
   ],
   "source": [
    "plt.scatter(range(len(neighbors)), [len(frame) for frame in neighbors])\n",
    "plt.ylabel(\"number of waters\")\n",
    "plt.xlabel(\"rest snapshot\")\n",
    "plt.title(\"A27\")\n",
    "plt.ylim([0, 18])"
   ]
  },
  {
   "cell_type": "code",
   "execution_count": 58,
   "id": "1dc208d0",
   "metadata": {},
   "outputs": [],
   "source": [
    "a27_waters = [len(frame) for frame in neighbors]"
   ]
  },
  {
   "cell_type": "code",
   "execution_count": 59,
   "id": "af3d813a",
   "metadata": {},
   "outputs": [
    {
     "data": {
      "text/plain": [
       "5.614603696444751"
      ]
     },
     "execution_count": 59,
     "metadata": {},
     "output_type": "execute_result"
    }
   ],
   "source": [
    "timeseries.statisticalInefficiency(a27_waters)\n"
   ]
  },
  {
   "cell_type": "code",
   "execution_count": null,
   "id": "8aa44c4a",
   "metadata": {},
   "outputs": [],
   "source": []
  },
  {
   "cell_type": "markdown",
   "id": "e46ede08",
   "metadata": {},
   "source": [
    "## Check number of waters within 5 angstroms of K27A (neq)"
   ]
  },
  {
   "cell_type": "markdown",
   "id": "5b915dd8",
   "metadata": {},
   "source": [
    "NOTE cannot actually check this, as i didn't save the solvent positions during neq"
   ]
  },
  {
   "cell_type": "markdown",
   "id": "ada89208",
   "metadata": {},
   "source": [
    "K27"
   ]
  },
  {
   "cell_type": "code",
   "execution_count": 18,
   "id": "520866f2",
   "metadata": {},
   "outputs": [],
   "source": [
    "cycle = 20\n",
    "is_old = True\n",
    "is_forward=True\n",
    "traj_rest_solvent = make_traj_neq(outdir, htf, i, phase, cycle, is_old, is_forward)\n"
   ]
  },
  {
   "cell_type": "code",
   "execution_count": 19,
   "id": "efe0378a",
   "metadata": {},
   "outputs": [
    {
     "name": "stdout",
     "output_type": "stream",
     "text": [
      "LYS27-N 27 390\n",
      "LYS27-CA 27 391\n",
      "LYS27-C 27 392\n",
      "LYS27-O 27 393\n",
      "LYS27-CB 27 394\n",
      "LYS27-CG 27 395\n",
      "LYS27-CD 27 396\n",
      "LYS27-CE 27 397\n",
      "LYS27-NZ 27 398\n",
      "LYS27-H 27 399\n",
      "LYS27-HA 27 400\n",
      "LYS27-HB3 27 401\n",
      "LYS27-HB2 27 402\n",
      "LYS27-HG3 27 403\n",
      "LYS27-HG2 27 404\n",
      "LYS27-HD3 27 405\n",
      "LYS27-HD2 27 406\n",
      "LYS27-HE3 27 407\n",
      "LYS27-HE2 27 408\n",
      "LYS27-HZ3 27 409\n",
      "LYS27-HZ1 27 410\n",
      "LYS27-HZ2 27 411\n"
     ]
    }
   ],
   "source": [
    "tyr_atoms = []\n",
    "for atom in traj_rest_solvent.topology.atoms:\n",
    "    if atom.residue.resSeq == 27 and atom.residue.name == 'LYS':\n",
    "        print(atom, atom.residue.resSeq, atom.index)\n",
    "        tyr_atoms.append(atom.index)"
   ]
  },
  {
   "cell_type": "code",
   "execution_count": 20,
   "id": "073af6b9",
   "metadata": {},
   "outputs": [],
   "source": [
    "water_atoms = traj_rest_solvent.topology.select(\"water and symbol == 'O'\")\n"
   ]
  },
  {
   "cell_type": "code",
   "execution_count": 21,
   "id": "1430a728",
   "metadata": {},
   "outputs": [],
   "source": [
    "neighbors = md.compute_neighbors(traj_rest_solvent, 0.5, tyr_atoms, haystack_indices=water_atoms)\n"
   ]
  },
  {
   "cell_type": "code",
   "execution_count": 22,
   "id": "a1e5485d",
   "metadata": {},
   "outputs": [
    {
     "data": {
      "text/plain": [
       "(0.0, 18.0)"
      ]
     },
     "execution_count": 22,
     "metadata": {},
     "output_type": "execute_result"
    },
    {
     "name": "stderr",
     "output_type": "stream",
     "text": [
      "DEBUG:matplotlib.font_manager:findfont: Matching sans\\-serif:style=normal:variant=normal:weight=normal:stretch=normal:size=12.0.\n",
      "DEBUG:matplotlib.font_manager:findfont: score(<Font 'cmb10' (cmb10.ttf) normal normal 400 normal>) = 10.05\n",
      "DEBUG:matplotlib.font_manager:findfont: score(<Font 'DejaVu Sans Mono' (DejaVuSansMono-Oblique.ttf) oblique normal 400 normal>) = 11.05\n",
      "DEBUG:matplotlib.font_manager:findfont: score(<Font 'STIXGeneral' (STIXGeneral.ttf) normal normal 400 normal>) = 10.05\n",
      "DEBUG:matplotlib.font_manager:findfont: score(<Font 'cmtt10' (cmtt10.ttf) normal normal 400 normal>) = 10.05\n",
      "DEBUG:matplotlib.font_manager:findfont: score(<Font 'DejaVu Sans Display' (DejaVuSansDisplay.ttf) normal normal 400 normal>) = 10.05\n",
      "DEBUG:matplotlib.font_manager:findfont: score(<Font 'STIXSizeFourSym' (STIXSizFourSymReg.ttf) normal normal 400 normal>) = 10.05\n",
      "DEBUG:matplotlib.font_manager:findfont: score(<Font 'cmss10' (cmss10.ttf) normal normal 400 normal>) = 10.05\n",
      "DEBUG:matplotlib.font_manager:findfont: score(<Font 'cmsy10' (cmsy10.ttf) normal normal 400 normal>) = 10.05\n",
      "DEBUG:matplotlib.font_manager:findfont: score(<Font 'DejaVu Serif' (DejaVuSerif.ttf) normal normal 400 normal>) = 10.05\n",
      "DEBUG:matplotlib.font_manager:findfont: score(<Font 'STIXSizeFourSym' (STIXSizFourSymBol.ttf) normal normal 700 normal>) = 10.335\n",
      "DEBUG:matplotlib.font_manager:findfont: score(<Font 'DejaVu Serif Display' (DejaVuSerifDisplay.ttf) normal normal 400 normal>) = 10.05\n",
      "DEBUG:matplotlib.font_manager:findfont: score(<Font 'STIXSizeThreeSym' (STIXSizThreeSymReg.ttf) normal normal 400 normal>) = 10.05\n",
      "DEBUG:matplotlib.font_manager:findfont: score(<Font 'STIXGeneral' (STIXGeneralItalic.ttf) italic normal 400 normal>) = 11.05\n",
      "DEBUG:matplotlib.font_manager:findfont: score(<Font 'STIXSizeOneSym' (STIXSizOneSymReg.ttf) normal normal 400 normal>) = 10.05\n",
      "DEBUG:matplotlib.font_manager:findfont: score(<Font 'DejaVu Sans Mono' (DejaVuSansMono-BoldOblique.ttf) oblique normal 700 normal>) = 11.335\n",
      "DEBUG:matplotlib.font_manager:findfont: score(<Font 'DejaVu Sans' (DejaVuSans-Oblique.ttf) oblique normal 400 normal>) = 1.05\n",
      "DEBUG:matplotlib.font_manager:findfont: score(<Font 'DejaVu Sans' (DejaVuSans-BoldOblique.ttf) oblique normal 700 normal>) = 1.335\n",
      "DEBUG:matplotlib.font_manager:findfont: score(<Font 'DejaVu Sans Mono' (DejaVuSansMono.ttf) normal normal 400 normal>) = 10.05\n",
      "DEBUG:matplotlib.font_manager:findfont: score(<Font 'STIXSizeTwoSym' (STIXSizTwoSymReg.ttf) normal normal 400 normal>) = 10.05\n",
      "DEBUG:matplotlib.font_manager:findfont: score(<Font 'cmr10' (cmr10.ttf) normal normal 400 normal>) = 10.05\n",
      "DEBUG:matplotlib.font_manager:findfont: score(<Font 'STIXNonUnicode' (STIXNonUniIta.ttf) italic normal 400 normal>) = 11.05\n",
      "DEBUG:matplotlib.font_manager:findfont: score(<Font 'STIXGeneral' (STIXGeneralBolIta.ttf) italic normal 700 normal>) = 11.335\n",
      "DEBUG:matplotlib.font_manager:findfont: score(<Font 'DejaVu Serif' (DejaVuSerif-Bold.ttf) normal normal 700 normal>) = 10.335\n",
      "DEBUG:matplotlib.font_manager:findfont: score(<Font 'DejaVu Serif' (DejaVuSerif-Italic.ttf) italic normal 400 normal>) = 11.05\n",
      "DEBUG:matplotlib.font_manager:findfont: score(<Font 'STIXNonUnicode' (STIXNonUniBolIta.ttf) italic normal 700 normal>) = 11.335\n",
      "DEBUG:matplotlib.font_manager:findfont: score(<Font 'STIXSizeTwoSym' (STIXSizTwoSymBol.ttf) normal normal 700 normal>) = 10.335\n",
      "DEBUG:matplotlib.font_manager:findfont: score(<Font 'DejaVu Serif' (DejaVuSerif-BoldItalic.ttf) italic normal 700 normal>) = 11.335\n",
      "DEBUG:matplotlib.font_manager:findfont: score(<Font 'STIXNonUnicode' (STIXNonUni.ttf) normal normal 400 normal>) = 10.05\n",
      "DEBUG:matplotlib.font_manager:findfont: score(<Font 'DejaVu Sans' (DejaVuSans-Bold.ttf) normal normal 700 normal>) = 0.33499999999999996\n",
      "DEBUG:matplotlib.font_manager:findfont: score(<Font 'STIXSizeOneSym' (STIXSizOneSymBol.ttf) normal normal 700 normal>) = 10.335\n",
      "DEBUG:matplotlib.font_manager:findfont: score(<Font 'DejaVu Sans Mono' (DejaVuSansMono-Bold.ttf) normal normal 700 normal>) = 10.335\n",
      "DEBUG:matplotlib.font_manager:findfont: score(<Font 'STIXSizeThreeSym' (STIXSizThreeSymBol.ttf) normal normal 700 normal>) = 10.335\n",
      "DEBUG:matplotlib.font_manager:findfont: score(<Font 'cmmi10' (cmmi10.ttf) normal normal 400 normal>) = 10.05\n",
      "DEBUG:matplotlib.font_manager:findfont: score(<Font 'STIXSizeFiveSym' (STIXSizFiveSymReg.ttf) normal normal 400 normal>) = 10.05\n",
      "DEBUG:matplotlib.font_manager:findfont: score(<Font 'DejaVu Sans' (DejaVuSans.ttf) normal normal 400 normal>) = 0.05\n",
      "DEBUG:matplotlib.font_manager:findfont: score(<Font 'STIXGeneral' (STIXGeneralBol.ttf) normal normal 700 normal>) = 10.335\n",
      "DEBUG:matplotlib.font_manager:findfont: score(<Font 'cmex10' (cmex10.ttf) normal normal 400 normal>) = 10.05\n",
      "DEBUG:matplotlib.font_manager:findfont: score(<Font 'STIXNonUnicode' (STIXNonUniBol.ttf) normal normal 700 normal>) = 10.335\n",
      "DEBUG:matplotlib.font_manager:findfont: score(<Font 'DejaVu Sans Mono' (DejaVuSansMono-Oblique.ttf) oblique normal 400 normal>) = 11.05\n",
      "DEBUG:matplotlib.font_manager:findfont: score(<Font 'DejaVu Sans Mono' (DejaVuSansMono-Bold.ttf) normal normal 700 normal>) = 10.335\n",
      "DEBUG:matplotlib.font_manager:findfont: score(<Font 'DejaVu Sans' (DejaVuSans-ExtraLight.ttf) normal normal 200 normal>) = 0.24\n",
      "DEBUG:matplotlib.font_manager:findfont: score(<Font 'STIX' (STIX-BoldItalic.otf) italic normal 700 normal>) = 11.335\n",
      "DEBUG:matplotlib.font_manager:findfont: score(<Font 'DejaVu Sans Mono' (DejaVuSansMono-BoldOblique.ttf) oblique normal 700 normal>) = 11.335\n",
      "DEBUG:matplotlib.font_manager:findfont: score(<Font 'Liberation Sans' (LiberationSans-BoldItalic.ttf) italic normal 700 normal>) = 11.335\n",
      "DEBUG:matplotlib.font_manager:findfont: score(<Font 'DejaVu Sans' (DejaVuSansCondensed.ttf) normal normal 400 condensed>) = 0.25\n",
      "DEBUG:matplotlib.font_manager:findfont: score(<Font 'DejaVu Sans' (DejaVuSans-BoldOblique.ttf) oblique normal 700 normal>) = 1.335\n",
      "DEBUG:matplotlib.font_manager:findfont: score(<Font 'DejaVu Sans' (DejaVuSans.ttf) normal normal 400 normal>) = 0.05\n",
      "DEBUG:matplotlib.font_manager:findfont: score(<Font 'Liberation Sans' (LiberationSans-Regular.ttf) normal normal 400 normal>) = 10.05\n",
      "DEBUG:matplotlib.font_manager:findfont: score(<Font 'STIX' (STIX-Regular.otf) normal normal 400 normal>) = 10.05\n",
      "DEBUG:matplotlib.font_manager:findfont: score(<Font 'Liberation Sans' (LiberationSans-Bold.ttf) normal normal 700 normal>) = 10.335\n",
      "DEBUG:matplotlib.font_manager:findfont: score(<Font 'STIX' (STIX-Italic.otf) italic normal 400 normal>) = 11.05\n",
      "DEBUG:matplotlib.font_manager:findfont: score(<Font 'DejaVu Sans' (DejaVuSans-Bold.ttf) normal normal 700 normal>) = 0.33499999999999996\n",
      "DEBUG:matplotlib.font_manager:findfont: score(<Font 'DejaVu Sans' (DejaVuSansCondensed-BoldOblique.ttf) oblique normal 700 condensed>) = 1.535\n",
      "DEBUG:matplotlib.font_manager:findfont: score(<Font 'DejaVu Sans' (DejaVuSansCondensed-Bold.ttf) normal normal 700 condensed>) = 0.5349999999999999\n",
      "DEBUG:matplotlib.font_manager:findfont: score(<Font 'DejaVu Sans' (DejaVuSansCondensed-Oblique.ttf) oblique normal 400 condensed>) = 1.25\n",
      "DEBUG:matplotlib.font_manager:findfont: score(<Font 'STIX' (STIX-Bold.otf) normal normal 700 normal>) = 10.335\n",
      "DEBUG:matplotlib.font_manager:findfont: score(<Font 'DejaVu Sans Mono' (DejaVuSansMono.ttf) normal normal 400 normal>) = 10.05\n",
      "DEBUG:matplotlib.font_manager:findfont: score(<Font 'DejaVu Sans' (DejaVuSans-Oblique.ttf) oblique normal 400 normal>) = 1.05\n",
      "DEBUG:matplotlib.font_manager:findfont: score(<Font 'Liberation Sans' (LiberationSans-Italic.ttf) italic normal 400 normal>) = 11.05\n",
      "DEBUG:matplotlib.font_manager:findfont: Matching sans\\-serif:style=normal:variant=normal:weight=normal:stretch=normal:size=12.0 to DejaVu Sans ('/home/zhangi/miniconda3/envs/perses-rest2v2/lib/python3.8/site-packages/matplotlib/mpl-data/fonts/ttf/DejaVuSans.ttf') with score of 0.050000.\n",
      "DEBUG:matplotlib.font_manager:findfont: Matching sans\\-serif:style=normal:variant=normal:weight=normal:stretch=normal:size=10.0.\n",
      "DEBUG:matplotlib.font_manager:findfont: score(<Font 'cmb10' (cmb10.ttf) normal normal 400 normal>) = 10.05\n",
      "DEBUG:matplotlib.font_manager:findfont: score(<Font 'DejaVu Sans Mono' (DejaVuSansMono-Oblique.ttf) oblique normal 400 normal>) = 11.05\n"
     ]
    },
    {
     "name": "stderr",
     "output_type": "stream",
     "text": [
      "DEBUG:matplotlib.font_manager:findfont: score(<Font 'STIXGeneral' (STIXGeneral.ttf) normal normal 400 normal>) = 10.05\n",
      "DEBUG:matplotlib.font_manager:findfont: score(<Font 'cmtt10' (cmtt10.ttf) normal normal 400 normal>) = 10.05\n",
      "DEBUG:matplotlib.font_manager:findfont: score(<Font 'DejaVu Sans Display' (DejaVuSansDisplay.ttf) normal normal 400 normal>) = 10.05\n",
      "DEBUG:matplotlib.font_manager:findfont: score(<Font 'STIXSizeFourSym' (STIXSizFourSymReg.ttf) normal normal 400 normal>) = 10.05\n",
      "DEBUG:matplotlib.font_manager:findfont: score(<Font 'cmss10' (cmss10.ttf) normal normal 400 normal>) = 10.05\n",
      "DEBUG:matplotlib.font_manager:findfont: score(<Font 'cmsy10' (cmsy10.ttf) normal normal 400 normal>) = 10.05\n",
      "DEBUG:matplotlib.font_manager:findfont: score(<Font 'DejaVu Serif' (DejaVuSerif.ttf) normal normal 400 normal>) = 10.05\n",
      "DEBUG:matplotlib.font_manager:findfont: score(<Font 'STIXSizeFourSym' (STIXSizFourSymBol.ttf) normal normal 700 normal>) = 10.335\n",
      "DEBUG:matplotlib.font_manager:findfont: score(<Font 'DejaVu Serif Display' (DejaVuSerifDisplay.ttf) normal normal 400 normal>) = 10.05\n",
      "DEBUG:matplotlib.font_manager:findfont: score(<Font 'STIXSizeThreeSym' (STIXSizThreeSymReg.ttf) normal normal 400 normal>) = 10.05\n",
      "DEBUG:matplotlib.font_manager:findfont: score(<Font 'STIXGeneral' (STIXGeneralItalic.ttf) italic normal 400 normal>) = 11.05\n",
      "DEBUG:matplotlib.font_manager:findfont: score(<Font 'STIXSizeOneSym' (STIXSizOneSymReg.ttf) normal normal 400 normal>) = 10.05\n",
      "DEBUG:matplotlib.font_manager:findfont: score(<Font 'DejaVu Sans Mono' (DejaVuSansMono-BoldOblique.ttf) oblique normal 700 normal>) = 11.335\n",
      "DEBUG:matplotlib.font_manager:findfont: score(<Font 'DejaVu Sans' (DejaVuSans-Oblique.ttf) oblique normal 400 normal>) = 1.05\n",
      "DEBUG:matplotlib.font_manager:findfont: score(<Font 'DejaVu Sans' (DejaVuSans-BoldOblique.ttf) oblique normal 700 normal>) = 1.335\n",
      "DEBUG:matplotlib.font_manager:findfont: score(<Font 'DejaVu Sans Mono' (DejaVuSansMono.ttf) normal normal 400 normal>) = 10.05\n",
      "DEBUG:matplotlib.font_manager:findfont: score(<Font 'STIXSizeTwoSym' (STIXSizTwoSymReg.ttf) normal normal 400 normal>) = 10.05\n",
      "DEBUG:matplotlib.font_manager:findfont: score(<Font 'cmr10' (cmr10.ttf) normal normal 400 normal>) = 10.05\n",
      "DEBUG:matplotlib.font_manager:findfont: score(<Font 'STIXNonUnicode' (STIXNonUniIta.ttf) italic normal 400 normal>) = 11.05\n",
      "DEBUG:matplotlib.font_manager:findfont: score(<Font 'STIXGeneral' (STIXGeneralBolIta.ttf) italic normal 700 normal>) = 11.335\n",
      "DEBUG:matplotlib.font_manager:findfont: score(<Font 'DejaVu Serif' (DejaVuSerif-Bold.ttf) normal normal 700 normal>) = 10.335\n",
      "DEBUG:matplotlib.font_manager:findfont: score(<Font 'DejaVu Serif' (DejaVuSerif-Italic.ttf) italic normal 400 normal>) = 11.05\n",
      "DEBUG:matplotlib.font_manager:findfont: score(<Font 'STIXNonUnicode' (STIXNonUniBolIta.ttf) italic normal 700 normal>) = 11.335\n",
      "DEBUG:matplotlib.font_manager:findfont: score(<Font 'STIXSizeTwoSym' (STIXSizTwoSymBol.ttf) normal normal 700 normal>) = 10.335\n",
      "DEBUG:matplotlib.font_manager:findfont: score(<Font 'DejaVu Serif' (DejaVuSerif-BoldItalic.ttf) italic normal 700 normal>) = 11.335\n",
      "DEBUG:matplotlib.font_manager:findfont: score(<Font 'STIXNonUnicode' (STIXNonUni.ttf) normal normal 400 normal>) = 10.05\n",
      "DEBUG:matplotlib.font_manager:findfont: score(<Font 'DejaVu Sans' (DejaVuSans-Bold.ttf) normal normal 700 normal>) = 0.33499999999999996\n",
      "DEBUG:matplotlib.font_manager:findfont: score(<Font 'STIXSizeOneSym' (STIXSizOneSymBol.ttf) normal normal 700 normal>) = 10.335\n",
      "DEBUG:matplotlib.font_manager:findfont: score(<Font 'DejaVu Sans Mono' (DejaVuSansMono-Bold.ttf) normal normal 700 normal>) = 10.335\n",
      "DEBUG:matplotlib.font_manager:findfont: score(<Font 'STIXSizeThreeSym' (STIXSizThreeSymBol.ttf) normal normal 700 normal>) = 10.335\n",
      "DEBUG:matplotlib.font_manager:findfont: score(<Font 'cmmi10' (cmmi10.ttf) normal normal 400 normal>) = 10.05\n",
      "DEBUG:matplotlib.font_manager:findfont: score(<Font 'STIXSizeFiveSym' (STIXSizFiveSymReg.ttf) normal normal 400 normal>) = 10.05\n",
      "DEBUG:matplotlib.font_manager:findfont: score(<Font 'DejaVu Sans' (DejaVuSans.ttf) normal normal 400 normal>) = 0.05\n",
      "DEBUG:matplotlib.font_manager:findfont: score(<Font 'STIXGeneral' (STIXGeneralBol.ttf) normal normal 700 normal>) = 10.335\n",
      "DEBUG:matplotlib.font_manager:findfont: score(<Font 'cmex10' (cmex10.ttf) normal normal 400 normal>) = 10.05\n",
      "DEBUG:matplotlib.font_manager:findfont: score(<Font 'STIXNonUnicode' (STIXNonUniBol.ttf) normal normal 700 normal>) = 10.335\n",
      "DEBUG:matplotlib.font_manager:findfont: score(<Font 'DejaVu Sans Mono' (DejaVuSansMono-Oblique.ttf) oblique normal 400 normal>) = 11.05\n",
      "DEBUG:matplotlib.font_manager:findfont: score(<Font 'DejaVu Sans Mono' (DejaVuSansMono-Bold.ttf) normal normal 700 normal>) = 10.335\n",
      "DEBUG:matplotlib.font_manager:findfont: score(<Font 'DejaVu Sans' (DejaVuSans-ExtraLight.ttf) normal normal 200 normal>) = 0.24\n",
      "DEBUG:matplotlib.font_manager:findfont: score(<Font 'STIX' (STIX-BoldItalic.otf) italic normal 700 normal>) = 11.335\n",
      "DEBUG:matplotlib.font_manager:findfont: score(<Font 'DejaVu Sans Mono' (DejaVuSansMono-BoldOblique.ttf) oblique normal 700 normal>) = 11.335\n",
      "DEBUG:matplotlib.font_manager:findfont: score(<Font 'Liberation Sans' (LiberationSans-BoldItalic.ttf) italic normal 700 normal>) = 11.335\n",
      "DEBUG:matplotlib.font_manager:findfont: score(<Font 'DejaVu Sans' (DejaVuSansCondensed.ttf) normal normal 400 condensed>) = 0.25\n",
      "DEBUG:matplotlib.font_manager:findfont: score(<Font 'DejaVu Sans' (DejaVuSans-BoldOblique.ttf) oblique normal 700 normal>) = 1.335\n",
      "DEBUG:matplotlib.font_manager:findfont: score(<Font 'DejaVu Sans' (DejaVuSans.ttf) normal normal 400 normal>) = 0.05\n",
      "DEBUG:matplotlib.font_manager:findfont: score(<Font 'Liberation Sans' (LiberationSans-Regular.ttf) normal normal 400 normal>) = 10.05\n",
      "DEBUG:matplotlib.font_manager:findfont: score(<Font 'STIX' (STIX-Regular.otf) normal normal 400 normal>) = 10.05\n",
      "DEBUG:matplotlib.font_manager:findfont: score(<Font 'Liberation Sans' (LiberationSans-Bold.ttf) normal normal 700 normal>) = 10.335\n",
      "DEBUG:matplotlib.font_manager:findfont: score(<Font 'STIX' (STIX-Italic.otf) italic normal 400 normal>) = 11.05\n",
      "DEBUG:matplotlib.font_manager:findfont: score(<Font 'DejaVu Sans' (DejaVuSans-Bold.ttf) normal normal 700 normal>) = 0.33499999999999996\n",
      "DEBUG:matplotlib.font_manager:findfont: score(<Font 'DejaVu Sans' (DejaVuSansCondensed-BoldOblique.ttf) oblique normal 700 condensed>) = 1.535\n",
      "DEBUG:matplotlib.font_manager:findfont: score(<Font 'DejaVu Sans' (DejaVuSansCondensed-Bold.ttf) normal normal 700 condensed>) = 0.5349999999999999\n",
      "DEBUG:matplotlib.font_manager:findfont: score(<Font 'DejaVu Sans' (DejaVuSansCondensed-Oblique.ttf) oblique normal 400 condensed>) = 1.25\n",
      "DEBUG:matplotlib.font_manager:findfont: score(<Font 'STIX' (STIX-Bold.otf) normal normal 700 normal>) = 10.335\n",
      "DEBUG:matplotlib.font_manager:findfont: score(<Font 'DejaVu Sans Mono' (DejaVuSansMono.ttf) normal normal 400 normal>) = 10.05\n",
      "DEBUG:matplotlib.font_manager:findfont: score(<Font 'DejaVu Sans' (DejaVuSans-Oblique.ttf) oblique normal 400 normal>) = 1.05\n",
      "DEBUG:matplotlib.font_manager:findfont: score(<Font 'Liberation Sans' (LiberationSans-Italic.ttf) italic normal 400 normal>) = 11.05\n",
      "DEBUG:matplotlib.font_manager:findfont: Matching sans\\-serif:style=normal:variant=normal:weight=normal:stretch=normal:size=10.0 to DejaVu Sans ('/home/zhangi/miniconda3/envs/perses-rest2v2/lib/python3.8/site-packages/matplotlib/mpl-data/fonts/ttf/DejaVuSans.ttf') with score of 0.050000.\n"
     ]
    },
    {
     "data": {
      "image/png": "[encoded data removed]",
      "text/plain": [
       "<Figure size 432x288 with 1 Axes>"
      ]
     },
     "metadata": {
      "needs_background": "light"
     },
     "output_type": "display_data"
    }
   ],
   "source": [
    "plt.scatter(range(len(neighbors)), [len(frame) for frame in neighbors])\n",
    "plt.ylabel(\"number of waters\")\n",
    "plt.xlabel(\"rest snapshot\")\n",
    "plt.title(\"K27\")\n",
    "plt.ylim([0, 18])"
   ]
  },
  {
   "cell_type": "code",
   "execution_count": 23,
   "id": "4b7e8d45",
   "metadata": {},
   "outputs": [
    {
     "name": "stderr",
     "output_type": "stream",
     "text": [
      "INFO:numexpr.utils:Note: detected 72 virtual cores but NumExpr set to maximum of 64, check \"NUMEXPR_MAX_THREADS\" environment variable.\n",
      "INFO:numexpr.utils:Note: NumExpr detected 72 cores but \"NUMEXPR_MAX_THREADS\" not set, so enforcing safe limit of 8.\n",
      "INFO:numexpr.utils:NumExpr defaulting to 8 threads.\n"
     ]
    }
   ],
   "source": [
    "from pymbar import timeseries"
   ]
  },
  {
   "cell_type": "code",
   "execution_count": 51,
   "id": "4461f407",
   "metadata": {},
   "outputs": [],
   "source": [
    "k27_waters = [len(frame) for frame in neighbors]\n"
   ]
  },
  {
   "cell_type": "code",
   "execution_count": 52,
   "id": "3a94ee97",
   "metadata": {},
   "outputs": [
    {
     "data": {
      "text/plain": [
       "2.1320609944034388"
      ]
     },
     "execution_count": 52,
     "metadata": {},
     "output_type": "execute_result"
    }
   ],
   "source": [
    "timeseries.statisticalInefficiency(k27_waters)\n"
   ]
  },
  {
   "cell_type": "markdown",
   "id": "5f47dbc5",
   "metadata": {},
   "source": [
    "A27"
   ]
  },
  {
   "cell_type": "code",
   "execution_count": 53,
   "id": "1b5cd895",
   "metadata": {
    "scrolled": true
   },
   "outputs": [
    {
     "name": "stderr",
     "output_type": "stream",
     "text": [
      "<ipython-input-25-45ff68d441e7>:22: TqdmDeprecationWarning: This function will be removed in tqdm==5.0.0\n",
      "Please use `tqdm.notebook.tqdm` instead of `tqdm.tqdm_notebook`\n",
      "  for j, pos in tqdm_notebook(enumerate(cache)):\n"
     ]
    },
    {
     "data": {
      "application/vnd.jupyter.widget-view+json": {
       "model_id": "3345601813c247b6a7d882059227033c",
       "version_major": 2,
       "version_minor": 0
      },
      "text/plain": [
       "0it [00:00, ?it/s]"
      ]
     },
     "metadata": {},
     "output_type": "display_data"
    },
    {
     "ename": "ValueError",
     "evalue": "Buffer dtype mismatch, expected 'float' but got 'double'",
     "output_type": "error",
     "traceback": [
      "\u001b[0;31m--------------------------------\u001b[0m",
      "\u001b[0;31mValueError\u001b[0mTraceback (most recent call last)",
      "\u001b[0;31mValueError\u001b[0m: Buffer dtype mismatch, expected 'float' but got 'double'"
     ]
    },
    {
     "name": "stderr",
     "output_type": "stream",
     "text": [
      "Exception ignored in: 'mdtraj.geometry._geometry.image_frame'\n",
      "Traceback (most recent call last):\n",
      "  File \"/home/zhangi/miniconda3/envs/perses-rest2v2/lib/python3.8/site-packages/mdtraj/core/trajectory.py\", line 2005, in image_molecules\n",
      "    _geometry.image_molecules(result.xyz, box, anchor_molecules_atom_indices, other_molecules_atom_indices, sorted_bonds)\n",
      "ValueError: Buffer dtype mismatch, expected 'float' but got 'double'\n"
     ]
    },
    {
     "ename": "ValueError",
     "evalue": "Buffer dtype mismatch, expected 'float' but got 'double'",
     "output_type": "error",
     "traceback": [
      "\u001b[0;31m--------------------------------\u001b[0m",
      "\u001b[0;31mValueError\u001b[0mTraceback (most recent call last)",
      "\u001b[0;31mValueError\u001b[0m: Buffer dtype mismatch, expected 'float' but got 'double'"
     ]
    },
    {
     "name": "stderr",
     "output_type": "stream",
     "text": [
      "Exception ignored in: 'mdtraj.geometry._geometry.image_frame'\n",
      "Traceback (most recent call last):\n",
      "  File \"/home/zhangi/miniconda3/envs/perses-rest2v2/lib/python3.8/site-packages/mdtraj/core/trajectory.py\", line 2005, in image_molecules\n",
      "    _geometry.image_molecules(result.xyz, box, anchor_molecules_atom_indices, other_molecules_atom_indices, sorted_bonds)\n",
      "ValueError: Buffer dtype mismatch, expected 'float' but got 'double'\n"
     ]
    },
    {
     "ename": "ValueError",
     "evalue": "Buffer dtype mismatch, expected 'float' but got 'double'",
     "output_type": "error",
     "traceback": [
      "\u001b[0;31m--------------------------------\u001b[0m",
      "\u001b[0;31mValueError\u001b[0mTraceback (most recent call last)",
      "\u001b[0;31mValueError\u001b[0m: Buffer dtype mismatch, expected 'float' but got 'double'"
     ]
    },
    {
     "name": "stderr",
     "output_type": "stream",
     "text": [
      "Exception ignored in: 'mdtraj.geometry._geometry.image_frame'\n",
      "Traceback (most recent call last):\n",
      "  File \"/home/zhangi/miniconda3/envs/perses-rest2v2/lib/python3.8/site-packages/mdtraj/core/trajectory.py\", line 2005, in image_molecules\n",
      "    _geometry.image_molecules(result.xyz, box, anchor_molecules_atom_indices, other_molecules_atom_indices, sorted_bonds)\n",
      "ValueError: Buffer dtype mismatch, expected 'float' but got 'double'\n"
     ]
    },
    {
     "ename": "ValueError",
     "evalue": "Buffer dtype mismatch, expected 'float' but got 'double'",
     "output_type": "error",
     "traceback": [
      "\u001b[0;31m--------------------------------\u001b[0m",
      "\u001b[0;31mValueError\u001b[0mTraceback (most recent call last)",
      "\u001b[0;31mValueError\u001b[0m: Buffer dtype mismatch, expected 'float' but got 'double'"
     ]
    },
    {
     "name": "stderr",
     "output_type": "stream",
     "text": [
      "Exception ignored in: 'mdtraj.geometry._geometry.image_frame'\n",
      "Traceback (most recent call last):\n",
      "  File \"/home/zhangi/miniconda3/envs/perses-rest2v2/lib/python3.8/site-packages/mdtraj/core/trajectory.py\", line 2005, in image_molecules\n",
      "    _geometry.image_molecules(result.xyz, box, anchor_molecules_atom_indices, other_molecules_atom_indices, sorted_bonds)\n",
      "ValueError: Buffer dtype mismatch, expected 'float' but got 'double'\n"
     ]
    },
    {
     "ename": "ValueError",
     "evalue": "Buffer dtype mismatch, expected 'float' but got 'double'",
     "output_type": "error",
     "traceback": [
      "\u001b[0;31m--------------------------------\u001b[0m",
      "\u001b[0;31mValueError\u001b[0mTraceback (most recent call last)",
      "\u001b[0;31mValueError\u001b[0m: Buffer dtype mismatch, expected 'float' but got 'double'"
     ]
    },
    {
     "name": "stderr",
     "output_type": "stream",
     "text": [
      "Exception ignored in: 'mdtraj.geometry._geometry.image_frame'\n",
      "Traceback (most recent call last):\n",
      "  File \"/home/zhangi/miniconda3/envs/perses-rest2v2/lib/python3.8/site-packages/mdtraj/core/trajectory.py\", line 2005, in image_molecules\n",
      "    _geometry.image_molecules(result.xyz, box, anchor_molecules_atom_indices, other_molecules_atom_indices, sorted_bonds)\n",
      "ValueError: Buffer dtype mismatch, expected 'float' but got 'double'\n"
     ]
    },
    {
     "ename": "ValueError",
     "evalue": "Buffer dtype mismatch, expected 'float' but got 'double'",
     "output_type": "error",
     "traceback": [
      "\u001b[0;31m--------------------------------\u001b[0m",
      "\u001b[0;31mValueError\u001b[0mTraceback (most recent call last)",
      "\u001b[0;31mValueError\u001b[0m: Buffer dtype mismatch, expected 'float' but got 'double'"
     ]
    },
    {
     "name": "stderr",
     "output_type": "stream",
     "text": [
      "Exception ignored in: 'mdtraj.geometry._geometry.image_frame'\n",
      "Traceback (most recent call last):\n",
      "  File \"/home/zhangi/miniconda3/envs/perses-rest2v2/lib/python3.8/site-packages/mdtraj/core/trajectory.py\", line 2005, in image_molecules\n",
      "    _geometry.image_molecules(result.xyz, box, anchor_molecules_atom_indices, other_molecules_atom_indices, sorted_bonds)\n",
      "ValueError: Buffer dtype mismatch, expected 'float' but got 'double'\n"
     ]
    },
    {
     "ename": "ValueError",
     "evalue": "Buffer dtype mismatch, expected 'float' but got 'double'",
     "output_type": "error",
     "traceback": [
      "\u001b[0;31m--------------------------------\u001b[0m",
      "\u001b[0;31mValueError\u001b[0mTraceback (most recent call last)",
      "\u001b[0;31mValueError\u001b[0m: Buffer dtype mismatch, expected 'float' but got 'double'"
     ]
    },
    {
     "name": "stderr",
     "output_type": "stream",
     "text": [
      "Exception ignored in: 'mdtraj.geometry._geometry.image_frame'\n",
      "Traceback (most recent call last):\n",
      "  File \"/home/zhangi/miniconda3/envs/perses-rest2v2/lib/python3.8/site-packages/mdtraj/core/trajectory.py\", line 2005, in image_molecules\n",
      "    _geometry.image_molecules(result.xyz, box, anchor_molecules_atom_indices, other_molecules_atom_indices, sorted_bonds)\n",
      "ValueError: Buffer dtype mismatch, expected 'float' but got 'double'\n"
     ]
    },
    {
     "ename": "ValueError",
     "evalue": "Buffer dtype mismatch, expected 'float' but got 'double'",
     "output_type": "error",
     "traceback": [
      "\u001b[0;31m--------------------------------\u001b[0m",
      "\u001b[0;31mValueError\u001b[0mTraceback (most recent call last)",
      "\u001b[0;31mValueError\u001b[0m: Buffer dtype mismatch, expected 'float' but got 'double'"
     ]
    },
    {
     "name": "stderr",
     "output_type": "stream",
     "text": [
      "Exception ignored in: 'mdtraj.geometry._geometry.image_frame'\n",
      "Traceback (most recent call last):\n",
      "  File \"/home/zhangi/miniconda3/envs/perses-rest2v2/lib/python3.8/site-packages/mdtraj/core/trajectory.py\", line 2005, in image_molecules\n",
      "    _geometry.image_molecules(result.xyz, box, anchor_molecules_atom_indices, other_molecules_atom_indices, sorted_bonds)\n",
      "ValueError: Buffer dtype mismatch, expected 'float' but got 'double'\n"
     ]
    },
    {
     "ename": "ValueError",
     "evalue": "Buffer dtype mismatch, expected 'float' but got 'double'",
     "output_type": "error",
     "traceback": [
      "\u001b[0;31m--------------------------------\u001b[0m",
      "\u001b[0;31mValueError\u001b[0mTraceback (most recent call last)",
      "\u001b[0;31mValueError\u001b[0m: Buffer dtype mismatch, expected 'float' but got 'double'"
     ]
    },
    {
     "name": "stderr",
     "output_type": "stream",
     "text": [
      "Exception ignored in: 'mdtraj.geometry._geometry.image_frame'\n",
      "Traceback (most recent call last):\n",
      "  File \"/home/zhangi/miniconda3/envs/perses-rest2v2/lib/python3.8/site-packages/mdtraj/core/trajectory.py\", line 2005, in image_molecules\n",
      "    _geometry.image_molecules(result.xyz, box, anchor_molecules_atom_indices, other_molecules_atom_indices, sorted_bonds)\n",
      "ValueError: Buffer dtype mismatch, expected 'float' but got 'double'\n"
     ]
    },
    {
     "ename": "ValueError",
     "evalue": "Buffer dtype mismatch, expected 'float' but got 'double'",
     "output_type": "error",
     "traceback": [
      "\u001b[0;31m--------------------------------\u001b[0m",
      "\u001b[0;31mValueError\u001b[0mTraceback (most recent call last)",
      "\u001b[0;31mValueError\u001b[0m: Buffer dtype mismatch, expected 'float' but got 'double'"
     ]
    },
    {
     "name": "stderr",
     "output_type": "stream",
     "text": [
      "Exception ignored in: 'mdtraj.geometry._geometry.image_frame'\n",
      "Traceback (most recent call last):\n",
      "  File \"/home/zhangi/miniconda3/envs/perses-rest2v2/lib/python3.8/site-packages/mdtraj/core/trajectory.py\", line 2005, in image_molecules\n",
      "    _geometry.image_molecules(result.xyz, box, anchor_molecules_atom_indices, other_molecules_atom_indices, sorted_bonds)\n",
      "ValueError: Buffer dtype mismatch, expected 'float' but got 'double'\n"
     ]
    },
    {
     "ename": "ValueError",
     "evalue": "Buffer dtype mismatch, expected 'float' but got 'double'",
     "output_type": "error",
     "traceback": [
      "\u001b[0;31m--------------------------------\u001b[0m",
      "\u001b[0;31mValueError\u001b[0mTraceback (most recent call last)",
      "\u001b[0;31mValueError\u001b[0m: Buffer dtype mismatch, expected 'float' but got 'double'"
     ]
    },
    {
     "name": "stderr",
     "output_type": "stream",
     "text": [
      "Exception ignored in: 'mdtraj.geometry._geometry.image_frame'\n",
      "Traceback (most recent call last):\n",
      "  File \"/home/zhangi/miniconda3/envs/perses-rest2v2/lib/python3.8/site-packages/mdtraj/core/trajectory.py\", line 2005, in image_molecules\n",
      "    _geometry.image_molecules(result.xyz, box, anchor_molecules_atom_indices, other_molecules_atom_indices, sorted_bonds)\n",
      "ValueError: Buffer dtype mismatch, expected 'float' but got 'double'\n"
     ]
    },
    {
     "ename": "ValueError",
     "evalue": "Buffer dtype mismatch, expected 'float' but got 'double'",
     "output_type": "error",
     "traceback": [
      "\u001b[0;31m--------------------------------\u001b[0m",
      "\u001b[0;31mValueError\u001b[0mTraceback (most recent call last)",
      "\u001b[0;31mValueError\u001b[0m: Buffer dtype mismatch, expected 'float' but got 'double'"
     ]
    },
    {
     "name": "stderr",
     "output_type": "stream",
     "text": [
      "Exception ignored in: 'mdtraj.geometry._geometry.image_frame'\n",
      "Traceback (most recent call last):\n",
      "  File \"/home/zhangi/miniconda3/envs/perses-rest2v2/lib/python3.8/site-packages/mdtraj/core/trajectory.py\", line 2005, in image_molecules\n",
      "    _geometry.image_molecules(result.xyz, box, anchor_molecules_atom_indices, other_molecules_atom_indices, sorted_bonds)\n",
      "ValueError: Buffer dtype mismatch, expected 'float' but got 'double'\n"
     ]
    },
    {
     "ename": "ValueError",
     "evalue": "Buffer dtype mismatch, expected 'float' but got 'double'",
     "output_type": "error",
     "traceback": [
      "\u001b[0;31m--------------------------------\u001b[0m",
      "\u001b[0;31mValueError\u001b[0mTraceback (most recent call last)",
      "\u001b[0;31mValueError\u001b[0m: Buffer dtype mismatch, expected 'float' but got 'double'"
     ]
    },
    {
     "name": "stderr",
     "output_type": "stream",
     "text": [
      "Exception ignored in: 'mdtraj.geometry._geometry.image_frame'\n",
      "Traceback (most recent call last):\n",
      "  File \"/home/zhangi/miniconda3/envs/perses-rest2v2/lib/python3.8/site-packages/mdtraj/core/trajectory.py\", line 2005, in image_molecules\n",
      "    _geometry.image_molecules(result.xyz, box, anchor_molecules_atom_indices, other_molecules_atom_indices, sorted_bonds)\n",
      "ValueError: Buffer dtype mismatch, expected 'float' but got 'double'\n"
     ]
    },
    {
     "ename": "ValueError",
     "evalue": "Buffer dtype mismatch, expected 'float' but got 'double'",
     "output_type": "error",
     "traceback": [
      "\u001b[0;31m--------------------------------\u001b[0m",
      "\u001b[0;31mValueError\u001b[0mTraceback (most recent call last)",
      "\u001b[0;31mValueError\u001b[0m: Buffer dtype mismatch, expected 'float' but got 'double'"
     ]
    },
    {
     "name": "stderr",
     "output_type": "stream",
     "text": [
      "Exception ignored in: 'mdtraj.geometry._geometry.image_frame'\n",
      "Traceback (most recent call last):\n",
      "  File \"/home/zhangi/miniconda3/envs/perses-rest2v2/lib/python3.8/site-packages/mdtraj/core/trajectory.py\", line 2005, in image_molecules\n",
      "    _geometry.image_molecules(result.xyz, box, anchor_molecules_atom_indices, other_molecules_atom_indices, sorted_bonds)\n",
      "ValueError: Buffer dtype mismatch, expected 'float' but got 'double'\n"
     ]
    },
    {
     "ename": "ValueError",
     "evalue": "Buffer dtype mismatch, expected 'float' but got 'double'",
     "output_type": "error",
     "traceback": [
      "\u001b[0;31m--------------------------------\u001b[0m",
      "\u001b[0;31mValueError\u001b[0mTraceback (most recent call last)",
      "\u001b[0;31mValueError\u001b[0m: Buffer dtype mismatch, expected 'float' but got 'double'"
     ]
    },
    {
     "name": "stderr",
     "output_type": "stream",
     "text": [
      "Exception ignored in: 'mdtraj.geometry._geometry.image_frame'\n",
      "Traceback (most recent call last):\n",
      "  File \"/home/zhangi/miniconda3/envs/perses-rest2v2/lib/python3.8/site-packages/mdtraj/core/trajectory.py\", line 2005, in image_molecules\n",
      "    _geometry.image_molecules(result.xyz, box, anchor_molecules_atom_indices, other_molecules_atom_indices, sorted_bonds)\n",
      "ValueError: Buffer dtype mismatch, expected 'float' but got 'double'\n"
     ]
    },
    {
     "ename": "ValueError",
     "evalue": "Buffer dtype mismatch, expected 'float' but got 'double'",
     "output_type": "error",
     "traceback": [
      "\u001b[0;31m--------------------------------\u001b[0m",
      "\u001b[0;31mValueError\u001b[0mTraceback (most recent call last)",
      "\u001b[0;31mValueError\u001b[0m: Buffer dtype mismatch, expected 'float' but got 'double'"
     ]
    },
    {
     "name": "stderr",
     "output_type": "stream",
     "text": [
      "Exception ignored in: 'mdtraj.geometry._geometry.image_frame'\n",
      "Traceback (most recent call last):\n",
      "  File \"/home/zhangi/miniconda3/envs/perses-rest2v2/lib/python3.8/site-packages/mdtraj/core/trajectory.py\", line 2005, in image_molecules\n",
      "    _geometry.image_molecules(result.xyz, box, anchor_molecules_atom_indices, other_molecules_atom_indices, sorted_bonds)\n",
      "ValueError: Buffer dtype mismatch, expected 'float' but got 'double'\n"
     ]
    },
    {
     "ename": "ValueError",
     "evalue": "Buffer dtype mismatch, expected 'float' but got 'double'",
     "output_type": "error",
     "traceback": [
      "\u001b[0;31m--------------------------------\u001b[0m",
      "\u001b[0;31mValueError\u001b[0mTraceback (most recent call last)",
      "\u001b[0;31mValueError\u001b[0m: Buffer dtype mismatch, expected 'float' but got 'double'"
     ]
    },
    {
     "name": "stderr",
     "output_type": "stream",
     "text": [
      "Exception ignored in: 'mdtraj.geometry._geometry.image_frame'\n",
      "Traceback (most recent call last):\n",
      "  File \"/home/zhangi/miniconda3/envs/perses-rest2v2/lib/python3.8/site-packages/mdtraj/core/trajectory.py\", line 2005, in image_molecules\n",
      "    _geometry.image_molecules(result.xyz, box, anchor_molecules_atom_indices, other_molecules_atom_indices, sorted_bonds)\n",
      "ValueError: Buffer dtype mismatch, expected 'float' but got 'double'\n"
     ]
    },
    {
     "ename": "ValueError",
     "evalue": "Buffer dtype mismatch, expected 'float' but got 'double'",
     "output_type": "error",
     "traceback": [
      "\u001b[0;31m--------------------------------\u001b[0m",
      "\u001b[0;31mValueError\u001b[0mTraceback (most recent call last)",
      "\u001b[0;31mValueError\u001b[0m: Buffer dtype mismatch, expected 'float' but got 'double'"
     ]
    },
    {
     "name": "stderr",
     "output_type": "stream",
     "text": [
      "Exception ignored in: 'mdtraj.geometry._geometry.image_frame'\n",
      "Traceback (most recent call last):\n",
      "  File \"/home/zhangi/miniconda3/envs/perses-rest2v2/lib/python3.8/site-packages/mdtraj/core/trajectory.py\", line 2005, in image_molecules\n",
      "    _geometry.image_molecules(result.xyz, box, anchor_molecules_atom_indices, other_molecules_atom_indices, sorted_bonds)\n",
      "ValueError: Buffer dtype mismatch, expected 'float' but got 'double'\n"
     ]
    },
    {
     "ename": "ValueError",
     "evalue": "Buffer dtype mismatch, expected 'float' but got 'double'",
     "output_type": "error",
     "traceback": [
      "\u001b[0;31m--------------------------------\u001b[0m",
      "\u001b[0;31mValueError\u001b[0mTraceback (most recent call last)",
      "\u001b[0;31mValueError\u001b[0m: Buffer dtype mismatch, expected 'float' but got 'double'"
     ]
    },
    {
     "name": "stderr",
     "output_type": "stream",
     "text": [
      "Exception ignored in: 'mdtraj.geometry._geometry.image_frame'\n",
      "Traceback (most recent call last):\n",
      "  File \"/home/zhangi/miniconda3/envs/perses-rest2v2/lib/python3.8/site-packages/mdtraj/core/trajectory.py\", line 2005, in image_molecules\n",
      "    _geometry.image_molecules(result.xyz, box, anchor_molecules_atom_indices, other_molecules_atom_indices, sorted_bonds)\n",
      "ValueError: Buffer dtype mismatch, expected 'float' but got 'double'\n"
     ]
    },
    {
     "ename": "ValueError",
     "evalue": "Buffer dtype mismatch, expected 'float' but got 'double'",
     "output_type": "error",
     "traceback": [
      "\u001b[0;31m--------------------------------\u001b[0m",
      "\u001b[0;31mValueError\u001b[0mTraceback (most recent call last)",
      "\u001b[0;31mValueError\u001b[0m: Buffer dtype mismatch, expected 'float' but got 'double'"
     ]
    },
    {
     "name": "stderr",
     "output_type": "stream",
     "text": [
      "Exception ignored in: 'mdtraj.geometry._geometry.image_frame'\n",
      "Traceback (most recent call last):\n",
      "  File \"/home/zhangi/miniconda3/envs/perses-rest2v2/lib/python3.8/site-packages/mdtraj/core/trajectory.py\", line 2005, in image_molecules\n",
      "    _geometry.image_molecules(result.xyz, box, anchor_molecules_atom_indices, other_molecules_atom_indices, sorted_bonds)\n",
      "ValueError: Buffer dtype mismatch, expected 'float' but got 'double'\n"
     ]
    },
    {
     "ename": "ValueError",
     "evalue": "Buffer dtype mismatch, expected 'float' but got 'double'",
     "output_type": "error",
     "traceback": [
      "\u001b[0;31m--------------------------------\u001b[0m",
      "\u001b[0;31mValueError\u001b[0mTraceback (most recent call last)",
      "\u001b[0;31mValueError\u001b[0m: Buffer dtype mismatch, expected 'float' but got 'double'"
     ]
    },
    {
     "name": "stderr",
     "output_type": "stream",
     "text": [
      "Exception ignored in: 'mdtraj.geometry._geometry.image_frame'\n",
      "Traceback (most recent call last):\n",
      "  File \"/home/zhangi/miniconda3/envs/perses-rest2v2/lib/python3.8/site-packages/mdtraj/core/trajectory.py\", line 2005, in image_molecules\n",
      "    _geometry.image_molecules(result.xyz, box, anchor_molecules_atom_indices, other_molecules_atom_indices, sorted_bonds)\n",
      "ValueError: Buffer dtype mismatch, expected 'float' but got 'double'\n"
     ]
    },
    {
     "ename": "ValueError",
     "evalue": "Buffer dtype mismatch, expected 'float' but got 'double'",
     "output_type": "error",
     "traceback": [
      "\u001b[0;31m--------------------------------\u001b[0m",
      "\u001b[0;31mValueError\u001b[0mTraceback (most recent call last)",
      "\u001b[0;31mValueError\u001b[0m: Buffer dtype mismatch, expected 'float' but got 'double'"
     ]
    },
    {
     "name": "stderr",
     "output_type": "stream",
     "text": [
      "Exception ignored in: 'mdtraj.geometry._geometry.image_frame'\n",
      "Traceback (most recent call last):\n",
      "  File \"/home/zhangi/miniconda3/envs/perses-rest2v2/lib/python3.8/site-packages/mdtraj/core/trajectory.py\", line 2005, in image_molecules\n",
      "    _geometry.image_molecules(result.xyz, box, anchor_molecules_atom_indices, other_molecules_atom_indices, sorted_bonds)\n",
      "ValueError: Buffer dtype mismatch, expected 'float' but got 'double'\n"
     ]
    },
    {
     "ename": "ValueError",
     "evalue": "Buffer dtype mismatch, expected 'float' but got 'double'",
     "output_type": "error",
     "traceback": [
      "\u001b[0;31m--------------------------------\u001b[0m",
      "\u001b[0;31mValueError\u001b[0mTraceback (most recent call last)",
      "\u001b[0;31mValueError\u001b[0m: Buffer dtype mismatch, expected 'float' but got 'double'"
     ]
    },
    {
     "name": "stderr",
     "output_type": "stream",
     "text": [
      "Exception ignored in: 'mdtraj.geometry._geometry.image_frame'\n",
      "Traceback (most recent call last):\n",
      "  File \"/home/zhangi/miniconda3/envs/perses-rest2v2/lib/python3.8/site-packages/mdtraj/core/trajectory.py\", line 2005, in image_molecules\n",
      "    _geometry.image_molecules(result.xyz, box, anchor_molecules_atom_indices, other_molecules_atom_indices, sorted_bonds)\n",
      "ValueError: Buffer dtype mismatch, expected 'float' but got 'double'\n"
     ]
    },
    {
     "ename": "ValueError",
     "evalue": "Buffer dtype mismatch, expected 'float' but got 'double'",
     "output_type": "error",
     "traceback": [
      "\u001b[0;31m--------------------------------\u001b[0m",
      "\u001b[0;31mValueError\u001b[0mTraceback (most recent call last)",
      "\u001b[0;31mValueError\u001b[0m: Buffer dtype mismatch, expected 'float' but got 'double'"
     ]
    },
    {
     "name": "stderr",
     "output_type": "stream",
     "text": [
      "Exception ignored in: 'mdtraj.geometry._geometry.image_frame'\n",
      "Traceback (most recent call last):\n",
      "  File \"/home/zhangi/miniconda3/envs/perses-rest2v2/lib/python3.8/site-packages/mdtraj/core/trajectory.py\", line 2005, in image_molecules\n",
      "    _geometry.image_molecules(result.xyz, box, anchor_molecules_atom_indices, other_molecules_atom_indices, sorted_bonds)\n",
      "ValueError: Buffer dtype mismatch, expected 'float' but got 'double'\n"
     ]
    },
    {
     "ename": "ValueError",
     "evalue": "Buffer dtype mismatch, expected 'float' but got 'double'",
     "output_type": "error",
     "traceback": [
      "\u001b[0;31m--------------------------------\u001b[0m",
      "\u001b[0;31mValueError\u001b[0mTraceback (most recent call last)",
      "\u001b[0;31mValueError\u001b[0m: Buffer dtype mismatch, expected 'float' but got 'double'"
     ]
    },
    {
     "name": "stderr",
     "output_type": "stream",
     "text": [
      "Exception ignored in: 'mdtraj.geometry._geometry.image_frame'\n",
      "Traceback (most recent call last):\n",
      "  File \"/home/zhangi/miniconda3/envs/perses-rest2v2/lib/python3.8/site-packages/mdtraj/core/trajectory.py\", line 2005, in image_molecules\n",
      "    _geometry.image_molecules(result.xyz, box, anchor_molecules_atom_indices, other_molecules_atom_indices, sorted_bonds)\n",
      "ValueError: Buffer dtype mismatch, expected 'float' but got 'double'\n"
     ]
    },
    {
     "ename": "ValueError",
     "evalue": "Buffer dtype mismatch, expected 'float' but got 'double'",
     "output_type": "error",
     "traceback": [
      "\u001b[0;31m--------------------------------\u001b[0m",
      "\u001b[0;31mValueError\u001b[0mTraceback (most recent call last)",
      "\u001b[0;31mValueError\u001b[0m: Buffer dtype mismatch, expected 'float' but got 'double'"
     ]
    },
    {
     "name": "stderr",
     "output_type": "stream",
     "text": [
      "Exception ignored in: 'mdtraj.geometry._geometry.image_frame'\n",
      "Traceback (most recent call last):\n",
      "  File \"/home/zhangi/miniconda3/envs/perses-rest2v2/lib/python3.8/site-packages/mdtraj/core/trajectory.py\", line 2005, in image_molecules\n",
      "    _geometry.image_molecules(result.xyz, box, anchor_molecules_atom_indices, other_molecules_atom_indices, sorted_bonds)\n",
      "ValueError: Buffer dtype mismatch, expected 'float' but got 'double'\n"
     ]
    },
    {
     "ename": "ValueError",
     "evalue": "Buffer dtype mismatch, expected 'float' but got 'double'",
     "output_type": "error",
     "traceback": [
      "\u001b[0;31m--------------------------------\u001b[0m",
      "\u001b[0;31mValueError\u001b[0mTraceback (most recent call last)",
      "\u001b[0;31mValueError\u001b[0m: Buffer dtype mismatch, expected 'float' but got 'double'"
     ]
    },
    {
     "name": "stderr",
     "output_type": "stream",
     "text": [
      "Exception ignored in: 'mdtraj.geometry._geometry.image_frame'\n",
      "Traceback (most recent call last):\n",
      "  File \"/home/zhangi/miniconda3/envs/perses-rest2v2/lib/python3.8/site-packages/mdtraj/core/trajectory.py\", line 2005, in image_molecules\n",
      "    _geometry.image_molecules(result.xyz, box, anchor_molecules_atom_indices, other_molecules_atom_indices, sorted_bonds)\n",
      "ValueError: Buffer dtype mismatch, expected 'float' but got 'double'\n"
     ]
    },
    {
     "ename": "ValueError",
     "evalue": "Buffer dtype mismatch, expected 'float' but got 'double'",
     "output_type": "error",
     "traceback": [
      "\u001b[0;31m--------------------------------\u001b[0m",
      "\u001b[0;31mValueError\u001b[0mTraceback (most recent call last)",
      "\u001b[0;31mValueError\u001b[0m: Buffer dtype mismatch, expected 'float' but got 'double'"
     ]
    },
    {
     "name": "stderr",
     "output_type": "stream",
     "text": [
      "Exception ignored in: 'mdtraj.geometry._geometry.image_frame'\n",
      "Traceback (most recent call last):\n",
      "  File \"/home/zhangi/miniconda3/envs/perses-rest2v2/lib/python3.8/site-packages/mdtraj/core/trajectory.py\", line 2005, in image_molecules\n",
      "    _geometry.image_molecules(result.xyz, box, anchor_molecules_atom_indices, other_molecules_atom_indices, sorted_bonds)\n",
      "ValueError: Buffer dtype mismatch, expected 'float' but got 'double'\n"
     ]
    },
    {
     "ename": "ValueError",
     "evalue": "Buffer dtype mismatch, expected 'float' but got 'double'",
     "output_type": "error",
     "traceback": [
      "\u001b[0;31m--------------------------------\u001b[0m",
      "\u001b[0;31mValueError\u001b[0mTraceback (most recent call last)",
      "\u001b[0;31mValueError\u001b[0m: Buffer dtype mismatch, expected 'float' but got 'double'"
     ]
    },
    {
     "name": "stderr",
     "output_type": "stream",
     "text": [
      "Exception ignored in: 'mdtraj.geometry._geometry.image_frame'\n",
      "Traceback (most recent call last):\n",
      "  File \"/home/zhangi/miniconda3/envs/perses-rest2v2/lib/python3.8/site-packages/mdtraj/core/trajectory.py\", line 2005, in image_molecules\n",
      "    _geometry.image_molecules(result.xyz, box, anchor_molecules_atom_indices, other_molecules_atom_indices, sorted_bonds)\n",
      "ValueError: Buffer dtype mismatch, expected 'float' but got 'double'\n"
     ]
    },
    {
     "ename": "ValueError",
     "evalue": "Buffer dtype mismatch, expected 'float' but got 'double'",
     "output_type": "error",
     "traceback": [
      "\u001b[0;31m--------------------------------\u001b[0m",
      "\u001b[0;31mValueError\u001b[0mTraceback (most recent call last)",
      "\u001b[0;31mValueError\u001b[0m: Buffer dtype mismatch, expected 'float' but got 'double'"
     ]
    },
    {
     "name": "stderr",
     "output_type": "stream",
     "text": [
      "Exception ignored in: 'mdtraj.geometry._geometry.image_frame'\n",
      "Traceback (most recent call last):\n",
      "  File \"/home/zhangi/miniconda3/envs/perses-rest2v2/lib/python3.8/site-packages/mdtraj/core/trajectory.py\", line 2005, in image_molecules\n",
      "    _geometry.image_molecules(result.xyz, box, anchor_molecules_atom_indices, other_molecules_atom_indices, sorted_bonds)\n",
      "ValueError: Buffer dtype mismatch, expected 'float' but got 'double'\n"
     ]
    },
    {
     "ename": "ValueError",
     "evalue": "Buffer dtype mismatch, expected 'float' but got 'double'",
     "output_type": "error",
     "traceback": [
      "\u001b[0;31m--------------------------------\u001b[0m",
      "\u001b[0;31mValueError\u001b[0mTraceback (most recent call last)",
      "\u001b[0;31mValueError\u001b[0m: Buffer dtype mismatch, expected 'float' but got 'double'"
     ]
    },
    {
     "name": "stderr",
     "output_type": "stream",
     "text": [
      "Exception ignored in: 'mdtraj.geometry._geometry.image_frame'\n",
      "Traceback (most recent call last):\n",
      "  File \"/home/zhangi/miniconda3/envs/perses-rest2v2/lib/python3.8/site-packages/mdtraj/core/trajectory.py\", line 2005, in image_molecules\n",
      "    _geometry.image_molecules(result.xyz, box, anchor_molecules_atom_indices, other_molecules_atom_indices, sorted_bonds)\n",
      "ValueError: Buffer dtype mismatch, expected 'float' but got 'double'\n"
     ]
    },
    {
     "ename": "ValueError",
     "evalue": "Buffer dtype mismatch, expected 'float' but got 'double'",
     "output_type": "error",
     "traceback": [
      "\u001b[0;31m--------------------------------\u001b[0m",
      "\u001b[0;31mValueError\u001b[0mTraceback (most recent call last)",
      "\u001b[0;31mValueError\u001b[0m: Buffer dtype mismatch, expected 'float' but got 'double'"
     ]
    },
    {
     "name": "stderr",
     "output_type": "stream",
     "text": [
      "Exception ignored in: 'mdtraj.geometry._geometry.image_frame'\n",
      "Traceback (most recent call last):\n",
      "  File \"/home/zhangi/miniconda3/envs/perses-rest2v2/lib/python3.8/site-packages/mdtraj/core/trajectory.py\", line 2005, in image_molecules\n",
      "    _geometry.image_molecules(result.xyz, box, anchor_molecules_atom_indices, other_molecules_atom_indices, sorted_bonds)\n",
      "ValueError: Buffer dtype mismatch, expected 'float' but got 'double'\n"
     ]
    },
    {
     "ename": "ValueError",
     "evalue": "Buffer dtype mismatch, expected 'float' but got 'double'",
     "output_type": "error",
     "traceback": [
      "\u001b[0;31m--------------------------------\u001b[0m",
      "\u001b[0;31mValueError\u001b[0mTraceback (most recent call last)",
      "\u001b[0;31mValueError\u001b[0m: Buffer dtype mismatch, expected 'float' but got 'double'"
     ]
    },
    {
     "name": "stderr",
     "output_type": "stream",
     "text": [
      "Exception ignored in: 'mdtraj.geometry._geometry.image_frame'\n",
      "Traceback (most recent call last):\n",
      "  File \"/home/zhangi/miniconda3/envs/perses-rest2v2/lib/python3.8/site-packages/mdtraj/core/trajectory.py\", line 2005, in image_molecules\n",
      "    _geometry.image_molecules(result.xyz, box, anchor_molecules_atom_indices, other_molecules_atom_indices, sorted_bonds)\n",
      "ValueError: Buffer dtype mismatch, expected 'float' but got 'double'\n"
     ]
    },
    {
     "ename": "ValueError",
     "evalue": "Buffer dtype mismatch, expected 'float' but got 'double'",
     "output_type": "error",
     "traceback": [
      "\u001b[0;31m--------------------------------\u001b[0m",
      "\u001b[0;31mValueError\u001b[0mTraceback (most recent call last)",
      "\u001b[0;31mValueError\u001b[0m: Buffer dtype mismatch, expected 'float' but got 'double'"
     ]
    },
    {
     "name": "stderr",
     "output_type": "stream",
     "text": [
      "Exception ignored in: 'mdtraj.geometry._geometry.image_frame'\n",
      "Traceback (most recent call last):\n",
      "  File \"/home/zhangi/miniconda3/envs/perses-rest2v2/lib/python3.8/site-packages/mdtraj/core/trajectory.py\", line 2005, in image_molecules\n",
      "    _geometry.image_molecules(result.xyz, box, anchor_molecules_atom_indices, other_molecules_atom_indices, sorted_bonds)\n",
      "ValueError: Buffer dtype mismatch, expected 'float' but got 'double'\n"
     ]
    },
    {
     "ename": "ValueError",
     "evalue": "Buffer dtype mismatch, expected 'float' but got 'double'",
     "output_type": "error",
     "traceback": [
      "\u001b[0;31m--------------------------------\u001b[0m",
      "\u001b[0;31mValueError\u001b[0mTraceback (most recent call last)",
      "\u001b[0;31mValueError\u001b[0m: Buffer dtype mismatch, expected 'float' but got 'double'"
     ]
    },
    {
     "name": "stderr",
     "output_type": "stream",
     "text": [
      "Exception ignored in: 'mdtraj.geometry._geometry.image_frame'\n",
      "Traceback (most recent call last):\n",
      "  File \"/home/zhangi/miniconda3/envs/perses-rest2v2/lib/python3.8/site-packages/mdtraj/core/trajectory.py\", line 2005, in image_molecules\n",
      "    _geometry.image_molecules(result.xyz, box, anchor_molecules_atom_indices, other_molecules_atom_indices, sorted_bonds)\n",
      "ValueError: Buffer dtype mismatch, expected 'float' but got 'double'\n"
     ]
    },
    {
     "ename": "ValueError",
     "evalue": "Buffer dtype mismatch, expected 'float' but got 'double'",
     "output_type": "error",
     "traceback": [
      "\u001b[0;31m--------------------------------\u001b[0m",
      "\u001b[0;31mValueError\u001b[0mTraceback (most recent call last)",
      "\u001b[0;31mValueError\u001b[0m: Buffer dtype mismatch, expected 'float' but got 'double'"
     ]
    },
    {
     "name": "stderr",
     "output_type": "stream",
     "text": [
      "Exception ignored in: 'mdtraj.geometry._geometry.image_frame'\n",
      "Traceback (most recent call last):\n",
      "  File \"/home/zhangi/miniconda3/envs/perses-rest2v2/lib/python3.8/site-packages/mdtraj/core/trajectory.py\", line 2005, in image_molecules\n",
      "    _geometry.image_molecules(result.xyz, box, anchor_molecules_atom_indices, other_molecules_atom_indices, sorted_bonds)\n",
      "ValueError: Buffer dtype mismatch, expected 'float' but got 'double'\n"
     ]
    },
    {
     "ename": "ValueError",
     "evalue": "Buffer dtype mismatch, expected 'float' but got 'double'",
     "output_type": "error",
     "traceback": [
      "\u001b[0;31m--------------------------------\u001b[0m",
      "\u001b[0;31mValueError\u001b[0mTraceback (most recent call last)",
      "\u001b[0;31mValueError\u001b[0m: Buffer dtype mismatch, expected 'float' but got 'double'"
     ]
    },
    {
     "name": "stderr",
     "output_type": "stream",
     "text": [
      "Exception ignored in: 'mdtraj.geometry._geometry.image_frame'\n",
      "Traceback (most recent call last):\n",
      "  File \"/home/zhangi/miniconda3/envs/perses-rest2v2/lib/python3.8/site-packages/mdtraj/core/trajectory.py\", line 2005, in image_molecules\n",
      "    _geometry.image_molecules(result.xyz, box, anchor_molecules_atom_indices, other_molecules_atom_indices, sorted_bonds)\n",
      "ValueError: Buffer dtype mismatch, expected 'float' but got 'double'\n"
     ]
    },
    {
     "ename": "ValueError",
     "evalue": "Buffer dtype mismatch, expected 'float' but got 'double'",
     "output_type": "error",
     "traceback": [
      "\u001b[0;31m--------------------------------\u001b[0m",
      "\u001b[0;31mValueError\u001b[0mTraceback (most recent call last)",
      "\u001b[0;31mValueError\u001b[0m: Buffer dtype mismatch, expected 'float' but got 'double'"
     ]
    },
    {
     "name": "stderr",
     "output_type": "stream",
     "text": [
      "Exception ignored in: 'mdtraj.geometry._geometry.image_frame'\n",
      "Traceback (most recent call last):\n",
      "  File \"/home/zhangi/miniconda3/envs/perses-rest2v2/lib/python3.8/site-packages/mdtraj/core/trajectory.py\", line 2005, in image_molecules\n",
      "    _geometry.image_molecules(result.xyz, box, anchor_molecules_atom_indices, other_molecules_atom_indices, sorted_bonds)\n",
      "ValueError: Buffer dtype mismatch, expected 'float' but got 'double'\n"
     ]
    },
    {
     "ename": "ValueError",
     "evalue": "Buffer dtype mismatch, expected 'float' but got 'double'",
     "output_type": "error",
     "traceback": [
      "\u001b[0;31m--------------------------------\u001b[0m",
      "\u001b[0;31mValueError\u001b[0mTraceback (most recent call last)",
      "\u001b[0;31mValueError\u001b[0m: Buffer dtype mismatch, expected 'float' but got 'double'"
     ]
    },
    {
     "name": "stderr",
     "output_type": "stream",
     "text": [
      "Exception ignored in: 'mdtraj.geometry._geometry.image_frame'\n",
      "Traceback (most recent call last):\n",
      "  File \"/home/zhangi/miniconda3/envs/perses-rest2v2/lib/python3.8/site-packages/mdtraj/core/trajectory.py\", line 2005, in image_molecules\n",
      "    _geometry.image_molecules(result.xyz, box, anchor_molecules_atom_indices, other_molecules_atom_indices, sorted_bonds)\n",
      "ValueError: Buffer dtype mismatch, expected 'float' but got 'double'\n"
     ]
    },
    {
     "ename": "ValueError",
     "evalue": "Buffer dtype mismatch, expected 'float' but got 'double'",
     "output_type": "error",
     "traceback": [
      "\u001b[0;31m--------------------------------\u001b[0m",
      "\u001b[0;31mValueError\u001b[0mTraceback (most recent call last)",
      "\u001b[0;31mValueError\u001b[0m: Buffer dtype mismatch, expected 'float' but got 'double'"
     ]
    },
    {
     "name": "stderr",
     "output_type": "stream",
     "text": [
      "Exception ignored in: 'mdtraj.geometry._geometry.image_frame'\n",
      "Traceback (most recent call last):\n",
      "  File \"/home/zhangi/miniconda3/envs/perses-rest2v2/lib/python3.8/site-packages/mdtraj/core/trajectory.py\", line 2005, in image_molecules\n",
      "    _geometry.image_molecules(result.xyz, box, anchor_molecules_atom_indices, other_molecules_atom_indices, sorted_bonds)\n",
      "ValueError: Buffer dtype mismatch, expected 'float' but got 'double'\n"
     ]
    },
    {
     "ename": "ValueError",
     "evalue": "Buffer dtype mismatch, expected 'float' but got 'double'",
     "output_type": "error",
     "traceback": [
      "\u001b[0;31m--------------------------------\u001b[0m",
      "\u001b[0;31mValueError\u001b[0mTraceback (most recent call last)",
      "\u001b[0;31mValueError\u001b[0m: Buffer dtype mismatch, expected 'float' but got 'double'"
     ]
    },
    {
     "name": "stderr",
     "output_type": "stream",
     "text": [
      "Exception ignored in: 'mdtraj.geometry._geometry.image_frame'\n",
      "Traceback (most recent call last):\n",
      "  File \"/home/zhangi/miniconda3/envs/perses-rest2v2/lib/python3.8/site-packages/mdtraj/core/trajectory.py\", line 2005, in image_molecules\n",
      "    _geometry.image_molecules(result.xyz, box, anchor_molecules_atom_indices, other_molecules_atom_indices, sorted_bonds)\n",
      "ValueError: Buffer dtype mismatch, expected 'float' but got 'double'\n"
     ]
    },
    {
     "ename": "ValueError",
     "evalue": "Buffer dtype mismatch, expected 'float' but got 'double'",
     "output_type": "error",
     "traceback": [
      "\u001b[0;31m--------------------------------\u001b[0m",
      "\u001b[0;31mValueError\u001b[0mTraceback (most recent call last)",
      "\u001b[0;31mValueError\u001b[0m: Buffer dtype mismatch, expected 'float' but got 'double'"
     ]
    },
    {
     "name": "stderr",
     "output_type": "stream",
     "text": [
      "Exception ignored in: 'mdtraj.geometry._geometry.image_frame'\n",
      "Traceback (most recent call last):\n",
      "  File \"/home/zhangi/miniconda3/envs/perses-rest2v2/lib/python3.8/site-packages/mdtraj/core/trajectory.py\", line 2005, in image_molecules\n",
      "    _geometry.image_molecules(result.xyz, box, anchor_molecules_atom_indices, other_molecules_atom_indices, sorted_bonds)\n",
      "ValueError: Buffer dtype mismatch, expected 'float' but got 'double'\n"
     ]
    },
    {
     "ename": "ValueError",
     "evalue": "Buffer dtype mismatch, expected 'float' but got 'double'",
     "output_type": "error",
     "traceback": [
      "\u001b[0;31m--------------------------------\u001b[0m",
      "\u001b[0;31mValueError\u001b[0mTraceback (most recent call last)",
      "\u001b[0;31mValueError\u001b[0m: Buffer dtype mismatch, expected 'float' but got 'double'"
     ]
    },
    {
     "name": "stderr",
     "output_type": "stream",
     "text": [
      "Exception ignored in: 'mdtraj.geometry._geometry.image_frame'\n",
      "Traceback (most recent call last):\n",
      "  File \"/home/zhangi/miniconda3/envs/perses-rest2v2/lib/python3.8/site-packages/mdtraj/core/trajectory.py\", line 2005, in image_molecules\n",
      "    _geometry.image_molecules(result.xyz, box, anchor_molecules_atom_indices, other_molecules_atom_indices, sorted_bonds)\n",
      "ValueError: Buffer dtype mismatch, expected 'float' but got 'double'\n"
     ]
    },
    {
     "ename": "ValueError",
     "evalue": "Buffer dtype mismatch, expected 'float' but got 'double'",
     "output_type": "error",
     "traceback": [
      "\u001b[0;31m--------------------------------\u001b[0m",
      "\u001b[0;31mValueError\u001b[0mTraceback (most recent call last)",
      "\u001b[0;31mValueError\u001b[0m: Buffer dtype mismatch, expected 'float' but got 'double'"
     ]
    },
    {
     "name": "stderr",
     "output_type": "stream",
     "text": [
      "Exception ignored in: 'mdtraj.geometry._geometry.image_frame'\n",
      "Traceback (most recent call last):\n",
      "  File \"/home/zhangi/miniconda3/envs/perses-rest2v2/lib/python3.8/site-packages/mdtraj/core/trajectory.py\", line 2005, in image_molecules\n",
      "    _geometry.image_molecules(result.xyz, box, anchor_molecules_atom_indices, other_molecules_atom_indices, sorted_bonds)\n",
      "ValueError: Buffer dtype mismatch, expected 'float' but got 'double'\n"
     ]
    },
    {
     "ename": "ValueError",
     "evalue": "Buffer dtype mismatch, expected 'float' but got 'double'",
     "output_type": "error",
     "traceback": [
      "\u001b[0;31m--------------------------------\u001b[0m",
      "\u001b[0;31mValueError\u001b[0mTraceback (most recent call last)",
      "\u001b[0;31mValueError\u001b[0m: Buffer dtype mismatch, expected 'float' but got 'double'"
     ]
    },
    {
     "name": "stderr",
     "output_type": "stream",
     "text": [
      "Exception ignored in: 'mdtraj.geometry._geometry.image_frame'\n",
      "Traceback (most recent call last):\n",
      "  File \"/home/zhangi/miniconda3/envs/perses-rest2v2/lib/python3.8/site-packages/mdtraj/core/trajectory.py\", line 2005, in image_molecules\n",
      "    _geometry.image_molecules(result.xyz, box, anchor_molecules_atom_indices, other_molecules_atom_indices, sorted_bonds)\n",
      "ValueError: Buffer dtype mismatch, expected 'float' but got 'double'\n"
     ]
    },
    {
     "ename": "ValueError",
     "evalue": "Buffer dtype mismatch, expected 'float' but got 'double'",
     "output_type": "error",
     "traceback": [
      "\u001b[0;31m--------------------------------\u001b[0m",
      "\u001b[0;31mValueError\u001b[0mTraceback (most recent call last)",
      "\u001b[0;31mValueError\u001b[0m: Buffer dtype mismatch, expected 'float' but got 'double'"
     ]
    },
    {
     "name": "stderr",
     "output_type": "stream",
     "text": [
      "Exception ignored in: 'mdtraj.geometry._geometry.image_frame'\n",
      "Traceback (most recent call last):\n",
      "  File \"/home/zhangi/miniconda3/envs/perses-rest2v2/lib/python3.8/site-packages/mdtraj/core/trajectory.py\", line 2005, in image_molecules\n",
      "    _geometry.image_molecules(result.xyz, box, anchor_molecules_atom_indices, other_molecules_atom_indices, sorted_bonds)\n",
      "ValueError: Buffer dtype mismatch, expected 'float' but got 'double'\n"
     ]
    },
    {
     "ename": "ValueError",
     "evalue": "Buffer dtype mismatch, expected 'float' but got 'double'",
     "output_type": "error",
     "traceback": [
      "\u001b[0;31m--------------------------------\u001b[0m",
      "\u001b[0;31mValueError\u001b[0mTraceback (most recent call last)",
      "\u001b[0;31mValueError\u001b[0m: Buffer dtype mismatch, expected 'float' but got 'double'"
     ]
    },
    {
     "name": "stderr",
     "output_type": "stream",
     "text": [
      "Exception ignored in: 'mdtraj.geometry._geometry.image_frame'\n",
      "Traceback (most recent call last):\n",
      "  File \"/home/zhangi/miniconda3/envs/perses-rest2v2/lib/python3.8/site-packages/mdtraj/core/trajectory.py\", line 2005, in image_molecules\n",
      "    _geometry.image_molecules(result.xyz, box, anchor_molecules_atom_indices, other_molecules_atom_indices, sorted_bonds)\n",
      "ValueError: Buffer dtype mismatch, expected 'float' but got 'double'\n"
     ]
    },
    {
     "ename": "ValueError",
     "evalue": "Buffer dtype mismatch, expected 'float' but got 'double'",
     "output_type": "error",
     "traceback": [
      "\u001b[0;31m--------------------------------\u001b[0m",
      "\u001b[0;31mValueError\u001b[0mTraceback (most recent call last)",
      "\u001b[0;31mValueError\u001b[0m: Buffer dtype mismatch, expected 'float' but got 'double'"
     ]
    },
    {
     "name": "stderr",
     "output_type": "stream",
     "text": [
      "Exception ignored in: 'mdtraj.geometry._geometry.image_frame'\n",
      "Traceback (most recent call last):\n",
      "  File \"/home/zhangi/miniconda3/envs/perses-rest2v2/lib/python3.8/site-packages/mdtraj/core/trajectory.py\", line 2005, in image_molecules\n",
      "    _geometry.image_molecules(result.xyz, box, anchor_molecules_atom_indices, other_molecules_atom_indices, sorted_bonds)\n",
      "ValueError: Buffer dtype mismatch, expected 'float' but got 'double'\n"
     ]
    },
    {
     "ename": "ValueError",
     "evalue": "Buffer dtype mismatch, expected 'float' but got 'double'",
     "output_type": "error",
     "traceback": [
      "\u001b[0;31m--------------------------------\u001b[0m",
      "\u001b[0;31mValueError\u001b[0mTraceback (most recent call last)",
      "\u001b[0;31mValueError\u001b[0m: Buffer dtype mismatch, expected 'float' but got 'double'"
     ]
    },
    {
     "name": "stderr",
     "output_type": "stream",
     "text": [
      "Exception ignored in: 'mdtraj.geometry._geometry.image_frame'\n",
      "Traceback (most recent call last):\n",
      "  File \"/home/zhangi/miniconda3/envs/perses-rest2v2/lib/python3.8/site-packages/mdtraj/core/trajectory.py\", line 2005, in image_molecules\n",
      "    _geometry.image_molecules(result.xyz, box, anchor_molecules_atom_indices, other_molecules_atom_indices, sorted_bonds)\n",
      "ValueError: Buffer dtype mismatch, expected 'float' but got 'double'\n"
     ]
    },
    {
     "ename": "ValueError",
     "evalue": "Buffer dtype mismatch, expected 'float' but got 'double'",
     "output_type": "error",
     "traceback": [
      "\u001b[0;31m--------------------------------\u001b[0m",
      "\u001b[0;31mValueError\u001b[0mTraceback (most recent call last)",
      "\u001b[0;31mValueError\u001b[0m: Buffer dtype mismatch, expected 'float' but got 'double'"
     ]
    },
    {
     "name": "stderr",
     "output_type": "stream",
     "text": [
      "Exception ignored in: 'mdtraj.geometry._geometry.image_frame'\n",
      "Traceback (most recent call last):\n",
      "  File \"/home/zhangi/miniconda3/envs/perses-rest2v2/lib/python3.8/site-packages/mdtraj/core/trajectory.py\", line 2005, in image_molecules\n",
      "    _geometry.image_molecules(result.xyz, box, anchor_molecules_atom_indices, other_molecules_atom_indices, sorted_bonds)\n",
      "ValueError: Buffer dtype mismatch, expected 'float' but got 'double'\n"
     ]
    },
    {
     "ename": "ValueError",
     "evalue": "Buffer dtype mismatch, expected 'float' but got 'double'",
     "output_type": "error",
     "traceback": [
      "\u001b[0;31m--------------------------------\u001b[0m",
      "\u001b[0;31mValueError\u001b[0mTraceback (most recent call last)",
      "\u001b[0;31mValueError\u001b[0m: Buffer dtype mismatch, expected 'float' but got 'double'"
     ]
    },
    {
     "name": "stderr",
     "output_type": "stream",
     "text": [
      "Exception ignored in: 'mdtraj.geometry._geometry.image_frame'\n",
      "Traceback (most recent call last):\n",
      "  File \"/home/zhangi/miniconda3/envs/perses-rest2v2/lib/python3.8/site-packages/mdtraj/core/trajectory.py\", line 2005, in image_molecules\n",
      "    _geometry.image_molecules(result.xyz, box, anchor_molecules_atom_indices, other_molecules_atom_indices, sorted_bonds)\n",
      "ValueError: Buffer dtype mismatch, expected 'float' but got 'double'\n"
     ]
    },
    {
     "ename": "ValueError",
     "evalue": "Buffer dtype mismatch, expected 'float' but got 'double'",
     "output_type": "error",
     "traceback": [
      "\u001b[0;31m--------------------------------\u001b[0m",
      "\u001b[0;31mValueError\u001b[0mTraceback (most recent call last)",
      "\u001b[0;31mValueError\u001b[0m: Buffer dtype mismatch, expected 'float' but got 'double'"
     ]
    },
    {
     "name": "stderr",
     "output_type": "stream",
     "text": [
      "Exception ignored in: 'mdtraj.geometry._geometry.image_frame'\n",
      "Traceback (most recent call last):\n",
      "  File \"/home/zhangi/miniconda3/envs/perses-rest2v2/lib/python3.8/site-packages/mdtraj/core/trajectory.py\", line 2005, in image_molecules\n",
      "    _geometry.image_molecules(result.xyz, box, anchor_molecules_atom_indices, other_molecules_atom_indices, sorted_bonds)\n",
      "ValueError: Buffer dtype mismatch, expected 'float' but got 'double'\n"
     ]
    },
    {
     "ename": "ValueError",
     "evalue": "Buffer dtype mismatch, expected 'float' but got 'double'",
     "output_type": "error",
     "traceback": [
      "\u001b[0;31m--------------------------------\u001b[0m",
      "\u001b[0;31mValueError\u001b[0mTraceback (most recent call last)",
      "\u001b[0;31mValueError\u001b[0m: Buffer dtype mismatch, expected 'float' but got 'double'"
     ]
    },
    {
     "name": "stderr",
     "output_type": "stream",
     "text": [
      "Exception ignored in: 'mdtraj.geometry._geometry.image_frame'\n",
      "Traceback (most recent call last):\n",
      "  File \"/home/zhangi/miniconda3/envs/perses-rest2v2/lib/python3.8/site-packages/mdtraj/core/trajectory.py\", line 2005, in image_molecules\n",
      "    _geometry.image_molecules(result.xyz, box, anchor_molecules_atom_indices, other_molecules_atom_indices, sorted_bonds)\n",
      "ValueError: Buffer dtype mismatch, expected 'float' but got 'double'\n"
     ]
    },
    {
     "ename": "ValueError",
     "evalue": "Buffer dtype mismatch, expected 'float' but got 'double'",
     "output_type": "error",
     "traceback": [
      "\u001b[0;31m--------------------------------\u001b[0m",
      "\u001b[0;31mValueError\u001b[0mTraceback (most recent call last)",
      "\u001b[0;31mValueError\u001b[0m: Buffer dtype mismatch, expected 'float' but got 'double'"
     ]
    },
    {
     "name": "stderr",
     "output_type": "stream",
     "text": [
      "Exception ignored in: 'mdtraj.geometry._geometry.image_frame'\n",
      "Traceback (most recent call last):\n",
      "  File \"/home/zhangi/miniconda3/envs/perses-rest2v2/lib/python3.8/site-packages/mdtraj/core/trajectory.py\", line 2005, in image_molecules\n",
      "    _geometry.image_molecules(result.xyz, box, anchor_molecules_atom_indices, other_molecules_atom_indices, sorted_bonds)\n",
      "ValueError: Buffer dtype mismatch, expected 'float' but got 'double'\n"
     ]
    },
    {
     "ename": "ValueError",
     "evalue": "Buffer dtype mismatch, expected 'float' but got 'double'",
     "output_type": "error",
     "traceback": [
      "\u001b[0;31m--------------------------------\u001b[0m",
      "\u001b[0;31mValueError\u001b[0mTraceback (most recent call last)",
      "\u001b[0;31mValueError\u001b[0m: Buffer dtype mismatch, expected 'float' but got 'double'"
     ]
    },
    {
     "name": "stderr",
     "output_type": "stream",
     "text": [
      "Exception ignored in: 'mdtraj.geometry._geometry.image_frame'\n",
      "Traceback (most recent call last):\n",
      "  File \"/home/zhangi/miniconda3/envs/perses-rest2v2/lib/python3.8/site-packages/mdtraj/core/trajectory.py\", line 2005, in image_molecules\n",
      "    _geometry.image_molecules(result.xyz, box, anchor_molecules_atom_indices, other_molecules_atom_indices, sorted_bonds)\n",
      "ValueError: Buffer dtype mismatch, expected 'float' but got 'double'\n"
     ]
    },
    {
     "ename": "ValueError",
     "evalue": "Buffer dtype mismatch, expected 'float' but got 'double'",
     "output_type": "error",
     "traceback": [
      "\u001b[0;31m--------------------------------\u001b[0m",
      "\u001b[0;31mValueError\u001b[0mTraceback (most recent call last)",
      "\u001b[0;31mValueError\u001b[0m: Buffer dtype mismatch, expected 'float' but got 'double'"
     ]
    },
    {
     "name": "stderr",
     "output_type": "stream",
     "text": [
      "Exception ignored in: 'mdtraj.geometry._geometry.image_frame'\n",
      "Traceback (most recent call last):\n",
      "  File \"/home/zhangi/miniconda3/envs/perses-rest2v2/lib/python3.8/site-packages/mdtraj/core/trajectory.py\", line 2005, in image_molecules\n",
      "    _geometry.image_molecules(result.xyz, box, anchor_molecules_atom_indices, other_molecules_atom_indices, sorted_bonds)\n",
      "ValueError: Buffer dtype mismatch, expected 'float' but got 'double'\n"
     ]
    },
    {
     "ename": "ValueError",
     "evalue": "Buffer dtype mismatch, expected 'float' but got 'double'",
     "output_type": "error",
     "traceback": [
      "\u001b[0;31m--------------------------------\u001b[0m",
      "\u001b[0;31mValueError\u001b[0mTraceback (most recent call last)",
      "\u001b[0;31mValueError\u001b[0m: Buffer dtype mismatch, expected 'float' but got 'double'"
     ]
    },
    {
     "name": "stderr",
     "output_type": "stream",
     "text": [
      "Exception ignored in: 'mdtraj.geometry._geometry.image_frame'\n",
      "Traceback (most recent call last):\n",
      "  File \"/home/zhangi/miniconda3/envs/perses-rest2v2/lib/python3.8/site-packages/mdtraj/core/trajectory.py\", line 2005, in image_molecules\n",
      "    _geometry.image_molecules(result.xyz, box, anchor_molecules_atom_indices, other_molecules_atom_indices, sorted_bonds)\n",
      "ValueError: Buffer dtype mismatch, expected 'float' but got 'double'\n"
     ]
    },
    {
     "ename": "ValueError",
     "evalue": "Buffer dtype mismatch, expected 'float' but got 'double'",
     "output_type": "error",
     "traceback": [
      "\u001b[0;31m--------------------------------\u001b[0m",
      "\u001b[0;31mValueError\u001b[0mTraceback (most recent call last)",
      "\u001b[0;31mValueError\u001b[0m: Buffer dtype mismatch, expected 'float' but got 'double'"
     ]
    },
    {
     "name": "stderr",
     "output_type": "stream",
     "text": [
      "Exception ignored in: 'mdtraj.geometry._geometry.image_frame'\n",
      "Traceback (most recent call last):\n",
      "  File \"/home/zhangi/miniconda3/envs/perses-rest2v2/lib/python3.8/site-packages/mdtraj/core/trajectory.py\", line 2005, in image_molecules\n",
      "    _geometry.image_molecules(result.xyz, box, anchor_molecules_atom_indices, other_molecules_atom_indices, sorted_bonds)\n",
      "ValueError: Buffer dtype mismatch, expected 'float' but got 'double'\n"
     ]
    },
    {
     "ename": "ValueError",
     "evalue": "Buffer dtype mismatch, expected 'float' but got 'double'",
     "output_type": "error",
     "traceback": [
      "\u001b[0;31m--------------------------------\u001b[0m",
      "\u001b[0;31mValueError\u001b[0mTraceback (most recent call last)",
      "\u001b[0;31mValueError\u001b[0m: Buffer dtype mismatch, expected 'float' but got 'double'"
     ]
    },
    {
     "name": "stderr",
     "output_type": "stream",
     "text": [
      "Exception ignored in: 'mdtraj.geometry._geometry.image_frame'\n",
      "Traceback (most recent call last):\n",
      "  File \"/home/zhangi/miniconda3/envs/perses-rest2v2/lib/python3.8/site-packages/mdtraj/core/trajectory.py\", line 2005, in image_molecules\n",
      "    _geometry.image_molecules(result.xyz, box, anchor_molecules_atom_indices, other_molecules_atom_indices, sorted_bonds)\n",
      "ValueError: Buffer dtype mismatch, expected 'float' but got 'double'\n"
     ]
    },
    {
     "ename": "ValueError",
     "evalue": "Buffer dtype mismatch, expected 'float' but got 'double'",
     "output_type": "error",
     "traceback": [
      "\u001b[0;31m--------------------------------\u001b[0m",
      "\u001b[0;31mValueError\u001b[0mTraceback (most recent call last)",
      "\u001b[0;31mValueError\u001b[0m: Buffer dtype mismatch, expected 'float' but got 'double'"
     ]
    },
    {
     "name": "stderr",
     "output_type": "stream",
     "text": [
      "Exception ignored in: 'mdtraj.geometry._geometry.image_frame'\n",
      "Traceback (most recent call last):\n",
      "  File \"/home/zhangi/miniconda3/envs/perses-rest2v2/lib/python3.8/site-packages/mdtraj/core/trajectory.py\", line 2005, in image_molecules\n",
      "    _geometry.image_molecules(result.xyz, box, anchor_molecules_atom_indices, other_molecules_atom_indices, sorted_bonds)\n",
      "ValueError: Buffer dtype mismatch, expected 'float' but got 'double'\n"
     ]
    },
    {
     "ename": "ValueError",
     "evalue": "Buffer dtype mismatch, expected 'float' but got 'double'",
     "output_type": "error",
     "traceback": [
      "\u001b[0;31m--------------------------------\u001b[0m",
      "\u001b[0;31mValueError\u001b[0mTraceback (most recent call last)",
      "\u001b[0;31mValueError\u001b[0m: Buffer dtype mismatch, expected 'float' but got 'double'"
     ]
    },
    {
     "name": "stderr",
     "output_type": "stream",
     "text": [
      "Exception ignored in: 'mdtraj.geometry._geometry.image_frame'\n",
      "Traceback (most recent call last):\n",
      "  File \"/home/zhangi/miniconda3/envs/perses-rest2v2/lib/python3.8/site-packages/mdtraj/core/trajectory.py\", line 2005, in image_molecules\n",
      "    _geometry.image_molecules(result.xyz, box, anchor_molecules_atom_indices, other_molecules_atom_indices, sorted_bonds)\n",
      "ValueError: Buffer dtype mismatch, expected 'float' but got 'double'\n"
     ]
    },
    {
     "ename": "ValueError",
     "evalue": "Buffer dtype mismatch, expected 'float' but got 'double'",
     "output_type": "error",
     "traceback": [
      "\u001b[0;31m--------------------------------\u001b[0m",
      "\u001b[0;31mValueError\u001b[0mTraceback (most recent call last)",
      "\u001b[0;31mValueError\u001b[0m: Buffer dtype mismatch, expected 'float' but got 'double'"
     ]
    },
    {
     "name": "stderr",
     "output_type": "stream",
     "text": [
      "Exception ignored in: 'mdtraj.geometry._geometry.image_frame'\n",
      "Traceback (most recent call last):\n",
      "  File \"/home/zhangi/miniconda3/envs/perses-rest2v2/lib/python3.8/site-packages/mdtraj/core/trajectory.py\", line 2005, in image_molecules\n",
      "    _geometry.image_molecules(result.xyz, box, anchor_molecules_atom_indices, other_molecules_atom_indices, sorted_bonds)\n",
      "ValueError: Buffer dtype mismatch, expected 'float' but got 'double'\n"
     ]
    },
    {
     "ename": "ValueError",
     "evalue": "Buffer dtype mismatch, expected 'float' but got 'double'",
     "output_type": "error",
     "traceback": [
      "\u001b[0;31m--------------------------------\u001b[0m",
      "\u001b[0;31mValueError\u001b[0mTraceback (most recent call last)",
      "\u001b[0;31mValueError\u001b[0m: Buffer dtype mismatch, expected 'float' but got 'double'"
     ]
    },
    {
     "name": "stderr",
     "output_type": "stream",
     "text": [
      "Exception ignored in: 'mdtraj.geometry._geometry.image_frame'\n",
      "Traceback (most recent call last):\n",
      "  File \"/home/zhangi/miniconda3/envs/perses-rest2v2/lib/python3.8/site-packages/mdtraj/core/trajectory.py\", line 2005, in image_molecules\n",
      "    _geometry.image_molecules(result.xyz, box, anchor_molecules_atom_indices, other_molecules_atom_indices, sorted_bonds)\n",
      "ValueError: Buffer dtype mismatch, expected 'float' but got 'double'\n"
     ]
    },
    {
     "ename": "ValueError",
     "evalue": "Buffer dtype mismatch, expected 'float' but got 'double'",
     "output_type": "error",
     "traceback": [
      "\u001b[0;31m--------------------------------\u001b[0m",
      "\u001b[0;31mValueError\u001b[0mTraceback (most recent call last)",
      "\u001b[0;31mValueError\u001b[0m: Buffer dtype mismatch, expected 'float' but got 'double'"
     ]
    },
    {
     "name": "stderr",
     "output_type": "stream",
     "text": [
      "Exception ignored in: 'mdtraj.geometry._geometry.image_frame'\n",
      "Traceback (most recent call last):\n",
      "  File \"/home/zhangi/miniconda3/envs/perses-rest2v2/lib/python3.8/site-packages/mdtraj/core/trajectory.py\", line 2005, in image_molecules\n",
      "    _geometry.image_molecules(result.xyz, box, anchor_molecules_atom_indices, other_molecules_atom_indices, sorted_bonds)\n",
      "ValueError: Buffer dtype mismatch, expected 'float' but got 'double'\n"
     ]
    },
    {
     "ename": "ValueError",
     "evalue": "Buffer dtype mismatch, expected 'float' but got 'double'",
     "output_type": "error",
     "traceback": [
      "\u001b[0;31m--------------------------------\u001b[0m",
      "\u001b[0;31mValueError\u001b[0mTraceback (most recent call last)",
      "\u001b[0;31mValueError\u001b[0m: Buffer dtype mismatch, expected 'float' but got 'double'"
     ]
    },
    {
     "name": "stderr",
     "output_type": "stream",
     "text": [
      "Exception ignored in: 'mdtraj.geometry._geometry.image_frame'\n",
      "Traceback (most recent call last):\n",
      "  File \"/home/zhangi/miniconda3/envs/perses-rest2v2/lib/python3.8/site-packages/mdtraj/core/trajectory.py\", line 2005, in image_molecules\n",
      "    _geometry.image_molecules(result.xyz, box, anchor_molecules_atom_indices, other_molecules_atom_indices, sorted_bonds)\n",
      "ValueError: Buffer dtype mismatch, expected 'float' but got 'double'\n"
     ]
    },
    {
     "ename": "ValueError",
     "evalue": "Buffer dtype mismatch, expected 'float' but got 'double'",
     "output_type": "error",
     "traceback": [
      "\u001b[0;31m--------------------------------\u001b[0m",
      "\u001b[0;31mValueError\u001b[0mTraceback (most recent call last)",
      "\u001b[0;31mValueError\u001b[0m: Buffer dtype mismatch, expected 'float' but got 'double'"
     ]
    },
    {
     "name": "stderr",
     "output_type": "stream",
     "text": [
      "Exception ignored in: 'mdtraj.geometry._geometry.image_frame'\n",
      "Traceback (most recent call last):\n",
      "  File \"/home/zhangi/miniconda3/envs/perses-rest2v2/lib/python3.8/site-packages/mdtraj/core/trajectory.py\", line 2005, in image_molecules\n",
      "    _geometry.image_molecules(result.xyz, box, anchor_molecules_atom_indices, other_molecules_atom_indices, sorted_bonds)\n",
      "ValueError: Buffer dtype mismatch, expected 'float' but got 'double'\n"
     ]
    },
    {
     "ename": "ValueError",
     "evalue": "Buffer dtype mismatch, expected 'float' but got 'double'",
     "output_type": "error",
     "traceback": [
      "\u001b[0;31m--------------------------------\u001b[0m",
      "\u001b[0;31mValueError\u001b[0mTraceback (most recent call last)",
      "\u001b[0;31mValueError\u001b[0m: Buffer dtype mismatch, expected 'float' but got 'double'"
     ]
    },
    {
     "name": "stderr",
     "output_type": "stream",
     "text": [
      "Exception ignored in: 'mdtraj.geometry._geometry.image_frame'\n",
      "Traceback (most recent call last):\n",
      "  File \"/home/zhangi/miniconda3/envs/perses-rest2v2/lib/python3.8/site-packages/mdtraj/core/trajectory.py\", line 2005, in image_molecules\n",
      "    _geometry.image_molecules(result.xyz, box, anchor_molecules_atom_indices, other_molecules_atom_indices, sorted_bonds)\n",
      "ValueError: Buffer dtype mismatch, expected 'float' but got 'double'\n"
     ]
    },
    {
     "ename": "ValueError",
     "evalue": "Buffer dtype mismatch, expected 'float' but got 'double'",
     "output_type": "error",
     "traceback": [
      "\u001b[0;31m--------------------------------\u001b[0m",
      "\u001b[0;31mValueError\u001b[0mTraceback (most recent call last)",
      "\u001b[0;31mValueError\u001b[0m: Buffer dtype mismatch, expected 'float' but got 'double'"
     ]
    },
    {
     "name": "stderr",
     "output_type": "stream",
     "text": [
      "Exception ignored in: 'mdtraj.geometry._geometry.image_frame'\n",
      "Traceback (most recent call last):\n",
      "  File \"/home/zhangi/miniconda3/envs/perses-rest2v2/lib/python3.8/site-packages/mdtraj/core/trajectory.py\", line 2005, in image_molecules\n",
      "    _geometry.image_molecules(result.xyz, box, anchor_molecules_atom_indices, other_molecules_atom_indices, sorted_bonds)\n",
      "ValueError: Buffer dtype mismatch, expected 'float' but got 'double'\n"
     ]
    },
    {
     "ename": "ValueError",
     "evalue": "Buffer dtype mismatch, expected 'float' but got 'double'",
     "output_type": "error",
     "traceback": [
      "\u001b[0;31m--------------------------------\u001b[0m",
      "\u001b[0;31mValueError\u001b[0mTraceback (most recent call last)",
      "\u001b[0;31mValueError\u001b[0m: Buffer dtype mismatch, expected 'float' but got 'double'"
     ]
    },
    {
     "name": "stderr",
     "output_type": "stream",
     "text": [
      "Exception ignored in: 'mdtraj.geometry._geometry.image_frame'\n",
      "Traceback (most recent call last):\n",
      "  File \"/home/zhangi/miniconda3/envs/perses-rest2v2/lib/python3.8/site-packages/mdtraj/core/trajectory.py\", line 2005, in image_molecules\n",
      "    _geometry.image_molecules(result.xyz, box, anchor_molecules_atom_indices, other_molecules_atom_indices, sorted_bonds)\n",
      "ValueError: Buffer dtype mismatch, expected 'float' but got 'double'\n"
     ]
    },
    {
     "ename": "ValueError",
     "evalue": "Buffer dtype mismatch, expected 'float' but got 'double'",
     "output_type": "error",
     "traceback": [
      "\u001b[0;31m--------------------------------\u001b[0m",
      "\u001b[0;31mValueError\u001b[0mTraceback (most recent call last)",
      "\u001b[0;31mValueError\u001b[0m: Buffer dtype mismatch, expected 'float' but got 'double'"
     ]
    },
    {
     "name": "stderr",
     "output_type": "stream",
     "text": [
      "Exception ignored in: 'mdtraj.geometry._geometry.image_frame'\n",
      "Traceback (most recent call last):\n",
      "  File \"/home/zhangi/miniconda3/envs/perses-rest2v2/lib/python3.8/site-packages/mdtraj/core/trajectory.py\", line 2005, in image_molecules\n",
      "    _geometry.image_molecules(result.xyz, box, anchor_molecules_atom_indices, other_molecules_atom_indices, sorted_bonds)\n",
      "ValueError: Buffer dtype mismatch, expected 'float' but got 'double'\n"
     ]
    },
    {
     "ename": "ValueError",
     "evalue": "Buffer dtype mismatch, expected 'float' but got 'double'",
     "output_type": "error",
     "traceback": [
      "\u001b[0;31m--------------------------------\u001b[0m",
      "\u001b[0;31mValueError\u001b[0mTraceback (most recent call last)",
      "\u001b[0;31mValueError\u001b[0m: Buffer dtype mismatch, expected 'float' but got 'double'"
     ]
    },
    {
     "name": "stderr",
     "output_type": "stream",
     "text": [
      "Exception ignored in: 'mdtraj.geometry._geometry.image_frame'\n",
      "Traceback (most recent call last):\n",
      "  File \"/home/zhangi/miniconda3/envs/perses-rest2v2/lib/python3.8/site-packages/mdtraj/core/trajectory.py\", line 2005, in image_molecules\n",
      "    _geometry.image_molecules(result.xyz, box, anchor_molecules_atom_indices, other_molecules_atom_indices, sorted_bonds)\n",
      "ValueError: Buffer dtype mismatch, expected 'float' but got 'double'\n"
     ]
    },
    {
     "ename": "ValueError",
     "evalue": "Buffer dtype mismatch, expected 'float' but got 'double'",
     "output_type": "error",
     "traceback": [
      "\u001b[0;31m--------------------------------\u001b[0m",
      "\u001b[0;31mValueError\u001b[0mTraceback (most recent call last)",
      "\u001b[0;31mValueError\u001b[0m: Buffer dtype mismatch, expected 'float' but got 'double'"
     ]
    },
    {
     "name": "stderr",
     "output_type": "stream",
     "text": [
      "Exception ignored in: 'mdtraj.geometry._geometry.image_frame'\n",
      "Traceback (most recent call last):\n",
      "  File \"/home/zhangi/miniconda3/envs/perses-rest2v2/lib/python3.8/site-packages/mdtraj/core/trajectory.py\", line 2005, in image_molecules\n",
      "    _geometry.image_molecules(result.xyz, box, anchor_molecules_atom_indices, other_molecules_atom_indices, sorted_bonds)\n",
      "ValueError: Buffer dtype mismatch, expected 'float' but got 'double'\n"
     ]
    },
    {
     "ename": "ValueError",
     "evalue": "Buffer dtype mismatch, expected 'float' but got 'double'",
     "output_type": "error",
     "traceback": [
      "\u001b[0;31m--------------------------------\u001b[0m",
      "\u001b[0;31mValueError\u001b[0mTraceback (most recent call last)",
      "\u001b[0;31mValueError\u001b[0m: Buffer dtype mismatch, expected 'float' but got 'double'"
     ]
    },
    {
     "name": "stderr",
     "output_type": "stream",
     "text": [
      "Exception ignored in: 'mdtraj.geometry._geometry.image_frame'\n",
      "Traceback (most recent call last):\n",
      "  File \"/home/zhangi/miniconda3/envs/perses-rest2v2/lib/python3.8/site-packages/mdtraj/core/trajectory.py\", line 2005, in image_molecules\n",
      "    _geometry.image_molecules(result.xyz, box, anchor_molecules_atom_indices, other_molecules_atom_indices, sorted_bonds)\n",
      "ValueError: Buffer dtype mismatch, expected 'float' but got 'double'\n"
     ]
    },
    {
     "ename": "ValueError",
     "evalue": "Buffer dtype mismatch, expected 'float' but got 'double'",
     "output_type": "error",
     "traceback": [
      "\u001b[0;31m--------------------------------\u001b[0m",
      "\u001b[0;31mValueError\u001b[0mTraceback (most recent call last)",
      "\u001b[0;31mValueError\u001b[0m: Buffer dtype mismatch, expected 'float' but got 'double'"
     ]
    },
    {
     "name": "stderr",
     "output_type": "stream",
     "text": [
      "Exception ignored in: 'mdtraj.geometry._geometry.image_frame'\n",
      "Traceback (most recent call last):\n",
      "  File \"/home/zhangi/miniconda3/envs/perses-rest2v2/lib/python3.8/site-packages/mdtraj/core/trajectory.py\", line 2005, in image_molecules\n",
      "    _geometry.image_molecules(result.xyz, box, anchor_molecules_atom_indices, other_molecules_atom_indices, sorted_bonds)\n",
      "ValueError: Buffer dtype mismatch, expected 'float' but got 'double'\n"
     ]
    },
    {
     "ename": "ValueError",
     "evalue": "Buffer dtype mismatch, expected 'float' but got 'double'",
     "output_type": "error",
     "traceback": [
      "\u001b[0;31m--------------------------------\u001b[0m",
      "\u001b[0;31mValueError\u001b[0mTraceback (most recent call last)",
      "\u001b[0;31mValueError\u001b[0m: Buffer dtype mismatch, expected 'float' but got 'double'"
     ]
    },
    {
     "name": "stderr",
     "output_type": "stream",
     "text": [
      "Exception ignored in: 'mdtraj.geometry._geometry.image_frame'\n",
      "Traceback (most recent call last):\n",
      "  File \"/home/zhangi/miniconda3/envs/perses-rest2v2/lib/python3.8/site-packages/mdtraj/core/trajectory.py\", line 2005, in image_molecules\n",
      "    _geometry.image_molecules(result.xyz, box, anchor_molecules_atom_indices, other_molecules_atom_indices, sorted_bonds)\n",
      "ValueError: Buffer dtype mismatch, expected 'float' but got 'double'\n"
     ]
    },
    {
     "ename": "ValueError",
     "evalue": "Buffer dtype mismatch, expected 'float' but got 'double'",
     "output_type": "error",
     "traceback": [
      "\u001b[0;31m--------------------------------\u001b[0m",
      "\u001b[0;31mValueError\u001b[0mTraceback (most recent call last)",
      "\u001b[0;31mValueError\u001b[0m: Buffer dtype mismatch, expected 'float' but got 'double'"
     ]
    },
    {
     "name": "stderr",
     "output_type": "stream",
     "text": [
      "Exception ignored in: 'mdtraj.geometry._geometry.image_frame'\n",
      "Traceback (most recent call last):\n",
      "  File \"/home/zhangi/miniconda3/envs/perses-rest2v2/lib/python3.8/site-packages/mdtraj/core/trajectory.py\", line 2005, in image_molecules\n",
      "    _geometry.image_molecules(result.xyz, box, anchor_molecules_atom_indices, other_molecules_atom_indices, sorted_bonds)\n",
      "ValueError: Buffer dtype mismatch, expected 'float' but got 'double'\n"
     ]
    },
    {
     "ename": "ValueError",
     "evalue": "Buffer dtype mismatch, expected 'float' but got 'double'",
     "output_type": "error",
     "traceback": [
      "\u001b[0;31m--------------------------------\u001b[0m",
      "\u001b[0;31mValueError\u001b[0mTraceback (most recent call last)",
      "\u001b[0;31mValueError\u001b[0m: Buffer dtype mismatch, expected 'float' but got 'double'"
     ]
    },
    {
     "name": "stderr",
     "output_type": "stream",
     "text": [
      "Exception ignored in: 'mdtraj.geometry._geometry.image_frame'\n",
      "Traceback (most recent call last):\n",
      "  File \"/home/zhangi/miniconda3/envs/perses-rest2v2/lib/python3.8/site-packages/mdtraj/core/trajectory.py\", line 2005, in image_molecules\n",
      "    _geometry.image_molecules(result.xyz, box, anchor_molecules_atom_indices, other_molecules_atom_indices, sorted_bonds)\n",
      "ValueError: Buffer dtype mismatch, expected 'float' but got 'double'\n"
     ]
    },
    {
     "ename": "ValueError",
     "evalue": "Buffer dtype mismatch, expected 'float' but got 'double'",
     "output_type": "error",
     "traceback": [
      "\u001b[0;31m--------------------------------\u001b[0m",
      "\u001b[0;31mValueError\u001b[0mTraceback (most recent call last)",
      "\u001b[0;31mValueError\u001b[0m: Buffer dtype mismatch, expected 'float' but got 'double'"
     ]
    },
    {
     "name": "stderr",
     "output_type": "stream",
     "text": [
      "Exception ignored in: 'mdtraj.geometry._geometry.image_frame'\n",
      "Traceback (most recent call last):\n",
      "  File \"/home/zhangi/miniconda3/envs/perses-rest2v2/lib/python3.8/site-packages/mdtraj/core/trajectory.py\", line 2005, in image_molecules\n",
      "    _geometry.image_molecules(result.xyz, box, anchor_molecules_atom_indices, other_molecules_atom_indices, sorted_bonds)\n",
      "ValueError: Buffer dtype mismatch, expected 'float' but got 'double'\n"
     ]
    },
    {
     "ename": "ValueError",
     "evalue": "Buffer dtype mismatch, expected 'float' but got 'double'",
     "output_type": "error",
     "traceback": [
      "\u001b[0;31m--------------------------------\u001b[0m",
      "\u001b[0;31mValueError\u001b[0mTraceback (most recent call last)",
      "\u001b[0;31mValueError\u001b[0m: Buffer dtype mismatch, expected 'float' but got 'double'"
     ]
    },
    {
     "name": "stderr",
     "output_type": "stream",
     "text": [
      "Exception ignored in: 'mdtraj.geometry._geometry.image_frame'\n",
      "Traceback (most recent call last):\n",
      "  File \"/home/zhangi/miniconda3/envs/perses-rest2v2/lib/python3.8/site-packages/mdtraj/core/trajectory.py\", line 2005, in image_molecules\n",
      "    _geometry.image_molecules(result.xyz, box, anchor_molecules_atom_indices, other_molecules_atom_indices, sorted_bonds)\n",
      "ValueError: Buffer dtype mismatch, expected 'float' but got 'double'\n"
     ]
    },
    {
     "ename": "ValueError",
     "evalue": "Buffer dtype mismatch, expected 'float' but got 'double'",
     "output_type": "error",
     "traceback": [
      "\u001b[0;31m--------------------------------\u001b[0m",
      "\u001b[0;31mValueError\u001b[0mTraceback (most recent call last)",
      "\u001b[0;31mValueError\u001b[0m: Buffer dtype mismatch, expected 'float' but got 'double'"
     ]
    },
    {
     "name": "stderr",
     "output_type": "stream",
     "text": [
      "Exception ignored in: 'mdtraj.geometry._geometry.image_frame'\n",
      "Traceback (most recent call last):\n",
      "  File \"/home/zhangi/miniconda3/envs/perses-rest2v2/lib/python3.8/site-packages/mdtraj/core/trajectory.py\", line 2005, in image_molecules\n",
      "    _geometry.image_molecules(result.xyz, box, anchor_molecules_atom_indices, other_molecules_atom_indices, sorted_bonds)\n",
      "ValueError: Buffer dtype mismatch, expected 'float' but got 'double'\n"
     ]
    },
    {
     "ename": "ValueError",
     "evalue": "Buffer dtype mismatch, expected 'float' but got 'double'",
     "output_type": "error",
     "traceback": [
      "\u001b[0;31m--------------------------------\u001b[0m",
      "\u001b[0;31mValueError\u001b[0mTraceback (most recent call last)",
      "\u001b[0;31mValueError\u001b[0m: Buffer dtype mismatch, expected 'float' but got 'double'"
     ]
    },
    {
     "name": "stderr",
     "output_type": "stream",
     "text": [
      "Exception ignored in: 'mdtraj.geometry._geometry.image_frame'\n",
      "Traceback (most recent call last):\n",
      "  File \"/home/zhangi/miniconda3/envs/perses-rest2v2/lib/python3.8/site-packages/mdtraj/core/trajectory.py\", line 2005, in image_molecules\n",
      "    _geometry.image_molecules(result.xyz, box, anchor_molecules_atom_indices, other_molecules_atom_indices, sorted_bonds)\n",
      "ValueError: Buffer dtype mismatch, expected 'float' but got 'double'\n"
     ]
    },
    {
     "ename": "ValueError",
     "evalue": "Buffer dtype mismatch, expected 'float' but got 'double'",
     "output_type": "error",
     "traceback": [
      "\u001b[0;31m--------------------------------\u001b[0m",
      "\u001b[0;31mValueError\u001b[0mTraceback (most recent call last)",
      "\u001b[0;31mValueError\u001b[0m: Buffer dtype mismatch, expected 'float' but got 'double'"
     ]
    },
    {
     "name": "stderr",
     "output_type": "stream",
     "text": [
      "Exception ignored in: 'mdtraj.geometry._geometry.image_frame'\n",
      "Traceback (most recent call last):\n",
      "  File \"/home/zhangi/miniconda3/envs/perses-rest2v2/lib/python3.8/site-packages/mdtraj/core/trajectory.py\", line 2005, in image_molecules\n",
      "    _geometry.image_molecules(result.xyz, box, anchor_molecules_atom_indices, other_molecules_atom_indices, sorted_bonds)\n",
      "ValueError: Buffer dtype mismatch, expected 'float' but got 'double'\n"
     ]
    },
    {
     "ename": "ValueError",
     "evalue": "Buffer dtype mismatch, expected 'float' but got 'double'",
     "output_type": "error",
     "traceback": [
      "\u001b[0;31m--------------------------------\u001b[0m",
      "\u001b[0;31mValueError\u001b[0mTraceback (most recent call last)",
      "\u001b[0;31mValueError\u001b[0m: Buffer dtype mismatch, expected 'float' but got 'double'"
     ]
    },
    {
     "name": "stderr",
     "output_type": "stream",
     "text": [
      "Exception ignored in: 'mdtraj.geometry._geometry.image_frame'\n",
      "Traceback (most recent call last):\n",
      "  File \"/home/zhangi/miniconda3/envs/perses-rest2v2/lib/python3.8/site-packages/mdtraj/core/trajectory.py\", line 2005, in image_molecules\n",
      "    _geometry.image_molecules(result.xyz, box, anchor_molecules_atom_indices, other_molecules_atom_indices, sorted_bonds)\n",
      "ValueError: Buffer dtype mismatch, expected 'float' but got 'double'\n"
     ]
    },
    {
     "ename": "ValueError",
     "evalue": "Buffer dtype mismatch, expected 'float' but got 'double'",
     "output_type": "error",
     "traceback": [
      "\u001b[0;31m--------------------------------\u001b[0m",
      "\u001b[0;31mValueError\u001b[0mTraceback (most recent call last)",
      "\u001b[0;31mValueError\u001b[0m: Buffer dtype mismatch, expected 'float' but got 'double'"
     ]
    },
    {
     "name": "stderr",
     "output_type": "stream",
     "text": [
      "Exception ignored in: 'mdtraj.geometry._geometry.image_frame'\n",
      "Traceback (most recent call last):\n",
      "  File \"/home/zhangi/miniconda3/envs/perses-rest2v2/lib/python3.8/site-packages/mdtraj/core/trajectory.py\", line 2005, in image_molecules\n",
      "    _geometry.image_molecules(result.xyz, box, anchor_molecules_atom_indices, other_molecules_atom_indices, sorted_bonds)\n",
      "ValueError: Buffer dtype mismatch, expected 'float' but got 'double'\n"
     ]
    },
    {
     "ename": "ValueError",
     "evalue": "Buffer dtype mismatch, expected 'float' but got 'double'",
     "output_type": "error",
     "traceback": [
      "\u001b[0;31m--------------------------------\u001b[0m",
      "\u001b[0;31mValueError\u001b[0mTraceback (most recent call last)",
      "\u001b[0;31mValueError\u001b[0m: Buffer dtype mismatch, expected 'float' but got 'double'"
     ]
    },
    {
     "name": "stderr",
     "output_type": "stream",
     "text": [
      "Exception ignored in: 'mdtraj.geometry._geometry.image_frame'\n",
      "Traceback (most recent call last):\n",
      "  File \"/home/zhangi/miniconda3/envs/perses-rest2v2/lib/python3.8/site-packages/mdtraj/core/trajectory.py\", line 2005, in image_molecules\n",
      "    _geometry.image_molecules(result.xyz, box, anchor_molecules_atom_indices, other_molecules_atom_indices, sorted_bonds)\n",
      "ValueError: Buffer dtype mismatch, expected 'float' but got 'double'\n"
     ]
    },
    {
     "ename": "ValueError",
     "evalue": "Buffer dtype mismatch, expected 'float' but got 'double'",
     "output_type": "error",
     "traceback": [
      "\u001b[0;31m--------------------------------\u001b[0m",
      "\u001b[0;31mValueError\u001b[0mTraceback (most recent call last)",
      "\u001b[0;31mValueError\u001b[0m: Buffer dtype mismatch, expected 'float' but got 'double'"
     ]
    },
    {
     "name": "stderr",
     "output_type": "stream",
     "text": [
      "Exception ignored in: 'mdtraj.geometry._geometry.image_frame'\n",
      "Traceback (most recent call last):\n",
      "  File \"/home/zhangi/miniconda3/envs/perses-rest2v2/lib/python3.8/site-packages/mdtraj/core/trajectory.py\", line 2005, in image_molecules\n",
      "    _geometry.image_molecules(result.xyz, box, anchor_molecules_atom_indices, other_molecules_atom_indices, sorted_bonds)\n",
      "ValueError: Buffer dtype mismatch, expected 'float' but got 'double'\n"
     ]
    },
    {
     "ename": "ValueError",
     "evalue": "Buffer dtype mismatch, expected 'float' but got 'double'",
     "output_type": "error",
     "traceback": [
      "\u001b[0;31m--------------------------------\u001b[0m",
      "\u001b[0;31mValueError\u001b[0mTraceback (most recent call last)",
      "\u001b[0;31mValueError\u001b[0m: Buffer dtype mismatch, expected 'float' but got 'double'"
     ]
    },
    {
     "name": "stderr",
     "output_type": "stream",
     "text": [
      "Exception ignored in: 'mdtraj.geometry._geometry.image_frame'\n",
      "Traceback (most recent call last):\n",
      "  File \"/home/zhangi/miniconda3/envs/perses-rest2v2/lib/python3.8/site-packages/mdtraj/core/trajectory.py\", line 2005, in image_molecules\n",
      "    _geometry.image_molecules(result.xyz, box, anchor_molecules_atom_indices, other_molecules_atom_indices, sorted_bonds)\n",
      "ValueError: Buffer dtype mismatch, expected 'float' but got 'double'\n"
     ]
    },
    {
     "ename": "ValueError",
     "evalue": "Buffer dtype mismatch, expected 'float' but got 'double'",
     "output_type": "error",
     "traceback": [
      "\u001b[0;31m--------------------------------\u001b[0m",
      "\u001b[0;31mValueError\u001b[0mTraceback (most recent call last)",
      "\u001b[0;31mValueError\u001b[0m: Buffer dtype mismatch, expected 'float' but got 'double'"
     ]
    },
    {
     "name": "stderr",
     "output_type": "stream",
     "text": [
      "Exception ignored in: 'mdtraj.geometry._geometry.image_frame'\n",
      "Traceback (most recent call last):\n",
      "  File \"/home/zhangi/miniconda3/envs/perses-rest2v2/lib/python3.8/site-packages/mdtraj/core/trajectory.py\", line 2005, in image_molecules\n",
      "    _geometry.image_molecules(result.xyz, box, anchor_molecules_atom_indices, other_molecules_atom_indices, sorted_bonds)\n",
      "ValueError: Buffer dtype mismatch, expected 'float' but got 'double'\n"
     ]
    },
    {
     "ename": "ValueError",
     "evalue": "Buffer dtype mismatch, expected 'float' but got 'double'",
     "output_type": "error",
     "traceback": [
      "\u001b[0;31m--------------------------------\u001b[0m",
      "\u001b[0;31mValueError\u001b[0mTraceback (most recent call last)",
      "\u001b[0;31mValueError\u001b[0m: Buffer dtype mismatch, expected 'float' but got 'double'"
     ]
    },
    {
     "name": "stderr",
     "output_type": "stream",
     "text": [
      "Exception ignored in: 'mdtraj.geometry._geometry.image_frame'\n",
      "Traceback (most recent call last):\n",
      "  File \"/home/zhangi/miniconda3/envs/perses-rest2v2/lib/python3.8/site-packages/mdtraj/core/trajectory.py\", line 2005, in image_molecules\n",
      "    _geometry.image_molecules(result.xyz, box, anchor_molecules_atom_indices, other_molecules_atom_indices, sorted_bonds)\n",
      "ValueError: Buffer dtype mismatch, expected 'float' but got 'double'\n"
     ]
    },
    {
     "ename": "ValueError",
     "evalue": "Buffer dtype mismatch, expected 'float' but got 'double'",
     "output_type": "error",
     "traceback": [
      "\u001b[0;31m--------------------------------\u001b[0m",
      "\u001b[0;31mValueError\u001b[0mTraceback (most recent call last)",
      "\u001b[0;31mValueError\u001b[0m: Buffer dtype mismatch, expected 'float' but got 'double'"
     ]
    },
    {
     "name": "stderr",
     "output_type": "stream",
     "text": [
      "Exception ignored in: 'mdtraj.geometry._geometry.image_frame'\n",
      "Traceback (most recent call last):\n",
      "  File \"/home/zhangi/miniconda3/envs/perses-rest2v2/lib/python3.8/site-packages/mdtraj/core/trajectory.py\", line 2005, in image_molecules\n",
      "    _geometry.image_molecules(result.xyz, box, anchor_molecules_atom_indices, other_molecules_atom_indices, sorted_bonds)\n",
      "ValueError: Buffer dtype mismatch, expected 'float' but got 'double'\n"
     ]
    },
    {
     "ename": "ValueError",
     "evalue": "Buffer dtype mismatch, expected 'float' but got 'double'",
     "output_type": "error",
     "traceback": [
      "\u001b[0;31m--------------------------------\u001b[0m",
      "\u001b[0;31mValueError\u001b[0mTraceback (most recent call last)",
      "\u001b[0;31mValueError\u001b[0m: Buffer dtype mismatch, expected 'float' but got 'double'"
     ]
    },
    {
     "name": "stderr",
     "output_type": "stream",
     "text": [
      "Exception ignored in: 'mdtraj.geometry._geometry.image_frame'\n",
      "Traceback (most recent call last):\n",
      "  File \"/home/zhangi/miniconda3/envs/perses-rest2v2/lib/python3.8/site-packages/mdtraj/core/trajectory.py\", line 2005, in image_molecules\n",
      "    _geometry.image_molecules(result.xyz, box, anchor_molecules_atom_indices, other_molecules_atom_indices, sorted_bonds)\n",
      "ValueError: Buffer dtype mismatch, expected 'float' but got 'double'\n"
     ]
    },
    {
     "ename": "ValueError",
     "evalue": "Buffer dtype mismatch, expected 'float' but got 'double'",
     "output_type": "error",
     "traceback": [
      "\u001b[0;31m--------------------------------\u001b[0m",
      "\u001b[0;31mValueError\u001b[0mTraceback (most recent call last)",
      "\u001b[0;31mValueError\u001b[0m: Buffer dtype mismatch, expected 'float' but got 'double'"
     ]
    },
    {
     "name": "stderr",
     "output_type": "stream",
     "text": [
      "Exception ignored in: 'mdtraj.geometry._geometry.image_frame'\n",
      "Traceback (most recent call last):\n",
      "  File \"/home/zhangi/miniconda3/envs/perses-rest2v2/lib/python3.8/site-packages/mdtraj/core/trajectory.py\", line 2005, in image_molecules\n",
      "    _geometry.image_molecules(result.xyz, box, anchor_molecules_atom_indices, other_molecules_atom_indices, sorted_bonds)\n",
      "ValueError: Buffer dtype mismatch, expected 'float' but got 'double'\n"
     ]
    },
    {
     "ename": "ValueError",
     "evalue": "Buffer dtype mismatch, expected 'float' but got 'double'",
     "output_type": "error",
     "traceback": [
      "\u001b[0;31m--------------------------------\u001b[0m",
      "\u001b[0;31mValueError\u001b[0mTraceback (most recent call last)",
      "\u001b[0;31mValueError\u001b[0m: Buffer dtype mismatch, expected 'float' but got 'double'"
     ]
    },
    {
     "name": "stderr",
     "output_type": "stream",
     "text": [
      "Exception ignored in: 'mdtraj.geometry._geometry.image_frame'\n",
      "Traceback (most recent call last):\n",
      "  File \"/home/zhangi/miniconda3/envs/perses-rest2v2/lib/python3.8/site-packages/mdtraj/core/trajectory.py\", line 2005, in image_molecules\n",
      "    _geometry.image_molecules(result.xyz, box, anchor_molecules_atom_indices, other_molecules_atom_indices, sorted_bonds)\n",
      "ValueError: Buffer dtype mismatch, expected 'float' but got 'double'\n"
     ]
    },
    {
     "ename": "ValueError",
     "evalue": "Buffer dtype mismatch, expected 'float' but got 'double'",
     "output_type": "error",
     "traceback": [
      "\u001b[0;31m--------------------------------\u001b[0m",
      "\u001b[0;31mValueError\u001b[0mTraceback (most recent call last)",
      "\u001b[0;31mValueError\u001b[0m: Buffer dtype mismatch, expected 'float' but got 'double'"
     ]
    },
    {
     "name": "stderr",
     "output_type": "stream",
     "text": [
      "Exception ignored in: 'mdtraj.geometry._geometry.image_frame'\n",
      "Traceback (most recent call last):\n",
      "  File \"/home/zhangi/miniconda3/envs/perses-rest2v2/lib/python3.8/site-packages/mdtraj/core/trajectory.py\", line 2005, in image_molecules\n",
      "    _geometry.image_molecules(result.xyz, box, anchor_molecules_atom_indices, other_molecules_atom_indices, sorted_bonds)\n",
      "ValueError: Buffer dtype mismatch, expected 'float' but got 'double'\n"
     ]
    },
    {
     "ename": "ValueError",
     "evalue": "Buffer dtype mismatch, expected 'float' but got 'double'",
     "output_type": "error",
     "traceback": [
      "\u001b[0;31m--------------------------------\u001b[0m",
      "\u001b[0;31mValueError\u001b[0mTraceback (most recent call last)",
      "\u001b[0;31mValueError\u001b[0m: Buffer dtype mismatch, expected 'float' but got 'double'"
     ]
    },
    {
     "name": "stderr",
     "output_type": "stream",
     "text": [
      "Exception ignored in: 'mdtraj.geometry._geometry.image_frame'\n",
      "Traceback (most recent call last):\n",
      "  File \"/home/zhangi/miniconda3/envs/perses-rest2v2/lib/python3.8/site-packages/mdtraj/core/trajectory.py\", line 2005, in image_molecules\n",
      "    _geometry.image_molecules(result.xyz, box, anchor_molecules_atom_indices, other_molecules_atom_indices, sorted_bonds)\n",
      "ValueError: Buffer dtype mismatch, expected 'float' but got 'double'\n"
     ]
    },
    {
     "ename": "ValueError",
     "evalue": "Buffer dtype mismatch, expected 'float' but got 'double'",
     "output_type": "error",
     "traceback": [
      "\u001b[0;31m--------------------------------\u001b[0m",
      "\u001b[0;31mValueError\u001b[0mTraceback (most recent call last)",
      "\u001b[0;31mValueError\u001b[0m: Buffer dtype mismatch, expected 'float' but got 'double'"
     ]
    },
    {
     "name": "stderr",
     "output_type": "stream",
     "text": [
      "Exception ignored in: 'mdtraj.geometry._geometry.image_frame'\n",
      "Traceback (most recent call last):\n",
      "  File \"/home/zhangi/miniconda3/envs/perses-rest2v2/lib/python3.8/site-packages/mdtraj/core/trajectory.py\", line 2005, in image_molecules\n",
      "    _geometry.image_molecules(result.xyz, box, anchor_molecules_atom_indices, other_molecules_atom_indices, sorted_bonds)\n",
      "ValueError: Buffer dtype mismatch, expected 'float' but got 'double'\n"
     ]
    },
    {
     "ename": "ValueError",
     "evalue": "Buffer dtype mismatch, expected 'float' but got 'double'",
     "output_type": "error",
     "traceback": [
      "\u001b[0;31m--------------------------------\u001b[0m",
      "\u001b[0;31mValueError\u001b[0mTraceback (most recent call last)",
      "\u001b[0;31mValueError\u001b[0m: Buffer dtype mismatch, expected 'float' but got 'double'"
     ]
    },
    {
     "name": "stderr",
     "output_type": "stream",
     "text": [
      "Exception ignored in: 'mdtraj.geometry._geometry.image_frame'\n",
      "Traceback (most recent call last):\n",
      "  File \"/home/zhangi/miniconda3/envs/perses-rest2v2/lib/python3.8/site-packages/mdtraj/core/trajectory.py\", line 2005, in image_molecules\n",
      "    _geometry.image_molecules(result.xyz, box, anchor_molecules_atom_indices, other_molecules_atom_indices, sorted_bonds)\n",
      "ValueError: Buffer dtype mismatch, expected 'float' but got 'double'\n"
     ]
    },
    {
     "ename": "ValueError",
     "evalue": "Buffer dtype mismatch, expected 'float' but got 'double'",
     "output_type": "error",
     "traceback": [
      "\u001b[0;31m--------------------------------\u001b[0m",
      "\u001b[0;31mValueError\u001b[0mTraceback (most recent call last)",
      "\u001b[0;31mValueError\u001b[0m: Buffer dtype mismatch, expected 'float' but got 'double'"
     ]
    },
    {
     "name": "stderr",
     "output_type": "stream",
     "text": [
      "Exception ignored in: 'mdtraj.geometry._geometry.image_frame'\n",
      "Traceback (most recent call last):\n",
      "  File \"/home/zhangi/miniconda3/envs/perses-rest2v2/lib/python3.8/site-packages/mdtraj/core/trajectory.py\", line 2005, in image_molecules\n",
      "    _geometry.image_molecules(result.xyz, box, anchor_molecules_atom_indices, other_molecules_atom_indices, sorted_bonds)\n",
      "ValueError: Buffer dtype mismatch, expected 'float' but got 'double'\n"
     ]
    },
    {
     "ename": "ValueError",
     "evalue": "Buffer dtype mismatch, expected 'float' but got 'double'",
     "output_type": "error",
     "traceback": [
      "\u001b[0;31m--------------------------------\u001b[0m",
      "\u001b[0;31mValueError\u001b[0mTraceback (most recent call last)",
      "\u001b[0;31mValueError\u001b[0m: Buffer dtype mismatch, expected 'float' but got 'double'"
     ]
    },
    {
     "name": "stderr",
     "output_type": "stream",
     "text": [
      "Exception ignored in: 'mdtraj.geometry._geometry.image_frame'\n",
      "Traceback (most recent call last):\n",
      "  File \"/home/zhangi/miniconda3/envs/perses-rest2v2/lib/python3.8/site-packages/mdtraj/core/trajectory.py\", line 2005, in image_molecules\n",
      "    _geometry.image_molecules(result.xyz, box, anchor_molecules_atom_indices, other_molecules_atom_indices, sorted_bonds)\n",
      "ValueError: Buffer dtype mismatch, expected 'float' but got 'double'\n"
     ]
    },
    {
     "ename": "ValueError",
     "evalue": "Buffer dtype mismatch, expected 'float' but got 'double'",
     "output_type": "error",
     "traceback": [
      "\u001b[0;31m--------------------------------\u001b[0m",
      "\u001b[0;31mValueError\u001b[0mTraceback (most recent call last)",
      "\u001b[0;31mValueError\u001b[0m: Buffer dtype mismatch, expected 'float' but got 'double'"
     ]
    },
    {
     "name": "stderr",
     "output_type": "stream",
     "text": [
      "Exception ignored in: 'mdtraj.geometry._geometry.image_frame'\n",
      "Traceback (most recent call last):\n",
      "  File \"/home/zhangi/miniconda3/envs/perses-rest2v2/lib/python3.8/site-packages/mdtraj/core/trajectory.py\", line 2005, in image_molecules\n",
      "    _geometry.image_molecules(result.xyz, box, anchor_molecules_atom_indices, other_molecules_atom_indices, sorted_bonds)\n",
      "ValueError: Buffer dtype mismatch, expected 'float' but got 'double'\n"
     ]
    }
   ],
   "source": [
    "name = \"ala\"\n",
    "endstate = 1\n",
    "is_old = False\n",
    "traj_rest_solvent_old = make_traj(outdir_rest, htf, i, phase, name, endstate, is_old, keep_solvent=True)"
   ]
  },
  {
   "cell_type": "code",
   "execution_count": null,
   "id": "b7d29d74",
   "metadata": {},
   "outputs": [],
   "source": []
  },
  {
   "cell_type": "code",
   "execution_count": 54,
   "id": "7e1d5a99",
   "metadata": {},
   "outputs": [
    {
     "name": "stdout",
     "output_type": "stream",
     "text": [
      "ALA27-N 27 390\n",
      "ALA27-CA 27 391\n",
      "ALA27-C 27 392\n",
      "ALA27-O 27 393\n",
      "ALA27-CB 27 394\n",
      "ALA27-H 27 395\n",
      "ALA27-HA 27 396\n",
      "ALA27-HB3 27 397\n",
      "ALA27-HB2 27 398\n",
      "ALA27-HB1 27 399\n"
     ]
    }
   ],
   "source": [
    "ala_atoms = []\n",
    "for atom in traj_rest_solvent_old.topology.atoms:\n",
    "    if atom.residue.resSeq == 27 and atom.residue.name == 'ALA':\n",
    "        print(atom, atom.residue.resSeq, atom.index)\n",
    "        ala_atoms.append(atom.index)"
   ]
  },
  {
   "cell_type": "code",
   "execution_count": 55,
   "id": "fd726102",
   "metadata": {},
   "outputs": [],
   "source": [
    "water_atoms = traj_rest_solvent_old.topology.select(\"water and symbol == 'O'\")\n"
   ]
  },
  {
   "cell_type": "code",
   "execution_count": 56,
   "id": "f9023688",
   "metadata": {},
   "outputs": [],
   "source": [
    "neighbors = md.compute_neighbors(traj_rest_solvent_old, 0.5, ala_atoms, haystack_indices=water_atoms)"
   ]
  },
  {
   "cell_type": "code",
   "execution_count": 57,
   "id": "2a7723b8",
   "metadata": {},
   "outputs": [
    {
     "data": {
      "text/plain": [
       "(0.0, 18.0)"
      ]
     },
     "execution_count": 57,
     "metadata": {},
     "output_type": "execute_result"
    },
    {
     "data": {
      "image/png": "[encoded data removed]",
      "text/plain": [
       "<Figure size 432x288 with 1 Axes>"
      ]
     },
     "metadata": {
      "needs_background": "light"
     },
     "output_type": "display_data"
    }
   ],
   "source": [
    "plt.scatter(range(len(neighbors)), [len(frame) for frame in neighbors])\n",
    "plt.ylabel(\"number of waters\")\n",
    "plt.xlabel(\"rest snapshot\")\n",
    "plt.title(\"A27\")\n",
    "plt.ylim([0, 18])"
   ]
  },
  {
   "cell_type": "code",
   "execution_count": 58,
   "id": "c6575e95",
   "metadata": {},
   "outputs": [],
   "source": [
    "a27_waters = [len(frame) for frame in neighbors]"
   ]
  },
  {
   "cell_type": "code",
   "execution_count": 59,
   "id": "677e974e",
   "metadata": {},
   "outputs": [
    {
     "data": {
      "text/plain": [
       "5.614603696444751"
      ]
     },
     "execution_count": 59,
     "metadata": {},
     "output_type": "execute_result"
    }
   ],
   "source": [
    "timeseries.statisticalInefficiency(a27_waters)\n"
   ]
  }
 ],
 "metadata": {
  "kernelspec": {
   "display_name": "Python 3",
   "language": "python",
   "name": "python3"
  },
  "language_info": {
   "codemirror_mode": {
    "name": "ipython",
    "version": 3
   },
   "file_extension": ".py",
   "mimetype": "text/x-python",
   "name": "python",
   "nbconvert_exporter": "python",
   "pygments_lexer": "ipython3",
   "version": "3.8.10"
  }
 },
 "nbformat": 4,
 "nbformat_minor": 5
}
