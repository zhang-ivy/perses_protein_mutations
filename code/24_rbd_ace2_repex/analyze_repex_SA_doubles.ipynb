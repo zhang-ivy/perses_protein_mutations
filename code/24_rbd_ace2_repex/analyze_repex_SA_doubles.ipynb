{
 "cells": [
  {
   "cell_type": "code",
   "execution_count": 1,
   "metadata": {},
   "outputs": [],
   "source": [
    "from perses.analysis import utils\n",
    "from openmmtools.multistate import MultiStateReporter, MultiStateSamplerAnalyzer\n",
    "from simtk import unit\n",
    "import os\n",
    "import itertools\n",
    "from tqdm import tqdm_notebook\n",
    "import pandas as pd\n",
    "import numpy as np\n",
    "import seaborn as sns\n",
    "import matplotlib.pyplot as plt\n",
    "import logging\n",
    "from perses.analysis import utils\n",
    "\n",
    "from openmmtools.constants import kB\n",
    "KT_KCALMOL = kB * 298 * unit.kelvin / unit.kilocalories_per_mole\n",
    "\n",
    "import warnings\n",
    "warnings.filterwarnings('ignore')"
   ]
  },
  {
   "cell_type": "code",
   "execution_count": 2,
   "metadata": {},
   "outputs": [],
   "source": [
    "# Given a path, get dg and ddg\n",
    "def analyze(path):\n",
    "    reporter = MultiStateReporter(path)\n",
    "    analyzer = MultiStateSamplerAnalyzer(reporter)\n",
    "    f_ij, df_ij = analyzer.get_free_energy()\n",
    "    f = f_ij[0,-1] # units = kT\n",
    "#     f = f_ij[0,-1] * analyzer.kT\n",
    "#     dg = f.in_units_of(unit.kilocalories_per_mole)\n",
    "    df = df_ij[0, -1]\n",
    "#     df = df_ij[0, -1] * analyzer.kT\n",
    "#     ddg = df.in_units_of(unit.kilocalories_per_mole)\n",
    "    return f, df\n",
    "\n",
    "def analyze_dom(path):\n",
    "    reporter = MultiStateReporter(path)\n",
    "    ncfile = utils.open_netcdf(path)\n",
    "    n_iterations = ncfile.variables['last_iteration'][0]\n",
    "    print(f\"n_iterations: {n_iterations}\")\n",
    "    dg, ddg = list(), list()\n",
    "#     iterations_to_analyze = list(range (1, n_iterations, 500)) + [int(n_iterations-1)]\n",
    "#     print(iterations_to_analyze) # check that this is giving me the last avail iteration\n",
    "#     for step in iterations_to_analyze: \n",
    "#         analyzer = MultiStateSamplerAnalyzer(reporter, max_n_iterations=step)\n",
    "#         f_ij, df_ij = analyzer.get_free_energy()\n",
    "#         dg.append(f_ij[0,-1])\n",
    "#         ddg.append(df_ij[0,-1])\n",
    "    # Get final free energy\n",
    "    analyzer = MultiStateSamplerAnalyzer(reporter, max_n_iterations=n_iterations)\n",
    "    f_ij, df_ij = analyzer.get_free_energy()\n",
    "    dg.append(f_ij[0,-1])\n",
    "    ddg.append(df_ij[0,-1])\n",
    "    return np.array(dg), np.array(ddg)"
   ]
  },
  {
   "cell_type": "markdown",
   "metadata": {},
   "source": [
    "### 5 ns N501Y -> N501Y/K417N (repex/31/9/0)"
   ]
  },
  {
   "cell_type": "code",
   "execution_count": 6,
   "metadata": {},
   "outputs": [],
   "source": [
    "_logger = logging.getLogger()\n",
    "_logger.setLevel(logging.INFO)"
   ]
  },
  {
   "cell_type": "code",
   "execution_count": 3,
   "metadata": {},
   "outputs": [],
   "source": [
    "main_dir = 31\n",
    "sub_dir = 9"
   ]
  },
  {
   "cell_type": "code",
   "execution_count": 4,
   "metadata": {},
   "outputs": [
    {
     "data": {
      "application/vnd.jupyter.widget-view+json": {
       "model_id": "f0fa789900c943d9abb4fb2e026f0aef",
       "version_major": 2,
       "version_minor": 0
      },
      "text/plain": [
       "  0%|          | 0/1 [00:00<?, ?it/s]"
      ]
     },
     "metadata": {},
     "output_type": "display_data"
    },
    {
     "name": "stderr",
     "output_type": "stream",
     "text": [
      "Warning: The openmmtools.multistate API is experimental and may change in future releases\n",
      "Warning: The openmmtools.multistate API is experimental and may change in future releases\n"
     ]
    },
    {
     "name": "stdout",
     "output_type": "stream",
     "text": [
      "replicate 0\n",
      "analyzing complex\n",
      "n_iterations: 5000\n"
     ]
    },
    {
     "name": "stderr",
     "output_type": "stream",
     "text": [
      "Warning: The openmmtools.multistate API is experimental and may change in future releases\n",
      "Warning: The openmmtools.multistate API is experimental and may change in future releases\n"
     ]
    },
    {
     "name": "stdout",
     "output_type": "stream",
     "text": [
      "analyzing apo\n",
      "n_iterations: 5000\n"
     ]
    }
   ],
   "source": [
    "for r in tqdm_notebook([0]):\n",
    "    print (f\"replicate {r}\")\n",
    "    output_dir = f'/data/chodera/zhangi/perses_benchmark/repex/{main_dir}/{sub_dir}/{r}/'\n",
    "    \n",
    "    print(\"analyzing complex\")\n",
    "    complex_path = os.path.join(output_dir, f\"{r}_complex.nc\")\n",
    "    complex_dg, complex_ddg = analyze_dom(complex_path)\n",
    "    print(\"analyzing apo\")\n",
    "    apo_path = os.path.join(output_dir, f\"{r}_apo.nc\")\n",
    "    apo_dg, apo_ddg = analyze_dom(apo_path)\n",
    "\n",
    "    results = np.array([complex_dg, complex_ddg, apo_dg, apo_ddg])\n",
    "    with open(f'/data/chodera/zhangi/perses_benchmark/repex/{main_dir}/{sub_dir}/{r}/results.npy', 'wb') as f:\n",
    "        np.save(f, results)"
   ]
  },
  {
   "cell_type": "code",
   "execution_count": 6,
   "metadata": {},
   "outputs": [
    {
     "name": "stdout",
     "output_type": "stream",
     "text": [
      "0 complex: -144.75808851199668 (0.6315968946894134) kcal/mol\n",
      "0 apo: -149.46330720968723 (0.2667006024049485) kcal/mol\n",
      "0 DDG: 4.705218697690555 (0.685597439248771) kcal/mol\n",
      "\n"
     ]
    }
   ],
   "source": [
    "# Read the dicts in and compute free energies (kcal/mol)\n",
    "d_results = {}\n",
    "for r in [0]:\n",
    "    with open(f\"/data/chodera/zhangi/perses_benchmark/repex/{main_dir}/{sub_dir}/{r}/results.npy\", \"rb\") as f:\n",
    "        results = np.load(f, allow_pickle=True)\n",
    "        d_results[r] = results\n",
    "        complex_dg, complex_ddg, apo_dg, apo_ddg = [result[-1]*KT_KCALMOL for result in results]\n",
    "        print(f\"{r} complex: {complex_dg} ({complex_ddg}) kcal/mol\")\n",
    "        print(f\"{r} apo: {apo_dg} ({apo_ddg}) kcal/mol\")\n",
    "        binding_dg = complex_dg - apo_dg\n",
    "        binding_ddg = (apo_ddg**2 + complex_ddg**2)**0.5\n",
    "        print(f\"{r} DDG: {binding_dg} ({binding_ddg}) kcal/mol\")\n",
    "        print()\n",
    "\n"
   ]
  },
  {
   "cell_type": "markdown",
   "metadata": {},
   "source": [
    "### 5 ns N501Y/K417N -> N501Y (repex/31/10/0)"
   ]
  },
  {
   "cell_type": "code",
   "execution_count": 5,
   "metadata": {},
   "outputs": [],
   "source": [
    "_logger = logging.getLogger()\n",
    "_logger.setLevel(logging.INFO)"
   ]
  },
  {
   "cell_type": "code",
   "execution_count": 7,
   "metadata": {},
   "outputs": [],
   "source": [
    "main_dir = 31\n",
    "sub_dir = 10"
   ]
  },
  {
   "cell_type": "code",
   "execution_count": 8,
   "metadata": {},
   "outputs": [
    {
     "data": {
      "application/vnd.jupyter.widget-view+json": {
       "model_id": "a969be68c9524e4185767c91c1cb9fd5",
       "version_major": 2,
       "version_minor": 0
      },
      "text/plain": [
       "  0%|          | 0/1 [00:00<?, ?it/s]"
      ]
     },
     "metadata": {},
     "output_type": "display_data"
    },
    {
     "name": "stderr",
     "output_type": "stream",
     "text": [
      "Warning: The openmmtools.multistate API is experimental and may change in future releases\n",
      "Warning: The openmmtools.multistate API is experimental and may change in future releases\n"
     ]
    },
    {
     "name": "stdout",
     "output_type": "stream",
     "text": [
      "replicate 0\n",
      "analyzing complex\n",
      "n_iterations: 5000\n"
     ]
    },
    {
     "name": "stderr",
     "output_type": "stream",
     "text": [
      "Warning: The openmmtools.multistate API is experimental and may change in future releases\n",
      "Warning: The openmmtools.multistate API is experimental and may change in future releases\n"
     ]
    },
    {
     "name": "stdout",
     "output_type": "stream",
     "text": [
      "analyzing apo\n",
      "n_iterations: 5000\n"
     ]
    }
   ],
   "source": [
    "for r in tqdm_notebook([0]):\n",
    "    print (f\"replicate {r}\")\n",
    "    output_dir = f'/data/chodera/zhangi/perses_benchmark/repex/{main_dir}/{sub_dir}/{r}/'\n",
    "    \n",
    "    print(\"analyzing complex\")\n",
    "    complex_path = os.path.join(output_dir, f\"{r}_complex.nc\")\n",
    "    complex_dg, complex_ddg = analyze_dom(complex_path)\n",
    "    print(\"analyzing apo\")\n",
    "    apo_path = os.path.join(output_dir, f\"{r}_apo.nc\")\n",
    "    apo_dg, apo_ddg = analyze_dom(apo_path)\n",
    "\n",
    "    results = np.array([complex_dg, complex_ddg, apo_dg, apo_ddg])\n",
    "    with open(f'/data/chodera/zhangi/perses_benchmark/repex/{main_dir}/{sub_dir}/{r}/results.npy', 'wb') as f:\n",
    "        np.save(f, results)"
   ]
  },
  {
   "cell_type": "code",
   "execution_count": 10,
   "metadata": {},
   "outputs": [
    {
     "name": "stdout",
     "output_type": "stream",
     "text": [
      "0 complex: -17.22130570739417 (0.4272927026616299) kcal/mol\n",
      "0 apo: -13.448647206377055 (0.21610625122801985) kcal/mol\n",
      "0 DDG: -3.772658501017114 (0.4788329203048889) kcal/mol\n",
      "\n"
     ]
    }
   ],
   "source": [
    "# Read the dicts in and compute free energies (kcal/mol)\n",
    "d_results = {}\n",
    "for r in [0]:\n",
    "    with open(f\"/data/chodera/zhangi/perses_benchmark/repex/{main_dir}/{sub_dir}/{r}/results.npy\", \"rb\") as f:\n",
    "        results = np.load(f, allow_pickle=True)\n",
    "        d_results[r] = results\n",
    "        complex_dg, complex_ddg, apo_dg, apo_ddg = [result[-1]*KT_KCALMOL for result in results]\n",
    "        print(f\"{r} complex: {complex_dg} ({complex_ddg}) kcal/mol\")\n",
    "        print(f\"{r} apo: {apo_dg} ({apo_ddg}) kcal/mol\")\n",
    "        binding_dg = complex_dg - apo_dg\n",
    "        binding_ddg = (apo_ddg**2 + complex_ddg**2)**0.5\n",
    "        print(f\"{r} DDG: {binding_dg} ({binding_ddg}) kcal/mol\")\n",
    "        print()\n",
    "\n"
   ]
  },
  {
   "cell_type": "markdown",
   "metadata": {},
   "source": [
    "### 5 ns N501Y ->  N501Y/E484K (repex/31/11/0)"
   ]
  },
  {
   "cell_type": "code",
   "execution_count": 11,
   "metadata": {},
   "outputs": [],
   "source": [
    "_logger = logging.getLogger()\n",
    "_logger.setLevel(logging.INFO)"
   ]
  },
  {
   "cell_type": "code",
   "execution_count": 12,
   "metadata": {},
   "outputs": [],
   "source": [
    "main_dir = 31\n",
    "sub_dir = 11"
   ]
  },
  {
   "cell_type": "code",
   "execution_count": 13,
   "metadata": {},
   "outputs": [
    {
     "data": {
      "application/vnd.jupyter.widget-view+json": {
       "model_id": "c883d18b9ca84fcf88228ed615957153",
       "version_major": 2,
       "version_minor": 0
      },
      "text/plain": [
       "  0%|          | 0/1 [00:00<?, ?it/s]"
      ]
     },
     "metadata": {},
     "output_type": "display_data"
    },
    {
     "name": "stderr",
     "output_type": "stream",
     "text": [
      "Warning: The openmmtools.multistate API is experimental and may change in future releases\n",
      "Warning: The openmmtools.multistate API is experimental and may change in future releases\n"
     ]
    },
    {
     "name": "stdout",
     "output_type": "stream",
     "text": [
      "replicate 0\n",
      "analyzing complex\n",
      "n_iterations: 5000\n"
     ]
    },
    {
     "name": "stderr",
     "output_type": "stream",
     "text": [
      "Warning: The openmmtools.multistate API is experimental and may change in future releases\n",
      "Warning: The openmmtools.multistate API is experimental and may change in future releases\n"
     ]
    },
    {
     "name": "stdout",
     "output_type": "stream",
     "text": [
      "analyzing apo\n",
      "n_iterations: 5000\n"
     ]
    }
   ],
   "source": [
    "for r in tqdm_notebook([0]):\n",
    "    print (f\"replicate {r}\")\n",
    "    output_dir = f'/data/chodera/zhangi/perses_benchmark/repex/{main_dir}/{sub_dir}/{r}/'\n",
    "    \n",
    "    print(\"analyzing complex\")\n",
    "    complex_path = os.path.join(output_dir, f\"{r}_complex.nc\")\n",
    "    complex_dg, complex_ddg = analyze_dom(complex_path)\n",
    "    print(\"analyzing apo\")\n",
    "    apo_path = os.path.join(output_dir, f\"{r}_apo.nc\")\n",
    "    apo_dg, apo_ddg = analyze_dom(apo_path)\n",
    "\n",
    "    results = np.array([complex_dg, complex_ddg, apo_dg, apo_ddg])\n",
    "    with open(f'/data/chodera/zhangi/perses_benchmark/repex/{main_dir}/{sub_dir}/{r}/results.npy', 'wb') as f:\n",
    "        np.save(f, results)"
   ]
  },
  {
   "cell_type": "code",
   "execution_count": 14,
   "metadata": {
    "scrolled": true
   },
   "outputs": [
    {
     "name": "stdout",
     "output_type": "stream",
     "text": [
      "0 complex: -170.9137010483867 (1.098914353040906) kT\n",
      "0 apo: -171.3724958724239 (0.7387483437513426) kT\n",
      "0 DDG: 0.4587948240371986 (1.3241457135506896) kT\n",
      "\n"
     ]
    }
   ],
   "source": [
    "# Read the dicts in and compute free energies (kT)\n",
    "d_results = {}\n",
    "for r in [0]:\n",
    "    with open(f\"/data/chodera/zhangi/perses_benchmark/repex/{main_dir}/{sub_dir}/{r}/results.npy\", \"rb\") as f:\n",
    "        results = np.load(f, allow_pickle=True)\n",
    "        d_results[r] = results\n",
    "        complex_dg, complex_ddg, apo_dg, apo_ddg = [result[-1] for result in results]\n",
    "        print(f\"{r} complex: {complex_dg} ({complex_ddg}) kT\")\n",
    "        print(f\"{r} apo: {apo_dg} ({apo_ddg}) kT\")\n",
    "        binding_dg = complex_dg - apo_dg\n",
    "        binding_ddg = (apo_ddg**2 + complex_ddg**2)**0.5\n",
    "        print(f\"{r} DDG: {binding_dg} ({binding_ddg}) kT\")\n",
    "        print()\n"
   ]
  },
  {
   "cell_type": "code",
   "execution_count": 15,
   "metadata": {},
   "outputs": [
    {
     "name": "stdout",
     "output_type": "stream",
     "text": [
      "0 complex: -101.21284950585913 (0.6507626501088377) kcal/mol\n",
      "0 apo: -101.48454177625351 (0.4374770687204254) kcal/mol\n",
      "0 DDG: 0.27169227039438226 (0.7841417043066217) kcal/mol\n",
      "\n"
     ]
    }
   ],
   "source": [
    "# Read the dicts in and compute free energies (kcal/mol)\n",
    "d_results = {}\n",
    "for r in [0]:\n",
    "    with open(f\"/data/chodera/zhangi/perses_benchmark/repex/{main_dir}/{sub_dir}/{r}/results.npy\", \"rb\") as f:\n",
    "        results = np.load(f, allow_pickle=True)\n",
    "        d_results[r] = results\n",
    "        complex_dg, complex_ddg, apo_dg, apo_ddg = [result[-1]*KT_KCALMOL for result in results]\n",
    "        print(f\"{r} complex: {complex_dg} ({complex_ddg}) kcal/mol\")\n",
    "        print(f\"{r} apo: {apo_dg} ({apo_ddg}) kcal/mol\")\n",
    "        binding_dg = complex_dg - apo_dg\n",
    "        binding_ddg = (apo_ddg**2 + complex_ddg**2)**0.5\n",
    "        print(f\"{r} DDG: {binding_dg} ({binding_ddg}) kcal/mol\")\n",
    "        print()\n",
    "\n"
   ]
  },
  {
   "cell_type": "markdown",
   "metadata": {},
   "source": [
    "### 5 ns N501Y/E484K -> N501Y (repex/31/12/0)"
   ]
  },
  {
   "cell_type": "code",
   "execution_count": 5,
   "metadata": {},
   "outputs": [],
   "source": [
    "_logger = logging.getLogger()\n",
    "_logger.setLevel(logging.INFO)"
   ]
  },
  {
   "cell_type": "code",
   "execution_count": 16,
   "metadata": {},
   "outputs": [],
   "source": [
    "main_dir = 31\n",
    "sub_dir = 12"
   ]
  },
  {
   "cell_type": "code",
   "execution_count": 17,
   "metadata": {},
   "outputs": [
    {
     "data": {
      "application/vnd.jupyter.widget-view+json": {
       "model_id": "cc5f61773dc2433f93fd286c7ff878ee",
       "version_major": 2,
       "version_minor": 0
      },
      "text/plain": [
       "  0%|          | 0/1 [00:00<?, ?it/s]"
      ]
     },
     "metadata": {},
     "output_type": "display_data"
    },
    {
     "name": "stderr",
     "output_type": "stream",
     "text": [
      "Warning: The openmmtools.multistate API is experimental and may change in future releases\n",
      "Warning: The openmmtools.multistate API is experimental and may change in future releases\n"
     ]
    },
    {
     "name": "stdout",
     "output_type": "stream",
     "text": [
      "replicate 0\n",
      "analyzing complex\n",
      "n_iterations: 5000\n"
     ]
    },
    {
     "name": "stderr",
     "output_type": "stream",
     "text": [
      "Warning: The openmmtools.multistate API is experimental and may change in future releases\n",
      "Warning: The openmmtools.multistate API is experimental and may change in future releases\n"
     ]
    },
    {
     "name": "stdout",
     "output_type": "stream",
     "text": [
      "analyzing apo\n",
      "n_iterations: 5000\n"
     ]
    }
   ],
   "source": [
    "for r in tqdm_notebook([0]):\n",
    "    print (f\"replicate {r}\")\n",
    "    output_dir = f'/data/chodera/zhangi/perses_benchmark/repex/{main_dir}/{sub_dir}/{r}/'\n",
    "    \n",
    "    print(\"analyzing complex\")\n",
    "    complex_path = os.path.join(output_dir, f\"{r}_complex.nc\")\n",
    "    complex_dg, complex_ddg = analyze_dom(complex_path)\n",
    "    print(\"analyzing apo\")\n",
    "    apo_path = os.path.join(output_dir, f\"{r}_apo.nc\")\n",
    "    apo_dg, apo_ddg = analyze_dom(apo_path)\n",
    "\n",
    "    results = np.array([complex_dg, complex_ddg, apo_dg, apo_ddg])\n",
    "    with open(f'/data/chodera/zhangi/perses_benchmark/repex/{main_dir}/{sub_dir}/{r}/results.npy', 'wb') as f:\n",
    "        np.save(f, results)"
   ]
  },
  {
   "cell_type": "code",
   "execution_count": 18,
   "metadata": {},
   "outputs": [
    {
     "name": "stdout",
     "output_type": "stream",
     "text": [
      "0 complex: -226.8202980553889 (0.9015562979951257) kcal/mol\n",
      "0 apo: -225.72246784969101 (0.5236596856019335) kcal/mol\n",
      "0 DDG: -1.0978302056978748 (1.0426040594489319) kcal/mol\n",
      "\n"
     ]
    }
   ],
   "source": [
    "# Read the dicts in and compute free energies (kcal/mol)\n",
    "d_results = {}\n",
    "for r in [0]:\n",
    "    with open(f\"/data/chodera/zhangi/perses_benchmark/repex/{main_dir}/{sub_dir}/{r}/results.npy\", \"rb\") as f:\n",
    "        results = np.load(f, allow_pickle=True)\n",
    "        d_results[r] = results\n",
    "        complex_dg, complex_ddg, apo_dg, apo_ddg = [result[-1]*KT_KCALMOL for result in results]\n",
    "        print(f\"{r} complex: {complex_dg} ({complex_ddg}) kcal/mol\")\n",
    "        print(f\"{r} apo: {apo_dg} ({apo_ddg}) kcal/mol\")\n",
    "        binding_dg = complex_dg - apo_dg\n",
    "        binding_ddg = (apo_ddg**2 + complex_ddg**2)**0.5\n",
    "        print(f\"{r} DDG: {binding_dg} ({binding_ddg}) kcal/mol\")\n",
    "        print()\n",
    "\n"
   ]
  },
  {
   "cell_type": "markdown",
   "metadata": {},
   "source": [
    "### 5 ns K417N -> N501Y/K417N (repex/31/13/0)"
   ]
  },
  {
   "cell_type": "code",
   "execution_count": 8,
   "metadata": {},
   "outputs": [],
   "source": [
    "_logger = logging.getLogger()\n",
    "_logger.setLevel(logging.INFO)"
   ]
  },
  {
   "cell_type": "code",
   "execution_count": 19,
   "metadata": {},
   "outputs": [],
   "source": [
    "main_dir = 31\n",
    "sub_dir = 13"
   ]
  },
  {
   "cell_type": "code",
   "execution_count": 20,
   "metadata": {},
   "outputs": [
    {
     "data": {
      "application/vnd.jupyter.widget-view+json": {
       "model_id": "f4e5fe3983df46dcb51a2db46f0c2118",
       "version_major": 2,
       "version_minor": 0
      },
      "text/plain": [
       "  0%|          | 0/1 [00:00<?, ?it/s]"
      ]
     },
     "metadata": {},
     "output_type": "display_data"
    },
    {
     "name": "stderr",
     "output_type": "stream",
     "text": [
      "Warning: The openmmtools.multistate API is experimental and may change in future releases\n",
      "Warning: The openmmtools.multistate API is experimental and may change in future releases\n"
     ]
    },
    {
     "name": "stdout",
     "output_type": "stream",
     "text": [
      "replicate 0\n",
      "analyzing complex\n",
      "n_iterations: 5000\n"
     ]
    },
    {
     "name": "stderr",
     "output_type": "stream",
     "text": [
      "Warning: The openmmtools.multistate API is experimental and may change in future releases\n",
      "Warning: The openmmtools.multistate API is experimental and may change in future releases\n"
     ]
    },
    {
     "name": "stdout",
     "output_type": "stream",
     "text": [
      "analyzing apo\n",
      "n_iterations: 5000\n"
     ]
    }
   ],
   "source": [
    "for r in tqdm_notebook([0]):\n",
    "    print (f\"replicate {r}\")\n",
    "    output_dir = f'/data/chodera/zhangi/perses_benchmark/repex/{main_dir}/{sub_dir}/{r}/'\n",
    "    \n",
    "    print(\"analyzing complex\")\n",
    "    complex_path = os.path.join(output_dir, f\"{r}_complex.nc\")\n",
    "    complex_dg, complex_ddg = analyze_dom(complex_path)\n",
    "    print(\"analyzing apo\")\n",
    "    apo_path = os.path.join(output_dir, f\"{r}_apo.nc\")\n",
    "    apo_dg, apo_ddg = analyze_dom(apo_path)\n",
    "\n",
    "    results = np.array([complex_dg, complex_ddg, apo_dg, apo_ddg])\n",
    "    with open(f'/data/chodera/zhangi/perses_benchmark/repex/{main_dir}/{sub_dir}/{r}/results.npy', 'wb') as f:\n",
    "        np.save(f, results)"
   ]
  },
  {
   "cell_type": "code",
   "execution_count": 21,
   "metadata": {},
   "outputs": [
    {
     "name": "stdout",
     "output_type": "stream",
     "text": [
      "0 complex: 70.24930574910664 (0.5169836054301186) kcal/mol\n",
      "0 apo: 64.6115695371746 (0.1493973089048564) kcal/mol\n",
      "0 DDG: 5.637736211932037 (0.5381371611323061) kcal/mol\n",
      "\n"
     ]
    }
   ],
   "source": [
    "# Read the dicts in and compute free energies (kcal/mol)\n",
    "d_results = {}\n",
    "for r in [0]:\n",
    "    with open(f\"/data/chodera/zhangi/perses_benchmark/repex/{main_dir}/{sub_dir}/{r}/results.npy\", \"rb\") as f:\n",
    "        results = np.load(f, allow_pickle=True)\n",
    "        d_results[r] = results\n",
    "        complex_dg, complex_ddg, apo_dg, apo_ddg = [result[-1]*KT_KCALMOL for result in results]\n",
    "        print(f\"{r} complex: {complex_dg} ({complex_ddg}) kcal/mol\")\n",
    "        print(f\"{r} apo: {apo_dg} ({apo_ddg}) kcal/mol\")\n",
    "        binding_dg = complex_dg - apo_dg\n",
    "        binding_ddg = (apo_ddg**2 + complex_ddg**2)**0.5\n",
    "        print(f\"{r} DDG: {binding_dg} ({binding_ddg}) kcal/mol\")\n",
    "        print()\n",
    "\n"
   ]
  },
  {
   "cell_type": "markdown",
   "metadata": {},
   "source": [
    "### 5 ns N501Y/K417N -> K417N (repex/31/14/0)"
   ]
  },
  {
   "cell_type": "code",
   "execution_count": 22,
   "metadata": {},
   "outputs": [],
   "source": [
    "_logger = logging.getLogger()\n",
    "_logger.setLevel(logging.INFO)"
   ]
  },
  {
   "cell_type": "code",
   "execution_count": 32,
   "metadata": {},
   "outputs": [],
   "source": [
    "main_dir = 31\n",
    "sub_dir = 14"
   ]
  },
  {
   "cell_type": "code",
   "execution_count": 33,
   "metadata": {},
   "outputs": [
    {
     "data": {
      "application/vnd.jupyter.widget-view+json": {
       "model_id": "69e8a14947de4df19cb003e01a386955",
       "version_major": 2,
       "version_minor": 0
      },
      "text/plain": [
       "  0%|          | 0/1 [00:00<?, ?it/s]"
      ]
     },
     "metadata": {},
     "output_type": "display_data"
    },
    {
     "name": "stderr",
     "output_type": "stream",
     "text": [
      "Warning: The openmmtools.multistate API is experimental and may change in future releases\n",
      "Warning: The openmmtools.multistate API is experimental and may change in future releases\n"
     ]
    },
    {
     "name": "stdout",
     "output_type": "stream",
     "text": [
      "replicate 0\n",
      "analyzing complex\n",
      "n_iterations: 5000\n"
     ]
    },
    {
     "name": "stderr",
     "output_type": "stream",
     "text": [
      "Warning: The openmmtools.multistate API is experimental and may change in future releases\n",
      "Warning: The openmmtools.multistate API is experimental and may change in future releases\n"
     ]
    },
    {
     "name": "stdout",
     "output_type": "stream",
     "text": [
      "analyzing apo\n",
      "n_iterations: 5000\n"
     ]
    }
   ],
   "source": [
    "for r in tqdm_notebook([0]):\n",
    "    print (f\"replicate {r}\")\n",
    "    output_dir = f'/data/chodera/zhangi/perses_benchmark/repex/{main_dir}/{sub_dir}/{r}/'\n",
    "    \n",
    "    print(\"analyzing complex\")\n",
    "    complex_path = os.path.join(output_dir, f\"{r}_complex.nc\")\n",
    "    complex_dg, complex_ddg = analyze_dom(complex_path)\n",
    "    print(\"analyzing apo\")\n",
    "    apo_path = os.path.join(output_dir, f\"{r}_apo.nc\")\n",
    "    apo_dg, apo_ddg = analyze_dom(apo_path)\n",
    "\n",
    "    results = np.array([complex_dg, complex_ddg, apo_dg, apo_ddg])\n",
    "    with open(f'/data/chodera/zhangi/perses_benchmark/repex/{main_dir}/{sub_dir}/{r}/results.npy', 'wb') as f:\n",
    "        np.save(f, results)"
   ]
  },
  {
   "cell_type": "code",
   "execution_count": 34,
   "metadata": {},
   "outputs": [
    {
     "name": "stdout",
     "output_type": "stream",
     "text": [
      "0 complex: -66.96121367958516 (0.8172181073743694) kcal/mol\n",
      "0 apo: -66.23151657480075 (0.2283117557225905) kcal/mol\n",
      "0 DDG: -0.7296971047844067 (0.8485114570951168) kcal/mol\n",
      "\n"
     ]
    }
   ],
   "source": [
    "# Read the dicts in and compute free energies (kcal/mol)\n",
    "d_results = {}\n",
    "for r in [0]:\n",
    "    with open(f\"/data/chodera/zhangi/perses_benchmark/repex/{main_dir}/{sub_dir}/{r}/results.npy\", \"rb\") as f:\n",
    "        results = np.load(f, allow_pickle=True)\n",
    "        d_results[r] = results\n",
    "        complex_dg, complex_ddg, apo_dg, apo_ddg = [result[-1]*KT_KCALMOL for result in results]\n",
    "        print(f\"{r} complex: {complex_dg} ({complex_ddg}) kcal/mol\")\n",
    "        print(f\"{r} apo: {apo_dg} ({apo_ddg}) kcal/mol\")\n",
    "        binding_dg = complex_dg - apo_dg\n",
    "        binding_ddg = (apo_ddg**2 + complex_ddg**2)**0.5\n",
    "        print(f\"{r} DDG: {binding_dg} ({binding_ddg}) kcal/mol\")\n",
    "        print()\n",
    "\n"
   ]
  },
  {
   "cell_type": "markdown",
   "metadata": {},
   "source": [
    "### 5 ns  K417N -> K417N/E484K (repex/31/15/0)"
   ]
  },
  {
   "cell_type": "code",
   "execution_count": 3,
   "metadata": {},
   "outputs": [],
   "source": [
    "_logger = logging.getLogger()\n",
    "_logger.setLevel(logging.INFO)"
   ]
  },
  {
   "cell_type": "code",
   "execution_count": 4,
   "metadata": {},
   "outputs": [],
   "source": [
    "main_dir = 31\n",
    "sub_dir = 15"
   ]
  },
  {
   "cell_type": "code",
   "execution_count": 36,
   "metadata": {},
   "outputs": [
    {
     "data": {
      "application/vnd.jupyter.widget-view+json": {
       "model_id": "9c60b11900cd4fcb8a5730cd24547691",
       "version_major": 2,
       "version_minor": 0
      },
      "text/plain": [
       "  0%|          | 0/1 [00:00<?, ?it/s]"
      ]
     },
     "metadata": {},
     "output_type": "display_data"
    },
    {
     "name": "stderr",
     "output_type": "stream",
     "text": [
      "Warning: The openmmtools.multistate API is experimental and may change in future releases\n",
      "Warning: The openmmtools.multistate API is experimental and may change in future releases\n"
     ]
    },
    {
     "name": "stdout",
     "output_type": "stream",
     "text": [
      "replicate 0\n",
      "analyzing complex\n",
      "n_iterations: 5000\n"
     ]
    },
    {
     "name": "stderr",
     "output_type": "stream",
     "text": [
      "Warning: The openmmtools.multistate API is experimental and may change in future releases\n",
      "Warning: The openmmtools.multistate API is experimental and may change in future releases\n"
     ]
    },
    {
     "name": "stdout",
     "output_type": "stream",
     "text": [
      "analyzing apo\n",
      "n_iterations: 5000\n"
     ]
    }
   ],
   "source": [
    "for r in tqdm_notebook([0]):\n",
    "    print (f\"replicate {r}\")\n",
    "    output_dir = f'/data/chodera/zhangi/perses_benchmark/repex/{main_dir}/{sub_dir}/{r}/'\n",
    "    \n",
    "    print(\"analyzing complex\")\n",
    "    complex_path = os.path.join(output_dir, f\"{r}_complex.nc\")\n",
    "    complex_dg, complex_ddg = analyze_dom(complex_path)\n",
    "    print(\"analyzing apo\")\n",
    "    apo_path = os.path.join(output_dir, f\"{r}_apo.nc\")\n",
    "    apo_dg, apo_ddg = analyze_dom(apo_path)\n",
    "\n",
    "    results = np.array([complex_dg, complex_ddg, apo_dg, apo_ddg])\n",
    "    with open(f'/data/chodera/zhangi/perses_benchmark/repex/{main_dir}/{sub_dir}/{r}/results.npy', 'wb') as f:\n",
    "        np.save(f, results)"
   ]
  },
  {
   "cell_type": "code",
   "execution_count": 37,
   "metadata": {},
   "outputs": [
    {
     "name": "stdout",
     "output_type": "stream",
     "text": [
      "0 complex: -100.84652476655265 (0.7445755888318999) kcal/mol\n",
      "0 apo: -102.48307567995919 (0.36729252069205554) kcal/mol\n",
      "0 DDG: 1.6365509134065377 (0.8302388832382488) kcal/mol\n",
      "\n"
     ]
    }
   ],
   "source": [
    "# Read the dicts in and compute free energies (kcal/mol)\n",
    "d_results = {}\n",
    "for r in [0]:\n",
    "    with open(f\"/data/chodera/zhangi/perses_benchmark/repex/{main_dir}/{sub_dir}/{r}/results.npy\", \"rb\") as f:\n",
    "        results = np.load(f, allow_pickle=True)\n",
    "        d_results[r] = results\n",
    "        complex_dg, complex_ddg, apo_dg, apo_ddg = [result[-1]*KT_KCALMOL for result in results]\n",
    "        print(f\"{r} complex: {complex_dg} ({complex_ddg}) kcal/mol\")\n",
    "        print(f\"{r} apo: {apo_dg} ({apo_ddg}) kcal/mol\")\n",
    "        binding_dg = complex_dg - apo_dg\n",
    "        binding_ddg = (apo_ddg**2 + complex_ddg**2)**0.5\n",
    "        print(f\"{r} DDG: {binding_dg} ({binding_ddg}) kcal/mol\")\n",
    "        print()\n",
    "\n"
   ]
  },
  {
   "cell_type": "code",
   "execution_count": null,
   "metadata": {},
   "outputs": [],
   "source": []
  },
  {
   "cell_type": "markdown",
   "metadata": {},
   "source": [
    "### 5 ns K417N/E484K -> K417N (repex/31/16/0)"
   ]
  },
  {
   "cell_type": "code",
   "execution_count": 5,
   "metadata": {},
   "outputs": [],
   "source": [
    "_logger = logging.getLogger()\n",
    "_logger.setLevel(logging.INFO)"
   ]
  },
  {
   "cell_type": "code",
   "execution_count": 6,
   "metadata": {},
   "outputs": [],
   "source": [
    "main_dir = 31\n",
    "sub_dir = 16"
   ]
  },
  {
   "cell_type": "code",
   "execution_count": 7,
   "metadata": {},
   "outputs": [
    {
     "data": {
      "application/vnd.jupyter.widget-view+json": {
       "model_id": "d18c863673f84c22b50ca10ad5d30498",
       "version_major": 2,
       "version_minor": 0
      },
      "text/plain": [
       "  0%|          | 0/1 [00:00<?, ?it/s]"
      ]
     },
     "metadata": {},
     "output_type": "display_data"
    },
    {
     "name": "stderr",
     "output_type": "stream",
     "text": [
      "Warning: The openmmtools.multistate API is experimental and may change in future releases\n",
      "Warning: The openmmtools.multistate API is experimental and may change in future releases\n"
     ]
    },
    {
     "name": "stdout",
     "output_type": "stream",
     "text": [
      "replicate 0\n",
      "analyzing complex\n",
      "n_iterations: 5000\n"
     ]
    },
    {
     "name": "stderr",
     "output_type": "stream",
     "text": [
      "Warning: The openmmtools.multistate API is experimental and may change in future releases\n",
      "Warning: The openmmtools.multistate API is experimental and may change in future releases\n"
     ]
    },
    {
     "name": "stdout",
     "output_type": "stream",
     "text": [
      "analyzing apo\n",
      "n_iterations: 5000\n"
     ]
    }
   ],
   "source": [
    "for r in tqdm_notebook([0]):\n",
    "    print (f\"replicate {r}\")\n",
    "    output_dir = f'/data/chodera/zhangi/perses_benchmark/repex/{main_dir}/{sub_dir}/{r}/'\n",
    "    \n",
    "    print(\"analyzing complex\")\n",
    "    complex_path = os.path.join(output_dir, f\"{r}_complex.nc\")\n",
    "    complex_dg, complex_ddg = analyze_dom(complex_path)\n",
    "    print(\"analyzing apo\")\n",
    "    apo_path = os.path.join(output_dir, f\"{r}_apo.nc\")\n",
    "    apo_dg, apo_ddg = analyze_dom(apo_path)\n",
    "\n",
    "    results = np.array([complex_dg, complex_ddg, apo_dg, apo_ddg])\n",
    "    with open(f'/data/chodera/zhangi/perses_benchmark/repex/{main_dir}/{sub_dir}/{r}/results.npy', 'wb') as f:\n",
    "        np.save(f, results)"
   ]
  },
  {
   "cell_type": "code",
   "execution_count": 8,
   "metadata": {},
   "outputs": [
    {
     "name": "stdout",
     "output_type": "stream",
     "text": [
      "0 complex: -225.9310034092168 (1.1484197704874264) kcal/mol\n",
      "0 apo: -227.32741481215442 (0.5704781507553002) kcal/mol\n",
      "0 DDG: 1.3964114029376162 (1.2823077983602766) kcal/mol\n",
      "\n"
     ]
    }
   ],
   "source": [
    "# Read the dicts in and compute free energies (kcal/mol)\n",
    "d_results = {}\n",
    "for r in [0]:\n",
    "    with open(f\"/data/chodera/zhangi/perses_benchmark/repex/{main_dir}/{sub_dir}/{r}/results.npy\", \"rb\") as f:\n",
    "        results = np.load(f, allow_pickle=True)\n",
    "        d_results[r] = results\n",
    "        complex_dg, complex_ddg, apo_dg, apo_ddg = [result[-1]*KT_KCALMOL for result in results]\n",
    "        print(f\"{r} complex: {complex_dg} ({complex_ddg}) kcal/mol\")\n",
    "        print(f\"{r} apo: {apo_dg} ({apo_ddg}) kcal/mol\")\n",
    "        binding_dg = complex_dg - apo_dg\n",
    "        binding_ddg = (apo_ddg**2 + complex_ddg**2)**0.5\n",
    "        print(f\"{r} DDG: {binding_dg} ({binding_ddg}) kcal/mol\")\n",
    "        print()\n",
    "\n"
   ]
  },
  {
   "cell_type": "markdown",
   "metadata": {},
   "source": [
    "### 5 ns E484K -> N501Y/E484K (repex/31/17/0)"
   ]
  },
  {
   "cell_type": "code",
   "execution_count": 29,
   "metadata": {},
   "outputs": [],
   "source": [
    "_logger = logging.getLogger()\n",
    "_logger.setLevel(logging.INFO)"
   ]
  },
  {
   "cell_type": "code",
   "execution_count": 46,
   "metadata": {},
   "outputs": [],
   "source": [
    "main_dir = 31\n",
    "sub_dir = 17"
   ]
  },
  {
   "cell_type": "code",
   "execution_count": 47,
   "metadata": {},
   "outputs": [
    {
     "data": {
      "application/vnd.jupyter.widget-view+json": {
       "model_id": "6ad23837cc4c43b48169f4e3730070bc",
       "version_major": 2,
       "version_minor": 0
      },
      "text/plain": [
       "  0%|          | 0/1 [00:00<?, ?it/s]"
      ]
     },
     "metadata": {},
     "output_type": "display_data"
    },
    {
     "name": "stderr",
     "output_type": "stream",
     "text": [
      "Warning: The openmmtools.multistate API is experimental and may change in future releases\n"
     ]
    },
    {
     "name": "stdout",
     "output_type": "stream",
     "text": [
      "replicate 0\n",
      "analyzing complex\n"
     ]
    },
    {
     "name": "stderr",
     "output_type": "stream",
     "text": [
      "Warning: The openmmtools.multistate API is experimental and may change in future releases\n"
     ]
    },
    {
     "name": "stdout",
     "output_type": "stream",
     "text": [
      "n_iterations: 5000\n"
     ]
    },
    {
     "name": "stderr",
     "output_type": "stream",
     "text": [
      "Warning: The openmmtools.multistate API is experimental and may change in future releases\n",
      "Warning: The openmmtools.multistate API is experimental and may change in future releases\n"
     ]
    },
    {
     "name": "stdout",
     "output_type": "stream",
     "text": [
      "analyzing apo\n",
      "n_iterations: 5000\n"
     ]
    }
   ],
   "source": [
    "for r in tqdm_notebook([0]):\n",
    "    print (f\"replicate {r}\")\n",
    "    output_dir = f'/data/chodera/zhangi/perses_benchmark/repex/{main_dir}/{sub_dir}/{r}/'\n",
    "    \n",
    "    print(\"analyzing complex\")\n",
    "    complex_path = os.path.join(output_dir, f\"{r}_complex.nc\")\n",
    "    complex_dg, complex_ddg = analyze_dom(complex_path)\n",
    "    print(\"analyzing apo\")\n",
    "    apo_path = os.path.join(output_dir, f\"{r}_apo.nc\")\n",
    "    apo_dg, apo_ddg = analyze_dom(apo_path)\n",
    "\n",
    "    results = np.array([complex_dg, complex_ddg, apo_dg, apo_ddg])\n",
    "    with open(f'/data/chodera/zhangi/perses_benchmark/repex/{main_dir}/{sub_dir}/{r}/results.npy', 'wb') as f:\n",
    "        np.save(f, results)"
   ]
  },
  {
   "cell_type": "code",
   "execution_count": 48,
   "metadata": {},
   "outputs": [
    {
     "name": "stdout",
     "output_type": "stream",
     "text": [
      "0 complex: 70.82640385404905 (0.5933352750352326) kcal/mol\n",
      "0 apo: 66.56474738081432 (0.3799065078843004) kcal/mol\n",
      "0 DDG: 4.261656473234723 (0.7045393554188291) kcal/mol\n",
      "\n"
     ]
    }
   ],
   "source": [
    "# Read the dicts in and compute free energies (kcal/mol)\n",
    "d_results = {}\n",
    "for r in [0]:\n",
    "    with open(f\"/data/chodera/zhangi/perses_benchmark/repex/{main_dir}/{sub_dir}/{r}/results.npy\", \"rb\") as f:\n",
    "        results = np.load(f, allow_pickle=True)\n",
    "        d_results[r] = results\n",
    "        complex_dg, complex_ddg, apo_dg, apo_ddg = [result[-1]*KT_KCALMOL for result in results]\n",
    "        print(f\"{r} complex: {complex_dg} ({complex_ddg}) kcal/mol\")\n",
    "        print(f\"{r} apo: {apo_dg} ({apo_ddg}) kcal/mol\")\n",
    "        binding_dg = complex_dg - apo_dg\n",
    "        binding_ddg = (apo_ddg**2 + complex_ddg**2)**0.5\n",
    "        print(f\"{r} DDG: {binding_dg} ({binding_ddg}) kcal/mol\")\n",
    "        print()\n",
    "\n"
   ]
  },
  {
   "cell_type": "markdown",
   "metadata": {},
   "source": [
    "### 5 ns N501Y/E484K -> E484K (repex/31/18/0)"
   ]
  },
  {
   "cell_type": "code",
   "execution_count": 49,
   "metadata": {},
   "outputs": [],
   "source": [
    "_logger = logging.getLogger()\n",
    "_logger.setLevel(logging.INFO)"
   ]
  },
  {
   "cell_type": "code",
   "execution_count": 50,
   "metadata": {},
   "outputs": [],
   "source": [
    "main_dir = 31\n",
    "sub_dir = 18"
   ]
  },
  {
   "cell_type": "code",
   "execution_count": 51,
   "metadata": {},
   "outputs": [
    {
     "data": {
      "application/vnd.jupyter.widget-view+json": {
       "model_id": "1ee988f07fdc494d895955ad4cb9282f",
       "version_major": 2,
       "version_minor": 0
      },
      "text/plain": [
       "  0%|          | 0/1 [00:00<?, ?it/s]"
      ]
     },
     "metadata": {},
     "output_type": "display_data"
    },
    {
     "name": "stderr",
     "output_type": "stream",
     "text": [
      "Warning: The openmmtools.multistate API is experimental and may change in future releases\n"
     ]
    },
    {
     "name": "stdout",
     "output_type": "stream",
     "text": [
      "replicate 0\n",
      "analyzing complex\n"
     ]
    },
    {
     "name": "stderr",
     "output_type": "stream",
     "text": [
      "Warning: The openmmtools.multistate API is experimental and may change in future releases\n"
     ]
    },
    {
     "name": "stdout",
     "output_type": "stream",
     "text": [
      "n_iterations: 5000\n"
     ]
    },
    {
     "name": "stderr",
     "output_type": "stream",
     "text": [
      "Warning: The openmmtools.multistate API is experimental and may change in future releases\n",
      "Warning: The openmmtools.multistate API is experimental and may change in future releases\n"
     ]
    },
    {
     "name": "stdout",
     "output_type": "stream",
     "text": [
      "analyzing apo\n",
      "n_iterations: 5000\n"
     ]
    }
   ],
   "source": [
    "for r in tqdm_notebook([0]):\n",
    "    print (f\"replicate {r}\")\n",
    "    output_dir = f'/data/chodera/zhangi/perses_benchmark/repex/{main_dir}/{sub_dir}/{r}/'\n",
    "    \n",
    "    print(\"analyzing complex\")\n",
    "    complex_path = os.path.join(output_dir, f\"{r}_complex.nc\")\n",
    "    complex_dg, complex_ddg = analyze_dom(complex_path)\n",
    "    print(\"analyzing apo\")\n",
    "    apo_path = os.path.join(output_dir, f\"{r}_apo.nc\")\n",
    "    apo_dg, apo_ddg = analyze_dom(apo_path)\n",
    "\n",
    "    results = np.array([complex_dg, complex_ddg, apo_dg, apo_ddg])\n",
    "    with open(f'/data/chodera/zhangi/perses_benchmark/repex/{main_dir}/{sub_dir}/{r}/results.npy', 'wb') as f:\n",
    "        np.save(f, results)"
   ]
  },
  {
   "cell_type": "code",
   "execution_count": 52,
   "metadata": {},
   "outputs": [
    {
     "name": "stdout",
     "output_type": "stream",
     "text": [
      "0 complex: -65.0266126337625 (0.6806472813233365) kcal/mol\n",
      "0 apo: -65.97777758460128 (0.28919055388856285) kcal/mol\n",
      "0 DDG: 0.9511649508387876 (0.7395349200891213) kcal/mol\n",
      "\n"
     ]
    }
   ],
   "source": [
    "# Read the dicts in and compute free energies (kcal/mol)\n",
    "d_results = {}\n",
    "for r in [0]:\n",
    "    with open(f\"/data/chodera/zhangi/perses_benchmark/repex/{main_dir}/{sub_dir}/{r}/results.npy\", \"rb\") as f:\n",
    "        results = np.load(f, allow_pickle=True)\n",
    "        d_results[r] = results\n",
    "        complex_dg, complex_ddg, apo_dg, apo_ddg = [result[-1]*KT_KCALMOL for result in results]\n",
    "        print(f\"{r} complex: {complex_dg} ({complex_ddg}) kcal/mol\")\n",
    "        print(f\"{r} apo: {apo_dg} ({apo_ddg}) kcal/mol\")\n",
    "        binding_dg = complex_dg - apo_dg\n",
    "        binding_ddg = (apo_ddg**2 + complex_ddg**2)**0.5\n",
    "        print(f\"{r} DDG: {binding_dg} ({binding_ddg}) kcal/mol\")\n",
    "        print()\n",
    "\n"
   ]
  },
  {
   "cell_type": "markdown",
   "metadata": {},
   "source": [
    "### 5 ns E484K -> K417N/E484K (repex/31/19/0)"
   ]
  },
  {
   "cell_type": "code",
   "execution_count": 53,
   "metadata": {},
   "outputs": [],
   "source": [
    "_logger = logging.getLogger()\n",
    "_logger.setLevel(logging.INFO)"
   ]
  },
  {
   "cell_type": "code",
   "execution_count": 54,
   "metadata": {},
   "outputs": [],
   "source": [
    "main_dir = 31\n",
    "sub_dir = 19"
   ]
  },
  {
   "cell_type": "code",
   "execution_count": 55,
   "metadata": {},
   "outputs": [
    {
     "data": {
      "application/vnd.jupyter.widget-view+json": {
       "model_id": "4d8fefdcaba848a3b13ea92d386dfc82",
       "version_major": 2,
       "version_minor": 0
      },
      "text/plain": [
       "  0%|          | 0/1 [00:00<?, ?it/s]"
      ]
     },
     "metadata": {},
     "output_type": "display_data"
    },
    {
     "name": "stderr",
     "output_type": "stream",
     "text": [
      "Warning: The openmmtools.multistate API is experimental and may change in future releases\n",
      "Warning: The openmmtools.multistate API is experimental and may change in future releases\n"
     ]
    },
    {
     "name": "stdout",
     "output_type": "stream",
     "text": [
      "replicate 0\n",
      "analyzing complex\n",
      "n_iterations: 5000\n"
     ]
    },
    {
     "name": "stderr",
     "output_type": "stream",
     "text": [
      "Warning: The openmmtools.multistate API is experimental and may change in future releases\n",
      "Warning: The openmmtools.multistate API is experimental and may change in future releases\n"
     ]
    },
    {
     "name": "stdout",
     "output_type": "stream",
     "text": [
      "analyzing apo\n",
      "n_iterations: 5000\n"
     ]
    }
   ],
   "source": [
    "for r in tqdm_notebook([0]):\n",
    "    print (f\"replicate {r}\")\n",
    "    output_dir = f'/data/chodera/zhangi/perses_benchmark/repex/{main_dir}/{sub_dir}/{r}/'\n",
    "    \n",
    "    print(\"analyzing complex\")\n",
    "    complex_path = os.path.join(output_dir, f\"{r}_complex.nc\")\n",
    "    complex_dg, complex_ddg = analyze_dom(complex_path)\n",
    "    print(\"analyzing apo\")\n",
    "    apo_path = os.path.join(output_dir, f\"{r}_apo.nc\")\n",
    "    apo_dg, apo_ddg = analyze_dom(apo_path)\n",
    "\n",
    "    results = np.array([complex_dg, complex_ddg, apo_dg, apo_ddg])\n",
    "    with open(f'/data/chodera/zhangi/perses_benchmark/repex/{main_dir}/{sub_dir}/{r}/results.npy', 'wb') as f:\n",
    "        np.save(f, results)"
   ]
  },
  {
   "cell_type": "code",
   "execution_count": 56,
   "metadata": {},
   "outputs": [
    {
     "name": "stdout",
     "output_type": "stream",
     "text": [
      "0 complex: -149.18546268044602 (0.6629632181294111) kcal/mol\n",
      "0 apo: -148.7366553597091 (0.3542413845958802) kcal/mol\n",
      "0 DDG: -0.4488073207369325 (0.7516695997264432) kcal/mol\n",
      "\n"
     ]
    }
   ],
   "source": [
    "# Read the dicts in and compute free energies (kcal/mol)\n",
    "d_results = {}\n",
    "for r in [0]:\n",
    "    with open(f\"/data/chodera/zhangi/perses_benchmark/repex/{main_dir}/{sub_dir}/{r}/results.npy\", \"rb\") as f:\n",
    "        results = np.load(f, allow_pickle=True)\n",
    "        d_results[r] = results\n",
    "        complex_dg, complex_ddg, apo_dg, apo_ddg = [result[-1]*KT_KCALMOL for result in results]\n",
    "        print(f\"{r} complex: {complex_dg} ({complex_ddg}) kcal/mol\")\n",
    "        print(f\"{r} apo: {apo_dg} ({apo_ddg}) kcal/mol\")\n",
    "        binding_dg = complex_dg - apo_dg\n",
    "        binding_ddg = (apo_ddg**2 + complex_ddg**2)**0.5\n",
    "        print(f\"{r} DDG: {binding_dg} ({binding_ddg}) kcal/mol\")\n",
    "        print()\n",
    "\n"
   ]
  },
  {
   "cell_type": "markdown",
   "metadata": {},
   "source": [
    "### 5 ns K417N/E484K -> E484K (repex/31/20/0)"
   ]
  },
  {
   "cell_type": "code",
   "execution_count": 57,
   "metadata": {},
   "outputs": [],
   "source": [
    "_logger = logging.getLogger()\n",
    "_logger.setLevel(logging.INFO)"
   ]
  },
  {
   "cell_type": "code",
   "execution_count": 58,
   "metadata": {},
   "outputs": [],
   "source": [
    "main_dir = 31\n",
    "sub_dir = 20"
   ]
  },
  {
   "cell_type": "code",
   "execution_count": 59,
   "metadata": {},
   "outputs": [
    {
     "data": {
      "application/vnd.jupyter.widget-view+json": {
       "model_id": "9f8ebe47bede4383b397b2bc468fc770",
       "version_major": 2,
       "version_minor": 0
      },
      "text/plain": [
       "  0%|          | 0/1 [00:00<?, ?it/s]"
      ]
     },
     "metadata": {},
     "output_type": "display_data"
    },
    {
     "name": "stderr",
     "output_type": "stream",
     "text": [
      "Warning: The openmmtools.multistate API is experimental and may change in future releases\n"
     ]
    },
    {
     "name": "stdout",
     "output_type": "stream",
     "text": [
      "replicate 0\n",
      "analyzing complex\n",
      "n_iterations: 5000"
     ]
    },
    {
     "name": "stderr",
     "output_type": "stream",
     "text": [
      "Warning: The openmmtools.multistate API is experimental and may change in future releases\n"
     ]
    },
    {
     "name": "stdout",
     "output_type": "stream",
     "text": [
      "\n"
     ]
    },
    {
     "name": "stderr",
     "output_type": "stream",
     "text": [
      "Warning: The openmmtools.multistate API is experimental and may change in future releases\n",
      "Warning: The openmmtools.multistate API is experimental and may change in future releases\n"
     ]
    },
    {
     "name": "stdout",
     "output_type": "stream",
     "text": [
      "analyzing apo\n",
      "n_iterations: 5000\n"
     ]
    }
   ],
   "source": [
    "for r in tqdm_notebook([0]):\n",
    "    print (f\"replicate {r}\")\n",
    "    output_dir = f'/data/chodera/zhangi/perses_benchmark/repex/{main_dir}/{sub_dir}/{r}/'\n",
    "    \n",
    "    print(\"analyzing complex\")\n",
    "    complex_path = os.path.join(output_dir, f\"{r}_complex.nc\")\n",
    "    complex_dg, complex_ddg = analyze_dom(complex_path)\n",
    "    print(\"analyzing apo\")\n",
    "    apo_path = os.path.join(output_dir, f\"{r}_apo.nc\")\n",
    "    apo_dg, apo_ddg = analyze_dom(apo_path)\n",
    "\n",
    "    results = np.array([complex_dg, complex_ddg, apo_dg, apo_ddg])\n",
    "    with open(f'/data/chodera/zhangi/perses_benchmark/repex/{main_dir}/{sub_dir}/{r}/results.npy', 'wb') as f:\n",
    "        np.save(f, results)"
   ]
  },
  {
   "cell_type": "code",
   "execution_count": 60,
   "metadata": {},
   "outputs": [
    {
     "name": "stdout",
     "output_type": "stream",
     "text": [
      "0 complex: -18.487573013482606 (0.6529008091829787) kcal/mol\n",
      "0 apo: -16.762720669768846 (0.3180490521764371) kcal/mol\n",
      "0 DDG: -1.72485234371376 (0.7262469732963562) kcal/mol\n",
      "\n"
     ]
    }
   ],
   "source": [
    "# Read the dicts in and compute free energies (kcal/mol)\n",
    "d_results = {}\n",
    "for r in [0]:\n",
    "    with open(f\"/data/chodera/zhangi/perses_benchmark/repex/{main_dir}/{sub_dir}/{r}/results.npy\", \"rb\") as f:\n",
    "        results = np.load(f, allow_pickle=True)\n",
    "        d_results[r] = results\n",
    "        complex_dg, complex_ddg, apo_dg, apo_ddg = [result[-1]*KT_KCALMOL for result in results]\n",
    "        print(f\"{r} complex: {complex_dg} ({complex_ddg}) kcal/mol\")\n",
    "        print(f\"{r} apo: {apo_dg} ({apo_ddg}) kcal/mol\")\n",
    "        binding_dg = complex_dg - apo_dg\n",
    "        binding_ddg = (apo_ddg**2 + complex_ddg**2)**0.5\n",
    "        print(f\"{r} DDG: {binding_dg} ({binding_ddg}) kcal/mol\")\n",
    "        print()\n",
    "\n"
   ]
  },
  {
   "cell_type": "code",
   "execution_count": null,
   "metadata": {},
   "outputs": [],
   "source": []
  }
 ],
 "metadata": {
  "kernelspec": {
   "display_name": "Python 3",
   "language": "python",
   "name": "python3"
  },
  "language_info": {
   "codemirror_mode": {
    "name": "ipython",
    "version": 3
   },
   "file_extension": ".py",
   "mimetype": "text/x-python",
   "name": "python",
   "nbconvert_exporter": "python",
   "pygments_lexer": "ipython3",
   "version": "3.8.6"
  }
 },
 "nbformat": 4,
 "nbformat_minor": 4
}
