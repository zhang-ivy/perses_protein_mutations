{
 "cells": [
  {
   "cell_type": "code",
   "execution_count": 3,
   "id": "productive-strategy",
   "metadata": {},
   "outputs": [],
   "source": [
    "from simtk import unit, openmm\n",
    "\n",
    "# # Load test system\n",
    "# from simtk.openmm import XmlSerializer\n",
    "# with open('debug_repex/16_apo_0_hybrid_system.xml', 'r') as infile:\n",
    "#     alchemical_system = XmlSerializer.deserialize(infile.read())\n",
    "    \n",
    "# Read initial coordinates\n",
    "#from simtk.openmm.app import PDBFile\n",
    "#pdbfile = PDBFile('initial.pdb')\n",
    "#positions = pdbfile.positions\n",
    "\n",
    "import pickle\n",
    "# with open('debug_repex/16_apo_0_hybrid_positions.pickle', 'rb') as infile:\n",
    "#     positions = pickle.load(infile)\n",
    "\n",
    "\n",
    "import argparse\n",
    "import os\n",
    "# Read args\n",
    "outdir = \"/data/chodera/zhangi/perses_benchmark/repex/31/0/0/\"\n",
    "phase = 'apo'"
   ]
  },
  {
   "cell_type": "code",
   "execution_count": 6,
   "id": "exterior-director",
   "metadata": {},
   "outputs": [],
   "source": [
    "# Read in htf\n",
    "i = os.path.basename(os.path.dirname(outdir))\n",
    "with open(os.path.join(outdir, f\"{i}_{phase}.pickle\"), 'rb') as f:\n",
    "    htf = pickle.load(f)\n",
    "\n"
   ]
  },
  {
   "cell_type": "code",
   "execution_count": 8,
   "id": "formal-freight",
   "metadata": {},
   "outputs": [],
   "source": [
    "alchemical_system = htf.hybrid_system\n",
    "positions = htf.hybrid_positions\n"
   ]
  },
  {
   "cell_type": "code",
   "execution_count": 12,
   "id": "comfortable-reader",
   "metadata": {},
   "outputs": [],
   "source": [
    "from perses.dispersed import feptasks"
   ]
  },
  {
   "cell_type": "code",
   "execution_count": 18,
   "id": "overall-playback",
   "metadata": {},
   "outputs": [],
   "source": [
    "# Initialize compound thermodynamic states at different temperatures and alchemical states.\n",
    "from openmmtools import alchemy, states\n",
    "import numpy as np\n",
    "n_replicas = 11\n",
    "MAX_LAMBDA = 0.01\n",
    "protocol = {\n",
    "    'temperature': np.linspace(300, 300, n_replicas) * unit.kelvin,\n",
    "    'lambda_torsions': np.linspace(0.0, MAX_LAMBDA, n_replicas),\n",
    "    'lambda_angles': np.linspace(0.0, MAX_LAMBDA, n_replicas),\n",
    "    'lambda_bonds': np.linspace(0.0, MAX_LAMBDA, n_replicas),\n",
    "    'lambda_electrostatics_core': np.linspace(0.0, MAX_LAMBDA, n_replicas),\n",
    "    'lambda_sterics_core': np.linspace(0.0, MAX_LAMBDA, n_replicas),\n",
    "    'lambda_sterics_insert': np.linspace(0.0, MAX_LAMBDA, n_replicas),\n",
    "    'lambda_sterics_delete': np.linspace(0.0, MAX_LAMBDA, n_replicas),\n",
    "    'lambda_electrostatics_insert': np.linspace(0.0, MAX_LAMBDA, n_replicas),\n",
    "    'lambda_electrostatics_delete': np.linspace(0.0, MAX_LAMBDA, n_replicas),\n",
    "}\n",
    "# Make sure AlchemicalState knows about some alchemical parameters\n",
    "for name in ['lambda_sterics_core', 'lambda_electrostatics_core', 'lambda_sterics_delete', 'lambda_sterics_insert', 'lambda_electrostatics_delete', 'lambda_electrostatics_insert']:\n",
    "    # Add the parameter\n",
    "    setattr(alchemy.AlchemicalState, name, alchemy.AlchemicalState._LambdaParameter(name))\n",
    "alchemical_state = alchemy.AlchemicalState.from_system(alchemical_system)\n",
    "thermodynamic_states = states.create_thermodynamic_state_protocol(alchemical_system, protocol=protocol, composable_states=[alchemical_state])\n",
    "\n",
    "# Initialize replica initial configurations.\n",
    "sampler_states = [states.SamplerState(positions=positions, box_vectors=alchemical_system.getDefaultPeriodicBoxVectors()) for _ in thermodynamic_states]\n",
    "\n",
    "for sampler_state, thermostate in zip(sampler_states, thermodynamic_states):\n",
    "    feptasks.minimize(thermostate, sampler_state)"
   ]
  },
  {
   "cell_type": "code",
   "execution_count": 20,
   "id": "under-interface",
   "metadata": {},
   "outputs": [
    {
     "data": {
      "text/plain": [
       "Quantity(value=-908721.4956418681, unit=kilojoule/mole)"
      ]
     },
     "execution_count": 20,
     "metadata": {},
     "output_type": "execute_result"
    }
   ],
   "source": [
    "sampler_state.potential_energy"
   ]
  },
  {
   "cell_type": "code",
   "execution_count": 21,
   "id": "automated-radar",
   "metadata": {},
   "outputs": [
    {
     "name": "stderr",
     "output_type": "stream",
     "text": [
      "WARNING:openmmtools.multistate.multistatesampler:Warning: The openmmtools.multistate API is experimental and may change in future releases\n",
      "WARNING:openmmtools.multistate.multistatereporter:Warning: The openmmtools.multistate API is experimental and may change in future releases\n"
     ]
    },
    {
     "name": "stdout",
     "output_type": "stream",
     "text": [
      "Please cite the following:\n",
      "\n",
      "        Friedrichs MS, Eastman P, Vaidyanathan V, Houston M, LeGrand S, Beberg AL, Ensign DL, Bruns CM, and Pande VS. Accelerating molecular dynamic simulations on graphics processing unit. J. Comput. Chem. 30:864, 2009. DOI: 10.1002/jcc.21209\n",
      "        Eastman P and Pande VS. OpenMM: A hardware-independent framework for molecular simulations. Comput. Sci. Eng. 12:34, 2010. DOI: 10.1109/MCSE.2010.27\n",
      "        Eastman P and Pande VS. Efficient nonbonded interactions for molecular dynamics on a graphics processing unit. J. Comput. Chem. 31:1268, 2010. DOI: 10.1002/jcc.21413\n",
      "        Eastman P and Pande VS. Constant constraint matrix approximation: A robust, parallelizable constraint method for molecular simulations. J. Chem. Theor. Comput. 6:434, 2010. DOI: 10.1021/ct900463w\n",
      "        Chodera JD and Shirts MR. Replica exchange and expanded ensemble simulations as Gibbs multistate: Simple improvements for enhanced mixing. J. Chem. Phys., 135:194110, 2011. DOI:10.1063/1.3660669\n",
      "        \n"
     ]
    },
    {
     "name": "stderr",
     "output_type": "stream",
     "text": [
      "WARNING:openmmtools.mcmc:Potential energy is NaN after 0 attempts of integration with move LangevinSplittingDynamicsMove Attempting a restart...\n",
      "WARNING:openmmtools.mcmc:Potential energy is NaN after 1 attempts of integration with move LangevinSplittingDynamicsMove Attempting a restart...\n",
      "WARNING:openmmtools.mcmc:Potential energy is NaN after 2 attempts of integration with move LangevinSplittingDynamicsMove Attempting a restart...\n",
      "ERROR:openmmtools.mcmc:Potential energy is NaN after 3 attempts of integration with move LangevinSplittingDynamicsMove Trying to reinitialize Context as a last-resort restart attempt...\n",
      "ERROR:openmmtools.mcmc:Potential energy is NaN after 4 attempts of integration with move LangevinSplittingDynamicsMove\n",
      "CRITICAL:openmmtools.multistate.multistatesampler:Propagating replica 0 at state 5 resulted in a NaN!\n",
      "The state of the system and integrator before the error were saved in nan-error-logs\n"
     ]
    },
    {
     "ename": "SimulationNaNError",
     "evalue": "Propagating replica 0 at state 5 resulted in a NaN!\nThe state of the system and integrator before the error were saved in nan-error-logs",
     "output_type": "error",
     "traceback": [
      "\u001b[0;31m-------------------------------------------------------\u001b[0m",
      "\u001b[0;31mIntegratorMoveError\u001b[0m   Traceback (most recent call last)",
      "\u001b[0;32m~/miniconda3/envs/perses-rbd-ace2/lib/python3.8/site-packages/openmmtools/multistate/multistatesampler.py\u001b[0m in \u001b[0;36m_propagate_replica\u001b[0;34m(self, replica_id)\u001b[0m\n\u001b[1;32m   1222\u001b[0m         \u001b[0;32mtry\u001b[0m\u001b[0;34m:\u001b[0m\u001b[0;34m\u001b[0m\u001b[0;34m\u001b[0m\u001b[0m\n\u001b[0;32m-> 1223\u001b[0;31m             \u001b[0mmcmc_move\u001b[0m\u001b[0;34m.\u001b[0m\u001b[0mapply\u001b[0m\u001b[0;34m(\u001b[0m\u001b[0mthermodynamic_state\u001b[0m\u001b[0;34m,\u001b[0m \u001b[0msampler_state\u001b[0m\u001b[0;34m)\u001b[0m\u001b[0;34m\u001b[0m\u001b[0;34m\u001b[0m\u001b[0m\n\u001b[0m\u001b[1;32m   1224\u001b[0m         \u001b[0;32mexcept\u001b[0m \u001b[0mmcmc\u001b[0m\u001b[0;34m.\u001b[0m\u001b[0mIntegratorMoveError\u001b[0m \u001b[0;32mas\u001b[0m \u001b[0me\u001b[0m\u001b[0;34m:\u001b[0m\u001b[0;34m\u001b[0m\u001b[0;34m\u001b[0m\u001b[0m\n",
      "\u001b[0;32m~/miniconda3/envs/perses-rbd-ace2/lib/python3.8/site-packages/openmmtools/mcmc.py\u001b[0m in \u001b[0;36mapply\u001b[0;34m(self, thermodynamic_state, sampler_state)\u001b[0m\n\u001b[1;32m   1113\u001b[0m         \u001b[0;31m# Explicitly implemented just to have more specific docstring.\u001b[0m\u001b[0;34m\u001b[0m\u001b[0;34m\u001b[0m\u001b[0;34m\u001b[0m\u001b[0m\n\u001b[0;32m-> 1114\u001b[0;31m         \u001b[0msuper\u001b[0m\u001b[0;34m(\u001b[0m\u001b[0mLangevinDynamicsMove\u001b[0m\u001b[0;34m,\u001b[0m \u001b[0mself\u001b[0m\u001b[0;34m)\u001b[0m\u001b[0;34m.\u001b[0m\u001b[0mapply\u001b[0m\u001b[0;34m(\u001b[0m\u001b[0mthermodynamic_state\u001b[0m\u001b[0;34m,\u001b[0m \u001b[0msampler_state\u001b[0m\u001b[0;34m)\u001b[0m\u001b[0;34m\u001b[0m\u001b[0;34m\u001b[0m\u001b[0m\n\u001b[0m\u001b[1;32m   1115\u001b[0m \u001b[0;34m\u001b[0m\u001b[0m\n",
      "\u001b[0;32m~/miniconda3/envs/perses-rbd-ace2/lib/python3.8/site-packages/openmmtools/mcmc.py\u001b[0m in \u001b[0;36mapply\u001b[0;34m(self, thermodynamic_state, sampler_state)\u001b[0m\n\u001b[1;32m    706\u001b[0m                     \u001b[0mlogger\u001b[0m\u001b[0;34m.\u001b[0m\u001b[0merror\u001b[0m\u001b[0;34m(\u001b[0m\u001b[0merr_msg\u001b[0m\u001b[0;34m)\u001b[0m\u001b[0;34m\u001b[0m\u001b[0;34m\u001b[0m\u001b[0m\n\u001b[0;32m--> 707\u001b[0;31m                     \u001b[0;32mraise\u001b[0m \u001b[0mIntegratorMoveError\u001b[0m\u001b[0;34m(\u001b[0m\u001b[0merr_msg\u001b[0m\u001b[0;34m,\u001b[0m \u001b[0mself\u001b[0m\u001b[0;34m,\u001b[0m \u001b[0mcontext\u001b[0m\u001b[0;34m)\u001b[0m\u001b[0;34m\u001b[0m\u001b[0;34m\u001b[0m\u001b[0m\n\u001b[0m\u001b[1;32m    708\u001b[0m                 \u001b[0;32melse\u001b[0m\u001b[0;34m:\u001b[0m\u001b[0;34m\u001b[0m\u001b[0;34m\u001b[0m\u001b[0m\n",
      "\u001b[0;31mIntegratorMoveError\u001b[0m: Potential energy is NaN after 4 attempts of integration with move LangevinSplittingDynamicsMove",
      "\nDuring handling of the above exception, another exception occurred:\n",
      "\u001b[0;31mSimulationNaNError\u001b[0m    Traceback (most recent call last)",
      "\u001b[0;32m<ipython-input-21-51e212484880>\u001b[0m in \u001b[0;36m<module>\u001b[0;34m\u001b[0m\n\u001b[1;32m     17\u001b[0m \u001b[0mreporter\u001b[0m \u001b[0;34m=\u001b[0m \u001b[0mmultistate\u001b[0m\u001b[0;34m.\u001b[0m\u001b[0mMultiStateReporter\u001b[0m\u001b[0;34m(\u001b[0m\u001b[0mstorage_path\u001b[0m\u001b[0;34m,\u001b[0m \u001b[0mcheckpoint_interval\u001b[0m\u001b[0;34m=\u001b[0m\u001b[0mn_iterations\u001b[0m\u001b[0;34m)\u001b[0m\u001b[0;34m\u001b[0m\u001b[0;34m\u001b[0m\u001b[0m\n\u001b[1;32m     18\u001b[0m \u001b[0mparallel_tempering\u001b[0m\u001b[0;34m.\u001b[0m\u001b[0mcreate\u001b[0m\u001b[0;34m(\u001b[0m\u001b[0mthermodynamic_states\u001b[0m\u001b[0;34m=\u001b[0m\u001b[0mthermodynamic_states\u001b[0m\u001b[0;34m,\u001b[0m \u001b[0msampler_states\u001b[0m\u001b[0;34m=\u001b[0m\u001b[0msampler_states\u001b[0m\u001b[0;34m,\u001b[0m \u001b[0mstorage\u001b[0m\u001b[0;34m=\u001b[0m\u001b[0mreporter\u001b[0m\u001b[0;34m)\u001b[0m\u001b[0;34m\u001b[0m\u001b[0;34m\u001b[0m\u001b[0m\n\u001b[0;32m---> 19\u001b[0;31m \u001b[0mparallel_tempering\u001b[0m\u001b[0;34m.\u001b[0m\u001b[0mrun\u001b[0m\u001b[0;34m(\u001b[0m\u001b[0mn_iterations\u001b[0m\u001b[0;34m=\u001b[0m\u001b[0mn_iterations\u001b[0m\u001b[0;34m)\u001b[0m\u001b[0;34m\u001b[0m\u001b[0;34m\u001b[0m\u001b[0m\n\u001b[0m",
      "\u001b[0;32m~/miniconda3/envs/perses-rbd-ace2/lib/python3.8/site-packages/openmmtools/multistate/multistatesampler.py\u001b[0m in \u001b[0;36mrun\u001b[0;34m(self, n_iterations)\u001b[0m\n\u001b[1;32m    679\u001b[0m \u001b[0;34m\u001b[0m\u001b[0m\n\u001b[1;32m    680\u001b[0m             \u001b[0;31m# Propagate replicas.\u001b[0m\u001b[0;34m\u001b[0m\u001b[0;34m\u001b[0m\u001b[0;34m\u001b[0m\u001b[0m\n\u001b[0;32m--> 681\u001b[0;31m             \u001b[0mself\u001b[0m\u001b[0;34m.\u001b[0m\u001b[0m_propagate_replicas\u001b[0m\u001b[0;34m(\u001b[0m\u001b[0;34m)\u001b[0m\u001b[0;34m\u001b[0m\u001b[0;34m\u001b[0m\u001b[0m\n\u001b[0m\u001b[1;32m    682\u001b[0m \u001b[0;34m\u001b[0m\u001b[0m\n\u001b[1;32m    683\u001b[0m             \u001b[0;31m# Compute energies of all replicas at all states\u001b[0m\u001b[0;34m\u001b[0m\u001b[0;34m\u001b[0m\u001b[0;34m\u001b[0m\u001b[0m\n",
      "\u001b[0;32m~/miniconda3/envs/perses-rbd-ace2/lib/python3.8/site-packages/openmmtools/utils.py\u001b[0m in \u001b[0;36m_wrapper\u001b[0;34m(*args, **kwargs)\u001b[0m\n\u001b[1;32m     85\u001b[0m         \u001b[0;32mdef\u001b[0m \u001b[0m_wrapper\u001b[0m\u001b[0;34m(\u001b[0m\u001b[0;34m*\u001b[0m\u001b[0margs\u001b[0m\u001b[0;34m,\u001b[0m \u001b[0;34m**\u001b[0m\u001b[0mkwargs\u001b[0m\u001b[0;34m)\u001b[0m\u001b[0;34m:\u001b[0m\u001b[0;34m\u001b[0m\u001b[0;34m\u001b[0m\u001b[0m\n\u001b[1;32m     86\u001b[0m             \u001b[0;32mwith\u001b[0m \u001b[0mtime_it\u001b[0m\u001b[0;34m(\u001b[0m\u001b[0mtask_name\u001b[0m\u001b[0;34m)\u001b[0m\u001b[0;34m:\u001b[0m\u001b[0;34m\u001b[0m\u001b[0;34m\u001b[0m\u001b[0m\n\u001b[0;32m---> 87\u001b[0;31m                 \u001b[0;32mreturn\u001b[0m \u001b[0mfunc\u001b[0m\u001b[0;34m(\u001b[0m\u001b[0;34m*\u001b[0m\u001b[0margs\u001b[0m\u001b[0;34m,\u001b[0m \u001b[0;34m**\u001b[0m\u001b[0mkwargs\u001b[0m\u001b[0;34m)\u001b[0m\u001b[0;34m\u001b[0m\u001b[0;34m\u001b[0m\u001b[0m\n\u001b[0m\u001b[1;32m     88\u001b[0m         \u001b[0;32mreturn\u001b[0m \u001b[0m_wrapper\u001b[0m\u001b[0;34m\u001b[0m\u001b[0;34m\u001b[0m\u001b[0m\n\u001b[1;32m     89\u001b[0m     \u001b[0;32mreturn\u001b[0m \u001b[0m_with_timer\u001b[0m\u001b[0;34m\u001b[0m\u001b[0;34m\u001b[0m\u001b[0m\n",
      "\u001b[0;32m~/miniconda3/envs/perses-rbd-ace2/lib/python3.8/site-packages/openmmtools/multistate/multistatesampler.py\u001b[0m in \u001b[0;36m_propagate_replicas\u001b[0;34m(self)\u001b[0m\n\u001b[1;32m   1194\u001b[0m         \u001b[0;31m# and box vectors. The other nodes, only need the positions that they use\u001b[0m\u001b[0;34m\u001b[0m\u001b[0;34m\u001b[0m\u001b[0;34m\u001b[0m\u001b[0m\n\u001b[1;32m   1195\u001b[0m         \u001b[0;31m# for propagation and computation of the energy matrix entries.\u001b[0m\u001b[0;34m\u001b[0m\u001b[0;34m\u001b[0m\u001b[0;34m\u001b[0m\u001b[0m\n\u001b[0;32m-> 1196\u001b[0;31m         propagated_states, replica_ids = mpiplus.distribute(self._propagate_replica, range(self.n_replicas),\n\u001b[0m\u001b[1;32m   1197\u001b[0m                                                         send_results_to=0)\n\u001b[1;32m   1198\u001b[0m \u001b[0;34m\u001b[0m\u001b[0m\n",
      "\u001b[0;32m~/miniconda3/envs/perses-rbd-ace2/lib/python3.8/site-packages/mpiplus/mpiplus.py\u001b[0m in \u001b[0;36mdistribute\u001b[0;34m(task, distributed_args, send_results_to, propagate_exceptions_to, sync_nodes, group_size, *other_args, **kwargs)\u001b[0m\n\u001b[1;32m    510\u001b[0m     \u001b[0;32mif\u001b[0m \u001b[0mget_mpicomm\u001b[0m\u001b[0;34m(\u001b[0m\u001b[0;34m)\u001b[0m \u001b[0;32mis\u001b[0m \u001b[0;32mNone\u001b[0m\u001b[0;34m:\u001b[0m\u001b[0;34m\u001b[0m\u001b[0;34m\u001b[0m\u001b[0m\n\u001b[1;32m    511\u001b[0m         \u001b[0mlogger\u001b[0m\u001b[0;34m.\u001b[0m\u001b[0mdebug\u001b[0m\u001b[0;34m(\u001b[0m\u001b[0;34m'Running {} serially.'\u001b[0m\u001b[0;34m.\u001b[0m\u001b[0mformat\u001b[0m\u001b[0;34m(\u001b[0m\u001b[0mtask\u001b[0m\u001b[0;34m.\u001b[0m\u001b[0m__name__\u001b[0m\u001b[0;34m)\u001b[0m\u001b[0;34m)\u001b[0m\u001b[0;34m\u001b[0m\u001b[0;34m\u001b[0m\u001b[0m\n\u001b[0;32m--> 512\u001b[0;31m         \u001b[0mall_results\u001b[0m \u001b[0;34m=\u001b[0m \u001b[0;34m[\u001b[0m\u001b[0mtask\u001b[0m\u001b[0;34m(\u001b[0m\u001b[0mjob_args\u001b[0m\u001b[0;34m,\u001b[0m \u001b[0;34m*\u001b[0m\u001b[0mother_args\u001b[0m\u001b[0;34m,\u001b[0m \u001b[0;34m**\u001b[0m\u001b[0mkwargs\u001b[0m\u001b[0;34m)\u001b[0m \u001b[0;32mfor\u001b[0m \u001b[0mjob_args\u001b[0m \u001b[0;32min\u001b[0m \u001b[0mdistributed_args\u001b[0m\u001b[0;34m]\u001b[0m\u001b[0;34m\u001b[0m\u001b[0;34m\u001b[0m\u001b[0m\n\u001b[0m\u001b[1;32m    513\u001b[0m         \u001b[0;32mif\u001b[0m \u001b[0msend_results_to\u001b[0m \u001b[0;34m==\u001b[0m \u001b[0;34m'all'\u001b[0m\u001b[0;34m:\u001b[0m\u001b[0;34m\u001b[0m\u001b[0;34m\u001b[0m\u001b[0m\n\u001b[1;32m    514\u001b[0m             \u001b[0;32mreturn\u001b[0m \u001b[0mall_results\u001b[0m\u001b[0;34m\u001b[0m\u001b[0;34m\u001b[0m\u001b[0m\n",
      "\u001b[0;32m~/miniconda3/envs/perses-rbd-ace2/lib/python3.8/site-packages/mpiplus/mpiplus.py\u001b[0m in \u001b[0;36m<listcomp>\u001b[0;34m(.0)\u001b[0m\n\u001b[1;32m    510\u001b[0m     \u001b[0;32mif\u001b[0m \u001b[0mget_mpicomm\u001b[0m\u001b[0;34m(\u001b[0m\u001b[0;34m)\u001b[0m \u001b[0;32mis\u001b[0m \u001b[0;32mNone\u001b[0m\u001b[0;34m:\u001b[0m\u001b[0;34m\u001b[0m\u001b[0;34m\u001b[0m\u001b[0m\n\u001b[1;32m    511\u001b[0m         \u001b[0mlogger\u001b[0m\u001b[0;34m.\u001b[0m\u001b[0mdebug\u001b[0m\u001b[0;34m(\u001b[0m\u001b[0;34m'Running {} serially.'\u001b[0m\u001b[0;34m.\u001b[0m\u001b[0mformat\u001b[0m\u001b[0;34m(\u001b[0m\u001b[0mtask\u001b[0m\u001b[0;34m.\u001b[0m\u001b[0m__name__\u001b[0m\u001b[0;34m)\u001b[0m\u001b[0;34m)\u001b[0m\u001b[0;34m\u001b[0m\u001b[0;34m\u001b[0m\u001b[0m\n\u001b[0;32m--> 512\u001b[0;31m         \u001b[0mall_results\u001b[0m \u001b[0;34m=\u001b[0m \u001b[0;34m[\u001b[0m\u001b[0mtask\u001b[0m\u001b[0;34m(\u001b[0m\u001b[0mjob_args\u001b[0m\u001b[0;34m,\u001b[0m \u001b[0;34m*\u001b[0m\u001b[0mother_args\u001b[0m\u001b[0;34m,\u001b[0m \u001b[0;34m**\u001b[0m\u001b[0mkwargs\u001b[0m\u001b[0;34m)\u001b[0m \u001b[0;32mfor\u001b[0m \u001b[0mjob_args\u001b[0m \u001b[0;32min\u001b[0m \u001b[0mdistributed_args\u001b[0m\u001b[0;34m]\u001b[0m\u001b[0;34m\u001b[0m\u001b[0;34m\u001b[0m\u001b[0m\n\u001b[0m\u001b[1;32m    513\u001b[0m         \u001b[0;32mif\u001b[0m \u001b[0msend_results_to\u001b[0m \u001b[0;34m==\u001b[0m \u001b[0;34m'all'\u001b[0m\u001b[0;34m:\u001b[0m\u001b[0;34m\u001b[0m\u001b[0;34m\u001b[0m\u001b[0m\n\u001b[1;32m    514\u001b[0m             \u001b[0;32mreturn\u001b[0m \u001b[0mall_results\u001b[0m\u001b[0;34m\u001b[0m\u001b[0;34m\u001b[0m\u001b[0m\n",
      "\u001b[0;32m~/miniconda3/envs/perses-rbd-ace2/lib/python3.8/site-packages/openmmtools/multistate/multistatesampler.py\u001b[0m in \u001b[0;36m_propagate_replica\u001b[0;34m(self, replica_id)\u001b[0m\n\u001b[1;32m   1232\u001b[0m                        ' in {}').format(replica_id, thermodynamic_state_id, output_dir)\n\u001b[1;32m   1233\u001b[0m             \u001b[0mlogger\u001b[0m\u001b[0;34m.\u001b[0m\u001b[0mcritical\u001b[0m\u001b[0;34m(\u001b[0m\u001b[0mmessage\u001b[0m\u001b[0;34m)\u001b[0m\u001b[0;34m\u001b[0m\u001b[0;34m\u001b[0m\u001b[0m\n\u001b[0;32m-> 1234\u001b[0;31m             \u001b[0;32mraise\u001b[0m \u001b[0mSimulationNaNError\u001b[0m\u001b[0;34m(\u001b[0m\u001b[0mmessage\u001b[0m\u001b[0;34m)\u001b[0m\u001b[0;34m\u001b[0m\u001b[0;34m\u001b[0m\u001b[0m\n\u001b[0m\u001b[1;32m   1235\u001b[0m \u001b[0;34m\u001b[0m\u001b[0m\n\u001b[1;32m   1236\u001b[0m         \u001b[0;31m# Send the new state to the root node. We can ignore velocities as we're not saving them.\u001b[0m\u001b[0;34m\u001b[0m\u001b[0;34m\u001b[0m\u001b[0;34m\u001b[0m\u001b[0m\n",
      "\u001b[0;31mSimulationNaNError\u001b[0m: Propagating replica 0 at state 5 resulted in a NaN!\nThe state of the system and integrator before the error were saved in nan-error-logs"
     ]
    }
   ],
   "source": [
    "# Propagate the replicas with Langevin dynamics.\n",
    "from openmmtools import mcmc\n",
    "n_steps = 250\n",
    "langevin_move = mcmc.LangevinSplittingDynamicsMove(timestep=2.0*unit.femtosecond, n_steps=n_steps)\n",
    "# langevin_move = mcmc.LangevinDynamicsMove(timestep=2.0*unit.femtosecond, n_steps=n_steps)\n",
    "\n",
    "# Enable logging\n",
    "import logging, sys\n",
    "logging.basicConfig(level=logging.DEBUG, stream=sys.stdout)\n",
    "\n",
    "# Run the parallel tempering simulation.\n",
    "from openmmtools import multistate\n",
    "n_iterations = 500\n",
    "parallel_tempering = multistate.ReplicaExchangeSampler(mcmc_moves=langevin_move, number_of_iterations=n_iterations)\n",
    "import tempfile\n",
    "storage_path = f'{i}_{phase}.nc'\n",
    "reporter = multistate.MultiStateReporter(storage_path, checkpoint_interval=n_iterations)\n",
    "parallel_tempering.create(thermodynamic_states=thermodynamic_states, sampler_states=sampler_states, storage=reporter)\n",
    "parallel_tempering.run(n_iterations=n_iterations)"
   ]
  },
  {
   "cell_type": "code",
   "execution_count": null,
   "id": "polar-advancement",
   "metadata": {},
   "outputs": [],
   "source": []
  }
 ],
 "metadata": {
  "kernelspec": {
   "display_name": "Python 3",
   "language": "python",
   "name": "python3"
  },
  "language_info": {
   "codemirror_mode": {
    "name": "ipython",
    "version": 3
   },
   "file_extension": ".py",
   "mimetype": "text/x-python",
   "name": "python",
   "nbconvert_exporter": "python",
   "pygments_lexer": "ipython3",
   "version": "3.8.6"
  }
 },
 "nbformat": 4,
 "nbformat_minor": 5
}
