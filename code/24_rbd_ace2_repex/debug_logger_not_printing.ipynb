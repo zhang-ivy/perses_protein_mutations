{
 "cells": [
  {
   "cell_type": "code",
   "execution_count": 1,
   "id": "wooden-fruit",
   "metadata": {},
   "outputs": [
    {
     "name": "stdout",
     "output_type": "stream",
     "text": [
      "conducting subsequent work with the following platform: CUDA\n",
      "conducting subsequent work with the following platform: CUDA\n",
      "conducting subsequent work with the following platform: CUDA\n"
     ]
    }
   ],
   "source": [
    "import argparse\n",
    "import pickle\n",
    "import os\n",
    "from perses.annihilation.lambda_protocol import LambdaProtocol\n",
    "import simtk.unit as unit\n",
    "from openmmtools.multistate import MultiStateReporter\n",
    "from perses.samplers.multistate import HybridRepexSampler\n",
    "from openmmtools import mcmc\n",
    "import logging\n",
    "import datetime\n",
    "\n",
    "# # Set up logger\n",
    "# class TimeFilter(logging.Filter):\n",
    "#     def filter(self, record):\n",
    "#         try:\n",
    "#             last = self.last\n",
    "#         except AttributeError:\n",
    "#             last = record.relativeCreated\n",
    "#         delta = datetime.datetime.fromtimestamp(record.relativeCreated/1000.0) - datetime.datetime.fromtimestamp(last/1000.0)\n",
    "#         record.relative = '{0:.2f}'.format(delta.seconds + delta.microseconds/1000000.0)\n",
    "#         self.last = record.relativeCreated\n",
    "#         return True\n",
    "# fmt = logging.Formatter(fmt=\"%(asctime)s:(%(relative)ss):%(name)s:%(message)s\")\n",
    "# logging.basicConfig(\n",
    "#     format='%(asctime)s %(levelname)-8s %(message)s',\n",
    "#     level=logging.DEBUG,\n",
    "#     datefmt='%Y-%m-%d %H:%M:%S')\n",
    "# _logger = logging.getLogger()\n",
    "# _logger.setLevel(logging.DEBUG)\n",
    "# [hndl.addFilter(TimeFilter()) for hndl in _logger.handlers]\n",
    "# [hndl.setFormatter(fmt) for hndl in _logger.handlers]\n",
    "\n"
   ]
  },
  {
   "cell_type": "code",
   "execution_count": 2,
   "id": "eastern-haven",
   "metadata": {},
   "outputs": [],
   "source": [
    "outdir = '/data/chodera/zhangi/perses_benchmark/repex/31/1/0/'\n",
    "phase = 'complex'"
   ]
  },
  {
   "cell_type": "code",
   "execution_count": 3,
   "id": "tested-shape",
   "metadata": {},
   "outputs": [],
   "source": [
    "i = os.path.basename(os.path.dirname(outdir))\n",
    "htf = pickle.load(open(os.path.join(outdir, f\"{i}_{phase}.pickle\"), \"rb\" ))\n",
    "\n"
   ]
  },
  {
   "cell_type": "code",
   "execution_count": 4,
   "id": "fitting-university",
   "metadata": {},
   "outputs": [],
   "source": [
    "# Build the hybrid repex samplers\n",
    "_logger = logging.getLogger()\n",
    "_logger.setLevel(logging.DEBUG)\n",
    "\n"
   ]
  },
  {
   "cell_type": "code",
   "execution_count": 6,
   "id": "later-aerospace",
   "metadata": {},
   "outputs": [
    {
     "name": "stderr",
     "output_type": "stream",
     "text": [
      "WARNING:openmmtools.multistate.multistatereporter:Warning: The openmmtools.multistate API is experimental and may change in future releases\n",
      "DEBUG:openmmtools.multistate.multistatereporter:Initial checkpoint file automatically chosen as /data/chodera/zhangi/perses_benchmark/repex/31/1/0/0_complex_checkpoint.nc\n",
      "WARNING:openmmtools.multistate.multistatesampler:Warning: The openmmtools.multistate API is experimental and may change in future releases\n",
      "INFO:multistate:n_replicas not defined, setting to match n_states, 11\n",
      "INFO:multistate:Generating unsampled endstates.\n",
      "DEBUG:mpiplus.mpiplus:Cannot find MPI environment. MPI disabled.\n",
      "DEBUG:mpiplus.mpiplus:Single node: executing <bound method MultiStateReporter.storage_exists of <openmmtools.multistate.multistatereporter.MultiStateReporter object at 0x2b3a40722c40>>\n",
      "DEBUG:mpiplus.mpiplus:Single node: executing <function ReplicaExchangeSampler._display_citations at 0x2b399333b670>\n",
      "DEBUG:mpiplus.mpiplus:Single node: executing <function MultiStateSampler._display_citations at 0x2b39932f6f70>\n",
      "DEBUG:mpiplus.mpiplus:Single node: executing <function MultiStateSampler._initialize_reporter at 0x2b39932f7280>\n"
     ]
    },
    {
     "name": "stdout",
     "output_type": "stream",
     "text": [
      "Please cite the following:\n",
      "\n",
      "        Friedrichs MS, Eastman P, Vaidyanathan V, Houston M, LeGrand S, Beberg AL, Ensign DL, Bruns CM, and Pande VS. Accelerating molecular dynamic simulations on graphics processing unit. J. Comput. Chem. 30:864, 2009. DOI: 10.1002/jcc.21209\n",
      "        Eastman P and Pande VS. OpenMM: A hardware-independent framework for molecular simulations. Comput. Sci. Eng. 12:34, 2010. DOI: 10.1109/MCSE.2010.27\n",
      "        Eastman P and Pande VS. Efficient nonbonded interactions for molecular dynamics on a graphics processing unit. J. Comput. Chem. 31:1268, 2010. DOI: 10.1002/jcc.21413\n",
      "        Eastman P and Pande VS. Constant constraint matrix approximation: A robust, parallelizable constraint method for molecular simulations. J. Chem. Theor. Comput. 6:434, 2010. DOI: 10.1021/ct900463w\n",
      "        Chodera JD and Shirts MR. Replica exchange and expanded ensemble simulations as Gibbs multistate: Simple improvements for enhanced mixing. J. Chem. Phys., 135:194110, 2011. DOI:10.1063/1.3660669\n",
      "        \n"
     ]
    },
    {
     "name": "stderr",
     "output_type": "stream",
     "text": [
      "DEBUG:openmmtools.multistate.multistatereporter:Serialized state thermodynamic_states/0 is  5582618B | 5451.775KB | 5.324MB\n",
      "DEBUG:openmmtools.multistate.multistatereporter:Serialized state unsampled_states/0 is  2994732B | 2924.543KB | 2.856MB\n",
      "DEBUG:openmmtools.multistate.multistatereporter:Serialized state unsampled_states/1 is  2994801B | 2924.610KB | 2.856MB\n",
      "DEBUG:openmmtools.utils:Storing thermodynamic states took   18.525s\n",
      "DEBUG:openmmtools.multistate.multistatesampler:Storing general ReplicaExchange options...\n",
      "DEBUG:mpiplus.mpiplus:Single node: executing <function MultiStateSampler._report_iteration at 0x2b39932f73a0>\n",
      "DEBUG:mpiplus.mpiplus:Single node: executing <function MultiStateSampler._report_iteration_items at 0x2b39932f7670>\n",
      "DEBUG:openmmtools.utils:Storing sampler states took    0.089s\n",
      "DEBUG:openmmtools.utils:Writing iteration information to storage took    0.878s\n",
      "DEBUG:mpiplus.mpiplus:Single node: executing <bound method MultiStateSampler._store_options of <instance of HybridRepexSampler>>\n",
      "DEBUG:openmmtools.multistate.multistatesampler:Storing general ReplicaExchange options...\n",
      "DEBUG:mpiplus.mpiplus:Running _compute_replica_energies serially.\n",
      "DEBUG:openmmtools.utils:Computing energy matrix took   15.142s\n",
      "DEBUG:mpiplus.mpiplus:Single node: executing <bound method MultiStateReporter.write_energies of <openmmtools.multistate.multistatereporter.MultiStateReporter object at 0x2b3a40722c40>>\n",
      "DEBUG:openmmtools.multistate.multistatesampler:********************************************************************************\n",
      "DEBUG:openmmtools.multistate.multistatesampler:Iteration 1/5000\n",
      "DEBUG:openmmtools.multistate.multistatesampler:********************************************************************************\n",
      "DEBUG:mpiplus.mpiplus:Single node: executing <function ReplicaExchangeSampler._mix_replicas at 0x2b399333b310>\n",
      "DEBUG:openmmtools.multistate.replicaexchange:Mixing replicas...\n",
      "DEBUG:openmmtools.utils:Mixing of replicas took    0.026s\n",
      "DEBUG:openmmtools.multistate.replicaexchange:Accepted 5716/29282 attempted swaps (19.5%)\n",
      "DEBUG:openmmtools.multistate.multistatesampler:Propagating all replicas...\n",
      "DEBUG:mpiplus.mpiplus:Running _propagate_replica serially.\n",
      "DEBUG:mpiplus.mpiplus:Running _get_replica_move_statistics serially.\n",
      "DEBUG:openmmtools.utils:Propagating all replicas took   41.569s\n",
      "DEBUG:mpiplus.mpiplus:Running _compute_replica_energies serially.\n",
      "DEBUG:openmmtools.utils:Computing energy matrix took    1.824s\n",
      "DEBUG:mpiplus.mpiplus:Single node: executing <function MultiStateSampler._report_iteration at 0x2b39932f73a0>\n",
      "DEBUG:mpiplus.mpiplus:Single node: executing <function MultiStateSampler._report_iteration_items at 0x2b39932f7670>\n",
      "DEBUG:openmmtools.multistate.multistatereporter:Iteration 1 not on the Checkpoint Interval of 10. Sampler State not written.\n",
      "DEBUG:openmmtools.utils:Storing sampler states took    0.032s\n",
      "DEBUG:openmmtools.utils:Writing iteration information to storage took    0.136s\n",
      "DEBUG:openmmtools.multistate.multistatesampler:Not enough iterations for online analysis (self.online_analysis_minimum_iterations = 200)\n",
      "DEBUG:mpiplus.mpiplus:Single node: executing <function MultiStateSampler._online_analysis at 0x2b39932fb1f0>\n",
      "DEBUG:openmmtools.multistate.multistatereporter:Creating new NetCDF variable f_k with parameters: {'dtype': dtype('float64'), 'dims': ('dim_size11',), 'chunksizes': (11,)}\n",
      "DEBUG:openmmtools.multistate.multistatereporter:Creating new NetCDF variable free_energy with parameters: {'dtype': <class 'numpy.float64'>, 'dims': ('dim_size2',), 'chunksizes': (2,)}\n",
      "DEBUG:openmmtools.multistate.multistatereporter:Creating new NetCDF variable f_k_history with parameters: {'dtype': dtype('float64'), 'dims': ('iteration', 'dim_size11'), 'chunksizes': (1, 11)}\n",
      "DEBUG:openmmtools.multistate.multistatereporter:Creating new NetCDF variable free_energy_history with parameters: {'dtype': <class 'numpy.float64'>, 'dims': ('iteration', 'dim_size2'), 'chunksizes': (1, 2)}\n",
      "DEBUG:openmmtools.multistate.multistatesampler:*** ONLINE analysis free energies:\n",
      "DEBUG:openmmtools.multistate.multistatesampler:        -0.0     5.5     5.5     5.5     5.5     5.5     5.5     5.5     5.5     5.5     5.5\n",
      "DEBUG:openmmtools.utils:Computing online free energy estimate took    0.017s\n",
      "DEBUG:openmmtools.multistate.multistatesampler:Iteration took 43.594s.\n",
      "DEBUG:openmmtools.multistate.multistatesampler:Estimated completion in 2 days, 12:32:40.091888, at Sun Apr  4 07:30:48 2021 (consuming total wall clock time 2 days, 12:33:23.692627).\n",
      "DEBUG:openmmtools.multistate.multistatesampler:********************************************************************************\n",
      "DEBUG:openmmtools.multistate.multistatesampler:Iteration 2/5000\n",
      "DEBUG:openmmtools.multistate.multistatesampler:********************************************************************************\n",
      "DEBUG:mpiplus.mpiplus:Single node: executing <function ReplicaExchangeSampler._mix_replicas at 0x2b399333b310>\n",
      "DEBUG:openmmtools.multistate.replicaexchange:Mixing replicas...\n",
      "DEBUG:openmmtools.utils:Mixing of replicas took    0.001s\n",
      "DEBUG:openmmtools.multistate.replicaexchange:Accepted 4266/29282 attempted swaps (14.6%)\n",
      "DEBUG:openmmtools.multistate.multistatesampler:Propagating all replicas...\n",
      "DEBUG:mpiplus.mpiplus:Running _propagate_replica serially.\n",
      "DEBUG:mpiplus.mpiplus:Running _get_replica_move_statistics serially.\n",
      "DEBUG:openmmtools.utils:Propagating all replicas took   31.255s\n",
      "DEBUG:mpiplus.mpiplus:Running _compute_replica_energies serially.\n",
      "DEBUG:openmmtools.utils:Computing energy matrix took    1.805s\n",
      "DEBUG:mpiplus.mpiplus:Single node: executing <function MultiStateSampler._report_iteration at 0x2b39932f73a0>\n",
      "DEBUG:mpiplus.mpiplus:Single node: executing <function MultiStateSampler._report_iteration_items at 0x2b39932f7670>\n",
      "DEBUG:openmmtools.multistate.multistatereporter:Iteration 2 not on the Checkpoint Interval of 10. Sampler State not written.\n",
      "DEBUG:openmmtools.utils:Storing sampler states took    0.032s\n",
      "DEBUG:openmmtools.utils:Writing iteration information to storage took    0.102s\n",
      "DEBUG:openmmtools.multistate.multistatesampler:Not enough iterations for online analysis (self.online_analysis_minimum_iterations = 200)\n",
      "DEBUG:mpiplus.mpiplus:Single node: executing <function MultiStateSampler._online_analysis at 0x2b39932fb1f0>\n",
      "DEBUG:openmmtools.multistate.multistatesampler:*** ONLINE analysis free energies:\n",
      "DEBUG:openmmtools.multistate.multistatesampler:        -0.0     9.2     9.2     9.2     9.2     9.2     9.2     9.2     9.2     9.2     9.2\n",
      "DEBUG:openmmtools.utils:Computing online free energy estimate took    0.006s\n",
      "DEBUG:openmmtools.multistate.multistatesampler:Iteration took 33.188s.\n",
      "DEBUG:openmmtools.multistate.multistatesampler:Estimated completion in 2 days, 5:18:37.106552, at Sun Apr  4 00:17:19 2021 (consuming total wall clock time 2 days, 5:19:53.904114).\n",
      "DEBUG:openmmtools.multistate.multistatesampler:********************************************************************************\n",
      "DEBUG:openmmtools.multistate.multistatesampler:Iteration 3/5000\n",
      "DEBUG:openmmtools.multistate.multistatesampler:********************************************************************************\n",
      "DEBUG:mpiplus.mpiplus:Single node: executing <function ReplicaExchangeSampler._mix_replicas at 0x2b399333b310>\n",
      "DEBUG:openmmtools.multistate.replicaexchange:Mixing replicas...\n",
      "DEBUG:openmmtools.utils:Mixing of replicas took    0.001s\n",
      "DEBUG:openmmtools.multistate.replicaexchange:Accepted 3668/29282 attempted swaps (12.5%)\n",
      "DEBUG:openmmtools.multistate.multistatesampler:Propagating all replicas...\n",
      "DEBUG:mpiplus.mpiplus:Running _propagate_replica serially.\n",
      "\n",
      "KeyboardInterrupt\n",
      "\n"
     ]
    }
   ],
   "source": [
    "selection = 'not water'; checkpoint_interval = 10; n_states = 11; n_cycles = 5000 \n",
    "lambda_protocol = LambdaProtocol(functions='default')\n",
    "reporter_file = os.path.join(outdir, f\"{i}_{phase}.nc\")\n",
    "reporter = MultiStateReporter(reporter_file, analysis_particle_indices = htf.hybrid_topology.select(selection), checkpoint_interval = checkpoint_interval)\n",
    "hss = HybridRepexSampler(mcmc_moves=mcmc.LangevinSplittingDynamicsMove(timestep= 4.0 * unit.femtoseconds,\n",
    "                                                                      collision_rate=5.0 / unit.picosecond,\n",
    "                                                                      n_steps=250,\n",
    "                                                                      reassign_velocities=False,\n",
    "                                                                      n_restart_attempts=20,\n",
    "                                                                      splitting=\"V R R R O R R R V\",\n",
    "                                                                      constraint_tolerance=1e-06),\n",
    "                                                                      hybrid_factory=htf, online_analysis_interval=10)\n",
    "hss.setup(n_states=n_states, temperature=300*unit.kelvin, storage_file=reporter, lambda_protocol=lambda_protocol)\n",
    "hss.extend(n_cycles)\n"
   ]
  },
  {
   "cell_type": "code",
   "execution_count": null,
   "id": "moral-hepatitis",
   "metadata": {},
   "outputs": [],
   "source": []
  }
 ],
 "metadata": {
  "kernelspec": {
   "display_name": "Python 3",
   "language": "python",
   "name": "python3"
  },
  "language_info": {
   "codemirror_mode": {
    "name": "ipython",
    "version": 3
   },
   "file_extension": ".py",
   "mimetype": "text/x-python",
   "name": "python",
   "nbconvert_exporter": "python",
   "pygments_lexer": "ipython3",
   "version": "3.8.6"
  }
 },
 "nbformat": 4,
 "nbformat_minor": 5
}
