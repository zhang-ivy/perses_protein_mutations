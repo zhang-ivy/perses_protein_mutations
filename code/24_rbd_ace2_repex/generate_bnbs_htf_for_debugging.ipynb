{
 "cells": [
  {
   "cell_type": "code",
   "execution_count": 1,
   "id": "assigned-guinea",
   "metadata": {},
   "outputs": [
    {
     "name": "stderr",
     "output_type": "stream",
     "text": [
      "INFO:numexpr.utils:Note: detected 72 virtual cores but NumExpr set to maximum of 64, check \"NUMEXPR_MAX_THREADS\" environment variable.\n",
      "INFO:numexpr.utils:Note: NumExpr detected 72 cores but \"NUMEXPR_MAX_THREADS\" not set, so enforcing safe limit of 8.\n",
      "INFO:numexpr.utils:NumExpr defaulting to 8 threads.\n",
      "INFO:rdkit:Enabling RDKit 2020.09.4 jupyter extensions\n"
     ]
    }
   ],
   "source": [
    "import logging\n",
    "_logger = logging.getLogger()\n",
    "_logger.setLevel(logging.INFO)\n",
    "\n",
    "from perses.app.relative_point_mutation_setup import PointMutationExecutor\n",
    "from simtk import unit\n"
   ]
  },
  {
   "cell_type": "code",
   "execution_count": 3,
   "id": "funky-validation",
   "metadata": {},
   "outputs": [
    {
     "name": "stderr",
     "output_type": "stream",
     "text": [
      "INFO:setup:solvating at 0.05 M using tip3p\n",
      "INFO:proposal_generator:\tConducting polymer point mutation proposal...\n",
      "INFO:proposal_generator:Using matching_criterion to chose best atom map\n",
      "INFO:proposal_generator:Scaffold has symmetry of 0\n",
      "WARNING:proposal_generator:Two molecules are not similar to have a common scaffold\n",
      "WARNING:proposal_generator:Proceeding with direct mapping of molecules, but please check atom mapping and the geometry of the ligands.\n",
      "INFO:proposal_generator:len [{7: 9}, {8: 9}, {9: 9}, {7: 10}, {8: 10}, {9: 10}, {7: 11}, {8: 11}, {9: 11}, {7: 12}, {8: 12}, {9: 12}, {7: 13}, {8: 13}, {9: 13}]\n",
      "INFO:proposal_generator:{7: 9}\n",
      "INFO:proposal_generator:{8: 9}\n",
      "INFO:proposal_generator:{9: 9}\n",
      "INFO:proposal_generator:{7: 10}\n",
      "INFO:proposal_generator:{8: 10}\n",
      "INFO:proposal_generator:{9: 10}\n",
      "INFO:proposal_generator:{7: 11}\n",
      "INFO:proposal_generator:{8: 11}\n",
      "INFO:proposal_generator:{9: 11}\n",
      "INFO:proposal_generator:{7: 12}\n",
      "INFO:proposal_generator:{8: 12}\n",
      "INFO:proposal_generator:{9: 12}\n",
      "INFO:proposal_generator:{7: 13}\n",
      "INFO:proposal_generator:{8: 13}\n",
      "INFO:proposal_generator:{9: 13}\n",
      "INFO:proposal_generator:Returning map that best satisfies matching_criterion\n",
      "INFO:proposal_generator:Finding best map using matching_criterion name\n",
      "INFO:proposal_generator:{7: 9}\n",
      "INFO:geometry:propose: performing forward proposal\n",
      "INFO:geometry:propose: unique new atoms detected; proceeding to _logp_propose...\n",
      "INFO:geometry:Conducting forward proposal...\n",
      "INFO:geometry:Computing proposal order with NetworkX...\n",
      "INFO:geometry:number of atoms to be placed: 4\n",
      "INFO:geometry:Atom index proposal order is [673, 678, 677, 676]\n",
      "INFO:geometry:omitted_bonds: []\n",
      "INFO:geometry:direction of proposal is forward; creating atoms_with_positions and new positions from old system/topology...\n",
      "INFO:geometry:creating growth system...\n",
      "INFO:geometry:\tcreating bond force...\n",
      "INFO:geometry:\tthere are 733 bonds in reference force.\n",
      "INFO:geometry:\tcreating angle force...\n",
      "INFO:geometry:\tthere are 2628 angles in reference force.\n",
      "INFO:geometry:\tcreating torsion force...\n",
      "INFO:geometry:\tcreating extra torsions force...\n",
      "INFO:geometry:\tthere are 4939 torsions in reference force.\n",
      "INFO:geometry:\tcreating nonbonded force...\n",
      "INFO:geometry:\t\tgrabbing reference nonbonded method, cutoff, switching function, switching distance...\n",
      "INFO:geometry:\t\tcreating nonbonded exception force (i.e. custom bond for 1,4s)...\n",
      "INFO:geometry:\t\tlooping through exceptions calculating growth indices, and adding appropriate interactions to custom bond force.\n",
      "INFO:geometry:\t\tthere are 21290 in the reference Nonbonded force\n",
      "WARNING:geometry:\t\t\t\t\tchiral atom <Atom 670 (CA) of chain 0 residue 42 (ALA)> with neighbors [<Atom 671 (C) of chain 0 residue 42 (ALA)>, <Atom 673 (CB) of chain 0 residue 42 (ALA)>, <Atom 675 (HA) of chain 0 residue 42 (ALA)>, <Atom 669 (N) of chain 0 residue 42 (ALA)>] is surrounded by 3 core neighbors.  omitting chirality bias torsion\n",
      "INFO:geometry:Neglected angle terms : []\n",
      "INFO:geometry:omitted_growth_terms: {'bonds': [], 'angles': [], 'torsions': [], '1,4s': []}\n",
      "INFO:geometry:extra torsions: {0: (674, 669, 670, 673, [1, Quantity(value=0.9799661941737812, unit=radian), Quantity(value=1200.0, unit=kilocalorie/mole), 1]), 1: (669, 670, 673, 676, [1, Quantity(value=2.105358864604291, unit=radian), Quantity(value=1200.0, unit=kilocalorie/mole), 4]), 2: (669, 670, 673, 677, [1, Quantity(value=-2.0823006129211796, unit=radian), Quantity(value=1200.0, unit=kilocalorie/mole), 3]), 3: (669, 670, 673, 678, [1, Quantity(value=0.018582237407944735, unit=radian), Quantity(value=1200.0, unit=kilocalorie/mole), 2]), 4: (671, 670, 673, 676, [1, Quantity(value=-0.036945135932107576, unit=radian), Quantity(value=1200.0, unit=kilocalorie/mole), 4]), 5: (671, 670, 673, 677, [1, Quantity(value=2.0585806937220097, unit=radian), Quantity(value=1200.0, unit=kilocalorie/mole), 3]), 6: (671, 670, 673, 678, [1, Quantity(value=-2.1237217631284597, unit=radian), Quantity(value=1200.0, unit=kilocalorie/mole), 2]), 7: (675, 670, 673, 676, [1, Quantity(value=-2.119603470065817, unit=radian), Quantity(value=1200.0, unit=kilocalorie/mole), 4]), 8: (675, 670, 673, 677, [1, Quantity(value=-0.024077640411697132, unit=radian), Quantity(value=1200.0, unit=kilocalorie/mole), 3]), 9: (675, 670, 673, 678, [1, Quantity(value=2.0768052099174152, unit=radian), Quantity(value=1200.0, unit=kilocalorie/mole), 2])}\n",
      "INFO:geometry:neglected angle terms include []\n",
      "INFO:geometry:log probability choice of torsions and atom order: -5.78074351579233\n",
      "INFO:geometry:creating platform, integrators, and contexts; setting growth parameter\n"
     ]
    },
    {
     "name": "stdout",
     "output_type": "stream",
     "text": [
      "Desired platform not supported. exception raised: Error initializing CUDA: CUDA_ERROR_NO_DEVICE (100) at /home/conda/feedstock_root/build_artifacts/openmm_1613569706035/work/platforms/cuda/src/CudaContext.cpp:138\n",
      "Warning: Returning CPU platform instead of requested platform CUDA\n",
      "conducting subsequent work with the following platform: CPU\n",
      "Desired platform not supported. exception raised: Error initializing CUDA: CUDA_ERROR_NO_DEVICE (100) at /home/conda/feedstock_root/build_artifacts/openmm_1613569706035/work/platforms/cuda/src/CudaContext.cpp:138\n",
      "Warning: Returning Reference platform instead of requested platform CUDA\n",
      "conducting subsequent work with the following platform: Reference\n"
     ]
    },
    {
     "name": "stderr",
     "output_type": "stream",
     "text": [
      "INFO:geometry:setting atoms_with_positions context new positions\n",
      "INFO:geometry:There are 4 new atoms\n",
      "INFO:geometry:\treduced angle potential = 0.5975219700712122.\n"
     ]
    },
    {
     "name": "stdout",
     "output_type": "stream",
     "text": [
      "Desired platform not supported. exception raised: Error initializing CUDA: CUDA_ERROR_NO_DEVICE (100) at /home/conda/feedstock_root/build_artifacts/openmm_1613569706035/work/platforms/cuda/src/CudaContext.cpp:138\n",
      "Warning: Returning Reference platform instead of requested platform CUDA\n",
      "conducting subsequent work with the following platform: Reference\n"
     ]
    },
    {
     "name": "stderr",
     "output_type": "stream",
     "text": [
      "INFO:geometry:\treduced angle potential = 0.10000246765906586.\n",
      "INFO:geometry:\treduced angle potential = 1.0497010277118808.\n",
      "INFO:geometry:\treduced angle potential = 0.056406975033739995.\n",
      "INFO:geometry:\tbeginning construction of no_nonbonded final system...\n",
      "INFO:geometry:\tinitial no-nonbonded final system forces ['HarmonicBondForce', 'HarmonicAngleForce', 'PeriodicTorsionForce', 'NonbondedForce', 'MonteCarloBarostat']\n",
      "INFO:geometry:\tfinal no-nonbonded final system forces dict_keys(['HarmonicBondForce', 'HarmonicAngleForce', 'PeriodicTorsionForce', 'NonbondedForce'])\n",
      "INFO:geometry:\tthere are 733 bond forces in the no-nonbonded final system\n",
      "INFO:geometry:\tthere are 2628 angle forces in the no-nonbonded final system\n",
      "INFO:geometry:\tthere are 4939 torsion forces in the no-nonbonded final system\n",
      "INFO:geometry:forward final system defined with 0 neglected angles.\n"
     ]
    },
    {
     "name": "stdout",
     "output_type": "stream",
     "text": [
      "Desired platform not supported. exception raised: Error initializing CUDA: CUDA_ERROR_NO_DEVICE (100) at /home/conda/feedstock_root/build_artifacts/openmm_1613569706035/work/platforms/cuda/src/CudaContext.cpp:138\n",
      "Warning: Returning Reference platform instead of requested platform CUDA\n",
      "conducting subsequent work with the following platform: Reference\n"
     ]
    },
    {
     "name": "stderr",
     "output_type": "stream",
     "text": [
      "INFO:geometry:total reduced potential before atom placement: 2279.236611775058\n"
     ]
    },
    {
     "name": "stdout",
     "output_type": "stream",
     "text": [
      "Desired platform not supported. exception raised: Error initializing CUDA: CUDA_ERROR_NO_DEVICE (100) at /home/conda/feedstock_root/build_artifacts/openmm_1613569706035/work/platforms/cuda/src/CudaContext.cpp:138\n",
      "Warning: Returning Reference platform instead of requested platform CUDA\n",
      "conducting subsequent work with the following platform: Reference\n",
      "Desired platform not supported. exception raised: Error initializing CUDA: CUDA_ERROR_NO_DEVICE (100) at /home/conda/feedstock_root/build_artifacts/openmm_1613569706035/work/platforms/cuda/src/CudaContext.cpp:138\n",
      "Warning: Returning Reference platform instead of requested platform CUDA\n",
      "conducting subsequent work with the following platform: Reference\n",
      "Desired platform not supported. exception raised: Error initializing CUDA: CUDA_ERROR_NO_DEVICE (100) at /home/conda/feedstock_root/build_artifacts/openmm_1613569706035/work/platforms/cuda/src/CudaContext.cpp:138\n",
      "Warning: Returning Reference platform instead of requested platform CUDA\n",
      "conducting subsequent work with the following platform: Reference\n"
     ]
    },
    {
     "name": "stderr",
     "output_type": "stream",
     "text": [
      "INFO:geometry:total reduced energy added from growth system: 585.3385876099435\n",
      "INFO:geometry:final reduced energy 2864.5751995116557\n",
      "INFO:geometry:sum of energies: 2864.5751993850017\n",
      "INFO:geometry:magnitude of difference in the energies: 1.26654185805819e-07\n",
      "INFO:geometry:Final logp_proposal: 33.13180895235042\n",
      "INFO:geometry:logp_reverse: performing reverse proposal\n",
      "INFO:geometry:logp_reverse: unique new atoms detected; proceeding to _logp_propose...\n",
      "INFO:geometry:Conducting forward proposal...\n",
      "INFO:geometry:Computing proposal order with NetworkX...\n",
      "INFO:geometry:number of atoms to be placed: 8\n",
      "INFO:geometry:Atom index proposal order is [673, 675, 674, 681, 678, 680, 682, 679]\n",
      "INFO:geometry:omitted_bonds: []\n",
      "INFO:geometry:direction of proposal is reverse; creating atoms_with_positions from old system/topology\n"
     ]
    },
    {
     "name": "stdout",
     "output_type": "stream",
     "text": [
      "Desired platform not supported. exception raised: Error initializing CUDA: CUDA_ERROR_NO_DEVICE (100) at /home/conda/feedstock_root/build_artifacts/openmm_1613569706035/work/platforms/cuda/src/CudaContext.cpp:138\n",
      "Warning: Returning Reference platform instead of requested platform CUDA\n",
      "conducting subsequent work with the following platform: Reference\n",
      "added energy components: [('CustomBondForce', 0.030060182608274883), ('CustomAngleForce', 191.66629479074618), ('CustomTorsionForce', 11.040646719420305), ('CustomBondForce', 382.6015859171688)]\n"
     ]
    },
    {
     "name": "stderr",
     "output_type": "stream",
     "text": [
      "INFO:geometry:creating growth system...\n",
      "INFO:geometry:\tcreating bond force...\n",
      "INFO:geometry:\tthere are 735 bonds in reference force.\n",
      "INFO:geometry:\tcreating angle force...\n",
      "INFO:geometry:\tthere are 2635 angles in reference force.\n",
      "INFO:geometry:\tcreating torsion force...\n",
      "INFO:geometry:\tcreating extra torsions force...\n",
      "INFO:geometry:\tthere are 4969 torsions in reference force.\n",
      "INFO:geometry:\tcreating nonbonded force...\n",
      "INFO:geometry:\t\tgrabbing reference nonbonded method, cutoff, switching function, switching distance...\n",
      "INFO:geometry:\t\tcreating nonbonded exception force (i.e. custom bond for 1,4s)...\n",
      "INFO:geometry:\t\tlooping through exceptions calculating growth indices, and adding appropriate interactions to custom bond force.\n",
      "INFO:geometry:\t\tthere are 21313 in the reference Nonbonded force\n",
      "WARNING:geometry:\t\t\t\t\tchiral atom <Atom 670 (CA) of chain 0 residue 42 (THR)> with neighbors [<Atom 671 (C) of chain 0 residue 42 (THR)>, <Atom 673 (CB) of chain 0 residue 42 (THR)>, <Atom 677 (HA) of chain 0 residue 42 (THR)>, <Atom 669 (N) of chain 0 residue 42 (THR)>] is surrounded by 3 core neighbors.  omitting chirality bias torsion\n",
      "INFO:geometry:Neglected angle terms : []\n",
      "INFO:geometry:omitted_growth_terms: {'bonds': [], 'angles': [], 'torsions': [], '1,4s': []}\n",
      "INFO:geometry:extra torsions: {0: (676, 669, 670, 673, [1, Quantity(value=0.9900002084555819, unit=radian), Quantity(value=1200.0, unit=kilocalorie/mole), 1]), 1: (679, 674, 673, 670, [1, Quantity(value=-0.07858019216845058, unit=radian), Quantity(value=1200.0, unit=kilocalorie/mole), 8]), 2: (679, 674, 673, 675, [1, Quantity(value=2.118586571250296, unit=radian), Quantity(value=1200.0, unit=kilocalorie/mole), 8]), 3: (679, 674, 673, 678, [1, Quantity(value=-2.149781203448759, unit=radian), Quantity(value=1200.0, unit=kilocalorie/mole), 8]), 4: (670, 673, 675, 682, [1, Quantity(value=-2.1249532223845904, unit=radian), Quantity(value=1200.0, unit=kilocalorie/mole), 7]), 5: (670, 673, 675, 681, [1, Quantity(value=2.0543043017157916, unit=radian), Quantity(value=1200.0, unit=kilocalorie/mole), 4]), 6: (670, 673, 675, 680, [1, Quantity(value=-0.02223392579985184, unit=radian), Quantity(value=1200.0, unit=kilocalorie/mole), 6]), 7: (674, 673, 675, 682, [1, Quantity(value=2.0255587336734213, unit=radian), Quantity(value=1200.0, unit=kilocalorie/mole), 7]), 8: (674, 673, 675, 681, [1, Quantity(value=-0.07836904940578293, unit=radian), Quantity(value=1200.0, unit=kilocalorie/mole), 4]), 9: (674, 673, 675, 680, [1, Quantity(value=-2.154907276921426, unit=radian), Quantity(value=1200.0, unit=kilocalorie/mole), 6]), 10: (678, 673, 675, 682, [1, Quantity(value=0.007583009583349565, unit=radian), Quantity(value=1200.0, unit=kilocalorie/mole), 7]), 11: (678, 673, 675, 681, [1, Quantity(value=-2.096344773495849, unit=radian), Quantity(value=1200.0, unit=kilocalorie/mole), 5]), 12: (678, 673, 675, 680, [1, Quantity(value=2.1103023061680943, unit=radian), Quantity(value=1200.0, unit=kilocalorie/mole), 6]), 13: (675, 673, 670, 674, [1, Quantity(value=1.0655064807976995, unit=radian), Quantity(value=1200.0, unit=kilocalorie/mole), 3])}\n",
      "INFO:geometry:neglected angle terms include []\n",
      "INFO:geometry:log probability choice of torsions and atom order: -13.371595639480912\n",
      "INFO:geometry:creating platform, integrators, and contexts; setting growth parameter\n",
      "INFO:geometry:setting atoms_with_positions context old positions\n"
     ]
    },
    {
     "name": "stdout",
     "output_type": "stream",
     "text": [
      "Desired platform not supported. exception raised: Error initializing CUDA: CUDA_ERROR_NO_DEVICE (100) at /home/conda/feedstock_root/build_artifacts/openmm_1613569706035/work/platforms/cuda/src/CudaContext.cpp:138\n",
      "Warning: Returning Reference platform instead of requested platform CUDA\n",
      "conducting subsequent work with the following platform: Reference\n",
      "Desired platform not supported. exception raised: Error initializing CUDA: CUDA_ERROR_NO_DEVICE (100) at /home/conda/feedstock_root/build_artifacts/openmm_1613569706035/work/platforms/cuda/src/CudaContext.cpp:138\n",
      "Warning: Returning Reference platform instead of requested platform CUDA\n",
      "conducting subsequent work with the following platform: Reference\n"
     ]
    },
    {
     "name": "stderr",
     "output_type": "stream",
     "text": [
      "INFO:geometry:There are 8 new atoms\n",
      "INFO:geometry:\treduced angle potential = 0.005472066865685023.\n",
      "INFO:geometry:\treduced angle potential = 0.2257125237447829.\n",
      "INFO:geometry:\treduced angle potential = 0.1536280916466212.\n",
      "INFO:geometry:\treduced angle potential = 0.05657264681042365.\n",
      "INFO:geometry:\treduced angle potential = 0.20638629209120055.\n",
      "INFO:geometry:\treduced angle potential = 0.023352265895513123.\n",
      "INFO:geometry:\treduced angle potential = 0.25876654048332753.\n",
      "INFO:geometry:\treduced angle potential = 0.0066955214510641915.\n",
      "INFO:geometry:\tbeginning construction of no_nonbonded final system...\n",
      "INFO:geometry:\tinitial no-nonbonded final system forces ['HarmonicBondForce', 'HarmonicAngleForce', 'PeriodicTorsionForce', 'NonbondedForce', 'MonteCarloBarostat']\n",
      "INFO:geometry:\tfinal no-nonbonded final system forces dict_keys(['HarmonicBondForce', 'HarmonicAngleForce', 'PeriodicTorsionForce', 'NonbondedForce'])\n",
      "INFO:geometry:\tthere are 735 bond forces in the no-nonbonded final system\n",
      "INFO:geometry:\tthere are 2635 angle forces in the no-nonbonded final system\n",
      "INFO:geometry:\tthere are 4969 torsion forces in the no-nonbonded final system\n",
      "INFO:geometry:reverse final system defined with 0 neglected angles.\n"
     ]
    },
    {
     "name": "stdout",
     "output_type": "stream",
     "text": [
      "Desired platform not supported. exception raised: Error initializing CUDA: CUDA_ERROR_NO_DEVICE (100) at /home/conda/feedstock_root/build_artifacts/openmm_1613569706035/work/platforms/cuda/src/CudaContext.cpp:138\n",
      "Warning: Returning Reference platform instead of requested platform CUDA\n",
      "conducting subsequent work with the following platform: Reference\n"
     ]
    },
    {
     "name": "stderr",
     "output_type": "stream",
     "text": [
      "INFO:geometry:total reduced potential before atom placement: 2279.2365766920534\n"
     ]
    },
    {
     "name": "stdout",
     "output_type": "stream",
     "text": [
      "Desired platform not supported. exception raised: Error initializing CUDA: CUDA_ERROR_NO_DEVICE (100) at /home/conda/feedstock_root/build_artifacts/openmm_1613569706035/work/platforms/cuda/src/CudaContext.cpp:138\n",
      "Warning: Returning Reference platform instead of requested platform CUDA\n",
      "conducting subsequent work with the following platform: Reference\n",
      "Desired platform not supported. exception raised: Error initializing CUDA: CUDA_ERROR_NO_DEVICE (100) at /home/conda/feedstock_root/build_artifacts/openmm_1613569706035/work/platforms/cuda/src/CudaContext.cpp:138\n",
      "Warning: Returning Reference platform instead of requested platform CUDA\n",
      "conducting subsequent work with the following platform: Reference\n"
     ]
    },
    {
     "name": "stderr",
     "output_type": "stream",
     "text": [
      "INFO:geometry:total reduced energy added from growth system: -62.39009284236853\n",
      "INFO:geometry:final reduced energy 2216.8464828496585\n",
      "INFO:geometry:sum of energies: 2216.846483849685\n",
      "INFO:geometry:magnitude of difference in the energies: 1.0000263586107394e-06\n",
      "INFO:geometry:Final logp_proposal: -10170.00374395747\n"
     ]
    },
    {
     "name": "stdout",
     "output_type": "stream",
     "text": [
      "Desired platform not supported. exception raised: Error initializing CUDA: CUDA_ERROR_NO_DEVICE (100) at /home/conda/feedstock_root/build_artifacts/openmm_1613569706035/work/platforms/cuda/src/CudaContext.cpp:138\n",
      "Warning: Returning Reference platform instead of requested platform CUDA\n",
      "conducting subsequent work with the following platform: Reference\n",
      "Desired platform not supported. exception raised: Error initializing CUDA: CUDA_ERROR_NO_DEVICE (100) at /home/conda/feedstock_root/build_artifacts/openmm_1613569706035/work/platforms/cuda/src/CudaContext.cpp:138\n",
      "Warning: Returning Reference platform instead of requested platform CUDA\n",
      "conducting subsequent work with the following platform: Reference\n",
      "added energy components: [('CustomBondForce', 0.4083978161843685), ('CustomAngleForce', 1.6220794006192898), ('CustomTorsionForce', 17.503137840994235), ('CustomBondForce', -81.9237079001664)]\n"
     ]
    },
    {
     "name": "stderr",
     "output_type": "stream",
     "text": [
      "INFO:relative:*** Generating vanilla HybridTopologyFactory ***\n",
      "INFO:relative:Beginning nonbonded method, total particle, barostat, and exceptions retrieval...\n",
      "INFO:relative:Flattening torsions of unique new/old at lambda = 0/1\n",
      "INFO:relative:Flattening exceptions of unique new/old at lambda = 0/1\n",
      "INFO:relative:Old system forces: dict_keys(['HarmonicBondForce', 'HarmonicAngleForce', 'PeriodicTorsionForce', 'NonbondedForce', 'MonteCarloBarostat'])\n",
      "INFO:relative:New system forces: dict_keys(['HarmonicBondForce', 'HarmonicAngleForce', 'PeriodicTorsionForce', 'NonbondedForce', 'MonteCarloBarostat'])\n",
      "INFO:relative:No unknown forces.\n",
      "INFO:relative:Nonbonded method to be used (i.e. from old system): 4\n",
      "INFO:relative:Adding and mapping old atoms to hybrid system...\n",
      "INFO:relative:Adding and mapping new atoms to hybrid system...\n",
      "INFO:relative:Added MonteCarloBarostat.\n",
      "INFO:relative:getDefaultPeriodicBoxVectors added to hybrid: [Quantity(value=Vec3(x=5.423900000000001, y=0.0, z=0.0), unit=nanometer), Quantity(value=Vec3(x=0.0, y=5.423900000000001, z=0.0), unit=nanometer), Quantity(value=Vec3(x=0.0, y=0.0, z=5.423900000000001), unit=nanometer)]\n",
      "INFO:relative:Determined atom classes.\n",
      "INFO:relative:Generating old system exceptions dict...\n",
      "INFO:relative:Generating new system exceptions dict...\n",
      "INFO:relative:Handling constraints...\n",
      "INFO:relative:Handling virtual sites...\n",
      "INFO:relative:\t_handle_virtual_sites: numVirtualSites: 0\n",
      "INFO:relative:Adding bond force terms...\n",
      "INFO:relative:Adding angle force terms...\n",
      "INFO:relative:Adding torsion force terms...\n",
      "INFO:relative:Adding nonbonded force terms...\n",
      "INFO:relative:\t_add_nonbonded_force_terms: <simtk.openmm.openmm.NonbondedForce; proxy of <Swig Object of type 'OpenMM::NonbondedForce *' at 0x2b9b6f6e9ba0> > added to hybrid system\n",
      "INFO:relative:\t_add_nonbonded_force_terms: nonbonded_method is PME or Ewald\n",
      "INFO:relative:\t_add_nonbonded_force_terms: 4 added to standard nonbonded force\n",
      "INFO:relative:\t_add_nonbonded_force_terms: 2 added to sterics_custom_nonbonded force\n",
      "INFO:relative:\t_add_nonbonded_force_terms: <simtk.openmm.openmm.CustomNonbondedForce; proxy of <Swig Object of type 'OpenMM::CustomNonbondedForce *' at 0x2b9b6f6e9a50> > added to hybrid system\n",
      "INFO:relative:Handling harmonic bonds...\n",
      "INFO:relative:\thandle_harmonic_bonds: looping through old_system to add relevant terms...\n",
      "INFO:relative:\thandle_harmonic_bonds: looping through new_system to add relevant terms...\n",
      "INFO:relative:Handling harmonic angles...\n",
      "INFO:relative:\thandle_harmonic_angles: looping through old_system to add relevant terms...\n",
      "INFO:relative:\thandle_harmonic_angles: looping through new_system to add relevant terms...\n",
      "INFO:relative:Handling torsion forces...\n",
      "INFO:relative:\thandle_periodic_torsion_forces: looping through old_system to add relevant terms...\n",
      "INFO:relative:\thandle_periodic_torsion_forces: looping through new_system to add relevant terms...\n",
      "INFO:relative:Handling nonbonded forces...\n",
      "INFO:relative:\thandle_nonbonded: looping through all particles in hybrid...\n",
      "INFO:relative:\thandle_nonbonded: Handling Interaction Groups...\n",
      "INFO:relative:\thandle_nonbonded: Handling Hybrid Exceptions...\n",
      "INFO:relative:\thandle_nonbonded: Handling Original Exceptions...\n",
      "INFO:relative:Handling unique_new/old interaction exceptions...\n",
      "INFO:relative:There are old or new system exceptions...proceeding.\n"
     ]
    }
   ],
   "source": [
    "solvent_delivery = PointMutationExecutor(\"../../input/mmc2_barstar.pdb\", \n",
    "                        '1', # First chain is the barstar one\n",
    "                        '42', \n",
    "                        'ALA',\n",
    "                        ligand_file=\"../../input/mmc2_barnase.pdb\",\n",
    "                        ionic_strength=0.05*unit.molar,\n",
    "                        flatten_torsions=True,\n",
    "                        flatten_exceptions=True, \n",
    "                        conduct_endstate_validation=False \n",
    "                       )"
   ]
  },
  {
   "cell_type": "code",
   "execution_count": 4,
   "id": "sufficient-performer",
   "metadata": {},
   "outputs": [],
   "source": [
    "import pickle\n",
    "import os\n",
    "pickle.dump(solvent_delivery.get_apo_htf(), open(os.path.join(\"T42A_apo.pickle\"), \"wb\" ))\n",
    "pickle.dump(solvent_delivery.get_complex_htf(), open(os.path.join(\"T42A_complex.pickle\"), \"wb\" ))\n"
   ]
  },
  {
   "cell_type": "code",
   "execution_count": 16,
   "id": "polished-appeal",
   "metadata": {},
   "outputs": [],
   "source": [
    "htf = pickle.load(open(os.path.join(\"T42A_apo.pickle\"), \"rb\" ))"
   ]
  },
  {
   "cell_type": "code",
   "execution_count": 18,
   "id": "subtle-reading",
   "metadata": {},
   "outputs": [],
   "source": [
    "pickle.dump(htf, open(os.path.join(\"/data/chodera/zhangi/perses_benchmark/repex/31/0/1/1_complex.pickle\"), \"wb\" ))\n"
   ]
  },
  {
   "cell_type": "code",
   "execution_count": 8,
   "id": "least-welding",
   "metadata": {},
   "outputs": [
    {
     "data": {
      "text/plain": [
       "<mdtraj.Topology with 4 chains, 4579 residues, 14881 atoms, 10406 bonds at 0x2b9c9aba0a60>"
      ]
     },
     "execution_count": 8,
     "metadata": {},
     "output_type": "execute_result"
    }
   ],
   "source": [
    "htf.hybrid_topology"
   ]
  },
  {
   "cell_type": "code",
   "execution_count": 19,
   "id": "presidential-eagle",
   "metadata": {},
   "outputs": [],
   "source": [
    "htf = pickle.load(open(\"/data/chodera/zhangi/perses_benchmark/repex/31/0/1/1_complex.pickle\", \"rb\" ))"
   ]
  },
  {
   "cell_type": "code",
   "execution_count": 20,
   "id": "hidden-lingerie",
   "metadata": {},
   "outputs": [
    {
     "data": {
      "text/plain": [
       "<mdtraj.Topology with 4 chains, 4579 residues, 14881 atoms, 10406 bonds at 0x2b9ca6e7d190>"
      ]
     },
     "execution_count": 20,
     "metadata": {},
     "output_type": "execute_result"
    }
   ],
   "source": [
    "htf.hybrid_topology"
   ]
  },
  {
   "cell_type": "code",
   "execution_count": null,
   "id": "digital-screen",
   "metadata": {},
   "outputs": [],
   "source": []
  }
 ],
 "metadata": {
  "kernelspec": {
   "display_name": "Python 3",
   "language": "python",
   "name": "python3"
  },
  "language_info": {
   "codemirror_mode": {
    "name": "ipython",
    "version": 3
   },
   "file_extension": ".py",
   "mimetype": "text/x-python",
   "name": "python",
   "nbconvert_exporter": "python",
   "pygments_lexer": "ipython3",
   "version": "3.8.6"
  }
 },
 "nbformat": 4,
 "nbformat_minor": 5
}
