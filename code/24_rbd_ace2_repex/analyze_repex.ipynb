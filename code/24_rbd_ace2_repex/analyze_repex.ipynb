{
 "cells": [
  {
   "cell_type": "code",
   "execution_count": 1,
   "metadata": {},
   "outputs": [],
   "source": [
    "from perses.analysis import utils\n",
    "from openmmtools.multistate import MultiStateReporter, MultiStateSamplerAnalyzer\n",
    "from simtk import unit\n",
    "import os\n",
    "import itertools\n",
    "from tqdm import tqdm_notebook\n",
    "import pandas as pd\n",
    "import numpy as np\n",
    "import seaborn as sns\n",
    "import matplotlib.pyplot as plt\n",
    "import logging\n",
    "from perses.analysis import utils\n"
   ]
  },
  {
   "cell_type": "code",
   "execution_count": 2,
   "metadata": {},
   "outputs": [],
   "source": [
    "# Given a path, get dg and ddg\n",
    "def analyze(path):\n",
    "    reporter = MultiStateReporter(path)\n",
    "    analyzer = MultiStateSamplerAnalyzer(reporter)\n",
    "    f_ij, df_ij = analyzer.get_free_energy()\n",
    "    f = f_ij[0,-1] # units = kT\n",
    "#     f = f_ij[0,-1] * analyzer.kT\n",
    "#     dg = f.in_units_of(unit.kilocalories_per_mole)\n",
    "    df = df_ij[0, -1]\n",
    "#     df = df_ij[0, -1] * analyzer.kT\n",
    "#     ddg = df.in_units_of(unit.kilocalories_per_mole)\n",
    "    return f, df\n",
    "\n",
    "def analyze_dom(path):\n",
    "    reporter = MultiStateReporter(path)\n",
    "    ncfile = utils.open_netcdf(path)\n",
    "    n_iterations = ncfile.variables['last_iteration'][0]\n",
    "    print(f\"n_iterations: {n_iterations}\")\n",
    "    dg, ddg = list(), list()\n",
    "    for step in range (1, n_iterations, 500): # add 1 because not 0-indexed -- didn't do this because the last cycle was truncated\n",
    "        analyzer = MultiStateSamplerAnalyzer(reporter, max_n_iterations=step)\n",
    "        f_ij, df_ij = analyzer.get_free_energy()\n",
    "        dg.append(f_ij[0,-1])\n",
    "        ddg.append(df_ij[0,-1])\n",
    "    # Get final free energy\n",
    "    analyzer = MultiStateSamplerAnalyzer(reporter, max_n_iterations=n_iterations)\n",
    "    f_ij, df_ij = analyzer.get_free_energy()\n",
    "    dg.append(f_ij[0,-1])\n",
    "    ddg.append(df_ij[0,-1])\n",
    "    return np.array(dg), np.array(ddg)"
   ]
  },
  {
   "cell_type": "markdown",
   "metadata": {},
   "source": [
    "### 5 ns N501Y complex (repex/31/1/)"
   ]
  },
  {
   "cell_type": "code",
   "execution_count": 4,
   "metadata": {},
   "outputs": [],
   "source": [
    "_logger = logging.getLogger()\n",
    "_logger.setLevel(logging.INFO)"
   ]
  },
  {
   "cell_type": "code",
   "execution_count": 5,
   "metadata": {},
   "outputs": [],
   "source": [
    "main_dir = 31\n",
    "sub_dir = 1"
   ]
  },
  {
   "cell_type": "code",
   "execution_count": 6,
   "metadata": {},
   "outputs": [
    {
     "name": "stderr",
     "output_type": "stream",
     "text": [
      "<ipython-input-6-082b77440da6>:1: TqdmDeprecationWarning: This function will be removed in tqdm==5.0.0\n",
      "Please use `tqdm.notebook.tqdm` instead of `tqdm.tqdm_notebook`\n",
      "  for r in tqdm_notebook([0, 1, 2]):\n"
     ]
    },
    {
     "data": {
      "application/vnd.jupyter.widget-view+json": {
       "model_id": "",
       "version_major": 2,
       "version_minor": 0
      },
      "text/plain": [
       "  0%|          | 0/3 [00:00<?, ?it/s]"
      ]
     },
     "metadata": {},
     "output_type": "display_data"
    },
    {
     "name": "stderr",
     "output_type": "stream",
     "text": [
      "Warning: The openmmtools.multistate API is experimental and may change in future releases\n",
      "Warning: The openmmtools.multistate API is experimental and may change in future releases\n"
     ]
    },
    {
     "name": "stdout",
     "output_type": "stream",
     "text": [
      "replicate 0\n",
      "analyzing complex\n",
      "n_iterations: 4341\n"
     ]
    },
    {
     "name": "stderr",
     "output_type": "stream",
     "text": [
      "Warning: The openmmtools.multistate API is experimental and may change in future releases\n",
      "Warning: The openmmtools.multistate API is experimental and may change in future releases\n",
      "Warning: The openmmtools.multistate API is experimental and may change in future releases\n",
      "Warning: The openmmtools.multistate API is experimental and may change in future releases\n",
      "Warning: The openmmtools.multistate API is experimental and may change in future releases\n",
      "Warning: The openmmtools.multistate API is experimental and may change in future releases\n",
      "Warning: The openmmtools.multistate API is experimental and may change in future releases\n",
      "Warning: The openmmtools.multistate API is experimental and may change in future releases\n",
      "Warning: The openmmtools.multistate API is experimental and may change in future releases\n",
      "Warning: The openmmtools.multistate API is experimental and may change in future releases\n",
      "Warning: The openmmtools.multistate API is experimental and may change in future releases\n"
     ]
    },
    {
     "name": "stdout",
     "output_type": "stream",
     "text": [
      "replicate 1\n",
      "analyzing complex\n",
      "n_iterations: 3911\n"
     ]
    },
    {
     "name": "stderr",
     "output_type": "stream",
     "text": [
      "Warning: The openmmtools.multistate API is experimental and may change in future releases\n",
      "Warning: The openmmtools.multistate API is experimental and may change in future releases\n",
      "Warning: The openmmtools.multistate API is experimental and may change in future releases\n",
      "Warning: The openmmtools.multistate API is experimental and may change in future releases\n",
      "Warning: The openmmtools.multistate API is experimental and may change in future releases\n",
      "Warning: The openmmtools.multistate API is experimental and may change in future releases\n",
      "Warning: The openmmtools.multistate API is experimental and may change in future releases\n",
      "Warning: The openmmtools.multistate API is experimental and may change in future releases\n",
      "Warning: The openmmtools.multistate API is experimental and may change in future releases\n",
      "Warning: The openmmtools.multistate API is experimental and may change in future releases\n"
     ]
    },
    {
     "name": "stdout",
     "output_type": "stream",
     "text": [
      "replicate 2\n",
      "analyzing complex\n",
      "n_iterations: 4311\n"
     ]
    },
    {
     "name": "stderr",
     "output_type": "stream",
     "text": [
      "Warning: The openmmtools.multistate API is experimental and may change in future releases\n",
      "Warning: The openmmtools.multistate API is experimental and may change in future releases\n",
      "Warning: The openmmtools.multistate API is experimental and may change in future releases\n",
      "Warning: The openmmtools.multistate API is experimental and may change in future releases\n",
      "Warning: The openmmtools.multistate API is experimental and may change in future releases\n",
      "Warning: The openmmtools.multistate API is experimental and may change in future releases\n",
      "Warning: The openmmtools.multistate API is experimental and may change in future releases\n",
      "Warning: The openmmtools.multistate API is experimental and may change in future releases\n",
      "Warning: The openmmtools.multistate API is experimental and may change in future releases\n"
     ]
    }
   ],
   "source": [
    "for r in tqdm_notebook([0, 1, 2]):\n",
    "    print (f\"replicate {r}\")\n",
    "    output_dir = f'/data/chodera/zhangi/perses_benchmark/repex/{main_dir}/{sub_dir}/{r}/'\n",
    "    complex_path = os.path.join(output_dir, f\"{r}_complex.nc\")\n",
    "    print(\"analyzing complex\")\n",
    "    complex_dg, complex_ddg = analyze_dom(complex_path)\n",
    "    results = np.array([complex_dg, complex_ddg])\n",
    "    with open(f'/data/chodera/zhangi/perses_benchmark/repex/{main_dir}/{sub_dir}/{r}/results.npy', 'wb') as f:\n",
    "        np.save(f, results)"
   ]
  },
  {
   "cell_type": "code",
   "execution_count": null,
   "metadata": {},
   "outputs": [],
   "source": []
  },
  {
   "cell_type": "code",
   "execution_count": 7,
   "metadata": {
    "scrolled": true
   },
   "outputs": [
    {
     "name": "stdout",
     "output_type": "stream",
     "text": [
      "shape: (2, 10)\n",
      "array.shape: (20,)\n",
      "0: 121.79737989357547 (0.8010938610450041) kT\n",
      "shape: (2, 9)\n",
      "array.shape: (18,)\n",
      "1: 120.88578649327673 (1.271109384074034) kT\n",
      "shape: (2, 10)\n",
      "array.shape: (20,)\n",
      "2: 118.20740301264948 (1.6633902937556202) kT\n"
     ]
    }
   ],
   "source": [
    "# Read the dicts in and compute free energies\n",
    "import numpy as np\n",
    "d_results = {}\n",
    "for r in [0, 1, 2]:\n",
    "    with open(f\"/data/chodera/zhangi/perses_benchmark/repex/{main_dir}/{sub_dir}/{r}/results.npy\", \"rb\") as f:\n",
    "        results = np.load(f, allow_pickle=True)\n",
    "        d_results[r] = results\n",
    "        print(f\"{r}: {results[0][-1]} ({results[1][-1]}) kT\")\n"
   ]
  },
  {
   "cell_type": "code",
   "execution_count": 13,
   "metadata": {
    "scrolled": false
   },
   "outputs": [],
   "source": [
    "def plot_series(dg, ddg, r, phase, title):\n",
    "    fig, axes = plt.subplots(nrows=2, ncols=1, sharex='col', figsize=(10,2*3), squeeze=True)\n",
    "    for r in range(len(dg)):\n",
    "        dg_discarded = dg[r][1:] # 1 * 500 = 500 ps discarded\n",
    "        ddg_discarded = ddg[r][1:]\n",
    "    \n",
    "        # dg\n",
    "        ax = axes[0]\n",
    "        x = [(j)*0.5 + 0.5 for j in range(len(dg_discarded))] # *0.2 bc computing energy every 200 ps\n",
    "        y = dg_discarded\n",
    "        ax.plot(x, y, color=sns.color_palette()[r])\n",
    "        ax.fill_between(x, y - ddg_discarded, y + ddg_discarded, alpha=0.5)\n",
    "\n",
    "        # ddg\n",
    "        ax = axes[1]\n",
    "        x = [(j)*0.5 + 0.5 for j in range(len(ddg_discarded))]\n",
    "        y = ddg_discarded\n",
    "        ax.plot(x, y, color=sns.color_palette()[0])\n",
    "\n",
    "    axes[0].set_ylabel(\"dG (kT)\")\n",
    "    axes[1].set_ylabel(\"ddG (kT)\")\n",
    "    axes[1].set_xlabel(\"$t_{repex}$ (ns)\")\n",
    "    \n",
    "    axes[0].set_title(f\"{title} {phase}\")\n",
    "    plt.show()\n",
    "#     plt.savefig(f\"/data/chodera/zhangi/perses_benchmark/repex/31/1/{r}/{r}_{phase}_series.png\", dpi=500)\n",
    "#     plt.clf()"
   ]
  },
  {
   "cell_type": "code",
   "execution_count": 14,
   "metadata": {},
   "outputs": [
    {
     "data": {
      "text/plain": [
       "{0: array([[1.25374650e+02, 1.18904972e+02, 1.22693040e+02, 1.20998279e+02,\n",
       "         1.22791137e+02, 1.21536500e+02, 1.19403992e+02, 1.19984916e+02,\n",
       "         1.19909532e+02, 1.21797380e+02],\n",
       "        [5.84794203e+04, 1.43091057e+00, 1.31087811e+00, 1.44393088e+00,\n",
       "         8.96203048e-01, 1.29057389e+00, 1.55875117e+00, 1.45628428e+00,\n",
       "         1.08247815e+00, 8.01093861e-01]]),\n",
       " 1: array([[1.36976701e+02, 1.18063808e+02, 1.24065849e+02, 1.18810385e+02,\n",
       "         1.18479443e+02, 1.19303433e+02, 1.17811394e+02, 1.23566992e+02,\n",
       "         1.20885786e+02],\n",
       "        [1.59872235e+04, 1.29740689e+00, 1.21998577e+00, 1.32488186e+00,\n",
       "         1.12858100e+00, 9.91126894e-01, 1.21861352e+00, 1.09167840e+00,\n",
       "         1.27110938e+00]]),\n",
       " 2: array([[120.07592163, 118.83924187, 114.72757215, 114.52249662,\n",
       "         107.70835827, 111.77398903, 112.29938428, 119.07831118,\n",
       "         113.94390139, 118.20740301],\n",
       "        [550.0927935 ,   2.48429452,   1.47809474,   1.41344533,\n",
       "           0.97781567,   0.95360195,   0.88146197,   2.08549832,\n",
       "           1.11151972,   1.66339029]])}"
      ]
     },
     "execution_count": 14,
     "metadata": {},
     "output_type": "execute_result"
    }
   ],
   "source": [
    "d_results"
   ]
  },
  {
   "cell_type": "code",
   "execution_count": 15,
   "metadata": {
    "scrolled": true
   },
   "outputs": [
    {
     "name": "stdout",
     "output_type": "stream",
     "text": [
      "0\n"
     ]
    },
    {
     "data": {
      "image/png": "[encoded data removed]",
      "text/plain": [
       "<Figure size 720x432 with 2 Axes>"
      ]
     },
     "metadata": {
      "needs_background": "light"
     },
     "output_type": "display_data"
    }
   ],
   "source": [
    "#### MAKE SURE TO CHANGE PATH IN PLOT_SERIES() ####\n",
    "\n",
    "titles = ['N501Y']\n",
    "\n",
    "# Generate dg, ddg, and discrepancy vs. time plots\n",
    "for i, title in enumerate(titles):\n",
    "    print(i)\n",
    "    complex_dg = []\n",
    "    complex_ddg = []\n",
    "    for r in [0, 1, 2]:\n",
    "        complex_dg.append(d_results[r][0])\n",
    "        complex_ddg.append(d_results[r][1])\n",
    "\n",
    "    plot_series(complex_dg, complex_ddg, r, 'complex', title)\n",
    "    \n",
    "\n",
    "    \n"
   ]
  },
  {
   "cell_type": "code",
   "execution_count": 11,
   "metadata": {},
   "outputs": [
    {
     "name": "stdout",
     "output_type": "stream",
     "text": [
      "replicate 0 complex\n",
      "replicate 1 complex\n",
      "replicate 2 complex\n"
     ]
    },
    {
     "data": {
      "text/plain": [
       "<Figure size 1080x1584 with 0 Axes>"
      ]
     },
     "metadata": {},
     "output_type": "display_data"
    },
    {
     "data": {
      "text/plain": [
       "<Figure size 1080x1584 with 0 Axes>"
      ]
     },
     "metadata": {},
     "output_type": "display_data"
    },
    {
     "data": {
      "text/plain": [
       "<Figure size 1080x1584 with 0 Axes>"
      ]
     },
     "metadata": {},
     "output_type": "display_data"
    }
   ],
   "source": [
    "# Generate replica mixing plots\n",
    "titles = ['N501Y']\n",
    "for r in [0, 1, 2]:\n",
    "    print (f\"replicate {r} complex\")\n",
    "    path = f\"/data/chodera/zhangi/perses_benchmark/repex/31/1/{r}/{r}_complex.nc\"\n",
    "    utils.plot_replica_mixing(path, title=f\"{titles[i]} complex replicate {r}\", filename=f\"{path[:-3]}_replicas.png\")\n",
    "    plt.clf()\n"
   ]
  },
  {
   "cell_type": "code",
   "execution_count": null,
   "metadata": {},
   "outputs": [],
   "source": []
  },
  {
   "cell_type": "markdown",
   "metadata": {},
   "source": [
    "### 5 ns N439K complex (repex/31/2/)"
   ]
  },
  {
   "cell_type": "code",
   "execution_count": 16,
   "metadata": {},
   "outputs": [],
   "source": [
    "_logger = logging.getLogger()\n",
    "_logger.setLevel(logging.INFO)"
   ]
  },
  {
   "cell_type": "code",
   "execution_count": 17,
   "metadata": {},
   "outputs": [],
   "source": [
    "main_dir = 31\n",
    "sub_dir = 2"
   ]
  },
  {
   "cell_type": "code",
   "execution_count": 18,
   "metadata": {},
   "outputs": [
    {
     "name": "stderr",
     "output_type": "stream",
     "text": [
      "<ipython-input-18-082b77440da6>:1: TqdmDeprecationWarning: This function will be removed in tqdm==5.0.0\n",
      "Please use `tqdm.notebook.tqdm` instead of `tqdm.tqdm_notebook`\n",
      "  for r in tqdm_notebook([0, 1, 2]):\n"
     ]
    },
    {
     "data": {
      "application/vnd.jupyter.widget-view+json": {
       "model_id": "403b160f500145edb5ae34662e6f25d9",
       "version_major": 2,
       "version_minor": 0
      },
      "text/plain": [
       "  0%|          | 0/3 [00:00<?, ?it/s]"
      ]
     },
     "metadata": {},
     "output_type": "display_data"
    },
    {
     "name": "stderr",
     "output_type": "stream",
     "text": [
      "Warning: The openmmtools.multistate API is experimental and may change in future releases\n",
      "Warning: The openmmtools.multistate API is experimental and may change in future releases\n"
     ]
    },
    {
     "name": "stdout",
     "output_type": "stream",
     "text": [
      "replicate 0\n",
      "analyzing complex\n",
      "n_iterations: 3476\n"
     ]
    },
    {
     "name": "stderr",
     "output_type": "stream",
     "text": [
      "Warning: The openmmtools.multistate API is experimental and may change in future releases\n",
      "Warning: The openmmtools.multistate API is experimental and may change in future releases\n",
      "Warning: The openmmtools.multistate API is experimental and may change in future releases\n",
      "Warning: The openmmtools.multistate API is experimental and may change in future releases\n",
      "Warning: The openmmtools.multistate API is experimental and may change in future releases\n",
      "Warning: The openmmtools.multistate API is experimental and may change in future releases\n",
      "Warning: The openmmtools.multistate API is experimental and may change in future releases\n",
      "Warning: The openmmtools.multistate API is experimental and may change in future releases\n",
      "Warning: The openmmtools.multistate API is experimental and may change in future releases\n"
     ]
    },
    {
     "name": "stdout",
     "output_type": "stream",
     "text": [
      "replicate 1\n",
      "analyzing complex\n",
      "n_iterations: 4810\n"
     ]
    },
    {
     "name": "stderr",
     "output_type": "stream",
     "text": [
      "Warning: The openmmtools.multistate API is experimental and may change in future releases\n",
      "Warning: The openmmtools.multistate API is experimental and may change in future releases\n",
      "Warning: The openmmtools.multistate API is experimental and may change in future releases\n",
      "Warning: The openmmtools.multistate API is experimental and may change in future releases\n",
      "Warning: The openmmtools.multistate API is experimental and may change in future releases\n",
      "Warning: The openmmtools.multistate API is experimental and may change in future releases\n",
      "Warning: The openmmtools.multistate API is experimental and may change in future releases\n",
      "Warning: The openmmtools.multistate API is experimental and may change in future releases\n",
      "Warning: The openmmtools.multistate API is experimental and may change in future releases\n",
      "Warning: The openmmtools.multistate API is experimental and may change in future releases\n",
      "Warning: The openmmtools.multistate API is experimental and may change in future releases\n",
      "Warning: The openmmtools.multistate API is experimental and may change in future releases\n"
     ]
    },
    {
     "name": "stdout",
     "output_type": "stream",
     "text": [
      "replicate 2\n",
      "analyzing complex\n",
      "n_iterations: 4957\n"
     ]
    },
    {
     "name": "stderr",
     "output_type": "stream",
     "text": [
      "Warning: The openmmtools.multistate API is experimental and may change in future releases\n",
      "Warning: The openmmtools.multistate API is experimental and may change in future releases\n",
      "Warning: The openmmtools.multistate API is experimental and may change in future releases\n",
      "Warning: The openmmtools.multistate API is experimental and may change in future releases\n",
      "Warning: The openmmtools.multistate API is experimental and may change in future releases\n",
      "Warning: The openmmtools.multistate API is experimental and may change in future releases\n",
      "Warning: The openmmtools.multistate API is experimental and may change in future releases\n",
      "Warning: The openmmtools.multistate API is experimental and may change in future releases\n",
      "Warning: The openmmtools.multistate API is experimental and may change in future releases\n",
      "Warning: The openmmtools.multistate API is experimental and may change in future releases\n"
     ]
    }
   ],
   "source": [
    "for r in tqdm_notebook([0, 1, 2]):\n",
    "    print (f\"replicate {r}\")\n",
    "    output_dir = f'/data/chodera/zhangi/perses_benchmark/repex/{main_dir}/{sub_dir}/{r}/'\n",
    "    complex_path = os.path.join(output_dir, f\"{r}_complex.nc\")\n",
    "    print(\"analyzing complex\")\n",
    "    complex_dg, complex_ddg = analyze_dom(complex_path)\n",
    "    results = np.array([complex_dg, complex_ddg])\n",
    "    with open(f'/data/chodera/zhangi/perses_benchmark/repex/{main_dir}/{sub_dir}/{r}/results.npy', 'wb') as f:\n",
    "        np.save(f, results)"
   ]
  },
  {
   "cell_type": "code",
   "execution_count": null,
   "metadata": {},
   "outputs": [],
   "source": []
  },
  {
   "cell_type": "code",
   "execution_count": 19,
   "metadata": {
    "scrolled": true
   },
   "outputs": [
    {
     "name": "stdout",
     "output_type": "stream",
     "text": [
      "shape: (2, 8)\n",
      "array.shape: (16,)\n",
      "0: -25.013264973049118 (1.153357493051699) kT\n",
      "shape: (2, 11)\n",
      "array.shape: (22,)\n",
      "1: -18.19309717388876 (0.9457393850184148) kT\n",
      "shape: (2, 11)\n",
      "array.shape: (22,)\n",
      "2: -22.586815965414203 (0.7877438909857486) kT\n"
     ]
    }
   ],
   "source": [
    "# Read the dicts in and compute free energies\n",
    "import numpy as np\n",
    "d_results = {}\n",
    "for r in [0, 1, 2]:\n",
    "    with open(f\"/data/chodera/zhangi/perses_benchmark/repex/{main_dir}/{sub_dir}/{r}/results.npy\", \"rb\") as f:\n",
    "        results = np.load(f, allow_pickle=True)\n",
    "        d_results[r] = results\n",
    "        print(f\"{r}: {results[0][-1]} ({results[1][-1]}) kT\")\n"
   ]
  },
  {
   "cell_type": "code",
   "execution_count": 24,
   "metadata": {},
   "outputs": [
    {
     "data": {
      "text/html": [
       "<svg  width=\"550\" height=\"55\"><rect x=\"0\" y=\"0\" width=\"55\" height=\"55\" style=\"fill:#1f77b4;stroke-width:2;stroke:rgb(255,255,255)\"/><rect x=\"55\" y=\"0\" width=\"55\" height=\"55\" style=\"fill:#ff7f0e;stroke-width:2;stroke:rgb(255,255,255)\"/><rect x=\"110\" y=\"0\" width=\"55\" height=\"55\" style=\"fill:#2ca02c;stroke-width:2;stroke:rgb(255,255,255)\"/><rect x=\"165\" y=\"0\" width=\"55\" height=\"55\" style=\"fill:#d62728;stroke-width:2;stroke:rgb(255,255,255)\"/><rect x=\"220\" y=\"0\" width=\"55\" height=\"55\" style=\"fill:#9467bd;stroke-width:2;stroke:rgb(255,255,255)\"/><rect x=\"275\" y=\"0\" width=\"55\" height=\"55\" style=\"fill:#8c564b;stroke-width:2;stroke:rgb(255,255,255)\"/><rect x=\"330\" y=\"0\" width=\"55\" height=\"55\" style=\"fill:#e377c2;stroke-width:2;stroke:rgb(255,255,255)\"/><rect x=\"385\" y=\"0\" width=\"55\" height=\"55\" style=\"fill:#7f7f7f;stroke-width:2;stroke:rgb(255,255,255)\"/><rect x=\"440\" y=\"0\" width=\"55\" height=\"55\" style=\"fill:#bcbd22;stroke-width:2;stroke:rgb(255,255,255)\"/><rect x=\"495\" y=\"0\" width=\"55\" height=\"55\" style=\"fill:#17becf;stroke-width:2;stroke:rgb(255,255,255)\"/></svg>"
      ],
      "text/plain": [
       "[(0.12156862745098039, 0.4666666666666667, 0.7058823529411765),\n",
       " (1.0, 0.4980392156862745, 0.054901960784313725),\n",
       " (0.17254901960784313, 0.6274509803921569, 0.17254901960784313),\n",
       " (0.8392156862745098, 0.15294117647058825, 0.1568627450980392),\n",
       " (0.5803921568627451, 0.403921568627451, 0.7411764705882353),\n",
       " (0.5490196078431373, 0.33725490196078434, 0.29411764705882354),\n",
       " (0.8901960784313725, 0.4666666666666667, 0.7607843137254902),\n",
       " (0.4980392156862745, 0.4980392156862745, 0.4980392156862745),\n",
       " (0.7372549019607844, 0.7411764705882353, 0.13333333333333333),\n",
       " (0.09019607843137255, 0.7450980392156863, 0.8117647058823529)]"
      ]
     },
     "execution_count": 24,
     "metadata": {},
     "output_type": "execute_result"
    }
   ],
   "source": [
    "sns.color_palette()"
   ]
  },
  {
   "cell_type": "code",
   "execution_count": 20,
   "metadata": {
    "scrolled": false
   },
   "outputs": [],
   "source": [
    "def plot_series(dg, ddg, r, phase, title):\n",
    "    fig, axes = plt.subplots(nrows=2, ncols=1, sharex='col', figsize=(10,2*3), squeeze=True)\n",
    "    for r in range(len(dg)):\n",
    "        dg_discarded = dg[r][1:] # 1 * 500 = 500 ps discarded\n",
    "        ddg_discarded = ddg[r][1:]\n",
    "    \n",
    "        # dg\n",
    "        ax = axes[0]\n",
    "        x = [(j)*0.5 + 0.5 for j in range(len(dg_discarded))] # *0.2 bc computing energy every 200 ps\n",
    "        y = dg_discarded\n",
    "        ax.plot(x, y, color=sns.color_palette()[r])\n",
    "        ax.fill_between(x, y - ddg_discarded, y + ddg_discarded, alpha=0.5)\n",
    "\n",
    "        # ddg\n",
    "        ax = axes[1]\n",
    "        x = [(j)*0.5 + 0.5 for j in range(len(ddg_discarded))]\n",
    "        y = ddg_discarded\n",
    "        ax.plot(x, y, color=sns.color_palette()[0])\n",
    "\n",
    "    axes[0].set_ylabel(\"dG (kT)\")\n",
    "    axes[1].set_ylabel(\"ddG (kT)\")\n",
    "    axes[1].set_xlabel(\"$t_{repex}$ (ns)\")\n",
    "    \n",
    "    axes[0].set_title(f\"{title} {phase}\")\n",
    "    plt.show()\n",
    "#     plt.savefig(f\"/data/chodera/zhangi/perses_benchmark/repex/31/1/{r}/{r}_{phase}_series.png\", dpi=500)\n",
    "#     plt.clf()"
   ]
  },
  {
   "cell_type": "code",
   "execution_count": 21,
   "metadata": {},
   "outputs": [
    {
     "data": {
      "text/plain": [
       "{0: array([[ 1.76030515e+01, -2.43708221e+01, -2.41413142e+01,\n",
       "         -2.32016128e+01, -2.64498925e+01, -2.28058433e+01,\n",
       "         -2.00110270e+01, -2.50132650e+01],\n",
       "        [ 5.61640650e+03,  2.18397487e+00,  1.24496936e+00,\n",
       "          1.36582765e+00,  1.60924081e+00,  1.62892212e+00,\n",
       "          1.23977054e+00,  1.15335749e+00]]),\n",
       " 1: array([[  4.37905136, -30.46977265, -23.1353227 , -24.36580037,\n",
       "         -26.36684098, -26.35098806, -21.43762907, -22.77031495,\n",
       "         -20.14124153, -20.66905928, -18.19309717],\n",
       "        [102.61119767,   2.04230889,   1.50728859,   1.44533344,\n",
       "           1.52366432,   1.23443749,   1.33123098,   1.25623766,\n",
       "           0.95246153,   0.90501066,   0.94573939]]),\n",
       " 2: array([[ 6.62894791e+00, -2.46591873e+01, -2.92757869e+01,\n",
       "         -1.99803062e+01, -2.17799789e+01, -2.17849019e+01,\n",
       "         -2.17126846e+01, -2.22483655e+01, -2.30002049e+01,\n",
       "         -2.46622463e+01, -2.25868160e+01],\n",
       "        [ 2.79407081e+03,  2.11494827e+00,  1.59545817e+00,\n",
       "          1.43951332e+00,  1.11267476e+00,  1.11648812e+00,\n",
       "          9.55276645e-01,  8.14056596e-01,  1.09356423e+00,\n",
       "          1.09394645e+00,  7.87743891e-01]])}"
      ]
     },
     "execution_count": 21,
     "metadata": {},
     "output_type": "execute_result"
    }
   ],
   "source": [
    "d_results"
   ]
  },
  {
   "cell_type": "code",
   "execution_count": 22,
   "metadata": {
    "scrolled": true
   },
   "outputs": [
    {
     "name": "stdout",
     "output_type": "stream",
     "text": [
      "0\n"
     ]
    },
    {
     "data": {
      "image/png": "[encoded data removed]",
      "text/plain": [
       "<Figure size 720x432 with 2 Axes>"
      ]
     },
     "metadata": {
      "needs_background": "light"
     },
     "output_type": "display_data"
    }
   ],
   "source": [
    "#### MAKE SURE TO CHANGE PATH IN PLOT_SERIES() ####\n",
    "\n",
    "titles = ['N439K']\n",
    "\n",
    "# Generate dg, ddg, and discrepancy vs. time plots\n",
    "for i, title in enumerate(titles):\n",
    "    print(i)\n",
    "    complex_dg = []\n",
    "    complex_ddg = []\n",
    "    for r in [0, 1, 2]:\n",
    "        complex_dg.append(d_results[r][0])\n",
    "        complex_ddg.append(d_results[r][1])\n",
    "\n",
    "    plot_series(complex_dg, complex_ddg, r, 'complex', title)\n",
    "    \n",
    "\n",
    "    \n"
   ]
  },
  {
   "cell_type": "code",
   "execution_count": 23,
   "metadata": {},
   "outputs": [
    {
     "name": "stdout",
     "output_type": "stream",
     "text": [
      "replicate 0 complex\n",
      "replicate 1 complex\n",
      "replicate 2 complex\n"
     ]
    },
    {
     "data": {
      "text/plain": [
       "<Figure size 1080x1584 with 0 Axes>"
      ]
     },
     "metadata": {},
     "output_type": "display_data"
    },
    {
     "data": {
      "text/plain": [
       "<Figure size 1080x1584 with 0 Axes>"
      ]
     },
     "metadata": {},
     "output_type": "display_data"
    },
    {
     "data": {
      "text/plain": [
       "<Figure size 1080x1584 with 0 Axes>"
      ]
     },
     "metadata": {},
     "output_type": "display_data"
    }
   ],
   "source": [
    "# Generate replica mixing plots\n",
    "titles = ['N439K']\n",
    "for r in [0, 1, 2]:\n",
    "    print (f\"replicate {r} complex\")\n",
    "    path = f\"/data/chodera/zhangi/perses_benchmark/repex/31/1/{r}/{r}_complex.nc\"\n",
    "    utils.plot_replica_mixing(path, title=f\"{titles[i]} complex replicate {r}\", filename=f\"{path[:-3]}_replicas.png\")\n",
    "    plt.clf()\n"
   ]
  },
  {
   "cell_type": "code",
   "execution_count": null,
   "metadata": {},
   "outputs": [],
   "source": []
  }
 ],
 "metadata": {
  "kernelspec": {
   "display_name": "Python 3",
   "language": "python",
   "name": "python3"
  },
  "language_info": {
   "codemirror_mode": {
    "name": "ipython",
    "version": 3
   },
   "file_extension": ".py",
   "mimetype": "text/x-python",
   "name": "python",
   "nbconvert_exporter": "python",
   "pygments_lexer": "ipython3",
   "version": "3.8.6"
  }
 },
 "nbformat": 4,
 "nbformat_minor": 4
}
