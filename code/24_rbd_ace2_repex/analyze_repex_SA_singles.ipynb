{
 "cells": [
  {
   "cell_type": "code",
   "execution_count": 1,
   "metadata": {},
   "outputs": [],
   "source": [
    "from perses.analysis import utils\n",
    "from openmmtools.multistate import MultiStateReporter, MultiStateSamplerAnalyzer\n",
    "from simtk import unit\n",
    "import os\n",
    "import itertools\n",
    "from tqdm import tqdm_notebook\n",
    "import pandas as pd\n",
    "import numpy as np\n",
    "import seaborn as sns\n",
    "import matplotlib.pyplot as plt\n",
    "import logging\n",
    "from perses.analysis import utils\n",
    "\n",
    "from openmmtools.constants import kB\n",
    "KT_KCALMOL = kB * 298 * unit.kelvin / unit.kilocalories_per_mole\n",
    "\n",
    "import warnings\n",
    "warnings.filterwarnings('ignore')"
   ]
  },
  {
   "cell_type": "code",
   "execution_count": 2,
   "metadata": {},
   "outputs": [],
   "source": [
    "# Given a path, get dg and ddg\n",
    "def analyze(path):\n",
    "    reporter = MultiStateReporter(path)\n",
    "    analyzer = MultiStateSamplerAnalyzer(reporter)\n",
    "    f_ij, df_ij = analyzer.get_free_energy()\n",
    "    f = f_ij[0,-1] # units = kT\n",
    "#     f = f_ij[0,-1] * analyzer.kT\n",
    "#     dg = f.in_units_of(unit.kilocalories_per_mole)\n",
    "    df = df_ij[0, -1]\n",
    "#     df = df_ij[0, -1] * analyzer.kT\n",
    "#     ddg = df.in_units_of(unit.kilocalories_per_mole)\n",
    "    return f, df\n",
    "\n",
    "def analyze_dom(path):\n",
    "    reporter = MultiStateReporter(path)\n",
    "    ncfile = utils.open_netcdf(path)\n",
    "    n_iterations = ncfile.variables['last_iteration'][0]\n",
    "    print(f\"n_iterations: {n_iterations}\")\n",
    "    dg, ddg = list(), list()\n",
    "#     iterations_to_analyze = list(range (1, n_iterations, 500)) + [int(n_iterations-1)]\n",
    "#     print(iterations_to_analyze) # check that this is giving me the last avail iteration\n",
    "#     for step in iterations_to_analyze: \n",
    "#         analyzer = MultiStateSamplerAnalyzer(reporter, max_n_iterations=step)\n",
    "#         f_ij, df_ij = analyzer.get_free_energy()\n",
    "#         dg.append(f_ij[0,-1])\n",
    "#         ddg.append(df_ij[0,-1])\n",
    "    # Get final free energy\n",
    "    analyzer = MultiStateSamplerAnalyzer(reporter, max_n_iterations=n_iterations)\n",
    "    f_ij, df_ij = analyzer.get_free_energy()\n",
    "    dg.append(f_ij[0,-1])\n",
    "    ddg.append(df_ij[0,-1])\n",
    "    return np.array(dg), np.array(ddg)"
   ]
  },
  {
   "cell_type": "markdown",
   "metadata": {},
   "source": [
    "### 5 ns N501Y (repex/31/3/0)"
   ]
  },
  {
   "cell_type": "code",
   "execution_count": 3,
   "metadata": {},
   "outputs": [],
   "source": [
    "_logger = logging.getLogger()\n",
    "_logger.setLevel(logging.INFO)"
   ]
  },
  {
   "cell_type": "code",
   "execution_count": 4,
   "metadata": {},
   "outputs": [],
   "source": [
    "main_dir = 31\n",
    "sub_dir = 3\n",
    "titles = ['N501Y']"
   ]
  },
  {
   "cell_type": "code",
   "execution_count": 14,
   "metadata": {},
   "outputs": [
    {
     "data": {
      "application/vnd.jupyter.widget-view+json": {
       "model_id": "",
       "version_major": 2,
       "version_minor": 0
      },
      "text/plain": [
       "  0%|          | 0/1 [00:00<?, ?it/s]"
      ]
     },
     "metadata": {},
     "output_type": "display_data"
    },
    {
     "name": "stderr",
     "output_type": "stream",
     "text": [
      "Warning: The openmmtools.multistate API is experimental and may change in future releases\n",
      "Warning: The openmmtools.multistate API is experimental and may change in future releases\n"
     ]
    },
    {
     "name": "stdout",
     "output_type": "stream",
     "text": [
      "replicate 0\n",
      "analyzing complex\n",
      "n_iterations: 5000\n"
     ]
    },
    {
     "name": "stderr",
     "output_type": "stream",
     "text": [
      "Warning: The openmmtools.multistate API is experimental and may change in future releases\n",
      "Warning: The openmmtools.multistate API is experimental and may change in future releases\n"
     ]
    },
    {
     "name": "stdout",
     "output_type": "stream",
     "text": [
      "analyzing apo\n",
      "n_iterations: 5000\n"
     ]
    }
   ],
   "source": [
    "for r in tqdm_notebook([0]):\n",
    "    print (f\"replicate {r}\")\n",
    "    output_dir = f'/data/chodera/zhangi/perses_benchmark/repex/{main_dir}/{sub_dir}/{r}/'\n",
    "    \n",
    "    print(\"analyzing complex\")\n",
    "    complex_path = os.path.join(output_dir, f\"{r}_complex.nc\")\n",
    "    complex_dg, complex_ddg = analyze_dom(complex_path)\n",
    "    print(\"analyzing apo\")\n",
    "    apo_path = os.path.join(output_dir, f\"{r}_apo.nc\")\n",
    "    apo_dg, apo_ddg = analyze_dom(apo_path)\n",
    "\n",
    "    results = np.array([complex_dg, complex_ddg, apo_dg, apo_ddg])\n",
    "    with open(f'/data/chodera/zhangi/perses_benchmark/repex/{main_dir}/{sub_dir}/{r}/results.npy', 'wb') as f:\n",
    "        np.save(f, results)"
   ]
  },
  {
   "cell_type": "code",
   "execution_count": 16,
   "metadata": {
    "scrolled": true
   },
   "outputs": [
    {
     "name": "stdout",
     "output_type": "stream",
     "text": [
      "0 complex: 122.43736768923483 (0.9068850135311671) kT\n",
      "0 apo: 110.20324855702171 (0.3821731064401907) kT\n",
      "0 DDG: 12.234119132213124 (0.9841223049263594) kT\n",
      "\n"
     ]
    }
   ],
   "source": [
    "# Read the dicts in and compute free energies (kT)\n",
    "d_results = {}\n",
    "for r in [0]:\n",
    "    with open(f\"/data/chodera/zhangi/perses_benchmark/repex/{main_dir}/{sub_dir}/{r}/results.npy\", \"rb\") as f:\n",
    "        results = np.load(f, allow_pickle=True)\n",
    "        d_results[r] = results\n",
    "        complex_dg, complex_ddg, apo_dg, apo_ddg = [result[-1] for result in results]\n",
    "        print(f\"{r} complex: {complex_dg} ({complex_ddg}) kT\")\n",
    "        print(f\"{r} apo: {apo_dg} ({apo_ddg}) kT\")\n",
    "        binding_dg = complex_dg - apo_dg\n",
    "        binding_ddg = (apo_ddg**2 + complex_ddg**2)**0.5\n",
    "        print(f\"{r} DDG: {binding_dg} ({binding_ddg}) kT\")\n",
    "        print()\n"
   ]
  },
  {
   "cell_type": "code",
   "execution_count": 18,
   "metadata": {},
   "outputs": [
    {
     "name": "stdout",
     "output_type": "stream",
     "text": [
      "0 complex: 72.50580142966857 (0.5370453967740314) kcal/mol\n",
      "0 apo: 65.26091672487313 (0.22631789534747085) kcal/mol\n",
      "0 DDG: 7.244884704795439 (0.5827843065411813) kcal/mol\n",
      "\n"
     ]
    }
   ],
   "source": [
    "# Read the dicts in and compute free energies (kcal/mol)\n",
    "d_results = {}\n",
    "for r in [0]:\n",
    "    with open(f\"/data/chodera/zhangi/perses_benchmark/repex/{main_dir}/{sub_dir}/{r}/results.npy\", \"rb\") as f:\n",
    "        results = np.load(f, allow_pickle=True)\n",
    "        d_results[r] = results\n",
    "        complex_dg, complex_ddg, apo_dg, apo_ddg = [result[-1]*KT_KCALMOL for result in results]\n",
    "        print(f\"{r} complex: {complex_dg} ({complex_ddg}) kcal/mol\")\n",
    "        print(f\"{r} apo: {apo_dg} ({apo_ddg}) kcal/mol\")\n",
    "        binding_dg = complex_dg - apo_dg\n",
    "        binding_ddg = (apo_ddg**2 + complex_ddg**2)**0.5\n",
    "        print(f\"{r} DDG: {binding_dg} ({binding_ddg}) kcal/mol\")\n",
    "        print()\n",
    "\n"
   ]
  },
  {
   "cell_type": "code",
   "execution_count": null,
   "metadata": {},
   "outputs": [],
   "source": [
    "# Generate replica mixing plots\n",
    "for r in [0]:\n",
    "    print (f\"replicate {r} complex\")\n",
    "    path = f\"/data/chodera/zhangi/perses_benchmark/repex/31/{sub_dir}/{r}/{r}_complex.nc\"\n",
    "    utils.plot_replica_mixing(path, title=f\"{titles[r]} complex replicate {r}\", filename=f\"{path[:-3]}_replicas.png\")\n",
    "    plt.clf()\n",
    "    \n",
    "    print (f\"replicate {r} apo\")\n",
    "    path = f\"/data/chodera/zhangi/perses_benchmark/repex/31/{sub_dir}/{r}/{r}_apo.nc\"\n",
    "    utils.plot_replica_mixing(path, title=f\"{titles[r]} apo replicate {r}\", filename=f\"{path[:-3]}_replicas.png\")\n",
    "    plt.clf()\n"
   ]
  },
  {
   "cell_type": "code",
   "execution_count": 5,
   "metadata": {},
   "outputs": [],
   "source": [
    "import os\n",
    "import pickle\n",
    "import logging \n",
    "from openmmtools.multistate import MultiStateReporter\n",
    "import tqdm\n",
    "import numpy as np\n",
    "\n",
    "# Set up logger\n",
    "_logger = logging.getLogger()\n",
    "_logger.setLevel(logging.INFO)\n",
    "\n",
    "from matplotlib import pyplot as plt\n",
    "import matplotlib.transforms as transforms\n"
   ]
  },
  {
   "cell_type": "code",
   "execution_count": 6,
   "metadata": {},
   "outputs": [],
   "source": [
    "out_dir = \"/data/chodera/zhangi/perses_benchmark/repex/31/3/0/\"\n",
    "i = os.path.basename(os.path.dirname(out_dir))\n",
    "phase = 'complex'\n",
    "aa = 'ASN'.lower()\n",
    "length = '1ns'\n",
    "with open(os.path.join(out_dir, f\"{i}_{phase}.pickle\"), \"rb\") as f:\n",
    "    htf = pickle.load(f)\n"
   ]
  },
  {
   "cell_type": "code",
   "execution_count": 7,
   "metadata": {},
   "outputs": [
    {
     "name": "stderr",
     "output_type": "stream",
     "text": [
      "WARNING:openmmtools.multistate.multistatereporter:Warning: The openmmtools.multistate API is experimental and may change in future releases\n"
     ]
    }
   ],
   "source": [
    "reporter = MultiStateReporter(os.path.join(out_dir, f\"{i}_{phase}.nc\"), 'r')\n"
   ]
  },
  {
   "cell_type": "code",
   "execution_count": 10,
   "metadata": {},
   "outputs": [],
   "source": [
    "states = range(12)\n",
    "state_neighbors = []\n",
    "for first, second in zip(states, states[1:]):\n",
    "    state_neighbors.append((first, second))"
   ]
  },
  {
   "cell_type": "code",
   "execution_count": 11,
   "metadata": {},
   "outputs": [
    {
     "name": "stderr",
     "output_type": "stream",
     "text": [
      " 91%|█████████ | 10/11 [04:28<00:26, 26.89s/it]\n"
     ]
    },
    {
     "ename": "IndexError",
     "evalue": "index 11 is out of bounds for axis 0 with size 11",
     "output_type": "error",
     "traceback": [
      "\u001b[0;31m-------------------------------------\u001b[0m",
      "\u001b[0;31mIndexError\u001b[0mTraceback (most recent call last)",
      "\u001b[0;32m<ipython-input-11-31c9834ae311>\u001b[0m in \u001b[0;36m<module>\u001b[0;34m\u001b[0m\n\u001b[1;32m      6\u001b[0m     \u001b[0macceptance_rates\u001b[0m \u001b[0;34m=\u001b[0m \u001b[0;34m[\u001b[0m\u001b[0;34m]\u001b[0m\u001b[0;34m\u001b[0m\u001b[0;34m\u001b[0m\u001b[0m\n\u001b[1;32m      7\u001b[0m     \u001b[0;32mfor\u001b[0m \u001b[0miteration\u001b[0m \u001b[0;32min\u001b[0m \u001b[0mrange\u001b[0m\u001b[0;34m(\u001b[0m\u001b[0;36m0\u001b[0m\u001b[0;34m,\u001b[0m \u001b[0;36m9820\u001b[0m\u001b[0;34m)\u001b[0m\u001b[0;34m:\u001b[0m\u001b[0;34m\u001b[0m\u001b[0;34m\u001b[0m\u001b[0m\n\u001b[0;32m----> 8\u001b[0;31m         \u001b[0macceptance_rate_raw\u001b[0m \u001b[0;34m=\u001b[0m \u001b[0mreporter\u001b[0m\u001b[0;34m.\u001b[0m\u001b[0mread_mixing_statistics\u001b[0m\u001b[0;34m(\u001b[0m\u001b[0miteration\u001b[0m\u001b[0;34m)\u001b[0m\u001b[0;34m[\u001b[0m\u001b[0;36m0\u001b[0m\u001b[0;34m]\u001b[0m\u001b[0;34m[\u001b[0m\u001b[0mstate_i\u001b[0m\u001b[0;34m]\u001b[0m\u001b[0;34m[\u001b[0m\u001b[0mstate_j\u001b[0m\u001b[0;34m]\u001b[0m \u001b[0;34m/\u001b[0m \u001b[0mreporter\u001b[0m\u001b[0;34m.\u001b[0m\u001b[0mread_mixing_statistics\u001b[0m\u001b[0;34m(\u001b[0m\u001b[0miteration\u001b[0m\u001b[0;34m)\u001b[0m\u001b[0;34m[\u001b[0m\u001b[0;36m1\u001b[0m\u001b[0;34m]\u001b[0m\u001b[0;34m[\u001b[0m\u001b[0mstate_i\u001b[0m\u001b[0;34m]\u001b[0m\u001b[0;34m[\u001b[0m\u001b[0mstate_j\u001b[0m\u001b[0;34m]\u001b[0m\u001b[0;34m\u001b[0m\u001b[0;34m\u001b[0m\u001b[0m\n\u001b[0m\u001b[1;32m      9\u001b[0m         \u001b[0;32mif\u001b[0m \u001b[0;32mnot\u001b[0m \u001b[0mnp\u001b[0m\u001b[0;34m.\u001b[0m\u001b[0misnan\u001b[0m\u001b[0;34m(\u001b[0m\u001b[0macceptance_rate_raw\u001b[0m\u001b[0;34m)\u001b[0m\u001b[0;34m:\u001b[0m\u001b[0;34m\u001b[0m\u001b[0;34m\u001b[0m\u001b[0m\n\u001b[1;32m     10\u001b[0m             \u001b[0macceptance_rates\u001b[0m\u001b[0;34m.\u001b[0m\u001b[0mappend\u001b[0m\u001b[0;34m(\u001b[0m\u001b[0macceptance_rate_raw\u001b[0m\u001b[0;34m)\u001b[0m\u001b[0;34m\u001b[0m\u001b[0;34m\u001b[0m\u001b[0m\n",
      "\u001b[0;32m~/miniconda3/envs/perses-rbd-ace2/lib/python3.8/site-packages/numpy/ma/core.py\u001b[0m in \u001b[0;36m__getitem__\u001b[0;34m(self, indx)\u001b[0m\n\u001b[1;32m   3217\u001b[0m         \u001b[0;31m# mask of being reshaped if it hasn't been set up properly yet\u001b[0m\u001b[0;34m\u001b[0m\u001b[0;34m\u001b[0m\u001b[0;34m\u001b[0m\u001b[0m\n\u001b[1;32m   3218\u001b[0m         \u001b[0;31m# So it's easier to stick to the current version\u001b[0m\u001b[0;34m\u001b[0m\u001b[0;34m\u001b[0m\u001b[0;34m\u001b[0m\u001b[0m\n\u001b[0;32m-> 3219\u001b[0;31m         \u001b[0mdout\u001b[0m \u001b[0;34m=\u001b[0m \u001b[0mself\u001b[0m\u001b[0;34m.\u001b[0m\u001b[0mdata\u001b[0m\u001b[0;34m[\u001b[0m\u001b[0mindx\u001b[0m\u001b[0;34m]\u001b[0m\u001b[0;34m\u001b[0m\u001b[0;34m\u001b[0m\u001b[0m\n\u001b[0m\u001b[1;32m   3220\u001b[0m         \u001b[0m_mask\u001b[0m \u001b[0;34m=\u001b[0m \u001b[0mself\u001b[0m\u001b[0;34m.\u001b[0m\u001b[0m_mask\u001b[0m\u001b[0;34m\u001b[0m\u001b[0;34m\u001b[0m\u001b[0m\n\u001b[1;32m   3221\u001b[0m \u001b[0;34m\u001b[0m\u001b[0m\n",
      "\u001b[0;31mIndexError\u001b[0m: index 11 is out of bounds for axis 0 with size 11"
     ]
    }
   ],
   "source": [
    "# Note this was edited to work for swap-neighbors (there can be nans)\n",
    "acceptance_rates_all = []\n",
    "for pair in tqdm.tqdm(state_neighbors):\n",
    "    state_i = pair[0]\n",
    "    state_j = pair[1]\n",
    "    acceptance_rates = []\n",
    "    for iteration in range(0, 9820):\n",
    "        acceptance_rate_raw = reporter.read_mixing_statistics(iteration)[0][state_i][state_j] / reporter.read_mixing_statistics(iteration)[1][state_i][state_j]\n",
    "        if not np.isnan(acceptance_rate_raw):\n",
    "            acceptance_rates.append(acceptance_rate_raw)\n",
    "    acceptance_rates_all.append(acceptance_rates)"
   ]
  },
  {
   "cell_type": "code",
   "execution_count": 12,
   "metadata": {},
   "outputs": [
    {
     "data": {
      "image/png": "[encoded data removed]",
      "text/plain": [
       "<Figure size 576x1440 with 10 Axes>"
      ]
     },
     "metadata": {
      "needs_background": "light"
     },
     "output_type": "display_data"
    }
   ],
   "source": [
    "cols = 1\n",
    "rows = 12\n",
    "plt.figure(figsize=(8, 20))\n",
    "gs = plt.GridSpec(rows, cols)\n",
    "for i, (pair, acceptance_rates) in enumerate(zip(state_neighbors, acceptance_rates_all)):\n",
    "    plt.subplot(gs[i,0])\n",
    "    plt.plot(acceptance_rates)\n",
    "    plt.title(pair)\n",
    "    plt.ylim([0, 1])\n",
    "    mean = np.mean(acceptance_rates)\n",
    "    plt.axhline(y=mean, color=\"red\")\n",
    "\n",
    "#     trans = transforms.blended_transform_factory(\n",
    "#         plt.yticks()[0].get_transform(), plt.transData)\n",
    "    plt.text(0, mean + 0.1, \"{:.2f}\".format(mean), color=\"red\", \n",
    "            ha=\"right\", va=\"center\")\n",
    "plt.tight_layout()\n",
    "plt.show()"
   ]
  },
  {
   "cell_type": "code",
   "execution_count": null,
   "metadata": {},
   "outputs": [],
   "source": []
  },
  {
   "cell_type": "markdown",
   "metadata": {},
   "source": [
    "### 5 ns Y501N (repex/31/4/0)"
   ]
  },
  {
   "cell_type": "code",
   "execution_count": 5,
   "metadata": {},
   "outputs": [],
   "source": [
    "_logger = logging.getLogger()\n",
    "_logger.setLevel(logging.INFO)"
   ]
  },
  {
   "cell_type": "code",
   "execution_count": 6,
   "metadata": {},
   "outputs": [],
   "source": [
    "main_dir = 31\n",
    "sub_dir = 4\n",
    "titles = ['Y501N']"
   ]
  },
  {
   "cell_type": "code",
   "execution_count": 7,
   "metadata": {},
   "outputs": [
    {
     "data": {
      "application/vnd.jupyter.widget-view+json": {
       "model_id": "",
       "version_major": 2,
       "version_minor": 0
      },
      "text/plain": [
       "  0%|          | 0/1 [00:00<?, ?it/s]"
      ]
     },
     "metadata": {},
     "output_type": "display_data"
    },
    {
     "name": "stderr",
     "output_type": "stream",
     "text": [
      "Warning: The openmmtools.multistate API is experimental and may change in future releases\n",
      "Warning: The openmmtools.multistate API is experimental and may change in future releases\n"
     ]
    },
    {
     "name": "stdout",
     "output_type": "stream",
     "text": [
      "replicate 0\n",
      "analyzing complex\n",
      "n_iterations: 5000\n"
     ]
    },
    {
     "name": "stderr",
     "output_type": "stream",
     "text": [
      "Warning: The openmmtools.multistate API is experimental and may change in future releases\n",
      "Warning: The openmmtools.multistate API is experimental and may change in future releases\n"
     ]
    },
    {
     "name": "stdout",
     "output_type": "stream",
     "text": [
      "analyzing apo\n",
      "n_iterations: 5000\n"
     ]
    }
   ],
   "source": [
    "for r in tqdm_notebook([0]):\n",
    "    print (f\"replicate {r}\")\n",
    "    output_dir = f'/data/chodera/zhangi/perses_benchmark/repex/{main_dir}/{sub_dir}/{r}/'\n",
    "    \n",
    "    print(\"analyzing complex\")\n",
    "    complex_path = os.path.join(output_dir, f\"{r}_complex.nc\")\n",
    "    complex_dg, complex_ddg = analyze_dom(complex_path)\n",
    "    print(\"analyzing apo\")\n",
    "    apo_path = os.path.join(output_dir, f\"{r}_apo.nc\")\n",
    "    apo_dg, apo_ddg = analyze_dom(apo_path)\n",
    "\n",
    "    results = np.array([complex_dg, complex_ddg, apo_dg, apo_ddg])\n",
    "    with open(f'/data/chodera/zhangi/perses_benchmark/repex/{main_dir}/{sub_dir}/{r}/results.npy', 'wb') as f:\n",
    "        np.save(f, results)"
   ]
  },
  {
   "cell_type": "code",
   "execution_count": 8,
   "metadata": {
    "scrolled": true
   },
   "outputs": [
    {
     "name": "stdout",
     "output_type": "stream",
     "text": [
      "0 complex: -113.89078820725683 (1.0286437496998846) kT\n",
      "0 apo: -111.83756798159254 (0.2748612283149982) kT\n",
      "0 DDG: -2.0532202256642904 (1.0647331396305217) kT\n",
      "\n"
     ]
    }
   ],
   "source": [
    "# Read the dicts in and compute free energies (kT)\n",
    "d_results = {}\n",
    "for r in [0]:\n",
    "    with open(f\"/data/chodera/zhangi/perses_benchmark/repex/{main_dir}/{sub_dir}/{r}/results.npy\", \"rb\") as f:\n",
    "        results = np.load(f, allow_pickle=True)\n",
    "        d_results[r] = results\n",
    "        complex_dg, complex_ddg, apo_dg, apo_ddg = [result[-1] for result in results]\n",
    "        print(f\"{r} complex: {complex_dg} ({complex_ddg}) kT\")\n",
    "        print(f\"{r} apo: {apo_dg} ({apo_ddg}) kT\")\n",
    "        binding_dg = complex_dg - apo_dg\n",
    "        binding_ddg = (apo_ddg**2 + complex_ddg**2)**0.5\n",
    "        print(f\"{r} DDG: {binding_dg} ({binding_ddg}) kT\")\n",
    "        print()\n"
   ]
  },
  {
   "cell_type": "code",
   "execution_count": 9,
   "metadata": {},
   "outputs": [
    {
     "name": "stdout",
     "output_type": "stream",
     "text": [
      "0 complex: -67.44462928493566 (0.6091493215283093) kcal/mol\n",
      "0 apo: -66.22873922797812 (0.1627692102259586) kcal/mol\n",
      "0 DDG: -1.2158900569575337 (0.630520984358159) kcal/mol\n",
      "\n"
     ]
    }
   ],
   "source": [
    "# Read the dicts in and compute free energies (kcal/mol)\n",
    "d_results = {}\n",
    "for r in [0]:\n",
    "    with open(f\"/data/chodera/zhangi/perses_benchmark/repex/{main_dir}/{sub_dir}/{r}/results.npy\", \"rb\") as f:\n",
    "        results = np.load(f, allow_pickle=True)\n",
    "        d_results[r] = results\n",
    "        complex_dg, complex_ddg, apo_dg, apo_ddg = [result[-1]*KT_KCALMOL for result in results]\n",
    "        print(f\"{r} complex: {complex_dg} ({complex_ddg}) kcal/mol\")\n",
    "        print(f\"{r} apo: {apo_dg} ({apo_ddg}) kcal/mol\")\n",
    "        binding_dg = complex_dg - apo_dg\n",
    "        binding_ddg = (apo_ddg**2 + complex_ddg**2)**0.5\n",
    "        print(f\"{r} DDG: {binding_dg} ({binding_ddg}) kcal/mol\")\n",
    "        print()\n",
    "\n"
   ]
  },
  {
   "cell_type": "code",
   "execution_count": null,
   "metadata": {},
   "outputs": [],
   "source": [
    "# Generate replica mixing plots\n",
    "for r in [0]:\n",
    "    print (f\"replicate {r} complex\")\n",
    "    path = f\"/data/chodera/zhangi/perses_benchmark/repex/31/{sub_dir}/{r}/{r}_complex.nc\"\n",
    "    utils.plot_replica_mixing(path, title=f\"{titles[r]} complex replicate {r}\", filename=f\"{path[:-3]}_replicas.png\")\n",
    "    plt.clf()\n",
    "    \n",
    "    print (f\"replicate {r} apo\")\n",
    "    path = f\"/data/chodera/zhangi/perses_benchmark/repex/31/{sub_dir}/{r}/{r}_apo.nc\"\n",
    "    utils.plot_replica_mixing(path, title=f\"{titles[r]} apo replicate {r}\", filename=f\"{path[:-3]}_replicas.png\")\n",
    "    plt.clf()\n"
   ]
  },
  {
   "cell_type": "markdown",
   "metadata": {},
   "source": [
    "### 5 ns K417N (repex/31/5/0)"
   ]
  },
  {
   "cell_type": "code",
   "execution_count": 6,
   "metadata": {},
   "outputs": [],
   "source": [
    "_logger = logging.getLogger()\n",
    "_logger.setLevel(logging.INFO)"
   ]
  },
  {
   "cell_type": "code",
   "execution_count": 14,
   "metadata": {},
   "outputs": [],
   "source": [
    "main_dir = 31\n",
    "sub_dir = 5\n",
    "titles = ['K417N']"
   ]
  },
  {
   "cell_type": "code",
   "execution_count": 15,
   "metadata": {},
   "outputs": [
    {
     "data": {
      "application/vnd.jupyter.widget-view+json": {
       "model_id": "79fd94cff206443cb88af73a180e1399",
       "version_major": 2,
       "version_minor": 0
      },
      "text/plain": [
       "  0%|          | 0/1 [00:00<?, ?it/s]"
      ]
     },
     "metadata": {},
     "output_type": "display_data"
    },
    {
     "name": "stderr",
     "output_type": "stream",
     "text": [
      "Warning: The openmmtools.multistate API is experimental and may change in future releases\n",
      "Warning: The openmmtools.multistate API is experimental and may change in future releases\n"
     ]
    },
    {
     "name": "stdout",
     "output_type": "stream",
     "text": [
      "replicate 0\n",
      "analyzing complex\n",
      "n_iterations: 5000\n"
     ]
    },
    {
     "name": "stderr",
     "output_type": "stream",
     "text": [
      "Warning: The openmmtools.multistate API is experimental and may change in future releases\n",
      "Warning: The openmmtools.multistate API is experimental and may change in future releases\n"
     ]
    },
    {
     "name": "stdout",
     "output_type": "stream",
     "text": [
      "analyzing apo\n",
      "n_iterations: 5000\n"
     ]
    }
   ],
   "source": [
    "for r in tqdm_notebook([0]):\n",
    "    print (f\"replicate {r}\")\n",
    "    output_dir = f'/data/chodera/zhangi/perses_benchmark/repex/{main_dir}/{sub_dir}/{r}/'\n",
    "    \n",
    "    print(\"analyzing complex\")\n",
    "    complex_path = os.path.join(output_dir, f\"{r}_complex.nc\")\n",
    "    complex_dg, complex_ddg = analyze_dom(complex_path)\n",
    "    print(\"analyzing apo\")\n",
    "    apo_path = os.path.join(output_dir, f\"{r}_apo.nc\")\n",
    "    apo_dg, apo_ddg = analyze_dom(apo_path)\n",
    "\n",
    "    results = np.array([complex_dg, complex_ddg, apo_dg, apo_ddg])\n",
    "    with open(f'/data/chodera/zhangi/perses_benchmark/repex/{main_dir}/{sub_dir}/{r}/results.npy', 'wb') as f:\n",
    "        np.save(f, results)"
   ]
  },
  {
   "cell_type": "code",
   "execution_count": 16,
   "metadata": {
    "scrolled": true
   },
   "outputs": [
    {
     "name": "stdout",
     "output_type": "stream",
     "text": [
      "0 complex: -247.96594648258312 (1.2011439472425804) kT\n",
      "0 apo: -251.72381610737628 (0.5187872248412405) kT\n",
      "0 DDG: 3.757869624793159 (1.3083909838637542) kT\n",
      "\n"
     ]
    }
   ],
   "source": [
    "# Read the dicts in and compute free energies (kT)\n",
    "d_results = {}\n",
    "for r in [0]:\n",
    "    with open(f\"/data/chodera/zhangi/perses_benchmark/repex/{main_dir}/{sub_dir}/{r}/results.npy\", \"rb\") as f:\n",
    "        results = np.load(f, allow_pickle=True)\n",
    "        d_results[r] = results\n",
    "        complex_dg, complex_ddg, apo_dg, apo_ddg = [result[-1] for result in results]\n",
    "        print(f\"{r} complex: {complex_dg} ({complex_ddg}) kT\")\n",
    "        print(f\"{r} apo: {apo_dg} ({apo_ddg}) kT\")\n",
    "        binding_dg = complex_dg - apo_dg\n",
    "        binding_ddg = (apo_ddg**2 + complex_ddg**2)**0.5\n",
    "        print(f\"{r} DDG: {binding_dg} ({binding_ddg}) kT\")\n",
    "        print()\n"
   ]
  },
  {
   "cell_type": "code",
   "execution_count": 17,
   "metadata": {},
   "outputs": [
    {
     "name": "stdout",
     "output_type": "stream",
     "text": [
      "0 complex: -146.84217748473185 (0.7113016734259316) kcal/mol\n",
      "0 apo: -149.06753853223003 (0.3072189823948254) kcal/mol\n",
      "0 DDG: 2.2253610474981826 (0.7748119602601928) kcal/mol\n",
      "\n"
     ]
    }
   ],
   "source": [
    "# Read the dicts in and compute free energies (kcal/mol)\n",
    "d_results = {}\n",
    "for r in [0]:\n",
    "    with open(f\"/data/chodera/zhangi/perses_benchmark/repex/{main_dir}/{sub_dir}/{r}/results.npy\", \"rb\") as f:\n",
    "        results = np.load(f, allow_pickle=True)\n",
    "        d_results[r] = results\n",
    "        complex_dg, complex_ddg, apo_dg, apo_ddg = [result[-1]*KT_KCALMOL for result in results]\n",
    "        print(f\"{r} complex: {complex_dg} ({complex_ddg}) kcal/mol\")\n",
    "        print(f\"{r} apo: {apo_dg} ({apo_ddg}) kcal/mol\")\n",
    "        binding_dg = complex_dg - apo_dg\n",
    "        binding_ddg = (apo_ddg**2 + complex_ddg**2)**0.5\n",
    "        print(f\"{r} DDG: {binding_dg} ({binding_ddg}) kcal/mol\")\n",
    "        print()\n",
    "\n"
   ]
  },
  {
   "cell_type": "code",
   "execution_count": null,
   "metadata": {},
   "outputs": [],
   "source": [
    "# Generate replica mixing plots\n",
    "for r in [0]:\n",
    "    print (f\"replicate {r} complex\")\n",
    "    path = f\"/data/chodera/zhangi/perses_benchmark/repex/31/{sub_dir}/{r}/{r}_complex.nc\"\n",
    "    utils.plot_replica_mixing(path, title=f\"{titles[r]} complex replicate {r}\", filename=f\"{path[:-3]}_replicas.png\")\n",
    "    plt.clf()\n",
    "    \n",
    "    print (f\"replicate {r} apo\")\n",
    "    path = f\"/data/chodera/zhangi/perses_benchmark/repex/31/{sub_dir}/{r}/{r}_apo.nc\"\n",
    "    utils.plot_replica_mixing(path, title=f\"{titles[r]} apo replicate {r}\", filename=f\"{path[:-3]}_replicas.png\")\n",
    "    plt.clf()\n"
   ]
  },
  {
   "cell_type": "markdown",
   "metadata": {},
   "source": [
    "### 5 ns N417K (repex/31/6/0)"
   ]
  },
  {
   "cell_type": "code",
   "execution_count": 3,
   "metadata": {},
   "outputs": [],
   "source": [
    "_logger = logging.getLogger()\n",
    "_logger.setLevel(logging.INFO)"
   ]
  },
  {
   "cell_type": "code",
   "execution_count": 4,
   "metadata": {},
   "outputs": [],
   "source": [
    "main_dir = 31\n",
    "sub_dir = 6\n",
    "titles = ['N417K']"
   ]
  },
  {
   "cell_type": "code",
   "execution_count": 5,
   "metadata": {},
   "outputs": [
    {
     "data": {
      "application/vnd.jupyter.widget-view+json": {
       "model_id": "8751a88fb68a4486b6d294bd06a52676",
       "version_major": 2,
       "version_minor": 0
      },
      "text/plain": [
       "  0%|          | 0/1 [00:00<?, ?it/s]"
      ]
     },
     "metadata": {},
     "output_type": "display_data"
    },
    {
     "name": "stderr",
     "output_type": "stream",
     "text": [
      "Warning: The openmmtools.multistate API is experimental and may change in future releases\n",
      "Warning: The openmmtools.multistate API is experimental and may change in future releases\n"
     ]
    },
    {
     "name": "stdout",
     "output_type": "stream",
     "text": [
      "replicate 0\n",
      "analyzing complex\n",
      "n_iterations: 5000\n"
     ]
    },
    {
     "name": "stderr",
     "output_type": "stream",
     "text": [
      "Warning: The openmmtools.multistate API is experimental and may change in future releases\n",
      "Warning: The openmmtools.multistate API is experimental and may change in future releases\n"
     ]
    },
    {
     "name": "stdout",
     "output_type": "stream",
     "text": [
      "analyzing apo\n",
      "n_iterations: 5000\n"
     ]
    }
   ],
   "source": [
    "for r in tqdm_notebook([0]):\n",
    "    print (f\"replicate {r}\")\n",
    "    output_dir = f'/data/chodera/zhangi/perses_benchmark/repex/{main_dir}/{sub_dir}/{r}/'\n",
    "    \n",
    "    print(\"analyzing complex\")\n",
    "    complex_path = os.path.join(output_dir, f\"{r}_complex.nc\")\n",
    "    complex_dg, complex_ddg = analyze_dom(complex_path)\n",
    "    print(\"analyzing apo\")\n",
    "    apo_path = os.path.join(output_dir, f\"{r}_apo.nc\")\n",
    "    apo_dg, apo_ddg = analyze_dom(apo_path)\n",
    "\n",
    "    results = np.array([complex_dg, complex_ddg, apo_dg, apo_ddg])\n",
    "    with open(f'/data/chodera/zhangi/perses_benchmark/repex/{main_dir}/{sub_dir}/{r}/results.npy', 'wb') as f:\n",
    "        np.save(f, results)"
   ]
  },
  {
   "cell_type": "code",
   "execution_count": 7,
   "metadata": {},
   "outputs": [
    {
     "name": "stdout",
     "output_type": "stream",
     "text": [
      "0 complex: -20.228300400274435 (0.5712253488599995) kcal/mol\n",
      "0 apo: -16.23686754501904 (0.2928410363662453) kcal/mol\n",
      "0 DDG: -3.9914328552553933 (0.641914536180857) kcal/mol\n",
      "\n"
     ]
    }
   ],
   "source": [
    "# Read the dicts in and compute free energies (kcal/mol)\n",
    "d_results = {}\n",
    "for r in [0]:\n",
    "    with open(f\"/data/chodera/zhangi/perses_benchmark/repex/{main_dir}/{sub_dir}/{r}/results.npy\", \"rb\") as f:\n",
    "        results = np.load(f, allow_pickle=True)\n",
    "        d_results[r] = results\n",
    "        complex_dg, complex_ddg, apo_dg, apo_ddg = [result[-1]*KT_KCALMOL for result in results]\n",
    "        print(f\"{r} complex: {complex_dg} ({complex_ddg}) kcal/mol\")\n",
    "        print(f\"{r} apo: {apo_dg} ({apo_ddg}) kcal/mol\")\n",
    "        binding_dg = complex_dg - apo_dg\n",
    "        binding_ddg = (apo_ddg**2 + complex_ddg**2)**0.5\n",
    "        print(f\"{r} DDG: {binding_dg} ({binding_ddg}) kcal/mol\")\n",
    "        print()\n",
    "\n"
   ]
  },
  {
   "cell_type": "code",
   "execution_count": 8,
   "metadata": {},
   "outputs": [
    {
     "name": "stdout",
     "output_type": "stream",
     "text": [
      "replicate 0 complex\n",
      "replicate 0 apo\n"
     ]
    },
    {
     "data": {
      "text/plain": [
       "<Figure size 1080x1584 with 0 Axes>"
      ]
     },
     "metadata": {},
     "output_type": "display_data"
    },
    {
     "data": {
      "text/plain": [
       "<Figure size 1080x1584 with 0 Axes>"
      ]
     },
     "metadata": {},
     "output_type": "display_data"
    }
   ],
   "source": [
    "# Generate replica mixing plots\n",
    "for r in [0]:\n",
    "    print (f\"replicate {r} complex\")\n",
    "    path = f\"/data/chodera/zhangi/perses_benchmark/repex/31/{sub_dir}/{r}/{r}_complex.nc\"\n",
    "    utils.plot_replica_mixing(path, title=f\"{titles[r]} complex replicate {r}\", filename=f\"{path[:-3]}_replicas.png\")\n",
    "    plt.clf()\n",
    "    \n",
    "    print (f\"replicate {r} apo\")\n",
    "    path = f\"/data/chodera/zhangi/perses_benchmark/repex/31/{sub_dir}/{r}/{r}_apo.nc\"\n",
    "    utils.plot_replica_mixing(path, title=f\"{titles[r]} apo replicate {r}\", filename=f\"{path[:-3]}_replicas.png\")\n",
    "    plt.clf()\n"
   ]
  },
  {
   "cell_type": "markdown",
   "metadata": {},
   "source": [
    "### 5 ns E484K (repex/31/7/0)"
   ]
  },
  {
   "cell_type": "code",
   "execution_count": 9,
   "metadata": {},
   "outputs": [],
   "source": [
    "_logger = logging.getLogger()\n",
    "_logger.setLevel(logging.INFO)"
   ]
  },
  {
   "cell_type": "code",
   "execution_count": 10,
   "metadata": {},
   "outputs": [],
   "source": [
    "main_dir = 31\n",
    "sub_dir = 7"
   ]
  },
  {
   "cell_type": "code",
   "execution_count": 12,
   "metadata": {},
   "outputs": [
    {
     "data": {
      "application/vnd.jupyter.widget-view+json": {
       "model_id": "5e15c525a06a4295a0c129db930ad0d0",
       "version_major": 2,
       "version_minor": 0
      },
      "text/plain": [
       "  0%|          | 0/1 [00:00<?, ?it/s]"
      ]
     },
     "metadata": {},
     "output_type": "display_data"
    },
    {
     "name": "stderr",
     "output_type": "stream",
     "text": [
      "Warning: The openmmtools.multistate API is experimental and may change in future releases\n",
      "Warning: The openmmtools.multistate API is experimental and may change in future releases\n"
     ]
    },
    {
     "name": "stdout",
     "output_type": "stream",
     "text": [
      "replicate 0\n",
      "analyzing complex\n",
      "n_iterations: 5000\n"
     ]
    },
    {
     "name": "stderr",
     "output_type": "stream",
     "text": [
      "Warning: The openmmtools.multistate API is experimental and may change in future releases\n",
      "Warning: The openmmtools.multistate API is experimental and may change in future releases\n"
     ]
    },
    {
     "name": "stdout",
     "output_type": "stream",
     "text": [
      "analyzing apo\n",
      "n_iterations: 5000\n"
     ]
    }
   ],
   "source": [
    "for r in tqdm_notebook([0]):\n",
    "    print (f\"replicate {r}\")\n",
    "    output_dir = f'/data/chodera/zhangi/perses_benchmark/repex/{main_dir}/{sub_dir}/{r}/'\n",
    "    \n",
    "    print(\"analyzing complex\")\n",
    "    complex_path = os.path.join(output_dir, f\"{r}_complex.nc\")\n",
    "    complex_dg, complex_ddg = analyze_dom(complex_path)\n",
    "    print(\"analyzing apo\")\n",
    "    apo_path = os.path.join(output_dir, f\"{r}_apo.nc\")\n",
    "    apo_dg, apo_ddg = analyze_dom(apo_path)\n",
    "\n",
    "    results = np.array([complex_dg, complex_ddg, apo_dg, apo_ddg])\n",
    "    with open(f'/data/chodera/zhangi/perses_benchmark/repex/{main_dir}/{sub_dir}/{r}/results.npy', 'wb') as f:\n",
    "        np.save(f, results)"
   ]
  },
  {
   "cell_type": "code",
   "execution_count": 13,
   "metadata": {},
   "outputs": [
    {
     "name": "stdout",
     "output_type": "stream",
     "text": [
      "0 complex: -98.66386178829801 (0.8991960214512452) kcal/mol\n",
      "0 apo: -100.78262901529315 (0.38811246607420763) kcal/mol\n",
      "0 DDG: 2.1187672269951463 (0.9793797891093889) kcal/mol\n",
      "\n"
     ]
    }
   ],
   "source": [
    "# Read the dicts in and compute free energies (kcal/mol)\n",
    "d_results = {}\n",
    "for r in [0]:\n",
    "    with open(f\"/data/chodera/zhangi/perses_benchmark/repex/{main_dir}/{sub_dir}/{r}/results.npy\", \"rb\") as f:\n",
    "        results = np.load(f, allow_pickle=True)\n",
    "        d_results[r] = results\n",
    "        complex_dg, complex_ddg, apo_dg, apo_ddg = [result[-1]*KT_KCALMOL for result in results]\n",
    "        print(f\"{r} complex: {complex_dg} ({complex_ddg}) kcal/mol\")\n",
    "        print(f\"{r} apo: {apo_dg} ({apo_ddg}) kcal/mol\")\n",
    "        binding_dg = complex_dg - apo_dg\n",
    "        binding_ddg = (apo_ddg**2 + complex_ddg**2)**0.5\n",
    "        print(f\"{r} DDG: {binding_dg} ({binding_ddg}) kcal/mol\")\n",
    "        print()\n",
    "\n"
   ]
  },
  {
   "cell_type": "code",
   "execution_count": 15,
   "metadata": {
    "scrolled": false
   },
   "outputs": [],
   "source": [
    "def plot_series(dg, ddg, r, phase, title):\n",
    "    fig, axes = plt.subplots(nrows=2, ncols=1, sharex='col', figsize=(10,2*3), squeeze=True)\n",
    "    for r in range(len(dg)):\n",
    "        dg_discarded = dg[r][1:] # 1 * 500 = 500 ps discarded\n",
    "        ddg_discarded = ddg[r][1:]\n",
    "    \n",
    "        # dg\n",
    "        ax = axes[0]\n",
    "        x = [(j)*0.5 + 0.5 for j in range(len(dg_discarded))] # *0.2 bc computing energy every 200 ps\n",
    "        y = dg_discarded\n",
    "        ax.plot(x, y, color=sns.color_palette()[r])\n",
    "        ax.fill_between(x, y - ddg_discarded, y + ddg_discarded, alpha=0.5)\n",
    "\n",
    "        # ddg\n",
    "        ax = axes[1]\n",
    "        x = [(j)*0.5 + 0.5 for j in range(len(ddg_discarded))]\n",
    "        y = ddg_discarded\n",
    "        ax.plot(x, y, color=sns.color_palette()[0])\n",
    "\n",
    "    axes[0].set_ylabel(\"dG (kT)\")\n",
    "    axes[1].set_ylabel(\"ddG (kT)\")\n",
    "    axes[1].set_xlabel(\"$t_{repex}$ (ns)\")\n",
    "    \n",
    "    axes[0].set_title(f\"{title} {phase}\")\n",
    "    plt.show()\n",
    "#     plt.savefig(f\"/data/chodera/zhangi/perses_benchmark/repex/31/1/{r}/{r}_{phase}_series.png\", dpi=500)\n",
    "#     plt.clf()"
   ]
  },
  {
   "cell_type": "code",
   "execution_count": 16,
   "metadata": {
    "scrolled": true
   },
   "outputs": [
    {
     "name": "stdout",
     "output_type": "stream",
     "text": [
      "0\n"
     ]
    },
    {
     "data": {
      "image/png": "[encoded data removed]",
      "text/plain": [
       "<Figure size 720x432 with 2 Axes>"
      ]
     },
     "metadata": {
      "needs_background": "light"
     },
     "output_type": "display_data"
    },
    {
     "data": {
      "image/png": "[encoded data removed]",
      "text/plain": [
       "<Figure size 720x432 with 2 Axes>"
      ]
     },
     "metadata": {
      "needs_background": "light"
     },
     "output_type": "display_data"
    }
   ],
   "source": [
    "#### MAKE SURE TO CHANGE PATH IN PLOT_SERIES() ####\n",
    "\n",
    "titles = ['E484K']\n",
    "\n",
    "# Generate dg, ddg, and discrepancy vs. time plots\n",
    "for i, title in enumerate(titles):\n",
    "    print(i)\n",
    "    complex_dg = []\n",
    "    complex_ddg = []\n",
    "    apo_dg = []\n",
    "    apo_ddg = []\n",
    "    for r in [0, 1]:\n",
    "        complex_dg.append(d_results[r][0])\n",
    "        complex_ddg.append(d_results[r][1])\n",
    "        apo_dg.append(d_results[r][2])\n",
    "        apo_ddg.append(d_results[r][3])\n",
    "    plot_series(complex_dg, complex_ddg, r, 'complex', title)\n",
    "    plot_series(apo_dg, apo_ddg, r, 'apo', title)\n",
    "    \n",
    "\n",
    "    \n"
   ]
  },
  {
   "cell_type": "code",
   "execution_count": null,
   "metadata": {},
   "outputs": [],
   "source": [
    "# Generate replica mixing plots\n",
    "for r in [0, 1]:\n",
    "    print (f\"replicate {r} complex\")\n",
    "    path = f\"/data/chodera/zhangi/perses_benchmark/repex/31/{sub_dir}/{r}/{r}_complex.nc\"\n",
    "    utils.plot_replica_mixing(path, title=f\"{titles[i]} complex replicate {r}\", filename=f\"{path[:-3]}_replicas.png\")\n",
    "    plt.clf()\n",
    "    \n",
    "    print (f\"replicate {r} apo\")\n",
    "    path = f\"/data/chodera/zhangi/perses_benchmark/repex/31/{sub_dir}/{r}/{r}_apo.nc\"\n",
    "    utils.plot_replica_mixing(path, title=f\"{titles[i]} apo replicate {r}\", filename=f\"{path[:-3]}_replicas.png\")\n",
    "    plt.clf()\n"
   ]
  },
  {
   "cell_type": "code",
   "execution_count": null,
   "metadata": {},
   "outputs": [],
   "source": []
  },
  {
   "cell_type": "markdown",
   "metadata": {},
   "source": [
    "### 5 ns K484E (repex/31/8/0)"
   ]
  },
  {
   "cell_type": "code",
   "execution_count": 14,
   "metadata": {},
   "outputs": [],
   "source": [
    "_logger = logging.getLogger()\n",
    "_logger.setLevel(logging.INFO)"
   ]
  },
  {
   "cell_type": "code",
   "execution_count": 15,
   "metadata": {},
   "outputs": [],
   "source": [
    "main_dir = 31\n",
    "sub_dir = 8"
   ]
  },
  {
   "cell_type": "code",
   "execution_count": 16,
   "metadata": {},
   "outputs": [
    {
     "data": {
      "application/vnd.jupyter.widget-view+json": {
       "model_id": "2a6f20c9c7eb4b079b82fcbaf1289c57",
       "version_major": 2,
       "version_minor": 0
      },
      "text/plain": [
       "  0%|          | 0/1 [00:00<?, ?it/s]"
      ]
     },
     "metadata": {},
     "output_type": "display_data"
    },
    {
     "name": "stderr",
     "output_type": "stream",
     "text": [
      "Warning: The openmmtools.multistate API is experimental and may change in future releases\n",
      "Warning: The openmmtools.multistate API is experimental and may change in future releases\n"
     ]
    },
    {
     "name": "stdout",
     "output_type": "stream",
     "text": [
      "replicate 0\n",
      "analyzing complex\n",
      "n_iterations: 5000\n"
     ]
    },
    {
     "name": "stderr",
     "output_type": "stream",
     "text": [
      "Warning: The openmmtools.multistate API is experimental and may change in future releases\n",
      "Warning: The openmmtools.multistate API is experimental and may change in future releases\n"
     ]
    },
    {
     "name": "stdout",
     "output_type": "stream",
     "text": [
      "analyzing apo\n",
      "n_iterations: 5000\n"
     ]
    }
   ],
   "source": [
    "for r in tqdm_notebook([0]):\n",
    "    print (f\"replicate {r}\")\n",
    "    output_dir = f'/data/chodera/zhangi/perses_benchmark/repex/{main_dir}/{sub_dir}/{r}/'\n",
    "    \n",
    "    print(\"analyzing complex\")\n",
    "    complex_path = os.path.join(output_dir, f\"{r}_complex.nc\")\n",
    "    complex_dg, complex_ddg = analyze_dom(complex_path)\n",
    "    print(\"analyzing apo\")\n",
    "    apo_path = os.path.join(output_dir, f\"{r}_apo.nc\")\n",
    "    apo_dg, apo_ddg = analyze_dom(apo_path)\n",
    "\n",
    "    results = np.array([complex_dg, complex_ddg, apo_dg, apo_ddg])\n",
    "    with open(f'/data/chodera/zhangi/perses_benchmark/repex/{main_dir}/{sub_dir}/{r}/results.npy', 'wb') as f:\n",
    "        np.save(f, results)"
   ]
  },
  {
   "cell_type": "code",
   "execution_count": 19,
   "metadata": {},
   "outputs": [
    {
     "name": "stdout",
     "output_type": "stream",
     "text": [
      "0 complex: -226.70043707848123 (0.9772929733835601) kcal/mol\n",
      "0 apo: -226.80850769952173 (0.4732848005278446) kcal/mol\n",
      "0 DDG: 0.10807062104049692 (1.0858637383371643) kcal/mol\n",
      "\n"
     ]
    }
   ],
   "source": [
    "# Read the dicts in and compute free energies (kcal/mol)\n",
    "d_results = {}\n",
    "for r in [0]:\n",
    "    with open(f\"/data/chodera/zhangi/perses_benchmark/repex/{main_dir}/{sub_dir}/{r}/results.npy\", \"rb\") as f:\n",
    "        results = np.load(f, allow_pickle=True)\n",
    "        d_results[r] = results\n",
    "        complex_dg, complex_ddg, apo_dg, apo_ddg = [result[-1]*KT_KCALMOL for result in results]\n",
    "        print(f\"{r} complex: {complex_dg} ({complex_ddg}) kcal/mol\")\n",
    "        print(f\"{r} apo: {apo_dg} ({apo_ddg}) kcal/mol\")\n",
    "        binding_dg = complex_dg - apo_dg\n",
    "        binding_ddg = (apo_ddg**2 + complex_ddg**2)**0.5\n",
    "        print(f\"{r} DDG: {binding_dg} ({binding_ddg}) kcal/mol\")\n",
    "        print()\n",
    "\n"
   ]
  },
  {
   "cell_type": "code",
   "execution_count": null,
   "metadata": {
    "scrolled": false
   },
   "outputs": [],
   "source": [
    "def plot_series(dg, ddg, r, phase, title):\n",
    "    fig, axes = plt.subplots(nrows=2, ncols=1, sharex='col', figsize=(10,2*3), squeeze=True)\n",
    "    for r in range(len(dg)):\n",
    "        dg_discarded = dg[r][1:] # 1 * 500 = 500 ps discarded\n",
    "        ddg_discarded = ddg[r][1:]\n",
    "    \n",
    "        # dg\n",
    "        ax = axes[0]\n",
    "        x = [(j)*0.5 + 0.5 for j in range(len(dg_discarded))] # *0.2 bc computing energy every 200 ps\n",
    "        y = dg_discarded\n",
    "        ax.plot(x, y, color=sns.color_palette()[r])\n",
    "        ax.fill_between(x, y - ddg_discarded, y + ddg_discarded, alpha=0.5)\n",
    "\n",
    "        # ddg\n",
    "        ax = axes[1]\n",
    "        x = [(j)*0.5 + 0.5 for j in range(len(ddg_discarded))]\n",
    "        y = ddg_discarded\n",
    "        ax.plot(x, y, color=sns.color_palette()[0])\n",
    "\n",
    "    axes[0].set_ylabel(\"dG (kT)\")\n",
    "    axes[1].set_ylabel(\"ddG (kT)\")\n",
    "    axes[1].set_xlabel(\"$t_{repex}$ (ns)\")\n",
    "    \n",
    "    axes[0].set_title(f\"{title} {phase}\")\n",
    "    plt.show()\n",
    "#     plt.savefig(f\"/data/chodera/zhangi/perses_benchmark/repex/31/1/{r}/{r}_{phase}_series.png\", dpi=500)\n",
    "#     plt.clf()"
   ]
  },
  {
   "cell_type": "code",
   "execution_count": null,
   "metadata": {
    "scrolled": true
   },
   "outputs": [],
   "source": [
    "#### MAKE SURE TO CHANGE PATH IN PLOT_SERIES() ####\n",
    "\n",
    "titles = ['K484E']\n",
    "\n",
    "# Generate dg, ddg, and discrepancy vs. time plots\n",
    "for i, title in enumerate(titles):\n",
    "    print(i)\n",
    "    complex_dg = []\n",
    "    complex_ddg = []\n",
    "    apo_dg = []\n",
    "    apo_ddg = []\n",
    "    for r in [0, 1]:\n",
    "        complex_dg.append(d_results[r][0])\n",
    "        complex_ddg.append(d_results[r][1])\n",
    "        apo_dg.append(d_results[r][2])\n",
    "        apo_ddg.append(d_results[r][3])\n",
    "    plot_series(complex_dg, complex_ddg, r, 'complex', title)\n",
    "    plot_series(apo_dg, apo_ddg, r, 'apo', title)\n",
    "    \n",
    "\n",
    "    \n"
   ]
  },
  {
   "cell_type": "code",
   "execution_count": null,
   "metadata": {},
   "outputs": [],
   "source": [
    "# Generate replica mixing plots\n",
    "for r in [0, 1]:\n",
    "    print (f\"replicate {r} complex\")\n",
    "    path = f\"/data/chodera/zhangi/perses_benchmark/repex/31/{sub_dir}/{r}/{r}_complex.nc\"\n",
    "    utils.plot_replica_mixing(path, title=f\"{titles[i]} complex replicate {r}\", filename=f\"{path[:-3]}_replicas.png\")\n",
    "    plt.clf()\n",
    "    \n",
    "    print (f\"replicate {r} apo\")\n",
    "    path = f\"/data/chodera/zhangi/perses_benchmark/repex/31/{sub_dir}/{r}/{r}_apo.nc\"\n",
    "    utils.plot_replica_mixing(path, title=f\"{titles[i]} apo replicate {r}\", filename=f\"{path[:-3]}_replicas.png\")\n",
    "    plt.clf()\n"
   ]
  },
  {
   "cell_type": "code",
   "execution_count": null,
   "metadata": {},
   "outputs": [],
   "source": []
  }
 ],
 "metadata": {
  "kernelspec": {
   "display_name": "Python 3",
   "language": "python",
   "name": "python3"
  },
  "language_info": {
   "codemirror_mode": {
    "name": "ipython",
    "version": 3
   },
   "file_extension": ".py",
   "mimetype": "text/x-python",
   "name": "python",
   "nbconvert_exporter": "python",
   "pygments_lexer": "ipython3",
   "version": "3.8.6"
  }
 },
 "nbformat": 4,
 "nbformat_minor": 4
}
