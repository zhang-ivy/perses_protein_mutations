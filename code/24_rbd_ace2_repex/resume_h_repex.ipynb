{
 "cells": [
  {
   "cell_type": "code",
   "execution_count": 3,
   "id": "central-theater",
   "metadata": {},
   "outputs": [],
   "source": [
    "import argparse\n",
    "from perses.samplers.multistate import HybridRepexSampler\n",
    "from openmmtools.multistate import MultiStateReporter\n",
    "import logging\n",
    "\n",
    "_logger = logging.getLogger()\n",
    "_logger.setLevel(logging.DEBUG)\n"
   ]
  },
  {
   "cell_type": "code",
   "execution_count": 5,
   "id": "qualified-stamp",
   "metadata": {},
   "outputs": [
    {
     "name": "stderr",
     "output_type": "stream",
     "text": [
      "WARNING:openmmtools.multistate.multistatereporter:Warning: The openmmtools.multistate API is experimental and may change in future releases\n",
      "DEBUG:openmmtools.multistate.multistatereporter:Initial checkpoint file automatically chosen as /data/chodera/zhangi/perses_benchmark/repex/31/7/0/0_complex_checkpoint.nc\n",
      "DEBUG:openmmtools.multistate.multistatereporter:checkpoint_interval != on-file checkpoint interval! Using on file analysis interval of 10.\n",
      "DEBUG:openmmtools.multistate.multistatereporter:analysis_particle_indices != on-file analysis_particle_indices!Using on file analysis indices of [    0     1     2 ... 16295 16296 16297]\n",
      "WARNING:openmmtools.multistate.multistatesampler:Warning: The openmmtools.multistate API is experimental and may change in future releases\n",
      "DEBUG:mpiplus.mpiplus:Cannot find MPI environment. MPI disabled.\n",
      "DEBUG:mpiplus.mpiplus:Single node: executing <function ReplicaExchangeSampler._display_citations at 0x2b1dcf06a8b0>\n",
      "DEBUG:mpiplus.mpiplus:Single node: executing <function MultiStateSampler._display_citations at 0x2b1dcf0241f0>\n",
      "DEBUG:openmmtools.multistate.multistatesampler:Reading storage file /data/chodera/zhangi/perses_benchmark/repex/31/7/0/0_complex.nc...\n"
     ]
    },
    {
     "name": "stdout",
     "output_type": "stream",
     "text": [
      "Please cite the following:\n",
      "\n",
      "        Friedrichs MS, Eastman P, Vaidyanathan V, Houston M, LeGrand S, Beberg AL, Ensign DL, Bruns CM, and Pande VS. Accelerating molecular dynamic simulations on graphics processing unit. J. Comput. Chem. 30:864, 2009. DOI: 10.1002/jcc.21209\n",
      "        Eastman P and Pande VS. OpenMM: A hardware-independent framework for molecular simulations. Comput. Sci. Eng. 12:34, 2010. DOI: 10.1109/MCSE.2010.27\n",
      "        Eastman P and Pande VS. Efficient nonbonded interactions for molecular dynamics on a graphics processing unit. J. Comput. Chem. 31:1268, 2010. DOI: 10.1002/jcc.21413\n",
      "        Eastman P and Pande VS. Constant constraint matrix approximation: A robust, parallelizable constraint method for molecular simulations. J. Chem. Theor. Comput. 6:434, 2010. DOI: 10.1021/ct900463w\n"
     ]
    },
    {
     "name": "stderr",
     "output_type": "stream",
     "text": [
      "DEBUG:openmmtools.utils:Reading thermodynamic states from storage took   20.486s\n",
      "DEBUG:openmmtools.multistate.multistatereporter:read_replica_thermodynamic_states: iteration = 3420\n",
      "DEBUG:mpiplus.mpiplus:Single node: executing <bound method MultiStateReporter.open of <openmmtools.multistate.multistatereporter.MultiStateReporter object at 0x2b1de4b40670>>\n",
      "DEBUG:openmmtools.multistate.multistatesampler:********************************************************************************\n",
      "DEBUG:openmmtools.multistate.multistatesampler:Iteration 3421/3421\n",
      "DEBUG:openmmtools.multistate.multistatesampler:********************************************************************************\n",
      "DEBUG:mpiplus.mpiplus:Single node: executing <function ReplicaExchangeSampler._mix_replicas at 0x2b1dcf06a550>\n",
      "DEBUG:openmmtools.multistate.replicaexchange:Mixing replicas...\n",
      "DEBUG:openmmtools.multistate.replicaexchange:Will attempt to swap only neighboring replicas.\n",
      "DEBUG:openmmtools.utils:Mixing of replicas took    0.004s\n",
      "DEBUG:openmmtools.multistate.replicaexchange:Accepted 0/10 attempted swaps (0.0%)\n",
      "DEBUG:openmmtools.multistate.multistatesampler:Propagating all replicas...\n",
      "DEBUG:mpiplus.mpiplus:Running _propagate_replica serially.\n",
      "DEBUG:mpiplus.mpiplus:Running _get_replica_move_statistics serially.\n",
      "DEBUG:openmmtools.utils:Propagating all replicas took   35.624s\n",
      "DEBUG:mpiplus.mpiplus:Running _compute_replica_energies serially.\n",
      "DEBUG:openmmtools.utils:Computing energy matrix took   12.774s\n",
      "DEBUG:mpiplus.mpiplus:Single node: executing <function MultiStateSampler._report_iteration at 0x2b1dcf0245e0>\n",
      "DEBUG:mpiplus.mpiplus:Single node: executing <function MultiStateSampler._report_iteration_items at 0x2b1dcf0248b0>\n",
      "DEBUG:openmmtools.multistate.multistatereporter:Iteration 3421 not on the Checkpoint Interval of 10. Sampler State not written.\n",
      "DEBUG:openmmtools.utils:Storing sampler states took    0.053s\n",
      "DEBUG:openmmtools.utils:Writing iteration information to storage took    0.486s\n",
      "DEBUG:openmmtools.multistate.multistatesampler:Not an online analysis iteration\n",
      "DEBUG:mpiplus.mpiplus:Single node: executing <function MultiStateSampler._online_analysis at 0x2b1dcf027430>\n",
      "DEBUG:openmmtools.multistate.multistatesampler:*** ONLINE analysis free energies:\n",
      "DEBUG:openmmtools.multistate.multistatesampler:        -0.0    23.8    23.8    24.0    24.4    18.6    23.1    23.0    22.8    23.0   -16.6\n",
      "DEBUG:openmmtools.utils:Computing online free energy estimate took    0.019s\n",
      "DEBUG:openmmtools.multistate.multistatesampler:Iteration took 48.935s.\n",
      "DEBUG:openmmtools.multistate.multistatesampler:Estimated completion in 0:00:00, at Fri Apr  9 08:39:03 2021 (consuming total wall clock time 1 day, 22:30:31.194238).\n"
     ]
    }
   ],
   "source": [
    "reporter = MultiStateReporter(\"/data/chodera/zhangi/perses_benchmark/repex/31/7/0/0_complex.nc\", checkpoint_interval=1)\n",
    "simulation = HybridRepexSampler.from_storage(reporter)\n",
    "\n",
    "simulation.extend(n_iterations=1)\n"
   ]
  },
  {
   "cell_type": "code",
   "execution_count": 7,
   "id": "canadian-stadium",
   "metadata": {},
   "outputs": [
    {
     "data": {
      "text/plain": [
       "3421"
      ]
     },
     "execution_count": 7,
     "metadata": {},
     "output_type": "execute_result"
    }
   ],
   "source": [
    "simulation.iteration\n",
    "\n"
   ]
  },
  {
   "cell_type": "code",
   "execution_count": null,
   "id": "extreme-devon",
   "metadata": {},
   "outputs": [],
   "source": []
  }
 ],
 "metadata": {
  "kernelspec": {
   "display_name": "Python 3",
   "language": "python",
   "name": "python3"
  },
  "language_info": {
   "codemirror_mode": {
    "name": "ipython",
    "version": 3
   },
   "file_extension": ".py",
   "mimetype": "text/x-python",
   "name": "python",
   "nbconvert_exporter": "python",
   "pygments_lexer": "ipython3",
   "version": "3.8.6"
  }
 },
 "nbformat": 4,
 "nbformat_minor": 5
}
