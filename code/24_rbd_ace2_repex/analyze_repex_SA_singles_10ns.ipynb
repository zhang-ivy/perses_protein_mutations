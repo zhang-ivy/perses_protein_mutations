{
 "cells": [
  {
   "cell_type": "code",
   "execution_count": 1,
   "metadata": {},
   "outputs": [],
   "source": [
    "from perses.analysis import utils\n",
    "from openmmtools.multistate import MultiStateReporter, MultiStateSamplerAnalyzer\n",
    "from simtk import unit\n",
    "import os\n",
    "import itertools\n",
    "from tqdm import tqdm_notebook\n",
    "import pandas as pd\n",
    "import numpy as np\n",
    "import seaborn as sns\n",
    "import matplotlib.pyplot as plt\n",
    "import logging\n",
    "from perses.analysis import utils\n",
    "\n",
    "from openmmtools.constants import kB\n",
    "KT_KCALMOL = kB * 298 * unit.kelvin / unit.kilocalories_per_mole\n",
    "\n",
    "import warnings\n",
    "warnings.filterwarnings('ignore')"
   ]
  },
  {
   "cell_type": "code",
   "execution_count": 2,
   "metadata": {},
   "outputs": [],
   "source": [
    "# Given a path, get dg and ddg\n",
    "def analyze(path):\n",
    "    reporter = MultiStateReporter(path)\n",
    "    analyzer = MultiStateSamplerAnalyzer(reporter)\n",
    "    f_ij, df_ij = analyzer.get_free_energy()\n",
    "    f = f_ij[0,-1] # units = kT\n",
    "#     f = f_ij[0,-1] * analyzer.kT\n",
    "#     dg = f.in_units_of(unit.kilocalories_per_mole)\n",
    "    df = df_ij[0, -1]\n",
    "#     df = df_ij[0, -1] * analyzer.kT\n",
    "#     ddg = df.in_units_of(unit.kilocalories_per_mole)\n",
    "    return f, df\n",
    "\n",
    "def analyze_dom(path):\n",
    "    reporter = MultiStateReporter(path)\n",
    "    ncfile = utils.open_netcdf(path)\n",
    "    n_iterations = ncfile.variables['last_iteration'][0]\n",
    "    print(f\"n_iterations: {n_iterations}\")\n",
    "    dg, ddg = list(), list()\n",
    "#     iterations_to_analyze = list(range (1, n_iterations, 500)) + [int(n_iterations-1)]\n",
    "#     print(iterations_to_analyze) # check that this is giving me the last avail iteration\n",
    "#     for step in iterations_to_analyze: \n",
    "#         analyzer = MultiStateSamplerAnalyzer(reporter, max_n_iterations=step)\n",
    "#         f_ij, df_ij = analyzer.get_free_energy()\n",
    "#         dg.append(f_ij[0,-1])\n",
    "#         ddg.append(df_ij[0,-1])\n",
    "    # Get final free energy\n",
    "    analyzer = MultiStateSamplerAnalyzer(reporter, max_n_iterations=n_iterations)\n",
    "    f_ij, df_ij = analyzer.get_free_energy()\n",
    "    dg.append(f_ij[0,-1])\n",
    "    ddg.append(df_ij[0,-1])\n",
    "    return np.array(dg), np.array(ddg)"
   ]
  },
  {
   "cell_type": "markdown",
   "metadata": {},
   "source": [
    "### 10 ns N501Y (repex/31/3/0)"
   ]
  },
  {
   "cell_type": "code",
   "execution_count": 6,
   "metadata": {},
   "outputs": [],
   "source": [
    "_logger = logging.getLogger()\n",
    "_logger.setLevel(logging.INFO)"
   ]
  },
  {
   "cell_type": "code",
   "execution_count": 3,
   "metadata": {},
   "outputs": [],
   "source": [
    "main_dir = 31\n",
    "sub_dir = 3\n",
    "titles = ['N501Y']"
   ]
  },
  {
   "cell_type": "code",
   "execution_count": 4,
   "metadata": {},
   "outputs": [
    {
     "data": {
      "application/vnd.jupyter.widget-view+json": {
       "model_id": "50e6c3cec5914acea564168067d90c5e",
       "version_major": 2,
       "version_minor": 0
      },
      "text/plain": [
       "  0%|          | 0/1 [00:00<?, ?it/s]"
      ]
     },
     "metadata": {},
     "output_type": "display_data"
    },
    {
     "name": "stderr",
     "output_type": "stream",
     "text": [
      "Warning: The openmmtools.multistate API is experimental and may change in future releases\n",
      "Warning: The openmmtools.multistate API is experimental and may change in future releases\n"
     ]
    },
    {
     "name": "stdout",
     "output_type": "stream",
     "text": [
      "replicate 0\n",
      "analyzing complex\n",
      "n_iterations: 9826\n"
     ]
    },
    {
     "name": "stderr",
     "output_type": "stream",
     "text": [
      "Warning: The openmmtools.multistate API is experimental and may change in future releases\n",
      "Warning: The openmmtools.multistate API is experimental and may change in future releases\n"
     ]
    },
    {
     "name": "stdout",
     "output_type": "stream",
     "text": [
      "analyzing apo\n",
      "n_iterations: 10000\n"
     ]
    }
   ],
   "source": [
    "for r in tqdm_notebook([0]):\n",
    "    print (f\"replicate {r}\")\n",
    "    output_dir = f'/data/chodera/zhangi/perses_benchmark/repex/{main_dir}/{sub_dir}/{r}/'\n",
    "    \n",
    "    print(\"analyzing complex\")\n",
    "    complex_path = os.path.join(output_dir, f\"{r}_complex.nc\")\n",
    "    complex_dg, complex_ddg = analyze_dom(complex_path)\n",
    "    print(\"analyzing apo\")\n",
    "    apo_path = os.path.join(output_dir, f\"{r}_apo.nc\")\n",
    "    apo_dg, apo_ddg = analyze_dom(apo_path)\n",
    "\n",
    "    results = np.array([complex_dg, complex_ddg, apo_dg, apo_ddg])\n",
    "    with open(f'/data/chodera/zhangi/perses_benchmark/repex/{main_dir}/{sub_dir}/{r}/results.npy', 'wb') as f:\n",
    "        np.save(f, results)"
   ]
  },
  {
   "cell_type": "code",
   "execution_count": 5,
   "metadata": {},
   "outputs": [
    {
     "name": "stdout",
     "output_type": "stream",
     "text": [
      "0 complex: 72.38742211518112 (0.6997592397603635) kcal/mol\n",
      "0 apo: 65.70679011803303 (0.14887786508109993) kcal/mol\n",
      "0 DDG: 6.680631997148097 (0.7154212831200286) kcal/mol\n",
      "\n"
     ]
    }
   ],
   "source": [
    "# Read the dicts in and compute free energies (kcal/mol)\n",
    "d_results = {}\n",
    "for r in [0]:\n",
    "    with open(f\"/data/chodera/zhangi/perses_benchmark/repex/{main_dir}/{sub_dir}/{r}/results.npy\", \"rb\") as f:\n",
    "        results = np.load(f, allow_pickle=True)\n",
    "        d_results[r] = results\n",
    "        complex_dg, complex_ddg, apo_dg, apo_ddg = [result[-1]*KT_KCALMOL for result in results]\n",
    "        print(f\"{r} complex: {complex_dg} ({complex_ddg}) kcal/mol\")\n",
    "        print(f\"{r} apo: {apo_dg} ({apo_ddg}) kcal/mol\")\n",
    "        binding_dg = complex_dg - apo_dg\n",
    "        binding_ddg = (apo_ddg**2 + complex_ddg**2)**0.5\n",
    "        print(f\"{r} DDG: {binding_dg} ({binding_ddg}) kcal/mol\")\n",
    "        print()\n",
    "\n"
   ]
  },
  {
   "cell_type": "markdown",
   "metadata": {},
   "source": [
    "### 10 ns Y501N (repex/31/4/0)"
   ]
  },
  {
   "cell_type": "code",
   "execution_count": 6,
   "metadata": {},
   "outputs": [],
   "source": [
    "_logger = logging.getLogger()\n",
    "_logger.setLevel(logging.INFO)"
   ]
  },
  {
   "cell_type": "code",
   "execution_count": 7,
   "metadata": {},
   "outputs": [],
   "source": [
    "main_dir = 31\n",
    "sub_dir = 4\n",
    "titles = ['Y501N']"
   ]
  },
  {
   "cell_type": "code",
   "execution_count": 8,
   "metadata": {},
   "outputs": [
    {
     "data": {
      "application/vnd.jupyter.widget-view+json": {
       "model_id": "2ab40ea60aeb45f391c8348c3ef09df7",
       "version_major": 2,
       "version_minor": 0
      },
      "text/plain": [
       "  0%|          | 0/1 [00:00<?, ?it/s]"
      ]
     },
     "metadata": {},
     "output_type": "display_data"
    },
    {
     "name": "stderr",
     "output_type": "stream",
     "text": [
      "Warning: The openmmtools.multistate API is experimental and may change in future releases\n"
     ]
    },
    {
     "name": "stdout",
     "output_type": "stream",
     "text": [
      "replicate 0\n",
      "analyzing complex\n"
     ]
    },
    {
     "name": "stderr",
     "output_type": "stream",
     "text": [
      "Warning: The openmmtools.multistate API is experimental and may change in future releases\n"
     ]
    },
    {
     "name": "stdout",
     "output_type": "stream",
     "text": [
      "n_iterations: 10000\n"
     ]
    },
    {
     "name": "stderr",
     "output_type": "stream",
     "text": [
      "Warning: The openmmtools.multistate API is experimental and may change in future releases\n",
      "Warning: The openmmtools.multistate API is experimental and may change in future releases\n"
     ]
    },
    {
     "name": "stdout",
     "output_type": "stream",
     "text": [
      "analyzing apo\n",
      "n_iterations: 10000\n"
     ]
    }
   ],
   "source": [
    "for r in tqdm_notebook([0]):\n",
    "    print (f\"replicate {r}\")\n",
    "    output_dir = f'/data/chodera/zhangi/perses_benchmark/repex/{main_dir}/{sub_dir}/{r}/'\n",
    "    \n",
    "    print(\"analyzing complex\")\n",
    "    complex_path = os.path.join(output_dir, f\"{r}_complex.nc\")\n",
    "    complex_dg, complex_ddg = analyze_dom(complex_path)\n",
    "    print(\"analyzing apo\")\n",
    "    apo_path = os.path.join(output_dir, f\"{r}_apo.nc\")\n",
    "    apo_dg, apo_ddg = analyze_dom(apo_path)\n",
    "\n",
    "    results = np.array([complex_dg, complex_ddg, apo_dg, apo_ddg])\n",
    "    with open(f'/data/chodera/zhangi/perses_benchmark/repex/{main_dir}/{sub_dir}/{r}/results.npy', 'wb') as f:\n",
    "        np.save(f, results)"
   ]
  },
  {
   "cell_type": "code",
   "execution_count": 9,
   "metadata": {},
   "outputs": [
    {
     "name": "stdout",
     "output_type": "stream",
     "text": [
      "0 complex: -69.69210585387926 (0.6186782843571833) kcal/mol\n",
      "0 apo: -66.20697127924979 (0.14221286224640278) kcal/mol\n",
      "0 DDG: -3.4851345746294697 (0.634812821013771) kcal/mol\n",
      "\n"
     ]
    }
   ],
   "source": [
    "# Read the dicts in and compute free energies (kcal/mol)\n",
    "d_results = {}\n",
    "for r in [0]:\n",
    "    with open(f\"/data/chodera/zhangi/perses_benchmark/repex/{main_dir}/{sub_dir}/{r}/results.npy\", \"rb\") as f:\n",
    "        results = np.load(f, allow_pickle=True)\n",
    "        d_results[r] = results\n",
    "        complex_dg, complex_ddg, apo_dg, apo_ddg = [result[-1]*KT_KCALMOL for result in results]\n",
    "        print(f\"{r} complex: {complex_dg} ({complex_ddg}) kcal/mol\")\n",
    "        print(f\"{r} apo: {apo_dg} ({apo_ddg}) kcal/mol\")\n",
    "        binding_dg = complex_dg - apo_dg\n",
    "        binding_ddg = (apo_ddg**2 + complex_ddg**2)**0.5\n",
    "        print(f\"{r} DDG: {binding_dg} ({binding_ddg}) kcal/mol\")\n",
    "        print()\n",
    "\n"
   ]
  },
  {
   "cell_type": "markdown",
   "metadata": {},
   "source": [
    "### 10 ns K417N (repex/31/5/0)"
   ]
  },
  {
   "cell_type": "code",
   "execution_count": 3,
   "metadata": {},
   "outputs": [],
   "source": [
    "_logger = logging.getLogger()\n",
    "_logger.setLevel(logging.INFO)"
   ]
  },
  {
   "cell_type": "code",
   "execution_count": 4,
   "metadata": {},
   "outputs": [],
   "source": [
    "main_dir = 31\n",
    "sub_dir = 5\n",
    "titles = ['K417N']"
   ]
  },
  {
   "cell_type": "code",
   "execution_count": 5,
   "metadata": {},
   "outputs": [
    {
     "data": {
      "application/vnd.jupyter.widget-view+json": {
       "model_id": "3dc931171494486f8a48ebbac930f3f3",
       "version_major": 2,
       "version_minor": 0
      },
      "text/plain": [
       "  0%|          | 0/1 [00:00<?, ?it/s]"
      ]
     },
     "metadata": {},
     "output_type": "display_data"
    },
    {
     "name": "stderr",
     "output_type": "stream",
     "text": [
      "Warning: The openmmtools.multistate API is experimental and may change in future releases\n",
      "Warning: The openmmtools.multistate API is experimental and may change in future releases\n"
     ]
    },
    {
     "name": "stdout",
     "output_type": "stream",
     "text": [
      "replicate 0\n",
      "analyzing complex\n",
      "n_iterations: 10000\n"
     ]
    },
    {
     "name": "stderr",
     "output_type": "stream",
     "text": [
      "Warning: The openmmtools.multistate API is experimental and may change in future releases\n",
      "Warning: The openmmtools.multistate API is experimental and may change in future releases\n"
     ]
    },
    {
     "name": "stdout",
     "output_type": "stream",
     "text": [
      "analyzing apo\n",
      "n_iterations: 10000\n"
     ]
    }
   ],
   "source": [
    "for r in tqdm_notebook([0]):\n",
    "    print (f\"replicate {r}\")\n",
    "    output_dir = f'/data/chodera/zhangi/perses_benchmark/repex/{main_dir}/{sub_dir}/{r}/'\n",
    "    \n",
    "    print(\"analyzing complex\")\n",
    "    complex_path = os.path.join(output_dir, f\"{r}_complex.nc\")\n",
    "    complex_dg, complex_ddg = analyze_dom(complex_path)\n",
    "    print(\"analyzing apo\")\n",
    "    apo_path = os.path.join(output_dir, f\"{r}_apo.nc\")\n",
    "    apo_dg, apo_ddg = analyze_dom(apo_path)\n",
    "\n",
    "    results = np.array([complex_dg, complex_ddg, apo_dg, apo_ddg])\n",
    "    with open(f'/data/chodera/zhangi/perses_benchmark/repex/{main_dir}/{sub_dir}/{r}/results.npy', 'wb') as f:\n",
    "        np.save(f, results)"
   ]
  },
  {
   "cell_type": "code",
   "execution_count": 6,
   "metadata": {
    "scrolled": true
   },
   "outputs": [
    {
     "name": "stdout",
     "output_type": "stream",
     "text": [
      "0 complex: -249.2366555543377 (0.6677592289758018) kT\n",
      "0 apo: -251.4332586580079 (0.30072643055274284) kT\n",
      "0 DDG: 2.1966031036702134 (0.7323515371154422) kT\n",
      "\n"
     ]
    }
   ],
   "source": [
    "# Read the dicts in and compute free energies (kT)\n",
    "d_results = {}\n",
    "for r in [0]:\n",
    "    with open(f\"/data/chodera/zhangi/perses_benchmark/repex/{main_dir}/{sub_dir}/{r}/results.npy\", \"rb\") as f:\n",
    "        results = np.load(f, allow_pickle=True)\n",
    "        d_results[r] = results\n",
    "        complex_dg, complex_ddg, apo_dg, apo_ddg = [result[-1] for result in results]\n",
    "        print(f\"{r} complex: {complex_dg} ({complex_ddg}) kT\")\n",
    "        print(f\"{r} apo: {apo_dg} ({apo_ddg}) kT\")\n",
    "        binding_dg = complex_dg - apo_dg\n",
    "        binding_ddg = (apo_ddg**2 + complex_ddg**2)**0.5\n",
    "        print(f\"{r} DDG: {binding_dg} ({binding_ddg}) kT\")\n",
    "        print()\n"
   ]
  },
  {
   "cell_type": "code",
   "execution_count": 7,
   "metadata": {},
   "outputs": [
    {
     "name": "stdout",
     "output_type": "stream",
     "text": [
      "0 complex: -147.59467471143935 (0.3954382471030944) kcal/mol\n",
      "0 apo: -148.89547422600216 (0.17808624335711945) kcal/mol\n",
      "0 DDG: 1.3007995145628115 (0.43368896382663363) kcal/mol\n",
      "\n"
     ]
    }
   ],
   "source": [
    "# Read the dicts in and compute free energies (kcal/mol)\n",
    "d_results = {}\n",
    "for r in [0]:\n",
    "    with open(f\"/data/chodera/zhangi/perses_benchmark/repex/{main_dir}/{sub_dir}/{r}/results.npy\", \"rb\") as f:\n",
    "        results = np.load(f, allow_pickle=True)\n",
    "        d_results[r] = results\n",
    "        complex_dg, complex_ddg, apo_dg, apo_ddg = [result[-1]*KT_KCALMOL for result in results]\n",
    "        print(f\"{r} complex: {complex_dg} ({complex_ddg}) kcal/mol\")\n",
    "        print(f\"{r} apo: {apo_dg} ({apo_ddg}) kcal/mol\")\n",
    "        binding_dg = complex_dg - apo_dg\n",
    "        binding_ddg = (apo_ddg**2 + complex_ddg**2)**0.5\n",
    "        print(f\"{r} DDG: {binding_dg} ({binding_ddg}) kcal/mol\")\n",
    "        print()\n",
    "\n"
   ]
  },
  {
   "cell_type": "markdown",
   "metadata": {},
   "source": [
    "### 10 ns N417K (repex/31/6/0)"
   ]
  },
  {
   "cell_type": "code",
   "execution_count": 9,
   "metadata": {},
   "outputs": [],
   "source": [
    "_logger = logging.getLogger()\n",
    "_logger.setLevel(logging.INFO)"
   ]
  },
  {
   "cell_type": "code",
   "execution_count": 10,
   "metadata": {},
   "outputs": [],
   "source": [
    "main_dir = 31\n",
    "sub_dir = 6\n",
    "titles = ['N417K']"
   ]
  },
  {
   "cell_type": "code",
   "execution_count": 11,
   "metadata": {},
   "outputs": [
    {
     "data": {
      "application/vnd.jupyter.widget-view+json": {
       "model_id": "d9892db941104f1daf8cc3ebbb9bb841",
       "version_major": 2,
       "version_minor": 0
      },
      "text/plain": [
       "  0%|          | 0/1 [00:00<?, ?it/s]"
      ]
     },
     "metadata": {},
     "output_type": "display_data"
    },
    {
     "name": "stderr",
     "output_type": "stream",
     "text": [
      "WARNING:openmmtools.multistate.multistatereporter:Warning: The openmmtools.multistate API is experimental and may change in future releases\n",
      "WARNING:openmmtools.multistate.multistateanalyzer:Warning: The openmmtools.multistate API is experimental and may change in future releases\n"
     ]
    },
    {
     "name": "stdout",
     "output_type": "stream",
     "text": [
      "replicate 0\n",
      "analyzing complex\n",
      "n_iterations: 10000\n"
     ]
    },
    {
     "name": "stderr",
     "output_type": "stream",
     "text": [
      "WARNING:openmmtools.multistate.multistatereporter:Warning: The openmmtools.multistate API is experimental and may change in future releases\n",
      "WARNING:openmmtools.multistate.multistateanalyzer:Warning: The openmmtools.multistate API is experimental and may change in future releases\n"
     ]
    },
    {
     "name": "stdout",
     "output_type": "stream",
     "text": [
      "analyzing apo\n",
      "n_iterations: 10000\n"
     ]
    }
   ],
   "source": [
    "for r in tqdm_notebook([0]):\n",
    "    print (f\"replicate {r}\")\n",
    "    output_dir = f'/data/chodera/zhangi/perses_benchmark/repex/{main_dir}/{sub_dir}/{r}/'\n",
    "    \n",
    "    print(\"analyzing complex\")\n",
    "    complex_path = os.path.join(output_dir, f\"{r}_complex.nc\")\n",
    "    complex_dg, complex_ddg = analyze_dom(complex_path)\n",
    "    print(\"analyzing apo\")\n",
    "    apo_path = os.path.join(output_dir, f\"{r}_apo.nc\")\n",
    "    apo_dg, apo_ddg = analyze_dom(apo_path)\n",
    "\n",
    "    results = np.array([complex_dg, complex_ddg, apo_dg, apo_ddg])\n",
    "    with open(f'/data/chodera/zhangi/perses_benchmark/repex/{main_dir}/{sub_dir}/{r}/results.npy', 'wb') as f:\n",
    "        np.save(f, results)"
   ]
  },
  {
   "cell_type": "code",
   "execution_count": 12,
   "metadata": {},
   "outputs": [
    {
     "name": "stdout",
     "output_type": "stream",
     "text": [
      "0 complex: -17.651776214266906 (0.5098533851734851) kcal/mol\n",
      "0 apo: -15.872766396876752 (0.1678665110475393) kcal/mol\n",
      "0 DDG: -1.779009817390154 (0.5367770858597969) kcal/mol\n",
      "\n"
     ]
    }
   ],
   "source": [
    "# Read the dicts in and compute free energies (kcal/mol)\n",
    "d_results = {}\n",
    "for r in [0]:\n",
    "    with open(f\"/data/chodera/zhangi/perses_benchmark/repex/{main_dir}/{sub_dir}/{r}/results.npy\", \"rb\") as f:\n",
    "        results = np.load(f, allow_pickle=True)\n",
    "        d_results[r] = results\n",
    "        complex_dg, complex_ddg, apo_dg, apo_ddg = [result[-1]*KT_KCALMOL for result in results]\n",
    "        print(f\"{r} complex: {complex_dg} ({complex_ddg}) kcal/mol\")\n",
    "        print(f\"{r} apo: {apo_dg} ({apo_ddg}) kcal/mol\")\n",
    "        binding_dg = complex_dg - apo_dg\n",
    "        binding_ddg = (apo_ddg**2 + complex_ddg**2)**0.5\n",
    "        print(f\"{r} DDG: {binding_dg} ({binding_ddg}) kcal/mol\")\n",
    "        print()\n",
    "\n"
   ]
  },
  {
   "cell_type": "markdown",
   "metadata": {},
   "source": [
    "### 10 ns E484K (repex/31/7/0)"
   ]
  },
  {
   "cell_type": "code",
   "execution_count": 13,
   "metadata": {},
   "outputs": [],
   "source": [
    "_logger = logging.getLogger()\n",
    "_logger.setLevel(logging.INFO)"
   ]
  },
  {
   "cell_type": "code",
   "execution_count": 14,
   "metadata": {},
   "outputs": [],
   "source": [
    "main_dir = 31\n",
    "sub_dir = 7"
   ]
  },
  {
   "cell_type": "code",
   "execution_count": 15,
   "metadata": {},
   "outputs": [
    {
     "data": {
      "application/vnd.jupyter.widget-view+json": {
       "model_id": "d4d91eeae944407d93258203fb5ace9b",
       "version_major": 2,
       "version_minor": 0
      },
      "text/plain": [
       "  0%|          | 0/1 [00:00<?, ?it/s]"
      ]
     },
     "metadata": {},
     "output_type": "display_data"
    },
    {
     "name": "stderr",
     "output_type": "stream",
     "text": [
      "WARNING:openmmtools.multistate.multistatereporter:Warning: The openmmtools.multistate API is experimental and may change in future releases\n",
      "WARNING:openmmtools.multistate.multistateanalyzer:Warning: The openmmtools.multistate API is experimental and may change in future releases\n"
     ]
    },
    {
     "name": "stdout",
     "output_type": "stream",
     "text": [
      "replicate 0\n",
      "analyzing complex\n",
      "n_iterations: 10000\n"
     ]
    },
    {
     "name": "stderr",
     "output_type": "stream",
     "text": [
      "WARNING:openmmtools.multistate.multistatereporter:Warning: The openmmtools.multistate API is experimental and may change in future releases\n",
      "WARNING:openmmtools.multistate.multistateanalyzer:Warning: The openmmtools.multistate API is experimental and may change in future releases\n"
     ]
    },
    {
     "name": "stdout",
     "output_type": "stream",
     "text": [
      "analyzing apo\n",
      "n_iterations: 10000\n"
     ]
    }
   ],
   "source": [
    "for r in tqdm_notebook([0]):\n",
    "    print (f\"replicate {r}\")\n",
    "    output_dir = f'/data/chodera/zhangi/perses_benchmark/repex/{main_dir}/{sub_dir}/{r}/'\n",
    "    \n",
    "    print(\"analyzing complex\")\n",
    "    complex_path = os.path.join(output_dir, f\"{r}_complex.nc\")\n",
    "    complex_dg, complex_ddg = analyze_dom(complex_path)\n",
    "    print(\"analyzing apo\")\n",
    "    apo_path = os.path.join(output_dir, f\"{r}_apo.nc\")\n",
    "    apo_dg, apo_ddg = analyze_dom(apo_path)\n",
    "\n",
    "    results = np.array([complex_dg, complex_ddg, apo_dg, apo_ddg])\n",
    "    with open(f'/data/chodera/zhangi/perses_benchmark/repex/{main_dir}/{sub_dir}/{r}/results.npy', 'wb') as f:\n",
    "        np.save(f, results)"
   ]
  },
  {
   "cell_type": "code",
   "execution_count": 16,
   "metadata": {},
   "outputs": [
    {
     "name": "stdout",
     "output_type": "stream",
     "text": [
      "0 complex: -102.03657311627684 (0.7209974065943968) kcal/mol\n",
      "0 apo: -100.85390303459356 (0.27340268394871076) kcal/mol\n",
      "0 DDG: -1.182670081683284 (0.7710942146756158) kcal/mol\n",
      "\n"
     ]
    }
   ],
   "source": [
    "# Read the dicts in and compute free energies (kcal/mol)\n",
    "d_results = {}\n",
    "for r in [0]:\n",
    "    with open(f\"/data/chodera/zhangi/perses_benchmark/repex/{main_dir}/{sub_dir}/{r}/results.npy\", \"rb\") as f:\n",
    "        results = np.load(f, allow_pickle=True)\n",
    "        d_results[r] = results\n",
    "        complex_dg, complex_ddg, apo_dg, apo_ddg = [result[-1]*KT_KCALMOL for result in results]\n",
    "        print(f\"{r} complex: {complex_dg} ({complex_ddg}) kcal/mol\")\n",
    "        print(f\"{r} apo: {apo_dg} ({apo_ddg}) kcal/mol\")\n",
    "        binding_dg = complex_dg - apo_dg\n",
    "        binding_ddg = (apo_ddg**2 + complex_ddg**2)**0.5\n",
    "        print(f\"{r} DDG: {binding_dg} ({binding_ddg}) kcal/mol\")\n",
    "        print()\n",
    "\n"
   ]
  },
  {
   "cell_type": "code",
   "execution_count": null,
   "metadata": {},
   "outputs": [],
   "source": []
  },
  {
   "cell_type": "markdown",
   "metadata": {},
   "source": [
    "### 10 ns K484E (repex/31/8/0)"
   ]
  },
  {
   "cell_type": "code",
   "execution_count": 14,
   "metadata": {},
   "outputs": [],
   "source": [
    "_logger = logging.getLogger()\n",
    "_logger.setLevel(logging.INFO)"
   ]
  },
  {
   "cell_type": "code",
   "execution_count": 17,
   "metadata": {},
   "outputs": [],
   "source": [
    "main_dir = 31\n",
    "sub_dir = 8"
   ]
  },
  {
   "cell_type": "code",
   "execution_count": 18,
   "metadata": {},
   "outputs": [
    {
     "data": {
      "application/vnd.jupyter.widget-view+json": {
       "model_id": "1496155943424bd3a8523089481e2565",
       "version_major": 2,
       "version_minor": 0
      },
      "text/plain": [
       "  0%|          | 0/1 [00:00<?, ?it/s]"
      ]
     },
     "metadata": {},
     "output_type": "display_data"
    },
    {
     "name": "stderr",
     "output_type": "stream",
     "text": [
      "WARNING:openmmtools.multistate.multistatereporter:Warning: The openmmtools.multistate API is experimental and may change in future releases\n",
      "WARNING:openmmtools.multistate.multistateanalyzer:Warning: The openmmtools.multistate API is experimental and may change in future releases\n"
     ]
    },
    {
     "name": "stdout",
     "output_type": "stream",
     "text": [
      "replicate 0\n",
      "analyzing complex\n",
      "n_iterations: 10000\n"
     ]
    },
    {
     "name": "stderr",
     "output_type": "stream",
     "text": [
      "WARNING:openmmtools.multistate.multistatereporter:Warning: The openmmtools.multistate API is experimental and may change in future releases\n",
      "WARNING:openmmtools.multistate.multistateanalyzer:Warning: The openmmtools.multistate API is experimental and may change in future releases\n"
     ]
    },
    {
     "name": "stdout",
     "output_type": "stream",
     "text": [
      "analyzing apo\n",
      "n_iterations: 10000\n"
     ]
    }
   ],
   "source": [
    "for r in tqdm_notebook([0]):\n",
    "    print (f\"replicate {r}\")\n",
    "    output_dir = f'/data/chodera/zhangi/perses_benchmark/repex/{main_dir}/{sub_dir}/{r}/'\n",
    "    \n",
    "    print(\"analyzing complex\")\n",
    "    complex_path = os.path.join(output_dir, f\"{r}_complex.nc\")\n",
    "    complex_dg, complex_ddg = analyze_dom(complex_path)\n",
    "    print(\"analyzing apo\")\n",
    "    apo_path = os.path.join(output_dir, f\"{r}_apo.nc\")\n",
    "    apo_dg, apo_ddg = analyze_dom(apo_path)\n",
    "\n",
    "    results = np.array([complex_dg, complex_ddg, apo_dg, apo_ddg])\n",
    "    with open(f'/data/chodera/zhangi/perses_benchmark/repex/{main_dir}/{sub_dir}/{r}/results.npy', 'wb') as f:\n",
    "        np.save(f, results)"
   ]
  },
  {
   "cell_type": "code",
   "execution_count": 19,
   "metadata": {},
   "outputs": [
    {
     "name": "stdout",
     "output_type": "stream",
     "text": [
      "0 complex: -227.12082165605312 (0.705428772647102) kcal/mol\n",
      "0 apo: -225.75281689512838 (0.43596270355033) kcal/mol\n",
      "0 DDG: -1.368004760924748 (0.8292727127822969) kcal/mol\n",
      "\n"
     ]
    }
   ],
   "source": [
    "# Read the dicts in and compute free energies (kcal/mol)\n",
    "d_results = {}\n",
    "for r in [0]:\n",
    "    with open(f\"/data/chodera/zhangi/perses_benchmark/repex/{main_dir}/{sub_dir}/{r}/results.npy\", \"rb\") as f:\n",
    "        results = np.load(f, allow_pickle=True)\n",
    "        d_results[r] = results\n",
    "        complex_dg, complex_ddg, apo_dg, apo_ddg = [result[-1]*KT_KCALMOL for result in results]\n",
    "        print(f\"{r} complex: {complex_dg} ({complex_ddg}) kcal/mol\")\n",
    "        print(f\"{r} apo: {apo_dg} ({apo_ddg}) kcal/mol\")\n",
    "        binding_dg = complex_dg - apo_dg\n",
    "        binding_ddg = (apo_ddg**2 + complex_ddg**2)**0.5\n",
    "        print(f\"{r} DDG: {binding_dg} ({binding_ddg}) kcal/mol\")\n",
    "        print()\n",
    "\n"
   ]
  },
  {
   "cell_type": "code",
   "execution_count": null,
   "metadata": {},
   "outputs": [],
   "source": []
  }
 ],
 "metadata": {
  "kernelspec": {
   "display_name": "Python 3",
   "language": "python",
   "name": "python3"
  },
  "language_info": {
   "codemirror_mode": {
    "name": "ipython",
    "version": 3
   },
   "file_extension": ".py",
   "mimetype": "text/x-python",
   "name": "python",
   "nbconvert_exporter": "python",
   "pygments_lexer": "ipython3",
   "version": "3.8.6"
  }
 },
 "nbformat": 4,
 "nbformat_minor": 4
}
