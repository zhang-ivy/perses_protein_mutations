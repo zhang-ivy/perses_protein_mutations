{
 "cells": [
  {
   "cell_type": "markdown",
   "metadata": {},
   "source": [
    "# Run torsion scans"
   ]
  },
  {
   "cell_type": "code",
   "execution_count": 46,
   "metadata": {},
   "outputs": [],
   "source": [
    "import os\n",
    "import pickle\n",
    "import numpy as np\n",
    "from openmmtools.integrators import LangevinIntegrator\n",
    "from openmmtools.states import ThermodynamicState, CompoundThermodynamicState, SamplerState\n",
    "from perses.annihilation.lambda_protocol import RelativeAlchemicalState, LambdaProtocol, AlchemicalState\n",
    "from openmmtools.alchemy import AbsoluteAlchemicalFactory, AlchemicalRegion, AlchemicalState\n",
    "from simtk import openmm, unit\n",
    "from tqdm import tqdm\n",
    "import mdtraj as md\n",
    "from openmmtools.mcmc import MCDihedralRotationMove, LangevinSplittingDynamicsMove\n",
    "import math\n",
    "from matplotlib import pyplot as plt\n",
    "import logging\n",
    "import copy\n",
    "from openmmtools import cache\n",
    "import scipy\n",
    "from perses.tests.test_topology_proposal import generate_atp, generate_dipeptide_top_pos_sys\n",
    "\n",
    "logger = logging.getLogger()\n",
    "logger.setLevel(logging.INFO)\n"
   ]
  },
  {
   "cell_type": "code",
   "execution_count": 38,
   "metadata": {},
   "outputs": [],
   "source": [
    "def run_md(htf, endstate, repartitioned=False):\n",
    "\n",
    "    system = htf.hybrid_system\n",
    "    positions = htf.hybrid_positions\n",
    "    temperature = 300 * unit.kelvin\n",
    "    collision_rate = 1 / unit.picosecond\n",
    "    timestep = 4.0 * unit.femtosecond\n",
    "    platform_name = 'CUDA'\n",
    "    nsteps = 100\n",
    "    \n",
    "    if not repartitioned:\n",
    "        print(\"Vanilla htf -- creating thermostate\")\n",
    "        # Create CompoundThermodynamicState at the appropriate endstate\n",
    "        lambda_alchemical_state = RelativeAlchemicalState.from_system(system)\n",
    "        lambda_protocol = LambdaProtocol(functions = 'default')\n",
    "        lambda_alchemical_state.set_alchemical_parameters(endstate, lambda_protocol)\n",
    "        thermodynamic_state = CompoundThermodynamicState(ThermodynamicState(system, temperature=temperature), composable_states=[lambda_alchemical_state])\n",
    "    else:  \n",
    "        print(\"Repartioned htf -- creating alchemical region first, then thermostate\")\n",
    "        # Alchemify the hybrid system\n",
    "        atoms_to_alchemify = list(htf._atom_classes['unique_new_atoms']) + list(htf._atom_classes['unique_old_atoms'])\n",
    "\n",
    "        alch_factory = AbsoluteAlchemicalFactory(consistent_exceptions=False)\n",
    "        alchemical_region = AlchemicalRegion(alchemical_atoms=list(atoms_to_alchemify), alchemical_torsions=True)\n",
    "        alchemical_system = alch_factory.create_alchemical_system(htf.hybrid_system, alchemical_region)\n",
    "        alchemical_state = AlchemicalState.from_system(alchemical_system)\n",
    "        alchemical_state.set_alchemical_parameters(endstate)\n",
    "        thermodynamic_state = CompoundThermodynamicState(ThermodynamicState(alchemical_system, temperature=temperature), composable_states=[alchemical_state])\n",
    "\n",
    "    # Set up integrator\n",
    "    integrator = LangevinIntegrator(temperature, collision_rate, timestep)\n",
    "\n",
    "    # Set up context\n",
    "    platform = openmm.Platform.getPlatformByName(platform_name)\n",
    "    if platform_name in ['CUDA', 'OpenCL']:\n",
    "        platform.setPropertyDefaultValue('Precision', 'mixed')\n",
    "    if platform_name in ['CUDA']:\n",
    "        platform.setPropertyDefaultValue('DeterministicForces', 'true')\n",
    "        \n",
    "    context = thermodynamic_state.create_context(integrator, platform=platform)\n",
    "#     context, integrator = cache.global_context_cache.get_context(thermodynamic_state, integrator)\n",
    "    p = context.getParameters()\n",
    "    for x in p:\n",
    "        print(x, p[x])\n",
    "    \n",
    "#     context = openmm.Context(system, integrator, platform)\n",
    "    context.setPeriodicBoxVectors(*system.getDefaultPeriodicBoxVectors())\n",
    "    context.setPositions(positions)\n",
    "    context.setVelocitiesToTemperature(temperature)\n",
    "    print(thermodynamic_state.reduced_potential(context))\n",
    "    \n",
    "    md.Trajectory(np.array(htf.old_positions(positions)), md.Topology.from_openmm(htf._topology_proposal.old_topology)).save(\"nan_before_minimize.pdb\")\n",
    "\n",
    "    # Minimize\n",
    "    openmm.LocalEnergyMinimizer.minimize(context)\n",
    "\n",
    "    md.Trajectory(np.array(htf.old_positions(positions)), md.Topology.from_openmm(htf._topology_proposal.old_topology)).save(\"nan_after_minimize.pdb\")\n",
    "    \n",
    "    # Run equilibration\n",
    "    for step in tqdm(range(nsteps)):\n",
    "        integrator.step(1)\n",
    "#         md.Trajectory(np.array(htf.old_positions(positions)), md.Topology.from_openmm(htf._topology_proposal.old_topology)).save(\"nan_after_md.pdb\")\n",
    "    \n",
    "    print(thermodynamic_state.reduced_potential(context))\n",
    "    return context, thermodynamic_state"
   ]
  },
  {
   "cell_type": "markdown",
   "metadata": {},
   "source": [
    "### Sub-class MCDihedralRotationMove"
   ]
  },
  {
   "cell_type": "code",
   "execution_count": 3,
   "metadata": {},
   "outputs": [],
   "source": [
    "# 1) Remove metropolize part in apply()\n",
    "# 2) Pass -theta to compute_dihedral()\n",
    "\n",
    "class MCDihedralRotationMove2(MCDihedralRotationMove):\n",
    "    def rotate_positions(self, initial_positions):\n",
    "        \"\"\"Apply rotation to atom_subset positions.\n",
    "        Parameters\n",
    "        ----------\n",
    "        initial_positions : numpy.ndarray simtk.unit.Quantity\n",
    "            The positions of all atoms in atom_subset.\n",
    "        Returns\n",
    "        -------\n",
    "        rotated_positions : numpy.ndarray simtk.unit.Quantity\n",
    "            The rotated positions.\n",
    "        \"\"\"\n",
    "        import math\n",
    "        import copy\n",
    "        import numpy as np \n",
    "        import logging\n",
    "        logger = logging.getLogger()\n",
    "        \n",
    "        old_angle = self.compute_dihedral(initial_positions[:4])\n",
    "\n",
    "        if self.desired_angle == -np.inf:\n",
    "            # Choose a random rotation angle\n",
    "            theta = random.uniform(-math.pi, math.pi)\n",
    "        else:\n",
    "            # If desired_angle is specified, determine rotation angle\n",
    "            if not (self.desired_angle <= math.pi and self.desired_angle >= -math.pi):\n",
    "                raise Exception(\"Desired angle must be less than pi and greater than -pi\")\n",
    "            theta = self.desired_angle - old_angle\n",
    "        logger.info(f\"Rotating by {theta} radians\")\n",
    "\n",
    "        # Make a copy of the initial positions\n",
    "        new_positions = copy.deepcopy(initial_positions)\n",
    "\n",
    "        # Find the rotation axis using the initial positions\n",
    "        axis1 = 1\n",
    "        axis2 = 2\n",
    "        rotation_axis = (initial_positions[axis1] - initial_positions[axis2]) / initial_positions.unit\n",
    "\n",
    "        # Calculate the rotation matrix\n",
    "        rotation_matrix = self.generate_rotation_matrix(rotation_axis, -theta) ## CHANGED theta to negative\n",
    "\n",
    "        # Apply the rotation matrix to the target atoms\n",
    "        for atom_index in range(3, len(self.atom_subset)):\n",
    "            # Find the reduced position (substract out axis)\n",
    "            reduced_position = (initial_positions[atom_index] - initial_positions[axis2])._value\n",
    "\n",
    "            # Find the new positions by multiplying by rot matrix\n",
    "            new_position = np.dot(rotation_matrix, reduced_position) * initial_positions.unit + initial_positions[axis2]\n",
    "\n",
    "            # Update the new positions\n",
    "            new_positions[atom_index][0] = new_position[0]\n",
    "            new_positions[atom_index][1] = new_position[1]\n",
    "            new_positions[atom_index][2] = new_position[2]\n",
    "        \n",
    "        return new_positions\n",
    "    def apply(self, thermodynamic_state, sampler_state):\n",
    "        \"\"\"Apply a metropolized move to the sampler state.\n",
    "        Total number of acceptances and proposed move are updated.\n",
    "        Parameters\n",
    "        ----------\n",
    "        thermodynamic_state : openmmtools.states.ThermodynamicState\n",
    "           The thermodynamic state to use to apply the move.\n",
    "        sampler_state : openmmtools.states.SamplerState\n",
    "           The initial sampler state to apply the move to. This is modified.\n",
    "        \"\"\"\n",
    "#         from openmmtools import cache\n",
    "        import copy\n",
    "#         timer = Timer()\n",
    "#         benchmark_id = 'Applying {}'.format(self.__class__.__name__ )\n",
    "#         timer.start(benchmark_id)\n",
    "\n",
    "        # Check if we have to use the global cache.\n",
    "        if self.context_cache is None:\n",
    "            context_cache = cache.global_context_cache\n",
    "        else:\n",
    "            context_cache = self.context_cache\n",
    "\n",
    "        # Create context, any integrator works.\n",
    "        context, unused_integrator = context_cache.get_context(thermodynamic_state)\n",
    "        \n",
    "        # Compute initial energy. We don't need to set velocities to compute the potential.\n",
    "        # TODO assume sampler_state.potential_energy is the correct potential if not None?\n",
    "        sampler_state.apply_to_context(context, ignore_velocities=True)\n",
    "        initial_energy = thermodynamic_state.reduced_potential(context)\n",
    "\n",
    "        # Handle default and weird cases for atom_subset.\n",
    "        if self.atom_subset is None:\n",
    "            atom_subset = slice(None)\n",
    "        elif not isinstance(self.atom_subset, slice) and len(self.atom_subset) == 1:\n",
    "            # Slice so that initial_positions (below) will have a 2D shape.\n",
    "            atom_subset = slice(self.atom_subset[0], self.atom_subset[0]+1)\n",
    "        else:\n",
    "            atom_subset = self.atom_subset\n",
    "\n",
    "        # Store initial positions of the atoms that are moved.\n",
    "        # We'll use this also to recover in case the move is rejected.\n",
    "        if isinstance(atom_subset, slice):\n",
    "            # Numpy array when sliced return a view, they are not copied.\n",
    "            initial_positions = copy.deepcopy(sampler_state.positions[atom_subset])\n",
    "        else:\n",
    "            # This automatically creates a copy.\n",
    "            initial_positions = sampler_state.positions[atom_subset]\n",
    "\n",
    "        # Propose perturbed positions. Modifying the reference changes the sampler state.\n",
    "        proposed_positions = self._propose_positions(initial_positions)\n",
    "\n",
    "        # Compute the energy of the proposed positions.\n",
    "        sampler_state.positions[atom_subset] = proposed_positions\n",
    "        sampler_state.apply_to_context(context, ignore_velocities=True)\n",
    "        proposed_energy = thermodynamic_state.reduced_potential(context)\n",
    "\n",
    "#         # Accept or reject with Metropolis criteria.\n",
    "#         delta_energy = proposed_energy - initial_energy\n",
    "#         if (not np.isnan(proposed_energy) and\n",
    "#                 (delta_energy <= 0.0 or np.random.rand() < np.exp(-delta_energy))):\n",
    "#             self.n_accepted += 1\n",
    "#         else:\n",
    "#             # Restore original positions.\n",
    "#             sampler_state.positions[atom_subset] = initial_positions\n",
    "#         self.n_proposed += 1\n",
    "\n",
    "#         # Print timing information.\n",
    "#         timer.stop(benchmark_id)\n",
    "#         #timer.report_timing()\n",
    "        \n",
    "        return proposed_energy, sampler_state.positions"
   ]
  },
  {
   "cell_type": "markdown",
   "metadata": {},
   "source": [
    "### Define function for computing potential components"
   ]
  },
  {
   "cell_type": "code",
   "execution_count": 58,
   "metadata": {},
   "outputs": [],
   "source": [
    "from openmmtools.constants import kB\n",
    "temperature = 300.0 * unit.kelvin\n",
    "kT = kB * temperature\n",
    "beta = 1.0/kT\n",
    "def compute_potential_components(context, beta = beta):\n",
    "    \"\"\"\n",
    "    Compute potential energy, raising an exception if it is not finite.\n",
    "    Parameters\n",
    "    ----------\n",
    "    context : simtk.openmm.Context\n",
    "        The context from which to extract, System, parameters, and positions.\n",
    "    \"\"\"\n",
    "    # Make a deep copy of the system.\n",
    "    import copy\n",
    "\n",
    "#     from perses.dispersed.utils import configure_platform\n",
    "#     platform = configure_platform(platform.getName(), fallback_platform_name='Reference', precision='double')\n",
    "    platform = openmm.Platform.getPlatformByName('CUDA')\n",
    "    platform.setPropertyDefaultValue('CudaPrecision', 'mixed')\n",
    "    platform.setPropertyDefaultValue('DeterministicForces', 'true')\n",
    "\n",
    "    system = context.getSystem()\n",
    "    system = copy.deepcopy(system)\n",
    "    # Get positions.\n",
    "    positions = context.getState(getPositions=True).getPositions(asNumpy=True)\n",
    "    # Get Parameters\n",
    "    parameters = context.getParameters()\n",
    "    # Segregate forces.\n",
    "    for index in range(system.getNumForces()):\n",
    "        force = system.getForce(index)\n",
    "        force.setForceGroup(index)\n",
    "    # Create new Context.\n",
    "    integrator = openmm.VerletIntegrator(1.0 * unit.femtoseconds)\n",
    "    context = openmm.Context(system, integrator, platform)\n",
    "    context.setPositions(positions)\n",
    "    for (parameter, value) in parameters.items():\n",
    "        context.setParameter(parameter, value)\n",
    "    energy_components = list()\n",
    "    for index in range(system.getNumForces()):\n",
    "        force = system.getForce(index)\n",
    "        forcename = force.__class__.__name__\n",
    "        groups = 1<<index\n",
    "        potential = beta * context.getState(getEnergy=True, groups=groups).getPotentialEnergy()\n",
    "        energy_components.append((forcename, potential))\n",
    "    del context, integrator\n",
    "    return energy_components"
   ]
  },
  {
   "cell_type": "markdown",
   "metadata": {},
   "source": [
    "### Define run torsion scan function"
   ]
  },
  {
   "cell_type": "code",
   "execution_count": 55,
   "metadata": {},
   "outputs": [],
   "source": [
    "def run_torsion_scan(htf, endstate, is_old, hybrid_indices, vanilla_indices, other_indices, repartitioned=False):\n",
    "    \"\"\"\n",
    "    hybrid_indices : list of int\n",
    "        indices of the dihedral atoms from the hybrid system\n",
    "    vanilla_indices : list of int\n",
    "        indices of the dihedral atoms from the vanilla (old or new) system\n",
    "    other_indices : list of int\n",
    "        indices of the non-dihedral sidechain atoms to be rotated, from the hybrid system\n",
    "    \"\"\"\n",
    "    \n",
    "#     d_masses = {}\n",
    "#     # Set particle masses to 0\n",
    "#     for index in hybrid_indices:\n",
    "#         d_masses[index] = htf.hybrid_system.getParticleMass(index)\n",
    "#         htf.hybrid_system.setParticleMass(index, 0.0)\n",
    "    \n",
    "#     # Turn off constraints involving massless particles\n",
    "#     for i in reversed(range(htf.hybrid_system.getNumConstraints())):\n",
    "#         p1, p2, d = htf.hybrid_system.getConstraintParameters(i)\n",
    "#         if p1 in hybrid_indices or p2 in hybrid_indices:\n",
    "#             if htf.hybrid_system.getParticleMass(p1) == 0*unit.amu or htf.hybrid_system.getParticleMass(p2) == 0*unit.amu:\n",
    "#                 htf.hybrid_system.removeConstraint(i)\n",
    "    \n",
    "    # Run MD\n",
    "    context, thermodynamic_state = run_md(htf, endstate, repartitioned=repartitioned)\n",
    "    \n",
    "    # Create sampler state\n",
    "    sampler_state = SamplerState.from_context(context)\n",
    "    \n",
    "    # Compute current dihedral\n",
    "    if is_old:\n",
    "        dihedral = md.compute_dihedrals(md.Trajectory(np.array(htf.old_positions(htf.hybrid_positions)), \n",
    "                                                      md.Topology.from_openmm(htf._topology_proposal.old_topology)), \n",
    "                                        np.array([vanilla_indices]))[0][0]\n",
    "    else:\n",
    "        dihedral = md.compute_dihedrals(md.Trajectory(np.array(htf.new_positions(htf.hybrid_positions)), \n",
    "                                                      md.Topology.from_openmm(htf._topology_proposal.new_topology)), \n",
    "                                        np.array([vanilla_indices]))[0][0]\n",
    "    print(dihedral)\n",
    "    \n",
    "    # Run scan\n",
    "    d = {} # key : angle, value : energy\n",
    "    new_dihedral = dihedral + 0.262\n",
    "    positions_all = []\n",
    "    for i in range(25):\n",
    "        # Add correction if the angle is no longer in the domain of [-pi, pi]\n",
    "        if new_dihedral > math.pi: \n",
    "            new_dihedral = -math.pi + (new_dihedral - math.pi)\n",
    "        elif new_dihedral < -math.pi:\n",
    "            new_dihedral = math.pi + (new_dihedral + math.pi)\n",
    "        \n",
    "        print(thermodynamic_state.reduced_potential(context))\n",
    "        \n",
    "        # Apply rotation move\n",
    "        move = MCDihedralRotationMove2(hybrid_indices + other_indices, desired_angle=new_dihedral) # Rotate the sidechain by 15 degrees\n",
    "        move.apply(thermodynamic_state, sampler_state)\n",
    "        \n",
    "        sampler_state.apply_to_context(context)\n",
    "#         openmm.LocalEnergyMinimizer.minimize(context)\n",
    "        energy = thermodynamic_state.reduced_potential(context)\n",
    "        energies = [energy]\n",
    "        \n",
    "        energy_comps = compute_potential_components(context)\n",
    "        for name, force in energy_comps:\n",
    "            print(\"\\t\\t\\t{}: {}\".format(name, force))\n",
    "        print(f'added forces:{sum([energy for name, energy in energy_comps])}')\n",
    "        \n",
    "#         sampler_state.update_from_context(context)\n",
    "        \n",
    "#         # Apply relaxation move 3x\n",
    "#         energies = []\n",
    "#         for i in range(3):\n",
    "#             relax_move = LangevinSplittingDynamicsMove(timestep=2.0*unit.femtoseconds, collision_rate=1.0/unit.picoseconds, n_steps=10000)\n",
    "#             relax_move.apply(thermodynamic_state, sampler_state)\n",
    "#             sampler_state.apply_to_context(context)\n",
    "#             energy = thermodynamic_state.reduced_potential(context)\n",
    "#             energies.append(energy)\n",
    "#             positions = sampler_state.positions\n",
    "\n",
    "    \n",
    "        d[new_dihedral] = (np.mean(energies), scipy.stats.sem(energies))\n",
    "        \n",
    "#         if is_old:\n",
    "#             positions_all.append(htf.old_positions(positions)/unit.nanometer) # get last positions from last relaxtion\n",
    "#         else:\n",
    "#             positions_all.append(htf.new_positions(positions)/unit.nanometer) # get last positions from last relaxtion\n",
    "        \n",
    "        # Increment dihedral angle by 15 degrees\n",
    "        new_dihedral += 0.262\n",
    "    \n",
    "    print(f\"raw d: {d}\")\n",
    "        \n",
    "#     # Write out pdb of positions\n",
    "#     if is_old:\n",
    "#         md.Trajectory(np.array(positions_all), md.Topology.from_openmm(htf._topology_proposal.old_topology)).save(\"traj.pdb\")\n",
    "#     else:\n",
    "#         md.Trajectory(np.array(positions_all), md.Topology.from_openmm(htf._topology_proposal.new_topology)).save(\"traj.pdb\")\n",
    "        \n",
    "    # Plot scan data\n",
    "    minimum = min([val[0] for val in list(d.values())])\n",
    "    print(f\"min: {minimum}\")\n",
    "    d_corrected = {}\n",
    "    for k, v in d.items():\n",
    "        d_corrected[k] = (v[0] - minimum, v[1])\n",
    "    print(f\"d corrected: {d_corrected}\")\n",
    "    plt.errorbar(list(d_corrected.keys()), [mean for mean, stderr in list(d_corrected.values())], yerr=[stderr for mean, stderr in list(d_corrected.values())], fmt='o')\n",
    "    plt.show()\n",
    "    \n",
    "#     # Set masses back to normal\n",
    "#     for index in hybrid_indices:\n",
    "#         thermodynamic_state.system.setParticleMass(index, d_masses[index])\n",
    "#     thermodynamic_state.apply_to_context(context)\n",
    "    \n",
    "    return d_corrected\n",
    "    \n",
    "\n",
    "# rp_list = []\n",
    "# for (state_name, state, pos, box_vectors) in attrib_list:\n",
    "#     integrator = openmm.VerletIntegrator(1.0 * unit.femtoseconds)\n",
    "#     context = state.create_context(integrator, platform)\n",
    "#     samplerstate = states.SamplerState(positions = pos, box_vectors = box_vectors)\n",
    "#     samplerstate.apply_to_context(context)\n",
    "#     rp = state.reduced_potential(context)\n",
    "#     rp_list.append(rp)\n",
    "#     energy_comps = compute_potential_components(context)\n",
    "#     for name, force in energy_comps:\n",
    "#         print(\"\\t\\t\\t{}: {}\".format(name, force))\n",
    "#     _logger.debug(f'added forces:{sum([energy for name, energy in energy_comps])}')\n",
    "#     _logger.debug(f'rp: {rp}')\n",
    "#     if trajectory_directory is not None:\n",
    "#         _logger.info(f'Saving {state_name} state xml to {trajectory_directory}/{state_name}-state.gz')\n",
    "#         state = context.getState(getPositions=True, getVelocities=True, getForces=True, getEnergy=True, getParameters=True)\n",
    "#         data.serialize(state,f'{trajectory_directory}-{state_name}-state.gz')\n",
    "#     del context, integrator"
   ]
  },
  {
   "cell_type": "code",
   "execution_count": 5,
   "metadata": {},
   "outputs": [],
   "source": [
    "torsion_scans = []"
   ]
  },
  {
   "cell_type": "code",
   "execution_count": null,
   "metadata": {},
   "outputs": [],
   "source": []
  },
  {
   "cell_type": "markdown",
   "metadata": {},
   "source": [
    "### Generate torsion scans for the vanilla htf: THR->ALA lambda = 0"
   ]
  },
  {
   "cell_type": "code",
   "execution_count": 9,
   "metadata": {},
   "outputs": [],
   "source": [
    "from simtk.openmm import app, unit\n",
    "from openmmforcefields.generators import SystemGenerator\n"
   ]
  },
  {
   "cell_type": "code",
   "execution_count": 18,
   "metadata": {},
   "outputs": [],
   "source": [
    "# Read in htf for 10 ns eq, 2 ns neq T42A\n",
    "with open(\"/data/chodera/zhangi/perses_benchmark/neq/8/11/11_apo.pickle\", \"rb\") as f:\n",
    "    htf = pickle.load(f)"
   ]
  },
  {
   "cell_type": "code",
   "execution_count": 66,
   "metadata": {},
   "outputs": [],
   "source": [
    "# Read in htf capped amino acid THR -> ALA to check this code is right\n",
    "# with open(\"/data/chodera/zhangi/perses_benchmark/neq/7/40/40_vacuum.pickle\", \"rb\") as f:\n",
    "#     htf = pickle.load(f)\n",
    "\n",
    "# ALA -> THR\n",
    "with open(\"/data/chodera/zhangi/perses_benchmark/neq/7/39/39_vacuum.pickle\", \"rb\") as f:\n",
    "    htf = pickle.load(f)"
   ]
  },
  {
   "cell_type": "markdown",
   "metadata": {},
   "source": [
    "#### Look at hybrid topology to determine indices"
   ]
  },
  {
   "cell_type": "code",
   "execution_count": 67,
   "metadata": {},
   "outputs": [
    {
     "name": "stdout",
     "output_type": "stream",
     "text": [
      "ACE1-H1 0\n",
      "ACE1-CH3 1\n",
      "ACE1-H2 2\n",
      "ACE1-H3 3\n",
      "ACE1-C 4\n",
      "ACE1-O 5\n",
      "ALA2-N 6\n",
      "ALA2-H 7\n",
      "ALA2-CA 8\n",
      "ALA2-HA 9\n",
      "ALA2-CB 10\n",
      "ALA2-HB1 11\n",
      "ALA2-HB2 12\n",
      "ALA2-HB3 13\n",
      "ALA2-C 14\n",
      "ALA2-O 15\n",
      "ALA2-CB 22\n",
      "ALA2-HB 23\n",
      "ALA2-CG2 24\n",
      "ALA2-HG21 25\n",
      "ALA2-HG22 26\n",
      "ALA2-HG23 27\n",
      "ALA2-OG1 28\n",
      "ALA2-HG1 29\n",
      "NME3-N 16\n",
      "NME3-H 17\n",
      "NME3-C 18\n",
      "NME3-H1 19\n",
      "NME3-H2 20\n",
      "NME3-H3 21\n"
     ]
    }
   ],
   "source": [
    "for atom in htf.hybrid_topology.atoms:\n",
    "    print(atom, atom.index)"
   ]
  },
  {
   "cell_type": "code",
   "execution_count": 68,
   "metadata": {
    "scrolled": true
   },
   "outputs": [
    {
     "name": "stdout",
     "output_type": "stream",
     "text": [
      "<Atom 0 (H1) of chain 0 residue 0 (ACE)> 0\n",
      "<Atom 1 (CH3) of chain 0 residue 0 (ACE)> 1\n",
      "<Atom 2 (H2) of chain 0 residue 0 (ACE)> 2\n",
      "<Atom 3 (H3) of chain 0 residue 0 (ACE)> 3\n",
      "<Atom 4 (C) of chain 0 residue 0 (ACE)> 4\n",
      "<Atom 5 (O) of chain 0 residue 0 (ACE)> 5\n",
      "<Atom 6 (N) of chain 0 residue 1 (ALA)> 6\n",
      "<Atom 7 (H) of chain 0 residue 1 (ALA)> 7\n",
      "<Atom 8 (CA) of chain 0 residue 1 (ALA)> 8\n",
      "<Atom 9 (HA) of chain 0 residue 1 (ALA)> 9\n",
      "<Atom 10 (CB) of chain 0 residue 1 (ALA)> 10\n",
      "<Atom 11 (HB1) of chain 0 residue 1 (ALA)> 11\n",
      "<Atom 12 (HB2) of chain 0 residue 1 (ALA)> 12\n",
      "<Atom 13 (HB3) of chain 0 residue 1 (ALA)> 13\n",
      "<Atom 14 (C) of chain 0 residue 1 (ALA)> 14\n",
      "<Atom 15 (O) of chain 0 residue 1 (ALA)> 15\n",
      "<Atom 16 (N) of chain 0 residue 2 (NME)> 16\n",
      "<Atom 17 (H) of chain 0 residue 2 (NME)> 17\n",
      "<Atom 18 (C) of chain 0 residue 2 (NME)> 18\n",
      "<Atom 19 (H1) of chain 0 residue 2 (NME)> 19\n",
      "<Atom 20 (H2) of chain 0 residue 2 (NME)> 20\n",
      "<Atom 21 (H3) of chain 0 residue 2 (NME)> 21\n"
     ]
    }
   ],
   "source": [
    "for atom in htf._topology_proposal.old_topology.atoms():\n",
    "    print(atom, atom.index)"
   ]
  },
  {
   "cell_type": "code",
   "execution_count": 69,
   "metadata": {
    "scrolled": true
   },
   "outputs": [
    {
     "name": "stdout",
     "output_type": "stream",
     "text": [
      "<Atom 0 (H1) of chain 0 residue 0 (ACE)> 0\n",
      "<Atom 1 (CH3) of chain 0 residue 0 (ACE)> 1\n",
      "<Atom 2 (H2) of chain 0 residue 0 (ACE)> 2\n",
      "<Atom 3 (H3) of chain 0 residue 0 (ACE)> 3\n",
      "<Atom 4 (C) of chain 0 residue 0 (ACE)> 4\n",
      "<Atom 5 (O) of chain 0 residue 0 (ACE)> 5\n",
      "<Atom 6 (N) of chain 0 residue 1 (THR)> 6\n",
      "<Atom 7 (H) of chain 0 residue 1 (THR)> 7\n",
      "<Atom 8 (CA) of chain 0 residue 1 (THR)> 8\n",
      "<Atom 9 (HA) of chain 0 residue 1 (THR)> 9\n",
      "<Atom 10 (CB) of chain 0 residue 1 (THR)> 10\n",
      "<Atom 11 (C) of chain 0 residue 1 (THR)> 11\n",
      "<Atom 12 (O) of chain 0 residue 1 (THR)> 12\n",
      "<Atom 13 (HB) of chain 0 residue 1 (THR)> 13\n",
      "<Atom 14 (CG2) of chain 0 residue 1 (THR)> 14\n",
      "<Atom 15 (HG21) of chain 0 residue 1 (THR)> 15\n",
      "<Atom 16 (HG22) of chain 0 residue 1 (THR)> 16\n",
      "<Atom 17 (HG23) of chain 0 residue 1 (THR)> 17\n",
      "<Atom 18 (OG1) of chain 0 residue 1 (THR)> 18\n",
      "<Atom 19 (HG1) of chain 0 residue 1 (THR)> 19\n",
      "<Atom 20 (N) of chain 0 residue 2 (NME)> 20\n",
      "<Atom 21 (H) of chain 0 residue 2 (NME)> 21\n",
      "<Atom 22 (C) of chain 0 residue 2 (NME)> 22\n",
      "<Atom 23 (H1) of chain 0 residue 2 (NME)> 23\n",
      "<Atom 24 (H2) of chain 0 residue 2 (NME)> 24\n",
      "<Atom 25 (H3) of chain 0 residue 2 (NME)> 25\n"
     ]
    }
   ],
   "source": [
    "for atom in htf._topology_proposal.new_topology.atoms():\n",
    "    print(atom, atom.index)"
   ]
  },
  {
   "cell_type": "code",
   "execution_count": 11,
   "metadata": {
    "scrolled": true
   },
   "outputs": [
    {
     "name": "stdout",
     "output_type": "stream",
     "text": [
      "Vanilla htf -- creating thermostate\n",
      "3844.7787020008177\n"
     ]
    },
    {
     "name": "stderr",
     "output_type": "stream",
     "text": [
      "100%|██████████| 10000/10000 [00:08<00:00, 1194.73it/s]\n",
      "INFO:root:Rotating by 0.17552191203601164 radians\n",
      "INFO:root:Rotating by 0.262 radians\n",
      "INFO:root:Rotating by 0.2620000000000011 radians\n",
      "INFO:root:Rotating by 0.2619999999999971 radians\n",
      "INFO:root:Rotating by 0.26199999999999823 radians\n",
      "INFO:root:Rotating by 0.26199999999999823 radians\n",
      "INFO:root:Rotating by 0.26200000000000045 radians\n",
      "INFO:root:Rotating by -6.0211853071795876 radians\n",
      "INFO:root:Rotating by 0.26199999999999957 radians\n",
      "INFO:root:Rotating by 0.26199999999999735 radians\n",
      "INFO:root:Rotating by 0.26200000000000134 radians\n",
      "INFO:root:Rotating by 0.26199999999999957 radians\n",
      "INFO:root:Rotating by 0.26199999999999957 radians\n",
      "INFO:root:Rotating by 0.26200000000000223 radians\n",
      "INFO:root:Rotating by 0.262 radians\n",
      "INFO:root:Rotating by 0.2620000000000031 radians\n",
      "INFO:root:Rotating by 0.26199999999999823 radians\n",
      "INFO:root:Rotating by 0.2619999999999991 radians\n",
      "INFO:root:Rotating by 0.2620000000000017 radians\n",
      "INFO:root:Rotating by 0.2619999999999999 radians\n",
      "INFO:root:Rotating by 0.26200000000000223 radians\n",
      "INFO:root:Rotating by 0.2619999999999999 radians\n"
     ]
    },
    {
     "name": "stdout",
     "output_type": "stream",
     "text": [
      "1.1298606\n",
      "-78500.63307665451\n",
      "-78484.41816304052\n",
      "-78297.35768839199\n",
      "-75929.560557651\n",
      "-72557.40479516593\n",
      "-76856.18056738483\n",
      "-75914.22049601041\n",
      "-66287.10665984034\n",
      "-45268.74326474599\n",
      "601891412.5925299\n",
      "9141647.992487187\n",
      "-76657.56951839442\n",
      "-77773.28319890646\n",
      "-77741.09239050187\n",
      "-77645.03711112247\n",
      "-77521.29614787332\n",
      "-77436.1676640786\n",
      "-76824.67397128165\n",
      "-76122.2293046744\n",
      "-77075.75857797072\n",
      "-77825.69128063798\n",
      "-77972.58592266208\n"
     ]
    },
    {
     "name": "stderr",
     "output_type": "stream",
     "text": [
      "INFO:root:Rotating by 0.2620000000000001 radians\n",
      "INFO:root:Rotating by 0.26200000000000034 radians\n",
      "INFO:root:Rotating by 0.2619999999999991 radians\n"
     ]
    },
    {
     "name": "stdout",
     "output_type": "stream",
     "text": [
      "-78166.20683035474\n",
      "-78372.14898796912\n",
      "-78491.13324702399\n",
      "raw d: {1.3918606395721436: (-78484.41816304052, nan), 1.6538606395721436: (-78297.35768839199, nan), 1.9158606395721436: (-75929.560557651, nan), 2.1778606395721436: (-72557.40479516593, nan), 2.4398606395721436: (-76856.18056738483, nan), 2.7018606395721436: (-75914.22049601041, nan), 2.9638606395721436: (-66287.10665984034, nan), -3.0573246676074426: (-45268.74326474599, nan), -2.7953246676074426: (601891412.5925299, nan), -2.5333246676074426: (9141647.992487187, nan), -2.2713246676074426: (-76657.56951839442, nan), -2.0093246676074425: (-77773.28319890646, nan), -1.7473246676074425: (-77741.09239050187, nan), -1.4853246676074425: (-77645.03711112247, nan), -1.2233246676074425: (-77521.29614787332, nan), -0.9613246676074425: (-77436.1676640786, nan), -0.6993246676074425: (-76824.67397128165, nan), -0.4373246676074425: (-76122.2293046744, nan), -0.17532466760744247: (-77075.75857797072, nan), 0.08667533239255754: (-77825.69128063798, nan), 0.34867533239255755: (-77972.58592266208, nan), 0.6106753323925576: (-78166.20683035474, nan), 0.8726753323925576: (-78372.14898796912, nan), 1.1346753323925576: (-78491.13324702399, nan), 1.3966753323925576: (-78483.3083421667, nan)}\n",
      "min: -78491.13324702399\n",
      "d corrected: {1.3918606395721436: (6.715083983464865, nan), 1.6538606395721436: (193.77555863199814, nan), 1.9158606395721436: (2561.572689372988, nan), 2.1778606395721436: (5933.728451858056, nan), 2.4398606395721436: (1634.9526796391583, nan), 2.7018606395721436: (2576.912751013573, nan), 2.9638606395721436: (12204.026587183645, nan), -3.0573246676074426: (33222.389982278, nan), -2.7953246676074426: (601969903.7257769, nan), -2.5333246676074426: (9220139.12573421, nan), -2.2713246676074426: (1833.5637286295678, nan), -2.0093246676074425: (717.8500481175288, nan), -1.7473246676074425: (750.0408565221151, nan), -1.4853246676074425: (846.09613590152, nan), -1.2233246676074425: (969.8370991506672, nan), -0.9613246676074425: (1054.965582945384, nan), -0.6993246676074425: (1666.459275742338, nan), -0.4373246676074425: (2368.903942349585, nan), -0.17532466760744247: (1415.3746690532716, nan), 0.08667533239255754: (665.4419663860026, nan), 0.34867533239255755: (518.5473243619053, nan), 0.6106753323925576: (324.92641666924465, nan), 0.8726753323925576: (118.9842590548651, nan), 1.1346753323925576: (0.0, nan), 1.3966753323925576: (7.824904857290676, nan)}\n"
     ]
    },
    {
     "data": {
      "image/png": "[encoded data removed]",
      "text/plain": [
       "<Figure size 432x288 with 1 Axes>"
      ]
     },
     "metadata": {
      "needs_background": "light"
     },
     "output_type": "display_data"
    },
    {
     "data": {
      "text/plain": [
       "{1.3918606395721436: (6.715083983464865, nan),\n",
       " 1.6538606395721436: (193.77555863199814, nan),\n",
       " 1.9158606395721436: (2561.572689372988, nan),\n",
       " 2.1778606395721436: (5933.728451858056, nan),\n",
       " 2.4398606395721436: (1634.9526796391583, nan),\n",
       " 2.7018606395721436: (2576.912751013573, nan),\n",
       " 2.9638606395721436: (12204.026587183645, nan),\n",
       " -3.0573246676074426: (33222.389982278, nan),\n",
       " -2.7953246676074426: (601969903.7257769, nan),\n",
       " -2.5333246676074426: (9220139.12573421, nan),\n",
       " -2.2713246676074426: (1833.5637286295678, nan),\n",
       " -2.0093246676074425: (717.8500481175288, nan),\n",
       " -1.7473246676074425: (750.0408565221151, nan),\n",
       " -1.4853246676074425: (846.09613590152, nan),\n",
       " -1.2233246676074425: (969.8370991506672, nan),\n",
       " -0.9613246676074425: (1054.965582945384, nan),\n",
       " -0.6993246676074425: (1666.459275742338, nan),\n",
       " -0.4373246676074425: (2368.903942349585, nan),\n",
       " -0.17532466760744247: (1415.3746690532716, nan),\n",
       " 0.08667533239255754: (665.4419663860026, nan),\n",
       " 0.34867533239255755: (518.5473243619053, nan),\n",
       " 0.6106753323925576: (324.92641666924465, nan),\n",
       " 0.8726753323925576: (118.9842590548651, nan),\n",
       " 1.1346753323925576: (0.0, nan),\n",
       " 1.3966753323925576: (7.824904857290676, nan)}"
      ]
     },
     "execution_count": 11,
     "metadata": {},
     "output_type": "execute_result"
    }
   ],
   "source": [
    "# THR->ALA -- THR at lambda = 0\n",
    "run_torsion_scan(htf, 0, True, [669, 670, 673, 674], [669, 670, 673, 674], [675, 676, 677, 678, 679, 680, 681, 682], repartitioned=False)"
   ]
  },
  {
   "cell_type": "code",
   "execution_count": 71,
   "metadata": {
    "scrolled": true
   },
   "outputs": [
    {
     "name": "stdout",
     "output_type": "stream",
     "text": [
      "Vanilla htf -- creating thermostate\n"
     ]
    },
    {
     "name": "stderr",
     "output_type": "stream",
     "text": [
      "  5%|▌         | 521/10000 [00:00<00:01, 5208.83it/s]"
     ]
    },
    {
     "name": "stdout",
     "output_type": "stream",
     "text": [
      "lambda_angles 0.0\n",
      "lambda_bonds 0.0\n",
      "lambda_electrostatics_core 0.0\n",
      "lambda_electrostatics_delete 0.0\n",
      "lambda_electrostatics_insert 0.0\n",
      "lambda_sterics_core 0.0\n",
      "lambda_sterics_delete 0.0\n",
      "lambda_sterics_insert 0.0\n",
      "lambda_torsions 0.0\n",
      "softcore_alpha 0.85\n",
      "-16.0836029288311\n"
     ]
    },
    {
     "name": "stderr",
     "output_type": "stream",
     "text": [
      "100%|██████████| 10000/10000 [00:01<00:00, 5909.75it/s]\n",
      "INFO:root:Rotating by 2.8980261646914713 radians\n"
     ]
    },
    {
     "name": "stdout",
     "output_type": "stream",
     "text": [
      "-1.3284695345934885\n",
      "2.4310682\n",
      "-1.3284695345934885\n"
     ]
    },
    {
     "name": "stderr",
     "output_type": "stream",
     "text": [
      "INFO:root:Rotating by 0.262 radians\n"
     ]
    },
    {
     "name": "stdout",
     "output_type": "stream",
     "text": [
      "\t\t\tCustomBondForce: 7836.842209369503\n",
      "\t\t\tHarmonicBondForce: 1.4538223944469333\n",
      "\t\t\tCustomAngleForce: 690.6627242602764\n",
      "\t\t\tHarmonicAngleForce: 520.79586212926\n",
      "\t\t\tCustomTorsionForce: 9.63471507341536\n",
      "\t\t\tPeriodicTorsionForce: 15.621033720716886\n",
      "\t\t\tNonbondedForce: 799.1420226140801\n",
      "\t\t\tCustomNonbondedForce: 150.56809170267871\n",
      "\t\t\tCustomBondForce: 11.289245895458182\n",
      "added forces:10036.009727159835\n",
      "10036.009727159835\n"
     ]
    },
    {
     "name": "stderr",
     "output_type": "stream",
     "text": [
      "INFO:root:Rotating by -6.021185307179586 radians\n"
     ]
    },
    {
     "name": "stdout",
     "output_type": "stream",
     "text": [
      "\t\t\tCustomBondForce: 8195.890805091318\n",
      "\t\t\tHarmonicBondForce: 1.4538274125946857\n",
      "\t\t\tCustomAngleForce: 694.4068903306696\n",
      "\t\t\tHarmonicAngleForce: 551.5786603412548\n",
      "\t\t\tCustomTorsionForce: 9.445780346915926\n",
      "\t\t\tPeriodicTorsionForce: 17.994115420885286\n",
      "\t\t\tNonbondedForce: 6677.194055998017\n",
      "\t\t\tCustomNonbondedForce: 703.8174699069892\n",
      "\t\t\tCustomBondForce: 11.89207120575017\n",
      "added forces:16863.673676054394\n",
      "16863.673676054397\n"
     ]
    },
    {
     "name": "stderr",
     "output_type": "stream",
     "text": [
      "INFO:root:Rotating by 0.26199999999999823 radians\n"
     ]
    },
    {
     "name": "stdout",
     "output_type": "stream",
     "text": [
      "\t\t\tCustomBondForce: 8198.617272138556\n",
      "\t\t\tHarmonicBondForce: 1.4538123581514288\n",
      "\t\t\tCustomAngleForce: 722.1146180869703\n",
      "\t\t\tHarmonicAngleForce: 557.2566892658424\n",
      "\t\t\tCustomTorsionForce: 9.054574921331998\n",
      "\t\t\tPeriodicTorsionForce: 20.98987649060775\n",
      "\t\t\tNonbondedForce: 40325.94759116052\n",
      "\t\t\tCustomNonbondedForce: 246824.19132688412\n",
      "\t\t\tCustomBondForce: 12.53487337504715\n",
      "added forces:296672.1606346811\n",
      "296672.1606346812\n"
     ]
    },
    {
     "name": "stderr",
     "output_type": "stream",
     "text": [
      "INFO:root:Rotating by 0.2620000000000009 radians\n"
     ]
    },
    {
     "name": "stdout",
     "output_type": "stream",
     "text": [
      "\t\t\tCustomBondForce: 7844.792238397144\n",
      "\t\t\tHarmonicBondForce: 1.4538073400036766\n",
      "\t\t\tCustomAngleForce: 769.2977346861467\n",
      "\t\t\tHarmonicAngleForce: 567.8492179319044\n",
      "\t\t\tCustomTorsionForce: 8.646642124181948\n",
      "\t\t\tPeriodicTorsionForce: 24.923822960769126\n",
      "\t\t\tNonbondedForce: 68261.40835037135\n",
      "\t\t\tCustomNonbondedForce: 9045703306.907503\n",
      "\t\t\tCustomBondForce: 13.211010669735519\n",
      "added forces:9045780798.490328\n",
      "9045780798.490326\n"
     ]
    },
    {
     "name": "stderr",
     "output_type": "stream",
     "text": [
      "INFO:root:Rotating by 0.26200000000000045 radians\n"
     ]
    },
    {
     "name": "stdout",
     "output_type": "stream",
     "text": [
      "\t\t\tCustomBondForce: 7165.01462475838\n",
      "\t\t\tHarmonicBondForce: 1.4538274125946857\n",
      "\t\t\tCustomAngleForce: 814.0401019190731\n",
      "\t\t\tHarmonicAngleForce: 590.0103009186261\n",
      "\t\t\tCustomTorsionForce: 8.436584852168442\n",
      "\t\t\tPeriodicTorsionForce: 28.203300756237937\n",
      "\t\t\tNonbondedForce: 71011.50697860135\n",
      "\t\t\tCustomNonbondedForce: 5099294.436147277\n",
      "\t\t\tCustomBondForce: 13.958299373357555\n",
      "added forces:5178927.060165869\n",
      "5178927.060165869\n"
     ]
    },
    {
     "name": "stderr",
     "output_type": "stream",
     "text": [
      "INFO:root:Rotating by 0.262 radians\n"
     ]
    },
    {
     "name": "stdout",
     "output_type": "stream",
     "text": [
      "\t\t\tCustomBondForce: 6218.378349607553\n",
      "\t\t\tHarmonicBondForce: 1.4538274125946857\n",
      "\t\t\tCustomAngleForce: 740.082989487279\n",
      "\t\t\tHarmonicAngleForce: 612.592701207425\n",
      "\t\t\tCustomTorsionForce: 8.557987599530437\n",
      "\t\t\tPeriodicTorsionForce: 26.457426302207352\n",
      "\t\t\tNonbondedForce: 269370.0191953918\n",
      "\t\t\tCustomNonbondedForce: 1028278400.4071159\n",
      "\t\t\tCustomBondForce: 14.871982209743562\n",
      "added forces:1028555392.8215752\n",
      "1028555392.8215754\n"
     ]
    },
    {
     "name": "stderr",
     "output_type": "stream",
     "text": [
      "INFO:root:Rotating by 0.26200000000000045 radians\n"
     ]
    },
    {
     "name": "stdout",
     "output_type": "stream",
     "text": [
      "\t\t\tCustomBondForce: 5087.933103935034\n",
      "\t\t\tHarmonicBondForce: 1.4538324785343213\n",
      "\t\t\tCustomAngleForce: 655.2021106290591\n",
      "\t\t\tHarmonicAngleForce: 513.7231030123386\n",
      "\t\t\tCustomTorsionForce: 8.981088287471882\n",
      "\t\t\tPeriodicTorsionForce: 28.058190038305476\n",
      "\t\t\tNonbondedForce: 461160.33305902896\n",
      "\t\t\tCustomNonbondedForce: 254053028.4441164\n",
      "\t\t\tCustomBondForce: 16.041077774586995\n",
      "added forces:254520500.16968158\n",
      "254520500.1696816\n"
     ]
    },
    {
     "name": "stderr",
     "output_type": "stream",
     "text": [
      "INFO:root:Rotating by 0.262 radians\n"
     ]
    },
    {
     "name": "stdout",
     "output_type": "stream",
     "text": [
      "\t\t\tCustomBondForce: 3874.113591620602\n",
      "\t\t\tHarmonicBondForce: 1.4538123581514288\n",
      "\t\t\tCustomAngleForce: 580.9030209439464\n",
      "\t\t\tHarmonicAngleForce: 414.27062187106105\n",
      "\t\t\tCustomTorsionForce: 9.507910243326286\n",
      "\t\t\tPeriodicTorsionForce: 27.478165428298194\n",
      "\t\t\tNonbondedForce: 125405.93396061531\n",
      "\t\t\tCustomNonbondedForce: 45805640650694.266\n",
      "\t\t\tCustomBondForce: 17.3295721839512\n",
      "added forces:45805640781025.26\n",
      "45805640781025.25\n"
     ]
    },
    {
     "name": "stderr",
     "output_type": "stream",
     "text": [
      "INFO:root:Rotating by 0.26200000000000045 radians\n"
     ]
    },
    {
     "name": "stdout",
     "output_type": "stream",
     "text": [
      "\t\t\tCustomBondForce: 2686.3777157325235\n",
      "\t\t\tHarmonicBondForce: 1.4538123581514288\n",
      "\t\t\tCustomAngleForce: 508.64994103471713\n",
      "\t\t\tHarmonicAngleForce: 326.6014929818887\n",
      "\t\t\tCustomTorsionForce: 9.860120915186211\n",
      "\t\t\tPeriodicTorsionForce: 25.3242865895555\n",
      "\t\t\tNonbondedForce: 13038.164329909254\n",
      "\t\t\tCustomNonbondedForce: 2300858351.9015203\n",
      "\t\t\tCustomBondForce: 18.121354844225404\n",
      "added forces:2300874966.454575\n",
      "2300874966.4545746\n"
     ]
    },
    {
     "name": "stderr",
     "output_type": "stream",
     "text": [
      "INFO:root:Rotating by 0.2619999999999998 radians\n"
     ]
    },
    {
     "name": "stdout",
     "output_type": "stream",
     "text": [
      "\t\t\tCustomBondForce: 1633.0826729586545\n",
      "\t\t\tHarmonicBondForce: 1.4538223944469333\n",
      "\t\t\tCustomAngleForce: 426.0875925271928\n",
      "\t\t\tHarmonicAngleForce: 236.49622358172928\n",
      "\t\t\tCustomTorsionForce: 9.82554639093581\n",
      "\t\t\tPeriodicTorsionForce: 22.46033356245414\n",
      "\t\t\tNonbondedForce: 1237.642413964241\n",
      "\t\t\tCustomNonbondedForce: 118936.07130988786\n",
      "\t\t\tCustomBondForce: 17.6335479655934\n",
      "added forces:122520.75346323311\n",
      "122520.7534632331\n"
     ]
    },
    {
     "name": "stderr",
     "output_type": "stream",
     "text": [
      "INFO:root:Rotating by 0.26199999999999923 radians\n"
     ]
    },
    {
     "name": "stdout",
     "output_type": "stream",
     "text": [
      "\t\t\tCustomBondForce: 808.9642689067693\n",
      "\t\t\tHarmonicBondForce: 1.4538274125946857\n",
      "\t\t\tCustomAngleForce: 326.9944826445306\n",
      "\t\t\tHarmonicAngleForce: 145.61976546201228\n",
      "\t\t\tCustomTorsionForce: 9.391095028019684\n",
      "\t\t\tPeriodicTorsionForce: 19.272646859441984\n",
      "\t\t\tNonbondedForce: 137.90015766978797\n",
      "\t\t\tCustomNonbondedForce: 798.1952848007504\n",
      "\t\t\tCustomBondForce: 15.909589112917686\n",
      "added forces:2263.7011178968246\n",
      "2263.7011178968246\n"
     ]
    },
    {
     "name": "stderr",
     "output_type": "stream",
     "text": [
      "INFO:root:Rotating by 0.262 radians\n"
     ]
    },
    {
     "name": "stdout",
     "output_type": "stream",
     "text": [
      "\t\t\tCustomBondForce: 277.6125746820408\n",
      "\t\t\tHarmonicBondForce: 1.4538274125946857\n",
      "\t\t\tCustomAngleForce: 211.25081038041867\n",
      "\t\t\tHarmonicAngleForce: 69.98450681026706\n",
      "\t\t\tCustomTorsionForce: 8.783344293696615\n",
      "\t\t\tPeriodicTorsionForce: 15.600397590221727\n",
      "\t\t\tNonbondedForce: -5.769007776064634\n",
      "\t\t\tCustomNonbondedForce: 50.52532968191496\n",
      "\t\t\tCustomBondForce: 13.911041134172134\n",
      "added forces:643.352824209262\n",
      "643.3528242092619\n"
     ]
    },
    {
     "name": "stderr",
     "output_type": "stream",
     "text": [
      "INFO:root:Rotating by 0.26199999999999973 radians\n"
     ]
    },
    {
     "name": "stdout",
     "output_type": "stream",
     "text": [
      "\t\t\tCustomBondForce: 42.46308619531456\n",
      "\t\t\tHarmonicBondForce: 1.4538274125946857\n",
      "\t\t\tCustomAngleForce: 85.62080267430628\n",
      "\t\t\tHarmonicAngleForce: 23.718112348029248\n",
      "\t\t\tCustomTorsionForce: 8.368592113723823\n",
      "\t\t\tPeriodicTorsionForce: 11.3800472419065\n",
      "\t\t\tNonbondedForce: -51.993454352418105\n",
      "\t\t\tCustomNonbondedForce: 9.598687408330095\n",
      "\t\t\tCustomBondForce: 12.443567364232562\n",
      "added forces:143.05326840601967\n",
      "143.05326840601964\n"
     ]
    },
    {
     "name": "stderr",
     "output_type": "stream",
     "text": [
      "INFO:root:Rotating by 0.2620000000000007 radians\n"
     ]
    },
    {
     "name": "stdout",
     "output_type": "stream",
     "text": [
      "\t\t\tCustomBondForce: 5.790883208341547\n",
      "\t\t\tHarmonicBondForce: 1.4538274125946857\n",
      "\t\t\tCustomAngleForce: 16.730426836542886\n",
      "\t\t\tHarmonicAngleForce: 11.401943105546081\n",
      "\t\t\tCustomTorsionForce: 8.430991271845246\n",
      "\t\t\tPeriodicTorsionForce: 8.13505400616641\n",
      "\t\t\tNonbondedForce: -64.10124390154728\n",
      "\t\t\tCustomNonbondedForce: -0.1968952212331179\n",
      "\t\t\tCustomBondForce: 11.656988762136878\n",
      "added forces:-0.6980245196066583\n",
      "-0.6980245196066641\n"
     ]
    },
    {
     "name": "stderr",
     "output_type": "stream",
     "text": [
      "INFO:root:Rotating by 0.26199999999999934 radians\n"
     ]
    },
    {
     "name": "stdout",
     "output_type": "stream",
     "text": [
      "\t\t\tCustomBondForce: 5.777981816312809\n",
      "\t\t\tHarmonicBondForce: 1.453817376299181\n",
      "\t\t\tCustomAngleForce: 174.38882090301254\n",
      "\t\t\tHarmonicAngleForce: 28.957173657489115\n",
      "\t\t\tCustomTorsionForce: 8.946574010864436\n",
      "\t\t\tPeriodicTorsionForce: 13.186608657564946\n",
      "\t\t\tNonbondedForce: -66.2669503486473\n",
      "\t\t\tCustomNonbondedForce: -2.3391541868220016\n",
      "\t\t\tCustomBondForce: 11.284076916522043\n",
      "added forces:175.38894880259576\n",
      "175.38894880259576\n"
     ]
    },
    {
     "name": "stderr",
     "output_type": "stream",
     "text": [
      "INFO:root:Rotating by 0.2620000000000005 radians\n"
     ]
    },
    {
     "name": "stdout",
     "output_type": "stream",
     "text": [
      "\t\t\tCustomBondForce: 42.824133909002036\n",
      "\t\t\tHarmonicBondForce: 1.4538274125946857\n",
      "\t\t\tCustomAngleForce: 431.8686747423991\n",
      "\t\t\tHarmonicAngleForce: 77.64653297887195\n",
      "\t\t\tCustomTorsionForce: 9.551267864315895\n",
      "\t\t\tPeriodicTorsionForce: 28.939948835990407\n",
      "\t\t\tNonbondedForce: -65.55239894174777\n",
      "\t\t\tCustomNonbondedForce: -2.617218993144692\n",
      "\t\t\tCustomBondForce: 10.965637590468825\n",
      "added forces:535.0804053987505\n",
      "535.0804053987504\n"
     ]
    },
    {
     "name": "stderr",
     "output_type": "stream",
     "text": [
      "INFO:root:Rotating by 0.2619999999999998 radians\n"
     ]
    },
    {
     "name": "stdout",
     "output_type": "stream",
     "text": [
      "\t\t\tCustomBondForce: 278.8510785155733\n",
      "\t\t\tHarmonicBondForce: 1.4538274125946857\n",
      "\t\t\tCustomAngleForce: 528.0508088815744\n",
      "\t\t\tHarmonicAngleForce: 152.69732931800488\n",
      "\t\t\tCustomTorsionForce: 9.81312081191076\n",
      "\t\t\tPeriodicTorsionForce: 22.595263328588036\n",
      "\t\t\tNonbondedForce: -55.4085438608849\n",
      "\t\t\tCustomNonbondedForce: -2.572450226938385\n",
      "\t\t\tCustomBondForce: 10.541561905168917\n",
      "added forces:946.0219960855918\n",
      "946.0219960855919\n"
     ]
    },
    {
     "name": "stderr",
     "output_type": "stream",
     "text": [
      "INFO:root:Rotating by 0.26200000000000057 radians\n"
     ]
    },
    {
     "name": "stdout",
     "output_type": "stream",
     "text": [
      "\t\t\tCustomBondForce: 811.2120901790267\n",
      "\t\t\tHarmonicBondForce: 1.4538274125946857\n",
      "\t\t\tCustomAngleForce: 619.3610279716216\n",
      "\t\t\tHarmonicAngleForce: 244.12565498692982\n",
      "\t\t\tCustomTorsionForce: 9.59772942475376\n",
      "\t\t\tPeriodicTorsionForce: 21.333651617638576\n",
      "\t\t\tNonbondedForce: 8.174278039992318\n",
      "\t\t\tCustomNonbondedForce: -2.4250864423407372\n",
      "\t\t\tCustomBondForce: 10.111233655561563\n",
      "added forces:1722.9444068457783\n",
      "1722.9444068457783\n"
     ]
    },
    {
     "name": "stderr",
     "output_type": "stream",
     "text": [
      "INFO:root:Rotating by 0.26199999999999957 radians\n"
     ]
    },
    {
     "name": "stdout",
     "output_type": "stream",
     "text": [
      "\t\t\tCustomBondForce: 1636.2103134204292\n",
      "\t\t\tHarmonicBondForce: 1.4538274125946857\n",
      "\t\t\tCustomAngleForce: 712.9672888518552\n",
      "\t\t\tHarmonicAngleForce: 348.46260750913115\n",
      "\t\t\tCustomTorsionForce: 9.138693457789714\n",
      "\t\t\tPeriodicTorsionForce: 20.174391786674192\n",
      "\t\t\tNonbondedForce: 247.74893346940027\n",
      "\t\t\tCustomNonbondedForce: -2.0795960676908027\n",
      "\t\t\tCustomBondForce: 9.81801338947651\n",
      "added forces:2983.89447322966\n",
      "2983.89447322966\n"
     ]
    },
    {
     "name": "stderr",
     "output_type": "stream",
     "text": [
      "INFO:root:Rotating by 0.262 radians\n"
     ]
    },
    {
     "name": "stdout",
     "output_type": "stream",
     "text": [
      "\t\t\tCustomBondForce: 2690.1129103710596\n",
      "\t\t\tHarmonicBondForce: 1.4538223944469333\n",
      "\t\t\tCustomAngleForce: 802.6374624332866\n",
      "\t\t\tHarmonicAngleForce: 466.8701268168112\n",
      "\t\t\tCustomTorsionForce: 8.775744249185946\n",
      "\t\t\tPeriodicTorsionForce: 18.700478676519786\n",
      "\t\t\tNonbondedForce: 520.833999242603\n",
      "\t\t\tCustomNonbondedForce: -1.2480345843480738\n",
      "\t\t\tCustomBondForce: 9.708339810883407\n",
      "added forces:4517.844849410449\n",
      "4517.844849410449\n"
     ]
    },
    {
     "name": "stderr",
     "output_type": "stream",
     "text": [
      "INFO:root:Rotating by 0.2619999999999998 radians\n"
     ]
    },
    {
     "name": "stdout",
     "output_type": "stream",
     "text": [
      "\t\t\tCustomBondForce: 3878.1163826470947\n",
      "\t\t\tHarmonicBondForce: 1.453817376299181\n",
      "\t\t\tCustomAngleForce: 866.0929941715253\n",
      "\t\t\tHarmonicAngleForce: 534.1532510995859\n",
      "\t\t\tCustomTorsionForce: 8.701424714811182\n",
      "\t\t\tPeriodicTorsionForce: 15.381080583739934\n",
      "\t\t\tNonbondedForce: 356.5037768354794\n",
      "\t\t\tCustomNonbondedForce: 0.6880480864288507\n",
      "\t\t\tCustomBondForce: 9.767777476998658\n",
      "added forces:5670.858552991964\n",
      "5670.858552991964\n"
     ]
    },
    {
     "name": "stderr",
     "output_type": "stream",
     "text": [
      "INFO:root:Rotating by 0.2619999999999998 radians\n"
     ]
    },
    {
     "name": "stdout",
     "output_type": "stream",
     "text": [
      "\t\t\tCustomBondForce: 5091.839978001753\n",
      "\t\t\tHarmonicBondForce: 1.4538223944469333\n",
      "\t\t\tCustomAngleForce: 836.2982096545408\n",
      "\t\t\tHarmonicAngleForce: 583.8075840981124\n",
      "\t\t\tCustomTorsionForce: 8.908798588152093\n",
      "\t\t\tPeriodicTorsionForce: 12.552345398539845\n",
      "\t\t\tNonbondedForce: 226.99273099298972\n",
      "\t\t\tCustomNonbondedForce: 5.237987176800362\n",
      "\t\t\tCustomBondForce: 9.974592407572105\n",
      "added forces:6777.066048712909\n",
      "6777.066048712907\n"
     ]
    },
    {
     "name": "stderr",
     "output_type": "stream",
     "text": [
      "INFO:root:Rotating by 0.262 radians\n"
     ]
    },
    {
     "name": "stdout",
     "output_type": "stream",
     "text": [
      "\t\t\tCustomBondForce: 6221.838523654896\n",
      "\t\t\tHarmonicBondForce: 1.4538274125946857\n",
      "\t\t\tCustomAngleForce: 763.9631088911315\n",
      "\t\t\tHarmonicAngleForce: 533.4520564517536\n",
      "\t\t\tCustomTorsionForce: 9.256515539800118\n",
      "\t\t\tPeriodicTorsionForce: 12.670044018247145\n",
      "\t\t\tNonbondedForce: 286.7193526178215\n",
      "\t\t\tCustomNonbondedForce: 16.601479863880623\n",
      "\t\t\tCustomBondForce: 10.311325749695353\n",
      "added forces:7856.266234199819\n",
      "7856.26623419982\n"
     ]
    },
    {
     "name": "stderr",
     "output_type": "stream",
     "text": [
      "INFO:root:Rotating by 0.262 radians\n"
     ]
    },
    {
     "name": "stdout",
     "output_type": "stream",
     "text": [
      "\t\t\tCustomBondForce: 7167.722325056132\n",
      "\t\t\tHarmonicBondForce: 1.453817376299181\n",
      "\t\t\tCustomAngleForce: 713.4573941282205\n",
      "\t\t\tHarmonicAngleForce: 510.2996988273292\n",
      "\t\t\tCustomTorsionForce: 9.552233744252485\n",
      "\t\t\tPeriodicTorsionForce: 13.858802723288022\n",
      "\t\t\tNonbondedForce: 286.16090883377615\n",
      "\t\t\tCustomNonbondedForce: 48.41036905103096\n",
      "\t\t\tCustomBondForce: 10.760317637798604\n",
      "added forces:8761.675867378126\n",
      "8761.675867378126\n",
      "\t\t\tCustomBondForce: 7846.514096978753\n",
      "\t\t\tHarmonicBondForce: 1.4538274125946857\n",
      "\t\t\tCustomAngleForce: 690.4915201613908\n",
      "\t\t\tHarmonicAngleForce: 521.270253103382\n",
      "\t\t\tCustomTorsionForce: 9.633715721238467\n",
      "\t\t\tPeriodicTorsionForce: 15.659326202584918\n",
      "\t\t\tNonbondedForce: 827.6872947200321\n",
      "\t\t\tCustomNonbondedForce: 154.04481029391323\n",
      "\t\t\tCustomBondForce: 11.299823003914769\n",
      "added forces:10078.054667597804\n",
      "raw d: {2.693068181991577: (10036.009727159835, nan), 2.955068181991577: (16863.673676054397, nan), -3.066117125188009: (296672.1606346812, nan), -2.804117125188009: (9045780798.490326, nan), -2.542117125188009: (5178927.060165869, nan), -2.280117125188009: (1028555392.8215754, nan), -2.018117125188009: (254520500.1696816, nan), -1.756117125188009: (45805640781025.25, nan), -1.494117125188009: (2300874966.4545746, nan), -1.232117125188009: (122520.7534632331, nan), -0.970117125188009: (2263.7011178968246, nan), -0.708117125188009: (643.3528242092619, nan), -0.44611712518800895: (143.05326840601964, nan), -0.18411712518800893: (-0.6980245196066641, nan), 0.07788287481199108: (175.38894880259576, nan), 0.3398828748119911: (535.0804053987504, nan), 0.6018828748119911: (946.0219960855919, nan), 0.8638828748119911: (1722.9444068457783, nan), 1.1258828748119911: (2983.89447322966, nan), 1.3878828748119911: (4517.844849410449, nan), 1.6498828748119911: (5670.858552991964, nan), 1.9118828748119912: (6777.066048712907, nan), 2.173882874811991: (7856.26623419982, nan), 2.435882874811991: (8761.675867378126, nan), 2.697882874811991: (10078.054667597804, nan)}\n",
      "min: -0.6980245196066641\n",
      "d corrected: {2.693068181991577: (10036.707751679442, nan), 2.955068181991577: (16864.371700574004, nan), -3.066117125188009: (296672.8586592008, nan), -2.804117125188009: (9045780799.18835, nan), -2.542117125188009: (5178927.758190389, nan), -2.280117125188009: (1028555393.5195999, nan), -2.018117125188009: (254520500.86770612, nan), -1.756117125188009: (45805640781025.945, nan), -1.494117125188009: (2300874967.1525993, nan), -1.232117125188009: (122521.4514877527, nan), -0.970117125188009: (2264.3991424164315, nan), -0.708117125188009: (644.0508487288686, nan), -0.44611712518800895: (143.7512929256263, nan), -0.18411712518800893: (0.0, nan), 0.07788287481199108: (176.08697332220243, nan), 0.3398828748119911: (535.778429918357, nan), 0.6018828748119911: (946.7200206051986, nan), 0.8638828748119911: (1723.642431365385, nan), 1.1258828748119911: (2984.592497749267, nan), 1.3878828748119911: (4518.542873930055, nan), 1.6498828748119911: (5671.55657751157, nan), 1.9118828748119912: (6777.7640732325135, nan), 2.173882874811991: (7856.964258719427, nan), 2.435882874811991: (8762.373891897732, nan), 2.697882874811991: (10078.75269211741, nan)}\n"
     ]
    },
    {
     "data": {
      "image/png": "[encoded data removed]",
      "text/plain": [
       "<Figure size 432x288 with 1 Axes>"
      ]
     },
     "metadata": {
      "needs_background": "light"
     },
     "output_type": "display_data"
    },
    {
     "data": {
      "text/plain": [
       "{2.693068181991577: (10036.707751679442, nan),\n",
       " 2.955068181991577: (16864.371700574004, nan),\n",
       " -3.066117125188009: (296672.8586592008, nan),\n",
       " -2.804117125188009: (9045780799.18835, nan),\n",
       " -2.542117125188009: (5178927.758190389, nan),\n",
       " -2.280117125188009: (1028555393.5195999, nan),\n",
       " -2.018117125188009: (254520500.86770612, nan),\n",
       " -1.756117125188009: (45805640781025.945, nan),\n",
       " -1.494117125188009: (2300874967.1525993, nan),\n",
       " -1.232117125188009: (122521.4514877527, nan),\n",
       " -0.970117125188009: (2264.3991424164315, nan),\n",
       " -0.708117125188009: (644.0508487288686, nan),\n",
       " -0.44611712518800895: (143.7512929256263, nan),\n",
       " -0.18411712518800893: (0.0, nan),\n",
       " 0.07788287481199108: (176.08697332220243, nan),\n",
       " 0.3398828748119911: (535.778429918357, nan),\n",
       " 0.6018828748119911: (946.7200206051986, nan),\n",
       " 0.8638828748119911: (1723.642431365385, nan),\n",
       " 1.1258828748119911: (2984.592497749267, nan),\n",
       " 1.3878828748119911: (4518.542873930055, nan),\n",
       " 1.6498828748119911: (5671.55657751157, nan),\n",
       " 1.9118828748119912: (6777.7640732325135, nan),\n",
       " 2.173882874811991: (7856.964258719427, nan),\n",
       " 2.435882874811991: (8762.373891897732, nan),\n",
       " 2.697882874811991: (10078.75269211741, nan)}"
      ]
     },
     "execution_count": 71,
     "metadata": {},
     "output_type": "execute_result"
    }
   ],
   "source": [
    "# THR->ALA -- ALA at lambda = 0\n",
    "# run_torsion_scan(htf, 0, False, [669, 670, 14877, 14878], [669, 670, 673, 676], [677, 678], repartitioned=False)\n",
    "# run_torsion_scan(htf, 0, False, [6, 8, 26, 27], [6, 8, 10, 13], [14, 15], repartitioned=False)\n",
    "\n",
    "# ALA -> THR -- THR at lambda = 0\n",
    "run_torsion_scan(htf, 0, True, [6, 8, 22, 28], [6, 8, 10, 18], [13, 14, 15, 16, 17, 19], repartitioned=False)"
   ]
  },
  {
   "cell_type": "code",
   "execution_count": null,
   "metadata": {},
   "outputs": [],
   "source": []
  },
  {
   "cell_type": "markdown",
   "metadata": {},
   "source": [
    "### Generate torsion scans for vanilla htf: THR->ALA lambda = 1"
   ]
  },
  {
   "cell_type": "code",
   "execution_count": 13,
   "metadata": {},
   "outputs": [],
   "source": [
    "from simtk.openmm import app, unit\n",
    "from openmmforcefields.generators import SystemGenerator\n"
   ]
  },
  {
   "cell_type": "code",
   "execution_count": 14,
   "metadata": {
    "scrolled": true
   },
   "outputs": [
    {
     "name": "stdout",
     "output_type": "stream",
     "text": [
      "Vanilla htf -- creating thermostate\n",
      "3901.6160982346796\n"
     ]
    },
    {
     "name": "stderr",
     "output_type": "stream",
     "text": [
      "100%|██████████| 10000/10000 [00:08<00:00, 1198.97it/s]\n",
      "INFO:root:Rotating by -0.1945450272911875 radians\n",
      "INFO:root:Rotating by 0.26200000000000134 radians\n",
      "INFO:root:Rotating by 0.26199999999999835 radians\n",
      "INFO:root:Rotating by 0.26200000000000273 radians\n",
      "INFO:root:Rotating by 0.26199999999999946 radians\n",
      "INFO:root:Rotating by 0.26200000000000406 radians\n",
      "INFO:root:Rotating by 0.26200000000000334 radians\n",
      "INFO:root:Rotating by 0.2619999999999978 radians\n",
      "INFO:root:Rotating by 0.26200000000000145 radians\n",
      "INFO:root:Rotating by 0.2620000000000009 radians\n",
      "INFO:root:Rotating by 0.2620000000000009 radians\n",
      "INFO:root:Rotating by 0.26199999999999934 radians\n",
      "INFO:root:Rotating by 0.26199999999999957 radians\n",
      "INFO:root:Rotating by 0.262 radians\n",
      "INFO:root:Rotating by 0.26200000000000356 radians\n",
      "INFO:root:Rotating by 0.26200000000000223 radians\n",
      "INFO:root:Rotating by -6.021185307179586 radians\n",
      "INFO:root:Rotating by 0.26200000000000045 radians\n",
      "INFO:root:Rotating by 0.26200000000000534 radians\n",
      "INFO:root:Rotating by 0.2620000000000027 radians\n",
      "INFO:root:Rotating by 0.26200000000000045 radians\n",
      "INFO:root:Rotating by 0.26199999999999957 radians\n",
      "INFO:root:Rotating by 0.2619999999999971 radians\n",
      "INFO:root:Rotating by 0.261999999999998 radians\n",
      "INFO:root:Rotating by 0.2619999999999998 radians\n"
     ]
    },
    {
     "name": "stdout",
     "output_type": "stream",
     "text": [
      "-1.276259\n",
      "-78161.55240543232\n",
      "-78143.53956560449\n",
      "-78161.51211713925\n",
      "-78130.9013360641\n",
      "-78055.97730627743\n",
      "-77942.72275574651\n",
      "-77778.27643322802\n",
      "-77516.96208952984\n",
      "-77202.24751902997\n",
      "-77073.8421539868\n",
      "-77271.14386766146\n",
      "-77539.63038356717\n",
      "-77688.33868119204\n",
      "-77747.61034179576\n",
      "-77719.90796498247\n",
      "-77584.38040705185\n",
      "-77407.92850434627\n",
      "-77285.2728143278\n",
      "-76947.88586299437\n",
      "-76088.22138213136\n",
      "-76094.4377792741\n",
      "-77214.95723135083\n",
      "-77777.10990581148\n",
      "-77972.65495431246\n",
      "-78080.55165299616\n",
      "raw d: {-1.0142589454650879: (-78143.53956560449, nan), -0.7522589454650879: (-78161.51211713925, nan), -0.49025894546508786: (-78130.9013360641, nan), -0.22825894546508785: (-78055.97730627743, nan), 0.03374105453491216: (-77942.72275574651, nan), 0.2957410545349122: (-77778.27643322802, nan), 0.5577410545349122: (-77516.96208952984, nan), 0.8197410545349122: (-77202.24751902997, nan), 1.0817410545349122: (-77073.8421539868, nan), 1.3437410545349122: (-77271.14386766146, nan), 1.6057410545349122: (-77539.63038356717, nan), 1.8677410545349122: (-77688.33868119204, nan), 2.1297410545349122: (-77747.61034179576, nan), 2.3917410545349123: (-77719.90796498247, nan), 2.6537410545349123: (-77584.38040705185, nan), 2.9157410545349123: (-77407.92850434627, nan), -3.105444252644674: (-77285.2728143278, nan), -2.843444252644674: (-76947.88586299437, nan), -2.581444252644674: (-76088.22138213136, nan), -2.319444252644674: (-76094.4377792741, nan), -2.057444252644674: (-77214.95723135083, nan), -1.7954442526446739: (-77777.10990581148, nan), -1.5334442526446739: (-77972.65495431246, nan), -1.2714442526446739: (-78080.55165299616, nan), -1.0094442526446739: (-78144.30456613832, nan)}\n",
      "min: -78161.51211713925\n",
      "d corrected: {-1.0142589454650879: (17.972551534767263, nan), -0.7522589454650879: (0.0, nan), -0.49025894546508786: (30.61078107515641, nan), -0.22825894546508785: (105.53481086182, nan), 0.03374105453491216: (218.78936139274447, nan), 0.2957410545349122: (383.2356839112326, nan), 0.5577410545349122: (644.5500276094099, nan), 0.8197410545349122: (959.2645981092792, nan), 1.0817410545349122: (1087.6699631524534, nan), 1.3437410545349122: (890.3682494777895, nan), 1.6057410545349122: (621.8817335720814, nan), 1.8677410545349122: (473.1734359472175, nan), 2.1297410545349122: (413.90177534348913, nan), 2.3917410545349123: (441.6041521567822, nan), 2.6537410545349123: (577.1317100874003, nan), 2.9157410545349123: (753.5836127929797, nan), -3.105444252644674: (876.2393028114602, nan), -2.843444252644674: (1213.6262541448814, nan), -2.581444252644674: (2073.2907350078895, nan), -2.319444252644674: (2067.074337865153, nan), -2.057444252644674: (946.5548857884278, nan), -1.7954442526446739: (384.40221132777515, nan), -1.5334442526446739: (188.8571628267964, nan), -1.2714442526446739: (80.9604641430924, nan), -1.0094442526446739: (17.207551000930835, nan)}\n"
     ]
    },
    {
     "data": {
      "image/png": "[encoded data removed]",
      "text/plain": [
       "<Figure size 432x288 with 1 Axes>"
      ]
     },
     "metadata": {
      "needs_background": "light"
     },
     "output_type": "display_data"
    },
    {
     "data": {
      "text/plain": [
       "{-1.0142589454650879: (17.972551534767263, nan),\n",
       " -0.7522589454650879: (0.0, nan),\n",
       " -0.49025894546508786: (30.61078107515641, nan),\n",
       " -0.22825894546508785: (105.53481086182, nan),\n",
       " 0.03374105453491216: (218.78936139274447, nan),\n",
       " 0.2957410545349122: (383.2356839112326, nan),\n",
       " 0.5577410545349122: (644.5500276094099, nan),\n",
       " 0.8197410545349122: (959.2645981092792, nan),\n",
       " 1.0817410545349122: (1087.6699631524534, nan),\n",
       " 1.3437410545349122: (890.3682494777895, nan),\n",
       " 1.6057410545349122: (621.8817335720814, nan),\n",
       " 1.8677410545349122: (473.1734359472175, nan),\n",
       " 2.1297410545349122: (413.90177534348913, nan),\n",
       " 2.3917410545349123: (441.6041521567822, nan),\n",
       " 2.6537410545349123: (577.1317100874003, nan),\n",
       " 2.9157410545349123: (753.5836127929797, nan),\n",
       " -3.105444252644674: (876.2393028114602, nan),\n",
       " -2.843444252644674: (1213.6262541448814, nan),\n",
       " -2.581444252644674: (2073.2907350078895, nan),\n",
       " -2.319444252644674: (2067.074337865153, nan),\n",
       " -2.057444252644674: (946.5548857884278, nan),\n",
       " -1.7954442526446739: (384.40221132777515, nan),\n",
       " -1.5334442526446739: (188.8571628267964, nan),\n",
       " -1.2714442526446739: (80.9604641430924, nan),\n",
       " -1.0094442526446739: (17.207551000930835, nan)}"
      ]
     },
     "execution_count": 14,
     "metadata": {},
     "output_type": "execute_result"
    }
   ],
   "source": [
    "# THR->ALA -- ALA at lambda = 1\n",
    "run_torsion_scan(htf, 1, False,  [669, 670, 14877, 14878], [669, 670, 673, 676], [677, 678], repartitioned=False)\n"
   ]
  },
  {
   "cell_type": "code",
   "execution_count": 44,
   "metadata": {
    "scrolled": true
   },
   "outputs": [
    {
     "name": "stdout",
     "output_type": "stream",
     "text": [
      "Vanilla htf -- creating thermostate\n",
      "MonteCarloPressure 1.01325\n",
      "MonteCarloTemperature 300.0\n",
      "lambda_angles 1.0\n",
      "lambda_bonds 1.0\n",
      "lambda_electrostatics_core 1.0\n",
      "lambda_electrostatics_delete 1.0\n",
      "lambda_electrostatics_insert 1.0\n",
      "lambda_sterics_core 1.0\n",
      "lambda_sterics_delete 1.0\n",
      "lambda_sterics_insert 1.0\n",
      "lambda_torsions 1.0\n",
      "softcore_alpha 0.85\n",
      "3901.6160982346764\n"
     ]
    },
    {
     "name": "stderr",
     "output_type": "stream",
     "text": [
      "100%|██████████| 10000/10000 [00:08<00:00, 1206.16it/s]\n"
     ]
    },
    {
     "name": "stdout",
     "output_type": "stream",
     "text": [
      "-78152.24615617024\n"
     ]
    },
    {
     "name": "stderr",
     "output_type": "stream",
     "text": [
      "INFO:root:Rotating by -1.4747726262974044 radians\n"
     ]
    },
    {
     "name": "stdout",
     "output_type": "stream",
     "text": [
      "1.1298606\n",
      "-78152.24615617024\n",
      "conducting subsequent work with the following platform: CUDA\n"
     ]
    },
    {
     "ename": "RuntimeError",
     "evalue": "Cannot change platform of a non-empty ContextCache",
     "output_type": "error",
     "traceback": [
      "\u001b[0;31m-----------------------------------------------------------------\u001b[0m",
      "\u001b[0;31mRuntimeError\u001b[0m                    Traceback (most recent call last)",
      "\u001b[0;32m<ipython-input-44-70132059c58a>\u001b[0m in \u001b[0;36m<module>\u001b[0;34m\u001b[0m\n\u001b[1;32m      1\u001b[0m \u001b[0;31m# THR->ALA -- THR at lambda = 1\u001b[0m\u001b[0;34m\u001b[0m\u001b[0;34m\u001b[0m\u001b[0;34m\u001b[0m\u001b[0m\n\u001b[0;32m----> 2\u001b[0;31m \u001b[0mrun_torsion_scan\u001b[0m\u001b[0;34m(\u001b[0m\u001b[0mhtf\u001b[0m\u001b[0;34m,\u001b[0m \u001b[0;36m1\u001b[0m\u001b[0;34m,\u001b[0m \u001b[0;32mTrue\u001b[0m\u001b[0;34m,\u001b[0m \u001b[0;34m[\u001b[0m\u001b[0;36m669\u001b[0m\u001b[0;34m,\u001b[0m \u001b[0;36m670\u001b[0m\u001b[0;34m,\u001b[0m \u001b[0;36m673\u001b[0m\u001b[0;34m,\u001b[0m \u001b[0;36m674\u001b[0m\u001b[0;34m]\u001b[0m\u001b[0;34m,\u001b[0m \u001b[0;34m[\u001b[0m\u001b[0;36m669\u001b[0m\u001b[0;34m,\u001b[0m \u001b[0;36m670\u001b[0m\u001b[0;34m,\u001b[0m \u001b[0;36m673\u001b[0m\u001b[0;34m,\u001b[0m \u001b[0;36m674\u001b[0m\u001b[0;34m]\u001b[0m\u001b[0;34m,\u001b[0m \u001b[0;34m[\u001b[0m\u001b[0;36m675\u001b[0m\u001b[0;34m,\u001b[0m \u001b[0;36m676\u001b[0m\u001b[0;34m,\u001b[0m \u001b[0;36m677\u001b[0m\u001b[0;34m,\u001b[0m \u001b[0;36m678\u001b[0m\u001b[0;34m,\u001b[0m \u001b[0;36m679\u001b[0m\u001b[0;34m,\u001b[0m \u001b[0;36m680\u001b[0m\u001b[0;34m,\u001b[0m \u001b[0;36m681\u001b[0m\u001b[0;34m,\u001b[0m \u001b[0;36m682\u001b[0m\u001b[0;34m]\u001b[0m\u001b[0;34m,\u001b[0m \u001b[0mrepartitioned\u001b[0m\u001b[0;34m=\u001b[0m\u001b[0;32mFalse\u001b[0m\u001b[0;34m)\u001b[0m\u001b[0;34m\u001b[0m\u001b[0;34m\u001b[0m\u001b[0m\n\u001b[0m",
      "\u001b[0;32m<ipython-input-43-a562d769cb52>\u001b[0m in \u001b[0;36mrun_torsion_scan\u001b[0;34m(htf, endstate, is_old, hybrid_indices, vanilla_indices, other_indices, repartitioned)\u001b[0m\n\u001b[1;32m     61\u001b[0m         \u001b[0menergies\u001b[0m \u001b[0;34m=\u001b[0m \u001b[0;34m[\u001b[0m\u001b[0menergy\u001b[0m\u001b[0;34m]\u001b[0m\u001b[0;34m\u001b[0m\u001b[0;34m\u001b[0m\u001b[0m\n\u001b[1;32m     62\u001b[0m \u001b[0;34m\u001b[0m\u001b[0m\n\u001b[0;32m---> 63\u001b[0;31m         \u001b[0menergy_comps\u001b[0m \u001b[0;34m=\u001b[0m \u001b[0mcompute_potential_components\u001b[0m\u001b[0;34m(\u001b[0m\u001b[0mcontext\u001b[0m\u001b[0;34m,\u001b[0m \u001b[0mplatform\u001b[0m\u001b[0;34m=\u001b[0m\u001b[0;34m'CUDA'\u001b[0m\u001b[0;34m)\u001b[0m\u001b[0;34m\u001b[0m\u001b[0;34m\u001b[0m\u001b[0m\n\u001b[0m\u001b[1;32m     64\u001b[0m         \u001b[0;32mfor\u001b[0m \u001b[0mname\u001b[0m\u001b[0;34m,\u001b[0m \u001b[0mforce\u001b[0m \u001b[0;32min\u001b[0m \u001b[0menergy_comps\u001b[0m\u001b[0;34m:\u001b[0m\u001b[0;34m\u001b[0m\u001b[0;34m\u001b[0m\u001b[0m\n\u001b[1;32m     65\u001b[0m             \u001b[0mprint\u001b[0m\u001b[0;34m(\u001b[0m\u001b[0;34m\"\\t\\t\\t{}: {}\"\u001b[0m\u001b[0;34m.\u001b[0m\u001b[0mformat\u001b[0m\u001b[0;34m(\u001b[0m\u001b[0mname\u001b[0m\u001b[0;34m,\u001b[0m \u001b[0mforce\u001b[0m\u001b[0;34m)\u001b[0m\u001b[0;34m)\u001b[0m\u001b[0;34m\u001b[0m\u001b[0;34m\u001b[0m\u001b[0m\n",
      "\u001b[0;32m~/miniconda3/envs/perses-sims-oct2020/lib/python3.7/site-packages/perses-0.8.2.dev0-py3.7.egg/perses/tests/utils.py\u001b[0m in \u001b[0;36mcompute_potential_components\u001b[0;34m(context, beta, platform)\u001b[0m\n\u001b[1;32m    307\u001b[0m     \u001b[0;32mimport\u001b[0m \u001b[0mcopy\u001b[0m\u001b[0;34m\u001b[0m\u001b[0;34m\u001b[0m\u001b[0m\n\u001b[1;32m    308\u001b[0m \u001b[0;34m\u001b[0m\u001b[0m\n\u001b[0;32m--> 309\u001b[0;31m     \u001b[0;32mfrom\u001b[0m \u001b[0mperses\u001b[0m\u001b[0;34m.\u001b[0m\u001b[0mdispersed\u001b[0m\u001b[0;34m.\u001b[0m\u001b[0mutils\u001b[0m \u001b[0;32mimport\u001b[0m \u001b[0mconfigure_platform\u001b[0m\u001b[0;34m\u001b[0m\u001b[0;34m\u001b[0m\u001b[0m\n\u001b[0m\u001b[1;32m    310\u001b[0m     \u001b[0mplatform\u001b[0m \u001b[0;34m=\u001b[0m \u001b[0mconfigure_platform\u001b[0m\u001b[0;34m(\u001b[0m\u001b[0mplatform\u001b[0m\u001b[0;34m.\u001b[0m\u001b[0mgetName\u001b[0m\u001b[0;34m(\u001b[0m\u001b[0;34m)\u001b[0m\u001b[0;34m,\u001b[0m \u001b[0mfallback_platform_name\u001b[0m\u001b[0;34m=\u001b[0m\u001b[0;34m'Reference'\u001b[0m\u001b[0;34m,\u001b[0m \u001b[0mprecision\u001b[0m\u001b[0;34m=\u001b[0m\u001b[0;34m'double'\u001b[0m\u001b[0;34m)\u001b[0m\u001b[0;34m\u001b[0m\u001b[0;34m\u001b[0m\u001b[0m\n\u001b[1;32m    311\u001b[0m \u001b[0;34m\u001b[0m\u001b[0m\n",
      "\u001b[0;32m~/miniconda3/envs/perses-sims-oct2020/lib/python3.7/site-packages/perses-0.8.2.dev0-py3.7.egg/perses/dispersed/utils.py\u001b[0m in \u001b[0;36m<module>\u001b[0;34m\u001b[0m\n\u001b[1;32m     87\u001b[0m \u001b[0;34m\u001b[0m\u001b[0m\n\u001b[1;32m     88\u001b[0m \u001b[0;31m#########\u001b[0m\u001b[0;34m\u001b[0m\u001b[0;34m\u001b[0m\u001b[0;34m\u001b[0m\u001b[0m\n\u001b[0;32m---> 89\u001b[0;31m \u001b[0mcache\u001b[0m\u001b[0;34m.\u001b[0m\u001b[0mglobal_context_cache\u001b[0m\u001b[0;34m.\u001b[0m\u001b[0mplatform\u001b[0m \u001b[0;34m=\u001b[0m \u001b[0mconfigure_platform\u001b[0m\u001b[0;34m(\u001b[0m\u001b[0mutils\u001b[0m\u001b[0;34m.\u001b[0m\u001b[0mget_fastest_platform\u001b[0m\u001b[0;34m(\u001b[0m\u001b[0;34m)\u001b[0m\u001b[0;34m.\u001b[0m\u001b[0mgetName\u001b[0m\u001b[0;34m(\u001b[0m\u001b[0;34m)\u001b[0m\u001b[0;34m)\u001b[0m\u001b[0;34m\u001b[0m\u001b[0;34m\u001b[0m\u001b[0m\n\u001b[0m\u001b[1;32m     90\u001b[0m \u001b[0;31m#########\u001b[0m\u001b[0;34m\u001b[0m\u001b[0;34m\u001b[0m\u001b[0;34m\u001b[0m\u001b[0m\n\u001b[1;32m     91\u001b[0m \u001b[0;34m\u001b[0m\u001b[0m\n",
      "\u001b[0;32m~/miniconda3/envs/perses-sims-oct2020/lib/python3.7/site-packages/openmmtools-0.20.0+19.g27982a0.dirty-py3.7-linux-x86_64.egg/openmmtools/cache.py\u001b[0m in \u001b[0;36mplatform\u001b[0;34m(self, new_platform)\u001b[0m\n\u001b[1;32m    329\u001b[0m     \u001b[0;32mdef\u001b[0m \u001b[0mplatform\u001b[0m\u001b[0;34m(\u001b[0m\u001b[0mself\u001b[0m\u001b[0;34m,\u001b[0m \u001b[0mnew_platform\u001b[0m\u001b[0;34m)\u001b[0m\u001b[0;34m:\u001b[0m\u001b[0;34m\u001b[0m\u001b[0;34m\u001b[0m\u001b[0m\n\u001b[1;32m    330\u001b[0m         \u001b[0;32mif\u001b[0m \u001b[0mlen\u001b[0m\u001b[0;34m(\u001b[0m\u001b[0mself\u001b[0m\u001b[0;34m.\u001b[0m\u001b[0m_lru\u001b[0m\u001b[0;34m)\u001b[0m \u001b[0;34m>\u001b[0m \u001b[0;36m0\u001b[0m\u001b[0;34m:\u001b[0m\u001b[0;34m\u001b[0m\u001b[0;34m\u001b[0m\u001b[0m\n\u001b[0;32m--> 331\u001b[0;31m             \u001b[0;32mraise\u001b[0m \u001b[0mRuntimeError\u001b[0m\u001b[0;34m(\u001b[0m\u001b[0;34m'Cannot change platform of a non-empty ContextCache'\u001b[0m\u001b[0;34m)\u001b[0m\u001b[0;34m\u001b[0m\u001b[0;34m\u001b[0m\u001b[0m\n\u001b[0m\u001b[1;32m    332\u001b[0m         \u001b[0;32mif\u001b[0m \u001b[0mnew_platform\u001b[0m \u001b[0;32mis\u001b[0m \u001b[0;32mNone\u001b[0m\u001b[0;34m:\u001b[0m\u001b[0;34m\u001b[0m\u001b[0;34m\u001b[0m\u001b[0m\n\u001b[1;32m    333\u001b[0m             \u001b[0mself\u001b[0m\u001b[0;34m.\u001b[0m\u001b[0m_platform_properties\u001b[0m \u001b[0;34m=\u001b[0m \u001b[0;32mNone\u001b[0m\u001b[0;34m\u001b[0m\u001b[0;34m\u001b[0m\u001b[0m\n",
      "\u001b[0;31mRuntimeError\u001b[0m: Cannot change platform of a non-empty ContextCache"
     ]
    }
   ],
   "source": [
    "# THR->ALA -- THR at lambda = 1\n",
    "run_torsion_scan(htf, 1, True, [669, 670, 673, 674], [669, 670, 673, 674], [675, 676, 677, 678, 679, 680, 681, 682], repartitioned=False)\n"
   ]
  },
  {
   "cell_type": "code",
   "execution_count": null,
   "metadata": {},
   "outputs": [],
   "source": []
  }
 ],
 "metadata": {
  "kernelspec": {
   "display_name": "Python 3",
   "language": "python",
   "name": "python3"
  },
  "language_info": {
   "codemirror_mode": {
    "name": "ipython",
    "version": 3
   },
   "file_extension": ".py",
   "mimetype": "text/x-python",
   "name": "python",
   "nbconvert_exporter": "python",
   "pygments_lexer": "ipython3",
   "version": "3.7.8"
  }
 },
 "nbformat": 4,
 "nbformat_minor": 4
}
