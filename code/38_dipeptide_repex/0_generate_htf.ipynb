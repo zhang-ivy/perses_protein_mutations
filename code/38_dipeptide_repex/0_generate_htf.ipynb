{
 "cells": [
  {
   "cell_type": "code",
   "execution_count": 2,
   "id": "296ec613",
   "metadata": {},
   "outputs": [],
   "source": [
    "import pickle\n",
    "import os\n",
    "from perses.app.relative_point_mutation_setup import PointMutationExecutor\n",
    "from perses.utils.smallmolecules import  render_protein_residue_atom_mapping\n",
    "from simtk import unit, openmm\n",
    "from openmm import app\n",
    "import mdtraj as md\n"
   ]
  },
  {
   "cell_type": "code",
   "execution_count": 7,
   "id": "3487df33",
   "metadata": {},
   "outputs": [],
   "source": [
    "from perses.utils.openeye import createOEMolFromSDF, extractPositionsFromOEMol\n",
    "from perses.annihilation.relative import HybridTopologyFactory, RepartitionedHybridTopologyFactory, RESTCapableHybridTopologyFactory\n",
    "from perses.rjmc.topology_proposal import PointMutationEngine\n",
    "from perses.rjmc.geometry import FFAllAngleGeometryEngine\n",
    "\n",
    "import simtk.openmm as openmm\n",
    "import simtk.openmm.app as app\n",
    "import simtk.unit as unit\n",
    "from openmoltools import forcefield_generators\n",
    "from openmmtools.constants import kB\n",
    "from perses.tests.utils import validate_endstate_energies\n",
    "from openff.toolkit.topology import Molecule\n",
    "from openmmforcefields.generators import SystemGenerator\n",
    "\n",
    "import numpy as np\n",
    "import mdtraj as md\n",
    "import copy\n",
    "\n",
    "ENERGY_THRESHOLD = 1e-2\n",
    "temperature = 300 * unit.kelvin\n",
    "kT = kB * temperature\n",
    "beta = 1.0/kT\n",
    "ring_amino_acids = ['TYR', 'PHE', 'TRP', 'PRO', 'HIS', 'HID', 'HIE', 'HIP']\n",
    "\n",
    "# Set up logger\n",
    "import logging\n",
    "_logger = logging.getLogger(\"setup\")\n",
    "_logger.setLevel(logging.INFO)\n",
    "\n",
    "class PointMutationExecutor2(PointMutationExecutor):\n",
    "   \n",
    "    def __init__(self,\n",
    "                 protein_filename,\n",
    "                 mutation_chain_id,\n",
    "                 mutation_residue_id,\n",
    "                 proposed_residue,\n",
    "                 old_residue=None,\n",
    "                 phase='complex',\n",
    "                 use_counterion=True,\n",
    "                 conduct_endstate_validation=True,\n",
    "                 ligand_input=None,\n",
    "                 ligand_index=0,\n",
    "                 allow_undefined_stereo_sdf=False,\n",
    "                 extra_sidechain_map=None,\n",
    "                 demap_CBs=False,\n",
    "                 solvate=True,\n",
    "                 water_model='tip3p',\n",
    "                 ionic_strength=0.15 * unit.molar,\n",
    "                 forcefield_files=['amber14/protein.ff14SB.xml', 'amber14/tip3p.xml'],\n",
    "                 barostat=openmm.MonteCarloBarostat(1.0 * unit.atmosphere, temperature, 50),\n",
    "                 forcefield_kwargs={'removeCMMotion': False, 'ewaldErrorTolerance': 0.00025, 'constraints' : app.HBonds, 'hydrogenMass' : 4 * unit.amus},\n",
    "                 periodic_forcefield_kwargs={'nonbondedMethod': app.PME},\n",
    "                 nonperiodic_forcefield_kwargs=None,\n",
    "                 small_molecule_forcefields='gaff-2.11',\n",
    "                 complex_box_dimensions=None,\n",
    "                 apo_box_dimensions=None,\n",
    "                 flatten_torsions=False,\n",
    "                 flatten_exceptions=False,\n",
    "                 rest_radius=0.2,\n",
    "                 w_scale=0.2,\n",
    "                 generate_unmodified_hybrid_topology_factory=True,\n",
    "                 generate_repartitioned_hybrid_topology_factory=False,\n",
    "                 generate_rest_capable_hybrid_topology_factory=False,\n",
    "                 **kwargs):\n",
    "        \"\"\"\n",
    "        arguments\n",
    "            protein_filename : str\n",
    "                path to protein (to mutate); .pdb\n",
    "                Note: if there are nonstandard residues, the PDB should contain the standard residue name but the atoms/positions should correspond to the nonstandard residue. E.g. if I want to include HID, the PDB should contain HIS for the residue name, but the atoms should correspond to the atoms present in HID. You can use openmm.app.Modeller.addHydrogens() to generate a PDB like this. The same is true for the ligand_input, if its a PDB. \n",
    "                Note: this can be the protein solute only or the solvated protein.\n",
    "            mutation_chain_id : str\n",
    "                name of the chain to be mutated\n",
    "            mutation_residue_id : str\n",
    "                residue id to change\n",
    "            proposed_residue : str\n",
    "                three letter code of the residue to mutate to\n",
    "            old_residue : str, default None\n",
    "                name of the old residue, if is a nonstandard amino acid (e.g. LYN, ASH, HID, etc)\n",
    "                if not specified, the old residue name will be inferred from the input PDB.\n",
    "            phase : str, default complex\n",
    "                if phase == vacuum, then the complex will not be solvated with water; else, it will be solvated with tip3p\n",
    "            conduct_endstate_validation : bool, default True\n",
    "                whether to conduct an endstate validation of the HybridTopologyFactory. If using the RepartitionedHybridTopologyFactory,\n",
    "                endstate validation cannot and will not be conducted.\n",
    "            ligand_input : str, default None\n",
    "                path to ligand of interest (i.e. small molecule or protein)\n",
    "                Note: if this is not solvated, it should be the ligand alone (.sdf or .pdb). if solvated, this should be the protein + ligand (.pdb).\n",
    "            ligand_index : int, default 0\n",
    "                which ligand to use\n",
    "            allow_undefined_stereo_sdf : bool, default False\n",
    "                whether to allow an SDF file to contain undefined stereocenters\n",
    "            extra_sidechain_map : dict, key: int, value: int, default None\n",
    "                map of new to old sidechain atom indices to add to the default map (by default, we only map backbone atoms and CBs)\n",
    "            demap_CBs : bool, default False\n",
    "                whether to remove CBs from the mapping\n",
    "            solvate : bool, default True\n",
    "                whether to solvate the protein/complex\n",
    "            water_model : str, default 'tip3p'\n",
    "                solvent model to use for solvation\n",
    "            ionic_strength : float * unit.molar, default 0.15 * unit.molar\n",
    "                the total concentration of ions (both positive and negative) to add using Modeller.\n",
    "                This does not include ions that are added to neutralize the system.\n",
    "                Note that only monovalent ions are currently supported.\n",
    "            forcefield_files : list of str, default ['amber14/protein.ff14SB.xml', 'amber14/tip3p.xml']\n",
    "                forcefield files for proteins and solvent\n",
    "            barostat : openmm.MonteCarloBarostat, default openmm.MonteCarloBarostat(1.0 * unit.atmosphere, 300 * unit.kelvin, 50)\n",
    "                barostat to use\n",
    "            forcefield_kwargs : dict, default {'removeCMMotion': False, 'ewaldErrorTolerance': 1e-4, 'constraints' : app.HBonds, 'hydrogenMass' : 4 * unit.amus}\n",
    "                forcefield kwargs for system parametrization\n",
    "            periodic_forcefield_kwargs : dict, default {'nonbondedMethod': app.PME}\n",
    "                periodic forcefield kwargs for system parametrization\n",
    "            nonperiodic_forcefield_kwargs : dict, default None\n",
    "                non-periodic forcefield kwargs for system parametrization\n",
    "            small_molecule_forcefields : str, default 'gaff-2.11'\n",
    "                the forcefield string for small molecule parametrization\n",
    "            complex_box_dimensions : Vec3, default None\n",
    "                define box dimensions of complex phase;\n",
    "                if None, padding is 1nm\n",
    "            apo_box_dimensions :  Vec3, default None\n",
    "                define box dimensions of apo phase phase;\n",
    "                if None, padding is 1nm\n",
    "            flatten_torsions : bool, default False\n",
    "                in the htf, flatten torsions involving unique new atoms at lambda = 0 and unique old atoms are lambda = 1\n",
    "            flatten_exceptions : bool, default False\n",
    "                in the htf, flatten exceptions involving unique new atoms at lambda = 0 and unique old atoms at lambda = 1\n",
    "            generate_unmodified_hybrid_topology_factory : bool, default True\n",
    "                whether to generate a vanilla HybridTopologyFactory\n",
    "            generate_rest_capable_hybrid_topology_factory : bool, default False\n",
    "                whether to generate a RepartitionedHybridTopologyFactory\n",
    "        TODO : allow argument for spectator ligands besides the 'ligand_file'\n",
    "        \"\"\"\n",
    "        from openeye import oechem\n",
    "\n",
    "        # First thing to do is load the apo protein to mutate...\n",
    "        if protein_filename.endswith('pdb'):\n",
    "            protein_pdb = app.PDBFile(protein_filename)\n",
    "        elif protein_filename.endswith('cif'):\n",
    "            protein_pdb = app.PDBxFile(protein_filename)\n",
    "        else:\n",
    "            raise Exception(\"protein_filename file format is not supported. supported formats: .pdb, .cif\")\n",
    "        protein_positions, protein_topology, protein_md_topology = protein_pdb.positions, protein_pdb.topology, md.Topology.from_openmm(protein_pdb.topology)\n",
    "        protein_n_atoms = protein_md_topology.n_atoms\n",
    "    \n",
    "        # Load the ligand, if present\n",
    "        molecules = []\n",
    "        if ligand_input:\n",
    "            if isinstance(ligand_input, str):\n",
    "                if ligand_input.endswith('.sdf'): # small molecule\n",
    "                        ligand_mol = createOEMolFromSDF(ligand_input, index=ligand_index, allow_undefined_stereo=allow_undefined_stereo_sdf)\n",
    "                        molecules.append(Molecule.from_openeye(ligand_mol, allow_undefined_stereo=False))\n",
    "                        ligand_positions, ligand_topology = extractPositionsFromOEMol(ligand_mol),  forcefield_generators.generateTopologyFromOEMol(ligand_mol)\n",
    "                        ligand_md_topology = md.Topology.from_openmm(ligand_topology)\n",
    "                        ligand_n_atoms = ligand_md_topology.n_atoms\n",
    "\n",
    "                elif ligand_input.endswith('pdb'): # protein\n",
    "                    ligand_pdb = app.PDBFile(ligand_input)\n",
    "                    ligand_positions, ligand_topology, ligand_md_topology = ligand_pdb.positions, ligand_pdb.topology, md.Topology.from_openmm(ligand_pdb.topology)\n",
    "                    ligand_n_atoms = ligand_md_topology.n_atoms\n",
    "\n",
    "                elif ligand_input.endswith('cif'): # protein\n",
    "                    ligand_pdbfile = open(ligand_input, 'r')\n",
    "                    ligand_pdb = app.PDBxFile(ligand_pdbfile)\n",
    "                    ligand_pdbfile.close()\n",
    "                    ligand_positions, ligand_topology, ligand_md_topology = ligand_pdb.positions, ligand_pdb.topology, md.Topology.from_openmm(\n",
    "                        ligand_pdb.topology)\n",
    "                    ligand_n_atoms = ligand_md_topology.n_atoms\n",
    "\n",
    "            elif isinstance(ligand_input, oechem.OEMol): # oemol object\n",
    "                molecules.append(Molecule.from_openeye(ligand_input, allow_undefined_stereo=False))\n",
    "                ligand_positions, ligand_topology = extractPositionsFromOEMol(ligand_input),  forcefield_generators.generateTopologyFromOEMol(ligand_input)\n",
    "                ligand_md_topology = md.Topology.from_openmm(ligand_topology)\n",
    "                ligand_n_atoms = ligand_md_topology.n_atoms\n",
    "\n",
    "            else:\n",
    "                _logger.warning(f'ligand filetype not recognised. Please provide a path to a .pdb or .sdf file')\n",
    "                return\n",
    "\n",
    "            if solvate:\n",
    "                # Now create a complex\n",
    "                complex_md_topology = protein_md_topology.join(ligand_md_topology)\n",
    "                complex_topology = complex_md_topology.to_openmm()\n",
    "                complex_positions = unit.Quantity(np.zeros([protein_n_atoms + ligand_n_atoms, 3]), unit=unit.nanometers)\n",
    "                complex_positions[:protein_n_atoms, :] = protein_positions\n",
    "                complex_positions[protein_n_atoms:, :] = ligand_positions\n",
    "\n",
    "                # Convert positions back to openmm vec3 objects\n",
    "                complex_positions_vec3 = []\n",
    "                for position in complex_positions:\n",
    "                    complex_positions_vec3.append(openmm.Vec3(*position.value_in_unit_system(unit.md_unit_system)))\n",
    "                complex_positions = unit.Quantity(value=complex_positions_vec3, unit=unit.nanometer)\n",
    "            else:\n",
    "                complex_topology = ligand_topology\n",
    "                complex_positions = ligand_positions\n",
    "\n",
    "        # Now for a system_generator\n",
    "        self.system_generator = SystemGenerator(forcefields=forcefield_files,\n",
    "                                                barostat=barostat,\n",
    "                                                forcefield_kwargs=forcefield_kwargs,\n",
    "                                                periodic_forcefield_kwargs=periodic_forcefield_kwargs,\n",
    "                                                nonperiodic_forcefield_kwargs=nonperiodic_forcefield_kwargs,\n",
    "                                                small_molecule_forcefield=small_molecule_forcefields,\n",
    "                                                molecules=molecules,\n",
    "                                                cache=None)\n",
    "\n",
    "        # Solvate apo and complex (if necessary) and generate systems...\n",
    "        inputs = []\n",
    "        topology_list = [protein_topology]\n",
    "        positions_list = [protein_positions]\n",
    "        box_dimensions_list = [apo_box_dimensions]\n",
    "        if ligand_input:\n",
    "            topology_list.append(complex_topology)\n",
    "            positions_list.append(complex_positions)\n",
    "            box_dimensions_list.append(complex_box_dimensions)\n",
    "\n",
    "        for topology, positions, box_dimensions in zip(topology_list, positions_list, box_dimensions_list):\n",
    "            if solvate:\n",
    "                solvated_topology, solvated_positions = self._solvate(topology, positions, water_model, phase,\n",
    "                                                                      ionic_strength, box_dimensions)\n",
    "            else:\n",
    "                solvated_topology = topology\n",
    "                solvated_positions = unit.quantity.Quantity(value=np.array(\n",
    "                    [list(atom_pos) for atom_pos in positions.value_in_unit_system(unit.md_unit_system)]),\n",
    "                                                            unit=unit.nanometers)\n",
    "            solvated_system = self.system_generator.create_system(solvated_topology)\n",
    "            print(solvated_system.getDefaultPeriodicBoxVectors())\n",
    "            print(solvated_system.usesPeriodicBoundaryConditions())\n",
    "            inputs.append([solvated_topology, solvated_positions, solvated_system])\n",
    "\n",
    "        geometry_engine = FFAllAngleGeometryEngine(metadata=None,\n",
    "                                                use_sterics=False,\n",
    "                                                n_bond_divisions=100,\n",
    "                                                n_angle_divisions=180,\n",
    "                                                n_torsion_divisions=360,\n",
    "                                                verbose=True,\n",
    "                                                storage=None,\n",
    "                                                bond_softening_constant=1.0,\n",
    "                                                angle_softening_constant=1.0,\n",
    "                                                neglect_angles = False,\n",
    "                                                use_14_nonbondeds = True)\n",
    "\n",
    "\n",
    "        # Run pipeline...\n",
    "        htfs = []\n",
    "        for is_complex, (top, pos, sys) in enumerate(inputs):\n",
    "            # Change the name of the old residue to its nonstandard name, if necessary\n",
    "            # Note this needs to happen after generating the system, as the system generator requires standard residue names\n",
    "            if old_residue:\n",
    "                for residue in top.residues():\n",
    "                    if residue.id == mutation_residue_id:\n",
    "                        residue.name = old_residue\n",
    "                        print(f\"Changed resid {mutation_residue_id} to {residue.name}\")\n",
    "\n",
    "            point_mutation_engine = PointMutationEngine(wildtype_topology=top,\n",
    "                                                                 system_generator=self.system_generator,\n",
    "                                                                 chain_id=mutation_chain_id, # Denote the chain id allowed to mutate (it's always a string variable)\n",
    "                                                                 max_point_mutants=1,\n",
    "                                                                 residues_allowed_to_mutate=[mutation_residue_id], # The residue ids allowed to mutate\n",
    "                                                                 allowed_mutations=[(mutation_residue_id, proposed_residue)], # The residue ids allowed to mutate with the three-letter code allowed to change\n",
    "                                                                 aggregate=True) # Always allow aggregation\n",
    "\n",
    "            topology_proposal = point_mutation_engine.propose(sys, top, extra_sidechain_map=extra_sidechain_map, demap_CBs=demap_CBs)\n",
    "            print(topology_proposal.old_system.getDefaultPeriodicBoxVectors())\n",
    "            print(topology_proposal.old_system.usesPeriodicBoundaryConditions())\n",
    "            \n",
    "            # Fix naked charges in old and new systems\n",
    "            old_topology_atom_map = {atom.index: atom.residue.name for atom in topology_proposal.old_topology.atoms()}\n",
    "            new_topology_atom_map = {atom.index: atom.residue.name for atom in topology_proposal.new_topology.atoms()}\n",
    "            for i, system in enumerate([topology_proposal.old_system, topology_proposal.new_system]):\n",
    "                force_dict = {i.__class__.__name__: i for i in system.getForces()}\n",
    "                atom_map = old_topology_atom_map if i == 0 else new_topology_atom_map\n",
    "                if 'NonbondedForce' in [k for k in force_dict.keys()]:\n",
    "                    nb_force = force_dict['NonbondedForce']\n",
    "                    for idx in range(nb_force.getNumParticles()):\n",
    "                        if atom_map[idx] in ['HOH', 'WAT']: # Do not add naked charge fix to water hydrogens\n",
    "                            continue\n",
    "                        charge, sigma, epsilon = nb_force.getParticleParameters(idx)\n",
    "                        if sigma == 0*unit.nanometer:\n",
    "                            new_sigma = 0.06*unit.nanometer\n",
    "                            nb_force.setParticleParameters(idx, charge, new_sigma, epsilon)\n",
    "                            _logger.info(f\"Changed particle {idx}'s sigma from {sigma} to {new_sigma}\")\n",
    "                        if epsilon == 0*unit.kilojoule_per_mole:\n",
    "                            new_epsilon = 0.0001*unit.kilojoule_per_mole\n",
    "                            nb_force.setParticleParameters(idx, charge, sigma, new_epsilon)\n",
    "                            _logger.info(f\"Changed particle {idx}'s epsilon from {epsilon} to {new_epsilon}\")\n",
    "                            if sigma == 1.0 * unit.nanometer: # in protein.ff14SB, hydroxyl hydrogens have sigma=1 and epsilon=0\n",
    "                                new_sigma = 0.1*unit.nanometer\n",
    "                                nb_force.setParticleParameters(idx, charge, new_sigma, epsilon)\n",
    "                                _logger.info(f\"Changed particle {idx}'s sigma from {sigma} to {new_sigma}\")\n",
    "\n",
    "            # Only validate energy bookkeeping if the WT and proposed residues do not involve rings\n",
    "            old_res = [res for res in top.residues() if res.id == mutation_residue_id][0]\n",
    "            validate_bool = False if old_res.name in ring_amino_acids or proposed_residue in ring_amino_acids else True\n",
    "            new_positions, logp_proposal = geometry_engine.propose(topology_proposal, pos, beta,\n",
    "                                                                   validate_energy_bookkeeping=validate_bool)\n",
    "            logp_reverse = geometry_engine.logp_reverse(topology_proposal, new_positions, pos, beta,\n",
    "                                                        validate_energy_bookkeeping=validate_bool)\n",
    "\n",
    "            # Check for charge change...\n",
    "            if phase != 'vacuum' and use_counterion:\n",
    "                charge_diff = point_mutation_engine._get_charge_difference(current_resname=topology_proposal.old_topology.residue_topology.name,\n",
    "                                                                       new_resname=topology_proposal.new_topology.residue_topology.name)\n",
    "           \n",
    "                _logger.info(f\"charge diff: {charge_diff}\")\n",
    "                if charge_diff != 0:\n",
    "                    new_water_indices_to_ionize = point_mutation_engine.get_water_indices(charge_diff, new_positions, topology_proposal.new_topology, radius=0.8)\n",
    "                    _logger.info(f\"new water indices to ionize {new_water_indices_to_ionize}\")\n",
    "                    self._get_ion_and_water_parameters(topology_proposal.old_system, topology_proposal.old_topology)\n",
    "                    self._transform_waters_into_ions(new_water_indices_to_ionize, topology_proposal.new_system, charge_diff)\n",
    "                    PointMutationExecutor._modify_atom_classes(new_water_indices_to_ionize, topology_proposal)\n",
    "            elif phase == 'vacuum' or not use_counterion:\n",
    "                _logger.info(\"skipping counterion functionality because phase is vacuum\")\n",
    "                    \n",
    "            if generate_unmodified_hybrid_topology_factory:\n",
    "                repartitioned_endstate = None\n",
    "                self.generate_htf(HybridTopologyFactory, topology_proposal, pos, new_positions, flatten_exceptions, flatten_torsions, repartitioned_endstate, is_complex, rest_radius, w_scale)\n",
    "            if generate_repartitioned_hybrid_topology_factory:\n",
    "                for repartitioned_endstate in [0, 1]:\n",
    "                    self.generate_htf(RepartitionedHybridTopologyFactory, topology_proposal, pos, new_positions, flatten_exceptions, flatten_torsions, repartitioned_endstate, is_complex, rest_radius, w_scale)\n",
    "            if generate_rest_capable_hybrid_topology_factory:\n",
    "                repartitioned_endstate = None\n",
    "                if rest_radius is None:\n",
    "                    _logger.info(\"Trying to generate a RESTCapableHybridTopologyFactory, but rest_radius was not specified. Using 0.2 nm...\")\n",
    "                    rest_radius = 0.2\n",
    "                self.generate_htf(RESTCapableHybridTopologyFactory, topology_proposal, pos, new_positions, flatten_exceptions, flatten_torsions, repartitioned_endstate, is_complex, rest_radius, w_scale)\n",
    "                \n",
    "            if not topology_proposal.unique_new_atoms:\n",
    "                assert geometry_engine.forward_final_context_reduced_potential == None, f\"There are no unique new atoms but the geometry_engine's final context reduced potential is not None (i.e. {self._geometry_engine.forward_final_context_reduced_potential})\"\n",
    "                assert geometry_engine.forward_atoms_with_positions_reduced_potential == None, f\"There are no unique new atoms but the geometry_engine's forward atoms-with-positions-reduced-potential in not None (i.e. { self._geometry_engine.forward_atoms_with_positions_reduced_potential})\"\n",
    "            else:\n",
    "                added_valence_energy = geometry_engine.forward_final_context_reduced_potential - geometry_engine.forward_atoms_with_positions_reduced_potential\n",
    "\n",
    "            if not topology_proposal.unique_old_atoms:\n",
    "                assert geometry_engine.reverse_final_context_reduced_potential == None, f\"There are no unique old atoms but the geometry_engine's final context reduced potential is not None (i.e. {self._geometry_engine.reverse_final_context_reduced_potential})\"\n",
    "                assert geometry_engine.reverse_atoms_with_positions_reduced_potential == None, f\"There are no unique old atoms but the geometry_engine's atoms-with-positions-reduced-potential in not None (i.e. { self._geometry_engine.reverse_atoms_with_positions_reduced_potential})\"\n",
    "                subtracted_valence_energy = 0.0\n",
    "            else:\n",
    "                subtracted_valence_energy = geometry_engine.reverse_final_context_reduced_potential - geometry_engine.reverse_atoms_with_positions_reduced_potential\n",
    "\n",
    "            # Conduct endstate energy validation\n",
    "            if conduct_endstate_validation:\n",
    "\n",
    "                assert not flatten_torsions and not flatten_exceptions, \"Cannot conduct endstate validation if flatten_torsions or flatten_exceptions is True\"\n",
    "\n",
    "                if generate_unmodified_hybrid_topology_factory:\n",
    "                    from perses.tests.utils import validate_endstate_energies\n",
    "                    htf = self.get_complex_htf() if is_complex else self.get_apo_htf()\n",
    "                    zero_state_error, one_state_error = validate_endstate_energies(htf._topology_proposal,\n",
    "                                                                                   htf,\n",
    "                                                                                   added_valence_energy,\n",
    "                                                                                   subtracted_valence_energy,\n",
    "                                                                                   beta=beta,\n",
    "                                                                                   ENERGY_THRESHOLD=ENERGY_THRESHOLD)\n",
    "\n",
    "                if generate_repartitioned_hybrid_topology_factory:\n",
    "                    from perses.tests.utils import validate_endstate_energies\n",
    "                    htf_0 = self.get_complex_rhtf_0() if is_complex else self.get_apo_rhtf_0()\n",
    "                    htf_1 = self.get_complex_rhtf_1() if is_complex else self.get_apo_rhtf_1()\n",
    "\n",
    "                    zero_state_error, _ = validate_endstate_energies(htf_0._topology_proposal,\n",
    "                                                                     htf_0,\n",
    "                                                                     added_valence_energy,\n",
    "                                                                     subtracted_valence_energy,\n",
    "                                                                     ENERGY_THRESHOLD=ENERGY_THRESHOLD,\n",
    "                                                                     beta=beta,\n",
    "                                                                     repartitioned_endstate=0)\n",
    "\n",
    "                    _, one_state_error = validate_endstate_energies(htf_1._topology_proposal,\n",
    "                                                                    htf_1,\n",
    "                                                                    added_valence_energy,\n",
    "                                                                    subtracted_valence_energy,\n",
    "                                                                    ENERGY_THRESHOLD=ENERGY_THRESHOLD,\n",
    "                                                                    beta=beta,\n",
    "                                                                    repartitioned_endstate=1)\n",
    "\n",
    "                if generate_rest_capable_hybrid_topology_factory:\n",
    "                    from perses.tests.utils import validate_endstate_energies_point\n",
    "                    for endstate in [0, 1]:\n",
    "                        htf = copy.deepcopy(self.get_complex_rest_htf()) if is_complex else copy.deepcopy(self.get_apo_rest_htf())\n",
    "                        validate_endstate_energies_point(htf, endstate=endstate, minimize=True)\n",
    "\n",
    "            else:\n",
    "                pass\n",
    "    \n",
    "    def _solvate(self,\n",
    "               topology,\n",
    "               positions,\n",
    "               water_model,\n",
    "               phase,\n",
    "               ionic_strength,\n",
    "               box_dimensions=None):\n",
    "        \"\"\"\n",
    "        Generate a solvated topology, positions, and system for a given input topology and positions.\n",
    "        For generating the system, the forcefield files provided in the constructor will be used.\n",
    "        Parameters\n",
    "        ----------\n",
    "        topology : app.Topology\n",
    "            Topology of the system to solvate\n",
    "        positions : [n, 3] ndarray of Quantity nm\n",
    "            the positions of the unsolvated system\n",
    "        forcefield : SystemGenerator.forcefield\n",
    "            forcefield file of solvent to add\n",
    "        water_model : str\n",
    "            solvent model to use for solvation\n",
    "        phase : str\n",
    "            if phase == vacuum, then the complex will not be solvated with water; else, it will be solvated with tip3p\n",
    "        ionic_strength : float * unit.molar\n",
    "            the total concentration of ions (both positive and negative) to add using Modeller.\n",
    "            This does not include ions that are added to neutralize the system.\n",
    "            Note that only monovalent ions are currently supported.\n",
    "        Returns\n",
    "        -------\n",
    "        solvated_topology : app.Topology\n",
    "            Topology of the system with added waters\n",
    "        solvated_positions : [n + 3(n_waters), 3] ndarray of Quantity nm\n",
    "            Solvated positions\n",
    "        solvated_system : openmm.System\n",
    "            The parameterized system, containing a barostat if one was specified.\n",
    "        \"\"\"\n",
    "        modeller = app.Modeller(topology, positions)\n",
    "\n",
    "        # Now we have to add missing atoms\n",
    "        if phase != 'vacuum':\n",
    "            _logger.info(f\"solvating at {ionic_strength} using {water_model}\")\n",
    "            if not box_dimensions:\n",
    "                modeller.addSolvent(self.system_generator.forcefield, model=water_model, padding=0.9 * unit.nanometers, ionicStrength=ionic_strength)\n",
    "            else:\n",
    "                modeller.addSolvent(self.system_generator.forcefield, model=water_model, boxSize=box_dimensions, ionicStrength=ionic_strength)\n",
    "        else:\n",
    "            pass\n",
    "\n",
    "        solvated_topology = modeller.getTopology()\n",
    "        if box_dimensions:\n",
    "            solvated_topology.setUnitCellDimensions(box_dimensions)\n",
    "        solvated_positions = modeller.getPositions()\n",
    "\n",
    "        # Canonicalize the solvated positions: turn tuples into np.array\n",
    "        solvated_positions = unit.quantity.Quantity(value=np.array([list(atom_pos) for atom_pos in solvated_positions.value_in_unit_system(unit.md_unit_system)]), unit=unit.nanometers)\n",
    "\n",
    "        return solvated_topology, solvated_positions\n",
    "            \n",
    "     "
   ]
  },
  {
   "cell_type": "code",
   "execution_count": 5,
   "id": "79278761",
   "metadata": {},
   "outputs": [],
   "source": [
    "def generate_htf(outdir, residue, mutant, apo_file, use_counterion=True, w_scale=0.3):\n",
    "    solvent_delivery = PointMutationExecutor2(apo_file,\n",
    "                        '1',\n",
    "                        residue,\n",
    "                        mutant,\n",
    "                        use_counterion=use_counterion,\n",
    "                        solvate=False,\n",
    "                        forcefield_files=['amber14/protein.ff14SB.xml', 'amber14/tip3p.xml'],\n",
    "                        rest_radius=0.3,\n",
    "                        w_scale=w_scale,\n",
    "                        flatten_torsions=False,\n",
    "                        flatten_exceptions=True,\n",
    "                        generate_unmodified_hybrid_topology_factory=False,\n",
    "                        generate_rest_capable_hybrid_topology_factory=True,\n",
    "                        conduct_endstate_validation=False\n",
    "                       )\n",
    "\n",
    "    # Saving htfs as pickles\n",
    "    _logger.info(\"Saving htfs as pickles\")\n",
    "    i = os.path.basename(os.path.dirname(outdir))\n",
    "\n",
    "    apo_rest_htf = solvent_delivery.get_apo_rest_htf()\n",
    "    with open(os.path.join(outdir, f\"{i}_apo.pickle\"), \"wb\") as f:\n",
    "        pickle.dump(apo_rest_htf, f)\n",
    "        \n",
    "#     apo_htf = solvent_delivery.get_apo_htf()\n",
    "#     with open(os.path.join(outdir, f\"{i}_apo_vanilla.pickle\"), \"wb\") as f:\n",
    "#         pickle.dump(apo_htf, f)\n",
    "\n",
    "    # Render atom map\n",
    "    atom_map_filename = f'{outdir}/atom_map.png'\n",
    "    render_protein_residue_atom_mapping(apo_rest_htf._topology_proposal, atom_map_filename)\n",
    "\n",
    "    # Save pdbs\n",
    "    app.PDBFile.writeFile(apo_rest_htf._topology_proposal.old_topology, apo_rest_htf.old_positions(apo_rest_htf.hybrid_positions), open(os.path.join(outdir, \"apo_old.pdb\"), \"w\"), keepIds=True)\n",
    "    app.PDBFile.writeFile(apo_rest_htf._topology_proposal.new_topology, apo_rest_htf.new_positions(apo_rest_htf.hybrid_positions), open(os.path.join(outdir, \"apo_new.pdb\"), \"w\"), keepIds=True)\n",
    "    \n",
    "    # Check the rest htf\n",
    "    _logger.info(f\"sterics expression: {apo_rest_htf.hybrid_system.getForce(5).getEnergyFunction()}\")\n",
    "    _logger.info(f\"forces: {apo_rest_htf.hybrid_system.getForces()}\")\n",
    "    _logger.info(f\"number of particles in apo: {apo_rest_htf.hybrid_system.getNumParticles()}\")\n",
    "    _logger.info(f\"number of particles in apo rest region: {len(apo_rest_htf._rest_region)}\")\n",
    "\n",
    "    print(f\"apo rest region atoms:\")\n",
    "    for atom in apo_rest_htf.hybrid_topology.atoms:\n",
    "        if atom.index in apo_rest_htf._rest_region:\n",
    "            print(atom)\n",
    "            \n",
    "    return solvent_delivery"
   ]
  },
  {
   "cell_type": "code",
   "execution_count": 4,
   "id": "2ac38fba",
   "metadata": {},
   "outputs": [],
   "source": [
    "def generate_vanilla_htf_from_rest_htf(old_outdir, new_outdir):\n",
    "    i = os.path.basename(os.path.dirname(old_outdir))\n",
    "    with open(os.path.join(old_outdir, f\"{i}_apo.pickle\"), \"rb\") as f:\n",
    "        htf = pickle.load(f)\n",
    "    topology_proposal = htf._topology_proposal\n",
    "    old_positions = htf.old_positions(htf.hybrid_positions)\n",
    "    new_positions = htf.new_positions(htf.hybrid_positions)\n",
    "    flatten_exceptions = True\n",
    "    flatten_torsions = False\n",
    "    htf = HybridTopologyFactory(topology_proposal=topology_proposal,\n",
    "                                      current_positions=old_positions,\n",
    "                                      new_positions=new_positions,\n",
    "                                      use_dispersion_correction=False,\n",
    "                                      functions=None,\n",
    "                                      softcore_alpha=None,\n",
    "                                      bond_softening_constant=1.0,\n",
    "                                      angle_softening_constant=1.0,\n",
    "                                      soften_only_new=False,\n",
    "                                      neglected_new_angle_terms=[],\n",
    "                                      neglected_old_angle_terms=[],\n",
    "                                      softcore_LJ_v2=True,\n",
    "                                      softcore_electrostatics=True,\n",
    "                                      softcore_LJ_v2_alpha=0.85,\n",
    "                                      softcore_electrostatics_alpha=0.3,\n",
    "                                      softcore_sigma_Q=1.0,\n",
    "                                      interpolate_old_and_new_14s=flatten_exceptions,\n",
    "                                      omitted_terms=None,\n",
    "                                      endstate=None,\n",
    "                                      flatten_torsions=flatten_torsions)\n",
    "    \n",
    "    i = os.path.basename(os.path.dirname(new_outdir))\n",
    "    with open(os.path.join(new_outdir, f\"{i}_apo.pickle\"), \"wb\") as f:\n",
    "        pickle.dump(htf, f)\n",
    "        \n",
    "    # Render atom map\n",
    "    atom_map_filename = f'{new_outdir}/atom_map.png'\n",
    "    render_protein_residue_atom_mapping(htf._topology_proposal, atom_map_filename)\n",
    "\n",
    "    # Save pdbs\n",
    "    app.PDBFile.writeFile(htf._topology_proposal.old_topology, htf.old_positions(htf.hybrid_positions), open(os.path.join(new_outdir, \"apo_old.pdb\"), \"w\"), keepIds=True)\n",
    "    app.PDBFile.writeFile(htf._topology_proposal.new_topology, htf.new_positions(htf.hybrid_positions), open(os.path.join(new_outdir, \"apo_new.pdb\"), \"w\"), keepIds=True)\n",
    "    \n",
    "    # Check the rest htf\n",
    "    _logger.info(f\"sterics expression: {htf.hybrid_system.getForce(5).getEnergyFunction()}\")\n",
    "    _logger.info(f\"forces: {htf.hybrid_system.getForces()}\")\n",
    "    _logger.info(f\"number of particles in apo: {htf.hybrid_system.getNumParticles()}\")\n",
    "\n",
    "    return htf"
   ]
  },
  {
   "cell_type": "code",
   "execution_count": 5,
   "id": "73eb46a4",
   "metadata": {},
   "outputs": [],
   "source": [
    "def generate_vacuum_htf(outdir, residue, mutant, apo_file, w_scale=0.3):\n",
    "    \n",
    "    solvent_delivery = PointMutationExecutor2(apo_file,\n",
    "                        '1',\n",
    "                        residue,\n",
    "                        mutant,\n",
    "                        phase='vacuum',\n",
    "                        barostat=None,\n",
    "                        forcefield_files=['amber14/protein.ff14SB.xml', 'amber14/tip3p.xml'],\n",
    "                        periodic_forcefield_kwargs=None,\n",
    "                        nonperiodic_forcefield_kwargs={'nonbondedMethod': app.NoCutoff},\n",
    "                        rest_radius=0.3,\n",
    "                        w_scale=w_scale,\n",
    "                        flatten_torsions=False,\n",
    "                        flatten_exceptions=True,\n",
    "                        generate_unmodified_hybrid_topology_factory=True,\n",
    "                        generate_rest_capable_hybrid_topology_factory=True,\n",
    "                        conduct_endstate_validation=False\n",
    "                       )\n",
    "\n",
    "    # Saving htfs as pickles\n",
    "    _logger.info(\"Saving htfs as pickles\")\n",
    "    i = os.path.basename(os.path.dirname(outdir))\n",
    "\n",
    "    apo_rest_htf = solvent_delivery.get_apo_rest_htf()\n",
    "    with open(os.path.join(outdir, f\"{i}_apo.pickle\"), \"wb\") as f:\n",
    "        pickle.dump(apo_rest_htf, f)\n",
    "    \n",
    "    apo_htf = solvent_delivery.get_apo_htf()\n",
    "    with open(os.path.join(outdir, f\"{i}_apo_vanilla.pickle\"), \"wb\") as f:\n",
    "        pickle.dump(apo_htf, f)\n",
    "\n",
    "    # Render atom map\n",
    "    atom_map_filename = f'{outdir}/atom_map.png'\n",
    "    render_protein_residue_atom_mapping(apo_rest_htf._topology_proposal, atom_map_filename)\n",
    "\n",
    "    # Save pdbs\n",
    "    app.PDBFile.writeFile(apo_rest_htf._topology_proposal.old_topology, apo_rest_htf.old_positions(apo_rest_htf.hybrid_positions), open(os.path.join(outdir, \"apo_old.pdb\"), \"w\"), keepIds=True)\n",
    "    app.PDBFile.writeFile(apo_rest_htf._topology_proposal.new_topology, apo_rest_htf.new_positions(apo_rest_htf.hybrid_positions), open(os.path.join(outdir, \"apo_new.pdb\"), \"w\"), keepIds=True)\n",
    "    \n",
    "    # Check the rest htf\n",
    "    _logger.info(f\"sterics expression: {apo_rest_htf.hybrid_system.getForce(5).getEnergyFunction()}\")\n",
    "    _logger.info(f\"forces: {apo_rest_htf.hybrid_system.getForces()}\")\n",
    "    _logger.info(f\"number of particles in apo: {apo_rest_htf.hybrid_system.getNumParticles()}\")\n",
    "    _logger.info(f\"number of particles in apo rest region: {len(apo_rest_htf._rest_region)}\")\n",
    "\n",
    "    print(f\"apo rest region atoms:\")\n",
    "    for atom in apo_rest_htf.hybrid_topology.atoms:\n",
    "        if atom.index in apo_rest_htf._rest_region:\n",
    "            print(atom)\n",
    "            \n",
    "    return solvent_delivery\n",
    "\n",
    "    "
   ]
  },
  {
   "cell_type": "code",
   "execution_count": 6,
   "id": "46162baf",
   "metadata": {
    "scrolled": true
   },
   "outputs": [
    {
     "name": "stderr",
     "output_type": "stream",
     "text": [
      "DEBUG:openmmforcefields.system_generators:Trying GAFFTemplateGenerator to load gaff-2.11\n",
      "INFO:proposal_generator:\tConducting polymer point mutation proposal...\n"
     ]
    },
    {
     "name": "stdout",
     "output_type": "stream",
     "text": [
      "(Vec3(x=2.9625000000000004, y=0.0, z=0.0), Vec3(x=0.9874989941036161, y=2.793072141324737, z=0.0), Vec3(x=-0.9874989941036157, y=1.3965339368347203, z=2.4188726609545337)) nm\n",
      "[Quantity(value=Vec3(x=2.9625000000000004, y=0.0, z=0.0), unit=nanometer), Quantity(value=Vec3(x=0.9874989941036161, y=2.793072141324737, z=0.0), unit=nanometer), Quantity(value=Vec3(x=-0.9874989941036157, y=1.3965339368347203, z=2.4188726609545337), unit=nanometer)]\n",
      "True\n"
     ]
    },
    {
     "name": "stderr",
     "output_type": "stream",
     "text": [
      "INFO:proposal_generator:local_atom_map: {6: 6, 7: 7, 8: 8, 9: 9, 10: 10, 13: 13, 14: 14}\n",
      "INFO:proposal_generator:the mapped atom names are: [('N', 'N'), ('H', 'H'), ('CA', 'CA'), ('HA', 'HA'), ('CB', 'CB'), ('C', 'C'), ('O', 'O')]\n",
      "INFO:geometry:propose: performing forward proposal\n",
      "INFO:geometry:propose: unique new atoms detected; proceeding to _logp_propose...\n",
      "INFO:geometry:Conducting forward proposal...\n",
      "INFO:geometry:Computing proposal order with NetworkX...\n",
      "INFO:geometry:number of atoms to be placed: 5\n",
      "INFO:geometry:Atom index proposal order is [15, 16, 17, 11, 12]\n",
      "INFO:geometry:omitted_bonds: []\n",
      "INFO:geometry:direction of proposal is forward; creating atoms_with_positions and new positions from old system/topology...\n",
      "INFO:geometry:creating growth system...\n",
      "INFO:geometry:\tcreating bond force...\n",
      "INFO:geometry:\tthere are 12 bonds in reference force.\n",
      "INFO:geometry:\tcreating angle force...\n",
      "INFO:geometry:\tthere are 39 angles in reference force.\n",
      "INFO:geometry:\tcreating torsion force...\n",
      "INFO:geometry:\tcreating extra torsions force...\n",
      "INFO:geometry:\tthere are 53 torsions in reference force.\n",
      "INFO:geometry:\tcreating nonbonded force...\n",
      "INFO:geometry:\t\tgrabbing reference nonbonded method, cutoff, switching function, switching distance...\n",
      "INFO:geometry:\t\tcreating nonbonded exception force (i.e. custom bond for 1,4s)...\n",
      "INFO:geometry:\t\tlooping through exceptions calculating growth indices, and adding appropriate interactions to custom bond force.\n",
      "INFO:geometry:\t\tthere are 1978 in the reference Nonbonded force\n",
      "INFO:geometry:Neglected angle terms : []\n",
      "INFO:geometry:omitted_growth_terms: {'bonds': [], 'angles': [], 'torsions': [], '1,4s': []}\n",
      "INFO:geometry:extra torsions: {}\n",
      "INFO:geometry:neglected angle terms include []\n",
      "INFO:geometry:log probability choice of torsions and atom order: -5.703782474656201\n"
     ]
    },
    {
     "name": "stdout",
     "output_type": "stream",
     "text": [
      "[Quantity(value=Vec3(x=2.9625000000000004, y=0.0, z=0.0), unit=nanometer), Quantity(value=Vec3(x=0.9874989941036161, y=2.793072141324737, z=0.0), unit=nanometer), Quantity(value=Vec3(x=-0.9874989941036157, y=1.3965339368347203, z=2.4188726609545337), unit=nanometer)]\n",
      "True\n"
     ]
    },
    {
     "ename": "KeyboardInterrupt",
     "evalue": "",
     "output_type": "error",
     "traceback": [
      "\u001b[0;31m---------------------------------------------------------------------------\u001b[0m",
      "\u001b[0;31mKeyboardInterrupt\u001b[0m                         Traceback (most recent call last)",
      "Input \u001b[0;32mIn [6]\u001b[0m, in \u001b[0;36m<module>\u001b[0;34m\u001b[0m\n\u001b[1;32m      3\u001b[0m mutant \u001b[38;5;241m=\u001b[39m \u001b[38;5;124m'\u001b[39m\u001b[38;5;124mASP\u001b[39m\u001b[38;5;124m'\u001b[39m\n\u001b[1;32m      5\u001b[0m apo_file \u001b[38;5;241m=\u001b[39m \u001b[38;5;124m\"\u001b[39m\u001b[38;5;124m/data/chodera/zhangi/perses_benchmark/repex/38/0/equil/apo_equilibrated.cif\u001b[39m\u001b[38;5;124m\"\u001b[39m \n\u001b[0;32m----> 7\u001b[0m solvent_delivery \u001b[38;5;241m=\u001b[39m \u001b[43mgenerate_htf\u001b[49m\u001b[43m(\u001b[49m\u001b[43moutdir\u001b[49m\u001b[43m,\u001b[49m\u001b[43m \u001b[49m\u001b[43mresidue\u001b[49m\u001b[43m,\u001b[49m\u001b[43m \u001b[49m\u001b[43mmutant\u001b[49m\u001b[43m,\u001b[49m\u001b[43m \u001b[49m\u001b[43mapo_file\u001b[49m\u001b[43m)\u001b[49m\n",
      "Input \u001b[0;32mIn [3]\u001b[0m, in \u001b[0;36mgenerate_htf\u001b[0;34m(outdir, residue, mutant, apo_file, use_counterion, w_scale)\u001b[0m\n\u001b[1;32m      1\u001b[0m \u001b[38;5;28;01mdef\u001b[39;00m \u001b[38;5;21mgenerate_htf\u001b[39m(outdir, residue, mutant, apo_file, use_counterion\u001b[38;5;241m=\u001b[39m\u001b[38;5;28;01mTrue\u001b[39;00m, w_scale\u001b[38;5;241m=\u001b[39m\u001b[38;5;241m0.3\u001b[39m):\n\u001b[0;32m----> 2\u001b[0m     solvent_delivery \u001b[38;5;241m=\u001b[39m \u001b[43mPointMutationExecutor2\u001b[49m\u001b[43m(\u001b[49m\u001b[43mapo_file\u001b[49m\u001b[43m,\u001b[49m\n\u001b[1;32m      3\u001b[0m \u001b[43m                        \u001b[49m\u001b[38;5;124;43m'\u001b[39;49m\u001b[38;5;124;43m1\u001b[39;49m\u001b[38;5;124;43m'\u001b[39;49m\u001b[43m,\u001b[49m\n\u001b[1;32m      4\u001b[0m \u001b[43m                        \u001b[49m\u001b[43mresidue\u001b[49m\u001b[43m,\u001b[49m\n\u001b[1;32m      5\u001b[0m \u001b[43m                        \u001b[49m\u001b[43mmutant\u001b[49m\u001b[43m,\u001b[49m\n\u001b[1;32m      6\u001b[0m \u001b[43m                        \u001b[49m\u001b[43muse_counterion\u001b[49m\u001b[38;5;241;43m=\u001b[39;49m\u001b[43muse_counterion\u001b[49m\u001b[43m,\u001b[49m\n\u001b[1;32m      7\u001b[0m \u001b[43m                        \u001b[49m\u001b[43msolvate\u001b[49m\u001b[38;5;241;43m=\u001b[39;49m\u001b[38;5;28;43;01mFalse\u001b[39;49;00m\u001b[43m,\u001b[49m\n\u001b[1;32m      8\u001b[0m \u001b[43m                        \u001b[49m\u001b[43mforcefield_files\u001b[49m\u001b[38;5;241;43m=\u001b[39;49m\u001b[43m[\u001b[49m\u001b[38;5;124;43m'\u001b[39;49m\u001b[38;5;124;43mamber14/protein.ff14SB.xml\u001b[39;49m\u001b[38;5;124;43m'\u001b[39;49m\u001b[43m,\u001b[49m\u001b[43m \u001b[49m\u001b[38;5;124;43m'\u001b[39;49m\u001b[38;5;124;43mamber14/tip3p.xml\u001b[39;49m\u001b[38;5;124;43m'\u001b[39;49m\u001b[43m]\u001b[49m\u001b[43m,\u001b[49m\n\u001b[1;32m      9\u001b[0m \u001b[43m                        \u001b[49m\u001b[43mrest_radius\u001b[49m\u001b[38;5;241;43m=\u001b[39;49m\u001b[38;5;241;43m0.3\u001b[39;49m\u001b[43m,\u001b[49m\n\u001b[1;32m     10\u001b[0m \u001b[43m                        \u001b[49m\u001b[43mw_scale\u001b[49m\u001b[38;5;241;43m=\u001b[39;49m\u001b[43mw_scale\u001b[49m\u001b[43m,\u001b[49m\n\u001b[1;32m     11\u001b[0m \u001b[43m                        \u001b[49m\u001b[43mflatten_torsions\u001b[49m\u001b[38;5;241;43m=\u001b[39;49m\u001b[38;5;28;43;01mFalse\u001b[39;49;00m\u001b[43m,\u001b[49m\n\u001b[1;32m     12\u001b[0m \u001b[43m                        \u001b[49m\u001b[43mflatten_exceptions\u001b[49m\u001b[38;5;241;43m=\u001b[39;49m\u001b[38;5;28;43;01mTrue\u001b[39;49;00m\u001b[43m,\u001b[49m\n\u001b[1;32m     13\u001b[0m \u001b[43m                        \u001b[49m\u001b[43mgenerate_unmodified_hybrid_topology_factory\u001b[49m\u001b[38;5;241;43m=\u001b[39;49m\u001b[38;5;28;43;01mTrue\u001b[39;49;00m\u001b[43m,\u001b[49m\n\u001b[1;32m     14\u001b[0m \u001b[43m                        \u001b[49m\u001b[43mgenerate_rest_capable_hybrid_topology_factory\u001b[49m\u001b[38;5;241;43m=\u001b[39;49m\u001b[38;5;28;43;01mTrue\u001b[39;49;00m\u001b[43m,\u001b[49m\n\u001b[1;32m     15\u001b[0m \u001b[43m                        \u001b[49m\u001b[43mconduct_endstate_validation\u001b[49m\u001b[38;5;241;43m=\u001b[39;49m\u001b[38;5;28;43;01mFalse\u001b[39;49;00m\n\u001b[1;32m     16\u001b[0m \u001b[43m                       \u001b[49m\u001b[43m)\u001b[49m\n\u001b[1;32m     18\u001b[0m     \u001b[38;5;66;03m# Saving htfs as pickles\u001b[39;00m\n\u001b[1;32m     19\u001b[0m     _logger\u001b[38;5;241m.\u001b[39minfo(\u001b[38;5;124m\"\u001b[39m\u001b[38;5;124mSaving htfs as pickles\u001b[39m\u001b[38;5;124m\"\u001b[39m)\n",
      "Input \u001b[0;32mIn [2]\u001b[0m, in \u001b[0;36mPointMutationExecutor2.__init__\u001b[0;34m(self, protein_filename, mutation_chain_id, mutation_residue_id, proposed_residue, old_residue, phase, use_counterion, conduct_endstate_validation, ligand_input, ligand_index, allow_undefined_stereo_sdf, extra_sidechain_map, demap_CBs, solvate, water_model, ionic_strength, forcefield_files, barostat, forcefield_kwargs, periodic_forcefield_kwargs, nonperiodic_forcefield_kwargs, small_molecule_forcefields, complex_box_dimensions, apo_box_dimensions, flatten_torsions, flatten_exceptions, rest_radius, w_scale, generate_unmodified_hybrid_topology_factory, generate_repartitioned_hybrid_topology_factory, generate_rest_capable_hybrid_topology_factory, **kwargs)\u001b[0m\n\u001b[1;32m    285\u001b[0m old_res \u001b[38;5;241m=\u001b[39m [res \u001b[38;5;28;01mfor\u001b[39;00m res \u001b[38;5;129;01min\u001b[39;00m top\u001b[38;5;241m.\u001b[39mresidues() \u001b[38;5;28;01mif\u001b[39;00m res\u001b[38;5;241m.\u001b[39mid \u001b[38;5;241m==\u001b[39m mutation_residue_id][\u001b[38;5;241m0\u001b[39m]\n\u001b[1;32m    286\u001b[0m validate_bool \u001b[38;5;241m=\u001b[39m \u001b[38;5;28;01mFalse\u001b[39;00m \u001b[38;5;28;01mif\u001b[39;00m old_res\u001b[38;5;241m.\u001b[39mname \u001b[38;5;129;01min\u001b[39;00m ring_amino_acids \u001b[38;5;129;01mor\u001b[39;00m proposed_residue \u001b[38;5;129;01min\u001b[39;00m ring_amino_acids \u001b[38;5;28;01melse\u001b[39;00m \u001b[38;5;28;01mTrue\u001b[39;00m\n\u001b[0;32m--> 287\u001b[0m new_positions, logp_proposal \u001b[38;5;241m=\u001b[39m \u001b[43mgeometry_engine\u001b[49m\u001b[38;5;241;43m.\u001b[39;49m\u001b[43mpropose\u001b[49m\u001b[43m(\u001b[49m\u001b[43mtopology_proposal\u001b[49m\u001b[43m,\u001b[49m\u001b[43m \u001b[49m\u001b[43mpos\u001b[49m\u001b[43m,\u001b[49m\u001b[43m \u001b[49m\u001b[43mbeta\u001b[49m\u001b[43m,\u001b[49m\n\u001b[1;32m    288\u001b[0m \u001b[43m                                                       \u001b[49m\u001b[43mvalidate_energy_bookkeeping\u001b[49m\u001b[38;5;241;43m=\u001b[39;49m\u001b[43mvalidate_bool\u001b[49m\u001b[43m)\u001b[49m\n\u001b[1;32m    289\u001b[0m logp_reverse \u001b[38;5;241m=\u001b[39m geometry_engine\u001b[38;5;241m.\u001b[39mlogp_reverse(topology_proposal, new_positions, pos, beta,\n\u001b[1;32m    290\u001b[0m                                             validate_energy_bookkeeping\u001b[38;5;241m=\u001b[39mvalidate_bool)\n\u001b[1;32m    292\u001b[0m \u001b[38;5;66;03m# Check for charge change...\u001b[39;00m\n",
      "File \u001b[0;32m~/miniconda3/envs/openmm-dev/lib/python3.9/site-packages/perses-0.9.5+94.g0fb13173.dirty-py3.9.egg/perses/rjmc/geometry.py:237\u001b[0m, in \u001b[0;36mFFAllAngleGeometryEngine.propose\u001b[0;34m(self, top_proposal, current_positions, beta, validate_energy_bookkeeping)\u001b[0m\n\u001b[1;32m    235\u001b[0m \u001b[38;5;28;01melse\u001b[39;00m:\n\u001b[1;32m    236\u001b[0m     _logger\u001b[38;5;241m.\u001b[39minfo(\u001b[38;5;124m\"\u001b[39m\u001b[38;5;124mpropose: unique new atoms detected; proceeding to _logp_propose...\u001b[39m\u001b[38;5;124m\"\u001b[39m)\n\u001b[0;32m--> 237\u001b[0m     logp_proposal, new_positions, rjmc_info, atoms_with_positions_reduced_potential, final_context_reduced_potential, neglected_angle_terms, omitted_terms \u001b[38;5;241m=\u001b[39m \u001b[38;5;28;43mself\u001b[39;49m\u001b[38;5;241;43m.\u001b[39;49m\u001b[43m_logp_propose\u001b[49m\u001b[43m(\u001b[49m\u001b[43mtop_proposal\u001b[49m\u001b[43m,\u001b[49m\u001b[43m \u001b[49m\u001b[43mcurrent_positions\u001b[49m\u001b[43m,\u001b[49m\u001b[43m \u001b[49m\u001b[43mbeta\u001b[49m\u001b[43m,\u001b[49m\u001b[43m \u001b[49m\u001b[43mdirection\u001b[49m\u001b[38;5;241;43m=\u001b[39;49m\u001b[38;5;124;43m'\u001b[39;49m\u001b[38;5;124;43mforward\u001b[39;49m\u001b[38;5;124;43m'\u001b[39;49m\u001b[43m,\u001b[49m\u001b[43m \u001b[49m\u001b[43mvalidate_energy_bookkeeping\u001b[49m\u001b[43m \u001b[49m\u001b[38;5;241;43m=\u001b[39;49m\u001b[43m \u001b[49m\u001b[43mvalidate_energy_bookkeeping\u001b[49m\u001b[43m)\u001b[49m\n\u001b[1;32m    238\u001b[0m     \u001b[38;5;28mself\u001b[39m\u001b[38;5;241m.\u001b[39mnproposed \u001b[38;5;241m+\u001b[39m\u001b[38;5;241m=\u001b[39m \u001b[38;5;241m1\u001b[39m\n\u001b[1;32m    240\u001b[0m check_dimensionality(new_positions, unit\u001b[38;5;241m.\u001b[39mnanometers)\n",
      "File \u001b[0;32m~/miniconda3/envs/openmm-dev/lib/python3.9/site-packages/perses-0.9.5+94.g0fb13173.dirty-py3.9.egg/perses/rjmc/geometry.py:457\u001b[0m, in \u001b[0;36mFFAllAngleGeometryEngine._logp_propose\u001b[0;34m(self, top_proposal, old_positions, beta, new_positions, direction, validate_energy_bookkeeping)\u001b[0m\n\u001b[1;32m    455\u001b[0m \u001b[38;5;66;03m# Create an OpenMM context\u001b[39;00m\n\u001b[1;32m    456\u001b[0m \u001b[38;5;28;01mfrom\u001b[39;00m \u001b[38;5;21;01msimtk\u001b[39;00m \u001b[38;5;28;01mimport\u001b[39;00m openmm\n\u001b[0;32m--> 457\u001b[0m \u001b[38;5;28;01mfrom\u001b[39;00m \u001b[38;5;21;01mperses\u001b[39;00m\u001b[38;5;21;01m.\u001b[39;00m\u001b[38;5;21;01mdispersed\u001b[39;00m\u001b[38;5;21;01m.\u001b[39;00m\u001b[38;5;21;01mutils\u001b[39;00m \u001b[38;5;28;01mimport\u001b[39;00m configure_platform\n\u001b[1;32m    458\u001b[0m _logger\u001b[38;5;241m.\u001b[39minfo(\u001b[38;5;124m\"\u001b[39m\u001b[38;5;124mcreating platform, integrators, and contexts; setting growth parameter\u001b[39m\u001b[38;5;124m\"\u001b[39m)\n\u001b[1;32m    459\u001b[0m platform \u001b[38;5;241m=\u001b[39m configure_platform(platform_name, fallback_platform_name\u001b[38;5;241m=\u001b[39m\u001b[38;5;124m'\u001b[39m\u001b[38;5;124mReference\u001b[39m\u001b[38;5;124m'\u001b[39m, precision\u001b[38;5;241m=\u001b[39m\u001b[38;5;124m'\u001b[39m\u001b[38;5;124mdouble\u001b[39m\u001b[38;5;124m'\u001b[39m)\n",
      "File \u001b[0;32m~/miniconda3/envs/openmm-dev/lib/python3.9/site-packages/perses-0.9.5+94.g0fb13173.dirty-py3.9.egg/perses/dispersed/utils.py:20\u001b[0m, in \u001b[0;36m<module>\u001b[0;34m\u001b[0m\n\u001b[1;32m     18\u001b[0m \u001b[38;5;28;01mfrom\u001b[39;00m \u001b[38;5;21;01mcollections\u001b[39;00m \u001b[38;5;28;01mimport\u001b[39;00m namedtuple\n\u001b[1;32m     19\u001b[0m \u001b[38;5;28;01mfrom\u001b[39;00m \u001b[38;5;21;01mperses\u001b[39;00m\u001b[38;5;21;01m.\u001b[39;00m\u001b[38;5;21;01mannihilation\u001b[39;00m\u001b[38;5;21;01m.\u001b[39;00m\u001b[38;5;21;01mlambda_protocol\u001b[39;00m \u001b[38;5;28;01mimport\u001b[39;00m LambdaProtocol\n\u001b[0;32m---> 20\u001b[0m \u001b[38;5;28;01mimport\u001b[39;00m \u001b[38;5;21;01mdask\u001b[39;00m\u001b[38;5;21;01m.\u001b[39;00m\u001b[38;5;21;01mdistributed\u001b[39;00m \u001b[38;5;28;01mas\u001b[39;00m \u001b[38;5;21;01mdistributed\u001b[39;00m\n\u001b[1;32m     21\u001b[0m \u001b[38;5;28;01mfrom\u001b[39;00m \u001b[38;5;21;01mscipy\u001b[39;00m\u001b[38;5;21;01m.\u001b[39;00m\u001b[38;5;21;01mspecial\u001b[39;00m \u001b[38;5;28;01mimport\u001b[39;00m logsumexp\n\u001b[1;32m     22\u001b[0m \u001b[38;5;28;01mimport\u001b[39;00m \u001b[38;5;21;01mopenmmtools\u001b[39;00m\u001b[38;5;21;01m.\u001b[39;00m\u001b[38;5;21;01mcache\u001b[39;00m \u001b[38;5;28;01mas\u001b[39;00m \u001b[38;5;21;01mcache\u001b[39;00m\n",
      "File \u001b[0;32m~/miniconda3/envs/openmm-dev/lib/python3.9/site-packages/dask/distributed.py:11\u001b[0m, in \u001b[0;36m<module>\u001b[0;34m\u001b[0m\n\u001b[1;32m      3\u001b[0m _import_error_message \u001b[38;5;241m=\u001b[39m (\n\u001b[1;32m      4\u001b[0m     \u001b[38;5;124m\"\u001b[39m\u001b[38;5;124mdask.distributed is not installed.\u001b[39m\u001b[38;5;130;01m\\n\u001b[39;00m\u001b[38;5;130;01m\\n\u001b[39;00m\u001b[38;5;124m\"\u001b[39m\n\u001b[1;32m      5\u001b[0m     \u001b[38;5;124m\"\u001b[39m\u001b[38;5;124mPlease either conda or pip install distributed:\u001b[39m\u001b[38;5;130;01m\\n\u001b[39;00m\u001b[38;5;130;01m\\n\u001b[39;00m\u001b[38;5;124m\"\u001b[39m\n\u001b[1;32m      6\u001b[0m     \u001b[38;5;124m\"\u001b[39m\u001b[38;5;124m  conda install dask distributed             # either conda install\u001b[39m\u001b[38;5;130;01m\\n\u001b[39;00m\u001b[38;5;124m\"\u001b[39m\n\u001b[1;32m      7\u001b[0m     \u001b[38;5;124m'\u001b[39m\u001b[38;5;124m  python -m pip install \u001b[39m\u001b[38;5;124m\"\u001b[39m\u001b[38;5;124mdask[distributed]\u001b[39m\u001b[38;5;124m\"\u001b[39m\u001b[38;5;124m --upgrade    # or pip install\u001b[39m\u001b[38;5;124m'\u001b[39m\n\u001b[1;32m      8\u001b[0m )\n\u001b[1;32m     10\u001b[0m \u001b[38;5;28;01mtry\u001b[39;00m:\n\u001b[0;32m---> 11\u001b[0m     \u001b[38;5;28;01mfrom\u001b[39;00m \u001b[38;5;21;01mdistributed\u001b[39;00m \u001b[38;5;28;01mimport\u001b[39;00m \u001b[38;5;241m*\u001b[39m\n\u001b[1;32m     12\u001b[0m \u001b[38;5;28;01mexcept\u001b[39;00m \u001b[38;5;167;01mImportError\u001b[39;00m \u001b[38;5;28;01mas\u001b[39;00m e:\n\u001b[1;32m     13\u001b[0m     \u001b[38;5;28;01mif\u001b[39;00m e\u001b[38;5;241m.\u001b[39mmsg \u001b[38;5;241m==\u001b[39m \u001b[38;5;124m\"\u001b[39m\u001b[38;5;124mNo module named \u001b[39m\u001b[38;5;124m'\u001b[39m\u001b[38;5;124mdistributed\u001b[39m\u001b[38;5;124m'\u001b[39m\u001b[38;5;124m\"\u001b[39m:\n",
      "File \u001b[0;32m~/miniconda3/envs/openmm-dev/lib/python3.9/site-packages/distributed/__init__.py:8\u001b[0m, in \u001b[0;36m<module>\u001b[0;34m\u001b[0m\n\u001b[1;32m      5\u001b[0m \u001b[38;5;28;01mfrom\u001b[39;00m \u001b[38;5;21;01mdask\u001b[39;00m\u001b[38;5;21;01m.\u001b[39;00m\u001b[38;5;21;01mutils\u001b[39;00m \u001b[38;5;28;01mimport\u001b[39;00m import_required\n\u001b[1;32m      7\u001b[0m \u001b[38;5;28;01mfrom\u001b[39;00m \u001b[38;5;21;01m.\u001b[39;00m\u001b[38;5;21;01m_version\u001b[39;00m \u001b[38;5;28;01mimport\u001b[39;00m get_versions\n\u001b[0;32m----> 8\u001b[0m \u001b[38;5;28;01mfrom\u001b[39;00m \u001b[38;5;21;01m.\u001b[39;00m\u001b[38;5;21;01mactor\u001b[39;00m \u001b[38;5;28;01mimport\u001b[39;00m Actor, ActorFuture\n\u001b[1;32m      9\u001b[0m \u001b[38;5;28;01mfrom\u001b[39;00m \u001b[38;5;21;01m.\u001b[39;00m\u001b[38;5;21;01mclient\u001b[39;00m \u001b[38;5;28;01mimport\u001b[39;00m (\n\u001b[1;32m     10\u001b[0m     Client,\n\u001b[1;32m     11\u001b[0m     CompatibleExecutor,\n\u001b[0;32m   (...)\u001b[0m\n\u001b[1;32m     21\u001b[0m     wait,\n\u001b[1;32m     22\u001b[0m )\n\u001b[1;32m     23\u001b[0m \u001b[38;5;28;01mfrom\u001b[39;00m \u001b[38;5;21;01m.\u001b[39;00m\u001b[38;5;21;01mcore\u001b[39;00m \u001b[38;5;28;01mimport\u001b[39;00m Status, connect, rpc\n",
      "File \u001b[0;32m~/miniconda3/envs/openmm-dev/lib/python3.9/site-packages/distributed/actor.py:5\u001b[0m, in \u001b[0;36m<module>\u001b[0;34m\u001b[0m\n\u001b[1;32m      2\u001b[0m \u001b[38;5;28;01mimport\u001b[39;00m \u001b[38;5;21;01mfunctools\u001b[39;00m\n\u001b[1;32m      3\u001b[0m \u001b[38;5;28;01mimport\u001b[39;00m \u001b[38;5;21;01mthreading\u001b[39;00m\n\u001b[0;32m----> 5\u001b[0m \u001b[38;5;28;01mfrom\u001b[39;00m \u001b[38;5;21;01m.\u001b[39;00m\u001b[38;5;21;01mclient\u001b[39;00m \u001b[38;5;28;01mimport\u001b[39;00m Future\n\u001b[1;32m      6\u001b[0m \u001b[38;5;28;01mfrom\u001b[39;00m \u001b[38;5;21;01m.\u001b[39;00m\u001b[38;5;21;01mprotocol\u001b[39;00m \u001b[38;5;28;01mimport\u001b[39;00m to_serialize\n\u001b[1;32m      7\u001b[0m \u001b[38;5;28;01mfrom\u001b[39;00m \u001b[38;5;21;01m.\u001b[39;00m\u001b[38;5;21;01mutils\u001b[39;00m \u001b[38;5;28;01mimport\u001b[39;00m iscoroutinefunction, sync, thread_state\n",
      "File \u001b[0;32m~/miniconda3/envs/openmm-dev/lib/python3.9/site-packages/distributed/client.py:56\u001b[0m, in \u001b[0;36m<module>\u001b[0;34m\u001b[0m\n\u001b[1;32m     53\u001b[0m \u001b[38;5;28;01mfrom\u001b[39;00m \u001b[38;5;21;01mtornado\u001b[39;00m\u001b[38;5;21;01m.\u001b[39;00m\u001b[38;5;21;01mioloop\u001b[39;00m \u001b[38;5;28;01mimport\u001b[39;00m IOLoop, PeriodicCallback\n\u001b[1;32m     55\u001b[0m \u001b[38;5;28;01mfrom\u001b[39;00m \u001b[38;5;21;01m.\u001b[39;00m \u001b[38;5;28;01mimport\u001b[39;00m versions \u001b[38;5;28;01mas\u001b[39;00m version_module  \u001b[38;5;66;03m# type: ignore\u001b[39;00m\n\u001b[0;32m---> 56\u001b[0m \u001b[38;5;28;01mfrom\u001b[39;00m \u001b[38;5;21;01m.\u001b[39;00m\u001b[38;5;21;01mbatched\u001b[39;00m \u001b[38;5;28;01mimport\u001b[39;00m BatchedSend\n\u001b[1;32m     57\u001b[0m \u001b[38;5;28;01mfrom\u001b[39;00m \u001b[38;5;21;01m.\u001b[39;00m\u001b[38;5;21;01mcfexecutor\u001b[39;00m \u001b[38;5;28;01mimport\u001b[39;00m ClientExecutor\n\u001b[1;32m     58\u001b[0m \u001b[38;5;28;01mfrom\u001b[39;00m \u001b[38;5;21;01m.\u001b[39;00m\u001b[38;5;21;01mcore\u001b[39;00m \u001b[38;5;28;01mimport\u001b[39;00m (\n\u001b[1;32m     59\u001b[0m     CommClosedError,\n\u001b[1;32m     60\u001b[0m     ConnectionPool,\n\u001b[0;32m   (...)\u001b[0m\n\u001b[1;32m     64\u001b[0m     rpc,\n\u001b[1;32m     65\u001b[0m )\n",
      "File \u001b[0;32m~/miniconda3/envs/openmm-dev/lib/python3.9/site-packages/distributed/batched.py:10\u001b[0m, in \u001b[0;36m<module>\u001b[0;34m\u001b[0m\n\u001b[1;32m      7\u001b[0m \u001b[38;5;28;01mimport\u001b[39;00m \u001b[38;5;21;01mdask\u001b[39;00m\n\u001b[1;32m      8\u001b[0m \u001b[38;5;28;01mfrom\u001b[39;00m \u001b[38;5;21;01mdask\u001b[39;00m\u001b[38;5;21;01m.\u001b[39;00m\u001b[38;5;21;01mutils\u001b[39;00m \u001b[38;5;28;01mimport\u001b[39;00m parse_timedelta\n\u001b[0;32m---> 10\u001b[0m \u001b[38;5;28;01mfrom\u001b[39;00m \u001b[38;5;21;01m.\u001b[39;00m\u001b[38;5;21;01mcore\u001b[39;00m \u001b[38;5;28;01mimport\u001b[39;00m CommClosedError\n\u001b[1;32m     12\u001b[0m logger \u001b[38;5;241m=\u001b[39m logging\u001b[38;5;241m.\u001b[39mgetLogger(\u001b[38;5;18m__name__\u001b[39m)\n\u001b[1;32m     15\u001b[0m \u001b[38;5;28;01mclass\u001b[39;00m \u001b[38;5;21;01mBatchedSend\u001b[39;00m:\n",
      "File \u001b[0;32m~/miniconda3/envs/openmm-dev/lib/python3.9/site-packages/distributed/core.py:26\u001b[0m, in \u001b[0;36m<module>\u001b[0;34m\u001b[0m\n\u001b[1;32m     23\u001b[0m \u001b[38;5;28;01mfrom\u001b[39;00m \u001b[38;5;21;01mdask\u001b[39;00m\u001b[38;5;21;01m.\u001b[39;00m\u001b[38;5;21;01mutils\u001b[39;00m \u001b[38;5;28;01mimport\u001b[39;00m parse_timedelta\n\u001b[1;32m     25\u001b[0m \u001b[38;5;28;01mfrom\u001b[39;00m \u001b[38;5;21;01m.\u001b[39;00m \u001b[38;5;28;01mimport\u001b[39;00m profile, protocol\n\u001b[0;32m---> 26\u001b[0m \u001b[38;5;28;01mfrom\u001b[39;00m \u001b[38;5;21;01m.\u001b[39;00m\u001b[38;5;21;01mcomm\u001b[39;00m \u001b[38;5;28;01mimport\u001b[39;00m (\n\u001b[1;32m     27\u001b[0m     CommClosedError,\n\u001b[1;32m     28\u001b[0m     connect,\n\u001b[1;32m     29\u001b[0m     get_address_host_port,\n\u001b[1;32m     30\u001b[0m     listen,\n\u001b[1;32m     31\u001b[0m     normalize_address,\n\u001b[1;32m     32\u001b[0m     unparse_host_port,\n\u001b[1;32m     33\u001b[0m )\n\u001b[1;32m     34\u001b[0m \u001b[38;5;28;01mfrom\u001b[39;00m \u001b[38;5;21;01m.\u001b[39;00m\u001b[38;5;21;01mmetrics\u001b[39;00m \u001b[38;5;28;01mimport\u001b[39;00m time\n\u001b[1;32m     35\u001b[0m \u001b[38;5;28;01mfrom\u001b[39;00m \u001b[38;5;21;01m.\u001b[39;00m\u001b[38;5;21;01msystem_monitor\u001b[39;00m \u001b[38;5;28;01mimport\u001b[39;00m SystemMonitor\n",
      "File \u001b[0;32m~/miniconda3/envs/openmm-dev/lib/python3.9/site-packages/distributed/comm/__init__.py:25\u001b[0m, in \u001b[0;36m<module>\u001b[0;34m\u001b[0m\n\u001b[1;32m     21\u001b[0m     \u001b[38;5;28;01mexcept\u001b[39;00m \u001b[38;5;167;01mImportError\u001b[39;00m:\n\u001b[1;32m     22\u001b[0m         \u001b[38;5;28;01mpass\u001b[39;00m\n\u001b[0;32m---> 25\u001b[0m \u001b[43m_register_transports\u001b[49m\u001b[43m(\u001b[49m\u001b[43m)\u001b[49m\n",
      "File \u001b[0;32m~/miniconda3/envs/openmm-dev/lib/python3.9/site-packages/distributed/comm/__init__.py:17\u001b[0m, in \u001b[0;36m_register_transports\u001b[0;34m()\u001b[0m\n\u001b[1;32m     16\u001b[0m \u001b[38;5;28;01mdef\u001b[39;00m \u001b[38;5;21m_register_transports\u001b[39m():\n\u001b[0;32m---> 17\u001b[0m     \u001b[38;5;28;01mfrom\u001b[39;00m \u001b[38;5;21;01m.\u001b[39;00m \u001b[38;5;28;01mimport\u001b[39;00m inproc, tcp, ws\n\u001b[1;32m     19\u001b[0m     \u001b[38;5;28;01mtry\u001b[39;00m:\n\u001b[1;32m     20\u001b[0m         \u001b[38;5;28;01mfrom\u001b[39;00m \u001b[38;5;21;01m.\u001b[39;00m \u001b[38;5;28;01mimport\u001b[39;00m ucx\n",
      "File \u001b[0;32m~/miniconda3/envs/openmm-dev/lib/python3.9/site-packages/distributed/comm/ws.py:11\u001b[0m, in \u001b[0;36m<module>\u001b[0;34m\u001b[0m\n\u001b[1;32m      8\u001b[0m \u001b[38;5;28;01mfrom\u001b[39;00m \u001b[38;5;21;01mcollections\u001b[39;00m\u001b[38;5;21;01m.\u001b[39;00m\u001b[38;5;21;01mabc\u001b[39;00m \u001b[38;5;28;01mimport\u001b[39;00m Callable\n\u001b[1;32m      9\u001b[0m \u001b[38;5;28;01mfrom\u001b[39;00m \u001b[38;5;21;01mssl\u001b[39;00m \u001b[38;5;28;01mimport\u001b[39;00m SSLError\n\u001b[0;32m---> 11\u001b[0m \u001b[38;5;28;01mfrom\u001b[39;00m \u001b[38;5;21;01mtornado\u001b[39;00m \u001b[38;5;28;01mimport\u001b[39;00m web\n\u001b[1;32m     12\u001b[0m \u001b[38;5;28;01mfrom\u001b[39;00m \u001b[38;5;21;01mtornado\u001b[39;00m\u001b[38;5;21;01m.\u001b[39;00m\u001b[38;5;21;01mhttpclient\u001b[39;00m \u001b[38;5;28;01mimport\u001b[39;00m HTTPClientError, HTTPRequest\n\u001b[1;32m     13\u001b[0m \u001b[38;5;28;01mfrom\u001b[39;00m \u001b[38;5;21;01mtornado\u001b[39;00m\u001b[38;5;21;01m.\u001b[39;00m\u001b[38;5;21;01mhttpserver\u001b[39;00m \u001b[38;5;28;01mimport\u001b[39;00m HTTPServer\n",
      "File \u001b[0;32m~/miniconda3/envs/openmm-dev/lib/python3.9/site-packages/tornado/web.py:95\u001b[0m, in \u001b[0;36m<module>\u001b[0;34m\u001b[0m\n\u001b[1;32m     93\u001b[0m \u001b[38;5;28;01mfrom\u001b[39;00m \u001b[38;5;21;01mtornado\u001b[39;00m \u001b[38;5;28;01mimport\u001b[39;00m template\n\u001b[1;32m     94\u001b[0m \u001b[38;5;28;01mfrom\u001b[39;00m \u001b[38;5;21;01mtornado\u001b[39;00m\u001b[38;5;21;01m.\u001b[39;00m\u001b[38;5;21;01mescape\u001b[39;00m \u001b[38;5;28;01mimport\u001b[39;00m utf8, _unicode\n\u001b[0;32m---> 95\u001b[0m \u001b[38;5;28;01mfrom\u001b[39;00m \u001b[38;5;21;01mtornado\u001b[39;00m\u001b[38;5;21;01m.\u001b[39;00m\u001b[38;5;21;01mrouting\u001b[39;00m \u001b[38;5;28;01mimport\u001b[39;00m (\n\u001b[1;32m     96\u001b[0m     AnyMatches,\n\u001b[1;32m     97\u001b[0m     DefaultHostMatches,\n\u001b[1;32m     98\u001b[0m     HostMatches,\n\u001b[1;32m     99\u001b[0m     ReversibleRouter,\n\u001b[1;32m    100\u001b[0m     Rule,\n\u001b[1;32m    101\u001b[0m     ReversibleRuleRouter,\n\u001b[1;32m    102\u001b[0m     URLSpec,\n\u001b[1;32m    103\u001b[0m     _RuleList,\n\u001b[1;32m    104\u001b[0m )\n\u001b[1;32m    105\u001b[0m \u001b[38;5;28;01mfrom\u001b[39;00m \u001b[38;5;21;01mtornado\u001b[39;00m\u001b[38;5;21;01m.\u001b[39;00m\u001b[38;5;21;01mutil\u001b[39;00m \u001b[38;5;28;01mimport\u001b[39;00m ObjectDict, unicode_type, _websocket_mask\n\u001b[1;32m    107\u001b[0m url \u001b[38;5;241m=\u001b[39m URLSpec\n",
      "File \u001b[0;32m<frozen importlib._bootstrap>:1007\u001b[0m, in \u001b[0;36m_find_and_load\u001b[0;34m(name, import_)\u001b[0m\n",
      "File \u001b[0;32m<frozen importlib._bootstrap>:986\u001b[0m, in \u001b[0;36m_find_and_load_unlocked\u001b[0;34m(name, import_)\u001b[0m\n",
      "File \u001b[0;32m<frozen importlib._bootstrap>:680\u001b[0m, in \u001b[0;36m_load_unlocked\u001b[0;34m(spec)\u001b[0m\n",
      "File \u001b[0;32m<frozen importlib._bootstrap_external>:846\u001b[0m, in \u001b[0;36mexec_module\u001b[0;34m(self, module)\u001b[0m\n",
      "File \u001b[0;32m<frozen importlib._bootstrap_external>:941\u001b[0m, in \u001b[0;36mget_code\u001b[0;34m(self, fullname)\u001b[0m\n",
      "File \u001b[0;32m<frozen importlib._bootstrap_external>:1039\u001b[0m, in \u001b[0;36mget_data\u001b[0;34m(self, path)\u001b[0m\n",
      "\u001b[0;31mKeyboardInterrupt\u001b[0m: "
     ]
    }
   ],
   "source": [
    "outdir = \"/data/chodera/zhangi/perses_benchmark/repex/38/0/\"\n",
    "residue = '2'\n",
    "mutant = 'ASP'\n",
    "\n",
    "apo_file = \"/data/chodera/zhangi/perses_benchmark/repex/38/0/equil/apo_equilibrated.cif\" \n",
    "\n",
    "solvent_delivery = generate_htf(outdir, residue, mutant, apo_file)"
   ]
  },
  {
   "cell_type": "code",
   "execution_count": 10,
   "id": "3fe6951f",
   "metadata": {},
   "outputs": [
    {
     "name": "stderr",
     "output_type": "stream",
     "text": [
      "DEBUG:openmmforcefields.system_generators:Trying GAFFTemplateGenerator to load gaff-2.11\n"
     ]
    },
    {
     "name": "stdout",
     "output_type": "stream",
     "text": [
      "(Vec3(x=2.8033, y=0.0, z=0.0), Vec3(x=0.9344323814922082, y=2.642976922793463, z=0.0), Vec3(x=-0.9344323814922079, y=1.3214864422375598, z=2.2888863225160656)) nm\n"
     ]
    },
    {
     "name": "stderr",
     "output_type": "stream",
     "text": [
      "INFO:proposal_generator:\tConducting polymer point mutation proposal...\n"
     ]
    },
    {
     "name": "stdout",
     "output_type": "stream",
     "text": [
      "[Quantity(value=Vec3(x=2.8033, y=0.0, z=0.0), unit=nanometer), Quantity(value=Vec3(x=0.9344323814922082, y=2.642976922793463, z=0.0), unit=nanometer), Quantity(value=Vec3(x=-0.9344323814922079, y=1.3214864422375598, z=2.2888863225160656), unit=nanometer)]\n",
      "True\n"
     ]
    },
    {
     "name": "stderr",
     "output_type": "stream",
     "text": [
      "INFO:proposal_generator:local_atom_map: {6: 6, 7: 7, 8: 8, 9: 9, 10: 10, 13: 13, 14: 14}\n",
      "INFO:proposal_generator:the mapped atom names are: [('N', 'N'), ('H', 'H'), ('CA', 'CA'), ('HA', 'HA'), ('CB', 'CB'), ('C', 'C'), ('O', 'O')]\n",
      "INFO:geometry:propose: performing forward proposal\n",
      "INFO:geometry:propose: unique new atoms detected; proceeding to _logp_propose...\n",
      "INFO:geometry:Conducting forward proposal...\n",
      "INFO:geometry:Computing proposal order with NetworkX...\n",
      "INFO:geometry:number of atoms to be placed: 17\n",
      "INFO:geometry:Atom index proposal order is [15, 18, 21, 23, 27, 24, 17, 20, 22, 19, 12, 11, 28, 16, 29, 26, 25]\n",
      "INFO:geometry:omitted_bonds: []\n",
      "INFO:geometry:direction of proposal is forward; creating atoms_with_positions and new positions from old system/topology...\n",
      "INFO:geometry:creating growth system...\n",
      "INFO:geometry:\tcreating bond force...\n",
      "INFO:geometry:\tthere are 15 bonds in reference force.\n",
      "INFO:geometry:\tcreating angle force...\n",
      "INFO:geometry:\tthere are 60 angles in reference force.\n",
      "INFO:geometry:\tcreating torsion force...\n",
      "INFO:geometry:\tcreating extra torsions force...\n",
      "INFO:geometry:\tthere are 78 torsions in reference force.\n",
      "INFO:geometry:\tcreating nonbonded force...\n",
      "INFO:geometry:\t\tgrabbing reference nonbonded method, cutoff, switching function, switching distance...\n",
      "INFO:geometry:\t\tcreating nonbonded exception force (i.e. custom bond for 1,4s)...\n",
      "INFO:geometry:\t\tlooping through exceptions calculating growth indices, and adding appropriate interactions to custom bond force.\n",
      "INFO:geometry:\t\tthere are 1765 in the reference Nonbonded force\n"
     ]
    },
    {
     "name": "stdout",
     "output_type": "stream",
     "text": [
      "[Quantity(value=Vec3(x=2.8033, y=0.0, z=0.0), unit=nanometer), Quantity(value=Vec3(x=0.9344323814922082, y=2.642976922793463, z=0.0), unit=nanometer), Quantity(value=Vec3(x=-0.9344323814922079, y=1.3214864422375598, z=2.2888863225160656), unit=nanometer)]\n",
      "True\n"
     ]
    },
    {
     "name": "stderr",
     "output_type": "stream",
     "text": [
      "INFO:geometry:Neglected angle terms : []\n",
      "INFO:geometry:omitted_growth_terms: {'bonds': [], 'angles': [], 'torsions': [], '1,4s': []}\n",
      "INFO:geometry:extra torsions: {0: (28, 27, 23, 21, [1, Quantity(value=3.1400479780546657, unit=radian), Quantity(value=1200.0, unit=kilocalorie/mole), 13]), 1: (28, 27, 23, 24, [1, Quantity(value=-0.0009854700401916716, unit=radian), Quantity(value=1200.0, unit=kilocalorie/mole), 13]), 2: (29, 27, 23, 21, [1, Quantity(value=-0.0019499207113558015, unit=radian), Quantity(value=1200.0, unit=kilocalorie/mole), 15]), 3: (29, 27, 23, 24, [1, Quantity(value=3.1402019383733304, unit=radian), Quantity(value=1200.0, unit=kilocalorie/mole), 15]), 4: (27, 23, 24, 26, [1, Quantity(value=-3.141011085169936, unit=radian), Quantity(value=1200.0, unit=kilocalorie/mole), 16]), 5: (27, 23, 24, 25, [1, Quantity(value=0.0013841937088012735, unit=radian), Quantity(value=1200.0, unit=kilocalorie/mole), 17]), 6: (21, 23, 24, 26, [1, Quantity(value=0.0011725432810614222, unit=radian), Quantity(value=1200.0, unit=kilocalorie/mole), 16]), 7: (21, 23, 24, 25, [1, Quantity(value=-3.1396174850195098, unit=radian), Quantity(value=1200.0, unit=kilocalorie/mole), 17])}\n",
      "INFO:geometry:neglected angle terms include []\n",
      "INFO:geometry:log probability choice of torsions and atom order: -29.98255170182789\n",
      "INFO:geometry:creating platform, integrators, and contexts; setting growth parameter\n"
     ]
    },
    {
     "name": "stdout",
     "output_type": "stream",
     "text": [
      "conducting subsequent work with the following platform: CUDA\n"
     ]
    },
    {
     "name": "stderr",
     "output_type": "stream",
     "text": [
      "INFO:geometry:setting atoms_with_positions context new positions\n"
     ]
    },
    {
     "name": "stdout",
     "output_type": "stream",
     "text": [
      "conducting subsequent work with the following platform: CUDA\n"
     ]
    },
    {
     "name": "stderr",
     "output_type": "stream",
     "text": [
      "INFO:geometry:There are 17 new atoms\n",
      "INFO:geometry:\treduced angle potential = 2.2915126248319835.\n",
      "INFO:geometry:\treduced angle potential = 0.18712081365079977.\n",
      "INFO:geometry:\treduced angle potential = 0.011500003116548724.\n",
      "INFO:geometry:\treduced angle potential = 0.7100421708066935.\n",
      "INFO:geometry:\treduced angle potential = 0.13219567484952963.\n",
      "INFO:geometry:\treduced angle potential = 1.0404991613959407.\n",
      "INFO:geometry:\treduced angle potential = 1.0569022400575503.\n",
      "INFO:geometry:\treduced angle potential = 2.3416116249564305.\n",
      "INFO:geometry:\treduced angle potential = 0.7515226572093977.\n",
      "INFO:geometry:\treduced angle potential = 0.15189753326669436.\n",
      "INFO:geometry:\treduced angle potential = 1.3276040469979653.\n",
      "INFO:geometry:\treduced angle potential = 0.034465207988079845.\n",
      "INFO:geometry:\treduced angle potential = 0.1335504368809963.\n",
      "INFO:geometry:\treduced angle potential = 0.5706239345560585.\n",
      "INFO:geometry:\treduced angle potential = 0.5797474944515374.\n",
      "INFO:geometry:\treduced angle potential = 0.645900826348313.\n",
      "INFO:geometry:\treduced angle potential = 0.14460169544836443.\n",
      "INFO:geometry:\tbeginning construction of no_nonbonded final system...\n",
      "INFO:geometry:\tinitial no-nonbonded final system forces ['HarmonicBondForce', 'HarmonicAngleForce', 'PeriodicTorsionForce', 'NonbondedForce', 'MonteCarloBarostat']\n",
      "INFO:geometry:\tfinal no-nonbonded final system forces dict_keys(['HarmonicBondForce', 'HarmonicAngleForce', 'PeriodicTorsionForce', 'NonbondedForce'])\n",
      "INFO:geometry:\tthere are 15 bond forces in the no-nonbonded final system\n",
      "INFO:geometry:\tthere are 60 angle forces in the no-nonbonded final system\n",
      "INFO:geometry:\tthere are 78 torsion forces in the no-nonbonded final system\n",
      "INFO:geometry:forward final system defined with 0 neglected angles.\n"
     ]
    },
    {
     "name": "stdout",
     "output_type": "stream",
     "text": [
      "conducting subsequent work with the following platform: CUDA\n",
      "conducting subsequent work with the following platform: CUDA\n"
     ]
    },
    {
     "name": "stderr",
     "output_type": "stream",
     "text": [
      "INFO:geometry:total reduced potential before atom placement: 41.560788798150966\n"
     ]
    },
    {
     "name": "stdout",
     "output_type": "stream",
     "text": [
      "conducting subsequent work with the following platform: CUDA\n",
      "conducting subsequent work with the following platform: CUDA\n",
      "conducting subsequent work with the following platform: CUDA\n"
     ]
    },
    {
     "name": "stderr",
     "output_type": "stream",
     "text": [
      "INFO:geometry:total reduced energy added from growth system: -435.57399098204877\n",
      "INFO:geometry:final reduced energy -394.01321025289695\n",
      "INFO:geometry:sum of energies: -394.0132021838978\n",
      "INFO:geometry:magnitude of difference in the energies: 8.068999136412458e-06\n",
      "INFO:geometry:Final logp_proposal: 105.14859370444773\n"
     ]
    },
    {
     "name": "stdout",
     "output_type": "stream",
     "text": [
      "added energy components: [('CustomBondForce', 0.9846190939580441), ('CustomAngleForce', 25.496463855771502), ('CustomTorsionForce', 8.216053595779133), ('CustomBondForce', -470.2711275275573)]\n"
     ]
    },
    {
     "name": "stderr",
     "output_type": "stream",
     "text": [
      "INFO:geometry:logp_reverse: performing reverse proposal\n",
      "INFO:geometry:logp_reverse: unique new atoms detected; proceeding to _logp_propose...\n",
      "INFO:geometry:Conducting forward proposal...\n",
      "INFO:geometry:Computing proposal order with NetworkX...\n",
      "INFO:geometry:number of atoms to be placed: 5\n",
      "INFO:geometry:Atom index proposal order is [15, 17, 16, 11, 12]\n",
      "INFO:geometry:omitted_bonds: []\n",
      "INFO:geometry:direction of proposal is reverse; creating atoms_with_positions from old system/topology\n",
      "INFO:geometry:creating growth system...\n",
      "INFO:geometry:\tcreating bond force...\n",
      "INFO:geometry:\tthere are 12 bonds in reference force.\n",
      "INFO:geometry:\tcreating angle force...\n",
      "INFO:geometry:\tthere are 39 angles in reference force.\n",
      "INFO:geometry:\tcreating torsion force...\n",
      "INFO:geometry:\tcreating extra torsions force...\n",
      "INFO:geometry:\tthere are 53 torsions in reference force.\n",
      "INFO:geometry:\tcreating nonbonded force...\n",
      "INFO:geometry:\t\tgrabbing reference nonbonded method, cutoff, switching function, switching distance...\n",
      "INFO:geometry:\t\tcreating nonbonded exception force (i.e. custom bond for 1,4s)...\n",
      "INFO:geometry:\t\tlooping through exceptions calculating growth indices, and adding appropriate interactions to custom bond force.\n",
      "INFO:geometry:\t\tthere are 1702 in the reference Nonbonded force\n",
      "INFO:geometry:Neglected angle terms : []\n",
      "INFO:geometry:omitted_growth_terms: {'bonds': [], 'angles': [], 'torsions': [], '1,4s': []}\n",
      "INFO:geometry:extra torsions: {}\n",
      "INFO:geometry:neglected angle terms include []\n",
      "INFO:geometry:log probability choice of torsions and atom order: -5.703782474656201\n",
      "INFO:geometry:creating platform, integrators, and contexts; setting growth parameter\n"
     ]
    },
    {
     "name": "stdout",
     "output_type": "stream",
     "text": [
      "conducting subsequent work with the following platform: CUDA\n"
     ]
    },
    {
     "name": "stderr",
     "output_type": "stream",
     "text": [
      "INFO:geometry:setting atoms_with_positions context old positions\n"
     ]
    },
    {
     "name": "stdout",
     "output_type": "stream",
     "text": [
      "conducting subsequent work with the following platform: CUDA\n"
     ]
    },
    {
     "name": "stderr",
     "output_type": "stream",
     "text": [
      "INFO:geometry:There are 5 new atoms\n",
      "INFO:geometry:\treduced angle potential = 0.20577844474540413.\n",
      "INFO:geometry:\treduced angle potential = 0.9894200779520561.\n",
      "INFO:geometry:\treduced angle potential = 0.057926594809241755.\n",
      "INFO:geometry:\treduced angle potential = 0.35044306822896865.\n",
      "INFO:geometry:\treduced angle potential = 0.1053378157279688.\n",
      "INFO:geometry:\tbeginning construction of no_nonbonded final system...\n",
      "INFO:geometry:\tinitial no-nonbonded final system forces ['HarmonicBondForce', 'HarmonicAngleForce', 'PeriodicTorsionForce', 'NonbondedForce', 'MonteCarloBarostat']\n",
      "INFO:geometry:\tfinal no-nonbonded final system forces dict_keys(['HarmonicBondForce', 'HarmonicAngleForce', 'PeriodicTorsionForce', 'NonbondedForce'])\n",
      "INFO:geometry:\tthere are 12 bond forces in the no-nonbonded final system\n",
      "INFO:geometry:\tthere are 39 angle forces in the no-nonbonded final system\n",
      "INFO:geometry:\tthere are 53 torsion forces in the no-nonbonded final system\n",
      "INFO:geometry:reverse final system defined with 0 neglected angles.\n"
     ]
    },
    {
     "name": "stdout",
     "output_type": "stream",
     "text": [
      "conducting subsequent work with the following platform: CUDA\n",
      "conducting subsequent work with the following platform: CUDA\n"
     ]
    },
    {
     "name": "stderr",
     "output_type": "stream",
     "text": [
      "INFO:geometry:total reduced potential before atom placement: 41.56078879815097\n"
     ]
    },
    {
     "name": "stdout",
     "output_type": "stream",
     "text": [
      "conducting subsequent work with the following platform: CUDA\n",
      "conducting subsequent work with the following platform: CUDA\n",
      "conducting subsequent work with the following platform: CUDA\n"
     ]
    },
    {
     "name": "stderr",
     "output_type": "stream",
     "text": [
      "INFO:geometry:total reduced energy added from growth system: 41.41758474299305\n",
      "INFO:geometry:final reduced energy 82.97836882897181\n",
      "INFO:geometry:sum of energies: 82.97837354114402\n",
      "INFO:geometry:magnitude of difference in the energies: 4.71217221331699e-06\n",
      "INFO:geometry:Final logp_proposal: -0.7964708151372104\n"
     ]
    },
    {
     "name": "stdout",
     "output_type": "stream",
     "text": [
      "added energy components: [('CustomBondForce', 0.37716629845405375), ('CustomAngleForce', 4.7222212616231705), ('CustomTorsionForce', 11.049402852182757), ('CustomBondForce', 25.26879433073308)]\n"
     ]
    },
    {
     "name": "stderr",
     "output_type": "stream",
     "text": [
      "INFO:setup:charge diff: -2\n",
      "INFO:setup:new water indices to ionize [ 54  55  56 375 376 377]\n",
      "INFO:relative:*** Generating RESTCapableHybridTopologyFactory ***\n",
      "INFO:relative:Old system forces: dict_keys(['HarmonicBondForce', 'HarmonicAngleForce', 'PeriodicTorsionForce', 'NonbondedForce', 'MonteCarloBarostat'])\n",
      "INFO:relative:New system forces: dict_keys(['HarmonicBondForce', 'HarmonicAngleForce', 'PeriodicTorsionForce', 'NonbondedForce', 'MonteCarloBarostat'])\n",
      "INFO:relative:No unknown forces.\n",
      "INFO:relative:r_cutoff is 1.0 nm\n",
      "INFO:relative:alpha_ewald is 2.7569734238004693\n",
      "INFO:relative:w_scale is 0.3\n",
      "INFO:relative:Creating hybrid system\n",
      "INFO:relative:Adding and mapping old atoms to hybrid system...\n",
      "INFO:relative:Adding and mapping new atoms to hybrid system...\n",
      "INFO:relative:Added MonteCarloBarostat.\n",
      "INFO:relative:getDefaultPeriodicBoxVectors added to hybrid: [Quantity(value=Vec3(x=2.8033, y=0.0, z=0.0), unit=nanometer), Quantity(value=Vec3(x=0.9344323814922082, y=2.642976922793463, z=0.0), unit=nanometer), Quantity(value=Vec3(x=-0.9344323814922079, y=1.3214864422375598, z=2.2888863225160656), unit=nanometer)]\n",
      "INFO:relative:Determined atom classes.\n",
      "INFO:relative:Computed hybrid positions\n",
      "INFO:relative:Created hybrid topology\n",
      "INFO:relative:Generating rest_region with query indices: [6, 7, 8, 9, 10, 11, 12, 13, 14, 15, 16, 17, 1620, 1621, 1622, 1623, 1624, 1625, 1626, 1627, 1628, 1629, 1630, 1631, 1632, 1633, 1634, 1635, 1636]\n",
      "INFO:relative:Rest radius: 0.3 nm\n",
      "INFO:relative:Rest region: [0, 1, 2, 3, 4, 5, 6, 7, 8, 9, 10, 11, 12, 13, 14, 15, 16, 17, 1620, 1621, 1622, 1623, 1624, 1625, 1626, 1627, 1628, 1629, 1630, 1631, 1632, 1633, 1634, 1635, 1636, 18, 19, 20, 21, 22, 23]\n",
      "INFO:relative:Prepped look up dict for determining if atom is solvent\n",
      "INFO:relative:Generating old system exceptions dict...\n",
      "INFO:relative:Generating new system exceptions dict...\n",
      "INFO:relative:Handling constraints...\n",
      "INFO:relative:Handling virtual sites...\n",
      "INFO:relative:\t_handle_virtual_sites: numVirtualSites: 0\n",
      "INFO:relative:Handling bonds...\n",
      "INFO:relative:Handling angles...\n",
      "INFO:relative:Handling torsions...\n",
      "INFO:relative:Handling nonbondeds (creating forces)...\n",
      "INFO:relative:Handling nonbondeds (copying nonbonded particles)...\n",
      "INFO:relative:Handling nonbondeds (copying nonbonded exceptions)...\n",
      "INFO:setup:Saving htfs as pickles\n",
      "INFO:setup:sterics expression: U_sterics; U_sterics = 4 * epsilon * x * (x - 1.0);x = (sigma / r_eff_sterics)^6;sigma = (sigma1 + sigma2) / 2; epsilon = sterics_rest_scale1 * sterics_rest_scale2 * sqrt(epsilon_combined); epsilon_combined = step(epsilon1 * epsilon2) * epsilon1 * epsilon2; r_eff_sterics = sqrt(r^2 + w_sterics^2); w_sterics = w_scale * r_cutoff * (is_unique_old * (1 - lambda_alchemical_sterics_old) + is_unique_new * (1 - lambda_alchemical_sterics_new)); is_unique_old = step(is_unique_old1 + is_unique_old2 - 0.1); is_unique_new = step(is_unique_new1 + is_unique_new2 - 0.1); w_scale = 0.3; r_cutoff = 1.0;\n",
      "INFO:setup:forces: [<openmm.openmm.MonteCarloBarostat; proxy of <Swig Object of type 'OpenMM::MonteCarloBarostat *' at 0x2b9c27ce8ab0> >, <openmm.openmm.CustomBondForce; proxy of <Swig Object of type 'OpenMM::CustomBondForce *' at 0x2b9c27ce8f60> >, <openmm.openmm.CustomAngleForce; proxy of <Swig Object of type 'OpenMM::CustomAngleForce *' at 0x2b9c27ce8e70> >, <openmm.openmm.CustomTorsionForce; proxy of <Swig Object of type 'OpenMM::CustomTorsionForce *' at 0x2b9c27ce8e10> >, <openmm.openmm.CustomNonbondedForce; proxy of <Swig Object of type 'OpenMM::CustomNonbondedForce *' at 0x2b9c27ce8db0> >, <openmm.openmm.CustomNonbondedForce; proxy of <Swig Object of type 'OpenMM::CustomNonbondedForce *' at 0x2b9c27ce8cf0> >, <openmm.openmm.CustomBondForce; proxy of <Swig Object of type 'OpenMM::CustomBondForce *' at 0x2b9c27ce8c90> >, <openmm.openmm.NonbondedForce; proxy of <Swig Object of type 'OpenMM::NonbondedForce *' at 0x2b9c27ce8bd0> >, <openmm.openmm.NonbondedForce; proxy of <Swig Object of type 'OpenMM::NonbondedForce *' at 0x2b9c27ce8b70> >]\n",
      "INFO:setup:number of particles in apo: 1637\n",
      "INFO:setup:number of particles in apo rest region: 41\n"
     ]
    },
    {
     "name": "stdout",
     "output_type": "stream",
     "text": [
      "apo rest region atoms:\n",
      "ACE1-H1\n",
      "ACE1-CH3\n",
      "ACE1-H2\n",
      "ACE1-H3\n",
      "ACE1-C\n",
      "ACE1-O\n",
      "ASP2-N\n",
      "ASP2-H\n",
      "ASP2-CA\n",
      "ASP2-HA\n",
      "ASP2-CB\n",
      "ASP2-HB2\n",
      "ASP2-HB3\n",
      "ASP2-C\n",
      "ASP2-O\n",
      "ASP2-CG\n",
      "ASP2-OD1\n",
      "ASP2-OD2\n",
      "ASP2-HB2\n",
      "ASP2-HB3\n",
      "ASP2-CG\n",
      "ASP2-HG2\n",
      "ASP2-HG3\n",
      "ASP2-CD\n",
      "ASP2-HD2\n",
      "ASP2-HD3\n",
      "ASP2-NE\n",
      "ASP2-HE\n",
      "ASP2-CZ\n",
      "ASP2-NH1\n",
      "ASP2-HH11\n",
      "ASP2-HH12\n",
      "ASP2-NH2\n",
      "ASP2-HH21\n",
      "ASP2-HH22\n",
      "NME3-N\n",
      "NME3-H\n",
      "NME3-C\n",
      "NME3-H1\n",
      "NME3-H2\n",
      "NME3-H3\n"
     ]
    }
   ],
   "source": [
    "outdir = \"/data/chodera/zhangi/perses_benchmark/repex/38/1/\"\n",
    "residue = '2'\n",
    "mutant = 'ARG'\n",
    "\n",
    "apo_file = \"/data/chodera/zhangi/perses_benchmark/repex/38/1/equil/apo_equilibrated.cif\" \n",
    "\n",
    "solvent_delivery = generate_htf(outdir, residue, mutant, apo_file)"
   ]
  },
  {
   "cell_type": "code",
   "execution_count": 4,
   "id": "83b54c40",
   "metadata": {},
   "outputs": [
    {
     "name": "stdout",
     "output_type": "stream",
     "text": [
      "(Vec3(x=2.9625000000000004, y=0.0, z=0.0), Vec3(x=0.9874989941036161, y=2.793072141324737, z=0.0), Vec3(x=-0.9874989941036157, y=1.3965339368347203, z=2.4188726609545337)) nm\n"
     ]
    },
    {
     "name": "stderr",
     "output_type": "stream",
     "text": [
      "DEBUG:openmmforcefields.system_generators:Trying GAFFTemplateGenerator to load gaff-2.11\n",
      "INFO:proposal_generator:\tConducting polymer point mutation proposal...\n"
     ]
    },
    {
     "name": "stdout",
     "output_type": "stream",
     "text": [
      "[Quantity(value=Vec3(x=2.9625000000000004, y=0.0, z=0.0), unit=nanometer), Quantity(value=Vec3(x=0.9874989941036161, y=2.793072141324737, z=0.0), unit=nanometer), Quantity(value=Vec3(x=-0.9874989941036157, y=1.3965339368347203, z=2.4188726609545337), unit=nanometer)]\n",
      "True\n"
     ]
    },
    {
     "name": "stderr",
     "output_type": "stream",
     "text": [
      "INFO:proposal_generator:local_atom_map: {6: 6, 7: 7, 8: 8, 9: 9, 10: 10, 13: 13, 14: 14}\n",
      "INFO:proposal_generator:the mapped atom names are: [('N', 'N'), ('H', 'H'), ('CA', 'CA'), ('HA', 'HA'), ('CB', 'CB'), ('C', 'C'), ('O', 'O')]\n",
      "INFO:geometry:propose: performing forward proposal\n",
      "INFO:geometry:propose: unique new atoms detected; proceeding to _logp_propose...\n",
      "INFO:geometry:Conducting forward proposal...\n",
      "INFO:geometry:Computing proposal order with NetworkX...\n",
      "INFO:geometry:number of atoms to be placed: 3\n",
      "INFO:geometry:Atom index proposal order is [11, 12, 15]\n",
      "INFO:geometry:omitted_bonds: []\n",
      "INFO:geometry:direction of proposal is forward; creating atoms_with_positions and new positions from old system/topology...\n"
     ]
    },
    {
     "name": "stdout",
     "output_type": "stream",
     "text": [
      "[Quantity(value=Vec3(x=2.9625000000000004, y=0.0, z=0.0), unit=nanometer), Quantity(value=Vec3(x=0.9874989941036161, y=2.793072141324737, z=0.0), unit=nanometer), Quantity(value=Vec3(x=-0.9874989941036157, y=1.3965339368347203, z=2.4188726609545337), unit=nanometer)]\n",
      "True\n"
     ]
    },
    {
     "name": "stderr",
     "output_type": "stream",
     "text": [
      "INFO:geometry:creating growth system...\n",
      "INFO:geometry:\tcreating bond force...\n",
      "INFO:geometry:\tthere are 9 bonds in reference force.\n",
      "INFO:geometry:\tcreating angle force...\n",
      "INFO:geometry:\tthere are 36 angles in reference force.\n",
      "INFO:geometry:\tcreating torsion force...\n",
      "INFO:geometry:\tcreating extra torsions force...\n",
      "INFO:geometry:\tthere are 42 torsions in reference force.\n",
      "INFO:geometry:\tcreating nonbonded force...\n",
      "INFO:geometry:\t\tgrabbing reference nonbonded method, cutoff, switching function, switching distance...\n",
      "INFO:geometry:\t\tcreating nonbonded exception force (i.e. custom bond for 1,4s)...\n",
      "INFO:geometry:\t\tlooping through exceptions calculating growth indices, and adding appropriate interactions to custom bond force.\n",
      "INFO:geometry:\t\tthere are 1967 in the reference Nonbonded force\n",
      "INFO:geometry:Neglected angle terms : []\n",
      "INFO:geometry:omitted_growth_terms: {'bonds': [], 'angles': [], 'torsions': [], '1,4s': []}\n",
      "INFO:geometry:extra torsions: {0: (6, 8, 10, 15, [1, Quantity(value=2.105358864604291, unit=radian), Quantity(value=1200.0, unit=kilocalorie/mole), 3]), 1: (6, 8, 10, 11, [1, Quantity(value=-2.0823006129211796, unit=radian), Quantity(value=1200.0, unit=kilocalorie/mole), 1]), 2: (6, 8, 10, 12, [1, Quantity(value=0.018582237407944735, unit=radian), Quantity(value=1200.0, unit=kilocalorie/mole), 2]), 3: (13, 8, 10, 15, [1, Quantity(value=-0.036945135932107576, unit=radian), Quantity(value=1200.0, unit=kilocalorie/mole), 3]), 4: (13, 8, 10, 11, [1, Quantity(value=2.0585806937220097, unit=radian), Quantity(value=1200.0, unit=kilocalorie/mole), 1]), 5: (13, 8, 10, 12, [1, Quantity(value=-2.1237217631284597, unit=radian), Quantity(value=1200.0, unit=kilocalorie/mole), 2]), 6: (9, 8, 10, 15, [1, Quantity(value=-2.119603470065817, unit=radian), Quantity(value=1200.0, unit=kilocalorie/mole), 3]), 7: (9, 8, 10, 11, [1, Quantity(value=-0.024077640411697132, unit=radian), Quantity(value=1200.0, unit=kilocalorie/mole), 1]), 8: (9, 8, 10, 12, [1, Quantity(value=2.0768052099174152, unit=radian), Quantity(value=1200.0, unit=kilocalorie/mole), 2])}\n",
      "INFO:geometry:neglected angle terms include []\n",
      "INFO:geometry:log probability choice of torsions and atom order: -5.0875963352323845\n",
      "INFO:geometry:creating platform, integrators, and contexts; setting growth parameter\n"
     ]
    },
    {
     "name": "stdout",
     "output_type": "stream",
     "text": [
      "conducting subsequent work with the following platform: CUDA\n"
     ]
    },
    {
     "name": "stderr",
     "output_type": "stream",
     "text": [
      "INFO:geometry:setting atoms_with_positions context new positions\n"
     ]
    },
    {
     "name": "stdout",
     "output_type": "stream",
     "text": [
      "conducting subsequent work with the following platform: CUDA\n"
     ]
    },
    {
     "name": "stderr",
     "output_type": "stream",
     "text": [
      "INFO:geometry:There are 3 new atoms\n",
      "INFO:geometry:\treduced angle potential = 0.9566570867078175.\n",
      "INFO:geometry:\treduced angle potential = 0.024223490445132716.\n",
      "INFO:geometry:\treduced angle potential = 0.9133907197998814.\n",
      "INFO:geometry:\tbeginning construction of no_nonbonded final system...\n",
      "INFO:geometry:\tinitial no-nonbonded final system forces ['HarmonicBondForce', 'HarmonicAngleForce', 'PeriodicTorsionForce', 'NonbondedForce', 'MonteCarloBarostat']\n",
      "INFO:geometry:\tfinal no-nonbonded final system forces dict_keys(['HarmonicBondForce', 'HarmonicAngleForce', 'PeriodicTorsionForce', 'NonbondedForce'])\n",
      "INFO:geometry:\tthere are 9 bond forces in the no-nonbonded final system\n",
      "INFO:geometry:\tthere are 36 angle forces in the no-nonbonded final system\n",
      "INFO:geometry:\tthere are 42 torsion forces in the no-nonbonded final system\n",
      "INFO:geometry:forward final system defined with 0 neglected angles.\n"
     ]
    },
    {
     "name": "stdout",
     "output_type": "stream",
     "text": [
      "conducting subsequent work with the following platform: CUDA\n",
      "conducting subsequent work with the following platform: CUDA\n"
     ]
    },
    {
     "name": "stderr",
     "output_type": "stream",
     "text": [
      "INFO:geometry:total reduced potential before atom placement: 42.539566350871226\n"
     ]
    },
    {
     "name": "stdout",
     "output_type": "stream",
     "text": [
      "conducting subsequent work with the following platform: CUDA\n",
      "conducting subsequent work with the following platform: CUDA\n",
      "conducting subsequent work with the following platform: CUDA\n",
      "added energy components: [('CustomBondForce', 0.0), ('CustomAngleForce', 2.9067818821632776), ('CustomTorsionForce', 0.0902659514704574), ('CustomBondForce', 7.993504460431523)]\n"
     ]
    },
    {
     "name": "stderr",
     "output_type": "stream",
     "text": [
      "INFO:geometry:total reduced energy added from growth system: 10.990552294065255\n",
      "INFO:geometry:final reduced energy 53.530118218012106\n",
      "INFO:geometry:sum of energies: 53.53011864493648\n",
      "INFO:geometry:magnitude of difference in the energies: 4.2692437496327784e-07\n",
      "INFO:geometry:Final logp_proposal: 20.241577876204893\n",
      "INFO:geometry:logp_reverse: performing reverse proposal\n",
      "INFO:geometry:logp_reverse: unique new atoms detected; proceeding to _logp_propose...\n",
      "INFO:geometry:Conducting forward proposal...\n",
      "INFO:geometry:Computing proposal order with NetworkX...\n",
      "INFO:geometry:number of atoms to be placed: 17\n",
      "INFO:geometry:Atom index proposal order is [15, 18, 21, 23, 27, 24, 28, 11, 26, 12, 22, 25, 20, 19, 17, 16, 29]\n",
      "INFO:geometry:omitted_bonds: []\n",
      "INFO:geometry:direction of proposal is reverse; creating atoms_with_positions from old system/topology\n",
      "INFO:geometry:creating growth system...\n",
      "INFO:geometry:\tcreating bond force...\n",
      "INFO:geometry:\tthere are 15 bonds in reference force.\n",
      "INFO:geometry:\tcreating angle force...\n",
      "INFO:geometry:\tthere are 60 angles in reference force.\n",
      "INFO:geometry:\tcreating torsion force...\n",
      "INFO:geometry:\tcreating extra torsions force...\n",
      "INFO:geometry:\tthere are 78 torsions in reference force.\n",
      "INFO:geometry:\tcreating nonbonded force...\n",
      "INFO:geometry:\t\tgrabbing reference nonbonded method, cutoff, switching function, switching distance...\n",
      "INFO:geometry:\t\tcreating nonbonded exception force (i.e. custom bond for 1,4s)...\n",
      "INFO:geometry:\t\tlooping through exceptions calculating growth indices, and adding appropriate interactions to custom bond force.\n",
      "INFO:geometry:\t\tthere are 2041 in the reference Nonbonded force\n",
      "INFO:geometry:Neglected angle terms : []\n",
      "INFO:geometry:omitted_growth_terms: {'bonds': [], 'angles': [], 'torsions': [], '1,4s': []}\n",
      "INFO:geometry:extra torsions: {0: (28, 27, 23, 21, [1, Quantity(value=3.1400479780546657, unit=radian), Quantity(value=1200.0, unit=kilocalorie/mole), 7]), 1: (28, 27, 23, 24, [1, Quantity(value=-0.0009854700401916716, unit=radian), Quantity(value=1200.0, unit=kilocalorie/mole), 7]), 2: (29, 27, 23, 21, [1, Quantity(value=-0.0019499207113558015, unit=radian), Quantity(value=1200.0, unit=kilocalorie/mole), 17]), 3: (29, 27, 23, 24, [1, Quantity(value=3.1402019383733304, unit=radian), Quantity(value=1200.0, unit=kilocalorie/mole), 17]), 4: (27, 23, 24, 26, [1, Quantity(value=-3.141011085169936, unit=radian), Quantity(value=1200.0, unit=kilocalorie/mole), 9]), 5: (27, 23, 24, 25, [1, Quantity(value=0.0013841937088012735, unit=radian), Quantity(value=1200.0, unit=kilocalorie/mole), 12]), 6: (21, 23, 24, 26, [1, Quantity(value=0.0011725432810614222, unit=radian), Quantity(value=1200.0, unit=kilocalorie/mole), 9]), 7: (21, 23, 24, 25, [1, Quantity(value=-3.1396174850195098, unit=radian), Quantity(value=1200.0, unit=kilocalorie/mole), 12])}\n",
      "INFO:geometry:neglected angle terms include []\n",
      "INFO:geometry:log probability choice of torsions and atom order: -31.21358452601279\n",
      "INFO:geometry:creating platform, integrators, and contexts; setting growth parameter\n"
     ]
    },
    {
     "name": "stdout",
     "output_type": "stream",
     "text": [
      "conducting subsequent work with the following platform: CUDA\n"
     ]
    },
    {
     "name": "stderr",
     "output_type": "stream",
     "text": [
      "INFO:geometry:setting atoms_with_positions context old positions\n"
     ]
    },
    {
     "name": "stdout",
     "output_type": "stream",
     "text": [
      "conducting subsequent work with the following platform: CUDA\n"
     ]
    },
    {
     "name": "stderr",
     "output_type": "stream",
     "text": [
      "INFO:geometry:There are 17 new atoms\n",
      "INFO:geometry:\treduced angle potential = 0.042853125757750306.\n",
      "INFO:geometry:\treduced angle potential = 0.11918491356084256.\n",
      "INFO:geometry:\treduced angle potential = 0.03558938425976845.\n",
      "INFO:geometry:\treduced angle potential = 3.063706070595789e-05.\n",
      "INFO:geometry:\treduced angle potential = 0.3856161427963459.\n",
      "INFO:geometry:\treduced angle potential = 0.1283940070536202.\n",
      "INFO:geometry:\treduced angle potential = 0.37202362757935775.\n",
      "INFO:geometry:\treduced angle potential = 0.47156099485695346.\n",
      "INFO:geometry:\treduced angle potential = 0.0395257051882019.\n",
      "INFO:geometry:\treduced angle potential = 0.32379759832066435.\n",
      "INFO:geometry:\treduced angle potential = 0.050296504347601974.\n",
      "INFO:geometry:\treduced angle potential = 0.3039552128830515.\n",
      "INFO:geometry:\treduced angle potential = 0.39463143613777724.\n",
      "INFO:geometry:\treduced angle potential = 0.1891037527507676.\n",
      "INFO:geometry:\treduced angle potential = 0.466213462801573.\n",
      "INFO:geometry:\treduced angle potential = 0.4529665185393124.\n",
      "INFO:geometry:\treduced angle potential = 0.006867661209664784.\n",
      "INFO:geometry:\tbeginning construction of no_nonbonded final system...\n",
      "INFO:geometry:\tinitial no-nonbonded final system forces ['HarmonicBondForce', 'HarmonicAngleForce', 'PeriodicTorsionForce', 'NonbondedForce', 'MonteCarloBarostat']\n",
      "INFO:geometry:\tfinal no-nonbonded final system forces dict_keys(['HarmonicBondForce', 'HarmonicAngleForce', 'PeriodicTorsionForce', 'NonbondedForce'])\n",
      "INFO:geometry:\tthere are 15 bond forces in the no-nonbonded final system\n",
      "INFO:geometry:\tthere are 60 angle forces in the no-nonbonded final system\n",
      "INFO:geometry:\tthere are 78 torsion forces in the no-nonbonded final system\n",
      "INFO:geometry:reverse final system defined with 0 neglected angles.\n"
     ]
    },
    {
     "name": "stdout",
     "output_type": "stream",
     "text": [
      "conducting subsequent work with the following platform: CUDA\n",
      "conducting subsequent work with the following platform: CUDA\n"
     ]
    },
    {
     "name": "stderr",
     "output_type": "stream",
     "text": [
      "INFO:geometry:total reduced potential before atom placement: 42.539566350871226\n"
     ]
    },
    {
     "name": "stdout",
     "output_type": "stream",
     "text": [
      "conducting subsequent work with the following platform: CUDA\n",
      "conducting subsequent work with the following platform: CUDA\n",
      "conducting subsequent work with the following platform: CUDA\n"
     ]
    },
    {
     "name": "stderr",
     "output_type": "stream",
     "text": [
      "INFO:geometry:total reduced energy added from growth system: -478.8342662842031\n",
      "INFO:geometry:final reduced energy -436.2947077009399\n",
      "INFO:geometry:sum of energies: -436.2946999333319\n",
      "INFO:geometry:magnitude of difference in the energies: 7.767607996811421e-06\n",
      "INFO:geometry:Final logp_proposal: -31466.64864041896\n"
     ]
    },
    {
     "name": "stdout",
     "output_type": "stream",
     "text": [
      "added energy components: [('CustomBondForce', 8.159981229252093), ('CustomAngleForce', 9.07511207953895), ('CustomTorsionForce', 4.707969376224987), ('CustomBondForce', -500.77732896921924)]\n"
     ]
    },
    {
     "name": "stderr",
     "output_type": "stream",
     "text": [
      "INFO:setup:charge diff: 1\n",
      "INFO:setup:new water indices to ionize [1873 1874 1875]\n",
      "INFO:relative:*** Generating RESTCapableHybridTopologyFactory ***\n",
      "INFO:relative:Old system forces: dict_keys(['HarmonicBondForce', 'HarmonicAngleForce', 'PeriodicTorsionForce', 'NonbondedForce', 'MonteCarloBarostat'])\n",
      "INFO:relative:New system forces: dict_keys(['HarmonicBondForce', 'HarmonicAngleForce', 'PeriodicTorsionForce', 'NonbondedForce', 'MonteCarloBarostat'])\n",
      "INFO:relative:No unknown forces.\n",
      "INFO:relative:r_cutoff is 1.0 nm\n",
      "INFO:relative:alpha_ewald is 2.7569734238004693\n",
      "INFO:relative:w_scale is 0.3\n",
      "INFO:relative:Creating hybrid system\n",
      "INFO:relative:Adding and mapping old atoms to hybrid system...\n",
      "INFO:relative:Adding and mapping new atoms to hybrid system...\n",
      "INFO:relative:Added MonteCarloBarostat.\n",
      "INFO:relative:getDefaultPeriodicBoxVectors added to hybrid: [Quantity(value=Vec3(x=2.9625000000000004, y=0.0, z=0.0), unit=nanometer), Quantity(value=Vec3(x=0.9874989941036161, y=2.793072141324737, z=0.0), unit=nanometer), Quantity(value=Vec3(x=-0.9874989941036157, y=1.3965339368347203, z=2.4188726609545337), unit=nanometer)]\n",
      "INFO:relative:Determined atom classes.\n",
      "INFO:relative:Computed hybrid positions\n",
      "INFO:relative:Created hybrid topology\n",
      "INFO:relative:Generating rest_region with query indices: [6, 7, 8, 9, 10, 11, 12, 13, 14, 15, 16, 17, 18, 19, 20, 21, 22, 23, 24, 25, 26, 27, 28, 29, 1910, 1911, 1912]\n",
      "INFO:relative:Rest radius: 0.3 nm\n",
      "INFO:relative:Rest region: [0, 1, 2, 3, 4, 5, 6, 7, 8, 9, 10, 11, 12, 13, 14, 15, 16, 17, 18, 19, 20, 21, 22, 23, 24, 25, 26, 27, 28, 29, 1910, 1911, 1912, 30, 31, 32, 33, 34, 35]\n",
      "INFO:relative:Prepped look up dict for determining if atom is solvent\n",
      "INFO:relative:Generating old system exceptions dict...\n",
      "INFO:relative:Generating new system exceptions dict...\n",
      "INFO:relative:Handling constraints...\n",
      "INFO:relative:Handling virtual sites...\n",
      "INFO:relative:\t_handle_virtual_sites: numVirtualSites: 0\n",
      "INFO:relative:Handling bonds...\n",
      "INFO:relative:Handling angles...\n",
      "INFO:relative:Handling torsions...\n",
      "INFO:relative:Handling nonbondeds (creating forces)...\n",
      "INFO:relative:Handling nonbondeds (copying nonbonded particles)...\n",
      "INFO:relative:Handling nonbondeds (copying nonbonded exceptions)...\n",
      "INFO:setup:Saving htfs as pickles\n",
      "INFO:setup:sterics expression: U_sterics; U_sterics = 4 * epsilon * x * (x - 1.0);x = (sigma / r_eff_sterics)^6;sigma = (sigma1 + sigma2) / 2; epsilon = sterics_rest_scale1 * sterics_rest_scale2 * sqrt(epsilon_combined); epsilon_combined = step(epsilon1 * epsilon2) * epsilon1 * epsilon2; r_eff_sterics = sqrt(r^2 + w_sterics^2); w_sterics = w_scale * r_cutoff * (is_unique_old * (1 - lambda_alchemical_sterics_old) + is_unique_new * (1 - lambda_alchemical_sterics_new)); is_unique_old = step(is_unique_old1 + is_unique_old2 - 0.1); is_unique_new = step(is_unique_new1 + is_unique_new2 - 0.1); w_scale = 0.3; r_cutoff = 1.0;\n",
      "INFO:setup:forces: [<openmm.openmm.MonteCarloBarostat; proxy of <Swig Object of type 'OpenMM::MonteCarloBarostat *' at 0x2ae02dff2d50> >, <openmm.openmm.CustomBondForce; proxy of <Swig Object of type 'OpenMM::CustomBondForce *' at 0x2ae030c1efc0> >, <openmm.openmm.CustomAngleForce; proxy of <Swig Object of type 'OpenMM::CustomAngleForce *' at 0x2ae030c1ecc0> >, <openmm.openmm.CustomTorsionForce; proxy of <Swig Object of type 'OpenMM::CustomTorsionForce *' at 0x2ae030c1ecf0> >, <openmm.openmm.CustomNonbondedForce; proxy of <Swig Object of type 'OpenMM::CustomNonbondedForce *' at 0x2ae030c1ee40> >, <openmm.openmm.CustomNonbondedForce; proxy of <Swig Object of type 'OpenMM::CustomNonbondedForce *' at 0x2ae030c1ec30> >, <openmm.openmm.CustomBondForce; proxy of <Swig Object of type 'OpenMM::CustomBondForce *' at 0x2ae030c1e0f0> >, <openmm.openmm.NonbondedForce; proxy of <Swig Object of type 'OpenMM::NonbondedForce *' at 0x2ae030c1eb70> >, <openmm.openmm.NonbondedForce; proxy of <Swig Object of type 'OpenMM::NonbondedForce *' at 0x2ae030c1ea80> >]\n",
      "INFO:setup:number of particles in apo: 1913\n",
      "INFO:setup:number of particles in apo rest region: 39\n"
     ]
    },
    {
     "name": "stdout",
     "output_type": "stream",
     "text": [
      "apo rest region atoms:\n",
      "ACE1-H1\n",
      "ACE1-CH3\n",
      "ACE1-H2\n",
      "ACE1-H3\n",
      "ACE1-C\n",
      "ACE1-O\n",
      "ARG2-N\n",
      "ARG2-H\n",
      "ARG2-CA\n",
      "ARG2-HA\n",
      "ARG2-CB\n",
      "ARG2-HB2\n",
      "ARG2-HB3\n",
      "ARG2-C\n",
      "ARG2-O\n",
      "ARG2-CG\n",
      "ARG2-HG2\n",
      "ARG2-HG3\n",
      "ARG2-CD\n",
      "ARG2-HD2\n",
      "ARG2-HD3\n",
      "ARG2-NE\n",
      "ARG2-HE\n",
      "ARG2-CZ\n",
      "ARG2-NH1\n",
      "ARG2-HH11\n",
      "ARG2-HH12\n",
      "ARG2-NH2\n",
      "ARG2-HH21\n",
      "ARG2-HH22\n",
      "ARG2-HB2\n",
      "ARG2-HB3\n",
      "ARG2-HB1\n",
      "NME3-N\n",
      "NME3-H\n",
      "NME3-C\n",
      "NME3-H1\n",
      "NME3-H2\n",
      "NME3-H3\n"
     ]
    }
   ],
   "source": [
    "outdir = \"/data/chodera/zhangi/perses_benchmark/repex/38/2/\"\n",
    "residue = '2'\n",
    "mutant = 'ALA'\n",
    "\n",
    "apo_file = \"/data/chodera/zhangi/perses_benchmark/repex/38/2/equil/apo_equilibrated.cif\" \n",
    "\n",
    "solvent_delivery = generate_htf(outdir, residue, mutant, apo_file)"
   ]
  },
  {
   "cell_type": "code",
   "execution_count": 5,
   "id": "43aeb11f",
   "metadata": {},
   "outputs": [
    {
     "name": "stderr",
     "output_type": "stream",
     "text": [
      "DEBUG:openmmforcefields.system_generators:Trying GAFFTemplateGenerator to load gaff-2.11\n",
      "INFO:proposal_generator:\tConducting polymer point mutation proposal...\n",
      "INFO:proposal_generator:local_atom_map: {6: 6, 7: 7, 8: 8, 9: 9, 10: 10, 13: 13, 14: 14}\n",
      "INFO:proposal_generator:the mapped atom names are: [('N', 'N'), ('H', 'H'), ('CA', 'CA'), ('HA', 'HA'), ('CB', 'CB'), ('C', 'C'), ('O', 'O')]\n"
     ]
    },
    {
     "name": "stdout",
     "output_type": "stream",
     "text": [
      "(Vec3(x=2.7648, y=0.0, z=0.0), Vec3(x=0.9215990612312835, y=2.6066787700707614, z=0.0), Vec3(x=-0.9215990612312832, y=1.303337393606965, z=2.2574511841374156)) nm\n",
      "[Quantity(value=Vec3(x=2.7648, y=0.0, z=0.0), unit=nanometer), Quantity(value=Vec3(x=0.9215990612312835, y=2.6066787700707614, z=0.0), unit=nanometer), Quantity(value=Vec3(x=-0.9215990612312832, y=1.303337393606965, z=2.2574511841374156), unit=nanometer)]\n",
      "True\n"
     ]
    },
    {
     "name": "stderr",
     "output_type": "stream",
     "text": [
      "INFO:geometry:propose: performing forward proposal\n",
      "INFO:geometry:propose: unique new atoms detected; proceeding to _logp_propose...\n",
      "INFO:geometry:Conducting forward proposal...\n",
      "INFO:geometry:Computing proposal order with NetworkX...\n",
      "INFO:geometry:number of atoms to be placed: 17\n",
      "INFO:geometry:Atom index proposal order is [15, 18, 21, 23, 24, 27, 26, 11, 17, 20, 19, 25, 12, 16, 28, 22, 29]\n",
      "INFO:geometry:omitted_bonds: []\n",
      "INFO:geometry:direction of proposal is forward; creating atoms_with_positions and new positions from old system/topology...\n",
      "INFO:geometry:creating growth system...\n",
      "INFO:geometry:\tcreating bond force...\n",
      "INFO:geometry:\tthere are 15 bonds in reference force.\n",
      "INFO:geometry:\tcreating angle force...\n",
      "INFO:geometry:\tthere are 60 angles in reference force.\n",
      "INFO:geometry:\tcreating torsion force...\n",
      "INFO:geometry:\tcreating extra torsions force...\n",
      "INFO:geometry:\tthere are 78 torsions in reference force.\n",
      "INFO:geometry:\tcreating nonbonded force...\n",
      "INFO:geometry:\t\tgrabbing reference nonbonded method, cutoff, switching function, switching distance...\n",
      "INFO:geometry:\t\tcreating nonbonded exception force (i.e. custom bond for 1,4s)...\n",
      "INFO:geometry:\t\tlooping through exceptions calculating growth indices, and adding appropriate interactions to custom bond force.\n",
      "INFO:geometry:\t\tthere are 1699 in the reference Nonbonded force\n"
     ]
    },
    {
     "name": "stdout",
     "output_type": "stream",
     "text": [
      "[Quantity(value=Vec3(x=2.7648, y=0.0, z=0.0), unit=nanometer), Quantity(value=Vec3(x=0.9215990612312835, y=2.6066787700707614, z=0.0), unit=nanometer), Quantity(value=Vec3(x=-0.9215990612312832, y=1.303337393606965, z=2.2574511841374156), unit=nanometer)]\n",
      "True\n"
     ]
    },
    {
     "name": "stderr",
     "output_type": "stream",
     "text": [
      "INFO:geometry:Neglected angle terms : []\n",
      "INFO:geometry:omitted_growth_terms: {'bonds': [], 'angles': [], 'torsions': [], '1,4s': []}\n",
      "INFO:geometry:extra torsions: {0: (28, 27, 23, 21, [1, Quantity(value=3.1400479780546657, unit=radian), Quantity(value=1200.0, unit=kilocalorie/mole), 15]), 1: (28, 27, 23, 24, [1, Quantity(value=-0.0009854700401916716, unit=radian), Quantity(value=1200.0, unit=kilocalorie/mole), 15]), 2: (29, 27, 23, 21, [1, Quantity(value=-0.0019499207113558015, unit=radian), Quantity(value=1200.0, unit=kilocalorie/mole), 17]), 3: (29, 27, 23, 24, [1, Quantity(value=3.1402019383733304, unit=radian), Quantity(value=1200.0, unit=kilocalorie/mole), 17]), 4: (27, 23, 24, 26, [1, Quantity(value=-3.141011085169936, unit=radian), Quantity(value=1200.0, unit=kilocalorie/mole), 7]), 5: (27, 23, 24, 25, [1, Quantity(value=0.0013841937088012735, unit=radian), Quantity(value=1200.0, unit=kilocalorie/mole), 12]), 6: (21, 23, 24, 26, [1, Quantity(value=0.0011725432810614222, unit=radian), Quantity(value=1200.0, unit=kilocalorie/mole), 7]), 7: (21, 23, 24, 25, [1, Quantity(value=-3.1396174850195098, unit=radian), Quantity(value=1200.0, unit=kilocalorie/mole), 12])}\n",
      "INFO:geometry:neglected angle terms include []\n",
      "INFO:geometry:log probability choice of torsions and atom order: -31.20179657026075\n",
      "INFO:geometry:creating platform, integrators, and contexts; setting growth parameter\n"
     ]
    },
    {
     "name": "stdout",
     "output_type": "stream",
     "text": [
      "conducting subsequent work with the following platform: CUDA\n"
     ]
    },
    {
     "name": "stderr",
     "output_type": "stream",
     "text": [
      "INFO:geometry:setting atoms_with_positions context new positions\n"
     ]
    },
    {
     "name": "stdout",
     "output_type": "stream",
     "text": [
      "conducting subsequent work with the following platform: CUDA\n"
     ]
    },
    {
     "name": "stderr",
     "output_type": "stream",
     "text": [
      "INFO:geometry:There are 17 new atoms\n",
      "INFO:geometry:\treduced angle potential = 0.11239410082051988.\n",
      "INFO:geometry:\treduced angle potential = 1.3003315858910136.\n",
      "INFO:geometry:\treduced angle potential = 0.048081444587368495.\n",
      "INFO:geometry:\treduced angle potential = 0.06943642557742354.\n",
      "INFO:geometry:\treduced angle potential = 2.331082661014034.\n",
      "INFO:geometry:\treduced angle potential = 0.20577700159995435.\n",
      "INFO:geometry:\treduced angle potential = 0.10810914405058064.\n",
      "INFO:geometry:\treduced angle potential = 2.766059329374223.\n",
      "INFO:geometry:\treduced angle potential = 1.695252820076935.\n",
      "INFO:geometry:\treduced angle potential = 1.1445616068796245.\n",
      "INFO:geometry:\treduced angle potential = 0.00033062738675167165.\n",
      "INFO:geometry:\treduced angle potential = 0.2786322367788566.\n",
      "INFO:geometry:\treduced angle potential = 1.2178239959346666.\n",
      "INFO:geometry:\treduced angle potential = 0.08908537960441745.\n",
      "INFO:geometry:\treduced angle potential = 0.2949875541331417.\n",
      "INFO:geometry:\treduced angle potential = 0.13006155300920472.\n",
      "INFO:geometry:\treduced angle potential = 7.00972432022865e-05.\n",
      "INFO:geometry:\tbeginning construction of no_nonbonded final system...\n",
      "INFO:geometry:\tinitial no-nonbonded final system forces ['HarmonicBondForce', 'HarmonicAngleForce', 'PeriodicTorsionForce', 'NonbondedForce', 'MonteCarloBarostat']\n",
      "INFO:geometry:\tfinal no-nonbonded final system forces dict_keys(['HarmonicBondForce', 'HarmonicAngleForce', 'PeriodicTorsionForce', 'NonbondedForce'])\n",
      "INFO:geometry:\tthere are 15 bond forces in the no-nonbonded final system\n",
      "INFO:geometry:\tthere are 60 angle forces in the no-nonbonded final system\n",
      "INFO:geometry:\tthere are 78 torsion forces in the no-nonbonded final system\n",
      "INFO:geometry:forward final system defined with 0 neglected angles.\n"
     ]
    },
    {
     "name": "stdout",
     "output_type": "stream",
     "text": [
      "conducting subsequent work with the following platform: CUDA\n",
      "conducting subsequent work with the following platform: CUDA\n"
     ]
    },
    {
     "name": "stderr",
     "output_type": "stream",
     "text": [
      "INFO:geometry:total reduced potential before atom placement: 31.360407235469566\n"
     ]
    },
    {
     "name": "stdout",
     "output_type": "stream",
     "text": [
      "conducting subsequent work with the following platform: CUDA\n",
      "conducting subsequent work with the following platform: CUDA\n",
      "conducting subsequent work with the following platform: CUDA\n"
     ]
    },
    {
     "name": "stderr",
     "output_type": "stream",
     "text": [
      "INFO:geometry:total reduced energy added from growth system: -438.09830339136397\n",
      "INFO:geometry:final reduced energy -406.73790436663677\n",
      "INFO:geometry:sum of energies: -406.7378961558944\n",
      "INFO:geometry:magnitude of difference in the energies: 8.21074235091146e-06\n",
      "INFO:geometry:Final logp_proposal: 102.11793431022825\n"
     ]
    },
    {
     "name": "stdout",
     "output_type": "stream",
     "text": [
      "added energy components: [('CustomBondForce', 0.38294169261996586), ('CustomAngleForce', 23.230531311068773), ('CustomTorsionForce', 6.422263153527924), ('CustomBondForce', -468.1340395485805)]\n"
     ]
    },
    {
     "name": "stderr",
     "output_type": "stream",
     "text": [
      "INFO:geometry:logp_reverse: performing reverse proposal\n",
      "INFO:geometry:logp_reverse: unique new atoms detected; proceeding to _logp_propose...\n",
      "INFO:geometry:Conducting forward proposal...\n",
      "INFO:geometry:Computing proposal order with NetworkX...\n",
      "INFO:geometry:number of atoms to be placed: 3\n",
      "INFO:geometry:Atom index proposal order is [15, 11, 12]\n",
      "INFO:geometry:omitted_bonds: []\n",
      "INFO:geometry:direction of proposal is reverse; creating atoms_with_positions from old system/topology\n",
      "INFO:geometry:creating growth system...\n",
      "INFO:geometry:\tcreating bond force...\n",
      "INFO:geometry:\tthere are 9 bonds in reference force.\n",
      "INFO:geometry:\tcreating angle force...\n",
      "INFO:geometry:\tthere are 36 angles in reference force.\n",
      "INFO:geometry:\tcreating torsion force...\n",
      "INFO:geometry:\tcreating extra torsions force...\n",
      "INFO:geometry:\tthere are 42 torsions in reference force.\n",
      "INFO:geometry:\tcreating nonbonded force...\n",
      "INFO:geometry:\t\tgrabbing reference nonbonded method, cutoff, switching function, switching distance...\n",
      "INFO:geometry:\t\tcreating nonbonded exception force (i.e. custom bond for 1,4s)...\n",
      "INFO:geometry:\t\tlooping through exceptions calculating growth indices, and adding appropriate interactions to custom bond force.\n",
      "INFO:geometry:\t\tthere are 1625 in the reference Nonbonded force\n",
      "INFO:geometry:Neglected angle terms : []\n",
      "INFO:geometry:omitted_growth_terms: {'bonds': [], 'angles': [], 'torsions': [], '1,4s': []}\n",
      "INFO:geometry:extra torsions: {0: (6, 8, 10, 15, [1, Quantity(value=2.105358864604291, unit=radian), Quantity(value=1200.0, unit=kilocalorie/mole), 1]), 1: (6, 8, 10, 11, [1, Quantity(value=-2.0823006129211796, unit=radian), Quantity(value=1200.0, unit=kilocalorie/mole), 2]), 2: (6, 8, 10, 12, [1, Quantity(value=0.018582237407944735, unit=radian), Quantity(value=1200.0, unit=kilocalorie/mole), 3]), 3: (13, 8, 10, 15, [1, Quantity(value=-0.036945135932107576, unit=radian), Quantity(value=1200.0, unit=kilocalorie/mole), 1]), 4: (13, 8, 10, 11, [1, Quantity(value=2.0585806937220097, unit=radian), Quantity(value=1200.0, unit=kilocalorie/mole), 2]), 5: (13, 8, 10, 12, [1, Quantity(value=-2.1237217631284597, unit=radian), Quantity(value=1200.0, unit=kilocalorie/mole), 3]), 6: (9, 8, 10, 15, [1, Quantity(value=-2.119603470065817, unit=radian), Quantity(value=1200.0, unit=kilocalorie/mole), 1]), 7: (9, 8, 10, 11, [1, Quantity(value=-0.024077640411697132, unit=radian), Quantity(value=1200.0, unit=kilocalorie/mole), 2]), 8: (9, 8, 10, 12, [1, Quantity(value=2.0768052099174152, unit=radian), Quantity(value=1200.0, unit=kilocalorie/mole), 3])}\n",
      "INFO:geometry:neglected angle terms include []\n",
      "INFO:geometry:log probability choice of torsions and atom order: -5.0875963352323845\n",
      "INFO:geometry:creating platform, integrators, and contexts; setting growth parameter\n"
     ]
    },
    {
     "name": "stdout",
     "output_type": "stream",
     "text": [
      "conducting subsequent work with the following platform: CUDA\n"
     ]
    },
    {
     "name": "stderr",
     "output_type": "stream",
     "text": [
      "INFO:geometry:setting atoms_with_positions context old positions\n"
     ]
    },
    {
     "name": "stdout",
     "output_type": "stream",
     "text": [
      "conducting subsequent work with the following platform: CUDA\n"
     ]
    },
    {
     "name": "stderr",
     "output_type": "stream",
     "text": [
      "INFO:geometry:There are 3 new atoms\n",
      "INFO:geometry:\treduced angle potential = 0.8234539492149762.\n",
      "INFO:geometry:\treduced angle potential = 0.3096300511603986.\n",
      "INFO:geometry:\treduced angle potential = 0.25005281787635764.\n",
      "INFO:geometry:\tbeginning construction of no_nonbonded final system...\n",
      "INFO:geometry:\tinitial no-nonbonded final system forces ['HarmonicBondForce', 'HarmonicAngleForce', 'PeriodicTorsionForce', 'NonbondedForce', 'MonteCarloBarostat']\n",
      "INFO:geometry:\tfinal no-nonbonded final system forces dict_keys(['HarmonicBondForce', 'HarmonicAngleForce', 'PeriodicTorsionForce', 'NonbondedForce'])\n",
      "INFO:geometry:\tthere are 9 bond forces in the no-nonbonded final system\n",
      "INFO:geometry:\tthere are 36 angle forces in the no-nonbonded final system\n",
      "INFO:geometry:\tthere are 42 torsion forces in the no-nonbonded final system\n",
      "INFO:geometry:reverse final system defined with 0 neglected angles.\n"
     ]
    },
    {
     "name": "stdout",
     "output_type": "stream",
     "text": [
      "conducting subsequent work with the following platform: CUDA\n",
      "conducting subsequent work with the following platform: CUDA\n"
     ]
    },
    {
     "name": "stderr",
     "output_type": "stream",
     "text": [
      "INFO:geometry:total reduced potential before atom placement: 31.36040723546956\n"
     ]
    },
    {
     "name": "stdout",
     "output_type": "stream",
     "text": [
      "conducting subsequent work with the following platform: CUDA\n",
      "conducting subsequent work with the following platform: CUDA\n",
      "conducting subsequent work with the following platform: CUDA\n"
     ]
    },
    {
     "name": "stderr",
     "output_type": "stream",
     "text": [
      "INFO:geometry:total reduced energy added from growth system: 10.37413019278795\n",
      "INFO:geometry:final reduced energy 41.734536894734866\n",
      "INFO:geometry:sum of energies: 41.73453742825751\n",
      "INFO:geometry:magnitude of difference in the energies: 5.335226429536988e-07\n",
      "INFO:geometry:Final logp_proposal: -29370.926273094494\n"
     ]
    },
    {
     "name": "stdout",
     "output_type": "stream",
     "text": [
      "added energy components: [('CustomBondForce', 0.0), ('CustomAngleForce', 1.844563196308122), ('CustomTorsionForce', 0.31379330968913627), ('CustomBondForce', 8.21577368679069)]\n"
     ]
    },
    {
     "name": "stderr",
     "output_type": "stream",
     "text": [
      "INFO:setup:charge diff: -1\n",
      "INFO:setup:new water indices to ionize [843 844 845]\n",
      "INFO:relative:*** Generating RESTCapableHybridTopologyFactory ***\n",
      "INFO:relative:Old system forces: dict_keys(['HarmonicBondForce', 'HarmonicAngleForce', 'PeriodicTorsionForce', 'NonbondedForce', 'MonteCarloBarostat'])\n",
      "INFO:relative:New system forces: dict_keys(['HarmonicBondForce', 'HarmonicAngleForce', 'PeriodicTorsionForce', 'NonbondedForce', 'MonteCarloBarostat'])\n",
      "INFO:relative:No unknown forces.\n",
      "INFO:relative:r_cutoff is 1.0 nm\n",
      "INFO:relative:alpha_ewald is 2.7569734238004693\n",
      "INFO:relative:w_scale is 0.3\n",
      "INFO:relative:Creating hybrid system\n",
      "INFO:relative:Adding and mapping old atoms to hybrid system...\n",
      "INFO:relative:Adding and mapping new atoms to hybrid system...\n",
      "INFO:relative:Added MonteCarloBarostat.\n",
      "INFO:relative:getDefaultPeriodicBoxVectors added to hybrid: [Quantity(value=Vec3(x=2.7648, y=0.0, z=0.0), unit=nanometer), Quantity(value=Vec3(x=0.9215990612312835, y=2.6066787700707614, z=0.0), unit=nanometer), Quantity(value=Vec3(x=-0.9215990612312832, y=1.303337393606965, z=2.2574511841374156), unit=nanometer)]\n",
      "INFO:relative:Determined atom classes.\n",
      "INFO:relative:Computed hybrid positions\n",
      "INFO:relative:Created hybrid topology\n",
      "INFO:relative:Generating rest_region with query indices: [6, 7, 8, 9, 10, 11, 12, 13, 14, 15, 1551, 1552, 1553, 1554, 1555, 1556, 1557, 1558, 1559, 1560, 1561, 1562, 1563, 1564, 1565, 1566, 1567]\n",
      "INFO:relative:Rest radius: 0.3 nm\n",
      "INFO:relative:Rest region: [0, 1, 2, 3, 4, 5, 6, 7, 8, 9, 10, 11, 12, 13, 14, 15, 1551, 1552, 1553, 1554, 1555, 1556, 1557, 1558, 1559, 1560, 1561, 1562, 1563, 1564, 1565, 1566, 1567, 16, 17, 18, 19, 20, 21]\n",
      "INFO:relative:Prepped look up dict for determining if atom is solvent\n",
      "INFO:relative:Generating old system exceptions dict...\n",
      "INFO:relative:Generating new system exceptions dict...\n",
      "INFO:relative:Handling constraints...\n",
      "INFO:relative:Handling virtual sites...\n",
      "INFO:relative:\t_handle_virtual_sites: numVirtualSites: 0\n",
      "INFO:relative:Handling bonds...\n",
      "INFO:relative:Handling angles...\n",
      "INFO:relative:Handling torsions...\n",
      "INFO:relative:Handling nonbondeds (creating forces)...\n",
      "INFO:relative:Handling nonbondeds (copying nonbonded particles)...\n",
      "INFO:relative:Handling nonbondeds (copying nonbonded exceptions)...\n",
      "INFO:setup:Saving htfs as pickles\n",
      "INFO:setup:sterics expression: U_sterics; U_sterics = 4 * epsilon * x * (x - 1.0);x = (sigma / r_eff_sterics)^6;sigma = (sigma1 + sigma2) / 2; epsilon = sterics_rest_scale1 * sterics_rest_scale2 * sqrt(epsilon_combined); epsilon_combined = step(epsilon1 * epsilon2) * epsilon1 * epsilon2; r_eff_sterics = sqrt(r^2 + w_sterics^2); w_sterics = w_scale * r_cutoff * (is_unique_old * (1 - lambda_alchemical_sterics_old) + is_unique_new * (1 - lambda_alchemical_sterics_new)); is_unique_old = step(is_unique_old1 + is_unique_old2 - 0.1); is_unique_new = step(is_unique_new1 + is_unique_new2 - 0.1); w_scale = 0.3; r_cutoff = 1.0;\n",
      "INFO:setup:forces: [<openmm.openmm.MonteCarloBarostat; proxy of <Swig Object of type 'OpenMM::MonteCarloBarostat *' at 0x2ae031ff9090> >, <openmm.openmm.CustomBondForce; proxy of <Swig Object of type 'OpenMM::CustomBondForce *' at 0x2ae031ff9300> >, <openmm.openmm.CustomAngleForce; proxy of <Swig Object of type 'OpenMM::CustomAngleForce *' at 0x2ae031ff9330> >, <openmm.openmm.CustomTorsionForce; proxy of <Swig Object of type 'OpenMM::CustomTorsionForce *' at 0x2ae031ff9e70> >, <openmm.openmm.CustomNonbondedForce; proxy of <Swig Object of type 'OpenMM::CustomNonbondedForce *' at 0x2ae031ff90f0> >, <openmm.openmm.CustomNonbondedForce; proxy of <Swig Object of type 'OpenMM::CustomNonbondedForce *' at 0x2ae031ff99c0> >, <openmm.openmm.CustomBondForce; proxy of <Swig Object of type 'OpenMM::CustomBondForce *' at 0x2ae031ff9ab0> >, <openmm.openmm.NonbondedForce; proxy of <Swig Object of type 'OpenMM::NonbondedForce *' at 0x2ae031ff9c60> >, <openmm.openmm.NonbondedForce; proxy of <Swig Object of type 'OpenMM::NonbondedForce *' at 0x2ae031ff9b10> >]\n",
      "INFO:setup:number of particles in apo: 1568\n",
      "INFO:setup:number of particles in apo rest region: 39\n"
     ]
    },
    {
     "name": "stdout",
     "output_type": "stream",
     "text": [
      "apo rest region atoms:\n",
      "ACE1-H1\n",
      "ACE1-CH3\n",
      "ACE1-H2\n",
      "ACE1-H3\n",
      "ACE1-C\n",
      "ACE1-O\n",
      "ALA2-N\n",
      "ALA2-H\n",
      "ALA2-CA\n",
      "ALA2-HA\n",
      "ALA2-CB\n",
      "ALA2-HB2\n",
      "ALA2-HB3\n",
      "ALA2-C\n",
      "ALA2-O\n",
      "ALA2-HB1\n",
      "ALA2-HB2\n",
      "ALA2-HB3\n",
      "ALA2-CG\n",
      "ALA2-HG2\n",
      "ALA2-HG3\n",
      "ALA2-CD\n",
      "ALA2-HD2\n",
      "ALA2-HD3\n",
      "ALA2-NE\n",
      "ALA2-HE\n",
      "ALA2-CZ\n",
      "ALA2-NH1\n",
      "ALA2-HH11\n",
      "ALA2-HH12\n",
      "ALA2-NH2\n",
      "ALA2-HH21\n",
      "ALA2-HH22\n",
      "NME3-N\n",
      "NME3-H\n",
      "NME3-C\n",
      "NME3-H1\n",
      "NME3-H2\n",
      "NME3-H3\n"
     ]
    }
   ],
   "source": [
    " outdir = \"/data/chodera/zhangi/perses_benchmark/repex/38/3/\"\n",
    "residue = '2'\n",
    "mutant = 'ARG'\n",
    "\n",
    "apo_file = \"/data/chodera/zhangi/perses_benchmark/repex/38/3/equil/apo_equilibrated.cif\" \n",
    "\n",
    "solvent_delivery = generate_htf(outdir, residue, mutant, apo_file)"
   ]
  },
  {
   "cell_type": "code",
   "execution_count": 7,
   "id": "508ba3e2",
   "metadata": {
    "scrolled": true
   },
   "outputs": [
    {
     "name": "stderr",
     "output_type": "stream",
     "text": [
      "DEBUG:openmmforcefields.system_generators:Trying GAFFTemplateGenerator to load gaff-2.11\n",
      "INFO:proposal_generator:\tConducting polymer point mutation proposal...\n",
      "INFO:proposal_generator:local_atom_map: {6: 6, 7: 7, 8: 8, 9: 9, 10: 10, 11: 13, 12: 14}\n",
      "INFO:proposal_generator:the mapped atom names are: [('N', 'N'), ('H', 'H'), ('CA', 'CA'), ('HA', 'HA'), ('CB', 'CB'), ('C', 'C'), ('O', 'O')]\n"
     ]
    },
    {
     "name": "stdout",
     "output_type": "stream",
     "text": [
      "(Vec3(x=2.7648, y=0.0, z=0.0), Vec3(x=0.9215990612312835, y=2.6066787700707614, z=0.0), Vec3(x=-0.9215990612312832, y=1.303337393606965, z=2.2574511841374156)) nm\n",
      "[Quantity(value=Vec3(x=2.7648, y=0.0, z=0.0), unit=nanometer), Quantity(value=Vec3(x=0.9215990612312835, y=2.6066787700707614, z=0.0), unit=nanometer), Quantity(value=Vec3(x=-0.9215990612312832, y=1.303337393606965, z=2.2574511841374156), unit=nanometer)]\n",
      "True\n"
     ]
    },
    {
     "name": "stderr",
     "output_type": "stream",
     "text": [
      "INFO:setup:Changed particle 19's epsilon from 0.0 kJ/mol to 0.0001 kJ/mol\n",
      "INFO:setup:Changed particle 19's sigma from 1.0 nm to 0.1 nm\n",
      "INFO:geometry:propose: performing forward proposal\n",
      "INFO:geometry:propose: unique new atoms detected; proceeding to _logp_propose...\n",
      "INFO:geometry:Conducting forward proposal...\n",
      "INFO:geometry:Computing proposal order with NetworkX...\n",
      "INFO:geometry:number of atoms to be placed: 7\n",
      "INFO:geometry:Atom index proposal order is [14, 18, 19, 15, 16, 13, 17]\n",
      "INFO:geometry:omitted_bonds: []\n",
      "INFO:geometry:direction of proposal is forward; creating atoms_with_positions and new positions from old system/topology...\n"
     ]
    },
    {
     "name": "stdout",
     "output_type": "stream",
     "text": [
      "[Quantity(value=Vec3(x=2.7648, y=0.0, z=0.0), unit=nanometer), Quantity(value=Vec3(x=0.9215990612312835, y=2.6066787700707614, z=0.0), unit=nanometer), Quantity(value=Vec3(x=-0.9215990612312832, y=1.303337393606965, z=2.2574511841374156), unit=nanometer)]\n",
      "True\n"
     ]
    },
    {
     "name": "stderr",
     "output_type": "stream",
     "text": [
      "INFO:geometry:creating growth system...\n",
      "INFO:geometry:\tcreating bond force...\n",
      "INFO:geometry:\tthere are 11 bonds in reference force.\n",
      "INFO:geometry:\tcreating angle force...\n",
      "INFO:geometry:\tthere are 43 angles in reference force.\n",
      "INFO:geometry:\tcreating torsion force...\n",
      "INFO:geometry:\tcreating extra torsions force...\n",
      "INFO:geometry:\tthere are 72 torsions in reference force.\n",
      "INFO:geometry:\tcreating nonbonded force...\n",
      "INFO:geometry:\t\tgrabbing reference nonbonded method, cutoff, switching function, switching distance...\n",
      "INFO:geometry:\t\tcreating nonbonded exception force (i.e. custom bond for 1,4s)...\n",
      "INFO:geometry:\t\tlooping through exceptions calculating growth indices, and adding appropriate interactions to custom bond force.\n",
      "INFO:geometry:\t\tthere are 1648 in the reference Nonbonded force\n",
      "INFO:geometry:Neglected angle terms : []\n",
      "INFO:geometry:omitted_growth_terms: {'bonds': [], 'angles': [], 'torsions': [], '1,4s': []}\n",
      "INFO:geometry:extra torsions: {0: (19, 18, 10, 8, [1, Quantity(value=-0.07858019216845058, unit=radian), Quantity(value=1200.0, unit=kilocalorie/mole), 3]), 1: (19, 18, 10, 14, [1, Quantity(value=2.118586571250296, unit=radian), Quantity(value=1200.0, unit=kilocalorie/mole), 3]), 2: (19, 18, 10, 13, [1, Quantity(value=-2.149781203448759, unit=radian), Quantity(value=1200.0, unit=kilocalorie/mole), 6]), 3: (8, 10, 14, 17, [1, Quantity(value=-2.1249532223845904, unit=radian), Quantity(value=1200.0, unit=kilocalorie/mole), 7]), 4: (8, 10, 14, 16, [1, Quantity(value=2.0543043017157916, unit=radian), Quantity(value=1200.0, unit=kilocalorie/mole), 5]), 5: (8, 10, 14, 15, [1, Quantity(value=-0.02223392579985184, unit=radian), Quantity(value=1200.0, unit=kilocalorie/mole), 4]), 6: (18, 10, 14, 17, [1, Quantity(value=2.0255587336734213, unit=radian), Quantity(value=1200.0, unit=kilocalorie/mole), 7]), 7: (18, 10, 14, 16, [1, Quantity(value=-0.07836904940578293, unit=radian), Quantity(value=1200.0, unit=kilocalorie/mole), 5]), 8: (18, 10, 14, 15, [1, Quantity(value=-2.154907276921426, unit=radian), Quantity(value=1200.0, unit=kilocalorie/mole), 4]), 9: (13, 10, 14, 17, [1, Quantity(value=0.007583009583349565, unit=radian), Quantity(value=1200.0, unit=kilocalorie/mole), 7]), 10: (13, 10, 14, 16, [1, Quantity(value=-2.096344773495849, unit=radian), Quantity(value=1200.0, unit=kilocalorie/mole), 6]), 11: (13, 10, 14, 15, [1, Quantity(value=2.1103023061680943, unit=radian), Quantity(value=1200.0, unit=kilocalorie/mole), 6]), 12: (14, 10, 8, 18, [1, Quantity(value=1.0655064807976995, unit=radian), Quantity(value=1200.0, unit=kilocalorie/mole), 2])}\n",
      "INFO:geometry:neglected angle terms include []\n",
      "INFO:geometry:log probability choice of torsions and atom order: -12.966130531372746\n",
      "INFO:geometry:creating platform, integrators, and contexts; setting growth parameter\n"
     ]
    },
    {
     "name": "stdout",
     "output_type": "stream",
     "text": [
      "conducting subsequent work with the following platform: CUDA\n"
     ]
    },
    {
     "name": "stderr",
     "output_type": "stream",
     "text": [
      "INFO:geometry:setting atoms_with_positions context new positions\n",
      "INFO:geometry:There are 7 new atoms\n",
      "INFO:geometry:\treduced angle potential = 1.3785732409556706.\n"
     ]
    },
    {
     "name": "stdout",
     "output_type": "stream",
     "text": [
      "conducting subsequent work with the following platform: CUDA\n"
     ]
    },
    {
     "name": "stderr",
     "output_type": "stream",
     "text": [
      "INFO:geometry:\treduced angle potential = 0.0017515256435568962.\n",
      "INFO:geometry:\treduced angle potential = 0.8303848364569641.\n",
      "INFO:geometry:\treduced angle potential = 0.20623542681061752.\n",
      "INFO:geometry:\treduced angle potential = 0.688477279702031.\n",
      "INFO:geometry:\treduced angle potential = 0.07614891275489.\n",
      "INFO:geometry:\treduced angle potential = 0.7696539850881265.\n",
      "INFO:geometry:\tbeginning construction of no_nonbonded final system...\n",
      "INFO:geometry:\tinitial no-nonbonded final system forces ['HarmonicBondForce', 'HarmonicAngleForce', 'PeriodicTorsionForce', 'NonbondedForce', 'MonteCarloBarostat']\n",
      "INFO:geometry:\tfinal no-nonbonded final system forces dict_keys(['HarmonicBondForce', 'HarmonicAngleForce', 'PeriodicTorsionForce', 'NonbondedForce'])\n",
      "INFO:geometry:\tthere are 11 bond forces in the no-nonbonded final system\n",
      "INFO:geometry:\tthere are 43 angle forces in the no-nonbonded final system\n",
      "INFO:geometry:\tthere are 72 torsion forces in the no-nonbonded final system\n",
      "INFO:geometry:forward final system defined with 0 neglected angles.\n"
     ]
    },
    {
     "name": "stdout",
     "output_type": "stream",
     "text": [
      "conducting subsequent work with the following platform: CUDA\n"
     ]
    },
    {
     "name": "stderr",
     "output_type": "stream",
     "text": [
      "INFO:geometry:total reduced potential before atom placement: 31.36040723546956\n"
     ]
    },
    {
     "name": "stdout",
     "output_type": "stream",
     "text": [
      "conducting subsequent work with the following platform: CUDA\n",
      "conducting subsequent work with the following platform: CUDA\n",
      "conducting subsequent work with the following platform: CUDA\n",
      "conducting subsequent work with the following platform: CUDA\n",
      "added energy components: [('CustomBondForce', 3.6403689697384425), ('CustomAngleForce', 7.695820122873444), ('CustomTorsionForce', 10.419632275651459), ('CustomBondForce', -66.89099359162002)]"
     ]
    },
    {
     "name": "stderr",
     "output_type": "stream",
     "text": [
      "INFO:geometry:total reduced energy added from growth system: -45.135172223356676\n",
      "INFO:geometry:final reduced energy -13.77476476293116\n",
      "INFO:geometry:sum of energies: -13.774764987887117\n",
      "INFO:geometry:magnitude of difference in the energies: 2.249559543088253e-07\n",
      "INFO:geometry:Final logp_proposal: 47.50320392957885\n",
      "INFO:geometry:logp_reverse: performing reverse proposal\n",
      "INFO:geometry:logp_reverse: unique new atoms detected; proceeding to _logp_propose...\n",
      "INFO:geometry:Conducting forward proposal...\n",
      "INFO:geometry:Computing proposal order with NetworkX...\n",
      "INFO:geometry:number of atoms to be placed: 3\n",
      "INFO:geometry:Atom index proposal order is [11, 15, 12]\n",
      "INFO:geometry:omitted_bonds: []\n",
      "INFO:geometry:direction of proposal is reverse; creating atoms_with_positions from old system/topology\n"
     ]
    },
    {
     "name": "stdout",
     "output_type": "stream",
     "text": [
      "\n"
     ]
    },
    {
     "name": "stderr",
     "output_type": "stream",
     "text": [
      "INFO:geometry:creating growth system...\n",
      "INFO:geometry:\tcreating bond force...\n",
      "INFO:geometry:\tthere are 9 bonds in reference force.\n",
      "INFO:geometry:\tcreating angle force...\n",
      "INFO:geometry:\tthere are 36 angles in reference force.\n",
      "INFO:geometry:\tcreating torsion force...\n",
      "INFO:geometry:\tcreating extra torsions force...\n",
      "INFO:geometry:\tthere are 42 torsions in reference force.\n",
      "INFO:geometry:\tcreating nonbonded force...\n",
      "INFO:geometry:\t\tgrabbing reference nonbonded method, cutoff, switching function, switching distance...\n",
      "INFO:geometry:\t\tcreating nonbonded exception force (i.e. custom bond for 1,4s)...\n",
      "INFO:geometry:\t\tlooping through exceptions calculating growth indices, and adding appropriate interactions to custom bond force.\n",
      "INFO:geometry:\t\tthere are 1625 in the reference Nonbonded force\n",
      "INFO:geometry:Neglected angle terms : []\n",
      "INFO:geometry:omitted_growth_terms: {'bonds': [], 'angles': [], 'torsions': [], '1,4s': []}\n",
      "INFO:geometry:extra torsions: {0: (6, 8, 10, 15, [1, Quantity(value=2.105358864604291, unit=radian), Quantity(value=1200.0, unit=kilocalorie/mole), 2]), 1: (6, 8, 10, 11, [1, Quantity(value=-2.0823006129211796, unit=radian), Quantity(value=1200.0, unit=kilocalorie/mole), 1]), 2: (6, 8, 10, 12, [1, Quantity(value=0.018582237407944735, unit=radian), Quantity(value=1200.0, unit=kilocalorie/mole), 3]), 3: (13, 8, 10, 15, [1, Quantity(value=-0.036945135932107576, unit=radian), Quantity(value=1200.0, unit=kilocalorie/mole), 2]), 4: (13, 8, 10, 11, [1, Quantity(value=2.0585806937220097, unit=radian), Quantity(value=1200.0, unit=kilocalorie/mole), 1]), 5: (13, 8, 10, 12, [1, Quantity(value=-2.1237217631284597, unit=radian), Quantity(value=1200.0, unit=kilocalorie/mole), 3]), 6: (9, 8, 10, 15, [1, Quantity(value=-2.119603470065817, unit=radian), Quantity(value=1200.0, unit=kilocalorie/mole), 2]), 7: (9, 8, 10, 11, [1, Quantity(value=-0.024077640411697132, unit=radian), Quantity(value=1200.0, unit=kilocalorie/mole), 1]), 8: (9, 8, 10, 12, [1, Quantity(value=2.0768052099174152, unit=radian), Quantity(value=1200.0, unit=kilocalorie/mole), 3])}\n",
      "INFO:geometry:neglected angle terms include []\n",
      "INFO:geometry:log probability choice of torsions and atom order: -5.0875963352323845\n",
      "INFO:geometry:creating platform, integrators, and contexts; setting growth parameter\n"
     ]
    },
    {
     "name": "stdout",
     "output_type": "stream",
     "text": [
      "conducting subsequent work with the following platform: CUDA\n"
     ]
    },
    {
     "name": "stderr",
     "output_type": "stream",
     "text": [
      "INFO:geometry:setting atoms_with_positions context old positions\n",
      "INFO:geometry:There are 3 new atoms\n",
      "INFO:geometry:\treduced angle potential = 0.3096300511603986.\n"
     ]
    },
    {
     "name": "stdout",
     "output_type": "stream",
     "text": [
      "conducting subsequent work with the following platform: CUDA\n"
     ]
    },
    {
     "name": "stderr",
     "output_type": "stream",
     "text": [
      "INFO:geometry:\treduced angle potential = 0.8234539492149762.\n",
      "INFO:geometry:\treduced angle potential = 0.2500528178763556.\n",
      "INFO:geometry:\tbeginning construction of no_nonbonded final system...\n",
      "INFO:geometry:\tinitial no-nonbonded final system forces ['HarmonicBondForce', 'HarmonicAngleForce', 'PeriodicTorsionForce', 'NonbondedForce', 'MonteCarloBarostat']\n",
      "INFO:geometry:\tfinal no-nonbonded final system forces dict_keys(['HarmonicBondForce', 'HarmonicAngleForce', 'PeriodicTorsionForce', 'NonbondedForce'])\n",
      "INFO:geometry:\tthere are 9 bond forces in the no-nonbonded final system\n",
      "INFO:geometry:\tthere are 36 angle forces in the no-nonbonded final system\n",
      "INFO:geometry:\tthere are 42 torsion forces in the no-nonbonded final system\n",
      "INFO:geometry:reverse final system defined with 0 neglected angles.\n"
     ]
    },
    {
     "name": "stdout",
     "output_type": "stream",
     "text": [
      "conducting subsequent work with the following platform: CUDA\n"
     ]
    },
    {
     "name": "stderr",
     "output_type": "stream",
     "text": [
      "INFO:geometry:total reduced potential before atom placement: 31.36040723546956\n"
     ]
    },
    {
     "name": "stdout",
     "output_type": "stream",
     "text": [
      "conducting subsequent work with the following platform: CUDA\n",
      "conducting subsequent work with the following platform: CUDA\n",
      "conducting subsequent work with the following platform: CUDA\n",
      "conducting subsequent work with the following platform: CUDA\n",
      "added energy components: [('CustomBondForce', 0.0), ('CustomAngleForce', 1.844563196308122), ('CustomTorsionForce', 0.31379335634681493), ('CustomBondForce', 8.21577368679069)]\n"
     ]
    },
    {
     "name": "stderr",
     "output_type": "stream",
     "text": [
      "INFO:geometry:total reduced energy added from growth system: 10.374130239445629\n",
      "INFO:geometry:final reduced energy 41.734536894734866\n",
      "INFO:geometry:sum of energies: 41.734537474915186\n",
      "INFO:geometry:magnitude of difference in the energies: 5.801803215632617e-07\n",
      "INFO:geometry:Final logp_proposal: -29547.7853150218\n",
      "INFO:setup:charge diff: 0\n",
      "INFO:relative:*** Generating RESTCapableHybridTopologyFactory ***\n",
      "INFO:relative:Old system forces: dict_keys(['HarmonicBondForce', 'HarmonicAngleForce', 'PeriodicTorsionForce', 'NonbondedForce', 'MonteCarloBarostat'])\n",
      "INFO:relative:New system forces: dict_keys(['HarmonicBondForce', 'HarmonicAngleForce', 'PeriodicTorsionForce', 'NonbondedForce', 'MonteCarloBarostat'])\n",
      "INFO:relative:No unknown forces.\n",
      "INFO:relative:r_cutoff is 1.0 nm\n",
      "INFO:relative:alpha_ewald is 2.7569734238004693\n",
      "INFO:relative:w_scale is 0.3\n",
      "INFO:relative:Creating hybrid system\n",
      "INFO:relative:Adding and mapping old atoms to hybrid system...\n",
      "INFO:relative:Adding and mapping new atoms to hybrid system...\n",
      "INFO:relative:Added MonteCarloBarostat.\n",
      "INFO:relative:getDefaultPeriodicBoxVectors added to hybrid: [Quantity(value=Vec3(x=2.7648, y=0.0, z=0.0), unit=nanometer), Quantity(value=Vec3(x=0.9215990612312835, y=2.6066787700707614, z=0.0), unit=nanometer), Quantity(value=Vec3(x=-0.9215990612312832, y=1.303337393606965, z=2.2574511841374156), unit=nanometer)]\n",
      "INFO:relative:Determined atom classes.\n",
      "INFO:relative:Computed hybrid positions\n",
      "INFO:relative:Created hybrid topology\n",
      "INFO:relative:Generating rest_region with query indices: [6, 7, 8, 9, 10, 11, 12, 13, 14, 15, 1551, 1552, 1553, 1554, 1555, 1556, 1557]\n",
      "INFO:relative:Rest radius: 0.3 nm\n",
      "INFO:relative:Rest region: [0, 1, 2, 3, 4, 5, 6, 7, 8, 9, 10, 11, 12, 13, 14, 15, 1551, 1552, 1553, 1554, 1555, 1556, 1557, 16, 17, 18, 19, 20, 21]\n",
      "INFO:relative:Prepped look up dict for determining if atom is solvent\n",
      "INFO:relative:Generating old system exceptions dict...\n",
      "INFO:relative:Generating new system exceptions dict...\n",
      "INFO:relative:Handling constraints...\n",
      "INFO:relative:Handling virtual sites...\n",
      "INFO:relative:\t_handle_virtual_sites: numVirtualSites: 0\n",
      "INFO:relative:Handling bonds...\n",
      "INFO:relative:Handling angles...\n",
      "INFO:relative:Handling torsions...\n",
      "INFO:relative:Handling nonbondeds (creating forces)...\n",
      "INFO:relative:Handling nonbondeds (copying nonbonded particles)...\n",
      "INFO:relative:Handling nonbondeds (copying nonbonded exceptions)...\n",
      "INFO:setup:Saving htfs as pickles\n",
      "INFO:setup:sterics expression: U_sterics; U_sterics = 4 * epsilon * x * (x - 1.0);x = (sigma / r_eff_sterics)^6;sigma = (sigma1 + sigma2) / 2; epsilon = sterics_rest_scale1 * sterics_rest_scale2 * sqrt(epsilon_combined); epsilon_combined = step(epsilon1 * epsilon2) * epsilon1 * epsilon2; r_eff_sterics = sqrt(r^2 + w_sterics^2); w_sterics = w_scale * r_cutoff * (is_unique_old * (1 - lambda_alchemical_sterics_old) + is_unique_new * (1 - lambda_alchemical_sterics_new)); is_unique_old = step(is_unique_old1 + is_unique_old2 - 0.1); is_unique_new = step(is_unique_new1 + is_unique_new2 - 0.1); w_scale = 0.3; r_cutoff = 1.0;\n",
      "INFO:setup:forces: [<openmm.openmm.MonteCarloBarostat; proxy of <Swig Object of type 'OpenMM::MonteCarloBarostat *' at 0x2b30d5604c30> >, <openmm.openmm.CustomBondForce; proxy of <Swig Object of type 'OpenMM::CustomBondForce *' at 0x2b30d28beea0> >, <openmm.openmm.CustomAngleForce; proxy of <Swig Object of type 'OpenMM::CustomAngleForce *' at 0x2b30d28bef30> >, <openmm.openmm.CustomTorsionForce; proxy of <Swig Object of type 'OpenMM::CustomTorsionForce *' at 0x2b30d298c660> >, <openmm.openmm.CustomNonbondedForce; proxy of <Swig Object of type 'OpenMM::CustomNonbondedForce *' at 0x2b30d298c540> >, <openmm.openmm.CustomNonbondedForce; proxy of <Swig Object of type 'OpenMM::CustomNonbondedForce *' at 0x2b30d298c030> >, <openmm.openmm.CustomBondForce; proxy of <Swig Object of type 'OpenMM::CustomBondForce *' at 0x2b30d26580f0> >, <openmm.openmm.NonbondedForce; proxy of <Swig Object of type 'OpenMM::NonbondedForce *' at 0x2b30d2658420> >, <openmm.openmm.NonbondedForce; proxy of <Swig Object of type 'OpenMM::NonbondedForce *' at 0x2b30d26589f0> >]\n",
      "INFO:setup:number of particles in apo: 1558\n",
      "INFO:setup:number of particles in apo rest region: 29\n"
     ]
    },
    {
     "name": "stdout",
     "output_type": "stream",
     "text": [
      "apo rest region atoms:\n",
      "ACE1-H1\n",
      "ACE1-CH3\n",
      "ACE1-H2\n",
      "ACE1-H3\n",
      "ACE1-C\n",
      "ACE1-O\n",
      "ALA2-N\n",
      "ALA2-H\n",
      "ALA2-CA\n",
      "ALA2-HA\n",
      "ALA2-CB\n",
      "ALA2-HB2\n",
      "ALA2-HB3\n",
      "ALA2-C\n",
      "ALA2-O\n",
      "ALA2-HB1\n",
      "ALA2-HB\n",
      "ALA2-CG2\n",
      "ALA2-HG21\n",
      "ALA2-HG22\n",
      "ALA2-HG23\n",
      "ALA2-OG1\n",
      "ALA2-HG1\n",
      "NME3-N\n",
      "NME3-H\n",
      "NME3-C\n",
      "NME3-H1\n",
      "NME3-H2\n",
      "NME3-H3\n"
     ]
    }
   ],
   "source": [
    " outdir = \"/data/chodera/zhangi/perses_benchmark/repex/38/4/\"\n",
    "residue = '2'\n",
    "mutant = 'THR'\n",
    "\n",
    "apo_file = \"/data/chodera/zhangi/perses_benchmark/repex/38/4/equil/apo_equilibrated.cif\" \n",
    "\n",
    "solvent_delivery = generate_htf(outdir, residue, mutant, apo_file)"
   ]
  },
  {
   "cell_type": "code",
   "execution_count": 9,
   "id": "1a3b8846",
   "metadata": {
    "scrolled": true
   },
   "outputs": [
    {
     "name": "stdout",
     "output_type": "stream",
     "text": [
      "(Vec3(x=2.7648, y=0.0, z=0.0), Vec3(x=0.9215990612312835, y=2.6066787700707614, z=0.0), Vec3(x=-0.9215990612312832, y=1.303337393606965, z=2.2574511841374156)) nm\n"
     ]
    },
    {
     "name": "stderr",
     "output_type": "stream",
     "text": [
      "DEBUG:openmmforcefields.system_generators:Trying GAFFTemplateGenerator to load gaff-2.11\n",
      "INFO:proposal_generator:\tConducting polymer point mutation proposal...\n",
      "INFO:proposal_generator:local_atom_map: {6: 6, 7: 7, 8: 8, 9: 9, 10: 10, 11: 13, 12: 14}\n",
      "INFO:proposal_generator:the mapped atom names are: [('N', 'N'), ('CA', 'CA'), ('C', 'C'), ('O', 'O'), ('CB', 'CB'), ('H', 'H'), ('HA', 'HA')]\n",
      "INFO:setup:Changed particle 16's epsilon from 0.0 kJ/mol to 0.0001 kJ/mol\n",
      "INFO:setup:Changed particle 16's sigma from 1.0 nm to 0.1 nm\n",
      "INFO:geometry:propose: performing forward proposal\n",
      "INFO:geometry:propose: unique new atoms detected; proceeding to _logp_propose...\n",
      "INFO:geometry:Conducting forward proposal...\n",
      "INFO:geometry:Computing proposal order with NetworkX...\n",
      "INFO:geometry:number of atoms to be placed: 3\n",
      "INFO:geometry:Atom index proposal order is [14, 15, 13]\n",
      "INFO:geometry:omitted_bonds: []\n",
      "INFO:geometry:direction of proposal is forward; creating atoms_with_positions and new positions from old system/topology...\n"
     ]
    },
    {
     "name": "stdout",
     "output_type": "stream",
     "text": [
      "[Quantity(value=Vec3(x=2.7648, y=0.0, z=0.0), unit=nanometer), Quantity(value=Vec3(x=0.9215990612312835, y=2.6066787700707614, z=0.0), unit=nanometer), Quantity(value=Vec3(x=-0.9215990612312832, y=1.303337393606965, z=2.2574511841374156), unit=nanometer)]\n",
      "True\n",
      "[Quantity(value=Vec3(x=2.7648, y=0.0, z=0.0), unit=nanometer), Quantity(value=Vec3(x=0.9215990612312835, y=2.6066787700707614, z=0.0), unit=nanometer), Quantity(value=Vec3(x=-0.9215990612312832, y=1.303337393606965, z=2.2574511841374156), unit=nanometer)]\n",
      "True\n"
     ]
    },
    {
     "name": "stderr",
     "output_type": "stream",
     "text": [
      "INFO:geometry:creating growth system...\n",
      "INFO:geometry:\tcreating bond force...\n",
      "INFO:geometry:\tthere are 9 bonds in reference force.\n",
      "INFO:geometry:\tcreating angle force...\n",
      "INFO:geometry:\tthere are 36 angles in reference force.\n",
      "INFO:geometry:\tcreating torsion force...\n",
      "INFO:geometry:\tcreating extra torsions force...\n",
      "INFO:geometry:\tthere are 42 torsions in reference force.\n",
      "INFO:geometry:\tcreating nonbonded force...\n",
      "INFO:geometry:\t\tgrabbing reference nonbonded method, cutoff, switching function, switching distance...\n",
      "INFO:geometry:\t\tcreating nonbonded exception force (i.e. custom bond for 1,4s)...\n",
      "INFO:geometry:\t\tlooping through exceptions calculating growth indices, and adding appropriate interactions to custom bond force.\n",
      "INFO:geometry:\t\tthere are 1631 in the reference Nonbonded force\n",
      "INFO:geometry:Neglected angle terms : []\n",
      "INFO:geometry:omitted_growth_terms: {'bonds': [], 'angles': [], 'torsions': [], '1,4s': []}\n",
      "INFO:geometry:extra torsions: {0: (6, 7, 10, 13, [1, Quantity(value=2.105358864604291, unit=radian), Quantity(value=1200.0, unit=kilocalorie/mole), 3]), 1: (6, 7, 10, 14, [1, Quantity(value=-2.0823006129211796, unit=radian), Quantity(value=1200.0, unit=kilocalorie/mole), 1]), 2: (6, 7, 10, 15, [1, Quantity(value=0.018582237407944735, unit=radian), Quantity(value=1200.0, unit=kilocalorie/mole), 2]), 3: (8, 7, 10, 13, [1, Quantity(value=-0.036945135932107576, unit=radian), Quantity(value=1200.0, unit=kilocalorie/mole), 3]), 4: (8, 7, 10, 14, [1, Quantity(value=2.0585806937220097, unit=radian), Quantity(value=1200.0, unit=kilocalorie/mole), 1]), 5: (8, 7, 10, 15, [1, Quantity(value=-2.1237217631284597, unit=radian), Quantity(value=1200.0, unit=kilocalorie/mole), 2]), 6: (12, 7, 10, 13, [1, Quantity(value=-2.119603470065817, unit=radian), Quantity(value=1200.0, unit=kilocalorie/mole), 3]), 7: (12, 7, 10, 14, [1, Quantity(value=-0.024077640411697132, unit=radian), Quantity(value=1200.0, unit=kilocalorie/mole), 1]), 8: (12, 7, 10, 15, [1, Quantity(value=2.0768052099174152, unit=radian), Quantity(value=1200.0, unit=kilocalorie/mole), 2])}\n",
      "INFO:geometry:neglected angle terms include []\n",
      "INFO:geometry:log probability choice of torsions and atom order: -5.0875963352323845\n",
      "INFO:geometry:creating platform, integrators, and contexts; setting growth parameter\n"
     ]
    },
    {
     "name": "stdout",
     "output_type": "stream",
     "text": [
      "conducting subsequent work with the following platform: CUDA\n"
     ]
    },
    {
     "name": "stderr",
     "output_type": "stream",
     "text": [
      "INFO:geometry:setting atoms_with_positions context new positions\n"
     ]
    },
    {
     "name": "stdout",
     "output_type": "stream",
     "text": [
      "conducting subsequent work with the following platform: CUDA\n"
     ]
    },
    {
     "name": "stderr",
     "output_type": "stream",
     "text": [
      "INFO:geometry:There are 3 new atoms\n",
      "INFO:geometry:\treduced angle potential = 0.08064732787912476.\n",
      "INFO:geometry:\treduced angle potential = 0.07790713028539938.\n",
      "INFO:geometry:\treduced angle potential = 1.081374641294836.\n",
      "INFO:geometry:\tbeginning construction of no_nonbonded final system...\n",
      "INFO:geometry:\tinitial no-nonbonded final system forces ['HarmonicBondForce', 'HarmonicAngleForce', 'PeriodicTorsionForce', 'NonbondedForce', 'MonteCarloBarostat']\n",
      "INFO:geometry:\tfinal no-nonbonded final system forces dict_keys(['HarmonicBondForce', 'HarmonicAngleForce', 'PeriodicTorsionForce', 'NonbondedForce'])\n",
      "INFO:geometry:\tthere are 9 bond forces in the no-nonbonded final system\n",
      "INFO:geometry:\tthere are 36 angle forces in the no-nonbonded final system\n",
      "INFO:geometry:\tthere are 42 torsion forces in the no-nonbonded final system\n",
      "INFO:geometry:forward final system defined with 0 neglected angles.\n"
     ]
    },
    {
     "name": "stdout",
     "output_type": "stream",
     "text": [
      "conducting subsequent work with the following platform: CUDA\n",
      "conducting subsequent work with the following platform: CUDA\n"
     ]
    },
    {
     "name": "stderr",
     "output_type": "stream",
     "text": [
      "INFO:geometry:total reduced potential before atom placement: 37.487867612205285\n"
     ]
    },
    {
     "name": "stdout",
     "output_type": "stream",
     "text": [
      "conducting subsequent work with the following platform: CUDA\n",
      "conducting subsequent work with the following platform: CUDA\n",
      "conducting subsequent work with the following platform: CUDA\n"
     ]
    },
    {
     "name": "stderr",
     "output_type": "stream",
     "text": [
      "INFO:geometry:total reduced energy added from growth system: 9.65758420271394\n",
      "INFO:geometry:final reduced energy 47.14545136484239\n",
      "INFO:geometry:sum of energies: 47.14545181491923\n",
      "INFO:geometry:magnitude of difference in the energies: 4.500768380211184e-07\n",
      "INFO:geometry:Final logp_proposal: 20.936155759105503\n",
      "INFO:geometry:logp_reverse: performing reverse proposal\n",
      "INFO:geometry:logp_reverse: unique new atoms detected; proceeding to _logp_propose...\n",
      "INFO:geometry:Conducting forward proposal...\n",
      "INFO:geometry:Computing proposal order with NetworkX...\n",
      "INFO:geometry:number of atoms to be placed: 7\n",
      "INFO:geometry:Atom index proposal order is [12, 11, 18, 17, 16, 15, 19]\n",
      "INFO:geometry:omitted_bonds: []\n",
      "INFO:geometry:direction of proposal is reverse; creating atoms_with_positions from old system/topology\n"
     ]
    },
    {
     "name": "stdout",
     "output_type": "stream",
     "text": [
      "added energy components: [('CustomBondForce', 0.0), ('CustomAngleForce', 1.4668321262771373), ('CustomTorsionForce', 0.06567724593383671), ('CustomBondForce', 8.125074830502967)]\n"
     ]
    },
    {
     "name": "stderr",
     "output_type": "stream",
     "text": [
      "INFO:geometry:creating growth system...\n",
      "INFO:geometry:\tcreating bond force...\n",
      "INFO:geometry:\tthere are 11 bonds in reference force.\n",
      "INFO:geometry:\tcreating angle force...\n",
      "INFO:geometry:\tthere are 43 angles in reference force.\n",
      "INFO:geometry:\tcreating torsion force...\n",
      "INFO:geometry:\tcreating extra torsions force...\n",
      "INFO:geometry:\tthere are 72 torsions in reference force.\n",
      "INFO:geometry:\tcreating nonbonded force...\n",
      "INFO:geometry:\t\tgrabbing reference nonbonded method, cutoff, switching function, switching distance...\n",
      "INFO:geometry:\t\tcreating nonbonded exception force (i.e. custom bond for 1,4s)...\n",
      "INFO:geometry:\t\tlooping through exceptions calculating growth indices, and adding appropriate interactions to custom bond force.\n",
      "INFO:geometry:\t\tthere are 1654 in the reference Nonbonded force\n",
      "INFO:geometry:Neglected angle terms : []\n",
      "INFO:geometry:omitted_growth_terms: {'bonds': [], 'angles': [], 'torsions': [], '1,4s': []}\n",
      "INFO:geometry:extra torsions: {0: (16, 12, 10, 7, [1, Quantity(value=-0.07858019216845058, unit=radian), Quantity(value=1200.0, unit=kilocalorie/mole), 5]), 1: (16, 12, 10, 11, [1, Quantity(value=2.118586571250296, unit=radian), Quantity(value=1200.0, unit=kilocalorie/mole), 5]), 2: (16, 12, 10, 15, [1, Quantity(value=-2.149781203448759, unit=radian), Quantity(value=1200.0, unit=kilocalorie/mole), 6]), 3: (7, 10, 11, 19, [1, Quantity(value=-2.1249532223845904, unit=radian), Quantity(value=1200.0, unit=kilocalorie/mole), 7]), 4: (7, 10, 11, 18, [1, Quantity(value=2.0543043017157916, unit=radian), Quantity(value=1200.0, unit=kilocalorie/mole), 3]), 5: (7, 10, 11, 17, [1, Quantity(value=-0.02223392579985184, unit=radian), Quantity(value=1200.0, unit=kilocalorie/mole), 4]), 6: (12, 10, 11, 19, [1, Quantity(value=2.0255587336734213, unit=radian), Quantity(value=1200.0, unit=kilocalorie/mole), 7]), 7: (12, 10, 11, 18, [1, Quantity(value=-0.07836904940578293, unit=radian), Quantity(value=1200.0, unit=kilocalorie/mole), 3]), 8: (12, 10, 11, 17, [1, Quantity(value=-2.154907276921426, unit=radian), Quantity(value=1200.0, unit=kilocalorie/mole), 4]), 9: (15, 10, 11, 19, [1, Quantity(value=0.007583009583349565, unit=radian), Quantity(value=1200.0, unit=kilocalorie/mole), 7]), 10: (15, 10, 11, 18, [1, Quantity(value=-2.096344773495849, unit=radian), Quantity(value=1200.0, unit=kilocalorie/mole), 6]), 11: (15, 10, 11, 17, [1, Quantity(value=2.1103023061680943, unit=radian), Quantity(value=1200.0, unit=kilocalorie/mole), 6]), 12: (12, 10, 7, 11, [1, Quantity(value=-1.0655064807976995, unit=radian), Quantity(value=1200.0, unit=kilocalorie/mole), 2])}\n",
      "INFO:geometry:neglected angle terms include []\n",
      "INFO:geometry:log probability choice of torsions and atom order: -12.966130531372746\n",
      "INFO:geometry:creating platform, integrators, and contexts; setting growth parameter\n"
     ]
    },
    {
     "name": "stdout",
     "output_type": "stream",
     "text": [
      "conducting subsequent work with the following platform: CUDA\n"
     ]
    },
    {
     "name": "stderr",
     "output_type": "stream",
     "text": [
      "INFO:geometry:setting atoms_with_positions context old positions\n"
     ]
    },
    {
     "name": "stdout",
     "output_type": "stream",
     "text": [
      "conducting subsequent work with the following platform: CUDA\n"
     ]
    },
    {
     "name": "stderr",
     "output_type": "stream",
     "text": [
      "INFO:geometry:There are 7 new atoms\n",
      "INFO:geometry:\treduced angle potential = 0.0033221716088478455.\n",
      "INFO:geometry:\treduced angle potential = 0.3645307932642601.\n",
      "INFO:geometry:\treduced angle potential = 1.3811851572212464.\n",
      "INFO:geometry:\treduced angle potential = 0.7576735424136698.\n",
      "INFO:geometry:\treduced angle potential = 5.035929021772703.\n",
      "INFO:geometry:\treduced angle potential = 0.11562717412490095.\n",
      "INFO:geometry:\treduced angle potential = 0.021638761718733256.\n",
      "INFO:geometry:\tbeginning construction of no_nonbonded final system...\n",
      "INFO:geometry:\tinitial no-nonbonded final system forces ['HarmonicBondForce', 'HarmonicAngleForce', 'PeriodicTorsionForce', 'NonbondedForce', 'MonteCarloBarostat']\n",
      "INFO:geometry:\tfinal no-nonbonded final system forces dict_keys(['HarmonicBondForce', 'HarmonicAngleForce', 'PeriodicTorsionForce', 'NonbondedForce'])\n",
      "INFO:geometry:\tthere are 11 bond forces in the no-nonbonded final system\n",
      "INFO:geometry:\tthere are 43 angle forces in the no-nonbonded final system\n",
      "INFO:geometry:\tthere are 72 torsion forces in the no-nonbonded final system\n",
      "INFO:geometry:reverse final system defined with 0 neglected angles.\n"
     ]
    },
    {
     "name": "stdout",
     "output_type": "stream",
     "text": [
      "conducting subsequent work with the following platform: CUDA\n"
     ]
    },
    {
     "name": "stderr",
     "output_type": "stream",
     "text": [
      "INFO:geometry:total reduced potential before atom placement: 37.487867612205285\n"
     ]
    },
    {
     "name": "stdout",
     "output_type": "stream",
     "text": [
      "conducting subsequent work with the following platform: CUDA\n",
      "conducting subsequent work with the following platform: CUDA\n",
      "conducting subsequent work with the following platform: CUDA\n",
      "conducting subsequent work with the following platform: CUDA\n"
     ]
    },
    {
     "name": "stderr",
     "output_type": "stream",
     "text": [
      "INFO:geometry:total reduced energy added from growth system: -49.39389917948375\n",
      "INFO:geometry:final reduced energy -11.906030570911103\n",
      "INFO:geometry:sum of energies: -11.906031567278468\n",
      "INFO:geometry:magnitude of difference in the energies: 9.96367361949524e-07\n",
      "INFO:geometry:Final logp_proposal: -5878.947678171476\n",
      "INFO:setup:charge diff: 0\n",
      "INFO:relative:*** Generating RESTCapableHybridTopologyFactory ***\n"
     ]
    },
    {
     "name": "stdout",
     "output_type": "stream",
     "text": [
      "added energy components: [('CustomBondForce', 2.491618312600117), ('CustomAngleForce', 10.012960961555445), ('CustomTorsionForce', 8.024630559229106), ('CustomBondForce', -69.92310901286842)]\n"
     ]
    },
    {
     "name": "stderr",
     "output_type": "stream",
     "text": [
      "INFO:relative:Old system forces: dict_keys(['HarmonicBondForce', 'HarmonicAngleForce', 'PeriodicTorsionForce', 'NonbondedForce', 'MonteCarloBarostat'])\n",
      "INFO:relative:New system forces: dict_keys(['HarmonicBondForce', 'HarmonicAngleForce', 'PeriodicTorsionForce', 'NonbondedForce', 'MonteCarloBarostat'])\n",
      "INFO:relative:No unknown forces.\n",
      "INFO:relative:r_cutoff is 1.0 nm\n",
      "INFO:relative:alpha_ewald is 2.7569734238004693\n",
      "INFO:relative:w_scale is 0.3\n",
      "INFO:relative:Creating hybrid system\n",
      "INFO:relative:Adding and mapping old atoms to hybrid system...\n",
      "INFO:relative:Adding and mapping new atoms to hybrid system...\n",
      "INFO:relative:Added MonteCarloBarostat.\n",
      "INFO:relative:getDefaultPeriodicBoxVectors added to hybrid: [Quantity(value=Vec3(x=2.7648, y=0.0, z=0.0), unit=nanometer), Quantity(value=Vec3(x=0.9215990612312835, y=2.6066787700707614, z=0.0), unit=nanometer), Quantity(value=Vec3(x=-0.9215990612312832, y=1.303337393606965, z=2.2574511841374156), unit=nanometer)]\n",
      "INFO:relative:Determined atom classes.\n",
      "INFO:relative:Computed hybrid positions\n",
      "INFO:relative:Created hybrid topology\n",
      "INFO:relative:Generating rest_region with query indices: [6, 7, 8, 9, 10, 11, 12, 13, 14, 15, 16, 17, 18, 19, 1561, 1562, 1563]\n",
      "INFO:relative:Rest radius: 0.3 nm\n",
      "INFO:relative:Rest region: [0, 1, 2, 3, 4, 5, 6, 7, 8, 9, 10, 11, 12, 13, 14, 15, 16, 17, 18, 19, 1561, 1562, 1563, 20, 21, 22, 23, 24, 25]\n",
      "INFO:relative:Prepped look up dict for determining if atom is solvent\n",
      "INFO:relative:Generating old system exceptions dict...\n",
      "INFO:relative:Generating new system exceptions dict...\n",
      "INFO:relative:Handling constraints...\n",
      "INFO:relative:Handling virtual sites...\n",
      "INFO:relative:\t_handle_virtual_sites: numVirtualSites: 0\n",
      "INFO:relative:Handling bonds...\n",
      "INFO:relative:Handling angles...\n",
      "INFO:relative:Handling torsions...\n",
      "INFO:relative:Handling nonbondeds (creating forces)...\n",
      "INFO:relative:Handling nonbondeds (copying nonbonded particles)...\n",
      "INFO:relative:Handling nonbondeds (copying nonbonded exceptions)...\n",
      "INFO:setup:Saving htfs as pickles\n",
      "INFO:setup:sterics expression: U_sterics; U_sterics = 4 * epsilon * x * (x - 1.0);x = (sigma / r_eff_sterics)^6;sigma = (sigma1 + sigma2) / 2; epsilon = sterics_rest_scale1 * sterics_rest_scale2 * sqrt(epsilon_combined); epsilon_combined = step(epsilon1 * epsilon2) * epsilon1 * epsilon2; r_eff_sterics = sqrt(r^2 + w_sterics^2); w_sterics = w_scale * r_cutoff * (is_unique_old * (1 - lambda_alchemical_sterics_old) + is_unique_new * (1 - lambda_alchemical_sterics_new)); is_unique_old = step(is_unique_old1 + is_unique_old2 - 0.1); is_unique_new = step(is_unique_new1 + is_unique_new2 - 0.1); w_scale = 0.3; r_cutoff = 1.0;\n",
      "INFO:setup:forces: [<openmm.openmm.MonteCarloBarostat; proxy of <Swig Object of type 'OpenMM::MonteCarloBarostat *' at 0x2b30d6483b70> >, <openmm.openmm.CustomBondForce; proxy of <Swig Object of type 'OpenMM::CustomBondForce *' at 0x2b30d6483d80> >, <openmm.openmm.CustomAngleForce; proxy of <Swig Object of type 'OpenMM::CustomAngleForce *' at 0x2b30d6483ed0> >, <openmm.openmm.CustomTorsionForce; proxy of <Swig Object of type 'OpenMM::CustomTorsionForce *' at 0x2b30d6483c90> >, <openmm.openmm.CustomNonbondedForce; proxy of <Swig Object of type 'OpenMM::CustomNonbondedForce *' at 0x2b30d6483f30> >, <openmm.openmm.CustomNonbondedForce; proxy of <Swig Object of type 'OpenMM::CustomNonbondedForce *' at 0x2b30d6483330> >, <openmm.openmm.CustomBondForce; proxy of <Swig Object of type 'OpenMM::CustomBondForce *' at 0x2b30d6483060> >, <openmm.openmm.NonbondedForce; proxy of <Swig Object of type 'OpenMM::NonbondedForce *' at 0x2b30d6483150> >, <openmm.openmm.NonbondedForce; proxy of <Swig Object of type 'OpenMM::NonbondedForce *' at 0x2b30d64833f0> >]\n",
      "INFO:setup:number of particles in apo: 1564\n",
      "INFO:setup:number of particles in apo rest region: 29\n"
     ]
    },
    {
     "name": "stdout",
     "output_type": "stream",
     "text": [
      "apo rest region atoms:\n",
      "ACE1-C\n",
      "ACE1-O\n",
      "ACE1-CH3\n",
      "ACE1-H1\n",
      "ACE1-H2\n",
      "ACE1-H3\n",
      "THR2-N\n",
      "THR2-CA\n",
      "THR2-C\n",
      "THR2-O\n",
      "THR2-CB\n",
      "THR2-CG2\n",
      "THR2-OG1\n",
      "THR2-H\n",
      "THR2-HA\n",
      "THR2-HB\n",
      "THR2-HG1\n",
      "THR2-HG21\n",
      "THR2-HG22\n",
      "THR2-HG23\n",
      "THR2-HB1\n",
      "THR2-HB2\n",
      "THR2-HB3\n",
      "NME3-N\n",
      "NME3-C\n",
      "NME3-H\n",
      "NME3-H1\n",
      "NME3-H2\n",
      "NME3-H3\n"
     ]
    }
   ],
   "source": [
    " outdir = \"/data/chodera/zhangi/perses_benchmark/repex/38/5/\"\n",
    "residue = '2'\n",
    "mutant = 'ALA'\n",
    "\n",
    "apo_file = \"/data/chodera/zhangi/perses_benchmark/repex/38/5/equil/apo_equilibrated.cif\" \n",
    "\n",
    "solvent_delivery = generate_htf(outdir, residue, mutant, apo_file)"
   ]
  },
  {
   "cell_type": "code",
   "execution_count": 8,
   "id": "f4da38f3",
   "metadata": {},
   "outputs": [
    {
     "name": "stderr",
     "output_type": "stream",
     "text": [
      "DEBUG:openmmforcefields.system_generators:Trying GAFFTemplateGenerator to load gaff-2.11\n"
     ]
    },
    {
     "name": "stdout",
     "output_type": "stream",
     "text": [
      "(Vec3(x=2.7648, y=0.0, z=0.0), Vec3(x=0.9215990612312835, y=2.6066787700707614, z=0.0), Vec3(x=-0.9215990612312832, y=1.303337393606965, z=2.2574511841374156)) nm\n"
     ]
    },
    {
     "name": "stderr",
     "output_type": "stream",
     "text": [
      "INFO:proposal_generator:\tConducting polymer point mutation proposal...\n",
      "INFO:proposal_generator:local_atom_map: {6: 6, 7: 7, 8: 8, 9: 9, 10: 10, 11: 13, 12: 14}\n",
      "INFO:proposal_generator:the mapped atom names are: [('N', 'N'), ('H', 'H'), ('CA', 'CA'), ('HA', 'HA'), ('CB', 'CB'), ('C', 'C'), ('O', 'O')]\n"
     ]
    },
    {
     "name": "stdout",
     "output_type": "stream",
     "text": [
      "[Quantity(value=Vec3(x=2.7648, y=0.0, z=0.0), unit=nanometer), Quantity(value=Vec3(x=0.9215990612312835, y=2.6066787700707614, z=0.0), unit=nanometer), Quantity(value=Vec3(x=-0.9215990612312832, y=1.303337393606965, z=2.2574511841374156), unit=nanometer)]\n",
      "True\n"
     ]
    },
    {
     "name": "stderr",
     "output_type": "stream",
     "text": [
      "INFO:geometry:propose: performing forward proposal\n",
      "INFO:geometry:propose: unique new atoms detected; proceeding to _logp_propose...\n",
      "INFO:geometry:Conducting forward proposal...\n",
      "INFO:geometry:Computing proposal order with NetworkX...\n",
      "INFO:geometry:number of atoms to be placed: 9\n",
      "INFO:geometry:Atom index proposal order is [14, 18, 20, 17, 15, 13, 19, 21, 16]\n",
      "INFO:geometry:omitted_bonds: []\n",
      "INFO:geometry:direction of proposal is forward; creating atoms_with_positions and new positions from old system/topology...\n"
     ]
    },
    {
     "name": "stdout",
     "output_type": "stream",
     "text": [
      "[Quantity(value=Vec3(x=2.7648, y=0.0, z=0.0), unit=nanometer), Quantity(value=Vec3(x=0.9215990612312835, y=2.6066787700707614, z=0.0), unit=nanometer), Quantity(value=Vec3(x=-0.9215990612312832, y=1.303337393606965, z=2.2574511841374156), unit=nanometer)]\n",
      "True\n"
     ]
    },
    {
     "name": "stderr",
     "output_type": "stream",
     "text": [
      "INFO:geometry:creating growth system...\n",
      "INFO:geometry:\tcreating bond force...\n",
      "INFO:geometry:\tthere are 11 bonds in reference force.\n",
      "INFO:geometry:\tcreating angle force...\n",
      "INFO:geometry:\tthere are 48 angles in reference force.\n",
      "INFO:geometry:\tcreating torsion force...\n",
      "INFO:geometry:\tcreating extra torsions force...\n",
      "INFO:geometry:\tthere are 72 torsions in reference force.\n",
      "INFO:geometry:\tcreating nonbonded force...\n",
      "INFO:geometry:\t\tgrabbing reference nonbonded method, cutoff, switching function, switching distance...\n",
      "INFO:geometry:\t\tcreating nonbonded exception force (i.e. custom bond for 1,4s)...\n",
      "INFO:geometry:\t\tlooping through exceptions calculating growth indices, and adding appropriate interactions to custom bond force.\n",
      "INFO:geometry:\t\tthere are 1661 in the reference Nonbonded force\n",
      "INFO:geometry:Neglected angle terms : []\n",
      "INFO:geometry:omitted_growth_terms: {'bonds': [], 'angles': [], 'torsions': [], '1,4s': []}\n",
      "INFO:geometry:extra torsions: {0: (21, 18, 10, 8, [1, Quantity(value=1.9981389705773298, unit=radian), Quantity(value=1200.0, unit=kilocalorie/mole), 8]), 1: (21, 18, 10, 14, [1, Quantity(value=-2.0401911568003106, unit=radian), Quantity(value=1200.0, unit=kilocalorie/mole), 8]), 2: (21, 18, 10, 13, [1, Quantity(value=-0.06649729619875622, unit=radian), Quantity(value=1200.0, unit=kilocalorie/mole), 8]), 3: (19, 18, 10, 8, [1, Quantity(value=-2.1800972523408655, unit=radian), Quantity(value=1200.0, unit=kilocalorie/mole), 7]), 4: (19, 18, 10, 14, [1, Quantity(value=0.06475792746107922, unit=radian), Quantity(value=1200.0, unit=kilocalorie/mole), 7]), 5: (19, 18, 10, 13, [1, Quantity(value=2.0384517880626345, unit=radian), Quantity(value=1200.0, unit=kilocalorie/mole), 7]), 6: (20, 18, 10, 8, [1, Quantity(value=-0.10891190198927347, unit=radian), Quantity(value=1200.0, unit=kilocalorie/mole), 3]), 7: (20, 18, 10, 14, [1, Quantity(value=2.1359432778126726, unit=radian), Quantity(value=1200.0, unit=kilocalorie/mole), 3]), 8: (20, 18, 10, 13, [1, Quantity(value=-2.1735481687653593, unit=radian), Quantity(value=1200.0, unit=kilocalorie/mole), 6]), 9: (8, 10, 14, 15, [1, Quantity(value=-2.103125396700225, unit=radian), Quantity(value=1200.0, unit=kilocalorie/mole), 5]), 10: (8, 10, 14, 17, [1, Quantity(value=2.069407999821502, unit=radian), Quantity(value=1200.0, unit=kilocalorie/mole), 4]), 11: (8, 10, 14, 16, [1, Quantity(value=0.01097669629550957, unit=radian), Quantity(value=1200.0, unit=kilocalorie/mole), 9]), 12: (18, 10, 14, 15, [1, Quantity(value=1.9612585028870029, unit=radian), Quantity(value=1200.0, unit=kilocalorie/mole), 5]), 13: (18, 10, 14, 17, [1, Quantity(value=-0.1493934077708552, unit=radian), Quantity(value=1200.0, unit=kilocalorie/mole), 4]), 14: (18, 10, 14, 16, [1, Quantity(value=-2.2078247112968405, unit=radian), Quantity(value=1200.0, unit=kilocalorie/mole), 9]), 15: (13, 10, 14, 15, [1, Quantity(value=-0.02023300101279002, unit=radian), Quantity(value=1200.0, unit=kilocalorie/mole), 6]), 16: (13, 10, 14, 17, [1, Quantity(value=-2.1308849116706465, unit=radian), Quantity(value=1200.0, unit=kilocalorie/mole), 6]), 17: (13, 10, 14, 16, [1, Quantity(value=2.0938690919829557, unit=radian), Quantity(value=1200.0, unit=kilocalorie/mole), 9])}\n",
      "INFO:geometry:neglected angle terms include []\n",
      "INFO:geometry:log probability choice of torsions and atom order: -18.37493163109556\n",
      "INFO:geometry:creating platform, integrators, and contexts; setting growth parameter\n"
     ]
    },
    {
     "name": "stdout",
     "output_type": "stream",
     "text": [
      "conducting subsequent work with the following platform: CUDA\n"
     ]
    },
    {
     "name": "stderr",
     "output_type": "stream",
     "text": [
      "INFO:geometry:setting atoms_with_positions context new positions\n",
      "INFO:geometry:There are 9 new atoms\n",
      "INFO:geometry:\treduced angle potential = 0.4931143106845625.\n"
     ]
    },
    {
     "name": "stdout",
     "output_type": "stream",
     "text": [
      "conducting subsequent work with the following platform: CUDA\n"
     ]
    },
    {
     "name": "stderr",
     "output_type": "stream",
     "text": [
      "INFO:geometry:\treduced angle potential = 2.199738867872841.\n",
      "INFO:geometry:\treduced angle potential = 0.9543129850461699.\n",
      "INFO:geometry:\treduced angle potential = 0.011366813545862619.\n",
      "INFO:geometry:\treduced angle potential = 0.09385862900993139.\n",
      "INFO:geometry:\treduced angle potential = 0.5118299827474382.\n",
      "INFO:geometry:\treduced angle potential = 0.30176325306935803.\n",
      "INFO:geometry:\treduced angle potential = 0.47043195567736396.\n",
      "INFO:geometry:\treduced angle potential = 0.26026243553240075.\n",
      "INFO:geometry:\tbeginning construction of no_nonbonded final system...\n",
      "INFO:geometry:\tinitial no-nonbonded final system forces ['HarmonicBondForce', 'HarmonicAngleForce', 'PeriodicTorsionForce', 'NonbondedForce', 'MonteCarloBarostat']\n",
      "INFO:geometry:\tfinal no-nonbonded final system forces dict_keys(['HarmonicBondForce', 'HarmonicAngleForce', 'PeriodicTorsionForce', 'NonbondedForce'])\n",
      "INFO:geometry:\tthere are 11 bond forces in the no-nonbonded final system\n",
      "INFO:geometry:\tthere are 48 angle forces in the no-nonbonded final system\n",
      "INFO:geometry:\tthere are 72 torsion forces in the no-nonbonded final system\n",
      "INFO:geometry:forward final system defined with 0 neglected angles.\n"
     ]
    },
    {
     "name": "stdout",
     "output_type": "stream",
     "text": [
      "conducting subsequent work with the following platform: CUDA\n"
     ]
    },
    {
     "name": "stderr",
     "output_type": "stream",
     "text": [
      "INFO:geometry:total reduced potential before atom placement: 31.360407235469566\n"
     ]
    },
    {
     "name": "stdout",
     "output_type": "stream",
     "text": [
      "conducting subsequent work with the following platform: CUDA\n",
      "conducting subsequent work with the following platform: CUDA\n",
      "conducting subsequent work with the following platform: CUDA\n",
      "conducting subsequent work with the following platform: CUDA\n",
      "added energy components: [('CustomBondForce', 2.411877647126206), ('CustomAngleForce', 7.264472881715922), ('CustomTorsionForce', 5.471487897643217), ('CustomBondForce', -54.18400584426649)]"
     ]
    },
    {
     "name": "stderr",
     "output_type": "stream",
     "text": [
      "INFO:geometry:total reduced energy added from growth system: -39.036167417781144\n",
      "INFO:geometry:final reduced energy -7.67576256524467\n",
      "INFO:geometry:sum of energies: -7.675760182311578\n",
      "INFO:geometry:magnitude of difference in the energies: 2.3829330899616252e-06\n",
      "INFO:geometry:Final logp_proposal: 59.193265831910935\n",
      "INFO:geometry:logp_reverse: performing reverse proposal\n",
      "INFO:geometry:logp_reverse: unique new atoms detected; proceeding to _logp_propose...\n",
      "INFO:geometry:Conducting forward proposal...\n",
      "INFO:geometry:Computing proposal order with NetworkX...\n",
      "INFO:geometry:number of atoms to be placed: 3\n",
      "INFO:geometry:Atom index proposal order is [12, 11, 15]\n",
      "INFO:geometry:omitted_bonds: []\n",
      "INFO:geometry:direction of proposal is reverse; creating atoms_with_positions from old system/topology\n"
     ]
    },
    {
     "name": "stdout",
     "output_type": "stream",
     "text": [
      "\n"
     ]
    },
    {
     "name": "stderr",
     "output_type": "stream",
     "text": [
      "INFO:geometry:creating growth system...\n",
      "INFO:geometry:\tcreating bond force...\n",
      "INFO:geometry:\tthere are 9 bonds in reference force.\n",
      "INFO:geometry:\tcreating angle force...\n",
      "INFO:geometry:\tthere are 36 angles in reference force.\n",
      "INFO:geometry:\tcreating torsion force...\n",
      "INFO:geometry:\tcreating extra torsions force...\n",
      "INFO:geometry:\tthere are 42 torsions in reference force.\n",
      "INFO:geometry:\tcreating nonbonded force...\n",
      "INFO:geometry:\t\tgrabbing reference nonbonded method, cutoff, switching function, switching distance...\n",
      "INFO:geometry:\t\tcreating nonbonded exception force (i.e. custom bond for 1,4s)...\n",
      "INFO:geometry:\t\tlooping through exceptions calculating growth indices, and adding appropriate interactions to custom bond force.\n",
      "INFO:geometry:\t\tthere are 1625 in the reference Nonbonded force\n",
      "INFO:geometry:Neglected angle terms : []\n",
      "INFO:geometry:omitted_growth_terms: {'bonds': [], 'angles': [], 'torsions': [], '1,4s': []}\n",
      "INFO:geometry:extra torsions: {0: (6, 8, 10, 15, [1, Quantity(value=2.105358864604291, unit=radian), Quantity(value=1200.0, unit=kilocalorie/mole), 3]), 1: (6, 8, 10, 11, [1, Quantity(value=-2.0823006129211796, unit=radian), Quantity(value=1200.0, unit=kilocalorie/mole), 2]), 2: (6, 8, 10, 12, [1, Quantity(value=0.018582237407944735, unit=radian), Quantity(value=1200.0, unit=kilocalorie/mole), 1]), 3: (13, 8, 10, 15, [1, Quantity(value=-0.036945135932107576, unit=radian), Quantity(value=1200.0, unit=kilocalorie/mole), 3]), 4: (13, 8, 10, 11, [1, Quantity(value=2.0585806937220097, unit=radian), Quantity(value=1200.0, unit=kilocalorie/mole), 2]), 5: (13, 8, 10, 12, [1, Quantity(value=-2.1237217631284597, unit=radian), Quantity(value=1200.0, unit=kilocalorie/mole), 1]), 6: (9, 8, 10, 15, [1, Quantity(value=-2.119603470065817, unit=radian), Quantity(value=1200.0, unit=kilocalorie/mole), 3]), 7: (9, 8, 10, 11, [1, Quantity(value=-0.024077640411697132, unit=radian), Quantity(value=1200.0, unit=kilocalorie/mole), 2]), 8: (9, 8, 10, 12, [1, Quantity(value=2.0768052099174152, unit=radian), Quantity(value=1200.0, unit=kilocalorie/mole), 1])}\n",
      "INFO:geometry:neglected angle terms include []\n",
      "INFO:geometry:log probability choice of torsions and atom order: -5.0875963352323845\n",
      "INFO:geometry:creating platform, integrators, and contexts; setting growth parameter\n"
     ]
    },
    {
     "name": "stdout",
     "output_type": "stream",
     "text": [
      "conducting subsequent work with the following platform: CUDA\n"
     ]
    },
    {
     "name": "stderr",
     "output_type": "stream",
     "text": [
      "INFO:geometry:setting atoms_with_positions context old positions\n",
      "INFO:geometry:There are 3 new atoms\n",
      "INFO:geometry:\treduced angle potential = 0.2500528178763556.\n"
     ]
    },
    {
     "name": "stdout",
     "output_type": "stream",
     "text": [
      "conducting subsequent work with the following platform: CUDA\n"
     ]
    },
    {
     "name": "stderr",
     "output_type": "stream",
     "text": [
      "INFO:geometry:\treduced angle potential = 0.3096300511603986.\n",
      "INFO:geometry:\treduced angle potential = 0.8234539492149762.\n",
      "INFO:geometry:\tbeginning construction of no_nonbonded final system...\n",
      "INFO:geometry:\tinitial no-nonbonded final system forces ['HarmonicBondForce', 'HarmonicAngleForce', 'PeriodicTorsionForce', 'NonbondedForce', 'MonteCarloBarostat']\n",
      "INFO:geometry:\tfinal no-nonbonded final system forces dict_keys(['HarmonicBondForce', 'HarmonicAngleForce', 'PeriodicTorsionForce', 'NonbondedForce'])\n",
      "INFO:geometry:\tthere are 9 bond forces in the no-nonbonded final system\n",
      "INFO:geometry:\tthere are 36 angle forces in the no-nonbonded final system\n",
      "INFO:geometry:\tthere are 42 torsion forces in the no-nonbonded final system\n",
      "INFO:geometry:reverse final system defined with 0 neglected angles.\n"
     ]
    },
    {
     "name": "stdout",
     "output_type": "stream",
     "text": [
      "conducting subsequent work with the following platform: CUDA\n"
     ]
    },
    {
     "name": "stderr",
     "output_type": "stream",
     "text": [
      "INFO:geometry:total reduced potential before atom placement: 31.36040723546956\n"
     ]
    },
    {
     "name": "stdout",
     "output_type": "stream",
     "text": [
      "conducting subsequent work with the following platform: CUDA\n",
      "conducting subsequent work with the following platform: CUDA\n",
      "conducting subsequent work with the following platform: CUDA\n",
      "conducting subsequent work with the following platform: CUDA\n",
      "added energy components: [('CustomBondForce', 0.0), ('CustomAngleForce', 1.844563196308122), ('CustomTorsionForce', 0.31379335634681493), ('CustomBondForce', 8.21577368679069)]\n"
     ]
    },
    {
     "name": "stderr",
     "output_type": "stream",
     "text": [
      "INFO:geometry:total reduced energy added from growth system: 10.374130239445629\n",
      "INFO:geometry:final reduced energy 41.734536894734866\n",
      "INFO:geometry:sum of energies: 41.734537474915186\n",
      "INFO:geometry:magnitude of difference in the energies: 5.801803215632617e-07\n",
      "INFO:geometry:Final logp_proposal: -29567.071580180043\n",
      "INFO:setup:charge diff: 0\n",
      "INFO:relative:*** Generating RESTCapableHybridTopologyFactory ***\n",
      "INFO:relative:Old system forces: dict_keys(['HarmonicBondForce', 'HarmonicAngleForce', 'PeriodicTorsionForce', 'NonbondedForce', 'MonteCarloBarostat'])\n",
      "INFO:relative:New system forces: dict_keys(['HarmonicBondForce', 'HarmonicAngleForce', 'PeriodicTorsionForce', 'NonbondedForce', 'MonteCarloBarostat'])\n",
      "INFO:relative:No unknown forces.\n",
      "INFO:relative:r_cutoff is 1.0 nm\n",
      "INFO:relative:alpha_ewald is 2.7569734238004693\n",
      "INFO:relative:w_scale is 0.3\n",
      "INFO:relative:Creating hybrid system\n",
      "INFO:relative:Adding and mapping old atoms to hybrid system...\n",
      "INFO:relative:Adding and mapping new atoms to hybrid system...\n",
      "INFO:relative:Added MonteCarloBarostat.\n",
      "INFO:relative:getDefaultPeriodicBoxVectors added to hybrid: [Quantity(value=Vec3(x=2.7648, y=0.0, z=0.0), unit=nanometer), Quantity(value=Vec3(x=0.9215990612312835, y=2.6066787700707614, z=0.0), unit=nanometer), Quantity(value=Vec3(x=-0.9215990612312832, y=1.303337393606965, z=2.2574511841374156), unit=nanometer)]\n",
      "INFO:relative:Determined atom classes.\n",
      "INFO:relative:Computed hybrid positions\n",
      "INFO:relative:Created hybrid topology\n",
      "INFO:relative:Generating rest_region with query indices: [6, 7, 8, 9, 10, 11, 12, 13, 14, 15, 1551, 1552, 1553, 1554, 1555, 1556, 1557, 1558, 1559]\n",
      "INFO:relative:Rest radius: 0.3 nm\n",
      "INFO:relative:Rest region: [0, 1, 2, 3, 4, 5, 6, 7, 8, 9, 10, 11, 12, 13, 14, 15, 1551, 1552, 1553, 1554, 1555, 1556, 1557, 1558, 1559, 16, 17, 18, 19, 20, 21]\n",
      "INFO:relative:Prepped look up dict for determining if atom is solvent\n",
      "INFO:relative:Generating old system exceptions dict...\n",
      "INFO:relative:Generating new system exceptions dict...\n",
      "INFO:relative:Handling constraints...\n",
      "INFO:relative:Handling virtual sites...\n",
      "INFO:relative:\t_handle_virtual_sites: numVirtualSites: 0\n",
      "INFO:relative:Handling bonds...\n",
      "INFO:relative:Handling angles...\n",
      "INFO:relative:Handling torsions...\n",
      "INFO:relative:Handling nonbondeds (creating forces)...\n",
      "INFO:relative:Handling nonbondeds (copying nonbonded particles)...\n",
      "INFO:relative:Handling nonbondeds (copying nonbonded exceptions)...\n",
      "INFO:setup:Saving htfs as pickles\n",
      "INFO:setup:sterics expression: U_sterics; U_sterics = 4 * epsilon * x * (x - 1.0);x = (sigma / r_eff_sterics)^6;sigma = (sigma1 + sigma2) / 2; epsilon = sterics_rest_scale1 * sterics_rest_scale2 * sqrt(epsilon_combined); epsilon_combined = step(epsilon1 * epsilon2) * epsilon1 * epsilon2; r_eff_sterics = sqrt(r^2 + w_sterics^2); w_sterics = w_scale * r_cutoff * (is_unique_old * (1 - lambda_alchemical_sterics_old) + is_unique_new * (1 - lambda_alchemical_sterics_new)); is_unique_old = step(is_unique_old1 + is_unique_old2 - 0.1); is_unique_new = step(is_unique_new1 + is_unique_new2 - 0.1); w_scale = 0.3; r_cutoff = 1.0;\n",
      "INFO:setup:forces: [<openmm.openmm.MonteCarloBarostat; proxy of <Swig Object of type 'OpenMM::MonteCarloBarostat *' at 0x2b30d6c4ab70> >, <openmm.openmm.CustomBondForce; proxy of <Swig Object of type 'OpenMM::CustomBondForce *' at 0x2b30d6c4ad80> >, <openmm.openmm.CustomAngleForce; proxy of <Swig Object of type 'OpenMM::CustomAngleForce *' at 0x2b30d6c4a510> >, <openmm.openmm.CustomTorsionForce; proxy of <Swig Object of type 'OpenMM::CustomTorsionForce *' at 0x2b30d6c4af90> >, <openmm.openmm.CustomNonbondedForce; proxy of <Swig Object of type 'OpenMM::CustomNonbondedForce *' at 0x2b30d6c4aa80> >, <openmm.openmm.CustomNonbondedForce; proxy of <Swig Object of type 'OpenMM::CustomNonbondedForce *' at 0x2b30d6c4a210> >, <openmm.openmm.CustomBondForce; proxy of <Swig Object of type 'OpenMM::CustomBondForce *' at 0x2b30d6c4a270> >, <openmm.openmm.NonbondedForce; proxy of <Swig Object of type 'OpenMM::NonbondedForce *' at 0x2b30d6c4a3f0> >, <openmm.openmm.NonbondedForce; proxy of <Swig Object of type 'OpenMM::NonbondedForce *' at 0x2b30d6c4a2d0> >]\n",
      "INFO:setup:number of particles in apo: 1560\n",
      "INFO:setup:number of particles in apo rest region: 31\n"
     ]
    },
    {
     "name": "stdout",
     "output_type": "stream",
     "text": [
      "apo rest region atoms:\n",
      "ACE1-H1\n",
      "ACE1-CH3\n",
      "ACE1-H2\n",
      "ACE1-H3\n",
      "ACE1-C\n",
      "ACE1-O\n",
      "ALA2-N\n",
      "ALA2-H\n",
      "ALA2-CA\n",
      "ALA2-HA\n",
      "ALA2-CB\n",
      "ALA2-HB2\n",
      "ALA2-HB3\n",
      "ALA2-C\n",
      "ALA2-O\n",
      "ALA2-HB1\n",
      "ALA2-HB\n",
      "ALA2-CG1\n",
      "ALA2-HG11\n",
      "ALA2-HG12\n",
      "ALA2-HG13\n",
      "ALA2-CG2\n",
      "ALA2-HG21\n",
      "ALA2-HG22\n",
      "ALA2-HG23\n",
      "NME3-N\n",
      "NME3-H\n",
      "NME3-C\n",
      "NME3-H1\n",
      "NME3-H2\n",
      "NME3-H3\n"
     ]
    }
   ],
   "source": [
    "outdir = \"/data/chodera/zhangi/perses_benchmark/repex/38/6/\"\n",
    "residue = '2'\n",
    "mutant = 'VAL'\n",
    "\n",
    "apo_file = \"/data/chodera/zhangi/perses_benchmark/repex/38/6/equil/apo_equilibrated.cif\" \n",
    "\n",
    "solvent_delivery = generate_htf(outdir, residue, mutant, apo_file)"
   ]
  },
  {
   "cell_type": "code",
   "execution_count": 10,
   "id": "f32c5f83",
   "metadata": {
    "scrolled": true
   },
   "outputs": [
    {
     "name": "stderr",
     "output_type": "stream",
     "text": [
      "DEBUG:openmmforcefields.system_generators:Trying GAFFTemplateGenerator to load gaff-2.11\n"
     ]
    },
    {
     "name": "stdout",
     "output_type": "stream",
     "text": [
      "(Vec3(x=2.7648, y=0.0, z=0.0), Vec3(x=0.9215990612312835, y=2.6066787700707614, z=0.0), Vec3(x=-0.9215990612312832, y=1.303337393606965, z=2.2574511841374156)) nm\n"
     ]
    },
    {
     "name": "stderr",
     "output_type": "stream",
     "text": [
      "INFO:proposal_generator:\tConducting polymer point mutation proposal...\n",
      "INFO:proposal_generator:local_atom_map: {6: 6, 7: 7, 8: 8, 9: 9, 10: 10, 11: 11, 12: 12}\n",
      "INFO:proposal_generator:the mapped atom names are: [('N', 'N'), ('H', 'H'), ('CA', 'CA'), ('HA', 'HA'), ('CB', 'CB'), ('C', 'C'), ('O', 'O')]\n",
      "INFO:geometry:propose: performing forward proposal\n",
      "INFO:geometry:propose: unique new atoms detected; proceeding to _logp_propose...\n",
      "INFO:geometry:Conducting forward proposal...\n",
      "INFO:geometry:Computing proposal order with NetworkX...\n",
      "INFO:geometry:number of atoms to be placed: 3\n",
      "INFO:geometry:Atom index proposal order is [14, 15, 13]\n",
      "INFO:geometry:omitted_bonds: []\n",
      "INFO:geometry:direction of proposal is forward; creating atoms_with_positions and new positions from old system/topology...\n"
     ]
    },
    {
     "name": "stdout",
     "output_type": "stream",
     "text": [
      "[Quantity(value=Vec3(x=2.7648, y=0.0, z=0.0), unit=nanometer), Quantity(value=Vec3(x=0.9215990612312835, y=2.6066787700707614, z=0.0), unit=nanometer), Quantity(value=Vec3(x=-0.9215990612312832, y=1.303337393606965, z=2.2574511841374156), unit=nanometer)]\n",
      "True\n",
      "[Quantity(value=Vec3(x=2.7648, y=0.0, z=0.0), unit=nanometer), Quantity(value=Vec3(x=0.9215990612312835, y=2.6066787700707614, z=0.0), unit=nanometer), Quantity(value=Vec3(x=-0.9215990612312832, y=1.303337393606965, z=2.2574511841374156), unit=nanometer)]\n",
      "True\n"
     ]
    },
    {
     "name": "stderr",
     "output_type": "stream",
     "text": [
      "INFO:geometry:creating growth system...\n",
      "INFO:geometry:\tcreating bond force...\n",
      "INFO:geometry:\tthere are 9 bonds in reference force.\n",
      "INFO:geometry:\tcreating angle force...\n",
      "INFO:geometry:\tthere are 36 angles in reference force.\n",
      "INFO:geometry:\tcreating torsion force...\n",
      "INFO:geometry:\tcreating extra torsions force...\n",
      "INFO:geometry:\tthere are 42 torsions in reference force.\n",
      "INFO:geometry:\tcreating nonbonded force...\n",
      "INFO:geometry:\t\tgrabbing reference nonbonded method, cutoff, switching function, switching distance...\n",
      "INFO:geometry:\t\tcreating nonbonded exception force (i.e. custom bond for 1,4s)...\n",
      "INFO:geometry:\t\tlooping through exceptions calculating growth indices, and adding appropriate interactions to custom bond force.\n",
      "INFO:geometry:\t\tthere are 1625 in the reference Nonbonded force\n",
      "INFO:geometry:Neglected angle terms : []\n",
      "INFO:geometry:omitted_growth_terms: {'bonds': [], 'angles': [], 'torsions': [], '1,4s': []}\n",
      "INFO:geometry:extra torsions: {0: (6, 8, 10, 13, [1, Quantity(value=2.105358864604291, unit=radian), Quantity(value=1200.0, unit=kilocalorie/mole), 3]), 1: (6, 8, 10, 14, [1, Quantity(value=-2.0823006129211796, unit=radian), Quantity(value=1200.0, unit=kilocalorie/mole), 1]), 2: (6, 8, 10, 15, [1, Quantity(value=0.018582237407944735, unit=radian), Quantity(value=1200.0, unit=kilocalorie/mole), 2]), 3: (11, 8, 10, 13, [1, Quantity(value=-0.036945135932107576, unit=radian), Quantity(value=1200.0, unit=kilocalorie/mole), 3]), 4: (11, 8, 10, 14, [1, Quantity(value=2.0585806937220097, unit=radian), Quantity(value=1200.0, unit=kilocalorie/mole), 1]), 5: (11, 8, 10, 15, [1, Quantity(value=-2.1237217631284597, unit=radian), Quantity(value=1200.0, unit=kilocalorie/mole), 2]), 6: (9, 8, 10, 13, [1, Quantity(value=-2.119603470065817, unit=radian), Quantity(value=1200.0, unit=kilocalorie/mole), 3]), 7: (9, 8, 10, 14, [1, Quantity(value=-0.024077640411697132, unit=radian), Quantity(value=1200.0, unit=kilocalorie/mole), 1]), 8: (9, 8, 10, 15, [1, Quantity(value=2.0768052099174152, unit=radian), Quantity(value=1200.0, unit=kilocalorie/mole), 2])}\n",
      "INFO:geometry:neglected angle terms include []\n",
      "INFO:geometry:log probability choice of torsions and atom order: -5.0875963352323845\n",
      "INFO:geometry:creating platform, integrators, and contexts; setting growth parameter\n"
     ]
    },
    {
     "name": "stdout",
     "output_type": "stream",
     "text": [
      "conducting subsequent work with the following platform: CUDA\n"
     ]
    },
    {
     "name": "stderr",
     "output_type": "stream",
     "text": [
      "INFO:geometry:setting atoms_with_positions context new positions\n",
      "INFO:geometry:There are 3 new atoms\n",
      "INFO:geometry:\treduced angle potential = 0.35430577936751706.\n"
     ]
    },
    {
     "name": "stdout",
     "output_type": "stream",
     "text": [
      "conducting subsequent work with the following platform: CUDA\n"
     ]
    },
    {
     "name": "stderr",
     "output_type": "stream",
     "text": [
      "INFO:geometry:\treduced angle potential = 0.6290679100855561.\n",
      "INFO:geometry:\treduced angle potential = 0.49557166171190703.\n",
      "INFO:geometry:\tbeginning construction of no_nonbonded final system...\n",
      "INFO:geometry:\tinitial no-nonbonded final system forces ['HarmonicBondForce', 'HarmonicAngleForce', 'PeriodicTorsionForce', 'NonbondedForce', 'MonteCarloBarostat']\n",
      "INFO:geometry:\tfinal no-nonbonded final system forces dict_keys(['HarmonicBondForce', 'HarmonicAngleForce', 'PeriodicTorsionForce', 'NonbondedForce'])\n",
      "INFO:geometry:\tthere are 9 bond forces in the no-nonbonded final system\n",
      "INFO:geometry:\tthere are 36 angle forces in the no-nonbonded final system\n",
      "INFO:geometry:\tthere are 42 torsion forces in the no-nonbonded final system\n",
      "INFO:geometry:forward final system defined with 0 neglected angles.\n"
     ]
    },
    {
     "name": "stdout",
     "output_type": "stream",
     "text": [
      "conducting subsequent work with the following platform: CUDA\n"
     ]
    },
    {
     "name": "stderr",
     "output_type": "stream",
     "text": [
      "INFO:geometry:total reduced potential before atom placement: 38.25919315206918\n"
     ]
    },
    {
     "name": "stdout",
     "output_type": "stream",
     "text": [
      "conducting subsequent work with the following platform: CUDA\n",
      "conducting subsequent work with the following platform: CUDA\n",
      "conducting subsequent work with the following platform: CUDA\n",
      "conducting subsequent work with the following platform: CUDA\n"
     ]
    },
    {
     "name": "stderr",
     "output_type": "stream",
     "text": [
      "INFO:geometry:total reduced energy added from growth system: 10.220697612298384\n",
      "INFO:geometry:final reduced energy 48.479890348247565\n",
      "INFO:geometry:sum of energies: 48.47989076436757\n",
      "INFO:geometry:magnitude of difference in the energies: 4.161199989027864e-07\n",
      "INFO:geometry:Final logp_proposal: 18.16308142669945\n",
      "INFO:geometry:logp_reverse: performing reverse proposal\n",
      "INFO:geometry:logp_reverse: unique new atoms detected; proceeding to _logp_propose...\n",
      "INFO:geometry:Conducting forward proposal...\n",
      "INFO:geometry:Computing proposal order with NetworkX...\n",
      "INFO:geometry:number of atoms to be placed: 9\n",
      "INFO:geometry:Atom index proposal order is [18, 14, 16, 13, 15, 21, 19, 17, 20]\n",
      "INFO:geometry:omitted_bonds: []\n",
      "INFO:geometry:direction of proposal is reverse; creating atoms_with_positions from old system/topology\n"
     ]
    },
    {
     "name": "stdout",
     "output_type": "stream",
     "text": [
      "added energy components: [('CustomBondForce', 0.0), ('CustomAngleForce', 1.800348381275976), ('CustomTorsionForce', 0.009578743671898359), ('CustomBondForce', 8.41077048735051)]\n"
     ]
    },
    {
     "name": "stderr",
     "output_type": "stream",
     "text": [
      "INFO:geometry:creating growth system...\n",
      "INFO:geometry:\tcreating bond force...\n",
      "INFO:geometry:\tthere are 11 bonds in reference force.\n",
      "INFO:geometry:\tcreating angle force...\n",
      "INFO:geometry:\tthere are 48 angles in reference force.\n",
      "INFO:geometry:\tcreating torsion force...\n",
      "INFO:geometry:\tcreating extra torsions force...\n",
      "INFO:geometry:\tthere are 72 torsions in reference force.\n",
      "INFO:geometry:\tcreating nonbonded force...\n",
      "INFO:geometry:\t\tgrabbing reference nonbonded method, cutoff, switching function, switching distance...\n",
      "INFO:geometry:\t\tcreating nonbonded exception force (i.e. custom bond for 1,4s)...\n",
      "INFO:geometry:\t\tlooping through exceptions calculating growth indices, and adding appropriate interactions to custom bond force.\n",
      "INFO:geometry:\t\tthere are 1661 in the reference Nonbonded force\n",
      "INFO:geometry:Neglected angle terms : []\n",
      "INFO:geometry:omitted_growth_terms: {'bonds': [], 'angles': [], 'torsions': [], '1,4s': []}\n",
      "INFO:geometry:extra torsions: {0: (21, 18, 10, 8, [1, Quantity(value=1.9981389705773298, unit=radian), Quantity(value=1200.0, unit=kilocalorie/mole), 6]), 1: (21, 18, 10, 14, [1, Quantity(value=-2.0401911568003106, unit=radian), Quantity(value=1200.0, unit=kilocalorie/mole), 6]), 2: (21, 18, 10, 13, [1, Quantity(value=-0.06649729619875622, unit=radian), Quantity(value=1200.0, unit=kilocalorie/mole), 6]), 3: (19, 18, 10, 8, [1, Quantity(value=-2.1800972523408655, unit=radian), Quantity(value=1200.0, unit=kilocalorie/mole), 7]), 4: (19, 18, 10, 14, [1, Quantity(value=0.06475792746107922, unit=radian), Quantity(value=1200.0, unit=kilocalorie/mole), 7]), 5: (19, 18, 10, 13, [1, Quantity(value=2.0384517880626345, unit=radian), Quantity(value=1200.0, unit=kilocalorie/mole), 7]), 6: (20, 18, 10, 8, [1, Quantity(value=-0.10891190198927347, unit=radian), Quantity(value=1200.0, unit=kilocalorie/mole), 9]), 7: (20, 18, 10, 14, [1, Quantity(value=2.1359432778126726, unit=radian), Quantity(value=1200.0, unit=kilocalorie/mole), 9]), 8: (20, 18, 10, 13, [1, Quantity(value=-2.1735481687653593, unit=radian), Quantity(value=1200.0, unit=kilocalorie/mole), 9]), 9: (8, 10, 14, 15, [1, Quantity(value=-2.103125396700225, unit=radian), Quantity(value=1200.0, unit=kilocalorie/mole), 5]), 10: (8, 10, 14, 17, [1, Quantity(value=2.069407999821502, unit=radian), Quantity(value=1200.0, unit=kilocalorie/mole), 8]), 11: (8, 10, 14, 16, [1, Quantity(value=0.01097669629550957, unit=radian), Quantity(value=1200.0, unit=kilocalorie/mole), 3]), 12: (18, 10, 14, 15, [1, Quantity(value=1.9612585028870029, unit=radian), Quantity(value=1200.0, unit=kilocalorie/mole), 5]), 13: (18, 10, 14, 17, [1, Quantity(value=-0.1493934077708552, unit=radian), Quantity(value=1200.0, unit=kilocalorie/mole), 8]), 14: (18, 10, 14, 16, [1, Quantity(value=-2.2078247112968405, unit=radian), Quantity(value=1200.0, unit=kilocalorie/mole), 3]), 15: (13, 10, 14, 15, [1, Quantity(value=-0.02023300101279002, unit=radian), Quantity(value=1200.0, unit=kilocalorie/mole), 5]), 16: (13, 10, 14, 17, [1, Quantity(value=-2.1308849116706465, unit=radian), Quantity(value=1200.0, unit=kilocalorie/mole), 8]), 17: (13, 10, 14, 16, [1, Quantity(value=2.0938690919829557, unit=radian), Quantity(value=1200.0, unit=kilocalorie/mole), 4])}\n",
      "INFO:geometry:neglected angle terms include []\n",
      "INFO:geometry:log probability choice of torsions and atom order: -18.51803247473623\n",
      "INFO:geometry:creating platform, integrators, and contexts; setting growth parameter\n"
     ]
    },
    {
     "name": "stdout",
     "output_type": "stream",
     "text": [
      "conducting subsequent work with the following platform: CUDA\n"
     ]
    },
    {
     "name": "stderr",
     "output_type": "stream",
     "text": [
      "INFO:geometry:setting atoms_with_positions context old positions\n"
     ]
    },
    {
     "name": "stdout",
     "output_type": "stream",
     "text": [
      "conducting subsequent work with the following platform: CUDA\n"
     ]
    },
    {
     "name": "stderr",
     "output_type": "stream",
     "text": [
      "INFO:geometry:There are 9 new atoms\n",
      "INFO:geometry:\treduced angle potential = 0.02426288338813228.\n",
      "INFO:geometry:\treduced angle potential = 0.0017342483364864334.\n",
      "INFO:geometry:\treduced angle potential = 0.012265957085939472.\n",
      "INFO:geometry:\treduced angle potential = 1.6918548618323939.\n",
      "INFO:geometry:\treduced angle potential = 0.24786474747556608.\n",
      "INFO:geometry:\treduced angle potential = 0.03418713711432836.\n",
      "INFO:geometry:\treduced angle potential = 0.9534072956438477.\n",
      "INFO:geometry:\treduced angle potential = 0.06577552940552393.\n",
      "INFO:geometry:\treduced angle potential = 0.20180391991953087.\n",
      "INFO:geometry:\tbeginning construction of no_nonbonded final system...\n",
      "INFO:geometry:\tinitial no-nonbonded final system forces ['HarmonicBondForce', 'HarmonicAngleForce', 'PeriodicTorsionForce', 'NonbondedForce', 'MonteCarloBarostat']\n",
      "INFO:geometry:\tfinal no-nonbonded final system forces dict_keys(['HarmonicBondForce', 'HarmonicAngleForce', 'PeriodicTorsionForce', 'NonbondedForce'])\n",
      "INFO:geometry:\tthere are 11 bond forces in the no-nonbonded final system\n",
      "INFO:geometry:\tthere are 48 angle forces in the no-nonbonded final system\n",
      "INFO:geometry:\tthere are 72 torsion forces in the no-nonbonded final system\n",
      "INFO:geometry:reverse final system defined with 0 neglected angles.\n"
     ]
    },
    {
     "name": "stdout",
     "output_type": "stream",
     "text": [
      "conducting subsequent work with the following platform: CUDA\n"
     ]
    },
    {
     "name": "stderr",
     "output_type": "stream",
     "text": [
      "INFO:geometry:total reduced potential before atom placement: 38.25919315206918\n"
     ]
    },
    {
     "name": "stdout",
     "output_type": "stream",
     "text": [
      "conducting subsequent work with the following platform: CUDA\n",
      "conducting subsequent work with the following platform: CUDA\n",
      "conducting subsequent work with the following platform: CUDA\n",
      "conducting subsequent work with the following platform: CUDA\n"
     ]
    },
    {
     "name": "stderr",
     "output_type": "stream",
     "text": [
      "INFO:geometry:total reduced energy added from growth system: -43.5245826250011\n",
      "INFO:geometry:final reduced energy -5.265391459546188\n",
      "INFO:geometry:sum of energies: -5.265389472931922\n",
      "INFO:geometry:magnitude of difference in the energies: 1.986614265092612e-06\n",
      "INFO:geometry:Final logp_proposal: -4809.425521748758\n",
      "INFO:setup:charge diff: 0\n",
      "INFO:relative:*** Generating RESTCapableHybridTopologyFactory ***\n"
     ]
    },
    {
     "name": "stdout",
     "output_type": "stream",
     "text": [
      "added energy components: [('CustomBondForce', 0.7739761929470015), ('CustomAngleForce', 5.851901320036396), ('CustomTorsionForce', 5.638422801555334), ('CustomBondForce', -55.78888293953983)]\n"
     ]
    },
    {
     "name": "stderr",
     "output_type": "stream",
     "text": [
      "INFO:relative:Old system forces: dict_keys(['HarmonicBondForce', 'HarmonicAngleForce', 'PeriodicTorsionForce', 'NonbondedForce', 'MonteCarloBarostat'])\n",
      "INFO:relative:New system forces: dict_keys(['HarmonicBondForce', 'HarmonicAngleForce', 'PeriodicTorsionForce', 'NonbondedForce', 'MonteCarloBarostat'])\n",
      "INFO:relative:No unknown forces.\n",
      "INFO:relative:r_cutoff is 1.0 nm\n",
      "INFO:relative:alpha_ewald is 2.7569734238004693\n",
      "INFO:relative:w_scale is 0.3\n",
      "INFO:relative:Creating hybrid system\n",
      "INFO:relative:Adding and mapping old atoms to hybrid system...\n",
      "INFO:relative:Adding and mapping new atoms to hybrid system...\n",
      "INFO:relative:Added MonteCarloBarostat.\n",
      "INFO:relative:getDefaultPeriodicBoxVectors added to hybrid: [Quantity(value=Vec3(x=2.7648, y=0.0, z=0.0), unit=nanometer), Quantity(value=Vec3(x=0.9215990612312835, y=2.6066787700707614, z=0.0), unit=nanometer), Quantity(value=Vec3(x=-0.9215990612312832, y=1.303337393606965, z=2.2574511841374156), unit=nanometer)]\n",
      "INFO:relative:Determined atom classes.\n",
      "INFO:relative:Computed hybrid positions\n",
      "INFO:relative:Created hybrid topology\n",
      "INFO:relative:Generating rest_region with query indices: [6, 7, 8, 9, 10, 11, 12, 13, 14, 15, 16, 17, 18, 19, 20, 21, 1557, 1558, 1559]\n",
      "INFO:relative:Rest radius: 0.3 nm\n",
      "INFO:relative:Rest region: [0, 1, 2, 3, 4, 5, 6, 7, 8, 9, 10, 11, 12, 13, 14, 15, 16, 17, 18, 19, 20, 21, 1557, 1558, 1559, 22, 23, 24, 25, 26, 27]\n",
      "INFO:relative:Prepped look up dict for determining if atom is solvent\n",
      "INFO:relative:Generating old system exceptions dict...\n",
      "INFO:relative:Generating new system exceptions dict...\n",
      "INFO:relative:Handling constraints...\n",
      "INFO:relative:Handling virtual sites...\n",
      "INFO:relative:\t_handle_virtual_sites: numVirtualSites: 0\n",
      "INFO:relative:Handling bonds...\n",
      "INFO:relative:Handling angles...\n",
      "INFO:relative:Handling torsions...\n",
      "INFO:relative:Handling nonbondeds (creating forces)...\n",
      "INFO:relative:Handling nonbondeds (copying nonbonded particles)...\n",
      "INFO:relative:Handling nonbondeds (copying nonbonded exceptions)...\n",
      "INFO:setup:Saving htfs as pickles\n",
      "INFO:setup:sterics expression: U_sterics; U_sterics = 4 * epsilon * x * (x - 1.0);x = (sigma / r_eff_sterics)^6;sigma = (sigma1 + sigma2) / 2; epsilon = sterics_rest_scale1 * sterics_rest_scale2 * sqrt(epsilon_combined); epsilon_combined = step(epsilon1 * epsilon2) * epsilon1 * epsilon2; r_eff_sterics = sqrt(r^2 + w_sterics^2); w_sterics = w_scale * r_cutoff * (is_unique_old * (1 - lambda_alchemical_sterics_old) + is_unique_new * (1 - lambda_alchemical_sterics_new)); is_unique_old = step(is_unique_old1 + is_unique_old2 - 0.1); is_unique_new = step(is_unique_new1 + is_unique_new2 - 0.1); w_scale = 0.3; r_cutoff = 1.0;\n",
      "INFO:setup:forces: [<openmm.openmm.MonteCarloBarostat; proxy of <Swig Object of type 'OpenMM::MonteCarloBarostat *' at 0x2b30d23a93c0> >, <openmm.openmm.CustomBondForce; proxy of <Swig Object of type 'OpenMM::CustomBondForce *' at 0x2b30d23a97e0> >, <openmm.openmm.CustomAngleForce; proxy of <Swig Object of type 'OpenMM::CustomAngleForce *' at 0x2b30d23a96f0> >, <openmm.openmm.CustomTorsionForce; proxy of <Swig Object of type 'OpenMM::CustomTorsionForce *' at 0x2b30d23a9300> >, <openmm.openmm.CustomNonbondedForce; proxy of <Swig Object of type 'OpenMM::CustomNonbondedForce *' at 0x2b30d23a9330> >, <openmm.openmm.CustomNonbondedForce; proxy of <Swig Object of type 'OpenMM::CustomNonbondedForce *' at 0x2b30d23a9f60> >, <openmm.openmm.CustomBondForce; proxy of <Swig Object of type 'OpenMM::CustomBondForce *' at 0x2b30d23a9cc0> >, <openmm.openmm.NonbondedForce; proxy of <Swig Object of type 'OpenMM::NonbondedForce *' at 0x2b30d23a9180> >, <openmm.openmm.NonbondedForce; proxy of <Swig Object of type 'OpenMM::NonbondedForce *' at 0x2b30d23a9f00> >]\n",
      "INFO:setup:number of particles in apo: 1560\n",
      "INFO:setup:number of particles in apo rest region: 31\n"
     ]
    },
    {
     "name": "stdout",
     "output_type": "stream",
     "text": [
      "apo rest region atoms:\n",
      "ACE1-H1\n",
      "ACE1-CH3\n",
      "ACE1-H2\n",
      "ACE1-H3\n",
      "ACE1-C\n",
      "ACE1-O\n",
      "VAL2-N\n",
      "VAL2-H\n",
      "VAL2-CA\n",
      "VAL2-HA\n",
      "VAL2-CB\n",
      "VAL2-C\n",
      "VAL2-O\n",
      "VAL2-HB\n",
      "VAL2-CG1\n",
      "VAL2-HG11\n",
      "VAL2-HG12\n",
      "VAL2-HG13\n",
      "VAL2-CG2\n",
      "VAL2-HG21\n",
      "VAL2-HG22\n",
      "VAL2-HG23\n",
      "VAL2-HB1\n",
      "VAL2-HB2\n",
      "VAL2-HB3\n",
      "NME3-N\n",
      "NME3-H\n",
      "NME3-C\n",
      "NME3-H1\n",
      "NME3-H2\n",
      "NME3-H3\n"
     ]
    }
   ],
   "source": [
    " outdir = \"/data/chodera/zhangi/perses_benchmark/repex/38/7/\"\n",
    "residue = '2'\n",
    "mutant = 'ALA'\n",
    "\n",
    "apo_file = \"/data/chodera/zhangi/perses_benchmark/repex/38/7/equil/apo_equilibrated.cif\" \n",
    "\n",
    "solvent_delivery = generate_htf(outdir, residue, mutant, apo_file)"
   ]
  },
  {
   "cell_type": "code",
   "execution_count": 13,
   "id": "31efaa36",
   "metadata": {},
   "outputs": [
    {
     "name": "stdout",
     "output_type": "stream",
     "text": [
      "0 ACE1-H1 3.0 Da\n",
      "1 ACE1-CH3 6.034 Da\n",
      "2 ACE1-H2 3.0 Da\n",
      "3 ACE1-H3 3.0 Da\n",
      "4 ACE1-C 12.01 Da\n",
      "5 ACE1-O 16.0 Da\n",
      "6 VAL2-N 12.018 Da\n",
      "7 VAL2-H 3.0 Da\n",
      "8 VAL2-CA 10.018 Da\n",
      "9 VAL2-HA 3.0 Da\n",
      "10 VAL2-CB 8.026 Da\n",
      "11 VAL2-C 12.01 Da\n",
      "12 VAL2-O 16.0 Da\n",
      "13 VAL2-HB 3.0 Da\n",
      "14 VAL2-CG1 6.034 Da\n",
      "15 VAL2-HG11 3.0 Da\n",
      "16 VAL2-HG12 3.0 Da\n",
      "17 VAL2-HG13 3.0 Da\n",
      "18 VAL2-CG2 6.034 Da\n",
      "19 VAL2-HG21 3.0 Da\n",
      "20 VAL2-HG22 3.0 Da\n",
      "21 VAL2-HG23 3.0 Da\n",
      "1557 VAL2-HB1 3.0 Da\n",
      "1558 VAL2-HB2 3.0 Da\n",
      "1559 VAL2-HB3 3.0 Da\n",
      "22 NME3-N 12.018 Da\n",
      "23 NME3-H 3.0 Da\n",
      "24 NME3-C 6.034 Da\n",
      "25 NME3-H1 3.0 Da\n",
      "26 NME3-H2 3.0 Da\n",
      "27 NME3-H3 3.0 Da\n",
      "28 HOH4-O 15.99943 Da\n",
      "29 HOH4-H1 1.007947 Da\n",
      "30 HOH4-H2 1.007947 Da\n",
      "31 HOH5-O 15.99943 Da\n",
      "32 HOH5-H1 1.007947 Da\n",
      "33 HOH5-H2 1.007947 Da\n",
      "34 HOH6-O 15.99943 Da\n",
      "35 HOH6-H1 1.007947 Da\n",
      "36 HOH6-H2 1.007947 Da\n",
      "37 HOH7-O 15.99943 Da\n",
      "38 HOH7-H1 1.007947 Da\n",
      "39 HOH7-H2 1.007947 Da\n",
      "40 HOH8-O 15.99943 Da\n",
      "41 HOH8-H1 1.007947 Da\n",
      "42 HOH8-H2 1.007947 Da\n",
      "43 HOH9-O 15.99943 Da\n",
      "44 HOH9-H1 1.007947 Da\n",
      "45 HOH9-H2 1.007947 Da\n",
      "46 HOH10-O 15.99943 Da\n",
      "47 HOH10-H1 1.007947 Da\n",
      "48 HOH10-H2 1.007947 Da\n",
      "49 HOH11-O 15.99943 Da\n",
      "50 HOH11-H1 1.007947 Da\n",
      "51 HOH11-H2 1.007947 Da\n",
      "52 HOH12-O 15.99943 Da\n",
      "53 HOH12-H1 1.007947 Da\n",
      "54 HOH12-H2 1.007947 Da\n",
      "55 HOH13-O 15.99943 Da\n",
      "56 HOH13-H1 1.007947 Da\n",
      "57 HOH13-H2 1.007947 Da\n",
      "58 HOH14-O 15.99943 Da\n",
      "59 HOH14-H1 1.007947 Da\n",
      "60 HOH14-H2 1.007947 Da\n",
      "61 HOH15-O 15.99943 Da\n",
      "62 HOH15-H1 1.007947 Da\n",
      "63 HOH15-H2 1.007947 Da\n",
      "64 HOH16-O 15.99943 Da\n",
      "65 HOH16-H1 1.007947 Da\n",
      "66 HOH16-H2 1.007947 Da\n",
      "67 HOH17-O 15.99943 Da\n",
      "68 HOH17-H1 1.007947 Da\n",
      "69 HOH17-H2 1.007947 Da\n",
      "70 HOH18-O 15.99943 Da\n",
      "71 HOH18-H1 1.007947 Da\n",
      "72 HOH18-H2 1.007947 Da\n",
      "73 HOH19-O 15.99943 Da\n",
      "74 HOH19-H1 1.007947 Da\n",
      "75 HOH19-H2 1.007947 Da\n",
      "76 HOH20-O 15.99943 Da\n",
      "77 HOH20-H1 1.007947 Da\n",
      "78 HOH20-H2 1.007947 Da\n",
      "79 HOH21-O 15.99943 Da\n",
      "80 HOH21-H1 1.007947 Da\n",
      "81 HOH21-H2 1.007947 Da\n",
      "82 HOH22-O 15.99943 Da\n",
      "83 HOH22-H1 1.007947 Da\n",
      "84 HOH22-H2 1.007947 Da\n",
      "85 HOH23-O 15.99943 Da\n",
      "86 HOH23-H1 1.007947 Da\n",
      "87 HOH23-H2 1.007947 Da\n",
      "88 HOH24-O 15.99943 Da\n",
      "89 HOH24-H1 1.007947 Da\n",
      "90 HOH24-H2 1.007947 Da\n",
      "91 HOH25-O 15.99943 Da\n",
      "92 HOH25-H1 1.007947 Da\n",
      "93 HOH25-H2 1.007947 Da\n",
      "94 HOH26-O 15.99943 Da\n",
      "95 HOH26-H1 1.007947 Da\n",
      "96 HOH26-H2 1.007947 Da\n",
      "97 HOH27-O 15.99943 Da\n",
      "98 HOH27-H1 1.007947 Da\n",
      "99 HOH27-H2 1.007947 Da\n",
      "100 HOH28-O 15.99943 Da\n",
      "101 HOH28-H1 1.007947 Da\n",
      "102 HOH28-H2 1.007947 Da\n",
      "103 HOH29-O 15.99943 Da\n",
      "104 HOH29-H1 1.007947 Da\n",
      "105 HOH29-H2 1.007947 Da\n",
      "106 HOH30-O 15.99943 Da\n",
      "107 HOH30-H1 1.007947 Da\n",
      "108 HOH30-H2 1.007947 Da\n",
      "109 HOH31-O 15.99943 Da\n",
      "110 HOH31-H1 1.007947 Da\n",
      "111 HOH31-H2 1.007947 Da\n",
      "112 HOH32-O 15.99943 Da\n",
      "113 HOH32-H1 1.007947 Da\n",
      "114 HOH32-H2 1.007947 Da\n",
      "115 HOH33-O 15.99943 Da\n",
      "116 HOH33-H1 1.007947 Da\n",
      "117 HOH33-H2 1.007947 Da\n",
      "118 HOH34-O 15.99943 Da\n",
      "119 HOH34-H1 1.007947 Da\n",
      "120 HOH34-H2 1.007947 Da\n",
      "121 HOH35-O 15.99943 Da\n",
      "122 HOH35-H1 1.007947 Da\n",
      "123 HOH35-H2 1.007947 Da\n",
      "124 HOH36-O 15.99943 Da\n",
      "125 HOH36-H1 1.007947 Da\n",
      "126 HOH36-H2 1.007947 Da\n",
      "127 HOH37-O 15.99943 Da\n",
      "128 HOH37-H1 1.007947 Da\n",
      "129 HOH37-H2 1.007947 Da\n",
      "130 HOH38-O 15.99943 Da\n",
      "131 HOH38-H1 1.007947 Da\n",
      "132 HOH38-H2 1.007947 Da\n",
      "133 HOH39-O 15.99943 Da\n",
      "134 HOH39-H1 1.007947 Da\n",
      "135 HOH39-H2 1.007947 Da\n",
      "136 HOH40-O 15.99943 Da\n",
      "137 HOH40-H1 1.007947 Da\n",
      "138 HOH40-H2 1.007947 Da\n",
      "139 HOH41-O 15.99943 Da\n",
      "140 HOH41-H1 1.007947 Da\n",
      "141 HOH41-H2 1.007947 Da\n",
      "142 HOH42-O 15.99943 Da\n",
      "143 HOH42-H1 1.007947 Da\n",
      "144 HOH42-H2 1.007947 Da\n",
      "145 HOH43-O 15.99943 Da\n",
      "146 HOH43-H1 1.007947 Da\n",
      "147 HOH43-H2 1.007947 Da\n",
      "148 HOH44-O 15.99943 Da\n",
      "149 HOH44-H1 1.007947 Da\n",
      "150 HOH44-H2 1.007947 Da\n",
      "151 HOH45-O 15.99943 Da\n",
      "152 HOH45-H1 1.007947 Da\n",
      "153 HOH45-H2 1.007947 Da\n",
      "154 HOH46-O 15.99943 Da\n",
      "155 HOH46-H1 1.007947 Da\n",
      "156 HOH46-H2 1.007947 Da\n",
      "157 HOH47-O 15.99943 Da\n",
      "158 HOH47-H1 1.007947 Da\n",
      "159 HOH47-H2 1.007947 Da\n",
      "160 HOH48-O 15.99943 Da\n",
      "161 HOH48-H1 1.007947 Da\n",
      "162 HOH48-H2 1.007947 Da\n",
      "163 HOH49-O 15.99943 Da\n",
      "164 HOH49-H1 1.007947 Da\n",
      "165 HOH49-H2 1.007947 Da\n",
      "166 HOH50-O 15.99943 Da\n",
      "167 HOH50-H1 1.007947 Da\n",
      "168 HOH50-H2 1.007947 Da\n",
      "169 HOH51-O 15.99943 Da\n",
      "170 HOH51-H1 1.007947 Da\n",
      "171 HOH51-H2 1.007947 Da\n",
      "172 HOH52-O 15.99943 Da\n",
      "173 HOH52-H1 1.007947 Da\n",
      "174 HOH52-H2 1.007947 Da\n",
      "175 HOH53-O 15.99943 Da\n",
      "176 HOH53-H1 1.007947 Da\n",
      "177 HOH53-H2 1.007947 Da\n",
      "178 HOH54-O 15.99943 Da\n",
      "179 HOH54-H1 1.007947 Da\n",
      "180 HOH54-H2 1.007947 Da\n",
      "181 HOH55-O 15.99943 Da\n",
      "182 HOH55-H1 1.007947 Da\n",
      "183 HOH55-H2 1.007947 Da\n",
      "184 HOH56-O 15.99943 Da\n",
      "185 HOH56-H1 1.007947 Da\n",
      "186 HOH56-H2 1.007947 Da\n",
      "187 HOH57-O 15.99943 Da\n",
      "188 HOH57-H1 1.007947 Da\n",
      "189 HOH57-H2 1.007947 Da\n",
      "190 HOH58-O 15.99943 Da\n",
      "191 HOH58-H1 1.007947 Da\n",
      "192 HOH58-H2 1.007947 Da\n",
      "193 HOH59-O 15.99943 Da\n",
      "194 HOH59-H1 1.007947 Da\n",
      "195 HOH59-H2 1.007947 Da\n",
      "196 HOH60-O 15.99943 Da\n",
      "197 HOH60-H1 1.007947 Da\n",
      "198 HOH60-H2 1.007947 Da\n",
      "199 HOH61-O 15.99943 Da\n",
      "200 HOH61-H1 1.007947 Da\n",
      "201 HOH61-H2 1.007947 Da\n",
      "202 HOH62-O 15.99943 Da\n",
      "203 HOH62-H1 1.007947 Da\n",
      "204 HOH62-H2 1.007947 Da\n",
      "205 HOH63-O 15.99943 Da\n",
      "206 HOH63-H1 1.007947 Da\n",
      "207 HOH63-H2 1.007947 Da\n",
      "208 HOH64-O 15.99943 Da\n",
      "209 HOH64-H1 1.007947 Da\n",
      "210 HOH64-H2 1.007947 Da\n",
      "211 HOH65-O 15.99943 Da\n",
      "212 HOH65-H1 1.007947 Da\n",
      "213 HOH65-H2 1.007947 Da\n",
      "214 HOH66-O 15.99943 Da\n",
      "215 HOH66-H1 1.007947 Da\n",
      "216 HOH66-H2 1.007947 Da\n",
      "217 HOH67-O 15.99943 Da\n",
      "218 HOH67-H1 1.007947 Da\n",
      "219 HOH67-H2 1.007947 Da\n",
      "220 HOH68-O 15.99943 Da\n",
      "221 HOH68-H1 1.007947 Da\n",
      "222 HOH68-H2 1.007947 Da\n",
      "223 HOH69-O 15.99943 Da\n",
      "224 HOH69-H1 1.007947 Da\n",
      "225 HOH69-H2 1.007947 Da\n",
      "226 HOH70-O 15.99943 Da\n",
      "227 HOH70-H1 1.007947 Da\n",
      "228 HOH70-H2 1.007947 Da\n",
      "229 HOH71-O 15.99943 Da\n",
      "230 HOH71-H1 1.007947 Da\n",
      "231 HOH71-H2 1.007947 Da\n",
      "232 HOH72-O 15.99943 Da\n",
      "233 HOH72-H1 1.007947 Da\n",
      "234 HOH72-H2 1.007947 Da\n",
      "235 HOH73-O 15.99943 Da\n",
      "236 HOH73-H1 1.007947 Da\n",
      "237 HOH73-H2 1.007947 Da\n",
      "238 HOH74-O 15.99943 Da\n",
      "239 HOH74-H1 1.007947 Da\n",
      "240 HOH74-H2 1.007947 Da\n",
      "241 HOH75-O 15.99943 Da\n",
      "242 HOH75-H1 1.007947 Da\n",
      "243 HOH75-H2 1.007947 Da\n",
      "244 HOH76-O 15.99943 Da\n",
      "245 HOH76-H1 1.007947 Da\n",
      "246 HOH76-H2 1.007947 Da\n",
      "247 HOH77-O 15.99943 Da\n",
      "248 HOH77-H1 1.007947 Da\n",
      "249 HOH77-H2 1.007947 Da\n",
      "250 HOH78-O 15.99943 Da\n",
      "251 HOH78-H1 1.007947 Da\n",
      "252 HOH78-H2 1.007947 Da\n",
      "253 HOH79-O 15.99943 Da\n",
      "254 HOH79-H1 1.007947 Da\n",
      "255 HOH79-H2 1.007947 Da\n",
      "256 HOH80-O 15.99943 Da\n",
      "257 HOH80-H1 1.007947 Da\n",
      "258 HOH80-H2 1.007947 Da\n",
      "259 HOH81-O 15.99943 Da\n",
      "260 HOH81-H1 1.007947 Da\n",
      "261 HOH81-H2 1.007947 Da\n",
      "262 HOH82-O 15.99943 Da\n",
      "263 HOH82-H1 1.007947 Da\n",
      "264 HOH82-H2 1.007947 Da\n",
      "265 HOH83-O 15.99943 Da\n",
      "266 HOH83-H1 1.007947 Da\n",
      "267 HOH83-H2 1.007947 Da\n",
      "268 HOH84-O 15.99943 Da\n",
      "269 HOH84-H1 1.007947 Da\n",
      "270 HOH84-H2 1.007947 Da\n",
      "271 HOH85-O 15.99943 Da\n",
      "272 HOH85-H1 1.007947 Da\n",
      "273 HOH85-H2 1.007947 Da\n",
      "274 HOH86-O 15.99943 Da\n",
      "275 HOH86-H1 1.007947 Da\n",
      "276 HOH86-H2 1.007947 Da\n",
      "277 HOH87-O 15.99943 Da\n",
      "278 HOH87-H1 1.007947 Da\n",
      "279 HOH87-H2 1.007947 Da\n",
      "280 HOH88-O 15.99943 Da\n",
      "281 HOH88-H1 1.007947 Da\n",
      "282 HOH88-H2 1.007947 Da\n",
      "283 HOH89-O 15.99943 Da\n",
      "284 HOH89-H1 1.007947 Da\n",
      "285 HOH89-H2 1.007947 Da\n",
      "286 HOH90-O 15.99943 Da\n",
      "287 HOH90-H1 1.007947 Da\n",
      "288 HOH90-H2 1.007947 Da\n",
      "289 HOH91-O 15.99943 Da\n",
      "290 HOH91-H1 1.007947 Da\n",
      "291 HOH91-H2 1.007947 Da\n",
      "292 HOH92-O 15.99943 Da\n",
      "293 HOH92-H1 1.007947 Da\n",
      "294 HOH92-H2 1.007947 Da\n",
      "295 HOH93-O 15.99943 Da\n",
      "296 HOH93-H1 1.007947 Da\n",
      "297 HOH93-H2 1.007947 Da\n",
      "298 HOH94-O 15.99943 Da\n",
      "299 HOH94-H1 1.007947 Da\n",
      "300 HOH94-H2 1.007947 Da\n",
      "301 HOH95-O 15.99943 Da\n",
      "302 HOH95-H1 1.007947 Da\n",
      "303 HOH95-H2 1.007947 Da\n",
      "304 HOH96-O 15.99943 Da\n",
      "305 HOH96-H1 1.007947 Da\n",
      "306 HOH96-H2 1.007947 Da\n",
      "307 HOH97-O 15.99943 Da\n",
      "308 HOH97-H1 1.007947 Da\n",
      "309 HOH97-H2 1.007947 Da\n",
      "310 HOH98-O 15.99943 Da\n",
      "311 HOH98-H1 1.007947 Da\n",
      "312 HOH98-H2 1.007947 Da\n",
      "313 HOH99-O 15.99943 Da\n",
      "314 HOH99-H1 1.007947 Da\n",
      "315 HOH99-H2 1.007947 Da\n",
      "316 HOH100-O 15.99943 Da\n",
      "317 HOH100-H1 1.007947 Da\n",
      "318 HOH100-H2 1.007947 Da\n",
      "319 HOH101-O 15.99943 Da\n",
      "320 HOH101-H1 1.007947 Da\n",
      "321 HOH101-H2 1.007947 Da\n",
      "322 HOH102-O 15.99943 Da\n",
      "323 HOH102-H1 1.007947 Da\n",
      "324 HOH102-H2 1.007947 Da\n",
      "325 HOH103-O 15.99943 Da\n",
      "326 HOH103-H1 1.007947 Da\n",
      "327 HOH103-H2 1.007947 Da\n",
      "328 HOH104-O 15.99943 Da\n",
      "329 HOH104-H1 1.007947 Da\n",
      "330 HOH104-H2 1.007947 Da\n",
      "331 HOH105-O 15.99943 Da\n",
      "332 HOH105-H1 1.007947 Da\n",
      "333 HOH105-H2 1.007947 Da\n",
      "334 HOH106-O 15.99943 Da\n",
      "335 HOH106-H1 1.007947 Da\n",
      "336 HOH106-H2 1.007947 Da\n",
      "337 HOH107-O 15.99943 Da\n",
      "338 HOH107-H1 1.007947 Da\n",
      "339 HOH107-H2 1.007947 Da\n",
      "340 HOH108-O 15.99943 Da\n",
      "341 HOH108-H1 1.007947 Da\n",
      "342 HOH108-H2 1.007947 Da\n",
      "343 HOH109-O 15.99943 Da\n",
      "344 HOH109-H1 1.007947 Da\n",
      "345 HOH109-H2 1.007947 Da\n",
      "346 HOH110-O 15.99943 Da\n",
      "347 HOH110-H1 1.007947 Da\n",
      "348 HOH110-H2 1.007947 Da\n",
      "349 HOH111-O 15.99943 Da\n",
      "350 HOH111-H1 1.007947 Da\n",
      "351 HOH111-H2 1.007947 Da\n",
      "352 HOH112-O 15.99943 Da\n",
      "353 HOH112-H1 1.007947 Da\n",
      "354 HOH112-H2 1.007947 Da\n",
      "355 HOH113-O 15.99943 Da\n",
      "356 HOH113-H1 1.007947 Da\n",
      "357 HOH113-H2 1.007947 Da\n",
      "358 HOH114-O 15.99943 Da\n",
      "359 HOH114-H1 1.007947 Da\n",
      "360 HOH114-H2 1.007947 Da\n",
      "361 HOH115-O 15.99943 Da\n",
      "362 HOH115-H1 1.007947 Da\n",
      "363 HOH115-H2 1.007947 Da\n",
      "364 HOH116-O 15.99943 Da\n",
      "365 HOH116-H1 1.007947 Da\n",
      "366 HOH116-H2 1.007947 Da\n",
      "367 HOH117-O 15.99943 Da\n",
      "368 HOH117-H1 1.007947 Da\n",
      "369 HOH117-H2 1.007947 Da\n",
      "370 HOH118-O 15.99943 Da\n",
      "371 HOH118-H1 1.007947 Da\n",
      "372 HOH118-H2 1.007947 Da\n",
      "373 HOH119-O 15.99943 Da\n",
      "374 HOH119-H1 1.007947 Da\n",
      "375 HOH119-H2 1.007947 Da\n",
      "376 HOH120-O 15.99943 Da\n",
      "377 HOH120-H1 1.007947 Da\n",
      "378 HOH120-H2 1.007947 Da\n",
      "379 HOH121-O 15.99943 Da\n",
      "380 HOH121-H1 1.007947 Da\n",
      "381 HOH121-H2 1.007947 Da\n",
      "382 HOH122-O 15.99943 Da\n",
      "383 HOH122-H1 1.007947 Da\n",
      "384 HOH122-H2 1.007947 Da\n",
      "385 HOH124-O 15.99943 Da\n",
      "386 HOH124-H1 1.007947 Da\n",
      "387 HOH124-H2 1.007947 Da\n",
      "388 HOH125-O 15.99943 Da\n",
      "389 HOH125-H1 1.007947 Da\n",
      "390 HOH125-H2 1.007947 Da\n",
      "391 HOH126-O 15.99943 Da\n",
      "392 HOH126-H1 1.007947 Da\n",
      "393 HOH126-H2 1.007947 Da\n",
      "394 HOH127-O 15.99943 Da\n",
      "395 HOH127-H1 1.007947 Da\n",
      "396 HOH127-H2 1.007947 Da\n",
      "397 HOH128-O 15.99943 Da\n",
      "398 HOH128-H1 1.007947 Da\n",
      "399 HOH128-H2 1.007947 Da\n",
      "400 HOH129-O 15.99943 Da\n",
      "401 HOH129-H1 1.007947 Da\n",
      "402 HOH129-H2 1.007947 Da\n",
      "403 HOH130-O 15.99943 Da\n",
      "404 HOH130-H1 1.007947 Da\n",
      "405 HOH130-H2 1.007947 Da\n",
      "406 HOH131-O 15.99943 Da\n",
      "407 HOH131-H1 1.007947 Da\n",
      "408 HOH131-H2 1.007947 Da\n",
      "409 HOH132-O 15.99943 Da\n",
      "410 HOH132-H1 1.007947 Da\n",
      "411 HOH132-H2 1.007947 Da\n",
      "412 HOH133-O 15.99943 Da\n",
      "413 HOH133-H1 1.007947 Da\n",
      "414 HOH133-H2 1.007947 Da\n",
      "415 HOH134-O 15.99943 Da\n",
      "416 HOH134-H1 1.007947 Da\n",
      "417 HOH134-H2 1.007947 Da\n",
      "418 HOH135-O 15.99943 Da\n",
      "419 HOH135-H1 1.007947 Da\n",
      "420 HOH135-H2 1.007947 Da\n",
      "421 HOH136-O 15.99943 Da\n",
      "422 HOH136-H1 1.007947 Da\n",
      "423 HOH136-H2 1.007947 Da\n",
      "424 HOH137-O 15.99943 Da\n",
      "425 HOH137-H1 1.007947 Da\n",
      "426 HOH137-H2 1.007947 Da\n",
      "427 HOH138-O 15.99943 Da\n",
      "428 HOH138-H1 1.007947 Da\n",
      "429 HOH138-H2 1.007947 Da\n",
      "430 HOH139-O 15.99943 Da\n",
      "431 HOH139-H1 1.007947 Da\n",
      "432 HOH139-H2 1.007947 Da\n",
      "433 HOH140-O 15.99943 Da\n",
      "434 HOH140-H1 1.007947 Da\n",
      "435 HOH140-H2 1.007947 Da\n",
      "436 HOH141-O 15.99943 Da\n",
      "437 HOH141-H1 1.007947 Da\n",
      "438 HOH141-H2 1.007947 Da\n",
      "439 HOH142-O 15.99943 Da\n",
      "440 HOH142-H1 1.007947 Da\n",
      "441 HOH142-H2 1.007947 Da\n",
      "442 HOH143-O 15.99943 Da\n",
      "443 HOH143-H1 1.007947 Da\n",
      "444 HOH143-H2 1.007947 Da\n",
      "445 HOH144-O 15.99943 Da\n",
      "446 HOH144-H1 1.007947 Da\n",
      "447 HOH144-H2 1.007947 Da\n",
      "448 HOH145-O 15.99943 Da\n",
      "449 HOH145-H1 1.007947 Da\n",
      "450 HOH145-H2 1.007947 Da\n",
      "451 HOH146-O 15.99943 Da\n",
      "452 HOH146-H1 1.007947 Da\n",
      "453 HOH146-H2 1.007947 Da\n",
      "454 HOH147-O 15.99943 Da\n",
      "455 HOH147-H1 1.007947 Da\n",
      "456 HOH147-H2 1.007947 Da\n",
      "457 HOH148-O 15.99943 Da\n",
      "458 HOH148-H1 1.007947 Da\n",
      "459 HOH148-H2 1.007947 Da\n",
      "460 HOH149-O 15.99943 Da\n",
      "461 HOH149-H1 1.007947 Da\n",
      "462 HOH149-H2 1.007947 Da\n",
      "463 HOH150-O 15.99943 Da\n",
      "464 HOH150-H1 1.007947 Da\n",
      "465 HOH150-H2 1.007947 Da\n",
      "466 HOH151-O 15.99943 Da\n",
      "467 HOH151-H1 1.007947 Da\n",
      "468 HOH151-H2 1.007947 Da\n",
      "469 HOH152-O 15.99943 Da\n",
      "470 HOH152-H1 1.007947 Da\n",
      "471 HOH152-H2 1.007947 Da\n",
      "472 HOH153-O 15.99943 Da\n",
      "473 HOH153-H1 1.007947 Da\n",
      "474 HOH153-H2 1.007947 Da\n",
      "475 HOH154-O 15.99943 Da\n",
      "476 HOH154-H1 1.007947 Da\n",
      "477 HOH154-H2 1.007947 Da\n",
      "478 HOH155-O 15.99943 Da\n",
      "479 HOH155-H1 1.007947 Da\n",
      "480 HOH155-H2 1.007947 Da\n",
      "481 HOH156-O 15.99943 Da\n",
      "482 HOH156-H1 1.007947 Da\n",
      "483 HOH156-H2 1.007947 Da\n",
      "484 HOH157-O 15.99943 Da\n",
      "485 HOH157-H1 1.007947 Da\n",
      "486 HOH157-H2 1.007947 Da\n",
      "487 HOH158-O 15.99943 Da\n",
      "488 HOH158-H1 1.007947 Da\n",
      "489 HOH158-H2 1.007947 Da\n",
      "490 HOH159-O 15.99943 Da\n",
      "491 HOH159-H1 1.007947 Da\n",
      "492 HOH159-H2 1.007947 Da\n",
      "493 HOH160-O 15.99943 Da\n",
      "494 HOH160-H1 1.007947 Da\n",
      "495 HOH160-H2 1.007947 Da\n",
      "496 HOH161-O 15.99943 Da\n",
      "497 HOH161-H1 1.007947 Da\n",
      "498 HOH161-H2 1.007947 Da\n",
      "499 HOH162-O 15.99943 Da\n",
      "500 HOH162-H1 1.007947 Da\n",
      "501 HOH162-H2 1.007947 Da\n",
      "502 HOH163-O 15.99943 Da\n",
      "503 HOH163-H1 1.007947 Da\n",
      "504 HOH163-H2 1.007947 Da\n",
      "505 HOH164-O 15.99943 Da\n",
      "506 HOH164-H1 1.007947 Da\n",
      "507 HOH164-H2 1.007947 Da\n",
      "508 HOH165-O 15.99943 Da\n",
      "509 HOH165-H1 1.007947 Da\n",
      "510 HOH165-H2 1.007947 Da\n",
      "511 HOH166-O 15.99943 Da\n",
      "512 HOH166-H1 1.007947 Da\n",
      "513 HOH166-H2 1.007947 Da\n",
      "514 HOH167-O 15.99943 Da\n",
      "515 HOH167-H1 1.007947 Da\n",
      "516 HOH167-H2 1.007947 Da\n",
      "517 HOH168-O 15.99943 Da\n",
      "518 HOH168-H1 1.007947 Da\n",
      "519 HOH168-H2 1.007947 Da\n",
      "520 HOH169-O 15.99943 Da\n",
      "521 HOH169-H1 1.007947 Da\n",
      "522 HOH169-H2 1.007947 Da\n",
      "523 HOH170-O 15.99943 Da\n",
      "524 HOH170-H1 1.007947 Da\n",
      "525 HOH170-H2 1.007947 Da\n",
      "526 HOH171-O 15.99943 Da\n",
      "527 HOH171-H1 1.007947 Da\n",
      "528 HOH171-H2 1.007947 Da\n",
      "529 HOH172-O 15.99943 Da\n",
      "530 HOH172-H1 1.007947 Da\n",
      "531 HOH172-H2 1.007947 Da\n",
      "532 HOH173-O 15.99943 Da\n",
      "533 HOH173-H1 1.007947 Da\n",
      "534 HOH173-H2 1.007947 Da\n",
      "535 HOH174-O 15.99943 Da\n",
      "536 HOH174-H1 1.007947 Da\n",
      "537 HOH174-H2 1.007947 Da\n",
      "538 HOH175-O 15.99943 Da\n",
      "539 HOH175-H1 1.007947 Da\n",
      "540 HOH175-H2 1.007947 Da\n",
      "541 HOH176-O 15.99943 Da\n",
      "542 HOH176-H1 1.007947 Da\n",
      "543 HOH176-H2 1.007947 Da\n",
      "544 HOH177-O 15.99943 Da\n",
      "545 HOH177-H1 1.007947 Da\n",
      "546 HOH177-H2 1.007947 Da\n",
      "547 HOH178-O 15.99943 Da\n",
      "548 HOH178-H1 1.007947 Da\n",
      "549 HOH178-H2 1.007947 Da\n",
      "550 HOH179-O 15.99943 Da\n",
      "551 HOH179-H1 1.007947 Da\n",
      "552 HOH179-H2 1.007947 Da\n",
      "553 HOH180-O 15.99943 Da\n",
      "554 HOH180-H1 1.007947 Da\n",
      "555 HOH180-H2 1.007947 Da\n",
      "556 HOH181-O 15.99943 Da\n",
      "557 HOH181-H1 1.007947 Da\n",
      "558 HOH181-H2 1.007947 Da\n",
      "559 HOH182-O 15.99943 Da\n",
      "560 HOH182-H1 1.007947 Da\n",
      "561 HOH182-H2 1.007947 Da\n",
      "562 HOH183-O 15.99943 Da\n",
      "563 HOH183-H1 1.007947 Da\n",
      "564 HOH183-H2 1.007947 Da\n",
      "565 HOH184-O 15.99943 Da\n",
      "566 HOH184-H1 1.007947 Da\n",
      "567 HOH184-H2 1.007947 Da\n",
      "568 HOH185-O 15.99943 Da\n",
      "569 HOH185-H1 1.007947 Da\n",
      "570 HOH185-H2 1.007947 Da\n",
      "571 HOH186-O 15.99943 Da\n",
      "572 HOH186-H1 1.007947 Da\n",
      "573 HOH186-H2 1.007947 Da\n",
      "574 HOH187-O 15.99943 Da\n",
      "575 HOH187-H1 1.007947 Da\n",
      "576 HOH187-H2 1.007947 Da\n",
      "577 HOH188-O 15.99943 Da\n",
      "578 HOH188-H1 1.007947 Da\n",
      "579 HOH188-H2 1.007947 Da\n",
      "580 HOH189-O 15.99943 Da\n",
      "581 HOH189-H1 1.007947 Da\n",
      "582 HOH189-H2 1.007947 Da\n",
      "583 HOH190-O 15.99943 Da\n",
      "584 HOH190-H1 1.007947 Da\n",
      "585 HOH190-H2 1.007947 Da\n",
      "586 HOH191-O 15.99943 Da\n",
      "587 HOH191-H1 1.007947 Da\n",
      "588 HOH191-H2 1.007947 Da\n",
      "589 HOH192-O 15.99943 Da\n",
      "590 HOH192-H1 1.007947 Da\n",
      "591 HOH192-H2 1.007947 Da\n",
      "592 HOH193-O 15.99943 Da\n",
      "593 HOH193-H1 1.007947 Da\n",
      "594 HOH193-H2 1.007947 Da\n",
      "595 HOH194-O 15.99943 Da\n",
      "596 HOH194-H1 1.007947 Da\n",
      "597 HOH194-H2 1.007947 Da\n",
      "598 HOH195-O 15.99943 Da\n",
      "599 HOH195-H1 1.007947 Da\n",
      "600 HOH195-H2 1.007947 Da\n",
      "601 HOH196-O 15.99943 Da\n",
      "602 HOH196-H1 1.007947 Da\n",
      "603 HOH196-H2 1.007947 Da\n",
      "604 HOH197-O 15.99943 Da\n",
      "605 HOH197-H1 1.007947 Da\n",
      "606 HOH197-H2 1.007947 Da\n",
      "607 HOH198-O 15.99943 Da\n",
      "608 HOH198-H1 1.007947 Da\n",
      "609 HOH198-H2 1.007947 Da\n",
      "610 HOH199-O 15.99943 Da\n",
      "611 HOH199-H1 1.007947 Da\n",
      "612 HOH199-H2 1.007947 Da\n",
      "613 HOH200-O 15.99943 Da\n",
      "614 HOH200-H1 1.007947 Da\n",
      "615 HOH200-H2 1.007947 Da\n",
      "616 HOH201-O 15.99943 Da\n",
      "617 HOH201-H1 1.007947 Da\n",
      "618 HOH201-H2 1.007947 Da\n",
      "619 HOH202-O 15.99943 Da\n",
      "620 HOH202-H1 1.007947 Da\n",
      "621 HOH202-H2 1.007947 Da\n",
      "622 HOH203-O 15.99943 Da\n",
      "623 HOH203-H1 1.007947 Da\n",
      "624 HOH203-H2 1.007947 Da\n",
      "625 HOH204-O 15.99943 Da\n",
      "626 HOH204-H1 1.007947 Da\n",
      "627 HOH204-H2 1.007947 Da\n",
      "628 HOH205-O 15.99943 Da\n",
      "629 HOH205-H1 1.007947 Da\n",
      "630 HOH205-H2 1.007947 Da\n",
      "631 HOH206-O 15.99943 Da\n",
      "632 HOH206-H1 1.007947 Da\n",
      "633 HOH206-H2 1.007947 Da\n",
      "634 HOH207-O 15.99943 Da\n",
      "635 HOH207-H1 1.007947 Da\n",
      "636 HOH207-H2 1.007947 Da\n",
      "637 HOH208-O 15.99943 Da\n",
      "638 HOH208-H1 1.007947 Da\n",
      "639 HOH208-H2 1.007947 Da\n",
      "640 HOH209-O 15.99943 Da\n",
      "641 HOH209-H1 1.007947 Da\n",
      "642 HOH209-H2 1.007947 Da\n",
      "643 HOH210-O 15.99943 Da\n",
      "644 HOH210-H1 1.007947 Da\n",
      "645 HOH210-H2 1.007947 Da\n",
      "646 HOH211-O 15.99943 Da\n",
      "647 HOH211-H1 1.007947 Da\n",
      "648 HOH211-H2 1.007947 Da\n",
      "649 HOH212-O 15.99943 Da\n",
      "650 HOH212-H1 1.007947 Da\n",
      "651 HOH212-H2 1.007947 Da\n",
      "652 HOH213-O 15.99943 Da\n",
      "653 HOH213-H1 1.007947 Da\n",
      "654 HOH213-H2 1.007947 Da\n",
      "655 HOH214-O 15.99943 Da\n",
      "656 HOH214-H1 1.007947 Da\n",
      "657 HOH214-H2 1.007947 Da\n",
      "658 HOH215-O 15.99943 Da\n",
      "659 HOH215-H1 1.007947 Da\n",
      "660 HOH215-H2 1.007947 Da\n",
      "661 HOH216-O 15.99943 Da\n",
      "662 HOH216-H1 1.007947 Da\n",
      "663 HOH216-H2 1.007947 Da\n",
      "664 HOH217-O 15.99943 Da\n",
      "665 HOH217-H1 1.007947 Da\n",
      "666 HOH217-H2 1.007947 Da\n",
      "667 HOH218-O 15.99943 Da\n",
      "668 HOH218-H1 1.007947 Da\n",
      "669 HOH218-H2 1.007947 Da\n",
      "670 HOH219-O 15.99943 Da\n",
      "671 HOH219-H1 1.007947 Da\n",
      "672 HOH219-H2 1.007947 Da\n",
      "673 HOH220-O 15.99943 Da\n",
      "674 HOH220-H1 1.007947 Da\n",
      "675 HOH220-H2 1.007947 Da\n",
      "676 HOH221-O 15.99943 Da\n",
      "677 HOH221-H1 1.007947 Da\n",
      "678 HOH221-H2 1.007947 Da\n",
      "679 HOH222-O 15.99943 Da\n",
      "680 HOH222-H1 1.007947 Da\n",
      "681 HOH222-H2 1.007947 Da\n",
      "682 HOH223-O 15.99943 Da\n",
      "683 HOH223-H1 1.007947 Da\n",
      "684 HOH223-H2 1.007947 Da\n",
      "685 HOH224-O 15.99943 Da\n",
      "686 HOH224-H1 1.007947 Da\n",
      "687 HOH224-H2 1.007947 Da\n",
      "688 HOH225-O 15.99943 Da\n",
      "689 HOH225-H1 1.007947 Da\n",
      "690 HOH225-H2 1.007947 Da\n",
      "691 HOH226-O 15.99943 Da\n",
      "692 HOH226-H1 1.007947 Da\n",
      "693 HOH226-H2 1.007947 Da\n",
      "694 HOH227-O 15.99943 Da\n",
      "695 HOH227-H1 1.007947 Da\n",
      "696 HOH227-H2 1.007947 Da\n",
      "697 HOH228-O 15.99943 Da\n",
      "698 HOH228-H1 1.007947 Da\n",
      "699 HOH228-H2 1.007947 Da\n",
      "700 HOH229-O 15.99943 Da\n",
      "701 HOH229-H1 1.007947 Da\n",
      "702 HOH229-H2 1.007947 Da\n",
      "703 HOH230-O 15.99943 Da\n",
      "704 HOH230-H1 1.007947 Da\n",
      "705 HOH230-H2 1.007947 Da\n",
      "706 HOH231-O 15.99943 Da\n",
      "707 HOH231-H1 1.007947 Da\n",
      "708 HOH231-H2 1.007947 Da\n",
      "709 HOH232-O 15.99943 Da\n",
      "710 HOH232-H1 1.007947 Da\n",
      "711 HOH232-H2 1.007947 Da\n",
      "712 HOH233-O 15.99943 Da\n",
      "713 HOH233-H1 1.007947 Da\n",
      "714 HOH233-H2 1.007947 Da\n",
      "715 HOH234-O 15.99943 Da\n",
      "716 HOH234-H1 1.007947 Da\n",
      "717 HOH234-H2 1.007947 Da\n",
      "718 HOH235-O 15.99943 Da\n",
      "719 HOH235-H1 1.007947 Da\n",
      "720 HOH235-H2 1.007947 Da\n",
      "721 HOH236-O 15.99943 Da\n",
      "722 HOH236-H1 1.007947 Da\n",
      "723 HOH236-H2 1.007947 Da\n",
      "724 HOH237-O 15.99943 Da\n",
      "725 HOH237-H1 1.007947 Da\n",
      "726 HOH237-H2 1.007947 Da\n",
      "727 HOH238-O 15.99943 Da\n",
      "728 HOH238-H1 1.007947 Da\n",
      "729 HOH238-H2 1.007947 Da\n",
      "730 HOH239-O 15.99943 Da\n",
      "731 HOH239-H1 1.007947 Da\n",
      "732 HOH239-H2 1.007947 Da\n",
      "733 HOH240-O 15.99943 Da\n",
      "734 HOH240-H1 1.007947 Da\n",
      "735 HOH240-H2 1.007947 Da\n",
      "736 HOH241-O 15.99943 Da\n",
      "737 HOH241-H1 1.007947 Da\n",
      "738 HOH241-H2 1.007947 Da\n",
      "739 HOH242-O 15.99943 Da\n",
      "740 HOH242-H1 1.007947 Da\n",
      "741 HOH242-H2 1.007947 Da\n",
      "742 HOH243-O 15.99943 Da\n",
      "743 HOH243-H1 1.007947 Da\n",
      "744 HOH243-H2 1.007947 Da\n",
      "745 HOH244-O 15.99943 Da\n",
      "746 HOH244-H1 1.007947 Da\n",
      "747 HOH244-H2 1.007947 Da\n",
      "748 HOH245-O 15.99943 Da\n",
      "749 HOH245-H1 1.007947 Da\n",
      "750 HOH245-H2 1.007947 Da\n",
      "751 HOH246-O 15.99943 Da\n",
      "752 HOH246-H1 1.007947 Da\n",
      "753 HOH246-H2 1.007947 Da\n",
      "754 HOH247-O 15.99943 Da\n",
      "755 HOH247-H1 1.007947 Da\n",
      "756 HOH247-H2 1.007947 Da\n",
      "757 HOH248-O 15.99943 Da\n",
      "758 HOH248-H1 1.007947 Da\n",
      "759 HOH248-H2 1.007947 Da\n",
      "760 HOH249-O 15.99943 Da\n",
      "761 HOH249-H1 1.007947 Da\n",
      "762 HOH249-H2 1.007947 Da\n",
      "763 HOH250-O 15.99943 Da\n",
      "764 HOH250-H1 1.007947 Da\n",
      "765 HOH250-H2 1.007947 Da\n",
      "766 HOH251-O 15.99943 Da\n",
      "767 HOH251-H1 1.007947 Da\n",
      "768 HOH251-H2 1.007947 Da\n",
      "769 HOH252-O 15.99943 Da\n",
      "770 HOH252-H1 1.007947 Da\n",
      "771 HOH252-H2 1.007947 Da\n",
      "772 HOH253-O 15.99943 Da\n",
      "773 HOH253-H1 1.007947 Da\n",
      "774 HOH253-H2 1.007947 Da\n",
      "775 HOH254-O 15.99943 Da\n",
      "776 HOH254-H1 1.007947 Da\n",
      "777 HOH254-H2 1.007947 Da\n",
      "778 HOH255-O 15.99943 Da\n",
      "779 HOH255-H1 1.007947 Da\n",
      "780 HOH255-H2 1.007947 Da\n",
      "781 HOH256-O 15.99943 Da\n",
      "782 HOH256-H1 1.007947 Da\n",
      "783 HOH256-H2 1.007947 Da\n",
      "784 HOH257-O 15.99943 Da\n",
      "785 HOH257-H1 1.007947 Da\n",
      "786 HOH257-H2 1.007947 Da\n",
      "787 HOH258-O 15.99943 Da\n",
      "788 HOH258-H1 1.007947 Da\n",
      "789 HOH258-H2 1.007947 Da\n",
      "790 HOH259-O 15.99943 Da\n",
      "791 HOH259-H1 1.007947 Da\n",
      "792 HOH259-H2 1.007947 Da\n",
      "793 HOH260-O 15.99943 Da\n",
      "794 HOH260-H1 1.007947 Da\n",
      "795 HOH260-H2 1.007947 Da\n",
      "796 HOH261-O 15.99943 Da\n",
      "797 HOH261-H1 1.007947 Da\n",
      "798 HOH261-H2 1.007947 Da\n",
      "799 HOH262-O 15.99943 Da\n",
      "800 HOH262-H1 1.007947 Da\n",
      "801 HOH262-H2 1.007947 Da\n",
      "802 HOH263-O 15.99943 Da\n",
      "803 HOH263-H1 1.007947 Da\n",
      "804 HOH263-H2 1.007947 Da\n",
      "805 HOH264-O 15.99943 Da\n",
      "806 HOH264-H1 1.007947 Da\n",
      "807 HOH264-H2 1.007947 Da\n",
      "808 HOH265-O 15.99943 Da\n",
      "809 HOH265-H1 1.007947 Da\n",
      "810 HOH265-H2 1.007947 Da\n",
      "811 HOH266-O 15.99943 Da\n",
      "812 HOH266-H1 1.007947 Da\n",
      "813 HOH266-H2 1.007947 Da\n",
      "814 HOH267-O 15.99943 Da\n",
      "815 HOH267-H1 1.007947 Da\n",
      "816 HOH267-H2 1.007947 Da\n",
      "817 HOH268-O 15.99943 Da\n",
      "818 HOH268-H1 1.007947 Da\n",
      "819 HOH268-H2 1.007947 Da\n",
      "820 HOH269-O 15.99943 Da\n",
      "821 HOH269-H1 1.007947 Da\n",
      "822 HOH269-H2 1.007947 Da\n",
      "823 HOH270-O 15.99943 Da\n",
      "824 HOH270-H1 1.007947 Da\n",
      "825 HOH270-H2 1.007947 Da\n",
      "826 HOH271-O 15.99943 Da\n",
      "827 HOH271-H1 1.007947 Da\n",
      "828 HOH271-H2 1.007947 Da\n",
      "829 HOH272-O 15.99943 Da\n",
      "830 HOH272-H1 1.007947 Da\n",
      "831 HOH272-H2 1.007947 Da\n",
      "832 HOH273-O 15.99943 Da\n",
      "833 HOH273-H1 1.007947 Da\n",
      "834 HOH273-H2 1.007947 Da\n",
      "835 HOH274-O 15.99943 Da\n",
      "836 HOH274-H1 1.007947 Da\n",
      "837 HOH274-H2 1.007947 Da\n",
      "838 HOH275-O 15.99943 Da\n",
      "839 HOH275-H1 1.007947 Da\n",
      "840 HOH275-H2 1.007947 Da\n",
      "841 HOH276-O 15.99943 Da\n",
      "842 HOH276-H1 1.007947 Da\n",
      "843 HOH276-H2 1.007947 Da\n",
      "844 HOH277-O 15.99943 Da\n",
      "845 HOH277-H1 1.007947 Da\n",
      "846 HOH277-H2 1.007947 Da\n",
      "847 HOH278-O 15.99943 Da\n",
      "848 HOH278-H1 1.007947 Da\n",
      "849 HOH278-H2 1.007947 Da\n",
      "850 HOH279-O 15.99943 Da\n",
      "851 HOH279-H1 1.007947 Da\n",
      "852 HOH279-H2 1.007947 Da\n",
      "853 HOH280-O 15.99943 Da\n",
      "854 HOH280-H1 1.007947 Da\n",
      "855 HOH280-H2 1.007947 Da\n",
      "856 HOH281-O 15.99943 Da\n",
      "857 HOH281-H1 1.007947 Da\n",
      "858 HOH281-H2 1.007947 Da\n",
      "859 HOH282-O 15.99943 Da\n",
      "860 HOH282-H1 1.007947 Da\n",
      "861 HOH282-H2 1.007947 Da\n",
      "862 HOH283-O 15.99943 Da\n",
      "863 HOH283-H1 1.007947 Da\n",
      "864 HOH283-H2 1.007947 Da\n",
      "865 HOH284-O 15.99943 Da\n",
      "866 HOH284-H1 1.007947 Da\n",
      "867 HOH284-H2 1.007947 Da\n",
      "868 HOH285-O 15.99943 Da\n",
      "869 HOH285-H1 1.007947 Da\n",
      "870 HOH285-H2 1.007947 Da\n",
      "871 HOH286-O 15.99943 Da\n",
      "872 HOH286-H1 1.007947 Da\n",
      "873 HOH286-H2 1.007947 Da\n",
      "874 HOH287-O 15.99943 Da\n",
      "875 HOH287-H1 1.007947 Da\n",
      "876 HOH287-H2 1.007947 Da\n",
      "877 HOH288-O 15.99943 Da\n",
      "878 HOH288-H1 1.007947 Da\n",
      "879 HOH288-H2 1.007947 Da\n",
      "880 HOH289-O 15.99943 Da\n",
      "881 HOH289-H1 1.007947 Da\n",
      "882 HOH289-H2 1.007947 Da\n",
      "883 HOH290-O 15.99943 Da\n",
      "884 HOH290-H1 1.007947 Da\n",
      "885 HOH290-H2 1.007947 Da\n",
      "886 HOH291-O 15.99943 Da\n",
      "887 HOH291-H1 1.007947 Da\n",
      "888 HOH291-H2 1.007947 Da\n",
      "889 HOH292-O 15.99943 Da\n",
      "890 HOH292-H1 1.007947 Da\n",
      "891 HOH292-H2 1.007947 Da\n",
      "892 HOH293-O 15.99943 Da\n",
      "893 HOH293-H1 1.007947 Da\n",
      "894 HOH293-H2 1.007947 Da\n",
      "895 HOH294-O 15.99943 Da\n",
      "896 HOH294-H1 1.007947 Da\n",
      "897 HOH294-H2 1.007947 Da\n",
      "898 HOH295-O 15.99943 Da\n",
      "899 HOH295-H1 1.007947 Da\n",
      "900 HOH295-H2 1.007947 Da\n",
      "901 HOH296-O 15.99943 Da\n",
      "902 HOH296-H1 1.007947 Da\n",
      "903 HOH296-H2 1.007947 Da\n",
      "904 HOH297-O 15.99943 Da\n",
      "905 HOH297-H1 1.007947 Da\n",
      "906 HOH297-H2 1.007947 Da\n",
      "907 HOH298-O 15.99943 Da\n",
      "908 HOH298-H1 1.007947 Da\n",
      "909 HOH298-H2 1.007947 Da\n",
      "910 HOH299-O 15.99943 Da\n",
      "911 HOH299-H1 1.007947 Da\n",
      "912 HOH299-H2 1.007947 Da\n",
      "913 HOH300-O 15.99943 Da\n"
     ]
    },
    {
     "name": "stdout",
     "output_type": "stream",
     "text": [
      "914 HOH300-H1 1.007947 Da\n",
      "915 HOH300-H2 1.007947 Da\n",
      "916 HOH301-O 15.99943 Da\n",
      "917 HOH301-H1 1.007947 Da\n",
      "918 HOH301-H2 1.007947 Da\n",
      "919 HOH302-O 15.99943 Da\n",
      "920 HOH302-H1 1.007947 Da\n",
      "921 HOH302-H2 1.007947 Da\n",
      "922 HOH303-O 15.99943 Da\n",
      "923 HOH303-H1 1.007947 Da\n",
      "924 HOH303-H2 1.007947 Da\n",
      "925 HOH304-O 15.99943 Da\n",
      "926 HOH304-H1 1.007947 Da\n",
      "927 HOH304-H2 1.007947 Da\n",
      "928 HOH305-O 15.99943 Da\n",
      "929 HOH305-H1 1.007947 Da\n",
      "930 HOH305-H2 1.007947 Da\n",
      "931 HOH306-O 15.99943 Da\n",
      "932 HOH306-H1 1.007947 Da\n",
      "933 HOH306-H2 1.007947 Da\n",
      "934 HOH307-O 15.99943 Da\n",
      "935 HOH307-H1 1.007947 Da\n",
      "936 HOH307-H2 1.007947 Da\n",
      "937 HOH308-O 15.99943 Da\n",
      "938 HOH308-H1 1.007947 Da\n",
      "939 HOH308-H2 1.007947 Da\n",
      "940 HOH309-O 15.99943 Da\n",
      "941 HOH309-H1 1.007947 Da\n",
      "942 HOH309-H2 1.007947 Da\n",
      "943 HOH310-O 15.99943 Da\n",
      "944 HOH310-H1 1.007947 Da\n",
      "945 HOH310-H2 1.007947 Da\n",
      "946 HOH311-O 15.99943 Da\n",
      "947 HOH311-H1 1.007947 Da\n",
      "948 HOH311-H2 1.007947 Da\n",
      "949 HOH312-O 15.99943 Da\n",
      "950 HOH312-H1 1.007947 Da\n",
      "951 HOH312-H2 1.007947 Da\n",
      "952 HOH313-O 15.99943 Da\n",
      "953 HOH313-H1 1.007947 Da\n",
      "954 HOH313-H2 1.007947 Da\n",
      "955 HOH314-O 15.99943 Da\n",
      "956 HOH314-H1 1.007947 Da\n",
      "957 HOH314-H2 1.007947 Da\n",
      "958 HOH315-O 15.99943 Da\n",
      "959 HOH315-H1 1.007947 Da\n",
      "960 HOH315-H2 1.007947 Da\n",
      "961 HOH316-O 15.99943 Da\n",
      "962 HOH316-H1 1.007947 Da\n",
      "963 HOH316-H2 1.007947 Da\n",
      "964 HOH317-O 15.99943 Da\n",
      "965 HOH317-H1 1.007947 Da\n",
      "966 HOH317-H2 1.007947 Da\n",
      "967 HOH318-O 15.99943 Da\n",
      "968 HOH318-H1 1.007947 Da\n",
      "969 HOH318-H2 1.007947 Da\n",
      "970 HOH319-O 15.99943 Da\n",
      "971 HOH319-H1 1.007947 Da\n",
      "972 HOH319-H2 1.007947 Da\n",
      "973 HOH320-O 15.99943 Da\n",
      "974 HOH320-H1 1.007947 Da\n",
      "975 HOH320-H2 1.007947 Da\n",
      "976 HOH321-O 15.99943 Da\n",
      "977 HOH321-H1 1.007947 Da\n",
      "978 HOH321-H2 1.007947 Da\n",
      "979 HOH322-O 15.99943 Da\n",
      "980 HOH322-H1 1.007947 Da\n",
      "981 HOH322-H2 1.007947 Da\n",
      "982 HOH323-O 15.99943 Da\n",
      "983 HOH323-H1 1.007947 Da\n",
      "984 HOH323-H2 1.007947 Da\n",
      "985 HOH324-O 15.99943 Da\n",
      "986 HOH324-H1 1.007947 Da\n",
      "987 HOH324-H2 1.007947 Da\n",
      "988 HOH325-O 15.99943 Da\n",
      "989 HOH325-H1 1.007947 Da\n",
      "990 HOH325-H2 1.007947 Da\n",
      "991 HOH326-O 15.99943 Da\n",
      "992 HOH326-H1 1.007947 Da\n",
      "993 HOH326-H2 1.007947 Da\n",
      "994 HOH327-O 15.99943 Da\n",
      "995 HOH327-H1 1.007947 Da\n",
      "996 HOH327-H2 1.007947 Da\n",
      "997 HOH328-O 15.99943 Da\n",
      "998 HOH328-H1 1.007947 Da\n",
      "999 HOH328-H2 1.007947 Da\n",
      "1000 HOH329-O 15.99943 Da\n",
      "1001 HOH329-H1 1.007947 Da\n",
      "1002 HOH329-H2 1.007947 Da\n",
      "1003 HOH330-O 15.99943 Da\n",
      "1004 HOH330-H1 1.007947 Da\n",
      "1005 HOH330-H2 1.007947 Da\n",
      "1006 HOH331-O 15.99943 Da\n",
      "1007 HOH331-H1 1.007947 Da\n",
      "1008 HOH331-H2 1.007947 Da\n",
      "1009 HOH332-O 15.99943 Da\n",
      "1010 HOH332-H1 1.007947 Da\n",
      "1011 HOH332-H2 1.007947 Da\n",
      "1012 HOH333-O 15.99943 Da\n",
      "1013 HOH333-H1 1.007947 Da\n",
      "1014 HOH333-H2 1.007947 Da\n",
      "1015 HOH334-O 15.99943 Da\n",
      "1016 HOH334-H1 1.007947 Da\n",
      "1017 HOH334-H2 1.007947 Da\n",
      "1018 HOH335-O 15.99943 Da\n",
      "1019 HOH335-H1 1.007947 Da\n",
      "1020 HOH335-H2 1.007947 Da\n",
      "1021 HOH336-O 15.99943 Da\n",
      "1022 HOH336-H1 1.007947 Da\n",
      "1023 HOH336-H2 1.007947 Da\n",
      "1024 HOH337-O 15.99943 Da\n",
      "1025 HOH337-H1 1.007947 Da\n",
      "1026 HOH337-H2 1.007947 Da\n",
      "1027 HOH338-O 15.99943 Da\n",
      "1028 HOH338-H1 1.007947 Da\n",
      "1029 HOH338-H2 1.007947 Da\n",
      "1030 HOH339-O 15.99943 Da\n",
      "1031 HOH339-H1 1.007947 Da\n",
      "1032 HOH339-H2 1.007947 Da\n",
      "1033 HOH340-O 15.99943 Da\n",
      "1034 HOH340-H1 1.007947 Da\n",
      "1035 HOH340-H2 1.007947 Da\n",
      "1036 HOH341-O 15.99943 Da\n",
      "1037 HOH341-H1 1.007947 Da\n",
      "1038 HOH341-H2 1.007947 Da\n",
      "1039 HOH342-O 15.99943 Da\n",
      "1040 HOH342-H1 1.007947 Da\n",
      "1041 HOH342-H2 1.007947 Da\n",
      "1042 HOH343-O 15.99943 Da\n",
      "1043 HOH343-H1 1.007947 Da\n",
      "1044 HOH343-H2 1.007947 Da\n",
      "1045 HOH344-O 15.99943 Da\n",
      "1046 HOH344-H1 1.007947 Da\n",
      "1047 HOH344-H2 1.007947 Da\n",
      "1048 HOH345-O 15.99943 Da\n",
      "1049 HOH345-H1 1.007947 Da\n",
      "1050 HOH345-H2 1.007947 Da\n",
      "1051 HOH346-O 15.99943 Da\n",
      "1052 HOH346-H1 1.007947 Da\n",
      "1053 HOH346-H2 1.007947 Da\n",
      "1054 HOH347-O 15.99943 Da\n",
      "1055 HOH347-H1 1.007947 Da\n",
      "1056 HOH347-H2 1.007947 Da\n",
      "1057 HOH348-O 15.99943 Da\n",
      "1058 HOH348-H1 1.007947 Da\n",
      "1059 HOH348-H2 1.007947 Da\n",
      "1060 HOH349-O 15.99943 Da\n",
      "1061 HOH349-H1 1.007947 Da\n",
      "1062 HOH349-H2 1.007947 Da\n",
      "1063 HOH350-O 15.99943 Da\n",
      "1064 HOH350-H1 1.007947 Da\n",
      "1065 HOH350-H2 1.007947 Da\n",
      "1066 HOH351-O 15.99943 Da\n",
      "1067 HOH351-H1 1.007947 Da\n",
      "1068 HOH351-H2 1.007947 Da\n",
      "1069 HOH352-O 15.99943 Da\n",
      "1070 HOH352-H1 1.007947 Da\n",
      "1071 HOH352-H2 1.007947 Da\n",
      "1072 HOH353-O 15.99943 Da\n",
      "1073 HOH353-H1 1.007947 Da\n",
      "1074 HOH353-H2 1.007947 Da\n",
      "1075 HOH354-O 15.99943 Da\n",
      "1076 HOH354-H1 1.007947 Da\n",
      "1077 HOH354-H2 1.007947 Da\n",
      "1078 HOH355-O 15.99943 Da\n",
      "1079 HOH355-H1 1.007947 Da\n",
      "1080 HOH355-H2 1.007947 Da\n",
      "1081 HOH356-O 15.99943 Da\n",
      "1082 HOH356-H1 1.007947 Da\n",
      "1083 HOH356-H2 1.007947 Da\n",
      "1084 HOH357-O 15.99943 Da\n",
      "1085 HOH357-H1 1.007947 Da\n",
      "1086 HOH357-H2 1.007947 Da\n",
      "1087 HOH358-O 15.99943 Da\n",
      "1088 HOH358-H1 1.007947 Da\n",
      "1089 HOH358-H2 1.007947 Da\n",
      "1090 HOH359-O 15.99943 Da\n",
      "1091 HOH359-H1 1.007947 Da\n",
      "1092 HOH359-H2 1.007947 Da\n",
      "1093 HOH360-O 15.99943 Da\n",
      "1094 HOH360-H1 1.007947 Da\n",
      "1095 HOH360-H2 1.007947 Da\n",
      "1096 HOH361-O 15.99943 Da\n",
      "1097 HOH361-H1 1.007947 Da\n",
      "1098 HOH361-H2 1.007947 Da\n",
      "1099 HOH362-O 15.99943 Da\n",
      "1100 HOH362-H1 1.007947 Da\n",
      "1101 HOH362-H2 1.007947 Da\n",
      "1102 HOH363-O 15.99943 Da\n",
      "1103 HOH363-H1 1.007947 Da\n",
      "1104 HOH363-H2 1.007947 Da\n",
      "1105 HOH364-O 15.99943 Da\n",
      "1106 HOH364-H1 1.007947 Da\n",
      "1107 HOH364-H2 1.007947 Da\n",
      "1108 HOH365-O 15.99943 Da\n",
      "1109 HOH365-H1 1.007947 Da\n",
      "1110 HOH365-H2 1.007947 Da\n",
      "1111 HOH366-O 15.99943 Da\n",
      "1112 HOH366-H1 1.007947 Da\n",
      "1113 HOH366-H2 1.007947 Da\n",
      "1114 HOH367-O 15.99943 Da\n",
      "1115 HOH367-H1 1.007947 Da\n",
      "1116 HOH367-H2 1.007947 Da\n",
      "1117 HOH368-O 15.99943 Da\n",
      "1118 HOH368-H1 1.007947 Da\n",
      "1119 HOH368-H2 1.007947 Da\n",
      "1120 HOH369-O 15.99943 Da\n",
      "1121 HOH369-H1 1.007947 Da\n",
      "1122 HOH369-H2 1.007947 Da\n",
      "1123 HOH370-O 15.99943 Da\n",
      "1124 HOH370-H1 1.007947 Da\n",
      "1125 HOH370-H2 1.007947 Da\n",
      "1126 HOH371-O 15.99943 Da\n",
      "1127 HOH371-H1 1.007947 Da\n",
      "1128 HOH371-H2 1.007947 Da\n",
      "1129 HOH372-O 15.99943 Da\n",
      "1130 HOH372-H1 1.007947 Da\n",
      "1131 HOH372-H2 1.007947 Da\n",
      "1132 HOH373-O 15.99943 Da\n",
      "1133 HOH373-H1 1.007947 Da\n",
      "1134 HOH373-H2 1.007947 Da\n",
      "1135 HOH374-O 15.99943 Da\n",
      "1136 HOH374-H1 1.007947 Da\n",
      "1137 HOH374-H2 1.007947 Da\n",
      "1138 HOH375-O 15.99943 Da\n",
      "1139 HOH375-H1 1.007947 Da\n",
      "1140 HOH375-H2 1.007947 Da\n",
      "1141 HOH376-O 15.99943 Da\n",
      "1142 HOH376-H1 1.007947 Da\n",
      "1143 HOH376-H2 1.007947 Da\n",
      "1144 HOH377-O 15.99943 Da\n",
      "1145 HOH377-H1 1.007947 Da\n",
      "1146 HOH377-H2 1.007947 Da\n",
      "1147 HOH378-O 15.99943 Da\n",
      "1148 HOH378-H1 1.007947 Da\n",
      "1149 HOH378-H2 1.007947 Da\n",
      "1150 HOH379-O 15.99943 Da\n",
      "1151 HOH379-H1 1.007947 Da\n",
      "1152 HOH379-H2 1.007947 Da\n",
      "1153 HOH380-O 15.99943 Da\n",
      "1154 HOH380-H1 1.007947 Da\n",
      "1155 HOH380-H2 1.007947 Da\n",
      "1156 HOH381-O 15.99943 Da\n",
      "1157 HOH381-H1 1.007947 Da\n",
      "1158 HOH381-H2 1.007947 Da\n",
      "1159 HOH382-O 15.99943 Da\n",
      "1160 HOH382-H1 1.007947 Da\n",
      "1161 HOH382-H2 1.007947 Da\n",
      "1162 HOH383-O 15.99943 Da\n",
      "1163 HOH383-H1 1.007947 Da\n",
      "1164 HOH383-H2 1.007947 Da\n",
      "1165 HOH384-O 15.99943 Da\n",
      "1166 HOH384-H1 1.007947 Da\n",
      "1167 HOH384-H2 1.007947 Da\n",
      "1168 HOH385-O 15.99943 Da\n",
      "1169 HOH385-H1 1.007947 Da\n",
      "1170 HOH385-H2 1.007947 Da\n",
      "1171 HOH386-O 15.99943 Da\n",
      "1172 HOH386-H1 1.007947 Da\n",
      "1173 HOH386-H2 1.007947 Da\n",
      "1174 HOH387-O 15.99943 Da\n",
      "1175 HOH387-H1 1.007947 Da\n",
      "1176 HOH387-H2 1.007947 Da\n",
      "1177 HOH388-O 15.99943 Da\n",
      "1178 HOH388-H1 1.007947 Da\n",
      "1179 HOH388-H2 1.007947 Da\n",
      "1180 HOH389-O 15.99943 Da\n",
      "1181 HOH389-H1 1.007947 Da\n",
      "1182 HOH389-H2 1.007947 Da\n",
      "1183 HOH390-O 15.99943 Da\n",
      "1184 HOH390-H1 1.007947 Da\n",
      "1185 HOH390-H2 1.007947 Da\n",
      "1186 HOH391-O 15.99943 Da\n",
      "1187 HOH391-H1 1.007947 Da\n",
      "1188 HOH391-H2 1.007947 Da\n",
      "1189 HOH392-O 15.99943 Da\n",
      "1190 HOH392-H1 1.007947 Da\n",
      "1191 HOH392-H2 1.007947 Da\n",
      "1192 HOH393-O 15.99943 Da\n",
      "1193 HOH393-H1 1.007947 Da\n",
      "1194 HOH393-H2 1.007947 Da\n",
      "1195 HOH394-O 15.99943 Da\n",
      "1196 HOH394-H1 1.007947 Da\n",
      "1197 HOH394-H2 1.007947 Da\n",
      "1198 HOH395-O 15.99943 Da\n",
      "1199 HOH395-H1 1.007947 Da\n",
      "1200 HOH395-H2 1.007947 Da\n",
      "1201 HOH396-O 15.99943 Da\n",
      "1202 HOH396-H1 1.007947 Da\n",
      "1203 HOH396-H2 1.007947 Da\n",
      "1204 HOH397-O 15.99943 Da\n",
      "1205 HOH397-H1 1.007947 Da\n",
      "1206 HOH397-H2 1.007947 Da\n",
      "1207 HOH398-O 15.99943 Da\n",
      "1208 HOH398-H1 1.007947 Da\n",
      "1209 HOH398-H2 1.007947 Da\n",
      "1210 HOH399-O 15.99943 Da\n",
      "1211 HOH399-H1 1.007947 Da\n",
      "1212 HOH399-H2 1.007947 Da\n",
      "1213 HOH400-O 15.99943 Da\n",
      "1214 HOH400-H1 1.007947 Da\n",
      "1215 HOH400-H2 1.007947 Da\n",
      "1216 HOH401-O 15.99943 Da\n",
      "1217 HOH401-H1 1.007947 Da\n",
      "1218 HOH401-H2 1.007947 Da\n",
      "1219 HOH402-O 15.99943 Da\n",
      "1220 HOH402-H1 1.007947 Da\n",
      "1221 HOH402-H2 1.007947 Da\n",
      "1222 HOH403-O 15.99943 Da\n",
      "1223 HOH403-H1 1.007947 Da\n",
      "1224 HOH403-H2 1.007947 Da\n",
      "1225 HOH404-O 15.99943 Da\n",
      "1226 HOH404-H1 1.007947 Da\n",
      "1227 HOH404-H2 1.007947 Da\n",
      "1228 HOH405-O 15.99943 Da\n",
      "1229 HOH405-H1 1.007947 Da\n",
      "1230 HOH405-H2 1.007947 Da\n",
      "1231 HOH406-O 15.99943 Da\n",
      "1232 HOH406-H1 1.007947 Da\n",
      "1233 HOH406-H2 1.007947 Da\n",
      "1234 HOH407-O 15.99943 Da\n",
      "1235 HOH407-H1 1.007947 Da\n",
      "1236 HOH407-H2 1.007947 Da\n",
      "1237 HOH408-O 15.99943 Da\n",
      "1238 HOH408-H1 1.007947 Da\n",
      "1239 HOH408-H2 1.007947 Da\n",
      "1240 HOH409-O 15.99943 Da\n",
      "1241 HOH409-H1 1.007947 Da\n",
      "1242 HOH409-H2 1.007947 Da\n",
      "1243 HOH410-O 15.99943 Da\n",
      "1244 HOH410-H1 1.007947 Da\n",
      "1245 HOH410-H2 1.007947 Da\n",
      "1246 HOH411-O 15.99943 Da\n",
      "1247 HOH411-H1 1.007947 Da\n",
      "1248 HOH411-H2 1.007947 Da\n",
      "1249 HOH412-O 15.99943 Da\n",
      "1250 HOH412-H1 1.007947 Da\n",
      "1251 HOH412-H2 1.007947 Da\n",
      "1252 HOH413-O 15.99943 Da\n",
      "1253 HOH413-H1 1.007947 Da\n",
      "1254 HOH413-H2 1.007947 Da\n",
      "1255 HOH414-O 15.99943 Da\n",
      "1256 HOH414-H1 1.007947 Da\n",
      "1257 HOH414-H2 1.007947 Da\n",
      "1258 HOH415-O 15.99943 Da\n",
      "1259 HOH415-H1 1.007947 Da\n",
      "1260 HOH415-H2 1.007947 Da\n",
      "1261 HOH416-O 15.99943 Da\n",
      "1262 HOH416-H1 1.007947 Da\n",
      "1263 HOH416-H2 1.007947 Da\n",
      "1264 HOH418-O 15.99943 Da\n",
      "1265 HOH418-H1 1.007947 Da\n",
      "1266 HOH418-H2 1.007947 Da\n",
      "1267 HOH419-O 15.99943 Da\n",
      "1268 HOH419-H1 1.007947 Da\n",
      "1269 HOH419-H2 1.007947 Da\n",
      "1270 HOH420-O 15.99943 Da\n",
      "1271 HOH420-H1 1.007947 Da\n",
      "1272 HOH420-H2 1.007947 Da\n",
      "1273 HOH421-O 15.99943 Da\n",
      "1274 HOH421-H1 1.007947 Da\n",
      "1275 HOH421-H2 1.007947 Da\n",
      "1276 HOH422-O 15.99943 Da\n",
      "1277 HOH422-H1 1.007947 Da\n",
      "1278 HOH422-H2 1.007947 Da\n",
      "1279 HOH423-O 15.99943 Da\n",
      "1280 HOH423-H1 1.007947 Da\n",
      "1281 HOH423-H2 1.007947 Da\n",
      "1282 HOH424-O 15.99943 Da\n",
      "1283 HOH424-H1 1.007947 Da\n",
      "1284 HOH424-H2 1.007947 Da\n",
      "1285 HOH425-O 15.99943 Da\n",
      "1286 HOH425-H1 1.007947 Da\n",
      "1287 HOH425-H2 1.007947 Da\n",
      "1288 HOH426-O 15.99943 Da\n",
      "1289 HOH426-H1 1.007947 Da\n",
      "1290 HOH426-H2 1.007947 Da\n",
      "1291 HOH427-O 15.99943 Da\n",
      "1292 HOH427-H1 1.007947 Da\n",
      "1293 HOH427-H2 1.007947 Da\n",
      "1294 HOH428-O 15.99943 Da\n",
      "1295 HOH428-H1 1.007947 Da\n",
      "1296 HOH428-H2 1.007947 Da\n",
      "1297 HOH429-O 15.99943 Da\n",
      "1298 HOH429-H1 1.007947 Da\n",
      "1299 HOH429-H2 1.007947 Da\n",
      "1300 HOH430-O 15.99943 Da\n",
      "1301 HOH430-H1 1.007947 Da\n",
      "1302 HOH430-H2 1.007947 Da\n",
      "1303 HOH431-O 15.99943 Da\n",
      "1304 HOH431-H1 1.007947 Da\n",
      "1305 HOH431-H2 1.007947 Da\n",
      "1306 HOH432-O 15.99943 Da\n",
      "1307 HOH432-H1 1.007947 Da\n",
      "1308 HOH432-H2 1.007947 Da\n",
      "1309 HOH433-O 15.99943 Da\n",
      "1310 HOH433-H1 1.007947 Da\n",
      "1311 HOH433-H2 1.007947 Da\n",
      "1312 HOH434-O 15.99943 Da\n",
      "1313 HOH434-H1 1.007947 Da\n",
      "1314 HOH434-H2 1.007947 Da\n",
      "1315 HOH435-O 15.99943 Da\n",
      "1316 HOH435-H1 1.007947 Da\n",
      "1317 HOH435-H2 1.007947 Da\n",
      "1318 HOH436-O 15.99943 Da\n",
      "1319 HOH436-H1 1.007947 Da\n",
      "1320 HOH436-H2 1.007947 Da\n",
      "1321 HOH437-O 15.99943 Da\n",
      "1322 HOH437-H1 1.007947 Da\n",
      "1323 HOH437-H2 1.007947 Da\n",
      "1324 HOH438-O 15.99943 Da\n",
      "1325 HOH438-H1 1.007947 Da\n",
      "1326 HOH438-H2 1.007947 Da\n",
      "1327 HOH439-O 15.99943 Da\n",
      "1328 HOH439-H1 1.007947 Da\n",
      "1329 HOH439-H2 1.007947 Da\n",
      "1330 HOH440-O 15.99943 Da\n",
      "1331 HOH440-H1 1.007947 Da\n",
      "1332 HOH440-H2 1.007947 Da\n",
      "1333 HOH441-O 15.99943 Da\n",
      "1334 HOH441-H1 1.007947 Da\n",
      "1335 HOH441-H2 1.007947 Da\n",
      "1336 HOH442-O 15.99943 Da\n",
      "1337 HOH442-H1 1.007947 Da\n",
      "1338 HOH442-H2 1.007947 Da\n",
      "1339 HOH443-O 15.99943 Da\n",
      "1340 HOH443-H1 1.007947 Da\n",
      "1341 HOH443-H2 1.007947 Da\n",
      "1342 HOH444-O 15.99943 Da\n",
      "1343 HOH444-H1 1.007947 Da\n",
      "1344 HOH444-H2 1.007947 Da\n",
      "1345 HOH445-O 15.99943 Da\n",
      "1346 HOH445-H1 1.007947 Da\n",
      "1347 HOH445-H2 1.007947 Da\n",
      "1348 HOH446-O 15.99943 Da\n",
      "1349 HOH446-H1 1.007947 Da\n",
      "1350 HOH446-H2 1.007947 Da\n",
      "1351 HOH447-O 15.99943 Da\n",
      "1352 HOH447-H1 1.007947 Da\n",
      "1353 HOH447-H2 1.007947 Da\n",
      "1354 HOH448-O 15.99943 Da\n",
      "1355 HOH448-H1 1.007947 Da\n",
      "1356 HOH448-H2 1.007947 Da\n",
      "1357 HOH449-O 15.99943 Da\n",
      "1358 HOH449-H1 1.007947 Da\n",
      "1359 HOH449-H2 1.007947 Da\n",
      "1360 HOH450-O 15.99943 Da\n",
      "1361 HOH450-H1 1.007947 Da\n",
      "1362 HOH450-H2 1.007947 Da\n",
      "1363 HOH451-O 15.99943 Da\n",
      "1364 HOH451-H1 1.007947 Da\n",
      "1365 HOH451-H2 1.007947 Da\n",
      "1366 HOH452-O 15.99943 Da\n",
      "1367 HOH452-H1 1.007947 Da\n",
      "1368 HOH452-H2 1.007947 Da\n",
      "1369 HOH453-O 15.99943 Da\n",
      "1370 HOH453-H1 1.007947 Da\n",
      "1371 HOH453-H2 1.007947 Da\n",
      "1372 HOH454-O 15.99943 Da\n",
      "1373 HOH454-H1 1.007947 Da\n",
      "1374 HOH454-H2 1.007947 Da\n",
      "1375 HOH455-O 15.99943 Da\n",
      "1376 HOH455-H1 1.007947 Da\n",
      "1377 HOH455-H2 1.007947 Da\n",
      "1378 HOH456-O 15.99943 Da\n",
      "1379 HOH456-H1 1.007947 Da\n",
      "1380 HOH456-H2 1.007947 Da\n",
      "1381 HOH457-O 15.99943 Da\n",
      "1382 HOH457-H1 1.007947 Da\n",
      "1383 HOH457-H2 1.007947 Da\n",
      "1384 HOH458-O 15.99943 Da\n",
      "1385 HOH458-H1 1.007947 Da\n",
      "1386 HOH458-H2 1.007947 Da\n",
      "1387 HOH459-O 15.99943 Da\n",
      "1388 HOH459-H1 1.007947 Da\n",
      "1389 HOH459-H2 1.007947 Da\n",
      "1390 HOH460-O 15.99943 Da\n",
      "1391 HOH460-H1 1.007947 Da\n",
      "1392 HOH460-H2 1.007947 Da\n",
      "1393 HOH461-O 15.99943 Da\n",
      "1394 HOH461-H1 1.007947 Da\n",
      "1395 HOH461-H2 1.007947 Da\n",
      "1396 HOH462-O 15.99943 Da\n",
      "1397 HOH462-H1 1.007947 Da\n",
      "1398 HOH462-H2 1.007947 Da\n",
      "1399 HOH463-O 15.99943 Da\n",
      "1400 HOH463-H1 1.007947 Da\n",
      "1401 HOH463-H2 1.007947 Da\n",
      "1402 HOH464-O 15.99943 Da\n",
      "1403 HOH464-H1 1.007947 Da\n",
      "1404 HOH464-H2 1.007947 Da\n",
      "1405 HOH465-O 15.99943 Da\n",
      "1406 HOH465-H1 1.007947 Da\n",
      "1407 HOH465-H2 1.007947 Da\n",
      "1408 HOH466-O 15.99943 Da\n",
      "1409 HOH466-H1 1.007947 Da\n",
      "1410 HOH466-H2 1.007947 Da\n",
      "1411 HOH467-O 15.99943 Da\n",
      "1412 HOH467-H1 1.007947 Da\n",
      "1413 HOH467-H2 1.007947 Da\n",
      "1414 HOH468-O 15.99943 Da\n",
      "1415 HOH468-H1 1.007947 Da\n",
      "1416 HOH468-H2 1.007947 Da\n",
      "1417 HOH469-O 15.99943 Da\n",
      "1418 HOH469-H1 1.007947 Da\n",
      "1419 HOH469-H2 1.007947 Da\n",
      "1420 HOH470-O 15.99943 Da\n",
      "1421 HOH470-H1 1.007947 Da\n",
      "1422 HOH470-H2 1.007947 Da\n",
      "1423 HOH471-O 15.99943 Da\n",
      "1424 HOH471-H1 1.007947 Da\n",
      "1425 HOH471-H2 1.007947 Da\n",
      "1426 HOH472-O 15.99943 Da\n",
      "1427 HOH472-H1 1.007947 Da\n",
      "1428 HOH472-H2 1.007947 Da\n",
      "1429 HOH473-O 15.99943 Da\n",
      "1430 HOH473-H1 1.007947 Da\n",
      "1431 HOH473-H2 1.007947 Da\n",
      "1432 HOH474-O 15.99943 Da\n",
      "1433 HOH474-H1 1.007947 Da\n",
      "1434 HOH474-H2 1.007947 Da\n",
      "1435 HOH475-O 15.99943 Da\n",
      "1436 HOH475-H1 1.007947 Da\n",
      "1437 HOH475-H2 1.007947 Da\n",
      "1438 HOH476-O 15.99943 Da\n",
      "1439 HOH476-H1 1.007947 Da\n",
      "1440 HOH476-H2 1.007947 Da\n",
      "1441 HOH477-O 15.99943 Da\n",
      "1442 HOH477-H1 1.007947 Da\n",
      "1443 HOH477-H2 1.007947 Da\n",
      "1444 HOH478-O 15.99943 Da\n",
      "1445 HOH478-H1 1.007947 Da\n",
      "1446 HOH478-H2 1.007947 Da\n",
      "1447 HOH479-O 15.99943 Da\n",
      "1448 HOH479-H1 1.007947 Da\n",
      "1449 HOH479-H2 1.007947 Da\n",
      "1450 HOH480-O 15.99943 Da\n",
      "1451 HOH480-H1 1.007947 Da\n",
      "1452 HOH480-H2 1.007947 Da\n",
      "1453 HOH481-O 15.99943 Da\n",
      "1454 HOH481-H1 1.007947 Da\n",
      "1455 HOH481-H2 1.007947 Da\n",
      "1456 HOH482-O 15.99943 Da\n",
      "1457 HOH482-H1 1.007947 Da\n",
      "1458 HOH482-H2 1.007947 Da\n",
      "1459 HOH483-O 15.99943 Da\n",
      "1460 HOH483-H1 1.007947 Da\n",
      "1461 HOH483-H2 1.007947 Da\n",
      "1462 HOH484-O 15.99943 Da\n",
      "1463 HOH484-H1 1.007947 Da\n",
      "1464 HOH484-H2 1.007947 Da\n",
      "1465 HOH485-O 15.99943 Da\n",
      "1466 HOH485-H1 1.007947 Da\n",
      "1467 HOH485-H2 1.007947 Da\n",
      "1468 HOH486-O 15.99943 Da\n",
      "1469 HOH486-H1 1.007947 Da\n",
      "1470 HOH486-H2 1.007947 Da\n",
      "1471 HOH487-O 15.99943 Da\n",
      "1472 HOH487-H1 1.007947 Da\n",
      "1473 HOH487-H2 1.007947 Da\n",
      "1474 HOH488-O 15.99943 Da\n",
      "1475 HOH488-H1 1.007947 Da\n",
      "1476 HOH488-H2 1.007947 Da\n",
      "1477 HOH489-O 15.99943 Da\n",
      "1478 HOH489-H1 1.007947 Da\n",
      "1479 HOH489-H2 1.007947 Da\n",
      "1480 HOH490-O 15.99943 Da\n",
      "1481 HOH490-H1 1.007947 Da\n",
      "1482 HOH490-H2 1.007947 Da\n",
      "1483 HOH491-O 15.99943 Da\n",
      "1484 HOH491-H1 1.007947 Da\n",
      "1485 HOH491-H2 1.007947 Da\n",
      "1486 HOH492-O 15.99943 Da\n",
      "1487 HOH492-H1 1.007947 Da\n",
      "1488 HOH492-H2 1.007947 Da\n",
      "1489 HOH493-O 15.99943 Da\n",
      "1490 HOH493-H1 1.007947 Da\n",
      "1491 HOH493-H2 1.007947 Da\n",
      "1492 HOH494-O 15.99943 Da\n",
      "1493 HOH494-H1 1.007947 Da\n",
      "1494 HOH494-H2 1.007947 Da\n",
      "1495 HOH495-O 15.99943 Da\n",
      "1496 HOH495-H1 1.007947 Da\n",
      "1497 HOH495-H2 1.007947 Da\n",
      "1498 HOH496-O 15.99943 Da\n",
      "1499 HOH496-H1 1.007947 Da\n",
      "1500 HOH496-H2 1.007947 Da\n",
      "1501 HOH497-O 15.99943 Da\n",
      "1502 HOH497-H1 1.007947 Da\n",
      "1503 HOH497-H2 1.007947 Da\n",
      "1504 HOH498-O 15.99943 Da\n",
      "1505 HOH498-H1 1.007947 Da\n",
      "1506 HOH498-H2 1.007947 Da\n",
      "1507 HOH499-O 15.99943 Da\n",
      "1508 HOH499-H1 1.007947 Da\n",
      "1509 HOH499-H2 1.007947 Da\n",
      "1510 HOH500-O 15.99943 Da\n",
      "1511 HOH500-H1 1.007947 Da\n",
      "1512 HOH500-H2 1.007947 Da\n",
      "1513 HOH501-O 15.99943 Da\n",
      "1514 HOH501-H1 1.007947 Da\n",
      "1515 HOH501-H2 1.007947 Da\n",
      "1516 HOH502-O 15.99943 Da\n",
      "1517 HOH502-H1 1.007947 Da\n",
      "1518 HOH502-H2 1.007947 Da\n",
      "1519 HOH503-O 15.99943 Da\n",
      "1520 HOH503-H1 1.007947 Da\n",
      "1521 HOH503-H2 1.007947 Da\n",
      "1522 HOH504-O 15.99943 Da\n",
      "1523 HOH504-H1 1.007947 Da\n",
      "1524 HOH504-H2 1.007947 Da\n",
      "1525 HOH505-O 15.99943 Da\n",
      "1526 HOH505-H1 1.007947 Da\n",
      "1527 HOH505-H2 1.007947 Da\n",
      "1528 HOH506-O 15.99943 Da\n",
      "1529 HOH506-H1 1.007947 Da\n",
      "1530 HOH506-H2 1.007947 Da\n",
      "1531 HOH507-O 15.99943 Da\n",
      "1532 HOH507-H1 1.007947 Da\n",
      "1533 HOH507-H2 1.007947 Da\n",
      "1534 HOH508-O 15.99943 Da\n",
      "1535 HOH508-H1 1.007947 Da\n",
      "1536 HOH508-H2 1.007947 Da\n",
      "1537 HOH509-O 15.99943 Da\n",
      "1538 HOH509-H1 1.007947 Da\n",
      "1539 HOH509-H2 1.007947 Da\n",
      "1540 HOH510-O 15.99943 Da\n",
      "1541 HOH510-H1 1.007947 Da\n",
      "1542 HOH510-H2 1.007947 Da\n",
      "1543 HOH511-O 15.99943 Da\n",
      "1544 HOH511-H1 1.007947 Da\n",
      "1545 HOH511-H2 1.007947 Da\n",
      "1546 HOH512-O 15.99943 Da\n",
      "1547 HOH512-H1 1.007947 Da\n",
      "1548 HOH512-H2 1.007947 Da\n",
      "1549 HOH513-O 15.99943 Da\n",
      "1550 HOH513-H1 1.007947 Da\n",
      "1551 HOH513-H2 1.007947 Da\n",
      "1552 HOH514-O 15.99943 Da\n",
      "1553 HOH514-H1 1.007947 Da\n",
      "1554 HOH514-H2 1.007947 Da\n",
      "1555 NA513-Na 22.99 Da\n",
      "1556 CL514-Cl 35.45 Da\n"
     ]
    }
   ],
   "source": [
    "# check that the hmass is 3 amu\n",
    "htf = solvent_delivery.get_apo_rest_htf()\n",
    "for atom in htf.hybrid_topology.atoms:\n",
    "    print(atom.index, atom, htf.hybrid_system.getParticleMass(atom.index))"
   ]
  },
  {
   "cell_type": "code",
   "execution_count": 29,
   "id": "f24be79b",
   "metadata": {
    "scrolled": true
   },
   "outputs": [
    {
     "name": "stderr",
     "output_type": "stream",
     "text": [
      "INFO:relative:*** Generating vanilla HybridTopologyFactory ***\n",
      "INFO:relative:Beginning nonbonded method, total particle, barostat, and exceptions retrieval...\n",
      "INFO:relative:Flattening exceptions of unique new/old at lambda = 0/1\n",
      "INFO:relative:Old system forces: dict_keys(['HarmonicBondForce', 'HarmonicAngleForce', 'PeriodicTorsionForce', 'NonbondedForce', 'MonteCarloBarostat'])\n",
      "INFO:relative:New system forces: dict_keys(['HarmonicBondForce', 'HarmonicAngleForce', 'PeriodicTorsionForce', 'NonbondedForce', 'MonteCarloBarostat'])\n",
      "INFO:relative:No unknown forces.\n",
      "INFO:relative:Nonbonded method to be used (i.e. from old system): 4\n",
      "INFO:relative:Adding and mapping old atoms to hybrid system...\n",
      "INFO:relative:Adding and mapping new atoms to hybrid system...\n",
      "INFO:relative:Added MonteCarloBarostat.\n",
      "INFO:relative:getDefaultPeriodicBoxVectors added to hybrid: [Quantity(value=Vec3(x=2.9625000000000004, y=0.0, z=0.0), unit=nanometer), Quantity(value=Vec3(x=0.9874989941036161, y=2.793072141324737, z=0.0), unit=nanometer), Quantity(value=Vec3(x=-0.9874989941036157, y=1.3965339368347203, z=2.4188726609545337), unit=nanometer)]\n",
      "INFO:relative:Determined atom classes.\n",
      "INFO:relative:Generating old system exceptions dict...\n",
      "INFO:relative:Generating new system exceptions dict...\n",
      "INFO:relative:Handling constraints...\n",
      "INFO:relative:Handling virtual sites...\n",
      "INFO:relative:\t_handle_virtual_sites: numVirtualSites: 0\n",
      "INFO:relative:Adding bond force terms...\n",
      "INFO:relative:Adding angle force terms...\n",
      "INFO:relative:Adding torsion force terms...\n",
      "INFO:relative:Adding nonbonded force terms...\n",
      "INFO:relative:\t_add_nonbonded_force_terms: <openmm.openmm.NonbondedForce; proxy of <Swig Object of type 'OpenMM::NonbondedForce *' at 0x2b30dab49c60> > added to hybrid system\n",
      "INFO:relative:\t_add_nonbonded_force_terms: nonbonded_method is PME or Ewald\n",
      "INFO:relative:\t_add_nonbonded_force_terms: 4 added to standard nonbonded force\n",
      "INFO:relative:\t_add_nonbonded_force_terms: 2 added to sterics_custom_nonbonded force\n",
      "INFO:relative:\t_add_nonbonded_force_terms: <openmm.openmm.CustomNonbondedForce; proxy of <Swig Object of type 'OpenMM::CustomNonbondedForce *' at 0x2b30dab49ab0> > added to hybrid system\n",
      "INFO:relative:Handling harmonic bonds...\n",
      "INFO:relative:\thandle_harmonic_bonds: looping through old_system to add relevant terms...\n",
      "INFO:relative:\thandle_harmonic_bonds: looping through new_system to add relevant terms...\n",
      "INFO:relative:Handling harmonic angles...\n",
      "INFO:relative:\thandle_harmonic_angles: looping through old_system to add relevant terms...\n",
      "INFO:relative:\thandle_harmonic_angles: looping through new_system to add relevant terms...\n",
      "INFO:relative:Handling torsion forces...\n",
      "INFO:relative:\thandle_periodic_torsion_forces: looping through old_system to add relevant terms...\n",
      "INFO:relative:\thandle_periodic_torsion_forces: looping through new_system to add relevant terms...\n",
      "INFO:relative:Handling nonbonded forces...\n",
      "INFO:relative:\thandle_nonbonded: looping through all particles in hybrid...\n",
      "INFO:relative:\thandle_nonbonded: Handling Interaction Groups...\n",
      "INFO:relative:\thandle_nonbonded: Handling Hybrid Exceptions...\n",
      "INFO:relative:\thandle_nonbonded: Handling Original Exceptions...\n",
      "INFO:relative:Handling unique_new/old interaction exceptions...\n",
      "INFO:relative:There are old or new system exceptions...proceeding.\n",
      "INFO:relative:Imposing virtual bonds to ensure system is imaged together.\n",
      "INFO:relative:\t\t_impose_virtual_bonds: No restraint added because sets overlap (core_atoms=[32, 1, 4, 5, 6, 8, 10, 13, 14, 30, 1887], protein_atoms=[8])\n",
      "INFO:setup:sterics expression: (1-lambda_torsions)*U1 + lambda_torsions*U2;U1 = K1*(1+cos(periodicity1*theta-phase1));U2 = K2*(1+cos(periodicity2*theta-phase2));\n",
      "INFO:setup:forces: [<openmm.openmm.MonteCarloBarostat; proxy of <Swig Object of type 'OpenMM::MonteCarloBarostat *' at 0x2b30d969b360> >, <openmm.openmm.CustomBondForce; proxy of <Swig Object of type 'OpenMM::CustomBondForce *' at 0x2b30da2cc930> >, <openmm.openmm.HarmonicBondForce; proxy of <Swig Object of type 'OpenMM::HarmonicBondForce *' at 0x2b30d969db40> >, <openmm.openmm.CustomAngleForce; proxy of <Swig Object of type 'OpenMM::CustomAngleForce *' at 0x2b30d969d510> >, <openmm.openmm.HarmonicAngleForce; proxy of <Swig Object of type 'OpenMM::HarmonicAngleForce *' at 0x2b30d969dab0> >, <openmm.openmm.CustomTorsionForce; proxy of <Swig Object of type 'OpenMM::CustomTorsionForce *' at 0x2b30d969d450> >, <openmm.openmm.PeriodicTorsionForce; proxy of <Swig Object of type 'OpenMM::PeriodicTorsionForce *' at 0x2b30d969d480> >, <openmm.openmm.NonbondedForce; proxy of <Swig Object of type 'OpenMM::NonbondedForce *' at 0x2b30d969d6f0> >, <openmm.openmm.CustomNonbondedForce; proxy of <Swig Object of type 'OpenMM::CustomNonbondedForce *' at 0x2b30d969df00> >, <openmm.openmm.CustomBondForce; proxy of <Swig Object of type 'OpenMM::CustomBondForce *' at 0x2b30d9470480> >]\n",
      "INFO:setup:number of particles in apo: 1913\n"
     ]
    }
   ],
   "source": [
    "old_outdir = \"/data/chodera/zhangi/perses_benchmark/repex/38/2/\"\n",
    "new_outdir = \"/data/chodera/zhangi/perses_benchmark/repex/38/8/\"\n",
    "\n",
    "htf = generate_vanilla_htf_from_rest_htf(old_outdir, new_outdir)\n"
   ]
  },
  {
   "cell_type": "code",
   "execution_count": 30,
   "id": "2f12669f",
   "metadata": {
    "scrolled": true
   },
   "outputs": [
    {
     "name": "stderr",
     "output_type": "stream",
     "text": [
      "INFO:relative:*** Generating vanilla HybridTopologyFactory ***\n",
      "INFO:relative:Beginning nonbonded method, total particle, barostat, and exceptions retrieval...\n",
      "INFO:relative:Flattening exceptions of unique new/old at lambda = 0/1\n",
      "INFO:relative:Old system forces: dict_keys(['HarmonicBondForce', 'HarmonicAngleForce', 'PeriodicTorsionForce', 'NonbondedForce', 'MonteCarloBarostat'])\n",
      "INFO:relative:New system forces: dict_keys(['HarmonicBondForce', 'HarmonicAngleForce', 'PeriodicTorsionForce', 'NonbondedForce', 'MonteCarloBarostat'])\n",
      "INFO:relative:No unknown forces.\n",
      "INFO:relative:Nonbonded method to be used (i.e. from old system): 4\n",
      "INFO:relative:Adding and mapping old atoms to hybrid system...\n",
      "INFO:relative:Adding and mapping new atoms to hybrid system...\n",
      "INFO:relative:Added MonteCarloBarostat.\n",
      "INFO:relative:getDefaultPeriodicBoxVectors added to hybrid: [Quantity(value=Vec3(x=2.7648, y=0.0, z=0.0), unit=nanometer), Quantity(value=Vec3(x=0.9215990612312835, y=2.6066787700707614, z=0.0), unit=nanometer), Quantity(value=Vec3(x=-0.9215990612312832, y=1.303337393606965, z=2.2574511841374156), unit=nanometer)]\n",
      "INFO:relative:Determined atom classes.\n",
      "INFO:relative:Generating old system exceptions dict...\n",
      "INFO:relative:Generating new system exceptions dict...\n",
      "INFO:relative:Handling constraints...\n",
      "INFO:relative:Handling virtual sites...\n",
      "INFO:relative:\t_handle_virtual_sites: numVirtualSites: 0\n",
      "INFO:relative:Adding bond force terms...\n",
      "INFO:relative:Adding angle force terms...\n",
      "INFO:relative:Adding torsion force terms...\n",
      "INFO:relative:Adding nonbonded force terms...\n",
      "INFO:relative:\t_add_nonbonded_force_terms: <openmm.openmm.NonbondedForce; proxy of <Swig Object of type 'OpenMM::NonbondedForce *' at 0x2b30d92d3c60> > added to hybrid system\n",
      "INFO:relative:\t_add_nonbonded_force_terms: nonbonded_method is PME or Ewald\n",
      "INFO:relative:\t_add_nonbonded_force_terms: 4 added to standard nonbonded force\n",
      "INFO:relative:\t_add_nonbonded_force_terms: 2 added to sterics_custom_nonbonded force\n",
      "INFO:relative:\t_add_nonbonded_force_terms: <openmm.openmm.CustomNonbondedForce; proxy of <Swig Object of type 'OpenMM::CustomNonbondedForce *' at 0x2b30d92d3ab0> > added to hybrid system\n",
      "INFO:relative:Handling harmonic bonds...\n",
      "INFO:relative:\thandle_harmonic_bonds: looping through old_system to add relevant terms...\n",
      "INFO:relative:\thandle_harmonic_bonds: looping through new_system to add relevant terms...\n",
      "INFO:relative:Handling harmonic angles...\n",
      "INFO:relative:\thandle_harmonic_angles: looping through old_system to add relevant terms...\n",
      "INFO:relative:\thandle_harmonic_angles: looping through new_system to add relevant terms...\n",
      "INFO:relative:Handling torsion forces...\n",
      "INFO:relative:\thandle_periodic_torsion_forces: looping through old_system to add relevant terms...\n",
      "INFO:relative:\thandle_periodic_torsion_forces: looping through new_system to add relevant terms...\n",
      "INFO:relative:Handling nonbonded forces...\n",
      "INFO:relative:\thandle_nonbonded: looping through all particles in hybrid...\n",
      "INFO:relative:\thandle_nonbonded: Handling Interaction Groups...\n",
      "INFO:relative:\thandle_nonbonded: Handling Hybrid Exceptions...\n",
      "INFO:relative:\thandle_nonbonded: Handling Original Exceptions...\n",
      "INFO:relative:Handling unique_new/old interaction exceptions...\n",
      "INFO:relative:There are old or new system exceptions...proceeding.\n",
      "INFO:relative:Imposing virtual bonds to ensure system is imaged together.\n",
      "INFO:relative:\t\t_impose_virtual_bonds: No restraint added because sets overlap (core_atoms=[1, 4, 5, 6, 8, 10, 13, 14, 16, 18, 829], protein_atoms=[8])\n",
      "INFO:setup:sterics expression: (1-lambda_torsions)*U1 + lambda_torsions*U2;U1 = K1*(1+cos(periodicity1*theta-phase1));U2 = K2*(1+cos(periodicity2*theta-phase2));\n",
      "INFO:setup:forces: [<openmm.openmm.MonteCarloBarostat; proxy of <Swig Object of type 'OpenMM::MonteCarloBarostat *' at 0x2b30d94700f0> >, <openmm.openmm.CustomBondForce; proxy of <Swig Object of type 'OpenMM::CustomBondForce *' at 0x2b30d8f9b030> >, <openmm.openmm.HarmonicBondForce; proxy of <Swig Object of type 'OpenMM::HarmonicBondForce *' at 0x2b30d8f9b0c0> >, <openmm.openmm.CustomAngleForce; proxy of <Swig Object of type 'OpenMM::CustomAngleForce *' at 0x2b30d8f9b150> >, <openmm.openmm.HarmonicAngleForce; proxy of <Swig Object of type 'OpenMM::HarmonicAngleForce *' at 0x2b30d8f9b2a0> >, <openmm.openmm.CustomTorsionForce; proxy of <Swig Object of type 'OpenMM::CustomTorsionForce *' at 0x2b30d8f9b270> >, <openmm.openmm.PeriodicTorsionForce; proxy of <Swig Object of type 'OpenMM::PeriodicTorsionForce *' at 0x2b30d8f9b480> >, <openmm.openmm.NonbondedForce; proxy of <Swig Object of type 'OpenMM::NonbondedForce *' at 0x2b30d8f9b420> >, <openmm.openmm.CustomNonbondedForce; proxy of <Swig Object of type 'OpenMM::CustomNonbondedForce *' at 0x2b30d99cf2d0> >, <openmm.openmm.CustomBondForce; proxy of <Swig Object of type 'OpenMM::CustomBondForce *' at 0x2b30d99cf270> >]\n",
      "INFO:setup:number of particles in apo: 1568\n"
     ]
    }
   ],
   "source": [
    "old_outdir = \"/data/chodera/zhangi/perses_benchmark/repex/38/3/\"\n",
    "new_outdir = \"/data/chodera/zhangi/perses_benchmark/repex/38/9/\"\n",
    "\n",
    "htf = generate_vanilla_htf_from_rest_htf(old_outdir, new_outdir)\n"
   ]
  },
  {
   "cell_type": "code",
   "execution_count": 31,
   "id": "caa87de7",
   "metadata": {
    "scrolled": true
   },
   "outputs": [
    {
     "name": "stderr",
     "output_type": "stream",
     "text": [
      "INFO:relative:*** Generating vanilla HybridTopologyFactory ***\n",
      "INFO:relative:Beginning nonbonded method, total particle, barostat, and exceptions retrieval...\n",
      "INFO:relative:Flattening exceptions of unique new/old at lambda = 0/1\n",
      "INFO:relative:Old system forces: dict_keys(['HarmonicBondForce', 'HarmonicAngleForce', 'PeriodicTorsionForce', 'NonbondedForce', 'MonteCarloBarostat'])\n",
      "INFO:relative:New system forces: dict_keys(['HarmonicBondForce', 'HarmonicAngleForce', 'PeriodicTorsionForce', 'NonbondedForce', 'MonteCarloBarostat'])\n",
      "INFO:relative:No unknown forces.\n",
      "INFO:relative:Nonbonded method to be used (i.e. from old system): 4\n",
      "INFO:relative:Adding and mapping old atoms to hybrid system...\n",
      "INFO:relative:Adding and mapping new atoms to hybrid system...\n",
      "INFO:relative:Added MonteCarloBarostat.\n",
      "INFO:relative:getDefaultPeriodicBoxVectors added to hybrid: [Quantity(value=Vec3(x=2.7648, y=0.0, z=0.0), unit=nanometer), Quantity(value=Vec3(x=0.9215990612312835, y=2.6066787700707614, z=0.0), unit=nanometer), Quantity(value=Vec3(x=-0.9215990612312832, y=1.303337393606965, z=2.2574511841374156), unit=nanometer)]\n",
      "INFO:relative:Determined atom classes.\n",
      "INFO:relative:Generating old system exceptions dict...\n",
      "INFO:relative:Generating new system exceptions dict...\n",
      "INFO:relative:Handling constraints...\n",
      "INFO:relative:Handling virtual sites...\n",
      "INFO:relative:\t_handle_virtual_sites: numVirtualSites: 0\n",
      "INFO:relative:Adding bond force terms...\n",
      "INFO:relative:Adding angle force terms...\n",
      "INFO:relative:Adding torsion force terms...\n",
      "INFO:relative:Adding nonbonded force terms...\n",
      "INFO:relative:\t_add_nonbonded_force_terms: <openmm.openmm.NonbondedForce; proxy of <Swig Object of type 'OpenMM::NonbondedForce *' at 0x2b30daab0fc0> > added to hybrid system\n",
      "INFO:relative:\t_add_nonbonded_force_terms: nonbonded_method is PME or Ewald\n",
      "INFO:relative:\t_add_nonbonded_force_terms: 4 added to standard nonbonded force\n",
      "INFO:relative:\t_add_nonbonded_force_terms: 2 added to sterics_custom_nonbonded force\n",
      "INFO:relative:\t_add_nonbonded_force_terms: <openmm.openmm.CustomNonbondedForce; proxy of <Swig Object of type 'OpenMM::CustomNonbondedForce *' at 0x2b30daa4ce70> > added to hybrid system\n",
      "INFO:relative:Handling harmonic bonds...\n",
      "INFO:relative:\thandle_harmonic_bonds: looping through old_system to add relevant terms...\n",
      "INFO:relative:\thandle_harmonic_bonds: looping through new_system to add relevant terms...\n",
      "INFO:relative:Handling harmonic angles...\n",
      "INFO:relative:\thandle_harmonic_angles: looping through old_system to add relevant terms...\n",
      "INFO:relative:\thandle_harmonic_angles: looping through new_system to add relevant terms...\n",
      "INFO:relative:Handling torsion forces...\n",
      "INFO:relative:\thandle_periodic_torsion_forces: looping through old_system to add relevant terms...\n",
      "INFO:relative:\thandle_periodic_torsion_forces: looping through new_system to add relevant terms...\n",
      "INFO:relative:Handling nonbonded forces...\n",
      "INFO:relative:\thandle_nonbonded: looping through all particles in hybrid...\n",
      "INFO:relative:\thandle_nonbonded: Handling Interaction Groups...\n",
      "INFO:relative:\thandle_nonbonded: Handling Hybrid Exceptions...\n",
      "INFO:relative:\thandle_nonbonded: Handling Original Exceptions...\n",
      "INFO:relative:Handling unique_new/old interaction exceptions...\n",
      "INFO:relative:There are old or new system exceptions...proceeding.\n",
      "INFO:relative:Imposing virtual bonds to ensure system is imaged together.\n",
      "INFO:relative:\t\t_impose_virtual_bonds: No restraint added because sets overlap (core_atoms=[1, 4, 5, 6, 8, 10, 13, 14, 16, 18], protein_atoms=[8])\n",
      "INFO:setup:sterics expression: (1-lambda_torsions)*U1 + lambda_torsions*U2;U1 = K1*(1+cos(periodicity1*theta-phase1));U2 = K2*(1+cos(periodicity2*theta-phase2));\n",
      "INFO:setup:forces: [<openmm.openmm.MonteCarloBarostat; proxy of <Swig Object of type 'OpenMM::MonteCarloBarostat *' at 0x2b30d7f90030> >, <openmm.openmm.CustomBondForce; proxy of <Swig Object of type 'OpenMM::CustomBondForce *' at 0x2b30d8473c00> >, <openmm.openmm.HarmonicBondForce; proxy of <Swig Object of type 'OpenMM::HarmonicBondForce *' at 0x2b30d84739c0> >, <openmm.openmm.CustomAngleForce; proxy of <Swig Object of type 'OpenMM::CustomAngleForce *' at 0x2b30d8473b70> >, <openmm.openmm.HarmonicAngleForce; proxy of <Swig Object of type 'OpenMM::HarmonicAngleForce *' at 0x2b30d8473de0> >, <openmm.openmm.CustomTorsionForce; proxy of <Swig Object of type 'OpenMM::CustomTorsionForce *' at 0x2b30d8473d80> >, <openmm.openmm.PeriodicTorsionForce; proxy of <Swig Object of type 'OpenMM::PeriodicTorsionForce *' at 0x2b30d8473c90> >, <openmm.openmm.NonbondedForce; proxy of <Swig Object of type 'OpenMM::NonbondedForce *' at 0x2b30d8473ea0> >, <openmm.openmm.CustomNonbondedForce; proxy of <Swig Object of type 'OpenMM::CustomNonbondedForce *' at 0x2b30d8473e40> >, <openmm.openmm.CustomBondForce; proxy of <Swig Object of type 'OpenMM::CustomBondForce *' at 0x2b30d8473ed0> >]\n",
      "INFO:setup:number of particles in apo: 1558\n"
     ]
    }
   ],
   "source": [
    "old_outdir = \"/data/chodera/zhangi/perses_benchmark/repex/38/4/\"\n",
    "new_outdir = \"/data/chodera/zhangi/perses_benchmark/repex/38/10/\"\n",
    "\n",
    "htf = generate_vanilla_htf_from_rest_htf(old_outdir, new_outdir)\n"
   ]
  },
  {
   "cell_type": "code",
   "execution_count": 32,
   "id": "bfdf47ab",
   "metadata": {
    "scrolled": true
   },
   "outputs": [
    {
     "name": "stderr",
     "output_type": "stream",
     "text": [
      "INFO:relative:*** Generating vanilla HybridTopologyFactory ***\n",
      "INFO:relative:Beginning nonbonded method, total particle, barostat, and exceptions retrieval...\n",
      "INFO:relative:Flattening exceptions of unique new/old at lambda = 0/1\n",
      "INFO:relative:Old system forces: dict_keys(['HarmonicBondForce', 'HarmonicAngleForce', 'PeriodicTorsionForce', 'NonbondedForce', 'MonteCarloBarostat'])\n",
      "INFO:relative:New system forces: dict_keys(['HarmonicBondForce', 'HarmonicAngleForce', 'PeriodicTorsionForce', 'NonbondedForce', 'MonteCarloBarostat'])\n",
      "INFO:relative:No unknown forces.\n",
      "INFO:relative:Nonbonded method to be used (i.e. from old system): 4\n",
      "INFO:relative:Adding and mapping old atoms to hybrid system...\n",
      "INFO:relative:Adding and mapping new atoms to hybrid system...\n",
      "INFO:relative:Added MonteCarloBarostat.\n",
      "INFO:relative:getDefaultPeriodicBoxVectors added to hybrid: [Quantity(value=Vec3(x=2.7648, y=0.0, z=0.0), unit=nanometer), Quantity(value=Vec3(x=0.9215990612312835, y=2.6066787700707614, z=0.0), unit=nanometer), Quantity(value=Vec3(x=-0.9215990612312832, y=1.303337393606965, z=2.2574511841374156), unit=nanometer)]\n",
      "INFO:relative:Determined atom classes.\n",
      "INFO:relative:Generating old system exceptions dict...\n",
      "INFO:relative:Generating new system exceptions dict...\n",
      "INFO:relative:Handling constraints...\n",
      "INFO:relative:Handling virtual sites...\n",
      "INFO:relative:\t_handle_virtual_sites: numVirtualSites: 0\n",
      "INFO:relative:Adding bond force terms...\n",
      "INFO:relative:Adding angle force terms...\n",
      "INFO:relative:Adding torsion force terms...\n",
      "INFO:relative:Adding nonbonded force terms...\n",
      "INFO:relative:\t_add_nonbonded_force_terms: <openmm.openmm.NonbondedForce; proxy of <Swig Object of type 'OpenMM::NonbondedForce *' at 0x2b30d969db10> > added to hybrid system\n",
      "INFO:relative:\t_add_nonbonded_force_terms: nonbonded_method is PME or Ewald\n",
      "INFO:relative:\t_add_nonbonded_force_terms: 4 added to standard nonbonded force\n",
      "INFO:relative:\t_add_nonbonded_force_terms: 2 added to sterics_custom_nonbonded force\n",
      "INFO:relative:\t_add_nonbonded_force_terms: <openmm.openmm.CustomNonbondedForce; proxy of <Swig Object of type 'OpenMM::CustomNonbondedForce *' at 0x2b30d969dc90> > added to hybrid system\n",
      "INFO:relative:Handling harmonic bonds...\n",
      "INFO:relative:\thandle_harmonic_bonds: looping through old_system to add relevant terms...\n",
      "INFO:relative:\thandle_harmonic_bonds: looping through new_system to add relevant terms...\n",
      "INFO:relative:Handling harmonic angles...\n",
      "INFO:relative:\thandle_harmonic_angles: looping through old_system to add relevant terms...\n",
      "INFO:relative:\thandle_harmonic_angles: looping through new_system to add relevant terms...\n",
      "INFO:relative:Handling torsion forces...\n",
      "INFO:relative:\thandle_periodic_torsion_forces: looping through old_system to add relevant terms...\n",
      "INFO:relative:\thandle_periodic_torsion_forces: looping through new_system to add relevant terms...\n",
      "INFO:relative:Handling nonbonded forces...\n",
      "INFO:relative:\thandle_nonbonded: looping through all particles in hybrid...\n",
      "INFO:relative:\thandle_nonbonded: Handling Interaction Groups...\n",
      "INFO:relative:\thandle_nonbonded: Handling Hybrid Exceptions...\n",
      "INFO:relative:\thandle_nonbonded: Handling Original Exceptions...\n",
      "INFO:relative:Handling unique_new/old interaction exceptions...\n",
      "INFO:relative:There are old or new system exceptions...proceeding.\n",
      "INFO:relative:Imposing virtual bonds to ensure system is imaged together.\n",
      "INFO:relative:\t\t_impose_virtual_bonds: No restraint added because sets overlap (core_atoms=[0, 1, 2, 6, 7, 8, 9, 10, 20, 21], protein_atoms=[7])\n",
      "INFO:setup:sterics expression: (1-lambda_torsions)*U1 + lambda_torsions*U2;U1 = K1*(1+cos(periodicity1*theta-phase1));U2 = K2*(1+cos(periodicity2*theta-phase2));\n",
      "INFO:setup:forces: [<openmm.openmm.MonteCarloBarostat; proxy of <Swig Object of type 'OpenMM::MonteCarloBarostat *' at 0x2b30d8985f00> >, <openmm.openmm.CustomBondForce; proxy of <Swig Object of type 'OpenMM::CustomBondForce *' at 0x2b30d8373cf0> >, <openmm.openmm.HarmonicBondForce; proxy of <Swig Object of type 'OpenMM::HarmonicBondForce *' at 0x2b30da038990> >, <openmm.openmm.CustomAngleForce; proxy of <Swig Object of type 'OpenMM::CustomAngleForce *' at 0x2b30da038870> >, <openmm.openmm.HarmonicAngleForce; proxy of <Swig Object of type 'OpenMM::HarmonicAngleForce *' at 0x2b30da0387e0> >, <openmm.openmm.CustomTorsionForce; proxy of <Swig Object of type 'OpenMM::CustomTorsionForce *' at 0x2b30da0389c0> >, <openmm.openmm.PeriodicTorsionForce; proxy of <Swig Object of type 'OpenMM::PeriodicTorsionForce *' at 0x2b30da038810> >, <openmm.openmm.NonbondedForce; proxy of <Swig Object of type 'OpenMM::NonbondedForce *' at 0x2b30da0385a0> >, <openmm.openmm.CustomNonbondedForce; proxy of <Swig Object of type 'OpenMM::CustomNonbondedForce *' at 0x2b30da0386f0> >, <openmm.openmm.CustomBondForce; proxy of <Swig Object of type 'OpenMM::CustomBondForce *' at 0x2b30da038480> >]\n",
      "INFO:setup:number of particles in apo: 1564\n"
     ]
    }
   ],
   "source": [
    "old_outdir = \"/data/chodera/zhangi/perses_benchmark/repex/38/5/\"\n",
    "new_outdir = \"/data/chodera/zhangi/perses_benchmark/repex/38/11/\"\n",
    "\n",
    "htf = generate_vanilla_htf_from_rest_htf(old_outdir, new_outdir)\n"
   ]
  },
  {
   "cell_type": "code",
   "execution_count": 34,
   "id": "b032db73",
   "metadata": {
    "scrolled": true
   },
   "outputs": [
    {
     "name": "stderr",
     "output_type": "stream",
     "text": [
      "INFO:relative:*** Generating vanilla HybridTopologyFactory ***\n",
      "INFO:relative:Beginning nonbonded method, total particle, barostat, and exceptions retrieval...\n",
      "INFO:relative:Flattening exceptions of unique new/old at lambda = 0/1\n",
      "INFO:relative:Old system forces: dict_keys(['HarmonicBondForce', 'HarmonicAngleForce', 'PeriodicTorsionForce', 'NonbondedForce', 'MonteCarloBarostat'])\n",
      "INFO:relative:New system forces: dict_keys(['HarmonicBondForce', 'HarmonicAngleForce', 'PeriodicTorsionForce', 'NonbondedForce', 'MonteCarloBarostat'])\n",
      "INFO:relative:No unknown forces.\n",
      "INFO:relative:Nonbonded method to be used (i.e. from old system): 4\n",
      "INFO:relative:Adding and mapping old atoms to hybrid system...\n",
      "INFO:relative:Adding and mapping new atoms to hybrid system...\n",
      "INFO:relative:Added MonteCarloBarostat.\n",
      "INFO:relative:getDefaultPeriodicBoxVectors added to hybrid: [Quantity(value=Vec3(x=2.7648, y=0.0, z=0.0), unit=nanometer), Quantity(value=Vec3(x=0.9215990612312835, y=2.6066787700707614, z=0.0), unit=nanometer), Quantity(value=Vec3(x=-0.9215990612312832, y=1.303337393606965, z=2.2574511841374156), unit=nanometer)]\n",
      "INFO:relative:Determined atom classes.\n",
      "INFO:relative:Generating old system exceptions dict...\n",
      "INFO:relative:Generating new system exceptions dict...\n",
      "INFO:relative:Handling constraints...\n",
      "INFO:relative:Handling virtual sites...\n",
      "INFO:relative:\t_handle_virtual_sites: numVirtualSites: 0\n",
      "INFO:relative:Adding bond force terms...\n",
      "INFO:relative:Adding angle force terms...\n",
      "INFO:relative:Adding torsion force terms...\n",
      "INFO:relative:Adding nonbonded force terms...\n",
      "INFO:relative:\t_add_nonbonded_force_terms: <openmm.openmm.NonbondedForce; proxy of <Swig Object of type 'OpenMM::NonbondedForce *' at 0x2b30d9963bd0> > added to hybrid system\n",
      "INFO:relative:\t_add_nonbonded_force_terms: nonbonded_method is PME or Ewald\n",
      "INFO:relative:\t_add_nonbonded_force_terms: 4 added to standard nonbonded force\n",
      "INFO:relative:\t_add_nonbonded_force_terms: 2 added to sterics_custom_nonbonded force\n",
      "INFO:relative:\t_add_nonbonded_force_terms: <openmm.openmm.CustomNonbondedForce; proxy of <Swig Object of type 'OpenMM::CustomNonbondedForce *' at 0x2b30d9963a50> > added to hybrid system\n",
      "INFO:relative:Handling harmonic bonds...\n",
      "INFO:relative:\thandle_harmonic_bonds: looping through old_system to add relevant terms...\n",
      "INFO:relative:\thandle_harmonic_bonds: looping through new_system to add relevant terms...\n",
      "INFO:relative:Handling harmonic angles...\n",
      "INFO:relative:\thandle_harmonic_angles: looping through old_system to add relevant terms...\n",
      "INFO:relative:\thandle_harmonic_angles: looping through new_system to add relevant terms...\n",
      "INFO:relative:Handling torsion forces...\n",
      "INFO:relative:\thandle_periodic_torsion_forces: looping through old_system to add relevant terms...\n",
      "INFO:relative:\thandle_periodic_torsion_forces: looping through new_system to add relevant terms...\n",
      "INFO:relative:Handling nonbonded forces...\n",
      "INFO:relative:\thandle_nonbonded: looping through all particles in hybrid...\n",
      "INFO:relative:\thandle_nonbonded: Handling Interaction Groups...\n",
      "INFO:relative:\thandle_nonbonded: Handling Hybrid Exceptions...\n",
      "INFO:relative:\thandle_nonbonded: Handling Original Exceptions...\n",
      "INFO:relative:Handling unique_new/old interaction exceptions...\n",
      "INFO:relative:There are old or new system exceptions...proceeding.\n",
      "INFO:relative:Imposing virtual bonds to ensure system is imaged together.\n",
      "INFO:relative:\t\t_impose_virtual_bonds: No restraint added because sets overlap (core_atoms=[1, 4, 5, 6, 8, 10, 13, 14, 16, 18], protein_atoms=[8])\n",
      "INFO:setup:sterics expression: (1-lambda_torsions)*U1 + lambda_torsions*U2;U1 = K1*(1+cos(periodicity1*theta-phase1));U2 = K2*(1+cos(periodicity2*theta-phase2));\n",
      "INFO:setup:forces: [<openmm.openmm.MonteCarloBarostat; proxy of <Swig Object of type 'OpenMM::MonteCarloBarostat *' at 0x2b30d8985a20> >, <openmm.openmm.CustomBondForce; proxy of <Swig Object of type 'OpenMM::CustomBondForce *' at 0x2b30d7f778a0> >, <openmm.openmm.HarmonicBondForce; proxy of <Swig Object of type 'OpenMM::HarmonicBondForce *' at 0x2b30d7f77840> >, <openmm.openmm.CustomAngleForce; proxy of <Swig Object of type 'OpenMM::CustomAngleForce *' at 0x2b30d7f77a20> >, <openmm.openmm.HarmonicAngleForce; proxy of <Swig Object of type 'OpenMM::HarmonicAngleForce *' at 0x2b30d7f77930> >, <openmm.openmm.CustomTorsionForce; proxy of <Swig Object of type 'OpenMM::CustomTorsionForce *' at 0x2b30d7f77b40> >, <openmm.openmm.PeriodicTorsionForce; proxy of <Swig Object of type 'OpenMM::PeriodicTorsionForce *' at 0x2b30d7f77a50> >, <openmm.openmm.NonbondedForce; proxy of <Swig Object of type 'OpenMM::NonbondedForce *' at 0x2b30d7f77c60> >, <openmm.openmm.CustomNonbondedForce; proxy of <Swig Object of type 'OpenMM::CustomNonbondedForce *' at 0x2b30d7f77b70> >, <openmm.openmm.CustomBondForce; proxy of <Swig Object of type 'OpenMM::CustomBondForce *' at 0x2b30d7f77d80> >]\n",
      "INFO:setup:number of particles in apo: 1560\n"
     ]
    }
   ],
   "source": [
    "old_outdir = \"/data/chodera/zhangi/perses_benchmark/repex/38/6/\"\n",
    "new_outdir = \"/data/chodera/zhangi/perses_benchmark/repex/38/12/\"\n",
    "\n",
    "htf = generate_vanilla_htf_from_rest_htf(old_outdir, new_outdir)\n"
   ]
  },
  {
   "cell_type": "code",
   "execution_count": 35,
   "id": "f3f7bf71",
   "metadata": {
    "scrolled": true
   },
   "outputs": [
    {
     "name": "stderr",
     "output_type": "stream",
     "text": [
      "INFO:relative:*** Generating vanilla HybridTopologyFactory ***\n",
      "INFO:relative:Beginning nonbonded method, total particle, barostat, and exceptions retrieval...\n",
      "INFO:relative:Flattening exceptions of unique new/old at lambda = 0/1\n",
      "INFO:relative:Old system forces: dict_keys(['HarmonicBondForce', 'HarmonicAngleForce', 'PeriodicTorsionForce', 'NonbondedForce', 'MonteCarloBarostat'])\n",
      "INFO:relative:New system forces: dict_keys(['HarmonicBondForce', 'HarmonicAngleForce', 'PeriodicTorsionForce', 'NonbondedForce', 'MonteCarloBarostat'])\n",
      "INFO:relative:No unknown forces.\n",
      "INFO:relative:Nonbonded method to be used (i.e. from old system): 4\n",
      "INFO:relative:Adding and mapping old atoms to hybrid system...\n",
      "INFO:relative:Adding and mapping new atoms to hybrid system...\n",
      "INFO:relative:Added MonteCarloBarostat.\n",
      "INFO:relative:getDefaultPeriodicBoxVectors added to hybrid: [Quantity(value=Vec3(x=2.7648, y=0.0, z=0.0), unit=nanometer), Quantity(value=Vec3(x=0.9215990612312835, y=2.6066787700707614, z=0.0), unit=nanometer), Quantity(value=Vec3(x=-0.9215990612312832, y=1.303337393606965, z=2.2574511841374156), unit=nanometer)]\n",
      "INFO:relative:Determined atom classes.\n",
      "INFO:relative:Generating old system exceptions dict...\n",
      "INFO:relative:Generating new system exceptions dict...\n",
      "INFO:relative:Handling constraints...\n",
      "INFO:relative:Handling virtual sites...\n",
      "INFO:relative:\t_handle_virtual_sites: numVirtualSites: 0\n",
      "INFO:relative:Adding bond force terms...\n",
      "INFO:relative:Adding angle force terms...\n",
      "INFO:relative:Adding torsion force terms...\n",
      "INFO:relative:Adding nonbonded force terms...\n",
      "INFO:relative:\t_add_nonbonded_force_terms: <openmm.openmm.NonbondedForce; proxy of <Swig Object of type 'OpenMM::NonbondedForce *' at 0x2b30d9e183f0> > added to hybrid system\n",
      "INFO:relative:\t_add_nonbonded_force_terms: nonbonded_method is PME or Ewald\n",
      "INFO:relative:\t_add_nonbonded_force_terms: 4 added to standard nonbonded force\n",
      "INFO:relative:\t_add_nonbonded_force_terms: 2 added to sterics_custom_nonbonded force\n",
      "INFO:relative:\t_add_nonbonded_force_terms: <openmm.openmm.CustomNonbondedForce; proxy of <Swig Object of type 'OpenMM::CustomNonbondedForce *' at 0x2b30d9e18570> > added to hybrid system\n",
      "INFO:relative:Handling harmonic bonds...\n",
      "INFO:relative:\thandle_harmonic_bonds: looping through old_system to add relevant terms...\n",
      "INFO:relative:\thandle_harmonic_bonds: looping through new_system to add relevant terms...\n",
      "INFO:relative:Handling harmonic angles...\n",
      "INFO:relative:\thandle_harmonic_angles: looping through old_system to add relevant terms...\n",
      "INFO:relative:\thandle_harmonic_angles: looping through new_system to add relevant terms...\n",
      "INFO:relative:Handling torsion forces...\n",
      "INFO:relative:\thandle_periodic_torsion_forces: looping through old_system to add relevant terms...\n",
      "INFO:relative:\thandle_periodic_torsion_forces: looping through new_system to add relevant terms...\n",
      "INFO:relative:Handling nonbonded forces...\n",
      "INFO:relative:\thandle_nonbonded: looping through all particles in hybrid...\n",
      "INFO:relative:\thandle_nonbonded: Handling Interaction Groups...\n",
      "INFO:relative:\thandle_nonbonded: Handling Hybrid Exceptions...\n",
      "INFO:relative:\thandle_nonbonded: Handling Original Exceptions...\n",
      "INFO:relative:Handling unique_new/old interaction exceptions...\n",
      "INFO:relative:There are old or new system exceptions...proceeding.\n",
      "INFO:relative:Imposing virtual bonds to ensure system is imaged together.\n",
      "INFO:relative:\t\t_impose_virtual_bonds: No restraint added because sets overlap (core_atoms=[1, 4, 5, 6, 8, 10, 11, 12, 22, 24], protein_atoms=[8])\n",
      "INFO:setup:sterics expression: (1-lambda_torsions)*U1 + lambda_torsions*U2;U1 = K1*(1+cos(periodicity1*theta-phase1));U2 = K2*(1+cos(periodicity2*theta-phase2));\n",
      "INFO:setup:forces: [<openmm.openmm.MonteCarloBarostat; proxy of <Swig Object of type 'OpenMM::MonteCarloBarostat *' at 0x2b30d8319120> >, <openmm.openmm.CustomBondForce; proxy of <Swig Object of type 'OpenMM::CustomBondForce *' at 0x2b30d7dd6d50> >, <openmm.openmm.HarmonicBondForce; proxy of <Swig Object of type 'OpenMM::HarmonicBondForce *' at 0x2b30d7dd6cc0> >, <openmm.openmm.CustomAngleForce; proxy of <Swig Object of type 'OpenMM::CustomAngleForce *' at 0x2b30d7dd6f00> >, <openmm.openmm.HarmonicAngleForce; proxy of <Swig Object of type 'OpenMM::HarmonicAngleForce *' at 0x2b30d7dd6d80> >, <openmm.openmm.CustomTorsionForce; proxy of <Swig Object of type 'OpenMM::CustomTorsionForce *' at 0x2b30d7217fc0> >, <openmm.openmm.PeriodicTorsionForce; proxy of <Swig Object of type 'OpenMM::PeriodicTorsionForce *' at 0x2b30d7217cf0> >, <openmm.openmm.NonbondedForce; proxy of <Swig Object of type 'OpenMM::NonbondedForce *' at 0x2b30d7217e70> >, <openmm.openmm.CustomNonbondedForce; proxy of <Swig Object of type 'OpenMM::CustomNonbondedForce *' at 0x2b30d7217c30> >, <openmm.openmm.CustomBondForce; proxy of <Swig Object of type 'OpenMM::CustomBondForce *' at 0x2b30d7217b40> >]\n",
      "INFO:setup:number of particles in apo: 1560\n"
     ]
    }
   ],
   "source": [
    "old_outdir = \"/data/chodera/zhangi/perses_benchmark/repex/38/7/\"\n",
    "new_outdir = \"/data/chodera/zhangi/perses_benchmark/repex/38/13/\"\n",
    "\n",
    "htf = generate_vanilla_htf_from_rest_htf(old_outdir, new_outdir)\n"
   ]
  },
  {
   "cell_type": "code",
   "execution_count": 40,
   "id": "b4b81a77",
   "metadata": {
    "scrolled": true
   },
   "outputs": [
    {
     "name": "stderr",
     "output_type": "stream",
     "text": [
      "DEBUG:openmmforcefields.system_generators:Trying GAFFTemplateGenerator to load gaff-2.11\n",
      "INFO:proposal_generator:\tConducting polymer point mutation proposal...\n",
      "INFO:proposal_generator:local_atom_map: {6: 6, 7: 7, 8: 8, 9: 9, 10: 10, 13: 13, 14: 14}\n",
      "INFO:proposal_generator:the mapped atom names are: [('N', 'N'), ('H', 'H'), ('CA', 'CA'), ('HA', 'HA'), ('CB', 'CB'), ('C', 'C'), ('O', 'O')]\n",
      "INFO:geometry:propose: performing forward proposal\n",
      "INFO:geometry:propose: unique new atoms detected; proceeding to _logp_propose...\n",
      "INFO:geometry:Conducting forward proposal...\n",
      "INFO:geometry:Computing proposal order with NetworkX...\n",
      "INFO:geometry:number of atoms to be placed: 3\n",
      "INFO:geometry:Atom index proposal order is [12, 11, 15]\n",
      "INFO:geometry:omitted_bonds: []\n",
      "INFO:geometry:direction of proposal is forward; creating atoms_with_positions and new positions from old system/topology...\n",
      "INFO:geometry:creating growth system...\n",
      "INFO:geometry:\tcreating bond force...\n",
      "INFO:geometry:\tthere are 9 bonds in reference force.\n",
      "INFO:geometry:\tcreating angle force...\n",
      "INFO:geometry:\tthere are 36 angles in reference force.\n",
      "INFO:geometry:\tcreating torsion force...\n",
      "INFO:geometry:\tcreating extra torsions force...\n",
      "INFO:geometry:\tthere are 42 torsions in reference force.\n",
      "INFO:geometry:\tcreating nonbonded force...\n",
      "INFO:geometry:\t\tgrabbing reference nonbonded method, cutoff, switching function, switching distance...\n",
      "INFO:geometry:\t\tcreating nonbonded exception force (i.e. custom bond for 1,4s)...\n",
      "INFO:geometry:\t\tlooping through exceptions calculating growth indices, and adding appropriate interactions to custom bond force.\n",
      "INFO:geometry:\t\tthere are 98 in the reference Nonbonded force\n",
      "INFO:geometry:Neglected angle terms : []\n",
      "INFO:geometry:omitted_growth_terms: {'bonds': [], 'angles': [], 'torsions': [], '1,4s': []}\n",
      "INFO:geometry:extra torsions: {0: (6, 8, 10, 15, [1, Quantity(value=2.105358864604291, unit=radian), Quantity(value=1200.0, unit=kilocalorie/mole), 3]), 1: (6, 8, 10, 11, [1, Quantity(value=-2.0823006129211796, unit=radian), Quantity(value=1200.0, unit=kilocalorie/mole), 2]), 2: (6, 8, 10, 12, [1, Quantity(value=0.018582237407944735, unit=radian), Quantity(value=1200.0, unit=kilocalorie/mole), 1]), 3: (13, 8, 10, 15, [1, Quantity(value=-0.036945135932107576, unit=radian), Quantity(value=1200.0, unit=kilocalorie/mole), 3]), 4: (13, 8, 10, 11, [1, Quantity(value=2.0585806937220097, unit=radian), Quantity(value=1200.0, unit=kilocalorie/mole), 2]), 5: (13, 8, 10, 12, [1, Quantity(value=-2.1237217631284597, unit=radian), Quantity(value=1200.0, unit=kilocalorie/mole), 1]), 6: (9, 8, 10, 15, [1, Quantity(value=-2.119603470065817, unit=radian), Quantity(value=1200.0, unit=kilocalorie/mole), 3]), 7: (9, 8, 10, 11, [1, Quantity(value=-0.024077640411697132, unit=radian), Quantity(value=1200.0, unit=kilocalorie/mole), 2]), 8: (9, 8, 10, 12, [1, Quantity(value=2.0768052099174152, unit=radian), Quantity(value=1200.0, unit=kilocalorie/mole), 1])}\n",
      "INFO:geometry:neglected angle terms include []\n",
      "INFO:geometry:log probability choice of torsions and atom order: -5.0875963352323845\n",
      "INFO:geometry:creating platform, integrators, and contexts; setting growth parameter\n"
     ]
    },
    {
     "name": "stdout",
     "output_type": "stream",
     "text": [
      "None\n",
      "[Quantity(value=Vec3(x=2.0, y=0.0, z=0.0), unit=nanometer), Quantity(value=Vec3(x=0.0, y=2.0, z=0.0), unit=nanometer), Quantity(value=Vec3(x=0.0, y=0.0, z=2.0), unit=nanometer)]\n",
      "False\n",
      "[Quantity(value=Vec3(x=2.0, y=0.0, z=0.0), unit=nanometer), Quantity(value=Vec3(x=0.0, y=2.0, z=0.0), unit=nanometer), Quantity(value=Vec3(x=0.0, y=0.0, z=2.0), unit=nanometer)]\n",
      "False\n",
      "conducting subsequent work with the following platform: CUDA\n"
     ]
    },
    {
     "name": "stderr",
     "output_type": "stream",
     "text": [
      "INFO:geometry:setting atoms_with_positions context new positions\n"
     ]
    },
    {
     "name": "stdout",
     "output_type": "stream",
     "text": [
      "conducting subsequent work with the following platform: CUDA\n"
     ]
    },
    {
     "name": "stderr",
     "output_type": "stream",
     "text": [
      "INFO:geometry:There are 3 new atoms\n",
      "INFO:geometry:\treduced angle potential = 0.10100672956376845.\n",
      "INFO:geometry:\treduced angle potential = 0.04657192575381088.\n",
      "INFO:geometry:\treduced angle potential = 0.8027319748081378.\n",
      "INFO:geometry:\tbeginning construction of no_nonbonded final system...\n",
      "INFO:geometry:\tinitial no-nonbonded final system forces ['HarmonicBondForce', 'HarmonicAngleForce', 'PeriodicTorsionForce', 'NonbondedForce']\n",
      "INFO:geometry:\tfinal no-nonbonded final system forces dict_keys(['HarmonicBondForce', 'HarmonicAngleForce', 'PeriodicTorsionForce', 'NonbondedForce'])\n",
      "INFO:geometry:\tthere are 9 bond forces in the no-nonbonded final system\n",
      "INFO:geometry:\tthere are 36 angle forces in the no-nonbonded final system\n",
      "INFO:geometry:\tthere are 42 torsion forces in the no-nonbonded final system\n",
      "INFO:geometry:forward final system defined with 0 neglected angles.\n"
     ]
    },
    {
     "name": "stdout",
     "output_type": "stream",
     "text": [
      "conducting subsequent work with the following platform: CUDA\n",
      "conducting subsequent work with the following platform: CUDA\n"
     ]
    },
    {
     "name": "stderr",
     "output_type": "stream",
     "text": [
      "INFO:geometry:total reduced potential before atom placement: 42.539566350871226\n"
     ]
    },
    {
     "name": "stdout",
     "output_type": "stream",
     "text": [
      "conducting subsequent work with the following platform: CUDA\n",
      "conducting subsequent work with the following platform: CUDA\n",
      "conducting subsequent work with the following platform: CUDA\n"
     ]
    },
    {
     "name": "stderr",
     "output_type": "stream",
     "text": [
      "INFO:geometry:total reduced energy added from growth system: 9.654636533266732\n",
      "INFO:geometry:final reduced energy 52.19420244330465\n",
      "INFO:geometry:sum of energies: 52.19420288413796\n",
      "INFO:geometry:magnitude of difference in the energies: 4.408333111882712e-07\n",
      "INFO:geometry:Final logp_proposal: 21.6962754344467\n"
     ]
    },
    {
     "name": "stdout",
     "output_type": "stream",
     "text": [
      "added energy components: [('CustomBondForce', 0.0), ('CustomAngleForce', 1.58007922392092), ('CustomTorsionForce', 0.08900067298723008), ('CustomBondForce', 7.98555663635858)]\n"
     ]
    },
    {
     "name": "stderr",
     "output_type": "stream",
     "text": [
      "INFO:geometry:logp_reverse: performing reverse proposal\n",
      "INFO:geometry:logp_reverse: unique new atoms detected; proceeding to _logp_propose...\n",
      "INFO:geometry:Conducting forward proposal...\n",
      "INFO:geometry:Computing proposal order with NetworkX...\n",
      "INFO:geometry:number of atoms to be placed: 17\n",
      "INFO:geometry:Atom index proposal order is [15, 18, 21, 23, 27, 24, 12, 16, 29, 22, 25, 19, 17, 20, 28, 26, 11]\n",
      "INFO:geometry:omitted_bonds: []\n",
      "INFO:geometry:direction of proposal is reverse; creating atoms_with_positions from old system/topology\n",
      "INFO:geometry:creating growth system...\n",
      "INFO:geometry:\tcreating bond force...\n",
      "INFO:geometry:\tthere are 15 bonds in reference force.\n",
      "INFO:geometry:\tcreating angle force...\n",
      "INFO:geometry:\tthere are 60 angles in reference force.\n",
      "INFO:geometry:\tcreating torsion force...\n",
      "INFO:geometry:\tcreating extra torsions force...\n",
      "INFO:geometry:\tthere are 78 torsions in reference force.\n",
      "INFO:geometry:\tcreating nonbonded force...\n",
      "INFO:geometry:\t\tgrabbing reference nonbonded method, cutoff, switching function, switching distance...\n",
      "INFO:geometry:\t\tcreating nonbonded exception force (i.e. custom bond for 1,4s)...\n",
      "INFO:geometry:\t\tlooping through exceptions calculating growth indices, and adding appropriate interactions to custom bond force.\n",
      "INFO:geometry:\t\tthere are 172 in the reference Nonbonded force\n",
      "INFO:geometry:Neglected angle terms : []\n",
      "INFO:geometry:omitted_growth_terms: {'bonds': [], 'angles': [], 'torsions': [], '1,4s': []}\n",
      "INFO:geometry:extra torsions: {0: (28, 27, 23, 21, [1, Quantity(value=3.1400479780546657, unit=radian), Quantity(value=1200.0, unit=kilocalorie/mole), 15]), 1: (28, 27, 23, 24, [1, Quantity(value=-0.0009854700401916716, unit=radian), Quantity(value=1200.0, unit=kilocalorie/mole), 15]), 2: (29, 27, 23, 21, [1, Quantity(value=-0.0019499207113558015, unit=radian), Quantity(value=1200.0, unit=kilocalorie/mole), 9]), 3: (29, 27, 23, 24, [1, Quantity(value=3.1402019383733304, unit=radian), Quantity(value=1200.0, unit=kilocalorie/mole), 9]), 4: (27, 23, 24, 26, [1, Quantity(value=-3.141011085169936, unit=radian), Quantity(value=1200.0, unit=kilocalorie/mole), 16]), 5: (27, 23, 24, 25, [1, Quantity(value=0.0013841937088012735, unit=radian), Quantity(value=1200.0, unit=kilocalorie/mole), 11]), 6: (21, 23, 24, 26, [1, Quantity(value=0.0011725432810614222, unit=radian), Quantity(value=1200.0, unit=kilocalorie/mole), 16]), 7: (21, 23, 24, 25, [1, Quantity(value=-3.1396174850195098, unit=radian), Quantity(value=1200.0, unit=kilocalorie/mole), 11])}\n",
      "INFO:geometry:neglected angle terms include []\n",
      "INFO:geometry:log probability choice of torsions and atom order: -32.4626665768706\n",
      "INFO:geometry:creating platform, integrators, and contexts; setting growth parameter\n"
     ]
    },
    {
     "name": "stdout",
     "output_type": "stream",
     "text": [
      "conducting subsequent work with the following platform: CUDA\n"
     ]
    },
    {
     "name": "stderr",
     "output_type": "stream",
     "text": [
      "INFO:geometry:setting atoms_with_positions context old positions\n"
     ]
    },
    {
     "name": "stdout",
     "output_type": "stream",
     "text": [
      "conducting subsequent work with the following platform: CUDA\n"
     ]
    },
    {
     "name": "stderr",
     "output_type": "stream",
     "text": [
      "INFO:geometry:There are 17 new atoms\n",
      "INFO:geometry:\treduced angle potential = 0.042853125757750306.\n",
      "INFO:geometry:\treduced angle potential = 0.11918491356084256.\n",
      "INFO:geometry:\treduced angle potential = 0.03558938425976845.\n",
      "INFO:geometry:\treduced angle potential = 3.063706070595789e-05.\n",
      "INFO:geometry:\treduced angle potential = 0.3856161427963459.\n",
      "INFO:geometry:\treduced angle potential = 0.1283940070536202.\n",
      "INFO:geometry:\treduced angle potential = 1.2253845407775443.\n",
      "INFO:geometry:\treduced angle potential = 0.05013507617612773.\n",
      "INFO:geometry:\treduced angle potential = 0.006867661209664784.\n",
      "INFO:geometry:\treduced angle potential = 0.3345265489620942.\n",
      "INFO:geometry:\treduced angle potential = 0.3039552128830515.\n",
      "INFO:geometry:\treduced angle potential = 0.2873232522818814.\n",
      "INFO:geometry:\treduced angle potential = 1.0049041510239072.\n",
      "INFO:geometry:\treduced angle potential = 0.39463143613777724.\n",
      "INFO:geometry:\treduced angle potential = 0.37202362757935775.\n",
      "INFO:geometry:\treduced angle potential = 0.0395257051882019.\n",
      "INFO:geometry:\treduced angle potential = 0.014831313710720695.\n",
      "INFO:geometry:\tbeginning construction of no_nonbonded final system...\n",
      "INFO:geometry:\tinitial no-nonbonded final system forces ['HarmonicBondForce', 'HarmonicAngleForce', 'PeriodicTorsionForce', 'NonbondedForce']\n",
      "INFO:geometry:\tfinal no-nonbonded final system forces dict_keys(['HarmonicBondForce', 'HarmonicAngleForce', 'PeriodicTorsionForce', 'NonbondedForce'])\n",
      "INFO:geometry:\tthere are 15 bond forces in the no-nonbonded final system\n",
      "INFO:geometry:\tthere are 60 angle forces in the no-nonbonded final system\n",
      "INFO:geometry:\tthere are 78 torsion forces in the no-nonbonded final system\n",
      "INFO:geometry:reverse final system defined with 0 neglected angles.\n"
     ]
    },
    {
     "name": "stdout",
     "output_type": "stream",
     "text": [
      "conducting subsequent work with the following platform: CUDA\n",
      "conducting subsequent work with the following platform: CUDA\n"
     ]
    },
    {
     "name": "stderr",
     "output_type": "stream",
     "text": [
      "INFO:geometry:total reduced potential before atom placement: 42.539566350871226\n"
     ]
    },
    {
     "name": "stdout",
     "output_type": "stream",
     "text": [
      "conducting subsequent work with the following platform: CUDA\n",
      "conducting subsequent work with the following platform: CUDA\n",
      "conducting subsequent work with the following platform: CUDA\n"
     ]
    },
    {
     "name": "stderr",
     "output_type": "stream",
     "text": [
      "INFO:geometry:total reduced energy added from growth system: -478.8342646200793\n",
      "INFO:geometry:final reduced energy -436.2947077009399\n",
      "INFO:geometry:sum of energies: -436.2946982692081\n",
      "INFO:geometry:magnitude of difference in the energies: 9.43173182577084e-06\n",
      "INFO:geometry:Final logp_proposal: -31453.711521803023\n"
     ]
    },
    {
     "name": "stdout",
     "output_type": "stream",
     "text": [
      "added energy components: [('CustomBondForce', 8.159981229252093), ('CustomAngleForce', 9.07511207953895), ('CustomTorsionForce', 4.707971040348824), ('CustomBondForce', -500.77732896921924)]\n"
     ]
    },
    {
     "name": "stderr",
     "output_type": "stream",
     "text": [
      "INFO:setup:skipping counterion functionality because phase is vacuum\n",
      "INFO:relative:*** Generating vanilla HybridTopologyFactory ***\n",
      "INFO:relative:Beginning nonbonded method, total particle, barostat, and exceptions retrieval...\n",
      "INFO:relative:Flattening exceptions of unique new/old at lambda = 0/1\n",
      "INFO:relative:Old system forces: dict_keys(['HarmonicBondForce', 'HarmonicAngleForce', 'PeriodicTorsionForce', 'NonbondedForce'])\n",
      "INFO:relative:New system forces: dict_keys(['HarmonicBondForce', 'HarmonicAngleForce', 'PeriodicTorsionForce', 'NonbondedForce'])\n",
      "INFO:relative:No unknown forces.\n",
      "INFO:relative:Nonbonded method to be used (i.e. from old system): 0\n",
      "INFO:relative:Adding and mapping old atoms to hybrid system...\n",
      "INFO:relative:Adding and mapping new atoms to hybrid system...\n",
      "INFO:relative:No MonteCarloBarostat added.\n",
      "INFO:relative:getDefaultPeriodicBoxVectors added to hybrid: [Quantity(value=Vec3(x=2.0, y=0.0, z=0.0), unit=nanometer), Quantity(value=Vec3(x=0.0, y=2.0, z=0.0), unit=nanometer), Quantity(value=Vec3(x=0.0, y=0.0, z=2.0), unit=nanometer)]\n",
      "INFO:relative:Determined atom classes.\n",
      "INFO:relative:Generating old system exceptions dict...\n",
      "INFO:relative:Generating new system exceptions dict...\n",
      "INFO:relative:Handling constraints...\n",
      "INFO:relative:Handling virtual sites...\n",
      "INFO:relative:\t_handle_virtual_sites: numVirtualSites: 0\n",
      "INFO:relative:Adding bond force terms...\n",
      "INFO:relative:Adding angle force terms...\n",
      "INFO:relative:Adding torsion force terms...\n",
      "INFO:relative:Adding nonbonded force terms...\n",
      "INFO:relative:\t_add_nonbonded_force_terms: <openmm.openmm.NonbondedForce; proxy of <Swig Object of type 'OpenMM::NonbondedForce *' at 0x2b86957a45a0> > added to hybrid system\n",
      "INFO:relative:\t_add_nonbonded_force_terms: nonbonded_method is NoCutoff\n",
      "INFO:relative:\t_add_nonbonded_force_terms: 0 added to standard nonbonded force\n",
      "INFO:relative:\t_add_nonbonded_force_terms: 0 added to sterics_custom_nonbonded force\n",
      "INFO:relative:\t_add_nonbonded_force_terms: <openmm.openmm.CustomNonbondedForce; proxy of <Swig Object of type 'OpenMM::CustomNonbondedForce *' at 0x2b86957a44b0> > added to hybrid system\n",
      "INFO:relative:Handling harmonic bonds...\n",
      "INFO:relative:\thandle_harmonic_bonds: looping through old_system to add relevant terms...\n",
      "INFO:relative:\thandle_harmonic_bonds: looping through new_system to add relevant terms...\n",
      "INFO:relative:Handling harmonic angles...\n",
      "INFO:relative:\thandle_harmonic_angles: looping through old_system to add relevant terms...\n",
      "INFO:relative:\thandle_harmonic_angles: looping through new_system to add relevant terms...\n",
      "INFO:relative:Handling torsion forces...\n",
      "INFO:relative:\thandle_periodic_torsion_forces: looping through old_system to add relevant terms...\n",
      "INFO:relative:\thandle_periodic_torsion_forces: looping through new_system to add relevant terms...\n",
      "INFO:relative:Handling nonbonded forces...\n",
      "INFO:relative:\thandle_nonbonded: looping through all particles in hybrid...\n",
      "INFO:relative:\thandle_nonbonded: Handling Interaction Groups...\n",
      "INFO:relative:\thandle_nonbonded: Handling Hybrid Exceptions...\n",
      "INFO:relative:\thandle_nonbonded: Handling Original Exceptions...\n",
      "INFO:relative:Handling unique_new/old interaction exceptions...\n",
      "INFO:relative:There are old or new system exceptions...proceeding.\n",
      "INFO:relative:Imposing virtual bonds to ensure system is imaged together.\n",
      "INFO:relative:\t\t_impose_virtual_bonds: No restraint added because sets overlap (core_atoms=[32, 1, 4, 5, 6, 8, 10, 13, 14, 30], protein_atoms=[8])\n",
      "INFO:relative:*** Generating RESTCapableHybridTopologyFactory ***\n",
      "INFO:relative:Old system forces: dict_keys(['HarmonicBondForce', 'HarmonicAngleForce', 'PeriodicTorsionForce', 'NonbondedForce'])\n",
      "INFO:relative:New system forces: dict_keys(['HarmonicBondForce', 'HarmonicAngleForce', 'PeriodicTorsionForce', 'NonbondedForce'])\n",
      "INFO:relative:No unknown forces.\n",
      "INFO:relative:r_cutoff is 100 nm\n",
      "INFO:relative:alpha_ewald is 0\n",
      "INFO:relative:w_scale is 0.3\n",
      "INFO:relative:Creating hybrid system\n",
      "INFO:relative:Adding and mapping old atoms to hybrid system...\n",
      "INFO:relative:Adding and mapping new atoms to hybrid system...\n",
      "INFO:relative:No MonteCarloBarostat added.\n",
      "INFO:relative:getDefaultPeriodicBoxVectors added to hybrid: [Quantity(value=Vec3(x=2.0, y=0.0, z=0.0), unit=nanometer), Quantity(value=Vec3(x=0.0, y=2.0, z=0.0), unit=nanometer), Quantity(value=Vec3(x=0.0, y=0.0, z=2.0), unit=nanometer)]\n",
      "INFO:relative:Determined atom classes.\n",
      "INFO:relative:Computed hybrid positions\n",
      "INFO:relative:Created hybrid topology\n",
      "INFO:relative:Generating rest_region with query indices: [6, 7, 8, 9, 10, 11, 12, 13, 14, 15, 16, 17, 18, 19, 20, 21, 22, 23, 24, 25, 26, 27, 28, 29, 36, 37, 38]\n",
      "INFO:relative:Rest radius: 0.3 nm\n",
      "INFO:relative:Rest region: [0, 1, 2, 3, 4, 5, 6, 7, 8, 9, 10, 11, 12, 13, 14, 15, 16, 17, 18, 19, 20, 21, 22, 23, 24, 25, 26, 27, 28, 29, 36, 37, 38, 30, 31, 32, 33, 34, 35]\n",
      "INFO:relative:Prepped look up dict for determining if atom is solvent\n",
      "INFO:relative:Generating old system exceptions dict...\n",
      "INFO:relative:Generating new system exceptions dict...\n",
      "INFO:relative:Handling constraints...\n",
      "INFO:relative:Handling virtual sites...\n",
      "INFO:relative:\t_handle_virtual_sites: numVirtualSites: 0\n",
      "INFO:relative:Handling bonds...\n",
      "INFO:relative:Handling angles...\n",
      "INFO:relative:Handling torsions...\n",
      "INFO:relative:Handling nonbondeds (creating forces)...\n",
      "INFO:relative:Handling nonbondeds (copying nonbonded particles)...\n",
      "INFO:relative:Handling nonbondeds (copying nonbonded exceptions)...\n",
      "INFO:setup:Saving htfs as pickles\n",
      "INFO:setup:sterics expression: U_electrostatics + U_sterics * sterics_rest_scale; U_electrostatics = U_electrostatics_coulomb * electrostatics_rest_scale - U_electrostatics_reciprocal; U_electrostatics_coulomb = 138.93545764438198 * chargeProd_exceptions / r; U_electrostatics_reciprocal = 138.93545764438198 * chargeProd_product * erf(alpha * r) / r; electrostatics_rest_scale = is_rest * lambda_rest_electrostatics_exceptions * lambda_rest_electrostatics_exceptions + is_inter * lambda_rest_electrostatics_exceptions + is_nonrest; sterics_rest_scale = is_rest * lambda_rest_sterics_exceptions * lambda_rest_sterics_exceptions + is_inter * lambda_rest_sterics_exceptions + is_nonrest; U_sterics = 4 * epsilon * x * (x - 1.0);x = (sigma / r)^6;chargeProd_exceptions = is_unique_old * old_chargeProd_exceptions_scaled + is_unique_new * new_chargeProd_exceptions_scaled + is_core * (old_chargeProd_exceptions_scaled + new_chargeProd_exceptions_scaled) + is_environment * chargeProd_exceptions_old; old_chargeProd_exceptions_scaled = lambda_alchemical_electrostatics_exceptions_old * chargeProd_exceptions_old; new_chargeProd_exceptions_scaled = lambda_alchemical_electrostatics_exceptions_new * chargeProd_exceptions_new; chargeProd_product = is_unique_old * old_chargeProd_product_scaled + is_unique_new * new_chargeProd_product_scaled + is_core * (old_chargeProd_product_scaled + new_chargeProd_product_scaled) + is_environment * chargeProd_product_old; old_chargeProd_product_scaled = lambda_alchemical_electrostatics_exceptions_old * chargeProd_product_old; new_chargeProd_product_scaled = lambda_alchemical_electrostatics_exceptions_new * chargeProd_product_new; sigma = is_unique_old * sigma_old + is_unique_new * sigma_new + is_core * max(0.05, (lambda_alchemical_sterics_exceptions_old * sigma_old + lambda_alchemical_sterics_exceptions_new * sigma_new)) + is_environment * sigma_old; epsilon = is_unique_old * old_epsilon_scaled + is_unique_new * new_epsilon_scaled + is_core * (old_epsilon_scaled + new_epsilon_scaled) + is_environment * epsilon_old; old_epsilon_scaled = lambda_alchemical_sterics_exceptions_old * epsilon_old; new_epsilon_scaled = lambda_alchemical_sterics_exceptions_new * epsilon_new; alpha = 0;\n",
      "INFO:setup:forces: [<openmm.openmm.CustomBondForce; proxy of <Swig Object of type 'OpenMM::CustomBondForce *' at 0x2b869580c810> >, <openmm.openmm.CustomAngleForce; proxy of <Swig Object of type 'OpenMM::CustomAngleForce *' at 0x2b869580c0c0> >, <openmm.openmm.CustomTorsionForce; proxy of <Swig Object of type 'OpenMM::CustomTorsionForce *' at 0x2b869584f3c0> >, <openmm.openmm.CustomNonbondedForce; proxy of <Swig Object of type 'OpenMM::CustomNonbondedForce *' at 0x2b86912dd360> >, <openmm.openmm.CustomNonbondedForce; proxy of <Swig Object of type 'OpenMM::CustomNonbondedForce *' at 0x2b86950f5750> >, <openmm.openmm.CustomBondForce; proxy of <Swig Object of type 'OpenMM::CustomBondForce *' at 0x2b86950f5720> >, <openmm.openmm.NonbondedForce; proxy of <Swig Object of type 'OpenMM::NonbondedForce *' at 0x2b86950f5600> >, <openmm.openmm.NonbondedForce; proxy of <Swig Object of type 'OpenMM::NonbondedForce *' at 0x2b86950f55d0> >]\n"
     ]
    },
    {
     "name": "stderr",
     "output_type": "stream",
     "text": [
      "INFO:setup:number of particles in apo: 39\n",
      "INFO:setup:number of particles in apo rest region: 39\n"
     ]
    },
    {
     "name": "stdout",
     "output_type": "stream",
     "text": [
      "apo rest region atoms:\n",
      "ACE1-H1\n",
      "ACE1-CH3\n",
      "ACE1-H2\n",
      "ACE1-H3\n",
      "ACE1-C\n",
      "ACE1-O\n",
      "ARG2-N\n",
      "ARG2-H\n",
      "ARG2-CA\n",
      "ARG2-HA\n",
      "ARG2-CB\n",
      "ARG2-HB2\n",
      "ARG2-HB3\n",
      "ARG2-C\n",
      "ARG2-O\n",
      "ARG2-CG\n",
      "ARG2-HG2\n",
      "ARG2-HG3\n",
      "ARG2-CD\n",
      "ARG2-HD2\n",
      "ARG2-HD3\n",
      "ARG2-NE\n",
      "ARG2-HE\n",
      "ARG2-CZ\n",
      "ARG2-NH1\n",
      "ARG2-HH11\n",
      "ARG2-HH12\n",
      "ARG2-NH2\n",
      "ARG2-HH21\n",
      "ARG2-HH22\n",
      "ARG2-HB2\n",
      "ARG2-HB3\n",
      "ARG2-HB1\n",
      "NME3-N\n",
      "NME3-H\n",
      "NME3-C\n",
      "NME3-H1\n",
      "NME3-H2\n",
      "NME3-H3\n"
     ]
    }
   ],
   "source": [
    "outdir = \"/data/chodera/zhangi/perses_benchmark/repex/38/14/\"\n",
    "residue = '2'\n",
    "mutant = 'ALA'\n",
    "\n",
    "apo_file = \"/data/chodera/zhangi/perses_benchmark/repex/38/14/equil/apo_equilibrated.cif\" \n",
    "cif = app.PDBxFile(apo_file)\n",
    "modeller = app.Modeller(cif.topology, cif.positions)\n",
    "solvent_chains = [chain for chain in modeller.topology.chains() if chain.index > 0]\n",
    "modeller.delete(solvent_chains)\n",
    "modeller.topology.setPeriodicBoxVectors(None)\n",
    "apo_file_vacuum = \"/data/chodera/zhangi/perses_benchmark/repex/38/14/equil/apo_equilibrated_vacuum.cif\" \n",
    "app.PDBxFile.writeFile(modeller.topology, modeller.positions, open(apo_file_vacuum, \"w\"), keepIds=True)\n",
    "\n",
    "solvent_delivery = generate_vacuum_htf(outdir, residue, mutant, apo_file_vacuum)"
   ]
  },
  {
   "cell_type": "code",
   "execution_count": 41,
   "id": "a614c8c4",
   "metadata": {},
   "outputs": [
    {
     "name": "stderr",
     "output_type": "stream",
     "text": [
      "DEBUG:openmmforcefields.system_generators:Trying GAFFTemplateGenerator to load gaff-2.11\n",
      "INFO:proposal_generator:\tConducting polymer point mutation proposal...\n",
      "INFO:proposal_generator:local_atom_map: {6: 6, 7: 7, 8: 8, 9: 9, 10: 10, 13: 13, 14: 14}\n",
      "INFO:proposal_generator:the mapped atom names are: [('N', 'N'), ('H', 'H'), ('CA', 'CA'), ('HA', 'HA'), ('CB', 'CB'), ('C', 'C'), ('O', 'O')]\n",
      "INFO:geometry:propose: performing forward proposal\n",
      "INFO:geometry:propose: unique new atoms detected; proceeding to _logp_propose...\n",
      "INFO:geometry:Conducting forward proposal...\n",
      "INFO:geometry:Computing proposal order with NetworkX...\n",
      "INFO:geometry:number of atoms to be placed: 17\n",
      "INFO:geometry:Atom index proposal order is [15, 18, 21, 23, 24, 27, 17, 29, 19, 12, 26, 22, 20, 16, 11, 25, 28]\n",
      "INFO:geometry:omitted_bonds: []\n",
      "INFO:geometry:direction of proposal is forward; creating atoms_with_positions and new positions from old system/topology...\n",
      "INFO:geometry:creating growth system...\n",
      "INFO:geometry:\tcreating bond force...\n",
      "INFO:geometry:\tthere are 15 bonds in reference force.\n",
      "INFO:geometry:\tcreating angle force...\n",
      "INFO:geometry:\tthere are 60 angles in reference force.\n",
      "INFO:geometry:\tcreating torsion force...\n",
      "INFO:geometry:\tcreating extra torsions force...\n",
      "INFO:geometry:\tthere are 78 torsions in reference force.\n",
      "INFO:geometry:\tcreating nonbonded force...\n",
      "INFO:geometry:\t\tgrabbing reference nonbonded method, cutoff, switching function, switching distance...\n",
      "INFO:geometry:\t\tcreating nonbonded exception force (i.e. custom bond for 1,4s)...\n",
      "INFO:geometry:\t\tlooping through exceptions calculating growth indices, and adding appropriate interactions to custom bond force.\n",
      "INFO:geometry:\t\tthere are 172 in the reference Nonbonded force\n",
      "INFO:geometry:Neglected angle terms : []\n",
      "INFO:geometry:omitted_growth_terms: {'bonds': [], 'angles': [], 'torsions': [], '1,4s': []}\n",
      "INFO:geometry:extra torsions: {0: (28, 27, 23, 21, [1, Quantity(value=3.1400479780546657, unit=radian), Quantity(value=1200.0, unit=kilocalorie/mole), 17]), 1: (28, 27, 23, 24, [1, Quantity(value=-0.0009854700401916716, unit=radian), Quantity(value=1200.0, unit=kilocalorie/mole), 17]), 2: (29, 27, 23, 21, [1, Quantity(value=-0.0019499207113558015, unit=radian), Quantity(value=1200.0, unit=kilocalorie/mole), 8]), 3: (29, 27, 23, 24, [1, Quantity(value=3.1402019383733304, unit=radian), Quantity(value=1200.0, unit=kilocalorie/mole), 8]), 4: (27, 23, 24, 26, [1, Quantity(value=-3.141011085169936, unit=radian), Quantity(value=1200.0, unit=kilocalorie/mole), 11]), 5: (27, 23, 24, 25, [1, Quantity(value=0.0013841937088012735, unit=radian), Quantity(value=1200.0, unit=kilocalorie/mole), 16]), 6: (21, 23, 24, 26, [1, Quantity(value=0.0011725432810614222, unit=radian), Quantity(value=1200.0, unit=kilocalorie/mole), 11]), 7: (21, 23, 24, 25, [1, Quantity(value=-3.1396174850195098, unit=radian), Quantity(value=1200.0, unit=kilocalorie/mole), 16])}\n",
      "INFO:geometry:neglected angle terms include []\n",
      "INFO:geometry:log probability choice of torsions and atom order: -30.94989760450233\n",
      "INFO:geometry:creating platform, integrators, and contexts; setting growth parameter\n"
     ]
    },
    {
     "name": "stdout",
     "output_type": "stream",
     "text": [
      "None\n",
      "[Quantity(value=Vec3(x=2.0, y=0.0, z=0.0), unit=nanometer), Quantity(value=Vec3(x=0.0, y=2.0, z=0.0), unit=nanometer), Quantity(value=Vec3(x=0.0, y=0.0, z=2.0), unit=nanometer)]\n",
      "False\n",
      "[Quantity(value=Vec3(x=2.0, y=0.0, z=0.0), unit=nanometer), Quantity(value=Vec3(x=0.0, y=2.0, z=0.0), unit=nanometer), Quantity(value=Vec3(x=0.0, y=0.0, z=2.0), unit=nanometer)]\n",
      "False\n",
      "conducting subsequent work with the following platform: CUDA\n"
     ]
    },
    {
     "name": "stderr",
     "output_type": "stream",
     "text": [
      "INFO:geometry:setting atoms_with_positions context new positions\n"
     ]
    },
    {
     "name": "stdout",
     "output_type": "stream",
     "text": [
      "conducting subsequent work with the following platform: CUDA\n"
     ]
    },
    {
     "name": "stderr",
     "output_type": "stream",
     "text": [
      "INFO:geometry:There are 17 new atoms\n",
      "INFO:geometry:\treduced angle potential = 0.24432277806184183.\n",
      "INFO:geometry:\treduced angle potential = 0.3509104993980562.\n",
      "INFO:geometry:\treduced angle potential = 0.12481705738333011.\n",
      "INFO:geometry:\treduced angle potential = 0.00017170518688130828.\n",
      "INFO:geometry:\treduced angle potential = 2.0365907309158504.\n",
      "INFO:geometry:\treduced angle potential = 0.46322282609985344.\n",
      "INFO:geometry:\treduced angle potential = 2.212069678013874.\n",
      "INFO:geometry:\treduced angle potential = 0.025464348805780787.\n",
      "INFO:geometry:\treduced angle potential = 0.4246128970084918.\n",
      "INFO:geometry:\treduced angle potential = 0.19535869741622236.\n",
      "INFO:geometry:\treduced angle potential = 0.005424287057707295.\n",
      "INFO:geometry:\treduced angle potential = 0.1802539285430822.\n",
      "INFO:geometry:\treduced angle potential = 0.8377704084747088.\n",
      "INFO:geometry:\treduced angle potential = 4.698272580423476.\n",
      "INFO:geometry:\treduced angle potential = 0.025255565157004962.\n",
      "INFO:geometry:\treduced angle potential = 1.435650927718851.\n",
      "INFO:geometry:\treduced angle potential = 0.33711103344298726.\n",
      "INFO:geometry:\tbeginning construction of no_nonbonded final system...\n",
      "INFO:geometry:\tinitial no-nonbonded final system forces ['HarmonicBondForce', 'HarmonicAngleForce', 'PeriodicTorsionForce', 'NonbondedForce']\n",
      "INFO:geometry:\tfinal no-nonbonded final system forces dict_keys(['HarmonicBondForce', 'HarmonicAngleForce', 'PeriodicTorsionForce', 'NonbondedForce'])\n",
      "INFO:geometry:\tthere are 15 bond forces in the no-nonbonded final system\n",
      "INFO:geometry:\tthere are 60 angle forces in the no-nonbonded final system\n",
      "INFO:geometry:\tthere are 78 torsion forces in the no-nonbonded final system\n",
      "INFO:geometry:forward final system defined with 0 neglected angles.\n"
     ]
    },
    {
     "name": "stdout",
     "output_type": "stream",
     "text": [
      "conducting subsequent work with the following platform: CUDA\n",
      "conducting subsequent work with the following platform: CUDA\n"
     ]
    },
    {
     "name": "stderr",
     "output_type": "stream",
     "text": [
      "INFO:geometry:total reduced potential before atom placement: 31.360407235469566\n"
     ]
    },
    {
     "name": "stdout",
     "output_type": "stream",
     "text": [
      "conducting subsequent work with the following platform: CUDA\n",
      "conducting subsequent work with the following platform: CUDA\n",
      "conducting subsequent work with the following platform: CUDA\n"
     ]
    },
    {
     "name": "stderr",
     "output_type": "stream",
     "text": [
      "INFO:geometry:total reduced energy added from growth system: -443.54695665699234\n",
      "INFO:geometry:final reduced energy -412.18655699810154\n",
      "INFO:geometry:sum of energies: -412.1865494215228\n",
      "INFO:geometry:magnitude of difference in the energies: 7.5765787528325745e-06\n",
      "INFO:geometry:Final logp_proposal: 93.56043986017171\n"
     ]
    },
    {
     "name": "stdout",
     "output_type": "stream",
     "text": [
      "added energy components: [('CustomBondForce', 4.64777424735138), ('CustomAngleForce', 19.969382011389033), ('CustomTorsionForce', 10.624771582998779), ('CustomBondForce', -478.7888844987315)]\n"
     ]
    },
    {
     "name": "stderr",
     "output_type": "stream",
     "text": [
      "INFO:geometry:logp_reverse: performing reverse proposal\n",
      "INFO:geometry:logp_reverse: unique new atoms detected; proceeding to _logp_propose...\n",
      "INFO:geometry:Conducting forward proposal...\n",
      "INFO:geometry:Computing proposal order with NetworkX...\n",
      "INFO:geometry:number of atoms to be placed: 3\n",
      "INFO:geometry:Atom index proposal order is [12, 15, 11]\n",
      "INFO:geometry:omitted_bonds: []\n",
      "INFO:geometry:direction of proposal is reverse; creating atoms_with_positions from old system/topology\n",
      "INFO:geometry:creating growth system...\n",
      "INFO:geometry:\tcreating bond force...\n",
      "INFO:geometry:\tthere are 9 bonds in reference force.\n",
      "INFO:geometry:\tcreating angle force...\n",
      "INFO:geometry:\tthere are 36 angles in reference force.\n",
      "INFO:geometry:\tcreating torsion force...\n",
      "INFO:geometry:\tcreating extra torsions force...\n",
      "INFO:geometry:\tthere are 42 torsions in reference force.\n",
      "INFO:geometry:\tcreating nonbonded force...\n",
      "INFO:geometry:\t\tgrabbing reference nonbonded method, cutoff, switching function, switching distance...\n",
      "INFO:geometry:\t\tcreating nonbonded exception force (i.e. custom bond for 1,4s)...\n",
      "INFO:geometry:\t\tlooping through exceptions calculating growth indices, and adding appropriate interactions to custom bond force.\n",
      "INFO:geometry:\t\tthere are 98 in the reference Nonbonded force\n",
      "INFO:geometry:Neglected angle terms : []\n",
      "INFO:geometry:omitted_growth_terms: {'bonds': [], 'angles': [], 'torsions': [], '1,4s': []}\n",
      "INFO:geometry:extra torsions: {0: (6, 8, 10, 15, [1, Quantity(value=2.105358864604291, unit=radian), Quantity(value=1200.0, unit=kilocalorie/mole), 2]), 1: (6, 8, 10, 11, [1, Quantity(value=-2.0823006129211796, unit=radian), Quantity(value=1200.0, unit=kilocalorie/mole), 3]), 2: (6, 8, 10, 12, [1, Quantity(value=0.018582237407944735, unit=radian), Quantity(value=1200.0, unit=kilocalorie/mole), 1]), 3: (13, 8, 10, 15, [1, Quantity(value=-0.036945135932107576, unit=radian), Quantity(value=1200.0, unit=kilocalorie/mole), 2]), 4: (13, 8, 10, 11, [1, Quantity(value=2.0585806937220097, unit=radian), Quantity(value=1200.0, unit=kilocalorie/mole), 3]), 5: (13, 8, 10, 12, [1, Quantity(value=-2.1237217631284597, unit=radian), Quantity(value=1200.0, unit=kilocalorie/mole), 1]), 6: (9, 8, 10, 15, [1, Quantity(value=-2.119603470065817, unit=radian), Quantity(value=1200.0, unit=kilocalorie/mole), 2]), 7: (9, 8, 10, 11, [1, Quantity(value=-0.024077640411697132, unit=radian), Quantity(value=1200.0, unit=kilocalorie/mole), 3]), 8: (9, 8, 10, 12, [1, Quantity(value=2.0768052099174152, unit=radian), Quantity(value=1200.0, unit=kilocalorie/mole), 1])}\n",
      "INFO:geometry:neglected angle terms include []\n",
      "INFO:geometry:log probability choice of torsions and atom order: -5.0875963352323845\n",
      "INFO:geometry:creating platform, integrators, and contexts; setting growth parameter\n"
     ]
    },
    {
     "name": "stdout",
     "output_type": "stream",
     "text": [
      "conducting subsequent work with the following platform: CUDA\n"
     ]
    },
    {
     "name": "stderr",
     "output_type": "stream",
     "text": [
      "INFO:geometry:setting atoms_with_positions context old positions\n"
     ]
    },
    {
     "name": "stdout",
     "output_type": "stream",
     "text": [
      "conducting subsequent work with the following platform: CUDA\n"
     ]
    },
    {
     "name": "stderr",
     "output_type": "stream",
     "text": [
      "INFO:geometry:There are 3 new atoms\n",
      "INFO:geometry:\treduced angle potential = 0.2500528178763556.\n",
      "INFO:geometry:\treduced angle potential = 0.8234539492149762.\n",
      "INFO:geometry:\treduced angle potential = 0.3096300511603986.\n",
      "INFO:geometry:\tbeginning construction of no_nonbonded final system...\n",
      "INFO:geometry:\tinitial no-nonbonded final system forces ['HarmonicBondForce', 'HarmonicAngleForce', 'PeriodicTorsionForce', 'NonbondedForce']\n",
      "INFO:geometry:\tfinal no-nonbonded final system forces dict_keys(['HarmonicBondForce', 'HarmonicAngleForce', 'PeriodicTorsionForce', 'NonbondedForce'])\n",
      "INFO:geometry:\tthere are 9 bond forces in the no-nonbonded final system\n",
      "INFO:geometry:\tthere are 36 angle forces in the no-nonbonded final system\n",
      "INFO:geometry:\tthere are 42 torsion forces in the no-nonbonded final system\n",
      "INFO:geometry:reverse final system defined with 0 neglected angles.\n"
     ]
    },
    {
     "name": "stdout",
     "output_type": "stream",
     "text": [
      "conducting subsequent work with the following platform: CUDA\n",
      "conducting subsequent work with the following platform: CUDA\n"
     ]
    },
    {
     "name": "stderr",
     "output_type": "stream",
     "text": [
      "INFO:geometry:total reduced potential before atom placement: 31.36040723546956\n"
     ]
    },
    {
     "name": "stdout",
     "output_type": "stream",
     "text": [
      "conducting subsequent work with the following platform: CUDA\n",
      "conducting subsequent work with the following platform: CUDA\n",
      "conducting subsequent work with the following platform: CUDA\n"
     ]
    },
    {
     "name": "stderr",
     "output_type": "stream",
     "text": [
      "INFO:geometry:total reduced energy added from growth system: 10.374130239445629\n",
      "INFO:geometry:final reduced energy 41.734536894734866\n",
      "INFO:geometry:sum of energies: 41.734537474915186\n",
      "INFO:geometry:magnitude of difference in the energies: 5.801803215632617e-07\n",
      "INFO:geometry:Final logp_proposal: -29441.186879702396\n"
     ]
    },
    {
     "name": "stdout",
     "output_type": "stream",
     "text": [
      "added energy components: [('CustomBondForce', 0.0), ('CustomAngleForce', 1.844563196308122), ('CustomTorsionForce', 0.31379335634681493), ('CustomBondForce', 8.21577368679069)]\n"
     ]
    },
    {
     "name": "stderr",
     "output_type": "stream",
     "text": [
      "INFO:setup:skipping counterion functionality because phase is vacuum\n",
      "INFO:relative:*** Generating vanilla HybridTopologyFactory ***\n",
      "INFO:relative:Beginning nonbonded method, total particle, barostat, and exceptions retrieval...\n",
      "INFO:relative:Flattening exceptions of unique new/old at lambda = 0/1\n",
      "INFO:relative:Old system forces: dict_keys(['HarmonicBondForce', 'HarmonicAngleForce', 'PeriodicTorsionForce', 'NonbondedForce'])\n",
      "INFO:relative:New system forces: dict_keys(['HarmonicBondForce', 'HarmonicAngleForce', 'PeriodicTorsionForce', 'NonbondedForce'])\n",
      "INFO:relative:No unknown forces.\n",
      "INFO:relative:Nonbonded method to be used (i.e. from old system): 0\n",
      "INFO:relative:Adding and mapping old atoms to hybrid system...\n",
      "INFO:relative:Adding and mapping new atoms to hybrid system...\n",
      "INFO:relative:No MonteCarloBarostat added.\n",
      "INFO:relative:getDefaultPeriodicBoxVectors added to hybrid: [Quantity(value=Vec3(x=2.0, y=0.0, z=0.0), unit=nanometer), Quantity(value=Vec3(x=0.0, y=2.0, z=0.0), unit=nanometer), Quantity(value=Vec3(x=0.0, y=0.0, z=2.0), unit=nanometer)]\n",
      "INFO:relative:Determined atom classes.\n",
      "INFO:relative:Generating old system exceptions dict...\n",
      "INFO:relative:Generating new system exceptions dict...\n",
      "INFO:relative:Handling constraints...\n",
      "INFO:relative:Handling virtual sites...\n",
      "INFO:relative:\t_handle_virtual_sites: numVirtualSites: 0\n",
      "INFO:relative:Adding bond force terms...\n",
      "INFO:relative:Adding angle force terms...\n",
      "INFO:relative:Adding torsion force terms...\n",
      "INFO:relative:Adding nonbonded force terms...\n",
      "INFO:relative:\t_add_nonbonded_force_terms: <openmm.openmm.NonbondedForce; proxy of <Swig Object of type 'OpenMM::NonbondedForce *' at 0x2b8695d63c00> > added to hybrid system\n",
      "INFO:relative:\t_add_nonbonded_force_terms: nonbonded_method is NoCutoff\n",
      "INFO:relative:\t_add_nonbonded_force_terms: 0 added to standard nonbonded force\n",
      "INFO:relative:\t_add_nonbonded_force_terms: 0 added to sterics_custom_nonbonded force\n",
      "INFO:relative:\t_add_nonbonded_force_terms: <openmm.openmm.CustomNonbondedForce; proxy of <Swig Object of type 'OpenMM::CustomNonbondedForce *' at 0x2b8695d63bd0> > added to hybrid system\n",
      "INFO:relative:Handling harmonic bonds...\n",
      "INFO:relative:\thandle_harmonic_bonds: looping through old_system to add relevant terms...\n",
      "INFO:relative:\thandle_harmonic_bonds: looping through new_system to add relevant terms...\n",
      "INFO:relative:Handling harmonic angles...\n",
      "INFO:relative:\thandle_harmonic_angles: looping through old_system to add relevant terms...\n",
      "INFO:relative:\thandle_harmonic_angles: looping through new_system to add relevant terms...\n",
      "INFO:relative:Handling torsion forces...\n",
      "INFO:relative:\thandle_periodic_torsion_forces: looping through old_system to add relevant terms...\n",
      "INFO:relative:\thandle_periodic_torsion_forces: looping through new_system to add relevant terms...\n",
      "INFO:relative:Handling nonbonded forces...\n",
      "INFO:relative:\thandle_nonbonded: looping through all particles in hybrid...\n",
      "INFO:relative:\thandle_nonbonded: Handling Interaction Groups...\n",
      "INFO:relative:\thandle_nonbonded: Handling Hybrid Exceptions...\n",
      "INFO:relative:\thandle_nonbonded: Handling Original Exceptions...\n",
      "INFO:relative:Handling unique_new/old interaction exceptions...\n",
      "INFO:relative:There are old or new system exceptions...proceeding.\n",
      "INFO:relative:Imposing virtual bonds to ensure system is imaged together.\n",
      "INFO:relative:\t\t_impose_virtual_bonds: No restraint added because sets overlap (core_atoms=[1, 4, 5, 6, 8, 10, 13, 14, 16, 18], protein_atoms=[8])\n",
      "INFO:relative:*** Generating RESTCapableHybridTopologyFactory ***\n",
      "INFO:relative:Old system forces: dict_keys(['HarmonicBondForce', 'HarmonicAngleForce', 'PeriodicTorsionForce', 'NonbondedForce'])\n",
      "INFO:relative:New system forces: dict_keys(['HarmonicBondForce', 'HarmonicAngleForce', 'PeriodicTorsionForce', 'NonbondedForce'])\n",
      "INFO:relative:No unknown forces.\n",
      "INFO:relative:r_cutoff is 100 nm\n",
      "INFO:relative:alpha_ewald is 0\n",
      "INFO:relative:w_scale is 0.3\n",
      "INFO:relative:Creating hybrid system\n",
      "INFO:relative:Adding and mapping old atoms to hybrid system...\n",
      "INFO:relative:Adding and mapping new atoms to hybrid system...\n",
      "INFO:relative:No MonteCarloBarostat added.\n",
      "INFO:relative:getDefaultPeriodicBoxVectors added to hybrid: [Quantity(value=Vec3(x=2.0, y=0.0, z=0.0), unit=nanometer), Quantity(value=Vec3(x=0.0, y=2.0, z=0.0), unit=nanometer), Quantity(value=Vec3(x=0.0, y=0.0, z=2.0), unit=nanometer)]\n",
      "INFO:relative:Determined atom classes.\n",
      "INFO:relative:Computed hybrid positions\n",
      "INFO:relative:Created hybrid topology\n",
      "INFO:relative:Generating rest_region with query indices: [6, 7, 8, 9, 10, 11, 12, 13, 14, 15, 22, 23, 24, 25, 26, 27, 28, 29, 30, 31, 32, 33, 34, 35, 36, 37, 38]\n",
      "INFO:relative:Rest radius: 0.3 nm\n",
      "INFO:relative:Rest region: [0, 1, 2, 3, 4, 5, 6, 7, 8, 9, 10, 11, 12, 13, 14, 15, 22, 23, 24, 25, 26, 27, 28, 29, 30, 31, 32, 33, 34, 35, 36, 37, 38, 16, 17, 18, 19, 20, 21]\n",
      "INFO:relative:Prepped look up dict for determining if atom is solvent\n",
      "INFO:relative:Generating old system exceptions dict...\n",
      "INFO:relative:Generating new system exceptions dict...\n",
      "INFO:relative:Handling constraints...\n",
      "INFO:relative:Handling virtual sites...\n",
      "INFO:relative:\t_handle_virtual_sites: numVirtualSites: 0\n",
      "INFO:relative:Handling bonds...\n",
      "INFO:relative:Handling angles...\n",
      "INFO:relative:Handling torsions...\n",
      "INFO:relative:Handling nonbondeds (creating forces)...\n",
      "INFO:relative:Handling nonbondeds (copying nonbonded particles)...\n",
      "INFO:relative:Handling nonbondeds (copying nonbonded exceptions)...\n",
      "INFO:setup:Saving htfs as pickles\n",
      "INFO:setup:sterics expression: U_electrostatics + U_sterics * sterics_rest_scale; U_electrostatics = U_electrostatics_coulomb * electrostatics_rest_scale - U_electrostatics_reciprocal; U_electrostatics_coulomb = 138.93545764438198 * chargeProd_exceptions / r; U_electrostatics_reciprocal = 138.93545764438198 * chargeProd_product * erf(alpha * r) / r; electrostatics_rest_scale = is_rest * lambda_rest_electrostatics_exceptions * lambda_rest_electrostatics_exceptions + is_inter * lambda_rest_electrostatics_exceptions + is_nonrest; sterics_rest_scale = is_rest * lambda_rest_sterics_exceptions * lambda_rest_sterics_exceptions + is_inter * lambda_rest_sterics_exceptions + is_nonrest; U_sterics = 4 * epsilon * x * (x - 1.0);x = (sigma / r)^6;chargeProd_exceptions = is_unique_old * old_chargeProd_exceptions_scaled + is_unique_new * new_chargeProd_exceptions_scaled + is_core * (old_chargeProd_exceptions_scaled + new_chargeProd_exceptions_scaled) + is_environment * chargeProd_exceptions_old; old_chargeProd_exceptions_scaled = lambda_alchemical_electrostatics_exceptions_old * chargeProd_exceptions_old; new_chargeProd_exceptions_scaled = lambda_alchemical_electrostatics_exceptions_new * chargeProd_exceptions_new; chargeProd_product = is_unique_old * old_chargeProd_product_scaled + is_unique_new * new_chargeProd_product_scaled + is_core * (old_chargeProd_product_scaled + new_chargeProd_product_scaled) + is_environment * chargeProd_product_old; old_chargeProd_product_scaled = lambda_alchemical_electrostatics_exceptions_old * chargeProd_product_old; new_chargeProd_product_scaled = lambda_alchemical_electrostatics_exceptions_new * chargeProd_product_new; sigma = is_unique_old * sigma_old + is_unique_new * sigma_new + is_core * max(0.05, (lambda_alchemical_sterics_exceptions_old * sigma_old + lambda_alchemical_sterics_exceptions_new * sigma_new)) + is_environment * sigma_old; epsilon = is_unique_old * old_epsilon_scaled + is_unique_new * new_epsilon_scaled + is_core * (old_epsilon_scaled + new_epsilon_scaled) + is_environment * epsilon_old; old_epsilon_scaled = lambda_alchemical_sterics_exceptions_old * epsilon_old; new_epsilon_scaled = lambda_alchemical_sterics_exceptions_new * epsilon_new; alpha = 0;\n",
      "INFO:setup:forces: [<openmm.openmm.CustomBondForce; proxy of <Swig Object of type 'OpenMM::CustomBondForce *' at 0x2b8694fa3990> >, <openmm.openmm.CustomAngleForce; proxy of <Swig Object of type 'OpenMM::CustomAngleForce *' at 0x2b8694fa3ab0> >, <openmm.openmm.CustomTorsionForce; proxy of <Swig Object of type 'OpenMM::CustomTorsionForce *' at 0x2b8694fa3630> >, <openmm.openmm.CustomNonbondedForce; proxy of <Swig Object of type 'OpenMM::CustomNonbondedForce *' at 0x2b8694fa3810> >, <openmm.openmm.CustomNonbondedForce; proxy of <Swig Object of type 'OpenMM::CustomNonbondedForce *' at 0x2b8694fa3e40> >, <openmm.openmm.CustomBondForce; proxy of <Swig Object of type 'OpenMM::CustomBondForce *' at 0x2b8694fa3de0> >, <openmm.openmm.NonbondedForce; proxy of <Swig Object of type 'OpenMM::NonbondedForce *' at 0x2b8694fa3780> >, <openmm.openmm.NonbondedForce; proxy of <Swig Object of type 'OpenMM::NonbondedForce *' at 0x2b8694fa3570> >]\n"
     ]
    },
    {
     "name": "stderr",
     "output_type": "stream",
     "text": [
      "INFO:setup:number of particles in apo: 39\n",
      "INFO:setup:number of particles in apo rest region: 39\n"
     ]
    },
    {
     "name": "stdout",
     "output_type": "stream",
     "text": [
      "apo rest region atoms:\n",
      "ACE1-H1\n",
      "ACE1-CH3\n",
      "ACE1-H2\n",
      "ACE1-H3\n",
      "ACE1-C\n",
      "ACE1-O\n",
      "ALA2-N\n",
      "ALA2-H\n",
      "ALA2-CA\n",
      "ALA2-HA\n",
      "ALA2-CB\n",
      "ALA2-HB2\n",
      "ALA2-HB3\n",
      "ALA2-C\n",
      "ALA2-O\n",
      "ALA2-HB1\n",
      "ALA2-HB2\n",
      "ALA2-HB3\n",
      "ALA2-CG\n",
      "ALA2-HG2\n",
      "ALA2-HG3\n",
      "ALA2-CD\n",
      "ALA2-HD2\n",
      "ALA2-HD3\n",
      "ALA2-NE\n",
      "ALA2-HE\n",
      "ALA2-CZ\n",
      "ALA2-NH1\n",
      "ALA2-HH11\n",
      "ALA2-HH12\n",
      "ALA2-NH2\n",
      "ALA2-HH21\n",
      "ALA2-HH22\n",
      "NME3-N\n",
      "NME3-H\n",
      "NME3-C\n",
      "NME3-H1\n",
      "NME3-H2\n",
      "NME3-H3\n"
     ]
    }
   ],
   "source": [
    "outdir = \"/data/chodera/zhangi/perses_benchmark/repex/38/15/\"\n",
    "residue = '2'\n",
    "mutant = 'ARG'\n",
    "\n",
    "apo_file = \"/data/chodera/zhangi/perses_benchmark/repex/38/15/equil/apo_equilibrated.cif\" \n",
    "cif = app.PDBxFile(apo_file)\n",
    "modeller = app.Modeller(cif.topology, cif.positions)\n",
    "solvent_chains = [chain for chain in modeller.topology.chains() if chain.index > 0]\n",
    "modeller.delete(solvent_chains)\n",
    "modeller.topology.setPeriodicBoxVectors(None)\n",
    "apo_file_vacuum = \"/data/chodera/zhangi/perses_benchmark/repex/38/15/equil/apo_equilibrated_vacuum.cif\" \n",
    "app.PDBxFile.writeFile(modeller.topology, modeller.positions, open(apo_file_vacuum, \"w\"), keepIds=True)\n",
    "\n",
    "solvent_delivery = generate_vacuum_htf(outdir, residue, mutant, apo_file_vacuum)"
   ]
  },
  {
   "cell_type": "code",
   "execution_count": 31,
   "id": "897f48ab",
   "metadata": {
    "scrolled": true
   },
   "outputs": [
    {
     "name": "stderr",
     "output_type": "stream",
     "text": [
      "DEBUG:openmmforcefields.system_generators:Trying GAFFTemplateGenerator to load gaff-2.11\n",
      "INFO:proposal_generator:\tConducting polymer point mutation proposal...\n",
      "INFO:proposal_generator:local_atom_map: {6: 6, 7: 7, 8: 8, 9: 9, 10: 10, 11: 13, 12: 14}\n",
      "INFO:proposal_generator:the mapped atom names are: [('N', 'N'), ('H', 'H'), ('CA', 'CA'), ('HA', 'HA'), ('CB', 'CB'), ('C', 'C'), ('O', 'O')]\n",
      "INFO:setup:Changed particle 19's epsilon from 0.0 kJ/mol to 0.0001 kJ/mol\n",
      "INFO:setup:Changed particle 19's sigma from 1.0 nm to 0.1 nm\n",
      "INFO:geometry:propose: performing forward proposal\n",
      "INFO:geometry:propose: unique new atoms detected; proceeding to _logp_propose...\n",
      "INFO:geometry:Conducting forward proposal...\n",
      "INFO:geometry:Computing proposal order with NetworkX...\n",
      "INFO:geometry:number of atoms to be placed: 7\n",
      "INFO:geometry:Atom index proposal order is [18, 14, 13, 15, 16, 19, 17]\n",
      "INFO:geometry:omitted_bonds: []\n",
      "INFO:geometry:direction of proposal is forward; creating atoms_with_positions and new positions from old system/topology...\n",
      "INFO:geometry:creating growth system...\n",
      "INFO:geometry:\tcreating bond force...\n",
      "INFO:geometry:\tthere are 11 bonds in reference force.\n",
      "INFO:geometry:\tcreating angle force...\n",
      "INFO:geometry:\tthere are 43 angles in reference force.\n",
      "INFO:geometry:\tcreating torsion force...\n",
      "INFO:geometry:\tcreating extra torsions force...\n",
      "INFO:geometry:\tthere are 72 torsions in reference force.\n",
      "INFO:geometry:\tcreating nonbonded force...\n",
      "INFO:geometry:\t\tgrabbing reference nonbonded method, cutoff, switching function, switching distance...\n",
      "INFO:geometry:\t\tcreating nonbonded exception force (i.e. custom bond for 1,4s)...\n",
      "INFO:geometry:\t\tlooping through exceptions calculating growth indices, and adding appropriate interactions to custom bond force.\n",
      "INFO:geometry:\t\tthere are 121 in the reference Nonbonded force\n",
      "INFO:geometry:Neglected angle terms : []\n",
      "INFO:geometry:omitted_growth_terms: {'bonds': [], 'angles': [], 'torsions': [], '1,4s': []}\n",
      "INFO:geometry:extra torsions: {0: (19, 18, 10, 8, [1, Quantity(value=-0.07858019216845058, unit=radian), Quantity(value=1200.0, unit=kilocalorie/mole), 6]), 1: (19, 18, 10, 14, [1, Quantity(value=2.118586571250296, unit=radian), Quantity(value=1200.0, unit=kilocalorie/mole), 6]), 2: (19, 18, 10, 13, [1, Quantity(value=-2.149781203448759, unit=radian), Quantity(value=1200.0, unit=kilocalorie/mole), 6]), 3: (8, 10, 14, 17, [1, Quantity(value=-2.1249532223845904, unit=radian), Quantity(value=1200.0, unit=kilocalorie/mole), 7]), 4: (8, 10, 14, 16, [1, Quantity(value=2.0543043017157916, unit=radian), Quantity(value=1200.0, unit=kilocalorie/mole), 5]), 5: (8, 10, 14, 15, [1, Quantity(value=-0.02223392579985184, unit=radian), Quantity(value=1200.0, unit=kilocalorie/mole), 4]), 6: (18, 10, 14, 17, [1, Quantity(value=2.0255587336734213, unit=radian), Quantity(value=1200.0, unit=kilocalorie/mole), 7]), 7: (18, 10, 14, 16, [1, Quantity(value=-0.07836904940578293, unit=radian), Quantity(value=1200.0, unit=kilocalorie/mole), 5]), 8: (18, 10, 14, 15, [1, Quantity(value=-2.154907276921426, unit=radian), Quantity(value=1200.0, unit=kilocalorie/mole), 4]), 9: (13, 10, 14, 17, [1, Quantity(value=0.007583009583349565, unit=radian), Quantity(value=1200.0, unit=kilocalorie/mole), 7]), 10: (13, 10, 14, 16, [1, Quantity(value=-2.096344773495849, unit=radian), Quantity(value=1200.0, unit=kilocalorie/mole), 5]), 11: (13, 10, 14, 15, [1, Quantity(value=2.1103023061680943, unit=radian), Quantity(value=1200.0, unit=kilocalorie/mole), 4]), 12: (18, 10, 8, 14, [1, Quantity(value=-1.0655064807976995, unit=radian), Quantity(value=1200.0, unit=kilocalorie/mole), 2])}\n",
      "INFO:geometry:neglected angle terms include []\n",
      "INFO:geometry:log probability choice of torsions and atom order: -12.86077001571492\n",
      "INFO:geometry:creating platform, integrators, and contexts; setting growth parameter\n"
     ]
    },
    {
     "name": "stdout",
     "output_type": "stream",
     "text": [
      "None\n",
      "[Quantity(value=Vec3(x=2.0, y=0.0, z=0.0), unit=nanometer), Quantity(value=Vec3(x=0.0, y=2.0, z=0.0), unit=nanometer), Quantity(value=Vec3(x=0.0, y=0.0, z=2.0), unit=nanometer)]\n",
      "False\n",
      "[Quantity(value=Vec3(x=2.0, y=0.0, z=0.0), unit=nanometer), Quantity(value=Vec3(x=0.0, y=2.0, z=0.0), unit=nanometer), Quantity(value=Vec3(x=0.0, y=0.0, z=2.0), unit=nanometer)]\n",
      "False\n",
      "conducting subsequent work with the following platform: CUDA\n"
     ]
    },
    {
     "name": "stderr",
     "output_type": "stream",
     "text": [
      "INFO:geometry:setting atoms_with_positions context new positions\n"
     ]
    },
    {
     "name": "stdout",
     "output_type": "stream",
     "text": [
      "conducting subsequent work with the following platform: CUDA\n"
     ]
    },
    {
     "name": "stderr",
     "output_type": "stream",
     "text": [
      "INFO:geometry:There are 7 new atoms\n",
      "INFO:geometry:\treduced angle potential = 1.507268982110531.\n",
      "INFO:geometry:\treduced angle potential = 0.0006119170259034194.\n",
      "INFO:geometry:\treduced angle potential = 0.4589241958556348.\n",
      "INFO:geometry:\treduced angle potential = 1.4444463090787636.\n",
      "INFO:geometry:\treduced angle potential = 0.03883086779656012.\n",
      "INFO:geometry:\treduced angle potential = 0.0026741105091615583.\n",
      "INFO:geometry:\treduced angle potential = 0.00993538035856815.\n",
      "INFO:geometry:\tbeginning construction of no_nonbonded final system...\n",
      "INFO:geometry:\tinitial no-nonbonded final system forces ['HarmonicBondForce', 'HarmonicAngleForce', 'PeriodicTorsionForce', 'NonbondedForce']\n",
      "INFO:geometry:\tfinal no-nonbonded final system forces dict_keys(['HarmonicBondForce', 'HarmonicAngleForce', 'PeriodicTorsionForce', 'NonbondedForce'])\n",
      "INFO:geometry:\tthere are 11 bond forces in the no-nonbonded final system\n",
      "INFO:geometry:\tthere are 43 angle forces in the no-nonbonded final system\n",
      "INFO:geometry:\tthere are 72 torsion forces in the no-nonbonded final system\n",
      "INFO:geometry:forward final system defined with 0 neglected angles.\n"
     ]
    },
    {
     "name": "stdout",
     "output_type": "stream",
     "text": [
      "conducting subsequent work with the following platform: CUDA\n",
      "conducting subsequent work with the following platform: CUDA\n"
     ]
    },
    {
     "name": "stderr",
     "output_type": "stream",
     "text": [
      "INFO:geometry:total reduced potential before atom placement: 31.36040723546956\n"
     ]
    },
    {
     "name": "stdout",
     "output_type": "stream",
     "text": [
      "conducting subsequent work with the following platform: CUDA\n",
      "conducting subsequent work with the following platform: CUDA\n",
      "conducting subsequent work with the following platform: CUDA\n"
     ]
    },
    {
     "name": "stderr",
     "output_type": "stream",
     "text": [
      "INFO:geometry:total reduced energy added from growth system: -70.85212334903572\n",
      "INFO:geometry:final reduced energy -39.49171494285552\n",
      "INFO:geometry:sum of energies: -39.49171611356616\n",
      "INFO:geometry:magnitude of difference in the energies: 1.1707106324365668e-06\n",
      "INFO:geometry:Final logp_proposal: 50.67615248335788\n"
     ]
    },
    {
     "name": "stdout",
     "output_type": "stream",
     "text": [
      "added energy components: [('CustomBondForce', 1.1117431581102315), ('CustomAngleForce', 5.604625982601772), ('CustomTorsionForce', 9.75657321910436), ('CustomBondForce', -87.32506570885208)]\n"
     ]
    },
    {
     "name": "stderr",
     "output_type": "stream",
     "text": [
      "INFO:geometry:logp_reverse: performing reverse proposal\n",
      "INFO:geometry:logp_reverse: unique new atoms detected; proceeding to _logp_propose...\n",
      "INFO:geometry:Conducting forward proposal...\n",
      "INFO:geometry:Computing proposal order with NetworkX...\n",
      "INFO:geometry:number of atoms to be placed: 3\n",
      "INFO:geometry:Atom index proposal order is [15, 12, 11]\n",
      "INFO:geometry:omitted_bonds: []\n",
      "INFO:geometry:direction of proposal is reverse; creating atoms_with_positions from old system/topology\n",
      "INFO:geometry:creating growth system...\n",
      "INFO:geometry:\tcreating bond force...\n",
      "INFO:geometry:\tthere are 9 bonds in reference force.\n",
      "INFO:geometry:\tcreating angle force...\n",
      "INFO:geometry:\tthere are 36 angles in reference force.\n",
      "INFO:geometry:\tcreating torsion force...\n",
      "INFO:geometry:\tcreating extra torsions force...\n",
      "INFO:geometry:\tthere are 42 torsions in reference force.\n",
      "INFO:geometry:\tcreating nonbonded force...\n",
      "INFO:geometry:\t\tgrabbing reference nonbonded method, cutoff, switching function, switching distance...\n",
      "INFO:geometry:\t\tcreating nonbonded exception force (i.e. custom bond for 1,4s)...\n",
      "INFO:geometry:\t\tlooping through exceptions calculating growth indices, and adding appropriate interactions to custom bond force.\n",
      "INFO:geometry:\t\tthere are 98 in the reference Nonbonded force\n",
      "INFO:geometry:Neglected angle terms : []\n",
      "INFO:geometry:omitted_growth_terms: {'bonds': [], 'angles': [], 'torsions': [], '1,4s': []}\n",
      "INFO:geometry:extra torsions: {0: (6, 8, 10, 15, [1, Quantity(value=2.105358864604291, unit=radian), Quantity(value=1200.0, unit=kilocalorie/mole), 1]), 1: (6, 8, 10, 11, [1, Quantity(value=-2.0823006129211796, unit=radian), Quantity(value=1200.0, unit=kilocalorie/mole), 3]), 2: (6, 8, 10, 12, [1, Quantity(value=0.018582237407944735, unit=radian), Quantity(value=1200.0, unit=kilocalorie/mole), 2]), 3: (13, 8, 10, 15, [1, Quantity(value=-0.036945135932107576, unit=radian), Quantity(value=1200.0, unit=kilocalorie/mole), 1]), 4: (13, 8, 10, 11, [1, Quantity(value=2.0585806937220097, unit=radian), Quantity(value=1200.0, unit=kilocalorie/mole), 3]), 5: (13, 8, 10, 12, [1, Quantity(value=-2.1237217631284597, unit=radian), Quantity(value=1200.0, unit=kilocalorie/mole), 2]), 6: (9, 8, 10, 15, [1, Quantity(value=-2.119603470065817, unit=radian), Quantity(value=1200.0, unit=kilocalorie/mole), 1]), 7: (9, 8, 10, 11, [1, Quantity(value=-0.024077640411697132, unit=radian), Quantity(value=1200.0, unit=kilocalorie/mole), 3]), 8: (9, 8, 10, 12, [1, Quantity(value=2.0768052099174152, unit=radian), Quantity(value=1200.0, unit=kilocalorie/mole), 2])}\n",
      "INFO:geometry:neglected angle terms include []\n",
      "INFO:geometry:log probability choice of torsions and atom order: -5.0875963352323845\n",
      "INFO:geometry:creating platform, integrators, and contexts; setting growth parameter\n"
     ]
    },
    {
     "name": "stdout",
     "output_type": "stream",
     "text": [
      "conducting subsequent work with the following platform: CUDA\n"
     ]
    },
    {
     "name": "stderr",
     "output_type": "stream",
     "text": [
      "INFO:geometry:setting atoms_with_positions context old positions\n"
     ]
    },
    {
     "name": "stdout",
     "output_type": "stream",
     "text": [
      "conducting subsequent work with the following platform: CUDA\n"
     ]
    },
    {
     "name": "stderr",
     "output_type": "stream",
     "text": [
      "INFO:geometry:There are 3 new atoms\n",
      "INFO:geometry:\treduced angle potential = 0.8234539492149762.\n",
      "INFO:geometry:\treduced angle potential = 0.2500528178763556.\n",
      "INFO:geometry:\treduced angle potential = 0.3096300511603986.\n",
      "INFO:geometry:\tbeginning construction of no_nonbonded final system...\n",
      "INFO:geometry:\tinitial no-nonbonded final system forces ['HarmonicBondForce', 'HarmonicAngleForce', 'PeriodicTorsionForce', 'NonbondedForce']\n",
      "INFO:geometry:\tfinal no-nonbonded final system forces dict_keys(['HarmonicBondForce', 'HarmonicAngleForce', 'PeriodicTorsionForce', 'NonbondedForce'])\n",
      "INFO:geometry:\tthere are 9 bond forces in the no-nonbonded final system\n",
      "INFO:geometry:\tthere are 36 angle forces in the no-nonbonded final system\n",
      "INFO:geometry:\tthere are 42 torsion forces in the no-nonbonded final system\n",
      "INFO:geometry:reverse final system defined with 0 neglected angles.\n"
     ]
    },
    {
     "name": "stdout",
     "output_type": "stream",
     "text": [
      "conducting subsequent work with the following platform: CUDA\n",
      "conducting subsequent work with the following platform: CUDA\n"
     ]
    },
    {
     "name": "stderr",
     "output_type": "stream",
     "text": [
      "INFO:geometry:total reduced potential before atom placement: 31.36040723546956\n"
     ]
    },
    {
     "name": "stdout",
     "output_type": "stream",
     "text": [
      "conducting subsequent work with the following platform: CUDA\n",
      "conducting subsequent work with the following platform: CUDA\n",
      "conducting subsequent work with the following platform: CUDA\n"
     ]
    },
    {
     "name": "stderr",
     "output_type": "stream",
     "text": [
      "INFO:geometry:total reduced energy added from growth system: 10.374130239445629\n",
      "INFO:geometry:final reduced energy 41.734536894734866\n",
      "INFO:geometry:sum of energies: 41.734537474915186\n",
      "INFO:geometry:magnitude of difference in the energies: 5.801803215632617e-07\n",
      "INFO:geometry:Final logp_proposal: -29576.260175343043\n"
     ]
    },
    {
     "name": "stdout",
     "output_type": "stream",
     "text": [
      "added energy components: [('CustomBondForce', 0.0), ('CustomAngleForce', 1.844563196308122), ('CustomTorsionForce', 0.31379335634681493), ('CustomBondForce', 8.21577368679069)]\n"
     ]
    },
    {
     "name": "stderr",
     "output_type": "stream",
     "text": [
      "INFO:setup:charge diff: 0\n",
      "INFO:relative:*** Generating vanilla HybridTopologyFactory ***\n",
      "INFO:relative:Beginning nonbonded method, total particle, barostat, and exceptions retrieval...\n",
      "INFO:relative:Flattening exceptions of unique new/old at lambda = 0/1\n",
      "INFO:relative:Old system forces: dict_keys(['HarmonicBondForce', 'HarmonicAngleForce', 'PeriodicTorsionForce', 'NonbondedForce'])\n",
      "INFO:relative:New system forces: dict_keys(['HarmonicBondForce', 'HarmonicAngleForce', 'PeriodicTorsionForce', 'NonbondedForce'])\n",
      "INFO:relative:No unknown forces.\n",
      "INFO:relative:Nonbonded method to be used (i.e. from old system): 0\n",
      "INFO:relative:Adding and mapping old atoms to hybrid system...\n",
      "INFO:relative:Adding and mapping new atoms to hybrid system...\n",
      "INFO:relative:No MonteCarloBarostat added.\n",
      "INFO:relative:getDefaultPeriodicBoxVectors added to hybrid: [Quantity(value=Vec3(x=2.0, y=0.0, z=0.0), unit=nanometer), Quantity(value=Vec3(x=0.0, y=2.0, z=0.0), unit=nanometer), Quantity(value=Vec3(x=0.0, y=0.0, z=2.0), unit=nanometer)]\n",
      "INFO:relative:Determined atom classes.\n",
      "INFO:relative:Generating old system exceptions dict...\n",
      "INFO:relative:Generating new system exceptions dict...\n",
      "INFO:relative:Handling constraints...\n",
      "INFO:relative:Handling virtual sites...\n",
      "INFO:relative:\t_handle_virtual_sites: numVirtualSites: 0\n",
      "INFO:relative:Adding bond force terms...\n",
      "INFO:relative:Adding angle force terms...\n",
      "INFO:relative:Adding torsion force terms...\n",
      "INFO:relative:Adding nonbonded force terms...\n",
      "INFO:relative:\t_add_nonbonded_force_terms: <openmm.openmm.NonbondedForce; proxy of <Swig Object of type 'OpenMM::NonbondedForce *' at 0x2b8694d56c60> > added to hybrid system\n",
      "INFO:relative:\t_add_nonbonded_force_terms: nonbonded_method is NoCutoff\n",
      "INFO:relative:\t_add_nonbonded_force_terms: 0 added to standard nonbonded force\n",
      "INFO:relative:\t_add_nonbonded_force_terms: 0 added to sterics_custom_nonbonded force\n",
      "INFO:relative:\t_add_nonbonded_force_terms: <openmm.openmm.CustomNonbondedForce; proxy of <Swig Object of type 'OpenMM::CustomNonbondedForce *' at 0x2b8694d56ba0> > added to hybrid system\n",
      "INFO:relative:Handling harmonic bonds...\n",
      "INFO:relative:\thandle_harmonic_bonds: looping through old_system to add relevant terms...\n",
      "INFO:relative:\thandle_harmonic_bonds: looping through new_system to add relevant terms...\n",
      "INFO:relative:Handling harmonic angles...\n",
      "INFO:relative:\thandle_harmonic_angles: looping through old_system to add relevant terms...\n",
      "INFO:relative:\thandle_harmonic_angles: looping through new_system to add relevant terms...\n",
      "INFO:relative:Handling torsion forces...\n",
      "INFO:relative:\thandle_periodic_torsion_forces: looping through old_system to add relevant terms...\n",
      "INFO:relative:\thandle_periodic_torsion_forces: looping through new_system to add relevant terms...\n",
      "INFO:relative:Handling nonbonded forces...\n",
      "INFO:relative:\thandle_nonbonded: looping through all particles in hybrid...\n",
      "INFO:relative:\thandle_nonbonded: Handling Interaction Groups...\n",
      "INFO:relative:\thandle_nonbonded: Handling Hybrid Exceptions...\n",
      "INFO:relative:\thandle_nonbonded: Handling Original Exceptions...\n",
      "INFO:relative:Handling unique_new/old interaction exceptions...\n",
      "INFO:relative:There are old or new system exceptions...proceeding.\n",
      "INFO:relative:Imposing virtual bonds to ensure system is imaged together.\n",
      "INFO:relative:\t\t_impose_virtual_bonds: No restraint added because sets overlap (core_atoms=[1, 4, 5, 6, 8, 10, 13, 14, 16, 18], protein_atoms=[8])\n",
      "INFO:relative:*** Generating RESTCapableHybridTopologyFactory ***\n",
      "INFO:relative:Old system forces: dict_keys(['HarmonicBondForce', 'HarmonicAngleForce', 'PeriodicTorsionForce', 'NonbondedForce'])\n",
      "INFO:relative:New system forces: dict_keys(['HarmonicBondForce', 'HarmonicAngleForce', 'PeriodicTorsionForce', 'NonbondedForce'])\n",
      "INFO:relative:No unknown forces.\n",
      "INFO:relative:r_cutoff is 100 nm\n",
      "INFO:relative:alpha_ewald is 0\n",
      "INFO:relative:w_scale is 0.3\n",
      "INFO:relative:Creating hybrid system\n",
      "INFO:relative:Adding and mapping old atoms to hybrid system...\n",
      "INFO:relative:Adding and mapping new atoms to hybrid system...\n",
      "INFO:relative:No MonteCarloBarostat added.\n",
      "INFO:relative:getDefaultPeriodicBoxVectors added to hybrid: [Quantity(value=Vec3(x=2.0, y=0.0, z=0.0), unit=nanometer), Quantity(value=Vec3(x=0.0, y=2.0, z=0.0), unit=nanometer), Quantity(value=Vec3(x=0.0, y=0.0, z=2.0), unit=nanometer)]\n",
      "INFO:relative:Determined atom classes.\n",
      "INFO:relative:Computed hybrid positions\n",
      "INFO:relative:Created hybrid topology\n",
      "INFO:relative:Generating rest_region with query indices: [6, 7, 8, 9, 10, 11, 12, 13, 14, 15, 22, 23, 24, 25, 26, 27, 28]\n",
      "INFO:relative:Rest radius: 0.3 nm\n",
      "INFO:relative:Rest region: [0, 1, 2, 3, 4, 5, 6, 7, 8, 9, 10, 11, 12, 13, 14, 15, 22, 23, 24, 25, 26, 27, 28, 16, 17, 18, 19, 20, 21]\n",
      "INFO:relative:Prepped look up dict for determining if atom is solvent\n",
      "INFO:relative:Generating old system exceptions dict...\n",
      "INFO:relative:Generating new system exceptions dict...\n",
      "INFO:relative:Handling constraints...\n",
      "INFO:relative:Handling virtual sites...\n",
      "INFO:relative:\t_handle_virtual_sites: numVirtualSites: 0\n",
      "INFO:relative:Handling bonds...\n",
      "INFO:relative:Handling angles...\n",
      "INFO:relative:Handling torsions...\n",
      "INFO:relative:Handling nonbondeds (creating forces)...\n",
      "INFO:relative:Handling nonbondeds (copying nonbonded particles)...\n",
      "INFO:relative:Handling nonbondeds (copying nonbonded exceptions)...\n",
      "INFO:setup:Saving htfs as pickles\n",
      "INFO:setup:sterics expression: U_electrostatics + U_sterics * sterics_rest_scale; U_electrostatics = U_electrostatics_coulomb * electrostatics_rest_scale - U_electrostatics_reciprocal; U_electrostatics_coulomb = 138.93545764438198 * chargeProd_exceptions / r; U_electrostatics_reciprocal = 138.93545764438198 * chargeProd_product * erf(alpha * r) / r; electrostatics_rest_scale = is_rest * lambda_rest_electrostatics_exceptions * lambda_rest_electrostatics_exceptions + is_inter * lambda_rest_electrostatics_exceptions + is_nonrest; sterics_rest_scale = is_rest * lambda_rest_sterics_exceptions * lambda_rest_sterics_exceptions + is_inter * lambda_rest_sterics_exceptions + is_nonrest; U_sterics = 4 * epsilon * x * (x - 1.0);x = (sigma / r)^6;chargeProd_exceptions = is_unique_old * old_chargeProd_exceptions_scaled + is_unique_new * new_chargeProd_exceptions_scaled + is_core * (old_chargeProd_exceptions_scaled + new_chargeProd_exceptions_scaled) + is_environment * chargeProd_exceptions_old; old_chargeProd_exceptions_scaled = lambda_alchemical_electrostatics_exceptions_old * chargeProd_exceptions_old; new_chargeProd_exceptions_scaled = lambda_alchemical_electrostatics_exceptions_new * chargeProd_exceptions_new; chargeProd_product = is_unique_old * old_chargeProd_product_scaled + is_unique_new * new_chargeProd_product_scaled + is_core * (old_chargeProd_product_scaled + new_chargeProd_product_scaled) + is_environment * chargeProd_product_old; old_chargeProd_product_scaled = lambda_alchemical_electrostatics_exceptions_old * chargeProd_product_old; new_chargeProd_product_scaled = lambda_alchemical_electrostatics_exceptions_new * chargeProd_product_new; sigma = is_unique_old * sigma_old + is_unique_new * sigma_new + is_core * max(0.05, (lambda_alchemical_sterics_exceptions_old * sigma_old + lambda_alchemical_sterics_exceptions_new * sigma_new)) + is_environment * sigma_old; epsilon = is_unique_old * old_epsilon_scaled + is_unique_new * new_epsilon_scaled + is_core * (old_epsilon_scaled + new_epsilon_scaled) + is_environment * epsilon_old; old_epsilon_scaled = lambda_alchemical_sterics_exceptions_old * epsilon_old; new_epsilon_scaled = lambda_alchemical_sterics_exceptions_new * epsilon_new; alpha = 0;\n",
      "INFO:setup:forces: [<openmm.openmm.CustomBondForce; proxy of <Swig Object of type 'OpenMM::CustomBondForce *' at 0x2b86912b44b0> >, <openmm.openmm.CustomAngleForce; proxy of <Swig Object of type 'OpenMM::CustomAngleForce *' at 0x2b8695165c00> >, <openmm.openmm.CustomTorsionForce; proxy of <Swig Object of type 'OpenMM::CustomTorsionForce *' at 0x2b8695165450> >, <openmm.openmm.CustomNonbondedForce; proxy of <Swig Object of type 'OpenMM::CustomNonbondedForce *' at 0x2b8695165990> >, <openmm.openmm.CustomNonbondedForce; proxy of <Swig Object of type 'OpenMM::CustomNonbondedForce *' at 0x2b8695165540> >, <openmm.openmm.CustomBondForce; proxy of <Swig Object of type 'OpenMM::CustomBondForce *' at 0x2b86951654e0> >, <openmm.openmm.NonbondedForce; proxy of <Swig Object of type 'OpenMM::NonbondedForce *' at 0x2b86951655a0> >, <openmm.openmm.NonbondedForce; proxy of <Swig Object of type 'OpenMM::NonbondedForce *' at 0x2b8695165870> >]\n"
     ]
    },
    {
     "name": "stderr",
     "output_type": "stream",
     "text": [
      "INFO:setup:number of particles in apo: 29\n",
      "INFO:setup:number of particles in apo rest region: 29\n"
     ]
    },
    {
     "name": "stdout",
     "output_type": "stream",
     "text": [
      "apo rest region atoms:\n",
      "ACE1-H1\n",
      "ACE1-CH3\n",
      "ACE1-H2\n",
      "ACE1-H3\n",
      "ACE1-C\n",
      "ACE1-O\n",
      "ALA2-N\n",
      "ALA2-H\n",
      "ALA2-CA\n",
      "ALA2-HA\n",
      "ALA2-CB\n",
      "ALA2-HB2\n",
      "ALA2-HB3\n",
      "ALA2-C\n",
      "ALA2-O\n",
      "ALA2-HB1\n",
      "ALA2-HB\n",
      "ALA2-CG2\n",
      "ALA2-HG21\n",
      "ALA2-HG22\n",
      "ALA2-HG23\n",
      "ALA2-OG1\n",
      "ALA2-HG1\n",
      "NME3-N\n",
      "NME3-H\n",
      "NME3-C\n",
      "NME3-H1\n",
      "NME3-H2\n",
      "NME3-H3\n"
     ]
    }
   ],
   "source": [
    "outdir = \"/data/chodera/zhangi/perses_benchmark/repex/38/16/\"\n",
    "residue = '2'\n",
    "mutant = 'THR'\n",
    "\n",
    "apo_file = \"/data/chodera/zhangi/perses_benchmark/repex/38/16/equil/apo_equilibrated.cif\" \n",
    "cif = app.PDBxFile(apo_file)\n",
    "modeller = app.Modeller(cif.topology, cif.positions)\n",
    "solvent_chains = [chain for chain in modeller.topology.chains() if chain.index > 0]\n",
    "modeller.delete(solvent_chains)\n",
    "modeller.topology.setPeriodicBoxVectors(None)\n",
    "apo_file_vacuum = \"/data/chodera/zhangi/perses_benchmark/repex/38/16/equil/apo_equilibrated_vacuum.cif\" \n",
    "app.PDBxFile.writeFile(modeller.topology, modeller.positions, open(apo_file_vacuum, \"w\"), keepIds=True)\n",
    "\n",
    "solvent_delivery = generate_vacuum_htf(outdir, residue, mutant, apo_file_vacuum)"
   ]
  },
  {
   "cell_type": "code",
   "execution_count": 50,
   "id": "c5738e57",
   "metadata": {},
   "outputs": [
    {
     "name": "stderr",
     "output_type": "stream",
     "text": [
      "DEBUG:openmmforcefields.system_generators:Trying GAFFTemplateGenerator to load gaff-2.11\n"
     ]
    },
    {
     "name": "stdout",
     "output_type": "stream",
     "text": [
      "(Vec3(x=2.9625000000000004, y=0.0, z=0.0), Vec3(x=0.9874989941036161, y=2.793072141324737, z=0.0), Vec3(x=-0.9874989941036157, y=1.3965339368347203, z=2.4188726609545337)) nm\n"
     ]
    },
    {
     "name": "stderr",
     "output_type": "stream",
     "text": [
      "INFO:proposal_generator:\tConducting polymer point mutation proposal...\n",
      "INFO:proposal_generator:local_atom_map: {6: 6, 7: 7, 8: 8, 9: 9, 10: 10, 13: 13, 14: 14}\n",
      "INFO:proposal_generator:the mapped atom names are: [('N', 'N'), ('H', 'H'), ('CA', 'CA'), ('HA', 'HA'), ('CB', 'CB'), ('C', 'C'), ('O', 'O')]\n"
     ]
    },
    {
     "name": "stdout",
     "output_type": "stream",
     "text": [
      "[Quantity(value=Vec3(x=2.9625000000000004, y=0.0, z=0.0), unit=nanometer), Quantity(value=Vec3(x=0.9874989941036161, y=2.793072141324737, z=0.0), unit=nanometer), Quantity(value=Vec3(x=-0.9874989941036157, y=1.3965339368347203, z=2.4188726609545337), unit=nanometer)]\n",
      "True\n"
     ]
    },
    {
     "name": "stderr",
     "output_type": "stream",
     "text": [
      "INFO:geometry:propose: performing forward proposal\n",
      "INFO:geometry:propose: unique new atoms detected; proceeding to _logp_propose...\n",
      "INFO:geometry:Conducting forward proposal...\n",
      "INFO:geometry:Computing proposal order with NetworkX...\n",
      "INFO:geometry:number of atoms to be placed: 3\n",
      "INFO:geometry:Atom index proposal order is [12, 11, 15]\n",
      "INFO:geometry:omitted_bonds: []\n",
      "INFO:geometry:direction of proposal is forward; creating atoms_with_positions and new positions from old system/topology...\n"
     ]
    },
    {
     "name": "stdout",
     "output_type": "stream",
     "text": [
      "[Quantity(value=Vec3(x=2.9625000000000004, y=0.0, z=0.0), unit=nanometer), Quantity(value=Vec3(x=0.9874989941036161, y=2.793072141324737, z=0.0), unit=nanometer), Quantity(value=Vec3(x=-0.9874989941036157, y=1.3965339368347203, z=2.4188726609545337), unit=nanometer)]\n",
      "True\n"
     ]
    },
    {
     "name": "stderr",
     "output_type": "stream",
     "text": [
      "INFO:geometry:creating growth system...\n",
      "INFO:geometry:\tcreating bond force...\n",
      "INFO:geometry:\tthere are 9 bonds in reference force.\n",
      "INFO:geometry:\tcreating angle force...\n",
      "INFO:geometry:\tthere are 36 angles in reference force.\n",
      "INFO:geometry:\tcreating torsion force...\n",
      "INFO:geometry:\tcreating extra torsions force...\n",
      "INFO:geometry:\tthere are 42 torsions in reference force.\n",
      "INFO:geometry:\tcreating nonbonded force...\n",
      "INFO:geometry:\t\tgrabbing reference nonbonded method, cutoff, switching function, switching distance...\n",
      "INFO:geometry:\t\tcreating nonbonded exception force (i.e. custom bond for 1,4s)...\n",
      "INFO:geometry:\t\tlooping through exceptions calculating growth indices, and adding appropriate interactions to custom bond force.\n",
      "INFO:geometry:\t\tthere are 1967 in the reference Nonbonded force\n",
      "INFO:geometry:Neglected angle terms : []\n",
      "INFO:geometry:omitted_growth_terms: {'bonds': [], 'angles': [], 'torsions': [], '1,4s': []}\n",
      "INFO:geometry:extra torsions: {0: (6, 8, 10, 15, [1, Quantity(value=2.105358864604291, unit=radian), Quantity(value=1200.0, unit=kilocalorie/mole), 3]), 1: (6, 8, 10, 11, [1, Quantity(value=-2.0823006129211796, unit=radian), Quantity(value=1200.0, unit=kilocalorie/mole), 2]), 2: (6, 8, 10, 12, [1, Quantity(value=0.018582237407944735, unit=radian), Quantity(value=1200.0, unit=kilocalorie/mole), 1]), 3: (13, 8, 10, 15, [1, Quantity(value=-0.036945135932107576, unit=radian), Quantity(value=1200.0, unit=kilocalorie/mole), 3]), 4: (13, 8, 10, 11, [1, Quantity(value=2.0585806937220097, unit=radian), Quantity(value=1200.0, unit=kilocalorie/mole), 2]), 5: (13, 8, 10, 12, [1, Quantity(value=-2.1237217631284597, unit=radian), Quantity(value=1200.0, unit=kilocalorie/mole), 1]), 6: (9, 8, 10, 15, [1, Quantity(value=-2.119603470065817, unit=radian), Quantity(value=1200.0, unit=kilocalorie/mole), 3]), 7: (9, 8, 10, 11, [1, Quantity(value=-0.024077640411697132, unit=radian), Quantity(value=1200.0, unit=kilocalorie/mole), 2]), 8: (9, 8, 10, 12, [1, Quantity(value=2.0768052099174152, unit=radian), Quantity(value=1200.0, unit=kilocalorie/mole), 1])}\n",
      "INFO:geometry:neglected angle terms include []\n",
      "INFO:geometry:log probability choice of torsions and atom order: -5.0875963352323845\n",
      "INFO:geometry:creating platform, integrators, and contexts; setting growth parameter\n"
     ]
    },
    {
     "name": "stdout",
     "output_type": "stream",
     "text": [
      "conducting subsequent work with the following platform: CUDA\n"
     ]
    },
    {
     "name": "stderr",
     "output_type": "stream",
     "text": [
      "INFO:geometry:setting atoms_with_positions context new positions\n"
     ]
    },
    {
     "name": "stdout",
     "output_type": "stream",
     "text": [
      "conducting subsequent work with the following platform: CUDA\n"
     ]
    },
    {
     "name": "stderr",
     "output_type": "stream",
     "text": [
      "INFO:geometry:There are 3 new atoms\n",
      "INFO:geometry:\treduced angle potential = 0.009318721261648833.\n",
      "INFO:geometry:\treduced angle potential = 2.782734781663877e-05.\n",
      "INFO:geometry:\treduced angle potential = 0.22176942609945594.\n",
      "INFO:geometry:\tbeginning construction of no_nonbonded final system...\n",
      "INFO:geometry:\tinitial no-nonbonded final system forces ['HarmonicBondForce', 'HarmonicAngleForce', 'PeriodicTorsionForce', 'NonbondedForce', 'MonteCarloBarostat']\n",
      "INFO:geometry:\tfinal no-nonbonded final system forces dict_keys(['HarmonicBondForce', 'HarmonicAngleForce', 'PeriodicTorsionForce', 'NonbondedForce'])\n",
      "INFO:geometry:\tthere are 9 bond forces in the no-nonbonded final system\n",
      "INFO:geometry:\tthere are 36 angle forces in the no-nonbonded final system\n",
      "INFO:geometry:\tthere are 42 torsion forces in the no-nonbonded final system\n",
      "INFO:geometry:forward final system defined with 0 neglected angles.\n"
     ]
    },
    {
     "name": "stdout",
     "output_type": "stream",
     "text": [
      "conducting subsequent work with the following platform: CUDA\n",
      "conducting subsequent work with the following platform: CUDA\n"
     ]
    },
    {
     "name": "stderr",
     "output_type": "stream",
     "text": [
      "INFO:geometry:total reduced potential before atom placement: 42.539566350871226\n"
     ]
    },
    {
     "name": "stdout",
     "output_type": "stream",
     "text": [
      "conducting subsequent work with the following platform: CUDA\n",
      "conducting subsequent work with the following platform: CUDA\n",
      "conducting subsequent work with the following platform: CUDA\n"
     ]
    },
    {
     "name": "stderr",
     "output_type": "stream",
     "text": [
      "INFO:geometry:total reduced energy added from growth system: 8.795114363325503\n",
      "INFO:geometry:final reduced energy 51.33468015612884\n",
      "INFO:geometry:sum of energies: 51.33468071419673\n",
      "INFO:geometry:magnitude of difference in the energies: 5.580678887895374e-07\n",
      "INFO:geometry:Final logp_proposal: 19.456321430194038\n"
     ]
    },
    {
     "name": "stdout",
     "output_type": "stream",
     "text": [
      "added energy components: [('CustomBondForce', 0.0), ('CustomAngleForce', 0.5553238662617388), ('CustomTorsionForce', 0.09535411130444632), ('CustomBondForce', 8.144436385759317)]\n"
     ]
    },
    {
     "name": "stderr",
     "output_type": "stream",
     "text": [
      "INFO:geometry:logp_reverse: performing reverse proposal\n",
      "INFO:geometry:logp_reverse: unique new atoms detected; proceeding to _logp_propose...\n",
      "INFO:geometry:Conducting forward proposal...\n",
      "INFO:geometry:Computing proposal order with NetworkX...\n",
      "INFO:geometry:number of atoms to be placed: 17\n",
      "INFO:geometry:Atom index proposal order is [15, 18, 21, 23, 24, 27, 11, 17, 29, 22, 25, 20, 28, 26, 16, 12, 19]\n",
      "INFO:geometry:omitted_bonds: []\n",
      "INFO:geometry:direction of proposal is reverse; creating atoms_with_positions from old system/topology\n",
      "INFO:geometry:creating growth system...\n",
      "INFO:geometry:\tcreating bond force...\n",
      "INFO:geometry:\tthere are 15 bonds in reference force.\n",
      "INFO:geometry:\tcreating angle force...\n",
      "INFO:geometry:\tthere are 60 angles in reference force.\n",
      "INFO:geometry:\tcreating torsion force...\n",
      "INFO:geometry:\tcreating extra torsions force...\n",
      "INFO:geometry:\tthere are 78 torsions in reference force.\n",
      "INFO:geometry:\tcreating nonbonded force...\n",
      "INFO:geometry:\t\tgrabbing reference nonbonded method, cutoff, switching function, switching distance...\n",
      "INFO:geometry:\t\tcreating nonbonded exception force (i.e. custom bond for 1,4s)...\n",
      "INFO:geometry:\t\tlooping through exceptions calculating growth indices, and adding appropriate interactions to custom bond force.\n",
      "INFO:geometry:\t\tthere are 2041 in the reference Nonbonded force\n",
      "INFO:geometry:Neglected angle terms : []\n",
      "INFO:geometry:omitted_growth_terms: {'bonds': [], 'angles': [], 'torsions': [], '1,4s': []}\n",
      "INFO:geometry:extra torsions: {0: (28, 27, 23, 21, [1, Quantity(value=3.1400479780546657, unit=radian), Quantity(value=1200.0, unit=kilocalorie/mole), 13]), 1: (28, 27, 23, 24, [1, Quantity(value=-0.0009854700401916716, unit=radian), Quantity(value=1200.0, unit=kilocalorie/mole), 13]), 2: (29, 27, 23, 21, [1, Quantity(value=-0.0019499207113558015, unit=radian), Quantity(value=1200.0, unit=kilocalorie/mole), 9]), 3: (29, 27, 23, 24, [1, Quantity(value=3.1402019383733304, unit=radian), Quantity(value=1200.0, unit=kilocalorie/mole), 9]), 4: (27, 23, 24, 26, [1, Quantity(value=-3.141011085169936, unit=radian), Quantity(value=1200.0, unit=kilocalorie/mole), 14]), 5: (27, 23, 24, 25, [1, Quantity(value=0.0013841937088012735, unit=radian), Quantity(value=1200.0, unit=kilocalorie/mole), 11]), 6: (21, 23, 24, 26, [1, Quantity(value=0.0011725432810614222, unit=radian), Quantity(value=1200.0, unit=kilocalorie/mole), 14]), 7: (21, 23, 24, 25, [1, Quantity(value=-3.1396174850195098, unit=radian), Quantity(value=1200.0, unit=kilocalorie/mole), 11])}\n",
      "INFO:geometry:neglected angle terms include []\n",
      "INFO:geometry:log probability choice of torsions and atom order: -32.861163015662676\n",
      "INFO:geometry:creating platform, integrators, and contexts; setting growth parameter\n"
     ]
    },
    {
     "name": "stdout",
     "output_type": "stream",
     "text": [
      "conducting subsequent work with the following platform: CUDA\n"
     ]
    },
    {
     "name": "stderr",
     "output_type": "stream",
     "text": [
      "INFO:geometry:setting atoms_with_positions context old positions\n"
     ]
    },
    {
     "name": "stdout",
     "output_type": "stream",
     "text": [
      "conducting subsequent work with the following platform: CUDA\n"
     ]
    },
    {
     "name": "stderr",
     "output_type": "stream",
     "text": [
      "INFO:geometry:There are 17 new atoms\n",
      "INFO:geometry:\treduced angle potential = 0.042853125757750306.\n",
      "INFO:geometry:\treduced angle potential = 0.11918491356084256.\n",
      "INFO:geometry:\treduced angle potential = 0.03558938425976845.\n",
      "INFO:geometry:\treduced angle potential = 3.063706070595789e-05.\n",
      "INFO:geometry:\treduced angle potential = 0.1283940070536202.\n",
      "INFO:geometry:\treduced angle potential = 0.3856161427963459.\n",
      "INFO:geometry:\treduced angle potential = 0.014831313710720695.\n",
      "INFO:geometry:\treduced angle potential = 1.0049041510239072.\n",
      "INFO:geometry:\treduced angle potential = 0.006867661209664784.\n",
      "INFO:geometry:\treduced angle potential = 0.3345265489620942.\n",
      "INFO:geometry:\treduced angle potential = 0.3039552128830515.\n",
      "INFO:geometry:\treduced angle potential = 0.39463143613777724.\n",
      "INFO:geometry:\treduced angle potential = 0.37202362757935775.\n",
      "INFO:geometry:\treduced angle potential = 0.0395257051882019.\n",
      "INFO:geometry:\treduced angle potential = 0.05013507617612773.\n",
      "INFO:geometry:\treduced angle potential = 0.32379759832066435.\n",
      "INFO:geometry:\treduced angle potential = 0.1891037527507676.\n",
      "INFO:geometry:\tbeginning construction of no_nonbonded final system...\n",
      "INFO:geometry:\tinitial no-nonbonded final system forces ['HarmonicBondForce', 'HarmonicAngleForce', 'PeriodicTorsionForce', 'NonbondedForce', 'MonteCarloBarostat']\n",
      "INFO:geometry:\tfinal no-nonbonded final system forces dict_keys(['HarmonicBondForce', 'HarmonicAngleForce', 'PeriodicTorsionForce', 'NonbondedForce'])\n",
      "INFO:geometry:\tthere are 15 bond forces in the no-nonbonded final system\n",
      "INFO:geometry:\tthere are 60 angle forces in the no-nonbonded final system\n",
      "INFO:geometry:\tthere are 78 torsion forces in the no-nonbonded final system\n",
      "INFO:geometry:reverse final system defined with 0 neglected angles.\n"
     ]
    },
    {
     "name": "stdout",
     "output_type": "stream",
     "text": [
      "conducting subsequent work with the following platform: CUDA\n",
      "conducting subsequent work with the following platform: CUDA\n"
     ]
    },
    {
     "name": "stderr",
     "output_type": "stream",
     "text": [
      "INFO:geometry:total reduced potential before atom placement: 42.539566350871226\n"
     ]
    },
    {
     "name": "stdout",
     "output_type": "stream",
     "text": [
      "conducting subsequent work with the following platform: CUDA\n",
      "conducting subsequent work with the following platform: CUDA\n",
      "conducting subsequent work with the following platform: CUDA\n"
     ]
    },
    {
     "name": "stderr",
     "output_type": "stream",
     "text": [
      "INFO:geometry:total reduced energy added from growth system: -478.8342646200793\n",
      "INFO:geometry:final reduced energy -436.2947077009399\n",
      "INFO:geometry:sum of energies: -436.2946982692081\n",
      "INFO:geometry:magnitude of difference in the energies: 9.43173182577084e-06\n",
      "INFO:geometry:Final logp_proposal: -31442.78237654639\n"
     ]
    },
    {
     "name": "stdout",
     "output_type": "stream",
     "text": [
      "added energy components: [('CustomBondForce', 8.159981229252093), ('CustomAngleForce', 9.07511207953895), ('CustomTorsionForce', 4.707971040348824), ('CustomBondForce', -500.77732896921924)]\n"
     ]
    },
    {
     "name": "stderr",
     "output_type": "stream",
     "text": [
      "INFO:setup:skipping counterion functionality because phase is vacuum\n",
      "INFO:relative:*** Generating vanilla HybridTopologyFactory ***\n",
      "INFO:relative:Beginning nonbonded method, total particle, barostat, and exceptions retrieval...\n",
      "INFO:relative:Flattening exceptions of unique new/old at lambda = 0/1\n",
      "INFO:relative:Old system forces: dict_keys(['HarmonicBondForce', 'HarmonicAngleForce', 'PeriodicTorsionForce', 'NonbondedForce', 'MonteCarloBarostat'])\n",
      "INFO:relative:New system forces: dict_keys(['HarmonicBondForce', 'HarmonicAngleForce', 'PeriodicTorsionForce', 'NonbondedForce', 'MonteCarloBarostat'])\n",
      "INFO:relative:No unknown forces.\n",
      "INFO:relative:Nonbonded method to be used (i.e. from old system): 4\n",
      "INFO:relative:Adding and mapping old atoms to hybrid system...\n",
      "INFO:relative:Adding and mapping new atoms to hybrid system...\n",
      "INFO:relative:Added MonteCarloBarostat.\n",
      "INFO:relative:getDefaultPeriodicBoxVectors added to hybrid: [Quantity(value=Vec3(x=2.9625000000000004, y=0.0, z=0.0), unit=nanometer), Quantity(value=Vec3(x=0.9874989941036161, y=2.793072141324737, z=0.0), unit=nanometer), Quantity(value=Vec3(x=-0.9874989941036157, y=1.3965339368347203, z=2.4188726609545337), unit=nanometer)]\n",
      "INFO:relative:Determined atom classes.\n",
      "INFO:relative:Generating old system exceptions dict...\n",
      "INFO:relative:Generating new system exceptions dict...\n",
      "INFO:relative:Handling constraints...\n",
      "INFO:relative:Handling virtual sites...\n",
      "INFO:relative:\t_handle_virtual_sites: numVirtualSites: 0\n",
      "INFO:relative:Adding bond force terms...\n",
      "INFO:relative:Adding angle force terms...\n",
      "INFO:relative:Adding torsion force terms...\n",
      "INFO:relative:Adding nonbonded force terms...\n",
      "INFO:relative:\t_add_nonbonded_force_terms: <openmm.openmm.NonbondedForce; proxy of <Swig Object of type 'OpenMM::NonbondedForce *' at 0x2b8696072900> > added to hybrid system\n",
      "INFO:relative:\t_add_nonbonded_force_terms: nonbonded_method is PME or Ewald\n",
      "INFO:relative:\t_add_nonbonded_force_terms: 4 added to standard nonbonded force\n",
      "INFO:relative:\t_add_nonbonded_force_terms: 2 added to sterics_custom_nonbonded force\n",
      "INFO:relative:\t_add_nonbonded_force_terms: <openmm.openmm.CustomNonbondedForce; proxy of <Swig Object of type 'OpenMM::CustomNonbondedForce *' at 0x2b8696506180> > added to hybrid system\n",
      "INFO:relative:Handling harmonic bonds...\n",
      "INFO:relative:\thandle_harmonic_bonds: looping through old_system to add relevant terms...\n",
      "INFO:relative:\thandle_harmonic_bonds: looping through new_system to add relevant terms...\n",
      "INFO:relative:Handling harmonic angles...\n",
      "INFO:relative:\thandle_harmonic_angles: looping through old_system to add relevant terms...\n",
      "INFO:relative:\thandle_harmonic_angles: looping through new_system to add relevant terms...\n",
      "INFO:relative:Handling torsion forces...\n",
      "INFO:relative:\thandle_periodic_torsion_forces: looping through old_system to add relevant terms...\n",
      "INFO:relative:\thandle_periodic_torsion_forces: looping through new_system to add relevant terms...\n",
      "INFO:relative:Handling nonbonded forces...\n",
      "INFO:relative:\thandle_nonbonded: looping through all particles in hybrid...\n",
      "INFO:relative:\thandle_nonbonded: Handling Interaction Groups...\n",
      "INFO:relative:\thandle_nonbonded: Handling Hybrid Exceptions...\n",
      "INFO:relative:\thandle_nonbonded: Handling Original Exceptions...\n",
      "INFO:relative:Handling unique_new/old interaction exceptions...\n",
      "INFO:relative:There are old or new system exceptions...proceeding.\n",
      "INFO:relative:Imposing virtual bonds to ensure system is imaged together.\n",
      "INFO:relative:\t\t_impose_virtual_bonds: No restraint added because sets overlap (core_atoms=[32, 1, 4, 5, 6, 8, 10, 13, 14, 30], protein_atoms=[8])\n",
      "INFO:relative:*** Generating RESTCapableHybridTopologyFactory ***\n",
      "INFO:relative:Old system forces: dict_keys(['HarmonicBondForce', 'HarmonicAngleForce', 'PeriodicTorsionForce', 'NonbondedForce', 'MonteCarloBarostat'])\n",
      "INFO:relative:New system forces: dict_keys(['HarmonicBondForce', 'HarmonicAngleForce', 'PeriodicTorsionForce', 'NonbondedForce', 'MonteCarloBarostat'])\n",
      "INFO:relative:No unknown forces.\n",
      "INFO:relative:r_cutoff is 1.0 nm\n",
      "INFO:relative:alpha_ewald is 2.7569734238004693\n",
      "INFO:relative:w_scale is 0.3\n",
      "INFO:relative:Creating hybrid system\n",
      "INFO:relative:Adding and mapping old atoms to hybrid system...\n",
      "INFO:relative:Adding and mapping new atoms to hybrid system...\n",
      "INFO:relative:Added MonteCarloBarostat.\n",
      "INFO:relative:getDefaultPeriodicBoxVectors added to hybrid: [Quantity(value=Vec3(x=2.9625000000000004, y=0.0, z=0.0), unit=nanometer), Quantity(value=Vec3(x=0.9874989941036161, y=2.793072141324737, z=0.0), unit=nanometer), Quantity(value=Vec3(x=-0.9874989941036157, y=1.3965339368347203, z=2.4188726609545337), unit=nanometer)]\n",
      "INFO:relative:Determined atom classes.\n",
      "INFO:relative:Computed hybrid positions\n",
      "INFO:relative:Created hybrid topology\n",
      "INFO:relative:Generating rest_region with query indices: [6, 7, 8, 9, 10, 11, 12, 13, 14, 15, 16, 17, 18, 19, 20, 21, 22, 23, 24, 25, 26, 27, 28, 29, 1910, 1911, 1912]\n",
      "INFO:relative:Rest radius: 0.3 nm\n",
      "INFO:relative:Rest region: [0, 1, 2, 3, 4, 5, 6, 7, 8, 9, 10, 11, 12, 13, 14, 15, 16, 17, 18, 19, 20, 21, 22, 23, 24, 25, 26, 27, 28, 29, 1910, 1911, 1912, 30, 31, 32, 33, 34, 35]\n",
      "INFO:relative:Prepped look up dict for determining if atom is solvent\n",
      "INFO:relative:Generating old system exceptions dict...\n",
      "INFO:relative:Generating new system exceptions dict...\n",
      "INFO:relative:Handling constraints...\n",
      "INFO:relative:Handling virtual sites...\n",
      "INFO:relative:\t_handle_virtual_sites: numVirtualSites: 0\n",
      "INFO:relative:Handling bonds...\n",
      "INFO:relative:Handling angles...\n",
      "INFO:relative:Handling torsions...\n",
      "INFO:relative:Handling nonbondeds (creating forces)...\n",
      "INFO:relative:Handling nonbondeds (copying nonbonded particles)...\n",
      "INFO:relative:Handling nonbondeds (copying nonbonded exceptions)...\n",
      "INFO:setup:Saving htfs as pickles\n",
      "INFO:setup:sterics expression: U_sterics; U_sterics = 4 * epsilon * x * (x - 1.0);x = (sigma / r_eff_sterics)^6;sigma = (sigma1 + sigma2) / 2; epsilon = sterics_rest_scale1 * sterics_rest_scale2 * sqrt(epsilon_combined); epsilon_combined = step(epsilon1 * epsilon2) * epsilon1 * epsilon2; r_eff_sterics = sqrt(r^2 + w_sterics^2); w_sterics = w_scale * r_cutoff * (is_unique_old * (1 - lambda_alchemical_sterics_old) + is_unique_new * (1 - lambda_alchemical_sterics_new)); is_unique_old = step(is_unique_old1 + is_unique_old2 - 0.1); is_unique_new = step(is_unique_new1 + is_unique_new2 - 0.1); w_scale = 0.3; r_cutoff = 1.0;\n",
      "INFO:setup:forces: [<openmm.openmm.MonteCarloBarostat; proxy of <Swig Object of type 'OpenMM::MonteCarloBarostat *' at 0x2b869615d570> >, <openmm.openmm.CustomBondForce; proxy of <Swig Object of type 'OpenMM::CustomBondForce *' at 0x2b869615d6c0> >, <openmm.openmm.CustomAngleForce; proxy of <Swig Object of type 'OpenMM::CustomAngleForce *' at 0x2b869615dab0> >, <openmm.openmm.CustomTorsionForce; proxy of <Swig Object of type 'OpenMM::CustomTorsionForce *' at 0x2b869615da80> >, <openmm.openmm.CustomNonbondedForce; proxy of <Swig Object of type 'OpenMM::CustomNonbondedForce *' at 0x2b869615d660> >, <openmm.openmm.CustomNonbondedForce; proxy of <Swig Object of type 'OpenMM::CustomNonbondedForce *' at 0x2b869615d7b0> >, <openmm.openmm.CustomBondForce; proxy of <Swig Object of type 'OpenMM::CustomBondForce *' at 0x2b869615d7e0> >, <openmm.openmm.NonbondedForce; proxy of <Swig Object of type 'OpenMM::NonbondedForce *' at 0x2b869615d9c0> >, <openmm.openmm.NonbondedForce; proxy of <Swig Object of type 'OpenMM::NonbondedForce *' at 0x2b869615dc90> >]\n",
      "INFO:setup:number of particles in apo: 1913\n",
      "INFO:setup:number of particles in apo rest region: 39\n"
     ]
    },
    {
     "name": "stdout",
     "output_type": "stream",
     "text": [
      "apo rest region atoms:\n",
      "ACE1-H1\n",
      "ACE1-CH3\n",
      "ACE1-H2\n",
      "ACE1-H3\n",
      "ACE1-C\n",
      "ACE1-O\n",
      "ARG2-N\n",
      "ARG2-H\n",
      "ARG2-CA\n",
      "ARG2-HA\n",
      "ARG2-CB\n",
      "ARG2-HB2\n",
      "ARG2-HB3\n",
      "ARG2-C\n",
      "ARG2-O\n",
      "ARG2-CG\n",
      "ARG2-HG2\n",
      "ARG2-HG3\n",
      "ARG2-CD\n",
      "ARG2-HD2\n",
      "ARG2-HD3\n",
      "ARG2-NE\n",
      "ARG2-HE\n",
      "ARG2-CZ\n",
      "ARG2-NH1\n",
      "ARG2-HH11\n",
      "ARG2-HH12\n",
      "ARG2-NH2\n",
      "ARG2-HH21\n",
      "ARG2-HH22\n",
      "ARG2-HB2\n",
      "ARG2-HB3\n",
      "ARG2-HB1\n",
      "NME3-N\n",
      "NME3-H\n",
      "NME3-C\n",
      "NME3-H1\n",
      "NME3-H2\n",
      "NME3-H3\n"
     ]
    }
   ],
   "source": [
    "outdir = \"/data/chodera/zhangi/perses_benchmark/repex/38/19/\"\n",
    "residue = '2'\n",
    "mutant = 'ALA'\n",
    "\n",
    "apo_file = \"/data/chodera/zhangi/perses_benchmark/repex/38/19/equil/apo_equilibrated.cif\" \n",
    "\n",
    "solvent_delivery = generate_htf(outdir, residue, mutant, apo_file, use_counterion=False)"
   ]
  },
  {
   "cell_type": "code",
   "execution_count": 51,
   "id": "1c6eb855",
   "metadata": {
    "scrolled": true
   },
   "outputs": [
    {
     "name": "stdout",
     "output_type": "stream",
     "text": [
      "(Vec3(x=2.7648, y=0.0, z=0.0), Vec3(x=0.9215990612312835, y=2.6066787700707614, z=0.0), Vec3(x=-0.9215990612312832, y=1.303337393606965, z=2.2574511841374156)) nm\n"
     ]
    },
    {
     "name": "stderr",
     "output_type": "stream",
     "text": [
      "DEBUG:openmmforcefields.system_generators:Trying GAFFTemplateGenerator to load gaff-2.11\n",
      "INFO:proposal_generator:\tConducting polymer point mutation proposal...\n"
     ]
    },
    {
     "name": "stdout",
     "output_type": "stream",
     "text": [
      "[Quantity(value=Vec3(x=2.7648, y=0.0, z=0.0), unit=nanometer), Quantity(value=Vec3(x=0.9215990612312835, y=2.6066787700707614, z=0.0), unit=nanometer), Quantity(value=Vec3(x=-0.9215990612312832, y=1.303337393606965, z=2.2574511841374156), unit=nanometer)]\n",
      "True\n"
     ]
    },
    {
     "name": "stderr",
     "output_type": "stream",
     "text": [
      "INFO:proposal_generator:local_atom_map: {6: 6, 7: 7, 8: 8, 9: 9, 10: 10, 13: 13, 14: 14}\n",
      "INFO:proposal_generator:the mapped atom names are: [('N', 'N'), ('H', 'H'), ('CA', 'CA'), ('HA', 'HA'), ('CB', 'CB'), ('C', 'C'), ('O', 'O')]\n",
      "INFO:geometry:propose: performing forward proposal\n",
      "INFO:geometry:propose: unique new atoms detected; proceeding to _logp_propose...\n",
      "INFO:geometry:Conducting forward proposal...\n",
      "INFO:geometry:Computing proposal order with NetworkX...\n",
      "INFO:geometry:number of atoms to be placed: 17\n",
      "INFO:geometry:Atom index proposal order is [15, 18, 21, 23, 24, 27, 19, 16, 12, 22, 11, 28, 17, 25, 26, 20, 29]\n",
      "INFO:geometry:omitted_bonds: []\n",
      "INFO:geometry:direction of proposal is forward; creating atoms_with_positions and new positions from old system/topology...\n",
      "INFO:geometry:creating growth system...\n"
     ]
    },
    {
     "name": "stdout",
     "output_type": "stream",
     "text": [
      "[Quantity(value=Vec3(x=2.7648, y=0.0, z=0.0), unit=nanometer), Quantity(value=Vec3(x=0.9215990612312835, y=2.6066787700707614, z=0.0), unit=nanometer), Quantity(value=Vec3(x=-0.9215990612312832, y=1.303337393606965, z=2.2574511841374156), unit=nanometer)]\n",
      "True\n"
     ]
    },
    {
     "name": "stderr",
     "output_type": "stream",
     "text": [
      "INFO:geometry:\tcreating bond force...\n",
      "INFO:geometry:\tthere are 15 bonds in reference force.\n",
      "INFO:geometry:\tcreating angle force...\n",
      "INFO:geometry:\tthere are 60 angles in reference force.\n",
      "INFO:geometry:\tcreating torsion force...\n",
      "INFO:geometry:\tcreating extra torsions force...\n",
      "INFO:geometry:\tthere are 78 torsions in reference force.\n",
      "INFO:geometry:\tcreating nonbonded force...\n",
      "INFO:geometry:\t\tgrabbing reference nonbonded method, cutoff, switching function, switching distance...\n",
      "INFO:geometry:\t\tcreating nonbonded exception force (i.e. custom bond for 1,4s)...\n",
      "INFO:geometry:\t\tlooping through exceptions calculating growth indices, and adding appropriate interactions to custom bond force.\n",
      "INFO:geometry:\t\tthere are 1699 in the reference Nonbonded force\n",
      "INFO:geometry:Neglected angle terms : []\n",
      "INFO:geometry:omitted_growth_terms: {'bonds': [], 'angles': [], 'torsions': [], '1,4s': []}\n",
      "INFO:geometry:extra torsions: {0: (28, 27, 23, 21, [1, Quantity(value=3.1400479780546657, unit=radian), Quantity(value=1200.0, unit=kilocalorie/mole), 12]), 1: (28, 27, 23, 24, [1, Quantity(value=-0.0009854700401916716, unit=radian), Quantity(value=1200.0, unit=kilocalorie/mole), 12]), 2: (29, 27, 23, 21, [1, Quantity(value=-0.0019499207113558015, unit=radian), Quantity(value=1200.0, unit=kilocalorie/mole), 17]), 3: (29, 27, 23, 24, [1, Quantity(value=3.1402019383733304, unit=radian), Quantity(value=1200.0, unit=kilocalorie/mole), 17]), 4: (27, 23, 24, 26, [1, Quantity(value=-3.141011085169936, unit=radian), Quantity(value=1200.0, unit=kilocalorie/mole), 15]), 5: (27, 23, 24, 25, [1, Quantity(value=0.0013841937088012735, unit=radian), Quantity(value=1200.0, unit=kilocalorie/mole), 14]), 6: (21, 23, 24, 26, [1, Quantity(value=0.0011725432810614222, unit=radian), Quantity(value=1200.0, unit=kilocalorie/mole), 15]), 7: (21, 23, 24, 25, [1, Quantity(value=-3.1396174850195098, unit=radian), Quantity(value=1200.0, unit=kilocalorie/mole), 14])}\n",
      "INFO:geometry:neglected angle terms include []\n",
      "INFO:geometry:log probability choice of torsions and atom order: -30.75002234856243\n",
      "INFO:geometry:creating platform, integrators, and contexts; setting growth parameter\n"
     ]
    },
    {
     "name": "stdout",
     "output_type": "stream",
     "text": [
      "conducting subsequent work with the following platform: CUDA\n"
     ]
    },
    {
     "name": "stderr",
     "output_type": "stream",
     "text": [
      "INFO:geometry:setting atoms_with_positions context new positions\n"
     ]
    },
    {
     "name": "stdout",
     "output_type": "stream",
     "text": [
      "conducting subsequent work with the following platform: CUDA\n"
     ]
    },
    {
     "name": "stderr",
     "output_type": "stream",
     "text": [
      "INFO:geometry:There are 17 new atoms\n",
      "INFO:geometry:\treduced angle potential = 0.01084938139685188.\n",
      "INFO:geometry:\treduced angle potential = 1.0911944008532788.\n",
      "INFO:geometry:\treduced angle potential = 0.035644596088977125.\n",
      "INFO:geometry:\treduced angle potential = 0.0882723517910947.\n",
      "INFO:geometry:\treduced angle potential = 0.08273580175634088.\n",
      "INFO:geometry:\treduced angle potential = 0.9244444557678655.\n",
      "INFO:geometry:\treduced angle potential = 0.0011121630382916953.\n",
      "INFO:geometry:\treduced angle potential = 0.0772326958385125.\n",
      "INFO:geometry:\treduced angle potential = 0.15465939590157002.\n",
      "INFO:geometry:\treduced angle potential = 0.0004174454825845966.\n",
      "INFO:geometry:\treduced angle potential = 0.21144117834823875.\n",
      "INFO:geometry:\treduced angle potential = 3.3144089475146976.\n",
      "INFO:geometry:\treduced angle potential = 0.6450873043104398.\n",
      "INFO:geometry:\treduced angle potential = 0.004454669066165252.\n",
      "INFO:geometry:\treduced angle potential = 0.18056834637784333.\n",
      "INFO:geometry:\treduced angle potential = 0.5813674941289247.\n",
      "INFO:geometry:\treduced angle potential = 0.03409284748806794.\n",
      "INFO:geometry:\tbeginning construction of no_nonbonded final system...\n",
      "INFO:geometry:\tinitial no-nonbonded final system forces ['HarmonicBondForce', 'HarmonicAngleForce', 'PeriodicTorsionForce', 'NonbondedForce', 'MonteCarloBarostat']\n",
      "INFO:geometry:\tfinal no-nonbonded final system forces dict_keys(['HarmonicBondForce', 'HarmonicAngleForce', 'PeriodicTorsionForce', 'NonbondedForce'])\n",
      "INFO:geometry:\tthere are 15 bond forces in the no-nonbonded final system\n",
      "INFO:geometry:\tthere are 60 angle forces in the no-nonbonded final system\n",
      "INFO:geometry:\tthere are 78 torsion forces in the no-nonbonded final system\n",
      "INFO:geometry:forward final system defined with 0 neglected angles.\n"
     ]
    },
    {
     "name": "stdout",
     "output_type": "stream",
     "text": [
      "conducting subsequent work with the following platform: CUDA\n",
      "conducting subsequent work with the following platform: CUDA\n"
     ]
    },
    {
     "name": "stderr",
     "output_type": "stream",
     "text": [
      "INFO:geometry:total reduced potential before atom placement: 31.360407235469566\n"
     ]
    },
    {
     "name": "stdout",
     "output_type": "stream",
     "text": [
      "conducting subsequent work with the following platform: CUDA\n",
      "conducting subsequent work with the following platform: CUDA\n",
      "conducting subsequent work with the following platform: CUDA\n"
     ]
    },
    {
     "name": "stderr",
     "output_type": "stream",
     "text": [
      "INFO:geometry:total reduced energy added from growth system: -440.4076636094054\n",
      "INFO:geometry:final reduced energy -409.0472711753993\n",
      "INFO:geometry:sum of energies: -409.04725637393585\n",
      "INFO:geometry:magnitude of difference in the energies: 1.4801463464664266e-05\n",
      "INFO:geometry:Final logp_proposal: 103.99851412982301\n"
     ]
    },
    {
     "name": "stdout",
     "output_type": "stream",
     "text": [
      "added energy components: [('CustomBondForce', 2.448825986427209), ('CustomAngleForce', 13.649685405757708), ('CustomTorsionForce', 21.0052287454326), ('CustomBondForce', -477.511403747023)]\n"
     ]
    },
    {
     "name": "stderr",
     "output_type": "stream",
     "text": [
      "INFO:geometry:logp_reverse: performing reverse proposal\n",
      "INFO:geometry:logp_reverse: unique new atoms detected; proceeding to _logp_propose...\n",
      "INFO:geometry:Conducting forward proposal...\n",
      "INFO:geometry:Computing proposal order with NetworkX...\n",
      "INFO:geometry:number of atoms to be placed: 3\n",
      "INFO:geometry:Atom index proposal order is [15, 12, 11]\n",
      "INFO:geometry:omitted_bonds: []\n",
      "INFO:geometry:direction of proposal is reverse; creating atoms_with_positions from old system/topology\n",
      "INFO:geometry:creating growth system...\n",
      "INFO:geometry:\tcreating bond force...\n",
      "INFO:geometry:\tthere are 9 bonds in reference force.\n",
      "INFO:geometry:\tcreating angle force...\n",
      "INFO:geometry:\tthere are 36 angles in reference force.\n",
      "INFO:geometry:\tcreating torsion force...\n",
      "INFO:geometry:\tcreating extra torsions force...\n",
      "INFO:geometry:\tthere are 42 torsions in reference force.\n",
      "INFO:geometry:\tcreating nonbonded force...\n",
      "INFO:geometry:\t\tgrabbing reference nonbonded method, cutoff, switching function, switching distance...\n",
      "INFO:geometry:\t\tcreating nonbonded exception force (i.e. custom bond for 1,4s)...\n",
      "INFO:geometry:\t\tlooping through exceptions calculating growth indices, and adding appropriate interactions to custom bond force.\n",
      "INFO:geometry:\t\tthere are 1625 in the reference Nonbonded force\n",
      "INFO:geometry:Neglected angle terms : []\n",
      "INFO:geometry:omitted_growth_terms: {'bonds': [], 'angles': [], 'torsions': [], '1,4s': []}\n",
      "INFO:geometry:extra torsions: {0: (6, 8, 10, 15, [1, Quantity(value=2.105358864604291, unit=radian), Quantity(value=1200.0, unit=kilocalorie/mole), 1]), 1: (6, 8, 10, 11, [1, Quantity(value=-2.0823006129211796, unit=radian), Quantity(value=1200.0, unit=kilocalorie/mole), 3]), 2: (6, 8, 10, 12, [1, Quantity(value=0.018582237407944735, unit=radian), Quantity(value=1200.0, unit=kilocalorie/mole), 2]), 3: (13, 8, 10, 15, [1, Quantity(value=-0.036945135932107576, unit=radian), Quantity(value=1200.0, unit=kilocalorie/mole), 1]), 4: (13, 8, 10, 11, [1, Quantity(value=2.0585806937220097, unit=radian), Quantity(value=1200.0, unit=kilocalorie/mole), 3]), 5: (13, 8, 10, 12, [1, Quantity(value=-2.1237217631284597, unit=radian), Quantity(value=1200.0, unit=kilocalorie/mole), 2]), 6: (9, 8, 10, 15, [1, Quantity(value=-2.119603470065817, unit=radian), Quantity(value=1200.0, unit=kilocalorie/mole), 1]), 7: (9, 8, 10, 11, [1, Quantity(value=-0.024077640411697132, unit=radian), Quantity(value=1200.0, unit=kilocalorie/mole), 3]), 8: (9, 8, 10, 12, [1, Quantity(value=2.0768052099174152, unit=radian), Quantity(value=1200.0, unit=kilocalorie/mole), 2])}\n",
      "INFO:geometry:neglected angle terms include []\n",
      "INFO:geometry:log probability choice of torsions and atom order: -5.0875963352323845\n",
      "INFO:geometry:creating platform, integrators, and contexts; setting growth parameter\n"
     ]
    },
    {
     "name": "stdout",
     "output_type": "stream",
     "text": [
      "conducting subsequent work with the following platform: CUDA\n"
     ]
    },
    {
     "name": "stderr",
     "output_type": "stream",
     "text": [
      "INFO:geometry:setting atoms_with_positions context old positions\n"
     ]
    },
    {
     "name": "stdout",
     "output_type": "stream",
     "text": [
      "conducting subsequent work with the following platform: CUDA\n"
     ]
    },
    {
     "name": "stderr",
     "output_type": "stream",
     "text": [
      "INFO:geometry:There are 3 new atoms\n",
      "INFO:geometry:\treduced angle potential = 0.8234539492149762.\n",
      "INFO:geometry:\treduced angle potential = 0.2500528178763556.\n",
      "INFO:geometry:\treduced angle potential = 0.3096300511603986.\n",
      "INFO:geometry:\tbeginning construction of no_nonbonded final system...\n",
      "INFO:geometry:\tinitial no-nonbonded final system forces ['HarmonicBondForce', 'HarmonicAngleForce', 'PeriodicTorsionForce', 'NonbondedForce', 'MonteCarloBarostat']\n",
      "INFO:geometry:\tfinal no-nonbonded final system forces dict_keys(['HarmonicBondForce', 'HarmonicAngleForce', 'PeriodicTorsionForce', 'NonbondedForce'])\n",
      "INFO:geometry:\tthere are 9 bond forces in the no-nonbonded final system\n",
      "INFO:geometry:\tthere are 36 angle forces in the no-nonbonded final system\n",
      "INFO:geometry:\tthere are 42 torsion forces in the no-nonbonded final system\n",
      "INFO:geometry:reverse final system defined with 0 neglected angles.\n"
     ]
    },
    {
     "name": "stdout",
     "output_type": "stream",
     "text": [
      "conducting subsequent work with the following platform: CUDA\n",
      "conducting subsequent work with the following platform: CUDA\n"
     ]
    },
    {
     "name": "stderr",
     "output_type": "stream",
     "text": [
      "INFO:geometry:total reduced potential before atom placement: 31.36040723546956\n"
     ]
    },
    {
     "name": "stdout",
     "output_type": "stream",
     "text": [
      "conducting subsequent work with the following platform: CUDA\n",
      "conducting subsequent work with the following platform: CUDA\n",
      "conducting subsequent work with the following platform: CUDA\n"
     ]
    },
    {
     "name": "stderr",
     "output_type": "stream",
     "text": [
      "INFO:geometry:total reduced energy added from growth system: 10.374130239445629\n",
      "INFO:geometry:final reduced energy 41.734536894734866\n",
      "INFO:geometry:sum of energies: 41.734537474915186\n",
      "INFO:geometry:magnitude of difference in the energies: 5.801803215632617e-07\n",
      "INFO:geometry:Final logp_proposal: -29495.87573997401\n"
     ]
    },
    {
     "name": "stdout",
     "output_type": "stream",
     "text": [
      "added energy components: [('CustomBondForce', 0.0), ('CustomAngleForce', 1.844563196308122), ('CustomTorsionForce', 0.31379335634681493), ('CustomBondForce', 8.21577368679069)]\n"
     ]
    },
    {
     "name": "stderr",
     "output_type": "stream",
     "text": [
      "INFO:setup:skipping counterion functionality because phase is vacuum\n",
      "INFO:relative:*** Generating vanilla HybridTopologyFactory ***\n",
      "INFO:relative:Beginning nonbonded method, total particle, barostat, and exceptions retrieval...\n",
      "INFO:relative:Flattening exceptions of unique new/old at lambda = 0/1\n",
      "INFO:relative:Old system forces: dict_keys(['HarmonicBondForce', 'HarmonicAngleForce', 'PeriodicTorsionForce', 'NonbondedForce', 'MonteCarloBarostat'])\n",
      "INFO:relative:New system forces: dict_keys(['HarmonicBondForce', 'HarmonicAngleForce', 'PeriodicTorsionForce', 'NonbondedForce', 'MonteCarloBarostat'])\n",
      "INFO:relative:No unknown forces.\n",
      "INFO:relative:Nonbonded method to be used (i.e. from old system): 4\n",
      "INFO:relative:Adding and mapping old atoms to hybrid system...\n",
      "INFO:relative:Adding and mapping new atoms to hybrid system...\n",
      "INFO:relative:Added MonteCarloBarostat.\n",
      "INFO:relative:getDefaultPeriodicBoxVectors added to hybrid: [Quantity(value=Vec3(x=2.7648, y=0.0, z=0.0), unit=nanometer), Quantity(value=Vec3(x=0.9215990612312835, y=2.6066787700707614, z=0.0), unit=nanometer), Quantity(value=Vec3(x=-0.9215990612312832, y=1.303337393606965, z=2.2574511841374156), unit=nanometer)]\n",
      "INFO:relative:Determined atom classes.\n",
      "INFO:relative:Generating old system exceptions dict...\n",
      "INFO:relative:Generating new system exceptions dict...\n",
      "INFO:relative:Handling constraints...\n",
      "INFO:relative:Handling virtual sites...\n",
      "INFO:relative:\t_handle_virtual_sites: numVirtualSites: 0\n",
      "INFO:relative:Adding bond force terms...\n",
      "INFO:relative:Adding angle force terms...\n",
      "INFO:relative:Adding torsion force terms...\n",
      "INFO:relative:Adding nonbonded force terms...\n",
      "INFO:relative:\t_add_nonbonded_force_terms: <openmm.openmm.NonbondedForce; proxy of <Swig Object of type 'OpenMM::NonbondedForce *' at 0x2b8698956c60> > added to hybrid system\n",
      "INFO:relative:\t_add_nonbonded_force_terms: nonbonded_method is PME or Ewald\n",
      "INFO:relative:\t_add_nonbonded_force_terms: 4 added to standard nonbonded force\n",
      "INFO:relative:\t_add_nonbonded_force_terms: 2 added to sterics_custom_nonbonded force\n",
      "INFO:relative:\t_add_nonbonded_force_terms: <openmm.openmm.CustomNonbondedForce; proxy of <Swig Object of type 'OpenMM::CustomNonbondedForce *' at 0x2b8698956a50> > added to hybrid system\n",
      "INFO:relative:Handling harmonic bonds...\n",
      "INFO:relative:\thandle_harmonic_bonds: looping through old_system to add relevant terms...\n",
      "INFO:relative:\thandle_harmonic_bonds: looping through new_system to add relevant terms...\n",
      "INFO:relative:Handling harmonic angles...\n",
      "INFO:relative:\thandle_harmonic_angles: looping through old_system to add relevant terms...\n",
      "INFO:relative:\thandle_harmonic_angles: looping through new_system to add relevant terms...\n",
      "INFO:relative:Handling torsion forces...\n",
      "INFO:relative:\thandle_periodic_torsion_forces: looping through old_system to add relevant terms...\n",
      "INFO:relative:\thandle_periodic_torsion_forces: looping through new_system to add relevant terms...\n",
      "INFO:relative:Handling nonbonded forces...\n",
      "INFO:relative:\thandle_nonbonded: looping through all particles in hybrid...\n",
      "INFO:relative:\thandle_nonbonded: Handling Interaction Groups...\n",
      "INFO:relative:\thandle_nonbonded: Handling Hybrid Exceptions...\n",
      "INFO:relative:\thandle_nonbonded: Handling Original Exceptions...\n",
      "INFO:relative:Handling unique_new/old interaction exceptions...\n",
      "INFO:relative:There are old or new system exceptions...proceeding.\n",
      "INFO:relative:Imposing virtual bonds to ensure system is imaged together.\n",
      "INFO:relative:\t\t_impose_virtual_bonds: No restraint added because sets overlap (core_atoms=[1, 4, 5, 6, 8, 10, 13, 14, 16, 18], protein_atoms=[8])\n",
      "INFO:relative:*** Generating RESTCapableHybridTopologyFactory ***\n",
      "INFO:relative:Old system forces: dict_keys(['HarmonicBondForce', 'HarmonicAngleForce', 'PeriodicTorsionForce', 'NonbondedForce', 'MonteCarloBarostat'])\n",
      "INFO:relative:New system forces: dict_keys(['HarmonicBondForce', 'HarmonicAngleForce', 'PeriodicTorsionForce', 'NonbondedForce', 'MonteCarloBarostat'])\n",
      "INFO:relative:No unknown forces.\n",
      "INFO:relative:r_cutoff is 1.0 nm\n",
      "INFO:relative:alpha_ewald is 2.7569734238004693\n",
      "INFO:relative:w_scale is 0.3\n",
      "INFO:relative:Creating hybrid system\n",
      "INFO:relative:Adding and mapping old atoms to hybrid system...\n",
      "INFO:relative:Adding and mapping new atoms to hybrid system...\n",
      "INFO:relative:Added MonteCarloBarostat.\n",
      "INFO:relative:getDefaultPeriodicBoxVectors added to hybrid: [Quantity(value=Vec3(x=2.7648, y=0.0, z=0.0), unit=nanometer), Quantity(value=Vec3(x=0.9215990612312835, y=2.6066787700707614, z=0.0), unit=nanometer), Quantity(value=Vec3(x=-0.9215990612312832, y=1.303337393606965, z=2.2574511841374156), unit=nanometer)]\n",
      "INFO:relative:Determined atom classes.\n",
      "INFO:relative:Computed hybrid positions\n",
      "INFO:relative:Created hybrid topology\n",
      "INFO:relative:Generating rest_region with query indices: [6, 7, 8, 9, 10, 11, 12, 13, 14, 15, 1551, 1552, 1553, 1554, 1555, 1556, 1557, 1558, 1559, 1560, 1561, 1562, 1563, 1564, 1565, 1566, 1567]\n",
      "INFO:relative:Rest radius: 0.3 nm\n",
      "INFO:relative:Rest region: [0, 1, 2, 3, 4, 5, 6, 7, 8, 9, 10, 11, 12, 13, 14, 15, 1551, 1552, 1553, 1554, 1555, 1556, 1557, 1558, 1559, 1560, 1561, 1562, 1563, 1564, 1565, 1566, 1567, 16, 17, 18, 19, 20, 21]\n",
      "INFO:relative:Prepped look up dict for determining if atom is solvent\n",
      "INFO:relative:Generating old system exceptions dict...\n",
      "INFO:relative:Generating new system exceptions dict...\n",
      "INFO:relative:Handling constraints...\n",
      "INFO:relative:Handling virtual sites...\n",
      "INFO:relative:\t_handle_virtual_sites: numVirtualSites: 0\n",
      "INFO:relative:Handling bonds...\n",
      "INFO:relative:Handling angles...\n",
      "INFO:relative:Handling torsions...\n",
      "INFO:relative:Handling nonbondeds (creating forces)...\n",
      "INFO:relative:Handling nonbondeds (copying nonbonded particles)...\n",
      "INFO:relative:Handling nonbondeds (copying nonbonded exceptions)...\n",
      "INFO:setup:Saving htfs as pickles\n",
      "INFO:setup:sterics expression: U_sterics; U_sterics = 4 * epsilon * x * (x - 1.0);x = (sigma / r_eff_sterics)^6;sigma = (sigma1 + sigma2) / 2; epsilon = sterics_rest_scale1 * sterics_rest_scale2 * sqrt(epsilon_combined); epsilon_combined = step(epsilon1 * epsilon2) * epsilon1 * epsilon2; r_eff_sterics = sqrt(r^2 + w_sterics^2); w_sterics = w_scale * r_cutoff * (is_unique_old * (1 - lambda_alchemical_sterics_old) + is_unique_new * (1 - lambda_alchemical_sterics_new)); is_unique_old = step(is_unique_old1 + is_unique_old2 - 0.1); is_unique_new = step(is_unique_new1 + is_unique_new2 - 0.1); w_scale = 0.3; r_cutoff = 1.0;\n",
      "INFO:setup:forces: [<openmm.openmm.MonteCarloBarostat; proxy of <Swig Object of type 'OpenMM::MonteCarloBarostat *' at 0x2b869f412d20> >, <openmm.openmm.CustomBondForce; proxy of <Swig Object of type 'OpenMM::CustomBondForce *' at 0x2b869fd9f120> >, <openmm.openmm.CustomAngleForce; proxy of <Swig Object of type 'OpenMM::CustomAngleForce *' at 0x2b869fd9ffc0> >, <openmm.openmm.CustomTorsionForce; proxy of <Swig Object of type 'OpenMM::CustomTorsionForce *' at 0x2b869fd9ff90> >, <openmm.openmm.CustomNonbondedForce; proxy of <Swig Object of type 'OpenMM::CustomNonbondedForce *' at 0x2b869fd9fea0> >, <openmm.openmm.CustomNonbondedForce; proxy of <Swig Object of type 'OpenMM::CustomNonbondedForce *' at 0x2b869fd9f300> >, <openmm.openmm.CustomBondForce; proxy of <Swig Object of type 'OpenMM::CustomBondForce *' at 0x2b869fd9f180> >, <openmm.openmm.NonbondedForce; proxy of <Swig Object of type 'OpenMM::NonbondedForce *' at 0x2b869fd9fe70> >, <openmm.openmm.NonbondedForce; proxy of <Swig Object of type 'OpenMM::NonbondedForce *' at 0x2b869fd9fd80> >]\n",
      "INFO:setup:number of particles in apo: 1568\n",
      "INFO:setup:number of particles in apo rest region: 39\n"
     ]
    },
    {
     "name": "stdout",
     "output_type": "stream",
     "text": [
      "apo rest region atoms:\n",
      "ACE1-H1\n",
      "ACE1-CH3\n",
      "ACE1-H2\n",
      "ACE1-H3\n",
      "ACE1-C\n",
      "ACE1-O\n",
      "ALA2-N\n",
      "ALA2-H\n",
      "ALA2-CA\n",
      "ALA2-HA\n",
      "ALA2-CB\n",
      "ALA2-HB2\n",
      "ALA2-HB3\n",
      "ALA2-C\n",
      "ALA2-O\n",
      "ALA2-HB1\n",
      "ALA2-HB2\n",
      "ALA2-HB3\n",
      "ALA2-CG\n",
      "ALA2-HG2\n",
      "ALA2-HG3\n",
      "ALA2-CD\n",
      "ALA2-HD2\n",
      "ALA2-HD3\n",
      "ALA2-NE\n",
      "ALA2-HE\n",
      "ALA2-CZ\n",
      "ALA2-NH1\n",
      "ALA2-HH11\n",
      "ALA2-HH12\n",
      "ALA2-NH2\n",
      "ALA2-HH21\n",
      "ALA2-HH22\n",
      "NME3-N\n",
      "NME3-H\n",
      "NME3-C\n",
      "NME3-H1\n",
      "NME3-H2\n",
      "NME3-H3\n"
     ]
    }
   ],
   "source": [
    " outdir = \"/data/chodera/zhangi/perses_benchmark/repex/38/20/\"\n",
    "residue = '2'\n",
    "mutant = 'ARG'\n",
    "\n",
    "apo_file = \"/data/chodera/zhangi/perses_benchmark/repex/38/20/equil/apo_equilibrated.cif\" \n",
    "\n",
    "solvent_delivery = generate_htf(outdir, residue, mutant, apo_file, use_counterion=False)"
   ]
  },
  {
   "cell_type": "code",
   "execution_count": 9,
   "id": "01282565",
   "metadata": {
    "scrolled": true
   },
   "outputs": [
    {
     "name": "stdout",
     "output_type": "stream",
     "text": [
      "(Vec3(x=2.8033, y=0.0, z=0.0), Vec3(x=0.9344323814922082, y=2.642976922793463, z=0.0), Vec3(x=-0.9344323814922079, y=1.3214864422375598, z=2.2888863225160656)) nm\n"
     ]
    },
    {
     "name": "stderr",
     "output_type": "stream",
     "text": [
      "DEBUG:openmmforcefields.system_generators:Trying GAFFTemplateGenerator to load gaff-2.11\n",
      "INFO:proposal_generator:\tConducting polymer point mutation proposal...\n",
      "INFO:proposal_generator:local_atom_map: {6: 6, 7: 7, 8: 8, 9: 9, 10: 10, 13: 13, 14: 14}\n",
      "INFO:proposal_generator:the mapped atom names are: [('N', 'N'), ('H', 'H'), ('CA', 'CA'), ('HA', 'HA'), ('CB', 'CB'), ('C', 'C'), ('O', 'O')]\n"
     ]
    },
    {
     "name": "stdout",
     "output_type": "stream",
     "text": [
      "[Quantity(value=Vec3(x=2.8033, y=0.0, z=0.0), unit=nanometer), Quantity(value=Vec3(x=0.9344323814922082, y=2.642976922793463, z=0.0), unit=nanometer), Quantity(value=Vec3(x=-0.9344323814922079, y=1.3214864422375598, z=2.2888863225160656), unit=nanometer)]\n",
      "True\n"
     ]
    },
    {
     "name": "stderr",
     "output_type": "stream",
     "text": [
      "INFO:geometry:propose: performing forward proposal\n",
      "INFO:geometry:propose: unique new atoms detected; proceeding to _logp_propose...\n",
      "INFO:geometry:Conducting forward proposal...\n",
      "INFO:geometry:Computing proposal order with NetworkX...\n",
      "INFO:geometry:number of atoms to be placed: 3\n",
      "INFO:geometry:Atom index proposal order is [11, 15, 12]\n",
      "INFO:geometry:omitted_bonds: []\n",
      "INFO:geometry:direction of proposal is forward; creating atoms_with_positions and new positions from old system/topology...\n"
     ]
    },
    {
     "name": "stdout",
     "output_type": "stream",
     "text": [
      "[Quantity(value=Vec3(x=2.8033, y=0.0, z=0.0), unit=nanometer), Quantity(value=Vec3(x=0.9344323814922082, y=2.642976922793463, z=0.0), unit=nanometer), Quantity(value=Vec3(x=-0.9344323814922079, y=1.3214864422375598, z=2.2888863225160656), unit=nanometer)]\n",
      "True\n"
     ]
    },
    {
     "name": "stderr",
     "output_type": "stream",
     "text": [
      "INFO:geometry:creating growth system...\n",
      "INFO:geometry:\tcreating bond force...\n",
      "INFO:geometry:\tthere are 9 bonds in reference force.\n",
      "INFO:geometry:\tcreating angle force...\n",
      "INFO:geometry:\tthere are 36 angles in reference force.\n",
      "INFO:geometry:\tcreating torsion force...\n",
      "INFO:geometry:\tcreating extra torsions force...\n",
      "INFO:geometry:\tthere are 42 torsions in reference force.\n",
      "INFO:geometry:\tcreating nonbonded force...\n",
      "INFO:geometry:\t\tgrabbing reference nonbonded method, cutoff, switching function, switching distance...\n",
      "INFO:geometry:\t\tcreating nonbonded exception force (i.e. custom bond for 1,4s)...\n",
      "INFO:geometry:\t\tlooping through exceptions calculating growth indices, and adding appropriate interactions to custom bond force.\n",
      "INFO:geometry:\t\tthere are 1691 in the reference Nonbonded force\n",
      "INFO:geometry:Neglected angle terms : []\n",
      "INFO:geometry:omitted_growth_terms: {'bonds': [], 'angles': [], 'torsions': [], '1,4s': []}\n",
      "INFO:geometry:extra torsions: {0: (6, 8, 10, 15, [1, Quantity(value=2.105358864604291, unit=radian), Quantity(value=1200.0, unit=kilocalorie/mole), 2]), 1: (6, 8, 10, 11, [1, Quantity(value=-2.0823006129211796, unit=radian), Quantity(value=1200.0, unit=kilocalorie/mole), 1]), 2: (6, 8, 10, 12, [1, Quantity(value=0.018582237407944735, unit=radian), Quantity(value=1200.0, unit=kilocalorie/mole), 3]), 3: (13, 8, 10, 15, [1, Quantity(value=-0.036945135932107576, unit=radian), Quantity(value=1200.0, unit=kilocalorie/mole), 2]), 4: (13, 8, 10, 11, [1, Quantity(value=2.0585806937220097, unit=radian), Quantity(value=1200.0, unit=kilocalorie/mole), 1]), 5: (13, 8, 10, 12, [1, Quantity(value=-2.1237217631284597, unit=radian), Quantity(value=1200.0, unit=kilocalorie/mole), 3]), 6: (9, 8, 10, 15, [1, Quantity(value=-2.119603470065817, unit=radian), Quantity(value=1200.0, unit=kilocalorie/mole), 2]), 7: (9, 8, 10, 11, [1, Quantity(value=-0.024077640411697132, unit=radian), Quantity(value=1200.0, unit=kilocalorie/mole), 1]), 8: (9, 8, 10, 12, [1, Quantity(value=2.0768052099174152, unit=radian), Quantity(value=1200.0, unit=kilocalorie/mole), 3])}\n",
      "INFO:geometry:neglected angle terms include []\n",
      "INFO:geometry:log probability choice of torsions and atom order: -5.0875963352323845\n",
      "INFO:geometry:creating platform, integrators, and contexts; setting growth parameter\n"
     ]
    },
    {
     "name": "stdout",
     "output_type": "stream",
     "text": [
      "conducting subsequent work with the following platform: CUDA\n"
     ]
    },
    {
     "name": "stderr",
     "output_type": "stream",
     "text": [
      "INFO:geometry:setting atoms_with_positions context new positions\n"
     ]
    },
    {
     "name": "stdout",
     "output_type": "stream",
     "text": [
      "conducting subsequent work with the following platform: CUDA\n"
     ]
    },
    {
     "name": "stderr",
     "output_type": "stream",
     "text": [
      "INFO:geometry:There are 3 new atoms\n",
      "INFO:geometry:\treduced angle potential = 0.19185348141204786.\n",
      "INFO:geometry:\treduced angle potential = 0.2459646035064605.\n",
      "INFO:geometry:\treduced angle potential = 0.23725214949858953.\n",
      "INFO:geometry:\tbeginning construction of no_nonbonded final system...\n",
      "INFO:geometry:\tinitial no-nonbonded final system forces ['HarmonicBondForce', 'HarmonicAngleForce', 'PeriodicTorsionForce', 'NonbondedForce', 'MonteCarloBarostat']\n",
      "INFO:geometry:\tfinal no-nonbonded final system forces dict_keys(['HarmonicBondForce', 'HarmonicAngleForce', 'PeriodicTorsionForce', 'NonbondedForce'])\n",
      "INFO:geometry:\tthere are 9 bond forces in the no-nonbonded final system\n",
      "INFO:geometry:\tthere are 36 angle forces in the no-nonbonded final system\n",
      "INFO:geometry:\tthere are 42 torsion forces in the no-nonbonded final system\n",
      "INFO:geometry:forward final system defined with 0 neglected angles.\n"
     ]
    },
    {
     "name": "stdout",
     "output_type": "stream",
     "text": [
      "conducting subsequent work with the following platform: CUDA\n",
      "conducting subsequent work with the following platform: CUDA\n"
     ]
    },
    {
     "name": "stderr",
     "output_type": "stream",
     "text": [
      "INFO:geometry:total reduced potential before atom placement: 41.56078879815097\n"
     ]
    },
    {
     "name": "stdout",
     "output_type": "stream",
     "text": [
      "conducting subsequent work with the following platform: CUDA\n",
      "conducting subsequent work with the following platform: CUDA\n",
      "conducting subsequent work with the following platform: CUDA\n"
     ]
    },
    {
     "name": "stderr",
     "output_type": "stream",
     "text": [
      "INFO:geometry:total reduced energy added from growth system: 8.725456818287556\n",
      "INFO:geometry:final reduced energy 50.28624523114979\n",
      "INFO:geometry:sum of energies: 50.28624561643853\n",
      "INFO:geometry:magnitude of difference in the energies: 3.8528873780308004e-07\n",
      "INFO:geometry:Final logp_proposal: 20.423521758588485\n",
      "INFO:geometry:logp_reverse: performing reverse proposal\n",
      "INFO:geometry:logp_reverse: unique new atoms detected; proceeding to _logp_propose...\n",
      "INFO:geometry:Conducting forward proposal...\n",
      "INFO:geometry:Computing proposal order with NetworkX...\n"
     ]
    },
    {
     "name": "stdout",
     "output_type": "stream",
     "text": [
      "added energy components: [('CustomBondForce', 0.0), ('CustomAngleForce', 0.9746158501126426), ('CustomTorsionForce', 0.01879363521282624), ('CustomBondForce', 7.732047332962089)]\n"
     ]
    },
    {
     "name": "stderr",
     "output_type": "stream",
     "text": [
      "INFO:geometry:number of atoms to be placed: 5\n",
      "INFO:geometry:Atom index proposal order is [15, 16, 17, 12, 11]\n",
      "INFO:geometry:omitted_bonds: []\n",
      "INFO:geometry:direction of proposal is reverse; creating atoms_with_positions from old system/topology\n",
      "INFO:geometry:creating growth system...\n",
      "INFO:geometry:\tcreating bond force...\n",
      "INFO:geometry:\tthere are 12 bonds in reference force.\n",
      "INFO:geometry:\tcreating angle force...\n",
      "INFO:geometry:\tthere are 39 angles in reference force.\n",
      "INFO:geometry:\tcreating torsion force...\n",
      "INFO:geometry:\tcreating extra torsions force...\n",
      "INFO:geometry:\tthere are 53 torsions in reference force.\n",
      "INFO:geometry:\tcreating nonbonded force...\n",
      "INFO:geometry:\t\tgrabbing reference nonbonded method, cutoff, switching function, switching distance...\n",
      "INFO:geometry:\t\tcreating nonbonded exception force (i.e. custom bond for 1,4s)...\n",
      "INFO:geometry:\t\tlooping through exceptions calculating growth indices, and adding appropriate interactions to custom bond force.\n",
      "INFO:geometry:\t\tthere are 1702 in the reference Nonbonded force\n",
      "INFO:geometry:Neglected angle terms : []\n",
      "INFO:geometry:omitted_growth_terms: {'bonds': [], 'angles': [], 'torsions': [], '1,4s': []}\n",
      "INFO:geometry:extra torsions: {}\n",
      "INFO:geometry:neglected angle terms include []\n",
      "INFO:geometry:log probability choice of torsions and atom order: -5.703782474656201\n",
      "INFO:geometry:creating platform, integrators, and contexts; setting growth parameter\n"
     ]
    },
    {
     "name": "stdout",
     "output_type": "stream",
     "text": [
      "conducting subsequent work with the following platform: CUDA\n"
     ]
    },
    {
     "name": "stderr",
     "output_type": "stream",
     "text": [
      "INFO:geometry:setting atoms_with_positions context old positions\n"
     ]
    },
    {
     "name": "stdout",
     "output_type": "stream",
     "text": [
      "conducting subsequent work with the following platform: CUDA\n"
     ]
    },
    {
     "name": "stderr",
     "output_type": "stream",
     "text": [
      "INFO:geometry:There are 5 new atoms\n",
      "INFO:geometry:\treduced angle potential = 0.20577844474540413.\n",
      "INFO:geometry:\treduced angle potential = 0.057926594809241755.\n",
      "INFO:geometry:\treduced angle potential = 0.9894200779520561.\n",
      "INFO:geometry:\treduced angle potential = 0.29168850043924777.\n",
      "INFO:geometry:\treduced angle potential = 0.3504430682289662.\n",
      "INFO:geometry:\tbeginning construction of no_nonbonded final system...\n",
      "INFO:geometry:\tinitial no-nonbonded final system forces ['HarmonicBondForce', 'HarmonicAngleForce', 'PeriodicTorsionForce', 'NonbondedForce', 'MonteCarloBarostat']\n",
      "INFO:geometry:\tfinal no-nonbonded final system forces dict_keys(['HarmonicBondForce', 'HarmonicAngleForce', 'PeriodicTorsionForce', 'NonbondedForce'])\n",
      "INFO:geometry:\tthere are 12 bond forces in the no-nonbonded final system\n",
      "INFO:geometry:\tthere are 39 angle forces in the no-nonbonded final system\n",
      "INFO:geometry:\tthere are 53 torsion forces in the no-nonbonded final system\n",
      "INFO:geometry:reverse final system defined with 0 neglected angles.\n"
     ]
    },
    {
     "name": "stdout",
     "output_type": "stream",
     "text": [
      "conducting subsequent work with the following platform: CUDA\n",
      "conducting subsequent work with the following platform: CUDA\n"
     ]
    },
    {
     "name": "stderr",
     "output_type": "stream",
     "text": [
      "INFO:geometry:total reduced potential before atom placement: 41.56078879815097\n"
     ]
    },
    {
     "name": "stdout",
     "output_type": "stream",
     "text": [
      "conducting subsequent work with the following platform: CUDA\n",
      "conducting subsequent work with the following platform: CUDA\n",
      "conducting subsequent work with the following platform: CUDA\n"
     ]
    },
    {
     "name": "stderr",
     "output_type": "stream",
     "text": [
      "INFO:geometry:total reduced energy added from growth system: 41.41758474592582\n",
      "INFO:geometry:final reduced energy 82.97836882897181\n",
      "INFO:geometry:sum of energies: 82.97837354407679\n",
      "INFO:geometry:magnitude of difference in the energies: 4.715104985564267e-06\n",
      "INFO:geometry:Final logp_proposal: -0.13703205683404285\n",
      "INFO:setup:charge diff: -1\n"
     ]
    },
    {
     "name": "stdout",
     "output_type": "stream",
     "text": [
      "added energy components: [('CustomBondForce', 0.37716629845405375), ('CustomAngleForce', 4.7222212616231705), ('CustomTorsionForce', 11.049402855115531), ('CustomBondForce', 25.26879433073308)]\n"
     ]
    },
    {
     "name": "stderr",
     "output_type": "stream",
     "text": [
      "INFO:setup:new water indices to ionize [748 749 750]\n",
      "INFO:relative:*** Generating vanilla HybridTopologyFactory ***\n",
      "INFO:relative:Beginning nonbonded method, total particle, barostat, and exceptions retrieval...\n",
      "INFO:relative:Flattening exceptions of unique new/old at lambda = 0/1\n",
      "INFO:relative:Old system forces: dict_keys(['HarmonicBondForce', 'HarmonicAngleForce', 'PeriodicTorsionForce', 'NonbondedForce', 'MonteCarloBarostat'])\n",
      "INFO:relative:New system forces: dict_keys(['HarmonicBondForce', 'HarmonicAngleForce', 'PeriodicTorsionForce', 'NonbondedForce', 'MonteCarloBarostat'])\n",
      "INFO:relative:No unknown forces.\n",
      "INFO:relative:Nonbonded method to be used (i.e. from old system): 4\n",
      "INFO:relative:Adding and mapping old atoms to hybrid system...\n",
      "INFO:relative:Adding and mapping new atoms to hybrid system...\n",
      "INFO:relative:Added MonteCarloBarostat.\n",
      "INFO:relative:getDefaultPeriodicBoxVectors added to hybrid: [Quantity(value=Vec3(x=2.8033, y=0.0, z=0.0), unit=nanometer), Quantity(value=Vec3(x=0.9344323814922082, y=2.642976922793463, z=0.0), unit=nanometer), Quantity(value=Vec3(x=-0.9344323814922079, y=1.3214864422375598, z=2.2888863225160656), unit=nanometer)]\n",
      "INFO:relative:Determined atom classes.\n",
      "INFO:relative:Generating old system exceptions dict...\n",
      "INFO:relative:Generating new system exceptions dict...\n",
      "INFO:relative:Handling constraints...\n",
      "INFO:relative:Handling virtual sites...\n",
      "INFO:relative:\t_handle_virtual_sites: numVirtualSites: 0\n",
      "INFO:relative:Adding bond force terms...\n",
      "INFO:relative:Adding angle force terms...\n",
      "INFO:relative:Adding torsion force terms...\n",
      "INFO:relative:Adding nonbonded force terms...\n",
      "INFO:relative:\t_add_nonbonded_force_terms: <openmm.openmm.NonbondedForce; proxy of <Swig Object of type 'OpenMM::NonbondedForce *' at 0x2b6244625b40> > added to hybrid system\n",
      "INFO:relative:\t_add_nonbonded_force_terms: nonbonded_method is PME or Ewald\n",
      "INFO:relative:\t_add_nonbonded_force_terms: 4 added to standard nonbonded force\n",
      "INFO:relative:\t_add_nonbonded_force_terms: 2 added to sterics_custom_nonbonded force\n",
      "INFO:relative:\t_add_nonbonded_force_terms: <openmm.openmm.CustomNonbondedForce; proxy of <Swig Object of type 'OpenMM::CustomNonbondedForce *' at 0x2b62446259f0> > added to hybrid system\n",
      "INFO:relative:Handling harmonic bonds...\n",
      "INFO:relative:\thandle_harmonic_bonds: looping through old_system to add relevant terms...\n",
      "INFO:relative:\thandle_harmonic_bonds: looping through new_system to add relevant terms...\n",
      "INFO:relative:Handling harmonic angles...\n",
      "INFO:relative:\thandle_harmonic_angles: looping through old_system to add relevant terms...\n",
      "INFO:relative:\thandle_harmonic_angles: looping through new_system to add relevant terms...\n",
      "INFO:relative:Handling torsion forces...\n",
      "INFO:relative:\thandle_periodic_torsion_forces: looping through old_system to add relevant terms...\n",
      "INFO:relative:\thandle_periodic_torsion_forces: looping through new_system to add relevant terms...\n",
      "INFO:relative:Handling nonbonded forces...\n",
      "INFO:relative:\thandle_nonbonded: looping through all particles in hybrid...\n",
      "INFO:relative:\thandle_nonbonded: Handling Interaction Groups...\n",
      "INFO:relative:\thandle_nonbonded: Handling Hybrid Exceptions...\n",
      "INFO:relative:\thandle_nonbonded: Handling Original Exceptions...\n",
      "INFO:relative:Handling unique_new/old interaction exceptions...\n",
      "INFO:relative:There are old or new system exceptions...proceeding.\n",
      "INFO:relative:Imposing virtual bonds to ensure system is imaged together.\n",
      "INFO:relative:\t\t_impose_virtual_bonds: No restraint added because sets overlap (core_atoms=[1, 4, 5, 6, 8, 10, 13, 14, 750, 18, 20], protein_atoms=[8])\n",
      "INFO:relative:*** Generating RESTCapableHybridTopologyFactory ***\n",
      "INFO:relative:Old system forces: dict_keys(['HarmonicBondForce', 'HarmonicAngleForce', 'PeriodicTorsionForce', 'NonbondedForce', 'MonteCarloBarostat'])\n",
      "INFO:relative:New system forces: dict_keys(['HarmonicBondForce', 'HarmonicAngleForce', 'PeriodicTorsionForce', 'NonbondedForce', 'MonteCarloBarostat'])\n",
      "INFO:relative:No unknown forces.\n",
      "INFO:relative:r_cutoff is 1.0 nm\n",
      "INFO:relative:alpha_ewald is 2.7569734238004693\n",
      "INFO:relative:w_scale is 0.3\n",
      "INFO:relative:Creating hybrid system\n",
      "INFO:relative:Adding and mapping old atoms to hybrid system...\n",
      "INFO:relative:Adding and mapping new atoms to hybrid system...\n",
      "INFO:relative:Added MonteCarloBarostat.\n",
      "INFO:relative:getDefaultPeriodicBoxVectors added to hybrid: [Quantity(value=Vec3(x=2.8033, y=0.0, z=0.0), unit=nanometer), Quantity(value=Vec3(x=0.9344323814922082, y=2.642976922793463, z=0.0), unit=nanometer), Quantity(value=Vec3(x=-0.9344323814922079, y=1.3214864422375598, z=2.2888863225160656), unit=nanometer)]\n",
      "INFO:relative:Determined atom classes.\n",
      "INFO:relative:Computed hybrid positions\n",
      "INFO:relative:Created hybrid topology\n",
      "INFO:relative:Generating rest_region with query indices: [6, 7, 8, 9, 10, 11, 12, 13, 14, 15, 16, 17, 1620, 1621, 1622]\n",
      "INFO:relative:Rest radius: 0.3 nm\n",
      "INFO:relative:Rest region: [0, 1, 2, 3, 4, 5, 6, 7, 8, 9, 10, 11, 12, 13, 14, 15, 16, 17, 1620, 1621, 1622, 18, 19, 20, 21, 22, 23]\n",
      "INFO:relative:Prepped look up dict for determining if atom is solvent\n",
      "INFO:relative:Generating old system exceptions dict...\n",
      "INFO:relative:Generating new system exceptions dict...\n",
      "INFO:relative:Handling constraints...\n",
      "INFO:relative:Handling virtual sites...\n",
      "INFO:relative:\t_handle_virtual_sites: numVirtualSites: 0\n",
      "INFO:relative:Handling bonds...\n",
      "INFO:relative:Handling angles...\n",
      "INFO:relative:Handling torsions...\n",
      "INFO:relative:Handling nonbondeds (creating forces)...\n",
      "INFO:relative:Handling nonbondeds (copying nonbonded particles)...\n",
      "INFO:relative:Handling nonbondeds (copying nonbonded exceptions)...\n",
      "INFO:setup:Saving htfs as pickles\n",
      "INFO:setup:sterics expression: U_sterics; U_sterics = 4 * epsilon * x * (x - 1.0);x = (sigma / r_eff_sterics)^6;sigma = (sigma1 + sigma2) / 2; epsilon = sterics_rest_scale1 * sterics_rest_scale2 * sqrt(epsilon_combined); epsilon_combined = step(epsilon1 * epsilon2) * epsilon1 * epsilon2; r_eff_sterics = sqrt(r^2 + w_sterics^2); w_sterics = w_scale * r_cutoff * (is_unique_old * (1 - lambda_alchemical_sterics_old) + is_unique_new * (1 - lambda_alchemical_sterics_new)); is_unique_old = step(is_unique_old1 + is_unique_old2 - 0.1); is_unique_new = step(is_unique_new1 + is_unique_new2 - 0.1); w_scale = 0.3; r_cutoff = 1.0;\n",
      "INFO:setup:forces: [<openmm.openmm.MonteCarloBarostat; proxy of <Swig Object of type 'OpenMM::MonteCarloBarostat *' at 0x2b62449425d0> >, <openmm.openmm.CustomBondForce; proxy of <Swig Object of type 'OpenMM::CustomBondForce *' at 0x2b624493b2d0> >, <openmm.openmm.CustomAngleForce; proxy of <Swig Object of type 'OpenMM::CustomAngleForce *' at 0x2b62449f2f60> >, <openmm.openmm.CustomTorsionForce; proxy of <Swig Object of type 'OpenMM::CustomTorsionForce *' at 0x2b62449f2f30> >, <openmm.openmm.CustomNonbondedForce; proxy of <Swig Object of type 'OpenMM::CustomNonbondedForce *' at 0x2b62449f2ed0> >, <openmm.openmm.CustomNonbondedForce; proxy of <Swig Object of type 'OpenMM::CustomNonbondedForce *' at 0x2b62449f2e10> >, <openmm.openmm.CustomBondForce; proxy of <Swig Object of type 'OpenMM::CustomBondForce *' at 0x2b62449f2db0> >, <openmm.openmm.NonbondedForce; proxy of <Swig Object of type 'OpenMM::NonbondedForce *' at 0x2b62449f2cf0> >, <openmm.openmm.NonbondedForce; proxy of <Swig Object of type 'OpenMM::NonbondedForce *' at 0x2b62449f2c90> >]\n",
      "INFO:setup:number of particles in apo: 1623\n",
      "INFO:setup:number of particles in apo rest region: 27\n"
     ]
    },
    {
     "name": "stdout",
     "output_type": "stream",
     "text": [
      "apo rest region atoms:\n",
      "ACE1-H1\n",
      "ACE1-CH3\n",
      "ACE1-H2\n",
      "ACE1-H3\n",
      "ACE1-C\n",
      "ACE1-O\n",
      "ASP2-N\n",
      "ASP2-H\n",
      "ASP2-CA\n",
      "ASP2-HA\n",
      "ASP2-CB\n",
      "ASP2-HB2\n",
      "ASP2-HB3\n",
      "ASP2-C\n",
      "ASP2-O\n",
      "ASP2-CG\n",
      "ASP2-OD1\n",
      "ASP2-OD2\n",
      "ASP2-HB2\n",
      "ASP2-HB3\n",
      "ASP2-HB1\n",
      "NME3-N\n",
      "NME3-H\n",
      "NME3-C\n",
      "NME3-H1\n",
      "NME3-H2\n",
      "NME3-H3\n"
     ]
    }
   ],
   "source": [
    "outdir = \"/data/chodera/zhangi/perses_benchmark/repex/38/25/\"\n",
    "residue = '2'\n",
    "mutant = 'ALA'\n",
    "\n",
    "apo_file = \"/data/chodera/zhangi/perses_benchmark/repex/38/25/equil/apo_equilibrated.cif\" \n",
    "\n",
    "solvent_delivery = generate_htf(outdir, residue, mutant, apo_file)"
   ]
  },
  {
   "cell_type": "code",
   "execution_count": 10,
   "id": "4cc8f9e9",
   "metadata": {
    "scrolled": true
   },
   "outputs": [
    {
     "name": "stderr",
     "output_type": "stream",
     "text": [
      "DEBUG:openmmforcefields.system_generators:Trying GAFFTemplateGenerator to load gaff-2.11\n",
      "INFO:proposal_generator:\tConducting polymer point mutation proposal...\n"
     ]
    },
    {
     "name": "stdout",
     "output_type": "stream",
     "text": [
      "(Vec3(x=2.7648, y=0.0, z=0.0), Vec3(x=0.9215990612312835, y=2.6066787700707614, z=0.0), Vec3(x=-0.9215990612312832, y=1.303337393606965, z=2.2574511841374156)) nm\n",
      "[Quantity(value=Vec3(x=2.7648, y=0.0, z=0.0), unit=nanometer), Quantity(value=Vec3(x=0.9215990612312835, y=2.6066787700707614, z=0.0), unit=nanometer), Quantity(value=Vec3(x=-0.9215990612312832, y=1.303337393606965, z=2.2574511841374156), unit=nanometer)]\n",
      "True\n"
     ]
    },
    {
     "name": "stderr",
     "output_type": "stream",
     "text": [
      "INFO:proposal_generator:local_atom_map: {6: 6, 7: 7, 8: 8, 9: 9, 10: 10, 13: 13, 14: 14}\n",
      "INFO:proposal_generator:the mapped atom names are: [('N', 'N'), ('H', 'H'), ('CA', 'CA'), ('HA', 'HA'), ('CB', 'CB'), ('C', 'C'), ('O', 'O')]\n",
      "INFO:geometry:propose: performing forward proposal\n",
      "INFO:geometry:propose: unique new atoms detected; proceeding to _logp_propose...\n",
      "INFO:geometry:Conducting forward proposal...\n",
      "INFO:geometry:Computing proposal order with NetworkX...\n",
      "INFO:geometry:number of atoms to be placed: 5\n",
      "INFO:geometry:Atom index proposal order is [15, 17, 16, 11, 12]\n",
      "INFO:geometry:omitted_bonds: []\n",
      "INFO:geometry:direction of proposal is forward; creating atoms_with_positions and new positions from old system/topology...\n",
      "INFO:geometry:creating growth system...\n",
      "INFO:geometry:\tcreating bond force...\n",
      "INFO:geometry:\tthere are 12 bonds in reference force.\n",
      "INFO:geometry:\tcreating angle force...\n",
      "INFO:geometry:\tthere are 39 angles in reference force.\n",
      "INFO:geometry:\tcreating torsion force...\n",
      "INFO:geometry:\tcreating extra torsions force...\n",
      "INFO:geometry:\tthere are 53 torsions in reference force.\n",
      "INFO:geometry:\tcreating nonbonded force...\n",
      "INFO:geometry:\t\tgrabbing reference nonbonded method, cutoff, switching function, switching distance...\n",
      "INFO:geometry:\t\tcreating nonbonded exception force (i.e. custom bond for 1,4s)...\n",
      "INFO:geometry:\t\tlooping through exceptions calculating growth indices, and adding appropriate interactions to custom bond force.\n",
      "INFO:geometry:\t\tthere are 1636 in the reference Nonbonded force\n"
     ]
    },
    {
     "name": "stdout",
     "output_type": "stream",
     "text": [
      "[Quantity(value=Vec3(x=2.7648, y=0.0, z=0.0), unit=nanometer), Quantity(value=Vec3(x=0.9215990612312835, y=2.6066787700707614, z=0.0), unit=nanometer), Quantity(value=Vec3(x=-0.9215990612312832, y=1.303337393606965, z=2.2574511841374156), unit=nanometer)]\n",
      "True\n"
     ]
    },
    {
     "name": "stderr",
     "output_type": "stream",
     "text": [
      "INFO:geometry:Neglected angle terms : []\n",
      "INFO:geometry:omitted_growth_terms: {'bonds': [], 'angles': [], 'torsions': [], '1,4s': []}\n",
      "INFO:geometry:extra torsions: {}\n",
      "INFO:geometry:neglected angle terms include []\n",
      "INFO:geometry:log probability choice of torsions and atom order: -5.703782474656201\n",
      "INFO:geometry:creating platform, integrators, and contexts; setting growth parameter\n"
     ]
    },
    {
     "name": "stdout",
     "output_type": "stream",
     "text": [
      "conducting subsequent work with the following platform: CUDA\n"
     ]
    },
    {
     "name": "stderr",
     "output_type": "stream",
     "text": [
      "INFO:geometry:setting atoms_with_positions context new positions\n"
     ]
    },
    {
     "name": "stdout",
     "output_type": "stream",
     "text": [
      "conducting subsequent work with the following platform: CUDA\n"
     ]
    },
    {
     "name": "stderr",
     "output_type": "stream",
     "text": [
      "INFO:geometry:There are 5 new atoms\n",
      "INFO:geometry:\treduced angle potential = 0.5438909426900463.\n",
      "INFO:geometry:\treduced angle potential = 0.32984615581456.\n",
      "INFO:geometry:\treduced angle potential = 0.35796292392488405.\n",
      "INFO:geometry:\treduced angle potential = 0.1482915996160157.\n",
      "INFO:geometry:\treduced angle potential = 0.27302459693288395.\n",
      "INFO:geometry:\tbeginning construction of no_nonbonded final system...\n",
      "INFO:geometry:\tinitial no-nonbonded final system forces ['HarmonicBondForce', 'HarmonicAngleForce', 'PeriodicTorsionForce', 'NonbondedForce', 'MonteCarloBarostat']\n",
      "INFO:geometry:\tfinal no-nonbonded final system forces dict_keys(['HarmonicBondForce', 'HarmonicAngleForce', 'PeriodicTorsionForce', 'NonbondedForce'])\n",
      "INFO:geometry:\tthere are 12 bond forces in the no-nonbonded final system\n",
      "INFO:geometry:\tthere are 39 angle forces in the no-nonbonded final system\n",
      "INFO:geometry:\tthere are 53 torsion forces in the no-nonbonded final system\n",
      "INFO:geometry:forward final system defined with 0 neglected angles.\n"
     ]
    },
    {
     "name": "stdout",
     "output_type": "stream",
     "text": [
      "conducting subsequent work with the following platform: CUDA\n",
      "conducting subsequent work with the following platform: CUDA\n"
     ]
    },
    {
     "name": "stderr",
     "output_type": "stream",
     "text": [
      "INFO:geometry:total reduced potential before atom placement: 31.360407235469566\n"
     ]
    },
    {
     "name": "stdout",
     "output_type": "stream",
     "text": [
      "conducting subsequent work with the following platform: CUDA\n",
      "conducting subsequent work with the following platform: CUDA\n",
      "conducting subsequent work with the following platform: CUDA\n"
     ]
    },
    {
     "name": "stderr",
     "output_type": "stream",
     "text": [
      "INFO:geometry:total reduced energy added from growth system: 2.7200337540229205\n",
      "INFO:geometry:final reduced energy 34.08043813217109\n",
      "INFO:geometry:sum of energies: 34.08044098949249\n",
      "INFO:geometry:magnitude of difference in the energies: 2.8573213972649114e-06\n",
      "INFO:geometry:Final logp_proposal: 39.316526388371\n"
     ]
    },
    {
     "name": "stdout",
     "output_type": "stream",
     "text": [
      "added energy components: [('CustomBondForce', 0.6181622290905296), ('CustomAngleForce', 5.046828040965872), ('CustomTorsionForce', 2.961904693510791), ('CustomBondForce', -5.906861209544273)]\n"
     ]
    },
    {
     "name": "stderr",
     "output_type": "stream",
     "text": [
      "INFO:geometry:logp_reverse: performing reverse proposal\n",
      "INFO:geometry:logp_reverse: unique new atoms detected; proceeding to _logp_propose...\n",
      "INFO:geometry:Conducting forward proposal...\n",
      "INFO:geometry:Computing proposal order with NetworkX...\n",
      "INFO:geometry:number of atoms to be placed: 3\n",
      "INFO:geometry:Atom index proposal order is [11, 12, 15]\n",
      "INFO:geometry:omitted_bonds: []\n",
      "INFO:geometry:direction of proposal is reverse; creating atoms_with_positions from old system/topology\n",
      "INFO:geometry:creating growth system...\n",
      "INFO:geometry:\tcreating bond force...\n",
      "INFO:geometry:\tthere are 9 bonds in reference force.\n",
      "INFO:geometry:\tcreating angle force...\n",
      "INFO:geometry:\tthere are 36 angles in reference force.\n",
      "INFO:geometry:\tcreating torsion force...\n",
      "INFO:geometry:\tcreating extra torsions force...\n",
      "INFO:geometry:\tthere are 42 torsions in reference force.\n",
      "INFO:geometry:\tcreating nonbonded force...\n",
      "INFO:geometry:\t\tgrabbing reference nonbonded method, cutoff, switching function, switching distance...\n",
      "INFO:geometry:\t\tcreating nonbonded exception force (i.e. custom bond for 1,4s)...\n",
      "INFO:geometry:\t\tlooping through exceptions calculating growth indices, and adding appropriate interactions to custom bond force.\n",
      "INFO:geometry:\t\tthere are 1625 in the reference Nonbonded force\n",
      "INFO:geometry:Neglected angle terms : []\n",
      "INFO:geometry:omitted_growth_terms: {'bonds': [], 'angles': [], 'torsions': [], '1,4s': []}\n",
      "INFO:geometry:extra torsions: {0: (6, 8, 10, 15, [1, Quantity(value=2.105358864604291, unit=radian), Quantity(value=1200.0, unit=kilocalorie/mole), 3]), 1: (6, 8, 10, 11, [1, Quantity(value=-2.0823006129211796, unit=radian), Quantity(value=1200.0, unit=kilocalorie/mole), 1]), 2: (6, 8, 10, 12, [1, Quantity(value=0.018582237407944735, unit=radian), Quantity(value=1200.0, unit=kilocalorie/mole), 2]), 3: (13, 8, 10, 15, [1, Quantity(value=-0.036945135932107576, unit=radian), Quantity(value=1200.0, unit=kilocalorie/mole), 3]), 4: (13, 8, 10, 11, [1, Quantity(value=2.0585806937220097, unit=radian), Quantity(value=1200.0, unit=kilocalorie/mole), 1]), 5: (13, 8, 10, 12, [1, Quantity(value=-2.1237217631284597, unit=radian), Quantity(value=1200.0, unit=kilocalorie/mole), 2]), 6: (9, 8, 10, 15, [1, Quantity(value=-2.119603470065817, unit=radian), Quantity(value=1200.0, unit=kilocalorie/mole), 3]), 7: (9, 8, 10, 11, [1, Quantity(value=-0.024077640411697132, unit=radian), Quantity(value=1200.0, unit=kilocalorie/mole), 1]), 8: (9, 8, 10, 12, [1, Quantity(value=2.0768052099174152, unit=radian), Quantity(value=1200.0, unit=kilocalorie/mole), 2])}\n",
      "INFO:geometry:neglected angle terms include []\n",
      "INFO:geometry:log probability choice of torsions and atom order: -5.0875963352323845\n",
      "INFO:geometry:creating platform, integrators, and contexts; setting growth parameter\n"
     ]
    },
    {
     "name": "stdout",
     "output_type": "stream",
     "text": [
      "conducting subsequent work with the following platform: CUDA\n"
     ]
    },
    {
     "name": "stderr",
     "output_type": "stream",
     "text": [
      "INFO:geometry:setting atoms_with_positions context old positions\n"
     ]
    },
    {
     "name": "stdout",
     "output_type": "stream",
     "text": [
      "conducting subsequent work with the following platform: CUDA\n"
     ]
    },
    {
     "name": "stderr",
     "output_type": "stream",
     "text": [
      "INFO:geometry:There are 3 new atoms\n",
      "INFO:geometry:\treduced angle potential = 0.3096300511603986.\n",
      "INFO:geometry:\treduced angle potential = 0.2500528178763556.\n",
      "INFO:geometry:\treduced angle potential = 0.8234539492149762.\n",
      "INFO:geometry:\tbeginning construction of no_nonbonded final system...\n",
      "INFO:geometry:\tinitial no-nonbonded final system forces ['HarmonicBondForce', 'HarmonicAngleForce', 'PeriodicTorsionForce', 'NonbondedForce', 'MonteCarloBarostat']\n",
      "INFO:geometry:\tfinal no-nonbonded final system forces dict_keys(['HarmonicBondForce', 'HarmonicAngleForce', 'PeriodicTorsionForce', 'NonbondedForce'])\n",
      "INFO:geometry:\tthere are 9 bond forces in the no-nonbonded final system\n",
      "INFO:geometry:\tthere are 36 angle forces in the no-nonbonded final system\n",
      "INFO:geometry:\tthere are 42 torsion forces in the no-nonbonded final system\n",
      "INFO:geometry:reverse final system defined with 0 neglected angles.\n"
     ]
    },
    {
     "name": "stdout",
     "output_type": "stream",
     "text": [
      "conducting subsequent work with the following platform: CUDA\n",
      "conducting subsequent work with the following platform: CUDA\n"
     ]
    },
    {
     "name": "stderr",
     "output_type": "stream",
     "text": [
      "INFO:geometry:total reduced potential before atom placement: 31.36040723546956\n"
     ]
    },
    {
     "name": "stdout",
     "output_type": "stream",
     "text": [
      "conducting subsequent work with the following platform: CUDA\n",
      "conducting subsequent work with the following platform: CUDA\n",
      "conducting subsequent work with the following platform: CUDA\n"
     ]
    },
    {
     "name": "stderr",
     "output_type": "stream",
     "text": [
      "INFO:geometry:total reduced energy added from growth system: 10.374130239445629\n",
      "INFO:geometry:final reduced energy 41.734536894734866\n",
      "INFO:geometry:sum of energies: 41.734537474915186\n",
      "INFO:geometry:magnitude of difference in the energies: 5.801803215632617e-07\n",
      "INFO:geometry:Final logp_proposal: -29345.337091923997\n"
     ]
    },
    {
     "name": "stdout",
     "output_type": "stream",
     "text": [
      "added energy components: [('CustomBondForce', 0.0), ('CustomAngleForce', 1.844563196308122), ('CustomTorsionForce', 0.31379335634681493), ('CustomBondForce', 8.21577368679069)]\n"
     ]
    },
    {
     "name": "stderr",
     "output_type": "stream",
     "text": [
      "INFO:setup:charge diff: 1\n",
      "INFO:setup:new water indices to ionize [672 673 674]\n",
      "INFO:relative:*** Generating vanilla HybridTopologyFactory ***\n",
      "INFO:relative:Beginning nonbonded method, total particle, barostat, and exceptions retrieval...\n",
      "INFO:relative:Flattening exceptions of unique new/old at lambda = 0/1\n",
      "INFO:relative:Old system forces: dict_keys(['HarmonicBondForce', 'HarmonicAngleForce', 'PeriodicTorsionForce', 'NonbondedForce', 'MonteCarloBarostat'])\n",
      "INFO:relative:New system forces: dict_keys(['HarmonicBondForce', 'HarmonicAngleForce', 'PeriodicTorsionForce', 'NonbondedForce', 'MonteCarloBarostat'])\n",
      "INFO:relative:No unknown forces.\n",
      "INFO:relative:Nonbonded method to be used (i.e. from old system): 4\n",
      "INFO:relative:Adding and mapping old atoms to hybrid system...\n",
      "INFO:relative:Adding and mapping new atoms to hybrid system...\n",
      "INFO:relative:Added MonteCarloBarostat.\n",
      "INFO:relative:getDefaultPeriodicBoxVectors added to hybrid: [Quantity(value=Vec3(x=2.7648, y=0.0, z=0.0), unit=nanometer), Quantity(value=Vec3(x=0.9215990612312835, y=2.6066787700707614, z=0.0), unit=nanometer), Quantity(value=Vec3(x=-0.9215990612312832, y=1.303337393606965, z=2.2574511841374156), unit=nanometer)]\n",
      "INFO:relative:Determined atom classes.\n",
      "INFO:relative:Generating old system exceptions dict...\n",
      "INFO:relative:Generating new system exceptions dict...\n",
      "INFO:relative:Handling constraints...\n",
      "INFO:relative:Handling virtual sites...\n",
      "INFO:relative:\t_handle_virtual_sites: numVirtualSites: 0\n",
      "INFO:relative:Adding bond force terms...\n",
      "INFO:relative:Adding angle force terms...\n",
      "INFO:relative:Adding torsion force terms...\n",
      "INFO:relative:Adding nonbonded force terms...\n",
      "INFO:relative:\t_add_nonbonded_force_terms: <openmm.openmm.NonbondedForce; proxy of <Swig Object of type 'OpenMM::NonbondedForce *' at 0x2b6245751c60> > added to hybrid system\n",
      "INFO:relative:\t_add_nonbonded_force_terms: nonbonded_method is PME or Ewald\n",
      "INFO:relative:\t_add_nonbonded_force_terms: 4 added to standard nonbonded force\n",
      "INFO:relative:\t_add_nonbonded_force_terms: 2 added to sterics_custom_nonbonded force\n",
      "INFO:relative:\t_add_nonbonded_force_terms: <openmm.openmm.CustomNonbondedForce; proxy of <Swig Object of type 'OpenMM::CustomNonbondedForce *' at 0x2b6245751a50> > added to hybrid system\n",
      "INFO:relative:Handling harmonic bonds...\n",
      "INFO:relative:\thandle_harmonic_bonds: looping through old_system to add relevant terms...\n",
      "INFO:relative:\thandle_harmonic_bonds: looping through new_system to add relevant terms...\n",
      "INFO:relative:Handling harmonic angles...\n",
      "INFO:relative:\thandle_harmonic_angles: looping through old_system to add relevant terms...\n",
      "INFO:relative:\thandle_harmonic_angles: looping through new_system to add relevant terms...\n",
      "INFO:relative:Handling torsion forces...\n",
      "INFO:relative:\thandle_periodic_torsion_forces: looping through old_system to add relevant terms...\n",
      "INFO:relative:\thandle_periodic_torsion_forces: looping through new_system to add relevant terms...\n",
      "INFO:relative:Handling nonbonded forces...\n",
      "INFO:relative:\thandle_nonbonded: looping through all particles in hybrid...\n",
      "INFO:relative:\thandle_nonbonded: Handling Interaction Groups...\n",
      "INFO:relative:\thandle_nonbonded: Handling Hybrid Exceptions...\n",
      "INFO:relative:\thandle_nonbonded: Handling Original Exceptions...\n",
      "INFO:relative:Handling unique_new/old interaction exceptions...\n",
      "INFO:relative:There are old or new system exceptions...proceeding.\n",
      "INFO:relative:Imposing virtual bonds to ensure system is imaged together.\n",
      "INFO:relative:\t\t_impose_virtual_bonds: No restraint added because sets overlap (core_atoms=[1, 4, 5, 6, 8, 10, 13, 14, 16, 18, 670], protein_atoms=[8])\n",
      "INFO:relative:*** Generating RESTCapableHybridTopologyFactory ***\n",
      "INFO:relative:Old system forces: dict_keys(['HarmonicBondForce', 'HarmonicAngleForce', 'PeriodicTorsionForce', 'NonbondedForce', 'MonteCarloBarostat'])\n",
      "INFO:relative:New system forces: dict_keys(['HarmonicBondForce', 'HarmonicAngleForce', 'PeriodicTorsionForce', 'NonbondedForce', 'MonteCarloBarostat'])\n",
      "INFO:relative:No unknown forces.\n",
      "INFO:relative:r_cutoff is 1.0 nm\n",
      "INFO:relative:alpha_ewald is 2.7569734238004693\n",
      "INFO:relative:w_scale is 0.3\n",
      "INFO:relative:Creating hybrid system\n",
      "INFO:relative:Adding and mapping old atoms to hybrid system...\n",
      "INFO:relative:Adding and mapping new atoms to hybrid system...\n",
      "INFO:relative:Added MonteCarloBarostat.\n",
      "INFO:relative:getDefaultPeriodicBoxVectors added to hybrid: [Quantity(value=Vec3(x=2.7648, y=0.0, z=0.0), unit=nanometer), Quantity(value=Vec3(x=0.9215990612312835, y=2.6066787700707614, z=0.0), unit=nanometer), Quantity(value=Vec3(x=-0.9215990612312832, y=1.303337393606965, z=2.2574511841374156), unit=nanometer)]\n",
      "INFO:relative:Determined atom classes.\n",
      "INFO:relative:Computed hybrid positions\n",
      "INFO:relative:Created hybrid topology\n",
      "INFO:relative:Generating rest_region with query indices: [6, 7, 8, 9, 10, 11, 12, 13, 14, 15, 1551, 1552, 1553, 1554, 1555]\n",
      "INFO:relative:Rest radius: 0.3 nm\n",
      "INFO:relative:Rest region: [0, 1, 2, 3, 4, 5, 6, 7, 8, 9, 10, 11, 12, 13, 14, 15, 1551, 1552, 1553, 1554, 1555, 16, 17, 18, 19, 20, 21]\n",
      "INFO:relative:Prepped look up dict for determining if atom is solvent\n",
      "INFO:relative:Generating old system exceptions dict...\n",
      "INFO:relative:Generating new system exceptions dict...\n",
      "INFO:relative:Handling constraints...\n",
      "INFO:relative:Handling virtual sites...\n",
      "INFO:relative:\t_handle_virtual_sites: numVirtualSites: 0\n",
      "INFO:relative:Handling bonds...\n",
      "INFO:relative:Handling angles...\n",
      "INFO:relative:Handling torsions...\n",
      "INFO:relative:Handling nonbondeds (creating forces)...\n",
      "INFO:relative:Handling nonbondeds (copying nonbonded particles)...\n",
      "INFO:relative:Handling nonbondeds (copying nonbonded exceptions)...\n",
      "INFO:setup:Saving htfs as pickles\n",
      "INFO:setup:sterics expression: U_sterics; U_sterics = 4 * epsilon * x * (x - 1.0);x = (sigma / r_eff_sterics)^6;sigma = (sigma1 + sigma2) / 2; epsilon = sterics_rest_scale1 * sterics_rest_scale2 * sqrt(epsilon_combined); epsilon_combined = step(epsilon1 * epsilon2) * epsilon1 * epsilon2; r_eff_sterics = sqrt(r^2 + w_sterics^2); w_sterics = w_scale * r_cutoff * (is_unique_old * (1 - lambda_alchemical_sterics_old) + is_unique_new * (1 - lambda_alchemical_sterics_new)); is_unique_old = step(is_unique_old1 + is_unique_old2 - 0.1); is_unique_new = step(is_unique_new1 + is_unique_new2 - 0.1); w_scale = 0.3; r_cutoff = 1.0;\n",
      "INFO:setup:forces: [<openmm.openmm.MonteCarloBarostat; proxy of <Swig Object of type 'OpenMM::MonteCarloBarostat *' at 0x2b6245f7bdb0> >, <openmm.openmm.CustomBondForce; proxy of <Swig Object of type 'OpenMM::CustomBondForce *' at 0x2b6245f7ba20> >, <openmm.openmm.CustomAngleForce; proxy of <Swig Object of type 'OpenMM::CustomAngleForce *' at 0x2b6245f7b210> >, <openmm.openmm.CustomTorsionForce; proxy of <Swig Object of type 'OpenMM::CustomTorsionForce *' at 0x2b6245f7b3f0> >, <openmm.openmm.CustomNonbondedForce; proxy of <Swig Object of type 'OpenMM::CustomNonbondedForce *' at 0x2b6245f7b0f0> >, <openmm.openmm.CustomNonbondedForce; proxy of <Swig Object of type 'OpenMM::CustomNonbondedForce *' at 0x2b6245f7bfc0> >, <openmm.openmm.CustomBondForce; proxy of <Swig Object of type 'OpenMM::CustomBondForce *' at 0x2b6245f7b480> >, <openmm.openmm.NonbondedForce; proxy of <Swig Object of type 'OpenMM::NonbondedForce *' at 0x2b6245f7b2a0> >, <openmm.openmm.NonbondedForce; proxy of <Swig Object of type 'OpenMM::NonbondedForce *' at 0x2b6245f7b360> >]\n",
      "INFO:setup:number of particles in apo: 1556\n",
      "INFO:setup:number of particles in apo rest region: 27\n"
     ]
    },
    {
     "name": "stdout",
     "output_type": "stream",
     "text": [
      "apo rest region atoms:\n",
      "ACE1-H1\n",
      "ACE1-CH3\n",
      "ACE1-H2\n",
      "ACE1-H3\n",
      "ACE1-C\n",
      "ACE1-O\n",
      "ALA2-N\n",
      "ALA2-H\n",
      "ALA2-CA\n",
      "ALA2-HA\n",
      "ALA2-CB\n",
      "ALA2-HB2\n",
      "ALA2-HB3\n",
      "ALA2-C\n",
      "ALA2-O\n",
      "ALA2-HB1\n",
      "ALA2-HB2\n",
      "ALA2-HB3\n",
      "ALA2-CG\n",
      "ALA2-OD1\n",
      "ALA2-OD2\n",
      "NME3-N\n",
      "NME3-H\n",
      "NME3-C\n",
      "NME3-H1\n",
      "NME3-H2\n",
      "NME3-H3\n"
     ]
    }
   ],
   "source": [
    " outdir = \"/data/chodera/zhangi/perses_benchmark/repex/38/26/\"\n",
    "residue = '2'\n",
    "mutant = 'ASP'\n",
    "\n",
    "apo_file = \"/data/chodera/zhangi/perses_benchmark/repex/38/26/equil/apo_equilibrated.cif\" \n",
    "\n",
    "solvent_delivery = generate_htf(outdir, residue, mutant, apo_file)"
   ]
  },
  {
   "cell_type": "code",
   "execution_count": 8,
   "id": "85a0bb56",
   "metadata": {
    "scrolled": true
   },
   "outputs": [
    {
     "name": "stderr",
     "output_type": "stream",
     "text": [
      "DEBUG:openmmforcefields.system_generators:Trying GAFFTemplateGenerator to load gaff-2.11\n"
     ]
    },
    {
     "name": "stdout",
     "output_type": "stream",
     "text": [
      "(Vec3(x=2.9625000000000004, y=0.0, z=0.0), Vec3(x=0.9874989941036161, y=2.793072141324737, z=0.0), Vec3(x=-0.9874989941036157, y=1.3965339368347203, z=2.4188726609545337)) nm\n"
     ]
    },
    {
     "name": "stderr",
     "output_type": "stream",
     "text": [
      "INFO:proposal_generator:\tConducting polymer point mutation proposal...\n",
      "INFO:proposal_generator:local_atom_map: {6: 6, 7: 7, 8: 8, 9: 9, 10: 10, 13: 13, 14: 14}\n",
      "INFO:proposal_generator:the mapped atom names are: [('N', 'N'), ('H', 'H'), ('CA', 'CA'), ('HA', 'HA'), ('CB', 'CB'), ('C', 'C'), ('O', 'O')]\n"
     ]
    },
    {
     "name": "stdout",
     "output_type": "stream",
     "text": [
      "[Quantity(value=Vec3(x=2.9625000000000004, y=0.0, z=0.0), unit=nanometer), Quantity(value=Vec3(x=0.9874989941036161, y=2.793072141324737, z=0.0), unit=nanometer), Quantity(value=Vec3(x=-0.9874989941036157, y=1.3965339368347203, z=2.4188726609545337), unit=nanometer)]\n",
      "True\n"
     ]
    },
    {
     "name": "stderr",
     "output_type": "stream",
     "text": [
      "INFO:geometry:propose: performing forward proposal\n",
      "INFO:geometry:propose: unique new atoms detected; proceeding to _logp_propose...\n",
      "INFO:geometry:Conducting forward proposal...\n",
      "INFO:geometry:Computing proposal order with NetworkX...\n",
      "INFO:geometry:number of atoms to be placed: 3\n",
      "INFO:geometry:Atom index proposal order is [11, 15, 12]\n",
      "INFO:geometry:omitted_bonds: []\n",
      "INFO:geometry:direction of proposal is forward; creating atoms_with_positions and new positions from old system/topology...\n"
     ]
    },
    {
     "name": "stdout",
     "output_type": "stream",
     "text": [
      "[Quantity(value=Vec3(x=2.9625000000000004, y=0.0, z=0.0), unit=nanometer), Quantity(value=Vec3(x=0.9874989941036161, y=2.793072141324737, z=0.0), unit=nanometer), Quantity(value=Vec3(x=-0.9874989941036157, y=1.3965339368347203, z=2.4188726609545337), unit=nanometer)]\n",
      "True\n"
     ]
    },
    {
     "name": "stderr",
     "output_type": "stream",
     "text": [
      "INFO:geometry:creating growth system...\n",
      "INFO:geometry:\tcreating bond force...\n",
      "INFO:geometry:\tthere are 9 bonds in reference force.\n",
      "INFO:geometry:\tcreating angle force...\n",
      "INFO:geometry:\tthere are 36 angles in reference force.\n",
      "INFO:geometry:\tcreating torsion force...\n",
      "INFO:geometry:\tcreating extra torsions force...\n",
      "INFO:geometry:\tthere are 42 torsions in reference force.\n",
      "INFO:geometry:\tcreating nonbonded force...\n",
      "INFO:geometry:\t\tgrabbing reference nonbonded method, cutoff, switching function, switching distance...\n",
      "INFO:geometry:\t\tcreating nonbonded exception force (i.e. custom bond for 1,4s)...\n",
      "INFO:geometry:\t\tlooping through exceptions calculating growth indices, and adding appropriate interactions to custom bond force.\n",
      "INFO:geometry:\t\tthere are 1967 in the reference Nonbonded force\n",
      "INFO:geometry:Neglected angle terms : []\n",
      "INFO:geometry:omitted_growth_terms: {'bonds': [], 'angles': [], 'torsions': [], '1,4s': []}\n",
      "INFO:geometry:extra torsions: {0: (6, 8, 10, 15, [1, Quantity(value=2.105358864604291, unit=radian), Quantity(value=1200.0, unit=kilocalorie/mole), 2]), 1: (6, 8, 10, 11, [1, Quantity(value=-2.0823006129211796, unit=radian), Quantity(value=1200.0, unit=kilocalorie/mole), 1]), 2: (6, 8, 10, 12, [1, Quantity(value=0.018582237407944735, unit=radian), Quantity(value=1200.0, unit=kilocalorie/mole), 3]), 3: (13, 8, 10, 15, [1, Quantity(value=-0.036945135932107576, unit=radian), Quantity(value=1200.0, unit=kilocalorie/mole), 2]), 4: (13, 8, 10, 11, [1, Quantity(value=2.0585806937220097, unit=radian), Quantity(value=1200.0, unit=kilocalorie/mole), 1]), 5: (13, 8, 10, 12, [1, Quantity(value=-2.1237217631284597, unit=radian), Quantity(value=1200.0, unit=kilocalorie/mole), 3]), 6: (9, 8, 10, 15, [1, Quantity(value=-2.119603470065817, unit=radian), Quantity(value=1200.0, unit=kilocalorie/mole), 2]), 7: (9, 8, 10, 11, [1, Quantity(value=-0.024077640411697132, unit=radian), Quantity(value=1200.0, unit=kilocalorie/mole), 1]), 8: (9, 8, 10, 12, [1, Quantity(value=2.0768052099174152, unit=radian), Quantity(value=1200.0, unit=kilocalorie/mole), 3])}\n",
      "INFO:geometry:neglected angle terms include []\n",
      "INFO:geometry:log probability choice of torsions and atom order: -5.0875963352323845\n",
      "INFO:geometry:creating platform, integrators, and contexts; setting growth parameter\n"
     ]
    },
    {
     "name": "stdout",
     "output_type": "stream",
     "text": [
      "conducting subsequent work with the following platform: CUDA\n"
     ]
    },
    {
     "name": "stderr",
     "output_type": "stream",
     "text": [
      "INFO:geometry:setting atoms_with_positions context new positions\n"
     ]
    },
    {
     "name": "stdout",
     "output_type": "stream",
     "text": [
      "conducting subsequent work with the following platform: CUDA\n"
     ]
    },
    {
     "name": "stderr",
     "output_type": "stream",
     "text": [
      "INFO:geometry:There are 3 new atoms\n",
      "INFO:geometry:\treduced angle potential = 0.4986644459064806.\n",
      "INFO:geometry:\treduced angle potential = 0.11125112039470908.\n",
      "INFO:geometry:\treduced angle potential = 0.3288563503088513.\n",
      "INFO:geometry:\tbeginning construction of no_nonbonded final system...\n",
      "INFO:geometry:\tinitial no-nonbonded final system forces ['HarmonicBondForce', 'HarmonicAngleForce', 'PeriodicTorsionForce', 'NonbondedForce', 'MonteCarloBarostat']\n",
      "INFO:geometry:\tfinal no-nonbonded final system forces dict_keys(['HarmonicBondForce', 'HarmonicAngleForce', 'PeriodicTorsionForce', 'NonbondedForce'])\n",
      "INFO:geometry:\tthere are 9 bond forces in the no-nonbonded final system\n",
      "INFO:geometry:\tthere are 36 angle forces in the no-nonbonded final system\n",
      "INFO:geometry:\tthere are 42 torsion forces in the no-nonbonded final system\n",
      "INFO:geometry:forward final system defined with 0 neglected angles.\n"
     ]
    },
    {
     "name": "stdout",
     "output_type": "stream",
     "text": [
      "conducting subsequent work with the following platform: CUDA\n",
      "conducting subsequent work with the following platform: CUDA\n"
     ]
    },
    {
     "name": "stderr",
     "output_type": "stream",
     "text": [
      "INFO:geometry:total reduced potential before atom placement: 42.539566350871226\n"
     ]
    },
    {
     "name": "stdout",
     "output_type": "stream",
     "text": [
      "conducting subsequent work with the following platform: CUDA\n",
      "conducting subsequent work with the following platform: CUDA\n",
      "conducting subsequent work with the following platform: CUDA\n"
     ]
    },
    {
     "name": "stderr",
     "output_type": "stream",
     "text": [
      "INFO:geometry:total reduced energy added from growth system: 9.413597942416464\n",
      "INFO:geometry:final reduced energy 51.953163889423\n",
      "INFO:geometry:sum of energies: 51.95316429328769\n",
      "INFO:geometry:magnitude of difference in the energies: 4.0386468747044546e-07\n",
      "INFO:geometry:Final logp_proposal: 22.570646097386433\n"
     ]
    },
    {
     "name": "stdout",
     "output_type": "stream",
     "text": [
      "added energy components: [('CustomBondForce', 0.0), ('CustomAngleForce', 1.122614926124519), ('CustomTorsionForce', 0.08833813394985704), ('CustomBondForce', 8.202644882342087)]\n"
     ]
    },
    {
     "name": "stderr",
     "output_type": "stream",
     "text": [
      "INFO:geometry:logp_reverse: performing reverse proposal\n",
      "INFO:geometry:logp_reverse: unique new atoms detected; proceeding to _logp_propose...\n",
      "INFO:geometry:Conducting forward proposal...\n",
      "INFO:geometry:Computing proposal order with NetworkX...\n",
      "INFO:geometry:number of atoms to be placed: 17\n",
      "INFO:geometry:Atom index proposal order is [15, 18, 21, 23, 27, 24, 20, 29, 16, 12, 19, 28, 22, 17, 26, 25, 11]\n",
      "INFO:geometry:omitted_bonds: []\n",
      "INFO:geometry:direction of proposal is reverse; creating atoms_with_positions from old system/topology\n",
      "INFO:geometry:creating growth system...\n",
      "INFO:geometry:\tcreating bond force...\n",
      "INFO:geometry:\tthere are 15 bonds in reference force.\n",
      "INFO:geometry:\tcreating angle force...\n",
      "INFO:geometry:\tthere are 60 angles in reference force.\n",
      "INFO:geometry:\tcreating torsion force...\n",
      "INFO:geometry:\tcreating extra torsions force...\n",
      "INFO:geometry:\tthere are 78 torsions in reference force.\n",
      "INFO:geometry:\tcreating nonbonded force...\n",
      "INFO:geometry:\t\tgrabbing reference nonbonded method, cutoff, switching function, switching distance...\n",
      "INFO:geometry:\t\tcreating nonbonded exception force (i.e. custom bond for 1,4s)...\n",
      "INFO:geometry:\t\tlooping through exceptions calculating growth indices, and adding appropriate interactions to custom bond force.\n",
      "INFO:geometry:\t\tthere are 2041 in the reference Nonbonded force\n",
      "INFO:geometry:Neglected angle terms : []\n",
      "INFO:geometry:omitted_growth_terms: {'bonds': [], 'angles': [], 'torsions': [], '1,4s': []}\n",
      "INFO:geometry:extra torsions: {0: (28, 27, 23, 21, [1, Quantity(value=3.1400479780546657, unit=radian), Quantity(value=1200.0, unit=kilocalorie/mole), 12]), 1: (28, 27, 23, 24, [1, Quantity(value=-0.0009854700401916716, unit=radian), Quantity(value=1200.0, unit=kilocalorie/mole), 12]), 2: (29, 27, 23, 21, [1, Quantity(value=-0.0019499207113558015, unit=radian), Quantity(value=1200.0, unit=kilocalorie/mole), 8]), 3: (29, 27, 23, 24, [1, Quantity(value=3.1402019383733304, unit=radian), Quantity(value=1200.0, unit=kilocalorie/mole), 8]), 4: (27, 23, 24, 26, [1, Quantity(value=-3.141011085169936, unit=radian), Quantity(value=1200.0, unit=kilocalorie/mole), 15]), 5: (27, 23, 24, 25, [1, Quantity(value=0.0013841937088012735, unit=radian), Quantity(value=1200.0, unit=kilocalorie/mole), 16]), 6: (21, 23, 24, 26, [1, Quantity(value=0.0011725432810614222, unit=radian), Quantity(value=1200.0, unit=kilocalorie/mole), 15]), 7: (21, 23, 24, 25, [1, Quantity(value=-3.1396174850195098, unit=radian), Quantity(value=1200.0, unit=kilocalorie/mole), 16])}\n",
      "INFO:geometry:neglected angle terms include []\n",
      "INFO:geometry:log probability choice of torsions and atom order: -32.828841225215925\n",
      "INFO:geometry:creating platform, integrators, and contexts; setting growth parameter\n"
     ]
    },
    {
     "name": "stdout",
     "output_type": "stream",
     "text": [
      "conducting subsequent work with the following platform: CUDA\n"
     ]
    },
    {
     "name": "stderr",
     "output_type": "stream",
     "text": [
      "INFO:geometry:setting atoms_with_positions context old positions\n"
     ]
    },
    {
     "name": "stdout",
     "output_type": "stream",
     "text": [
      "conducting subsequent work with the following platform: CUDA\n"
     ]
    },
    {
     "name": "stderr",
     "output_type": "stream",
     "text": [
      "INFO:geometry:There are 17 new atoms\n",
      "INFO:geometry:\treduced angle potential = 0.042853125757750306.\n",
      "INFO:geometry:\treduced angle potential = 0.11918491356084256.\n",
      "INFO:geometry:\treduced angle potential = 0.03558938425976845.\n",
      "INFO:geometry:\treduced angle potential = 3.063706070595789e-05.\n",
      "INFO:geometry:\treduced angle potential = 0.3856161427963459.\n",
      "INFO:geometry:\treduced angle potential = 0.1283940070536202.\n",
      "INFO:geometry:\treduced angle potential = 0.39463143613777724.\n",
      "INFO:geometry:\treduced angle potential = 0.006867661209664784.\n",
      "INFO:geometry:\treduced angle potential = 0.05013507617612865.\n",
      "INFO:geometry:\treduced angle potential = 0.32379759832066435.\n",
      "INFO:geometry:\treduced angle potential = 0.1891037527507676.\n",
      "INFO:geometry:\treduced angle potential = 0.37202362757935775.\n",
      "INFO:geometry:\treduced angle potential = 0.050296504347601974.\n",
      "INFO:geometry:\treduced angle potential = 1.0049041510239072.\n",
      "INFO:geometry:\treduced angle potential = 0.0395257051882019.\n",
      "INFO:geometry:\treduced angle potential = 0.3039552128830515.\n",
      "INFO:geometry:\treduced angle potential = 0.014831313710720695.\n",
      "INFO:geometry:\tbeginning construction of no_nonbonded final system...\n",
      "INFO:geometry:\tinitial no-nonbonded final system forces ['HarmonicBondForce', 'HarmonicAngleForce', 'PeriodicTorsionForce', 'NonbondedForce', 'MonteCarloBarostat']\n",
      "INFO:geometry:\tfinal no-nonbonded final system forces dict_keys(['HarmonicBondForce', 'HarmonicAngleForce', 'PeriodicTorsionForce', 'NonbondedForce'])\n",
      "INFO:geometry:\tthere are 15 bond forces in the no-nonbonded final system\n",
      "INFO:geometry:\tthere are 60 angle forces in the no-nonbonded final system\n",
      "INFO:geometry:\tthere are 78 torsion forces in the no-nonbonded final system\n",
      "INFO:geometry:reverse final system defined with 0 neglected angles.\n"
     ]
    },
    {
     "name": "stdout",
     "output_type": "stream",
     "text": [
      "conducting subsequent work with the following platform: CUDA\n",
      "conducting subsequent work with the following platform: CUDA\n"
     ]
    },
    {
     "name": "stderr",
     "output_type": "stream",
     "text": [
      "INFO:geometry:total reduced potential before atom placement: 42.539566350871226\n"
     ]
    },
    {
     "name": "stdout",
     "output_type": "stream",
     "text": [
      "conducting subsequent work with the following platform: CUDA\n",
      "conducting subsequent work with the following platform: CUDA\n",
      "conducting subsequent work with the following platform: CUDA\n"
     ]
    },
    {
     "name": "stderr",
     "output_type": "stream",
     "text": [
      "INFO:geometry:total reduced energy added from growth system: -478.8342662842031\n",
      "INFO:geometry:final reduced energy -436.2947077009399\n",
      "INFO:geometry:sum of energies: -436.2946999333319\n",
      "INFO:geometry:magnitude of difference in the energies: 7.767607996811421e-06\n",
      "INFO:geometry:Final logp_proposal: -31445.89040799835\n"
     ]
    },
    {
     "name": "stdout",
     "output_type": "stream",
     "text": [
      "added energy components: [('CustomBondForce', 8.159981229252093), ('CustomAngleForce', 9.07511207953895), ('CustomTorsionForce', 4.707969376224987), ('CustomBondForce', -500.77732896921924)]\n"
     ]
    },
    {
     "name": "stderr",
     "output_type": "stream",
     "text": [
      "INFO:setup:charge diff: 1\n",
      "INFO:setup:new water indices to ionize [415 416 417]\n",
      "INFO:relative:*** Generating vanilla HybridTopologyFactory ***\n",
      "INFO:relative:Beginning nonbonded method, total particle, barostat, and exceptions retrieval...\n",
      "INFO:relative:Flattening exceptions of unique new/old at lambda = 0/1\n",
      "INFO:relative:Old system forces: dict_keys(['HarmonicBondForce', 'HarmonicAngleForce', 'PeriodicTorsionForce', 'NonbondedForce', 'MonteCarloBarostat'])\n",
      "INFO:relative:New system forces: dict_keys(['HarmonicBondForce', 'HarmonicAngleForce', 'PeriodicTorsionForce', 'NonbondedForce', 'MonteCarloBarostat'])\n",
      "INFO:relative:No unknown forces.\n",
      "INFO:relative:Nonbonded method to be used (i.e. from old system): 4\n",
      "INFO:relative:Adding and mapping old atoms to hybrid system...\n",
      "INFO:relative:Adding and mapping new atoms to hybrid system...\n",
      "INFO:relative:Added MonteCarloBarostat.\n",
      "INFO:relative:getDefaultPeriodicBoxVectors added to hybrid: [Quantity(value=Vec3(x=2.9625000000000004, y=0.0, z=0.0), unit=nanometer), Quantity(value=Vec3(x=0.9874989941036161, y=2.793072141324737, z=0.0), unit=nanometer), Quantity(value=Vec3(x=-0.9874989941036157, y=1.3965339368347203, z=2.4188726609545337), unit=nanometer)]\n",
      "INFO:relative:Determined atom classes.\n",
      "INFO:relative:Generating old system exceptions dict...\n",
      "INFO:relative:Generating new system exceptions dict...\n",
      "INFO:relative:Handling constraints...\n",
      "INFO:relative:Handling virtual sites...\n",
      "INFO:relative:\t_handle_virtual_sites: numVirtualSites: 0\n",
      "INFO:relative:Adding bond force terms...\n",
      "INFO:relative:Adding angle force terms...\n",
      "INFO:relative:Adding torsion force terms...\n",
      "INFO:relative:Adding nonbonded force terms...\n",
      "INFO:relative:\t_add_nonbonded_force_terms: <openmm.openmm.NonbondedForce; proxy of <Swig Object of type 'OpenMM::NonbondedForce *' at 0x2b9d60221bd0> > added to hybrid system\n",
      "INFO:relative:\t_add_nonbonded_force_terms: nonbonded_method is PME or Ewald\n",
      "INFO:relative:\t_add_nonbonded_force_terms: 4 added to standard nonbonded force\n",
      "INFO:relative:\t_add_nonbonded_force_terms: 2 added to sterics_custom_nonbonded force\n",
      "INFO:relative:\t_add_nonbonded_force_terms: <openmm.openmm.CustomNonbondedForce; proxy of <Swig Object of type 'OpenMM::CustomNonbondedForce *' at 0x2b9d60221a80> > added to hybrid system\n",
      "INFO:relative:Handling harmonic bonds...\n",
      "INFO:relative:\thandle_harmonic_bonds: looping through old_system to add relevant terms...\n",
      "INFO:relative:\thandle_harmonic_bonds: looping through new_system to add relevant terms...\n",
      "INFO:relative:Handling harmonic angles...\n",
      "INFO:relative:\thandle_harmonic_angles: looping through old_system to add relevant terms...\n",
      "INFO:relative:\thandle_harmonic_angles: looping through new_system to add relevant terms...\n",
      "INFO:relative:Handling torsion forces...\n",
      "INFO:relative:\thandle_periodic_torsion_forces: looping through old_system to add relevant terms...\n",
      "INFO:relative:\thandle_periodic_torsion_forces: looping through new_system to add relevant terms...\n",
      "INFO:relative:Handling nonbonded forces...\n",
      "INFO:relative:\thandle_nonbonded: looping through all particles in hybrid...\n",
      "INFO:relative:\thandle_nonbonded: Handling Interaction Groups...\n",
      "INFO:relative:\thandle_nonbonded: Handling Hybrid Exceptions...\n",
      "INFO:relative:\thandle_nonbonded: Handling Original Exceptions...\n",
      "INFO:relative:Handling unique_new/old interaction exceptions...\n",
      "INFO:relative:There are old or new system exceptions...proceeding.\n",
      "INFO:relative:Imposing virtual bonds to ensure system is imaged together.\n",
      "INFO:relative:\t\t_impose_virtual_bonds: No restraint added because sets overlap (core_atoms=[32, 1, 4, 5, 6, 8, 10, 13, 14, 429, 30], protein_atoms=[8])\n",
      "INFO:relative:*** Generating RESTCapableHybridTopologyFactory ***\n",
      "INFO:relative:Old system forces: dict_keys(['HarmonicBondForce', 'HarmonicAngleForce', 'PeriodicTorsionForce', 'NonbondedForce', 'MonteCarloBarostat'])\n",
      "INFO:relative:New system forces: dict_keys(['HarmonicBondForce', 'HarmonicAngleForce', 'PeriodicTorsionForce', 'NonbondedForce', 'MonteCarloBarostat'])\n",
      "INFO:relative:No unknown forces.\n",
      "INFO:relative:r_cutoff is 1.0 nm\n",
      "INFO:relative:alpha_ewald is 2.7569734238004693\n",
      "INFO:relative:w_scale is 1.0\n",
      "INFO:relative:Creating hybrid system\n",
      "INFO:relative:Adding and mapping old atoms to hybrid system...\n",
      "INFO:relative:Adding and mapping new atoms to hybrid system...\n",
      "INFO:relative:Added MonteCarloBarostat.\n",
      "INFO:relative:getDefaultPeriodicBoxVectors added to hybrid: [Quantity(value=Vec3(x=2.9625000000000004, y=0.0, z=0.0), unit=nanometer), Quantity(value=Vec3(x=0.9874989941036161, y=2.793072141324737, z=0.0), unit=nanometer), Quantity(value=Vec3(x=-0.9874989941036157, y=1.3965339368347203, z=2.4188726609545337), unit=nanometer)]\n",
      "INFO:relative:Determined atom classes.\n",
      "INFO:relative:Computed hybrid positions\n",
      "INFO:relative:Created hybrid topology\n",
      "INFO:relative:Generating rest_region with query indices: [6, 7, 8, 9, 10, 11, 12, 13, 14, 15, 16, 17, 18, 19, 20, 21, 22, 23, 24, 25, 26, 27, 28, 29, 1910, 1911, 1912]\n",
      "INFO:relative:Rest radius: 0.3 nm\n",
      "INFO:relative:Rest region: [0, 1, 2, 3, 4, 5, 6, 7, 8, 9, 10, 11, 12, 13, 14, 15, 16, 17, 18, 19, 20, 21, 22, 23, 24, 25, 26, 27, 28, 29, 1910, 1911, 1912, 30, 31, 32, 33, 34, 35]\n",
      "INFO:relative:Prepped look up dict for determining if atom is solvent\n",
      "INFO:relative:Generating old system exceptions dict...\n",
      "INFO:relative:Generating new system exceptions dict...\n",
      "INFO:relative:Handling constraints...\n",
      "INFO:relative:Handling virtual sites...\n",
      "INFO:relative:\t_handle_virtual_sites: numVirtualSites: 0\n",
      "INFO:relative:Handling bonds...\n",
      "INFO:relative:Handling angles...\n",
      "INFO:relative:Handling torsions...\n",
      "INFO:relative:Handling nonbondeds (creating forces)...\n",
      "INFO:relative:Handling nonbondeds (copying nonbonded particles)...\n",
      "INFO:relative:Handling nonbondeds (copying nonbonded exceptions)...\n",
      "INFO:setup:Saving htfs as pickles\n",
      "INFO:setup:sterics expression: U_sterics; U_sterics = 4 * epsilon * x * (x - 1.0);x = (sigma / r_eff_sterics)^6;sigma = (sigma1 + sigma2) / 2; epsilon = sterics_rest_scale1 * sterics_rest_scale2 * sqrt(epsilon_combined); epsilon_combined = step(epsilon1 * epsilon2) * epsilon1 * epsilon2; r_eff_sterics = sqrt(r^2 + w_sterics^2); w_sterics = w_scale * r_cutoff * (is_unique_old * (1 - lambda_alchemical_sterics_old) + is_unique_new * (1 - lambda_alchemical_sterics_new)); is_unique_old = step(is_unique_old1 + is_unique_old2 - 0.1); is_unique_new = step(is_unique_new1 + is_unique_new2 - 0.1); w_scale = 1.0; r_cutoff = 1.0;\n",
      "INFO:setup:forces: [<openmm.openmm.MonteCarloBarostat; proxy of <Swig Object of type 'OpenMM::MonteCarloBarostat *' at 0x2b9d60a3d1b0> >, <openmm.openmm.CustomBondForce; proxy of <Swig Object of type 'OpenMM::CustomBondForce *' at 0x2b9d5fe09870> >, <openmm.openmm.CustomAngleForce; proxy of <Swig Object of type 'OpenMM::CustomAngleForce *' at 0x2b9d608d2fc0> >, <openmm.openmm.CustomTorsionForce; proxy of <Swig Object of type 'OpenMM::CustomTorsionForce *' at 0x2b9d608d2f60> >, <openmm.openmm.CustomNonbondedForce; proxy of <Swig Object of type 'OpenMM::CustomNonbondedForce *' at 0x2b9d608d2e70> >, <openmm.openmm.CustomNonbondedForce; proxy of <Swig Object of type 'OpenMM::CustomNonbondedForce *' at 0x2b9d608d2e40> >, <openmm.openmm.CustomBondForce; proxy of <Swig Object of type 'OpenMM::CustomBondForce *' at 0x2b9d608d2d50> >, <openmm.openmm.NonbondedForce; proxy of <Swig Object of type 'OpenMM::NonbondedForce *' at 0x2b9d608d2d20> >, <openmm.openmm.NonbondedForce; proxy of <Swig Object of type 'OpenMM::NonbondedForce *' at 0x2b9d608d2c30> >]\n",
      "INFO:setup:number of particles in apo: 1913\n",
      "INFO:setup:number of particles in apo rest region: 39\n"
     ]
    },
    {
     "name": "stdout",
     "output_type": "stream",
     "text": [
      "apo rest region atoms:\n",
      "ACE1-H1\n",
      "ACE1-CH3\n",
      "ACE1-H2\n",
      "ACE1-H3\n",
      "ACE1-C\n",
      "ACE1-O\n",
      "ARG2-N\n",
      "ARG2-H\n",
      "ARG2-CA\n",
      "ARG2-HA\n",
      "ARG2-CB\n",
      "ARG2-HB2\n",
      "ARG2-HB3\n",
      "ARG2-C\n",
      "ARG2-O\n",
      "ARG2-CG\n",
      "ARG2-HG2\n",
      "ARG2-HG3\n",
      "ARG2-CD\n",
      "ARG2-HD2\n",
      "ARG2-HD3\n",
      "ARG2-NE\n",
      "ARG2-HE\n",
      "ARG2-CZ\n",
      "ARG2-NH1\n",
      "ARG2-HH11\n",
      "ARG2-HH12\n",
      "ARG2-NH2\n",
      "ARG2-HH21\n",
      "ARG2-HH22\n",
      "ARG2-HB2\n",
      "ARG2-HB3\n",
      "ARG2-HB1\n",
      "NME3-N\n",
      "NME3-H\n",
      "NME3-C\n",
      "NME3-H1\n",
      "NME3-H2\n",
      "NME3-H3\n"
     ]
    }
   ],
   "source": [
    "outdir = \"/data/chodera/zhangi/perses_benchmark/repex/38/27/\"\n",
    "residue = '2'\n",
    "mutant = 'ALA'\n",
    "\n",
    "apo_file = \"/data/chodera/zhangi/perses_benchmark/repex/38/27/equil/apo_equilibrated.cif\" \n",
    "\n",
    "solvent_delivery = generate_htf(outdir, residue, mutant, apo_file, w_scale=1.0)"
   ]
  },
  {
   "cell_type": "code",
   "execution_count": 9,
   "id": "d49b80f5",
   "metadata": {
    "scrolled": true
   },
   "outputs": [
    {
     "name": "stderr",
     "output_type": "stream",
     "text": [
      "DEBUG:openmmforcefields.system_generators:Trying GAFFTemplateGenerator to load gaff-2.11\n"
     ]
    },
    {
     "name": "stdout",
     "output_type": "stream",
     "text": [
      "(Vec3(x=2.7648, y=0.0, z=0.0), Vec3(x=0.9215990612312835, y=2.6066787700707614, z=0.0), Vec3(x=-0.9215990612312832, y=1.303337393606965, z=2.2574511841374156)) nm\n"
     ]
    },
    {
     "name": "stderr",
     "output_type": "stream",
     "text": [
      "INFO:proposal_generator:\tConducting polymer point mutation proposal...\n",
      "INFO:proposal_generator:local_atom_map: {6: 6, 7: 7, 8: 8, 9: 9, 10: 10, 13: 13, 14: 14}\n",
      "INFO:proposal_generator:the mapped atom names are: [('N', 'N'), ('H', 'H'), ('CA', 'CA'), ('HA', 'HA'), ('CB', 'CB'), ('C', 'C'), ('O', 'O')]\n"
     ]
    },
    {
     "name": "stdout",
     "output_type": "stream",
     "text": [
      "[Quantity(value=Vec3(x=2.7648, y=0.0, z=0.0), unit=nanometer), Quantity(value=Vec3(x=0.9215990612312835, y=2.6066787700707614, z=0.0), unit=nanometer), Quantity(value=Vec3(x=-0.9215990612312832, y=1.303337393606965, z=2.2574511841374156), unit=nanometer)]\n",
      "True\n"
     ]
    },
    {
     "name": "stderr",
     "output_type": "stream",
     "text": [
      "INFO:geometry:propose: performing forward proposal\n",
      "INFO:geometry:propose: unique new atoms detected; proceeding to _logp_propose...\n",
      "INFO:geometry:Conducting forward proposal...\n",
      "INFO:geometry:Computing proposal order with NetworkX...\n",
      "INFO:geometry:number of atoms to be placed: 17\n",
      "INFO:geometry:Atom index proposal order is [15, 18, 21, 23, 24, 27, 26, 11, 22, 16, 17, 20, 19, 25, 28, 12, 29]\n",
      "INFO:geometry:omitted_bonds: []\n",
      "INFO:geometry:direction of proposal is forward; creating atoms_with_positions and new positions from old system/topology...\n"
     ]
    },
    {
     "name": "stdout",
     "output_type": "stream",
     "text": [
      "[Quantity(value=Vec3(x=2.7648, y=0.0, z=0.0), unit=nanometer), Quantity(value=Vec3(x=0.9215990612312835, y=2.6066787700707614, z=0.0), unit=nanometer), Quantity(value=Vec3(x=-0.9215990612312832, y=1.303337393606965, z=2.2574511841374156), unit=nanometer)]\n",
      "True\n"
     ]
    },
    {
     "name": "stderr",
     "output_type": "stream",
     "text": [
      "INFO:geometry:creating growth system...\n",
      "INFO:geometry:\tcreating bond force...\n",
      "INFO:geometry:\tthere are 15 bonds in reference force.\n",
      "INFO:geometry:\tcreating angle force...\n",
      "INFO:geometry:\tthere are 60 angles in reference force.\n",
      "INFO:geometry:\tcreating torsion force...\n",
      "INFO:geometry:\tcreating extra torsions force...\n",
      "INFO:geometry:\tthere are 78 torsions in reference force.\n",
      "INFO:geometry:\tcreating nonbonded force...\n",
      "INFO:geometry:\t\tgrabbing reference nonbonded method, cutoff, switching function, switching distance...\n",
      "INFO:geometry:\t\tcreating nonbonded exception force (i.e. custom bond for 1,4s)...\n",
      "INFO:geometry:\t\tlooping through exceptions calculating growth indices, and adding appropriate interactions to custom bond force.\n",
      "INFO:geometry:\t\tthere are 1699 in the reference Nonbonded force\n",
      "INFO:geometry:Neglected angle terms : []\n",
      "INFO:geometry:omitted_growth_terms: {'bonds': [], 'angles': [], 'torsions': [], '1,4s': []}\n",
      "INFO:geometry:extra torsions: {0: (28, 27, 23, 21, [1, Quantity(value=3.1400479780546657, unit=radian), Quantity(value=1200.0, unit=kilocalorie/mole), 15]), 1: (28, 27, 23, 24, [1, Quantity(value=-0.0009854700401916716, unit=radian), Quantity(value=1200.0, unit=kilocalorie/mole), 15]), 2: (29, 27, 23, 21, [1, Quantity(value=-0.0019499207113558015, unit=radian), Quantity(value=1200.0, unit=kilocalorie/mole), 17]), 3: (29, 27, 23, 24, [1, Quantity(value=3.1402019383733304, unit=radian), Quantity(value=1200.0, unit=kilocalorie/mole), 17]), 4: (27, 23, 24, 26, [1, Quantity(value=-3.141011085169936, unit=radian), Quantity(value=1200.0, unit=kilocalorie/mole), 7]), 5: (27, 23, 24, 25, [1, Quantity(value=0.0013841937088012735, unit=radian), Quantity(value=1200.0, unit=kilocalorie/mole), 14]), 6: (21, 23, 24, 26, [1, Quantity(value=0.0011725432810614222, unit=radian), Quantity(value=1200.0, unit=kilocalorie/mole), 7]), 7: (21, 23, 24, 25, [1, Quantity(value=-3.1396174850195098, unit=radian), Quantity(value=1200.0, unit=kilocalorie/mole), 14])}\n",
      "INFO:geometry:neglected angle terms include []\n",
      "INFO:geometry:log probability choice of torsions and atom order: -31.108387545182723\n",
      "INFO:geometry:creating platform, integrators, and contexts; setting growth parameter\n"
     ]
    },
    {
     "name": "stdout",
     "output_type": "stream",
     "text": [
      "conducting subsequent work with the following platform: CUDA\n"
     ]
    },
    {
     "name": "stderr",
     "output_type": "stream",
     "text": [
      "INFO:geometry:setting atoms_with_positions context new positions\n"
     ]
    },
    {
     "name": "stdout",
     "output_type": "stream",
     "text": [
      "conducting subsequent work with the following platform: CUDA\n"
     ]
    },
    {
     "name": "stderr",
     "output_type": "stream",
     "text": [
      "INFO:geometry:There are 17 new atoms\n",
      "INFO:geometry:\treduced angle potential = 0.16530621051026137.\n",
      "INFO:geometry:\treduced angle potential = 0.17989401220285448.\n",
      "INFO:geometry:\treduced angle potential = 1.7947487877008508.\n",
      "INFO:geometry:\treduced angle potential = 0.0024237922476695725.\n",
      "INFO:geometry:\treduced angle potential = 0.30371078555216396.\n",
      "INFO:geometry:\treduced angle potential = 0.1787435709716491.\n",
      "INFO:geometry:\treduced angle potential = 1.2671174747448488.\n",
      "INFO:geometry:\treduced angle potential = 0.16377193726327216.\n",
      "INFO:geometry:\treduced angle potential = 0.22854563176921464.\n",
      "INFO:geometry:\treduced angle potential = 0.9409811820835481.\n",
      "INFO:geometry:\treduced angle potential = 1.5553810139515318.\n",
      "INFO:geometry:\treduced angle potential = 0.0367184200993978.\n",
      "INFO:geometry:\treduced angle potential = 1.0566874525411776.\n",
      "INFO:geometry:\treduced angle potential = 0.508312685274656.\n",
      "INFO:geometry:\treduced angle potential = 0.7028900846487783.\n",
      "INFO:geometry:\treduced angle potential = 0.004003342084449102.\n",
      "INFO:geometry:\treduced angle potential = 0.023603849547898088.\n",
      "INFO:geometry:\tbeginning construction of no_nonbonded final system...\n",
      "INFO:geometry:\tinitial no-nonbonded final system forces ['HarmonicBondForce', 'HarmonicAngleForce', 'PeriodicTorsionForce', 'NonbondedForce', 'MonteCarloBarostat']\n",
      "INFO:geometry:\tfinal no-nonbonded final system forces dict_keys(['HarmonicBondForce', 'HarmonicAngleForce', 'PeriodicTorsionForce', 'NonbondedForce'])\n",
      "INFO:geometry:\tthere are 15 bond forces in the no-nonbonded final system\n",
      "INFO:geometry:\tthere are 60 angle forces in the no-nonbonded final system\n",
      "INFO:geometry:\tthere are 78 torsion forces in the no-nonbonded final system\n",
      "INFO:geometry:forward final system defined with 0 neglected angles.\n"
     ]
    },
    {
     "name": "stdout",
     "output_type": "stream",
     "text": [
      "conducting subsequent work with the following platform: CUDA\n",
      "conducting subsequent work with the following platform: CUDA\n"
     ]
    },
    {
     "name": "stderr",
     "output_type": "stream",
     "text": [
      "INFO:geometry:total reduced potential before atom placement: 31.360407235469566\n"
     ]
    },
    {
     "name": "stdout",
     "output_type": "stream",
     "text": [
      "conducting subsequent work with the following platform: CUDA\n",
      "conducting subsequent work with the following platform: CUDA\n",
      "conducting subsequent work with the following platform: CUDA\n"
     ]
    },
    {
     "name": "stderr",
     "output_type": "stream",
     "text": [
      "INFO:geometry:total reduced energy added from growth system: -449.62423524016236\n",
      "INFO:geometry:final reduced energy -418.26383567378554\n",
      "INFO:geometry:sum of energies: -418.2638280046928\n",
      "INFO:geometry:magnitude of difference in the energies: 7.669092724427173e-06\n",
      "INFO:geometry:Final logp_proposal: 101.32721138523773\n"
     ]
    },
    {
     "name": "stdout",
     "output_type": "stream",
     "text": [
      "added energy components: [('CustomBondForce', 2.4655512407347517), ('CustomAngleForce', 16.28733549580645), ('CustomTorsionForce', 6.90067556073943), ('CustomBondForce', -475.27779753744306)]\n"
     ]
    },
    {
     "name": "stderr",
     "output_type": "stream",
     "text": [
      "INFO:geometry:logp_reverse: performing reverse proposal\n",
      "INFO:geometry:logp_reverse: unique new atoms detected; proceeding to _logp_propose...\n",
      "INFO:geometry:Conducting forward proposal...\n",
      "INFO:geometry:Computing proposal order with NetworkX...\n",
      "INFO:geometry:number of atoms to be placed: 3\n",
      "INFO:geometry:Atom index proposal order is [12, 15, 11]\n",
      "INFO:geometry:omitted_bonds: []\n",
      "INFO:geometry:direction of proposal is reverse; creating atoms_with_positions from old system/topology\n",
      "INFO:geometry:creating growth system...\n",
      "INFO:geometry:\tcreating bond force...\n",
      "INFO:geometry:\tthere are 9 bonds in reference force.\n",
      "INFO:geometry:\tcreating angle force...\n",
      "INFO:geometry:\tthere are 36 angles in reference force.\n",
      "INFO:geometry:\tcreating torsion force...\n",
      "INFO:geometry:\tcreating extra torsions force...\n",
      "INFO:geometry:\tthere are 42 torsions in reference force.\n",
      "INFO:geometry:\tcreating nonbonded force...\n",
      "INFO:geometry:\t\tgrabbing reference nonbonded method, cutoff, switching function, switching distance...\n",
      "INFO:geometry:\t\tcreating nonbonded exception force (i.e. custom bond for 1,4s)...\n",
      "INFO:geometry:\t\tlooping through exceptions calculating growth indices, and adding appropriate interactions to custom bond force.\n",
      "INFO:geometry:\t\tthere are 1625 in the reference Nonbonded force\n",
      "INFO:geometry:Neglected angle terms : []\n",
      "INFO:geometry:omitted_growth_terms: {'bonds': [], 'angles': [], 'torsions': [], '1,4s': []}\n",
      "INFO:geometry:extra torsions: {0: (6, 8, 10, 15, [1, Quantity(value=2.105358864604291, unit=radian), Quantity(value=1200.0, unit=kilocalorie/mole), 2]), 1: (6, 8, 10, 11, [1, Quantity(value=-2.0823006129211796, unit=radian), Quantity(value=1200.0, unit=kilocalorie/mole), 3]), 2: (6, 8, 10, 12, [1, Quantity(value=0.018582237407944735, unit=radian), Quantity(value=1200.0, unit=kilocalorie/mole), 1]), 3: (13, 8, 10, 15, [1, Quantity(value=-0.036945135932107576, unit=radian), Quantity(value=1200.0, unit=kilocalorie/mole), 2]), 4: (13, 8, 10, 11, [1, Quantity(value=2.0585806937220097, unit=radian), Quantity(value=1200.0, unit=kilocalorie/mole), 3]), 5: (13, 8, 10, 12, [1, Quantity(value=-2.1237217631284597, unit=radian), Quantity(value=1200.0, unit=kilocalorie/mole), 1]), 6: (9, 8, 10, 15, [1, Quantity(value=-2.119603470065817, unit=radian), Quantity(value=1200.0, unit=kilocalorie/mole), 2]), 7: (9, 8, 10, 11, [1, Quantity(value=-0.024077640411697132, unit=radian), Quantity(value=1200.0, unit=kilocalorie/mole), 3]), 8: (9, 8, 10, 12, [1, Quantity(value=2.0768052099174152, unit=radian), Quantity(value=1200.0, unit=kilocalorie/mole), 1])}\n",
      "INFO:geometry:neglected angle terms include []\n",
      "INFO:geometry:log probability choice of torsions and atom order: -5.0875963352323845\n",
      "INFO:geometry:creating platform, integrators, and contexts; setting growth parameter\n"
     ]
    },
    {
     "name": "stdout",
     "output_type": "stream",
     "text": [
      "conducting subsequent work with the following platform: CUDA\n"
     ]
    },
    {
     "name": "stderr",
     "output_type": "stream",
     "text": [
      "INFO:geometry:setting atoms_with_positions context old positions\n"
     ]
    },
    {
     "name": "stdout",
     "output_type": "stream",
     "text": [
      "conducting subsequent work with the following platform: CUDA\n"
     ]
    },
    {
     "name": "stderr",
     "output_type": "stream",
     "text": [
      "INFO:geometry:There are 3 new atoms\n",
      "INFO:geometry:\treduced angle potential = 0.25005281787635764.\n",
      "INFO:geometry:\treduced angle potential = 0.8234539492149762.\n",
      "INFO:geometry:\treduced angle potential = 0.3096300511603986.\n",
      "INFO:geometry:\tbeginning construction of no_nonbonded final system...\n",
      "INFO:geometry:\tinitial no-nonbonded final system forces ['HarmonicBondForce', 'HarmonicAngleForce', 'PeriodicTorsionForce', 'NonbondedForce', 'MonteCarloBarostat']\n",
      "INFO:geometry:\tfinal no-nonbonded final system forces dict_keys(['HarmonicBondForce', 'HarmonicAngleForce', 'PeriodicTorsionForce', 'NonbondedForce'])\n",
      "INFO:geometry:\tthere are 9 bond forces in the no-nonbonded final system\n",
      "INFO:geometry:\tthere are 36 angle forces in the no-nonbonded final system\n",
      "INFO:geometry:\tthere are 42 torsion forces in the no-nonbonded final system\n",
      "INFO:geometry:reverse final system defined with 0 neglected angles.\n"
     ]
    },
    {
     "name": "stdout",
     "output_type": "stream",
     "text": [
      "conducting subsequent work with the following platform: CUDA\n",
      "conducting subsequent work with the following platform: CUDA\n"
     ]
    },
    {
     "name": "stderr",
     "output_type": "stream",
     "text": [
      "INFO:geometry:total reduced potential before atom placement: 31.36040723546956\n"
     ]
    },
    {
     "name": "stdout",
     "output_type": "stream",
     "text": [
      "conducting subsequent work with the following platform: CUDA\n",
      "conducting subsequent work with the following platform: CUDA\n",
      "conducting subsequent work with the following platform: CUDA\n"
     ]
    },
    {
     "name": "stderr",
     "output_type": "stream",
     "text": [
      "INFO:geometry:total reduced energy added from growth system: 10.37413019278795\n",
      "INFO:geometry:final reduced energy 41.734536894734866\n",
      "INFO:geometry:sum of energies: 41.73453742825751\n",
      "INFO:geometry:magnitude of difference in the energies: 5.335226429536988e-07\n",
      "INFO:geometry:Final logp_proposal: -29402.849642168523\n"
     ]
    },
    {
     "name": "stdout",
     "output_type": "stream",
     "text": [
      "added energy components: [('CustomBondForce', 0.0), ('CustomAngleForce', 1.844563196308122), ('CustomTorsionForce', 0.31379330968913627), ('CustomBondForce', 8.21577368679069)]\n"
     ]
    },
    {
     "name": "stderr",
     "output_type": "stream",
     "text": [
      "INFO:setup:charge diff: -1\n",
      "INFO:setup:new water indices to ionize [981 982 983]\n",
      "INFO:relative:*** Generating vanilla HybridTopologyFactory ***\n",
      "INFO:relative:Beginning nonbonded method, total particle, barostat, and exceptions retrieval...\n",
      "INFO:relative:Flattening exceptions of unique new/old at lambda = 0/1\n",
      "INFO:relative:Old system forces: dict_keys(['HarmonicBondForce', 'HarmonicAngleForce', 'PeriodicTorsionForce', 'NonbondedForce', 'MonteCarloBarostat'])\n",
      "INFO:relative:New system forces: dict_keys(['HarmonicBondForce', 'HarmonicAngleForce', 'PeriodicTorsionForce', 'NonbondedForce', 'MonteCarloBarostat'])\n",
      "INFO:relative:No unknown forces.\n",
      "INFO:relative:Nonbonded method to be used (i.e. from old system): 4\n",
      "INFO:relative:Adding and mapping old atoms to hybrid system...\n",
      "INFO:relative:Adding and mapping new atoms to hybrid system...\n",
      "INFO:relative:Added MonteCarloBarostat.\n",
      "INFO:relative:getDefaultPeriodicBoxVectors added to hybrid: [Quantity(value=Vec3(x=2.7648, y=0.0, z=0.0), unit=nanometer), Quantity(value=Vec3(x=0.9215990612312835, y=2.6066787700707614, z=0.0), unit=nanometer), Quantity(value=Vec3(x=-0.9215990612312832, y=1.303337393606965, z=2.2574511841374156), unit=nanometer)]\n",
      "INFO:relative:Determined atom classes.\n",
      "INFO:relative:Generating old system exceptions dict...\n",
      "INFO:relative:Generating new system exceptions dict...\n",
      "INFO:relative:Handling constraints...\n",
      "INFO:relative:Handling virtual sites...\n",
      "INFO:relative:\t_handle_virtual_sites: numVirtualSites: 0\n",
      "INFO:relative:Adding bond force terms...\n",
      "INFO:relative:Adding angle force terms...\n",
      "INFO:relative:Adding torsion force terms...\n",
      "INFO:relative:Adding nonbonded force terms...\n",
      "INFO:relative:\t_add_nonbonded_force_terms: <openmm.openmm.NonbondedForce; proxy of <Swig Object of type 'OpenMM::NonbondedForce *' at 0x2b9d61d71c00> > added to hybrid system\n",
      "INFO:relative:\t_add_nonbonded_force_terms: nonbonded_method is PME or Ewald\n",
      "INFO:relative:\t_add_nonbonded_force_terms: 4 added to standard nonbonded force\n",
      "INFO:relative:\t_add_nonbonded_force_terms: 2 added to sterics_custom_nonbonded force\n",
      "INFO:relative:\t_add_nonbonded_force_terms: <openmm.openmm.CustomNonbondedForce; proxy of <Swig Object of type 'OpenMM::CustomNonbondedForce *' at 0x2b9d61d71ab0> > added to hybrid system\n",
      "INFO:relative:Handling harmonic bonds...\n",
      "INFO:relative:\thandle_harmonic_bonds: looping through old_system to add relevant terms...\n",
      "INFO:relative:\thandle_harmonic_bonds: looping through new_system to add relevant terms...\n",
      "INFO:relative:Handling harmonic angles...\n",
      "INFO:relative:\thandle_harmonic_angles: looping through old_system to add relevant terms...\n",
      "INFO:relative:\thandle_harmonic_angles: looping through new_system to add relevant terms...\n",
      "INFO:relative:Handling torsion forces...\n",
      "INFO:relative:\thandle_periodic_torsion_forces: looping through old_system to add relevant terms...\n",
      "INFO:relative:\thandle_periodic_torsion_forces: looping through new_system to add relevant terms...\n",
      "INFO:relative:Handling nonbonded forces...\n",
      "INFO:relative:\thandle_nonbonded: looping through all particles in hybrid...\n",
      "INFO:relative:\thandle_nonbonded: Handling Interaction Groups...\n",
      "INFO:relative:\thandle_nonbonded: Handling Hybrid Exceptions...\n",
      "INFO:relative:\thandle_nonbonded: Handling Original Exceptions...\n",
      "INFO:relative:Handling unique_new/old interaction exceptions...\n",
      "INFO:relative:There are old or new system exceptions...proceeding.\n",
      "INFO:relative:Imposing virtual bonds to ensure system is imaged together.\n",
      "INFO:relative:\t\t_impose_virtual_bonds: No restraint added because sets overlap (core_atoms=[1, 4, 5, 6, 967, 8, 10, 13, 14, 16, 18], protein_atoms=[8])\n",
      "INFO:relative:*** Generating RESTCapableHybridTopologyFactory ***\n",
      "INFO:relative:Old system forces: dict_keys(['HarmonicBondForce', 'HarmonicAngleForce', 'PeriodicTorsionForce', 'NonbondedForce', 'MonteCarloBarostat'])\n",
      "INFO:relative:New system forces: dict_keys(['HarmonicBondForce', 'HarmonicAngleForce', 'PeriodicTorsionForce', 'NonbondedForce', 'MonteCarloBarostat'])\n",
      "INFO:relative:No unknown forces.\n",
      "INFO:relative:r_cutoff is 1.0 nm\n",
      "INFO:relative:alpha_ewald is 2.7569734238004693\n",
      "INFO:relative:w_scale is 1.0\n",
      "INFO:relative:Creating hybrid system\n",
      "INFO:relative:Adding and mapping old atoms to hybrid system...\n",
      "INFO:relative:Adding and mapping new atoms to hybrid system...\n",
      "INFO:relative:Added MonteCarloBarostat.\n",
      "INFO:relative:getDefaultPeriodicBoxVectors added to hybrid: [Quantity(value=Vec3(x=2.7648, y=0.0, z=0.0), unit=nanometer), Quantity(value=Vec3(x=0.9215990612312835, y=2.6066787700707614, z=0.0), unit=nanometer), Quantity(value=Vec3(x=-0.9215990612312832, y=1.303337393606965, z=2.2574511841374156), unit=nanometer)]\n",
      "INFO:relative:Determined atom classes.\n",
      "INFO:relative:Computed hybrid positions\n",
      "INFO:relative:Created hybrid topology\n",
      "INFO:relative:Generating rest_region with query indices: [6, 7, 8, 9, 10, 11, 12, 13, 14, 15, 1551, 1552, 1553, 1554, 1555, 1556, 1557, 1558, 1559, 1560, 1561, 1562, 1563, 1564, 1565, 1566, 1567]\n",
      "INFO:relative:Rest radius: 0.3 nm\n",
      "INFO:relative:Rest region: [0, 1, 2, 3, 4, 5, 6, 7, 8, 9, 10, 11, 12, 13, 14, 15, 1551, 1552, 1553, 1554, 1555, 1556, 1557, 1558, 1559, 1560, 1561, 1562, 1563, 1564, 1565, 1566, 1567, 16, 17, 18, 19, 20, 21]\n",
      "INFO:relative:Prepped look up dict for determining if atom is solvent\n",
      "INFO:relative:Generating old system exceptions dict...\n",
      "INFO:relative:Generating new system exceptions dict...\n",
      "INFO:relative:Handling constraints...\n",
      "INFO:relative:Handling virtual sites...\n",
      "INFO:relative:\t_handle_virtual_sites: numVirtualSites: 0\n",
      "INFO:relative:Handling bonds...\n",
      "INFO:relative:Handling angles...\n",
      "INFO:relative:Handling torsions...\n",
      "INFO:relative:Handling nonbondeds (creating forces)...\n",
      "INFO:relative:Handling nonbondeds (copying nonbonded particles)...\n",
      "INFO:relative:Handling nonbondeds (copying nonbonded exceptions)...\n",
      "INFO:setup:Saving htfs as pickles\n",
      "INFO:setup:sterics expression: U_sterics; U_sterics = 4 * epsilon * x * (x - 1.0);x = (sigma / r_eff_sterics)^6;sigma = (sigma1 + sigma2) / 2; epsilon = sterics_rest_scale1 * sterics_rest_scale2 * sqrt(epsilon_combined); epsilon_combined = step(epsilon1 * epsilon2) * epsilon1 * epsilon2; r_eff_sterics = sqrt(r^2 + w_sterics^2); w_sterics = w_scale * r_cutoff * (is_unique_old * (1 - lambda_alchemical_sterics_old) + is_unique_new * (1 - lambda_alchemical_sterics_new)); is_unique_old = step(is_unique_old1 + is_unique_old2 - 0.1); is_unique_new = step(is_unique_new1 + is_unique_new2 - 0.1); w_scale = 1.0; r_cutoff = 1.0;\n",
      "INFO:setup:forces: [<openmm.openmm.MonteCarloBarostat; proxy of <Swig Object of type 'OpenMM::MonteCarloBarostat *' at 0x2b9d61f06cc0> >, <openmm.openmm.CustomBondForce; proxy of <Swig Object of type 'OpenMM::CustomBondForce *' at 0x2b9d61f06690> >, <openmm.openmm.CustomAngleForce; proxy of <Swig Object of type 'OpenMM::CustomAngleForce *' at 0x2b9d61f06c60> >, <openmm.openmm.CustomTorsionForce; proxy of <Swig Object of type 'OpenMM::CustomTorsionForce *' at 0x2b9d61f06510> >, <openmm.openmm.CustomNonbondedForce; proxy of <Swig Object of type 'OpenMM::CustomNonbondedForce *' at 0x2b9d61f06ab0> >, <openmm.openmm.CustomNonbondedForce; proxy of <Swig Object of type 'OpenMM::CustomNonbondedForce *' at 0x2b9d61f06810> >, <openmm.openmm.CustomBondForce; proxy of <Swig Object of type 'OpenMM::CustomBondForce *' at 0x2b9d61f06fc0> >, <openmm.openmm.NonbondedForce; proxy of <Swig Object of type 'OpenMM::NonbondedForce *' at 0x2b9d61f06c00> >, <openmm.openmm.NonbondedForce; proxy of <Swig Object of type 'OpenMM::NonbondedForce *' at 0x2b9d61f06ae0> >]\n",
      "INFO:setup:number of particles in apo: 1568\n",
      "INFO:setup:number of particles in apo rest region: 39\n"
     ]
    },
    {
     "name": "stdout",
     "output_type": "stream",
     "text": [
      "apo rest region atoms:\n",
      "ACE1-H1\n",
      "ACE1-CH3\n",
      "ACE1-H2\n",
      "ACE1-H3\n",
      "ACE1-C\n",
      "ACE1-O\n",
      "ALA2-N\n",
      "ALA2-H\n",
      "ALA2-CA\n",
      "ALA2-HA\n",
      "ALA2-CB\n",
      "ALA2-HB2\n",
      "ALA2-HB3\n",
      "ALA2-C\n",
      "ALA2-O\n",
      "ALA2-HB1\n",
      "ALA2-HB2\n",
      "ALA2-HB3\n",
      "ALA2-CG\n",
      "ALA2-HG2\n",
      "ALA2-HG3\n",
      "ALA2-CD\n",
      "ALA2-HD2\n",
      "ALA2-HD3\n",
      "ALA2-NE\n",
      "ALA2-HE\n",
      "ALA2-CZ\n",
      "ALA2-NH1\n",
      "ALA2-HH11\n",
      "ALA2-HH12\n",
      "ALA2-NH2\n",
      "ALA2-HH21\n",
      "ALA2-HH22\n",
      "NME3-N\n",
      "NME3-H\n",
      "NME3-C\n",
      "NME3-H1\n",
      "NME3-H2\n",
      "NME3-H3\n"
     ]
    }
   ],
   "source": [
    " outdir = \"/data/chodera/zhangi/perses_benchmark/repex/38/28/\"\n",
    "residue = '2'\n",
    "mutant = 'ARG'\n",
    "\n",
    "apo_file = \"/data/chodera/zhangi/perses_benchmark/repex/38/28/equil/apo_equilibrated.cif\" \n",
    "\n",
    "solvent_delivery = generate_htf(outdir, residue, mutant, apo_file, w_scale=1.0)"
   ]
  },
  {
   "cell_type": "code",
   "execution_count": 13,
   "id": "e7c19f7e",
   "metadata": {
    "scrolled": true
   },
   "outputs": [
    {
     "name": "stderr",
     "output_type": "stream",
     "text": [
      "DEBUG:openmmforcefields.system_generators:Trying GAFFTemplateGenerator to load gaff-2.11\n",
      "INFO:proposal_generator:\tConducting polymer point mutation proposal...\n",
      "INFO:proposal_generator:local_atom_map: {6: 6, 7: 7, 8: 8, 9: 9, 10: 10, 13: 13, 14: 14}\n",
      "INFO:proposal_generator:the mapped atom names are: [('N', 'N'), ('H', 'H'), ('CA', 'CA'), ('HA', 'HA'), ('CB', 'CB'), ('C', 'C'), ('O', 'O')]\n",
      "INFO:geometry:propose: performing forward proposal\n",
      "INFO:geometry:propose: unique new atoms detected; proceeding to _logp_propose...\n",
      "INFO:geometry:Conducting forward proposal...\n",
      "INFO:geometry:Computing proposal order with NetworkX...\n",
      "INFO:geometry:number of atoms to be placed: 3\n",
      "INFO:geometry:Atom index proposal order is [11, 12, 15]\n",
      "INFO:geometry:omitted_bonds: []\n",
      "INFO:geometry:direction of proposal is forward; creating atoms_with_positions and new positions from old system/topology...\n",
      "INFO:geometry:creating growth system...\n",
      "INFO:geometry:\tcreating bond force...\n",
      "INFO:geometry:\tthere are 9 bonds in reference force.\n",
      "INFO:geometry:\tcreating angle force...\n",
      "INFO:geometry:\tthere are 36 angles in reference force.\n",
      "INFO:geometry:\tcreating torsion force...\n",
      "INFO:geometry:\tcreating extra torsions force...\n",
      "INFO:geometry:\tthere are 42 torsions in reference force.\n",
      "INFO:geometry:\tcreating nonbonded force...\n",
      "INFO:geometry:\t\tgrabbing reference nonbonded method, cutoff, switching function, switching distance...\n",
      "INFO:geometry:\t\tcreating nonbonded exception force (i.e. custom bond for 1,4s)...\n",
      "INFO:geometry:\t\tlooping through exceptions calculating growth indices, and adding appropriate interactions to custom bond force.\n",
      "INFO:geometry:\t\tthere are 98 in the reference Nonbonded force\n",
      "INFO:geometry:Neglected angle terms : []\n",
      "INFO:geometry:omitted_growth_terms: {'bonds': [], 'angles': [], 'torsions': [], '1,4s': []}\n",
      "INFO:geometry:extra torsions: {0: (6, 8, 10, 15, [1, Quantity(value=2.105358864604291, unit=radian), Quantity(value=1200.0, unit=kilocalorie/mole), 3]), 1: (6, 8, 10, 11, [1, Quantity(value=-2.0823006129211796, unit=radian), Quantity(value=1200.0, unit=kilocalorie/mole), 1]), 2: (6, 8, 10, 12, [1, Quantity(value=0.018582237407944735, unit=radian), Quantity(value=1200.0, unit=kilocalorie/mole), 2]), 3: (13, 8, 10, 15, [1, Quantity(value=-0.036945135932107576, unit=radian), Quantity(value=1200.0, unit=kilocalorie/mole), 3]), 4: (13, 8, 10, 11, [1, Quantity(value=2.0585806937220097, unit=radian), Quantity(value=1200.0, unit=kilocalorie/mole), 1]), 5: (13, 8, 10, 12, [1, Quantity(value=-2.1237217631284597, unit=radian), Quantity(value=1200.0, unit=kilocalorie/mole), 2]), 6: (9, 8, 10, 15, [1, Quantity(value=-2.119603470065817, unit=radian), Quantity(value=1200.0, unit=kilocalorie/mole), 3]), 7: (9, 8, 10, 11, [1, Quantity(value=-0.024077640411697132, unit=radian), Quantity(value=1200.0, unit=kilocalorie/mole), 1]), 8: (9, 8, 10, 12, [1, Quantity(value=2.0768052099174152, unit=radian), Quantity(value=1200.0, unit=kilocalorie/mole), 2])}\n",
      "INFO:geometry:neglected angle terms include []\n",
      "INFO:geometry:log probability choice of torsions and atom order: -5.0875963352323845\n",
      "INFO:geometry:creating platform, integrators, and contexts; setting growth parameter\n"
     ]
    },
    {
     "name": "stdout",
     "output_type": "stream",
     "text": [
      "None\n",
      "[Quantity(value=Vec3(x=2.0, y=0.0, z=0.0), unit=nanometer), Quantity(value=Vec3(x=0.0, y=2.0, z=0.0), unit=nanometer), Quantity(value=Vec3(x=0.0, y=0.0, z=2.0), unit=nanometer)]\n",
      "False\n",
      "[Quantity(value=Vec3(x=2.0, y=0.0, z=0.0), unit=nanometer), Quantity(value=Vec3(x=0.0, y=2.0, z=0.0), unit=nanometer), Quantity(value=Vec3(x=0.0, y=0.0, z=2.0), unit=nanometer)]\n",
      "False\n",
      "conducting subsequent work with the following platform: CUDA\n"
     ]
    },
    {
     "name": "stderr",
     "output_type": "stream",
     "text": [
      "INFO:geometry:setting atoms_with_positions context new positions\n"
     ]
    },
    {
     "name": "stdout",
     "output_type": "stream",
     "text": [
      "conducting subsequent work with the following platform: CUDA\n"
     ]
    },
    {
     "name": "stderr",
     "output_type": "stream",
     "text": [
      "INFO:geometry:There are 3 new atoms\n",
      "INFO:geometry:\treduced angle potential = 0.08976471143527215.\n",
      "INFO:geometry:\treduced angle potential = 0.7269123231566724.\n",
      "INFO:geometry:\treduced angle potential = 0.020494395439606742.\n",
      "INFO:geometry:\tbeginning construction of no_nonbonded final system...\n",
      "INFO:geometry:\tinitial no-nonbonded final system forces ['HarmonicBondForce', 'HarmonicAngleForce', 'PeriodicTorsionForce', 'NonbondedForce']\n",
      "INFO:geometry:\tfinal no-nonbonded final system forces dict_keys(['HarmonicBondForce', 'HarmonicAngleForce', 'PeriodicTorsionForce', 'NonbondedForce'])\n",
      "INFO:geometry:\tthere are 9 bond forces in the no-nonbonded final system\n",
      "INFO:geometry:\tthere are 36 angle forces in the no-nonbonded final system\n",
      "INFO:geometry:\tthere are 42 torsion forces in the no-nonbonded final system\n",
      "INFO:geometry:forward final system defined with 0 neglected angles.\n"
     ]
    },
    {
     "name": "stdout",
     "output_type": "stream",
     "text": [
      "conducting subsequent work with the following platform: CUDA\n",
      "conducting subsequent work with the following platform: CUDA\n"
     ]
    },
    {
     "name": "stderr",
     "output_type": "stream",
     "text": [
      "INFO:geometry:total reduced potential before atom placement: 42.539566350871226\n"
     ]
    },
    {
     "name": "stdout",
     "output_type": "stream",
     "text": [
      "conducting subsequent work with the following platform: CUDA\n",
      "conducting subsequent work with the following platform: CUDA\n",
      "conducting subsequent work with the following platform: CUDA\n"
     ]
    },
    {
     "name": "stderr",
     "output_type": "stream",
     "text": [
      "INFO:geometry:total reduced energy added from growth system: 9.049481068164713\n",
      "INFO:geometry:final reduced energy 51.58904689974889\n",
      "INFO:geometry:sum of energies: 51.589047419035936\n",
      "INFO:geometry:magnitude of difference in the energies: 5.192870524695081e-07\n",
      "INFO:geometry:Final logp_proposal: 21.516596321951067\n"
     ]
    },
    {
     "name": "stdout",
     "output_type": "stream",
     "text": [
      "added energy components: [('CustomBondForce', 0.0), ('CustomAngleForce', 0.9141936396474039), ('CustomTorsionForce', 0.08808874865726839), ('CustomBondForce', 8.047198679860042)]\n"
     ]
    },
    {
     "name": "stderr",
     "output_type": "stream",
     "text": [
      "INFO:geometry:logp_reverse: performing reverse proposal\n",
      "INFO:geometry:logp_reverse: unique new atoms detected; proceeding to _logp_propose...\n",
      "INFO:geometry:Conducting forward proposal...\n",
      "INFO:geometry:Computing proposal order with NetworkX...\n",
      "INFO:geometry:number of atoms to be placed: 17\n",
      "INFO:geometry:Atom index proposal order is [15, 18, 21, 23, 24, 27, 16, 20, 22, 17, 11, 25, 19, 29, 12, 28, 26]\n",
      "INFO:geometry:omitted_bonds: []\n",
      "INFO:geometry:direction of proposal is reverse; creating atoms_with_positions from old system/topology\n",
      "INFO:geometry:creating growth system...\n",
      "INFO:geometry:\tcreating bond force...\n",
      "INFO:geometry:\tthere are 15 bonds in reference force.\n",
      "INFO:geometry:\tcreating angle force...\n",
      "INFO:geometry:\tthere are 60 angles in reference force.\n",
      "INFO:geometry:\tcreating torsion force...\n",
      "INFO:geometry:\tcreating extra torsions force...\n",
      "INFO:geometry:\tthere are 78 torsions in reference force.\n",
      "INFO:geometry:\tcreating nonbonded force...\n",
      "INFO:geometry:\t\tgrabbing reference nonbonded method, cutoff, switching function, switching distance...\n",
      "INFO:geometry:\t\tcreating nonbonded exception force (i.e. custom bond for 1,4s)...\n",
      "INFO:geometry:\t\tlooping through exceptions calculating growth indices, and adding appropriate interactions to custom bond force.\n",
      "INFO:geometry:\t\tthere are 172 in the reference Nonbonded force\n",
      "INFO:geometry:Neglected angle terms : []\n",
      "INFO:geometry:omitted_growth_terms: {'bonds': [], 'angles': [], 'torsions': [], '1,4s': []}\n",
      "INFO:geometry:extra torsions: {0: (28, 27, 23, 21, [1, Quantity(value=3.1400479780546657, unit=radian), Quantity(value=1200.0, unit=kilocalorie/mole), 16]), 1: (28, 27, 23, 24, [1, Quantity(value=-0.0009854700401916716, unit=radian), Quantity(value=1200.0, unit=kilocalorie/mole), 16]), 2: (29, 27, 23, 21, [1, Quantity(value=-0.0019499207113558015, unit=radian), Quantity(value=1200.0, unit=kilocalorie/mole), 14]), 3: (29, 27, 23, 24, [1, Quantity(value=3.1402019383733304, unit=radian), Quantity(value=1200.0, unit=kilocalorie/mole), 14]), 4: (27, 23, 24, 26, [1, Quantity(value=-3.141011085169936, unit=radian), Quantity(value=1200.0, unit=kilocalorie/mole), 17]), 5: (27, 23, 24, 25, [1, Quantity(value=0.0013841937088012735, unit=radian), Quantity(value=1200.0, unit=kilocalorie/mole), 12]), 6: (21, 23, 24, 26, [1, Quantity(value=0.0011725432810614222, unit=radian), Quantity(value=1200.0, unit=kilocalorie/mole), 17]), 7: (21, 23, 24, 25, [1, Quantity(value=-3.1396174850195098, unit=radian), Quantity(value=1200.0, unit=kilocalorie/mole), 12])}\n",
      "INFO:geometry:neglected angle terms include []\n",
      "INFO:geometry:log probability choice of torsions and atom order: -30.869433932815003\n",
      "INFO:geometry:creating platform, integrators, and contexts; setting growth parameter\n"
     ]
    },
    {
     "name": "stdout",
     "output_type": "stream",
     "text": [
      "conducting subsequent work with the following platform: CUDA\n"
     ]
    },
    {
     "name": "stderr",
     "output_type": "stream",
     "text": [
      "INFO:geometry:setting atoms_with_positions context old positions\n"
     ]
    },
    {
     "name": "stdout",
     "output_type": "stream",
     "text": [
      "conducting subsequent work with the following platform: CUDA\n"
     ]
    },
    {
     "name": "stderr",
     "output_type": "stream",
     "text": [
      "INFO:geometry:There are 17 new atoms\n",
      "INFO:geometry:\treduced angle potential = 0.042853125757750306.\n",
      "INFO:geometry:\treduced angle potential = 0.11918491356084256.\n",
      "INFO:geometry:\treduced angle potential = 0.03558938425976845.\n",
      "INFO:geometry:\treduced angle potential = 3.063706070595789e-05.\n",
      "INFO:geometry:\treduced angle potential = 0.1283940070536202.\n",
      "INFO:geometry:\treduced angle potential = 0.3856161427963459.\n",
      "INFO:geometry:\treduced angle potential = 0.05013507617612865.\n",
      "INFO:geometry:\treduced angle potential = 0.39463143613777724.\n",
      "INFO:geometry:\treduced angle potential = 0.3345265489620942.\n",
      "INFO:geometry:\treduced angle potential = 0.466213462801573.\n",
      "INFO:geometry:\treduced angle potential = 0.014831313710720695.\n",
      "INFO:geometry:\treduced angle potential = 0.3039552128830515.\n",
      "INFO:geometry:\treduced angle potential = 0.1891037527507676.\n",
      "INFO:geometry:\treduced angle potential = 0.006867661209664784.\n",
      "INFO:geometry:\treduced angle potential = 1.2253845407775443.\n",
      "INFO:geometry:\treduced angle potential = 0.37202362757935775.\n",
      "INFO:geometry:\treduced angle potential = 0.0395257051882019.\n",
      "INFO:geometry:\tbeginning construction of no_nonbonded final system...\n",
      "INFO:geometry:\tinitial no-nonbonded final system forces ['HarmonicBondForce', 'HarmonicAngleForce', 'PeriodicTorsionForce', 'NonbondedForce']\n",
      "INFO:geometry:\tfinal no-nonbonded final system forces dict_keys(['HarmonicBondForce', 'HarmonicAngleForce', 'PeriodicTorsionForce', 'NonbondedForce'])\n",
      "INFO:geometry:\tthere are 15 bond forces in the no-nonbonded final system\n",
      "INFO:geometry:\tthere are 60 angle forces in the no-nonbonded final system\n",
      "INFO:geometry:\tthere are 78 torsion forces in the no-nonbonded final system\n",
      "INFO:geometry:reverse final system defined with 0 neglected angles.\n"
     ]
    },
    {
     "name": "stdout",
     "output_type": "stream",
     "text": [
      "conducting subsequent work with the following platform: CUDA\n",
      "conducting subsequent work with the following platform: CUDA\n"
     ]
    },
    {
     "name": "stderr",
     "output_type": "stream",
     "text": [
      "INFO:geometry:total reduced potential before atom placement: 42.539566350871226\n"
     ]
    },
    {
     "name": "stdout",
     "output_type": "stream",
     "text": [
      "conducting subsequent work with the following platform: CUDA\n",
      "conducting subsequent work with the following platform: CUDA\n",
      "conducting subsequent work with the following platform: CUDA\n"
     ]
    },
    {
     "name": "stderr",
     "output_type": "stream",
     "text": [
      "INFO:geometry:total reduced energy added from growth system: -478.8342662842031\n",
      "INFO:geometry:final reduced energy -436.2947077009399\n",
      "INFO:geometry:sum of energies: -436.2946999333319\n",
      "INFO:geometry:magnitude of difference in the energies: 7.767607996811421e-06\n",
      "INFO:geometry:Final logp_proposal: -31446.19866757957\n"
     ]
    },
    {
     "name": "stdout",
     "output_type": "stream",
     "text": [
      "added energy components: [('CustomBondForce', 8.159981229252093), ('CustomAngleForce', 9.07511207953895), ('CustomTorsionForce', 4.707969376224987), ('CustomBondForce', -500.77732896921924)]\n"
     ]
    },
    {
     "name": "stderr",
     "output_type": "stream",
     "text": [
      "INFO:setup:skipping counterion functionality because phase is vacuum\n",
      "INFO:relative:*** Generating vanilla HybridTopologyFactory ***\n",
      "INFO:relative:Beginning nonbonded method, total particle, barostat, and exceptions retrieval...\n",
      "INFO:relative:Flattening exceptions of unique new/old at lambda = 0/1\n",
      "INFO:relative:Old system forces: dict_keys(['HarmonicBondForce', 'HarmonicAngleForce', 'PeriodicTorsionForce', 'NonbondedForce'])\n",
      "INFO:relative:New system forces: dict_keys(['HarmonicBondForce', 'HarmonicAngleForce', 'PeriodicTorsionForce', 'NonbondedForce'])\n",
      "INFO:relative:No unknown forces.\n",
      "INFO:relative:Nonbonded method to be used (i.e. from old system): 0\n",
      "INFO:relative:Adding and mapping old atoms to hybrid system...\n",
      "INFO:relative:Adding and mapping new atoms to hybrid system...\n",
      "INFO:relative:No MonteCarloBarostat added.\n",
      "INFO:relative:getDefaultPeriodicBoxVectors added to hybrid: [Quantity(value=Vec3(x=2.0, y=0.0, z=0.0), unit=nanometer), Quantity(value=Vec3(x=0.0, y=2.0, z=0.0), unit=nanometer), Quantity(value=Vec3(x=0.0, y=0.0, z=2.0), unit=nanometer)]\n",
      "INFO:relative:Determined atom classes.\n",
      "INFO:relative:Generating old system exceptions dict...\n",
      "INFO:relative:Generating new system exceptions dict...\n",
      "INFO:relative:Handling constraints...\n",
      "INFO:relative:Handling virtual sites...\n",
      "INFO:relative:\t_handle_virtual_sites: numVirtualSites: 0\n",
      "INFO:relative:Adding bond force terms...\n",
      "INFO:relative:Adding angle force terms...\n",
      "INFO:relative:Adding torsion force terms...\n",
      "INFO:relative:Adding nonbonded force terms...\n",
      "INFO:relative:\t_add_nonbonded_force_terms: <openmm.openmm.NonbondedForce; proxy of <Swig Object of type 'OpenMM::NonbondedForce *' at 0x2b9d600847b0> > added to hybrid system\n",
      "INFO:relative:\t_add_nonbonded_force_terms: nonbonded_method is NoCutoff\n",
      "INFO:relative:\t_add_nonbonded_force_terms: 0 added to standard nonbonded force\n",
      "INFO:relative:\t_add_nonbonded_force_terms: 0 added to sterics_custom_nonbonded force\n",
      "INFO:relative:\t_add_nonbonded_force_terms: <openmm.openmm.CustomNonbondedForce; proxy of <Swig Object of type 'OpenMM::CustomNonbondedForce *' at 0x2b9d600846c0> > added to hybrid system\n",
      "INFO:relative:Handling harmonic bonds...\n",
      "INFO:relative:\thandle_harmonic_bonds: looping through old_system to add relevant terms...\n",
      "INFO:relative:\thandle_harmonic_bonds: looping through new_system to add relevant terms...\n",
      "INFO:relative:Handling harmonic angles...\n",
      "INFO:relative:\thandle_harmonic_angles: looping through old_system to add relevant terms...\n",
      "INFO:relative:\thandle_harmonic_angles: looping through new_system to add relevant terms...\n",
      "INFO:relative:Handling torsion forces...\n",
      "INFO:relative:\thandle_periodic_torsion_forces: looping through old_system to add relevant terms...\n",
      "INFO:relative:\thandle_periodic_torsion_forces: looping through new_system to add relevant terms...\n",
      "INFO:relative:Handling nonbonded forces...\n",
      "INFO:relative:\thandle_nonbonded: looping through all particles in hybrid...\n",
      "INFO:relative:\thandle_nonbonded: Handling Interaction Groups...\n",
      "INFO:relative:\thandle_nonbonded: Handling Hybrid Exceptions...\n",
      "INFO:relative:\thandle_nonbonded: Handling Original Exceptions...\n",
      "INFO:relative:Handling unique_new/old interaction exceptions...\n",
      "INFO:relative:There are old or new system exceptions...proceeding.\n",
      "INFO:relative:Imposing virtual bonds to ensure system is imaged together.\n",
      "INFO:relative:\t\t_impose_virtual_bonds: No restraint added because sets overlap (core_atoms=[32, 1, 4, 5, 6, 8, 10, 13, 14, 30], protein_atoms=[8])\n",
      "INFO:relative:*** Generating RESTCapableHybridTopologyFactory ***\n",
      "INFO:relative:Old system forces: dict_keys(['HarmonicBondForce', 'HarmonicAngleForce', 'PeriodicTorsionForce', 'NonbondedForce'])\n",
      "INFO:relative:New system forces: dict_keys(['HarmonicBondForce', 'HarmonicAngleForce', 'PeriodicTorsionForce', 'NonbondedForce'])\n",
      "INFO:relative:No unknown forces.\n",
      "INFO:relative:r_cutoff is 100 nm\n",
      "INFO:relative:alpha_ewald is 0\n",
      "INFO:relative:w_scale is 1.0\n",
      "INFO:relative:Creating hybrid system\n",
      "INFO:relative:Adding and mapping old atoms to hybrid system...\n",
      "INFO:relative:Adding and mapping new atoms to hybrid system...\n",
      "INFO:relative:No MonteCarloBarostat added.\n",
      "INFO:relative:getDefaultPeriodicBoxVectors added to hybrid: [Quantity(value=Vec3(x=2.0, y=0.0, z=0.0), unit=nanometer), Quantity(value=Vec3(x=0.0, y=2.0, z=0.0), unit=nanometer), Quantity(value=Vec3(x=0.0, y=0.0, z=2.0), unit=nanometer)]\n",
      "INFO:relative:Determined atom classes.\n",
      "INFO:relative:Computed hybrid positions\n",
      "INFO:relative:Created hybrid topology\n",
      "INFO:relative:Generating rest_region with query indices: [6, 7, 8, 9, 10, 11, 12, 13, 14, 15, 16, 17, 18, 19, 20, 21, 22, 23, 24, 25, 26, 27, 28, 29, 36, 37, 38]\n",
      "INFO:relative:Rest radius: 0.3 nm\n",
      "INFO:relative:Rest region: [0, 1, 2, 3, 4, 5, 6, 7, 8, 9, 10, 11, 12, 13, 14, 15, 16, 17, 18, 19, 20, 21, 22, 23, 24, 25, 26, 27, 28, 29, 36, 37, 38, 30, 31, 32, 33, 34, 35]\n",
      "INFO:relative:Prepped look up dict for determining if atom is solvent\n",
      "INFO:relative:Generating old system exceptions dict...\n",
      "INFO:relative:Generating new system exceptions dict...\n",
      "INFO:relative:Handling constraints...\n",
      "INFO:relative:Handling virtual sites...\n",
      "INFO:relative:\t_handle_virtual_sites: numVirtualSites: 0\n",
      "INFO:relative:Handling bonds...\n",
      "INFO:relative:Handling angles...\n",
      "INFO:relative:Handling torsions...\n",
      "INFO:relative:Handling nonbondeds (creating forces)...\n",
      "INFO:relative:Handling nonbondeds (copying nonbonded particles)...\n",
      "INFO:relative:Handling nonbondeds (copying nonbonded exceptions)...\n",
      "INFO:setup:Saving htfs as pickles\n",
      "INFO:setup:sterics expression: U_electrostatics + U_sterics * sterics_rest_scale; U_electrostatics = U_electrostatics_coulomb * electrostatics_rest_scale - U_electrostatics_reciprocal; U_electrostatics_coulomb = 138.93545764438198 * chargeProd_exceptions / r; U_electrostatics_reciprocal = 138.93545764438198 * chargeProd_product * erf(alpha * r) / r; electrostatics_rest_scale = is_rest * lambda_rest_electrostatics_exceptions * lambda_rest_electrostatics_exceptions + is_inter * lambda_rest_electrostatics_exceptions + is_nonrest; sterics_rest_scale = is_rest * lambda_rest_sterics_exceptions * lambda_rest_sterics_exceptions + is_inter * lambda_rest_sterics_exceptions + is_nonrest; U_sterics = 4 * epsilon * x * (x - 1.0);x = (sigma / r)^6;chargeProd_exceptions = is_unique_old * old_chargeProd_exceptions_scaled + is_unique_new * new_chargeProd_exceptions_scaled + is_core * (old_chargeProd_exceptions_scaled + new_chargeProd_exceptions_scaled) + is_environment * chargeProd_exceptions_old; old_chargeProd_exceptions_scaled = lambda_alchemical_electrostatics_exceptions_old * chargeProd_exceptions_old; new_chargeProd_exceptions_scaled = lambda_alchemical_electrostatics_exceptions_new * chargeProd_exceptions_new; chargeProd_product = is_unique_old * old_chargeProd_product_scaled + is_unique_new * new_chargeProd_product_scaled + is_core * (old_chargeProd_product_scaled + new_chargeProd_product_scaled) + is_environment * chargeProd_product_old; old_chargeProd_product_scaled = lambda_alchemical_electrostatics_exceptions_old * chargeProd_product_old; new_chargeProd_product_scaled = lambda_alchemical_electrostatics_exceptions_new * chargeProd_product_new; sigma = is_unique_old * sigma_old + is_unique_new * sigma_new + is_core * max(0.05, (lambda_alchemical_sterics_exceptions_old * sigma_old + lambda_alchemical_sterics_exceptions_new * sigma_new)) + is_environment * sigma_old; epsilon = is_unique_old * old_epsilon_scaled + is_unique_new * new_epsilon_scaled + is_core * (old_epsilon_scaled + new_epsilon_scaled) + is_environment * epsilon_old; old_epsilon_scaled = lambda_alchemical_sterics_exceptions_old * epsilon_old; new_epsilon_scaled = lambda_alchemical_sterics_exceptions_new * epsilon_new; alpha = 0;\n",
      "INFO:setup:forces: [<openmm.openmm.CustomBondForce; proxy of <Swig Object of type 'OpenMM::CustomBondForce *' at 0x2b9d62078960> >, <openmm.openmm.CustomAngleForce; proxy of <Swig Object of type 'OpenMM::CustomAngleForce *' at 0x2b9d620784b0> >, <openmm.openmm.CustomTorsionForce; proxy of <Swig Object of type 'OpenMM::CustomTorsionForce *' at 0x2b9d62078060> >, <openmm.openmm.CustomNonbondedForce; proxy of <Swig Object of type 'OpenMM::CustomNonbondedForce *' at 0x2b9d62078090> >, <openmm.openmm.CustomNonbondedForce; proxy of <Swig Object of type 'OpenMM::CustomNonbondedForce *' at 0x2b9d620787e0> >, <openmm.openmm.CustomBondForce; proxy of <Swig Object of type 'OpenMM::CustomBondForce *' at 0x2b9d62078b70> >, <openmm.openmm.NonbondedForce; proxy of <Swig Object of type 'OpenMM::NonbondedForce *' at 0x2b9d62078b10> >, <openmm.openmm.NonbondedForce; proxy of <Swig Object of type 'OpenMM::NonbondedForce *' at 0x2b9d62078cc0> >]\n"
     ]
    },
    {
     "name": "stderr",
     "output_type": "stream",
     "text": [
      "INFO:setup:number of particles in apo: 39\n",
      "INFO:setup:number of particles in apo rest region: 39\n"
     ]
    },
    {
     "name": "stdout",
     "output_type": "stream",
     "text": [
      "apo rest region atoms:\n",
      "ACE1-H1\n",
      "ACE1-CH3\n",
      "ACE1-H2\n",
      "ACE1-H3\n",
      "ACE1-C\n",
      "ACE1-O\n",
      "ARG2-N\n",
      "ARG2-H\n",
      "ARG2-CA\n",
      "ARG2-HA\n",
      "ARG2-CB\n",
      "ARG2-HB2\n",
      "ARG2-HB3\n",
      "ARG2-C\n",
      "ARG2-O\n",
      "ARG2-CG\n",
      "ARG2-HG2\n",
      "ARG2-HG3\n",
      "ARG2-CD\n",
      "ARG2-HD2\n",
      "ARG2-HD3\n",
      "ARG2-NE\n",
      "ARG2-HE\n",
      "ARG2-CZ\n",
      "ARG2-NH1\n",
      "ARG2-HH11\n",
      "ARG2-HH12\n",
      "ARG2-NH2\n",
      "ARG2-HH21\n",
      "ARG2-HH22\n",
      "ARG2-HB2\n",
      "ARG2-HB3\n",
      "ARG2-HB1\n",
      "NME3-N\n",
      "NME3-H\n",
      "NME3-C\n",
      "NME3-H1\n",
      "NME3-H2\n",
      "NME3-H3\n"
     ]
    }
   ],
   "source": [
    "outdir = \"/data/chodera/zhangi/perses_benchmark/repex/38/29/\"\n",
    "residue = '2'\n",
    "mutant = 'ALA'\n",
    "\n",
    "apo_file = \"/data/chodera/zhangi/perses_benchmark/repex/38/29/equil/apo_equilibrated.cif\" \n",
    "cif = app.PDBxFile(apo_file)\n",
    "modeller = app.Modeller(cif.topology, cif.positions)\n",
    "solvent_chains = [chain for chain in modeller.topology.chains() if chain.index > 0]\n",
    "modeller.delete(solvent_chains)\n",
    "modeller.topology.setPeriodicBoxVectors(None)\n",
    "apo_file_vacuum = \"/data/chodera/zhangi/perses_benchmark/repex/38/29/equil/apo_equilibrated_vacuum.cif\" \n",
    "app.PDBxFile.writeFile(modeller.topology, modeller.positions, open(apo_file_vacuum, \"w\"), keepIds=True)\n",
    "\n",
    "solvent_delivery = generate_vacuum_htf(outdir, residue, mutant, apo_file_vacuum, w_scale=1.0)"
   ]
  },
  {
   "cell_type": "code",
   "execution_count": 14,
   "id": "13bbc5c3",
   "metadata": {},
   "outputs": [
    {
     "name": "stderr",
     "output_type": "stream",
     "text": [
      "DEBUG:openmmforcefields.system_generators:Trying GAFFTemplateGenerator to load gaff-2.11\n",
      "INFO:proposal_generator:\tConducting polymer point mutation proposal...\n",
      "INFO:proposal_generator:local_atom_map: {6: 6, 7: 7, 8: 8, 9: 9, 10: 10, 13: 13, 14: 14}\n",
      "INFO:proposal_generator:the mapped atom names are: [('N', 'N'), ('H', 'H'), ('CA', 'CA'), ('HA', 'HA'), ('CB', 'CB'), ('C', 'C'), ('O', 'O')]\n"
     ]
    },
    {
     "name": "stdout",
     "output_type": "stream",
     "text": [
      "None\n",
      "[Quantity(value=Vec3(x=2.0, y=0.0, z=0.0), unit=nanometer), Quantity(value=Vec3(x=0.0, y=2.0, z=0.0), unit=nanometer), Quantity(value=Vec3(x=0.0, y=0.0, z=2.0), unit=nanometer)]\n",
      "False\n"
     ]
    },
    {
     "name": "stderr",
     "output_type": "stream",
     "text": [
      "INFO:geometry:propose: performing forward proposal\n",
      "INFO:geometry:propose: unique new atoms detected; proceeding to _logp_propose...\n",
      "INFO:geometry:Conducting forward proposal...\n",
      "INFO:geometry:Computing proposal order with NetworkX...\n",
      "INFO:geometry:number of atoms to be placed: 17\n",
      "INFO:geometry:Atom index proposal order is [15, 18, 21, 23, 24, 27, 11, 22, 20, 12, 25, 26, 16, 19, 29, 17, 28]\n",
      "INFO:geometry:omitted_bonds: []\n",
      "INFO:geometry:direction of proposal is forward; creating atoms_with_positions and new positions from old system/topology...\n",
      "INFO:geometry:creating growth system...\n",
      "INFO:geometry:\tcreating bond force...\n",
      "INFO:geometry:\tthere are 15 bonds in reference force.\n",
      "INFO:geometry:\tcreating angle force...\n",
      "INFO:geometry:\tthere are 60 angles in reference force.\n",
      "INFO:geometry:\tcreating torsion force...\n",
      "INFO:geometry:\tcreating extra torsions force...\n",
      "INFO:geometry:\tthere are 78 torsions in reference force.\n",
      "INFO:geometry:\tcreating nonbonded force...\n",
      "INFO:geometry:\t\tgrabbing reference nonbonded method, cutoff, switching function, switching distance...\n",
      "INFO:geometry:\t\tcreating nonbonded exception force (i.e. custom bond for 1,4s)...\n",
      "INFO:geometry:\t\tlooping through exceptions calculating growth indices, and adding appropriate interactions to custom bond force.\n",
      "INFO:geometry:\t\tthere are 172 in the reference Nonbonded force\n",
      "INFO:geometry:Neglected angle terms : []\n",
      "INFO:geometry:omitted_growth_terms: {'bonds': [], 'angles': [], 'torsions': [], '1,4s': []}\n",
      "INFO:geometry:extra torsions: {0: (28, 27, 23, 21, [1, Quantity(value=3.1400479780546657, unit=radian), Quantity(value=1200.0, unit=kilocalorie/mole), 17]), 1: (28, 27, 23, 24, [1, Quantity(value=-0.0009854700401916716, unit=radian), Quantity(value=1200.0, unit=kilocalorie/mole), 17]), 2: (29, 27, 23, 21, [1, Quantity(value=-0.0019499207113558015, unit=radian), Quantity(value=1200.0, unit=kilocalorie/mole), 15]), 3: (29, 27, 23, 24, [1, Quantity(value=3.1402019383733304, unit=radian), Quantity(value=1200.0, unit=kilocalorie/mole), 15]), 4: (27, 23, 24, 26, [1, Quantity(value=-3.141011085169936, unit=radian), Quantity(value=1200.0, unit=kilocalorie/mole), 12]), 5: (27, 23, 24, 25, [1, Quantity(value=0.0013841937088012735, unit=radian), Quantity(value=1200.0, unit=kilocalorie/mole), 11]), 6: (21, 23, 24, 26, [1, Quantity(value=0.0011725432810614222, unit=radian), Quantity(value=1200.0, unit=kilocalorie/mole), 12]), 7: (21, 23, 24, 25, [1, Quantity(value=-3.1396174850195098, unit=radian), Quantity(value=1200.0, unit=kilocalorie/mole), 11])}\n",
      "INFO:geometry:neglected angle terms include []\n",
      "INFO:geometry:log probability choice of torsions and atom order: -31.082318140019122\n",
      "INFO:geometry:creating platform, integrators, and contexts; setting growth parameter\n"
     ]
    },
    {
     "name": "stdout",
     "output_type": "stream",
     "text": [
      "[Quantity(value=Vec3(x=2.0, y=0.0, z=0.0), unit=nanometer), Quantity(value=Vec3(x=0.0, y=2.0, z=0.0), unit=nanometer), Quantity(value=Vec3(x=0.0, y=0.0, z=2.0), unit=nanometer)]\n",
      "False\n",
      "conducting subsequent work with the following platform: CUDA\n"
     ]
    },
    {
     "name": "stderr",
     "output_type": "stream",
     "text": [
      "INFO:geometry:setting atoms_with_positions context new positions\n"
     ]
    },
    {
     "name": "stdout",
     "output_type": "stream",
     "text": [
      "conducting subsequent work with the following platform: CUDA\n"
     ]
    },
    {
     "name": "stderr",
     "output_type": "stream",
     "text": [
      "INFO:geometry:There are 17 new atoms\n",
      "INFO:geometry:\treduced angle potential = 0.17262495360260155.\n",
      "INFO:geometry:\treduced angle potential = 0.023505098873171794.\n",
      "INFO:geometry:\treduced angle potential = 0.1796152455588858.\n",
      "INFO:geometry:\treduced angle potential = 0.8697738991332683.\n",
      "INFO:geometry:\treduced angle potential = 0.2515862070047521.\n",
      "INFO:geometry:\treduced angle potential = 1.1817410513286377.\n",
      "INFO:geometry:\treduced angle potential = 0.013048786994332047.\n",
      "INFO:geometry:\treduced angle potential = 0.007506022499897212.\n",
      "INFO:geometry:\treduced angle potential = 0.19656429336349163.\n",
      "INFO:geometry:\treduced angle potential = 0.16093778469285488.\n",
      "INFO:geometry:\treduced angle potential = 1.1394434543141003.\n",
      "INFO:geometry:\treduced angle potential = 0.019488457044552782.\n",
      "INFO:geometry:\treduced angle potential = 0.28652712708468.\n",
      "INFO:geometry:\treduced angle potential = 0.4252726962341139.\n",
      "INFO:geometry:\treduced angle potential = 0.1269866463864387.\n",
      "INFO:geometry:\treduced angle potential = 0.03499561769198556.\n",
      "INFO:geometry:\treduced angle potential = 0.17741391635177797.\n",
      "INFO:geometry:\tbeginning construction of no_nonbonded final system...\n",
      "INFO:geometry:\tinitial no-nonbonded final system forces ['HarmonicBondForce', 'HarmonicAngleForce', 'PeriodicTorsionForce', 'NonbondedForce']\n",
      "INFO:geometry:\tfinal no-nonbonded final system forces dict_keys(['HarmonicBondForce', 'HarmonicAngleForce', 'PeriodicTorsionForce', 'NonbondedForce'])\n",
      "INFO:geometry:\tthere are 15 bond forces in the no-nonbonded final system\n",
      "INFO:geometry:\tthere are 60 angle forces in the no-nonbonded final system\n",
      "INFO:geometry:\tthere are 78 torsion forces in the no-nonbonded final system\n",
      "INFO:geometry:forward final system defined with 0 neglected angles.\n"
     ]
    },
    {
     "name": "stdout",
     "output_type": "stream",
     "text": [
      "conducting subsequent work with the following platform: CUDA\n",
      "conducting subsequent work with the following platform: CUDA\n"
     ]
    },
    {
     "name": "stderr",
     "output_type": "stream",
     "text": [
      "INFO:geometry:total reduced potential before atom placement: 31.360407235469566\n"
     ]
    },
    {
     "name": "stdout",
     "output_type": "stream",
     "text": [
      "conducting subsequent work with the following platform: CUDA\n",
      "conducting subsequent work with the following platform: CUDA\n",
      "conducting subsequent work with the following platform: CUDA\n"
     ]
    },
    {
     "name": "stderr",
     "output_type": "stream",
     "text": [
      "INFO:geometry:total reduced energy added from growth system: -437.11515568019337\n",
      "INFO:geometry:final reduced energy -405.7547527650599\n",
      "INFO:geometry:sum of energies: -405.7547484447238\n",
      "INFO:geometry:magnitude of difference in the energies: 4.320336074670195e-06\n",
      "INFO:geometry:Final logp_proposal: 100.95655032820358\n"
     ]
    },
    {
     "name": "stdout",
     "output_type": "stream",
     "text": [
      "added energy components: [('CustomBondForce', 7.1269309242157), ('CustomAngleForce', 10.196375628300013), ('CustomTorsionForce', 9.310040812624543), ('CustomBondForce', -463.7485030453336)]\n"
     ]
    },
    {
     "name": "stderr",
     "output_type": "stream",
     "text": [
      "INFO:geometry:logp_reverse: performing reverse proposal\n",
      "INFO:geometry:logp_reverse: unique new atoms detected; proceeding to _logp_propose...\n",
      "INFO:geometry:Conducting forward proposal...\n",
      "INFO:geometry:Computing proposal order with NetworkX...\n",
      "INFO:geometry:number of atoms to be placed: 3\n",
      "INFO:geometry:Atom index proposal order is [12, 15, 11]\n",
      "INFO:geometry:omitted_bonds: []\n",
      "INFO:geometry:direction of proposal is reverse; creating atoms_with_positions from old system/topology\n",
      "INFO:geometry:creating growth system...\n",
      "INFO:geometry:\tcreating bond force...\n",
      "INFO:geometry:\tthere are 9 bonds in reference force.\n",
      "INFO:geometry:\tcreating angle force...\n",
      "INFO:geometry:\tthere are 36 angles in reference force.\n",
      "INFO:geometry:\tcreating torsion force...\n",
      "INFO:geometry:\tcreating extra torsions force...\n",
      "INFO:geometry:\tthere are 42 torsions in reference force.\n",
      "INFO:geometry:\tcreating nonbonded force...\n",
      "INFO:geometry:\t\tgrabbing reference nonbonded method, cutoff, switching function, switching distance...\n",
      "INFO:geometry:\t\tcreating nonbonded exception force (i.e. custom bond for 1,4s)...\n",
      "INFO:geometry:\t\tlooping through exceptions calculating growth indices, and adding appropriate interactions to custom bond force.\n",
      "INFO:geometry:\t\tthere are 98 in the reference Nonbonded force\n",
      "INFO:geometry:Neglected angle terms : []\n",
      "INFO:geometry:omitted_growth_terms: {'bonds': [], 'angles': [], 'torsions': [], '1,4s': []}\n",
      "INFO:geometry:extra torsions: {0: (6, 8, 10, 15, [1, Quantity(value=2.105358864604291, unit=radian), Quantity(value=1200.0, unit=kilocalorie/mole), 2]), 1: (6, 8, 10, 11, [1, Quantity(value=-2.0823006129211796, unit=radian), Quantity(value=1200.0, unit=kilocalorie/mole), 3]), 2: (6, 8, 10, 12, [1, Quantity(value=0.018582237407944735, unit=radian), Quantity(value=1200.0, unit=kilocalorie/mole), 1]), 3: (13, 8, 10, 15, [1, Quantity(value=-0.036945135932107576, unit=radian), Quantity(value=1200.0, unit=kilocalorie/mole), 2]), 4: (13, 8, 10, 11, [1, Quantity(value=2.0585806937220097, unit=radian), Quantity(value=1200.0, unit=kilocalorie/mole), 3]), 5: (13, 8, 10, 12, [1, Quantity(value=-2.1237217631284597, unit=radian), Quantity(value=1200.0, unit=kilocalorie/mole), 1]), 6: (9, 8, 10, 15, [1, Quantity(value=-2.119603470065817, unit=radian), Quantity(value=1200.0, unit=kilocalorie/mole), 2]), 7: (9, 8, 10, 11, [1, Quantity(value=-0.024077640411697132, unit=radian), Quantity(value=1200.0, unit=kilocalorie/mole), 3]), 8: (9, 8, 10, 12, [1, Quantity(value=2.0768052099174152, unit=radian), Quantity(value=1200.0, unit=kilocalorie/mole), 1])}\n",
      "INFO:geometry:neglected angle terms include []\n",
      "INFO:geometry:log probability choice of torsions and atom order: -5.0875963352323845\n",
      "INFO:geometry:creating platform, integrators, and contexts; setting growth parameter\n"
     ]
    },
    {
     "name": "stdout",
     "output_type": "stream",
     "text": [
      "conducting subsequent work with the following platform: CUDA\n"
     ]
    },
    {
     "name": "stderr",
     "output_type": "stream",
     "text": [
      "INFO:geometry:setting atoms_with_positions context old positions\n"
     ]
    },
    {
     "name": "stdout",
     "output_type": "stream",
     "text": [
      "conducting subsequent work with the following platform: CUDA\n"
     ]
    },
    {
     "name": "stderr",
     "output_type": "stream",
     "text": [
      "INFO:geometry:There are 3 new atoms\n",
      "INFO:geometry:\treduced angle potential = 0.25005281787635764.\n",
      "INFO:geometry:\treduced angle potential = 0.8234539492149762.\n",
      "INFO:geometry:\treduced angle potential = 0.3096300511603986.\n",
      "INFO:geometry:\tbeginning construction of no_nonbonded final system...\n",
      "INFO:geometry:\tinitial no-nonbonded final system forces ['HarmonicBondForce', 'HarmonicAngleForce', 'PeriodicTorsionForce', 'NonbondedForce']\n",
      "INFO:geometry:\tfinal no-nonbonded final system forces dict_keys(['HarmonicBondForce', 'HarmonicAngleForce', 'PeriodicTorsionForce', 'NonbondedForce'])\n",
      "INFO:geometry:\tthere are 9 bond forces in the no-nonbonded final system\n",
      "INFO:geometry:\tthere are 36 angle forces in the no-nonbonded final system\n",
      "INFO:geometry:\tthere are 42 torsion forces in the no-nonbonded final system\n",
      "INFO:geometry:reverse final system defined with 0 neglected angles.\n"
     ]
    },
    {
     "name": "stdout",
     "output_type": "stream",
     "text": [
      "conducting subsequent work with the following platform: CUDA\n",
      "conducting subsequent work with the following platform: CUDA\n"
     ]
    },
    {
     "name": "stderr",
     "output_type": "stream",
     "text": [
      "INFO:geometry:total reduced potential before atom placement: 31.36040723546956\n"
     ]
    },
    {
     "name": "stdout",
     "output_type": "stream",
     "text": [
      "conducting subsequent work with the following platform: CUDA\n",
      "conducting subsequent work with the following platform: CUDA\n",
      "conducting subsequent work with the following platform: CUDA\n"
     ]
    },
    {
     "name": "stderr",
     "output_type": "stream",
     "text": [
      "INFO:geometry:total reduced energy added from growth system: 10.37413019278795\n",
      "INFO:geometry:final reduced energy 41.734536894734866\n",
      "INFO:geometry:sum of energies: 41.73453742825751\n",
      "INFO:geometry:magnitude of difference in the energies: 5.335226429536988e-07\n",
      "INFO:geometry:Final logp_proposal: -29376.86925210625\n"
     ]
    },
    {
     "name": "stdout",
     "output_type": "stream",
     "text": [
      "added energy components: [('CustomBondForce', 0.0), ('CustomAngleForce', 1.844563196308122), ('CustomTorsionForce', 0.31379330968913627), ('CustomBondForce', 8.21577368679069)]\n"
     ]
    },
    {
     "name": "stderr",
     "output_type": "stream",
     "text": [
      "INFO:setup:skipping counterion functionality because phase is vacuum\n",
      "INFO:relative:*** Generating vanilla HybridTopologyFactory ***\n",
      "INFO:relative:Beginning nonbonded method, total particle, barostat, and exceptions retrieval...\n",
      "INFO:relative:Flattening exceptions of unique new/old at lambda = 0/1\n",
      "INFO:relative:Old system forces: dict_keys(['HarmonicBondForce', 'HarmonicAngleForce', 'PeriodicTorsionForce', 'NonbondedForce'])\n",
      "INFO:relative:New system forces: dict_keys(['HarmonicBondForce', 'HarmonicAngleForce', 'PeriodicTorsionForce', 'NonbondedForce'])\n",
      "INFO:relative:No unknown forces.\n",
      "INFO:relative:Nonbonded method to be used (i.e. from old system): 0\n",
      "INFO:relative:Adding and mapping old atoms to hybrid system...\n",
      "INFO:relative:Adding and mapping new atoms to hybrid system...\n",
      "INFO:relative:No MonteCarloBarostat added.\n",
      "INFO:relative:getDefaultPeriodicBoxVectors added to hybrid: [Quantity(value=Vec3(x=2.0, y=0.0, z=0.0), unit=nanometer), Quantity(value=Vec3(x=0.0, y=2.0, z=0.0), unit=nanometer), Quantity(value=Vec3(x=0.0, y=0.0, z=2.0), unit=nanometer)]\n",
      "INFO:relative:Determined atom classes.\n",
      "INFO:relative:Generating old system exceptions dict...\n",
      "INFO:relative:Generating new system exceptions dict...\n",
      "INFO:relative:Handling constraints...\n",
      "INFO:relative:Handling virtual sites...\n",
      "INFO:relative:\t_handle_virtual_sites: numVirtualSites: 0\n",
      "INFO:relative:Adding bond force terms...\n",
      "INFO:relative:Adding angle force terms...\n",
      "INFO:relative:Adding torsion force terms...\n",
      "INFO:relative:Adding nonbonded force terms...\n",
      "INFO:relative:\t_add_nonbonded_force_terms: <openmm.openmm.NonbondedForce; proxy of <Swig Object of type 'OpenMM::NonbondedForce *' at 0x2b9d61feed20> > added to hybrid system\n",
      "INFO:relative:\t_add_nonbonded_force_terms: nonbonded_method is NoCutoff\n",
      "INFO:relative:\t_add_nonbonded_force_terms: 0 added to standard nonbonded force\n",
      "INFO:relative:\t_add_nonbonded_force_terms: 0 added to sterics_custom_nonbonded force\n",
      "INFO:relative:\t_add_nonbonded_force_terms: <openmm.openmm.CustomNonbondedForce; proxy of <Swig Object of type 'OpenMM::CustomNonbondedForce *' at 0x2b9d61feee10> > added to hybrid system\n",
      "INFO:relative:Handling harmonic bonds...\n",
      "INFO:relative:\thandle_harmonic_bonds: looping through old_system to add relevant terms...\n",
      "INFO:relative:\thandle_harmonic_bonds: looping through new_system to add relevant terms...\n",
      "INFO:relative:Handling harmonic angles...\n",
      "INFO:relative:\thandle_harmonic_angles: looping through old_system to add relevant terms...\n",
      "INFO:relative:\thandle_harmonic_angles: looping through new_system to add relevant terms...\n",
      "INFO:relative:Handling torsion forces...\n",
      "INFO:relative:\thandle_periodic_torsion_forces: looping through old_system to add relevant terms...\n",
      "INFO:relative:\thandle_periodic_torsion_forces: looping through new_system to add relevant terms...\n",
      "INFO:relative:Handling nonbonded forces...\n",
      "INFO:relative:\thandle_nonbonded: looping through all particles in hybrid...\n",
      "INFO:relative:\thandle_nonbonded: Handling Interaction Groups...\n",
      "INFO:relative:\thandle_nonbonded: Handling Hybrid Exceptions...\n",
      "INFO:relative:\thandle_nonbonded: Handling Original Exceptions...\n",
      "INFO:relative:Handling unique_new/old interaction exceptions...\n",
      "INFO:relative:There are old or new system exceptions...proceeding.\n",
      "INFO:relative:Imposing virtual bonds to ensure system is imaged together.\n",
      "INFO:relative:\t\t_impose_virtual_bonds: No restraint added because sets overlap (core_atoms=[1, 4, 5, 6, 8, 10, 13, 14, 16, 18], protein_atoms=[8])\n",
      "INFO:relative:*** Generating RESTCapableHybridTopologyFactory ***\n",
      "INFO:relative:Old system forces: dict_keys(['HarmonicBondForce', 'HarmonicAngleForce', 'PeriodicTorsionForce', 'NonbondedForce'])\n",
      "INFO:relative:New system forces: dict_keys(['HarmonicBondForce', 'HarmonicAngleForce', 'PeriodicTorsionForce', 'NonbondedForce'])\n",
      "INFO:relative:No unknown forces.\n",
      "INFO:relative:r_cutoff is 100 nm\n",
      "INFO:relative:alpha_ewald is 0\n",
      "INFO:relative:w_scale is 1.0\n",
      "INFO:relative:Creating hybrid system\n",
      "INFO:relative:Adding and mapping old atoms to hybrid system...\n",
      "INFO:relative:Adding and mapping new atoms to hybrid system...\n",
      "INFO:relative:No MonteCarloBarostat added.\n",
      "INFO:relative:getDefaultPeriodicBoxVectors added to hybrid: [Quantity(value=Vec3(x=2.0, y=0.0, z=0.0), unit=nanometer), Quantity(value=Vec3(x=0.0, y=2.0, z=0.0), unit=nanometer), Quantity(value=Vec3(x=0.0, y=0.0, z=2.0), unit=nanometer)]\n",
      "INFO:relative:Determined atom classes.\n",
      "INFO:relative:Computed hybrid positions\n",
      "INFO:relative:Created hybrid topology\n",
      "INFO:relative:Generating rest_region with query indices: [6, 7, 8, 9, 10, 11, 12, 13, 14, 15, 22, 23, 24, 25, 26, 27, 28, 29, 30, 31, 32, 33, 34, 35, 36, 37, 38]\n",
      "INFO:relative:Rest radius: 0.3 nm\n",
      "INFO:relative:Rest region: [0, 1, 2, 3, 4, 5, 6, 7, 8, 9, 10, 11, 12, 13, 14, 15, 22, 23, 24, 25, 26, 27, 28, 29, 30, 31, 32, 33, 34, 35, 36, 37, 38, 16, 17, 18, 19, 20, 21]\n",
      "INFO:relative:Prepped look up dict for determining if atom is solvent\n",
      "INFO:relative:Generating old system exceptions dict...\n",
      "INFO:relative:Generating new system exceptions dict...\n",
      "INFO:relative:Handling constraints...\n",
      "INFO:relative:Handling virtual sites...\n",
      "INFO:relative:\t_handle_virtual_sites: numVirtualSites: 0\n",
      "INFO:relative:Handling bonds...\n",
      "INFO:relative:Handling angles...\n",
      "INFO:relative:Handling torsions...\n",
      "INFO:relative:Handling nonbondeds (creating forces)...\n",
      "INFO:relative:Handling nonbondeds (copying nonbonded particles)...\n",
      "INFO:relative:Handling nonbondeds (copying nonbonded exceptions)...\n",
      "INFO:setup:Saving htfs as pickles\n",
      "INFO:setup:sterics expression: U_electrostatics + U_sterics * sterics_rest_scale; U_electrostatics = U_electrostatics_coulomb * electrostatics_rest_scale - U_electrostatics_reciprocal; U_electrostatics_coulomb = 138.93545764438198 * chargeProd_exceptions / r; U_electrostatics_reciprocal = 138.93545764438198 * chargeProd_product * erf(alpha * r) / r; electrostatics_rest_scale = is_rest * lambda_rest_electrostatics_exceptions * lambda_rest_electrostatics_exceptions + is_inter * lambda_rest_electrostatics_exceptions + is_nonrest; sterics_rest_scale = is_rest * lambda_rest_sterics_exceptions * lambda_rest_sterics_exceptions + is_inter * lambda_rest_sterics_exceptions + is_nonrest; U_sterics = 4 * epsilon * x * (x - 1.0);x = (sigma / r)^6;chargeProd_exceptions = is_unique_old * old_chargeProd_exceptions_scaled + is_unique_new * new_chargeProd_exceptions_scaled + is_core * (old_chargeProd_exceptions_scaled + new_chargeProd_exceptions_scaled) + is_environment * chargeProd_exceptions_old; old_chargeProd_exceptions_scaled = lambda_alchemical_electrostatics_exceptions_old * chargeProd_exceptions_old; new_chargeProd_exceptions_scaled = lambda_alchemical_electrostatics_exceptions_new * chargeProd_exceptions_new; chargeProd_product = is_unique_old * old_chargeProd_product_scaled + is_unique_new * new_chargeProd_product_scaled + is_core * (old_chargeProd_product_scaled + new_chargeProd_product_scaled) + is_environment * chargeProd_product_old; old_chargeProd_product_scaled = lambda_alchemical_electrostatics_exceptions_old * chargeProd_product_old; new_chargeProd_product_scaled = lambda_alchemical_electrostatics_exceptions_new * chargeProd_product_new; sigma = is_unique_old * sigma_old + is_unique_new * sigma_new + is_core * max(0.05, (lambda_alchemical_sterics_exceptions_old * sigma_old + lambda_alchemical_sterics_exceptions_new * sigma_new)) + is_environment * sigma_old; epsilon = is_unique_old * old_epsilon_scaled + is_unique_new * new_epsilon_scaled + is_core * (old_epsilon_scaled + new_epsilon_scaled) + is_environment * epsilon_old; old_epsilon_scaled = lambda_alchemical_sterics_exceptions_old * epsilon_old; new_epsilon_scaled = lambda_alchemical_sterics_exceptions_new * epsilon_new; alpha = 0;\n",
      "INFO:setup:forces: [<openmm.openmm.CustomBondForce; proxy of <Swig Object of type 'OpenMM::CustomBondForce *' at 0x2b9d5d4db930> >, <openmm.openmm.CustomAngleForce; proxy of <Swig Object of type 'OpenMM::CustomAngleForce *' at 0x2b9d5cf5abd0> >, <openmm.openmm.CustomTorsionForce; proxy of <Swig Object of type 'OpenMM::CustomTorsionForce *' at 0x2b9d600a97e0> >, <openmm.openmm.CustomNonbondedForce; proxy of <Swig Object of type 'OpenMM::CustomNonbondedForce *' at 0x2b9d61fbb270> >, <openmm.openmm.CustomNonbondedForce; proxy of <Swig Object of type 'OpenMM::CustomNonbondedForce *' at 0x2b9d61fbb720> >, <openmm.openmm.CustomBondForce; proxy of <Swig Object of type 'OpenMM::CustomBondForce *' at 0x2b9d5d82de40> >, <openmm.openmm.NonbondedForce; proxy of <Swig Object of type 'OpenMM::NonbondedForce *' at 0x2b9d60446de0> >, <openmm.openmm.NonbondedForce; proxy of <Swig Object of type 'OpenMM::NonbondedForce *' at 0x2b9d609519c0> >]\n"
     ]
    },
    {
     "name": "stderr",
     "output_type": "stream",
     "text": [
      "INFO:setup:number of particles in apo: 39\n",
      "INFO:setup:number of particles in apo rest region: 39\n"
     ]
    },
    {
     "name": "stdout",
     "output_type": "stream",
     "text": [
      "apo rest region atoms:\n",
      "ACE1-H1\n",
      "ACE1-CH3\n",
      "ACE1-H2\n",
      "ACE1-H3\n",
      "ACE1-C\n",
      "ACE1-O\n",
      "ALA2-N\n",
      "ALA2-H\n",
      "ALA2-CA\n",
      "ALA2-HA\n",
      "ALA2-CB\n",
      "ALA2-HB2\n",
      "ALA2-HB3\n",
      "ALA2-C\n",
      "ALA2-O\n",
      "ALA2-HB1\n",
      "ALA2-HB2\n",
      "ALA2-HB3\n",
      "ALA2-CG\n",
      "ALA2-HG2\n",
      "ALA2-HG3\n",
      "ALA2-CD\n",
      "ALA2-HD2\n",
      "ALA2-HD3\n",
      "ALA2-NE\n",
      "ALA2-HE\n",
      "ALA2-CZ\n",
      "ALA2-NH1\n",
      "ALA2-HH11\n",
      "ALA2-HH12\n",
      "ALA2-NH2\n",
      "ALA2-HH21\n",
      "ALA2-HH22\n",
      "NME3-N\n",
      "NME3-H\n",
      "NME3-C\n",
      "NME3-H1\n",
      "NME3-H2\n",
      "NME3-H3\n"
     ]
    }
   ],
   "source": [
    "outdir = \"/data/chodera/zhangi/perses_benchmark/repex/38/30/\"\n",
    "residue = '2'\n",
    "mutant = 'ARG'\n",
    "\n",
    "apo_file = \"/data/chodera/zhangi/perses_benchmark/repex/38/30/equil/apo_equilibrated.cif\" \n",
    "cif = app.PDBxFile(apo_file)\n",
    "modeller = app.Modeller(cif.topology, cif.positions)\n",
    "solvent_chains = [chain for chain in modeller.topology.chains() if chain.index > 0]\n",
    "modeller.delete(solvent_chains)\n",
    "modeller.topology.setPeriodicBoxVectors(None)\n",
    "apo_file_vacuum = \"/data/chodera/zhangi/perses_benchmark/repex/38/30/equil/apo_equilibrated_vacuum.cif\" \n",
    "app.PDBxFile.writeFile(modeller.topology, modeller.positions, open(apo_file_vacuum, \"w\"), keepIds=True)\n",
    "\n",
    "solvent_delivery = generate_vacuum_htf(outdir, residue, mutant, apo_file_vacuum, w_scale=1.0)"
   ]
  },
  {
   "cell_type": "code",
   "execution_count": 7,
   "id": "34911c57",
   "metadata": {
    "scrolled": true
   },
   "outputs": [
    {
     "name": "stderr",
     "output_type": "stream",
     "text": [
      "DEBUG:openmmforcefields.system_generators:Trying GAFFTemplateGenerator to load gaff-2.11\n",
      "INFO:proposal_generator:\tConducting polymer point mutation proposal...\n",
      "INFO:proposal_generator:local_atom_map: {6: 6, 7: 7, 8: 8, 9: 9, 10: 10, 13: 13, 14: 14}\n",
      "INFO:proposal_generator:the mapped atom names are: [('N', 'N'), ('H', 'H'), ('CA', 'CA'), ('HA', 'HA'), ('CB', 'CB'), ('C', 'C'), ('O', 'O')]\n",
      "INFO:geometry:propose: performing forward proposal\n",
      "INFO:geometry:propose: unique new atoms detected; proceeding to _logp_propose...\n",
      "INFO:geometry:Conducting forward proposal...\n",
      "INFO:geometry:Computing proposal order with NetworkX...\n",
      "INFO:geometry:number of atoms to be placed: 3\n",
      "INFO:geometry:Atom index proposal order is [15, 11, 12]\n",
      "INFO:geometry:omitted_bonds: []\n",
      "INFO:geometry:direction of proposal is forward; creating atoms_with_positions and new positions from old system/topology...\n",
      "INFO:geometry:creating growth system...\n",
      "INFO:geometry:\tcreating bond force...\n",
      "INFO:geometry:\tthere are 9 bonds in reference force.\n",
      "INFO:geometry:\tcreating angle force...\n",
      "INFO:geometry:\tthere are 36 angles in reference force.\n",
      "INFO:geometry:\tcreating torsion force...\n",
      "INFO:geometry:\tcreating extra torsions force...\n",
      "INFO:geometry:\tthere are 42 torsions in reference force.\n",
      "INFO:geometry:\tcreating nonbonded force...\n",
      "INFO:geometry:\t\tgrabbing reference nonbonded method, cutoff, switching function, switching distance...\n",
      "INFO:geometry:\t\tcreating nonbonded exception force (i.e. custom bond for 1,4s)...\n",
      "INFO:geometry:\t\tlooping through exceptions calculating growth indices, and adding appropriate interactions to custom bond force.\n",
      "INFO:geometry:\t\tthere are 98 in the reference Nonbonded force\n",
      "INFO:geometry:Neglected angle terms : []\n",
      "INFO:geometry:omitted_growth_terms: {'bonds': [], 'angles': [], 'torsions': [], '1,4s': []}\n",
      "INFO:geometry:extra torsions: {0: (6, 8, 10, 15, [1, Quantity(value=2.105358864604291, unit=radian), Quantity(value=1200.0, unit=kilocalorie/mole), 1]), 1: (6, 8, 10, 11, [1, Quantity(value=-2.0823006129211796, unit=radian), Quantity(value=1200.0, unit=kilocalorie/mole), 2]), 2: (6, 8, 10, 12, [1, Quantity(value=0.018582237407944735, unit=radian), Quantity(value=1200.0, unit=kilocalorie/mole), 3]), 3: (13, 8, 10, 15, [1, Quantity(value=-0.036945135932107576, unit=radian), Quantity(value=1200.0, unit=kilocalorie/mole), 1]), 4: (13, 8, 10, 11, [1, Quantity(value=2.0585806937220097, unit=radian), Quantity(value=1200.0, unit=kilocalorie/mole), 2]), 5: (13, 8, 10, 12, [1, Quantity(value=-2.1237217631284597, unit=radian), Quantity(value=1200.0, unit=kilocalorie/mole), 3]), 6: (9, 8, 10, 15, [1, Quantity(value=-2.119603470065817, unit=radian), Quantity(value=1200.0, unit=kilocalorie/mole), 1]), 7: (9, 8, 10, 11, [1, Quantity(value=-0.024077640411697132, unit=radian), Quantity(value=1200.0, unit=kilocalorie/mole), 2]), 8: (9, 8, 10, 12, [1, Quantity(value=2.0768052099174152, unit=radian), Quantity(value=1200.0, unit=kilocalorie/mole), 3])}\n",
      "INFO:geometry:neglected angle terms include []\n",
      "INFO:geometry:log probability choice of torsions and atom order: -5.0875963352323845\n"
     ]
    },
    {
     "name": "stdout",
     "output_type": "stream",
     "text": [
      "None\n",
      "[Quantity(value=Vec3(x=2.0, y=0.0, z=0.0), unit=nanometer), Quantity(value=Vec3(x=0.0, y=2.0, z=0.0), unit=nanometer), Quantity(value=Vec3(x=0.0, y=0.0, z=2.0), unit=nanometer)]\n",
      "False\n",
      "[Quantity(value=Vec3(x=2.0, y=0.0, z=0.0), unit=nanometer), Quantity(value=Vec3(x=0.0, y=2.0, z=0.0), unit=nanometer), Quantity(value=Vec3(x=0.0, y=0.0, z=2.0), unit=nanometer)]\n",
      "False\n"
     ]
    },
    {
     "name": "stderr",
     "output_type": "stream",
     "text": [
      "INFO:geometry:creating platform, integrators, and contexts; setting growth parameter\n"
     ]
    },
    {
     "name": "stdout",
     "output_type": "stream",
     "text": [
      "conducting subsequent work with the following platform: CUDA\n"
     ]
    },
    {
     "name": "stderr",
     "output_type": "stream",
     "text": [
      "INFO:geometry:setting atoms_with_positions context new positions\n"
     ]
    },
    {
     "name": "stdout",
     "output_type": "stream",
     "text": [
      "conducting subsequent work with the following platform: CUDA\n"
     ]
    },
    {
     "name": "stderr",
     "output_type": "stream",
     "text": [
      "INFO:geometry:There are 3 new atoms\n",
      "INFO:geometry:\treduced angle potential = 0.049600632190551025.\n",
      "INFO:geometry:\treduced angle potential = 2.4701456733730405.\n",
      "INFO:geometry:\treduced angle potential = 3.3501813441331842.\n",
      "INFO:geometry:\tbeginning construction of no_nonbonded final system...\n",
      "INFO:geometry:\tinitial no-nonbonded final system forces ['HarmonicBondForce', 'HarmonicAngleForce', 'PeriodicTorsionForce', 'NonbondedForce']\n",
      "INFO:geometry:\tfinal no-nonbonded final system forces dict_keys(['HarmonicBondForce', 'HarmonicAngleForce', 'PeriodicTorsionForce', 'NonbondedForce'])\n",
      "INFO:geometry:\tthere are 9 bond forces in the no-nonbonded final system\n",
      "INFO:geometry:\tthere are 36 angle forces in the no-nonbonded final system\n",
      "INFO:geometry:\tthere are 42 torsion forces in the no-nonbonded final system\n",
      "INFO:geometry:forward final system defined with 0 neglected angles.\n"
     ]
    },
    {
     "name": "stdout",
     "output_type": "stream",
     "text": [
      "conducting subsequent work with the following platform: CUDA\n"
     ]
    },
    {
     "name": "stderr",
     "output_type": "stream",
     "text": [
      "INFO:geometry:total reduced potential before atom placement: 42.539566350871226\n"
     ]
    },
    {
     "name": "stdout",
     "output_type": "stream",
     "text": [
      "conducting subsequent work with the following platform: CUDA\n",
      "conducting subsequent work with the following platform: CUDA\n",
      "conducting subsequent work with the following platform: CUDA\n",
      "conducting subsequent work with the following platform: CUDA\n"
     ]
    },
    {
     "name": "stderr",
     "output_type": "stream",
     "text": [
      "INFO:geometry:total reduced energy added from growth system: 16.107411965195805\n",
      "INFO:geometry:final reduced energy 58.64697782598894\n",
      "INFO:geometry:sum of energies: 58.646978316067035\n",
      "INFO:geometry:magnitude of difference in the energies: 4.900780901095914e-07\n",
      "INFO:geometry:Final logp_proposal: 16.70583930868539\n",
      "INFO:geometry:logp_reverse: performing reverse proposal\n",
      "INFO:geometry:logp_reverse: unique new atoms detected; proceeding to _logp_propose...\n",
      "INFO:geometry:Conducting forward proposal...\n",
      "INFO:geometry:Computing proposal order with NetworkX...\n",
      "INFO:geometry:number of atoms to be placed: 17\n",
      "INFO:geometry:Atom index proposal order is [15, 18, 21, 23, 27, 24, 19, 22, 17, 11, 12, 20, 28, 29, 16, 26, 25]\n",
      "INFO:geometry:omitted_bonds: []\n",
      "INFO:geometry:direction of proposal is reverse; creating atoms_with_positions from old system/topology\n",
      "INFO:geometry:creating growth system...\n",
      "INFO:geometry:\tcreating bond force...\n",
      "INFO:geometry:\tthere are 15 bonds in reference force.\n",
      "INFO:geometry:\tcreating angle force...\n",
      "INFO:geometry:\tthere are 60 angles in reference force.\n",
      "INFO:geometry:\tcreating torsion force...\n",
      "INFO:geometry:\tcreating extra torsions force...\n",
      "INFO:geometry:\tthere are 78 torsions in reference force.\n",
      "INFO:geometry:\tcreating nonbonded force...\n",
      "INFO:geometry:\t\tgrabbing reference nonbonded method, cutoff, switching function, switching distance...\n",
      "INFO:geometry:\t\tcreating nonbonded exception force (i.e. custom bond for 1,4s)...\n",
      "INFO:geometry:\t\tlooping through exceptions calculating growth indices, and adding appropriate interactions to custom bond force.\n",
      "INFO:geometry:\t\tthere are 172 in the reference Nonbonded force\n",
      "INFO:geometry:Neglected angle terms : []\n",
      "INFO:geometry:omitted_growth_terms: {'bonds': [], 'angles': [], 'torsions': [], '1,4s': []}\n",
      "INFO:geometry:extra torsions: {0: (28, 27, 23, 21, [1, Quantity(value=3.1400479780546657, unit=radian), Quantity(value=1200.0, unit=kilocalorie/mole), 13]), 1: (28, 27, 23, 24, [1, Quantity(value=-0.0009854700401916716, unit=radian), Quantity(value=1200.0, unit=kilocalorie/mole), 13]), 2: (29, 27, 23, 21, [1, Quantity(value=-0.0019499207113558015, unit=radian), Quantity(value=1200.0, unit=kilocalorie/mole), 14]), 3: (29, 27, 23, 24, [1, Quantity(value=3.1402019383733304, unit=radian), Quantity(value=1200.0, unit=kilocalorie/mole), 14]), 4: (27, 23, 24, 26, [1, Quantity(value=-3.141011085169936, unit=radian), Quantity(value=1200.0, unit=kilocalorie/mole), 16]), 5: (27, 23, 24, 25, [1, Quantity(value=0.0013841937088012735, unit=radian), Quantity(value=1200.0, unit=kilocalorie/mole), 17]), 6: (21, 23, 24, 26, [1, Quantity(value=0.0011725432810614222, unit=radian), Quantity(value=1200.0, unit=kilocalorie/mole), 16]), 7: (21, 23, 24, 25, [1, Quantity(value=-3.1396174850195098, unit=radian), Quantity(value=1200.0, unit=kilocalorie/mole), 17])}\n",
      "INFO:geometry:neglected angle terms include []\n",
      "INFO:geometry:log probability choice of torsions and atom order: -30.241278891000768\n",
      "INFO:geometry:creating platform, integrators, and contexts; setting growth parameter\n"
     ]
    },
    {
     "name": "stdout",
     "output_type": "stream",
     "text": [
      "added energy components: [('CustomBondForce', 0.0), ('CustomAngleForce', 7.202484828442932), ('CustomTorsionForce', 0.08778387183215984), ('CustomBondForce', 8.817143264920707)]\n",
      "conducting subsequent work with the following platform: CUDA\n"
     ]
    },
    {
     "name": "stderr",
     "output_type": "stream",
     "text": [
      "INFO:geometry:setting atoms_with_positions context old positions\n"
     ]
    },
    {
     "name": "stdout",
     "output_type": "stream",
     "text": [
      "conducting subsequent work with the following platform: CUDA\n"
     ]
    },
    {
     "name": "stderr",
     "output_type": "stream",
     "text": [
      "INFO:geometry:There are 17 new atoms\n",
      "INFO:geometry:\treduced angle potential = 0.042853125757750306.\n",
      "INFO:geometry:\treduced angle potential = 0.11918491356084256.\n",
      "INFO:geometry:\treduced angle potential = 0.03558938425976845.\n",
      "INFO:geometry:\treduced angle potential = 3.063706070595789e-05.\n",
      "INFO:geometry:\treduced angle potential = 0.3856161427963459.\n",
      "INFO:geometry:\treduced angle potential = 0.1283940070536202.\n",
      "INFO:geometry:\treduced angle potential = 0.1891037527507676.\n",
      "INFO:geometry:\treduced angle potential = 0.3345265489620942.\n",
      "INFO:geometry:\treduced angle potential = 0.466213462801573.\n",
      "INFO:geometry:\treduced angle potential = 0.014831313710720695.\n",
      "INFO:geometry:\treduced angle potential = 1.2253845407775443.\n",
      "INFO:geometry:\treduced angle potential = 0.39463143613777724.\n",
      "INFO:geometry:\treduced angle potential = 0.37202362757935775.\n",
      "INFO:geometry:\treduced angle potential = 0.006867661209664784.\n",
      "INFO:geometry:\treduced angle potential = 0.05013507617612773.\n",
      "INFO:geometry:\treduced angle potential = 0.0395257051882019.\n",
      "INFO:geometry:\treduced angle potential = 0.3039552128830515.\n",
      "INFO:geometry:\tbeginning construction of no_nonbonded final system...\n",
      "INFO:geometry:\tinitial no-nonbonded final system forces ['HarmonicBondForce', 'HarmonicAngleForce', 'PeriodicTorsionForce', 'NonbondedForce']\n",
      "INFO:geometry:\tfinal no-nonbonded final system forces dict_keys(['HarmonicBondForce', 'HarmonicAngleForce', 'PeriodicTorsionForce', 'NonbondedForce'])\n",
      "INFO:geometry:\tthere are 15 bond forces in the no-nonbonded final system\n",
      "INFO:geometry:\tthere are 60 angle forces in the no-nonbonded final system\n",
      "INFO:geometry:\tthere are 78 torsion forces in the no-nonbonded final system\n",
      "INFO:geometry:reverse final system defined with 0 neglected angles.\n"
     ]
    },
    {
     "name": "stdout",
     "output_type": "stream",
     "text": [
      "conducting subsequent work with the following platform: CUDA\n"
     ]
    },
    {
     "name": "stderr",
     "output_type": "stream",
     "text": [
      "INFO:geometry:total reduced potential before atom placement: 42.539566350871226\n"
     ]
    },
    {
     "name": "stdout",
     "output_type": "stream",
     "text": [
      "conducting subsequent work with the following platform: CUDA\n",
      "conducting subsequent work with the following platform: CUDA\n",
      "conducting subsequent work with the following platform: CUDA\n",
      "conducting subsequent work with the following platform: CUDA\n"
     ]
    },
    {
     "name": "stderr",
     "output_type": "stream",
     "text": [
      "INFO:geometry:total reduced energy added from growth system: -478.8342646200793\n",
      "INFO:geometry:final reduced energy -436.2947077009399\n",
      "INFO:geometry:sum of energies: -436.2946982692081\n",
      "INFO:geometry:magnitude of difference in the energies: 9.43173182577084e-06\n",
      "INFO:geometry:Final logp_proposal: -31465.500807579832\n",
      "INFO:setup:skipping counterion functionality because phase is vacuum\n",
      "INFO:relative:*** Generating vanilla HybridTopologyFactory ***\n",
      "INFO:relative:Beginning nonbonded method, total particle, barostat, and exceptions retrieval...\n",
      "INFO:relative:Flattening exceptions of unique new/old at lambda = 0/1\n",
      "INFO:relative:Old system forces: dict_keys(['HarmonicBondForce', 'HarmonicAngleForce', 'PeriodicTorsionForce', 'NonbondedForce'])\n",
      "INFO:relative:New system forces: dict_keys(['HarmonicBondForce', 'HarmonicAngleForce', 'PeriodicTorsionForce', 'NonbondedForce'])\n",
      "INFO:relative:No unknown forces.\n",
      "INFO:relative:Nonbonded method to be used (i.e. from old system): 0\n",
      "INFO:relative:Adding and mapping old atoms to hybrid system...\n",
      "INFO:relative:Adding and mapping new atoms to hybrid system...\n",
      "INFO:relative:No MonteCarloBarostat added.\n",
      "INFO:relative:getDefaultPeriodicBoxVectors added to hybrid: [Quantity(value=Vec3(x=2.0, y=0.0, z=0.0), unit=nanometer), Quantity(value=Vec3(x=0.0, y=2.0, z=0.0), unit=nanometer), Quantity(value=Vec3(x=0.0, y=0.0, z=2.0), unit=nanometer)]\n",
      "INFO:relative:Determined atom classes.\n",
      "INFO:relative:Generating old system exceptions dict...\n",
      "INFO:relative:Generating new system exceptions dict...\n",
      "INFO:relative:Handling constraints...\n",
      "INFO:relative:Handling virtual sites...\n",
      "INFO:relative:\t_handle_virtual_sites: numVirtualSites: 0\n",
      "INFO:relative:Adding bond force terms...\n",
      "INFO:relative:Adding angle force terms...\n",
      "INFO:relative:Adding torsion force terms...\n",
      "INFO:relative:Adding nonbonded force terms...\n",
      "INFO:relative:\t_add_nonbonded_force_terms: <openmm.openmm.NonbondedForce; proxy of <Swig Object of type 'OpenMM::NonbondedForce *' at 0x2aefc605fc30> > added to hybrid system\n",
      "INFO:relative:\t_add_nonbonded_force_terms: nonbonded_method is NoCutoff\n",
      "INFO:relative:\t_add_nonbonded_force_terms: 0 added to standard nonbonded force\n",
      "INFO:relative:\t_add_nonbonded_force_terms: 0 added to sterics_custom_nonbonded force\n",
      "INFO:relative:\t_add_nonbonded_force_terms: <openmm.openmm.CustomNonbondedForce; proxy of <Swig Object of type 'OpenMM::CustomNonbondedForce *' at 0x2aefc605fb40> > added to hybrid system\n",
      "INFO:relative:Handling harmonic bonds...\n",
      "INFO:relative:\thandle_harmonic_bonds: looping through old_system to add relevant terms...\n",
      "INFO:relative:\thandle_harmonic_bonds: looping through new_system to add relevant terms...\n",
      "INFO:relative:Handling harmonic angles...\n",
      "INFO:relative:\thandle_harmonic_angles: looping through old_system to add relevant terms...\n",
      "INFO:relative:\thandle_harmonic_angles: looping through new_system to add relevant terms...\n"
     ]
    },
    {
     "name": "stdout",
     "output_type": "stream",
     "text": [
      "added energy components: [('CustomBondForce', 8.159981229252093), ('CustomAngleForce', 9.07511207953895), ('CustomTorsionForce', 4.707971040348824), ('CustomBondForce', -500.77732896921924)]\n"
     ]
    },
    {
     "name": "stderr",
     "output_type": "stream",
     "text": [
      "INFO:relative:Handling torsion forces...\n",
      "INFO:relative:\thandle_periodic_torsion_forces: looping through old_system to add relevant terms...\n",
      "INFO:relative:\thandle_periodic_torsion_forces: looping through new_system to add relevant terms...\n",
      "INFO:relative:Handling nonbonded forces...\n",
      "INFO:relative:\thandle_nonbonded: looping through all particles in hybrid...\n",
      "INFO:relative:\thandle_nonbonded: Handling Interaction Groups...\n",
      "INFO:relative:\thandle_nonbonded: Handling Hybrid Exceptions...\n",
      "INFO:relative:\thandle_nonbonded: Handling Original Exceptions...\n",
      "INFO:relative:Handling unique_new/old interaction exceptions...\n",
      "INFO:relative:There are old or new system exceptions...proceeding.\n",
      "INFO:relative:Imposing virtual bonds to ensure system is imaged together.\n",
      "INFO:relative:\t\t_impose_virtual_bonds: No restraint added because sets overlap (core_atoms=[32, 1, 4, 5, 6, 8, 10, 13, 14, 30], protein_atoms=[8])\n",
      "INFO:relative:*** Generating RESTCapableHybridTopologyFactory ***\n",
      "INFO:relative:Old system forces: dict_keys(['HarmonicBondForce', 'HarmonicAngleForce', 'PeriodicTorsionForce', 'NonbondedForce'])\n",
      "INFO:relative:New system forces: dict_keys(['HarmonicBondForce', 'HarmonicAngleForce', 'PeriodicTorsionForce', 'NonbondedForce'])\n",
      "INFO:relative:No unknown forces.\n",
      "INFO:relative:r_cutoff is 100 nm\n",
      "INFO:relative:alpha_ewald is 0\n",
      "INFO:relative:w_scale is 0.2\n",
      "INFO:relative:Creating hybrid system\n",
      "INFO:relative:Adding and mapping old atoms to hybrid system...\n",
      "INFO:relative:Adding and mapping new atoms to hybrid system...\n",
      "INFO:relative:No MonteCarloBarostat added.\n",
      "INFO:relative:getDefaultPeriodicBoxVectors added to hybrid: [Quantity(value=Vec3(x=2.0, y=0.0, z=0.0), unit=nanometer), Quantity(value=Vec3(x=0.0, y=2.0, z=0.0), unit=nanometer), Quantity(value=Vec3(x=0.0, y=0.0, z=2.0), unit=nanometer)]\n",
      "INFO:relative:Determined atom classes.\n",
      "INFO:relative:Computed hybrid positions\n",
      "INFO:relative:Created hybrid topology\n",
      "INFO:relative:Generating rest_region with query indices: [6, 7, 8, 9, 10, 11, 12, 13, 14, 15, 16, 17, 18, 19, 20, 21, 22, 23, 24, 25, 26, 27, 28, 29, 36, 37, 38]\n",
      "INFO:relative:Rest radius: 0.3 nm\n",
      "INFO:relative:Rest region: [0, 1, 2, 3, 4, 5, 6, 7, 8, 9, 10, 11, 12, 13, 14, 15, 16, 17, 18, 19, 20, 21, 22, 23, 24, 25, 26, 27, 28, 29, 36, 37, 38, 30, 31, 32, 33, 34, 35]\n",
      "INFO:relative:Prepped look up dict for determining if atom is solvent\n",
      "INFO:relative:Generating old system exceptions dict...\n",
      "INFO:relative:Generating new system exceptions dict...\n",
      "INFO:relative:Handling constraints...\n",
      "INFO:relative:Handling virtual sites...\n",
      "INFO:relative:\t_handle_virtual_sites: numVirtualSites: 0\n",
      "INFO:relative:Handling bonds...\n",
      "INFO:relative:Handling angles...\n",
      "INFO:relative:Handling torsions...\n",
      "INFO:relative:Handling nonbondeds (creating forces)...\n",
      "INFO:relative:Handling nonbondeds (copying nonbonded particles)...\n",
      "INFO:relative:Handling nonbondeds (copying nonbonded exceptions)...\n",
      "INFO:setup:Saving htfs as pickles\n",
      "INFO:setup:sterics expression: U_electrostatics + U_sterics * sterics_rest_scale; U_electrostatics = U_electrostatics_coulomb * electrostatics_rest_scale - U_electrostatics_reciprocal; U_electrostatics_coulomb = 138.93545764438198 * chargeProd_exceptions / r; U_electrostatics_reciprocal = 138.93545764438198 * chargeProd_product * erf(alpha * r) / r; electrostatics_rest_scale = is_rest * lambda_rest_electrostatics_exceptions * lambda_rest_electrostatics_exceptions + is_inter * lambda_rest_electrostatics_exceptions + is_nonrest; sterics_rest_scale = is_rest * lambda_rest_sterics_exceptions * lambda_rest_sterics_exceptions + is_inter * lambda_rest_sterics_exceptions + is_nonrest; U_sterics = 4 * epsilon * x * (x - 1.0);x = (sigma / r)^6;chargeProd_exceptions = is_unique_old * old_chargeProd_exceptions_scaled + is_unique_new * new_chargeProd_exceptions_scaled + is_core * (old_chargeProd_exceptions_scaled + new_chargeProd_exceptions_scaled) + is_environment * chargeProd_exceptions_old; old_chargeProd_exceptions_scaled = lambda_alchemical_electrostatics_exceptions_old * chargeProd_exceptions_old; new_chargeProd_exceptions_scaled = lambda_alchemical_electrostatics_exceptions_new * chargeProd_exceptions_new; chargeProd_product = is_unique_old * old_chargeProd_product_scaled + is_unique_new * new_chargeProd_product_scaled + is_core * (old_chargeProd_product_scaled + new_chargeProd_product_scaled) + is_environment * chargeProd_product_old; old_chargeProd_product_scaled = lambda_alchemical_electrostatics_exceptions_old * chargeProd_product_old; new_chargeProd_product_scaled = lambda_alchemical_electrostatics_exceptions_new * chargeProd_product_new; sigma = is_unique_old * sigma_old + is_unique_new * sigma_new + is_core * max(0.05, (lambda_alchemical_sterics_exceptions_old * sigma_old + lambda_alchemical_sterics_exceptions_new * sigma_new)) + is_environment * sigma_old; epsilon = is_unique_old * old_epsilon_scaled + is_unique_new * new_epsilon_scaled + is_core * (old_epsilon_scaled + new_epsilon_scaled) + is_environment * epsilon_old; old_epsilon_scaled = lambda_alchemical_sterics_exceptions_old * epsilon_old; new_epsilon_scaled = lambda_alchemical_sterics_exceptions_new * epsilon_new; alpha = 0;\n",
      "INFO:setup:forces: [<openmm.openmm.CustomBondForce; proxy of <Swig Object of type 'OpenMM::CustomBondForce *' at 0x2aefc37ca390> >, <openmm.openmm.CustomAngleForce; proxy of <Swig Object of type 'OpenMM::CustomAngleForce *' at 0x2aefc9c72600> >, <openmm.openmm.CustomTorsionForce; proxy of <Swig Object of type 'OpenMM::CustomTorsionForce *' at 0x2aefc37cd1b0> >, <openmm.openmm.CustomNonbondedForce; proxy of <Swig Object of type 'OpenMM::CustomNonbondedForce *' at 0x2aefc9d52f90> >, <openmm.openmm.CustomNonbondedForce; proxy of <Swig Object of type 'OpenMM::CustomNonbondedForce *' at 0x2aefc9d52ea0> >, <openmm.openmm.CustomBondForce; proxy of <Swig Object of type 'OpenMM::CustomBondForce *' at 0x2aefc9d52e70> >, <openmm.openmm.NonbondedForce; proxy of <Swig Object of type 'OpenMM::NonbondedForce *' at 0x2aefc9d52d80> >, <openmm.openmm.NonbondedForce; proxy of <Swig Object of type 'OpenMM::NonbondedForce *' at 0x2aefc9d52d50> >]\n",
      "INFO:setup:number of particles in apo: 39\n",
      "INFO:setup:number of particles in apo rest region: 39\n"
     ]
    },
    {
     "name": "stdout",
     "output_type": "stream",
     "text": [
      "apo rest region atoms:\n",
      "ACE1-H1\n",
      "ACE1-CH3\n",
      "ACE1-H2\n",
      "ACE1-H3\n",
      "ACE1-C\n",
      "ACE1-O\n",
      "ARG2-N\n",
      "ARG2-H\n",
      "ARG2-CA\n",
      "ARG2-HA\n",
      "ARG2-CB\n",
      "ARG2-HB2\n",
      "ARG2-HB3\n",
      "ARG2-C\n",
      "ARG2-O\n",
      "ARG2-CG\n",
      "ARG2-HG2\n",
      "ARG2-HG3\n",
      "ARG2-CD\n",
      "ARG2-HD2\n",
      "ARG2-HD3\n",
      "ARG2-NE\n",
      "ARG2-HE\n",
      "ARG2-CZ\n",
      "ARG2-NH1\n",
      "ARG2-HH11\n",
      "ARG2-HH12\n",
      "ARG2-NH2\n",
      "ARG2-HH21\n",
      "ARG2-HH22\n",
      "ARG2-HB2\n",
      "ARG2-HB3\n",
      "ARG2-HB1\n",
      "NME3-N\n",
      "NME3-H\n",
      "NME3-C\n",
      "NME3-H1\n",
      "NME3-H2\n",
      "NME3-H3\n"
     ]
    }
   ],
   "source": [
    "outdir = \"/data/chodera/zhangi/perses_benchmark/repex/38/31/\"\n",
    "residue = '2'\n",
    "mutant = 'ALA'\n",
    "\n",
    "apo_file = \"/data/chodera/zhangi/perses_benchmark/repex/38/31/equil/apo_equilibrated.cif\" \n",
    "cif = app.PDBxFile(apo_file)\n",
    "modeller = app.Modeller(cif.topology, cif.positions)\n",
    "solvent_chains = [chain for chain in modeller.topology.chains() if chain.index > 0]\n",
    "modeller.delete(solvent_chains)\n",
    "modeller.topology.setPeriodicBoxVectors(None)\n",
    "apo_file_vacuum = \"/data/chodera/zhangi/perses_benchmark/repex/38/31/equil/apo_equilibrated_vacuum.cif\" \n",
    "app.PDBxFile.writeFile(modeller.topology, modeller.positions, open(apo_file_vacuum, \"w\"), keepIds=True)\n",
    "\n",
    "solvent_delivery = generate_vacuum_htf(outdir, residue, mutant, apo_file_vacuum, w_scale=0.2)"
   ]
  },
  {
   "cell_type": "code",
   "execution_count": 8,
   "id": "76c0da5d",
   "metadata": {},
   "outputs": [
    {
     "name": "stderr",
     "output_type": "stream",
     "text": [
      "DEBUG:openmmforcefields.system_generators:Trying GAFFTemplateGenerator to load gaff-2.11\n",
      "INFO:proposal_generator:\tConducting polymer point mutation proposal...\n",
      "INFO:proposal_generator:local_atom_map: {6: 6, 7: 7, 8: 8, 9: 9, 10: 10, 13: 13, 14: 14}\n",
      "INFO:proposal_generator:the mapped atom names are: [('N', 'N'), ('H', 'H'), ('CA', 'CA'), ('HA', 'HA'), ('CB', 'CB'), ('C', 'C'), ('O', 'O')]\n",
      "INFO:geometry:propose: performing forward proposal\n",
      "INFO:geometry:propose: unique new atoms detected; proceeding to _logp_propose...\n",
      "INFO:geometry:Conducting forward proposal...\n",
      "INFO:geometry:Computing proposal order with NetworkX...\n",
      "INFO:geometry:number of atoms to be placed: 3\n",
      "INFO:geometry:Atom index proposal order is [11, 12, 15]\n",
      "INFO:geometry:omitted_bonds: []\n",
      "INFO:geometry:direction of proposal is forward; creating atoms_with_positions and new positions from old system/topology...\n",
      "INFO:geometry:creating growth system...\n",
      "INFO:geometry:\tcreating bond force...\n",
      "INFO:geometry:\tthere are 9 bonds in reference force.\n",
      "INFO:geometry:\tcreating angle force...\n",
      "INFO:geometry:\tthere are 36 angles in reference force.\n",
      "INFO:geometry:\tcreating torsion force...\n",
      "INFO:geometry:\tcreating extra torsions force...\n",
      "INFO:geometry:\tthere are 42 torsions in reference force.\n",
      "INFO:geometry:\tcreating nonbonded force...\n",
      "INFO:geometry:\t\tgrabbing reference nonbonded method, cutoff, switching function, switching distance...\n",
      "INFO:geometry:\t\tcreating nonbonded exception force (i.e. custom bond for 1,4s)...\n",
      "INFO:geometry:\t\tlooping through exceptions calculating growth indices, and adding appropriate interactions to custom bond force.\n",
      "INFO:geometry:\t\tthere are 98 in the reference Nonbonded force\n",
      "INFO:geometry:Neglected angle terms : []\n",
      "INFO:geometry:omitted_growth_terms: {'bonds': [], 'angles': [], 'torsions': [], '1,4s': []}\n",
      "INFO:geometry:extra torsions: {0: (6, 8, 10, 15, [1, Quantity(value=2.105358864604291, unit=radian), Quantity(value=1200.0, unit=kilocalorie/mole), 3]), 1: (6, 8, 10, 11, [1, Quantity(value=-2.0823006129211796, unit=radian), Quantity(value=1200.0, unit=kilocalorie/mole), 1]), 2: (6, 8, 10, 12, [1, Quantity(value=0.018582237407944735, unit=radian), Quantity(value=1200.0, unit=kilocalorie/mole), 2]), 3: (13, 8, 10, 15, [1, Quantity(value=-0.036945135932107576, unit=radian), Quantity(value=1200.0, unit=kilocalorie/mole), 3]), 4: (13, 8, 10, 11, [1, Quantity(value=2.0585806937220097, unit=radian), Quantity(value=1200.0, unit=kilocalorie/mole), 1]), 5: (13, 8, 10, 12, [1, Quantity(value=-2.1237217631284597, unit=radian), Quantity(value=1200.0, unit=kilocalorie/mole), 2]), 6: (9, 8, 10, 15, [1, Quantity(value=-2.119603470065817, unit=radian), Quantity(value=1200.0, unit=kilocalorie/mole), 3]), 7: (9, 8, 10, 11, [1, Quantity(value=-0.024077640411697132, unit=radian), Quantity(value=1200.0, unit=kilocalorie/mole), 1]), 8: (9, 8, 10, 12, [1, Quantity(value=2.0768052099174152, unit=radian), Quantity(value=1200.0, unit=kilocalorie/mole), 2])}\n",
      "INFO:geometry:neglected angle terms include []\n",
      "INFO:geometry:log probability choice of torsions and atom order: -5.0875963352323845\n",
      "INFO:geometry:creating platform, integrators, and contexts; setting growth parameter\n"
     ]
    },
    {
     "name": "stdout",
     "output_type": "stream",
     "text": [
      "None\n",
      "[Quantity(value=Vec3(x=2.0, y=0.0, z=0.0), unit=nanometer), Quantity(value=Vec3(x=0.0, y=2.0, z=0.0), unit=nanometer), Quantity(value=Vec3(x=0.0, y=0.0, z=2.0), unit=nanometer)]\n",
      "False\n",
      "[Quantity(value=Vec3(x=2.0, y=0.0, z=0.0), unit=nanometer), Quantity(value=Vec3(x=0.0, y=2.0, z=0.0), unit=nanometer), Quantity(value=Vec3(x=0.0, y=0.0, z=2.0), unit=nanometer)]\n",
      "False\n",
      "conducting subsequent work with the following platform: CUDA\n"
     ]
    },
    {
     "name": "stderr",
     "output_type": "stream",
     "text": [
      "INFO:geometry:setting atoms_with_positions context new positions\n",
      "INFO:geometry:There are 3 new atoms\n",
      "INFO:geometry:\treduced angle potential = 0.177408978061704.\n"
     ]
    },
    {
     "name": "stdout",
     "output_type": "stream",
     "text": [
      "conducting subsequent work with the following platform: CUDA\n"
     ]
    },
    {
     "name": "stderr",
     "output_type": "stream",
     "text": [
      "INFO:geometry:\treduced angle potential = 0.2828471794178054.\n",
      "INFO:geometry:\treduced angle potential = 0.0003349974895393463.\n",
      "INFO:geometry:\tbeginning construction of no_nonbonded final system...\n",
      "INFO:geometry:\tinitial no-nonbonded final system forces ['HarmonicBondForce', 'HarmonicAngleForce', 'PeriodicTorsionForce', 'NonbondedForce']\n",
      "INFO:geometry:\tfinal no-nonbonded final system forces dict_keys(['HarmonicBondForce', 'HarmonicAngleForce', 'PeriodicTorsionForce', 'NonbondedForce'])\n",
      "INFO:geometry:\tthere are 9 bond forces in the no-nonbonded final system\n",
      "INFO:geometry:\tthere are 36 angle forces in the no-nonbonded final system\n",
      "INFO:geometry:\tthere are 42 torsion forces in the no-nonbonded final system\n",
      "INFO:geometry:forward final system defined with 0 neglected angles.\n"
     ]
    },
    {
     "name": "stdout",
     "output_type": "stream",
     "text": [
      "conducting subsequent work with the following platform: CUDA\n"
     ]
    },
    {
     "name": "stderr",
     "output_type": "stream",
     "text": [
      "INFO:geometry:total reduced potential before atom placement: 42.539566350871226\n"
     ]
    },
    {
     "name": "stdout",
     "output_type": "stream",
     "text": [
      "conducting subsequent work with the following platform: CUDA\n",
      "conducting subsequent work with the following platform: CUDA\n",
      "conducting subsequent work with the following platform: CUDA\n",
      "conducting subsequent work with the following platform: CUDA\n",
      "added energy components: [('CustomBondForce', 0.0), ('CustomAngleForce', 0.5387853395387128), ('CustomTorsionForce', 0.08824677821498546), ('CustomBondForce', 8.128945536110283)]\n"
     ]
    },
    {
     "name": "stderr",
     "output_type": "stream",
     "text": [
      "INFO:geometry:total reduced energy added from growth system: 8.755977653863983\n",
      "INFO:geometry:final reduced energy 51.29554348411048\n",
      "INFO:geometry:sum of energies: 51.295544004735206\n",
      "INFO:geometry:magnitude of difference in the energies: 5.206247273292774e-07\n",
      "INFO:geometry:Final logp_proposal: 21.72114332758381\n",
      "INFO:geometry:logp_reverse: performing reverse proposal\n",
      "INFO:geometry:logp_reverse: unique new atoms detected; proceeding to _logp_propose...\n",
      "INFO:geometry:Conducting forward proposal...\n",
      "INFO:geometry:Computing proposal order with NetworkX...\n",
      "INFO:geometry:number of atoms to be placed: 17\n",
      "INFO:geometry:Atom index proposal order is [15, 18, 21, 23, 24, 27, 22, 17, 25, 11, 16, 12, 19, 26, 28, 20, 29]\n",
      "INFO:geometry:omitted_bonds: []\n",
      "INFO:geometry:direction of proposal is reverse; creating atoms_with_positions from old system/topology\n",
      "INFO:geometry:creating growth system...\n",
      "INFO:geometry:\tcreating bond force...\n",
      "INFO:geometry:\tthere are 15 bonds in reference force.\n",
      "INFO:geometry:\tcreating angle force...\n",
      "INFO:geometry:\tthere are 60 angles in reference force.\n",
      "INFO:geometry:\tcreating torsion force...\n",
      "INFO:geometry:\tcreating extra torsions force...\n",
      "INFO:geometry:\tthere are 78 torsions in reference force.\n",
      "INFO:geometry:\tcreating nonbonded force...\n",
      "INFO:geometry:\t\tgrabbing reference nonbonded method, cutoff, switching function, switching distance...\n",
      "INFO:geometry:\t\tcreating nonbonded exception force (i.e. custom bond for 1,4s)...\n",
      "INFO:geometry:\t\tlooping through exceptions calculating growth indices, and adding appropriate interactions to custom bond force.\n",
      "INFO:geometry:\t\tthere are 172 in the reference Nonbonded force\n",
      "INFO:geometry:Neglected angle terms : []\n",
      "INFO:geometry:omitted_growth_terms: {'bonds': [], 'angles': [], 'torsions': [], '1,4s': []}\n",
      "INFO:geometry:extra torsions: {0: (28, 27, 23, 21, [1, Quantity(value=3.1400479780546657, unit=radian), Quantity(value=1200.0, unit=kilocalorie/mole), 15]), 1: (28, 27, 23, 24, [1, Quantity(value=-0.0009854700401916716, unit=radian), Quantity(value=1200.0, unit=kilocalorie/mole), 15]), 2: (29, 27, 23, 21, [1, Quantity(value=-0.0019499207113558015, unit=radian), Quantity(value=1200.0, unit=kilocalorie/mole), 17]), 3: (29, 27, 23, 24, [1, Quantity(value=3.1402019383733304, unit=radian), Quantity(value=1200.0, unit=kilocalorie/mole), 17]), 4: (27, 23, 24, 26, [1, Quantity(value=-3.141011085169936, unit=radian), Quantity(value=1200.0, unit=kilocalorie/mole), 14]), 5: (27, 23, 24, 25, [1, Quantity(value=0.0013841937088012735, unit=radian), Quantity(value=1200.0, unit=kilocalorie/mole), 9]), 6: (21, 23, 24, 26, [1, Quantity(value=0.0011725432810614222, unit=radian), Quantity(value=1200.0, unit=kilocalorie/mole), 14]), 7: (21, 23, 24, 25, [1, Quantity(value=-3.1396174850195098, unit=radian), Quantity(value=1200.0, unit=kilocalorie/mole), 9])}\n",
      "INFO:geometry:neglected angle terms include []\n",
      "INFO:geometry:log probability choice of torsions and atom order: -31.124844730156813\n",
      "INFO:geometry:creating platform, integrators, and contexts; setting growth parameter\n"
     ]
    },
    {
     "name": "stdout",
     "output_type": "stream",
     "text": [
      "conducting subsequent work with the following platform: CUDA\n"
     ]
    },
    {
     "name": "stderr",
     "output_type": "stream",
     "text": [
      "INFO:geometry:setting atoms_with_positions context old positions\n",
      "INFO:geometry:There are 17 new atoms\n",
      "INFO:geometry:\treduced angle potential = 0.042853125757750306.\n"
     ]
    },
    {
     "name": "stdout",
     "output_type": "stream",
     "text": [
      "conducting subsequent work with the following platform: CUDA\n"
     ]
    },
    {
     "name": "stderr",
     "output_type": "stream",
     "text": [
      "INFO:geometry:\treduced angle potential = 0.11918491356084256.\n",
      "INFO:geometry:\treduced angle potential = 0.03558938425976845.\n",
      "INFO:geometry:\treduced angle potential = 3.063706070595789e-05.\n",
      "INFO:geometry:\treduced angle potential = 0.1283940070536202.\n",
      "INFO:geometry:\treduced angle potential = 0.3856161427963459.\n",
      "INFO:geometry:\treduced angle potential = 0.3345265489620942.\n",
      "INFO:geometry:\treduced angle potential = 0.466213462801573.\n",
      "INFO:geometry:\treduced angle potential = 0.3039552128830515.\n",
      "INFO:geometry:\treduced angle potential = 0.47156099485695346.\n",
      "INFO:geometry:\treduced angle potential = 0.4529665185393124.\n",
      "INFO:geometry:\treduced angle potential = 0.32379759832066435.\n",
      "INFO:geometry:\treduced angle potential = 0.1891037527507676.\n",
      "INFO:geometry:\treduced angle potential = 0.0395257051882019.\n",
      "INFO:geometry:\treduced angle potential = 0.37202362757935775.\n",
      "INFO:geometry:\treduced angle potential = 0.39463143613777724.\n",
      "INFO:geometry:\treduced angle potential = 0.006867661209664784.\n",
      "INFO:geometry:\tbeginning construction of no_nonbonded final system...\n",
      "INFO:geometry:\tinitial no-nonbonded final system forces ['HarmonicBondForce', 'HarmonicAngleForce', 'PeriodicTorsionForce', 'NonbondedForce']\n",
      "INFO:geometry:\tfinal no-nonbonded final system forces dict_keys(['HarmonicBondForce', 'HarmonicAngleForce', 'PeriodicTorsionForce', 'NonbondedForce'])\n",
      "INFO:geometry:\tthere are 15 bond forces in the no-nonbonded final system\n",
      "INFO:geometry:\tthere are 60 angle forces in the no-nonbonded final system\n",
      "INFO:geometry:\tthere are 78 torsion forces in the no-nonbonded final system\n",
      "INFO:geometry:reverse final system defined with 0 neglected angles.\n"
     ]
    },
    {
     "name": "stdout",
     "output_type": "stream",
     "text": [
      "conducting subsequent work with the following platform: CUDA\n"
     ]
    },
    {
     "name": "stderr",
     "output_type": "stream",
     "text": [
      "INFO:geometry:total reduced potential before atom placement: 42.539566350871226\n"
     ]
    },
    {
     "name": "stdout",
     "output_type": "stream",
     "text": [
      "conducting subsequent work with the following platform: CUDA\n",
      "conducting subsequent work with the following platform: CUDA\n",
      "conducting subsequent work with the following platform: CUDA\n",
      "conducting subsequent work with the following platform: CUDA\n",
      "added energy components: [('CustomBondForce', 8.159981229252093), ('CustomAngleForce', 9.07511207953895), ('CustomTorsionForce', 4.707971040348824), ('CustomBondForce', -500.77732896921924)]\n"
     ]
    },
    {
     "name": "stderr",
     "output_type": "stream",
     "text": [
      "INFO:geometry:total reduced energy added from growth system: -478.8342646200793\n",
      "INFO:geometry:final reduced energy -436.2947077009399\n",
      "INFO:geometry:sum of energies: -436.2946982692081\n",
      "INFO:geometry:magnitude of difference in the energies: 9.43173182577084e-06\n",
      "INFO:geometry:Final logp_proposal: -31459.04893226221\n",
      "INFO:setup:skipping counterion functionality because phase is vacuum\n",
      "INFO:relative:*** Generating vanilla HybridTopologyFactory ***\n",
      "INFO:relative:Beginning nonbonded method, total particle, barostat, and exceptions retrieval...\n",
      "INFO:relative:Flattening exceptions of unique new/old at lambda = 0/1\n",
      "INFO:relative:Old system forces: dict_keys(['HarmonicBondForce', 'HarmonicAngleForce', 'PeriodicTorsionForce', 'NonbondedForce'])\n",
      "INFO:relative:New system forces: dict_keys(['HarmonicBondForce', 'HarmonicAngleForce', 'PeriodicTorsionForce', 'NonbondedForce'])\n",
      "INFO:relative:No unknown forces.\n",
      "INFO:relative:Nonbonded method to be used (i.e. from old system): 0\n",
      "INFO:relative:Adding and mapping old atoms to hybrid system...\n",
      "INFO:relative:Adding and mapping new atoms to hybrid system...\n",
      "INFO:relative:No MonteCarloBarostat added.\n",
      "INFO:relative:getDefaultPeriodicBoxVectors added to hybrid: [Quantity(value=Vec3(x=2.0, y=0.0, z=0.0), unit=nanometer), Quantity(value=Vec3(x=0.0, y=2.0, z=0.0), unit=nanometer), Quantity(value=Vec3(x=0.0, y=0.0, z=2.0), unit=nanometer)]\n",
      "INFO:relative:Determined atom classes.\n",
      "INFO:relative:Generating old system exceptions dict...\n",
      "INFO:relative:Generating new system exceptions dict...\n",
      "INFO:relative:Handling constraints...\n",
      "INFO:relative:Handling virtual sites...\n",
      "INFO:relative:\t_handle_virtual_sites: numVirtualSites: 0\n",
      "INFO:relative:Adding bond force terms...\n",
      "INFO:relative:Adding angle force terms...\n",
      "INFO:relative:Adding torsion force terms...\n",
      "INFO:relative:Adding nonbonded force terms...\n",
      "INFO:relative:\t_add_nonbonded_force_terms: <openmm.openmm.NonbondedForce; proxy of <Swig Object of type 'OpenMM::NonbondedForce *' at 0x2aefc6918120> > added to hybrid system\n",
      "INFO:relative:\t_add_nonbonded_force_terms: nonbonded_method is NoCutoff\n",
      "INFO:relative:\t_add_nonbonded_force_terms: 0 added to standard nonbonded force\n",
      "INFO:relative:\t_add_nonbonded_force_terms: 0 added to sterics_custom_nonbonded force\n",
      "INFO:relative:\t_add_nonbonded_force_terms: <openmm.openmm.CustomNonbondedForce; proxy of <Swig Object of type 'OpenMM::CustomNonbondedForce *' at 0x2aefc69187b0> > added to hybrid system\n",
      "INFO:relative:Handling harmonic bonds...\n",
      "INFO:relative:\thandle_harmonic_bonds: looping through old_system to add relevant terms...\n",
      "INFO:relative:\thandle_harmonic_bonds: looping through new_system to add relevant terms...\n",
      "INFO:relative:Handling harmonic angles...\n",
      "INFO:relative:\thandle_harmonic_angles: looping through old_system to add relevant terms...\n",
      "INFO:relative:\thandle_harmonic_angles: looping through new_system to add relevant terms...\n",
      "INFO:relative:Handling torsion forces...\n",
      "INFO:relative:\thandle_periodic_torsion_forces: looping through old_system to add relevant terms...\n",
      "INFO:relative:\thandle_periodic_torsion_forces: looping through new_system to add relevant terms...\n",
      "INFO:relative:Handling nonbonded forces...\n",
      "INFO:relative:\thandle_nonbonded: looping through all particles in hybrid...\n",
      "INFO:relative:\thandle_nonbonded: Handling Interaction Groups...\n",
      "INFO:relative:\thandle_nonbonded: Handling Hybrid Exceptions...\n",
      "INFO:relative:\thandle_nonbonded: Handling Original Exceptions...\n",
      "INFO:relative:Handling unique_new/old interaction exceptions...\n",
      "INFO:relative:There are old or new system exceptions...proceeding.\n",
      "INFO:relative:Imposing virtual bonds to ensure system is imaged together.\n",
      "INFO:relative:\t\t_impose_virtual_bonds: No restraint added because sets overlap (core_atoms=[32, 1, 4, 5, 6, 8, 10, 13, 14, 30], protein_atoms=[8])\n",
      "INFO:relative:*** Generating RESTCapableHybridTopologyFactory ***\n",
      "INFO:relative:Old system forces: dict_keys(['HarmonicBondForce', 'HarmonicAngleForce', 'PeriodicTorsionForce', 'NonbondedForce'])\n",
      "INFO:relative:New system forces: dict_keys(['HarmonicBondForce', 'HarmonicAngleForce', 'PeriodicTorsionForce', 'NonbondedForce'])\n",
      "INFO:relative:No unknown forces.\n",
      "INFO:relative:r_cutoff is 100 nm\n",
      "INFO:relative:alpha_ewald is 0\n",
      "INFO:relative:w_scale is 0.01\n",
      "INFO:relative:Creating hybrid system\n",
      "INFO:relative:Adding and mapping old atoms to hybrid system...\n",
      "INFO:relative:Adding and mapping new atoms to hybrid system...\n",
      "INFO:relative:No MonteCarloBarostat added.\n",
      "INFO:relative:getDefaultPeriodicBoxVectors added to hybrid: [Quantity(value=Vec3(x=2.0, y=0.0, z=0.0), unit=nanometer), Quantity(value=Vec3(x=0.0, y=2.0, z=0.0), unit=nanometer), Quantity(value=Vec3(x=0.0, y=0.0, z=2.0), unit=nanometer)]\n",
      "INFO:relative:Determined atom classes.\n",
      "INFO:relative:Computed hybrid positions\n",
      "INFO:relative:Created hybrid topology\n",
      "INFO:relative:Generating rest_region with query indices: [6, 7, 8, 9, 10, 11, 12, 13, 14, 15, 16, 17, 18, 19, 20, 21, 22, 23, 24, 25, 26, 27, 28, 29, 36, 37, 38]\n",
      "INFO:relative:Rest radius: 0.3 nm\n",
      "INFO:relative:Rest region: [0, 1, 2, 3, 4, 5, 6, 7, 8, 9, 10, 11, 12, 13, 14, 15, 16, 17, 18, 19, 20, 21, 22, 23, 24, 25, 26, 27, 28, 29, 36, 37, 38, 30, 31, 32, 33, 34, 35]\n",
      "INFO:relative:Prepped look up dict for determining if atom is solvent\n",
      "INFO:relative:Generating old system exceptions dict...\n",
      "INFO:relative:Generating new system exceptions dict...\n",
      "INFO:relative:Handling constraints...\n",
      "INFO:relative:Handling virtual sites...\n",
      "INFO:relative:\t_handle_virtual_sites: numVirtualSites: 0\n",
      "INFO:relative:Handling bonds...\n",
      "INFO:relative:Handling angles...\n",
      "INFO:relative:Handling torsions...\n",
      "INFO:relative:Handling nonbondeds (creating forces)...\n",
      "INFO:relative:Handling nonbondeds (copying nonbonded particles)...\n",
      "INFO:relative:Handling nonbondeds (copying nonbonded exceptions)...\n",
      "INFO:setup:Saving htfs as pickles\n",
      "INFO:setup:sterics expression: U_electrostatics + U_sterics * sterics_rest_scale; U_electrostatics = U_electrostatics_coulomb * electrostatics_rest_scale - U_electrostatics_reciprocal; U_electrostatics_coulomb = 138.93545764438198 * chargeProd_exceptions / r; U_electrostatics_reciprocal = 138.93545764438198 * chargeProd_product * erf(alpha * r) / r; electrostatics_rest_scale = is_rest * lambda_rest_electrostatics_exceptions * lambda_rest_electrostatics_exceptions + is_inter * lambda_rest_electrostatics_exceptions + is_nonrest; sterics_rest_scale = is_rest * lambda_rest_sterics_exceptions * lambda_rest_sterics_exceptions + is_inter * lambda_rest_sterics_exceptions + is_nonrest; U_sterics = 4 * epsilon * x * (x - 1.0);x = (sigma / r)^6;chargeProd_exceptions = is_unique_old * old_chargeProd_exceptions_scaled + is_unique_new * new_chargeProd_exceptions_scaled + is_core * (old_chargeProd_exceptions_scaled + new_chargeProd_exceptions_scaled) + is_environment * chargeProd_exceptions_old; old_chargeProd_exceptions_scaled = lambda_alchemical_electrostatics_exceptions_old * chargeProd_exceptions_old; new_chargeProd_exceptions_scaled = lambda_alchemical_electrostatics_exceptions_new * chargeProd_exceptions_new; chargeProd_product = is_unique_old * old_chargeProd_product_scaled + is_unique_new * new_chargeProd_product_scaled + is_core * (old_chargeProd_product_scaled + new_chargeProd_product_scaled) + is_environment * chargeProd_product_old; old_chargeProd_product_scaled = lambda_alchemical_electrostatics_exceptions_old * chargeProd_product_old; new_chargeProd_product_scaled = lambda_alchemical_electrostatics_exceptions_new * chargeProd_product_new; sigma = is_unique_old * sigma_old + is_unique_new * sigma_new + is_core * max(0.05, (lambda_alchemical_sterics_exceptions_old * sigma_old + lambda_alchemical_sterics_exceptions_new * sigma_new)) + is_environment * sigma_old; epsilon = is_unique_old * old_epsilon_scaled + is_unique_new * new_epsilon_scaled + is_core * (old_epsilon_scaled + new_epsilon_scaled) + is_environment * epsilon_old; old_epsilon_scaled = lambda_alchemical_sterics_exceptions_old * epsilon_old; new_epsilon_scaled = lambda_alchemical_sterics_exceptions_new * epsilon_new; alpha = 0;\n",
      "INFO:setup:forces: [<openmm.openmm.CustomBondForce; proxy of <Swig Object of type 'OpenMM::CustomBondForce *' at 0x2aefc66867b0> >, <openmm.openmm.CustomAngleForce; proxy of <Swig Object of type 'OpenMM::CustomAngleForce *' at 0x2aefc74b49c0> >, <openmm.openmm.CustomTorsionForce; proxy of <Swig Object of type 'OpenMM::CustomTorsionForce *' at 0x2aefc60e5300> >, <openmm.openmm.CustomNonbondedForce; proxy of <Swig Object of type 'OpenMM::CustomNonbondedForce *' at 0x2aefc6146720> >, <openmm.openmm.CustomNonbondedForce; proxy of <Swig Object of type 'OpenMM::CustomNonbondedForce *' at 0x2aefc61526f0> >, <openmm.openmm.CustomBondForce; proxy of <Swig Object of type 'OpenMM::CustomBondForce *' at 0x2aefc6152480> >, <openmm.openmm.NonbondedForce; proxy of <Swig Object of type 'OpenMM::NonbondedForce *' at 0x2aefc6152270> >, <openmm.openmm.NonbondedForce; proxy of <Swig Object of type 'OpenMM::NonbondedForce *' at 0x2aefc6158060> >]\n"
     ]
    },
    {
     "name": "stderr",
     "output_type": "stream",
     "text": [
      "INFO:setup:number of particles in apo: 39\n",
      "INFO:setup:number of particles in apo rest region: 39\n"
     ]
    },
    {
     "name": "stdout",
     "output_type": "stream",
     "text": [
      "apo rest region atoms:\n",
      "ACE1-H1\n",
      "ACE1-CH3\n",
      "ACE1-H2\n",
      "ACE1-H3\n",
      "ACE1-C\n",
      "ACE1-O\n",
      "ARG2-N\n",
      "ARG2-H\n",
      "ARG2-CA\n",
      "ARG2-HA\n",
      "ARG2-CB\n",
      "ARG2-HB2\n",
      "ARG2-HB3\n",
      "ARG2-C\n",
      "ARG2-O\n",
      "ARG2-CG\n",
      "ARG2-HG2\n",
      "ARG2-HG3\n",
      "ARG2-CD\n",
      "ARG2-HD2\n",
      "ARG2-HD3\n",
      "ARG2-NE\n",
      "ARG2-HE\n",
      "ARG2-CZ\n",
      "ARG2-NH1\n",
      "ARG2-HH11\n",
      "ARG2-HH12\n",
      "ARG2-NH2\n",
      "ARG2-HH21\n",
      "ARG2-HH22\n",
      "ARG2-HB2\n",
      "ARG2-HB3\n",
      "ARG2-HB1\n",
      "NME3-N\n",
      "NME3-H\n",
      "NME3-C\n",
      "NME3-H1\n",
      "NME3-H2\n",
      "NME3-H3\n"
     ]
    }
   ],
   "source": [
    "outdir = \"/data/chodera/zhangi/perses_benchmark/repex/38/32/\"\n",
    "residue = '2'\n",
    "mutant = 'ALA'\n",
    "\n",
    "apo_file = \"/data/chodera/zhangi/perses_benchmark/repex/38/32/equil/apo_equilibrated.cif\" \n",
    "cif = app.PDBxFile(apo_file)\n",
    "modeller = app.Modeller(cif.topology, cif.positions)\n",
    "solvent_chains = [chain for chain in modeller.topology.chains() if chain.index > 0]\n",
    "modeller.delete(solvent_chains)\n",
    "modeller.topology.setPeriodicBoxVectors(None)\n",
    "apo_file_vacuum = \"/data/chodera/zhangi/perses_benchmark/repex/38/32/equil/apo_equilibrated_vacuum.cif\" \n",
    "app.PDBxFile.writeFile(modeller.topology, modeller.positions, open(apo_file_vacuum, \"w\"), keepIds=True)\n",
    "\n",
    "solvent_delivery = generate_vacuum_htf(outdir, residue, mutant, apo_file_vacuum, w_scale=0.01)"
   ]
  },
  {
   "cell_type": "code",
   "execution_count": null,
   "id": "da33f339",
   "metadata": {},
   "outputs": [],
   "source": []
  },
  {
   "cell_type": "code",
   "execution_count": 6,
   "id": "c029fa2e",
   "metadata": {},
   "outputs": [],
   "source": [
    "with open(\"/data/chodera/zhangi/perses_benchmark/repex/38/2/2_apo.pickle\", \"rb\") as f:\n",
    "    htf = pickle.load(f)"
   ]
  },
  {
   "cell_type": "code",
   "execution_count": 8,
   "id": "4a8bda77",
   "metadata": {},
   "outputs": [
    {
     "data": {
      "text/plain": [
       "1873"
      ]
     },
     "execution_count": 8,
     "metadata": {},
     "output_type": "execute_result"
    }
   ],
   "source": [
    "1873"
   ]
  },
  {
   "cell_type": "code",
   "execution_count": null,
   "id": "9b684408",
   "metadata": {},
   "outputs": [],
   "source": [
    "htf._topology_proposal."
   ]
  },
  {
   "cell_type": "code",
   "execution_count": 7,
   "id": "597cd495",
   "metadata": {},
   "outputs": [
    {
     "data": {
      "text/plain": [
       "[<openmm.openmm.HarmonicBondForce; proxy of <Swig Object of type 'OpenMM::HarmonicBondForce *' at 0x2b62406eb600> >,\n",
       " <openmm.openmm.HarmonicAngleForce; proxy of <Swig Object of type 'OpenMM::HarmonicAngleForce *' at 0x2b62406eb510> >,\n",
       " <openmm.openmm.PeriodicTorsionForce; proxy of <Swig Object of type 'OpenMM::PeriodicTorsionForce *' at 0x2b62406eb630> >,\n",
       " <openmm.openmm.NonbondedForce; proxy of <Swig Object of type 'OpenMM::NonbondedForce *' at 0x2b62406eb8d0> >,\n",
       " <openmm.openmm.MonteCarloBarostat; proxy of <Swig Object of type 'OpenMM::MonteCarloBarostat *' at 0x2b62406eba20> >]"
      ]
     },
     "execution_count": 7,
     "metadata": {},
     "output_type": "execute_result"
    }
   ],
   "source": [
    "new_sysetm htf._topology_proposal.old_system.getForces()"
   ]
  },
  {
   "cell_type": "markdown",
   "id": "47fc2180",
   "metadata": {},
   "source": [
    "# Use ALA from ARG->ALA (38/2)"
   ]
  },
  {
   "cell_type": "code",
   "execution_count": 8,
   "id": "3b523fa1",
   "metadata": {},
   "outputs": [
    {
     "name": "stderr",
     "output_type": "stream",
     "text": [
      "DEBUG:openmmforcefields.system_generators:Trying GAFFTemplateGenerator to load gaff-2.11\n",
      "INFO:proposal_generator:\tConducting polymer point mutation proposal...\n",
      "INFO:proposal_generator:local_atom_map: {6: 6, 7: 7, 8: 8, 9: 9, 10: 10, 13: 13, 14: 14}\n",
      "INFO:proposal_generator:the mapped atom names are: [('N', 'N'), ('H', 'H'), ('CA', 'CA'), ('HA', 'HA'), ('CB', 'CB'), ('C', 'C'), ('O', 'O')]\n"
     ]
    },
    {
     "name": "stdout",
     "output_type": "stream",
     "text": [
      "[Quantity(value=Vec3(x=2.9625000000000004, y=0.0, z=0.0), unit=nanometer), Quantity(value=Vec3(x=0.9874404959209033, y=2.793092822842714, z=0.0), unit=nanometer), Quantity(value=Vec3(x=-0.987440495920903, y=1.396420187060082, z=2.418962210987714), unit=nanometer)]\n",
      "True\n"
     ]
    },
    {
     "name": "stderr",
     "output_type": "stream",
     "text": [
      "INFO:geometry:propose: performing forward proposal\n",
      "INFO:geometry:propose: unique new atoms detected; proceeding to _logp_propose...\n",
      "INFO:geometry:Conducting forward proposal...\n",
      "INFO:geometry:Computing proposal order with NetworkX...\n",
      "INFO:geometry:number of atoms to be placed: 17\n",
      "INFO:geometry:Atom index proposal order is [15, 18, 21, 23, 24, 27, 20, 28, 16, 11, 17, 29, 26, 22, 19, 12, 25]\n",
      "INFO:geometry:omitted_bonds: []\n",
      "INFO:geometry:direction of proposal is forward; creating atoms_with_positions and new positions from old system/topology...\n"
     ]
    },
    {
     "name": "stdout",
     "output_type": "stream",
     "text": [
      "[Quantity(value=Vec3(x=2.9625000000000004, y=0.0, z=0.0), unit=nanometer), Quantity(value=Vec3(x=0.9874404959209033, y=2.793092822842714, z=0.0), unit=nanometer), Quantity(value=Vec3(x=-0.987440495920903, y=1.396420187060082, z=2.418962210987714), unit=nanometer)]\n",
      "True\n"
     ]
    },
    {
     "name": "stderr",
     "output_type": "stream",
     "text": [
      "INFO:geometry:creating growth system...\n",
      "INFO:geometry:\tcreating bond force...\n",
      "INFO:geometry:\tthere are 15 bonds in reference force.\n",
      "INFO:geometry:\tcreating angle force...\n",
      "INFO:geometry:\tthere are 60 angles in reference force.\n",
      "INFO:geometry:\tcreating torsion force...\n",
      "INFO:geometry:\tcreating extra torsions force...\n",
      "INFO:geometry:\tthere are 78 torsions in reference force.\n",
      "INFO:geometry:\tcreating nonbonded force...\n",
      "INFO:geometry:\t\tgrabbing reference nonbonded method, cutoff, switching function, switching distance...\n",
      "INFO:geometry:\t\tcreating nonbonded exception force (i.e. custom bond for 1,4s)...\n",
      "INFO:geometry:\t\tlooping through exceptions calculating growth indices, and adding appropriate interactions to custom bond force.\n",
      "INFO:geometry:\t\tthere are 2041 in the reference Nonbonded force\n",
      "INFO:geometry:Neglected angle terms : []\n",
      "INFO:geometry:omitted_growth_terms: {'bonds': [], 'angles': [], 'torsions': [], '1,4s': []}\n",
      "INFO:geometry:extra torsions: {0: (28, 27, 23, 21, [1, Quantity(value=3.1400479780546657, unit=radian), Quantity(value=1200.0, unit=kilocalorie/mole), 8]), 1: (28, 27, 23, 24, [1, Quantity(value=-0.0009854700401916716, unit=radian), Quantity(value=1200.0, unit=kilocalorie/mole), 8]), 2: (29, 27, 23, 21, [1, Quantity(value=-0.0019499207113558015, unit=radian), Quantity(value=1200.0, unit=kilocalorie/mole), 12]), 3: (29, 27, 23, 24, [1, Quantity(value=3.1402019383733304, unit=radian), Quantity(value=1200.0, unit=kilocalorie/mole), 12]), 4: (27, 23, 24, 26, [1, Quantity(value=-3.141011085169936, unit=radian), Quantity(value=1200.0, unit=kilocalorie/mole), 13]), 5: (27, 23, 24, 25, [1, Quantity(value=0.0013841937088012735, unit=radian), Quantity(value=1200.0, unit=kilocalorie/mole), 17]), 6: (21, 23, 24, 26, [1, Quantity(value=0.0011725432810614222, unit=radian), Quantity(value=1200.0, unit=kilocalorie/mole), 13]), 7: (21, 23, 24, 25, [1, Quantity(value=-3.1396174850195098, unit=radian), Quantity(value=1200.0, unit=kilocalorie/mole), 17])}\n",
      "INFO:geometry:neglected angle terms include []\n",
      "INFO:geometry:log probability choice of torsions and atom order: -32.023267208200124\n",
      "INFO:geometry:creating platform, integrators, and contexts; setting growth parameter\n"
     ]
    },
    {
     "name": "stdout",
     "output_type": "stream",
     "text": [
      "conducting subsequent work with the following platform: CUDA\n"
     ]
    },
    {
     "name": "stderr",
     "output_type": "stream",
     "text": [
      "INFO:geometry:setting atoms_with_positions context new positions\n"
     ]
    },
    {
     "name": "stdout",
     "output_type": "stream",
     "text": [
      "conducting subsequent work with the following platform: CUDA\n"
     ]
    },
    {
     "name": "stderr",
     "output_type": "stream",
     "text": [
      "INFO:geometry:There are 17 new atoms\n",
      "INFO:geometry:\treduced angle potential = 0.04961600089582041.\n",
      "INFO:geometry:\treduced angle potential = 0.6724915923569785.\n",
      "INFO:geometry:\treduced angle potential = 1.257165736932344.\n",
      "INFO:geometry:\treduced angle potential = 0.0002686562287125448.\n",
      "INFO:geometry:\treduced angle potential = 0.7653559139871672.\n",
      "INFO:geometry:\treduced angle potential = 0.6161141521616482.\n",
      "INFO:geometry:\treduced angle potential = 0.1500076071038435.\n",
      "INFO:geometry:\treduced angle potential = 0.568496012402573.\n",
      "INFO:geometry:\treduced angle potential = 0.21451768203819868.\n",
      "INFO:geometry:\treduced angle potential = 0.05681945829258905.\n",
      "INFO:geometry:\treduced angle potential = 0.031713664468783535.\n",
      "INFO:geometry:\treduced angle potential = 0.13624046767702713.\n",
      "INFO:geometry:\treduced angle potential = 0.7874372164717802.\n",
      "INFO:geometry:\treduced angle potential = 2.0704053507122873.\n",
      "INFO:geometry:\treduced angle potential = 0.2965329007580643.\n",
      "INFO:geometry:\treduced angle potential = 0.8431386928350774.\n",
      "INFO:geometry:\treduced angle potential = 0.010318777768865932.\n",
      "INFO:geometry:\tbeginning construction of no_nonbonded final system...\n",
      "INFO:geometry:\tinitial no-nonbonded final system forces ['HarmonicBondForce', 'HarmonicAngleForce', 'PeriodicTorsionForce', 'NonbondedForce', 'MonteCarloBarostat']\n",
      "INFO:geometry:\tfinal no-nonbonded final system forces dict_keys(['HarmonicBondForce', 'HarmonicAngleForce', 'PeriodicTorsionForce', 'NonbondedForce'])\n",
      "INFO:geometry:\tthere are 15 bond forces in the no-nonbonded final system\n",
      "INFO:geometry:\tthere are 60 angle forces in the no-nonbonded final system\n",
      "INFO:geometry:\tthere are 78 torsion forces in the no-nonbonded final system\n",
      "INFO:geometry:forward final system defined with 0 neglected angles.\n"
     ]
    },
    {
     "name": "stdout",
     "output_type": "stream",
     "text": [
      "conducting subsequent work with the following platform: CUDA\n",
      "conducting subsequent work with the following platform: CUDA\n"
     ]
    },
    {
     "name": "stderr",
     "output_type": "stream",
     "text": [
      "INFO:geometry:total reduced potential before atom placement: 42.58127084323712\n"
     ]
    },
    {
     "name": "stdout",
     "output_type": "stream",
     "text": [
      "conducting subsequent work with the following platform: CUDA\n",
      "conducting subsequent work with the following platform: CUDA\n",
      "conducting subsequent work with the following platform: CUDA\n"
     ]
    },
    {
     "name": "stderr",
     "output_type": "stream",
     "text": [
      "INFO:geometry:total reduced energy added from growth system: -443.5429748492816\n",
      "INFO:geometry:final reduced energy -400.96171398110727\n",
      "INFO:geometry:sum of energies: -400.9617040060445\n",
      "INFO:geometry:magnitude of difference in the energies: 9.97506276689819e-06\n",
      "INFO:geometry:Final logp_proposal: 104.55264109306117\n"
     ]
    },
    {
     "name": "stdout",
     "output_type": "stream",
     "text": [
      "added energy components: [('CustomBondForce', 0.9895139012714015), ('CustomAngleForce', 14.54988710640633), ('CustomTorsionForce', 15.100677768986328), ('CustomBondForce', -474.1830536259458)]\n"
     ]
    },
    {
     "name": "stderr",
     "output_type": "stream",
     "text": [
      "INFO:geometry:logp_reverse: performing reverse proposal\n",
      "INFO:geometry:logp_reverse: unique new atoms detected; proceeding to _logp_propose...\n",
      "INFO:geometry:Conducting forward proposal...\n",
      "INFO:geometry:Computing proposal order with NetworkX...\n",
      "INFO:geometry:number of atoms to be placed: 3\n",
      "INFO:geometry:Atom index proposal order is [15, 12, 11]\n",
      "INFO:geometry:omitted_bonds: []\n",
      "INFO:geometry:direction of proposal is reverse; creating atoms_with_positions from old system/topology\n",
      "INFO:geometry:creating growth system...\n",
      "INFO:geometry:\tcreating bond force...\n",
      "INFO:geometry:\tthere are 9 bonds in reference force.\n",
      "INFO:geometry:\tcreating angle force...\n",
      "INFO:geometry:\tthere are 36 angles in reference force.\n",
      "INFO:geometry:\tcreating torsion force...\n",
      "INFO:geometry:\tcreating extra torsions force...\n",
      "INFO:geometry:\tthere are 42 torsions in reference force.\n",
      "INFO:geometry:\tcreating nonbonded force...\n",
      "INFO:geometry:\t\tgrabbing reference nonbonded method, cutoff, switching function, switching distance...\n",
      "INFO:geometry:\t\tcreating nonbonded exception force (i.e. custom bond for 1,4s)...\n",
      "INFO:geometry:\t\tlooping through exceptions calculating growth indices, and adding appropriate interactions to custom bond force.\n",
      "INFO:geometry:\t\tthere are 1967 in the reference Nonbonded force\n",
      "INFO:geometry:Neglected angle terms : []\n",
      "INFO:geometry:omitted_growth_terms: {'bonds': [], 'angles': [], 'torsions': [], '1,4s': []}\n",
      "INFO:geometry:extra torsions: {0: (6, 8, 10, 15, [1, Quantity(value=2.105358864604291, unit=radian), Quantity(value=1200.0, unit=kilocalorie/mole), 1]), 1: (6, 8, 10, 11, [1, Quantity(value=-2.0823006129211796, unit=radian), Quantity(value=1200.0, unit=kilocalorie/mole), 3]), 2: (6, 8, 10, 12, [1, Quantity(value=0.018582237407944735, unit=radian), Quantity(value=1200.0, unit=kilocalorie/mole), 2]), 3: (13, 8, 10, 15, [1, Quantity(value=-0.036945135932107576, unit=radian), Quantity(value=1200.0, unit=kilocalorie/mole), 1]), 4: (13, 8, 10, 11, [1, Quantity(value=2.0585806937220097, unit=radian), Quantity(value=1200.0, unit=kilocalorie/mole), 3]), 5: (13, 8, 10, 12, [1, Quantity(value=-2.1237217631284597, unit=radian), Quantity(value=1200.0, unit=kilocalorie/mole), 2]), 6: (9, 8, 10, 15, [1, Quantity(value=-2.119603470065817, unit=radian), Quantity(value=1200.0, unit=kilocalorie/mole), 1]), 7: (9, 8, 10, 11, [1, Quantity(value=-0.024077640411697132, unit=radian), Quantity(value=1200.0, unit=kilocalorie/mole), 3]), 8: (9, 8, 10, 12, [1, Quantity(value=2.0768052099174152, unit=radian), Quantity(value=1200.0, unit=kilocalorie/mole), 2])}\n",
      "INFO:geometry:neglected angle terms include []\n",
      "INFO:geometry:log probability choice of torsions and atom order: -5.0875963352323845\n",
      "INFO:geometry:creating platform, integrators, and contexts; setting growth parameter\n"
     ]
    },
    {
     "name": "stdout",
     "output_type": "stream",
     "text": [
      "conducting subsequent work with the following platform: CUDA\n"
     ]
    },
    {
     "name": "stderr",
     "output_type": "stream",
     "text": [
      "INFO:geometry:setting atoms_with_positions context old positions\n"
     ]
    },
    {
     "name": "stdout",
     "output_type": "stream",
     "text": [
      "conducting subsequent work with the following platform: CUDA\n"
     ]
    },
    {
     "name": "stderr",
     "output_type": "stream",
     "text": [
      "INFO:geometry:There are 3 new atoms\n",
      "INFO:geometry:\treduced angle potential = 0.9104493820032148.\n",
      "INFO:geometry:\treduced angle potential = 0.024988852040757074.\n",
      "INFO:geometry:\treduced angle potential = 0.9459459029705085.\n",
      "INFO:geometry:\tbeginning construction of no_nonbonded final system...\n",
      "INFO:geometry:\tinitial no-nonbonded final system forces ['HarmonicBondForce', 'HarmonicAngleForce', 'PeriodicTorsionForce', 'NonbondedForce', 'MonteCarloBarostat']\n",
      "INFO:geometry:\tfinal no-nonbonded final system forces dict_keys(['HarmonicBondForce', 'HarmonicAngleForce', 'PeriodicTorsionForce', 'NonbondedForce'])\n",
      "INFO:geometry:\tthere are 9 bond forces in the no-nonbonded final system\n",
      "INFO:geometry:\tthere are 36 angle forces in the no-nonbonded final system\n",
      "INFO:geometry:\tthere are 42 torsion forces in the no-nonbonded final system\n",
      "INFO:geometry:reverse final system defined with 0 neglected angles.\n"
     ]
    },
    {
     "name": "stdout",
     "output_type": "stream",
     "text": [
      "conducting subsequent work with the following platform: CUDA\n",
      "conducting subsequent work with the following platform: CUDA\n"
     ]
    },
    {
     "name": "stderr",
     "output_type": "stream",
     "text": [
      "INFO:geometry:total reduced potential before atom placement: 42.58127084323711\n"
     ]
    },
    {
     "name": "stdout",
     "output_type": "stream",
     "text": [
      "conducting subsequent work with the following platform: CUDA\n",
      "conducting subsequent work with the following platform: CUDA\n",
      "conducting subsequent work with the following platform: CUDA\n"
     ]
    },
    {
     "name": "stderr",
     "output_type": "stream",
     "text": [
      "INFO:geometry:total reduced energy added from growth system: 10.974568849320748\n",
      "INFO:geometry:final reduced energy 53.5558390902291\n",
      "INFO:geometry:sum of energies: 53.55583969255785\n",
      "INFO:geometry:magnitude of difference in the energies: 6.023287557610502e-07\n",
      "INFO:geometry:Final logp_proposal: 20.969588677627858\n",
      "INFO:setup:charge diff: -1\n"
     ]
    },
    {
     "name": "stdout",
     "output_type": "stream",
     "text": [
      "added energy components: [('CustomBondForce', 0.0), ('CustomAngleForce', 2.883924121084282), ('CustomTorsionForce', 0.09095590967033956), ('CustomBondForce', 7.999688818566126)]\n"
     ]
    },
    {
     "name": "stderr",
     "output_type": "stream",
     "text": [
      "INFO:setup:new water indices to ionize [1422 1423 1424]\n",
      "INFO:relative:*** Generating RESTCapableHybridTopologyFactory ***\n",
      "INFO:relative:Old system forces: dict_keys(['HarmonicBondForce', 'HarmonicAngleForce', 'PeriodicTorsionForce', 'NonbondedForce', 'MonteCarloBarostat'])\n",
      "INFO:relative:New system forces: dict_keys(['HarmonicBondForce', 'HarmonicAngleForce', 'PeriodicTorsionForce', 'NonbondedForce', 'MonteCarloBarostat'])\n",
      "INFO:relative:No unknown forces.\n",
      "INFO:relative:r_cutoff is 1.0 nm\n",
      "INFO:relative:alpha_ewald is 2.7569734238004693\n",
      "INFO:relative:w_scale is 0.3\n",
      "INFO:relative:Creating hybrid system\n",
      "INFO:relative:Adding and mapping old atoms to hybrid system...\n",
      "INFO:relative:Adding and mapping new atoms to hybrid system...\n",
      "INFO:relative:Added MonteCarloBarostat.\n",
      "INFO:relative:getDefaultPeriodicBoxVectors added to hybrid: [Quantity(value=Vec3(x=2.9625000000000004, y=0.0, z=0.0), unit=nanometer), Quantity(value=Vec3(x=0.9874404959209033, y=2.793092822842714, z=0.0), unit=nanometer), Quantity(value=Vec3(x=-0.987440495920903, y=1.396420187060082, z=2.418962210987714), unit=nanometer)]\n",
      "INFO:relative:Determined atom classes.\n",
      "INFO:relative:Computed hybrid positions\n",
      "INFO:relative:Created hybrid topology\n",
      "INFO:relative:Generating rest_region with query indices: [6, 7, 8, 9, 10, 11, 12, 13, 14, 15, 1896, 1897, 1898, 1899, 1900, 1901, 1902, 1903, 1904, 1905, 1906, 1907, 1908, 1909, 1910, 1911, 1912]\n",
      "INFO:relative:Rest radius: 0.3 nm\n",
      "INFO:relative:Rest region: [0, 1, 2, 3, 4, 5, 6, 7, 8, 9, 10, 11, 12, 13, 14, 15, 1896, 1897, 1898, 1899, 1900, 1901, 1902, 1903, 1904, 1905, 1906, 1907, 1908, 1909, 1910, 1911, 1912, 16, 17, 18, 19, 20, 21]\n",
      "INFO:relative:Prepped look up dict for determining if atom is solvent\n",
      "INFO:relative:Generating old system exceptions dict...\n",
      "INFO:relative:Generating new system exceptions dict...\n",
      "INFO:relative:Handling constraints...\n",
      "INFO:relative:Handling virtual sites...\n",
      "INFO:relative:\t_handle_virtual_sites: numVirtualSites: 0\n",
      "INFO:relative:Handling bonds...\n",
      "INFO:relative:Handling angles...\n",
      "INFO:relative:Handling torsions...\n",
      "INFO:relative:Handling nonbondeds (creating forces)...\n",
      "INFO:relative:Handling nonbondeds (copying nonbonded particles)...\n",
      "INFO:relative:Handling nonbondeds (copying nonbonded exceptions)...\n",
      "INFO:setup:Saving htfs as pickles\n",
      "INFO:setup:sterics expression: U_sterics; U_sterics = 4 * epsilon * x * (x - 1.0);x = (sigma / r_eff_sterics)^6;sigma = (sigma1 + sigma2) / 2; epsilon = sterics_rest_scale1 * sterics_rest_scale2 * sqrt(epsilon_combined); epsilon_combined = step(epsilon1 * epsilon2) * epsilon1 * epsilon2; r_eff_sterics = sqrt(r^2 + w_sterics^2); w_sterics = w_scale * r_cutoff * (is_unique_old * (1 - lambda_alchemical_sterics_old) + is_unique_new * (1 - lambda_alchemical_sterics_new)); is_unique_old = step(is_unique_old1 + is_unique_old2 - 0.1); is_unique_new = step(is_unique_new1 + is_unique_new2 - 0.1); w_scale = 0.3; r_cutoff = 1.0;\n",
      "INFO:setup:forces: [<openmm.openmm.MonteCarloBarostat; proxy of <Swig Object of type 'OpenMM::MonteCarloBarostat *' at 0x2ab3d52003c0> >, <openmm.openmm.CustomBondForce; proxy of <Swig Object of type 'OpenMM::CustomBondForce *' at 0x2ab3d537a060> >, <openmm.openmm.CustomAngleForce; proxy of <Swig Object of type 'OpenMM::CustomAngleForce *' at 0x2ab3d52eff60> >, <openmm.openmm.CustomTorsionForce; proxy of <Swig Object of type 'OpenMM::CustomTorsionForce *' at 0x2ab3d52eff00> >, <openmm.openmm.CustomNonbondedForce; proxy of <Swig Object of type 'OpenMM::CustomNonbondedForce *' at 0x2ab3d52efea0> >, <openmm.openmm.CustomNonbondedForce; proxy of <Swig Object of type 'OpenMM::CustomNonbondedForce *' at 0x2ab3d52efde0> >, <openmm.openmm.CustomBondForce; proxy of <Swig Object of type 'OpenMM::CustomBondForce *' at 0x2ab3d52efd80> >, <openmm.openmm.NonbondedForce; proxy of <Swig Object of type 'OpenMM::NonbondedForce *' at 0x2ab3d52efcc0> >, <openmm.openmm.NonbondedForce; proxy of <Swig Object of type 'OpenMM::NonbondedForce *' at 0x2ab3d52efc30> >]\n",
      "INFO:setup:number of particles in apo: 1913\n",
      "INFO:setup:number of particles in apo rest region: 39\n"
     ]
    },
    {
     "name": "stdout",
     "output_type": "stream",
     "text": [
      "apo rest region atoms:\n",
      "ACE1-H1\n",
      "ACE1-CH3\n",
      "ACE1-H2\n",
      "ACE1-H3\n",
      "ACE1-C\n",
      "ACE1-O\n",
      "ALA2-N\n",
      "ALA2-H\n",
      "ALA2-CA\n",
      "ALA2-HA\n",
      "ALA2-CB\n",
      "ALA2-HB2\n",
      "ALA2-HB3\n",
      "ALA2-C\n",
      "ALA2-O\n",
      "ALA2-HB1\n",
      "ALA2-HB2\n",
      "ALA2-HB3\n",
      "ALA2-CG\n",
      "ALA2-HG2\n",
      "ALA2-HG3\n",
      "ALA2-CD\n",
      "ALA2-HD2\n",
      "ALA2-HD3\n",
      "ALA2-NE\n",
      "ALA2-HE\n",
      "ALA2-CZ\n",
      "ALA2-NH1\n",
      "ALA2-HH11\n",
      "ALA2-HH12\n",
      "ALA2-NH2\n",
      "ALA2-HH21\n",
      "ALA2-HH22\n",
      "NME3-N\n",
      "NME3-H\n",
      "NME3-C\n",
      "NME3-H1\n",
      "NME3-H2\n",
      "NME3-H3\n"
     ]
    }
   ],
   "source": [
    "outdir = \"/data/chodera/zhangi/perses_benchmark/repex/38/34/\"\n",
    "residue = '2'\n",
    "mutant = 'ARG'\n",
    "\n",
    "apo_file = \"/data/chodera/zhangi/perses_benchmark/repex/38/2/apo_new.pdb\" \n",
    "\n",
    "solvent_delivery = generate_htf(outdir, residue, mutant, apo_file)"
   ]
  },
  {
   "cell_type": "code",
   "execution_count": 9,
   "id": "db03b9d5",
   "metadata": {},
   "outputs": [
    {
     "name": "stderr",
     "output_type": "stream",
     "text": [
      "DEBUG:openmmforcefields.system_generators:Trying GAFFTemplateGenerator to load gaff-2.11\n",
      "INFO:proposal_generator:\tConducting polymer point mutation proposal...\n",
      "INFO:proposal_generator:local_atom_map: {6: 6, 7: 7, 8: 8, 9: 9, 10: 10, 13: 13, 14: 14}\n",
      "INFO:proposal_generator:the mapped atom names are: [('N', 'N'), ('H', 'H'), ('CA', 'CA'), ('HA', 'HA'), ('CB', 'CB'), ('C', 'C'), ('O', 'O')]\n"
     ]
    },
    {
     "name": "stdout",
     "output_type": "stream",
     "text": [
      "[Quantity(value=Vec3(x=2.9643, y=0.0, z=0.0), unit=nanometer), Quantity(value=Vec3(x=0.9880989934924385, y=2.794769197815668, z=0.0), unit=nanometer), Quantity(value=Vec3(x=-0.9880989934924381, y=1.3973824637836831, z=2.420342355735873), unit=nanometer)]\n",
      "True\n"
     ]
    },
    {
     "name": "stderr",
     "output_type": "stream",
     "text": [
      "INFO:geometry:propose: performing forward proposal\n",
      "INFO:geometry:propose: unique new atoms detected; proceeding to _logp_propose...\n",
      "INFO:geometry:Conducting forward proposal...\n",
      "INFO:geometry:Computing proposal order with NetworkX...\n",
      "INFO:geometry:number of atoms to be placed: 3\n",
      "INFO:geometry:Atom index proposal order is [12, 11, 15]\n",
      "INFO:geometry:omitted_bonds: []\n",
      "INFO:geometry:direction of proposal is forward; creating atoms_with_positions and new positions from old system/topology...\n"
     ]
    },
    {
     "name": "stdout",
     "output_type": "stream",
     "text": [
      "[Quantity(value=Vec3(x=2.9643, y=0.0, z=0.0), unit=nanometer), Quantity(value=Vec3(x=0.9880989934924385, y=2.794769197815668, z=0.0), unit=nanometer), Quantity(value=Vec3(x=-0.9880989934924381, y=1.3973824637836831, z=2.420342355735873), unit=nanometer)]\n",
      "True\n"
     ]
    },
    {
     "name": "stderr",
     "output_type": "stream",
     "text": [
      "INFO:geometry:creating growth system...\n",
      "INFO:geometry:\tcreating bond force...\n",
      "INFO:geometry:\tthere are 9 bonds in reference force.\n",
      "INFO:geometry:\tcreating angle force...\n",
      "INFO:geometry:\tthere are 36 angles in reference force.\n",
      "INFO:geometry:\tcreating torsion force...\n",
      "INFO:geometry:\tcreating extra torsions force...\n",
      "INFO:geometry:\tthere are 42 torsions in reference force.\n",
      "INFO:geometry:\tcreating nonbonded force...\n",
      "INFO:geometry:\t\tgrabbing reference nonbonded method, cutoff, switching function, switching distance...\n",
      "INFO:geometry:\t\tcreating nonbonded exception force (i.e. custom bond for 1,4s)...\n",
      "INFO:geometry:\t\tlooping through exceptions calculating growth indices, and adding appropriate interactions to custom bond force.\n",
      "INFO:geometry:\t\tthere are 1997 in the reference Nonbonded force\n",
      "INFO:geometry:Neglected angle terms : []\n",
      "INFO:geometry:omitted_growth_terms: {'bonds': [], 'angles': [], 'torsions': [], '1,4s': []}\n",
      "INFO:geometry:extra torsions: {0: (6, 8, 10, 15, [1, Quantity(value=2.105358864604291, unit=radian), Quantity(value=1200.0, unit=kilocalorie/mole), 3]), 1: (6, 8, 10, 11, [1, Quantity(value=-2.0823006129211796, unit=radian), Quantity(value=1200.0, unit=kilocalorie/mole), 2]), 2: (6, 8, 10, 12, [1, Quantity(value=0.018582237407944735, unit=radian), Quantity(value=1200.0, unit=kilocalorie/mole), 1]), 3: (13, 8, 10, 15, [1, Quantity(value=-0.036945135932107576, unit=radian), Quantity(value=1200.0, unit=kilocalorie/mole), 3]), 4: (13, 8, 10, 11, [1, Quantity(value=2.0585806937220097, unit=radian), Quantity(value=1200.0, unit=kilocalorie/mole), 2]), 5: (13, 8, 10, 12, [1, Quantity(value=-2.1237217631284597, unit=radian), Quantity(value=1200.0, unit=kilocalorie/mole), 1]), 6: (9, 8, 10, 15, [1, Quantity(value=-2.119603470065817, unit=radian), Quantity(value=1200.0, unit=kilocalorie/mole), 3]), 7: (9, 8, 10, 11, [1, Quantity(value=-0.024077640411697132, unit=radian), Quantity(value=1200.0, unit=kilocalorie/mole), 2]), 8: (9, 8, 10, 12, [1, Quantity(value=2.0768052099174152, unit=radian), Quantity(value=1200.0, unit=kilocalorie/mole), 1])}\n",
      "INFO:geometry:neglected angle terms include []\n",
      "INFO:geometry:log probability choice of torsions and atom order: -5.0875963352323845\n",
      "INFO:geometry:creating platform, integrators, and contexts; setting growth parameter\n"
     ]
    },
    {
     "name": "stdout",
     "output_type": "stream",
     "text": [
      "conducting subsequent work with the following platform: CUDA\n"
     ]
    },
    {
     "name": "stderr",
     "output_type": "stream",
     "text": [
      "INFO:geometry:setting atoms_with_positions context new positions\n"
     ]
    },
    {
     "name": "stdout",
     "output_type": "stream",
     "text": [
      "conducting subsequent work with the following platform: CUDA\n"
     ]
    },
    {
     "name": "stderr",
     "output_type": "stream",
     "text": [
      "INFO:geometry:There are 3 new atoms\n",
      "INFO:geometry:\treduced angle potential = 0.122426361746659.\n",
      "INFO:geometry:\treduced angle potential = 0.5971389911667146.\n",
      "INFO:geometry:\treduced angle potential = 0.07641457456356458.\n",
      "INFO:geometry:\tbeginning construction of no_nonbonded final system...\n",
      "INFO:geometry:\tinitial no-nonbonded final system forces ['HarmonicBondForce', 'HarmonicAngleForce', 'PeriodicTorsionForce', 'NonbondedForce', 'MonteCarloBarostat']\n",
      "INFO:geometry:\tfinal no-nonbonded final system forces dict_keys(['HarmonicBondForce', 'HarmonicAngleForce', 'PeriodicTorsionForce', 'NonbondedForce'])\n",
      "INFO:geometry:\tthere are 9 bond forces in the no-nonbonded final system\n",
      "INFO:geometry:\tthere are 36 angle forces in the no-nonbonded final system\n",
      "INFO:geometry:\tthere are 42 torsion forces in the no-nonbonded final system\n",
      "INFO:geometry:forward final system defined with 0 neglected angles.\n"
     ]
    },
    {
     "name": "stdout",
     "output_type": "stream",
     "text": [
      "conducting subsequent work with the following platform: CUDA\n",
      "conducting subsequent work with the following platform: CUDA\n"
     ]
    },
    {
     "name": "stderr",
     "output_type": "stream",
     "text": [
      "INFO:geometry:total reduced potential before atom placement: 39.2057408322499\n"
     ]
    },
    {
     "name": "stdout",
     "output_type": "stream",
     "text": [
      "conducting subsequent work with the following platform: CUDA\n",
      "conducting subsequent work with the following platform: CUDA\n",
      "conducting subsequent work with the following platform: CUDA\n"
     ]
    },
    {
     "name": "stderr",
     "output_type": "stream",
     "text": [
      "INFO:geometry:total reduced energy added from growth system: 9.220515889364767\n",
      "INFO:geometry:final reduced energy 48.426256206889015\n",
      "INFO:geometry:sum of energies: 48.42625672161467\n",
      "INFO:geometry:magnitude of difference in the energies: 5.147256540993794e-07\n",
      "INFO:geometry:Final logp_proposal: 20.62173766226674\n",
      "INFO:geometry:logp_reverse: performing reverse proposal\n",
      "INFO:geometry:logp_reverse: unique new atoms detected; proceeding to _logp_propose...\n",
      "INFO:geometry:Conducting forward proposal...\n",
      "INFO:geometry:Computing proposal order with NetworkX...\n",
      "INFO:geometry:number of atoms to be placed: 15\n",
      "INFO:geometry:Atom index proposal order is [15, 18, 21, 24, 11, 20, 23, 16, 12, 27, 26, 22, 17, 19, 25]\n",
      "INFO:geometry:omitted_bonds: []\n",
      "INFO:geometry:direction of proposal is reverse; creating atoms_with_positions from old system/topology\n"
     ]
    },
    {
     "name": "stdout",
     "output_type": "stream",
     "text": [
      "added energy components: [('CustomBondForce', 0.0), ('CustomAngleForce', 1.2236369980396913), ('CustomTorsionForce', 0.11278318049379665), ('CustomBondForce', 7.884095710831279)]\n"
     ]
    },
    {
     "name": "stderr",
     "output_type": "stream",
     "text": [
      "INFO:geometry:creating growth system...\n",
      "INFO:geometry:\tcreating bond force...\n",
      "INFO:geometry:\tthere are 13 bonds in reference force.\n",
      "INFO:geometry:\tcreating angle force...\n",
      "INFO:geometry:\tthere are 60 angles in reference force.\n",
      "INFO:geometry:\tcreating torsion force...\n",
      "INFO:geometry:\tcreating extra torsions force...\n",
      "INFO:geometry:\tthere are 82 torsions in reference force.\n",
      "INFO:geometry:\tcreating nonbonded force...\n",
      "INFO:geometry:\t\tgrabbing reference nonbonded method, cutoff, switching function, switching distance...\n",
      "INFO:geometry:\t\tcreating nonbonded exception force (i.e. custom bond for 1,4s)...\n",
      "INFO:geometry:\t\tlooping through exceptions calculating growth indices, and adding appropriate interactions to custom bond force.\n",
      "INFO:geometry:\t\tthere are 2069 in the reference Nonbonded force\n",
      "INFO:geometry:Neglected angle terms : []\n",
      "INFO:geometry:omitted_growth_terms: {'bonds': [], 'angles': [], 'torsions': [], '1,4s': []}\n",
      "INFO:geometry:extra torsions: {0: (22, 21, 24, 27, [1, Quantity(value=-2.482623141712928, unit=radian), Quantity(value=1200.0, unit=kilocalorie/mole), 12]), 1: (22, 21, 24, 26, [1, Quantity(value=1.690084981219148, unit=radian), Quantity(value=1200.0, unit=kilocalorie/mole), 12]), 2: (22, 21, 24, 25, [1, Quantity(value=-0.36514543497681995, unit=radian), Quantity(value=1200.0, unit=kilocalorie/mole), 15]), 3: (18, 21, 24, 27, [1, Quantity(value=1.670050188787913, unit=radian), Quantity(value=1200.0, unit=kilocalorie/mole), 10]), 4: (18, 21, 24, 26, [1, Quantity(value=-0.44042699545959785, unit=radian), Quantity(value=1200.0, unit=kilocalorie/mole), 11]), 5: (18, 21, 24, 25, [1, Quantity(value=-2.495657411655565, unit=radian), Quantity(value=1200.0, unit=kilocalorie/mole), 15]), 6: (23, 21, 24, 27, [1, Quantity(value=-0.4555118464620733, unit=radian), Quantity(value=1200.0, unit=kilocalorie/mole), 10]), 7: (23, 21, 24, 26, [1, Quantity(value=-2.565989030709585, unit=radian), Quantity(value=1200.0, unit=kilocalorie/mole), 11]), 8: (23, 21, 24, 25, [1, Quantity(value=1.6619658602740335, unit=radian), Quantity(value=1200.0, unit=kilocalorie/mole), 15])}\n",
      "INFO:geometry:neglected angle terms include []\n",
      "INFO:geometry:log probability choice of torsions and atom order: -30.486751287798043\n",
      "INFO:geometry:creating platform, integrators, and contexts; setting growth parameter\n"
     ]
    },
    {
     "name": "stdout",
     "output_type": "stream",
     "text": [
      "conducting subsequent work with the following platform: CUDA\n"
     ]
    },
    {
     "name": "stderr",
     "output_type": "stream",
     "text": [
      "INFO:geometry:setting atoms_with_positions context old positions\n"
     ]
    },
    {
     "name": "stdout",
     "output_type": "stream",
     "text": [
      "conducting subsequent work with the following platform: CUDA\n"
     ]
    },
    {
     "name": "stderr",
     "output_type": "stream",
     "text": [
      "INFO:geometry:There are 15 new atoms\n",
      "INFO:geometry:\treduced angle potential = 3.5285297434585665.\n",
      "INFO:geometry:\treduced angle potential = 0.0017130382517811292.\n",
      "INFO:geometry:\treduced angle potential = 0.8543993576423382.\n",
      "INFO:geometry:\treduced angle potential = 0.6998188808369405.\n",
      "INFO:geometry:\treduced angle potential = 0.08636753098607286.\n",
      "INFO:geometry:\treduced angle potential = 0.014134789528788511.\n",
      "INFO:geometry:\treduced angle potential = 0.6687693787035985.\n",
      "INFO:geometry:\treduced angle potential = 0.06698279877690337.\n",
      "INFO:geometry:\treduced angle potential = 0.2539509190872922.\n",
      "INFO:geometry:\treduced angle potential = 1.0159860561332854.\n",
      "INFO:geometry:\treduced angle potential = 1.1184347261026013.\n",
      "INFO:geometry:\treduced angle potential = 0.5257155794163464.\n",
      "INFO:geometry:\treduced angle potential = 0.1991102126092981.\n",
      "INFO:geometry:\treduced angle potential = 0.44231469014908636.\n",
      "INFO:geometry:\treduced angle potential = 0.12783334484000558.\n",
      "INFO:geometry:\tbeginning construction of no_nonbonded final system...\n",
      "INFO:geometry:\tinitial no-nonbonded final system forces ['HarmonicBondForce', 'HarmonicAngleForce', 'PeriodicTorsionForce', 'NonbondedForce', 'MonteCarloBarostat']\n",
      "INFO:geometry:\tfinal no-nonbonded final system forces dict_keys(['HarmonicBondForce', 'HarmonicAngleForce', 'PeriodicTorsionForce', 'NonbondedForce'])\n",
      "INFO:geometry:\tthere are 13 bond forces in the no-nonbonded final system\n",
      "INFO:geometry:\tthere are 60 angle forces in the no-nonbonded final system\n",
      "INFO:geometry:\tthere are 82 torsion forces in the no-nonbonded final system\n",
      "INFO:geometry:reverse final system defined with 0 neglected angles.\n"
     ]
    },
    {
     "name": "stdout",
     "output_type": "stream",
     "text": [
      "conducting subsequent work with the following platform: CUDA\n",
      "conducting subsequent work with the following platform: CUDA\n"
     ]
    },
    {
     "name": "stderr",
     "output_type": "stream",
     "text": [
      "INFO:geometry:total reduced potential before atom placement: 39.2057408322499\n"
     ]
    },
    {
     "name": "stdout",
     "output_type": "stream",
     "text": [
      "conducting subsequent work with the following platform: CUDA\n",
      "conducting subsequent work with the following platform: CUDA\n",
      "conducting subsequent work with the following platform: CUDA\n"
     ]
    },
    {
     "name": "stderr",
     "output_type": "stream",
     "text": [
      "INFO:geometry:total reduced energy added from growth system: 60.688107042530426\n",
      "INFO:geometry:final reduced energy 99.89384707267\n",
      "INFO:geometry:sum of energies: 99.89384787478033\n",
      "INFO:geometry:magnitude of difference in the energies: 8.021103283795128e-07\n",
      "INFO:geometry:Final logp_proposal: -16155.601309957654\n",
      "INFO:setup:charge diff: 1\n"
     ]
    },
    {
     "name": "stdout",
     "output_type": "stream",
     "text": [
      "added energy components: [('CustomBondForce', 2.6749765390964386), ('CustomAngleForce', 13.451238768879307), ('CustomTorsionForce', 2.127525526518583), ('CustomBondForce', 42.4343662080361)]\n"
     ]
    },
    {
     "name": "stderr",
     "output_type": "stream",
     "text": [
      "INFO:setup:new water indices to ionize [976 977 978]\n",
      "INFO:relative:*** Generating RESTCapableHybridTopologyFactory ***\n",
      "INFO:relative:Old system forces: dict_keys(['HarmonicBondForce', 'HarmonicAngleForce', 'PeriodicTorsionForce', 'NonbondedForce', 'MonteCarloBarostat'])\n",
      "INFO:relative:New system forces: dict_keys(['HarmonicBondForce', 'HarmonicAngleForce', 'PeriodicTorsionForce', 'NonbondedForce', 'MonteCarloBarostat'])\n",
      "INFO:relative:No unknown forces.\n",
      "INFO:relative:r_cutoff is 1.0 nm\n",
      "INFO:relative:alpha_ewald is 2.7569734238004693\n",
      "INFO:relative:w_scale is 0.3\n",
      "INFO:relative:Creating hybrid system\n",
      "INFO:relative:Adding and mapping old atoms to hybrid system...\n",
      "INFO:relative:Adding and mapping new atoms to hybrid system...\n",
      "INFO:relative:Added MonteCarloBarostat.\n",
      "INFO:relative:getDefaultPeriodicBoxVectors added to hybrid: [Quantity(value=Vec3(x=2.9643, y=0.0, z=0.0), unit=nanometer), Quantity(value=Vec3(x=0.9880989934924385, y=2.794769197815668, z=0.0), unit=nanometer), Quantity(value=Vec3(x=-0.9880989934924381, y=1.3973824637836831, z=2.420342355735873), unit=nanometer)]\n",
      "INFO:relative:Determined atom classes.\n",
      "INFO:relative:Computed hybrid positions\n",
      "INFO:relative:Created hybrid topology\n",
      "INFO:relative:Generating rest_region with query indices: [6, 7, 8, 9, 10, 11, 12, 13, 14, 15, 16, 17, 18, 19, 20, 21, 22, 23, 24, 25, 26, 27, 1938, 1939, 1940]\n",
      "INFO:relative:Rest radius: 0.3 nm\n",
      "INFO:relative:Rest region: [0, 1, 2, 3, 4, 5, 6, 7, 8, 9, 10, 11, 12, 13, 14, 15, 16, 17, 18, 19, 20, 21, 22, 23, 24, 25, 26, 27, 1938, 1939, 1940, 28, 29, 30, 31, 32, 33]\n",
      "INFO:relative:Prepped look up dict for determining if atom is solvent\n",
      "INFO:relative:Generating old system exceptions dict...\n",
      "INFO:relative:Generating new system exceptions dict...\n",
      "INFO:relative:Handling constraints...\n",
      "INFO:relative:Handling virtual sites...\n",
      "INFO:relative:\t_handle_virtual_sites: numVirtualSites: 0\n",
      "INFO:relative:Handling bonds...\n",
      "INFO:relative:Handling angles...\n",
      "INFO:relative:Handling torsions...\n",
      "INFO:relative:Handling nonbondeds (creating forces)...\n",
      "INFO:relative:Handling nonbondeds (copying nonbonded particles)...\n",
      "INFO:relative:Handling nonbondeds (copying nonbonded exceptions)...\n",
      "INFO:setup:Saving htfs as pickles\n",
      "INFO:setup:sterics expression: U_sterics; U_sterics = 4 * epsilon * x * (x - 1.0);x = (sigma / r_eff_sterics)^6;sigma = (sigma1 + sigma2) / 2; epsilon = sterics_rest_scale1 * sterics_rest_scale2 * sqrt(epsilon_combined); epsilon_combined = step(epsilon1 * epsilon2) * epsilon1 * epsilon2; r_eff_sterics = sqrt(r^2 + w_sterics^2); w_sterics = w_scale * r_cutoff * (is_unique_old * (1 - lambda_alchemical_sterics_old) + is_unique_new * (1 - lambda_alchemical_sterics_new)); is_unique_old = step(is_unique_old1 + is_unique_old2 - 0.1); is_unique_new = step(is_unique_new1 + is_unique_new2 - 0.1); w_scale = 0.3; r_cutoff = 1.0;\n",
      "INFO:setup:forces: [<openmm.openmm.MonteCarloBarostat; proxy of <Swig Object of type 'OpenMM::MonteCarloBarostat *' at 0x2ab3dfee5b70> >, <openmm.openmm.CustomBondForce; proxy of <Swig Object of type 'OpenMM::CustomBondForce *' at 0x2ab3d653ae70> >, <openmm.openmm.CustomAngleForce; proxy of <Swig Object of type 'OpenMM::CustomAngleForce *' at 0x2ab3d5298270> >, <openmm.openmm.CustomTorsionForce; proxy of <Swig Object of type 'OpenMM::CustomTorsionForce *' at 0x2ab3d52982a0> >, <openmm.openmm.CustomNonbondedForce; proxy of <Swig Object of type 'OpenMM::CustomNonbondedForce *' at 0x2ab3d5fe5450> >, <openmm.openmm.CustomNonbondedForce; proxy of <Swig Object of type 'OpenMM::CustomNonbondedForce *' at 0x2ab3d5fe5d50> >, <openmm.openmm.CustomBondForce; proxy of <Swig Object of type 'OpenMM::CustomBondForce *' at 0x2ab3d5fe5cf0> >, <openmm.openmm.NonbondedForce; proxy of <Swig Object of type 'OpenMM::NonbondedForce *' at 0x2ab3d5fe5c30> >, <openmm.openmm.NonbondedForce; proxy of <Swig Object of type 'OpenMM::NonbondedForce *' at 0x2ab3d5fe5bd0> >]\n",
      "INFO:setup:number of particles in apo: 1941\n",
      "INFO:setup:number of particles in apo rest region: 37\n"
     ]
    },
    {
     "name": "stdout",
     "output_type": "stream",
     "text": [
      "apo rest region atoms:\n",
      "ACE1-H1\n",
      "ACE1-CH3\n",
      "ACE1-H2\n",
      "ACE1-H3\n",
      "ACE1-C\n",
      "ACE1-O\n",
      "LYS2-N\n",
      "LYS2-H\n",
      "LYS2-CA\n",
      "LYS2-HA\n",
      "LYS2-CB\n",
      "LYS2-HB2\n",
      "LYS2-HB3\n",
      "LYS2-C\n",
      "LYS2-O\n",
      "LYS2-CG\n",
      "LYS2-HG2\n",
      "LYS2-HG3\n",
      "LYS2-CD\n",
      "LYS2-HD2\n",
      "LYS2-HD3\n",
      "LYS2-CE\n",
      "LYS2-HE2\n",
      "LYS2-HE3\n",
      "LYS2-NZ\n",
      "LYS2-HZ1\n",
      "LYS2-HZ2\n",
      "LYS2-HZ3\n",
      "LYS2-HB2\n",
      "LYS2-HB3\n",
      "LYS2-HB1\n",
      "NME3-N\n",
      "NME3-H\n",
      "NME3-C\n",
      "NME3-H1\n",
      "NME3-H2\n",
      "NME3-H3\n"
     ]
    }
   ],
   "source": [
    "outdir = \"/data/chodera/zhangi/perses_benchmark/repex/38/35/\"\n",
    "residue = '2'\n",
    "mutant = 'ALA'\n",
    "\n",
    "apo_file = \"/data/chodera/zhangi/perses_benchmark/repex/38/35/equil/apo_equilibrated.cif\" \n",
    "\n",
    "solvent_delivery = generate_htf(outdir, residue, mutant, apo_file)"
   ]
  },
  {
   "cell_type": "markdown",
   "id": "d89c0ac0",
   "metadata": {},
   "source": [
    "# Use ALA from LYS->ALA (38/35)"
   ]
  },
  {
   "cell_type": "code",
   "execution_count": 10,
   "id": "08ecbbe7",
   "metadata": {},
   "outputs": [
    {
     "name": "stderr",
     "output_type": "stream",
     "text": [
      "DEBUG:openmmforcefields.system_generators:Trying GAFFTemplateGenerator to load gaff-2.11\n",
      "INFO:proposal_generator:\tConducting polymer point mutation proposal...\n",
      "INFO:proposal_generator:local_atom_map: {6: 6, 7: 7, 8: 8, 9: 9, 10: 10, 13: 13, 14: 14}\n",
      "INFO:proposal_generator:the mapped atom names are: [('N', 'N'), ('H', 'H'), ('CA', 'CA'), ('HA', 'HA'), ('CB', 'CB'), ('C', 'C'), ('O', 'O')]\n"
     ]
    },
    {
     "name": "stdout",
     "output_type": "stream",
     "text": [
      "[Quantity(value=Vec3(x=2.9643, y=0.0, z=0.0), unit=nanometer), Quantity(value=Vec3(x=0.9880404597665261, y=2.7947898918996312, z=0.0), unit=nanometer), Quantity(value=Vec3(x=-0.9880404597665258, y=1.3972686448952576, z=2.4204319601792), unit=nanometer)]\n",
      "True\n"
     ]
    },
    {
     "name": "stderr",
     "output_type": "stream",
     "text": [
      "INFO:geometry:propose: performing forward proposal\n",
      "INFO:geometry:propose: unique new atoms detected; proceeding to _logp_propose...\n",
      "INFO:geometry:Conducting forward proposal...\n",
      "INFO:geometry:Computing proposal order with NetworkX...\n",
      "INFO:geometry:number of atoms to be placed: 15\n",
      "INFO:geometry:Atom index proposal order is [15, 18, 21, 24, 22, 20, 12, 17, 26, 19, 16, 23, 27, 11, 25]\n",
      "INFO:geometry:omitted_bonds: []\n",
      "INFO:geometry:direction of proposal is forward; creating atoms_with_positions and new positions from old system/topology...\n"
     ]
    },
    {
     "name": "stdout",
     "output_type": "stream",
     "text": [
      "[Quantity(value=Vec3(x=2.9643, y=0.0, z=0.0), unit=nanometer), Quantity(value=Vec3(x=0.9880404597665261, y=2.7947898918996312, z=0.0), unit=nanometer), Quantity(value=Vec3(x=-0.9880404597665258, y=1.3972686448952576, z=2.4204319601792), unit=nanometer)]\n",
      "True\n"
     ]
    },
    {
     "name": "stderr",
     "output_type": "stream",
     "text": [
      "INFO:geometry:creating growth system...\n",
      "INFO:geometry:\tcreating bond force...\n",
      "INFO:geometry:\tthere are 13 bonds in reference force.\n",
      "INFO:geometry:\tcreating angle force...\n",
      "INFO:geometry:\tthere are 60 angles in reference force.\n",
      "INFO:geometry:\tcreating torsion force...\n",
      "INFO:geometry:\tcreating extra torsions force...\n",
      "INFO:geometry:\tthere are 82 torsions in reference force.\n",
      "INFO:geometry:\tcreating nonbonded force...\n",
      "INFO:geometry:\t\tgrabbing reference nonbonded method, cutoff, switching function, switching distance...\n",
      "INFO:geometry:\t\tcreating nonbonded exception force (i.e. custom bond for 1,4s)...\n",
      "INFO:geometry:\t\tlooping through exceptions calculating growth indices, and adding appropriate interactions to custom bond force.\n",
      "INFO:geometry:\t\tthere are 2069 in the reference Nonbonded force\n",
      "INFO:geometry:Neglected angle terms : []\n",
      "INFO:geometry:omitted_growth_terms: {'bonds': [], 'angles': [], 'torsions': [], '1,4s': []}\n",
      "INFO:geometry:extra torsions: {0: (22, 21, 24, 27, [1, Quantity(value=-2.482623141712928, unit=radian), Quantity(value=1200.0, unit=kilocalorie/mole), 13]), 1: (22, 21, 24, 26, [1, Quantity(value=1.690084981219148, unit=radian), Quantity(value=1200.0, unit=kilocalorie/mole), 9]), 2: (22, 21, 24, 25, [1, Quantity(value=-0.36514543497681995, unit=radian), Quantity(value=1200.0, unit=kilocalorie/mole), 15]), 3: (18, 21, 24, 27, [1, Quantity(value=1.670050188787913, unit=radian), Quantity(value=1200.0, unit=kilocalorie/mole), 13]), 4: (18, 21, 24, 26, [1, Quantity(value=-0.44042699545959785, unit=radian), Quantity(value=1200.0, unit=kilocalorie/mole), 9]), 5: (18, 21, 24, 25, [1, Quantity(value=-2.495657411655565, unit=radian), Quantity(value=1200.0, unit=kilocalorie/mole), 15]), 6: (23, 21, 24, 27, [1, Quantity(value=-0.4555118464620733, unit=radian), Quantity(value=1200.0, unit=kilocalorie/mole), 13]), 7: (23, 21, 24, 26, [1, Quantity(value=-2.565989030709585, unit=radian), Quantity(value=1200.0, unit=kilocalorie/mole), 12]), 8: (23, 21, 24, 25, [1, Quantity(value=1.6619658602740335, unit=radian), Quantity(value=1200.0, unit=kilocalorie/mole), 15])}\n",
      "INFO:geometry:neglected angle terms include []\n",
      "INFO:geometry:log probability choice of torsions and atom order: -31.066807906638253\n",
      "INFO:geometry:creating platform, integrators, and contexts; setting growth parameter\n"
     ]
    },
    {
     "name": "stdout",
     "output_type": "stream",
     "text": [
      "conducting subsequent work with the following platform: CUDA\n"
     ]
    },
    {
     "name": "stderr",
     "output_type": "stream",
     "text": [
      "INFO:geometry:setting atoms_with_positions context new positions\n"
     ]
    },
    {
     "name": "stdout",
     "output_type": "stream",
     "text": [
      "conducting subsequent work with the following platform: CUDA\n"
     ]
    },
    {
     "name": "stderr",
     "output_type": "stream",
     "text": [
      "INFO:geometry:There are 15 new atoms\n",
      "INFO:geometry:\treduced angle potential = 0.32996373993123584.\n",
      "INFO:geometry:\treduced angle potential = 0.01607691114455976.\n",
      "INFO:geometry:\treduced angle potential = 1.0921923002684937.\n",
      "INFO:geometry:\treduced angle potential = 0.38373479155570006.\n",
      "INFO:geometry:\treduced angle potential = 0.00022619207180944522.\n",
      "INFO:geometry:\treduced angle potential = 0.27764328284492434.\n",
      "INFO:geometry:\treduced angle potential = 0.029343778853770035.\n",
      "INFO:geometry:\treduced angle potential = 0.3069448081664752.\n",
      "INFO:geometry:\treduced angle potential = 0.03559909471322637.\n",
      "INFO:geometry:\treduced angle potential = 1.0629911226472335.\n",
      "INFO:geometry:\treduced angle potential = 0.4834579309381687.\n",
      "INFO:geometry:\treduced angle potential = 0.00034741617667892466.\n",
      "INFO:geometry:\treduced angle potential = 0.0859690607727125.\n",
      "INFO:geometry:\treduced angle potential = 0.3541859025937774.\n",
      "INFO:geometry:\treduced angle potential = 0.0060491094342553136.\n",
      "INFO:geometry:\tbeginning construction of no_nonbonded final system...\n",
      "INFO:geometry:\tinitial no-nonbonded final system forces ['HarmonicBondForce', 'HarmonicAngleForce', 'PeriodicTorsionForce', 'NonbondedForce', 'MonteCarloBarostat']\n",
      "INFO:geometry:\tfinal no-nonbonded final system forces dict_keys(['HarmonicBondForce', 'HarmonicAngleForce', 'PeriodicTorsionForce', 'NonbondedForce'])\n",
      "INFO:geometry:\tthere are 13 bond forces in the no-nonbonded final system\n",
      "INFO:geometry:\tthere are 60 angle forces in the no-nonbonded final system\n",
      "INFO:geometry:\tthere are 82 torsion forces in the no-nonbonded final system\n",
      "INFO:geometry:forward final system defined with 0 neglected angles.\n"
     ]
    },
    {
     "name": "stdout",
     "output_type": "stream",
     "text": [
      "conducting subsequent work with the following platform: CUDA\n",
      "conducting subsequent work with the following platform: CUDA\n"
     ]
    },
    {
     "name": "stderr",
     "output_type": "stream",
     "text": [
      "INFO:geometry:total reduced potential before atom placement: 39.158842456066374\n"
     ]
    },
    {
     "name": "stdout",
     "output_type": "stream",
     "text": [
      "conducting subsequent work with the following platform: CUDA\n",
      "conducting subsequent work with the following platform: CUDA\n",
      "conducting subsequent work with the following platform: CUDA\n"
     ]
    },
    {
     "name": "stderr",
     "output_type": "stream",
     "text": [
      "INFO:geometry:total reduced energy added from growth system: 77.64229320178485\n",
      "INFO:geometry:final reduced energy 116.80113333223333\n",
      "INFO:geometry:sum of energies: 116.80113565785123\n",
      "INFO:geometry:magnitude of difference in the energies: 2.325617899145982e-06\n",
      "INFO:geometry:Final logp_proposal: 82.00495505241939\n",
      "INFO:geometry:logp_reverse: performing reverse proposal\n"
     ]
    },
    {
     "name": "stdout",
     "output_type": "stream",
     "text": [
      "added energy components: [('CustomBondForce', 1.667780106671321), ('CustomAngleForce', 20.128481877194822), ('CustomTorsionForce', 9.794312120802617), ('CustomBondForce', 46.05171909711609)]\n"
     ]
    },
    {
     "name": "stderr",
     "output_type": "stream",
     "text": [
      "INFO:geometry:logp_reverse: unique new atoms detected; proceeding to _logp_propose...\n",
      "INFO:geometry:Conducting forward proposal...\n",
      "INFO:geometry:Computing proposal order with NetworkX...\n",
      "INFO:geometry:number of atoms to be placed: 3\n",
      "INFO:geometry:Atom index proposal order is [15, 11, 12]\n",
      "INFO:geometry:omitted_bonds: []\n",
      "INFO:geometry:direction of proposal is reverse; creating atoms_with_positions from old system/topology\n",
      "INFO:geometry:creating growth system...\n",
      "INFO:geometry:\tcreating bond force...\n",
      "INFO:geometry:\tthere are 9 bonds in reference force.\n",
      "INFO:geometry:\tcreating angle force...\n",
      "INFO:geometry:\tthere are 36 angles in reference force.\n",
      "INFO:geometry:\tcreating torsion force...\n",
      "INFO:geometry:\tcreating extra torsions force...\n",
      "INFO:geometry:\tthere are 42 torsions in reference force.\n",
      "INFO:geometry:\tcreating nonbonded force...\n",
      "INFO:geometry:\t\tgrabbing reference nonbonded method, cutoff, switching function, switching distance...\n",
      "INFO:geometry:\t\tcreating nonbonded exception force (i.e. custom bond for 1,4s)...\n",
      "INFO:geometry:\t\tlooping through exceptions calculating growth indices, and adding appropriate interactions to custom bond force.\n",
      "INFO:geometry:\t\tthere are 1997 in the reference Nonbonded force\n",
      "INFO:geometry:Neglected angle terms : []\n",
      "INFO:geometry:omitted_growth_terms: {'bonds': [], 'angles': [], 'torsions': [], '1,4s': []}\n",
      "INFO:geometry:extra torsions: {0: (6, 8, 10, 15, [1, Quantity(value=2.105358864604291, unit=radian), Quantity(value=1200.0, unit=kilocalorie/mole), 1]), 1: (6, 8, 10, 11, [1, Quantity(value=-2.0823006129211796, unit=radian), Quantity(value=1200.0, unit=kilocalorie/mole), 2]), 2: (6, 8, 10, 12, [1, Quantity(value=0.018582237407944735, unit=radian), Quantity(value=1200.0, unit=kilocalorie/mole), 3]), 3: (13, 8, 10, 15, [1, Quantity(value=-0.036945135932107576, unit=radian), Quantity(value=1200.0, unit=kilocalorie/mole), 1]), 4: (13, 8, 10, 11, [1, Quantity(value=2.0585806937220097, unit=radian), Quantity(value=1200.0, unit=kilocalorie/mole), 2]), 5: (13, 8, 10, 12, [1, Quantity(value=-2.1237217631284597, unit=radian), Quantity(value=1200.0, unit=kilocalorie/mole), 3]), 6: (9, 8, 10, 15, [1, Quantity(value=-2.119603470065817, unit=radian), Quantity(value=1200.0, unit=kilocalorie/mole), 1]), 7: (9, 8, 10, 11, [1, Quantity(value=-0.024077640411697132, unit=radian), Quantity(value=1200.0, unit=kilocalorie/mole), 2]), 8: (9, 8, 10, 12, [1, Quantity(value=2.0768052099174152, unit=radian), Quantity(value=1200.0, unit=kilocalorie/mole), 3])}\n",
      "INFO:geometry:neglected angle terms include []\n",
      "INFO:geometry:log probability choice of torsions and atom order: -5.0875963352323845\n",
      "INFO:geometry:creating platform, integrators, and contexts; setting growth parameter\n"
     ]
    },
    {
     "name": "stdout",
     "output_type": "stream",
     "text": [
      "conducting subsequent work with the following platform: CUDA\n"
     ]
    },
    {
     "name": "stderr",
     "output_type": "stream",
     "text": [
      "INFO:geometry:setting atoms_with_positions context old positions\n"
     ]
    },
    {
     "name": "stdout",
     "output_type": "stream",
     "text": [
      "conducting subsequent work with the following platform: CUDA\n"
     ]
    },
    {
     "name": "stderr",
     "output_type": "stream",
     "text": [
      "INFO:geometry:There are 3 new atoms\n",
      "INFO:geometry:\treduced angle potential = 0.07381952219272385.\n",
      "INFO:geometry:\treduced angle potential = 0.5914810258309775.\n",
      "INFO:geometry:\treduced angle potential = 0.12393919042747546.\n",
      "INFO:geometry:\tbeginning construction of no_nonbonded final system...\n",
      "INFO:geometry:\tinitial no-nonbonded final system forces ['HarmonicBondForce', 'HarmonicAngleForce', 'PeriodicTorsionForce', 'NonbondedForce', 'MonteCarloBarostat']\n",
      "INFO:geometry:\tfinal no-nonbonded final system forces dict_keys(['HarmonicBondForce', 'HarmonicAngleForce', 'PeriodicTorsionForce', 'NonbondedForce'])\n",
      "INFO:geometry:\tthere are 9 bond forces in the no-nonbonded final system\n",
      "INFO:geometry:\tthere are 36 angle forces in the no-nonbonded final system\n",
      "INFO:geometry:\tthere are 42 torsion forces in the no-nonbonded final system\n",
      "INFO:geometry:reverse final system defined with 0 neglected angles.\n"
     ]
    },
    {
     "name": "stdout",
     "output_type": "stream",
     "text": [
      "conducting subsequent work with the following platform: CUDA\n",
      "conducting subsequent work with the following platform: CUDA\n"
     ]
    },
    {
     "name": "stderr",
     "output_type": "stream",
     "text": [
      "INFO:geometry:total reduced potential before atom placement: 39.158842456066374\n"
     ]
    },
    {
     "name": "stdout",
     "output_type": "stream",
     "text": [
      "conducting subsequent work with the following platform: CUDA\n",
      "conducting subsequent work with the following platform: CUDA\n",
      "conducting subsequent work with the following platform: CUDA\n"
     ]
    },
    {
     "name": "stderr",
     "output_type": "stream",
     "text": [
      "INFO:geometry:total reduced energy added from growth system: 9.213144516853129\n",
      "INFO:geometry:final reduced energy 48.37198639204966\n",
      "INFO:geometry:sum of energies: 48.3719869729195\n",
      "INFO:geometry:magnitude of difference in the energies: 5.808698393394707e-07\n",
      "INFO:geometry:Final logp_proposal: 19.172800363649323\n",
      "INFO:setup:charge diff: -1\n"
     ]
    },
    {
     "name": "stdout",
     "output_type": "stream",
     "text": [
      "added energy components: [('CustomBondForce', 0.0), ('CustomAngleForce', 1.2186352924375459), ('CustomTorsionForce', 0.11318969329564774), ('CustomBondForce', 7.881319531119938)]\n"
     ]
    },
    {
     "name": "stderr",
     "output_type": "stream",
     "text": [
      "INFO:setup:new water indices to ionize [1654 1655 1656]\n",
      "INFO:relative:*** Generating RESTCapableHybridTopologyFactory ***\n",
      "INFO:relative:Old system forces: dict_keys(['HarmonicBondForce', 'HarmonicAngleForce', 'PeriodicTorsionForce', 'NonbondedForce', 'MonteCarloBarostat'])\n",
      "INFO:relative:New system forces: dict_keys(['HarmonicBondForce', 'HarmonicAngleForce', 'PeriodicTorsionForce', 'NonbondedForce', 'MonteCarloBarostat'])\n",
      "INFO:relative:No unknown forces.\n",
      "INFO:relative:r_cutoff is 1.0 nm\n",
      "INFO:relative:alpha_ewald is 2.7569734238004693\n",
      "INFO:relative:w_scale is 0.3\n",
      "INFO:relative:Creating hybrid system\n",
      "INFO:relative:Adding and mapping old atoms to hybrid system...\n",
      "INFO:relative:Adding and mapping new atoms to hybrid system...\n",
      "INFO:relative:Added MonteCarloBarostat.\n",
      "INFO:relative:getDefaultPeriodicBoxVectors added to hybrid: [Quantity(value=Vec3(x=2.9643, y=0.0, z=0.0), unit=nanometer), Quantity(value=Vec3(x=0.9880404597665261, y=2.7947898918996312, z=0.0), unit=nanometer), Quantity(value=Vec3(x=-0.9880404597665258, y=1.3972686448952576, z=2.4204319601792), unit=nanometer)]\n",
      "INFO:relative:Determined atom classes.\n",
      "INFO:relative:Computed hybrid positions\n",
      "INFO:relative:Created hybrid topology\n",
      "INFO:relative:Generating rest_region with query indices: [6, 7, 8, 9, 10, 11, 12, 13, 14, 15, 1926, 1927, 1928, 1929, 1930, 1931, 1932, 1933, 1934, 1935, 1936, 1937, 1938, 1939, 1940]\n",
      "INFO:relative:Rest radius: 0.3 nm\n",
      "INFO:relative:Rest region: [0, 1, 2, 3, 4, 5, 6, 7, 8, 9, 10, 11, 12, 13, 14, 15, 1926, 1927, 1928, 1929, 1930, 1931, 1932, 1933, 1934, 1935, 1936, 1937, 1938, 1939, 1940, 16, 17, 18, 19, 20, 21]\n",
      "INFO:relative:Prepped look up dict for determining if atom is solvent\n",
      "INFO:relative:Generating old system exceptions dict...\n",
      "INFO:relative:Generating new system exceptions dict...\n",
      "INFO:relative:Handling constraints...\n",
      "INFO:relative:Handling virtual sites...\n",
      "INFO:relative:\t_handle_virtual_sites: numVirtualSites: 0\n",
      "INFO:relative:Handling bonds...\n",
      "INFO:relative:Handling angles...\n",
      "INFO:relative:Handling torsions...\n",
      "INFO:relative:Handling nonbondeds (creating forces)...\n",
      "INFO:relative:Handling nonbondeds (copying nonbonded particles)...\n",
      "INFO:relative:Handling nonbondeds (copying nonbonded exceptions)...\n",
      "INFO:setup:Saving htfs as pickles\n",
      "INFO:setup:sterics expression: U_sterics; U_sterics = 4 * epsilon * x * (x - 1.0);x = (sigma / r_eff_sterics)^6;sigma = (sigma1 + sigma2) / 2; epsilon = sterics_rest_scale1 * sterics_rest_scale2 * sqrt(epsilon_combined); epsilon_combined = step(epsilon1 * epsilon2) * epsilon1 * epsilon2; r_eff_sterics = sqrt(r^2 + w_sterics^2); w_sterics = w_scale * r_cutoff * (is_unique_old * (1 - lambda_alchemical_sterics_old) + is_unique_new * (1 - lambda_alchemical_sterics_new)); is_unique_old = step(is_unique_old1 + is_unique_old2 - 0.1); is_unique_new = step(is_unique_new1 + is_unique_new2 - 0.1); w_scale = 0.3; r_cutoff = 1.0;\n",
      "INFO:setup:forces: [<openmm.openmm.MonteCarloBarostat; proxy of <Swig Object of type 'OpenMM::MonteCarloBarostat *' at 0x2ab3f309c360> >, <openmm.openmm.CustomBondForce; proxy of <Swig Object of type 'OpenMM::CustomBondForce *' at 0x2ab3dff0f990> >, <openmm.openmm.CustomAngleForce; proxy of <Swig Object of type 'OpenMM::CustomAngleForce *' at 0x2ab3f340b180> >, <openmm.openmm.CustomTorsionForce; proxy of <Swig Object of type 'OpenMM::CustomTorsionForce *' at 0x2ab3f16876c0> >, <openmm.openmm.CustomNonbondedForce; proxy of <Swig Object of type 'OpenMM::CustomNonbondedForce *' at 0x2ab3dff959c0> >, <openmm.openmm.CustomNonbondedForce; proxy of <Swig Object of type 'OpenMM::CustomNonbondedForce *' at 0x2ab3f2cddcc0> >, <openmm.openmm.CustomBondForce; proxy of <Swig Object of type 'OpenMM::CustomBondForce *' at 0x2ab3f2cddd20> >, <openmm.openmm.NonbondedForce; proxy of <Swig Object of type 'OpenMM::NonbondedForce *' at 0x2ab3f2cddf00> >, <openmm.openmm.NonbondedForce; proxy of <Swig Object of type 'OpenMM::NonbondedForce *' at 0x2ab3f2cddf60> >]\n",
      "INFO:setup:number of particles in apo: 1941\n",
      "INFO:setup:number of particles in apo rest region: 37\n"
     ]
    },
    {
     "name": "stdout",
     "output_type": "stream",
     "text": [
      "apo rest region atoms:\n",
      "ACE1-H1\n",
      "ACE1-CH3\n",
      "ACE1-H2\n",
      "ACE1-H3\n",
      "ACE1-C\n",
      "ACE1-O\n",
      "ALA2-N\n",
      "ALA2-H\n",
      "ALA2-CA\n",
      "ALA2-HA\n",
      "ALA2-CB\n",
      "ALA2-HB2\n",
      "ALA2-HB3\n",
      "ALA2-C\n",
      "ALA2-O\n",
      "ALA2-HB1\n",
      "ALA2-HB2\n",
      "ALA2-HB3\n",
      "ALA2-CG\n",
      "ALA2-HG2\n",
      "ALA2-HG3\n",
      "ALA2-CD\n",
      "ALA2-HD2\n",
      "ALA2-HD3\n",
      "ALA2-CE\n",
      "ALA2-HE2\n",
      "ALA2-HE3\n",
      "ALA2-NZ\n",
      "ALA2-HZ1\n",
      "ALA2-HZ2\n",
      "ALA2-HZ3\n",
      "NME3-N\n",
      "NME3-H\n",
      "NME3-C\n",
      "NME3-H1\n",
      "NME3-H2\n",
      "NME3-H3\n"
     ]
    }
   ],
   "source": [
    "outdir = \"/data/chodera/zhangi/perses_benchmark/repex/38/36/\"\n",
    "residue = '2'\n",
    "mutant = 'LYS'\n",
    "\n",
    "apo_file = \"/data/chodera/zhangi/perses_benchmark/repex/38/35/apo_new.pdb\" \n",
    "\n",
    "solvent_delivery = generate_htf(outdir, residue, mutant, apo_file)"
   ]
  },
  {
   "cell_type": "code",
   "execution_count": null,
   "id": "f5298d3c",
   "metadata": {},
   "outputs": [],
   "source": []
  }
 ],
 "metadata": {
  "kernelspec": {
   "display_name": "Python 3 (ipykernel)",
   "language": "python",
   "name": "python3"
  },
  "language_info": {
   "codemirror_mode": {
    "name": "ipython",
    "version": 3
   },
   "file_extension": ".py",
   "mimetype": "text/x-python",
   "name": "python",
   "nbconvert_exporter": "python",
   "pygments_lexer": "ipython3",
   "version": "3.9.9"
  }
 },
 "nbformat": 4,
 "nbformat_minor": 5
}
