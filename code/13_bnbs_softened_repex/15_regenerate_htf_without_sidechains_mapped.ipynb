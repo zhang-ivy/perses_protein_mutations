{
 "cells": [
  {
   "cell_type": "code",
   "execution_count": 1,
   "metadata": {},
   "outputs": [],
   "source": [
    "import pickle\n",
    "import os\n",
    "from perses.utils.smallmolecules import render_atom_mapping\n",
    "import mdtraj as md\n",
    "import numpy as np\n",
    "import itertools\n",
    "import logging\n",
    "\n",
    "# Set up logger\n",
    "_logger = logging.getLogger()\n",
    "_logger.setLevel(logging.INFO)"
   ]
  },
  {
   "cell_type": "code",
   "execution_count": 2,
   "metadata": {
    "scrolled": true
   },
   "outputs": [
    {
     "name": "stderr",
     "output_type": "stream",
     "text": [
      "/home/zhangi/miniconda3/envs/perses-sims/lib/python3.7/site-packages/perses-0.8.2.dev0-py3.7.egg/perses/rjmc/coordinate_numba.py:14: NumbaPerformanceWarning: np.dot() is faster on contiguous arrays, called on (array(float64, 1d, A), array(float64, 1d, A))\n",
      "  n_2 = np.dot(a, a)\n",
      "/home/zhangi/miniconda3/envs/perses-sims/lib/python3.7/site-packages/perses-0.8.2.dev0-py3.7.egg/perses/rjmc/coordinate_numba.py:65: NumbaPerformanceWarning: np.dot() is faster on contiguous arrays, called on (array(float64, 2d, A), array(float64, 1d, C))\n",
      "  d_ang = np.dot(angle_rotation_matrix, d_r)\n",
      "/home/zhangi/miniconda3/envs/perses-sims/lib/python3.7/site-packages/perses-0.8.2.dev0-py3.7.egg/perses/rjmc/coordinate_numba.py:71: NumbaPerformanceWarning: np.dot() is faster on contiguous arrays, called on (array(float64, 2d, A), array(float64, 1d, C))\n",
      "  d_torsion = np.dot(torsion_rotation_matrix, d_ang)\n",
      "/home/zhangi/miniconda3/envs/perses-sims/lib/python3.7/site-packages/perses-0.8.2.dev0-py3.7.egg/perses/rjmc/coordinate_numba.py:129: NumbaPerformanceWarning: np.dot() is faster on contiguous arrays, called on (array(float64, 1d, A), array(float64, 1d, A))\n",
      "  cos_phi = np.dot(plane1, plane2) / (_norm(plane1)*_norm(plane2))\n",
      "/home/zhangi/miniconda3/envs/perses-sims/lib/python3.7/site-packages/perses-0.8.2.dev0-py3.7.egg/perses/rjmc/coordinate_numba.py:137: NumbaPerformanceWarning: np.dot() is faster on contiguous arrays, called on (array(float64, 1d, C), array(float64, 1d, A))\n",
      "  if np.dot(a, plane2) <= 0:\n",
      "INFO:numexpr.utils:Note: NumExpr detected 48 cores but \"NUMEXPR_MAX_THREADS\" not set, so enforcing safe limit of 8.\n",
      "INFO:numexpr.utils:NumExpr defaulting to 8 threads.\n",
      "RDKit WARNING: [22:49:31] Enabling RDKit 2019.09.3 jupyter extensions\n",
      "INFO:proposal_generator:\tConducting polymer point mutation proposal...\n",
      "INFO:proposal_generator:Using matching_criterion to chose best atom map\n",
      "INFO:proposal_generator:Scaffold has symmetry of 0\n",
      "WARNING:proposal_generator:Two molecules are not similar to have a common scaffold\n",
      "WARNING:proposal_generator:Proceeding with direct mapping of molecules, but please check atom mapping and the geometry of the ligands.\n",
      "INFO:proposal_generator:len [{7: 9}, {8: 9}, {9: 9}, {7: 10}, {8: 10}, {9: 10}, {7: 11}, {8: 11}, {9: 11}, {7: 12}, {8: 12}, {9: 12}, {7: 13}, {8: 13}, {9: 13}]\n",
      "INFO:proposal_generator:{7: 9}\n",
      "INFO:proposal_generator:{8: 9}\n",
      "INFO:proposal_generator:{9: 9}\n",
      "INFO:proposal_generator:{7: 10}\n",
      "INFO:proposal_generator:{8: 10}\n",
      "INFO:proposal_generator:{9: 10}\n",
      "INFO:proposal_generator:{7: 11}\n",
      "INFO:proposal_generator:{8: 11}\n",
      "INFO:proposal_generator:{9: 11}\n",
      "INFO:proposal_generator:{7: 12}\n",
      "INFO:proposal_generator:{8: 12}\n",
      "INFO:proposal_generator:{9: 12}\n",
      "INFO:proposal_generator:{7: 13}\n",
      "INFO:proposal_generator:{8: 13}\n",
      "INFO:proposal_generator:{9: 13}\n",
      "INFO:proposal_generator:Returning map that best satisfies matching_criterion\n",
      "INFO:proposal_generator:Finding best map using matching_criterion name\n",
      "INFO:proposal_generator:{7: 9}\n",
      "INFO:geometry:propose: performing forward proposal\n",
      "INFO:geometry:propose: unique new atoms detected; proceeding to _logp_propose...\n",
      "INFO:geometry:Conducting forward proposal...\n",
      "INFO:geometry:Computing proposal order with NetworkX...\n",
      "INFO:geometry:number of atoms to be placed: 4\n",
      "INFO:geometry:Atom index proposal order is [10, 13, 14, 15]\n",
      "INFO:geometry:omitted_bonds: []\n",
      "INFO:geometry:direction of proposal is forward; creating atoms_with_positions and new positions from old system/topology...\n",
      "INFO:geometry:creating growth system...\n",
      "INFO:geometry:\tcreating bond force...\n",
      "INFO:geometry:\tthere are 9 bonds in reference force.\n",
      "INFO:geometry:\tcreating angle force...\n",
      "INFO:geometry:\tthere are 36 angles in reference force.\n",
      "INFO:geometry:\tcreating torsion force...\n",
      "INFO:geometry:\tcreating extra torsions force...\n",
      "INFO:geometry:\tthere are 42 torsions in reference force.\n",
      "INFO:geometry:\tcreating nonbonded force...\n",
      "INFO:geometry:\t\tgrabbing reference nonbonded method, cutoff, switching function, switching distance...\n",
      "INFO:geometry:\t\tcreating nonbonded exception force (i.e. custom bond for 1,4s)...\n",
      "INFO:geometry:\t\tlooping through exceptions calculating growth indices, and adding appropriate interactions to custom bond force.\n",
      "INFO:geometry:\t\tthere are 98 in the reference Nonbonded force\n",
      "WARNING:geometry:\t\t\t\t\tchiral atom <Atom 8 (CA) of chain 0 residue 1 (ALA)> with neighbors [<Atom 11 (C) of chain 0 residue 1 (ALA)>, <Atom 10 (CB) of chain 0 residue 1 (ALA)>, <Atom 9 (HA) of chain 0 residue 1 (ALA)>, <Atom 6 (N) of chain 0 residue 1 (ALA)>] is surrounded by 3 core neighbors.  omitting chirality bias torsion\n",
      "INFO:geometry:Neglected angle terms : []\n",
      "INFO:geometry:omitted_growth_terms: {'bonds': [], 'angles': [], 'torsions': [], '1,4s': []}\n",
      "INFO:geometry:extra torsions: {}\n",
      "INFO:geometry:neglected angle terms include []\n",
      "INFO:geometry:log probability choice of torsions and atom order: -5.78074351579233\n",
      "INFO:geometry:creating platform, integrators, and contexts; setting growth parameter\n"
     ]
    },
    {
     "name": "stdout",
     "output_type": "stream",
     "text": [
      "conducting subsequent work with the following platform: CUDA\n",
      "conducting subsequent work with the following platform: CUDA\n"
     ]
    },
    {
     "name": "stderr",
     "output_type": "stream",
     "text": [
      "INFO:geometry:setting atoms_with_positions context new positions\n"
     ]
    },
    {
     "name": "stdout",
     "output_type": "stream",
     "text": [
      "conducting subsequent work with the following platform: CUDA\n"
     ]
    },
    {
     "name": "stderr",
     "output_type": "stream",
     "text": [
      "INFO:geometry:There are 4 new atoms\n",
      "INFO:geometry:\treduced angle potential = 0.0006296860545672645.\n",
      "INFO:geometry:\treduced angle potential = 0.759648927701872.\n",
      "INFO:geometry:\treduced angle potential = 0.004602509568495561.\n",
      "INFO:geometry:\treduced angle potential = 1.4142120840579084.\n",
      "INFO:geometry:\tbeginning construction of no_nonbonded final system...\n",
      "INFO:geometry:\tinitial no-nonbonded final system forces ['HarmonicBondForce', 'HarmonicAngleForce', 'PeriodicTorsionForce', 'NonbondedForce']\n",
      "INFO:geometry:\tfinal no-nonbonded final system forces dict_keys(['HarmonicBondForce', 'HarmonicAngleForce', 'PeriodicTorsionForce', 'NonbondedForce'])\n",
      "INFO:geometry:\tthere are 9 bond forces in the no-nonbonded final system\n",
      "INFO:geometry:\tthere are 36 angle forces in the no-nonbonded final system\n",
      "INFO:geometry:\tthere are 42 torsion forces in the no-nonbonded final system\n",
      "INFO:geometry:forward final system defined with 0 neglected angles.\n"
     ]
    },
    {
     "name": "stdout",
     "output_type": "stream",
     "text": [
      "conducting subsequent work with the following platform: CUDA\n"
     ]
    },
    {
     "name": "stderr",
     "output_type": "stream",
     "text": [
      "INFO:geometry:total reduced potential before atom placement: 9.117927746118994\n"
     ]
    },
    {
     "name": "stdout",
     "output_type": "stream",
     "text": [
      "conducting subsequent work with the following platform: CUDA\n",
      "conducting subsequent work with the following platform: CUDA\n",
      "conducting subsequent work with the following platform: CUDA\n",
      "conducting subsequent work with the following platform: CUDA\n"
     ]
    },
    {
     "name": "stderr",
     "output_type": "stream",
     "text": [
      "INFO:geometry:total reduced energy added from growth system: 21.680716127325038\n",
      "INFO:geometry:final reduced energy 30.7986452013915\n",
      "INFO:geometry:sum of energies: 30.798643873444032\n",
      "INFO:geometry:magnitude of difference in the energies: 1.327947469320634e-06\n",
      "INFO:geometry:Final logp_proposal: 24.214838226644012\n"
     ]
    },
    {
     "name": "stdout",
     "output_type": "stream",
     "text": [
      "added energy components: [('CustomBondForce', 0.6804004799391823), ('CustomAngleForce', 3.1343220850669637), ('CustomTorsionForce', 7.440620993130222), ('CustomBondForce', 10.425372569188669)]\n"
     ]
    },
    {
     "name": "stderr",
     "output_type": "stream",
     "text": [
      "INFO:geometry:logp_reverse: performing reverse proposal\n",
      "INFO:geometry:logp_reverse: unique new atoms detected; proceeding to _logp_propose...\n",
      "INFO:geometry:Conducting forward proposal...\n",
      "INFO:geometry:Computing proposal order with NetworkX...\n",
      "INFO:geometry:number of atoms to be placed: 8\n",
      "INFO:geometry:Atom index proposal order is [10, 18, 14, 13, 17, 16, 19, 15]\n",
      "INFO:geometry:omitted_bonds: []\n",
      "INFO:geometry:direction of proposal is reverse; creating atoms_with_positions from old system/topology\n",
      "INFO:geometry:creating growth system...\n",
      "INFO:geometry:\tcreating bond force...\n",
      "INFO:geometry:\tthere are 11 bonds in reference force.\n",
      "INFO:geometry:\tcreating angle force...\n",
      "INFO:geometry:\tthere are 43 angles in reference force.\n",
      "INFO:geometry:\tcreating torsion force...\n",
      "INFO:geometry:\tcreating extra torsions force...\n",
      "INFO:geometry:\tthere are 72 torsions in reference force.\n",
      "INFO:geometry:\tcreating nonbonded force...\n",
      "INFO:geometry:\t\tgrabbing reference nonbonded method, cutoff, switching function, switching distance...\n",
      "INFO:geometry:\t\tcreating nonbonded exception force (i.e. custom bond for 1,4s)...\n",
      "INFO:geometry:\t\tlooping through exceptions calculating growth indices, and adding appropriate interactions to custom bond force.\n",
      "INFO:geometry:\t\tthere are 121 in the reference Nonbonded force\n",
      "WARNING:geometry:\t\t\t\t\tchiral atom <Atom 8 (CA) of chain 0 residue 1 (THR)> with neighbors [<Atom 11 (C) of chain 0 residue 1 (THR)>, <Atom 10 (CB) of chain 0 residue 1 (THR)>, <Atom 9 (HA) of chain 0 residue 1 (THR)>, <Atom 6 (N) of chain 0 residue 1 (THR)>] is surrounded by 3 core neighbors.  omitting chirality bias torsion\n",
      "INFO:geometry:Neglected angle terms : []\n",
      "INFO:geometry:omitted_growth_terms: {'bonds': [], 'angles': [], 'torsions': [], '1,4s': []}\n",
      "INFO:geometry:extra torsions: {0: (18, 10, 8, 14, [1, Quantity(value=-1.0655064807976995, unit=radian), Quantity(value=120.0, unit=kilocalorie/mole), 3])}\n",
      "INFO:geometry:neglected angle terms include []\n",
      "INFO:geometry:log probability choice of torsions and atom order: -13.553917196274867\n",
      "INFO:geometry:creating platform, integrators, and contexts; setting growth parameter\n"
     ]
    },
    {
     "name": "stdout",
     "output_type": "stream",
     "text": [
      "conducting subsequent work with the following platform: CUDA\n"
     ]
    },
    {
     "name": "stderr",
     "output_type": "stream",
     "text": [
      "INFO:geometry:setting atoms_with_positions context old positions\n"
     ]
    },
    {
     "name": "stdout",
     "output_type": "stream",
     "text": [
      "conducting subsequent work with the following platform: CUDA\n"
     ]
    },
    {
     "name": "stderr",
     "output_type": "stream",
     "text": [
      "INFO:geometry:There are 8 new atoms\n",
      "INFO:geometry:\treduced angle potential = 0.5305209475348288.\n",
      "INFO:geometry:\treduced angle potential = 0.005165150791445113.\n",
      "INFO:geometry:\treduced angle potential = 0.4788702500646966.\n",
      "INFO:geometry:\treduced angle potential = 0.01392576095456174.\n",
      "INFO:geometry:\treduced angle potential = 0.2596979326900967.\n",
      "INFO:geometry:\treduced angle potential = 0.8672997245591195.\n",
      "INFO:geometry:\treduced angle potential = 0.70608244841363.\n",
      "INFO:geometry:\treduced angle potential = 0.2124939602020238.\n",
      "INFO:geometry:\tbeginning construction of no_nonbonded final system...\n",
      "INFO:geometry:\tinitial no-nonbonded final system forces ['HarmonicBondForce', 'HarmonicAngleForce', 'PeriodicTorsionForce', 'NonbondedForce']\n",
      "INFO:geometry:\tfinal no-nonbonded final system forces dict_keys(['HarmonicBondForce', 'HarmonicAngleForce', 'PeriodicTorsionForce', 'NonbondedForce'])\n",
      "INFO:geometry:\tthere are 11 bond forces in the no-nonbonded final system\n",
      "INFO:geometry:\tthere are 43 angle forces in the no-nonbonded final system\n",
      "INFO:geometry:\tthere are 72 torsion forces in the no-nonbonded final system\n",
      "INFO:geometry:reverse final system defined with 0 neglected angles.\n"
     ]
    },
    {
     "name": "stdout",
     "output_type": "stream",
     "text": [
      "conducting subsequent work with the following platform: CUDA\n",
      "conducting subsequent work with the following platform: CUDA\n"
     ]
    },
    {
     "name": "stderr",
     "output_type": "stream",
     "text": [
      "INFO:geometry:total reduced potential before atom placement: 9.117927746118994\n"
     ]
    },
    {
     "name": "stdout",
     "output_type": "stream",
     "text": [
      "conducting subsequent work with the following platform: CUDA\n",
      "conducting subsequent work with the following platform: CUDA\n",
      "conducting subsequent work with the following platform: CUDA\n"
     ]
    },
    {
     "name": "stderr",
     "output_type": "stream",
     "text": [
      "INFO:geometry:total reduced energy added from growth system: -62.96782058414476\n",
      "INFO:geometry:final reduced energy -53.84989368793476\n",
      "INFO:geometry:sum of energies: -53.84989283802577\n",
      "INFO:geometry:magnitude of difference in the energies: 8.499089929614456e-07\n",
      "INFO:geometry:Final logp_proposal: 40.209991527763634\n"
     ]
    },
    {
     "name": "stdout",
     "output_type": "stream",
     "text": [
      "added energy components: [('CustomBondForce', 1.1114824464808768), ('CustomAngleForce', 9.449446410979123), ('CustomTorsionForce', 18.656515884333214), ('CustomBondForce', -92.18526532593798)]\n"
     ]
    },
    {
     "name": "stderr",
     "output_type": "stream",
     "text": [
      "INFO:relative:Beginning nonbonded method, total particle, barostat, and exceptions retrieval...\n",
      "INFO:relative:Old system forces: dict_keys(['HarmonicBondForce', 'HarmonicAngleForce', 'PeriodicTorsionForce', 'NonbondedForce'])\n",
      "INFO:relative:New system forces: dict_keys(['HarmonicBondForce', 'HarmonicAngleForce', 'PeriodicTorsionForce', 'NonbondedForce'])\n",
      "INFO:relative:No unknown forces.\n",
      "INFO:relative:Nonbonded method to be used (i.e. from old system): 0\n",
      "INFO:relative:Adding and mapping old atoms to hybrid system...\n",
      "INFO:relative:Adding and mapping new atoms to hybrid system...\n",
      "INFO:relative:No MonteCarloBarostat added.\n",
      "INFO:relative:getDefaultPeriodicBoxVectors added to hybrid: [Quantity(value=Vec3(x=2.0, y=0.0, z=0.0), unit=nanometer), Quantity(value=Vec3(x=0.0, y=2.0, z=0.0), unit=nanometer), Quantity(value=Vec3(x=0.0, y=0.0, z=2.0), unit=nanometer)]\n",
      "INFO:relative:Determined atom classes.\n",
      "INFO:relative:Generating old system exceptions dict...\n",
      "INFO:relative:Generating new system exceptions dict...\n",
      "INFO:relative:Handling constraints...\n",
      "INFO:relative:Handling virtual sites...\n",
      "INFO:relative:\t_handle_virtual_sites: numVirtualSites: 0\n",
      "INFO:relative:Adding bond force terms...\n",
      "INFO:relative:Adding angle force terms...\n",
      "INFO:relative:Adding torsion force terms...\n",
      "INFO:relative:Adding nonbonded force terms...\n",
      "INFO:relative:\t_add_nonbonded_force_terms: <simtk.openmm.openmm.NonbondedForce; proxy of <Swig Object of type 'OpenMM::NonbondedForce *' at 0x2af6dd6c5c90> > added to hybrid system\n",
      "INFO:relative:\t_add_nonbonded_force_terms: nonbonded_method is NoCutoff\n",
      "INFO:relative:\t_add_nonbonded_force_terms: 0 added to standard nonbonded force\n",
      "INFO:relative:\t_add_nonbonded_force_terms: 0 added to sterics_custom_nonbonded force\n",
      "INFO:relative:\t_add_nonbonded_force_terms: <simtk.openmm.openmm.CustomNonbondedForce; proxy of <Swig Object of type 'OpenMM::CustomNonbondedForce *' at 0x2af6dd6c5990> > added to hybrid system\n",
      "INFO:relative:Handling harmonic bonds...\n",
      "INFO:relative:\thandle_harmonic_bonds: looping through old_system to add relevant terms...\n",
      "INFO:relative:\thandle_harmonic_bonds: looping through new_system to add relevant terms...\n",
      "INFO:relative:Handling harmonic angles...\n",
      "INFO:relative:\thandle_harmonic_angles: looping through old_system to add relevant terms...\n",
      "INFO:relative:\thandle_harmonic_angles: looping through new_system to add relevant terms...\n",
      "INFO:relative:Handling torsion forces...\n",
      "INFO:relative:\thandle_periodic_torsion_forces: looping through old_system to add relevant terms...\n",
      "INFO:relative:\thandle_periodic_torsion_forces: looping through new_system to add relevant terms...\n",
      "INFO:relative:Handling nonbonded forces...\n",
      "INFO:relative:\thandle_nonbonded: looping through all particles in hybrid...\n",
      "INFO:relative:\thandle_nonbonded: Handling Interaction Groups...\n",
      "INFO:relative:\thandle_nonbonded: Handling Hybrid Exceptions...\n",
      "INFO:relative:\thandle_nonbonded: Handling Original Exceptions...\n",
      "INFO:relative:Handling unique_new/old interaction exceptions...\n",
      "INFO:relative:There are old or new system exceptions...proceeding.\n"
     ]
    },
    {
     "name": "stdout",
     "output_type": "stream",
     "text": [
      "conducting subsequent work with the following platform: CUDA\n",
      "conducting subsequent work with the following platform: CUDA\n",
      "\t\t\tHarmonicBondForce: 1.1441495623257518\n",
      "\t\t\tHarmonicAngleForce: 9.609430902542483\n",
      "\t\t\tPeriodicTorsionForce: 27.5817910696808\n",
      "\t\t\tNonbondedForce: -85.01390701922855\n",
      "\t\t\tAndersenThermostat: 0.0\n",
      "conducting subsequent work with the following platform: CUDA\n",
      "\t\t\tCustomBondForce: 0.032667115844874646\n",
      "\t\t\tHarmonicBondForce: 1.7918829264200593\n",
      "\t\t\tCustomAngleForce: 0.15998449156336095\n",
      "\t\t\tHarmonicAngleForce: 12.583768496046087\n",
      "\t\t\tCustomTorsionForce: 0.0\n",
      "\t\t\tPeriodicTorsionForce: 35.022411868831\n",
      "\t\t\tNonbondedForce: -85.8994961212808\n",
      "\t\t\tCustomNonbondedForce: 11.310963285085837\n",
      "\t\t\tCustomBondForce: 0.0\n",
      "\t\t\tAndersenThermostat: 0.0\n",
      "conducting subsequent work with the following platform: CUDA\n",
      "\t\t\tCustomBondForce: 0.032667115844874646\n",
      "\t\t\tHarmonicBondForce: 1.7918829264200593\n",
      "\t\t\tCustomAngleForce: 0.15998449156336095\n",
      "\t\t\tHarmonicAngleForce: 12.583768496046087\n",
      "\t\t\tCustomTorsionForce: 0.0\n",
      "\t\t\tPeriodicTorsionForce: 35.022411868831\n",
      "\t\t\tNonbondedForce: -137.4181542728318\n",
      "\t\t\tCustomNonbondedForce: 16.332205099506858\n",
      "\t\t\tCustomBondForce: 0.0\n",
      "\t\t\tAndersenThermostat: 0.0\n",
      "conducting subsequent work with the following platform: CUDA\n",
      "\t\t\tHarmonicBondForce: 0.7130675957840571\n",
      "\t\t\tHarmonicAngleForce: 3.2943065766303254\n",
      "\t\t\tPeriodicTorsionForce: 16.365896937860963\n",
      "\t\t\tNonbondedForce: -28.90068544078122\n",
      "\t\t\tAndersenThermostat: 0.0\n"
     ]
    }
   ],
   "source": [
    "import argparse\n",
    "import itertools\n",
    "from perses.app.relative_point_mutation_setup import PointMutationExecutor\n",
    "import simtk.openmm.app as app\n",
    "import os\n",
    "\n",
    "# Vacuum\n",
    "apo_delivery = PointMutationExecutor(os.path.join(\"../input/\", \"thr_vacuum.pdb\"), \n",
    "                          '1', \n",
    "                          '2', \n",
    "                          'ALA',\n",
    "                          phase='vacuum',\n",
    "                      barostat=None,\n",
    "                      periodic_forcefield_kwargs=None, \n",
    "                      nonperiodic_forcefield_kwargs={'nonbondedMethod': app.NoCutoff}\n",
    "                         )\n",
    "pickle.dump(apo_delivery.get_apo_htf(), open(\"thr_ala_vacuum.pickle\", \"wb\" ))\n",
    "\n",
    "\n"
   ]
  },
  {
   "cell_type": "code",
   "execution_count": 3,
   "metadata": {},
   "outputs": [],
   "source": [
    "htf = apo_delivery.get_apo_htf()"
   ]
  },
  {
   "cell_type": "code",
   "execution_count": 4,
   "metadata": {},
   "outputs": [
    {
     "name": "stdout",
     "output_type": "stream",
     "text": [
      "ACE1-H1 0\n",
      "ACE1-CH3 1\n",
      "ACE1-H2 2\n",
      "ACE1-H3 3\n",
      "ACE1-C 4\n",
      "ACE1-O 5\n",
      "THR2-N 6\n",
      "THR2-H 7\n",
      "THR2-CA 8\n",
      "THR2-HA 9\n",
      "THR2-CB 10\n",
      "THR2-C 11\n",
      "THR2-O 12\n",
      "THR2-HB 13\n",
      "THR2-CG2 14\n",
      "THR2-HG21 15\n",
      "THR2-HG22 16\n",
      "THR2-HG23 17\n",
      "THR2-OG1 18\n",
      "THR2-HG1 19\n",
      "THR2-CB 26\n",
      "THR2-HB1 27\n",
      "THR2-HB2 28\n",
      "THR2-HB3 29\n",
      "NME3-N 20\n",
      "NME3-H 21\n",
      "NME3-C 22\n",
      "NME3-H1 23\n",
      "NME3-H2 24\n",
      "NME3-H3 25\n"
     ]
    }
   ],
   "source": [
    "for atom in htf.hybrid_topology.atoms:\n",
    "    print(atom, atom.index)"
   ]
  },
  {
   "cell_type": "code",
   "execution_count": 5,
   "metadata": {},
   "outputs": [
    {
     "data": {
      "text/plain": [
       "{10, 13, 14, 15, 16, 17, 18, 19}"
      ]
     },
     "execution_count": 5,
     "metadata": {},
     "output_type": "execute_result"
    }
   ],
   "source": [
    "htf._atom_classes['unique_old_atoms']"
   ]
  },
  {
   "cell_type": "code",
   "execution_count": 6,
   "metadata": {},
   "outputs": [
    {
     "data": {
      "text/plain": [
       "{26, 27, 28, 29}"
      ]
     },
     "execution_count": 6,
     "metadata": {},
     "output_type": "execute_result"
    }
   ],
   "source": [
    "htf._atom_classes['unique_new_atoms']"
   ]
  },
  {
   "cell_type": "code",
   "execution_count": 7,
   "metadata": {},
   "outputs": [],
   "source": [
    "# Copied from here: https://github.com/choderalab/perses/blob/ac9f4472c34ff2c6cd378fb33a9851968ec11bc6/perses/rjmc/topology_proposal.py#L1171\n",
    "def generate_oemol_from_pdb_template(pdbfile):\n",
    "    from perses.utils.openeye import createOEMolFromSDF\n",
    "    current_oemol = createOEMolFromSDF(pdbfile, add_hydrogens = True)\n",
    "    if not len(set([atom.GetName() for atom in current_oemol.GetAtoms()])) == len([atom.GetName() for atom in current_oemol.GetAtoms()]):\n",
    "        raise Exception(f\"the atoms in the oemol are not uniquely named.\")\n",
    "\n",
    "    #formatting all canonical atom names from pdb\n",
    "    for atom in current_oemol.GetAtoms():\n",
    "        name_with_spaces = atom.GetName()\n",
    "        name_without_spaces = name_with_spaces.replace(\" \", \"\")\n",
    "        if name_without_spaces[0].isdigit():\n",
    "            name_without_spaces = name_without_spaces[1:] + name_without_spaces[0]\n",
    "        atom.SetName(name_without_spaces)\n",
    "    return current_oemol\n"
   ]
  },
  {
   "cell_type": "code",
   "execution_count": 9,
   "metadata": {},
   "outputs": [
    {
     "name": "stderr",
     "output_type": "stream",
     "text": [
      "INFO:utils.openeye:molecule                       does not have unique atom names. Generating now...\n",
      "INFO:utils.openeye:molecule                       does not have unique atom names. Generating now...\n"
     ]
    }
   ],
   "source": [
    "# Generate maps\n",
    "\n",
    "traj = md.Trajectory(np.asarray(htf.old_positions(htf.hybrid_positions)), md.Topology.from_openmm(htf._topology_proposal.old_topology))\n",
    "traj.save(\"old.pdb\")\n",
    "traj = md.Trajectory(np.asarray(htf.new_positions(htf.hybrid_positions)), md.Topology.from_openmm(htf._topology_proposal.new_topology))\n",
    "traj.save(\"new.pdb\")\n",
    "\n",
    "old_oemol = generate_oemol_from_pdb_template(\"old.pdb\")\n",
    "new_oemol = generate_oemol_from_pdb_template(\"new.pdb\")\n",
    "render_atom_mapping(\"thr_ala_map.pdf\", old_oemol, new_oemol, htf._topology_proposal.new_to_old_atom_map)\n",
    "\n"
   ]
  },
  {
   "cell_type": "code",
   "execution_count": null,
   "metadata": {},
   "outputs": [],
   "source": []
  }
 ],
 "metadata": {
  "kernelspec": {
   "display_name": "Python 3",
   "language": "python",
   "name": "python3"
  },
  "language_info": {
   "codemirror_mode": {
    "name": "ipython",
    "version": 3
   },
   "file_extension": ".py",
   "mimetype": "text/x-python",
   "name": "python",
   "nbconvert_exporter": "python",
   "pygments_lexer": "ipython3",
   "version": "3.7.3"
  }
 },
 "nbformat": 4,
 "nbformat_minor": 4
}
