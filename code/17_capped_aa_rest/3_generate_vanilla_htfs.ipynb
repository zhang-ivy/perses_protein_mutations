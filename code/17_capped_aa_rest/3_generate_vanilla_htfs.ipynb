{
 "cells": [
  {
   "cell_type": "markdown",
   "metadata": {},
   "source": [
    "# THR->ALA vacuum "
   ]
  },
  {
   "cell_type": "code",
   "execution_count": null,
   "metadata": {},
   "outputs": [],
   "source": [
    "from perses.tests.test_topology_proposal import generate_dipeptide_top_pos_sys\n",
    "from simtk import openmm, unit\n",
    "from simtk.openmm import app\n",
    "from openmmforcefields.generators import SystemGenerator\n",
    "import numpy as np\n",
    "import pickle"
   ]
  },
  {
   "cell_type": "code",
   "execution_count": null,
   "metadata": {},
   "outputs": [],
   "source": [
    "# Generate htf for capped THR->ALA in vacuum\n",
    "pdb = app.PDBFile(\"../../input/thr_vacuum.pdb\")\n",
    "\n",
    "forcefield_files = ['amber14/protein.ff14SB.xml', 'amber14/tip3p.xml']\n",
    "barostat = None\n",
    "system_generator = SystemGenerator(forcefields=forcefield_files,\n",
    "                               barostat=barostat,\n",
    "                               forcefield_kwargs={'removeCMMotion': False,\n",
    "                                                    'ewaldErrorTolerance': 1e-4,\n",
    "                                                    'constraints' : app.HBonds,\n",
    "                                                    'hydrogenMass' : 4 * unit.amus},\n",
    "                                periodic_forcefield_kwargs=None,\n",
    "                                small_molecule_forcefield='gaff-2.11',\n",
    "                                nonperiodic_forcefield_kwargs={'nonbondedMethod': app.NoCutoff}, \n",
    "                                   molecules=None, \n",
    "                                   cache=None)\n",
    "\n",
    "# Canonicalize the solvated positions: turn tuples into np.array\n",
    "positions = unit.quantity.Quantity(value=np.array([list(atom_pos) for atom_pos in pdb.positions.value_in_unit_system(unit.md_unit_system)]), unit=unit.nanometers)\n",
    "system = system_generator.create_system(pdb.topology)\n",
    "\n",
    "htf = generate_dipeptide_top_pos_sys(pdb.topology, \n",
    "                                         new_res='ALA', \n",
    "                                         system=system, \n",
    "                                         positions=positions,\n",
    "                                         system_generator=system_generator, \n",
    "                                         conduct_htf_prop=True,\n",
    "                                         flatten_torsions=True,\n",
    "                                         flatten_exceptions=True,\n",
    "                                         validate_endstate_energy=False)\n",
    "\n",
    "out_dir = '/data/chodera/zhangi/perses_benchmark/neq/11/18/'\n",
    "pickle.dump(htf, open(os.path.join(out_dir, \"18_vacuum.pickle\"), \"wb\" ))"
   ]
  },
  {
   "cell_type": "markdown",
   "metadata": {},
   "source": [
    "# THR->ALA solvent"
   ]
  },
  {
   "cell_type": "code",
   "execution_count": 1,
   "metadata": {},
   "outputs": [
    {
     "name": "stderr",
     "output_type": "stream",
     "text": [
      "INFO:rdkit:Enabling RDKit 2020.09.1 jupyter extensions\n"
     ]
    },
    {
     "data": {
      "application/vnd.jupyter.widget-view+json": {
       "model_id": "",
       "version_major": 2,
       "version_minor": 0
      },
      "text/plain": []
     },
     "metadata": {},
     "output_type": "display_data"
    }
   ],
   "source": [
    "from perses.tests.test_topology_proposal import generate_atp, generate_dipeptide_top_pos_sys\n",
    "from simtk import openmm, unit\n",
    "from simtk.openmm import app\n",
    "from openmmforcefields.generators import SystemGenerator\n",
    "import numpy as np\n",
    "import pickle\n",
    "import os"
   ]
  },
  {
   "cell_type": "code",
   "execution_count": 2,
   "metadata": {},
   "outputs": [],
   "source": [
    "# Set up logger\n",
    "import logging\n",
    "_logger = logging.getLogger()\n",
    "_logger.setLevel(logging.INFO)"
   ]
  },
  {
   "cell_type": "code",
   "execution_count": 3,
   "metadata": {
    "scrolled": true
   },
   "outputs": [
    {
     "name": "stderr",
     "output_type": "stream",
     "text": [
      "INFO:proposal_generator:\tConducting polymer point mutation proposal...\n",
      "INFO:proposal_generator:Using matching_criterion to chose best atom map\n",
      "INFO:proposal_generator:Scaffold has symmetry of 0\n",
      "WARNING:proposal_generator:Two molecules are not similar to have a common scaffold\n",
      "WARNING:proposal_generator:Proceeding with direct mapping of molecules, but please check atom mapping and the geometry of the ligands.\n",
      "INFO:proposal_generator:len [{7: 9}, {8: 9}, {9: 9}, {7: 10}, {8: 10}, {9: 10}, {7: 11}, {8: 11}, {9: 11}, {7: 12}, {8: 12}, {9: 12}, {7: 13}, {8: 13}, {9: 13}]\n",
      "INFO:proposal_generator:{7: 9}\n",
      "INFO:proposal_generator:{8: 9}\n",
      "INFO:proposal_generator:{9: 9}\n",
      "INFO:proposal_generator:{7: 10}\n",
      "INFO:proposal_generator:{8: 10}\n",
      "INFO:proposal_generator:{9: 10}\n",
      "INFO:proposal_generator:{7: 11}\n",
      "INFO:proposal_generator:{8: 11}\n",
      "INFO:proposal_generator:{9: 11}\n",
      "INFO:proposal_generator:{7: 12}\n",
      "INFO:proposal_generator:{8: 12}\n",
      "INFO:proposal_generator:{9: 12}\n",
      "INFO:proposal_generator:{7: 13}\n",
      "INFO:proposal_generator:{8: 13}\n",
      "INFO:proposal_generator:{9: 13}\n",
      "INFO:proposal_generator:Returning map that best satisfies matching_criterion\n",
      "INFO:proposal_generator:Finding best map using matching_criterion name\n",
      "INFO:proposal_generator:{7: 9}\n"
     ]
    },
    {
     "name": "stdout",
     "output_type": "stream",
     "text": [
      "making topology proposal\n"
     ]
    },
    {
     "name": "stderr",
     "output_type": "stream",
     "text": [
      "INFO:geometry:propose: performing forward proposal\n",
      "INFO:geometry:propose: unique new atoms detected; proceeding to _logp_propose...\n",
      "INFO:geometry:Conducting forward proposal...\n",
      "INFO:geometry:Computing proposal order with NetworkX...\n",
      "INFO:geometry:number of atoms to be placed: 4\n",
      "INFO:geometry:Atom index proposal order is [10, 13, 14, 15]\n",
      "INFO:geometry:omitted_bonds: []\n",
      "INFO:geometry:direction of proposal is forward; creating atoms_with_positions and new positions from old system/topology...\n"
     ]
    },
    {
     "name": "stdout",
     "output_type": "stream",
     "text": [
      "generating geometry engine\n",
      "making geometry proposal from THR to ALA\n"
     ]
    },
    {
     "name": "stderr",
     "output_type": "stream",
     "text": [
      "INFO:geometry:creating growth system...\n",
      "INFO:geometry:\tcreating bond force...\n",
      "INFO:geometry:\tthere are 9 bonds in reference force.\n",
      "INFO:geometry:\tcreating angle force...\n",
      "INFO:geometry:\tthere are 36 angles in reference force.\n",
      "INFO:geometry:\tcreating torsion force...\n",
      "INFO:geometry:\tcreating extra torsions force...\n",
      "INFO:geometry:\tthere are 42 torsions in reference force.\n",
      "INFO:geometry:\tcreating nonbonded force...\n",
      "INFO:geometry:\t\tgrabbing reference nonbonded method, cutoff, switching function, switching distance...\n",
      "INFO:geometry:\t\tcreating nonbonded exception force (i.e. custom bond for 1,4s)...\n",
      "INFO:geometry:\t\tlooping through exceptions calculating growth indices, and adding appropriate interactions to custom bond force.\n",
      "INFO:geometry:\t\tthere are 1619 in the reference Nonbonded force\n",
      "WARNING:geometry:\t\t\t\t\tchiral atom <Atom 7 (CA) of chain 0 residue 1 (ALA)> with neighbors [<Atom 8 (C) of chain 0 residue 1 (ALA)>, <Atom 10 (CB) of chain 0 residue 1 (ALA)>, <Atom 12 (HA) of chain 0 residue 1 (ALA)>, <Atom 6 (N) of chain 0 residue 1 (ALA)>] is surrounded by 3 core neighbors.  omitting chirality bias torsion\n",
      "INFO:geometry:Neglected angle terms : []\n",
      "INFO:geometry:omitted_growth_terms: {'bonds': [], 'angles': [], 'torsions': [], '1,4s': []}\n",
      "INFO:geometry:extra torsions: {0: (11, 6, 7, 10, [1, Quantity(value=0.9799661941737812, unit=radian), Quantity(value=1200.0, unit=kilocalorie/mole), 1]), 1: (6, 7, 10, 13, [1, Quantity(value=2.105358864604291, unit=radian), Quantity(value=1200.0, unit=kilocalorie/mole), 2]), 2: (6, 7, 10, 14, [1, Quantity(value=-2.0823006129211796, unit=radian), Quantity(value=1200.0, unit=kilocalorie/mole), 3]), 3: (6, 7, 10, 15, [1, Quantity(value=0.018582237407944735, unit=radian), Quantity(value=1200.0, unit=kilocalorie/mole), 4]), 4: (8, 7, 10, 13, [1, Quantity(value=-0.036945135932107576, unit=radian), Quantity(value=1200.0, unit=kilocalorie/mole), 2]), 5: (8, 7, 10, 14, [1, Quantity(value=2.0585806937220097, unit=radian), Quantity(value=1200.0, unit=kilocalorie/mole), 3]), 6: (8, 7, 10, 15, [1, Quantity(value=-2.1237217631284597, unit=radian), Quantity(value=1200.0, unit=kilocalorie/mole), 4]), 7: (12, 7, 10, 13, [1, Quantity(value=-2.119603470065817, unit=radian), Quantity(value=1200.0, unit=kilocalorie/mole), 2]), 8: (12, 7, 10, 14, [1, Quantity(value=-0.024077640411697132, unit=radian), Quantity(value=1200.0, unit=kilocalorie/mole), 3]), 9: (12, 7, 10, 15, [1, Quantity(value=2.0768052099174152, unit=radian), Quantity(value=1200.0, unit=kilocalorie/mole), 4])}\n",
      "INFO:geometry:neglected angle terms include []\n",
      "INFO:geometry:log probability choice of torsions and atom order: -5.78074351579233\n",
      "INFO:geometry:creating platform, integrators, and contexts; setting growth parameter\n"
     ]
    },
    {
     "name": "stdout",
     "output_type": "stream",
     "text": [
      "conducting subsequent work with the following platform: CUDA\n",
      "conducting subsequent work with the following platform: CUDA\n"
     ]
    },
    {
     "name": "stderr",
     "output_type": "stream",
     "text": [
      "INFO:geometry:setting atoms_with_positions context new positions\n"
     ]
    },
    {
     "name": "stdout",
     "output_type": "stream",
     "text": [
      "conducting subsequent work with the following platform: CUDA\n"
     ]
    },
    {
     "name": "stderr",
     "output_type": "stream",
     "text": [
      "INFO:geometry:There are 4 new atoms\n",
      "INFO:geometry:\treduced angle potential = 0.06064554505863181.\n",
      "INFO:geometry:\treduced angle potential = 0.13472960823371916.\n",
      "INFO:geometry:\treduced angle potential = 0.8622216235881431.\n",
      "INFO:geometry:\treduced angle potential = 0.728774806179901.\n",
      "INFO:geometry:\tbeginning construction of no_nonbonded final system...\n",
      "INFO:geometry:\tinitial no-nonbonded final system forces ['HarmonicBondForce', 'HarmonicAngleForce', 'PeriodicTorsionForce', 'NonbondedForce', 'MonteCarloBarostat']\n",
      "INFO:geometry:\tfinal no-nonbonded final system forces dict_keys(['HarmonicBondForce', 'HarmonicAngleForce', 'PeriodicTorsionForce', 'NonbondedForce'])\n",
      "INFO:geometry:\tthere are 9 bond forces in the no-nonbonded final system\n",
      "INFO:geometry:\tthere are 36 angle forces in the no-nonbonded final system\n",
      "INFO:geometry:\tthere are 42 torsion forces in the no-nonbonded final system\n",
      "INFO:geometry:forward final system defined with 0 neglected angles.\n"
     ]
    },
    {
     "name": "stdout",
     "output_type": "stream",
     "text": [
      "conducting subsequent work with the following platform: CUDA\n",
      "conducting subsequent work with the following platform: CUDA\n"
     ]
    },
    {
     "name": "stderr",
     "output_type": "stream",
     "text": [
      "INFO:geometry:total reduced potential before atom placement: 9.117927746118994\n"
     ]
    },
    {
     "name": "stdout",
     "output_type": "stream",
     "text": [
      "conducting subsequent work with the following platform: CUDA\n",
      "conducting subsequent work with the following platform: CUDA\n",
      "conducting subsequent work with the following platform: CUDA\n"
     ]
    },
    {
     "name": "stderr",
     "output_type": "stream",
     "text": [
      "INFO:geometry:total reduced energy added from growth system: 22.68670953061022\n",
      "INFO:geometry:final reduced energy 31.80463797488414\n",
      "INFO:geometry:sum of energies: 31.804637276729213\n",
      "INFO:geometry:magnitude of difference in the energies: 6.981549276474652e-07\n",
      "INFO:geometry:Final logp_proposal: 32.09747635066071\n"
     ]
    },
    {
     "name": "stdout",
     "output_type": "stream",
     "text": [
      "added energy components: [('CustomBondForce', 1.1737052625767395), ('CustomAngleForce', 2.3266658834128964), ('CustomTorsionForce', 7.670819374549135), ('CustomBondForce', 11.515519010071447)]\n"
     ]
    },
    {
     "name": "stderr",
     "output_type": "stream",
     "text": [
      "INFO:geometry:logp_reverse: performing reverse proposal\n",
      "INFO:geometry:logp_reverse: unique new atoms detected; proceeding to _logp_propose...\n",
      "INFO:geometry:Conducting forward proposal...\n",
      "INFO:geometry:Computing proposal order with NetworkX...\n",
      "INFO:geometry:number of atoms to be placed: 8\n",
      "INFO:geometry:Atom index proposal order is [10, 11, 12, 19, 17, 18, 15, 16]\n",
      "INFO:geometry:omitted_bonds: []\n",
      "INFO:geometry:direction of proposal is reverse; creating atoms_with_positions from old system/topology\n",
      "INFO:geometry:creating growth system...\n",
      "INFO:geometry:\tcreating bond force...\n",
      "INFO:geometry:\tthere are 11 bonds in reference force.\n",
      "INFO:geometry:\tcreating angle force...\n",
      "INFO:geometry:\tthere are 43 angles in reference force.\n",
      "INFO:geometry:\tcreating torsion force...\n",
      "INFO:geometry:\tcreating extra torsions force...\n",
      "INFO:geometry:\tthere are 72 torsions in reference force.\n",
      "INFO:geometry:\tcreating nonbonded force...\n",
      "INFO:geometry:\t\tgrabbing reference nonbonded method, cutoff, switching function, switching distance...\n",
      "INFO:geometry:\t\tcreating nonbonded exception force (i.e. custom bond for 1,4s)...\n",
      "INFO:geometry:\t\tlooping through exceptions calculating growth indices, and adding appropriate interactions to custom bond force.\n",
      "INFO:geometry:\t\tthere are 1642 in the reference Nonbonded force\n",
      "WARNING:geometry:\t\t\t\t\tchiral atom <Atom 7 (CA) of chain 0 residue 1 (THR)> with neighbors [<Atom 8 (C) of chain 0 residue 1 (THR)>, <Atom 10 (CB) of chain 0 residue 1 (THR)>, <Atom 14 (HA) of chain 0 residue 1 (THR)>, <Atom 6 (N) of chain 0 residue 1 (THR)>] is surrounded by 3 core neighbors.  omitting chirality bias torsion\n",
      "INFO:geometry:Neglected angle terms : []\n",
      "INFO:geometry:omitted_growth_terms: {'bonds': [], 'angles': [], 'torsions': [], '1,4s': []}\n",
      "INFO:geometry:extra torsions: {0: (13, 6, 7, 10, [1, Quantity(value=0.9900002084555819, unit=radian), Quantity(value=1200.0, unit=kilocalorie/mole), 1]), 1: (16, 12, 10, 7, [1, Quantity(value=-0.07858019216845058, unit=radian), Quantity(value=1200.0, unit=kilocalorie/mole), 8]), 2: (16, 12, 10, 11, [1, Quantity(value=2.118586571250296, unit=radian), Quantity(value=1200.0, unit=kilocalorie/mole), 8]), 3: (16, 12, 10, 15, [1, Quantity(value=-2.149781203448759, unit=radian), Quantity(value=1200.0, unit=kilocalorie/mole), 8]), 4: (7, 10, 11, 19, [1, Quantity(value=-2.1249532223845904, unit=radian), Quantity(value=1200.0, unit=kilocalorie/mole), 4]), 5: (7, 10, 11, 18, [1, Quantity(value=2.0543043017157916, unit=radian), Quantity(value=1200.0, unit=kilocalorie/mole), 6]), 6: (7, 10, 11, 17, [1, Quantity(value=-0.02223392579985184, unit=radian), Quantity(value=1200.0, unit=kilocalorie/mole), 5]), 7: (12, 10, 11, 19, [1, Quantity(value=2.0255587336734213, unit=radian), Quantity(value=1200.0, unit=kilocalorie/mole), 4]), 8: (12, 10, 11, 18, [1, Quantity(value=-0.07836904940578293, unit=radian), Quantity(value=1200.0, unit=kilocalorie/mole), 6]), 9: (12, 10, 11, 17, [1, Quantity(value=-2.154907276921426, unit=radian), Quantity(value=1200.0, unit=kilocalorie/mole), 5]), 10: (15, 10, 11, 19, [1, Quantity(value=0.007583009583349565, unit=radian), Quantity(value=1200.0, unit=kilocalorie/mole), 7]), 11: (15, 10, 11, 18, [1, Quantity(value=-2.096344773495849, unit=radian), Quantity(value=1200.0, unit=kilocalorie/mole), 7]), 12: (15, 10, 11, 17, [1, Quantity(value=2.1103023061680943, unit=radian), Quantity(value=1200.0, unit=kilocalorie/mole), 7]), 13: (11, 10, 7, 12, [1, Quantity(value=1.0655064807976995, unit=radian), Quantity(value=1200.0, unit=kilocalorie/mole), 3])}\n",
      "INFO:geometry:neglected angle terms include []\n",
      "INFO:geometry:log probability choice of torsions and atom order: -13.659277711932692\n",
      "INFO:geometry:creating platform, integrators, and contexts; setting growth parameter\n"
     ]
    },
    {
     "name": "stdout",
     "output_type": "stream",
     "text": [
      "conducting subsequent work with the following platform: CUDA\n"
     ]
    },
    {
     "name": "stderr",
     "output_type": "stream",
     "text": [
      "INFO:geometry:setting atoms_with_positions context old positions\n"
     ]
    },
    {
     "name": "stdout",
     "output_type": "stream",
     "text": [
      "conducting subsequent work with the following platform: CUDA\n"
     ]
    },
    {
     "name": "stderr",
     "output_type": "stream",
     "text": [
      "INFO:geometry:There are 8 new atoms\n",
      "INFO:geometry:\treduced angle potential = 0.35437283384745427.\n",
      "INFO:geometry:\treduced angle potential = 0.2837556805192059.\n",
      "INFO:geometry:\treduced angle potential = 0.5480722909368079.\n",
      "INFO:geometry:\treduced angle potential = 1.0370646766944087.\n",
      "INFO:geometry:\treduced angle potential = 0.41153299614897326.\n",
      "INFO:geometry:\treduced angle potential = 0.027255279113501604.\n",
      "INFO:geometry:\treduced angle potential = 0.04489694868193292.\n",
      "INFO:geometry:\treduced angle potential = 1.12684905408633.\n",
      "INFO:geometry:\tbeginning construction of no_nonbonded final system...\n",
      "INFO:geometry:\tinitial no-nonbonded final system forces ['HarmonicBondForce', 'HarmonicAngleForce', 'PeriodicTorsionForce', 'NonbondedForce', 'MonteCarloBarostat']\n",
      "INFO:geometry:\tfinal no-nonbonded final system forces dict_keys(['HarmonicBondForce', 'HarmonicAngleForce', 'PeriodicTorsionForce', 'NonbondedForce'])\n",
      "INFO:geometry:\tthere are 11 bond forces in the no-nonbonded final system\n",
      "INFO:geometry:\tthere are 43 angle forces in the no-nonbonded final system\n",
      "INFO:geometry:\tthere are 72 torsion forces in the no-nonbonded final system\n",
      "INFO:geometry:reverse final system defined with 0 neglected angles.\n"
     ]
    },
    {
     "name": "stdout",
     "output_type": "stream",
     "text": [
      "conducting subsequent work with the following platform: CUDA\n",
      "conducting subsequent work with the following platform: CUDA\n"
     ]
    },
    {
     "name": "stderr",
     "output_type": "stream",
     "text": [
      "INFO:geometry:total reduced potential before atom placement: 9.117927746118994\n"
     ]
    },
    {
     "name": "stdout",
     "output_type": "stream",
     "text": [
      "conducting subsequent work with the following platform: CUDA\n",
      "conducting subsequent work with the following platform: CUDA\n",
      "conducting subsequent work with the following platform: CUDA\n"
     ]
    },
    {
     "name": "stderr",
     "output_type": "stream",
     "text": [
      "INFO:geometry:total reduced energy added from growth system: -72.55558356848493\n",
      "INFO:geometry:final reduced energy -63.43765693685564\n",
      "INFO:geometry:sum of energies: -63.43765582236594\n",
      "INFO:geometry:magnitude of difference in the energies: 1.1144896916448488e-06\n",
      "INFO:geometry:Final logp_proposal: -28774.296584503154\n"
     ]
    },
    {
     "name": "stdout",
     "output_type": "stream",
     "text": [
      "added energy components: [('CustomBondForce', 0.5174288400267416), ('CustomAngleForce', 6.782407624225441), ('CustomTorsionForce', 17.086151956175012), ('CustomBondForce', -96.94157198891212)]\n"
     ]
    },
    {
     "name": "stderr",
     "output_type": "stream",
     "text": [
      "INFO:relative:*** Generating vanilla HybridTopologyFactory ***\n",
      "INFO:relative:Beginning nonbonded method, total particle, barostat, and exceptions retrieval...\n",
      "INFO:relative:Flattening torsions of unique new/old at lambda = 0/1\n",
      "INFO:relative:Flattening exceptions of unique new/old at lambda = 0/1\n",
      "INFO:relative:Old system forces: dict_keys(['HarmonicBondForce', 'HarmonicAngleForce', 'PeriodicTorsionForce', 'NonbondedForce', 'MonteCarloBarostat'])\n",
      "INFO:relative:New system forces: dict_keys(['HarmonicBondForce', 'HarmonicAngleForce', 'PeriodicTorsionForce', 'NonbondedForce', 'MonteCarloBarostat'])\n",
      "INFO:relative:No unknown forces.\n",
      "INFO:relative:Nonbonded method to be used (i.e. from old system): 4\n",
      "INFO:relative:Adding and mapping old atoms to hybrid system...\n",
      "INFO:relative:Adding and mapping new atoms to hybrid system...\n",
      "INFO:relative:Added MonteCarloBarostat.\n",
      "INFO:relative:getDefaultPeriodicBoxVectors added to hybrid: [Quantity(value=Vec3(x=2.5648, y=0.0, z=0.0), unit=nanometer), Quantity(value=Vec3(x=0.0, y=2.5648, z=0.0), unit=nanometer), Quantity(value=Vec3(x=0.0, y=0.0, z=2.5648), unit=nanometer)]\n",
      "INFO:relative:Determined atom classes.\n",
      "INFO:relative:Generating old system exceptions dict...\n",
      "INFO:relative:Generating new system exceptions dict...\n",
      "INFO:relative:Handling constraints...\n",
      "INFO:relative:Handling virtual sites...\n",
      "INFO:relative:\t_handle_virtual_sites: numVirtualSites: 0\n",
      "INFO:relative:Adding bond force terms...\n",
      "INFO:relative:Adding angle force terms...\n",
      "INFO:relative:Adding torsion force terms...\n",
      "INFO:relative:Adding nonbonded force terms...\n",
      "INFO:relative:\t_add_nonbonded_force_terms: <simtk.openmm.openmm.NonbondedForce; proxy of <Swig Object of type 'OpenMM::NonbondedForce *' at 0x2ac24e3cf7b0> > added to hybrid system\n",
      "INFO:relative:\t_add_nonbonded_force_terms: nonbonded_method is PME or Ewald\n",
      "INFO:relative:\t_add_nonbonded_force_terms: 4 added to standard nonbonded force\n",
      "INFO:relative:\t_add_nonbonded_force_terms: 2 added to sterics_custom_nonbonded force\n",
      "INFO:relative:\t_add_nonbonded_force_terms: <simtk.openmm.openmm.CustomNonbondedForce; proxy of <Swig Object of type 'OpenMM::CustomNonbondedForce *' at 0x2ac24e3cffc0> > added to hybrid system\n",
      "INFO:relative:Handling harmonic bonds...\n",
      "INFO:relative:\thandle_harmonic_bonds: looping through old_system to add relevant terms...\n",
      "INFO:relative:\thandle_harmonic_bonds: looping through new_system to add relevant terms...\n",
      "INFO:relative:Handling harmonic angles...\n",
      "INFO:relative:\thandle_harmonic_angles: looping through old_system to add relevant terms...\n",
      "INFO:relative:\thandle_harmonic_angles: looping through new_system to add relevant terms...\n",
      "INFO:relative:Handling torsion forces...\n",
      "INFO:relative:\thandle_periodic_torsion_forces: looping through old_system to add relevant terms...\n",
      "INFO:relative:\thandle_periodic_torsion_forces: looping through new_system to add relevant terms...\n",
      "INFO:relative:Handling nonbonded forces...\n",
      "INFO:relative:\thandle_nonbonded: looping through all particles in hybrid...\n",
      "INFO:relative:\thandle_nonbonded: Handling Interaction Groups...\n",
      "INFO:relative:\thandle_nonbonded: Handling Hybrid Exceptions...\n",
      "INFO:relative:\thandle_nonbonded: Handling Original Exceptions...\n",
      "INFO:relative:Handling unique_new/old interaction exceptions...\n",
      "INFO:relative:There are old or new system exceptions...proceeding.\n"
     ]
    }
   ],
   "source": [
    "# Generate htf for capped THR->ALA in solvent\n",
    "pdb = app.PDBFile(\"../../input/thr_vacuum.pdb\")\n",
    "\n",
    "forcefield_files = ['amber14/protein.ff14SB.xml', 'amber14/tip3p.xml']\n",
    "barostat = openmm.MonteCarloBarostat(1.0 * unit.atmosphere, 300 * unit.kelvin, 50)\n",
    "system_generator = SystemGenerator(forcefields=forcefield_files,\n",
    "                               barostat=barostat,\n",
    "                               forcefield_kwargs={'removeCMMotion': False,\n",
    "                                                    'ewaldErrorTolerance': 1e-4,\n",
    "                                                    'constraints' : app.HBonds,\n",
    "                                                    'hydrogenMass' : 4 * unit.amus},\n",
    "                                periodic_forcefield_kwargs={'nonbondedMethod': app.PME},\n",
    "                                small_molecule_forcefield='gaff-2.11',\n",
    "                                nonperiodic_forcefield_kwargs=None, \n",
    "                                   molecules=None, \n",
    "                                   cache=None)\n",
    "modeller = app.Modeller(pdb.topology, pdb.positions)\n",
    "modeller.addSolvent(system_generator.forcefield, model='tip3p', padding=9*unit.angstroms, ionicStrength=0.15*unit.molar)\n",
    "solvated_topology = modeller.getTopology()\n",
    "solvated_positions = modeller.getPositions()\n",
    "\n",
    "# Canonicalize the solvated positions: turn tuples into np.array\n",
    "positions = unit.quantity.Quantity(value=np.array([list(atom_pos) for atom_pos in solvated_positions.value_in_unit_system(unit.md_unit_system)]), unit=unit.nanometers)\n",
    "system = system_generator.create_system(solvated_topology)\n",
    "\n",
    "htf = generate_dipeptide_top_pos_sys(solvated_topology, \n",
    "                                         new_res='ALA', \n",
    "                                         system=system, \n",
    "                                         positions=positions,\n",
    "                                         system_generator=system_generator, \n",
    "                                         conduct_htf_prop=True,\n",
    "                                         flatten_torsions=True,\n",
    "                                         flatten_exceptions=True,\n",
    "                                         validate_endstate_energy=False)"
   ]
  },
  {
   "cell_type": "code",
   "execution_count": 4,
   "metadata": {},
   "outputs": [],
   "source": [
    "out_dir = '/data/chodera/zhangi/perses_benchmark/neq/11/18/'\n",
    "pickle.dump(htf, open(os.path.join(out_dir, \"18_solvent.pickle\"), \"wb\" ))\n"
   ]
  },
  {
   "cell_type": "markdown",
   "metadata": {},
   "source": [
    "# ALA->THR vacuum"
   ]
  },
  {
   "cell_type": "code",
   "execution_count": 10,
   "metadata": {},
   "outputs": [],
   "source": [
    "from perses.tests.test_topology_proposal import generate_atp, generate_dipeptide_top_pos_sys\n",
    "from simtk import openmm, unit\n",
    "from simtk.openmm import app\n",
    "from openmmforcefields.generators import SystemGenerator\n",
    "import numpy as np\n",
    "import pickle\n",
    "import os"
   ]
  },
  {
   "cell_type": "code",
   "execution_count": 11,
   "metadata": {},
   "outputs": [],
   "source": [
    "# Set up logger\n",
    "import logging\n",
    "_logger = logging.getLogger()\n",
    "_logger.setLevel(logging.INFO)"
   ]
  },
  {
   "cell_type": "code",
   "execution_count": 12,
   "metadata": {},
   "outputs": [],
   "source": [
    "atp, sys_gen = generate_atp(phase='vacuum')"
   ]
  },
  {
   "cell_type": "code",
   "execution_count": 13,
   "metadata": {
    "scrolled": true
   },
   "outputs": [
    {
     "name": "stderr",
     "output_type": "stream",
     "text": [
      "INFO:proposal_generator:\tConducting polymer point mutation proposal...\n",
      "INFO:proposal_generator:Using matching_criterion to chose best atom map\n",
      "INFO:proposal_generator:Scaffold has symmetry of 0\n",
      "WARNING:proposal_generator:Two molecules are not similar to have a common scaffold\n",
      "WARNING:proposal_generator:Proceeding with direct mapping of molecules, but please check atom mapping and the geometry of the ligands.\n",
      "INFO:proposal_generator:len [{9: 7}, {10: 7}, {11: 7}, {12: 7}, {13: 7}, {9: 8}, {10: 8}, {11: 8}, {12: 8}, {13: 8}, {9: 9}, {10: 9}, {11: 9}, {12: 9}, {13: 9}]\n",
      "INFO:proposal_generator:{9: 7}\n",
      "INFO:proposal_generator:{10: 7}\n",
      "INFO:proposal_generator:{11: 7}\n",
      "INFO:proposal_generator:{12: 7}\n",
      "INFO:proposal_generator:{13: 7}\n",
      "INFO:proposal_generator:{9: 8}\n",
      "INFO:proposal_generator:{10: 8}\n",
      "INFO:proposal_generator:{11: 8}\n",
      "INFO:proposal_generator:{12: 8}\n",
      "INFO:proposal_generator:{13: 8}\n",
      "INFO:proposal_generator:{9: 9}\n",
      "INFO:proposal_generator:{10: 9}\n",
      "INFO:proposal_generator:{11: 9}\n",
      "INFO:proposal_generator:{12: 9}\n",
      "INFO:proposal_generator:{13: 9}\n",
      "INFO:proposal_generator:Returning map that best satisfies matching_criterion\n",
      "INFO:proposal_generator:Finding best map using matching_criterion name\n",
      "INFO:proposal_generator:{9: 7}\n",
      "INFO:geometry:propose: performing forward proposal\n",
      "INFO:geometry:propose: unique new atoms detected; proceeding to _logp_propose...\n",
      "INFO:geometry:Conducting forward proposal...\n",
      "INFO:geometry:Computing proposal order with NetworkX...\n",
      "INFO:geometry:number of atoms to be placed: 8\n",
      "INFO:geometry:Atom index proposal order is [10, 14, 18, 13, 15, 19, 17, 16]\n",
      "INFO:geometry:omitted_bonds: []\n",
      "INFO:geometry:direction of proposal is forward; creating atoms_with_positions and new positions from old system/topology...\n",
      "INFO:geometry:creating growth system...\n",
      "INFO:geometry:\tcreating bond force...\n",
      "INFO:geometry:\tthere are 11 bonds in reference force.\n",
      "INFO:geometry:\tcreating angle force...\n",
      "INFO:geometry:\tthere are 43 angles in reference force.\n",
      "INFO:geometry:\tcreating torsion force...\n",
      "INFO:geometry:\tcreating extra torsions force...\n",
      "INFO:geometry:\tthere are 72 torsions in reference force.\n",
      "INFO:geometry:\tcreating nonbonded force...\n",
      "INFO:geometry:\t\tgrabbing reference nonbonded method, cutoff, switching function, switching distance...\n",
      "INFO:geometry:\t\tcreating nonbonded exception force (i.e. custom bond for 1,4s)...\n",
      "INFO:geometry:\t\tlooping through exceptions calculating growth indices, and adding appropriate interactions to custom bond force.\n",
      "INFO:geometry:\t\tthere are 121 in the reference Nonbonded force\n",
      "WARNING:geometry:\t\t\t\t\tchiral atom <Atom 8 (CA) of chain 0 residue 1 (THR)> with neighbors [<Atom 9 (HA) of chain 0 residue 1 (THR)>, <Atom 10 (CB) of chain 0 residue 1 (THR)>, <Atom 11 (C) of chain 0 residue 1 (THR)>, <Atom 6 (N) of chain 0 residue 1 (THR)>] is surrounded by 3 core neighbors.  omitting chirality bias torsion\n",
      "INFO:geometry:Neglected angle terms : []\n",
      "INFO:geometry:omitted_growth_terms: {'bonds': [], 'angles': [], 'torsions': [], '1,4s': []}\n",
      "INFO:geometry:extra torsions: {0: (7, 6, 8, 10, [1, Quantity(value=0.9900002084555819, unit=radian), Quantity(value=1200.0, unit=kilocalorie/mole), 1]), 1: (19, 18, 10, 8, [1, Quantity(value=-0.07858019216845058, unit=radian), Quantity(value=1200.0, unit=kilocalorie/mole), 6]), 2: (19, 18, 10, 14, [1, Quantity(value=2.118586571250296, unit=radian), Quantity(value=1200.0, unit=kilocalorie/mole), 6]), 3: (19, 18, 10, 13, [1, Quantity(value=-2.149781203448759, unit=radian), Quantity(value=1200.0, unit=kilocalorie/mole), 6]), 4: (8, 10, 14, 17, [1, Quantity(value=-2.1249532223845904, unit=radian), Quantity(value=1200.0, unit=kilocalorie/mole), 7]), 5: (8, 10, 14, 16, [1, Quantity(value=2.0543043017157916, unit=radian), Quantity(value=1200.0, unit=kilocalorie/mole), 8]), 6: (8, 10, 14, 15, [1, Quantity(value=-0.02223392579985184, unit=radian), Quantity(value=1200.0, unit=kilocalorie/mole), 5]), 7: (18, 10, 14, 17, [1, Quantity(value=2.0255587336734213, unit=radian), Quantity(value=1200.0, unit=kilocalorie/mole), 7]), 8: (18, 10, 14, 16, [1, Quantity(value=-0.07836904940578293, unit=radian), Quantity(value=1200.0, unit=kilocalorie/mole), 8]), 9: (18, 10, 14, 15, [1, Quantity(value=-2.154907276921426, unit=radian), Quantity(value=1200.0, unit=kilocalorie/mole), 5]), 10: (13, 10, 14, 17, [1, Quantity(value=0.007583009583349565, unit=radian), Quantity(value=1200.0, unit=kilocalorie/mole), 7]), 11: (13, 10, 14, 16, [1, Quantity(value=-2.096344773495849, unit=radian), Quantity(value=1200.0, unit=kilocalorie/mole), 8]), 12: (13, 10, 14, 15, [1, Quantity(value=2.1103023061680943, unit=radian), Quantity(value=1200.0, unit=kilocalorie/mole), 5]), 13: (14, 10, 8, 18, [1, Quantity(value=1.0655064807976995, unit=radian), Quantity(value=1200.0, unit=kilocalorie/mole), 3])}\n",
      "INFO:geometry:neglected angle terms include []\n",
      "INFO:geometry:log probability choice of torsions and atom order: -13.553917196274867\n",
      "INFO:geometry:creating platform, integrators, and contexts; setting growth parameter\n"
     ]
    },
    {
     "name": "stdout",
     "output_type": "stream",
     "text": [
      "making topology proposal\n",
      "generating geometry engine\n",
      "making geometry proposal from ALA to THR\n",
      "conducting subsequent work with the following platform: CUDA\n"
     ]
    },
    {
     "name": "stderr",
     "output_type": "stream",
     "text": [
      "INFO:geometry:setting atoms_with_positions context new positions\n"
     ]
    },
    {
     "name": "stdout",
     "output_type": "stream",
     "text": [
      "conducting subsequent work with the following platform: CUDA\n"
     ]
    },
    {
     "name": "stderr",
     "output_type": "stream",
     "text": [
      "INFO:geometry:There are 8 new atoms\n",
      "INFO:geometry:\treduced angle potential = 0.35372065876192577.\n",
      "INFO:geometry:\treduced angle potential = 0.6512230314890123.\n",
      "INFO:geometry:\treduced angle potential = 0.7743904976383449.\n",
      "INFO:geometry:\treduced angle potential = 1.0192990189238655.\n",
      "INFO:geometry:\treduced angle potential = 1.869532320360614.\n",
      "INFO:geometry:\treduced angle potential = 0.927123691268912.\n",
      "INFO:geometry:\treduced angle potential = 0.28537268035186775.\n",
      "INFO:geometry:\treduced angle potential = 1.419845395741056.\n",
      "INFO:geometry:\tbeginning construction of no_nonbonded final system...\n",
      "INFO:geometry:\tinitial no-nonbonded final system forces ['HarmonicBondForce', 'HarmonicAngleForce', 'PeriodicTorsionForce', 'NonbondedForce']\n",
      "INFO:geometry:\tfinal no-nonbonded final system forces dict_keys(['HarmonicBondForce', 'HarmonicAngleForce', 'PeriodicTorsionForce', 'NonbondedForce'])\n",
      "INFO:geometry:\tthere are 11 bond forces in the no-nonbonded final system\n",
      "INFO:geometry:\tthere are 43 angle forces in the no-nonbonded final system\n",
      "INFO:geometry:\tthere are 72 torsion forces in the no-nonbonded final system\n",
      "INFO:geometry:forward final system defined with 0 neglected angles.\n"
     ]
    },
    {
     "name": "stdout",
     "output_type": "stream",
     "text": [
      "conducting subsequent work with the following platform: CUDA\n",
      "conducting subsequent work with the following platform: CUDA\n"
     ]
    },
    {
     "name": "stderr",
     "output_type": "stream",
     "text": [
      "INFO:geometry:total reduced potential before atom placement: 9.116470338224556\n"
     ]
    },
    {
     "name": "stdout",
     "output_type": "stream",
     "text": [
      "conducting subsequent work with the following platform: CUDA\n",
      "conducting subsequent work with the following platform: CUDA\n",
      "conducting subsequent work with the following platform: CUDA\n"
     ]
    },
    {
     "name": "stderr",
     "output_type": "stream",
     "text": [
      "INFO:geometry:total reduced energy added from growth system: -28.91267863508959\n",
      "INFO:geometry:final reduced energy -19.79620806597778\n",
      "INFO:geometry:sum of energies: -19.796208296865036\n",
      "INFO:geometry:magnitude of difference in the energies: 2.3088725598086057e-07\n",
      "INFO:geometry:Final logp_proposal: 53.933467977712304\n"
     ]
    },
    {
     "name": "stdout",
     "output_type": "stream",
     "text": [
      "added energy components: [('CustomBondForce', 2.629060952709372), ('CustomAngleForce', 11.104123468681829), ('CustomTorsionForce', 17.963998456281995), ('CustomBondForce', -60.60986151276282)]\n"
     ]
    },
    {
     "name": "stderr",
     "output_type": "stream",
     "text": [
      "INFO:geometry:logp_reverse: performing reverse proposal\n",
      "INFO:geometry:logp_reverse: unique new atoms detected; proceeding to _logp_propose...\n",
      "INFO:geometry:Conducting forward proposal...\n",
      "INFO:geometry:Computing proposal order with NetworkX...\n",
      "INFO:geometry:number of atoms to be placed: 4\n",
      "INFO:geometry:Atom index proposal order is [10, 13, 12, 11]\n",
      "INFO:geometry:omitted_bonds: []\n",
      "INFO:geometry:direction of proposal is reverse; creating atoms_with_positions from old system/topology\n",
      "INFO:geometry:creating growth system...\n",
      "INFO:geometry:\tcreating bond force...\n",
      "INFO:geometry:\tthere are 9 bonds in reference force.\n",
      "INFO:geometry:\tcreating angle force...\n",
      "INFO:geometry:\tthere are 36 angles in reference force.\n",
      "INFO:geometry:\tcreating torsion force...\n",
      "INFO:geometry:\tcreating extra torsions force...\n",
      "INFO:geometry:\tthere are 42 torsions in reference force.\n",
      "INFO:geometry:\tcreating nonbonded force...\n",
      "INFO:geometry:\t\tgrabbing reference nonbonded method, cutoff, switching function, switching distance...\n",
      "INFO:geometry:\t\tcreating nonbonded exception force (i.e. custom bond for 1,4s)...\n",
      "INFO:geometry:\t\tlooping through exceptions calculating growth indices, and adding appropriate interactions to custom bond force.\n",
      "INFO:geometry:\t\tthere are 98 in the reference Nonbonded force\n",
      "WARNING:geometry:\t\t\t\t\tchiral atom <Atom 8 (CA) of chain 0 residue 1 (ALA)> with neighbors [<Atom 9 (HA) of chain 0 residue 1 (ALA)>, <Atom 10 (CB) of chain 0 residue 1 (ALA)>, <Atom 14 (C) of chain 0 residue 1 (ALA)>, <Atom 6 (N) of chain 0 residue 1 (ALA)>] is surrounded by 3 core neighbors.  omitting chirality bias torsion\n",
      "INFO:geometry:Neglected angle terms : []\n",
      "INFO:geometry:omitted_growth_terms: {'bonds': [], 'angles': [], 'torsions': [], '1,4s': []}\n",
      "INFO:geometry:extra torsions: {0: (7, 6, 8, 10, [1, Quantity(value=0.9799661941737812, unit=radian), Quantity(value=1200.0, unit=kilocalorie/mole), 1]), 1: (6, 8, 10, 11, [1, Quantity(value=2.105358864604291, unit=radian), Quantity(value=1200.0, unit=kilocalorie/mole), 4]), 2: (6, 8, 10, 12, [1, Quantity(value=-2.0823006129211796, unit=radian), Quantity(value=1200.0, unit=kilocalorie/mole), 3]), 3: (6, 8, 10, 13, [1, Quantity(value=0.018582237407944735, unit=radian), Quantity(value=1200.0, unit=kilocalorie/mole), 2]), 4: (14, 8, 10, 11, [1, Quantity(value=-0.036945135932107576, unit=radian), Quantity(value=1200.0, unit=kilocalorie/mole), 4]), 5: (14, 8, 10, 12, [1, Quantity(value=2.0585806937220097, unit=radian), Quantity(value=1200.0, unit=kilocalorie/mole), 3]), 6: (14, 8, 10, 13, [1, Quantity(value=-2.1237217631284597, unit=radian), Quantity(value=1200.0, unit=kilocalorie/mole), 2]), 7: (9, 8, 10, 11, [1, Quantity(value=-2.119603470065817, unit=radian), Quantity(value=1200.0, unit=kilocalorie/mole), 4]), 8: (9, 8, 10, 12, [1, Quantity(value=-0.024077640411697132, unit=radian), Quantity(value=1200.0, unit=kilocalorie/mole), 3]), 9: (9, 8, 10, 13, [1, Quantity(value=2.0768052099174152, unit=radian), Quantity(value=1200.0, unit=kilocalorie/mole), 2])}\n",
      "INFO:geometry:neglected angle terms include []\n",
      "INFO:geometry:log probability choice of torsions and atom order: -5.78074351579233\n",
      "INFO:geometry:creating platform, integrators, and contexts; setting growth parameter\n"
     ]
    },
    {
     "name": "stdout",
     "output_type": "stream",
     "text": [
      "conducting subsequent work with the following platform: CUDA\n"
     ]
    },
    {
     "name": "stderr",
     "output_type": "stream",
     "text": [
      "INFO:geometry:setting atoms_with_positions context old positions\n"
     ]
    },
    {
     "name": "stdout",
     "output_type": "stream",
     "text": [
      "conducting subsequent work with the following platform: CUDA\n"
     ]
    },
    {
     "name": "stderr",
     "output_type": "stream",
     "text": [
      "INFO:geometry:There are 4 new atoms\n",
      "INFO:geometry:\treduced angle potential = 0.3517320112693091.\n",
      "INFO:geometry:\treduced angle potential = 7.390951941228323e-11.\n",
      "INFO:geometry:\treduced angle potential = 3.205828647416432e-13.\n",
      "INFO:geometry:\treduced angle potential = 1.2915573155343707e-10.\n",
      "INFO:geometry:\tbeginning construction of no_nonbonded final system...\n",
      "INFO:geometry:\tinitial no-nonbonded final system forces ['HarmonicBondForce', 'HarmonicAngleForce', 'PeriodicTorsionForce', 'NonbondedForce']\n",
      "INFO:geometry:\tfinal no-nonbonded final system forces dict_keys(['HarmonicBondForce', 'HarmonicAngleForce', 'PeriodicTorsionForce', 'NonbondedForce'])\n",
      "INFO:geometry:\tthere are 9 bond forces in the no-nonbonded final system\n",
      "INFO:geometry:\tthere are 36 angle forces in the no-nonbonded final system\n",
      "INFO:geometry:\tthere are 42 torsion forces in the no-nonbonded final system\n",
      "INFO:geometry:reverse final system defined with 0 neglected angles.\n"
     ]
    },
    {
     "name": "stdout",
     "output_type": "stream",
     "text": [
      "conducting subsequent work with the following platform: CUDA\n",
      "conducting subsequent work with the following platform: CUDA\n"
     ]
    },
    {
     "name": "stderr",
     "output_type": "stream",
     "text": [
      "INFO:geometry:total reduced potential before atom placement: 9.116470338224556\n"
     ]
    },
    {
     "name": "stdout",
     "output_type": "stream",
     "text": [
      "conducting subsequent work with the following platform: CUDA\n",
      "conducting subsequent work with the following platform: CUDA\n",
      "conducting subsequent work with the following platform: CUDA\n"
     ]
    },
    {
     "name": "stderr",
     "output_type": "stream",
     "text": [
      "INFO:geometry:total reduced energy added from growth system: 20.67296217359934\n",
      "INFO:geometry:final reduced energy 29.789432654951565\n",
      "INFO:geometry:sum of energies: 29.789432511823897\n",
      "INFO:geometry:magnitude of difference in the energies: 1.431276679397797e-07\n",
      "INFO:geometry:Final logp_proposal: -27051.159128315878\n"
     ]
    },
    {
     "name": "stdout",
     "output_type": "stream",
     "text": [
      "added energy components: [('CustomBondForce', 0.000520203310858755), ('CustomAngleForce', 0.4511192410252491), ('CustomTorsionForce', 7.250454736370486), ('CustomBondForce', 12.970867992892748)]\n"
     ]
    },
    {
     "name": "stderr",
     "output_type": "stream",
     "text": [
      "INFO:relative:*** Generating vanilla HybridTopologyFactory ***\n",
      "INFO:relative:Beginning nonbonded method, total particle, barostat, and exceptions retrieval...\n",
      "INFO:relative:Flattening torsions of unique new/old at lambda = 0/1\n",
      "INFO:relative:Flattening exceptions of unique new/old at lambda = 0/1\n",
      "INFO:relative:Old system forces: dict_keys(['HarmonicBondForce', 'HarmonicAngleForce', 'PeriodicTorsionForce', 'NonbondedForce'])\n",
      "INFO:relative:New system forces: dict_keys(['HarmonicBondForce', 'HarmonicAngleForce', 'PeriodicTorsionForce', 'NonbondedForce'])\n",
      "INFO:relative:No unknown forces.\n",
      "INFO:relative:Nonbonded method to be used (i.e. from old system): 0\n",
      "INFO:relative:Adding and mapping old atoms to hybrid system...\n",
      "INFO:relative:Adding and mapping new atoms to hybrid system...\n",
      "INFO:relative:No MonteCarloBarostat added.\n",
      "INFO:relative:getDefaultPeriodicBoxVectors added to hybrid: [Quantity(value=Vec3(x=2.0, y=0.0, z=0.0), unit=nanometer), Quantity(value=Vec3(x=0.0, y=2.0, z=0.0), unit=nanometer), Quantity(value=Vec3(x=0.0, y=0.0, z=2.0), unit=nanometer)]\n",
      "INFO:relative:Determined atom classes.\n",
      "INFO:relative:Generating old system exceptions dict...\n",
      "INFO:relative:Generating new system exceptions dict...\n",
      "INFO:relative:Handling constraints...\n",
      "INFO:relative:Handling virtual sites...\n",
      "INFO:relative:\t_handle_virtual_sites: numVirtualSites: 0\n",
      "INFO:relative:Adding bond force terms...\n",
      "INFO:relative:Adding angle force terms...\n",
      "INFO:relative:Adding torsion force terms...\n",
      "INFO:relative:Adding nonbonded force terms...\n",
      "INFO:relative:\t_add_nonbonded_force_terms: <simtk.openmm.openmm.NonbondedForce; proxy of <Swig Object of type 'OpenMM::NonbondedForce *' at 0x2ac24e9c09c0> > added to hybrid system\n",
      "INFO:relative:\t_add_nonbonded_force_terms: nonbonded_method is NoCutoff\n",
      "INFO:relative:\t_add_nonbonded_force_terms: 0 added to standard nonbonded force\n",
      "INFO:relative:\t_add_nonbonded_force_terms: 0 added to sterics_custom_nonbonded force\n",
      "INFO:relative:\t_add_nonbonded_force_terms: <simtk.openmm.openmm.CustomNonbondedForce; proxy of <Swig Object of type 'OpenMM::CustomNonbondedForce *' at 0x2ac24dc020f0> > added to hybrid system\n",
      "INFO:relative:Handling harmonic bonds...\n",
      "INFO:relative:\thandle_harmonic_bonds: looping through old_system to add relevant terms...\n",
      "INFO:relative:\thandle_harmonic_bonds: looping through new_system to add relevant terms...\n",
      "INFO:relative:Handling harmonic angles...\n",
      "INFO:relative:\thandle_harmonic_angles: looping through old_system to add relevant terms...\n",
      "INFO:relative:\thandle_harmonic_angles: looping through new_system to add relevant terms...\n",
      "INFO:relative:Handling torsion forces...\n",
      "INFO:relative:\thandle_periodic_torsion_forces: looping through old_system to add relevant terms...\n",
      "INFO:relative:\thandle_periodic_torsion_forces: looping through new_system to add relevant terms...\n",
      "INFO:relative:Handling nonbonded forces...\n",
      "INFO:relative:\thandle_nonbonded: looping through all particles in hybrid...\n",
      "INFO:relative:\thandle_nonbonded: Handling Interaction Groups...\n",
      "INFO:relative:\thandle_nonbonded: Handling Hybrid Exceptions...\n",
      "INFO:relative:\thandle_nonbonded: Handling Original Exceptions...\n",
      "INFO:relative:Handling unique_new/old interaction exceptions...\n",
      "INFO:relative:There are old or new system exceptions...proceeding.\n"
     ]
    }
   ],
   "source": [
    "htf = generate_dipeptide_top_pos_sys(atp.topology, \n",
    "                                         new_res='THR', \n",
    "                                         system=atp.system, \n",
    "                                         positions=atp.positions,\n",
    "                                         system_generator=sys_gen, \n",
    "                                         conduct_htf_prop=True,\n",
    "                                         flatten_torsions=True,\n",
    "                                         flatten_exceptions=True,\n",
    "                                         validate_endstate_energy=False)"
   ]
  },
  {
   "cell_type": "code",
   "execution_count": 14,
   "metadata": {},
   "outputs": [],
   "source": [
    "out_dir = '/data/chodera/zhangi/perses_benchmark/neq/11/19/'\n",
    "pickle.dump(htf, open(os.path.join(out_dir, \"19_vacuum.pickle\"), \"wb\" ))\n"
   ]
  },
  {
   "cell_type": "markdown",
   "metadata": {},
   "source": [
    "# ALA->THR solvent"
   ]
  },
  {
   "cell_type": "code",
   "execution_count": 5,
   "metadata": {},
   "outputs": [],
   "source": [
    "from perses.tests.test_topology_proposal import generate_atp, generate_dipeptide_top_pos_sys\n",
    "from simtk import openmm, unit\n",
    "from simtk.openmm import app\n",
    "from openmmforcefields.generators import SystemGenerator\n",
    "import numpy as np\n",
    "import pickle\n",
    "import os"
   ]
  },
  {
   "cell_type": "code",
   "execution_count": 6,
   "metadata": {},
   "outputs": [],
   "source": [
    "# Set up logger\n",
    "import logging\n",
    "_logger = logging.getLogger()\n",
    "_logger.setLevel(logging.INFO)"
   ]
  },
  {
   "cell_type": "code",
   "execution_count": 7,
   "metadata": {},
   "outputs": [],
   "source": [
    "atp, sys_gen = generate_atp(phase='solvent')"
   ]
  },
  {
   "cell_type": "code",
   "execution_count": 8,
   "metadata": {
    "scrolled": true
   },
   "outputs": [
    {
     "name": "stderr",
     "output_type": "stream",
     "text": [
      "INFO:proposal_generator:\tConducting polymer point mutation proposal...\n",
      "INFO:proposal_generator:Using matching_criterion to chose best atom map\n",
      "INFO:proposal_generator:Scaffold has symmetry of 0\n",
      "WARNING:proposal_generator:Two molecules are not similar to have a common scaffold\n",
      "WARNING:proposal_generator:Proceeding with direct mapping of molecules, but please check atom mapping and the geometry of the ligands.\n",
      "INFO:proposal_generator:len [{9: 7}, {10: 7}, {11: 7}, {12: 7}, {13: 7}, {9: 8}, {10: 8}, {11: 8}, {12: 8}, {13: 8}, {9: 9}, {10: 9}, {11: 9}, {12: 9}, {13: 9}]\n",
      "INFO:proposal_generator:{9: 7}\n",
      "INFO:proposal_generator:{10: 7}\n",
      "INFO:proposal_generator:{11: 7}\n",
      "INFO:proposal_generator:{12: 7}\n",
      "INFO:proposal_generator:{13: 7}\n",
      "INFO:proposal_generator:{9: 8}\n",
      "INFO:proposal_generator:{10: 8}\n",
      "INFO:proposal_generator:{11: 8}\n",
      "INFO:proposal_generator:{12: 8}\n"
     ]
    },
    {
     "name": "stdout",
     "output_type": "stream",
     "text": [
      "making topology proposal\n"
     ]
    },
    {
     "name": "stderr",
     "output_type": "stream",
     "text": [
      "INFO:proposal_generator:{13: 8}\n",
      "INFO:proposal_generator:{9: 9}\n",
      "INFO:proposal_generator:{10: 9}\n",
      "INFO:proposal_generator:{11: 9}\n",
      "INFO:proposal_generator:{12: 9}\n",
      "INFO:proposal_generator:{13: 9}\n",
      "INFO:proposal_generator:Returning map that best satisfies matching_criterion\n",
      "INFO:proposal_generator:Finding best map using matching_criterion name\n",
      "INFO:proposal_generator:{9: 7}\n",
      "INFO:geometry:propose: performing forward proposal\n",
      "INFO:geometry:propose: unique new atoms detected; proceeding to _logp_propose...\n",
      "INFO:geometry:Conducting forward proposal...\n",
      "INFO:geometry:Computing proposal order with NetworkX...\n",
      "INFO:geometry:number of atoms to be placed: 8\n",
      "INFO:geometry:Atom index proposal order is [10, 14, 18, 15, 13, 16, 19, 17]\n",
      "INFO:geometry:omitted_bonds: []\n",
      "INFO:geometry:direction of proposal is forward; creating atoms_with_positions and new positions from old system/topology...\n"
     ]
    },
    {
     "name": "stdout",
     "output_type": "stream",
     "text": [
      "generating geometry engine\n",
      "making geometry proposal from ALA to THR\n"
     ]
    },
    {
     "name": "stderr",
     "output_type": "stream",
     "text": [
      "INFO:geometry:creating growth system...\n",
      "INFO:geometry:\tcreating bond force...\n",
      "INFO:geometry:\tthere are 11 bonds in reference force.\n",
      "INFO:geometry:\tcreating angle force...\n",
      "INFO:geometry:\tthere are 43 angles in reference force.\n",
      "INFO:geometry:\tcreating torsion force...\n",
      "INFO:geometry:\tcreating extra torsions force...\n",
      "INFO:geometry:\tthere are 72 torsions in reference force.\n",
      "INFO:geometry:\tcreating nonbonded force...\n",
      "INFO:geometry:\t\tgrabbing reference nonbonded method, cutoff, switching function, switching distance...\n",
      "INFO:geometry:\t\tcreating nonbonded exception force (i.e. custom bond for 1,4s)...\n",
      "INFO:geometry:\t\tlooping through exceptions calculating growth indices, and adding appropriate interactions to custom bond force.\n",
      "INFO:geometry:\t\tthere are 1654 in the reference Nonbonded force\n",
      "WARNING:geometry:\t\t\t\t\tchiral atom <Atom 8 (CA) of chain 0 residue 1 (THR)> with neighbors [<Atom 9 (HA) of chain 0 residue 1 (THR)>, <Atom 10 (CB) of chain 0 residue 1 (THR)>, <Atom 11 (C) of chain 0 residue 1 (THR)>, <Atom 6 (N) of chain 0 residue 1 (THR)>] is surrounded by 3 core neighbors.  omitting chirality bias torsion\n",
      "INFO:geometry:Neglected angle terms : []\n",
      "INFO:geometry:omitted_growth_terms: {'bonds': [], 'angles': [], 'torsions': [], '1,4s': []}\n",
      "INFO:geometry:extra torsions: {0: (7, 6, 8, 10, [1, Quantity(value=0.9900002084555819, unit=radian), Quantity(value=1200.0, unit=kilocalorie/mole), 1]), 1: (19, 18, 10, 8, [1, Quantity(value=-0.07858019216845058, unit=radian), Quantity(value=1200.0, unit=kilocalorie/mole), 7]), 2: (19, 18, 10, 14, [1, Quantity(value=2.118586571250296, unit=radian), Quantity(value=1200.0, unit=kilocalorie/mole), 7]), 3: (19, 18, 10, 13, [1, Quantity(value=-2.149781203448759, unit=radian), Quantity(value=1200.0, unit=kilocalorie/mole), 7]), 4: (8, 10, 14, 17, [1, Quantity(value=-2.1249532223845904, unit=radian), Quantity(value=1200.0, unit=kilocalorie/mole), 8]), 5: (8, 10, 14, 16, [1, Quantity(value=2.0543043017157916, unit=radian), Quantity(value=1200.0, unit=kilocalorie/mole), 6]), 6: (8, 10, 14, 15, [1, Quantity(value=-0.02223392579985184, unit=radian), Quantity(value=1200.0, unit=kilocalorie/mole), 4]), 7: (18, 10, 14, 17, [1, Quantity(value=2.0255587336734213, unit=radian), Quantity(value=1200.0, unit=kilocalorie/mole), 8]), 8: (18, 10, 14, 16, [1, Quantity(value=-0.07836904940578293, unit=radian), Quantity(value=1200.0, unit=kilocalorie/mole), 6]), 9: (18, 10, 14, 15, [1, Quantity(value=-2.154907276921426, unit=radian), Quantity(value=1200.0, unit=kilocalorie/mole), 4]), 10: (13, 10, 14, 17, [1, Quantity(value=0.007583009583349565, unit=radian), Quantity(value=1200.0, unit=kilocalorie/mole), 8]), 11: (13, 10, 14, 16, [1, Quantity(value=-2.096344773495849, unit=radian), Quantity(value=1200.0, unit=kilocalorie/mole), 6]), 12: (13, 10, 14, 15, [1, Quantity(value=2.1103023061680943, unit=radian), Quantity(value=1200.0, unit=kilocalorie/mole), 5]), 13: (14, 10, 8, 18, [1, Quantity(value=1.0655064807976995, unit=radian), Quantity(value=1200.0, unit=kilocalorie/mole), 3])}\n",
      "INFO:geometry:neglected angle terms include []\n",
      "INFO:geometry:log probability choice of torsions and atom order: -13.371595639480912\n",
      "INFO:geometry:creating platform, integrators, and contexts; setting growth parameter\n"
     ]
    },
    {
     "name": "stdout",
     "output_type": "stream",
     "text": [
      "conducting subsequent work with the following platform: CUDA\n"
     ]
    },
    {
     "name": "stderr",
     "output_type": "stream",
     "text": [
      "INFO:geometry:setting atoms_with_positions context new positions\n"
     ]
    },
    {
     "name": "stdout",
     "output_type": "stream",
     "text": [
      "conducting subsequent work with the following platform: CUDA\n"
     ]
    },
    {
     "name": "stderr",
     "output_type": "stream",
     "text": [
      "INFO:geometry:There are 8 new atoms\n",
      "INFO:geometry:\treduced angle potential = 0.1467050336410535.\n",
      "INFO:geometry:\treduced angle potential = 0.00018125811991821927.\n",
      "INFO:geometry:\treduced angle potential = 0.3363794758183083.\n",
      "INFO:geometry:\treduced angle potential = 0.022337013042446965.\n",
      "INFO:geometry:\treduced angle potential = 0.15317768015710434.\n",
      "INFO:geometry:\treduced angle potential = 0.01016167287805769.\n",
      "INFO:geometry:\treduced angle potential = 0.0236843581987635.\n",
      "INFO:geometry:\treduced angle potential = 0.3877386776121432.\n",
      "INFO:geometry:\tbeginning construction of no_nonbonded final system...\n",
      "INFO:geometry:\tinitial no-nonbonded final system forces ['HarmonicBondForce', 'HarmonicAngleForce', 'PeriodicTorsionForce', 'NonbondedForce', 'MonteCarloBarostat']\n",
      "INFO:geometry:\tfinal no-nonbonded final system forces dict_keys(['HarmonicBondForce', 'HarmonicAngleForce', 'PeriodicTorsionForce', 'NonbondedForce'])\n",
      "INFO:geometry:\tthere are 11 bond forces in the no-nonbonded final system\n",
      "INFO:geometry:\tthere are 43 angle forces in the no-nonbonded final system\n",
      "INFO:geometry:\tthere are 72 torsion forces in the no-nonbonded final system\n",
      "INFO:geometry:forward final system defined with 0 neglected angles.\n"
     ]
    },
    {
     "name": "stdout",
     "output_type": "stream",
     "text": [
      "conducting subsequent work with the following platform: CUDA\n",
      "conducting subsequent work with the following platform: CUDA\n"
     ]
    },
    {
     "name": "stderr",
     "output_type": "stream",
     "text": [
      "INFO:geometry:total reduced potential before atom placement: 9.116470338224556\n"
     ]
    },
    {
     "name": "stdout",
     "output_type": "stream",
     "text": [
      "conducting subsequent work with the following platform: CUDA\n",
      "conducting subsequent work with the following platform: CUDA\n",
      "conducting subsequent work with the following platform: CUDA\n"
     ]
    },
    {
     "name": "stderr",
     "output_type": "stream",
     "text": [
      "INFO:geometry:total reduced energy added from growth system: -53.31019939471642\n",
      "INFO:geometry:final reduced energy -44.19373002561551\n",
      "INFO:geometry:sum of energies: -44.19372905649186\n",
      "INFO:geometry:magnitude of difference in the energies: 9.691236471098819e-07\n",
      "INFO:geometry:Final logp_proposal: 63.79346147127102\n"
     ]
    },
    {
     "name": "stdout",
     "output_type": "stream",
     "text": [
      "added energy components: [('CustomBondForce', 0.16367172561833518), ('CustomAngleForce', 2.523121408505906), ('CustomTorsionForce', 19.604744934538683), ('CustomBondForce', -75.60173746337935)]\n"
     ]
    },
    {
     "name": "stderr",
     "output_type": "stream",
     "text": [
      "INFO:geometry:logp_reverse: performing reverse proposal\n",
      "INFO:geometry:logp_reverse: unique new atoms detected; proceeding to _logp_propose...\n",
      "INFO:geometry:Conducting forward proposal...\n",
      "INFO:geometry:Computing proposal order with NetworkX...\n",
      "INFO:geometry:number of atoms to be placed: 4\n",
      "INFO:geometry:Atom index proposal order is [10, 12, 13, 11]\n",
      "INFO:geometry:omitted_bonds: []\n",
      "INFO:geometry:direction of proposal is reverse; creating atoms_with_positions from old system/topology\n",
      "INFO:geometry:creating growth system...\n",
      "INFO:geometry:\tcreating bond force...\n",
      "INFO:geometry:\tthere are 9 bonds in reference force.\n",
      "INFO:geometry:\tcreating angle force...\n",
      "INFO:geometry:\tthere are 36 angles in reference force.\n",
      "INFO:geometry:\tcreating torsion force...\n",
      "INFO:geometry:\tcreating extra torsions force...\n",
      "INFO:geometry:\tthere are 42 torsions in reference force.\n",
      "INFO:geometry:\tcreating nonbonded force...\n",
      "INFO:geometry:\t\tgrabbing reference nonbonded method, cutoff, switching function, switching distance...\n",
      "INFO:geometry:\t\tcreating nonbonded exception force (i.e. custom bond for 1,4s)...\n",
      "INFO:geometry:\t\tlooping through exceptions calculating growth indices, and adding appropriate interactions to custom bond force.\n",
      "INFO:geometry:\t\tthere are 1631 in the reference Nonbonded force\n",
      "WARNING:geometry:\t\t\t\t\tchiral atom <Atom 8 (CA) of chain 0 residue 1 (ALA)> with neighbors [<Atom 9 (HA) of chain 0 residue 1 (ALA)>, <Atom 10 (CB) of chain 0 residue 1 (ALA)>, <Atom 14 (C) of chain 0 residue 1 (ALA)>, <Atom 6 (N) of chain 0 residue 1 (ALA)>] is surrounded by 3 core neighbors.  omitting chirality bias torsion\n",
      "INFO:geometry:Neglected angle terms : []\n",
      "INFO:geometry:omitted_growth_terms: {'bonds': [], 'angles': [], 'torsions': [], '1,4s': []}\n",
      "INFO:geometry:extra torsions: {0: (7, 6, 8, 10, [1, Quantity(value=0.9799661941737812, unit=radian), Quantity(value=1200.0, unit=kilocalorie/mole), 1]), 1: (6, 8, 10, 11, [1, Quantity(value=2.105358864604291, unit=radian), Quantity(value=1200.0, unit=kilocalorie/mole), 4]), 2: (6, 8, 10, 12, [1, Quantity(value=-2.0823006129211796, unit=radian), Quantity(value=1200.0, unit=kilocalorie/mole), 2]), 3: (6, 8, 10, 13, [1, Quantity(value=0.018582237407944735, unit=radian), Quantity(value=1200.0, unit=kilocalorie/mole), 3]), 4: (14, 8, 10, 11, [1, Quantity(value=-0.036945135932107576, unit=radian), Quantity(value=1200.0, unit=kilocalorie/mole), 4]), 5: (14, 8, 10, 12, [1, Quantity(value=2.0585806937220097, unit=radian), Quantity(value=1200.0, unit=kilocalorie/mole), 2]), 6: (14, 8, 10, 13, [1, Quantity(value=-2.1237217631284597, unit=radian), Quantity(value=1200.0, unit=kilocalorie/mole), 3]), 7: (9, 8, 10, 11, [1, Quantity(value=-2.119603470065817, unit=radian), Quantity(value=1200.0, unit=kilocalorie/mole), 4]), 8: (9, 8, 10, 12, [1, Quantity(value=-0.024077640411697132, unit=radian), Quantity(value=1200.0, unit=kilocalorie/mole), 2]), 9: (9, 8, 10, 13, [1, Quantity(value=2.0768052099174152, unit=radian), Quantity(value=1200.0, unit=kilocalorie/mole), 3])}\n",
      "INFO:geometry:neglected angle terms include []\n",
      "INFO:geometry:log probability choice of torsions and atom order: -5.78074351579233\n",
      "INFO:geometry:creating platform, integrators, and contexts; setting growth parameter\n"
     ]
    },
    {
     "name": "stdout",
     "output_type": "stream",
     "text": [
      "conducting subsequent work with the following platform: CUDA\n"
     ]
    },
    {
     "name": "stderr",
     "output_type": "stream",
     "text": [
      "INFO:geometry:setting atoms_with_positions context old positions\n"
     ]
    },
    {
     "name": "stdout",
     "output_type": "stream",
     "text": [
      "conducting subsequent work with the following platform: CUDA\n"
     ]
    },
    {
     "name": "stderr",
     "output_type": "stream",
     "text": [
      "INFO:geometry:There are 4 new atoms\n",
      "INFO:geometry:\treduced angle potential = 0.3517320112693091.\n",
      "INFO:geometry:\treduced angle potential = 3.205828647416432e-13.\n",
      "INFO:geometry:\treduced angle potential = 7.390951941228323e-11.\n",
      "INFO:geometry:\treduced angle potential = 1.2915573155343707e-10.\n",
      "INFO:geometry:\tbeginning construction of no_nonbonded final system...\n",
      "INFO:geometry:\tinitial no-nonbonded final system forces ['HarmonicBondForce', 'HarmonicAngleForce', 'PeriodicTorsionForce', 'NonbondedForce', 'MonteCarloBarostat']\n",
      "INFO:geometry:\tfinal no-nonbonded final system forces dict_keys(['HarmonicBondForce', 'HarmonicAngleForce', 'PeriodicTorsionForce', 'NonbondedForce'])\n",
      "INFO:geometry:\tthere are 9 bond forces in the no-nonbonded final system\n",
      "INFO:geometry:\tthere are 36 angle forces in the no-nonbonded final system\n",
      "INFO:geometry:\tthere are 42 torsion forces in the no-nonbonded final system\n",
      "INFO:geometry:reverse final system defined with 0 neglected angles.\n"
     ]
    },
    {
     "name": "stdout",
     "output_type": "stream",
     "text": [
      "conducting subsequent work with the following platform: CUDA\n",
      "conducting subsequent work with the following platform: CUDA\n"
     ]
    },
    {
     "name": "stderr",
     "output_type": "stream",
     "text": [
      "INFO:geometry:total reduced potential before atom placement: 9.116470338224556\n"
     ]
    },
    {
     "name": "stdout",
     "output_type": "stream",
     "text": [
      "conducting subsequent work with the following platform: CUDA\n",
      "conducting subsequent work with the following platform: CUDA\n",
      "conducting subsequent work with the following platform: CUDA\n"
     ]
    },
    {
     "name": "stderr",
     "output_type": "stream",
     "text": [
      "INFO:geometry:total reduced energy added from growth system: 20.67296217359934\n",
      "INFO:geometry:final reduced energy 29.789432654951586\n",
      "INFO:geometry:sum of energies: 29.789432511823897\n",
      "INFO:geometry:magnitude of difference in the energies: 1.4312768925606179e-07\n",
      "INFO:geometry:Final logp_proposal: -26895.47428522036\n"
     ]
    },
    {
     "name": "stdout",
     "output_type": "stream",
     "text": [
      "added energy components: [('CustomBondForce', 0.000520203310858755), ('CustomAngleForce', 0.4511192410252491), ('CustomTorsionForce', 7.250454736370486), ('CustomBondForce', 12.970867992892748)]\n"
     ]
    },
    {
     "name": "stderr",
     "output_type": "stream",
     "text": [
      "INFO:relative:*** Generating vanilla HybridTopologyFactory ***\n",
      "INFO:relative:Beginning nonbonded method, total particle, barostat, and exceptions retrieval...\n",
      "INFO:relative:Flattening torsions of unique new/old at lambda = 0/1\n",
      "INFO:relative:Flattening exceptions of unique new/old at lambda = 0/1\n",
      "INFO:relative:Old system forces: dict_keys(['HarmonicBondForce', 'HarmonicAngleForce', 'PeriodicTorsionForce', 'NonbondedForce', 'MonteCarloBarostat'])\n",
      "INFO:relative:New system forces: dict_keys(['HarmonicBondForce', 'HarmonicAngleForce', 'PeriodicTorsionForce', 'NonbondedForce', 'MonteCarloBarostat'])\n",
      "INFO:relative:No unknown forces.\n",
      "INFO:relative:Nonbonded method to be used (i.e. from old system): 4\n",
      "INFO:relative:Adding and mapping old atoms to hybrid system...\n",
      "INFO:relative:Adding and mapping new atoms to hybrid system...\n",
      "INFO:relative:Added MonteCarloBarostat.\n",
      "INFO:relative:getDefaultPeriodicBoxVectors added to hybrid: [Quantity(value=Vec3(x=2.56477354, y=0.0, z=0.0), unit=nanometer), Quantity(value=Vec3(x=0.0, y=2.56477354, z=0.0), unit=nanometer), Quantity(value=Vec3(x=0.0, y=0.0, z=2.56477354), unit=nanometer)]\n",
      "INFO:relative:Determined atom classes.\n",
      "INFO:relative:Generating old system exceptions dict...\n",
      "INFO:relative:Generating new system exceptions dict...\n",
      "INFO:relative:Handling constraints...\n",
      "INFO:relative:Handling virtual sites...\n",
      "INFO:relative:\t_handle_virtual_sites: numVirtualSites: 0\n",
      "INFO:relative:Adding bond force terms...\n",
      "INFO:relative:Adding angle force terms...\n",
      "INFO:relative:Adding torsion force terms...\n",
      "INFO:relative:Adding nonbonded force terms...\n",
      "INFO:relative:\t_add_nonbonded_force_terms: <simtk.openmm.openmm.NonbondedForce; proxy of <Swig Object of type 'OpenMM::NonbondedForce *' at 0x2ac24f9badb0> > added to hybrid system\n",
      "INFO:relative:\t_add_nonbonded_force_terms: nonbonded_method is PME or Ewald\n",
      "INFO:relative:\t_add_nonbonded_force_terms: 4 added to standard nonbonded force\n",
      "INFO:relative:\t_add_nonbonded_force_terms: 2 added to sterics_custom_nonbonded force\n",
      "INFO:relative:\t_add_nonbonded_force_terms: <simtk.openmm.openmm.CustomNonbondedForce; proxy of <Swig Object of type 'OpenMM::CustomNonbondedForce *' at 0x2ac24f9bacf0> > added to hybrid system\n",
      "INFO:relative:Handling harmonic bonds...\n",
      "INFO:relative:\thandle_harmonic_bonds: looping through old_system to add relevant terms...\n",
      "INFO:relative:\thandle_harmonic_bonds: looping through new_system to add relevant terms...\n",
      "INFO:relative:Handling harmonic angles...\n",
      "INFO:relative:\thandle_harmonic_angles: looping through old_system to add relevant terms...\n",
      "INFO:relative:\thandle_harmonic_angles: looping through new_system to add relevant terms...\n",
      "INFO:relative:Handling torsion forces...\n",
      "INFO:relative:\thandle_periodic_torsion_forces: looping through old_system to add relevant terms...\n",
      "INFO:relative:\thandle_periodic_torsion_forces: looping through new_system to add relevant terms...\n",
      "INFO:relative:Handling nonbonded forces...\n",
      "INFO:relative:\thandle_nonbonded: looping through all particles in hybrid...\n",
      "INFO:relative:\thandle_nonbonded: Handling Interaction Groups...\n",
      "INFO:relative:\thandle_nonbonded: Handling Hybrid Exceptions...\n",
      "INFO:relative:\thandle_nonbonded: Handling Original Exceptions...\n",
      "INFO:relative:Handling unique_new/old interaction exceptions...\n",
      "INFO:relative:There are old or new system exceptions...proceeding.\n"
     ]
    }
   ],
   "source": [
    "htf = generate_dipeptide_top_pos_sys(atp.topology, \n",
    "                                         new_res='THR', \n",
    "                                         system=atp.system, \n",
    "                                         positions=atp.positions,\n",
    "                                         system_generator=sys_gen, \n",
    "                                         conduct_htf_prop=True,\n",
    "                                         flatten_torsions=True,\n",
    "                                         flatten_exceptions=True,\n",
    "                                         validate_endstate_energy=False)"
   ]
  },
  {
   "cell_type": "code",
   "execution_count": 9,
   "metadata": {},
   "outputs": [],
   "source": [
    "out_dir = '/data/chodera/zhangi/perses_benchmark/neq/11/19/'\n",
    "pickle.dump(htf, open(os.path.join(out_dir, \"19_solvent.pickle\"), \"wb\" ))\n"
   ]
  },
  {
   "cell_type": "code",
   "execution_count": null,
   "metadata": {},
   "outputs": [],
   "source": []
  }
 ],
 "metadata": {
  "kernelspec": {
   "display_name": "Python 3",
   "language": "python",
   "name": "python3"
  },
  "language_info": {
   "codemirror_mode": {
    "name": "ipython",
    "version": 3
   },
   "file_extension": ".py",
   "mimetype": "text/x-python",
   "name": "python",
   "nbconvert_exporter": "python",
   "pygments_lexer": "ipython3",
   "version": "3.7.8"
  }
 },
 "nbformat": 4,
 "nbformat_minor": 4
}
