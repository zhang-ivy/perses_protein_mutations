{
 "cells": [
  {
   "cell_type": "markdown",
   "metadata": {},
   "source": [
    "here i attempt to write a REST2 factory for a canonical openmm.system (i.e. containing `HarmonicBondForce`, `HarmonicAngleForce`, `PeriodicTorsionForce`, `NonbondedForce`)"
   ]
  },
  {
   "cell_type": "code",
   "execution_count": 1,
   "metadata": {},
   "outputs": [],
   "source": [
    "from openmmtools.testsystems import AlanineDipeptideVacuum"
   ]
  },
  {
   "cell_type": "markdown",
   "metadata": {},
   "source": [
    "define a vacuum alanine dipeptide"
   ]
  },
  {
   "cell_type": "code",
   "execution_count": 2,
   "metadata": {},
   "outputs": [],
   "source": [
    "ala = AlanineDipeptideVacuum()\n",
    "sys = ala.system"
   ]
  },
  {
   "cell_type": "code",
   "execution_count": 3,
   "metadata": {},
   "outputs": [],
   "source": [
    "from perses.annihilation.rest import RESTTopologyFactory"
   ]
  },
  {
   "cell_type": "markdown",
   "metadata": {},
   "source": [
    "query the topology"
   ]
  },
  {
   "cell_type": "code",
   "execution_count": 4,
   "metadata": {
    "scrolled": true
   },
   "outputs": [
    {
     "name": "stdout",
     "output_type": "stream",
     "text": [
      "<Atom 0 (H1) of chain 0 residue 0 (ACE)>\n",
      "<Atom 1 (CH3) of chain 0 residue 0 (ACE)>\n",
      "<Atom 2 (H2) of chain 0 residue 0 (ACE)>\n",
      "<Atom 3 (H3) of chain 0 residue 0 (ACE)>\n",
      "<Atom 4 (C) of chain 0 residue 0 (ACE)>\n",
      "<Atom 5 (O) of chain 0 residue 0 (ACE)>\n",
      "<Atom 6 (N) of chain 0 residue 1 (ALA)>\n",
      "<Atom 7 (H) of chain 0 residue 1 (ALA)>\n",
      "<Atom 8 (CA) of chain 0 residue 1 (ALA)>\n",
      "<Atom 9 (HA) of chain 0 residue 1 (ALA)>\n",
      "<Atom 10 (CB) of chain 0 residue 1 (ALA)>\n",
      "<Atom 11 (HB1) of chain 0 residue 1 (ALA)>\n",
      "<Atom 12 (HB2) of chain 0 residue 1 (ALA)>\n",
      "<Atom 13 (HB3) of chain 0 residue 1 (ALA)>\n",
      "<Atom 14 (C) of chain 0 residue 1 (ALA)>\n",
      "<Atom 15 (O) of chain 0 residue 1 (ALA)>\n",
      "<Atom 16 (N) of chain 0 residue 2 (NME)>\n",
      "<Atom 17 (H) of chain 0 residue 2 (NME)>\n",
      "<Atom 18 (C) of chain 0 residue 2 (NME)>\n",
      "<Atom 19 (H1) of chain 0 residue 2 (NME)>\n",
      "<Atom 20 (H2) of chain 0 residue 2 (NME)>\n",
      "<Atom 21 (H3) of chain 0 residue 2 (NME)>\n"
     ]
    }
   ],
   "source": [
    "ala.topology\n",
    "for atom in ala.topology.atoms():\n",
    "    print(atom)"
   ]
  },
  {
   "cell_type": "markdown",
   "metadata": {},
   "source": [
    "I'll make the ALA residue 'solute' for REST2"
   ]
  },
  {
   "cell_type": "markdown",
   "metadata": {},
   "source": [
    "remove the `CMMForce`"
   ]
  },
  {
   "cell_type": "code",
   "execution_count": 5,
   "metadata": {},
   "outputs": [],
   "source": [
    "ala.system.removeForce(4)"
   ]
  },
  {
   "cell_type": "markdown",
   "metadata": {},
   "source": [
    "make the factory"
   ]
  },
  {
   "cell_type": "code",
   "execution_count": 6,
   "metadata": {},
   "outputs": [
    {
     "name": "stderr",
     "output_type": "stream",
     "text": [
      "INFO:REST:No MonteCarloBarostat added.\n",
      "INFO:REST:getDefaultPeriodicBoxVectors added to hybrid: [Quantity(value=Vec3(x=2.0, y=0.0, z=0.0), unit=nanometer), Quantity(value=Vec3(x=0.0, y=2.0, z=0.0), unit=nanometer), Quantity(value=Vec3(x=0.0, y=0.0, z=2.0), unit=nanometer)]\n",
      "INFO:REST:No unknown forces.\n"
     ]
    }
   ],
   "source": [
    "factory = RESTTopologyFactory(ala.system, solute_region=list(range(6, 16)))"
   ]
  },
  {
   "cell_type": "markdown",
   "metadata": {},
   "source": [
    "pull the system"
   ]
  },
  {
   "cell_type": "code",
   "execution_count": 7,
   "metadata": {},
   "outputs": [],
   "source": [
    "REST_system = factory.REST_system"
   ]
  },
  {
   "cell_type": "markdown",
   "metadata": {},
   "source": [
    "query the forces to make sure it _looks_ right"
   ]
  },
  {
   "cell_type": "code",
   "execution_count": 8,
   "metadata": {},
   "outputs": [
    {
     "data": {
      "text/plain": [
       "[<simtk.openmm.openmm.CustomBondForce; proxy of <Swig Object of type 'OpenMM::CustomBondForce *' at 0x2ba13fe34cf0> >,\n",
       " <simtk.openmm.openmm.CustomAngleForce; proxy of <Swig Object of type 'OpenMM::CustomAngleForce *' at 0x2ba13fe34ae0> >,\n",
       " <simtk.openmm.openmm.CustomTorsionForce; proxy of <Swig Object of type 'OpenMM::CustomTorsionForce *' at 0x2ba13fe34060> >,\n",
       " <simtk.openmm.openmm.NonbondedForce; proxy of <Swig Object of type 'OpenMM::NonbondedForce *' at 0x2ba174fa5300> >,\n",
       " <simtk.openmm.openmm.CustomNonbondedForce; proxy of <Swig Object of type 'OpenMM::CustomNonbondedForce *' at 0x2ba174fbdbd0> >,\n",
       " <simtk.openmm.openmm.CustomBondForce; proxy of <Swig Object of type 'OpenMM::CustomBondForce *' at 0x2ba174fbdc30> >]"
      ]
     },
     "execution_count": 8,
     "metadata": {},
     "output_type": "execute_result"
    }
   ],
   "source": [
    "REST_system.getForces()"
   ]
  },
  {
   "cell_type": "markdown",
   "metadata": {},
   "source": [
    "all of the nonbonded forces must have the same number of particles"
   ]
  },
  {
   "cell_type": "code",
   "execution_count": 9,
   "metadata": {},
   "outputs": [],
   "source": [
    "num_particles = REST_system.getNumParticles()\n",
    "assert num_particles == factory._out_system_forces['CustomNonbondedForce'].getNumParticles()\n",
    "assert num_particles == factory._out_system_forces['NonbondedForce'].getNumParticles()"
   ]
  },
  {
   "cell_type": "markdown",
   "metadata": {},
   "source": [
    "## TODO:\n",
    "\n",
    "here is a few things that have to be done...\n",
    "\n",
    "- Given the default Global variables, do energy component bookkeeping with the REST system and the original system. Specifically, the first `CustomBondForce` must match the `HarmonicBondForce` (same with the second and third forces with the `HarmonicAngle` and `PeriodicTorsionForce`s). The sum of the `NonbondedForce`, the `CustomNonbondedForce`, and the `CustomBondForce` (last one) must be equal to the energy of the original system's `NonbondedForce`.\n",
    "\n",
    "- Create a subclass of the `AlchemicalState` to implement the appropriate parameters for `solute_scale` and `inter_scale` (which are `GlobalParameters` of the `REST_system`) and perform Repex.\n",
    "\n",
    "- Run REST2!"
   ]
  },
  {
   "cell_type": "markdown",
   "metadata": {},
   "source": [
    "## Run energy component bookkeeping"
   ]
  },
  {
   "cell_type": "code",
   "execution_count": 12,
   "metadata": {},
   "outputs": [
    {
     "name": "stdout",
     "output_type": "stream",
     "text": [
      "conducting subsequent work with the following platform: CUDA\n"
     ]
    }
   ],
   "source": [
    "from openmmtools.states import CompoundThermodynamicState, SamplerState, ThermodynamicState\n",
    "from simtk import unit\n",
    "from openmmtools import cache\n",
    "temp = 300 * unit.kelvin\n",
    "from perses.tests.utils import compute_potential_components\n",
    "from openmmtools.constants import kB\n",
    "beta = 1/(kB * temp)\n",
    "from perses.dispersed.feptasks import minimize\n",
    "from perses.dispersed.utils import configure_platform\n",
    "from coddiwomple.openmm.utils import get_dummy_integrator\n",
    "from openmmtools import utils"
   ]
  },
  {
   "cell_type": "code",
   "execution_count": 11,
   "metadata": {},
   "outputs": [
    {
     "name": "stderr",
     "output_type": "stream",
     "text": [
      "INFO:rdkit:Enabling RDKit 2020.09.1 jupyter extensions\n"
     ]
    },
    {
     "data": {
      "application/vnd.jupyter.widget-view+json": {
       "model_id": "156abc520bd04f77948e9780c1fdd3ce",
       "version_major": 2,
       "version_minor": 0
      },
      "text/plain": []
     },
     "metadata": {},
     "output_type": "display_data"
    }
   ],
   "source": [
    "from perses.tests.test_topology_proposal import generate_atp"
   ]
  },
  {
   "cell_type": "markdown",
   "metadata": {},
   "source": [
    "Potential components for the vanilla ala system"
   ]
  },
  {
   "cell_type": "code",
   "execution_count": 12,
   "metadata": {
    "scrolled": true
   },
   "outputs": [
    {
     "name": "stdout",
     "output_type": "stream",
     "text": [
      "conducting subsequent work with the following platform: CUDA\n",
      "conducting subsequent work with the following platform: CUDA\n",
      "[('HarmonicBondForce', 0.5874003195280203), ('HarmonicAngleForce', 1.209485556878217), ('PeriodicTorsionForce', 2.321496276111238), ('NonbondedForce', -50.94914523261006), ('AndersenThermostat', 0.0)]\n"
     ]
    }
   ],
   "source": [
    "thermostate = ThermodynamicState(system=ala.system, temperature=temp)\n",
    "sampler_state = SamplerState(ala.positions, box_vectors = ala.system.getDefaultPeriodicBoxVectors())\n",
    "integrator = get_dummy_integrator()\n",
    "platform = configure_platform(utils.get_fastest_platform().getName())\n",
    "context = thermostate.create_context(integrator, platform=platform)\n",
    "minimize(thermostate, sampler_state)\n",
    "thermostate.reduced_potential(sampler_state)\n",
    "sampler_state.apply_to_context(context)\n",
    "print(compute_potential_components(context, beta=beta))"
   ]
  },
  {
   "cell_type": "markdown",
   "metadata": {},
   "source": [
    "Potential components for the REST system"
   ]
  },
  {
   "cell_type": "code",
   "execution_count": 13,
   "metadata": {},
   "outputs": [
    {
     "name": "stdout",
     "output_type": "stream",
     "text": [
      "conducting subsequent work with the following platform: CUDA\n",
      "conducting subsequent work with the following platform: CUDA\n",
      "[('CustomBondForce', 0.5874003195280203), ('CustomAngleForce', 1.2094855568782168), ('CustomTorsionForce', 2.3214942161284062), ('NonbondedForce', -1.187543685095446), ('CustomNonbondedForce', -133.23778625838835), ('CustomBondForce', 83.4761858046491), ('AndersenThermostat', 0.0)]\n"
     ]
    }
   ],
   "source": [
    "thermostate = ThermodynamicState(system=REST_system, temperature=temp)\n",
    "# Don't re-initialize the sampler state \n",
    "integrator = get_dummy_integrator()\n",
    "platform = configure_platform(utils.get_fastest_platform().getName())\n",
    "context = thermostate.create_context(integrator, platform=platform)\n",
    "# Don't minimize again\n",
    "thermostate.reduced_potential(sampler_state)\n",
    "sampler_state.apply_to_context(context)\n",
    "print(compute_potential_components(context, beta=beta))"
   ]
  },
  {
   "cell_type": "code",
   "execution_count": null,
   "metadata": {},
   "outputs": [],
   "source": [
    "# REST Nonbonded + CustomNonbonded + CustomBond = -50.949"
   ]
  },
  {
   "cell_type": "markdown",
   "metadata": {},
   "source": [
    "Potential components for the r-htf hybrid system"
   ]
  },
  {
   "cell_type": "code",
   "execution_count": 10,
   "metadata": {},
   "outputs": [],
   "source": [
    "import pickle\n",
    "import os\n",
    "# Load in r-htf at endstate = 0\n",
    "out_dir = \"/data/chodera/zhangi/perses_benchmark/neq/11/0\"\n",
    "htf = pickle.load(open(os.path.join(out_dir, f\"0_vacuum_0.pickle\"), \"rb\" ))"
   ]
  },
  {
   "cell_type": "code",
   "execution_count": 13,
   "metadata": {
    "scrolled": true
   },
   "outputs": [
    {
     "name": "stdout",
     "output_type": "stream",
     "text": [
      "conducting subsequent work with the following platform: CUDA\n",
      "conducting subsequent work with the following platform: CUDA\n",
      "[('HarmonicBondForce', 0.7970484134780896), ('HarmonicAngleForce', 2.3577929597628824), ('PeriodicTorsionForce', 24.115351093266632), ('NonbondedForce', -105.77031616495222), ('AndersenThermostat', 0.0)]\n"
     ]
    }
   ],
   "source": [
    "thermostate = ThermodynamicState(system=htf.hybrid_system, temperature=temp)\n",
    "sampler_state = SamplerState(htf.hybrid_positions, box_vectors = htf.hybrid_system.getDefaultPeriodicBoxVectors())\n",
    "integrator = get_dummy_integrator()\n",
    "platform = configure_platform(utils.get_fastest_platform().getName())\n",
    "context = thermostate.create_context(integrator, platform=platform)\n",
    "minimize(thermostate, sampler_state)\n",
    "thermostate.reduced_potential(sampler_state)\n",
    "sampler_state.apply_to_context(context)\n",
    "print(compute_potential_components(context, beta=beta))"
   ]
  },
  {
   "cell_type": "markdown",
   "metadata": {},
   "source": [
    "Potential components for the REST-ified r-htf hybrid system"
   ]
  },
  {
   "cell_type": "code",
   "execution_count": 14,
   "metadata": {},
   "outputs": [
    {
     "name": "stderr",
     "output_type": "stream",
     "text": [
      "INFO:REST:No MonteCarloBarostat added.\n",
      "INFO:REST:getDefaultPeriodicBoxVectors added to hybrid: [Quantity(value=Vec3(x=2.0, y=0.0, z=0.0), unit=nanometer), Quantity(value=Vec3(x=0.0, y=2.0, z=0.0), unit=nanometer), Quantity(value=Vec3(x=0.0, y=0.0, z=2.0), unit=nanometer)]\n",
      "INFO:REST:No unknown forces.\n"
     ]
    }
   ],
   "source": [
    "factory = RESTTopologyFactory(htf.hybrid_system, solute_region=list(range(6, 16)))"
   ]
  },
  {
   "cell_type": "code",
   "execution_count": 17,
   "metadata": {},
   "outputs": [],
   "source": [
    "REST_system = factory.REST_system"
   ]
  },
  {
   "cell_type": "code",
   "execution_count": 18,
   "metadata": {},
   "outputs": [
    {
     "name": "stdout",
     "output_type": "stream",
     "text": [
      "conducting subsequent work with the following platform: CUDA\n",
      "conducting subsequent work with the following platform: CUDA\n",
      "[('CustomBondForce', 0.7970484134780896), ('CustomAngleForce', 2.3577929597628824), ('CustomTorsionForce', 24.11535308037985), ('NonbondedForce', 11.535127952937986), ('CustomNonbondedForce', -104.40538559062273), ('CustomBondForce', -12.900053097452762), ('AndersenThermostat', 0.0)]\n"
     ]
    }
   ],
   "source": [
    "thermostate = ThermodynamicState(system=REST_system, temperature=temp)\n",
    "# Don't re-initialize the sampler state \n",
    "integrator = get_dummy_integrator()\n",
    "platform = configure_platform(utils.get_fastest_platform().getName())\n",
    "context = thermostate.create_context(integrator, platform=platform)\n",
    "# Don't minimize again\n",
    "thermostate.reduced_potential(sampler_state)\n",
    "sampler_state.apply_to_context(context)\n",
    "print(compute_potential_components(context, beta=beta))"
   ]
  },
  {
   "cell_type": "code",
   "execution_count": null,
   "metadata": {},
   "outputs": [],
   "source": [
    "# REST Nonbonded + CustomNonbonded + CustomBond = -105.77"
   ]
  },
  {
   "cell_type": "markdown",
   "metadata": {},
   "source": [
    "## Run REST2 on capped THR->ALA (flattened torsions/exceptions) in vacuum"
   ]
  },
  {
   "cell_type": "code",
   "execution_count": 1,
   "metadata": {},
   "outputs": [
    {
     "name": "stderr",
     "output_type": "stream",
     "text": [
      "INFO:numexpr.utils:Note: detected 72 virtual cores but NumExpr set to maximum of 64, check \"NUMEXPR_MAX_THREADS\" environment variable.\n",
      "INFO:numexpr.utils:Note: NumExpr detected 72 cores but \"NUMEXPR_MAX_THREADS\" not set, so enforcing safe limit of 8.\n",
      "INFO:numexpr.utils:NumExpr defaulting to 8 threads.\n"
     ]
    }
   ],
   "source": [
    "import pickle\n",
    "import os\n",
    "from perses.annihilation.rest import RESTTopologyFactory\n",
    "from perses.annihilation.lambda_protocol import RESTState\n",
    "from openmmtools.states import SamplerState, ThermodynamicState, CompoundThermodynamicState\n",
    "from simtk import openmm, unit\n",
    "import math\n",
    "from openmmtools.constants import kB\n",
    "from openmmtools import mcmc, multistate\n",
    "import copy"
   ]
  },
  {
   "cell_type": "code",
   "execution_count": 27,
   "metadata": {},
   "outputs": [],
   "source": [
    "# Load in r-htf at endstate = 0\n",
    "out_dir = \"/data/chodera/zhangi/perses_benchmark/neq/11/0\"\n",
    "htf = pickle.load(open(os.path.join(out_dir, f\"0_vacuum_0.pickle\"), \"rb\" ))\n"
   ]
  },
  {
   "cell_type": "code",
   "execution_count": 21,
   "metadata": {},
   "outputs": [
    {
     "name": "stdout",
     "output_type": "stream",
     "text": [
      "<simtk.openmm.openmm.HarmonicBondForce; proxy of <Swig Object of type 'OpenMM::HarmonicBondForce *' at 0x2afae3592900> >\n",
      "<simtk.openmm.openmm.HarmonicAngleForce; proxy of <Swig Object of type 'OpenMM::HarmonicAngleForce *' at 0x2afae31d5ba0> >\n",
      "<simtk.openmm.openmm.PeriodicTorsionForce; proxy of <Swig Object of type 'OpenMM::PeriodicTorsionForce *' at 0x2afae31d5ba0> >\n",
      "<simtk.openmm.openmm.NonbondedForce; proxy of <Swig Object of type 'OpenMM::NonbondedForce *' at 0x2afae31d5ba0> >\n"
     ]
    }
   ],
   "source": [
    "for i in range(htf.hybrid_system.getNumForces()):\n",
    "    print(htf.hybrid_system.getForce(i))"
   ]
  },
  {
   "cell_type": "code",
   "execution_count": 29,
   "metadata": {},
   "outputs": [],
   "source": [
    "off_atoms = htf._atom_classes['unique_new_atoms']"
   ]
  },
  {
   "cell_type": "code",
   "execution_count": 30,
   "metadata": {},
   "outputs": [
    {
     "data": {
      "text/plain": [
       "{26, 27, 28, 29}"
      ]
     },
     "execution_count": 30,
     "metadata": {},
     "output_type": "execute_result"
    }
   ],
   "source": [
    "off_atoms"
   ]
  },
  {
   "cell_type": "code",
   "execution_count": 31,
   "metadata": {},
   "outputs": [
    {
     "name": "stdout",
     "output_type": "stream",
     "text": [
      "[0, 6, 7, 26, 3, Quantity(value=0.0, unit=radian), Quantity(value=0.0, unit=kilojoule/mole)]\n",
      "[0, 6, 7, 26, 2, Quantity(value=0.0, unit=radian), Quantity(value=0.0, unit=kilojoule/mole)]\n",
      "[0, 6, 7, 26, 1, Quantity(value=0.0, unit=radian), Quantity(value=0.0, unit=kilojoule/mole)]\n",
      "[6, 7, 26, 27, 3, Quantity(value=0.0, unit=radian), Quantity(value=0.0, unit=kilojoule/mole)]\n",
      "[6, 7, 26, 28, 3, Quantity(value=0.0, unit=radian), Quantity(value=0.0, unit=kilojoule/mole)]\n",
      "[6, 7, 26, 29, 3, Quantity(value=0.0, unit=radian), Quantity(value=0.0, unit=kilojoule/mole)]\n",
      "[8, 7, 26, 27, 3, Quantity(value=0.0, unit=radian), Quantity(value=0.0, unit=kilojoule/mole)]\n",
      "[8, 7, 26, 28, 3, Quantity(value=0.0, unit=radian), Quantity(value=0.0, unit=kilojoule/mole)]\n",
      "[8, 7, 26, 29, 3, Quantity(value=0.0, unit=radian), Quantity(value=0.0, unit=kilojoule/mole)]\n",
      "[26, 7, 8, 20, 3, Quantity(value=0.0, unit=radian), Quantity(value=0.0, unit=kilojoule/mole)]\n",
      "[26, 7, 8, 20, 2, Quantity(value=0.0, unit=radian), Quantity(value=0.0, unit=kilojoule/mole)]\n",
      "[26, 7, 8, 20, 1, Quantity(value=0.0, unit=radian), Quantity(value=0.0, unit=kilojoule/mole)]\n",
      "[14, 7, 26, 27, 3, Quantity(value=0.0, unit=radian), Quantity(value=0.0, unit=kilojoule/mole)]\n",
      "[14, 7, 26, 28, 3, Quantity(value=0.0, unit=radian), Quantity(value=0.0, unit=kilojoule/mole)]\n",
      "[14, 7, 26, 29, 3, Quantity(value=0.0, unit=radian), Quantity(value=0.0, unit=kilojoule/mole)]\n",
      "\n",
      "[0, 26, Quantity(value=-0.0, unit=elementary charge**2), Quantity(value=0.3399669508423535, unit=nanometer), Quantity(value=0.0, unit=kilojoule/mole)]\n",
      "[6, 26, Quantity(value=0.0, unit=elementary charge**2), Quantity(value=1.0, unit=nanometer), Quantity(value=0.0, unit=kilojoule/mole)]\n",
      "[7, 26, Quantity(value=0.0, unit=elementary charge**2), Quantity(value=1.0, unit=nanometer), Quantity(value=0.0, unit=kilojoule/mole)]\n",
      "[8, 26, Quantity(value=0.0, unit=elementary charge**2), Quantity(value=1.0, unit=nanometer), Quantity(value=0.0, unit=kilojoule/mole)]\n",
      "[9, 26, Quantity(value=0.0, unit=elementary charge**2), Quantity(value=0.3179795704786499, unit=nanometer), Quantity(value=0.0, unit=kilojoule/mole)]\n",
      "[26, 13, Quantity(value=-0.0, unit=elementary charge**2), Quantity(value=0.2234373985095971, unit=nanometer), Quantity(value=0.0, unit=kilojoule/mole)]\n",
      "[26, 14, Quantity(value=0.0, unit=elementary charge**2), Quantity(value=1.0, unit=nanometer), Quantity(value=0.0, unit=kilojoule/mole)]\n",
      "[6, 27, Quantity(value=-0.0, unit=elementary charge**2), Quantity(value=0.2949765655762664, unit=nanometer), Quantity(value=0.0, unit=kilojoule/mole)]\n",
      "[7, 27, Quantity(value=0.0, unit=elementary charge**2), Quantity(value=1.0, unit=nanometer), Quantity(value=0.0, unit=kilojoule/mole)]\n",
      "[8, 27, Quantity(value=0.0, unit=elementary charge**2), Quantity(value=0.3024601148086452, unit=nanometer), Quantity(value=0.0, unit=kilojoule/mole)]\n",
      "[26, 27, Quantity(value=0.0, unit=elementary charge**2), Quantity(value=1.0, unit=nanometer), Quantity(value=0.0, unit=kilojoule/mole)]\n",
      "[14, 27, Quantity(value=0.0, unit=elementary charge**2), Quantity(value=0.2560442915935335, unit=nanometer), Quantity(value=0.0, unit=kilojoule/mole)]\n",
      "[6, 28, Quantity(value=-0.0, unit=elementary charge**2), Quantity(value=0.2949765655762664, unit=nanometer), Quantity(value=0.0, unit=kilojoule/mole)]\n",
      "[7, 28, Quantity(value=0.0, unit=elementary charge**2), Quantity(value=1.0, unit=nanometer), Quantity(value=0.0, unit=kilojoule/mole)]\n",
      "[8, 28, Quantity(value=0.0, unit=elementary charge**2), Quantity(value=0.3024601148086452, unit=nanometer), Quantity(value=0.0, unit=kilojoule/mole)]\n",
      "[26, 28, Quantity(value=0.0, unit=elementary charge**2), Quantity(value=1.0, unit=nanometer), Quantity(value=0.0, unit=kilojoule/mole)]\n",
      "[14, 28, Quantity(value=0.0, unit=elementary charge**2), Quantity(value=0.2560442915935335, unit=nanometer), Quantity(value=0.0, unit=kilojoule/mole)]\n",
      "[27, 28, Quantity(value=0.0, unit=elementary charge**2), Quantity(value=1.0, unit=nanometer), Quantity(value=0.0, unit=kilojoule/mole)]\n",
      "[6, 29, Quantity(value=-0.0, unit=elementary charge**2), Quantity(value=0.2949765655762664, unit=nanometer), Quantity(value=0.0, unit=kilojoule/mole)]\n",
      "[7, 29, Quantity(value=0.0, unit=elementary charge**2), Quantity(value=1.0, unit=nanometer), Quantity(value=0.0, unit=kilojoule/mole)]\n",
      "[8, 29, Quantity(value=0.0, unit=elementary charge**2), Quantity(value=0.3024601148086452, unit=nanometer), Quantity(value=0.0, unit=kilojoule/mole)]\n",
      "[26, 29, Quantity(value=0.0, unit=elementary charge**2), Quantity(value=1.0, unit=nanometer), Quantity(value=0.0, unit=kilojoule/mole)]\n",
      "[14, 29, Quantity(value=0.0, unit=elementary charge**2), Quantity(value=0.2560442915935335, unit=nanometer), Quantity(value=0.0, unit=kilojoule/mole)]\n",
      "[27, 29, Quantity(value=0.0, unit=elementary charge**2), Quantity(value=1.0, unit=nanometer), Quantity(value=0.0, unit=kilojoule/mole)]\n",
      "[28, 29, Quantity(value=0.0, unit=elementary charge**2), Quantity(value=1.0, unit=nanometer), Quantity(value=0.0, unit=kilojoule/mole)]\n",
      "[26, 20, Quantity(value=0.0, unit=elementary charge**2), Quantity(value=0.3324834016099747, unit=nanometer), Quantity(value=0.0, unit=kilojoule/mole)]\n"
     ]
    }
   ],
   "source": [
    "system = htf.hybrid_system\n",
    "# Check flattened torsions involving off atoms\n",
    "periodic_torsion = system.getForce(2)\n",
    "for i in range(periodic_torsion.getNumTorsions()):\n",
    "    p1, p2, p3, p4, periodicity, phase, k = periodic_torsion.getTorsionParameters(i)\n",
    "    if p1 in off_atoms or p2 in off_atoms or p3 in off_atoms or p4 in off_atoms:\n",
    "        print(periodic_torsion.getTorsionParameters(i))\n",
    "print()\n",
    "# Check flattened exceptions involving off atoms\n",
    "nb_force = system.getForce(3)\n",
    "for i in range(nb_force.getNumExceptions()):\n",
    "    p1, p2, chargeProd, sigma, epsilon = nb_force.getExceptionParameters(i)\n",
    "    if p1 in off_atoms or p2 in off_atoms:\n",
    "        print(nb_force.getExceptionParameters(i))"
   ]
  },
  {
   "cell_type": "code",
   "execution_count": 3,
   "metadata": {},
   "outputs": [
    {
     "name": "stdout",
     "output_type": "stream",
     "text": [
      "0 ACE1-C\n",
      "1 ACE1-O\n",
      "2 ACE1-CH3\n",
      "3 ACE1-H1\n",
      "4 ACE1-H2\n",
      "5 ACE1-H3\n",
      "6 THR2-N\n",
      "7 THR2-CA\n",
      "8 THR2-C\n",
      "9 THR2-O\n",
      "10 THR2-CB\n",
      "11 THR2-CG2\n",
      "12 THR2-OG1\n",
      "13 THR2-H\n",
      "14 THR2-HA\n",
      "15 THR2-HB\n",
      "16 THR2-HG1\n",
      "17 THR2-HG21\n",
      "18 THR2-HG22\n",
      "19 THR2-HG23\n",
      "26 THR2-CB\n",
      "27 THR2-HB1\n",
      "28 THR2-HB2\n",
      "29 THR2-HB3\n",
      "20 NME3-N\n",
      "21 NME3-C\n",
      "22 NME3-H\n",
      "23 NME3-H1\n",
      "24 NME3-H2\n",
      "25 NME3-H3\n"
     ]
    }
   ],
   "source": [
    "# Determine indices for solute region\n",
    "for atom in htf.hybrid_topology.atoms:\n",
    "    print(atom.index, atom)"
   ]
  },
  {
   "cell_type": "code",
   "execution_count": null,
   "metadata": {},
   "outputs": [],
   "source": []
  },
  {
   "cell_type": "code",
   "execution_count": 4,
   "metadata": {},
   "outputs": [
    {
     "name": "stdout",
     "output_type": "stream",
     "text": [
      "<simtk.openmm.openmm.HarmonicBondForce; proxy of <Swig Object of type 'OpenMM::HarmonicBondForce *' at 0x2ab18fcf3de0> >\n",
      "<simtk.openmm.openmm.HarmonicAngleForce; proxy of <Swig Object of type 'OpenMM::HarmonicAngleForce *' at 0x2ab18fcf3de0> >\n",
      "<simtk.openmm.openmm.PeriodicTorsionForce; proxy of <Swig Object of type 'OpenMM::PeriodicTorsionForce *' at 0x2ab1c253bb70> >\n",
      "<simtk.openmm.openmm.NonbondedForce; proxy of <Swig Object of type 'OpenMM::NonbondedForce *' at 0x2ab18fcf3de0> >\n"
     ]
    }
   ],
   "source": [
    "# Check forces to see if CMMForce needs to be removed\n",
    "for force in range(htf.hybrid_system.getNumForces()):\n",
    "    print(htf.hybrid_system.getForce(force))"
   ]
  },
  {
   "cell_type": "code",
   "execution_count": 3,
   "metadata": {},
   "outputs": [
    {
     "name": "stderr",
     "output_type": "stream",
     "text": [
      "INFO:REST:No MonteCarloBarostat added.\n",
      "INFO:REST:getDefaultPeriodicBoxVectors added to hybrid: [Quantity(value=Vec3(x=2.0, y=0.0, z=0.0), unit=nanometer), Quantity(value=Vec3(x=0.0, y=2.0, z=0.0), unit=nanometer), Quantity(value=Vec3(x=0.0, y=0.0, z=2.0), unit=nanometer)]\n",
      "INFO:REST:No unknown forces.\n"
     ]
    }
   ],
   "source": [
    "# Build REST factory\n",
    "factory = RESTTopologyFactory(htf.hybrid_system, solute_region=list(range(6, 10)) + [0, 1, 20, 22])"
   ]
  },
  {
   "cell_type": "code",
   "execution_count": 4,
   "metadata": {},
   "outputs": [],
   "source": [
    "# Get REST system\n",
    "REST_system = factory.REST_system"
   ]
  },
  {
   "cell_type": "code",
   "execution_count": 5,
   "metadata": {},
   "outputs": [],
   "source": [
    "# Create states for each replica\n",
    "n_replicas = 12  # Number of temperature replicas.\n",
    "T_min = 298.0 * unit.kelvin  # Minimum temperature.\n",
    "T_max = 600.0 * unit.kelvin  # Maximum temperature.\n",
    "temperatures = [T_min + (T_max - T_min) * (math.exp(float(i) / float(n_replicas-1)) - 1.0) / (math.e - 1.0)\n",
    "                for i in range(n_replicas)]"
   ]
  },
  {
   "cell_type": "code",
   "execution_count": 6,
   "metadata": {},
   "outputs": [],
   "source": [
    "# Create reference thermodynamic state\n",
    "lambda_zero_alchemical_state = RESTState.from_system(REST_system)\n",
    "thermostate = ThermodynamicState(REST_system, temperature=T_min)\n",
    "compound_thermodynamic_state = CompoundThermodynamicState(thermostate, composable_states=[lambda_zero_alchemical_state])"
   ]
  },
  {
   "cell_type": "code",
   "execution_count": 7,
   "metadata": {},
   "outputs": [
    {
     "name": "stdout",
     "output_type": "stream",
     "text": [
      "solute 1.0\n",
      "inter 1.0\n",
      "\n",
      "solute 0.9468532781436299\n",
      "inter 0.9730638612874439\n",
      "\n",
      "solute 0.8947732975651229\n",
      "inter 0.9459245728730822\n",
      "\n",
      "solute 0.8439363864122151\n",
      "inter 0.9186601038535499\n",
      "\n",
      "solute 0.7945005744165483\n",
      "inter 0.8913476170476635\n",
      "\n",
      "solute 0.7466040896140252\n",
      "inter 0.8640625495958179\n",
      "\n",
      "solute 0.7003644105543894\n",
      "inter 0.8368777751585887\n",
      "\n",
      "solute 0.6558778598246819\n",
      "inter 0.8098628648263124\n",
      "\n",
      "solute 0.6132197034187189\n",
      "inter 0.7830834587824717\n",
      "\n",
      "solute 0.5724447034546831\n",
      "inter 0.756600755652995\n",
      "\n",
      "solute 0.5335880595263061\n",
      "inter 0.7304711216237819\n",
      "\n",
      "solute 0.4966666666666667\n",
      "inter 0.7047458170621992\n",
      "\n"
     ]
    }
   ],
   "source": [
    "# Create thermodynamics states\n",
    "sampler_state =  SamplerState(htf.hybrid_positions, box_vectors=htf.hybrid_system.getDefaultPeriodicBoxVectors())\n",
    "beta_0 = 1/(kB*T_min)\n",
    "thermodynamic_state_list = []\n",
    "for temperature in temperatures:\n",
    "    beta_m = 1/(kB*temperature)\n",
    "    compound_thermodynamic_state_copy = copy.deepcopy(compound_thermodynamic_state)\n",
    "    compound_thermodynamic_state_copy.set_alchemical_parameters(beta_0, beta_m)\n",
    "    print(\"solute\", compound_thermodynamic_state_copy.solute_scale)\n",
    "    print(\"inter\", compound_thermodynamic_state_copy.inter_scale)\n",
    "    print()\n",
    "    thermodynamic_state_list.append(compound_thermodynamic_state_copy)"
   ]
  },
  {
   "cell_type": "code",
   "execution_count": 11,
   "metadata": {},
   "outputs": [
    {
     "name": "stdout",
     "output_type": "stream",
     "text": [
      "solute 0.4966666666666667\n",
      "inter [0.70474582]\n"
     ]
    }
   ],
   "source": [
    "import numpy as np\n",
    "T = 600 *unit.kelvin\n",
    "beta_0 = 1/(kB*T_min)\n",
    "beta_m = 1/(kB*T)\n",
    "print(\"solute\", beta_m/beta_0)\n",
    "print(\"inter\", np.sqrt([beta_m/beta_0]))"
   ]
  },
  {
   "cell_type": "code",
   "execution_count": 14,
   "metadata": {},
   "outputs": [
    {
     "name": "stderr",
     "output_type": "stream",
     "text": [
      "WARNING:openmmtools.multistate.multistatesampler:Warning: The openmmtools.multistate API is experimental and may change in future releases\n",
      "WARNING:openmmtools.multistate.multistatereporter:Warning: The openmmtools.multistate API is experimental and may change in future releases\n",
      "DEBUG:openmmtools.multistate.multistatereporter:Initial checkpoint file automatically chosen as /data/chodera/zhangi/perses_benchmark/neq/11/0/0_vacuum_thr_5ns_checkpoint.nc\n",
      "DEBUG:mpiplus.mpiplus:Cannot find MPI environment. MPI disabled.\n",
      "DEBUG:mpiplus.mpiplus:Single node: executing <bound method MultiStateReporter.storage_exists of <openmmtools.multistate.multistatereporter.MultiStateReporter object at 0x2ab1e9883090>>\n",
      "DEBUG:mpiplus.mpiplus:Single node: executing <function ReplicaExchangeSampler._display_citations at 0x2ab1c4d660e0>\n",
      "DEBUG:mpiplus.mpiplus:Single node: executing <function MultiStateSampler._display_citations at 0x2ab1c4d17170>\n",
      "DEBUG:mpiplus.mpiplus:Single node: executing <function MultiStateSampler._initialize_reporter at 0x2ab1c4d17440>\n",
      "DEBUG:openmmtools.multistate.multistatereporter:Serialized state thermodynamic_states/0 is  5403B | 5.276KB | 0.005MB\n",
      "DEBUG:openmmtools.utils:Storing thermodynamic states took    0.034s\n",
      "DEBUG:openmmtools.multistate.multistatesampler:Storing general ReplicaExchange options...\n",
      "DEBUG:mpiplus.mpiplus:Single node: executing <function MultiStateSampler._report_iteration at 0x2ab1c4d17560>\n",
      "DEBUG:mpiplus.mpiplus:Single node: executing <function MultiStateSampler._report_iteration_items at 0x2ab1c4d17830>\n",
      "DEBUG:openmmtools.utils:Storing sampler states took    0.006s\n",
      "DEBUG:openmmtools.utils:Writing iteration information to storage took    0.032s\n",
      "DEBUG:mpiplus.mpiplus:Running _compute_replica_energies serially.\n"
     ]
    },
    {
     "name": "stdout",
     "output_type": "stream",
     "text": [
      "Please cite the following:\n",
      "\n",
      "        Friedrichs MS, Eastman P, Vaidyanathan V, Houston M, LeGrand S, Beberg AL, Ensign DL, Bruns CM, and Pande VS. Accelerating molecular dynamic simulations on graphics processing unit. J. Comput. Chem. 30:864, 2009. DOI: 10.1002/jcc.21209\n",
      "        Eastman P and Pande VS. OpenMM: A hardware-independent framework for molecular simulations. Comput. Sci. Eng. 12:34, 2010. DOI: 10.1109/MCSE.2010.27\n",
      "        Eastman P and Pande VS. Efficient nonbonded interactions for molecular dynamics on a graphics processing unit. J. Comput. Chem. 31:1268, 2010. DOI: 10.1002/jcc.21413\n",
      "        Eastman P and Pande VS. Constant constraint matrix approximation: A robust, parallelizable constraint method for molecular simulations. J. Chem. Theor. Comput. 6:434, 2010. DOI: 10.1021/ct900463w\n",
      "        Chodera JD and Shirts MR. Replica exchange and expanded ensemble simulations as Gibbs multistate: Simple improvements for enhanced mixing. J. Chem. Phys., 135:194110, 2011. DOI:10.1063/1.3660669\n",
      "        \n"
     ]
    },
    {
     "name": "stderr",
     "output_type": "stream",
     "text": [
      "DEBUG:openmmtools.utils:Computing energy matrix took    8.075s\n",
      "DEBUG:mpiplus.mpiplus:Single node: executing <bound method MultiStateReporter.write_energies of <openmmtools.multistate.multistatereporter.MultiStateReporter object at 0x2ab1e9883090>>\n",
      "DEBUG:openmmtools.multistate.multistatesampler:********************************************************************************\n",
      "DEBUG:openmmtools.multistate.multistatesampler:Iteration 1/5000\n",
      "DEBUG:openmmtools.multistate.multistatesampler:********************************************************************************\n",
      "DEBUG:mpiplus.mpiplus:Single node: executing <function ReplicaExchangeSampler._mix_replicas at 0x2ab1c4d56f80>\n",
      "DEBUG:openmmtools.multistate.replicaexchange:Mixing replicas...\n",
      "DEBUG:openmmtools.utils:Mixing of replicas took    0.029s\n",
      "DEBUG:openmmtools.multistate.replicaexchange:Accepted 41472/41472 attempted swaps (100.0%)\n",
      "DEBUG:openmmtools.multistate.multistatesampler:Propagating all replicas...\n",
      "DEBUG:mpiplus.mpiplus:Running _propagate_replica serially.\n",
      "DEBUG:mpiplus.mpiplus:Running _get_replica_move_statistics serially.\n",
      "DEBUG:openmmtools.utils:Propagating all replicas took    5.518s\n",
      "DEBUG:mpiplus.mpiplus:Running _compute_replica_energies serially.\n",
      "DEBUG:openmmtools.utils:Computing energy matrix took    0.050s\n",
      "DEBUG:mpiplus.mpiplus:Single node: executing <function MultiStateSampler._report_iteration at 0x2ab1c4d17560>\n",
      "DEBUG:mpiplus.mpiplus:Single node: executing <function MultiStateSampler._report_iteration_items at 0x2ab1c4d17830>\n",
      "DEBUG:openmmtools.utils:Storing sampler states took    0.002s\n",
      "DEBUG:openmmtools.utils:Writing iteration information to storage took    0.017s\n",
      "DEBUG:openmmtools.multistate.multistatesampler:Not enough iterations for online analysis (self.online_analysis_minimum_iterations = 200)\n",
      "DEBUG:mpiplus.mpiplus:Single node: executing <function MultiStateSampler._online_analysis at 0x2ab1c4d1a3b0>\n",
      "DEBUG:openmmtools.multistate.multistatereporter:Creating new NetCDF variable f_k with parameters: {'dtype': dtype('float64'), 'dims': ('dim_size12',), 'chunksizes': (12,)}\n",
      "DEBUG:openmmtools.multistate.multistatereporter:Creating new NetCDF variable free_energy with parameters: {'dtype': <class 'numpy.float64'>, 'dims': ('dim_size2',), 'chunksizes': (2,)}\n",
      "DEBUG:openmmtools.multistate.multistatereporter:Creating new NetCDF variable f_k_history with parameters: {'dtype': dtype('float64'), 'dims': ('iteration', 'dim_size12'), 'chunksizes': (1, 12)}\n",
      "DEBUG:openmmtools.multistate.multistatereporter:Creating new NetCDF variable free_energy_history with parameters: {'dtype': <class 'numpy.float64'>, 'dims': ('iteration', 'dim_size2'), 'chunksizes': (1, 2)}\n",
      "DEBUG:openmmtools.multistate.multistatesampler:*** ONLINE analysis free energies:\n",
      "DEBUG:openmmtools.multistate.multistatesampler:        -0.0     5.7     5.9     5.9     5.9     5.9     5.9     5.9     5.9     5.9     5.9     5.9\n",
      "DEBUG:openmmtools.utils:Computing online free energy estimate took    0.017s\n",
      "DEBUG:openmmtools.multistate.multistatesampler:Iteration took 5.652s.\n",
      "DEBUG:openmmtools.multistate.multistatesampler:Estimated completion in 7:51:20.073931, at Tue Dec 15 22:47:14 2020 (consuming total wall clock time 7:51:25.731077).\n",
      "DEBUG:openmmtools.multistate.multistatesampler:********************************************************************************\n",
      "DEBUG:openmmtools.multistate.multistatesampler:Iteration 2/5000\n",
      "DEBUG:openmmtools.multistate.multistatesampler:********************************************************************************\n",
      "DEBUG:mpiplus.mpiplus:Single node: executing <function ReplicaExchangeSampler._mix_replicas at 0x2ab1c4d56f80>\n",
      "DEBUG:openmmtools.multistate.replicaexchange:Mixing replicas...\n",
      "DEBUG:openmmtools.utils:Mixing of replicas took    0.001s\n",
      "DEBUG:openmmtools.multistate.replicaexchange:Accepted 24558/41472 attempted swaps (59.2%)\n",
      "DEBUG:openmmtools.multistate.multistatesampler:Propagating all replicas...\n",
      "DEBUG:mpiplus.mpiplus:Running _propagate_replica serially.\n",
      "DEBUG:mpiplus.mpiplus:Running _get_replica_move_statistics serially.\n",
      "DEBUG:openmmtools.utils:Propagating all replicas took    0.899s\n",
      "DEBUG:mpiplus.mpiplus:Running _compute_replica_energies serially.\n",
      "DEBUG:openmmtools.utils:Computing energy matrix took    0.048s\n",
      "DEBUG:mpiplus.mpiplus:Single node: executing <function MultiStateSampler._report_iteration at 0x2ab1c4d17560>\n",
      "DEBUG:mpiplus.mpiplus:Single node: executing <function MultiStateSampler._report_iteration_items at 0x2ab1c4d17830>\n",
      "DEBUG:openmmtools.utils:Storing sampler states took    0.002s\n",
      "DEBUG:openmmtools.utils:Writing iteration information to storage took    0.017s\n",
      "DEBUG:openmmtools.multistate.multistatesampler:Not enough iterations for online analysis (self.online_analysis_minimum_iterations = 200)\n",
      "DEBUG:mpiplus.mpiplus:Single node: executing <function MultiStateSampler._online_analysis at 0x2ab1c4d1a3b0>\n",
      "DEBUG:openmmtools.multistate.multistatesampler:*** ONLINE analysis free energies:\n",
      "DEBUG:openmmtools.multistate.multistatesampler:        -0.0     9.6     9.8     9.8     9.8     9.8     9.8     9.8     9.8     9.8     9.8     9.8\n",
      "DEBUG:openmmtools.utils:Computing online free energy estimate took    0.006s\n",
      "DEBUG:openmmtools.multistate.multistatesampler:Iteration took 0.992s.\n",
      "DEBUG:openmmtools.multistate.multistatesampler:Estimated completion in 4:37:19.381666, at Tue Dec 15 19:33:14 2020 (consuming total wall clock time 4:37:26.040082).\n",
      "DEBUG:openmmtools.multistate.multistatesampler:********************************************************************************\n",
      "DEBUG:openmmtools.multistate.multistatesampler:Iteration 3/5000\n",
      "DEBUG:openmmtools.multistate.multistatesampler:********************************************************************************\n",
      "DEBUG:mpiplus.mpiplus:Single node: executing <function ReplicaExchangeSampler._mix_replicas at 0x2ab1c4d56f80>\n",
      "DEBUG:openmmtools.multistate.replicaexchange:Mixing replicas...\n",
      "DEBUG:openmmtools.utils:Mixing of replicas took    0.001s\n",
      "DEBUG:openmmtools.multistate.replicaexchange:Accepted 30312/41472 attempted swaps (73.1%)\n",
      "DEBUG:openmmtools.multistate.multistatesampler:Propagating all replicas...\n",
      "DEBUG:mpiplus.mpiplus:Running _propagate_replica serially.\n",
      "DEBUG:mpiplus.mpiplus:Running _get_replica_move_statistics serially.\n",
      "DEBUG:openmmtools.utils:Propagating all replicas took    0.906s\n",
      "DEBUG:mpiplus.mpiplus:Running _compute_replica_energies serially.\n",
      "DEBUG:openmmtools.utils:Computing energy matrix took    0.048s\n",
      "DEBUG:mpiplus.mpiplus:Single node: executing <function MultiStateSampler._report_iteration at 0x2ab1c4d17560>\n",
      "DEBUG:mpiplus.mpiplus:Single node: executing <function MultiStateSampler._report_iteration_items at 0x2ab1c4d17830>\n",
      "DEBUG:openmmtools.utils:Storing sampler states took    0.002s\n",
      "DEBUG:openmmtools.utils:Writing iteration information to storage took    0.016s\n",
      "DEBUG:openmmtools.multistate.multistatesampler:Not enough iterations for online analysis (self.online_analysis_minimum_iterations = 200)\n",
      "DEBUG:mpiplus.mpiplus:Single node: executing <function MultiStateSampler._online_analysis at 0x2ab1c4d1a3b0>\n",
      "DEBUG:openmmtools.multistate.multistatesampler:*** ONLINE analysis free energies:\n",
      "DEBUG:openmmtools.multistate.multistatesampler:        -0.0    12.5    12.7    12.7    12.7    12.7    12.7    12.7    12.7    12.7    12.7    12.7\n",
      "DEBUG:openmmtools.utils:Computing online free energy estimate took    0.006s\n",
      "DEBUG:openmmtools.multistate.multistatesampler:Iteration took 0.999s.\n",
      "DEBUG:openmmtools.multistate.multistatesampler:Estimated completion in 3:32:49.237567, at Tue Dec 15 18:28:45 2020 (consuming total wall clock time 3:32:56.903709).\n",
      "DEBUG:openmmtools.multistate.multistatesampler:********************************************************************************\n",
      "DEBUG:openmmtools.multistate.multistatesampler:Iteration 4/5000\n",
      "DEBUG:openmmtools.multistate.multistatesampler:********************************************************************************\n",
      "DEBUG:mpiplus.mpiplus:Single node: executing <function ReplicaExchangeSampler._mix_replicas at 0x2ab1c4d56f80>\n",
      "DEBUG:openmmtools.multistate.replicaexchange:Mixing replicas...\n",
      "DEBUG:openmmtools.utils:Mixing of replicas took    0.001s\n",
      "DEBUG:openmmtools.multistate.replicaexchange:Accepted 28696/41472 attempted swaps (69.2%)\n"
     ]
    },
    {
     "name": "stderr",
     "output_type": "stream",
     "text": [
      "DEBUG:openmmtools.multistate.multistatesampler:Propagating all replicas...\n",
      "DEBUG:mpiplus.mpiplus:Running _propagate_replica serially.\n",
      "DEBUG:mpiplus.mpiplus:Running _get_replica_move_statistics serially.\n",
      "DEBUG:openmmtools.utils:Propagating all replicas took    0.938s\n",
      "DEBUG:mpiplus.mpiplus:Running _compute_replica_energies serially.\n",
      "DEBUG:openmmtools.utils:Computing energy matrix took    0.048s\n",
      "DEBUG:mpiplus.mpiplus:Single node: executing <function MultiStateSampler._report_iteration at 0x2ab1c4d17560>\n",
      "DEBUG:mpiplus.mpiplus:Single node: executing <function MultiStateSampler._report_iteration_items at 0x2ab1c4d17830>\n",
      "DEBUG:openmmtools.utils:Storing sampler states took    0.002s\n",
      "DEBUG:openmmtools.utils:Writing iteration information to storage took    0.016s\n",
      "DEBUG:openmmtools.multistate.multistatesampler:Not enough iterations for online analysis (self.online_analysis_minimum_iterations = 200)\n",
      "DEBUG:mpiplus.mpiplus:Single node: executing <function MultiStateSampler._online_analysis at 0x2ab1c4d1a3b0>\n",
      "DEBUG:openmmtools.multistate.multistatesampler:*** ONLINE analysis free energies:\n",
      "DEBUG:openmmtools.multistate.multistatesampler:        -0.0    14.8    15.1    15.1    15.1    15.1    15.1    15.1    15.1    15.1    15.1    15.1\n",
      "DEBUG:openmmtools.utils:Computing online free energy estimate took    0.007s\n",
      "DEBUG:openmmtools.multistate.multistatesampler:Iteration took 1.031s.\n",
      "DEBUG:openmmtools.multistate.multistatesampler:Estimated completion in 3:01:13.964743, at Tue Dec 15 17:57:11 2020 (consuming total wall clock time 3:01:22.670879).\n",
      "DEBUG:openmmtools.multistate.multistatesampler:********************************************************************************\n",
      "DEBUG:openmmtools.multistate.multistatesampler:Iteration 5/5000\n",
      "DEBUG:openmmtools.multistate.multistatesampler:********************************************************************************\n",
      "DEBUG:mpiplus.mpiplus:Single node: executing <function ReplicaExchangeSampler._mix_replicas at 0x2ab1c4d56f80>\n",
      "DEBUG:openmmtools.multistate.replicaexchange:Mixing replicas...\n",
      "DEBUG:openmmtools.utils:Mixing of replicas took    0.001s\n",
      "DEBUG:openmmtools.multistate.replicaexchange:Accepted 28672/41472 attempted swaps (69.1%)\n",
      "DEBUG:openmmtools.multistate.multistatesampler:Propagating all replicas...\n",
      "DEBUG:mpiplus.mpiplus:Running _propagate_replica serially.\n",
      "DEBUG:mpiplus.mpiplus:Running _get_replica_move_statistics serially.\n",
      "DEBUG:openmmtools.utils:Propagating all replicas took    0.984s\n",
      "DEBUG:mpiplus.mpiplus:Running _compute_replica_energies serially.\n",
      "DEBUG:openmmtools.utils:Computing energy matrix took    0.048s\n",
      "DEBUG:mpiplus.mpiplus:Single node: executing <function MultiStateSampler._report_iteration at 0x2ab1c4d17560>\n",
      "DEBUG:mpiplus.mpiplus:Single node: executing <function MultiStateSampler._report_iteration_items at 0x2ab1c4d17830>\n",
      "DEBUG:openmmtools.utils:Storing sampler states took    0.002s\n",
      "DEBUG:openmmtools.utils:Writing iteration information to storage took    0.016s\n",
      "DEBUG:openmmtools.multistate.multistatesampler:Not enough iterations for online analysis (self.online_analysis_minimum_iterations = 200)\n",
      "DEBUG:mpiplus.mpiplus:Single node: executing <function MultiStateSampler._online_analysis at 0x2ab1c4d1a3b0>\n",
      "DEBUG:openmmtools.multistate.multistatesampler:*** ONLINE analysis free energies:\n",
      "DEBUG:openmmtools.multistate.multistatesampler:        -0.0    16.7    17.0    17.0    17.0    17.0    17.0    17.0    17.0    17.0    17.0    17.0\n",
      "DEBUG:openmmtools.utils:Computing online free energy estimate took    0.006s\n",
      "DEBUG:openmmtools.multistate.multistatesampler:Iteration took 1.076s.\n",
      "DEBUG:openmmtools.multistate.multistatesampler:Estimated completion in 2:43:01.519000, at Tue Dec 15 17:38:59 2020 (consuming total wall clock time 2:43:11.310310).\n",
      "DEBUG:openmmtools.multistate.multistatesampler:********************************************************************************\n",
      "DEBUG:openmmtools.multistate.multistatesampler:Iteration 6/5000\n",
      "DEBUG:openmmtools.multistate.multistatesampler:********************************************************************************\n",
      "DEBUG:mpiplus.mpiplus:Single node: executing <function ReplicaExchangeSampler._mix_replicas at 0x2ab1c4d56f80>\n",
      "DEBUG:openmmtools.multistate.replicaexchange:Mixing replicas...\n",
      "DEBUG:openmmtools.utils:Mixing of replicas took    0.001s\n",
      "DEBUG:openmmtools.multistate.replicaexchange:Accepted 27204/41472 attempted swaps (65.6%)\n",
      "DEBUG:openmmtools.multistate.multistatesampler:Propagating all replicas...\n",
      "DEBUG:mpiplus.mpiplus:Running _propagate_replica serially.\n",
      "DEBUG:mpiplus.mpiplus:Running _get_replica_move_statistics serially.\n",
      "DEBUG:openmmtools.utils:Propagating all replicas took    0.969s\n",
      "DEBUG:mpiplus.mpiplus:Running _compute_replica_energies serially.\n",
      "DEBUG:openmmtools.utils:Computing energy matrix took    0.046s\n",
      "DEBUG:mpiplus.mpiplus:Single node: executing <function MultiStateSampler._report_iteration at 0x2ab1c4d17560>\n",
      "DEBUG:mpiplus.mpiplus:Single node: executing <function MultiStateSampler._report_iteration_items at 0x2ab1c4d17830>\n",
      "DEBUG:openmmtools.utils:Storing sampler states took    0.002s\n",
      "DEBUG:openmmtools.utils:Writing iteration information to storage took    0.015s\n",
      "DEBUG:openmmtools.multistate.multistatesampler:Not enough iterations for online analysis (self.online_analysis_minimum_iterations = 200)\n",
      "DEBUG:mpiplus.mpiplus:Single node: executing <function MultiStateSampler._online_analysis at 0x2ab1c4d1a3b0>\n",
      "DEBUG:openmmtools.multistate.multistatesampler:*** ONLINE analysis free energies:\n",
      "DEBUG:openmmtools.multistate.multistatesampler:        -0.0    18.3    18.7    18.7    18.7    18.7    18.7    18.7    18.7    18.7    18.7    18.7\n",
      "DEBUG:openmmtools.utils:Computing online free energy estimate took    0.005s\n",
      "DEBUG:openmmtools.multistate.multistatesampler:Iteration took 1.056s.\n",
      "DEBUG:openmmtools.multistate.multistatesampler:Estimated completion in 2:30:36.135475, at Tue Dec 15 17:26:35 2020 (consuming total wall clock time 2:30:46.991865).\n",
      "DEBUG:openmmtools.multistate.multistatesampler:********************************************************************************\n",
      "DEBUG:openmmtools.multistate.multistatesampler:Iteration 7/5000\n",
      "DEBUG:openmmtools.multistate.multistatesampler:********************************************************************************\n",
      "DEBUG:mpiplus.mpiplus:Single node: executing <function ReplicaExchangeSampler._mix_replicas at 0x2ab1c4d56f80>\n",
      "DEBUG:openmmtools.multistate.replicaexchange:Mixing replicas...\n",
      "DEBUG:openmmtools.utils:Mixing of replicas took    0.001s\n",
      "DEBUG:openmmtools.multistate.replicaexchange:Accepted 23606/41472 attempted swaps (56.9%)\n",
      "DEBUG:openmmtools.multistate.multistatesampler:Propagating all replicas...\n",
      "DEBUG:mpiplus.mpiplus:Running _propagate_replica serially.\n",
      "DEBUG:mpiplus.mpiplus:Running _get_replica_move_statistics serially.\n",
      "DEBUG:openmmtools.utils:Propagating all replicas took    0.959s\n",
      "DEBUG:mpiplus.mpiplus:Running _compute_replica_energies serially.\n",
      "DEBUG:openmmtools.utils:Computing energy matrix took    0.047s\n",
      "DEBUG:mpiplus.mpiplus:Single node: executing <function MultiStateSampler._report_iteration at 0x2ab1c4d17560>\n",
      "DEBUG:mpiplus.mpiplus:Single node: executing <function MultiStateSampler._report_iteration_items at 0x2ab1c4d17830>\n",
      "DEBUG:openmmtools.utils:Storing sampler states took    0.002s\n",
      "DEBUG:openmmtools.utils:Writing iteration information to storage took    0.015s\n",
      "DEBUG:openmmtools.multistate.multistatesampler:Not enough iterations for online analysis (self.online_analysis_minimum_iterations = 200)\n",
      "DEBUG:mpiplus.mpiplus:Single node: executing <function MultiStateSampler._online_analysis at 0x2ab1c4d1a3b0>\n",
      "DEBUG:openmmtools.multistate.multistatesampler:*** ONLINE analysis free energies:\n",
      "DEBUG:openmmtools.multistate.multistatesampler:        -0.0    19.7    20.2    20.2    20.2    20.2    20.2    20.2    20.2    20.2    20.2    20.2\n",
      "DEBUG:openmmtools.utils:Computing online free energy estimate took    0.006s\n",
      "DEBUG:openmmtools.multistate.multistatesampler:Iteration took 1.049s.\n",
      "DEBUG:openmmtools.multistate.multistatesampler:Estimated completion in 2:21:37.641486, at Tue Dec 15 17:17:38 2020 (consuming total wall clock time 2:21:49.554863).\n",
      "DEBUG:openmmtools.multistate.multistatesampler:********************************************************************************\n"
     ]
    },
    {
     "name": "stderr",
     "output_type": "stream",
     "text": [
      "DEBUG:openmmtools.multistate.multistatesampler:Iteration 8/5000\n",
      "DEBUG:openmmtools.multistate.multistatesampler:********************************************************************************\n",
      "DEBUG:mpiplus.mpiplus:Single node: executing <function ReplicaExchangeSampler._mix_replicas at 0x2ab1c4d56f80>\n",
      "DEBUG:openmmtools.multistate.replicaexchange:Mixing replicas...\n",
      "DEBUG:openmmtools.utils:Mixing of replicas took    0.001s\n",
      "DEBUG:openmmtools.multistate.replicaexchange:Accepted 25414/41472 attempted swaps (61.3%)\n",
      "DEBUG:openmmtools.multistate.multistatesampler:Propagating all replicas...\n",
      "DEBUG:mpiplus.mpiplus:Running _propagate_replica serially.\n",
      "DEBUG:mpiplus.mpiplus:Running _get_replica_move_statistics serially.\n",
      "DEBUG:openmmtools.utils:Propagating all replicas took    0.954s\n",
      "DEBUG:mpiplus.mpiplus:Running _compute_replica_energies serially.\n",
      "DEBUG:openmmtools.utils:Computing energy matrix took    0.046s\n",
      "DEBUG:mpiplus.mpiplus:Single node: executing <function MultiStateSampler._report_iteration at 0x2ab1c4d17560>\n",
      "DEBUG:mpiplus.mpiplus:Single node: executing <function MultiStateSampler._report_iteration_items at 0x2ab1c4d17830>\n",
      "DEBUG:openmmtools.utils:Storing sampler states took    0.002s\n",
      "DEBUG:openmmtools.utils:Writing iteration information to storage took    0.015s\n",
      "DEBUG:openmmtools.multistate.multistatesampler:Not enough iterations for online analysis (self.online_analysis_minimum_iterations = 200)\n",
      "DEBUG:mpiplus.mpiplus:Single node: executing <function MultiStateSampler._online_analysis at 0x2ab1c4d1a3b0>\n",
      "DEBUG:openmmtools.multistate.multistatesampler:*** ONLINE analysis free energies:\n",
      "DEBUG:openmmtools.multistate.multistatesampler:        -0.0    21.0    21.5    21.5    21.5    21.5    21.5    21.5    21.5    21.5    21.5    21.5\n",
      "DEBUG:openmmtools.utils:Computing online free energy estimate took    0.005s\n",
      "DEBUG:openmmtools.multistate.multistatesampler:Iteration took 1.040s.\n",
      "DEBUG:openmmtools.multistate.multistatesampler:Estimated completion in 2:14:48.246574, at Tue Dec 15 17:10:49 2020 (consuming total wall clock time 2:15:01.208508).\n",
      "DEBUG:openmmtools.multistate.multistatesampler:********************************************************************************\n",
      "DEBUG:openmmtools.multistate.multistatesampler:Iteration 9/5000\n",
      "DEBUG:openmmtools.multistate.multistatesampler:********************************************************************************\n",
      "DEBUG:mpiplus.mpiplus:Single node: executing <function ReplicaExchangeSampler._mix_replicas at 0x2ab1c4d56f80>\n",
      "DEBUG:openmmtools.multistate.replicaexchange:Mixing replicas...\n",
      "DEBUG:openmmtools.utils:Mixing of replicas took    0.001s\n",
      "DEBUG:openmmtools.multistate.replicaexchange:Accepted 25692/41472 attempted swaps (62.0%)\n",
      "DEBUG:openmmtools.multistate.multistatesampler:Propagating all replicas...\n",
      "DEBUG:mpiplus.mpiplus:Running _propagate_replica serially.\n",
      "DEBUG:mpiplus.mpiplus:Running _get_replica_move_statistics serially.\n",
      "DEBUG:openmmtools.utils:Propagating all replicas took    0.964s\n",
      "DEBUG:mpiplus.mpiplus:Running _compute_replica_energies serially.\n",
      "DEBUG:openmmtools.utils:Computing energy matrix took    0.047s\n",
      "DEBUG:mpiplus.mpiplus:Single node: executing <function MultiStateSampler._report_iteration at 0x2ab1c4d17560>\n",
      "DEBUG:mpiplus.mpiplus:Single node: executing <function MultiStateSampler._report_iteration_items at 0x2ab1c4d17830>\n",
      "DEBUG:openmmtools.utils:Storing sampler states took    0.002s\n",
      "DEBUG:openmmtools.utils:Writing iteration information to storage took    0.015s\n",
      "DEBUG:openmmtools.multistate.multistatesampler:Not enough iterations for online analysis (self.online_analysis_minimum_iterations = 200)\n",
      "DEBUG:mpiplus.mpiplus:Single node: executing <function MultiStateSampler._online_analysis at 0x2ab1c4d1a3b0>\n",
      "DEBUG:openmmtools.multistate.multistatesampler:*** ONLINE analysis free energies:\n",
      "DEBUG:openmmtools.multistate.multistatesampler:        -0.0    22.2    22.6    22.7    22.7    22.7    22.7    22.7    22.7    22.7    22.7    22.7\n",
      "DEBUG:openmmtools.utils:Computing online free energy estimate took    0.006s\n",
      "DEBUG:openmmtools.multistate.multistatesampler:Iteration took 1.053s.\n",
      "DEBUG:openmmtools.multistate.multistatesampler:Estimated completion in 2:09:36.692671, at Tue Dec 15 17:05:39 2020 (consuming total wall clock time 2:09:50.715959).\n",
      "DEBUG:openmmtools.multistate.multistatesampler:********************************************************************************\n",
      "DEBUG:openmmtools.multistate.multistatesampler:Iteration 10/5000\n",
      "DEBUG:openmmtools.multistate.multistatesampler:********************************************************************************\n",
      "DEBUG:mpiplus.mpiplus:Single node: executing <function ReplicaExchangeSampler._mix_replicas at 0x2ab1c4d56f80>\n",
      "DEBUG:openmmtools.multistate.replicaexchange:Mixing replicas...\n",
      "DEBUG:openmmtools.utils:Mixing of replicas took    0.001s\n",
      "DEBUG:openmmtools.multistate.replicaexchange:Accepted 25122/41472 attempted swaps (60.6%)\n",
      "DEBUG:openmmtools.multistate.multistatesampler:Propagating all replicas...\n",
      "DEBUG:mpiplus.mpiplus:Running _propagate_replica serially.\n",
      "DEBUG:mpiplus.mpiplus:Running _get_replica_move_statistics serially.\n",
      "DEBUG:openmmtools.utils:Propagating all replicas took    0.950s\n",
      "DEBUG:mpiplus.mpiplus:Running _compute_replica_energies serially.\n",
      "DEBUG:openmmtools.utils:Computing energy matrix took    0.045s\n",
      "DEBUG:mpiplus.mpiplus:Single node: executing <function MultiStateSampler._report_iteration at 0x2ab1c4d17560>\n",
      "DEBUG:mpiplus.mpiplus:Single node: executing <function MultiStateSampler._report_iteration_items at 0x2ab1c4d17830>\n",
      "DEBUG:openmmtools.utils:Storing sampler states took    0.002s\n",
      "DEBUG:openmmtools.utils:Writing iteration information to storage took    0.015s\n",
      "DEBUG:openmmtools.multistate.multistatesampler:Not enough iterations for online analysis (self.online_analysis_minimum_iterations = 200)\n",
      "DEBUG:mpiplus.mpiplus:Single node: executing <function MultiStateSampler._online_analysis at 0x2ab1c4d1a3b0>\n",
      "DEBUG:openmmtools.multistate.multistatesampler:*** ONLINE analysis free energies:\n",
      "DEBUG:openmmtools.multistate.multistatesampler:        -0.0    23.2    23.7    23.7    23.7    23.7    23.7    23.7    23.7    23.7    23.7    23.7\n",
      "DEBUG:openmmtools.utils:Computing online free energy estimate took    0.005s\n",
      "DEBUG:openmmtools.multistate.multistatesampler:Iteration took 1.036s.\n",
      "DEBUG:openmmtools.multistate.multistatesampler:Estimated completion in 2:05:18.718129, at Tue Dec 15 17:01:22 2020 (consuming total wall clock time 2:05:33.785701).\n",
      "DEBUG:openmmtools.multistate.multistatesampler:********************************************************************************\n",
      "DEBUG:openmmtools.multistate.multistatesampler:Iteration 11/5000\n",
      "DEBUG:openmmtools.multistate.multistatesampler:********************************************************************************\n",
      "DEBUG:mpiplus.mpiplus:Single node: executing <function ReplicaExchangeSampler._mix_replicas at 0x2ab1c4d56f80>\n",
      "DEBUG:openmmtools.multistate.replicaexchange:Mixing replicas...\n",
      "DEBUG:openmmtools.utils:Mixing of replicas took    0.001s\n",
      "DEBUG:openmmtools.multistate.replicaexchange:Accepted 23954/41472 attempted swaps (57.8%)\n",
      "DEBUG:openmmtools.multistate.multistatesampler:Propagating all replicas...\n",
      "DEBUG:mpiplus.mpiplus:Running _propagate_replica serially.\n",
      "DEBUG:mpiplus.mpiplus:Running _get_replica_move_statistics serially.\n",
      "DEBUG:openmmtools.utils:Propagating all replicas took    0.941s\n",
      "DEBUG:mpiplus.mpiplus:Running _compute_replica_energies serially.\n",
      "DEBUG:openmmtools.utils:Computing energy matrix took    0.046s\n",
      "DEBUG:mpiplus.mpiplus:Single node: executing <function MultiStateSampler._report_iteration at 0x2ab1c4d17560>\n",
      "DEBUG:mpiplus.mpiplus:Single node: executing <function MultiStateSampler._report_iteration_items at 0x2ab1c4d17830>\n",
      "DEBUG:openmmtools.utils:Storing sampler states took    0.002s\n",
      "DEBUG:openmmtools.utils:Writing iteration information to storage took    0.015s\n",
      "DEBUG:openmmtools.multistate.multistatesampler:Not enough iterations for online analysis (self.online_analysis_minimum_iterations = 200)\n",
      "DEBUG:mpiplus.mpiplus:Single node: executing <function MultiStateSampler._online_analysis at 0x2ab1c4d1a3b0>\n",
      "DEBUG:openmmtools.multistate.multistatesampler:*** ONLINE analysis free energies:\n"
     ]
    },
    {
     "name": "stderr",
     "output_type": "stream",
     "text": [
      "DEBUG:openmmtools.multistate.multistatesampler:        -0.0    24.2    24.7    24.7    24.7    24.7    24.7    24.7    24.7    24.7    24.7    24.7\n",
      "DEBUG:openmmtools.utils:Computing online free energy estimate took    0.005s\n",
      "DEBUG:openmmtools.multistate.multistatesampler:Iteration took 1.028s.\n",
      "DEBUG:openmmtools.multistate.multistatesampler:Estimated completion in 2:01:43.678044, at Tue Dec 15 16:57:48 2020 (consuming total wall clock time 2:01:59.781563).\n",
      "DEBUG:openmmtools.multistate.multistatesampler:********************************************************************************\n",
      "DEBUG:openmmtools.multistate.multistatesampler:Iteration 12/5000\n",
      "DEBUG:openmmtools.multistate.multistatesampler:********************************************************************************\n",
      "DEBUG:mpiplus.mpiplus:Single node: executing <function ReplicaExchangeSampler._mix_replicas at 0x2ab1c4d56f80>\n",
      "DEBUG:openmmtools.multistate.replicaexchange:Mixing replicas...\n",
      "DEBUG:openmmtools.utils:Mixing of replicas took    0.001s\n",
      "DEBUG:openmmtools.multistate.replicaexchange:Accepted 25166/41472 attempted swaps (60.7%)\n",
      "DEBUG:openmmtools.multistate.multistatesampler:Propagating all replicas...\n",
      "DEBUG:mpiplus.mpiplus:Running _propagate_replica serially.\n",
      "DEBUG:mpiplus.mpiplus:Running _get_replica_move_statistics serially.\n",
      "DEBUG:openmmtools.utils:Propagating all replicas took    0.952s\n",
      "DEBUG:mpiplus.mpiplus:Running _compute_replica_energies serially.\n",
      "DEBUG:openmmtools.utils:Computing energy matrix took    0.046s\n",
      "DEBUG:mpiplus.mpiplus:Single node: executing <function MultiStateSampler._report_iteration at 0x2ab1c4d17560>\n",
      "DEBUG:mpiplus.mpiplus:Single node: executing <function MultiStateSampler._report_iteration_items at 0x2ab1c4d17830>\n",
      "DEBUG:openmmtools.utils:Storing sampler states took    0.002s\n",
      "DEBUG:openmmtools.utils:Writing iteration information to storage took    0.015s\n",
      "DEBUG:openmmtools.multistate.multistatesampler:Not enough iterations for online analysis (self.online_analysis_minimum_iterations = 200)\n",
      "DEBUG:mpiplus.mpiplus:Single node: executing <function MultiStateSampler._online_analysis at 0x2ab1c4d1a3b0>\n",
      "DEBUG:openmmtools.multistate.multistatesampler:*** ONLINE analysis free energies:\n",
      "DEBUG:openmmtools.multistate.multistatesampler:        -0.0    25.1    25.6    25.6    25.6    25.6    25.6    25.6    25.6    25.6    25.6    25.6\n",
      "DEBUG:openmmtools.utils:Computing online free energy estimate took    0.006s\n",
      "DEBUG:openmmtools.multistate.multistatesampler:Iteration took 1.039s.\n",
      "DEBUG:openmmtools.multistate.multistatesampler:Estimated completion in 1:58:48.985041, at Tue Dec 15 16:54:54 2020 (consuming total wall clock time 1:59:06.135767).\n",
      "DEBUG:openmmtools.multistate.multistatesampler:********************************************************************************\n",
      "DEBUG:openmmtools.multistate.multistatesampler:Iteration 13/5000\n",
      "DEBUG:openmmtools.multistate.multistatesampler:********************************************************************************\n",
      "DEBUG:mpiplus.mpiplus:Single node: executing <function ReplicaExchangeSampler._mix_replicas at 0x2ab1c4d56f80>\n",
      "DEBUG:openmmtools.multistate.replicaexchange:Mixing replicas...\n",
      "DEBUG:openmmtools.utils:Mixing of replicas took    0.001s\n",
      "DEBUG:openmmtools.multistate.replicaexchange:Accepted 27676/41472 attempted swaps (66.7%)\n",
      "DEBUG:openmmtools.multistate.multistatesampler:Propagating all replicas...\n",
      "DEBUG:mpiplus.mpiplus:Running _propagate_replica serially.\n",
      "DEBUG:mpiplus.mpiplus:Running _get_replica_move_statistics serially.\n",
      "DEBUG:openmmtools.utils:Propagating all replicas took    0.946s\n",
      "DEBUG:mpiplus.mpiplus:Running _compute_replica_energies serially.\n",
      "DEBUG:openmmtools.utils:Computing energy matrix took    0.046s\n",
      "DEBUG:mpiplus.mpiplus:Single node: executing <function MultiStateSampler._report_iteration at 0x2ab1c4d17560>\n",
      "DEBUG:mpiplus.mpiplus:Single node: executing <function MultiStateSampler._report_iteration_items at 0x2ab1c4d17830>\n",
      "DEBUG:openmmtools.utils:Storing sampler states took    0.002s\n",
      "DEBUG:openmmtools.utils:Writing iteration information to storage took    0.015s\n",
      "DEBUG:openmmtools.multistate.multistatesampler:Not enough iterations for online analysis (self.online_analysis_minimum_iterations = 200)\n",
      "DEBUG:mpiplus.mpiplus:Single node: executing <function MultiStateSampler._online_analysis at 0x2ab1c4d1a3b0>\n",
      "DEBUG:openmmtools.multistate.multistatesampler:*** ONLINE analysis free energies:\n",
      "DEBUG:openmmtools.multistate.multistatesampler:        -0.0    25.9    26.4    26.4    26.4    26.4    26.4    26.4    26.4    26.4    26.4    26.4\n",
      "DEBUG:openmmtools.utils:Computing online free energy estimate took    0.005s\n",
      "DEBUG:openmmtools.multistate.multistatesampler:Iteration took 1.032s.\n",
      "DEBUG:openmmtools.multistate.multistatesampler:Estimated completion in 1:56:18.349651, at Tue Dec 15 16:52:25 2020 (consuming total wall clock time 1:56:36.540656).\n",
      "DEBUG:openmmtools.multistate.multistatesampler:********************************************************************************\n",
      "DEBUG:openmmtools.multistate.multistatesampler:Iteration 14/5000\n",
      "DEBUG:openmmtools.multistate.multistatesampler:********************************************************************************\n",
      "DEBUG:mpiplus.mpiplus:Single node: executing <function ReplicaExchangeSampler._mix_replicas at 0x2ab1c4d56f80>\n",
      "DEBUG:openmmtools.multistate.replicaexchange:Mixing replicas...\n",
      "DEBUG:openmmtools.utils:Mixing of replicas took    0.001s\n",
      "DEBUG:openmmtools.multistate.replicaexchange:Accepted 26336/41472 attempted swaps (63.5%)\n",
      "DEBUG:openmmtools.multistate.multistatesampler:Propagating all replicas...\n",
      "DEBUG:mpiplus.mpiplus:Running _propagate_replica serially.\n",
      "DEBUG:mpiplus.mpiplus:Running _get_replica_move_statistics serially.\n",
      "DEBUG:openmmtools.utils:Propagating all replicas took    0.948s\n",
      "DEBUG:mpiplus.mpiplus:Running _compute_replica_energies serially.\n",
      "DEBUG:openmmtools.utils:Computing energy matrix took    0.046s\n",
      "DEBUG:mpiplus.mpiplus:Single node: executing <function MultiStateSampler._report_iteration at 0x2ab1c4d17560>\n",
      "DEBUG:mpiplus.mpiplus:Single node: executing <function MultiStateSampler._report_iteration_items at 0x2ab1c4d17830>\n",
      "DEBUG:openmmtools.utils:Storing sampler states took    0.002s\n",
      "DEBUG:openmmtools.utils:Writing iteration information to storage took    0.015s\n",
      "DEBUG:openmmtools.multistate.multistatesampler:Not enough iterations for online analysis (self.online_analysis_minimum_iterations = 200)\n",
      "DEBUG:mpiplus.mpiplus:Single node: executing <function MultiStateSampler._online_analysis at 0x2ab1c4d1a3b0>\n",
      "DEBUG:openmmtools.multistate.multistatesampler:*** ONLINE analysis free energies:\n",
      "DEBUG:openmmtools.multistate.multistatesampler:        -0.0    26.6    27.2    27.2    27.2    27.2    27.2    27.2    27.2    27.2    27.2    27.2\n",
      "DEBUG:openmmtools.utils:Computing online free energy estimate took    0.005s\n",
      "DEBUG:openmmtools.multistate.multistatesampler:Iteration took 1.034s.\n",
      "DEBUG:openmmtools.multistate.multistatesampler:Estimated completion in 1:54:09.961697, at Tue Dec 15 16:50:17 2020 (consuming total wall clock time 1:54:29.195444).\n",
      "DEBUG:openmmtools.multistate.multistatesampler:********************************************************************************\n",
      "DEBUG:openmmtools.multistate.multistatesampler:Iteration 15/5000\n",
      "DEBUG:openmmtools.multistate.multistatesampler:********************************************************************************\n",
      "DEBUG:mpiplus.mpiplus:Single node: executing <function ReplicaExchangeSampler._mix_replicas at 0x2ab1c4d56f80>\n",
      "DEBUG:openmmtools.multistate.replicaexchange:Mixing replicas...\n",
      "DEBUG:openmmtools.utils:Mixing of replicas took    0.001s\n",
      "DEBUG:openmmtools.multistate.replicaexchange:Accepted 27090/41472 attempted swaps (65.3%)\n",
      "DEBUG:openmmtools.multistate.multistatesampler:Propagating all replicas...\n",
      "DEBUG:mpiplus.mpiplus:Running _propagate_replica serially.\n",
      "DEBUG:mpiplus.mpiplus:Running _get_replica_move_statistics serially.\n",
      "DEBUG:openmmtools.utils:Propagating all replicas took    0.954s\n",
      "DEBUG:mpiplus.mpiplus:Running _compute_replica_energies serially.\n",
      "DEBUG:openmmtools.utils:Computing energy matrix took    0.045s\n",
      "DEBUG:mpiplus.mpiplus:Single node: executing <function MultiStateSampler._report_iteration at 0x2ab1c4d17560>\n"
     ]
    },
    {
     "name": "stderr",
     "output_type": "stream",
     "text": [
      "DEBUG:mpiplus.mpiplus:Single node: executing <function MultiStateSampler._report_iteration_items at 0x2ab1c4d17830>\n",
      "DEBUG:openmmtools.utils:Storing sampler states took    0.002s\n",
      "DEBUG:openmmtools.utils:Writing iteration information to storage took    0.015s\n",
      "DEBUG:openmmtools.multistate.multistatesampler:Not enough iterations for online analysis (self.online_analysis_minimum_iterations = 200)\n",
      "DEBUG:mpiplus.mpiplus:Single node: executing <function MultiStateSampler._online_analysis at 0x2ab1c4d1a3b0>\n",
      "DEBUG:openmmtools.multistate.multistatesampler:*** ONLINE analysis free energies:\n",
      "DEBUG:openmmtools.multistate.multistatesampler:        -0.0    27.4    27.9    28.0    28.0    28.0    28.0    28.0    28.0    28.0    28.0    28.0\n",
      "DEBUG:openmmtools.utils:Computing online free energy estimate took    0.005s\n",
      "DEBUG:openmmtools.multistate.multistatesampler:Iteration took 1.040s.\n",
      "DEBUG:openmmtools.multistate.multistatesampler:Estimated completion in 1:52:20.396019, at Tue Dec 15 16:48:29 2020 (consuming total wall clock time 1:52:40.678053).\n",
      "DEBUG:openmmtools.multistate.multistatesampler:********************************************************************************\n",
      "DEBUG:openmmtools.multistate.multistatesampler:Iteration 16/5000\n",
      "DEBUG:openmmtools.multistate.multistatesampler:********************************************************************************\n",
      "DEBUG:mpiplus.mpiplus:Single node: executing <function ReplicaExchangeSampler._mix_replicas at 0x2ab1c4d56f80>\n",
      "DEBUG:openmmtools.multistate.replicaexchange:Mixing replicas...\n",
      "DEBUG:openmmtools.utils:Mixing of replicas took    0.001s\n",
      "DEBUG:openmmtools.multistate.replicaexchange:Accepted 27804/41472 attempted swaps (67.0%)\n",
      "DEBUG:openmmtools.multistate.multistatesampler:Propagating all replicas...\n",
      "DEBUG:mpiplus.mpiplus:Running _propagate_replica serially.\n",
      "DEBUG:mpiplus.mpiplus:Running _get_replica_move_statistics serially.\n",
      "DEBUG:openmmtools.utils:Propagating all replicas took    0.954s\n",
      "DEBUG:mpiplus.mpiplus:Running _compute_replica_energies serially.\n",
      "DEBUG:openmmtools.utils:Computing energy matrix took    0.046s\n",
      "DEBUG:mpiplus.mpiplus:Single node: executing <function MultiStateSampler._report_iteration at 0x2ab1c4d17560>\n",
      "DEBUG:mpiplus.mpiplus:Single node: executing <function MultiStateSampler._report_iteration_items at 0x2ab1c4d17830>\n",
      "DEBUG:openmmtools.utils:Storing sampler states took    0.002s\n",
      "DEBUG:openmmtools.utils:Writing iteration information to storage took    0.015s\n",
      "DEBUG:openmmtools.multistate.multistatesampler:Not enough iterations for online analysis (self.online_analysis_minimum_iterations = 200)\n",
      "DEBUG:mpiplus.mpiplus:Single node: executing <function MultiStateSampler._online_analysis at 0x2ab1c4d1a3b0>\n",
      "DEBUG:openmmtools.multistate.multistatesampler:*** ONLINE analysis free energies:\n",
      "DEBUG:openmmtools.multistate.multistatesampler:        -0.0    28.0    28.6    28.6    28.6    28.6    28.6    28.6    28.6    28.6    28.6    28.6\n",
      "DEBUG:openmmtools.utils:Computing online free energy estimate took    0.005s\n",
      "DEBUG:openmmtools.multistate.multistatesampler:Iteration took 1.041s.\n",
      "DEBUG:openmmtools.multistate.multistatesampler:Estimated completion in 1:50:44.624204, at Tue Dec 15 16:46:54 2020 (consuming total wall clock time 1:51:05.955260).\n",
      "DEBUG:openmmtools.multistate.multistatesampler:********************************************************************************\n",
      "DEBUG:openmmtools.multistate.multistatesampler:Iteration 17/5000\n",
      "DEBUG:openmmtools.multistate.multistatesampler:********************************************************************************\n",
      "DEBUG:mpiplus.mpiplus:Single node: executing <function ReplicaExchangeSampler._mix_replicas at 0x2ab1c4d56f80>\n",
      "DEBUG:openmmtools.multistate.replicaexchange:Mixing replicas...\n",
      "DEBUG:openmmtools.utils:Mixing of replicas took    0.001s\n",
      "DEBUG:openmmtools.multistate.replicaexchange:Accepted 25114/41472 attempted swaps (60.6%)\n",
      "DEBUG:openmmtools.multistate.multistatesampler:Propagating all replicas...\n",
      "DEBUG:mpiplus.mpiplus:Running _propagate_replica serially.\n",
      "DEBUG:mpiplus.mpiplus:Running _get_replica_move_statistics serially.\n",
      "DEBUG:openmmtools.utils:Propagating all replicas took    0.913s\n",
      "DEBUG:mpiplus.mpiplus:Running _compute_replica_energies serially.\n",
      "DEBUG:openmmtools.utils:Computing energy matrix took    0.046s\n",
      "DEBUG:mpiplus.mpiplus:Single node: executing <function MultiStateSampler._report_iteration at 0x2ab1c4d17560>\n",
      "DEBUG:mpiplus.mpiplus:Single node: executing <function MultiStateSampler._report_iteration_items at 0x2ab1c4d17830>\n",
      "DEBUG:openmmtools.utils:Storing sampler states took    0.002s\n",
      "DEBUG:openmmtools.utils:Writing iteration information to storage took    0.015s\n",
      "DEBUG:openmmtools.multistate.multistatesampler:Not enough iterations for online analysis (self.online_analysis_minimum_iterations = 200)\n",
      "DEBUG:mpiplus.mpiplus:Single node: executing <function MultiStateSampler._online_analysis at 0x2ab1c4d1a3b0>\n",
      "DEBUG:openmmtools.multistate.multistatesampler:*** ONLINE analysis free energies:\n",
      "DEBUG:openmmtools.multistate.multistatesampler:        -0.0    28.7    29.3    29.3    29.3    29.3    29.3    29.3    29.3    29.3    29.3    29.3\n",
      "DEBUG:openmmtools.utils:Computing online free energy estimate took    0.005s\n",
      "DEBUG:openmmtools.multistate.multistatesampler:Iteration took 0.999s.\n",
      "DEBUG:openmmtools.multistate.multistatesampler:Estimated completion in 1:49:07.729177, at Tue Dec 15 16:45:18 2020 (consuming total wall clock time 1:49:30.067406).\n",
      "DEBUG:openmmtools.multistate.multistatesampler:********************************************************************************\n",
      "DEBUG:openmmtools.multistate.multistatesampler:Iteration 18/5000\n",
      "DEBUG:openmmtools.multistate.multistatesampler:********************************************************************************\n",
      "DEBUG:mpiplus.mpiplus:Single node: executing <function ReplicaExchangeSampler._mix_replicas at 0x2ab1c4d56f80>\n",
      "DEBUG:openmmtools.multistate.replicaexchange:Mixing replicas...\n",
      "DEBUG:openmmtools.utils:Mixing of replicas took    0.001s\n",
      "DEBUG:openmmtools.multistate.replicaexchange:Accepted 27602/41472 attempted swaps (66.6%)\n",
      "DEBUG:openmmtools.multistate.multistatesampler:Propagating all replicas...\n",
      "DEBUG:mpiplus.mpiplus:Running _propagate_replica serially.\n",
      "DEBUG:mpiplus.mpiplus:Running _get_replica_move_statistics serially.\n",
      "DEBUG:openmmtools.utils:Propagating all replicas took    0.885s\n",
      "DEBUG:mpiplus.mpiplus:Running _compute_replica_energies serially.\n",
      "DEBUG:openmmtools.utils:Computing energy matrix took    0.046s\n",
      "DEBUG:mpiplus.mpiplus:Single node: executing <function MultiStateSampler._report_iteration at 0x2ab1c4d17560>\n",
      "DEBUG:mpiplus.mpiplus:Single node: executing <function MultiStateSampler._report_iteration_items at 0x2ab1c4d17830>\n",
      "DEBUG:openmmtools.utils:Storing sampler states took    0.002s\n",
      "DEBUG:openmmtools.utils:Writing iteration information to storage took    0.015s\n",
      "DEBUG:openmmtools.multistate.multistatesampler:Not enough iterations for online analysis (self.online_analysis_minimum_iterations = 200)\n",
      "DEBUG:mpiplus.mpiplus:Single node: executing <function MultiStateSampler._online_analysis at 0x2ab1c4d1a3b0>\n",
      "DEBUG:openmmtools.multistate.multistatesampler:*** ONLINE analysis free energies:\n",
      "DEBUG:openmmtools.multistate.multistatesampler:        -0.0    29.3    29.9    29.9    29.9    29.9    29.9    29.9    29.9    29.9    29.9    29.9\n",
      "DEBUG:openmmtools.utils:Computing online free energy estimate took    0.005s\n",
      "DEBUG:openmmtools.multistate.multistatesampler:Iteration took 0.971s.\n",
      "DEBUG:openmmtools.multistate.multistatesampler:Estimated completion in 1:47:33.855148, at Tue Dec 15 16:43:45 2020 (consuming total wall clock time 1:47:57.172971).\n",
      "DEBUG:openmmtools.multistate.multistatesampler:********************************************************************************\n",
      "DEBUG:openmmtools.multistate.multistatesampler:Iteration 19/5000\n",
      "DEBUG:openmmtools.multistate.multistatesampler:********************************************************************************\n",
      "DEBUG:mpiplus.mpiplus:Single node: executing <function ReplicaExchangeSampler._mix_replicas at 0x2ab1c4d56f80>\n",
      "DEBUG:openmmtools.multistate.replicaexchange:Mixing replicas...\n",
      "DEBUG:openmmtools.utils:Mixing of replicas took    0.001s\n",
      "DEBUG:openmmtools.multistate.replicaexchange:Accepted 29492/41472 attempted swaps (71.1%)\n"
     ]
    },
    {
     "name": "stderr",
     "output_type": "stream",
     "text": [
      "DEBUG:openmmtools.multistate.multistatesampler:Propagating all replicas...\n",
      "DEBUG:mpiplus.mpiplus:Running _propagate_replica serially.\n",
      "DEBUG:mpiplus.mpiplus:Running _get_replica_move_statistics serially.\n",
      "DEBUG:openmmtools.utils:Propagating all replicas took    0.883s\n",
      "DEBUG:mpiplus.mpiplus:Running _compute_replica_energies serially.\n",
      "DEBUG:openmmtools.utils:Computing energy matrix took    0.046s\n",
      "DEBUG:mpiplus.mpiplus:Single node: executing <function MultiStateSampler._report_iteration at 0x2ab1c4d17560>\n",
      "DEBUG:mpiplus.mpiplus:Single node: executing <function MultiStateSampler._report_iteration_items at 0x2ab1c4d17830>\n",
      "DEBUG:openmmtools.utils:Storing sampler states took    0.002s\n",
      "DEBUG:openmmtools.utils:Writing iteration information to storage took    0.015s\n",
      "DEBUG:openmmtools.multistate.multistatesampler:Not enough iterations for online analysis (self.online_analysis_minimum_iterations = 200)\n",
      "DEBUG:mpiplus.mpiplus:Single node: executing <function MultiStateSampler._online_analysis at 0x2ab1c4d1a3b0>\n",
      "DEBUG:openmmtools.multistate.multistatesampler:*** ONLINE analysis free energies:\n",
      "DEBUG:openmmtools.multistate.multistatesampler:        -0.0    29.8    30.5    30.5    30.5    30.5    30.5    30.5    30.5    30.5    30.5    30.5\n",
      "DEBUG:openmmtools.utils:Computing online free energy estimate took    0.005s\n",
      "DEBUG:openmmtools.multistate.multistatesampler:Iteration took 0.969s.\n",
      "DEBUG:openmmtools.multistate.multistatesampler:Estimated completion in 1:46:09.632162, at Tue Dec 15 16:42:22 2020 (consuming total wall clock time 1:46:33.929093).\n",
      "DEBUG:openmmtools.multistate.multistatesampler:********************************************************************************\n",
      "DEBUG:openmmtools.multistate.multistatesampler:Iteration 20/5000\n",
      "DEBUG:openmmtools.multistate.multistatesampler:********************************************************************************\n",
      "DEBUG:mpiplus.mpiplus:Single node: executing <function ReplicaExchangeSampler._mix_replicas at 0x2ab1c4d56f80>\n",
      "DEBUG:openmmtools.multistate.replicaexchange:Mixing replicas...\n",
      "DEBUG:openmmtools.utils:Mixing of replicas took    0.001s\n",
      "DEBUG:openmmtools.multistate.replicaexchange:Accepted 24716/41472 attempted swaps (59.6%)\n",
      "DEBUG:openmmtools.multistate.multistatesampler:Propagating all replicas...\n",
      "DEBUG:mpiplus.mpiplus:Running _propagate_replica serially.\n",
      "DEBUG:mpiplus.mpiplus:Running _get_replica_move_statistics serially.\n",
      "DEBUG:openmmtools.utils:Propagating all replicas took    0.888s\n",
      "DEBUG:mpiplus.mpiplus:Running _compute_replica_energies serially.\n",
      "DEBUG:openmmtools.utils:Computing energy matrix took    0.046s\n",
      "DEBUG:mpiplus.mpiplus:Single node: executing <function MultiStateSampler._report_iteration at 0x2ab1c4d17560>\n",
      "DEBUG:mpiplus.mpiplus:Single node: executing <function MultiStateSampler._report_iteration_items at 0x2ab1c4d17830>\n",
      "DEBUG:openmmtools.utils:Storing sampler states took    0.002s\n",
      "DEBUG:openmmtools.utils:Writing iteration information to storage took    0.015s\n",
      "DEBUG:openmmtools.multistate.multistatesampler:Not enough iterations for online analysis (self.online_analysis_minimum_iterations = 200)\n",
      "DEBUG:mpiplus.mpiplus:Single node: executing <function MultiStateSampler._online_analysis at 0x2ab1c4d1a3b0>\n",
      "DEBUG:openmmtools.multistate.multistatesampler:*** ONLINE analysis free energies:\n",
      "DEBUG:openmmtools.multistate.multistatesampler:        -0.0    30.4    31.0    31.1    31.1    31.1    31.1    31.1    31.1    31.1    31.1    31.1\n",
      "DEBUG:openmmtools.utils:Computing online free energy estimate took    0.005s\n",
      "DEBUG:openmmtools.multistate.multistatesampler:Iteration took 0.975s.\n",
      "DEBUG:openmmtools.multistate.multistatesampler:Estimated completion in 1:44:54.760124, at Tue Dec 15 16:41:08 2020 (consuming total wall clock time 1:45:20.040286).\n",
      "DEBUG:openmmtools.multistate.multistatesampler:********************************************************************************\n",
      "DEBUG:openmmtools.multistate.multistatesampler:Iteration 21/5000\n",
      "DEBUG:openmmtools.multistate.multistatesampler:********************************************************************************\n",
      "DEBUG:mpiplus.mpiplus:Single node: executing <function ReplicaExchangeSampler._mix_replicas at 0x2ab1c4d56f80>\n",
      "DEBUG:openmmtools.multistate.replicaexchange:Mixing replicas...\n",
      "DEBUG:openmmtools.utils:Mixing of replicas took    0.001s\n",
      "DEBUG:openmmtools.multistate.replicaexchange:Accepted 24894/41472 attempted swaps (60.0%)\n",
      "DEBUG:openmmtools.multistate.multistatesampler:Propagating all replicas...\n",
      "DEBUG:mpiplus.mpiplus:Running _propagate_replica serially.\n",
      "DEBUG:mpiplus.mpiplus:Running _get_replica_move_statistics serially.\n",
      "DEBUG:openmmtools.utils:Propagating all replicas took    0.889s\n",
      "DEBUG:mpiplus.mpiplus:Running _compute_replica_energies serially.\n",
      "DEBUG:openmmtools.utils:Computing energy matrix took    0.046s\n",
      "DEBUG:mpiplus.mpiplus:Single node: executing <function MultiStateSampler._report_iteration at 0x2ab1c4d17560>\n",
      "DEBUG:mpiplus.mpiplus:Single node: executing <function MultiStateSampler._report_iteration_items at 0x2ab1c4d17830>\n",
      "DEBUG:openmmtools.utils:Storing sampler states took    0.002s\n",
      "DEBUG:openmmtools.utils:Writing iteration information to storage took    0.015s\n",
      "DEBUG:openmmtools.multistate.multistatesampler:Not enough iterations for online analysis (self.online_analysis_minimum_iterations = 200)\n",
      "DEBUG:mpiplus.mpiplus:Single node: executing <function MultiStateSampler._online_analysis at 0x2ab1c4d1a3b0>\n",
      "DEBUG:openmmtools.multistate.multistatesampler:*** ONLINE analysis free energies:\n",
      "DEBUG:openmmtools.multistate.multistatesampler:        -0.0    30.9    31.6    31.6    31.6    31.6    31.6    31.6    31.6    31.6    31.6    31.6\n",
      "DEBUG:openmmtools.utils:Computing online free energy estimate took    0.006s\n",
      "DEBUG:openmmtools.multistate.multistatesampler:Iteration took 0.976s.\n",
      "DEBUG:openmmtools.multistate.multistatesampler:Estimated completion in 1:43:47.239411, at Tue Dec 15 16:40:02 2020 (consuming total wall clock time 1:44:13.504129).\n",
      "DEBUG:openmmtools.multistate.multistatesampler:********************************************************************************\n",
      "DEBUG:openmmtools.multistate.multistatesampler:Iteration 22/5000\n",
      "DEBUG:openmmtools.multistate.multistatesampler:********************************************************************************\n",
      "DEBUG:mpiplus.mpiplus:Single node: executing <function ReplicaExchangeSampler._mix_replicas at 0x2ab1c4d56f80>\n",
      "DEBUG:openmmtools.multistate.replicaexchange:Mixing replicas...\n",
      "DEBUG:openmmtools.utils:Mixing of replicas took    0.001s\n",
      "DEBUG:openmmtools.multistate.replicaexchange:Accepted 24452/41472 attempted swaps (59.0%)\n",
      "DEBUG:openmmtools.multistate.multistatesampler:Propagating all replicas...\n",
      "DEBUG:mpiplus.mpiplus:Running _propagate_replica serially.\n",
      "DEBUG:mpiplus.mpiplus:Running _get_replica_move_statistics serially.\n",
      "DEBUG:openmmtools.utils:Propagating all replicas took    0.939s\n",
      "DEBUG:mpiplus.mpiplus:Running _compute_replica_energies serially.\n",
      "DEBUG:openmmtools.utils:Computing energy matrix took    0.046s\n",
      "DEBUG:mpiplus.mpiplus:Single node: executing <function MultiStateSampler._report_iteration at 0x2ab1c4d17560>\n",
      "DEBUG:mpiplus.mpiplus:Single node: executing <function MultiStateSampler._report_iteration_items at 0x2ab1c4d17830>\n",
      "DEBUG:openmmtools.utils:Storing sampler states took    0.002s\n",
      "DEBUG:openmmtools.utils:Writing iteration information to storage took    0.015s\n",
      "DEBUG:openmmtools.multistate.multistatesampler:Not enough iterations for online analysis (self.online_analysis_minimum_iterations = 200)\n",
      "DEBUG:mpiplus.mpiplus:Single node: executing <function MultiStateSampler._online_analysis at 0x2ab1c4d1a3b0>\n",
      "DEBUG:openmmtools.multistate.multistatesampler:*** ONLINE analysis free energies:\n",
      "DEBUG:openmmtools.multistate.multistatesampler:        -0.0    31.4    32.1    32.1    32.1    32.1    32.1    32.1    32.1    32.1    32.1    32.1\n",
      "DEBUG:openmmtools.utils:Computing online free energy estimate took    0.005s\n",
      "DEBUG:openmmtools.multistate.multistatesampler:Iteration took 1.026s.\n",
      "DEBUG:openmmtools.multistate.multistatesampler:Estimated completion in 1:42:56.964161, at Tue Dec 15 16:39:12 2020 (consuming total wall clock time 1:43:24.262918).\n",
      "DEBUG:openmmtools.multistate.multistatesampler:********************************************************************************\n"
     ]
    },
    {
     "name": "stderr",
     "output_type": "stream",
     "text": [
      "DEBUG:openmmtools.multistate.multistatesampler:Iteration 23/5000\n",
      "DEBUG:openmmtools.multistate.multistatesampler:********************************************************************************\n",
      "DEBUG:mpiplus.mpiplus:Single node: executing <function ReplicaExchangeSampler._mix_replicas at 0x2ab1c4d56f80>\n",
      "DEBUG:openmmtools.multistate.replicaexchange:Mixing replicas...\n",
      "DEBUG:openmmtools.utils:Mixing of replicas took    0.001s\n",
      "DEBUG:openmmtools.multistate.replicaexchange:Accepted 23556/41472 attempted swaps (56.8%)\n",
      "DEBUG:openmmtools.multistate.multistatesampler:Propagating all replicas...\n",
      "DEBUG:mpiplus.mpiplus:Running _propagate_replica serially.\n",
      "DEBUG:mpiplus.mpiplus:Running _get_replica_move_statistics serially.\n",
      "DEBUG:openmmtools.utils:Propagating all replicas took    0.938s\n",
      "DEBUG:mpiplus.mpiplus:Running _compute_replica_energies serially.\n",
      "DEBUG:openmmtools.utils:Computing energy matrix took    0.046s\n",
      "DEBUG:mpiplus.mpiplus:Single node: executing <function MultiStateSampler._report_iteration at 0x2ab1c4d17560>\n",
      "DEBUG:mpiplus.mpiplus:Single node: executing <function MultiStateSampler._report_iteration_items at 0x2ab1c4d17830>\n",
      "DEBUG:openmmtools.utils:Storing sampler states took    0.002s\n",
      "DEBUG:openmmtools.utils:Writing iteration information to storage took    0.015s\n",
      "DEBUG:openmmtools.multistate.multistatesampler:Not enough iterations for online analysis (self.online_analysis_minimum_iterations = 200)\n",
      "DEBUG:mpiplus.mpiplus:Single node: executing <function MultiStateSampler._online_analysis at 0x2ab1c4d1a3b0>\n",
      "DEBUG:openmmtools.multistate.multistatesampler:*** ONLINE analysis free energies:\n",
      "DEBUG:openmmtools.multistate.multistatesampler:        -0.0    31.9    32.6    32.6    32.6    32.6    32.6    32.6    32.6    32.6    32.6    32.6\n",
      "DEBUG:openmmtools.utils:Computing online free energy estimate took    0.005s\n",
      "DEBUG:openmmtools.multistate.multistatesampler:Iteration took 1.024s.\n",
      "DEBUG:openmmtools.multistate.multistatesampler:Estimated completion in 1:42:10.602390, at Tue Dec 15 16:38:27 2020 (consuming total wall clock time 1:42:38.933484).\n",
      "DEBUG:openmmtools.multistate.multistatesampler:********************************************************************************\n",
      "DEBUG:openmmtools.multistate.multistatesampler:Iteration 24/5000\n",
      "DEBUG:openmmtools.multistate.multistatesampler:********************************************************************************\n",
      "DEBUG:mpiplus.mpiplus:Single node: executing <function ReplicaExchangeSampler._mix_replicas at 0x2ab1c4d56f80>\n",
      "DEBUG:openmmtools.multistate.replicaexchange:Mixing replicas...\n",
      "DEBUG:openmmtools.utils:Mixing of replicas took    0.001s\n",
      "DEBUG:openmmtools.multistate.replicaexchange:Accepted 24196/41472 attempted swaps (58.3%)\n",
      "DEBUG:openmmtools.multistate.multistatesampler:Propagating all replicas...\n",
      "DEBUG:mpiplus.mpiplus:Running _propagate_replica serially.\n",
      "DEBUG:mpiplus.mpiplus:Running _get_replica_move_statistics serially.\n",
      "DEBUG:openmmtools.utils:Propagating all replicas took    0.948s\n",
      "DEBUG:mpiplus.mpiplus:Running _compute_replica_energies serially.\n",
      "DEBUG:openmmtools.utils:Computing energy matrix took    0.045s\n",
      "DEBUG:mpiplus.mpiplus:Single node: executing <function MultiStateSampler._report_iteration at 0x2ab1c4d17560>\n",
      "DEBUG:mpiplus.mpiplus:Single node: executing <function MultiStateSampler._report_iteration_items at 0x2ab1c4d17830>\n",
      "DEBUG:openmmtools.utils:Storing sampler states took    0.002s\n",
      "DEBUG:openmmtools.utils:Writing iteration information to storage took    0.015s\n",
      "DEBUG:openmmtools.multistate.multistatesampler:Not enough iterations for online analysis (self.online_analysis_minimum_iterations = 200)\n",
      "DEBUG:mpiplus.mpiplus:Single node: executing <function MultiStateSampler._online_analysis at 0x2ab1c4d1a3b0>\n",
      "DEBUG:openmmtools.multistate.multistatesampler:*** ONLINE analysis free energies:\n",
      "DEBUG:openmmtools.multistate.multistatesampler:        -0.0    32.4    33.0    33.1    33.1    33.1    33.1    33.1    33.1    33.1    33.1    33.1\n",
      "DEBUG:openmmtools.utils:Computing online free energy estimate took    0.005s\n",
      "DEBUG:openmmtools.multistate.multistatesampler:Iteration took 1.033s.\n",
      "DEBUG:openmmtools.multistate.multistatesampler:Estimated completion in 1:41:29.989227, at Tue Dec 15 16:37:47 2020 (consuming total wall clock time 1:41:59.362166).\n",
      "DEBUG:openmmtools.multistate.multistatesampler:********************************************************************************\n",
      "DEBUG:openmmtools.multistate.multistatesampler:Iteration 25/5000\n",
      "DEBUG:openmmtools.multistate.multistatesampler:********************************************************************************\n",
      "DEBUG:mpiplus.mpiplus:Single node: executing <function ReplicaExchangeSampler._mix_replicas at 0x2ab1c4d56f80>\n",
      "DEBUG:openmmtools.multistate.replicaexchange:Mixing replicas...\n",
      "DEBUG:openmmtools.utils:Mixing of replicas took    0.001s\n",
      "DEBUG:openmmtools.multistate.replicaexchange:Accepted 30240/41472 attempted swaps (72.9%)\n",
      "DEBUG:openmmtools.multistate.multistatesampler:Propagating all replicas...\n",
      "DEBUG:mpiplus.mpiplus:Running _propagate_replica serially.\n",
      "DEBUG:mpiplus.mpiplus:Running _get_replica_move_statistics serially.\n",
      "DEBUG:openmmtools.utils:Propagating all replicas took    0.946s\n",
      "DEBUG:mpiplus.mpiplus:Running _compute_replica_energies serially.\n",
      "DEBUG:openmmtools.utils:Computing energy matrix took    0.046s\n",
      "DEBUG:mpiplus.mpiplus:Single node: executing <function MultiStateSampler._report_iteration at 0x2ab1c4d17560>\n",
      "DEBUG:mpiplus.mpiplus:Single node: executing <function MultiStateSampler._report_iteration_items at 0x2ab1c4d17830>\n",
      "DEBUG:openmmtools.utils:Storing sampler states took    0.002s\n",
      "DEBUG:openmmtools.utils:Writing iteration information to storage took    0.015s\n",
      "DEBUG:openmmtools.multistate.multistatesampler:Not enough iterations for online analysis (self.online_analysis_minimum_iterations = 200)\n",
      "DEBUG:mpiplus.mpiplus:Single node: executing <function MultiStateSampler._online_analysis at 0x2ab1c4d1a3b0>\n",
      "DEBUG:openmmtools.multistate.multistatesampler:*** ONLINE analysis free energies:\n",
      "DEBUG:openmmtools.multistate.multistatesampler:        -0.0    32.8    33.5    33.5    33.5    33.5    33.5    33.5    33.5    33.5    33.5    33.5\n",
      "DEBUG:openmmtools.utils:Computing online free energy estimate took    0.005s\n",
      "DEBUG:openmmtools.multistate.multistatesampler:Iteration took 1.032s.\n",
      "DEBUG:openmmtools.multistate.multistatesampler:Estimated completion in 1:40:52.272755, at Tue Dec 15 16:37:11 2020 (consuming total wall clock time 1:41:22.686186).\n",
      "DEBUG:openmmtools.multistate.multistatesampler:********************************************************************************\n",
      "DEBUG:openmmtools.multistate.multistatesampler:Iteration 26/5000\n",
      "DEBUG:openmmtools.multistate.multistatesampler:********************************************************************************\n",
      "DEBUG:mpiplus.mpiplus:Single node: executing <function ReplicaExchangeSampler._mix_replicas at 0x2ab1c4d56f80>\n",
      "DEBUG:openmmtools.multistate.replicaexchange:Mixing replicas...\n",
      "DEBUG:openmmtools.utils:Mixing of replicas took    0.001s\n",
      "DEBUG:openmmtools.multistate.replicaexchange:Accepted 23278/41472 attempted swaps (56.1%)\n",
      "DEBUG:openmmtools.multistate.multistatesampler:Propagating all replicas...\n",
      "DEBUG:mpiplus.mpiplus:Running _propagate_replica serially.\n",
      "DEBUG:mpiplus.mpiplus:Running _get_replica_move_statistics serially.\n",
      "DEBUG:openmmtools.utils:Propagating all replicas took    0.964s\n",
      "DEBUG:mpiplus.mpiplus:Running _compute_replica_energies serially.\n"
     ]
    },
    {
     "ename": "KeyboardInterrupt",
     "evalue": "",
     "output_type": "error",
     "traceback": [
      "\u001b[0;31m---------------------------------------------------------------------------\u001b[0m",
      "\u001b[0;31mKeyboardInterrupt\u001b[0m                         Traceback (most recent call last)",
      "\u001b[0;32m<ipython-input-14-4d29e6db6e16>\u001b[0m in \u001b[0;36m<module>\u001b[0;34m\u001b[0m\n\u001b[1;32m     10\u001b[0m                   \u001b[0msampler_states\u001b[0m\u001b[0;34m=\u001b[0m\u001b[0msampler_state\u001b[0m\u001b[0;34m,\u001b[0m\u001b[0;34m\u001b[0m\u001b[0;34m\u001b[0m\u001b[0m\n\u001b[1;32m     11\u001b[0m                   storage=reporter)\n\u001b[0;32m---> 12\u001b[0;31m \u001b[0msimulation\u001b[0m\u001b[0;34m.\u001b[0m\u001b[0mrun\u001b[0m\u001b[0;34m(\u001b[0m\u001b[0;34m)\u001b[0m\u001b[0;34m\u001b[0m\u001b[0;34m\u001b[0m\u001b[0m\n\u001b[0m",
      "\u001b[0;32m~/miniconda3/envs/perses-sims-oct2020/lib/python3.7/site-packages/openmmtools-0.20.0+19.g27982a0.dirty-py3.7-linux-x86_64.egg/openmmtools/multistate/multistatesampler.py\u001b[0m in \u001b[0;36mrun\u001b[0;34m(self, n_iterations)\u001b[0m\n\u001b[1;32m    682\u001b[0m \u001b[0;34m\u001b[0m\u001b[0m\n\u001b[1;32m    683\u001b[0m             \u001b[0;31m# Compute energies of all replicas at all states\u001b[0m\u001b[0;34m\u001b[0m\u001b[0;34m\u001b[0m\u001b[0;34m\u001b[0m\u001b[0m\n\u001b[0;32m--> 684\u001b[0;31m             \u001b[0mself\u001b[0m\u001b[0;34m.\u001b[0m\u001b[0m_compute_energies\u001b[0m\u001b[0;34m(\u001b[0m\u001b[0;34m)\u001b[0m\u001b[0;34m\u001b[0m\u001b[0;34m\u001b[0m\u001b[0m\n\u001b[0m\u001b[1;32m    685\u001b[0m \u001b[0;34m\u001b[0m\u001b[0m\n\u001b[1;32m    686\u001b[0m             \u001b[0;31m# Write iteration to storage file\u001b[0m\u001b[0;34m\u001b[0m\u001b[0;34m\u001b[0m\u001b[0;34m\u001b[0m\u001b[0m\n",
      "\u001b[0;32m~/miniconda3/envs/perses-sims-oct2020/lib/python3.7/site-packages/openmmtools-0.20.0+19.g27982a0.dirty-py3.7-linux-x86_64.egg/openmmtools/utils.py\u001b[0m in \u001b[0;36m_wrapper\u001b[0;34m(*args, **kwargs)\u001b[0m\n\u001b[1;32m     85\u001b[0m         \u001b[0;32mdef\u001b[0m \u001b[0m_wrapper\u001b[0m\u001b[0;34m(\u001b[0m\u001b[0;34m*\u001b[0m\u001b[0margs\u001b[0m\u001b[0;34m,\u001b[0m \u001b[0;34m**\u001b[0m\u001b[0mkwargs\u001b[0m\u001b[0;34m)\u001b[0m\u001b[0;34m:\u001b[0m\u001b[0;34m\u001b[0m\u001b[0;34m\u001b[0m\u001b[0m\n\u001b[1;32m     86\u001b[0m             \u001b[0;32mwith\u001b[0m \u001b[0mtime_it\u001b[0m\u001b[0;34m(\u001b[0m\u001b[0mtask_name\u001b[0m\u001b[0;34m)\u001b[0m\u001b[0;34m:\u001b[0m\u001b[0;34m\u001b[0m\u001b[0;34m\u001b[0m\u001b[0m\n\u001b[0;32m---> 87\u001b[0;31m                 \u001b[0;32mreturn\u001b[0m \u001b[0mfunc\u001b[0m\u001b[0;34m(\u001b[0m\u001b[0;34m*\u001b[0m\u001b[0margs\u001b[0m\u001b[0;34m,\u001b[0m \u001b[0;34m**\u001b[0m\u001b[0mkwargs\u001b[0m\u001b[0;34m)\u001b[0m\u001b[0;34m\u001b[0m\u001b[0;34m\u001b[0m\u001b[0m\n\u001b[0m\u001b[1;32m     88\u001b[0m         \u001b[0;32mreturn\u001b[0m \u001b[0m_wrapper\u001b[0m\u001b[0;34m\u001b[0m\u001b[0;34m\u001b[0m\u001b[0m\n\u001b[1;32m     89\u001b[0m     \u001b[0;32mreturn\u001b[0m \u001b[0m_with_timer\u001b[0m\u001b[0;34m\u001b[0m\u001b[0;34m\u001b[0m\u001b[0m\n",
      "\u001b[0;32m~/miniconda3/envs/perses-sims-oct2020/lib/python3.7/site-packages/openmmtools-0.20.0+19.g27982a0.dirty-py3.7-linux-x86_64.egg/openmmtools/multistate/multistatesampler.py\u001b[0m in \u001b[0;36m_compute_energies\u001b[0;34m(self)\u001b[0m\n\u001b[1;32m   1317\u001b[0m         \u001b[0;31m# all the energies since it needs to store them and mix states.\u001b[0m\u001b[0;34m\u001b[0m\u001b[0;34m\u001b[0m\u001b[0;34m\u001b[0m\u001b[0m\n\u001b[1;32m   1318\u001b[0m         new_energies, replica_ids = mpiplus.distribute(self._compute_replica_energies, range(self.n_replicas),\n\u001b[0;32m-> 1319\u001b[0;31m                                                    send_results_to=0)\n\u001b[0m\u001b[1;32m   1320\u001b[0m \u001b[0;34m\u001b[0m\u001b[0m\n\u001b[1;32m   1321\u001b[0m         \u001b[0;31m# Update energy matrices. Non-0 nodes update only the energies computed by this replica.\u001b[0m\u001b[0;34m\u001b[0m\u001b[0;34m\u001b[0m\u001b[0;34m\u001b[0m\u001b[0m\n",
      "\u001b[0;32m~/miniconda3/envs/perses-sims-oct2020/lib/python3.7/site-packages/mpiplus/mpiplus.py\u001b[0m in \u001b[0;36mdistribute\u001b[0;34m(task, distributed_args, send_results_to, propagate_exceptions_to, sync_nodes, group_size, *other_args, **kwargs)\u001b[0m\n\u001b[1;32m    510\u001b[0m     \u001b[0;32mif\u001b[0m \u001b[0mget_mpicomm\u001b[0m\u001b[0;34m(\u001b[0m\u001b[0;34m)\u001b[0m \u001b[0;32mis\u001b[0m \u001b[0;32mNone\u001b[0m\u001b[0;34m:\u001b[0m\u001b[0;34m\u001b[0m\u001b[0;34m\u001b[0m\u001b[0m\n\u001b[1;32m    511\u001b[0m         \u001b[0mlogger\u001b[0m\u001b[0;34m.\u001b[0m\u001b[0mdebug\u001b[0m\u001b[0;34m(\u001b[0m\u001b[0;34m'Running {} serially.'\u001b[0m\u001b[0;34m.\u001b[0m\u001b[0mformat\u001b[0m\u001b[0;34m(\u001b[0m\u001b[0mtask\u001b[0m\u001b[0;34m.\u001b[0m\u001b[0m__name__\u001b[0m\u001b[0;34m)\u001b[0m\u001b[0;34m)\u001b[0m\u001b[0;34m\u001b[0m\u001b[0;34m\u001b[0m\u001b[0m\n\u001b[0;32m--> 512\u001b[0;31m         \u001b[0mall_results\u001b[0m \u001b[0;34m=\u001b[0m \u001b[0;34m[\u001b[0m\u001b[0mtask\u001b[0m\u001b[0;34m(\u001b[0m\u001b[0mjob_args\u001b[0m\u001b[0;34m,\u001b[0m \u001b[0;34m*\u001b[0m\u001b[0mother_args\u001b[0m\u001b[0;34m,\u001b[0m \u001b[0;34m**\u001b[0m\u001b[0mkwargs\u001b[0m\u001b[0;34m)\u001b[0m \u001b[0;32mfor\u001b[0m \u001b[0mjob_args\u001b[0m \u001b[0;32min\u001b[0m \u001b[0mdistributed_args\u001b[0m\u001b[0;34m]\u001b[0m\u001b[0;34m\u001b[0m\u001b[0;34m\u001b[0m\u001b[0m\n\u001b[0m\u001b[1;32m    513\u001b[0m         \u001b[0;32mif\u001b[0m \u001b[0msend_results_to\u001b[0m \u001b[0;34m==\u001b[0m \u001b[0;34m'all'\u001b[0m\u001b[0;34m:\u001b[0m\u001b[0;34m\u001b[0m\u001b[0;34m\u001b[0m\u001b[0m\n\u001b[1;32m    514\u001b[0m             \u001b[0;32mreturn\u001b[0m \u001b[0mall_results\u001b[0m\u001b[0;34m\u001b[0m\u001b[0;34m\u001b[0m\u001b[0m\n",
      "\u001b[0;32m~/miniconda3/envs/perses-sims-oct2020/lib/python3.7/site-packages/mpiplus/mpiplus.py\u001b[0m in \u001b[0;36m<listcomp>\u001b[0;34m(.0)\u001b[0m\n\u001b[1;32m    510\u001b[0m     \u001b[0;32mif\u001b[0m \u001b[0mget_mpicomm\u001b[0m\u001b[0;34m(\u001b[0m\u001b[0;34m)\u001b[0m \u001b[0;32mis\u001b[0m \u001b[0;32mNone\u001b[0m\u001b[0;34m:\u001b[0m\u001b[0;34m\u001b[0m\u001b[0;34m\u001b[0m\u001b[0m\n\u001b[1;32m    511\u001b[0m         \u001b[0mlogger\u001b[0m\u001b[0;34m.\u001b[0m\u001b[0mdebug\u001b[0m\u001b[0;34m(\u001b[0m\u001b[0;34m'Running {} serially.'\u001b[0m\u001b[0;34m.\u001b[0m\u001b[0mformat\u001b[0m\u001b[0;34m(\u001b[0m\u001b[0mtask\u001b[0m\u001b[0;34m.\u001b[0m\u001b[0m__name__\u001b[0m\u001b[0;34m)\u001b[0m\u001b[0;34m)\u001b[0m\u001b[0;34m\u001b[0m\u001b[0;34m\u001b[0m\u001b[0m\n\u001b[0;32m--> 512\u001b[0;31m         \u001b[0mall_results\u001b[0m \u001b[0;34m=\u001b[0m \u001b[0;34m[\u001b[0m\u001b[0mtask\u001b[0m\u001b[0;34m(\u001b[0m\u001b[0mjob_args\u001b[0m\u001b[0;34m,\u001b[0m \u001b[0;34m*\u001b[0m\u001b[0mother_args\u001b[0m\u001b[0;34m,\u001b[0m \u001b[0;34m**\u001b[0m\u001b[0mkwargs\u001b[0m\u001b[0;34m)\u001b[0m \u001b[0;32mfor\u001b[0m \u001b[0mjob_args\u001b[0m \u001b[0;32min\u001b[0m \u001b[0mdistributed_args\u001b[0m\u001b[0;34m]\u001b[0m\u001b[0;34m\u001b[0m\u001b[0;34m\u001b[0m\u001b[0m\n\u001b[0m\u001b[1;32m    513\u001b[0m         \u001b[0;32mif\u001b[0m \u001b[0msend_results_to\u001b[0m \u001b[0;34m==\u001b[0m \u001b[0;34m'all'\u001b[0m\u001b[0;34m:\u001b[0m\u001b[0;34m\u001b[0m\u001b[0;34m\u001b[0m\u001b[0m\n\u001b[1;32m    514\u001b[0m             \u001b[0;32mreturn\u001b[0m \u001b[0mall_results\u001b[0m\u001b[0;34m\u001b[0m\u001b[0;34m\u001b[0m\u001b[0m\n",
      "\u001b[0;32m~/miniconda3/envs/perses-sims-oct2020/lib/python3.7/site-packages/openmmtools-0.20.0+19.g27982a0.dirty-py3.7-linux-x86_64.egg/openmmtools/multistate/multistatesampler.py\u001b[0m in \u001b[0;36m_compute_replica_energies\u001b[0;34m(self, replica_id)\u001b[0m\n\u001b[1;32m   1357\u001b[0m                 \u001b[0;31m# Compute and update the reduced potentials.\u001b[0m\u001b[0;34m\u001b[0m\u001b[0;34m\u001b[0m\u001b[0;34m\u001b[0m\u001b[0m\n\u001b[1;32m   1358\u001b[0m                 compatible_energies = states.ThermodynamicState.reduced_potential_at_states(\n\u001b[0;32m-> 1359\u001b[0;31m                     context, compatible_group)\n\u001b[0m\u001b[1;32m   1360\u001b[0m                 \u001b[0;32mfor\u001b[0m \u001b[0menergy_idx\u001b[0m\u001b[0;34m,\u001b[0m \u001b[0mstate_idx\u001b[0m \u001b[0;32min\u001b[0m \u001b[0menumerate\u001b[0m\u001b[0;34m(\u001b[0m\u001b[0mstate_indices\u001b[0m\u001b[0;34m)\u001b[0m\u001b[0;34m:\u001b[0m\u001b[0;34m\u001b[0m\u001b[0;34m\u001b[0m\u001b[0m\n\u001b[1;32m   1361\u001b[0m                     \u001b[0menergies\u001b[0m\u001b[0;34m[\u001b[0m\u001b[0mstate_idx\u001b[0m\u001b[0;34m]\u001b[0m \u001b[0;34m=\u001b[0m \u001b[0mcompatible_energies\u001b[0m\u001b[0;34m[\u001b[0m\u001b[0menergy_idx\u001b[0m\u001b[0;34m]\u001b[0m\u001b[0;34m\u001b[0m\u001b[0;34m\u001b[0m\u001b[0m\n",
      "\u001b[0;31mKeyboardInterrupt\u001b[0m: "
     ]
    }
   ],
   "source": [
    "# Set up sampler\n",
    "length = 5 # 5 ns\n",
    "move = mcmc.GHMCMove(timestep=4.0*unit.femtoseconds, n_steps=250)\n",
    "simulation = multistate.ReplicaExchangeSampler(mcmc_moves=move, number_of_iterations=length*1000)\n",
    "\n",
    "# Run t-repex\n",
    "reporter_file = os.path.join(out_dir, f\"0_vacuum_thr_{length}ns.nc\")\n",
    "reporter = multistate.MultiStateReporter(reporter_file, checkpoint_interval=1)\n",
    "simulation.create(thermodynamic_states=thermodynamic_state_list,\n",
    "                  sampler_states=sampler_state,\n",
    "                  storage=reporter)\n",
    "simulation.run()"
   ]
  },
  {
   "cell_type": "markdown",
   "metadata": {},
   "source": [
    "# Check energies are scaled properly "
   ]
  },
  {
   "cell_type": "code",
   "execution_count": 64,
   "metadata": {},
   "outputs": [],
   "source": [
    "from openmmtools.testsystems import AlanineDipeptideVacuum\n",
    "from perses.annihilation.rest import RESTTopologyFactory\n",
    "import numpy as np"
   ]
  },
  {
   "cell_type": "code",
   "execution_count": 63,
   "metadata": {},
   "outputs": [
    {
     "name": "stdout",
     "output_type": "stream",
     "text": [
      "conducting subsequent work with the following platform: CUDA\n"
     ]
    },
    {
     "ename": "RuntimeError",
     "evalue": "Cannot change platform of a non-empty ContextCache",
     "output_type": "error",
     "traceback": [
      "\u001b[0;31m----------------------------------------------------------------\u001b[0m",
      "\u001b[0;31mRuntimeError\u001b[0m                   Traceback (most recent call last)",
      "\u001b[0;32m<ipython-input-63-828e3b7b8224>\u001b[0m in \u001b[0;36m<module>\u001b[0;34m\u001b[0m\n\u001b[1;32m      7\u001b[0m \u001b[0;32mfrom\u001b[0m \u001b[0mopenmmtools\u001b[0m\u001b[0;34m.\u001b[0m\u001b[0mconstants\u001b[0m \u001b[0;32mimport\u001b[0m \u001b[0mkB\u001b[0m\u001b[0;34m\u001b[0m\u001b[0;34m\u001b[0m\u001b[0m\n\u001b[1;32m      8\u001b[0m \u001b[0;34m\u001b[0m\u001b[0m\n\u001b[0;32m----> 9\u001b[0;31m \u001b[0mcache\u001b[0m\u001b[0;34m.\u001b[0m\u001b[0mglobal_context_cache\u001b[0m\u001b[0;34m.\u001b[0m\u001b[0mplatform\u001b[0m \u001b[0;34m=\u001b[0m \u001b[0mconfigure_platform\u001b[0m\u001b[0;34m(\u001b[0m\u001b[0mutils\u001b[0m\u001b[0;34m.\u001b[0m\u001b[0mget_fastest_platform\u001b[0m\u001b[0;34m(\u001b[0m\u001b[0;34m)\u001b[0m\u001b[0;34m.\u001b[0m\u001b[0mgetName\u001b[0m\u001b[0;34m(\u001b[0m\u001b[0;34m)\u001b[0m\u001b[0;34m)\u001b[0m\u001b[0;34m\u001b[0m\u001b[0;34m\u001b[0m\u001b[0m\n\u001b[0m",
      "\u001b[0;32m~/miniconda3/envs/perses-sims-oct2020/lib/python3.7/site-packages/openmmtools-0.20.0+19.g27982a0.dirty-py3.7-linux-x86_64.egg/openmmtools/cache.py\u001b[0m in \u001b[0;36mplatform\u001b[0;34m(self, new_platform)\u001b[0m\n\u001b[1;32m    329\u001b[0m     \u001b[0;32mdef\u001b[0m \u001b[0mplatform\u001b[0m\u001b[0;34m(\u001b[0m\u001b[0mself\u001b[0m\u001b[0;34m,\u001b[0m \u001b[0mnew_platform\u001b[0m\u001b[0;34m)\u001b[0m\u001b[0;34m:\u001b[0m\u001b[0;34m\u001b[0m\u001b[0;34m\u001b[0m\u001b[0m\n\u001b[1;32m    330\u001b[0m         \u001b[0;32mif\u001b[0m \u001b[0mlen\u001b[0m\u001b[0;34m(\u001b[0m\u001b[0mself\u001b[0m\u001b[0;34m.\u001b[0m\u001b[0m_lru\u001b[0m\u001b[0;34m)\u001b[0m \u001b[0;34m>\u001b[0m \u001b[0;36m0\u001b[0m\u001b[0;34m:\u001b[0m\u001b[0;34m\u001b[0m\u001b[0;34m\u001b[0m\u001b[0m\n\u001b[0;32m--> 331\u001b[0;31m             \u001b[0;32mraise\u001b[0m \u001b[0mRuntimeError\u001b[0m\u001b[0;34m(\u001b[0m\u001b[0;34m'Cannot change platform of a non-empty ContextCache'\u001b[0m\u001b[0;34m)\u001b[0m\u001b[0;34m\u001b[0m\u001b[0;34m\u001b[0m\u001b[0m\n\u001b[0m\u001b[1;32m    332\u001b[0m         \u001b[0;32mif\u001b[0m \u001b[0mnew_platform\u001b[0m \u001b[0;32mis\u001b[0m \u001b[0;32mNone\u001b[0m\u001b[0;34m:\u001b[0m\u001b[0;34m\u001b[0m\u001b[0;34m\u001b[0m\u001b[0m\n\u001b[1;32m    333\u001b[0m             \u001b[0mself\u001b[0m\u001b[0;34m.\u001b[0m\u001b[0m_platform_properties\u001b[0m \u001b[0;34m=\u001b[0m \u001b[0;32mNone\u001b[0m\u001b[0;34m\u001b[0m\u001b[0;34m\u001b[0m\u001b[0m\n",
      "\u001b[0;31mRuntimeError\u001b[0m: Cannot change platform of a non-empty ContextCache"
     ]
    }
   ],
   "source": [
    "from openmmtools import cache, utils\n",
    "from perses.dispersed.utils import configure_platform\n",
    "from perses.dispersed import feptasks\n",
    "from simtk import unit, openmm\n",
    "from perses.annihilation.lambda_protocol import RESTState\n",
    "from openmmtools.states import SamplerState, ThermodynamicState, CompoundThermodynamicState\n",
    "from openmmtools.constants import kB\n",
    "\n",
    "cache.global_context_cache.platform = configure_platform(utils.get_fastest_platform().getName())"
   ]
  },
  {
   "cell_type": "markdown",
   "metadata": {},
   "source": [
    "At 600 K, check that energy of REST system matches that of a vanilla system where I manually scale the terms by the same factor"
   ]
  },
  {
   "cell_type": "code",
   "execution_count": 83,
   "metadata": {},
   "outputs": [],
   "source": [
    "ala = AlanineDipeptideVacuum()\n",
    "sys = ala.system\n",
    "sys.removeForce(4)"
   ]
  },
  {
   "cell_type": "code",
   "execution_count": 84,
   "metadata": {},
   "outputs": [
    {
     "name": "stderr",
     "output_type": "stream",
     "text": [
      "INFO:REST:No MonteCarloBarostat added.\n",
      "INFO:REST:getDefaultPeriodicBoxVectors added to hybrid: [Quantity(value=Vec3(x=2.0, y=0.0, z=0.0), unit=nanometer), Quantity(value=Vec3(x=0.0, y=2.0, z=0.0), unit=nanometer), Quantity(value=Vec3(x=0.0, y=0.0, z=2.0), unit=nanometer)]\n",
      "INFO:REST:No unknown forces.\n"
     ]
    }
   ],
   "source": [
    "factory = RESTTopologyFactory(sys, solute_region=list(range(6, 16)))"
   ]
  },
  {
   "cell_type": "code",
   "execution_count": 85,
   "metadata": {},
   "outputs": [],
   "source": [
    "REST_system = factory.REST_system"
   ]
  },
  {
   "cell_type": "code",
   "execution_count": 86,
   "metadata": {},
   "outputs": [
    {
     "data": {
      "text/plain": [
       "-12.041480001960524"
      ]
     },
     "execution_count": 86,
     "metadata": {},
     "output_type": "execute_result"
    }
   ],
   "source": [
    "\n",
    "# Create states for 600K\n",
    "T_min = 298.0 * unit.kelvin  # Minimum temperature.\n",
    "T_max = 600.0 * unit.kelvin  # Maximum temperature.\n",
    "\n",
    "# Thermodynamic state\n",
    "lambda_zero_alchemical_state = RESTState.from_system(REST_system)\n",
    "thermostate = ThermodynamicState(REST_system, temperature=T_max)\n",
    "compound_thermodynamic_state = CompoundThermodynamicState(thermostate, composable_states=[lambda_zero_alchemical_state])\n",
    "\n",
    "beta_0 = 1/(kB*T_min)\n",
    "beta_m = 1/(kB*T_max)\n",
    "compound_thermodynamic_state.set_alchemical_parameters(beta_0, beta_m)\n",
    "\n",
    "# Now generating a sampler_state for the thermodyanmic state, with relaxed positions\n",
    "sampler_state = SamplerState(ala.positions, box_vectors=sys.getDefaultPeriodicBoxVectors())\n",
    "context_cache = cache.ContextCache()\n",
    "context, context_integrator = context_cache.get_context(compound_thermodynamic_state)\n",
    "feptasks.minimize(compound_thermodynamic_state, sampler_state)\n",
    "compound_thermodynamic_state.reduced_potential(sampler_state)\n"
   ]
  },
  {
   "cell_type": "code",
   "execution_count": 87,
   "metadata": {},
   "outputs": [
    {
     "name": "stdout",
     "output_type": "stream",
     "text": [
      "<simtk.openmm.openmm.HarmonicBondForce; proxy of <Swig Object of type 'OpenMM::HarmonicBondForce *' at 0x2abbb9c7b6c0> >\n",
      "<simtk.openmm.openmm.HarmonicAngleForce; proxy of <Swig Object of type 'OpenMM::HarmonicAngleForce *' at 0x2abbb9c7b450> >\n",
      "<simtk.openmm.openmm.PeriodicTorsionForce; proxy of <Swig Object of type 'OpenMM::PeriodicTorsionForce *' at 0x2abbb9c7b6c0> >\n",
      "<simtk.openmm.openmm.NonbondedForce; proxy of <Swig Object of type 'OpenMM::NonbondedForce *' at 0x2abbb9c7b450> >\n"
     ]
    }
   ],
   "source": [
    "for i in range(sys.getNumForces()):\n",
    "    print(sys.getForce(i))"
   ]
  },
  {
   "cell_type": "code",
   "execution_count": 88,
   "metadata": {},
   "outputs": [],
   "source": [
    "# Determine regions and scaling factors\n",
    "protein = range(6, 16)\n",
    "environment = list(range(0, 6)) + list(range(16, 22))\n",
    "protein_scale = beta_m/beta_0\n",
    "inter_scale = np.sqrt(beta_m/beta_0)\n"
   ]
  },
  {
   "cell_type": "code",
   "execution_count": 89,
   "metadata": {},
   "outputs": [],
   "source": [
    "# Scale the terms in the vanilla ala system bond force appropriately\n",
    "bond_force = sys.getForce(0)\n",
    "for bond in range(bond_force.getNumBonds()):\n",
    "    p1, p2, length, k = bond_force.getBondParameters(bond)\n",
    "    if p1 in protein and p2 in protein:\n",
    "        bond_force.setBondParameters(bond, p1, p2, length, k*protein_scale)\n",
    "    elif (p1 in protein and p2 in environment) or (p1 in environment and p2 in protein):\n",
    "        bond_force.setBondParameters(bond, p1, p2, length, k*inter_scale)\n",
    "#     elif p1 in environment and p2 in environment:\n",
    "        "
   ]
  },
  {
   "cell_type": "code",
   "execution_count": 90,
   "metadata": {},
   "outputs": [],
   "source": [
    "# Scale the terms in the vanilla ala system angle force appropriately\n",
    "angle_force = sys.getForce(1)\n",
    "for angle_index in range(angle_force.getNumAngles()):\n",
    "    p1, p2, p3, angle, k = angle_force.getAngleParameters(angle_index)\n",
    "    if p1 in protein and p2 in protein and p3 in protein:\n",
    "        angle_force.setAngleParameters(angle_index, p1, p2, p3, angle, k*protein_scale)\n",
    "#         print(\"protein scale: \", p1, p2, p3)\n",
    "    elif set([p1, p2, p3]).intersection(set(protein)) != set() and set([p1, p2, p3]).intersection(set(environment)) != set():\n",
    "        angle_force.setAngleParameters(angle_index, p1, p2, p3, angle, k*inter_scale)\n",
    "#         print(\"inter scale: \", p1, p2, p3)\n",
    "        "
   ]
  },
  {
   "cell_type": "code",
   "execution_count": 91,
   "metadata": {},
   "outputs": [],
   "source": [
    "# Scale the terms in the vanilla ala system torsion force appropriately\n",
    "torsion_force = sys.getForce(2)\n",
    "for torsion_index in range(torsion_force.getNumTorsions()):\n",
    "    p1, p2, p3, p4, periodicity, phase, k = torsion_force.getTorsionParameters(torsion_index)\n",
    "    if p1 in protein and p2 in protein and p3 in protein and p4 in protein:\n",
    "        torsion_force.setTorsionParameters(torsion_index, p1, p2, p3, p4, periodicity, phase, k*protein_scale)\n",
    "#         print(\"protein scale: \", p1, p2, p3, p4)\n",
    "    elif set([p1, p2, p3, p4]).intersection(set(protein)) != set() and set([p1, p2, p3, p4]).intersection(set(environment)) != set():\n",
    "        torsion_force.setTorsionParameters(torsion_index, p1, p2, p3, p4, periodicity, phase, k*inter_scale)\n",
    "#         print(\"inter scale: \", p1, p2, p3, p4)\n",
    "        "
   ]
  },
  {
   "cell_type": "code",
   "execution_count": 92,
   "metadata": {},
   "outputs": [],
   "source": [
    "# Scale the terms in the vanilla ala system nonbonded force appropriately\n",
    "nb_force = sys.getForce(3)\n",
    "for nb_index in range(nb_force.getNumParticles()):\n",
    "    charge, sigma, epsilon = nb_force.getParticleParameters(nb_index)\n",
    "    if nb_index in protein:\n",
    "        nb_force.setParticleParameters(nb_index, protein_scale*charge, sigma, protein_scale*epsilon)\n"
   ]
  },
  {
   "cell_type": "code",
   "execution_count": 93,
   "metadata": {},
   "outputs": [],
   "source": [
    "# Scale the exceptions in the vanilla ala system nonbonded force appropriately\n",
    "nb_force = sys.getForce(3)\n",
    "for nb_index in range(nb_force.getNumExceptions()):\n",
    "    p1, p2, chargeProd, sigma, epsilon = nb_force.getExceptionParameters(nb_index)\n",
    "    if p1 in protein and p2 in protein:\n",
    "        nb_force.setExceptionParameters(nb_index, p1, p2, protein_scale*chargeProd, sigma, protein_scale*epsilon)\n",
    "    elif (p1 in protein and p2 in environment) or (p1 in environment and p2 in protein):\n",
    "        nb_force.setExceptionParameters(nb_index, p1, p2, inter_scale*chargeProd, sigma, inter_scale*epsilon)\n",
    "   "
   ]
  },
  {
   "cell_type": "code",
   "execution_count": 94,
   "metadata": {},
   "outputs": [
    {
     "data": {
      "text/plain": [
       "-12.041480001960524"
      ]
     },
     "execution_count": 94,
     "metadata": {},
     "output_type": "execute_result"
    }
   ],
   "source": [
    "# Check energy\n",
    "thermostate = ThermodynamicState(sys, temperature=T_max)\n",
    "context_cache = cache.ContextCache()\n",
    "context, context_integrator = context_cache.get_context(thermostate)\n",
    "thermostate.reduced_potential(sampler_state)"
   ]
  },
  {
   "cell_type": "markdown",
   "metadata": {},
   "source": [
    "At 600 K, check that energy of REST-ified rhtf hybrid system matches that of the rhtf hybrid system where I manually scale the terms by the same factor"
   ]
  },
  {
   "cell_type": "code",
   "execution_count": 67,
   "metadata": {},
   "outputs": [],
   "source": [
    "import pickle\n",
    "import os"
   ]
  },
  {
   "cell_type": "code",
   "execution_count": 68,
   "metadata": {},
   "outputs": [],
   "source": [
    "# Load in r-htf at endstate = 0\n",
    "out_dir = \"/data/chodera/zhangi/perses_benchmark/neq/11/0\"\n",
    "htf = pickle.load(open(os.path.join(out_dir, f\"0_vacuum_0.pickle\"), \"rb\" ))\n",
    "sys = htf.hybrid_system"
   ]
  },
  {
   "cell_type": "code",
   "execution_count": 69,
   "metadata": {},
   "outputs": [
    {
     "name": "stderr",
     "output_type": "stream",
     "text": [
      "INFO:REST:No MonteCarloBarostat added.\n",
      "INFO:REST:getDefaultPeriodicBoxVectors added to hybrid: [Quantity(value=Vec3(x=2.0, y=0.0, z=0.0), unit=nanometer), Quantity(value=Vec3(x=0.0, y=2.0, z=0.0), unit=nanometer), Quantity(value=Vec3(x=0.0, y=0.0, z=2.0), unit=nanometer)]\n",
      "INFO:REST:No unknown forces.\n"
     ]
    }
   ],
   "source": [
    "factory = RESTTopologyFactory(sys, solute_region=list(range(0, 16)))"
   ]
  },
  {
   "cell_type": "code",
   "execution_count": 70,
   "metadata": {},
   "outputs": [],
   "source": [
    "REST_system = factory.REST_system"
   ]
  },
  {
   "cell_type": "code",
   "execution_count": 72,
   "metadata": {},
   "outputs": [
    {
     "data": {
      "text/plain": [
       "-16.933324794808108"
      ]
     },
     "execution_count": 72,
     "metadata": {},
     "output_type": "execute_result"
    }
   ],
   "source": [
    "# Create states for 600K\n",
    "T_min = 298.0 * unit.kelvin  # Minimum temperature.\n",
    "T_max = 600.0 * unit.kelvin  # Maximum temperature.\n",
    "\n",
    "# Thermodynamic state\n",
    "lambda_zero_alchemical_state = RESTState.from_system(REST_system)\n",
    "thermostate = ThermodynamicState(REST_system, temperature=T_max)\n",
    "compound_thermodynamic_state = CompoundThermodynamicState(thermostate, composable_states=[lambda_zero_alchemical_state])\n",
    "\n",
    "beta_0 = 1/(kB*T_min)\n",
    "beta_m = 1/(kB*T_max)\n",
    "compound_thermodynamic_state.set_alchemical_parameters(beta_0, beta_m)\n",
    "\n",
    "# Now generating a sampler_state for the thermodyanmic state, with relaxed positions\n",
    "sampler_state = SamplerState(htf.hybrid_positions, box_vectors=sys.getDefaultPeriodicBoxVectors())\n",
    "context_cache = cache.ContextCache()\n",
    "context, context_integrator = context_cache.get_context(compound_thermodynamic_state)\n",
    "feptasks.minimize(compound_thermodynamic_state, sampler_state)\n",
    "compound_thermodynamic_state.reduced_potential(sampler_state)\n"
   ]
  },
  {
   "cell_type": "code",
   "execution_count": 19,
   "metadata": {},
   "outputs": [
    {
     "name": "stdout",
     "output_type": "stream",
     "text": [
      "<simtk.openmm.openmm.HarmonicBondForce; proxy of <Swig Object of type 'OpenMM::HarmonicBondForce *' at 0x2abb708fa330> >\n",
      "<simtk.openmm.openmm.HarmonicAngleForce; proxy of <Swig Object of type 'OpenMM::HarmonicAngleForce *' at 0x2abb2b67c030> >\n",
      "<simtk.openmm.openmm.PeriodicTorsionForce; proxy of <Swig Object of type 'OpenMM::PeriodicTorsionForce *' at 0x2abb2b67c030> >\n",
      "<simtk.openmm.openmm.NonbondedForce; proxy of <Swig Object of type 'OpenMM::NonbondedForce *' at 0x2abb2b67c030> >\n"
     ]
    }
   ],
   "source": [
    "for i in range(sys.getNumForces()):\n",
    "    print(sys.getForce(i))"
   ]
  },
  {
   "cell_type": "code",
   "execution_count": 73,
   "metadata": {},
   "outputs": [],
   "source": [
    "# Determine regions and scaling factors\n",
    "protein = range(6, 16)\n",
    "environment = list(range(0, 6)) + list(range(16, 22))\n",
    "protein_scale = beta_m/beta_0\n",
    "inter_scale = np.sqrt(beta_m/beta_0)\n"
   ]
  },
  {
   "cell_type": "code",
   "execution_count": 74,
   "metadata": {},
   "outputs": [],
   "source": [
    "# Scale the terms in the vanilla ala system bond force appropriately\n",
    "bond_force = sys.getForce(0)\n",
    "for bond in range(bond_force.getNumBonds()):\n",
    "    p1, p2, length, k = bond_force.getBondParameters(bond)\n",
    "    if p1 in protein and p2 in protein:\n",
    "        bond_force.setBondParameters(bond, p1, p2, length, k*protein_scale)\n",
    "    elif (p1 in protein and p2 in environment) or (p1 in environment and p2 in protein):\n",
    "        bond_force.setBondParameters(bond, p1, p2, length, k*inter_scale)\n",
    "#     elif p1 in environment and p2 in environment:\n",
    "        "
   ]
  },
  {
   "cell_type": "code",
   "execution_count": 75,
   "metadata": {},
   "outputs": [],
   "source": [
    "# Scale the terms in the vanilla ala system angle force appropriately\n",
    "angle_force = sys.getForce(1)\n",
    "for angle_index in range(angle_force.getNumAngles()):\n",
    "    p1, p2, p3, angle, k = angle_force.getAngleParameters(angle_index)\n",
    "    if p1 in protein and p2 in protein and p3 in protein:\n",
    "        angle_force.setAngleParameters(angle_index, p1, p2, p3, angle, k*protein_scale)\n",
    "#         print(\"protein scale: \", p1, p2, p3)\n",
    "    elif set([p1, p2, p3]).intersection(set(protein)) != set() and set([p1, p2, p3]).intersection(set(environment)) != set():\n",
    "        angle_force.setAngleParameters(angle_index, p1, p2, p3, angle, k*inter_scale)\n",
    "#         print(\"inter scale: \", p1, p2, p3)\n",
    "        "
   ]
  },
  {
   "cell_type": "code",
   "execution_count": 76,
   "metadata": {},
   "outputs": [],
   "source": [
    "# Scale the terms in the vanilla ala system torsion force appropriately\n",
    "torsion_force = sys.getForce(2)\n",
    "for torsion_index in range(torsion_force.getNumTorsions()):\n",
    "    p1, p2, p3, p4, periodicity, phase, k = torsion_force.getTorsionParameters(torsion_index)\n",
    "    if p1 in protein and p2 in protein and p3 in protein and p4 in protein:\n",
    "        torsion_force.setTorsionParameters(torsion_index, p1, p2, p3, p4, periodicity, phase, k*protein_scale)\n",
    "#         print(\"protein scale: \", p1, p2, p3, p4)\n",
    "    elif set([p1, p2, p3, p4]).intersection(set(protein)) != set() and set([p1, p2, p3, p4]).intersection(set(environment)) != set():\n",
    "        torsion_force.setTorsionParameters(torsion_index, p1, p2, p3, p4, periodicity, phase, k*inter_scale)\n",
    "#         print(\"inter scale: \", p1, p2, p3, p4)\n",
    "        "
   ]
  },
  {
   "cell_type": "code",
   "execution_count": 77,
   "metadata": {},
   "outputs": [],
   "source": [
    "# Scale the terms in the vanilla ala system nonbonded force appropriately\n",
    "nb_force = sys.getForce(3)\n",
    "for nb_index in range(nb_force.getNumParticles()):\n",
    "    charge, sigma, epsilon = nb_force.getParticleParameters(nb_index)\n",
    "    if nb_index in protein:\n",
    "        nb_force.setParticleParameters(nb_index, protein_scale*charge, sigma, protein_scale*epsilon)\n"
   ]
  },
  {
   "cell_type": "code",
   "execution_count": 78,
   "metadata": {},
   "outputs": [],
   "source": [
    "# Scale the exceptions in the vanilla ala system nonbonded force appropriately\n",
    "nb_force = sys.getForce(3)\n",
    "for nb_index in range(nb_force.getNumExceptions()):\n",
    "    p1, p2, chargeProd, sigma, epsilon = nb_force.getExceptionParameters(nb_index)\n",
    "    if p1 in protein and p2 in protein:\n",
    "        nb_force.setExceptionParameters(nb_index, p1, p2, protein_scale*chargeProd, sigma, protein_scale*epsilon)\n",
    "    elif (p1 in protein and p2 in environment) or (p1 in environment and p2 in protein):\n",
    "        nb_force.setExceptionParameters(nb_index, p1, p2, inter_scale*chargeProd, sigma, inter_scale*epsilon)\n",
    "   "
   ]
  },
  {
   "cell_type": "code",
   "execution_count": 79,
   "metadata": {},
   "outputs": [
    {
     "data": {
      "text/plain": [
       "-16.933324794808108"
      ]
     },
     "execution_count": 79,
     "metadata": {},
     "output_type": "execute_result"
    }
   ],
   "source": [
    "# Check energy\n",
    "thermostate = ThermodynamicState(sys, temperature=T_max)\n",
    "context_cache = cache.ContextCache()\n",
    "context, context_integrator = context_cache.get_context(thermostate)\n",
    "thermostate.reduced_potential(sampler_state)"
   ]
  },
  {
   "cell_type": "code",
   "execution_count": null,
   "metadata": {},
   "outputs": [],
   "source": []
  }
 ],
 "metadata": {
  "kernelspec": {
   "display_name": "Python 3",
   "language": "python",
   "name": "python3"
  },
  "language_info": {
   "codemirror_mode": {
    "name": "ipython",
    "version": 3
   },
   "file_extension": ".py",
   "mimetype": "text/x-python",
   "name": "python",
   "nbconvert_exporter": "python",
   "pygments_lexer": "ipython3",
   "version": "3.7.8"
  }
 },
 "nbformat": 4,
 "nbformat_minor": 4
}
