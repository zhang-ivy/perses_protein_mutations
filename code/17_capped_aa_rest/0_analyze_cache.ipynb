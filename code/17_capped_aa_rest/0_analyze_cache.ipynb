{
 "cells": [
  {
   "cell_type": "markdown",
   "metadata": {},
   "source": [
    "## Analyze vanilla cache THR"
   ]
  },
  {
   "cell_type": "code",
   "execution_count": 1,
   "metadata": {},
   "outputs": [],
   "source": [
    "import math\n",
    "from simtk import unit\n",
    "import os\n",
    "import tempfile\n",
    "import pickle\n",
    "import mdtraj as md\n",
    "import numpy as np\n",
    "from simtk.unit.quantity import Quantity\n",
    "import logging\n",
    "\n",
    "# Set up logger\n",
    "_logger = logging.getLogger()\n",
    "_logger.setLevel(logging.INFO)\n",
    "\n",
    "from matplotlib import pyplot as plt\n",
    "from simtk.openmm import app\n",
    "from tqdm import tqdm\n",
    "import argparse\n",
    "import pickle"
   ]
  },
  {
   "cell_type": "code",
   "execution_count": 7,
   "metadata": {},
   "outputs": [],
   "source": [
    "def get_dihedrals_all_replicas(i, aa, length, out_dir, topology, dihedral_indices):\n",
    "\n",
    "    # From Hannah: https://github.com/hannahbrucemacdonald/endstate_pdbs/blob/master/scripts/input_for_pol_calc.py\n",
    "    from perses.analysis.utils import open_netcdf\n",
    "    nc = open_netcdf(os.path.join(out_dir, f\"{i}_{phase}_{aa}_{length}.nc\"))\n",
    "    nc_checkpoint = open_netcdf(os.path.join(out_dir, f\"{i}_{phase}_{aa}_{length}_checkpoint.nc\"))\n",
    "    checkpoint_interval = nc_checkpoint.CheckpointInterval\n",
    "    all_positions = nc_checkpoint.variables['positions']\n",
    "    n_iter, n_replicas, n_atoms, _ = np.shape(all_positions)\n",
    "\n",
    "    from tqdm import tqdm\n",
    "    dihedrals_master = []\n",
    "    for i in [0, 6, 11]:\n",
    "        index = i # of replica\n",
    "        all_pos = np.zeros(shape=(n_iter, topology.getNumAtoms(), 3))\n",
    "        for iteration in tqdm(range(n_iter)):\n",
    "            replica_id = np.where(nc.variables['states'][iteration*checkpoint_interval] == index)[0]\n",
    "            pos = all_positions[iteration,replica_id,:,:][0] *unit.nanometers\n",
    "            all_pos[iteration] = pos\n",
    "\n",
    "        traj = md.Trajectory(np.array(all_pos), topology)\n",
    "    #   dihedrals = np.sin(md.compute_dihedrals(traj, np.array([indices])))\n",
    "        if len(dihedral_indices) == 4:\n",
    "            print(\"computing thr dihedrals\")\n",
    "            dihedrals = md.compute_dihedrals(traj, np.array([dihedral_indices]))\n",
    "        elif len(dihedral_indices) == 2:\n",
    "            dihedrals_phi = md.compute_dihedrals(traj, np.array([dihedral_indices[0]]))\n",
    "            dihedrals_psi = md.compute_dihedrals(traj, np.array([dihedral_indices[1]]))\n",
    "            dihedrals = [dihedrals_phi, dihedrals_psi]\n",
    "        dihedrals_master.append(dihedrals)\n",
    "    return dihedrals_master, n_iter\n",
    "\n",
    "def plot_dihedrals(dihedrals, outfile):\n",
    "    # Plot histogram with error bars : https://stackoverflow.com/questions/35390276/how-to-add-error-bars-to-histogram-diagram-in-python\n",
    "    entries, edges, _ = plt.hist(dihedrals)\n",
    "    bin_centers = 0.5 * (edges[:-1] + edges[1:]) # calculate bin centers\n",
    "    plt.errorbar(bin_centers, entries, yerr=np.sqrt(entries), fmt='r.') # draw errobars, use the sqrt error\n",
    "    plt.xlim(-np.pi, np.pi)\n",
    "    plt.savefig(outfile, dpi=300)\n",
    "    plt.close()\n",
    "\n",
    "def plot_time_series(dihedrals, n_iter, outfile):\n",
    "    from perses.dispersed import feptasks\n",
    "    t0, g, neff_max, a_t, uncorrelated_indices = feptasks.compute_timeseries(dihedrals)\n",
    "\n",
    "    plt.scatter(range(n_iter), dihedrals)\n",
    "    plt.ylabel(\"dihedral\")\n",
    "    plt.xlabel(\"iteration number\")\n",
    "    plt.ylim(-np.pi, np.pi)\n",
    "    plt.savefig(outfile, dpi=300)\n",
    "    plt.close()\n",
    "\n",
    "    return uncorrelated_indices\n",
    "\n",
    "def plot_dihedrals_uncorrelated(dihedrals, uncorrelated_indices, outfile):\n",
    "    # Plot histogram with error bars : https://stackoverflow.com/questions/35390276/how-to-add-error-bars-to-histogram-diagram-in-python\n",
    "    entries, edges, _ = plt.hist(dihedrals[uncorrelated_indices])\n",
    "    bin_centers = 0.5 * (edges[:-1] + edges[1:]) # calculate bin centers\n",
    "    plt.errorbar(bin_centers, entries, yerr=np.sqrt(entries), fmt='r.') # draw errobars, use the sqrt error\n",
    "    plt.xlim(-np.pi, np.pi)\n",
    "    plt.savefig(outfile, dpi=300)\n",
    "    plt.close()"
   ]
  },
  {
   "cell_type": "code",
   "execution_count": 9,
   "metadata": {},
   "outputs": [],
   "source": [
    "i = 14\n",
    "aa = 'thr'\n",
    "length = f'5ns'\n",
    "out_dir = \"/data/chodera/zhangi/perses_benchmark/neq/11/14\"\n",
    "phase = 'solvent'\n",
    "\n",
    "if aa == 'thr':\n",
    "    indices = [6, 7, 10, 12]\n",
    "elif aan == 'ala':\n",
    "    indices = [[6, 7, 8, 10], [14, 13, 8, 10]]"
   ]
  },
  {
   "cell_type": "code",
   "execution_count": 10,
   "metadata": {},
   "outputs": [
    {
     "name": "stderr",
     "output_type": "stream",
     "text": [
      "100%|██████████| 5001/5001 [00:08<00:00, 622.14it/s]\n",
      "  1%|▏         | 66/5001 [00:00<00:07, 652.32it/s]"
     ]
    },
    {
     "name": "stdout",
     "output_type": "stream",
     "text": [
      "computing thr dihedrals\n"
     ]
    },
    {
     "name": "stderr",
     "output_type": "stream",
     "text": [
      "100%|██████████| 5001/5001 [00:07<00:00, 640.84it/s]\n",
      "  1%|▏         | 64/5001 [00:00<00:07, 638.12it/s]"
     ]
    },
    {
     "name": "stdout",
     "output_type": "stream",
     "text": [
      "computing thr dihedrals\n"
     ]
    },
    {
     "name": "stderr",
     "output_type": "stream",
     "text": [
      "100%|██████████| 5001/5001 [00:07<00:00, 639.69it/s]\n"
     ]
    },
    {
     "name": "stdout",
     "output_type": "stream",
     "text": [
      "computing thr dihedrals\n"
     ]
    }
   ],
   "source": [
    "# Get topology\n",
    "with open(os.path.join(out_dir, f\"{i}_{aa}_vanilla_topology.pickle\"), \"rb\") as f:\n",
    "    topology = pickle.load(f)\n",
    "\n",
    "dihedrals, n_iter = get_dihedrals_all_replicas(i, aa, length, out_dir, topology, indices)\n"
   ]
  },
  {
   "cell_type": "code",
   "execution_count": 15,
   "metadata": {},
   "outputs": [
    {
     "name": "stderr",
     "output_type": "stream",
     "text": [
      "3it [00:09,  3.11s/it]\n"
     ]
    }
   ],
   "source": [
    "for j, replica in tqdm(enumerate(dihedrals)):\n",
    "    if len(replica) == 5001:\n",
    "        plot_dihedrals(replica, os.path.join(out_dir, f\"{i}_{phase}_{aa}_{length}_{j}_{aa}_correlated.png\"))\n",
    "        uncorrelated_old = plot_time_series(replica, n_iter, os.path.join(out_dir, f\"{i}_{phase}_{aa}_{length}_{j}_{aa}_timeseries.png\"))\n",
    "        plot_dihedrals_uncorrelated(replica, uncorrelated_old, os.path.join(out_dir, f\"{i}_{phase}_{aa}_{length}_{j}_{aa}_decorrelated.png\"))\n",
    "    elif len(replica) ==2:\n",
    "        plot_dihedrals(replica[0], os.path.join(out_dir, f\"{i}_{args.phase}_{aa}_{length}_{j}_{aa}phi_correlated.png\"))\n",
    "        uncorrelated_old = plot_time_series(replica[0], n_iter, os.path.join(out_dir, f\"{i}_{args.phase}_{aa}_{length}_{j}_{aa}phi_timeseries.png\"))\n",
    "        plot_dihedrals_uncorrelated(replica[0], uncorrelated_old, os.path.join(out_dir, f\"{i}_{args.phase}_{aa}_{length}_{j}_{aa}phi_decorrelated.png\"))\n",
    "        plot_dihedrals(replica[1], os.path.join(out_dir, f\"{i}_{args.phase}_{aa}_{length}_{j}_{aa}psi_correlated.png\"))\n",
    "        uncorrelated_old = plot_time_series(replica[1], n_iter, os.path.join(out_dir, f\"{i}_{args.phase}_{aa}_{length}_{j}_{aa}psi_timeseries.png\"))\n",
    "        plot_dihedrals_uncorrelated(replica[1], uncorrelated_old, os.path.join(out_dir, f\"{i}_{args.phase}_{aa}_{length}_{j}_{aa}psi_decorrelated.png\"))"
   ]
  },
  {
   "cell_type": "code",
   "execution_count": 13,
   "metadata": {},
   "outputs": [
    {
     "name": "stderr",
     "output_type": "stream",
     "text": [
      "3it [00:00, 12892.33it/s]"
     ]
    },
    {
     "name": "stdout",
     "output_type": "stream",
     "text": [
      "5001\n",
      "5001\n",
      "5001\n"
     ]
    },
    {
     "name": "stderr",
     "output_type": "stream",
     "text": [
      "\n"
     ]
    }
   ],
   "source": [
    "for j, replica in tqdm(enumerate(dihedrals)):\n",
    "    print(len(replica))"
   ]
  },
  {
   "cell_type": "code",
   "execution_count": null,
   "metadata": {},
   "outputs": [],
   "source": []
  }
 ],
 "metadata": {
  "kernelspec": {
   "display_name": "Python 3",
   "language": "python",
   "name": "python3"
  },
  "language_info": {
   "codemirror_mode": {
    "name": "ipython",
    "version": 3
   },
   "file_extension": ".py",
   "mimetype": "text/x-python",
   "name": "python",
   "nbconvert_exporter": "python",
   "pygments_lexer": "ipython3",
   "version": "3.7.8"
  }
 },
 "nbformat": 4,
 "nbformat_minor": 4
}
