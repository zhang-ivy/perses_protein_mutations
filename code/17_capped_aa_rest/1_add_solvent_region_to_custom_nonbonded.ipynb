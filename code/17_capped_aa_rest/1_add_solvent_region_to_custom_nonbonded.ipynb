{
 "cells": [
  {
   "cell_type": "code",
   "execution_count": 1,
   "metadata": {},
   "outputs": [
    {
     "name": "stderr",
     "output_type": "stream",
     "text": [
      "INFO:rdkit:Enabling RDKit 2020.09.1 jupyter extensions\n"
     ]
    },
    {
     "name": "stdout",
     "output_type": "stream",
     "text": [
      "conducting subsequent work with the following platform: CUDA\n"
     ]
    },
    {
     "data": {
      "application/vnd.jupyter.widget-view+json": {
       "model_id": "927a184700b94178af72be021e55b538",
       "version_major": 2,
       "version_minor": 0
      },
      "text/plain": []
     },
     "metadata": {},
     "output_type": "display_data"
    },
    {
     "name": "stdout",
     "output_type": "stream",
     "text": [
      "conducting subsequent work with the following platform: CUDA\n"
     ]
    }
   ],
   "source": [
    "from openmmtools.states import SamplerState, ThermodynamicState, CompoundThermodynamicState\n",
    "from simtk import unit, openmm\n",
    "from perses.tests.utils import compute_potential_components\n",
    "from openmmtools.constants import kB\n",
    "from openmmtools import cache, utils\n",
    "from perses.dispersed import feptasks\n",
    "from perses.dispersed.feptasks import minimize\n",
    "from perses.dispersed.utils import configure_platform\n",
    "from perses.annihilation.rest import RESTTopologyFactory\n",
    "from perses.annihilation.lambda_protocol import RESTState\n",
    "import numpy as np\n",
    "from perses.tests.test_topology_proposal import generate_atp, generate_dipeptide_top_pos_sys\n",
    "from openmmtools.testsystems import AlanineDipeptideVacuum, AlanineDipeptideExplicit\n",
    "import itertools\n",
    "from simtk.openmm import app\n",
    "cache.global_context_cache.platform = configure_platform(utils.get_fastest_platform().getName())\n"
   ]
  },
  {
   "cell_type": "code",
   "execution_count": 2,
   "metadata": {},
   "outputs": [],
   "source": [
    "temperature = 300.0 * unit.kelvin\n",
    "kT = kB * temperature\n",
    "beta = 1.0/kT\n",
    "REFERENCE_PLATFORM = openmm.Platform.getPlatformByName(\"CPU\")"
   ]
  },
  {
   "cell_type": "code",
   "execution_count": 3,
   "metadata": {},
   "outputs": [],
   "source": [
    "# Create vanilla system for alanine dipeptide in solvent\n",
    "# ala_solvent = AlanineDipeptideExplicit()\n",
    "ala_solvent = AlanineDipeptideExplicit(use_dispersion_correction=False, nonbondedMethod=app.NoCutoff)\n",
    "ala_solvent.system.removeForce(4)\n",
    "# ala_solvent.system.getForce(3).setNonbondedMethod(openmm.NonbondedForce.NoCutoff)\n",
    "# ala_solvent.system.getForce(3).setNonbondedMethod(openmm.NonbondedForce.CutoffPeriodic)\n",
    "# ala_solvent.system.getForce(3).setUseDispersionCorrection(False)\n",
    "# ala_solvent.system.getForce(3).setReactionFieldDielectric(78.3)\n",
    "# ala_solvent.system.getForce(3).setEwaldErrorTolerance(5e-4)\n",
    "\n"
   ]
  },
  {
   "cell_type": "code",
   "execution_count": 4,
   "metadata": {},
   "outputs": [],
   "source": [
    "res1 = list(ala_solvent.topology.residues())[1]\n",
    "rest_atoms = [atom.index for atom in res1.atoms()]"
   ]
  },
  {
   "cell_type": "code",
   "execution_count": 5,
   "metadata": {},
   "outputs": [],
   "source": [
    "# Set temperatures\n",
    "T_min = 298.0 * unit.kelvin\n",
    "# T = 600 * unit.kelvin\n",
    "T = 298.0 * unit.kelvin\n",
    "\n",
    "# Set sys, pos, top\n",
    "system = ala_solvent.system\n",
    "positions = ala_solvent.positions\n",
    "topology = ala_solvent.topology"
   ]
  },
  {
   "cell_type": "code",
   "execution_count": 11,
   "metadata": {},
   "outputs": [
    {
     "data": {
      "text/plain": [
       "[<simtk.openmm.openmm.HarmonicBondForce; proxy of <Swig Object of type 'OpenMM::HarmonicBondForce *' at 0x2b5f9f02df90> >,\n",
       " <simtk.openmm.openmm.HarmonicAngleForce; proxy of <Swig Object of type 'OpenMM::HarmonicAngleForce *' at 0x2b5f9f02db40> >,\n",
       " <simtk.openmm.openmm.PeriodicTorsionForce; proxy of <Swig Object of type 'OpenMM::PeriodicTorsionForce *' at 0x2b5f9f02da50> >,\n",
       " <simtk.openmm.openmm.NonbondedForce; proxy of <Swig Object of type 'OpenMM::NonbondedForce *' at 0x2b5f9f02dea0> >]"
      ]
     },
     "execution_count": 11,
     "metadata": {},
     "output_type": "execute_result"
    }
   ],
   "source": [
    "ala_solvent.system.getForces()"
   ]
  },
  {
   "cell_type": "code",
   "execution_count": 12,
   "metadata": {},
   "outputs": [
    {
     "data": {
      "text/plain": [
       "[<simtk.openmm.openmm.CustomBondForce; proxy of <Swig Object of type 'OpenMM::CustomBondForce *' at 0x2b5f9f02d420> >,\n",
       " <simtk.openmm.openmm.CustomAngleForce; proxy of <Swig Object of type 'OpenMM::CustomAngleForce *' at 0x2b5f9f02dbd0> >,\n",
       " <simtk.openmm.openmm.CustomTorsionForce; proxy of <Swig Object of type 'OpenMM::CustomTorsionForce *' at 0x2b5f9f02dde0> >,\n",
       " <simtk.openmm.openmm.CustomNonbondedForce; proxy of <Swig Object of type 'OpenMM::CustomNonbondedForce *' at 0x2b5f9f02de40> >,\n",
       " <simtk.openmm.openmm.CustomBondForce; proxy of <Swig Object of type 'OpenMM::CustomBondForce *' at 0x2b5f9f02dd80> >]"
      ]
     },
     "execution_count": 12,
     "metadata": {},
     "output_type": "execute_result"
    }
   ],
   "source": [
    "REST_system.getForces()"
   ]
  },
  {
   "cell_type": "code",
   "execution_count": 9,
   "metadata": {},
   "outputs": [
    {
     "name": "stdout",
     "output_type": "stream",
     "text": [
      "2\n",
      "2\n"
     ]
    }
   ],
   "source": [
    "# nonbonded method\n",
    "print(ala_solvent.system.getForce(3).getNonbondedMethod())\n",
    "print(REST_system.getForce(3).getNonbondedMethod())"
   ]
  },
  {
   "cell_type": "code",
   "execution_count": 13,
   "metadata": {},
   "outputs": [
    {
     "name": "stdout",
     "output_type": "stream",
     "text": [
      "1.0 nm\n",
      "1.0 nm\n"
     ]
    }
   ],
   "source": [
    "# cutoff distance\n",
    "print(ala_solvent.system.getForce(3).getCutoffDistance())\n",
    "print(REST_system.getForce(3).getCutoffDistance())"
   ]
  },
  {
   "cell_type": "code",
   "execution_count": 14,
   "metadata": {},
   "outputs": [
    {
     "name": "stdout",
     "output_type": "stream",
     "text": [
      "1e-05\n"
     ]
    },
    {
     "ename": "AttributeError",
     "evalue": "type object 'object' has no attribute '__getattr__'",
     "output_type": "error",
     "traceback": [
      "\u001b[0;31m------------------------------------------------------------\u001b[0m",
      "\u001b[0;31mAttributeError\u001b[0m             Traceback (most recent call last)",
      "\u001b[0;32m<ipython-input-14-391c435f3078>\u001b[0m in \u001b[0;36m<module>\u001b[0;34m\u001b[0m\n\u001b[1;32m      1\u001b[0m \u001b[0;31m# cutoff distance\u001b[0m\u001b[0;34m\u001b[0m\u001b[0;34m\u001b[0m\u001b[0;34m\u001b[0m\u001b[0m\n\u001b[1;32m      2\u001b[0m \u001b[0mprint\u001b[0m\u001b[0;34m(\u001b[0m\u001b[0mala_solvent\u001b[0m\u001b[0;34m.\u001b[0m\u001b[0msystem\u001b[0m\u001b[0;34m.\u001b[0m\u001b[0mgetForce\u001b[0m\u001b[0;34m(\u001b[0m\u001b[0;36m3\u001b[0m\u001b[0;34m)\u001b[0m\u001b[0;34m.\u001b[0m\u001b[0mgetEwaldErrorTolerance\u001b[0m\u001b[0;34m(\u001b[0m\u001b[0;34m)\u001b[0m\u001b[0;34m)\u001b[0m\u001b[0;34m\u001b[0m\u001b[0;34m\u001b[0m\u001b[0m\n\u001b[0;32m----> 3\u001b[0;31m \u001b[0mprint\u001b[0m\u001b[0;34m(\u001b[0m\u001b[0mREST_system\u001b[0m\u001b[0;34m.\u001b[0m\u001b[0mgetForce\u001b[0m\u001b[0;34m(\u001b[0m\u001b[0;36m3\u001b[0m\u001b[0;34m)\u001b[0m\u001b[0;34m.\u001b[0m\u001b[0mgetEwaldErrorTolerance\u001b[0m\u001b[0;34m(\u001b[0m\u001b[0;34m)\u001b[0m\u001b[0;34m)\u001b[0m\u001b[0;34m\u001b[0m\u001b[0;34m\u001b[0m\u001b[0m\n\u001b[0m",
      "\u001b[0;32m~/miniconda3/envs/perses-sims-oct2020/lib/python3.7/site-packages/simtk/openmm/openmm.py\u001b[0m in \u001b[0;36m<lambda>\u001b[0;34m(self, name)\u001b[0m\n\u001b[1;32m   8980\u001b[0m     \u001b[0;32mfor\u001b[0m \u001b[0m_s\u001b[0m \u001b[0;32min\u001b[0m \u001b[0;34m[\u001b[0m\u001b[0mForce\u001b[0m\u001b[0;34m]\u001b[0m\u001b[0;34m:\u001b[0m\u001b[0;34m\u001b[0m\u001b[0;34m\u001b[0m\u001b[0m\n\u001b[1;32m   8981\u001b[0m         \u001b[0m__swig_getmethods__\u001b[0m\u001b[0;34m.\u001b[0m\u001b[0mupdate\u001b[0m\u001b[0;34m(\u001b[0m\u001b[0mgetattr\u001b[0m\u001b[0;34m(\u001b[0m\u001b[0m_s\u001b[0m\u001b[0;34m,\u001b[0m \u001b[0;34m'__swig_getmethods__'\u001b[0m\u001b[0;34m,\u001b[0m \u001b[0;34m{\u001b[0m\u001b[0;34m}\u001b[0m\u001b[0;34m)\u001b[0m\u001b[0;34m)\u001b[0m\u001b[0;34m\u001b[0m\u001b[0;34m\u001b[0m\u001b[0m\n\u001b[0;32m-> 8982\u001b[0;31m     \u001b[0m__getattr__\u001b[0m \u001b[0;34m=\u001b[0m \u001b[0;32mlambda\u001b[0m \u001b[0mself\u001b[0m\u001b[0;34m,\u001b[0m \u001b[0mname\u001b[0m\u001b[0;34m:\u001b[0m \u001b[0m_swig_getattr\u001b[0m\u001b[0;34m(\u001b[0m\u001b[0mself\u001b[0m\u001b[0;34m,\u001b[0m \u001b[0mCustomNonbondedForce\u001b[0m\u001b[0;34m,\u001b[0m \u001b[0mname\u001b[0m\u001b[0;34m)\u001b[0m\u001b[0;34m\u001b[0m\u001b[0;34m\u001b[0m\u001b[0m\n\u001b[0m\u001b[1;32m   8983\u001b[0m     \u001b[0m__repr__\u001b[0m \u001b[0;34m=\u001b[0m \u001b[0m_swig_repr\u001b[0m\u001b[0;34m\u001b[0m\u001b[0;34m\u001b[0m\u001b[0m\n\u001b[1;32m   8984\u001b[0m     \u001b[0mNoCutoff\u001b[0m \u001b[0;34m=\u001b[0m \u001b[0m_openmm\u001b[0m\u001b[0;34m.\u001b[0m\u001b[0mCustomNonbondedForce_NoCutoff\u001b[0m\u001b[0;34m\u001b[0m\u001b[0;34m\u001b[0m\u001b[0m\n",
      "\u001b[0;32m~/miniconda3/envs/perses-sims-oct2020/lib/python3.7/site-packages/simtk/openmm/openmm.py\u001b[0m in \u001b[0;36m_swig_getattr\u001b[0;34m(self, class_type, name)\u001b[0m\n\u001b[1;32m     72\u001b[0m \u001b[0;34m\u001b[0m\u001b[0m\n\u001b[1;32m     73\u001b[0m \u001b[0;32mdef\u001b[0m \u001b[0m_swig_getattr\u001b[0m\u001b[0;34m(\u001b[0m\u001b[0mself\u001b[0m\u001b[0;34m,\u001b[0m \u001b[0mclass_type\u001b[0m\u001b[0;34m,\u001b[0m \u001b[0mname\u001b[0m\u001b[0;34m)\u001b[0m\u001b[0;34m:\u001b[0m\u001b[0;34m\u001b[0m\u001b[0;34m\u001b[0m\u001b[0m\n\u001b[0;32m---> 74\u001b[0;31m     \u001b[0;32mreturn\u001b[0m \u001b[0m_swig_getattr_nondynamic\u001b[0m\u001b[0;34m(\u001b[0m\u001b[0mself\u001b[0m\u001b[0;34m,\u001b[0m \u001b[0mclass_type\u001b[0m\u001b[0;34m,\u001b[0m \u001b[0mname\u001b[0m\u001b[0;34m,\u001b[0m \u001b[0;36m0\u001b[0m\u001b[0;34m)\u001b[0m\u001b[0;34m\u001b[0m\u001b[0;34m\u001b[0m\u001b[0m\n\u001b[0m\u001b[1;32m     75\u001b[0m \u001b[0;34m\u001b[0m\u001b[0m\n\u001b[1;32m     76\u001b[0m \u001b[0;34m\u001b[0m\u001b[0m\n",
      "\u001b[0;32m~/miniconda3/envs/perses-sims-oct2020/lib/python3.7/site-packages/simtk/openmm/openmm.py\u001b[0m in \u001b[0;36m_swig_getattr_nondynamic\u001b[0;34m(self, class_type, name, static)\u001b[0m\n\u001b[1;32m     67\u001b[0m         \u001b[0;32mreturn\u001b[0m \u001b[0mmethod\u001b[0m\u001b[0;34m(\u001b[0m\u001b[0mself\u001b[0m\u001b[0;34m)\u001b[0m\u001b[0;34m\u001b[0m\u001b[0;34m\u001b[0m\u001b[0m\n\u001b[1;32m     68\u001b[0m     \u001b[0;32mif\u001b[0m \u001b[0;34m(\u001b[0m\u001b[0;32mnot\u001b[0m \u001b[0mstatic\u001b[0m\u001b[0;34m)\u001b[0m\u001b[0;34m:\u001b[0m\u001b[0;34m\u001b[0m\u001b[0;34m\u001b[0m\u001b[0m\n\u001b[0;32m---> 69\u001b[0;31m         \u001b[0;32mreturn\u001b[0m \u001b[0mobject\u001b[0m\u001b[0;34m.\u001b[0m\u001b[0m__getattr__\u001b[0m\u001b[0;34m(\u001b[0m\u001b[0mself\u001b[0m\u001b[0;34m,\u001b[0m \u001b[0mname\u001b[0m\u001b[0;34m)\u001b[0m\u001b[0;34m\u001b[0m\u001b[0;34m\u001b[0m\u001b[0m\n\u001b[0m\u001b[1;32m     70\u001b[0m     \u001b[0;32melse\u001b[0m\u001b[0;34m:\u001b[0m\u001b[0;34m\u001b[0m\u001b[0;34m\u001b[0m\u001b[0m\n\u001b[1;32m     71\u001b[0m         \u001b[0;32mraise\u001b[0m \u001b[0mAttributeError\u001b[0m\u001b[0;34m(\u001b[0m\u001b[0mname\u001b[0m\u001b[0;34m)\u001b[0m\u001b[0;34m\u001b[0m\u001b[0;34m\u001b[0m\u001b[0m\n",
      "\u001b[0;31mAttributeError\u001b[0m: type object 'object' has no attribute '__getattr__'"
     ]
    }
   ],
   "source": [
    "# ewald error tolerance\n",
    "print(ala_solvent.system.getForce(3).getEwaldErrorTolerance())\n",
    "print(REST_system.getForce(3).getEwaldErrorTolerance())"
   ]
  },
  {
   "cell_type": "code",
   "execution_count": 18,
   "metadata": {},
   "outputs": [
    {
     "name": "stdout",
     "output_type": "stream",
     "text": [
      "[Quantity(value=0.0, unit=/nanometer), 0, 0, 0]\n"
     ]
    },
    {
     "ename": "AttributeError",
     "evalue": "type object 'object' has no attribute '__getattr__'",
     "output_type": "error",
     "traceback": [
      "\u001b[0;31m------------------------------------------------------------\u001b[0m",
      "\u001b[0;31mAttributeError\u001b[0m             Traceback (most recent call last)",
      "\u001b[0;32m<ipython-input-18-ec77dd46a07c>\u001b[0m in \u001b[0;36m<module>\u001b[0;34m\u001b[0m\n\u001b[1;32m      1\u001b[0m \u001b[0;31m# pme parameters\u001b[0m\u001b[0;34m\u001b[0m\u001b[0;34m\u001b[0m\u001b[0;34m\u001b[0m\u001b[0m\n\u001b[1;32m      2\u001b[0m \u001b[0mprint\u001b[0m\u001b[0;34m(\u001b[0m\u001b[0mala_solvent\u001b[0m\u001b[0;34m.\u001b[0m\u001b[0msystem\u001b[0m\u001b[0;34m.\u001b[0m\u001b[0mgetForce\u001b[0m\u001b[0;34m(\u001b[0m\u001b[0;36m3\u001b[0m\u001b[0;34m)\u001b[0m\u001b[0;34m.\u001b[0m\u001b[0mgetPMEParameters\u001b[0m\u001b[0;34m(\u001b[0m\u001b[0;34m)\u001b[0m\u001b[0;34m)\u001b[0m\u001b[0;34m\u001b[0m\u001b[0;34m\u001b[0m\u001b[0m\n\u001b[0;32m----> 3\u001b[0;31m \u001b[0mprint\u001b[0m\u001b[0;34m(\u001b[0m\u001b[0mREST_system\u001b[0m\u001b[0;34m.\u001b[0m\u001b[0mgetForce\u001b[0m\u001b[0;34m(\u001b[0m\u001b[0;36m3\u001b[0m\u001b[0;34m)\u001b[0m\u001b[0;34m.\u001b[0m\u001b[0mgetPMEParameters\u001b[0m\u001b[0;34m(\u001b[0m\u001b[0;34m)\u001b[0m\u001b[0;34m)\u001b[0m\u001b[0;34m\u001b[0m\u001b[0;34m\u001b[0m\u001b[0m\n\u001b[0m",
      "\u001b[0;32m~/miniconda3/envs/perses-sims-oct2020/lib/python3.7/site-packages/simtk/openmm/openmm.py\u001b[0m in \u001b[0;36m<lambda>\u001b[0;34m(self, name)\u001b[0m\n\u001b[1;32m   8980\u001b[0m     \u001b[0;32mfor\u001b[0m \u001b[0m_s\u001b[0m \u001b[0;32min\u001b[0m \u001b[0;34m[\u001b[0m\u001b[0mForce\u001b[0m\u001b[0;34m]\u001b[0m\u001b[0;34m:\u001b[0m\u001b[0;34m\u001b[0m\u001b[0;34m\u001b[0m\u001b[0m\n\u001b[1;32m   8981\u001b[0m         \u001b[0m__swig_getmethods__\u001b[0m\u001b[0;34m.\u001b[0m\u001b[0mupdate\u001b[0m\u001b[0;34m(\u001b[0m\u001b[0mgetattr\u001b[0m\u001b[0;34m(\u001b[0m\u001b[0m_s\u001b[0m\u001b[0;34m,\u001b[0m \u001b[0;34m'__swig_getmethods__'\u001b[0m\u001b[0;34m,\u001b[0m \u001b[0;34m{\u001b[0m\u001b[0;34m}\u001b[0m\u001b[0;34m)\u001b[0m\u001b[0;34m)\u001b[0m\u001b[0;34m\u001b[0m\u001b[0;34m\u001b[0m\u001b[0m\n\u001b[0;32m-> 8982\u001b[0;31m     \u001b[0m__getattr__\u001b[0m \u001b[0;34m=\u001b[0m \u001b[0;32mlambda\u001b[0m \u001b[0mself\u001b[0m\u001b[0;34m,\u001b[0m \u001b[0mname\u001b[0m\u001b[0;34m:\u001b[0m \u001b[0m_swig_getattr\u001b[0m\u001b[0;34m(\u001b[0m\u001b[0mself\u001b[0m\u001b[0;34m,\u001b[0m \u001b[0mCustomNonbondedForce\u001b[0m\u001b[0;34m,\u001b[0m \u001b[0mname\u001b[0m\u001b[0;34m)\u001b[0m\u001b[0;34m\u001b[0m\u001b[0;34m\u001b[0m\u001b[0m\n\u001b[0m\u001b[1;32m   8983\u001b[0m     \u001b[0m__repr__\u001b[0m \u001b[0;34m=\u001b[0m \u001b[0m_swig_repr\u001b[0m\u001b[0;34m\u001b[0m\u001b[0;34m\u001b[0m\u001b[0m\n\u001b[1;32m   8984\u001b[0m     \u001b[0mNoCutoff\u001b[0m \u001b[0;34m=\u001b[0m \u001b[0m_openmm\u001b[0m\u001b[0;34m.\u001b[0m\u001b[0mCustomNonbondedForce_NoCutoff\u001b[0m\u001b[0;34m\u001b[0m\u001b[0;34m\u001b[0m\u001b[0m\n",
      "\u001b[0;32m~/miniconda3/envs/perses-sims-oct2020/lib/python3.7/site-packages/simtk/openmm/openmm.py\u001b[0m in \u001b[0;36m_swig_getattr\u001b[0;34m(self, class_type, name)\u001b[0m\n\u001b[1;32m     72\u001b[0m \u001b[0;34m\u001b[0m\u001b[0m\n\u001b[1;32m     73\u001b[0m \u001b[0;32mdef\u001b[0m \u001b[0m_swig_getattr\u001b[0m\u001b[0;34m(\u001b[0m\u001b[0mself\u001b[0m\u001b[0;34m,\u001b[0m \u001b[0mclass_type\u001b[0m\u001b[0;34m,\u001b[0m \u001b[0mname\u001b[0m\u001b[0;34m)\u001b[0m\u001b[0;34m:\u001b[0m\u001b[0;34m\u001b[0m\u001b[0;34m\u001b[0m\u001b[0m\n\u001b[0;32m---> 74\u001b[0;31m     \u001b[0;32mreturn\u001b[0m \u001b[0m_swig_getattr_nondynamic\u001b[0m\u001b[0;34m(\u001b[0m\u001b[0mself\u001b[0m\u001b[0;34m,\u001b[0m \u001b[0mclass_type\u001b[0m\u001b[0;34m,\u001b[0m \u001b[0mname\u001b[0m\u001b[0;34m,\u001b[0m \u001b[0;36m0\u001b[0m\u001b[0;34m)\u001b[0m\u001b[0;34m\u001b[0m\u001b[0;34m\u001b[0m\u001b[0m\n\u001b[0m\u001b[1;32m     75\u001b[0m \u001b[0;34m\u001b[0m\u001b[0m\n\u001b[1;32m     76\u001b[0m \u001b[0;34m\u001b[0m\u001b[0m\n",
      "\u001b[0;32m~/miniconda3/envs/perses-sims-oct2020/lib/python3.7/site-packages/simtk/openmm/openmm.py\u001b[0m in \u001b[0;36m_swig_getattr_nondynamic\u001b[0;34m(self, class_type, name, static)\u001b[0m\n\u001b[1;32m     67\u001b[0m         \u001b[0;32mreturn\u001b[0m \u001b[0mmethod\u001b[0m\u001b[0;34m(\u001b[0m\u001b[0mself\u001b[0m\u001b[0;34m)\u001b[0m\u001b[0;34m\u001b[0m\u001b[0;34m\u001b[0m\u001b[0m\n\u001b[1;32m     68\u001b[0m     \u001b[0;32mif\u001b[0m \u001b[0;34m(\u001b[0m\u001b[0;32mnot\u001b[0m \u001b[0mstatic\u001b[0m\u001b[0;34m)\u001b[0m\u001b[0;34m:\u001b[0m\u001b[0;34m\u001b[0m\u001b[0;34m\u001b[0m\u001b[0m\n\u001b[0;32m---> 69\u001b[0;31m         \u001b[0;32mreturn\u001b[0m \u001b[0mobject\u001b[0m\u001b[0;34m.\u001b[0m\u001b[0m__getattr__\u001b[0m\u001b[0;34m(\u001b[0m\u001b[0mself\u001b[0m\u001b[0;34m,\u001b[0m \u001b[0mname\u001b[0m\u001b[0;34m)\u001b[0m\u001b[0;34m\u001b[0m\u001b[0;34m\u001b[0m\u001b[0m\n\u001b[0m\u001b[1;32m     70\u001b[0m     \u001b[0;32melse\u001b[0m\u001b[0;34m:\u001b[0m\u001b[0;34m\u001b[0m\u001b[0;34m\u001b[0m\u001b[0m\n\u001b[1;32m     71\u001b[0m         \u001b[0;32mraise\u001b[0m \u001b[0mAttributeError\u001b[0m\u001b[0;34m(\u001b[0m\u001b[0mname\u001b[0m\u001b[0;34m)\u001b[0m\u001b[0;34m\u001b[0m\u001b[0;34m\u001b[0m\u001b[0m\n",
      "\u001b[0;31mAttributeError\u001b[0m: type object 'object' has no attribute '__getattr__'"
     ]
    }
   ],
   "source": [
    "# pme parameters\n",
    "print(ala_solvent.system.getForce(3).getPMEParameters())\n",
    "print(REST_system.getForce(3).getPMEParameters())"
   ]
  },
  {
   "cell_type": "code",
   "execution_count": 6,
   "metadata": {},
   "outputs": [
    {
     "name": "stdout",
     "output_type": "stream",
     "text": [
      "78.3\n"
     ]
    }
   ],
   "source": [
    "# reaction field \n",
    "print(ala_solvent.system.getForce(3).getReactionFieldDielectric())\n",
    "# print(REST_system.getForce(3).getReactionFieldDielectric())\n"
   ]
  },
  {
   "cell_type": "code",
   "execution_count": 20,
   "metadata": {},
   "outputs": [
    {
     "name": "stdout",
     "output_type": "stream",
     "text": [
      "-1\n"
     ]
    }
   ],
   "source": [
    "print(ala_solvent.system.getForce(3).getReciprocalSpaceForceGroup())\n"
   ]
  },
  {
   "cell_type": "code",
   "execution_count": 21,
   "metadata": {},
   "outputs": [
    {
     "name": "stdout",
     "output_type": "stream",
     "text": [
      "0.8500000000000001 nm\n",
      "0.8500000000000001 nm\n"
     ]
    }
   ],
   "source": [
    "# switching distance\n",
    "print(ala_solvent.system.getForce(3).getSwitchingDistance())\n",
    "print(REST_system.getForce(3).getSwitchingDistance())\n"
   ]
  },
  {
   "cell_type": "code",
   "execution_count": 24,
   "metadata": {},
   "outputs": [
    {
     "name": "stdout",
     "output_type": "stream",
     "text": [
      "True\n",
      "False\n"
     ]
    }
   ],
   "source": [
    "# dispersion correction\n",
    "print(ala_solvent.system.getForce(3).getUseDispersionCorrection())\n",
    "print(REST_system.getForce(3).getUseLongRangeCorrection())\n"
   ]
  },
  {
   "cell_type": "code",
   "execution_count": 23,
   "metadata": {},
   "outputs": [
    {
     "name": "stdout",
     "output_type": "stream",
     "text": [
      "True\n",
      "True\n"
     ]
    }
   ],
   "source": [
    "# use switching function\n",
    "print(ala_solvent.system.getForce(3).getUseSwitchingFunction())\n",
    "print(REST_system.getForce(3).getUseSwitchingFunction())\n"
   ]
  },
  {
   "cell_type": "code",
   "execution_count": 8,
   "metadata": {},
   "outputs": [
    {
     "data": {
      "text/plain": [
       "['AndersenCollisionFrequency',\n",
       " 'AndersenTemperature',\n",
       " 'inter_scale',\n",
       " 'solute_scale']"
      ]
     },
     "execution_count": 8,
     "metadata": {},
     "output_type": "execute_result"
    }
   ],
   "source": []
  },
  {
   "cell_type": "code",
   "execution_count": null,
   "metadata": {},
   "outputs": [],
   "source": [
    "# Get exception parameter offset, pbcs\n",
    "# Particle parameter offset"
   ]
  },
  {
   "cell_type": "code",
   "execution_count": 6,
   "metadata": {},
   "outputs": [],
   "source": [
    "class REST2(RESTTopologyFactory):\n",
    "    \"\"\"\n",
    "    subclass REST, but move solvent-solvent to custom nonbonded force\n",
    "    \"\"\"\n",
    "    def _add_nonbonded_force_terms(self):\n",
    "        from openmmtools.constants import ONE_4PI_EPS0 # OpenMM constant for Coulomb interactions (implicitly in md_unit_system units)\n",
    "\n",
    "        standard_nonbonded_force = openmm.NonbondedForce()\n",
    "        custom_nonbonded_expression = f\"(4*epsilon*((sigma/r)^12-(sigma/r)^6) + ONE_4PI_EPS0*chargeProd/r) * scale_factor; \\\n",
    "                                        sigma=0.5*(sigma1+sigma2); \\\n",
    "                                        epsilon=sqrt(epsilon1*epsilon2); \\\n",
    "                                        ONE_4PI_EPS0 = {ONE_4PI_EPS0}; \\\n",
    "                                        chargeProd=q1*q2;\"\n",
    "\n",
    "        custom_nonbonded_expression += self.scaling_expression(nb=True)\n",
    "        custom_nonbonded_force = openmm.CustomNonbondedForce(custom_nonbonded_expression)\n",
    "\n",
    "#         self._out_system.addForce(standard_nonbonded_force)\n",
    "#         self._out_system_forces[standard_nonbonded_force.__class__.__name__] = standard_nonbonded_force\n",
    "\n",
    "        self._out_system.addForce(custom_nonbonded_force)\n",
    "        self._out_system_forces[custom_nonbonded_force.__class__.__name__] = custom_nonbonded_force\n",
    "\n",
    "        #set the appropriate parameters\n",
    "        epsilon_solvent = self._og_system_forces['NonbondedForce'].getReactionFieldDielectric()\n",
    "        r_cutoff = self._og_system_forces['NonbondedForce'].getCutoffDistance()\n",
    "        if self._nonbonded_method != openmm.NonbondedForce.NoCutoff:\n",
    "            standard_nonbonded_force.setReactionFieldDielectric(epsilon_solvent)\n",
    "            standard_nonbonded_force.setCutoffDistance(r_cutoff)\n",
    "            custom_nonbonded_force.setCutoffDistance(r_cutoff)\n",
    "        if self._nonbonded_method in [openmm.NonbondedForce.PME, openmm.NonbondedForce.Ewald]:\n",
    "            [alpha_ewald, nx, ny, nz] = self._og_system_forces['NonbondedForce'].getPMEParameters()\n",
    "            delta = self._og_system_forces['NonbondedForce'].getEwaldErrorTolerance()\n",
    "            standard_nonbonded_force.setPMEParameters(alpha_ewald, nx, ny, nz)\n",
    "            standard_nonbonded_force.setEwaldErrorTolerance(delta)\n",
    "        standard_nonbonded_force.setNonbondedMethod(self._nonbonded_method)\n",
    "        custom_nonbonded_force.setNonbondedMethod(self._translate_nonbonded_method_to_custom(self._nonbonded_method))\n",
    "\n",
    "        #translate nonbonded to custom\n",
    "        if self._og_system_forces['NonbondedForce'].getUseDispersionCorrection():\n",
    "#             self._out_system_forces['NonbondedForce'].setUseDispersionCorrection(True)\n",
    "            if self._use_dispersion_correction:\n",
    "                custom_nonbonded_force.setUseLongRangeCorrection(True)\n",
    "        else:\n",
    "            custom_nonbonded_force.setUseLongRangeCorrection(False)\n",
    "\n",
    "        if self._og_system_forces['NonbondedForce'].getUseSwitchingFunction():\n",
    "            switching_distance = self._og_system_forces['NonbondedForce'].getSwitchingDistance()\n",
    "            standard_nonbonded_force.setUseSwitchingFunction(True)\n",
    "            standard_nonbonded_force.setSwitchingDistance(switching_distance)\n",
    "            custom_nonbonded_force.setUseSwitchingFunction(True)\n",
    "            custom_nonbonded_force.setSwitchingDistance(switching_distance)\n",
    "        else:\n",
    "            standard_nonbonded_force.setUseSwitchingFunction(False)\n",
    "            custom_nonbonded_force.setUseSwitchingFunction(False)\n",
    "\n",
    "        custom_nonbonded_force.addPerParticleParameter(\"q\")\n",
    "        custom_nonbonded_force.addPerParticleParameter(\"sigma\")\n",
    "        custom_nonbonded_force.addPerParticleParameter(\"epsilon\")\n",
    "        custom_nonbonded_force.addPerParticleParameter(\"identifier\")\n",
    "\n",
    "        custom_nonbonded_force.addGlobalParameter('solute_scale', 1.0)\n",
    "        custom_nonbonded_force.addGlobalParameter('inter_scale', 1.0)\n",
    "\n",
    "        #finally, make a custombondedforce to treat the exceptions\n",
    "        custom_bonded_expression = f\"(4*epsilon*((sigma/r)^12-(sigma/r)^6) + ONE_4PI_EPS0*chargeProd/r) * scale_factor; \\\n",
    "                                        ONE_4PI_EPS0 = {ONE_4PI_EPS0};\"\n",
    "\n",
    "        custom_bonded_expression += self.scaling_expression()\n",
    "\n",
    "        custom_bond_force = openmm.CustomBondForce(custom_bonded_expression)\n",
    "        self._out_system.addForce(custom_bond_force)\n",
    "        self._out_system_forces[\"CustomExceptionForce\"] = custom_bond_force\n",
    "\n",
    "        #charges\n",
    "        custom_bond_force.addPerBondParameter(\"chargeProd\")\n",
    "\n",
    "        #sigma\n",
    "        custom_bond_force.addPerBondParameter(\"sigma\")\n",
    "\n",
    "        #epsilon\n",
    "        custom_bond_force.addPerBondParameter(\"epsilon\")\n",
    "\n",
    "        #identifier\n",
    "        custom_bond_force.addPerBondParameter(\"identifier\")\n",
    "\n",
    "        #global params\n",
    "        custom_bond_force.addGlobalParameter('solute_scale', 1.0)\n",
    "        custom_bond_force.addGlobalParameter('inter_scale', 1.0)\n",
    "    \n",
    "    def _add_nonbondeds(self):\n",
    "        self._solute_exceptions, self._interexceptions, self._solvent_exceptions = [], [], []\n",
    "\n",
    "        #the output nonbonded force _only_ contains solvent atoms (the rest are zeroed); same with exceptions\n",
    "        \"\"\"\n",
    "        First, handle the NonbondedForce in the out_system\n",
    "        \"\"\"\n",
    "        og_nb_force = self._og_system_forces['NonbondedForce']\n",
    "        for particle_idx in range(self._num_particles):\n",
    "            q, sigma, epsilon = og_nb_force.getParticleParameters(particle_idx)\n",
    "            identifier = self.get_identifier(particle_idx)\n",
    "\n",
    "            if identifier == 1:\n",
    "#                 self._out_system_forces['NonbondedForce'].addParticle(q, sigma, epsilon)\n",
    "                self._out_system_forces['CustomNonbondedForce'].addParticle([q, sigma, epsilon, identifier])\n",
    "            else:\n",
    "#                 self._out_system_forces['NonbondedForce'].addParticle(q*0.0, sigma, epsilon*0.0)\n",
    "                self._out_system_forces['CustomNonbondedForce'].addParticle([q, sigma, epsilon, identifier])\n",
    "\n",
    "        #add appropriate interaction group\n",
    "        solute_ig, solvent_ig = set(self._solute_region), set(self._solvent_region)\n",
    "        self._out_system_forces['CustomNonbondedForce'].addInteractionGroup(solute_ig, solvent_ig)\n",
    "        self._out_system_forces['CustomNonbondedForce'].addInteractionGroup(solute_ig, solute_ig)\n",
    "        self._out_system_forces['CustomNonbondedForce'].addInteractionGroup(solvent_ig, solvent_ig)\n",
    "\n",
    "        #handle exceptions\n",
    "        for exception_idx in range(og_nb_force.getNumExceptions()):\n",
    "            p1, p2, chargeProd, sigma, epsilon = og_nb_force.getExceptionParameters(exception_idx)\n",
    "            identifier = self.get_identifier([p1, p2])\n",
    "            if identifier == 1:\n",
    "#                 self._out_system_forces['NonbondedForce'].addException(p1, p2, chargeProd, sigma, epsilon)\n",
    "                self._solvent_exceptions.append([p1, p2, [chargeProd, sigma, epsilon]])\n",
    "                self._out_system_forces['CustomNonbondedForce'].addExclusion(p1, p2) #maintain consistent exclusions w/ exceptions\n",
    "            elif identifier == 0:\n",
    "                self._solute_exceptions.append([p1, p2, [chargeProd, sigma, epsilon]])\n",
    "#                 self._out_system_forces['NonbondedForce'].addException(p1, p2, chargeProd*0.0, sigma, epsilon*0.0)\n",
    "                self._out_system_forces['CustomNonbondedForce'].addExclusion(p1, p2) #maintain consistent exclusions w/ exceptions\n",
    "            elif identifier == 2:\n",
    "                self._interexceptions.append([p1, p2, [chargeProd, sigma, epsilon]])\n",
    "#                 self._out_system_forces['NonbondedForce'].addException(p1, p2, chargeProd*0.0, sigma, epsilon*0.0)\n",
    "                self._out_system_forces['CustomNonbondedForce'].addExclusion(p1, p2) #maintain consistent exclusions w/ exceptions\n",
    "\n",
    "        #now add the CustomBondForce for exceptions\n",
    "        exception_force = self._out_system_forces['CustomExceptionForce']\n",
    "\n",
    "        for solute_exception_term in self._solute_exceptions:\n",
    "            p1, p2, [chargeProd, sigma, epsilon] = solute_exception_term\n",
    "            if (chargeProd.value_in_unit_system(unit.md_unit_system) != 0.0) or (epsilon.value_in_unit_system(unit.md_unit_system) != 0.0):\n",
    "                identifier = 0\n",
    "                exception_force.addBond(p1, p2, [chargeProd, sigma, epsilon, identifier])\n",
    "\n",
    "        for interexception_term in self._interexceptions:\n",
    "            p1, p2, [chargeProd, sigma, epsilon] = interexception_term\n",
    "            if (chargeProd.value_in_unit_system(unit.md_unit_system) != 0.0) or (epsilon.value_in_unit_system(unit.md_unit_system) != 0.0):\n",
    "                identifier = 2\n",
    "                exception_force.addBond(p1, p2, [chargeProd, sigma, epsilon, identifier])\n",
    "        \n",
    "        for solvent_exception_term in self._solvent_exceptions:\n",
    "            p1, p2, [chargeProd, sigma, epsilon] = solvent_exception_term\n",
    "            if (chargeProd.value_in_unit_system(unit.md_unit_system) != 0.0) or (epsilon.value_in_unit_system(unit.md_unit_system) != 0.0):\n",
    "                identifier = 1\n",
    "                exception_force.addBond(p1, p2, [chargeProd, sigma, epsilon, identifier])\n"
   ]
  },
  {
   "cell_type": "code",
   "execution_count": null,
   "metadata": {},
   "outputs": [],
   "source": []
  },
  {
   "cell_type": "code",
   "execution_count": 7,
   "metadata": {},
   "outputs": [
    {
     "name": "stderr",
     "output_type": "stream",
     "text": [
      "INFO:REST:No MonteCarloBarostat added.\n",
      "INFO:REST:getDefaultPeriodicBoxVectors added to hybrid: [Quantity(value=Vec3(x=3.2852863, y=0.0, z=0.0), unit=nanometer), Quantity(value=Vec3(x=0.0, y=3.2861648000000003, z=0.0), unit=nanometer), Quantity(value=Vec3(x=0.0, y=0.0, z=3.1855098), unit=nanometer)]\n",
      "INFO:REST:No unknown forces.\n"
     ]
    }
   ],
   "source": [
    "# Compute energy for REST system\n",
    "# Create REST system\n",
    "res1 = list(topology.residues())[1]\n",
    "rest_atoms = [atom.index for atom in res1.atoms()]\n",
    "factory = RESTTopologyFactory(system, solute_region=rest_atoms, use_dispersion_correction=False)\n",
    "# factory = REST2(system, solute_region=rest_atoms)\n",
    "REST_system = factory.REST_system\n",
    "\n",
    "# Create thermodynamic state\n",
    "lambda_zero_alchemical_state = RESTState.from_system(REST_system)\n",
    "thermostate = ThermodynamicState(REST_system, temperature=T_min)\n",
    "compound_thermodynamic_state = CompoundThermodynamicState(thermostate,\n",
    "                                                          composable_states=[lambda_zero_alchemical_state])\n",
    "\n",
    "# Set alchemical parameters\n",
    "beta_0 = 1 / (kB * T_min)\n",
    "beta_m = 1 / (kB * T)\n",
    "compound_thermodynamic_state.set_alchemical_parameters(beta_0, beta_m)\n",
    "\n",
    "# Minimize and save energy\n",
    "integrator = openmm.VerletIntegrator(1.0 * unit.femtosecond)\n",
    "context = compound_thermodynamic_state.create_context(integrator)\n",
    "context.setPositions(positions)\n",
    "sampler_state = SamplerState.from_context(context)\n",
    "REST_energy = compound_thermodynamic_state.reduced_potential(sampler_state)\n",
    "\n",
    "# Compute energy for non-RESTified system\n",
    "# Determine regions and scaling factors\n",
    "solute = rest_atoms\n",
    "solvent = [i for i in range(topology.getNumAtoms()) if i not in rest_atoms]\n",
    "solute_scaling = beta_m / beta_0\n",
    "inter_scaling = np.sqrt(beta_m / beta_0)\n",
    "\n",
    "# Scale the terms in the bond force appropriately\n",
    "bond_force = system.getForce(0)\n",
    "for bond in range(bond_force.getNumBonds()):\n",
    "    p1, p2, length, k = bond_force.getBondParameters(bond)\n",
    "    if p1 in solute and p2 in solute:\n",
    "        bond_force.setBondParameters(bond, p1, p2, length, k * solute_scaling)\n",
    "    elif (p1 in solute and p2 in solvent) or (p1 in solvent and p2 in solute):\n",
    "        bond_force.setBondParameters(bond, p1, p2, length, k * inter_scaling)\n",
    "\n",
    "# Scale the terms in the angle force appropriately\n",
    "angle_force = system.getForce(1)\n",
    "for angle_index in range(angle_force.getNumAngles()):\n",
    "    p1, p2, p3, angle, k = angle_force.getAngleParameters(angle_index)\n",
    "    if p1 in solute and p2 in solute and p3 in solute:\n",
    "        angle_force.setAngleParameters(angle_index, p1, p2, p3, angle, k * solute_scaling)\n",
    "    elif set([p1, p2, p3]).intersection(set(solute)) != set() and set([p1, p2, p3]).intersection(\n",
    "            set(solvent)) != set():\n",
    "        angle_force.setAngleParameters(angle_index, p1, p2, p3, angle, k * inter_scaling)\n",
    "\n",
    "# Scale the terms in the torsion force appropriately\n",
    "torsion_force = system.getForce(2)\n",
    "for torsion_index in range(torsion_force.getNumTorsions()):\n",
    "    p1, p2, p3, p4, periodicity, phase, k = torsion_force.getTorsionParameters(torsion_index)\n",
    "    if p1 in solute and p2 in solute and p3 in solute and p4 in solute:\n",
    "        torsion_force.setTorsionParameters(torsion_index, p1, p2, p3, p4, periodicity, phase, k * solute_scaling)\n",
    "    elif set([p1, p2, p3, p4]).intersection(set(solute)) != set() and set([p1, p2, p3, p4]).intersection(\n",
    "            set(solvent)) != set():\n",
    "        torsion_force.setTorsionParameters(torsion_index, p1, p2, p3, p4, periodicity, phase, k * inter_scaling)\n",
    "\n",
    "# Scale the exceptions in the nonbonded force appropriately\n",
    "nb_force = system.getForce(3)\n",
    "for nb_index in range(nb_force.getNumExceptions()):\n",
    "    p1, p2, chargeProd, sigma, epsilon = nb_force.getExceptionParameters(nb_index)\n",
    "    if p1 in solute and p2 in solute:\n",
    "        nb_force.setExceptionParameters(nb_index, p1, p2, solute_scaling * chargeProd, sigma, solute_scaling * epsilon)\n",
    "    elif (p1 in solute and p2 in solvent) or (p1 in solvent and p2 in solute):\n",
    "        nb_force.setExceptionParameters(nb_index, p1, p2, inter_scaling * chargeProd, sigma, inter_scaling * epsilon)\n",
    "\n",
    "# Scale nonbonded interactions for solute-solute region by adding exceptions for all pairs of atoms\n",
    "exception_pairs = [tuple(sorted([nb_force.getExceptionParameters(nb_index)[0], nb_force.getExceptionParameters(nb_index)[1]])) for nb_index in range(nb_force.getNumExceptions())]\n",
    "solute_pairs = set([tuple(sorted(pair)) for pair in list(itertools.product(solute, solute))])\n",
    "for pair in list(solute_pairs):\n",
    "    p1 = pair[0]\n",
    "    p2 = pair[1]\n",
    "    p1_charge, p1_sigma, p1_epsilon = nb_force.getParticleParameters(p1)\n",
    "    p2_charge, p2_sigma, p2_epsilon = nb_force.getParticleParameters(p2)\n",
    "    if p1 != p2:\n",
    "        if pair not in exception_pairs:\n",
    "            nb_force.addException(p1, p2, p1_charge * p2_charge * solute_scaling, 0.5 * (p1_sigma + p2_sigma),\n",
    "                                  np.sqrt(p1_epsilon * p2_epsilon) * solute_scaling)\n",
    "\n",
    "# Scale nonbonded interactions for inter region by adding exceptions for all pairs of atoms\n",
    "for pair in list(itertools.product(solute, solvent)):\n",
    "    p1 = pair[0]\n",
    "    p2 = int(pair[1])  # otherwise, will be a numpy int\n",
    "    p1_charge, p1_sigma, p1_epsilon = nb_force.getParticleParameters(p1)\n",
    "    p2_charge, p2_sigma, p2_epsilon = nb_force.getParticleParameters(p2)\n",
    "    if tuple(sorted(pair)) not in exception_pairs:\n",
    "        nb_force.addException(p1, p2, p1_charge * p2_charge * inter_scaling, 0.5 * (p1_sigma + p2_sigma), np.sqrt(p1_epsilon * p2_epsilon) * inter_scaling)\n",
    "\n",
    "# Get energy\n",
    "thermostate = ThermodynamicState(system, temperature=T_min)\n",
    "integrator = openmm.VerletIntegrator(1.0 * unit.femtosecond)\n",
    "context = thermostate.create_context(integrator)\n",
    "context.setPositions(positions)\n",
    "sampler_state = SamplerState.from_context(context)\n",
    "nonREST_energy = thermostate.reduced_potential(sampler_state)"
   ]
  },
  {
   "cell_type": "code",
   "execution_count": 8,
   "metadata": {},
   "outputs": [
    {
     "data": {
      "text/plain": [
       "-9896.171180670372"
      ]
     },
     "execution_count": 8,
     "metadata": {},
     "output_type": "execute_result"
    }
   ],
   "source": [
    "REST_energy"
   ]
  },
  {
   "cell_type": "code",
   "execution_count": 9,
   "metadata": {},
   "outputs": [
    {
     "data": {
      "text/plain": [
       "-9896.171260146422"
      ]
     },
     "execution_count": 9,
     "metadata": {},
     "output_type": "execute_result"
    }
   ],
   "source": [
    "nonREST_energy"
   ]
  },
  {
   "cell_type": "code",
   "execution_count": null,
   "metadata": {},
   "outputs": [],
   "source": []
  }
 ],
 "metadata": {
  "kernelspec": {
   "display_name": "Python 3",
   "language": "python",
   "name": "python3"
  },
  "language_info": {
   "codemirror_mode": {
    "name": "ipython",
    "version": 3
   },
   "file_extension": ".py",
   "mimetype": "text/x-python",
   "name": "python",
   "nbconvert_exporter": "python",
   "pygments_lexer": "ipython3",
   "version": "3.7.8"
  }
 },
 "nbformat": 4,
 "nbformat_minor": 4
}
