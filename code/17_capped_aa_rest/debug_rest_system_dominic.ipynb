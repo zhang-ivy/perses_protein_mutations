{
 "cells": [
  {
   "cell_type": "code",
   "execution_count": 14,
   "metadata": {},
   "outputs": [
    {
     "name": "stdout",
     "output_type": "stream",
     "text": [
      "conducting subsequent work with the following platform: CUDA\n"
     ]
    }
   ],
   "source": [
    "import pickle\n",
    "import os\n",
    "from perses.annihilation.rest import RESTTopologyFactory\n",
    "from perses.annihilation.lambda_protocol import RESTState\n",
    "from openmmtools.states import SamplerState, ThermodynamicState, CompoundThermodynamicState\n",
    "from openmmtools import cache, utils\n",
    "from perses.dispersed.utils import configure_platform\n",
    "cache.global_context_cache.platform = configure_platform(utils.get_fastest_platform().getName())\n",
    "from simtk import openmm, unit\n",
    "import math\n",
    "from openmmtools.constants import kB\n",
    "from openmmtools import mcmc, multistate\n",
    "import argparse\n",
    "import copy\n",
    "from perses.dispersed import feptasks\n",
    "import numpy as np\n",
    "from simtk.openmm import app\n",
    "from openmmforcefields.generators import SystemGenerator\n",
    "import pickle\n",
    "import mdtraj as md\n",
    "import itertools\n",
    "from perses.tests.utils import compute_potential_components"
   ]
  },
  {
   "cell_type": "markdown",
   "metadata": {},
   "source": [
    "## test the energy discrepancy of the alanine dipeptide in solvent with CutoffPeriodic"
   ]
  },
  {
   "cell_type": "code",
   "execution_count": 2,
   "metadata": {},
   "outputs": [],
   "source": [
    "from openmmtools.testsystems import AlanineDipeptideExplicit\n",
    "ala = AlanineDipeptideExplicit(useDispersionCorrection=False, nonbondedMethod=app.CutoffPeriodic)"
   ]
  },
  {
   "cell_type": "code",
   "execution_count": 4,
   "metadata": {},
   "outputs": [],
   "source": [
    "res1 = list(ala.topology.residues())[1]\n",
    "rest_atoms = [atom.index for atom in res1.atoms()]"
   ]
  },
  {
   "cell_type": "code",
   "execution_count": 5,
   "metadata": {
    "scrolled": true
   },
   "outputs": [
    {
     "data": {
      "text/plain": [
       "[<simtk.openmm.openmm.HarmonicBondForce; proxy of <Swig Object of type 'OpenMM::HarmonicBondForce *' at 0x2b2e797f7a80> >,\n",
       " <simtk.openmm.openmm.HarmonicAngleForce; proxy of <Swig Object of type 'OpenMM::HarmonicAngleForce *' at 0x2b2e43a236c0> >,\n",
       " <simtk.openmm.openmm.PeriodicTorsionForce; proxy of <Swig Object of type 'OpenMM::PeriodicTorsionForce *' at 0x2b2e43a23060> >,\n",
       " <simtk.openmm.openmm.NonbondedForce; proxy of <Swig Object of type 'OpenMM::NonbondedForce *' at 0x2b2e43a23db0> >,\n",
       " <simtk.openmm.openmm.CMMotionRemover; proxy of <Swig Object of type 'OpenMM::CMMotionRemover *' at 0x2b2e43a23930> >]"
      ]
     },
     "execution_count": 5,
     "metadata": {},
     "output_type": "execute_result"
    }
   ],
   "source": [
    "ala.system.getForces()"
   ]
  },
  {
   "cell_type": "code",
   "execution_count": 6,
   "metadata": {},
   "outputs": [],
   "source": [
    "ala.system.removeForce(4) #remove CMM"
   ]
  },
  {
   "cell_type": "code",
   "execution_count": 7,
   "metadata": {},
   "outputs": [
    {
     "name": "stderr",
     "output_type": "stream",
     "text": [
      "INFO:REST:No MonteCarloBarostat added.\n",
      "INFO:REST:getDefaultPeriodicBoxVectors added to hybrid: [Quantity(value=Vec3(x=3.2852863, y=0.0, z=0.0), unit=nanometer), Quantity(value=Vec3(x=0.0, y=3.2861648000000003, z=0.0), unit=nanometer), Quantity(value=Vec3(x=0.0, y=0.0, z=3.1855098), unit=nanometer)]\n",
      "INFO:REST:No unknown forces.\n"
     ]
    }
   ],
   "source": [
    "rtf = RESTTopologyFactory(system = ala.system, solute_region=rest_atoms, use_dispersion_correction=False)"
   ]
  },
  {
   "cell_type": "code",
   "execution_count": 8,
   "metadata": {},
   "outputs": [],
   "source": [
    "ss = SamplerState(positions=ala.positions)"
   ]
  },
  {
   "cell_type": "code",
   "execution_count": 9,
   "metadata": {},
   "outputs": [
    {
     "name": "stdout",
     "output_type": "stream",
     "text": [
      "-24377.96102599183 kJ/mol\n"
     ]
    }
   ],
   "source": [
    "og_thermostate = ThermodynamicState(ala.system, temperature=300*unit.kelvin)\n",
    "og_integrator = openmm.VerletIntegrator(1.0*unit.femtosecond)\n",
    "og_context = og_thermostate.create_context(og_integrator)\n",
    "ss.apply_to_context(og_context)\n",
    "ss.update_from_context(og_context)\n",
    "print(ss.potential_energy)\n"
   ]
  },
  {
   "cell_type": "code",
   "execution_count": 10,
   "metadata": {},
   "outputs": [],
   "source": [
    "thermostate = ThermodynamicState(rtf.REST_system, temperature=300*unit.kelvin)\n",
    "integrator = openmm.VerletIntegrator(1.0*unit.femtosecond)\n",
    "context = thermostate.create_context(integrator)\n",
    "ss.apply_to_context(context)\n",
    "ss.update_from_context(context)"
   ]
  },
  {
   "cell_type": "code",
   "execution_count": 11,
   "metadata": {},
   "outputs": [
    {
     "data": {
      "text/plain": [
       "Quantity(value=-24406.880053823006, unit=kilojoule/mole)"
      ]
     },
     "execution_count": 11,
     "metadata": {},
     "output_type": "execute_result"
    }
   ],
   "source": [
    "ss.potential_energy"
   ]
  },
  {
   "cell_type": "code",
   "execution_count": 15,
   "metadata": {},
   "outputs": [
    {
     "name": "stdout",
     "output_type": "stream",
     "text": [
      "conducting subsequent work with the following platform: CUDA\n"
     ]
    }
   ],
   "source": [
    "og_forces = [q[1] for q in compute_potential_components(og_context, thermostate.beta)]"
   ]
  },
  {
   "cell_type": "code",
   "execution_count": 16,
   "metadata": {},
   "outputs": [
    {
     "name": "stdout",
     "output_type": "stream",
     "text": [
      "conducting subsequent work with the following platform: CUDA\n"
     ]
    }
   ],
   "source": [
    "new_forces = [q[1] for q in compute_potential_components(context, thermostate.beta)]"
   ]
  },
  {
   "cell_type": "code",
   "execution_count": 17,
   "metadata": {},
   "outputs": [
    {
     "data": {
      "text/plain": [
       "0.0"
      ]
     },
     "execution_count": 17,
     "metadata": {},
     "output_type": "execute_result"
    }
   ],
   "source": [
    "og_forces[0] - new_forces[0] #bond"
   ]
  },
  {
   "cell_type": "code",
   "execution_count": 18,
   "metadata": {},
   "outputs": [
    {
     "data": {
      "text/plain": [
       "-1.1102230246251565e-16"
      ]
     },
     "execution_count": 18,
     "metadata": {},
     "output_type": "execute_result"
    }
   ],
   "source": [
    "og_forces[1] - new_forces[1] #angle"
   ]
  },
  {
   "cell_type": "code",
   "execution_count": 19,
   "metadata": {},
   "outputs": [
    {
     "data": {
      "text/plain": [
       "-3.298235728976806e-06"
      ]
     },
     "execution_count": 19,
     "metadata": {},
     "output_type": "execute_result"
    }
   ],
   "source": [
    "og_forces[2] - new_forces[2] #torsion"
   ]
  },
  {
   "cell_type": "code",
   "execution_count": 20,
   "metadata": {},
   "outputs": [
    {
     "data": {
      "text/plain": [
       "11.593858174837806"
      ]
     },
     "execution_count": 20,
     "metadata": {},
     "output_type": "execute_result"
    }
   ],
   "source": [
    "np.array(og_forces[3:]).sum() - np.array(new_forces[3:]).sum() #nonbonded"
   ]
  },
  {
   "cell_type": "code",
   "execution_count": 21,
   "metadata": {},
   "outputs": [
    {
     "data": {
      "text/plain": [
       "[0.03455176988667383,\n",
       " 0.6071341287747579,\n",
       " 3.2298440541507567,\n",
       " -9777.175232374319,\n",
       " 0.0]"
      ]
     },
     "execution_count": 21,
     "metadata": {},
     "output_type": "execute_result"
    }
   ],
   "source": [
    "og_forces"
   ]
  },
  {
   "cell_type": "code",
   "execution_count": 22,
   "metadata": {
    "scrolled": true
   },
   "outputs": [
    {
     "data": {
      "text/plain": [
       "[0.03455176988667383,\n",
       " 0.607134128774758,\n",
       " 3.2298473523864857,\n",
       " -9798.93716972444,\n",
       " -96.90382601250437,\n",
       " 107.07190518778819,\n",
       " 0.0]"
      ]
     },
     "execution_count": 22,
     "metadata": {},
     "output_type": "execute_result"
    }
   ],
   "source": [
    "new_forces"
   ]
  },
  {
   "cell_type": "markdown",
   "metadata": {},
   "source": [
    "## test the energy discrepancy of the alanine dipeptide in solvent with NoCutoff"
   ]
  },
  {
   "cell_type": "code",
   "execution_count": 24,
   "metadata": {},
   "outputs": [],
   "source": [
    "from openmmtools.testsystems import AlanineDipeptideExplicit\n",
    "ala = AlanineDipeptideExplicit(useDispersionCorrection=False, nonbondedMethod=app.NoCutoff)"
   ]
  },
  {
   "cell_type": "code",
   "execution_count": 25,
   "metadata": {},
   "outputs": [],
   "source": [
    "res1 = list(ala.topology.residues())[1]\n",
    "rest_atoms = [atom.index for atom in res1.atoms()]"
   ]
  },
  {
   "cell_type": "code",
   "execution_count": 26,
   "metadata": {
    "scrolled": true
   },
   "outputs": [
    {
     "data": {
      "text/plain": [
       "[<simtk.openmm.openmm.HarmonicBondForce; proxy of <Swig Object of type 'OpenMM::HarmonicBondForce *' at 0x2b2e79900ab0> >,\n",
       " <simtk.openmm.openmm.HarmonicAngleForce; proxy of <Swig Object of type 'OpenMM::HarmonicAngleForce *' at 0x2b2e79900de0> >,\n",
       " <simtk.openmm.openmm.PeriodicTorsionForce; proxy of <Swig Object of type 'OpenMM::PeriodicTorsionForce *' at 0x2b2e799000c0> >,\n",
       " <simtk.openmm.openmm.NonbondedForce; proxy of <Swig Object of type 'OpenMM::NonbondedForce *' at 0x2b2ecfcd7c60> >,\n",
       " <simtk.openmm.openmm.CMMotionRemover; proxy of <Swig Object of type 'OpenMM::CMMotionRemover *' at 0x2b2ecfcd7cf0> >]"
      ]
     },
     "execution_count": 26,
     "metadata": {},
     "output_type": "execute_result"
    }
   ],
   "source": [
    "ala.system.getForces()"
   ]
  },
  {
   "cell_type": "code",
   "execution_count": 27,
   "metadata": {},
   "outputs": [],
   "source": [
    "ala.system.removeForce(4) #remove CMM"
   ]
  },
  {
   "cell_type": "code",
   "execution_count": 28,
   "metadata": {},
   "outputs": [
    {
     "name": "stderr",
     "output_type": "stream",
     "text": [
      "INFO:REST:No MonteCarloBarostat added.\n",
      "INFO:REST:getDefaultPeriodicBoxVectors added to hybrid: [Quantity(value=Vec3(x=3.2852863, y=0.0, z=0.0), unit=nanometer), Quantity(value=Vec3(x=0.0, y=3.2861648000000003, z=0.0), unit=nanometer), Quantity(value=Vec3(x=0.0, y=0.0, z=3.1855098), unit=nanometer)]\n",
      "INFO:REST:No unknown forces.\n"
     ]
    }
   ],
   "source": [
    "rtf = RESTTopologyFactory(system = ala.system, solute_region=rest_atoms, use_dispersion_correction=False)"
   ]
  },
  {
   "cell_type": "code",
   "execution_count": 29,
   "metadata": {},
   "outputs": [],
   "source": [
    "ss = SamplerState(positions=ala.positions)"
   ]
  },
  {
   "cell_type": "code",
   "execution_count": 30,
   "metadata": {},
   "outputs": [
    {
     "name": "stdout",
     "output_type": "stream",
     "text": [
      "-24519.86947259385 kJ/mol\n"
     ]
    }
   ],
   "source": [
    "og_thermostate = ThermodynamicState(ala.system, temperature=300*unit.kelvin)\n",
    "og_integrator = openmm.VerletIntegrator(1.0*unit.femtosecond)\n",
    "og_context = og_thermostate.create_context(og_integrator)\n",
    "ss.apply_to_context(og_context)\n",
    "ss.update_from_context(og_context)\n",
    "print(ss.potential_energy)\n"
   ]
  },
  {
   "cell_type": "code",
   "execution_count": 31,
   "metadata": {},
   "outputs": [],
   "source": [
    "thermostate = ThermodynamicState(rtf.REST_system, temperature=300*unit.kelvin)\n",
    "integrator = openmm.VerletIntegrator(1.0*unit.femtosecond)\n",
    "context = thermostate.create_context(integrator)\n",
    "ss.apply_to_context(context)\n",
    "ss.update_from_context(context)"
   ]
  },
  {
   "cell_type": "code",
   "execution_count": 32,
   "metadata": {},
   "outputs": [
    {
     "data": {
      "text/plain": [
       "Quantity(value=-24519.869461925562, unit=kilojoule/mole)"
      ]
     },
     "execution_count": 32,
     "metadata": {},
     "output_type": "execute_result"
    }
   ],
   "source": [
    "ss.potential_energy"
   ]
  },
  {
   "cell_type": "code",
   "execution_count": 33,
   "metadata": {},
   "outputs": [
    {
     "name": "stdout",
     "output_type": "stream",
     "text": [
      "conducting subsequent work with the following platform: CUDA\n"
     ]
    }
   ],
   "source": [
    "og_forces = [q[1] for q in compute_potential_components(og_context, thermostate.beta)]"
   ]
  },
  {
   "cell_type": "code",
   "execution_count": 34,
   "metadata": {},
   "outputs": [
    {
     "name": "stdout",
     "output_type": "stream",
     "text": [
      "conducting subsequent work with the following platform: CUDA\n"
     ]
    }
   ],
   "source": [
    "new_forces = [q[1] for q in compute_potential_components(context, thermostate.beta)]"
   ]
  },
  {
   "cell_type": "code",
   "execution_count": 35,
   "metadata": {},
   "outputs": [
    {
     "data": {
      "text/plain": [
       "0.0"
      ]
     },
     "execution_count": 35,
     "metadata": {},
     "output_type": "execute_result"
    }
   ],
   "source": [
    "og_forces[0] - new_forces[0] #bond"
   ]
  },
  {
   "cell_type": "code",
   "execution_count": 36,
   "metadata": {},
   "outputs": [
    {
     "data": {
      "text/plain": [
       "0.0"
      ]
     },
     "execution_count": 36,
     "metadata": {},
     "output_type": "execute_result"
    }
   ],
   "source": [
    "og_forces[1] - new_forces[1] #angle"
   ]
  },
  {
   "cell_type": "code",
   "execution_count": 37,
   "metadata": {},
   "outputs": [
    {
     "data": {
      "text/plain": [
       "-3.298235663695692e-06"
      ]
     },
     "execution_count": 37,
     "metadata": {},
     "output_type": "execute_result"
    }
   ],
   "source": [
    "og_forces[2] - new_forces[2] #torsion"
   ]
  },
  {
   "cell_type": "code",
   "execution_count": 38,
   "metadata": {},
   "outputs": [
    {
     "data": {
      "text/plain": [
       "-9.787581802811474e-07"
      ]
     },
     "execution_count": 38,
     "metadata": {},
     "output_type": "execute_result"
    }
   ],
   "source": [
    "np.array(og_forces[3:]).sum() - np.array(new_forces[3:]).sum() #nonbonded"
   ]
  },
  {
   "cell_type": "code",
   "execution_count": 39,
   "metadata": {},
   "outputs": [
    {
     "data": {
      "text/plain": [
       "[0.034551769886566816,\n",
       " 0.6071341287752139,\n",
       " 3.229844054150822,\n",
       " -9834.068036693374,\n",
       " 0.0]"
      ]
     },
     "execution_count": 39,
     "metadata": {},
     "output_type": "execute_result"
    }
   ],
   "source": [
    "og_forces"
   ]
  },
  {
   "cell_type": "code",
   "execution_count": 40,
   "metadata": {
    "scrolled": true
   },
   "outputs": [
    {
     "data": {
      "text/plain": [
       "[0.034551769886566816,\n",
       " 0.6071341287752139,\n",
       " 3.2298473523864857,\n",
       " -9793.502338902084,\n",
       " -147.6376020003182,\n",
       " 107.07190518778836,\n",
       " 0.0]"
      ]
     },
     "execution_count": 40,
     "metadata": {},
     "output_type": "execute_result"
    }
   ],
   "source": [
    "new_forces"
   ]
  },
  {
   "cell_type": "code",
   "execution_count": null,
   "metadata": {},
   "outputs": [],
   "source": []
  }
 ],
 "metadata": {
  "kernelspec": {
   "display_name": "Python 3",
   "language": "python",
   "name": "python3"
  },
  "language_info": {
   "codemirror_mode": {
    "name": "ipython",
    "version": 3
   },
   "file_extension": ".py",
   "mimetype": "text/x-python",
   "name": "python",
   "nbconvert_exporter": "python",
   "pygments_lexer": "ipython3",
   "version": "3.8.6"
  }
 },
 "nbformat": 4,
 "nbformat_minor": 4
}
