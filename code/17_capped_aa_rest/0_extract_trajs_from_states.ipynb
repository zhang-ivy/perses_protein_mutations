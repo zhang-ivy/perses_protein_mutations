{
 "cells": [
  {
   "cell_type": "code",
   "execution_count": 1,
   "metadata": {},
   "outputs": [],
   "source": [
    "import math\n",
    "from simtk import unit\n",
    "import os\n",
    "import tempfile\n",
    "import pickle\n",
    "import mdtraj as md\n",
    "import numpy as np\n",
    "from simtk.unit.quantity import Quantity\n",
    "import logging \n",
    "from tqdm import tqdm\n",
    "# Set up logger\n",
    "_logger = logging.getLogger()\n",
    "_logger.setLevel(logging.INFO)"
   ]
  },
  {
   "cell_type": "code",
   "execution_count": 7,
   "metadata": {},
   "outputs": [],
   "source": [
    "def get_trajs_for_state(i, aa, phase, length, out_dir, index, vanilla=False, htf=None):\n",
    "    # From Hannah: https://github.com/hannahbrucemacdonald/endstate_pdbs/blob/master/scripts/input_for_pol_calc.py\n",
    "    from perses.analysis.utils import open_netcdf\n",
    "    nc = open_netcdf(os.path.join(out_dir, f\"{i}_{phase}_{aa}_{length}.nc\"))\n",
    "    nc_checkpoint = open_netcdf(os.path.join(out_dir, f\"{i}_{phase}_{aa}_{length}_checkpoint.nc\"))\n",
    "    checkpoint_interval = nc_checkpoint.CheckpointInterval\n",
    "    all_positions = nc_checkpoint.variables['positions']\n",
    "    n_iter, n_replicas, n_atoms, _ = np.shape(all_positions)\n",
    "    \n",
    "    if not vanilla:\n",
    "        new_top = md.Topology.from_openmm(htf._topology_proposal.new_topology)\n",
    "        old_top = md.Topology.from_openmm(htf._topology_proposal.old_topology)\n",
    "\n",
    "        all_pos_new = np.zeros(shape=(n_iter, new_top.n_atoms, 3))\n",
    "        all_pos_old = np.zeros(shape=(n_iter, old_top.n_atoms, 3))\n",
    "        for iteration in tqdm(range(n_iter)):\n",
    "            replica_id = np.where(nc.variables['states'][iteration*checkpoint_interval] == index)[0]\n",
    "            pos = all_positions[iteration,replica_id,:,:][0] *unit.nanometers\n",
    "            all_pos_new[iteration] = htf.new_positions(pos).value_in_unit_system(unit.md_unit_system) # Get new positions only\n",
    "            all_pos_old[iteration] = htf.old_positions(pos).value_in_unit_system(unit.md_unit_system)\n",
    "    \n",
    "        return all_pos_new, all_pos_old\n",
    "    else:\n",
    "        # Get topology\n",
    "        with open(os.path.join(out_dir, f\"{i}_{aa}_vanilla_topology.pickle\"), \"rb\") as f:\n",
    "            topology = pickle.load(f)\n",
    "        all_pos = np.zeros(shape=(n_iter, topology.getNumAtoms(), 3))\n",
    "        \n",
    "        for iteration in tqdm(range(n_iter)):\n",
    "            replica_id = np.where(nc.variables['states'][iteration*checkpoint_interval] == index)[0]\n",
    "            all_pos[iteration] = all_positions[iteration,replica_id,:,:][0] *unit.nanometers\n",
    "    \n",
    "        return all_pos, topology\n",
    "    \n"
   ]
  },
  {
   "cell_type": "code",
   "execution_count": 3,
   "metadata": {},
   "outputs": [],
   "source": [
    "out_dir = \"/data/chodera/zhangi/perses_benchmark/neq/11/17/\"\n",
    "i = os.path.basename(os.path.dirname(out_dir))\n",
    "phase = 'solvent'\n",
    "endstate = 1\n",
    "aa = 'ALA'.lower()\n",
    "length = '5ns'\n",
    "index = 0\n",
    "with open(os.path.join(out_dir, f\"{i}_{phase}_{endstate}.pickle\"), \"rb\") as f:\n",
    "    htf = pickle.load(f)\n"
   ]
  },
  {
   "cell_type": "code",
   "execution_count": 8,
   "metadata": {},
   "outputs": [
    {
     "name": "stderr",
     "output_type": "stream",
     "text": [
      "100%|██████████| 5001/5001 [18:00<00:00,  4.63it/s]\n"
     ]
    }
   ],
   "source": [
    "# new, old = get_trajs_for_state(i, aa, phase, length, out_dir, index, vanilla=True)\n",
    "pos_new, pos_old = get_trajs_for_state(i, aa, phase, length, out_dir, index, vanilla=False, htf=htf)"
   ]
  },
  {
   "cell_type": "code",
   "execution_count": 12,
   "metadata": {},
   "outputs": [],
   "source": [
    "traj_new = md.Trajectory(pos_new, md.Topology.from_openmm(htf._topology_proposal.new_topology))\n",
    "traj_new.save(out_dir + f\"new_{index}.dcd\")"
   ]
  },
  {
   "cell_type": "code",
   "execution_count": 13,
   "metadata": {},
   "outputs": [],
   "source": [
    "traj_new[0].save(out_dir + f\"new_{index}.pdb\")"
   ]
  },
  {
   "cell_type": "code",
   "execution_count": 9,
   "metadata": {},
   "outputs": [],
   "source": [
    "traj_old = md.Trajectory(pos_old, md.Topology.from_openmm(htf._topology_proposal.old_topology))\n",
    "# traj_old = md.Trajectory(pos, md.Topology.from_openmm(topology))\n",
    "traj_old.save(out_dir + f\"old_{index}.dcd\") # index here indicates the index of the state"
   ]
  },
  {
   "cell_type": "code",
   "execution_count": 10,
   "metadata": {},
   "outputs": [],
   "source": [
    "traj_old[0].save(out_dir + f\"old_{index}.pdb\")"
   ]
  },
  {
   "cell_type": "code",
   "execution_count": null,
   "metadata": {},
   "outputs": [],
   "source": []
  }
 ],
 "metadata": {
  "kernelspec": {
   "display_name": "Python 3",
   "language": "python",
   "name": "python3"
  },
  "language_info": {
   "codemirror_mode": {
    "name": "ipython",
    "version": 3
   },
   "file_extension": ".py",
   "mimetype": "text/x-python",
   "name": "python",
   "nbconvert_exporter": "python",
   "pygments_lexer": "ipython3",
   "version": "3.7.8"
  }
 },
 "nbformat": 4,
 "nbformat_minor": 4
}
