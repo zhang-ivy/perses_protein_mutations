{
 "cells": [
  {
   "cell_type": "code",
   "execution_count": 1,
   "metadata": {},
   "outputs": [
    {
     "name": "stderr",
     "output_type": "stream",
     "text": [
      "INFO:numexpr.utils:Note: detected 72 virtual cores but NumExpr set to maximum of 64, check \"NUMEXPR_MAX_THREADS\" environment variable.\n",
      "INFO:numexpr.utils:Note: NumExpr detected 72 cores but \"NUMEXPR_MAX_THREADS\" not set, so enforcing safe limit of 8.\n",
      "INFO:numexpr.utils:NumExpr defaulting to 8 threads.\n"
     ]
    },
    {
     "name": "stdout",
     "output_type": "stream",
     "text": [
      "conducting subsequent work with the following platform: CUDA\n",
      "conducting subsequent work with the following platform: CUDA\n"
     ]
    }
   ],
   "source": [
    "import pickle\n",
    "import os\n",
    "from perses.annihilation.rest import RESTTopologyFactory\n",
    "from perses.annihilation.lambda_protocol import RESTState\n",
    "from openmmtools.states import SamplerState, ThermodynamicState, CompoundThermodynamicState\n",
    "from openmmtools import cache, utils\n",
    "from perses.dispersed.utils import configure_platform\n",
    "cache.global_context_cache.platform = configure_platform(utils.get_fastest_platform().getName())\n",
    "from simtk import openmm, unit\n",
    "import math\n",
    "from openmmtools.constants import kB\n",
    "from openmmtools import mcmc, multistate\n",
    "import argparse\n",
    "import copy\n",
    "from perses.dispersed import feptasks\n",
    "import numpy as np\n",
    "from simtk.openmm import app\n",
    "from openmmforcefields.generators import SystemGenerator\n",
    "import pickle\n",
    "import mdtraj as md\n",
    "import itertools"
   ]
  },
  {
   "cell_type": "markdown",
   "metadata": {},
   "source": [
    "test the energy discrepancy of the alanine dipeptide in vacuum"
   ]
  },
  {
   "cell_type": "code",
   "execution_count": 2,
   "metadata": {},
   "outputs": [],
   "source": [
    "from openmmtools.testsystems import AlanineDipeptideVacuum\n",
    "ala = AlanineDipeptideVacuum()"
   ]
  },
  {
   "cell_type": "code",
   "execution_count": 3,
   "metadata": {},
   "outputs": [
    {
     "name": "stdout",
     "output_type": "stream",
     "text": [
      "<Atom 0 (H1) of chain 0 residue 0 (ACE)>\n",
      "<Atom 1 (CH3) of chain 0 residue 0 (ACE)>\n",
      "<Atom 2 (H2) of chain 0 residue 0 (ACE)>\n",
      "<Atom 3 (H3) of chain 0 residue 0 (ACE)>\n",
      "<Atom 4 (C) of chain 0 residue 0 (ACE)>\n",
      "<Atom 5 (O) of chain 0 residue 0 (ACE)>\n",
      "<Atom 6 (N) of chain 0 residue 1 (ALA)>\n",
      "<Atom 7 (H) of chain 0 residue 1 (ALA)>\n",
      "<Atom 8 (CA) of chain 0 residue 1 (ALA)>\n",
      "<Atom 9 (HA) of chain 0 residue 1 (ALA)>\n",
      "<Atom 10 (CB) of chain 0 residue 1 (ALA)>\n",
      "<Atom 11 (HB1) of chain 0 residue 1 (ALA)>\n",
      "<Atom 12 (HB2) of chain 0 residue 1 (ALA)>\n",
      "<Atom 13 (HB3) of chain 0 residue 1 (ALA)>\n",
      "<Atom 14 (C) of chain 0 residue 1 (ALA)>\n",
      "<Atom 15 (O) of chain 0 residue 1 (ALA)>\n",
      "<Atom 16 (N) of chain 0 residue 2 (NME)>\n",
      "<Atom 17 (H) of chain 0 residue 2 (NME)>\n",
      "<Atom 18 (C) of chain 0 residue 2 (NME)>\n",
      "<Atom 19 (H1) of chain 0 residue 2 (NME)>\n",
      "<Atom 20 (H2) of chain 0 residue 2 (NME)>\n",
      "<Atom 21 (H3) of chain 0 residue 2 (NME)>\n"
     ]
    }
   ],
   "source": [
    "for atom in ala.topology.atoms():\n",
    "    print(atom)"
   ]
  },
  {
   "cell_type": "code",
   "execution_count": 3,
   "metadata": {},
   "outputs": [],
   "source": [
    "res1 = list(ala.topology.residues())[1]\n",
    "rest_atoms = [atom.index for atom in res1.atoms()]"
   ]
  },
  {
   "cell_type": "code",
   "execution_count": 5,
   "metadata": {},
   "outputs": [
    {
     "data": {
      "text/plain": [
       "[6, 7, 8, 9, 10, 11, 12, 13, 14, 15]"
      ]
     },
     "execution_count": 5,
     "metadata": {},
     "output_type": "execute_result"
    }
   ],
   "source": [
    "rest_atoms"
   ]
  },
  {
   "cell_type": "code",
   "execution_count": 6,
   "metadata": {},
   "outputs": [
    {
     "data": {
      "text/plain": [
       "[<simtk.openmm.openmm.HarmonicBondForce; proxy of <Swig Object of type 'OpenMM::HarmonicBondForce *' at 0x2b779898bb10> >,\n",
       " <simtk.openmm.openmm.HarmonicAngleForce; proxy of <Swig Object of type 'OpenMM::HarmonicAngleForce *' at 0x2b779898b8a0> >,\n",
       " <simtk.openmm.openmm.PeriodicTorsionForce; proxy of <Swig Object of type 'OpenMM::PeriodicTorsionForce *' at 0x2b779898b270> >,\n",
       " <simtk.openmm.openmm.NonbondedForce; proxy of <Swig Object of type 'OpenMM::NonbondedForce *' at 0x2b779898b6f0> >,\n",
       " <simtk.openmm.openmm.CMMotionRemover; proxy of <Swig Object of type 'OpenMM::CMMotionRemover *' at 0x2b779898bdb0> >]"
      ]
     },
     "execution_count": 6,
     "metadata": {},
     "output_type": "execute_result"
    }
   ],
   "source": [
    "ala.system.getForces()"
   ]
  },
  {
   "cell_type": "code",
   "execution_count": 4,
   "metadata": {},
   "outputs": [],
   "source": [
    "ala.system.removeForce(4) #remove CMM"
   ]
  },
  {
   "cell_type": "code",
   "execution_count": 8,
   "metadata": {},
   "outputs": [
    {
     "data": {
      "text/plain": [
       "[<simtk.openmm.openmm.HarmonicBondForce; proxy of <Swig Object of type 'OpenMM::HarmonicBondForce *' at 0x2b779898b930> >,\n",
       " <simtk.openmm.openmm.HarmonicAngleForce; proxy of <Swig Object of type 'OpenMM::HarmonicAngleForce *' at 0x2b779898bb70> >,\n",
       " <simtk.openmm.openmm.PeriodicTorsionForce; proxy of <Swig Object of type 'OpenMM::PeriodicTorsionForce *' at 0x2b77ce392810> >,\n",
       " <simtk.openmm.openmm.NonbondedForce; proxy of <Swig Object of type 'OpenMM::NonbondedForce *' at 0x2b77ce392360> >]"
      ]
     },
     "execution_count": 8,
     "metadata": {},
     "output_type": "execute_result"
    }
   ],
   "source": [
    "ala.system.getForces()"
   ]
  },
  {
   "cell_type": "code",
   "execution_count": 7,
   "metadata": {},
   "outputs": [],
   "source": [
    "class REST2(RESTTopologyFactory):\n",
    "    \"\"\"\n",
    "    subclass REST, but move solvent-solvent to custom nonbonded force\n",
    "    \"\"\"\n",
    "\n",
    "    def _add_nonbonded_force_terms_v2(self):\n",
    "        standard_nonbonded_force = openmm.NonbondedForce()\n",
    "        self._out_system.addForce(standard_nonbonded_force)\n",
    "        self._out_system_forces[standard_nonbonded_force.__class__.__name__] = standard_nonbonded_force\n",
    "\n",
    "        #set the appropriate parameters\n",
    "        epsilon_solvent = self._og_system_forces['NonbondedForce'].getReactionFieldDielectric()\n",
    "        r_cutoff = self._og_system_forces['NonbondedForce'].getCutoffDistance()\n",
    "        if self._nonbonded_method != openmm.NonbondedForce.NoCutoff:\n",
    "            standard_nonbonded_force.setReactionFieldDielectric(epsilon_solvent)\n",
    "            standard_nonbonded_force.setCutoffDistance(r_cutoff)\n",
    "        if self._nonbonded_method in [openmm.NonbondedForce.PME, openmm.NonbondedForce.Ewald]:\n",
    "            [alpha_ewald, nx, ny, nz] = self._og_system_forces['NonbondedForce'].getPMEParameters()\n",
    "            delta = self._og_system_forces['NonbondedForce'].getEwaldErrorTolerance()\n",
    "            standard_nonbonded_force.setPMEParameters(alpha_ewald, nx, ny, nz)\n",
    "            standard_nonbonded_force.setEwaldErrorTolerance(delta)\n",
    "        standard_nonbonded_force.setNonbondedMethod(self._nonbonded_method)\n",
    "\n",
    "        if self._og_system_forces['NonbondedForce'].getUseDispersionCorrection() and self._use_dispersion_correction:\n",
    "            self._out_system_forces['NonbondedForce'].setUseDispersionCorrection(True)\n",
    "        else:\n",
    "            self._out_system_forces['NonbondedForce'].setUseDispersionCorrection(False)\n",
    "        \n",
    "        if self._og_system_forces['NonbondedForce'].getUseSwitchingFunction():\n",
    "            switching_distance = self._og_system_forces['NonbondedForce'].getSwitchingDistance()\n",
    "            standard_nonbonded_force.setUseSwitchingFunction(True)\n",
    "            standard_nonbonded_force.setSwitchingDistance(switching_distance)\n",
    "        else:\n",
    "            standard_nonbonded_force.setUseSwitchingFunction(False)\n",
    "\n",
    "\n",
    "        #add the global value\n",
    "        self._out_system_forces['NonbondedForce'].addGlobalParameter('solute_scale', 0.)\n",
    "        self._out_system_forces['NonbondedForce'].addGlobalParameter('inter_scale', 0.)\n",
    "\n",
    "    def _add_nonbondeds_v2(self):\n",
    "        self._solute_exceptions, self._interexceptions = [], []\n",
    "        og_nb_force = self._og_system_forces['NonbondedForce']\n",
    "\n",
    "        for particle_idx in range(self._num_particles):\n",
    "            q, sigma, epsilon = og_nb_force.getParticleParameters(particle_idx)\n",
    "            identifier = self.get_identifier(particle_idx)\n",
    "\n",
    "            if identifier == 1: #solvent\n",
    "                self._out_system_forces['NonbondedForce'].addParticle(q, sigma, epsilon)\n",
    "\n",
    "            else: #solute\n",
    "                self._out_system_forces['NonbondedForce'].addParticle(q, sigma, epsilon)\n",
    "                self._out_system_forces['NonbondedForce'].addParticleParameterOffset('electrostatic_scale', particle_idx, q, 0.0*sigma, epsilon*0.0)\n",
    "                self._out_system_forces['NonbondedForce'].addParticleParameterOffset('steric_scale', particle_idx, q*0.0, 0.0*sigma, epsilon)\n",
    "\n",
    "\n",
    "        #handle exceptions\n",
    "        for exception_idx in range(og_nb_force.getNumExceptions()):\n",
    "            p1, p2, chargeProd, sigma, epsilon = og_nb_force.getExceptionParameters(exception_idx)\n",
    "            identifier = self.get_identifier([p1, p2])\n",
    "#             self._out_system_forces['NonbondedForce'].addException(p1, p2, chargeProd, sigma, epsilon)\n",
    "            if identifier == 1: #solvent\n",
    "                exc_idx = self._out_system_forces['NonbondedForce'].addException(p1, p2, chargeProd, sigma, epsilon)\n",
    "                #self._out_system_forces['NonbondedForce'].addExceptionParameterOffset('steric_scale', exc_idx, chargeProd, 0.0*sigma, epsilon)\n",
    "            elif identifier == 0: #solute\n",
    "                self._solute_exceptions.append([p1, p2, [chargeProd, sigma, epsilon]])\n",
    "                exc_idx = self._out_system_forces['NonbondedForce'].addException(p1, p2, chargeProd, sigma, epsilon)\n",
    "                self._out_system_forces['NonbondedForce'].addExceptionParameterOffset('steric_scale', exc_idx, chargeProd, 0.0*sigma, epsilon)\n",
    "            elif identifier == 2: #inter\n",
    "                self._interexceptions.append([p1, p2, [chargeProd, sigma, epsilon]])\n",
    "                exc_idx = self._out_system_forces['NonbondedForce'].addException(p1, p2, chargeProd*0.0, sigma, epsilon*0.0)\n",
    "                self._out_system_forces['NonbondedForce'].addExceptionParameterOffset('electrostatic_scale', exc_idx, chargeProd, 0.0*sigma, epsilon)\n",
    "                #self._out_system_forces['CustomNonbondedForce'].addExclusion(p1, p2) #maintain consistent exclusions w/ exceptions\n"
   ]
  },
  {
   "cell_type": "code",
   "execution_count": 8,
   "metadata": {},
   "outputs": [
    {
     "name": "stderr",
     "output_type": "stream",
     "text": [
      "INFO:REST:No MonteCarloBarostat added.\n",
      "INFO:REST:getDefaultPeriodicBoxVectors added to hybrid: [Quantity(value=Vec3(x=2.0, y=0.0, z=0.0), unit=nanometer), Quantity(value=Vec3(x=0.0, y=2.0, z=0.0), unit=nanometer), Quantity(value=Vec3(x=0.0, y=0.0, z=2.0), unit=nanometer)]\n",
      "INFO:REST:No unknown forces.\n"
     ]
    }
   ],
   "source": [
    "rtf = REST2(system = ala.system, solute_region=rest_atoms, use_dispersion_correction=False)"
   ]
  },
  {
   "cell_type": "code",
   "execution_count": 9,
   "metadata": {},
   "outputs": [],
   "source": [
    "# ss = SamplerState(positions=ala.positions)"
   ]
  },
  {
   "cell_type": "code",
   "execution_count": 9,
   "metadata": {},
   "outputs": [],
   "source": [
    "T_min = 298*unit.kelvin"
   ]
  },
  {
   "cell_type": "code",
   "execution_count": 10,
   "metadata": {},
   "outputs": [
    {
     "data": {
      "text/plain": [
       "-35.552365146022886"
      ]
     },
     "execution_count": 10,
     "metadata": {},
     "output_type": "execute_result"
    }
   ],
   "source": [
    "# og_thermostate = ThermodynamicState(ala.system, temperature=300*unit.kelvin)\n",
    "# og_integrator = openmm.VerletIntegrator(1.0*unit.femtosecond)\n",
    "# og_context = og_thermostate.create_context(og_integrator)\n",
    "# ss.apply_to_context(og_context)\n",
    "# ss.update_from_context(og_context)\n",
    "# print(ss.potential_energy)\n",
    "\n",
    "og_thermostate = ThermodynamicState(ala.system, temperature=T_min)\n",
    "og_integrator = openmm.VerletIntegrator(1.0*unit.femtosecond)\n",
    "og_context = og_thermostate.create_context(og_integrator)\n",
    "og_context.setPositions(ala.positions)\n",
    "sampler_state = SamplerState.from_context(og_context)\n",
    "og_thermostate.reduced_potential(sampler_state)"
   ]
  },
  {
   "cell_type": "code",
   "execution_count": 11,
   "metadata": {},
   "outputs": [
    {
     "data": {
      "text/plain": [
       "-57.888273322178264"
      ]
     },
     "execution_count": 11,
     "metadata": {},
     "output_type": "execute_result"
    }
   ],
   "source": [
    "thermostate = ThermodynamicState(rtf.REST_system, temperature=T_min)\n",
    "integrator = openmm.VerletIntegrator(1.0*unit.femtosecond)\n",
    "context = thermostate.create_context(integrator)\n",
    "context.setPositions(ala.positions)\n",
    "sampler_state = SamplerState.from_context(context)\n",
    "thermostate.reduced_potential(sampler_state)\n",
    "# ss.apply_to_context(context)\n",
    "# ss.update_from_context(context)"
   ]
  },
  {
   "cell_type": "code",
   "execution_count": 13,
   "metadata": {},
   "outputs": [],
   "source": [
    "from perses.tests.utils import compute_potential_components"
   ]
  },
  {
   "cell_type": "code",
   "execution_count": 14,
   "metadata": {},
   "outputs": [
    {
     "name": "stdout",
     "output_type": "stream",
     "text": [
      "conducting subsequent work with the following platform: CUDA\n"
     ]
    }
   ],
   "source": [
    "og_forces = [q[1] for q in compute_potential_components(og_context, thermostate.beta)]"
   ]
  },
  {
   "cell_type": "code",
   "execution_count": 15,
   "metadata": {},
   "outputs": [
    {
     "name": "stdout",
     "output_type": "stream",
     "text": [
      "conducting subsequent work with the following platform: CUDA\n"
     ]
    }
   ],
   "source": [
    "new_forces = [q[1] for q in compute_potential_components(context, thermostate.beta)]"
   ]
  },
  {
   "cell_type": "code",
   "execution_count": 16,
   "metadata": {},
   "outputs": [
    {
     "data": {
      "text/plain": [
       "0.0"
      ]
     },
     "execution_count": 16,
     "metadata": {},
     "output_type": "execute_result"
    }
   ],
   "source": [
    "og_forces[0] - new_forces[0] #bond"
   ]
  },
  {
   "cell_type": "code",
   "execution_count": 17,
   "metadata": {},
   "outputs": [
    {
     "data": {
      "text/plain": [
       "0.0"
      ]
     },
     "execution_count": 17,
     "metadata": {},
     "output_type": "execute_result"
    }
   ],
   "source": [
    "og_forces[1] - new_forces[1] #angle"
   ]
  },
  {
   "cell_type": "code",
   "execution_count": 18,
   "metadata": {},
   "outputs": [
    {
     "data": {
      "text/plain": [
       "-4.349742189990735e-06"
      ]
     },
     "execution_count": 18,
     "metadata": {},
     "output_type": "execute_result"
    }
   ],
   "source": [
    "og_forces[2] - new_forces[2] #torsion"
   ]
  },
  {
   "cell_type": "code",
   "execution_count": 19,
   "metadata": {},
   "outputs": [
    {
     "data": {
      "text/plain": [
       "-1.6881940467783352e-06"
      ]
     },
     "execution_count": 19,
     "metadata": {},
     "output_type": "execute_result"
    }
   ],
   "source": [
    "np.array(og_forces[3:]).sum() - np.array(new_forces[3:]).sum() #nonbonded"
   ]
  },
  {
   "cell_type": "markdown",
   "metadata": {},
   "source": [
    "test the energy discrepancy of the alanine dipeptide in solvent"
   ]
  },
  {
   "cell_type": "code",
   "execution_count": 42,
   "metadata": {},
   "outputs": [],
   "source": [
    "from openmmtools.testsystems import AlanineDipeptideExplicit\n",
    "ala = AlanineDipeptideExplicit()"
   ]
  },
  {
   "cell_type": "code",
   "execution_count": 43,
   "metadata": {},
   "outputs": [],
   "source": [
    "res1 = list(ala.topology.residues())[1]\n",
    "rest_atoms = [atom.index for atom in res1.atoms()]"
   ]
  },
  {
   "cell_type": "code",
   "execution_count": 44,
   "metadata": {},
   "outputs": [
    {
     "data": {
      "text/plain": [
       "[6, 7, 8, 9, 10, 11, 12, 13, 14, 15]"
      ]
     },
     "execution_count": 44,
     "metadata": {},
     "output_type": "execute_result"
    }
   ],
   "source": [
    "rest_atoms"
   ]
  },
  {
   "cell_type": "code",
   "execution_count": 45,
   "metadata": {},
   "outputs": [
    {
     "data": {
      "text/plain": [
       "[<simtk.openmm.openmm.HarmonicBondForce; proxy of <Swig Object of type 'OpenMM::HarmonicBondForce *' at 0x2af23a7f7f90> >,\n",
       " <simtk.openmm.openmm.HarmonicAngleForce; proxy of <Swig Object of type 'OpenMM::HarmonicAngleForce *' at 0x2af23a7f7d20> >,\n",
       " <simtk.openmm.openmm.PeriodicTorsionForce; proxy of <Swig Object of type 'OpenMM::PeriodicTorsionForce *' at 0x2af23a7f7e10> >,\n",
       " <simtk.openmm.openmm.NonbondedForce; proxy of <Swig Object of type 'OpenMM::NonbondedForce *' at 0x2af23a7f7d50> >,\n",
       " <simtk.openmm.openmm.CMMotionRemover; proxy of <Swig Object of type 'OpenMM::CMMotionRemover *' at 0x2af23a7f7c30> >]"
      ]
     },
     "execution_count": 45,
     "metadata": {},
     "output_type": "execute_result"
    }
   ],
   "source": [
    "ala.system.getForces()"
   ]
  },
  {
   "cell_type": "code",
   "execution_count": 46,
   "metadata": {},
   "outputs": [],
   "source": [
    "ala.system.removeForce(4) #remove CMM"
   ]
  },
  {
   "cell_type": "code",
   "execution_count": 47,
   "metadata": {},
   "outputs": [
    {
     "data": {
      "text/plain": [
       "4"
      ]
     },
     "execution_count": 47,
     "metadata": {},
     "output_type": "execute_result"
    }
   ],
   "source": [
    "ala.system.getForce(3).getNonbondedMethod()"
   ]
  },
  {
   "cell_type": "code",
   "execution_count": 50,
   "metadata": {},
   "outputs": [
    {
     "data": {
      "text/plain": [
       "True"
      ]
     },
     "execution_count": 50,
     "metadata": {},
     "output_type": "execute_result"
    }
   ],
   "source": [
    "ala.system.getForce(3).getUseSwitchingFunction()"
   ]
  },
  {
   "cell_type": "code",
   "execution_count": 49,
   "metadata": {},
   "outputs": [
    {
     "data": {
      "text/plain": [
       "Quantity(value=1.0, unit=nanometer)"
      ]
     },
     "execution_count": 49,
     "metadata": {},
     "output_type": "execute_result"
    }
   ],
   "source": [
    "ala.system.getForce(3).getCutoffDistance() "
   ]
  },
  {
   "cell_type": "code",
   "execution_count": 51,
   "metadata": {},
   "outputs": [
    {
     "data": {
      "text/plain": [
       "Quantity(value=0.8500000000000001, unit=nanometer)"
      ]
     },
     "execution_count": 51,
     "metadata": {},
     "output_type": "execute_result"
    }
   ],
   "source": [
    "ala.system.getForce(3).getSwitchingDistance()"
   ]
  },
  {
   "cell_type": "code",
   "execution_count": 52,
   "metadata": {},
   "outputs": [
    {
     "data": {
      "text/plain": [
       "True"
      ]
     },
     "execution_count": 52,
     "metadata": {},
     "output_type": "execute_result"
    }
   ],
   "source": [
    "ala.system.getForce(3).getUseDispersionCorrection() "
   ]
  },
  {
   "cell_type": "code",
   "execution_count": 53,
   "metadata": {},
   "outputs": [
    {
     "ename": "AttributeError",
     "evalue": "type object 'object' has no attribute '__getattr__'",
     "output_type": "error",
     "traceback": [
      "\u001b[0;31m------------------------------------------------------------\u001b[0m",
      "\u001b[0;31mAttributeError\u001b[0m             Traceback (most recent call last)",
      "\u001b[0;32m<ipython-input-53-3b6275e33909>\u001b[0m in \u001b[0;36m<module>\u001b[0;34m\u001b[0m\n\u001b[0;32m----> 1\u001b[0;31m \u001b[0mala\u001b[0m\u001b[0;34m.\u001b[0m\u001b[0msystem\u001b[0m\u001b[0;34m.\u001b[0m\u001b[0mgetForce\u001b[0m\u001b[0;34m(\u001b[0m\u001b[0;36m3\u001b[0m\u001b[0;34m)\u001b[0m\u001b[0;34m.\u001b[0m\u001b[0mgetExceptionsUsePeriodicBoundaryConditions\u001b[0m\u001b[0;34m(\u001b[0m\u001b[0;34m)\u001b[0m\u001b[0;34m\u001b[0m\u001b[0;34m\u001b[0m\u001b[0m\n\u001b[0m",
      "\u001b[0;32m~/miniconda3/envs/perses-sims-oct2020/lib/python3.7/site-packages/simtk/openmm/openmm.py\u001b[0m in \u001b[0;36m<lambda>\u001b[0;34m(self, name)\u001b[0m\n\u001b[1;32m  19082\u001b[0m     \u001b[0;32mfor\u001b[0m \u001b[0m_s\u001b[0m \u001b[0;32min\u001b[0m \u001b[0;34m[\u001b[0m\u001b[0mForce\u001b[0m\u001b[0;34m]\u001b[0m\u001b[0;34m:\u001b[0m\u001b[0;34m\u001b[0m\u001b[0;34m\u001b[0m\u001b[0m\n\u001b[1;32m  19083\u001b[0m         \u001b[0m__swig_getmethods__\u001b[0m\u001b[0;34m.\u001b[0m\u001b[0mupdate\u001b[0m\u001b[0;34m(\u001b[0m\u001b[0mgetattr\u001b[0m\u001b[0;34m(\u001b[0m\u001b[0m_s\u001b[0m\u001b[0;34m,\u001b[0m \u001b[0;34m'__swig_getmethods__'\u001b[0m\u001b[0;34m,\u001b[0m \u001b[0;34m{\u001b[0m\u001b[0;34m}\u001b[0m\u001b[0;34m)\u001b[0m\u001b[0;34m)\u001b[0m\u001b[0;34m\u001b[0m\u001b[0;34m\u001b[0m\u001b[0m\n\u001b[0;32m> 19084\u001b[0;31m     \u001b[0m__getattr__\u001b[0m \u001b[0;34m=\u001b[0m \u001b[0;32mlambda\u001b[0m \u001b[0mself\u001b[0m\u001b[0;34m,\u001b[0m \u001b[0mname\u001b[0m\u001b[0;34m:\u001b[0m \u001b[0m_swig_getattr\u001b[0m\u001b[0;34m(\u001b[0m\u001b[0mself\u001b[0m\u001b[0;34m,\u001b[0m \u001b[0mNonbondedForce\u001b[0m\u001b[0;34m,\u001b[0m \u001b[0mname\u001b[0m\u001b[0;34m)\u001b[0m\u001b[0;34m\u001b[0m\u001b[0;34m\u001b[0m\u001b[0m\n\u001b[0m\u001b[1;32m  19085\u001b[0m     \u001b[0m__repr__\u001b[0m \u001b[0;34m=\u001b[0m \u001b[0m_swig_repr\u001b[0m\u001b[0;34m\u001b[0m\u001b[0;34m\u001b[0m\u001b[0m\n\u001b[1;32m  19086\u001b[0m     \u001b[0mNoCutoff\u001b[0m \u001b[0;34m=\u001b[0m \u001b[0m_openmm\u001b[0m\u001b[0;34m.\u001b[0m\u001b[0mNonbondedForce_NoCutoff\u001b[0m\u001b[0;34m\u001b[0m\u001b[0;34m\u001b[0m\u001b[0m\n",
      "\u001b[0;32m~/miniconda3/envs/perses-sims-oct2020/lib/python3.7/site-packages/simtk/openmm/openmm.py\u001b[0m in \u001b[0;36m_swig_getattr\u001b[0;34m(self, class_type, name)\u001b[0m\n\u001b[1;32m     72\u001b[0m \u001b[0;34m\u001b[0m\u001b[0m\n\u001b[1;32m     73\u001b[0m \u001b[0;32mdef\u001b[0m \u001b[0m_swig_getattr\u001b[0m\u001b[0;34m(\u001b[0m\u001b[0mself\u001b[0m\u001b[0;34m,\u001b[0m \u001b[0mclass_type\u001b[0m\u001b[0;34m,\u001b[0m \u001b[0mname\u001b[0m\u001b[0;34m)\u001b[0m\u001b[0;34m:\u001b[0m\u001b[0;34m\u001b[0m\u001b[0;34m\u001b[0m\u001b[0m\n\u001b[0;32m---> 74\u001b[0;31m     \u001b[0;32mreturn\u001b[0m \u001b[0m_swig_getattr_nondynamic\u001b[0m\u001b[0;34m(\u001b[0m\u001b[0mself\u001b[0m\u001b[0;34m,\u001b[0m \u001b[0mclass_type\u001b[0m\u001b[0;34m,\u001b[0m \u001b[0mname\u001b[0m\u001b[0;34m,\u001b[0m \u001b[0;36m0\u001b[0m\u001b[0;34m)\u001b[0m\u001b[0;34m\u001b[0m\u001b[0;34m\u001b[0m\u001b[0m\n\u001b[0m\u001b[1;32m     75\u001b[0m \u001b[0;34m\u001b[0m\u001b[0m\n\u001b[1;32m     76\u001b[0m \u001b[0;34m\u001b[0m\u001b[0m\n",
      "\u001b[0;32m~/miniconda3/envs/perses-sims-oct2020/lib/python3.7/site-packages/simtk/openmm/openmm.py\u001b[0m in \u001b[0;36m_swig_getattr_nondynamic\u001b[0;34m(self, class_type, name, static)\u001b[0m\n\u001b[1;32m     67\u001b[0m         \u001b[0;32mreturn\u001b[0m \u001b[0mmethod\u001b[0m\u001b[0;34m(\u001b[0m\u001b[0mself\u001b[0m\u001b[0;34m)\u001b[0m\u001b[0;34m\u001b[0m\u001b[0;34m\u001b[0m\u001b[0m\n\u001b[1;32m     68\u001b[0m     \u001b[0;32mif\u001b[0m \u001b[0;34m(\u001b[0m\u001b[0;32mnot\u001b[0m \u001b[0mstatic\u001b[0m\u001b[0;34m)\u001b[0m\u001b[0;34m:\u001b[0m\u001b[0;34m\u001b[0m\u001b[0;34m\u001b[0m\u001b[0m\n\u001b[0;32m---> 69\u001b[0;31m         \u001b[0;32mreturn\u001b[0m \u001b[0mobject\u001b[0m\u001b[0;34m.\u001b[0m\u001b[0m__getattr__\u001b[0m\u001b[0;34m(\u001b[0m\u001b[0mself\u001b[0m\u001b[0;34m,\u001b[0m \u001b[0mname\u001b[0m\u001b[0;34m)\u001b[0m\u001b[0;34m\u001b[0m\u001b[0;34m\u001b[0m\u001b[0m\n\u001b[0m\u001b[1;32m     70\u001b[0m     \u001b[0;32melse\u001b[0m\u001b[0;34m:\u001b[0m\u001b[0;34m\u001b[0m\u001b[0;34m\u001b[0m\u001b[0m\n\u001b[1;32m     71\u001b[0m         \u001b[0;32mraise\u001b[0m \u001b[0mAttributeError\u001b[0m\u001b[0;34m(\u001b[0m\u001b[0mname\u001b[0m\u001b[0;34m)\u001b[0m\u001b[0;34m\u001b[0m\u001b[0;34m\u001b[0m\u001b[0m\n",
      "\u001b[0;31mAttributeError\u001b[0m: type object 'object' has no attribute '__getattr__'"
     ]
    }
   ],
   "source": [
    "ala.system.getForce(3).getExceptionsUsePeriodicBoundaryConditions()"
   ]
  },
  {
   "cell_type": "code",
   "execution_count": 48,
   "metadata": {},
   "outputs": [
    {
     "data": {
      "text/plain": [
       "4"
      ]
     },
     "execution_count": 48,
     "metadata": {},
     "output_type": "execute_result"
    }
   ],
   "source": [
    "openmm.NonbondedForce.PME"
   ]
  },
  {
   "cell_type": "code",
   "execution_count": 25,
   "metadata": {},
   "outputs": [],
   "source": [
    "ala.system.getForce(3).setNonbondedMethod(openmm.NonbondedForce.NoCutoff)"
   ]
  },
  {
   "cell_type": "code",
   "execution_count": 26,
   "metadata": {},
   "outputs": [
    {
     "name": "stderr",
     "output_type": "stream",
     "text": [
      "INFO:REST:No MonteCarloBarostat added.\n",
      "INFO:REST:getDefaultPeriodicBoxVectors added to hybrid: [Quantity(value=Vec3(x=3.2852863, y=0.0, z=0.0), unit=nanometer), Quantity(value=Vec3(x=0.0, y=3.2861648000000003, z=0.0), unit=nanometer), Quantity(value=Vec3(x=0.0, y=0.0, z=3.1855098), unit=nanometer)]\n",
      "INFO:REST:No unknown forces.\n"
     ]
    }
   ],
   "source": [
    "rtf = RESTTopologyFactory(system = ala.system, solute_region=rest_atoms, use_dispersion_correction=False)"
   ]
  },
  {
   "cell_type": "code",
   "execution_count": 27,
   "metadata": {},
   "outputs": [],
   "source": [
    "# ss = SamplerState(positions=ala.positions)"
   ]
  },
  {
   "cell_type": "code",
   "execution_count": 28,
   "metadata": {},
   "outputs": [],
   "source": [
    "T_min = 298*unit.kelvin"
   ]
  },
  {
   "cell_type": "code",
   "execution_count": 29,
   "metadata": {},
   "outputs": [
    {
     "data": {
      "text/plain": [
       "-9896.170979940161"
      ]
     },
     "execution_count": 29,
     "metadata": {},
     "output_type": "execute_result"
    }
   ],
   "source": [
    "# og_thermostate = ThermodynamicState(ala.system, temperature=300*unit.kelvin)\n",
    "# og_integrator = openmm.VerletIntegrator(1.0*unit.femtosecond)\n",
    "# og_context = og_thermostate.create_context(og_integrator)\n",
    "# ss.apply_to_context(og_context)\n",
    "# ss.update_from_context(og_context)\n",
    "# print(ss.potential_energy)\n",
    "og_thermostate = ThermodynamicState(ala.system, temperature=T_min)\n",
    "og_integrator = openmm.VerletIntegrator(1.0*unit.femtosecond)\n",
    "og_context = og_thermostate.create_context(og_integrator)\n",
    "og_context.setPositions(ala.positions)\n",
    "sampler_state = SamplerState.from_context(og_context)\n",
    "og_thermostate.reduced_potential(sampler_state)"
   ]
  },
  {
   "cell_type": "code",
   "execution_count": 30,
   "metadata": {},
   "outputs": [
    {
     "data": {
      "text/plain": [
       "-9896.17097563446"
      ]
     },
     "execution_count": 30,
     "metadata": {},
     "output_type": "execute_result"
    }
   ],
   "source": [
    "thermostate = ThermodynamicState(rtf.REST_system, temperature=T_min)\n",
    "integrator = openmm.VerletIntegrator(1.0*unit.femtosecond)\n",
    "context = thermostate.create_context(integrator)\n",
    "# ss.apply_to_context(context)\n",
    "# ss.update_from_context(context)\n",
    "context.setPositions(ala.positions)\n",
    "sampler_state = SamplerState.from_context(context)\n",
    "thermostate.reduced_potential(sampler_state)"
   ]
  },
  {
   "cell_type": "code",
   "execution_count": 31,
   "metadata": {},
   "outputs": [
    {
     "name": "stdout",
     "output_type": "stream",
     "text": [
      "conducting subsequent work with the following platform: CUDA\n"
     ]
    }
   ],
   "source": [
    "og_forces = [q[1] for q in compute_potential_components(og_context, thermostate.beta)]"
   ]
  },
  {
   "cell_type": "code",
   "execution_count": 32,
   "metadata": {},
   "outputs": [
    {
     "name": "stdout",
     "output_type": "stream",
     "text": [
      "conducting subsequent work with the following platform: CUDA\n"
     ]
    }
   ],
   "source": [
    "new_forces = [q[1] for q in compute_potential_components(context, thermostate.beta)]"
   ]
  },
  {
   "cell_type": "code",
   "execution_count": 33,
   "metadata": {},
   "outputs": [
    {
     "data": {
      "text/plain": [
       "0.0"
      ]
     },
     "execution_count": 33,
     "metadata": {},
     "output_type": "execute_result"
    }
   ],
   "source": [
    "og_forces[0] - new_forces[0] #bond"
   ]
  },
  {
   "cell_type": "code",
   "execution_count": 34,
   "metadata": {},
   "outputs": [
    {
     "data": {
      "text/plain": [
       "0.0"
      ]
     },
     "execution_count": 34,
     "metadata": {},
     "output_type": "execute_result"
    }
   ],
   "source": [
    "og_forces[1] - new_forces[1] #angle"
   ]
  },
  {
   "cell_type": "code",
   "execution_count": 35,
   "metadata": {},
   "outputs": [
    {
     "data": {
      "text/plain": [
       "-3.3203714742136015e-06"
      ]
     },
     "execution_count": 35,
     "metadata": {},
     "output_type": "execute_result"
    }
   ],
   "source": [
    "og_forces[2] - new_forces[2] #torsion"
   ]
  },
  {
   "cell_type": "code",
   "execution_count": 36,
   "metadata": {},
   "outputs": [
    {
     "data": {
      "text/plain": [
       "-9.853301889961585e-07"
      ]
     },
     "execution_count": 36,
     "metadata": {},
     "output_type": "execute_result"
    }
   ],
   "source": [
    "np.array(og_forces[3:]).sum() - np.array(new_forces[3:]).sum() #nonbonded"
   ]
  },
  {
   "cell_type": "code",
   "execution_count": 37,
   "metadata": {},
   "outputs": [
    {
     "data": {
      "text/plain": [
       "[0.03478366095963102,\n",
       " 0.6112088544716918,\n",
       " 3.2515208598833776,\n",
       " -9900.068493315477,\n",
       " 0.0]"
      ]
     },
     "execution_count": 37,
     "metadata": {},
     "output_type": "execute_result"
    }
   ],
   "source": [
    "og_forces"
   ]
  },
  {
   "cell_type": "code",
   "execution_count": 38,
   "metadata": {},
   "outputs": [
    {
     "data": {
      "text/plain": [
       "[0.03478366095963102,\n",
       " 0.6112088544716918,\n",
       " 3.251524180254852,\n",
       " -9859.230542518875,\n",
       " -148.62845838958208,\n",
       " 107.79050857831042,\n",
       " 0.0]"
      ]
     },
     "execution_count": 38,
     "metadata": {},
     "output_type": "execute_result"
    }
   ],
   "source": [
    "new_forces"
   ]
  },
  {
   "cell_type": "markdown",
   "metadata": {},
   "source": [
    "the discrepancy is clearly coming from the nonbonded force; are these exceptions?"
   ]
  },
  {
   "cell_type": "markdown",
   "metadata": {},
   "source": [
    "Create a subclass of the RESTTopologyFactory so that we can play around with the functions and test the energies"
   ]
  },
  {
   "cell_type": "code",
   "execution_count": 5,
   "metadata": {},
   "outputs": [],
   "source": [
    "class RESTTEST(RESTTopologyFactory):\n",
    "    \"\"\"\n",
    "    subclass REST, but manually set and scale per particle parameters with the given naught and scaled betas\n",
    "    \"\"\"\n",
    "\n",
    "    def __init__(self, system, solute_region, use_dispersion_correction=False, beta0, beta_m):\n",
    "        self._beta0 = beta0\n",
    "        self._beta_m = beta_m\n",
    "        super().__init__(system, solute_region, use_dispersion_correction)\\\n",
    "    \n",
    "    def bonded_scale(self, identifier):\n",
    "        if identifier==0:\n",
    "            out = self._beta_m/self._beta0\n",
    "        elif identifier==1:\n",
    "            out = 1.\n",
    "        elif identifier==2:\n",
    "            out= np.sqrt(self._beta_m/self._beta0)\n",
    "        else:\n",
    "            raise Exception as e:\n",
    "                print(e)\n",
    "        return out\n",
    "        \n",
    "    \n",
    "    def _add_bond_force_terms(self):\n",
    "        force = openmm.HarmonicBondForce()\n",
    "        self._out_system.addForce(force)\n",
    "        self._out_system_forces[force.__class__.__name__] = force\n",
    "    \n",
    "    def _add_angle_force_terms(self):\n",
    "        force = openmm.HarmonicAngleForce()\n",
    "        self._out_system.addForce(force)\n",
    "        self._out_system_forces[force.__class__.__name__] = force\n",
    "    \n",
    "    def _add_torsion_force_terms(self):\n",
    "        force = openmm.PeriodicTorsionForce()\n",
    "        self._out_system.addForce(force)\n",
    "        self._out_system_forces[force.__class__.__name__] = force\n",
    "    \n",
    "    def _add_nonbonded_force_terms(self)\n",
    "        \n",
    "        epsilon_solvent = self._og_system_forces['NonbondedForce'].getReactionFieldDielectric()\n",
    "        r_cutoff = self._og_system_forces['NonbondedForce'].getCutoffDistance()\n",
    "        \n",
    "        if self._nonbonded_method != openmm.NonbondedForce.NoCutoff:\n",
    "            standard_nonbonded_force.setReactionFieldDielectric(epsilon_solvent)\n",
    "            standard_nonbonded_force.setCutoffDistance(r_cutoff)\n",
    "        if self._nonbonded_method in [openmm.NonbondedForce.PME, openmm.NonbondedForce.Ewald]:\n",
    "            [alpha_ewald, nx, ny, nz] = self._og_system_forces['NonbondedForce'].getPMEParameters()\n",
    "            delta = self._og_system_forces['NonbondedForce'].getEwaldErrorTolerance()\n",
    "            standard_nonbonded_force.setPMEParameters(alpha_ewald, nx, ny, nz)\n",
    "            standard_nonbonded_force.setEwaldErrorTolerance(delta)\n",
    "        standard_nonbonded_force.setNonbondedMethod(self._nonbonded_method)\n",
    "        \n",
    "        if self._og_system_forces['NonbondedForce'].getUseSwitchingFunction():\n",
    "            switching_distance = self._og_system_forces['NonbondedForce'].getSwitchingDistance()\n",
    "            standard_nonbonded_force.setUseSwitchingFunction(True)\n",
    "            standard_nonbonded_force.setSwitchingDistance(switching_distance)\n",
    "        else:\n",
    "            standard_nonbonded_force.setUseSwitchingFunction(False)\n",
    "    \n",
    "    def _add_bonds(self):\n",
    "        force = self._og_bond_forces['HarmonicBondForce']\n",
    "        for bond_idx in range(force.getNumBonds()):\n",
    "            p1, p2, length, k = force.getBondParameters(bond_idx)\n",
    "            identifier = self.get_identifier([p1, p2])\n",
    "            scale = self.bonded_scale(identifier)\n",
    "            self._out_system_forces['HarmonicBondForce'].addBond(p1, p2, length, k*scale)\n",
    "    \n",
    "    def _add_angles(self):\n",
    "        force = self._og_bond_forces['HarmonicAngleForce']\n",
    "        for angle_idx in range(force.getNumAngles()):\n",
    "            p1, p2, p3, theta0, k = force.getAngleParameters(angle_idx)\n",
    "            identifier = self.get_identifier([p1, p2, p3])\n",
    "            scale = self.bonded_scale(identifier)\n",
    "            self._out_system_forces['HarmonicAngleForce'].addAngle(p1, p2, p3, theta0, k*scale)\n",
    "    \n",
    "    def _add_torsions(self):\n",
    "        force = self._og_bond_forces['PeriodicTorsionForce']\n",
    "        for torsion_idx in range(force.getNumTorsions(force)):\n",
    "            p1, p2, p3, p4, per, phase, k = force.getTorsionParameters(torsion_idx)\n",
    "            identifier = self.get_identifier([p1, p2, p3, p4])\n",
    "            scale = self.bonded_scale(identifier)\n",
    "            self._out_system_forces['PeriodicTorsionForce'].addTorsion(p1, p2, p3, p4, per, phase, k*scale)\n",
    "    \n",
    "    def _add_nonbondeds(self):\n",
    "        force = self._og_system_forces\n",
    "        for particle_idx in range\n",
    "    \n",
    "            \n",
    "            \n",
    "        \n",
    "        \n",
    "        \n",
    "        \n",
    "    \n",
    "        \n",
    "    def _add_nonbonded_force_terms(self):\n",
    "        from openmmtools.constants import ONE_4PI_EPS0 # OpenMM constant for Coulomb interactions (implicitly in md_unit_system units)\n",
    "        standard_nonbonded_force = openmm.NonbondedForce()\n",
    "        self._out_system.addForce(standard_nonbonded_force)\n",
    "        self._out_system_forces[standard_nonbonded_force.__class__.__name__] = standard_nonbonded_force\n",
    "        \n",
    "        \n",
    "    def _add_nonbondeds(self):\n",
    "        self._solute_exceptions, self._interexceptions = [], []\n",
    "\n",
    "        #the output nonbonded force _only_ contains solvent atoms (the rest are zeroed); same with exceptions\n",
    "        \"\"\"\n",
    "        First, handle the NonbondedForce in the out_system\n",
    "        \"\"\"\n",
    "        og_nb_force = self._og_system_forces['NonbondedForce']\n",
    "        for particle_idx in range(self._num_particles):\n",
    "            q, sigma, epsilon = og_nb_force.getParticleParameters(particle_idx)\n",
    "            identifier = self.get_identifier(particle_idx)\n",
    "\n",
    "            if identifier == 1:\n",
    "                self._out_system_forces['NonbondedForce'].addParticle(q, sigma, epsilon)\n",
    "                self._out_system_forces['CustomNonbondedForce'].addParticle([q, sigma, epsilon, identifier])\n",
    "            else:\n",
    "                self._out_system_forces['NonbondedForce'].addParticle(q*0.0, sigma, epsilon*0.0)\n",
    "                self._out_system_forces['CustomNonbondedForce'].addParticle([q, sigma, epsilon, identifier])\n",
    "\n",
    "        #add appropriate interaction group\n",
    "        solute_ig, solvent_ig = set(self._solute_region), set(self._solvent_region)\n",
    "        self._out_system_forces['CustomNonbondedForce'].addInteractionGroup(solute_ig, solvent_ig)\n",
    "        self._out_system_forces['CustomNonbondedForce'].addInteractionGroup(solute_ig, solute_ig)\n",
    "\n",
    "        #handle exceptions\n",
    "        for exception_idx in range(og_nb_force.getNumExceptions()):\n",
    "            p1, p2, chargeProd, sigma, epsilon = og_nb_force.getExceptionParameters(exception_idx)\n",
    "            identifier = self.get_identifier([p1, p2])\n",
    "            if identifier == 1:\n",
    "                self._out_system_forces['NonbondedForce'].addException(p1, p2, chargeProd, sigma, epsilon)\n",
    "                self._out_system_forces['CustomNonbondedForce'].addExclusion(p1, p2) #maintain consistent exclusions w/ exceptions\n",
    "            elif identifier == 0:\n",
    "                self._solute_exceptions.append([p1, p2, [chargeProd, sigma, epsilon]])\n",
    "                self._out_system_forces['NonbondedForce'].addException(p1, p2, chargeProd*0.0, sigma, epsilon*0.0)\n",
    "                self._out_system_forces['CustomNonbondedForce'].addExclusion(p1, p2) #maintain consistent exclusions w/ exceptions\n",
    "            elif identifier == 2:\n",
    "                self._interexceptions.append([p1, p2, [chargeProd, sigma, epsilon]])\n",
    "                self._out_system_forces['NonbondedForce'].addException(p1, p2, chargeProd*0.0, sigma, epsilon*0.0)\n",
    "                self._out_system_forces['CustomNonbondedForce'].addExclusion(p1, p2) #maintain consistent exclusions w/ exceptions\n",
    "\n",
    "        #now add the CustomBondForce for exceptions\n",
    "        exception_force = self._out_system_forces['CustomExceptionForce']\n",
    "\n",
    "        for solute_exception_term in self._solute_exceptions:\n",
    "            p1, p2, [chargeProd, sigma, epsilon] = solute_exception_term\n",
    "            if (chargeProd.value_in_unit_system(unit.md_unit_system) != 0.0) or (epsilon.value_in_unit_system(unit.md_unit_system) != 0.0):\n",
    "                identifier = 0\n",
    "                exception_force.addBond(p1, p2, [chargeProd, sigma, epsilon, identifier])\n",
    "\n",
    "        for interexception_term in self._interexceptions:\n",
    "            p1, p2, [chargeProd, sigma, epsilon] = interexception_term\n",
    "            if (chargeProd.value_in_unit_system(unit.md_unit_system) != 0.0) or (epsilon.value_in_unit_system(unit.md_unit_system) != 0.0):\n",
    "                identifier = 2\n",
    "                exception_force.addBond(p1, p2, [chargeProd, sigma, epsilon, identifier])"
   ]
  },
  {
   "cell_type": "code",
   "execution_count": 6,
   "metadata": {},
   "outputs": [
    {
     "name": "stdout",
     "output_type": "stream",
     "text": [
      "getting into the nb version\n"
     ]
    }
   ],
   "source": [
    "# Create REST system\n",
    "factory = REST2(sys, solute_region=list(range(0, 22)))\n",
    "REST_system = factory.REST_system\n"
   ]
  },
  {
   "cell_type": "markdown",
   "metadata": {},
   "source": [
    "Get the energy of the REST system at the thermodynamic state where energy is scaled to 600K"
   ]
  },
  {
   "cell_type": "code",
   "execution_count": 39,
   "metadata": {},
   "outputs": [
    {
     "data": {
      "text/plain": [
       "-9893.550764403697"
      ]
     },
     "execution_count": 39,
     "metadata": {},
     "output_type": "execute_result"
    }
   ],
   "source": [
    "T_min = 298.0 *unit.kelvin\n",
    "T = 600.0 * unit.kelvin\n",
    "\n",
    "# Create thermodynamic state\n",
    "lambda_zero_alchemical_state = RESTState.from_system(rtf.REST_system)\n",
    "thermostate = ThermodynamicState(rtf.REST_system, temperature=T_min)\n",
    "compound_thermodynamic_state = CompoundThermodynamicState(thermostate,\n",
    "                                                          composable_states=[lambda_zero_alchemical_state])\n",
    "\n",
    "# Set alchemical parameters\n",
    "beta_0 = 1 / (kB * T_min)\n",
    "beta_m = 1 / (kB * T)\n",
    "compound_thermodynamic_state.set_alchemical_parameters(beta_0, beta_m)\n",
    "\n",
    "integrator = openmm.VerletIntegrator(1.0*unit.femtosecond)\n",
    "context = compound_thermodynamic_state.create_context(integrator)\n",
    "context.setPositions(ala.positions)\n",
    "sampler_state = SamplerState.from_context(context)\n",
    "compound_thermodynamic_state.reduced_potential(sampler_state)\n"
   ]
  },
  {
   "cell_type": "markdown",
   "metadata": {},
   "source": [
    "Get energy of vanilla system (after manually scaling energies) at same thermostate as above"
   ]
  },
  {
   "cell_type": "code",
   "execution_count": 40,
   "metadata": {},
   "outputs": [
    {
     "data": {
      "text/plain": [
       "-9893.55076491989"
      ]
     },
     "execution_count": 40,
     "metadata": {},
     "output_type": "execute_result"
    }
   ],
   "source": [
    "system = ala.system\n",
    "\n",
    "# Compute energy for non-RESTified system\n",
    "protein = rest_atoms\n",
    "environment = [i for i in range(ala.topology.getNumAtoms()) if i not in rest_atoms]\n",
    "protein_scaling = beta_m / beta_0\n",
    "inter_scaling = np.sqrt(beta_m / beta_0)\n",
    "\n",
    "# Scale the terms in the bond force appropriately\n",
    "bond_force = system.getForce(0)\n",
    "for bond in range(bond_force.getNumBonds()):\n",
    "    p1, p2, length, k = bond_force.getBondParameters(bond)\n",
    "    if p1 in protein and p2 in protein:\n",
    "        bond_force.setBondParameters(bond, p1, p2, length, k * protein_scaling)\n",
    "    elif (p1 in protein and p2 in environment) or (p1 in environment and p2 in protein):\n",
    "        bond_force.setBondParameters(bond, p1, p2, length, k * inter_scaling)\n",
    "\n",
    "# Scale the terms in the angle force appropriately\n",
    "angle_force = system.getForce(1)\n",
    "for angle_index in range(angle_force.getNumAngles()):\n",
    "    p1, p2, p3, angle, k = angle_force.getAngleParameters(angle_index)\n",
    "    if p1 in protein and p2 in protein and p3 in protein:\n",
    "        angle_force.setAngleParameters(angle_index, p1, p2, p3, angle, k * protein_scaling)\n",
    "    elif set([p1, p2, p3]).intersection(set(protein)) != set() and set([p1, p2, p3]).intersection(set(environment)) != set():\n",
    "        angle_force.setAngleParameters(angle_index, p1, p2, p3, angle, k * inter_scaling)\n",
    "\n",
    "# Scale the terms in the torsion force appropriately\n",
    "torsion_force = system.getForce(2)\n",
    "for torsion_index in range(torsion_force.getNumTorsions()):\n",
    "    p1, p2, p3, p4, periodicity, phase, k = torsion_force.getTorsionParameters(torsion_index)\n",
    "    if p1 in protein and p2 in protein and p3 in protein and p4 in protein:\n",
    "        torsion_force.setTorsionParameters(torsion_index, p1, p2, p3, p4, periodicity, phase, k * protein_scaling)\n",
    "    elif set([p1, p2, p3, p4]).intersection(set(protein)) != set() and set([p1, p2, p3, p4]).intersection(set(environment)) != set():\n",
    "        torsion_force.setTorsionParameters(torsion_index, p1, p2, p3, p4, periodicity, phase, k * inter_scaling)\n",
    "\n",
    "# Scale the exceptions in the nonbonded force appropriately\n",
    "nb_force = system.getForce(3)\n",
    "for nb_index in range(nb_force.getNumExceptions()):\n",
    "    p1, p2, chargeProd, sigma, epsilon = nb_force.getExceptionParameters(nb_index)\n",
    "    if p1 in protein and p2 in protein:\n",
    "        nb_force.setExceptionParameters(nb_index, p1, p2, protein_scaling * chargeProd, sigma, protein_scaling * epsilon)\n",
    "    elif (p1 in protein and p2 in environment) or (p1 in environment and p2 in protein):\n",
    "        nb_force.setExceptionParameters(nb_index, p1, p2, inter_scaling * chargeProd, sigma, inter_scaling * epsilon)\n",
    "\n",
    "# Scale nonbonded interactions for solute region by adding exceptions for all pairs of atoms \n",
    "exception_pairs = [tuple(sorted([nb_force.getExceptionParameters(nb_index)[0], nb_force.getExceptionParameters(nb_index)[1]])) for nb_index in range(nb_force.getNumExceptions())]\n",
    "solute_pairs = set([tuple(sorted(pair)) for pair in list(itertools.product(protein, protein))])\n",
    "for pair in list(solute_pairs):\n",
    "    p1 = pair[0]\n",
    "    p2 = pair[1]\n",
    "    p1_charge, p1_sigma, p1_epsilon = nb_force.getParticleParameters(p1)\n",
    "    p2_charge, p2_sigma, p2_epsilon = nb_force.getParticleParameters(p2)\n",
    "    if p1 != p2:\n",
    "        if pair not in exception_pairs:\n",
    "#             print(pair)\n",
    "            nb_force.addException(p1, p2, p1_charge*p2_charge*protein_scaling, 0.5*(p1_sigma+p2_sigma), np.sqrt(p1_epsilon*p2_epsilon)*protein_scaling)\n",
    "        \n",
    "# Scale nonbonded interactions for inter region by adding exceptions for all pairs of atoms \n",
    "# traj = md.Trajectory(np.array(positions), md.Topology.from_openmm(solvated_topology))\n",
    "# nearby_waters = md.compute_neighbors(traj, 0.4, list(range(0,22)), haystack_indices=list(range(22, solvated_topology.getNumAtoms())))[0]\n",
    "for pair in list(itertools.product(protein, environment)):\n",
    "    p1 = pair[0]\n",
    "    p2 = int(pair[1]) # otherwise, will be a numpy int\n",
    "    p1_charge, p1_sigma, p1_epsilon = nb_force.getParticleParameters(p1)\n",
    "    p2_charge, p2_sigma, p2_epsilon = nb_force.getParticleParameters(p2)\n",
    "    if tuple(sorted(pair)) not in exception_pairs:\n",
    "        nb_force.addException(p1, p2, p1_charge*p2_charge*inter_scaling, 0.5*(p1_sigma+p2_sigma), np.sqrt(p1_epsilon*p2_epsilon)*inter_scaling)\n",
    "\n",
    "# Save energy\n",
    "thermostate = ThermodynamicState(system, temperature=T_min)\n",
    "integrator = openmm.VerletIntegrator(1.0*unit.femtosecond)\n",
    "context = thermostate.create_context(integrator)\n",
    "context.setPositions(ala.positions)\n",
    "sampler_state = SamplerState.from_context(context)\n",
    "thermostate.reduced_potential(sampler_state)"
   ]
  },
  {
   "cell_type": "code",
   "execution_count": null,
   "metadata": {},
   "outputs": [],
   "source": []
  }
 ],
 "metadata": {
  "kernelspec": {
   "display_name": "Python 3",
   "language": "python",
   "name": "python3"
  },
  "language_info": {
   "codemirror_mode": {
    "name": "ipython",
    "version": 3
   },
   "file_extension": ".py",
   "mimetype": "text/x-python",
   "name": "python",
   "nbconvert_exporter": "python",
   "pygments_lexer": "ipython3",
   "version": "3.8.6"
  }
 },
 "nbformat": 4,
 "nbformat_minor": 4
}
