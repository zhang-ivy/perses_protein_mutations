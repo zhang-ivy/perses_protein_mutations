{
 "cells": [
  {
   "cell_type": "markdown",
   "id": "b4392b56",
   "metadata": {},
   "source": [
    "## Run MD with vanilla/og system and then check that difference in energies between vanilla vs rest system are close to 0"
   ]
  },
  {
   "cell_type": "code",
   "execution_count": 21,
   "id": "7119fbbe",
   "metadata": {},
   "outputs": [],
   "source": [
    "from tqdm import tqdm_notebook\n",
    "import openmmtools\n",
    "import matplotlib.pyplot as plt\n",
    "import pickle\n",
    "\n",
    "from simtk.openmm import unit\n",
    "import openmmtools\n",
    "from openmmtools.states import SamplerState, ThermodynamicState, CompoundThermodynamicState\n",
    "from openmmtools import cache\n",
    "\n",
    "from perses.annihilation.rest import RESTTopologyFactoryV3\n",
    "from perses.annihilation.lambda_protocol import RESTStateV3\n",
    "from perses.dispersed import feptasks"
   ]
  },
  {
   "cell_type": "code",
   "execution_count": 3,
   "id": "a3e6abbc",
   "metadata": {},
   "outputs": [
    {
     "name": "stderr",
     "output_type": "stream",
     "text": [
      "INFO:rdkit:Enabling RDKit 2021.03.5 jupyter extensions\n"
     ]
    }
   ],
   "source": [
    "with open(\"T42A_complex_0.pickle\", \"rb\") as f:\n",
    "    htf = pickle.load(f)"
   ]
  },
  {
   "cell_type": "code",
   "execution_count": 7,
   "id": "26bdf0d4",
   "metadata": {},
   "outputs": [
    {
     "name": "stderr",
     "output_type": "stream",
     "text": [
      "INFO:REST:*** Generating RESTTopologyFactoryV3 ***\n",
      "INFO:REST:No unknown forces.\n",
      "INFO:REST:alpha_ewald is 2.7569734238004693\n",
      "INFO:REST:Added MonteCarloBarostat.\n",
      "INFO:REST:getDefaultPeriodicBoxVectors added to hybrid: [Quantity(value=Vec3(x=6.7997, y=0.0, z=0.0), unit=nanometer), Quantity(value=Vec3(x=0.0, y=6.7997, z=0.0), unit=nanometer), Quantity(value=Vec3(x=0.0, y=0.0, z=6.7997), unit=nanometer)]\n"
     ]
    }
   ],
   "source": [
    "# Create REST-ified hybrid system\n",
    "rest_atoms = list(htf._atom_classes['unique_old_atoms']) + list(htf._atom_classes['unique_new_atoms'])\n",
    "factory = RESTTopologyFactoryV3(htf.hybrid_system, htf.hybrid_topology, rest_region=rest_atoms, use_dispersion_correction=True)\n",
    "REST_system = factory.REST_system"
   ]
  },
  {
   "cell_type": "code",
   "execution_count": 32,
   "id": "95824802",
   "metadata": {},
   "outputs": [],
   "source": [
    "# Create states for each replica\n",
    "n_replicas = 12  # Number of temperature replicas.\n",
    "T_min = 300.0 * unit.kelvin  # Minimum temperature.\n",
    "\n",
    "# Create thermodynamic state for rest\n",
    "lambda_zero_alchemical_state = RESTStateV3.from_system(REST_system)\n",
    "thermostate = ThermodynamicState(REST_system, temperature=T_min)\n",
    "compound_thermodynamic_state = CompoundThermodynamicState(thermostate, composable_states=[lambda_zero_alchemical_state])\n",
    "\n",
    "# Create thermodynamic state for og system\n",
    "thermostate = ThermodynamicState(htf.hybrid_system, temperature=T_min)\n"
   ]
  },
  {
   "cell_type": "code",
   "execution_count": 33,
   "id": "cb8a6107",
   "metadata": {},
   "outputs": [],
   "source": [
    "# Create thermodynamics states\n",
    "sampler_state =  SamplerState(htf.hybrid_positions, box_vectors=htf.hybrid_system.getDefaultPeriodicBoxVectors())"
   ]
  },
  {
   "cell_type": "code",
   "execution_count": 34,
   "id": "88ca7f0c",
   "metadata": {},
   "outputs": [],
   "source": [
    "context_cache = cache.global_context_cache"
   ]
  },
  {
   "cell_type": "code",
   "execution_count": 35,
   "id": "bee9682b",
   "metadata": {},
   "outputs": [],
   "source": [
    "integrator = openmmtools.integrators.LangevinIntegrator(temperature=300 * unit.kelvin,\n",
    "                                              collision_rate=1 / unit.picoseconds,\n",
    "                                              timestep= 4 * unit.femtoseconds)"
   ]
  },
  {
   "cell_type": "code",
   "execution_count": 36,
   "id": "39e806d2",
   "metadata": {},
   "outputs": [],
   "source": [
    "feptasks.minimize(thermostate, sampler_state, max_iterations=0)"
   ]
  },
  {
   "cell_type": "code",
   "execution_count": 37,
   "id": "346c38b1",
   "metadata": {},
   "outputs": [],
   "source": [
    "context, integrator = context_cache.get_context(thermostate, integrator)\n",
    "sampler_state.apply_to_context(context)\n"
   ]
  },
  {
   "cell_type": "code",
   "execution_count": null,
   "id": "643537ca",
   "metadata": {},
   "outputs": [
    {
     "name": "stderr",
     "output_type": "stream",
     "text": [
      "/var/folders/47/gc5xdnpd54v4tkhd4lvyjxzmhxxhqn/T/ipykernel_77464/3301661475.py:3: TqdmDeprecationWarning: This function will be removed in tqdm==5.0.0\n",
      "Please use `tqdm.notebook.tqdm` instead of `tqdm.tqdm_notebook`\n",
      "  for _ in tqdm_notebook(range(int(125000/250))):\n"
     ]
    },
    {
     "data": {
      "application/vnd.jupyter.widget-view+json": {
       "model_id": "0f6a45d8a87b4c70b01e2475c7f59d5c",
       "version_major": 2,
       "version_minor": 0
      },
      "text/plain": [
       "  0%|          | 0/500 [00:00<?, ?it/s]"
      ]
     },
     "metadata": {},
     "output_type": "display_data"
    }
   ],
   "source": [
    "hybrid = list()\n",
    "energies = list()\n",
    "for _ in tqdm_notebook(range(int(125000/250))):\n",
    "    integrator.step(250)\n",
    "    pos = context.getState(getPositions=True, enforcePeriodicBox=False).getPositions(asNumpy=True)\n",
    "    hybrid.append(pos)"
   ]
  },
  {
   "cell_type": "code",
   "execution_count": 93,
   "id": "71985457",
   "metadata": {},
   "outputs": [
    {
     "name": "stderr",
     "output_type": "stream",
     "text": [
      "<ipython-input-93-807df311909c>:3: TqdmDeprecationWarning: This function will be removed in tqdm==5.0.0\n",
      "Please use `tqdm.notebook.tqdm` instead of `tqdm.tqdm_notebook`\n",
      "  for pos in tqdm_notebook(hybrid):\n"
     ]
    },
    {
     "data": {
      "application/vnd.jupyter.widget-view+json": {
       "model_id": "",
       "version_major": 2,
       "version_minor": 0
      },
      "text/plain": [
       "  0%|          | 0/500 [00:00<?, ?it/s]"
      ]
     },
     "metadata": {},
     "output_type": "display_data"
    }
   ],
   "source": [
    "energies_og = list()\n",
    "energies_rest = list()\n",
    "for pos in tqdm_notebook(hybrid):\n",
    "    integrator = openmmtools.integrators.LangevinIntegrator(temperature=300 * unit.kelvin,\n",
    "                                              collision_rate=1 / unit.picoseconds,\n",
    "                                              timestep= 4 * unit.femtoseconds)\n",
    "    context = thermostate.create_context(integrator)\n",
    "    context.setPositions(pos)\n",
    "    sampler_state = SamplerState.from_context(context)\n",
    "    energy = thermostate.reduced_potential(sampler_state)\n",
    "    energies_og.append(energy)\n",
    "    \n",
    "    thermostate = compound_thermodynamic_state\n",
    "    integrator = openmmtools.integrators.LangevinIntegrator(temperature=300 * unit.kelvin,\n",
    "                                              collision_rate=1 / unit.picoseconds,\n",
    "                                              timestep= 4 * unit.femtoseconds)\n",
    "    context = thermostate.create_context(integrator)\n",
    "    context.setPositions(pos)\n",
    "    sampler_state = SamplerState.from_context(context)\n",
    "    energy = thermostate.reduced_potential(sampler_state)\n",
    "    energies_rest.append(energy)"
   ]
  },
  {
   "cell_type": "code",
   "execution_count": 94,
   "id": "34ef5080",
   "metadata": {
    "scrolled": true
   },
   "outputs": [
    {
     "data": {
      "text/plain": [
       "[<matplotlib.lines.Line2D at 0x2b6183c47a90>]"
      ]
     },
     "execution_count": 94,
     "metadata": {},
     "output_type": "execute_result"
    },
    {
     "data": {
      "image/png": "[encoded data removed]",
      "text/plain": [
       "<Figure size 432x288 with 1 Axes>"
      ]
     },
     "metadata": {
      "needs_background": "light"
     },
     "output_type": "display_data"
    }
   ],
   "source": [
    "plt.plot(np.array(energies_og) - np.array(energies_rest))"
   ]
  },
  {
   "cell_type": "code",
   "execution_count": 95,
   "id": "bc4f01c2",
   "metadata": {
    "scrolled": true
   },
   "outputs": [
    {
     "data": {
      "text/plain": [
       "0.002372571416010197"
      ]
     },
     "execution_count": 95,
     "metadata": {},
     "output_type": "execute_result"
    }
   ],
   "source": [
    "np.std(np.array(energies_300) - np.array(energies_301))"
   ]
  },
  {
   "cell_type": "code",
   "execution_count": null,
   "id": "dbaa9c2a",
   "metadata": {},
   "outputs": [],
   "source": []
  },
  {
   "cell_type": "code",
   "execution_count": null,
   "id": "873bf9de",
   "metadata": {},
   "outputs": [],
   "source": []
  }
 ],
 "metadata": {
  "kernelspec": {
   "display_name": "Python 3 (ipykernel)",
   "language": "python",
   "name": "python3"
  },
  "language_info": {
   "codemirror_mode": {
    "name": "ipython",
    "version": 3
   },
   "file_extension": ".py",
   "mimetype": "text/x-python",
   "name": "python",
   "nbconvert_exporter": "python",
   "pygments_lexer": "ipython3",
   "version": "3.9.7"
  }
 },
 "nbformat": 4,
 "nbformat_minor": 5
}
