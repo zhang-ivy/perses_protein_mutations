{
 "cells": [
  {
   "cell_type": "markdown",
   "id": "b4392b56",
   "metadata": {},
   "source": [
    "## Try running vanilla MD on ala dipeptide in solvent at the first thermostate and see if the problem happens"
   ]
  },
  {
   "cell_type": "code",
   "execution_count": 1,
   "id": "7119fbbe",
   "metadata": {},
   "outputs": [
    {
     "name": "stderr",
     "output_type": "stream",
     "text": [
      "Warning: importing 'simtk.openmm' is deprecated.  Import 'openmm' instead.\n"
     ]
    }
   ],
   "source": [
    "from tqdm import tqdm_notebook\n",
    "import openmmtools"
   ]
  },
  {
   "cell_type": "code",
   "execution_count": 2,
   "id": "a3e6abbc",
   "metadata": {},
   "outputs": [
    {
     "name": "stdout",
     "output_type": "stream",
     "text": [
      "conducting subsequent work with the following platform: CUDA\n"
     ]
    },
    {
     "name": "stderr",
     "output_type": "stream",
     "text": [
      "INFO:rdkit:Enabling RDKit 2021.03.5 jupyter extensions\n"
     ]
    }
   ],
   "source": [
    "import pickle\n",
    "import os\n",
    "from openeye import oechem\n",
    "from perses.annihilation.rest import RESTTopologyFactoryV3\n",
    "from perses.annihilation.lambda_protocol import RESTStateV3\n",
    "from openmmtools.states import SamplerState, ThermodynamicState, CompoundThermodynamicState\n",
    "from openmmtools import cache, utils\n",
    "from perses.dispersed.utils import configure_platform\n",
    "# cache.global_context_cache.platform = configure_platform(utils.get_fastest_platform().getName())\n",
    "from simtk import openmm, unit\n",
    "import math\n",
    "from openmmtools.constants import kB\n",
    "from openmmtools import mcmc, multistate\n",
    "import argparse\n",
    "import copy\n",
    "from perses.dispersed import feptasks\n",
    "import mdtraj as md\n",
    "import numpy as np\n",
    "from perses.app.relative_point_mutation_setup import PointMutationExecutor\n",
    "from openmmtools.testsystems import AlanineDipeptideExplicit\n"
   ]
  },
  {
   "cell_type": "code",
   "execution_count": 43,
   "id": "7d84cd54",
   "metadata": {},
   "outputs": [],
   "source": [
    "length = 1\n",
    "move_length = 1\n",
    "timestep = 4\n",
    "radius = 0.4\n"
   ]
  },
  {
   "cell_type": "code",
   "execution_count": 52,
   "id": "2b611325",
   "metadata": {},
   "outputs": [
    {
     "name": "stderr",
     "output_type": "stream",
     "text": [
      "INFO:REST:*** Generating RESTTopologyFactoryV3 ***\n",
      "INFO:REST:No unknown forces.\n",
      "INFO:REST:alpha_ewald is 3.2893431387452243\n",
      "INFO:REST:Added MonteCarloBarostat.\n",
      "INFO:REST:getDefaultPeriodicBoxVectors added to hybrid: [Quantity(value=Vec3(x=3.2852863, y=0.0, z=0.0), unit=nanometer), Quantity(value=Vec3(x=0.0, y=3.2861648000000003, z=0.0), unit=nanometer), Quantity(value=Vec3(x=0.0, y=0.0, z=3.1855098), unit=nanometer)]\n"
     ]
    }
   ],
   "source": [
    "## CASE 2: alanine dipeptide in solvent\n",
    "# Create vanilla system\n",
    "ala = AlanineDipeptideExplicit()\n",
    "system = ala.system\n",
    "system.removeForce(4)\n",
    "positions = ala.positions\n",
    "topology = ala.topology\n",
    "system.addForce(openmm.MonteCarloBarostat(1.0 * unit.atmosphere, 300 * unit.kelvin, 50))\n",
    "\n",
    "# Create REST system\n",
    "res1 = list(ala.topology.residues())[1]\n",
    "rest_atoms = [atom.index for atom in res1.atoms()]\n",
    "factory = RESTTopologyFactoryV3(system, topology, rest_region=rest_atoms, use_dispersion_correction=True)\n",
    "REST_system = factory.REST_system\n"
   ]
  },
  {
   "cell_type": "code",
   "execution_count": 54,
   "id": "d988634a",
   "metadata": {},
   "outputs": [
    {
     "data": {
      "text/plain": [
       "Quantity(value=1.0, unit=nanometer)"
      ]
     },
     "execution_count": 54,
     "metadata": {},
     "output_type": "execute_result"
    }
   ],
   "source": [
    "system.getForce(3).getCutoffDistance()"
   ]
  },
  {
   "cell_type": "code",
   "execution_count": 55,
   "id": "e33207e4",
   "metadata": {},
   "outputs": [
    {
     "data": {
      "text/plain": [
       "1e-05"
      ]
     },
     "execution_count": 55,
     "metadata": {},
     "output_type": "execute_result"
    }
   ],
   "source": [
    "system.getForce(3).getEwaldErrorTolerance()"
   ]
  },
  {
   "cell_type": "code",
   "execution_count": 4,
   "id": "95824802",
   "metadata": {},
   "outputs": [],
   "source": [
    "# Get REST system\n",
    "REST_system = factory.REST_system\n",
    "\n",
    "# Create states for each replica\n",
    "n_replicas = 12  # Number of temperature replicas.\n",
    "T_min = 300.0 * unit.kelvin  # Minimum temperature.\n",
    "T_max = 1200 * unit.kelvin  # Maximum temperature.\n",
    "temperatures = [T_min + (T_max - T_min) * (math.exp(float(i) / float(n_replicas-1)) - 1.0) / (math.e - 1.0)\n",
    "                for i in range(n_replicas)]\n",
    "\n",
    "# Create reference thermodynamic state\n",
    "lambda_zero_alchemical_state = RESTStateV3.from_system(REST_system)\n",
    "thermostate = ThermodynamicState(REST_system, temperature=T_min)\n",
    "compound_thermodynamic_state = CompoundThermodynamicState(thermostate, composable_states=[lambda_zero_alchemical_state])\n",
    "\n",
    "# Create thermodynamics states\n",
    "sampler_state =  SamplerState(positions, box_vectors=system.getDefaultPeriodicBoxVectors())\n",
    "beta_0 = 1/(kB*T_min)\n",
    "thermodynamic_state_list = []\n",
    "sampler_state_list = []\n",
    "for temperature in [temperatures[0], temperatures[-1]]:\n",
    "    beta_m = 1/(kB*temperature)\n",
    "    compound_thermodynamic_state_copy = copy.deepcopy(compound_thermodynamic_state)\n",
    "    compound_thermodynamic_state_copy.set_alchemical_parameters(beta_0, beta_m)\n",
    "    thermodynamic_state_list.append(compound_thermodynamic_state_copy)\n",
    "\n",
    "    # now generating a sampler_state for each thermodynamic state, with relaxed positions\n",
    "    # context, context_integrator = context_cache.get_context(compound_thermodynamic_state_copy)\n",
    "    feptasks.minimize(compound_thermodynamic_state_copy, sampler_state, max_iterations=0)\n",
    "    sampler_state_list.append(copy.deepcopy(sampler_state))\n"
   ]
  },
  {
   "cell_type": "code",
   "execution_count": 5,
   "id": "f5ef21ce",
   "metadata": {},
   "outputs": [
    {
     "data": {
      "text/plain": [
       "[<openmm.openmm.MonteCarloBarostat; proxy of <Swig Object of type 'OpenMM::MonteCarloBarostat *' at 0x2ad6e0ef5150> >,\n",
       " <openmm.openmm.CustomBondForce; proxy of <Swig Object of type 'OpenMM::CustomBondForce *' at 0x2ad6e0ef53f0> >,\n",
       " <openmm.openmm.CustomAngleForce; proxy of <Swig Object of type 'OpenMM::CustomAngleForce *' at 0x2ad6e0ef5330> >,\n",
       " <openmm.openmm.CustomTorsionForce; proxy of <Swig Object of type 'OpenMM::CustomTorsionForce *' at 0x2ad6e0ef54b0> >,\n",
       " <openmm.openmm.CustomNonbondedForce; proxy of <Swig Object of type 'OpenMM::CustomNonbondedForce *' at 0x2ad6e0ef5540> >,\n",
       " <openmm.openmm.CustomNonbondedForce; proxy of <Swig Object of type 'OpenMM::CustomNonbondedForce *' at 0x2ad6e0ef55a0> >,\n",
       " <openmm.openmm.CustomBondForce; proxy of <Swig Object of type 'OpenMM::CustomBondForce *' at 0x2ad6e0ef5630> >,\n",
       " <openmm.openmm.NonbondedForce; proxy of <Swig Object of type 'OpenMM::NonbondedForce *' at 0x2ad6e0ef56c0> >]"
      ]
     },
     "execution_count": 5,
     "metadata": {},
     "output_type": "execute_result"
    }
   ],
   "source": [
    "REST_system.getForces()"
   ]
  },
  {
   "cell_type": "code",
   "execution_count": 6,
   "id": "c5494601",
   "metadata": {},
   "outputs": [],
   "source": [
    "integrator = openmmtools.integrators.LangevinIntegrator(temperature=300 * unit.kelvin,\n",
    "                                              collision_rate=1 / unit.picoseconds,\n",
    "                                              timestep= 4 * unit.femtoseconds)\n",
    "context_cache = cache.global_context_cache\n",
    "context, integrator = context_cache.get_context(thermodynamic_state_list[0], integrator)\n"
   ]
  },
  {
   "cell_type": "code",
   "execution_count": 7,
   "id": "1847ac9d",
   "metadata": {},
   "outputs": [],
   "source": [
    "sampler_state_list[0].apply_to_context(context)"
   ]
  },
  {
   "cell_type": "code",
   "execution_count": 8,
   "id": "e862b920",
   "metadata": {},
   "outputs": [
    {
     "name": "stderr",
     "output_type": "stream",
     "text": [
      "/scratch/lsftmp/3143052.tmpdir/ipykernel_4220/3652335998.py:2: TqdmDeprecationWarning: This function will be removed in tqdm==5.0.0\n",
      "Please use `tqdm.notebook.tqdm` instead of `tqdm.tqdm_notebook`\n",
      "  for _ in tqdm_notebook(range(int(125000/250))):\n"
     ]
    },
    {
     "data": {
      "application/vnd.jupyter.widget-view+json": {
       "model_id": "",
       "version_major": 2,
       "version_minor": 0
      },
      "text/plain": [
       "  0%|          | 0/500 [00:00<?, ?it/s]"
      ]
     },
     "metadata": {},
     "output_type": "display_data"
    }
   ],
   "source": [
    "old, new = list(), list()\n",
    "for _ in tqdm_notebook(range(int(125000/250))):\n",
    "    integrator.step(250)\n",
    "    \n",
    "    pos = context.getState(getPositions=True, enforcePeriodicBox=False).getPositions(asNumpy=True)\n",
    "#     old_pos = np.asarray(htf.old_positions(pos))\n",
    "#     new_pos = np.asarray(htf.new_positions(pos))\n",
    "#     old.append(old_pos)\n",
    "#     new.append(new_pos)\n",
    "    old.append(pos)"
   ]
  },
  {
   "cell_type": "code",
   "execution_count": 9,
   "id": "e998fd1d",
   "metadata": {},
   "outputs": [],
   "source": [
    "with open(\"ala_300K.npy\", 'wb') as f:\n",
    "    np.save(f, old)\n",
    "# with open(\"new_1200K.npy\", 'wb') as f:\n",
    "#     np.save(f, new)"
   ]
  },
  {
   "cell_type": "code",
   "execution_count": 10,
   "id": "2a845426",
   "metadata": {},
   "outputs": [],
   "source": [
    "import mdtraj as md"
   ]
  },
  {
   "cell_type": "code",
   "execution_count": 11,
   "id": "71985457",
   "metadata": {},
   "outputs": [],
   "source": [
    "traj = md.Trajectory(np.array(old), md.Topology.from_openmm(ala.topology))\n",
    "traj.save(\"ala_300K.dcd\")\n",
    "traj[0].save(\"ala_300K.pdb\")"
   ]
  },
  {
   "cell_type": "markdown",
   "id": "e1ea8b9b",
   "metadata": {},
   "source": [
    "## 1200 K"
   ]
  },
  {
   "cell_type": "code",
   "execution_count": 12,
   "id": "04da61fe",
   "metadata": {},
   "outputs": [],
   "source": [
    "integrator = openmmtools.integrators.LangevinIntegrator(temperature=300 * unit.kelvin,\n",
    "                                              collision_rate=1 / unit.picoseconds,\n",
    "                                              timestep= 4 * unit.femtoseconds)\n",
    "context_cache = cache.global_context_cache\n",
    "context, integrator = context_cache.get_context(thermodynamic_state_list[1], integrator)\n"
   ]
  },
  {
   "cell_type": "code",
   "execution_count": 13,
   "id": "c1f229db",
   "metadata": {},
   "outputs": [],
   "source": [
    "sampler_state_list[1].apply_to_context(context)"
   ]
  },
  {
   "cell_type": "code",
   "execution_count": 14,
   "id": "f82af1af",
   "metadata": {},
   "outputs": [
    {
     "name": "stderr",
     "output_type": "stream",
     "text": [
      "/scratch/lsftmp/3143052.tmpdir/ipykernel_4220/3652335998.py:2: TqdmDeprecationWarning: This function will be removed in tqdm==5.0.0\n",
      "Please use `tqdm.notebook.tqdm` instead of `tqdm.tqdm_notebook`\n",
      "  for _ in tqdm_notebook(range(int(125000/250))):\n"
     ]
    },
    {
     "data": {
      "application/vnd.jupyter.widget-view+json": {
       "model_id": "",
       "version_major": 2,
       "version_minor": 0
      },
      "text/plain": [
       "  0%|          | 0/500 [00:00<?, ?it/s]"
      ]
     },
     "metadata": {},
     "output_type": "display_data"
    }
   ],
   "source": [
    "old, new = list(), list()\n",
    "for _ in tqdm_notebook(range(int(125000/250))):\n",
    "    integrator.step(250)\n",
    "    \n",
    "    pos = context.getState(getPositions=True, enforcePeriodicBox=False).getPositions(asNumpy=True)\n",
    "#     old_pos = np.asarray(htf.old_positions(pos))\n",
    "#     new_pos = np.asarray(htf.new_positions(pos))\n",
    "#     old.append(old_pos)\n",
    "#     new.append(new_pos)\n",
    "    old.append(pos)"
   ]
  },
  {
   "cell_type": "code",
   "execution_count": 15,
   "id": "32704ba3",
   "metadata": {},
   "outputs": [],
   "source": [
    "with open(\"ala_1200K.npy\", 'wb') as f:\n",
    "    np.save(f, old)\n",
    "# with open(\"new_1200K.npy\", 'wb') as f:\n",
    "#     np.save(f, new)"
   ]
  },
  {
   "cell_type": "code",
   "execution_count": 16,
   "id": "cf238f0a",
   "metadata": {},
   "outputs": [],
   "source": [
    "import mdtraj as md"
   ]
  },
  {
   "cell_type": "code",
   "execution_count": 17,
   "id": "77481307",
   "metadata": {},
   "outputs": [],
   "source": [
    "traj = md.Trajectory(np.array(old), md.Topology.from_openmm(ala.topology))\n",
    "traj.save(\"ala_1200K.dcd\")\n",
    "traj[0].save(\"ala_1200K.pdb\")"
   ]
  },
  {
   "cell_type": "markdown",
   "id": "2b45f5c0",
   "metadata": {},
   "source": [
    "## Try running vanilla MD on bnbs at the first thermostate and see if the problem happens"
   ]
  },
  {
   "cell_type": "code",
   "execution_count": 18,
   "id": "2074ab90",
   "metadata": {},
   "outputs": [],
   "source": [
    "from tqdm import tqdm_notebook\n",
    "import openmmtools"
   ]
  },
  {
   "cell_type": "code",
   "execution_count": 19,
   "id": "10c16ff0",
   "metadata": {},
   "outputs": [],
   "source": [
    "import pickle\n",
    "import os\n",
    "from openeye import oechem\n",
    "from perses.annihilation.rest import RESTTopologyFactoryV3\n",
    "from perses.annihilation.lambda_protocol import RESTStateV3\n",
    "from openmmtools.states import SamplerState, ThermodynamicState, CompoundThermodynamicState\n",
    "from openmmtools import cache, utils\n",
    "from perses.dispersed.utils import configure_platform\n",
    "# cache.global_context_cache.platform = configure_platform(utils.get_fastest_platform().getName())\n",
    "from simtk import openmm, unit\n",
    "import math\n",
    "from openmmtools.constants import kB\n",
    "from openmmtools import mcmc, multistate\n",
    "import argparse\n",
    "import copy\n",
    "from perses.dispersed import feptasks\n",
    "import mdtraj as md\n",
    "import numpy as np\n",
    "from perses.app.relative_point_mutation_setup import PointMutationExecutor\n",
    "from openmmtools.testsystems import AlanineDipeptideExplicit\n"
   ]
  },
  {
   "cell_type": "code",
   "execution_count": 20,
   "id": "e0e0e6a9",
   "metadata": {},
   "outputs": [],
   "source": [
    "length = 1\n",
    "move_length = 1\n",
    "timestep = 4\n",
    "radius = 0.4\n"
   ]
  },
  {
   "cell_type": "code",
   "execution_count": 24,
   "id": "15e0e65e",
   "metadata": {},
   "outputs": [],
   "source": [
    "# Load rhtf\n",
    "htf = pickle.load(open(\"T42A_complex_0.pickle\", \"rb\" ))\n",
    "system = htf.hybrid_system\n",
    "positions = htf.hybrid_positions\n"
   ]
  },
  {
   "cell_type": "code",
   "execution_count": 50,
   "id": "791095d5",
   "metadata": {},
   "outputs": [
    {
     "data": {
      "text/plain": [
       "Quantity(value=1.0, unit=nanometer)"
      ]
     },
     "execution_count": 50,
     "metadata": {},
     "output_type": "execute_result"
    }
   ],
   "source": [
    "system.getForce(4).getCutoffDistance()"
   ]
  },
  {
   "cell_type": "code",
   "execution_count": 51,
   "id": "39bbfafb",
   "metadata": {},
   "outputs": [
    {
     "data": {
      "text/plain": [
       "0.00025"
      ]
     },
     "execution_count": 51,
     "metadata": {},
     "output_type": "execute_result"
    }
   ],
   "source": [
    "system.getForce(4).getEwaldErrorTolerance()"
   ]
  },
  {
   "cell_type": "code",
   "execution_count": 25,
   "id": "4e77e274",
   "metadata": {},
   "outputs": [
    {
     "name": "stderr",
     "output_type": "stream",
     "text": [
      "INFO:REST:*** Generating RESTTopologyFactoryV3 ***\n",
      "INFO:REST:No unknown forces.\n",
      "INFO:REST:alpha_ewald is 2.7569734238004693\n",
      "INFO:REST:Added MonteCarloBarostat.\n",
      "INFO:REST:getDefaultPeriodicBoxVectors added to hybrid: [Quantity(value=Vec3(x=6.7997, y=0.0, z=0.0), unit=nanometer), Quantity(value=Vec3(x=0.0, y=6.7997, z=0.0), unit=nanometer), Quantity(value=Vec3(x=0.0, y=0.0, z=6.7997), unit=nanometer)]\n"
     ]
    }
   ],
   "source": [
    "# Build REST factory\n",
    "for res in htf.hybrid_topology.residues:\n",
    "    if res.resSeq == 83 and res.chain.index == 0:\n",
    "        mutated_res = res\n",
    "query_indices = [atom.index for atom in mutated_res.atoms]\n",
    "traj = md.Trajectory(np.array(htf.hybrid_positions), htf.hybrid_topology)\n",
    "solute_atoms = list(traj.topology.select(\"is_protein\"))\n",
    "rest_atoms = list(md.compute_neighbors(traj, radius, query_indices, haystack_indices=solute_atoms)[0])\n",
    "rest_atoms = [int(atom) for atom in rest_atoms]\n",
    "factory = RESTTopologyFactoryV3(system, htf.hybrid_topology, rest_region=rest_atoms, use_dispersion_correction=True)"
   ]
  },
  {
   "cell_type": "code",
   "execution_count": 26,
   "id": "18ea3720",
   "metadata": {},
   "outputs": [],
   "source": [
    "# Get REST system\n",
    "REST_system = factory.REST_system\n",
    "\n",
    "# Create states for each replica\n",
    "n_replicas = 12  # Number of temperature replicas.\n",
    "T_min = 300.0 * unit.kelvin  # Minimum temperature.\n",
    "T_max = 1200 * unit.kelvin  # Maximum temperature.\n",
    "temperatures = [T_min + (T_max - T_min) * (math.exp(float(i) / float(n_replicas-1)) - 1.0) / (math.e - 1.0)\n",
    "                for i in range(n_replicas)]\n",
    "\n",
    "# Create reference thermodynamic state\n",
    "lambda_zero_alchemical_state = RESTStateV3.from_system(REST_system)\n",
    "thermostate = ThermodynamicState(REST_system, temperature=T_min)\n",
    "compound_thermodynamic_state = CompoundThermodynamicState(thermostate, composable_states=[lambda_zero_alchemical_state])\n",
    "\n",
    "# Create thermodynamics states\n",
    "sampler_state =  SamplerState(positions, box_vectors=system.getDefaultPeriodicBoxVectors())\n",
    "beta_0 = 1/(kB*T_min)\n",
    "thermodynamic_state_list = []\n",
    "sampler_state_list = []\n",
    "for temperature in [temperatures[0], temperatures[-1]]:\n",
    "    beta_m = 1/(kB*temperature)\n",
    "    compound_thermodynamic_state_copy = copy.deepcopy(compound_thermodynamic_state)\n",
    "    compound_thermodynamic_state_copy.set_alchemical_parameters(beta_0, beta_m)\n",
    "    thermodynamic_state_list.append(compound_thermodynamic_state_copy)\n",
    "\n",
    "    # now generating a sampler_state for each thermodynamic state, with relaxed positions\n",
    "    # context, context_integrator = context_cache.get_context(compound_thermodynamic_state_copy)\n",
    "    feptasks.minimize(compound_thermodynamic_state_copy, sampler_state, max_iterations=0)\n",
    "    sampler_state_list.append(copy.deepcopy(sampler_state))\n"
   ]
  },
  {
   "cell_type": "code",
   "execution_count": 27,
   "id": "d78ea690",
   "metadata": {},
   "outputs": [
    {
     "data": {
      "text/plain": [
       "[<openmm.openmm.MonteCarloBarostat; proxy of <Swig Object of type 'OpenMM::MonteCarloBarostat *' at 0x2ad713f308d0> >,\n",
       " <openmm.openmm.CustomBondForce; proxy of <Swig Object of type 'OpenMM::CustomBondForce *' at 0x2ad713f308a0> >,\n",
       " <openmm.openmm.CustomAngleForce; proxy of <Swig Object of type 'OpenMM::CustomAngleForce *' at 0x2ad713f307b0> >,\n",
       " <openmm.openmm.CustomTorsionForce; proxy of <Swig Object of type 'OpenMM::CustomTorsionForce *' at 0x2ad713f304b0> >,\n",
       " <openmm.openmm.CustomNonbondedForce; proxy of <Swig Object of type 'OpenMM::CustomNonbondedForce *' at 0x2ad713f304e0> >,\n",
       " <openmm.openmm.CustomNonbondedForce; proxy of <Swig Object of type 'OpenMM::CustomNonbondedForce *' at 0x2ad713f30570> >,\n",
       " <openmm.openmm.CustomBondForce; proxy of <Swig Object of type 'OpenMM::CustomBondForce *' at 0x2ad713f30870> >,\n",
       " <openmm.openmm.NonbondedForce; proxy of <Swig Object of type 'OpenMM::NonbondedForce *' at 0x2ad713f30900> >]"
      ]
     },
     "execution_count": 27,
     "metadata": {},
     "output_type": "execute_result"
    }
   ],
   "source": [
    "REST_system.getForces()"
   ]
  },
  {
   "cell_type": "code",
   "execution_count": 28,
   "id": "5c0cb30f",
   "metadata": {},
   "outputs": [],
   "source": [
    "integrator = openmmtools.integrators.LangevinIntegrator(temperature=300 * unit.kelvin,\n",
    "                                              collision_rate=1 / unit.picoseconds,\n",
    "                                              timestep= 4 * unit.femtoseconds)\n",
    "context_cache = cache.global_context_cache\n",
    "context, integrator = context_cache.get_context(thermodynamic_state_list[0], integrator)\n"
   ]
  },
  {
   "cell_type": "code",
   "execution_count": 29,
   "id": "a48ca532",
   "metadata": {},
   "outputs": [],
   "source": [
    "sampler_state_list[0].apply_to_context(context)"
   ]
  },
  {
   "cell_type": "code",
   "execution_count": 30,
   "id": "861056e5",
   "metadata": {},
   "outputs": [
    {
     "name": "stderr",
     "output_type": "stream",
     "text": [
      "/scratch/lsftmp/3143052.tmpdir/ipykernel_4220/379063010.py:2: TqdmDeprecationWarning: This function will be removed in tqdm==5.0.0\n",
      "Please use `tqdm.notebook.tqdm` instead of `tqdm.tqdm_notebook`\n",
      "  for _ in tqdm_notebook(range(int(12500/250))):\n"
     ]
    },
    {
     "data": {
      "application/vnd.jupyter.widget-view+json": {
       "model_id": "8377446b77d54eafac799ed516b5d39a",
       "version_major": 2,
       "version_minor": 0
      },
      "text/plain": [
       "  0%|          | 0/50 [00:00<?, ?it/s]"
      ]
     },
     "metadata": {},
     "output_type": "display_data"
    }
   ],
   "source": [
    "old, new = list(), list()\n",
    "for _ in tqdm_notebook(range(int(12500/250))): ## NOTE THIS MAY HAVE BEEN TO SHORT TO SEE THE ISSUE\n",
    "    integrator.step(250)\n",
    "    \n",
    "    pos = context.getState(getPositions=True, enforcePeriodicBox=False).getPositions(asNumpy=True)\n",
    "    old_pos = np.asarray(htf.old_positions(pos))\n",
    "#     new_pos = np.asarray(htf.new_positions(pos))\n",
    "    old.append(old_pos)\n",
    "#     new.append(new_pos)"
   ]
  },
  {
   "cell_type": "code",
   "execution_count": 31,
   "id": "d1df7d05",
   "metadata": {},
   "outputs": [],
   "source": [
    "with open(\"T42A_old_300K.npy\", 'wb') as f:\n",
    "    np.save(f, old)\n",
    "# with open(\"new_1200K.npy\", 'wb') as f:\n",
    "#     np.save(f, new)"
   ]
  },
  {
   "cell_type": "code",
   "execution_count": 32,
   "id": "4aa4c248",
   "metadata": {},
   "outputs": [],
   "source": [
    "import mdtraj as md"
   ]
  },
  {
   "cell_type": "code",
   "execution_count": 33,
   "id": "7fe18648",
   "metadata": {},
   "outputs": [],
   "source": [
    "traj = md.Trajectory(np.array(old), md.Topology.from_openmm(htf._topology_proposal.old_topology))\n",
    "traj.save(\"T42A_old_300K.dcd\")\n",
    "traj[0].save(\"T42A_old_300K.pdb\")"
   ]
  },
  {
   "cell_type": "markdown",
   "id": "81795a07",
   "metadata": {},
   "source": [
    "## 1200 K"
   ]
  },
  {
   "cell_type": "code",
   "execution_count": 39,
   "id": "897615d2",
   "metadata": {},
   "outputs": [],
   "source": [
    "integrator = openmmtools.integrators.LangevinIntegrator(temperature=300 * unit.kelvin,\n",
    "                                              collision_rate=1 / unit.picoseconds,\n",
    "                                              timestep= 4 * unit.femtoseconds)\n",
    "context_cache = cache.global_context_cache\n",
    "context, integrator = context_cache.get_context(thermodynamic_state_list[1], integrator)\n"
   ]
  },
  {
   "cell_type": "code",
   "execution_count": 40,
   "id": "9f23db17",
   "metadata": {},
   "outputs": [],
   "source": [
    "sampler_state_list[1].apply_to_context(context)"
   ]
  },
  {
   "cell_type": "code",
   "execution_count": 41,
   "id": "c26fa62f",
   "metadata": {},
   "outputs": [
    {
     "name": "stderr",
     "output_type": "stream",
     "text": [
      "/scratch/lsftmp/3143052.tmpdir/ipykernel_4220/664631440.py:2: TqdmDeprecationWarning: This function will be removed in tqdm==5.0.0\n",
      "Please use `tqdm.notebook.tqdm` instead of `tqdm.tqdm_notebook`\n",
      "  for _ in tqdm_notebook(range(int(50000/250))):\n"
     ]
    },
    {
     "data": {
      "application/vnd.jupyter.widget-view+json": {
       "model_id": "3c7dbc19701e428aab35c1919becbae3",
       "version_major": 2,
       "version_minor": 0
      },
      "text/plain": [
       "  0%|          | 0/200 [00:00<?, ?it/s]"
      ]
     },
     "metadata": {},
     "output_type": "display_data"
    }
   ],
   "source": [
    "old, new = list(), list()\n",
    "for _ in tqdm_notebook(range(int(50000/250))):\n",
    "    integrator.step(250)\n",
    "    \n",
    "    pos = context.getState(getPositions=True, enforcePeriodicBox=False).getPositions(asNumpy=True)\n",
    "    old_pos = np.asarray(htf.old_positions(pos))\n",
    "#     new_pos = np.asarray(htf.new_positions(pos))\n",
    "    old.append(old_pos)\n",
    "#     new.append(new_pos)"
   ]
  },
  {
   "cell_type": "code",
   "execution_count": 42,
   "id": "8aee3656",
   "metadata": {},
   "outputs": [],
   "source": [
    "with open(\"T42A_old_1200K.npy\", 'wb') as f:\n",
    "    np.save(f, old)\n",
    "# with open(\"new_1200K.npy\", 'wb') as f:\n",
    "#     np.save(f, new)"
   ]
  },
  {
   "cell_type": "code",
   "execution_count": 43,
   "id": "940a8a87",
   "metadata": {},
   "outputs": [],
   "source": [
    "import mdtraj as md"
   ]
  },
  {
   "cell_type": "code",
   "execution_count": 44,
   "id": "8d082a09",
   "metadata": {},
   "outputs": [],
   "source": [
    "traj = md.Trajectory(np.array(old), md.Topology.from_openmm(htf._topology_proposal.old_topology))\n",
    "traj.save(\"T42A_old_1200K.dcd\")\n",
    "traj[0].save(\"T42A_old_1200K.pdb\")"
   ]
  },
  {
   "cell_type": "code",
   "execution_count": 46,
   "id": "b0a092ea",
   "metadata": {},
   "outputs": [
    {
     "data": {
      "text/plain": [
       "[<openmm.openmm.CustomBondForce; proxy of <Swig Object of type 'OpenMM::CustomBondForce *' at 0x2ad72a086540> >,\n",
       " <openmm.openmm.CustomAngleForce; proxy of <Swig Object of type 'OpenMM::CustomAngleForce *' at 0x2ad72a086600> >,\n",
       " <openmm.openmm.CustomTorsionForce; proxy of <Swig Object of type 'OpenMM::CustomTorsionForce *' at 0x2ad72a0866c0> >,\n",
       " <openmm.openmm.CustomNonbondedForce; proxy of <Swig Object of type 'OpenMM::CustomNonbondedForce *' at 0x2ad72a086840> >,\n",
       " <openmm.openmm.CustomNonbondedForce; proxy of <Swig Object of type 'OpenMM::CustomNonbondedForce *' at 0x2ad72a086900> >,\n",
       " <openmm.openmm.CustomBondForce; proxy of <Swig Object of type 'OpenMM::CustomBondForce *' at 0x2ad7284c63f0> >,\n",
       " <openmm.openmm.NonbondedForce; proxy of <Swig Object of type 'OpenMM::NonbondedForce *' at 0x2ad7284c6090> >,\n",
       " <openmm.openmm.MonteCarloBarostat; proxy of <Swig Object of type 'OpenMM::MonteCarloBarostat *' at 0x2ad7284c6120> >]"
      ]
     },
     "execution_count": 46,
     "metadata": {},
     "output_type": "execute_result"
    }
   ],
   "source": [
    "context.getSystem().getForces()"
   ]
  },
  {
   "cell_type": "code",
   "execution_count": 58,
   "id": "1b98a318",
   "metadata": {},
   "outputs": [
    {
     "data": {
      "text/plain": [
       "True"
      ]
     },
     "execution_count": 58,
     "metadata": {},
     "output_type": "execute_result"
    }
   ],
   "source": [
    "REST_system.getForce(5).getUseSwitchingFunction()"
   ]
  },
  {
   "cell_type": "code",
   "execution_count": null,
   "id": "3a1bf3cb",
   "metadata": {},
   "outputs": [],
   "source": []
  }
 ],
 "metadata": {
  "kernelspec": {
   "display_name": "Python 3 (ipykernel)",
   "language": "python",
   "name": "python3"
  },
  "language_info": {
   "codemirror_mode": {
    "name": "ipython",
    "version": 3
   },
   "file_extension": ".py",
   "mimetype": "text/x-python",
   "name": "python",
   "nbconvert_exporter": "python",
   "pygments_lexer": "ipython3",
   "version": "3.9.7"
  }
 },
 "nbformat": 4,
 "nbformat_minor": 5
}
