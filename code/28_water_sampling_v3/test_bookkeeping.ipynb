{
 "cells": [
  {
   "cell_type": "code",
   "execution_count": 1,
   "id": "f82df811",
   "metadata": {},
   "outputs": [
    {
     "name": "stderr",
     "output_type": "stream",
     "text": [
      "Warning: importing 'simtk.openmm' is deprecated.  Import 'openmm' instead.\n",
      "INFO:rdkit:Enabling RDKit 2021.03.5 jupyter extensions\n"
     ]
    },
    {
     "name": "stdout",
     "output_type": "stream",
     "text": [
      "conducting subsequent work with the following platform: CPU\n"
     ]
    }
   ],
   "source": [
    "###########################################\n",
    "# IMPORTS\n",
    "###########################################\n",
    "from openmmtools.states import SamplerState, ThermodynamicState, CompoundThermodynamicState\n",
    "from simtk import unit, openmm\n",
    "from perses.tests.utils import compute_potential_components\n",
    "from openmmtools.constants import kB\n",
    "from perses.dispersed.utils import configure_platform\n",
    "from perses.annihilation.rest import RESTTopologyFactoryV3\n",
    "from perses.annihilation.lambda_protocol import RESTStateV3\n",
    "import numpy as np\n",
    "from perses.tests.test_topology_proposal import generate_atp, generate_dipeptide_top_pos_sys\n",
    "from openmmtools.testsystems import AlanineDipeptideVacuum, AlanineDipeptideExplicit\n",
    "import itertools\n",
    "\n",
    "#############################################\n",
    "# CONSTANTS\n",
    "#############################################\n",
    "temperature = 300.0 * unit.kelvin\n",
    "kT = kB * temperature\n",
    "beta = 1.0/kT\n",
    "REFERENCE_PLATFORM = openmm.Platform.getPlatformByName(\"Reference\")"
   ]
  },
  {
   "cell_type": "code",
   "execution_count": 2,
   "id": "448d800b",
   "metadata": {},
   "outputs": [],
   "source": [
    "def compare_energy_components(rest_system, other_system, positions, platform=REFERENCE_PLATFORM):\n",
    "    \"\"\"\n",
    "    Get energy components of a given system\n",
    "    \"\"\"\n",
    "    platform = configure_platform(platform)\n",
    "\n",
    "    # Create thermodynamic state and sampler state for non-rest system\n",
    "    thermostate_other = ThermodynamicState(system=other_system, temperature=temperature)\n",
    "\n",
    "    # Create context for non-rest system\n",
    "    integrator_other = openmm.VerletIntegrator(1.0*unit.femtosecond)\n",
    "    context_other = thermostate_other.create_context(integrator_other)\n",
    "    context_other.setPositions(positions)\n",
    "\n",
    "    # Get energy components for non-rest system\n",
    "    components_other = [component for component in compute_potential_components(context_other, beta=beta)]\n",
    "    \n",
    "    # Create thermodynamic state for rest_system\n",
    "    thermostate_rest = ThermodynamicState(system=rest_system, temperature=temperature)\n",
    "\n",
    "    # Create context for rest system\n",
    "    integrator_rest = openmm.VerletIntegrator(1.0 * unit.femtosecond)\n",
    "    context_rest = thermostate_rest.create_context(integrator_rest)\n",
    "    context_rest.setPositions(positions)\n",
    "\n",
    "    # Get energy components for rest system\n",
    "    components_rest = [component for component in compute_potential_components(context_rest, beta=beta)]\n",
    "\n",
    "    print(components_other)\n",
    "    print(components_rest)\n",
    "        \n",
    "    # Check that bond, angle, and torsion energies match\n",
    "    for other, rest in zip(components_other[:3], components_rest[:3]):\n",
    "        assert np.isclose([other[1]], [rest[1]]), f\"The energies do not match for the {other[0]}: {other[1]} (other system) vs. {rest[1]} (REST system)\"\n",
    "\n",
    "    # Check that nonbonded energies match\n",
    "    nonbonded_other = np.array([component[1] for component in components_other[3:]]).sum()\n",
    "    nonbonded_rest = np.array([component[1] for component in components_rest[3:]]).sum()\n",
    "    print(nonbonded_other)\n",
    "    print(nonbonded_rest)\n",
    "    assert np.isclose([nonbonded_other], [nonbonded_rest]), f\"The energies do not match for the NonbondedForce: {nonbonded_other} (other system) vs. {nonbonded_rest} (REST system)\"\n",
    "    \n",
    "    print(\"Energy bookkeeping was a success!\")\n",
    "    \n",
    "    \n"
   ]
  },
  {
   "cell_type": "markdown",
   "id": "62e2331f",
   "metadata": {},
   "source": [
    "## Alanine dipeptide in vacuum"
   ]
  },
  {
   "cell_type": "code",
   "execution_count": 27,
   "id": "8de84165",
   "metadata": {},
   "outputs": [],
   "source": [
    "# Create vanilla system\n",
    "ala = AlanineDipeptideVacuum()\n",
    "system = ala.system\n",
    "positions = ala.positions\n",
    "topology = ala.topology\n",
    "\n"
   ]
  },
  {
   "cell_type": "code",
   "execution_count": 28,
   "id": "91d3ae08",
   "metadata": {},
   "outputs": [
    {
     "name": "stderr",
     "output_type": "stream",
     "text": [
      "INFO:REST:*** Generating RESTTopologyFactoryV3 ***\n",
      "INFO:REST:No unknown forces.\n",
      "INFO:REST:alpha_ewald is 0\n",
      "INFO:REST:No MonteCarloBarostat added.\n",
      "INFO:REST:getDefaultPeriodicBoxVectors added to hybrid: [Quantity(value=Vec3(x=2.0, y=0.0, z=0.0), unit=nanometer), Quantity(value=Vec3(x=0.0, y=2.0, z=0.0), unit=nanometer), Quantity(value=Vec3(x=0.0, y=0.0, z=2.0), unit=nanometer)]\n"
     ]
    }
   ],
   "source": [
    "# Create REST system\n",
    "system.removeForce(4)\n",
    "res1 = list(ala.topology.residues())[1]\n",
    "rest_atoms = [atom.index for atom in res1.atoms()]\n",
    "factory = RESTTopologyFactoryV3(system, topology, rest_region=rest_atoms)\n",
    "REST_system = factory.REST_system\n",
    "\n"
   ]
  },
  {
   "cell_type": "code",
   "execution_count": 29,
   "id": "e845fc3d",
   "metadata": {},
   "outputs": [
    {
     "name": "stdout",
     "output_type": "stream",
     "text": [
      "Warning: Returning CPU platform instead of requested platform <openmm.openmm.Platform; proxy of <Swig Object of type 'OpenMM::Platform *' at 0x169191a20> >\n",
      "conducting subsequent work with the following platform: CPU\n",
      "conducting subsequent work with the following platform: CPU\n",
      "conducting subsequent work with the following platform: CPU\n",
      "[('HarmonicBondForce', 0.03455064996280121), ('HarmonicAngleForce', 0.6071369391574322), ('PeriodicTorsionForce', 3.2298482876455963), ('NonbondedForce', -39.18693169158183), ('AndersenThermostat', 0.0)]\n",
      "[('CustomBondForce', 0.03455064996280121), ('CustomAngleForce', 0.6071369391574319), ('CustomTorsionForce', 3.2298482876455954), ('CustomNonbondedForce', -134.40418350398505), ('CustomNonbondedForce', 4.716823991270119), ('CustomBondForce', 90.50042198031858), ('NonbondedForce', 0.0), ('AndersenThermostat', 0.0)]\n",
      "-39.18693169158183\n",
      "-39.18693753239634\n",
      "Energy bookkeeping was a success!\n"
     ]
    }
   ],
   "source": [
    "# Compare energy components\n",
    "context = compare_energy_components(REST_system, system, positions)\n"
   ]
  },
  {
   "cell_type": "markdown",
   "id": "063b652b",
   "metadata": {},
   "source": [
    "## Alanine dipeptide in solvent"
   ]
  },
  {
   "cell_type": "code",
   "execution_count": 30,
   "id": "e7ddc9df",
   "metadata": {},
   "outputs": [],
   "source": [
    "## CASE 2: alanine dipeptide in solvent\n",
    "# Create vanilla system\n",
    "ala = AlanineDipeptideExplicit()\n",
    "system = ala.system\n",
    "system.removeForce(4)\n",
    "# system.getForce(3).setNonbondedMethod(0)\n",
    "positions = ala.positions\n",
    "topology = ala.topology\n",
    "\n"
   ]
  },
  {
   "cell_type": "code",
   "execution_count": 31,
   "id": "475531bc",
   "metadata": {
    "scrolled": true
   },
   "outputs": [
    {
     "name": "stderr",
     "output_type": "stream",
     "text": [
      "INFO:REST:*** Generating RESTTopologyFactoryV3 ***\n",
      "INFO:REST:No unknown forces.\n",
      "INFO:REST:alpha_ewald is 3.2893431387452243\n",
      "INFO:REST:No MonteCarloBarostat added.\n",
      "INFO:REST:getDefaultPeriodicBoxVectors added to hybrid: [Quantity(value=Vec3(x=3.2852863, y=0.0, z=0.0), unit=nanometer), Quantity(value=Vec3(x=0.0, y=3.2861648000000003, z=0.0), unit=nanometer), Quantity(value=Vec3(x=0.0, y=0.0, z=3.1855098), unit=nanometer)]\n"
     ]
    }
   ],
   "source": [
    "# Create REST system\n",
    "res1 = list(ala.topology.residues())[1]\n",
    "rest_atoms = [atom.index for atom in res1.atoms()]\n",
    "factory = RESTTopologyFactoryV3(system, topology, rest_region=rest_atoms, use_dispersion_correction=True)\n",
    "REST_system = factory.REST_system\n",
    "\n"
   ]
  },
  {
   "cell_type": "code",
   "execution_count": 5,
   "id": "02e11895",
   "metadata": {
    "scrolled": false
   },
   "outputs": [
    {
     "data": {
      "text/plain": [
       "[<openmm.openmm.CustomBondForce; proxy of <Swig Object of type 'OpenMM::CustomBondForce *' at 0x10eb59720> >,\n",
       " <openmm.openmm.CustomAngleForce; proxy of <Swig Object of type 'OpenMM::CustomAngleForce *' at 0x190951e70> >,\n",
       " <openmm.openmm.CustomTorsionForce; proxy of <Swig Object of type 'OpenMM::CustomTorsionForce *' at 0x19083ccc0> >,\n",
       " <openmm.openmm.CustomNonbondedForce; proxy of <Swig Object of type 'OpenMM::CustomNonbondedForce *' at 0x10ebb63f0> >,\n",
       " <openmm.openmm.CustomNonbondedForce; proxy of <Swig Object of type 'OpenMM::CustomNonbondedForce *' at 0x10ebb6f30> >,\n",
       " <openmm.openmm.CustomBondForce; proxy of <Swig Object of type 'OpenMM::CustomBondForce *' at 0x10ebb68d0> >,\n",
       " <openmm.openmm.NonbondedForce; proxy of <Swig Object of type 'OpenMM::NonbondedForce *' at 0x10ebb6060> >]"
      ]
     },
     "execution_count": 5,
     "metadata": {},
     "output_type": "execute_result"
    }
   ],
   "source": [
    "REST_system.getForces()"
   ]
  },
  {
   "cell_type": "code",
   "execution_count": 6,
   "id": "0c667739",
   "metadata": {},
   "outputs": [
    {
     "data": {
      "text/plain": [
       "[6, 7, 8, 9, 10, 11, 12, 13, 14, 15]"
      ]
     },
     "execution_count": 6,
     "metadata": {},
     "output_type": "execute_result"
    }
   ],
   "source": [
    "rest_atoms"
   ]
  },
  {
   "cell_type": "code",
   "execution_count": 37,
   "id": "b63bf43f",
   "metadata": {},
   "outputs": [],
   "source": [
    "# system.getForce(3).setIncludeDirectSpace(False)"
   ]
  },
  {
   "cell_type": "code",
   "execution_count": 32,
   "id": "53b0b815",
   "metadata": {},
   "outputs": [],
   "source": [
    "system.getForce(3).setReciprocalSpaceForceGroup(31) # Only show direct space energy"
   ]
  },
  {
   "cell_type": "code",
   "execution_count": 33,
   "id": "88bb1489",
   "metadata": {},
   "outputs": [],
   "source": [
    "for i in range(system.getForce(3).getNumParticles()):\n",
    "    charge, sigma, epsilon = system.getForce(3).getParticleParameters(i)\n",
    "#     if i > 21:\n",
    "#         system.getForce(3).setParticleParameters(i, charge*0, sigma, epsilon*0)\n",
    "#     else:\n",
    "    system.getForce(3).setParticleParameters(i, charge, sigma, epsilon*0)\n"
   ]
  },
  {
   "cell_type": "code",
   "execution_count": 34,
   "id": "0d043f6f",
   "metadata": {},
   "outputs": [],
   "source": [
    "for i in range(system.getForce(3).getNumExceptions()):\n",
    "    p1, p2, charge, sigma, epsilon = system.getForce(3).getExceptionParameters(i)\n",
    "#     if p1 > 21 or p2 > 21:\n",
    "#         system.getForce(3).setExceptionParameters(i, p1, p2, charge*0, sigma, epsilon*0)\n",
    "#     else:\n",
    "    system.getForce(3).setExceptionParameters(i, p1, p2, charge, sigma, epsilon*0)\n",
    "    "
   ]
  },
  {
   "cell_type": "code",
   "execution_count": 8,
   "id": "feb15cc6",
   "metadata": {},
   "outputs": [],
   "source": [
    "# for i in range(REST_system.getForce(3).getNumParticles()):\n",
    "#     params = REST_system.getForce(3).getParticleParameters(i)\n",
    "# #     if i > 21:\n",
    "#     params = list(params)\n",
    "#     params[-3] = params[-3]*0\n",
    "#     params[-1] = params[-1]*0\n",
    "#     REST_system.getForce(3).setParticleParameters(i, params)\n"
   ]
  },
  {
   "cell_type": "code",
   "execution_count": 35,
   "id": "63c2246a",
   "metadata": {},
   "outputs": [],
   "source": [
    "for i in range(REST_system.getForce(5).getNumBonds()):\n",
    "    p1, p2, params = REST_system.getForce(5).getBondParameters(i)\n",
    "#     if p1 > 21 or p2 > 21:\n",
    "#         params = list(params)\n",
    "#     #     params[-3] = params[-3]*0\n",
    "#         params[-2] = params[-2]*0\n",
    "#         REST_system.getForce(5).setBondParameters(i, p1, p2, params)\n",
    "#     else:\n",
    "    params = list(params)\n",
    "#     params[-4] = params[-4]*0\n",
    "    params[-2] = params[-2]*0\n",
    "    REST_system.getForce(5).setBondParameters(i, p1, p2, params)\n"
   ]
  },
  {
   "cell_type": "code",
   "execution_count": 36,
   "id": "f604a7ee",
   "metadata": {
    "scrolled": true
   },
   "outputs": [
    {
     "name": "stdout",
     "output_type": "stream",
     "text": [
      "Warning: Returning CPU platform instead of requested platform <openmm.openmm.Platform; proxy of <Swig Object of type 'OpenMM::Platform *' at 0x169191a20> >\n",
      "conducting subsequent work with the following platform: CPU\n",
      "conducting subsequent work with the following platform: CPU\n",
      "conducting subsequent work with the following platform: CPU\n",
      "[('HarmonicBondForce', 0.03454256736202116), ('HarmonicAngleForce', 0.6071512895607732), ('PeriodicTorsionForce', 3.2298499815095068), ('NonbondedForce', 69477.3519953855), ('AndersenThermostat', 0.0)]\n",
      "[('CustomBondForce', 0.03454256736202116), ('CustomAngleForce', 0.6071512895607735), ('CustomTorsionForce', 3.2298499815095063), ('CustomNonbondedForce', -10097.515279207637), ('CustomNonbondedForce', 1203.1377794099421), ('CustomBondForce', 79574.86995277482), ('NonbondedForce', -80578.88657404146), ('AndersenThermostat', 0.0)]\n",
      "69477.3519953855\n",
      "-9898.394121064324\n"
     ]
    },
    {
     "ename": "AssertionError",
     "evalue": "The energies do not match for the NonbondedForce: 69477.3519953855 (other system) vs. -9898.394121064324 (REST system)",
     "output_type": "error",
     "traceback": [
      "\u001b[0;31m---------------------------------------------------------------------------\u001b[0m",
      "\u001b[0;31mAssertionError\u001b[0m                            Traceback (most recent call last)",
      "\u001b[0;32m/var/folders/47/gc5xdnpd54v4tkhd4lvyjxzmhxxhqn/T/ipykernel_30930/813463489.py\u001b[0m in \u001b[0;36m<module>\u001b[0;34m\u001b[0m\n\u001b[1;32m      1\u001b[0m \u001b[0;31m# Compare energy components\u001b[0m\u001b[0;34m\u001b[0m\u001b[0;34m\u001b[0m\u001b[0m\n\u001b[0;32m----> 2\u001b[0;31m \u001b[0mcontext\u001b[0m \u001b[0;34m=\u001b[0m \u001b[0mcompare_energy_components\u001b[0m\u001b[0;34m(\u001b[0m\u001b[0mREST_system\u001b[0m\u001b[0;34m,\u001b[0m \u001b[0msystem\u001b[0m\u001b[0;34m,\u001b[0m \u001b[0mpositions\u001b[0m\u001b[0;34m)\u001b[0m\u001b[0;34m\u001b[0m\u001b[0;34m\u001b[0m\u001b[0m\n\u001b[0m",
      "\u001b[0;32m/var/folders/47/gc5xdnpd54v4tkhd4lvyjxzmhxxhqn/T/ipykernel_30930/1885309598.py\u001b[0m in \u001b[0;36mcompare_energy_components\u001b[0;34m(rest_system, other_system, positions, platform)\u001b[0m\n\u001b[1;32m     39\u001b[0m     \u001b[0mprint\u001b[0m\u001b[0;34m(\u001b[0m\u001b[0mnonbonded_other\u001b[0m\u001b[0;34m)\u001b[0m\u001b[0;34m\u001b[0m\u001b[0;34m\u001b[0m\u001b[0m\n\u001b[1;32m     40\u001b[0m     \u001b[0mprint\u001b[0m\u001b[0;34m(\u001b[0m\u001b[0mnonbonded_rest\u001b[0m\u001b[0;34m)\u001b[0m\u001b[0;34m\u001b[0m\u001b[0;34m\u001b[0m\u001b[0m\n\u001b[0;32m---> 41\u001b[0;31m     \u001b[0;32massert\u001b[0m \u001b[0mnp\u001b[0m\u001b[0;34m.\u001b[0m\u001b[0misclose\u001b[0m\u001b[0;34m(\u001b[0m\u001b[0;34m[\u001b[0m\u001b[0mnonbonded_other\u001b[0m\u001b[0;34m]\u001b[0m\u001b[0;34m,\u001b[0m \u001b[0;34m[\u001b[0m\u001b[0mnonbonded_rest\u001b[0m\u001b[0;34m]\u001b[0m\u001b[0;34m)\u001b[0m\u001b[0;34m,\u001b[0m \u001b[0;34mf\"The energies do not match for the NonbondedForce: {nonbonded_other} (other system) vs. {nonbonded_rest} (REST system)\"\u001b[0m\u001b[0;34m\u001b[0m\u001b[0;34m\u001b[0m\u001b[0m\n\u001b[0m\u001b[1;32m     42\u001b[0m \u001b[0;34m\u001b[0m\u001b[0m\n\u001b[1;32m     43\u001b[0m     \u001b[0mprint\u001b[0m\u001b[0;34m(\u001b[0m\u001b[0;34m\"Energy bookkeeping was a success!\"\u001b[0m\u001b[0;34m)\u001b[0m\u001b[0;34m\u001b[0m\u001b[0;34m\u001b[0m\u001b[0m\n",
      "\u001b[0;31mAssertionError\u001b[0m: The energies do not match for the NonbondedForce: 69477.3519953855 (other system) vs. -9898.394121064324 (REST system)"
     ]
    }
   ],
   "source": [
    "# Compare energy components\n",
    "context = compare_energy_components(REST_system, system, positions)\n"
   ]
  },
  {
   "cell_type": "code",
   "execution_count": 35,
   "id": "288c45f9",
   "metadata": {
    "scrolled": true
   },
   "outputs": [
    {
     "name": "stdout",
     "output_type": "stream",
     "text": [
      "AndersenCollisionFrequency 1.0\n",
      "AndersenTemperature 300.0\n",
      "lambda_rest_angles 1.0\n",
      "lambda_rest_bonds 1.0\n",
      "lambda_rest_electrostatics 1.0\n",
      "lambda_rest_electrostatics_exceptions 1.0\n",
      "lambda_rest_sterics 1.0\n",
      "lambda_rest_sterics_exceptions 1.0\n",
      "lambda_rest_torsions 1.0\n"
     ]
    }
   ],
   "source": [
    "for k, v in context.getParameters().items():\n",
    "    print(k, v)"
   ]
  },
  {
   "cell_type": "markdown",
   "id": "b56c24f2",
   "metadata": {},
   "source": [
    "# Create two particle system"
   ]
  },
  {
   "cell_type": "code",
   "execution_count": 5,
   "id": "8c73820e",
   "metadata": {},
   "outputs": [],
   "source": [
    "from simtk.openmm import app"
   ]
  },
  {
   "cell_type": "code",
   "execution_count": 6,
   "id": "072830ef",
   "metadata": {},
   "outputs": [],
   "source": [
    "system = openmm.System()\n",
    "system.addParticle(22.99)\n",
    "system.addParticle(35.45)\n",
    "system.setDefaultPeriodicBoxVectors(openmm.Vec3(9, 0, 0), openmm.Vec3(0, 9, 0), openmm.Vec3(0, 0, 9))\n",
    "\n",
    "system.addForce(openmm.HarmonicBondForce())\n",
    "system.addForce(openmm.HarmonicAngleForce())\n",
    "system.addForce(openmm.PeriodicTorsionForce())\n",
    "\n",
    "nb_force = openmm.NonbondedForce()\n",
    "system.addForce(nb_force)\n",
    "nb_force.setNonbondedMethod(openmm.NonbondedForce.PME)\n",
    "nb_force.setCutoffDistance(0.3 * unit.nanometer)\n",
    "nb_force.addParticle(1.0, 0.24, 0.37)\n",
    "nb_force.addParticle(-1.0, 0.45, 0.15)\n",
    "positions = [openmm.Vec3(0.1, 0, 0), openmm.Vec3(0.3, 0, 0)]"
   ]
  },
  {
   "cell_type": "code",
   "execution_count": 7,
   "id": "159f4ea8",
   "metadata": {},
   "outputs": [],
   "source": [
    "# Create new topology\n",
    "topology = app.Topology()\n",
    "\n",
    "# Copy residues and atoms to new topology for chains_to_keep\n",
    "chain = topology.addChain(id='A')\n",
    "res = topology.addResidue('NA', chain, id='1')\n",
    "atom = topology.addAtom('Na', openmm.app.element.sodium, res)\n",
    "res = topology.addResidue('CL', chain, id='1')\n",
    "atom = topology.addAtom('Cl', openmm.app.element.chlorine, res)"
   ]
  },
  {
   "cell_type": "code",
   "execution_count": 8,
   "id": "3434d890",
   "metadata": {
    "scrolled": true
   },
   "outputs": [
    {
     "name": "stderr",
     "output_type": "stream",
     "text": [
      "INFO:REST:*** Generating RESTTopologyFactoryV3 ***\n",
      "INFO:REST:No unknown forces.\n",
      "INFO:REST:alpha_ewald is 8.760869616261553\n",
      "INFO:REST:No MonteCarloBarostat added.\n",
      "INFO:REST:getDefaultPeriodicBoxVectors added to hybrid: [Quantity(value=Vec3(x=9.0, y=0.0, z=0.0), unit=nanometer), Quantity(value=Vec3(x=0.0, y=9.0, z=0.0), unit=nanometer), Quantity(value=Vec3(x=0.0, y=0.0, z=9.0), unit=nanometer)]\n"
     ]
    }
   ],
   "source": [
    "# Create REST system\n",
    "factory = RESTTopologyFactoryV3(system, topology, rest_region=[0], use_dispersion_correction=True)\n",
    "REST_system = factory.REST_system\n",
    "\n"
   ]
  },
  {
   "cell_type": "code",
   "execution_count": 9,
   "id": "78ee13c8",
   "metadata": {
    "scrolled": true
   },
   "outputs": [
    {
     "name": "stdout",
     "output_type": "stream",
     "text": [
      "Warning: Returning CPU platform instead of requested platform <openmm.openmm.Platform; proxy of <Swig Object of type 'OpenMM::Platform *' at 0x10e7b4900> >\n",
      "conducting subsequent work with the following platform: CPU\n",
      "conducting subsequent work with the following platform: CPU\n",
      "conducting subsequent work with the following platform: CPU\n",
      "[('HarmonicBondForce', 0.0), ('HarmonicAngleForce', 0.0), ('PeriodicTorsionForce', 0.0), ('NonbondedForce', -26.206667676031483), ('AndersenThermostat', 0.0)]\n",
      "[('CustomBondForce', 0.0), ('CustomAngleForce', 0.0), ('CustomTorsionForce', 0.0), ('CustomNonbondedForce', -3.680127136351365), ('CustomNonbondedForce', 252.29961791797672), ('CustomBondForce', 0.0), ('NonbondedForce', -274.8260823793764), ('AndersenThermostat', 0.0)]\n",
      "-26.206667676031483\n",
      "-26.206591597751014\n",
      "Energy bookkeeping was a success!\n"
     ]
    }
   ],
   "source": [
    "context = compare_energy_components(REST_system, system, positions)\n"
   ]
  },
  {
   "cell_type": "code",
   "execution_count": null,
   "id": "163abd12",
   "metadata": {},
   "outputs": [],
   "source": []
  },
  {
   "cell_type": "markdown",
   "id": "1e4cc6bf",
   "metadata": {},
   "source": [
    "# Create three particle system"
   ]
  },
  {
   "cell_type": "code",
   "execution_count": 3,
   "id": "110e0434",
   "metadata": {},
   "outputs": [],
   "source": [
    "from simtk.openmm import app"
   ]
  },
  {
   "cell_type": "code",
   "execution_count": 4,
   "id": "bb901257",
   "metadata": {},
   "outputs": [],
   "source": [
    "system = openmm.System()\n",
    "system.addParticle(22.99)\n",
    "system.addParticle(35.45)\n",
    "system.addParticle(35.45)\n",
    "system.setDefaultPeriodicBoxVectors(openmm.Vec3(1, 0, 0), openmm.Vec3(0, 1, 0), openmm.Vec3(0, 0, 1))\n",
    "\n",
    "system.addForce(openmm.HarmonicBondForce())\n",
    "system.addForce(openmm.HarmonicAngleForce())\n",
    "system.addForce(openmm.PeriodicTorsionForce())\n",
    "\n",
    "nb_force = openmm.NonbondedForce()\n",
    "system.addForce(nb_force)\n",
    "nb_force.setNonbondedMethod(openmm.NonbondedForce.PME)\n",
    "nb_force.setCutoffDistance(0.3 * unit.nanometer)\n",
    "nb_force.addParticle(1.0, 0.24, 0.37)\n",
    "nb_force.addParticle(-0.5, 0.45, 0.15)\n",
    "nb_force.addParticle(-0.5, 0.45, 0.15)\n",
    "nb_force.addException(1, 2, 0.5, (0.45+0.45)/2, np.sqrt(0.15*0.15))\n",
    "\n",
    "positions = [openmm.Vec3(0.3, 0, 0), openmm.Vec3(0.1, 0, 0), openmm.Vec3(0.5, 0, 0)]"
   ]
  },
  {
   "cell_type": "code",
   "execution_count": 5,
   "id": "fbfc5227",
   "metadata": {},
   "outputs": [],
   "source": [
    "# Create new topology\n",
    "topology = app.Topology()\n",
    "\n",
    "# Copy residues and atoms to new topology for chains_to_keep\n",
    "chain = topology.addChain(id='A')\n",
    "res = topology.addResidue('NA', chain, id='1')\n",
    "atom = topology.addAtom('Na', openmm.app.element.sodium, res)\n",
    "res = topology.addResidue('CL', chain, id='2')\n",
    "atom = topology.addAtom('Cl', openmm.app.element.chlorine, res)\n",
    "res = topology.addResidue('CL', chain, id='3')\n",
    "atom = topology.addAtom('Cl', openmm.app.element.chlorine, res)"
   ]
  },
  {
   "cell_type": "code",
   "execution_count": 6,
   "id": "424c096b",
   "metadata": {
    "scrolled": true
   },
   "outputs": [
    {
     "name": "stderr",
     "output_type": "stream",
     "text": [
      "INFO:REST:*** Generating RESTTopologyFactoryV3 ***\n",
      "INFO:REST:No unknown forces.\n",
      "INFO:REST:alpha_ewald is 8.760869616261553\n",
      "INFO:REST:No MonteCarloBarostat added.\n",
      "INFO:REST:getDefaultPeriodicBoxVectors added to hybrid: [Quantity(value=Vec3(x=1.0, y=0.0, z=0.0), unit=nanometer), Quantity(value=Vec3(x=0.0, y=1.0, z=0.0), unit=nanometer), Quantity(value=Vec3(x=0.0, y=0.0, z=1.0), unit=nanometer)]\n"
     ]
    }
   ],
   "source": [
    "# Create REST system\n",
    "factory = RESTTopologyFactoryV3(system, topology, rest_region=[0], use_dispersion_correction=True)\n",
    "REST_system = factory.REST_system\n",
    "\n"
   ]
  },
  {
   "cell_type": "code",
   "execution_count": 7,
   "id": "529c8f06",
   "metadata": {
    "scrolled": true
   },
   "outputs": [
    {
     "name": "stdout",
     "output_type": "stream",
     "text": [
      "Warning: Returning CPU platform instead of requested platform <openmm.openmm.Platform; proxy of <Swig Object of type 'OpenMM::Platform *' at 0x1861ce9c0> >\n",
      "conducting subsequent work with the following platform: CPU\n",
      "conducting subsequent work with the following platform: CPU\n",
      "conducting subsequent work with the following platform: CPU\n",
      "[('HarmonicBondForce', 0.0), ('HarmonicAngleForce', 0.0), ('PeriodicTorsionForce', 0.0), ('NonbondedForce', 299.02125594493225), ('AndersenThermostat', 0.0)]\n",
      "[('CustomBondForce', 0.0), ('CustomAngleForce', 0.0), ('CustomTorsionForce', 0.0), ('CustomNonbondedForce', -3.680129314760381), ('CustomNonbondedForce', 506.5022689500185), ('CustomBondForce', 35.31368190765442), ('NonbondedForce', -239.11428519209545), ('AndersenThermostat', 0.0)]\n",
      "299.02125594493225\n",
      "299.02153635081703\n",
      "Energy bookkeeping was a success!\n"
     ]
    }
   ],
   "source": [
    "context = compare_energy_components(REST_system, system, positions)\n"
   ]
  },
  {
   "cell_type": "code",
   "execution_count": null,
   "id": "34425988",
   "metadata": {},
   "outputs": [],
   "source": []
  },
  {
   "cell_type": "markdown",
   "id": "2c519ba6",
   "metadata": {},
   "source": [
    "# Run all tests"
   ]
  },
  {
   "cell_type": "code",
   "execution_count": 7,
   "id": "c7014abe",
   "metadata": {},
   "outputs": [],
   "source": [
    "def test_bookkeeping():\n",
    "    \"\"\"\n",
    "    Given the default Global variables, do energy component bookkeeping with the REST system and the original system.\n",
    "    Specifically, the first CustomBondForce must match the HarmonicBondForce\n",
    "    (same with the second and third forces with the HarmonicAngle and PeriodicTorsionForces).\n",
    "    The sum of the NonbondedForce, the CustomNonbondedForce, and the CustomBondForce (last one) must be equal to the\n",
    "    energy of the original system's NonbondedForce.\n",
    "    \"\"\"\n",
    "\n",
    "    ## CASE 1: alanine dipeptide in vacuum\n",
    "    # Create vanilla system\n",
    "    ala = AlanineDipeptideVacuum()\n",
    "    system = ala.system\n",
    "    positions = ala.positions\n",
    "    topology = ala.topology\n",
    "\n",
    "    # Create REST system\n",
    "    system.removeForce(4)\n",
    "    res1 = list(ala.topology.residues())[1]\n",
    "    rest_atoms = [atom.index for atom in res1.atoms()]\n",
    "    factory = RESTTopologyFactoryV3(system, topology, rest_region=rest_atoms)\n",
    "    REST_system = factory.REST_system\n",
    "\n",
    "    # Compare energy components\n",
    "    compare_energy_components(REST_system, system, positions)\n",
    "\n",
    "    ## CASE 2: alanine dipeptide in solvent\n",
    "    # Create vanilla system\n",
    "    ala = AlanineDipeptideExplicit()\n",
    "    system = ala.system\n",
    "    positions = ala.positions\n",
    "    topology = ala.topology\n",
    "\n",
    "    # Create REST system\n",
    "    system.removeForce(4)\n",
    "    res1 = list(ala.topology.residues())[1]\n",
    "    rest_atoms = [atom.index for atom in res1.atoms()]\n",
    "    factory = RESTTopologyFactoryV3(system, topology, rest_region=rest_atoms, use_dispersion_correction=True)\n",
    "    REST_system = factory.REST_system\n",
    "\n",
    "    # Compare energy components\n",
    "    compare_energy_components(REST_system, system, positions)\n",
    "\n",
    "    ## CASE 3: alanine dipeptide in solvent with repartitioned hybrid system\n",
    "    # Create repartitioned hybrid system for lambda 0 endstate\n",
    "    atp, system_generator = generate_atp(phase='solvent')\n",
    "    htf = generate_dipeptide_top_pos_sys(atp.topology,\n",
    "                                         new_res='THR',\n",
    "                                         system=atp.system,\n",
    "                                         positions=atp.positions,\n",
    "                                         system_generator=system_generator,\n",
    "                                         conduct_htf_prop=True,\n",
    "                                         repartitioned=True,\n",
    "                                         endstate=0,\n",
    "                                         validate_endstate_energy=False)\n",
    "    \n",
    "    # Create REST-ified hybrid system\n",
    "    res1 = list(htf.hybrid_topology.residues)[1]\n",
    "    rest_atoms = [atom.index for atom in list(res1.atoms)]\n",
    "    factory = RESTTopologyFactoryV3(htf.hybrid_system, htf.hybrid_topology, rest_region=rest_atoms, use_dispersion_correction=True)\n",
    "    REST_system = factory.REST_system\n",
    "\n",
    "    # Compare energy components\n",
    "    compare_energy_components(REST_system, htf.hybrid_system, htf.hybrid_positions)\n"
   ]
  },
  {
   "cell_type": "code",
   "execution_count": 8,
   "id": "0c72bdff",
   "metadata": {},
   "outputs": [
    {
     "name": "stderr",
     "output_type": "stream",
     "text": [
      "INFO:REST:*** Generating RESTTopologyFactoryV3 ***\n",
      "INFO:REST:No unknown forces.\n",
      "INFO:REST:alpha_ewald is 0\n",
      "INFO:REST:No MonteCarloBarostat added.\n",
      "INFO:REST:getDefaultPeriodicBoxVectors added to hybrid: [Quantity(value=Vec3(x=2.0, y=0.0, z=0.0), unit=nanometer), Quantity(value=Vec3(x=0.0, y=2.0, z=0.0), unit=nanometer), Quantity(value=Vec3(x=0.0, y=0.0, z=2.0), unit=nanometer)]\n",
      "INFO:REST:*** Generating RESTTopologyFactoryV3 ***\n",
      "INFO:REST:No unknown forces.\n",
      "INFO:REST:alpha_ewald is 3.2893431387452243\n",
      "INFO:REST:No MonteCarloBarostat added.\n",
      "INFO:REST:getDefaultPeriodicBoxVectors added to hybrid: [Quantity(value=Vec3(x=3.2852863, y=0.0, z=0.0), unit=nanometer), Quantity(value=Vec3(x=0.0, y=3.2861648000000003, z=0.0), unit=nanometer), Quantity(value=Vec3(x=0.0, y=0.0, z=3.1855098), unit=nanometer)]\n"
     ]
    },
    {
     "name": "stdout",
     "output_type": "stream",
     "text": [
      "Warning: Returning CPU platform instead of requested platform <openmm.openmm.Platform; proxy of <Swig Object of type 'OpenMM::Platform *' at 0x169191a20> >\n",
      "conducting subsequent work with the following platform: CPU\n",
      "conducting subsequent work with the following platform: CPU\n",
      "conducting subsequent work with the following platform: CPU\n",
      "[('HarmonicBondForce', 0.03455064996280121), ('HarmonicAngleForce', 0.6071369391574322), ('PeriodicTorsionForce', 3.2298482876455963), ('NonbondedForce', -39.18693169158183), ('AndersenThermostat', 0.0)]\n",
      "[('CustomBondForce', 0.03455064996280121), ('CustomAngleForce', 0.6071369391574319), ('CustomTorsionForce', 3.2298482876455954), ('CustomNonbondedForce', -134.40418350398502), ('CustomNonbondedForce', 4.716823991270118), ('CustomBondForce', 90.50042198031858), ('NonbondedForce', 0.0), ('AndersenThermostat', 0.0)]\n",
      "-39.18693169158183\n",
      "-39.18693753239634\n",
      "Energy bookkeeping was a success!\n",
      "Warning: Returning CPU platform instead of requested platform <openmm.openmm.Platform; proxy of <Swig Object of type 'OpenMM::Platform *' at 0x169191a20> >\n",
      "conducting subsequent work with the following platform: CPU\n",
      "conducting subsequent work with the following platform: CPU\n",
      "conducting subsequent work with the following platform: CPU\n",
      "[('HarmonicBondForce', 0.03454256736202116), ('HarmonicAngleForce', 0.6071512895607732), ('PeriodicTorsionForce', 3.2298499815095068), ('NonbondedForce', -9889.983001429402), ('AndersenThermostat', 0.0)]\n",
      "[('CustomBondForce', 0.03454256736202116), ('CustomAngleForce', 0.6071512895607735), ('CustomTorsionForce', 3.2298499815095063), ('CustomNonbondedForce', -10097.51527920772), ('CustomNonbondedForce', 1203.1377794099426), ('CustomBondForce', 79583.28326164736), ('NonbondedForce', -80578.88657404146), ('AndersenThermostat', 0.0)]\n",
      "-9889.983001429402\n",
      "-9889.980812191876\n",
      "Energy bookkeeping was a success!\n",
      "generate atp system\n"
     ]
    },
    {
     "name": "stderr",
     "output_type": "stream",
     "text": [
      "DEBUG:openmmforcefields.system_generators:Trying GAFFTemplateGenerator to load gaff-2.11\n",
      "INFO:proposal_generator:\tConducting polymer point mutation proposal...\n",
      "WARNING:atom_mapping:Molecules do not appear to share a common scaffold.\n",
      "WARNING:atom_mapping:Proceeding with direct mapping of molecules, but please check atom mapping and the geometry of the ligands.\n",
      "INFO:proposal_generator:[Atom(name=CB, atomic number=6), Atom(name=HB1, atomic number=1), Atom(name=HB2, atomic number=1), Atom(name=HB3, atomic number=1)]\n",
      "INFO:proposal_generator:[Atom(name=CB, atomic number=6), Atom(name=CG2, atomic number=6), Atom(name=OG1, atomic number=8), Atom(name=HB, atomic number=1), Atom(name=HG1, atomic number=1), Atom(name=HG21, atomic number=1), Atom(name=HG22, atomic number=1), Atom(name=HG23, atomic number=1)]\n"
     ]
    },
    {
     "name": "stdout",
     "output_type": "stream",
     "text": [
      "generating htf\n",
      "making topology proposal\n"
     ]
    },
    {
     "name": "stderr",
     "output_type": "stream",
     "text": [
      "INFO:geometry:propose: performing forward proposal\n",
      "INFO:geometry:propose: unique new atoms detected; proceeding to _logp_propose...\n",
      "INFO:geometry:Conducting forward proposal...\n",
      "INFO:geometry:Computing proposal order with NetworkX...\n",
      "INFO:geometry:number of atoms to be placed: 8\n",
      "INFO:geometry:Atom index proposal order is [10, 14, 18, 13, 17, 16, 19, 15]\n",
      "INFO:geometry:omitted_bonds: []\n",
      "INFO:geometry:direction of proposal is forward; creating atoms_with_positions and new positions from old system/topology...\n",
      "INFO:geometry:creating growth system...\n",
      "INFO:geometry:\tcreating bond force...\n",
      "INFO:geometry:\tthere are 11 bonds in reference force.\n",
      "INFO:geometry:\tcreating angle force...\n",
      "INFO:geometry:\tthere are 43 angles in reference force.\n",
      "INFO:geometry:\tcreating torsion force...\n",
      "INFO:geometry:\tcreating extra torsions force...\n",
      "INFO:geometry:\tthere are 72 torsions in reference force.\n",
      "INFO:geometry:\tcreating nonbonded force...\n",
      "INFO:geometry:\t\tgrabbing reference nonbonded method, cutoff, switching function, switching distance...\n",
      "INFO:geometry:\t\tcreating nonbonded exception force (i.e. custom bond for 1,4s)...\n",
      "INFO:geometry:\t\tlooping through exceptions calculating growth indices, and adding appropriate interactions to custom bond force.\n",
      "INFO:geometry:\t\tthere are 1654 in the reference Nonbonded force\n",
      "WARNING:geometry:\t\t\t\t\tchiral atom <Atom 8 (CA) of chain 0 residue 1 (THR)> with neighbors [<Atom 9 (HA) of chain 0 residue 1 (THR)>, <Atom 10 (CB) of chain 0 residue 1 (THR)>, <Atom 11 (C) of chain 0 residue 1 (THR)>, <Atom 6 (N) of chain 0 residue 1 (THR)>] is surrounded by 3 core neighbors.  omitting chirality bias torsion\n",
      "INFO:geometry:Neglected angle terms : []\n",
      "INFO:geometry:omitted_growth_terms: {'bonds': [], 'angles': [], 'torsions': [], '1,4s': []}\n",
      "INFO:geometry:extra torsions: {0: (7, 6, 8, 10, [1, Quantity(value=0.9900002084555819, unit=radian), Quantity(value=1200.0, unit=kilocalorie/mole), 1]), 1: (19, 18, 10, 8, [1, Quantity(value=-0.07858019216845058, unit=radian), Quantity(value=1200.0, unit=kilocalorie/mole), 7]), 2: (19, 18, 10, 14, [1, Quantity(value=2.118586571250296, unit=radian), Quantity(value=1200.0, unit=kilocalorie/mole), 7]), 3: (19, 18, 10, 13, [1, Quantity(value=-2.149781203448759, unit=radian), Quantity(value=1200.0, unit=kilocalorie/mole), 7]), 4: (8, 10, 14, 17, [1, Quantity(value=-2.1249532223845904, unit=radian), Quantity(value=1200.0, unit=kilocalorie/mole), 5]), 5: (8, 10, 14, 16, [1, Quantity(value=2.0543043017157916, unit=radian), Quantity(value=1200.0, unit=kilocalorie/mole), 6]), 6: (8, 10, 14, 15, [1, Quantity(value=-0.02223392579985184, unit=radian), Quantity(value=1200.0, unit=kilocalorie/mole), 8]), 7: (18, 10, 14, 17, [1, Quantity(value=2.0255587336734213, unit=radian), Quantity(value=1200.0, unit=kilocalorie/mole), 5]), 8: (18, 10, 14, 16, [1, Quantity(value=-0.07836904940578471, unit=radian), Quantity(value=1200.0, unit=kilocalorie/mole), 6]), 9: (18, 10, 14, 15, [1, Quantity(value=-2.154907276921426, unit=radian), Quantity(value=1200.0, unit=kilocalorie/mole), 8]), 10: (13, 10, 14, 17, [1, Quantity(value=0.007583009583349565, unit=radian), Quantity(value=1200.0, unit=kilocalorie/mole), 5]), 11: (13, 10, 14, 16, [1, Quantity(value=-2.096344773495849, unit=radian), Quantity(value=1200.0, unit=kilocalorie/mole), 6]), 12: (13, 10, 14, 15, [1, Quantity(value=2.1103023061680943, unit=radian), Quantity(value=1200.0, unit=kilocalorie/mole), 8]), 13: (14, 10, 8, 18, [1, Quantity(value=1.0655064807976995, unit=radian), Quantity(value=1200.0, unit=kilocalorie/mole), 3])}\n",
      "INFO:geometry:neglected angle terms include []\n",
      "INFO:geometry:log probability choice of torsions and atom order: -13.553917196274867\n",
      "INFO:geometry:creating platform, integrators, and contexts; setting growth parameter\n",
      "INFO:geometry:setting atoms_with_positions context new positions\n"
     ]
    },
    {
     "name": "stdout",
     "output_type": "stream",
     "text": [
      "generating geometry engine\n",
      "making geometry proposal from ALA to THR\n",
      "Warning: Returning Reference platform instead of requested platform CUDA\n",
      "conducting subsequent work with the following platform: Reference\n",
      "conducting subsequent work with the following platform: CPU\n"
     ]
    },
    {
     "name": "stderr",
     "output_type": "stream",
     "text": [
      "INFO:geometry:There are 8 new atoms\n",
      "INFO:geometry:\treduced angle potential = 2.7898030531532845.\n",
      "INFO:geometry:\treduced angle potential = 0.06426140311818003.\n",
      "INFO:geometry:\treduced angle potential = 0.16247033361268587.\n",
      "INFO:geometry:\treduced angle potential = 0.17380926116349468.\n",
      "INFO:geometry:\treduced angle potential = 0.2536350683952245.\n",
      "INFO:geometry:\treduced angle potential = 0.08070571632292275.\n",
      "INFO:geometry:\treduced angle potential = 0.11385306012308803.\n",
      "INFO:geometry:\treduced angle potential = 3.59116077177379.\n",
      "INFO:geometry:\tbeginning construction of no_nonbonded final system...\n",
      "INFO:geometry:\tinitial no-nonbonded final system forces ['HarmonicBondForce', 'HarmonicAngleForce', 'PeriodicTorsionForce', 'NonbondedForce', 'MonteCarloBarostat']\n",
      "INFO:geometry:\tfinal no-nonbonded final system forces dict_keys(['HarmonicBondForce', 'HarmonicAngleForce', 'PeriodicTorsionForce', 'NonbondedForce'])\n",
      "INFO:geometry:\tthere are 11 bond forces in the no-nonbonded final system\n",
      "INFO:geometry:\tthere are 43 angle forces in the no-nonbonded final system\n",
      "INFO:geometry:\tthere are 72 torsion forces in the no-nonbonded final system\n",
      "INFO:geometry:forward final system defined with 0 neglected angles.\n",
      "INFO:geometry:total reduced potential before atom placement: 9.116481158706167\n",
      "INFO:geometry:total reduced energy added from growth system: -23.954299447894577\n",
      "INFO:geometry:final reduced energy -14.8378190981769\n",
      "INFO:geometry:sum of energies: -14.83781828918841\n",
      "INFO:geometry:magnitude of difference in the energies: 8.089884886430809e-07\n",
      "INFO:geometry:Final logp_proposal: 56.85015364312968\n",
      "INFO:geometry:logp_reverse: performing reverse proposal\n",
      "INFO:geometry:logp_reverse: unique new atoms detected; proceeding to _logp_propose...\n",
      "INFO:geometry:Conducting forward proposal...\n",
      "INFO:geometry:Computing proposal order with NetworkX...\n",
      "INFO:geometry:number of atoms to be placed: 4\n",
      "INFO:geometry:Atom index proposal order is [10, 12, 11, 13]\n",
      "INFO:geometry:omitted_bonds: []\n",
      "INFO:geometry:direction of proposal is reverse; creating atoms_with_positions from old system/topology\n",
      "INFO:geometry:creating growth system...\n",
      "INFO:geometry:\tcreating bond force...\n",
      "INFO:geometry:\tthere are 9 bonds in reference force.\n",
      "INFO:geometry:\tcreating angle force...\n",
      "INFO:geometry:\tthere are 36 angles in reference force.\n",
      "INFO:geometry:\tcreating torsion force...\n",
      "INFO:geometry:\tcreating extra torsions force...\n",
      "INFO:geometry:\tthere are 42 torsions in reference force.\n",
      "INFO:geometry:\tcreating nonbonded force...\n",
      "INFO:geometry:\t\tgrabbing reference nonbonded method, cutoff, switching function, switching distance...\n",
      "INFO:geometry:\t\tcreating nonbonded exception force (i.e. custom bond for 1,4s)...\n",
      "INFO:geometry:\t\tlooping through exceptions calculating growth indices, and adding appropriate interactions to custom bond force.\n",
      "INFO:geometry:\t\tthere are 1631 in the reference Nonbonded force\n",
      "WARNING:geometry:\t\t\t\t\tchiral atom <Atom 8 (CA) of chain 0 residue 1 (ALA)> with neighbors [<Atom 9 (HA) of chain 0 residue 1 (ALA)>, <Atom 10 (CB) of chain 0 residue 1 (ALA)>, <Atom 14 (C) of chain 0 residue 1 (ALA)>, <Atom 6 (N) of chain 0 residue 1 (ALA)>] is surrounded by 3 core neighbors.  omitting chirality bias torsion\n",
      "INFO:geometry:Neglected angle terms : []\n",
      "INFO:geometry:omitted_growth_terms: {'bonds': [], 'angles': [], 'torsions': [], '1,4s': []}\n",
      "INFO:geometry:extra torsions: {0: (7, 6, 8, 10, [1, Quantity(value=0.9799661941737812, unit=radian), Quantity(value=1200.0, unit=kilocalorie/mole), 1]), 1: (6, 8, 10, 11, [1, Quantity(value=2.105358864604291, unit=radian), Quantity(value=1200.0, unit=kilocalorie/mole), 3]), 2: (6, 8, 10, 12, [1, Quantity(value=-2.0823006129211796, unit=radian), Quantity(value=1200.0, unit=kilocalorie/mole), 2]), 3: (6, 8, 10, 13, [1, Quantity(value=0.018582237407938962, unit=radian), Quantity(value=1200.0, unit=kilocalorie/mole), 4]), 4: (14, 8, 10, 11, [1, Quantity(value=-0.036945135932107576, unit=radian), Quantity(value=1200.0, unit=kilocalorie/mole), 3]), 5: (14, 8, 10, 12, [1, Quantity(value=2.0585806937220097, unit=radian), Quantity(value=1200.0, unit=kilocalorie/mole), 2]), 6: (14, 8, 10, 13, [1, Quantity(value=-2.1237217631284597, unit=radian), Quantity(value=1200.0, unit=kilocalorie/mole), 4]), 7: (9, 8, 10, 11, [1, Quantity(value=-2.119603470065817, unit=radian), Quantity(value=1200.0, unit=kilocalorie/mole), 3]), 8: (9, 8, 10, 12, [1, Quantity(value=-0.024077640411697132, unit=radian), Quantity(value=1200.0, unit=kilocalorie/mole), 2]), 9: (9, 8, 10, 13, [1, Quantity(value=2.0768052099174152, unit=radian), Quantity(value=1200.0, unit=kilocalorie/mole), 4])}\n",
      "INFO:geometry:neglected angle terms include []\n",
      "INFO:geometry:log probability choice of torsions and atom order: -5.78074351579233\n",
      "INFO:geometry:creating platform, integrators, and contexts; setting growth parameter\n",
      "INFO:geometry:setting atoms_with_positions context old positions\n",
      "INFO:geometry:There are 4 new atoms\n",
      "INFO:geometry:\treduced angle potential = 0.08012165173241892.\n"
     ]
    },
    {
     "name": "stdout",
     "output_type": "stream",
     "text": [
      "conducting subsequent work with the following platform: CPU\n",
      "conducting subsequent work with the following platform: CPU\n",
      "conducting subsequent work with the following platform: CPU\n",
      "Warning: Returning Reference platform instead of requested platform CUDA\n",
      "conducting subsequent work with the following platform: Reference\n",
      "conducting subsequent work with the following platform: CPU\n",
      "added energy components: [('CustomBondForce', 1.0558269152414181), ('CustomAngleForce', 15.749061874823555), ('CustomTorsionForce', 19.193719397769534), ('CustomBondForce', -59.95290763572909)]\n",
      "Warning: Returning Reference platform instead of requested platform CUDA\n",
      "conducting subsequent work with the following platform: Reference\n",
      "conducting subsequent work with the following platform: CPU\n"
     ]
    },
    {
     "name": "stderr",
     "output_type": "stream",
     "text": [
      "INFO:geometry:\treduced angle potential = 3.2058324695160406e-13.\n",
      "INFO:geometry:\treduced angle potential = 1.2915588460963948e-10.\n",
      "INFO:geometry:\treduced angle potential = 7.39096069988752e-11.\n",
      "INFO:geometry:\tbeginning construction of no_nonbonded final system...\n",
      "INFO:geometry:\tinitial no-nonbonded final system forces ['HarmonicBondForce', 'HarmonicAngleForce', 'PeriodicTorsionForce', 'NonbondedForce', 'MonteCarloBarostat']\n",
      "INFO:geometry:\tfinal no-nonbonded final system forces dict_keys(['HarmonicBondForce', 'HarmonicAngleForce', 'PeriodicTorsionForce', 'NonbondedForce'])\n",
      "INFO:geometry:\tthere are 9 bond forces in the no-nonbonded final system\n",
      "INFO:geometry:\tthere are 36 angle forces in the no-nonbonded final system\n",
      "INFO:geometry:\tthere are 42 torsion forces in the no-nonbonded final system\n",
      "INFO:geometry:reverse final system defined with 0 neglected angles.\n",
      "INFO:geometry:total reduced potential before atom placement: 9.116481158706167\n",
      "INFO:geometry:total reduced energy added from growth system: 20.672983464583528\n",
      "INFO:geometry:final reduced energy 29.78946474281633\n",
      "INFO:geometry:sum of energies: 29.789464623289696\n",
      "INFO:geometry:magnitude of difference in the energies: 1.195266357001401e-07\n",
      "INFO:geometry:Final logp_proposal: -27062.287876835544\n",
      "INFO:relative:*** Generating RepartitionedHybridTopologyFactory ***\n",
      "INFO:relative:Old system forces: dict_keys(['HarmonicBondForce', 'HarmonicAngleForce', 'PeriodicTorsionForce', 'NonbondedForce', 'MonteCarloBarostat'])\n",
      "INFO:relative:New system forces: dict_keys(['HarmonicBondForce', 'HarmonicAngleForce', 'PeriodicTorsionForce', 'NonbondedForce', 'MonteCarloBarostat'])\n",
      "INFO:relative:No unknown forces.\n",
      "INFO:relative:Nonbonded method to be used (i.e. from old system): 4\n",
      "INFO:relative:Adding and mapping old atoms to hybrid system...\n",
      "INFO:relative:Adding and mapping new atoms to hybrid system...\n",
      "INFO:relative:Added MonteCarloBarostat.\n",
      "INFO:relative:getDefaultPeriodicBoxVectors added to hybrid: [Quantity(value=Vec3(x=2.56477354, y=0.0, z=0.0), unit=nanometer), Quantity(value=Vec3(x=0.0, y=2.56477354, z=0.0), unit=nanometer), Quantity(value=Vec3(x=0.0, y=0.0, z=2.56477354), unit=nanometer)]\n",
      "INFO:relative:Determined atom classes.\n",
      "INFO:relative:Generating old system exceptions dict...\n",
      "INFO:relative:Generating new system exceptions dict...\n",
      "INFO:relative:Handling constraints...\n",
      "INFO:relative:Handling virtual sites...\n",
      "INFO:relative:\t_handle_virtual_sites: numVirtualSites: 0\n",
      "INFO:relative:\t_add_nonbonded_force_terms: <openmm.openmm.NonbondedForce; proxy of <Swig Object of type 'OpenMM::NonbondedForce *' at 0x192261cf0> > added to hybrid system\n",
      "INFO:relative:\t_add_nonbonded_force_terms: nonbonded_method is PME or Ewald\n",
      "INFO:relative:\t_add_nonbonded_force_terms: 4 added to standard nonbonded force\n",
      "INFO:relative:\t_add_nonbonded_force_terms: 2 added to sterics_custom_nonbonded force\n"
     ]
    },
    {
     "name": "stdout",
     "output_type": "stream",
     "text": [
      "conducting subsequent work with the following platform: CPU\n",
      "conducting subsequent work with the following platform: CPU\n",
      "conducting subsequent work with the following platform: CPU\n",
      "Warning: Returning Reference platform instead of requested platform CUDA\n",
      "conducting subsequent work with the following platform: Reference\n",
      "conducting subsequent work with the following platform: CPU\n",
      "added energy components: [('CustomBondForce', 0.0005201491202417058), ('CustomAngleForce', 0.4511199297896573), ('CustomTorsionForce', 7.25046198458677), ('CustomBondForce', 12.970881401086856)]\n"
     ]
    },
    {
     "name": "stderr",
     "output_type": "stream",
     "text": [
      "INFO:REST:*** Generating RESTTopologyFactoryV3 ***\n",
      "INFO:REST:No unknown forces.\n",
      "INFO:REST:alpha_ewald is 2.918423065872431\n",
      "INFO:REST:Added MonteCarloBarostat.\n",
      "INFO:REST:getDefaultPeriodicBoxVectors added to hybrid: [Quantity(value=Vec3(x=2.56477354, y=0.0, z=0.0), unit=nanometer), Quantity(value=Vec3(x=0.0, y=2.56477354, z=0.0), unit=nanometer), Quantity(value=Vec3(x=0.0, y=0.0, z=2.56477354), unit=nanometer)]\n"
     ]
    },
    {
     "name": "stdout",
     "output_type": "stream",
     "text": [
      "generating rest system\n",
      "Warning: Returning CPU platform instead of requested platform <openmm.openmm.Platform; proxy of <Swig Object of type 'OpenMM::Platform *' at 0x169191a20> >\n",
      "conducting subsequent work with the following platform: CPU\n",
      "conducting subsequent work with the following platform: CPU\n",
      "conducting subsequent work with the following platform: CPU\n",
      "[('HarmonicBondForce', 1.0903955094574882), ('HarmonicAngleForce', 16.356284407942475), ('PeriodicTorsionForce', 35.37057219695222), ('NonbondedForce', -998.326288790699), ('AndersenThermostat', 0.0), ('MonteCarloBarostat', 0.0)]\n",
      "[('CustomBondForce', 1.0903955094574882), ('CustomAngleForce', 16.35628440794247), ('CustomTorsionForce', 35.37057219695221), ('CustomNonbondedForce', -7418.759680689047), ('CustomNonbondedForce', 7032.4635409539505), ('CustomBondForce', 48354.465585379934), ('NonbondedForce', -48966.49698156664), ('AndersenThermostat', 0.0), ('MonteCarloBarostat', 0.0)]\n",
      "-998.326288790699\n",
      "-998.3275359218023\n",
      "Energy bookkeeping was a success!\n"
     ]
    }
   ],
   "source": [
    "test_bookkeeping()"
   ]
  },
  {
   "cell_type": "markdown",
   "id": "cbc3edb9",
   "metadata": {},
   "source": [
    "# Test barnase:barstar"
   ]
  },
  {
   "cell_type": "code",
   "execution_count": 14,
   "id": "739235c8",
   "metadata": {},
   "outputs": [],
   "source": [
    "from perses.app.relative_point_mutation_setup import PointMutationExecutor\n",
    "from openeye import oechem"
   ]
  },
  {
   "cell_type": "code",
   "execution_count": 24,
   "id": "2c821ef3",
   "metadata": {
    "scrolled": true
   },
   "outputs": [
    {
     "name": "stderr",
     "output_type": "stream",
     "text": [
      "DEBUG:openmmforcefields.system_generators:Trying GAFFTemplateGenerator to load gaff-2.11\n",
      "INFO:setup:solvating at 0.05 M using tip3p\n",
      "INFO:setup:solvating at 0.05 M using tip3p\n",
      "INFO:proposal_generator:\tConducting polymer point mutation proposal...\n",
      "WARNING:atom_mapping:Molecules do not appear to share a common scaffold.\n",
      "WARNING:atom_mapping:Proceeding with direct mapping of molecules, but please check atom mapping and the geometry of the ligands.\n",
      "INFO:proposal_generator:[Atom(name=CB, atomic number=6), Atom(name=CG2, atomic number=6), Atom(name=OG1, atomic number=8), Atom(name=HB, atomic number=1), Atom(name=HG1, atomic number=1), Atom(name=HG21, atomic number=1), Atom(name=HG22, atomic number=1), Atom(name=HG23, atomic number=1)]\n",
      "INFO:proposal_generator:[Atom(name=CB, atomic number=6), Atom(name=HB1, atomic number=1), Atom(name=HB2, atomic number=1), Atom(name=HB3, atomic number=1)]\n",
      "INFO:geometry:propose: performing forward proposal\n",
      "INFO:geometry:propose: unique new atoms detected; proceeding to _logp_propose...\n",
      "INFO:geometry:Conducting forward proposal...\n",
      "INFO:geometry:Computing proposal order with NetworkX...\n",
      "INFO:geometry:number of atoms to be placed: 4\n",
      "INFO:geometry:Atom index proposal order is [673, 678, 677, 676]\n",
      "INFO:geometry:omitted_bonds: []\n",
      "INFO:geometry:direction of proposal is forward; creating atoms_with_positions and new positions from old system/topology...\n",
      "INFO:geometry:creating growth system...\n",
      "INFO:geometry:\tcreating bond force...\n",
      "INFO:geometry:\tthere are 733 bonds in reference force.\n",
      "INFO:geometry:\tcreating angle force...\n",
      "INFO:geometry:\tthere are 2628 angles in reference force.\n",
      "INFO:geometry:\tcreating torsion force...\n",
      "INFO:geometry:\tcreating extra torsions force...\n",
      "INFO:geometry:\tthere are 4939 torsions in reference force.\n",
      "INFO:geometry:\tcreating nonbonded force...\n",
      "INFO:geometry:\t\tgrabbing reference nonbonded method, cutoff, switching function, switching distance...\n",
      "INFO:geometry:\t\tcreating nonbonded exception force (i.e. custom bond for 1,4s)...\n",
      "INFO:geometry:\t\tlooping through exceptions calculating growth indices, and adding appropriate interactions to custom bond force.\n",
      "INFO:geometry:\t\tthere are 21290 in the reference Nonbonded force\n",
      "WARNING:geometry:\t\t\t\t\tchiral atom <Atom 670 (CA) of chain 0 residue 42 (ALA)> with neighbors [<Atom 671 (C) of chain 0 residue 42 (ALA)>, <Atom 673 (CB) of chain 0 residue 42 (ALA)>, <Atom 675 (HA) of chain 0 residue 42 (ALA)>, <Atom 669 (N) of chain 0 residue 42 (ALA)>] is surrounded by 3 core neighbors.  omitting chirality bias torsion\n",
      "INFO:geometry:Neglected angle terms : []\n",
      "INFO:geometry:omitted_growth_terms: {'bonds': [], 'angles': [], 'torsions': [], '1,4s': []}\n",
      "INFO:geometry:extra torsions: {0: (674, 669, 670, 673, [1, Quantity(value=0.9799661941737812, unit=radian), Quantity(value=1200.0, unit=kilocalorie/mole), 1]), 1: (669, 670, 673, 676, [1, Quantity(value=2.105358864604291, unit=radian), Quantity(value=1200.0, unit=kilocalorie/mole), 4]), 2: (669, 670, 673, 677, [1, Quantity(value=-2.0823006129211796, unit=radian), Quantity(value=1200.0, unit=kilocalorie/mole), 3]), 3: (669, 670, 673, 678, [1, Quantity(value=0.018582237407938962, unit=radian), Quantity(value=1200.0, unit=kilocalorie/mole), 2]), 4: (671, 670, 673, 676, [1, Quantity(value=-0.036945135932107576, unit=radian), Quantity(value=1200.0, unit=kilocalorie/mole), 4]), 5: (671, 670, 673, 677, [1, Quantity(value=2.0585806937220097, unit=radian), Quantity(value=1200.0, unit=kilocalorie/mole), 3]), 6: (671, 670, 673, 678, [1, Quantity(value=-2.1237217631284597, unit=radian), Quantity(value=1200.0, unit=kilocalorie/mole), 2]), 7: (675, 670, 673, 676, [1, Quantity(value=-2.119603470065817, unit=radian), Quantity(value=1200.0, unit=kilocalorie/mole), 4]), 8: (675, 670, 673, 677, [1, Quantity(value=-0.024077640411697132, unit=radian), Quantity(value=1200.0, unit=kilocalorie/mole), 3]), 9: (675, 670, 673, 678, [1, Quantity(value=2.0768052099174152, unit=radian), Quantity(value=1200.0, unit=kilocalorie/mole), 2])}\n",
      "INFO:geometry:neglected angle terms include []\n",
      "INFO:geometry:log probability choice of torsions and atom order: -5.78074351579233\n",
      "INFO:geometry:creating platform, integrators, and contexts; setting growth parameter\n",
      "INFO:geometry:setting atoms_with_positions context new positions\n",
      "INFO:geometry:There are 4 new atoms\n",
      "INFO:geometry:\treduced angle potential = 0.2905774266009354.\n"
     ]
    },
    {
     "name": "stdout",
     "output_type": "stream",
     "text": [
      "Warning: Returning Reference platform instead of requested platform CUDA\n",
      "conducting subsequent work with the following platform: Reference\n",
      "conducting subsequent work with the following platform: CPU\n"
     ]
    },
    {
     "name": "stderr",
     "output_type": "stream",
     "text": [
      "INFO:geometry:\treduced angle potential = 0.606500164772652.\n",
      "INFO:geometry:\treduced angle potential = 6.332550869284324.\n",
      "INFO:geometry:\treduced angle potential = 0.0037414881038030957.\n",
      "INFO:geometry:\tbeginning construction of no_nonbonded final system...\n",
      "INFO:geometry:\tinitial no-nonbonded final system forces ['HarmonicBondForce', 'HarmonicAngleForce', 'PeriodicTorsionForce', 'NonbondedForce', 'MonteCarloBarostat']\n",
      "INFO:geometry:\tfinal no-nonbonded final system forces dict_keys(['HarmonicBondForce', 'HarmonicAngleForce', 'PeriodicTorsionForce', 'NonbondedForce'])\n",
      "INFO:geometry:\tthere are 733 bond forces in the no-nonbonded final system\n",
      "INFO:geometry:\tthere are 2628 angle forces in the no-nonbonded final system\n",
      "INFO:geometry:\tthere are 4939 torsion forces in the no-nonbonded final system\n",
      "INFO:geometry:forward final system defined with 0 neglected angles.\n",
      "INFO:geometry:total reduced potential before atom placement: 2279.2365641521073\n"
     ]
    },
    {
     "name": "stdout",
     "output_type": "stream",
     "text": [
      "conducting subsequent work with the following platform: CPU\n",
      "conducting subsequent work with the following platform: CPU\n",
      "conducting subsequent work with the following platform: CPU\n"
     ]
    },
    {
     "name": "stderr",
     "output_type": "stream",
     "text": [
      "INFO:geometry:total reduced energy added from growth system: 575.6812110066791\n",
      "INFO:geometry:final reduced energy 2854.917775252372\n",
      "INFO:geometry:sum of energies: 2854.9177751587863\n",
      "INFO:geometry:magnitude of difference in the energies: 9.358552688354393e-08\n",
      "INFO:geometry:Final logp_proposal: 27.77556824512547\n",
      "INFO:geometry:logp_reverse: performing reverse proposal\n",
      "INFO:geometry:logp_reverse: unique new atoms detected; proceeding to _logp_propose...\n",
      "INFO:geometry:Conducting forward proposal...\n",
      "INFO:geometry:Computing proposal order with NetworkX...\n",
      "INFO:geometry:number of atoms to be placed: 8\n",
      "INFO:geometry:Atom index proposal order is [673, 675, 674, 678, 681, 679, 682, 680]\n",
      "INFO:geometry:omitted_bonds: []\n",
      "INFO:geometry:direction of proposal is reverse; creating atoms_with_positions from old system/topology\n"
     ]
    },
    {
     "name": "stdout",
     "output_type": "stream",
     "text": [
      "Warning: Returning Reference platform instead of requested platform CUDA\n",
      "conducting subsequent work with the following platform: Reference\n",
      "conducting subsequent work with the following platform: CPU\n",
      "added energy components: [('CustomBondForce', 0.3080661182940587), ('CustomAngleForce', 193.44931216604795), ('CustomTorsionForce', 10.943510759410294), ('CustomBondForce', 370.9803219629266)]\n"
     ]
    },
    {
     "name": "stderr",
     "output_type": "stream",
     "text": [
      "INFO:geometry:creating growth system...\n",
      "INFO:geometry:\tcreating bond force...\n",
      "INFO:geometry:\tthere are 735 bonds in reference force.\n",
      "INFO:geometry:\tcreating angle force...\n",
      "INFO:geometry:\tthere are 2635 angles in reference force.\n",
      "INFO:geometry:\tcreating torsion force...\n",
      "INFO:geometry:\tcreating extra torsions force...\n",
      "INFO:geometry:\tthere are 4969 torsions in reference force.\n",
      "INFO:geometry:\tcreating nonbonded force...\n",
      "INFO:geometry:\t\tgrabbing reference nonbonded method, cutoff, switching function, switching distance...\n",
      "INFO:geometry:\t\tcreating nonbonded exception force (i.e. custom bond for 1,4s)...\n",
      "INFO:geometry:\t\tlooping through exceptions calculating growth indices, and adding appropriate interactions to custom bond force.\n",
      "INFO:geometry:\t\tthere are 21313 in the reference Nonbonded force\n",
      "WARNING:geometry:\t\t\t\t\tchiral atom <Atom 670 (CA) of chain 0 residue 42 (THR)> with neighbors [<Atom 671 (C) of chain 0 residue 42 (THR)>, <Atom 673 (CB) of chain 0 residue 42 (THR)>, <Atom 677 (HA) of chain 0 residue 42 (THR)>, <Atom 669 (N) of chain 0 residue 42 (THR)>] is surrounded by 3 core neighbors.  omitting chirality bias torsion\n",
      "INFO:geometry:Neglected angle terms : []\n",
      "INFO:geometry:omitted_growth_terms: {'bonds': [], 'angles': [], 'torsions': [], '1,4s': []}\n",
      "INFO:geometry:extra torsions: {0: (676, 669, 670, 673, [1, Quantity(value=0.9900002084555819, unit=radian), Quantity(value=1200.0, unit=kilocalorie/mole), 1]), 1: (679, 674, 673, 670, [1, Quantity(value=-0.07858019216845058, unit=radian), Quantity(value=1200.0, unit=kilocalorie/mole), 6]), 2: (679, 674, 673, 675, [1, Quantity(value=2.118586571250296, unit=radian), Quantity(value=1200.0, unit=kilocalorie/mole), 6]), 3: (679, 674, 673, 678, [1, Quantity(value=-2.149781203448759, unit=radian), Quantity(value=1200.0, unit=kilocalorie/mole), 6]), 4: (670, 673, 675, 682, [1, Quantity(value=-2.1249532223845904, unit=radian), Quantity(value=1200.0, unit=kilocalorie/mole), 7]), 5: (670, 673, 675, 681, [1, Quantity(value=2.0543043017157916, unit=radian), Quantity(value=1200.0, unit=kilocalorie/mole), 5]), 6: (670, 673, 675, 680, [1, Quantity(value=-0.02223392579985184, unit=radian), Quantity(value=1200.0, unit=kilocalorie/mole), 8]), 7: (674, 673, 675, 682, [1, Quantity(value=2.0255587336734213, unit=radian), Quantity(value=1200.0, unit=kilocalorie/mole), 7]), 8: (674, 673, 675, 681, [1, Quantity(value=-0.07836904940578471, unit=radian), Quantity(value=1200.0, unit=kilocalorie/mole), 5]), 9: (674, 673, 675, 680, [1, Quantity(value=-2.154907276921426, unit=radian), Quantity(value=1200.0, unit=kilocalorie/mole), 8]), 10: (678, 673, 675, 682, [1, Quantity(value=0.007583009583349565, unit=radian), Quantity(value=1200.0, unit=kilocalorie/mole), 7]), 11: (678, 673, 675, 681, [1, Quantity(value=-2.096344773495849, unit=radian), Quantity(value=1200.0, unit=kilocalorie/mole), 5]), 12: (678, 673, 675, 680, [1, Quantity(value=2.1103023061680943, unit=radian), Quantity(value=1200.0, unit=kilocalorie/mole), 8]), 13: (675, 673, 670, 674, [1, Quantity(value=1.0655064807976995, unit=radian), Quantity(value=1200.0, unit=kilocalorie/mole), 3])}\n",
      "INFO:geometry:neglected angle terms include []\n",
      "INFO:geometry:log probability choice of torsions and atom order: -13.553917196274867\n",
      "INFO:geometry:creating platform, integrators, and contexts; setting growth parameter\n",
      "INFO:geometry:setting atoms_with_positions context old positions\n",
      "INFO:geometry:There are 8 new atoms\n",
      "INFO:geometry:\treduced angle potential = 0.0054720668656850205.\n",
      "INFO:geometry:\treduced angle potential = 0.22571252374478284.\n"
     ]
    },
    {
     "name": "stdout",
     "output_type": "stream",
     "text": [
      "Warning: Returning Reference platform instead of requested platform CUDA\n",
      "conducting subsequent work with the following platform: Reference\n",
      "conducting subsequent work with the following platform: CPU\n"
     ]
    },
    {
     "name": "stderr",
     "output_type": "stream",
     "text": [
      "INFO:geometry:\treduced angle potential = 0.1536280916466212.\n",
      "INFO:geometry:\treduced angle potential = 0.00589659951395519.\n",
      "INFO:geometry:\treduced angle potential = 0.05657264681042365.\n",
      "INFO:geometry:\treduced angle potential = 0.00669552145106419.\n",
      "INFO:geometry:\treduced angle potential = 0.25876654048332753.\n",
      "INFO:geometry:\treduced angle potential = 0.023352265895512498.\n",
      "INFO:geometry:\tbeginning construction of no_nonbonded final system...\n",
      "INFO:geometry:\tinitial no-nonbonded final system forces ['HarmonicBondForce', 'HarmonicAngleForce', 'PeriodicTorsionForce', 'NonbondedForce', 'MonteCarloBarostat']\n",
      "INFO:geometry:\tfinal no-nonbonded final system forces dict_keys(['HarmonicBondForce', 'HarmonicAngleForce', 'PeriodicTorsionForce', 'NonbondedForce'])\n",
      "INFO:geometry:\tthere are 735 bond forces in the no-nonbonded final system\n",
      "INFO:geometry:\tthere are 2635 angle forces in the no-nonbonded final system\n",
      "INFO:geometry:\tthere are 4969 torsion forces in the no-nonbonded final system\n",
      "INFO:geometry:reverse final system defined with 0 neglected angles.\n",
      "INFO:geometry:total reduced potential before atom placement: 2279.2365641521073\n"
     ]
    },
    {
     "name": "stdout",
     "output_type": "stream",
     "text": [
      "conducting subsequent work with the following platform: CPU\n",
      "conducting subsequent work with the following platform: CPU\n",
      "conducting subsequent work with the following platform: CPU\n",
      "Warning: Returning Reference platform instead of requested platform CUDA\n",
      "conducting subsequent work with the following platform: Reference\n",
      "conducting subsequent work with the following platform: CPU\n"
     ]
    },
    {
     "name": "stderr",
     "output_type": "stream",
     "text": [
      "INFO:geometry:total reduced energy added from growth system: -62.390092842368496\n",
      "INFO:geometry:final reduced energy 2216.8464703097125\n",
      "INFO:geometry:sum of energies: 2216.8464713097387\n",
      "INFO:geometry:magnitude of difference in the energies: 1.0000263941378762e-06\n",
      "INFO:geometry:Final logp_proposal: -10168.417824320266\n",
      "INFO:setup:charge diff: 0\n",
      "INFO:relative:*** Generating vanilla HybridTopologyFactory ***\n",
      "INFO:relative:Beginning nonbonded method, total particle, barostat, and exceptions retrieval...\n"
     ]
    },
    {
     "name": "stdout",
     "output_type": "stream",
     "text": [
      "added energy components: [('CustomBondForce', 0.4083978161843684), ('CustomAngleForce', 1.622079400619289), ('CustomTorsionForce', 17.50313784099423), ('CustomBondForce', -81.92370790016638)]\n"
     ]
    },
    {
     "name": "stderr",
     "output_type": "stream",
     "text": [
      "INFO:relative:Flattening torsions of unique new/old at lambda = 0/1\n",
      "INFO:relative:Flattening exceptions of unique new/old at lambda = 0/1\n",
      "INFO:relative:Old system forces: dict_keys(['HarmonicBondForce', 'HarmonicAngleForce', 'PeriodicTorsionForce', 'NonbondedForce', 'MonteCarloBarostat'])\n",
      "INFO:relative:New system forces: dict_keys(['HarmonicBondForce', 'HarmonicAngleForce', 'PeriodicTorsionForce', 'NonbondedForce', 'MonteCarloBarostat'])\n",
      "INFO:relative:No unknown forces.\n",
      "INFO:relative:Nonbonded method to be used (i.e. from old system): 4\n",
      "INFO:relative:Adding and mapping old atoms to hybrid system...\n",
      "INFO:relative:Adding and mapping new atoms to hybrid system...\n",
      "INFO:relative:Added MonteCarloBarostat.\n",
      "INFO:relative:getDefaultPeriodicBoxVectors added to hybrid: [Quantity(value=Vec3(x=5.423900000000001, y=0.0, z=0.0), unit=nanometer), Quantity(value=Vec3(x=0.0, y=5.423900000000001, z=0.0), unit=nanometer), Quantity(value=Vec3(x=0.0, y=0.0, z=5.423900000000001), unit=nanometer)]\n",
      "INFO:relative:Determined atom classes.\n",
      "INFO:relative:Generating old system exceptions dict...\n",
      "INFO:relative:Generating new system exceptions dict...\n",
      "INFO:relative:Handling constraints...\n",
      "INFO:relative:Handling virtual sites...\n",
      "INFO:relative:\t_handle_virtual_sites: numVirtualSites: 0\n",
      "INFO:relative:Adding bond force terms...\n",
      "INFO:relative:Adding angle force terms...\n",
      "INFO:relative:Adding torsion force terms...\n",
      "INFO:relative:Adding nonbonded force terms...\n",
      "INFO:relative:\t_add_nonbonded_force_terms: <openmm.openmm.NonbondedForce; proxy of <Swig Object of type 'OpenMM::NonbondedForce *' at 0x1a611e180> > added to hybrid system\n",
      "INFO:relative:\t_add_nonbonded_force_terms: nonbonded_method is PME or Ewald\n",
      "INFO:relative:\t_add_nonbonded_force_terms: 4 added to standard nonbonded force\n",
      "INFO:relative:\t_add_nonbonded_force_terms: 2 added to sterics_custom_nonbonded force\n",
      "INFO:relative:\t_add_nonbonded_force_terms: <openmm.openmm.CustomNonbondedForce; proxy of <Swig Object of type 'OpenMM::CustomNonbondedForce *' at 0x1a611e450> > added to hybrid system\n",
      "INFO:relative:Handling harmonic bonds...\n",
      "INFO:relative:\thandle_harmonic_bonds: looping through old_system to add relevant terms...\n",
      "INFO:relative:\thandle_harmonic_bonds: looping through new_system to add relevant terms...\n",
      "INFO:relative:Handling harmonic angles...\n",
      "INFO:relative:\thandle_harmonic_angles: looping through old_system to add relevant terms...\n",
      "INFO:relative:\thandle_harmonic_angles: looping through new_system to add relevant terms...\n",
      "INFO:relative:Handling torsion forces...\n",
      "INFO:relative:\thandle_periodic_torsion_forces: looping through old_system to add relevant terms...\n",
      "INFO:relative:\thandle_periodic_torsion_forces: looping through new_system to add relevant terms...\n",
      "INFO:relative:Handling nonbonded forces...\n",
      "INFO:relative:\thandle_nonbonded: looping through all particles in hybrid...\n",
      "INFO:relative:\thandle_nonbonded: Handling Interaction Groups...\n",
      "INFO:relative:\thandle_nonbonded: Handling Hybrid Exceptions...\n",
      "INFO:relative:\thandle_nonbonded: Handling Original Exceptions...\n",
      "INFO:relative:Handling unique_new/old interaction exceptions...\n",
      "INFO:relative:There are old or new system exceptions...proceeding.\n",
      "INFO:relative:*** Generating RepartitionedHybridTopologyFactory ***\n",
      "INFO:relative:Flattening torsions of unique new/old at lambda = 0/1\n",
      "INFO:relative:Flattening exceptions of unique new/old at lambda = 0/1\n",
      "INFO:relative:Old system forces: dict_keys(['HarmonicBondForce', 'HarmonicAngleForce', 'PeriodicTorsionForce', 'NonbondedForce', 'MonteCarloBarostat'])\n",
      "INFO:relative:New system forces: dict_keys(['HarmonicBondForce', 'HarmonicAngleForce', 'PeriodicTorsionForce', 'NonbondedForce', 'MonteCarloBarostat'])\n",
      "INFO:relative:No unknown forces.\n",
      "INFO:relative:Nonbonded method to be used (i.e. from old system): 4\n",
      "INFO:relative:Adding and mapping old atoms to hybrid system...\n",
      "INFO:relative:Adding and mapping new atoms to hybrid system...\n",
      "INFO:relative:Added MonteCarloBarostat.\n",
      "INFO:relative:getDefaultPeriodicBoxVectors added to hybrid: [Quantity(value=Vec3(x=5.423900000000001, y=0.0, z=0.0), unit=nanometer), Quantity(value=Vec3(x=0.0, y=5.423900000000001, z=0.0), unit=nanometer), Quantity(value=Vec3(x=0.0, y=0.0, z=5.423900000000001), unit=nanometer)]\n",
      "INFO:relative:Determined atom classes.\n",
      "INFO:relative:Generating old system exceptions dict...\n",
      "INFO:relative:Generating new system exceptions dict...\n",
      "INFO:relative:Handling constraints...\n",
      "INFO:relative:Handling virtual sites...\n",
      "INFO:relative:\t_handle_virtual_sites: numVirtualSites: 0\n",
      "INFO:relative:\t_add_nonbonded_force_terms: <openmm.openmm.NonbondedForce; proxy of <Swig Object of type 'OpenMM::NonbondedForce *' at 0x1aaa71c90> > added to hybrid system\n",
      "INFO:relative:\t_add_nonbonded_force_terms: nonbonded_method is PME or Ewald\n",
      "INFO:relative:\t_add_nonbonded_force_terms: 4 added to standard nonbonded force\n",
      "INFO:relative:\t_add_nonbonded_force_terms: 2 added to sterics_custom_nonbonded force\n",
      "INFO:relative:*** Generating RepartitionedHybridTopologyFactory ***\n",
      "INFO:relative:Flattening torsions of unique new/old at lambda = 0/1\n",
      "INFO:relative:Flattening exceptions of unique new/old at lambda = 0/1\n",
      "INFO:relative:Old system forces: dict_keys(['HarmonicBondForce', 'HarmonicAngleForce', 'PeriodicTorsionForce', 'NonbondedForce', 'MonteCarloBarostat'])\n",
      "INFO:relative:New system forces: dict_keys(['HarmonicBondForce', 'HarmonicAngleForce', 'PeriodicTorsionForce', 'NonbondedForce', 'MonteCarloBarostat'])\n",
      "INFO:relative:No unknown forces.\n",
      "INFO:relative:Nonbonded method to be used (i.e. from old system): 4\n",
      "INFO:relative:Adding and mapping old atoms to hybrid system...\n",
      "INFO:relative:Adding and mapping new atoms to hybrid system...\n",
      "INFO:relative:Added MonteCarloBarostat.\n",
      "INFO:relative:getDefaultPeriodicBoxVectors added to hybrid: [Quantity(value=Vec3(x=5.423900000000001, y=0.0, z=0.0), unit=nanometer), Quantity(value=Vec3(x=0.0, y=5.423900000000001, z=0.0), unit=nanometer), Quantity(value=Vec3(x=0.0, y=0.0, z=5.423900000000001), unit=nanometer)]\n",
      "INFO:relative:Determined atom classes.\n",
      "INFO:relative:Generating old system exceptions dict...\n",
      "INFO:relative:Generating new system exceptions dict...\n",
      "INFO:relative:Handling constraints...\n",
      "INFO:relative:Handling virtual sites...\n",
      "INFO:relative:\t_handle_virtual_sites: numVirtualSites: 0\n",
      "INFO:relative:\t_add_nonbonded_force_terms: <openmm.openmm.NonbondedForce; proxy of <Swig Object of type 'OpenMM::NonbondedForce *' at 0x1addf5c00> > added to hybrid system\n",
      "INFO:relative:\t_add_nonbonded_force_terms: nonbonded_method is PME or Ewald\n",
      "INFO:relative:\t_add_nonbonded_force_terms: 4 added to standard nonbonded force\n",
      "INFO:relative:\t_add_nonbonded_force_terms: 2 added to sterics_custom_nonbonded force\n",
      "INFO:proposal_generator:\tConducting polymer point mutation proposal...\n",
      "WARNING:atom_mapping:Molecules do not appear to share a common scaffold.\n",
      "WARNING:atom_mapping:Proceeding with direct mapping of molecules, but please check atom mapping and the geometry of the ligands.\n",
      "INFO:proposal_generator:[Atom(name=CB, atomic number=6), Atom(name=CG2, atomic number=6), Atom(name=OG1, atomic number=8), Atom(name=HB, atomic number=1), Atom(name=HG1, atomic number=1), Atom(name=HG21, atomic number=1), Atom(name=HG22, atomic number=1), Atom(name=HG23, atomic number=1)]\n",
      "INFO:proposal_generator:[Atom(name=CB, atomic number=6), Atom(name=HB1, atomic number=1), Atom(name=HB2, atomic number=1), Atom(name=HB3, atomic number=1)]\n",
      "INFO:geometry:propose: performing forward proposal\n",
      "INFO:geometry:propose: unique new atoms detected; proceeding to _logp_propose...\n",
      "INFO:geometry:Conducting forward proposal...\n",
      "INFO:geometry:Computing proposal order with NetworkX...\n",
      "INFO:geometry:number of atoms to be placed: 4\n",
      "INFO:geometry:Atom index proposal order is [673, 676, 677, 678]\n",
      "INFO:geometry:omitted_bonds: []\n",
      "INFO:geometry:direction of proposal is forward; creating atoms_with_positions and new positions from old system/topology...\n",
      "INFO:geometry:creating growth system...\n",
      "INFO:geometry:\tcreating bond force...\n",
      "INFO:geometry:\tthere are 1622 bonds in reference force.\n",
      "INFO:geometry:\tcreating angle force...\n",
      "INFO:geometry:\tthere are 5730 angles in reference force.\n",
      "INFO:geometry:\tcreating torsion force...\n",
      "INFO:geometry:\tcreating extra torsions force...\n"
     ]
    },
    {
     "name": "stderr",
     "output_type": "stream",
     "text": [
      "INFO:geometry:\tthere are 10792 torsions in reference force.\n",
      "INFO:geometry:\tcreating nonbonded force...\n",
      "INFO:geometry:\t\tgrabbing reference nonbonded method, cutoff, switching function, switching distance...\n",
      "INFO:geometry:\t\tcreating nonbonded exception force (i.e. custom bond for 1,4s)...\n",
      "INFO:geometry:\t\tlooping through exceptions calculating growth indices, and adding appropriate interactions to custom bond force.\n",
      "INFO:geometry:\t\tthere are 43430 in the reference Nonbonded force\n",
      "WARNING:geometry:\t\t\t\t\tchiral atom <Atom 670 (CA) of chain 0 residue 42 (ALA)> with neighbors [<Atom 671 (C) of chain 0 residue 42 (ALA)>, <Atom 673 (CB) of chain 0 residue 42 (ALA)>, <Atom 675 (HA) of chain 0 residue 42 (ALA)>, <Atom 669 (N) of chain 0 residue 42 (ALA)>] is surrounded by 3 core neighbors.  omitting chirality bias torsion\n",
      "INFO:geometry:Neglected angle terms : []\n",
      "INFO:geometry:omitted_growth_terms: {'bonds': [], 'angles': [], 'torsions': [], '1,4s': []}\n",
      "INFO:geometry:extra torsions: {0: (674, 669, 670, 673, [1, Quantity(value=0.9799661941737812, unit=radian), Quantity(value=1200.0, unit=kilocalorie/mole), 1]), 1: (669, 670, 673, 676, [1, Quantity(value=2.105358864604291, unit=radian), Quantity(value=1200.0, unit=kilocalorie/mole), 2]), 2: (669, 670, 673, 677, [1, Quantity(value=-2.0823006129211796, unit=radian), Quantity(value=1200.0, unit=kilocalorie/mole), 3]), 3: (669, 670, 673, 678, [1, Quantity(value=0.018582237407938962, unit=radian), Quantity(value=1200.0, unit=kilocalorie/mole), 4]), 4: (671, 670, 673, 676, [1, Quantity(value=-0.036945135932107576, unit=radian), Quantity(value=1200.0, unit=kilocalorie/mole), 2]), 5: (671, 670, 673, 677, [1, Quantity(value=2.0585806937220097, unit=radian), Quantity(value=1200.0, unit=kilocalorie/mole), 3]), 6: (671, 670, 673, 678, [1, Quantity(value=-2.1237217631284597, unit=radian), Quantity(value=1200.0, unit=kilocalorie/mole), 4]), 7: (675, 670, 673, 676, [1, Quantity(value=-2.119603470065817, unit=radian), Quantity(value=1200.0, unit=kilocalorie/mole), 2]), 8: (675, 670, 673, 677, [1, Quantity(value=-0.024077640411697132, unit=radian), Quantity(value=1200.0, unit=kilocalorie/mole), 3]), 9: (675, 670, 673, 678, [1, Quantity(value=2.0768052099174152, unit=radian), Quantity(value=1200.0, unit=kilocalorie/mole), 4])}\n",
      "INFO:geometry:neglected angle terms include []\n",
      "INFO:geometry:log probability choice of torsions and atom order: -5.78074351579233\n",
      "INFO:geometry:creating platform, integrators, and contexts; setting growth parameter\n",
      "INFO:geometry:setting atoms_with_positions context new positions\n",
      "INFO:geometry:There are 4 new atoms\n"
     ]
    },
    {
     "name": "stdout",
     "output_type": "stream",
     "text": [
      "Warning: Returning Reference platform instead of requested platform CUDA\n",
      "conducting subsequent work with the following platform: Reference\n",
      "conducting subsequent work with the following platform: CPU\n"
     ]
    },
    {
     "name": "stderr",
     "output_type": "stream",
     "text": [
      "INFO:geometry:\treduced angle potential = 0.7300186492626138.\n",
      "INFO:geometry:\treduced angle potential = 0.6343081528081562.\n",
      "INFO:geometry:\treduced angle potential = 0.189816128780625.\n",
      "INFO:geometry:\treduced angle potential = 0.18341934673056917.\n",
      "INFO:geometry:\tbeginning construction of no_nonbonded final system...\n",
      "INFO:geometry:\tinitial no-nonbonded final system forces ['HarmonicBondForce', 'HarmonicAngleForce', 'PeriodicTorsionForce', 'NonbondedForce', 'MonteCarloBarostat']\n",
      "INFO:geometry:\tfinal no-nonbonded final system forces dict_keys(['HarmonicBondForce', 'HarmonicAngleForce', 'PeriodicTorsionForce', 'NonbondedForce'])\n",
      "INFO:geometry:\tthere are 1622 bond forces in the no-nonbonded final system\n",
      "INFO:geometry:\tthere are 5730 angle forces in the no-nonbonded final system\n",
      "INFO:geometry:\tthere are 10792 torsion forces in the no-nonbonded final system\n",
      "INFO:geometry:forward final system defined with 0 neglected angles.\n"
     ]
    },
    {
     "name": "stdout",
     "output_type": "stream",
     "text": [
      "conducting subsequent work with the following platform: CPU\n",
      "conducting subsequent work with the following platform: CPU\n"
     ]
    },
    {
     "name": "stderr",
     "output_type": "stream",
     "text": [
      "INFO:geometry:total reduced potential before atom placement: 4792.466756866703\n",
      "INFO:geometry:total reduced energy added from growth system: 499.564937118263\n",
      "INFO:geometry:final reduced energy 5292.031694109462\n",
      "INFO:geometry:sum of energies: 5292.031693984965\n",
      "INFO:geometry:magnitude of difference in the energies: 1.2449578434825526e-07\n",
      "INFO:geometry:Final logp_proposal: 32.47905302320031\n",
      "INFO:geometry:logp_reverse: performing reverse proposal\n",
      "INFO:geometry:logp_reverse: unique new atoms detected; proceeding to _logp_propose...\n",
      "INFO:geometry:Conducting forward proposal...\n",
      "INFO:geometry:Computing proposal order with NetworkX...\n",
      "INFO:geometry:number of atoms to be placed: 8\n",
      "INFO:geometry:Atom index proposal order is [673, 674, 675, 679, 680, 681, 678, 682]\n",
      "INFO:geometry:omitted_bonds: []\n",
      "INFO:geometry:direction of proposal is reverse; creating atoms_with_positions from old system/topology\n"
     ]
    },
    {
     "name": "stdout",
     "output_type": "stream",
     "text": [
      "conducting subsequent work with the following platform: CPU\n",
      "Warning: Returning Reference platform instead of requested platform CUDA\n",
      "conducting subsequent work with the following platform: Reference\n",
      "conducting subsequent work with the following platform: CPU\n",
      "added energy components: [('CustomBondForce', 0.20931842210162968), ('CustomAngleForce', 183.21831892221118), ('CustomTorsionForce', 10.685987279093833), ('CustomBondForce', 305.4513124948564)]\n"
     ]
    },
    {
     "name": "stderr",
     "output_type": "stream",
     "text": [
      "INFO:geometry:creating growth system...\n",
      "INFO:geometry:\tcreating bond force...\n",
      "INFO:geometry:\tthere are 1624 bonds in reference force.\n",
      "INFO:geometry:\tcreating angle force...\n",
      "INFO:geometry:\tthere are 5737 angles in reference force.\n",
      "INFO:geometry:\tcreating torsion force...\n",
      "INFO:geometry:\tcreating extra torsions force...\n",
      "INFO:geometry:\tthere are 10822 torsions in reference force.\n",
      "INFO:geometry:\tcreating nonbonded force...\n",
      "INFO:geometry:\t\tgrabbing reference nonbonded method, cutoff, switching function, switching distance...\n",
      "INFO:geometry:\t\tcreating nonbonded exception force (i.e. custom bond for 1,4s)...\n",
      "INFO:geometry:\t\tlooping through exceptions calculating growth indices, and adding appropriate interactions to custom bond force.\n",
      "INFO:geometry:\t\tthere are 43453 in the reference Nonbonded force\n",
      "WARNING:geometry:\t\t\t\t\tchiral atom <Atom 670 (CA) of chain 0 residue 42 (THR)> with neighbors [<Atom 671 (C) of chain 0 residue 42 (THR)>, <Atom 673 (CB) of chain 0 residue 42 (THR)>, <Atom 677 (HA) of chain 0 residue 42 (THR)>, <Atom 669 (N) of chain 0 residue 42 (THR)>] is surrounded by 3 core neighbors.  omitting chirality bias torsion\n",
      "INFO:geometry:Neglected angle terms : []\n",
      "INFO:geometry:omitted_growth_terms: {'bonds': [], 'angles': [], 'torsions': [], '1,4s': []}\n",
      "INFO:geometry:extra torsions: {0: (676, 669, 670, 673, [1, Quantity(value=0.9900002084555819, unit=radian), Quantity(value=1200.0, unit=kilocalorie/mole), 1]), 1: (679, 674, 673, 670, [1, Quantity(value=-0.07858019216845058, unit=radian), Quantity(value=1200.0, unit=kilocalorie/mole), 4]), 2: (679, 674, 673, 675, [1, Quantity(value=2.118586571250296, unit=radian), Quantity(value=1200.0, unit=kilocalorie/mole), 4]), 3: (679, 674, 673, 678, [1, Quantity(value=-2.149781203448759, unit=radian), Quantity(value=1200.0, unit=kilocalorie/mole), 7]), 4: (670, 673, 675, 682, [1, Quantity(value=-2.1249532223845904, unit=radian), Quantity(value=1200.0, unit=kilocalorie/mole), 8]), 5: (670, 673, 675, 681, [1, Quantity(value=2.0543043017157916, unit=radian), Quantity(value=1200.0, unit=kilocalorie/mole), 6]), 6: (670, 673, 675, 680, [1, Quantity(value=-0.02223392579985184, unit=radian), Quantity(value=1200.0, unit=kilocalorie/mole), 5]), 7: (674, 673, 675, 682, [1, Quantity(value=2.0255587336734213, unit=radian), Quantity(value=1200.0, unit=kilocalorie/mole), 8]), 8: (674, 673, 675, 681, [1, Quantity(value=-0.07836904940578471, unit=radian), Quantity(value=1200.0, unit=kilocalorie/mole), 6]), 9: (674, 673, 675, 680, [1, Quantity(value=-2.154907276921426, unit=radian), Quantity(value=1200.0, unit=kilocalorie/mole), 5]), 10: (678, 673, 675, 682, [1, Quantity(value=0.007583009583349565, unit=radian), Quantity(value=1200.0, unit=kilocalorie/mole), 8]), 11: (678, 673, 675, 681, [1, Quantity(value=-2.096344773495849, unit=radian), Quantity(value=1200.0, unit=kilocalorie/mole), 7]), 12: (678, 673, 675, 680, [1, Quantity(value=2.1103023061680943, unit=radian), Quantity(value=1200.0, unit=kilocalorie/mole), 7]), 13: (674, 673, 670, 675, [1, Quantity(value=-1.0655064807976995, unit=radian), Quantity(value=1200.0, unit=kilocalorie/mole), 3])}\n",
      "INFO:geometry:neglected angle terms include []\n",
      "INFO:geometry:log probability choice of torsions and atom order: -13.659277711932692\n",
      "INFO:geometry:creating platform, integrators, and contexts; setting growth parameter\n",
      "INFO:geometry:setting atoms_with_positions context old positions\n",
      "INFO:geometry:There are 8 new atoms\n",
      "INFO:geometry:\treduced angle potential = 0.18171443637412618.\n"
     ]
    },
    {
     "name": "stdout",
     "output_type": "stream",
     "text": [
      "Warning: Returning Reference platform instead of requested platform CUDA\n",
      "conducting subsequent work with the following platform: Reference\n",
      "conducting subsequent work with the following platform: CPU\n"
     ]
    },
    {
     "name": "stderr",
     "output_type": "stream",
     "text": [
      "INFO:geometry:\treduced angle potential = 0.1536280916466212.\n",
      "INFO:geometry:\treduced angle potential = 0.22571252374478284.\n",
      "INFO:geometry:\treduced angle potential = 0.00669552145106419.\n",
      "INFO:geometry:\treduced angle potential = 0.023352265895512498.\n",
      "INFO:geometry:\treduced angle potential = 0.05657264681042365.\n",
      "INFO:geometry:\treduced angle potential = 0.00589659951395519.\n",
      "INFO:geometry:\treduced angle potential = 0.25876654048332753.\n",
      "INFO:geometry:\tbeginning construction of no_nonbonded final system...\n",
      "INFO:geometry:\tinitial no-nonbonded final system forces ['HarmonicBondForce', 'HarmonicAngleForce', 'PeriodicTorsionForce', 'NonbondedForce', 'MonteCarloBarostat']\n",
      "INFO:geometry:\tfinal no-nonbonded final system forces dict_keys(['HarmonicBondForce', 'HarmonicAngleForce', 'PeriodicTorsionForce', 'NonbondedForce'])\n",
      "INFO:geometry:\tthere are 1624 bond forces in the no-nonbonded final system\n",
      "INFO:geometry:\tthere are 5737 angle forces in the no-nonbonded final system\n",
      "INFO:geometry:\tthere are 10822 torsion forces in the no-nonbonded final system\n",
      "INFO:geometry:reverse final system defined with 0 neglected angles.\n"
     ]
    },
    {
     "name": "stdout",
     "output_type": "stream",
     "text": [
      "conducting subsequent work with the following platform: CPU\n"
     ]
    },
    {
     "name": "stderr",
     "output_type": "stream",
     "text": [
      "INFO:geometry:total reduced potential before atom placement: 4792.466756866703\n",
      "INFO:geometry:total reduced energy added from growth system: -62.390092842368496\n",
      "INFO:geometry:final reduced energy 4730.076663024306\n",
      "INFO:geometry:sum of energies: 4730.076664024335\n",
      "INFO:geometry:magnitude of difference in the energies: 1.0000282131272797e-06\n",
      "INFO:geometry:Final logp_proposal: -9175.545028786522\n",
      "INFO:setup:charge diff: 0\n",
      "INFO:relative:*** Generating vanilla HybridTopologyFactory ***\n",
      "INFO:relative:Beginning nonbonded method, total particle, barostat, and exceptions retrieval...\n",
      "INFO:relative:Flattening torsions of unique new/old at lambda = 0/1\n"
     ]
    },
    {
     "name": "stdout",
     "output_type": "stream",
     "text": [
      "conducting subsequent work with the following platform: CPU\n",
      "conducting subsequent work with the following platform: CPU\n",
      "Warning: Returning Reference platform instead of requested platform CUDA\n",
      "conducting subsequent work with the following platform: Reference\n",
      "conducting subsequent work with the following platform: CPU\n",
      "added energy components: [('CustomBondForce', 0.4083978161843684), ('CustomAngleForce', 1.622079400619289), ('CustomTorsionForce', 17.50313784099423), ('CustomBondForce', -81.92370790016638)]\n"
     ]
    },
    {
     "name": "stderr",
     "output_type": "stream",
     "text": [
      "INFO:relative:Flattening exceptions of unique new/old at lambda = 0/1\n",
      "INFO:relative:Old system forces: dict_keys(['HarmonicBondForce', 'HarmonicAngleForce', 'PeriodicTorsionForce', 'NonbondedForce', 'MonteCarloBarostat'])\n",
      "INFO:relative:New system forces: dict_keys(['HarmonicBondForce', 'HarmonicAngleForce', 'PeriodicTorsionForce', 'NonbondedForce', 'MonteCarloBarostat'])\n",
      "INFO:relative:No unknown forces.\n",
      "INFO:relative:Nonbonded method to be used (i.e. from old system): 4\n",
      "INFO:relative:Adding and mapping old atoms to hybrid system...\n",
      "INFO:relative:Adding and mapping new atoms to hybrid system...\n",
      "INFO:relative:Added MonteCarloBarostat.\n",
      "INFO:relative:getDefaultPeriodicBoxVectors added to hybrid: [Quantity(value=Vec3(x=6.7997, y=0.0, z=0.0), unit=nanometer), Quantity(value=Vec3(x=0.0, y=6.7997, z=0.0), unit=nanometer), Quantity(value=Vec3(x=0.0, y=0.0, z=6.7997), unit=nanometer)]\n",
      "INFO:relative:Determined atom classes.\n",
      "INFO:relative:Generating old system exceptions dict...\n",
      "INFO:relative:Generating new system exceptions dict...\n",
      "INFO:relative:Handling constraints...\n",
      "INFO:relative:Handling virtual sites...\n",
      "INFO:relative:\t_handle_virtual_sites: numVirtualSites: 0\n",
      "INFO:relative:Adding bond force terms...\n",
      "INFO:relative:Adding angle force terms...\n",
      "INFO:relative:Adding torsion force terms...\n",
      "INFO:relative:Adding nonbonded force terms...\n",
      "INFO:relative:\t_add_nonbonded_force_terms: <openmm.openmm.NonbondedForce; proxy of <Swig Object of type 'OpenMM::NonbondedForce *' at 0x1b39dec30> > added to hybrid system\n",
      "INFO:relative:\t_add_nonbonded_force_terms: nonbonded_method is PME or Ewald\n",
      "INFO:relative:\t_add_nonbonded_force_terms: 4 added to standard nonbonded force\n",
      "INFO:relative:\t_add_nonbonded_force_terms: 2 added to sterics_custom_nonbonded force\n",
      "INFO:relative:\t_add_nonbonded_force_terms: <openmm.openmm.CustomNonbondedForce; proxy of <Swig Object of type 'OpenMM::CustomNonbondedForce *' at 0x1b39de810> > added to hybrid system\n",
      "INFO:relative:Handling harmonic bonds...\n",
      "INFO:relative:\thandle_harmonic_bonds: looping through old_system to add relevant terms...\n",
      "INFO:relative:\thandle_harmonic_bonds: looping through new_system to add relevant terms...\n",
      "INFO:relative:Handling harmonic angles...\n",
      "INFO:relative:\thandle_harmonic_angles: looping through old_system to add relevant terms...\n",
      "INFO:relative:\thandle_harmonic_angles: looping through new_system to add relevant terms...\n",
      "INFO:relative:Handling torsion forces...\n",
      "INFO:relative:\thandle_periodic_torsion_forces: looping through old_system to add relevant terms...\n",
      "INFO:relative:\thandle_periodic_torsion_forces: looping through new_system to add relevant terms...\n",
      "INFO:relative:Handling nonbonded forces...\n",
      "INFO:relative:\thandle_nonbonded: looping through all particles in hybrid...\n",
      "INFO:relative:\thandle_nonbonded: Handling Interaction Groups...\n",
      "INFO:relative:\thandle_nonbonded: Handling Hybrid Exceptions...\n",
      "INFO:relative:\thandle_nonbonded: Handling Original Exceptions...\n",
      "INFO:relative:Handling unique_new/old interaction exceptions...\n",
      "INFO:relative:There are old or new system exceptions...proceeding.\n",
      "INFO:relative:*** Generating RepartitionedHybridTopologyFactory ***\n",
      "INFO:relative:Flattening torsions of unique new/old at lambda = 0/1\n",
      "INFO:relative:Flattening exceptions of unique new/old at lambda = 0/1\n",
      "INFO:relative:Old system forces: dict_keys(['HarmonicBondForce', 'HarmonicAngleForce', 'PeriodicTorsionForce', 'NonbondedForce', 'MonteCarloBarostat'])\n",
      "INFO:relative:New system forces: dict_keys(['HarmonicBondForce', 'HarmonicAngleForce', 'PeriodicTorsionForce', 'NonbondedForce', 'MonteCarloBarostat'])\n",
      "INFO:relative:No unknown forces.\n",
      "INFO:relative:Nonbonded method to be used (i.e. from old system): 4\n",
      "INFO:relative:Adding and mapping old atoms to hybrid system...\n",
      "INFO:relative:Adding and mapping new atoms to hybrid system...\n",
      "INFO:relative:Added MonteCarloBarostat.\n",
      "INFO:relative:getDefaultPeriodicBoxVectors added to hybrid: [Quantity(value=Vec3(x=6.7997, y=0.0, z=0.0), unit=nanometer), Quantity(value=Vec3(x=0.0, y=6.7997, z=0.0), unit=nanometer), Quantity(value=Vec3(x=0.0, y=0.0, z=6.7997), unit=nanometer)]\n",
      "INFO:relative:Determined atom classes.\n",
      "INFO:relative:Generating old system exceptions dict...\n",
      "INFO:relative:Generating new system exceptions dict...\n",
      "INFO:relative:Handling constraints...\n",
      "INFO:relative:Handling virtual sites...\n",
      "INFO:relative:\t_handle_virtual_sites: numVirtualSites: 0\n",
      "INFO:relative:\t_add_nonbonded_force_terms: <openmm.openmm.NonbondedForce; proxy of <Swig Object of type 'OpenMM::NonbondedForce *' at 0x1bc6c8bd0> > added to hybrid system\n",
      "INFO:relative:\t_add_nonbonded_force_terms: nonbonded_method is PME or Ewald\n",
      "INFO:relative:\t_add_nonbonded_force_terms: 4 added to standard nonbonded force\n",
      "INFO:relative:\t_add_nonbonded_force_terms: 2 added to sterics_custom_nonbonded force\n",
      "INFO:relative:*** Generating RepartitionedHybridTopologyFactory ***\n",
      "INFO:relative:Flattening torsions of unique new/old at lambda = 0/1\n",
      "INFO:relative:Flattening exceptions of unique new/old at lambda = 0/1\n",
      "INFO:relative:Old system forces: dict_keys(['HarmonicBondForce', 'HarmonicAngleForce', 'PeriodicTorsionForce', 'NonbondedForce', 'MonteCarloBarostat'])\n",
      "INFO:relative:New system forces: dict_keys(['HarmonicBondForce', 'HarmonicAngleForce', 'PeriodicTorsionForce', 'NonbondedForce', 'MonteCarloBarostat'])\n",
      "INFO:relative:No unknown forces.\n",
      "INFO:relative:Nonbonded method to be used (i.e. from old system): 4\n",
      "INFO:relative:Adding and mapping old atoms to hybrid system...\n",
      "INFO:relative:Adding and mapping new atoms to hybrid system...\n",
      "INFO:relative:Added MonteCarloBarostat.\n",
      "INFO:relative:getDefaultPeriodicBoxVectors added to hybrid: [Quantity(value=Vec3(x=6.7997, y=0.0, z=0.0), unit=nanometer), Quantity(value=Vec3(x=0.0, y=6.7997, z=0.0), unit=nanometer), Quantity(value=Vec3(x=0.0, y=0.0, z=6.7997), unit=nanometer)]\n",
      "INFO:relative:Determined atom classes.\n",
      "INFO:relative:Generating old system exceptions dict...\n",
      "INFO:relative:Generating new system exceptions dict...\n",
      "INFO:relative:Handling constraints...\n",
      "INFO:relative:Handling virtual sites...\n",
      "INFO:relative:\t_handle_virtual_sites: numVirtualSites: 0\n",
      "INFO:relative:\t_add_nonbonded_force_terms: <openmm.openmm.NonbondedForce; proxy of <Swig Object of type 'OpenMM::NonbondedForce *' at 0x1beb93d20> > added to hybrid system\n",
      "INFO:relative:\t_add_nonbonded_force_terms: nonbonded_method is PME or Ewald\n",
      "INFO:relative:\t_add_nonbonded_force_terms: 4 added to standard nonbonded force\n",
      "INFO:relative:\t_add_nonbonded_force_terms: 2 added to sterics_custom_nonbonded force\n"
     ]
    }
   ],
   "source": [
    "solvent_delivery = PointMutationExecutor(\"../../input/mmc2_barstar.pdb\",\n",
    "                        '1',\n",
    "                        \"42\",\n",
    "                        \"ALA\",\n",
    "                        ligand_input=\"../../input/mmc2_barnase.pdb\",\n",
    "                        ionic_strength=0.05*unit.molar,\n",
    "                        flatten_torsions=True,\n",
    "                        flatten_exceptions=True, \n",
    "                        conduct_endstate_validation=False,\n",
    "                        generate_rest_capable_hybrid_topology_factory=True\n",
    "                       )"
   ]
  },
  {
   "cell_type": "code",
   "execution_count": 25,
   "id": "0689846e",
   "metadata": {},
   "outputs": [],
   "source": [
    "complex_htf = solvent_delivery.get_complex_rhtf_0()\n",
    "pickle.dump(complex_htf, open(\"T42A_complex_0.pickle\", \"wb\" ))"
   ]
  },
  {
   "cell_type": "code",
   "execution_count": 26,
   "id": "a227332f",
   "metadata": {},
   "outputs": [
    {
     "name": "stderr",
     "output_type": "stream",
     "text": [
      "INFO:REST:*** Generating RESTTopologyFactoryV3 ***\n",
      "INFO:REST:No unknown forces.\n",
      "INFO:REST:alpha_ewald is 2.7569734238004693\n",
      "INFO:REST:Added MonteCarloBarostat.\n",
      "INFO:REST:getDefaultPeriodicBoxVectors added to hybrid: [Quantity(value=Vec3(x=6.7997, y=0.0, z=0.0), unit=nanometer), Quantity(value=Vec3(x=0.0, y=6.7997, z=0.0), unit=nanometer), Quantity(value=Vec3(x=0.0, y=0.0, z=6.7997), unit=nanometer)]\n"
     ]
    },
    {
     "name": "stdout",
     "output_type": "stream",
     "text": [
      "Warning: Returning CPU platform instead of requested platform <openmm.openmm.Platform; proxy of <Swig Object of type 'OpenMM::Platform *' at 0x169191a20> >\n",
      "conducting subsequent work with the following platform: CPU\n",
      "conducting subsequent work with the following platform: CPU\n",
      "conducting subsequent work with the following platform: CPU\n",
      "[('HarmonicBondForce', 189.90619254301455), ('HarmonicAngleForce', 974.9962574395616), ('PeriodicTorsionForce', 3830.525263094371), ('NonbondedForce', 1009477.8320700994), ('AndersenThermostat', 0.0), ('MonteCarloBarostat', 0.0)]\n",
      "[('CustomBondForce', 189.90619254301455), ('CustomAngleForce', 974.9962574395629), ('CustomTorsionForce', 3830.5252630943774), ('CustomNonbondedForce', -144874.33555218598), ('CustomNonbondedForce', 1164920.788917851), ('CustomBondForce', 809622.4491905153), ('NonbondedForce', -820190.5439900638), ('AndersenThermostat', 0.0), ('MonteCarloBarostat', 0.0)]\n",
      "1009477.8320700994\n",
      "1009478.3585661164\n",
      "Energy bookkeeping was a success!\n"
     ]
    }
   ],
   "source": [
    "# Create REST-ified hybrid system\n",
    "rest_atoms = list(complex_htf._atom_classes['unique_old_atoms']) + list(complex_htf._atom_classes['unique_new_atoms'])\n",
    "factory = RESTTopologyFactoryV3(complex_htf.hybrid_system, complex_htf.hybrid_topology, rest_region=rest_atoms, use_dispersion_correction=True)\n",
    "REST_system = factory.REST_system\n",
    "\n",
    "# Compare energy components\n",
    "compare_energy_components(REST_system, complex_htf.hybrid_system, complex_htf.hybrid_positions)\n"
   ]
  },
  {
   "cell_type": "markdown",
   "id": "215244d2",
   "metadata": {},
   "source": [
    "## Double check that groups = 1 << i is the same as groups = set{[i]}"
   ]
  },
  {
   "cell_type": "code",
   "execution_count": 25,
   "id": "2a9fcb94",
   "metadata": {},
   "outputs": [],
   "source": [
    "from openmmtools import utils\n",
    "DEFAULT_PLATFORM = utils.get_fastest_platform()\n",
    "def compute_potential_components2(context, beta = beta, platform = DEFAULT_PLATFORM):\n",
    "    \"\"\"\n",
    "    Compute potential energy, raising an exception if it is not finite.\n",
    "    Parameters\n",
    "    ----------\n",
    "    context : simtk.openmm.Context\n",
    "        The context from which to extract, System, parameters, and positions.\n",
    "    \"\"\"\n",
    "    # Make a deep copy of the system.\n",
    "    import copy\n",
    "\n",
    "    from perses.dispersed.utils import configure_platform\n",
    "    platform = configure_platform(platform.getName(), fallback_platform_name='Reference', precision='double')\n",
    "\n",
    "    system = context.getSystem()\n",
    "    system = copy.deepcopy(system)\n",
    "    # Get positions.\n",
    "    positions = context.getState(getPositions=True).getPositions(asNumpy=True)\n",
    "    # Get Parameters\n",
    "    parameters = context.getParameters()\n",
    "    # Segregate forces.\n",
    "    for index in range(system.getNumForces()):\n",
    "        force = system.getForce(index)\n",
    "        force.setForceGroup(index)\n",
    "    # Create new Context.\n",
    "    integrator = openmm.VerletIntegrator(1.0 * unit.femtoseconds)\n",
    "    context = openmm.Context(system, integrator, platform)\n",
    "    context.setPositions(positions)\n",
    "    for (parameter, value) in parameters.items():\n",
    "        context.setParameter(parameter, value)\n",
    "    energy_components = list()\n",
    "    for index in range(system.getNumForces()):\n",
    "        force = system.getForce(index)\n",
    "        forcename = force.__class__.__name__\n",
    "        groups = 1<<index\n",
    "        potential = beta * context.getState(getEnergy=True, groups=groups).getPotentialEnergy()\n",
    "        energy_components.append((forcename, potential))\n",
    "    groups = 1<<31\n",
    "    potential = beta * context.getState(getEnergy=True, groups=groups).getPotentialEnergy()\n",
    "    energy_components.append(('reciprocal', potential))\n",
    "    del context, integrator\n",
    "    return energy_components"
   ]
  },
  {
   "cell_type": "code",
   "execution_count": 22,
   "id": "73d8de79",
   "metadata": {},
   "outputs": [],
   "source": [
    "temperature = 300.0 * unit.kelvin\n",
    "kT = kB * temperature\n",
    "beta = 1.0/kT"
   ]
  },
  {
   "cell_type": "code",
   "execution_count": 23,
   "id": "068b1b5d",
   "metadata": {},
   "outputs": [
    {
     "name": "stdout",
     "output_type": "stream",
     "text": [
      "conducting subsequent work with the following platform: CPU\n"
     ]
    },
    {
     "data": {
      "text/plain": [
       "[('HarmonicBondForce', 0.03454256736202116),\n",
       " ('HarmonicAngleForce', 0.6071512895607732),\n",
       " ('PeriodicTorsionForce', 3.2298499815095068),\n",
       " ('NonbondedForce', -9889.983001429402),\n",
       " ('AndersenThermostat', 0.0),\n",
       " ('reciprocal', 0.0)]"
      ]
     },
     "execution_count": 23,
     "metadata": {},
     "output_type": "execute_result"
    }
   ],
   "source": [
    "## CASE 2: alanine dipeptide in solvent\n",
    "# Create vanilla system\n",
    "ala = AlanineDipeptideExplicit()\n",
    "system = ala.system\n",
    "system.removeForce(4)\n",
    "# system.getForce(3).setNonbondedMethod(0)\n",
    "positions = ala.positions\n",
    "topology = ala.topology\n",
    "\n",
    "# Create thermodynamic state and sampler state for non-rest system\n",
    "thermostate_other = ThermodynamicState(system=system, temperature=temperature)\n",
    "\n",
    "# Create context for non-rest system\n",
    "integrator_other = openmm.VerletIntegrator(1.0*unit.femtosecond)\n",
    "context_other = thermostate_other.create_context(integrator_other)\n",
    "context_other.setPositions(ala.positions)\n",
    "\n",
    "compute_potential_components2(context_other)"
   ]
  },
  {
   "cell_type": "code",
   "execution_count": 26,
   "id": "2b661eca",
   "metadata": {},
   "outputs": [
    {
     "name": "stdout",
     "output_type": "stream",
     "text": [
      "conducting subsequent work with the following platform: CPU\n"
     ]
    },
    {
     "data": {
      "text/plain": [
       "[('HarmonicBondForce', 0.03454256736202116),\n",
       " ('HarmonicAngleForce', 0.6071512895607732),\n",
       " ('PeriodicTorsionForce', 3.2298499815095068),\n",
       " ('NonbondedForce', 70688.90357261203),\n",
       " ('AndersenThermostat', 0.0),\n",
       " ('reciprocal', -80578.88657404146)]"
      ]
     },
     "execution_count": 26,
     "metadata": {},
     "output_type": "execute_result"
    }
   ],
   "source": [
    "## CASE 2: alanine dipeptide in solvent\n",
    "# Create vanilla system\n",
    "ala = AlanineDipeptideExplicit()\n",
    "system = ala.system\n",
    "system.removeForce(4)\n",
    "# system.getForce(3).setNonbondedMethod(0)\n",
    "positions = ala.positions\n",
    "topology = ala.topology\n",
    "\n",
    "system.getForce(3).setReciprocalSpaceForceGroup(31) # Move reciprocal space to group 31\n",
    "\n",
    "## COMMENT IN THE 2 LINES IN COMPUTE_POTENTIAL_COMPONENTS2 ##\n",
    "\n",
    "# Create thermodynamic state and sampler state for non-rest system\n",
    "thermostate_other = ThermodynamicState(system=system, temperature=temperature)\n",
    "\n",
    "# Create context for non-rest system\n",
    "integrator_other = openmm.VerletIntegrator(1.0*unit.femtosecond)\n",
    "context_other = thermostate_other.create_context(integrator_other)\n",
    "context_other.setPositions(ala.positions)\n",
    "\n",
    "compute_potential_components2(context_other)"
   ]
  },
  {
   "cell_type": "markdown",
   "id": "1a842b85",
   "metadata": {},
   "source": [
    "The reciprocal and nonbonded force energies here, when added together, match the og nonbonded force energy. And non of the valence energies have changed. Therefore, groups=1 << i is the same as groups = set{[i]} and the way im setting the reciprocal space group is correct."
   ]
  }
 ],
 "metadata": {
  "kernelspec": {
   "display_name": "Python 3 (ipykernel)",
   "language": "python",
   "name": "python3"
  },
  "language_info": {
   "codemirror_mode": {
    "name": "ipython",
    "version": 3
   },
   "file_extension": ".py",
   "mimetype": "text/x-python",
   "name": "python",
   "nbconvert_exporter": "python",
   "pygments_lexer": "ipython3",
   "version": "3.9.7"
  }
 },
 "nbformat": 4,
 "nbformat_minor": 5
}
