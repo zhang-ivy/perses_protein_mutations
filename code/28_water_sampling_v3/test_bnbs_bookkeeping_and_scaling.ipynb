{
 "cells": [
  {
   "cell_type": "code",
   "execution_count": 1,
   "id": "5fc113a6",
   "metadata": {},
   "outputs": [
    {
     "name": "stderr",
     "output_type": "stream",
     "text": [
      "Warning: importing 'simtk.openmm' is deprecated.  Import 'openmm' instead.\n",
      "INFO:rdkit:Enabling RDKit 2021.03.5 jupyter extensions\n"
     ]
    },
    {
     "name": "stdout",
     "output_type": "stream",
     "text": [
      "conducting subsequent work with the following platform: CUDA\n"
     ]
    },
    {
     "name": "stderr",
     "output_type": "stream",
     "text": [
      "DEBUG:matplotlib:matplotlib data path: /home/zhangi/miniconda3/envs/perses-rest2v3/lib/python3.9/site-packages/matplotlib/mpl-data\n",
      "DEBUG:matplotlib:CONFIGDIR=/home/zhangi/.config/matplotlib\n",
      "DEBUG:matplotlib:matplotlib version 3.4.3\n",
      "DEBUG:matplotlib:interactive is False\n",
      "DEBUG:matplotlib:platform is linux\n",
      "DEBUG:matplotlib:loaded modules: ['sys', 'builtins', '_frozen_importlib', '_imp', '_thread', '_warnings', '_weakref', '_io', 'marshal', 'posix', '_frozen_importlib_external', 'time', 'zipimport', '_codecs', 'codecs', 'encodings.aliases', 'encodings', 'encodings.utf_8', '_signal', 'encodings.latin_1', '_abc', 'abc', 'io', '__main__', '_stat', 'stat', '_collections_abc', 'genericpath', 'posixpath', 'os.path', 'os', '_sitebuiltins', '_locale', '_bootlocale', 'types', 'importlib._bootstrap', 'importlib._bootstrap_external', 'warnings', 'importlib', 'importlib.machinery', '_heapq', 'heapq', 'itertools', 'keyword', '_operator', 'operator', 'reprlib', '_collections', 'collections', 'collections.abc', '_functools', 'functools', 'contextlib', 'enum', '_sre', 'sre_constants', 'sre_parse', 'sre_compile', 'copyreg', 're', 'typing.io', 'typing.re', 'typing', 'importlib.abc', 'importlib.util', 'mpl_toolkits', 'sphinxcontrib', 'sitecustomize', 'site', '_weakrefset', 'weakref', 'pkgutil', 'runpy', 'ipykernel._version', '_json', 'json.scanner', 'json.decoder', 'json.encoder', 'json', 'errno', 'signal', 'threading', 'pwd', 'grp', '_posixsubprocess', 'select', 'math', 'selectors', 'subprocess', 'jupyter_client._version', 'fnmatch', 'glob', '_socket', 'array', 'socket', 'zlib', '_compression', '_bz2', 'bz2', '_lzma', 'lzma', 'shutil', '_bisect', 'bisect', '_random', '_sha512', 'random', 'tempfile', 'termios', 'getpass', 'platform', '_ctypes', '_struct', 'struct', 'ctypes._endian', 'ctypes', 'zmq.backend.select', 'cython_runtime', 'zmq.backend.cython.constants', '_cython_0_29_24', 'zmq.backend.cython.error', 'zmq.error', 'zmq.backend.cython.message', 'zmq.backend.cython.context', 'copy', '_compat_pickle', '_pickle', 'pickle', 'zmq.backend.cython.socket', 'zmq.backend.cython.utils', 'zmq.backend.cython._poll', 'zmq.backend.cython._version', 'zmq.backend.cython._device', 'zmq.backend.cython._proxy_steerable', 'zmq.backend.cython', 'zmq.backend', 'zmq.utils', 'zmq.utils.constant_names', 'zmq.sugar.constants', 'atexit', 'zmq.sugar.attrsettr', 'zmq.sugar.poll', 'zmq.utils.jsonapi', 'zmq.utils.strtypes', 'zmq.sugar.socket', 'zmq.sugar.context', 'zmq.sugar.frame', 'zmq.sugar.tracker', 'zmq.sugar.version', 'zmq.sugar.stopwatch', 'zmq.sugar', 'zmq', '_ast', 'ast', '_opcode', 'opcode', 'dis', 'token', 'tokenize', 'linecache', 'inspect', 'traitlets.utils', 'traitlets.utils.getargspec', 'traitlets.utils.importstring', 'traitlets.utils.sentinel', 'traitlets.utils.bunch', 'traitlets.utils.descriptions', 'traitlets.traitlets', 'traitlets.utils.decorators', 'traitlets._version', 'traitlets', 'traceback', '_string', 'string', 'logging', 'pprint', 'gettext', 'argparse', 'traitlets.config.loader', 'textwrap', 'traitlets.utils.text', 'traitlets.config.configurable', 'traitlets.config.application', 'traitlets.config', 'jupyter_client.localinterfaces', 'jupyter_core.version', 'jupyter_core', 'ntpath', 'urllib', 'urllib.parse', 'pathlib', 'jupyter_core.paths', 'jupyter_client.utils', 'jupyter_client.connect', 'traitlets.log', 'jupyter_client.launcher', 'concurrent', 'concurrent.futures._base', 'concurrent.futures', '_ssl', 'binascii', 'base64', 'ssl', 'asyncio.constants', 'asyncio.format_helpers', 'asyncio.base_futures', 'asyncio.log', 'asyncio.coroutines', '_contextvars', 'contextvars', 'asyncio.exceptions', 'asyncio.base_tasks', '_asyncio', 'asyncio.events', 'asyncio.futures', 'asyncio.protocols', 'asyncio.transports', 'asyncio.sslproto', 'asyncio.locks', 'asyncio.tasks', 'asyncio.staggered', 'asyncio.trsock', 'asyncio.base_events', 'asyncio.runners', 'asyncio.queues', 'asyncio.streams', 'asyncio.subprocess', 'asyncio.threads', 'asyncio.base_subprocess', 'asyncio.selector_events', 'asyncio.unix_events', 'asyncio', 'jupyter_client.channelsabc', 'jupyter_client.channels', 'jupyter_client.clientabc', 'jupyter_client.client', 'jupyter_client.kernelspec', 'jupyter_client.managerabc', 'jupyter_client.manager', '_queue', 'queue', 'jupyter_client.blocking.channels', 'jupyter_client.blocking.client', 'jupyter_client.blocking', 'zmq._future', 'zmq.asyncio', 'jupyter_client.asynchronous.channels', 'jupyter_client.asynchronous.client', 'jupyter_client.asynchronous', 'uuid', 'jupyter_client.multikernelmanager', 'jupyter_client', 'ipykernel.connect', 'ipykernel', 'tornado', '_datetime', 'datetime', 'numbers', 'logging.handlers', 'html.entities', 'html', 'tornado.speedups', 'tornado.util', 'tornado.escape', 'colorama.ansi', 'colorama.win32', 'colorama.winterm', 'colorama.ansitowin32', 'colorama.initialise', 'colorama', '_curses', 'curses', 'tornado.log', 'tornado.concurrent', 'tornado.ioloop', '__future__', 'tornado.platform', 'tornado.gen', 'tornado.platform.asyncio', 'zmq.eventloop.ioloop', 'zmq.eventloop', 'zmq.eventloop.zmqstream', 'IPython.core', 'IPython.core.getipython', 'IPython.core.release', 'sysconfig', '_sysconfigdata_x86_64_conda_cos6_linux_gnu', 'pydoc', 'bdb', 'IPython.utils', 'IPython.utils.ipstruct', 'IPython.utils.coloransi', 'pygments', 'IPython.utils.colorable', 'IPython.utils.PyColorize', 'locale', 'IPython.utils.encoding', 'IPython.utils.py3compat', 'IPython.core.excolors', 'IPython.testing', 'IPython.testing.skipdoctest', 'cmd', 'codeop', 'code', 'pdb', 'IPython.core.debugger', 'IPython.core.display_trap', 'pexpect.exceptions', 'pexpect.utils', 'pexpect.expect', 'tty', 'pty', 'fcntl', 'resource', 'ptyprocess.util', 'ptyprocess.ptyprocess', 'ptyprocess', 'pexpect.spawnbase', 'pexpect.pty_spawn', 'pexpect.run', 'pexpect', 'shlex', 'IPython.utils._process_common', 'IPython.utils._process_posix', 'IPython.utils.process', 'IPython.utils.decorators', 'IPython.utils.path', 'IPython.utils.data', 'IPython.utils.terminal', 'IPython.core.ultratb', 'IPython.utils._sysinfo', 'IPython.utils.sysinfo', 'IPython.core.crashhandler', 'IPython.utils.importstring', 'IPython.paths', 'IPython.core.profiledir', 'IPython.core.application', 'IPython.terminal', '_hashlib', '_blake2', 'hashlib', 'IPython.core.compilerop', 'IPython.core.error', 'IPython.utils.text', 'IPython.core.magic_arguments', 'getopt', 'mimetypes', 'IPython.core.display', 'IPython.core.page', 'IPython.lib.security', 'IPython.lib', 'IPython.lib.pretty', 'IPython.utils.openpy', 'IPython.utils.dir2', 'IPython.utils.wildcard', 'pygments.lexers._mapping', 'pygments.modeline', 'pygments.plugin', 'pygments.util', 'pygments.lexers', 'pygments.filter', 'pygments.token', 'pygments.filters', 'pygments.regexopt', 'pygments.lexer', 'pygments.unistring', 'pygments.lexers.python', 'pygments.formatters._mapping', 'pygments.formatters', 'pygments.styles', 'pygments.formatter', 'pygments.formatters.html', 'IPython.core.oinspect', 'IPython.core.inputtransformer2', 'decorator', 'IPython.core.magic', 'pickleshare', 'IPython.core.autocall', 'IPython.core.macro', 'IPython.core.splitinput', 'IPython.core.prefilter', 'IPython.core.alias', 'IPython.core.builtin_trap', 'backcall.backcall', 'backcall', 'IPython.core.events', 'IPython.core.displayhook', 'IPython.core.displaypub', 'IPython.core.extensions', 'IPython.utils.sentinel', 'IPython.core.formatters', '_sqlite3', 'sqlite3.dbapi2', 'sqlite3', 'IPython.core.history', 'IPython.core.logger', 'IPython.core.payload', 'IPython.core.usage', 'IPython.lib.display', 'IPython.display', 'IPython.utils.capture', 'IPython.utils.io', 'IPython.core.hooks', 'IPython.utils.strdispatch', 'IPython.utils.syspathcontext', 'IPython.utils.tempdir', 'IPython.utils.contexts', 'IPython.core.async_helpers', 'IPython.core.interactiveshell', 'prompt_toolkit.application.current', 'prompt_toolkit.eventloop.utils', 'prompt_toolkit.eventloop.async_generator', 'wcwidth.table_wide', 'wcwidth.table_zero', 'wcwidth.unicode_versions', 'wcwidth.wcwidth', 'wcwidth', 'prompt_toolkit.utils', 'prompt_toolkit.eventloop.inputhook', 'prompt_toolkit.eventloop', 'prompt_toolkit.application.run_in_terminal', 'prompt_toolkit.selection', 'prompt_toolkit.clipboard.base', 'prompt_toolkit.clipboard.in_memory', 'prompt_toolkit.clipboard', 'prompt_toolkit.cache', 'prompt_toolkit.enums', 'prompt_toolkit.filters.base', 'prompt_toolkit.filters.app', 'prompt_toolkit.filters.cli', 'prompt_toolkit.filters.utils', 'prompt_toolkit.filters', 'prompt_toolkit.document', 'prompt_toolkit.auto_suggest', 'prompt_toolkit.data_structures', 'prompt_toolkit.styles.base', 'prompt_toolkit.styles.named_colors', 'prompt_toolkit.styles.style', 'prompt_toolkit.styles.defaults', 'prompt_toolkit.styles.pygments', 'colorsys', 'prompt_toolkit.styles.style_transformation', 'prompt_toolkit.styles', 'prompt_toolkit.output.color_depth', 'prompt_toolkit.output.base', 'prompt_toolkit.output.defaults', 'prompt_toolkit.output', 'prompt_toolkit.output.vt100', 'prompt_toolkit.mouse_events', 'prompt_toolkit.formatted_text.base', 'prompt_toolkit.formatted_text.ansi', 'xml', 'xml.dom.domreg', 'xml.dom', 'xml.dom.minicompat', 'xml.dom.NodeFilter', 'xml.dom.xmlbuilder', 'xml.dom.minidom', 'prompt_toolkit.formatted_text.html', 'prompt_toolkit.formatted_text.pygments', 'prompt_toolkit.formatted_text.utils', 'prompt_toolkit.formatted_text', 'prompt_toolkit.completion.base', 'prompt_toolkit.completion.deduplicate', 'prompt_toolkit.completion.filesystem', 'prompt_toolkit.completion.word_completer', 'prompt_toolkit.completion.fuzzy_completer', 'prompt_toolkit.completion.nested', 'prompt_toolkit.completion', 'prompt_toolkit.history', 'prompt_toolkit.keys', 'prompt_toolkit.key_binding.key_bindings', 'prompt_toolkit.key_binding.key_processor', 'prompt_toolkit.key_binding', 'prompt_toolkit.key_binding.vi_state', 'prompt_toolkit.search', 'prompt_toolkit.validation', 'prompt_toolkit.buffer', 'prompt_toolkit.input.base', 'prompt_toolkit.input.defaults', 'prompt_toolkit.input', 'prompt_toolkit.input.typeahead', 'prompt_toolkit.key_binding.bindings', 'prompt_toolkit.key_binding.bindings.scroll', 'prompt_toolkit.key_binding.bindings.page_navigation', 'prompt_toolkit.lexers.base', 'prompt_toolkit.lexers.pygments', 'prompt_toolkit.lexers', 'prompt_toolkit.layout.utils', 'prompt_toolkit.layout.processors', 'prompt_toolkit.layout.controls', 'prompt_toolkit.layout.dimension', 'prompt_toolkit.layout.margins', 'prompt_toolkit.layout.mouse_handlers', 'prompt_toolkit.layout.screen', 'prompt_toolkit.layout.containers', 'prompt_toolkit.layout.layout', 'prompt_toolkit.layout.menus', 'prompt_toolkit.layout.scrollable_pane', 'prompt_toolkit.layout', 'prompt_toolkit.key_binding.bindings.completion', 'prompt_toolkit.key_binding.bindings.named_commands', 'prompt_toolkit.key_binding.bindings.basic', 'prompt_toolkit.key_binding.bindings.cpr', 'prompt_toolkit.key_binding.bindings.emacs', 'prompt_toolkit.key_binding.bindings.mouse', 'prompt_toolkit.input.ansi_escape_sequences', 'prompt_toolkit.input.vt100_parser', 'prompt_toolkit.key_binding.digraphs', 'prompt_toolkit.key_binding.bindings.vi', 'prompt_toolkit.key_binding.defaults', 'prompt_toolkit.key_binding.emacs_state', 'prompt_toolkit.layout.dummy', 'prompt_toolkit.renderer', 'prompt_toolkit.application.application', 'prompt_toolkit.application.dummy', 'prompt_toolkit.application', 'prompt_toolkit.key_binding.bindings.focus', 'prompt_toolkit.widgets.toolbars', 'prompt_toolkit.widgets.base', 'prompt_toolkit.widgets.dialogs', 'prompt_toolkit.widgets.menus', 'prompt_toolkit.widgets', 'prompt_toolkit.shortcuts.dialogs', 'prompt_toolkit.shortcuts.progress_bar.formatters', 'prompt_toolkit.shortcuts.progress_bar.base', 'prompt_toolkit.shortcuts.progress_bar', 'prompt_toolkit.key_binding.bindings.auto_suggest', 'prompt_toolkit.key_binding.bindings.open_in_editor', 'prompt_toolkit.shortcuts.prompt', 'prompt_toolkit.shortcuts.utils', 'prompt_toolkit.shortcuts', 'prompt_toolkit', 'prompt_toolkit.patch_stdout', 'pygments.style', 'unicodedata', 'IPython.core.latex_symbols', 'IPython.utils.generics', 'parso.utils', 'parso.tree', 'parso.python', 'parso.python.token', 'parso.python.tokenize', 'parso.pgen2.grammar_parser', 'parso.pgen2.generator', 'parso.pgen2', 'parso.parser', 'parso._compatibility', 'difflib', 'parso.python.prefix', 'parso.python.tree', 'parso.python.parser', 'parso.python.diff', 'gc', 'parso.cache', 'parso.normalizer', 'parso.python.errors', 'parso.python.pep8', 'parso.file_io', 'parso.grammar', 'parso', 'jedi._compatibility', 'jedi.parser_utils', 'jedi.debug', 'jedi.settings', 'jedi.cache', 'jedi.file_io', 'jedi.inference.cache', 'jedi.inference.helpers', 'jedi.inference.utils', 'jedi.inference.base_value', 'jedi.inference.sys_path', 'jedi.inference.recursion', 'jedi.inference.flow_analysis', 'jedi.common', 'jedi.inference.lazy_value', 'jedi.inference.docstrings', 'jedi.plugins', 'jedi.inference.names', 'jedi.inference.filters', 'jedi.inference.compiled.getattr_static', 'jedi.inference.compiled.access', 'jedi.inference.signature', 'jedi.inference.context', 'jedi.inference.compiled.value', 'jedi.inference.compiled', 'jedi.inference.analysis', 'jedi.inference.gradual', 'jedi.inference.value.module', 'jedi.inference.value.dynamic_arrays', 'jedi.inference.value.iterable', 'jedi.inference.arguments', 'jedi.inference.parser_cache', 'jedi.inference.gradual.generics', 'jedi.inference.value.function', 'jedi.inference.value.klass', 'jedi.inference.value.instance', 'jedi.inference.value', 'jedi.inference.gradual.base', 'jedi.inference.gradual.type_var', 'jedi.inference.gradual.typing', 'jedi.inference.gradual.stub_value', 'jedi.inference.gradual.typeshed', 'jedi.inference.compiled.subprocess.functions', 'jedi.api.exceptions', 'jedi.inference.compiled.subprocess', 'jedi.inference.imports', 'jedi.inference.param', 'jedi.inference.gradual.annotation', 'jedi.inference.value.decorator', 'jedi.inference.syntax_tree', 'jedi.inference', 'jedi.inference.gradual.conversion', 'jedi.inference.compiled.mixed', 'pydoc_data', 'pydoc_data.topics', 'jedi.api.keywords', 'jedi.api.completion_cache', 'jedi.api.helpers', 'jedi.api.classes', 'jedi.api.interpreter', 'jedi.api.strings', 'jedi.api.file_name', 'jedi.api.completion', 'filecmp', 'jedi.api.environment', 'jedi.inference.references', 'jedi.api.project', 'jedi.api.errors', 'jedi.api.refactoring', 'jedi.api.refactoring.extract', 'jedi.inference.gradual.utils', 'jedi.api', 'jedi.plugins.stdlib', 'jedi.plugins.flask', 'jedi.plugins.pytest', 'jedi.plugins.django', 'jedi.plugins.registry', 'jedi', 'IPython.core.completer', 'IPython.terminal.ptutils', 'IPython.terminal.shortcuts', 'IPython.terminal.debugger', 'IPython.lib.clipboard', 'IPython.terminal.magics', 'IPython.terminal.pt_inputhooks', 'IPython.terminal.prompts', 'IPython.terminal.interactiveshell', 'IPython.core.magics.auto', 'IPython.core.magics.basic', 'email', 'http', 'email.errors', 'email.quoprimime', 'email.base64mime', 'quopri', 'email.encoders', 'email.charset', 'email.header', 'calendar', 'email._parseaddr', 'email.utils', 'email._policybase', 'email.feedparser', 'email.parser', 'uu', 'email._encoded_words', 'email.iterators', 'email.message', 'http.client', 'urllib.response', 'urllib.error', 'urllib.request', 'IPython.core.magics.code', 'IPython.core.magics.config', 'IPython.core.magics.display', 'timeit', '_lsprof', 'profile', 'cProfile', 'dataclasses', 'pstats', 'IPython.utils.module_paths', 'IPython.utils.timing', 'IPython.core.magics.execution', 'IPython.core.magics.extension', 'IPython.core.magics.history', 'IPython.core.magics.logging', 'IPython.core.magics.namespace', 'IPython.core.magics.osm', 'IPython.core.magics.packaging', 'IPython.core.pylabtools', 'IPython.core.magics.pylab', 'IPython.lib.backgroundjobs', 'IPython.core.magics.script', 'IPython.core.magics', 'IPython.core.shellapp', 'IPython.extensions', 'IPython.extensions.storemagic', 'IPython.terminal.ipapp', 'IPython.terminal.embed', 'IPython.utils.frame', 'IPython', 'ipython_genutils._version', 'ipython_genutils', 'ipython_genutils.encoding', 'ipython_genutils.py3compat', 'ipython_genutils.path', 'imp', 'hmac', 'dateutil._version', 'dateutil', 'six', '_decimal', 'decimal', 'dateutil._common', 'dateutil.relativedelta', 'six.moves', 'dateutil.tz._common', 'dateutil.tz._factories', 'dateutil.tz.tz', 'dateutil.tz', 'dateutil.parser._parser', 'dateutil.parser.isoparser', 'dateutil.parser', '_strptime', 'jupyter_client.jsonutil', 'jupyter_client.adapter', 'jupyter_client.session', 'ipykernel.iostream', 'ipykernel.control', 'ipykernel.heartbeat', 'IPython.utils.tokenutil', 'tornado.locks', 'tornado.queues', 'ipykernel.jsonutil', 'ipykernel.kernelbase', 'ipykernel.comm.comm', 'ipykernel.comm.manager', 'ipykernel.comm', 'IPython.core.payloadpage', 'ipykernel.displayhook', 'ipykernel.zmqshell', 'distutils', 'distutils.version', 'ipykernel.eventloops', 'ipykernel.compiler', 'debugpy._version', 'debugpy.common', 'debugpy.common.json', 'debugpy.common.fmt', 'debugpy.common.compat', 'debugpy', 'debugpy._vendored._util', 'debugpy._vendored', '_pydevd_bundle', 'encodings.ascii', 'stringprep', 'encodings.idna', '_pydevd_bundle.pydevd_vm_type', '_pydev_imps', 'xmlrpc', 'xml.parsers', 'pyexpat.errors', 'pyexpat.model', 'pyexpat', 'xml.parsers.expat.model', 'xml.parsers.expat.errors', 'xml.parsers.expat', 'gzip', 'xmlrpc.client', 'socketserver', 'http.server', 'xmlrpc.server', '_pydev_imps._pydev_saved_modules', '_pydevd_bundle.pydevd_constants', '_pydev_bundle', '_pydev_runfiles', '_pydevd_frame_eval', 'pydev_ipython', 'pydevd_concurrency_analyser', 'zipfile', 'plistlib', 'pkg_resources.extern', 'pkg_resources._vendor', 'pkg_resources._vendor.appdirs', 'pkg_resources.extern.appdirs', 'pkg_resources._vendor.packaging.__about__', 'pkg_resources._vendor.packaging', 'pkg_resources.extern.packaging', 'pkg_resources.extern.packaging._structures', 'pkg_resources.extern.packaging._typing', 'pkg_resources.extern.packaging.version', 'pkg_resources.extern.packaging._compat', 'pkg_resources.extern.packaging.utils', 'pkg_resources.extern.packaging.specifiers', 'pkg_resources._vendor.pyparsing', 'pkg_resources.extern.pyparsing', 'pkg_resources.extern.packaging.markers', 'pkg_resources.extern.packaging.requirements', 'encodings.cp437', 'pkg_resources', 'pydevd_plugins', '_pydev_bundle.pydev_log', '_pydev_bundle._pydev_filesystem_encoding', '_pydevd_bundle.pydevd_comm_constants', 'pydevd_file_utils', '_pydev_imps._pydev_execfile', '_pydevd_bundle.pydevd_exec2', '_pydev_bundle.pydev_imports', '_pydev_bundle.pydev_is_thread_alive', '_pydev_bundle.pydev_override', 'pydevd_plugins.extensions', '_pydevd_bundle.pydevd_extension_utils', '_pydevd_bundle.pydevd_frame_utils', '_pydevd_bundle.pydevd_filtering', '_pydevd_bundle.pydevd_io', '_pydevd_bundle.pydevd_utils', '_pydev_bundle._pydev_tipper_common', '_pydev_bundle._pydev_imports_tipper', '_pydev_bundle._pydev_calltip_util', '_pydevd_bundle.pydevd_safe_repr', '_pydevd_bundle.pydevd_resolver', '_pydevd_bundle.pydevd_extension_api', '_pydevd_bundle.pydevd_xml', '_pydevd_bundle.pydevd_dont_trace', '_pydevd_frame_eval.vendored', '_pydevd_frame_eval.vendored.bytecode.flags', '_pydevd_frame_eval.vendored.bytecode.instr', '_pydevd_frame_eval.vendored.bytecode.bytecode', '_pydevd_frame_eval.vendored.bytecode.concrete', '_pydevd_frame_eval.vendored.bytecode.cfg', '_pydevd_frame_eval.vendored.bytecode', '_pydevd_bundle.pydevd_bytecode_utils', '_pydevd_bundle.pydevd_cython', '_pydevd_bundle.pydevd_cython_wrapper', '_pydevd_bundle.pydevd_additional_thread_info', '_pydevd_bundle.pydevd_thread_lifecycle', '_pydevd_bundle.pydevd_save_locals', '_pydevd_bundle.pydevd_defaults', '_pydev_bundle.pydev_monkey', 'pydevd_tracing', '_pydevd_bundle.pydevd_daemon_thread', '_pydevd_bundle.pydevd_timeout', '_pydevd_bundle.pydevd_vars', '_pydev_bundle.pydev_console_utils', '_pydevd_bundle.pydevd_import_class', '_pydevd_bundle.pydevd_breakpoints', '_pydevd_bundle.pydevd_custom_frames', '_pydevd_bundle.pydevd_dont_trace_files', '_pydevd_bundle.pydevd_net_command', '_pydev_bundle.pydev_umd', 'pydevconsole', '_pydev_bundle._pydev_completer', '_pydevd_bundle.pydevd_net_command_factory_xml', '_pydevd_bundle.pydevd_frame', '_pydevd_bundle.pydevd_additional_thread_info_regular', '_pydevd_bundle.pydevd_trace_dispatch', '_pydevd_frame_eval.pydevd_frame_eval_main', '_pydevd_bundle.pydevd_source_mapping', 'pydevd_concurrency_analyser.pydevd_thread_wrappers', 'pydevd_concurrency_analyser.pydevd_concurrency_logger', '_pydevd_bundle._debug_adapter', '_pydevd_bundle._debug_adapter.pydevd_schema_log', '_pydevd_bundle._debug_adapter.pydevd_base_schema', '_pydevd_bundle._debug_adapter.pydevd_schema', '_pydevd_bundle.pydevd_reload', '_pydev_bundle.fsnotify', '_pydevd_bundle.pydevd_console', '_pydevd_bundle.pydevd_comm', '_pydevd_bundle.pydevd_net_command_factory_json', '_pydevd_bundle.pydevd_collect_bytecode_info', '_pydevd_bundle.pydevd_api', '_pydevd_bundle.pydevd_json_debug_options', '_pydevd_bundle.pydevd_process_net_command_json', '_pydevd_bundle.pydevd_traceproperty', '_pydevd_bundle.pydevd_process_net_command', '_pydevd_bundle.pydevd_suspended_frames', '_pydevd_bundle.pydevd_trace_api', 'pydevd_plugins.django_debug', 'pydevd_plugins.jinja2_debug', '_pydevd_bundle.pydevd_plugin_utils', 'pydevd_plugins.extensions.types', 'pydevd_plugins.extensions.types.pydevd_helpers', 'pydevd_plugins.extensions.types.pydevd_plugin_numpy_types', 'pydevd_plugins.extensions.types.pydevd_plugins_django_form_str', 'pydevd', 'debugpy._vendored.force_pydevd', 'debugpy.server', 'debugpy.adapter', 'debugpy.common.timestamp', 'debugpy.common.util', 'debugpy.common.log', 'debugpy.common.sockets', 'debugpy.server.api', 'ipykernel.debugger', 'ipykernel.ipkernel', 'ipykernel.parentpoller', 'ipykernel.kernelapp', 'faulthandler', 'IPython.core.completerlib', 'storemagic', 'openeye', 'libs', 'libs.openeye_platform', 'swig_runtime_data4', '_oechem3111', 'openeye.oechem', 'oechem', 'numpy._globals', 'numpy.__config__', 'numpy._version', 'numpy._distributor_init', 'numpy.version', 'numpy.core._multiarray_umath', 'numpy.compat._inspect', 'numpy.compat.py3k', 'numpy.compat', 'numpy.core.overrides', 'numpy.core.multiarray', 'numpy.core.umath', 'numpy.core._string_helpers', 'numpy.core._dtype', 'numpy.core._type_aliases', 'numpy.core.numerictypes', 'numpy.core._exceptions', 'numpy.core._methods', 'numpy.core.fromnumeric', 'numpy.core.shape_base', 'numpy.core._ufunc_config', 'numpy.core.arrayprint', 'numpy.core._asarray', 'numpy.core.numeric', 'numpy.core.defchararray', 'numpy.core.records', 'numpy.core.memmap', 'numpy.core.function_base', 'numpy.core.machar', 'numpy.core.getlimits', 'numpy.core.einsumfunc', 'numpy.core._multiarray_tests', 'numpy.core._add_newdocs', 'numpy.core._add_newdocs_scalars', 'numpy.core._dtype_ctypes', 'numpy.core._internal', 'numpy._pytesttester', 'numpy.core', 'numpy.lib.mixins', 'numpy.lib.ufunclike', 'numpy.lib.type_check', 'numpy.lib.scimath', 'numpy.lib.stride_tricks', 'numpy.lib.twodim_base', 'numpy.linalg.lapack_lite', 'numpy.linalg._umath_linalg', 'numpy.linalg.linalg', 'numpy.linalg', 'numpy.matrixlib.defmatrix', 'numpy.matrixlib', 'numpy.lib.histograms', 'numpy.lib.function_base', 'numpy.lib.index_tricks', 'numpy.lib.nanfunctions', 'numpy.lib.shape_base', 'numpy.lib.polynomial', 'numpy.lib.utils', 'numpy.lib.arraysetops', 'numpy.lib.format', 'numpy.lib._datasource', 'numpy.lib._iotools', 'numpy.lib.npyio', 'numpy.lib.arrayterator', 'numpy.lib.arraypad', 'numpy.lib._version', 'numpy.lib', 'numpy.fft._pocketfft_internal', 'numpy.fft._pocketfft', 'numpy.fft.helper', 'numpy.fft', 'numpy.polynomial.polyutils', 'numpy.polynomial._polybase', 'numpy.polynomial.polynomial', 'numpy.polynomial.chebyshev', 'numpy.polynomial.legendre', 'numpy.polynomial.hermite', 'numpy.polynomial.hermite_e', 'numpy.polynomial.laguerre', 'numpy.polynomial', 'numpy.random._common', 'secrets', 'numpy.random.bit_generator', 'numpy.random._bounded_integers', 'numpy.random._mt19937', 'numpy.random.mtrand', 'numpy.random._philox', 'numpy.random._pcg64', 'numpy.random._sfc64', 'numpy.random._generator', 'numpy.random._pickle', 'numpy.random', 'numpy.ctypeslib', 'numpy.ma.core', 'numpy.ma.extras', 'numpy.ma', 'numpy', 'scipy._lib._testutils', 'scipy._lib', 'scipy._lib.deprecation', 'scipy.__config__', 'scipy.version', 'scipy._distributor_init', 'scipy._lib._pep440', 'scipy._lib._ccallback_c', 'scipy._lib._ccallback', 'scipy', 'scipy.special.sf_error', 'scipy.special._ufuncs_cxx', 'scipy.special._ufuncs', 'scipy.special.specfun', 'scipy.linalg._fblas', 'scipy.linalg.blas', 'scipy.linalg._flapack', 'scipy._lib._util', 'scipy.linalg.lapack', 'scipy.linalg.misc', 'scipy.linalg._flinalg', 'scipy.linalg.flinalg', 'scipy.linalg.decomp', 'scipy.linalg.decomp_svd', 'scipy.linalg._solve_toeplitz', 'scipy.linalg.basic', 'scipy.linalg.decomp_lu', 'scipy.linalg._decomp_ldl', 'scipy.linalg.decomp_cholesky', 'scipy.linalg.decomp_qr', 'scipy.linalg._decomp_qz', 'scipy.linalg.decomp_schur', 'scipy.linalg._decomp_polar', 'scipy.linalg.special_matrices', 'scipy.linalg._expm_frechet', 'scipy.linalg._matfuncs_sqrtm_triu', 'scipy.linalg._matfuncs_sqrtm', 'scipy.linalg.matfuncs', 'scipy.linalg._solvers', 'scipy.linalg._procrustes', 'scipy.linalg.cython_blas', 'scipy.linalg.cython_lapack', 'scipy.linalg._decomp_update', 'scipy.sparse.sputils', 'scipy.sparse.base', 'scipy.sparse._sparsetools', 'scipy.sparse.data', 'scipy.sparse.dia', 'scipy.sparse._index', 'scipy.sparse.compressed', 'scipy.sparse.csr', 'scipy.sparse.csc', 'scipy.sparse._csparsetools', 'scipy.sparse.lil', 'scipy.sparse.dok', 'scipy.sparse.coo', 'scipy.sparse.bsr', 'scipy.sparse.construct', 'scipy.sparse.extract', 'scipy.sparse._matrix_io', 'scipy.sparse.csgraph._laplacian', 'scipy.sparse.csgraph._tools', 'scipy.sparse.csgraph._validation', 'scipy.sparse.csgraph._shortest_path', 'scipy.sparse.csgraph._traversal', 'scipy.sparse.csgraph._min_spanning_tree', 'scipy.sparse.csgraph._flow', 'scipy.sparse.csgraph._matching', 'scipy.sparse.csgraph._reordering', 'scipy.sparse.csgraph', 'scipy.sparse', 'scipy.linalg._sketches', 'scipy.linalg._decomp_cossin', 'scipy.linalg', 'scipy.special.orthogonal', 'scipy.special._comb', 'scipy.special._basic', 'scipy.special._logsumexp', 'scipy.special.spfun_stats', 'scipy.special._ellip_harm_2', 'scipy.special._ellip_harm', 'scipy.special._lambertw', 'scipy.special._spherical_bessel', 'scipy.special', 'scipy.integrate._quadrature', 'scipy.integrate._odepack', 'scipy.integrate.odepack', 'scipy.integrate._quadpack', 'scipy.integrate.quadpack', 'scipy.integrate.vode', 'scipy.integrate._dop', 'scipy.integrate.lsoda', 'scipy.integrate._ode', 'scipy.sparse.linalg.isolve._iterative', 'scipy.sparse.linalg.interface', 'scipy.sparse.linalg.isolve.utils', 'scipy._lib.decorator', 'scipy._lib._threadsafety', 'scipy.sparse.linalg.isolve.iterative', 'scipy.sparse.linalg.isolve.minres', 'scipy.sparse.linalg.isolve._gcrotmk', 'scipy.sparse.linalg.isolve.lgmres', 'scipy.sparse.linalg.isolve.lsqr', 'scipy.sparse.linalg.isolve.lsmr', 'scipy.sparse.linalg.isolve', 'scipy.sparse.linalg.dsolve._superlu', 'scipy.sparse.linalg.dsolve.linsolve', 'scipy.sparse.linalg.dsolve._add_newdocs', 'scipy.sparse.linalg.dsolve', 'scipy.sparse.linalg.eigen.arpack._arpack', 'scipy.sparse.linalg.eigen.lobpcg.lobpcg', 'scipy.sparse.linalg.eigen.lobpcg', 'scipy.sparse.linalg.eigen.arpack.arpack', 'scipy.sparse.linalg.eigen.arpack', 'scipy.sparse.linalg.eigen', 'scipy.sparse.linalg._expm_multiply', 'scipy.sparse.linalg.matfuncs', 'scipy.sparse.linalg._onenormest', 'scipy.sparse.linalg._norm', 'scipy.sparse.linalg', 'scipy.optimize.minpack2', 'scipy.optimize.linesearch', 'scipy.optimize._group_columns', 'scipy.optimize._numdiff', 'scipy.optimize._hessian_update_strategy', 'scipy.optimize._differentiable_functions', 'scipy.optimize.optimize', 'scipy.optimize._trustregion', 'scipy.optimize._trustregion_dogleg', 'scipy.optimize._trustregion_ncg', 'scipy._lib.messagestream', 'scipy.optimize._trlib._trlib', 'scipy.optimize._trlib', 'scipy.optimize._trustregion_krylov', 'scipy.optimize._trustregion_exact', 'unittest.util', 'unittest.result', 'unittest.case', 'unittest.suite', 'unittest.loader', 'unittest.signals', 'unittest.runner', 'unittest.main', 'unittest', 'numpy.testing._private', 'numpy.testing._private.utils', 'numpy.testing._private.decorators', 'numpy.testing._private.nosetester', 'numpy.testing', 'scipy.optimize._constraints', 'scipy.optimize._trustregion_constr.projections', 'scipy.optimize._trustregion_constr.qp_subproblem', 'scipy.optimize._trustregion_constr.equality_constrained_sqp', 'scipy.optimize._trustregion_constr.canonical_constraint', 'scipy.optimize._trustregion_constr.tr_interior_point', 'scipy.optimize._trustregion_constr.report', 'scipy.optimize._trustregion_constr.minimize_trustregion_constr', 'scipy.optimize._trustregion_constr', 'scipy.optimize._lbfgsb', 'scipy.optimize.lbfgsb', 'scipy.optimize.moduleTNC', 'scipy.optimize.tnc', 'scipy.optimize._cobyla', 'scipy.optimize.cobyla', 'scipy.optimize._slsqp', 'scipy.optimize.slsqp', 'scipy.optimize._minimize', 'scipy.optimize._minpack', 'scipy.optimize._lsq.common', 'scipy.optimize._lsq.trf', 'scipy.optimize._lsq.dogbox', 'scipy.optimize._lsq.least_squares', 'scipy.optimize._lsq.givens_elimination', 'scipy.optimize._lsq.trf_linear', 'scipy.optimize._lsq.bvls', 'scipy.optimize._lsq.lsq_linear', 'scipy.optimize._lsq', 'scipy.optimize.minpack', 'scipy.optimize._spectral', 'scipy.optimize.nonlin', 'scipy.optimize._root', 'scipy.optimize._zeros', 'scipy.optimize.zeros', 'scipy.optimize._root_scalar', 'scipy.optimize.__nnls', 'scipy.optimize._nnls', 'scipy.optimize._basinhopping', 'scipy.optimize._highs', 'scipy.optimize._highs.cython.src._highs_wrapper', 'scipy.optimize._highs._highs_wrapper', 'scipy.optimize._highs.cython.src._highs_constants', 'scipy.optimize._highs._highs_constants', 'scipy.optimize._linprog_highs', 'scipy.linalg._interpolative', 'scipy.linalg._interpolative_backend', 'scipy.linalg.interpolative', 'scipy.optimize._remove_redundancy', 'scipy.optimize._linprog_util', 'scipy.optimize._linprog_ip', 'scipy.optimize._linprog_simplex', 'scipy.optimize._bglu_dense', 'scipy.optimize._linprog_rs', 'scipy.optimize._linprog_doc', 'scipy.optimize._linprog', 'scipy.optimize._lsap_module', 'scipy.optimize._lsap', 'scipy.optimize._differentialevolution', 'scipy.spatial.ckdtree', 'scipy.spatial.kdtree', 'scipy.spatial.qhull', 'scipy.spatial._voronoi', 'scipy.spatial._spherical_voronoi', 'scipy.spatial._plotutils', 'scipy.spatial._procrustes', 'scipy.spatial._distance_wrap', 'scipy.spatial._hausdorff', 'scipy.spatial._distance_pybind', 'scipy.spatial.distance', 'scipy.spatial._geometric_slerp', 'scipy.constants.codata', 'scipy.constants.constants', 'scipy.constants', 'scipy.spatial.transform._rotation_groups', 'scipy.spatial.transform.rotation', 'scipy.spatial.transform._rotation_spline', 'scipy.spatial.transform', 'scipy.spatial', 'scipy.optimize._shgo_lib', 'scipy.optimize._shgo_lib.triangulation', 'scipy.optimize._shgo', 'scipy.optimize._dual_annealing', 'scipy.optimize._qap', 'scipy.optimize', 'scipy.integrate._bvp', 'scipy.integrate._ivp.common', 'scipy.integrate._ivp.base', 'scipy.integrate._ivp.bdf', 'scipy.integrate._ivp.radau', 'scipy.integrate._ivp.dop853_coefficients', 'scipy.integrate._ivp.rk', 'scipy.integrate._ivp.lsoda', 'scipy.integrate._ivp.ivp', 'scipy.integrate._ivp', 'scipy.integrate._quad_vec', 'scipy.integrate', 'openmm.version', 'openmm._openmm', 'openmm.unit.mymatrix', 'openmm.unit.baseunit', 'openmm.unit.basedimension', 'openmm.unit.standard_dimensions', 'openmm.unit.unit', 'openmm.unit.quantity', 'openmm.unit.unit_operators', 'openmm.unit.prefix', 'openmm.unit.unit_definitions', 'openmm.unit.unit_math', 'openmm.unit.constants', 'openmm.unit', 'openmm.vec3', 'openmm.openmm', 'openmm.mtsintegrator', 'openmm.amd', 'openmm', 'simtk', 'xml.etree', 'xml.etree.ElementPath', 'openmm.app.internal', 'openmm.app.internal.singleton', 'openmm.app.topology', 'openmm.app.element', 'openmm.app.internal.unitcell', 'openmm.app.internal.pdbstructure', 'openmm.app.pdbfile', 'openmm.app.internal.pdbx', 'openmm.app.internal.pdbx.reader', 'openmm.app.internal.pdbx.reader.PdbxContainers', 'openmm.app.internal.pdbx.reader.PdbxReader', 'openmm.app.pdbxfile', 'openmm.app.internal.compiled', 'openmm.app.forcefield', 'openmm.app.simulation', 'openmm.app.pdbreporter', 'openmm.app.internal.customgbforces', 'openmm.app.internal.amber_file_parser', 'openmm.app.amberprmtopfile', 'openmm.app.amberinpcrdfile', 'openmm.app.dcdfile', 'openmm.app.gromacsgrofile', 'distutils.errors', 'distutils.debug', 'distutils.log', 'distutils.spawn', 'openmm.app.gromacstopfile', 'openmm.app.dcdreporter', 'openmm.app.modeller', 'openmm.app.statedatareporter', 'openmm.app.desmonddmsfile', 'openmm.app.checkpointreporter', 'openmm.app.internal.charmm', 'openmm.app.internal.charmm.exceptions', 'openmm.app.charmmcrdfiles', 'openmm.app.internal.charmm._charmmfile', 'openmm.app.internal.charmm.topologyobjects', 'openmm.app.charmmparameterset', 'openmm.app.charmmpsffile', 'openmm.app.simulatedtempering', 'openmm.app.metadynamics', 'openmm.app', 'simtk.openmm.app', 'simtk.openmm', 'simtk.unit', 'openmmtools.constants', 'openmmtools.testsystems', 'openmmtools.respa', 'openmmtools.utils', 'openmmtools.integrators', 'openmmtools.forces', 'openmmtools.states', 'mdtraj.utils.delay_import', 'mdtraj.utils.six.moves', 'mdtraj.utils.six.moves.urllib_parse', 'mdtraj.utils.six.moves.urllib.parse', 'mdtraj.utils.six.moves.urllib_error', 'mdtraj.utils.six.moves.urllib.error', 'mdtraj.utils.six.moves.urllib_request', 'mdtraj.utils.six.moves.urllib.request', 'mdtraj.utils.six.moves.urllib_response', 'mdtraj.utils.six.moves.urllib.response', 'mdtraj.utils.six.moves.urllib_robotparser', 'mdtraj.utils.six.moves.urllib.robotparser', 'mdtraj.utils.six.moves.urllib', 'mdtraj.utils.six', 'mdtraj.utils.validation', 'mdtraj.utils.unit.basedimension', 'mdtraj.utils.unit.standard_dimensions', 'mdtraj.utils.unit.mymatrix', 'mdtraj.utils.unit.baseunit', 'mdtraj.utils.unit.unit', 'mdtraj.utils.unit.quantity', 'mdtraj.utils.unit.unit_operators', 'mdtraj.utils.unit.prefix', 'mdtraj.utils.unit.unit_definitions', 'mdtraj.utils.unit', 'mdtraj.utils.rotation', 'mdtraj.utils.unitcell', 'mdtraj.utils.contextmanagers', 'mdtraj.utils.zipped', 'mdtraj.utils', 'mdtraj.formats.registry', 'mdtraj.formats.arc', 'mdtraj.formats.dcd', 'mdtraj.formats.binpos', '_cython_0_29_23', 'xdrlib', 'mdtraj.formats.xtc', 'mdtraj.formats.trr', 'mdtraj.version', 'mdtraj.core', 'mdtraj.core.element', 'mdtraj.core.residue_names', 'pyparsing', 'astunparse.unparser', 'astunparse.printer', 'astunparse', 'mdtraj.core.selection', 'mdtraj.utils.singleton', 'mdtraj.core.topology', 'mdtraj.formats.hdf5', 'mdtraj.formats.netcdf', 'mdtraj.formats.pdb.pdbstructure', 'mdtraj.formats.pdb.pdbfile', 'mdtraj.formats.pdb', 'mdtraj.formats.lh5', 'mdtraj.formats.mdcrd', 'mdtraj.formats.amberrst', 'mdtraj.formats.lammpstrj', 'mdtraj.formats.dtr', 'mdtraj.formats.gro', 'mdtraj.formats.xyzfile', 'mdtraj.formats.tng', 'mdtraj.formats', 'mdtraj.formats.openmmxml', 'mdtraj.formats.prmtop', 'mdtraj.formats.psf', 'mdtraj.formats.mol2', 'xml.etree.cElementTree', 'mdtraj.formats.hoomdxml', 'mdtraj._rmsd', 'mdtraj._lprmsd', 'mdtraj.geometry.rg', 'mdtraj.geometry._geometry', 'mdtraj.geometry.distance', 'mdtraj.geometry.angle', 'mdtraj.geometry.dihedral', 'mdtraj.geometry.hbond', 'mdtraj.geometry.sasa', 'mdtraj.geometry.contact', '_cython_0_29_21', 'mdtraj.geometry.drid', 'mdtraj.geometry.dssp', 'mdtraj.geometry.neighbors', 'mdtraj.geometry.neighborlist', 'mdtraj.geometry.thermodynamic_properties', 'mdtraj.geometry.rdf', 'mdtraj.geometry.order', 'mdtraj.geometry.shape', 'mdtraj.geometry', 'mdtraj.formats.gsd', 'mdtraj.core.trajectory', 'mdtraj.nmr.shift_wrappers', 'mdtraj.nmr.scalar_couplings', 'mdtraj.nmr', 'mdtraj.reporters.basereporter', 'mdtraj.reporters.hdf5reporter', 'mdtraj.reporters.netcdfreporter', 'mdtraj.reporters.dcdreporter', 'mdtraj.reporters.xtcreporter', 'mdtraj.reporters', 'mdtraj', 'openmmtools.forcefactories', 'openmmtools.alchemy', 'openmmtools.cache', 'openmmtools.mcmc', 'yaml.error', 'yaml.tokens', 'yaml.events', 'yaml.nodes', 'yaml.reader', 'yaml.scanner', 'yaml.parser', 'yaml.composer', 'yaml.constructor', 'yaml.resolver', 'yaml.loader', 'yaml.emitter', 'yaml.serializer', 'yaml.representer', 'yaml.dumper', 'yaml._yaml', 'yaml.cyaml', 'yaml', 'netCDF4.utils', 'cftime._cftime', 'cftime', 'netCDF4._netCDF4', 'netCDF4', 'openmmtools.storage.iodrivers', 'openmmtools.storage.storageinterface', 'openmmtools.storage', 'mpiplus.mpiplus', 'mpiplus._version', 'mpiplus', 'numexpr.__config__', 'numexpr.interpreter', 'numexpr.expressions', 'numexpr.utils', 'numexpr.necompiler', 'numexpr.version', 'numexpr', 'pymbar.utils', 'pymbar.timeseries', 'pymbar.testsystems.harmonic_oscillators', 'pymbar.testsystems.exponential_distributions', 'pymbar.testsystems.timeseries', 'pymbar.testsystems.gaussian_work', 'pymbar.testsystems', 'scipy.ndimage._ni_support', 'scipy.ndimage._nd_image', 'scipy._lib.doccer', 'scipy.ndimage._ni_docstrings', 'scipy.ndimage.filters', 'scipy.ndimage.fourier', 'scipy.ndimage.interpolation', '_ni_label', 'scipy.ndimage._ni_label', 'scipy.ndimage.morphology', 'scipy.ndimage.measurements', 'scipy.ndimage', 'scipy.stats._distr_params', 'scipy.misc.doccer', 'scipy.misc.common', 'scipy.misc', 'scipy.stats._constants', 'scipy.stats._distn_infrastructure', 'scipy.interpolate._fitpack', 'scipy.interpolate.dfitpack', 'scipy.interpolate._fitpack_impl', 'scipy.interpolate._bspl', 'scipy.interpolate._bsplines', 'scipy.interpolate.fitpack', 'scipy.interpolate.polyint', 'scipy.interpolate._ppoly', 'scipy.interpolate.fitpack2', 'scipy.interpolate.interpnd', 'scipy.interpolate.interpolate', 'scipy.interpolate.rbf', 'scipy.interpolate._rbfinterp_pythran', 'scipy.interpolate._rbfinterp', 'scipy.interpolate._cubic', 'scipy.interpolate.ndgriddata', 'scipy.interpolate._pade', 'scipy.interpolate', 'scipy.special.cython_special', 'scipy.stats._stats', 'scipy.stats._rvs_sampling', 'scipy.stats._tukeylambda_stats', 'scipy.stats._ksstats', 'beta_ufunc', 'scipy.stats._boost.beta_ufunc', 'binom_ufunc', 'scipy.stats._boost.binom_ufunc', 'nbinom_ufunc', 'scipy.stats._boost.nbinom_ufunc', 'scipy.stats._boost', 'scipy.stats._continuous_distns', 'scipy.stats.biasedurn', 'scipy.stats._discrete_distns', 'scipy.stats._entropy', 'scipy.stats.distributions', 'scipy._lib._bunch', 'scipy.stats._stats_mstats_common', 'scipy.stats.mstats_basic', 'scipy.stats._wilcoxon_data', 'scipy.stats._hypotests', 'scipy.stats.stats', 'scipy.stats.statlib', 'scipy.stats._common', 'scipy.stats._relative_risk', 'scipy.stats._crosstab', 'scipy.stats.contingency', 'scipy.stats.morestats', 'scipy.stats._binomtest', 'scipy.stats._binned_statistic', 'scipy.stats.mvn', 'scipy.stats.kde', 'scipy.stats.mstats_extras', 'scipy.stats.mstats', 'scipy.stats._sobol', 'scipy.stats._qmc_cy', 'scipy.stats._qmc', 'scipy.stats.qmc', 'scipy.stats._multivariate', 'scipy.stats._bootstrap', 'scipy.stats._page_trend_test', 'scipy.stats._mannwhitneyu', 'scipy.stats', 'pymbar.confidenceintervals', 'pymbar.version', 'pymbar.mbar_solvers', 'pymbar.mbar', 'pymbar.exp', 'pymbar.bar', 'pymbar.old_mbar', 'pymbar', 'openmmtools.multistate.utils', 'openmmtools.multistate.multistatesampler', 'openmmtools.multistate.multistatereporter', 'numba._version', 'numba.misc', 'numba.misc.init_utils', 'numba.core', 'multiprocessing.process', 'multiprocessing.reduction', 'multiprocessing.context', '__mp_main__', 'multiprocessing', 'llvmlite._version', 'llvmlite', 'llvmlite.binding.common', 'llvmlite.utils', 'llvmlite.binding.ffi', 'llvmlite.binding.dylib', 'llvmlite.binding.targets', 'llvmlite.binding.object_file', 'llvmlite.binding.executionengine', 'llvmlite.binding.initfini', 'llvmlite.binding.linker', 'llvmlite.binding.value', 'llvmlite.binding.context', 'llvmlite.binding.module', 'llvmlite.binding.options', 'llvmlite.binding.passmanagers', 'llvmlite.binding.transforms', 'llvmlite.ir._utils', 'llvmlite.ir.types', 'llvmlite.ir.values', 'llvmlite.ir.context', 'llvmlite.ir.module', 'llvmlite.ir.instructions', 'llvmlite.ir.builder', 'llvmlite.ir.transforms', 'llvmlite.ir', 'llvmlite.binding.analysis', 'llvmlite.binding', 'numba.core.config', 'numba.testing.loader', 'numba.testing.main', 'numba.testing', 'numba.testing._runtests', 'numba.core.utils', 'numba.core.types.abstract', 'numba.core.types.common', 'numba.core.typeconv.castgraph', 'numba.core.typeconv', 'numba.core.errors', 'numba.core.types.misc', 'numba.core.types.containers', 'numba.core.types.functions', 'numba.core.types.iterators', 'numba.core.types.npytypes', 'numba.np', 'numba.np.npdatetime_helpers', 'numba.core.types.scalars', 'numba.core.types.function_type', 'numba.core.types', 'numba.core.typeconv._typeconv', 'numba.core.typeconv.typeconv', 'numba.core.typeconv.rules', 'numba.core.cpu_options', 'numba.core.typing.templates', 'numba.core.datamodel.manager', 'numba.core.datamodel.packer', 'numba.core.datamodel.registry', 'numba.core.datamodel.models', 'numba.core.datamodel', 'numba.core.cgutils', 'numba.np.numpy_support', 'numba.core.typing.typeof', 'numba.core.typing.context', 'numba.core.typing', 'numba.core.typing.asnumbatype', 'numba.misc.special', 'numba.stencils', 'numba.core.consts', 'numba.core.ir', 'numba.core.imputils', 'llvmlite.llvmpy', 'llvmlite.llvmpy.core', 'numba._helperlib', 'numba.core.debuginfo', 'numba.core.itanium_mangler', 'numba.core.funcdesc', 'numba.core.generators', 'numba.core.removerefctpass', 'numba._dynfunc', 'numba.core.serialize', 'numba.core.environment', 'numba.core.lowering', 'numba.core.pythonapi', 'numba.core.extending', 'numba.core.controlflow', 'numba.core.analysis', 'numba.core.transforms', 'numba.core.postproc', 'numba.core.rewrites.registry', 'numba.core.rewrites.static_getitem', 'numba.core.rewrites.static_raise', 'numba.core.rewrites.static_binop', 'numba.core.rewrites.ir_print', 'numba.core.rewrites', 'numba.core.ir_utils', 'numba.core.descriptors', 'numba._devicearray', 'numba._dispatcher', 'numba.core.tracing', 'numba.core.dataflow', 'numba.core.byteflow', 'numba.core.unsafe', 'numba.core.unsafe.eh', 'numba.cpython', 'numba.cpython.unsafe', 'numba.cpython.unsafe.tuple', 'numba.core.interpreter', 'numba.core.bytecode', 'numba.core.event', 'numba.core.compiler_lock', 'numba.misc.quicksort', 'numba.misc.mergesort', 'numba.cpython.slicing', 'numba.np.arrayobj', 'numba.core.typeinfer', 'numba.stencils.stencilparfor', 'numba.core.typing.npydecl', 'numba.np.unsafe', 'numba.np.unsafe.ndarray', 'numba.parfors.array_analysis', 'numba.parfors.parfor', 'numba.core.sigutils', 'numba.parfors.parfor_lowering_utils', 'numba.parfors.parfor_lowering', 'numba.parfors', 'numba.core.typing.builtins', 'numba.extending', 'numba.cpython.builtins', 'numba.core.base', 'numba.core.callconv', 'numba.core.callwrapper', 'llvmlite.llvmpy.passes', 'numba.core.runtime.nrtdynmod', 'numba.core.runtime._nrt_python', 'numba.core.runtime.nrt', 'numba.core.runtime', 'numba.core.runtime.nrtopt', 'numba.misc.inspection', 'numba.misc.llvm_pass_timings', 'numba.core.codegen', 'numba.core.intrinsics', 'numba.core.externals', 'numba.core.fastmathpass', 'numba.core.options', 'numba.core.entrypoints', 'numba.cpython.setobj', 'numba.cpython.listobj', 'numba.core.cpu', 'numba.cpython.rangeobj', 'numba.core.inline_closurecall', 'numba.core.compiler_machinery', 'numba.core.ssa', 'numba.core.untyped_passes', 'numba.core.annotations', 'numba.core.annotations.type_annotations', 'numba.core.typed_passes', 'numba.core.pylowering', 'numba.core.object_mode_passes', 'numba.core.compiler', 'numba.misc.appdirs', 'numba.core.caching', 'numba.core.dispatcher', 'numba.core.registry', 'numba.stencils.stencil', 'numba.core.decorators', 'numba.np.ufunc._internal', 'numba.np.ufunc.wrappers', 'numba.np.ufunc.sigparse', 'numba.np.ufunc.ufuncbuilder', 'numba.np.ufunc.parallel', 'numba.np.ufunc.dufunc', 'numba.np.ufunc.gufunc', 'numba.np.ufunc.decorators', 'numba.np.ufunc.array_exprs', 'numba.np.ufunc', 'numba.experimental.jitclass._box', 'numba.experimental.jitclass.base', 'numba.experimental.jitclass.decorators', 'numba.experimental.jitclass.boxing', 'numba.experimental.jitclass', 'numba.experimental', 'numba.core.withcontexts', 'numba.typed.typedobjectutils', 'numba.core.unsafe.bytes', 'numba.cpython.hashing', 'numba.cpython.unicode_support', 'numba.cpython.unicode', 'numba.typed.dictobject', 'numba.core.boxing', 'numba.cpython.charseq', 'numba.typed.dictimpl', 'numba.core.typing.ctypes_utils', 'numba.core.ccallback', 'numba.experimental.function_type', 'numba.typed.typeddict', 'numba.typed.listobject', 'numba.typed.typedlist', 'numba.typed', 'numba', 'openmmtools.multistate.multistateanalyzer', 'openmmtools.multistate.replicaexchange', 'openmmtools.multistate.paralleltempering', 'openmmtools.multistate.sams', 'openmmtools.multistate', 'openmmtools._version', 'openmmtools', 'perses._version', 'perses', 'perses.tests', 'networkx.exception', 'networkx.utils.misc', 'networkx.utils.decorators', 'networkx.utils.random_sequence', 'networkx.utils.union_find', 'networkx.utils.rcm', 'networkx.utils.heaps', 'networkx.utils.contextmanagers', 'networkx.utils', 'networkx.classes.coreviews', 'networkx.classes.reportviews', 'networkx.convert', 'networkx.classes.graph', 'networkx.classes.digraph', 'networkx.classes.multigraph', 'networkx.classes.multidigraph', 'networkx.classes.ordered', 'networkx.classes.filters', 'networkx.classes.graphviews', 'networkx.classes.function', 'networkx.classes', 'networkx.convert_matrix', 'networkx.relabel', 'networkx.generators.atlas', 'networkx.generators.classic', 'networkx.generators.cographs', 'networkx.generators.community', 'networkx.generators.degree_seq', 'networkx.generators.directed', 'networkx.generators.duplication', 'networkx.generators.ego', 'networkx.generators.expanders', 'networkx.generators.geometric', 'networkx.generators.internet_as_graphs', 'networkx.generators.intersection', 'networkx.generators.interval_graph', 'networkx.generators.joint_degree_seq', 'networkx.generators.lattice', 'networkx.generators.line', 'networkx.generators.mycielski', 'networkx.generators.nonisomorphic_trees', 'networkx.generators.random_clustered', 'networkx.generators.random_graphs', 'networkx.generators.small', 'networkx.generators.social', 'networkx.generators.sudoku', 'networkx.generators.spectral_graph_forge', 'networkx.generators.stochastic', 'networkx.generators.trees', 'networkx.generators.triads', 'networkx.generators', 'networkx.readwrite.adjlist', 'networkx.readwrite.multiline_adjlist', 'networkx.readwrite.edgelist', 'networkx.readwrite.gpickle', 'networkx.readwrite.pajek', 'networkx.readwrite.leda', 'networkx.readwrite.graph6', 'networkx.readwrite.sparse6', 'networkx.readwrite.gml', 'networkx.readwrite.graphml', 'networkx.readwrite.gexf', 'networkx.readwrite.nx_shp', 'networkx.readwrite.json_graph.node_link', 'networkx.readwrite.json_graph.adjacency', 'networkx.readwrite.json_graph.tree', 'networkx.readwrite.json_graph.jit', 'networkx.readwrite.json_graph.cytoscape', 'networkx.readwrite.json_graph', 'networkx.readwrite.text', 'networkx.readwrite', 'networkx.algorithms.assortativity.connectivity', 'networkx.algorithms.assortativity.pairs', 'networkx.algorithms.assortativity.mixing', 'networkx.algorithms.assortativity.correlation', 'networkx.algorithms.assortativity.neighbor_degree', 'networkx.algorithms.assortativity', 'networkx.algorithms.asteroidal', 'networkx.algorithms.boundary', 'networkx.algorithms.bridges', 'networkx.algorithms.chains', 'networkx.algorithms.centrality.betweenness', 'networkx.algorithms.centrality.betweenness_subset', 'networkx.algorithms.centrality.closeness', 'networkx.algorithms.centrality.subgraph_alg', 'networkx.algorithms.centrality.flow_matrix', 'networkx.algorithms.centrality.current_flow_closeness', 'networkx.algorithms.centrality.current_flow_betweenness', 'networkx.algorithms.centrality.current_flow_betweenness_subset', 'networkx.algorithms.centrality.degree_alg', 'networkx.algorithms.centrality.dispersion', 'networkx.algorithms.centrality.eigenvector', 'networkx.algorithms.centrality.group', 'networkx.algorithms.centrality.harmonic', 'networkx.algorithms.centrality.katz', 'networkx.algorithms.centrality.load', 'networkx.algorithms.centrality.reaching', 'networkx.algorithms.centrality.percolation', 'networkx.algorithms.centrality.second_order', 'networkx.algorithms.centrality.trophic', 'networkx.algorithms.centrality.voterank_alg', 'networkx.algorithms.centrality', 'networkx.algorithms.components.connected', 'networkx.algorithms.components.strongly_connected', 'networkx.algorithms.components.weakly_connected', 'networkx.algorithms.components.attracting', 'networkx.algorithms.components.biconnected', 'networkx.algorithms.components.semiconnected', 'networkx.algorithms.components', 'networkx.algorithms.chordal', 'networkx.algorithms.cluster', 'networkx.algorithms.clique', 'networkx.algorithms.communicability_alg', 'networkx.algorithms.coloring.greedy_coloring_with_interchange', 'networkx.algorithms.coloring.greedy_coloring', 'networkx.algorithms.coloring.equitable_coloring', 'networkx.algorithms.coloring', 'networkx.algorithms.core', 'networkx.algorithms.covering', 'networkx.algorithms.cycles', 'networkx.algorithms.cuts', 'networkx.algorithms.d_separation', 'networkx.algorithms.dag', 'networkx.algorithms.distance_measures', 'networkx.algorithms.distance_regular', 'networkx.algorithms.dominance', 'networkx.algorithms.dominating', 'networkx.algorithms.efficiency_measures', 'networkx.algorithms.euler', 'networkx.algorithms.graphical', 'networkx.algorithms.hierarchy', 'networkx.algorithms.hybrid', 'networkx.algorithms.link_analysis.pagerank_alg', 'networkx.algorithms.link_analysis.hits_alg', 'networkx.algorithms.link_analysis', 'networkx.algorithms.link_prediction', 'networkx.algorithms.lowest_common_ancestors', 'networkx.algorithms.isolate', 'networkx.algorithms.matching', 'networkx.algorithms.minors.contraction', 'networkx.algorithms.minors', 'networkx.algorithms.mis', 'networkx.algorithms.moral', 'networkx.algorithms.non_randomness', 'networkx.algorithms.operators.all', 'networkx.algorithms.operators.binary', 'networkx.algorithms.operators.product', 'networkx.algorithms.operators.unary', 'networkx.algorithms.operators', 'networkx.algorithms.planarity', 'networkx.algorithms.planar_drawing', 'networkx.algorithms.reciprocity', 'networkx.algorithms.regular', 'networkx.algorithms.richclub', 'networkx.algorithms.shortest_paths.generic', 'networkx.algorithms.shortest_paths.unweighted', 'networkx.algorithms.shortest_paths.weighted', 'networkx.algorithms.shortest_paths.astar', 'networkx.algorithms.shortest_paths.dense', 'networkx.algorithms.shortest_paths', 'networkx.algorithms.similarity', 'networkx.algorithms.graph_hashing', 'networkx.algorithms.simple_paths', 'networkx.algorithms.smallworld', 'networkx.algorithms.smetric', 'networkx.algorithms.structuralholes', 'networkx.algorithms.sparsifiers', 'networkx.algorithms.summarization', 'networkx.algorithms.swap', 'networkx.algorithms.traversal.breadth_first_search', 'networkx.algorithms.traversal.beamsearch', 'networkx.algorithms.traversal.depth_first_search', 'networkx.algorithms.traversal.edgedfs', 'networkx.algorithms.traversal.edgebfs', 'networkx.algorithms.traversal', 'networkx.algorithms.triads', 'networkx.algorithms.vitality', 'networkx.algorithms.voronoi', 'networkx.algorithms.wiener', 'networkx.algorithms.approximation.clustering_coefficient', 'networkx.algorithms.approximation.ramsey', 'networkx.algorithms.approximation.clique', 'networkx.algorithms.approximation.connectivity', 'networkx.algorithms.approximation.distance_measures', 'networkx.algorithms.approximation.dominating_set', 'networkx.algorithms.approximation.kcomponents', 'networkx.algorithms.approximation.matching', 'networkx.algorithms.approximation.steinertree', 'networkx.algorithms.approximation.traveling_salesman', 'networkx.algorithms.approximation.treewidth', 'networkx.algorithms.approximation.vertex_cover', 'networkx.algorithms.approximation.maxcut', 'networkx.algorithms.approximation', 'networkx.algorithms.bipartite.basic', 'networkx.algorithms.bipartite.centrality', 'networkx.algorithms.bipartite.cluster', 'networkx.algorithms.bipartite.matrix', 'networkx.algorithms.bipartite.matching', 'networkx.algorithms.bipartite.covering', 'networkx.algorithms.bipartite.edgelist', 'networkx.algorithms.bipartite.projection', 'networkx.algorithms.bipartite.redundancy', 'networkx.algorithms.bipartite.spectral', 'networkx.algorithms.bipartite.generators', 'networkx.algorithms.bipartite', 'networkx.algorithms.node_classification.utils', 'networkx.algorithms.node_classification.hmn', 'networkx.algorithms.node_classification.lgc', 'networkx.algorithms.node_classification', 'networkx.algorithms.community.asyn_fluid', 'networkx.algorithms.community.centrality', 'networkx.algorithms.community.kclique', 'networkx.algorithms.community.community_utils', 'networkx.algorithms.community.kernighan_lin', 'networkx.algorithms.community.label_propagation', 'networkx.algorithms.community.lukes', 'networkx.algorithms.community.quality', 'networkx.utils.mapped_queue', 'networkx.algorithms.community.modularity_max', 'networkx.algorithms.community', 'networkx.algorithms.flow.utils', 'networkx.algorithms.flow.boykovkolmogorov', 'networkx.algorithms.flow.dinitz_alg', 'networkx.algorithms.flow.edmondskarp', 'networkx.algorithms.flow.preflowpush', 'networkx.algorithms.flow.shortestaugmentingpath', 'networkx.algorithms.flow.maxflow', 'networkx.algorithms.flow.mincost', 'networkx.algorithms.flow.gomory_hu', 'networkx.algorithms.flow.capacityscaling', 'networkx.algorithms.flow.networksimplex', 'networkx.algorithms.flow', 'networkx.algorithms.isomorphism.isomorph', 'networkx.algorithms.isomorphism.isomorphvf2', 'networkx.algorithms.isomorphism.vf2userfunc', 'networkx.algorithms.isomorphism.matchhelpers', 'networkx.algorithms.isomorphism.temporalisomorphvf2', 'networkx.algorithms.isomorphism.ismags', 'networkx.algorithms.isomorphism.tree_isomorphism', 'networkx.algorithms.isomorphism', 'networkx.algorithms.tournament', 'networkx.algorithms.tree.recognition', 'networkx.algorithms.tree.branchings', 'networkx.algorithms.tree.coding', 'networkx.algorithms.tree.mst', 'networkx.algorithms.tree.operations', 'networkx.algorithms.tree.decomposition', 'networkx.algorithms.tree', 'networkx.algorithms.connectivity.utils', 'networkx.algorithms.connectivity.connectivity', 'networkx.algorithms.connectivity.cuts', 'networkx.algorithms.connectivity.edge_augmentation', 'networkx.algorithms.connectivity.edge_kcomponents', 'networkx.algorithms.connectivity.disjoint_paths', 'networkx.algorithms.connectivity.kcomponents', 'networkx.algorithms.connectivity.kcutsets', 'networkx.algorithms.connectivity.stoerwagner', 'networkx.algorithms.connectivity', 'networkx.algorithms', 'networkx.linalg.attrmatrix', 'networkx.linalg.spectrum', 'networkx.linalg.graphmatrix', 'networkx.linalg.laplacianmatrix', 'networkx.linalg.algebraicconnectivity', 'networkx.linalg.modularitymatrix', 'networkx.linalg.bethehessianmatrix', 'networkx.linalg', 'networkx.testing.utils', 'networkx.testing.test', 'networkx.testing', 'networkx.drawing.layout', 'networkx.drawing.nx_pylab', 'networkx.drawing.nx_agraph', 'networkx.drawing.nx_pydot', 'networkx.drawing', 'networkx', 'perses.storage.storage', 'perses.storage', 'perses.rjmc.geometry', 'numba.cpython.tupleobj', 'numba.cpython.enumimpl', 'numba.cpython.heapq', 'numba.cpython.iterators', 'numba.core.optional', 'numba.cpython.unsafe.numbers', 'numba.cpython.numbers', 'numba.misc.gdb_hook', 'numba.misc.literal', 'numba.np.linalg', 'numba.np.polynomial', 'numba.np.arraymath', 'cmath', 'numba.cpython.mathimpl', 'numba.cpython.cmathimpl', 'numba.np.npyfuncs', 'numba.np.npdatetime', 'numba.np.ufunc_db', 'numba.np.npyimpl', 'numba.cpython.printimpl', 'numba.cpython.randomimpl', 'numba.misc.cffiimpl', 'cffi.lock', 'cffi.error', 'cffi.model', 'cffi.api', 'cffi', '_cffi_backend', 'cffi.commontypes', 'pycparser.ply', 'pycparser.ply.yacc', 'pycparser.c_ast', 'pycparser.ply.lex', 'pycparser.c_lexer', 'pycparser.plyparser', 'pycparser.ast_transforms', 'pycparser.c_parser', 'pycparser', 'cffi.cparser', 'numba.core.typing.cffi_utils', 'numba.core.typing.cmathdecl', 'numba.core.typing.enumdecl', 'numba.core.typing.collections', 'numba.core.typing.listdecl', 'numba.core.typing.mathdecl', 'numba.core.typing.randomdecl', 'numba.core.typing.setdecl', 'numba.core.typing.dictdecl', 'numba.core.typing.arraydecl', 'numba.core.typing.npdatetime', 'numba.core.typing.bufproto', 'perses.rjmc.coordinate_numba', 'perses.rjmc.coordinate_tools', 'openmoltools.amber_parser', 'openmoltools.system_checker', 'openmoltools.utils', 'openmoltools.packmol', 'openmoltools.amber', 'openmoltools.openeye', 'six.moves.urllib', 'openmoltools.cirpy', 'parmed._version', 'parmed.exceptions', 'parmed.periodic_table', 'parmed.residue', 'parmed.unit', 'parmed.utils.pairlist', 'parmed.constants', 'parmed.vec3', 'parmed.geometry', 'parmed.topologyobjects', 'parmed.utils', 'parmed.utils.decorators', 'parmed.structure', 'parmed.utils.io', 'parmed.formats.registry', 'parmed.modeller.residue', 'parmed.amber.offlib', 'parmed.modeller.standardtemplates', 'parmed.modeller', 'parmed.formats.mol2', 'ftplib', 'parmed.formats.pdbx.PdbxContainers', 'parmed.formats.pdbx.PdbxReader', 'parmed.formats.pdbx.PdbxWriter', 'parmed.formats.pdbx', 'parmed.symmetry', 'parmed.formats.pdb', 'parmed.formats.pqr', 'parmed.charmm.psf', 'parmed.parameters', 'parmed.charmm._charmmfile', 'parmed.charmm.parameters', 'parmed.charmm.charmmcrds', 'parmed.charmm', 'parmed.formats.psf', 'parmed.rdkit.rdkit', 'parmed.rdkit', 'parmed.formats.sdf', 'parmed.formats', 'parmed.utils.fortranformat._exceptions', 'parmed.utils.fortranformat._edit_descriptors', 'parmed.utils.fortranformat._misc', 'parmed.utils.fortranformat.config', 'parmed.utils.fortranformat._input', 'parmed.utils.fortranformat._lexer', 'parmed.utils.fortranformat._parser', 'parmed.utils.fortranformat.FortranRecordReader', 'parmed.utils.fortranformat._output', 'parmed.utils.fortranformat.FortranRecordWriter', 'parmed.utils.fortranformat', 'parmed.amber.amberformat', 'parmed.amber.asciicrd', 'parmed.amber.mask', 'mmap', 'parmed.utils.netcdf', 'parmed.amber.netcdffiles', 'parmed.amber.parameters', 'parmed.amber._amberparm', 'parmed.amber._chamberparm', 'parmed.amber._tinkerparm', 'parmed.amber.readparm', 'parmed.amber.titratable_residues', 'parmed.amber', 'parmed.gromacs._cpp', 'parmed.gromacs._gromacsfile', 'parmed.gromacs.gromacstop', 'parmed.gromacs.gromacsgro', 'parmed.gromacs', 'parmed.dlpoly.dlpolyfield', 'parmed.dlpoly.dlpolyconfig', 'parmed.dlpoly', 'parmed.namd.namdbinfiles', 'parmed.namd', 'parmed.openmm.reporters', 'lxml', '_cython_0_29_22', 'lxml._elementpath', 'lxml.etree', 'parmed.openmm.parameters', 'parmed.openmm.topsystem', 'parmed.openmm.utils', 'parmed.openmm.xmlfile', 'parmed.openmm', 'parmed.rosetta.pose', 'parmed.rosetta', 'parmed.tinker.tinkerfiles', 'parmed.tinker', 'parmed.entos.imports', 'parmed.entos.converters', 'parmed.entos', 'rdkit.rdBase', 'rdkit.RDPaths', 'rdkit.RDConfig', 'rdkit.DataStructs.cDataStructs', 'rdkit.DataStructs', 'rdkit.Geometry.rdGeometry', 'rdkit.Geometry', 'rdkit.Chem.rdchem', 'rdkit.Chem.rdmolfiles', 'rdkit.Chem.rdmolops', 'rdkit.Chem.rdCIPLabeler', 'rdkit.Chem.rdinchi', 'rdkit.RDLogger', 'rdkit.Chem.inchi', 'rdkit.Chem.rdMolInterchange', 'rdkit.Chem.rdCoordGen', 'rdkit.Chem', 'rdkit.Chem.Draw.rdMolDraw2D', 'rdkit.Chem.Draw.MolDrawing', 'rdkit.Chem.rdDepictor', 'rdkit.Chem.Draw', 'rdkit.Chem.rdChemReactions', 'PIL._version', 'PIL', 'defusedxml.common', 'defusedxml', '_elementtree', 'xml.etree.ElementTree', 'defusedxml.ElementTree', 'PIL.ImageMode', 'PIL.TiffTags', 'PIL._binary', 'PIL._util', 'PIL._imaging', 'PIL.Image', 'PIL.ImageChops', 'PIL.ImageFile', 'PIL.GimpGradientFile', 'PIL.GimpPaletteFile', 'PIL.ImageColor', 'PIL.PaletteFile', 'PIL.ImagePalette', 'PIL.ImageSequence', 'PIL.PngImagePlugin', 'rdkit.Chem.Draw.IPythonConsole', 'rdkit', 'parmed.tools.exceptions', 'parmed.tools.argumentlist', 'parmed.tools.parmlist', 'parmed.tools.actions', 'parmed.tools', 'parmed', 'openmoltools.gromacs', '_csv', 'csv', 'openmoltools.schrodinger', 'openmoltools', 'openmoltools.forcefield_generators', 'perses.rjmc.topology_proposal', 'perses.rjmc', 'perses.tests.utils', 'perses.dispersed', 'tqdm._monitor', 'tqdm._tqdm_pandas', 'tqdm.utils', 'tqdm.std', 'tqdm._dist_ver', 'tqdm.version', 'tqdm.cli', 'tqdm.gui', 'tqdm', 'perses.annihilation', 'perses.annihilation.lambda_protocol', 'dask.config', 'dask.utils_test', 'dask.core', 'dask.utils', 'dask.datasets', 'dask._version', 'packaging.__about__', 'packaging', 'packaging._structures', 'packaging.version', 'toolz.utils', 'toolz.itertoolz', 'toolz._signatures', 'toolz.functoolz', 'toolz.dicttoolz', 'toolz.recipes', 'toolz.curried.operator', 'toolz.curried.exceptions', 'toolz.curried', 'toolz.sandbox.core', 'toolz.sandbox.parallel', 'toolz.sandbox', 'toolz._version', 'toolz', 'cytoolz.utils', 'cytoolz.itertoolz', 'cytoolz._signatures', 'cytoolz.functoolz', 'cytoolz.dicttoolz', 'cytoolz.recipes', 'cytoolz.curried.operator', 'cytoolz.curried.exceptions', 'cytoolz.curried', 'cytoolz._version', 'cytoolz', 'tlz.utils', 'tlz.itertoolz', 'tlz._signatures', 'tlz.functoolz', 'tlz.dicttoolz', 'tlz.recipes', 'tlz._version', 'tlz._build_tlz', 'tlz', 'dask.callbacks', 'dask.order', 'dask.local', 'multiprocessing.util', '_multiprocessing', 'multiprocessing.connection', 'multiprocessing.pool', 'concurrent.futures.thread', 'psutil._common', 'psutil._compat', 'psutil._psposix', 'psutil._psutil_linux', 'psutil._psutil_posix', 'psutil._pslinux', 'psutil', 'dask.system', 'dask.threaded', 'dask.context', 'dask.hashing', 'multiprocessing.queues', 'concurrent.futures.process', 'cloudpickle.compat', 'typing_extensions', 'cloudpickle.cloudpickle', 'cloudpickle.cloudpickle_fast', 'cloudpickle', 'dask.optimization', 'tblib.cpython', 'tblib', 'tblib.pickling_support', 'dask.multiprocessing', 'dask.base', 'jinja2.bccache', 'markupsafe._speedups', 'markupsafe', 'jinja2.utils', 'jinja2.nodes', 'jinja2.exceptions', 'jinja2.visitor', 'jinja2.idtracking', 'jinja2.optimizer', 'jinja2.compiler', 'jinja2.async_utils', 'jinja2.runtime', 'jinja2.filters', 'jinja2.tests', 'jinja2.defaults', 'jinja2._identifier', 'jinja2.lexer', 'jinja2.parser', 'jinja2.environment', 'jinja2.loaders', 'jinja2', 'dask.widgets.widgets', 'dask.widgets', 'dask.highlevelgraph', 'dask.delayed', 'dask', 'logging.config', 'distributed.compatibility', 'distributed.config', 'click._compat', 'click.globals', 'click.utils', 'click.exceptions', 'click.types', 'click._unicodefun', 'click.parser', 'click.formatting', 'click.termui', 'click.core', 'click.decorators', 'click', 'distributed.metrics', 'multiprocessing.popen_fork', 'multiprocessing.spawn', 'multiprocessing.popen_spawn_posix', 'distributed.versions', 'msgpack._version', 'msgpack.exceptions', 'msgpack.ext', 'msgpack._cmsgpack', 'msgpack', 'pytz.exceptions', 'pytz.lazy', 'pytz.tzinfo', 'pytz.tzfile', 'pytz', 'pandas._typing', 'pandas._libs.tslibs.dtypes', 'pandas._libs.tslibs.base', 'pandas._libs.tslibs.np_datetime', 'pandas._libs.tslibs.nattype', 'pandas._libs.tslibs.timezones', 'pandas._libs.tslibs.ccalendar', 'pandas._libs.tslibs.tzconversion', 'pandas._config.config', 'pandas._config.dates', 'pandas._config.display', 'pandas._config', 'pandas._config.localization', 'pandas._libs.tslibs.strptime', 'pandas._libs.tslibs.fields', 'pandas._libs.tslibs.timedeltas', 'pandas._libs.tslibs.timestamps', 'dateutil.easter', 'pandas._libs.properties', 'pandas._libs.tslibs.offsets', 'pandas._libs.tslibs.parsing', 'pandas._libs.tslibs.conversion', 'pandas._libs.tslibs.period', 'pandas._libs.tslibs.vectorized', 'pandas._libs.tslibs', 'pandas._libs.ops_dispatch', 'pandas._libs.missing', 'pandas._libs.hashtable', 'pandas._libs.algos', 'pandas._libs.interval', 'pandas._libs', 'pandas.util._decorators', 'pandas.core', 'pandas.core.util', 'pandas._libs.tslib', 'pandas._libs.lib', 'pandas._libs.hashing', 'pandas.core.dtypes', 'pandas.errors', 'pandas.core.dtypes.generic', 'pandas.core.dtypes.base', 'pandas.core.dtypes.inference', 'pandas.core.dtypes.dtypes', 'pandas.core.dtypes.common', 'pandas.core.util.hashing', 'pandas.util', 'pandas.util.version', 'pandas.compat.numpy', 'pandas.compat.pyarrow', 'pandas.compat', 'pandas.core.config_init', 'pandas.core.dtypes.missing', 'pandas.util._exceptions', 'pandas.util._validators', 'pandas.core.dtypes.cast', 'pandas.core.array_algos', 'pandas.core.common', 'pandas.core.construction', 'pandas.core.array_algos.take', 'pandas.core.indexers', 'pandas.core.algorithms', 'pandas.compat.numpy.function', 'pandas.compat._optional', 'pandas.core.missing', 'pandas.core.roperator', 'pandas._libs.ops', 'pandas.core.computation', 'pandas.core.computation.check', 'pandas.core.computation.expressions', 'pandas.core.ops.missing', 'pandas.core.ops.dispatch', 'pandas.core.ops.invalid', 'pandas.core.ops.array_ops', 'pandas.core.ops.common', 'pandas.core.ops.docstrings', 'pandas.core.ops.mask_ops', 'pandas.core.ops.methods', 'pandas.core.ops', 'pandas.core.sorting', 'pandas.core.arrays.base', 'pandas.core.nanops', 'pandas.core.array_algos.masked_reductions', 'pandas.core.arraylike', 'pandas.core.arrays.masked', 'pandas.core.arrays.boolean', 'pandas._libs.arrays', 'pandas.core.accessor', 'pandas.core.array_algos.transforms', 'pandas.core.arrays._mixins', 'pandas.core.base', 'pandas.core.strings.accessor', 'pandas.core.strings.base', 'pandas.core.strings', 'pandas.core.strings.object_array', 'pandas.io', 'pandas.io.formats', 'pandas.io.formats.console', 'pandas.core.arrays.categorical', 'pandas.tseries', 'pandas.tseries.frequencies', 'pandas.core.arrays.datetimelike', 'pandas.core.arrays._ranges', 'pandas.core.arrays.numeric', 'pandas.core.tools', 'pandas.core.tools.numeric', 'pandas.core.arrays.integer', 'pandas.tseries.offsets', 'pandas.core.arrays.datetimes', 'pandas.core.arrays.floating', 'pandas.core.indexes', 'pandas._libs.index', 'pandas._libs.join', 'pandas._libs.sparse', 'pandas.core.arrays.sparse.dtype', 'pandas.io.formats.printing', 'pandas.core.arrays.sparse.array', 'pandas.core.arrays.sparse.accessor', 'pandas.core.arrays.sparse', 'pandas.core.dtypes.concat', 'pandas.core.array_algos.putmask', 'pandas.core.indexes.frozen', 'pandas.core.indexes.base', 'pandas.core.arrays.interval', 'pandas.core.arrays.numpy_', 'pandas.core.arrays.period', 'pandas.core.arrays.string_', 'pandas.core.arrays.string_arrow', 'pandas.core.arrays.timedeltas', 'pandas.core.arrays', 'pandas.core.flags', 'pandas._libs.reduction', 'pandas.core.indexes.extension', 'pandas.core.indexes.category', 'pandas.core.indexes.numeric', 'pandas.core.tools.timedeltas', 'pandas.core.indexes.datetimelike', 'pandas.core.tools.times', 'pandas.core.indexes.datetimes', 'pandas.core.indexes.multi', 'pandas.core.indexes.timedeltas', 'pandas.core.indexes.interval', 'pandas.core.indexes.period', 'pandas.core.indexes.range', 'pandas.core.indexes.api', 'pandas.core.aggregation', 'pandas.core.apply', 'pandas._libs.indexing', 'pandas.core.indexing', 'pandas.core.reshape', 'pandas._libs.internals', 'pandas._libs.writers', 'pandas.core.array_algos.quantile', 'pandas.core.array_algos.replace', 'pandas.core.internals.blocks', 'pandas.core.internals.api', 'pandas.core.internals.base', 'pandas.core.internals.array_manager', 'pandas.core.internals.ops', 'pandas.core.internals.managers', 'pandas.core.internals.concat', 'pandas.core.internals', 'pandas.core.reshape.concat', 'pandas.io.common', 'pandas.io.formats.format', 'pandas.core.describe', 'pandas.core.internals.construction', 'pandas.core.shared_docs', 'pandas._libs.window', 'pandas._libs.window.aggregations', 'pandas.core.util.numba_', 'pandas.core.window.common', 'pandas.core.window.doc', 'pandas._libs.window.indexers', 'pandas.core.window.indexers', 'pandas.core.window.numba_', 'pandas.core.window.online', 'pandas.core.window.rolling', 'pandas.core.window.ewm', 'pandas.core.window.expanding', 'pandas.core.window', 'pandas.core.generic', 'pandas.core.reshape.util', 'pandas.core.reshape.melt', 'pandas._libs.reshape', 'pandas.core.indexes.accessors', 'pandas.arrays', 'pandas.core.tools.datetimes', 'pandas.plotting._core', 'pandas.plotting._misc', 'pandas.plotting', 'pandas.core.series', 'pandas.io.formats.info', 'pandas.core.frame', 'pandas.core.groupby.base', 'pandas._libs.groupby', 'pandas.core.groupby.numba_', 'pandas.core.groupby.categorical', 'pandas.core.groupby.grouper', 'pandas.core.groupby.ops', 'pandas.core.groupby.groupby', 'pandas.core.groupby.generic', 'pandas.core.groupby', 'pandas.core.api', 'pandas.tseries.api', 'pandas.core.computation.common', 'pandas.core.computation.align', 'pandas.compat.chainmap', 'pandas.core.computation.scope', 'pandas.core.computation.ops', 'pandas.core.computation.parsing', 'pandas.core.computation.expr', 'pandas.core.computation.engines', 'pandas.core.computation.eval', 'pandas.core.computation.api', 'pandas.core.reshape.merge', 'pandas.core.reshape.pivot', 'pandas.core.reshape.reshape', 'pandas.core.reshape.tile', 'pandas.core.reshape.api', 'pandas.api.extensions', 'pandas.api.indexers', 'pandas.core.dtypes.api', 'pandas.api.types', 'pandas.api', 'pandas.util._print_versions', 'pandas.io.clipboards', 'pandas._libs.parsers', 'pandas.io.excel._util', 'pandas.io.date_converters', 'pandas.io.parsers.base_parser', 'pandas.io.parsers.c_parser_wrapper', 'pandas.io.parsers.python_parser', 'pandas.io.parsers.readers', 'pandas.io.parsers', 'pandas.io.excel._odfreader', 'pandas.io.excel._openpyxl', 'pandas.io.excel._pyxlsb', 'pandas.io.excel._xlrd', 'pandas.io.excel._base', 'pandas._libs.json', 'pandas.io.formats._color_data', 'pandas.io.formats.css', 'pandas.io.formats.excel', 'pandas.io.excel._odswriter', 'pandas.io.excel._xlsxwriter', 'pandas.io.excel._xlwt', 'pandas.io.excel', 'pandas.io.feather_format', 'pandas.io.gbq', 'pandas.io.html', 'pandas.io.json._normalize', 'pandas.io.json._table_schema', 'pandas.io.json._json', 'pandas.io.json', 'pandas.io.orc', 'pandas.io.parquet', 'pandas.compat.pickle_compat', 'pandas.io.pickle', 'pandas.core.computation.pytables', 'pandas.io.pytables', 'pandas.io.sas.sasreader', 'pandas.io.sas', 'pandas.io.spss', 'pandas.io.sql', 'pandas.io.stata', 'pandas.io.xml', 'pandas.io.api', 'pandas.util._tester', 'pandas._testing._random', 'pandas._testing.contexts', 'pandas._testing._io', 'pandas._testing._warnings', 'pandas._libs.testing', 'pandas._testing.asserters', 'pandas._testing.compat', 'pandas._testing', 'pandas.testing', 'pandas._version', 'pandas', '_posixshmem', 'multiprocessing.resource_tracker', 'multiprocessing.forkserver', 'distributed.utils', 'distributed.widgets', 'distributed._version', 'distributed.profile', 'distributed.protocol.compression', 'distributed.protocol.pickle', 'distributed.protocol.utils', 'distributed.protocol.serialize', 'distributed.protocol.core', 'distributed.protocol.cuda', 'distributed.protocol', 'distributed.comm.registry', 'distributed.comm.addressing', 'distributed.comm.core', 'dask.sizeof', 'distributed.comm.utils', 'distributed.comm.inproc', 'tornado.netutil', 'tornado.iostream', 'tornado.tcpclient', 'tornado.process', 'tornado.tcpserver', 'distributed.system', 'distributed._concurrent_futures_thread', 'distributed.threadpoolexecutor', 'distributed.comm.tcp', 'http.cookies', 'tornado.httputil', 'tornado.http1connection', 'tornado.httpserver', 'tornado._locale_data', 'tornado.locale', 'tornado.template', 'tornado.routing', 'tornado.web', 'tornado.httpclient', 'tornado.simple_httpclient', 'tornado.websocket', 'distributed.comm.ws', 'distributed.diagnostics.plugin', 'distributed.diagnostics.graph_layout', 'distributed.diagnostics', 'distributed.diagnostics.nvml', 'distributed.comm.ucx', 'distributed.comm', 'distributed.system_monitor', 'distributed.core', 'distributed.batched', 'distributed.cfexecutor', 'distributed.objects', 'distributed.publish', 'distributed.pubsub', 'distributed.security', 'distributed.sizeof', 'distributed.utils_comm', 'distributed.preloading', 'distributed.locket', 'distributed.diskutils', 'distributed.http.utils', 'distributed.http', 'distributed.http.routing', 'distributed.node', 'distributed.proctitle', 'distributed.utils_perf', 'distributed.worker', 'distributed.client', 'distributed.actor', 'distributed.deploy.adaptive_core', 'distributed.deploy.adaptive', 'distributed.deploy.cluster', 'distributed.process', 'distributed.nanny', 'sortedcontainers.sortedlist', 'sortedcontainers.sortedset', 'sortedcontainers.sorteddict', 'sortedcontainers', 'distributed.active_memory_manager', 'distributed.event', 'distributed.lock', 'distributed.multi_lock', 'distributed.queues', 'distributed.recreate_tasks', 'distributed.semaphore', 'distributed.stealing', 'distributed.variable', 'cython.parallel', 'Cython.Shadow', 'Cython', 'cython', 'distributed.scheduler', 'distributed.deploy.spec', 'distributed.deploy.utils', 'distributed.deploy.local', 'distributed.deploy.ssh', 'distributed.deploy', 'distributed.diagnostics.progress', 'distributed.diagnostics.progressbar', 'distributed.worker_client', 'distributed', 'dask.distributed', 'perses.dispersed.utils', 'perses.annihilation.relative', 'perses.annihilation.rest', 'optparse', 'configparser', 'nose.pyversion', 'nose.util', 'nose.plugins.base', 'nose.failure', 'nose.plugins.manager', 'nose.plugins.plugintest', 'nose.plugins', 'nose.config', 'nose.case', 'nose.importer', 'nose.selector', 'nose.proxy', 'nose.suite', 'nose.loader', 'nose.result', 'nose.core', 'nose.plugins.errorclass', 'nose.plugins.skip', 'nose.plugins.deprecated', 'nose.exc', 'nose.tools.nontrivial', 'nose.tools.trivial', 'nose.tools', 'nose', 'nose.plugins.attrib', 'perses.utils.data', 'perses.utils.openeye', 'perses.utils', 'perses.utils.smallmolecules', 'openmmforcefields.utils', 'openmmforcefields._version', 'openmmforcefields', 'openmmforcefields.generators.template_generators', 'openmmforcefields.generators.system_generators', 'openmmforcefields.generators', 'openff', 'openff.toolkit._version', 'openff.toolkit', 'openff.toolkit.utils.exceptions', 'openff.toolkit.utils.utils', 'openff.toolkit.utils.base_wrapper', 'openff.toolkit.utils.constants', 'openff.toolkit.utils.rdkit_wrapper', 'openff.toolkit.utils.ambertools_wrapper', 'openff.toolkit.utils.builtin_wrapper', 'openff.toolkit.utils.openeye_wrapper', 'openff.toolkit.utils.toolkit_registry', '_oequacpac2121', 'openeye.oequacpac', '_oeiupac2731', 'openeye.oeiupac', '_oeomega4111', 'openeye.oeomega', 'openff.toolkit.utils.toolkits', 'openff.toolkit.utils', 'openff.toolkit.utils.serialization', 'openff.toolkit.topology.molecule', 'openff.toolkit.typing', 'openff.toolkit.typing.chemistry.environment', 'openff.toolkit.typing.chemistry', 'openff.toolkit.topology.topology', 'openff.toolkit.topology', 'perses.tests.test_topology_proposal', 'matplotlib', 'matplotlib._api.deprecation', 'matplotlib._api', 'matplotlib._c_internal_utils', 'matplotlib.cbook', 'matplotlib.docstring', 'matplotlib._animation_data', 'matplotlib.animation', 'matplotlib._path', 'matplotlib.bezier', 'matplotlib.path', 'matplotlib.transforms', 'matplotlib.ticker', 'matplotlib.scale', 'matplotlib._color_data', 'matplotlib.colors', 'matplotlib.fontconfig_pattern', 'matplotlib._enums', 'cycler', 'matplotlib.rcsetup', 'matplotlib._version', 'matplotlib.ft2font', 'kiwisolver', 'dateutil.rrule', 'matplotlib.units', 'matplotlib.dates']\n"
     ]
    },
    {
     "name": "stderr",
     "output_type": "stream",
     "text": [
      "DEBUG:matplotlib:CACHEDIR=/home/zhangi/.cache/matplotlib\n",
      "DEBUG:matplotlib.font_manager:Using fontManager instance from /home/zhangi/.cache/matplotlib/fontlist-v330.json\n",
      "DEBUG:matplotlib.pyplot:Loaded backend module://matplotlib_inline.backend_inline version unknown.\n",
      "DEBUG:matplotlib.pyplot:Loaded backend module://matplotlib_inline.backend_inline version unknown.\n"
     ]
    }
   ],
   "source": [
    "import pickle\n",
    "import os\n",
    "from openeye import oechem\n",
    "###########################################\n",
    "# IMPORTS\n",
    "###########################################\n",
    "from openmmtools.states import SamplerState, ThermodynamicState, CompoundThermodynamicState\n",
    "from simtk import unit, openmm\n",
    "from perses.tests.utils import compute_potential_components\n",
    "from openmmtools.constants import kB\n",
    "from perses.dispersed.utils import configure_platform\n",
    "from perses.annihilation.rest import RESTTopologyFactory, RESTTopologyFactoryV3\n",
    "from perses.annihilation.lambda_protocol import RESTState, RESTStateV3\n",
    "import numpy as np\n",
    "from perses.tests.test_topology_proposal import generate_atp, generate_dipeptide_top_pos_sys\n",
    "from openmmtools.testsystems import AlanineDipeptideVacuum, AlanineDipeptideExplicit\n",
    "import itertools\n",
    "import matplotlib.pyplot as plt\n",
    "\n",
    "#############################################\n",
    "# CONSTANTS\n",
    "#############################################\n",
    "temperature = 300.0 * unit.kelvin\n",
    "kT = kB * temperature\n",
    "beta = 1.0/kT\n",
    "REFERENCE_PLATFORM = openmm.Platform.getPlatformByName(\"CUDA\")"
   ]
  },
  {
   "cell_type": "code",
   "execution_count": 2,
   "id": "ac4edd84",
   "metadata": {},
   "outputs": [],
   "source": [
    "def compare_energy_components(rest_system, other_system, positions, platform=REFERENCE_PLATFORM):\n",
    "    \"\"\"\n",
    "    Get energy components of a given system\n",
    "    \"\"\"\n",
    "    platform = configure_platform(platform)\n",
    "\n",
    "    # Create thermodynamic state and sampler state for non-rest system\n",
    "    thermostate_other = ThermodynamicState(system=other_system, temperature=temperature)\n",
    "\n",
    "    # Create context for non-rest system\n",
    "    integrator_other = openmm.VerletIntegrator(1.0*unit.femtosecond)\n",
    "    context_other = thermostate_other.create_context(integrator_other)\n",
    "    context_other.setPositions(positions)\n",
    "\n",
    "    # Get energy components for non-rest system\n",
    "    components_other = [component for component in compute_potential_components(context_other, beta=beta)]\n",
    "    \n",
    "    # Create thermodynamic state for rest_system\n",
    "    thermostate_rest = ThermodynamicState(system=rest_system, temperature=temperature)\n",
    "\n",
    "    # Create context for rest system\n",
    "    integrator_rest = openmm.VerletIntegrator(1.0 * unit.femtosecond)\n",
    "    context_rest = thermostate_rest.create_context(integrator_rest)\n",
    "    context_rest.setPositions(positions)\n",
    "\n",
    "    # Get energy components for rest system\n",
    "    components_rest = [component for component in compute_potential_components(context_rest, beta=beta)]\n",
    "\n",
    "    print(components_other)\n",
    "    print(components_rest)\n",
    "    \n",
    "    # Check that bond, angle, and torsion energies match\n",
    "    for other, rest in zip(components_other[:3], components_rest[:3]):\n",
    "        assert np.isclose([other[1]], [rest[1]]), f\"The energies do not match for the {other[0]}: {other[1]} (other system) vs. {rest[1]} (REST system)\"\n",
    "\n",
    "    # Check that nonbonded energies match\n",
    "    nonbonded_other = np.array([component[1] for component in components_other[3:]]).sum()\n",
    "    nonbonded_rest = np.array([component[1] for component in components_rest[3:]]).sum()\n",
    "    assert np.isclose([nonbonded_other], [nonbonded_rest]), f\"The energies do not match for the NonbondedForce: {nonbonded_other} (other system) vs. {nonbonded_rest} (REST system)\"\n",
    "\n",
    "    print(nonbonded_other)\n",
    "    print(nonbonded_rest)\n",
    "    print(\"Energy bookkeeping was a success!\")\n"
   ]
  },
  {
   "cell_type": "markdown",
   "id": "18e1d763",
   "metadata": {},
   "source": [
    "# Test endstate validation (energy bookkeeping) for production systems"
   ]
  },
  {
   "cell_type": "code",
   "execution_count": 7,
   "id": "a09b3ed9",
   "metadata": {},
   "outputs": [],
   "source": [
    "# Load r-htf for N501Y\n",
    "with open(\"T42A_complex_0.pickle\", \"rb\") as f:\n",
    "    htf = pickle.load(f)\n",
    "    "
   ]
  },
  {
   "cell_type": "code",
   "execution_count": 8,
   "id": "89bbb838",
   "metadata": {},
   "outputs": [
    {
     "data": {
      "text/plain": [
       "[<openmm.openmm.MonteCarloBarostat; proxy of <Swig Object of type 'OpenMM::MonteCarloBarostat *' at 0x2affc9fa4900> >,\n",
       " <openmm.openmm.HarmonicBondForce; proxy of <Swig Object of type 'OpenMM::HarmonicBondForce *' at 0x2affdfe82810> >,\n",
       " <openmm.openmm.HarmonicAngleForce; proxy of <Swig Object of type 'OpenMM::HarmonicAngleForce *' at 0x2b00027db4e0> >,\n",
       " <openmm.openmm.PeriodicTorsionForce; proxy of <Swig Object of type 'OpenMM::PeriodicTorsionForce *' at 0x2b00027db570> >,\n",
       " <openmm.openmm.NonbondedForce; proxy of <Swig Object of type 'OpenMM::NonbondedForce *' at 0x2b00027db600> >]"
      ]
     },
     "execution_count": 8,
     "metadata": {},
     "output_type": "execute_result"
    }
   ],
   "source": [
    "htf.hybrid_system.getForces()\n"
   ]
  },
  {
   "cell_type": "code",
   "execution_count": 9,
   "id": "770c1d71",
   "metadata": {},
   "outputs": [],
   "source": [
    "# Get unmodified hybrid system\n",
    "positions = htf.hybrid_positions\n",
    "system = htf.hybrid_system\n",
    "system.removeForce(0)\n",
    "# system.getForce(3).setNonbondedMethod(openmm.NonbondedForce.NoCutoff)\n",
    "\n"
   ]
  },
  {
   "cell_type": "code",
   "execution_count": 12,
   "id": "5dcca9d3",
   "metadata": {
    "scrolled": true
   },
   "outputs": [
    {
     "name": "stderr",
     "output_type": "stream",
     "text": [
      "INFO:REST:*** Generating RESTTopologyFactoryV3 ***\n",
      "INFO:REST:No unknown forces.\n",
      "INFO:REST:alpha_ewald is 2.7569734238004693\n",
      "INFO:REST:No MonteCarloBarostat added.\n",
      "INFO:REST:getDefaultPeriodicBoxVectors added to hybrid: [Quantity(value=Vec3(x=6.7997, y=0.0, z=0.0), unit=nanometer), Quantity(value=Vec3(x=0.0, y=6.7997, z=0.0), unit=nanometer), Quantity(value=Vec3(x=0.0, y=0.0, z=6.7997), unit=nanometer)]\n"
     ]
    }
   ],
   "source": [
    "# Create REST-ified hybrid system\n",
    "for res in htf.hybrid_topology.residues:\n",
    "    if res.resSeq == 83 and res.chain.index == 0:\n",
    "        mutated_res = res\n",
    "query_indices = [atom.index for atom in mutated_res.atoms]\n",
    "factory = RESTTopologyFactoryV3(system, htf.hybrid_topology, rest_region=query_indices, use_dispersion_correction=True)\n",
    "REST_system = factory.REST_system"
   ]
  },
  {
   "cell_type": "code",
   "execution_count": 13,
   "id": "eee948f6",
   "metadata": {},
   "outputs": [
    {
     "data": {
      "text/plain": [
       "[<openmm.openmm.CustomBondForce; proxy of <Swig Object of type 'OpenMM::CustomBondForce *' at 0x2afff3a492d0> >,\n",
       " <openmm.openmm.CustomAngleForce; proxy of <Swig Object of type 'OpenMM::CustomAngleForce *' at 0x2afff3a49090> >,\n",
       " <openmm.openmm.CustomTorsionForce; proxy of <Swig Object of type 'OpenMM::CustomTorsionForce *' at 0x2afff3a494e0> >,\n",
       " <openmm.openmm.CustomNonbondedForce; proxy of <Swig Object of type 'OpenMM::CustomNonbondedForce *' at 0x2afff3a495a0> >,\n",
       " <openmm.openmm.CustomNonbondedForce; proxy of <Swig Object of type 'OpenMM::CustomNonbondedForce *' at 0x2afff3a494b0> >,\n",
       " <openmm.openmm.CustomBondForce; proxy of <Swig Object of type 'OpenMM::CustomBondForce *' at 0x2afff3a498d0> >,\n",
       " <openmm.openmm.NonbondedForce; proxy of <Swig Object of type 'OpenMM::NonbondedForce *' at 0x2afff3a49cc0> >]"
      ]
     },
     "execution_count": 13,
     "metadata": {},
     "output_type": "execute_result"
    }
   ],
   "source": [
    "REST_system.getForces()"
   ]
  },
  {
   "cell_type": "code",
   "execution_count": 16,
   "id": "94b039d9",
   "metadata": {
    "scrolled": true
   },
   "outputs": [
    {
     "name": "stdout",
     "output_type": "stream",
     "text": [
      "Warning: Returning CPU platform instead of requested platform <openmm.openmm.Platform; proxy of <Swig Object of type 'OpenMM::Platform *' at 0x2affc41d4fc0> >\n",
      "conducting subsequent work with the following platform: CPU\n",
      "conducting subsequent work with the following platform: CUDA\n",
      "conducting subsequent work with the following platform: CUDA\n",
      "[('HarmonicBondForce', 190.422816373736), ('HarmonicAngleForce', 985.4863168499243), ('PeriodicTorsionForce', 3830.525428648827), ('NonbondedForce', 1009543.8919122608), ('AndersenThermostat', 0.0)]\n",
      "[('CustomBondForce', 190.422816373736), ('CustomAngleForce', 985.4863168499243), ('CustomTorsionForce', 3830.525597734782), ('CustomNonbondedForce', -144729.3946850595), ('CustomNonbondedForce', 1164850.2942324295), ('CustomBondForce', 809622.4274020933), ('NonbondedForce', -820199.4379289018), ('AndersenThermostat', 0.0)]\n",
      "1009543.8919122608\n",
      "1009543.8890205615\n",
      "Energy bookkeeping was a success!\n"
     ]
    }
   ],
   "source": [
    "compare_energy_components(REST_system, system, positions)\n"
   ]
  },
  {
   "cell_type": "code",
   "execution_count": null,
   "id": "d4361987",
   "metadata": {},
   "outputs": [],
   "source": []
  },
  {
   "cell_type": "markdown",
   "id": "68658001",
   "metadata": {},
   "source": [
    "# Test energy validation for rest vs alchemical system"
   ]
  },
  {
   "cell_type": "code",
   "execution_count": 46,
   "id": "1c920ce6",
   "metadata": {},
   "outputs": [],
   "source": [
    "# Load htf for N501Y\n",
    "with open(\"/data/chodera/zhangi/perses_benchmark/neq/20/30/30_apo.pickle\", \"rb\") as f:\n",
    "    htf = pickle.load(f)\n",
    "    other_system = htf.hybrid_system\n",
    "    "
   ]
  },
  {
   "cell_type": "code",
   "execution_count": 47,
   "id": "a360e34f",
   "metadata": {},
   "outputs": [],
   "source": [
    "# Load r-htf for N501Y\n",
    "with open(\"/data/chodera/zhangi/perses_benchmark/neq/20/30/30_apo_0.pickle\", \"rb\") as f:\n",
    "    rhtf = pickle.load(f)\n",
    "    "
   ]
  },
  {
   "cell_type": "code",
   "execution_count": 83,
   "id": "09689ed1",
   "metadata": {},
   "outputs": [],
   "source": [
    "# Read in REST snapshot\n",
    "with open(\"/data/chodera/zhangi/perses_benchmark/neq/20/30/30_apo_arg_1ns_snapshots.npy\", \"rb\") as f:\n",
    "    cache = np.load(f)\n",
    "    positions = cache[0]"
   ]
  },
  {
   "cell_type": "code",
   "execution_count": 24,
   "id": "839c13dd",
   "metadata": {},
   "outputs": [
    {
     "data": {
      "text/plain": [
       "[<simtk.openmm.openmm.MonteCarloBarostat; proxy of <Swig Object of type 'OpenMM::MonteCarloBarostat *' at 0x2ac1bf123db0> >,\n",
       " <simtk.openmm.openmm.CustomBondForce; proxy of <Swig Object of type 'OpenMM::CustomBondForce *' at 0x2ac1bf1236c0> >,\n",
       " <simtk.openmm.openmm.HarmonicBondForce; proxy of <Swig Object of type 'OpenMM::HarmonicBondForce *' at 0x2ac1bf1238d0> >,\n",
       " <simtk.openmm.openmm.CustomAngleForce; proxy of <Swig Object of type 'OpenMM::CustomAngleForce *' at 0x2ac1bf123ea0> >,\n",
       " <simtk.openmm.openmm.HarmonicAngleForce; proxy of <Swig Object of type 'OpenMM::HarmonicAngleForce *' at 0x2ac1bc373510> >,\n",
       " <simtk.openmm.openmm.CustomTorsionForce; proxy of <Swig Object of type 'OpenMM::CustomTorsionForce *' at 0x2ac1bc373450> >,\n",
       " <simtk.openmm.openmm.PeriodicTorsionForce; proxy of <Swig Object of type 'OpenMM::PeriodicTorsionForce *' at 0x2ac1bc373ed0> >,\n",
       " <simtk.openmm.openmm.NonbondedForce; proxy of <Swig Object of type 'OpenMM::NonbondedForce *' at 0x2ac1bc3733f0> >,\n",
       " <simtk.openmm.openmm.CustomNonbondedForce; proxy of <Swig Object of type 'OpenMM::CustomNonbondedForce *' at 0x2ac1bc373e10> >,\n",
       " <simtk.openmm.openmm.CustomBondForce; proxy of <Swig Object of type 'OpenMM::CustomBondForce *' at 0x2ac1bc373e40> >]"
      ]
     },
     "execution_count": 24,
     "metadata": {},
     "output_type": "execute_result"
    }
   ],
   "source": [
    "htf.hybrid_system.getForces()\n"
   ]
  },
  {
   "cell_type": "code",
   "execution_count": 25,
   "id": "09bd76d7",
   "metadata": {},
   "outputs": [
    {
     "data": {
      "text/plain": [
       "True"
      ]
     },
     "execution_count": 25,
     "metadata": {},
     "output_type": "execute_result"
    }
   ],
   "source": [
    "htf.hybrid_system.getForce(7).getUseDispersionCorrection()"
   ]
  },
  {
   "cell_type": "code",
   "execution_count": 26,
   "id": "c1ee46f7",
   "metadata": {},
   "outputs": [
    {
     "data": {
      "text/plain": [
       "False"
      ]
     },
     "execution_count": 26,
     "metadata": {},
     "output_type": "execute_result"
    }
   ],
   "source": [
    "htf.hybrid_system.getForce(8).getUseLongRangeCorrection()"
   ]
  },
  {
   "cell_type": "code",
   "execution_count": 62,
   "id": "bd8cb19f",
   "metadata": {},
   "outputs": [],
   "source": [
    "htf.hybrid_system.getForce(8).setUseLongRangeCorrection(True)"
   ]
  },
  {
   "cell_type": "code",
   "execution_count": 60,
   "id": "be0879ba",
   "metadata": {},
   "outputs": [
    {
     "data": {
      "text/plain": [
       "[<simtk.openmm.openmm.MonteCarloBarostat; proxy of <Swig Object of type 'OpenMM::MonteCarloBarostat *' at 0x2ac1b49fd510> >,\n",
       " <simtk.openmm.openmm.HarmonicBondForce; proxy of <Swig Object of type 'OpenMM::HarmonicBondForce *' at 0x2ac1b49fd690> >,\n",
       " <simtk.openmm.openmm.HarmonicAngleForce; proxy of <Swig Object of type 'OpenMM::HarmonicAngleForce *' at 0x2ac1b49fd9f0> >,\n",
       " <simtk.openmm.openmm.PeriodicTorsionForce; proxy of <Swig Object of type 'OpenMM::PeriodicTorsionForce *' at 0x2ac1b49fd660> >,\n",
       " <simtk.openmm.openmm.NonbondedForce; proxy of <Swig Object of type 'OpenMM::NonbondedForce *' at 0x2ac1b49fd930> >]"
      ]
     },
     "execution_count": 60,
     "metadata": {},
     "output_type": "execute_result"
    }
   ],
   "source": [
    "rhtf.hybrid_system.getForces()"
   ]
  },
  {
   "cell_type": "code",
   "execution_count": 61,
   "id": "5e0fc0ed",
   "metadata": {},
   "outputs": [
    {
     "data": {
      "text/plain": [
       "True"
      ]
     },
     "execution_count": 61,
     "metadata": {},
     "output_type": "execute_result"
    }
   ],
   "source": [
    "rhtf.hybrid_system.getForce(4).getUseDispersionCorrection()"
   ]
  },
  {
   "cell_type": "code",
   "execution_count": 63,
   "id": "6cdcf8d1",
   "metadata": {},
   "outputs": [
    {
     "name": "stdout",
     "output_type": "stream",
     "text": [
      "Warning: Returning CPU platform instead of requested platform <simtk.openmm.openmm.Platform; proxy of <Swig Object of type 'OpenMM::Platform *' at 0x2ac187538090> >\n",
      "conducting subsequent work with the following platform: CPU\n",
      "conducting subsequent work with the following platform: CUDA\n",
      "conducting subsequent work with the following platform: CUDA\n",
      "[('CustomBondForce', 13.699962314812757), ('HarmonicBondForce', 517.3075394557935), ('CustomAngleForce', 30.368232433776903), ('HarmonicAngleForce', 1340.4011976952545), ('CustomTorsionForce', 5.3660797531597755), ('PeriodicTorsionForce', 2233.937375370346), ('NonbondedForce', -122936.57998551511), ('CustomNonbondedForce', -69.98328336984765), ('CustomBondForce', -507.6435468959307), ('AndersenThermostat', 0.0), ('MonteCarloBarostat', 0.0)]\n"
     ]
    }
   ],
   "source": [
    "platform = configure_platform(REFERENCE_PLATFORM)\n",
    "\n",
    "# Create thermodynamic state and sampler state for non-rest system\n",
    "thermostate_other = ThermodynamicState(system=other_system, temperature=temperature)\n",
    "\n",
    "# Create context for non-rest system\n",
    "integrator_other = openmm.VerletIntegrator(1.0*unit.femtosecond)\n",
    "context_other = thermostate_other.create_context(integrator_other)\n",
    "context_other.setPositions(positions)\n",
    "\n",
    "# Get energy components for non-rest system\n",
    "components_other = [component[1] for component in compute_potential_components(context_other, beta=beta)]\n",
    "print(compute_potential_components(context_other, beta=beta))\n"
   ]
  },
  {
   "cell_type": "code",
   "execution_count": 81,
   "id": "dd9a7569",
   "metadata": {},
   "outputs": [
    {
     "name": "stderr",
     "output_type": "stream",
     "text": [
      "INFO:REST:Added MonteCarloBarostat.\n",
      "INFO:REST:getDefaultPeriodicBoxVectors added to hybrid: [Quantity(value=Vec3(x=6.2004, y=0.0, z=0.0), unit=nanometer), Quantity(value=Vec3(x=0.0, y=6.2004, z=0.0), unit=nanometer), Quantity(value=Vec3(x=0.0, y=0.0, z=6.2004), unit=nanometer)]\n",
      "INFO:REST:No unknown forces.\n",
      "INFO:REST:Handling constraints\n",
      "INFO:REST:Handling bonds\n",
      "INFO:REST:Handling angles\n",
      "INFO:REST:Handling torsions\n",
      "INFO:REST:Handling nonbondeds\n",
      "INFO:REST:Handling nonbonded scaling (custom nb)\n",
      "INFO:REST:Handling nonbonded exception scaling (custom bond)\n"
     ]
    }
   ],
   "source": [
    "# Create REST-ified hybrid system\n",
    "for res in htf.hybrid_topology.residues:\n",
    "    if res.resSeq == 83 and res.chain.index == 0:\n",
    "        mutated_res = res\n",
    "query_indices = [atom.index for atom in mutated_res.atoms]\n",
    "factory = RESTTopologyFactoryV2(rhtf.hybrid_system, rhtf.hybrid_topology, rest_region=query_indices, use_dispersion_correction=True)\n",
    "REST_system = factory.REST_system\n",
    "# REST_system.getForce(3).setNonbondedMethod(openmm.NonbondedForce.NoCutoff)\n",
    "# REST_system.getForce(4).setNonbondedMethod(openmm.NonbondedForce.NoCutoff)\n"
   ]
  },
  {
   "cell_type": "code",
   "execution_count": 84,
   "id": "dece076c",
   "metadata": {},
   "outputs": [
    {
     "name": "stdout",
     "output_type": "stream",
     "text": [
      "conducting subsequent work with the following platform: CUDA\n",
      "conducting subsequent work with the following platform: CUDA\n",
      "[('CustomBondForce', 531.0075017706062), ('CustomAngleForce', 1370.7694301290317), ('CustomTorsionForce', 2239.303907964772), ('NonbondedForce', -123514.20672016767), ('CustomNonbondedForce', 0.0), ('CustomBondForce', 0.0), ('AndersenThermostat', 0.0), ('MonteCarloBarostat', 0.0)]\n"
     ]
    }
   ],
   "source": [
    "# Create thermodynamic state for rest_system\n",
    "thermostate_rest = ThermodynamicState(system=REST_system, temperature=temperature)\n",
    "\n",
    "# Create context for rest system\n",
    "integrator_rest = openmm.VerletIntegrator(1.0 * unit.femtosecond)\n",
    "context_rest = thermostate_rest.create_context(integrator_rest)\n",
    "context_rest.setPositions(positions)\n",
    "\n",
    "# Get energy components for rest system\n",
    "components_rest = [component[1] for component in compute_potential_components(context_rest, beta=beta)]\n",
    "print(compute_potential_components(context_rest, beta=beta))"
   ]
  },
  {
   "cell_type": "code",
   "execution_count": 85,
   "id": "420d1f3b",
   "metadata": {},
   "outputs": [],
   "source": [
    "assert np.isclose([components_other[0] + components_other[1]], [components_rest[0]])\n"
   ]
  },
  {
   "cell_type": "code",
   "execution_count": 86,
   "id": "5ba152ac",
   "metadata": {},
   "outputs": [],
   "source": [
    "assert np.isclose([components_other[2] + components_other[3]], [components_rest[1]])\n"
   ]
  },
  {
   "cell_type": "code",
   "execution_count": 87,
   "id": "9577f26e",
   "metadata": {},
   "outputs": [],
   "source": [
    "assert np.isclose([components_other[4] + components_other[5]], [components_rest[2]])\n"
   ]
  },
  {
   "cell_type": "code",
   "execution_count": 88,
   "id": "cbd68eee",
   "metadata": {},
   "outputs": [],
   "source": [
    "assert np.isclose(components_other[6] + components_other[7] + components_other[8], components_rest[3] + components_rest[4] + components_rest[5]), f\"The energies do not match for the {components_other[6] + components_other[7] + components_other[8]} (other system) vs. {components_rest[3]} (REST system)\"\n"
   ]
  },
  {
   "cell_type": "code",
   "execution_count": 89,
   "id": "82629d90",
   "metadata": {},
   "outputs": [
    {
     "data": {
      "text/plain": [
       "[531.0075017706062,\n",
       " 1370.7694301290317,\n",
       " 2239.303907964772,\n",
       " -123514.20672016784,\n",
       " 0.0,\n",
       " 0.0,\n",
       " 0.0,\n",
       " 0.0]"
      ]
     },
     "execution_count": 89,
     "metadata": {},
     "output_type": "execute_result"
    }
   ],
   "source": [
    "components_rest"
   ]
  },
  {
   "cell_type": "code",
   "execution_count": 90,
   "id": "2f156114",
   "metadata": {},
   "outputs": [
    {
     "data": {
      "text/plain": [
       "[13.699962314812757,\n",
       " 517.3075394557935,\n",
       " 30.368232433776903,\n",
       " 1340.4011976952545,\n",
       " 5.3660797531597755,\n",
       " 2233.937375370346,\n",
       " -122936.57998551511,\n",
       " -69.98328336984765,\n",
       " -507.6435468959307,\n",
       " 0.0,\n",
       " 0.0]"
      ]
     },
     "execution_count": 90,
     "metadata": {},
     "output_type": "execute_result"
    }
   ],
   "source": [
    "components_other"
   ]
  },
  {
   "cell_type": "code",
   "execution_count": 91,
   "id": "67af1813",
   "metadata": {},
   "outputs": [
    {
     "data": {
      "text/plain": [
       "-123514.20681578088"
      ]
     },
     "execution_count": 91,
     "metadata": {},
     "output_type": "execute_result"
    }
   ],
   "source": [
    "components_other[6] + components_other[7] + components_other[8]\n"
   ]
  },
  {
   "cell_type": "code",
   "execution_count": 92,
   "id": "1e549696",
   "metadata": {},
   "outputs": [
    {
     "data": {
      "text/plain": [
       "-123514.20672016784"
      ]
     },
     "execution_count": 92,
     "metadata": {},
     "output_type": "execute_result"
    }
   ],
   "source": [
    "components_rest[3] + components_rest[4] + components_rest[5]\n"
   ]
  },
  {
   "cell_type": "markdown",
   "id": "1acde276",
   "metadata": {},
   "source": [
    "### Run 100 ps of MD on unscaled system and check energies of alchemical hybrid system vs rest system at 300 K"
   ]
  },
  {
   "cell_type": "code",
   "execution_count": 93,
   "id": "b40db758",
   "metadata": {},
   "outputs": [],
   "source": [
    "import openmmtools\n",
    "from openmmtools import cache\n",
    "from tqdm import tqdm_notebook\n",
    "from perses.dispersed import feptasks\n"
   ]
  },
  {
   "cell_type": "code",
   "execution_count": 94,
   "id": "939d2e91",
   "metadata": {},
   "outputs": [],
   "source": [
    "phase = 'apo'\n",
    "name = \"arg\"\n",
    "state = 0\n",
    "\n",
    "length = 1\n",
    "move_length = 1\n",
    "timestep = 4\n",
    "radius = 0.4\n",
    "\n",
    "outdir = \"/data/chodera/zhangi/perses_benchmark/neq/20/30/\""
   ]
  },
  {
   "cell_type": "code",
   "execution_count": 95,
   "id": "572947e5",
   "metadata": {},
   "outputs": [],
   "source": [
    "# Load rhtf\n",
    "i = os.path.basename(os.path.dirname(outdir))\n",
    "path = os.path.join(outdir, f\"{i}_{phase}_0.pickle\")\n",
    "htf = pickle.load(open(path, \"rb\" ))\n",
    "\n",
    "    "
   ]
  },
  {
   "cell_type": "code",
   "execution_count": 96,
   "id": "de9886a5",
   "metadata": {},
   "outputs": [],
   "source": [
    "thermostate = ThermodynamicState(htf.hybrid_system, temperature=300 *unit.kelvin)\n",
    "sampler_state = SamplerState(htf.hybrid_positions, box_vectors=htf.hybrid_system.getDefaultPeriodicBoxVectors())"
   ]
  },
  {
   "cell_type": "code",
   "execution_count": 97,
   "id": "9c6ff26b",
   "metadata": {},
   "outputs": [],
   "source": [
    "context_cache = cache.global_context_cache\n",
    "integrator = openmmtools.integrators.LangevinIntegrator(temperature=300 * unit.kelvin,\n",
    "                                              collision_rate=1 / unit.picoseconds,\n",
    "                                              timestep= 4 * unit.femtoseconds)"
   ]
  },
  {
   "cell_type": "code",
   "execution_count": 98,
   "id": "b7f0bf8c",
   "metadata": {
    "scrolled": true
   },
   "outputs": [],
   "source": [
    "context, integrator = context_cache.get_context(thermostate, integrator)\n",
    "sampler_state.apply_to_context(context)"
   ]
  },
  {
   "cell_type": "code",
   "execution_count": 99,
   "id": "5ad55302",
   "metadata": {},
   "outputs": [],
   "source": [
    "openmm.LocalEnergyMinimizer.minimize(context)"
   ]
  },
  {
   "cell_type": "code",
   "execution_count": 100,
   "id": "b3532dcd",
   "metadata": {
    "scrolled": true
   },
   "outputs": [
    {
     "name": "stderr",
     "output_type": "stream",
     "text": [
      "<ipython-input-100-2cac9fbaae0a>:2: TqdmDeprecationWarning: This function will be removed in tqdm==5.0.0\n",
      "Please use `tqdm.notebook.tqdm` instead of `tqdm.tqdm_notebook`\n",
      "  for _ in tqdm_notebook(range(int(25000/250))):\n"
     ]
    },
    {
     "data": {
      "application/vnd.jupyter.widget-view+json": {
       "model_id": "87b1eb5b445e485e8355111137f01e9f",
       "version_major": 2,
       "version_minor": 0
      },
      "text/plain": [
       "  0%|          | 0/100 [00:00<?, ?it/s]"
      ]
     },
     "metadata": {},
     "output_type": "display_data"
    }
   ],
   "source": [
    "positions = list()\n",
    "for _ in tqdm_notebook(range(int(25000/250))):\n",
    "    integrator.step(250)\n",
    "    \n",
    "    pos = context.getState(getPositions=True, enforcePeriodicBox=False).getPositions(asNumpy=True)\n",
    "    positions.append(pos)"
   ]
  },
  {
   "cell_type": "code",
   "execution_count": 124,
   "id": "164075c7",
   "metadata": {},
   "outputs": [],
   "source": [
    "# Read in REST snapshot\n",
    "with open(\"/data/chodera/zhangi/perses_benchmark/neq/20/30/30_apo_arg_1ns_snapshots.npy\", \"rb\") as f:\n",
    "    snapshot_cache = np.load(f)\n"
   ]
  },
  {
   "cell_type": "code",
   "execution_count": 121,
   "id": "3b473159",
   "metadata": {},
   "outputs": [
    {
     "data": {
      "text/plain": [
       "[Quantity(value=array([[1.62017547, 5.11637411, 2.7475182 ],\n",
       "        [1.66982637, 5.04084127, 2.63176454],\n",
       "        [1.67142078, 5.09295431, 2.52177737],\n",
       "        ...,\n",
       "        [5.00493253, 1.41303123, 4.0767216 ],\n",
       "        [5.64715911, 0.7793285 , 1.6171197 ],\n",
       "        [2.96300286, 4.11161913, 1.60323354]]), unit=nanometer),\n",
       " Quantity(value=array([[1.62449643, 5.17777502, 2.65802698],\n",
       "        [1.69007451, 5.0857864 , 2.56030339],\n",
       "        [1.70973636, 5.12088494, 2.44227357],\n",
       "        ...,\n",
       "        [4.94859993, 1.38447439, 4.06003112],\n",
       "        [5.65277843, 0.74474344, 1.60646749],\n",
       "        [2.97459435, 4.07452748, 1.59800201]]), unit=nanometer),\n",
       " Quantity(value=array([[1.5107626 , 5.00397512, 2.78941195],\n",
       "        [1.58431074, 4.97083754, 2.66117482],\n",
       "        [1.55226889, 5.03471042, 2.56287271],\n",
       "        ...,\n",
       "        [4.86198711, 1.35227954, 3.92806891],\n",
       "        [5.66197603, 0.68776609, 1.66034594],\n",
       "        [3.05681162, 4.0529194 , 1.52252507]]), unit=nanometer),\n",
       " Quantity(value=array([[1.69912794, 5.07969644, 2.83187638],\n",
       "        [1.70153563, 5.01663682, 2.69410336],\n",
       "        [1.64277744, 5.07038613, 2.60451699],\n",
       "        ...,\n",
       "        [4.86458509, 1.37646916, 4.0246181 ],\n",
       "        [5.70186621, 0.73767891, 1.67879357],\n",
       "        [2.9972823 , 4.07591981, 1.5517414 ]]), unit=nanometer),\n",
       " Quantity(value=array([[1.77505421, 5.09913096, 2.81883106],\n",
       "        [1.84239507, 5.05324752, 2.68424523],\n",
       "        [1.9217406 , 5.1255818 , 2.62380373],\n",
       "        ...,\n",
       "        [4.8288592 , 1.31290041, 4.05398305],\n",
       "        [5.72766468, 0.69519895, 1.66900919],\n",
       "        [3.0132734 , 4.11760192, 1.59055718]]), unit=nanometer),\n",
       " Quantity(value=array([[1.72904128, 5.14767852, 2.75220378],\n",
       "        [1.76267492, 5.07565219, 2.62270777],\n",
       "        [1.77108008, 5.14659542, 2.52313147],\n",
       "        ...,\n",
       "        [4.90358354, 1.36946157, 3.95971274],\n",
       "        [5.58577256, 0.73816324, 1.63642314],\n",
       "        [2.98523897, 4.12306595, 1.53670162]]), unit=nanometer),\n",
       " Quantity(value=array([[1.5401299 , 5.03851226, 2.74754972],\n",
       "        [1.63142062, 5.00729413, 2.62927842],\n",
       "        [1.5970191 , 5.04405835, 2.51531586],\n",
       "        ...,\n",
       "        [4.78124374, 1.4286423 , 3.91645011],\n",
       "        [5.52463347, 0.78563359, 1.53470612],\n",
       "        [2.9898091 , 4.11993623, 1.59922145]]), unit=nanometer),\n",
       " Quantity(value=array([[1.62045922, 5.08451697, 2.77957567],\n",
       "        [1.68352122, 5.03048662, 2.65224577],\n",
       "        [1.64506116, 5.07883481, 2.54623503],\n",
       "        ...,\n",
       "        [4.83647788, 1.42145356, 3.91061247],\n",
       "        [5.46876025, 0.84401019, 1.5306317 ],\n",
       "        [2.96632239, 4.10437115, 1.57869984]]), unit=nanometer),\n",
       " Quantity(value=array([[1.51172501, 5.11649851, 2.65119819],\n",
       "        [1.60161247, 5.06757758, 2.54453574],\n",
       "        [1.58706964, 5.10828511, 2.43155921],\n",
       "        ...,\n",
       "        [4.7706551 , 1.3558413 , 4.02050514],\n",
       "        [5.34675408, 0.69323476, 1.44199903],\n",
       "        [2.97611603, 4.07886393, 1.57450406]]), unit=nanometer),\n",
       " Quantity(value=array([[1.52195745, 5.12936654, 2.63435124],\n",
       "        [1.62071085, 5.06937546, 2.53857212],\n",
       "        [1.61346691, 5.10853036, 2.4222439 ],\n",
       "        ...,\n",
       "        [4.73864777, 1.33567838, 4.02802748],\n",
       "        [5.27839718, 0.7248911 , 1.31768578],\n",
       "        [2.93538078, 4.11275212, 1.63318946]]), unit=nanometer),\n",
       " Quantity(value=array([[1.58147345, 5.12207476, 2.6967266 ],\n",
       "        [1.64655482, 5.05652303, 2.56974435],\n",
       "        [1.61536621, 5.08926665, 2.45530279],\n",
       "        ...,\n",
       "        [4.8869158 , 1.29722413, 4.13403307],\n",
       "        [5.40412333, 0.72939141, 1.43855805],\n",
       "        [2.97290386, 4.10032658, 1.64153756]]), unit=nanometer),\n",
       " Quantity(value=array([[1.65820667, 5.22397805, 2.66731854],\n",
       "        [1.69833288, 5.13713666, 2.54595213],\n",
       "        [1.66625328, 5.17604445, 2.43395908],\n",
       "        ...,\n",
       "        [4.87893121, 1.2551144 , 4.15846586],\n",
       "        [5.45375592, 0.78719884, 1.48449431],\n",
       "        [3.02815763, 4.11430951, 1.59358574]]), unit=nanometer),\n",
       " Quantity(value=array([[1.61068515, 5.16498259, 2.68826488],\n",
       "        [1.67369762, 5.10722802, 2.56791431],\n",
       "        [1.66441956, 5.15362169, 2.455776  ],\n",
       "        ...,\n",
       "        [4.97065614, 1.23671719, 4.24718918],\n",
       "        [5.43997774, 0.76364846, 1.58832547],\n",
       "        [3.0688135 , 4.10088727, 1.55732585]]), unit=nanometer),\n",
       " Quantity(value=array([[1.68562758, 5.17395319, 2.70358659],\n",
       "        [1.72522315, 5.11029951, 2.57900565],\n",
       "        [1.67854311, 5.15538691, 2.47483639],\n",
       "        ...,\n",
       "        [4.91721529, 1.29909681, 4.21186164],\n",
       "        [5.39653618, 0.72648948, 1.5758022 ],\n",
       "        [3.02693802, 4.09558608, 1.54516937]]), unit=nanometer),\n",
       " Quantity(value=array([[1.66721196, 5.15872405, 2.6740856 ],\n",
       "        [1.71357969, 5.06222305, 2.55896524],\n",
       "        [1.69962009, 5.10899899, 2.44480495],\n",
       "        ...,\n",
       "        [4.88658381, 1.26695959, 4.20973142],\n",
       "        [5.43777568, 0.6913835 , 1.6512867 ],\n",
       "        [3.05083701, 4.10105168, 1.5727156 ]]), unit=nanometer),\n",
       " Quantity(value=array([[1.61845335, 5.2425468 , 2.63196014],\n",
       "        [1.6737116 , 5.15801364, 2.51594743],\n",
       "        [1.6601415 , 5.19967951, 2.40377503],\n",
       "        ...,\n",
       "        [4.88965436, 1.35133965, 4.14530398],\n",
       "        [5.47691532, 0.78824782, 1.61789101],\n",
       "        [3.05353702, 4.10072774, 1.54922293]]), unit=nanometer),\n",
       " Quantity(value=array([[1.5814604 , 5.19626352, 2.65992384],\n",
       "        [1.64212854, 5.12031111, 2.55152102],\n",
       "        [1.63724428, 5.16390373, 2.4374741 ],\n",
       "        ...,\n",
       "        [4.96213377, 1.24014799, 4.18888555],\n",
       "        [5.41959868, 0.85606526, 1.57456063],\n",
       "        [3.05968524, 4.11834598, 1.58581726]]), unit=nanometer),\n",
       " Quantity(value=array([[1.59944303, 5.23422319, 2.73339128],\n",
       "        [1.6444438 , 5.14615566, 2.6243537 ],\n",
       "        [1.61738358, 5.18231343, 2.51237029],\n",
       "        ...,\n",
       "        [4.95282186, 1.19098991, 4.17296606],\n",
       "        [5.47721188, 0.88083614, 1.60600849],\n",
       "        [3.02352094, 4.16013262, 1.57713247]]), unit=nanometer),\n",
       " Quantity(value=array([[1.54663316, 5.15376815, 2.68525988],\n",
       "        [1.60698649, 5.07291579, 2.5687618 ],\n",
       "        [1.57148197, 5.09301797, 2.45613907],\n",
       "        ...,\n",
       "        [4.95413314, 1.13630771, 4.22599371],\n",
       "        [5.49079173, 1.04145674, 1.51920545],\n",
       "        [3.05317564, 4.13027862, 1.60410446]]), unit=nanometer),\n",
       " Quantity(value=array([[1.64021535, 5.13989534, 2.73981484],\n",
       "        [1.6695525 , 5.0615439 , 2.6135751 ],\n",
       "        [1.61351681, 5.09715546, 2.50782076],\n",
       "        ...,\n",
       "        [5.00681453, 1.09303714, 4.26145949],\n",
       "        [5.47678028, 1.08445576, 1.42849845],\n",
       "        [3.04531705, 4.15608441, 1.55765841]]), unit=nanometer),\n",
       " Quantity(value=array([[1.6581128 , 5.0653569 , 2.75258106],\n",
       "        [1.7073779 , 4.99918317, 2.62417662],\n",
       "        [1.67834107, 5.04760446, 2.51400112],\n",
       "        ...,\n",
       "        [4.93054423, 1.15967068, 4.36493346],\n",
       "        [5.57606782, 0.99808905, 1.51987162],\n",
       "        [3.03954596, 4.07171976, 1.62585281]]), unit=nanometer),\n",
       " Quantity(value=array([[1.61294719, 5.08429784, 2.74413737],\n",
       "        [1.68615348, 5.04041939, 2.62042155],\n",
       "        [1.65082953, 5.09213791, 2.50892019],\n",
       "        ...,\n",
       "        [4.92990606, 1.22356528, 4.42576165],\n",
       "        [5.55577862, 1.01627606, 1.45288876],\n",
       "        [3.02852766, 4.12788763, 1.5736694 ]]), unit=nanometer),\n",
       " Quantity(value=array([[1.607057  , 5.12578672, 2.72485863],\n",
       "        [1.66377648, 5.02415024, 2.6257141 ],\n",
       "        [1.61144778, 5.01962858, 2.51587102],\n",
       "        ...,\n",
       "        [4.90784632, 1.20093144, 4.49625079],\n",
       "        [5.58846538, 1.06908398, 1.30453124],\n",
       "        [3.02092215, 4.14094488, 1.54681704]]), unit=nanometer),\n",
       " Quantity(value=array([[1.7412723 , 5.09180665, 2.74199252],\n",
       "        [1.76487571, 5.01408629, 2.6176258 ],\n",
       "        [1.69263108, 5.02763623, 2.52064116],\n",
       "        ...,\n",
       "        [4.92968437, 1.15703936, 4.50952918],\n",
       "        [5.58712979, 1.00506979, 1.40380237],\n",
       "        [3.03023636, 4.11953784, 1.5986553 ]]), unit=nanometer),\n",
       " Quantity(value=array([[1.72692236, 5.13674666, 2.80890321],\n",
       "        [1.75448409, 5.05919245, 2.67715463],\n",
       "        [1.6657972 , 5.06433793, 2.59184583],\n",
       "        ...,\n",
       "        [4.81840578, 1.23711292, 4.50773653],\n",
       "        [5.58101845, 0.91430352, 1.39372891],\n",
       "        [3.0174627 , 4.09907308, 1.62010426]]), unit=nanometer),\n",
       " Quantity(value=array([[1.7964311 , 5.24432268, 2.75261262],\n",
       "        [1.82252672, 5.16246622, 2.62806801],\n",
       "        [1.82065494, 5.21417092, 2.51690903],\n",
       "        ...,\n",
       "        [4.74220281, 1.09309131, 4.37599692],\n",
       "        [5.65045754, 0.99543372, 1.35491316],\n",
       "        [3.01379612, 4.11728217, 1.67512566]]), unit=nanometer),\n",
       " Quantity(value=array([[1.83512348, 5.24634734, 2.71334302],\n",
       "        [1.84186859, 5.13268492, 2.61571029],\n",
       "        [1.76596481, 5.14810214, 2.51526539],\n",
       "        ...,\n",
       "        [4.70563874, 1.0248423 , 4.26583946],\n",
       "        [5.63645009, 0.99265944, 1.36484828],\n",
       "        [3.04494398, 4.10317184, 1.64282018]]), unit=nanometer),\n",
       " Quantity(value=array([[1.73634545, 5.18803515, 2.71199909],\n",
       "        [1.75437132, 5.08596781, 2.60874007],\n",
       "        [1.68140975, 5.09148294, 2.51002456],\n",
       "        ...,\n",
       "        [4.81227311, 1.03016748, 4.40258399],\n",
       "        [5.62743256, 1.01311283, 1.34500313],\n",
       "        [3.01792192, 4.11556186, 1.6587343 ]]), unit=nanometer),\n",
       " Quantity(value=array([[1.7452607 , 5.14158039, 2.78472876],\n",
       "        [1.7733535 , 5.06146434, 2.66307101],\n",
       "        [1.7646991 , 5.10818254, 2.54934182],\n",
       "        ...,\n",
       "        [4.83153689, 0.92554545, 4.52192778],\n",
       "        [5.5738217 , 1.00661302, 1.2337993 ],\n",
       "        [3.04037574, 4.07674807, 1.65673389]]), unit=nanometer),\n",
       " Quantity(value=array([[1.70520002, 5.13266706, 2.82948196],\n",
       "        [1.7652767 , 5.08451875, 2.69869257],\n",
       "        [1.73161843, 5.12995729, 2.58454478],\n",
       "        ...,\n",
       "        [4.73295451, 1.03785335, 4.50047752],\n",
       "        [5.50031671, 0.90158255, 1.2417435 ],\n",
       "        [3.03669022, 4.13892705, 1.64053723]]), unit=nanometer),\n",
       " Quantity(value=array([[1.65527603, 5.16318951, 2.80897915],\n",
       "        [1.70746553, 5.09556585, 2.68459364],\n",
       "        [1.68391111, 5.14466498, 2.57791115],\n",
       "        ...,\n",
       "        [4.64541946, 0.96857119, 4.56804335],\n",
       "        [5.40594021, 0.90181818, 1.09401221],\n",
       "        [3.06298792, 4.14739289, 1.70039189]]), unit=nanometer),\n",
       " Quantity(value=array([[1.66376336, 5.13436411, 2.8006934 ],\n",
       "        [1.68323092, 5.06564777, 2.66832574],\n",
       "        [1.64356487, 5.12544584, 2.56400685],\n",
       "        ...,\n",
       "        [4.6584435 , 1.08185338, 4.61888171],\n",
       "        [5.32851832, 1.02046553, 1.12541582],\n",
       "        [3.05278765, 4.214237  , 1.67131151]]), unit=nanometer),\n",
       " Quantity(value=array([[1.706041  , 5.13661797, 2.84203753],\n",
       "        [1.74087841, 5.07354288, 2.71287524],\n",
       "        [1.68047762, 5.10836199, 2.61223037],\n",
       "        ...,\n",
       "        [4.61151284, 1.15923353, 4.60973666],\n",
       "        [5.26404636, 0.97542871, 1.1346288 ],\n",
       "        [3.03054681, 4.153608  , 1.7422503 ]]), unit=nanometer),\n",
       " Quantity(value=array([[1.66350681, 5.08797179, 2.87295841],\n",
       "        [1.71735461, 5.04219171, 2.7443327 ],\n",
       "        [1.69962475, 5.10907996, 2.64462484],\n",
       "        ...,\n",
       "        [4.67841642, 1.25201171, 4.6149488 ],\n",
       "        [5.28515299, 0.98136272, 1.21025562],\n",
       "        [3.03153944, 4.1510198 , 1.69262595]]), unit=nanometer),\n",
       " Quantity(value=array([[1.59742759, 5.13272426, 2.81146636],\n",
       "        [1.64864758, 5.06301622, 2.68924704],\n",
       "        [1.60426404, 5.09335066, 2.57977851],\n",
       "        ...,\n",
       "        [4.74627415, 1.14087688, 4.64160055],\n",
       "        [5.12531199, 0.84318251, 1.25239754],\n",
       "        [3.00358555, 4.1863622 , 1.65118447]]), unit=nanometer),\n",
       " Quantity(value=array([[1.64250849, 5.16729172, 2.80979194],\n",
       "        [1.67888565, 5.07940749, 2.69108835],\n",
       "        [1.61527581, 5.09586272, 2.58776229],\n",
       "        ...,\n",
       "        [4.71435906, 1.15897951, 4.62751322],\n",
       "        [4.927537  , 0.78056301, 1.28379815],\n",
       "        [3.00708941, 4.11353804, 1.66808482]]), unit=nanometer),\n",
       " Quantity(value=array([[1.71411596, 5.12001718, 2.7910383 ],\n",
       "        [1.74606259, 5.02840742, 2.67455123],\n",
       "        [1.67873823, 5.04648632, 2.57280479],\n",
       "        ...,\n",
       "        [4.73625266, 1.11388387, 4.62154218],\n",
       "        [4.96847526, 0.91558658, 1.17660079],\n",
       "        [2.99323699, 4.1368729 , 1.61734486]]), unit=nanometer),\n",
       " Quantity(value=array([[1.75446673, 5.15206251, 2.84214196],\n",
       "        [1.78587846, 5.07743776, 2.71205525],\n",
       "        [1.7283924 , 5.10890473, 2.60640811],\n",
       "        ...,\n",
       "        [4.7031997 , 0.97678899, 4.65349022],\n",
       "        [5.02933274, 1.01591924, 1.2541477 ],\n",
       "        [2.99641048, 4.10637745, 1.62169438]]), unit=nanometer),\n",
       " Quantity(value=array([[1.72452   , 5.14929288, 2.82662052],\n",
       "        [1.75976086, 5.09409241, 2.69101062],\n",
       "        [1.68492761, 5.10674461, 2.58693673],\n",
       "        ...,\n",
       "        [4.73296679, 0.94499513, 4.6005166 ],\n",
       "        [5.00851598, 0.96002359, 1.26057158],\n",
       "        [3.00533254, 4.12130083, 1.63397443]]), unit=nanometer),\n",
       " Quantity(value=array([[1.73551953, 5.17884468, 2.86364429],\n",
       "        [1.75230707, 5.10433971, 2.73515168],\n",
       "        [1.70476767, 5.15202931, 2.63049951],\n",
       "        ...,\n",
       "        [4.73518405, 0.90746545, 4.7400393 ],\n",
       "        [5.03478346, 0.97786662, 1.37051413],\n",
       "        [2.99454544, 4.12123666, 1.60551069]]), unit=nanometer),\n",
       " Quantity(value=array([[1.68414295, 5.11538825, 2.82625505],\n",
       "        [1.73573267, 5.0768319 , 2.69119066],\n",
       "        [1.68559801, 5.13130458, 2.59030146],\n",
       "        ...,\n",
       "        [4.69602063, 0.93312528, 4.7479284 ],\n",
       "        [5.00778927, 0.992128  , 1.31472656],\n",
       "        [3.0289951 , 4.14473434, 1.63281466]]), unit=nanometer),\n",
       " Quantity(value=array([[1.76363665, 5.20052809, 2.78916675],\n",
       "        [1.76456041, 5.1145169 , 2.66244258],\n",
       "        [1.69481033, 5.14328424, 2.56254436],\n",
       "        ...,\n",
       "        [4.74321707, 0.9988486 , 4.87196555],\n",
       "        [5.17467111, 1.0165624 , 1.35498144],\n",
       "        [2.96198175, 4.0718768 , 1.5983363 ]]), unit=nanometer),\n",
       " Quantity(value=array([[1.62180381, 5.18553975, 2.77164574],\n",
       "        [1.66077603, 5.1184382 , 2.64081505],\n",
       "        [1.61202092, 5.15224062, 2.53794249],\n",
       "        ...,\n",
       "        [4.74762423, 1.07763368, 5.01355763],\n",
       "        [5.04534683, 0.89201246, 1.37930966],\n",
       "        [2.95902625, 4.17923467, 1.63095879]]), unit=nanometer),\n",
       " Quantity(value=array([[1.68876601, 5.18995768, 2.7867341 ],\n",
       "        [1.74214624, 5.13933184, 2.66113137],\n",
       "        [1.7183569 , 5.20905089, 2.56041091],\n",
       "        ...,\n",
       "        [4.63839765, 1.06382416, 5.00165948],\n",
       "        [5.10247121, 0.87627125, 1.27831794],\n",
       "        [2.98091192, 4.11064973, 1.5936051 ]]), unit=nanometer),\n",
       " Quantity(value=array([[1.73632631, 5.1998108 , 2.76353579],\n",
       "        [1.75280019, 5.12096304, 2.63561517],\n",
       "        [1.66582318, 5.12072052, 2.55133833],\n",
       "        ...,\n",
       "        [4.69196278, 0.98406134, 5.03102337],\n",
       "        [5.03629654, 0.75776646, 1.26081177],\n",
       "        [3.01607864, 4.15072927, 1.62639422]]), unit=nanometer),\n",
       " Quantity(value=array([[1.78980838, 5.18589857, 2.74860194],\n",
       "        [1.7962082 , 5.0896762 , 2.63264956],\n",
       "        [1.72287471, 5.11065503, 2.53710839],\n",
       "        ...,\n",
       "        [4.67151305, 1.07316602, 5.01210012],\n",
       "        [4.96541685, 0.66242749, 1.21405639],\n",
       "        [2.94995098, 4.13615639, 1.60809686]]), unit=nanometer),\n",
       " Quantity(value=array([[1.76590786, 5.24623244, 2.7801858 ],\n",
       "        [1.78178561, 5.15662908, 2.65936956],\n",
       "        [1.71528165, 5.18161097, 2.55864613],\n",
       "        ...,\n",
       "        [4.68692571, 1.11207281, 5.09407407],\n",
       "        [5.05580296, 0.57041984, 1.20308419],\n",
       "        [2.99798556, 4.12441191, 1.59730783]]), unit=nanometer),\n",
       " Quantity(value=array([[1.85757532, 5.21632658, 2.69166008],\n",
       "        [1.86354091, 5.12510053, 2.57212163],\n",
       "        [1.83676199, 5.1655909 , 2.46103744],\n",
       "        ...,\n",
       "        [4.74926   , 1.03848106, 5.10846164],\n",
       "        [5.15900467, 0.57066453, 1.14806613],\n",
       "        [2.98667267, 4.07044445, 1.57383133]]), unit=nanometer),\n",
       " Quantity(value=array([[1.84347337, 5.23117842, 2.73460788],\n",
       "        [1.84638673, 5.15846388, 2.60934714],\n",
       "        [1.81344012, 5.2070469 , 2.49918069],\n",
       "        ...,\n",
       "        [4.75222367, 0.8405875 , 5.18709687],\n",
       "        [5.22737016, 0.56217067, 1.08420181],\n",
       "        [3.00178849, 4.00283796, 1.55143094]]), unit=nanometer),\n",
       " Quantity(value=array([[1.81173538, 5.20455725, 2.76400478],\n",
       "        [1.84154174, 5.14276222, 2.63245656],\n",
       "        [1.81083073, 5.19901542, 2.52842585],\n",
       "        ...,\n",
       "        [4.64801865, 0.94363156, 5.03924913],\n",
       "        [5.26576544, 0.5356282 , 1.0807344 ],\n",
       "        [2.97284102, 4.04380277, 1.62648675]]), unit=nanometer),\n",
       " Quantity(value=array([[1.76467355, 5.23169351, 2.72861136],\n",
       "        [1.79798441, 5.13796764, 2.61134533],\n",
       "        [1.75053555, 5.15197133, 2.50585121],\n",
       "        ...,\n",
       "        [4.63527693, 0.92591843, 5.12048127],\n",
       "        [5.34536684, 0.58424286, 1.01381791],\n",
       "        [3.00413497, 4.02877405, 1.62220928]]), unit=nanometer),\n",
       " Quantity(value=array([[1.88446973, 5.17093372, 2.79636985],\n",
       "        [1.87611472, 5.09900788, 2.65935082],\n",
       "        [1.79642062, 5.13836321, 2.57294657],\n",
       "        ...,\n",
       "        [4.64505131, 0.85869429, 5.27215699],\n",
       "        [5.39165585, 0.59170198, 0.98113774],\n",
       "        [2.98118776, 4.01296999, 1.62807125]]), unit=nanometer),\n",
       " Quantity(value=array([[1.78167854, 5.26330768, 2.67850867],\n",
       "        [1.7817179 , 5.16137618, 2.56436876],\n",
       "        [1.72407296, 5.18267242, 2.46030053],\n",
       "        ...,\n",
       "        [4.71286187, 0.8842187 , 5.27324643],\n",
       "        [5.34966582, 0.52222465, 0.97685037],\n",
       "        [2.97682746, 3.96775301, 1.57814293]]), unit=nanometer),\n",
       " Quantity(value=array([[1.65312214, 5.15413997, 2.70476678],\n",
       "        [1.72516223, 5.09641013, 2.58520198],\n",
       "        [1.68096147, 5.12183371, 2.47329389],\n",
       "        ...,\n",
       "        [4.71068981, 0.94092192, 5.27813846],\n",
       "        [5.43484272, 0.48379836, 0.97479402],\n",
       "        [2.9371566 , 4.01834762, 1.55824697]]), unit=nanometer),\n",
       " Quantity(value=array([[1.65901179, 5.13134973, 2.70020885],\n",
       "        [1.71207939, 5.07026135, 2.58241624],\n",
       "        [1.66408367, 5.09644719, 2.46703283],\n",
       "        ...,\n",
       "        [4.79203079, 0.96719631, 5.33263165],\n",
       "        [5.48978753, 0.37489593, 0.90162166],\n",
       "        [2.95663414, 4.05774586, 1.63412819]]), unit=nanometer),\n",
       " Quantity(value=array([[1.68309095, 5.09238648, 2.80562553],\n",
       "        [1.72254124, 5.05222432, 2.66765909],\n",
       "        [1.70152191, 5.11907116, 2.56508351],\n",
       "        ...,\n",
       "        [4.78095942, 0.99295281, 5.4138607 ],\n",
       "        [5.45318466, 0.21544896, 0.95918714],\n",
       "        [2.9657207 , 4.02195732, 1.60892449]]), unit=nanometer),\n",
       " Quantity(value=array([[1.70661455, 5.18947414, 2.716798  ],\n",
       "        [1.75018773, 5.1261182 , 2.58778496],\n",
       "        [1.7431642 , 5.17580045, 2.47564571],\n",
       "        ...,\n",
       "        [4.83203752, 0.9736837 , 5.45241494],\n",
       "        [5.56711748, 0.18559271, 0.97309475],\n",
       "        [2.95715957, 4.04355066, 1.59709062]]), unit=nanometer),\n",
       " Quantity(value=array([[1.73747543, 5.23847828, 2.69925275],\n",
       "        [1.78105344, 5.1477731 , 2.58080999],\n",
       "        [1.74375444, 5.17801635, 2.46837234],\n",
       "        ...,\n",
       "        [4.83617271, 0.96682304, 5.47148089],\n",
       "        [5.52589506, 0.10490919, 0.92415528],\n",
       "        [2.99070289, 4.0293113 , 1.62740972]]), unit=nanometer),\n",
       " Quantity(value=array([[1.70252407, 5.17167135, 2.73838384],\n",
       "        [1.74972723, 5.09061071, 2.61856522],\n",
       "        [1.7199811 , 5.13503502, 2.50874179],\n",
       "        ...,\n",
       "        [4.92211218, 1.01127224, 5.48927351],\n",
       "        [5.4908221 , 0.11641203, 0.94277265],\n",
       "        [2.97057898, 4.01496718, 1.59172136]]), unit=nanometer),\n",
       " Quantity(value=array([[1.72851972, 5.15440604, 2.76975984],\n",
       "        [1.75569344, 5.0816104 , 2.64096534],\n",
       "        [1.70376325, 5.120428  , 2.53690702],\n",
       "        ...,\n",
       "        [4.94094833, 0.93310848, 5.49332397],\n",
       "        [5.5388139 , 0.16479418, 0.98851117],\n",
       "        [2.97912071, 4.00504967, 1.58212263]]), unit=nanometer),\n",
       " Quantity(value=array([[1.7816426 , 5.18976637, 2.72204554],\n",
       "        [1.78977252, 5.10937526, 2.59939606],\n",
       "        [1.73132984, 5.14541178, 2.50293465],\n",
       "        ...,\n",
       "        [4.86775348, 0.97715631, 5.46553025],\n",
       "        [5.52247002, 0.19030067, 1.06412708],\n",
       "        [3.00627229, 4.02807047, 1.66362761]]), unit=nanometer),\n",
       " Quantity(value=array([[1.81319862, 5.19898101, 2.74703874],\n",
       "        [1.81036753, 5.11602898, 2.62138602],\n",
       "        [1.73895228, 5.14845673, 2.52712772],\n",
       "        ...,\n",
       "        [4.99254933, 1.03362877, 5.46091344],\n",
       "        [5.56752118, 0.17041932, 1.13927594],\n",
       "        [2.96070396, 4.05907762, 1.65496561]]), unit=nanometer),\n",
       " Quantity(value=array([[1.77146993, 5.12692124, 2.76470886],\n",
       "        [1.77738303, 5.0829625 , 2.61761965],\n",
       "        [1.68423367, 5.11219825, 2.5435642 ],\n",
       "        ...,\n",
       "        [4.99786348, 1.01242959, 5.52383428],\n",
       "        [5.57317006, 0.18598867, 1.13340207],\n",
       "        [2.95431236, 4.06203783, 1.68926937]]), unit=nanometer),\n",
       " Quantity(value=array([[1.7405741 , 5.15410364, 2.69910211],\n",
       "        [1.76567434, 5.07456372, 2.5790961 ],\n",
       "        [1.71986635, 5.11000056, 2.47033181],\n",
       "        ...,\n",
       "        [5.03038406, 0.89337646, 5.46916553],\n",
       "        [5.62084274, 0.20068734, 1.19441048],\n",
       "        [3.0009828 , 4.06491144, 1.63565634]]), unit=nanometer),\n",
       " Quantity(value=array([[1.70688177, 5.22164356, 2.70200669],\n",
       "        [1.75667295, 5.1372966 , 2.58801364],\n",
       "        [1.71199041, 5.16678825, 2.47673442],\n",
       "        ...,\n",
       "        [4.99917975, 0.89561812, 5.52232554],\n",
       "        [5.6753204 , 0.21140698, 1.32323216],\n",
       "        [2.98179676, 4.12367259, 1.6574597 ]]), unit=nanometer),\n",
       " Quantity(value=array([[1.67172609, 5.25186027, 2.69749266],\n",
       "        [1.71466741, 5.16398269, 2.58708278],\n",
       "        [1.68633942, 5.18279978, 2.47009932],\n",
       "        ...,\n",
       "        [4.97025855, 0.89177011, 5.46244935],\n",
       "        [5.61095919, 0.14439202, 1.41174008],\n",
       "        [2.98898707, 4.10141017, 1.6303629 ]]), unit=nanometer),\n",
       " Quantity(value=array([[1.74821828, 5.29307565, 2.652475  ],\n",
       "        [1.76888056, 5.18640393, 2.55561897],\n",
       "        [1.74519786, 5.20632323, 2.43163683],\n",
       "        ...,\n",
       "        [4.95920558, 0.85677275, 5.48419347],\n",
       "        [5.59181335, 0.14405236, 1.51685007],\n",
       "        [2.9812698 , 4.10318944, 1.62258586]]), unit=nanometer),\n",
       " Quantity(value=array([[1.70417928, 5.2765019 , 2.68829215],\n",
       "        [1.7667791 , 5.20029239, 2.57316151],\n",
       "        [1.77649791, 5.24181273, 2.4596604 ],\n",
       "        ...,\n",
       "        [4.94244817, 0.8134385 , 5.49966851],\n",
       "        [5.58772783, 0.04108352, 1.48381992],\n",
       "        [2.94275074, 4.10694482, 1.65808939]]), unit=nanometer),\n",
       " Quantity(value=array([[1.64677339, 5.21554508, 2.77372573],\n",
       "        [1.70862613, 5.17097062, 2.64628109],\n",
       "        [1.64871423, 5.20928946, 2.54326369],\n",
       "        ...,\n",
       "        [4.94608671, 0.75950973, 5.46936511],\n",
       "        [5.54827984, 0.02958671, 1.42572172],\n",
       "        [2.95691352, 4.12335397, 1.74059113]]), unit=nanometer),\n",
       " Quantity(value=array([[ 1.65980776,  5.23545189,  2.85357632],\n",
       "        [ 1.69087998,  5.17756009,  2.70724909],\n",
       "        [ 1.62096401,  5.21323247,  2.61310709],\n",
       "        ...,\n",
       "        [ 5.03373983,  0.78108554,  5.4622995 ],\n",
       "        [ 5.6496112 , -0.05741054,  1.47247392],\n",
       "        [ 2.95427897,  4.1217525 ,  1.70352489]]), unit=nanometer),\n",
       " Quantity(value=array([[1.75549748, 5.30609409, 2.81056201],\n",
       "        [1.76494496, 5.21891706, 2.68767391],\n",
       "        [1.690432  , 5.23826509, 2.59240975],\n",
       "        ...,\n",
       "        [4.97236172, 0.57106031, 5.49132676],\n",
       "        [5.63661927, 6.05718718, 1.5494064 ],\n",
       "        [2.9803653 , 4.14090448, 1.70230324]]), unit=nanometer),\n",
       " Quantity(value=array([[1.63177846, 5.13683938, 2.86080759],\n",
       "        [1.67677443, 5.1200045 , 2.71938594],\n",
       "        [1.59915773, 5.13734815, 2.62477288],\n",
       "        ...,\n",
       "        [5.02663045, 0.50273101, 5.59951544],\n",
       "        [5.68869117, 6.0398568 , 1.48841866],\n",
       "        [2.9696872 , 4.10828403, 1.69693804]]), unit=nanometer),\n",
       " Quantity(value=array([[1.70038511, 5.25768173, 2.72655863],\n",
       "        [1.72285307, 5.15128095, 2.61897347],\n",
       "        [1.65000454, 5.14071275, 2.5234511 ],\n",
       "        ...,\n",
       "        [5.10079043, 0.48326682, 5.57832964],\n",
       "        [5.68868161, 6.02733137, 1.50949494],\n",
       "        [2.98139975, 4.14565297, 1.63397262]]), unit=nanometer),\n",
       " Quantity(value=array([[1.64098617, 5.1233814 , 2.7798398 ],\n",
       "        [1.7073668 , 5.09170798, 2.65133296],\n",
       "        [1.65756742, 5.13362118, 2.54945017],\n",
       "        ...,\n",
       "        [5.06563684, 0.62787474, 5.62945684],\n",
       "        [5.78456017, 6.03839289, 1.52546993],\n",
       "        [2.96359556, 4.12210176, 1.60058063]]), unit=nanometer),\n",
       " Quantity(value=array([[1.70184018, 5.08288378, 2.81923048],\n",
       "        [1.76418996, 5.04572356, 2.68567531],\n",
       "        [1.70322555, 5.06387037, 2.58510936],\n",
       "        ...,\n",
       "        [5.06233266, 0.58353794, 5.62988174],\n",
       "        [5.8101281 , 6.03865515, 1.41707501],\n",
       "        [2.9719108 , 4.10572059, 1.60718908]]), unit=nanometer),\n",
       " Quantity(value=array([[1.7184719 , 5.27468121, 2.74411179],\n",
       "        [1.74643267, 5.18644138, 2.62322986],\n",
       "        [1.67103587, 5.19506575, 2.5335097 ],\n",
       "        ...,\n",
       "        [5.13743889, 0.49697511, 5.62979572],\n",
       "        [5.82073309, 5.97204552, 1.45694033],\n",
       "        [2.98746157, 4.141717  , 1.61878751]]), unit=nanometer),\n",
       " Quantity(value=array([[1.63048331, 5.22235849, 2.72800591],\n",
       "        [1.69558137, 5.15761789, 2.61360115],\n",
       "        [1.66189778, 5.18179047, 2.49955505],\n",
       "        ...,\n",
       "        [5.20237629, 0.50358143, 5.54557622],\n",
       "        [5.72683178, 6.0989151 , 1.57010004],\n",
       "        [2.95893474, 4.10731598, 1.58897055]]), unit=nanometer),\n",
       " Quantity(value=array([[1.70254804, 5.20033996, 2.77416715],\n",
       "        [1.72820429, 5.12118066, 2.64728701],\n",
       "        [1.64284983, 5.12723488, 2.55437556],\n",
       "        ...,\n",
       "        [5.23201063, 0.67340032, 5.59013991],\n",
       "        [5.82639572, 6.08024567, 1.53482958],\n",
       "        [2.97737485, 4.11173741, 1.60084092]]), unit=nanometer),\n",
       " Quantity(value=array([[1.76306228, 5.19152931, 2.7694323 ],\n",
       "        [1.78780179, 5.1101837 , 2.64401302],\n",
       "        [1.70791097, 5.11364052, 2.54825559],\n",
       "        ...,\n",
       "        [5.1366994 , 0.56372105, 5.62351038],\n",
       "        [5.86250871, 5.98584721, 1.40049076],\n",
       "        [3.00747237, 4.14282319, 1.55911758]]), unit=nanometer),\n",
       " Quantity(value=array([[1.71192509, 5.10802512, 2.83443826],\n",
       "        [1.73945143, 5.05769832, 2.70131959],\n",
       "        [1.65024646, 5.07087747, 2.61538003],\n",
       "        ...,\n",
       "        [5.11183186, 0.57151239, 5.55866842],\n",
       "        [5.86129669, 5.9207474 , 1.60153552],\n",
       "        [3.01197395, 4.11094329, 1.55228277]]), unit=nanometer),\n",
       " Quantity(value=array([[1.73209851, 5.13475659, 2.75625361],\n",
       "        [1.77999718, 5.08375837, 2.62178186],\n",
       "        [1.75348266, 5.14771238, 2.51803045],\n",
       "        ...,\n",
       "        [5.16448441, 0.60689318, 5.71178656],\n",
       "        [5.83263602, 5.96457623, 1.62621571],\n",
       "        [2.97220178, 4.14902327, 1.59567517]]), unit=nanometer),\n",
       " Quantity(value=array([[1.70475703, 5.16874831, 2.7631554 ],\n",
       "        [1.7424498 , 5.10530198, 2.62554553],\n",
       "        [1.67827252, 5.15042654, 2.53158707],\n",
       "        ...,\n",
       "        [5.05945552, 0.58233296, 5.74023251],\n",
       "        [5.75476524, 5.97923883, 1.56925194],\n",
       "        [2.96262567, 4.1542402 , 1.54035901]]), unit=nanometer),\n",
       " Quantity(value=array([[1.64842511, 5.20747483, 2.72246895],\n",
       "        [1.7550956 , 5.18611953, 2.6130854 ],\n",
       "        [1.7918428 , 5.27830229, 2.53795352],\n",
       "        ...,\n",
       "        [5.01566392, 0.56956771, 5.69485049],\n",
       "        [5.75426654, 6.05710079, 1.5604603 ],\n",
       "        [3.0057207 , 4.14885113, 1.52086135]]), unit=nanometer),\n",
       " Quantity(value=array([[1.71916209, 5.209506  , 2.70174108],\n",
       "        [1.79680132, 5.18061811, 2.57171412],\n",
       "        [1.77059696, 5.23952282, 2.46809479],\n",
       "        ...,\n",
       "        [5.1367831 , 0.46853157, 5.73424477],\n",
       "        [5.85021506, 5.96580135, 1.58313667],\n",
       "        [3.00869181, 4.11881291, 1.48171679]]), unit=nanometer),\n",
       " Quantity(value=array([[1.91166863, 5.26837056, 2.66800374],\n",
       "        [1.90751543, 5.19509529, 2.53501771],\n",
       "        [1.85657459, 5.24482864, 2.43657576],\n",
       "        ...,\n",
       "        [5.27707224, 0.5073301 , 5.6529424 ],\n",
       "        [5.87654751, 5.92764614, 1.49523917],\n",
       "        [2.97440411, 4.09716269, 1.50244697]]), unit=nanometer),\n",
       " Quantity(value=array([[1.89424358, 5.29108744, 2.65189876],\n",
       "        [1.93080558, 5.21519492, 2.53623313],\n",
       "        [1.94444157, 5.27185735, 2.42694123],\n",
       "        ...,\n",
       "        [5.30664759, 0.48744687, 5.67141189],\n",
       "        [6.01161644, 5.83935392, 1.57301894],\n",
       "        [3.0076013 , 4.11558616, 1.47910051]]), unit=nanometer),\n",
       " Quantity(value=array([[1.89024891, 5.26008944, 2.61822237],\n",
       "        [1.90426972, 5.1665055 , 2.50012787],\n",
       "        [1.89429843, 5.21106747, 2.38433691],\n",
       "        ...,\n",
       "        [5.26133182, 0.50669481, 5.56067604],\n",
       "        [5.93631798, 5.88426244, 1.56259867],\n",
       "        [2.99624349, 4.06348782, 1.44637499]]), unit=nanometer),\n",
       " Quantity(value=array([[1.93384265, 5.19735734, 2.71713015],\n",
       "        [1.89937735, 5.12149793, 2.58180078],\n",
       "        [1.83695921, 5.16090115, 2.48606744],\n",
       "        ...,\n",
       "        [5.18256828, 0.55488458, 5.60720475],\n",
       "        [5.95315659, 5.87774071, 1.47286756],\n",
       "        [2.96275475, 4.07268541, 1.47644401]]), unit=nanometer),\n",
       " Quantity(value=array([[1.7906569 , 5.20683062, 2.7005838 ],\n",
       "        [1.82070663, 5.13129102, 2.57097161],\n",
       "        [1.78136704, 5.17969944, 2.46509755],\n",
       "        ...,\n",
       "        [5.25906826, 0.63052322, 5.5109821 ],\n",
       "        [5.98632037, 5.75463337, 1.50458607],\n",
       "        [2.99802777, 4.06660804, 1.49368237]]), unit=nanometer),\n",
       " Quantity(value=array([[1.8079503 , 5.37104495, 2.6329614 ],\n",
       "        [1.84815033, 5.28072616, 2.51764103],\n",
       "        [1.91953496, 5.32342001, 2.42699098],\n",
       "        ...,\n",
       "        [5.36304217, 0.59726933, 5.54845882],\n",
       "        [5.92782682, 5.70699558, 1.48497937],\n",
       "        [2.99759708, 4.08025285, 1.50612726]]), unit=nanometer),\n",
       " Quantity(value=array([[1.89851487, 5.25036136, 2.72490118],\n",
       "        [1.86821779, 5.18923045, 2.59073503],\n",
       "        [1.82921098, 5.26296387, 2.49818361],\n",
       "        ...,\n",
       "        [5.36064119, 0.59953867, 5.71138762],\n",
       "        [5.72255477, 5.77534443, 1.47889441],\n",
       "        [2.98629051, 4.15045021, 1.50580552]]), unit=nanometer),\n",
       " Quantity(value=array([[1.75514405, 5.27673688, 2.64166398],\n",
       "        [1.80019328, 5.2066114 , 2.51306   ],\n",
       "        [1.75932866, 5.23897626, 2.40761337],\n",
       "        ...,\n",
       "        [5.33016673, 0.6173055 , 5.68462083],\n",
       "        [5.7399117 , 5.83000091, 1.43384383],\n",
       "        [3.01332078, 4.04745828, 1.55464189]]), unit=nanometer),\n",
       " Quantity(value=array([[1.8056323 , 5.29300701, 2.65536074],\n",
       "        [1.82813343, 5.21529538, 2.53295337],\n",
       "        [1.82620715, 5.26098993, 2.42009299],\n",
       "        ...,\n",
       "        [5.35789237, 0.69319274, 5.70725034],\n",
       "        [5.73315626, 5.8104048 , 1.34597331],\n",
       "        [3.05785187, 4.09386154, 1.54520618]]), unit=nanometer),\n",
       " Quantity(value=array([[1.797121  , 5.29505946, 2.64844987],\n",
       "        [1.84809492, 5.21706302, 2.52884081],\n",
       "        [1.82754784, 5.25829575, 2.41373947],\n",
       "        ...,\n",
       "        [5.33045708, 0.70020038, 5.86741178],\n",
       "        [5.48164456, 5.65197113, 1.28489769],\n",
       "        [3.02873433, 4.10033504, 1.6159398 ]]), unit=nanometer),\n",
       " Quantity(value=array([[1.84180971, 5.42605117, 2.62735266],\n",
       "        [1.88925969, 5.32401637, 2.53294896],\n",
       "        [1.94614485, 5.37199573, 2.43166157],\n",
       "        ...,\n",
       "        [5.30438488, 0.6131112 , 5.76268227],\n",
       "        [5.40106672, 5.6418247 , 1.20381503],\n",
       "        [3.01811653, 4.12945065, 1.58221285]]), unit=nanometer),\n",
       " Quantity(value=array([[1.89032156, 5.35185467, 2.67308412],\n",
       "        [1.89639707, 5.26282349, 2.55351443],\n",
       "        [1.87003682, 5.31588645, 2.44019014],\n",
       "        ...,\n",
       "        [5.42492994, 0.69892835, 5.83180834],\n",
       "        [5.48729693, 5.68401831, 1.2587775 ],\n",
       "        [3.02674367, 4.13061065, 1.58257016]]), unit=nanometer),\n",
       " Quantity(value=array([[1.78207152, 5.37016675, 2.61526429],\n",
       "        [1.8036232 , 5.28055787, 2.4963798 ],\n",
       "        [1.74458662, 5.30336935, 2.389419  ],\n",
       "        ...,\n",
       "        [5.50803862, 0.70237329, 5.8600795 ],\n",
       "        [5.51737458, 5.77412194, 1.41961298],\n",
       "        [2.99951792, 4.09737122, 1.6072663 ]]), unit=nanometer),\n",
       " Quantity(value=array([[1.80394193, 5.36952947, 2.6547938 ],\n",
       "        [1.83771795, 5.27756364, 2.53720662],\n",
       "        [1.79111816, 5.30439595, 2.42889172],\n",
       "        ...,\n",
       "        [5.53474288, 0.64891697, 5.85725398],\n",
       "        [5.64374737, 5.88328235, 1.41276928],\n",
       "        [2.95707082, 4.09446137, 1.68641829]]), unit=nanometer),\n",
       " Quantity(value=array([[1.72625054, 5.32085676, 2.69029184],\n",
       "        [1.77991162, 5.24270707, 2.56612351],\n",
       "        [1.76454063, 5.28989591, 2.45415347],\n",
       "        ...,\n",
       "        [5.68450029, 0.73212582, 5.82071182],\n",
       "        [5.5877503 , 5.73576732, 1.37980886],\n",
       "        [2.99279248, 4.09218982, 1.61624706]]), unit=nanometer),\n",
       " Quantity(value=array([[1.68119613, 5.38420443, 2.67378391],\n",
       "        [1.71856107, 5.28986621, 2.56686751],\n",
       "        [1.70489579, 5.3230436 , 2.45067452],\n",
       "        ...,\n",
       "        [5.68291146, 0.7671879 , 5.93782192],\n",
       "        [5.60233864, 5.88083458, 1.41651521],\n",
       "        [3.0002451 , 4.10371837, 1.65712115]]), unit=nanometer)]"
      ]
     },
     "execution_count": 121,
     "metadata": {},
     "output_type": "execute_result"
    }
   ],
   "source": [
    "positions"
   ]
  },
  {
   "cell_type": "code",
   "execution_count": 136,
   "id": "bef2f72d",
   "metadata": {},
   "outputs": [
    {
     "name": "stdout",
     "output_type": "stream",
     "text": [
      "Warning: Returning CPU platform instead of requested platform <simtk.openmm.openmm.Platform; proxy of <Swig Object of type 'OpenMM::Platform *' at 0x2ac1bf123180> >\n",
      "conducting subsequent work with the following platform: CPU\n"
     ]
    }
   ],
   "source": [
    "platform = configure_platform(REFERENCE_PLATFORM)\n",
    "# Create thermodynamic state and sampler state for non-rest system\n",
    "thermostate_other = ThermodynamicState(system=other_system, temperature=temperature)\n",
    "\n",
    "# Create context for non-rest system\n",
    "integrator_other = openmm.VerletIntegrator(1.0*unit.femtosecond)\n",
    "context_other = thermostate_other.create_context(integrator_other)\n",
    "    \n",
    "energies_other = []\n",
    "for position in positions:\n",
    "    \n",
    "    # Set positions\n",
    "    context_other.setPositions(position)\n",
    "    sampler_state = SamplerState.from_context(context_other)\n",
    "    \n",
    "    # Get energy\n",
    "    energy = thermostate_other.reduced_potential(sampler_state)\n",
    "    energies_other.append(energy)"
   ]
  },
  {
   "cell_type": "code",
   "execution_count": 137,
   "id": "35e32aba",
   "metadata": {},
   "outputs": [],
   "source": [
    "# Create thermodynamic state for rest_system\n",
    "thermostate_rest = ThermodynamicState(system=REST_system, temperature=temperature)\n",
    "\n",
    "# Create context for rest system\n",
    "integrator_rest = openmm.VerletIntegrator(1.0 * unit.femtosecond)\n",
    "context_rest = thermostate_rest.create_context(integrator_rest)\n",
    "\n",
    "energies_rest = []\n",
    "for position in positions:\n",
    "    \n",
    "    # Set positions\n",
    "    context_rest.setPositions(position)\n",
    "    sampler_state = SamplerState.from_context(context_rest)\n",
    "    \n",
    "    # Get energy\n",
    "    energy = thermostate_rest.reduced_potential(sampler_state)\n",
    "    energies_rest.append(energy)"
   ]
  },
  {
   "cell_type": "code",
   "execution_count": 138,
   "id": "a3a63281",
   "metadata": {
    "scrolled": true
   },
   "outputs": [
    {
     "data": {
      "image/png": "[encoded data removed]",
      "text/plain": [
       "<Figure size 432x288 with 1 Axes>"
      ]
     },
     "metadata": {
      "needs_background": "light"
     },
     "output_type": "display_data"
    }
   ],
   "source": [
    "plt.plot(np.array(energies_other) - np.array(energies_rest))\n",
    "plt.show()"
   ]
  },
  {
   "cell_type": "markdown",
   "id": "310d8aef",
   "metadata": {},
   "source": [
    "# Run energy scaling test v2 on scaled rest bnbs system"
   ]
  },
  {
   "cell_type": "code",
   "execution_count": 3,
   "id": "38c6d3ce",
   "metadata": {},
   "outputs": [],
   "source": [
    "import copy\n",
    "from tqdm import tqdm_notebook\n",
    "import mdtraj as md\n",
    "###########################################\n",
    "# IMPORTS\n",
    "###########################################\n",
    "from openmmtools.states import SamplerState, ThermodynamicState, CompoundThermodynamicState\n",
    "from simtk import unit, openmm\n",
    "from perses.tests.utils import compute_potential_components\n",
    "from openmmtools.constants import kB\n",
    "from perses.dispersed.utils import configure_platform\n",
    "from perses.annihilation.rest import RESTTopologyFactoryV3\n",
    "from perses.annihilation.lambda_protocol import RESTStateV3\n",
    "import numpy as np\n",
    "from perses.tests.test_topology_proposal import generate_atp, generate_dipeptide_top_pos_sys\n",
    "from openmmtools.testsystems import AlanineDipeptideVacuum, AlanineDipeptideExplicit\n",
    "import itertools\n",
    "\n",
    "#############################################\n",
    "# CONSTANTS\n",
    "#############################################\n",
    "temperature = 300.0 * unit.kelvin\n",
    "kT = kB * temperature\n",
    "beta = 1.0/kT\n",
    "REFERENCE_PLATFORM = openmm.Platform.getPlatformByName(\"Reference\")\n",
    "\n"
   ]
  },
  {
   "cell_type": "code",
   "execution_count": 4,
   "id": "28c93a48",
   "metadata": {},
   "outputs": [],
   "source": [
    "def compare_energies(topology, REST_system, other_system, positions, rest_atoms, T_min, T):\n",
    "    print(\"prepping systems\")\n",
    "    # Remove standard NonbondedForce (which contains reciprocal space) from REST_system\n",
    "    REST_system.removeForce(6)\n",
    "\n",
    "    # Prevent reciprocal space from being used in the original system energy\n",
    "    other_system.getForce(3).setReciprocalSpaceForceGroup(31)    \n",
    "    \n",
    "    print(\"creating rest thermostate and setting alchemical params\")\n",
    "    # Create thermodynamic state\n",
    "    lambda_zero_alchemical_state = RESTStateV3.from_system(REST_system)\n",
    "    thermostate = ThermodynamicState(REST_system, temperature=T_min)\n",
    "    compound_thermodynamic_state = CompoundThermodynamicState(thermostate,\n",
    "                                                              composable_states=[lambda_zero_alchemical_state])\n",
    "    \n",
    "    # Set alchemical parameters\n",
    "    beta_0 = 1 / (kB * T_min)\n",
    "    beta_m = 1 / (kB * T)\n",
    "    compound_thermodynamic_state.set_alchemical_parameters(beta_0, beta_m)\n",
    "    \n",
    "    print(\"getting rest system energy\")\n",
    "    # Get energy\n",
    "    integrator = openmm.VerletIntegrator(1.0 * unit.femtosecond)\n",
    "    context = compound_thermodynamic_state.create_context(integrator)\n",
    "    context.setPositions(positions)\n",
    "    REST_energy = context.getState(getEnergy=True).getPotentialEnergy().value_in_unit_system(unit.md_unit_system)\n",
    "    \n",
    "    print(\"getting solvent atoms\")\n",
    "    # Get solvent atoms\n",
    "    positive_ion_name = \"NA\"\n",
    "    negative_ion_name = \"CL\"\n",
    "    water_name = \"HOH\"\n",
    "    solvent_atoms = []\n",
    "    if 'openmm' in topology.__module__:\n",
    "        atoms = topology.atoms()\n",
    "    elif 'mdtraj' in topology.__module__:\n",
    "        atoms = topology.atoms\n",
    "    for atom in atoms:\n",
    "        if atom.residue.name == positive_ion_name or atom.residue.name == negative_ion_name or atom.residue.name == water_name:\n",
    "            solvent_atoms.append(atom.index)\n",
    "    \n",
    "    # Compute energy for non-RESTified system\n",
    "    # Determine regions and scaling factors\n",
    "    nonrest_atoms = [i for i in range(other_system.getNumParticles()) if i not in rest_atoms]\n",
    "    rest_scaling = beta_m / beta_0\n",
    "    inter_scaling = np.sqrt(beta_m / beta_0)\n",
    "    \n",
    "    # Compute 3 energies: \n",
    "    ## Test case 0: rest-rest energy\n",
    "    ## Test case 1: nonrest-nonrest energy\n",
    "    ## Test case 2: total energy\n",
    "    ## Test case 3: nonrest_solvent - rest (this will only be a nonbonded energy)\n",
    "    ## Test case 4: nonrest_solvent - nonrest-solvent (this will only be a nonbonded energy)\n",
    "    ## Test case 5: rest-rest nonbonded energy\n",
    "    unmodified_energies = []\n",
    "    for test_case in range(6):\n",
    "        print(\"running test case: \", test_case)\n",
    "        system_copy = copy.deepcopy(other_system)\n",
    "        \n",
    "        if test_case != 2:\n",
    "            bond_force = system_copy.getForce(0)\n",
    "            for bond_index in range(bond_force.getNumBonds()):\n",
    "                p1, p2, length, k = bond_force.getBondParameters(bond_index)\n",
    "                particles = [p1, p2]\n",
    "                if all(x in rest_atoms for x in particles):\n",
    "                    if test_case in [1, 3, 4, 5]:\n",
    "                        bond_force.setBondParameters(bond_index, p1, p2, length, k*0)\n",
    "                    else:\n",
    "                        continue\n",
    "                elif all(x in nonrest_atoms for x in particles):\n",
    "                    if test_case in [0, 3, 4, 5]:\n",
    "                        bond_force.setBondParameters(bond_index, p1, p2, length, k*0)\n",
    "                    else:\n",
    "                        continue\n",
    "                else:\n",
    "                    bond_force.setBondParameters(bond_index, p1, p2, length, k*0)\n",
    "\n",
    "            angle_force = system_copy.getForce(1)\n",
    "            for angle_index in range(angle_force.getNumAngles()):\n",
    "                p1, p2, p3, angle, k = angle_force.getAngleParameters(angle_index)\n",
    "                particles = [p1, p2, p3]\n",
    "                if all(x in rest_atoms for x in particles):\n",
    "                    if test_case in [1, 3, 4, 5]:\n",
    "                        angle_force.setAngleParameters(angle_index, p1, p2, p3, angle, k*0) \n",
    "                    else:\n",
    "                        continue\n",
    "                elif all(x in nonrest_atoms for x in particles):\n",
    "                    if test_case in [0, 3, 4, 5]:\n",
    "                        angle_force.setAngleParameters(angle_index, p1, p2, p3, angle, k*0) \n",
    "                    else:\n",
    "                        continue\n",
    "                else:\n",
    "                    angle_force.setAngleParameters(angle_index, p1, p2, p3, angle, k*0) \n",
    "\n",
    "            torsion_force = system_copy.getForce(2)\n",
    "            for torsion_index in range(torsion_force.getNumTorsions()):\n",
    "                p1, p2, p3, p4, periodicity, phase, k = torsion_force.getTorsionParameters(torsion_index)\n",
    "                particles = [p1, p2, p3, p4]\n",
    "                if all(x in rest_atoms for x in particles):\n",
    "                    if test_case in [1, 3, 4, 5]:\n",
    "                        torsion_force.setTorsionParameters(torsion_index, p1, p2, p3, p4, periodicity, phase, k*0)\n",
    "                    else:\n",
    "                        continue\n",
    "                elif all(x in nonrest_atoms for x in particles):\n",
    "                    if test_case in [0, 3, 4, 5]:\n",
    "                        torsion_force.setTorsionParameters(torsion_index, p1, p2, p3, p4, periodicity, phase, k*0)\n",
    "                    else:\n",
    "                        continue\n",
    "                else:\n",
    "                    torsion_force.setTorsionParameters(torsion_index, p1, p2, p3, p4, periodicity, phase, k*0)\n",
    "\n",
    "            nb_force = system_copy.getForce(3)\n",
    "            for i in range(nb_force.getNumExceptions()):\n",
    "                p1, p2, chargeProd, sigma, epsilon = nb_force.getExceptionParameters(i)\n",
    "                particles = [p1, p2]\n",
    "                if all(x in rest_atoms for x in particles):\n",
    "                    if test_case in [1, 4]:\n",
    "                        nb_force.setExceptionParameters(i, p1, p2, chargeProd*0, sigma, epsilon*0)\n",
    "                    else:\n",
    "                        continue\n",
    "                elif all(x in nonrest_atoms for x in particles):\n",
    "                    if test_case in [0, 5]:\n",
    "                        nb_force.setExceptionParameters(i, p1, p2, chargeProd*0, sigma, epsilon*0)\n",
    "                    elif test_case in [3, 4]:\n",
    "                        if all(x in solvent_atoms for x in particles):\n",
    "                            continue\n",
    "                        else:\n",
    "                            nb_force.setExceptionParameters(i, p1, p2, chargeProd*0, sigma, epsilon*0)\n",
    "                    else:\n",
    "                        continue\n",
    "                else:\n",
    "                    if test_case == 3:\n",
    "                        if any(x in solvent_atoms for x in particles):\n",
    "                            continue\n",
    "                        else:\n",
    "                            nb_force.setExceptionParameters(i, p1, p2, chargeProd*0, sigma, epsilon*0)\n",
    "                    else:\n",
    "                        nb_force.setExceptionParameters(i, p1, p2, chargeProd*0, sigma, epsilon*0)\n",
    "\n",
    "            for i in range(nb_force.getNumParticles()):\n",
    "                charge, sigma, epsilon = nb_force.getParticleParameters(i)\n",
    "                if i in rest_atoms:\n",
    "                    if test_case in [1, 4]:\n",
    "                        nb_force.setParticleParameters(i, charge*0, sigma, epsilon*0)\n",
    "                    else:\n",
    "                        continue\n",
    "                else:\n",
    "                    if test_case in [0, 5]:\n",
    "                        nb_force.setParticleParameters(i, charge*0, sigma, epsilon*0)\n",
    "                        \n",
    "                    elif test_case in [3, 4]:\n",
    "                        if i in solvent_atoms:\n",
    "                            continue\n",
    "                        else:\n",
    "                            nb_force.setParticleParameters(i, charge*0, sigma, epsilon*0)\n",
    "                            \n",
    "                    else:\n",
    "                        continue     \n",
    "        \n",
    "        \n",
    "        # Get energy\n",
    "        thermostate = ThermodynamicState(system_copy, temperature=T_min)\n",
    "        integrator = openmm.VerletIntegrator(1.0 * unit.femtosecond)\n",
    "        context = thermostate.create_context(integrator)\n",
    "        context.setPositions(positions)\n",
    "        system_copy_energy = context.getState(getEnergy=True, groups=set([0])).getPotentialEnergy().value_in_unit_system(unit.md_unit_system)\n",
    "        unmodified_energies.append(system_copy_energy)\n",
    "    \n",
    "    print(\"computing final unmodified system energy\")\n",
    "    print(unmodified_energies)\n",
    "    nonrest_solvent_rest = unmodified_energies[3] - unmodified_energies[5] - unmodified_energies[4]\n",
    "    nonrest_protein_rest = unmodified_energies[2] - unmodified_energies[0] - unmodified_energies[1] - nonrest_solvent_rest\n",
    "    unmodified_energy = unmodified_energies[0] * rest_scaling + unmodified_energies[1] +  nonrest_solvent_rest * rest_scaling + nonrest_protein_rest * inter_scaling\n",
    "    print(unmodified_energy)\n",
    "    print(REST_energy)\n",
    "#     assert np.isclose(REST_energy, unmodified_energy), f\"REST energy was {REST_energy} and unmodified_energy was {unmodified_energy}\"\n",
    "                            "
   ]
  },
  {
   "cell_type": "code",
   "execution_count": 5,
   "id": "843de503",
   "metadata": {},
   "outputs": [],
   "source": [
    "# Load r-htf for N501Y\n",
    "with open(\"T42A_complex_0.pickle\", \"rb\") as f:\n",
    "    htf = pickle.load(f)\n",
    "    "
   ]
  },
  {
   "cell_type": "code",
   "execution_count": 6,
   "id": "da45155b",
   "metadata": {},
   "outputs": [],
   "source": [
    "# Get unmodified hybrid system\n",
    "positions = htf.hybrid_positions\n",
    "system = htf.hybrid_system\n",
    "system.removeForce(0)\n",
    "\n"
   ]
  },
  {
   "cell_type": "code",
   "execution_count": 7,
   "id": "5d707060",
   "metadata": {},
   "outputs": [
    {
     "name": "stderr",
     "output_type": "stream",
     "text": [
      "INFO:REST:*** Generating RESTTopologyFactoryV3 ***\n",
      "INFO:REST:No unknown forces.\n",
      "INFO:REST:alpha_ewald is 2.7569734238004693\n",
      "INFO:REST:No MonteCarloBarostat added.\n",
      "INFO:REST:getDefaultPeriodicBoxVectors added to hybrid: [Quantity(value=Vec3(x=6.7997, y=0.0, z=0.0), unit=nanometer), Quantity(value=Vec3(x=0.0, y=6.7997, z=0.0), unit=nanometer), Quantity(value=Vec3(x=0.0, y=0.0, z=6.7997), unit=nanometer)]\n"
     ]
    }
   ],
   "source": [
    "# Build REST factory\n",
    "for res in htf.hybrid_topology.residues:\n",
    "    if res.resSeq == 83 and res.chain.index == 0:\n",
    "        mutated_res = res\n",
    "query_indices = [atom.index for atom in mutated_res.atoms]\n",
    "traj = md.Trajectory(np.array(htf.hybrid_positions), htf.hybrid_topology)\n",
    "solute_atoms = list(traj.topology.select(\"is_protein\"))\n",
    "radius = 0.3\n",
    "rest_atoms = list(md.compute_neighbors(traj, radius, query_indices, haystack_indices=solute_atoms)[0])\n",
    "rest_atoms = [int(atom) for atom in rest_atoms]\n",
    "factory = RESTTopologyFactoryV3(htf.hybrid_system, htf.hybrid_topology, rest_region=rest_atoms, use_dispersion_correction=True)"
   ]
  },
  {
   "cell_type": "code",
   "execution_count": 8,
   "id": "145b5019",
   "metadata": {},
   "outputs": [
    {
     "name": "stdout",
     "output_type": "stream",
     "text": [
      "prepping systems\n",
      "creating rest thermostate and setting alchemical params\n",
      "getting rest system energy\n",
      "getting solvent atoms\n",
      "running test case:  0\n",
      "running test case:  1\n",
      "running test case:  2\n",
      "running test case:  3\n",
      "running test case:  4\n",
      "running test case:  5\n",
      "computing final unmodified system energy\n",
      "[686.6416437321452, 4575578.550905871, 4576500.708689945, 1874748.046089118, 1874171.4281917647, 612.8222262508641]\n",
      "4576095.904949675\n",
      "4576095.823836652\n"
     ]
    }
   ],
   "source": [
    "T_min = 300.0 * unit.kelvin\n",
    "T = 600 * unit.kelvin\n",
    "compare_energies(htf.hybrid_topology, factory.REST_system, system, positions, rest_atoms, T_min, T)"
   ]
  },
  {
   "cell_type": "code",
   "execution_count": null,
   "id": "d6c59fa8",
   "metadata": {},
   "outputs": [],
   "source": []
  }
 ],
 "metadata": {
  "kernelspec": {
   "display_name": "Python 3 (ipykernel)",
   "language": "python",
   "name": "python3"
  },
  "language_info": {
   "codemirror_mode": {
    "name": "ipython",
    "version": 3
   },
   "file_extension": ".py",
   "mimetype": "text/x-python",
   "name": "python",
   "nbconvert_exporter": "python",
   "pygments_lexer": "ipython3",
   "version": "3.9.7"
  }
 },
 "nbformat": 4,
 "nbformat_minor": 5
}
