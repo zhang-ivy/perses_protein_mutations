{
 "cells": [
  {
   "cell_type": "code",
   "execution_count": 1,
   "id": "adcc1134",
   "metadata": {},
   "outputs": [
    {
     "name": "stderr",
     "output_type": "stream",
     "text": [
      "Warning: importing 'simtk.openmm' is deprecated.  Import 'openmm' instead.\n",
      "INFO:rdkit:Enabling RDKit 2021.03.5 jupyter extensions\n"
     ]
    },
    {
     "name": "stdout",
     "output_type": "stream",
     "text": [
      "conducting subsequent work with the following platform: CUDA\n"
     ]
    }
   ],
   "source": [
    "###########################################\n",
    "# IMPORTS\n",
    "###########################################\n",
    "from openmmtools.states import SamplerState, ThermodynamicState, CompoundThermodynamicState\n",
    "from simtk import unit, openmm\n",
    "from perses.tests.utils import compute_potential_components\n",
    "from openmmtools.constants import kB\n",
    "from perses.dispersed.utils import configure_platform\n",
    "from perses.annihilation.rest import RESTTopologyFactory, RESTTopologyFactoryV3\n",
    "from perses.annihilation.lambda_protocol import RESTState, RESTStateV3\n",
    "import numpy as np\n",
    "from perses.tests.test_topology_proposal import generate_atp, generate_dipeptide_top_pos_sys\n",
    "from openmmtools.testsystems import AlanineDipeptideVacuum, AlanineDipeptideExplicit\n",
    "import itertools\n",
    "\n",
    "#############################################\n",
    "# CONSTANTS\n",
    "#############################################\n",
    "temperature = 300.0 * unit.kelvin\n",
    "kT = kB * temperature\n",
    "beta = 1.0/kT\n",
    "REFERENCE_PLATFORM = openmm.Platform.getPlatformByName(\"CUDA\")"
   ]
  },
  {
   "cell_type": "markdown",
   "id": "c238807c",
   "metadata": {},
   "source": [
    "# Run scaling test v2 (allows testing PME)"
   ]
  },
  {
   "cell_type": "code",
   "execution_count": 2,
   "id": "0f55307f",
   "metadata": {},
   "outputs": [],
   "source": [
    "import copy\n"
   ]
  },
  {
   "cell_type": "code",
   "execution_count": 129,
   "id": "a8ddf76a",
   "metadata": {},
   "outputs": [],
   "source": [
    "def test_energy_scaling():\n",
    "    \"\"\"\n",
    "        Test whether the energy of a REST-ified system is equal to the energy of the system with terms manually scaled by\n",
    "        the same factor as is used in REST.  T_min is 298 K and the thermodynamic state has temperature 600 K.\n",
    "    \"\"\"\n",
    "\n",
    "    # Set temperatures\n",
    "    T_min = 300.0 * unit.kelvin\n",
    "    T = 600 * unit.kelvin\n",
    "\n",
    "    ## CASE 1: alanine dipeptide in vacuum\n",
    "    # Create vanilla system\n",
    "    ala = AlanineDipeptideVacuum()\n",
    "    system = ala.system\n",
    "    system.removeForce(4)\n",
    "    positions = ala.positions\n",
    "    topology = ala.topology\n",
    "\n",
    "    # Create REST system\n",
    "    res1 = list(ala.topology.residues())[1]\n",
    "    rest_atoms = [atom.index for atom in res1.atoms()]\n",
    "    factory = RESTTopologyFactoryV3(system, topology, rest_region=rest_atoms)\n",
    "    REST_system = factory.REST_system\n",
    "\n",
    "    # Check energy scaling\n",
    "    compare_energies(topology, REST_system, system, positions, rest_atoms, T_min, T)\n",
    "\n",
    "    ## CASE 2: alanine dipeptide in solvent\n",
    "    # Create vanilla system\n",
    "    ala = AlanineDipeptideExplicit()\n",
    "    system = ala.system\n",
    "    system.removeForce(4)\n",
    "    positions = ala.positions\n",
    "    topology = ala.topology\n",
    "\n",
    "    # Create REST system\n",
    "    \n",
    "    res1 = list(ala.topology.residues())[1]\n",
    "    rest_atoms = [atom.index for atom in res1.atoms()]\n",
    "    factory = RESTTopologyFactoryV3(system, topology, rest_region=rest_atoms, use_dispersion_correction=True)\n",
    "    REST_system = factory.REST_system\n",
    "\n",
    "    # Check energy scaling\n",
    "    compare_energies(topology, REST_system, system, positions, rest_atoms, T_min, T)\n",
    "\n",
    "    ## CASE 3: alanine dipeptide in solvent with repartitioned hybrid system\n",
    "    # Create repartitioned hybrid system for lambda 0 endstate\n",
    "    atp, system_generator = generate_atp(phase='solvent')\n",
    "    htf = generate_dipeptide_top_pos_sys(atp.topology,\n",
    "                                         new_res='THR',\n",
    "                                         system=atp.system,\n",
    "                                         positions=atp.positions,\n",
    "                                         system_generator=system_generator,\n",
    "                                         conduct_htf_prop=True,\n",
    "                                         repartitioned=True,\n",
    "                                         endstate=0,\n",
    "                                         validate_endstate_energy=False)\n",
    "    system = htf.hybrid_system\n",
    "    system.removeForce(0) # Remove barostat\n",
    "\n",
    "    # Create REST-ified hybrid system\n",
    "    res1 = list(htf.hybrid_topology.residues)[1]\n",
    "    rest_atoms = [atom.index for atom in list(res1.atoms)]\n",
    "    factory = RESTTopologyFactoryV3(system, htf.hybrid_topology, rest_region=rest_atoms, use_dispersion_correction=True)\n",
    "    REST_system = factory.REST_system\n",
    "\n",
    "    # Check energy scaling\n",
    "    compare_energies(htf.hybrid_topology, REST_system, system, htf.hybrid_positions, rest_atoms, T_min, T)"
   ]
  },
  {
   "cell_type": "code",
   "execution_count": 144,
   "id": "847d15b1",
   "metadata": {},
   "outputs": [],
   "source": [
    "def compare_energies(topology, REST_system, other_system, positions, rest_atoms, T_min, T):\n",
    "    # Remove standard NonbondedForce (which contains reciprocal space) from REST_system\n",
    "    REST_system.removeForce(6)\n",
    "    \n",
    "# #     # Zero nb forces\n",
    "# #     nb_force = REST_system.getForce(3)\n",
    "# #     for i in range(nb_force.getNumParticles()):\n",
    "# #         params = nb_force.getParticleParameters(i)\n",
    "# #         params = list(params)\n",
    "# #         params[-1] = params[-1]*0\n",
    "# #         nb_force.setParticleParameters(i, params)\n",
    "    \n",
    "# #     nb_force = REST_system.getForce(4)\n",
    "# #     for i in range(nb_force.getNumParticles()):\n",
    "# #         params = nb_force.getParticleParameters(i)\n",
    "# #         params = list(params)\n",
    "# #         params[-1] = params[-1]*0\n",
    "# #         nb_force.setParticleParameters(i, params)\n",
    "\n",
    "#     # Zero exceptions force\n",
    "#     exceptions_force = REST_system.getForce(5)\n",
    "#     for i in range(exceptions_force.getNumBonds()):\n",
    "#         p1, p2, params = exceptions_force.getBondParameters(i)\n",
    "#         params = list(params)\n",
    "#         params[-4] = params[-4]*0\n",
    "#         params[-2] = params[-2]*0\n",
    "# #         params[-1] = params[-1]*0\n",
    "#         exceptions_force.setBondParameters(i, p1, p2, params)\n",
    "    \n",
    "    # Prevent reciprocal space from being used in the original system energy\n",
    "    other_system.getForce(3).setReciprocalSpaceForceGroup(31)    \n",
    "    \n",
    "#     nb_force = other_system.getForce(3)\n",
    "#     for i in range(nb_force.getNumExceptions()):\n",
    "#         p1, p2, chargeProd, sigma, epsilon = nb_force.getExceptionParameters(i)\n",
    "#         nb_force.setExceptionParameters(i, p1, p2, chargeProd*0, sigma, epsilon*0)\n",
    "\n",
    "#     for i in range(nb_force.getNumParticles()):\n",
    "#         charge, sigma, epsilon = nb_force.getParticleParameters(i)\n",
    "#         nb_force.setParticleParameters(i, charge, sigma, epsilon*0)\n",
    "    \n",
    "    # Create thermodynamic state\n",
    "    lambda_zero_alchemical_state = RESTStateV3.from_system(REST_system)\n",
    "    thermostate = ThermodynamicState(REST_system, temperature=T_min)\n",
    "    compound_thermodynamic_state = CompoundThermodynamicState(thermostate,\n",
    "                                                              composable_states=[lambda_zero_alchemical_state])\n",
    "    \n",
    "    # Set alchemical parameters\n",
    "    beta_0 = 1 / (kB * T_min)\n",
    "    beta_m = 1 / (kB * T)\n",
    "    compound_thermodynamic_state.set_alchemical_parameters(beta_0, beta_m)\n",
    "\n",
    "    # Get energy\n",
    "    integrator = openmm.VerletIntegrator(1.0 * unit.femtosecond)\n",
    "    context = compound_thermodynamic_state.create_context(integrator)\n",
    "    context.setPositions(positions)\n",
    "    REST_energy = context.getState(getEnergy=True).getPotentialEnergy().value_in_unit_system(unit.md_unit_system)\n",
    "\n",
    "    # Get solvent atoms\n",
    "    positive_ion_name = \"NA\"\n",
    "    negative_ion_name = \"CL\"\n",
    "    water_name = \"HOH\"\n",
    "    solvent_atoms = []\n",
    "    if 'openmm' in topology.__module__:\n",
    "        atoms = topology.atoms()\n",
    "    elif 'mdtraj' in topology.__module__:\n",
    "        atoms = topology.atoms\n",
    "    for atom in atoms:\n",
    "        if atom.residue.name == positive_ion_name or atom.residue.name == negative_ion_name or atom.residue.name == water_name:\n",
    "            solvent_atoms.append(atom.index)\n",
    "    \n",
    "    # Compute energy for non-RESTified system\n",
    "    # Determine regions and scaling factors\n",
    "    nonrest_atoms = [i for i in range(other_system.getNumParticles()) if i not in rest_atoms]\n",
    "    rest_scaling = beta_m / beta_0\n",
    "    inter_scaling = np.sqrt(beta_m / beta_0)\n",
    "    \n",
    "    # Compute 3 energies: \n",
    "    ## Test case 0: rest-rest energy\n",
    "    ## Test case 1: nonrest-nonrest energy\n",
    "    ## Test case 2: total energy\n",
    "    ## Test case 3: nonrest_solvent - rest (this will only be a nonbonded energy)\n",
    "    ## Test case 4: nonrest_solvent - nonrest-solvent (this will only be a nonbonded energy)\n",
    "    ## Test case 5: rest-rest nonbonded energy\n",
    "    unmodified_energies = []\n",
    "    for test_case in range(6):\n",
    "        system_copy = copy.deepcopy(other_system)\n",
    "        \n",
    "        if test_case != 2:\n",
    "            bond_force = system_copy.getForce(0)\n",
    "            for bond_index in range(bond_force.getNumBonds()):\n",
    "                p1, p2, length, k = bond_force.getBondParameters(bond_index)\n",
    "                particles = [p1, p2]\n",
    "                if all(x in rest_atoms for x in particles):\n",
    "                    if test_case in [1, 3, 4, 5]:\n",
    "                        bond_force.setBondParameters(bond_index, p1, p2, length, k*0)\n",
    "                    else:\n",
    "                        continue\n",
    "                elif all(x in nonrest_atoms for x in particles):\n",
    "                    if test_case in [0, 3, 4, 5]:\n",
    "                        bond_force.setBondParameters(bond_index, p1, p2, length, k*0)\n",
    "                    else:\n",
    "                        continue\n",
    "                else:\n",
    "                    bond_force.setBondParameters(bond_index, p1, p2, length, k*0)\n",
    "\n",
    "            angle_force = system_copy.getForce(1)\n",
    "            for angle_index in range(angle_force.getNumAngles()):\n",
    "                p1, p2, p3, angle, k = angle_force.getAngleParameters(angle_index)\n",
    "                particles = [p1, p2, p3]\n",
    "                if all(x in rest_atoms for x in particles):\n",
    "                    if test_case in [1, 3, 4, 5]:\n",
    "                        angle_force.setAngleParameters(angle_index, p1, p2, p3, angle, k*0) \n",
    "                    else:\n",
    "                        continue\n",
    "                elif all(x in nonrest_atoms for x in particles):\n",
    "                    if test_case in [0, 3, 4, 5]:\n",
    "                        angle_force.setAngleParameters(angle_index, p1, p2, p3, angle, k*0) \n",
    "                    else:\n",
    "                        continue\n",
    "                else:\n",
    "                    angle_force.setAngleParameters(angle_index, p1, p2, p3, angle, k*0) \n",
    "\n",
    "            torsion_force = system_copy.getForce(2)\n",
    "            for torsion_index in range(torsion_force.getNumTorsions()):\n",
    "                p1, p2, p3, p4, periodicity, phase, k = torsion_force.getTorsionParameters(torsion_index)\n",
    "                particles = [p1, p2, p3, p4]\n",
    "                if all(x in rest_atoms for x in particles):\n",
    "                    if test_case in [1, 3, 4, 5]:\n",
    "                        torsion_force.setTorsionParameters(torsion_index, p1, p2, p3, p4, periodicity, phase, k*0)\n",
    "                    else:\n",
    "                        continue\n",
    "                elif all(x in nonrest_atoms for x in particles):\n",
    "                    if test_case in [0, 3, 4, 5]:\n",
    "                        torsion_force.setTorsionParameters(torsion_index, p1, p2, p3, p4, periodicity, phase, k*0)\n",
    "                    else:\n",
    "                        continue\n",
    "                else:\n",
    "                    torsion_force.setTorsionParameters(torsion_index, p1, p2, p3, p4, periodicity, phase, k*0)\n",
    "\n",
    "            nb_force = system_copy.getForce(3)\n",
    "            for i in range(nb_force.getNumExceptions()):\n",
    "                p1, p2, chargeProd, sigma, epsilon = nb_force.getExceptionParameters(i)\n",
    "                particles = [p1, p2]\n",
    "                if all(x in rest_atoms for x in particles):\n",
    "                    if test_case in [1, 4]:\n",
    "                        nb_force.setExceptionParameters(i, p1, p2, chargeProd*0, sigma, epsilon*0)\n",
    "                    else:\n",
    "                        continue\n",
    "                elif all(x in nonrest_atoms for x in particles):\n",
    "                    if test_case in [0, 5]:\n",
    "                        nb_force.setExceptionParameters(i, p1, p2, chargeProd*0, sigma, epsilon*0)\n",
    "                    elif test_case in [3, 4]:\n",
    "                        if all(x in solvent_atoms for x in particles):\n",
    "                            continue\n",
    "                        else:\n",
    "                            nb_force.setExceptionParameters(i, p1, p2, chargeProd*0, sigma, epsilon*0)\n",
    "                    else:\n",
    "                        continue\n",
    "                else:\n",
    "                    if test_case == 3:\n",
    "                        if any(x in solvent_atoms for x in particles):\n",
    "                            continue\n",
    "                        else:\n",
    "                            nb_force.setExceptionParameters(i, p1, p2, chargeProd*0, sigma, epsilon*0)\n",
    "                    else:\n",
    "                        nb_force.setExceptionParameters(i, p1, p2, chargeProd*0, sigma, epsilon*0)\n",
    "\n",
    "            for i in range(nb_force.getNumParticles()):\n",
    "                charge, sigma, epsilon = nb_force.getParticleParameters(i)\n",
    "                if i in rest_atoms:\n",
    "                    if test_case in [1, 4]:\n",
    "                        nb_force.setParticleParameters(i, charge*0, sigma, epsilon*0)\n",
    "                    else:\n",
    "                        continue\n",
    "                else:\n",
    "                    if test_case in [0, 5]:\n",
    "                        nb_force.setParticleParameters(i, charge*0, sigma, epsilon*0)\n",
    "                        \n",
    "                    elif test_case in [3, 4]:\n",
    "                        if i in solvent_atoms:\n",
    "                            continue\n",
    "                        else:\n",
    "                            nb_force.setParticleParameters(i, charge*0, sigma, epsilon*0)\n",
    "                            \n",
    "                    else:\n",
    "                        continue     \n",
    "        \n",
    "        \n",
    "        # Get energy\n",
    "        thermostate = ThermodynamicState(system_copy, temperature=T_min)\n",
    "        integrator = openmm.VerletIntegrator(1.0 * unit.femtosecond)\n",
    "        context = thermostate.create_context(integrator)\n",
    "        context.setPositions(positions)\n",
    "        system_copy_energy = context.getState(getEnergy=True, groups=set([0])).getPotentialEnergy().value_in_unit_system(unit.md_unit_system)\n",
    "        unmodified_energies.append(system_copy_energy)\n",
    "    \n",
    "    print(unmodified_energies)\n",
    "    nonrest_solvent_rest = unmodified_energies[3] - unmodified_energies[5] - unmodified_energies[4]\n",
    "    nonrest_protein_rest = unmodified_energies[2] - unmodified_energies[0] - unmodified_energies[1] - nonrest_solvent_rest\n",
    "    unmodified_energy = unmodified_energies[0] * rest_scaling + unmodified_energies[1] +  nonrest_solvent_rest * rest_scaling + nonrest_protein_rest * inter_scaling\n",
    "    print(unmodified_energy)\n",
    "    print(REST_energy)\n",
    "#     assert np.isclose(REST_energy, unmodified_energy), f\"REST energy was {REST_energy} and unmodified_energy was {unmodified_energy}\"\n",
    "                            "
   ]
  },
  {
   "cell_type": "code",
   "execution_count": 145,
   "id": "11d67ffe",
   "metadata": {
    "scrolled": true
   },
   "outputs": [
    {
     "name": "stderr",
     "output_type": "stream",
     "text": [
      "INFO:REST:*** Generating RESTTopologyFactoryV3 ***\n",
      "INFO:REST:No unknown forces.\n",
      "INFO:REST:alpha_ewald is 0\n",
      "INFO:REST:No MonteCarloBarostat added.\n",
      "INFO:REST:getDefaultPeriodicBoxVectors added to hybrid: [Quantity(value=Vec3(x=2.0, y=0.0, z=0.0), unit=nanometer), Quantity(value=Vec3(x=0.0, y=2.0, z=0.0), unit=nanometer), Quantity(value=Vec3(x=0.0, y=0.0, z=2.0), unit=nanometer)]\n",
      "INFO:REST:*** Generating RESTTopologyFactoryV3 ***\n",
      "INFO:REST:No unknown forces.\n",
      "INFO:REST:alpha_ewald is 3.2893431387452243\n",
      "INFO:REST:No MonteCarloBarostat added.\n",
      "INFO:REST:getDefaultPeriodicBoxVectors added to hybrid: [Quantity(value=Vec3(x=3.2852863, y=0.0, z=0.0), unit=nanometer), Quantity(value=Vec3(x=0.0, y=3.2861648000000003, z=0.0), unit=nanometer), Quantity(value=Vec3(x=0.0, y=0.0, z=3.1855098), unit=nanometer)]\n"
     ]
    },
    {
     "name": "stdout",
     "output_type": "stream",
     "text": [
      "[99.16266923641906, -43.868905857090624, -88.0885568982415, 97.89623674058818, 0.0, 97.89623674058818]\n",
      "-95.67418220941221\n",
      "-95.67417528490705\n",
      "[343.0211989972927, 176160.56311972506, 176331.73873220527, 176250.82582921648, 175941.74369224504, 341.7547697201143]\n",
      "176217.32726348194\n",
      "176217.32516327008\n"
     ]
    },
    {
     "name": "stderr",
     "output_type": "stream",
     "text": [
      "DEBUG:openmmforcefields.system_generators:Trying GAFFTemplateGenerator to load gaff-2.11\n",
      "INFO:proposal_generator:\tConducting polymer point mutation proposal...\n",
      "WARNING:atom_mapping:Molecules do not appear to share a common scaffold.\n",
      "WARNING:atom_mapping:Proceeding with direct mapping of molecules, but please check atom mapping and the geometry of the ligands.\n",
      "INFO:proposal_generator:[Atom(name=CB, atomic number=6), Atom(name=HB1, atomic number=1), Atom(name=HB2, atomic number=1), Atom(name=HB3, atomic number=1)]\n",
      "INFO:proposal_generator:[Atom(name=CB, atomic number=6), Atom(name=CG2, atomic number=6), Atom(name=OG1, atomic number=8), Atom(name=HB, atomic number=1), Atom(name=HG1, atomic number=1), Atom(name=HG21, atomic number=1), Atom(name=HG22, atomic number=1), Atom(name=HG23, atomic number=1)]\n",
      "INFO:geometry:propose: performing forward proposal\n",
      "INFO:geometry:propose: unique new atoms detected; proceeding to _logp_propose...\n",
      "INFO:geometry:Conducting forward proposal...\n",
      "INFO:geometry:Computing proposal order with NetworkX...\n",
      "INFO:geometry:number of atoms to be placed: 8\n",
      "INFO:geometry:Atom index proposal order is [10, 18, 14, 16, 19, 13, 17, 15]\n",
      "INFO:geometry:omitted_bonds: []\n",
      "INFO:geometry:direction of proposal is forward; creating atoms_with_positions and new positions from old system/topology...\n"
     ]
    },
    {
     "name": "stdout",
     "output_type": "stream",
     "text": [
      "making topology proposal\n",
      "generating geometry engine\n",
      "making geometry proposal from ALA to THR\n"
     ]
    },
    {
     "name": "stderr",
     "output_type": "stream",
     "text": [
      "INFO:geometry:creating growth system...\n",
      "INFO:geometry:\tcreating bond force...\n",
      "INFO:geometry:\tthere are 11 bonds in reference force.\n",
      "INFO:geometry:\tcreating angle force...\n",
      "INFO:geometry:\tthere are 43 angles in reference force.\n",
      "INFO:geometry:\tcreating torsion force...\n",
      "INFO:geometry:\tcreating extra torsions force...\n",
      "INFO:geometry:\tthere are 72 torsions in reference force.\n",
      "INFO:geometry:\tcreating nonbonded force...\n",
      "INFO:geometry:\t\tgrabbing reference nonbonded method, cutoff, switching function, switching distance...\n",
      "INFO:geometry:\t\tcreating nonbonded exception force (i.e. custom bond for 1,4s)...\n",
      "INFO:geometry:\t\tlooping through exceptions calculating growth indices, and adding appropriate interactions to custom bond force.\n",
      "INFO:geometry:\t\tthere are 1654 in the reference Nonbonded force\n",
      "WARNING:geometry:\t\t\t\t\tchiral atom <Atom 8 (CA) of chain 0 residue 1 (THR)> with neighbors [<Atom 9 (HA) of chain 0 residue 1 (THR)>, <Atom 10 (CB) of chain 0 residue 1 (THR)>, <Atom 11 (C) of chain 0 residue 1 (THR)>, <Atom 6 (N) of chain 0 residue 1 (THR)>] is surrounded by 3 core neighbors.  omitting chirality bias torsion\n",
      "INFO:geometry:Neglected angle terms : []\n",
      "INFO:geometry:omitted_growth_terms: {'bonds': [], 'angles': [], 'torsions': [], '1,4s': []}\n",
      "INFO:geometry:extra torsions: {0: (7, 6, 8, 10, [1, Quantity(value=0.9900002084555819, unit=radian), Quantity(value=1200.0, unit=kilocalorie/mole), 1]), 1: (19, 18, 10, 8, [1, Quantity(value=-0.07858019216845058, unit=radian), Quantity(value=1200.0, unit=kilocalorie/mole), 5]), 2: (19, 18, 10, 14, [1, Quantity(value=2.118586571250296, unit=radian), Quantity(value=1200.0, unit=kilocalorie/mole), 5]), 3: (19, 18, 10, 13, [1, Quantity(value=-2.149781203448759, unit=radian), Quantity(value=1200.0, unit=kilocalorie/mole), 6]), 4: (8, 10, 14, 17, [1, Quantity(value=-2.1249532223845904, unit=radian), Quantity(value=1200.0, unit=kilocalorie/mole), 7]), 5: (8, 10, 14, 16, [1, Quantity(value=2.0543043017157916, unit=radian), Quantity(value=1200.0, unit=kilocalorie/mole), 4]), 6: (8, 10, 14, 15, [1, Quantity(value=-0.02223392579985184, unit=radian), Quantity(value=1200.0, unit=kilocalorie/mole), 8]), 7: (18, 10, 14, 17, [1, Quantity(value=2.0255587336734213, unit=radian), Quantity(value=1200.0, unit=kilocalorie/mole), 7]), 8: (18, 10, 14, 16, [1, Quantity(value=-0.07836904940578293, unit=radian), Quantity(value=1200.0, unit=kilocalorie/mole), 4]), 9: (18, 10, 14, 15, [1, Quantity(value=-2.154907276921426, unit=radian), Quantity(value=1200.0, unit=kilocalorie/mole), 8]), 10: (13, 10, 14, 17, [1, Quantity(value=0.007583009583349565, unit=radian), Quantity(value=1200.0, unit=kilocalorie/mole), 7]), 11: (13, 10, 14, 16, [1, Quantity(value=-2.096344773495849, unit=radian), Quantity(value=1200.0, unit=kilocalorie/mole), 6]), 12: (13, 10, 14, 15, [1, Quantity(value=2.1103023061680943, unit=radian), Quantity(value=1200.0, unit=kilocalorie/mole), 8]), 13: (18, 10, 8, 14, [1, Quantity(value=-1.0655064807976995, unit=radian), Quantity(value=1200.0, unit=kilocalorie/mole), 3])}\n",
      "INFO:geometry:neglected angle terms include []\n",
      "INFO:geometry:log probability choice of torsions and atom order: -13.371595639480912\n",
      "INFO:geometry:creating platform, integrators, and contexts; setting growth parameter\n"
     ]
    },
    {
     "name": "stdout",
     "output_type": "stream",
     "text": [
      "conducting subsequent work with the following platform: CUDA\n"
     ]
    },
    {
     "name": "stderr",
     "output_type": "stream",
     "text": [
      "INFO:geometry:setting atoms_with_positions context new positions\n"
     ]
    },
    {
     "name": "stdout",
     "output_type": "stream",
     "text": [
      "conducting subsequent work with the following platform: CUDA\n"
     ]
    },
    {
     "name": "stderr",
     "output_type": "stream",
     "text": [
      "INFO:geometry:There are 8 new atoms\n",
      "INFO:geometry:\treduced angle potential = 0.2393280320289944.\n",
      "INFO:geometry:\treduced angle potential = 1.0352284013040083.\n",
      "INFO:geometry:\treduced angle potential = 0.019535525876240134.\n",
      "INFO:geometry:\treduced angle potential = 0.16402893707225535.\n",
      "INFO:geometry:\treduced angle potential = 1.1035361905493144.\n",
      "INFO:geometry:\treduced angle potential = 0.5830411315009353.\n",
      "INFO:geometry:\treduced angle potential = 0.008247770178590689.\n",
      "INFO:geometry:\treduced angle potential = 0.0013542895189390936.\n",
      "INFO:geometry:\tbeginning construction of no_nonbonded final system...\n",
      "INFO:geometry:\tinitial no-nonbonded final system forces ['HarmonicBondForce', 'HarmonicAngleForce', 'PeriodicTorsionForce', 'NonbondedForce', 'MonteCarloBarostat']\n",
      "INFO:geometry:\tfinal no-nonbonded final system forces dict_keys(['HarmonicBondForce', 'HarmonicAngleForce', 'PeriodicTorsionForce', 'NonbondedForce'])\n",
      "INFO:geometry:\tthere are 11 bond forces in the no-nonbonded final system\n",
      "INFO:geometry:\tthere are 43 angle forces in the no-nonbonded final system\n",
      "INFO:geometry:\tthere are 72 torsion forces in the no-nonbonded final system\n",
      "INFO:geometry:forward final system defined with 0 neglected angles.\n"
     ]
    },
    {
     "name": "stdout",
     "output_type": "stream",
     "text": [
      "conducting subsequent work with the following platform: CUDA\n",
      "conducting subsequent work with the following platform: CUDA\n"
     ]
    },
    {
     "name": "stderr",
     "output_type": "stream",
     "text": [
      "INFO:geometry:total reduced potential before atom placement: 9.116481141712038\n"
     ]
    },
    {
     "name": "stdout",
     "output_type": "stream",
     "text": [
      "conducting subsequent work with the following platform: CUDA\n",
      "conducting subsequent work with the following platform: CUDA\n",
      "conducting subsequent work with the following platform: CUDA\n"
     ]
    },
    {
     "name": "stderr",
     "output_type": "stream",
     "text": [
      "INFO:geometry:total reduced energy added from growth system: -51.558053197967816\n",
      "INFO:geometry:final reduced energy -42.44157295770224\n",
      "INFO:geometry:sum of energies: -42.44157205625578\n",
      "INFO:geometry:magnitude of difference in the energies: 9.014464623646745e-07\n",
      "INFO:geometry:Final logp_proposal: 59.854655031103945\n"
     ]
    },
    {
     "name": "stdout",
     "output_type": "stream",
     "text": [
      "added energy components: [('CustomBondForce', 2.4773106769731883), ('CustomAngleForce', 5.565428412112127), ('CustomTorsionForce', 19.060752034285837), ('CustomBondForce', -78.66154432133897)]\n"
     ]
    },
    {
     "name": "stderr",
     "output_type": "stream",
     "text": [
      "INFO:geometry:logp_reverse: performing reverse proposal\n",
      "INFO:geometry:logp_reverse: unique new atoms detected; proceeding to _logp_propose...\n",
      "INFO:geometry:Conducting forward proposal...\n",
      "INFO:geometry:Computing proposal order with NetworkX...\n",
      "INFO:geometry:number of atoms to be placed: 4\n",
      "INFO:geometry:Atom index proposal order is [10, 13, 12, 11]\n",
      "INFO:geometry:omitted_bonds: []\n",
      "INFO:geometry:direction of proposal is reverse; creating atoms_with_positions from old system/topology\n",
      "INFO:geometry:creating growth system...\n",
      "INFO:geometry:\tcreating bond force...\n",
      "INFO:geometry:\tthere are 9 bonds in reference force.\n",
      "INFO:geometry:\tcreating angle force...\n",
      "INFO:geometry:\tthere are 36 angles in reference force.\n",
      "INFO:geometry:\tcreating torsion force...\n",
      "INFO:geometry:\tcreating extra torsions force...\n",
      "INFO:geometry:\tthere are 42 torsions in reference force.\n",
      "INFO:geometry:\tcreating nonbonded force...\n",
      "INFO:geometry:\t\tgrabbing reference nonbonded method, cutoff, switching function, switching distance...\n",
      "INFO:geometry:\t\tcreating nonbonded exception force (i.e. custom bond for 1,4s)...\n",
      "INFO:geometry:\t\tlooping through exceptions calculating growth indices, and adding appropriate interactions to custom bond force.\n",
      "INFO:geometry:\t\tthere are 1631 in the reference Nonbonded force\n",
      "WARNING:geometry:\t\t\t\t\tchiral atom <Atom 8 (CA) of chain 0 residue 1 (ALA)> with neighbors [<Atom 9 (HA) of chain 0 residue 1 (ALA)>, <Atom 10 (CB) of chain 0 residue 1 (ALA)>, <Atom 14 (C) of chain 0 residue 1 (ALA)>, <Atom 6 (N) of chain 0 residue 1 (ALA)>] is surrounded by 3 core neighbors.  omitting chirality bias torsion\n",
      "INFO:geometry:Neglected angle terms : []\n",
      "INFO:geometry:omitted_growth_terms: {'bonds': [], 'angles': [], 'torsions': [], '1,4s': []}\n",
      "INFO:geometry:extra torsions: {0: (7, 6, 8, 10, [1, Quantity(value=0.9799661941737812, unit=radian), Quantity(value=1200.0, unit=kilocalorie/mole), 1]), 1: (6, 8, 10, 11, [1, Quantity(value=2.105358864604291, unit=radian), Quantity(value=1200.0, unit=kilocalorie/mole), 4]), 2: (6, 8, 10, 12, [1, Quantity(value=-2.0823006129211796, unit=radian), Quantity(value=1200.0, unit=kilocalorie/mole), 3]), 3: (6, 8, 10, 13, [1, Quantity(value=0.018582237407944735, unit=radian), Quantity(value=1200.0, unit=kilocalorie/mole), 2]), 4: (14, 8, 10, 11, [1, Quantity(value=-0.036945135932107576, unit=radian), Quantity(value=1200.0, unit=kilocalorie/mole), 4]), 5: (14, 8, 10, 12, [1, Quantity(value=2.0585806937220097, unit=radian), Quantity(value=1200.0, unit=kilocalorie/mole), 3]), 6: (14, 8, 10, 13, [1, Quantity(value=-2.1237217631284597, unit=radian), Quantity(value=1200.0, unit=kilocalorie/mole), 2]), 7: (9, 8, 10, 11, [1, Quantity(value=-2.119603470065817, unit=radian), Quantity(value=1200.0, unit=kilocalorie/mole), 4]), 8: (9, 8, 10, 12, [1, Quantity(value=-0.024077640411697132, unit=radian), Quantity(value=1200.0, unit=kilocalorie/mole), 3]), 9: (9, 8, 10, 13, [1, Quantity(value=2.0768052099174152, unit=radian), Quantity(value=1200.0, unit=kilocalorie/mole), 2])}\n",
      "INFO:geometry:neglected angle terms include []\n",
      "INFO:geometry:log probability choice of torsions and atom order: -5.78074351579233\n",
      "INFO:geometry:creating platform, integrators, and contexts; setting growth parameter\n"
     ]
    },
    {
     "name": "stdout",
     "output_type": "stream",
     "text": [
      "conducting subsequent work with the following platform: CUDA\n"
     ]
    },
    {
     "name": "stderr",
     "output_type": "stream",
     "text": [
      "INFO:geometry:setting atoms_with_positions context old positions\n"
     ]
    },
    {
     "name": "stdout",
     "output_type": "stream",
     "text": [
      "conducting subsequent work with the following platform: CUDA\n"
     ]
    },
    {
     "name": "stderr",
     "output_type": "stream",
     "text": [
      "INFO:geometry:There are 4 new atoms\n",
      "INFO:geometry:\treduced angle potential = 0.3517324280898809.\n",
      "INFO:geometry:\treduced angle potential = 7.39096069988752e-11.\n",
      "INFO:geometry:\treduced angle potential = 3.205832446488702e-13.\n",
      "INFO:geometry:\treduced angle potential = 1.2915588460963948e-10.\n",
      "INFO:geometry:\tbeginning construction of no_nonbonded final system...\n",
      "INFO:geometry:\tinitial no-nonbonded final system forces ['HarmonicBondForce', 'HarmonicAngleForce', 'PeriodicTorsionForce', 'NonbondedForce', 'MonteCarloBarostat']\n",
      "INFO:geometry:\tfinal no-nonbonded final system forces dict_keys(['HarmonicBondForce', 'HarmonicAngleForce', 'PeriodicTorsionForce', 'NonbondedForce'])\n",
      "INFO:geometry:\tthere are 9 bond forces in the no-nonbonded final system\n",
      "INFO:geometry:\tthere are 36 angle forces in the no-nonbonded final system\n",
      "INFO:geometry:\tthere are 42 torsion forces in the no-nonbonded final system\n",
      "INFO:geometry:reverse final system defined with 0 neglected angles.\n"
     ]
    },
    {
     "name": "stdout",
     "output_type": "stream",
     "text": [
      "conducting subsequent work with the following platform: CUDA\n",
      "conducting subsequent work with the following platform: CUDA\n"
     ]
    },
    {
     "name": "stderr",
     "output_type": "stream",
     "text": [
      "INFO:geometry:total reduced potential before atom placement: 9.116481141712038\n"
     ]
    },
    {
     "name": "stdout",
     "output_type": "stream",
     "text": [
      "conducting subsequent work with the following platform: CUDA\n",
      "conducting subsequent work with the following platform: CUDA\n",
      "conducting subsequent work with the following platform: CUDA\n"
     ]
    },
    {
     "name": "stderr",
     "output_type": "stream",
     "text": [
      "INFO:geometry:total reduced energy added from growth system: 20.67298667212561\n",
      "INFO:geometry:final reduced energy 29.78946596595155\n",
      "INFO:geometry:sum of energies: 29.789467813837646\n",
      "INFO:geometry:magnitude of difference in the energies: 1.8478860965842614e-06\n",
      "INFO:geometry:Final logp_proposal: -27061.38503748967\n"
     ]
    },
    {
     "name": "stdout",
     "output_type": "stream",
     "text": [
      "added energy components: [('CustomBondForce', 0.0005202039273265048), ('CustomAngleForce', 0.45111977562481365), ('CustomTorsionForce', 7.25046332853325), ('CustomBondForce', 12.970883364040219)]\n"
     ]
    },
    {
     "name": "stderr",
     "output_type": "stream",
     "text": [
      "INFO:relative:*** Generating RepartitionedHybridTopologyFactory ***\n",
      "INFO:relative:Old system forces: dict_keys(['HarmonicBondForce', 'HarmonicAngleForce', 'PeriodicTorsionForce', 'NonbondedForce', 'MonteCarloBarostat'])\n",
      "INFO:relative:New system forces: dict_keys(['HarmonicBondForce', 'HarmonicAngleForce', 'PeriodicTorsionForce', 'NonbondedForce', 'MonteCarloBarostat'])\n",
      "INFO:relative:No unknown forces.\n",
      "INFO:relative:Nonbonded method to be used (i.e. from old system): 4\n",
      "INFO:relative:Adding and mapping old atoms to hybrid system...\n",
      "INFO:relative:Adding and mapping new atoms to hybrid system...\n",
      "INFO:relative:Added MonteCarloBarostat.\n",
      "INFO:relative:getDefaultPeriodicBoxVectors added to hybrid: [Quantity(value=Vec3(x=2.56477354, y=0.0, z=0.0), unit=nanometer), Quantity(value=Vec3(x=0.0, y=2.56477354, z=0.0), unit=nanometer), Quantity(value=Vec3(x=0.0, y=0.0, z=2.56477354), unit=nanometer)]\n",
      "INFO:relative:Determined atom classes.\n",
      "INFO:relative:Generating old system exceptions dict...\n",
      "INFO:relative:Generating new system exceptions dict...\n",
      "INFO:relative:Handling constraints...\n",
      "INFO:relative:Handling virtual sites...\n",
      "INFO:relative:\t_handle_virtual_sites: numVirtualSites: 0\n",
      "INFO:relative:\t_add_nonbonded_force_terms: <openmm.openmm.NonbondedForce; proxy of <Swig Object of type 'OpenMM::NonbondedForce *' at 0x2ac968cdacf0> > added to hybrid system\n",
      "INFO:relative:\t_add_nonbonded_force_terms: nonbonded_method is PME or Ewald\n",
      "INFO:relative:\t_add_nonbonded_force_terms: 4 added to standard nonbonded force\n",
      "INFO:relative:\t_add_nonbonded_force_terms: 2 added to sterics_custom_nonbonded force\n",
      "INFO:REST:*** Generating RESTTopologyFactoryV3 ***\n",
      "INFO:REST:No unknown forces.\n",
      "INFO:REST:alpha_ewald is 2.918423065872431\n",
      "INFO:REST:No MonteCarloBarostat added.\n",
      "INFO:REST:getDefaultPeriodicBoxVectors added to hybrid: [Quantity(value=Vec3(x=2.56477354, y=0.0, z=0.0), unit=nanometer), Quantity(value=Vec3(x=0.0, y=2.56477354, z=0.0), unit=nanometer), Quantity(value=Vec3(x=0.0, y=0.0, z=2.56477354), unit=nanometer)]\n"
     ]
    },
    {
     "name": "stdout",
     "output_type": "stream",
     "text": [
      "[135.49484040973738, 120113.38875204608, 120160.83303260534, 119966.75123901477, 119905.25605392292, 84.50364245017815]\n",
      "120123.64023183695\n",
      "120123.63899385846\n"
     ]
    }
   ],
   "source": [
    "test_energy_scaling()\n"
   ]
  },
  {
   "cell_type": "markdown",
   "id": "e57d55a6",
   "metadata": {},
   "source": [
    "# Check whether waters have valence energy"
   ]
  },
  {
   "cell_type": "code",
   "execution_count": 72,
   "id": "6f7e11e7",
   "metadata": {},
   "outputs": [],
   "source": [
    "import openmmtools\n",
    "###########################################\n",
    "# IMPORTS\n",
    "###########################################\n",
    "from openmmtools.states import SamplerState, ThermodynamicState, CompoundThermodynamicState\n",
    "from simtk import unit, openmm\n",
    "from perses.tests.utils import compute_potential_components\n",
    "from openmmtools.constants import kB\n",
    "from perses.dispersed.utils import configure_platform\n",
    "from perses.annihilation.rest import RESTTopologyFactoryV3\n",
    "from perses.annihilation.lambda_protocol import RESTStateV3\n",
    "import numpy as np\n",
    "from perses.tests.test_topology_proposal import generate_atp, generate_dipeptide_top_pos_sys\n",
    "from openmmtools.testsystems import AlanineDipeptideVacuum, AlanineDipeptideExplicit\n",
    "import itertools\n",
    "\n",
    "#############################################\n",
    "# CONSTANTS\n",
    "#############################################\n",
    "temperature = 300.0 * unit.kelvin\n",
    "kT = kB * temperature\n",
    "beta = 1.0/kT\n",
    "# REFERENCE_PLATFORM = openmm.Platform.getPlatformByName(\"Reference\")"
   ]
  },
  {
   "cell_type": "code",
   "execution_count": 70,
   "id": "e8bb4e6e",
   "metadata": {},
   "outputs": [],
   "source": [
    "waterbox = openmmtools.testsystems.PMEWaterBox()"
   ]
  },
  {
   "cell_type": "code",
   "execution_count": 71,
   "id": "8921e78f",
   "metadata": {},
   "outputs": [],
   "source": [
    "[system, positions] = [waterbox.system, waterbox.positions]"
   ]
  },
  {
   "cell_type": "code",
   "execution_count": 74,
   "id": "c72bc250",
   "metadata": {},
   "outputs": [
    {
     "name": "stdout",
     "output_type": "stream",
     "text": [
      "conducting subsequent work with the following platform: CUDA\n",
      "CUDA\n",
      "mixed\n",
      "true\n",
      "conducting subsequent work with the following platform: CUDA\n"
     ]
    }
   ],
   "source": [
    "platform = configure_platform(platform_name='CUDA')\n",
    "print(platform.getName())\n",
    "print(platform.getPropertyDefaultValue('CudaPrecision'))\n",
    "print(platform.getPropertyDefaultValue('DeterministicForces'))\n",
    "\n",
    "# Create thermodynamic state and sampler state for non-rest system\n",
    "thermostate_other = ThermodynamicState(system=system, temperature=temperature)\n",
    "\n",
    "# Create context for non-rest system\n",
    "integrator_other = openmm.VerletIntegrator(1.0*unit.femtosecond)\n",
    "context_other = thermostate_other.create_context(integrator_other, platform=platform)\n",
    "context_other.setPositions(positions)\n",
    "\n",
    "# Get energy components for non-rest system\n",
    "components_other = [component for component in compute_potential_components(context_other, beta=beta, platform=platform)]\n"
   ]
  },
  {
   "cell_type": "code",
   "execution_count": 75,
   "id": "3fb616c8",
   "metadata": {},
   "outputs": [
    {
     "data": {
      "text/plain": [
       "[('HarmonicBondForce', 0.0),\n",
       " ('HarmonicAngleForce', 0.0),\n",
       " ('NonbondedForce', -644.5640399939954),\n",
       " ('AndersenThermostat', 0.0)]"
      ]
     },
     "execution_count": 75,
     "metadata": {},
     "output_type": "execute_result"
    }
   ],
   "source": [
    "components_other"
   ]
  },
  {
   "cell_type": "markdown",
   "id": "c229595f",
   "metadata": {},
   "source": [
    "This shows that waters don't contribute to the valence energy"
   ]
  },
  {
   "cell_type": "code",
   "execution_count": null,
   "id": "f26fa343",
   "metadata": {},
   "outputs": [],
   "source": []
  }
 ],
 "metadata": {
  "kernelspec": {
   "display_name": "Python 3 (ipykernel)",
   "language": "python",
   "name": "python3"
  },
  "language_info": {
   "codemirror_mode": {
    "name": "ipython",
    "version": 3
   },
   "file_extension": ".py",
   "mimetype": "text/x-python",
   "name": "python",
   "nbconvert_exporter": "python",
   "pygments_lexer": "ipython3",
   "version": "3.9.7"
  }
 },
 "nbformat": 4,
 "nbformat_minor": 5
}
