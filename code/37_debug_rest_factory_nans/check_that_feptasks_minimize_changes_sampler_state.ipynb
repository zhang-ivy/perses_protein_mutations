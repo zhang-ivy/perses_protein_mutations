{
 "cells": [
  {
   "cell_type": "code",
   "execution_count": 10,
   "id": "dfcc8ce2",
   "metadata": {},
   "outputs": [],
   "source": [
    "from openmmtools import states\n",
    "import pickle\n",
    "import os\n",
    "\n",
    "from perses.dispersed import feptasks\n",
    "\n",
    "from openmm import unit\n",
    "import copy"
   ]
  },
  {
   "cell_type": "code",
   "execution_count": 3,
   "id": "4ff4a5c7",
   "metadata": {},
   "outputs": [
    {
     "name": "stderr",
     "output_type": "stream",
     "text": [
      "Warning: importing 'simtk.openmm' is deprecated.  Import 'openmm' instead.\n",
      "INFO:rdkit:Enabling RDKit 2021.09.4 jupyter extensions\n"
     ]
    }
   ],
   "source": [
    "with open(\"/data/chodera/zhangi/perses_benchmark/neq/28/0/0_apo.pickle\", \"rb\") as f:\n",
    "    htf = pickle.load(f)"
   ]
  },
  {
   "cell_type": "code",
   "execution_count": 4,
   "id": "219ebcef",
   "metadata": {},
   "outputs": [],
   "source": [
    "positions = htf.hybrid_positions\n",
    "hybrid_system = htf.hybrid_system"
   ]
  },
  {
   "cell_type": "code",
   "execution_count": 9,
   "id": "e36410ba",
   "metadata": {},
   "outputs": [],
   "source": [
    "sampler_state = states.SamplerState(positions, box_vectors=hybrid_system.getDefaultPeriodicBoxVectors())\n",
    "thermostate = states.ThermodynamicState(hybrid_system, temperature=300 * unit.kelvin)"
   ]
  },
  {
   "cell_type": "code",
   "execution_count": 11,
   "id": "32ebcd76",
   "metadata": {},
   "outputs": [],
   "source": [
    "sampler_state_copy = copy.deepcopy(sampler_state)"
   ]
  },
  {
   "cell_type": "code",
   "execution_count": 13,
   "id": "d6cdf373",
   "metadata": {},
   "outputs": [],
   "source": [
    "feptasks.minimize(thermostate, sampler_state)"
   ]
  },
  {
   "cell_type": "code",
   "execution_count": 14,
   "id": "06932fca",
   "metadata": {},
   "outputs": [
    {
     "data": {
      "text/plain": [
       "Quantity(value=array([[4.86697   , 2.1308    , 4.30008   ],\n",
       "       [4.96675   , 2.05948   , 4.22048   ],\n",
       "       [5.0014    , 2.09934   , 4.11066   ],\n",
       "       ...,\n",
       "       [2.94821123, 0.70427107, 4.0505669 ],\n",
       "       [3.07730572, 0.59256027, 4.08956008],\n",
       "       [2.98269292, 0.57540255, 3.9399274 ]]), unit=nanometer)"
      ]
     },
     "execution_count": 14,
     "metadata": {},
     "output_type": "execute_result"
    }
   ],
   "source": [
    "sampler_state_copy.positions"
   ]
  },
  {
   "cell_type": "code",
   "execution_count": 15,
   "id": "dc8eb6b4",
   "metadata": {},
   "outputs": [
    {
     "data": {
      "text/plain": [
       "Quantity(value=array([[4.87200737, 2.15065217, 4.29941368],\n",
       "       [4.98252821, 2.08410811, 4.22136736],\n",
       "       [5.01409006, 2.12738657, 4.11050129],\n",
       "       ...,\n",
       "       [2.93334341, 0.73022515, 4.03859806],\n",
       "       [3.03972125, 0.60239697, 4.10353518],\n",
       "       [2.97026849, 0.58682507, 3.94044018]]), unit=nanometer)"
      ]
     },
     "execution_count": 15,
     "metadata": {},
     "output_type": "execute_result"
    }
   ],
   "source": [
    "sampler_state.positions"
   ]
  },
  {
   "cell_type": "code",
   "execution_count": null,
   "id": "0a67b62e",
   "metadata": {},
   "outputs": [],
   "source": []
  }
 ],
 "metadata": {
  "kernelspec": {
   "display_name": "Python 3 (ipykernel)",
   "language": "python",
   "name": "python3"
  },
  "language_info": {
   "codemirror_mode": {
    "name": "ipython",
    "version": 3
   },
   "file_extension": ".py",
   "mimetype": "text/x-python",
   "name": "python",
   "nbconvert_exporter": "python",
   "pygments_lexer": "ipython3",
   "version": "3.9.9"
  }
 },
 "nbformat": 4,
 "nbformat_minor": 5
}
