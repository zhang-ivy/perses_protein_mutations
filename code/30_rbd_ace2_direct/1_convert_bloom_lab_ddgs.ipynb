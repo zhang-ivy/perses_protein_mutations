{
 "cells": [
  {
   "cell_type": "code",
   "execution_count": 1,
   "id": "21f635cd",
   "metadata": {},
   "outputs": [],
   "source": [
    "import pandas as pd\n",
    "import matplotlib.pyplot as plt\n",
    "import seaborn as sns\n",
    "import numpy as np\n",
    "\n",
    "from openmm import unit\n",
    "from openmmtools.constants import kB\n",
    "KT_KCALMOL = kB * 300 * unit.kelvin / unit.kilocalories_per_mole\n",
    "\n",
    "import warnings\n",
    "warnings.filterwarnings(\"ignore\")"
   ]
  },
  {
   "cell_type": "code",
   "execution_count": 2,
   "id": "9fad1ac9",
   "metadata": {},
   "outputs": [],
   "source": [
    "pd.set_option('display.max_rows', 200)"
   ]
  },
  {
   "cell_type": "code",
   "execution_count": 3,
   "id": "a77e4d76",
   "metadata": {},
   "outputs": [],
   "source": [
    "df = pd.read_csv(\"../../data/bloom_lab_dms.csv\")"
   ]
  },
  {
   "cell_type": "code",
   "execution_count": 4,
   "id": "093ee803",
   "metadata": {},
   "outputs": [],
   "source": [
    "# Add column where bind_avg is converted to a pseudo DDG\n",
    "df['bind_ddgs'] = np.log(10**(df['bind_avg']*-1))*KT_KCALMOL"
   ]
  },
  {
   "cell_type": "code",
   "execution_count": 5,
   "id": "822a2786",
   "metadata": {},
   "outputs": [
    {
     "data": {
      "image/png": "[encoded data removed]",
      "text/plain": [
       "<Figure size 432x288 with 1 Axes>"
      ]
     },
     "metadata": {
      "needs_background": "light"
     },
     "output_type": "display_data"
    }
   ],
   "source": [
    "# Plot N501X values\n",
    "sns.distplot(df[df['mutation'].str.contains('N501')]['bind_ddgs'].values)\n",
    "plt.show()"
   ]
  },
  {
   "cell_type": "code",
   "execution_count": 6,
   "id": "96a22e5f",
   "metadata": {},
   "outputs": [
    {
     "data": {
      "text/plain": [
       "array([ 0.08236272,  0.796173  ,  3.32196321,  1.08444254, -0.3980865 ,\n",
       "        1.29034935,  0.        ,  0.10981697,  3.82986668,  1.57861888,\n",
       "        0.        ,  0.        ,  2.67678854,  0.08236272,  2.85524111,\n",
       "        0.17845257, -0.13727121, -0.20590681, -0.15099833, -0.3294509 ,\n",
       "               nan])"
      ]
     },
     "execution_count": 6,
     "metadata": {},
     "output_type": "execute_result"
    }
   ],
   "source": [
    "df[df['mutation'].str.contains('N501')]['bind_ddgs'].values"
   ]
  },
  {
   "cell_type": "code",
   "execution_count": 7,
   "id": "0beb90c4",
   "metadata": {},
   "outputs": [
    {
     "data": {
      "image/png": "[encoded data removed]",
      "text/plain": [
       "<Figure size 432x288 with 1 Axes>"
      ]
     },
     "metadata": {
      "needs_background": "light"
     },
     "output_type": "display_data"
    }
   ],
   "source": [
    "# Plot E484X values\n",
    "sns.distplot(df[df['mutation'].str.contains('E484')]['bind_ddgs'].values)\n",
    "plt.show()"
   ]
  },
  {
   "cell_type": "code",
   "execution_count": 8,
   "id": "6cc2116e",
   "metadata": {},
   "outputs": [
    {
     "data": {
      "text/plain": [
       "array([ 0.09608984,  0.71381028,  0.52163059,  0.        ,  1.96297826,\n",
       "        0.08236272,  0.75499164,  0.87853573, -0.08236272,  0.97462557,\n",
       "        0.35690514,  0.10981697,  0.38435938, -0.04118136, -0.20590681,\n",
       "        0.02745424, -0.0686356 ,  0.89226285,  1.07071542,  2.07279523,\n",
       "               nan])"
      ]
     },
     "execution_count": 8,
     "metadata": {},
     "output_type": "execute_result"
    }
   ],
   "source": [
    "df[df['mutation'].str.contains('E484')]['bind_ddgs'].values"
   ]
  },
  {
   "cell_type": "code",
   "execution_count": 10,
   "id": "28d35f38",
   "metadata": {},
   "outputs": [
    {
     "data": {
      "text/html": [
       "<div>\n",
       "<style scoped>\n",
       "    .dataframe tbody tr th:only-of-type {\n",
       "        vertical-align: middle;\n",
       "    }\n",
       "\n",
       "    .dataframe tbody tr th {\n",
       "        vertical-align: top;\n",
       "    }\n",
       "\n",
       "    .dataframe thead th {\n",
       "        text-align: right;\n",
       "    }\n",
       "</style>\n",
       "<table border=\"1\" class=\"dataframe\">\n",
       "  <thead>\n",
       "    <tr style=\"text-align: right;\">\n",
       "      <th></th>\n",
       "      <th>site_RBD</th>\n",
       "      <th>site_SARS2</th>\n",
       "      <th>wildtype</th>\n",
       "      <th>mutant</th>\n",
       "      <th>mutation</th>\n",
       "      <th>mutation_RBD</th>\n",
       "      <th>bind_lib1</th>\n",
       "      <th>bind_lib2</th>\n",
       "      <th>bind_avg</th>\n",
       "      <th>expr_lib1</th>\n",
       "      <th>expr_lib2</th>\n",
       "      <th>expr_avg</th>\n",
       "      <th>bind_ddgs</th>\n",
       "    </tr>\n",
       "  </thead>\n",
       "  <tbody>\n",
       "    <tr>\n",
       "      <th>3213</th>\n",
       "      <td>154</td>\n",
       "      <td>484</td>\n",
       "      <td>E</td>\n",
       "      <td>A</td>\n",
       "      <td>E484A</td>\n",
       "      <td>E154A</td>\n",
       "      <td>-0.01</td>\n",
       "      <td>-0.12</td>\n",
       "      <td>-0.07</td>\n",
       "      <td>-0.10</td>\n",
       "      <td>-0.35</td>\n",
       "      <td>-0.23</td>\n",
       "      <td>0.096090</td>\n",
       "    </tr>\n",
       "    <tr>\n",
       "      <th>3214</th>\n",
       "      <td>154</td>\n",
       "      <td>484</td>\n",
       "      <td>E</td>\n",
       "      <td>C</td>\n",
       "      <td>E484C</td>\n",
       "      <td>E154C</td>\n",
       "      <td>-0.49</td>\n",
       "      <td>-0.55</td>\n",
       "      <td>-0.52</td>\n",
       "      <td>-0.68</td>\n",
       "      <td>-0.54</td>\n",
       "      <td>-0.61</td>\n",
       "      <td>0.713810</td>\n",
       "    </tr>\n",
       "    <tr>\n",
       "      <th>3215</th>\n",
       "      <td>154</td>\n",
       "      <td>484</td>\n",
       "      <td>E</td>\n",
       "      <td>D</td>\n",
       "      <td>E484D</td>\n",
       "      <td>E154D</td>\n",
       "      <td>-0.34</td>\n",
       "      <td>-0.43</td>\n",
       "      <td>-0.38</td>\n",
       "      <td>-0.13</td>\n",
       "      <td>-0.25</td>\n",
       "      <td>-0.19</td>\n",
       "      <td>0.521631</td>\n",
       "    </tr>\n",
       "    <tr>\n",
       "      <th>3216</th>\n",
       "      <td>154</td>\n",
       "      <td>484</td>\n",
       "      <td>E</td>\n",
       "      <td>E</td>\n",
       "      <td>E484E</td>\n",
       "      <td>E154E</td>\n",
       "      <td>0.00</td>\n",
       "      <td>0.00</td>\n",
       "      <td>0.00</td>\n",
       "      <td>0.00</td>\n",
       "      <td>0.00</td>\n",
       "      <td>0.00</td>\n",
       "      <td>0.000000</td>\n",
       "    </tr>\n",
       "    <tr>\n",
       "      <th>3217</th>\n",
       "      <td>154</td>\n",
       "      <td>484</td>\n",
       "      <td>E</td>\n",
       "      <td>F</td>\n",
       "      <td>E484F</td>\n",
       "      <td>E154F</td>\n",
       "      <td>-1.41</td>\n",
       "      <td>-1.45</td>\n",
       "      <td>-1.43</td>\n",
       "      <td>-0.52</td>\n",
       "      <td>-0.74</td>\n",
       "      <td>-0.63</td>\n",
       "      <td>1.962978</td>\n",
       "    </tr>\n",
       "    <tr>\n",
       "      <th>3218</th>\n",
       "      <td>154</td>\n",
       "      <td>484</td>\n",
       "      <td>E</td>\n",
       "      <td>G</td>\n",
       "      <td>E484G</td>\n",
       "      <td>E154G</td>\n",
       "      <td>-0.03</td>\n",
       "      <td>-0.10</td>\n",
       "      <td>-0.06</td>\n",
       "      <td>-0.41</td>\n",
       "      <td>-0.43</td>\n",
       "      <td>-0.42</td>\n",
       "      <td>0.082363</td>\n",
       "    </tr>\n",
       "    <tr>\n",
       "      <th>3219</th>\n",
       "      <td>154</td>\n",
       "      <td>484</td>\n",
       "      <td>E</td>\n",
       "      <td>H</td>\n",
       "      <td>E484H</td>\n",
       "      <td>E154H</td>\n",
       "      <td>-0.53</td>\n",
       "      <td>-0.58</td>\n",
       "      <td>-0.55</td>\n",
       "      <td>-0.29</td>\n",
       "      <td>-0.29</td>\n",
       "      <td>-0.29</td>\n",
       "      <td>0.754992</td>\n",
       "    </tr>\n",
       "    <tr>\n",
       "      <th>3220</th>\n",
       "      <td>154</td>\n",
       "      <td>484</td>\n",
       "      <td>E</td>\n",
       "      <td>I</td>\n",
       "      <td>E484I</td>\n",
       "      <td>E154I</td>\n",
       "      <td>-0.68</td>\n",
       "      <td>-0.60</td>\n",
       "      <td>-0.64</td>\n",
       "      <td>-0.40</td>\n",
       "      <td>-0.14</td>\n",
       "      <td>-0.27</td>\n",
       "      <td>0.878536</td>\n",
       "    </tr>\n",
       "    <tr>\n",
       "      <th>3221</th>\n",
       "      <td>154</td>\n",
       "      <td>484</td>\n",
       "      <td>E</td>\n",
       "      <td>K</td>\n",
       "      <td>E484K</td>\n",
       "      <td>E154K</td>\n",
       "      <td>0.09</td>\n",
       "      <td>0.03</td>\n",
       "      <td>0.06</td>\n",
       "      <td>-0.13</td>\n",
       "      <td>-0.08</td>\n",
       "      <td>-0.10</td>\n",
       "      <td>-0.082363</td>\n",
       "    </tr>\n",
       "    <tr>\n",
       "      <th>3222</th>\n",
       "      <td>154</td>\n",
       "      <td>484</td>\n",
       "      <td>E</td>\n",
       "      <td>L</td>\n",
       "      <td>E484L</td>\n",
       "      <td>E154L</td>\n",
       "      <td>-0.71</td>\n",
       "      <td>-0.72</td>\n",
       "      <td>-0.71</td>\n",
       "      <td>-0.19</td>\n",
       "      <td>-0.20</td>\n",
       "      <td>-0.20</td>\n",
       "      <td>0.974626</td>\n",
       "    </tr>\n",
       "    <tr>\n",
       "      <th>3223</th>\n",
       "      <td>154</td>\n",
       "      <td>484</td>\n",
       "      <td>E</td>\n",
       "      <td>M</td>\n",
       "      <td>E484M</td>\n",
       "      <td>E154M</td>\n",
       "      <td>-0.24</td>\n",
       "      <td>-0.28</td>\n",
       "      <td>-0.26</td>\n",
       "      <td>-0.37</td>\n",
       "      <td>-0.10</td>\n",
       "      <td>-0.24</td>\n",
       "      <td>0.356905</td>\n",
       "    </tr>\n",
       "    <tr>\n",
       "      <th>3224</th>\n",
       "      <td>154</td>\n",
       "      <td>484</td>\n",
       "      <td>E</td>\n",
       "      <td>N</td>\n",
       "      <td>E484N</td>\n",
       "      <td>E154N</td>\n",
       "      <td>-0.02</td>\n",
       "      <td>-0.13</td>\n",
       "      <td>-0.08</td>\n",
       "      <td>-0.19</td>\n",
       "      <td>-0.19</td>\n",
       "      <td>-0.19</td>\n",
       "      <td>0.109817</td>\n",
       "    </tr>\n",
       "    <tr>\n",
       "      <th>3225</th>\n",
       "      <td>154</td>\n",
       "      <td>484</td>\n",
       "      <td>E</td>\n",
       "      <td>P</td>\n",
       "      <td>E484P</td>\n",
       "      <td>E154P</td>\n",
       "      <td>-0.44</td>\n",
       "      <td>-0.12</td>\n",
       "      <td>-0.28</td>\n",
       "      <td>-0.11</td>\n",
       "      <td>0.06</td>\n",
       "      <td>-0.02</td>\n",
       "      <td>0.384359</td>\n",
       "    </tr>\n",
       "    <tr>\n",
       "      <th>3226</th>\n",
       "      <td>154</td>\n",
       "      <td>484</td>\n",
       "      <td>E</td>\n",
       "      <td>Q</td>\n",
       "      <td>E484Q</td>\n",
       "      <td>E154Q</td>\n",
       "      <td>0.03</td>\n",
       "      <td>0.03</td>\n",
       "      <td>0.03</td>\n",
       "      <td>-0.17</td>\n",
       "      <td>0.01</td>\n",
       "      <td>-0.08</td>\n",
       "      <td>-0.041181</td>\n",
       "    </tr>\n",
       "    <tr>\n",
       "      <th>3227</th>\n",
       "      <td>154</td>\n",
       "      <td>484</td>\n",
       "      <td>E</td>\n",
       "      <td>R</td>\n",
       "      <td>E484R</td>\n",
       "      <td>E154R</td>\n",
       "      <td>0.19</td>\n",
       "      <td>0.11</td>\n",
       "      <td>0.15</td>\n",
       "      <td>-0.09</td>\n",
       "      <td>-0.14</td>\n",
       "      <td>-0.12</td>\n",
       "      <td>-0.205907</td>\n",
       "    </tr>\n",
       "    <tr>\n",
       "      <th>3228</th>\n",
       "      <td>154</td>\n",
       "      <td>484</td>\n",
       "      <td>E</td>\n",
       "      <td>S</td>\n",
       "      <td>E484S</td>\n",
       "      <td>E154S</td>\n",
       "      <td>-0.05</td>\n",
       "      <td>0.02</td>\n",
       "      <td>-0.02</td>\n",
       "      <td>-0.25</td>\n",
       "      <td>-0.11</td>\n",
       "      <td>-0.18</td>\n",
       "      <td>0.027454</td>\n",
       "    </tr>\n",
       "    <tr>\n",
       "      <th>3229</th>\n",
       "      <td>154</td>\n",
       "      <td>484</td>\n",
       "      <td>E</td>\n",
       "      <td>T</td>\n",
       "      <td>E484T</td>\n",
       "      <td>E154T</td>\n",
       "      <td>0.05</td>\n",
       "      <td>0.04</td>\n",
       "      <td>0.05</td>\n",
       "      <td>-0.03</td>\n",
       "      <td>-0.02</td>\n",
       "      <td>-0.03</td>\n",
       "      <td>-0.068636</td>\n",
       "    </tr>\n",
       "    <tr>\n",
       "      <th>3230</th>\n",
       "      <td>154</td>\n",
       "      <td>484</td>\n",
       "      <td>E</td>\n",
       "      <td>V</td>\n",
       "      <td>E484V</td>\n",
       "      <td>E154V</td>\n",
       "      <td>-0.63</td>\n",
       "      <td>-0.68</td>\n",
       "      <td>-0.65</td>\n",
       "      <td>0.02</td>\n",
       "      <td>-0.12</td>\n",
       "      <td>-0.05</td>\n",
       "      <td>0.892263</td>\n",
       "    </tr>\n",
       "    <tr>\n",
       "      <th>3231</th>\n",
       "      <td>154</td>\n",
       "      <td>484</td>\n",
       "      <td>E</td>\n",
       "      <td>W</td>\n",
       "      <td>E484W</td>\n",
       "      <td>E154W</td>\n",
       "      <td>-0.71</td>\n",
       "      <td>-0.84</td>\n",
       "      <td>-0.78</td>\n",
       "      <td>-0.63</td>\n",
       "      <td>-0.91</td>\n",
       "      <td>-0.77</td>\n",
       "      <td>1.070715</td>\n",
       "    </tr>\n",
       "    <tr>\n",
       "      <th>3232</th>\n",
       "      <td>154</td>\n",
       "      <td>484</td>\n",
       "      <td>E</td>\n",
       "      <td>Y</td>\n",
       "      <td>E484Y</td>\n",
       "      <td>E154Y</td>\n",
       "      <td>-1.46</td>\n",
       "      <td>-1.57</td>\n",
       "      <td>-1.51</td>\n",
       "      <td>-0.49</td>\n",
       "      <td>-0.77</td>\n",
       "      <td>-0.63</td>\n",
       "      <td>2.072795</td>\n",
       "    </tr>\n",
       "    <tr>\n",
       "      <th>3233</th>\n",
       "      <td>154</td>\n",
       "      <td>484</td>\n",
       "      <td>E</td>\n",
       "      <td>*</td>\n",
       "      <td>E484*</td>\n",
       "      <td>E154*</td>\n",
       "      <td>NaN</td>\n",
       "      <td>NaN</td>\n",
       "      <td>NaN</td>\n",
       "      <td>-4.59</td>\n",
       "      <td>-4.54</td>\n",
       "      <td>-4.57</td>\n",
       "      <td>NaN</td>\n",
       "    </tr>\n",
       "  </tbody>\n",
       "</table>\n",
       "</div>"
      ],
      "text/plain": [
       "      site_RBD  site_SARS2 wildtype mutant mutation mutation_RBD  bind_lib1  \\\n",
       "3213       154         484        E      A    E484A        E154A      -0.01   \n",
       "3214       154         484        E      C    E484C        E154C      -0.49   \n",
       "3215       154         484        E      D    E484D        E154D      -0.34   \n",
       "3216       154         484        E      E    E484E        E154E       0.00   \n",
       "3217       154         484        E      F    E484F        E154F      -1.41   \n",
       "3218       154         484        E      G    E484G        E154G      -0.03   \n",
       "3219       154         484        E      H    E484H        E154H      -0.53   \n",
       "3220       154         484        E      I    E484I        E154I      -0.68   \n",
       "3221       154         484        E      K    E484K        E154K       0.09   \n",
       "3222       154         484        E      L    E484L        E154L      -0.71   \n",
       "3223       154         484        E      M    E484M        E154M      -0.24   \n",
       "3224       154         484        E      N    E484N        E154N      -0.02   \n",
       "3225       154         484        E      P    E484P        E154P      -0.44   \n",
       "3226       154         484        E      Q    E484Q        E154Q       0.03   \n",
       "3227       154         484        E      R    E484R        E154R       0.19   \n",
       "3228       154         484        E      S    E484S        E154S      -0.05   \n",
       "3229       154         484        E      T    E484T        E154T       0.05   \n",
       "3230       154         484        E      V    E484V        E154V      -0.63   \n",
       "3231       154         484        E      W    E484W        E154W      -0.71   \n",
       "3232       154         484        E      Y    E484Y        E154Y      -1.46   \n",
       "3233       154         484        E      *    E484*        E154*        NaN   \n",
       "\n",
       "      bind_lib2  bind_avg  expr_lib1  expr_lib2  expr_avg  bind_ddgs  \n",
       "3213      -0.12     -0.07      -0.10      -0.35     -0.23   0.096090  \n",
       "3214      -0.55     -0.52      -0.68      -0.54     -0.61   0.713810  \n",
       "3215      -0.43     -0.38      -0.13      -0.25     -0.19   0.521631  \n",
       "3216       0.00      0.00       0.00       0.00      0.00   0.000000  \n",
       "3217      -1.45     -1.43      -0.52      -0.74     -0.63   1.962978  \n",
       "3218      -0.10     -0.06      -0.41      -0.43     -0.42   0.082363  \n",
       "3219      -0.58     -0.55      -0.29      -0.29     -0.29   0.754992  \n",
       "3220      -0.60     -0.64      -0.40      -0.14     -0.27   0.878536  \n",
       "3221       0.03      0.06      -0.13      -0.08     -0.10  -0.082363  \n",
       "3222      -0.72     -0.71      -0.19      -0.20     -0.20   0.974626  \n",
       "3223      -0.28     -0.26      -0.37      -0.10     -0.24   0.356905  \n",
       "3224      -0.13     -0.08      -0.19      -0.19     -0.19   0.109817  \n",
       "3225      -0.12     -0.28      -0.11       0.06     -0.02   0.384359  \n",
       "3226       0.03      0.03      -0.17       0.01     -0.08  -0.041181  \n",
       "3227       0.11      0.15      -0.09      -0.14     -0.12  -0.205907  \n",
       "3228       0.02     -0.02      -0.25      -0.11     -0.18   0.027454  \n",
       "3229       0.04      0.05      -0.03      -0.02     -0.03  -0.068636  \n",
       "3230      -0.68     -0.65       0.02      -0.12     -0.05   0.892263  \n",
       "3231      -0.84     -0.78      -0.63      -0.91     -0.77   1.070715  \n",
       "3232      -1.57     -1.51      -0.49      -0.77     -0.63   2.072795  \n",
       "3233        NaN       NaN      -4.59      -4.54     -4.57        NaN  "
      ]
     },
     "execution_count": 10,
     "metadata": {},
     "output_type": "execute_result"
    }
   ],
   "source": [
    "df[df['mutation'].str.contains('E484')]"
   ]
  },
  {
   "cell_type": "code",
   "execution_count": 20,
   "id": "b97a5672",
   "metadata": {},
   "outputs": [
    {
     "data": {
      "image/png": "[encoded data removed]",
      "text/plain": [
       "<Figure size 432x288 with 1 Axes>"
      ]
     },
     "metadata": {
      "needs_background": "light"
     },
     "output_type": "display_data"
    }
   ],
   "source": [
    "# Plot Q498X values\n",
    "sns.distplot(df[df['mutation'].str.contains('Q498')]['bind_ddgs'].values)\n",
    "plt.show()"
   ]
  },
  {
   "cell_type": "code",
   "execution_count": 21,
   "id": "ea81a587",
   "metadata": {},
   "outputs": [
    {
     "data": {
      "text/plain": [
       "array([ 0.0686356 ,  1.93552402,  1.74334433,  1.34525783, -0.20590681,\n",
       "        0.83735436, -0.41181362,  2.03161386,  3.10232928,  2.16888507,\n",
       "        0.70008316,  0.68635604,  4.3103159 ,  0.        ,  0.08236272,\n",
       "        0.23336105,  0.91971709,  1.70216297, -0.09608984, -0.21963393,\n",
       "               nan])"
      ]
     },
     "execution_count": 21,
     "metadata": {},
     "output_type": "execute_result"
    }
   ],
   "source": [
    "df[df['mutation'].str.contains('Q498')]['bind_ddgs'].values"
   ]
  },
  {
   "cell_type": "code",
   "execution_count": 22,
   "id": "99b56414",
   "metadata": {},
   "outputs": [
    {
     "data": {
      "image/png": "[encoded data removed]",
      "text/plain": [
       "<Figure size 432x288 with 1 Axes>"
      ]
     },
     "metadata": {
      "needs_background": "light"
     },
     "output_type": "display_data"
    }
   ],
   "source": [
    "# Plot Q493X values\n",
    "sns.distplot(df[df['mutation'].str.contains('Q493')]['bind_ddgs'].values)\n",
    "plt.show()"
   ]
  },
  {
   "cell_type": "code",
   "execution_count": 23,
   "id": "337fa44b",
   "metadata": {},
   "outputs": [
    {
     "data": {
      "text/plain": [
       "array([-0.17845257,  0.04118136,  2.15515795,  0.76871876, -0.08236272,\n",
       "       -0.01372712,  0.01372712,  0.10981697, -0.0686356 , -0.0686356 ,\n",
       "       -0.24708817,  0.28826953,  0.98835269,  0.        ,  0.12354409,\n",
       "        0.24708817,  0.10981697, -0.0686356 ,  0.19217969, -0.16472545,\n",
       "               nan])"
      ]
     },
     "execution_count": 23,
     "metadata": {},
     "output_type": "execute_result"
    }
   ],
   "source": [
    "df[df['mutation'].str.contains('Q493')]['bind_ddgs'].values"
   ]
  },
  {
   "cell_type": "code",
   "execution_count": null,
   "id": "fa75dbcc",
   "metadata": {},
   "outputs": [],
   "source": []
  }
 ],
 "metadata": {
  "kernelspec": {
   "display_name": "Python 3 (ipykernel)",
   "language": "python",
   "name": "python3"
  },
  "language_info": {
   "codemirror_mode": {
    "name": "ipython",
    "version": 3
   },
   "file_extension": ".py",
   "mimetype": "text/x-python",
   "name": "python",
   "nbconvert_exporter": "python",
   "pygments_lexer": "ipython3",
   "version": "3.8.12"
  }
 },
 "nbformat": 4,
 "nbformat_minor": 5
}
