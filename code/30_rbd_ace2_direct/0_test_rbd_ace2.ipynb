{
 "cells": [
  {
   "cell_type": "code",
   "execution_count": 1,
   "id": "3e2c9ae6",
   "metadata": {
    "scrolled": true
   },
   "outputs": [
    {
     "name": "stderr",
     "output_type": "stream",
     "text": [
      "Warning: importing 'simtk.openmm' is deprecated.  Import 'openmm' instead.\n"
     ]
    }
   ],
   "source": [
    "from simtk import openmm\n",
    "from simtk.openmm import app, unit\n",
    "import mdtraj as md\n",
    "import parmed\n",
    "from copy import deepcopy\n",
    "import numpy as np"
   ]
  },
  {
   "cell_type": "markdown",
   "id": "2f8f39f4",
   "metadata": {},
   "source": [
    "# Compare amber vs omm energies using amber topology for both"
   ]
  },
  {
   "cell_type": "code",
   "execution_count": 27,
   "id": "c65c0e26",
   "metadata": {},
   "outputs": [],
   "source": [
    "# Load prmtop and inpcrd files\n",
    "parm_amber = parmed.load_file(\"../files/glycam/rbd_ace2/RBD_ACE2_complex_FullGlycos.prmtop\", \"../files/glycam/rbd_ace2/RBD_ACE2_complex_FullGlycos.inpcrd\")\n"
   ]
  },
  {
   "cell_type": "code",
   "execution_count": 10,
   "id": "c7e52c4f",
   "metadata": {},
   "outputs": [],
   "source": [
    "# Load the ffxml\n",
    "ffxml = ['../ffxml/protein.ff14SB.xml', \"../ffxml/GLYCAM_06j-1.xml\", \"../ffxml/tip3p_standard.xml\"]\n",
    "ff = app.ForceField(*ffxml)"
   ]
  },
  {
   "cell_type": "code",
   "execution_count": 41,
   "id": "8a145edb",
   "metadata": {},
   "outputs": [],
   "source": [
    "# Create a new topology with H-H bonds in water removed\n",
    "source_topology = parm_amber.topology\n",
    "destination_topology = app.Topology()\n",
    "\n",
    "new_atoms = {}\n",
    "for chain in source_topology.chains():\n",
    "    new_chain = destination_topology.addChain(chain.id)\n",
    "    for residue in chain.residues():\n",
    "        new_residue = destination_topology.addResidue(residue.name, new_chain, residue.id)\n",
    "        for atom in residue.atoms():\n",
    "            new_atom = destination_topology.addAtom(atom.name, atom.element, new_residue, atom.id)\n",
    "            new_atoms[atom] = new_atom\n",
    "for bond in source_topology.bonds():\n",
    "    if bond[0].name in ['H1', 'H2'] and bond[1].name in ['H1', 'H2']:\n",
    "        continue\n",
    "    order = bond.order\n",
    "    destination_topology.addBond(new_atoms[bond[0]], new_atoms[bond[1]], order=order)"
   ]
  },
  {
   "cell_type": "code",
   "execution_count": null,
   "id": "9d3df72e",
   "metadata": {},
   "outputs": [],
   "source": [
    "system_amber = parm_amber.createSystem()"
   ]
  },
  {
   "cell_type": "code",
   "execution_count": 42,
   "id": "5f146fb4",
   "metadata": {},
   "outputs": [],
   "source": [
    "# Create OpenMM system\n",
    "system_omm = ff.createSystem(destination_topology)"
   ]
  },
  {
   "cell_type": "code",
   "execution_count": 52,
   "id": "44893049",
   "metadata": {},
   "outputs": [],
   "source": [
    "# set beta\n",
    "temperature = 300.0 * unit.kelvin\n",
    "kB = unit.BOLTZMANN_CONSTANT_kB * unit.AVOGADRO_CONSTANT_NA\n",
    "kT = kB * temperature\n",
    "beta = 1.0/kT\n",
    "\n",
    "def compute_potential_components(system, positions, beta=beta):\n",
    "    # Note: this is copied from perses\n",
    "    # TODO: consider moving this outside of assert_energies2()\n",
    "    system = deepcopy(system)\n",
    "    for index in range(system.getNumForces()):\n",
    "        force = system.getForce(index)\n",
    "        force.setForceGroup(index)\n",
    "    integrator = openmm.VerletIntegrator(1.0*unit.femtosecond)\n",
    "    platform = openmm.Platform.getPlatformByName('Reference')\n",
    "    context = openmm.Context(system, integrator, platform)\n",
    "    context.setPositions(positions)\n",
    "    energy_components = list()\n",
    "    for index in range(system.getNumForces()):\n",
    "        force = system.getForce(index)\n",
    "        forcename = force.__class__.__name__\n",
    "        groups = 1<<index\n",
    "        potential = beta * context.getState(getEnergy=True, groups=groups).getPotentialEnergy()\n",
    "        energy_components.append((forcename, potential))\n",
    "    del context, integrator\n",
    "    return energy_components"
   ]
  },
  {
   "cell_type": "code",
   "execution_count": 53,
   "id": "0dfe1dcf",
   "metadata": {},
   "outputs": [
    {
     "name": "stdout",
     "output_type": "stream",
     "text": [
      "HarmonicBondForce 1705.7637802995876 1697.7917138842663\n",
      "HarmonicAngleForce 4319.87498025964 4319.861478533262\n",
      "PeriodicTorsionForce 17558.831087421866 17558.873616264365\n",
      "NonbondedForce -1526621.0087427753 -1526621.0093642396\n",
      "CMMotionRemover 0.0 0.0\n"
     ]
    }
   ],
   "source": [
    "amber_energies = compute_potential_components(system_amber, parm_amber.positions)\n",
    "omm_energies = compute_potential_components(system_omm, parm_amber.positions)\n",
    "for amber, omm in zip(amber_energies, omm_energies):\n",
    "    force_name = amber[0]\n",
    "    print(force_name, amber[1], omm[1])"
   ]
  },
  {
   "cell_type": "code",
   "execution_count": null,
   "id": "c631ae79",
   "metadata": {},
   "outputs": [],
   "source": [
    "# The bonds are off here because I got rid of the H1-H2 bonds in waters"
   ]
  },
  {
   "cell_type": "markdown",
   "id": "88bfddd0",
   "metadata": {},
   "source": [
    "# Try parametrizing RBD:ACE2 all in openmm"
   ]
  },
  {
   "cell_type": "code",
   "execution_count": 3,
   "id": "ca925b0b",
   "metadata": {},
   "outputs": [],
   "source": [
    "# rbd_pdb = app.PDBFile(\"../files/glycam/rbd_ace2/3_refined_ace2_rbd_complex_RBD_ONLY_cleaned.pdb\")\n",
    "# ace2_pdb = app.PDBFile(\"../files/glycam/rbd_ace2/3_refined_ace2_rbd_complex_ACE2_ONLY_cleaned.pdb\")\n",
    "# rbd_md_topology = md.Topology.from_openmm(rbd_pdb.topology)\n",
    "# ace2_md_topology = md.Topology.from_openmm(ace2_pdb.topology)\n",
    "# complex_md_topology = rbd_md_topology.join(ace2_md_topology)\n",
    "# complex_topology = complex_md_topology.to_openmm()\n",
    "# complex_positions = unit.Quantity(np.zeros([rbd_md_topology.n_atoms + ace2_md_topology.n_atoms, 3]), unit=unit.nanometers)\n",
    "# complex_positions[:rbd_md_topology.n_atoms, :] = rbd_pdb.positions\n",
    "# complex_positions[rbd_md_topology.n_atoms:, :] = ace2_pdb.positions\n",
    "\n",
    "rbd_ace2_pdb = app.PDBFile(\"/home/zhangi/choderalab/openmmforcefields/amber/files/glycam/rbd_ace2/rbd_ace2_for_openmm_corrected_2.pdb\")\n"
   ]
  },
  {
   "cell_type": "code",
   "execution_count": 4,
   "id": "474f630a",
   "metadata": {},
   "outputs": [],
   "source": [
    "# Load the ffxml\n",
    "ffxml = ['/home/zhangi/choderalab/openmmforcefields/amber/ffxml/protein.ff14SB.xml', \"/home/zhangi/choderalab/openmmforcefields/amber/ffxml/GLYCAM_06j-1.xml\", \"/home/zhangi/choderalab/openmmforcefields/amber/ffxml/tip3p_standard.xml\"]\n",
    "ff = app.ForceField(*ffxml)"
   ]
  },
  {
   "cell_type": "code",
   "execution_count": 5,
   "id": "48e3b7f1",
   "metadata": {},
   "outputs": [],
   "source": [
    "modeller = app.Modeller(rbd_ace2_pdb.topology, rbd_ace2_pdb.positions)\n",
    "modeller.loadHydrogenDefinitions(\"/home/zhangi/choderalab/openmmforcefields/amber/glycam/hydrogens_formatted.xml\")\n",
    "modeller.addHydrogens(ff)\n",
    "modeller.addSolvent(ff, model='tip3p', padding=0.9 * unit.nanometers, ionicStrength=0.15 * unit.molar)"
   ]
  },
  {
   "cell_type": "code",
   "execution_count": 6,
   "id": "2a4f5085",
   "metadata": {},
   "outputs": [],
   "source": [
    "system_omm = ff.createSystem(modeller.topology)"
   ]
  },
  {
   "cell_type": "markdown",
   "id": "16417acd",
   "metadata": {},
   "source": [
    "# Check that the bonds are present connecting protein residues to glycans (they aren't showing up in PyMOL)"
   ]
  },
  {
   "cell_type": "code",
   "execution_count": 5,
   "id": "3426f0e8",
   "metadata": {},
   "outputs": [
    {
     "name": "stdout",
     "output_type": "stream",
     "text": [
      "Bond(<Atom 157 (CA) of chain 0 residue 11 (NLN)>, <Atom 155 (N) of chain 0 residue 11 (NLN)>)\n",
      "Bond(<Atom 159 (CB) of chain 0 residue 11 (NLN)>, <Atom 157 (CA) of chain 0 residue 11 (NLN)>)\n",
      "Bond(<Atom 162 (CG) of chain 0 residue 11 (NLN)>, <Atom 159 (CB) of chain 0 residue 11 (NLN)>)\n",
      "Bond(<Atom 163 (OD1) of chain 0 residue 11 (NLN)>, <Atom 162 (CG) of chain 0 residue 11 (NLN)>)\n",
      "Bond(<Atom 164 (ND2) of chain 0 residue 11 (NLN)>, <Atom 162 (CG) of chain 0 residue 11 (NLN)>)\n",
      "Bond(<Atom 164 (ND2) of chain 0 residue 11 (NLN)>, <Atom 3001 (C1) of chain 0 residue 196 (UYB)>)\n",
      "Bond(<Atom 166 (C) of chain 0 residue 11 (NLN)>, <Atom 157 (CA) of chain 0 residue 11 (NLN)>)\n",
      "Bond(<Atom 166 (C) of chain 0 residue 11 (NLN)>, <Atom 168 (N) of chain 0 residue 12 (ALA)>)\n",
      "Bond(<Atom 167 (O) of chain 0 residue 11 (NLN)>, <Atom 166 (C) of chain 0 residue 11 (NLN)>)\n",
      "Bond(<Atom 153 (C) of chain 0 residue 10 (PHE)>, <Atom 155 (N) of chain 0 residue 11 (NLN)>)\n",
      "Bond(<Atom 3778 (C) of chain 0 residue 240 (THR)>, <Atom 3780 (N) of chain 0 residue 241 (NLN)>)\n",
      "Bond(<Atom 3782 (CA) of chain 0 residue 241 (NLN)>, <Atom 3780 (N) of chain 0 residue 241 (NLN)>)\n",
      "Bond(<Atom 3784 (CB) of chain 0 residue 241 (NLN)>, <Atom 3782 (CA) of chain 0 residue 241 (NLN)>)\n",
      "Bond(<Atom 3787 (CG) of chain 0 residue 241 (NLN)>, <Atom 3784 (CB) of chain 0 residue 241 (NLN)>)\n",
      "Bond(<Atom 3788 (OD1) of chain 0 residue 241 (NLN)>, <Atom 3787 (CG) of chain 0 residue 241 (NLN)>)\n",
      "Bond(<Atom 3789 (ND2) of chain 0 residue 241 (NLN)>, <Atom 3787 (CG) of chain 0 residue 241 (NLN)>)\n",
      "Bond(<Atom 3789 (ND2) of chain 0 residue 241 (NLN)>, <Atom 14585 (C1) of chain 0 residue 915 (UYB)>)\n",
      "Bond(<Atom 3791 (C) of chain 0 residue 241 (NLN)>, <Atom 3782 (CA) of chain 0 residue 241 (NLN)>)\n",
      "Bond(<Atom 3791 (C) of chain 0 residue 241 (NLN)>, <Atom 3793 (N) of chain 0 residue 242 (ILE)>)\n",
      "Bond(<Atom 3792 (O) of chain 0 residue 241 (NLN)>, <Atom 3791 (C) of chain 0 residue 241 (NLN)>)\n",
      "Bond(<Atom 4359 (C) of chain 0 residue 277 (GLN)>, <Atom 4361 (N) of chain 0 residue 278 (NLN)>)\n",
      "Bond(<Atom 4363 (CA) of chain 0 residue 278 (NLN)>, <Atom 4361 (N) of chain 0 residue 278 (NLN)>)\n",
      "Bond(<Atom 4365 (CB) of chain 0 residue 278 (NLN)>, <Atom 4363 (CA) of chain 0 residue 278 (NLN)>)\n",
      "Bond(<Atom 4368 (CG) of chain 0 residue 278 (NLN)>, <Atom 4365 (CB) of chain 0 residue 278 (NLN)>)\n",
      "Bond(<Atom 4369 (OD1) of chain 0 residue 278 (NLN)>, <Atom 4368 (CG) of chain 0 residue 278 (NLN)>)\n",
      "Bond(<Atom 4370 (ND2) of chain 0 residue 278 (NLN)>, <Atom 4368 (CG) of chain 0 residue 278 (NLN)>)\n",
      "Bond(<Atom 4370 (ND2) of chain 0 residue 278 (NLN)>, <Atom 14777 (C1) of chain 0 residue 923 (UYB)>)\n",
      "Bond(<Atom 4372 (C) of chain 0 residue 278 (NLN)>, <Atom 4363 (CA) of chain 0 residue 278 (NLN)>)\n",
      "Bond(<Atom 4372 (C) of chain 0 residue 278 (NLN)>, <Atom 4374 (N) of chain 0 residue 279 (LEU)>)\n",
      "Bond(<Atom 4373 (O) of chain 0 residue 278 (NLN)>, <Atom 4372 (C) of chain 0 residue 278 (NLN)>)\n",
      "Bond(<Atom 4578 (C) of chain 0 residue 290 (GLN)>, <Atom 4580 (N) of chain 0 residue 291 (NLN)>)\n",
      "Bond(<Atom 4582 (CA) of chain 0 residue 291 (NLN)>, <Atom 4580 (N) of chain 0 residue 291 (NLN)>)\n",
      "Bond(<Atom 4584 (CB) of chain 0 residue 291 (NLN)>, <Atom 4582 (CA) of chain 0 residue 291 (NLN)>)\n",
      "Bond(<Atom 4587 (CG) of chain 0 residue 291 (NLN)>, <Atom 4584 (CB) of chain 0 residue 291 (NLN)>)\n",
      "Bond(<Atom 4588 (OD1) of chain 0 residue 291 (NLN)>, <Atom 4587 (CG) of chain 0 residue 291 (NLN)>)\n",
      "Bond(<Atom 4589 (ND2) of chain 0 residue 291 (NLN)>, <Atom 4587 (CG) of chain 0 residue 291 (NLN)>)\n",
      "Bond(<Atom 4589 (ND2) of chain 0 residue 291 (NLN)>, <Atom 14990 (C1) of chain 0 residue 932 (UYB)>)\n",
      "Bond(<Atom 4591 (C) of chain 0 residue 291 (NLN)>, <Atom 4582 (CA) of chain 0 residue 291 (NLN)>)\n",
      "Bond(<Atom 4591 (C) of chain 0 residue 291 (NLN)>, <Atom 4593 (N) of chain 0 residue 292 (GLY)>)\n",
      "Bond(<Atom 4592 (O) of chain 0 residue 291 (NLN)>, <Atom 4591 (C) of chain 0 residue 291 (NLN)>)\n",
      "Bond(<Atom 8060 (C) of chain 0 residue 509 (PRO)>, <Atom 8062 (N) of chain 0 residue 510 (NLN)>)\n",
      "Bond(<Atom 8064 (CA) of chain 0 residue 510 (NLN)>, <Atom 8062 (N) of chain 0 residue 510 (NLN)>)\n",
      "Bond(<Atom 8066 (CB) of chain 0 residue 510 (NLN)>, <Atom 8064 (CA) of chain 0 residue 510 (NLN)>)\n",
      "Bond(<Atom 8069 (CG) of chain 0 residue 510 (NLN)>, <Atom 8066 (CB) of chain 0 residue 510 (NLN)>)\n",
      "Bond(<Atom 8070 (OD1) of chain 0 residue 510 (NLN)>, <Atom 8069 (CG) of chain 0 residue 510 (NLN)>)\n",
      "Bond(<Atom 8071 (ND2) of chain 0 residue 510 (NLN)>, <Atom 8069 (CG) of chain 0 residue 510 (NLN)>)\n",
      "Bond(<Atom 8071 (ND2) of chain 0 residue 510 (NLN)>, <Atom 15182 (C1) of chain 0 residue 940 (UYB)>)\n",
      "Bond(<Atom 8073 (C) of chain 0 residue 510 (NLN)>, <Atom 8064 (CA) of chain 0 residue 510 (NLN)>)\n",
      "Bond(<Atom 8073 (C) of chain 0 residue 510 (NLN)>, <Atom 8075 (N) of chain 0 residue 511 (MET)>)\n",
      "Bond(<Atom 8074 (O) of chain 0 residue 510 (NLN)>, <Atom 8073 (C) of chain 0 residue 510 (NLN)>)\n",
      "Bond(<Atom 9725 (C) of chain 0 residue 619 (ASP)>, <Atom 9727 (N) of chain 0 residue 620 (NLN)>)\n",
      "Bond(<Atom 9729 (CA) of chain 0 residue 620 (NLN)>, <Atom 9727 (N) of chain 0 residue 620 (NLN)>)\n",
      "Bond(<Atom 9731 (CB) of chain 0 residue 620 (NLN)>, <Atom 9729 (CA) of chain 0 residue 620 (NLN)>)\n",
      "Bond(<Atom 9734 (CG) of chain 0 residue 620 (NLN)>, <Atom 9731 (CB) of chain 0 residue 620 (NLN)>)\n",
      "Bond(<Atom 9735 (OD1) of chain 0 residue 620 (NLN)>, <Atom 9734 (CG) of chain 0 residue 620 (NLN)>)\n",
      "Bond(<Atom 9736 (ND2) of chain 0 residue 620 (NLN)>, <Atom 9734 (CG) of chain 0 residue 620 (NLN)>)\n",
      "Bond(<Atom 9736 (ND2) of chain 0 residue 620 (NLN)>, <Atom 15374 (C1) of chain 0 residue 948 (UYB)>)\n",
      "Bond(<Atom 9738 (C) of chain 0 residue 620 (NLN)>, <Atom 9729 (CA) of chain 0 residue 620 (NLN)>)\n",
      "Bond(<Atom 9738 (C) of chain 0 residue 620 (NLN)>, <Atom 9740 (N) of chain 0 residue 621 (GLU)>)\n",
      "Bond(<Atom 9739 (O) of chain 0 residue 620 (NLN)>, <Atom 9738 (C) of chain 0 residue 620 (NLN)>)\n",
      "Bond(<Atom 11626 (C) of chain 0 residue 733 (SER)>, <Atom 11628 (N) of chain 0 residue 734 (NLN)>)\n",
      "Bond(<Atom 11630 (CA) of chain 0 residue 734 (NLN)>, <Atom 11628 (N) of chain 0 residue 734 (NLN)>)\n",
      "Bond(<Atom 11632 (CB) of chain 0 residue 734 (NLN)>, <Atom 11630 (CA) of chain 0 residue 734 (NLN)>)\n",
      "Bond(<Atom 11635 (CG) of chain 0 residue 734 (NLN)>, <Atom 11632 (CB) of chain 0 residue 734 (NLN)>)\n",
      "Bond(<Atom 11636 (OD1) of chain 0 residue 734 (NLN)>, <Atom 11635 (CG) of chain 0 residue 734 (NLN)>)\n",
      "Bond(<Atom 11637 (ND2) of chain 0 residue 734 (NLN)>, <Atom 11635 (CG) of chain 0 residue 734 (NLN)>)\n",
      "Bond(<Atom 11637 (ND2) of chain 0 residue 734 (NLN)>, <Atom 15608 (C1) of chain 0 residue 958 (4YB)>)\n",
      "Bond(<Atom 11639 (C) of chain 0 residue 734 (NLN)>, <Atom 11630 (CA) of chain 0 residue 734 (NLN)>)\n",
      "Bond(<Atom 11639 (C) of chain 0 residue 734 (NLN)>, <Atom 11641 (N) of chain 0 residue 735 (SER)>)\n",
      "Bond(<Atom 11640 (O) of chain 0 residue 734 (NLN)>, <Atom 11639 (C) of chain 0 residue 734 (NLN)>)\n",
      "Bond(<Atom 13985 (C) of chain 0 residue 877 (LYS)>, <Atom 13987 (N) of chain 0 residue 878 (NLN)>)\n",
      "Bond(<Atom 13989 (CA) of chain 0 residue 878 (NLN)>, <Atom 13987 (N) of chain 0 residue 878 (NLN)>)\n",
      "Bond(<Atom 13991 (CB) of chain 0 residue 878 (NLN)>, <Atom 13989 (CA) of chain 0 residue 878 (NLN)>)\n",
      "Bond(<Atom 13994 (CG) of chain 0 residue 878 (NLN)>, <Atom 13991 (CB) of chain 0 residue 878 (NLN)>)\n",
      "Bond(<Atom 13995 (OD1) of chain 0 residue 878 (NLN)>, <Atom 13994 (CG) of chain 0 residue 878 (NLN)>)\n",
      "Bond(<Atom 13996 (ND2) of chain 0 residue 878 (NLN)>, <Atom 13994 (CG) of chain 0 residue 878 (NLN)>)\n",
      "Bond(<Atom 13996 (ND2) of chain 0 residue 878 (NLN)>, <Atom 15780 (C1) of chain 0 residue 965 (UYB)>)\n",
      "Bond(<Atom 13998 (C) of chain 0 residue 878 (NLN)>, <Atom 13989 (CA) of chain 0 residue 878 (NLN)>)\n",
      "Bond(<Atom 13998 (C) of chain 0 residue 878 (NLN)>, <Atom 14000 (N) of chain 0 residue 879 (VAL)>)\n",
      "Bond(<Atom 13999 (O) of chain 0 residue 878 (NLN)>, <Atom 13998 (C) of chain 0 residue 878 (NLN)>)\n",
      "Bond(<Atom 156 (H) of chain 0 residue 11 (NLN)>, <Atom 155 (N) of chain 0 residue 11 (NLN)>)\n",
      "Bond(<Atom 158 (HA) of chain 0 residue 11 (NLN)>, <Atom 157 (CA) of chain 0 residue 11 (NLN)>)\n",
      "Bond(<Atom 160 (HB2) of chain 0 residue 11 (NLN)>, <Atom 159 (CB) of chain 0 residue 11 (NLN)>)\n",
      "Bond(<Atom 161 (HB3) of chain 0 residue 11 (NLN)>, <Atom 159 (CB) of chain 0 residue 11 (NLN)>)\n",
      "Bond(<Atom 165 (HD21) of chain 0 residue 11 (NLN)>, <Atom 164 (ND2) of chain 0 residue 11 (NLN)>)\n",
      "Bond(<Atom 3781 (H) of chain 0 residue 241 (NLN)>, <Atom 3780 (N) of chain 0 residue 241 (NLN)>)\n",
      "Bond(<Atom 3783 (HA) of chain 0 residue 241 (NLN)>, <Atom 3782 (CA) of chain 0 residue 241 (NLN)>)\n",
      "Bond(<Atom 3785 (HB2) of chain 0 residue 241 (NLN)>, <Atom 3784 (CB) of chain 0 residue 241 (NLN)>)\n",
      "Bond(<Atom 3786 (HB3) of chain 0 residue 241 (NLN)>, <Atom 3784 (CB) of chain 0 residue 241 (NLN)>)\n",
      "Bond(<Atom 3790 (HD21) of chain 0 residue 241 (NLN)>, <Atom 3789 (ND2) of chain 0 residue 241 (NLN)>)\n",
      "Bond(<Atom 4362 (H) of chain 0 residue 278 (NLN)>, <Atom 4361 (N) of chain 0 residue 278 (NLN)>)\n",
      "Bond(<Atom 4364 (HA) of chain 0 residue 278 (NLN)>, <Atom 4363 (CA) of chain 0 residue 278 (NLN)>)\n",
      "Bond(<Atom 4366 (HB2) of chain 0 residue 278 (NLN)>, <Atom 4365 (CB) of chain 0 residue 278 (NLN)>)\n",
      "Bond(<Atom 4367 (HB3) of chain 0 residue 278 (NLN)>, <Atom 4365 (CB) of chain 0 residue 278 (NLN)>)\n",
      "Bond(<Atom 4371 (HD21) of chain 0 residue 278 (NLN)>, <Atom 4370 (ND2) of chain 0 residue 278 (NLN)>)\n",
      "Bond(<Atom 4581 (H) of chain 0 residue 291 (NLN)>, <Atom 4580 (N) of chain 0 residue 291 (NLN)>)\n",
      "Bond(<Atom 4583 (HA) of chain 0 residue 291 (NLN)>, <Atom 4582 (CA) of chain 0 residue 291 (NLN)>)\n",
      "Bond(<Atom 4585 (HB2) of chain 0 residue 291 (NLN)>, <Atom 4584 (CB) of chain 0 residue 291 (NLN)>)\n",
      "Bond(<Atom 4586 (HB3) of chain 0 residue 291 (NLN)>, <Atom 4584 (CB) of chain 0 residue 291 (NLN)>)\n",
      "Bond(<Atom 4590 (HD21) of chain 0 residue 291 (NLN)>, <Atom 4589 (ND2) of chain 0 residue 291 (NLN)>)\n",
      "Bond(<Atom 8063 (H) of chain 0 residue 510 (NLN)>, <Atom 8062 (N) of chain 0 residue 510 (NLN)>)\n",
      "Bond(<Atom 8065 (HA) of chain 0 residue 510 (NLN)>, <Atom 8064 (CA) of chain 0 residue 510 (NLN)>)\n",
      "Bond(<Atom 8067 (HB2) of chain 0 residue 510 (NLN)>, <Atom 8066 (CB) of chain 0 residue 510 (NLN)>)\n",
      "Bond(<Atom 8068 (HB3) of chain 0 residue 510 (NLN)>, <Atom 8066 (CB) of chain 0 residue 510 (NLN)>)\n",
      "Bond(<Atom 8072 (HD21) of chain 0 residue 510 (NLN)>, <Atom 8071 (ND2) of chain 0 residue 510 (NLN)>)\n",
      "Bond(<Atom 9728 (H) of chain 0 residue 620 (NLN)>, <Atom 9727 (N) of chain 0 residue 620 (NLN)>)\n",
      "Bond(<Atom 9730 (HA) of chain 0 residue 620 (NLN)>, <Atom 9729 (CA) of chain 0 residue 620 (NLN)>)\n",
      "Bond(<Atom 9732 (HB2) of chain 0 residue 620 (NLN)>, <Atom 9731 (CB) of chain 0 residue 620 (NLN)>)\n",
      "Bond(<Atom 9733 (HB3) of chain 0 residue 620 (NLN)>, <Atom 9731 (CB) of chain 0 residue 620 (NLN)>)\n",
      "Bond(<Atom 9737 (HD21) of chain 0 residue 620 (NLN)>, <Atom 9736 (ND2) of chain 0 residue 620 (NLN)>)\n",
      "Bond(<Atom 11629 (H) of chain 0 residue 734 (NLN)>, <Atom 11628 (N) of chain 0 residue 734 (NLN)>)\n",
      "Bond(<Atom 11631 (HA) of chain 0 residue 734 (NLN)>, <Atom 11630 (CA) of chain 0 residue 734 (NLN)>)\n",
      "Bond(<Atom 11633 (HB2) of chain 0 residue 734 (NLN)>, <Atom 11632 (CB) of chain 0 residue 734 (NLN)>)\n",
      "Bond(<Atom 11634 (HB3) of chain 0 residue 734 (NLN)>, <Atom 11632 (CB) of chain 0 residue 734 (NLN)>)\n",
      "Bond(<Atom 11638 (HD21) of chain 0 residue 734 (NLN)>, <Atom 11637 (ND2) of chain 0 residue 734 (NLN)>)\n",
      "Bond(<Atom 13988 (H) of chain 0 residue 878 (NLN)>, <Atom 13987 (N) of chain 0 residue 878 (NLN)>)\n",
      "Bond(<Atom 13990 (HA) of chain 0 residue 878 (NLN)>, <Atom 13989 (CA) of chain 0 residue 878 (NLN)>)\n",
      "Bond(<Atom 13992 (HB2) of chain 0 residue 878 (NLN)>, <Atom 13991 (CB) of chain 0 residue 878 (NLN)>)\n",
      "Bond(<Atom 13993 (HB3) of chain 0 residue 878 (NLN)>, <Atom 13991 (CB) of chain 0 residue 878 (NLN)>)\n",
      "Bond(<Atom 13997 (HD21) of chain 0 residue 878 (NLN)>, <Atom 13996 (ND2) of chain 0 residue 878 (NLN)>)\n"
     ]
    }
   ],
   "source": [
    "for bond in parm_amber.topology.bonds():\n",
    "    if bond[0].residue.name == 'NLN' or bond[1].residue.name == 'NLN':\n",
    "        print(bond)"
   ]
  }
 ],
 "metadata": {
  "kernelspec": {
   "display_name": "Python 3 (ipykernel)",
   "language": "python",
   "name": "python3"
  },
  "language_info": {
   "codemirror_mode": {
    "name": "ipython",
    "version": 3
   },
   "file_extension": ".py",
   "mimetype": "text/x-python",
   "name": "python",
   "nbconvert_exporter": "python",
   "pygments_lexer": "ipython3",
   "version": "3.8.11"
  }
 },
 "nbformat": 4,
 "nbformat_minor": 5
}
